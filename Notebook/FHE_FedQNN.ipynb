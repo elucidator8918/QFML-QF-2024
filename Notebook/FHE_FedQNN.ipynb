{
 "cells": [
  {
   "cell_type": "markdown",
   "metadata": {},
   "source": [
    "### Import necessary libraries and modules"
   ]
  },
  {
   "cell_type": "code",
   "execution_count": 1,
   "metadata": {},
   "outputs": [
    {
     "name": "stderr",
     "output_type": "stream",
     "text": [
      "2024-07-13 00:16:37,439\tINFO util.py:154 -- Outdated packages:\n",
      "  ipywidgets==7.8.1 found, needs ipywidgets>=8\n",
      "Run `pip install -U ipywidgets`, then restart the notebook server for rich notebook output.\n"
     ]
    }
   ],
   "source": [
    "import os\n",
    "import pickle\n",
    "import time\n",
    "from collections import OrderedDict\n",
    "from typing import (\n",
    "    List, Tuple, Dict, Optional, Callable, Union\n",
    ")\n",
    "import tenseal as ts\n",
    "\n",
    "import numpy as np\n",
    "import torchvision\n",
    "import torch.nn.functional as F\n",
    "import flwr as fl\n",
    "from flwr.common import (\n",
    "    Metrics, EvaluateIns, EvaluateRes, FitIns, FitRes, MetricsAggregationFn, \n",
    "    Scalar, logger, ndarrays_to_parameters_custom, parameters_to_ndarrays_custom,\n",
    "    Parameters, NDArrays\n",
    ")\n",
    "from flwr.server.client_proxy import ClientProxy\n",
    "from flwr.server.client_manager import ClientManager\n",
    "from flwr.server.strategy.aggregate import weighted_loss_avg\n",
    "from logging import WARNING\n",
    "\n",
    "from utils import *"
   ]
  },
  {
   "cell_type": "markdown",
   "metadata": {},
   "source": [
    "### Creation of FHE Keys"
   ]
  },
  {
   "cell_type": "code",
   "execution_count": 2,
   "metadata": {},
   "outputs": [
    {
     "name": "stdout",
     "output_type": "stream",
     "text": [
      "it exists\n"
     ]
    }
   ],
   "source": [
    "def combo_keys(client_path=\"secret.pkl\", server_path=\"server_key.pkl\"):\n",
    "    \"\"\"\n",
    "    To create the public/private keys combination\n",
    "    args:\n",
    "        client_path: path to save the secret key (str)\n",
    "        server_path: path to save the server public key (str)\n",
    "    \"\"\"\n",
    "    context_client = security.context()\n",
    "    security.write_query(client_path, {\"contexte\": context_client.serialize(save_secret_key=True)})\n",
    "    security.write_query(server_path, {\"contexte\": context_client.serialize()})\n",
    "\n",
    "    _, context_client = security.read_query(client_path)\n",
    "    _, context_server = security.read_query(server_path)\n",
    "\n",
    "    context_client = ts.context_from(context_client)\n",
    "    context_server = ts.context_from(context_server)\n",
    "    print(\"Is the client context private?\", (\"Yes\" if context_client.is_private() else \"No\"))\n",
    "    print(\"Is the server context private?\", (\"Yes\" if context_server.is_private() else \"No\"))\n",
    "\n",
    "\n",
    "secret_path = \"secret.pkl\"\n",
    "public_path = \"server_key.pkl\"\n",
    "if os.path.exists(secret_path):\n",
    "    print(\"it exists\")\n",
    "    _, context_client = security.read_query(secret_path)\n",
    "\n",
    "else:\n",
    "    combo_keys(client_path=secret_path, server_path=public_path)"
   ]
  },
  {
   "cell_type": "markdown",
   "metadata": {},
   "source": [
    "### Define the FlowerClient class for federated learning"
   ]
  },
  {
   "cell_type": "code",
   "execution_count": 3,
   "metadata": {},
   "outputs": [],
   "source": [
    "class FlowerClient(fl.client.NumPyClient):\n",
    "    def __init__(self, cid, net, trainloader, valloader, device, batch_size, save_results, matrix_path, roc_path,\n",
    "                 yaml_path, he, classes, context_client):\n",
    "        self.net = net\n",
    "        self.trainloader = trainloader\n",
    "        self.valloader = valloader\n",
    "        self.cid = cid\n",
    "        self.device = device\n",
    "        self.batch_size = batch_size\n",
    "        self.save_results = save_results\n",
    "        self.matrix_path = matrix_path\n",
    "        self.roc_path = roc_path\n",
    "        self.yaml_path = yaml_path\n",
    "        self.he = he\n",
    "        self.classes = classes\n",
    "        self.context_client = context_client\n",
    "\n",
    "    def get_parameters(self, config):\n",
    "        print(f\"[Client {self.cid}] get_parameters\")\n",
    "        return get_parameters2(self.net, self.context_client)\n",
    "\n",
    "    def fit(self, parameters, config):\n",
    "        server_round = config['server_round']\n",
    "        local_epochs = config['local_epochs']\n",
    "        lr = float(config[\"learning_rate\"])\n",
    "\n",
    "        print(f'[Client {self.cid}, round {server_round}] fit, config: {config}')\n",
    "\n",
    "        set_parameters(self.net, parameters, self.context_client)\n",
    "\n",
    "        criterion = torch.nn.CrossEntropyLoss()\n",
    "        optimizer = torch.optim.SGD(self.net.parameters(), lr=lr, momentum=0.9)\n",
    "\n",
    "        results = engine.train(self.net, self.trainloader, self.valloader, optimizer=optimizer, loss_fn=criterion,\n",
    "                               epochs=local_epochs, device=self.device)\n",
    "\n",
    "        if self.save_results:\n",
    "            save_graphs(self.save_results, local_epochs, results, f\"_Client {self.cid}\")\n",
    "\n",
    "        return get_parameters2(self.net, self.context_client), len(self.trainloader), {}\n",
    "\n",
    "    def evaluate(self, parameters, config):\n",
    "        print(f\"[Client {self.cid}] evaluate, config: {config}\")\n",
    "        set_parameters(self.net, parameters, self.context_client)\n",
    "\n",
    "        loss, accuracy, y_pred, y_true, y_proba = engine.test(self.net, self.valloader,\n",
    "                                                              loss_fn=torch.nn.CrossEntropyLoss(), device=self.device)\n",
    "\n",
    "        if self.save_results:\n",
    "            os.makedirs(self.save_results, exist_ok=True)\n",
    "            if self.matrix_path:\n",
    "                save_matrix(y_true, y_pred, self.save_results + self.matrix_path, self.classes)\n",
    "            if self.roc_path:\n",
    "                save_roc(y_true, y_proba, self.save_results + self.roc_path, len(self.classes))\n",
    "\n",
    "        return float(loss), len(self.valloader), {\"accuracy\": float(accuracy)}"
   ]
  },
  {
   "cell_type": "markdown",
   "metadata": {},
   "source": [
    "### Define the client_common function to set up the Flower client"
   ]
  },
  {
   "cell_type": "code",
   "execution_count": 4,
   "metadata": {},
   "outputs": [],
   "source": [
    "def client_common(cid, model_save, path_yaml, path_roc, results_save, path_matrix,\n",
    "                  batch_size, trainloaders, valloaders, DEVICE, CLASSES,\n",
    "                  he=False, secret_path=\"\", server_path=\"\"):\n",
    "    trainloader = trainloaders[int(cid)]\n",
    "    valloader = valloaders[int(cid)]\n",
    "\n",
    "    context_client = None\n",
    "    net = Net(num_classes=len(CLASSES)).to(DEVICE)\n",
    "\n",
    "    if he:\n",
    "        print(\"Run with homomorphic encryption\")\n",
    "        if os.path.exists(secret_path):\n",
    "            with open(secret_path, 'rb') as f:\n",
    "                query = pickle.load(f)\n",
    "            context_client = ts.context_from(query[\"contexte\"])\n",
    "        else:\n",
    "            context_client = security.context()\n",
    "            with open(secret_path, 'wb') as f:\n",
    "                encode = pickle.dumps({\"contexte\": context_client.serialize(save_secret_key=True)})\n",
    "                f.write(encode)\n",
    "        secret_key = context_client.secret_key()\n",
    "    else:\n",
    "        print(\"Run WITHOUT homomorphic encryption\")\n",
    "\n",
    "    if os.path.exists(model_save):\n",
    "        print(\" To get the checkpoint\")\n",
    "        checkpoint = torch.load(model_save, map_location=DEVICE)['model_state_dict']\n",
    "        if he:\n",
    "            print(\"to decrypt model\")\n",
    "            server_query, server_context = security.read_query(server_path)\n",
    "            server_context = ts.context_from(server_context)\n",
    "            for name in checkpoint:\n",
    "                print(name)\n",
    "                checkpoint[name] = torch.tensor(\n",
    "                    security.deserialized_layer(name, server_query[name], server_context).decrypt(secret_key)\n",
    "                )\n",
    "        net.load_state_dict(checkpoint)\n",
    "\n",
    "    return FlowerClient(cid, net, trainloader, valloader, device=DEVICE, batch_size=batch_size,\n",
    "                        matrix_path=path_matrix, roc_path=path_roc, save_results=results_save, yaml_path=path_yaml,\n",
    "                        he=he, context_client=context_client, classes=CLASSES)"
   ]
  },
  {
   "cell_type": "markdown",
   "metadata": {},
   "source": [
    "### Define utility functions for federated learning"
   ]
  },
  {
   "cell_type": "code",
   "execution_count": 5,
   "metadata": {},
   "outputs": [],
   "source": [
    "def weighted_average(metrics: List[Tuple[int, Metrics]]) -> Metrics:\n",
    "    accuracies = [num_examples * m[\"accuracy\"] for num_examples, m in metrics]\n",
    "    examples = [num_examples for num_examples, _ in metrics]\n",
    "    return {\"accuracy\": sum(accuracies) / sum(examples)}\n",
    "\n",
    "def evaluate2(server_round: int, parameters: NDArrays,\n",
    "              config: Dict[str, Scalar]) -> Optional[Tuple[float, Dict[str, Scalar]]]:\n",
    "    set_parameters(central, parameters)\n",
    "    loss, accuracy, y_pred, y_true, y_proba = engine.test(central, testloader, loss_fn=torch.nn.CrossEntropyLoss(),\n",
    "                                                          device=DEVICE)\n",
    "    print(f\"Server-side evaluation loss {loss} / accuracy {accuracy}\")\n",
    "    return loss, {\"accuracy\": accuracy}\n",
    "\n",
    "def get_on_fit_config_fn(epoch=2, lr=0.001, batch_size=32) -> Callable[[int], Dict[str, str]]:\n",
    "    def fit_config(server_round: int) -> Dict[str, str]:\n",
    "        config = {\n",
    "            \"learning_rate\": str(lr),\n",
    "            \"batch_size\": str(batch_size),\n",
    "            \"server_round\": server_round,\n",
    "            \"local_epochs\": epoch\n",
    "        }\n",
    "        return config\n",
    "    return fit_config\n",
    "\n",
    "def aggreg_fit_checkpoint(server_round, aggregated_parameters, central_model, path_checkpoint,\n",
    "                          context_client=None, server_path=\"\"):\n",
    "    if aggregated_parameters is not None:\n",
    "        print(f\"Saving round {server_round} aggregated_parameters...\")\n",
    "        aggregated_ndarrays: List[np.ndarray] = parameters_to_ndarrays_custom(aggregated_parameters, context_client)\n",
    "        if context_client:\n",
    "            def serialized(key, matrix):\n",
    "                if key == 'fc3.weight':\n",
    "                    return matrix.serialize()\n",
    "                else:\n",
    "                    return matrix\n",
    "            server_response = {\n",
    "                **{key: serialized(key, aggregated_ndarrays[i]) for i, key in enumerate(central_model.state_dict().keys())},\n",
    "                \"contexte\": server_context.serialize()\n",
    "            }\n",
    "            security.write_query(server_path, server_response)\n",
    "        else:\n",
    "            params_dict = zip(central_model.state_dict().keys(), aggregated_ndarrays)\n",
    "            state_dict = OrderedDict({k: torch.tensor(v) for k, v in params_dict})\n",
    "            central_model.load_state_dict(state_dict, strict=True)\n",
    "            if path_checkpoint:\n",
    "                torch.save({\n",
    "                    'model_state_dict': central_model.state_dict(),\n",
    "                }, path_checkpoint)"
   ]
  },
  {
   "cell_type": "markdown",
   "metadata": {},
   "source": [
    "### Define the FedCustom strategy class"
   ]
  },
  {
   "cell_type": "code",
   "execution_count": 6,
   "metadata": {},
   "outputs": [],
   "source": [
    "# A Strategy from scratch with the same sampling of the clients as it is in FedAvg\n",
    "# and then change the configuration dictionary\n",
    "class FedCustom(fl.server.strategy.Strategy):\n",
    "    def __init__(\n",
    "            self,\n",
    "            fraction_fit: float = 1.0,\n",
    "            fraction_evaluate: float = 1.0,\n",
    "            min_fit_clients: int = 2,\n",
    "            min_evaluate_clients: int = 2,\n",
    "            min_available_clients: int = 2,\n",
    "            evaluate_fn: Optional[\n",
    "                    Callable[[int, NDArrays, Dict[str, Scalar]], Optional[Tuple[float, Dict[str, Scalar]]]]\n",
    "                ] = None,\n",
    "            on_fit_config_fn: Optional[Callable[[int], Dict[str, Scalar]]] = None,\n",
    "            on_evaluate_config_fn: Optional[Callable[[int], Dict[str, Scalar]]] = None,\n",
    "            accept_failures: bool = True,\n",
    "            initial_parameters: Optional[Parameters] = None,\n",
    "            fit_metrics_aggregation_fn: Optional[MetricsAggregationFn] = None,\n",
    "            evaluate_metrics_aggregation_fn: Optional[MetricsAggregationFn] = None,\n",
    "            context_client=None\n",
    "    ) -> None:\n",
    "        super().__init__()\n",
    "        self.fraction_fit = fraction_fit\n",
    "        self.fraction_evaluate = fraction_evaluate\n",
    "        self.min_fit_clients = min_fit_clients\n",
    "        self.min_evaluate_clients = min_evaluate_clients\n",
    "        self.min_available_clients = min_available_clients\n",
    "        self.evaluate_fn = evaluate_fn\n",
    "        self.on_fit_config_fn = on_fit_config_fn\n",
    "        self.on_evaluate_config_fn = on_evaluate_config_fn,\n",
    "        self.accept_failures = accept_failures\n",
    "        self.initial_parameters = initial_parameters\n",
    "        self.fit_metrics_aggregation_fn = fit_metrics_aggregation_fn\n",
    "        self.evaluate_metrics_aggregation_fn = evaluate_metrics_aggregation_fn\n",
    "        self.context_client = context_client\n",
    "\n",
    "    def __repr__(self) -> str:\n",
    "        # Same function as FedAvg(Strategy)\n",
    "        return f\"FedCustom (accept_failures={self.accept_failures})\"\n",
    "\n",
    "    def initialize_parameters(\n",
    "        self, client_manager: ClientManager\n",
    "    ) -> Optional[Parameters]:\n",
    "        \"\"\"Initialize global model parameters.\"\"\"\n",
    "        # Same function as FedAvg(Strategy)\n",
    "        initial_parameters = self.initial_parameters\n",
    "        self.initial_parameters = None  # Don't keep initial parameters in memory\n",
    "        return initial_parameters\n",
    "\n",
    "    def num_fit_clients(self, num_available_clients: int) -> Tuple[int, int]:\n",
    "        \"\"\"Return sample size and required number of clients.\"\"\"\n",
    "        # Same function as FedAvg(Strategy)\n",
    "        num_clients = int(num_available_clients * self.fraction_fit)\n",
    "        return max(num_clients, self.min_fit_clients), self.min_available_clients\n",
    "\n",
    "    def configure_fit(\n",
    "        self, server_round: int, parameters: Parameters, client_manager: ClientManager\n",
    "    ) -> List[Tuple[ClientProxy, FitIns]]:\n",
    "        \"\"\"Configure the next round of training.\"\"\"\n",
    "        # Sample clients\n",
    "        sample_size, min_num_clients = self.num_fit_clients(\n",
    "            client_manager.num_available()\n",
    "        )\n",
    "\n",
    "        clients = client_manager.sample(\n",
    "            num_clients=sample_size, min_num_clients=min_num_clients\n",
    "        )\n",
    "        # Create custom configs\n",
    "        n_clients = len(clients)\n",
    "        half_clients = n_clients // 2\n",
    "        # Custom fit config function provided\n",
    "        standard_lr = lr\n",
    "        higher_lr = 0.003\n",
    "        config = {\"server_round\": server_round, \"local_epochs\": 1}\n",
    "        if self.on_fit_config_fn is not None:\n",
    "            # Custom fit config function provided\n",
    "            config = self.on_fit_config_fn(server_round)\n",
    "\n",
    "        # fit_ins = FitIns(parameters, config)\n",
    "        # Return client/config pairs\n",
    "        fit_configurations = []\n",
    "        for idx, client in enumerate(clients):\n",
    "            config[\"learning_rate\"] = standard_lr if idx < half_clients else higher_lr\n",
    "            \"\"\"\n",
    "            Each pair of (ClientProxy, FitRes) constitutes \n",
    "            a successful update from one of the previously selected clients.\n",
    "            \"\"\"\n",
    "            fit_configurations.append(\n",
    "                (\n",
    "                    client,\n",
    "                    FitIns(\n",
    "                        parameters,\n",
    "                        config\n",
    "                    )\n",
    "                )\n",
    "            )\n",
    "        # Successful updates from the previously selected and configured clients\n",
    "        return fit_configurations\n",
    "\n",
    "    def aggregate_fit(\n",
    "        self,\n",
    "        server_round: int,\n",
    "        results: List[Tuple[ClientProxy, FitRes]],\n",
    "        failures: List[Union[Tuple[ClientProxy, FitRes], BaseException]],\n",
    "    ) -> Tuple[Optional[Parameters], Dict[str, Scalar]]:\n",
    "        \"\"\"Aggregate fit results using weighted average. (each round)\"\"\"\n",
    "        # Same function as FedAvg(Strategy)\n",
    "        if not results:\n",
    "            return None, {}\n",
    "\n",
    "        # Do not aggregate if there are failures and failures are not accepted\n",
    "        if not self.accept_failures and failures:\n",
    "            return None, {}\n",
    "\n",
    "        # Convert results parameters --> array matrix\n",
    "        weights_results = [\n",
    "            (parameters_to_ndarrays_custom(fit_res.parameters, self.context_client), fit_res.num_examples)\n",
    "            for _, fit_res in results\n",
    "        ]\n",
    "\n",
    "        # Aggregate parameters using weighted average between the clients and convert back to parameters object (bytes)\n",
    "        parameters_aggregated = ndarrays_to_parameters_custom(aggregate_custom(weights_results))\n",
    "\n",
    "        metrics_aggregated = {}\n",
    "        # Aggregate custom metrics if aggregation fn was provided\n",
    "        if self.fit_metrics_aggregation_fn:\n",
    "            fit_metrics = [(res.num_examples, res.metrics) for _, res in results]\n",
    "            metrics_aggregated = self.fit_metrics_aggregation_fn(fit_metrics)\n",
    "\n",
    "        elif server_round == 1:  # Only log this warning once\n",
    "            logger.log(WARNING, \"No fit_metrics_aggregation_fn provided\")\n",
    "\n",
    "        # Same function as SaveModelStrategy(fl.server.strategy.FedAvg)\n",
    "        \"\"\"Aggregate model weights using weighted average and store checkpoint\"\"\"\n",
    "        aggreg_fit_checkpoint(server_round, parameters_aggregated, central, model_save,\n",
    "                              self.context_client, path_crypted)\n",
    "        return parameters_aggregated, metrics_aggregated\n",
    "\n",
    "    def num_evaluation_clients(self, num_available_clients: int) -> Tuple[int, int]:\n",
    "        \"\"\"Use a fraction of available clients for evaluation.\"\"\"\n",
    "        # Same function as FedAvg(Strategy)\n",
    "        num_clients = int(num_available_clients * self.fraction_evaluate)\n",
    "        return max(num_clients, self.min_evaluate_clients), self.min_available_clients\n",
    "\n",
    "    def configure_evaluate(\n",
    "        self, server_round: int, parameters: Parameters, client_manager: ClientManager\n",
    "    ) -> List[Tuple[ClientProxy, EvaluateIns]]:\n",
    "        \"\"\"Configure the next round of evaluation.\"\"\"\n",
    "        # Same function as FedAvg(Strategy)\n",
    "        # Do not configure federated evaluation if fraction eval is 0.\n",
    "        if self.fraction_evaluate == 0.0:\n",
    "            return []\n",
    "\n",
    "        # Parameters and config\n",
    "        config = {}  # {\"server_round\": server_round, \"local_epochs\": 1}\n",
    "\n",
    "        evaluate_ins = EvaluateIns(parameters, config)\n",
    "\n",
    "        # Sample clients\n",
    "        sample_size, min_num_clients = self.num_evaluation_clients(\n",
    "            client_manager.num_available()\n",
    "        )\n",
    "\n",
    "        clients = client_manager.sample(\n",
    "            num_clients=sample_size, min_num_clients=min_num_clients\n",
    "        )\n",
    "\n",
    "        # Return client/config pairs\n",
    "        # Each pair of (ClientProxy, FitRes) constitutes a successful update from one of the previously selected clients\n",
    "        return [(client, evaluate_ins) for client in clients]\n",
    "\n",
    "    def aggregate_evaluate(\n",
    "        self,\n",
    "        server_round: int,\n",
    "        results: List[Tuple[ClientProxy, EvaluateRes]],\n",
    "        failures: List[Union[Tuple[ClientProxy, EvaluateRes], BaseException]],\n",
    "    ) -> Tuple[Optional[float], Dict[str, Scalar]]:\n",
    "        \"\"\"Aggregate evaluation losses using weighted average.\"\"\"\n",
    "        # Same function as FedAvg(Strategy)\n",
    "        if not results:\n",
    "            return None, {}\n",
    "\n",
    "        # Do not aggregate if there are failures and failures are not accepted\n",
    "        if not self.accept_failures and failures:\n",
    "            return None, {}\n",
    "\n",
    "        # Aggregate loss\n",
    "        loss_aggregated = weighted_loss_avg(\n",
    "            [\n",
    "                (evaluate_res.num_examples, evaluate_res.loss)\n",
    "                for _, evaluate_res in results\n",
    "            ]\n",
    "        )\n",
    "\n",
    "        metrics_aggregated = {}\n",
    "        # Aggregate custom metrics if aggregation fn was provided\n",
    "        if self.evaluate_metrics_aggregation_fn:\n",
    "            eval_metrics = [(res.num_examples, res.metrics) for _, res in results]\n",
    "            metrics_aggregated = self.evaluate_metrics_aggregation_fn(eval_metrics)\n",
    "\n",
    "        # Only log this warning once\n",
    "        elif server_round == 1:\n",
    "            logger.log(WARNING, \"No evaluate_metrics_aggregation_fn provided\")\n",
    "\n",
    "        return loss_aggregated, metrics_aggregated\n",
    "\n",
    "    def evaluate(\n",
    "        self, server_round: int, parameters: Parameters\n",
    "    ) -> Optional[Tuple[float, Dict[str, Scalar]]]:\n",
    "        \"\"\"Evaluate global model parameters using an evaluation function.\"\"\"\n",
    "        # Same function as FedAvg(Strategy)\n",
    "        if self.evaluate_fn is None:\n",
    "            # Let's assume we won't perform the global model evaluation on the server side.\n",
    "            return None\n",
    "\n",
    "        # if we have a global model evaluation on the server side :\n",
    "        parameters_ndarrays = parameters_to_ndarrays_custom(parameters, self.context_client)\n",
    "        eval_res = self.evaluate_fn(server_round, parameters_ndarrays, {})\n",
    "\n",
    "        # if you haven't results\n",
    "        if eval_res is None:\n",
    "            return None\n",
    "\n",
    "        loss, metrics = eval_res\n",
    "        return loss, metrics"
   ]
  },
  {
   "cell_type": "markdown",
   "metadata": {},
   "source": [
    "### Set up the federated learning strategy"
   ]
  },
  {
   "cell_type": "code",
   "execution_count": 7,
   "metadata": {},
   "outputs": [],
   "source": [
    "# Set up your variables directly\n",
    "he = True\n",
    "data_path = 'data/'\n",
    "dataset = 'cifar'\n",
    "yaml_path = './results/FL/results.yml'\n",
    "seed = 42\n",
    "num_workers = 0\n",
    "max_epochs = 5\n",
    "batch_size = 256\n",
    "length = 32\n",
    "split = 10\n",
    "device = 'cpu'\n",
    "number_clients = 10\n",
    "save_results = 'results/FL/'\n",
    "matrix_path = 'confusion_matrix.png'\n",
    "roc_path = 'roc.png'\n",
    "model_save = 'cifar_fl.pt'\n",
    "min_fit_clients = 10\n",
    "min_avail_clients = 10\n",
    "min_eval_clients = 10\n",
    "rounds = 2\n",
    "frac_fit = 1.0\n",
    "frac_eval = 0.5\n",
    "lr = 1e-4\n",
    "path_public_key = 'server_key.pkl'"
   ]
  },
  {
   "cell_type": "code",
   "execution_count": 8,
   "metadata": {},
   "outputs": [
    {
     "name": "stdout",
     "output_type": "stream",
     "text": [
      "get public key :  server_key.pkl\n"
     ]
    }
   ],
   "source": [
    "print(\"get public key : \", path_public_key)\n",
    "_, server_context = security.read_query(path_public_key)\n",
    "server_context = ts.context_from(server_context)\n",
    "DEVICE = torch.device(choice_device(device))\n",
    "CLASSES = classes_string(dataset)\n",
    "central = Net(num_classes=len(CLASSES)).to(DEVICE)"
   ]
  },
  {
   "cell_type": "code",
   "execution_count": 9,
   "metadata": {},
   "outputs": [],
   "source": [
    "strategy = FedCustom(\n",
    "    fraction_fit=frac_fit,\n",
    "    fraction_evaluate=frac_eval,\n",
    "    min_fit_clients=min_fit_clients,\n",
    "    min_evaluate_clients=min_eval_clients if min_eval_clients else number_clients // 2,\n",
    "    min_available_clients=min_avail_clients,\n",
    "    evaluate_metrics_aggregation_fn=weighted_average,\n",
    "    initial_parameters=ndarrays_to_parameters_custom(get_parameters2(central)),\n",
    "    evaluate_fn=None if he else evaluate2,\n",
    "    on_fit_config_fn=get_on_fit_config_fn(epoch=max_epochs, batch_size=batch_size),\n",
    "    context_client=server_context\n",
    ")"
   ]
  },
  {
   "cell_type": "code",
   "execution_count": 10,
   "metadata": {},
   "outputs": [
    {
     "name": "stdout",
     "output_type": "stream",
     "text": [
      "Files already downloaded and verified\n",
      "Files already downloaded and verified\n",
      "The training set is created for the classes : ['airplane', 'automobile', 'bird', 'cat', 'deer', 'dog', 'frog', 'horse', 'ship', 'truck']\n"
     ]
    },
    {
     "ename": "",
     "evalue": "",
     "output_type": "error",
     "traceback": [
      "\u001b[1;31mThe Kernel crashed while executing code in the current cell or a previous cell. \n",
      "\u001b[1;31mPlease review the code in the cell(s) to identify a possible cause of the failure. \n",
      "\u001b[1;31mClick <a href='https://aka.ms/vscodeJupyterKernelCrash'>here</a> for more info. \n",
      "\u001b[1;31mView Jupyter <a href='command:jupyter.viewOutput'>log</a> for further details."
     ]
    }
   ],
   "source": [
    "trainloaders, valloaders, testloader = data_setup.load_datasets(num_clients=number_clients,\n",
    "                                                                batch_size=batch_size,\n",
    "                                                                resize=True,\n",
    "                                                                seed=seed,\n",
    "                                                                num_workers=num_workers,\n",
    "                                                                splitter=10,\n",
    "                                                                dataset=dataset,  # Use the specified dataset\n",
    "                                                                data_path=data_path,\n",
    "                                                                data_path_val=None)  # Use the same path for validation data\n",
    "\n",
    "def client_fn(cid: str) -> FlowerClient:\n",
    "    return client_common(cid,\n",
    "                         model_save, path_yaml, path_roc, results_save, path_matrix,\n",
    "                         batch_size, trainloaders, valloaders, DEVICE, CLASSES, he, secret_path, server_path)"
   ]
  },
  {
   "cell_type": "markdown",
   "metadata": {},
   "source": [
    "### Define the client_fn function and set up the simulation"
   ]
  },
  {
   "cell_type": "code",
   "execution_count": 11,
   "metadata": {},
   "outputs": [
    {
     "name": "stderr",
     "output_type": "stream",
     "text": [
      "INFO flwr 2024-07-13 00:16:41,086 | app.py:145 | Starting Flower simulation, config: ServerConfig(num_rounds=2, round_timeout=None)\n"
     ]
    },
    {
     "name": "stdout",
     "output_type": "stream",
     "text": [
      "flwr 1.5.0\n",
      "numpy 1.26.4\n",
      "torch 2.3.1+cu121\n",
      "torchvision 0.18.1+cpu\n",
      "Training on cpu\n",
      "Start simulation\n"
     ]
    },
    {
     "name": "stderr",
     "output_type": "stream",
     "text": [
      "2024-07-13 00:16:43,894\tWARNING services.py:2010 -- WARNING: The object store is using /tmp instead of /dev/shm because /dev/shm has only 66822144 bytes available. This will harm performance! You may be able to free up space by deleting files in /dev/shm. If you are inside a Docker container, you can increase /dev/shm size by passing '--shm-size=1.67gb' to 'docker run' (or add it to the run_options list in a Ray cluster config). Make sure to set this to more than 30% of available RAM.\n",
      "2024-07-13 00:16:45,099\tINFO worker.py:1788 -- Started a local Ray instance.\n",
      "INFO flwr 2024-07-13 00:16:46,317 | app.py:179 | Flower VCE: Ray initialized with resources: {'CPU': 2.0, 'object_store_memory': 1626952089.0, 'memory': 3253904180.0, 'node:__internal_head__': 1.0, 'node:172.16.5.4': 1.0}\n",
      "INFO flwr 2024-07-13 00:16:46,339 | server.py:89 | Initializing global parameters\n",
      "INFO flwr 2024-07-13 00:16:46,347 | server.py:272 | Using initial parameters provided by strategy\n",
      "INFO flwr 2024-07-13 00:16:46,349 | server.py:91 | Evaluating initial parameters\n",
      "INFO flwr 2024-07-13 00:16:46,355 | server.py:104 | FL starting\n",
      "DEBUG flwr 2024-07-13 00:16:46,358 | server.py:222 | fit_round 1: strategy sampled 10 clients (out of 10)\n"
     ]
    },
    {
     "name": "stdout",
     "output_type": "stream",
     "text": [
      "\u001b[36m(launch_and_fit pid=59221)\u001b[0m Run with homomorphic encryption\n",
      "\u001b[36m(launch_and_fit pid=59221)\u001b[0m [Client 8, round 1] fit, config: {'learning_rate': 0.003, 'batch_size': '256', 'server_round': 1, 'local_epochs': 5}\n",
      "\u001b[36m(launch_and_fit pid=59221)\u001b[0m Updated model\n"
     ]
    },
    {
     "name": "stderr",
     "output_type": "stream",
     "text": [
      "  0%|\u001b[34m          \u001b[0m| 0/5 [00:00<?, ?it/s]\n",
      " 20%|\u001b[34m██        \u001b[0m| 1/5 [00:03<00:13,  3.34s/it]\n",
      " 20%|\u001b[34m██        \u001b[0m| 1/5 [00:03<00:13,  3.44s/it]\n"
     ]
    },
    {
     "name": "stdout",
     "output_type": "stream",
     "text": [
      "\u001b[36m(launch_and_fit pid=59220)\u001b[0m \tTrain Epoch: 1 \tTrain_loss: 2.3037 | Train_acc: 10.2560 % | Validation_loss: 2.3039 | Validation_acc: 9.0100 %\n"
     ]
    },
    {
     "name": "stderr",
     "output_type": "stream",
     "text": [
      " 40%|\u001b[34m████      \u001b[0m| 2/5 [00:05<00:07,  2.62s/it]\n",
      "  0%|\u001b[34m          \u001b[0m| 0/5 [00:00<?, ?it/s]\n",
      " 40%|\u001b[34m████      \u001b[0m| 2/5 [00:05<00:07,  2.66s/it]\n"
     ]
    },
    {
     "name": "stdout",
     "output_type": "stream",
     "text": [
      "\u001b[36m(launch_and_fit pid=59220)\u001b[0m Run with homomorphic encryption\n",
      "\u001b[36m(launch_and_fit pid=59220)\u001b[0m [Client 6, round 1] fit, config: {'learning_rate': 0.003, 'batch_size': '256', 'server_round': 1, 'local_epochs': 5}\n",
      "\u001b[36m(launch_and_fit pid=59220)\u001b[0m Updated model\n"
     ]
    },
    {
     "name": "stderr",
     "output_type": "stream",
     "text": [
      " 60%|\u001b[34m██████    \u001b[0m| 3/5 [00:07<00:04,  2.42s/it]\n",
      " 60%|\u001b[34m██████    \u001b[0m| 3/5 [00:07<00:05,  2.52s/it]\n",
      " 80%|\u001b[34m████████  \u001b[0m| 4/5 [00:10<00:02,  2.42s/it]\n"
     ]
    },
    {
     "name": "stdout",
     "output_type": "stream",
     "text": [
      "\u001b[36m(launch_and_fit pid=59220)\u001b[0m \tTrain Epoch: 4 \tTrain_loss: 2.3022 | Train_acc: 10.2718 % | Validation_loss: 2.3026 | Validation_acc: 9.0100 %\u001b[32m [repeated 6x across cluster] (Ray deduplicates logs by default. Set RAY_DEDUP_LOGS=0 to disable log deduplication, or see https://docs.ray.io/en/master/ray-observability/user-guides/configure-logging.html#log-deduplication for more options.)\u001b[0m\n"
     ]
    },
    {
     "name": "stderr",
     "output_type": "stream",
     "text": [
      " 80%|\u001b[34m████████  \u001b[0m| 4/5 [00:10<00:02,  2.48s/it]\n",
      "100%|\u001b[34m██████████\u001b[0m| 5/5 [00:12<00:00,  2.45s/it]\n",
      "100%|\u001b[34m██████████\u001b[0m| 5/5 [00:12<00:00,  2.49s/it]\n"
     ]
    },
    {
     "name": "stdout",
     "output_type": "stream",
     "text": [
      "\u001b[36m(launch_and_fit pid=59220)\u001b[0m save graph in  results/FL/\n",
      "\u001b[36m(launch_and_fit pid=59221)\u001b[0m conv1.weight 4.76837158203125e-06\n",
      "\u001b[36m(launch_and_fit pid=59221)\u001b[0m conv1.bias 1.9073486328125e-06\n",
      "\u001b[36m(launch_and_fit pid=59221)\u001b[0m conv2.weight 9.5367431640625e-07\n",
      "\u001b[36m(launch_and_fit pid=59221)\u001b[0m conv2.bias 7.152557373046875e-07\n",
      "\u001b[36m(launch_and_fit pid=59221)\u001b[0m fc1.weight 1.1920928955078125e-06\n",
      "\u001b[36m(launch_and_fit pid=59221)\u001b[0m fc1.bias 1.1920928955078125e-06\n",
      "\u001b[36m(launch_and_fit pid=59221)\u001b[0m fc2.weight 4.76837158203125e-07\n",
      "\u001b[36m(launch_and_fit pid=59221)\u001b[0m fc2.bias 1.6689300537109375e-06\n",
      "\u001b[36m(launch_and_fit pid=59220)\u001b[0m conv1.weight 4.291534423828125e-06\n",
      "\u001b[36m(launch_and_fit pid=59220)\u001b[0m conv1.bias 1.1920928955078125e-06\n",
      "\u001b[36m(launch_and_fit pid=59220)\u001b[0m conv2.weight 1.1920928955078125e-06\n",
      "\u001b[36m(launch_and_fit pid=59220)\u001b[0m conv2.bias 1.430511474609375e-06\n",
      "\u001b[36m(launch_and_fit pid=59220)\u001b[0m fc1.weight 1.1920928955078125e-06\n",
      "\u001b[36m(launch_and_fit pid=59220)\u001b[0m fc1.bias 7.152557373046875e-07\n",
      "\u001b[36m(launch_and_fit pid=59220)\u001b[0m fc2.weight 7.152557373046875e-07\n",
      "\u001b[36m(launch_and_fit pid=59220)\u001b[0m fc2.bias 7.152557373046875e-07\n",
      "\u001b[36m(launch_and_fit pid=59221)\u001b[0m fc3.weight 7.1513519287109375\n",
      "\u001b[36m(launch_and_fit pid=59221)\u001b[0m fc3.bias 3.0994415283203125e-06\n",
      "\u001b[36m(launch_and_fit pid=59221)\u001b[0m \tTrain Epoch: 5 \tTrain_loss: 2.3014 | Train_acc: 10.2560 % | Validation_loss: 2.3009 | Validation_acc: 13.1692 %\u001b[32m [repeated 3x across cluster]\u001b[0m\n",
      "\u001b[36m(launch_and_fit pid=59221)\u001b[0m save graph in  results/FL/\n",
      "\u001b[36m(launch_and_fit pid=59220)\u001b[0m fc3.weight 7.164484977722168\n",
      "\u001b[36m(launch_and_fit pid=59220)\u001b[0m fc3.bias 3.337860107421875e-06\n",
      "\u001b[33m(raylet)\u001b[0m A worker died or was killed while executing a task by an unexpected system error. To troubleshoot the problem, check the logs for the dead worker. RayTask ID: d0b0eccc2cb8e458d67edfa4ca132e62c4be17ed01000000 Worker ID: 66136c55abfa867734b1b4d47c04af1f77b226ec64c58dcc0ffc535a Node ID: 5437e5de3255e3c36e64ce5b3538380ee2d32b50aea46640d1d35e63 Worker IP address: 172.16.5.4 Worker port: 37423 Worker PID: 59220 Worker exit type: SYSTEM_ERROR Worker exit detail: Worker unexpectedly exits with a connection error code 2. End of file. There are some potential root causes. (1) The process is killed by SIGKILL by OOM killer due to high memory usage. (2) ray stop --force is called. (3) The worker is crashed unexpectedly due to SIGSEGV or other unexpected errors.\n",
      "\u001b[36m(launch_and_fit pid=59221)\u001b[0m Run with homomorphic encryption\n",
      "\u001b[36m(launch_and_fit pid=59221)\u001b[0m [Client 1, round 1] fit, config: {'learning_rate': 0.003, 'batch_size': '256', 'server_round': 1, 'local_epochs': 5}\n",
      "\u001b[36m(launch_and_fit pid=59221)\u001b[0m Updated model\n"
     ]
    },
    {
     "name": "stderr",
     "output_type": "stream",
     "text": [
      "  0%|\u001b[34m          \u001b[0m| 0/5 [00:00<?, ?it/s]\n"
     ]
    },
    {
     "name": "stdout",
     "output_type": "stream",
     "text": [
      "\u001b[36m(launch_and_fit pid=59221)\u001b[0m \tTrain Epoch: 1 \tTrain_loss: 2.3039 | Train_acc: 10.0683 % | Validation_loss: 2.3020 | Validation_acc: 11.7252 %\n"
     ]
    },
    {
     "name": "stderr",
     "output_type": "stream",
     "text": [
      " 20%|\u001b[34m██        \u001b[0m| 1/5 [00:03<00:13,  3.44s/it]\n"
     ]
    },
    {
     "name": "stdout",
     "output_type": "stream",
     "text": [
      "\u001b[36m(launch_and_fit pid=59221)\u001b[0m \tTrain Epoch: 2 \tTrain_loss: 2.3032 | Train_acc: 10.1158 % | Validation_loss: 2.3019 | Validation_acc: 11.7252 %\n"
     ]
    },
    {
     "name": "stderr",
     "output_type": "stream",
     "text": [
      " 40%|\u001b[34m████      \u001b[0m| 2/5 [00:05<00:07,  2.41s/it]\n"
     ]
    },
    {
     "name": "stdout",
     "output_type": "stream",
     "text": [
      "\u001b[36m(launch_and_fit pid=59221)\u001b[0m \tTrain Epoch: 3 \tTrain_loss: 2.3030 | Train_acc: 10.0049 % | Validation_loss: 2.3019 | Validation_acc: 11.7252 %\n"
     ]
    },
    {
     "name": "stderr",
     "output_type": "stream",
     "text": [
      " 60%|\u001b[34m██████    \u001b[0m| 3/5 [00:06<00:04,  2.03s/it]\n"
     ]
    },
    {
     "name": "stdout",
     "output_type": "stream",
     "text": [
      "\u001b[36m(launch_and_fit pid=59221)\u001b[0m \tTrain Epoch: 4 \tTrain_loss: 2.3023 | Train_acc: 10.1316 % | Validation_loss: 2.3018 | Validation_acc: 11.7252 %\n"
     ]
    },
    {
     "name": "stderr",
     "output_type": "stream",
     "text": [
      " 80%|\u001b[34m████████  \u001b[0m| 4/5 [00:08<00:01,  1.92s/it]\n"
     ]
    },
    {
     "name": "stdout",
     "output_type": "stream",
     "text": [
      "\u001b[36m(launch_and_fit pid=59221)\u001b[0m \tTrain Epoch: 5 \tTrain_loss: 2.3018 | Train_acc: 10.0266 % | Validation_loss: 2.3017 | Validation_acc: 11.7252 %\n",
      "\u001b[36m(launch_and_fit pid=59221)\u001b[0m save graph in  results/FL/\n"
     ]
    },
    {
     "name": "stderr",
     "output_type": "stream",
     "text": [
      "100%|\u001b[34m██████████\u001b[0m| 5/5 [00:10<00:00,  2.05s/it]\n"
     ]
    },
    {
     "name": "stdout",
     "output_type": "stream",
     "text": [
      "\u001b[36m(launch_and_fit pid=59221)\u001b[0m conv1.weight 3.814697265625e-06\n",
      "\u001b[36m(launch_and_fit pid=59221)\u001b[0m conv1.bias 1.6689300537109375e-06\n",
      "\u001b[36m(launch_and_fit pid=59221)\u001b[0m conv2.weight 9.5367431640625e-07\n",
      "\u001b[36m(launch_and_fit pid=59221)\u001b[0m conv2.bias 4.76837158203125e-07\n",
      "\u001b[36m(launch_and_fit pid=59221)\u001b[0m fc1.weight 9.5367431640625e-07\n",
      "\u001b[36m(launch_and_fit pid=59221)\u001b[0m fc1.bias 4.76837158203125e-07\n",
      "\u001b[36m(launch_and_fit pid=59221)\u001b[0m fc2.weight 4.76837158203125e-07\n",
      "\u001b[36m(launch_and_fit pid=59221)\u001b[0m fc2.bias 2.384185791015625e-07\n",
      "\u001b[36m(launch_and_fit pid=59221)\u001b[0m fc3.weight 3.5473196506500244\n",
      "\u001b[36m(launch_and_fit pid=59221)\u001b[0m fc3.bias 3.5762786865234375e-06\n",
      "\u001b[36m(launch_and_fit pid=59221)\u001b[0m Run with homomorphic encryption\n",
      "\u001b[36m(launch_and_fit pid=59221)\u001b[0m [Client 3, round 1] fit, config: {'learning_rate': 0.003, 'batch_size': '256', 'server_round': 1, 'local_epochs': 5}\n",
      "\u001b[36m(launch_and_fit pid=59221)\u001b[0m Updated model\n"
     ]
    },
    {
     "name": "stderr",
     "output_type": "stream",
     "text": [
      "  0%|\u001b[34m          \u001b[0m| 0/5 [00:00<?, ?it/s]\n"
     ]
    },
    {
     "name": "stdout",
     "output_type": "stream",
     "text": [
      "\u001b[36m(launch_and_fit pid=59221)\u001b[0m \tTrain Epoch: 1 \tTrain_loss: 2.3034 | Train_acc: 9.7645 % | Validation_loss: 2.3024 | Validation_acc: 10.6013 %\n"
     ]
    },
    {
     "name": "stderr",
     "output_type": "stream",
     "text": [
      " 20%|\u001b[34m██        \u001b[0m| 1/5 [00:03<00:15,  3.97s/it]\n"
     ]
    },
    {
     "name": "stdout",
     "output_type": "stream",
     "text": [
      "\u001b[36m(launch_and_fit pid=59221)\u001b[0m \tTrain Epoch: 2 \tTrain_loss: 2.3029 | Train_acc: 9.7803 % | Validation_loss: 2.3022 | Validation_acc: 10.6013 %\n"
     ]
    },
    {
     "name": "stderr",
     "output_type": "stream",
     "text": [
      " 40%|\u001b[34m████      \u001b[0m| 2/5 [00:05<00:08,  2.76s/it]\n"
     ]
    },
    {
     "name": "stdout",
     "output_type": "stream",
     "text": [
      "\u001b[36m(launch_and_fit pid=59221)\u001b[0m \tTrain Epoch: 3 \tTrain_loss: 2.3023 | Train_acc: 10.3586 % | Validation_loss: 2.3019 | Validation_acc: 11.1968 %\n"
     ]
    },
    {
     "name": "stderr",
     "output_type": "stream",
     "text": [
      " 60%|\u001b[34m██████    \u001b[0m| 3/5 [00:07<00:04,  2.32s/it]\n"
     ]
    },
    {
     "name": "stdout",
     "output_type": "stream",
     "text": [
      "\u001b[36m(launch_and_fit pid=59221)\u001b[0m \tTrain Epoch: 4 \tTrain_loss: 2.3019 | Train_acc: 12.4859 % | Validation_loss: 2.3016 | Validation_acc: 13.8032 %\n"
     ]
    },
    {
     "name": "stderr",
     "output_type": "stream",
     "text": [
      " 80%|\u001b[34m████████  \u001b[0m| 4/5 [00:09<00:02,  2.11s/it]\n"
     ]
    },
    {
     "name": "stdout",
     "output_type": "stream",
     "text": [
      "\u001b[36m(launch_and_fit pid=59221)\u001b[0m \tTrain Epoch: 5 \tTrain_loss: 2.3015 | Train_acc: 15.1587 % | Validation_loss: 2.3014 | Validation_acc: 15.3945 %\n",
      "\u001b[36m(launch_and_fit pid=59221)\u001b[0m save graph in  results/FL/\n"
     ]
    },
    {
     "name": "stderr",
     "output_type": "stream",
     "text": [
      "100%|\u001b[34m██████████\u001b[0m| 5/5 [00:11<00:00,  2.26s/it]\n"
     ]
    },
    {
     "name": "stdout",
     "output_type": "stream",
     "text": [
      "\u001b[36m(launch_and_fit pid=59221)\u001b[0m conv1.weight 3.337860107421875e-06\n",
      "\u001b[36m(launch_and_fit pid=59221)\u001b[0m conv1.bias 7.152557373046875e-07\n",
      "\u001b[36m(launch_and_fit pid=59221)\u001b[0m conv2.weight 7.152557373046875e-07\n",
      "\u001b[36m(launch_and_fit pid=59221)\u001b[0m conv2.bias 4.76837158203125e-07\n",
      "\u001b[36m(launch_and_fit pid=59221)\u001b[0m fc1.weight 4.76837158203125e-07\n",
      "\u001b[36m(launch_and_fit pid=59221)\u001b[0m fc1.bias 2.384185791015625e-07\n",
      "\u001b[36m(launch_and_fit pid=59221)\u001b[0m fc2.weight 2.384185791015625e-07\n",
      "\u001b[36m(launch_and_fit pid=59221)\u001b[0m fc2.bias 4.76837158203125e-07\n",
      "\u001b[36m(launch_and_fit pid=59221)\u001b[0m fc3.weight 3.0418620109558105\n",
      "\u001b[36m(launch_and_fit pid=59221)\u001b[0m fc3.bias 3.0994415283203125e-06\n",
      "\u001b[33m(raylet)\u001b[0m A worker died or was killed while executing a task by an unexpected system error. To troubleshoot the problem, check the logs for the dead worker. RayTask ID: 076cd3ca26c7675dfa1ddd3631ecb87cca32736201000000 Worker ID: e8983da7b043391bb8b78de9b9996dee6a102643dfab5109eab3bb24 Node ID: 5437e5de3255e3c36e64ce5b3538380ee2d32b50aea46640d1d35e63 Worker IP address: 172.16.5.4 Worker port: 36637 Worker PID: 59221 Worker exit type: SYSTEM_ERROR Worker exit detail: The leased worker has unrecoverable failure. Worker is requested to be destroyed when it is returned. Worker exits with an exit code 1. The process receives a SIGTERM.\n",
      "\u001b[36m(launch_and_fit pid=59566)\u001b[0m Run with homomorphic encryption\n",
      "\u001b[36m(launch_and_fit pid=59566)\u001b[0m [Client 4, round 1] fit, config: {'learning_rate': 0.003, 'batch_size': '256', 'server_round': 1, 'local_epochs': 5}\n",
      "\u001b[36m(launch_and_fit pid=59566)\u001b[0m Updated model\n"
     ]
    },
    {
     "name": "stderr",
     "output_type": "stream",
     "text": [
      "  0%|\u001b[34m          \u001b[0m| 0/5 [00:00<?, ?it/s]\n"
     ]
    },
    {
     "name": "stdout",
     "output_type": "stream",
     "text": [
      "\u001b[36m(launch_and_fit pid=59566)\u001b[0m \tTrain Epoch: 1 \tTrain_loss: 2.3043 | Train_acc: 9.3422 % | Validation_loss: 2.3058 | Validation_acc: 9.0004 %\n"
     ]
    },
    {
     "name": "stderr",
     "output_type": "stream",
     "text": [
      " 20%|\u001b[34m██        \u001b[0m| 1/5 [00:02<00:09,  2.46s/it]\n"
     ]
    },
    {
     "name": "stdout",
     "output_type": "stream",
     "text": [
      "\u001b[36m(launch_and_fit pid=59566)\u001b[0m \tTrain Epoch: 2 \tTrain_loss: 2.3037 | Train_acc: 9.3422 % | Validation_loss: 2.3053 | Validation_acc: 9.0004 %\n"
     ]
    },
    {
     "name": "stderr",
     "output_type": "stream",
     "text": [
      " 40%|\u001b[34m████      \u001b[0m| 2/5 [00:04<00:06,  2.28s/it]\n"
     ]
    },
    {
     "name": "stdout",
     "output_type": "stream",
     "text": [
      "\u001b[36m(launch_and_fit pid=59566)\u001b[0m \tTrain Epoch: 3 \tTrain_loss: 2.3030 | Train_acc: 9.4647 % | Validation_loss: 2.3048 | Validation_acc: 9.1957 %\n"
     ]
    },
    {
     "name": "stderr",
     "output_type": "stream",
     "text": [
      " 60%|\u001b[34m██████    \u001b[0m| 3/5 [00:06<00:04,  2.03s/it]\n"
     ]
    },
    {
     "name": "stdout",
     "output_type": "stream",
     "text": [
      "\u001b[36m(launch_and_fit pid=59566)\u001b[0m \tTrain Epoch: 4 \tTrain_loss: 2.3024 | Train_acc: 10.1991 % | Validation_loss: 2.3043 | Validation_acc: 10.8062 %\n"
     ]
    },
    {
     "name": "stderr",
     "output_type": "stream",
     "text": [
      " 80%|\u001b[34m████████  \u001b[0m| 4/5 [00:07<00:01,  1.83s/it]\n"
     ]
    },
    {
     "name": "stdout",
     "output_type": "stream",
     "text": [
      "\u001b[36m(launch_and_fit pid=59566)\u001b[0m \tTrain Epoch: 5 \tTrain_loss: 2.3020 | Train_acc: 12.5129 % | Validation_loss: 2.3039 | Validation_acc: 14.0369 %\n",
      "\u001b[36m(launch_and_fit pid=59566)\u001b[0m save graph in  results/FL/\n"
     ]
    },
    {
     "name": "stderr",
     "output_type": "stream",
     "text": [
      "100%|\u001b[34m██████████\u001b[0m| 5/5 [00:09<00:00,  1.91s/it]\n"
     ]
    },
    {
     "name": "stdout",
     "output_type": "stream",
     "text": [
      "\u001b[36m(launch_and_fit pid=59566)\u001b[0m conv1.weight 3.5762786865234375e-06\n",
      "\u001b[36m(launch_and_fit pid=59566)\u001b[0m conv1.bias 2.1457672119140625e-06\n",
      "\u001b[36m(launch_and_fit pid=59566)\u001b[0m conv2.weight 1.430511474609375e-06\n",
      "\u001b[36m(launch_and_fit pid=59566)\u001b[0m conv2.bias 1.1920928955078125e-06\n",
      "\u001b[36m(launch_and_fit pid=59566)\u001b[0m fc1.weight 7.152557373046875e-07\n",
      "\u001b[36m(launch_and_fit pid=59566)\u001b[0m fc1.bias 7.152557373046875e-07\n",
      "\u001b[36m(launch_and_fit pid=59566)\u001b[0m fc2.weight 4.76837158203125e-07\n",
      "\u001b[36m(launch_and_fit pid=59566)\u001b[0m fc2.bias 7.152557373046875e-07\n",
      "\u001b[36m(launch_and_fit pid=59566)\u001b[0m fc3.weight 3.9922380447387695\n",
      "\u001b[36m(launch_and_fit pid=59566)\u001b[0m fc3.bias 4.0531158447265625e-06\n",
      "\u001b[33m(raylet)\u001b[0m A worker died or was killed while executing a task by an unexpected system error. To troubleshoot the problem, check the logs for the dead worker. RayTask ID: f3e5e5ca646a8d9d35c7ecab7032c5e6900cf2b901000000 Worker ID: dd7d6efa56c130fe1b7fa89f91777b4640a06866dabffde409ebca1c Node ID: 5437e5de3255e3c36e64ce5b3538380ee2d32b50aea46640d1d35e63 Worker IP address: 172.16.5.4 Worker port: 45015 Worker PID: 59566 Worker exit type: SYSTEM_ERROR Worker exit detail: Worker exits unexpectedly. Worker exits with an exit code 1. The process receives a SIGTERM.\n",
      "\u001b[36m(launch_and_fit pid=59970)\u001b[0m Run with homomorphic encryption\n",
      "\u001b[36m(launch_and_fit pid=59970)\u001b[0m [Client 0, round 1] fit, config: {'learning_rate': 0.003, 'batch_size': '256', 'server_round': 1, 'local_epochs': 5}\n",
      "\u001b[36m(launch_and_fit pid=59970)\u001b[0m Updated model\n"
     ]
    },
    {
     "name": "stderr",
     "output_type": "stream",
     "text": [
      "  0%|\u001b[34m          \u001b[0m| 0/5 [00:00<?, ?it/s]\n"
     ]
    },
    {
     "name": "stdout",
     "output_type": "stream",
     "text": [
      "\u001b[36m(launch_and_fit pid=59970)\u001b[0m \tTrain Epoch: 1 \tTrain_loss: 2.3022 | Train_acc: 10.4348 % | Validation_loss: 2.3066 | Validation_acc: 8.3568 %\n"
     ]
    },
    {
     "name": "stderr",
     "output_type": "stream",
     "text": [
      " 20%|\u001b[34m██        \u001b[0m| 1/5 [00:02<00:11,  2.93s/it]\n"
     ]
    },
    {
     "name": "stdout",
     "output_type": "stream",
     "text": [
      "\u001b[36m(launch_and_fit pid=59970)\u001b[0m \tTrain Epoch: 2 \tTrain_loss: 2.3016 | Train_acc: 10.5774 % | Validation_loss: 2.3061 | Validation_acc: 8.5521 %\n"
     ]
    },
    {
     "name": "stderr",
     "output_type": "stream",
     "text": [
      " 40%|\u001b[34m████      \u001b[0m| 2/5 [00:04<00:06,  2.14s/it]\n"
     ]
    },
    {
     "name": "stdout",
     "output_type": "stream",
     "text": [
      "\u001b[36m(launch_and_fit pid=59970)\u001b[0m \tTrain Epoch: 3 \tTrain_loss: 2.3012 | Train_acc: 10.5932 % | Validation_loss: 2.3058 | Validation_acc: 8.5521 %\n"
     ]
    },
    {
     "name": "stderr",
     "output_type": "stream",
     "text": [
      " 60%|\u001b[34m██████    \u001b[0m| 3/5 [00:06<00:04,  2.15s/it]\n"
     ]
    },
    {
     "name": "stdout",
     "output_type": "stream",
     "text": [
      "\u001b[36m(launch_and_fit pid=59970)\u001b[0m \tTrain Epoch: 4 \tTrain_loss: 2.3007 | Train_acc: 10.6307 % | Validation_loss: 2.3054 | Validation_acc: 8.5521 %\n"
     ]
    },
    {
     "name": "stderr",
     "output_type": "stream",
     "text": [
      " 80%|\u001b[34m████████  \u001b[0m| 4/5 [00:08<00:01,  1.96s/it]\n"
     ]
    },
    {
     "name": "stdout",
     "output_type": "stream",
     "text": [
      "\u001b[36m(launch_and_fit pid=59970)\u001b[0m \tTrain Epoch: 5 \tTrain_loss: 2.3004 | Train_acc: 10.7076 % | Validation_loss: 2.3051 | Validation_acc: 8.5521 %\n",
      "\u001b[36m(launch_and_fit pid=59970)\u001b[0m save graph in  results/FL/\n"
     ]
    },
    {
     "name": "stderr",
     "output_type": "stream",
     "text": [
      "100%|\u001b[34m██████████\u001b[0m| 5/5 [00:10<00:00,  2.01s/it]\n"
     ]
    },
    {
     "name": "stdout",
     "output_type": "stream",
     "text": [
      "\u001b[36m(launch_and_fit pid=59970)\u001b[0m conv1.weight 5.0067901611328125e-06\n",
      "\u001b[36m(launch_and_fit pid=59970)\u001b[0m conv1.bias 1.9073486328125e-06\n",
      "\u001b[36m(launch_and_fit pid=59970)\u001b[0m conv2.weight 1.6689300537109375e-06\n",
      "\u001b[36m(launch_and_fit pid=59970)\u001b[0m conv2.bias 1.1920928955078125e-06\n",
      "\u001b[36m(launch_and_fit pid=59970)\u001b[0m fc1.weight 9.5367431640625e-07\n",
      "\u001b[36m(launch_and_fit pid=59970)\u001b[0m fc1.bias 9.5367431640625e-07\n",
      "\u001b[36m(launch_and_fit pid=59970)\u001b[0m fc2.weight 7.152557373046875e-07\n",
      "\u001b[36m(launch_and_fit pid=59970)\u001b[0m fc2.bias 1.1920928955078125e-06\n",
      "\u001b[36m(launch_and_fit pid=59970)\u001b[0m fc3.weight 3.6263155937194824\n",
      "\u001b[36m(launch_and_fit pid=59970)\u001b[0m fc3.bias 4.291534423828125e-06\n",
      "\u001b[33m(raylet)\u001b[0m A worker died or was killed while executing a task by an unexpected system error. To troubleshoot the problem, check the logs for the dead worker. RayTask ID: 019a8eb4fe3d404dec704e4b9cd2f384e6397c9601000000 Worker ID: 1a356373bf8f746b2dab4789f52d42de9f4f485e69ad3db2fd7a2963 Node ID: 5437e5de3255e3c36e64ce5b3538380ee2d32b50aea46640d1d35e63 Worker IP address: 172.16.5.4 Worker port: 46835 Worker PID: 59970 Worker exit type: SYSTEM_ERROR Worker exit detail: Worker exits unexpectedly. Worker exits with an exit code 1. The process receives a SIGTERM.\n",
      "\u001b[36m(launch_and_fit pid=60211)\u001b[0m Run with homomorphic encryption\n",
      "\u001b[36m(launch_and_fit pid=60211)\u001b[0m [Client 6, round 1] fit, config: {'learning_rate': 0.003, 'batch_size': '256', 'server_round': 1, 'local_epochs': 5}\n",
      "\u001b[36m(launch_and_fit pid=60211)\u001b[0m Updated model\n"
     ]
    },
    {
     "name": "stderr",
     "output_type": "stream",
     "text": [
      "  0%|\u001b[34m          \u001b[0m| 0/5 [00:00<?, ?it/s]\n"
     ]
    },
    {
     "name": "stdout",
     "output_type": "stream",
     "text": [
      "\u001b[36m(launch_and_fit pid=60211)\u001b[0m \tTrain Epoch: 1 \tTrain_loss: 2.3036 | Train_acc: 10.2401 % | Validation_loss: 2.3038 | Validation_acc: 9.0100 %\n"
     ]
    },
    {
     "name": "stderr",
     "output_type": "stream",
     "text": [
      " 20%|\u001b[34m██        \u001b[0m| 1/5 [00:02<00:09,  2.32s/it]\n"
     ]
    },
    {
     "name": "stdout",
     "output_type": "stream",
     "text": [
      "\u001b[36m(launch_and_fit pid=60211)\u001b[0m \tTrain Epoch: 2 \tTrain_loss: 2.3032 | Train_acc: 10.1609 % | Validation_loss: 2.3034 | Validation_acc: 9.0100 %\n"
     ]
    },
    {
     "name": "stderr",
     "output_type": "stream",
     "text": [
      " 40%|\u001b[34m████      \u001b[0m| 2/5 [00:04<00:06,  2.03s/it]\n"
     ]
    },
    {
     "name": "stdout",
     "output_type": "stream",
     "text": [
      "\u001b[36m(launch_and_fit pid=60211)\u001b[0m \tTrain Epoch: 3 \tTrain_loss: 2.3027 | Train_acc: 10.1451 % | Validation_loss: 2.3030 | Validation_acc: 9.0100 %\n"
     ]
    },
    {
     "name": "stderr",
     "output_type": "stream",
     "text": [
      " 60%|\u001b[34m██████    \u001b[0m| 3/5 [00:05<00:03,  1.78s/it]\n"
     ]
    },
    {
     "name": "stdout",
     "output_type": "stream",
     "text": [
      "\u001b[36m(launch_and_fit pid=60211)\u001b[0m \tTrain Epoch: 4 \tTrain_loss: 2.3023 | Train_acc: 10.1926 % | Validation_loss: 2.3027 | Validation_acc: 9.0100 %\n"
     ]
    },
    {
     "name": "stderr",
     "output_type": "stream",
     "text": [
      " 80%|\u001b[34m████████  \u001b[0m| 4/5 [00:07<00:01,  1.68s/it]\n"
     ]
    },
    {
     "name": "stdout",
     "output_type": "stream",
     "text": [
      "\u001b[36m(launch_and_fit pid=60211)\u001b[0m \tTrain Epoch: 5 \tTrain_loss: 2.3018 | Train_acc: 10.2085 % | Validation_loss: 2.3024 | Validation_acc: 9.0100 %\n",
      "\u001b[36m(launch_and_fit pid=60211)\u001b[0m save graph in  results/FL/\n"
     ]
    },
    {
     "name": "stderr",
     "output_type": "stream",
     "text": [
      "100%|\u001b[34m██████████\u001b[0m| 5/5 [00:08<00:00,  1.80s/it]\n"
     ]
    },
    {
     "name": "stdout",
     "output_type": "stream",
     "text": [
      "\u001b[36m(launch_and_fit pid=60211)\u001b[0m conv1.weight 3.814697265625e-06\n",
      "\u001b[36m(launch_and_fit pid=60211)\u001b[0m conv1.bias 9.5367431640625e-07\n",
      "\u001b[36m(launch_and_fit pid=60211)\u001b[0m conv2.weight 4.76837158203125e-07\n",
      "\u001b[36m(launch_and_fit pid=60211)\u001b[0m conv2.bias 7.152557373046875e-07\n",
      "\u001b[36m(launch_and_fit pid=60211)\u001b[0m fc1.weight 4.76837158203125e-07\n",
      "\u001b[36m(launch_and_fit pid=60211)\u001b[0m fc1.bias 4.76837158203125e-07\n",
      "\u001b[36m(launch_and_fit pid=60211)\u001b[0m fc2.weight 7.152557373046875e-07\n",
      "\u001b[36m(launch_and_fit pid=60211)\u001b[0m fc2.bias 2.384185791015625e-07\n",
      "\u001b[36m(launch_and_fit pid=60211)\u001b[0m fc3.weight 3.5852584838867188\n",
      "\u001b[36m(launch_and_fit pid=60211)\u001b[0m fc3.bias 3.0994415283203125e-06\n",
      "\u001b[33m(raylet)\u001b[0m A worker died or was killed while executing a task by an unexpected system error. To troubleshoot the problem, check the logs for the dead worker. RayTask ID: 85422fe99283c1b8fa7334bed71a0d53c3283d9f01000000 Worker ID: 2d374611edadf09ae8fd300cc33434dda0071b80a65ade2e53a818d9 Node ID: 5437e5de3255e3c36e64ce5b3538380ee2d32b50aea46640d1d35e63 Worker IP address: 172.16.5.4 Worker port: 35537 Worker PID: 60211 Worker exit type: SYSTEM_ERROR Worker exit detail: Worker exits unexpectedly. Worker exits with an exit code 1. The process receives a SIGTERM.\n",
      "\u001b[36m(launch_and_fit pid=60505)\u001b[0m Run with homomorphic encryption\n"
     ]
    },
    {
     "name": "stderr",
     "output_type": "stream",
     "text": [
      "  0%|\u001b[34m          \u001b[0m| 0/5 [00:00<?, ?it/s]\n"
     ]
    },
    {
     "name": "stdout",
     "output_type": "stream",
     "text": [
      "\u001b[36m(launch_and_fit pid=60505)\u001b[0m [Client 5, round 1] fit, config: {'learning_rate': 0.003, 'batch_size': '256', 'server_round': 1, 'local_epochs': 5}\n",
      "\u001b[36m(launch_and_fit pid=60505)\u001b[0m Updated model\n"
     ]
    },
    {
     "name": "stderr",
     "output_type": "stream",
     "text": [
      " 20%|\u001b[34m██        \u001b[0m| 1/5 [00:02<00:08,  2.14s/it]\n"
     ]
    },
    {
     "name": "stdout",
     "output_type": "stream",
     "text": [
      "\u001b[36m(launch_and_fit pid=60505)\u001b[0m \tTrain Epoch: 1 \tTrain_loss: 2.3040 | Train_acc: 9.4765 % | Validation_loss: 2.3034 | Validation_acc: 8.6386 %\n"
     ]
    },
    {
     "name": "stderr",
     "output_type": "stream",
     "text": [
      " 40%|\u001b[34m████      \u001b[0m| 2/5 [00:03<00:05,  1.93s/it]\n"
     ]
    },
    {
     "name": "stdout",
     "output_type": "stream",
     "text": [
      "\u001b[36m(launch_and_fit pid=60505)\u001b[0m \tTrain Epoch: 2 \tTrain_loss: 2.3035 | Train_acc: 9.4606 % | Validation_loss: 2.3026 | Validation_acc: 8.6386 %\n"
     ]
    },
    {
     "name": "stderr",
     "output_type": "stream",
     "text": [
      " 60%|\u001b[34m██████    \u001b[0m| 3/5 [00:05<00:03,  1.80s/it]\n"
     ]
    },
    {
     "name": "stdout",
     "output_type": "stream",
     "text": [
      "\u001b[36m(launch_and_fit pid=60505)\u001b[0m \tTrain Epoch: 3 \tTrain_loss: 2.3029 | Train_acc: 9.5158 % | Validation_loss: 2.3020 | Validation_acc: 8.8339 %\n"
     ]
    },
    {
     "name": "stderr",
     "output_type": "stream",
     "text": [
      " 80%|\u001b[34m████████  \u001b[0m| 4/5 [00:07<00:01,  1.75s/it]\n"
     ]
    },
    {
     "name": "stdout",
     "output_type": "stream",
     "text": [
      "\u001b[36m(launch_and_fit pid=60505)\u001b[0m \tTrain Epoch: 4 \tTrain_loss: 2.3024 | Train_acc: 10.5316 % | Validation_loss: 2.3013 | Validation_acc: 11.0496 %\n"
     ]
    },
    {
     "name": "stderr",
     "output_type": "stream",
     "text": [
      "100%|\u001b[34m██████████\u001b[0m| 5/5 [00:08<00:00,  1.78s/it]\n"
     ]
    },
    {
     "name": "stdout",
     "output_type": "stream",
     "text": [
      "\u001b[36m(launch_and_fit pid=60505)\u001b[0m \tTrain Epoch: 5 \tTrain_loss: 2.3018 | Train_acc: 13.1082 % | Validation_loss: 2.3008 | Validation_acc: 15.0615 %\n",
      "\u001b[36m(launch_and_fit pid=60505)\u001b[0m save graph in  results/FL/\n",
      "\u001b[36m(launch_and_fit pid=60505)\u001b[0m conv1.weight 5.0067901611328125e-06\n",
      "\u001b[36m(launch_and_fit pid=60505)\u001b[0m conv1.bias 1.6689300537109375e-06\n",
      "\u001b[36m(launch_and_fit pid=60505)\u001b[0m conv2.weight 9.5367431640625e-07\n",
      "\u001b[36m(launch_and_fit pid=60505)\u001b[0m conv2.bias 7.152557373046875e-07\n",
      "\u001b[36m(launch_and_fit pid=60505)\u001b[0m fc1.weight 1.1920928955078125e-06\n",
      "\u001b[36m(launch_and_fit pid=60505)\u001b[0m fc1.bias 1.1920928955078125e-06\n",
      "\u001b[36m(launch_and_fit pid=60505)\u001b[0m fc2.weight 7.152557373046875e-07\n",
      "\u001b[36m(launch_and_fit pid=60505)\u001b[0m fc2.bias 1.1920928955078125e-06\n",
      "\u001b[36m(launch_and_fit pid=60505)\u001b[0m fc3.weight 3.708315372467041\n",
      "\u001b[36m(launch_and_fit pid=60505)\u001b[0m fc3.bias 3.337860107421875e-06\n",
      "\u001b[33m(raylet)\u001b[0m A worker died or was killed while executing a task by an unexpected system error. To troubleshoot the problem, check the logs for the dead worker. RayTask ID: 73b9da631f65823530d2ac16d954210cf911a50a01000000 Worker ID: a5208a361f296edd3a5c716aee1cdf6743b50870d750992de61ddf06 Node ID: 5437e5de3255e3c36e64ce5b3538380ee2d32b50aea46640d1d35e63 Worker IP address: 172.16.5.4 Worker port: 33973 Worker PID: 60505 Worker exit type: SYSTEM_ERROR Worker exit detail: Worker exits unexpectedly. Worker exits with an exit code 1. The process receives a SIGTERM.\n",
      "\u001b[36m(launch_and_fit pid=60773)\u001b[0m Run with homomorphic encryption\n"
     ]
    },
    {
     "name": "stderr",
     "output_type": "stream",
     "text": [
      "  0%|\u001b[34m          \u001b[0m| 0/5 [00:00<?, ?it/s]\n"
     ]
    },
    {
     "name": "stdout",
     "output_type": "stream",
     "text": [
      "\u001b[36m(launch_and_fit pid=60773)\u001b[0m [Client 9, round 1] fit, config: {'learning_rate': 0.003, 'batch_size': '256', 'server_round': 1, 'local_epochs': 5}\n",
      "\u001b[36m(launch_and_fit pid=60773)\u001b[0m Updated model\n"
     ]
    },
    {
     "name": "stderr",
     "output_type": "stream",
     "text": [
      " 20%|\u001b[34m██        \u001b[0m| 1/5 [00:02<00:11,  2.93s/it]\n"
     ]
    },
    {
     "name": "stdout",
     "output_type": "stream",
     "text": [
      "\u001b[36m(launch_and_fit pid=60773)\u001b[0m \tTrain Epoch: 1 \tTrain_loss: 2.3032 | Train_acc: 10.3228 % | Validation_loss: 2.3045 | Validation_acc: 8.6578 %\n"
     ]
    },
    {
     "name": "stderr",
     "output_type": "stream",
     "text": [
      " 40%|\u001b[34m████      \u001b[0m| 2/5 [00:04<00:06,  2.21s/it]\n"
     ]
    },
    {
     "name": "stdout",
     "output_type": "stream",
     "text": [
      "\u001b[36m(launch_and_fit pid=60773)\u001b[0m \tTrain Epoch: 2 \tTrain_loss: 2.3028 | Train_acc: 10.2753 % | Validation_loss: 2.3042 | Validation_acc: 8.6578 %\n"
     ]
    },
    {
     "name": "stderr",
     "output_type": "stream",
     "text": [
      " 60%|\u001b[34m██████    \u001b[0m| 3/5 [00:06<00:04,  2.01s/it]\n"
     ]
    },
    {
     "name": "stdout",
     "output_type": "stream",
     "text": [
      "\u001b[36m(launch_and_fit pid=60773)\u001b[0m \tTrain Epoch: 3 \tTrain_loss: 2.3021 | Train_acc: 10.4495 % | Validation_loss: 2.3038 | Validation_acc: 8.6578 %\n"
     ]
    },
    {
     "name": "stderr",
     "output_type": "stream",
     "text": [
      " 80%|\u001b[34m████████  \u001b[0m| 4/5 [00:07<00:01,  1.78s/it]\n"
     ]
    },
    {
     "name": "stdout",
     "output_type": "stream",
     "text": [
      "\u001b[36m(launch_and_fit pid=60773)\u001b[0m \tTrain Epoch: 4 \tTrain_loss: 2.3017 | Train_acc: 10.2912 % | Validation_loss: 2.3035 | Validation_acc: 8.6578 %\n"
     ]
    },
    {
     "name": "stderr",
     "output_type": "stream",
     "text": [
      "100%|\u001b[34m██████████\u001b[0m| 5/5 [00:09<00:00,  1.86s/it]\n"
     ]
    },
    {
     "name": "stdout",
     "output_type": "stream",
     "text": [
      "\u001b[36m(launch_and_fit pid=60773)\u001b[0m \tTrain Epoch: 5 \tTrain_loss: 2.3014 | Train_acc: 10.3387 % | Validation_loss: 2.3032 | Validation_acc: 8.6578 %\n",
      "\u001b[36m(launch_and_fit pid=60773)\u001b[0m save graph in  results/FL/\n",
      "\u001b[36m(launch_and_fit pid=60773)\u001b[0m conv1.weight 2.5033950805664062e-05\n",
      "\u001b[36m(launch_and_fit pid=60773)\u001b[0m conv1.bias 1.6689300537109375e-06\n",
      "\u001b[36m(launch_and_fit pid=60773)\u001b[0m conv2.weight 9.5367431640625e-07\n",
      "\u001b[36m(launch_and_fit pid=60773)\u001b[0m conv2.bias 4.76837158203125e-07\n",
      "\u001b[36m(launch_and_fit pid=60773)\u001b[0m fc1.weight 4.76837158203125e-07\n",
      "\u001b[36m(launch_and_fit pid=60773)\u001b[0m fc1.bias 7.152557373046875e-07\n",
      "\u001b[36m(launch_and_fit pid=60773)\u001b[0m fc2.weight 4.76837158203125e-07\n",
      "\u001b[36m(launch_and_fit pid=60773)\u001b[0m fc2.bias 4.76837158203125e-07\n",
      "\u001b[36m(launch_and_fit pid=60773)\u001b[0m fc3.weight 3.409067392349243\n",
      "\u001b[36m(launch_and_fit pid=60773)\u001b[0m fc3.bias 4.5299530029296875e-06\n",
      "\u001b[33m(raylet)\u001b[0m A worker died or was killed while executing a task by an unexpected system error. To troubleshoot the problem, check the logs for the dead worker. RayTask ID: 6e7802134906a6d089319c856c1757d4d3c0813401000000 Worker ID: b3d2afa7735c8fba1a51c8cb3de2152662e805dac9fec3e5e53d2c3d Node ID: 5437e5de3255e3c36e64ce5b3538380ee2d32b50aea46640d1d35e63 Worker IP address: 172.16.5.4 Worker port: 39959 Worker PID: 60773 Worker exit type: SYSTEM_ERROR Worker exit detail: Worker exits unexpectedly. Worker exits with an exit code 1. The process receives a SIGTERM.\n",
      "\u001b[36m(launch_and_fit pid=61022)\u001b[0m Run with homomorphic encryption\n",
      "\u001b[36m(launch_and_fit pid=61022)\u001b[0m [Client 3, round 1] fit, config: {'learning_rate': 0.003, 'batch_size': '256', 'server_round': 1, 'local_epochs': 5}\n",
      "\u001b[36m(launch_and_fit pid=61022)\u001b[0m Updated model\n"
     ]
    },
    {
     "name": "stderr",
     "output_type": "stream",
     "text": [
      "  0%|\u001b[34m          \u001b[0m| 0/5 [00:00<?, ?it/s]\n"
     ]
    },
    {
     "name": "stdout",
     "output_type": "stream",
     "text": [
      "\u001b[36m(launch_and_fit pid=61022)\u001b[0m \tTrain Epoch: 1 \tTrain_loss: 2.3035 | Train_acc: 9.7803 % | Validation_loss: 2.3024 | Validation_acc: 10.6013 %\n"
     ]
    },
    {
     "name": "stderr",
     "output_type": "stream",
     "text": [
      " 20%|\u001b[34m██        \u001b[0m| 1/5 [00:02<00:08,  2.20s/it]\n"
     ]
    },
    {
     "name": "stdout",
     "output_type": "stream",
     "text": [
      "\u001b[36m(launch_and_fit pid=61022)\u001b[0m \tTrain Epoch: 2 \tTrain_loss: 2.3029 | Train_acc: 9.7803 % | Validation_loss: 2.3021 | Validation_acc: 10.6013 %\n"
     ]
    },
    {
     "name": "stderr",
     "output_type": "stream",
     "text": [
      " 40%|\u001b[34m████      \u001b[0m| 2/5 [00:03<00:05,  1.86s/it]\n"
     ]
    },
    {
     "name": "stdout",
     "output_type": "stream",
     "text": [
      "\u001b[36m(launch_and_fit pid=61022)\u001b[0m \tTrain Epoch: 3 \tTrain_loss: 2.3023 | Train_acc: 9.9480 % | Validation_loss: 2.3018 | Validation_acc: 10.9919 %\n"
     ]
    },
    {
     "name": "stderr",
     "output_type": "stream",
     "text": [
      " 60%|\u001b[34m██████    \u001b[0m| 3/5 [00:05<00:03,  1.70s/it]\n"
     ]
    },
    {
     "name": "stdout",
     "output_type": "stream",
     "text": [
      "\u001b[36m(launch_and_fit pid=61022)\u001b[0m \tTrain Epoch: 4 \tTrain_loss: 2.3019 | Train_acc: 11.7927 % | Validation_loss: 2.3016 | Validation_acc: 13.6078 %\n"
     ]
    },
    {
     "name": "stderr",
     "output_type": "stream",
     "text": [
      " 80%|\u001b[34m████████  \u001b[0m| 4/5 [00:06<00:01,  1.67s/it]\n"
     ]
    },
    {
     "name": "stdout",
     "output_type": "stream",
     "text": [
      "\u001b[36m(launch_and_fit pid=61022)\u001b[0m \tTrain Epoch: 5 \tTrain_loss: 2.3015 | Train_acc: 15.1886 % | Validation_loss: 2.3013 | Validation_acc: 15.4041 %\n",
      "\u001b[36m(launch_and_fit pid=61022)\u001b[0m save graph in  results/FL/\n"
     ]
    },
    {
     "name": "stderr",
     "output_type": "stream",
     "text": [
      "100%|\u001b[34m██████████\u001b[0m| 5/5 [00:08<00:00,  1.73s/it]\n"
     ]
    },
    {
     "name": "stdout",
     "output_type": "stream",
     "text": [
      "\u001b[36m(launch_and_fit pid=61022)\u001b[0m conv1.weight 3.814697265625e-06\n",
      "\u001b[36m(launch_and_fit pid=61022)\u001b[0m conv1.bias 1.1920928955078125e-06\n",
      "\u001b[36m(launch_and_fit pid=61022)\u001b[0m conv2.weight 7.152557373046875e-07\n",
      "\u001b[36m(launch_and_fit pid=61022)\u001b[0m conv2.bias 4.76837158203125e-07\n",
      "\u001b[36m(launch_and_fit pid=61022)\u001b[0m fc1.weight 7.152557373046875e-07\n",
      "\u001b[36m(launch_and_fit pid=61022)\u001b[0m fc1.bias 4.76837158203125e-07\n",
      "\u001b[36m(launch_and_fit pid=61022)\u001b[0m fc2.weight 2.384185791015625e-07\n",
      "\u001b[36m(launch_and_fit pid=61022)\u001b[0m fc2.bias 7.152557373046875e-07\n",
      "\u001b[36m(launch_and_fit pid=61022)\u001b[0m fc3.weight 3.78198504447937\n",
      "\u001b[36m(launch_and_fit pid=61022)\u001b[0m fc3.bias 3.5762786865234375e-06\n",
      "\u001b[33m(raylet)\u001b[0m A worker died or was killed while executing a task by an unexpected system error. To troubleshoot the problem, check the logs for the dead worker. RayTask ID: 655a79331812032a6dc685f593403ad02962646401000000 Worker ID: 76f1a19637c39293bd0dceab836065ae96334d8240d499cfe8713e78 Node ID: 5437e5de3255e3c36e64ce5b3538380ee2d32b50aea46640d1d35e63 Worker IP address: 172.16.5.4 Worker port: 36675 Worker PID: 61022 Worker exit type: SYSTEM_ERROR Worker exit detail: Worker exits unexpectedly. Worker exits with an exit code 1. The process receives a SIGTERM.\n",
      "\u001b[36m(launch_and_fit pid=61275)\u001b[0m Run with homomorphic encryption\n"
     ]
    },
    {
     "name": "stderr",
     "output_type": "stream",
     "text": [
      "  0%|\u001b[34m          \u001b[0m| 0/5 [00:00<?, ?it/s]\n"
     ]
    },
    {
     "name": "stdout",
     "output_type": "stream",
     "text": [
      "\u001b[36m(launch_and_fit pid=61275)\u001b[0m [Client 7, round 1] fit, config: {'learning_rate': 0.003, 'batch_size': '256', 'server_round': 1, 'local_epochs': 5}\n",
      "\u001b[36m(launch_and_fit pid=61275)\u001b[0m Updated model\n"
     ]
    },
    {
     "name": "stderr",
     "output_type": "stream",
     "text": [
      " 20%|\u001b[34m██        \u001b[0m| 1/5 [00:01<00:07,  1.87s/it]\n"
     ]
    },
    {
     "name": "stdout",
     "output_type": "stream",
     "text": [
      "\u001b[36m(launch_and_fit pid=61275)\u001b[0m \tTrain Epoch: 1 \tTrain_loss: 2.3044 | Train_acc: 9.6577 % | Validation_loss: 2.3007 | Validation_acc: 10.6301 %\n"
     ]
    },
    {
     "name": "stderr",
     "output_type": "stream",
     "text": [
      " 40%|\u001b[34m████      \u001b[0m| 2/5 [00:03<00:05,  1.79s/it]\n"
     ]
    },
    {
     "name": "stdout",
     "output_type": "stream",
     "text": [
      "\u001b[36m(launch_and_fit pid=61275)\u001b[0m \tTrain Epoch: 2 \tTrain_loss: 2.3038 | Train_acc: 9.6894 % | Validation_loss: 2.3006 | Validation_acc: 10.6301 %\n"
     ]
    },
    {
     "name": "stderr",
     "output_type": "stream",
     "text": [
      " 60%|\u001b[34m██████    \u001b[0m| 3/5 [00:05<00:03,  1.65s/it]\n"
     ]
    },
    {
     "name": "stdout",
     "output_type": "stream",
     "text": [
      "\u001b[36m(launch_and_fit pid=61275)\u001b[0m \tTrain Epoch: 3 \tTrain_loss: 2.3032 | Train_acc: 9.7369 % | Validation_loss: 2.3006 | Validation_acc: 10.6301 %\n"
     ]
    },
    {
     "name": "stderr",
     "output_type": "stream",
     "text": [
      " 80%|\u001b[34m████████  \u001b[0m| 4/5 [00:06<00:01,  1.66s/it]\n"
     ]
    },
    {
     "name": "stdout",
     "output_type": "stream",
     "text": [
      "\u001b[36m(launch_and_fit pid=61275)\u001b[0m \tTrain Epoch: 4 \tTrain_loss: 2.3026 | Train_acc: 9.6735 % | Validation_loss: 2.3005 | Validation_acc: 10.6301 %\n"
     ]
    },
    {
     "name": "stderr",
     "output_type": "stream",
     "text": [
      "100%|\u001b[34m██████████\u001b[0m| 5/5 [00:08<00:00,  1.68s/it]\n"
     ]
    },
    {
     "name": "stdout",
     "output_type": "stream",
     "text": [
      "\u001b[36m(launch_and_fit pid=61275)\u001b[0m \tTrain Epoch: 5 \tTrain_loss: 2.3021 | Train_acc: 9.6735 % | Validation_loss: 2.3004 | Validation_acc: 10.6301 %\n",
      "\u001b[36m(launch_and_fit pid=61275)\u001b[0m save graph in  results/FL/\n",
      "\u001b[36m(launch_and_fit pid=61275)\u001b[0m conv1.weight 3.814697265625e-06\n",
      "\u001b[36m(launch_and_fit pid=61275)\u001b[0m conv1.bias 9.5367431640625e-07\n",
      "\u001b[36m(launch_and_fit pid=61275)\u001b[0m conv2.weight 4.76837158203125e-07\n",
      "\u001b[36m(launch_and_fit pid=61275)\u001b[0m conv2.bias 4.76837158203125e-07\n",
      "\u001b[36m(launch_and_fit pid=61275)\u001b[0m fc1.weight 4.76837158203125e-07\n",
      "\u001b[36m(launch_and_fit pid=61275)\u001b[0m fc1.bias 4.76837158203125e-07\n",
      "\u001b[36m(launch_and_fit pid=61275)\u001b[0m fc2.weight 2.384185791015625e-07\n",
      "\u001b[36m(launch_and_fit pid=61275)\u001b[0m fc2.bias 4.76837158203125e-07\n",
      "\u001b[36m(launch_and_fit pid=61275)\u001b[0m fc3.weight 3.386915922164917\n",
      "\u001b[36m(launch_and_fit pid=61275)\u001b[0m fc3.bias 4.0531158447265625e-06\n",
      "\u001b[33m(raylet)\u001b[0m A worker died or was killed while executing a task by an unexpected system error. To troubleshoot the problem, check the logs for the dead worker. RayTask ID: aae9758fa0231fbb00a1c89d3db1e36055ed0c6201000000 Worker ID: 953db7ccae39e08eea3cda1f6769969f068c6d7e23a2685a8b8abb22 Node ID: 5437e5de3255e3c36e64ce5b3538380ee2d32b50aea46640d1d35e63 Worker IP address: 172.16.5.4 Worker port: 46439 Worker PID: 61275 Worker exit type: SYSTEM_ERROR Worker exit detail: Worker exits unexpectedly. Worker exits with an exit code 1. The process receives a SIGTERM.\n",
      "\u001b[36m(launch_and_fit pid=61517)\u001b[0m Run with homomorphic encryption\n"
     ]
    },
    {
     "name": "stderr",
     "output_type": "stream",
     "text": [
      "  0%|\u001b[34m          \u001b[0m| 0/5 [00:00<?, ?it/s]\n"
     ]
    },
    {
     "name": "stdout",
     "output_type": "stream",
     "text": [
      "\u001b[36m(launch_and_fit pid=61517)\u001b[0m [Client 0, round 1] fit, config: {'learning_rate': 0.003, 'batch_size': '256', 'server_round': 1, 'local_epochs': 5}\n",
      "\u001b[36m(launch_and_fit pid=61517)\u001b[0m Updated model\n"
     ]
    },
    {
     "name": "stderr",
     "output_type": "stream",
     "text": [
      " 20%|\u001b[34m██        \u001b[0m| 1/5 [00:01<00:06,  1.71s/it]\n"
     ]
    },
    {
     "name": "stdout",
     "output_type": "stream",
     "text": [
      "\u001b[36m(launch_and_fit pid=61517)\u001b[0m \tTrain Epoch: 1 \tTrain_loss: 2.3018 | Train_acc: 10.5457 % | Validation_loss: 2.3064 | Validation_acc: 8.3568 %\n"
     ]
    },
    {
     "name": "stderr",
     "output_type": "stream",
     "text": [
      " 40%|\u001b[34m████      \u001b[0m| 2/5 [00:03<00:05,  1.88s/it]\n"
     ]
    },
    {
     "name": "stdout",
     "output_type": "stream",
     "text": [
      "\u001b[36m(launch_and_fit pid=61517)\u001b[0m \tTrain Epoch: 2 \tTrain_loss: 2.3015 | Train_acc: 10.5774 % | Validation_loss: 2.3061 | Validation_acc: 8.5521 %\n"
     ]
    },
    {
     "name": "stderr",
     "output_type": "stream",
     "text": [
      " 60%|\u001b[34m██████    \u001b[0m| 3/5 [00:05<00:03,  1.74s/it]\n"
     ]
    },
    {
     "name": "stdout",
     "output_type": "stream",
     "text": [
      "\u001b[36m(launch_and_fit pid=61517)\u001b[0m \tTrain Epoch: 3 \tTrain_loss: 2.3011 | Train_acc: 10.5932 % | Validation_loss: 2.3059 | Validation_acc: 8.5521 %\n"
     ]
    },
    {
     "name": "stderr",
     "output_type": "stream",
     "text": [
      " 80%|\u001b[34m████████  \u001b[0m| 4/5 [00:06<00:01,  1.64s/it]\n"
     ]
    },
    {
     "name": "stdout",
     "output_type": "stream",
     "text": [
      "\u001b[36m(launch_and_fit pid=61517)\u001b[0m \tTrain Epoch: 4 \tTrain_loss: 2.3009 | Train_acc: 10.5574 % | Validation_loss: 2.3056 | Validation_acc: 8.5521 %\n"
     ]
    },
    {
     "name": "stderr",
     "output_type": "stream",
     "text": [
      "100%|\u001b[34m██████████\u001b[0m| 5/5 [00:08<00:00,  1.73s/it]\n"
     ]
    },
    {
     "name": "stdout",
     "output_type": "stream",
     "text": [
      "\u001b[36m(launch_and_fit pid=61517)\u001b[0m \tTrain Epoch: 5 \tTrain_loss: 2.3004 | Train_acc: 10.8830 % | Validation_loss: 2.3052 | Validation_acc: 8.5521 %\n",
      "\u001b[36m(launch_and_fit pid=61517)\u001b[0m save graph in  results/FL/\n",
      "\u001b[36m(launch_and_fit pid=61517)\u001b[0m conv1.weight 3.337860107421875e-06\n",
      "\u001b[36m(launch_and_fit pid=61517)\u001b[0m conv1.bias 7.152557373046875e-07\n",
      "\u001b[36m(launch_and_fit pid=61517)\u001b[0m conv2.weight 4.76837158203125e-07\n",
      "\u001b[36m(launch_and_fit pid=61517)\u001b[0m conv2.bias 4.76837158203125e-07\n",
      "\u001b[36m(launch_and_fit pid=61517)\u001b[0m fc1.weight 7.152557373046875e-07\n",
      "\u001b[36m(launch_and_fit pid=61517)\u001b[0m fc1.bias 4.76837158203125e-07\n",
      "\u001b[36m(launch_and_fit pid=61517)\u001b[0m fc2.weight 4.76837158203125e-07\n",
      "\u001b[36m(launch_and_fit pid=61517)\u001b[0m fc2.bias 4.76837158203125e-07\n",
      "\u001b[36m(launch_and_fit pid=61517)\u001b[0m fc3.weight 3.513773202896118\n",
      "\u001b[36m(launch_and_fit pid=61517)\u001b[0m fc3.bias 2.86102294921875e-06\n",
      "\u001b[33m(raylet)\u001b[0m A worker died or was killed while executing a task by an unexpected system error. To troubleshoot the problem, check the logs for the dead worker. RayTask ID: 34cffb96cfac4ec3bb96ad98d8878f589042132201000000 Worker ID: 346d4f6342f2d5859ce77f4c9fe25afa295167a3c8fece7c8cd06d6c Node ID: 5437e5de3255e3c36e64ce5b3538380ee2d32b50aea46640d1d35e63 Worker IP address: 172.16.5.4 Worker port: 33637 Worker PID: 61517 Worker exit type: SYSTEM_ERROR Worker exit detail: The leased worker has unrecoverable failure. Worker is requested to be destroyed when it is returned. Worker exits with an exit code 1. The process receives a SIGTERM.\n",
      "\u001b[36m(launch_and_fit pid=61760)\u001b[0m Run with homomorphic encryption\n",
      "\u001b[36m(launch_and_fit pid=61760)\u001b[0m [Client 6, round 1] fit, config: {'learning_rate': 0.003, 'batch_size': '256', 'server_round': 1, 'local_epochs': 5}\n",
      "\u001b[36m(launch_and_fit pid=61760)\u001b[0m Updated model\n"
     ]
    },
    {
     "name": "stderr",
     "output_type": "stream",
     "text": [
      "  0%|\u001b[34m          \u001b[0m| 0/5 [00:00<?, ?it/s]\n"
     ]
    },
    {
     "name": "stdout",
     "output_type": "stream",
     "text": [
      "\u001b[36m(launch_and_fit pid=61760)\u001b[0m \tTrain Epoch: 1 \tTrain_loss: 2.3036 | Train_acc: 10.1768 % | Validation_loss: 2.3038 | Validation_acc: 9.0100 %\n"
     ]
    },
    {
     "name": "stderr",
     "output_type": "stream",
     "text": [
      " 20%|\u001b[34m██        \u001b[0m| 1/5 [00:03<00:12,  3.16s/it]\n"
     ]
    },
    {
     "name": "stdout",
     "output_type": "stream",
     "text": [
      "\u001b[36m(launch_and_fit pid=61760)\u001b[0m \tTrain Epoch: 2 \tTrain_loss: 2.3034 | Train_acc: 10.1451 % | Validation_loss: 2.3034 | Validation_acc: 9.0100 %\n"
     ]
    },
    {
     "name": "stderr",
     "output_type": "stream",
     "text": [
      " 40%|\u001b[34m████      \u001b[0m| 2/5 [00:04<00:06,  2.28s/it]\n"
     ]
    },
    {
     "name": "stdout",
     "output_type": "stream",
     "text": [
      "\u001b[36m(launch_and_fit pid=61760)\u001b[0m \tTrain Epoch: 3 \tTrain_loss: 2.3028 | Train_acc: 10.0818 % | Validation_loss: 2.3030 | Validation_acc: 9.0100 %\n"
     ]
    },
    {
     "name": "stderr",
     "output_type": "stream",
     "text": [
      " 60%|\u001b[34m██████    \u001b[0m| 3/5 [00:06<00:03,  1.98s/it]\n"
     ]
    },
    {
     "name": "stdout",
     "output_type": "stream",
     "text": [
      "\u001b[36m(launch_and_fit pid=61760)\u001b[0m \tTrain Epoch: 4 \tTrain_loss: 2.3022 | Train_acc: 10.2876 % | Validation_loss: 2.3026 | Validation_acc: 9.0100 %\n"
     ]
    },
    {
     "name": "stderr",
     "output_type": "stream",
     "text": [
      " 80%|\u001b[34m████████  \u001b[0m| 4/5 [00:08<00:01,  1.84s/it]\n"
     ]
    },
    {
     "name": "stdout",
     "output_type": "stream",
     "text": [
      "\u001b[36m(launch_and_fit pid=61760)\u001b[0m \tTrain Epoch: 5 \tTrain_loss: 2.3019 | Train_acc: 10.1451 % | Validation_loss: 2.3024 | Validation_acc: 9.0100 %\n",
      "\u001b[36m(launch_and_fit pid=61760)\u001b[0m save graph in  results/FL/\n"
     ]
    },
    {
     "name": "stderr",
     "output_type": "stream",
     "text": [
      "100%|\u001b[34m██████████\u001b[0m| 5/5 [00:09<00:00,  1.97s/it]\n"
     ]
    },
    {
     "name": "stdout",
     "output_type": "stream",
     "text": [
      "\u001b[36m(launch_and_fit pid=61760)\u001b[0m conv1.weight 3.5762786865234375e-06\n",
      "\u001b[36m(launch_and_fit pid=61760)\u001b[0m conv1.bias 1.1920928955078125e-06\n",
      "\u001b[36m(launch_and_fit pid=61760)\u001b[0m conv2.weight 9.5367431640625e-07\n",
      "\u001b[36m(launch_and_fit pid=61760)\u001b[0m conv2.bias 4.76837158203125e-07\n",
      "\u001b[36m(launch_and_fit pid=61760)\u001b[0m fc1.weight 9.5367431640625e-07\n",
      "\u001b[36m(launch_and_fit pid=61760)\u001b[0m fc1.bias 2.384185791015625e-07\n",
      "\u001b[36m(launch_and_fit pid=61760)\u001b[0m fc2.weight 2.384185791015625e-07\n",
      "\u001b[36m(launch_and_fit pid=61760)\u001b[0m fc2.bias 4.76837158203125e-07\n",
      "\u001b[36m(launch_and_fit pid=61760)\u001b[0m fc3.weight 3.4238953590393066\n",
      "\u001b[36m(launch_and_fit pid=61760)\u001b[0m fc3.bias 3.337860107421875e-06\n",
      "\u001b[33m(raylet)\u001b[0m A worker died or was killed while executing a task by an unexpected system error. To troubleshoot the problem, check the logs for the dead worker. RayTask ID: 674ab028db3f473f53f0d32e825c02de704c335301000000 Worker ID: c118a889e281746fae65d6b91ab4080e2404e36da2baa43b68196d1b Node ID: 5437e5de3255e3c36e64ce5b3538380ee2d32b50aea46640d1d35e63 Worker IP address: 172.16.5.4 Worker port: 41123 Worker PID: 61760 Worker exit type: SYSTEM_ERROR Worker exit detail: Worker exits unexpectedly. Worker exits with an exit code 1. The process receives a SIGTERM.\n",
      "\u001b[36m(launch_and_fit pid=61993)\u001b[0m Run with homomorphic encryption\n",
      "\u001b[36m(launch_and_fit pid=61993)\u001b[0m [Client 5, round 1] fit, config: {'learning_rate': 0.003, 'batch_size': '256', 'server_round': 1, 'local_epochs': 5}\n"
     ]
    },
    {
     "name": "stderr",
     "output_type": "stream",
     "text": [
      "  0%|\u001b[34m          \u001b[0m| 0/5 [00:00<?, ?it/s]\n"
     ]
    },
    {
     "name": "stdout",
     "output_type": "stream",
     "text": [
      "\u001b[36m(launch_and_fit pid=61993)\u001b[0m Updated model\n"
     ]
    },
    {
     "name": "stderr",
     "output_type": "stream",
     "text": [
      " 20%|\u001b[34m██        \u001b[0m| 1/5 [00:02<00:10,  2.55s/it]\n"
     ]
    },
    {
     "name": "stdout",
     "output_type": "stream",
     "text": [
      "\u001b[36m(launch_and_fit pid=61993)\u001b[0m \tTrain Epoch: 1 \tTrain_loss: 2.3039 | Train_acc: 9.4290 % | Validation_loss: 2.3034 | Validation_acc: 8.6386 %\n"
     ]
    },
    {
     "name": "stderr",
     "output_type": "stream",
     "text": [
      " 40%|\u001b[34m████      \u001b[0m| 2/5 [00:04<00:06,  2.29s/it]\n"
     ]
    },
    {
     "name": "stdout",
     "output_type": "stream",
     "text": [
      "\u001b[36m(launch_and_fit pid=61993)\u001b[0m \tTrain Epoch: 2 \tTrain_loss: 2.3035 | Train_acc: 9.4131 % | Validation_loss: 2.3027 | Validation_acc: 8.6386 %\n"
     ]
    },
    {
     "name": "stderr",
     "output_type": "stream",
     "text": [
      " 60%|\u001b[34m██████    \u001b[0m| 3/5 [00:06<00:03,  1.97s/it]\n"
     ]
    },
    {
     "name": "stdout",
     "output_type": "stream",
     "text": [
      "\u001b[36m(launch_and_fit pid=61993)\u001b[0m \tTrain Epoch: 3 \tTrain_loss: 2.3029 | Train_acc: 9.4190 % | Validation_loss: 2.3020 | Validation_acc: 8.8339 %\n"
     ]
    },
    {
     "name": "stderr",
     "output_type": "stream",
     "text": [
      " 80%|\u001b[34m████████  \u001b[0m| 4/5 [00:07<00:01,  1.84s/it]\n"
     ]
    },
    {
     "name": "stdout",
     "output_type": "stream",
     "text": [
      "\u001b[36m(launch_and_fit pid=61993)\u001b[0m \tTrain Epoch: 4 \tTrain_loss: 2.3022 | Train_acc: 10.5263 % | Validation_loss: 2.3014 | Validation_acc: 11.0496 %\n"
     ]
    },
    {
     "name": "stderr",
     "output_type": "stream",
     "text": [
      "100%|\u001b[34m██████████\u001b[0m| 5/5 [00:09<00:00,  1.93s/it]\n"
     ]
    },
    {
     "name": "stdout",
     "output_type": "stream",
     "text": [
      "\u001b[36m(launch_and_fit pid=61993)\u001b[0m \tTrain Epoch: 5 \tTrain_loss: 2.3018 | Train_acc: 12.5481 % | Validation_loss: 2.3008 | Validation_acc: 14.6516 %\n",
      "\u001b[36m(launch_and_fit pid=61993)\u001b[0m save graph in  results/FL/\n",
      "\u001b[36m(launch_and_fit pid=61993)\u001b[0m conv1.weight 3.0994415283203125e-06\n",
      "\u001b[36m(launch_and_fit pid=61993)\u001b[0m conv1.bias 9.5367431640625e-07\n",
      "\u001b[36m(launch_and_fit pid=61993)\u001b[0m conv2.weight 7.152557373046875e-07\n",
      "\u001b[36m(launch_and_fit pid=61993)\u001b[0m conv2.bias 4.76837158203125e-07\n",
      "\u001b[36m(launch_and_fit pid=61993)\u001b[0m fc1.weight 7.152557373046875e-07\n",
      "\u001b[36m(launch_and_fit pid=61993)\u001b[0m fc1.bias 9.5367431640625e-07\n",
      "\u001b[36m(launch_and_fit pid=61993)\u001b[0m fc2.weight 1.1920928955078125e-06\n",
      "\u001b[36m(launch_and_fit pid=61993)\u001b[0m fc2.bias 9.5367431640625e-07\n",
      "\u001b[36m(launch_and_fit pid=61993)\u001b[0m fc3.weight 3.5533499717712402\n",
      "\u001b[36m(launch_and_fit pid=61993)\u001b[0m fc3.bias 3.5762786865234375e-06\n",
      "\u001b[33m(raylet)\u001b[0m A worker died or was killed while executing a task by an unexpected system error. To troubleshoot the problem, check the logs for the dead worker. RayTask ID: 47cd29163385f221b6910e9ee268cfba6f1af40101000000 Worker ID: 3b5fd362ce9098f09063e9dc2ebc55a33fa72845fc8b1592819185c0 Node ID: 5437e5de3255e3c36e64ce5b3538380ee2d32b50aea46640d1d35e63 Worker IP address: 172.16.5.4 Worker port: 39763 Worker PID: 61993 Worker exit type: SYSTEM_ERROR Worker exit detail: Worker exits unexpectedly. Worker exits with an exit code 1. The process receives a SIGTERM.\n",
      "\u001b[36m(launch_and_fit pid=62266)\u001b[0m Run with homomorphic encryption\n",
      "\u001b[36m(launch_and_fit pid=62266)\u001b[0m [Client 9, round 1] fit, config: {'learning_rate': 0.003, 'batch_size': '256', 'server_round': 1, 'local_epochs': 5}\n"
     ]
    },
    {
     "name": "stderr",
     "output_type": "stream",
     "text": [
      "  0%|\u001b[34m          \u001b[0m| 0/5 [00:00<?, ?it/s]\n"
     ]
    },
    {
     "name": "stdout",
     "output_type": "stream",
     "text": [
      "\u001b[36m(launch_and_fit pid=62266)\u001b[0m Updated model\n"
     ]
    },
    {
     "name": "stderr",
     "output_type": "stream",
     "text": [
      " 20%|\u001b[34m██        \u001b[0m| 1/5 [00:03<00:13,  3.33s/it]\n"
     ]
    },
    {
     "name": "stdout",
     "output_type": "stream",
     "text": [
      "\u001b[36m(launch_and_fit pid=62266)\u001b[0m \tTrain Epoch: 1 \tTrain_loss: 2.3033 | Train_acc: 10.2278 % | Validation_loss: 2.3046 | Validation_acc: 8.6578 %\n"
     ]
    },
    {
     "name": "stderr",
     "output_type": "stream",
     "text": [
      " 40%|\u001b[34m████      \u001b[0m| 2/5 [00:04<00:06,  2.24s/it]\n"
     ]
    },
    {
     "name": "stdout",
     "output_type": "stream",
     "text": [
      "\u001b[36m(launch_and_fit pid=62266)\u001b[0m \tTrain Epoch: 2 \tTrain_loss: 2.3028 | Train_acc: 10.3070 % | Validation_loss: 2.3042 | Validation_acc: 8.6578 %\n"
     ]
    },
    {
     "name": "stderr",
     "output_type": "stream",
     "text": [
      " 60%|\u001b[34m██████    \u001b[0m| 3/5 [00:06<00:03,  1.97s/it]\n"
     ]
    },
    {
     "name": "stdout",
     "output_type": "stream",
     "text": [
      "\u001b[36m(launch_and_fit pid=62266)\u001b[0m \tTrain Epoch: 3 \tTrain_loss: 2.3024 | Train_acc: 10.2278 % | Validation_loss: 2.3038 | Validation_acc: 8.6578 %\n"
     ]
    },
    {
     "name": "stderr",
     "output_type": "stream",
     "text": [
      " 80%|\u001b[34m████████  \u001b[0m| 4/5 [00:08<00:01,  1.87s/it]\n"
     ]
    },
    {
     "name": "stdout",
     "output_type": "stream",
     "text": [
      "\u001b[36m(launch_and_fit pid=62266)\u001b[0m \tTrain Epoch: 4 \tTrain_loss: 2.3018 | Train_acc: 10.2753 % | Validation_loss: 2.3034 | Validation_acc: 8.6578 %\n"
     ]
    },
    {
     "name": "stderr",
     "output_type": "stream",
     "text": [
      "100%|\u001b[34m██████████\u001b[0m| 5/5 [00:10<00:00,  2.02s/it]\n"
     ]
    },
    {
     "name": "stdout",
     "output_type": "stream",
     "text": [
      "\u001b[36m(launch_and_fit pid=62266)\u001b[0m \tTrain Epoch: 5 \tTrain_loss: 2.3013 | Train_acc: 10.3703 % | Validation_loss: 2.3031 | Validation_acc: 8.6578 %\n",
      "\u001b[36m(launch_and_fit pid=62266)\u001b[0m save graph in  results/FL/\n",
      "\u001b[36m(launch_and_fit pid=62266)\u001b[0m conv1.weight 3.814697265625e-06\n",
      "\u001b[36m(launch_and_fit pid=62266)\u001b[0m conv1.bias 1.1920928955078125e-06\n",
      "\u001b[36m(launch_and_fit pid=62266)\u001b[0m conv2.weight 7.152557373046875e-07\n",
      "\u001b[36m(launch_and_fit pid=62266)\u001b[0m conv2.bias 4.76837158203125e-07\n",
      "\u001b[36m(launch_and_fit pid=62266)\u001b[0m fc1.weight 4.76837158203125e-07\n",
      "\u001b[36m(launch_and_fit pid=62266)\u001b[0m fc1.bias 4.76837158203125e-07\n",
      "\u001b[36m(launch_and_fit pid=62266)\u001b[0m fc2.weight 4.76837158203125e-07\n",
      "\u001b[36m(launch_and_fit pid=62266)\u001b[0m fc2.bias 4.76837158203125e-07\n",
      "\u001b[36m(launch_and_fit pid=62266)\u001b[0m fc3.weight 3.7206501960754395\n",
      "\u001b[36m(launch_and_fit pid=62266)\u001b[0m fc3.bias 4.0531158447265625e-06\n",
      "\u001b[33m(raylet)\u001b[0m A worker died or was killed while executing a task by an unexpected system error. To troubleshoot the problem, check the logs for the dead worker. RayTask ID: bb7034e4a85492331a5c4c535f7652e230edcec601000000 Worker ID: b52d09e1f1c117cd6a6cebfd8a89e3caadc1f23bd6c87b0d521750e6 Node ID: 5437e5de3255e3c36e64ce5b3538380ee2d32b50aea46640d1d35e63 Worker IP address: 172.16.5.4 Worker port: 42421 Worker PID: 62266 Worker exit type: SYSTEM_ERROR Worker exit detail: Worker exits unexpectedly. Worker exits with an exit code 1. The process receives a SIGTERM.\n",
      "\u001b[36m(launch_and_fit pid=62526)\u001b[0m Run with homomorphic encryption\n",
      "\u001b[36m(launch_and_fit pid=62526)\u001b[0m [Client 3, round 1] fit, config: {'learning_rate': 0.003, 'batch_size': '256', 'server_round': 1, 'local_epochs': 5}\n",
      "\u001b[36m(launch_and_fit pid=62526)\u001b[0m Updated model\n"
     ]
    },
    {
     "name": "stderr",
     "output_type": "stream",
     "text": [
      "  0%|\u001b[34m          \u001b[0m| 0/5 [00:00<?, ?it/s]\n"
     ]
    },
    {
     "name": "stdout",
     "output_type": "stream",
     "text": [
      "\u001b[36m(launch_and_fit pid=62526)\u001b[0m \tTrain Epoch: 1 \tTrain_loss: 2.3033 | Train_acc: 9.8436 % | Validation_loss: 2.3024 | Validation_acc: 10.6013 %\n"
     ]
    },
    {
     "name": "stderr",
     "output_type": "stream",
     "text": [
      " 20%|\u001b[34m██        \u001b[0m| 1/5 [00:02<00:11,  2.81s/it]\n"
     ]
    },
    {
     "name": "stdout",
     "output_type": "stream",
     "text": [
      "\u001b[36m(launch_and_fit pid=62526)\u001b[0m \tTrain Epoch: 2 \tTrain_loss: 2.3029 | Train_acc: 9.7961 % | Validation_loss: 2.3022 | Validation_acc: 10.6013 %\n"
     ]
    },
    {
     "name": "stderr",
     "output_type": "stream",
     "text": [
      " 40%|\u001b[34m████      \u001b[0m| 2/5 [00:04<00:07,  2.36s/it]\n"
     ]
    },
    {
     "name": "stdout",
     "output_type": "stream",
     "text": [
      "\u001b[36m(launch_and_fit pid=62526)\u001b[0m \tTrain Epoch: 3 \tTrain_loss: 2.3026 | Train_acc: 9.8964 % | Validation_loss: 2.3019 | Validation_acc: 11.1968 %\n"
     ]
    },
    {
     "name": "stderr",
     "output_type": "stream",
     "text": [
      " 60%|\u001b[34m██████    \u001b[0m| 3/5 [00:06<00:04,  2.05s/it]\n"
     ]
    },
    {
     "name": "stdout",
     "output_type": "stream",
     "text": [
      "\u001b[36m(launch_and_fit pid=62526)\u001b[0m \tTrain Epoch: 4 \tTrain_loss: 2.3020 | Train_acc: 12.3041 % | Validation_loss: 2.3016 | Validation_acc: 13.8032 %\n"
     ]
    },
    {
     "name": "stderr",
     "output_type": "stream",
     "text": [
      " 80%|\u001b[34m████████  \u001b[0m| 4/5 [00:08<00:01,  1.87s/it]\n"
     ]
    },
    {
     "name": "stdout",
     "output_type": "stream",
     "text": [
      "\u001b[36m(launch_and_fit pid=62526)\u001b[0m \tTrain Epoch: 5 \tTrain_loss: 2.3015 | Train_acc: 15.1353 % | Validation_loss: 2.3014 | Validation_acc: 15.3945 %\n",
      "\u001b[36m(launch_and_fit pid=62526)\u001b[0m save graph in  results/FL/\n"
     ]
    },
    {
     "name": "stderr",
     "output_type": "stream",
     "text": [
      "100%|\u001b[34m██████████\u001b[0m| 5/5 [00:09<00:00,  1.99s/it]\n"
     ]
    },
    {
     "name": "stdout",
     "output_type": "stream",
     "text": [
      "\u001b[36m(launch_and_fit pid=62526)\u001b[0m conv1.weight 4.291534423828125e-06\n",
      "\u001b[36m(launch_and_fit pid=62526)\u001b[0m conv1.bias 1.430511474609375e-06\n",
      "\u001b[36m(launch_and_fit pid=62526)\u001b[0m conv2.weight 1.1920928955078125e-06\n",
      "\u001b[36m(launch_and_fit pid=62526)\u001b[0m conv2.bias 1.1920928955078125e-06\n",
      "\u001b[36m(launch_and_fit pid=62526)\u001b[0m fc1.weight 9.5367431640625e-07\n",
      "\u001b[36m(launch_and_fit pid=62526)\u001b[0m fc1.bias 9.5367431640625e-07\n",
      "\u001b[36m(launch_and_fit pid=62526)\u001b[0m fc2.weight 9.5367431640625e-07\n",
      "\u001b[36m(launch_and_fit pid=62526)\u001b[0m fc2.bias 1.430511474609375e-06\n",
      "\u001b[36m(launch_and_fit pid=62526)\u001b[0m fc3.weight 3.7813045978546143\n",
      "\u001b[36m(launch_and_fit pid=62526)\u001b[0m fc3.bias 1.811981201171875e-05\n",
      "\u001b[33m(raylet)\u001b[0m A worker died or was killed while executing a task by an unexpected system error. To troubleshoot the problem, check the logs for the dead worker. RayTask ID: 09542a4816eecf317f7844e70aec58a01832743f01000000 Worker ID: 5fbfece2dcd83c101067a778b6b24015fc2a25578d8e63f8446109b6 Node ID: 5437e5de3255e3c36e64ce5b3538380ee2d32b50aea46640d1d35e63 Worker IP address: 172.16.5.4 Worker port: 38567 Worker PID: 62526 Worker exit type: SYSTEM_ERROR Worker exit detail: Worker exits unexpectedly. Worker exits with an exit code 1. The process receives a SIGTERM.\n",
      "\u001b[36m(launch_and_fit pid=62794)\u001b[0m Run with homomorphic encryption\n",
      "\u001b[36m(launch_and_fit pid=62794)\u001b[0m [Client 7, round 1] fit, config: {'learning_rate': 0.003, 'batch_size': '256', 'server_round': 1, 'local_epochs': 5}\n",
      "\u001b[36m(launch_and_fit pid=62794)\u001b[0m Updated model\n"
     ]
    },
    {
     "name": "stderr",
     "output_type": "stream",
     "text": [
      "  0%|\u001b[34m          \u001b[0m| 0/5 [00:00<?, ?it/s]\n"
     ]
    },
    {
     "name": "stdout",
     "output_type": "stream",
     "text": [
      "\u001b[36m(launch_and_fit pid=62794)\u001b[0m \tTrain Epoch: 1 \tTrain_loss: 2.3045 | Train_acc: 9.6419 % | Validation_loss: 2.3007 | Validation_acc: 10.6301 %\n"
     ]
    },
    {
     "name": "stderr",
     "output_type": "stream",
     "text": [
      " 20%|\u001b[34m██        \u001b[0m| 1/5 [00:02<00:10,  2.64s/it]\n"
     ]
    },
    {
     "name": "stdout",
     "output_type": "stream",
     "text": [
      "\u001b[36m(launch_and_fit pid=62794)\u001b[0m \tTrain Epoch: 2 \tTrain_loss: 2.3039 | Train_acc: 9.6419 % | Validation_loss: 2.3006 | Validation_acc: 10.6301 %\n"
     ]
    },
    {
     "name": "stderr",
     "output_type": "stream",
     "text": [
      " 40%|\u001b[34m████      \u001b[0m| 2/5 [00:04<00:06,  2.07s/it]\n"
     ]
    },
    {
     "name": "stdout",
     "output_type": "stream",
     "text": [
      "\u001b[36m(launch_and_fit pid=62794)\u001b[0m \tTrain Epoch: 3 \tTrain_loss: 2.3031 | Train_acc: 9.7844 % | Validation_loss: 2.3006 | Validation_acc: 10.6301 %\n"
     ]
    },
    {
     "name": "stderr",
     "output_type": "stream",
     "text": [
      " 60%|\u001b[34m██████    \u001b[0m| 3/5 [00:06<00:03,  1.93s/it]\n"
     ]
    },
    {
     "name": "stdout",
     "output_type": "stream",
     "text": [
      "\u001b[36m(launch_and_fit pid=62794)\u001b[0m \tTrain Epoch: 4 \tTrain_loss: 2.3024 | Train_acc: 9.7210 % | Validation_loss: 2.3005 | Validation_acc: 10.6301 %\n"
     ]
    },
    {
     "name": "stderr",
     "output_type": "stream",
     "text": [
      " 80%|\u001b[34m████████  \u001b[0m| 4/5 [00:07<00:01,  1.81s/it]\n"
     ]
    },
    {
     "name": "stdout",
     "output_type": "stream",
     "text": [
      "\u001b[36m(launch_and_fit pid=62794)\u001b[0m \tTrain Epoch: 5 \tTrain_loss: 2.3020 | Train_acc: 9.6894 % | Validation_loss: 2.3005 | Validation_acc: 10.6301 %\n",
      "\u001b[36m(launch_and_fit pid=62794)\u001b[0m save graph in  results/FL/\n"
     ]
    },
    {
     "name": "stderr",
     "output_type": "stream",
     "text": [
      "100%|\u001b[34m██████████\u001b[0m| 5/5 [00:09<00:00,  1.94s/it]\n"
     ]
    },
    {
     "name": "stdout",
     "output_type": "stream",
     "text": [
      "\u001b[36m(launch_and_fit pid=62794)\u001b[0m conv1.weight 3.814697265625e-06\n",
      "\u001b[36m(launch_and_fit pid=62794)\u001b[0m conv1.bias 9.5367431640625e-07\n",
      "\u001b[36m(launch_and_fit pid=62794)\u001b[0m conv2.weight 4.76837158203125e-07\n",
      "\u001b[36m(launch_and_fit pid=62794)\u001b[0m conv2.bias 4.76837158203125e-07\n",
      "\u001b[36m(launch_and_fit pid=62794)\u001b[0m fc1.weight 7.152557373046875e-07\n",
      "\u001b[36m(launch_and_fit pid=62794)\u001b[0m fc1.bias 4.76837158203125e-07\n",
      "\u001b[36m(launch_and_fit pid=62794)\u001b[0m fc2.weight 4.76837158203125e-07\n",
      "\u001b[36m(launch_and_fit pid=62794)\u001b[0m fc2.bias 2.384185791015625e-07\n",
      "\u001b[36m(launch_and_fit pid=62794)\u001b[0m fc3.weight 3.542314291000366\n",
      "\u001b[36m(launch_and_fit pid=62794)\u001b[0m fc3.bias 3.814697265625e-06\n",
      "\u001b[33m(raylet)\u001b[0m A worker died or was killed while executing a task by an unexpected system error. To troubleshoot the problem, check the logs for the dead worker. RayTask ID: e485df0db5c86541695b743abe7ddfc80884da1701000000 Worker ID: 310df56beeb441c11f5c4a6f5d790d6b17497eee2c448058514d8ad2 Node ID: 5437e5de3255e3c36e64ce5b3538380ee2d32b50aea46640d1d35e63 Worker IP address: 172.16.5.4 Worker port: 40595 Worker PID: 62794 Worker exit type: SYSTEM_ERROR Worker exit detail: The leased worker has unrecoverable failure. Worker is requested to be destroyed when it is returned. Worker exits with an exit code 1. The process receives a SIGTERM.\n",
      "\u001b[36m(launch_and_fit pid=63028)\u001b[0m Run with homomorphic encryption\n",
      "\u001b[36m(launch_and_fit pid=63028)\u001b[0m [Client 0, round 1] fit, config: {'learning_rate': 0.003, 'batch_size': '256', 'server_round': 1, 'local_epochs': 5}\n",
      "\u001b[36m(launch_and_fit pid=63028)\u001b[0m Updated model\n"
     ]
    },
    {
     "name": "stderr",
     "output_type": "stream",
     "text": [
      "  0%|\u001b[34m          \u001b[0m| 0/5 [00:00<?, ?it/s]\n"
     ]
    },
    {
     "name": "stdout",
     "output_type": "stream",
     "text": [
      "\u001b[36m(launch_and_fit pid=63028)\u001b[0m \tTrain Epoch: 1 \tTrain_loss: 2.3017 | Train_acc: 10.6407 % | Validation_loss: 2.3065 | Validation_acc: 8.3568 %\n"
     ]
    },
    {
     "name": "stderr",
     "output_type": "stream",
     "text": [
      " 20%|\u001b[34m██        \u001b[0m| 1/5 [00:01<00:07,  1.98s/it]\n"
     ]
    },
    {
     "name": "stdout",
     "output_type": "stream",
     "text": [
      "\u001b[36m(launch_and_fit pid=63028)\u001b[0m \tTrain Epoch: 2 \tTrain_loss: 2.3014 | Train_acc: 10.6090 % | Validation_loss: 2.3062 | Validation_acc: 8.3568 %\n"
     ]
    },
    {
     "name": "stderr",
     "output_type": "stream",
     "text": [
      " 40%|\u001b[34m████      \u001b[0m| 2/5 [00:04<00:06,  2.06s/it]\n"
     ]
    },
    {
     "name": "stdout",
     "output_type": "stream",
     "text": [
      "\u001b[36m(launch_and_fit pid=63028)\u001b[0m \tTrain Epoch: 3 \tTrain_loss: 2.3011 | Train_acc: 10.5932 % | Validation_loss: 2.3058 | Validation_acc: 8.5521 %\n"
     ]
    },
    {
     "name": "stderr",
     "output_type": "stream",
     "text": [
      " 60%|\u001b[34m██████    \u001b[0m| 3/5 [00:05<00:03,  1.93s/it]\n"
     ]
    },
    {
     "name": "stdout",
     "output_type": "stream",
     "text": [
      "\u001b[36m(launch_and_fit pid=63028)\u001b[0m \tTrain Epoch: 4 \tTrain_loss: 2.3007 | Train_acc: 10.6900 % | Validation_loss: 2.3055 | Validation_acc: 8.5521 %\n"
     ]
    },
    {
     "name": "stderr",
     "output_type": "stream",
     "text": [
      " 80%|\u001b[34m████████  \u001b[0m| 4/5 [00:07<00:01,  1.83s/it]\n"
     ]
    },
    {
     "name": "stdout",
     "output_type": "stream",
     "text": [
      "\u001b[36m(launch_and_fit pid=63028)\u001b[0m \tTrain Epoch: 5 \tTrain_loss: 2.3004 | Train_acc: 10.7134 % | Validation_loss: 2.3052 | Validation_acc: 8.5521 %\n",
      "\u001b[36m(launch_and_fit pid=63028)\u001b[0m save graph in  results/FL/\n"
     ]
    },
    {
     "name": "stderr",
     "output_type": "stream",
     "text": [
      "100%|\u001b[34m██████████\u001b[0m| 5/5 [00:09<00:00,  1.86s/it]\n"
     ]
    },
    {
     "name": "stdout",
     "output_type": "stream",
     "text": [
      "\u001b[36m(launch_and_fit pid=63028)\u001b[0m conv1.weight 3.0994415283203125e-06\n",
      "\u001b[36m(launch_and_fit pid=63028)\u001b[0m conv1.bias 1.9073486328125e-06\n",
      "\u001b[36m(launch_and_fit pid=63028)\u001b[0m conv2.weight 1.1920928955078125e-06\n",
      "\u001b[36m(launch_and_fit pid=63028)\u001b[0m conv2.bias 1.1920928955078125e-06\n",
      "\u001b[36m(launch_and_fit pid=63028)\u001b[0m fc1.weight 1.6689300537109375e-06\n",
      "\u001b[36m(launch_and_fit pid=63028)\u001b[0m fc1.bias 1.1920928955078125e-06\n",
      "\u001b[36m(launch_and_fit pid=63028)\u001b[0m fc2.weight 1.1920928955078125e-06\n",
      "\u001b[36m(launch_and_fit pid=63028)\u001b[0m fc2.bias 4.76837158203125e-07\n",
      "\u001b[36m(launch_and_fit pid=63028)\u001b[0m fc3.weight 3.4511871337890625\n",
      "\u001b[36m(launch_and_fit pid=63028)\u001b[0m fc3.bias 4.291534423828125e-06\n",
      "\u001b[33m(raylet)\u001b[0m A worker died or was killed while executing a task by an unexpected system error. To troubleshoot the problem, check the logs for the dead worker. RayTask ID: e3dfdb627f70554a9eac9cef60e55f232cd11a5201000000 Worker ID: b01307042eeb91b5959bcbbc53ecc39ef66d4eac0d6f8ea55a5df4f9 Node ID: 5437e5de3255e3c36e64ce5b3538380ee2d32b50aea46640d1d35e63 Worker IP address: 172.16.5.4 Worker port: 36929 Worker PID: 63028 Worker exit type: SYSTEM_ERROR Worker exit detail: The leased worker has unrecoverable failure. Worker is requested to be destroyed when it is returned. Worker exits with an exit code 1. The process receives a SIGTERM.\n",
      "\u001b[36m(launch_and_fit pid=63257)\u001b[0m Run with homomorphic encryption\n",
      "\u001b[36m(launch_and_fit pid=63257)\u001b[0m [Client 6, round 1] fit, config: {'learning_rate': 0.003, 'batch_size': '256', 'server_round': 1, 'local_epochs': 5}\n",
      "\u001b[36m(launch_and_fit pid=63257)\u001b[0m Updated model\n"
     ]
    },
    {
     "name": "stderr",
     "output_type": "stream",
     "text": [
      "  0%|\u001b[34m          \u001b[0m| 0/5 [00:00<?, ?it/s]\n"
     ]
    },
    {
     "name": "stdout",
     "output_type": "stream",
     "text": [
      "\u001b[36m(launch_and_fit pid=63257)\u001b[0m \tTrain Epoch: 1 \tTrain_loss: 2.3037 | Train_acc: 10.1451 % | Validation_loss: 2.3038 | Validation_acc: 9.0100 %\n"
     ]
    },
    {
     "name": "stderr",
     "output_type": "stream",
     "text": [
      " 20%|\u001b[34m██        \u001b[0m| 1/5 [00:03<00:13,  3.37s/it]\n"
     ]
    },
    {
     "name": "stdout",
     "output_type": "stream",
     "text": [
      "\u001b[36m(launch_and_fit pid=63257)\u001b[0m \tTrain Epoch: 2 \tTrain_loss: 2.3032 | Train_acc: 10.1768 % | Validation_loss: 2.3034 | Validation_acc: 9.0100 %\n"
     ]
    },
    {
     "name": "stderr",
     "output_type": "stream",
     "text": [
      " 40%|\u001b[34m████      \u001b[0m| 2/5 [00:05<00:07,  2.37s/it]\n"
     ]
    },
    {
     "name": "stdout",
     "output_type": "stream",
     "text": [
      "\u001b[36m(launch_and_fit pid=63257)\u001b[0m \tTrain Epoch: 3 \tTrain_loss: 2.3029 | Train_acc: 10.1293 % | Validation_loss: 2.3030 | Validation_acc: 9.0100 %\n"
     ]
    },
    {
     "name": "stderr",
     "output_type": "stream",
     "text": [
      " 60%|\u001b[34m██████    \u001b[0m| 3/5 [00:06<00:04,  2.10s/it]\n"
     ]
    },
    {
     "name": "stdout",
     "output_type": "stream",
     "text": [
      "\u001b[36m(launch_and_fit pid=63257)\u001b[0m \tTrain Epoch: 4 \tTrain_loss: 2.3022 | Train_acc: 10.2401 % | Validation_loss: 2.3027 | Validation_acc: 9.0100 %\n"
     ]
    },
    {
     "name": "stderr",
     "output_type": "stream",
     "text": [
      " 80%|\u001b[34m████████  \u001b[0m| 4/5 [00:08<00:01,  1.90s/it]\n"
     ]
    },
    {
     "name": "stdout",
     "output_type": "stream",
     "text": [
      "\u001b[36m(launch_and_fit pid=63257)\u001b[0m \tTrain Epoch: 5 \tTrain_loss: 2.3019 | Train_acc: 10.2302 % | Validation_loss: 2.3023 | Validation_acc: 9.0100 %\n",
      "\u001b[36m(launch_and_fit pid=63257)\u001b[0m save graph in  results/FL/\n"
     ]
    },
    {
     "name": "stderr",
     "output_type": "stream",
     "text": [
      "100%|\u001b[34m██████████\u001b[0m| 5/5 [00:10<00:00,  2.07s/it]\n"
     ]
    },
    {
     "name": "stdout",
     "output_type": "stream",
     "text": [
      "\u001b[36m(launch_and_fit pid=63257)\u001b[0m conv1.weight 4.76837158203125e-06\n",
      "\u001b[36m(launch_and_fit pid=63257)\u001b[0m conv1.bias 1.6689300537109375e-06\n",
      "\u001b[36m(launch_and_fit pid=63257)\u001b[0m conv2.weight 1.1920928955078125e-06\n",
      "\u001b[36m(launch_and_fit pid=63257)\u001b[0m conv2.bias 9.5367431640625e-07\n",
      "\u001b[36m(launch_and_fit pid=63257)\u001b[0m fc1.weight 1.1920928955078125e-06\n",
      "\u001b[36m(launch_and_fit pid=63257)\u001b[0m fc1.bias 1.1920928955078125e-06\n",
      "\u001b[36m(launch_and_fit pid=63257)\u001b[0m fc2.weight 1.1920928955078125e-06\n",
      "\u001b[36m(launch_and_fit pid=63257)\u001b[0m fc2.bias 1.430511474609375e-06\n",
      "\u001b[36m(launch_and_fit pid=63257)\u001b[0m fc3.weight 3.638669490814209\n",
      "\u001b[36m(launch_and_fit pid=63257)\u001b[0m fc3.bias 4.76837158203125e-06\n",
      "\u001b[33m(raylet)\u001b[0m A worker died or was killed while executing a task by an unexpected system error. To troubleshoot the problem, check the logs for the dead worker. RayTask ID: 56c77db23cb2c3722d6965bd013bca266e647a5301000000 Worker ID: a880c4e665b0473d5f1f839f712e12a95c8e2ad260597a6aa0860714 Node ID: 5437e5de3255e3c36e64ce5b3538380ee2d32b50aea46640d1d35e63 Worker IP address: 172.16.5.4 Worker port: 36385 Worker PID: 63257 Worker exit type: SYSTEM_ERROR Worker exit detail: Worker exits unexpectedly. Worker exits with an exit code 1. The process receives a SIGTERM.\n"
     ]
    },
    {
     "name": "stderr",
     "output_type": "stream",
     "text": [
      "ERROR flwr 2024-07-13 00:31:58,056 | ray_client_proxy.py:87 | The worker died unexpectedly while executing this task. Check python-core-worker-*.log files for more information.\n"
     ]
    },
    {
     "name": "stdout",
     "output_type": "stream",
     "text": [
      "\u001b[36m(launch_and_fit pid=63509)\u001b[0m Run with homomorphic encryption\n",
      "\u001b[36m(launch_and_fit pid=63509)\u001b[0m [Client 5, round 1] fit, config: {'learning_rate': 0.003, 'batch_size': '256', 'server_round': 1, 'local_epochs': 5}\n",
      "\u001b[36m(launch_and_fit pid=63509)\u001b[0m Updated model\n"
     ]
    },
    {
     "name": "stderr",
     "output_type": "stream",
     "text": [
      "  0%|\u001b[34m          \u001b[0m| 0/5 [00:00<?, ?it/s]\n",
      " 20%|\u001b[34m██        \u001b[0m| 1/5 [00:02<00:09,  2.43s/it]\n"
     ]
    },
    {
     "name": "stdout",
     "output_type": "stream",
     "text": [
      "\u001b[36m(launch_and_fit pid=63509)\u001b[0m \tTrain Epoch: 1 \tTrain_loss: 2.3040 | Train_acc: 9.4923 % | Validation_loss: 2.3034 | Validation_acc: 8.6386 %\n"
     ]
    },
    {
     "name": "stderr",
     "output_type": "stream",
     "text": [
      " 40%|\u001b[34m████      \u001b[0m| 2/5 [00:04<00:06,  2.23s/it]\n"
     ]
    },
    {
     "name": "stdout",
     "output_type": "stream",
     "text": [
      "\u001b[36m(launch_and_fit pid=63509)\u001b[0m \tTrain Epoch: 2 \tTrain_loss: 2.3034 | Train_acc: 9.4765 % | Validation_loss: 2.3027 | Validation_acc: 8.6386 %\n"
     ]
    },
    {
     "name": "stderr",
     "output_type": "stream",
     "text": [
      " 60%|\u001b[34m██████    \u001b[0m| 3/5 [00:06<00:04,  2.11s/it]\n"
     ]
    },
    {
     "name": "stdout",
     "output_type": "stream",
     "text": [
      "\u001b[36m(launch_and_fit pid=63509)\u001b[0m \tTrain Epoch: 3 \tTrain_loss: 2.3028 | Train_acc: 9.4823 % | Validation_loss: 2.3020 | Validation_acc: 8.8339 %\n"
     ]
    },
    {
     "name": "stderr",
     "output_type": "stream",
     "text": [
      " 80%|\u001b[34m████████  \u001b[0m| 4/5 [00:08<00:01,  1.98s/it]\n"
     ]
    },
    {
     "name": "stdout",
     "output_type": "stream",
     "text": [
      "\u001b[36m(launch_and_fit pid=63509)\u001b[0m \tTrain Epoch: 4 \tTrain_loss: 2.3022 | Train_acc: 9.9656 % | Validation_loss: 2.3013 | Validation_acc: 10.4444 %\n"
     ]
    },
    {
     "name": "stderr",
     "output_type": "stream",
     "text": [
      "100%|\u001b[34m██████████\u001b[0m| 5/5 [00:10<00:00,  2.02s/it]\n"
     ]
    },
    {
     "name": "stdout",
     "output_type": "stream",
     "text": [
      "\u001b[36m(launch_and_fit pid=63509)\u001b[0m \tTrain Epoch: 5 \tTrain_loss: 2.3017 | Train_acc: 12.0830 % | Validation_loss: 2.3008 | Validation_acc: 14.6516 %\n",
      "\u001b[36m(launch_and_fit pid=63509)\u001b[0m save graph in  results/FL/\n",
      "\u001b[36m(launch_and_fit pid=63509)\u001b[0m conv1.weight 3.337860107421875e-06\n",
      "\u001b[36m(launch_and_fit pid=63509)\u001b[0m conv1.bias 1.430511474609375e-06\n",
      "\u001b[36m(launch_and_fit pid=63509)\u001b[0m conv2.weight 4.76837158203125e-07\n",
      "\u001b[36m(launch_and_fit pid=63509)\u001b[0m conv2.bias 4.76837158203125e-07\n",
      "\u001b[36m(launch_and_fit pid=63509)\u001b[0m fc1.weight 4.76837158203125e-07\n",
      "\u001b[36m(launch_and_fit pid=63509)\u001b[0m fc1.bias 7.152557373046875e-07\n",
      "\u001b[36m(launch_and_fit pid=63509)\u001b[0m fc2.weight 4.76837158203125e-07\n",
      "\u001b[36m(launch_and_fit pid=63509)\u001b[0m fc2.bias 4.76837158203125e-07\n",
      "\u001b[36m(launch_and_fit pid=63509)\u001b[0m fc3.weight 3.1153316497802734\n",
      "\u001b[36m(launch_and_fit pid=63509)\u001b[0m fc3.bias 3.337860107421875e-06\n",
      "\u001b[33m(raylet)\u001b[0m A worker died or was killed while executing a task by an unexpected system error. To troubleshoot the problem, check the logs for the dead worker. RayTask ID: aca2b42038899ff987bf45aa1e8adfd9d0feda1301000000 Worker ID: d972e5a2d1a4cfbfba75caca17831631c1ac45b02ac5adc73569161f Node ID: 5437e5de3255e3c36e64ce5b3538380ee2d32b50aea46640d1d35e63 Worker IP address: 172.16.5.4 Worker port: 34219 Worker PID: 63509 Worker exit type: SYSTEM_ERROR Worker exit detail: Worker exits unexpectedly. Worker exits with an exit code 1. The process receives a SIGTERM.\n",
      "\u001b[36m(launch_and_fit pid=63773)\u001b[0m Run with homomorphic encryption\n",
      "\u001b[36m(launch_and_fit pid=63773)\u001b[0m [Client 9, round 1] fit, config: {'learning_rate': 0.003, 'batch_size': '256', 'server_round': 1, 'local_epochs': 5}\n",
      "\u001b[36m(launch_and_fit pid=63773)\u001b[0m Updated model\n"
     ]
    },
    {
     "name": "stderr",
     "output_type": "stream",
     "text": [
      "  0%|\u001b[34m          \u001b[0m| 0/5 [00:00<?, ?it/s]\n"
     ]
    },
    {
     "name": "stdout",
     "output_type": "stream",
     "text": [
      "\u001b[36m(launch_and_fit pid=63773)\u001b[0m \tTrain Epoch: 1 \tTrain_loss: 2.3033 | Train_acc: 10.2753 % | Validation_loss: 2.3046 | Validation_acc: 8.6578 %\n"
     ]
    },
    {
     "name": "stderr",
     "output_type": "stream",
     "text": [
      " 20%|\u001b[34m██        \u001b[0m| 1/5 [00:02<00:08,  2.01s/it]\n"
     ]
    },
    {
     "name": "stdout",
     "output_type": "stream",
     "text": [
      "\u001b[36m(launch_and_fit pid=63773)\u001b[0m \tTrain Epoch: 2 \tTrain_loss: 2.3028 | Train_acc: 10.2595 % | Validation_loss: 2.3042 | Validation_acc: 8.6578 %\n"
     ]
    },
    {
     "name": "stderr",
     "output_type": "stream",
     "text": [
      " 40%|\u001b[34m████      \u001b[0m| 2/5 [00:03<00:05,  1.85s/it]\n"
     ]
    },
    {
     "name": "stdout",
     "output_type": "stream",
     "text": [
      "\u001b[36m(launch_and_fit pid=63773)\u001b[0m \tTrain Epoch: 3 \tTrain_loss: 2.3022 | Train_acc: 10.3387 % | Validation_loss: 2.3038 | Validation_acc: 8.6578 %\n"
     ]
    },
    {
     "name": "stderr",
     "output_type": "stream",
     "text": [
      " 60%|\u001b[34m██████    \u001b[0m| 3/5 [00:05<00:03,  1.80s/it]\n"
     ]
    },
    {
     "name": "stdout",
     "output_type": "stream",
     "text": [
      "\u001b[36m(launch_and_fit pid=63773)\u001b[0m \tTrain Epoch: 4 \tTrain_loss: 2.3019 | Train_acc: 10.3228 % | Validation_loss: 2.3035 | Validation_acc: 8.6578 %\n"
     ]
    },
    {
     "name": "stderr",
     "output_type": "stream",
     "text": [
      " 80%|\u001b[34m████████  \u001b[0m| 4/5 [00:07<00:01,  1.80s/it]\n"
     ]
    },
    {
     "name": "stdout",
     "output_type": "stream",
     "text": [
      "\u001b[36m(launch_and_fit pid=63773)\u001b[0m \tTrain Epoch: 5 \tTrain_loss: 2.3014 | Train_acc: 10.2912 % | Validation_loss: 2.3031 | Validation_acc: 8.6578 %\n",
      "\u001b[36m(launch_and_fit pid=63773)\u001b[0m save graph in  results/FL/\n"
     ]
    },
    {
     "name": "stderr",
     "output_type": "stream",
     "text": [
      "100%|\u001b[34m██████████\u001b[0m| 5/5 [00:09<00:00,  1.93s/it]\n"
     ]
    },
    {
     "name": "stdout",
     "output_type": "stream",
     "text": [
      "\u001b[36m(launch_and_fit pid=63996)\u001b[0m Run with homomorphic encryption\n",
      "\u001b[36m(launch_and_fit pid=63773)\u001b[0m conv1.weight 5.245208740234375e-06\n",
      "\u001b[36m(launch_and_fit pid=63773)\u001b[0m conv1.bias 1.1920928955078125e-06\n",
      "\u001b[36m(launch_and_fit pid=63773)\u001b[0m conv2.weight 1.1920928955078125e-06\n",
      "\u001b[36m(launch_and_fit pid=63773)\u001b[0m conv2.bias 7.152557373046875e-07\n",
      "\u001b[36m(launch_and_fit pid=63773)\u001b[0m fc1.weight 7.152557373046875e-07\n",
      "\u001b[36m(launch_and_fit pid=63773)\u001b[0m fc1.bias 9.5367431640625e-07\n",
      "\u001b[36m(launch_and_fit pid=63773)\u001b[0m fc2.weight 9.5367431640625e-07\n",
      "\u001b[36m(launch_and_fit pid=63773)\u001b[0m fc2.bias 9.5367431640625e-07\n",
      "\u001b[36m(launch_and_fit pid=63996)\u001b[0m [Client 3, round 1] fit, config: {'learning_rate': 0.003, 'batch_size': '256', 'server_round': 1, 'local_epochs': 5}\n",
      "\u001b[36m(launch_and_fit pid=63996)\u001b[0m Updated model\n"
     ]
    },
    {
     "name": "stderr",
     "output_type": "stream",
     "text": [
      "  0%|\u001b[34m          \u001b[0m| 0/5 [00:00<?, ?it/s]\n",
      " 20%|\u001b[34m██        \u001b[0m| 1/5 [00:03<00:13,  3.28s/it]\n",
      " 40%|\u001b[34m████      \u001b[0m| 2/5 [00:05<00:07,  2.55s/it]\n"
     ]
    },
    {
     "name": "stdout",
     "output_type": "stream",
     "text": [
      "\u001b[36m(launch_and_fit pid=63996)\u001b[0m \tTrain Epoch: 2 \tTrain_loss: 2.3030 | Train_acc: 9.7645 % | Validation_loss: 2.3022 | Validation_acc: 10.6013 %\u001b[32m [repeated 2x across cluster]\u001b[0m\n"
     ]
    },
    {
     "name": "stderr",
     "output_type": "stream",
     "text": [
      " 60%|\u001b[34m██████    \u001b[0m| 3/5 [00:06<00:04,  2.05s/it]\n"
     ]
    },
    {
     "name": "stdout",
     "output_type": "stream",
     "text": [
      "\u001b[33m(raylet)\u001b[0m A worker died or was killed while executing a task by an unexpected system error. To troubleshoot the problem, check the logs for the dead worker. RayTask ID: b30b4e54420d91be68f5732067f7d39cd388467101000000 Worker ID: dc0f8dbaba7e999f8084366d2446564ffb3937aa631ecf2d5b6bc8d6 Node ID: 5437e5de3255e3c36e64ce5b3538380ee2d32b50aea46640d1d35e63 Worker IP address: 172.16.5.4 Worker port: 35987 Worker PID: 63773 Worker exit type: SYSTEM_ERROR Worker exit detail: Worker exits unexpectedly. Worker exits with an exit code 1. The process receives a SIGTERM.\n"
     ]
    },
    {
     "name": "stderr",
     "output_type": "stream",
     "text": [
      " 80%|\u001b[34m████████  \u001b[0m| 4/5 [00:08<00:01,  1.84s/it]\n",
      "100%|\u001b[34m██████████\u001b[0m| 5/5 [00:10<00:00,  2.04s/it]\n"
     ]
    },
    {
     "name": "stdout",
     "output_type": "stream",
     "text": [
      "\u001b[36m(launch_and_fit pid=63996)\u001b[0m save graph in  results/FL/\n",
      "\u001b[36m(launch_and_fit pid=63996)\u001b[0m conv1.weight 4.291534423828125e-06\n",
      "\u001b[36m(launch_and_fit pid=63996)\u001b[0m conv1.bias 1.1920928955078125e-06\n",
      "\u001b[36m(launch_and_fit pid=63996)\u001b[0m conv2.weight 9.5367431640625e-07\n",
      "\u001b[36m(launch_and_fit pid=63996)\u001b[0m conv2.bias 9.5367431640625e-07\n",
      "\u001b[36m(launch_and_fit pid=63996)\u001b[0m fc1.weight 9.5367431640625e-07\n",
      "\u001b[36m(launch_and_fit pid=63996)\u001b[0m fc1.bias 9.5367431640625e-07\n",
      "\u001b[36m(launch_and_fit pid=63996)\u001b[0m fc2.weight 2.1457672119140625e-06\n",
      "\u001b[36m(launch_and_fit pid=63996)\u001b[0m fc2.bias 1.1920928955078125e-06\n",
      "\u001b[36m(launch_and_fit pid=63996)\u001b[0m \tTrain Epoch: 5 \tTrain_loss: 2.3016 | Train_acc: 15.2790 % | Validation_loss: 2.3013 | Validation_acc: 15.3945 %\u001b[32m [repeated 3x across cluster]\u001b[0m\n",
      "\u001b[36m(launch_and_fit pid=63996)\u001b[0m fc3.weight 3.5590765476226807\n",
      "\u001b[36m(launch_and_fit pid=63996)\u001b[0m fc3.bias 3.5762786865234375e-06\n",
      "\u001b[33m(raylet)\u001b[0m A worker died or was killed while executing a task by an unexpected system error. To troubleshoot the problem, check the logs for the dead worker. RayTask ID: 9d906247702f287e0f54cd3be7c2dbbe3207d6ef01000000 Worker ID: 448181a2f2c91e2d45b8d6a38763641c4c404f87b59c9964f8718c6c Node ID: 5437e5de3255e3c36e64ce5b3538380ee2d32b50aea46640d1d35e63 Worker IP address: 172.16.5.4 Worker port: 41329 Worker PID: 63996 Worker exit type: SYSTEM_ERROR Worker exit detail: Worker exits unexpectedly. Worker exits with an exit code 1. The process receives a SIGTERM.\n",
      "\u001b[36m(launch_and_fit pid=64281)\u001b[0m Run with homomorphic encryption\n",
      "\u001b[36m(launch_and_fit pid=64281)\u001b[0m [Client 7, round 1] fit, config: {'learning_rate': 0.003, 'batch_size': '256', 'server_round': 1, 'local_epochs': 5}\n",
      "\u001b[36m(launch_and_fit pid=64281)\u001b[0m Updated model\n"
     ]
    },
    {
     "name": "stderr",
     "output_type": "stream",
     "text": [
      "  0%|\u001b[34m          \u001b[0m| 0/5 [00:00<?, ?it/s]\n"
     ]
    },
    {
     "name": "stdout",
     "output_type": "stream",
     "text": [
      "\u001b[36m(launch_and_fit pid=64281)\u001b[0m \tTrain Epoch: 1 \tTrain_loss: 2.3043 | Train_acc: 9.8002 % | Validation_loss: 2.3007 | Validation_acc: 10.6301 %\n",
      "\u001b[36m(launch_and_fit pid=64363)\u001b[0m Run with homomorphic encryption\n",
      "\u001b[36m(launch_and_fit pid=64363)\u001b[0m [Client 0, round 1] fit, config: {'learning_rate': 0.003, 'batch_size': '256', 'server_round': 1, 'local_epochs': 5}\n",
      "\u001b[36m(launch_and_fit pid=64363)\u001b[0m Updated model\n"
     ]
    },
    {
     "name": "stderr",
     "output_type": "stream",
     "text": [
      " 20%|\u001b[34m██        \u001b[0m| 1/5 [00:08<00:34,  8.66s/it]\n",
      "  0%|\u001b[34m          \u001b[0m| 0/5 [00:00<?, ?it/s]\n",
      " 20%|\u001b[34m██        \u001b[0m| 1/5 [00:08<00:34,  8.65s/it]\n",
      " 40%|\u001b[34m████      \u001b[0m| 2/5 [00:11<00:14,  4.97s/it]\n",
      " 40%|\u001b[34m████      \u001b[0m| 2/5 [00:11<00:15,  5.07s/it]\n",
      " 60%|\u001b[34m██████    \u001b[0m| 3/5 [00:13<00:07,  3.70s/it]\n",
      " 60%|\u001b[34m██████    \u001b[0m| 3/5 [00:13<00:07,  3.76s/it]\n"
     ]
    },
    {
     "name": "stdout",
     "output_type": "stream",
     "text": [
      "\u001b[36m(launch_and_fit pid=64363)\u001b[0m \tTrain Epoch: 4 \tTrain_loss: 2.3009 | Train_acc: 10.5733 % | Validation_loss: 2.3055 | Validation_acc: 8.5521 %\u001b[32m [repeated 6x across cluster]\u001b[0m\n"
     ]
    },
    {
     "name": "stderr",
     "output_type": "stream",
     "text": [
      " 80%|\u001b[34m████████  \u001b[0m| 4/5 [00:15<00:03,  3.12s/it]\n",
      " 80%|\u001b[34m████████  \u001b[0m| 4/5 [00:15<00:03,  3.15s/it]\n"
     ]
    },
    {
     "name": "stdout",
     "output_type": "stream",
     "text": [
      "\u001b[36m(launch_and_fit pid=64363)\u001b[0m save graph in  results/FL/\n"
     ]
    },
    {
     "name": "stderr",
     "output_type": "stream",
     "text": [
      "100%|\u001b[34m██████████\u001b[0m| 5/5 [00:17<00:00,  3.56s/it]\n",
      "100%|\u001b[34m██████████\u001b[0m| 5/5 [00:17<00:00,  3.60s/it]\n"
     ]
    },
    {
     "name": "stdout",
     "output_type": "stream",
     "text": [
      "\u001b[36m(launch_and_fit pid=64363)\u001b[0m conv1.weight 4.291534423828125e-06\n",
      "\u001b[36m(launch_and_fit pid=64363)\u001b[0m conv1.bias 1.9073486328125e-06\n",
      "\u001b[36m(launch_and_fit pid=64363)\u001b[0m conv2.weight 9.5367431640625e-07\n",
      "\u001b[36m(launch_and_fit pid=64363)\u001b[0m conv2.bias 1.430511474609375e-06\n",
      "\u001b[36m(launch_and_fit pid=64363)\u001b[0m fc1.weight 9.5367431640625e-07\n",
      "\u001b[36m(launch_and_fit pid=64363)\u001b[0m fc1.bias 9.5367431640625e-07\n",
      "\u001b[36m(launch_and_fit pid=64363)\u001b[0m fc2.weight 7.152557373046875e-07\n",
      "\u001b[36m(launch_and_fit pid=64363)\u001b[0m fc2.bias 9.5367431640625e-07\n",
      "\u001b[36m(launch_and_fit pid=64281)\u001b[0m conv1.weight 4.0531158447265625e-06\n",
      "\u001b[36m(launch_and_fit pid=64281)\u001b[0m conv1.bias 1.1920928955078125e-06\n",
      "\u001b[36m(launch_and_fit pid=64281)\u001b[0m conv2.weight 9.5367431640625e-07\n",
      "\u001b[36m(launch_and_fit pid=64281)\u001b[0m conv2.bias 7.152557373046875e-07\n",
      "\u001b[36m(launch_and_fit pid=64281)\u001b[0m fc1.weight 7.152557373046875e-07\n",
      "\u001b[36m(launch_and_fit pid=64281)\u001b[0m fc1.bias 7.152557373046875e-07\n",
      "\u001b[36m(launch_and_fit pid=64281)\u001b[0m fc2.weight 7.152557373046875e-07\n",
      "\u001b[36m(launch_and_fit pid=64281)\u001b[0m fc2.bias 7.152557373046875e-07\n",
      "\u001b[36m(launch_and_fit pid=64281)\u001b[0m fc3.weight \u001b[33m(raylet)\u001b[0m A worker died or was killed while executing a task by an unexpected system error. To troubleshoot the problem, check the logs for the dead worker. RayTask ID: 473cfc419d62374ff2e03df4d93d86a81bcc149101000000 Worker ID: 19667c671c2566e5b196f74e9c4a272395d59beb25d13505edf54969 Node ID: 5437e5de3255e3c36e64ce5b3538380ee2d32b50aea46640d1d35e63 Worker IP address: 172.16.5.4 Worker port: 46475 Worker PID: 64363 Worker exit type: SYSTEM_ERROR Worker exit detail: Worker unexpectedly exits with a connection error code 2. End of file. There are some potential root causes. (1) The process is killed by SIGKILL by OOM killer due to high memory usage. (2) ray stop --force is called. (3) The worker is crashed unexpectedly due to SIGSEGV or other unexpected errors.\n",
      "\n",
      "\u001b[36m(launch_and_fit pid=64281)\u001b[0m \tTrain Epoch: 5 \tTrain_loss: 2.3021 | Train_acc: 9.7527 % | Validation_loss: 2.3005 | Validation_acc: 10.6301 %\u001b[32m [repeated 3x across cluster]\u001b[0m\n",
      "\u001b[36m(launch_and_fit pid=64281)\u001b[0m save graph in  results/FL/\n",
      "\u001b[36m(launch_and_fit pid=64281)\u001b[0m 8.743269681930542\n",
      "\u001b[36m(launch_and_fit pid=64281)\u001b[0m fc3.bias 6.4373016357421875e-06\n"
     ]
    },
    {
     "name": "stderr",
     "output_type": "stream",
     "text": [
      "ERROR flwr 2024-07-13 00:35:32,874 | ray_client_proxy.py:87 | The worker died unexpectedly while executing this task. Check python-core-worker-*.log files for more information.\n"
     ]
    },
    {
     "name": "stdout",
     "output_type": "stream",
     "text": [
      "\u001b[33m(raylet)\u001b[0m A worker died or was killed while executing a task by an unexpected system error. To troubleshoot the problem, check the logs for the dead worker. RayTask ID: 22cb5c9a586003a99171bae972cdf2d30bd2edee01000000 Worker ID: 486a2462e60858b9d312de049738674b29f03f02f26dcfd0442de88a Node ID: 5437e5de3255e3c36e64ce5b3538380ee2d32b50aea46640d1d35e63 Worker IP address: 172.16.5.4 Worker port: 37751 Worker PID: 64281 Worker exit type: SYSTEM_ERROR Worker exit detail: The leased worker has unrecoverable failure. Worker is requested to be destroyed when it is returned. Worker exits with an exit code 1. The process receives a SIGTERM.\n",
      "\u001b[36m(launch_and_fit pid=64718)\u001b[0m Run with homomorphic encryption\n",
      "\u001b[36m(launch_and_fit pid=64718)\u001b[0m [Client 2, round 1] fit, config: {'learning_rate': 0.003, 'batch_size': '256', 'server_round': 1, 'local_epochs': 5}\n",
      "\u001b[36m(launch_and_fit pid=64718)\u001b[0m Updated model\n"
     ]
    },
    {
     "name": "stderr",
     "output_type": "stream",
     "text": [
      "  0%|\u001b[34m          \u001b[0m| 0/5 [00:00<?, ?it/s]\n"
     ]
    },
    {
     "name": "stdout",
     "output_type": "stream",
     "text": [
      "\u001b[36m(launch_and_fit pid=64718)\u001b[0m \tTrain Epoch: 1 \tTrain_loss: 2.3026 | Train_acc: 10.4847 % | Validation_loss: 2.3024 | Validation_acc: 11.4498 %\n",
      "\u001b[36m(launch_and_fit pid=64729)\u001b[0m Run with homomorphic encryption\n",
      "\u001b[36m(launch_and_fit pid=64729)\u001b[0m [Client 5, round 1] fit, config: {'learning_rate': 0.003, 'batch_size': '256', 'server_round': 1, 'local_epochs': 5}\n",
      "\u001b[36m(launch_and_fit pid=64729)\u001b[0m Updated model\n"
     ]
    },
    {
     "name": "stderr",
     "output_type": "stream",
     "text": [
      " 20%|\u001b[34m██        \u001b[0m| 1/5 [00:08<00:35,  8.87s/it]\n",
      "  0%|\u001b[34m          \u001b[0m| 0/5 [00:00<?, ?it/s]\n",
      " 20%|\u001b[34m██        \u001b[0m| 1/5 [00:08<00:35,  8.87s/it]\n",
      " 40%|\u001b[34m████      \u001b[0m| 2/5 [00:11<00:14,  4.96s/it]\n",
      " 40%|\u001b[34m████      \u001b[0m| 2/5 [00:11<00:14,  4.96s/it]\n",
      " 60%|\u001b[34m██████    \u001b[0m| 3/5 [00:13<00:07,  3.82s/it]\n",
      " 60%|\u001b[34m██████    \u001b[0m| 3/5 [00:13<00:07,  3.86s/it]\n"
     ]
    },
    {
     "name": "stdout",
     "output_type": "stream",
     "text": [
      "\u001b[36m(launch_and_fit pid=64718)\u001b[0m \tTrain Epoch: 4 \tTrain_loss: 2.3012 | Train_acc: 10.4964 % | Validation_loss: 2.3014 | Validation_acc: 11.6451 %\u001b[32m [repeated 6x across cluster]\u001b[0m\n"
     ]
    },
    {
     "name": "stderr",
     "output_type": "stream",
     "text": [
      " 80%|\u001b[34m████████  \u001b[0m| 4/5 [00:15<00:03,  3.14s/it]\n",
      " 80%|\u001b[34m████████  \u001b[0m| 4/5 [00:15<00:03,  3.16s/it]\n"
     ]
    },
    {
     "name": "stdout",
     "output_type": "stream",
     "text": [
      "\u001b[36m(launch_and_fit pid=64718)\u001b[0m save graph in  results/FL/\n"
     ]
    },
    {
     "name": "stderr",
     "output_type": "stream",
     "text": [
      "100%|\u001b[34m██████████\u001b[0m| 5/5 [00:18<00:00,  3.62s/it]\n",
      "100%|\u001b[34m██████████\u001b[0m| 5/5 [00:18<00:00,  3.66s/it]\n"
     ]
    },
    {
     "name": "stdout",
     "output_type": "stream",
     "text": [
      "\u001b[36m(launch_and_fit pid=64718)\u001b[0m conv1.weight 4.5299530029296875e-06\n",
      "\u001b[36m(launch_and_fit pid=64718)\u001b[0m conv1.bias 1.9073486328125e-06\n",
      "\u001b[36m(launch_and_fit pid=64718)\u001b[0m conv2.weight 1.430511474609375e-06\n",
      "\u001b[36m(launch_and_fit pid=64718)\u001b[0m conv2.bias 1.1920928955078125e-06\n",
      "\u001b[36m(launch_and_fit pid=64718)\u001b[0m fc1.weight 1.1920928955078125e-06\n",
      "\u001b[36m(launch_and_fit pid=64718)\u001b[0m fc1.bias 7.152557373046875e-07\n",
      "\u001b[36m(launch_and_fit pid=64718)\u001b[0m fc2.weight 7.152557373046875e-07\n",
      "\u001b[36m(launch_and_fit pid=64718)\u001b[0m fc2.bias 1.1920928955078125e-06\n",
      "\u001b[36m(launch_and_fit pid=64729)\u001b[0m conv1.weight 4.5299530029296875e-06\n",
      "\u001b[36m(launch_and_fit pid=64729)\u001b[0m conv1.bias 1.6689300537109375e-06\n",
      "\u001b[36m(launch_and_fit pid=64729)\u001b[0m conv2.weight 1.1920928955078125e-06\n",
      "\u001b[36m(launch_and_fit pid=64729)\u001b[0m conv2.bias 1.1920928955078125e-06\n",
      "\u001b[36m(launch_and_fit pid=64729)\u001b[0m fc1.weight 9.5367431640625e-07\n",
      "\u001b[36m(launch_and_fit pid=64729)\u001b[0m fc1.bias 9.5367431640625e-07\n",
      "\u001b[36m(launch_and_fit pid=64729)\u001b[0m fc2.weight 9.5367431640625e-07\n",
      "\u001b[36m(launch_and_fit pid=64729)\u001b[0m fc2.bias 9.5367431640625e-07\n",
      "\u001b[36m(launch_and_fit pid=64729)\u001b[0m fc3.weight \u001b[33m(raylet)\u001b[0m A worker died or was killed while executing a task by an unexpected system error. To troubleshoot the problem, check the logs for the dead worker. RayTask ID: e09bd2389b3bf9d849aa27fe3acff1439ecec93e01000000 Worker ID: 166816965fa966cba4951ecac74f23e29e3e9b95e6e2509154013f31 Node ID: 5437e5de3255e3c36e64ce5b3538380ee2d32b50aea46640d1d35e63 Worker IP address: 172.16.5.4 Worker port: 40193 Worker PID: 64718 Worker exit type: SYSTEM_ERROR Worker exit detail: Worker unexpectedly exits with a connection error code 2. End of file. There are some potential root causes. (1) The process is killed by SIGKILL by OOM killer due to high memory usage. (2) ray stop --force is called. (3) The worker is crashed unexpectedly due to SIGSEGV or other unexpected errors.\n",
      "\n",
      "\u001b[36m(launch_and_fit pid=64729)\u001b[0m \tTrain Epoch: 5 \tTrain_loss: 2.3018 | Train_acc: 13.0120 % | Validation_loss: 2.3008 | Validation_acc: 14.8566 %\u001b[32m [repeated 3x across cluster]\u001b[0m\n",
      "\u001b[36m(launch_and_fit pid=64729)\u001b[0m save graph in  results/FL/\n",
      "\u001b[36m(launch_and_fit pid=64729)\u001b[0m 8.58670711517334\n",
      "\u001b[36m(launch_and_fit pid=64729)\u001b[0m fc3.bias 8.106231689453125e-06\n"
     ]
    },
    {
     "name": "stderr",
     "output_type": "stream",
     "text": [
      "ERROR flwr 2024-07-13 00:36:57,993 | ray_client_proxy.py:87 | The worker died unexpectedly while executing this task. Check python-core-worker-*.log files for more information.\n"
     ]
    },
    {
     "name": "stdout",
     "output_type": "stream",
     "text": [
      "\u001b[33m(raylet)\u001b[0m A worker died or was killed while executing a task by an unexpected system error. To troubleshoot the problem, check the logs for the dead worker. RayTask ID: 0ed3bb77b33e23d98ba7e6115e39ed868c97c36f01000000 Worker ID: 4d043621bc45605aa7223ff5cda83769303b808bc7de0b72f625623e Node ID: 5437e5de3255e3c36e64ce5b3538380ee2d32b50aea46640d1d35e63 Worker IP address: 172.16.5.4 Worker port: 42101 Worker PID: 64729 Worker exit type: SYSTEM_ERROR Worker exit detail: The leased worker has unrecoverable failure. Worker is requested to be destroyed when it is returned. Worker exits with an exit code 1. The process receives a SIGTERM.\n",
      "\u001b[36m(launch_and_fit pid=65102)\u001b[0m Run with homomorphic encryption\n",
      "\u001b[36m(launch_and_fit pid=65102)\u001b[0m [Client 9, round 1] fit, config: {'learning_rate': 0.003, 'batch_size': '256', 'server_round': 1, 'local_epochs': 5}\n",
      "\u001b[36m(launch_and_fit pid=65102)\u001b[0m Updated model\n"
     ]
    },
    {
     "name": "stderr",
     "output_type": "stream",
     "text": [
      "  0%|\u001b[34m          \u001b[0m| 0/5 [00:00<?, ?it/s]\n"
     ]
    },
    {
     "name": "stdout",
     "output_type": "stream",
     "text": [
      "\u001b[36m(launch_and_fit pid=65102)\u001b[0m \tTrain Epoch: 1 \tTrain_loss: 2.3033 | Train_acc: 10.2120 % | Validation_loss: 2.3046 | Validation_acc: 8.6578 %\n",
      "\u001b[36m(launch_and_fit pid=65106)\u001b[0m Run with homomorphic encryption\n",
      "\u001b[36m(launch_and_fit pid=65106)\u001b[0m [Client 7, round 1] fit, config: {'learning_rate': 0.003, 'batch_size': '256', 'server_round': 1, 'local_epochs': 5}\n",
      "\u001b[36m(launch_and_fit pid=65106)\u001b[0m Updated model\n"
     ]
    },
    {
     "name": "stderr",
     "output_type": "stream",
     "text": [
      " 20%|\u001b[34m██        \u001b[0m| 1/5 [00:10<00:40, 10.23s/it]\n",
      "  0%|\u001b[34m          \u001b[0m| 0/5 [00:00<?, ?it/s]\n",
      " 20%|\u001b[34m██        \u001b[0m| 1/5 [00:10<00:40, 10.23s/it]\n",
      " 40%|\u001b[34m████      \u001b[0m| 2/5 [00:12<00:16,  5.48s/it]\n",
      " 40%|\u001b[34m████      \u001b[0m| 2/5 [00:12<00:16,  5.51s/it]\n",
      " 60%|\u001b[34m██████    \u001b[0m| 3/5 [00:14<00:08,  4.05s/it]\n",
      " 60%|\u001b[34m██████    \u001b[0m| 3/5 [00:14<00:08,  4.09s/it]\n"
     ]
    },
    {
     "name": "stdout",
     "output_type": "stream",
     "text": [
      "\u001b[36m(launch_and_fit pid=65102)\u001b[0m \tTrain Epoch: 4 \tTrain_loss: 2.3019 | Train_acc: 10.3228 % | Validation_loss: 2.3034 | Validation_acc: 8.6578 %\u001b[32m [repeated 6x across cluster]\u001b[0m\n"
     ]
    },
    {
     "name": "stderr",
     "output_type": "stream",
     "text": [
      " 80%|\u001b[34m████████  \u001b[0m| 4/5 [00:16<00:03,  3.33s/it]\n",
      " 80%|\u001b[34m████████  \u001b[0m| 4/5 [00:16<00:03,  3.33s/it]\n"
     ]
    },
    {
     "name": "stdout",
     "output_type": "stream",
     "text": [
      "\u001b[36m(launch_and_fit pid=65102)\u001b[0m save graph in  results/FL/\n"
     ]
    },
    {
     "name": "stderr",
     "output_type": "stream",
     "text": [
      "100%|\u001b[34m██████████\u001b[0m| 5/5 [00:19<00:00,  3.91s/it]\n",
      "100%|\u001b[34m██████████\u001b[0m| 5/5 [00:19<00:00,  3.91s/it]\n"
     ]
    },
    {
     "name": "stdout",
     "output_type": "stream",
     "text": [
      "\u001b[36m(launch_and_fit pid=65102)\u001b[0m conv1.weight 5.245208740234375e-06\n",
      "\u001b[36m(launch_and_fit pid=65102)\u001b[0m conv1.bias 1.9073486328125e-06\n",
      "\u001b[36m(launch_and_fit pid=65102)\u001b[0m conv2.weight 1.430511474609375e-06\n",
      "\u001b[36m(launch_and_fit pid=65102)\u001b[0m conv2.bias 1.430511474609375e-06\n",
      "\u001b[36m(launch_and_fit pid=65102)\u001b[0m fc1.weight 1.430511474609375e-06\n",
      "\u001b[36m(launch_and_fit pid=65102)\u001b[0m fc1.bias 9.5367431640625e-07\n",
      "\u001b[36m(launch_and_fit pid=65102)\u001b[0m fc2.weight 9.5367431640625e-07\n",
      "\u001b[36m(launch_and_fit pid=65102)\u001b[0m fc2.bias 7.152557373046875e-07\n",
      "\u001b[36m(launch_and_fit pid=65106)\u001b[0m conv1.weight 3.0994415283203125e-06\n",
      "\u001b[36m(launch_and_fit pid=65106)\u001b[0m conv1.bias 9.5367431640625e-07\n",
      "\u001b[36m(launch_and_fit pid=65106)\u001b[0m conv2.weight 7.152557373046875e-07\n",
      "\u001b[36m(launch_and_fit pid=65106)\u001b[0m conv2.bias 4.76837158203125e-07\n",
      "\u001b[36m(launch_and_fit pid=65106)\u001b[0m fc1.weight 4.76837158203125e-07\n",
      "\u001b[36m(launch_and_fit pid=65106)\u001b[0m fc1.bias 2.384185791015625e-07\n",
      "\u001b[36m(launch_and_fit pid=65106)\u001b[0m fc2.weight 4.76837158203125e-07\n",
      "\u001b[36m(launch_and_fit pid=65106)\u001b[0m fc2.bias 4.76837158203125e-07\n",
      "\u001b[36m(launch_and_fit pid=65102)\u001b[0m fc3.weight\n",
      "\u001b[36m(launch_and_fit pid=65102)\u001b[0m  8.073075532913208\n",
      "\u001b[36m(launch_and_fit pid=65102)\u001b[0m fc3.bias 1.2159347534179688e-05\n",
      "\u001b[36m(launch_and_fit pid=65106)\u001b[0m \tTrain Epoch: 5 \tTrain_loss: 2.3019 | Train_acc: 9.7052 % | Validation_loss: 2.3005 | Validation_acc: 10.6301 %\u001b[32m [repeated 3x across cluster]\u001b[0m\n",
      "\u001b[36m(launch_and_fit pid=65106)\u001b[0m save graph in  results/FL/\n",
      "\u001b[33m(raylet)\u001b[0m A worker died or was killed while executing a task by an unexpected system error. To troubleshoot the problem, check the logs for the dead worker. RayTask ID: 20166777d82a0086c8fb7a2570649a31dc2a5a6501000000 Worker ID: be2355c2620a7934baa65e9c1e67a36046c3214c3859043bda4ff5ee Node ID: 5437e5de3255e3c36e64ce5b3538380ee2d32b50aea46640d1d35e63 Worker IP address: 172.16.5.4 Worker port: 42013 Worker PID: 65106 Worker exit type: SYSTEM_ERROR Worker exit detail: Worker unexpectedly exits with a connection error code 2. End of file. There are some potential root causes. (1) The process is killed by SIGKILL by OOM killer due to high memory usage. (2) ray stop --force is called. (3) The worker is crashed unexpectedly due to SIGSEGV or other unexpected errors.\n"
     ]
    },
    {
     "name": "stderr",
     "output_type": "stream",
     "text": [
      "ERROR flwr 2024-07-13 00:38:12,695 | ray_client_proxy.py:87 | The worker died unexpectedly while executing this task. Check python-core-worker-*.log files for more information.\n",
      "ERROR flwr 2024-07-13 00:38:16,807 | ray_client_proxy.py:87 | The worker died unexpectedly while executing this task. Check python-core-worker-*.log files for more information.\n"
     ]
    },
    {
     "name": "stdout",
     "output_type": "stream",
     "text": [
      "\u001b[33m(raylet)\u001b[0m A worker died or was killed while executing a task by an unexpected system error. To troubleshoot the problem, check the logs for the dead worker. RayTask ID: 3d5d00bb1ccabe57b34e7c494caab021d3f9842f01000000 Worker ID: 7190a173bf0a7e4fb1cf87383131eb6dfe69c052f347cc5b24f637a8 Node ID: 5437e5de3255e3c36e64ce5b3538380ee2d32b50aea46640d1d35e63 Worker IP address: 172.16.5.4 Worker port: 45775 Worker PID: 65102 Worker exit type: SYSTEM_ERROR Worker exit detail: The leased worker has unrecoverable failure. Worker is requested to be destroyed when it is returned. Worker exits with an exit code 1. The process receives a SIGTERM.\n",
      "\u001b[36m(launch_and_fit pid=65473)\u001b[0m Run with homomorphic encryption\n"
     ]
    },
    {
     "name": "stderr",
     "output_type": "stream",
     "text": [
      "  0%|\u001b[34m          \u001b[0m| 0/5 [00:00<?, ?it/s]\n"
     ]
    },
    {
     "name": "stdout",
     "output_type": "stream",
     "text": [
      "\u001b[36m(launch_and_fit pid=65473)\u001b[0m [Client 2, round 1] fit, config: {'learning_rate': 0.003, 'batch_size': '256', 'server_round': 1, 'local_epochs': 5}\n",
      "\u001b[36m(launch_and_fit pid=65473)\u001b[0m Updated model\n"
     ]
    },
    {
     "name": "stderr",
     "output_type": "stream",
     "text": [
      " 20%|\u001b[34m██        \u001b[0m| 1/5 [00:02<00:09,  2.43s/it]\n"
     ]
    },
    {
     "name": "stdout",
     "output_type": "stream",
     "text": [
      "\u001b[36m(launch_and_fit pid=65473)\u001b[0m \tTrain Epoch: 1 \tTrain_loss: 2.3027 | Train_acc: 10.3580 % | Validation_loss: 2.3024 | Validation_acc: 11.4498 %\n"
     ]
    },
    {
     "name": "stderr",
     "output_type": "stream",
     "text": [
      " 40%|\u001b[34m████      \u001b[0m| 2/5 [00:03<00:05,  1.92s/it]\n"
     ]
    },
    {
     "name": "stdout",
     "output_type": "stream",
     "text": [
      "\u001b[36m(launch_and_fit pid=65473)\u001b[0m \tTrain Epoch: 2 \tTrain_loss: 2.3021 | Train_acc: 10.4689 % | Validation_loss: 2.3020 | Validation_acc: 11.4498 %\n"
     ]
    },
    {
     "name": "stderr",
     "output_type": "stream",
     "text": [
      " 60%|\u001b[34m██████    \u001b[0m| 3/5 [00:05<00:03,  1.78s/it]\n"
     ]
    },
    {
     "name": "stdout",
     "output_type": "stream",
     "text": [
      "\u001b[36m(launch_and_fit pid=65473)\u001b[0m \tTrain Epoch: 3 \tTrain_loss: 2.3016 | Train_acc: 10.4689 % | Validation_loss: 2.3017 | Validation_acc: 11.4498 %\n"
     ]
    },
    {
     "name": "stderr",
     "output_type": "stream",
     "text": [
      " 80%|\u001b[34m████████  \u001b[0m| 4/5 [00:06<00:01,  1.60s/it]\n"
     ]
    },
    {
     "name": "stdout",
     "output_type": "stream",
     "text": [
      "\u001b[36m(launch_and_fit pid=65473)\u001b[0m \tTrain Epoch: 4 \tTrain_loss: 2.3011 | Train_acc: 10.4589 % | Validation_loss: 2.3014 | Validation_acc: 11.6451 %\n"
     ]
    },
    {
     "name": "stderr",
     "output_type": "stream",
     "text": [
      "100%|\u001b[34m██████████\u001b[0m| 5/5 [00:08<00:00,  1.69s/it]\n"
     ]
    },
    {
     "name": "stdout",
     "output_type": "stream",
     "text": [
      "\u001b[36m(launch_and_fit pid=65473)\u001b[0m \tTrain Epoch: 5 \tTrain_loss: 2.3007 | Train_acc: 10.9445 % | Validation_loss: 2.3012 | Validation_acc: 12.4456 %\n",
      "\u001b[36m(launch_and_fit pid=65473)\u001b[0m save graph in  results/FL/\n",
      "\u001b[36m(launch_and_fit pid=65473)\u001b[0m conv1.weight 3.337860107421875e-06\n",
      "\u001b[36m(launch_and_fit pid=65473)\u001b[0m conv1.bias 1.1920928955078125e-06\n",
      "\u001b[36m(launch_and_fit pid=65473)\u001b[0m conv2.weight 4.76837158203125e-07\n",
      "\u001b[36m(launch_and_fit pid=65473)\u001b[0m conv2.bias 2.384185791015625e-07\n",
      "\u001b[36m(launch_and_fit pid=65473)\u001b[0m fc1.weight 4.76837158203125e-07\n",
      "\u001b[36m(launch_and_fit pid=65473)\u001b[0m fc1.bias 4.76837158203125e-07\n",
      "\u001b[36m(launch_and_fit pid=65473)\u001b[0m fc2.weight 4.76837158203125e-07\n",
      "\u001b[36m(launch_and_fit pid=65473)\u001b[0m fc2.bias 7.152557373046875e-07\n",
      "\u001b[36m(launch_and_fit pid=65473)\u001b[0m fc3.weight 3.1463115215301514\n",
      "\u001b[36m(launch_and_fit pid=65473)\u001b[0m fc3.bias 3.814697265625e-06\n",
      "\u001b[33m(raylet)\u001b[0m A worker died or was killed while executing a task by an unexpected system error. To troubleshoot the problem, check the logs for the dead worker. RayTask ID: bd22b4c164f4b6acbdb7918b207941e2da87068301000000 Worker ID: 86ec06ed8a9ef0ef6d6ea1a592d2797fe3881d8107ac294b9a652d9d Node ID: 5437e5de3255e3c36e64ce5b3538380ee2d32b50aea46640d1d35e63 Worker IP address: 172.16.5.4 Worker port: 42073 Worker PID: 65473 Worker exit type: SYSTEM_ERROR Worker exit detail: Worker exits unexpectedly. Worker exits with an exit code 1. The process receives a SIGTERM.\n",
      "\u001b[36m(launch_and_fit pid=65762)\u001b[0m Run with homomorphic encryption\n",
      "\u001b[36m(launch_and_fit pid=65762)\u001b[0m [Client 2, round 1] fit, config: {'learning_rate': 0.003, 'batch_size': '256', 'server_round': 1, 'local_epochs': 5}\n",
      "\u001b[36m(launch_and_fit pid=65762)\u001b[0m Updated model\n"
     ]
    },
    {
     "name": "stderr",
     "output_type": "stream",
     "text": [
      "  0%|\u001b[34m          \u001b[0m| 0/5 [00:00<?, ?it/s]\n",
      " 20%|\u001b[34m██        \u001b[0m| 1/5 [00:02<00:10,  2.59s/it]\n"
     ]
    },
    {
     "name": "stdout",
     "output_type": "stream",
     "text": [
      "\u001b[36m(launch_and_fit pid=65762)\u001b[0m \tTrain Epoch: 1 \tTrain_loss: 2.3025 | Train_acc: 10.4689 % | Validation_loss: 2.3024 | Validation_acc: 11.4498 %\n"
     ]
    },
    {
     "name": "stderr",
     "output_type": "stream",
     "text": [
      " 40%|\u001b[34m████      \u001b[0m| 2/5 [00:04<00:06,  2.05s/it]\n"
     ]
    },
    {
     "name": "stdout",
     "output_type": "stream",
     "text": [
      "\u001b[36m(launch_and_fit pid=65762)\u001b[0m \tTrain Epoch: 2 \tTrain_loss: 2.3022 | Train_acc: 10.4214 % | Validation_loss: 2.3020 | Validation_acc: 11.4498 %\n"
     ]
    },
    {
     "name": "stderr",
     "output_type": "stream",
     "text": [
      " 60%|\u001b[34m██████    \u001b[0m| 3/5 [00:05<00:03,  1.75s/it]\n"
     ]
    },
    {
     "name": "stdout",
     "output_type": "stream",
     "text": [
      "\u001b[36m(launch_and_fit pid=65762)\u001b[0m \tTrain Epoch: 3 \tTrain_loss: 2.3018 | Train_acc: 10.3739 % | Validation_loss: 2.3018 | Validation_acc: 11.4498 %\n"
     ]
    },
    {
     "name": "stderr",
     "output_type": "stream",
     "text": [
      " 80%|\u001b[34m████████  \u001b[0m| 4/5 [00:07<00:01,  1.75s/it]\n"
     ]
    },
    {
     "name": "stdout",
     "output_type": "stream",
     "text": [
      "\u001b[36m(launch_and_fit pid=65762)\u001b[0m \tTrain Epoch: 4 \tTrain_loss: 2.3011 | Train_acc: 10.6032 % | Validation_loss: 2.3015 | Validation_acc: 11.6451 %\n"
     ]
    },
    {
     "name": "stderr",
     "output_type": "stream",
     "text": [
      "100%|\u001b[34m██████████\u001b[0m| 5/5 [00:08<00:00,  1.78s/it]\n"
     ]
    },
    {
     "name": "stdout",
     "output_type": "stream",
     "text": [
      "\u001b[36m(launch_and_fit pid=65762)\u001b[0m \tTrain Epoch: 5 \tTrain_loss: 2.3007 | Train_acc: 10.9463 % | Validation_loss: 2.3012 | Validation_acc: 12.4456 %\n",
      "\u001b[36m(launch_and_fit pid=65762)\u001b[0m save graph in  results/FL/\n",
      "\u001b[36m(launch_and_fit pid=65762)\u001b[0m conv1.weight 3.337860107421875e-06\n",
      "\u001b[36m(launch_and_fit pid=65762)\u001b[0m conv1.bias 1.430511474609375e-06\n",
      "\u001b[36m(launch_and_fit pid=65762)\u001b[0m conv2.weight 4.76837158203125e-07\n",
      "\u001b[36m(launch_and_fit pid=65762)\u001b[0m conv2.bias 4.76837158203125e-07\n",
      "\u001b[36m(launch_and_fit pid=65762)\u001b[0m fc1.weight 4.76837158203125e-07\n",
      "\u001b[36m(launch_and_fit pid=65762)\u001b[0m fc1.bias 4.76837158203125e-07\n",
      "\u001b[36m(launch_and_fit pid=65762)\u001b[0m fc2.weight 2.384185791015625e-07\n",
      "\u001b[36m(launch_and_fit pid=65762)\u001b[0m fc2.bias 2.384185791015625e-07\n",
      "\u001b[36m(launch_and_fit pid=65762)\u001b[0m fc3.weight 3.171848773956299\n",
      "\u001b[36m(launch_and_fit pid=65762)\u001b[0m fc3.bias 3.5762786865234375e-06\n",
      "\u001b[33m(raylet)\u001b[0m A worker died or was killed while executing a task by an unexpected system error. To troubleshoot the problem, check the logs for the dead worker. RayTask ID: 017f5e2f817a923b1ad5196c1b828b4b8d38404a01000000 Worker ID: 566b0cec2e870b8b761355b8c4e96cc364c5fac0845c19a48ea225ac Node ID: 5437e5de3255e3c36e64ce5b3538380ee2d32b50aea46640d1d35e63 Worker IP address: 172.16.5.4 Worker port: 38011 Worker PID: 65762 Worker exit type: SYSTEM_ERROR Worker exit detail: Worker exits unexpectedly. Worker exits with an exit code 1. The process receives a SIGTERM.\n",
      "\u001b[36m(launch_and_fit pid=65761)\u001b[0m Run with homomorphic encryption\n",
      "\u001b[36m(launch_and_fit pid=65761)\u001b[0m [Client 2, round 1] fit, config: {'learning_rate': 0.003, 'batch_size': '256', 'server_round': 1, 'local_epochs': 5}\n",
      "\u001b[36m(launch_and_fit pid=65761)\u001b[0m Updated model\n"
     ]
    },
    {
     "name": "stderr",
     "output_type": "stream",
     "text": [
      "  0%|\u001b[34m          \u001b[0m| 0/5 [00:00<?, ?it/s]\n",
      " 20%|\u001b[34m██        \u001b[0m| 1/5 [00:02<00:08,  2.13s/it]\n"
     ]
    },
    {
     "name": "stdout",
     "output_type": "stream",
     "text": [
      "\u001b[36m(launch_and_fit pid=65761)\u001b[0m \tTrain Epoch: 1 \tTrain_loss: 2.3024 | Train_acc: 10.4530 % | Validation_loss: 2.3023 | Validation_acc: 11.4498 %\n"
     ]
    },
    {
     "name": "stderr",
     "output_type": "stream",
     "text": [
      " 40%|\u001b[34m████      \u001b[0m| 2/5 [00:03<00:05,  1.80s/it]\n"
     ]
    },
    {
     "name": "stdout",
     "output_type": "stream",
     "text": [
      "\u001b[36m(launch_and_fit pid=65761)\u001b[0m \tTrain Epoch: 2 \tTrain_loss: 2.3021 | Train_acc: 10.4214 % | Validation_loss: 2.3020 | Validation_acc: 11.4498 %\n"
     ]
    },
    {
     "name": "stderr",
     "output_type": "stream",
     "text": [
      " 60%|\u001b[34m██████    \u001b[0m| 3/5 [00:05<00:03,  1.67s/it]\n"
     ]
    },
    {
     "name": "stdout",
     "output_type": "stream",
     "text": [
      "\u001b[36m(launch_and_fit pid=65761)\u001b[0m \tTrain Epoch: 3 \tTrain_loss: 2.3015 | Train_acc: 10.5164 % | Validation_loss: 2.3017 | Validation_acc: 11.4498 %\n"
     ]
    },
    {
     "name": "stderr",
     "output_type": "stream",
     "text": [
      " 80%|\u001b[34m████████  \u001b[0m| 4/5 [00:06<00:01,  1.63s/it]\n"
     ]
    },
    {
     "name": "stdout",
     "output_type": "stream",
     "text": [
      "\u001b[36m(launch_and_fit pid=65761)\u001b[0m \tTrain Epoch: 4 \tTrain_loss: 2.3013 | Train_acc: 10.5457 % | Validation_loss: 2.3015 | Validation_acc: 11.8404 %\n"
     ]
    },
    {
     "name": "stderr",
     "output_type": "stream",
     "text": [
      "100%|\u001b[34m██████████\u001b[0m| 5/5 [00:08<00:00,  1.63s/it]\n"
     ]
    },
    {
     "name": "stdout",
     "output_type": "stream",
     "text": [
      "\u001b[36m(launch_and_fit pid=65761)\u001b[0m \tTrain Epoch: 5 \tTrain_loss: 2.3008 | Train_acc: 11.1434 % | Validation_loss: 2.3012 | Validation_acc: 12.4456 %\n",
      "\u001b[36m(launch_and_fit pid=65761)\u001b[0m save graph in  results/FL/\n",
      "\u001b[36m(launch_and_fit pid=65761)\u001b[0m conv1.weight 3.5762786865234375e-06\n",
      "\u001b[36m(launch_and_fit pid=65761)\u001b[0m conv1.bias 9.5367431640625e-07\n",
      "\u001b[36m(launch_and_fit pid=65761)\u001b[0m conv2.weight 4.76837158203125e-07\n",
      "\u001b[36m(launch_and_fit pid=65761)\u001b[0m conv2.bias 4.76837158203125e-07\n",
      "\u001b[36m(launch_and_fit pid=65761)\u001b[0m fc1.weight 7.152557373046875e-07\n",
      "\u001b[36m(launch_and_fit pid=65761)\u001b[0m fc1.bias 4.76837158203125e-07\n",
      "\u001b[36m(launch_and_fit pid=65761)\u001b[0m fc2.weight 2.384185791015625e-07\n",
      "\u001b[36m(launch_and_fit pid=65761)\u001b[0m fc2.bias 2.384185791015625e-07\n",
      "\u001b[36m(launch_and_fit pid=65761)\u001b[0m fc3.weight 3.1273815631866455\n",
      "\u001b[36m(launch_and_fit pid=65761)\u001b[0m fc3.bias 3.337860107421875e-06\n"
     ]
    },
    {
     "name": "stderr",
     "output_type": "stream",
     "text": [
      "ERROR flwr 2024-07-13 00:41:08,163 | ray_client_proxy.py:87 | The worker died unexpectedly while executing this task. Check python-core-worker-*.log files for more information.\n",
      "DEBUG flwr 2024-07-13 00:41:08,185 | server.py:236 | fit_round 1 received 4 results and 6 failures\n"
     ]
    },
    {
     "name": "stdout",
     "output_type": "stream",
     "text": [
      "\u001b[33m(raylet)\u001b[0m A worker died or was killed while executing a task by an unexpected system error. To troubleshoot the problem, check the logs for the dead worker. RayTask ID: 4c07dbbdad2b98439e01ca38df00e0354d1b6cc601000000 Worker ID: 9d077109a14e73aa80cba231a0d08005c21296d84c44486d691b8af9 Node ID: 5437e5de3255e3c36e64ce5b3538380ee2d32b50aea46640d1d35e63 Worker IP address: 172.16.5.4 Worker port: 40731 Worker PID: 65761 Worker exit type: SYSTEM_ERROR Worker exit detail: Worker exits unexpectedly. Worker exits with an exit code 1. The process receives a SIGTERM.\n"
     ]
    },
    {
     "name": "stderr",
     "output_type": "stream",
     "text": [
      "*** SIGTERM received at time=1720831275 on cpu 0 ***\n",
      "PC: @     0x7fad15293963  (unknown)  (unknown)\n",
      "    @     0x7fad15468420  (unknown)  (unknown)\n",
      "[2024-07-13 00:41:15,746 E 59018 59018] logging.cc:440: *** SIGTERM received at time=1720831275 on cpu 0 ***\n",
      "[2024-07-13 00:41:15,750 E 59018 59018] logging.cc:440: PC: @     0x7fad15293963  (unknown)  (unknown)\n",
      "[2024-07-13 00:41:15,750 E 59018 59018] logging.cc:440:     @     0x7fad15468420  (unknown)  (unknown)\n"
     ]
    }
   ],
   "source": [
    "import warnings\n",
    "warnings.simplefilter(\"ignore\")\n",
    "\n",
    "print(\"flwr\", fl.__version__)\n",
    "print(\"numpy\", np.__version__)\n",
    "print(\"torch\", torch.__version__)\n",
    "print(\"torchvision\", torchvision.__version__)\n",
    "print(f\"Training on {DEVICE}\")\n",
    "\n",
    "client_resources = None\n",
    "\n",
    "if DEVICE.type == \"cuda\":\n",
    "    client_resources = {\"num_gpus\": 1}\n",
    "\n",
    "model_save = model_save\n",
    "path_yaml = yaml_path\n",
    "path_roc = roc_path\n",
    "results_save = save_results\n",
    "path_matrix = matrix_path\n",
    "batch_size = batch_size\n",
    "he = he\n",
    "secret_path = 'secret.pkl'\n",
    "server_path = 'secret.pkl'\n",
    "path_crypted = 'server.pkl'\n",
    "\n",
    "print(\"Start simulation\")\n",
    "start_simulation = time.time()\n",
    "fl.simulation.start_simulation(\n",
    "    client_fn=client_fn,\n",
    "    num_clients=number_clients,\n",
    "    config=fl.server.ServerConfig(num_rounds=rounds),\n",
    "    strategy=strategy,\n",
    "    client_resources=client_resources\n",
    ")\n",
    "print(f\"Simulation Time = {time.time() - start_simulation} seconds\")"
   ]
  }
 ],
 "metadata": {
  "kernelspec": {
   "display_name": "fl_env",
   "language": "python",
   "name": "python3"
  },
  "language_info": {
   "codemirror_mode": {
    "name": "ipython",
    "version": 3
   },
   "file_extension": ".py",
   "mimetype": "text/x-python",
   "name": "python",
   "nbconvert_exporter": "python",
   "pygments_lexer": "ipython3",
   "version": "3.10.14"
  }
 },
 "nbformat": 4,
 "nbformat_minor": 2
}
