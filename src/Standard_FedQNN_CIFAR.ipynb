{
 "cells": [
  {
   "cell_type": "markdown",
   "metadata": {},
   "source": [
    "### Import necessary libraries and modules"
   ]
  },
  {
   "cell_type": "code",
   "execution_count": 1,
   "metadata": {},
   "outputs": [],
   "source": [
    "import os\n",
    "import pickle\n",
    "import time\n",
    "from collections import OrderedDict\n",
    "from typing import (\n",
    "    List, Tuple, Dict, Optional, Callable, Union\n",
    ")\n",
    "import tenseal as ts\n",
    "\n",
    "import numpy as np\n",
    "import torchvision\n",
    "import torch\n",
    "from torch import nn\n",
    "import torch.nn.functional as F\n",
    "import flwr as fl\n",
    "from flwr.common import (\n",
    "    Metrics, EvaluateIns, EvaluateRes, FitIns, FitRes, MetricsAggregationFn, \n",
    "    Scalar, logger, ndarrays_to_parameters_custom, parameters_to_ndarrays_custom,\n",
    "    Parameters, NDArrays\n",
    ")\n",
    "from flwr.server.client_proxy import ClientProxy\n",
    "from flwr.server.client_manager import ClientManager\n",
    "from flwr.server.strategy.aggregate import weighted_loss_avg\n",
    "from logging import WARNING\n",
    "import pennylane as qml\n",
    "\n",
    "from utils import *"
   ]
  },
  {
   "cell_type": "markdown",
   "metadata": {},
   "source": [
    "### Creation of FHE Keys"
   ]
  },
  {
   "cell_type": "code",
   "execution_count": 2,
   "metadata": {},
   "outputs": [
    {
     "name": "stdout",
     "output_type": "stream",
     "text": [
      "it exists\n"
     ]
    }
   ],
   "source": [
    "def combo_keys(client_path=\"secret.pkl\", server_path=\"server_key.pkl\"):\n",
    "    \"\"\"\n",
    "    To create the public/private keys combination\n",
    "    args:\n",
    "        client_path: path to save the secret key (str)\n",
    "        server_path: path to save the server public key (str)\n",
    "    \"\"\"\n",
    "    context_client = security.context()\n",
    "    security.write_query(client_path, {\"contexte\": context_client.serialize(save_secret_key=True)})\n",
    "    security.write_query(server_path, {\"contexte\": context_client.serialize()})\n",
    "\n",
    "    _, context_client = security.read_query(client_path)\n",
    "    _, context_server = security.read_query(server_path)\n",
    "\n",
    "    context_client = ts.context_from(context_client)\n",
    "    context_server = ts.context_from(context_server)\n",
    "    print(\"Is the client context private?\", (\"Yes\" if context_client.is_private() else \"No\"))\n",
    "    print(\"Is the server context private?\", (\"Yes\" if context_server.is_private() else \"No\"))\n",
    "\n",
    "\n",
    "secret_path = \"secret.pkl\"\n",
    "public_path = \"server_key.pkl\"\n",
    "if os.path.exists(secret_path):\n",
    "    print(\"it exists\")\n",
    "    _, context_client = security.read_query(secret_path)\n",
    "\n",
    "else:\n",
    "    combo_keys(client_path=secret_path, server_path=public_path)\n",
    "\n",
    "n_qubits = 6\n",
    "n_layers = 6\n",
    "weight_shapes = {\"weights\": (n_layers, n_qubits)}"
   ]
  },
  {
   "cell_type": "markdown",
   "metadata": {},
   "source": [
    "### Creation of Model Architecture"
   ]
  },
  {
   "cell_type": "code",
   "execution_count": 3,
   "metadata": {},
   "outputs": [],
   "source": [
    "dev = qml.device(\"default.qubit.torch\", wires=n_qubits)\n",
    "    \n",
    "@qml.qnode(dev, interface='torch')\n",
    "def quantum_net(inputs, weights):\n",
    "    qml.AngleEmbedding(inputs, wires=range(n_qubits)) \n",
    "    qml.BasicEntanglerLayers(weights,wires=range(n_qubits))\n",
    "    return [qml.expval(qml.PauliZ(i)) for i in range(n_qubits)]\n",
    "\n",
    "class Net(nn.Module):\n",
    "    \"\"\"\n",
    "    A simple CNN model\n",
    "\n",
    "    Args:\n",
    "        num_classes: An integer indicating the number of classes in the dataset.\n",
    "    \"\"\"\n",
    "    def __init__(self, num_classes=10) -> None:\n",
    "        super(Net, self).__init__()\n",
    "        # 3 input image channel, 6 output channels, 5x5 square convolution\n",
    "        self.conv1 = nn.Conv2d(3, 6, 5)\n",
    "        # Max pooling over a (2, 2) window\n",
    "        self.pool = nn.MaxPool2d(2, 2)\n",
    "        # 6 input image channel, 16 output channels, 5x5 square convolution\n",
    "        self.conv2 = nn.Conv2d(6, 16, 5)\n",
    "        # an affine operation: y = Wx + b\n",
    "        self.fc1 = nn.Linear(16 * 5 * 5, 120)\n",
    "        self.fc2 = nn.Linear(120, 84)\n",
    "        self.fc3 = nn.Linear(84, n_qubits)  # 1 if num_classes <= 2 else num_classes)\n",
    "        self.qnn = qml.qnn.TorchLayer(quantum_net, weight_shapes)\n",
    "        self.fc4 = nn.Linear(n_qubits, num_classes)\n",
    "        self.softmax = nn.Softmax(dim=1)\n",
    "        \n",
    "\n",
    "    def forward(self, x: torch.Tensor) -> torch.Tensor:\n",
    "        \"\"\"\n",
    "        Forward pass of the neural network\n",
    "        \"\"\"\n",
    "        x = self.pool(F.relu(self.conv1(x)))\n",
    "        x = self.pool(F.relu(self.conv2(x)))\n",
    "        # Flatten the tensor into a vector\n",
    "        x = x.view(-1, 16 * 5 * 5)\n",
    "        x = F.relu(self.fc1(x))\n",
    "        x = F.relu(self.fc2(x))\n",
    "        # output layer\n",
    "        x = self.fc3(x)\n",
    "        x = self.qnn(x)\n",
    "        x = self.softmax(self.fc4(x))\n",
    "        return x"
   ]
  },
  {
   "cell_type": "markdown",
   "metadata": {},
   "source": [
    "### Define the FlowerClient class for federated learning"
   ]
  },
  {
   "cell_type": "code",
   "execution_count": 4,
   "metadata": {},
   "outputs": [],
   "source": [
    "class FlowerClient(fl.client.NumPyClient):\n",
    "    def __init__(self, cid, net, trainloader, valloader, device, batch_size, save_results, matrix_path, roc_path,\n",
    "                 yaml_path, he, classes, context_client):\n",
    "        self.net = net\n",
    "        self.trainloader = trainloader\n",
    "        self.valloader = valloader\n",
    "        self.cid = cid\n",
    "        self.device = device\n",
    "        self.batch_size = batch_size\n",
    "        self.save_results = save_results\n",
    "        self.matrix_path = matrix_path\n",
    "        self.roc_path = roc_path\n",
    "        self.yaml_path = yaml_path\n",
    "        self.he = he\n",
    "        self.classes = classes\n",
    "        self.context_client = context_client\n",
    "\n",
    "    def get_parameters(self, config):\n",
    "        print(f\"[Client {self.cid}] get_parameters\")\n",
    "        return get_parameters2(self.net, self.context_client)\n",
    "\n",
    "    def fit(self, parameters, config):\n",
    "        server_round = config['server_round']\n",
    "        local_epochs = config['local_epochs']\n",
    "        lr = float(config[\"learning_rate\"])\n",
    "\n",
    "        print(f'[Client {self.cid}, round {server_round}] fit, config: {config}')\n",
    "\n",
    "        set_parameters(self.net, parameters, self.context_client)\n",
    "\n",
    "        criterion = torch.nn.CrossEntropyLoss()\n",
    "        optimizer = torch.optim.SGD(self.net.parameters(), lr=lr, momentum=0.9)\n",
    "\n",
    "        results = engine.train(self.net, self.trainloader, self.valloader, optimizer=optimizer, loss_fn=criterion,\n",
    "                               epochs=local_epochs, device=self.device)\n",
    "\n",
    "        if self.save_results:\n",
    "            save_graphs(self.save_results, local_epochs, results, f\"_Client {self.cid}\")\n",
    "\n",
    "        return get_parameters2(self.net, self.context_client), len(self.trainloader), {}\n",
    "\n",
    "    def evaluate(self, parameters, config):\n",
    "        print(f\"[Client {self.cid}] evaluate, config: {config}\")\n",
    "        set_parameters(self.net, parameters, self.context_client)\n",
    "\n",
    "        loss, accuracy, y_pred, y_true, y_proba = engine.test(self.net, self.valloader,\n",
    "                                                              loss_fn=torch.nn.CrossEntropyLoss(), device=self.device)\n",
    "\n",
    "        if self.save_results:\n",
    "            os.makedirs(self.save_results, exist_ok=True)\n",
    "            if self.matrix_path:\n",
    "                save_matrix(y_true, y_pred, self.save_results + self.matrix_path, self.classes)\n",
    "            if self.roc_path:\n",
    "                save_roc(y_true, y_proba, self.save_results + self.roc_path, len(self.classes))\n",
    "\n",
    "        return float(loss), len(self.valloader), {\"accuracy\": float(accuracy)}"
   ]
  },
  {
   "cell_type": "markdown",
   "metadata": {},
   "source": [
    "### Define the client_common function to set up the Flower client"
   ]
  },
  {
   "cell_type": "code",
   "execution_count": 5,
   "metadata": {},
   "outputs": [],
   "source": [
    "def client_common(cid, model_save, path_yaml, path_roc, results_save, path_matrix,\n",
    "                  batch_size, trainloaders, valloaders, DEVICE, CLASSES,\n",
    "                  he=False, secret_path=\"\", server_path=\"\"):\n",
    "    trainloader = trainloaders[int(cid)]\n",
    "    valloader = valloaders[int(cid)]\n",
    "\n",
    "    context_client = None\n",
    "    net = Net(num_classes=len(CLASSES)).to(DEVICE)\n",
    "\n",
    "    if he:\n",
    "        print(\"Run with homomorphic encryption\")\n",
    "        if os.path.exists(secret_path):\n",
    "            with open(secret_path, 'rb') as f:\n",
    "                query = pickle.load(f)\n",
    "            context_client = ts.context_from(query[\"contexte\"])\n",
    "        else:\n",
    "            context_client = security.context()\n",
    "            with open(secret_path, 'wb') as f:\n",
    "                encode = pickle.dumps({\"contexte\": context_client.serialize(save_secret_key=True)})\n",
    "                f.write(encode)\n",
    "        secret_key = context_client.secret_key()\n",
    "    else:\n",
    "        print(\"Run WITHOUT homomorphic encryption\")\n",
    "\n",
    "    if os.path.exists(model_save):\n",
    "        print(\" To get the checkpoint\")\n",
    "        checkpoint = torch.load(model_save, map_location=DEVICE)['model_state_dict']\n",
    "        if he:\n",
    "            print(\"to decrypt model\")\n",
    "            server_query, server_context = security.read_query(server_path)\n",
    "            server_context = ts.context_from(server_context)\n",
    "            for name in checkpoint:\n",
    "                print(name)\n",
    "                checkpoint[name] = torch.tensor(\n",
    "                    security.deserialized_layer(name, server_query[name], server_context).decrypt(secret_key)\n",
    "                )\n",
    "        net.load_state_dict(checkpoint)\n",
    "\n",
    "    return FlowerClient(cid, net, trainloader, valloader, device=DEVICE, batch_size=batch_size,\n",
    "                        matrix_path=path_matrix, roc_path=path_roc, save_results=results_save, yaml_path=path_yaml,\n",
    "                        he=he, context_client=context_client, classes=CLASSES)"
   ]
  },
  {
   "cell_type": "markdown",
   "metadata": {},
   "source": [
    "### Define utility functions for federated learning"
   ]
  },
  {
   "cell_type": "code",
   "execution_count": 6,
   "metadata": {},
   "outputs": [],
   "source": [
    "def weighted_average(metrics: List[Tuple[int, Metrics]]) -> Metrics:\n",
    "    accuracies = [num_examples * m[\"accuracy\"] for num_examples, m in metrics]\n",
    "    examples = [num_examples for num_examples, _ in metrics]\n",
    "    return {\"accuracy\": sum(accuracies) / sum(examples)}\n",
    "\n",
    "def evaluate2(server_round: int, parameters: NDArrays,\n",
    "              config: Dict[str, Scalar]) -> Optional[Tuple[float, Dict[str, Scalar]]]:\n",
    "    set_parameters(central, parameters)\n",
    "    loss, accuracy, y_pred, y_true, y_proba = engine.test(central, testloader, loss_fn=torch.nn.CrossEntropyLoss(),\n",
    "                                                          device=DEVICE)\n",
    "    print(f\"Server-side evaluation loss {loss} / accuracy {accuracy}\")\n",
    "    return loss, {\"accuracy\": accuracy}\n",
    "\n",
    "def get_on_fit_config_fn(epoch=2, lr=0.001, batch_size=32) -> Callable[[int], Dict[str, str]]:\n",
    "    def fit_config(server_round: int) -> Dict[str, str]:\n",
    "        config = {\n",
    "            \"learning_rate\": str(lr),\n",
    "            \"batch_size\": str(batch_size),\n",
    "            \"server_round\": server_round,\n",
    "            \"local_epochs\": epoch\n",
    "        }\n",
    "        return config\n",
    "    return fit_config\n",
    "\n",
    "def aggreg_fit_checkpoint(server_round, aggregated_parameters, central_model, path_checkpoint,\n",
    "                          context_client=None, server_path=\"\"):\n",
    "    if aggregated_parameters is not None:\n",
    "        print(f\"Saving round {server_round} aggregated_parameters...\")\n",
    "        aggregated_ndarrays: List[np.ndarray] = parameters_to_ndarrays_custom(aggregated_parameters, context_client)\n",
    "        if context_client:\n",
    "            def serialized(key, matrix):\n",
    "                if key == 'fc3.weight':\n",
    "                    return matrix.serialize()\n",
    "                else:\n",
    "                    return matrix\n",
    "            server_response = {\n",
    "                **{key: serialized(key, aggregated_ndarrays[i]) for i, key in enumerate(central_model.state_dict().keys())},\n",
    "                \"contexte\": server_context.serialize()\n",
    "            }\n",
    "            security.write_query(server_path, server_response)\n",
    "        else:\n",
    "            params_dict = zip(central_model.state_dict().keys(), aggregated_ndarrays)\n",
    "            state_dict = OrderedDict({k: torch.tensor(v) for k, v in params_dict})\n",
    "            central_model.load_state_dict(state_dict, strict=True)\n",
    "            if path_checkpoint:\n",
    "                torch.save({\n",
    "                    'model_state_dict': central_model.state_dict(),\n",
    "                }, path_checkpoint)"
   ]
  },
  {
   "cell_type": "markdown",
   "metadata": {},
   "source": [
    "### Define the FedCustom strategy class"
   ]
  },
  {
   "cell_type": "code",
   "execution_count": 7,
   "metadata": {},
   "outputs": [],
   "source": [
    "# A Strategy from scratch with the same sampling of the clients as it is in FedAvg\n",
    "# and then change the configuration dictionary\n",
    "class FedCustom(fl.server.strategy.Strategy):\n",
    "    def __init__(\n",
    "            self,\n",
    "            fraction_fit: float = 1.0,\n",
    "            fraction_evaluate: float = 1.0,\n",
    "            min_fit_clients: int = 2,\n",
    "            min_evaluate_clients: int = 2,\n",
    "            min_available_clients: int = 2,\n",
    "            evaluate_fn: Optional[\n",
    "                    Callable[[int, NDArrays, Dict[str, Scalar]], Optional[Tuple[float, Dict[str, Scalar]]]]\n",
    "                ] = None,\n",
    "            on_fit_config_fn: Optional[Callable[[int], Dict[str, Scalar]]] = None,\n",
    "            on_evaluate_config_fn: Optional[Callable[[int], Dict[str, Scalar]]] = None,\n",
    "            accept_failures: bool = True,\n",
    "            initial_parameters: Optional[Parameters] = None,\n",
    "            fit_metrics_aggregation_fn: Optional[MetricsAggregationFn] = None,\n",
    "            evaluate_metrics_aggregation_fn: Optional[MetricsAggregationFn] = None,\n",
    "            context_client=None\n",
    "    ) -> None:\n",
    "        super().__init__()\n",
    "        self.fraction_fit = fraction_fit\n",
    "        self.fraction_evaluate = fraction_evaluate\n",
    "        self.min_fit_clients = min_fit_clients\n",
    "        self.min_evaluate_clients = min_evaluate_clients\n",
    "        self.min_available_clients = min_available_clients\n",
    "        self.evaluate_fn = evaluate_fn\n",
    "        self.on_fit_config_fn = on_fit_config_fn\n",
    "        self.on_evaluate_config_fn = on_evaluate_config_fn,\n",
    "        self.accept_failures = accept_failures\n",
    "        self.initial_parameters = initial_parameters\n",
    "        self.fit_metrics_aggregation_fn = fit_metrics_aggregation_fn\n",
    "        self.evaluate_metrics_aggregation_fn = evaluate_metrics_aggregation_fn\n",
    "        self.context_client = context_client\n",
    "\n",
    "    def __repr__(self) -> str:\n",
    "        # Same function as FedAvg(Strategy)\n",
    "        return f\"FedCustom (accept_failures={self.accept_failures})\"\n",
    "\n",
    "    def initialize_parameters(\n",
    "        self, client_manager: ClientManager\n",
    "    ) -> Optional[Parameters]:\n",
    "        \"\"\"Initialize global model parameters.\"\"\"\n",
    "        # Same function as FedAvg(Strategy)\n",
    "        initial_parameters = self.initial_parameters\n",
    "        self.initial_parameters = None  # Don't keep initial parameters in memory\n",
    "        return initial_parameters\n",
    "\n",
    "    def num_fit_clients(self, num_available_clients: int) -> Tuple[int, int]:\n",
    "        \"\"\"Return sample size and required number of clients.\"\"\"\n",
    "        # Same function as FedAvg(Strategy)\n",
    "        num_clients = int(num_available_clients * self.fraction_fit)\n",
    "        return max(num_clients, self.min_fit_clients), self.min_available_clients\n",
    "\n",
    "    def configure_fit(\n",
    "        self, server_round: int, parameters: Parameters, client_manager: ClientManager\n",
    "    ) -> List[Tuple[ClientProxy, FitIns]]:\n",
    "        \"\"\"Configure the next round of training.\"\"\"\n",
    "        # Sample clients\n",
    "        sample_size, min_num_clients = self.num_fit_clients(\n",
    "            client_manager.num_available()\n",
    "        )\n",
    "\n",
    "        clients = client_manager.sample(\n",
    "            num_clients=sample_size, min_num_clients=min_num_clients\n",
    "        )\n",
    "        # Create custom configs\n",
    "        n_clients = len(clients)\n",
    "        half_clients = n_clients // 2\n",
    "        # Custom fit config function provided\n",
    "        standard_lr = lr\n",
    "        higher_lr = 0.003\n",
    "        config = {\"server_round\": server_round, \"local_epochs\": 1}\n",
    "        if self.on_fit_config_fn is not None:\n",
    "            # Custom fit config function provided\n",
    "            config = self.on_fit_config_fn(server_round)\n",
    "\n",
    "        # fit_ins = FitIns(parameters, config)\n",
    "        # Return client/config pairs\n",
    "        fit_configurations = []\n",
    "        for idx, client in enumerate(clients):\n",
    "            config[\"learning_rate\"] = standard_lr if idx < half_clients else higher_lr\n",
    "            \"\"\"\n",
    "            Each pair of (ClientProxy, FitRes) constitutes \n",
    "            a successful update from one of the previously selected clients.\n",
    "            \"\"\"\n",
    "            fit_configurations.append(\n",
    "                (\n",
    "                    client,\n",
    "                    FitIns(\n",
    "                        parameters,\n",
    "                        config\n",
    "                    )\n",
    "                )\n",
    "            )\n",
    "        # Successful updates from the previously selected and configured clients\n",
    "        return fit_configurations\n",
    "\n",
    "    def aggregate_fit(\n",
    "        self,\n",
    "        server_round: int,\n",
    "        results: List[Tuple[ClientProxy, FitRes]],\n",
    "        failures: List[Union[Tuple[ClientProxy, FitRes], BaseException]],\n",
    "    ) -> Tuple[Optional[Parameters], Dict[str, Scalar]]:\n",
    "        \"\"\"Aggregate fit results using weighted average. (each round)\"\"\"\n",
    "        # Same function as FedAvg(Strategy)\n",
    "        if not results:\n",
    "            return None, {}\n",
    "\n",
    "        # Do not aggregate if there are failures and failures are not accepted\n",
    "        if not self.accept_failures and failures:\n",
    "            return None, {}\n",
    "\n",
    "        # Convert results parameters --> array matrix\n",
    "        weights_results = [\n",
    "            (parameters_to_ndarrays_custom(fit_res.parameters, self.context_client), fit_res.num_examples)\n",
    "            for _, fit_res in results\n",
    "        ]\n",
    "\n",
    "        # Aggregate parameters using weighted average between the clients and convert back to parameters object (bytes)\n",
    "        parameters_aggregated = ndarrays_to_parameters_custom(aggregate_custom(weights_results))\n",
    "\n",
    "        metrics_aggregated = {}\n",
    "        # Aggregate custom metrics if aggregation fn was provided\n",
    "        if self.fit_metrics_aggregation_fn:\n",
    "            fit_metrics = [(res.num_examples, res.metrics) for _, res in results]\n",
    "            metrics_aggregated = self.fit_metrics_aggregation_fn(fit_metrics)\n",
    "\n",
    "        elif server_round == 1:  # Only log this warning once\n",
    "            logger.log(WARNING, \"No fit_metrics_aggregation_fn provided\")\n",
    "\n",
    "        # Same function as SaveModelStrategy(fl.server.strategy.FedAvg)\n",
    "        \"\"\"Aggregate model weights using weighted average and store checkpoint\"\"\"\n",
    "        aggreg_fit_checkpoint(server_round, parameters_aggregated, central, model_save,\n",
    "                              self.context_client, path_crypted)\n",
    "        return parameters_aggregated, metrics_aggregated\n",
    "\n",
    "    def num_evaluation_clients(self, num_available_clients: int) -> Tuple[int, int]:\n",
    "        \"\"\"Use a fraction of available clients for evaluation.\"\"\"\n",
    "        # Same function as FedAvg(Strategy)\n",
    "        num_clients = int(num_available_clients * self.fraction_evaluate)\n",
    "        return max(num_clients, self.min_evaluate_clients), self.min_available_clients\n",
    "\n",
    "    def configure_evaluate(\n",
    "        self, server_round: int, parameters: Parameters, client_manager: ClientManager\n",
    "    ) -> List[Tuple[ClientProxy, EvaluateIns]]:\n",
    "        \"\"\"Configure the next round of evaluation.\"\"\"\n",
    "        # Same function as FedAvg(Strategy)\n",
    "        # Do not configure federated evaluation if fraction eval is 0.\n",
    "        if self.fraction_evaluate == 0.0:\n",
    "            return []\n",
    "\n",
    "        # Parameters and config\n",
    "        config = {}  # {\"server_round\": server_round, \"local_epochs\": 1}\n",
    "\n",
    "        evaluate_ins = EvaluateIns(parameters, config)\n",
    "\n",
    "        # Sample clients\n",
    "        sample_size, min_num_clients = self.num_evaluation_clients(\n",
    "            client_manager.num_available()\n",
    "        )\n",
    "\n",
    "        clients = client_manager.sample(\n",
    "            num_clients=sample_size, min_num_clients=min_num_clients\n",
    "        )\n",
    "\n",
    "        # Return client/config pairs\n",
    "        # Each pair of (ClientProxy, FitRes) constitutes a successful update from one of the previously selected clients\n",
    "        return [(client, evaluate_ins) for client in clients]\n",
    "\n",
    "    def aggregate_evaluate(\n",
    "        self,\n",
    "        server_round: int,\n",
    "        results: List[Tuple[ClientProxy, EvaluateRes]],\n",
    "        failures: List[Union[Tuple[ClientProxy, EvaluateRes], BaseException]],\n",
    "    ) -> Tuple[Optional[float], Dict[str, Scalar]]:\n",
    "        \"\"\"Aggregate evaluation losses using weighted average.\"\"\"\n",
    "        # Same function as FedAvg(Strategy)\n",
    "        if not results:\n",
    "            return None, {}\n",
    "\n",
    "        # Do not aggregate if there are failures and failures are not accepted\n",
    "        if not self.accept_failures and failures:\n",
    "            return None, {}\n",
    "\n",
    "        # Aggregate loss\n",
    "        loss_aggregated = weighted_loss_avg(\n",
    "            [\n",
    "                (evaluate_res.num_examples, evaluate_res.loss)\n",
    "                for _, evaluate_res in results\n",
    "            ]\n",
    "        )\n",
    "\n",
    "        metrics_aggregated = {}\n",
    "        # Aggregate custom metrics if aggregation fn was provided\n",
    "        if self.evaluate_metrics_aggregation_fn:\n",
    "            eval_metrics = [(res.num_examples, res.metrics) for _, res in results]\n",
    "            metrics_aggregated = self.evaluate_metrics_aggregation_fn(eval_metrics)\n",
    "\n",
    "        # Only log this warning once\n",
    "        elif server_round == 1:\n",
    "            logger.log(WARNING, \"No evaluate_metrics_aggregation_fn provided\")\n",
    "\n",
    "        return loss_aggregated, metrics_aggregated\n",
    "\n",
    "    def evaluate(\n",
    "        self, server_round: int, parameters: Parameters\n",
    "    ) -> Optional[Tuple[float, Dict[str, Scalar]]]:\n",
    "        \"\"\"Evaluate global model parameters using an evaluation function.\"\"\"\n",
    "        # Same function as FedAvg(Strategy)\n",
    "        if self.evaluate_fn is None:\n",
    "            # Let's assume we won't perform the global model evaluation on the server side.\n",
    "            return None\n",
    "\n",
    "        # if we have a global model evaluation on the server side :\n",
    "        parameters_ndarrays = parameters_to_ndarrays_custom(parameters, self.context_client)\n",
    "        eval_res = self.evaluate_fn(server_round, parameters_ndarrays, {})\n",
    "\n",
    "        # if you haven't results\n",
    "        if eval_res is None:\n",
    "            return None\n",
    "\n",
    "        loss, metrics = eval_res\n",
    "        return loss, metrics"
   ]
  },
  {
   "cell_type": "markdown",
   "metadata": {},
   "source": [
    "### Set up the federated learning strategy"
   ]
  },
  {
   "cell_type": "code",
   "execution_count": 8,
   "metadata": {},
   "outputs": [],
   "source": [
    "# Set up your variables directly\n",
    "he = False\n",
    "data_path = 'data/'\n",
    "dataset = 'cifar'\n",
    "yaml_path = './results/FL/results.yml'\n",
    "seed = 42\n",
    "num_workers = 0\n",
    "max_epochs = 5\n",
    "batch_size = 256\n",
    "length = 32\n",
    "split = 10\n",
    "device = 'gpu'\n",
    "number_clients = 10\n",
    "save_results = 'results/FL/'\n",
    "matrix_path = 'confusion_matrix.png'\n",
    "roc_path = 'roc.png'\n",
    "model_save = 'cifar_fl.pt'\n",
    "min_fit_clients = 10\n",
    "min_avail_clients = 10\n",
    "min_eval_clients = 10\n",
    "rounds = 2\n",
    "frac_fit = 1.0\n",
    "frac_eval = 0.5\n",
    "lr = 1e-4"
   ]
  },
  {
   "cell_type": "code",
   "execution_count": 9,
   "metadata": {},
   "outputs": [],
   "source": [
    "server_context = None\n",
    "DEVICE = torch.device(choice_device(device))\n",
    "CLASSES = classes_string(dataset)\n",
    "central = Net(num_classes=len(CLASSES)).to(DEVICE)"
   ]
  },
  {
   "cell_type": "code",
   "execution_count": 10,
   "metadata": {},
   "outputs": [],
   "source": [
    "strategy = FedCustom(\n",
    "    fraction_fit=frac_fit,\n",
    "    fraction_evaluate=frac_eval,\n",
    "    min_fit_clients=min_fit_clients,\n",
    "    min_evaluate_clients=min_eval_clients if min_eval_clients else number_clients // 2,\n",
    "    min_available_clients=min_avail_clients,\n",
    "    evaluate_metrics_aggregation_fn=weighted_average,\n",
    "    initial_parameters=ndarrays_to_parameters_custom(get_parameters2(central)),\n",
    "    evaluate_fn=None if he else evaluate2,\n",
    "    on_fit_config_fn=get_on_fit_config_fn(epoch=max_epochs, batch_size=batch_size),\n",
    "    context_client=server_context\n",
    ")"
   ]
  },
  {
   "cell_type": "code",
   "execution_count": 11,
   "metadata": {},
   "outputs": [
    {
     "name": "stdout",
     "output_type": "stream",
     "text": [
      "cifar\n",
      "Files already downloaded and verified\n",
      "Files already downloaded and verified\n",
      "The training set is created for the classes : ['airplane', 'automobile', 'bird', 'cat', 'deer', 'dog', 'frog', 'horse', 'ship', 'truck']\n"
     ]
    }
   ],
   "source": [
    "trainloaders, valloaders, testloader = data_setup.load_datasets(num_clients=number_clients,\n",
    "                                                                batch_size=batch_size,\n",
    "                                                                resize=True,\n",
    "                                                                seed=seed,\n",
    "                                                                num_workers=num_workers,\n",
    "                                                                splitter=10,\n",
    "                                                                dataset=dataset,  # Use the specified dataset\n",
    "                                                                data_path=data_path,\n",
    "                                                                data_path_val=None)  # Use the same path for validation data\n",
    "\n",
    "def client_fn(cid: str) -> FlowerClient:\n",
    "    return client_common(cid,\n",
    "                         model_save, path_yaml, path_roc, results_save, path_matrix,\n",
    "                         batch_size, trainloaders, valloaders, DEVICE, CLASSES, he, secret_path, server_path)"
   ]
  },
  {
   "cell_type": "markdown",
   "metadata": {},
   "source": [
    "### Define the client_fn function and set up the simulation"
   ]
  },
  {
   "cell_type": "code",
   "execution_count": 12,
   "metadata": {},
   "outputs": [
    {
     "name": "stderr",
     "output_type": "stream",
     "text": [
      "INFO flwr 2024-07-14 01:21:06,292 | app.py:145 | Starting Flower simulation, config: ServerConfig(num_rounds=2, round_timeout=None)\n"
     ]
    },
    {
     "name": "stdout",
     "output_type": "stream",
     "text": [
      "flwr 1.5.0\n",
      "numpy 1.24.3\n",
      "torch 2.3.1+cu121\n",
      "torchvision 0.18.1+cu121\n",
      "Training on cuda:0\n",
      "Start simulation\n"
     ]
    },
    {
     "name": "stderr",
     "output_type": "stream",
     "text": [
      "2024-07-14 01:21:08,080\tINFO worker.py:1788 -- Started a local Ray instance.\n",
      "INFO flwr 2024-07-14 01:21:11,997 | app.py:179 | Flower VCE: Ray initialized with resources: {'memory': 6337309902.0, 'CPU': 20.0, 'accelerator_type:G': 1.0, 'node:192.168.0.156': 1.0, 'GPU': 1.0, 'object_store_memory': 3168654950.0, 'node:__internal_head__': 1.0}\n",
      "INFO flwr 2024-07-14 01:21:11,997 | server.py:89 | Initializing global parameters\n",
      "INFO flwr 2024-07-14 01:21:11,998 | server.py:272 | Using initial parameters provided by strategy\n",
      "INFO flwr 2024-07-14 01:21:11,998 | server.py:91 | Evaluating initial parameters\n"
     ]
    },
    {
     "name": "stdout",
     "output_type": "stream",
     "text": [
      "Updated model\n"
     ]
    },
    {
     "name": "stderr",
     "output_type": "stream",
     "text": [
      "INFO flwr 2024-07-14 01:21:13,871 | server.py:94 | initial parameters (loss, other metrics): 2.302820509672165, {'accuracy': 9.912109375}\n",
      "INFO flwr 2024-07-14 01:21:13,872 | server.py:104 | FL starting\n",
      "DEBUG flwr 2024-07-14 01:21:13,873 | server.py:222 | fit_round 1: strategy sampled 10 clients (out of 10)\n"
     ]
    },
    {
     "name": "stdout",
     "output_type": "stream",
     "text": [
      "Server-side evaluation loss 2.302820509672165 / accuracy 9.912109375\n",
      "\u001b[36m(launch_and_fit pid=114875)\u001b[0m Run WITHOUT homomorphic encryption\n",
      "\u001b[36m(launch_and_fit pid=114875)\u001b[0m [Client 2, round 1] fit, config: {'learning_rate': 0.003, 'batch_size': '256', 'server_round': 1, 'local_epochs': 5}\n",
      "\u001b[36m(launch_and_fit pid=114875)\u001b[0m Updated model\n"
     ]
    },
    {
     "name": "stderr",
     "output_type": "stream",
     "text": [
      "  0%|\u001b[34m          \u001b[0m| 0/5 [00:00<?, ?it/s]\n"
     ]
    },
    {
     "name": "stdout",
     "output_type": "stream",
     "text": [
      "\u001b[36m(launch_and_fit pid=114875)\u001b[0m \tTrain Epoch: 1 \tTrain_loss: 2.3030 | Train_acc: 10.1158 % | Validation_loss: 2.3029 | Validation_acc: 9.9962 %\n"
     ]
    },
    {
     "name": "stderr",
     "output_type": "stream",
     "text": [
      " 20%|\u001b[34m██        \u001b[0m| 1/5 [00:01<00:06,  1.59s/it]\n"
     ]
    },
    {
     "name": "stdout",
     "output_type": "stream",
     "text": [
      "\u001b[36m(launch_and_fit pid=114875)\u001b[0m \tTrain Epoch: 2 \tTrain_loss: 2.3029 | Train_acc: 10.0683 % | Validation_loss: 2.3029 | Validation_acc: 9.9962 %\n"
     ]
    },
    {
     "name": "stderr",
     "output_type": "stream",
     "text": [
      " 40%|\u001b[34m████      \u001b[0m| 2/5 [00:02<00:04,  1.34s/it]\n"
     ]
    },
    {
     "name": "stdout",
     "output_type": "stream",
     "text": [
      "\u001b[36m(launch_and_fit pid=114875)\u001b[0m \tTrain Epoch: 3 \tTrain_loss: 2.3029 | Train_acc: 10.0841 % | Validation_loss: 2.3029 | Validation_acc: 9.9962 %\n"
     ]
    },
    {
     "name": "stderr",
     "output_type": "stream",
     "text": [
      " 60%|\u001b[34m██████    \u001b[0m| 3/5 [00:03<00:02,  1.28s/it]\n"
     ]
    },
    {
     "name": "stdout",
     "output_type": "stream",
     "text": [
      "\u001b[36m(launch_and_fit pid=114875)\u001b[0m \tTrain Epoch: 4 \tTrain_loss: 2.3030 | Train_acc: 10.0049 % | Validation_loss: 2.3029 | Validation_acc: 9.9962 %\n"
     ]
    },
    {
     "name": "stderr",
     "output_type": "stream",
     "text": [
      " 80%|\u001b[34m████████  \u001b[0m| 4/5 [00:05<00:01,  1.25s/it]\n"
     ]
    },
    {
     "name": "stdout",
     "output_type": "stream",
     "text": [
      "\u001b[36m(launch_and_fit pid=114875)\u001b[0m \tTrain Epoch: 5 \tTrain_loss: 2.3029 | Train_acc: 10.1475 % | Validation_loss: 2.3029 | Validation_acc: 9.9962 %\n",
      "\u001b[36m(launch_and_fit pid=114875)\u001b[0m save graph in  results/FL/\n"
     ]
    },
    {
     "name": "stderr",
     "output_type": "stream",
     "text": [
      "100%|\u001b[34m██████████\u001b[0m| 5/5 [00:06<00:00,  1.28s/it]\n"
     ]
    },
    {
     "name": "stdout",
     "output_type": "stream",
     "text": [
      "\u001b[36m(launch_and_fit pid=114875)\u001b[0m Run WITHOUT homomorphic encryption\n",
      "\u001b[36m(launch_and_fit pid=114875)\u001b[0m [Client 8, round 1] fit, config: {'learning_rate': 0.003, 'batch_size': '256', 'server_round': 1, 'local_epochs': 5}\n",
      "\u001b[36m(launch_and_fit pid=114875)\u001b[0m Updated model\n"
     ]
    },
    {
     "name": "stderr",
     "output_type": "stream",
     "text": [
      "  0%|\u001b[34m          \u001b[0m| 0/5 [00:00<?, ?it/s]\n"
     ]
    },
    {
     "name": "stdout",
     "output_type": "stream",
     "text": [
      "\u001b[36m(launch_and_fit pid=114875)\u001b[0m \tTrain Epoch: 1 \tTrain_loss: 2.3026 | Train_acc: 9.9598 % | Validation_loss: 2.3037 | Validation_acc: 10.0346 %\n"
     ]
    },
    {
     "name": "stderr",
     "output_type": "stream",
     "text": [
      " 20%|\u001b[34m██        \u001b[0m| 1/5 [00:01<00:04,  1.18s/it]\n"
     ]
    },
    {
     "name": "stdout",
     "output_type": "stream",
     "text": [
      "\u001b[36m(launch_and_fit pid=114875)\u001b[0m \tTrain Epoch: 2 \tTrain_loss: 2.3026 | Train_acc: 10.0706 % | Validation_loss: 2.3037 | Validation_acc: 10.0346 %\n"
     ]
    },
    {
     "name": "stderr",
     "output_type": "stream",
     "text": [
      " 40%|\u001b[34m████      \u001b[0m| 2/5 [00:02<00:03,  1.18s/it]\n"
     ]
    },
    {
     "name": "stdout",
     "output_type": "stream",
     "text": [
      "\u001b[36m(launch_and_fit pid=114875)\u001b[0m \tTrain Epoch: 3 \tTrain_loss: 2.3027 | Train_acc: 9.9756 % | Validation_loss: 2.3037 | Validation_acc: 10.0346 %\n"
     ]
    },
    {
     "name": "stderr",
     "output_type": "stream",
     "text": [
      " 60%|\u001b[34m██████    \u001b[0m| 3/5 [00:03<00:02,  1.19s/it]\n"
     ]
    },
    {
     "name": "stdout",
     "output_type": "stream",
     "text": [
      "\u001b[36m(launch_and_fit pid=114875)\u001b[0m \tTrain Epoch: 4 \tTrain_loss: 2.3027 | Train_acc: 9.9123 % | Validation_loss: 2.3037 | Validation_acc: 10.0346 %\n"
     ]
    },
    {
     "name": "stderr",
     "output_type": "stream",
     "text": [
      " 80%|\u001b[34m████████  \u001b[0m| 4/5 [00:04<00:01,  1.19s/it]\n"
     ]
    },
    {
     "name": "stdout",
     "output_type": "stream",
     "text": [
      "\u001b[36m(launch_and_fit pid=114875)\u001b[0m \tTrain Epoch: 5 \tTrain_loss: 2.3027 | Train_acc: 9.9914 % | Validation_loss: 2.3037 | Validation_acc: 10.0346 %\n",
      "\u001b[36m(launch_and_fit pid=114875)\u001b[0m save graph in  results/FL/\n"
     ]
    },
    {
     "name": "stderr",
     "output_type": "stream",
     "text": [
      "100%|\u001b[34m██████████\u001b[0m| 5/5 [00:05<00:00,  1.19s/it]\n"
     ]
    },
    {
     "name": "stdout",
     "output_type": "stream",
     "text": [
      "\u001b[36m(launch_and_fit pid=114875)\u001b[0m Run WITHOUT homomorphic encryption\n",
      "\u001b[36m(launch_and_fit pid=114875)\u001b[0m [Client 5, round 1] fit, config: {'learning_rate': 0.003, 'batch_size': '256', 'server_round': 1, 'local_epochs': 5}\n",
      "\u001b[36m(launch_and_fit pid=114875)\u001b[0m Updated model\n"
     ]
    },
    {
     "name": "stderr",
     "output_type": "stream",
     "text": [
      "  0%|\u001b[34m          \u001b[0m| 0/5 [00:00<?, ?it/s]\n"
     ]
    },
    {
     "name": "stdout",
     "output_type": "stream",
     "text": [
      "\u001b[36m(launch_and_fit pid=114875)\u001b[0m \tTrain Epoch: 1 \tTrain_loss: 2.3030 | Train_acc: 9.6536 % | Validation_loss: 2.3027 | Validation_acc: 9.1669 %\n"
     ]
    },
    {
     "name": "stderr",
     "output_type": "stream",
     "text": [
      " 20%|\u001b[34m██        \u001b[0m| 1/5 [00:01<00:04,  1.22s/it]\n"
     ]
    },
    {
     "name": "stdout",
     "output_type": "stream",
     "text": [
      "\u001b[36m(launch_and_fit pid=114875)\u001b[0m \tTrain Epoch: 2 \tTrain_loss: 2.3030 | Train_acc: 9.8120 % | Validation_loss: 2.3026 | Validation_acc: 9.1669 %\n"
     ]
    },
    {
     "name": "stderr",
     "output_type": "stream",
     "text": [
      " 40%|\u001b[34m████      \u001b[0m| 2/5 [00:02<00:03,  1.21s/it]\n"
     ]
    },
    {
     "name": "stdout",
     "output_type": "stream",
     "text": [
      "\u001b[36m(launch_and_fit pid=114875)\u001b[0m \tTrain Epoch: 3 \tTrain_loss: 2.3029 | Train_acc: 9.8120 % | Validation_loss: 2.3026 | Validation_acc: 9.1669 %\n"
     ]
    },
    {
     "name": "stderr",
     "output_type": "stream",
     "text": [
      " 60%|\u001b[34m██████    \u001b[0m| 3/5 [00:03<00:02,  1.19s/it]\n"
     ]
    },
    {
     "name": "stdout",
     "output_type": "stream",
     "text": [
      "\u001b[36m(launch_and_fit pid=114875)\u001b[0m \tTrain Epoch: 4 \tTrain_loss: 2.3030 | Train_acc: 9.7011 % | Validation_loss: 2.3026 | Validation_acc: 9.1669 %\n"
     ]
    },
    {
     "name": "stderr",
     "output_type": "stream",
     "text": [
      " 80%|\u001b[34m████████  \u001b[0m| 4/5 [00:04<00:01,  1.18s/it]\n"
     ]
    },
    {
     "name": "stdout",
     "output_type": "stream",
     "text": [
      "\u001b[36m(launch_and_fit pid=114875)\u001b[0m \tTrain Epoch: 5 \tTrain_loss: 2.3030 | Train_acc: 9.7011 % | Validation_loss: 2.3026 | Validation_acc: 9.1669 %\n",
      "\u001b[36m(launch_and_fit pid=114875)\u001b[0m save graph in  results/FL/\n"
     ]
    },
    {
     "name": "stderr",
     "output_type": "stream",
     "text": [
      "100%|\u001b[34m██████████\u001b[0m| 5/5 [00:05<00:00,  1.18s/it]\n"
     ]
    },
    {
     "name": "stdout",
     "output_type": "stream",
     "text": [
      "\u001b[36m(launch_and_fit pid=114875)\u001b[0m Run WITHOUT homomorphic encryption\n",
      "\u001b[36m(launch_and_fit pid=114875)\u001b[0m [Client 3, round 1] fit, config: {'learning_rate': 0.003, 'batch_size': '256', 'server_round': 1, 'local_epochs': 5}\n",
      "\u001b[36m(launch_and_fit pid=114875)\u001b[0m Updated model\n"
     ]
    },
    {
     "name": "stderr",
     "output_type": "stream",
     "text": [
      "  0%|\u001b[34m          \u001b[0m| 0/5 [00:00<?, ?it/s]\n"
     ]
    },
    {
     "name": "stdout",
     "output_type": "stream",
     "text": [
      "\u001b[36m(launch_and_fit pid=114875)\u001b[0m \tTrain Epoch: 1 \tTrain_loss: 2.3032 | Train_acc: 9.3222 % | Validation_loss: 2.3025 | Validation_acc: 11.2257 %\n"
     ]
    },
    {
     "name": "stderr",
     "output_type": "stream",
     "text": [
      " 20%|\u001b[34m██        \u001b[0m| 1/5 [00:01<00:04,  1.15s/it]\n"
     ]
    },
    {
     "name": "stdout",
     "output_type": "stream",
     "text": [
      "\u001b[36m(launch_and_fit pid=114875)\u001b[0m \tTrain Epoch: 2 \tTrain_loss: 2.3031 | Train_acc: 9.4014 % | Validation_loss: 2.3025 | Validation_acc: 11.2257 %\n"
     ]
    },
    {
     "name": "stderr",
     "output_type": "stream",
     "text": [
      " 40%|\u001b[34m████      \u001b[0m| 2/5 [00:02<00:03,  1.17s/it]\n"
     ]
    },
    {
     "name": "stdout",
     "output_type": "stream",
     "text": [
      "\u001b[36m(launch_and_fit pid=114875)\u001b[0m \tTrain Epoch: 3 \tTrain_loss: 2.3031 | Train_acc: 9.3222 % | Validation_loss: 2.3025 | Validation_acc: 11.2257 %\n"
     ]
    },
    {
     "name": "stderr",
     "output_type": "stream",
     "text": [
      " 60%|\u001b[34m██████    \u001b[0m| 3/5 [00:03<00:02,  1.18s/it]\n"
     ]
    },
    {
     "name": "stdout",
     "output_type": "stream",
     "text": [
      "\u001b[36m(launch_and_fit pid=114875)\u001b[0m \tTrain Epoch: 4 \tTrain_loss: 2.3031 | Train_acc: 9.4014 % | Validation_loss: 2.3025 | Validation_acc: 11.2257 %\n"
     ]
    },
    {
     "name": "stderr",
     "output_type": "stream",
     "text": [
      " 80%|\u001b[34m████████  \u001b[0m| 4/5 [00:04<00:01,  1.18s/it]\n"
     ]
    },
    {
     "name": "stdout",
     "output_type": "stream",
     "text": [
      "\u001b[36m(launch_and_fit pid=114875)\u001b[0m \tTrain Epoch: 5 \tTrain_loss: 2.3031 | Train_acc: 9.4014 % | Validation_loss: 2.3025 | Validation_acc: 11.2257 %\n",
      "\u001b[36m(launch_and_fit pid=114875)\u001b[0m save graph in  results/FL/\n"
     ]
    },
    {
     "name": "stderr",
     "output_type": "stream",
     "text": [
      "100%|\u001b[34m██████████\u001b[0m| 5/5 [00:05<00:00,  1.18s/it]\n"
     ]
    },
    {
     "name": "stdout",
     "output_type": "stream",
     "text": [
      "\u001b[36m(launch_and_fit pid=114875)\u001b[0m Run WITHOUT homomorphic encryption\n",
      "\u001b[36m(launch_and_fit pid=114875)\u001b[0m [Client 7, round 1] fit, config: {'learning_rate': 0.003, 'batch_size': '256', 'server_round': 1, 'local_epochs': 5}\n",
      "\u001b[36m(launch_and_fit pid=114875)\u001b[0m Updated model\n"
     ]
    },
    {
     "name": "stderr",
     "output_type": "stream",
     "text": [
      "  0%|\u001b[34m          \u001b[0m| 0/5 [00:00<?, ?it/s]\n"
     ]
    },
    {
     "name": "stdout",
     "output_type": "stream",
     "text": [
      "\u001b[36m(launch_and_fit pid=114875)\u001b[0m \tTrain Epoch: 1 \tTrain_loss: 2.3026 | Train_acc: 10.1451 % | Validation_loss: 2.3030 | Validation_acc: 11.7540 %\n"
     ]
    },
    {
     "name": "stderr",
     "output_type": "stream",
     "text": [
      " 20%|\u001b[34m██        \u001b[0m| 1/5 [00:01<00:04,  1.19s/it]\n"
     ]
    },
    {
     "name": "stdout",
     "output_type": "stream",
     "text": [
      "\u001b[36m(launch_and_fit pid=114875)\u001b[0m \tTrain Epoch: 2 \tTrain_loss: 2.3025 | Train_acc: 10.2243 % | Validation_loss: 2.3030 | Validation_acc: 11.7540 %\n"
     ]
    },
    {
     "name": "stderr",
     "output_type": "stream",
     "text": [
      " 40%|\u001b[34m████      \u001b[0m| 2/5 [00:02<00:03,  1.21s/it]\n"
     ]
    },
    {
     "name": "stdout",
     "output_type": "stream",
     "text": [
      "\u001b[36m(launch_and_fit pid=114875)\u001b[0m \tTrain Epoch: 3 \tTrain_loss: 2.3025 | Train_acc: 10.1609 % | Validation_loss: 2.3030 | Validation_acc: 11.7540 %\n"
     ]
    },
    {
     "name": "stderr",
     "output_type": "stream",
     "text": [
      " 60%|\u001b[34m██████    \u001b[0m| 3/5 [00:03<00:02,  1.20s/it]\n"
     ]
    },
    {
     "name": "stdout",
     "output_type": "stream",
     "text": [
      "\u001b[36m(launch_and_fit pid=114875)\u001b[0m \tTrain Epoch: 4 \tTrain_loss: 2.3025 | Train_acc: 10.1293 % | Validation_loss: 2.3030 | Validation_acc: 11.7540 %\n"
     ]
    },
    {
     "name": "stderr",
     "output_type": "stream",
     "text": [
      " 80%|\u001b[34m████████  \u001b[0m| 4/5 [00:04<00:01,  1.19s/it]\n"
     ]
    },
    {
     "name": "stdout",
     "output_type": "stream",
     "text": [
      "\u001b[36m(launch_and_fit pid=114875)\u001b[0m \tTrain Epoch: 5 \tTrain_loss: 2.3025 | Train_acc: 10.1451 % | Validation_loss: 2.3030 | Validation_acc: 11.7540 %\n",
      "\u001b[36m(launch_and_fit pid=114875)\u001b[0m save graph in  results/FL/\n"
     ]
    },
    {
     "name": "stderr",
     "output_type": "stream",
     "text": [
      "100%|\u001b[34m██████████\u001b[0m| 5/5 [00:05<00:00,  1.19s/it]\n"
     ]
    },
    {
     "name": "stdout",
     "output_type": "stream",
     "text": [
      "\u001b[36m(launch_and_fit pid=114875)\u001b[0m Run WITHOUT homomorphic encryption\n",
      "\u001b[36m(launch_and_fit pid=114875)\u001b[0m [Client 0, round 1] fit, config: {'learning_rate': 0.003, 'batch_size': '256', 'server_round': 1, 'local_epochs': 5}\n",
      "\u001b[36m(launch_and_fit pid=114875)\u001b[0m Updated model\n"
     ]
    },
    {
     "name": "stderr",
     "output_type": "stream",
     "text": [
      "  0%|\u001b[34m          \u001b[0m| 0/5 [00:00<?, ?it/s]\n"
     ]
    },
    {
     "name": "stdout",
     "output_type": "stream",
     "text": [
      "\u001b[36m(launch_and_fit pid=114875)\u001b[0m \tTrain Epoch: 1 \tTrain_loss: 2.3028 | Train_acc: 9.7721 % | Validation_loss: 2.3048 | Validation_acc: 7.9950 %\n"
     ]
    },
    {
     "name": "stderr",
     "output_type": "stream",
     "text": [
      " 20%|\u001b[34m██        \u001b[0m| 1/5 [00:01<00:04,  1.17s/it]\n"
     ]
    },
    {
     "name": "stdout",
     "output_type": "stream",
     "text": [
      "\u001b[36m(launch_and_fit pid=114875)\u001b[0m \tTrain Epoch: 2 \tTrain_loss: 2.3027 | Train_acc: 9.8671 % | Validation_loss: 2.3048 | Validation_acc: 7.9950 %\n"
     ]
    },
    {
     "name": "stderr",
     "output_type": "stream",
     "text": [
      " 40%|\u001b[34m████      \u001b[0m| 2/5 [00:02<00:03,  1.17s/it]\n"
     ]
    },
    {
     "name": "stdout",
     "output_type": "stream",
     "text": [
      "\u001b[36m(launch_and_fit pid=114875)\u001b[0m \tTrain Epoch: 3 \tTrain_loss: 2.3027 | Train_acc: 9.9621 % | Validation_loss: 2.3048 | Validation_acc: 7.9950 %\n"
     ]
    },
    {
     "name": "stderr",
     "output_type": "stream",
     "text": [
      " 60%|\u001b[34m██████    \u001b[0m| 3/5 [00:03<00:02,  1.18s/it]\n"
     ]
    },
    {
     "name": "stdout",
     "output_type": "stream",
     "text": [
      "\u001b[36m(launch_and_fit pid=114875)\u001b[0m \tTrain Epoch: 4 \tTrain_loss: 2.3027 | Train_acc: 9.8988 % | Validation_loss: 2.3048 | Validation_acc: 7.9950 %\n"
     ]
    },
    {
     "name": "stderr",
     "output_type": "stream",
     "text": [
      " 80%|\u001b[34m████████  \u001b[0m| 4/5 [00:04<00:01,  1.18s/it]\n"
     ]
    },
    {
     "name": "stdout",
     "output_type": "stream",
     "text": [
      "\u001b[36m(launch_and_fit pid=114875)\u001b[0m \tTrain Epoch: 5 \tTrain_loss: 2.3027 | Train_acc: 9.8671 % | Validation_loss: 2.3048 | Validation_acc: 7.9950 %\n",
      "\u001b[36m(launch_and_fit pid=114875)\u001b[0m save graph in  results/FL/\n"
     ]
    },
    {
     "name": "stderr",
     "output_type": "stream",
     "text": [
      "100%|\u001b[34m██████████\u001b[0m| 5/5 [00:05<00:00,  1.18s/it]\n"
     ]
    },
    {
     "name": "stdout",
     "output_type": "stream",
     "text": [
      "\u001b[36m(launch_and_fit pid=114875)\u001b[0m Run WITHOUT homomorphic encryption\n",
      "\u001b[36m(launch_and_fit pid=114875)\u001b[0m [Client 1, round 1] fit, config: {'learning_rate': 0.003, 'batch_size': '256', 'server_round': 1, 'local_epochs': 5}\n",
      "\u001b[36m(launch_and_fit pid=114875)\u001b[0m Updated model\n"
     ]
    },
    {
     "name": "stderr",
     "output_type": "stream",
     "text": [
      "  0%|\u001b[34m          \u001b[0m| 0/5 [00:00<?, ?it/s]\n"
     ]
    },
    {
     "name": "stdout",
     "output_type": "stream",
     "text": [
      "\u001b[36m(launch_and_fit pid=114875)\u001b[0m \tTrain Epoch: 1 \tTrain_loss: 2.3026 | Train_acc: 10.7017 % | Validation_loss: 2.3053 | Validation_acc: 6.6374 %\n"
     ]
    },
    {
     "name": "stderr",
     "output_type": "stream",
     "text": [
      " 20%|\u001b[34m██        \u001b[0m| 1/5 [00:01<00:04,  1.18s/it]\n"
     ]
    },
    {
     "name": "stdout",
     "output_type": "stream",
     "text": [
      "\u001b[36m(launch_and_fit pid=114875)\u001b[0m \tTrain Epoch: 2 \tTrain_loss: 2.3027 | Train_acc: 10.6225 % | Validation_loss: 2.3053 | Validation_acc: 6.6374 %\n"
     ]
    },
    {
     "name": "stderr",
     "output_type": "stream",
     "text": [
      " 40%|\u001b[34m████      \u001b[0m| 2/5 [00:02<00:03,  1.17s/it]\n"
     ]
    },
    {
     "name": "stdout",
     "output_type": "stream",
     "text": [
      "\u001b[36m(launch_and_fit pid=114875)\u001b[0m \tTrain Epoch: 3 \tTrain_loss: 2.3026 | Train_acc: 10.6542 % | Validation_loss: 2.3053 | Validation_acc: 6.6374 %\n"
     ]
    },
    {
     "name": "stderr",
     "output_type": "stream",
     "text": [
      " 60%|\u001b[34m██████    \u001b[0m| 3/5 [00:03<00:02,  1.17s/it]\n"
     ]
    },
    {
     "name": "stdout",
     "output_type": "stream",
     "text": [
      "\u001b[36m(launch_and_fit pid=114875)\u001b[0m \tTrain Epoch: 4 \tTrain_loss: 2.3026 | Train_acc: 10.6225 % | Validation_loss: 2.3053 | Validation_acc: 6.6374 %\n"
     ]
    },
    {
     "name": "stderr",
     "output_type": "stream",
     "text": [
      " 80%|\u001b[34m████████  \u001b[0m| 4/5 [00:04<00:01,  1.17s/it]\n"
     ]
    },
    {
     "name": "stdout",
     "output_type": "stream",
     "text": [
      "\u001b[36m(launch_and_fit pid=114875)\u001b[0m \tTrain Epoch: 5 \tTrain_loss: 2.3026 | Train_acc: 10.6700 % | Validation_loss: 2.3053 | Validation_acc: 6.6374 %\n",
      "\u001b[36m(launch_and_fit pid=114875)\u001b[0m save graph in  results/FL/\n"
     ]
    },
    {
     "name": "stderr",
     "output_type": "stream",
     "text": [
      "100%|\u001b[34m██████████\u001b[0m| 5/5 [00:05<00:00,  1.18s/it]\n"
     ]
    },
    {
     "name": "stdout",
     "output_type": "stream",
     "text": [
      "\u001b[36m(launch_and_fit pid=114875)\u001b[0m Run WITHOUT homomorphic encryption\n",
      "\u001b[36m(launch_and_fit pid=114875)\u001b[0m [Client 6, round 1] fit, config: {'learning_rate': 0.003, 'batch_size': '256', 'server_round': 1, 'local_epochs': 5}\n",
      "\u001b[36m(launch_and_fit pid=114875)\u001b[0m Updated model\n"
     ]
    },
    {
     "name": "stderr",
     "output_type": "stream",
     "text": [
      "  0%|\u001b[34m          \u001b[0m| 0/5 [00:00<?, ?it/s]\n"
     ]
    },
    {
     "name": "stdout",
     "output_type": "stream",
     "text": [
      "\u001b[36m(launch_and_fit pid=114875)\u001b[0m \tTrain Epoch: 1 \tTrain_loss: 2.3026 | Train_acc: 10.1650 % | Validation_loss: 2.3024 | Validation_acc: 10.0538 %\n"
     ]
    },
    {
     "name": "stderr",
     "output_type": "stream",
     "text": [
      " 20%|\u001b[34m██        \u001b[0m| 1/5 [00:01<00:04,  1.16s/it]\n"
     ]
    },
    {
     "name": "stdout",
     "output_type": "stream",
     "text": [
      "\u001b[36m(launch_and_fit pid=114875)\u001b[0m \tTrain Epoch: 2 \tTrain_loss: 2.3027 | Train_acc: 10.1809 % | Validation_loss: 2.3024 | Validation_acc: 10.0538 %\n"
     ]
    },
    {
     "name": "stderr",
     "output_type": "stream",
     "text": [
      " 40%|\u001b[34m████      \u001b[0m| 2/5 [00:02<00:03,  1.19s/it]\n"
     ]
    },
    {
     "name": "stdout",
     "output_type": "stream",
     "text": [
      "\u001b[36m(launch_and_fit pid=114875)\u001b[0m \tTrain Epoch: 3 \tTrain_loss: 2.3027 | Train_acc: 10.1175 % | Validation_loss: 2.3024 | Validation_acc: 10.0538 %\n"
     ]
    },
    {
     "name": "stderr",
     "output_type": "stream",
     "text": [
      " 60%|\u001b[34m██████    \u001b[0m| 3/5 [00:03<00:02,  1.18s/it]\n"
     ]
    },
    {
     "name": "stdout",
     "output_type": "stream",
     "text": [
      "\u001b[36m(launch_and_fit pid=114875)\u001b[0m \tTrain Epoch: 4 \tTrain_loss: 2.3027 | Train_acc: 10.0700 % | Validation_loss: 2.3024 | Validation_acc: 10.0538 %\n"
     ]
    },
    {
     "name": "stderr",
     "output_type": "stream",
     "text": [
      " 80%|\u001b[34m████████  \u001b[0m| 4/5 [00:04<00:01,  1.18s/it]\n"
     ]
    },
    {
     "name": "stdout",
     "output_type": "stream",
     "text": [
      "\u001b[36m(launch_and_fit pid=114875)\u001b[0m \tTrain Epoch: 5 \tTrain_loss: 2.3027 | Train_acc: 10.0225 % | Validation_loss: 2.3024 | Validation_acc: 10.0538 %\n",
      "\u001b[36m(launch_and_fit pid=114875)\u001b[0m save graph in  results/FL/\n"
     ]
    },
    {
     "name": "stderr",
     "output_type": "stream",
     "text": [
      "100%|\u001b[34m██████████\u001b[0m| 5/5 [00:05<00:00,  1.18s/it]\n"
     ]
    },
    {
     "name": "stdout",
     "output_type": "stream",
     "text": [
      "\u001b[36m(launch_and_fit pid=114875)\u001b[0m Run WITHOUT homomorphic encryption\n",
      "\u001b[36m(launch_and_fit pid=114875)\u001b[0m [Client 9, round 1] fit, config: {'learning_rate': 0.003, 'batch_size': '256', 'server_round': 1, 'local_epochs': 5}\n",
      "\u001b[36m(launch_and_fit pid=114875)\u001b[0m Updated model\n"
     ]
    },
    {
     "name": "stderr",
     "output_type": "stream",
     "text": [
      "  0%|\u001b[34m          \u001b[0m| 0/5 [00:00<?, ?it/s]\n"
     ]
    },
    {
     "name": "stdout",
     "output_type": "stream",
     "text": [
      "\u001b[36m(launch_and_fit pid=114875)\u001b[0m \tTrain Epoch: 1 \tTrain_loss: 2.3023 | Train_acc: 10.2694 % | Validation_loss: 2.3035 | Validation_acc: 9.8201 %\n"
     ]
    },
    {
     "name": "stderr",
     "output_type": "stream",
     "text": [
      " 20%|\u001b[34m██        \u001b[0m| 1/5 [00:01<00:04,  1.19s/it]\n"
     ]
    },
    {
     "name": "stdout",
     "output_type": "stream",
     "text": [
      "\u001b[36m(launch_and_fit pid=114875)\u001b[0m \tTrain Epoch: 2 \tTrain_loss: 2.3023 | Train_acc: 10.3328 % | Validation_loss: 2.3035 | Validation_acc: 9.8201 %\n"
     ]
    },
    {
     "name": "stderr",
     "output_type": "stream",
     "text": [
      " 40%|\u001b[34m████      \u001b[0m| 2/5 [00:02<00:03,  1.18s/it]\n"
     ]
    },
    {
     "name": "stdout",
     "output_type": "stream",
     "text": [
      "\u001b[36m(launch_and_fit pid=114875)\u001b[0m \tTrain Epoch: 3 \tTrain_loss: 2.3023 | Train_acc: 10.3011 % | Validation_loss: 2.3035 | Validation_acc: 9.8201 %\n"
     ]
    },
    {
     "name": "stderr",
     "output_type": "stream",
     "text": [
      " 60%|\u001b[34m██████    \u001b[0m| 3/5 [00:03<00:02,  1.16s/it]\n"
     ]
    },
    {
     "name": "stdout",
     "output_type": "stream",
     "text": [
      "\u001b[36m(launch_and_fit pid=114875)\u001b[0m \tTrain Epoch: 4 \tTrain_loss: 2.3024 | Train_acc: 10.1903 % | Validation_loss: 2.3035 | Validation_acc: 9.8201 %\n"
     ]
    },
    {
     "name": "stderr",
     "output_type": "stream",
     "text": [
      " 80%|\u001b[34m████████  \u001b[0m| 4/5 [00:04<00:01,  1.16s/it]\n"
     ]
    },
    {
     "name": "stdout",
     "output_type": "stream",
     "text": [
      "\u001b[36m(launch_and_fit pid=114875)\u001b[0m \tTrain Epoch: 5 \tTrain_loss: 2.3023 | Train_acc: 10.2853 % | Validation_loss: 2.3035 | Validation_acc: 9.8201 %\n",
      "\u001b[36m(launch_and_fit pid=114875)\u001b[0m save graph in  results/FL/\n"
     ]
    },
    {
     "name": "stderr",
     "output_type": "stream",
     "text": [
      "100%|\u001b[34m██████████\u001b[0m| 5/5 [00:05<00:00,  1.17s/it]\n"
     ]
    },
    {
     "name": "stdout",
     "output_type": "stream",
     "text": [
      "\u001b[36m(launch_and_fit pid=114875)\u001b[0m Run WITHOUT homomorphic encryption\n",
      "\u001b[36m(launch_and_fit pid=114875)\u001b[0m [Client 4, round 1] fit, config: {'learning_rate': 0.003, 'batch_size': '256', 'server_round': 1, 'local_epochs': 5}\n",
      "\u001b[36m(launch_and_fit pid=114875)\u001b[0m Updated model\n"
     ]
    },
    {
     "name": "stderr",
     "output_type": "stream",
     "text": [
      "  0%|\u001b[34m          \u001b[0m| 0/5 [00:00<?, ?it/s]\n"
     ]
    },
    {
     "name": "stdout",
     "output_type": "stream",
     "text": [
      "\u001b[36m(launch_and_fit pid=114875)\u001b[0m \tTrain Epoch: 1 \tTrain_loss: 2.3026 | Train_acc: 10.4038 % | Validation_loss: 2.3039 | Validation_acc: 7.3899 %\n"
     ]
    },
    {
     "name": "stderr",
     "output_type": "stream",
     "text": [
      " 20%|\u001b[34m██        \u001b[0m| 1/5 [00:01<00:04,  1.16s/it]\n"
     ]
    },
    {
     "name": "stdout",
     "output_type": "stream",
     "text": [
      "\u001b[36m(launch_and_fit pid=114875)\u001b[0m \tTrain Epoch: 2 \tTrain_loss: 2.3026 | Train_acc: 10.3563 % | Validation_loss: 2.3039 | Validation_acc: 7.3899 %\n"
     ]
    },
    {
     "name": "stderr",
     "output_type": "stream",
     "text": [
      " 40%|\u001b[34m████      \u001b[0m| 2/5 [00:02<00:03,  1.17s/it]\n"
     ]
    },
    {
     "name": "stdout",
     "output_type": "stream",
     "text": [
      "\u001b[36m(launch_and_fit pid=114875)\u001b[0m \tTrain Epoch: 3 \tTrain_loss: 2.3026 | Train_acc: 10.4038 % | Validation_loss: 2.3039 | Validation_acc: 7.3899 %\n"
     ]
    },
    {
     "name": "stderr",
     "output_type": "stream",
     "text": [
      " 60%|\u001b[34m██████    \u001b[0m| 3/5 [00:03<00:02,  1.18s/it]\n"
     ]
    },
    {
     "name": "stdout",
     "output_type": "stream",
     "text": [
      "\u001b[36m(launch_and_fit pid=114875)\u001b[0m \tTrain Epoch: 4 \tTrain_loss: 2.3026 | Train_acc: 10.3563 % | Validation_loss: 2.3039 | Validation_acc: 7.3899 %\n"
     ]
    },
    {
     "name": "stderr",
     "output_type": "stream",
     "text": [
      " 80%|\u001b[34m████████  \u001b[0m| 4/5 [00:04<00:01,  1.17s/it]\n",
      "100%|\u001b[34m██████████\u001b[0m| 5/5 [00:06<00:00,  1.20s/it]\n",
      "DEBUG flwr 2024-07-14 01:22:25,691 | server.py:236 | fit_round 1 received 10 results and 0 failures\n",
      "WARNING flwr 2024-07-14 01:22:25,705 | 3890383987.py:131 | No fit_metrics_aggregation_fn provided\n"
     ]
    },
    {
     "name": "stdout",
     "output_type": "stream",
     "text": [
      "\u001b[36m(launch_and_fit pid=114875)\u001b[0m \tTrain Epoch: 5 \tTrain_loss: 2.3026 | Train_acc: 10.4038 % | Validation_loss: 2.3039 | Validation_acc: 7.3899 %\n",
      "\u001b[36m(launch_and_fit pid=114875)\u001b[0m save graph in  results/FL/\n",
      "Saving round 1 aggregated_parameters...\n",
      "Updated model\n"
     ]
    },
    {
     "name": "stderr",
     "output_type": "stream",
     "text": [
      "INFO flwr 2024-07-14 01:22:27,035 | server.py:125 | fit progress: (1, 2.302819347381592, {'accuracy': 9.912109375}, 73.16275968399714)\n",
      "DEBUG flwr 2024-07-14 01:22:27,036 | server.py:173 | evaluate_round 1: strategy sampled 10 clients (out of 10)\n"
     ]
    },
    {
     "name": "stdout",
     "output_type": "stream",
     "text": [
      "Server-side evaluation loss 2.302819347381592 / accuracy 9.912109375\n",
      "\u001b[36m(launch_and_evaluate pid=114875)\u001b[0m Run WITHOUT homomorphic encryption\n",
      "\u001b[36m(launch_and_evaluate pid=114875)\u001b[0m  To get the checkpoint\n",
      "\u001b[36m(launch_and_evaluate pid=114875)\u001b[0m [Client 0] evaluate, config: {}\n",
      "\u001b[36m(launch_and_evaluate pid=114875)\u001b[0m Updated model\n",
      "\u001b[36m(launch_and_evaluate pid=114875)\u001b[0m Run WITHOUT homomorphic encryption\n",
      "\u001b[36m(launch_and_evaluate pid=114875)\u001b[0m  To get the checkpoint\n",
      "\u001b[36m(launch_and_evaluate pid=114875)\u001b[0m [Client 5] evaluate, config: {}\n",
      "\u001b[36m(launch_and_evaluate pid=114875)\u001b[0m Updated model\n",
      "\u001b[36m(launch_and_evaluate pid=114875)\u001b[0m Run WITHOUT homomorphic encryption\n",
      "\u001b[36m(launch_and_evaluate pid=114875)\u001b[0m  To get the checkpoint\n"
     ]
    },
    {
     "name": "stderr",
     "output_type": "stream",
     "text": [
      "\u001b[36m(launch_and_evaluate pid=114875)\u001b[0m /home/siddhant/QFML-QF-2024/src/utils/common.py:262: RuntimeWarning: More than 20 figures have been opened. Figures created through the pyplot interface (`matplotlib.pyplot.figure`) are retained until explicitly closed and may consume too much memory. (To control this warning, see the rcParam `figure.max_open_warning`). Consider using `matplotlib.pyplot.close()`.\n",
      "\u001b[36m(launch_and_evaluate pid=114875)\u001b[0m   plt.figure(figsize=(12, 7))\n",
      "\u001b[36m(launch_and_evaluate pid=114875)\u001b[0m /home/siddhant/QFML-QF-2024/src/utils/common.py:312: RuntimeWarning: More than 20 figures have been opened. Figures created through the pyplot interface (`matplotlib.pyplot.figure`) are retained until explicitly closed and may consume too much memory. (To control this warning, see the rcParam `figure.max_open_warning`). Consider using `matplotlib.pyplot.close()`.\n",
      "\u001b[36m(launch_and_evaluate pid=114875)\u001b[0m   plt.figure()\n",
      "\u001b[36m(launch_and_evaluate pid=114875)\u001b[0m /home/siddhant/QFML-QF-2024/src/utils/common.py:262: RuntimeWarning: More than 20 figures have been opened. Figures created through the pyplot interface (`matplotlib.pyplot.figure`) are retained until explicitly closed and may consume too much memory. (To control this warning, see the rcParam `figure.max_open_warning`). Consider using `matplotlib.pyplot.close()`.\n",
      "\u001b[36m(launch_and_evaluate pid=114875)\u001b[0m   plt.figure(figsize=(12, 7))\n",
      "\u001b[36m(launch_and_evaluate pid=114875)\u001b[0m /home/siddhant/QFML-QF-2024/src/utils/common.py:312: RuntimeWarning: More than 20 figures have been opened. Figures created through the pyplot interface (`matplotlib.pyplot.figure`) are retained until explicitly closed and may consume too much memory. (To control this warning, see the rcParam `figure.max_open_warning`). Consider using `matplotlib.pyplot.close()`.\n",
      "\u001b[36m(launch_and_evaluate pid=114875)\u001b[0m   plt.figure()\n"
     ]
    },
    {
     "name": "stdout",
     "output_type": "stream",
     "text": [
      "\u001b[36m(launch_and_evaluate pid=114875)\u001b[0m [Client 1] evaluate, config: {}\n",
      "\u001b[36m(launch_and_evaluate pid=114875)\u001b[0m Updated model\n"
     ]
    },
    {
     "name": "stderr",
     "output_type": "stream",
     "text": [
      "\u001b[36m(launch_and_evaluate pid=114875)\u001b[0m /home/siddhant/QFML-QF-2024/src/utils/common.py:262: RuntimeWarning: More than 20 figures have been opened. Figures created through the pyplot interface (`matplotlib.pyplot.figure`) are retained until explicitly closed and may consume too much memory. (To control this warning, see the rcParam `figure.max_open_warning`). Consider using `matplotlib.pyplot.close()`.\n",
      "\u001b[36m(launch_and_evaluate pid=114875)\u001b[0m   plt.figure(figsize=(12, 7))\n",
      "\u001b[36m(launch_and_evaluate pid=114875)\u001b[0m /home/siddhant/QFML-QF-2024/src/utils/common.py:312: RuntimeWarning: More than 20 figures have been opened. Figures created through the pyplot interface (`matplotlib.pyplot.figure`) are retained until explicitly closed and may consume too much memory. (To control this warning, see the rcParam `figure.max_open_warning`). Consider using `matplotlib.pyplot.close()`.\n",
      "\u001b[36m(launch_and_evaluate pid=114875)\u001b[0m   plt.figure()\n"
     ]
    },
    {
     "name": "stdout",
     "output_type": "stream",
     "text": [
      "\u001b[36m(launch_and_evaluate pid=114875)\u001b[0m Run WITHOUT homomorphic encryption\n",
      "\u001b[36m(launch_and_evaluate pid=114875)\u001b[0m  To get the checkpoint\n",
      "\u001b[36m(launch_and_evaluate pid=114875)\u001b[0m [Client 9] evaluate, config: {}\n",
      "\u001b[36m(launch_and_evaluate pid=114875)\u001b[0m Updated model\n"
     ]
    },
    {
     "name": "stderr",
     "output_type": "stream",
     "text": [
      "\u001b[36m(launch_and_evaluate pid=114875)\u001b[0m /home/siddhant/QFML-QF-2024/src/utils/common.py:262: RuntimeWarning: More than 20 figures have been opened. Figures created through the pyplot interface (`matplotlib.pyplot.figure`) are retained until explicitly closed and may consume too much memory. (To control this warning, see the rcParam `figure.max_open_warning`). Consider using `matplotlib.pyplot.close()`.\n",
      "\u001b[36m(launch_and_evaluate pid=114875)\u001b[0m   plt.figure(figsize=(12, 7))\n",
      "\u001b[36m(launch_and_evaluate pid=114875)\u001b[0m /home/siddhant/QFML-QF-2024/src/utils/common.py:312: RuntimeWarning: More than 20 figures have been opened. Figures created through the pyplot interface (`matplotlib.pyplot.figure`) are retained until explicitly closed and may consume too much memory. (To control this warning, see the rcParam `figure.max_open_warning`). Consider using `matplotlib.pyplot.close()`.\n",
      "\u001b[36m(launch_and_evaluate pid=114875)\u001b[0m   plt.figure()\n"
     ]
    },
    {
     "name": "stdout",
     "output_type": "stream",
     "text": [
      "\u001b[36m(launch_and_evaluate pid=114875)\u001b[0m Run WITHOUT homomorphic encryption\n",
      "\u001b[36m(launch_and_evaluate pid=114875)\u001b[0m  To get the checkpoint\n",
      "\u001b[36m(launch_and_evaluate pid=114875)\u001b[0m [Client 4] evaluate, config: {}\n",
      "\u001b[36m(launch_and_evaluate pid=114875)\u001b[0m Updated model\n"
     ]
    },
    {
     "name": "stderr",
     "output_type": "stream",
     "text": [
      "\u001b[36m(launch_and_evaluate pid=114875)\u001b[0m /home/siddhant/QFML-QF-2024/src/utils/common.py:262: RuntimeWarning: More than 20 figures have been opened. Figures created through the pyplot interface (`matplotlib.pyplot.figure`) are retained until explicitly closed and may consume too much memory. (To control this warning, see the rcParam `figure.max_open_warning`). Consider using `matplotlib.pyplot.close()`.\n",
      "\u001b[36m(launch_and_evaluate pid=114875)\u001b[0m   plt.figure(figsize=(12, 7))\n",
      "\u001b[36m(launch_and_evaluate pid=114875)\u001b[0m /home/siddhant/QFML-QF-2024/src/utils/common.py:312: RuntimeWarning: More than 20 figures have been opened. Figures created through the pyplot interface (`matplotlib.pyplot.figure`) are retained until explicitly closed and may consume too much memory. (To control this warning, see the rcParam `figure.max_open_warning`). Consider using `matplotlib.pyplot.close()`.\n",
      "\u001b[36m(launch_and_evaluate pid=114875)\u001b[0m   plt.figure()\n"
     ]
    },
    {
     "name": "stdout",
     "output_type": "stream",
     "text": [
      "\u001b[36m(launch_and_evaluate pid=114875)\u001b[0m Run WITHOUT homomorphic encryption\n",
      "\u001b[36m(launch_and_evaluate pid=114875)\u001b[0m  To get the checkpoint\n",
      "\u001b[36m(launch_and_evaluate pid=114875)\u001b[0m [Client 7] evaluate, config: {}\n",
      "\u001b[36m(launch_and_evaluate pid=114875)\u001b[0m Updated model\n"
     ]
    },
    {
     "name": "stderr",
     "output_type": "stream",
     "text": [
      "\u001b[36m(launch_and_evaluate pid=114875)\u001b[0m /home/siddhant/QFML-QF-2024/src/utils/common.py:262: RuntimeWarning: More than 20 figures have been opened. Figures created through the pyplot interface (`matplotlib.pyplot.figure`) are retained until explicitly closed and may consume too much memory. (To control this warning, see the rcParam `figure.max_open_warning`). Consider using `matplotlib.pyplot.close()`.\n",
      "\u001b[36m(launch_and_evaluate pid=114875)\u001b[0m   plt.figure(figsize=(12, 7))\n",
      "\u001b[36m(launch_and_evaluate pid=114875)\u001b[0m /home/siddhant/QFML-QF-2024/src/utils/common.py:312: RuntimeWarning: More than 20 figures have been opened. Figures created through the pyplot interface (`matplotlib.pyplot.figure`) are retained until explicitly closed and may consume too much memory. (To control this warning, see the rcParam `figure.max_open_warning`). Consider using `matplotlib.pyplot.close()`.\n",
      "\u001b[36m(launch_and_evaluate pid=114875)\u001b[0m   plt.figure()\n"
     ]
    },
    {
     "name": "stdout",
     "output_type": "stream",
     "text": [
      "\u001b[36m(launch_and_evaluate pid=114875)\u001b[0m Run WITHOUT homomorphic encryption\n",
      "\u001b[36m(launch_and_evaluate pid=114875)\u001b[0m  To get the checkpoint\n",
      "\u001b[36m(launch_and_evaluate pid=114875)\u001b[0m [Client 3] evaluate, config: {}\n",
      "\u001b[36m(launch_and_evaluate pid=114875)\u001b[0m Updated model\n"
     ]
    },
    {
     "name": "stderr",
     "output_type": "stream",
     "text": [
      "\u001b[36m(launch_and_evaluate pid=114875)\u001b[0m /home/siddhant/QFML-QF-2024/src/utils/common.py:262: RuntimeWarning: More than 20 figures have been opened. Figures created through the pyplot interface (`matplotlib.pyplot.figure`) are retained until explicitly closed and may consume too much memory. (To control this warning, see the rcParam `figure.max_open_warning`). Consider using `matplotlib.pyplot.close()`.\n",
      "\u001b[36m(launch_and_evaluate pid=114875)\u001b[0m   plt.figure(figsize=(12, 7))\n",
      "\u001b[36m(launch_and_evaluate pid=114875)\u001b[0m /home/siddhant/QFML-QF-2024/src/utils/common.py:312: RuntimeWarning: More than 20 figures have been opened. Figures created through the pyplot interface (`matplotlib.pyplot.figure`) are retained until explicitly closed and may consume too much memory. (To control this warning, see the rcParam `figure.max_open_warning`). Consider using `matplotlib.pyplot.close()`.\n",
      "\u001b[36m(launch_and_evaluate pid=114875)\u001b[0m   plt.figure()\n"
     ]
    },
    {
     "name": "stdout",
     "output_type": "stream",
     "text": [
      "\u001b[36m(launch_and_evaluate pid=114875)\u001b[0m Run WITHOUT homomorphic encryption\n",
      "\u001b[36m(launch_and_evaluate pid=114875)\u001b[0m  To get the checkpoint\n",
      "\u001b[36m(launch_and_evaluate pid=114875)\u001b[0m [Client 6] evaluate, config: {}\n",
      "\u001b[36m(launch_and_evaluate pid=114875)\u001b[0m Updated model\n"
     ]
    },
    {
     "name": "stderr",
     "output_type": "stream",
     "text": [
      "\u001b[36m(launch_and_evaluate pid=114875)\u001b[0m /home/siddhant/QFML-QF-2024/src/utils/common.py:262: RuntimeWarning: More than 20 figures have been opened. Figures created through the pyplot interface (`matplotlib.pyplot.figure`) are retained until explicitly closed and may consume too much memory. (To control this warning, see the rcParam `figure.max_open_warning`). Consider using `matplotlib.pyplot.close()`.\n",
      "\u001b[36m(launch_and_evaluate pid=114875)\u001b[0m   plt.figure(figsize=(12, 7))\n",
      "\u001b[36m(launch_and_evaluate pid=114875)\u001b[0m /home/siddhant/QFML-QF-2024/src/utils/common.py:312: RuntimeWarning: More than 20 figures have been opened. Figures created through the pyplot interface (`matplotlib.pyplot.figure`) are retained until explicitly closed and may consume too much memory. (To control this warning, see the rcParam `figure.max_open_warning`). Consider using `matplotlib.pyplot.close()`.\n",
      "\u001b[36m(launch_and_evaluate pid=114875)\u001b[0m   plt.figure()\n"
     ]
    },
    {
     "name": "stdout",
     "output_type": "stream",
     "text": [
      "\u001b[36m(launch_and_evaluate pid=114875)\u001b[0m Run WITHOUT homomorphic encryption\n",
      "\u001b[36m(launch_and_evaluate pid=114875)\u001b[0m  To get the checkpoint\n",
      "\u001b[36m(launch_and_evaluate pid=114875)\u001b[0m [Client 2] evaluate, config: {}\n",
      "\u001b[36m(launch_and_evaluate pid=114875)\u001b[0m Updated model\n"
     ]
    },
    {
     "name": "stderr",
     "output_type": "stream",
     "text": [
      "\u001b[36m(launch_and_evaluate pid=114875)\u001b[0m /home/siddhant/QFML-QF-2024/src/utils/common.py:262: RuntimeWarning: More than 20 figures have been opened. Figures created through the pyplot interface (`matplotlib.pyplot.figure`) are retained until explicitly closed and may consume too much memory. (To control this warning, see the rcParam `figure.max_open_warning`). Consider using `matplotlib.pyplot.close()`.\n",
      "\u001b[36m(launch_and_evaluate pid=114875)\u001b[0m   plt.figure(figsize=(12, 7))\n",
      "\u001b[36m(launch_and_evaluate pid=114875)\u001b[0m /home/siddhant/QFML-QF-2024/src/utils/common.py:312: RuntimeWarning: More than 20 figures have been opened. Figures created through the pyplot interface (`matplotlib.pyplot.figure`) are retained until explicitly closed and may consume too much memory. (To control this warning, see the rcParam `figure.max_open_warning`). Consider using `matplotlib.pyplot.close()`.\n",
      "\u001b[36m(launch_and_evaluate pid=114875)\u001b[0m   plt.figure()\n"
     ]
    },
    {
     "name": "stdout",
     "output_type": "stream",
     "text": [
      "\u001b[36m(launch_and_evaluate pid=114875)\u001b[0m Run WITHOUT homomorphic encryption\n",
      "\u001b[36m(launch_and_evaluate pid=114875)\u001b[0m  To get the checkpoint\n",
      "\u001b[36m(launch_and_evaluate pid=114875)\u001b[0m [Client 8] evaluate, config: {}\n",
      "\u001b[36m(launch_and_evaluate pid=114875)\u001b[0m Updated model\n"
     ]
    },
    {
     "name": "stderr",
     "output_type": "stream",
     "text": [
      "\u001b[36m(launch_and_evaluate pid=114875)\u001b[0m /home/siddhant/QFML-QF-2024/src/utils/common.py:262: RuntimeWarning: More than 20 figures have been opened. Figures created through the pyplot interface (`matplotlib.pyplot.figure`) are retained until explicitly closed and may consume too much memory. (To control this warning, see the rcParam `figure.max_open_warning`). Consider using `matplotlib.pyplot.close()`.\n",
      "\u001b[36m(launch_and_evaluate pid=114875)\u001b[0m   plt.figure(figsize=(12, 7))\n",
      "\u001b[36m(launch_and_evaluate pid=114875)\u001b[0m /home/siddhant/QFML-QF-2024/src/utils/common.py:312: RuntimeWarning: More than 20 figures have been opened. Figures created through the pyplot interface (`matplotlib.pyplot.figure`) are retained until explicitly closed and may consume too much memory. (To control this warning, see the rcParam `figure.max_open_warning`). Consider using `matplotlib.pyplot.close()`.\n",
      "\u001b[36m(launch_and_evaluate pid=114875)\u001b[0m   plt.figure()\n",
      "DEBUG flwr 2024-07-14 01:22:38,067 | server.py:187 | evaluate_round 1 received 10 results and 0 failures\n",
      "DEBUG flwr 2024-07-14 01:22:38,067 | server.py:222 | fit_round 2: strategy sampled 10 clients (out of 10)\n"
     ]
    },
    {
     "name": "stdout",
     "output_type": "stream",
     "text": [
      "\u001b[36m(launch_and_fit pid=114875)\u001b[0m Run WITHOUT homomorphic encryption\n",
      "\u001b[36m(launch_and_fit pid=114875)\u001b[0m  To get the checkpoint\n",
      "\u001b[36m(launch_and_fit pid=114875)\u001b[0m [Client 5, round 2] fit, config: {'learning_rate': 0.003, 'batch_size': '256', 'server_round': 2, 'local_epochs': 5}\n",
      "\u001b[36m(launch_and_fit pid=114875)\u001b[0m Updated model\n",
      "\u001b[36m(launch_and_fit pid=114875)\u001b[0m \tTrain Epoch: 1 \tTrain_loss: 2.3030 | Train_acc: 9.7803 % | Validation_loss: 2.3026 | Validation_acc: 9.1669 %\n"
     ]
    },
    {
     "name": "stderr",
     "output_type": "stream",
     "text": [
      "  0%|\u001b[34m          \u001b[0m| 0/5 [00:00<?, ?it/s]\n",
      " 20%|\u001b[34m██        \u001b[0m| 1/5 [00:01<00:04,  1.21s/it]\n"
     ]
    },
    {
     "name": "stdout",
     "output_type": "stream",
     "text": [
      "\u001b[36m(launch_and_fit pid=114875)\u001b[0m \tTrain Epoch: 2 \tTrain_loss: 2.3030 | Train_acc: 9.7328 % | Validation_loss: 2.3026 | Validation_acc: 9.1669 %\n"
     ]
    },
    {
     "name": "stderr",
     "output_type": "stream",
     "text": [
      " 40%|\u001b[34m████      \u001b[0m| 2/5 [00:02<00:03,  1.19s/it]\n"
     ]
    },
    {
     "name": "stdout",
     "output_type": "stream",
     "text": [
      "\u001b[36m(launch_and_fit pid=114875)\u001b[0m \tTrain Epoch: 3 \tTrain_loss: 2.3029 | Train_acc: 9.7645 % | Validation_loss: 2.3026 | Validation_acc: 9.1669 %\n"
     ]
    },
    {
     "name": "stderr",
     "output_type": "stream",
     "text": [
      " 60%|\u001b[34m██████    \u001b[0m| 3/5 [00:03<00:02,  1.18s/it]\n"
     ]
    },
    {
     "name": "stdout",
     "output_type": "stream",
     "text": [
      "\u001b[36m(launch_and_fit pid=114875)\u001b[0m \tTrain Epoch: 4 \tTrain_loss: 2.3030 | Train_acc: 9.7169 % | Validation_loss: 2.3026 | Validation_acc: 9.1669 %\n"
     ]
    },
    {
     "name": "stderr",
     "output_type": "stream",
     "text": [
      " 80%|\u001b[34m████████  \u001b[0m| 4/5 [00:04<00:01,  1.18s/it]\n"
     ]
    },
    {
     "name": "stdout",
     "output_type": "stream",
     "text": [
      "\u001b[36m(launch_and_fit pid=114875)\u001b[0m \tTrain Epoch: 5 \tTrain_loss: 2.3030 | Train_acc: 9.6378 % | Validation_loss: 2.3026 | Validation_acc: 9.1669 %\n",
      "\u001b[36m(launch_and_fit pid=114875)\u001b[0m save graph in  results/FL/\n"
     ]
    },
    {
     "name": "stderr",
     "output_type": "stream",
     "text": [
      "100%|\u001b[34m██████████\u001b[0m| 5/5 [00:05<00:00,  1.18s/it]\n",
      "\u001b[36m(launch_and_fit pid=114875)\u001b[0m /home/siddhant/QFML-QF-2024/src/utils/common.py:393: RuntimeWarning: More than 20 figures have been opened. Figures created through the pyplot interface (`matplotlib.pyplot.figure`) are retained until explicitly closed and may consume too much memory. (To control this warning, see the rcParam `figure.max_open_warning`). Consider using `matplotlib.pyplot.close()`.\n",
      "\u001b[36m(launch_and_fit pid=114875)\u001b[0m   plt.figure()\n"
     ]
    },
    {
     "name": "stdout",
     "output_type": "stream",
     "text": [
      "\u001b[36m(launch_and_fit pid=114875)\u001b[0m Run WITHOUT homomorphic encryption\n",
      "\u001b[36m(launch_and_fit pid=114875)\u001b[0m  To get the checkpoint\n",
      "\u001b[36m(launch_and_fit pid=114875)\u001b[0m [Client 4, round 2] fit, config: {'learning_rate': 0.003, 'batch_size': '256', 'server_round': 2, 'local_epochs': 5}\n",
      "\u001b[36m(launch_and_fit pid=114875)\u001b[0m Updated model\n"
     ]
    },
    {
     "name": "stderr",
     "output_type": "stream",
     "text": [
      "  0%|\u001b[34m          \u001b[0m| 0/5 [00:00<?, ?it/s]\n"
     ]
    },
    {
     "name": "stdout",
     "output_type": "stream",
     "text": [
      "\u001b[36m(launch_and_fit pid=114875)\u001b[0m \tTrain Epoch: 1 \tTrain_loss: 2.3026 | Train_acc: 10.3087 % | Validation_loss: 2.3039 | Validation_acc: 7.3899 %\n"
     ]
    },
    {
     "name": "stderr",
     "output_type": "stream",
     "text": [
      " 20%|\u001b[34m██        \u001b[0m| 1/5 [00:01<00:04,  1.17s/it]\n"
     ]
    },
    {
     "name": "stdout",
     "output_type": "stream",
     "text": [
      "\u001b[36m(launch_and_fit pid=114875)\u001b[0m \tTrain Epoch: 2 \tTrain_loss: 2.3026 | Train_acc: 10.3404 % | Validation_loss: 2.3039 | Validation_acc: 7.3899 %\n"
     ]
    },
    {
     "name": "stderr",
     "output_type": "stream",
     "text": [
      " 40%|\u001b[34m████      \u001b[0m| 2/5 [00:02<00:03,  1.17s/it]\n"
     ]
    },
    {
     "name": "stdout",
     "output_type": "stream",
     "text": [
      "\u001b[36m(launch_and_fit pid=114875)\u001b[0m \tTrain Epoch: 3 \tTrain_loss: 2.3026 | Train_acc: 10.3563 % | Validation_loss: 2.3039 | Validation_acc: 7.3899 %\n"
     ]
    },
    {
     "name": "stderr",
     "output_type": "stream",
     "text": [
      " 60%|\u001b[34m██████    \u001b[0m| 3/5 [00:03<00:02,  1.18s/it]\n"
     ]
    },
    {
     "name": "stdout",
     "output_type": "stream",
     "text": [
      "\u001b[36m(launch_and_fit pid=114875)\u001b[0m \tTrain Epoch: 4 \tTrain_loss: 2.3026 | Train_acc: 10.4196 % | Validation_loss: 2.3039 | Validation_acc: 7.3899 %\n"
     ]
    },
    {
     "name": "stderr",
     "output_type": "stream",
     "text": [
      " 80%|\u001b[34m████████  \u001b[0m| 4/5 [00:04<00:01,  1.18s/it]\n"
     ]
    },
    {
     "name": "stdout",
     "output_type": "stream",
     "text": [
      "\u001b[36m(launch_and_fit pid=114875)\u001b[0m \tTrain Epoch: 5 \tTrain_loss: 2.3026 | Train_acc: 10.4038 % | Validation_loss: 2.3039 | Validation_acc: 7.3899 %\n",
      "\u001b[36m(launch_and_fit pid=114875)\u001b[0m save graph in  results/FL/\n"
     ]
    },
    {
     "name": "stderr",
     "output_type": "stream",
     "text": [
      "100%|\u001b[34m██████████\u001b[0m| 5/5 [00:05<00:00,  1.18s/it]\n"
     ]
    },
    {
     "name": "stdout",
     "output_type": "stream",
     "text": [
      "\u001b[36m(launch_and_fit pid=114875)\u001b[0m Run WITHOUT homomorphic encryption\n",
      "\u001b[36m(launch_and_fit pid=114875)\u001b[0m  To get the checkpoint\n",
      "\u001b[36m(launch_and_fit pid=114875)\u001b[0m [Client 3, round 2] fit, config: {'learning_rate': 0.003, 'batch_size': '256', 'server_round': 2, 'local_epochs': 5}\n",
      "\u001b[36m(launch_and_fit pid=114875)\u001b[0m Updated model\n"
     ]
    },
    {
     "name": "stderr",
     "output_type": "stream",
     "text": [
      "  0%|\u001b[34m          \u001b[0m| 0/5 [00:00<?, ?it/s]\n"
     ]
    },
    {
     "name": "stdout",
     "output_type": "stream",
     "text": [
      "\u001b[36m(launch_and_fit pid=114875)\u001b[0m \tTrain Epoch: 1 \tTrain_loss: 2.3032 | Train_acc: 9.3856 % | Validation_loss: 2.3025 | Validation_acc: 11.2257 %\n"
     ]
    },
    {
     "name": "stderr",
     "output_type": "stream",
     "text": [
      " 20%|\u001b[34m██        \u001b[0m| 1/5 [00:01<00:04,  1.17s/it]\n"
     ]
    },
    {
     "name": "stdout",
     "output_type": "stream",
     "text": [
      "\u001b[36m(launch_and_fit pid=114875)\u001b[0m \tTrain Epoch: 2 \tTrain_loss: 2.3032 | Train_acc: 9.3539 % | Validation_loss: 2.3025 | Validation_acc: 11.2257 %\n"
     ]
    },
    {
     "name": "stderr",
     "output_type": "stream",
     "text": [
      " 40%|\u001b[34m████      \u001b[0m| 2/5 [00:02<00:03,  1.17s/it]\n"
     ]
    },
    {
     "name": "stdout",
     "output_type": "stream",
     "text": [
      "\u001b[36m(launch_and_fit pid=114875)\u001b[0m \tTrain Epoch: 3 \tTrain_loss: 2.3031 | Train_acc: 9.4331 % | Validation_loss: 2.3025 | Validation_acc: 11.2257 %\n"
     ]
    },
    {
     "name": "stderr",
     "output_type": "stream",
     "text": [
      " 60%|\u001b[34m██████    \u001b[0m| 3/5 [00:03<00:02,  1.17s/it]\n"
     ]
    },
    {
     "name": "stdout",
     "output_type": "stream",
     "text": [
      "\u001b[36m(launch_and_fit pid=114875)\u001b[0m \tTrain Epoch: 4 \tTrain_loss: 2.3031 | Train_acc: 9.3856 % | Validation_loss: 2.3025 | Validation_acc: 11.2257 %\n"
     ]
    },
    {
     "name": "stderr",
     "output_type": "stream",
     "text": [
      " 80%|\u001b[34m████████  \u001b[0m| 4/5 [00:04<00:01,  1.17s/it]\n"
     ]
    },
    {
     "name": "stdout",
     "output_type": "stream",
     "text": [
      "\u001b[36m(launch_and_fit pid=114875)\u001b[0m \tTrain Epoch: 5 \tTrain_loss: 2.3031 | Train_acc: 9.3222 % | Validation_loss: 2.3025 | Validation_acc: 11.2257 %\n",
      "\u001b[36m(launch_and_fit pid=114875)\u001b[0m save graph in  results/FL/\n"
     ]
    },
    {
     "name": "stderr",
     "output_type": "stream",
     "text": [
      "100%|\u001b[34m██████████\u001b[0m| 5/5 [00:05<00:00,  1.17s/it]\n"
     ]
    },
    {
     "name": "stdout",
     "output_type": "stream",
     "text": [
      "\u001b[36m(launch_and_fit pid=114875)\u001b[0m Run WITHOUT homomorphic encryption\n",
      "\u001b[36m(launch_and_fit pid=114875)\u001b[0m  To get the checkpoint\n",
      "\u001b[36m(launch_and_fit pid=114875)\u001b[0m [Client 2, round 2] fit, config: {'learning_rate': 0.003, 'batch_size': '256', 'server_round': 2, 'local_epochs': 5}\n",
      "\u001b[36m(launch_and_fit pid=114875)\u001b[0m Updated model\n"
     ]
    },
    {
     "name": "stderr",
     "output_type": "stream",
     "text": [
      "  0%|\u001b[34m          \u001b[0m| 0/5 [00:00<?, ?it/s]\n"
     ]
    },
    {
     "name": "stdout",
     "output_type": "stream",
     "text": [
      "\u001b[36m(launch_and_fit pid=114875)\u001b[0m \tTrain Epoch: 1 \tTrain_loss: 2.3030 | Train_acc: 9.9574 % | Validation_loss: 2.3029 | Validation_acc: 9.9962 %\n"
     ]
    },
    {
     "name": "stderr",
     "output_type": "stream",
     "text": [
      " 20%|\u001b[34m██        \u001b[0m| 1/5 [00:01<00:04,  1.17s/it]\n"
     ]
    },
    {
     "name": "stdout",
     "output_type": "stream",
     "text": [
      "\u001b[36m(launch_and_fit pid=114875)\u001b[0m \tTrain Epoch: 2 \tTrain_loss: 2.3029 | Train_acc: 10.1158 % | Validation_loss: 2.3029 | Validation_acc: 9.9962 %\n"
     ]
    },
    {
     "name": "stderr",
     "output_type": "stream",
     "text": [
      " 40%|\u001b[34m████      \u001b[0m| 2/5 [00:02<00:03,  1.16s/it]\n"
     ]
    },
    {
     "name": "stdout",
     "output_type": "stream",
     "text": [
      "\u001b[36m(launch_and_fit pid=114875)\u001b[0m \tTrain Epoch: 3 \tTrain_loss: 2.3030 | Train_acc: 10.0049 % | Validation_loss: 2.3029 | Validation_acc: 9.9962 %\n"
     ]
    },
    {
     "name": "stderr",
     "output_type": "stream",
     "text": [
      " 60%|\u001b[34m██████    \u001b[0m| 3/5 [00:03<00:02,  1.16s/it]\n"
     ]
    },
    {
     "name": "stdout",
     "output_type": "stream",
     "text": [
      "\u001b[36m(launch_and_fit pid=114875)\u001b[0m \tTrain Epoch: 4 \tTrain_loss: 2.3029 | Train_acc: 10.0841 % | Validation_loss: 2.3029 | Validation_acc: 9.9962 %\n"
     ]
    },
    {
     "name": "stderr",
     "output_type": "stream",
     "text": [
      " 80%|\u001b[34m████████  \u001b[0m| 4/5 [00:04<00:01,  1.16s/it]\n"
     ]
    },
    {
     "name": "stdout",
     "output_type": "stream",
     "text": [
      "\u001b[36m(launch_and_fit pid=114875)\u001b[0m \tTrain Epoch: 5 \tTrain_loss: 2.3030 | Train_acc: 10.0049 % | Validation_loss: 2.3029 | Validation_acc: 9.9962 %\n",
      "\u001b[36m(launch_and_fit pid=114875)\u001b[0m save graph in  results/FL/\n"
     ]
    },
    {
     "name": "stderr",
     "output_type": "stream",
     "text": [
      "100%|\u001b[34m██████████\u001b[0m| 5/5 [00:05<00:00,  1.16s/it]\n"
     ]
    },
    {
     "name": "stdout",
     "output_type": "stream",
     "text": [
      "\u001b[36m(launch_and_fit pid=114875)\u001b[0m Run WITHOUT homomorphic encryption\n",
      "\u001b[36m(launch_and_fit pid=114875)\u001b[0m  To get the checkpoint\n",
      "\u001b[36m(launch_and_fit pid=114875)\u001b[0m [Client 6, round 2] fit, config: {'learning_rate': 0.003, 'batch_size': '256', 'server_round': 2, 'local_epochs': 5}\n",
      "\u001b[36m(launch_and_fit pid=114875)\u001b[0m Updated model\n"
     ]
    },
    {
     "name": "stderr",
     "output_type": "stream",
     "text": [
      "  0%|\u001b[34m          \u001b[0m| 0/5 [00:00<?, ?it/s]\n"
     ]
    },
    {
     "name": "stdout",
     "output_type": "stream",
     "text": [
      "\u001b[36m(launch_and_fit pid=114875)\u001b[0m \tTrain Epoch: 1 \tTrain_loss: 2.3026 | Train_acc: 10.1809 % | Validation_loss: 2.3024 | Validation_acc: 10.0538 %\n"
     ]
    },
    {
     "name": "stderr",
     "output_type": "stream",
     "text": [
      " 20%|\u001b[34m██        \u001b[0m| 1/5 [00:01<00:04,  1.16s/it]\n"
     ]
    },
    {
     "name": "stdout",
     "output_type": "stream",
     "text": [
      "\u001b[36m(launch_and_fit pid=114875)\u001b[0m \tTrain Epoch: 2 \tTrain_loss: 2.3027 | Train_acc: 10.1650 % | Validation_loss: 2.3024 | Validation_acc: 10.0538 %\n"
     ]
    },
    {
     "name": "stderr",
     "output_type": "stream",
     "text": [
      " 40%|\u001b[34m████      \u001b[0m| 2/5 [00:02<00:03,  1.16s/it]\n"
     ]
    },
    {
     "name": "stdout",
     "output_type": "stream",
     "text": [
      "\u001b[36m(launch_and_fit pid=114875)\u001b[0m \tTrain Epoch: 3 \tTrain_loss: 2.3027 | Train_acc: 10.1334 % | Validation_loss: 2.3024 | Validation_acc: 10.0538 %\n"
     ]
    },
    {
     "name": "stderr",
     "output_type": "stream",
     "text": [
      " 60%|\u001b[34m██████    \u001b[0m| 3/5 [00:03<00:02,  1.16s/it]\n"
     ]
    },
    {
     "name": "stdout",
     "output_type": "stream",
     "text": [
      "\u001b[36m(launch_and_fit pid=114875)\u001b[0m \tTrain Epoch: 4 \tTrain_loss: 2.3026 | Train_acc: 10.1650 % | Validation_loss: 2.3024 | Validation_acc: 10.0538 %\n"
     ]
    },
    {
     "name": "stderr",
     "output_type": "stream",
     "text": [
      " 80%|\u001b[34m████████  \u001b[0m| 4/5 [00:04<00:01,  1.16s/it]\n"
     ]
    },
    {
     "name": "stdout",
     "output_type": "stream",
     "text": [
      "\u001b[36m(launch_and_fit pid=114875)\u001b[0m \tTrain Epoch: 5 \tTrain_loss: 2.3026 | Train_acc: 10.1967 % | Validation_loss: 2.3024 | Validation_acc: 10.0538 %\n",
      "\u001b[36m(launch_and_fit pid=114875)\u001b[0m save graph in  results/FL/\n"
     ]
    },
    {
     "name": "stderr",
     "output_type": "stream",
     "text": [
      "100%|\u001b[34m██████████\u001b[0m| 5/5 [00:05<00:00,  1.16s/it]\n"
     ]
    },
    {
     "name": "stdout",
     "output_type": "stream",
     "text": [
      "\u001b[36m(launch_and_fit pid=114875)\u001b[0m Run WITHOUT homomorphic encryption\n",
      "\u001b[36m(launch_and_fit pid=114875)\u001b[0m  To get the checkpoint\n",
      "\u001b[36m(launch_and_fit pid=114875)\u001b[0m [Client 0, round 2] fit, config: {'learning_rate': 0.003, 'batch_size': '256', 'server_round': 2, 'local_epochs': 5}\n",
      "\u001b[36m(launch_and_fit pid=114875)\u001b[0m Updated model\n"
     ]
    },
    {
     "name": "stderr",
     "output_type": "stream",
     "text": [
      "  0%|\u001b[34m          \u001b[0m| 0/5 [00:00<?, ?it/s]\n"
     ]
    },
    {
     "name": "stdout",
     "output_type": "stream",
     "text": [
      "\u001b[36m(launch_and_fit pid=114875)\u001b[0m \tTrain Epoch: 1 \tTrain_loss: 2.3027 | Train_acc: 9.8196 % | Validation_loss: 2.3048 | Validation_acc: 7.9950 %\n"
     ]
    },
    {
     "name": "stderr",
     "output_type": "stream",
     "text": [
      " 20%|\u001b[34m██        \u001b[0m| 1/5 [00:01<00:04,  1.16s/it]\n"
     ]
    },
    {
     "name": "stdout",
     "output_type": "stream",
     "text": [
      "\u001b[36m(launch_and_fit pid=114875)\u001b[0m \tTrain Epoch: 2 \tTrain_loss: 2.3028 | Train_acc: 9.8196 % | Validation_loss: 2.3048 | Validation_acc: 7.9950 %\n"
     ]
    },
    {
     "name": "stderr",
     "output_type": "stream",
     "text": [
      " 40%|\u001b[34m████      \u001b[0m| 2/5 [00:02<00:03,  1.15s/it]\n"
     ]
    },
    {
     "name": "stdout",
     "output_type": "stream",
     "text": [
      "\u001b[36m(launch_and_fit pid=114875)\u001b[0m \tTrain Epoch: 3 \tTrain_loss: 2.3027 | Train_acc: 9.8829 % | Validation_loss: 2.3048 | Validation_acc: 7.9950 %\n"
     ]
    },
    {
     "name": "stderr",
     "output_type": "stream",
     "text": [
      " 60%|\u001b[34m██████    \u001b[0m| 3/5 [00:03<00:02,  1.15s/it]\n"
     ]
    },
    {
     "name": "stdout",
     "output_type": "stream",
     "text": [
      "\u001b[36m(launch_and_fit pid=114875)\u001b[0m \tTrain Epoch: 4 \tTrain_loss: 2.3028 | Train_acc: 9.8829 % | Validation_loss: 2.3048 | Validation_acc: 7.9950 %\n"
     ]
    },
    {
     "name": "stderr",
     "output_type": "stream",
     "text": [
      " 80%|\u001b[34m████████  \u001b[0m| 4/5 [00:04<00:01,  1.16s/it]\n"
     ]
    },
    {
     "name": "stdout",
     "output_type": "stream",
     "text": [
      "\u001b[36m(launch_and_fit pid=114875)\u001b[0m \tTrain Epoch: 5 \tTrain_loss: 2.3027 | Train_acc: 9.8829 % | Validation_loss: 2.3048 | Validation_acc: 7.9950 %\n",
      "\u001b[36m(launch_and_fit pid=114875)\u001b[0m save graph in  results/FL/\n"
     ]
    },
    {
     "name": "stderr",
     "output_type": "stream",
     "text": [
      "100%|\u001b[34m██████████\u001b[0m| 5/5 [00:05<00:00,  1.16s/it]\n"
     ]
    },
    {
     "name": "stdout",
     "output_type": "stream",
     "text": [
      "\u001b[36m(launch_and_fit pid=114875)\u001b[0m Run WITHOUT homomorphic encryption\n",
      "\u001b[36m(launch_and_fit pid=114875)\u001b[0m  To get the checkpoint\n",
      "\u001b[36m(launch_and_fit pid=114875)\u001b[0m [Client 7, round 2] fit, config: {'learning_rate': 0.003, 'batch_size': '256', 'server_round': 2, 'local_epochs': 5}\n",
      "\u001b[36m(launch_and_fit pid=114875)\u001b[0m Updated model\n"
     ]
    },
    {
     "name": "stderr",
     "output_type": "stream",
     "text": [
      "  0%|\u001b[34m          \u001b[0m| 0/5 [00:00<?, ?it/s]\n"
     ]
    },
    {
     "name": "stdout",
     "output_type": "stream",
     "text": [
      "\u001b[36m(launch_and_fit pid=114875)\u001b[0m \tTrain Epoch: 1 \tTrain_loss: 2.3025 | Train_acc: 10.2401 % | Validation_loss: 2.3030 | Validation_acc: 11.7540 %\n"
     ]
    },
    {
     "name": "stderr",
     "output_type": "stream",
     "text": [
      " 20%|\u001b[34m██        \u001b[0m| 1/5 [00:01<00:05,  1.40s/it]\n"
     ]
    },
    {
     "name": "stdout",
     "output_type": "stream",
     "text": [
      "\u001b[36m(launch_and_fit pid=114875)\u001b[0m \tTrain Epoch: 2 \tTrain_loss: 2.3026 | Train_acc: 10.1134 % | Validation_loss: 2.3030 | Validation_acc: 11.7540 %\n"
     ]
    },
    {
     "name": "stderr",
     "output_type": "stream",
     "text": [
      " 40%|\u001b[34m████      \u001b[0m| 2/5 [00:02<00:03,  1.27s/it]\n"
     ]
    },
    {
     "name": "stdout",
     "output_type": "stream",
     "text": [
      "\u001b[36m(launch_and_fit pid=114875)\u001b[0m \tTrain Epoch: 3 \tTrain_loss: 2.3025 | Train_acc: 10.0818 % | Validation_loss: 2.3030 | Validation_acc: 11.7540 %\n"
     ]
    },
    {
     "name": "stderr",
     "output_type": "stream",
     "text": [
      " 60%|\u001b[34m██████    \u001b[0m| 3/5 [00:03<00:02,  1.22s/it]\n"
     ]
    },
    {
     "name": "stdout",
     "output_type": "stream",
     "text": [
      "\u001b[36m(launch_and_fit pid=114875)\u001b[0m \tTrain Epoch: 4 \tTrain_loss: 2.3026 | Train_acc: 10.1293 % | Validation_loss: 2.3030 | Validation_acc: 11.7540 %\n"
     ]
    },
    {
     "name": "stderr",
     "output_type": "stream",
     "text": [
      " 80%|\u001b[34m████████  \u001b[0m| 4/5 [00:04<00:01,  1.21s/it]\n"
     ]
    },
    {
     "name": "stdout",
     "output_type": "stream",
     "text": [
      "\u001b[36m(launch_and_fit pid=114875)\u001b[0m \tTrain Epoch: 5 \tTrain_loss: 2.3025 | Train_acc: 10.0976 % | Validation_loss: 2.3030 | Validation_acc: 11.7540 %\n",
      "\u001b[36m(launch_and_fit pid=114875)\u001b[0m save graph in  results/FL/\n"
     ]
    },
    {
     "name": "stderr",
     "output_type": "stream",
     "text": [
      "100%|\u001b[34m██████████\u001b[0m| 5/5 [00:06<00:00,  1.22s/it]\n"
     ]
    },
    {
     "name": "stdout",
     "output_type": "stream",
     "text": [
      "\u001b[36m(launch_and_fit pid=114875)\u001b[0m Run WITHOUT homomorphic encryption\n",
      "\u001b[36m(launch_and_fit pid=114875)\u001b[0m  To get the checkpoint\n",
      "\u001b[36m(launch_and_fit pid=114875)\u001b[0m [Client 9, round 2] fit, config: {'learning_rate': 0.003, 'batch_size': '256', 'server_round': 2, 'local_epochs': 5}\n",
      "\u001b[36m(launch_and_fit pid=114875)\u001b[0m Updated model\n"
     ]
    },
    {
     "name": "stderr",
     "output_type": "stream",
     "text": [
      "  0%|\u001b[34m          \u001b[0m| 0/5 [00:00<?, ?it/s]\n"
     ]
    },
    {
     "name": "stdout",
     "output_type": "stream",
     "text": [
      "\u001b[36m(launch_and_fit pid=114875)\u001b[0m \tTrain Epoch: 1 \tTrain_loss: 2.3023 | Train_acc: 10.2536 % | Validation_loss: 2.3035 | Validation_acc: 9.8201 %\n"
     ]
    },
    {
     "name": "stderr",
     "output_type": "stream",
     "text": [
      " 20%|\u001b[34m██        \u001b[0m| 1/5 [00:01<00:04,  1.17s/it]\n"
     ]
    },
    {
     "name": "stdout",
     "output_type": "stream",
     "text": [
      "\u001b[36m(launch_and_fit pid=114875)\u001b[0m \tTrain Epoch: 2 \tTrain_loss: 2.3023 | Train_acc: 10.3170 % | Validation_loss: 2.3035 | Validation_acc: 9.8201 %\n"
     ]
    },
    {
     "name": "stderr",
     "output_type": "stream",
     "text": [
      " 40%|\u001b[34m████      \u001b[0m| 2/5 [00:02<00:03,  1.17s/it]\n"
     ]
    },
    {
     "name": "stdout",
     "output_type": "stream",
     "text": [
      "\u001b[36m(launch_and_fit pid=114875)\u001b[0m \tTrain Epoch: 3 \tTrain_loss: 2.3023 | Train_acc: 10.3645 % | Validation_loss: 2.3035 | Validation_acc: 9.8201 %\n"
     ]
    },
    {
     "name": "stderr",
     "output_type": "stream",
     "text": [
      " 60%|\u001b[34m██████    \u001b[0m| 3/5 [00:03<00:02,  1.17s/it]\n"
     ]
    },
    {
     "name": "stdout",
     "output_type": "stream",
     "text": [
      "\u001b[36m(launch_and_fit pid=114875)\u001b[0m \tTrain Epoch: 4 \tTrain_loss: 2.3023 | Train_acc: 10.3011 % | Validation_loss: 2.3035 | Validation_acc: 9.8201 %\n"
     ]
    },
    {
     "name": "stderr",
     "output_type": "stream",
     "text": [
      " 80%|\u001b[34m████████  \u001b[0m| 4/5 [00:04<00:01,  1.16s/it]\n"
     ]
    },
    {
     "name": "stdout",
     "output_type": "stream",
     "text": [
      "\u001b[36m(launch_and_fit pid=114875)\u001b[0m \tTrain Epoch: 5 \tTrain_loss: 2.3024 | Train_acc: 10.2378 % | Validation_loss: 2.3035 | Validation_acc: 9.8201 %\n",
      "\u001b[36m(launch_and_fit pid=114875)\u001b[0m save graph in  results/FL/\n"
     ]
    },
    {
     "name": "stderr",
     "output_type": "stream",
     "text": [
      "100%|\u001b[34m██████████\u001b[0m| 5/5 [00:05<00:00,  1.16s/it]\n"
     ]
    },
    {
     "name": "stdout",
     "output_type": "stream",
     "text": [
      "\u001b[36m(launch_and_fit pid=114875)\u001b[0m Run WITHOUT homomorphic encryption\n",
      "\u001b[36m(launch_and_fit pid=114875)\u001b[0m  To get the checkpoint\n",
      "\u001b[36m(launch_and_fit pid=114875)\u001b[0m [Client 8, round 2] fit, config: {'learning_rate': 0.003, 'batch_size': '256', 'server_round': 2, 'local_epochs': 5}\n",
      "\u001b[36m(launch_and_fit pid=114875)\u001b[0m Updated model\n"
     ]
    },
    {
     "name": "stderr",
     "output_type": "stream",
     "text": [
      "  0%|\u001b[34m          \u001b[0m| 0/5 [00:00<?, ?it/s]\n"
     ]
    },
    {
     "name": "stdout",
     "output_type": "stream",
     "text": [
      "\u001b[36m(launch_and_fit pid=114875)\u001b[0m \tTrain Epoch: 1 \tTrain_loss: 2.3027 | Train_acc: 9.9123 % | Validation_loss: 2.3037 | Validation_acc: 10.0346 %\n"
     ]
    },
    {
     "name": "stderr",
     "output_type": "stream",
     "text": [
      " 20%|\u001b[34m██        \u001b[0m| 1/5 [00:01<00:04,  1.18s/it]\n"
     ]
    },
    {
     "name": "stdout",
     "output_type": "stream",
     "text": [
      "\u001b[36m(launch_and_fit pid=114875)\u001b[0m \tTrain Epoch: 2 \tTrain_loss: 2.3027 | Train_acc: 9.9598 % | Validation_loss: 2.3037 | Validation_acc: 10.0346 %\n"
     ]
    },
    {
     "name": "stderr",
     "output_type": "stream",
     "text": [
      " 40%|\u001b[34m████      \u001b[0m| 2/5 [00:02<00:03,  1.17s/it]\n"
     ]
    },
    {
     "name": "stdout",
     "output_type": "stream",
     "text": [
      "\u001b[36m(launch_and_fit pid=114875)\u001b[0m \tTrain Epoch: 3 \tTrain_loss: 2.3027 | Train_acc: 10.0073 % | Validation_loss: 2.3037 | Validation_acc: 10.0346 %\n"
     ]
    },
    {
     "name": "stderr",
     "output_type": "stream",
     "text": [
      " 60%|\u001b[34m██████    \u001b[0m| 3/5 [00:03<00:02,  1.17s/it]\n"
     ]
    },
    {
     "name": "stdout",
     "output_type": "stream",
     "text": [
      "\u001b[36m(launch_and_fit pid=114875)\u001b[0m \tTrain Epoch: 4 \tTrain_loss: 2.3027 | Train_acc: 9.9281 % | Validation_loss: 2.3037 | Validation_acc: 10.0346 %\n"
     ]
    },
    {
     "name": "stderr",
     "output_type": "stream",
     "text": [
      " 80%|\u001b[34m████████  \u001b[0m| 4/5 [00:04<00:01,  1.17s/it]\n"
     ]
    },
    {
     "name": "stdout",
     "output_type": "stream",
     "text": [
      "\u001b[36m(launch_and_fit pid=114875)\u001b[0m \tTrain Epoch: 5 \tTrain_loss: 2.3027 | Train_acc: 9.9598 % | Validation_loss: 2.3037 | Validation_acc: 10.0346 %\n",
      "\u001b[36m(launch_and_fit pid=114875)\u001b[0m save graph in  results/FL/\n"
     ]
    },
    {
     "name": "stderr",
     "output_type": "stream",
     "text": [
      "100%|\u001b[34m██████████\u001b[0m| 5/5 [00:05<00:00,  1.17s/it]\n"
     ]
    },
    {
     "name": "stdout",
     "output_type": "stream",
     "text": [
      "\u001b[36m(launch_and_fit pid=114875)\u001b[0m Run WITHOUT homomorphic encryption\n",
      "\u001b[36m(launch_and_fit pid=114875)\u001b[0m  To get the checkpoint\n",
      "\u001b[36m(launch_and_fit pid=114875)\u001b[0m [Client 1, round 2] fit, config: {'learning_rate': 0.003, 'batch_size': '256', 'server_round': 2, 'local_epochs': 5}\n",
      "\u001b[36m(launch_and_fit pid=114875)\u001b[0m Updated model\n"
     ]
    },
    {
     "name": "stderr",
     "output_type": "stream",
     "text": [
      "  0%|\u001b[34m          \u001b[0m| 0/5 [00:00<?, ?it/s]\n"
     ]
    },
    {
     "name": "stdout",
     "output_type": "stream",
     "text": [
      "\u001b[36m(launch_and_fit pid=114875)\u001b[0m \tTrain Epoch: 1 \tTrain_loss: 2.3027 | Train_acc: 10.6067 % | Validation_loss: 2.3053 | Validation_acc: 6.6374 %\n"
     ]
    },
    {
     "name": "stderr",
     "output_type": "stream",
     "text": [
      " 20%|\u001b[34m██        \u001b[0m| 1/5 [00:01<00:04,  1.17s/it]\n"
     ]
    },
    {
     "name": "stdout",
     "output_type": "stream",
     "text": [
      "\u001b[36m(launch_and_fit pid=114875)\u001b[0m \tTrain Epoch: 2 \tTrain_loss: 2.3026 | Train_acc: 10.7334 % | Validation_loss: 2.3053 | Validation_acc: 6.6374 %\n"
     ]
    },
    {
     "name": "stderr",
     "output_type": "stream",
     "text": [
      " 40%|\u001b[34m████      \u001b[0m| 2/5 [00:02<00:03,  1.16s/it]\n"
     ]
    },
    {
     "name": "stdout",
     "output_type": "stream",
     "text": [
      "\u001b[36m(launch_and_fit pid=114875)\u001b[0m \tTrain Epoch: 3 \tTrain_loss: 2.3026 | Train_acc: 10.7492 % | Validation_loss: 2.3053 | Validation_acc: 6.6374 %\n"
     ]
    },
    {
     "name": "stderr",
     "output_type": "stream",
     "text": [
      " 60%|\u001b[34m██████    \u001b[0m| 3/5 [00:03<00:02,  1.16s/it]\n"
     ]
    },
    {
     "name": "stdout",
     "output_type": "stream",
     "text": [
      "\u001b[36m(launch_and_fit pid=114875)\u001b[0m \tTrain Epoch: 4 \tTrain_loss: 2.3026 | Train_acc: 10.7176 % | Validation_loss: 2.3053 | Validation_acc: 6.6374 %\n"
     ]
    },
    {
     "name": "stderr",
     "output_type": "stream",
     "text": [
      " 80%|\u001b[34m████████  \u001b[0m| 4/5 [00:04<00:01,  1.16s/it]\n",
      "100%|\u001b[34m██████████\u001b[0m| 5/5 [00:05<00:00,  1.16s/it]\n",
      "DEBUG flwr 2024-07-14 01:23:44,873 | server.py:236 | fit_round 2 received 10 results and 0 failures\n"
     ]
    },
    {
     "name": "stdout",
     "output_type": "stream",
     "text": [
      "\u001b[36m(launch_and_fit pid=114875)\u001b[0m \tTrain Epoch: 5 \tTrain_loss: 2.3026 | Train_acc: 10.6542 % | Validation_loss: 2.3053 | Validation_acc: 6.6374 %\n",
      "\u001b[36m(launch_and_fit pid=114875)\u001b[0m save graph in  results/FL/\n",
      "Saving round 2 aggregated_parameters...\n",
      "Updated model\n"
     ]
    },
    {
     "name": "stderr",
     "output_type": "stream",
     "text": [
      "INFO flwr 2024-07-14 01:23:46,159 | server.py:125 | fit progress: (2, 2.3028182208538057, {'accuracy': 9.912109375}, 152.2867019349942)\n",
      "DEBUG flwr 2024-07-14 01:23:46,160 | server.py:173 | evaluate_round 2: strategy sampled 10 clients (out of 10)\n"
     ]
    },
    {
     "name": "stdout",
     "output_type": "stream",
     "text": [
      "Server-side evaluation loss 2.3028182208538057 / accuracy 9.912109375\n",
      "\u001b[36m(launch_and_evaluate pid=114875)\u001b[0m Run WITHOUT homomorphic encryption\n",
      "\u001b[36m(launch_and_evaluate pid=114875)\u001b[0m  To get the checkpoint\n",
      "\u001b[36m(launch_and_evaluate pid=114875)\u001b[0m [Client 5] evaluate, config: {}\n",
      "\u001b[36m(launch_and_evaluate pid=114875)\u001b[0m Updated model\n",
      "\u001b[36m(launch_and_evaluate pid=114875)\u001b[0m Run WITHOUT homomorphic encryption\n",
      "\u001b[36m(launch_and_evaluate pid=114875)\u001b[0m  To get the checkpoint\n",
      "\u001b[36m(launch_and_evaluate pid=114875)\u001b[0m [Client 6] evaluate, config: {}\n",
      "\u001b[36m(launch_and_evaluate pid=114875)\u001b[0m Updated model\n",
      "\u001b[36m(launch_and_evaluate pid=114875)\u001b[0m Run WITHOUT homomorphic encryption\n",
      "\u001b[36m(launch_and_evaluate pid=114875)\u001b[0m  To get the checkpoint\n",
      "\u001b[36m(launch_and_evaluate pid=114875)\u001b[0m [Client 9] evaluate, config: {}\n",
      "\u001b[36m(launch_and_evaluate pid=114875)\u001b[0m Updated model\n",
      "\u001b[36m(launch_and_evaluate pid=114875)\u001b[0m Run WITHOUT homomorphic encryption\n",
      "\u001b[36m(launch_and_evaluate pid=114875)\u001b[0m  To get the checkpoint\n",
      "\u001b[36m(launch_and_evaluate pid=114875)\u001b[0m [Client 3] evaluate, config: {}\n",
      "\u001b[36m(launch_and_evaluate pid=114875)\u001b[0m Updated model\n",
      "\u001b[36m(launch_and_evaluate pid=114875)\u001b[0m Run WITHOUT homomorphic encryption\n",
      "\u001b[36m(launch_and_evaluate pid=114875)\u001b[0m  To get the checkpoint\n",
      "\u001b[36m(launch_and_evaluate pid=114875)\u001b[0m [Client 8] evaluate, config: {}\n",
      "\u001b[36m(launch_and_evaluate pid=114875)\u001b[0m Updated model\n",
      "\u001b[36m(launch_and_evaluate pid=114875)\u001b[0m Run WITHOUT homomorphic encryption\n",
      "\u001b[36m(launch_and_evaluate pid=114875)\u001b[0m  To get the checkpoint\n",
      "\u001b[36m(launch_and_evaluate pid=114875)\u001b[0m [Client 0] evaluate, config: {}\n",
      "\u001b[36m(launch_and_evaluate pid=114875)\u001b[0m Updated model\n",
      "\u001b[36m(launch_and_evaluate pid=114875)\u001b[0m Run WITHOUT homomorphic encryption\n",
      "\u001b[36m(launch_and_evaluate pid=114875)\u001b[0m  To get the checkpoint\n",
      "\u001b[36m(launch_and_evaluate pid=114875)\u001b[0m [Client 1] evaluate, config: {}\n",
      "\u001b[36m(launch_and_evaluate pid=114875)\u001b[0m Updated model\n",
      "\u001b[36m(launch_and_evaluate pid=114875)\u001b[0m Run WITHOUT homomorphic encryption\n",
      "\u001b[36m(launch_and_evaluate pid=114875)\u001b[0m  To get the checkpoint\n",
      "\u001b[36m(launch_and_evaluate pid=114875)\u001b[0m [Client 2] evaluate, config: {}\n",
      "\u001b[36m(launch_and_evaluate pid=114875)\u001b[0m Updated model\n",
      "\u001b[36m(launch_and_evaluate pid=114875)\u001b[0m Run WITHOUT homomorphic encryption\n",
      "\u001b[36m(launch_and_evaluate pid=114875)\u001b[0m  To get the checkpoint\n",
      "\u001b[36m(launch_and_evaluate pid=114875)\u001b[0m [Client 4] evaluate, config: {}\n",
      "\u001b[36m(launch_and_evaluate pid=114875)\u001b[0m Updated model\n",
      "\u001b[36m(launch_and_evaluate pid=114875)\u001b[0m Run WITHOUT homomorphic encryption\n",
      "\u001b[36m(launch_and_evaluate pid=114875)\u001b[0m  To get the checkpoint\n",
      "\u001b[36m(launch_and_evaluate pid=114875)\u001b[0m [Client 7] evaluate, config: {}\n",
      "\u001b[36m(launch_and_evaluate pid=114875)\u001b[0m Updated model\n"
     ]
    },
    {
     "name": "stderr",
     "output_type": "stream",
     "text": [
      "DEBUG flwr 2024-07-14 01:23:57,530 | server.py:187 | evaluate_round 2 received 10 results and 0 failures\n",
      "INFO flwr 2024-07-14 01:23:57,530 | server.py:153 | FL finished in 163.6578995029995\n",
      "INFO flwr 2024-07-14 01:23:57,531 | app.py:225 | app_fit: losses_distributed [(1, 2.3034746170043947), (2, 2.3034716606140138)]\n",
      "INFO flwr 2024-07-14 01:23:57,532 | app.py:226 | app_fit: metrics_distributed_fit {}\n",
      "INFO flwr 2024-07-14 01:23:57,533 | app.py:227 | app_fit: metrics_distributed {'accuracy': [(1, 9.407338627049182), (2, 9.407338627049182)]}\n",
      "INFO flwr 2024-07-14 01:23:57,533 | app.py:228 | app_fit: losses_centralized [(0, 2.302820509672165), (1, 2.302819347381592), (2, 2.3028182208538057)]\n",
      "INFO flwr 2024-07-14 01:23:57,534 | app.py:229 | app_fit: metrics_centralized {'accuracy': [(0, 9.912109375), (1, 9.912109375), (2, 9.912109375)]}\n"
     ]
    },
    {
     "name": "stdout",
     "output_type": "stream",
     "text": [
      "Simulation Time = 171.24376440048218 seconds\n"
     ]
    }
   ],
   "source": [
    "import warnings\n",
    "warnings.simplefilter(\"ignore\")\n",
    "\n",
    "print(\"flwr\", fl.__version__)\n",
    "print(\"numpy\", np.__version__)\n",
    "print(\"torch\", torch.__version__)\n",
    "print(\"torchvision\", torchvision.__version__)\n",
    "print(f\"Training on {DEVICE}\")\n",
    "\n",
    "client_resources = None\n",
    "\n",
    "if DEVICE.type == \"cuda\":\n",
    "    client_resources = {\"num_gpus\": 1}\n",
    "\n",
    "model_save = model_save\n",
    "path_yaml = yaml_path\n",
    "path_roc = roc_path\n",
    "results_save = save_results\n",
    "path_matrix = matrix_path\n",
    "batch_size = batch_size\n",
    "he = he\n",
    "secret_path = 'secret.pkl'\n",
    "server_path = 'secret.pkl'\n",
    "path_crypted = 'server.pkl'\n",
    "\n",
    "print(\"Start simulation\")\n",
    "start_simulation = time.time()\n",
    "fl.simulation.start_simulation(\n",
    "    client_fn=client_fn,\n",
    "    num_clients=number_clients,\n",
    "    config=fl.server.ServerConfig(num_rounds=rounds),\n",
    "    strategy=strategy,\n",
    "    client_resources=client_resources\n",
    ")\n",
    "print(f\"Simulation Time = {time.time() - start_simulation} seconds\")"
   ]
  }
 ],
 "metadata": {
  "kernelspec": {
   "display_name": "fl_env",
   "language": "python",
   "name": "python3"
  },
  "language_info": {
   "codemirror_mode": {
    "name": "ipython",
    "version": 3
   },
   "file_extension": ".py",
   "mimetype": "text/x-python",
   "name": "python",
   "nbconvert_exporter": "python",
   "pygments_lexer": "ipython3",
   "version": "3.10.12"
  }
 },
 "nbformat": 4,
 "nbformat_minor": 2
}
