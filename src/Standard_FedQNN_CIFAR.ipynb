{
 "cells": [
  {
   "cell_type": "markdown",
   "metadata": {},
   "source": [
    "### Import necessary libraries and modules"
   ]
  },
  {
   "cell_type": "code",
   "execution_count": 1,
   "metadata": {},
   "outputs": [],
   "source": [
    "import os\n",
    "import pickle\n",
    "import time\n",
    "from collections import OrderedDict\n",
    "from typing import (\n",
    "    List, Tuple, Dict, Optional, Callable, Union\n",
    ")\n",
    "import tenseal as ts\n",
    "\n",
    "import numpy as np\n",
    "import torchvision\n",
    "import torch\n",
    "from torch import nn\n",
    "import torch.nn.functional as F\n",
    "import flwr as fl\n",
    "from flwr.common import (\n",
    "    Metrics, EvaluateIns, EvaluateRes, FitIns, FitRes, MetricsAggregationFn, \n",
    "    Scalar, logger, ndarrays_to_parameters_custom, parameters_to_ndarrays_custom,\n",
    "    Parameters, NDArrays\n",
    ")\n",
    "from flwr.server.client_proxy import ClientProxy\n",
    "from flwr.server.client_manager import ClientManager\n",
    "from flwr.server.strategy.aggregate import weighted_loss_avg\n",
    "from logging import WARNING\n",
    "import pennylane as qml\n",
    "\n",
    "from utils import *"
   ]
  },
  {
   "cell_type": "markdown",
   "metadata": {},
   "source": [
    "### Creation of FHE Keys"
   ]
  },
  {
   "cell_type": "code",
   "execution_count": 2,
   "metadata": {},
   "outputs": [
    {
     "name": "stdout",
     "output_type": "stream",
     "text": [
      "it exists\n"
     ]
    }
   ],
   "source": [
    "def combo_keys(client_path=\"secret.pkl\", server_path=\"server_key.pkl\"):\n",
    "    \"\"\"\n",
    "    To create the public/private keys combination\n",
    "    args:\n",
    "        client_path: path to save the secret key (str)\n",
    "        server_path: path to save the server public key (str)\n",
    "    \"\"\"\n",
    "    context_client = security.context()\n",
    "    security.write_query(client_path, {\"contexte\": context_client.serialize(save_secret_key=True)})\n",
    "    security.write_query(server_path, {\"contexte\": context_client.serialize()})\n",
    "\n",
    "    _, context_client = security.read_query(client_path)\n",
    "    _, context_server = security.read_query(server_path)\n",
    "\n",
    "    context_client = ts.context_from(context_client)\n",
    "    context_server = ts.context_from(context_server)\n",
    "    print(\"Is the client context private?\", (\"Yes\" if context_client.is_private() else \"No\"))\n",
    "    print(\"Is the server context private?\", (\"Yes\" if context_server.is_private() else \"No\"))\n",
    "\n",
    "\n",
    "secret_path = \"secret.pkl\"\n",
    "public_path = \"server_key.pkl\"\n",
    "if os.path.exists(secret_path):\n",
    "    print(\"it exists\")\n",
    "    _, context_client = security.read_query(secret_path)\n",
    "\n",
    "else:\n",
    "    combo_keys(client_path=secret_path, server_path=public_path)\n",
    "\n",
    "n_qubits = 6\n",
    "n_layers = 6\n",
    "weight_shapes = {\"weights\": (n_layers, n_qubits)}"
   ]
  },
  {
   "cell_type": "markdown",
   "metadata": {},
   "source": [
    "### Creation of Model Architecture"
   ]
  },
  {
   "cell_type": "code",
   "execution_count": 3,
   "metadata": {},
   "outputs": [],
   "source": [
    "dev = qml.device(\"default.qubit.torch\", wires=n_qubits)\n",
    "    \n",
    "@qml.qnode(dev, interface='torch')\n",
    "def quantum_net(inputs, weights):\n",
    "    qml.AngleEmbedding(inputs, wires=range(n_qubits)) \n",
    "    qml.BasicEntanglerLayers(weights,wires=range(n_qubits))\n",
    "    return [qml.expval(qml.PauliZ(i)) for i in range(n_qubits)]\n",
    "\n",
    "class Net(nn.Module):\n",
    "    \"\"\"\n",
    "    A simple CNN model\n",
    "\n",
    "    Args:\n",
    "        num_classes: An integer indicating the number of classes in the dataset.\n",
    "    \"\"\"\n",
    "    def __init__(self, num_classes=10) -> None:\n",
    "        super(Net, self).__init__()\n",
    "        self.network = nn.Sequential(\n",
    "            nn.Conv2d(3, 32, kernel_size=3, padding=1),\n",
    "            nn.ReLU(),\n",
    "            nn.Conv2d(32, 64, kernel_size=3, stride=1, padding=1),\n",
    "            nn.ReLU(),\n",
    "            nn.MaxPool2d(2, 2), # output: 64 x 16 x 16\n",
    "\n",
    "            nn.Conv2d(64, 128, kernel_size=3, stride=1, padding=1),\n",
    "            nn.ReLU(),\n",
    "            nn.Conv2d(128, 128, kernel_size=3, stride=1, padding=1),\n",
    "            nn.ReLU(),\n",
    "            nn.MaxPool2d(2, 2), # output: 128 x 8 x 8\n",
    "\n",
    "            nn.Conv2d(128, 256, kernel_size=3, stride=1, padding=1),\n",
    "            nn.ReLU(),\n",
    "            nn.Conv2d(256, 256, kernel_size=3, stride=1, padding=1),\n",
    "            nn.ReLU(),\n",
    "            nn.MaxPool2d(2, 2), # output: 256 x 4 x 4\n",
    "\n",
    "            nn.Flatten(), \n",
    "            nn.Linear(256*4*4, 1024),\n",
    "            nn.ReLU(),\n",
    "            nn.Linear(1024, 512),\n",
    "            nn.ReLU(),\n",
    "            nn.Linear(512, n_qubits))        \n",
    "        self.qnn = qml.qnn.TorchLayer(quantum_net, weight_shapes)\n",
    "        self.fc4 = nn.Linear(n_qubits, num_classes)        \n",
    "\n",
    "    def forward(self, x: torch.Tensor) -> torch.Tensor:\n",
    "        \"\"\"\n",
    "        Forward pass of the neural network\n",
    "        \"\"\"\n",
    "        x = self.network(x)\n",
    "        x = self.qnn(x)\n",
    "        x = self.fc4(x)\n",
    "        return x"
   ]
  },
  {
   "cell_type": "markdown",
   "metadata": {},
   "source": [
    "### Define the FlowerClient class for federated learning"
   ]
  },
  {
   "cell_type": "code",
   "execution_count": 4,
   "metadata": {},
   "outputs": [],
   "source": [
    "class FlowerClient(fl.client.NumPyClient):\n",
    "    def __init__(self, cid, net, trainloader, valloader, device, batch_size, save_results, matrix_path, roc_path,\n",
    "                 yaml_path, he, classes, context_client):\n",
    "        self.net = net\n",
    "        self.trainloader = trainloader\n",
    "        self.valloader = valloader\n",
    "        self.cid = cid\n",
    "        self.device = device\n",
    "        self.batch_size = batch_size\n",
    "        self.save_results = save_results\n",
    "        self.matrix_path = matrix_path\n",
    "        self.roc_path = roc_path\n",
    "        self.yaml_path = yaml_path\n",
    "        self.he = he\n",
    "        self.classes = classes\n",
    "        self.context_client = context_client\n",
    "\n",
    "    def get_parameters(self, config):\n",
    "        print(f\"[Client {self.cid}] get_parameters\")\n",
    "        return get_parameters2(self.net, self.context_client)\n",
    "\n",
    "    def fit(self, parameters, config):\n",
    "        server_round = config['server_round']\n",
    "        local_epochs = config['local_epochs']\n",
    "        lr = float(config[\"learning_rate\"])\n",
    "\n",
    "        print(f'[Client {self.cid}, round {server_round}] fit, config: {config}')\n",
    "\n",
    "        set_parameters(self.net, parameters, self.context_client)\n",
    "\n",
    "        criterion = torch.nn.CrossEntropyLoss()\n",
    "        optimizer = torch.optim.Adam(self.net.parameters(), lr=lr)\n",
    "\n",
    "        results = engine.train(self.net, self.trainloader, self.valloader, optimizer=optimizer, loss_fn=criterion,\n",
    "                               epochs=local_epochs, device=self.device)\n",
    "\n",
    "        if self.save_results:\n",
    "            save_graphs(self.save_results, local_epochs, results, f\"_Client {self.cid}\")\n",
    "\n",
    "        return get_parameters2(self.net, self.context_client), len(self.trainloader), {}\n",
    "\n",
    "    def evaluate(self, parameters, config):\n",
    "        print(f\"[Client {self.cid}] evaluate, config: {config}\")\n",
    "        set_parameters(self.net, parameters, self.context_client)\n",
    "\n",
    "        loss, accuracy, y_pred, y_true, y_proba = engine.test(self.net, self.valloader,\n",
    "                                                              loss_fn=torch.nn.CrossEntropyLoss(), device=self.device)\n",
    "\n",
    "        if self.save_results:\n",
    "            os.makedirs(self.save_results, exist_ok=True)\n",
    "            if self.matrix_path:\n",
    "                save_matrix(y_true, y_pred, self.save_results + self.matrix_path, self.classes)\n",
    "            if self.roc_path:\n",
    "                save_roc(y_true, y_proba, self.save_results + self.roc_path, len(self.classes))\n",
    "\n",
    "        return float(loss), len(self.valloader), {\"accuracy\": float(accuracy)}"
   ]
  },
  {
   "cell_type": "markdown",
   "metadata": {},
   "source": [
    "### Define the client_common function to set up the Flower client"
   ]
  },
  {
   "cell_type": "code",
   "execution_count": 5,
   "metadata": {},
   "outputs": [],
   "source": [
    "def client_common(cid, model_save, path_yaml, path_roc, results_save, path_matrix,\n",
    "                  batch_size, trainloaders, valloaders, DEVICE, CLASSES,\n",
    "                  he=False, secret_path=\"\", server_path=\"\"):\n",
    "    trainloader = trainloaders[int(cid)]\n",
    "    valloader = valloaders[int(cid)]\n",
    "\n",
    "    context_client = None\n",
    "    net = Net(num_classes=len(CLASSES)).to(DEVICE)\n",
    "\n",
    "    if he:\n",
    "        print(\"Run with homomorphic encryption\")\n",
    "        if os.path.exists(secret_path):\n",
    "            with open(secret_path, 'rb') as f:\n",
    "                query = pickle.load(f)\n",
    "            context_client = ts.context_from(query[\"contexte\"])\n",
    "        else:\n",
    "            context_client = security.context()\n",
    "            with open(secret_path, 'wb') as f:\n",
    "                encode = pickle.dumps({\"contexte\": context_client.serialize(save_secret_key=True)})\n",
    "                f.write(encode)\n",
    "        secret_key = context_client.secret_key()\n",
    "    else:\n",
    "        print(\"Run WITHOUT homomorphic encryption\")\n",
    "\n",
    "    if os.path.exists(model_save):\n",
    "        print(\" To get the checkpoint\")\n",
    "        checkpoint = torch.load(model_save, map_location=DEVICE)['model_state_dict']\n",
    "        if he:\n",
    "            print(\"to decrypt model\")\n",
    "            server_query, server_context = security.read_query(server_path)\n",
    "            server_context = ts.context_from(server_context)\n",
    "            for name in checkpoint:\n",
    "                print(name)\n",
    "                checkpoint[name] = torch.tensor(\n",
    "                    security.deserialized_layer(name, server_query[name], server_context).decrypt(secret_key)\n",
    "                )\n",
    "        net.load_state_dict(checkpoint)\n",
    "\n",
    "    return FlowerClient(cid, net, trainloader, valloader, device=DEVICE, batch_size=batch_size,\n",
    "                        matrix_path=path_matrix, roc_path=path_roc, save_results=results_save, yaml_path=path_yaml,\n",
    "                        he=he, context_client=context_client, classes=CLASSES)"
   ]
  },
  {
   "cell_type": "markdown",
   "metadata": {},
   "source": [
    "### Define utility functions for federated learning"
   ]
  },
  {
   "cell_type": "code",
   "execution_count": 6,
   "metadata": {},
   "outputs": [],
   "source": [
    "def weighted_average(metrics: List[Tuple[int, Metrics]]) -> Metrics:\n",
    "    accuracies = [num_examples * m[\"accuracy\"] for num_examples, m in metrics]\n",
    "    examples = [num_examples for num_examples, _ in metrics]\n",
    "    return {\"accuracy\": sum(accuracies) / sum(examples)}\n",
    "\n",
    "def evaluate2(server_round: int, parameters: NDArrays,\n",
    "              config: Dict[str, Scalar]) -> Optional[Tuple[float, Dict[str, Scalar]]]:\n",
    "    set_parameters(central, parameters)\n",
    "    loss, accuracy, y_pred, y_true, y_proba = engine.test(central, testloader, loss_fn=torch.nn.CrossEntropyLoss(),\n",
    "                                                          device=DEVICE)\n",
    "    print(f\"Server-side evaluation loss {loss} / accuracy {accuracy}\")\n",
    "    return loss, {\"accuracy\": accuracy}\n",
    "\n",
    "def get_on_fit_config_fn(epoch=2, lr=0.001, batch_size=32) -> Callable[[int], Dict[str, str]]:\n",
    "    def fit_config(server_round: int) -> Dict[str, str]:\n",
    "        config = {\n",
    "            \"learning_rate\": str(lr),\n",
    "            \"batch_size\": str(batch_size),\n",
    "            \"server_round\": server_round,\n",
    "            \"local_epochs\": epoch\n",
    "        }\n",
    "        return config\n",
    "    return fit_config\n",
    "\n",
    "def aggreg_fit_checkpoint(server_round, aggregated_parameters, central_model, path_checkpoint,\n",
    "                          context_client=None, server_path=\"\"):\n",
    "    if aggregated_parameters is not None:\n",
    "        print(f\"Saving round {server_round} aggregated_parameters...\")\n",
    "        aggregated_ndarrays: List[np.ndarray] = parameters_to_ndarrays_custom(aggregated_parameters, context_client)\n",
    "        if context_client:\n",
    "            def serialized(key, matrix):\n",
    "                if key == 'fc3.weight':\n",
    "                    return matrix.serialize()\n",
    "                else:\n",
    "                    return matrix\n",
    "            server_response = {\n",
    "                **{key: serialized(key, aggregated_ndarrays[i]) for i, key in enumerate(central_model.state_dict().keys())},\n",
    "                \"contexte\": server_context.serialize()\n",
    "            }\n",
    "            security.write_query(server_path, server_response)\n",
    "        else:\n",
    "            params_dict = zip(central_model.state_dict().keys(), aggregated_ndarrays)\n",
    "            state_dict = OrderedDict({k: torch.tensor(v) for k, v in params_dict})\n",
    "            central_model.load_state_dict(state_dict, strict=True)\n",
    "            if path_checkpoint:\n",
    "                torch.save({\n",
    "                    'model_state_dict': central_model.state_dict(),\n",
    "                }, path_checkpoint)"
   ]
  },
  {
   "cell_type": "markdown",
   "metadata": {},
   "source": [
    "### Define the FedCustom strategy class"
   ]
  },
  {
   "cell_type": "code",
   "execution_count": 7,
   "metadata": {},
   "outputs": [],
   "source": [
    "# A Strategy from scratch with the same sampling of the clients as it is in FedAvg\n",
    "# and then change the configuration dictionary\n",
    "class FedCustom(fl.server.strategy.Strategy):\n",
    "    def __init__(\n",
    "            self,\n",
    "            fraction_fit: float = 1.0,\n",
    "            fraction_evaluate: float = 1.0,\n",
    "            min_fit_clients: int = 2,\n",
    "            min_evaluate_clients: int = 2,\n",
    "            min_available_clients: int = 2,\n",
    "            evaluate_fn: Optional[\n",
    "                    Callable[[int, NDArrays, Dict[str, Scalar]], Optional[Tuple[float, Dict[str, Scalar]]]]\n",
    "                ] = None,\n",
    "            on_fit_config_fn: Optional[Callable[[int], Dict[str, Scalar]]] = None,\n",
    "            on_evaluate_config_fn: Optional[Callable[[int], Dict[str, Scalar]]] = None,\n",
    "            accept_failures: bool = True,\n",
    "            initial_parameters: Optional[Parameters] = None,\n",
    "            fit_metrics_aggregation_fn: Optional[MetricsAggregationFn] = None,\n",
    "            evaluate_metrics_aggregation_fn: Optional[MetricsAggregationFn] = None,\n",
    "            context_client=None\n",
    "    ) -> None:\n",
    "        super().__init__()\n",
    "        self.fraction_fit = fraction_fit\n",
    "        self.fraction_evaluate = fraction_evaluate\n",
    "        self.min_fit_clients = min_fit_clients\n",
    "        self.min_evaluate_clients = min_evaluate_clients\n",
    "        self.min_available_clients = min_available_clients\n",
    "        self.evaluate_fn = evaluate_fn\n",
    "        self.on_fit_config_fn = on_fit_config_fn\n",
    "        self.on_evaluate_config_fn = on_evaluate_config_fn,\n",
    "        self.accept_failures = accept_failures\n",
    "        self.initial_parameters = initial_parameters\n",
    "        self.fit_metrics_aggregation_fn = fit_metrics_aggregation_fn\n",
    "        self.evaluate_metrics_aggregation_fn = evaluate_metrics_aggregation_fn\n",
    "        self.context_client = context_client\n",
    "\n",
    "    def __repr__(self) -> str:\n",
    "        # Same function as FedAvg(Strategy)\n",
    "        return f\"FedCustom (accept_failures={self.accept_failures})\"\n",
    "\n",
    "    def initialize_parameters(\n",
    "        self, client_manager: ClientManager\n",
    "    ) -> Optional[Parameters]:\n",
    "        \"\"\"Initialize global model parameters.\"\"\"\n",
    "        # Same function as FedAvg(Strategy)\n",
    "        initial_parameters = self.initial_parameters\n",
    "        self.initial_parameters = None  # Don't keep initial parameters in memory\n",
    "        return initial_parameters\n",
    "\n",
    "    def num_fit_clients(self, num_available_clients: int) -> Tuple[int, int]:\n",
    "        \"\"\"Return sample size and required number of clients.\"\"\"\n",
    "        # Same function as FedAvg(Strategy)\n",
    "        num_clients = int(num_available_clients * self.fraction_fit)\n",
    "        return max(num_clients, self.min_fit_clients), self.min_available_clients\n",
    "\n",
    "    def configure_fit(\n",
    "        self, server_round: int, parameters: Parameters, client_manager: ClientManager\n",
    "    ) -> List[Tuple[ClientProxy, FitIns]]:\n",
    "        \"\"\"Configure the next round of training.\"\"\"\n",
    "        # Sample clients\n",
    "        sample_size, min_num_clients = self.num_fit_clients(\n",
    "            client_manager.num_available()\n",
    "        )\n",
    "\n",
    "        clients = client_manager.sample(\n",
    "            num_clients=sample_size, min_num_clients=min_num_clients\n",
    "        )\n",
    "        # Create custom configs\n",
    "        n_clients = len(clients)\n",
    "        half_clients = n_clients // 2\n",
    "        # Custom fit config function provided\n",
    "        standard_lr = lr\n",
    "        higher_lr = 0.003\n",
    "        config = {\"server_round\": server_round, \"local_epochs\": 1}\n",
    "        if self.on_fit_config_fn is not None:\n",
    "            # Custom fit config function provided\n",
    "            config = self.on_fit_config_fn(server_round)\n",
    "\n",
    "        # fit_ins = FitIns(parameters, config)\n",
    "        # Return client/config pairs\n",
    "        fit_configurations = []\n",
    "        for idx, client in enumerate(clients):\n",
    "            config[\"learning_rate\"] = standard_lr if idx < half_clients else higher_lr\n",
    "            \"\"\"\n",
    "            Each pair of (ClientProxy, FitRes) constitutes \n",
    "            a successful update from one of the previously selected clients.\n",
    "            \"\"\"\n",
    "            fit_configurations.append(\n",
    "                (\n",
    "                    client,\n",
    "                    FitIns(\n",
    "                        parameters,\n",
    "                        config\n",
    "                    )\n",
    "                )\n",
    "            )\n",
    "        # Successful updates from the previously selected and configured clients\n",
    "        return fit_configurations\n",
    "\n",
    "    def aggregate_fit(\n",
    "        self,\n",
    "        server_round: int,\n",
    "        results: List[Tuple[ClientProxy, FitRes]],\n",
    "        failures: List[Union[Tuple[ClientProxy, FitRes], BaseException]],\n",
    "    ) -> Tuple[Optional[Parameters], Dict[str, Scalar]]:\n",
    "        \"\"\"Aggregate fit results using weighted average. (each round)\"\"\"\n",
    "        # Same function as FedAvg(Strategy)\n",
    "        if not results:\n",
    "            return None, {}\n",
    "\n",
    "        # Do not aggregate if there are failures and failures are not accepted\n",
    "        if not self.accept_failures and failures:\n",
    "            return None, {}\n",
    "\n",
    "        # Convert results parameters --> array matrix\n",
    "        weights_results = [\n",
    "            (parameters_to_ndarrays_custom(fit_res.parameters, self.context_client), fit_res.num_examples)\n",
    "            for _, fit_res in results\n",
    "        ]\n",
    "\n",
    "        # Aggregate parameters using weighted average between the clients and convert back to parameters object (bytes)\n",
    "        parameters_aggregated = ndarrays_to_parameters_custom(aggregate_custom(weights_results))\n",
    "\n",
    "        metrics_aggregated = {}\n",
    "        # Aggregate custom metrics if aggregation fn was provided\n",
    "        if self.fit_metrics_aggregation_fn:\n",
    "            fit_metrics = [(res.num_examples, res.metrics) for _, res in results]\n",
    "            metrics_aggregated = self.fit_metrics_aggregation_fn(fit_metrics)\n",
    "\n",
    "        elif server_round == 1:  # Only log this warning once\n",
    "            logger.log(WARNING, \"No fit_metrics_aggregation_fn provided\")\n",
    "\n",
    "        # Same function as SaveModelStrategy(fl.server.strategy.FedAvg)\n",
    "        \"\"\"Aggregate model weights using weighted average and store checkpoint\"\"\"\n",
    "        aggreg_fit_checkpoint(server_round, parameters_aggregated, central, model_save,\n",
    "                              self.context_client, path_crypted)\n",
    "        return parameters_aggregated, metrics_aggregated\n",
    "\n",
    "    def num_evaluation_clients(self, num_available_clients: int) -> Tuple[int, int]:\n",
    "        \"\"\"Use a fraction of available clients for evaluation.\"\"\"\n",
    "        # Same function as FedAvg(Strategy)\n",
    "        num_clients = int(num_available_clients * self.fraction_evaluate)\n",
    "        return max(num_clients, self.min_evaluate_clients), self.min_available_clients\n",
    "\n",
    "    def configure_evaluate(\n",
    "        self, server_round: int, parameters: Parameters, client_manager: ClientManager\n",
    "    ) -> List[Tuple[ClientProxy, EvaluateIns]]:\n",
    "        \"\"\"Configure the next round of evaluation.\"\"\"\n",
    "        # Same function as FedAvg(Strategy)\n",
    "        # Do not configure federated evaluation if fraction eval is 0.\n",
    "        if self.fraction_evaluate == 0.0:\n",
    "            return []\n",
    "\n",
    "        # Parameters and config\n",
    "        config = {}  # {\"server_round\": server_round, \"local_epochs\": 1}\n",
    "\n",
    "        evaluate_ins = EvaluateIns(parameters, config)\n",
    "\n",
    "        # Sample clients\n",
    "        sample_size, min_num_clients = self.num_evaluation_clients(\n",
    "            client_manager.num_available()\n",
    "        )\n",
    "\n",
    "        clients = client_manager.sample(\n",
    "            num_clients=sample_size, min_num_clients=min_num_clients\n",
    "        )\n",
    "\n",
    "        # Return client/config pairs\n",
    "        # Each pair of (ClientProxy, FitRes) constitutes a successful update from one of the previously selected clients\n",
    "        return [(client, evaluate_ins) for client in clients]\n",
    "\n",
    "    def aggregate_evaluate(\n",
    "        self,\n",
    "        server_round: int,\n",
    "        results: List[Tuple[ClientProxy, EvaluateRes]],\n",
    "        failures: List[Union[Tuple[ClientProxy, EvaluateRes], BaseException]],\n",
    "    ) -> Tuple[Optional[float], Dict[str, Scalar]]:\n",
    "        \"\"\"Aggregate evaluation losses using weighted average.\"\"\"\n",
    "        # Same function as FedAvg(Strategy)\n",
    "        if not results:\n",
    "            return None, {}\n",
    "\n",
    "        # Do not aggregate if there are failures and failures are not accepted\n",
    "        if not self.accept_failures and failures:\n",
    "            return None, {}\n",
    "\n",
    "        # Aggregate loss\n",
    "        loss_aggregated = weighted_loss_avg(\n",
    "            [\n",
    "                (evaluate_res.num_examples, evaluate_res.loss)\n",
    "                for _, evaluate_res in results\n",
    "            ]\n",
    "        )\n",
    "\n",
    "        metrics_aggregated = {}\n",
    "        # Aggregate custom metrics if aggregation fn was provided\n",
    "        if self.evaluate_metrics_aggregation_fn:\n",
    "            eval_metrics = [(res.num_examples, res.metrics) for _, res in results]\n",
    "            metrics_aggregated = self.evaluate_metrics_aggregation_fn(eval_metrics)\n",
    "\n",
    "        # Only log this warning once\n",
    "        elif server_round == 1:\n",
    "            logger.log(WARNING, \"No evaluate_metrics_aggregation_fn provided\")\n",
    "\n",
    "        return loss_aggregated, metrics_aggregated\n",
    "\n",
    "    def evaluate(\n",
    "        self, server_round: int, parameters: Parameters\n",
    "    ) -> Optional[Tuple[float, Dict[str, Scalar]]]:\n",
    "        \"\"\"Evaluate global model parameters using an evaluation function.\"\"\"\n",
    "        # Same function as FedAvg(Strategy)\n",
    "        if self.evaluate_fn is None:\n",
    "            # Let's assume we won't perform the global model evaluation on the server side.\n",
    "            return None\n",
    "\n",
    "        # if we have a global model evaluation on the server side :\n",
    "        parameters_ndarrays = parameters_to_ndarrays_custom(parameters, self.context_client)\n",
    "        eval_res = self.evaluate_fn(server_round, parameters_ndarrays, {})\n",
    "\n",
    "        # if you haven't results\n",
    "        if eval_res is None:\n",
    "            return None\n",
    "\n",
    "        loss, metrics = eval_res\n",
    "        return loss, metrics"
   ]
  },
  {
   "cell_type": "markdown",
   "metadata": {},
   "source": [
    "### Set up the federated learning strategy"
   ]
  },
  {
   "cell_type": "code",
   "execution_count": 8,
   "metadata": {},
   "outputs": [],
   "source": [
    "# Set up your variables directly\n",
    "he = False\n",
    "data_path = 'data/'\n",
    "dataset = 'cifar'\n",
    "yaml_path = './results/FL/results.yml'\n",
    "seed = 0\n",
    "num_workers = 0\n",
    "max_epochs = 10\n",
    "batch_size = 128\n",
    "splitter = 10\n",
    "device = 'gpu'\n",
    "number_clients = 10\n",
    "save_results = 'results/FL/'\n",
    "matrix_path = 'confusion_matrix.png'\n",
    "roc_path = 'roc.png'\n",
    "model_save = 'cifar_fl.pt'\n",
    "min_fit_clients = 10\n",
    "min_avail_clients = 10\n",
    "min_eval_clients = 10\n",
    "rounds = 20\n",
    "frac_fit = 1.0\n",
    "frac_eval = 0.5\n",
    "lr = 1e-3"
   ]
  },
  {
   "cell_type": "code",
   "execution_count": 9,
   "metadata": {},
   "outputs": [],
   "source": [
    "server_context = None\n",
    "DEVICE = torch.device(choice_device(device))\n",
    "CLASSES = classes_string(dataset)\n",
    "central = Net(num_classes=len(CLASSES)).to(DEVICE)"
   ]
  },
  {
   "cell_type": "code",
   "execution_count": 10,
   "metadata": {},
   "outputs": [],
   "source": [
    "strategy = FedCustom(\n",
    "    fraction_fit=frac_fit,\n",
    "    fraction_evaluate=frac_eval,\n",
    "    min_fit_clients=min_fit_clients,\n",
    "    min_evaluate_clients=min_eval_clients if min_eval_clients else number_clients // 2,\n",
    "    min_available_clients=min_avail_clients,\n",
    "    evaluate_metrics_aggregation_fn=weighted_average,\n",
    "    initial_parameters=ndarrays_to_parameters_custom(get_parameters2(central)),\n",
    "    evaluate_fn=None if he else evaluate2,\n",
    "    on_fit_config_fn=get_on_fit_config_fn(epoch=max_epochs, batch_size=batch_size),\n",
    "    context_client=server_context\n",
    ")"
   ]
  },
  {
   "cell_type": "code",
   "execution_count": 11,
   "metadata": {},
   "outputs": [
    {
     "name": "stdout",
     "output_type": "stream",
     "text": [
      "cifar\n",
      "Files already downloaded and verified\n",
      "Files already downloaded and verified\n",
      "The training set is created for the classes : ['airplane', 'automobile', 'bird', 'cat', 'deer', 'dog', 'frog', 'horse', 'ship', 'truck']\n"
     ]
    }
   ],
   "source": [
    "trainloaders, valloaders, testloader = data_setup.load_datasets(num_clients=number_clients,\n",
    "                                                                batch_size=batch_size,\n",
    "                                                                resize=True,\n",
    "                                                                seed=seed,\n",
    "                                                                num_workers=num_workers,\n",
    "                                                                splitter=splitter,\n",
    "                                                                dataset=dataset,  # Use the specified dataset\n",
    "                                                                data_path=data_path,\n",
    "                                                                data_path_val=None)  # Use the same path for validation data\n",
    "\n",
    "def client_fn(cid: str) -> FlowerClient:\n",
    "    return client_common(cid,\n",
    "                         model_save, path_yaml, path_roc, results_save, path_matrix,\n",
    "                         batch_size, trainloaders, valloaders, DEVICE, CLASSES, he, secret_path, server_path)"
   ]
  },
  {
   "cell_type": "markdown",
   "metadata": {},
   "source": [
    "### Define the client_fn function and set up the simulation"
   ]
  },
  {
   "cell_type": "code",
   "execution_count": null,
   "metadata": {},
   "outputs": [
    {
     "name": "stderr",
     "output_type": "stream",
     "text": [
      "INFO flwr 2024-07-20 18:16:32,784 | app.py:145 | Starting Flower simulation, config: ServerConfig(num_rounds=20, round_timeout=None)\n"
     ]
    },
    {
     "name": "stdout",
     "output_type": "stream",
     "text": [
      "flwr 1.5.0\n",
      "numpy 1.26.4\n",
      "torch 2.1.2\n",
      "torchvision 0.16.2\n",
      "Training on cuda:0\n",
      "Start simulation\n"
     ]
    },
    {
     "name": "stderr",
     "output_type": "stream",
     "text": [
      "2024-07-20 18:16:37,164\tINFO worker.py:1724 -- Started a local Ray instance.\n",
      "INFO flwr 2024-07-20 18:16:38,440 | app.py:179 | Flower VCE: Ray initialized with resources: {'accelerator_type:T4': 1.0, 'CPU': 4.0, 'memory': 17604132864.0, 'object_store_memory': 8802066432.0, 'GPU': 2.0, 'node:172.19.2.2': 1.0, 'node:__internal_head__': 1.0}\n",
      "INFO flwr 2024-07-20 18:16:38,441 | server.py:89 | Initializing global parameters\n",
      "INFO flwr 2024-07-20 18:16:38,442 | server.py:272 | Using initial parameters provided by strategy\n",
      "INFO flwr 2024-07-20 18:16:38,443 | server.py:91 | Evaluating initial parameters\n"
     ]
    },
    {
     "name": "stdout",
     "output_type": "stream",
     "text": [
      "Updated model\n"
     ]
    },
    {
     "name": "stderr",
     "output_type": "stream",
     "text": [
      "INFO flwr 2024-07-20 18:16:45,308 | server.py:94 | initial parameters (loss, other metrics): 2.3390820116936406, {'accuracy': 9.889240506329115}\n",
      "INFO flwr 2024-07-20 18:16:45,310 | server.py:104 | FL starting\n",
      "DEBUG flwr 2024-07-20 18:16:45,310 | server.py:222 | fit_round 1: strategy sampled 10 clients (out of 10)\n"
     ]
    },
    {
     "name": "stdout",
     "output_type": "stream",
     "text": [
      "Server-side evaluation loss 2.3390820116936406 / accuracy 9.889240506329115\n",
      "\u001b[36m(launch_and_fit pid=398)\u001b[0m Run WITHOUT homomorphic encryption\n"
     ]
    },
    {
     "name": "stderr",
     "output_type": "stream",
     "text": [
      "  0%|\u001b[34m          \u001b[0m| 0/10 [00:00<?, ?it/s]\n"
     ]
    },
    {
     "name": "stdout",
     "output_type": "stream",
     "text": [
      "\u001b[36m(launch_and_fit pid=398)\u001b[0m [Client 1, round 1] fit, config: {'learning_rate': 0.001, 'batch_size': '128', 'server_round': 1, 'local_epochs': 10}\n",
      "\u001b[36m(launch_and_fit pid=398)\u001b[0m Updated model\n"
     ]
    },
    {
     "name": "stderr",
     "output_type": "stream",
     "text": [
      " 10%|\u001b[34m█         \u001b[0m| 1/10 [00:06<00:59,  6.65s/it]\n",
      "  0%|\u001b[34m          \u001b[0m| 0/10 [00:00<?, ?it/s]\n"
     ]
    },
    {
     "name": "stdout",
     "output_type": "stream",
     "text": [
      "\u001b[36m(launch_and_fit pid=398)\u001b[0m \tTrain Epoch: 1 \tTrain_loss: 2.3249 | Train_acc: 9.8090 % | Validation_loss: 2.3296 | Validation_acc: 9.5232 %\n",
      "\u001b[36m(launch_and_fit pid=423)\u001b[0m Run WITHOUT homomorphic encryption\n",
      "\u001b[36m(launch_and_fit pid=423)\u001b[0m [Client 2, round 1] fit, config: {'learning_rate': 0.001, 'batch_size': '128', 'server_round': 1, 'local_epochs': 10}\n",
      "\u001b[36m(launch_and_fit pid=423)\u001b[0m Updated model\n"
     ]
    },
    {
     "name": "stderr",
     "output_type": "stream",
     "text": [
      " 20%|\u001b[34m██        \u001b[0m| 2/10 [00:12<00:49,  6.19s/it]\u001b[32m [repeated 2x across cluster] (Ray deduplicates logs by default. Set RAY_DEDUP_LOGS=0 to disable log deduplication, or see https://docs.ray.io/en/master/ray-observability/ray-logging.html#log-deduplication for more options.)\u001b[0m\n"
     ]
    },
    {
     "name": "stdout",
     "output_type": "stream",
     "text": [
      "\u001b[36m(launch_and_fit pid=398)\u001b[0m \tTrain Epoch: 2 \tTrain_loss: 2.3265 | Train_acc: 9.9262 % | Validation_loss: 2.3169 | Validation_acc: 9.8128 %\u001b[32m [repeated 2x across cluster]\u001b[0m\n"
     ]
    },
    {
     "name": "stderr",
     "output_type": "stream",
     "text": [
      " 30%|\u001b[34m███       \u001b[0m| 3/10 [00:18<00:43,  6.15s/it]\u001b[32m [repeated 2x across cluster]\u001b[0m\n"
     ]
    },
    {
     "name": "stdout",
     "output_type": "stream",
     "text": [
      "\u001b[36m(launch_and_fit pid=398)\u001b[0m \tTrain Epoch: 3 \tTrain_loss: 2.3118 | Train_acc: 12.8646 % | Validation_loss: 2.3112 | Validation_acc: 14.8572 %\u001b[32m [repeated 2x across cluster]\u001b[0m\n"
     ]
    },
    {
     "name": "stderr",
     "output_type": "stream",
     "text": [
      " 40%|\u001b[34m████      \u001b[0m| 4/10 [00:24<00:35,  6.00s/it]\u001b[32m [repeated 2x across cluster]\u001b[0m\n"
     ]
    },
    {
     "name": "stdout",
     "output_type": "stream",
     "text": [
      "\u001b[36m(launch_and_fit pid=398)\u001b[0m \tTrain Epoch: 4 \tTrain_loss: 2.3021 | Train_acc: 14.3924 % | Validation_loss: 2.2818 | Validation_acc: 15.4027 %\u001b[32m [repeated 2x across cluster]\u001b[0m\n"
     ]
    },
    {
     "name": "stderr",
     "output_type": "stream",
     "text": [
      " 50%|\u001b[34m█████     \u001b[0m| 5/10 [00:30<00:29,  5.97s/it]\u001b[32m [repeated 2x across cluster]\u001b[0m\n"
     ]
    },
    {
     "name": "stdout",
     "output_type": "stream",
     "text": [
      "\u001b[36m(launch_and_fit pid=398)\u001b[0m \tTrain Epoch: 5 \tTrain_loss: 2.2825 | Train_acc: 15.6858 % | Validation_loss: 2.2772 | Validation_acc: 12.5269 %\u001b[32m [repeated 2x across cluster]\u001b[0m\n"
     ]
    },
    {
     "name": "stderr",
     "output_type": "stream",
     "text": [
      " 60%|\u001b[34m██████    \u001b[0m| 6/10 [00:36<00:24,  6.02s/it]\u001b[32m [repeated 2x across cluster]\u001b[0m\n"
     ]
    },
    {
     "name": "stdout",
     "output_type": "stream",
     "text": [
      "\u001b[36m(launch_and_fit pid=398)\u001b[0m \tTrain Epoch: 6 \tTrain_loss: 2.2539 | Train_acc: 17.0095 % | Validation_loss: 2.2231 | Validation_acc: 18.6827 %\u001b[32m [repeated 2x across cluster]\u001b[0m\n"
     ]
    },
    {
     "name": "stderr",
     "output_type": "stream",
     "text": [
      " 70%|\u001b[34m███████   \u001b[0m| 7/10 [00:42<00:18,  6.03s/it]\u001b[32m [repeated 2x across cluster]\u001b[0m\n"
     ]
    },
    {
     "name": "stdout",
     "output_type": "stream",
     "text": [
      "\u001b[36m(launch_and_fit pid=398)\u001b[0m \tTrain Epoch: 7 \tTrain_loss: 2.1959 | Train_acc: 20.3689 % | Validation_loss: 2.1995 | Validation_acc: 17.7263 %\u001b[32m [repeated 2x across cluster]\u001b[0m\n"
     ]
    },
    {
     "name": "stderr",
     "output_type": "stream",
     "text": [
      " 80%|\u001b[34m████████  \u001b[0m| 8/10 [00:48<00:12,  6.09s/it]\u001b[32m [repeated 2x across cluster]\u001b[0m\n"
     ]
    },
    {
     "name": "stdout",
     "output_type": "stream",
     "text": [
      "\u001b[36m(launch_and_fit pid=398)\u001b[0m \tTrain Epoch: 8 \tTrain_loss: 2.1389 | Train_acc: 20.9201 % | Validation_loss: 2.0892 | Validation_acc: 22.9256 %\u001b[32m [repeated 2x across cluster]\u001b[0m\n"
     ]
    },
    {
     "name": "stderr",
     "output_type": "stream",
     "text": [
      " 90%|\u001b[34m█████████ \u001b[0m| 9/10 [00:54<00:06,  6.04s/it]\u001b[32m [repeated 2x across cluster]\u001b[0m\n"
     ]
    },
    {
     "name": "stdout",
     "output_type": "stream",
     "text": [
      "\u001b[36m(launch_and_fit pid=398)\u001b[0m \tTrain Epoch: 9 \tTrain_loss: 2.0754 | Train_acc: 22.5260 % | Validation_loss: 2.0512 | Validation_acc: 22.4542 %\u001b[32m [repeated 2x across cluster]\u001b[0m\n"
     ]
    },
    {
     "name": "stderr",
     "output_type": "stream",
     "text": [
      "100%|\u001b[34m██████████\u001b[0m| 10/10 [01:00<00:00,  6.06s/it]\u001b[32m [repeated 2x across cluster]\u001b[0m\n"
     ]
    },
    {
     "name": "stdout",
     "output_type": "stream",
     "text": [
      "\u001b[36m(launch_and_fit pid=398)\u001b[0m save graph in  results/FL/\n",
      "\u001b[36m(launch_and_fit pid=398)\u001b[0m \tTrain Epoch: 10 \tTrain_loss: 2.0165 | Train_acc: 23.1684 % | Validation_loss: 1.9780 | Validation_acc: 22.6495 %\u001b[32m [repeated 2x across cluster]\u001b[0m\n",
      "\u001b[36m(launch_and_fit pid=473)\u001b[0m Run WITHOUT homomorphic encryption\n",
      "\u001b[36m(launch_and_fit pid=423)\u001b[0m save graph in  results/FL/\n",
      "\u001b[36m(launch_and_fit pid=423)\u001b[0m \tTrain Epoch: 10 \tTrain_loss: 1.9467 | Train_acc: 23.2639 % | Validation_loss: 1.9638 | Validation_acc: 28.1654 %\n"
     ]
    },
    {
     "name": "stderr",
     "output_type": "stream",
     "text": [
      "  0%|\u001b[34m          \u001b[0m| 0/10 [00:00<?, ?it/s]\n",
      "100%|\u001b[34m██████████\u001b[0m| 10/10 [01:00<00:00,  6.07s/it]\n"
     ]
    },
    {
     "name": "stdout",
     "output_type": "stream",
     "text": [
      "\u001b[36m(launch_and_fit pid=473)\u001b[0m [Client 6, round 1] fit, config: {'learning_rate': 0.001, 'batch_size': '128', 'server_round': 1, 'local_epochs': 10}\n",
      "\u001b[36m(launch_and_fit pid=473)\u001b[0m Updated model\n"
     ]
    },
    {
     "name": "stderr",
     "output_type": "stream",
     "text": [
      " 10%|\u001b[34m█         \u001b[0m| 1/10 [00:06<01:00,  6.72s/it]\n",
      "  0%|\u001b[34m          \u001b[0m| 0/10 [00:00<?, ?it/s]\n"
     ]
    },
    {
     "name": "stdout",
     "output_type": "stream",
     "text": [
      "\u001b[36m(launch_and_fit pid=473)\u001b[0m \tTrain Epoch: 1 \tTrain_loss: 2.3318 | Train_acc: 10.4036 % | Validation_loss: 2.3257 | Validation_acc: 8.8766 %\n",
      "\u001b[36m(launch_and_fit pid=499)\u001b[0m Run WITHOUT homomorphic encryption\n",
      "\u001b[36m(launch_and_fit pid=499)\u001b[0m [Client 4, round 1] fit, config: {'learning_rate': 0.001, 'batch_size': '128', 'server_round': 1, 'local_epochs': 10}\n",
      "\u001b[36m(launch_and_fit pid=499)\u001b[0m Updated model\n"
     ]
    },
    {
     "name": "stderr",
     "output_type": "stream",
     "text": [
      " 20%|\u001b[34m██        \u001b[0m| 2/10 [00:12<00:50,  6.34s/it]\u001b[32m [repeated 2x across cluster]\u001b[0m\n"
     ]
    },
    {
     "name": "stdout",
     "output_type": "stream",
     "text": [
      "\u001b[36m(launch_and_fit pid=473)\u001b[0m \tTrain Epoch: 2 \tTrain_loss: 2.3206 | Train_acc: 10.5773 % | Validation_loss: 2.3149 | Validation_acc: 8.8766 %\u001b[32m [repeated 2x across cluster]\u001b[0m\n"
     ]
    },
    {
     "name": "stderr",
     "output_type": "stream",
     "text": [
      " 30%|\u001b[34m███       \u001b[0m| 3/10 [00:18<00:42,  6.11s/it]\u001b[32m [repeated 2x across cluster]\u001b[0m\n"
     ]
    },
    {
     "name": "stdout",
     "output_type": "stream",
     "text": [
      "\u001b[36m(launch_and_fit pid=473)\u001b[0m \tTrain Epoch: 3 \tTrain_loss: 2.3114 | Train_acc: 11.1762 % | Validation_loss: 2.3035 | Validation_acc: 8.8564 %\u001b[32m [repeated 2x across cluster]\u001b[0m\n"
     ]
    },
    {
     "name": "stderr",
     "output_type": "stream",
     "text": [
      " 40%|\u001b[34m████      \u001b[0m| 4/10 [00:24<00:35,  6.00s/it]\u001b[32m [repeated 2x across cluster]\u001b[0m\n"
     ]
    },
    {
     "name": "stdout",
     "output_type": "stream",
     "text": [
      "\u001b[36m(launch_and_fit pid=473)\u001b[0m \tTrain Epoch: 4 \tTrain_loss: 2.3018 | Train_acc: 9.4488 % | Validation_loss: 2.2884 | Validation_acc: 9.0921 %\u001b[32m [repeated 2x across cluster]\u001b[0m\n"
     ]
    },
    {
     "name": "stderr",
     "output_type": "stream",
     "text": [
      " 50%|\u001b[34m█████     \u001b[0m| 5/10 [00:30<00:29,  5.96s/it]\u001b[32m [repeated 2x across cluster]\u001b[0m\n"
     ]
    },
    {
     "name": "stdout",
     "output_type": "stream",
     "text": [
      "\u001b[36m(launch_and_fit pid=473)\u001b[0m \tTrain Epoch: 5 \tTrain_loss: 2.2702 | Train_acc: 14.6224 % | Validation_loss: 2.2634 | Validation_acc: 13.2341 %\u001b[32m [repeated 2x across cluster]\u001b[0m\n"
     ]
    },
    {
     "name": "stderr",
     "output_type": "stream",
     "text": [
      " 60%|\u001b[34m██████    \u001b[0m| 6/10 [00:36<00:24,  6.18s/it]\u001b[32m [repeated 2x across cluster]\u001b[0m\n"
     ]
    },
    {
     "name": "stdout",
     "output_type": "stream",
     "text": [
      "\u001b[36m(launch_and_fit pid=473)\u001b[0m \tTrain Epoch: 6 \tTrain_loss: 2.2182 | Train_acc: 16.6970 % | Validation_loss: 2.1774 | Validation_acc: 17.9620 %\u001b[32m [repeated 2x across cluster]\u001b[0m\n"
     ]
    },
    {
     "name": "stderr",
     "output_type": "stream",
     "text": [
      " 70%|\u001b[34m███████   \u001b[0m| 7/10 [00:42<00:18,  6.06s/it]\u001b[32m [repeated 2x across cluster]\u001b[0m\n"
     ]
    },
    {
     "name": "stdout",
     "output_type": "stream",
     "text": [
      "\u001b[36m(launch_and_fit pid=473)\u001b[0m \tTrain Epoch: 7 \tTrain_loss: 2.1554 | Train_acc: 17.1788 % | Validation_loss: 2.1088 | Validation_acc: 16.2985 %\u001b[32m [repeated 2x across cluster]\u001b[0m\n"
     ]
    },
    {
     "name": "stderr",
     "output_type": "stream",
     "text": [
      " 80%|\u001b[34m████████  \u001b[0m| 8/10 [00:48<00:11,  5.98s/it]\u001b[32m [repeated 2x across cluster]\u001b[0m\n"
     ]
    },
    {
     "name": "stdout",
     "output_type": "stream",
     "text": [
      "\u001b[36m(launch_and_fit pid=473)\u001b[0m \tTrain Epoch: 8 \tTrain_loss: 2.0998 | Train_acc: 16.6102 % | Validation_loss: 2.1193 | Validation_acc: 15.3421 %\u001b[32m [repeated 2x across cluster]\u001b[0m\n"
     ]
    },
    {
     "name": "stderr",
     "output_type": "stream",
     "text": [
      " 90%|\u001b[34m█████████ \u001b[0m| 9/10 [00:54<00:05,  5.89s/it]\u001b[32m [repeated 2x across cluster]\u001b[0m\n"
     ]
    },
    {
     "name": "stdout",
     "output_type": "stream",
     "text": [
      "\u001b[36m(launch_and_fit pid=473)\u001b[0m \tTrain Epoch: 9 \tTrain_loss: 2.0788 | Train_acc: 16.6233 % | Validation_loss: 2.0554 | Validation_acc: 15.5172 %\u001b[32m [repeated 2x across cluster]\u001b[0m\n"
     ]
    },
    {
     "name": "stderr",
     "output_type": "stream",
     "text": [
      "100%|\u001b[34m██████████\u001b[0m| 10/10 [00:59<00:00,  5.99s/it]\u001b[32m [repeated 2x across cluster]\u001b[0m\n"
     ]
    },
    {
     "name": "stdout",
     "output_type": "stream",
     "text": [
      "\u001b[36m(launch_and_fit pid=473)\u001b[0m save graph in  results/FL/\n",
      "\u001b[36m(launch_and_fit pid=473)\u001b[0m \tTrain Epoch: 10 \tTrain_loss: 2.0071 | Train_acc: 19.1493 % | Validation_loss: 1.9894 | Validation_acc: 19.2551 %\u001b[32m [repeated 2x across cluster]\u001b[0m\n",
      "\u001b[36m(launch_and_fit pid=549)\u001b[0m Run WITHOUT homomorphic encryption\n",
      "\u001b[36m(launch_and_fit pid=499)\u001b[0m save graph in  results/FL/\n",
      "\u001b[36m(launch_and_fit pid=499)\u001b[0m \tTrain Epoch: 10 \tTrain_loss: 1.9691 | Train_acc: 21.7187 % | Validation_loss: 1.9965 | Validation_acc: 21.2487 %\n",
      "\u001b[36m(launch_and_fit pid=549)\u001b[0m [Client 5, round 1] fit, config: {'learning_rate': 0.001, 'batch_size': '128', 'server_round': 1, 'local_epochs': 10}\n",
      "\u001b[36m(launch_and_fit pid=549)\u001b[0m Updated model\n"
     ]
    },
    {
     "name": "stderr",
     "output_type": "stream",
     "text": [
      "  0%|\u001b[34m          \u001b[0m| 0/10 [00:00<?, ?it/s]\n",
      "100%|\u001b[34m██████████\u001b[0m| 10/10 [01:00<00:00,  6.07s/it]\n"
     ]
    },
    {
     "name": "stdout",
     "output_type": "stream",
     "text": [
      "\u001b[36m(launch_and_fit pid=549)\u001b[0m \tTrain Epoch: 1 \tTrain_loss: 2.3269 | Train_acc: 8.9410 % | Validation_loss: 2.3017 | Validation_acc: 11.8669 %\n",
      "\u001b[36m(launch_and_fit pid=574)\u001b[0m Run WITHOUT homomorphic encryption\n",
      "\u001b[36m(launch_and_fit pid=574)\u001b[0m [Client 0, round 1] fit, config: {'learning_rate': 0.001, 'batch_size': '128', 'server_round': 1, 'local_epochs': 10}\n",
      "\u001b[36m(launch_and_fit pid=574)\u001b[0m Updated model\n"
     ]
    },
    {
     "name": "stderr",
     "output_type": "stream",
     "text": [
      " 10%|\u001b[34m█         \u001b[0m| 1/10 [00:06<00:57,  6.35s/it]\n",
      "  0%|\u001b[34m          \u001b[0m| 0/10 [00:00<?, ?it/s]\n"
     ]
    },
    {
     "name": "stdout",
     "output_type": "stream",
     "text": [
      "\u001b[36m(launch_and_fit pid=549)\u001b[0m \tTrain Epoch: 2 \tTrain_loss: 2.2979 | Train_acc: 13.0122 % | Validation_loss: 2.2839 | Validation_acc: 14.0962 %\u001b[32m [repeated 2x across cluster]\u001b[0m\n"
     ]
    },
    {
     "name": "stderr",
     "output_type": "stream",
     "text": [
      " 20%|\u001b[34m██        \u001b[0m| 2/10 [00:12<00:47,  5.95s/it]\u001b[32m [repeated 2x across cluster]\u001b[0m\n"
     ]
    },
    {
     "name": "stdout",
     "output_type": "stream",
     "text": [
      "\u001b[36m(launch_and_fit pid=549)\u001b[0m \tTrain Epoch: 3 \tTrain_loss: 2.2515 | Train_acc: 17.2005 % | Validation_loss: 2.2162 | Validation_acc: 17.7869 %\u001b[32m [repeated 2x across cluster]\u001b[0m\n"
     ]
    },
    {
     "name": "stderr",
     "output_type": "stream",
     "text": [
      " 30%|\u001b[34m███       \u001b[0m| 3/10 [00:17<00:41,  5.89s/it]\u001b[32m [repeated 2x across cluster]\u001b[0m\n"
     ]
    },
    {
     "name": "stdout",
     "output_type": "stream",
     "text": [
      "\u001b[36m(launch_and_fit pid=549)\u001b[0m \tTrain Epoch: 4 \tTrain_loss: 2.1889 | Train_acc: 18.2248 % | Validation_loss: 2.1478 | Validation_acc: 17.5916 %\u001b[32m [repeated 2x across cluster]\u001b[0m\n"
     ]
    },
    {
     "name": "stderr",
     "output_type": "stream",
     "text": [
      " 40%|\u001b[34m████      \u001b[0m| 4/10 [00:23<00:35,  5.88s/it]\u001b[32m [repeated 2x across cluster]\u001b[0m\n"
     ]
    },
    {
     "name": "stdout",
     "output_type": "stream",
     "text": [
      "\u001b[36m(launch_and_fit pid=549)\u001b[0m \tTrain Epoch: 5 \tTrain_loss: 2.1275 | Train_acc: 17.9210 % | Validation_loss: 2.0826 | Validation_acc: 18.1977 %\u001b[32m [repeated 2x across cluster]\u001b[0m\n"
     ]
    },
    {
     "name": "stderr",
     "output_type": "stream",
     "text": [
      " 50%|\u001b[34m█████     \u001b[0m| 5/10 [00:29<00:29,  5.96s/it]\u001b[32m [repeated 2x across cluster]\u001b[0m\n"
     ]
    },
    {
     "name": "stdout",
     "output_type": "stream",
     "text": [
      "\u001b[36m(launch_and_fit pid=549)\u001b[0m \tTrain Epoch: 6 \tTrain_loss: 2.0579 | Train_acc: 18.3464 % | Validation_loss: 2.1522 | Validation_acc: 17.3020 %\u001b[32m [repeated 2x across cluster]\u001b[0m\n"
     ]
    },
    {
     "name": "stderr",
     "output_type": "stream",
     "text": [
      " 60%|\u001b[34m██████    \u001b[0m| 6/10 [00:35<00:24,  6.00s/it]\u001b[32m [repeated 2x across cluster]\u001b[0m\n"
     ]
    },
    {
     "name": "stdout",
     "output_type": "stream",
     "text": [
      "\u001b[36m(launch_and_fit pid=549)\u001b[0m \tTrain Epoch: 7 \tTrain_loss: 2.0358 | Train_acc: 17.8646 % | Validation_loss: 2.0559 | Validation_acc: 18.4537 %\u001b[32m [repeated 2x across cluster]\u001b[0m\n"
     ]
    },
    {
     "name": "stderr",
     "output_type": "stream",
     "text": [
      " 70%|\u001b[34m███████   \u001b[0m| 7/10 [00:41<00:17,  5.91s/it]\u001b[32m [repeated 2x across cluster]\u001b[0m\n"
     ]
    },
    {
     "name": "stdout",
     "output_type": "stream",
     "text": [
      "\u001b[36m(launch_and_fit pid=549)\u001b[0m \tTrain Epoch: 8 \tTrain_loss: 1.9930 | Train_acc: 18.5026 % | Validation_loss: 2.0160 | Validation_acc: 18.2786 %\u001b[32m [repeated 2x across cluster]\u001b[0m\n"
     ]
    },
    {
     "name": "stderr",
     "output_type": "stream",
     "text": [
      " 80%|\u001b[34m████████  \u001b[0m| 8/10 [00:47<00:11,  5.92s/it]\u001b[32m [repeated 2x across cluster]\u001b[0m\n"
     ]
    },
    {
     "name": "stdout",
     "output_type": "stream",
     "text": [
      "\u001b[36m(launch_and_fit pid=549)\u001b[0m \tTrain Epoch: 9 \tTrain_loss: 1.9521 | Train_acc: 19.6137 % | Validation_loss: 1.9391 | Validation_acc: 21.6999 %\u001b[32m [repeated 2x across cluster]\u001b[0m\n"
     ]
    },
    {
     "name": "stderr",
     "output_type": "stream",
     "text": [
      " 90%|\u001b[34m█████████ \u001b[0m| 9/10 [00:53<00:05,  5.92s/it]\u001b[32m [repeated 2x across cluster]\u001b[0m\n"
     ]
    },
    {
     "name": "stdout",
     "output_type": "stream",
     "text": [
      "\u001b[36m(launch_and_fit pid=574)\u001b[0m \tTrain Epoch: 9 \tTrain_loss: 2.0229 | Train_acc: 21.9531 % | Validation_loss: 1.9640 | Validation_acc: 24.2390 %\n"
     ]
    },
    {
     "name": "stderr",
     "output_type": "stream",
     "text": [
      " 90%|\u001b[34m█████████ \u001b[0m| 9/10 [00:55<00:06,  6.16s/it]\n"
     ]
    },
    {
     "name": "stdout",
     "output_type": "stream",
     "text": [
      "\u001b[36m(launch_and_fit pid=549)\u001b[0m \tTrain Epoch: 10 \tTrain_loss: 1.9057 | Train_acc: 21.8359 % | Validation_loss: 1.9263 | Validation_acc: 20.4270 %\n",
      "\u001b[36m(launch_and_fit pid=549)\u001b[0m save graph in  results/FL/\n"
     ]
    },
    {
     "name": "stderr",
     "output_type": "stream",
     "text": [
      "100%|\u001b[34m██████████\u001b[0m| 10/10 [00:59<00:00,  5.98s/it]\n"
     ]
    },
    {
     "name": "stdout",
     "output_type": "stream",
     "text": [
      "\u001b[36m(launch_and_fit pid=623)\u001b[0m Run WITHOUT homomorphic encryption\n",
      "\u001b[36m(launch_and_fit pid=574)\u001b[0m \tTrain Epoch: 10 \tTrain_loss: 1.9780 | Train_acc: 23.7804 % | Validation_loss: 1.9412 | Validation_acc: 23.4173 %\n",
      "\u001b[36m(launch_and_fit pid=574)\u001b[0m save graph in  results/FL/\n",
      "\u001b[36m(launch_and_fit pid=623)\u001b[0m [Client 8, round 1] fit, config: {'learning_rate': 0.001, 'batch_size': '128', 'server_round': 1, 'local_epochs': 10}\n",
      "\u001b[36m(launch_and_fit pid=623)\u001b[0m Updated model\n"
     ]
    },
    {
     "name": "stderr",
     "output_type": "stream",
     "text": [
      "  0%|\u001b[34m          \u001b[0m| 0/10 [00:00<?, ?it/s]\n",
      "100%|\u001b[34m██████████\u001b[0m| 10/10 [01:01<00:00,  6.12s/it]\n"
     ]
    },
    {
     "name": "stdout",
     "output_type": "stream",
     "text": [
      "\u001b[36m(launch_and_fit pid=623)\u001b[0m \tTrain Epoch: 1 \tTrain_loss: 2.3313 | Train_acc: 9.5356 % | Validation_loss: 2.3464 | Validation_acc: 9.6579 %\n",
      "\u001b[36m(launch_and_fit pid=648)\u001b[0m Run WITHOUT homomorphic encryption\n",
      "\u001b[36m(launch_and_fit pid=648)\u001b[0m [Client 7, round 1] fit, config: {'learning_rate': 0.001, 'batch_size': '128', 'server_round': 1, 'local_epochs': 10}\n",
      "\u001b[36m(launch_and_fit pid=648)\u001b[0m Updated model\n"
     ]
    },
    {
     "name": "stderr",
     "output_type": "stream",
     "text": [
      " 10%|\u001b[34m█         \u001b[0m| 1/10 [00:06<00:57,  6.35s/it]\n",
      "  0%|\u001b[34m          \u001b[0m| 0/10 [00:00<?, ?it/s]\n"
     ]
    },
    {
     "name": "stdout",
     "output_type": "stream",
     "text": [
      "\u001b[36m(launch_and_fit pid=623)\u001b[0m \tTrain Epoch: 2 \tTrain_loss: 2.3288 | Train_acc: 9.1667 % | Validation_loss: 2.3352 | Validation_acc: 10.3044 %\u001b[32m [repeated 2x across cluster]\u001b[0m\n"
     ]
    },
    {
     "name": "stderr",
     "output_type": "stream",
     "text": [
      " 20%|\u001b[34m██        \u001b[0m| 2/10 [00:12<00:49,  6.22s/it]\u001b[32m [repeated 2x across cluster]\u001b[0m\n"
     ]
    },
    {
     "name": "stdout",
     "output_type": "stream",
     "text": [
      "\u001b[36m(launch_and_fit pid=623)\u001b[0m \tTrain Epoch: 3 \tTrain_loss: 2.3223 | Train_acc: 9.8915 % | Validation_loss: 2.3371 | Validation_acc: 9.5636 %\u001b[32m [repeated 2x across cluster]\u001b[0m\n"
     ]
    },
    {
     "name": "stderr",
     "output_type": "stream",
     "text": [
      " 30%|\u001b[34m███       \u001b[0m| 3/10 [00:18<00:43,  6.16s/it]\u001b[32m [repeated 2x across cluster]\u001b[0m\n"
     ]
    },
    {
     "name": "stdout",
     "output_type": "stream",
     "text": [
      "\u001b[36m(launch_and_fit pid=623)\u001b[0m \tTrain Epoch: 4 \tTrain_loss: 2.3173 | Train_acc: 10.0564 % | Validation_loss: 2.3315 | Validation_acc: 8.8362 %\u001b[32m [repeated 2x across cluster]\u001b[0m\n"
     ]
    },
    {
     "name": "stderr",
     "output_type": "stream",
     "text": [
      " 40%|\u001b[34m████      \u001b[0m| 4/10 [00:24<00:36,  6.13s/it]\u001b[32m [repeated 2x across cluster]\u001b[0m\n"
     ]
    },
    {
     "name": "stdout",
     "output_type": "stream",
     "text": [
      "\u001b[36m(launch_and_fit pid=623)\u001b[0m \tTrain Epoch: 5 \tTrain_loss: 2.3178 | Train_acc: 9.5443 % | Validation_loss: 2.3262 | Validation_acc: 7.4286 %\u001b[32m [repeated 2x across cluster]\u001b[0m\n"
     ]
    },
    {
     "name": "stderr",
     "output_type": "stream",
     "text": [
      " 50%|\u001b[34m█████     \u001b[0m| 5/10 [00:30<00:30,  6.03s/it]\u001b[32m [repeated 2x across cluster]\u001b[0m\n"
     ]
    },
    {
     "name": "stdout",
     "output_type": "stream",
     "text": [
      "\u001b[36m(launch_and_fit pid=623)\u001b[0m \tTrain Epoch: 6 \tTrain_loss: 2.3113 | Train_acc: 10.0608 % | Validation_loss: 2.3272 | Validation_acc: 11.0857 %\u001b[32m [repeated 2x across cluster]\u001b[0m\n"
     ]
    },
    {
     "name": "stderr",
     "output_type": "stream",
     "text": [
      " 60%|\u001b[34m██████    \u001b[0m| 6/10 [00:36<00:24,  6.12s/it]\u001b[32m [repeated 2x across cluster]\u001b[0m\n"
     ]
    },
    {
     "name": "stdout",
     "output_type": "stream",
     "text": [
      "\u001b[36m(launch_and_fit pid=623)\u001b[0m \tTrain Epoch: 7 \tTrain_loss: 2.3112 | Train_acc: 10.8724 % | Validation_loss: 2.3237 | Validation_acc: 8.2099 %\u001b[32m [repeated 2x across cluster]\u001b[0m\n"
     ]
    },
    {
     "name": "stderr",
     "output_type": "stream",
     "text": [
      " 70%|\u001b[34m███████   \u001b[0m| 7/10 [00:42<00:18,  6.08s/it]\u001b[32m [repeated 2x across cluster]\u001b[0m\n"
     ]
    },
    {
     "name": "stdout",
     "output_type": "stream",
     "text": [
      "\u001b[36m(launch_and_fit pid=623)\u001b[0m \tTrain Epoch: 8 \tTrain_loss: 2.3134 | Train_acc: 10.4123 % | Validation_loss: 2.3267 | Validation_acc: 8.6611 %\u001b[32m [repeated 2x across cluster]\u001b[0m\n"
     ]
    },
    {
     "name": "stderr",
     "output_type": "stream",
     "text": [
      " 80%|\u001b[34m████████  \u001b[0m| 8/10 [00:48<00:12,  6.10s/it]\u001b[32m [repeated 2x across cluster]\u001b[0m\n"
     ]
    },
    {
     "name": "stdout",
     "output_type": "stream",
     "text": [
      "\u001b[36m(launch_and_fit pid=648)\u001b[0m \tTrain Epoch: 8 \tTrain_loss: 2.0129 | Train_acc: 23.0252 % | Validation_loss: 1.9629 | Validation_acc: 22.6360 %\n"
     ]
    },
    {
     "name": "stderr",
     "output_type": "stream",
     "text": [
      " 80%|\u001b[34m████████  \u001b[0m| 8/10 [00:49<00:12,  6.18s/it]\n"
     ]
    },
    {
     "name": "stdout",
     "output_type": "stream",
     "text": [
      "\u001b[36m(launch_and_fit pid=623)\u001b[0m \tTrain Epoch: 9 \tTrain_loss: 2.3068 | Train_acc: 10.3733 % | Validation_loss: 2.3134 | Validation_acc: 11.8467 %\n"
     ]
    },
    {
     "name": "stderr",
     "output_type": "stream",
     "text": [
      " 90%|\u001b[34m█████████ \u001b[0m| 9/10 [00:54<00:06,  6.06s/it]\n"
     ]
    },
    {
     "name": "stdout",
     "output_type": "stream",
     "text": [
      "\u001b[36m(launch_and_fit pid=648)\u001b[0m \tTrain Epoch: 9 \tTrain_loss: 1.9562 | Train_acc: 23.3030 % | Validation_loss: 1.9567 | Validation_acc: 22.7371 %\n"
     ]
    },
    {
     "name": "stderr",
     "output_type": "stream",
     "text": [
      " 90%|\u001b[34m█████████ \u001b[0m| 9/10 [00:55<00:06,  6.17s/it]\n"
     ]
    },
    {
     "name": "stdout",
     "output_type": "stream",
     "text": [
      "\u001b[36m(launch_and_fit pid=623)\u001b[0m \tTrain Epoch: 10 \tTrain_loss: 2.3081 | Train_acc: 10.4470 % | Validation_loss: 2.3152 | Validation_acc: 10.2438 %\n",
      "\u001b[36m(launch_and_fit pid=623)\u001b[0m save graph in  results/FL/\n"
     ]
    },
    {
     "name": "stderr",
     "output_type": "stream",
     "text": [
      "100%|\u001b[34m██████████\u001b[0m| 10/10 [01:01<00:00,  6.11s/it]\n"
     ]
    },
    {
     "name": "stdout",
     "output_type": "stream",
     "text": [
      "\u001b[36m(launch_and_fit pid=648)\u001b[0m \tTrain Epoch: 10 \tTrain_loss: 1.9260 | Train_acc: 26.9531 % | Validation_loss: 1.9102 | Validation_acc: 26.4076 %\n",
      "\u001b[36m(launch_and_fit pid=648)\u001b[0m save graph in  results/FL/\n"
     ]
    },
    {
     "name": "stderr",
     "output_type": "stream",
     "text": [
      "100%|\u001b[34m██████████\u001b[0m| 10/10 [01:02<00:00,  6.23s/it]\n"
     ]
    },
    {
     "name": "stdout",
     "output_type": "stream",
     "text": [
      "\u001b[36m(launch_and_fit pid=697)\u001b[0m Run WITHOUT homomorphic encryption\n"
     ]
    },
    {
     "name": "stderr",
     "output_type": "stream",
     "text": [
      "  0%|\u001b[34m          \u001b[0m| 0/10 [00:00<?, ?it/s]\n"
     ]
    },
    {
     "name": "stdout",
     "output_type": "stream",
     "text": [
      "\u001b[36m(launch_and_fit pid=697)\u001b[0m [Client 9, round 1] fit, config: {'learning_rate': 0.001, 'batch_size': '128', 'server_round': 1, 'local_epochs': 10}\n",
      "\u001b[36m(launch_and_fit pid=697)\u001b[0m Updated model\n",
      "\u001b[36m(launch_and_fit pid=724)\u001b[0m Run WITHOUT homomorphic encryption\n",
      "\u001b[36m(launch_and_fit pid=724)\u001b[0m [Client 3, round 1] fit, config: {'learning_rate': 0.001, 'batch_size': '128', 'server_round': 1, 'local_epochs': 10}\n",
      "\u001b[36m(launch_and_fit pid=724)\u001b[0m Updated model\n"
     ]
    },
    {
     "name": "stderr",
     "output_type": "stream",
     "text": [
      "  0%|\u001b[34m          \u001b[0m| 0/10 [00:00<?, ?it/s]\n",
      " 10%|\u001b[34m█         \u001b[0m| 1/10 [00:06<00:58,  6.51s/it]\n"
     ]
    },
    {
     "name": "stdout",
     "output_type": "stream",
     "text": [
      "\u001b[36m(launch_and_fit pid=697)\u001b[0m \tTrain Epoch: 1 \tTrain_loss: 2.3363 | Train_acc: 9.8351 % | Validation_loss: 2.3369 | Validation_acc: 9.7320 %\n",
      "\u001b[36m(launch_and_fit pid=724)\u001b[0m \tTrain Epoch: 1 \tTrain_loss: 2.3220 | Train_acc: 9.4922 % | Validation_loss: 2.3041 | Validation_acc: 7.4286 %\n"
     ]
    },
    {
     "name": "stderr",
     "output_type": "stream",
     "text": [
      " 10%|\u001b[34m█         \u001b[0m| 1/10 [00:06<00:59,  6.62s/it]\n",
      " 20%|\u001b[34m██        \u001b[0m| 2/10 [00:12<00:48,  6.01s/it]\n"
     ]
    },
    {
     "name": "stdout",
     "output_type": "stream",
     "text": [
      "\u001b[36m(launch_and_fit pid=697)\u001b[0m \tTrain Epoch: 2 \tTrain_loss: 2.3306 | Train_acc: 9.4835 % | Validation_loss: 2.3343 | Validation_acc: 7.1727 %\n",
      "\u001b[36m(launch_and_fit pid=724)\u001b[0m \tTrain Epoch: 2 \tTrain_loss: 2.2843 | Train_acc: 12.8125 % | Validation_loss: 2.2584 | Validation_acc: 14.7764 %\n"
     ]
    },
    {
     "name": "stderr",
     "output_type": "stream",
     "text": [
      " 20%|\u001b[34m██        \u001b[0m| 2/10 [00:12<00:49,  6.22s/it]\n",
      " 30%|\u001b[34m███       \u001b[0m| 3/10 [00:18<00:41,  5.94s/it]\n"
     ]
    },
    {
     "name": "stdout",
     "output_type": "stream",
     "text": [
      "\u001b[36m(launch_and_fit pid=697)\u001b[0m \tTrain Epoch: 3 \tTrain_loss: 2.3268 | Train_acc: 9.7396 % | Validation_loss: 2.3269 | Validation_acc: 9.7320 %\n",
      "\u001b[36m(launch_and_fit pid=724)\u001b[0m \tTrain Epoch: 3 \tTrain_loss: 2.2174 | Train_acc: 17.2439 % | Validation_loss: 2.1888 | Validation_acc: 14.5609 %\n",
      "\u001b[36m(launch_and_fit pid=697)\u001b[0m \tTrain Epoch: 4 \tTrain_loss: 2.3153 | Train_acc: 9.1884 % | Validation_loss: 2.3115 | Validation_acc: 6.8023 %\n"
     ]
    },
    {
     "name": "stderr",
     "output_type": "stream",
     "text": [
      " 30%|\u001b[34m███       \u001b[0m| 3/10 [00:18<00:42,  6.09s/it]\n",
      " 40%|\u001b[34m████      \u001b[0m| 4/10 [00:23<00:35,  5.92s/it]\n",
      " 50%|\u001b[34m█████     \u001b[0m| 5/10 [00:29<00:29,  5.86s/it]\n",
      " 40%|\u001b[34m████      \u001b[0m| 4/10 [00:24<00:36,  6.01s/it]\n"
     ]
    },
    {
     "name": "stdout",
     "output_type": "stream",
     "text": [
      "\u001b[36m(launch_and_fit pid=697)\u001b[0m \tTrain Epoch: 5 \tTrain_loss: 2.2981 | Train_acc: 8.7196 % | Validation_loss: 2.2896 | Validation_acc: 12.4124 %\n",
      "\u001b[36m(launch_and_fit pid=724)\u001b[0m \tTrain Epoch: 4 \tTrain_loss: 2.1543 | Train_acc: 17.7691 % | Validation_loss: 2.1407 | Validation_acc: 18.3728 %\n",
      "\u001b[36m(launch_and_fit pid=724)\u001b[0m \tTrain Epoch: 5 \tTrain_loss: 2.0953 | Train_acc: 18.0773 % | Validation_loss: 2.0661 | Validation_acc: 17.1404 %\n"
     ]
    },
    {
     "name": "stderr",
     "output_type": "stream",
     "text": [
      " 50%|\u001b[34m█████     \u001b[0m| 5/10 [00:30<00:29,  5.93s/it]\n",
      " 60%|\u001b[34m██████    \u001b[0m| 6/10 [00:35<00:23,  5.90s/it]\n"
     ]
    },
    {
     "name": "stdout",
     "output_type": "stream",
     "text": [
      "\u001b[36m(launch_and_fit pid=697)\u001b[0m \tTrain Epoch: 6 \tTrain_loss: 2.2531 | Train_acc: 15.6858 % | Validation_loss: 2.2153 | Validation_acc: 19.3898 %\n"
     ]
    },
    {
     "name": "stderr",
     "output_type": "stream",
     "text": [
      " 70%|\u001b[34m███████   \u001b[0m| 7/10 [00:41<00:18,  6.02s/it]\n",
      " 60%|\u001b[34m██████    \u001b[0m| 6/10 [00:36<00:24,  6.11s/it]\n"
     ]
    },
    {
     "name": "stdout",
     "output_type": "stream",
     "text": [
      "\u001b[36m(launch_and_fit pid=697)\u001b[0m \tTrain Epoch: 7 \tTrain_loss: 2.1753 | Train_acc: 16.9878 % | Validation_loss: 2.2102 | Validation_acc: 15.0525 %\n",
      "\u001b[36m(launch_and_fit pid=724)\u001b[0m \tTrain Epoch: 6 \tTrain_loss: 2.0448 | Train_acc: 17.9427 % | Validation_loss: 2.0349 | Validation_acc: 16.7901 %\n"
     ]
    },
    {
     "name": "stderr",
     "output_type": "stream",
     "text": [
      " 80%|\u001b[34m████████  \u001b[0m| 8/10 [00:47<00:11,  5.97s/it]\n",
      " 70%|\u001b[34m███████   \u001b[0m| 7/10 [00:42<00:18,  6.05s/it]\n"
     ]
    },
    {
     "name": "stdout",
     "output_type": "stream",
     "text": [
      "\u001b[36m(launch_and_fit pid=697)\u001b[0m \tTrain Epoch: 8 \tTrain_loss: 2.1000 | Train_acc: 18.8759 % | Validation_loss: 2.0522 | Validation_acc: 16.4399 %\n",
      "\u001b[36m(launch_and_fit pid=724)\u001b[0m \tTrain Epoch: 7 \tTrain_loss: 2.0021 | Train_acc: 18.4809 % | Validation_loss: 1.9935 | Validation_acc: 18.3324 %\n"
     ]
    },
    {
     "name": "stderr",
     "output_type": "stream",
     "text": [
      " 90%|\u001b[34m█████████ \u001b[0m| 9/10 [00:53<00:05,  5.86s/it]\n"
     ]
    },
    {
     "name": "stdout",
     "output_type": "stream",
     "text": [
      "\u001b[36m(launch_and_fit pid=697)\u001b[0m \tTrain Epoch: 9 \tTrain_loss: 2.0413 | Train_acc: 18.7587 % | Validation_loss: 2.0118 | Validation_acc: 17.9822 %\n",
      "\u001b[36m(launch_and_fit pid=724)\u001b[0m \tTrain Epoch: 8 \tTrain_loss: 1.9713 | Train_acc: 18.9887 % | Validation_loss: 1.9966 | Validation_acc: 19.9555 %\n"
     ]
    },
    {
     "name": "stderr",
     "output_type": "stream",
     "text": [
      " 80%|\u001b[34m████████  \u001b[0m| 8/10 [00:48<00:11,  5.95s/it]\n",
      "100%|\u001b[34m██████████\u001b[0m| 10/10 [00:59<00:00,  5.91s/it]\n"
     ]
    },
    {
     "name": "stdout",
     "output_type": "stream",
     "text": [
      "\u001b[36m(launch_and_fit pid=697)\u001b[0m save graph in  results/FL/\n",
      "\u001b[36m(launch_and_fit pid=697)\u001b[0m \tTrain Epoch: 10 \tTrain_loss: 1.9986 | Train_acc: 19.3490 % | Validation_loss: 1.9893 | Validation_acc: 17.9418 %\n",
      "\u001b[36m(launch_and_fit pid=724)\u001b[0m \tTrain Epoch: 9 \tTrain_loss: 1.9445 | Train_acc: 21.4410 % | Validation_loss: 1.9498 | Validation_acc: 22.3195 %\n"
     ]
    },
    {
     "name": "stderr",
     "output_type": "stream",
     "text": [
      " 90%|\u001b[34m█████████ \u001b[0m| 9/10 [00:54<00:05,  5.92s/it]\n"
     ]
    },
    {
     "name": "stdout",
     "output_type": "stream",
     "text": [
      "\u001b[36m(launch_and_fit pid=724)\u001b[0m \tTrain Epoch: 10 \tTrain_loss: 1.9164 | Train_acc: 23.5938 % | Validation_loss: 1.9060 | Validation_acc: 23.5116 %\n",
      "\u001b[36m(launch_and_fit pid=724)\u001b[0m save graph in  results/FL/\n"
     ]
    },
    {
     "name": "stderr",
     "output_type": "stream",
     "text": [
      "100%|\u001b[34m██████████\u001b[0m| 10/10 [00:59<00:00,  5.97s/it]\n",
      "DEBUG flwr 2024-07-20 18:23:01,497 | server.py:236 | fit_round 1 received 10 results and 0 failures\n",
      "WARNING flwr 2024-07-20 18:23:01,806 | 2069247182.py:131 | No fit_metrics_aggregation_fn provided\n"
     ]
    },
    {
     "name": "stdout",
     "output_type": "stream",
     "text": [
      "Saving round 1 aggregated_parameters...\n",
      "Updated model\n"
     ]
    },
    {
     "name": "stderr",
     "output_type": "stream",
     "text": [
      "INFO flwr 2024-07-20 18:23:07,440 | server.py:125 | fit progress: (1, 2.319431069531018, {'accuracy': 10.096914556962025}, 382.12953239700005)\n",
      "DEBUG flwr 2024-07-20 18:23:07,441 | server.py:173 | evaluate_round 1: strategy sampled 10 clients (out of 10)\n"
     ]
    },
    {
     "name": "stdout",
     "output_type": "stream",
     "text": [
      "Server-side evaluation loss 2.319431069531018 / accuracy 10.096914556962025\n",
      "\u001b[36m(launch_and_evaluate pid=780)\u001b[0m Run WITHOUT homomorphic encryption\n",
      "\u001b[36m(launch_and_evaluate pid=780)\u001b[0m  To get the checkpoint\n",
      "\u001b[36m(launch_and_evaluate pid=780)\u001b[0m [Client 3] evaluate, config: {}\n",
      "\u001b[36m(launch_and_evaluate pid=780)\u001b[0m Updated model\n",
      "\u001b[36m(launch_and_evaluate pid=849)\u001b[0m Run WITHOUT homomorphic encryption\u001b[32m [repeated 2x across cluster]\u001b[0m\n",
      "\u001b[36m(launch_and_evaluate pid=849)\u001b[0m  To get the checkpoint\u001b[32m [repeated 2x across cluster]\u001b[0m\n",
      "\u001b[36m(launch_and_evaluate pid=804)\u001b[0m [Client 9] evaluate, config: {}\n",
      "\u001b[36m(launch_and_evaluate pid=804)\u001b[0m Updated model\n",
      "\u001b[36m(launch_and_evaluate pid=849)\u001b[0m [Client 2] evaluate, config: {}\n",
      "\u001b[36m(launch_and_evaluate pid=849)\u001b[0m Updated model\n",
      "\u001b[36m(launch_and_evaluate pid=920)\u001b[0m Run WITHOUT homomorphic encryption\u001b[32m [repeated 2x across cluster]\u001b[0m\n",
      "\u001b[36m(launch_and_evaluate pid=920)\u001b[0m  To get the checkpoint\u001b[32m [repeated 2x across cluster]\u001b[0m\n",
      "\u001b[36m(launch_and_evaluate pid=874)\u001b[0m [Client 8] evaluate, config: {}\n",
      "\u001b[36m(launch_and_evaluate pid=874)\u001b[0m Updated model\n",
      "\u001b[36m(launch_and_evaluate pid=920)\u001b[0m [Client 0] evaluate, config: {}\n",
      "\u001b[36m(launch_and_evaluate pid=920)\u001b[0m Updated model\n",
      "\u001b[36m(launch_and_evaluate pid=990)\u001b[0m Run WITHOUT homomorphic encryption\u001b[32m [repeated 2x across cluster]\u001b[0m\n",
      "\u001b[36m(launch_and_evaluate pid=990)\u001b[0m  To get the checkpoint\u001b[32m [repeated 2x across cluster]\u001b[0m\n",
      "\u001b[36m(launch_and_evaluate pid=945)\u001b[0m [Client 4] evaluate, config: {}\n",
      "\u001b[36m(launch_and_evaluate pid=945)\u001b[0m Updated model\n",
      "\u001b[36m(launch_and_evaluate pid=990)\u001b[0m [Client 7] evaluate, config: {}\n",
      "\u001b[36m(launch_and_evaluate pid=990)\u001b[0m Updated model\n",
      "\u001b[36m(launch_and_evaluate pid=1054)\u001b[0m Run WITHOUT homomorphic encryption\u001b[32m [repeated 2x across cluster]\u001b[0m\n",
      "\u001b[36m(launch_and_evaluate pid=1054)\u001b[0m  To get the checkpoint\u001b[32m [repeated 2x across cluster]\u001b[0m\n",
      "\u001b[36m(launch_and_evaluate pid=1015)\u001b[0m [Client 6] evaluate, config: {}\n",
      "\u001b[36m(launch_and_evaluate pid=1015)\u001b[0m Updated model\n",
      "\u001b[36m(launch_and_evaluate pid=1054)\u001b[0m [Client 1] evaluate, config: {}\n",
      "\u001b[36m(launch_and_evaluate pid=1054)\u001b[0m Updated model\n"
     ]
    },
    {
     "name": "stderr",
     "output_type": "stream",
     "text": [
      "DEBUG flwr 2024-07-20 18:24:25,010 | server.py:187 | evaluate_round 1 received 10 results and 0 failures\n",
      "DEBUG flwr 2024-07-20 18:24:25,011 | server.py:222 | fit_round 2: strategy sampled 10 clients (out of 10)\n"
     ]
    },
    {
     "name": "stdout",
     "output_type": "stream",
     "text": [
      "\u001b[36m(launch_and_fit pid=1139)\u001b[0m Run WITHOUT homomorphic encryption\u001b[32m [repeated 2x across cluster]\u001b[0m\n",
      "\u001b[36m(launch_and_fit pid=1139)\u001b[0m  To get the checkpoint\u001b[32m [repeated 2x across cluster]\u001b[0m\n",
      "\u001b[36m(launch_and_evaluate pid=1085)\u001b[0m [Client 5] evaluate, config: {}\n",
      "\u001b[36m(launch_and_evaluate pid=1085)\u001b[0m Updated model\n",
      "\u001b[36m(launch_and_fit pid=1139)\u001b[0m [Client 9, round 2] fit, config: {'learning_rate': 0.001, 'batch_size': '128', 'server_round': 2, 'local_epochs': 10}\n",
      "\u001b[36m(launch_and_fit pid=1139)\u001b[0m Updated model\n"
     ]
    },
    {
     "name": "stderr",
     "output_type": "stream",
     "text": [
      "  0%|\u001b[34m          \u001b[0m| 0/10 [00:00<?, ?it/s]\n"
     ]
    },
    {
     "name": "stdout",
     "output_type": "stream",
     "text": [
      "\u001b[36m(launch_and_fit pid=1139)\u001b[0m \tTrain Epoch: 1 \tTrain_loss: 2.1400 | Train_acc: 16.2630 % | Validation_loss: 2.0100 | Validation_acc: 16.5948 %\n",
      "\u001b[36m(launch_and_fit pid=1140)\u001b[0m Run WITHOUT homomorphic encryption\n",
      "\u001b[36m(launch_and_fit pid=1140)\u001b[0m  To get the checkpoint\n",
      "\u001b[36m(launch_and_fit pid=1140)\u001b[0m [Client 5, round 2] fit, config: {'learning_rate': 0.001, 'batch_size': '128', 'server_round': 2, 'local_epochs': 10}\n",
      "\u001b[36m(launch_and_fit pid=1140)\u001b[0m Updated model\n"
     ]
    },
    {
     "name": "stderr",
     "output_type": "stream",
     "text": [
      " 10%|\u001b[34m█         \u001b[0m| 1/10 [00:06<00:57,  6.41s/it]\n",
      "  0%|\u001b[34m          \u001b[0m| 0/10 [00:00<?, ?it/s]\n"
     ]
    },
    {
     "name": "stdout",
     "output_type": "stream",
     "text": [
      "\u001b[36m(launch_and_fit pid=1139)\u001b[0m \tTrain Epoch: 2 \tTrain_loss: 2.0234 | Train_acc: 18.0816 % | Validation_loss: 1.9683 | Validation_acc: 17.6320 %\u001b[32m [repeated 2x across cluster]\u001b[0m\n"
     ]
    },
    {
     "name": "stderr",
     "output_type": "stream",
     "text": [
      " 20%|\u001b[34m██        \u001b[0m| 2/10 [00:12<00:48,  6.12s/it]\u001b[32m [repeated 2x across cluster]\u001b[0m\n"
     ]
    },
    {
     "name": "stdout",
     "output_type": "stream",
     "text": [
      "\u001b[36m(launch_and_fit pid=1139)\u001b[0m \tTrain Epoch: 3 \tTrain_loss: 1.9903 | Train_acc: 18.8368 % | Validation_loss: 1.9618 | Validation_acc: 17.6320 %\u001b[32m [repeated 2x across cluster]\u001b[0m\n"
     ]
    },
    {
     "name": "stderr",
     "output_type": "stream",
     "text": [
      " 30%|\u001b[34m███       \u001b[0m| 3/10 [00:18<00:42,  6.13s/it]\u001b[32m [repeated 2x across cluster]\u001b[0m\n"
     ]
    },
    {
     "name": "stdout",
     "output_type": "stream",
     "text": [
      "\u001b[36m(launch_and_fit pid=1139)\u001b[0m \tTrain Epoch: 4 \tTrain_loss: 1.9698 | Train_acc: 19.9392 % | Validation_loss: 1.9857 | Validation_acc: 20.6021 %\u001b[32m [repeated 2x across cluster]\u001b[0m\n"
     ]
    },
    {
     "name": "stderr",
     "output_type": "stream",
     "text": [
      " 40%|\u001b[34m████      \u001b[0m| 4/10 [00:24<00:36,  6.09s/it]\u001b[32m [repeated 2x across cluster]\u001b[0m\n"
     ]
    },
    {
     "name": "stdout",
     "output_type": "stream",
     "text": [
      "\u001b[36m(launch_and_fit pid=1139)\u001b[0m \tTrain Epoch: 5 \tTrain_loss: 1.9420 | Train_acc: 21.4974 % | Validation_loss: 1.9137 | Validation_acc: 20.3260 %\u001b[32m [repeated 2x across cluster]\u001b[0m\n"
     ]
    },
    {
     "name": "stderr",
     "output_type": "stream",
     "text": [
      " 50%|\u001b[34m█████     \u001b[0m| 5/10 [00:30<00:30,  6.12s/it]\u001b[32m [repeated 2x across cluster]\u001b[0m\n"
     ]
    },
    {
     "name": "stdout",
     "output_type": "stream",
     "text": [
      "\u001b[36m(launch_and_fit pid=1139)\u001b[0m \tTrain Epoch: 6 \tTrain_loss: 1.9078 | Train_acc: 23.6589 % | Validation_loss: 1.9331 | Validation_acc: 22.1646 %\u001b[32m [repeated 2x across cluster]\u001b[0m\n"
     ]
    },
    {
     "name": "stderr",
     "output_type": "stream",
     "text": [
      " 60%|\u001b[34m██████    \u001b[0m| 6/10 [00:37<00:24,  6.22s/it]\u001b[32m [repeated 2x across cluster]\u001b[0m\n"
     ]
    },
    {
     "name": "stdout",
     "output_type": "stream",
     "text": [
      "\u001b[36m(launch_and_fit pid=1139)\u001b[0m \tTrain Epoch: 7 \tTrain_loss: 1.9001 | Train_acc: 24.0495 % | Validation_loss: 1.9882 | Validation_acc: 20.4270 %\u001b[32m [repeated 2x across cluster]\u001b[0m\n"
     ]
    },
    {
     "name": "stderr",
     "output_type": "stream",
     "text": [
      " 70%|\u001b[34m███████   \u001b[0m| 7/10 [00:42<00:18,  6.08s/it]\u001b[32m [repeated 2x across cluster]\u001b[0m\n"
     ]
    },
    {
     "name": "stdout",
     "output_type": "stream",
     "text": [
      "\u001b[36m(launch_and_fit pid=1139)\u001b[0m \tTrain Epoch: 8 \tTrain_loss: 1.9024 | Train_acc: 24.4792 % | Validation_loss: 1.9455 | Validation_acc: 21.6797 %\u001b[32m [repeated 2x across cluster]\u001b[0m\n"
     ]
    },
    {
     "name": "stderr",
     "output_type": "stream",
     "text": [
      " 80%|\u001b[34m████████  \u001b[0m| 8/10 [00:48<00:11,  5.99s/it]\u001b[32m [repeated 2x across cluster]\u001b[0m\n"
     ]
    },
    {
     "name": "stdout",
     "output_type": "stream",
     "text": [
      "\u001b[36m(launch_and_fit pid=1139)\u001b[0m \tTrain Epoch: 9 \tTrain_loss: 1.8551 | Train_acc: 26.7101 % | Validation_loss: 1.8690 | Validation_acc: 26.0776 %\u001b[32m [repeated 2x across cluster]\u001b[0m\n"
     ]
    },
    {
     "name": "stderr",
     "output_type": "stream",
     "text": [
      " 90%|\u001b[34m█████████ \u001b[0m| 9/10 [00:54<00:06,  6.00s/it]\u001b[32m [repeated 2x across cluster]\u001b[0m\n"
     ]
    },
    {
     "name": "stdout",
     "output_type": "stream",
     "text": [
      "\u001b[36m(launch_and_fit pid=1139)\u001b[0m save graph in  results/FL/\n",
      "\u001b[36m(launch_and_fit pid=1139)\u001b[0m \tTrain Epoch: 10 \tTrain_loss: 1.8331 | Train_acc: 27.6997 % | Validation_loss: 1.8682 | Validation_acc: 24.4949 %\u001b[32m [repeated 2x across cluster]\u001b[0m\n"
     ]
    },
    {
     "name": "stderr",
     "output_type": "stream",
     "text": [
      "100%|\u001b[34m██████████\u001b[0m| 10/10 [01:01<00:00,  6.10s/it]\u001b[32m [repeated 2x across cluster]\u001b[0m\n"
     ]
    },
    {
     "name": "stdout",
     "output_type": "stream",
     "text": [
      "\u001b[36m(launch_and_fit pid=1214)\u001b[0m Run WITHOUT homomorphic encryption\n",
      "\u001b[36m(launch_and_fit pid=1214)\u001b[0m  To get the checkpoint\n",
      "\u001b[36m(launch_and_fit pid=1140)\u001b[0m save graph in  results/FL/\n",
      "\u001b[36m(launch_and_fit pid=1140)\u001b[0m \tTrain Epoch: 10 \tTrain_loss: 1.8319 | Train_acc: 26.0026 % | Validation_loss: 1.8861 | Validation_acc: 24.8855 %\n"
     ]
    },
    {
     "name": "stderr",
     "output_type": "stream",
     "text": [
      "  0%|\u001b[34m          \u001b[0m| 0/10 [00:00<?, ?it/s]\n",
      "100%|\u001b[34m██████████\u001b[0m| 10/10 [01:01<00:00,  6.13s/it]\n"
     ]
    },
    {
     "name": "stdout",
     "output_type": "stream",
     "text": [
      "\u001b[36m(launch_and_fit pid=1214)\u001b[0m [Client 0, round 2] fit, config: {'learning_rate': 0.001, 'batch_size': '128', 'server_round': 2, 'local_epochs': 10}\n",
      "\u001b[36m(launch_and_fit pid=1214)\u001b[0m Updated model\n"
     ]
    },
    {
     "name": "stderr",
     "output_type": "stream",
     "text": [
      " 10%|\u001b[34m█         \u001b[0m| 1/10 [00:06<00:57,  6.44s/it]\n",
      "  0%|\u001b[34m          \u001b[0m| 0/10 [00:00<?, ?it/s]\n"
     ]
    },
    {
     "name": "stdout",
     "output_type": "stream",
     "text": [
      "\u001b[36m(launch_and_fit pid=1214)\u001b[0m \tTrain Epoch: 1 \tTrain_loss: 2.1264 | Train_acc: 16.0026 % | Validation_loss: 2.0348 | Validation_acc: 19.0396 %\n",
      "\u001b[36m(launch_and_fit pid=1216)\u001b[0m Run WITHOUT homomorphic encryption\n",
      "\u001b[36m(launch_and_fit pid=1216)\u001b[0m  To get the checkpoint\n",
      "\u001b[36m(launch_and_fit pid=1216)\u001b[0m [Client 6, round 2] fit, config: {'learning_rate': 0.001, 'batch_size': '128', 'server_round': 2, 'local_epochs': 10}\n",
      "\u001b[36m(launch_and_fit pid=1216)\u001b[0m Updated model\n"
     ]
    },
    {
     "name": "stderr",
     "output_type": "stream",
     "text": [
      " 20%|\u001b[34m██        \u001b[0m| 2/10 [00:12<00:48,  6.12s/it]\u001b[32m [repeated 2x across cluster]\u001b[0m\n"
     ]
    },
    {
     "name": "stdout",
     "output_type": "stream",
     "text": [
      "\u001b[36m(launch_and_fit pid=1214)\u001b[0m \tTrain Epoch: 2 \tTrain_loss: 2.0150 | Train_acc: 18.5200 % | Validation_loss: 1.9898 | Validation_acc: 16.2783 %\u001b[32m [repeated 2x across cluster]\u001b[0m\n"
     ]
    },
    {
     "name": "stderr",
     "output_type": "stream",
     "text": [
      " 30%|\u001b[34m███       \u001b[0m| 3/10 [00:18<00:43,  6.20s/it]\u001b[32m [repeated 2x across cluster]\u001b[0m\n"
     ]
    },
    {
     "name": "stdout",
     "output_type": "stream",
     "text": [
      "\u001b[36m(launch_and_fit pid=1214)\u001b[0m \tTrain Epoch: 3 \tTrain_loss: 1.9654 | Train_acc: 19.5009 % | Validation_loss: 1.9870 | Validation_acc: 15.9685 %\u001b[32m [repeated 2x across cluster]\u001b[0m\n"
     ]
    },
    {
     "name": "stderr",
     "output_type": "stream",
     "text": [
      " 40%|\u001b[34m████      \u001b[0m| 4/10 [00:24<00:36,  6.11s/it]\u001b[32m [repeated 2x across cluster]\u001b[0m\n"
     ]
    },
    {
     "name": "stdout",
     "output_type": "stream",
     "text": [
      "\u001b[36m(launch_and_fit pid=1214)\u001b[0m \tTrain Epoch: 4 \tTrain_loss: 1.9453 | Train_acc: 19.5095 % | Validation_loss: 1.9096 | Validation_acc: 19.8747 %\u001b[32m [repeated 2x across cluster]\u001b[0m\n"
     ]
    },
    {
     "name": "stderr",
     "output_type": "stream",
     "text": [
      " 50%|\u001b[34m█████     \u001b[0m| 5/10 [00:30<00:30,  6.06s/it]\u001b[32m [repeated 2x across cluster]\u001b[0m\n"
     ]
    },
    {
     "name": "stdout",
     "output_type": "stream",
     "text": [
      "\u001b[36m(launch_and_fit pid=1214)\u001b[0m \tTrain Epoch: 5 \tTrain_loss: 1.9117 | Train_acc: 20.1780 % | Validation_loss: 1.9461 | Validation_acc: 19.3292 %\u001b[32m [repeated 2x across cluster]\u001b[0m\n"
     ]
    },
    {
     "name": "stderr",
     "output_type": "stream",
     "text": [
      " 60%|\u001b[34m██████    \u001b[0m| 6/10 [00:37<00:25,  6.32s/it]\u001b[32m [repeated 2x across cluster]\u001b[0m\n"
     ]
    },
    {
     "name": "stdout",
     "output_type": "stream",
     "text": [
      "\u001b[36m(launch_and_fit pid=1214)\u001b[0m \tTrain Epoch: 6 \tTrain_loss: 1.9111 | Train_acc: 21.2847 % | Validation_loss: 1.9222 | Validation_acc: 20.4809 %\u001b[32m [repeated 2x across cluster]\u001b[0m\n"
     ]
    },
    {
     "name": "stderr",
     "output_type": "stream",
     "text": [
      " 70%|\u001b[34m███████   \u001b[0m| 7/10 [00:43<00:18,  6.21s/it]\u001b[32m [repeated 2x across cluster]\u001b[0m\n"
     ]
    },
    {
     "name": "stdout",
     "output_type": "stream",
     "text": [
      "\u001b[36m(launch_and_fit pid=1214)\u001b[0m \tTrain Epoch: 7 \tTrain_loss: 1.8973 | Train_acc: 22.1181 % | Validation_loss: 1.8611 | Validation_acc: 25.3839 %\u001b[32m [repeated 2x across cluster]\u001b[0m\n"
     ]
    },
    {
     "name": "stderr",
     "output_type": "stream",
     "text": [
      " 80%|\u001b[34m████████  \u001b[0m| 8/10 [00:49<00:12,  6.16s/it]\u001b[32m [repeated 2x across cluster]\u001b[0m\n"
     ]
    },
    {
     "name": "stdout",
     "output_type": "stream",
     "text": [
      "\u001b[36m(launch_and_fit pid=1214)\u001b[0m \tTrain Epoch: 8 \tTrain_loss: 1.8566 | Train_acc: 24.2188 % | Validation_loss: 1.8884 | Validation_acc: 27.0474 %\u001b[32m [repeated 2x across cluster]\u001b[0m\n"
     ]
    },
    {
     "name": "stderr",
     "output_type": "stream",
     "text": [
      " 90%|\u001b[34m█████████ \u001b[0m| 9/10 [00:55<00:06,  6.14s/it]\u001b[32m [repeated 2x across cluster]\u001b[0m\n"
     ]
    },
    {
     "name": "stdout",
     "output_type": "stream",
     "text": [
      "\u001b[36m(launch_and_fit pid=1214)\u001b[0m \tTrain Epoch: 9 \tTrain_loss: 1.8555 | Train_acc: 23.7760 % | Validation_loss: 1.9124 | Validation_acc: 27.4246 %\u001b[32m [repeated 2x across cluster]\u001b[0m\n"
     ]
    },
    {
     "name": "stderr",
     "output_type": "stream",
     "text": [
      "100%|\u001b[34m██████████\u001b[0m| 10/10 [01:01<00:00,  6.16s/it]\u001b[32m [repeated 2x across cluster]\u001b[0m\n"
     ]
    },
    {
     "name": "stdout",
     "output_type": "stream",
     "text": [
      "\u001b[36m(launch_and_fit pid=1214)\u001b[0m save graph in  results/FL/\n",
      "\u001b[36m(launch_and_fit pid=1214)\u001b[0m \tTrain Epoch: 10 \tTrain_loss: 1.8593 | Train_acc: 25.3863 % | Validation_loss: 1.8510 | Validation_acc: 21.8279 %\u001b[32m [repeated 2x across cluster]\u001b[0m\n",
      "\u001b[36m(launch_and_fit pid=1289)\u001b[0m Run WITHOUT homomorphic encryption\n",
      "\u001b[36m(launch_and_fit pid=1289)\u001b[0m  To get the checkpoint\n",
      "\u001b[36m(launch_and_fit pid=1216)\u001b[0m save graph in  results/FL/\n",
      "\u001b[36m(launch_and_fit pid=1216)\u001b[0m \tTrain Epoch: 10 \tTrain_loss: 1.7936 | Train_acc: 31.0634 % | Validation_loss: 1.8505 | Validation_acc: 25.6668 %\n",
      "\u001b[36m(launch_and_fit pid=1289)\u001b[0m [Client 7, round 2] fit, config: {'learning_rate': 0.001, 'batch_size': '128', 'server_round': 2, 'local_epochs': 10}\n",
      "\u001b[36m(launch_and_fit pid=1289)\u001b[0m Updated model\n"
     ]
    },
    {
     "name": "stderr",
     "output_type": "stream",
     "text": [
      "  0%|\u001b[34m          \u001b[0m| 0/10 [00:00<?, ?it/s]\n",
      "100%|\u001b[34m██████████\u001b[0m| 10/10 [01:01<00:00,  6.17s/it]\n"
     ]
    },
    {
     "name": "stdout",
     "output_type": "stream",
     "text": [
      "\u001b[36m(launch_and_fit pid=1289)\u001b[0m \tTrain Epoch: 1 \tTrain_loss: 2.1239 | Train_acc: 15.9505 % | Validation_loss: 1.9990 | Validation_acc: 18.6692 %\n",
      "\u001b[36m(launch_and_fit pid=1309)\u001b[0m Run WITHOUT homomorphic encryption\n",
      "\u001b[36m(launch_and_fit pid=1309)\u001b[0m  To get the checkpoint\n",
      "\u001b[36m(launch_and_fit pid=1309)\u001b[0m [Client 8, round 2] fit, config: {'learning_rate': 0.001, 'batch_size': '128', 'server_round': 2, 'local_epochs': 10}\n",
      "\u001b[36m(launch_and_fit pid=1309)\u001b[0m Updated model\n"
     ]
    },
    {
     "name": "stderr",
     "output_type": "stream",
     "text": [
      " 10%|\u001b[34m█         \u001b[0m| 1/10 [00:06<00:59,  6.63s/it]\n",
      "  0%|\u001b[34m          \u001b[0m| 0/10 [00:00<?, ?it/s]\n"
     ]
    },
    {
     "name": "stdout",
     "output_type": "stream",
     "text": [
      "\u001b[36m(launch_and_fit pid=1289)\u001b[0m \tTrain Epoch: 2 \tTrain_loss: 2.0094 | Train_acc: 17.8646 % | Validation_loss: 1.9944 | Validation_acc: 18.2179 %\u001b[32m [repeated 2x across cluster]\u001b[0m\n"
     ]
    },
    {
     "name": "stderr",
     "output_type": "stream",
     "text": [
      " 20%|\u001b[34m██        \u001b[0m| 2/10 [00:12<00:49,  6.21s/it]\u001b[32m [repeated 2x across cluster]\u001b[0m\n"
     ]
    },
    {
     "name": "stdout",
     "output_type": "stream",
     "text": [
      "\u001b[36m(launch_and_fit pid=1289)\u001b[0m \tTrain Epoch: 3 \tTrain_loss: 1.9620 | Train_acc: 19.3403 % | Validation_loss: 1.9241 | Validation_acc: 21.4574 %\u001b[32m [repeated 2x across cluster]\u001b[0m\n"
     ]
    },
    {
     "name": "stderr",
     "output_type": "stream",
     "text": [
      " 30%|\u001b[34m███       \u001b[0m| 3/10 [00:18<00:42,  6.05s/it]\u001b[32m [repeated 2x across cluster]\u001b[0m\n"
     ]
    },
    {
     "name": "stdout",
     "output_type": "stream",
     "text": [
      "\u001b[36m(launch_and_fit pid=1289)\u001b[0m \tTrain Epoch: 4 \tTrain_loss: 1.9520 | Train_acc: 22.6866 % | Validation_loss: 1.9336 | Validation_acc: 23.1614 %\u001b[32m [repeated 2x across cluster]\u001b[0m\n"
     ]
    },
    {
     "name": "stderr",
     "output_type": "stream",
     "text": [
      " 40%|\u001b[34m████      \u001b[0m| 4/10 [00:24<00:35,  5.96s/it]\u001b[32m [repeated 2x across cluster]\u001b[0m\n"
     ]
    },
    {
     "name": "stdout",
     "output_type": "stream",
     "text": [
      "\u001b[36m(launch_and_fit pid=1289)\u001b[0m \tTrain Epoch: 5 \tTrain_loss: 1.9064 | Train_acc: 23.9236 % | Validation_loss: 1.9011 | Validation_acc: 19.8141 %\u001b[32m [repeated 2x across cluster]\u001b[0m\n"
     ]
    },
    {
     "name": "stderr",
     "output_type": "stream",
     "text": [
      " 50%|\u001b[34m█████     \u001b[0m| 5/10 [00:30<00:29,  5.97s/it]\u001b[32m [repeated 2x across cluster]\u001b[0m\n"
     ]
    },
    {
     "name": "stdout",
     "output_type": "stream",
     "text": [
      "\u001b[36m(launch_and_fit pid=1289)\u001b[0m \tTrain Epoch: 6 \tTrain_loss: 1.8849 | Train_acc: 24.9826 % | Validation_loss: 1.8977 | Validation_acc: 21.0264 %\u001b[32m [repeated 2x across cluster]\u001b[0m\n"
     ]
    },
    {
     "name": "stderr",
     "output_type": "stream",
     "text": [
      " 60%|\u001b[34m██████    \u001b[0m| 6/10 [00:36<00:24,  6.16s/it]\u001b[32m [repeated 2x across cluster]\u001b[0m\n"
     ]
    },
    {
     "name": "stdout",
     "output_type": "stream",
     "text": [
      "\u001b[36m(launch_and_fit pid=1289)\u001b[0m \tTrain Epoch: 7 \tTrain_loss: 1.8691 | Train_acc: 24.3056 % | Validation_loss: 1.8765 | Validation_acc: 23.9426 %\u001b[32m [repeated 2x across cluster]\u001b[0m\n"
     ]
    },
    {
     "name": "stderr",
     "output_type": "stream",
     "text": [
      " 70%|\u001b[34m███████   \u001b[0m| 7/10 [00:42<00:18,  6.11s/it]\u001b[32m [repeated 2x across cluster]\u001b[0m\n"
     ]
    },
    {
     "name": "stdout",
     "output_type": "stream",
     "text": [
      "\u001b[36m(launch_and_fit pid=1289)\u001b[0m \tTrain Epoch: 8 \tTrain_loss: 1.8600 | Train_acc: 25.8984 % | Validation_loss: 1.9012 | Validation_acc: 22.3397 %\u001b[32m [repeated 2x across cluster]\u001b[0m\n"
     ]
    },
    {
     "name": "stderr",
     "output_type": "stream",
     "text": [
      " 80%|\u001b[34m████████  \u001b[0m| 8/10 [00:48<00:12,  6.13s/it]\u001b[32m [repeated 2x across cluster]\u001b[0m\n"
     ]
    },
    {
     "name": "stdout",
     "output_type": "stream",
     "text": [
      "\u001b[36m(launch_and_fit pid=1289)\u001b[0m \tTrain Epoch: 9 \tTrain_loss: 1.8274 | Train_acc: 27.8168 % | Validation_loss: 1.8311 | Validation_acc: 23.1950 %\u001b[32m [repeated 2x across cluster]\u001b[0m\n"
     ]
    },
    {
     "name": "stderr",
     "output_type": "stream",
     "text": [
      " 90%|\u001b[34m█████████ \u001b[0m| 9/10 [00:54<00:06,  6.04s/it]\u001b[32m [repeated 2x across cluster]\u001b[0m\n"
     ]
    },
    {
     "name": "stdout",
     "output_type": "stream",
     "text": [
      "\u001b[36m(launch_and_fit pid=1289)\u001b[0m save graph in  results/FL/\n",
      "\u001b[36m(launch_and_fit pid=1289)\u001b[0m \tTrain Epoch: 10 \tTrain_loss: 1.7963 | Train_acc: 28.8802 % | Validation_loss: 1.8040 | Validation_acc: 26.4076 %\u001b[32m [repeated 2x across cluster]\u001b[0m\n"
     ]
    },
    {
     "name": "stderr",
     "output_type": "stream",
     "text": [
      "100%|\u001b[34m██████████\u001b[0m| 10/10 [01:00<00:00,  6.06s/it]\u001b[32m [repeated 2x across cluster]\u001b[0m\n"
     ]
    },
    {
     "name": "stdout",
     "output_type": "stream",
     "text": [
      "\u001b[36m(launch_and_fit pid=1362)\u001b[0m Run WITHOUT homomorphic encryption\n",
      "\u001b[36m(launch_and_fit pid=1362)\u001b[0m  To get the checkpoint\n",
      "\u001b[36m(launch_and_fit pid=1309)\u001b[0m save graph in  results/FL/\n",
      "\u001b[36m(launch_and_fit pid=1309)\u001b[0m \tTrain Epoch: 10 \tTrain_loss: 1.8249 | Train_acc: 27.8950 % | Validation_loss: 1.8732 | Validation_acc: 28.3809 %\n"
     ]
    },
    {
     "name": "stderr",
     "output_type": "stream",
     "text": [
      "  0%|\u001b[34m          \u001b[0m| 0/10 [00:00<?, ?it/s]\n",
      "100%|\u001b[34m██████████\u001b[0m| 10/10 [01:01<00:00,  6.10s/it]\n"
     ]
    },
    {
     "name": "stdout",
     "output_type": "stream",
     "text": [
      "\u001b[36m(launch_and_fit pid=1362)\u001b[0m [Client 4, round 2] fit, config: {'learning_rate': 0.001, 'batch_size': '128', 'server_round': 2, 'local_epochs': 10}\n",
      "\u001b[36m(launch_and_fit pid=1362)\u001b[0m Updated model\n"
     ]
    },
    {
     "name": "stderr",
     "output_type": "stream",
     "text": [
      " 10%|\u001b[34m█         \u001b[0m| 1/10 [00:06<00:59,  6.60s/it]\n",
      "  0%|\u001b[34m          \u001b[0m| 0/10 [00:00<?, ?it/s]\n"
     ]
    },
    {
     "name": "stdout",
     "output_type": "stream",
     "text": [
      "\u001b[36m(launch_and_fit pid=1362)\u001b[0m \tTrain Epoch: 1 \tTrain_loss: 2.1370 | Train_acc: 16.2587 % | Validation_loss: 2.0440 | Validation_acc: 16.9652 %\n",
      "\u001b[36m(launch_and_fit pid=1387)\u001b[0m Run WITHOUT homomorphic encryption\n",
      "\u001b[36m(launch_and_fit pid=1387)\u001b[0m  To get the checkpoint\n",
      "\u001b[36m(launch_and_fit pid=1387)\u001b[0m [Client 1, round 2] fit, config: {'learning_rate': 0.001, 'batch_size': '128', 'server_round': 2, 'local_epochs': 10}\n",
      "\u001b[36m(launch_and_fit pid=1387)\u001b[0m Updated model\n"
     ]
    },
    {
     "name": "stderr",
     "output_type": "stream",
     "text": [
      " 20%|\u001b[34m██        \u001b[0m| 2/10 [00:12<00:49,  6.23s/it]\u001b[32m [repeated 2x across cluster]\u001b[0m\n"
     ]
    },
    {
     "name": "stdout",
     "output_type": "stream",
     "text": [
      "\u001b[36m(launch_and_fit pid=1362)\u001b[0m \tTrain Epoch: 2 \tTrain_loss: 2.0104 | Train_acc: 18.4852 % | Validation_loss: 2.0098 | Validation_acc: 16.8103 %\u001b[32m [repeated 2x across cluster]\u001b[0m\n"
     ]
    },
    {
     "name": "stderr",
     "output_type": "stream",
     "text": [
      " 30%|\u001b[34m███       \u001b[0m| 3/10 [00:18<00:43,  6.19s/it]\u001b[32m [repeated 2x across cluster]\u001b[0m\n"
     ]
    },
    {
     "name": "stdout",
     "output_type": "stream",
     "text": [
      "\u001b[36m(launch_and_fit pid=1362)\u001b[0m \tTrain Epoch: 3 \tTrain_loss: 1.9786 | Train_acc: 18.5764 % | Validation_loss: 1.9971 | Validation_acc: 17.0663 %\u001b[32m [repeated 2x across cluster]\u001b[0m\n",
      "\u001b[36m(launch_and_fit pid=1362)\u001b[0m \tTrain Epoch: 4 \tTrain_loss: 1.9630 | Train_acc: 19.0885 % | Validation_loss: 2.0210 | Validation_acc: 16.6352 %\u001b[32m [repeated 2x across cluster]\u001b[0m\n"
     ]
    },
    {
     "name": "stderr",
     "output_type": "stream",
     "text": [
      " 40%|\u001b[34m████      \u001b[0m| 4/10 [00:25<00:37,  6.30s/it]\u001b[32m [repeated 2x across cluster]\u001b[0m\n",
      " 50%|\u001b[34m█████     \u001b[0m| 5/10 [00:31<00:30,  6.17s/it]\u001b[32m [repeated 2x across cluster]\u001b[0m\n"
     ]
    },
    {
     "name": "stdout",
     "output_type": "stream",
     "text": [
      "\u001b[36m(launch_and_fit pid=1362)\u001b[0m \tTrain Epoch: 5 \tTrain_loss: 1.9379 | Train_acc: 20.6988 % | Validation_loss: 1.9754 | Validation_acc: 18.0159 %\u001b[32m [repeated 2x across cluster]\u001b[0m\n"
     ]
    },
    {
     "name": "stderr",
     "output_type": "stream",
     "text": [
      " 60%|\u001b[34m██████    \u001b[0m| 6/10 [00:37<00:24,  6.24s/it]\u001b[32m [repeated 2x across cluster]\u001b[0m\n"
     ]
    },
    {
     "name": "stdout",
     "output_type": "stream",
     "text": [
      "\u001b[36m(launch_and_fit pid=1362)\u001b[0m \tTrain Epoch: 6 \tTrain_loss: 1.9081 | Train_acc: 20.7378 % | Validation_loss: 1.9486 | Validation_acc: 19.7400 %\u001b[32m [repeated 2x across cluster]\u001b[0m\n"
     ]
    },
    {
     "name": "stderr",
     "output_type": "stream",
     "text": [
      " 70%|\u001b[34m███████   \u001b[0m| 7/10 [00:43<00:18,  6.18s/it]\u001b[32m [repeated 2x across cluster]\u001b[0m\n"
     ]
    },
    {
     "name": "stdout",
     "output_type": "stream",
     "text": [
      "\u001b[36m(launch_and_fit pid=1362)\u001b[0m \tTrain Epoch: 7 \tTrain_loss: 1.9051 | Train_acc: 21.5017 % | Validation_loss: 1.9312 | Validation_acc: 20.9119 %\u001b[32m [repeated 2x across cluster]\u001b[0m\n"
     ]
    },
    {
     "name": "stderr",
     "output_type": "stream",
     "text": [
      " 80%|\u001b[34m████████  \u001b[0m| 8/10 [00:49<00:12,  6.11s/it]\u001b[32m [repeated 2x across cluster]\u001b[0m\n"
     ]
    },
    {
     "name": "stdout",
     "output_type": "stream",
     "text": [
      "\u001b[36m(launch_and_fit pid=1362)\u001b[0m \tTrain Epoch: 8 \tTrain_loss: 1.8926 | Train_acc: 21.4583 % | Validation_loss: 1.9462 | Validation_acc: 20.8917 %\u001b[32m [repeated 2x across cluster]\u001b[0m\n"
     ]
    },
    {
     "name": "stderr",
     "output_type": "stream",
     "text": [
      " 90%|\u001b[34m█████████ \u001b[0m| 9/10 [00:55<00:06,  6.20s/it]\u001b[32m [repeated 2x across cluster]\u001b[0m\n"
     ]
    },
    {
     "name": "stdout",
     "output_type": "stream",
     "text": [
      "\u001b[36m(launch_and_fit pid=1362)\u001b[0m \tTrain Epoch: 9 \tTrain_loss: 1.8592 | Train_acc: 24.1276 % | Validation_loss: 1.9122 | Validation_acc: 23.8820 %\u001b[32m [repeated 2x across cluster]\u001b[0m\n"
     ]
    },
    {
     "name": "stderr",
     "output_type": "stream",
     "text": [
      "100%|\u001b[34m██████████\u001b[0m| 10/10 [01:02<00:00,  6.21s/it]\u001b[32m [repeated 2x across cluster]\u001b[0m\n"
     ]
    },
    {
     "name": "stdout",
     "output_type": "stream",
     "text": [
      "\u001b[36m(launch_and_fit pid=1362)\u001b[0m save graph in  results/FL/\n",
      "\u001b[36m(launch_and_fit pid=1362)\u001b[0m \tTrain Epoch: 10 \tTrain_loss: 1.8417 | Train_acc: 26.8880 % | Validation_loss: 1.8956 | Validation_acc: 23.9628 %\u001b[32m [repeated 2x across cluster]\u001b[0m\n",
      "\u001b[36m(launch_and_fit pid=1438)\u001b[0m Run WITHOUT homomorphic encryption\n",
      "\u001b[36m(launch_and_fit pid=1438)\u001b[0m  To get the checkpoint\n",
      "\u001b[36m(launch_and_fit pid=1387)\u001b[0m save graph in  results/FL/\n",
      "\u001b[36m(launch_and_fit pid=1387)\u001b[0m \tTrain Epoch: 10 \tTrain_loss: 1.8116 | Train_acc: 28.3941 % | Validation_loss: 1.8789 | Validation_acc: 24.8855 %\n",
      "\u001b[36m(launch_and_fit pid=1438)\u001b[0m [Client 3, round 2] fit, config: {'learning_rate': 0.001, 'batch_size': '128', 'server_round': 2, 'local_epochs': 10}\n",
      "\u001b[36m(launch_and_fit pid=1438)\u001b[0m Updated model\n"
     ]
    },
    {
     "name": "stderr",
     "output_type": "stream",
     "text": [
      "  0%|\u001b[34m          \u001b[0m| 0/10 [00:00<?, ?it/s]\n",
      "100%|\u001b[34m██████████\u001b[0m| 10/10 [01:01<00:00,  6.14s/it]\n"
     ]
    },
    {
     "name": "stdout",
     "output_type": "stream",
     "text": [
      "\u001b[36m(launch_and_fit pid=1438)\u001b[0m \tTrain Epoch: 1 \tTrain_loss: 2.1269 | Train_acc: 15.4861 % | Validation_loss: 2.0492 | Validation_acc: 16.4197 %\n",
      "\u001b[36m(launch_and_fit pid=1436)\u001b[0m Run WITHOUT homomorphic encryption\n",
      "\u001b[36m(launch_and_fit pid=1436)\u001b[0m  To get the checkpoint\n",
      "\u001b[36m(launch_and_fit pid=1436)\u001b[0m [Client 2, round 2] fit, config: {'learning_rate': 0.001, 'batch_size': '128', 'server_round': 2, 'local_epochs': 10}\n",
      "\u001b[36m(launch_and_fit pid=1436)\u001b[0m Updated model\n"
     ]
    },
    {
     "name": "stderr",
     "output_type": "stream",
     "text": [
      " 10%|\u001b[34m█         \u001b[0m| 1/10 [00:06<00:57,  6.38s/it]\n",
      "  0%|\u001b[34m          \u001b[0m| 0/10 [00:00<?, ?it/s]\n"
     ]
    },
    {
     "name": "stdout",
     "output_type": "stream",
     "text": [
      "\u001b[36m(launch_and_fit pid=1438)\u001b[0m \tTrain Epoch: 2 \tTrain_loss: 2.0116 | Train_acc: 17.6085 % | Validation_loss: 2.0407 | Validation_acc: 16.4534 %\u001b[32m [repeated 2x across cluster]\u001b[0m\n"
     ]
    },
    {
     "name": "stderr",
     "output_type": "stream",
     "text": [
      " 20%|\u001b[34m██        \u001b[0m| 2/10 [00:12<00:50,  6.33s/it]\u001b[32m [repeated 2x across cluster]\u001b[0m\n"
     ]
    },
    {
     "name": "stdout",
     "output_type": "stream",
     "text": [
      "\u001b[36m(launch_and_fit pid=1438)\u001b[0m \tTrain Epoch: 3 \tTrain_loss: 1.9796 | Train_acc: 19.4271 % | Validation_loss: 1.9645 | Validation_acc: 18.2920 %\u001b[32m [repeated 2x across cluster]\u001b[0m\n"
     ]
    },
    {
     "name": "stderr",
     "output_type": "stream",
     "text": [
      " 30%|\u001b[34m███       \u001b[0m| 3/10 [00:18<00:43,  6.23s/it]\u001b[32m [repeated 2x across cluster]\u001b[0m\n"
     ]
    },
    {
     "name": "stdout",
     "output_type": "stream",
     "text": [
      "\u001b[36m(launch_and_fit pid=1436)\u001b[0m \tTrain Epoch: 4 \tTrain_loss: 1.9433 | Train_acc: 20.4123 % | Validation_loss: 2.0074 | Validation_acc: 17.6320 %\u001b[32m [repeated 2x across cluster]\u001b[0m\n"
     ]
    },
    {
     "name": "stderr",
     "output_type": "stream",
     "text": [
      " 40%|\u001b[34m████      \u001b[0m| 4/10 [00:24<00:36,  6.07s/it]\u001b[32m [repeated 2x across cluster]\u001b[0m\n"
     ]
    },
    {
     "name": "stdout",
     "output_type": "stream",
     "text": [
      "\u001b[36m(launch_and_fit pid=1436)\u001b[0m \tTrain Epoch: 5 \tTrain_loss: 1.9393 | Train_acc: 21.4497 % | Validation_loss: 1.9336 | Validation_acc: 18.7837 %\u001b[32m [repeated 2x across cluster]\u001b[0m\n"
     ]
    },
    {
     "name": "stderr",
     "output_type": "stream",
     "text": [
      " 50%|\u001b[34m█████     \u001b[0m| 5/10 [00:30<00:29,  5.98s/it]\u001b[32m [repeated 2x across cluster]\u001b[0m\n"
     ]
    },
    {
     "name": "stdout",
     "output_type": "stream",
     "text": [
      "\u001b[36m(launch_and_fit pid=1436)\u001b[0m \tTrain Epoch: 6 \tTrain_loss: 1.9029 | Train_acc: 22.0486 % | Validation_loss: 1.9327 | Validation_acc: 18.5884 %\u001b[32m [repeated 2x across cluster]\u001b[0m\n"
     ]
    },
    {
     "name": "stderr",
     "output_type": "stream",
     "text": [
      " 60%|\u001b[34m██████    \u001b[0m| 6/10 [00:36<00:24,  6.04s/it]\u001b[32m [repeated 2x across cluster]\u001b[0m\n"
     ]
    },
    {
     "name": "stdout",
     "output_type": "stream",
     "text": [
      "\u001b[36m(launch_and_fit pid=1436)\u001b[0m \tTrain Epoch: 7 \tTrain_loss: 1.8929 | Train_acc: 21.7187 % | Validation_loss: 1.9121 | Validation_acc: 20.9523 %\u001b[32m [repeated 2x across cluster]\u001b[0m\n"
     ]
    },
    {
     "name": "stderr",
     "output_type": "stream",
     "text": [
      " 70%|\u001b[34m███████   \u001b[0m| 7/10 [00:42<00:17,  5.99s/it]\u001b[32m [repeated 2x across cluster]\u001b[0m\n"
     ]
    },
    {
     "name": "stdout",
     "output_type": "stream",
     "text": [
      "\u001b[36m(launch_and_fit pid=1436)\u001b[0m \tTrain Epoch: 8 \tTrain_loss: 1.8731 | Train_acc: 24.2708 % | Validation_loss: 1.8901 | Validation_acc: 20.9927 %\u001b[32m [repeated 2x across cluster]\u001b[0m\n"
     ]
    },
    {
     "name": "stderr",
     "output_type": "stream",
     "text": [
      " 80%|\u001b[34m████████  \u001b[0m| 8/10 [00:48<00:12,  6.02s/it]\u001b[32m [repeated 2x across cluster]\u001b[0m\n"
     ]
    },
    {
     "name": "stdout",
     "output_type": "stream",
     "text": [
      "\u001b[36m(launch_and_fit pid=1436)\u001b[0m \tTrain Epoch: 9 \tTrain_loss: 1.8409 | Train_acc: 24.8958 % | Validation_loss: 1.8697 | Validation_acc: 24.2188 %\u001b[32m [repeated 2x across cluster]\u001b[0m\n"
     ]
    },
    {
     "name": "stderr",
     "output_type": "stream",
     "text": [
      " 90%|\u001b[34m█████████ \u001b[0m| 9/10 [00:54<00:06,  6.04s/it]\u001b[32m [repeated 2x across cluster]\u001b[0m\n"
     ]
    },
    {
     "name": "stdout",
     "output_type": "stream",
     "text": [
      "\u001b[36m(launch_and_fit pid=1436)\u001b[0m save graph in  results/FL/\n",
      "\u001b[36m(launch_and_fit pid=1436)\u001b[0m \tTrain Epoch: 10 \tTrain_loss: 1.8198 | Train_acc: 26.7231 % | Validation_loss: 1.9198 | Validation_acc: 25.8621 %\u001b[32m [repeated 2x across cluster]\u001b[0m\n"
     ]
    },
    {
     "name": "stderr",
     "output_type": "stream",
     "text": [
      "100%|\u001b[34m██████████\u001b[0m| 10/10 [01:00<00:00,  6.08s/it]\u001b[32m [repeated 2x across cluster]\u001b[0m\n",
      "DEBUG flwr 2024-07-20 18:30:45,617 | server.py:236 | fit_round 2 received 10 results and 0 failures\n"
     ]
    },
    {
     "name": "stdout",
     "output_type": "stream",
     "text": [
      "Saving round 2 aggregated_parameters...\n",
      "Updated model\n"
     ]
    },
    {
     "name": "stderr",
     "output_type": "stream",
     "text": [
      "INFO flwr 2024-07-20 18:30:51,511 | server.py:125 | fit progress: (2, 1.885456296462047, {'accuracy': 22.873813291139243}, 846.2002511039998)\n",
      "DEBUG flwr 2024-07-20 18:30:51,512 | server.py:173 | evaluate_round 2: strategy sampled 10 clients (out of 10)\n"
     ]
    },
    {
     "name": "stdout",
     "output_type": "stream",
     "text": [
      "Server-side evaluation loss 1.885456296462047 / accuracy 22.873813291139243\n",
      "\u001b[36m(launch_and_evaluate pid=1520)\u001b[0m Run WITHOUT homomorphic encryption\n",
      "\u001b[36m(launch_and_evaluate pid=1520)\u001b[0m  To get the checkpoint\n",
      "\u001b[36m(launch_and_fit pid=1438)\u001b[0m save graph in  results/FL/\n",
      "\u001b[36m(launch_and_fit pid=1438)\u001b[0m \tTrain Epoch: 10 \tTrain_loss: 1.8397 | Train_acc: 24.2491 % | Validation_loss: 1.8921 | Validation_acc: 20.2519 %\n",
      "\u001b[36m(launch_and_evaluate pid=1520)\u001b[0m [Client 1] evaluate, config: {}\n",
      "\u001b[36m(launch_and_evaluate pid=1520)\u001b[0m Updated model\n",
      "\u001b[36m(launch_and_evaluate pid=1590)\u001b[0m Run WITHOUT homomorphic encryption\u001b[32m [repeated 2x across cluster]\u001b[0m\n",
      "\u001b[36m(launch_and_evaluate pid=1590)\u001b[0m  To get the checkpoint\u001b[32m [repeated 2x across cluster]\u001b[0m\n",
      "\u001b[36m(launch_and_evaluate pid=1519)\u001b[0m [Client 8] evaluate, config: {}\n",
      "\u001b[36m(launch_and_evaluate pid=1519)\u001b[0m Updated model\n",
      "\u001b[36m(launch_and_evaluate pid=1590)\u001b[0m [Client 7] evaluate, config: {}\n",
      "\u001b[36m(launch_and_evaluate pid=1590)\u001b[0m Updated model\n",
      "\u001b[36m(launch_and_evaluate pid=1662)\u001b[0m Run WITHOUT homomorphic encryption\u001b[32m [repeated 2x across cluster]\u001b[0m\n",
      "\u001b[36m(launch_and_evaluate pid=1662)\u001b[0m  To get the checkpoint\u001b[32m [repeated 2x across cluster]\u001b[0m\n",
      "\u001b[36m(launch_and_evaluate pid=1592)\u001b[0m [Client 2] evaluate, config: {}\n",
      "\u001b[36m(launch_and_evaluate pid=1592)\u001b[0m Updated model\n",
      "\u001b[36m(launch_and_evaluate pid=1662)\u001b[0m [Client 9] evaluate, config: {}\n",
      "\u001b[36m(launch_and_evaluate pid=1662)\u001b[0m Updated model\n",
      "\u001b[36m(launch_and_evaluate pid=1730)\u001b[0m Run WITHOUT homomorphic encryption\u001b[32m [repeated 2x across cluster]\u001b[0m\n",
      "\u001b[36m(launch_and_evaluate pid=1730)\u001b[0m  To get the checkpoint\u001b[32m [repeated 2x across cluster]\u001b[0m\n",
      "\u001b[36m(launch_and_evaluate pid=1660)\u001b[0m [Client 6] evaluate, config: {}\n",
      "\u001b[36m(launch_and_evaluate pid=1660)\u001b[0m Updated model\n",
      "\u001b[36m(launch_and_evaluate pid=1730)\u001b[0m [Client 3] evaluate, config: {}\n",
      "\u001b[36m(launch_and_evaluate pid=1730)\u001b[0m Updated model\n",
      "\u001b[36m(launch_and_evaluate pid=1802)\u001b[0m Run WITHOUT homomorphic encryption\u001b[32m [repeated 2x across cluster]\u001b[0m\n",
      "\u001b[36m(launch_and_evaluate pid=1802)\u001b[0m  To get the checkpoint\u001b[32m [repeated 2x across cluster]\u001b[0m\n",
      "\u001b[36m(launch_and_evaluate pid=1732)\u001b[0m [Client 0] evaluate, config: {}\n",
      "\u001b[36m(launch_and_evaluate pid=1732)\u001b[0m Updated model\n",
      "\u001b[36m(launch_and_evaluate pid=1802)\u001b[0m [Client 5] evaluate, config: {}\n",
      "\u001b[36m(launch_and_evaluate pid=1802)\u001b[0m Updated model\n"
     ]
    },
    {
     "name": "stderr",
     "output_type": "stream",
     "text": [
      "DEBUG flwr 2024-07-20 18:32:10,254 | server.py:187 | evaluate_round 2 received 10 results and 0 failures\n",
      "DEBUG flwr 2024-07-20 18:32:10,255 | server.py:222 | fit_round 3: strategy sampled 10 clients (out of 10)\n"
     ]
    },
    {
     "name": "stdout",
     "output_type": "stream",
     "text": [
      "\u001b[36m(launch_and_fit pid=1880)\u001b[0m Run WITHOUT homomorphic encryption\u001b[32m [repeated 2x across cluster]\u001b[0m\n",
      "\u001b[36m(launch_and_fit pid=1880)\u001b[0m  To get the checkpoint\u001b[32m [repeated 2x across cluster]\u001b[0m\n",
      "\u001b[36m(launch_and_evaluate pid=1800)\u001b[0m [Client 4] evaluate, config: {}\n",
      "\u001b[36m(launch_and_evaluate pid=1800)\u001b[0m Updated model\n",
      "\u001b[36m(launch_and_fit pid=1880)\u001b[0m [Client 3, round 3] fit, config: {'learning_rate': 0.001, 'batch_size': '128', 'server_round': 3, 'local_epochs': 10}\n",
      "\u001b[36m(launch_and_fit pid=1880)\u001b[0m Updated model\n"
     ]
    },
    {
     "name": "stderr",
     "output_type": "stream",
     "text": [
      "  0%|\u001b[34m          \u001b[0m| 0/10 [00:00<?, ?it/s]\n",
      "100%|\u001b[34m██████████\u001b[0m| 10/10 [01:01<00:00,  6.16s/it]\n",
      " 10%|\u001b[34m█         \u001b[0m| 1/10 [00:06<01:01,  6.85s/it]\n",
      "  0%|\u001b[34m          \u001b[0m| 0/10 [00:00<?, ?it/s]\n"
     ]
    },
    {
     "name": "stdout",
     "output_type": "stream",
     "text": [
      "\u001b[36m(launch_and_fit pid=1880)\u001b[0m \tTrain Epoch: 1 \tTrain_loss: 1.8769 | Train_acc: 25.0477 % | Validation_loss: 1.8636 | Validation_acc: 24.8586 %\n",
      "\u001b[36m(launch_and_fit pid=1879)\u001b[0m Run WITHOUT homomorphic encryption\n",
      "\u001b[36m(launch_and_fit pid=1879)\u001b[0m  To get the checkpoint\n",
      "\u001b[36m(launch_and_fit pid=1879)\u001b[0m [Client 5, round 3] fit, config: {'learning_rate': 0.001, 'batch_size': '128', 'server_round': 3, 'local_epochs': 10}\n",
      "\u001b[36m(launch_and_fit pid=1879)\u001b[0m Updated model\n"
     ]
    },
    {
     "name": "stderr",
     "output_type": "stream",
     "text": [
      " 20%|\u001b[34m██        \u001b[0m| 2/10 [00:12<00:51,  6.42s/it]\u001b[32m [repeated 2x across cluster]\u001b[0m\n"
     ]
    },
    {
     "name": "stdout",
     "output_type": "stream",
     "text": [
      "\u001b[36m(launch_and_fit pid=1880)\u001b[0m \tTrain Epoch: 2 \tTrain_loss: 1.8361 | Train_acc: 27.8776 % | Validation_loss: 1.8538 | Validation_acc: 27.4784 %\u001b[32m [repeated 2x across cluster]\u001b[0m\n",
      "\u001b[36m(launch_and_fit pid=1880)\u001b[0m \tTrain Epoch: 3 \tTrain_loss: 1.8045 | Train_acc: 29.3316 % | Validation_loss: 1.8056 | Validation_acc: 27.3033 %\u001b[32m [repeated 2x across cluster]\u001b[0m\n"
     ]
    },
    {
     "name": "stderr",
     "output_type": "stream",
     "text": [
      " 30%|\u001b[34m███       \u001b[0m| 3/10 [00:18<00:42,  6.13s/it]\u001b[32m [repeated 2x across cluster]\u001b[0m\n"
     ]
    },
    {
     "name": "stdout",
     "output_type": "stream",
     "text": [
      "\u001b[36m(launch_and_fit pid=1880)\u001b[0m \tTrain Epoch: 4 \tTrain_loss: 1.7616 | Train_acc: 32.5564 % | Validation_loss: 1.8086 | Validation_acc: 28.3607 %\u001b[32m [repeated 2x across cluster]\u001b[0m\n"
     ]
    },
    {
     "name": "stderr",
     "output_type": "stream",
     "text": [
      " 40%|\u001b[34m████      \u001b[0m| 4/10 [00:24<00:36,  6.04s/it]\u001b[32m [repeated 2x across cluster]\u001b[0m\n"
     ]
    },
    {
     "name": "stdout",
     "output_type": "stream",
     "text": [
      "\u001b[36m(launch_and_fit pid=1880)\u001b[0m \tTrain Epoch: 5 \tTrain_loss: 1.7639 | Train_acc: 32.5174 % | Validation_loss: 1.7840 | Validation_acc: 28.0442 %\u001b[32m [repeated 2x across cluster]\u001b[0m\n"
     ]
    },
    {
     "name": "stderr",
     "output_type": "stream",
     "text": [
      " 50%|\u001b[34m█████     \u001b[0m| 5/10 [00:30<00:29,  5.99s/it]\u001b[32m [repeated 2x across cluster]\u001b[0m\n"
     ]
    },
    {
     "name": "stdout",
     "output_type": "stream",
     "text": [
      "\u001b[36m(launch_and_fit pid=1880)\u001b[0m \tTrain Epoch: 6 \tTrain_loss: 1.7129 | Train_acc: 32.6736 % | Validation_loss: 1.7556 | Validation_acc: 27.9701 %\u001b[32m [repeated 2x across cluster]\u001b[0m\n"
     ]
    },
    {
     "name": "stderr",
     "output_type": "stream",
     "text": [
      " 60%|\u001b[34m██████    \u001b[0m| 6/10 [00:37<00:24,  6.17s/it]\u001b[32m [repeated 2x across cluster]\u001b[0m\n"
     ]
    },
    {
     "name": "stdout",
     "output_type": "stream",
     "text": [
      "\u001b[36m(launch_and_fit pid=1880)\u001b[0m \tTrain Epoch: 7 \tTrain_loss: 1.6768 | Train_acc: 34.2448 % | Validation_loss: 1.7748 | Validation_acc: 30.3341 %\u001b[32m [repeated 2x across cluster]\u001b[0m\n"
     ]
    },
    {
     "name": "stderr",
     "output_type": "stream",
     "text": [
      " 70%|\u001b[34m███████   \u001b[0m| 7/10 [00:42<00:18,  6.03s/it]\u001b[32m [repeated 2x across cluster]\u001b[0m\n"
     ]
    },
    {
     "name": "stdout",
     "output_type": "stream",
     "text": [
      "\u001b[36m(launch_and_fit pid=1880)\u001b[0m \tTrain Epoch: 8 \tTrain_loss: 1.6663 | Train_acc: 35.3255 % | Validation_loss: 1.7666 | Validation_acc: 28.9467 %\u001b[32m [repeated 2x across cluster]\u001b[0m\n"
     ]
    },
    {
     "name": "stderr",
     "output_type": "stream",
     "text": [
      " 80%|\u001b[34m████████  \u001b[0m| 8/10 [00:48<00:11,  5.98s/it]\u001b[32m [repeated 2x across cluster]\u001b[0m\n"
     ]
    },
    {
     "name": "stdout",
     "output_type": "stream",
     "text": [
      "\u001b[36m(launch_and_fit pid=1880)\u001b[0m \tTrain Epoch: 9 \tTrain_loss: 1.6102 | Train_acc: 37.1181 % | Validation_loss: 1.7015 | Validation_acc: 27.5593 %\u001b[32m [repeated 2x across cluster]\u001b[0m\n"
     ]
    },
    {
     "name": "stderr",
     "output_type": "stream",
     "text": [
      " 90%|\u001b[34m█████████ \u001b[0m| 9/10 [00:54<00:05,  5.96s/it]\u001b[32m [repeated 2x across cluster]\u001b[0m\n"
     ]
    },
    {
     "name": "stdout",
     "output_type": "stream",
     "text": [
      "\u001b[36m(launch_and_fit pid=1880)\u001b[0m save graph in  results/FL/\n",
      "\u001b[36m(launch_and_fit pid=1880)\u001b[0m \tTrain Epoch: 10 \tTrain_loss: 1.5833 | Train_acc: 37.1701 % | Validation_loss: 1.7318 | Validation_acc: 30.6641 %\u001b[32m [repeated 2x across cluster]\u001b[0m\n"
     ]
    },
    {
     "name": "stderr",
     "output_type": "stream",
     "text": [
      "100%|\u001b[34m██████████\u001b[0m| 10/10 [01:00<00:00,  6.05s/it]\u001b[32m [repeated 2x across cluster]\u001b[0m\n"
     ]
    },
    {
     "name": "stdout",
     "output_type": "stream",
     "text": [
      "\u001b[36m(launch_and_fit pid=1954)\u001b[0m Run WITHOUT homomorphic encryption\n",
      "\u001b[36m(launch_and_fit pid=1954)\u001b[0m  To get the checkpoint\n",
      "\u001b[36m(launch_and_fit pid=1879)\u001b[0m save graph in  results/FL/\n",
      "\u001b[36m(launch_and_fit pid=1879)\u001b[0m \tTrain Epoch: 10 \tTrain_loss: 1.5741 | Train_acc: 40.3559 % | Validation_loss: 1.6831 | Validation_acc: 36.3147 %\n",
      "\u001b[36m(launch_and_fit pid=1954)\u001b[0m [Client 2, round 3] fit, config: {'learning_rate': 0.001, 'batch_size': '128', 'server_round': 3, 'local_epochs': 10}\n",
      "\u001b[36m(launch_and_fit pid=1954)\u001b[0m Updated model\n"
     ]
    },
    {
     "name": "stderr",
     "output_type": "stream",
     "text": [
      "  0%|\u001b[34m          \u001b[0m| 0/10 [00:00<?, ?it/s]\n",
      "100%|\u001b[34m██████████\u001b[0m| 10/10 [01:00<00:00,  6.08s/it]\n"
     ]
    },
    {
     "name": "stdout",
     "output_type": "stream",
     "text": [
      "\u001b[36m(launch_and_fit pid=1954)\u001b[0m \tTrain Epoch: 1 \tTrain_loss: 1.8971 | Train_acc: 23.9236 % | Validation_loss: 1.8595 | Validation_acc: 27.5997 %\n",
      "\u001b[36m(launch_and_fit pid=1956)\u001b[0m Run WITHOUT homomorphic encryption\n",
      "\u001b[36m(launch_and_fit pid=1956)\u001b[0m  To get the checkpoint\n",
      "\u001b[36m(launch_and_fit pid=1956)\u001b[0m [Client 0, round 3] fit, config: {'learning_rate': 0.001, 'batch_size': '128', 'server_round': 3, 'local_epochs': 10}\n",
      "\u001b[36m(launch_and_fit pid=1956)\u001b[0m Updated model\n"
     ]
    },
    {
     "name": "stderr",
     "output_type": "stream",
     "text": [
      " 10%|\u001b[34m█         \u001b[0m| 1/10 [00:06<01:00,  6.73s/it]\n",
      "  0%|\u001b[34m          \u001b[0m| 0/10 [00:00<?, ?it/s]\n"
     ]
    },
    {
     "name": "stdout",
     "output_type": "stream",
     "text": [
      "\u001b[36m(launch_and_fit pid=1954)\u001b[0m \tTrain Epoch: 2 \tTrain_loss: 1.8358 | Train_acc: 27.3872 % | Validation_loss: 1.8464 | Validation_acc: 31.4520 %\u001b[32m [repeated 2x across cluster]\u001b[0m\n"
     ]
    },
    {
     "name": "stderr",
     "output_type": "stream",
     "text": [
      " 20%|\u001b[34m██        \u001b[0m| 2/10 [00:12<00:50,  6.31s/it]\u001b[32m [repeated 2x across cluster]\u001b[0m\n"
     ]
    },
    {
     "name": "stdout",
     "output_type": "stream",
     "text": [
      "\u001b[36m(launch_and_fit pid=1954)\u001b[0m \tTrain Epoch: 3 \tTrain_loss: 1.8000 | Train_acc: 30.1780 % | Validation_loss: 1.8201 | Validation_acc: 32.2535 %\u001b[32m [repeated 2x across cluster]\u001b[0m\n"
     ]
    },
    {
     "name": "stderr",
     "output_type": "stream",
     "text": [
      " 30%|\u001b[34m███       \u001b[0m| 3/10 [00:18<00:43,  6.24s/it]\u001b[32m [repeated 2x across cluster]\u001b[0m\n"
     ]
    },
    {
     "name": "stdout",
     "output_type": "stream",
     "text": [
      "\u001b[36m(launch_and_fit pid=1954)\u001b[0m \tTrain Epoch: 4 \tTrain_loss: 1.7640 | Train_acc: 32.2743 % | Validation_loss: 1.8056 | Validation_acc: 29.5124 %\u001b[32m [repeated 2x across cluster]\u001b[0m\n"
     ]
    },
    {
     "name": "stderr",
     "output_type": "stream",
     "text": [
      " 40%|\u001b[34m████      \u001b[0m| 4/10 [00:25<00:37,  6.25s/it]\u001b[32m [repeated 2x across cluster]\u001b[0m\n"
     ]
    },
    {
     "name": "stdout",
     "output_type": "stream",
     "text": [
      "\u001b[36m(launch_and_fit pid=1954)\u001b[0m \tTrain Epoch: 5 \tTrain_loss: 1.7580 | Train_acc: 32.5304 % | Validation_loss: 1.7781 | Validation_acc: 33.3648 %\u001b[32m [repeated 2x across cluster]\u001b[0m\n"
     ]
    },
    {
     "name": "stderr",
     "output_type": "stream",
     "text": [
      " 50%|\u001b[34m█████     \u001b[0m| 5/10 [00:31<00:30,  6.17s/it]\u001b[32m [repeated 2x across cluster]\u001b[0m\n"
     ]
    },
    {
     "name": "stdout",
     "output_type": "stream",
     "text": [
      "\u001b[36m(launch_and_fit pid=1954)\u001b[0m \tTrain Epoch: 6 \tTrain_loss: 1.6961 | Train_acc: 35.1562 % | Validation_loss: 1.7562 | Validation_acc: 33.1492 %\u001b[32m [repeated 2x across cluster]\u001b[0m\n"
     ]
    },
    {
     "name": "stderr",
     "output_type": "stream",
     "text": [
      " 60%|\u001b[34m██████    \u001b[0m| 6/10 [00:37<00:24,  6.22s/it]\u001b[32m [repeated 2x across cluster]\u001b[0m\n"
     ]
    },
    {
     "name": "stdout",
     "output_type": "stream",
     "text": [
      "\u001b[36m(launch_and_fit pid=1954)\u001b[0m \tTrain Epoch: 7 \tTrain_loss: 1.6833 | Train_acc: 36.3932 % | Validation_loss: 1.7623 | Validation_acc: 33.6611 %\u001b[32m [repeated 2x across cluster]\u001b[0m\n"
     ]
    },
    {
     "name": "stderr",
     "output_type": "stream",
     "text": [
      " 70%|\u001b[34m███████   \u001b[0m| 7/10 [00:43<00:18,  6.09s/it]\u001b[32m [repeated 2x across cluster]\u001b[0m\n"
     ]
    },
    {
     "name": "stdout",
     "output_type": "stream",
     "text": [
      "\u001b[36m(launch_and_fit pid=1954)\u001b[0m \tTrain Epoch: 8 \tTrain_loss: 1.6606 | Train_acc: 36.0634 % | Validation_loss: 1.7224 | Validation_acc: 33.4658 %\u001b[32m [repeated 2x across cluster]\u001b[0m\n"
     ]
    },
    {
     "name": "stderr",
     "output_type": "stream",
     "text": [
      " 80%|\u001b[34m████████  \u001b[0m| 8/10 [00:49<00:12,  6.07s/it]\u001b[32m [repeated 2x across cluster]\u001b[0m\n"
     ]
    },
    {
     "name": "stdout",
     "output_type": "stream",
     "text": [
      "\u001b[36m(launch_and_fit pid=1954)\u001b[0m \tTrain Epoch: 9 \tTrain_loss: 1.6064 | Train_acc: 37.9167 % | Validation_loss: 1.6988 | Validation_acc: 36.0453 %\u001b[32m [repeated 2x across cluster]\u001b[0m\n"
     ]
    },
    {
     "name": "stderr",
     "output_type": "stream",
     "text": [
      " 90%|\u001b[34m█████████ \u001b[0m| 9/10 [00:55<00:06,  6.10s/it]\u001b[32m [repeated 2x across cluster]\u001b[0m\n"
     ]
    },
    {
     "name": "stdout",
     "output_type": "stream",
     "text": [
      "\u001b[36m(launch_and_fit pid=1954)\u001b[0m save graph in  results/FL/\n",
      "\u001b[36m(launch_and_fit pid=1954)\u001b[0m \tTrain Epoch: 10 \tTrain_loss: 1.5828 | Train_acc: 38.9410 % | Validation_loss: 1.7117 | Validation_acc: 34.0113 %\u001b[32m [repeated 2x across cluster]\u001b[0m\n"
     ]
    },
    {
     "name": "stderr",
     "output_type": "stream",
     "text": [
      "100%|\u001b[34m██████████\u001b[0m| 10/10 [01:01<00:00,  6.15s/it]\u001b[32m [repeated 2x across cluster]\u001b[0m\n"
     ]
    },
    {
     "name": "stdout",
     "output_type": "stream",
     "text": [
      "\u001b[36m(launch_and_fit pid=2028)\u001b[0m Run WITHOUT homomorphic encryption\n",
      "\u001b[36m(launch_and_fit pid=2028)\u001b[0m  To get the checkpoint\n",
      "\u001b[36m(launch_and_fit pid=1956)\u001b[0m save graph in  results/FL/\n",
      "\u001b[36m(launch_and_fit pid=1956)\u001b[0m \tTrain Epoch: 10 \tTrain_loss: 1.5796 | Train_acc: 37.5781 % | Validation_loss: 1.6927 | Validation_acc: 35.5132 %\n",
      "\u001b[36m(launch_and_fit pid=2028)\u001b[0m [Client 1, round 3] fit, config: {'learning_rate': 0.001, 'batch_size': '128', 'server_round': 3, 'local_epochs': 10}\n",
      "\u001b[36m(launch_and_fit pid=2028)\u001b[0m Updated model\n"
     ]
    },
    {
     "name": "stderr",
     "output_type": "stream",
     "text": [
      "  0%|\u001b[34m          \u001b[0m| 0/10 [00:00<?, ?it/s]\n",
      "100%|\u001b[34m██████████\u001b[0m| 10/10 [01:02<00:00,  6.21s/it]\n",
      " 10%|\u001b[34m█         \u001b[0m| 1/10 [00:06<00:59,  6.56s/it]\n",
      "  0%|\u001b[34m          \u001b[0m| 0/10 [00:00<?, ?it/s]\n"
     ]
    },
    {
     "name": "stdout",
     "output_type": "stream",
     "text": [
      "\u001b[36m(launch_and_fit pid=2028)\u001b[0m \tTrain Epoch: 1 \tTrain_loss: 1.8784 | Train_acc: 24.2622 % | Validation_loss: 1.8279 | Validation_acc: 23.7136 %\n",
      "\u001b[36m(launch_and_fit pid=2053)\u001b[0m Run WITHOUT homomorphic encryption\n",
      "\u001b[36m(launch_and_fit pid=2053)\u001b[0m  To get the checkpoint\n",
      "\u001b[36m(launch_and_fit pid=2053)\u001b[0m [Client 4, round 3] fit, config: {'learning_rate': 0.001, 'batch_size': '128', 'server_round': 3, 'local_epochs': 10}\n",
      "\u001b[36m(launch_and_fit pid=2053)\u001b[0m Updated model\n"
     ]
    },
    {
     "name": "stderr",
     "output_type": "stream",
     "text": [
      " 20%|\u001b[34m██        \u001b[0m| 2/10 [00:12<00:51,  6.47s/it]\u001b[32m [repeated 2x across cluster]\u001b[0m\n"
     ]
    },
    {
     "name": "stdout",
     "output_type": "stream",
     "text": [
      "\u001b[36m(launch_and_fit pid=2028)\u001b[0m \tTrain Epoch: 2 \tTrain_loss: 1.8420 | Train_acc: 27.0052 % | Validation_loss: 1.8223 | Validation_acc: 25.6870 %\u001b[32m [repeated 2x across cluster]\u001b[0m\n"
     ]
    },
    {
     "name": "stderr",
     "output_type": "stream",
     "text": [
      " 30%|\u001b[34m███       \u001b[0m| 3/10 [00:18<00:43,  6.18s/it]\u001b[32m [repeated 2x across cluster]\u001b[0m\n"
     ]
    },
    {
     "name": "stdout",
     "output_type": "stream",
     "text": [
      "\u001b[36m(launch_and_fit pid=2028)\u001b[0m \tTrain Epoch: 3 \tTrain_loss: 1.8086 | Train_acc: 28.7370 % | Validation_loss: 1.7917 | Validation_acc: 29.0073 %\u001b[32m [repeated 2x across cluster]\u001b[0m\n"
     ]
    },
    {
     "name": "stderr",
     "output_type": "stream",
     "text": [
      " 40%|\u001b[34m████      \u001b[0m| 4/10 [00:24<00:36,  6.08s/it]\u001b[32m [repeated 2x across cluster]\u001b[0m\n"
     ]
    },
    {
     "name": "stdout",
     "output_type": "stream",
     "text": [
      "\u001b[36m(launch_and_fit pid=2028)\u001b[0m \tTrain Epoch: 4 \tTrain_loss: 1.7720 | Train_acc: 30.6033 % | Validation_loss: 1.7986 | Validation_acc: 28.2058 %\u001b[32m [repeated 2x across cluster]\u001b[0m\n"
     ]
    },
    {
     "name": "stderr",
     "output_type": "stream",
     "text": [
      " 50%|\u001b[34m█████     \u001b[0m| 5/10 [00:30<00:29,  5.99s/it]\u001b[32m [repeated 2x across cluster]\u001b[0m\n"
     ]
    },
    {
     "name": "stdout",
     "output_type": "stream",
     "text": [
      "\u001b[36m(launch_and_fit pid=2028)\u001b[0m \tTrain Epoch: 5 \tTrain_loss: 1.7594 | Train_acc: 31.1328 % | Validation_loss: 1.7606 | Validation_acc: 30.5900 %\u001b[32m [repeated 2x across cluster]\u001b[0m\n"
     ]
    },
    {
     "name": "stderr",
     "output_type": "stream",
     "text": [
      " 60%|\u001b[34m██████    \u001b[0m| 6/10 [00:36<00:24,  6.11s/it]\u001b[32m [repeated 2x across cluster]\u001b[0m\n"
     ]
    },
    {
     "name": "stdout",
     "output_type": "stream",
     "text": [
      "\u001b[36m(launch_and_fit pid=2028)\u001b[0m \tTrain Epoch: 6 \tTrain_loss: 1.7209 | Train_acc: 33.5373 % | Validation_loss: 1.7778 | Validation_acc: 30.5496 %\u001b[32m [repeated 2x across cluster]\u001b[0m\n"
     ]
    },
    {
     "name": "stderr",
     "output_type": "stream",
     "text": [
      " 70%|\u001b[34m███████   \u001b[0m| 7/10 [00:42<00:18,  6.05s/it]\u001b[32m [repeated 2x across cluster]\u001b[0m\n"
     ]
    },
    {
     "name": "stdout",
     "output_type": "stream",
     "text": [
      "\u001b[36m(launch_and_fit pid=2028)\u001b[0m \tTrain Epoch: 7 \tTrain_loss: 1.6777 | Train_acc: 35.3559 % | Validation_loss: 1.7307 | Validation_acc: 31.8023 %\u001b[32m [repeated 2x across cluster]\u001b[0m\n"
     ]
    },
    {
     "name": "stderr",
     "output_type": "stream",
     "text": [
      " 80%|\u001b[34m████████  \u001b[0m| 8/10 [00:48<00:12,  6.06s/it]\u001b[32m [repeated 2x across cluster]\u001b[0m\n"
     ]
    },
    {
     "name": "stdout",
     "output_type": "stream",
     "text": [
      "\u001b[36m(launch_and_fit pid=2028)\u001b[0m \tTrain Epoch: 8 \tTrain_loss: 1.6560 | Train_acc: 37.0443 % | Validation_loss: 1.7155 | Validation_acc: 34.4423 %\u001b[32m [repeated 2x across cluster]\u001b[0m\n"
     ]
    },
    {
     "name": "stderr",
     "output_type": "stream",
     "text": [
      " 90%|\u001b[34m█████████ \u001b[0m| 9/10 [00:54<00:06,  6.03s/it]\u001b[32m [repeated 2x across cluster]\u001b[0m\n"
     ]
    },
    {
     "name": "stdout",
     "output_type": "stream",
     "text": [
      "\u001b[36m(launch_and_fit pid=2028)\u001b[0m \tTrain Epoch: 9 \tTrain_loss: 1.6257 | Train_acc: 37.0703 % | Validation_loss: 1.7265 | Validation_acc: 33.6207 %\u001b[32m [repeated 2x across cluster]\u001b[0m\n"
     ]
    },
    {
     "name": "stderr",
     "output_type": "stream",
     "text": [
      "100%|\u001b[34m██████████\u001b[0m| 10/10 [01:00<00:00,  6.08s/it]\u001b[32m [repeated 2x across cluster]\u001b[0m\n"
     ]
    },
    {
     "name": "stdout",
     "output_type": "stream",
     "text": [
      "\u001b[36m(launch_and_fit pid=2028)\u001b[0m save graph in  results/FL/\n",
      "\u001b[36m(launch_and_fit pid=2028)\u001b[0m \tTrain Epoch: 10 \tTrain_loss: 1.5740 | Train_acc: 40.6207 % | Validation_loss: 1.7703 | Validation_acc: 32.6239 %\u001b[32m [repeated 2x across cluster]\u001b[0m\n",
      "\u001b[36m(launch_and_fit pid=2102)\u001b[0m Run WITHOUT homomorphic encryption\n",
      "\u001b[36m(launch_and_fit pid=2102)\u001b[0m  To get the checkpoint\n",
      "\u001b[36m(launch_and_fit pid=2053)\u001b[0m save graph in  results/FL/\n",
      "\u001b[36m(launch_and_fit pid=2053)\u001b[0m \tTrain Epoch: 10 \tTrain_loss: 1.6157 | Train_acc: 37.8863 % | Validation_loss: 1.8045 | Validation_acc: 35.3987 %\n",
      "\u001b[36m(launch_and_fit pid=2102)\u001b[0m [Client 9, round 3] fit, config: {'learning_rate': 0.001, 'batch_size': '128', 'server_round': 3, 'local_epochs': 10}\n",
      "\u001b[36m(launch_and_fit pid=2102)\u001b[0m Updated model\n"
     ]
    },
    {
     "name": "stderr",
     "output_type": "stream",
     "text": [
      "  0%|\u001b[34m          \u001b[0m| 0/10 [00:00<?, ?it/s]\n",
      "100%|\u001b[34m██████████\u001b[0m| 10/10 [01:00<00:00,  6.05s/it]\n"
     ]
    },
    {
     "name": "stdout",
     "output_type": "stream",
     "text": [
      "\u001b[36m(launch_and_fit pid=2102)\u001b[0m \tTrain Epoch: 1 \tTrain_loss: 1.9104 | Train_acc: 25.1997 % | Validation_loss: 1.8602 | Validation_acc: 26.3470 %\n",
      "\u001b[36m(launch_and_fit pid=2104)\u001b[0m Run WITHOUT homomorphic encryption\n",
      "\u001b[36m(launch_and_fit pid=2104)\u001b[0m  To get the checkpoint\n",
      "\u001b[36m(launch_and_fit pid=2104)\u001b[0m [Client 7, round 3] fit, config: {'learning_rate': 0.001, 'batch_size': '128', 'server_round': 3, 'local_epochs': 10}\n",
      "\u001b[36m(launch_and_fit pid=2104)\u001b[0m Updated model\n"
     ]
    },
    {
     "name": "stderr",
     "output_type": "stream",
     "text": [
      " 10%|\u001b[34m█         \u001b[0m| 1/10 [00:06<01:00,  6.77s/it]\n",
      "  0%|\u001b[34m          \u001b[0m| 0/10 [00:00<?, ?it/s]\n"
     ]
    },
    {
     "name": "stdout",
     "output_type": "stream",
     "text": [
      "\u001b[36m(launch_and_fit pid=2102)\u001b[0m \tTrain Epoch: 2 \tTrain_loss: 1.8597 | Train_acc: 27.9427 % | Validation_loss: 1.8371 | Validation_acc: 28.3473 %\u001b[32m [repeated 2x across cluster]\u001b[0m\n"
     ]
    },
    {
     "name": "stderr",
     "output_type": "stream",
     "text": [
      " 20%|\u001b[34m██        \u001b[0m| 2/10 [00:12<00:50,  6.27s/it]\u001b[32m [repeated 2x across cluster]\u001b[0m\n"
     ]
    },
    {
     "name": "stdout",
     "output_type": "stream",
     "text": [
      "\u001b[36m(launch_and_fit pid=2102)\u001b[0m \tTrain Epoch: 3 \tTrain_loss: 1.8222 | Train_acc: 31.0243 % | Validation_loss: 1.8525 | Validation_acc: 28.2866 %\u001b[32m [repeated 2x across cluster]\u001b[0m\n"
     ]
    },
    {
     "name": "stderr",
     "output_type": "stream",
     "text": [
      " 30%|\u001b[34m███       \u001b[0m| 3/10 [00:18<00:42,  6.10s/it]\u001b[32m [repeated 2x across cluster]\u001b[0m\n"
     ]
    },
    {
     "name": "stdout",
     "output_type": "stream",
     "text": [
      "\u001b[36m(launch_and_fit pid=2102)\u001b[0m \tTrain Epoch: 4 \tTrain_loss: 1.7879 | Train_acc: 30.4774 % | Validation_loss: 1.8471 | Validation_acc: 30.7314 %\u001b[32m [repeated 2x across cluster]\u001b[0m\n"
     ]
    },
    {
     "name": "stderr",
     "output_type": "stream",
     "text": [
      " 40%|\u001b[34m████      \u001b[0m| 4/10 [00:24<00:37,  6.22s/it]\u001b[32m [repeated 2x across cluster]\u001b[0m\n"
     ]
    },
    {
     "name": "stdout",
     "output_type": "stream",
     "text": [
      "\u001b[36m(launch_and_fit pid=2102)\u001b[0m \tTrain Epoch: 5 \tTrain_loss: 1.7682 | Train_acc: 31.9792 % | Validation_loss: 1.8855 | Validation_acc: 25.9025 %\u001b[32m [repeated 2x across cluster]\u001b[0m\n"
     ]
    },
    {
     "name": "stderr",
     "output_type": "stream",
     "text": [
      " 50%|\u001b[34m█████     \u001b[0m| 5/10 [00:30<00:30,  6.12s/it]\u001b[32m [repeated 2x across cluster]\u001b[0m\n"
     ]
    },
    {
     "name": "stdout",
     "output_type": "stream",
     "text": [
      "\u001b[36m(launch_and_fit pid=2102)\u001b[0m \tTrain Epoch: 6 \tTrain_loss: 1.7681 | Train_acc: 33.1641 % | Validation_loss: 1.8087 | Validation_acc: 26.8588 %\u001b[32m [repeated 2x across cluster]\u001b[0m\n"
     ]
    },
    {
     "name": "stderr",
     "output_type": "stream",
     "text": [
      " 60%|\u001b[34m██████    \u001b[0m| 6/10 [00:37<00:24,  6.14s/it]\u001b[32m [repeated 2x across cluster]\u001b[0m\n"
     ]
    },
    {
     "name": "stdout",
     "output_type": "stream",
     "text": [
      "\u001b[36m(launch_and_fit pid=2102)\u001b[0m \tTrain Epoch: 7 \tTrain_loss: 1.7161 | Train_acc: 33.7977 % | Validation_loss: 1.7960 | Validation_acc: 29.9300 %\u001b[32m [repeated 2x across cluster]\u001b[0m\n"
     ]
    },
    {
     "name": "stderr",
     "output_type": "stream",
     "text": [
      " 70%|\u001b[34m███████   \u001b[0m| 7/10 [00:43<00:18,  6.10s/it]\u001b[32m [repeated 2x across cluster]\u001b[0m\n"
     ]
    },
    {
     "name": "stdout",
     "output_type": "stream",
     "text": [
      "\u001b[36m(launch_and_fit pid=2102)\u001b[0m \tTrain Epoch: 8 \tTrain_loss: 1.6741 | Train_acc: 35.1866 % | Validation_loss: 1.7992 | Validation_acc: 31.1018 %\u001b[32m [repeated 2x across cluster]\u001b[0m\n"
     ]
    },
    {
     "name": "stderr",
     "output_type": "stream",
     "text": [
      " 80%|\u001b[34m████████  \u001b[0m| 8/10 [00:49<00:12,  6.07s/it]\u001b[32m [repeated 2x across cluster]\u001b[0m\n"
     ]
    },
    {
     "name": "stdout",
     "output_type": "stream",
     "text": [
      "\u001b[36m(launch_and_fit pid=2102)\u001b[0m \tTrain Epoch: 9 \tTrain_loss: 1.6297 | Train_acc: 37.6823 % | Validation_loss: 1.7761 | Validation_acc: 29.9502 %\u001b[32m [repeated 2x across cluster]\u001b[0m\n"
     ]
    },
    {
     "name": "stderr",
     "output_type": "stream",
     "text": [
      " 90%|\u001b[34m█████████ \u001b[0m| 9/10 [00:55<00:06,  6.06s/it]\u001b[32m [repeated 2x across cluster]\u001b[0m\n"
     ]
    },
    {
     "name": "stdout",
     "output_type": "stream",
     "text": [
      "\u001b[36m(launch_and_fit pid=2102)\u001b[0m save graph in  results/FL/\n",
      "\u001b[36m(launch_and_fit pid=2102)\u001b[0m \tTrain Epoch: 10 \tTrain_loss: 1.5973 | Train_acc: 39.4271 % | Validation_loss: 1.7501 | Validation_acc: 32.1996 %\u001b[32m [repeated 2x across cluster]\u001b[0m\n"
     ]
    },
    {
     "name": "stderr",
     "output_type": "stream",
     "text": [
      "100%|\u001b[34m██████████\u001b[0m| 10/10 [01:01<00:00,  6.12s/it]\u001b[32m [repeated 2x across cluster]\u001b[0m\n"
     ]
    },
    {
     "name": "stdout",
     "output_type": "stream",
     "text": [
      "\u001b[36m(launch_and_fit pid=2177)\u001b[0m Run WITHOUT homomorphic encryption\n",
      "\u001b[36m(launch_and_fit pid=2177)\u001b[0m  To get the checkpoint\n",
      "\u001b[36m(launch_and_fit pid=2104)\u001b[0m save graph in  results/FL/\n",
      "\u001b[36m(launch_and_fit pid=2104)\u001b[0m \tTrain Epoch: 10 \tTrain_loss: 1.5814 | Train_acc: 40.2734 % | Validation_loss: 1.6994 | Validation_acc: 32.9337 %\n",
      "\u001b[36m(launch_and_fit pid=2177)\u001b[0m [Client 8, round 3] fit, config: {'learning_rate': 0.001, 'batch_size': '128', 'server_round': 3, 'local_epochs': 10}\n",
      "\u001b[36m(launch_and_fit pid=2177)\u001b[0m Updated model\n"
     ]
    },
    {
     "name": "stderr",
     "output_type": "stream",
     "text": [
      "  0%|\u001b[34m          \u001b[0m| 0/10 [00:00<?, ?it/s]\n",
      "100%|\u001b[34m██████████\u001b[0m| 10/10 [01:01<00:00,  6.17s/it]\n"
     ]
    },
    {
     "name": "stdout",
     "output_type": "stream",
     "text": [
      "\u001b[36m(launch_and_fit pid=2177)\u001b[0m \tTrain Epoch: 1 \tTrain_loss: 1.9328 | Train_acc: 22.7127 % | Validation_loss: 1.8711 | Validation_acc: 22.6158 %\n",
      "\u001b[36m(launch_and_fit pid=2201)\u001b[0m Run WITHOUT homomorphic encryption\n",
      "\u001b[36m(launch_and_fit pid=2201)\u001b[0m  To get the checkpoint\n",
      "\u001b[36m(launch_and_fit pid=2201)\u001b[0m [Client 6, round 3] fit, config: {'learning_rate': 0.001, 'batch_size': '128', 'server_round': 3, 'local_epochs': 10}\n",
      "\u001b[36m(launch_and_fit pid=2201)\u001b[0m Updated model\n"
     ]
    },
    {
     "name": "stderr",
     "output_type": "stream",
     "text": [
      " 10%|\u001b[34m█         \u001b[0m| 1/10 [00:06<00:58,  6.47s/it]\n",
      "  0%|\u001b[34m          \u001b[0m| 0/10 [00:00<?, ?it/s]\n"
     ]
    },
    {
     "name": "stdout",
     "output_type": "stream",
     "text": [
      "\u001b[36m(launch_and_fit pid=2177)\u001b[0m \tTrain Epoch: 2 \tTrain_loss: 1.8505 | Train_acc: 27.4306 % | Validation_loss: 1.8275 | Validation_acc: 26.3874 %\u001b[32m [repeated 2x across cluster]\u001b[0m\n"
     ]
    },
    {
     "name": "stderr",
     "output_type": "stream",
     "text": [
      " 20%|\u001b[34m██        \u001b[0m| 2/10 [00:12<00:49,  6.14s/it]\u001b[32m [repeated 2x across cluster]\u001b[0m\n"
     ]
    },
    {
     "name": "stdout",
     "output_type": "stream",
     "text": [
      "\u001b[36m(launch_and_fit pid=2177)\u001b[0m \tTrain Epoch: 3 \tTrain_loss: 1.8190 | Train_acc: 29.7266 % | Validation_loss: 1.8327 | Validation_acc: 29.1420 %\u001b[32m [repeated 2x across cluster]\u001b[0m\n"
     ]
    },
    {
     "name": "stderr",
     "output_type": "stream",
     "text": [
      " 30%|\u001b[34m███       \u001b[0m| 3/10 [00:18<00:42,  6.04s/it]\u001b[32m [repeated 2x across cluster]\u001b[0m\n"
     ]
    },
    {
     "name": "stdout",
     "output_type": "stream",
     "text": [
      "\u001b[36m(launch_and_fit pid=2177)\u001b[0m \tTrain Epoch: 4 \tTrain_loss: 1.7932 | Train_acc: 30.5642 % | Validation_loss: 1.8347 | Validation_acc: 28.9871 %\u001b[32m [repeated 2x across cluster]\u001b[0m\n"
     ]
    },
    {
     "name": "stderr",
     "output_type": "stream",
     "text": [
      " 40%|\u001b[34m████      \u001b[0m| 4/10 [00:24<00:36,  6.12s/it]\u001b[32m [repeated 2x across cluster]\u001b[0m\n"
     ]
    },
    {
     "name": "stdout",
     "output_type": "stream",
     "text": [
      "\u001b[36m(launch_and_fit pid=2177)\u001b[0m \tTrain Epoch: 5 \tTrain_loss: 1.7664 | Train_acc: 31.3976 % | Validation_loss: 1.7898 | Validation_acc: 30.2196 %\u001b[32m [repeated 2x across cluster]\u001b[0m\n"
     ]
    },
    {
     "name": "stderr",
     "output_type": "stream",
     "text": [
      " 50%|\u001b[34m█████     \u001b[0m| 5/10 [00:30<00:30,  6.05s/it]\u001b[32m [repeated 2x across cluster]\u001b[0m\n"
     ]
    },
    {
     "name": "stdout",
     "output_type": "stream",
     "text": [
      "\u001b[36m(launch_and_fit pid=2177)\u001b[0m \tTrain Epoch: 6 \tTrain_loss: 1.7268 | Train_acc: 34.2578 % | Validation_loss: 1.8017 | Validation_acc: 28.8322 %\u001b[32m [repeated 2x across cluster]\u001b[0m\n"
     ]
    },
    {
     "name": "stderr",
     "output_type": "stream",
     "text": [
      " 60%|\u001b[34m██████    \u001b[0m| 6/10 [00:36<00:24,  6.12s/it]\u001b[32m [repeated 2x across cluster]\u001b[0m\n"
     ]
    },
    {
     "name": "stdout",
     "output_type": "stream",
     "text": [
      "\u001b[36m(launch_and_fit pid=2177)\u001b[0m \tTrain Epoch: 7 \tTrain_loss: 1.7216 | Train_acc: 33.3507 % | Validation_loss: 1.7587 | Validation_acc: 33.3446 %\u001b[32m [repeated 2x across cluster]\u001b[0m\n"
     ]
    },
    {
     "name": "stderr",
     "output_type": "stream",
     "text": [
      " 70%|\u001b[34m███████   \u001b[0m| 7/10 [00:42<00:18,  6.01s/it]\u001b[32m [repeated 2x across cluster]\u001b[0m\n"
     ]
    },
    {
     "name": "stdout",
     "output_type": "stream",
     "text": [
      "\u001b[36m(launch_and_fit pid=2177)\u001b[0m \tTrain Epoch: 8 \tTrain_loss: 1.6804 | Train_acc: 36.7231 % | Validation_loss: 1.7761 | Validation_acc: 31.7619 %\u001b[32m [repeated 2x across cluster]\u001b[0m\n"
     ]
    },
    {
     "name": "stderr",
     "output_type": "stream",
     "text": [
      " 80%|\u001b[34m████████  \u001b[0m| 8/10 [00:48<00:12,  6.01s/it]\u001b[32m [repeated 2x across cluster]\u001b[0m\n"
     ]
    },
    {
     "name": "stdout",
     "output_type": "stream",
     "text": [
      "\u001b[36m(launch_and_fit pid=2177)\u001b[0m \tTrain Epoch: 9 \tTrain_loss: 1.6391 | Train_acc: 36.4627 % | Validation_loss: 1.7379 | Validation_acc: 33.2301 %\u001b[32m [repeated 2x across cluster]\u001b[0m\n"
     ]
    },
    {
     "name": "stderr",
     "output_type": "stream",
     "text": [
      " 90%|\u001b[34m█████████ \u001b[0m| 9/10 [00:54<00:06,  6.07s/it]\u001b[32m [repeated 2x across cluster]\u001b[0m\n"
     ]
    },
    {
     "name": "stdout",
     "output_type": "stream",
     "text": [
      "\u001b[36m(launch_and_fit pid=2177)\u001b[0m save graph in  results/FL/\n",
      "\u001b[36m(launch_and_fit pid=2177)\u001b[0m \tTrain Epoch: 10 \tTrain_loss: 1.6067 | Train_acc: 37.9644 % | Validation_loss: 1.7474 | Validation_acc: 31.7821 %\u001b[32m [repeated 2x across cluster]\u001b[0m\n"
     ]
    },
    {
     "name": "stderr",
     "output_type": "stream",
     "text": [
      "100%|\u001b[34m██████████\u001b[0m| 10/10 [01:00<00:00,  6.07s/it]\u001b[32m [repeated 2x across cluster]\u001b[0m\n",
      "DEBUG flwr 2024-07-20 18:38:30,461 | server.py:236 | fit_round 3 received 10 results and 0 failures\n"
     ]
    },
    {
     "name": "stdout",
     "output_type": "stream",
     "text": [
      "Saving round 3 aggregated_parameters...\n",
      "Updated model\n"
     ]
    },
    {
     "name": "stderr",
     "output_type": "stream",
     "text": [
      "INFO flwr 2024-07-20 18:38:36,392 | server.py:125 | fit progress: (3, 1.7270428168622753, {'accuracy': 34.513449367088604}, 1311.081327574)\n",
      "DEBUG flwr 2024-07-20 18:38:36,393 | server.py:173 | evaluate_round 3: strategy sampled 10 clients (out of 10)\n"
     ]
    },
    {
     "name": "stdout",
     "output_type": "stream",
     "text": [
      "Server-side evaluation loss 1.7270428168622753 / accuracy 34.513449367088604\n",
      "\u001b[36m(launch_and_evaluate pid=2259)\u001b[0m Run WITHOUT homomorphic encryption\n",
      "\u001b[36m(launch_and_evaluate pid=2259)\u001b[0m  To get the checkpoint\n",
      "\u001b[36m(launch_and_fit pid=2201)\u001b[0m save graph in  results/FL/\n",
      "\u001b[36m(launch_and_fit pid=2201)\u001b[0m \tTrain Epoch: 10 \tTrain_loss: 1.5969 | Train_acc: 39.3056 % | Validation_loss: 1.7394 | Validation_acc: 34.7724 %\n",
      "\u001b[36m(launch_and_evaluate pid=2259)\u001b[0m [Client 3] evaluate, config: {}\n",
      "\u001b[36m(launch_and_evaluate pid=2259)\u001b[0m Updated model\n",
      "\u001b[36m(launch_and_evaluate pid=2330)\u001b[0m Run WITHOUT homomorphic encryption\u001b[32m [repeated 2x across cluster]\u001b[0m\n",
      "\u001b[36m(launch_and_evaluate pid=2330)\u001b[0m  To get the checkpoint\u001b[32m [repeated 2x across cluster]\u001b[0m\n",
      "\u001b[36m(launch_and_evaluate pid=2260)\u001b[0m [Client 9] evaluate, config: {}\n",
      "\u001b[36m(launch_and_evaluate pid=2260)\u001b[0m Updated model\n",
      "\u001b[36m(launch_and_evaluate pid=2330)\u001b[0m [Client 4] evaluate, config: {}\n",
      "\u001b[36m(launch_and_evaluate pid=2330)\u001b[0m Updated model\n",
      "\u001b[36m(launch_and_evaluate pid=2401)\u001b[0m Run WITHOUT homomorphic encryption\u001b[32m [repeated 2x across cluster]\u001b[0m\n",
      "\u001b[36m(launch_and_evaluate pid=2401)\u001b[0m  To get the checkpoint\u001b[32m [repeated 2x across cluster]\u001b[0m\n",
      "\u001b[36m(launch_and_evaluate pid=2332)\u001b[0m [Client 5] evaluate, config: {}\n",
      "\u001b[36m(launch_and_evaluate pid=2332)\u001b[0m Updated model\n",
      "\u001b[36m(launch_and_evaluate pid=2401)\u001b[0m [Client 2] evaluate, config: {}\n",
      "\u001b[36m(launch_and_evaluate pid=2401)\u001b[0m Updated model\n",
      "\u001b[36m(launch_and_evaluate pid=2471)\u001b[0m Run WITHOUT homomorphic encryption\u001b[32m [repeated 2x across cluster]\u001b[0m\n",
      "\u001b[36m(launch_and_evaluate pid=2471)\u001b[0m  To get the checkpoint\u001b[32m [repeated 2x across cluster]\u001b[0m\n",
      "\u001b[36m(launch_and_evaluate pid=2403)\u001b[0m [Client 0] evaluate, config: {}\n",
      "\u001b[36m(launch_and_evaluate pid=2403)\u001b[0m Updated model\n",
      "\u001b[36m(launch_and_evaluate pid=2471)\u001b[0m [Client 7] evaluate, config: {}\n",
      "\u001b[36m(launch_and_evaluate pid=2471)\u001b[0m Updated model\n",
      "\u001b[36m(launch_and_evaluate pid=2543)\u001b[0m Run WITHOUT homomorphic encryption\u001b[32m [repeated 2x across cluster]\u001b[0m\n",
      "\u001b[36m(launch_and_evaluate pid=2543)\u001b[0m  To get the checkpoint\u001b[32m [repeated 2x across cluster]\u001b[0m\n",
      "\u001b[36m(launch_and_evaluate pid=2473)\u001b[0m [Client 8] evaluate, config: {}\n",
      "\u001b[36m(launch_and_evaluate pid=2473)\u001b[0m Updated model\n",
      "\u001b[36m(launch_and_evaluate pid=2543)\u001b[0m [Client 6] evaluate, config: {}\n",
      "\u001b[36m(launch_and_evaluate pid=2543)\u001b[0m Updated model\n"
     ]
    },
    {
     "name": "stderr",
     "output_type": "stream",
     "text": [
      "DEBUG flwr 2024-07-20 18:39:54,208 | server.py:187 | evaluate_round 3 received 10 results and 0 failures\n",
      "DEBUG flwr 2024-07-20 18:39:54,209 | server.py:222 | fit_round 4: strategy sampled 10 clients (out of 10)\n"
     ]
    },
    {
     "name": "stdout",
     "output_type": "stream",
     "text": [
      "\u001b[36m(launch_and_fit pid=2620)\u001b[0m Run WITHOUT homomorphic encryption\u001b[32m [repeated 2x across cluster]\u001b[0m\n",
      "\u001b[36m(launch_and_fit pid=2620)\u001b[0m  To get the checkpoint\u001b[32m [repeated 2x across cluster]\u001b[0m\n",
      "\u001b[36m(launch_and_evaluate pid=2541)\u001b[0m [Client 1] evaluate, config: {}\n",
      "\u001b[36m(launch_and_evaluate pid=2541)\u001b[0m Updated model\n",
      "\u001b[36m(launch_and_fit pid=2620)\u001b[0m [Client 9, round 4] fit, config: {'learning_rate': 0.001, 'batch_size': '128', 'server_round': 4, 'local_epochs': 10}\n",
      "\u001b[36m(launch_and_fit pid=2620)\u001b[0m Updated model\n"
     ]
    },
    {
     "name": "stderr",
     "output_type": "stream",
     "text": [
      "  0%|\u001b[34m          \u001b[0m| 0/10 [00:00<?, ?it/s]\n",
      "100%|\u001b[34m██████████\u001b[0m| 10/10 [01:01<00:00,  6.12s/it]\n"
     ]
    },
    {
     "name": "stdout",
     "output_type": "stream",
     "text": [
      "\u001b[36m(launch_and_fit pid=2647)\u001b[0m Run WITHOUT homomorphic encryption\n",
      "\u001b[36m(launch_and_fit pid=2647)\u001b[0m  To get the checkpoint\n",
      "\u001b[36m(launch_and_fit pid=2647)\u001b[0m [Client 8, round 4] fit, config: {'learning_rate': 0.001, 'batch_size': '128', 'server_round': 4, 'local_epochs': 10}\n",
      "\u001b[36m(launch_and_fit pid=2647)\u001b[0m Updated model\n"
     ]
    },
    {
     "name": "stderr",
     "output_type": "stream",
     "text": [
      "  0%|\u001b[34m          \u001b[0m| 0/10 [00:00<?, ?it/s]\n"
     ]
    },
    {
     "name": "stdout",
     "output_type": "stream",
     "text": [
      "\u001b[36m(launch_and_fit pid=2620)\u001b[0m \tTrain Epoch: 1 \tTrain_loss: 1.7312 | Train_acc: 33.9844 % | Validation_loss: 1.7308 | Validation_acc: 32.6105 %\n"
     ]
    },
    {
     "name": "stderr",
     "output_type": "stream",
     "text": [
      " 10%|\u001b[34m█         \u001b[0m| 1/10 [00:06<00:59,  6.61s/it]\n"
     ]
    },
    {
     "name": "stdout",
     "output_type": "stream",
     "text": [
      "\u001b[36m(launch_and_fit pid=2620)\u001b[0m \tTrain Epoch: 2 \tTrain_loss: 1.6544 | Train_acc: 36.2674 % | Validation_loss: 1.7209 | Validation_acc: 33.1156 %\n"
     ]
    },
    {
     "name": "stderr",
     "output_type": "stream",
     "text": [
      " 20%|\u001b[34m██        \u001b[0m| 2/10 [00:12<00:50,  6.29s/it]\n"
     ]
    },
    {
     "name": "stdout",
     "output_type": "stream",
     "text": [
      "\u001b[36m(launch_and_fit pid=2647)\u001b[0m \tTrain Epoch: 1 \tTrain_loss: 1.7366 | Train_acc: 33.3767 % | Validation_loss: 1.6840 | Validation_acc: 34.7185 %\n"
     ]
    },
    {
     "name": "stderr",
     "output_type": "stream",
     "text": [
      " 10%|\u001b[34m█         \u001b[0m| 1/10 [00:06<00:59,  6.62s/it]\n"
     ]
    },
    {
     "name": "stdout",
     "output_type": "stream",
     "text": [
      "\u001b[36m(launch_and_fit pid=2620)\u001b[0m \tTrain Epoch: 3 \tTrain_loss: 1.6189 | Train_acc: 37.3828 % | Validation_loss: 1.7366 | Validation_acc: 34.3279 %\n"
     ]
    },
    {
     "name": "stderr",
     "output_type": "stream",
     "text": [
      " 30%|\u001b[34m███       \u001b[0m| 3/10 [00:18<00:44,  6.30s/it]\n"
     ]
    },
    {
     "name": "stdout",
     "output_type": "stream",
     "text": [
      "\u001b[36m(launch_and_fit pid=2647)\u001b[0m \tTrain Epoch: 2 \tTrain_loss: 1.6568 | Train_acc: 36.9531 % | Validation_loss: 1.6503 | Validation_acc: 36.0048 %\n"
     ]
    },
    {
     "name": "stderr",
     "output_type": "stream",
     "text": [
      " 20%|\u001b[34m██        \u001b[0m| 2/10 [00:13<00:51,  6.49s/it]\n"
     ]
    },
    {
     "name": "stdout",
     "output_type": "stream",
     "text": [
      "\u001b[36m(launch_and_fit pid=2620)\u001b[0m \tTrain Epoch: 4 \tTrain_loss: 1.5787 | Train_acc: 39.7656 % | Validation_loss: 1.7136 | Validation_acc: 31.7484 %\n"
     ]
    },
    {
     "name": "stderr",
     "output_type": "stream",
     "text": [
      " 40%|\u001b[34m████      \u001b[0m| 4/10 [00:25<00:37,  6.22s/it]\n"
     ]
    },
    {
     "name": "stdout",
     "output_type": "stream",
     "text": [
      "\u001b[36m(launch_and_fit pid=2647)\u001b[0m \tTrain Epoch: 3 \tTrain_loss: 1.6116 | Train_acc: 37.5087 % | Validation_loss: 1.6496 | Validation_acc: 37.9782 %\n"
     ]
    },
    {
     "name": "stderr",
     "output_type": "stream",
     "text": [
      " 30%|\u001b[34m███       \u001b[0m| 3/10 [00:19<00:44,  6.34s/it]\n"
     ]
    },
    {
     "name": "stdout",
     "output_type": "stream",
     "text": [
      "\u001b[36m(launch_and_fit pid=2620)\u001b[0m \tTrain Epoch: 5 \tTrain_loss: 1.5217 | Train_acc: 41.7188 % | Validation_loss: 1.7041 | Validation_acc: 34.5030 %\n"
     ]
    },
    {
     "name": "stderr",
     "output_type": "stream",
     "text": [
      " 50%|\u001b[34m█████     \u001b[0m| 5/10 [00:30<00:30,  6.07s/it]\n"
     ]
    },
    {
     "name": "stdout",
     "output_type": "stream",
     "text": [
      "\u001b[36m(launch_and_fit pid=2647)\u001b[0m \tTrain Epoch: 4 \tTrain_loss: 1.5885 | Train_acc: 37.5955 % | Validation_loss: 1.6405 | Validation_acc: 39.0356 %\n"
     ]
    },
    {
     "name": "stderr",
     "output_type": "stream",
     "text": [
      " 40%|\u001b[34m████      \u001b[0m| 4/10 [00:25<00:36,  6.16s/it]\n"
     ]
    },
    {
     "name": "stdout",
     "output_type": "stream",
     "text": [
      "\u001b[36m(launch_and_fit pid=2620)\u001b[0m \tTrain Epoch: 6 \tTrain_loss: 1.4919 | Train_acc: 42.4740 % | Validation_loss: 1.7688 | Validation_acc: 33.4658 %\n"
     ]
    },
    {
     "name": "stderr",
     "output_type": "stream",
     "text": [
      " 60%|\u001b[34m██████    \u001b[0m| 6/10 [00:37<00:24,  6.18s/it]\n"
     ]
    },
    {
     "name": "stdout",
     "output_type": "stream",
     "text": [
      "\u001b[36m(launch_and_fit pid=2647)\u001b[0m \tTrain Epoch: 5 \tTrain_loss: 1.5123 | Train_acc: 41.6189 % | Validation_loss: 1.6368 | Validation_acc: 38.2543 %\n"
     ]
    },
    {
     "name": "stderr",
     "output_type": "stream",
     "text": [
      " 50%|\u001b[34m█████     \u001b[0m| 5/10 [00:31<00:30,  6.15s/it]\n"
     ]
    },
    {
     "name": "stdout",
     "output_type": "stream",
     "text": [
      "\u001b[36m(launch_and_fit pid=2620)\u001b[0m \tTrain Epoch: 7 \tTrain_loss: 1.4355 | Train_acc: 45.0955 % | Validation_loss: 1.6388 | Validation_acc: 34.2470 %\n"
     ]
    },
    {
     "name": "stderr",
     "output_type": "stream",
     "text": [
      " 70%|\u001b[34m███████   \u001b[0m| 7/10 [00:43<00:18,  6.14s/it]\n"
     ]
    },
    {
     "name": "stdout",
     "output_type": "stream",
     "text": [
      "\u001b[36m(launch_and_fit pid=2647)\u001b[0m \tTrain Epoch: 6 \tTrain_loss: 1.5107 | Train_acc: 41.5451 % | Validation_loss: 1.6468 | Validation_acc: 36.0048 %\n"
     ]
    },
    {
     "name": "stderr",
     "output_type": "stream",
     "text": [
      " 60%|\u001b[34m██████    \u001b[0m| 6/10 [00:37<00:24,  6.24s/it]\n"
     ]
    },
    {
     "name": "stdout",
     "output_type": "stream",
     "text": [
      "\u001b[36m(launch_and_fit pid=2620)\u001b[0m \tTrain Epoch: 8 \tTrain_loss: 1.3882 | Train_acc: 45.6727 % | Validation_loss: 1.6124 | Validation_acc: 37.0286 %\n"
     ]
    },
    {
     "name": "stderr",
     "output_type": "stream",
     "text": [
      " 80%|\u001b[34m████████  \u001b[0m| 8/10 [00:49<00:12,  6.18s/it]\n"
     ]
    },
    {
     "name": "stdout",
     "output_type": "stream",
     "text": [
      "\u001b[36m(launch_and_fit pid=2647)\u001b[0m \tTrain Epoch: 7 \tTrain_loss: 1.4659 | Train_acc: 44.3880 % | Validation_loss: 1.6288 | Validation_acc: 37.2171 %\n"
     ]
    },
    {
     "name": "stderr",
     "output_type": "stream",
     "text": [
      " 70%|\u001b[34m███████   \u001b[0m| 7/10 [00:43<00:18,  6.27s/it]\n"
     ]
    },
    {
     "name": "stdout",
     "output_type": "stream",
     "text": [
      "\u001b[36m(launch_and_fit pid=2620)\u001b[0m \tTrain Epoch: 9 \tTrain_loss: 1.3605 | Train_acc: 47.6866 % | Validation_loss: 1.6542 | Validation_acc: 33.9372 %\n"
     ]
    },
    {
     "name": "stderr",
     "output_type": "stream",
     "text": [
      " 90%|\u001b[34m█████████ \u001b[0m| 9/10 [00:55<00:06,  6.09s/it]\n"
     ]
    },
    {
     "name": "stdout",
     "output_type": "stream",
     "text": [
      "\u001b[36m(launch_and_fit pid=2647)\u001b[0m \tTrain Epoch: 8 \tTrain_loss: 1.4150 | Train_acc: 44.5964 % | Validation_loss: 1.5809 | Validation_acc: 39.3117 %\n"
     ]
    },
    {
     "name": "stderr",
     "output_type": "stream",
     "text": [
      " 80%|\u001b[34m████████  \u001b[0m| 8/10 [00:49<00:12,  6.18s/it]\n"
     ]
    },
    {
     "name": "stdout",
     "output_type": "stream",
     "text": [
      "\u001b[36m(launch_and_fit pid=2620)\u001b[0m save graph in  results/FL/\n",
      "\u001b[36m(launch_and_fit pid=2647)\u001b[0m \tTrain Epoch: 9 \tTrain_loss: 1.3738 | Train_acc: 46.1762 % | Validation_loss: 1.6132 | Validation_acc: 39.4666 %\u001b[32m [repeated 2x across cluster]\u001b[0m\n"
     ]
    },
    {
     "name": "stderr",
     "output_type": "stream",
     "text": [
      " 90%|\u001b[34m█████████ \u001b[0m| 9/10 [00:55<00:06,  6.12s/it]\u001b[32m [repeated 2x across cluster]\u001b[0m\n"
     ]
    },
    {
     "name": "stdout",
     "output_type": "stream",
     "text": [
      "\u001b[36m(launch_and_fit pid=2647)\u001b[0m save graph in  results/FL/\n",
      "\u001b[36m(launch_and_fit pid=2647)\u001b[0m \tTrain Epoch: 10 \tTrain_loss: 1.3404 | Train_acc: 47.6259 % | Validation_loss: 1.6127 | Validation_acc: 41.0897 %\n"
     ]
    },
    {
     "name": "stderr",
     "output_type": "stream",
     "text": [
      "100%|\u001b[34m██████████\u001b[0m| 10/10 [01:02<00:00,  6.24s/it]\n"
     ]
    },
    {
     "name": "stdout",
     "output_type": "stream",
     "text": [
      "\u001b[36m(launch_and_fit pid=2693)\u001b[0m Run WITHOUT homomorphic encryption\n",
      "\u001b[36m(launch_and_fit pid=2693)\u001b[0m  To get the checkpoint\n",
      "\u001b[36m(launch_and_fit pid=2693)\u001b[0m [Client 2, round 4] fit, config: {'learning_rate': 0.001, 'batch_size': '128', 'server_round': 4, 'local_epochs': 10}\n",
      "\u001b[36m(launch_and_fit pid=2693)\u001b[0m Updated model\n"
     ]
    },
    {
     "name": "stderr",
     "output_type": "stream",
     "text": [
      "  0%|\u001b[34m          \u001b[0m| 0/10 [00:00<?, ?it/s]\n"
     ]
    },
    {
     "name": "stdout",
     "output_type": "stream",
     "text": [
      "\u001b[36m(launch_and_fit pid=2721)\u001b[0m Run WITHOUT homomorphic encryption\n",
      "\u001b[36m(launch_and_fit pid=2721)\u001b[0m  To get the checkpoint\n",
      "\u001b[36m(launch_and_fit pid=2721)\u001b[0m [Client 6, round 4] fit, config: {'learning_rate': 0.001, 'batch_size': '128', 'server_round': 4, 'local_epochs': 10}\n",
      "\u001b[36m(launch_and_fit pid=2721)\u001b[0m Updated model\n",
      "\u001b[36m(launch_and_fit pid=2693)\u001b[0m \tTrain Epoch: 1 \tTrain_loss: 1.7196 | Train_acc: 33.0339 % | Validation_loss: 1.7613 | Validation_acc: 28.8524 %\n"
     ]
    },
    {
     "name": "stderr",
     "output_type": "stream",
     "text": [
      "  0%|\u001b[34m          \u001b[0m| 0/10 [00:00<?, ?it/s]\n",
      " 10%|\u001b[34m█         \u001b[0m| 1/10 [00:06<01:00,  6.67s/it]\n",
      " 20%|\u001b[34m██        \u001b[0m| 2/10 [00:12<00:50,  6.27s/it]\n"
     ]
    },
    {
     "name": "stdout",
     "output_type": "stream",
     "text": [
      "\u001b[36m(launch_and_fit pid=2693)\u001b[0m \tTrain Epoch: 2 \tTrain_loss: 1.6679 | Train_acc: 34.4141 % | Validation_loss: 1.6611 | Validation_acc: 35.6344 %\n",
      "\u001b[36m(launch_and_fit pid=2721)\u001b[0m \tTrain Epoch: 1 \tTrain_loss: 1.7351 | Train_acc: 32.2483 % | Validation_loss: 1.7270 | Validation_acc: 35.9308 %\n"
     ]
    },
    {
     "name": "stderr",
     "output_type": "stream",
     "text": [
      " 10%|\u001b[34m█         \u001b[0m| 1/10 [00:06<00:59,  6.62s/it]\n",
      " 30%|\u001b[34m███       \u001b[0m| 3/10 [00:18<00:42,  6.12s/it]\n"
     ]
    },
    {
     "name": "stdout",
     "output_type": "stream",
     "text": [
      "\u001b[36m(launch_and_fit pid=2693)\u001b[0m \tTrain Epoch: 3 \tTrain_loss: 1.5955 | Train_acc: 38.5503 % | Validation_loss: 1.6257 | Validation_acc: 33.7958 %\n",
      "\u001b[36m(launch_and_fit pid=2721)\u001b[0m \tTrain Epoch: 2 \tTrain_loss: 1.6617 | Train_acc: 36.1936 % | Validation_loss: 1.6601 | Validation_acc: 36.3955 %\n"
     ]
    },
    {
     "name": "stderr",
     "output_type": "stream",
     "text": [
      " 20%|\u001b[34m██        \u001b[0m| 2/10 [00:12<00:50,  6.35s/it]\n",
      " 40%|\u001b[34m████      \u001b[0m| 4/10 [00:24<00:36,  6.03s/it]\n"
     ]
    },
    {
     "name": "stdout",
     "output_type": "stream",
     "text": [
      "\u001b[36m(launch_and_fit pid=2693)\u001b[0m \tTrain Epoch: 4 \tTrain_loss: 1.5467 | Train_acc: 41.0200 % | Validation_loss: 1.6773 | Validation_acc: 36.7120 %\n",
      "\u001b[36m(launch_and_fit pid=2721)\u001b[0m \tTrain Epoch: 3 \tTrain_loss: 1.6068 | Train_acc: 39.1233 % | Validation_loss: 1.7065 | Validation_acc: 36.8871 %\n"
     ]
    },
    {
     "name": "stderr",
     "output_type": "stream",
     "text": [
      " 30%|\u001b[34m███       \u001b[0m| 3/10 [00:18<00:43,  6.15s/it]\n",
      " 50%|\u001b[34m█████     \u001b[0m| 5/10 [00:30<00:30,  6.05s/it]\n"
     ]
    },
    {
     "name": "stdout",
     "output_type": "stream",
     "text": [
      "\u001b[36m(launch_and_fit pid=2693)\u001b[0m \tTrain Epoch: 5 \tTrain_loss: 1.5560 | Train_acc: 40.0911 % | Validation_loss: 1.6086 | Validation_acc: 38.2139 %\n",
      "\u001b[36m(launch_and_fit pid=2721)\u001b[0m \tTrain Epoch: 4 \tTrain_loss: 1.5677 | Train_acc: 40.8984 % | Validation_loss: 1.6207 | Validation_acc: 38.1735 %\n"
     ]
    },
    {
     "name": "stderr",
     "output_type": "stream",
     "text": [
      " 40%|\u001b[34m████      \u001b[0m| 4/10 [00:24<00:36,  6.15s/it]\n",
      " 60%|\u001b[34m██████    \u001b[0m| 6/10 [00:37<00:24,  6.25s/it]\n"
     ]
    },
    {
     "name": "stdout",
     "output_type": "stream",
     "text": [
      "\u001b[36m(launch_and_fit pid=2693)\u001b[0m \tTrain Epoch: 6 \tTrain_loss: 1.4653 | Train_acc: 44.5182 % | Validation_loss: 1.5661 | Validation_acc: 37.8637 %\n",
      "\u001b[36m(launch_and_fit pid=2721)\u001b[0m \tTrain Epoch: 5 \tTrain_loss: 1.5260 | Train_acc: 42.4219 % | Validation_loss: 1.6293 | Validation_acc: 37.8435 %\n"
     ]
    },
    {
     "name": "stderr",
     "output_type": "stream",
     "text": [
      " 50%|\u001b[34m█████     \u001b[0m| 5/10 [00:31<00:31,  6.23s/it]\n",
      " 70%|\u001b[34m███████   \u001b[0m| 7/10 [00:43<00:18,  6.14s/it]\n"
     ]
    },
    {
     "name": "stdout",
     "output_type": "stream",
     "text": [
      "\u001b[36m(launch_and_fit pid=2693)\u001b[0m \tTrain Epoch: 7 \tTrain_loss: 1.4273 | Train_acc: 46.0764 % | Validation_loss: 1.5969 | Validation_acc: 39.6013 %\n",
      "\u001b[36m(launch_and_fit pid=2721)\u001b[0m \tTrain Epoch: 6 \tTrain_loss: 1.4913 | Train_acc: 42.9644 % | Validation_loss: 1.5989 | Validation_acc: 36.9208 %\n"
     ]
    },
    {
     "name": "stderr",
     "output_type": "stream",
     "text": [
      " 60%|\u001b[34m██████    \u001b[0m| 6/10 [00:37<00:25,  6.26s/it]\n"
     ]
    },
    {
     "name": "stdout",
     "output_type": "stream",
     "text": [
      "\u001b[36m(launch_and_fit pid=2721)\u001b[0m \tTrain Epoch: 7 \tTrain_loss: 1.4361 | Train_acc: 47.1745 % | Validation_loss: 1.5853 | Validation_acc: 37.4865 %\u001b[32m [repeated 2x across cluster]\u001b[0m\n"
     ]
    },
    {
     "name": "stderr",
     "output_type": "stream",
     "text": [
      " 70%|\u001b[34m███████   \u001b[0m| 7/10 [00:43<00:18,  6.19s/it]\u001b[32m [repeated 2x across cluster]\u001b[0m\n"
     ]
    },
    {
     "name": "stdout",
     "output_type": "stream",
     "text": [
      "\u001b[36m(launch_and_fit pid=2721)\u001b[0m \tTrain Epoch: 8 \tTrain_loss: 1.3946 | Train_acc: 47.8168 % | Validation_loss: 1.5774 | Validation_acc: 39.9313 %\u001b[32m [repeated 2x across cluster]\u001b[0m\n"
     ]
    },
    {
     "name": "stderr",
     "output_type": "stream",
     "text": [
      " 80%|\u001b[34m████████  \u001b[0m| 8/10 [00:49<00:12,  6.14s/it]\u001b[32m [repeated 2x across cluster]\u001b[0m\n"
     ]
    },
    {
     "name": "stdout",
     "output_type": "stream",
     "text": [
      "\u001b[36m(launch_and_fit pid=2693)\u001b[0m save graph in  results/FL/\n",
      "\u001b[36m(launch_and_fit pid=2721)\u001b[0m \tTrain Epoch: 9 \tTrain_loss: 1.3513 | Train_acc: 50.1259 % | Validation_loss: 1.5662 | Validation_acc: 40.4432 %\u001b[32m [repeated 2x across cluster]\u001b[0m\n"
     ]
    },
    {
     "name": "stderr",
     "output_type": "stream",
     "text": [
      " 90%|\u001b[34m█████████ \u001b[0m| 9/10 [00:55<00:06,  6.11s/it]\u001b[32m [repeated 2x across cluster]\u001b[0m\n"
     ]
    },
    {
     "name": "stdout",
     "output_type": "stream",
     "text": [
      "\u001b[36m(launch_and_fit pid=2721)\u001b[0m save graph in  results/FL/\n",
      "\u001b[36m(launch_and_fit pid=2721)\u001b[0m \tTrain Epoch: 10 \tTrain_loss: 1.3142 | Train_acc: 51.0373 % | Validation_loss: 1.5764 | Validation_acc: 37.8031 %\n"
     ]
    },
    {
     "name": "stderr",
     "output_type": "stream",
     "text": [
      "100%|\u001b[34m██████████\u001b[0m| 10/10 [01:02<00:00,  6.23s/it]\n"
     ]
    },
    {
     "name": "stdout",
     "output_type": "stream",
     "text": [
      "\u001b[36m(launch_and_fit pid=2767)\u001b[0m Run WITHOUT homomorphic encryption\n",
      "\u001b[36m(launch_and_fit pid=2767)\u001b[0m  To get the checkpoint\n",
      "\u001b[36m(launch_and_fit pid=2767)\u001b[0m [Client 5, round 4] fit, config: {'learning_rate': 0.001, 'batch_size': '128', 'server_round': 4, 'local_epochs': 10}\n",
      "\u001b[36m(launch_and_fit pid=2767)\u001b[0m Updated model\n"
     ]
    },
    {
     "name": "stderr",
     "output_type": "stream",
     "text": [
      "  0%|\u001b[34m          \u001b[0m| 0/10 [00:00<?, ?it/s]\n"
     ]
    },
    {
     "name": "stdout",
     "output_type": "stream",
     "text": [
      "\u001b[36m(launch_and_fit pid=2767)\u001b[0m \tTrain Epoch: 1 \tTrain_loss: 1.7438 | Train_acc: 31.8490 % | Validation_loss: 1.7275 | Validation_acc: 32.0582 %\n"
     ]
    },
    {
     "name": "stderr",
     "output_type": "stream",
     "text": [
      " 10%|\u001b[34m█         \u001b[0m| 1/10 [00:06<00:58,  6.54s/it]\n"
     ]
    },
    {
     "name": "stdout",
     "output_type": "stream",
     "text": [
      "\u001b[36m(launch_and_fit pid=2795)\u001b[0m Run WITHOUT homomorphic encryption\n",
      "\u001b[36m(launch_and_fit pid=2795)\u001b[0m  To get the checkpoint\n",
      "\u001b[36m(launch_and_fit pid=2795)\u001b[0m [Client 3, round 4] fit, config: {'learning_rate': 0.001, 'batch_size': '128', 'server_round': 4, 'local_epochs': 10}\n",
      "\u001b[36m(launch_and_fit pid=2795)\u001b[0m Updated model\n"
     ]
    },
    {
     "name": "stderr",
     "output_type": "stream",
     "text": [
      "  0%|\u001b[34m          \u001b[0m| 0/10 [00:00<?, ?it/s]\n"
     ]
    },
    {
     "name": "stdout",
     "output_type": "stream",
     "text": [
      "\u001b[36m(launch_and_fit pid=2767)\u001b[0m \tTrain Epoch: 2 \tTrain_loss: 1.6549 | Train_acc: 35.5252 % | Validation_loss: 1.7006 | Validation_acc: 35.5940 %\n"
     ]
    },
    {
     "name": "stderr",
     "output_type": "stream",
     "text": [
      " 20%|\u001b[34m██        \u001b[0m| 2/10 [00:12<00:50,  6.27s/it]\n"
     ]
    },
    {
     "name": "stdout",
     "output_type": "stream",
     "text": [
      "\u001b[36m(launch_and_fit pid=2795)\u001b[0m \tTrain Epoch: 1 \tTrain_loss: 1.7309 | Train_acc: 32.1181 % | Validation_loss: 1.6864 | Validation_acc: 32.2468 %\n"
     ]
    },
    {
     "name": "stderr",
     "output_type": "stream",
     "text": [
      " 10%|\u001b[34m█         \u001b[0m| 1/10 [00:06<00:59,  6.61s/it]\n"
     ]
    },
    {
     "name": "stdout",
     "output_type": "stream",
     "text": [
      "\u001b[36m(launch_and_fit pid=2795)\u001b[0m \tTrain Epoch: 2 \tTrain_loss: 1.6498 | Train_acc: 37.1050 % | Validation_loss: 1.6856 | Validation_acc: 28.9669 %\u001b[32m [repeated 2x across cluster]\u001b[0m\n"
     ]
    },
    {
     "name": "stderr",
     "output_type": "stream",
     "text": [
      " 20%|\u001b[34m██        \u001b[0m| 2/10 [00:12<00:49,  6.21s/it]\u001b[32m [repeated 2x across cluster]\u001b[0m\n"
     ]
    },
    {
     "name": "stdout",
     "output_type": "stream",
     "text": [
      "\u001b[36m(launch_and_fit pid=2767)\u001b[0m \tTrain Epoch: 4 \tTrain_loss: 1.5620 | Train_acc: 41.1458 % | Validation_loss: 1.6638 | Validation_acc: 35.6748 %\n"
     ]
    },
    {
     "name": "stderr",
     "output_type": "stream",
     "text": [
      " 40%|\u001b[34m████      \u001b[0m| 4/10 [00:24<00:37,  6.18s/it]\n"
     ]
    },
    {
     "name": "stdout",
     "output_type": "stream",
     "text": [
      "\u001b[36m(launch_and_fit pid=2795)\u001b[0m \tTrain Epoch: 3 \tTrain_loss: 1.5944 | Train_acc: 38.2899 % | Validation_loss: 1.6538 | Validation_acc: 33.4052 %\n"
     ]
    },
    {
     "name": "stderr",
     "output_type": "stream",
     "text": [
      " 30%|\u001b[34m███       \u001b[0m| 3/10 [00:18<00:42,  6.12s/it]\n"
     ]
    },
    {
     "name": "stdout",
     "output_type": "stream",
     "text": [
      "\u001b[36m(launch_and_fit pid=2767)\u001b[0m \tTrain Epoch: 5 \tTrain_loss: 1.5210 | Train_acc: 42.5911 % | Validation_loss: 1.7091 | Validation_acc: 36.2608 %\n"
     ]
    },
    {
     "name": "stderr",
     "output_type": "stream",
     "text": [
      " 50%|\u001b[34m█████     \u001b[0m| 5/10 [00:31<00:31,  6.21s/it]\n"
     ]
    },
    {
     "name": "stdout",
     "output_type": "stream",
     "text": [
      "\u001b[36m(launch_and_fit pid=2795)\u001b[0m \tTrain Epoch: 4 \tTrain_loss: 1.5524 | Train_acc: 39.8611 % | Validation_loss: 1.6917 | Validation_acc: 32.9943 %\n"
     ]
    },
    {
     "name": "stderr",
     "output_type": "stream",
     "text": [
      " 40%|\u001b[34m████      \u001b[0m| 4/10 [00:24<00:36,  6.02s/it]\n"
     ]
    },
    {
     "name": "stdout",
     "output_type": "stream",
     "text": [
      "\u001b[36m(launch_and_fit pid=2767)\u001b[0m \tTrain Epoch: 6 \tTrain_loss: 1.5310 | Train_acc: 41.4931 % | Validation_loss: 1.6655 | Validation_acc: 36.6514 %\n",
      "\u001b[36m(launch_and_fit pid=2795)\u001b[0m \tTrain Epoch: 5 \tTrain_loss: 1.5300 | Train_acc: 40.1302 % | Validation_loss: 1.6739 | Validation_acc: 33.0280 %\n"
     ]
    },
    {
     "name": "stderr",
     "output_type": "stream",
     "text": [
      " 60%|\u001b[34m██████    \u001b[0m| 6/10 [00:37<00:25,  6.27s/it]\n",
      " 50%|\u001b[34m█████     \u001b[0m| 5/10 [00:30<00:29,  5.98s/it]\n"
     ]
    },
    {
     "name": "stdout",
     "output_type": "stream",
     "text": [
      "\u001b[36m(launch_and_fit pid=2767)\u001b[0m \tTrain Epoch: 7 \tTrain_loss: 1.4658 | Train_acc: 43.8411 % | Validation_loss: 1.6383 | Validation_acc: 35.4189 %\n"
     ]
    },
    {
     "name": "stderr",
     "output_type": "stream",
     "text": [
      " 70%|\u001b[34m███████   \u001b[0m| 7/10 [00:43<00:18,  6.16s/it]\n"
     ]
    },
    {
     "name": "stdout",
     "output_type": "stream",
     "text": [
      "\u001b[36m(launch_and_fit pid=2795)\u001b[0m \tTrain Epoch: 6 \tTrain_loss: 1.4825 | Train_acc: 42.3307 % | Validation_loss: 1.6223 | Validation_acc: 33.9305 %\n"
     ]
    },
    {
     "name": "stderr",
     "output_type": "stream",
     "text": [
      " 60%|\u001b[34m██████    \u001b[0m| 6/10 [00:36<00:24,  6.06s/it]\n"
     ]
    },
    {
     "name": "stdout",
     "output_type": "stream",
     "text": [
      "\u001b[36m(launch_and_fit pid=2767)\u001b[0m \tTrain Epoch: 8 \tTrain_loss: 1.4083 | Train_acc: 46.8576 % | Validation_loss: 1.6142 | Validation_acc: 37.2777 %\n"
     ]
    },
    {
     "name": "stderr",
     "output_type": "stream",
     "text": [
      " 80%|\u001b[34m████████  \u001b[0m| 8/10 [00:49<00:12,  6.10s/it]\n"
     ]
    },
    {
     "name": "stdout",
     "output_type": "stream",
     "text": [
      "\u001b[36m(launch_and_fit pid=2795)\u001b[0m \tTrain Epoch: 7 \tTrain_loss: 1.4271 | Train_acc: 44.3273 % | Validation_loss: 1.6456 | Validation_acc: 36.3349 %\n"
     ]
    },
    {
     "name": "stderr",
     "output_type": "stream",
     "text": [
      " 70%|\u001b[34m███████   \u001b[0m| 7/10 [00:42<00:18,  6.04s/it]\n"
     ]
    },
    {
     "name": "stdout",
     "output_type": "stream",
     "text": [
      "\u001b[36m(launch_and_fit pid=2767)\u001b[0m \tTrain Epoch: 9 \tTrain_loss: 1.3595 | Train_acc: 48.9106 % | Validation_loss: 1.5665 | Validation_acc: 38.9547 %\n"
     ]
    },
    {
     "name": "stderr",
     "output_type": "stream",
     "text": [
      " 90%|\u001b[34m█████████ \u001b[0m| 9/10 [00:55<00:06,  6.11s/it]\n"
     ]
    },
    {
     "name": "stdout",
     "output_type": "stream",
     "text": [
      "\u001b[36m(launch_and_fit pid=2795)\u001b[0m \tTrain Epoch: 8 \tTrain_loss: 1.3876 | Train_acc: 46.2370 % | Validation_loss: 1.6624 | Validation_acc: 34.0652 %\n"
     ]
    },
    {
     "name": "stderr",
     "output_type": "stream",
     "text": [
      " 80%|\u001b[34m████████  \u001b[0m| 8/10 [00:48<00:12,  6.07s/it]\n"
     ]
    },
    {
     "name": "stdout",
     "output_type": "stream",
     "text": [
      "\u001b[36m(launch_and_fit pid=2767)\u001b[0m save graph in  results/FL/\n",
      "\u001b[36m(launch_and_fit pid=2767)\u001b[0m \tTrain Epoch: 10 \tTrain_loss: 1.3248 | Train_acc: 50.1953 % | Validation_loss: 1.5455 | Validation_acc: 40.9887 %\n"
     ]
    },
    {
     "name": "stderr",
     "output_type": "stream",
     "text": [
      "100%|\u001b[34m██████████\u001b[0m| 10/10 [01:01<00:00,  6.17s/it]\n"
     ]
    },
    {
     "name": "stdout",
     "output_type": "stream",
     "text": [
      "\u001b[36m(launch_and_fit pid=2795)\u001b[0m \tTrain Epoch: 9 \tTrain_loss: 1.3497 | Train_acc: 47.5391 % | Validation_loss: 1.5780 | Validation_acc: 38.9143 %\n"
     ]
    },
    {
     "name": "stderr",
     "output_type": "stream",
     "text": [
      " 90%|\u001b[34m█████████ \u001b[0m| 9/10 [00:54<00:06,  6.08s/it]\n"
     ]
    },
    {
     "name": "stdout",
     "output_type": "stream",
     "text": [
      "\u001b[36m(launch_and_fit pid=2795)\u001b[0m \tTrain Epoch: 10 \tTrain_loss: 1.3184 | Train_acc: 49.5443 % | Validation_loss: 1.6300 | Validation_acc: 37.2912 %\n",
      "\u001b[36m(launch_and_fit pid=2795)\u001b[0m save graph in  results/FL/\n"
     ]
    },
    {
     "name": "stderr",
     "output_type": "stream",
     "text": [
      "100%|\u001b[34m██████████\u001b[0m| 10/10 [01:01<00:00,  6.12s/it]\n"
     ]
    },
    {
     "name": "stdout",
     "output_type": "stream",
     "text": [
      "\u001b[36m(launch_and_fit pid=2841)\u001b[0m Run WITHOUT homomorphic encryption\n",
      "\u001b[36m(launch_and_fit pid=2841)\u001b[0m  To get the checkpoint\n"
     ]
    },
    {
     "name": "stderr",
     "output_type": "stream",
     "text": [
      "  0%|\u001b[34m          \u001b[0m| 0/10 [00:00<?, ?it/s]\n"
     ]
    },
    {
     "name": "stdout",
     "output_type": "stream",
     "text": [
      "\u001b[36m(launch_and_fit pid=2841)\u001b[0m [Client 4, round 4] fit, config: {'learning_rate': 0.001, 'batch_size': '128', 'server_round': 4, 'local_epochs': 10}\n",
      "\u001b[36m(launch_and_fit pid=2841)\u001b[0m Updated model\n",
      "\u001b[36m(launch_and_fit pid=2869)\u001b[0m Run WITHOUT homomorphic encryption\n",
      "\u001b[36m(launch_and_fit pid=2869)\u001b[0m  To get the checkpoint\n"
     ]
    },
    {
     "name": "stderr",
     "output_type": "stream",
     "text": [
      "  0%|\u001b[34m          \u001b[0m| 0/10 [00:00<?, ?it/s]\n"
     ]
    },
    {
     "name": "stdout",
     "output_type": "stream",
     "text": [
      "\u001b[36m(launch_and_fit pid=2869)\u001b[0m [Client 0, round 4] fit, config: {'learning_rate': 0.001, 'batch_size': '128', 'server_round': 4, 'local_epochs': 10}\n",
      "\u001b[36m(launch_and_fit pid=2869)\u001b[0m Updated model\n"
     ]
    },
    {
     "name": "stderr",
     "output_type": "stream",
     "text": [
      " 10%|\u001b[34m█         \u001b[0m| 1/10 [00:06<00:57,  6.41s/it]\n"
     ]
    },
    {
     "name": "stdout",
     "output_type": "stream",
     "text": [
      "\u001b[36m(launch_and_fit pid=2841)\u001b[0m \tTrain Epoch: 1 \tTrain_loss: 1.7465 | Train_acc: 31.9618 % | Validation_loss: 1.7350 | Validation_acc: 32.5431 %\n"
     ]
    },
    {
     "name": "stderr",
     "output_type": "stream",
     "text": [
      " 10%|\u001b[34m█         \u001b[0m| 1/10 [00:06<00:58,  6.51s/it]\n",
      " 20%|\u001b[34m██        \u001b[0m| 2/10 [00:12<00:49,  6.17s/it]\n"
     ]
    },
    {
     "name": "stdout",
     "output_type": "stream",
     "text": [
      "\u001b[36m(launch_and_fit pid=2869)\u001b[0m \tTrain Epoch: 1 \tTrain_loss: 1.7204 | Train_acc: 32.4653 % | Validation_loss: 1.7149 | Validation_acc: 31.5261 %\n",
      "\u001b[36m(launch_and_fit pid=2841)\u001b[0m \tTrain Epoch: 2 \tTrain_loss: 1.6688 | Train_acc: 35.6120 % | Validation_loss: 1.7330 | Validation_acc: 35.4391 %\n"
     ]
    },
    {
     "name": "stderr",
     "output_type": "stream",
     "text": [
      " 20%|\u001b[34m██        \u001b[0m| 2/10 [00:13<00:52,  6.55s/it]\n"
     ]
    },
    {
     "name": "stdout",
     "output_type": "stream",
     "text": [
      "\u001b[36m(launch_and_fit pid=2869)\u001b[0m \tTrain Epoch: 2 \tTrain_loss: 1.6404 | Train_acc: 35.1736 % | Validation_loss: 1.6516 | Validation_acc: 38.0186 %\n"
     ]
    },
    {
     "name": "stderr",
     "output_type": "stream",
     "text": [
      " 30%|\u001b[34m███       \u001b[0m| 3/10 [00:19<00:44,  6.38s/it]\n"
     ]
    },
    {
     "name": "stdout",
     "output_type": "stream",
     "text": [
      "\u001b[36m(launch_and_fit pid=2841)\u001b[0m \tTrain Epoch: 3 \tTrain_loss: 1.6309 | Train_acc: 35.8550 % | Validation_loss: 1.6913 | Validation_acc: 37.1026 %\n"
     ]
    },
    {
     "name": "stderr",
     "output_type": "stream",
     "text": [
      " 30%|\u001b[34m███       \u001b[0m| 3/10 [00:19<00:44,  6.32s/it]\n"
     ]
    },
    {
     "name": "stdout",
     "output_type": "stream",
     "text": [
      "\u001b[36m(launch_and_fit pid=2869)\u001b[0m \tTrain Epoch: 3 \tTrain_loss: 1.6017 | Train_acc: 37.6172 % | Validation_loss: 1.6247 | Validation_acc: 36.9410 %\n"
     ]
    },
    {
     "name": "stderr",
     "output_type": "stream",
     "text": [
      " 40%|\u001b[34m████      \u001b[0m| 4/10 [00:25<00:37,  6.32s/it]\n"
     ]
    },
    {
     "name": "stdout",
     "output_type": "stream",
     "text": [
      "\u001b[36m(launch_and_fit pid=2841)\u001b[0m \tTrain Epoch: 4 \tTrain_loss: 1.5588 | Train_acc: 39.1927 % | Validation_loss: 1.6854 | Validation_acc: 35.0687 %\n"
     ]
    },
    {
     "name": "stderr",
     "output_type": "stream",
     "text": [
      " 40%|\u001b[34m████      \u001b[0m| 4/10 [00:25<00:37,  6.24s/it]\n"
     ]
    },
    {
     "name": "stdout",
     "output_type": "stream",
     "text": [
      "\u001b[36m(launch_and_fit pid=2869)\u001b[0m \tTrain Epoch: 4 \tTrain_loss: 1.5831 | Train_acc: 37.5911 % | Validation_loss: 1.5783 | Validation_acc: 40.6789 %\n"
     ]
    },
    {
     "name": "stderr",
     "output_type": "stream",
     "text": [
      " 50%|\u001b[34m█████     \u001b[0m| 5/10 [00:31<00:31,  6.25s/it]\n"
     ]
    },
    {
     "name": "stdout",
     "output_type": "stream",
     "text": [
      "\u001b[36m(launch_and_fit pid=2841)\u001b[0m \tTrain Epoch: 5 \tTrain_loss: 1.5341 | Train_acc: 40.1215 % | Validation_loss: 1.7008 | Validation_acc: 37.1767 %\n",
      "\u001b[36m(launch_and_fit pid=2869)\u001b[0m \tTrain Epoch: 5 \tTrain_loss: 1.5001 | Train_acc: 40.8898 % | Validation_loss: 1.5971 | Validation_acc: 39.8909 %\n"
     ]
    },
    {
     "name": "stderr",
     "output_type": "stream",
     "text": [
      " 50%|\u001b[34m█████     \u001b[0m| 5/10 [00:31<00:30,  6.13s/it]\n",
      " 60%|\u001b[34m██████    \u001b[0m| 6/10 [00:37<00:24,  6.22s/it]\n"
     ]
    },
    {
     "name": "stdout",
     "output_type": "stream",
     "text": [
      "\u001b[36m(launch_and_fit pid=2841)\u001b[0m \tTrain Epoch: 6 \tTrain_loss: 1.4929 | Train_acc: 42.2656 % | Validation_loss: 1.6614 | Validation_acc: 39.4262 %\n"
     ]
    },
    {
     "name": "stderr",
     "output_type": "stream",
     "text": [
      " 60%|\u001b[34m██████    \u001b[0m| 6/10 [00:37<00:24,  6.24s/it]\n"
     ]
    },
    {
     "name": "stdout",
     "output_type": "stream",
     "text": [
      "\u001b[36m(launch_and_fit pid=2869)\u001b[0m \tTrain Epoch: 6 \tTrain_loss: 1.4642 | Train_acc: 41.6059 % | Validation_loss: 1.5681 | Validation_acc: 40.2411 %\n"
     ]
    },
    {
     "name": "stderr",
     "output_type": "stream",
     "text": [
      " 70%|\u001b[34m███████   \u001b[0m| 7/10 [00:43<00:18,  6.19s/it]\n"
     ]
    },
    {
     "name": "stdout",
     "output_type": "stream",
     "text": [
      "\u001b[36m(launch_and_fit pid=2841)\u001b[0m \tTrain Epoch: 7 \tTrain_loss: 1.4364 | Train_acc: 45.2691 % | Validation_loss: 1.6485 | Validation_acc: 39.7764 %\n"
     ]
    },
    {
     "name": "stderr",
     "output_type": "stream",
     "text": [
      " 70%|\u001b[34m███████   \u001b[0m| 7/10 [00:44<00:19,  6.34s/it]\n",
      " 80%|\u001b[34m████████  \u001b[0m| 8/10 [00:49<00:12,  6.23s/it]\n"
     ]
    },
    {
     "name": "stdout",
     "output_type": "stream",
     "text": [
      "\u001b[36m(launch_and_fit pid=2869)\u001b[0m \tTrain Epoch: 7 \tTrain_loss: 1.4393 | Train_acc: 41.9141 % | Validation_loss: 1.5515 | Validation_acc: 44.0396 %\n",
      "\u001b[36m(launch_and_fit pid=2841)\u001b[0m \tTrain Epoch: 8 \tTrain_loss: 1.4112 | Train_acc: 45.5859 % | Validation_loss: 1.6709 | Validation_acc: 36.8265 %\n"
     ]
    },
    {
     "name": "stderr",
     "output_type": "stream",
     "text": [
      " 90%|\u001b[34m█████████ \u001b[0m| 9/10 [00:56<00:06,  6.19s/it]\n",
      " 80%|\u001b[34m████████  \u001b[0m| 8/10 [00:50<00:12,  6.28s/it]\n"
     ]
    },
    {
     "name": "stdout",
     "output_type": "stream",
     "text": [
      "\u001b[36m(launch_and_fit pid=2841)\u001b[0m \tTrain Epoch: 9 \tTrain_loss: 1.3598 | Train_acc: 47.5477 % | Validation_loss: 1.6561 | Validation_acc: 38.0590 %\n",
      "\u001b[36m(launch_and_fit pid=2869)\u001b[0m \tTrain Epoch: 8 \tTrain_loss: 1.3774 | Train_acc: 45.1823 % | Validation_loss: 1.5336 | Validation_acc: 43.2786 %\n"
     ]
    },
    {
     "name": "stderr",
     "output_type": "stream",
     "text": [
      "100%|\u001b[34m██████████\u001b[0m| 10/10 [01:02<00:00,  6.22s/it]\n",
      " 90%|\u001b[34m█████████ \u001b[0m| 9/10 [00:56<00:06,  6.22s/it]\n"
     ]
    },
    {
     "name": "stdout",
     "output_type": "stream",
     "text": [
      "\u001b[36m(launch_and_fit pid=2841)\u001b[0m save graph in  results/FL/\n",
      "\u001b[36m(launch_and_fit pid=2841)\u001b[0m \tTrain Epoch: 10 \tTrain_loss: 1.3289 | Train_acc: 49.1406 % | Validation_loss: 1.6648 | Validation_acc: 36.8063 %\n",
      "\u001b[36m(launch_and_fit pid=2869)\u001b[0m \tTrain Epoch: 9 \tTrain_loss: 1.3334 | Train_acc: 47.5825 % | Validation_loss: 1.5285 | Validation_acc: 42.0999 %\n"
     ]
    },
    {
     "name": "stderr",
     "output_type": "stream",
     "text": [
      "100%|\u001b[34m██████████\u001b[0m| 10/10 [01:02<00:00,  6.28s/it]\n"
     ]
    },
    {
     "name": "stdout",
     "output_type": "stream",
     "text": [
      "\u001b[36m(launch_and_fit pid=2869)\u001b[0m \tTrain Epoch: 10 \tTrain_loss: 1.3073 | Train_acc: 47.7474 % | Validation_loss: 1.5306 | Validation_acc: 43.1775 %\n",
      "\u001b[36m(launch_and_fit pid=2869)\u001b[0m save graph in  results/FL/\n",
      "\u001b[36m(launch_and_fit pid=2915)\u001b[0m Run WITHOUT homomorphic encryption\n",
      "\u001b[36m(launch_and_fit pid=2915)\u001b[0m  To get the checkpoint\n",
      "\u001b[36m(launch_and_fit pid=2915)\u001b[0m [Client 1, round 4] fit, config: {'learning_rate': 0.001, 'batch_size': '128', 'server_round': 4, 'local_epochs': 10}\n",
      "\u001b[36m(launch_and_fit pid=2915)\u001b[0m Updated model\n"
     ]
    },
    {
     "name": "stderr",
     "output_type": "stream",
     "text": [
      "  0%|\u001b[34m          \u001b[0m| 0/10 [00:00<?, ?it/s]\n"
     ]
    },
    {
     "name": "stdout",
     "output_type": "stream",
     "text": [
      "\u001b[36m(launch_and_fit pid=2942)\u001b[0m Run WITHOUT homomorphic encryption\n",
      "\u001b[36m(launch_and_fit pid=2942)\u001b[0m  To get the checkpoint\n"
     ]
    },
    {
     "name": "stderr",
     "output_type": "stream",
     "text": [
      "  0%|\u001b[34m          \u001b[0m| 0/10 [00:00<?, ?it/s]\n"
     ]
    },
    {
     "name": "stdout",
     "output_type": "stream",
     "text": [
      "\u001b[36m(launch_and_fit pid=2942)\u001b[0m [Client 7, round 4] fit, config: {'learning_rate': 0.001, 'batch_size': '128', 'server_round': 4, 'local_epochs': 10}\n",
      "\u001b[36m(launch_and_fit pid=2942)\u001b[0m Updated model\n",
      "\u001b[36m(launch_and_fit pid=2915)\u001b[0m \tTrain Epoch: 1 \tTrain_loss: 1.7221 | Train_acc: 32.8906 % | Validation_loss: 1.6965 | Validation_acc: 37.1969 %\n"
     ]
    },
    {
     "name": "stderr",
     "output_type": "stream",
     "text": [
      " 10%|\u001b[34m█         \u001b[0m| 1/10 [00:06<00:59,  6.62s/it]\n",
      " 10%|\u001b[34m█         \u001b[0m| 1/10 [00:06<00:57,  6.42s/it]\n"
     ]
    },
    {
     "name": "stdout",
     "output_type": "stream",
     "text": [
      "\u001b[36m(launch_and_fit pid=2942)\u001b[0m \tTrain Epoch: 1 \tTrain_loss: 1.7041 | Train_acc: 34.4965 % | Validation_loss: 1.6785 | Validation_acc: 33.1695 %\n",
      "\u001b[36m(launch_and_fit pid=2915)\u001b[0m \tTrain Epoch: 2 \tTrain_loss: 1.6523 | Train_acc: 35.6554 % | Validation_loss: 1.6496 | Validation_acc: 35.3583 %\n"
     ]
    },
    {
     "name": "stderr",
     "output_type": "stream",
     "text": [
      " 20%|\u001b[34m██        \u001b[0m| 2/10 [00:12<00:49,  6.15s/it]\n",
      " 20%|\u001b[34m██        \u001b[0m| 2/10 [00:12<00:49,  6.16s/it]\n"
     ]
    },
    {
     "name": "stdout",
     "output_type": "stream",
     "text": [
      "\u001b[36m(launch_and_fit pid=2942)\u001b[0m \tTrain Epoch: 2 \tTrain_loss: 1.6361 | Train_acc: 37.3003 % | Validation_loss: 1.6422 | Validation_acc: 34.9677 %\n",
      "\u001b[36m(launch_and_fit pid=2915)\u001b[0m \tTrain Epoch: 3 \tTrain_loss: 1.6061 | Train_acc: 37.7257 % | Validation_loss: 1.6577 | Validation_acc: 35.7893 %\n"
     ]
    },
    {
     "name": "stderr",
     "output_type": "stream",
     "text": [
      " 30%|\u001b[34m███       \u001b[0m| 3/10 [00:18<00:42,  6.05s/it]\n",
      " 30%|\u001b[34m███       \u001b[0m| 3/10 [00:18<00:42,  6.09s/it]\n"
     ]
    },
    {
     "name": "stdout",
     "output_type": "stream",
     "text": [
      "\u001b[36m(launch_and_fit pid=2942)\u001b[0m \tTrain Epoch: 3 \tTrain_loss: 1.5914 | Train_acc: 39.8351 % | Validation_loss: 1.5900 | Validation_acc: 37.8974 %\n",
      "\u001b[36m(launch_and_fit pid=2915)\u001b[0m \tTrain Epoch: 4 \tTrain_loss: 1.5585 | Train_acc: 40.9462 % | Validation_loss: 1.6093 | Validation_acc: 37.1228 %\n"
     ]
    },
    {
     "name": "stderr",
     "output_type": "stream",
     "text": [
      " 40%|\u001b[34m████      \u001b[0m| 4/10 [00:24<00:36,  6.06s/it]\n",
      " 40%|\u001b[34m████      \u001b[0m| 4/10 [00:24<00:36,  6.03s/it]\n"
     ]
    },
    {
     "name": "stdout",
     "output_type": "stream",
     "text": [
      "\u001b[36m(launch_and_fit pid=2942)\u001b[0m \tTrain Epoch: 4 \tTrain_loss: 1.5687 | Train_acc: 39.8134 % | Validation_loss: 1.6078 | Validation_acc: 38.2072 %\n",
      "\u001b[36m(launch_and_fit pid=2915)\u001b[0m \tTrain Epoch: 5 \tTrain_loss: 1.5020 | Train_acc: 42.3655 % | Validation_loss: 1.5868 | Validation_acc: 38.3890 %\n"
     ]
    },
    {
     "name": "stderr",
     "output_type": "stream",
     "text": [
      " 50%|\u001b[34m█████     \u001b[0m| 5/10 [00:30<00:29,  5.98s/it]\n",
      " 50%|\u001b[34m█████     \u001b[0m| 5/10 [00:30<00:30,  6.18s/it]\n"
     ]
    },
    {
     "name": "stdout",
     "output_type": "stream",
     "text": [
      "\u001b[36m(launch_and_fit pid=2942)\u001b[0m \tTrain Epoch: 5 \tTrain_loss: 1.4893 | Train_acc: 43.0425 % | Validation_loss: 1.5625 | Validation_acc: 37.7425 %\n",
      "\u001b[36m(launch_and_fit pid=2915)\u001b[0m \tTrain Epoch: 6 \tTrain_loss: 1.4451 | Train_acc: 45.0651 % | Validation_loss: 1.6108 | Validation_acc: 39.6013 %\n"
     ]
    },
    {
     "name": "stderr",
     "output_type": "stream",
     "text": [
      " 60%|\u001b[34m██████    \u001b[0m| 6/10 [00:36<00:24,  6.22s/it]\n",
      " 60%|\u001b[34m██████    \u001b[0m| 6/10 [00:37<00:24,  6.22s/it]\n"
     ]
    },
    {
     "name": "stdout",
     "output_type": "stream",
     "text": [
      "\u001b[36m(launch_and_fit pid=2942)\u001b[0m \tTrain Epoch: 6 \tTrain_loss: 1.4518 | Train_acc: 43.3030 % | Validation_loss: 1.5743 | Validation_acc: 37.9580 %\n",
      "\u001b[36m(launch_and_fit pid=2915)\u001b[0m \tTrain Epoch: 7 \tTrain_loss: 1.4143 | Train_acc: 46.0634 % | Validation_loss: 1.5793 | Validation_acc: 37.6280 %\n"
     ]
    },
    {
     "name": "stderr",
     "output_type": "stream",
     "text": [
      " 70%|\u001b[34m███████   \u001b[0m| 7/10 [00:42<00:18,  6.15s/it]\n",
      " 70%|\u001b[34m███████   \u001b[0m| 7/10 [00:43<00:18,  6.16s/it]\n"
     ]
    },
    {
     "name": "stdout",
     "output_type": "stream",
     "text": [
      "\u001b[36m(launch_and_fit pid=2942)\u001b[0m \tTrain Epoch: 7 \tTrain_loss: 1.4431 | Train_acc: 43.6502 % | Validation_loss: 1.5384 | Validation_acc: 37.0757 %\n",
      "\u001b[36m(launch_and_fit pid=2915)\u001b[0m \tTrain Epoch: 8 \tTrain_loss: 1.3832 | Train_acc: 46.9748 % | Validation_loss: 1.6266 | Validation_acc: 38.7392 %\n"
     ]
    },
    {
     "name": "stderr",
     "output_type": "stream",
     "text": [
      " 80%|\u001b[34m████████  \u001b[0m| 8/10 [00:48<00:12,  6.08s/it]\n",
      " 80%|\u001b[34m████████  \u001b[0m| 8/10 [00:49<00:12,  6.12s/it]\n"
     ]
    },
    {
     "name": "stdout",
     "output_type": "stream",
     "text": [
      "\u001b[36m(launch_and_fit pid=2942)\u001b[0m \tTrain Epoch: 8 \tTrain_loss: 1.3890 | Train_acc: 47.8602 % | Validation_loss: 1.5537 | Validation_acc: 41.7497 %\n",
      "\u001b[36m(launch_and_fit pid=2915)\u001b[0m \tTrain Epoch: 9 \tTrain_loss: 1.3699 | Train_acc: 48.1641 % | Validation_loss: 1.5443 | Validation_acc: 41.7093 %\n"
     ]
    },
    {
     "name": "stderr",
     "output_type": "stream",
     "text": [
      " 90%|\u001b[34m█████████ \u001b[0m| 9/10 [00:54<00:06,  6.02s/it]\n",
      " 90%|\u001b[34m█████████ \u001b[0m| 9/10 [00:55<00:06,  6.03s/it]\n",
      "100%|\u001b[34m██████████\u001b[0m| 10/10 [01:00<00:00,  6.06s/it]\n"
     ]
    },
    {
     "name": "stdout",
     "output_type": "stream",
     "text": [
      "\u001b[36m(launch_and_fit pid=2942)\u001b[0m \tTrain Epoch: 9 \tTrain_loss: 1.3480 | Train_acc: 48.0382 % | Validation_loss: 1.5434 | Validation_acc: 39.6754 %\n",
      "\u001b[36m(launch_and_fit pid=2915)\u001b[0m \tTrain Epoch: 10 \tTrain_loss: 1.3056 | Train_acc: 50.0694 % | Validation_loss: 1.5470 | Validation_acc: 40.9483 %\n",
      "\u001b[36m(launch_and_fit pid=2915)\u001b[0m save graph in  results/FL/\n"
     ]
    },
    {
     "name": "stderr",
     "output_type": "stream",
     "text": [
      "100%|\u001b[34m██████████\u001b[0m| 10/10 [01:00<00:00,  6.08s/it]\n"
     ]
    },
    {
     "name": "stdout",
     "output_type": "stream",
     "text": [
      "\u001b[36m(launch_and_fit pid=2942)\u001b[0m \tTrain Epoch: 10 \tTrain_loss: 1.2903 | Train_acc: 50.0955 % | Validation_loss: 1.4977 | Validation_acc: 41.5140 %\n",
      "\u001b[36m(launch_and_fit pid=2942)\u001b[0m save graph in  results/FL/\n"
     ]
    },
    {
     "name": "stderr",
     "output_type": "stream",
     "text": [
      "DEBUG flwr 2024-07-20 18:46:15,803 | server.py:236 | fit_round 4 received 10 results and 0 failures\n"
     ]
    },
    {
     "name": "stdout",
     "output_type": "stream",
     "text": [
      "Saving round 4 aggregated_parameters...\n",
      "Updated model\n"
     ]
    },
    {
     "name": "stderr",
     "output_type": "stream",
     "text": [
      "INFO flwr 2024-07-20 18:46:21,590 | server.py:125 | fit progress: (4, 1.5627519344981713, {'accuracy': 40.407436708860764}, 1776.2794184769998)\n",
      "DEBUG flwr 2024-07-20 18:46:21,591 | server.py:173 | evaluate_round 4: strategy sampled 10 clients (out of 10)\n"
     ]
    },
    {
     "name": "stdout",
     "output_type": "stream",
     "text": [
      "Server-side evaluation loss 1.5627519344981713 / accuracy 40.407436708860764\n",
      "\u001b[36m(launch_and_evaluate pid=2999)\u001b[0m Run WITHOUT homomorphic encryption\n",
      "\u001b[36m(launch_and_evaluate pid=2999)\u001b[0m  To get the checkpoint\n",
      "\u001b[36m(launch_and_evaluate pid=2999)\u001b[0m [Client 9] evaluate, config: {}\n",
      "\u001b[36m(launch_and_evaluate pid=2999)\u001b[0m Updated model\n",
      "\u001b[36m(launch_and_evaluate pid=3071)\u001b[0m Run WITHOUT homomorphic encryption\u001b[32m [repeated 2x across cluster]\u001b[0m\n",
      "\u001b[36m(launch_and_evaluate pid=3071)\u001b[0m  To get the checkpoint\u001b[32m [repeated 2x across cluster]\u001b[0m\n",
      "\u001b[36m(launch_and_evaluate pid=2998)\u001b[0m [Client 5] evaluate, config: {}\n",
      "\u001b[36m(launch_and_evaluate pid=2998)\u001b[0m Updated model\n",
      "\u001b[36m(launch_and_evaluate pid=3071)\u001b[0m [Client 3] evaluate, config: {}\n",
      "\u001b[36m(launch_and_evaluate pid=3071)\u001b[0m Updated model\n",
      "\u001b[36m(launch_and_evaluate pid=3142)\u001b[0m Run WITHOUT homomorphic encryption\u001b[32m [repeated 2x across cluster]\u001b[0m\n",
      "\u001b[36m(launch_and_evaluate pid=3142)\u001b[0m  To get the checkpoint\u001b[32m [repeated 2x across cluster]\u001b[0m\n",
      "\u001b[36m(launch_and_evaluate pid=3072)\u001b[0m [Client 0] evaluate, config: {}\n",
      "\u001b[36m(launch_and_evaluate pid=3072)\u001b[0m Updated model\n",
      "\u001b[36m(launch_and_evaluate pid=3142)\u001b[0m [Client 2] evaluate, config: {}\n",
      "\u001b[36m(launch_and_evaluate pid=3142)\u001b[0m Updated model\n",
      "\u001b[36m(launch_and_evaluate pid=3212)\u001b[0m Run WITHOUT homomorphic encryption\u001b[32m [repeated 2x across cluster]\u001b[0m\n",
      "\u001b[36m(launch_and_evaluate pid=3212)\u001b[0m  To get the checkpoint\u001b[32m [repeated 2x across cluster]\u001b[0m\n",
      "\u001b[36m(launch_and_evaluate pid=3144)\u001b[0m [Client 7] evaluate, config: {}\n",
      "\u001b[36m(launch_and_evaluate pid=3144)\u001b[0m Updated model\n",
      "\u001b[36m(launch_and_evaluate pid=3212)\u001b[0m [Client 1] evaluate, config: {}\n",
      "\u001b[36m(launch_and_evaluate pid=3212)\u001b[0m Updated model\n",
      "\u001b[36m(launch_and_evaluate pid=3282)\u001b[0m Run WITHOUT homomorphic encryption\u001b[32m [repeated 2x across cluster]\u001b[0m\n",
      "\u001b[36m(launch_and_evaluate pid=3282)\u001b[0m  To get the checkpoint\u001b[32m [repeated 2x across cluster]\u001b[0m\n",
      "\u001b[36m(launch_and_evaluate pid=3237)\u001b[0m [Client 8] evaluate, config: {}\n",
      "\u001b[36m(launch_and_evaluate pid=3237)\u001b[0m Updated model\n",
      "\u001b[36m(launch_and_evaluate pid=3282)\u001b[0m [Client 4] evaluate, config: {}\n",
      "\u001b[36m(launch_and_evaluate pid=3282)\u001b[0m Updated model\n"
     ]
    },
    {
     "name": "stderr",
     "output_type": "stream",
     "text": [
      "DEBUG flwr 2024-07-20 18:47:39,331 | server.py:187 | evaluate_round 4 received 10 results and 0 failures\n",
      "DEBUG flwr 2024-07-20 18:47:39,332 | server.py:222 | fit_round 5: strategy sampled 10 clients (out of 10)\n"
     ]
    },
    {
     "name": "stdout",
     "output_type": "stream",
     "text": [
      "\u001b[36m(launch_and_fit pid=3361)\u001b[0m Run WITHOUT homomorphic encryption\u001b[32m [repeated 2x across cluster]\u001b[0m\n",
      "\u001b[36m(launch_and_fit pid=3361)\u001b[0m  To get the checkpoint\u001b[32m [repeated 2x across cluster]\u001b[0m\n",
      "\u001b[36m(launch_and_evaluate pid=3284)\u001b[0m [Client 6] evaluate, config: {}\n",
      "\u001b[36m(launch_and_evaluate pid=3284)\u001b[0m Updated model\n"
     ]
    },
    {
     "name": "stderr",
     "output_type": "stream",
     "text": [
      "  0%|\u001b[34m          \u001b[0m| 0/10 [00:00<?, ?it/s]\n"
     ]
    },
    {
     "name": "stdout",
     "output_type": "stream",
     "text": [
      "\u001b[36m(launch_and_fit pid=3361)\u001b[0m [Client 1, round 5] fit, config: {'learning_rate': 0.001, 'batch_size': '128', 'server_round': 5, 'local_epochs': 10}\n",
      "\u001b[36m(launch_and_fit pid=3361)\u001b[0m Updated model\n"
     ]
    },
    {
     "name": "stderr",
     "output_type": "stream",
     "text": [
      " 10%|\u001b[34m█         \u001b[0m| 1/10 [00:06<00:57,  6.35s/it]\n",
      "  0%|\u001b[34m          \u001b[0m| 0/10 [00:00<?, ?it/s]\n"
     ]
    },
    {
     "name": "stdout",
     "output_type": "stream",
     "text": [
      "\u001b[36m(launch_and_fit pid=3361)\u001b[0m \tTrain Epoch: 1 \tTrain_loss: 1.5526 | Train_acc: 40.4427 % | Validation_loss: 1.5454 | Validation_acc: 41.9652 %\n",
      "\u001b[36m(launch_and_fit pid=3386)\u001b[0m Run WITHOUT homomorphic encryption\n",
      "\u001b[36m(launch_and_fit pid=3386)\u001b[0m  To get the checkpoint\n",
      "\u001b[36m(launch_and_fit pid=3386)\u001b[0m [Client 5, round 5] fit, config: {'learning_rate': 0.001, 'batch_size': '128', 'server_round': 5, 'local_epochs': 10}\n",
      "\u001b[36m(launch_and_fit pid=3386)\u001b[0m Updated model\n"
     ]
    },
    {
     "name": "stderr",
     "output_type": "stream",
     "text": [
      " 20%|\u001b[34m██        \u001b[0m| 2/10 [00:12<00:49,  6.21s/it]\u001b[32m [repeated 2x across cluster]\u001b[0m\n"
     ]
    },
    {
     "name": "stdout",
     "output_type": "stream",
     "text": [
      "\u001b[36m(launch_and_fit pid=3361)\u001b[0m \tTrain Epoch: 2 \tTrain_loss: 1.4579 | Train_acc: 44.4705 % | Validation_loss: 1.4792 | Validation_acc: 45.4270 %\u001b[32m [repeated 2x across cluster]\u001b[0m\n"
     ]
    },
    {
     "name": "stderr",
     "output_type": "stream",
     "text": [
      " 30%|\u001b[34m███       \u001b[0m| 3/10 [00:18<00:42,  6.12s/it]\u001b[32m [repeated 2x across cluster]\u001b[0m\n"
     ]
    },
    {
     "name": "stdout",
     "output_type": "stream",
     "text": [
      "\u001b[36m(launch_and_fit pid=3361)\u001b[0m \tTrain Epoch: 3 \tTrain_loss: 1.3784 | Train_acc: 47.0009 % | Validation_loss: 1.4810 | Validation_acc: 44.6659 %\u001b[32m [repeated 2x across cluster]\u001b[0m\n"
     ]
    },
    {
     "name": "stderr",
     "output_type": "stream",
     "text": [
      " 40%|\u001b[34m████      \u001b[0m| 4/10 [00:24<00:36,  6.11s/it]\u001b[32m [repeated 2x across cluster]\u001b[0m\n"
     ]
    },
    {
     "name": "stdout",
     "output_type": "stream",
     "text": [
      "\u001b[36m(launch_and_fit pid=3361)\u001b[0m \tTrain Epoch: 4 \tTrain_loss: 1.3571 | Train_acc: 49.3880 % | Validation_loss: 1.5536 | Validation_acc: 44.0800 %\u001b[32m [repeated 2x across cluster]\u001b[0m\n"
     ]
    },
    {
     "name": "stderr",
     "output_type": "stream",
     "text": [
      " 50%|\u001b[34m█████     \u001b[0m| 5/10 [00:30<00:29,  5.95s/it]\u001b[32m [repeated 2x across cluster]\u001b[0m\n"
     ]
    },
    {
     "name": "stdout",
     "output_type": "stream",
     "text": [
      "\u001b[36m(launch_and_fit pid=3361)\u001b[0m \tTrain Epoch: 5 \tTrain_loss: 1.2820 | Train_acc: 52.2005 % | Validation_loss: 1.4633 | Validation_acc: 43.8241 %\u001b[32m [repeated 2x across cluster]\u001b[0m\n"
     ]
    },
    {
     "name": "stderr",
     "output_type": "stream",
     "text": [
      " 60%|\u001b[34m██████    \u001b[0m| 6/10 [00:36<00:23,  5.97s/it]\u001b[32m [repeated 2x across cluster]\u001b[0m\n"
     ]
    },
    {
     "name": "stdout",
     "output_type": "stream",
     "text": [
      "\u001b[36m(launch_and_fit pid=3361)\u001b[0m \tTrain Epoch: 6 \tTrain_loss: 1.2136 | Train_acc: 55.2431 % | Validation_loss: 1.4938 | Validation_acc: 45.2115 %\u001b[32m [repeated 2x across cluster]\u001b[0m\n"
     ]
    },
    {
     "name": "stderr",
     "output_type": "stream",
     "text": [
      " 70%|\u001b[34m███████   \u001b[0m| 7/10 [00:42<00:17,  5.92s/it]\u001b[32m [repeated 2x across cluster]\u001b[0m\n"
     ]
    },
    {
     "name": "stdout",
     "output_type": "stream",
     "text": [
      "\u001b[36m(launch_and_fit pid=3361)\u001b[0m \tTrain Epoch: 7 \tTrain_loss: 1.1978 | Train_acc: 56.0981 % | Validation_loss: 1.5077 | Validation_acc: 43.1977 %\u001b[32m [repeated 2x across cluster]\u001b[0m\n",
      "\u001b[36m(launch_and_fit pid=3386)\u001b[0m \tTrain Epoch: 8 \tTrain_loss: 1.1587 | Train_acc: 58.1901 % | Validation_loss: 1.4809 | Validation_acc: 45.7772 %\u001b[32m [repeated 2x across cluster]\u001b[0m\n"
     ]
    },
    {
     "name": "stderr",
     "output_type": "stream",
     "text": [
      " 80%|\u001b[34m████████  \u001b[0m| 8/10 [00:47<00:11,  5.81s/it]\u001b[32m [repeated 2x across cluster]\u001b[0m\n"
     ]
    },
    {
     "name": "stdout",
     "output_type": "stream",
     "text": [
      "\u001b[36m(launch_and_fit pid=3386)\u001b[0m \tTrain Epoch: 9 \tTrain_loss: 1.1073 | Train_acc: 62.2005 % | Validation_loss: 1.4491 | Validation_acc: 47.9863 %\u001b[32m [repeated 2x across cluster]\u001b[0m\n"
     ]
    },
    {
     "name": "stderr",
     "output_type": "stream",
     "text": [
      " 90%|\u001b[34m█████████ \u001b[0m| 9/10 [00:53<00:05,  5.91s/it]\u001b[32m [repeated 2x across cluster]\u001b[0m\n"
     ]
    },
    {
     "name": "stdout",
     "output_type": "stream",
     "text": [
      "\u001b[36m(launch_and_fit pid=3386)\u001b[0m save graph in  results/FL/\n",
      "\u001b[36m(launch_and_fit pid=3386)\u001b[0m \tTrain Epoch: 10 \tTrain_loss: 1.0636 | Train_acc: 65.4080 % | Validation_loss: 1.4629 | Validation_acc: 46.6393 %\u001b[32m [repeated 2x across cluster]\u001b[0m\n"
     ]
    },
    {
     "name": "stderr",
     "output_type": "stream",
     "text": [
      "100%|\u001b[34m██████████\u001b[0m| 10/10 [00:58<00:00,  5.89s/it]\u001b[32m [repeated 2x across cluster]\u001b[0m\n"
     ]
    },
    {
     "name": "stdout",
     "output_type": "stream",
     "text": [
      "\u001b[36m(launch_and_fit pid=3437)\u001b[0m Run WITHOUT homomorphic encryption\n",
      "\u001b[36m(launch_and_fit pid=3437)\u001b[0m  To get the checkpoint\n",
      "\u001b[36m(launch_and_fit pid=3361)\u001b[0m save graph in  results/FL/\n",
      "\u001b[36m(launch_and_fit pid=3361)\u001b[0m \tTrain Epoch: 10 \tTrain_loss: 1.0446 | Train_acc: 63.0773 % | Validation_loss: 1.4918 | Validation_acc: 47.2791 %\n"
     ]
    },
    {
     "name": "stderr",
     "output_type": "stream",
     "text": [
      "  0%|\u001b[34m          \u001b[0m| 0/10 [00:00<?, ?it/s]\n",
      "100%|\u001b[34m██████████\u001b[0m| 10/10 [00:59<00:00,  6.00s/it]\n"
     ]
    },
    {
     "name": "stdout",
     "output_type": "stream",
     "text": [
      "\u001b[36m(launch_and_fit pid=3437)\u001b[0m [Client 2, round 5] fit, config: {'learning_rate': 0.001, 'batch_size': '128', 'server_round': 5, 'local_epochs': 10}\n",
      "\u001b[36m(launch_and_fit pid=3437)\u001b[0m Updated model\n"
     ]
    },
    {
     "name": "stderr",
     "output_type": "stream",
     "text": [
      " 10%|\u001b[34m█         \u001b[0m| 1/10 [00:06<00:57,  6.34s/it]\n",
      "  0%|\u001b[34m          \u001b[0m| 0/10 [00:00<?, ?it/s]\n"
     ]
    },
    {
     "name": "stdout",
     "output_type": "stream",
     "text": [
      "\u001b[36m(launch_and_fit pid=3437)\u001b[0m \tTrain Epoch: 1 \tTrain_loss: 1.5610 | Train_acc: 40.1172 % | Validation_loss: 1.5429 | Validation_acc: 41.0089 %\n",
      "\u001b[36m(launch_and_fit pid=3439)\u001b[0m Run WITHOUT homomorphic encryption\n",
      "\u001b[36m(launch_and_fit pid=3439)\u001b[0m  To get the checkpoint\n",
      "\u001b[36m(launch_and_fit pid=3439)\u001b[0m [Client 0, round 5] fit, config: {'learning_rate': 0.001, 'batch_size': '128', 'server_round': 5, 'local_epochs': 10}\n",
      "\u001b[36m(launch_and_fit pid=3439)\u001b[0m Updated model\n"
     ]
    },
    {
     "name": "stderr",
     "output_type": "stream",
     "text": [
      " 20%|\u001b[34m██        \u001b[0m| 2/10 [00:12<00:49,  6.21s/it]\u001b[32m [repeated 2x across cluster]\u001b[0m\n"
     ]
    },
    {
     "name": "stdout",
     "output_type": "stream",
     "text": [
      "\u001b[36m(launch_and_fit pid=3437)\u001b[0m \tTrain Epoch: 2 \tTrain_loss: 1.4582 | Train_acc: 44.8611 % | Validation_loss: 1.4929 | Validation_acc: 41.0695 %\u001b[32m [repeated 2x across cluster]\u001b[0m\n"
     ]
    },
    {
     "name": "stderr",
     "output_type": "stream",
     "text": [
      " 30%|\u001b[34m███       \u001b[0m| 3/10 [00:18<00:41,  5.95s/it]\u001b[32m [repeated 2x across cluster]\u001b[0m\n"
     ]
    },
    {
     "name": "stdout",
     "output_type": "stream",
     "text": [
      "\u001b[36m(launch_and_fit pid=3437)\u001b[0m \tTrain Epoch: 3 \tTrain_loss: 1.3730 | Train_acc: 47.5217 % | Validation_loss: 1.5200 | Validation_acc: 40.2074 %\u001b[32m [repeated 2x across cluster]\u001b[0m\n"
     ]
    },
    {
     "name": "stderr",
     "output_type": "stream",
     "text": [
      " 40%|\u001b[34m████      \u001b[0m| 4/10 [00:23<00:35,  5.87s/it]\u001b[32m [repeated 2x across cluster]\u001b[0m\n"
     ]
    },
    {
     "name": "stdout",
     "output_type": "stream",
     "text": [
      "\u001b[36m(launch_and_fit pid=3437)\u001b[0m \tTrain Epoch: 4 \tTrain_loss: 1.3227 | Train_acc: 50.3516 % | Validation_loss: 1.4559 | Validation_acc: 44.6659 %\u001b[32m [repeated 2x across cluster]\u001b[0m\n"
     ]
    },
    {
     "name": "stderr",
     "output_type": "stream",
     "text": [
      " 50%|\u001b[34m█████     \u001b[0m| 5/10 [00:29<00:29,  5.81s/it]\u001b[32m [repeated 2x across cluster]\u001b[0m\n"
     ]
    },
    {
     "name": "stdout",
     "output_type": "stream",
     "text": [
      "\u001b[36m(launch_and_fit pid=3437)\u001b[0m \tTrain Epoch: 5 \tTrain_loss: 1.2725 | Train_acc: 52.5651 % | Validation_loss: 1.4874 | Validation_acc: 43.8982 %\u001b[32m [repeated 2x across cluster]\u001b[0m\n"
     ]
    },
    {
     "name": "stderr",
     "output_type": "stream",
     "text": [
      " 60%|\u001b[34m██████    \u001b[0m| 6/10 [00:35<00:23,  5.91s/it]\u001b[32m [repeated 2x across cluster]\u001b[0m\n"
     ]
    },
    {
     "name": "stdout",
     "output_type": "stream",
     "text": [
      "\u001b[36m(launch_and_fit pid=3437)\u001b[0m \tTrain Epoch: 6 \tTrain_loss: 1.2394 | Train_acc: 53.7977 % | Validation_loss: 1.4798 | Validation_acc: 43.0024 %\u001b[32m [repeated 2x across cluster]\u001b[0m\n"
     ]
    },
    {
     "name": "stderr",
     "output_type": "stream",
     "text": [
      " 70%|\u001b[34m███████   \u001b[0m| 7/10 [00:41<00:17,  5.87s/it]\u001b[32m [repeated 2x across cluster]\u001b[0m\n"
     ]
    },
    {
     "name": "stdout",
     "output_type": "stream",
     "text": [
      "\u001b[36m(launch_and_fit pid=3437)\u001b[0m \tTrain Epoch: 7 \tTrain_loss: 1.2309 | Train_acc: 53.8759 % | Validation_loss: 1.4701 | Validation_acc: 44.8411 %\u001b[32m [repeated 2x across cluster]\u001b[0m\n"
     ]
    },
    {
     "name": "stderr",
     "output_type": "stream",
     "text": [
      " 80%|\u001b[34m████████  \u001b[0m| 8/10 [00:47<00:11,  5.86s/it]\u001b[32m [repeated 2x across cluster]\u001b[0m\n"
     ]
    },
    {
     "name": "stdout",
     "output_type": "stream",
     "text": [
      "\u001b[36m(launch_and_fit pid=3437)\u001b[0m \tTrain Epoch: 8 \tTrain_loss: 1.1591 | Train_acc: 57.9123 % | Validation_loss: 1.4723 | Validation_acc: 48.0469 %\u001b[32m [repeated 2x across cluster]\u001b[0m\n"
     ]
    },
    {
     "name": "stderr",
     "output_type": "stream",
     "text": [
      " 90%|\u001b[34m█████████ \u001b[0m| 9/10 [00:52<00:05,  5.81s/it]\u001b[32m [repeated 2x across cluster]\u001b[0m\n"
     ]
    },
    {
     "name": "stdout",
     "output_type": "stream",
     "text": [
      "\u001b[36m(launch_and_fit pid=3437)\u001b[0m \tTrain Epoch: 9 \tTrain_loss: 1.0965 | Train_acc: 60.8116 % | Validation_loss: 1.4426 | Validation_acc: 48.6934 %\u001b[32m [repeated 2x across cluster]\u001b[0m\n"
     ]
    },
    {
     "name": "stderr",
     "output_type": "stream",
     "text": [
      "100%|\u001b[34m██████████\u001b[0m| 10/10 [00:58<00:00,  5.87s/it]\u001b[32m [repeated 2x across cluster]\u001b[0m\n"
     ]
    },
    {
     "name": "stdout",
     "output_type": "stream",
     "text": [
      "\u001b[36m(launch_and_fit pid=3437)\u001b[0m save graph in  results/FL/\n",
      "\u001b[36m(launch_and_fit pid=3437)\u001b[0m \tTrain Epoch: 10 \tTrain_loss: 1.0506 | Train_acc: 63.2292 % | Validation_loss: 1.4816 | Validation_acc: 45.8580 %\u001b[32m [repeated 2x across cluster]\u001b[0m\n",
      "\u001b[36m(launch_and_fit pid=3511)\u001b[0m Run WITHOUT homomorphic encryption\n",
      "\u001b[36m(launch_and_fit pid=3511)\u001b[0m  To get the checkpoint\n",
      "\u001b[36m(launch_and_fit pid=3439)\u001b[0m save graph in  results/FL/\n",
      "\u001b[36m(launch_and_fit pid=3439)\u001b[0m \tTrain Epoch: 10 \tTrain_loss: 1.0714 | Train_acc: 61.5191 % | Validation_loss: 1.4283 | Validation_acc: 48.2624 %\n"
     ]
    },
    {
     "name": "stderr",
     "output_type": "stream",
     "text": [
      "  0%|\u001b[34m          \u001b[0m| 0/10 [00:00<?, ?it/s]\n",
      "100%|\u001b[34m██████████\u001b[0m| 10/10 [00:59<00:00,  5.93s/it]\n"
     ]
    },
    {
     "name": "stdout",
     "output_type": "stream",
     "text": [
      "\u001b[36m(launch_and_fit pid=3511)\u001b[0m [Client 8, round 5] fit, config: {'learning_rate': 0.001, 'batch_size': '128', 'server_round': 5, 'local_epochs': 10}\n",
      "\u001b[36m(launch_and_fit pid=3511)\u001b[0m Updated model\n"
     ]
    },
    {
     "name": "stderr",
     "output_type": "stream",
     "text": [
      " 10%|\u001b[34m█         \u001b[0m| 1/10 [00:06<01:00,  6.75s/it]\n",
      "  0%|\u001b[34m          \u001b[0m| 0/10 [00:00<?, ?it/s]\n"
     ]
    },
    {
     "name": "stdout",
     "output_type": "stream",
     "text": [
      "\u001b[36m(launch_and_fit pid=3511)\u001b[0m \tTrain Epoch: 1 \tTrain_loss: 1.5562 | Train_acc: 40.0260 % | Validation_loss: 1.5520 | Validation_acc: 43.9049 %\n",
      "\u001b[36m(launch_and_fit pid=3536)\u001b[0m Run WITHOUT homomorphic encryption\n",
      "\u001b[36m(launch_and_fit pid=3536)\u001b[0m  To get the checkpoint\n",
      "\u001b[36m(launch_and_fit pid=3536)\u001b[0m [Client 9, round 5] fit, config: {'learning_rate': 0.001, 'batch_size': '128', 'server_round': 5, 'local_epochs': 10}\n",
      "\u001b[36m(launch_and_fit pid=3536)\u001b[0m Updated model\n"
     ]
    },
    {
     "name": "stderr",
     "output_type": "stream",
     "text": [
      " 20%|\u001b[34m██        \u001b[0m| 2/10 [00:12<00:49,  6.20s/it]\u001b[32m [repeated 2x across cluster]\u001b[0m\n"
     ]
    },
    {
     "name": "stdout",
     "output_type": "stream",
     "text": [
      "\u001b[36m(launch_and_fit pid=3511)\u001b[0m \tTrain Epoch: 2 \tTrain_loss: 1.4648 | Train_acc: 44.3186 % | Validation_loss: 1.5397 | Validation_acc: 40.6183 %\u001b[32m [repeated 2x across cluster]\u001b[0m\n"
     ]
    },
    {
     "name": "stderr",
     "output_type": "stream",
     "text": [
      " 30%|\u001b[34m███       \u001b[0m| 3/10 [00:18<00:41,  5.93s/it]\u001b[32m [repeated 2x across cluster]\u001b[0m\n"
     ]
    },
    {
     "name": "stdout",
     "output_type": "stream",
     "text": [
      "\u001b[36m(launch_and_fit pid=3511)\u001b[0m \tTrain Epoch: 3 \tTrain_loss: 1.4002 | Train_acc: 46.6319 % | Validation_loss: 1.4867 | Validation_acc: 45.2115 %\u001b[32m [repeated 2x across cluster]\u001b[0m\n"
     ]
    },
    {
     "name": "stderr",
     "output_type": "stream",
     "text": [
      " 40%|\u001b[34m████      \u001b[0m| 4/10 [00:24<00:35,  5.90s/it]\u001b[32m [repeated 2x across cluster]\u001b[0m\n"
     ]
    },
    {
     "name": "stdout",
     "output_type": "stream",
     "text": [
      "\u001b[36m(launch_and_fit pid=3511)\u001b[0m \tTrain Epoch: 4 \tTrain_loss: 1.3408 | Train_acc: 49.2622 % | Validation_loss: 1.5195 | Validation_acc: 45.8782 %\u001b[32m [repeated 2x across cluster]\u001b[0m\n",
      "\u001b[36m(launch_and_fit pid=3536)\u001b[0m \tTrain Epoch: 5 \tTrain_loss: 1.3251 | Train_acc: 50.0694 % | Validation_loss: 1.5503 | Validation_acc: 40.8136 %\u001b[32m [repeated 2x across cluster]\u001b[0m\n"
     ]
    },
    {
     "name": "stderr",
     "output_type": "stream",
     "text": [
      " 50%|\u001b[34m█████     \u001b[0m| 5/10 [00:28<00:28,  5.68s/it]\u001b[32m [repeated 2x across cluster]\u001b[0m\n"
     ]
    },
    {
     "name": "stdout",
     "output_type": "stream",
     "text": [
      "\u001b[36m(launch_and_fit pid=3536)\u001b[0m \tTrain Epoch: 6 \tTrain_loss: 1.2335 | Train_acc: 54.2405 % | Validation_loss: 1.5831 | Validation_acc: 42.9890 %\u001b[32m [repeated 2x across cluster]\u001b[0m\n"
     ]
    },
    {
     "name": "stderr",
     "output_type": "stream",
     "text": [
      " 60%|\u001b[34m██████    \u001b[0m| 6/10 [00:35<00:23,  5.92s/it]\u001b[32m [repeated 2x across cluster]\u001b[0m\n"
     ]
    },
    {
     "name": "stdout",
     "output_type": "stream",
     "text": [
      "\u001b[36m(launch_and_fit pid=3536)\u001b[0m \tTrain Epoch: 7 \tTrain_loss: 1.2066 | Train_acc: 55.4470 % | Validation_loss: 1.5477 | Validation_acc: 42.6320 %\u001b[32m [repeated 2x across cluster]\u001b[0m\n"
     ]
    },
    {
     "name": "stderr",
     "output_type": "stream",
     "text": [
      " 70%|\u001b[34m███████   \u001b[0m| 7/10 [00:40<00:17,  5.82s/it]\u001b[32m [repeated 2x across cluster]\u001b[0m\n"
     ]
    },
    {
     "name": "stdout",
     "output_type": "stream",
     "text": [
      "\u001b[36m(launch_and_fit pid=3536)\u001b[0m \tTrain Epoch: 8 \tTrain_loss: 1.1348 | Train_acc: 58.8021 % | Validation_loss: 1.5291 | Validation_acc: 42.6320 %\u001b[32m [repeated 2x across cluster]\u001b[0m\n"
     ]
    },
    {
     "name": "stderr",
     "output_type": "stream",
     "text": [
      " 80%|\u001b[34m████████  \u001b[0m| 8/10 [00:46<00:11,  5.73s/it]\u001b[32m [repeated 2x across cluster]\u001b[0m\n"
     ]
    },
    {
     "name": "stdout",
     "output_type": "stream",
     "text": [
      "\u001b[36m(launch_and_fit pid=3536)\u001b[0m \tTrain Epoch: 9 \tTrain_loss: 1.0914 | Train_acc: 59.9089 % | Validation_loss: 1.5499 | Validation_acc: 41.2648 %\u001b[32m [repeated 2x across cluster]\u001b[0m\n"
     ]
    },
    {
     "name": "stderr",
     "output_type": "stream",
     "text": [
      " 90%|\u001b[34m█████████ \u001b[0m| 9/10 [00:52<00:05,  5.75s/it]\u001b[32m [repeated 2x across cluster]\u001b[0m\n"
     ]
    },
    {
     "name": "stdout",
     "output_type": "stream",
     "text": [
      "\u001b[36m(launch_and_fit pid=3536)\u001b[0m save graph in  results/FL/\n",
      "\u001b[36m(launch_and_fit pid=3536)\u001b[0m \tTrain Epoch: 10 \tTrain_loss: 1.0562 | Train_acc: 62.7648 % | Validation_loss: 1.5184 | Validation_acc: 46.6393 %\u001b[32m [repeated 2x across cluster]\u001b[0m\n"
     ]
    },
    {
     "name": "stderr",
     "output_type": "stream",
     "text": [
      "100%|\u001b[34m██████████\u001b[0m| 10/10 [00:57<00:00,  5.78s/it]\u001b[32m [repeated 2x across cluster]\u001b[0m\n"
     ]
    },
    {
     "name": "stdout",
     "output_type": "stream",
     "text": [
      "\u001b[36m(launch_and_fit pid=3585)\u001b[0m Run WITHOUT homomorphic encryption\n",
      "\u001b[36m(launch_and_fit pid=3585)\u001b[0m  To get the checkpoint\n",
      "\u001b[36m(launch_and_fit pid=3511)\u001b[0m save graph in  results/FL/\n",
      "\u001b[36m(launch_and_fit pid=3511)\u001b[0m \tTrain Epoch: 10 \tTrain_loss: 1.0867 | Train_acc: 61.4757 % | Validation_loss: 1.4906 | Validation_acc: 48.5924 %\n",
      "\u001b[36m(launch_and_fit pid=3585)\u001b[0m [Client 7, round 5] fit, config: {'learning_rate': 0.001, 'batch_size': '128', 'server_round': 5, 'local_epochs': 10}\n",
      "\u001b[36m(launch_and_fit pid=3585)\u001b[0m Updated model\n"
     ]
    },
    {
     "name": "stderr",
     "output_type": "stream",
     "text": [
      "  0%|\u001b[34m          \u001b[0m| 0/10 [00:00<?, ?it/s]\n",
      "100%|\u001b[34m██████████\u001b[0m| 10/10 [00:59<00:00,  5.95s/it]\n"
     ]
    },
    {
     "name": "stdout",
     "output_type": "stream",
     "text": [
      "\u001b[36m(launch_and_fit pid=3585)\u001b[0m \tTrain Epoch: 1 \tTrain_loss: 1.5748 | Train_acc: 40.0825 % | Validation_loss: 1.5098 | Validation_acc: 42.1202 %\n",
      "\u001b[36m(launch_and_fit pid=3610)\u001b[0m Run WITHOUT homomorphic encryption\n",
      "\u001b[36m(launch_and_fit pid=3610)\u001b[0m  To get the checkpoint\n",
      "\u001b[36m(launch_and_fit pid=3610)\u001b[0m [Client 3, round 5] fit, config: {'learning_rate': 0.001, 'batch_size': '128', 'server_round': 5, 'local_epochs': 10}\n",
      "\u001b[36m(launch_and_fit pid=3610)\u001b[0m Updated model\n"
     ]
    },
    {
     "name": "stderr",
     "output_type": "stream",
     "text": [
      " 10%|\u001b[34m█         \u001b[0m| 1/10 [00:06<00:55,  6.14s/it]\n",
      "  0%|\u001b[34m          \u001b[0m| 0/10 [00:00<?, ?it/s]\n"
     ]
    },
    {
     "name": "stdout",
     "output_type": "stream",
     "text": [
      "\u001b[36m(launch_and_fit pid=3585)\u001b[0m \tTrain Epoch: 2 \tTrain_loss: 1.4521 | Train_acc: 45.0087 % | Validation_loss: 1.4415 | Validation_acc: 44.5851 %\u001b[32m [repeated 2x across cluster]\u001b[0m\n"
     ]
    },
    {
     "name": "stderr",
     "output_type": "stream",
     "text": [
      " 20%|\u001b[34m██        \u001b[0m| 2/10 [00:11<00:47,  5.94s/it]\u001b[32m [repeated 2x across cluster]\u001b[0m\n"
     ]
    },
    {
     "name": "stdout",
     "output_type": "stream",
     "text": [
      "\u001b[36m(launch_and_fit pid=3585)\u001b[0m \tTrain Epoch: 3 \tTrain_loss: 1.3855 | Train_acc: 48.2465 % | Validation_loss: 1.4665 | Validation_acc: 42.6051 %\u001b[32m [repeated 2x across cluster]\u001b[0m\n"
     ]
    },
    {
     "name": "stderr",
     "output_type": "stream",
     "text": [
      " 30%|\u001b[34m███       \u001b[0m| 3/10 [00:17<00:41,  5.92s/it]\u001b[32m [repeated 2x across cluster]\u001b[0m\n"
     ]
    },
    {
     "name": "stdout",
     "output_type": "stream",
     "text": [
      "\u001b[36m(launch_and_fit pid=3585)\u001b[0m \tTrain Epoch: 4 \tTrain_loss: 1.3399 | Train_acc: 48.6936 % | Validation_loss: 1.4156 | Validation_acc: 44.4100 %\u001b[32m [repeated 2x across cluster]\u001b[0m\n"
     ]
    },
    {
     "name": "stderr",
     "output_type": "stream",
     "text": [
      " 40%|\u001b[34m████      \u001b[0m| 4/10 [00:23<00:34,  5.78s/it]\u001b[32m [repeated 2x across cluster]\u001b[0m\n"
     ]
    },
    {
     "name": "stdout",
     "output_type": "stream",
     "text": [
      "\u001b[36m(launch_and_fit pid=3585)\u001b[0m \tTrain Epoch: 5 \tTrain_loss: 1.2925 | Train_acc: 51.2717 % | Validation_loss: 1.4495 | Validation_acc: 44.7198 %\u001b[32m [repeated 2x across cluster]\u001b[0m\n"
     ]
    },
    {
     "name": "stderr",
     "output_type": "stream",
     "text": [
      " 50%|\u001b[34m█████     \u001b[0m| 5/10 [00:29<00:29,  5.87s/it]\u001b[32m [repeated 2x across cluster]\u001b[0m\n"
     ]
    },
    {
     "name": "stdout",
     "output_type": "stream",
     "text": [
      "\u001b[36m(launch_and_fit pid=3585)\u001b[0m \tTrain Epoch: 6 \tTrain_loss: 1.2825 | Train_acc: 52.3524 % | Validation_loss: 1.4352 | Validation_acc: 45.6627 %\u001b[32m [repeated 2x across cluster]\u001b[0m\n"
     ]
    },
    {
     "name": "stderr",
     "output_type": "stream",
     "text": [
      " 60%|\u001b[34m██████    \u001b[0m| 6/10 [00:35<00:23,  5.93s/it]\u001b[32m [repeated 2x across cluster]\u001b[0m\n"
     ]
    },
    {
     "name": "stdout",
     "output_type": "stream",
     "text": [
      "\u001b[36m(launch_and_fit pid=3585)\u001b[0m \tTrain Epoch: 7 \tTrain_loss: 1.1989 | Train_acc: 55.9635 % | Validation_loss: 1.4282 | Validation_acc: 45.7166 %\u001b[32m [repeated 2x across cluster]\u001b[0m\n"
     ]
    },
    {
     "name": "stderr",
     "output_type": "stream",
     "text": [
      " 70%|\u001b[34m███████   \u001b[0m| 7/10 [00:41<00:17,  5.92s/it]\u001b[32m [repeated 2x across cluster]\u001b[0m\n"
     ]
    },
    {
     "name": "stdout",
     "output_type": "stream",
     "text": [
      "\u001b[36m(launch_and_fit pid=3585)\u001b[0m \tTrain Epoch: 8 \tTrain_loss: 1.1693 | Train_acc: 57.2222 % | Validation_loss: 1.4195 | Validation_acc: 46.2284 %\u001b[32m [repeated 2x across cluster]\u001b[0m\n"
     ]
    },
    {
     "name": "stderr",
     "output_type": "stream",
     "text": [
      " 80%|\u001b[34m████████  \u001b[0m| 8/10 [00:47<00:11,  5.87s/it]\u001b[32m [repeated 2x across cluster]\u001b[0m\n"
     ]
    },
    {
     "name": "stdout",
     "output_type": "stream",
     "text": [
      "\u001b[36m(launch_and_fit pid=3585)\u001b[0m \tTrain Epoch: 9 \tTrain_loss: 1.1225 | Train_acc: 59.7569 % | Validation_loss: 1.4018 | Validation_acc: 46.4238 %\u001b[32m [repeated 2x across cluster]\u001b[0m\n"
     ]
    },
    {
     "name": "stderr",
     "output_type": "stream",
     "text": [
      " 90%|\u001b[34m█████████ \u001b[0m| 9/10 [00:52<00:05,  5.86s/it]\u001b[32m [repeated 2x across cluster]\u001b[0m\n"
     ]
    },
    {
     "name": "stdout",
     "output_type": "stream",
     "text": [
      "\u001b[36m(launch_and_fit pid=3585)\u001b[0m save graph in  results/FL/\n",
      "\u001b[36m(launch_and_fit pid=3585)\u001b[0m \tTrain Epoch: 10 \tTrain_loss: 1.0805 | Train_acc: 61.5538 % | Validation_loss: 1.4614 | Validation_acc: 44.3898 %\u001b[32m [repeated 2x across cluster]\u001b[0m\n"
     ]
    },
    {
     "name": "stderr",
     "output_type": "stream",
     "text": [
      "100%|\u001b[34m██████████\u001b[0m| 10/10 [00:59<00:00,  5.92s/it]\u001b[32m [repeated 2x across cluster]\u001b[0m\n"
     ]
    },
    {
     "name": "stdout",
     "output_type": "stream",
     "text": [
      "\u001b[36m(launch_and_fit pid=3660)\u001b[0m Run WITHOUT homomorphic encryption\n",
      "\u001b[36m(launch_and_fit pid=3660)\u001b[0m  To get the checkpoint\n",
      "\u001b[36m(launch_and_fit pid=3610)\u001b[0m save graph in  results/FL/\n",
      "\u001b[36m(launch_and_fit pid=3610)\u001b[0m \tTrain Epoch: 10 \tTrain_loss: 1.0965 | Train_acc: 59.5356 % | Validation_loss: 1.5567 | Validation_acc: 43.5884 %\n",
      "\u001b[36m(launch_and_fit pid=3660)\u001b[0m [Client 4, round 5] fit, config: {'learning_rate': 0.001, 'batch_size': '128', 'server_round': 5, 'local_epochs': 10}\n",
      "\u001b[36m(launch_and_fit pid=3660)\u001b[0m Updated model\n"
     ]
    },
    {
     "name": "stderr",
     "output_type": "stream",
     "text": [
      "  0%|\u001b[34m          \u001b[0m| 0/10 [00:00<?, ?it/s]\n",
      "100%|\u001b[34m██████████\u001b[0m| 10/10 [01:00<00:00,  6.08s/it]\n"
     ]
    },
    {
     "name": "stdout",
     "output_type": "stream",
     "text": [
      "\u001b[36m(launch_and_fit pid=3660)\u001b[0m \tTrain Epoch: 1 \tTrain_loss: 1.5706 | Train_acc: 39.4054 % | Validation_loss: 1.5914 | Validation_acc: 40.6183 %\n",
      "\u001b[36m(launch_and_fit pid=3685)\u001b[0m Run WITHOUT homomorphic encryption\n",
      "\u001b[36m(launch_and_fit pid=3685)\u001b[0m  To get the checkpoint\n",
      "\u001b[36m(launch_and_fit pid=3685)\u001b[0m [Client 6, round 5] fit, config: {'learning_rate': 0.001, 'batch_size': '128', 'server_round': 5, 'local_epochs': 10}\n",
      "\u001b[36m(launch_and_fit pid=3685)\u001b[0m Updated model\n"
     ]
    },
    {
     "name": "stderr",
     "output_type": "stream",
     "text": [
      " 10%|\u001b[34m█         \u001b[0m| 1/10 [00:06<00:56,  6.31s/it]\n",
      "  0%|\u001b[34m          \u001b[0m| 0/10 [00:00<?, ?it/s]\n"
     ]
    },
    {
     "name": "stdout",
     "output_type": "stream",
     "text": [
      "\u001b[36m(launch_and_fit pid=3660)\u001b[0m \tTrain Epoch: 2 \tTrain_loss: 1.4553 | Train_acc: 44.0538 % | Validation_loss: 1.6078 | Validation_acc: 39.1905 %\u001b[32m [repeated 2x across cluster]\u001b[0m\n"
     ]
    },
    {
     "name": "stderr",
     "output_type": "stream",
     "text": [
      " 20%|\u001b[34m██        \u001b[0m| 2/10 [00:12<00:47,  6.00s/it]\u001b[32m [repeated 2x across cluster]\u001b[0m\n"
     ]
    },
    {
     "name": "stdout",
     "output_type": "stream",
     "text": [
      "\u001b[36m(launch_and_fit pid=3660)\u001b[0m \tTrain Epoch: 3 \tTrain_loss: 1.3882 | Train_acc: 46.3542 % | Validation_loss: 1.6069 | Validation_acc: 40.1872 %\u001b[32m [repeated 2x across cluster]\u001b[0m\n"
     ]
    },
    {
     "name": "stderr",
     "output_type": "stream",
     "text": [
      " 30%|\u001b[34m███       \u001b[0m| 3/10 [00:18<00:41,  5.98s/it]\u001b[32m [repeated 2x across cluster]\u001b[0m\n"
     ]
    },
    {
     "name": "stdout",
     "output_type": "stream",
     "text": [
      "\u001b[36m(launch_and_fit pid=3660)\u001b[0m \tTrain Epoch: 4 \tTrain_loss: 1.3720 | Train_acc: 47.4740 % | Validation_loss: 1.5884 | Validation_acc: 39.6417 %\u001b[32m [repeated 2x across cluster]\u001b[0m\n"
     ]
    },
    {
     "name": "stderr",
     "output_type": "stream",
     "text": [
      " 40%|\u001b[34m████      \u001b[0m| 4/10 [00:24<00:36,  6.03s/it]\u001b[32m [repeated 2x across cluster]\u001b[0m\n"
     ]
    },
    {
     "name": "stdout",
     "output_type": "stream",
     "text": [
      "\u001b[36m(launch_and_fit pid=3660)\u001b[0m \tTrain Epoch: 5 \tTrain_loss: 1.2926 | Train_acc: 51.1632 % | Validation_loss: 1.5605 | Validation_acc: 43.1775 %\u001b[32m [repeated 2x across cluster]\u001b[0m\n"
     ]
    },
    {
     "name": "stderr",
     "output_type": "stream",
     "text": [
      " 50%|\u001b[34m█████     \u001b[0m| 5/10 [00:30<00:29,  5.98s/it]\u001b[32m [repeated 2x across cluster]\u001b[0m\n"
     ]
    },
    {
     "name": "stdout",
     "output_type": "stream",
     "text": [
      "\u001b[36m(launch_and_fit pid=3660)\u001b[0m \tTrain Epoch: 6 \tTrain_loss: 1.2350 | Train_acc: 53.6111 % | Validation_loss: 1.5144 | Validation_acc: 44.9017 %\u001b[32m [repeated 2x across cluster]\u001b[0m\n"
     ]
    },
    {
     "name": "stderr",
     "output_type": "stream",
     "text": [
      " 60%|\u001b[34m██████    \u001b[0m| 6/10 [00:36<00:24,  6.02s/it]\u001b[32m [repeated 2x across cluster]\u001b[0m\n"
     ]
    },
    {
     "name": "stdout",
     "output_type": "stream",
     "text": [
      "\u001b[36m(launch_and_fit pid=3660)\u001b[0m \tTrain Epoch: 7 \tTrain_loss: 1.2002 | Train_acc: 56.0113 % | Validation_loss: 1.5392 | Validation_acc: 45.2923 %\u001b[32m [repeated 2x across cluster]\u001b[0m\n"
     ]
    },
    {
     "name": "stderr",
     "output_type": "stream",
     "text": [
      " 70%|\u001b[34m███████   \u001b[0m| 7/10 [00:41<00:17,  5.94s/it]\u001b[32m [repeated 2x across cluster]\u001b[0m\n"
     ]
    },
    {
     "name": "stdout",
     "output_type": "stream",
     "text": [
      "\u001b[36m(launch_and_fit pid=3660)\u001b[0m \tTrain Epoch: 8 \tTrain_loss: 1.1706 | Train_acc: 57.9774 % | Validation_loss: 1.5217 | Validation_acc: 46.5248 %\u001b[32m [repeated 2x across cluster]\u001b[0m\n"
     ]
    },
    {
     "name": "stderr",
     "output_type": "stream",
     "text": [
      " 80%|\u001b[34m████████  \u001b[0m| 8/10 [00:47<00:11,  5.91s/it]\u001b[32m [repeated 2x across cluster]\u001b[0m\n"
     ]
    },
    {
     "name": "stdout",
     "output_type": "stream",
     "text": [
      "\u001b[36m(launch_and_fit pid=3660)\u001b[0m \tTrain Epoch: 9 \tTrain_loss: 1.1252 | Train_acc: 59.2361 % | Validation_loss: 1.5521 | Validation_acc: 43.4335 %\u001b[32m [repeated 2x across cluster]\u001b[0m\n"
     ]
    },
    {
     "name": "stderr",
     "output_type": "stream",
     "text": [
      " 90%|\u001b[34m█████████ \u001b[0m| 9/10 [00:53<00:05,  5.93s/it]\u001b[32m [repeated 2x across cluster]\u001b[0m\n"
     ]
    },
    {
     "name": "stdout",
     "output_type": "stream",
     "text": [
      "\u001b[36m(launch_and_fit pid=3660)\u001b[0m save graph in  results/FL/\n",
      "\u001b[36m(launch_and_fit pid=3660)\u001b[0m \tTrain Epoch: 10 \tTrain_loss: 1.0960 | Train_acc: 60.7378 % | Validation_loss: 1.5828 | Validation_acc: 42.0865 %\u001b[32m [repeated 2x across cluster]\u001b[0m\n"
     ]
    },
    {
     "name": "stderr",
     "output_type": "stream",
     "text": [
      "100%|\u001b[34m██████████\u001b[0m| 10/10 [00:59<00:00,  5.96s/it]\u001b[32m [repeated 2x across cluster]\u001b[0m\n",
      "DEBUG flwr 2024-07-20 18:53:48,529 | server.py:236 | fit_round 5 received 10 results and 0 failures\n"
     ]
    },
    {
     "name": "stdout",
     "output_type": "stream",
     "text": [
      "Saving round 5 aggregated_parameters...\n",
      "Updated model\n"
     ]
    },
    {
     "name": "stderr",
     "output_type": "stream",
     "text": [
      "INFO flwr 2024-07-20 18:53:54,188 | server.py:125 | fit progress: (5, 1.4527666629115237, {'accuracy': 46.90466772151899}, 2228.8772485970003)\n",
      "DEBUG flwr 2024-07-20 18:53:54,189 | server.py:173 | evaluate_round 5: strategy sampled 10 clients (out of 10)\n"
     ]
    },
    {
     "name": "stdout",
     "output_type": "stream",
     "text": [
      "Server-side evaluation loss 1.4527666629115237 / accuracy 46.90466772151899\n",
      "\u001b[36m(launch_and_evaluate pid=3743)\u001b[0m Run WITHOUT homomorphic encryption\n",
      "\u001b[36m(launch_and_evaluate pid=3743)\u001b[0m  To get the checkpoint\n",
      "\u001b[36m(launch_and_fit pid=3685)\u001b[0m save graph in  results/FL/\n",
      "\u001b[36m(launch_and_fit pid=3685)\u001b[0m \tTrain Epoch: 10 \tTrain_loss: 1.0844 | Train_acc: 61.1458 % | Validation_loss: 1.5152 | Validation_acc: 43.6086 %\n",
      "\u001b[36m(launch_and_evaluate pid=3743)\u001b[0m [Client 7] evaluate, config: {}\n",
      "\u001b[36m(launch_and_evaluate pid=3743)\u001b[0m Updated model\n",
      "\u001b[36m(launch_and_evaluate pid=3814)\u001b[0m Run WITHOUT homomorphic encryption\u001b[32m [repeated 2x across cluster]\u001b[0m\n",
      "\u001b[36m(launch_and_evaluate pid=3814)\u001b[0m  To get the checkpoint\u001b[32m [repeated 2x across cluster]\u001b[0m\n",
      "\u001b[36m(launch_and_evaluate pid=3744)\u001b[0m [Client 4] evaluate, config: {}\n",
      "\u001b[36m(launch_and_evaluate pid=3744)\u001b[0m Updated model\n",
      "\u001b[36m(launch_and_evaluate pid=3814)\u001b[0m [Client 6] evaluate, config: {}\n",
      "\u001b[36m(launch_and_evaluate pid=3814)\u001b[0m Updated model\n",
      "\u001b[36m(launch_and_evaluate pid=3884)\u001b[0m Run WITHOUT homomorphic encryption\u001b[32m [repeated 2x across cluster]\u001b[0m\n",
      "\u001b[36m(launch_and_evaluate pid=3884)\u001b[0m  To get the checkpoint\u001b[32m [repeated 2x across cluster]\u001b[0m\n",
      "\u001b[36m(launch_and_evaluate pid=3816)\u001b[0m [Client 1] evaluate, config: {}\n",
      "\u001b[36m(launch_and_evaluate pid=3816)\u001b[0m Updated model\n",
      "\u001b[36m(launch_and_evaluate pid=3884)\u001b[0m [Client 8] evaluate, config: {}\n",
      "\u001b[36m(launch_and_evaluate pid=3884)\u001b[0m Updated model\n",
      "\u001b[36m(launch_and_evaluate pid=3954)\u001b[0m Run WITHOUT homomorphic encryption\u001b[32m [repeated 2x across cluster]\u001b[0m\n",
      "\u001b[36m(launch_and_evaluate pid=3954)\u001b[0m  To get the checkpoint\u001b[32m [repeated 2x across cluster]\u001b[0m\n",
      "\u001b[36m(launch_and_evaluate pid=3886)\u001b[0m [Client 9] evaluate, config: {}\n",
      "\u001b[36m(launch_and_evaluate pid=3886)\u001b[0m Updated model\n",
      "\u001b[36m(launch_and_evaluate pid=3954)\u001b[0m [Client 3] evaluate, config: {}\n",
      "\u001b[36m(launch_and_evaluate pid=3954)\u001b[0m Updated model\n",
      "\u001b[36m(launch_and_evaluate pid=4024)\u001b[0m Run WITHOUT homomorphic encryption\u001b[32m [repeated 2x across cluster]\u001b[0m\n",
      "\u001b[36m(launch_and_evaluate pid=4024)\u001b[0m  To get the checkpoint\u001b[32m [repeated 2x across cluster]\u001b[0m\n",
      "\u001b[36m(launch_and_evaluate pid=3956)\u001b[0m [Client 5] evaluate, config: {}\n",
      "\u001b[36m(launch_and_evaluate pid=3956)\u001b[0m Updated model\n",
      "\u001b[36m(launch_and_evaluate pid=4024)\u001b[0m [Client 0] evaluate, config: {}\n",
      "\u001b[36m(launch_and_evaluate pid=4024)\u001b[0m Updated model\n"
     ]
    },
    {
     "name": "stderr",
     "output_type": "stream",
     "text": [
      "DEBUG flwr 2024-07-20 18:55:10,725 | server.py:187 | evaluate_round 5 received 10 results and 0 failures\n",
      "DEBUG flwr 2024-07-20 18:55:10,727 | server.py:222 | fit_round 6: strategy sampled 10 clients (out of 10)\n"
     ]
    },
    {
     "name": "stdout",
     "output_type": "stream",
     "text": [
      "\u001b[36m(launch_and_fit pid=4103)\u001b[0m Run WITHOUT homomorphic encryption\u001b[32m [repeated 2x across cluster]\u001b[0m\n",
      "\u001b[36m(launch_and_fit pid=4103)\u001b[0m  To get the checkpoint\u001b[32m [repeated 2x across cluster]\u001b[0m\n",
      "\u001b[36m(launch_and_evaluate pid=4026)\u001b[0m [Client 2] evaluate, config: {}\n",
      "\u001b[36m(launch_and_evaluate pid=4026)\u001b[0m Updated model\n"
     ]
    },
    {
     "name": "stderr",
     "output_type": "stream",
     "text": [
      "  0%|\u001b[34m          \u001b[0m| 0/10 [00:00<?, ?it/s]\n",
      "100%|\u001b[34m██████████\u001b[0m| 10/10 [00:59<00:00,  5.98s/it]\n"
     ]
    },
    {
     "name": "stdout",
     "output_type": "stream",
     "text": [
      "\u001b[36m(launch_and_fit pid=4103)\u001b[0m [Client 0, round 6] fit, config: {'learning_rate': 0.001, 'batch_size': '128', 'server_round': 6, 'local_epochs': 10}\n",
      "\u001b[36m(launch_and_fit pid=4103)\u001b[0m Updated model\n"
     ]
    },
    {
     "name": "stderr",
     "output_type": "stream",
     "text": [
      " 10%|\u001b[34m█         \u001b[0m| 1/10 [00:06<00:54,  6.06s/it]\n",
      "  0%|\u001b[34m          \u001b[0m| 0/10 [00:00<?, ?it/s]\n"
     ]
    },
    {
     "name": "stdout",
     "output_type": "stream",
     "text": [
      "\u001b[36m(launch_and_fit pid=4103)\u001b[0m \tTrain Epoch: 1 \tTrain_loss: 1.4351 | Train_acc: 47.5825 % | Validation_loss: 1.3667 | Validation_acc: 50.5321 %\n",
      "\u001b[36m(launch_and_fit pid=4127)\u001b[0m Run WITHOUT homomorphic encryption\n",
      "\u001b[36m(launch_and_fit pid=4127)\u001b[0m  To get the checkpoint\n",
      "\u001b[36m(launch_and_fit pid=4127)\u001b[0m [Client 5, round 6] fit, config: {'learning_rate': 0.001, 'batch_size': '128', 'server_round': 6, 'local_epochs': 10}\n",
      "\u001b[36m(launch_and_fit pid=4127)\u001b[0m Updated model\n"
     ]
    },
    {
     "name": "stderr",
     "output_type": "stream",
     "text": [
      " 20%|\u001b[34m██        \u001b[0m| 2/10 [00:11<00:47,  5.92s/it]\u001b[32m [repeated 2x across cluster]\u001b[0m\n"
     ]
    },
    {
     "name": "stdout",
     "output_type": "stream",
     "text": [
      "\u001b[36m(launch_and_fit pid=4103)\u001b[0m \tTrain Epoch: 2 \tTrain_loss: 1.3000 | Train_acc: 51.9878 % | Validation_loss: 1.3303 | Validation_acc: 49.1447 %\u001b[32m [repeated 2x across cluster]\u001b[0m\n"
     ]
    },
    {
     "name": "stderr",
     "output_type": "stream",
     "text": [
      " 30%|\u001b[34m███       \u001b[0m| 3/10 [00:17<00:40,  5.85s/it]\u001b[32m [repeated 2x across cluster]\u001b[0m\n"
     ]
    },
    {
     "name": "stdout",
     "output_type": "stream",
     "text": [
      "\u001b[36m(launch_and_fit pid=4103)\u001b[0m \tTrain Epoch: 3 \tTrain_loss: 1.2160 | Train_acc: 55.1476 % | Validation_loss: 1.4252 | Validation_acc: 51.7780 %\u001b[32m [repeated 2x across cluster]\u001b[0m\n"
     ]
    },
    {
     "name": "stderr",
     "output_type": "stream",
     "text": [
      " 40%|\u001b[34m████      \u001b[0m| 4/10 [00:23<00:34,  5.77s/it]\u001b[32m [repeated 2x across cluster]\u001b[0m\n"
     ]
    },
    {
     "name": "stdout",
     "output_type": "stream",
     "text": [
      "\u001b[36m(launch_and_fit pid=4103)\u001b[0m \tTrain Epoch: 4 \tTrain_loss: 1.1624 | Train_acc: 58.6024 % | Validation_loss: 1.3295 | Validation_acc: 51.3874 %\u001b[32m [repeated 2x across cluster]\u001b[0m\n"
     ]
    },
    {
     "name": "stderr",
     "output_type": "stream",
     "text": [
      " 50%|\u001b[34m█████     \u001b[0m| 5/10 [00:28<00:28,  5.66s/it]\u001b[32m [repeated 2x across cluster]\u001b[0m\n"
     ]
    },
    {
     "name": "stdout",
     "output_type": "stream",
     "text": [
      "\u001b[36m(launch_and_fit pid=4103)\u001b[0m \tTrain Epoch: 5 \tTrain_loss: 1.0910 | Train_acc: 60.2431 % | Validation_loss: 1.3350 | Validation_acc: 50.3906 %\u001b[32m [repeated 2x across cluster]\u001b[0m\n"
     ]
    },
    {
     "name": "stderr",
     "output_type": "stream",
     "text": [
      " 60%|\u001b[34m██████    \u001b[0m| 6/10 [00:34<00:23,  5.80s/it]\u001b[32m [repeated 2x across cluster]\u001b[0m\n"
     ]
    },
    {
     "name": "stdout",
     "output_type": "stream",
     "text": [
      "\u001b[36m(launch_and_fit pid=4103)\u001b[0m \tTrain Epoch: 6 \tTrain_loss: 1.0432 | Train_acc: 63.8715 % | Validation_loss: 1.3423 | Validation_acc: 51.1517 %\u001b[32m [repeated 2x across cluster]\u001b[0m\n"
     ]
    },
    {
     "name": "stderr",
     "output_type": "stream",
     "text": [
      " 70%|\u001b[34m███████   \u001b[0m| 7/10 [00:40<00:17,  5.78s/it]\u001b[32m [repeated 2x across cluster]\u001b[0m\n"
     ]
    },
    {
     "name": "stdout",
     "output_type": "stream",
     "text": [
      "\u001b[36m(launch_and_fit pid=4103)\u001b[0m \tTrain Epoch: 7 \tTrain_loss: 0.9914 | Train_acc: 66.6450 % | Validation_loss: 1.3194 | Validation_acc: 52.2495 %\u001b[32m [repeated 2x across cluster]\u001b[0m\n"
     ]
    },
    {
     "name": "stderr",
     "output_type": "stream",
     "text": [
      " 80%|\u001b[34m████████  \u001b[0m| 8/10 [00:46<00:11,  5.80s/it]\u001b[32m [repeated 2x across cluster]\u001b[0m\n"
     ]
    },
    {
     "name": "stdout",
     "output_type": "stream",
     "text": [
      "\u001b[36m(launch_and_fit pid=4103)\u001b[0m \tTrain Epoch: 8 \tTrain_loss: 0.9963 | Train_acc: 65.3082 % | Validation_loss: 1.3437 | Validation_acc: 51.5827 %\u001b[32m [repeated 2x across cluster]\u001b[0m\n"
     ]
    },
    {
     "name": "stderr",
     "output_type": "stream",
     "text": [
      " 90%|\u001b[34m█████████ \u001b[0m| 9/10 [00:52<00:05,  5.76s/it]\u001b[32m [repeated 2x across cluster]\u001b[0m\n"
     ]
    },
    {
     "name": "stdout",
     "output_type": "stream",
     "text": [
      "\u001b[36m(launch_and_fit pid=4103)\u001b[0m \tTrain Epoch: 9 \tTrain_loss: 0.9337 | Train_acc: 69.6137 % | Validation_loss: 1.3964 | Validation_acc: 50.1953 %\u001b[32m [repeated 2x across cluster]\u001b[0m\n"
     ]
    },
    {
     "name": "stderr",
     "output_type": "stream",
     "text": [
      "100%|\u001b[34m██████████\u001b[0m| 10/10 [00:57<00:00,  5.76s/it]\u001b[32m [repeated 2x across cluster]\u001b[0m\n"
     ]
    },
    {
     "name": "stdout",
     "output_type": "stream",
     "text": [
      "\u001b[36m(launch_and_fit pid=4103)\u001b[0m save graph in  results/FL/\n",
      "\u001b[36m(launch_and_fit pid=4103)\u001b[0m \tTrain Epoch: 10 \tTrain_loss: 0.9163 | Train_acc: 69.9870 % | Validation_loss: 1.2929 | Validation_acc: 53.8524 %\u001b[32m [repeated 2x across cluster]\u001b[0m\n",
      "\u001b[36m(launch_and_fit pid=4178)\u001b[0m Run WITHOUT homomorphic encryption\n",
      "\u001b[36m(launch_and_fit pid=4178)\u001b[0m  To get the checkpoint\n",
      "\u001b[36m(launch_and_fit pid=4127)\u001b[0m save graph in  results/FL/\n",
      "\u001b[36m(launch_and_fit pid=4127)\u001b[0m \tTrain Epoch: 10 \tTrain_loss: 0.8733 | Train_acc: 73.5807 % | Validation_loss: 1.3883 | Validation_acc: 52.9499 %\n",
      "\u001b[36m(launch_and_fit pid=4178)\u001b[0m [Client 8, round 6] fit, config: {'learning_rate': 0.001, 'batch_size': '128', 'server_round': 6, 'local_epochs': 10}\n",
      "\u001b[36m(launch_and_fit pid=4178)\u001b[0m Updated model\n"
     ]
    },
    {
     "name": "stderr",
     "output_type": "stream",
     "text": [
      "  0%|\u001b[34m          \u001b[0m| 0/10 [00:00<?, ?it/s]\n",
      "100%|\u001b[34m██████████\u001b[0m| 10/10 [00:59<00:00,  5.98s/it]\n"
     ]
    },
    {
     "name": "stdout",
     "output_type": "stream",
     "text": [
      "\u001b[36m(launch_and_fit pid=4178)\u001b[0m \tTrain Epoch: 1 \tTrain_loss: 1.4612 | Train_acc: 46.4106 % | Validation_loss: 1.4431 | Validation_acc: 47.5956 %\n",
      "\u001b[36m(launch_and_fit pid=4203)\u001b[0m Run WITHOUT homomorphic encryption\n",
      "\u001b[36m(launch_and_fit pid=4203)\u001b[0m  To get the checkpoint\n",
      "\u001b[36m(launch_and_fit pid=4203)\u001b[0m [Client 9, round 6] fit, config: {'learning_rate': 0.001, 'batch_size': '128', 'server_round': 6, 'local_epochs': 10}\n",
      "\u001b[36m(launch_and_fit pid=4203)\u001b[0m Updated model\n"
     ]
    },
    {
     "name": "stderr",
     "output_type": "stream",
     "text": [
      " 10%|\u001b[34m█         \u001b[0m| 1/10 [00:06<00:58,  6.51s/it]\n",
      "  0%|\u001b[34m          \u001b[0m| 0/10 [00:00<?, ?it/s]\n"
     ]
    },
    {
     "name": "stdout",
     "output_type": "stream",
     "text": [
      "\u001b[36m(launch_and_fit pid=4178)\u001b[0m \tTrain Epoch: 2 \tTrain_loss: 1.3322 | Train_acc: 50.4167 % | Validation_loss: 1.4736 | Validation_acc: 48.3028 %\u001b[32m [repeated 2x across cluster]\u001b[0m\n"
     ]
    },
    {
     "name": "stderr",
     "output_type": "stream",
     "text": [
      " 20%|\u001b[34m██        \u001b[0m| 2/10 [00:12<00:47,  5.93s/it]\u001b[32m [repeated 2x across cluster]\u001b[0m\n"
     ]
    },
    {
     "name": "stdout",
     "output_type": "stream",
     "text": [
      "\u001b[36m(launch_and_fit pid=4178)\u001b[0m \tTrain Epoch: 3 \tTrain_loss: 1.2219 | Train_acc: 55.9028 % | Validation_loss: 1.4193 | Validation_acc: 49.0638 %\u001b[32m [repeated 2x across cluster]\u001b[0m\n"
     ]
    },
    {
     "name": "stderr",
     "output_type": "stream",
     "text": [
      " 30%|\u001b[34m███       \u001b[0m| 3/10 [00:17<00:40,  5.77s/it]\u001b[32m [repeated 2x across cluster]\u001b[0m\n"
     ]
    },
    {
     "name": "stdout",
     "output_type": "stream",
     "text": [
      "\u001b[36m(launch_and_fit pid=4178)\u001b[0m \tTrain Epoch: 4 \tTrain_loss: 1.1635 | Train_acc: 58.1771 % | Validation_loss: 1.4706 | Validation_acc: 49.2996 %\u001b[32m [repeated 2x across cluster]\u001b[0m\n"
     ]
    },
    {
     "name": "stderr",
     "output_type": "stream",
     "text": [
      " 40%|\u001b[34m████      \u001b[0m| 4/10 [00:23<00:33,  5.66s/it]\u001b[32m [repeated 2x across cluster]\u001b[0m\n"
     ]
    },
    {
     "name": "stdout",
     "output_type": "stream",
     "text": [
      "\u001b[36m(launch_and_fit pid=4178)\u001b[0m \tTrain Epoch: 5 \tTrain_loss: 1.1352 | Train_acc: 59.3446 % | Validation_loss: 1.4771 | Validation_acc: 45.8378 %\u001b[32m [repeated 2x across cluster]\u001b[0m\n"
     ]
    },
    {
     "name": "stderr",
     "output_type": "stream",
     "text": [
      " 50%|\u001b[34m█████     \u001b[0m| 5/10 [00:28<00:27,  5.59s/it]\u001b[32m [repeated 2x across cluster]\u001b[0m\n"
     ]
    },
    {
     "name": "stdout",
     "output_type": "stream",
     "text": [
      "\u001b[36m(launch_and_fit pid=4178)\u001b[0m \tTrain Epoch: 6 \tTrain_loss: 1.0789 | Train_acc: 62.0095 % | Validation_loss: 1.4543 | Validation_acc: 49.0234 %\u001b[32m [repeated 2x across cluster]\u001b[0m\n"
     ]
    },
    {
     "name": "stderr",
     "output_type": "stream",
     "text": [
      " 60%|\u001b[34m██████    \u001b[0m| 6/10 [00:34<00:22,  5.63s/it]\u001b[32m [repeated 2x across cluster]\u001b[0m\n"
     ]
    },
    {
     "name": "stdout",
     "output_type": "stream",
     "text": [
      "\u001b[36m(launch_and_fit pid=4178)\u001b[0m \tTrain Epoch: 7 \tTrain_loss: 1.0224 | Train_acc: 64.6267 % | Validation_loss: 1.4802 | Validation_acc: 48.6530 %\u001b[32m [repeated 2x across cluster]\u001b[0m\n"
     ]
    },
    {
     "name": "stderr",
     "output_type": "stream",
     "text": [
      " 70%|\u001b[34m███████   \u001b[0m| 7/10 [00:40<00:17,  5.75s/it]\u001b[32m [repeated 2x across cluster]\u001b[0m\n"
     ]
    },
    {
     "name": "stdout",
     "output_type": "stream",
     "text": [
      "\u001b[36m(launch_and_fit pid=4178)\u001b[0m \tTrain Epoch: 8 \tTrain_loss: 0.9693 | Train_acc: 67.1832 % | Validation_loss: 1.4808 | Validation_acc: 48.0469 %\u001b[32m [repeated 2x across cluster]\u001b[0m\n"
     ]
    },
    {
     "name": "stderr",
     "output_type": "stream",
     "text": [
      " 80%|\u001b[34m████████  \u001b[0m| 8/10 [00:45<00:11,  5.65s/it]\u001b[32m [repeated 2x across cluster]\u001b[0m\n"
     ]
    },
    {
     "name": "stdout",
     "output_type": "stream",
     "text": [
      "\u001b[36m(launch_and_fit pid=4178)\u001b[0m \tTrain Epoch: 9 \tTrain_loss: 0.9279 | Train_acc: 68.0642 % | Validation_loss: 1.4380 | Validation_acc: 50.2761 %\u001b[32m [repeated 2x across cluster]\u001b[0m\n"
     ]
    },
    {
     "name": "stderr",
     "output_type": "stream",
     "text": [
      " 90%|\u001b[34m█████████ \u001b[0m| 9/10 [00:51<00:05,  5.64s/it]\u001b[32m [repeated 2x across cluster]\u001b[0m\n"
     ]
    },
    {
     "name": "stdout",
     "output_type": "stream",
     "text": [
      "\u001b[36m(launch_and_fit pid=4178)\u001b[0m save graph in  results/FL/\n",
      "\u001b[36m(launch_and_fit pid=4178)\u001b[0m \tTrain Epoch: 10 \tTrain_loss: 0.8991 | Train_acc: 71.1762 % | Validation_loss: 1.4824 | Validation_acc: 47.8314 %\u001b[32m [repeated 2x across cluster]\u001b[0m\n"
     ]
    },
    {
     "name": "stderr",
     "output_type": "stream",
     "text": [
      "100%|\u001b[34m██████████\u001b[0m| 10/10 [00:57<00:00,  5.70s/it]\u001b[32m [repeated 2x across cluster]\u001b[0m\n"
     ]
    },
    {
     "name": "stdout",
     "output_type": "stream",
     "text": [
      "\u001b[36m(launch_and_fit pid=4203)\u001b[0m save graph in  results/FL/\n",
      "\u001b[36m(launch_and_fit pid=4203)\u001b[0m \tTrain Epoch: 10 \tTrain_loss: 0.8771 | Train_acc: 71.8446 % | Validation_loss: 1.5441 | Validation_acc: 48.2826 %\n"
     ]
    },
    {
     "name": "stderr",
     "output_type": "stream",
     "text": [
      "100%|\u001b[34m██████████\u001b[0m| 10/10 [00:59<00:00,  5.90s/it]\n"
     ]
    },
    {
     "name": "stdout",
     "output_type": "stream",
     "text": [
      "\u001b[36m(launch_and_fit pid=4253)\u001b[0m Run WITHOUT homomorphic encryption\n",
      "\u001b[36m(launch_and_fit pid=4253)\u001b[0m  To get the checkpoint\n"
     ]
    },
    {
     "name": "stderr",
     "output_type": "stream",
     "text": [
      "  0%|\u001b[34m          \u001b[0m| 0/10 [00:00<?, ?it/s]\n"
     ]
    },
    {
     "name": "stdout",
     "output_type": "stream",
     "text": [
      "\u001b[36m(launch_and_fit pid=4253)\u001b[0m [Client 1, round 6] fit, config: {'learning_rate': 0.001, 'batch_size': '128', 'server_round': 6, 'local_epochs': 10}\n",
      "\u001b[36m(launch_and_fit pid=4253)\u001b[0m Updated model\n",
      "\u001b[36m(launch_and_fit pid=4278)\u001b[0m Run WITHOUT homomorphic encryption\n",
      "\u001b[36m(launch_and_fit pid=4278)\u001b[0m  To get the checkpoint\n"
     ]
    },
    {
     "name": "stderr",
     "output_type": "stream",
     "text": [
      " 10%|\u001b[34m█         \u001b[0m| 1/10 [00:06<00:56,  6.32s/it]\n",
      "  0%|\u001b[34m          \u001b[0m| 0/10 [00:00<?, ?it/s]\n"
     ]
    },
    {
     "name": "stdout",
     "output_type": "stream",
     "text": [
      "\u001b[36m(launch_and_fit pid=4253)\u001b[0m \tTrain Epoch: 1 \tTrain_loss: 1.4119 | Train_acc: 48.3550 % | Validation_loss: 1.4086 | Validation_acc: 49.8047 %\n",
      "\u001b[36m(launch_and_fit pid=4278)\u001b[0m [Client 2, round 6] fit, config: {'learning_rate': 0.001, 'batch_size': '128', 'server_round': 6, 'local_epochs': 10}\n",
      "\u001b[36m(launch_and_fit pid=4278)\u001b[0m Updated model\n"
     ]
    },
    {
     "name": "stderr",
     "output_type": "stream",
     "text": [
      " 20%|\u001b[34m██        \u001b[0m| 2/10 [00:12<00:47,  5.97s/it]\u001b[32m [repeated 2x across cluster]\u001b[0m\n"
     ]
    },
    {
     "name": "stdout",
     "output_type": "stream",
     "text": [
      "\u001b[36m(launch_and_fit pid=4253)\u001b[0m \tTrain Epoch: 2 \tTrain_loss: 1.3180 | Train_acc: 52.0226 % | Validation_loss: 1.4302 | Validation_acc: 46.3631 %\u001b[32m [repeated 2x across cluster]\u001b[0m\n"
     ]
    },
    {
     "name": "stderr",
     "output_type": "stream",
     "text": [
      " 30%|\u001b[34m███       \u001b[0m| 3/10 [00:17<00:40,  5.81s/it]\u001b[32m [repeated 2x across cluster]\u001b[0m\n"
     ]
    },
    {
     "name": "stdout",
     "output_type": "stream",
     "text": [
      "\u001b[36m(launch_and_fit pid=4253)\u001b[0m \tTrain Epoch: 3 \tTrain_loss: 1.2147 | Train_acc: 55.3733 % | Validation_loss: 1.4259 | Validation_acc: 49.8047 %\u001b[32m [repeated 2x across cluster]\u001b[0m\n"
     ]
    },
    {
     "name": "stderr",
     "output_type": "stream",
     "text": [
      " 30%|\u001b[34m███       \u001b[0m| 3/10 [00:18<00:41,  5.97s/it]\n"
     ]
    },
    {
     "name": "stdout",
     "output_type": "stream",
     "text": [
      "\u001b[36m(launch_and_fit pid=4278)\u001b[0m \tTrain Epoch: 3 \tTrain_loss: 1.2034 | Train_acc: 55.5122 % | Validation_loss: 1.3840 | Validation_acc: 50.0202 %\n"
     ]
    },
    {
     "name": "stderr",
     "output_type": "stream",
     "text": [
      " 40%|\u001b[34m████      \u001b[0m| 4/10 [00:23<00:34,  5.82s/it]\n"
     ]
    },
    {
     "name": "stdout",
     "output_type": "stream",
     "text": [
      "\u001b[36m(launch_and_fit pid=4253)\u001b[0m \tTrain Epoch: 4 \tTrain_loss: 1.1508 | Train_acc: 58.9236 % | Validation_loss: 1.4319 | Validation_acc: 50.0000 %\n"
     ]
    },
    {
     "name": "stderr",
     "output_type": "stream",
     "text": [
      " 40%|\u001b[34m████      \u001b[0m| 4/10 [00:24<00:35,  5.97s/it]\n"
     ]
    },
    {
     "name": "stdout",
     "output_type": "stream",
     "text": [
      "\u001b[36m(launch_and_fit pid=4278)\u001b[0m \tTrain Epoch: 4 \tTrain_loss: 1.1501 | Train_acc: 58.1944 % | Validation_loss: 1.4289 | Validation_acc: 49.2188 %\n"
     ]
    },
    {
     "name": "stderr",
     "output_type": "stream",
     "text": [
      " 50%|\u001b[34m█████     \u001b[0m| 5/10 [00:29<00:29,  5.87s/it]\n"
     ]
    },
    {
     "name": "stdout",
     "output_type": "stream",
     "text": [
      "\u001b[36m(launch_and_fit pid=4253)\u001b[0m \tTrain Epoch: 5 \tTrain_loss: 1.0849 | Train_acc: 61.8403 % | Validation_loss: 1.3930 | Validation_acc: 48.8483 %\n"
     ]
    },
    {
     "name": "stderr",
     "output_type": "stream",
     "text": [
      " 50%|\u001b[34m█████     \u001b[0m| 5/10 [00:29<00:29,  5.92s/it]\n"
     ]
    },
    {
     "name": "stdout",
     "output_type": "stream",
     "text": [
      "\u001b[36m(launch_and_fit pid=4278)\u001b[0m \tTrain Epoch: 5 \tTrain_loss: 1.1134 | Train_acc: 59.6050 % | Validation_loss: 1.4243 | Validation_acc: 47.5552 %\n"
     ]
    },
    {
     "name": "stderr",
     "output_type": "stream",
     "text": [
      " 60%|\u001b[34m██████    \u001b[0m| 6/10 [00:35<00:23,  5.92s/it]\n"
     ]
    },
    {
     "name": "stdout",
     "output_type": "stream",
     "text": [
      "\u001b[36m(launch_and_fit pid=4253)\u001b[0m \tTrain Epoch: 6 \tTrain_loss: 1.0436 | Train_acc: 62.7344 % | Validation_loss: 1.4056 | Validation_acc: 49.8451 %\n"
     ]
    },
    {
     "name": "stderr",
     "output_type": "stream",
     "text": [
      " 60%|\u001b[34m██████    \u001b[0m| 6/10 [00:35<00:23,  5.98s/it]\n"
     ]
    },
    {
     "name": "stdout",
     "output_type": "stream",
     "text": [
      "\u001b[36m(launch_and_fit pid=4278)\u001b[0m \tTrain Epoch: 6 \tTrain_loss: 1.0311 | Train_acc: 64.0191 % | Validation_loss: 1.3732 | Validation_acc: 51.0574 %\n"
     ]
    },
    {
     "name": "stderr",
     "output_type": "stream",
     "text": [
      " 70%|\u001b[34m███████   \u001b[0m| 7/10 [00:41<00:17,  5.87s/it]\n"
     ]
    },
    {
     "name": "stdout",
     "output_type": "stream",
     "text": [
      "\u001b[36m(launch_and_fit pid=4253)\u001b[0m \tTrain Epoch: 7 \tTrain_loss: 1.0082 | Train_acc: 65.7899 % | Validation_loss: 1.4122 | Validation_acc: 50.1751 %\n"
     ]
    },
    {
     "name": "stderr",
     "output_type": "stream",
     "text": [
      " 70%|\u001b[34m███████   \u001b[0m| 7/10 [00:41<00:17,  5.88s/it]\n"
     ]
    },
    {
     "name": "stdout",
     "output_type": "stream",
     "text": [
      "\u001b[36m(launch_and_fit pid=4278)\u001b[0m \tTrain Epoch: 7 \tTrain_loss: 0.9994 | Train_acc: 65.2821 % | Validation_loss: 1.4581 | Validation_acc: 47.4811 %\n"
     ]
    },
    {
     "name": "stderr",
     "output_type": "stream",
     "text": [
      " 80%|\u001b[34m████████  \u001b[0m| 8/10 [00:46<00:11,  5.76s/it]\n"
     ]
    },
    {
     "name": "stdout",
     "output_type": "stream",
     "text": [
      "\u001b[36m(launch_and_fit pid=4253)\u001b[0m \tTrain Epoch: 8 \tTrain_loss: 0.9545 | Train_acc: 68.0469 % | Validation_loss: 1.3973 | Validation_acc: 53.0711 %\n"
     ]
    },
    {
     "name": "stderr",
     "output_type": "stream",
     "text": [
      " 80%|\u001b[34m████████  \u001b[0m| 8/10 [00:47<00:11,  5.84s/it]\n"
     ]
    },
    {
     "name": "stdout",
     "output_type": "stream",
     "text": [
      "\u001b[36m(launch_and_fit pid=4278)\u001b[0m \tTrain Epoch: 8 \tTrain_loss: 0.9561 | Train_acc: 66.5972 % | Validation_loss: 1.4147 | Validation_acc: 48.9628 %\n"
     ]
    },
    {
     "name": "stderr",
     "output_type": "stream",
     "text": [
      " 90%|\u001b[34m█████████ \u001b[0m| 9/10 [00:52<00:05,  5.74s/it]\n"
     ]
    },
    {
     "name": "stdout",
     "output_type": "stream",
     "text": [
      "\u001b[36m(launch_and_fit pid=4253)\u001b[0m \tTrain Epoch: 9 \tTrain_loss: 0.9071 | Train_acc: 72.1484 % | Validation_loss: 1.3891 | Validation_acc: 51.2931 %\n"
     ]
    },
    {
     "name": "stderr",
     "output_type": "stream",
     "text": [
      " 90%|\u001b[34m█████████ \u001b[0m| 9/10 [00:53<00:05,  5.86s/it]\n",
      "100%|\u001b[34m██████████\u001b[0m| 10/10 [00:58<00:00,  5.83s/it]\n"
     ]
    },
    {
     "name": "stdout",
     "output_type": "stream",
     "text": [
      "\u001b[36m(launch_and_fit pid=4278)\u001b[0m \tTrain Epoch: 9 \tTrain_loss: 0.9257 | Train_acc: 68.6372 % | Validation_loss: 1.4093 | Validation_acc: 51.7376 %\n",
      "\u001b[36m(launch_and_fit pid=4253)\u001b[0m \tTrain Epoch: 10 \tTrain_loss: 0.8664 | Train_acc: 73.2465 % | Validation_loss: 1.4161 | Validation_acc: 52.1350 %\n",
      "\u001b[36m(launch_and_fit pid=4253)\u001b[0m save graph in  results/FL/\n"
     ]
    },
    {
     "name": "stderr",
     "output_type": "stream",
     "text": [
      "100%|\u001b[34m██████████\u001b[0m| 10/10 [00:59<00:00,  5.97s/it]\n"
     ]
    },
    {
     "name": "stdout",
     "output_type": "stream",
     "text": [
      "\u001b[36m(launch_and_fit pid=4278)\u001b[0m \tTrain Epoch: 10 \tTrain_loss: 0.9068 | Train_acc: 69.7526 % | Validation_loss: 1.3979 | Validation_acc: 52.2091 %\n",
      "\u001b[36m(launch_and_fit pid=4278)\u001b[0m save graph in  results/FL/\n",
      "\u001b[36m(launch_and_fit pid=4326)\u001b[0m Run WITHOUT homomorphic encryption\n",
      "\u001b[36m(launch_and_fit pid=4326)\u001b[0m  To get the checkpoint\n"
     ]
    },
    {
     "name": "stderr",
     "output_type": "stream",
     "text": [
      "  0%|\u001b[34m          \u001b[0m| 0/10 [00:00<?, ?it/s]\n"
     ]
    },
    {
     "name": "stdout",
     "output_type": "stream",
     "text": [
      "\u001b[36m(launch_and_fit pid=4326)\u001b[0m [Client 7, round 6] fit, config: {'learning_rate': 0.001, 'batch_size': '128', 'server_round': 6, 'local_epochs': 10}\n",
      "\u001b[36m(launch_and_fit pid=4326)\u001b[0m Updated model\n",
      "\u001b[36m(launch_and_fit pid=4353)\u001b[0m Run WITHOUT homomorphic encryption\n",
      "\u001b[36m(launch_and_fit pid=4353)\u001b[0m  To get the checkpoint\n",
      "\u001b[36m(launch_and_fit pid=4353)\u001b[0m [Client 3, round 6] fit, config: {'learning_rate': 0.001, 'batch_size': '128', 'server_round': 6, 'local_epochs': 10}\n",
      "\u001b[36m(launch_and_fit pid=4353)\u001b[0m Updated model\n"
     ]
    },
    {
     "name": "stderr",
     "output_type": "stream",
     "text": [
      "  0%|\u001b[34m          \u001b[0m| 0/10 [00:00<?, ?it/s]\n",
      " 10%|\u001b[34m█         \u001b[0m| 1/10 [00:06<00:55,  6.12s/it]\n"
     ]
    },
    {
     "name": "stdout",
     "output_type": "stream",
     "text": [
      "\u001b[36m(launch_and_fit pid=4326)\u001b[0m \tTrain Epoch: 1 \tTrain_loss: 1.4351 | Train_acc: 47.1615 % | Validation_loss: 1.3624 | Validation_acc: 49.2188 %\n",
      "\u001b[36m(launch_and_fit pid=4353)\u001b[0m \tTrain Epoch: 1 \tTrain_loss: 1.4542 | Train_acc: 47.5434 % | Validation_loss: 1.4662 | Validation_acc: 46.7874 %\n"
     ]
    },
    {
     "name": "stderr",
     "output_type": "stream",
     "text": [
      " 10%|\u001b[34m█         \u001b[0m| 1/10 [00:06<00:56,  6.29s/it]\n",
      " 20%|\u001b[34m██        \u001b[0m| 2/10 [00:11<00:47,  5.89s/it]\n"
     ]
    },
    {
     "name": "stdout",
     "output_type": "stream",
     "text": [
      "\u001b[36m(launch_and_fit pid=4326)\u001b[0m \tTrain Epoch: 2 \tTrain_loss: 1.2848 | Train_acc: 53.0729 % | Validation_loss: 1.3185 | Validation_acc: 51.2325 %\n",
      "\u001b[36m(launch_and_fit pid=4353)\u001b[0m \tTrain Epoch: 2 \tTrain_loss: 1.2896 | Train_acc: 52.5564 % | Validation_loss: 1.5087 | Validation_acc: 45.3260 %\n"
     ]
    },
    {
     "name": "stderr",
     "output_type": "stream",
     "text": [
      " 20%|\u001b[34m██        \u001b[0m| 2/10 [00:11<00:46,  5.86s/it]\n",
      " 30%|\u001b[34m███       \u001b[0m| 3/10 [00:17<00:40,  5.77s/it]\n"
     ]
    },
    {
     "name": "stdout",
     "output_type": "stream",
     "text": [
      "\u001b[36m(launch_and_fit pid=4326)\u001b[0m \tTrain Epoch: 3 \tTrain_loss: 1.1881 | Train_acc: 56.6319 % | Validation_loss: 1.3384 | Validation_acc: 51.6029 %\n",
      "\u001b[36m(launch_and_fit pid=4353)\u001b[0m \tTrain Epoch: 3 \tTrain_loss: 1.2154 | Train_acc: 55.5946 % | Validation_loss: 1.4498 | Validation_acc: 49.3130 %\n",
      "\u001b[36m(launch_and_fit pid=4326)\u001b[0m \tTrain Epoch: 4 \tTrain_loss: 1.1244 | Train_acc: 59.7179 % | Validation_loss: 1.3422 | Validation_acc: 49.6902 %\n"
     ]
    },
    {
     "name": "stderr",
     "output_type": "stream",
     "text": [
      " 30%|\u001b[34m███       \u001b[0m| 3/10 [00:17<00:41,  5.96s/it]\n",
      " 40%|\u001b[34m████      \u001b[0m| 4/10 [00:23<00:34,  5.79s/it]\n"
     ]
    },
    {
     "name": "stdout",
     "output_type": "stream",
     "text": [
      "\u001b[36m(launch_and_fit pid=4353)\u001b[0m \tTrain Epoch: 4 \tTrain_loss: 1.1421 | Train_acc: 59.7352 % | Validation_loss: 1.3974 | Validation_acc: 48.3365 %\n",
      "\u001b[36m(launch_and_fit pid=4326)\u001b[0m \tTrain Epoch: 5 \tTrain_loss: 1.0519 | Train_acc: 62.9036 % | Validation_loss: 1.3653 | Validation_acc: 50.1953 %\n"
     ]
    },
    {
     "name": "stderr",
     "output_type": "stream",
     "text": [
      " 40%|\u001b[34m████      \u001b[0m| 4/10 [00:23<00:34,  5.82s/it]\n",
      " 50%|\u001b[34m█████     \u001b[0m| 5/10 [00:28<00:28,  5.72s/it]\n"
     ]
    },
    {
     "name": "stdout",
     "output_type": "stream",
     "text": [
      "\u001b[36m(launch_and_fit pid=4353)\u001b[0m \tTrain Epoch: 5 \tTrain_loss: 1.0653 | Train_acc: 62.6215 % | Validation_loss: 1.4208 | Validation_acc: 50.4849 %\n"
     ]
    },
    {
     "name": "stderr",
     "output_type": "stream",
     "text": [
      " 50%|\u001b[34m█████     \u001b[0m| 5/10 [00:29<00:28,  5.78s/it]\n",
      " 60%|\u001b[34m██████    \u001b[0m| 6/10 [00:34<00:23,  5.83s/it]\n"
     ]
    },
    {
     "name": "stdout",
     "output_type": "stream",
     "text": [
      "\u001b[36m(launch_and_fit pid=4326)\u001b[0m \tTrain Epoch: 6 \tTrain_loss: 1.0203 | Train_acc: 64.2231 % | Validation_loss: 1.3168 | Validation_acc: 51.0978 %\n"
     ]
    },
    {
     "name": "stderr",
     "output_type": "stream",
     "text": [
      " 70%|\u001b[34m███████   \u001b[0m| 7/10 [00:40<00:17,  5.81s/it]\n",
      " 60%|\u001b[34m██████    \u001b[0m| 6/10 [00:35<00:23,  5.90s/it]\n"
     ]
    },
    {
     "name": "stdout",
     "output_type": "stream",
     "text": [
      "\u001b[36m(launch_and_fit pid=4326)\u001b[0m \tTrain Epoch: 7 \tTrain_loss: 0.9784 | Train_acc: 66.3368 % | Validation_loss: 1.3403 | Validation_acc: 51.6433 %\n",
      "\u001b[36m(launch_and_fit pid=4353)\u001b[0m \tTrain Epoch: 6 \tTrain_loss: 1.0033 | Train_acc: 65.8116 % | Validation_loss: 1.4343 | Validation_acc: 48.6665 %\n"
     ]
    },
    {
     "name": "stderr",
     "output_type": "stream",
     "text": [
      " 80%|\u001b[34m████████  \u001b[0m| 8/10 [00:46<00:11,  5.82s/it]\n",
      " 70%|\u001b[34m███████   \u001b[0m| 7/10 [00:41<00:17,  5.88s/it]\n"
     ]
    },
    {
     "name": "stdout",
     "output_type": "stream",
     "text": [
      "\u001b[36m(launch_and_fit pid=4326)\u001b[0m \tTrain Epoch: 8 \tTrain_loss: 0.9474 | Train_acc: 68.0078 % | Validation_loss: 1.3373 | Validation_acc: 52.8758 %\n",
      "\u001b[36m(launch_and_fit pid=4353)\u001b[0m \tTrain Epoch: 7 \tTrain_loss: 0.9773 | Train_acc: 67.0616 % | Validation_loss: 1.4194 | Validation_acc: 48.2355 %\n"
     ]
    },
    {
     "name": "stderr",
     "output_type": "stream",
     "text": [
      " 90%|\u001b[34m█████████ \u001b[0m| 9/10 [00:52<00:05,  5.90s/it]\n",
      " 80%|\u001b[34m████████  \u001b[0m| 8/10 [00:47<00:11,  5.96s/it]\n"
     ]
    },
    {
     "name": "stdout",
     "output_type": "stream",
     "text": [
      "\u001b[36m(launch_and_fit pid=4326)\u001b[0m \tTrain Epoch: 9 \tTrain_loss: 0.9304 | Train_acc: 70.0087 % | Validation_loss: 1.3991 | Validation_acc: 50.2896 %\n",
      "\u001b[36m(launch_and_fit pid=4353)\u001b[0m \tTrain Epoch: 8 \tTrain_loss: 0.9467 | Train_acc: 69.0538 % | Validation_loss: 1.4433 | Validation_acc: 52.0878 %\n"
     ]
    },
    {
     "name": "stderr",
     "output_type": "stream",
     "text": [
      "100%|\u001b[34m██████████\u001b[0m| 10/10 [00:58<00:00,  5.81s/it]\n",
      " 90%|\u001b[34m█████████ \u001b[0m| 9/10 [00:52<00:05,  5.83s/it]\n"
     ]
    },
    {
     "name": "stdout",
     "output_type": "stream",
     "text": [
      "\u001b[36m(launch_and_fit pid=4326)\u001b[0m save graph in  results/FL/\n",
      "\u001b[36m(launch_and_fit pid=4326)\u001b[0m \tTrain Epoch: 10 \tTrain_loss: 0.8987 | Train_acc: 70.3559 % | Validation_loss: 1.4381 | Validation_acc: 48.1816 %\n",
      "\u001b[36m(launch_and_fit pid=4353)\u001b[0m \tTrain Epoch: 9 \tTrain_loss: 0.8952 | Train_acc: 70.7552 % | Validation_loss: 1.4927 | Validation_acc: 50.1347 %\n",
      "\u001b[36m(launch_and_fit pid=4353)\u001b[0m \tTrain Epoch: 10 \tTrain_loss: 0.8942 | Train_acc: 70.7899 % | Validation_loss: 1.4555 | Validation_acc: 50.7206 %\n",
      "\u001b[36m(launch_and_fit pid=4353)\u001b[0m save graph in  results/FL/\n"
     ]
    },
    {
     "name": "stderr",
     "output_type": "stream",
     "text": [
      "100%|\u001b[34m██████████\u001b[0m| 10/10 [00:59<00:00,  5.91s/it]\n"
     ]
    },
    {
     "name": "stdout",
     "output_type": "stream",
     "text": [
      "\u001b[36m(launch_and_fit pid=4400)\u001b[0m Run WITHOUT homomorphic encryption\n",
      "\u001b[36m(launch_and_fit pid=4400)\u001b[0m  To get the checkpoint\n",
      "\u001b[36m(launch_and_fit pid=4400)\u001b[0m [Client 4, round 6] fit, config: {'learning_rate': 0.001, 'batch_size': '128', 'server_round': 6, 'local_epochs': 10}\n",
      "\u001b[36m(launch_and_fit pid=4400)\u001b[0m Updated model\n"
     ]
    },
    {
     "name": "stderr",
     "output_type": "stream",
     "text": [
      "  0%|\u001b[34m          \u001b[0m| 0/10 [00:00<?, ?it/s]\n"
     ]
    },
    {
     "name": "stdout",
     "output_type": "stream",
     "text": [
      "\u001b[36m(launch_and_fit pid=4428)\u001b[0m Run WITHOUT homomorphic encryption\n",
      "\u001b[36m(launch_and_fit pid=4428)\u001b[0m  To get the checkpoint\n",
      "\u001b[36m(launch_and_fit pid=4400)\u001b[0m \tTrain Epoch: 1 \tTrain_loss: 1.4764 | Train_acc: 45.6163 % | Validation_loss: 1.5039 | Validation_acc: 44.1137 %\n",
      "\u001b[36m(launch_and_fit pid=4428)\u001b[0m [Client 6, round 6] fit, config: {'learning_rate': 0.001, 'batch_size': '128', 'server_round': 6, 'local_epochs': 10}\n",
      "\u001b[36m(launch_and_fit pid=4428)\u001b[0m Updated model\n"
     ]
    },
    {
     "name": "stderr",
     "output_type": "stream",
     "text": [
      " 10%|\u001b[34m█         \u001b[0m| 1/10 [00:06<00:56,  6.23s/it]\n",
      "  0%|\u001b[34m          \u001b[0m| 0/10 [00:00<?, ?it/s]\n"
     ]
    },
    {
     "name": "stdout",
     "output_type": "stream",
     "text": [
      "\u001b[36m(launch_and_fit pid=4400)\u001b[0m \tTrain Epoch: 2 \tTrain_loss: 1.2949 | Train_acc: 52.3351 % | Validation_loss: 1.4718 | Validation_acc: 48.1412 %\n"
     ]
    },
    {
     "name": "stderr",
     "output_type": "stream",
     "text": [
      " 20%|\u001b[34m██        \u001b[0m| 2/10 [00:12<00:47,  6.00s/it]\n",
      " 10%|\u001b[34m█         \u001b[0m| 1/10 [00:06<00:56,  6.32s/it]\n"
     ]
    },
    {
     "name": "stdout",
     "output_type": "stream",
     "text": [
      "\u001b[36m(launch_and_fit pid=4428)\u001b[0m \tTrain Epoch: 1 \tTrain_loss: 1.4230 | Train_acc: 47.6866 % | Validation_loss: 1.4232 | Validation_acc: 48.8281 %\n",
      "\u001b[36m(launch_and_fit pid=4400)\u001b[0m \tTrain Epoch: 3 \tTrain_loss: 1.2135 | Train_acc: 56.1719 % | Validation_loss: 1.4382 | Validation_acc: 50.1145 %\n"
     ]
    },
    {
     "name": "stderr",
     "output_type": "stream",
     "text": [
      " 30%|\u001b[34m███       \u001b[0m| 3/10 [00:18<00:41,  5.99s/it]\n",
      " 20%|\u001b[34m██        \u001b[0m| 2/10 [00:12<00:49,  6.19s/it]\n"
     ]
    },
    {
     "name": "stdout",
     "output_type": "stream",
     "text": [
      "\u001b[36m(launch_and_fit pid=4428)\u001b[0m \tTrain Epoch: 2 \tTrain_loss: 1.2851 | Train_acc: 53.2899 % | Validation_loss: 1.4142 | Validation_acc: 48.1816 %\n"
     ]
    },
    {
     "name": "stderr",
     "output_type": "stream",
     "text": [
      " 30%|\u001b[34m███       \u001b[0m| 3/10 [00:18<00:42,  6.08s/it]\u001b[32m [repeated 2x across cluster]\u001b[0m\n"
     ]
    },
    {
     "name": "stdout",
     "output_type": "stream",
     "text": [
      "\u001b[36m(launch_and_fit pid=4428)\u001b[0m \tTrain Epoch: 3 \tTrain_loss: 1.2183 | Train_acc: 56.9835 % | Validation_loss: 1.4718 | Validation_acc: 42.9620 %\u001b[32m [repeated 2x across cluster]\u001b[0m\n"
     ]
    },
    {
     "name": "stderr",
     "output_type": "stream",
     "text": [
      " 40%|\u001b[34m████      \u001b[0m| 4/10 [00:24<00:35,  5.94s/it]\u001b[32m [repeated 2x across cluster]\u001b[0m\n"
     ]
    },
    {
     "name": "stdout",
     "output_type": "stream",
     "text": [
      "\u001b[36m(launch_and_fit pid=4428)\u001b[0m \tTrain Epoch: 4 \tTrain_loss: 1.1503 | Train_acc: 59.2014 % | Validation_loss: 1.4250 | Validation_acc: 47.1242 %\u001b[32m [repeated 2x across cluster]\u001b[0m\n",
      "\u001b[36m(launch_and_fit pid=4400)\u001b[0m \tTrain Epoch: 6 \tTrain_loss: 1.0493 | Train_acc: 64.1189 % | Validation_loss: 1.4697 | Validation_acc: 48.3365 %\n"
     ]
    },
    {
     "name": "stderr",
     "output_type": "stream",
     "text": [
      " 60%|\u001b[34m██████    \u001b[0m| 6/10 [00:35<00:23,  5.91s/it]\n",
      " 50%|\u001b[34m█████     \u001b[0m| 5/10 [00:30<00:29,  5.96s/it]\n"
     ]
    },
    {
     "name": "stdout",
     "output_type": "stream",
     "text": [
      "\u001b[36m(launch_and_fit pid=4428)\u001b[0m \tTrain Epoch: 5 \tTrain_loss: 1.0655 | Train_acc: 63.1944 % | Validation_loss: 1.4666 | Validation_acc: 47.1040 %\n"
     ]
    },
    {
     "name": "stderr",
     "output_type": "stream",
     "text": [
      " 60%|\u001b[34m██████    \u001b[0m| 6/10 [00:36<00:24,  6.00s/it]\u001b[32m [repeated 2x across cluster]\u001b[0m\n"
     ]
    },
    {
     "name": "stdout",
     "output_type": "stream",
     "text": [
      "\u001b[36m(launch_and_fit pid=4428)\u001b[0m \tTrain Epoch: 6 \tTrain_loss: 1.0271 | Train_acc: 64.4401 % | Validation_loss: 1.4547 | Validation_acc: 49.5353 %\u001b[32m [repeated 2x across cluster]\u001b[0m\n"
     ]
    },
    {
     "name": "stderr",
     "output_type": "stream",
     "text": [
      " 70%|\u001b[34m███████   \u001b[0m| 7/10 [00:42<00:18,  6.03s/it]\u001b[32m [repeated 2x across cluster]\u001b[0m\n"
     ]
    },
    {
     "name": "stdout",
     "output_type": "stream",
     "text": [
      "\u001b[36m(launch_and_fit pid=4428)\u001b[0m \tTrain Epoch: 7 \tTrain_loss: 1.0230 | Train_acc: 65.1519 % | Validation_loss: 1.4661 | Validation_acc: 45.6829 %\u001b[32m [repeated 2x across cluster]\u001b[0m\n"
     ]
    },
    {
     "name": "stderr",
     "output_type": "stream",
     "text": [
      " 80%|\u001b[34m████████  \u001b[0m| 8/10 [00:48<00:12,  6.02s/it]\u001b[32m [repeated 2x across cluster]\u001b[0m\n"
     ]
    },
    {
     "name": "stdout",
     "output_type": "stream",
     "text": [
      "\u001b[36m(launch_and_fit pid=4428)\u001b[0m \tTrain Epoch: 8 \tTrain_loss: 0.9924 | Train_acc: 66.8620 % | Validation_loss: 1.4491 | Validation_acc: 45.9523 %\u001b[32m [repeated 2x across cluster]\u001b[0m\n",
      "\u001b[36m(launch_and_fit pid=4400)\u001b[0m save graph in  results/FL/\n"
     ]
    },
    {
     "name": "stderr",
     "output_type": "stream",
     "text": [
      " 90%|\u001b[34m█████████ \u001b[0m| 9/10 [00:54<00:06,  6.01s/it]\u001b[32m [repeated 2x across cluster]\u001b[0m\n"
     ]
    },
    {
     "name": "stdout",
     "output_type": "stream",
     "text": [
      "\u001b[36m(launch_and_fit pid=4428)\u001b[0m \tTrain Epoch: 9 \tTrain_loss: 0.9283 | Train_acc: 70.3950 % | Validation_loss: 1.4355 | Validation_acc: 48.4375 %\u001b[32m [repeated 2x across cluster]\u001b[0m\n"
     ]
    },
    {
     "name": "stderr",
     "output_type": "stream",
     "text": [
      "100%|\u001b[34m██████████\u001b[0m| 10/10 [00:59<00:00,  5.98s/it]\n"
     ]
    },
    {
     "name": "stdout",
     "output_type": "stream",
     "text": [
      "\u001b[36m(launch_and_fit pid=4428)\u001b[0m save graph in  results/FL/\n",
      "\u001b[36m(launch_and_fit pid=4428)\u001b[0m \tTrain Epoch: 10 \tTrain_loss: 0.8638 | Train_acc: 72.8516 % | Validation_loss: 1.4217 | Validation_acc: 51.9733 %\n"
     ]
    },
    {
     "name": "stderr",
     "output_type": "stream",
     "text": [
      "DEBUG flwr 2024-07-20 19:01:18,279 | server.py:236 | fit_round 6 received 10 results and 0 failures\n"
     ]
    },
    {
     "name": "stdout",
     "output_type": "stream",
     "text": [
      "Saving round 6 aggregated_parameters...\n",
      "Updated model\n"
     ]
    },
    {
     "name": "stderr",
     "output_type": "stream",
     "text": [
      "INFO flwr 2024-07-20 19:01:23,982 | server.py:125 | fit progress: (6, 1.3592763173429272, {'accuracy': 51.67128164556962}, 2678.6720658140002)\n",
      "DEBUG flwr 2024-07-20 19:01:23,983 | server.py:173 | evaluate_round 6: strategy sampled 10 clients (out of 10)\n"
     ]
    },
    {
     "name": "stdout",
     "output_type": "stream",
     "text": [
      "Server-side evaluation loss 1.3592763173429272 / accuracy 51.67128164556962\n",
      "\u001b[36m(launch_and_evaluate pid=4483)\u001b[0m Run WITHOUT homomorphic encryption\n",
      "\u001b[36m(launch_and_evaluate pid=4483)\u001b[0m  To get the checkpoint\n",
      "\u001b[36m(launch_and_evaluate pid=4483)\u001b[0m [Client 2] evaluate, config: {}\n",
      "\u001b[36m(launch_and_evaluate pid=4483)\u001b[0m Updated model\n",
      "\u001b[36m(launch_and_evaluate pid=4552)\u001b[0m Run WITHOUT homomorphic encryption\u001b[32m [repeated 2x across cluster]\u001b[0m\n",
      "\u001b[36m(launch_and_evaluate pid=4552)\u001b[0m  To get the checkpoint\u001b[32m [repeated 2x across cluster]\u001b[0m\n",
      "\u001b[36m(launch_and_evaluate pid=4507)\u001b[0m [Client 1] evaluate, config: {}\n",
      "\u001b[36m(launch_and_evaluate pid=4507)\u001b[0m Updated model\n",
      "\u001b[36m(launch_and_evaluate pid=4552)\u001b[0m [Client 0] evaluate, config: {}\n",
      "\u001b[36m(launch_and_evaluate pid=4552)\u001b[0m Updated model\n",
      "\u001b[36m(launch_and_evaluate pid=4623)\u001b[0m Run WITHOUT homomorphic encryption\u001b[32m [repeated 2x across cluster]\u001b[0m\n",
      "\u001b[36m(launch_and_evaluate pid=4623)\u001b[0m  To get the checkpoint\u001b[32m [repeated 2x across cluster]\u001b[0m\n",
      "\u001b[36m(launch_and_evaluate pid=4577)\u001b[0m [Client 8] evaluate, config: {}\n",
      "\u001b[36m(launch_and_evaluate pid=4577)\u001b[0m Updated model\n",
      "\u001b[36m(launch_and_evaluate pid=4623)\u001b[0m [Client 5] evaluate, config: {}\n",
      "\u001b[36m(launch_and_evaluate pid=4623)\u001b[0m Updated model\n",
      "\u001b[36m(launch_and_evaluate pid=4693)\u001b[0m Run WITHOUT homomorphic encryption\u001b[32m [repeated 2x across cluster]\u001b[0m\n",
      "\u001b[36m(launch_and_evaluate pid=4693)\u001b[0m  To get the checkpoint\u001b[32m [repeated 2x across cluster]\u001b[0m\n",
      "\u001b[36m(launch_and_evaluate pid=4648)\u001b[0m [Client 3] evaluate, config: {}\n",
      "\u001b[36m(launch_and_evaluate pid=4648)\u001b[0m Updated model\n",
      "\u001b[36m(launch_and_evaluate pid=4693)\u001b[0m [Client 7] evaluate, config: {}\n",
      "\u001b[36m(launch_and_evaluate pid=4693)\u001b[0m Updated model\n",
      "\u001b[36m(launch_and_evaluate pid=4763)\u001b[0m Run WITHOUT homomorphic encryption\u001b[32m [repeated 2x across cluster]\u001b[0m\n",
      "\u001b[36m(launch_and_evaluate pid=4763)\u001b[0m  To get the checkpoint\u001b[32m [repeated 2x across cluster]\u001b[0m\n",
      "\u001b[36m(launch_and_evaluate pid=4718)\u001b[0m [Client 6] evaluate, config: {}\n",
      "\u001b[36m(launch_and_evaluate pid=4718)\u001b[0m Updated model\n",
      "\u001b[36m(launch_and_evaluate pid=4763)\u001b[0m [Client 4] evaluate, config: {}\n",
      "\u001b[36m(launch_and_evaluate pid=4763)\u001b[0m Updated model\n"
     ]
    },
    {
     "name": "stderr",
     "output_type": "stream",
     "text": [
      "DEBUG flwr 2024-07-20 19:02:40,318 | server.py:187 | evaluate_round 6 received 10 results and 0 failures\n",
      "DEBUG flwr 2024-07-20 19:02:40,319 | server.py:222 | fit_round 7: strategy sampled 10 clients (out of 10)\n"
     ]
    },
    {
     "name": "stdout",
     "output_type": "stream",
     "text": [
      "\u001b[36m(launch_and_fit pid=4842)\u001b[0m Run WITHOUT homomorphic encryption\u001b[32m [repeated 2x across cluster]\u001b[0m\n",
      "\u001b[36m(launch_and_fit pid=4842)\u001b[0m  To get the checkpoint\u001b[32m [repeated 2x across cluster]\u001b[0m\n",
      "\u001b[36m(launch_and_evaluate pid=4788)\u001b[0m [Client 9] evaluate, config: {}\n",
      "\u001b[36m(launch_and_evaluate pid=4788)\u001b[0m Updated model\n",
      "\u001b[36m(launch_and_fit pid=4842)\u001b[0m [Client 8, round 7] fit, config: {'learning_rate': 0.001, 'batch_size': '128', 'server_round': 7, 'local_epochs': 10}\n",
      "\u001b[36m(launch_and_fit pid=4842)\u001b[0m Updated model\n"
     ]
    },
    {
     "name": "stderr",
     "output_type": "stream",
     "text": [
      "  0%|\u001b[34m          \u001b[0m| 0/10 [00:00<?, ?it/s]\n"
     ]
    },
    {
     "name": "stdout",
     "output_type": "stream",
     "text": [
      "\u001b[36m(launch_and_fit pid=4842)\u001b[0m \tTrain Epoch: 1 \tTrain_loss: 1.3705 | Train_acc: 50.9418 % | Validation_loss: 1.3439 | Validation_acc: 51.4076 %\n",
      "\u001b[36m(launch_and_fit pid=4867)\u001b[0m Run WITHOUT homomorphic encryption\n",
      "\u001b[36m(launch_and_fit pid=4867)\u001b[0m  To get the checkpoint\n",
      "\u001b[36m(launch_and_fit pid=4867)\u001b[0m [Client 7, round 7] fit, config: {'learning_rate': 0.001, 'batch_size': '128', 'server_round': 7, 'local_epochs': 10}\n",
      "\u001b[36m(launch_and_fit pid=4867)\u001b[0m Updated model\n"
     ]
    },
    {
     "name": "stderr",
     "output_type": "stream",
     "text": [
      " 10%|\u001b[34m█         \u001b[0m| 1/10 [00:06<01:00,  6.74s/it]\n",
      "  0%|\u001b[34m          \u001b[0m| 0/10 [00:00<?, ?it/s]\n"
     ]
    },
    {
     "name": "stdout",
     "output_type": "stream",
     "text": [
      "\u001b[36m(launch_and_fit pid=4842)\u001b[0m \tTrain Epoch: 2 \tTrain_loss: 1.1617 | Train_acc: 59.6745 % | Validation_loss: 1.3656 | Validation_acc: 50.8621 %\u001b[32m [repeated 2x across cluster]\u001b[0m\n"
     ]
    },
    {
     "name": "stderr",
     "output_type": "stream",
     "text": [
      " 20%|\u001b[34m██        \u001b[0m| 2/10 [00:12<00:49,  6.16s/it]\u001b[32m [repeated 2x across cluster]\u001b[0m\n"
     ]
    },
    {
     "name": "stdout",
     "output_type": "stream",
     "text": [
      "\u001b[36m(launch_and_fit pid=4842)\u001b[0m \tTrain Epoch: 3 \tTrain_loss: 1.0837 | Train_acc: 62.0399 % | Validation_loss: 1.3934 | Validation_acc: 50.9968 %\u001b[32m [repeated 2x across cluster]\u001b[0m\n"
     ]
    },
    {
     "name": "stderr",
     "output_type": "stream",
     "text": [
      " 30%|\u001b[34m███       \u001b[0m| 3/10 [00:18<00:41,  5.90s/it]\u001b[32m [repeated 2x across cluster]\u001b[0m\n"
     ]
    },
    {
     "name": "stdout",
     "output_type": "stream",
     "text": [
      "\u001b[36m(launch_and_fit pid=4842)\u001b[0m \tTrain Epoch: 4 \tTrain_loss: 1.0095 | Train_acc: 65.1432 % | Validation_loss: 1.3947 | Validation_acc: 50.0202 %\u001b[32m [repeated 2x across cluster]\u001b[0m\n"
     ]
    },
    {
     "name": "stderr",
     "output_type": "stream",
     "text": [
      " 40%|\u001b[34m████      \u001b[0m| 4/10 [00:23<00:35,  5.88s/it]\u001b[32m [repeated 2x across cluster]\u001b[0m\n"
     ]
    },
    {
     "name": "stdout",
     "output_type": "stream",
     "text": [
      "\u001b[36m(launch_and_fit pid=4842)\u001b[0m \tTrain Epoch: 5 \tTrain_loss: 0.9523 | Train_acc: 68.7109 % | Validation_loss: 1.4414 | Validation_acc: 50.4714 %\u001b[32m [repeated 2x across cluster]\u001b[0m\n"
     ]
    },
    {
     "name": "stderr",
     "output_type": "stream",
     "text": [
      " 50%|\u001b[34m█████     \u001b[0m| 5/10 [00:29<00:29,  5.84s/it]\u001b[32m [repeated 2x across cluster]\u001b[0m\n"
     ]
    },
    {
     "name": "stdout",
     "output_type": "stream",
     "text": [
      "\u001b[36m(launch_and_fit pid=4842)\u001b[0m \tTrain Epoch: 6 \tTrain_loss: 0.9065 | Train_acc: 69.6094 % | Validation_loss: 1.4485 | Validation_acc: 50.6870 %\u001b[32m [repeated 2x across cluster]\u001b[0m\n"
     ]
    },
    {
     "name": "stderr",
     "output_type": "stream",
     "text": [
      " 60%|\u001b[34m██████    \u001b[0m| 6/10 [00:35<00:23,  5.96s/it]\u001b[32m [repeated 2x across cluster]\u001b[0m\n"
     ]
    },
    {
     "name": "stdout",
     "output_type": "stream",
     "text": [
      "\u001b[36m(launch_and_fit pid=4842)\u001b[0m \tTrain Epoch: 7 \tTrain_loss: 0.8852 | Train_acc: 71.2500 % | Validation_loss: 1.4325 | Validation_acc: 51.3133 %\u001b[32m [repeated 2x across cluster]\u001b[0m\n"
     ]
    },
    {
     "name": "stderr",
     "output_type": "stream",
     "text": [
      " 70%|\u001b[34m███████   \u001b[0m| 7/10 [00:41<00:17,  5.86s/it]\u001b[32m [repeated 2x across cluster]\u001b[0m\n"
     ]
    },
    {
     "name": "stdout",
     "output_type": "stream",
     "text": [
      "\u001b[36m(launch_and_fit pid=4842)\u001b[0m \tTrain Epoch: 8 \tTrain_loss: 0.8232 | Train_acc: 73.6111 % | Validation_loss: 1.4316 | Validation_acc: 50.6263 %\u001b[32m [repeated 2x across cluster]\u001b[0m\n"
     ]
    },
    {
     "name": "stderr",
     "output_type": "stream",
     "text": [
      " 80%|\u001b[34m████████  \u001b[0m| 8/10 [00:47<00:11,  5.80s/it]\u001b[32m [repeated 2x across cluster]\u001b[0m\n"
     ]
    },
    {
     "name": "stdout",
     "output_type": "stream",
     "text": [
      "\u001b[36m(launch_and_fit pid=4842)\u001b[0m \tTrain Epoch: 9 \tTrain_loss: 0.7888 | Train_acc: 74.6224 % | Validation_loss: 1.4611 | Validation_acc: 50.1212 %\u001b[32m [repeated 2x across cluster]\u001b[0m\n"
     ]
    },
    {
     "name": "stderr",
     "output_type": "stream",
     "text": [
      " 90%|\u001b[34m█████████ \u001b[0m| 9/10 [00:53<00:05,  5.81s/it]\u001b[32m [repeated 2x across cluster]\u001b[0m\n"
     ]
    },
    {
     "name": "stdout",
     "output_type": "stream",
     "text": [
      "\u001b[36m(launch_and_fit pid=4842)\u001b[0m save graph in  results/FL/\n",
      "\u001b[36m(launch_and_fit pid=4842)\u001b[0m \tTrain Epoch: 10 \tTrain_loss: 0.7346 | Train_acc: 78.3507 % | Validation_loss: 1.4433 | Validation_acc: 51.6433 %\u001b[32m [repeated 2x across cluster]\u001b[0m\n"
     ]
    },
    {
     "name": "stderr",
     "output_type": "stream",
     "text": [
      "100%|\u001b[34m██████████\u001b[0m| 10/10 [00:58<00:00,  5.87s/it]\u001b[32m [repeated 2x across cluster]\u001b[0m\n"
     ]
    },
    {
     "name": "stdout",
     "output_type": "stream",
     "text": [
      "\u001b[36m(launch_and_fit pid=4918)\u001b[0m Run WITHOUT homomorphic encryption\n",
      "\u001b[36m(launch_and_fit pid=4918)\u001b[0m  To get the checkpoint\n",
      "\u001b[36m(launch_and_fit pid=4867)\u001b[0m save graph in  results/FL/\n",
      "\u001b[36m(launch_and_fit pid=4867)\u001b[0m \tTrain Epoch: 10 \tTrain_loss: 0.7020 | Train_acc: 78.3550 % | Validation_loss: 1.3710 | Validation_acc: 53.9871 %\n"
     ]
    },
    {
     "name": "stderr",
     "output_type": "stream",
     "text": [
      "  0%|\u001b[34m          \u001b[0m| 0/10 [00:00<?, ?it/s]\n",
      "100%|\u001b[34m██████████\u001b[0m| 10/10 [00:59<00:00,  5.91s/it]\n"
     ]
    },
    {
     "name": "stdout",
     "output_type": "stream",
     "text": [
      "\u001b[36m(launch_and_fit pid=4918)\u001b[0m [Client 5, round 7] fit, config: {'learning_rate': 0.001, 'batch_size': '128', 'server_round': 7, 'local_epochs': 10}\n",
      "\u001b[36m(launch_and_fit pid=4918)\u001b[0m Updated model\n"
     ]
    },
    {
     "name": "stderr",
     "output_type": "stream",
     "text": [
      " 10%|\u001b[34m█         \u001b[0m| 1/10 [00:06<00:56,  6.23s/it]\n",
      "  0%|\u001b[34m          \u001b[0m| 0/10 [00:00<?, ?it/s]\n"
     ]
    },
    {
     "name": "stdout",
     "output_type": "stream",
     "text": [
      "\u001b[36m(launch_and_fit pid=4918)\u001b[0m \tTrain Epoch: 1 \tTrain_loss: 1.3117 | Train_acc: 53.2812 % | Validation_loss: 1.3545 | Validation_acc: 52.4987 %\n",
      "\u001b[36m(launch_and_fit pid=4943)\u001b[0m Run WITHOUT homomorphic encryption\n",
      "\u001b[36m(launch_and_fit pid=4943)\u001b[0m  To get the checkpoint\n",
      "\u001b[36m(launch_and_fit pid=4943)\u001b[0m [Client 1, round 7] fit, config: {'learning_rate': 0.001, 'batch_size': '128', 'server_round': 7, 'local_epochs': 10}\n",
      "\u001b[36m(launch_and_fit pid=4943)\u001b[0m Updated model\n"
     ]
    },
    {
     "name": "stderr",
     "output_type": "stream",
     "text": [
      " 20%|\u001b[34m██        \u001b[0m| 2/10 [00:12<00:48,  6.03s/it]\u001b[32m [repeated 2x across cluster]\u001b[0m\n"
     ]
    },
    {
     "name": "stdout",
     "output_type": "stream",
     "text": [
      "\u001b[36m(launch_and_fit pid=4918)\u001b[0m \tTrain Epoch: 2 \tTrain_loss: 1.1591 | Train_acc: 59.5095 % | Validation_loss: 1.3180 | Validation_acc: 57.7586 %\u001b[32m [repeated 2x across cluster]\u001b[0m\n"
     ]
    },
    {
     "name": "stderr",
     "output_type": "stream",
     "text": [
      " 30%|\u001b[34m███       \u001b[0m| 3/10 [00:17<00:41,  5.86s/it]\u001b[32m [repeated 2x across cluster]\u001b[0m\n"
     ]
    },
    {
     "name": "stdout",
     "output_type": "stream",
     "text": [
      "\u001b[36m(launch_and_fit pid=4918)\u001b[0m \tTrain Epoch: 3 \tTrain_loss: 1.0436 | Train_acc: 65.0955 % | Validation_loss: 1.3235 | Validation_acc: 53.1452 %\u001b[32m [repeated 2x across cluster]\u001b[0m\n"
     ]
    },
    {
     "name": "stderr",
     "output_type": "stream",
     "text": [
      " 40%|\u001b[34m████      \u001b[0m| 4/10 [00:23<00:34,  5.83s/it]\u001b[32m [repeated 2x across cluster]\u001b[0m\n"
     ]
    },
    {
     "name": "stdout",
     "output_type": "stream",
     "text": [
      "\u001b[36m(launch_and_fit pid=4918)\u001b[0m \tTrain Epoch: 4 \tTrain_loss: 0.9701 | Train_acc: 68.5460 % | Validation_loss: 1.3502 | Validation_acc: 54.3171 %\u001b[32m [repeated 2x across cluster]\u001b[0m\n"
     ]
    },
    {
     "name": "stderr",
     "output_type": "stream",
     "text": [
      " 50%|\u001b[34m█████     \u001b[0m| 5/10 [00:29<00:29,  5.89s/it]\u001b[32m [repeated 2x across cluster]\u001b[0m\n"
     ]
    },
    {
     "name": "stdout",
     "output_type": "stream",
     "text": [
      "\u001b[36m(launch_and_fit pid=4918)\u001b[0m \tTrain Epoch: 5 \tTrain_loss: 0.9307 | Train_acc: 69.7266 % | Validation_loss: 1.3697 | Validation_acc: 53.7109 %\u001b[32m [repeated 2x across cluster]\u001b[0m\n"
     ]
    },
    {
     "name": "stderr",
     "output_type": "stream",
     "text": [
      " 60%|\u001b[34m██████    \u001b[0m| 6/10 [00:35<00:23,  5.95s/it]\u001b[32m [repeated 2x across cluster]\u001b[0m\n"
     ]
    },
    {
     "name": "stdout",
     "output_type": "stream",
     "text": [
      "\u001b[36m(launch_and_fit pid=4918)\u001b[0m \tTrain Epoch: 6 \tTrain_loss: 0.8633 | Train_acc: 72.2569 % | Validation_loss: 1.3704 | Validation_acc: 54.9030 %\u001b[32m [repeated 2x across cluster]\u001b[0m\n"
     ]
    },
    {
     "name": "stderr",
     "output_type": "stream",
     "text": [
      " 70%|\u001b[34m███████   \u001b[0m| 7/10 [00:41<00:17,  5.86s/it]\u001b[32m [repeated 2x across cluster]\u001b[0m\n"
     ]
    },
    {
     "name": "stdout",
     "output_type": "stream",
     "text": [
      "\u001b[36m(launch_and_fit pid=4918)\u001b[0m \tTrain Epoch: 7 \tTrain_loss: 0.8274 | Train_acc: 73.7283 % | Validation_loss: 1.3589 | Validation_acc: 53.1654 %\u001b[32m [repeated 2x across cluster]\u001b[0m\n"
     ]
    },
    {
     "name": "stderr",
     "output_type": "stream",
     "text": [
      " 80%|\u001b[34m████████  \u001b[0m| 8/10 [00:47<00:11,  5.83s/it]\u001b[32m [repeated 2x across cluster]\u001b[0m\n"
     ]
    },
    {
     "name": "stdout",
     "output_type": "stream",
     "text": [
      "\u001b[36m(launch_and_fit pid=4918)\u001b[0m \tTrain Epoch: 8 \tTrain_loss: 0.7791 | Train_acc: 76.6189 % | Validation_loss: 1.3271 | Validation_acc: 56.4857 %\u001b[32m [repeated 2x across cluster]\u001b[0m\n"
     ]
    },
    {
     "name": "stderr",
     "output_type": "stream",
     "text": [
      " 90%|\u001b[34m█████████ \u001b[0m| 9/10 [00:52<00:05,  5.77s/it]\u001b[32m [repeated 2x across cluster]\u001b[0m\n"
     ]
    },
    {
     "name": "stdout",
     "output_type": "stream",
     "text": [
      "\u001b[36m(launch_and_fit pid=4918)\u001b[0m \tTrain Epoch: 9 \tTrain_loss: 0.7413 | Train_acc: 77.5043 % | Validation_loss: 1.3629 | Validation_acc: 55.3745 %\u001b[32m [repeated 2x across cluster]\u001b[0m\n"
     ]
    },
    {
     "name": "stderr",
     "output_type": "stream",
     "text": [
      "100%|\u001b[34m██████████\u001b[0m| 10/10 [00:58<00:00,  5.87s/it]\u001b[32m [repeated 2x across cluster]\u001b[0m\n"
     ]
    },
    {
     "name": "stdout",
     "output_type": "stream",
     "text": [
      "\u001b[36m(launch_and_fit pid=4918)\u001b[0m save graph in  results/FL/\n",
      "\u001b[36m(launch_and_fit pid=4918)\u001b[0m \tTrain Epoch: 10 \tTrain_loss: 0.7074 | Train_acc: 79.2188 % | Validation_loss: 1.3598 | Validation_acc: 55.5900 %\u001b[32m [repeated 2x across cluster]\u001b[0m\n",
      "\u001b[36m(launch_and_fit pid=4993)\u001b[0m Run WITHOUT homomorphic encryption\n",
      "\u001b[36m(launch_and_fit pid=4993)\u001b[0m  To get the checkpoint\n",
      "\u001b[36m(launch_and_fit pid=4943)\u001b[0m save graph in  results/FL/\n",
      "\u001b[36m(launch_and_fit pid=4943)\u001b[0m \tTrain Epoch: 10 \tTrain_loss: 0.6873 | Train_acc: 81.6753 % | Validation_loss: 1.3485 | Validation_acc: 56.4318 %\n",
      "\u001b[36m(launch_and_fit pid=4993)\u001b[0m [Client 4, round 7] fit, config: {'learning_rate': 0.001, 'batch_size': '128', 'server_round': 7, 'local_epochs': 10}\n",
      "\u001b[36m(launch_and_fit pid=4993)\u001b[0m Updated model\n"
     ]
    },
    {
     "name": "stderr",
     "output_type": "stream",
     "text": [
      "  0%|\u001b[34m          \u001b[0m| 0/10 [00:00<?, ?it/s]\n",
      "100%|\u001b[34m██████████\u001b[0m| 10/10 [00:58<00:00,  5.83s/it]\n"
     ]
    },
    {
     "name": "stdout",
     "output_type": "stream",
     "text": [
      "\u001b[36m(launch_and_fit pid=4993)\u001b[0m \tTrain Epoch: 1 \tTrain_loss: 1.3289 | Train_acc: 52.6085 % | Validation_loss: 1.3984 | Validation_acc: 52.5593 %\n",
      "\u001b[36m(launch_and_fit pid=5018)\u001b[0m Run WITHOUT homomorphic encryption\n",
      "\u001b[36m(launch_and_fit pid=5018)\u001b[0m  To get the checkpoint\n",
      "\u001b[36m(launch_and_fit pid=5018)\u001b[0m [Client 3, round 7] fit, config: {'learning_rate': 0.001, 'batch_size': '128', 'server_round': 7, 'local_epochs': 10}\n",
      "\u001b[36m(launch_and_fit pid=5018)\u001b[0m Updated model\n"
     ]
    },
    {
     "name": "stderr",
     "output_type": "stream",
     "text": [
      " 10%|\u001b[34m█         \u001b[0m| 1/10 [00:06<00:57,  6.42s/it]\n",
      "  0%|\u001b[34m          \u001b[0m| 0/10 [00:00<?, ?it/s]\n"
     ]
    },
    {
     "name": "stdout",
     "output_type": "stream",
     "text": [
      "\u001b[36m(launch_and_fit pid=4993)\u001b[0m \tTrain Epoch: 2 \tTrain_loss: 1.1509 | Train_acc: 59.7960 % | Validation_loss: 1.4344 | Validation_acc: 51.9127 %\u001b[32m [repeated 2x across cluster]\u001b[0m\n"
     ]
    },
    {
     "name": "stderr",
     "output_type": "stream",
     "text": [
      " 20%|\u001b[34m██        \u001b[0m| 2/10 [00:12<00:49,  6.14s/it]\u001b[32m [repeated 2x across cluster]\u001b[0m\n"
     ]
    },
    {
     "name": "stdout",
     "output_type": "stream",
     "text": [
      "\u001b[36m(launch_and_fit pid=4993)\u001b[0m \tTrain Epoch: 3 \tTrain_loss: 1.0614 | Train_acc: 63.5026 % | Validation_loss: 1.3951 | Validation_acc: 50.5859 %\u001b[32m [repeated 2x across cluster]\u001b[0m\n"
     ]
    },
    {
     "name": "stderr",
     "output_type": "stream",
     "text": [
      " 30%|\u001b[34m███       \u001b[0m| 3/10 [00:18<00:42,  6.11s/it]\u001b[32m [repeated 2x across cluster]\u001b[0m\n"
     ]
    },
    {
     "name": "stdout",
     "output_type": "stream",
     "text": [
      "\u001b[36m(launch_and_fit pid=4993)\u001b[0m \tTrain Epoch: 4 \tTrain_loss: 1.0013 | Train_acc: 66.0547 % | Validation_loss: 1.4466 | Validation_acc: 51.2325 %\u001b[32m [repeated 2x across cluster]\u001b[0m\n"
     ]
    },
    {
     "name": "stderr",
     "output_type": "stream",
     "text": [
      " 40%|\u001b[34m████      \u001b[0m| 4/10 [00:24<00:36,  6.02s/it]\u001b[32m [repeated 2x across cluster]\u001b[0m\n"
     ]
    },
    {
     "name": "stdout",
     "output_type": "stream",
     "text": [
      "\u001b[36m(launch_and_fit pid=4993)\u001b[0m \tTrain Epoch: 5 \tTrain_loss: 0.9296 | Train_acc: 70.5946 % | Validation_loss: 1.4599 | Validation_acc: 50.2155 %\u001b[32m [repeated 2x across cluster]\u001b[0m\n"
     ]
    },
    {
     "name": "stderr",
     "output_type": "stream",
     "text": [
      " 50%|\u001b[34m█████     \u001b[0m| 5/10 [00:30<00:30,  6.02s/it]\u001b[32m [repeated 2x across cluster]\u001b[0m\n"
     ]
    },
    {
     "name": "stdout",
     "output_type": "stream",
     "text": [
      "\u001b[36m(launch_and_fit pid=4993)\u001b[0m \tTrain Epoch: 6 \tTrain_loss: 0.8594 | Train_acc: 73.2986 % | Validation_loss: 1.4106 | Validation_acc: 52.5189 %\u001b[32m [repeated 2x across cluster]\u001b[0m\n"
     ]
    },
    {
     "name": "stderr",
     "output_type": "stream",
     "text": [
      " 60%|\u001b[34m██████    \u001b[0m| 6/10 [00:36<00:23,  5.98s/it]\u001b[32m [repeated 2x across cluster]\u001b[0m\n"
     ]
    },
    {
     "name": "stdout",
     "output_type": "stream",
     "text": [
      "\u001b[36m(launch_and_fit pid=4993)\u001b[0m \tTrain Epoch: 7 \tTrain_loss: 0.8197 | Train_acc: 75.8030 % | Validation_loss: 1.4111 | Validation_acc: 50.5253 %\u001b[32m [repeated 2x across cluster]\u001b[0m\n"
     ]
    },
    {
     "name": "stderr",
     "output_type": "stream",
     "text": [
      " 70%|\u001b[34m███████   \u001b[0m| 7/10 [00:41<00:17,  5.86s/it]\u001b[32m [repeated 2x across cluster]\u001b[0m\n"
     ]
    },
    {
     "name": "stdout",
     "output_type": "stream",
     "text": [
      "\u001b[36m(launch_and_fit pid=4993)\u001b[0m \tTrain Epoch: 8 \tTrain_loss: 0.7732 | Train_acc: 77.7431 % | Validation_loss: 1.4718 | Validation_acc: 51.2864 %\u001b[32m [repeated 2x across cluster]\u001b[0m\n"
     ]
    },
    {
     "name": "stderr",
     "output_type": "stream",
     "text": [
      " 80%|\u001b[34m████████  \u001b[0m| 8/10 [00:47<00:11,  5.83s/it]\u001b[32m [repeated 2x across cluster]\u001b[0m\n"
     ]
    },
    {
     "name": "stdout",
     "output_type": "stream",
     "text": [
      "\u001b[36m(launch_and_fit pid=4993)\u001b[0m \tTrain Epoch: 9 \tTrain_loss: 0.7459 | Train_acc: 78.6372 % | Validation_loss: 1.4812 | Validation_acc: 51.6972 %\u001b[32m [repeated 2x across cluster]\u001b[0m\n"
     ]
    },
    {
     "name": "stderr",
     "output_type": "stream",
     "text": [
      " 90%|\u001b[34m█████████ \u001b[0m| 9/10 [00:53<00:05,  5.86s/it]\u001b[32m [repeated 2x across cluster]\u001b[0m\n"
     ]
    },
    {
     "name": "stdout",
     "output_type": "stream",
     "text": [
      "\u001b[36m(launch_and_fit pid=4993)\u001b[0m save graph in  results/FL/\n",
      "\u001b[36m(launch_and_fit pid=4993)\u001b[0m \tTrain Epoch: 10 \tTrain_loss: 0.7268 | Train_acc: 79.5226 % | Validation_loss: 1.4299 | Validation_acc: 52.4852 %\u001b[32m [repeated 2x across cluster]\u001b[0m\n"
     ]
    },
    {
     "name": "stderr",
     "output_type": "stream",
     "text": [
      "100%|\u001b[34m██████████\u001b[0m| 10/10 [00:59<00:00,  5.94s/it]\u001b[32m [repeated 2x across cluster]\u001b[0m\n"
     ]
    },
    {
     "name": "stdout",
     "output_type": "stream",
     "text": [
      "\u001b[36m(launch_and_fit pid=5068)\u001b[0m Run WITHOUT homomorphic encryption\n",
      "\u001b[36m(launch_and_fit pid=5068)\u001b[0m  To get the checkpoint\n",
      "\u001b[36m(launch_and_fit pid=5018)\u001b[0m save graph in  results/FL/\n",
      "\u001b[36m(launch_and_fit pid=5018)\u001b[0m \tTrain Epoch: 10 \tTrain_loss: 0.7542 | Train_acc: 76.8620 % | Validation_loss: 1.4066 | Validation_acc: 51.1719 %\n",
      "\u001b[36m(launch_and_fit pid=5068)\u001b[0m [Client 2, round 7] fit, config: {'learning_rate': 0.001, 'batch_size': '128', 'server_round': 7, 'local_epochs': 10}\n",
      "\u001b[36m(launch_and_fit pid=5068)\u001b[0m Updated model\n"
     ]
    },
    {
     "name": "stderr",
     "output_type": "stream",
     "text": [
      "  0%|\u001b[34m          \u001b[0m| 0/10 [00:00<?, ?it/s]\n",
      "100%|\u001b[34m██████████\u001b[0m| 10/10 [00:59<00:00,  5.98s/it]\n"
     ]
    },
    {
     "name": "stdout",
     "output_type": "stream",
     "text": [
      "\u001b[36m(launch_and_fit pid=5068)\u001b[0m \tTrain Epoch: 1 \tTrain_loss: 1.2989 | Train_acc: 54.8134 % | Validation_loss: 1.3899 | Validation_acc: 50.2963 %\n",
      "\u001b[36m(launch_and_fit pid=5093)\u001b[0m Run WITHOUT homomorphic encryption\n",
      "\u001b[36m(launch_and_fit pid=5093)\u001b[0m  To get the checkpoint\n",
      "\u001b[36m(launch_and_fit pid=5093)\u001b[0m [Client 6, round 7] fit, config: {'learning_rate': 0.001, 'batch_size': '128', 'server_round': 7, 'local_epochs': 10}\n",
      "\u001b[36m(launch_and_fit pid=5093)\u001b[0m Updated model\n"
     ]
    },
    {
     "name": "stderr",
     "output_type": "stream",
     "text": [
      " 10%|\u001b[34m█         \u001b[0m| 1/10 [00:06<01:01,  6.87s/it]\n",
      "  0%|\u001b[34m          \u001b[0m| 0/10 [00:00<?, ?it/s]\n"
     ]
    },
    {
     "name": "stdout",
     "output_type": "stream",
     "text": [
      "\u001b[36m(launch_and_fit pid=5068)\u001b[0m \tTrain Epoch: 2 \tTrain_loss: 1.1566 | Train_acc: 59.8090 % | Validation_loss: 1.3296 | Validation_acc: 51.7780 %\u001b[32m [repeated 2x across cluster]\u001b[0m\n"
     ]
    },
    {
     "name": "stderr",
     "output_type": "stream",
     "text": [
      " 20%|\u001b[34m██        \u001b[0m| 2/10 [00:12<00:51,  6.39s/it]\u001b[32m [repeated 2x across cluster]\u001b[0m\n"
     ]
    },
    {
     "name": "stdout",
     "output_type": "stream",
     "text": [
      "\u001b[36m(launch_and_fit pid=5068)\u001b[0m \tTrain Epoch: 3 \tTrain_loss: 1.0308 | Train_acc: 65.2908 % | Validation_loss: 1.3465 | Validation_acc: 53.8322 %\u001b[32m [repeated 2x across cluster]\u001b[0m\n"
     ]
    },
    {
     "name": "stderr",
     "output_type": "stream",
     "text": [
      " 30%|\u001b[34m███       \u001b[0m| 3/10 [00:18<00:42,  6.13s/it]\u001b[32m [repeated 2x across cluster]\u001b[0m\n"
     ]
    },
    {
     "name": "stdout",
     "output_type": "stream",
     "text": [
      "\u001b[36m(launch_and_fit pid=5068)\u001b[0m \tTrain Epoch: 4 \tTrain_loss: 0.9618 | Train_acc: 67.5217 % | Validation_loss: 1.3488 | Validation_acc: 53.1856 %\u001b[32m [repeated 2x across cluster]\u001b[0m\n"
     ]
    },
    {
     "name": "stderr",
     "output_type": "stream",
     "text": [
      " 40%|\u001b[34m████      \u001b[0m| 4/10 [00:24<00:35,  5.98s/it]\u001b[32m [repeated 2x across cluster]\u001b[0m\n"
     ]
    },
    {
     "name": "stdout",
     "output_type": "stream",
     "text": [
      "\u001b[36m(launch_and_fit pid=5068)\u001b[0m \tTrain Epoch: 5 \tTrain_loss: 0.9450 | Train_acc: 68.4288 % | Validation_loss: 1.3659 | Validation_acc: 54.3171 %\u001b[32m [repeated 2x across cluster]\u001b[0m\n"
     ]
    },
    {
     "name": "stderr",
     "output_type": "stream",
     "text": [
      " 50%|\u001b[34m█████     \u001b[0m| 5/10 [00:30<00:29,  5.89s/it]\u001b[32m [repeated 2x across cluster]\u001b[0m\n"
     ]
    },
    {
     "name": "stdout",
     "output_type": "stream",
     "text": [
      "\u001b[36m(launch_and_fit pid=5068)\u001b[0m \tTrain Epoch: 6 \tTrain_loss: 0.8609 | Train_acc: 72.2873 % | Validation_loss: 1.3513 | Validation_acc: 52.5189 %\u001b[32m [repeated 2x across cluster]\u001b[0m\n"
     ]
    },
    {
     "name": "stderr",
     "output_type": "stream",
     "text": [
      " 60%|\u001b[34m██████    \u001b[0m| 6/10 [00:35<00:23,  5.83s/it]\u001b[32m [repeated 2x across cluster]\u001b[0m\n"
     ]
    },
    {
     "name": "stdout",
     "output_type": "stream",
     "text": [
      "\u001b[36m(launch_and_fit pid=5068)\u001b[0m \tTrain Epoch: 7 \tTrain_loss: 0.8184 | Train_acc: 74.2708 % | Validation_loss: 1.3385 | Validation_acc: 53.4011 %\u001b[32m [repeated 2x across cluster]\u001b[0m\n"
     ]
    },
    {
     "name": "stderr",
     "output_type": "stream",
     "text": [
      " 70%|\u001b[34m███████   \u001b[0m| 7/10 [00:41<00:17,  5.89s/it]\u001b[32m [repeated 2x across cluster]\u001b[0m\n"
     ]
    },
    {
     "name": "stdout",
     "output_type": "stream",
     "text": [
      "\u001b[36m(launch_and_fit pid=5068)\u001b[0m \tTrain Epoch: 8 \tTrain_loss: 0.7725 | Train_acc: 77.1050 % | Validation_loss: 1.3545 | Validation_acc: 53.5762 %\u001b[32m [repeated 2x across cluster]\u001b[0m\n"
     ]
    },
    {
     "name": "stderr",
     "output_type": "stream",
     "text": [
      " 80%|\u001b[34m████████  \u001b[0m| 8/10 [00:47<00:11,  5.89s/it]\u001b[32m [repeated 2x across cluster]\u001b[0m\n"
     ]
    },
    {
     "name": "stdout",
     "output_type": "stream",
     "text": [
      "\u001b[36m(launch_and_fit pid=5068)\u001b[0m \tTrain Epoch: 9 \tTrain_loss: 0.7782 | Train_acc: 77.2569 % | Validation_loss: 1.3415 | Validation_acc: 56.3106 %\u001b[32m [repeated 2x across cluster]\u001b[0m\n"
     ]
    },
    {
     "name": "stderr",
     "output_type": "stream",
     "text": [
      " 90%|\u001b[34m█████████ \u001b[0m| 9/10 [00:53<00:05,  5.83s/it]\u001b[32m [repeated 2x across cluster]\u001b[0m\n"
     ]
    },
    {
     "name": "stdout",
     "output_type": "stream",
     "text": [
      "\u001b[36m(launch_and_fit pid=5068)\u001b[0m save graph in  results/FL/\n",
      "\u001b[36m(launch_and_fit pid=5068)\u001b[0m \tTrain Epoch: 10 \tTrain_loss: 0.7103 | Train_acc: 80.1736 % | Validation_loss: 1.3265 | Validation_acc: 57.8933 %\u001b[32m [repeated 2x across cluster]\u001b[0m\n"
     ]
    },
    {
     "name": "stderr",
     "output_type": "stream",
     "text": [
      "100%|\u001b[34m██████████\u001b[0m| 10/10 [00:59<00:00,  5.93s/it]\u001b[32m [repeated 2x across cluster]\u001b[0m\n"
     ]
    },
    {
     "name": "stdout",
     "output_type": "stream",
     "text": [
      "\u001b[36m(launch_and_fit pid=5143)\u001b[0m Run WITHOUT homomorphic encryption\n",
      "\u001b[36m(launch_and_fit pid=5143)\u001b[0m  To get the checkpoint\n",
      "\u001b[36m(launch_and_fit pid=5093)\u001b[0m save graph in  results/FL/\n",
      "\u001b[36m(launch_and_fit pid=5093)\u001b[0m \tTrain Epoch: 10 \tTrain_loss: 0.7020 | Train_acc: 79.4358 % | Validation_loss: 1.2892 | Validation_acc: 56.5867 %\n"
     ]
    },
    {
     "name": "stderr",
     "output_type": "stream",
     "text": [
      "  0%|\u001b[34m          \u001b[0m| 0/10 [00:00<?, ?it/s]\n",
      "100%|\u001b[34m██████████\u001b[0m| 10/10 [00:58<00:00,  5.90s/it]\n"
     ]
    },
    {
     "name": "stdout",
     "output_type": "stream",
     "text": [
      "\u001b[36m(launch_and_fit pid=5143)\u001b[0m [Client 9, round 7] fit, config: {'learning_rate': 0.001, 'batch_size': '128', 'server_round': 7, 'local_epochs': 10}\n",
      "\u001b[36m(launch_and_fit pid=5143)\u001b[0m Updated model\n"
     ]
    },
    {
     "name": "stderr",
     "output_type": "stream",
     "text": [
      " 10%|\u001b[34m█         \u001b[0m| 1/10 [00:06<00:55,  6.19s/it]\n",
      "  0%|\u001b[34m          \u001b[0m| 0/10 [00:00<?, ?it/s]\n"
     ]
    },
    {
     "name": "stdout",
     "output_type": "stream",
     "text": [
      "\u001b[36m(launch_and_fit pid=5143)\u001b[0m \tTrain Epoch: 1 \tTrain_loss: 1.3624 | Train_acc: 51.5972 % | Validation_loss: 1.4698 | Validation_acc: 49.0234 %\n",
      "\u001b[36m(launch_and_fit pid=5167)\u001b[0m Run WITHOUT homomorphic encryption\n",
      "\u001b[36m(launch_and_fit pid=5167)\u001b[0m  To get the checkpoint\n",
      "\u001b[36m(launch_and_fit pid=5167)\u001b[0m [Client 0, round 7] fit, config: {'learning_rate': 0.001, 'batch_size': '128', 'server_round': 7, 'local_epochs': 10}\n",
      "\u001b[36m(launch_and_fit pid=5167)\u001b[0m Updated model\n"
     ]
    },
    {
     "name": "stderr",
     "output_type": "stream",
     "text": [
      " 20%|\u001b[34m██        \u001b[0m| 2/10 [00:11<00:47,  5.94s/it]\u001b[32m [repeated 2x across cluster]\u001b[0m\n"
     ]
    },
    {
     "name": "stdout",
     "output_type": "stream",
     "text": [
      "\u001b[36m(launch_and_fit pid=5143)\u001b[0m \tTrain Epoch: 2 \tTrain_loss: 1.1817 | Train_acc: 58.2682 % | Validation_loss: 1.3795 | Validation_acc: 53.2260 %\u001b[32m [repeated 2x across cluster]\u001b[0m\n"
     ]
    },
    {
     "name": "stderr",
     "output_type": "stream",
     "text": [
      " 30%|\u001b[34m███       \u001b[0m| 3/10 [00:17<00:40,  5.81s/it]\u001b[32m [repeated 2x across cluster]\u001b[0m\n"
     ]
    },
    {
     "name": "stdout",
     "output_type": "stream",
     "text": [
      "\u001b[36m(launch_and_fit pid=5143)\u001b[0m \tTrain Epoch: 3 \tTrain_loss: 1.0624 | Train_acc: 63.5026 % | Validation_loss: 1.4283 | Validation_acc: 50.4512 %\u001b[32m [repeated 2x across cluster]\u001b[0m\n"
     ]
    },
    {
     "name": "stderr",
     "output_type": "stream",
     "text": [
      " 40%|\u001b[34m████      \u001b[0m| 4/10 [00:23<00:34,  5.72s/it]\u001b[32m [repeated 2x across cluster]\u001b[0m\n"
     ]
    },
    {
     "name": "stdout",
     "output_type": "stream",
     "text": [
      "\u001b[36m(launch_and_fit pid=5143)\u001b[0m \tTrain Epoch: 4 \tTrain_loss: 0.9790 | Train_acc: 67.7040 % | Validation_loss: 1.3743 | Validation_acc: 54.9098 %\u001b[32m [repeated 2x across cluster]\u001b[0m\n"
     ]
    },
    {
     "name": "stderr",
     "output_type": "stream",
     "text": [
      " 50%|\u001b[34m█████     \u001b[0m| 5/10 [00:28<00:28,  5.69s/it]\u001b[32m [repeated 2x across cluster]\u001b[0m\n"
     ]
    },
    {
     "name": "stdout",
     "output_type": "stream",
     "text": [
      "\u001b[36m(launch_and_fit pid=5143)\u001b[0m \tTrain Epoch: 5 \tTrain_loss: 0.9316 | Train_acc: 69.5530 % | Validation_loss: 1.3968 | Validation_acc: 54.8693 %\u001b[32m [repeated 2x across cluster]\u001b[0m\n"
     ]
    },
    {
     "name": "stderr",
     "output_type": "stream",
     "text": [
      " 60%|\u001b[34m██████    \u001b[0m| 6/10 [00:35<00:23,  5.87s/it]\u001b[32m [repeated 2x across cluster]\u001b[0m\n"
     ]
    },
    {
     "name": "stdout",
     "output_type": "stream",
     "text": [
      "\u001b[36m(launch_and_fit pid=5143)\u001b[0m \tTrain Epoch: 6 \tTrain_loss: 0.8782 | Train_acc: 72.4175 % | Validation_loss: 1.3975 | Validation_acc: 53.2058 %\u001b[32m [repeated 2x across cluster]\u001b[0m\n"
     ]
    },
    {
     "name": "stderr",
     "output_type": "stream",
     "text": [
      " 70%|\u001b[34m███████   \u001b[0m| 7/10 [00:41<00:17,  5.90s/it]\u001b[32m [repeated 2x across cluster]\u001b[0m\n"
     ]
    },
    {
     "name": "stdout",
     "output_type": "stream",
     "text": [
      "\u001b[36m(launch_and_fit pid=5143)\u001b[0m \tTrain Epoch: 7 \tTrain_loss: 0.8262 | Train_acc: 75.0043 % | Validation_loss: 1.3916 | Validation_acc: 53.5224 %\u001b[32m [repeated 2x across cluster]\u001b[0m\n"
     ]
    },
    {
     "name": "stderr",
     "output_type": "stream",
     "text": [
      " 80%|\u001b[34m████████  \u001b[0m| 8/10 [00:46<00:11,  5.90s/it]\u001b[32m [repeated 2x across cluster]\u001b[0m\n"
     ]
    },
    {
     "name": "stdout",
     "output_type": "stream",
     "text": [
      "\u001b[36m(launch_and_fit pid=5143)\u001b[0m \tTrain Epoch: 8 \tTrain_loss: 0.7616 | Train_acc: 78.2726 % | Validation_loss: 1.4184 | Validation_acc: 55.9065 %\u001b[32m [repeated 2x across cluster]\u001b[0m\n"
     ]
    },
    {
     "name": "stderr",
     "output_type": "stream",
     "text": [
      " 90%|\u001b[34m█████████ \u001b[0m| 9/10 [00:52<00:05,  5.85s/it]\u001b[32m [repeated 2x across cluster]\u001b[0m\n"
     ]
    },
    {
     "name": "stdout",
     "output_type": "stream",
     "text": [
      "\u001b[36m(launch_and_fit pid=5143)\u001b[0m \tTrain Epoch: 9 \tTrain_loss: 0.7378 | Train_acc: 78.4852 % | Validation_loss: 1.4233 | Validation_acc: 55.0040 %\u001b[32m [repeated 2x across cluster]\u001b[0m\n"
     ]
    },
    {
     "name": "stderr",
     "output_type": "stream",
     "text": [
      "100%|\u001b[34m██████████\u001b[0m| 10/10 [00:58<00:00,  5.84s/it]\u001b[32m [repeated 2x across cluster]\u001b[0m\n"
     ]
    },
    {
     "name": "stdout",
     "output_type": "stream",
     "text": [
      "\u001b[36m(launch_and_fit pid=5143)\u001b[0m save graph in  results/FL/\n",
      "\u001b[36m(launch_and_fit pid=5143)\u001b[0m \tTrain Epoch: 10 \tTrain_loss: 0.7153 | Train_acc: 79.5833 % | Validation_loss: 1.4393 | Validation_acc: 53.4011 %\u001b[32m [repeated 2x across cluster]\u001b[0m\n"
     ]
    },
    {
     "name": "stderr",
     "output_type": "stream",
     "text": [
      "DEBUG flwr 2024-07-20 19:08:45,405 | server.py:236 | fit_round 7 received 10 results and 0 failures\n"
     ]
    },
    {
     "name": "stdout",
     "output_type": "stream",
     "text": [
      "Saving round 7 aggregated_parameters...\n",
      "Updated model\n"
     ]
    },
    {
     "name": "stderr",
     "output_type": "stream",
     "text": [
      "INFO flwr 2024-07-20 19:08:51,298 | server.py:125 | fit progress: (7, 1.2731286890899078, {'accuracy': 57.62460443037975}, 3125.9876152570005)\n",
      "DEBUG flwr 2024-07-20 19:08:51,299 | server.py:173 | evaluate_round 7: strategy sampled 10 clients (out of 10)\n"
     ]
    },
    {
     "name": "stdout",
     "output_type": "stream",
     "text": [
      "Server-side evaluation loss 1.2731286890899078 / accuracy 57.62460443037975\n",
      "\u001b[36m(launch_and_evaluate pid=5225)\u001b[0m Run WITHOUT homomorphic encryption\n",
      "\u001b[36m(launch_and_evaluate pid=5225)\u001b[0m  To get the checkpoint\n",
      "\u001b[36m(launch_and_fit pid=5167)\u001b[0m save graph in  results/FL/\n",
      "\u001b[36m(launch_and_fit pid=5167)\u001b[0m \tTrain Epoch: 10 \tTrain_loss: 0.7369 | Train_acc: 77.0747 % | Validation_loss: 1.2277 | Validation_acc: 55.7449 %\n",
      "\u001b[36m(launch_and_evaluate pid=5225)\u001b[0m [Client 8] evaluate, config: {}\n",
      "\u001b[36m(launch_and_evaluate pid=5225)\u001b[0m Updated model\n",
      "\u001b[36m(launch_and_evaluate pid=5295)\u001b[0m Run WITHOUT homomorphic encryption\u001b[32m [repeated 2x across cluster]\u001b[0m\n",
      "\u001b[36m(launch_and_evaluate pid=5295)\u001b[0m  To get the checkpoint\u001b[32m [repeated 2x across cluster]\u001b[0m\n",
      "\u001b[36m(launch_and_evaluate pid=5249)\u001b[0m [Client 6] evaluate, config: {}\n",
      "\u001b[36m(launch_and_evaluate pid=5249)\u001b[0m Updated model\n",
      "\u001b[36m(launch_and_evaluate pid=5295)\u001b[0m [Client 2] evaluate, config: {}\n",
      "\u001b[36m(launch_and_evaluate pid=5295)\u001b[0m Updated model\n",
      "\u001b[36m(launch_and_evaluate pid=5366)\u001b[0m Run WITHOUT homomorphic encryption\u001b[32m [repeated 2x across cluster]\u001b[0m\n",
      "\u001b[36m(launch_and_evaluate pid=5366)\u001b[0m  To get the checkpoint\u001b[32m [repeated 2x across cluster]\u001b[0m\n",
      "\u001b[36m(launch_and_evaluate pid=5320)\u001b[0m [Client 4] evaluate, config: {}\n",
      "\u001b[36m(launch_and_evaluate pid=5320)\u001b[0m Updated model\n",
      "\u001b[36m(launch_and_evaluate pid=5366)\u001b[0m [Client 7] evaluate, config: {}\n",
      "\u001b[36m(launch_and_evaluate pid=5366)\u001b[0m Updated model\n",
      "\u001b[36m(launch_and_evaluate pid=5436)\u001b[0m Run WITHOUT homomorphic encryption\u001b[32m [repeated 2x across cluster]\u001b[0m\n",
      "\u001b[36m(launch_and_evaluate pid=5436)\u001b[0m  To get the checkpoint\u001b[32m [repeated 2x across cluster]\u001b[0m\n",
      "\u001b[36m(launch_and_evaluate pid=5391)\u001b[0m [Client 9] evaluate, config: {}\n",
      "\u001b[36m(launch_and_evaluate pid=5391)\u001b[0m Updated model\n",
      "\u001b[36m(launch_and_evaluate pid=5436)\u001b[0m [Client 3] evaluate, config: {}\n",
      "\u001b[36m(launch_and_evaluate pid=5436)\u001b[0m Updated model\n",
      "\u001b[36m(launch_and_evaluate pid=5506)\u001b[0m Run WITHOUT homomorphic encryption\u001b[32m [repeated 2x across cluster]\u001b[0m\n",
      "\u001b[36m(launch_and_evaluate pid=5506)\u001b[0m  To get the checkpoint\u001b[32m [repeated 2x across cluster]\u001b[0m\n",
      "\u001b[36m(launch_and_evaluate pid=5461)\u001b[0m [Client 5] evaluate, config: {}\n",
      "\u001b[36m(launch_and_evaluate pid=5461)\u001b[0m Updated model\n",
      "\u001b[36m(launch_and_evaluate pid=5506)\u001b[0m [Client 0] evaluate, config: {}\n",
      "\u001b[36m(launch_and_evaluate pid=5506)\u001b[0m Updated model\n"
     ]
    },
    {
     "name": "stderr",
     "output_type": "stream",
     "text": [
      "DEBUG flwr 2024-07-20 19:10:07,301 | server.py:187 | evaluate_round 7 received 10 results and 0 failures\n",
      "DEBUG flwr 2024-07-20 19:10:07,302 | server.py:222 | fit_round 8: strategy sampled 10 clients (out of 10)\n"
     ]
    },
    {
     "name": "stdout",
     "output_type": "stream",
     "text": [
      "\u001b[36m(launch_and_fit pid=5585)\u001b[0m Run WITHOUT homomorphic encryption\u001b[32m [repeated 2x across cluster]\u001b[0m\n",
      "\u001b[36m(launch_and_fit pid=5585)\u001b[0m  To get the checkpoint\u001b[32m [repeated 2x across cluster]\u001b[0m\n",
      "\u001b[36m(launch_and_evaluate pid=5531)\u001b[0m [Client 1] evaluate, config: {}\n",
      "\u001b[36m(launch_and_evaluate pid=5531)\u001b[0m Updated model\n"
     ]
    },
    {
     "name": "stderr",
     "output_type": "stream",
     "text": [
      "  0%|\u001b[34m          \u001b[0m| 0/10 [00:00<?, ?it/s]\n",
      "100%|\u001b[34m██████████\u001b[0m| 10/10 [00:58<00:00,  5.82s/it]\n"
     ]
    },
    {
     "name": "stdout",
     "output_type": "stream",
     "text": [
      "\u001b[36m(launch_and_fit pid=5585)\u001b[0m [Client 9, round 8] fit, config: {'learning_rate': 0.001, 'batch_size': '128', 'server_round': 8, 'local_epochs': 10}\n",
      "\u001b[36m(launch_and_fit pid=5585)\u001b[0m Updated model\n"
     ]
    },
    {
     "name": "stderr",
     "output_type": "stream",
     "text": [
      " 10%|\u001b[34m█         \u001b[0m| 1/10 [00:06<00:55,  6.21s/it]\n",
      "  0%|\u001b[34m          \u001b[0m| 0/10 [00:00<?, ?it/s]\n"
     ]
    },
    {
     "name": "stdout",
     "output_type": "stream",
     "text": [
      "\u001b[36m(launch_and_fit pid=5585)\u001b[0m \tTrain Epoch: 1 \tTrain_loss: 1.2287 | Train_acc: 57.3481 % | Validation_loss: 1.3494 | Validation_acc: 55.3004 %\n",
      "\u001b[36m(launch_and_fit pid=5609)\u001b[0m Run WITHOUT homomorphic encryption\n",
      "\u001b[36m(launch_and_fit pid=5609)\u001b[0m  To get the checkpoint\n",
      "\u001b[36m(launch_and_fit pid=5609)\u001b[0m [Client 4, round 8] fit, config: {'learning_rate': 0.001, 'batch_size': '128', 'server_round': 8, 'local_epochs': 10}\n",
      "\u001b[36m(launch_and_fit pid=5609)\u001b[0m Updated model\n"
     ]
    },
    {
     "name": "stderr",
     "output_type": "stream",
     "text": [
      " 20%|\u001b[34m██        \u001b[0m| 2/10 [00:11<00:46,  5.84s/it]\u001b[32m [repeated 2x across cluster]\u001b[0m\n"
     ]
    },
    {
     "name": "stdout",
     "output_type": "stream",
     "text": [
      "\u001b[36m(launch_and_fit pid=5585)\u001b[0m \tTrain Epoch: 2 \tTrain_loss: 1.0308 | Train_acc: 65.4297 % | Validation_loss: 1.3554 | Validation_acc: 54.8895 %\u001b[32m [repeated 2x across cluster]\u001b[0m\n"
     ]
    },
    {
     "name": "stderr",
     "output_type": "stream",
     "text": [
      " 30%|\u001b[34m███       \u001b[0m| 3/10 [00:17<00:40,  5.79s/it]\u001b[32m [repeated 2x across cluster]\u001b[0m\n"
     ]
    },
    {
     "name": "stdout",
     "output_type": "stream",
     "text": [
      "\u001b[36m(launch_and_fit pid=5585)\u001b[0m \tTrain Epoch: 3 \tTrain_loss: 0.9408 | Train_acc: 69.2795 % | Validation_loss: 1.3272 | Validation_acc: 59.2268 %\u001b[32m [repeated 2x across cluster]\u001b[0m\n"
     ]
    },
    {
     "name": "stderr",
     "output_type": "stream",
     "text": [
      " 40%|\u001b[34m████      \u001b[0m| 4/10 [00:23<00:34,  5.77s/it]\u001b[32m [repeated 2x across cluster]\u001b[0m\n"
     ]
    },
    {
     "name": "stdout",
     "output_type": "stream",
     "text": [
      "\u001b[36m(launch_and_fit pid=5585)\u001b[0m \tTrain Epoch: 4 \tTrain_loss: 0.8379 | Train_acc: 73.0686 % | Validation_loss: 1.3457 | Validation_acc: 56.8023 %\u001b[32m [repeated 2x across cluster]\u001b[0m\n"
     ]
    },
    {
     "name": "stderr",
     "output_type": "stream",
     "text": [
      " 50%|\u001b[34m█████     \u001b[0m| 5/10 [00:29<00:29,  5.91s/it]\u001b[32m [repeated 2x across cluster]\u001b[0m\n"
     ]
    },
    {
     "name": "stdout",
     "output_type": "stream",
     "text": [
      "\u001b[36m(launch_and_fit pid=5585)\u001b[0m \tTrain Epoch: 5 \tTrain_loss: 0.7828 | Train_acc: 76.0981 % | Validation_loss: 1.3602 | Validation_acc: 57.8192 %\u001b[32m [repeated 2x across cluster]\u001b[0m\n"
     ]
    },
    {
     "name": "stderr",
     "output_type": "stream",
     "text": [
      " 60%|\u001b[34m██████    \u001b[0m| 6/10 [00:35<00:23,  5.97s/it]\u001b[32m [repeated 2x across cluster]\u001b[0m\n"
     ]
    },
    {
     "name": "stdout",
     "output_type": "stream",
     "text": [
      "\u001b[36m(launch_and_fit pid=5585)\u001b[0m \tTrain Epoch: 6 \tTrain_loss: 0.6977 | Train_acc: 79.7786 % | Validation_loss: 1.3624 | Validation_acc: 57.4690 %\u001b[32m [repeated 2x across cluster]\u001b[0m\n"
     ]
    },
    {
     "name": "stderr",
     "output_type": "stream",
     "text": [
      " 70%|\u001b[34m███████   \u001b[0m| 7/10 [00:41<00:17,  5.86s/it]\u001b[32m [repeated 2x across cluster]\u001b[0m\n"
     ]
    },
    {
     "name": "stdout",
     "output_type": "stream",
     "text": [
      "\u001b[36m(launch_and_fit pid=5585)\u001b[0m \tTrain Epoch: 7 \tTrain_loss: 0.6463 | Train_acc: 82.1311 % | Validation_loss: 1.3562 | Validation_acc: 57.1188 %\u001b[32m [repeated 2x across cluster]\u001b[0m\n"
     ]
    },
    {
     "name": "stderr",
     "output_type": "stream",
     "text": [
      " 80%|\u001b[34m████████  \u001b[0m| 8/10 [00:46<00:11,  5.85s/it]\u001b[32m [repeated 2x across cluster]\u001b[0m\n"
     ]
    },
    {
     "name": "stdout",
     "output_type": "stream",
     "text": [
      "\u001b[36m(launch_and_fit pid=5585)\u001b[0m \tTrain Epoch: 8 \tTrain_loss: 0.5968 | Train_acc: 84.3273 % | Validation_loss: 1.3683 | Validation_acc: 56.2365 %\u001b[32m [repeated 2x across cluster]\u001b[0m\n"
     ]
    },
    {
     "name": "stderr",
     "output_type": "stream",
     "text": [
      " 90%|\u001b[34m█████████ \u001b[0m| 9/10 [00:52<00:05,  5.80s/it]\u001b[32m [repeated 2x across cluster]\u001b[0m\n"
     ]
    },
    {
     "name": "stdout",
     "output_type": "stream",
     "text": [
      "\u001b[36m(launch_and_fit pid=5585)\u001b[0m \tTrain Epoch: 9 \tTrain_loss: 0.5689 | Train_acc: 86.2283 % | Validation_loss: 1.4468 | Validation_acc: 55.8257 %\u001b[32m [repeated 2x across cluster]\u001b[0m\n"
     ]
    },
    {
     "name": "stderr",
     "output_type": "stream",
     "text": [
      "100%|\u001b[34m██████████\u001b[0m| 10/10 [00:58<00:00,  5.86s/it]\u001b[32m [repeated 2x across cluster]\u001b[0m\n"
     ]
    },
    {
     "name": "stdout",
     "output_type": "stream",
     "text": [
      "\u001b[36m(launch_and_fit pid=5585)\u001b[0m save graph in  results/FL/\n",
      "\u001b[36m(launch_and_fit pid=5585)\u001b[0m \tTrain Epoch: 10 \tTrain_loss: 0.5292 | Train_acc: 88.0903 % | Validation_loss: 1.3814 | Validation_acc: 57.5835 %\u001b[32m [repeated 2x across cluster]\u001b[0m\n",
      "\u001b[36m(launch_and_fit pid=5659)\u001b[0m Run WITHOUT homomorphic encryption\n",
      "\u001b[36m(launch_and_fit pid=5659)\u001b[0m  To get the checkpoint\n",
      "\u001b[36m(launch_and_fit pid=5609)\u001b[0m save graph in  results/FL/\n",
      "\u001b[36m(launch_and_fit pid=5609)\u001b[0m \tTrain Epoch: 10 \tTrain_loss: 0.5576 | Train_acc: 84.9566 % | Validation_loss: 1.3797 | Validation_acc: 56.3106 %\n"
     ]
    },
    {
     "name": "stderr",
     "output_type": "stream",
     "text": [
      "  0%|\u001b[34m          \u001b[0m| 0/10 [00:00<?, ?it/s]\n",
      "100%|\u001b[34m██████████\u001b[0m| 10/10 [00:58<00:00,  5.87s/it]\n"
     ]
    },
    {
     "name": "stdout",
     "output_type": "stream",
     "text": [
      "\u001b[36m(launch_and_fit pid=5659)\u001b[0m [Client 1, round 8] fit, config: {'learning_rate': 0.001, 'batch_size': '128', 'server_round': 8, 'local_epochs': 10}\n",
      "\u001b[36m(launch_and_fit pid=5659)\u001b[0m Updated model\n"
     ]
    },
    {
     "name": "stderr",
     "output_type": "stream",
     "text": [
      " 10%|\u001b[34m█         \u001b[0m| 1/10 [00:06<00:57,  6.34s/it]\n",
      "  0%|\u001b[34m          \u001b[0m| 0/10 [00:00<?, ?it/s]\n"
     ]
    },
    {
     "name": "stdout",
     "output_type": "stream",
     "text": [
      "\u001b[36m(launch_and_fit pid=5659)\u001b[0m \tTrain Epoch: 1 \tTrain_loss: 1.2318 | Train_acc: 57.4696 % | Validation_loss: 1.3573 | Validation_acc: 54.3979 %\n",
      "\u001b[36m(launch_and_fit pid=5661)\u001b[0m Run WITHOUT homomorphic encryption\n",
      "\u001b[36m(launch_and_fit pid=5661)\u001b[0m  To get the checkpoint\n",
      "\u001b[36m(launch_and_fit pid=5661)\u001b[0m [Client 8, round 8] fit, config: {'learning_rate': 0.001, 'batch_size': '128', 'server_round': 8, 'local_epochs': 10}\n",
      "\u001b[36m(launch_and_fit pid=5661)\u001b[0m Updated model\n"
     ]
    },
    {
     "name": "stderr",
     "output_type": "stream",
     "text": [
      " 20%|\u001b[34m██        \u001b[0m| 2/10 [00:12<00:48,  6.09s/it]\u001b[32m [repeated 2x across cluster]\u001b[0m\n"
     ]
    },
    {
     "name": "stdout",
     "output_type": "stream",
     "text": [
      "\u001b[36m(launch_and_fit pid=5661)\u001b[0m \tTrain Epoch: 2 \tTrain_loss: 1.0458 | Train_acc: 64.6354 % | Validation_loss: 1.3183 | Validation_acc: 55.0242 %\u001b[32m [repeated 2x across cluster]\u001b[0m\n"
     ]
    },
    {
     "name": "stderr",
     "output_type": "stream",
     "text": [
      " 30%|\u001b[34m███       \u001b[0m| 3/10 [00:18<00:42,  6.10s/it]\u001b[32m [repeated 2x across cluster]\u001b[0m\n"
     ]
    },
    {
     "name": "stdout",
     "output_type": "stream",
     "text": [
      "\u001b[36m(launch_and_fit pid=5661)\u001b[0m \tTrain Epoch: 3 \tTrain_loss: 0.9397 | Train_acc: 69.5269 % | Validation_loss: 1.3571 | Validation_acc: 55.0040 %\u001b[32m [repeated 2x across cluster]\u001b[0m\n"
     ]
    },
    {
     "name": "stderr",
     "output_type": "stream",
     "text": [
      " 40%|\u001b[34m████      \u001b[0m| 4/10 [00:24<00:35,  5.98s/it]\u001b[32m [repeated 2x across cluster]\u001b[0m\n"
     ]
    },
    {
     "name": "stdout",
     "output_type": "stream",
     "text": [
      "\u001b[36m(launch_and_fit pid=5659)\u001b[0m \tTrain Epoch: 4 \tTrain_loss: 0.8023 | Train_acc: 74.9957 % | Validation_loss: 1.2663 | Validation_acc: 59.9475 %\u001b[32m [repeated 2x across cluster]\u001b[0m\n"
     ]
    },
    {
     "name": "stderr",
     "output_type": "stream",
     "text": [
      " 50%|\u001b[34m█████     \u001b[0m| 5/10 [00:29<00:29,  5.88s/it]\u001b[32m [repeated 2x across cluster]\u001b[0m\n"
     ]
    },
    {
     "name": "stdout",
     "output_type": "stream",
     "text": [
      "\u001b[36m(launch_and_fit pid=5661)\u001b[0m \tTrain Epoch: 5 \tTrain_loss: 0.7707 | Train_acc: 76.5668 % | Validation_loss: 1.3639 | Validation_acc: 55.2600 %\u001b[32m [repeated 2x across cluster]\u001b[0m\n"
     ]
    },
    {
     "name": "stderr",
     "output_type": "stream",
     "text": [
      " 60%|\u001b[34m██████    \u001b[0m| 6/10 [00:35<00:23,  5.95s/it]\u001b[32m [repeated 2x across cluster]\u001b[0m\n"
     ]
    },
    {
     "name": "stdout",
     "output_type": "stream",
     "text": [
      "\u001b[36m(launch_and_fit pid=5661)\u001b[0m \tTrain Epoch: 6 \tTrain_loss: 0.7016 | Train_acc: 79.3533 % | Validation_loss: 1.3922 | Validation_acc: 54.4989 %\u001b[32m [repeated 2x across cluster]\u001b[0m\n"
     ]
    },
    {
     "name": "stderr",
     "output_type": "stream",
     "text": [
      " 70%|\u001b[34m███████   \u001b[0m| 7/10 [00:41<00:17,  5.92s/it]\u001b[32m [repeated 2x across cluster]\u001b[0m\n"
     ]
    },
    {
     "name": "stdout",
     "output_type": "stream",
     "text": [
      "\u001b[36m(launch_and_fit pid=5661)\u001b[0m \tTrain Epoch: 7 \tTrain_loss: 0.6583 | Train_acc: 81.3628 % | Validation_loss: 1.3899 | Validation_acc: 53.6975 %\u001b[32m [repeated 2x across cluster]\u001b[0m\n"
     ]
    },
    {
     "name": "stderr",
     "output_type": "stream",
     "text": [
      " 80%|\u001b[34m████████  \u001b[0m| 8/10 [00:47<00:11,  5.90s/it]\u001b[32m [repeated 2x across cluster]\u001b[0m\n"
     ]
    },
    {
     "name": "stdout",
     "output_type": "stream",
     "text": [
      "\u001b[36m(launch_and_fit pid=5661)\u001b[0m \tTrain Epoch: 8 \tTrain_loss: 0.6364 | Train_acc: 81.4800 % | Validation_loss: 1.3524 | Validation_acc: 56.4925 %\u001b[32m [repeated 2x across cluster]\u001b[0m\n"
     ]
    },
    {
     "name": "stderr",
     "output_type": "stream",
     "text": [
      " 90%|\u001b[34m█████████ \u001b[0m| 9/10 [00:53<00:05,  5.93s/it]\u001b[32m [repeated 2x across cluster]\u001b[0m\n"
     ]
    },
    {
     "name": "stdout",
     "output_type": "stream",
     "text": [
      "\u001b[36m(launch_and_fit pid=5661)\u001b[0m \tTrain Epoch: 9 \tTrain_loss: 0.5828 | Train_acc: 83.6936 % | Validation_loss: 1.4005 | Validation_acc: 54.4989 %\u001b[32m [repeated 2x across cluster]\u001b[0m\n"
     ]
    },
    {
     "name": "stderr",
     "output_type": "stream",
     "text": [
      "100%|\u001b[34m██████████\u001b[0m| 10/10 [00:59<00:00,  5.93s/it]\u001b[32m [repeated 2x across cluster]\u001b[0m\n"
     ]
    },
    {
     "name": "stdout",
     "output_type": "stream",
     "text": [
      "\u001b[36m(launch_and_fit pid=5661)\u001b[0m save graph in  results/FL/\n",
      "\u001b[36m(launch_and_fit pid=5661)\u001b[0m \tTrain Epoch: 10 \tTrain_loss: 0.5475 | Train_acc: 85.7509 % | Validation_loss: 1.4347 | Validation_acc: 56.6070 %\u001b[32m [repeated 2x across cluster]\u001b[0m\n",
      "\u001b[36m(launch_and_fit pid=5734)\u001b[0m Run WITHOUT homomorphic encryption\n",
      "\u001b[36m(launch_and_fit pid=5734)\u001b[0m  To get the checkpoint\n",
      "\u001b[36m(launch_and_fit pid=5659)\u001b[0m save graph in  results/FL/\n",
      "\u001b[36m(launch_and_fit pid=5659)\u001b[0m \tTrain Epoch: 10 \tTrain_loss: 0.5338 | Train_acc: 86.8750 % | Validation_loss: 1.2801 | Validation_acc: 62.0420 %\n"
     ]
    },
    {
     "name": "stderr",
     "output_type": "stream",
     "text": [
      "  0%|\u001b[34m          \u001b[0m| 0/10 [00:00<?, ?it/s]\n",
      "100%|\u001b[34m██████████\u001b[0m| 10/10 [00:59<00:00,  5.98s/it]\n"
     ]
    },
    {
     "name": "stdout",
     "output_type": "stream",
     "text": [
      "\u001b[36m(launch_and_fit pid=5734)\u001b[0m [Client 5, round 8] fit, config: {'learning_rate': 0.001, 'batch_size': '128', 'server_round': 8, 'local_epochs': 10}\n",
      "\u001b[36m(launch_and_fit pid=5734)\u001b[0m Updated model\n"
     ]
    },
    {
     "name": "stderr",
     "output_type": "stream",
     "text": [
      " 10%|\u001b[34m█         \u001b[0m| 1/10 [00:06<00:57,  6.44s/it]\n",
      "  0%|\u001b[34m          \u001b[0m| 0/10 [00:00<?, ?it/s]\n"
     ]
    },
    {
     "name": "stdout",
     "output_type": "stream",
     "text": [
      "\u001b[36m(launch_and_fit pid=5734)\u001b[0m \tTrain Epoch: 1 \tTrain_loss: 1.1991 | Train_acc: 58.7977 % | Validation_loss: 1.2382 | Validation_acc: 60.1226 %\n",
      "\u001b[36m(launch_and_fit pid=5736)\u001b[0m Run WITHOUT homomorphic encryption\n",
      "\u001b[36m(launch_and_fit pid=5736)\u001b[0m  To get the checkpoint\n",
      "\u001b[36m(launch_and_fit pid=5736)\u001b[0m [Client 0, round 8] fit, config: {'learning_rate': 0.001, 'batch_size': '128', 'server_round': 8, 'local_epochs': 10}\n",
      "\u001b[36m(launch_and_fit pid=5736)\u001b[0m Updated model\n"
     ]
    },
    {
     "name": "stderr",
     "output_type": "stream",
     "text": [
      " 20%|\u001b[34m██        \u001b[0m| 2/10 [00:12<00:49,  6.15s/it]\u001b[32m [repeated 2x across cluster]\u001b[0m\n"
     ]
    },
    {
     "name": "stdout",
     "output_type": "stream",
     "text": [
      "\u001b[36m(launch_and_fit pid=5734)\u001b[0m \tTrain Epoch: 2 \tTrain_loss: 1.0466 | Train_acc: 63.7283 % | Validation_loss: 1.2252 | Validation_acc: 58.5803 %\u001b[32m [repeated 2x across cluster]\u001b[0m\n"
     ]
    },
    {
     "name": "stderr",
     "output_type": "stream",
     "text": [
      " 30%|\u001b[34m███       \u001b[0m| 3/10 [00:18<00:41,  5.94s/it]\u001b[32m [repeated 2x across cluster]\u001b[0m\n"
     ]
    },
    {
     "name": "stdout",
     "output_type": "stream",
     "text": [
      "\u001b[36m(launch_and_fit pid=5734)\u001b[0m \tTrain Epoch: 3 \tTrain_loss: 0.9006 | Train_acc: 71.6753 % | Validation_loss: 1.3032 | Validation_acc: 56.1759 %\u001b[32m [repeated 2x across cluster]\u001b[0m\n"
     ]
    },
    {
     "name": "stderr",
     "output_type": "stream",
     "text": [
      " 40%|\u001b[34m████      \u001b[0m| 4/10 [00:23<00:35,  5.90s/it]\u001b[32m [repeated 2x across cluster]\u001b[0m\n"
     ]
    },
    {
     "name": "stdout",
     "output_type": "stream",
     "text": [
      "\u001b[36m(launch_and_fit pid=5734)\u001b[0m \tTrain Epoch: 4 \tTrain_loss: 0.8230 | Train_acc: 74.1884 % | Validation_loss: 1.2925 | Validation_acc: 57.5431 %\u001b[32m [repeated 2x across cluster]\u001b[0m\n"
     ]
    },
    {
     "name": "stderr",
     "output_type": "stream",
     "text": [
      " 50%|\u001b[34m█████     \u001b[0m| 5/10 [00:29<00:29,  5.81s/it]\u001b[32m [repeated 2x across cluster]\u001b[0m\n"
     ]
    },
    {
     "name": "stdout",
     "output_type": "stream",
     "text": [
      "\u001b[36m(launch_and_fit pid=5734)\u001b[0m \tTrain Epoch: 5 \tTrain_loss: 0.7510 | Train_acc: 77.5477 % | Validation_loss: 1.3027 | Validation_acc: 57.8933 %\u001b[32m [repeated 2x across cluster]\u001b[0m\n"
     ]
    },
    {
     "name": "stderr",
     "output_type": "stream",
     "text": [
      " 60%|\u001b[34m██████    \u001b[0m| 6/10 [00:35<00:23,  5.93s/it]\u001b[32m [repeated 2x across cluster]\u001b[0m\n"
     ]
    },
    {
     "name": "stdout",
     "output_type": "stream",
     "text": [
      "\u001b[36m(launch_and_fit pid=5734)\u001b[0m \tTrain Epoch: 6 \tTrain_loss: 0.6723 | Train_acc: 80.6858 % | Validation_loss: 1.2884 | Validation_acc: 57.0919 %\u001b[32m [repeated 2x across cluster]\u001b[0m\n"
     ]
    },
    {
     "name": "stderr",
     "output_type": "stream",
     "text": [
      " 70%|\u001b[34m███████   \u001b[0m| 7/10 [00:42<00:18,  6.07s/it]\u001b[32m [repeated 2x across cluster]\u001b[0m\n"
     ]
    },
    {
     "name": "stdout",
     "output_type": "stream",
     "text": [
      "\u001b[36m(launch_and_fit pid=5734)\u001b[0m \tTrain Epoch: 7 \tTrain_loss: 0.6645 | Train_acc: 80.9679 % | Validation_loss: 1.3294 | Validation_acc: 55.5698 %\u001b[32m [repeated 2x across cluster]\u001b[0m\n"
     ]
    },
    {
     "name": "stderr",
     "output_type": "stream",
     "text": [
      " 80%|\u001b[34m████████  \u001b[0m| 8/10 [00:48<00:12,  6.03s/it]\u001b[32m [repeated 2x across cluster]\u001b[0m\n"
     ]
    },
    {
     "name": "stdout",
     "output_type": "stream",
     "text": [
      "\u001b[36m(launch_and_fit pid=5734)\u001b[0m \tTrain Epoch: 8 \tTrain_loss: 0.5973 | Train_acc: 83.7413 % | Validation_loss: 1.2681 | Validation_acc: 57.8731 %\u001b[32m [repeated 2x across cluster]\u001b[0m\n"
     ]
    },
    {
     "name": "stderr",
     "output_type": "stream",
     "text": [
      " 90%|\u001b[34m█████████ \u001b[0m| 9/10 [00:53<00:05,  5.94s/it]\u001b[32m [repeated 2x across cluster]\u001b[0m\n"
     ]
    },
    {
     "name": "stdout",
     "output_type": "stream",
     "text": [
      "\u001b[36m(launch_and_fit pid=5734)\u001b[0m \tTrain Epoch: 9 \tTrain_loss: 0.5644 | Train_acc: 85.6163 % | Validation_loss: 1.2934 | Validation_acc: 57.1929 %\u001b[32m [repeated 2x across cluster]\u001b[0m\n"
     ]
    },
    {
     "name": "stderr",
     "output_type": "stream",
     "text": [
      "100%|\u001b[34m██████████\u001b[0m| 10/10 [00:59<00:00,  5.94s/it]\u001b[32m [repeated 2x across cluster]\u001b[0m\n"
     ]
    },
    {
     "name": "stdout",
     "output_type": "stream",
     "text": [
      "\u001b[36m(launch_and_fit pid=5734)\u001b[0m save graph in  results/FL/\n",
      "\u001b[36m(launch_and_fit pid=5734)\u001b[0m \tTrain Epoch: 10 \tTrain_loss: 0.5192 | Train_acc: 87.4132 % | Validation_loss: 1.3221 | Validation_acc: 57.5229 %\u001b[32m [repeated 2x across cluster]\u001b[0m\n",
      "\u001b[36m(launch_and_fit pid=5808)\u001b[0m Run WITHOUT homomorphic encryption\n",
      "\u001b[36m(launch_and_fit pid=5808)\u001b[0m  To get the checkpoint\n",
      "\u001b[36m(launch_and_fit pid=5736)\u001b[0m save graph in  results/FL/\n",
      "\u001b[36m(launch_and_fit pid=5736)\u001b[0m \tTrain Epoch: 10 \tTrain_loss: 0.5257 | Train_acc: 86.7535 % | Validation_loss: 1.1594 | Validation_acc: 63.4698 %\n"
     ]
    },
    {
     "name": "stderr",
     "output_type": "stream",
     "text": [
      "  0%|\u001b[34m          \u001b[0m| 0/10 [00:00<?, ?it/s]\n",
      "100%|\u001b[34m██████████\u001b[0m| 10/10 [00:58<00:00,  5.89s/it]\n"
     ]
    },
    {
     "name": "stdout",
     "output_type": "stream",
     "text": [
      "\u001b[36m(launch_and_fit pid=5808)\u001b[0m [Client 6, round 8] fit, config: {'learning_rate': 0.001, 'batch_size': '128', 'server_round': 8, 'local_epochs': 10}\n",
      "\u001b[36m(launch_and_fit pid=5808)\u001b[0m Updated model\n"
     ]
    },
    {
     "name": "stderr",
     "output_type": "stream",
     "text": [
      " 10%|\u001b[34m█         \u001b[0m| 1/10 [00:06<00:58,  6.44s/it]\n",
      "  0%|\u001b[34m          \u001b[0m| 0/10 [00:00<?, ?it/s]\n"
     ]
    },
    {
     "name": "stdout",
     "output_type": "stream",
     "text": [
      "\u001b[36m(launch_and_fit pid=5810)\u001b[0m \tTrain Epoch: 1 \tTrain_loss: 1.1976 | Train_acc: 58.9106 % | Validation_loss: 1.3201 | Validation_acc: 53.7513 %\n",
      "\u001b[36m(launch_and_fit pid=5810)\u001b[0m Run WITHOUT homomorphic encryption\n",
      "\u001b[36m(launch_and_fit pid=5810)\u001b[0m  To get the checkpoint\n",
      "\u001b[36m(launch_and_fit pid=5810)\u001b[0m [Client 3, round 8] fit, config: {'learning_rate': 0.001, 'batch_size': '128', 'server_round': 8, 'local_epochs': 10}\n",
      "\u001b[36m(launch_and_fit pid=5810)\u001b[0m Updated model\n"
     ]
    },
    {
     "name": "stderr",
     "output_type": "stream",
     "text": [
      " 20%|\u001b[34m██        \u001b[0m| 2/10 [00:12<00:49,  6.17s/it]\u001b[32m [repeated 2x across cluster]\u001b[0m\n"
     ]
    },
    {
     "name": "stdout",
     "output_type": "stream",
     "text": [
      "\u001b[36m(launch_and_fit pid=5810)\u001b[0m \tTrain Epoch: 2 \tTrain_loss: 1.0177 | Train_acc: 66.2804 % | Validation_loss: 1.2630 | Validation_acc: 58.1897 %\u001b[32m [repeated 2x across cluster]\u001b[0m\n"
     ]
    },
    {
     "name": "stderr",
     "output_type": "stream",
     "text": [
      " 30%|\u001b[34m███       \u001b[0m| 3/10 [00:18<00:41,  5.99s/it]\u001b[32m [repeated 2x across cluster]\u001b[0m\n"
     ]
    },
    {
     "name": "stdout",
     "output_type": "stream",
     "text": [
      "\u001b[36m(launch_and_fit pid=5810)\u001b[0m \tTrain Epoch: 3 \tTrain_loss: 0.9086 | Train_acc: 69.8307 % | Validation_loss: 1.3020 | Validation_acc: 59.8532 %\u001b[32m [repeated 2x across cluster]\u001b[0m\n"
     ]
    },
    {
     "name": "stderr",
     "output_type": "stream",
     "text": [
      " 40%|\u001b[34m████      \u001b[0m| 4/10 [00:23<00:35,  5.88s/it]\u001b[32m [repeated 2x across cluster]\u001b[0m\n"
     ]
    },
    {
     "name": "stdout",
     "output_type": "stream",
     "text": [
      "\u001b[36m(launch_and_fit pid=5810)\u001b[0m \tTrain Epoch: 4 \tTrain_loss: 0.8056 | Train_acc: 74.2361 % | Validation_loss: 1.2829 | Validation_acc: 58.8968 %\u001b[32m [repeated 2x across cluster]\u001b[0m\n"
     ]
    },
    {
     "name": "stderr",
     "output_type": "stream",
     "text": [
      " 50%|\u001b[34m█████     \u001b[0m| 5/10 [00:29<00:28,  5.78s/it]\u001b[32m [repeated 2x across cluster]\u001b[0m\n"
     ]
    },
    {
     "name": "stdout",
     "output_type": "stream",
     "text": [
      "\u001b[36m(launch_and_fit pid=5810)\u001b[0m \tTrain Epoch: 5 \tTrain_loss: 0.7175 | Train_acc: 78.3203 % | Validation_loss: 1.2917 | Validation_acc: 57.0380 %\u001b[32m [repeated 2x across cluster]\u001b[0m\n"
     ]
    },
    {
     "name": "stderr",
     "output_type": "stream",
     "text": [
      " 60%|\u001b[34m██████    \u001b[0m| 6/10 [00:35<00:23,  5.99s/it]\u001b[32m [repeated 2x across cluster]\u001b[0m\n"
     ]
    },
    {
     "name": "stdout",
     "output_type": "stream",
     "text": [
      "\u001b[36m(launch_and_fit pid=5810)\u001b[0m \tTrain Epoch: 6 \tTrain_loss: 0.6691 | Train_acc: 80.5990 % | Validation_loss: 1.2647 | Validation_acc: 60.6950 %\u001b[32m [repeated 2x across cluster]\u001b[0m\n"
     ]
    },
    {
     "name": "stderr",
     "output_type": "stream",
     "text": [
      " 70%|\u001b[34m███████   \u001b[0m| 7/10 [00:41<00:17,  5.99s/it]\u001b[32m [repeated 2x across cluster]\u001b[0m\n"
     ]
    },
    {
     "name": "stdout",
     "output_type": "stream",
     "text": [
      "\u001b[36m(launch_and_fit pid=5810)\u001b[0m \tTrain Epoch: 7 \tTrain_loss: 0.6179 | Train_acc: 83.1771 % | Validation_loss: 1.3169 | Validation_acc: 58.6813 %\u001b[32m [repeated 2x across cluster]\u001b[0m\n"
     ]
    },
    {
     "name": "stderr",
     "output_type": "stream",
     "text": [
      " 80%|\u001b[34m████████  \u001b[0m| 8/10 [00:47<00:11,  5.92s/it]\u001b[32m [repeated 2x across cluster]\u001b[0m\n"
     ]
    },
    {
     "name": "stdout",
     "output_type": "stream",
     "text": [
      "\u001b[36m(launch_and_fit pid=5810)\u001b[0m \tTrain Epoch: 8 \tTrain_loss: 0.5805 | Train_acc: 85.1693 % | Validation_loss: 1.2711 | Validation_acc: 59.2066 %\u001b[32m [repeated 2x across cluster]\u001b[0m\n"
     ]
    },
    {
     "name": "stderr",
     "output_type": "stream",
     "text": [
      " 90%|\u001b[34m█████████ \u001b[0m| 9/10 [00:53<00:05,  5.91s/it]\u001b[32m [repeated 2x across cluster]\u001b[0m\n"
     ]
    },
    {
     "name": "stdout",
     "output_type": "stream",
     "text": [
      "\u001b[36m(launch_and_fit pid=5810)\u001b[0m \tTrain Epoch: 9 \tTrain_loss: 0.5549 | Train_acc: 85.3993 % | Validation_loss: 1.3208 | Validation_acc: 58.2301 %\u001b[32m [repeated 2x across cluster]\u001b[0m\n"
     ]
    },
    {
     "name": "stderr",
     "output_type": "stream",
     "text": [
      "100%|\u001b[34m██████████\u001b[0m| 10/10 [00:59<00:00,  5.92s/it]\u001b[32m [repeated 2x across cluster]\u001b[0m\n"
     ]
    },
    {
     "name": "stdout",
     "output_type": "stream",
     "text": [
      "\u001b[36m(launch_and_fit pid=5810)\u001b[0m save graph in  results/FL/\n",
      "\u001b[36m(launch_and_fit pid=5810)\u001b[0m \tTrain Epoch: 10 \tTrain_loss: 0.5194 | Train_acc: 87.3351 % | Validation_loss: 1.3222 | Validation_acc: 59.4221 %\u001b[32m [repeated 2x across cluster]\u001b[0m\n",
      "\u001b[36m(launch_and_fit pid=5882)\u001b[0m Run WITHOUT homomorphic encryption\n",
      "\u001b[36m(launch_and_fit pid=5882)\u001b[0m  To get the checkpoint\n",
      "\u001b[36m(launch_and_fit pid=5808)\u001b[0m save graph in  results/FL/\n",
      "\u001b[36m(launch_and_fit pid=5808)\u001b[0m \tTrain Epoch: 10 \tTrain_loss: 0.5410 | Train_acc: 86.1892 % | Validation_loss: 1.3139 | Validation_acc: 59.5232 %\n",
      "\u001b[36m(launch_and_fit pid=5882)\u001b[0m [Client 2, round 8] fit, config: {'learning_rate': 0.001, 'batch_size': '128', 'server_round': 8, 'local_epochs': 10}\n",
      "\u001b[36m(launch_and_fit pid=5882)\u001b[0m Updated model\n"
     ]
    },
    {
     "name": "stderr",
     "output_type": "stream",
     "text": [
      "  0%|\u001b[34m          \u001b[0m| 0/10 [00:00<?, ?it/s]\n",
      "100%|\u001b[34m██████████\u001b[0m| 10/10 [00:59<00:00,  5.98s/it]\n"
     ]
    },
    {
     "name": "stdout",
     "output_type": "stream",
     "text": [
      "\u001b[36m(launch_and_fit pid=5882)\u001b[0m \tTrain Epoch: 1 \tTrain_loss: 1.2347 | Train_acc: 58.5417 % | Validation_loss: 1.3230 | Validation_acc: 54.0477 %\n",
      "\u001b[36m(launch_and_fit pid=5907)\u001b[0m Run WITHOUT homomorphic encryption\n",
      "\u001b[36m(launch_and_fit pid=5907)\u001b[0m  To get the checkpoint\n",
      "\u001b[36m(launch_and_fit pid=5907)\u001b[0m [Client 7, round 8] fit, config: {'learning_rate': 0.001, 'batch_size': '128', 'server_round': 8, 'local_epochs': 10}\n",
      "\u001b[36m(launch_and_fit pid=5907)\u001b[0m Updated model\n"
     ]
    },
    {
     "name": "stderr",
     "output_type": "stream",
     "text": [
      " 10%|\u001b[34m█         \u001b[0m| 1/10 [00:06<00:56,  6.24s/it]\n",
      "  0%|\u001b[34m          \u001b[0m| 0/10 [00:00<?, ?it/s]\n"
     ]
    },
    {
     "name": "stdout",
     "output_type": "stream",
     "text": [
      "\u001b[36m(launch_and_fit pid=5882)\u001b[0m \tTrain Epoch: 2 \tTrain_loss: 1.0202 | Train_acc: 66.0590 % | Validation_loss: 1.2400 | Validation_acc: 57.1727 %\u001b[32m [repeated 2x across cluster]\u001b[0m\n"
     ]
    },
    {
     "name": "stderr",
     "output_type": "stream",
     "text": [
      " 20%|\u001b[34m██        \u001b[0m| 2/10 [00:12<00:48,  6.11s/it]\u001b[32m [repeated 2x across cluster]\u001b[0m\n"
     ]
    },
    {
     "name": "stdout",
     "output_type": "stream",
     "text": [
      "\u001b[36m(launch_and_fit pid=5882)\u001b[0m \tTrain Epoch: 3 \tTrain_loss: 0.8834 | Train_acc: 71.5712 % | Validation_loss: 1.2526 | Validation_acc: 58.3244 %\u001b[32m [repeated 2x across cluster]\u001b[0m\n"
     ]
    },
    {
     "name": "stderr",
     "output_type": "stream",
     "text": [
      " 30%|\u001b[34m███       \u001b[0m| 3/10 [00:18<00:41,  5.97s/it]\u001b[32m [repeated 2x across cluster]\u001b[0m\n"
     ]
    },
    {
     "name": "stdout",
     "output_type": "stream",
     "text": [
      "\u001b[36m(launch_and_fit pid=5882)\u001b[0m \tTrain Epoch: 4 \tTrain_loss: 0.7929 | Train_acc: 75.8420 % | Validation_loss: 1.2958 | Validation_acc: 57.5431 %\u001b[32m [repeated 2x across cluster]\u001b[0m\n"
     ]
    },
    {
     "name": "stderr",
     "output_type": "stream",
     "text": [
      " 40%|\u001b[34m████      \u001b[0m| 4/10 [00:24<00:35,  5.98s/it]\u001b[32m [repeated 2x across cluster]\u001b[0m\n"
     ]
    },
    {
     "name": "stdout",
     "output_type": "stream",
     "text": [
      "\u001b[36m(launch_and_fit pid=5882)\u001b[0m \tTrain Epoch: 5 \tTrain_loss: 0.7266 | Train_acc: 78.5547 % | Validation_loss: 1.2836 | Validation_acc: 58.9911 %\u001b[32m [repeated 2x across cluster]\u001b[0m\n"
     ]
    },
    {
     "name": "stderr",
     "output_type": "stream",
     "text": [
      " 50%|\u001b[34m█████     \u001b[0m| 5/10 [00:29<00:29,  5.96s/it]\u001b[32m [repeated 2x across cluster]\u001b[0m\n"
     ]
    },
    {
     "name": "stdout",
     "output_type": "stream",
     "text": [
      "\u001b[36m(launch_and_fit pid=5882)\u001b[0m \tTrain Epoch: 6 \tTrain_loss: 0.6773 | Train_acc: 80.3863 % | Validation_loss: 1.3616 | Validation_acc: 55.9200 %\u001b[32m [repeated 2x across cluster]\u001b[0m\n"
     ]
    },
    {
     "name": "stderr",
     "output_type": "stream",
     "text": [
      " 60%|\u001b[34m██████    \u001b[0m| 6/10 [00:35<00:23,  5.97s/it]\u001b[32m [repeated 2x across cluster]\u001b[0m\n"
     ]
    },
    {
     "name": "stdout",
     "output_type": "stream",
     "text": [
      "\u001b[36m(launch_and_fit pid=5882)\u001b[0m \tTrain Epoch: 7 \tTrain_loss: 0.6310 | Train_acc: 83.1424 % | Validation_loss: 1.3617 | Validation_acc: 58.6948 %\u001b[32m [repeated 2x across cluster]\u001b[0m\n"
     ]
    },
    {
     "name": "stderr",
     "output_type": "stream",
     "text": [
      " 70%|\u001b[34m███████   \u001b[0m| 7/10 [00:41<00:17,  5.96s/it]\u001b[32m [repeated 2x across cluster]\u001b[0m\n"
     ]
    },
    {
     "name": "stdout",
     "output_type": "stream",
     "text": [
      "\u001b[36m(launch_and_fit pid=5882)\u001b[0m \tTrain Epoch: 8 \tTrain_loss: 0.5884 | Train_acc: 84.4097 % | Validation_loss: 1.3434 | Validation_acc: 55.5496 %\u001b[32m [repeated 2x across cluster]\u001b[0m\n"
     ]
    },
    {
     "name": "stderr",
     "output_type": "stream",
     "text": [
      " 80%|\u001b[34m████████  \u001b[0m| 8/10 [00:47<00:11,  5.89s/it]\u001b[32m [repeated 2x across cluster]\u001b[0m\n"
     ]
    },
    {
     "name": "stdout",
     "output_type": "stream",
     "text": [
      "\u001b[36m(launch_and_fit pid=5882)\u001b[0m \tTrain Epoch: 9 \tTrain_loss: 0.5759 | Train_acc: 85.0347 % | Validation_loss: 1.3359 | Validation_acc: 59.2268 %\u001b[32m [repeated 2x across cluster]\u001b[0m\n"
     ]
    },
    {
     "name": "stderr",
     "output_type": "stream",
     "text": [
      " 90%|\u001b[34m█████████ \u001b[0m| 9/10 [00:53<00:05,  5.85s/it]\u001b[32m [repeated 2x across cluster]\u001b[0m\n"
     ]
    },
    {
     "name": "stdout",
     "output_type": "stream",
     "text": [
      "\u001b[36m(launch_and_fit pid=5882)\u001b[0m save graph in  results/FL/\n",
      "\u001b[36m(launch_and_fit pid=5882)\u001b[0m \tTrain Epoch: 10 \tTrain_loss: 0.5405 | Train_acc: 87.3785 % | Validation_loss: 1.3361 | Validation_acc: 58.6409 %\u001b[32m [repeated 2x across cluster]\u001b[0m\n"
     ]
    },
    {
     "name": "stderr",
     "output_type": "stream",
     "text": [
      "100%|\u001b[34m██████████\u001b[0m| 10/10 [00:59<00:00,  5.97s/it]\u001b[32m [repeated 2x across cluster]\u001b[0m\n",
      "DEBUG flwr 2024-07-20 19:16:13,785 | server.py:236 | fit_round 8 received 10 results and 0 failures\n"
     ]
    },
    {
     "name": "stdout",
     "output_type": "stream",
     "text": [
      "Saving round 8 aggregated_parameters...\n",
      "Updated model\n"
     ]
    },
    {
     "name": "stderr",
     "output_type": "stream",
     "text": [
      "INFO flwr 2024-07-20 19:16:19,463 | server.py:125 | fit progress: (8, 1.2171119692959362, {'accuracy': 61.42207278481012}, 3574.152418189)\n",
      "DEBUG flwr 2024-07-20 19:16:19,464 | server.py:173 | evaluate_round 8: strategy sampled 10 clients (out of 10)\n"
     ]
    },
    {
     "name": "stdout",
     "output_type": "stream",
     "text": [
      "Server-side evaluation loss 1.2171119692959362 / accuracy 61.42207278481012\n",
      "\u001b[36m(launch_and_evaluate pid=5965)\u001b[0m Run WITHOUT homomorphic encryption\n",
      "\u001b[36m(launch_and_evaluate pid=5965)\u001b[0m  To get the checkpoint\n",
      "\u001b[36m(launch_and_fit pid=5907)\u001b[0m save graph in  results/FL/\n",
      "\u001b[36m(launch_and_fit pid=5907)\u001b[0m \tTrain Epoch: 10 \tTrain_loss: 0.4966 | Train_acc: 88.5026 % | Validation_loss: 1.1700 | Validation_acc: 62.1430 %\n",
      "\u001b[36m(launch_and_evaluate pid=5965)\u001b[0m [Client 7] evaluate, config: {}\n",
      "\u001b[36m(launch_and_evaluate pid=5965)\u001b[0m Updated model\n",
      "\u001b[36m(launch_and_evaluate pid=6038)\u001b[0m Run WITHOUT homomorphic encryption\u001b[32m [repeated 2x across cluster]\u001b[0m\n",
      "\u001b[36m(launch_and_evaluate pid=6038)\u001b[0m  To get the checkpoint\u001b[32m [repeated 2x across cluster]\u001b[0m\n",
      "\u001b[36m(launch_and_evaluate pid=5966)\u001b[0m [Client 8] evaluate, config: {}\n",
      "\u001b[36m(launch_and_evaluate pid=5966)\u001b[0m Updated model\n",
      "\u001b[36m(launch_and_evaluate pid=6038)\u001b[0m [Client 0] evaluate, config: {}\n",
      "\u001b[36m(launch_and_evaluate pid=6038)\u001b[0m Updated model\n",
      "\u001b[36m(launch_and_evaluate pid=6107)\u001b[0m Run WITHOUT homomorphic encryption\u001b[32m [repeated 2x across cluster]\u001b[0m\n",
      "\u001b[36m(launch_and_evaluate pid=6107)\u001b[0m  To get the checkpoint\u001b[32m [repeated 2x across cluster]\u001b[0m\n",
      "\u001b[36m(launch_and_evaluate pid=6037)\u001b[0m [Client 9] evaluate, config: {}\n",
      "\u001b[36m(launch_and_evaluate pid=6037)\u001b[0m Updated model\n",
      "\u001b[36m(launch_and_evaluate pid=6107)\u001b[0m [Client 6] evaluate, config: {}\n",
      "\u001b[36m(launch_and_evaluate pid=6107)\u001b[0m Updated model\n",
      "\u001b[36m(launch_and_evaluate pid=6177)\u001b[0m Run WITHOUT homomorphic encryption\u001b[32m [repeated 2x across cluster]\u001b[0m\n",
      "\u001b[36m(launch_and_evaluate pid=6177)\u001b[0m  To get the checkpoint\u001b[32m [repeated 2x across cluster]\u001b[0m\n",
      "\u001b[36m(launch_and_evaluate pid=6109)\u001b[0m [Client 3] evaluate, config: {}\n",
      "\u001b[36m(launch_and_evaluate pid=6109)\u001b[0m Updated model\n",
      "\u001b[36m(launch_and_evaluate pid=6177)\u001b[0m [Client 2] evaluate, config: {}\n",
      "\u001b[36m(launch_and_evaluate pid=6177)\u001b[0m Updated model\n",
      "\u001b[36m(launch_and_evaluate pid=6247)\u001b[0m Run WITHOUT homomorphic encryption\u001b[32m [repeated 2x across cluster]\u001b[0m\n",
      "\u001b[36m(launch_and_evaluate pid=6247)\u001b[0m  To get the checkpoint\u001b[32m [repeated 2x across cluster]\u001b[0m\n",
      "\u001b[36m(launch_and_evaluate pid=6179)\u001b[0m [Client 5] evaluate, config: {}\n",
      "\u001b[36m(launch_and_evaluate pid=6179)\u001b[0m Updated model\n",
      "\u001b[36m(launch_and_evaluate pid=6247)\u001b[0m [Client 1] evaluate, config: {}\n",
      "\u001b[36m(launch_and_evaluate pid=6247)\u001b[0m Updated model\n"
     ]
    },
    {
     "name": "stderr",
     "output_type": "stream",
     "text": [
      "DEBUG flwr 2024-07-20 19:17:36,833 | server.py:187 | evaluate_round 8 received 10 results and 0 failures\n",
      "DEBUG flwr 2024-07-20 19:17:36,834 | server.py:222 | fit_round 9: strategy sampled 10 clients (out of 10)\n"
     ]
    },
    {
     "name": "stdout",
     "output_type": "stream",
     "text": [
      "\u001b[36m(launch_and_fit pid=6327)\u001b[0m Run WITHOUT homomorphic encryption\u001b[32m [repeated 2x across cluster]\u001b[0m\n",
      "\u001b[36m(launch_and_fit pid=6327)\u001b[0m  To get the checkpoint\u001b[32m [repeated 2x across cluster]\u001b[0m\n",
      "\u001b[36m(launch_and_evaluate pid=6249)\u001b[0m [Client 4] evaluate, config: {}\n",
      "\u001b[36m(launch_and_evaluate pid=6249)\u001b[0m Updated model\n",
      "\u001b[36m(launch_and_fit pid=6327)\u001b[0m [Client 5, round 9] fit, config: {'learning_rate': 0.001, 'batch_size': '128', 'server_round': 9, 'local_epochs': 10}\n",
      "\u001b[36m(launch_and_fit pid=6327)\u001b[0m Updated model\n"
     ]
    },
    {
     "name": "stderr",
     "output_type": "stream",
     "text": [
      "  0%|\u001b[34m          \u001b[0m| 0/10 [00:00<?, ?it/s]\n",
      "100%|\u001b[34m██████████\u001b[0m| 10/10 [00:59<00:00,  5.92s/it]\n"
     ]
    },
    {
     "name": "stdout",
     "output_type": "stream",
     "text": [
      "\u001b[36m(launch_and_fit pid=6326)\u001b[0m \tTrain Epoch: 1 \tTrain_loss: 1.1005 | Train_acc: 64.5399 % | Validation_loss: 1.3123 | Validation_acc: 56.0008 %\n",
      "\u001b[36m(launch_and_fit pid=6326)\u001b[0m Run WITHOUT homomorphic encryption\n",
      "\u001b[36m(launch_and_fit pid=6326)\u001b[0m  To get the checkpoint\n",
      "\u001b[36m(launch_and_fit pid=6326)\u001b[0m [Client 9, round 9] fit, config: {'learning_rate': 0.001, 'batch_size': '128', 'server_round': 9, 'local_epochs': 10}\n",
      "\u001b[36m(launch_and_fit pid=6326)\u001b[0m Updated model\n"
     ]
    },
    {
     "name": "stderr",
     "output_type": "stream",
     "text": [
      " 10%|\u001b[34m█         \u001b[0m| 1/10 [00:06<00:55,  6.16s/it]\n",
      "  0%|\u001b[34m          \u001b[0m| 0/10 [00:00<?, ?it/s]\n"
     ]
    },
    {
     "name": "stdout",
     "output_type": "stream",
     "text": [
      "\u001b[36m(launch_and_fit pid=6326)\u001b[0m \tTrain Epoch: 2 \tTrain_loss: 0.8711 | Train_acc: 72.5564 % | Validation_loss: 1.2766 | Validation_acc: 60.0283 %\u001b[32m [repeated 2x across cluster]\u001b[0m\n"
     ]
    },
    {
     "name": "stderr",
     "output_type": "stream",
     "text": [
      " 20%|\u001b[34m██        \u001b[0m| 2/10 [00:11<00:47,  5.90s/it]\u001b[32m [repeated 2x across cluster]\u001b[0m\n"
     ]
    },
    {
     "name": "stdout",
     "output_type": "stream",
     "text": [
      "\u001b[36m(launch_and_fit pid=6326)\u001b[0m \tTrain Epoch: 3 \tTrain_loss: 0.7479 | Train_acc: 76.8880 % | Validation_loss: 1.3178 | Validation_acc: 59.3413 %\u001b[32m [repeated 2x across cluster]\u001b[0m\n"
     ]
    },
    {
     "name": "stderr",
     "output_type": "stream",
     "text": [
      " 30%|\u001b[34m███       \u001b[0m| 3/10 [00:18<00:42,  6.08s/it]\u001b[32m [repeated 2x across cluster]\u001b[0m\n"
     ]
    },
    {
     "name": "stdout",
     "output_type": "stream",
     "text": [
      "\u001b[36m(launch_and_fit pid=6326)\u001b[0m \tTrain Epoch: 4 \tTrain_loss: 0.6615 | Train_acc: 81.1545 % | Validation_loss: 1.2814 | Validation_acc: 60.2640 %\u001b[32m [repeated 2x across cluster]\u001b[0m\n"
     ]
    },
    {
     "name": "stderr",
     "output_type": "stream",
     "text": [
      " 40%|\u001b[34m████      \u001b[0m| 4/10 [00:24<00:36,  6.11s/it]\u001b[32m [repeated 2x across cluster]\u001b[0m\n"
     ]
    },
    {
     "name": "stdout",
     "output_type": "stream",
     "text": [
      "\u001b[36m(launch_and_fit pid=6326)\u001b[0m \tTrain Epoch: 5 \tTrain_loss: 0.6012 | Train_acc: 82.7127 % | Validation_loss: 1.3090 | Validation_acc: 58.3850 %\u001b[32m [repeated 2x across cluster]\u001b[0m\n"
     ]
    },
    {
     "name": "stderr",
     "output_type": "stream",
     "text": [
      " 50%|\u001b[34m█████     \u001b[0m| 5/10 [00:30<00:30,  6.03s/it]\u001b[32m [repeated 2x across cluster]\u001b[0m\n"
     ]
    },
    {
     "name": "stdout",
     "output_type": "stream",
     "text": [
      "\u001b[36m(launch_and_fit pid=6326)\u001b[0m \tTrain Epoch: 6 \tTrain_loss: 0.5442 | Train_acc: 85.6684 % | Validation_loss: 1.3905 | Validation_acc: 57.9741 %\u001b[32m [repeated 2x across cluster]\u001b[0m\n"
     ]
    },
    {
     "name": "stderr",
     "output_type": "stream",
     "text": [
      " 60%|\u001b[34m██████    \u001b[0m| 6/10 [00:36<00:24,  6.10s/it]\u001b[32m [repeated 2x across cluster]\u001b[0m\n"
     ]
    },
    {
     "name": "stdout",
     "output_type": "stream",
     "text": [
      "\u001b[36m(launch_and_fit pid=6326)\u001b[0m \tTrain Epoch: 7 \tTrain_loss: 0.4914 | Train_acc: 87.7865 % | Validation_loss: 1.3623 | Validation_acc: 58.3648 %\u001b[32m [repeated 2x across cluster]\u001b[0m\n"
     ]
    },
    {
     "name": "stderr",
     "output_type": "stream",
     "text": [
      " 70%|\u001b[34m███████   \u001b[0m| 7/10 [00:42<00:18,  6.05s/it]\u001b[32m [repeated 2x across cluster]\u001b[0m\n"
     ]
    },
    {
     "name": "stdout",
     "output_type": "stream",
     "text": [
      "\u001b[36m(launch_and_fit pid=6326)\u001b[0m \tTrain Epoch: 8 \tTrain_loss: 0.4590 | Train_acc: 89.4141 % | Validation_loss: 1.3578 | Validation_acc: 58.9911 %\u001b[32m [repeated 2x across cluster]\u001b[0m\n"
     ]
    },
    {
     "name": "stderr",
     "output_type": "stream",
     "text": [
      " 80%|\u001b[34m████████  \u001b[0m| 8/10 [00:48<00:11,  5.99s/it]\u001b[32m [repeated 2x across cluster]\u001b[0m\n"
     ]
    },
    {
     "name": "stdout",
     "output_type": "stream",
     "text": [
      "\u001b[36m(launch_and_fit pid=6326)\u001b[0m \tTrain Epoch: 9 \tTrain_loss: 0.4248 | Train_acc: 90.3342 % | Validation_loss: 1.4038 | Validation_acc: 57.9741 %\u001b[32m [repeated 2x across cluster]\u001b[0m\n"
     ]
    },
    {
     "name": "stderr",
     "output_type": "stream",
     "text": [
      " 90%|\u001b[34m█████████ \u001b[0m| 9/10 [00:54<00:06,  6.11s/it]\u001b[32m [repeated 2x across cluster]\u001b[0m\n"
     ]
    },
    {
     "name": "stdout",
     "output_type": "stream",
     "text": [
      "\u001b[36m(launch_and_fit pid=6326)\u001b[0m save graph in  results/FL/\n",
      "\u001b[36m(launch_and_fit pid=6326)\u001b[0m \tTrain Epoch: 10 \tTrain_loss: 0.4013 | Train_acc: 90.9418 % | Validation_loss: 1.3832 | Validation_acc: 60.2034 %\u001b[32m [repeated 2x across cluster]\u001b[0m\n"
     ]
    },
    {
     "name": "stderr",
     "output_type": "stream",
     "text": [
      "100%|\u001b[34m██████████\u001b[0m| 10/10 [01:00<00:00,  6.04s/it]\u001b[32m [repeated 2x across cluster]\u001b[0m\n"
     ]
    },
    {
     "name": "stdout",
     "output_type": "stream",
     "text": [
      "\u001b[36m(launch_and_fit pid=6402)\u001b[0m Run WITHOUT homomorphic encryption\n",
      "\u001b[36m(launch_and_fit pid=6402)\u001b[0m  To get the checkpoint\n",
      "\u001b[36m(launch_and_fit pid=6327)\u001b[0m save graph in  results/FL/\n",
      "\u001b[36m(launch_and_fit pid=6327)\u001b[0m \tTrain Epoch: 10 \tTrain_loss: 0.3979 | Train_acc: 89.3056 % | Validation_loss: 1.2620 | Validation_acc: 59.4962 %\n",
      "\u001b[36m(launch_and_fit pid=6402)\u001b[0m [Client 3, round 9] fit, config: {'learning_rate': 0.001, 'batch_size': '128', 'server_round': 9, 'local_epochs': 10}\n",
      "\u001b[36m(launch_and_fit pid=6402)\u001b[0m Updated model\n"
     ]
    },
    {
     "name": "stderr",
     "output_type": "stream",
     "text": [
      "  0%|\u001b[34m          \u001b[0m| 0/10 [00:00<?, ?it/s]\n",
      "100%|\u001b[34m██████████\u001b[0m| 10/10 [01:00<00:00,  6.08s/it]\n"
     ]
    },
    {
     "name": "stdout",
     "output_type": "stream",
     "text": [
      "\u001b[36m(launch_and_fit pid=6402)\u001b[0m \tTrain Epoch: 1 \tTrain_loss: 1.0977 | Train_acc: 63.3247 % | Validation_loss: 1.1748 | Validation_acc: 62.4327 %\n",
      "\u001b[36m(launch_and_fit pid=6404)\u001b[0m Run WITHOUT homomorphic encryption\n",
      "\u001b[36m(launch_and_fit pid=6404)\u001b[0m  To get the checkpoint\n",
      "\u001b[36m(launch_and_fit pid=6404)\u001b[0m [Client 6, round 9] fit, config: {'learning_rate': 0.001, 'batch_size': '128', 'server_round': 9, 'local_epochs': 10}\n",
      "\u001b[36m(launch_and_fit pid=6404)\u001b[0m Updated model\n"
     ]
    },
    {
     "name": "stderr",
     "output_type": "stream",
     "text": [
      " 10%|\u001b[34m█         \u001b[0m| 1/10 [00:06<00:58,  6.45s/it]\n",
      "  0%|\u001b[34m          \u001b[0m| 0/10 [00:00<?, ?it/s]\n"
     ]
    },
    {
     "name": "stdout",
     "output_type": "stream",
     "text": [
      "\u001b[36m(launch_and_fit pid=6402)\u001b[0m \tTrain Epoch: 2 \tTrain_loss: 0.8850 | Train_acc: 71.4540 % | Validation_loss: 1.2044 | Validation_acc: 60.4930 %\u001b[32m [repeated 2x across cluster]\u001b[0m\n"
     ]
    },
    {
     "name": "stderr",
     "output_type": "stream",
     "text": [
      " 20%|\u001b[34m██        \u001b[0m| 2/10 [00:12<00:49,  6.14s/it]\u001b[32m [repeated 2x across cluster]\u001b[0m\n"
     ]
    },
    {
     "name": "stdout",
     "output_type": "stream",
     "text": [
      "\u001b[36m(launch_and_fit pid=6402)\u001b[0m \tTrain Epoch: 3 \tTrain_loss: 0.7524 | Train_acc: 76.2023 % | Validation_loss: 1.2273 | Validation_acc: 61.3551 %\u001b[32m [repeated 2x across cluster]\u001b[0m\n"
     ]
    },
    {
     "name": "stderr",
     "output_type": "stream",
     "text": [
      " 30%|\u001b[34m███       \u001b[0m| 3/10 [00:18<00:41,  5.97s/it]\u001b[32m [repeated 2x across cluster]\u001b[0m\n"
     ]
    },
    {
     "name": "stdout",
     "output_type": "stream",
     "text": [
      "\u001b[36m(launch_and_fit pid=6402)\u001b[0m \tTrain Epoch: 4 \tTrain_loss: 0.6433 | Train_acc: 80.2691 % | Validation_loss: 1.2104 | Validation_acc: 59.1325 %\u001b[32m [repeated 2x across cluster]\u001b[0m\n"
     ]
    },
    {
     "name": "stderr",
     "output_type": "stream",
     "text": [
      " 40%|\u001b[34m████      \u001b[0m| 4/10 [00:24<00:35,  5.94s/it]\u001b[32m [repeated 2x across cluster]\u001b[0m\n"
     ]
    },
    {
     "name": "stdout",
     "output_type": "stream",
     "text": [
      "\u001b[36m(launch_and_fit pid=6402)\u001b[0m \tTrain Epoch: 5 \tTrain_loss: 0.5890 | Train_acc: 82.6128 % | Validation_loss: 1.1616 | Validation_acc: 60.8499 %\u001b[32m [repeated 2x across cluster]\u001b[0m\n"
     ]
    },
    {
     "name": "stderr",
     "output_type": "stream",
     "text": [
      " 50%|\u001b[34m█████     \u001b[0m| 5/10 [00:29<00:29,  5.87s/it]\u001b[32m [repeated 2x across cluster]\u001b[0m\n"
     ]
    },
    {
     "name": "stdout",
     "output_type": "stream",
     "text": [
      "\u001b[36m(launch_and_fit pid=6402)\u001b[0m \tTrain Epoch: 6 \tTrain_loss: 0.5267 | Train_acc: 85.6033 % | Validation_loss: 1.2316 | Validation_acc: 60.4593 %\u001b[32m [repeated 2x across cluster]\u001b[0m\n"
     ]
    },
    {
     "name": "stderr",
     "output_type": "stream",
     "text": [
      " 60%|\u001b[34m██████    \u001b[0m| 6/10 [00:35<00:23,  5.99s/it]\u001b[32m [repeated 2x across cluster]\u001b[0m\n"
     ]
    },
    {
     "name": "stdout",
     "output_type": "stream",
     "text": [
      "\u001b[36m(launch_and_fit pid=6402)\u001b[0m \tTrain Epoch: 7 \tTrain_loss: 0.4867 | Train_acc: 87.1354 % | Validation_loss: 1.2225 | Validation_acc: 58.4860 %\u001b[32m [repeated 2x across cluster]\u001b[0m\n"
     ]
    },
    {
     "name": "stderr",
     "output_type": "stream",
     "text": [
      " 70%|\u001b[34m███████   \u001b[0m| 7/10 [00:42<00:18,  6.01s/it]\u001b[32m [repeated 2x across cluster]\u001b[0m\n"
     ]
    },
    {
     "name": "stdout",
     "output_type": "stream",
     "text": [
      "\u001b[36m(launch_and_fit pid=6402)\u001b[0m \tTrain Epoch: 8 \tTrain_loss: 0.4530 | Train_acc: 88.1380 % | Validation_loss: 1.2036 | Validation_acc: 62.2575 %\u001b[32m [repeated 2x across cluster]\u001b[0m\n"
     ]
    },
    {
     "name": "stderr",
     "output_type": "stream",
     "text": [
      " 80%|\u001b[34m████████  \u001b[0m| 8/10 [00:47<00:11,  5.91s/it]\u001b[32m [repeated 2x across cluster]\u001b[0m\n"
     ]
    },
    {
     "name": "stdout",
     "output_type": "stream",
     "text": [
      "\u001b[36m(launch_and_fit pid=6402)\u001b[0m \tTrain Epoch: 9 \tTrain_loss: 0.4241 | Train_acc: 89.7266 % | Validation_loss: 1.2254 | Validation_acc: 60.3987 %\u001b[32m [repeated 2x across cluster]\u001b[0m\n"
     ]
    },
    {
     "name": "stderr",
     "output_type": "stream",
     "text": [
      " 90%|\u001b[34m█████████ \u001b[0m| 9/10 [00:53<00:05,  5.88s/it]\u001b[32m [repeated 2x across cluster]\u001b[0m\n"
     ]
    },
    {
     "name": "stdout",
     "output_type": "stream",
     "text": [
      "\u001b[36m(launch_and_fit pid=6402)\u001b[0m save graph in  results/FL/\n",
      "\u001b[36m(launch_and_fit pid=6402)\u001b[0m \tTrain Epoch: 10 \tTrain_loss: 0.3865 | Train_acc: 91.2240 % | Validation_loss: 1.1851 | Validation_acc: 61.9073 %\u001b[32m [repeated 2x across cluster]\u001b[0m\n"
     ]
    },
    {
     "name": "stderr",
     "output_type": "stream",
     "text": [
      "100%|\u001b[34m██████████\u001b[0m| 10/10 [00:59<00:00,  5.92s/it]\u001b[32m [repeated 2x across cluster]\u001b[0m\n"
     ]
    },
    {
     "name": "stdout",
     "output_type": "stream",
     "text": [
      "\u001b[36m(launch_and_fit pid=6476)\u001b[0m Run WITHOUT homomorphic encryption\n",
      "\u001b[36m(launch_and_fit pid=6476)\u001b[0m  To get the checkpoint\n",
      "\u001b[36m(launch_and_fit pid=6404)\u001b[0m save graph in  results/FL/\n",
      "\u001b[36m(launch_and_fit pid=6404)\u001b[0m \tTrain Epoch: 10 \tTrain_loss: 0.4156 | Train_acc: 89.6745 % | Validation_loss: 1.4078 | Validation_acc: 59.4423 %\n"
     ]
    },
    {
     "name": "stderr",
     "output_type": "stream",
     "text": [
      "  0%|\u001b[34m          \u001b[0m| 0/10 [00:00<?, ?it/s]\n",
      "100%|\u001b[34m██████████\u001b[0m| 10/10 [01:00<00:00,  6.03s/it]\n"
     ]
    },
    {
     "name": "stdout",
     "output_type": "stream",
     "text": [
      "\u001b[36m(launch_and_fit pid=6476)\u001b[0m [Client 8, round 9] fit, config: {'learning_rate': 0.001, 'batch_size': '128', 'server_round': 9, 'local_epochs': 10}\n",
      "\u001b[36m(launch_and_fit pid=6476)\u001b[0m Updated model\n"
     ]
    },
    {
     "name": "stderr",
     "output_type": "stream",
     "text": [
      " 10%|\u001b[34m█         \u001b[0m| 1/10 [00:06<00:57,  6.36s/it]\n",
      "  0%|\u001b[34m          \u001b[0m| 0/10 [00:00<?, ?it/s]\n"
     ]
    },
    {
     "name": "stdout",
     "output_type": "stream",
     "text": [
      "\u001b[36m(launch_and_fit pid=6476)\u001b[0m \tTrain Epoch: 1 \tTrain_loss: 1.1473 | Train_acc: 61.9878 % | Validation_loss: 1.3006 | Validation_acc: 56.3712 %\n",
      "\u001b[36m(launch_and_fit pid=6501)\u001b[0m Run WITHOUT homomorphic encryption\n",
      "\u001b[36m(launch_and_fit pid=6501)\u001b[0m  To get the checkpoint\n",
      "\u001b[36m(launch_and_fit pid=6501)\u001b[0m [Client 0, round 9] fit, config: {'learning_rate': 0.001, 'batch_size': '128', 'server_round': 9, 'local_epochs': 10}\n",
      "\u001b[36m(launch_and_fit pid=6501)\u001b[0m Updated model\n"
     ]
    },
    {
     "name": "stderr",
     "output_type": "stream",
     "text": [
      " 20%|\u001b[34m██        \u001b[0m| 2/10 [00:12<00:48,  6.12s/it]\u001b[32m [repeated 2x across cluster]\u001b[0m\n"
     ]
    },
    {
     "name": "stdout",
     "output_type": "stream",
     "text": [
      "\u001b[36m(launch_and_fit pid=6476)\u001b[0m \tTrain Epoch: 2 \tTrain_loss: 0.9100 | Train_acc: 69.6528 % | Validation_loss: 1.3018 | Validation_acc: 56.9235 %\u001b[32m [repeated 2x across cluster]\u001b[0m\n"
     ]
    },
    {
     "name": "stderr",
     "output_type": "stream",
     "text": [
      " 30%|\u001b[34m███       \u001b[0m| 3/10 [00:18<00:42,  6.04s/it]\u001b[32m [repeated 2x across cluster]\u001b[0m\n"
     ]
    },
    {
     "name": "stdout",
     "output_type": "stream",
     "text": [
      "\u001b[36m(launch_and_fit pid=6476)\u001b[0m \tTrain Epoch: 3 \tTrain_loss: 0.7954 | Train_acc: 74.6788 % | Validation_loss: 1.3112 | Validation_acc: 59.0921 %\u001b[32m [repeated 2x across cluster]\u001b[0m\n"
     ]
    },
    {
     "name": "stderr",
     "output_type": "stream",
     "text": [
      " 40%|\u001b[34m████      \u001b[0m| 4/10 [00:24<00:36,  6.04s/it]\u001b[32m [repeated 2x across cluster]\u001b[0m\n"
     ]
    },
    {
     "name": "stdout",
     "output_type": "stream",
     "text": [
      "\u001b[36m(launch_and_fit pid=6476)\u001b[0m \tTrain Epoch: 4 \tTrain_loss: 0.7125 | Train_acc: 76.9748 % | Validation_loss: 1.3299 | Validation_acc: 57.2131 %\u001b[32m [repeated 2x across cluster]\u001b[0m\n"
     ]
    },
    {
     "name": "stderr",
     "output_type": "stream",
     "text": [
      " 50%|\u001b[34m█████     \u001b[0m| 5/10 [00:30<00:29,  5.93s/it]\u001b[32m [repeated 2x across cluster]\u001b[0m\n"
     ]
    },
    {
     "name": "stdout",
     "output_type": "stream",
     "text": [
      "\u001b[36m(launch_and_fit pid=6476)\u001b[0m \tTrain Epoch: 5 \tTrain_loss: 0.6041 | Train_acc: 82.1137 % | Validation_loss: 1.2872 | Validation_acc: 59.6579 %\u001b[32m [repeated 2x across cluster]\u001b[0m\n"
     ]
    },
    {
     "name": "stderr",
     "output_type": "stream",
     "text": [
      " 60%|\u001b[34m██████    \u001b[0m| 6/10 [00:36<00:24,  6.14s/it]\u001b[32m [repeated 2x across cluster]\u001b[0m\n"
     ]
    },
    {
     "name": "stdout",
     "output_type": "stream",
     "text": [
      "\u001b[36m(launch_and_fit pid=6476)\u001b[0m \tTrain Epoch: 6 \tTrain_loss: 0.5318 | Train_acc: 84.9957 % | Validation_loss: 1.2895 | Validation_acc: 59.0921 %\u001b[32m [repeated 2x across cluster]\u001b[0m\n"
     ]
    },
    {
     "name": "stderr",
     "output_type": "stream",
     "text": [
      " 70%|\u001b[34m███████   \u001b[0m| 7/10 [00:42<00:18,  6.03s/it]\u001b[32m [repeated 2x across cluster]\u001b[0m\n"
     ]
    },
    {
     "name": "stdout",
     "output_type": "stream",
     "text": [
      "\u001b[36m(launch_and_fit pid=6476)\u001b[0m \tTrain Epoch: 7 \tTrain_loss: 0.4768 | Train_acc: 86.3715 % | Validation_loss: 1.3510 | Validation_acc: 57.7788 %\u001b[32m [repeated 2x across cluster]\u001b[0m\n"
     ]
    },
    {
     "name": "stderr",
     "output_type": "stream",
     "text": [
      " 80%|\u001b[34m████████  \u001b[0m| 8/10 [00:48<00:11,  5.97s/it]\u001b[32m [repeated 2x across cluster]\u001b[0m\n"
     ]
    },
    {
     "name": "stdout",
     "output_type": "stream",
     "text": [
      "\u001b[36m(launch_and_fit pid=6476)\u001b[0m \tTrain Epoch: 8 \tTrain_loss: 0.4392 | Train_acc: 88.7283 % | Validation_loss: 1.3573 | Validation_acc: 57.8394 %\u001b[32m [repeated 2x across cluster]\u001b[0m\n"
     ]
    },
    {
     "name": "stderr",
     "output_type": "stream",
     "text": [
      " 90%|\u001b[34m█████████ \u001b[0m| 9/10 [00:54<00:05,  5.92s/it]\u001b[32m [repeated 2x across cluster]\u001b[0m\n"
     ]
    },
    {
     "name": "stdout",
     "output_type": "stream",
     "text": [
      "\u001b[36m(launch_and_fit pid=6476)\u001b[0m \tTrain Epoch: 9 \tTrain_loss: 0.4066 | Train_acc: 90.3776 % | Validation_loss: 1.3428 | Validation_acc: 58.8564 %\u001b[32m [repeated 2x across cluster]\u001b[0m\n"
     ]
    },
    {
     "name": "stderr",
     "output_type": "stream",
     "text": [
      "100%|\u001b[34m██████████\u001b[0m| 10/10 [00:59<00:00,  5.97s/it]\u001b[32m [repeated 2x across cluster]\u001b[0m\n"
     ]
    },
    {
     "name": "stdout",
     "output_type": "stream",
     "text": [
      "\u001b[36m(launch_and_fit pid=6476)\u001b[0m save graph in  results/FL/\n",
      "\u001b[36m(launch_and_fit pid=6476)\u001b[0m \tTrain Epoch: 10 \tTrain_loss: 0.3718 | Train_acc: 91.5929 % | Validation_loss: 1.3658 | Validation_acc: 56.9235 %\u001b[32m [repeated 2x across cluster]\u001b[0m\n",
      "\u001b[36m(launch_and_fit pid=6550)\u001b[0m Run WITHOUT homomorphic encryption\n",
      "\u001b[36m(launch_and_fit pid=6550)\u001b[0m  To get the checkpoint\n",
      "\u001b[36m(launch_and_fit pid=6501)\u001b[0m save graph in  results/FL/\n",
      "\u001b[36m(launch_and_fit pid=6501)\u001b[0m \tTrain Epoch: 10 \tTrain_loss: 0.4039 | Train_acc: 89.1797 % | Validation_loss: 1.1800 | Validation_acc: 63.0994 %\n"
     ]
    },
    {
     "name": "stderr",
     "output_type": "stream",
     "text": [
      "  0%|\u001b[34m          \u001b[0m| 0/10 [00:00<?, ?it/s]\n",
      "100%|\u001b[34m██████████\u001b[0m| 10/10 [00:58<00:00,  5.89s/it]\n"
     ]
    },
    {
     "name": "stdout",
     "output_type": "stream",
     "text": [
      "\u001b[36m(launch_and_fit pid=6550)\u001b[0m [Client 1, round 9] fit, config: {'learning_rate': 0.001, 'batch_size': '128', 'server_round': 9, 'local_epochs': 10}\n",
      "\u001b[36m(launch_and_fit pid=6550)\u001b[0m Updated model\n"
     ]
    },
    {
     "name": "stderr",
     "output_type": "stream",
     "text": [
      " 10%|\u001b[34m█         \u001b[0m| 1/10 [00:06<00:56,  6.26s/it]\n",
      "  0%|\u001b[34m          \u001b[0m| 0/10 [00:00<?, ?it/s]\n"
     ]
    },
    {
     "name": "stdout",
     "output_type": "stream",
     "text": [
      "\u001b[36m(launch_and_fit pid=6550)\u001b[0m \tTrain Epoch: 1 \tTrain_loss: 1.0930 | Train_acc: 64.7309 % | Validation_loss: 1.2350 | Validation_acc: 59.0921 %\n",
      "\u001b[36m(launch_and_fit pid=6575)\u001b[0m Run WITHOUT homomorphic encryption\n",
      "\u001b[36m(launch_and_fit pid=6575)\u001b[0m  To get the checkpoint\n",
      "\u001b[36m(launch_and_fit pid=6575)\u001b[0m [Client 4, round 9] fit, config: {'learning_rate': 0.001, 'batch_size': '128', 'server_round': 9, 'local_epochs': 10}\n",
      "\u001b[36m(launch_and_fit pid=6575)\u001b[0m Updated model\n"
     ]
    },
    {
     "name": "stderr",
     "output_type": "stream",
     "text": [
      " 20%|\u001b[34m██        \u001b[0m| 2/10 [00:12<00:48,  6.02s/it]\u001b[32m [repeated 2x across cluster]\u001b[0m\n"
     ]
    },
    {
     "name": "stdout",
     "output_type": "stream",
     "text": [
      "\u001b[36m(launch_and_fit pid=6550)\u001b[0m \tTrain Epoch: 2 \tTrain_loss: 0.8835 | Train_acc: 71.2717 % | Validation_loss: 1.1974 | Validation_acc: 62.2777 %\u001b[32m [repeated 2x across cluster]\u001b[0m\n"
     ]
    },
    {
     "name": "stderr",
     "output_type": "stream",
     "text": [
      " 30%|\u001b[34m███       \u001b[0m| 3/10 [00:17<00:41,  5.94s/it]\u001b[32m [repeated 2x across cluster]\u001b[0m\n"
     ]
    },
    {
     "name": "stdout",
     "output_type": "stream",
     "text": [
      "\u001b[36m(launch_and_fit pid=6550)\u001b[0m \tTrain Epoch: 3 \tTrain_loss: 0.7233 | Train_acc: 77.2309 % | Validation_loss: 1.2589 | Validation_acc: 58.9709 %\u001b[32m [repeated 2x across cluster]\u001b[0m\n"
     ]
    },
    {
     "name": "stderr",
     "output_type": "stream",
     "text": [
      " 40%|\u001b[34m████      \u001b[0m| 4/10 [00:24<00:36,  6.06s/it]\u001b[32m [repeated 2x across cluster]\u001b[0m\n"
     ]
    },
    {
     "name": "stdout",
     "output_type": "stream",
     "text": [
      "\u001b[36m(launch_and_fit pid=6550)\u001b[0m \tTrain Epoch: 4 \tTrain_loss: 0.6400 | Train_acc: 80.7682 % | Validation_loss: 1.2072 | Validation_acc: 61.6312 %\u001b[32m [repeated 2x across cluster]\u001b[0m\n"
     ]
    },
    {
     "name": "stderr",
     "output_type": "stream",
     "text": [
      " 50%|\u001b[34m█████     \u001b[0m| 5/10 [00:30<00:29,  5.99s/it]\u001b[32m [repeated 2x across cluster]\u001b[0m\n"
     ]
    },
    {
     "name": "stdout",
     "output_type": "stream",
     "text": [
      "\u001b[36m(launch_and_fit pid=6550)\u001b[0m \tTrain Epoch: 5 \tTrain_loss: 0.5760 | Train_acc: 83.1684 % | Validation_loss: 1.2943 | Validation_acc: 59.7522 %\u001b[32m [repeated 2x across cluster]\u001b[0m\n"
     ]
    },
    {
     "name": "stderr",
     "output_type": "stream",
     "text": [
      " 60%|\u001b[34m██████    \u001b[0m| 6/10 [00:36<00:24,  6.04s/it]\u001b[32m [repeated 2x across cluster]\u001b[0m\n"
     ]
    },
    {
     "name": "stdout",
     "output_type": "stream",
     "text": [
      "\u001b[36m(launch_and_fit pid=6550)\u001b[0m \tTrain Epoch: 6 \tTrain_loss: 0.5167 | Train_acc: 85.6293 % | Validation_loss: 1.2298 | Validation_acc: 60.7893 %\u001b[32m [repeated 2x across cluster]\u001b[0m\n"
     ]
    },
    {
     "name": "stderr",
     "output_type": "stream",
     "text": [
      " 70%|\u001b[34m███████   \u001b[0m| 7/10 [00:42<00:17,  5.97s/it]\u001b[32m [repeated 2x across cluster]\u001b[0m\n"
     ]
    },
    {
     "name": "stdout",
     "output_type": "stream",
     "text": [
      "\u001b[36m(launch_and_fit pid=6550)\u001b[0m \tTrain Epoch: 7 \tTrain_loss: 0.4812 | Train_acc: 86.9010 % | Validation_loss: 1.2778 | Validation_acc: 60.0485 %\u001b[32m [repeated 2x across cluster]\u001b[0m\n"
     ]
    },
    {
     "name": "stderr",
     "output_type": "stream",
     "text": [
      " 80%|\u001b[34m████████  \u001b[0m| 8/10 [00:47<00:11,  5.91s/it]\u001b[32m [repeated 2x across cluster]\u001b[0m\n"
     ]
    },
    {
     "name": "stdout",
     "output_type": "stream",
     "text": [
      "\u001b[36m(launch_and_fit pid=6550)\u001b[0m \tTrain Epoch: 8 \tTrain_loss: 0.4435 | Train_acc: 89.1233 % | Validation_loss: 1.2496 | Validation_acc: 61.6110 %\u001b[32m [repeated 2x across cluster]\u001b[0m\n"
     ]
    },
    {
     "name": "stderr",
     "output_type": "stream",
     "text": [
      " 90%|\u001b[34m█████████ \u001b[0m| 9/10 [00:53<00:05,  5.93s/it]\u001b[32m [repeated 2x across cluster]\u001b[0m\n"
     ]
    },
    {
     "name": "stdout",
     "output_type": "stream",
     "text": [
      "\u001b[36m(launch_and_fit pid=6550)\u001b[0m \tTrain Epoch: 9 \tTrain_loss: 0.4096 | Train_acc: 90.3385 % | Validation_loss: 1.2719 | Validation_acc: 61.7120 %\u001b[32m [repeated 2x across cluster]\u001b[0m\n"
     ]
    },
    {
     "name": "stderr",
     "output_type": "stream",
     "text": [
      "100%|\u001b[34m██████████\u001b[0m| 10/10 [00:59<00:00,  5.97s/it]\u001b[32m [repeated 2x across cluster]\u001b[0m\n"
     ]
    },
    {
     "name": "stdout",
     "output_type": "stream",
     "text": [
      "\u001b[36m(launch_and_fit pid=6550)\u001b[0m save graph in  results/FL/\n",
      "\u001b[36m(launch_and_fit pid=6550)\u001b[0m \tTrain Epoch: 10 \tTrain_loss: 0.3987 | Train_acc: 91.2240 % | Validation_loss: 1.2475 | Validation_acc: 60.8297 %\u001b[32m [repeated 2x across cluster]\u001b[0m\n",
      "\u001b[36m(launch_and_fit pid=6625)\u001b[0m Run WITHOUT homomorphic encryption\n",
      "\u001b[36m(launch_and_fit pid=6625)\u001b[0m  To get the checkpoint\n",
      "\u001b[36m(launch_and_fit pid=6575)\u001b[0m save graph in  results/FL/\n",
      "\u001b[36m(launch_and_fit pid=6575)\u001b[0m \tTrain Epoch: 10 \tTrain_loss: 0.3896 | Train_acc: 90.0998 % | Validation_loss: 1.3707 | Validation_acc: 58.0482 %\n",
      "\u001b[36m(launch_and_fit pid=6625)\u001b[0m [Client 7, round 9] fit, config: {'learning_rate': 0.001, 'batch_size': '128', 'server_round': 9, 'local_epochs': 10}\n",
      "\u001b[36m(launch_and_fit pid=6625)\u001b[0m Updated model\n"
     ]
    },
    {
     "name": "stderr",
     "output_type": "stream",
     "text": [
      "  0%|\u001b[34m          \u001b[0m| 0/10 [00:00<?, ?it/s]\n",
      "100%|\u001b[34m██████████\u001b[0m| 10/10 [00:59<00:00,  5.95s/it]\n"
     ]
    },
    {
     "name": "stdout",
     "output_type": "stream",
     "text": [
      "\u001b[36m(launch_and_fit pid=6625)\u001b[0m \tTrain Epoch: 1 \tTrain_loss: 1.0805 | Train_acc: 63.8542 % | Validation_loss: 1.0598 | Validation_acc: 65.6385 %\n",
      "\u001b[36m(launch_and_fit pid=6650)\u001b[0m Run WITHOUT homomorphic encryption\n",
      "\u001b[36m(launch_and_fit pid=6650)\u001b[0m  To get the checkpoint\n",
      "\u001b[36m(launch_and_fit pid=6650)\u001b[0m [Client 2, round 9] fit, config: {'learning_rate': 0.001, 'batch_size': '128', 'server_round': 9, 'local_epochs': 10}\n",
      "\u001b[36m(launch_and_fit pid=6650)\u001b[0m Updated model\n"
     ]
    },
    {
     "name": "stderr",
     "output_type": "stream",
     "text": [
      " 10%|\u001b[34m█         \u001b[0m| 1/10 [00:06<00:58,  6.47s/it]\n",
      "  0%|\u001b[34m          \u001b[0m| 0/10 [00:00<?, ?it/s]\n"
     ]
    },
    {
     "name": "stdout",
     "output_type": "stream",
     "text": [
      "\u001b[36m(launch_and_fit pid=6625)\u001b[0m \tTrain Epoch: 2 \tTrain_loss: 0.8665 | Train_acc: 72.2786 % | Validation_loss: 1.1021 | Validation_acc: 64.3319 %\u001b[32m [repeated 2x across cluster]\u001b[0m\n"
     ]
    },
    {
     "name": "stderr",
     "output_type": "stream",
     "text": [
      " 20%|\u001b[34m██        \u001b[0m| 2/10 [00:12<00:48,  6.10s/it]\u001b[32m [repeated 2x across cluster]\u001b[0m\n"
     ]
    },
    {
     "name": "stdout",
     "output_type": "stream",
     "text": [
      "\u001b[36m(launch_and_fit pid=6625)\u001b[0m \tTrain Epoch: 3 \tTrain_loss: 0.7220 | Train_acc: 77.0703 % | Validation_loss: 1.1373 | Validation_acc: 61.4359 %\u001b[32m [repeated 2x across cluster]\u001b[0m\n"
     ]
    },
    {
     "name": "stderr",
     "output_type": "stream",
     "text": [
      " 30%|\u001b[34m███       \u001b[0m| 3/10 [00:18<00:42,  6.07s/it]\u001b[32m [repeated 2x across cluster]\u001b[0m\n"
     ]
    },
    {
     "name": "stdout",
     "output_type": "stream",
     "text": [
      "\u001b[36m(launch_and_fit pid=6625)\u001b[0m \tTrain Epoch: 4 \tTrain_loss: 0.6323 | Train_acc: 80.6337 % | Validation_loss: 1.1366 | Validation_acc: 61.3416 %\u001b[32m [repeated 2x across cluster]\u001b[0m\n"
     ]
    },
    {
     "name": "stderr",
     "output_type": "stream",
     "text": [
      " 40%|\u001b[34m████      \u001b[0m| 4/10 [00:24<00:35,  5.96s/it]\u001b[32m [repeated 2x across cluster]\u001b[0m\n"
     ]
    },
    {
     "name": "stdout",
     "output_type": "stream",
     "text": [
      "\u001b[36m(launch_and_fit pid=6625)\u001b[0m \tTrain Epoch: 5 \tTrain_loss: 0.5472 | Train_acc: 84.9002 % | Validation_loss: 1.1343 | Validation_acc: 64.2511 %\u001b[32m [repeated 2x across cluster]\u001b[0m\n"
     ]
    },
    {
     "name": "stderr",
     "output_type": "stream",
     "text": [
      " 50%|\u001b[34m█████     \u001b[0m| 5/10 [00:29<00:29,  5.85s/it]\u001b[32m [repeated 2x across cluster]\u001b[0m\n"
     ]
    },
    {
     "name": "stdout",
     "output_type": "stream",
     "text": [
      "\u001b[36m(launch_and_fit pid=6625)\u001b[0m \tTrain Epoch: 6 \tTrain_loss: 0.5052 | Train_acc: 86.3542 % | Validation_loss: 1.1883 | Validation_acc: 62.2373 %\u001b[32m [repeated 2x across cluster]\u001b[0m\n"
     ]
    },
    {
     "name": "stderr",
     "output_type": "stream",
     "text": [
      " 60%|\u001b[34m██████    \u001b[0m| 6/10 [00:35<00:23,  5.93s/it]\u001b[32m [repeated 2x across cluster]\u001b[0m\n"
     ]
    },
    {
     "name": "stdout",
     "output_type": "stream",
     "text": [
      "\u001b[36m(launch_and_fit pid=6625)\u001b[0m \tTrain Epoch: 7 \tTrain_loss: 0.4624 | Train_acc: 88.5634 % | Validation_loss: 1.2010 | Validation_acc: 61.3955 %\u001b[32m [repeated 2x across cluster]\u001b[0m\n"
     ]
    },
    {
     "name": "stderr",
     "output_type": "stream",
     "text": [
      " 70%|\u001b[34m███████   \u001b[0m| 7/10 [00:41<00:17,  5.87s/it]\u001b[32m [repeated 2x across cluster]\u001b[0m\n"
     ]
    },
    {
     "name": "stdout",
     "output_type": "stream",
     "text": [
      "\u001b[36m(launch_and_fit pid=6625)\u001b[0m \tTrain Epoch: 8 \tTrain_loss: 0.4463 | Train_acc: 88.2812 % | Validation_loss: 1.2177 | Validation_acc: 61.8265 %\u001b[32m [repeated 2x across cluster]\u001b[0m\n"
     ]
    },
    {
     "name": "stderr",
     "output_type": "stream",
     "text": [
      " 80%|\u001b[34m████████  \u001b[0m| 8/10 [00:47<00:11,  5.92s/it]\u001b[32m [repeated 2x across cluster]\u001b[0m\n"
     ]
    },
    {
     "name": "stdout",
     "output_type": "stream",
     "text": [
      "\u001b[36m(launch_and_fit pid=6625)\u001b[0m \tTrain Epoch: 9 \tTrain_loss: 0.4035 | Train_acc: 90.2083 % | Validation_loss: 1.1783 | Validation_acc: 62.2980 %\u001b[32m [repeated 2x across cluster]\u001b[0m\n"
     ]
    },
    {
     "name": "stderr",
     "output_type": "stream",
     "text": [
      " 90%|\u001b[34m█████████ \u001b[0m| 9/10 [00:53<00:05,  5.84s/it]\u001b[32m [repeated 2x across cluster]\u001b[0m\n"
     ]
    },
    {
     "name": "stdout",
     "output_type": "stream",
     "text": [
      "\u001b[36m(launch_and_fit pid=6625)\u001b[0m save graph in  results/FL/\n",
      "\u001b[36m(launch_and_fit pid=6625)\u001b[0m \tTrain Epoch: 10 \tTrain_loss: 0.3785 | Train_acc: 91.1936 % | Validation_loss: 1.1754 | Validation_acc: 61.3618 %\u001b[32m [repeated 2x across cluster]\u001b[0m\n"
     ]
    },
    {
     "name": "stderr",
     "output_type": "stream",
     "text": [
      "100%|\u001b[34m██████████\u001b[0m| 10/10 [00:59<00:00,  5.91s/it]\u001b[32m [repeated 2x across cluster]\u001b[0m\n",
      "DEBUG flwr 2024-07-20 19:23:47,832 | server.py:236 | fit_round 9 received 10 results and 0 failures\n"
     ]
    },
    {
     "name": "stdout",
     "output_type": "stream",
     "text": [
      "Saving round 9 aggregated_parameters...\n",
      "Updated model\n"
     ]
    },
    {
     "name": "stderr",
     "output_type": "stream",
     "text": [
      "INFO flwr 2024-07-20 19:23:53,619 | server.py:125 | fit progress: (9, 1.1753115518183648, {'accuracy': 63.5878164556962}, 4028.30848451)\n",
      "DEBUG flwr 2024-07-20 19:23:53,620 | server.py:173 | evaluate_round 9: strategy sampled 10 clients (out of 10)\n"
     ]
    },
    {
     "name": "stdout",
     "output_type": "stream",
     "text": [
      "Server-side evaluation loss 1.1753115518183648 / accuracy 63.5878164556962\n",
      "\u001b[36m(launch_and_evaluate pid=6709)\u001b[0m Run WITHOUT homomorphic encryption\n",
      "\u001b[36m(launch_and_evaluate pid=6709)\u001b[0m  To get the checkpoint\n",
      "\u001b[36m(launch_and_fit pid=6650)\u001b[0m save graph in  results/FL/\n",
      "\u001b[36m(launch_and_fit pid=6650)\u001b[0m \tTrain Epoch: 10 \tTrain_loss: 0.4043 | Train_acc: 91.0069 % | Validation_loss: 1.2880 | Validation_acc: 62.0218 %\n",
      "\u001b[36m(launch_and_evaluate pid=6709)\u001b[0m [Client 4] evaluate, config: {}\n",
      "\u001b[36m(launch_and_evaluate pid=6709)\u001b[0m Updated model\n",
      "\u001b[36m(launch_and_evaluate pid=6779)\u001b[0m Run WITHOUT homomorphic encryption\u001b[32m [repeated 2x across cluster]\u001b[0m\n",
      "\u001b[36m(launch_and_evaluate pid=6779)\u001b[0m  To get the checkpoint\u001b[32m [repeated 2x across cluster]\u001b[0m\n",
      "\u001b[36m(launch_and_evaluate pid=6708)\u001b[0m [Client 7] evaluate, config: {}\n",
      "\u001b[36m(launch_and_evaluate pid=6708)\u001b[0m Updated model\n",
      "\u001b[36m(launch_and_evaluate pid=6779)\u001b[0m [Client 9] evaluate, config: {}\n",
      "\u001b[36m(launch_and_evaluate pid=6779)\u001b[0m Updated model\n",
      "\u001b[36m(launch_and_evaluate pid=6851)\u001b[0m Run WITHOUT homomorphic encryption\u001b[32m [repeated 2x across cluster]\u001b[0m\n",
      "\u001b[36m(launch_and_evaluate pid=6851)\u001b[0m  To get the checkpoint\u001b[32m [repeated 2x across cluster]\u001b[0m\n",
      "\u001b[36m(launch_and_evaluate pid=6781)\u001b[0m [Client 8] evaluate, config: {}\n",
      "\u001b[36m(launch_and_evaluate pid=6781)\u001b[0m Updated model\n",
      "\u001b[36m(launch_and_evaluate pid=6851)\u001b[0m [Client 0] evaluate, config: {}\n",
      "\u001b[36m(launch_and_evaluate pid=6851)\u001b[0m Updated model\n",
      "\u001b[36m(launch_and_evaluate pid=6919)\u001b[0m Run WITHOUT homomorphic encryption\u001b[32m [repeated 2x across cluster]\u001b[0m\n",
      "\u001b[36m(launch_and_evaluate pid=6919)\u001b[0m  To get the checkpoint\u001b[32m [repeated 2x across cluster]\u001b[0m\n",
      "\u001b[36m(launch_and_evaluate pid=6849)\u001b[0m [Client 5] evaluate, config: {}\n",
      "\u001b[36m(launch_and_evaluate pid=6849)\u001b[0m Updated model\n",
      "\u001b[36m(launch_and_evaluate pid=6919)\u001b[0m [Client 3] evaluate, config: {}\n",
      "\u001b[36m(launch_and_evaluate pid=6919)\u001b[0m Updated model\n",
      "\u001b[36m(launch_and_evaluate pid=6989)\u001b[0m Run WITHOUT homomorphic encryption\u001b[32m [repeated 2x across cluster]\u001b[0m\n",
      "\u001b[36m(launch_and_evaluate pid=6989)\u001b[0m  To get the checkpoint\u001b[32m [repeated 2x across cluster]\u001b[0m\n",
      "\u001b[36m(launch_and_evaluate pid=6940)\u001b[0m [Client 1] evaluate, config: {}\n",
      "\u001b[36m(launch_and_evaluate pid=6940)\u001b[0m Updated model\n",
      "\u001b[36m(launch_and_evaluate pid=6989)\u001b[0m [Client 2] evaluate, config: {}\n",
      "\u001b[36m(launch_and_evaluate pid=6989)\u001b[0m Updated model\n"
     ]
    },
    {
     "name": "stderr",
     "output_type": "stream",
     "text": [
      "DEBUG flwr 2024-07-20 19:25:10,988 | server.py:187 | evaluate_round 9 received 10 results and 0 failures\n",
      "DEBUG flwr 2024-07-20 19:25:10,989 | server.py:222 | fit_round 10: strategy sampled 10 clients (out of 10)\n"
     ]
    },
    {
     "name": "stdout",
     "output_type": "stream",
     "text": [
      "\u001b[36m(launch_and_fit pid=7069)\u001b[0m Run WITHOUT homomorphic encryption\u001b[32m [repeated 2x across cluster]\u001b[0m\n",
      "\u001b[36m(launch_and_fit pid=7069)\u001b[0m  To get the checkpoint\u001b[32m [repeated 2x across cluster]\u001b[0m\n",
      "\u001b[36m(launch_and_evaluate pid=7014)\u001b[0m [Client 6] evaluate, config: {}\n",
      "\u001b[36m(launch_and_evaluate pid=7014)\u001b[0m Updated model\n"
     ]
    },
    {
     "name": "stderr",
     "output_type": "stream",
     "text": [
      "  0%|\u001b[34m          \u001b[0m| 0/10 [00:00<?, ?it/s]\n",
      "100%|\u001b[34m██████████\u001b[0m| 10/10 [00:59<00:00,  5.97s/it]\n"
     ]
    },
    {
     "name": "stdout",
     "output_type": "stream",
     "text": [
      "\u001b[36m(launch_and_fit pid=7068)\u001b[0m [Client 2, round 10] fit, config: {'learning_rate': 0.001, 'batch_size': '128', 'server_round': 10, 'local_epochs': 10}\n",
      "\u001b[36m(launch_and_fit pid=7068)\u001b[0m Updated model\n"
     ]
    },
    {
     "name": "stderr",
     "output_type": "stream",
     "text": [
      " 10%|\u001b[34m█         \u001b[0m| 1/10 [00:06<00:58,  6.48s/it]\n",
      "  0%|\u001b[34m          \u001b[0m| 0/10 [00:00<?, ?it/s]\n"
     ]
    },
    {
     "name": "stdout",
     "output_type": "stream",
     "text": [
      "\u001b[36m(launch_and_fit pid=7068)\u001b[0m \tTrain Epoch: 1 \tTrain_loss: 0.9432 | Train_acc: 67.9427 % | Validation_loss: 1.1817 | Validation_acc: 62.3922 %\n",
      "\u001b[36m(launch_and_fit pid=7068)\u001b[0m Run WITHOUT homomorphic encryption\n",
      "\u001b[36m(launch_and_fit pid=7068)\u001b[0m  To get the checkpoint\n",
      "\u001b[36m(launch_and_fit pid=7069)\u001b[0m [Client 0, round 10] fit, config: {'learning_rate': 0.001, 'batch_size': '128', 'server_round': 10, 'local_epochs': 10}\n",
      "\u001b[36m(launch_and_fit pid=7069)\u001b[0m Updated model\n"
     ]
    },
    {
     "name": "stderr",
     "output_type": "stream",
     "text": [
      " 20%|\u001b[34m██        \u001b[0m| 2/10 [00:12<00:48,  6.10s/it]\u001b[32m [repeated 2x across cluster]\u001b[0m\n"
     ]
    },
    {
     "name": "stdout",
     "output_type": "stream",
     "text": [
      "\u001b[36m(launch_and_fit pid=7068)\u001b[0m \tTrain Epoch: 2 \tTrain_loss: 0.7159 | Train_acc: 76.3064 % | Validation_loss: 1.2059 | Validation_acc: 62.9378 %\u001b[32m [repeated 2x across cluster]\u001b[0m\n"
     ]
    },
    {
     "name": "stderr",
     "output_type": "stream",
     "text": [
      " 30%|\u001b[34m███       \u001b[0m| 3/10 [00:18<00:42,  6.02s/it]\u001b[32m [repeated 2x across cluster]\u001b[0m\n"
     ]
    },
    {
     "name": "stdout",
     "output_type": "stream",
     "text": [
      "\u001b[36m(launch_and_fit pid=7068)\u001b[0m \tTrain Epoch: 3 \tTrain_loss: 0.5964 | Train_acc: 81.0503 % | Validation_loss: 1.2526 | Validation_acc: 61.4696 %\u001b[32m [repeated 2x across cluster]\u001b[0m\n"
     ]
    },
    {
     "name": "stderr",
     "output_type": "stream",
     "text": [
      " 40%|\u001b[34m████      \u001b[0m| 4/10 [00:24<00:35,  5.93s/it]\u001b[32m [repeated 2x across cluster]\u001b[0m\n"
     ]
    },
    {
     "name": "stdout",
     "output_type": "stream",
     "text": [
      "\u001b[36m(launch_and_fit pid=7068)\u001b[0m \tTrain Epoch: 4 \tTrain_loss: 0.4890 | Train_acc: 86.0460 % | Validation_loss: 1.2071 | Validation_acc: 61.3753 %\u001b[32m [repeated 2x across cluster]\u001b[0m\n"
     ]
    },
    {
     "name": "stderr",
     "output_type": "stream",
     "text": [
      " 50%|\u001b[34m█████     \u001b[0m| 5/10 [00:29<00:29,  5.94s/it]\u001b[32m [repeated 2x across cluster]\u001b[0m\n"
     ]
    },
    {
     "name": "stdout",
     "output_type": "stream",
     "text": [
      "\u001b[36m(launch_and_fit pid=7068)\u001b[0m \tTrain Epoch: 5 \tTrain_loss: 0.4214 | Train_acc: 87.9644 % | Validation_loss: 1.2394 | Validation_acc: 61.5302 %\u001b[32m [repeated 2x across cluster]\u001b[0m\n"
     ]
    },
    {
     "name": "stderr",
     "output_type": "stream",
     "text": [
      " 60%|\u001b[34m██████    \u001b[0m| 6/10 [00:36<00:23,  6.00s/it]\u001b[32m [repeated 2x across cluster]\u001b[0m\n"
     ]
    },
    {
     "name": "stdout",
     "output_type": "stream",
     "text": [
      "\u001b[36m(launch_and_fit pid=7068)\u001b[0m \tTrain Epoch: 6 \tTrain_loss: 0.3750 | Train_acc: 89.8264 % | Validation_loss: 1.2164 | Validation_acc: 62.1363 %\u001b[32m [repeated 2x across cluster]\u001b[0m\n"
     ]
    },
    {
     "name": "stderr",
     "output_type": "stream",
     "text": [
      " 70%|\u001b[34m███████   \u001b[0m| 7/10 [00:42<00:18,  6.08s/it]\u001b[32m [repeated 2x across cluster]\u001b[0m\n"
     ]
    },
    {
     "name": "stdout",
     "output_type": "stream",
     "text": [
      "\u001b[36m(launch_and_fit pid=7068)\u001b[0m \tTrain Epoch: 7 \tTrain_loss: 0.3417 | Train_acc: 92.1875 % | Validation_loss: 1.2622 | Validation_acc: 61.8602 %\u001b[32m [repeated 2x across cluster]\u001b[0m\n"
     ]
    },
    {
     "name": "stderr",
     "output_type": "stream",
     "text": [
      " 80%|\u001b[34m████████  \u001b[0m| 8/10 [00:47<00:11,  5.93s/it]\u001b[32m [repeated 2x across cluster]\u001b[0m\n"
     ]
    },
    {
     "name": "stdout",
     "output_type": "stream",
     "text": [
      "\u001b[36m(launch_and_fit pid=7068)\u001b[0m \tTrain Epoch: 8 \tTrain_loss: 0.3270 | Train_acc: 91.7925 % | Validation_loss: 1.3305 | Validation_acc: 61.8467 %\u001b[32m [repeated 2x across cluster]\u001b[0m\n"
     ]
    },
    {
     "name": "stderr",
     "output_type": "stream",
     "text": [
      " 90%|\u001b[34m█████████ \u001b[0m| 9/10 [00:53<00:05,  5.93s/it]\u001b[32m [repeated 2x across cluster]\u001b[0m\n"
     ]
    },
    {
     "name": "stdout",
     "output_type": "stream",
     "text": [
      "\u001b[36m(launch_and_fit pid=7068)\u001b[0m \tTrain Epoch: 9 \tTrain_loss: 0.3224 | Train_acc: 92.7778 % | Validation_loss: 1.2506 | Validation_acc: 63.2678 %\u001b[32m [repeated 2x across cluster]\u001b[0m\n"
     ]
    },
    {
     "name": "stderr",
     "output_type": "stream",
     "text": [
      "100%|\u001b[34m██████████\u001b[0m| 10/10 [00:59<00:00,  5.96s/it]\u001b[32m [repeated 2x across cluster]\u001b[0m\n"
     ]
    },
    {
     "name": "stdout",
     "output_type": "stream",
     "text": [
      "\u001b[36m(launch_and_fit pid=7068)\u001b[0m save graph in  results/FL/\n",
      "\u001b[36m(launch_and_fit pid=7068)\u001b[0m \tTrain Epoch: 10 \tTrain_loss: 0.3100 | Train_acc: 92.6562 % | Validation_loss: 1.3324 | Validation_acc: 60.3583 %\u001b[32m [repeated 2x across cluster]\u001b[0m\n",
      "\u001b[36m(launch_and_fit pid=7143)\u001b[0m Run WITHOUT homomorphic encryption\n",
      "\u001b[36m(launch_and_fit pid=7143)\u001b[0m  To get the checkpoint\n",
      "\u001b[36m(launch_and_fit pid=7069)\u001b[0m save graph in  results/FL/\n",
      "\u001b[36m(launch_and_fit pid=7069)\u001b[0m \tTrain Epoch: 10 \tTrain_loss: 0.2618 | Train_acc: 93.9149 % | Validation_loss: 1.2252 | Validation_acc: 61.9410 %\n"
     ]
    },
    {
     "name": "stderr",
     "output_type": "stream",
     "text": [
      "  0%|\u001b[34m          \u001b[0m| 0/10 [00:00<?, ?it/s]\n",
      "100%|\u001b[34m██████████\u001b[0m| 10/10 [01:01<00:00,  6.11s/it]\n"
     ]
    },
    {
     "name": "stdout",
     "output_type": "stream",
     "text": [
      "\u001b[36m(launch_and_fit pid=7143)\u001b[0m [Client 7, round 10] fit, config: {'learning_rate': 0.001, 'batch_size': '128', 'server_round': 10, 'local_epochs': 10}\n",
      "\u001b[36m(launch_and_fit pid=7143)\u001b[0m Updated model\n"
     ]
    },
    {
     "name": "stderr",
     "output_type": "stream",
     "text": [
      " 10%|\u001b[34m█         \u001b[0m| 1/10 [00:06<00:58,  6.48s/it]\n",
      "  0%|\u001b[34m          \u001b[0m| 0/10 [00:00<?, ?it/s]\n"
     ]
    },
    {
     "name": "stdout",
     "output_type": "stream",
     "text": [
      "\u001b[36m(launch_and_fit pid=7143)\u001b[0m \tTrain Epoch: 1 \tTrain_loss: 0.9899 | Train_acc: 68.1163 % | Validation_loss: 1.0395 | Validation_acc: 65.5240 %\n",
      "\u001b[36m(launch_and_fit pid=7168)\u001b[0m Run WITHOUT homomorphic encryption\n",
      "\u001b[36m(launch_and_fit pid=7168)\u001b[0m  To get the checkpoint\n",
      "\u001b[36m(launch_and_fit pid=7168)\u001b[0m [Client 6, round 10] fit, config: {'learning_rate': 0.001, 'batch_size': '128', 'server_round': 10, 'local_epochs': 10}\n",
      "\u001b[36m(launch_and_fit pid=7168)\u001b[0m Updated model\n"
     ]
    },
    {
     "name": "stderr",
     "output_type": "stream",
     "text": [
      " 20%|\u001b[34m██        \u001b[0m| 2/10 [00:12<00:49,  6.22s/it]\u001b[32m [repeated 2x across cluster]\u001b[0m\n"
     ]
    },
    {
     "name": "stdout",
     "output_type": "stream",
     "text": [
      "\u001b[36m(launch_and_fit pid=7143)\u001b[0m \tTrain Epoch: 2 \tTrain_loss: 0.7418 | Train_acc: 76.0851 % | Validation_loss: 1.1053 | Validation_acc: 63.5102 %\u001b[32m [repeated 2x across cluster]\u001b[0m\n"
     ]
    },
    {
     "name": "stderr",
     "output_type": "stream",
     "text": [
      " 30%|\u001b[34m███       \u001b[0m| 3/10 [00:18<00:42,  6.07s/it]\u001b[32m [repeated 2x across cluster]\u001b[0m\n"
     ]
    },
    {
     "name": "stdout",
     "output_type": "stream",
     "text": [
      "\u001b[36m(launch_and_fit pid=7143)\u001b[0m \tTrain Epoch: 3 \tTrain_loss: 0.6165 | Train_acc: 79.5052 % | Validation_loss: 1.0686 | Validation_acc: 65.5442 %\u001b[32m [repeated 2x across cluster]\u001b[0m\n"
     ]
    },
    {
     "name": "stderr",
     "output_type": "stream",
     "text": [
      " 40%|\u001b[34m████      \u001b[0m| 4/10 [00:24<00:35,  5.96s/it]\u001b[32m [repeated 2x across cluster]\u001b[0m\n"
     ]
    },
    {
     "name": "stdout",
     "output_type": "stream",
     "text": [
      "\u001b[36m(launch_and_fit pid=7143)\u001b[0m \tTrain Epoch: 4 \tTrain_loss: 0.5198 | Train_acc: 83.5981 % | Validation_loss: 1.1184 | Validation_acc: 65.9752 %\u001b[32m [repeated 2x across cluster]\u001b[0m\n"
     ]
    },
    {
     "name": "stderr",
     "output_type": "stream",
     "text": [
      " 50%|\u001b[34m█████     \u001b[0m| 5/10 [00:30<00:30,  6.03s/it]\u001b[32m [repeated 2x across cluster]\u001b[0m\n"
     ]
    },
    {
     "name": "stdout",
     "output_type": "stream",
     "text": [
      "\u001b[36m(launch_and_fit pid=7143)\u001b[0m \tTrain Epoch: 5 \tTrain_loss: 0.4445 | Train_acc: 86.6493 % | Validation_loss: 1.1074 | Validation_acc: 62.7694 %\u001b[32m [repeated 2x across cluster]\u001b[0m\n"
     ]
    },
    {
     "name": "stderr",
     "output_type": "stream",
     "text": [
      " 60%|\u001b[34m██████    \u001b[0m| 6/10 [00:36<00:23,  5.94s/it]\u001b[32m [repeated 2x across cluster]\u001b[0m\n"
     ]
    },
    {
     "name": "stdout",
     "output_type": "stream",
     "text": [
      "\u001b[36m(launch_and_fit pid=7143)\u001b[0m \tTrain Epoch: 6 \tTrain_loss: 0.5158 | Train_acc: 84.1189 % | Validation_loss: 1.1445 | Validation_acc: 62.2980 %\u001b[32m [repeated 2x across cluster]\u001b[0m\n"
     ]
    },
    {
     "name": "stderr",
     "output_type": "stream",
     "text": [
      " 70%|\u001b[34m███████   \u001b[0m| 7/10 [00:42<00:17,  5.92s/it]\u001b[32m [repeated 2x across cluster]\u001b[0m\n"
     ]
    },
    {
     "name": "stdout",
     "output_type": "stream",
     "text": [
      "\u001b[36m(launch_and_fit pid=7143)\u001b[0m \tTrain Epoch: 7 \tTrain_loss: 0.3859 | Train_acc: 89.3142 % | Validation_loss: 1.1579 | Validation_acc: 63.3351 %\u001b[32m [repeated 2x across cluster]\u001b[0m\n"
     ]
    },
    {
     "name": "stderr",
     "output_type": "stream",
     "text": [
      " 80%|\u001b[34m████████  \u001b[0m| 8/10 [00:48<00:11,  5.96s/it]\u001b[32m [repeated 2x across cluster]\u001b[0m\n"
     ]
    },
    {
     "name": "stdout",
     "output_type": "stream",
     "text": [
      "\u001b[36m(launch_and_fit pid=7143)\u001b[0m \tTrain Epoch: 8 \tTrain_loss: 0.3313 | Train_acc: 91.1458 % | Validation_loss: 1.1563 | Validation_acc: 63.7662 %\u001b[32m [repeated 2x across cluster]\u001b[0m\n"
     ]
    },
    {
     "name": "stderr",
     "output_type": "stream",
     "text": [
      " 90%|\u001b[34m█████████ \u001b[0m| 9/10 [00:53<00:05,  5.94s/it]\u001b[32m [repeated 2x across cluster]\u001b[0m\n"
     ]
    },
    {
     "name": "stdout",
     "output_type": "stream",
     "text": [
      "\u001b[36m(launch_and_fit pid=7143)\u001b[0m \tTrain Epoch: 9 \tTrain_loss: 0.3001 | Train_acc: 93.2769 % | Validation_loss: 1.1274 | Validation_acc: 63.1196 %\u001b[32m [repeated 2x across cluster]\u001b[0m\n"
     ]
    },
    {
     "name": "stderr",
     "output_type": "stream",
     "text": [
      "100%|\u001b[34m██████████\u001b[0m| 10/10 [00:59<00:00,  6.00s/it]\u001b[32m [repeated 2x across cluster]\u001b[0m\n"
     ]
    },
    {
     "name": "stdout",
     "output_type": "stream",
     "text": [
      "\u001b[36m(launch_and_fit pid=7143)\u001b[0m save graph in  results/FL/\n",
      "\u001b[36m(launch_and_fit pid=7143)\u001b[0m \tTrain Epoch: 10 \tTrain_loss: 0.2779 | Train_acc: 94.0148 % | Validation_loss: 1.1535 | Validation_acc: 63.3351 %\u001b[32m [repeated 2x across cluster]\u001b[0m\n",
      "\u001b[36m(launch_and_fit pid=7220)\u001b[0m Run WITHOUT homomorphic encryption\n",
      "\u001b[36m(launch_and_fit pid=7220)\u001b[0m  To get the checkpoint\n",
      "\u001b[36m(launch_and_fit pid=7168)\u001b[0m save graph in  results/FL/\n",
      "\u001b[36m(launch_and_fit pid=7168)\u001b[0m \tTrain Epoch: 10 \tTrain_loss: 0.3056 | Train_acc: 92.4392 % | Validation_loss: 1.3012 | Validation_acc: 59.9744 %\n"
     ]
    },
    {
     "name": "stderr",
     "output_type": "stream",
     "text": [
      "  0%|\u001b[34m          \u001b[0m| 0/10 [00:00<?, ?it/s]\n",
      "100%|\u001b[34m██████████\u001b[0m| 10/10 [00:59<00:00,  5.91s/it]\n"
     ]
    },
    {
     "name": "stdout",
     "output_type": "stream",
     "text": [
      "\u001b[36m(launch_and_fit pid=7220)\u001b[0m [Client 5, round 10] fit, config: {'learning_rate': 0.001, 'batch_size': '128', 'server_round': 10, 'local_epochs': 10}\n",
      "\u001b[36m(launch_and_fit pid=7220)\u001b[0m Updated model\n"
     ]
    },
    {
     "name": "stderr",
     "output_type": "stream",
     "text": [
      " 10%|\u001b[34m█         \u001b[0m| 1/10 [00:06<00:56,  6.24s/it]\n",
      "  0%|\u001b[34m          \u001b[0m| 0/10 [00:00<?, ?it/s]\n"
     ]
    },
    {
     "name": "stdout",
     "output_type": "stream",
     "text": [
      "\u001b[36m(launch_and_fit pid=7220)\u001b[0m \tTrain Epoch: 1 \tTrain_loss: 0.9833 | Train_acc: 67.2309 % | Validation_loss: 1.2369 | Validation_acc: 58.7352 %\n",
      "\u001b[36m(launch_and_fit pid=7244)\u001b[0m Run WITHOUT homomorphic encryption\n",
      "\u001b[36m(launch_and_fit pid=7244)\u001b[0m  To get the checkpoint\n",
      "\u001b[36m(launch_and_fit pid=7244)\u001b[0m [Client 9, round 10] fit, config: {'learning_rate': 0.001, 'batch_size': '128', 'server_round': 10, 'local_epochs': 10}\n",
      "\u001b[36m(launch_and_fit pid=7244)\u001b[0m Updated model\n"
     ]
    },
    {
     "name": "stderr",
     "output_type": "stream",
     "text": [
      " 20%|\u001b[34m██        \u001b[0m| 2/10 [00:12<00:48,  6.12s/it]\u001b[32m [repeated 2x across cluster]\u001b[0m\n"
     ]
    },
    {
     "name": "stdout",
     "output_type": "stream",
     "text": [
      "\u001b[36m(launch_and_fit pid=7220)\u001b[0m \tTrain Epoch: 2 \tTrain_loss: 0.7405 | Train_acc: 76.0286 % | Validation_loss: 1.1874 | Validation_acc: 61.3685 %\u001b[32m [repeated 2x across cluster]\u001b[0m\n"
     ]
    },
    {
     "name": "stderr",
     "output_type": "stream",
     "text": [
      " 30%|\u001b[34m███       \u001b[0m| 3/10 [00:18<00:42,  6.00s/it]\u001b[32m [repeated 2x across cluster]\u001b[0m\n"
     ]
    },
    {
     "name": "stdout",
     "output_type": "stream",
     "text": [
      "\u001b[36m(launch_and_fit pid=7220)\u001b[0m \tTrain Epoch: 3 \tTrain_loss: 0.6015 | Train_acc: 81.2326 % | Validation_loss: 1.2684 | Validation_acc: 59.2807 %\u001b[32m [repeated 2x across cluster]\u001b[0m\n"
     ]
    },
    {
     "name": "stderr",
     "output_type": "stream",
     "text": [
      " 40%|\u001b[34m████      \u001b[0m| 4/10 [00:23<00:35,  5.89s/it]\u001b[32m [repeated 2x across cluster]\u001b[0m\n"
     ]
    },
    {
     "name": "stdout",
     "output_type": "stream",
     "text": [
      "\u001b[36m(launch_and_fit pid=7220)\u001b[0m \tTrain Epoch: 4 \tTrain_loss: 0.5005 | Train_acc: 84.6398 % | Validation_loss: 1.2164 | Validation_acc: 61.7996 %\u001b[32m [repeated 2x across cluster]\u001b[0m\n"
     ]
    },
    {
     "name": "stderr",
     "output_type": "stream",
     "text": [
      " 50%|\u001b[34m█████     \u001b[0m| 5/10 [00:29<00:29,  5.89s/it]\u001b[32m [repeated 2x across cluster]\u001b[0m\n"
     ]
    },
    {
     "name": "stdout",
     "output_type": "stream",
     "text": [
      "\u001b[36m(launch_and_fit pid=7220)\u001b[0m \tTrain Epoch: 5 \tTrain_loss: 0.4468 | Train_acc: 86.5582 % | Validation_loss: 1.2526 | Validation_acc: 61.0385 %\u001b[32m [repeated 2x across cluster]\u001b[0m\n"
     ]
    },
    {
     "name": "stderr",
     "output_type": "stream",
     "text": [
      " 60%|\u001b[34m██████    \u001b[0m| 6/10 [00:35<00:23,  5.97s/it]\u001b[32m [repeated 2x across cluster]\u001b[0m\n"
     ]
    },
    {
     "name": "stdout",
     "output_type": "stream",
     "text": [
      "\u001b[36m(launch_and_fit pid=7220)\u001b[0m \tTrain Epoch: 6 \tTrain_loss: 0.3991 | Train_acc: 87.9861 % | Validation_loss: 1.2058 | Validation_acc: 62.9378 %\u001b[32m [repeated 2x across cluster]\u001b[0m\n"
     ]
    },
    {
     "name": "stderr",
     "output_type": "stream",
     "text": [
      " 70%|\u001b[34m███████   \u001b[0m| 7/10 [00:41<00:17,  5.90s/it]\u001b[32m [repeated 2x across cluster]\u001b[0m\n"
     ]
    },
    {
     "name": "stdout",
     "output_type": "stream",
     "text": [
      "\u001b[36m(launch_and_fit pid=7220)\u001b[0m \tTrain Epoch: 7 \tTrain_loss: 0.4166 | Train_acc: 87.7778 % | Validation_loss: 1.2686 | Validation_acc: 62.7223 %\u001b[32m [repeated 2x across cluster]\u001b[0m\n"
     ]
    },
    {
     "name": "stderr",
     "output_type": "stream",
     "text": [
      " 80%|\u001b[34m████████  \u001b[0m| 8/10 [00:47<00:11,  5.96s/it]\u001b[32m [repeated 2x across cluster]\u001b[0m\n"
     ]
    },
    {
     "name": "stdout",
     "output_type": "stream",
     "text": [
      "\u001b[36m(launch_and_fit pid=7220)\u001b[0m \tTrain Epoch: 8 \tTrain_loss: 0.3782 | Train_acc: 89.3142 % | Validation_loss: 1.2516 | Validation_acc: 60.1226 %\u001b[32m [repeated 2x across cluster]\u001b[0m\n"
     ]
    },
    {
     "name": "stderr",
     "output_type": "stream",
     "text": [
      " 90%|\u001b[34m█████████ \u001b[0m| 9/10 [00:53<00:06,  6.01s/it]\u001b[32m [repeated 2x across cluster]\u001b[0m\n"
     ]
    },
    {
     "name": "stdout",
     "output_type": "stream",
     "text": [
      "\u001b[36m(launch_and_fit pid=7220)\u001b[0m \tTrain Epoch: 9 \tTrain_loss: 0.3255 | Train_acc: 90.4036 % | Validation_loss: 1.1763 | Validation_acc: 62.4461 %\u001b[32m [repeated 2x across cluster]\u001b[0m\n"
     ]
    },
    {
     "name": "stderr",
     "output_type": "stream",
     "text": [
      "100%|\u001b[34m██████████\u001b[0m| 10/10 [00:59<00:00,  5.97s/it]\u001b[32m [repeated 2x across cluster]\u001b[0m\n"
     ]
    },
    {
     "name": "stdout",
     "output_type": "stream",
     "text": [
      "\u001b[36m(launch_and_fit pid=7220)\u001b[0m save graph in  results/FL/\n",
      "\u001b[36m(launch_and_fit pid=7220)\u001b[0m \tTrain Epoch: 10 \tTrain_loss: 0.2940 | Train_acc: 91.7014 % | Validation_loss: 1.1735 | Validation_acc: 63.5035 %\u001b[32m [repeated 2x across cluster]\u001b[0m\n",
      "\u001b[36m(launch_and_fit pid=7293)\u001b[0m Run WITHOUT homomorphic encryption\n",
      "\u001b[36m(launch_and_fit pid=7293)\u001b[0m  To get the checkpoint\n",
      "\u001b[36m(launch_and_fit pid=7244)\u001b[0m save graph in  results/FL/\n",
      "\u001b[36m(launch_and_fit pid=7244)\u001b[0m \tTrain Epoch: 10 \tTrain_loss: 0.2902 | Train_acc: 93.7326 % | Validation_loss: 1.3135 | Validation_acc: 60.6546 %\n",
      "\u001b[36m(launch_and_fit pid=7293)\u001b[0m [Client 8, round 10] fit, config: {'learning_rate': 0.001, 'batch_size': '128', 'server_round': 10, 'local_epochs': 10}\n",
      "\u001b[36m(launch_and_fit pid=7293)\u001b[0m Updated model\n"
     ]
    },
    {
     "name": "stderr",
     "output_type": "stream",
     "text": [
      "  0%|\u001b[34m          \u001b[0m| 0/10 [00:00<?, ?it/s]\n",
      "100%|\u001b[34m██████████\u001b[0m| 10/10 [01:00<00:00,  6.05s/it]\n"
     ]
    },
    {
     "name": "stdout",
     "output_type": "stream",
     "text": [
      "\u001b[36m(launch_and_fit pid=7293)\u001b[0m \tTrain Epoch: 1 \tTrain_loss: 1.0129 | Train_acc: 66.5278 % | Validation_loss: 1.2284 | Validation_acc: 57.4488 %\n",
      "\u001b[36m(launch_and_fit pid=7318)\u001b[0m Run WITHOUT homomorphic encryption\n",
      "\u001b[36m(launch_and_fit pid=7318)\u001b[0m  To get the checkpoint\n",
      "\u001b[36m(launch_and_fit pid=7318)\u001b[0m [Client 3, round 10] fit, config: {'learning_rate': 0.001, 'batch_size': '128', 'server_round': 10, 'local_epochs': 10}\n",
      "\u001b[36m(launch_and_fit pid=7318)\u001b[0m Updated model\n"
     ]
    },
    {
     "name": "stderr",
     "output_type": "stream",
     "text": [
      " 10%|\u001b[34m█         \u001b[0m| 1/10 [00:06<00:56,  6.30s/it]\n",
      "  0%|\u001b[34m          \u001b[0m| 0/10 [00:00<?, ?it/s]\n"
     ]
    },
    {
     "name": "stdout",
     "output_type": "stream",
     "text": [
      "\u001b[36m(launch_and_fit pid=7293)\u001b[0m \tTrain Epoch: 2 \tTrain_loss: 0.7372 | Train_acc: 76.2543 % | Validation_loss: 1.2406 | Validation_acc: 59.4626 %\u001b[32m [repeated 2x across cluster]\u001b[0m\n"
     ]
    },
    {
     "name": "stderr",
     "output_type": "stream",
     "text": [
      " 20%|\u001b[34m██        \u001b[0m| 2/10 [00:12<00:49,  6.22s/it]\u001b[32m [repeated 2x across cluster]\u001b[0m\n"
     ]
    },
    {
     "name": "stdout",
     "output_type": "stream",
     "text": [
      "\u001b[36m(launch_and_fit pid=7293)\u001b[0m \tTrain Epoch: 3 \tTrain_loss: 0.6141 | Train_acc: 79.9045 % | Validation_loss: 1.3252 | Validation_acc: 56.5463 %\u001b[32m [repeated 2x across cluster]\u001b[0m\n"
     ]
    },
    {
     "name": "stderr",
     "output_type": "stream",
     "text": [
      " 30%|\u001b[34m███       \u001b[0m| 3/10 [00:18<00:42,  6.05s/it]\u001b[32m [repeated 2x across cluster]\u001b[0m\n"
     ]
    },
    {
     "name": "stdout",
     "output_type": "stream",
     "text": [
      "\u001b[36m(launch_and_fit pid=7293)\u001b[0m \tTrain Epoch: 4 \tTrain_loss: 0.5818 | Train_acc: 81.0330 % | Validation_loss: 1.3032 | Validation_acc: 57.6239 %\u001b[32m [repeated 2x across cluster]\u001b[0m\n"
     ]
    },
    {
     "name": "stderr",
     "output_type": "stream",
     "text": [
      " 40%|\u001b[34m████      \u001b[0m| 4/10 [00:24<00:35,  5.96s/it]\u001b[32m [repeated 2x across cluster]\u001b[0m\n"
     ]
    },
    {
     "name": "stdout",
     "output_type": "stream",
     "text": [
      "\u001b[36m(launch_and_fit pid=7293)\u001b[0m \tTrain Epoch: 5 \tTrain_loss: 0.5024 | Train_acc: 84.0234 % | Validation_loss: 1.3519 | Validation_acc: 58.5601 %\u001b[32m [repeated 2x across cluster]\u001b[0m\n"
     ]
    },
    {
     "name": "stderr",
     "output_type": "stream",
     "text": [
      " 50%|\u001b[34m█████     \u001b[0m| 5/10 [00:29<00:29,  5.80s/it]\u001b[32m [repeated 2x across cluster]\u001b[0m\n"
     ]
    },
    {
     "name": "stdout",
     "output_type": "stream",
     "text": [
      "\u001b[36m(launch_and_fit pid=7293)\u001b[0m \tTrain Epoch: 6 \tTrain_loss: 0.4385 | Train_acc: 86.5148 % | Validation_loss: 1.3255 | Validation_acc: 57.6441 %\u001b[32m [repeated 2x across cluster]\u001b[0m\n"
     ]
    },
    {
     "name": "stderr",
     "output_type": "stream",
     "text": [
      " 60%|\u001b[34m██████    \u001b[0m| 6/10 [00:35<00:23,  5.89s/it]\u001b[32m [repeated 2x across cluster]\u001b[0m\n"
     ]
    },
    {
     "name": "stdout",
     "output_type": "stream",
     "text": [
      "\u001b[36m(launch_and_fit pid=7293)\u001b[0m \tTrain Epoch: 7 \tTrain_loss: 0.3720 | Train_acc: 89.1970 % | Validation_loss: 1.4433 | Validation_acc: 55.7651 %\u001b[32m [repeated 2x across cluster]\u001b[0m\n"
     ]
    },
    {
     "name": "stderr",
     "output_type": "stream",
     "text": [
      " 70%|\u001b[34m███████   \u001b[0m| 7/10 [00:41<00:17,  5.96s/it]\u001b[32m [repeated 2x across cluster]\u001b[0m\n"
     ]
    },
    {
     "name": "stdout",
     "output_type": "stream",
     "text": [
      "\u001b[36m(launch_and_fit pid=7293)\u001b[0m \tTrain Epoch: 8 \tTrain_loss: 0.3253 | Train_acc: 91.2587 % | Validation_loss: 1.3697 | Validation_acc: 56.7416 %\u001b[32m [repeated 2x across cluster]\u001b[0m\n"
     ]
    },
    {
     "name": "stderr",
     "output_type": "stream",
     "text": [
      " 80%|\u001b[34m████████  \u001b[0m| 8/10 [00:47<00:11,  5.94s/it]\u001b[32m [repeated 2x across cluster]\u001b[0m\n"
     ]
    },
    {
     "name": "stdout",
     "output_type": "stream",
     "text": [
      "\u001b[36m(launch_and_fit pid=7293)\u001b[0m \tTrain Epoch: 9 \tTrain_loss: 0.2985 | Train_acc: 92.3090 % | Validation_loss: 1.3820 | Validation_acc: 56.9370 %\u001b[32m [repeated 2x across cluster]\u001b[0m\n"
     ]
    },
    {
     "name": "stderr",
     "output_type": "stream",
     "text": [
      " 90%|\u001b[34m█████████ \u001b[0m| 9/10 [00:53<00:05,  5.84s/it]\u001b[32m [repeated 2x across cluster]\u001b[0m\n"
     ]
    },
    {
     "name": "stdout",
     "output_type": "stream",
     "text": [
      "\u001b[36m(launch_and_fit pid=7293)\u001b[0m save graph in  results/FL/\n",
      "\u001b[36m(launch_and_fit pid=7293)\u001b[0m \tTrain Epoch: 10 \tTrain_loss: 0.2725 | Train_acc: 93.1554 % | Validation_loss: 1.4089 | Validation_acc: 56.9976 %\u001b[32m [repeated 2x across cluster]\u001b[0m\n"
     ]
    },
    {
     "name": "stderr",
     "output_type": "stream",
     "text": [
      "100%|\u001b[34m██████████\u001b[0m| 10/10 [00:59<00:00,  5.91s/it]\u001b[32m [repeated 2x across cluster]\u001b[0m\n"
     ]
    },
    {
     "name": "stdout",
     "output_type": "stream",
     "text": [
      "\u001b[36m(launch_and_fit pid=7367)\u001b[0m Run WITHOUT homomorphic encryption\n",
      "\u001b[36m(launch_and_fit pid=7367)\u001b[0m  To get the checkpoint\n",
      "\u001b[36m(launch_and_fit pid=7318)\u001b[0m save graph in  results/FL/\n",
      "\u001b[36m(launch_and_fit pid=7318)\u001b[0m \tTrain Epoch: 10 \tTrain_loss: 0.2841 | Train_acc: 92.9470 % | Validation_loss: 1.1827 | Validation_acc: 63.8807 %\n"
     ]
    },
    {
     "name": "stderr",
     "output_type": "stream",
     "text": [
      "  0%|\u001b[34m          \u001b[0m| 0/10 [00:00<?, ?it/s]\n",
      "100%|\u001b[34m██████████\u001b[0m| 10/10 [00:59<00:00,  5.93s/it]\n"
     ]
    },
    {
     "name": "stdout",
     "output_type": "stream",
     "text": [
      "\u001b[36m(launch_and_fit pid=7367)\u001b[0m [Client 1, round 10] fit, config: {'learning_rate': 0.001, 'batch_size': '128', 'server_round': 10, 'local_epochs': 10}\n",
      "\u001b[36m(launch_and_fit pid=7367)\u001b[0m Updated model\n"
     ]
    },
    {
     "name": "stderr",
     "output_type": "stream",
     "text": [
      " 10%|\u001b[34m█         \u001b[0m| 1/10 [00:06<00:59,  6.56s/it]\n",
      "  0%|\u001b[34m          \u001b[0m| 0/10 [00:00<?, ?it/s]\n"
     ]
    },
    {
     "name": "stdout",
     "output_type": "stream",
     "text": [
      "\u001b[36m(launch_and_fit pid=7367)\u001b[0m \tTrain Epoch: 1 \tTrain_loss: 1.0100 | Train_acc: 66.2674 % | Validation_loss: 1.1495 | Validation_acc: 62.9782 %\n",
      "\u001b[36m(launch_and_fit pid=7392)\u001b[0m Run WITHOUT homomorphic encryption\n",
      "\u001b[36m(launch_and_fit pid=7392)\u001b[0m  To get the checkpoint\n",
      "\u001b[36m(launch_and_fit pid=7392)\u001b[0m [Client 4, round 10] fit, config: {'learning_rate': 0.001, 'batch_size': '128', 'server_round': 10, 'local_epochs': 10}\n",
      "\u001b[36m(launch_and_fit pid=7392)\u001b[0m Updated model\n"
     ]
    },
    {
     "name": "stderr",
     "output_type": "stream",
     "text": [
      " 20%|\u001b[34m██        \u001b[0m| 2/10 [00:12<00:49,  6.13s/it]\u001b[32m [repeated 2x across cluster]\u001b[0m\n"
     ]
    },
    {
     "name": "stdout",
     "output_type": "stream",
     "text": [
      "\u001b[36m(launch_and_fit pid=7367)\u001b[0m \tTrain Epoch: 2 \tTrain_loss: 0.7485 | Train_acc: 75.1823 % | Validation_loss: 1.1049 | Validation_acc: 62.4529 %\u001b[32m [repeated 2x across cluster]\u001b[0m\n"
     ]
    },
    {
     "name": "stderr",
     "output_type": "stream",
     "text": [
      " 30%|\u001b[34m███       \u001b[0m| 3/10 [00:18<00:41,  5.94s/it]\u001b[32m [repeated 2x across cluster]\u001b[0m\n"
     ]
    },
    {
     "name": "stdout",
     "output_type": "stream",
     "text": [
      "\u001b[36m(launch_and_fit pid=7367)\u001b[0m \tTrain Epoch: 3 \tTrain_loss: 0.6025 | Train_acc: 80.4948 % | Validation_loss: 1.1722 | Validation_acc: 62.8637 %\u001b[32m [repeated 2x across cluster]\u001b[0m\n"
     ]
    },
    {
     "name": "stderr",
     "output_type": "stream",
     "text": [
      " 40%|\u001b[34m████      \u001b[0m| 4/10 [00:24<00:35,  5.93s/it]\u001b[32m [repeated 2x across cluster]\u001b[0m\n"
     ]
    },
    {
     "name": "stdout",
     "output_type": "stream",
     "text": [
      "\u001b[36m(launch_and_fit pid=7367)\u001b[0m \tTrain Epoch: 4 \tTrain_loss: 0.5392 | Train_acc: 83.3420 % | Validation_loss: 1.1725 | Validation_acc: 62.8839 %\u001b[32m [repeated 2x across cluster]\u001b[0m\n"
     ]
    },
    {
     "name": "stderr",
     "output_type": "stream",
     "text": [
      " 50%|\u001b[34m█████     \u001b[0m| 5/10 [00:29<00:29,  5.81s/it]\u001b[32m [repeated 2x across cluster]\u001b[0m\n"
     ]
    },
    {
     "name": "stdout",
     "output_type": "stream",
     "text": [
      "\u001b[36m(launch_and_fit pid=7367)\u001b[0m \tTrain Epoch: 5 \tTrain_loss: 0.4556 | Train_acc: 85.7595 % | Validation_loss: 1.1829 | Validation_acc: 62.9378 %\u001b[32m [repeated 2x across cluster]\u001b[0m\n"
     ]
    },
    {
     "name": "stderr",
     "output_type": "stream",
     "text": [
      " 60%|\u001b[34m██████    \u001b[0m| 6/10 [00:35<00:23,  5.98s/it]\u001b[32m [repeated 2x across cluster]\u001b[0m\n"
     ]
    },
    {
     "name": "stdout",
     "output_type": "stream",
     "text": [
      "\u001b[36m(launch_and_fit pid=7367)\u001b[0m \tTrain Epoch: 6 \tTrain_loss: 0.4051 | Train_acc: 88.1380 % | Validation_loss: 1.2125 | Validation_acc: 64.2511 %\u001b[32m [repeated 2x across cluster]\u001b[0m\n"
     ]
    },
    {
     "name": "stderr",
     "output_type": "stream",
     "text": [
      " 70%|\u001b[34m███████   \u001b[0m| 7/10 [00:41<00:17,  5.90s/it]\u001b[32m [repeated 2x across cluster]\u001b[0m\n"
     ]
    },
    {
     "name": "stdout",
     "output_type": "stream",
     "text": [
      "\u001b[36m(launch_and_fit pid=7367)\u001b[0m \tTrain Epoch: 7 \tTrain_loss: 0.3716 | Train_acc: 89.8568 % | Validation_loss: 1.1838 | Validation_acc: 62.8839 %\u001b[32m [repeated 2x across cluster]\u001b[0m\n"
     ]
    },
    {
     "name": "stderr",
     "output_type": "stream",
     "text": [
      " 80%|\u001b[34m████████  \u001b[0m| 8/10 [00:47<00:11,  5.86s/it]\u001b[32m [repeated 2x across cluster]\u001b[0m\n"
     ]
    },
    {
     "name": "stdout",
     "output_type": "stream",
     "text": [
      "\u001b[36m(launch_and_fit pid=7367)\u001b[0m \tTrain Epoch: 8 \tTrain_loss: 0.3310 | Train_acc: 91.0634 % | Validation_loss: 1.2646 | Validation_acc: 61.4157 %\u001b[32m [repeated 2x across cluster]\u001b[0m\n"
     ]
    },
    {
     "name": "stderr",
     "output_type": "stream",
     "text": [
      " 90%|\u001b[34m█████████ \u001b[0m| 9/10 [00:53<00:05,  5.82s/it]\u001b[32m [repeated 2x across cluster]\u001b[0m\n"
     ]
    },
    {
     "name": "stdout",
     "output_type": "stream",
     "text": [
      "\u001b[36m(launch_and_fit pid=7367)\u001b[0m \tTrain Epoch: 9 \tTrain_loss: 0.3260 | Train_acc: 91.7405 % | Validation_loss: 1.2506 | Validation_acc: 62.2373 %\u001b[32m [repeated 2x across cluster]\u001b[0m\n"
     ]
    },
    {
     "name": "stderr",
     "output_type": "stream",
     "text": [
      "100%|\u001b[34m██████████\u001b[0m| 10/10 [00:59<00:00,  5.90s/it]\u001b[32m [repeated 2x across cluster]\u001b[0m\n"
     ]
    },
    {
     "name": "stdout",
     "output_type": "stream",
     "text": [
      "\u001b[36m(launch_and_fit pid=7367)\u001b[0m save graph in  results/FL/\n",
      "\u001b[36m(launch_and_fit pid=7367)\u001b[0m \tTrain Epoch: 10 \tTrain_loss: 0.2912 | Train_acc: 93.2769 % | Validation_loss: 1.2474 | Validation_acc: 63.5304 %\u001b[32m [repeated 2x across cluster]\u001b[0m\n"
     ]
    },
    {
     "name": "stderr",
     "output_type": "stream",
     "text": [
      "DEBUG flwr 2024-07-20 19:31:21,661 | server.py:236 | fit_round 10 received 10 results and 0 failures\n"
     ]
    },
    {
     "name": "stdout",
     "output_type": "stream",
     "text": [
      "Saving round 10 aggregated_parameters...\n",
      "Updated model\n"
     ]
    },
    {
     "name": "stderr",
     "output_type": "stream",
     "text": [
      "INFO flwr 2024-07-20 19:31:27,447 | server.py:125 | fit progress: (10, 1.1437229129332531, {'accuracy': 65.71400316455697}, 4482.137051078)\n",
      "DEBUG flwr 2024-07-20 19:31:27,448 | server.py:173 | evaluate_round 10: strategy sampled 10 clients (out of 10)\n"
     ]
    },
    {
     "name": "stdout",
     "output_type": "stream",
     "text": [
      "Server-side evaluation loss 1.1437229129332531 / accuracy 65.71400316455697\n",
      "\u001b[36m(launch_and_evaluate pid=7451)\u001b[0m Run WITHOUT homomorphic encryption\n",
      "\u001b[36m(launch_and_evaluate pid=7451)\u001b[0m  To get the checkpoint\n",
      "\u001b[36m(launch_and_fit pid=7392)\u001b[0m save graph in  results/FL/\n",
      "\u001b[36m(launch_and_fit pid=7392)\u001b[0m \tTrain Epoch: 10 \tTrain_loss: 0.2737 | Train_acc: 93.7717 % | Validation_loss: 1.3034 | Validation_acc: 62.3518 %\n",
      "\u001b[36m(launch_and_evaluate pid=7451)\u001b[0m [Client 8] evaluate, config: {}\n",
      "\u001b[36m(launch_and_evaluate pid=7451)\u001b[0m Updated model\n",
      "\u001b[36m(launch_and_evaluate pid=7520)\u001b[0m Run WITHOUT homomorphic encryption\u001b[32m [repeated 2x across cluster]\u001b[0m\n",
      "\u001b[36m(launch_and_evaluate pid=7520)\u001b[0m  To get the checkpoint\u001b[32m [repeated 2x across cluster]\u001b[0m\n",
      "\u001b[36m(launch_and_evaluate pid=7450)\u001b[0m [Client 1] evaluate, config: {}\n",
      "\u001b[36m(launch_and_evaluate pid=7450)\u001b[0m Updated model\n",
      "\u001b[36m(launch_and_evaluate pid=7520)\u001b[0m [Client 4] evaluate, config: {}\n",
      "\u001b[36m(launch_and_evaluate pid=7520)\u001b[0m Updated model\n",
      "\u001b[36m(launch_and_evaluate pid=7590)\u001b[0m Run WITHOUT homomorphic encryption\u001b[32m [repeated 2x across cluster]\u001b[0m\n",
      "\u001b[36m(launch_and_evaluate pid=7590)\u001b[0m  To get the checkpoint\u001b[32m [repeated 2x across cluster]\u001b[0m\n",
      "\u001b[36m(launch_and_evaluate pid=7522)\u001b[0m [Client 6] evaluate, config: {}\n",
      "\u001b[36m(launch_and_evaluate pid=7522)\u001b[0m Updated model\n",
      "\u001b[36m(launch_and_evaluate pid=7590)\u001b[0m [Client 9] evaluate, config: {}\n",
      "\u001b[36m(launch_and_evaluate pid=7590)\u001b[0m Updated model\n",
      "\u001b[36m(launch_and_evaluate pid=7660)\u001b[0m Run WITHOUT homomorphic encryption\u001b[32m [repeated 2x across cluster]\u001b[0m\n",
      "\u001b[36m(launch_and_evaluate pid=7660)\u001b[0m  To get the checkpoint\u001b[32m [repeated 2x across cluster]\u001b[0m\n",
      "\u001b[36m(launch_and_evaluate pid=7615)\u001b[0m [Client 3] evaluate, config: {}\n",
      "\u001b[36m(launch_and_evaluate pid=7615)\u001b[0m Updated model\n",
      "\u001b[36m(launch_and_evaluate pid=7660)\u001b[0m [Client 0] evaluate, config: {}\n",
      "\u001b[36m(launch_and_evaluate pid=7660)\u001b[0m Updated model\n",
      "\u001b[36m(launch_and_evaluate pid=7730)\u001b[0m Run WITHOUT homomorphic encryption\u001b[32m [repeated 2x across cluster]\u001b[0m\n",
      "\u001b[36m(launch_and_evaluate pid=7730)\u001b[0m  To get the checkpoint\u001b[32m [repeated 2x across cluster]\u001b[0m\n",
      "\u001b[36m(launch_and_evaluate pid=7685)\u001b[0m [Client 7] evaluate, config: {}\n",
      "\u001b[36m(launch_and_evaluate pid=7685)\u001b[0m Updated model\n",
      "\u001b[36m(launch_and_evaluate pid=7730)\u001b[0m [Client 2] evaluate, config: {}\n",
      "\u001b[36m(launch_and_evaluate pid=7730)\u001b[0m Updated model\n"
     ]
    },
    {
     "name": "stderr",
     "output_type": "stream",
     "text": [
      "DEBUG flwr 2024-07-20 19:32:43,810 | server.py:187 | evaluate_round 10 received 10 results and 0 failures\n",
      "DEBUG flwr 2024-07-20 19:32:43,811 | server.py:222 | fit_round 11: strategy sampled 10 clients (out of 10)\n"
     ]
    },
    {
     "name": "stdout",
     "output_type": "stream",
     "text": [
      "\u001b[36m(launch_and_fit pid=7810)\u001b[0m Run WITHOUT homomorphic encryption\u001b[32m [repeated 2x across cluster]\u001b[0m\n",
      "\u001b[36m(launch_and_fit pid=7810)\u001b[0m  To get the checkpoint\u001b[32m [repeated 2x across cluster]\u001b[0m\n",
      "\u001b[36m(launch_and_evaluate pid=7755)\u001b[0m [Client 5] evaluate, config: {}\n",
      "\u001b[36m(launch_and_evaluate pid=7755)\u001b[0m Updated model\n"
     ]
    },
    {
     "name": "stderr",
     "output_type": "stream",
     "text": [
      "  0%|\u001b[34m          \u001b[0m| 0/10 [00:00<?, ?it/s]\n",
      "100%|\u001b[34m██████████\u001b[0m| 10/10 [00:59<00:00,  5.91s/it]\n"
     ]
    },
    {
     "name": "stdout",
     "output_type": "stream",
     "text": [
      "\u001b[36m(launch_and_fit pid=7810)\u001b[0m [Client 8, round 11] fit, config: {'learning_rate': 0.001, 'batch_size': '128', 'server_round': 11, 'local_epochs': 10}\n",
      "\u001b[36m(launch_and_fit pid=7810)\u001b[0m Updated model\n"
     ]
    },
    {
     "name": "stderr",
     "output_type": "stream",
     "text": [
      " 10%|\u001b[34m█         \u001b[0m| 1/10 [00:06<00:57,  6.44s/it]\n",
      "  0%|\u001b[34m          \u001b[0m| 0/10 [00:00<?, ?it/s]\n"
     ]
    },
    {
     "name": "stdout",
     "output_type": "stream",
     "text": [
      "\u001b[36m(launch_and_fit pid=7810)\u001b[0m \tTrain Epoch: 1 \tTrain_loss: 0.9371 | Train_acc: 69.2405 % | Validation_loss: 1.2413 | Validation_acc: 59.9677 %\n",
      "\u001b[36m(launch_and_fit pid=7809)\u001b[0m Run WITHOUT homomorphic encryption\n",
      "\u001b[36m(launch_and_fit pid=7809)\u001b[0m  To get the checkpoint\n",
      "\u001b[36m(launch_and_fit pid=7809)\u001b[0m [Client 0, round 11] fit, config: {'learning_rate': 0.001, 'batch_size': '128', 'server_round': 11, 'local_epochs': 10}\n",
      "\u001b[36m(launch_and_fit pid=7809)\u001b[0m Updated model\n"
     ]
    },
    {
     "name": "stderr",
     "output_type": "stream",
     "text": [
      " 20%|\u001b[34m██        \u001b[0m| 2/10 [00:12<00:48,  6.07s/it]\u001b[32m [repeated 2x across cluster]\u001b[0m\n"
     ]
    },
    {
     "name": "stdout",
     "output_type": "stream",
     "text": [
      "\u001b[36m(launch_and_fit pid=7810)\u001b[0m \tTrain Epoch: 2 \tTrain_loss: 0.6872 | Train_acc: 76.7665 % | Validation_loss: 1.2123 | Validation_acc: 61.8265 %\u001b[32m [repeated 2x across cluster]\u001b[0m\n"
     ]
    },
    {
     "name": "stderr",
     "output_type": "stream",
     "text": [
      " 30%|\u001b[34m███       \u001b[0m| 3/10 [00:17<00:40,  5.84s/it]\u001b[32m [repeated 2x across cluster]\u001b[0m\n"
     ]
    },
    {
     "name": "stdout",
     "output_type": "stream",
     "text": [
      "\u001b[36m(launch_and_fit pid=7810)\u001b[0m \tTrain Epoch: 3 \tTrain_loss: 0.5081 | Train_acc: 82.7908 % | Validation_loss: 1.2604 | Validation_acc: 60.5199 %\u001b[32m [repeated 2x across cluster]\u001b[0m\n"
     ]
    },
    {
     "name": "stderr",
     "output_type": "stream",
     "text": [
      " 40%|\u001b[34m████      \u001b[0m| 4/10 [00:23<00:34,  5.83s/it]\u001b[32m [repeated 2x across cluster]\u001b[0m\n"
     ]
    },
    {
     "name": "stdout",
     "output_type": "stream",
     "text": [
      "\u001b[36m(launch_and_fit pid=7810)\u001b[0m \tTrain Epoch: 4 \tTrain_loss: 0.4306 | Train_acc: 85.8898 % | Validation_loss: 1.2818 | Validation_acc: 62.0824 %\u001b[32m [repeated 2x across cluster]\u001b[0m\n"
     ]
    },
    {
     "name": "stderr",
     "output_type": "stream",
     "text": [
      " 50%|\u001b[34m█████     \u001b[0m| 5/10 [00:29<00:29,  5.96s/it]\u001b[32m [repeated 2x across cluster]\u001b[0m\n"
     ]
    },
    {
     "name": "stdout",
     "output_type": "stream",
     "text": [
      "\u001b[36m(launch_and_fit pid=7810)\u001b[0m \tTrain Epoch: 5 \tTrain_loss: 0.3605 | Train_acc: 88.6936 % | Validation_loss: 1.2961 | Validation_acc: 61.7120 %\u001b[32m [repeated 2x across cluster]\u001b[0m\n"
     ]
    },
    {
     "name": "stderr",
     "output_type": "stream",
     "text": [
      " 60%|\u001b[34m██████    \u001b[0m| 6/10 [00:35<00:24,  6.02s/it]\u001b[32m [repeated 2x across cluster]\u001b[0m\n"
     ]
    },
    {
     "name": "stdout",
     "output_type": "stream",
     "text": [
      "\u001b[36m(launch_and_fit pid=7810)\u001b[0m \tTrain Epoch: 6 \tTrain_loss: 0.2961 | Train_acc: 91.8837 % | Validation_loss: 1.2889 | Validation_acc: 63.2341 %\u001b[32m [repeated 2x across cluster]\u001b[0m\n"
     ]
    },
    {
     "name": "stderr",
     "output_type": "stream",
     "text": [
      " 70%|\u001b[34m███████   \u001b[0m| 7/10 [00:41<00:17,  5.97s/it]\u001b[32m [repeated 2x across cluster]\u001b[0m\n"
     ]
    },
    {
     "name": "stdout",
     "output_type": "stream",
     "text": [
      "\u001b[36m(launch_and_fit pid=7810)\u001b[0m \tTrain Epoch: 7 \tTrain_loss: 0.2666 | Train_acc: 92.9384 % | Validation_loss: 1.3238 | Validation_acc: 61.6514 %\u001b[32m [repeated 2x across cluster]\u001b[0m\n"
     ]
    },
    {
     "name": "stderr",
     "output_type": "stream",
     "text": [
      " 80%|\u001b[34m████████  \u001b[0m| 8/10 [00:47<00:11,  5.90s/it]\u001b[32m [repeated 2x across cluster]\u001b[0m\n"
     ]
    },
    {
     "name": "stdout",
     "output_type": "stream",
     "text": [
      "\u001b[36m(launch_and_fit pid=7810)\u001b[0m \tTrain Epoch: 8 \tTrain_loss: 0.2392 | Train_acc: 94.3707 % | Validation_loss: 1.3574 | Validation_acc: 60.3987 %\u001b[32m [repeated 2x across cluster]\u001b[0m\n"
     ]
    },
    {
     "name": "stderr",
     "output_type": "stream",
     "text": [
      " 90%|\u001b[34m█████████ \u001b[0m| 9/10 [00:53<00:05,  5.91s/it]\u001b[32m [repeated 2x across cluster]\u001b[0m\n"
     ]
    },
    {
     "name": "stdout",
     "output_type": "stream",
     "text": [
      "\u001b[36m(launch_and_fit pid=7810)\u001b[0m \tTrain Epoch: 9 \tTrain_loss: 0.2152 | Train_acc: 95.4210 % | Validation_loss: 1.3675 | Validation_acc: 60.2438 %\u001b[32m [repeated 2x across cluster]\u001b[0m\n"
     ]
    },
    {
     "name": "stderr",
     "output_type": "stream",
     "text": [
      "100%|\u001b[34m██████████\u001b[0m| 10/10 [00:59<00:00,  5.97s/it]\u001b[32m [repeated 2x across cluster]\u001b[0m\n"
     ]
    },
    {
     "name": "stdout",
     "output_type": "stream",
     "text": [
      "\u001b[36m(launch_and_fit pid=7810)\u001b[0m save graph in  results/FL/\n",
      "\u001b[36m(launch_and_fit pid=7810)\u001b[0m \tTrain Epoch: 10 \tTrain_loss: 0.1980 | Train_acc: 96.8533 % | Validation_loss: 1.4262 | Validation_acc: 60.0687 %\u001b[32m [repeated 2x across cluster]\u001b[0m\n",
      "\u001b[36m(launch_and_fit pid=7886)\u001b[0m Run WITHOUT homomorphic encryption\n",
      "\u001b[36m(launch_and_fit pid=7886)\u001b[0m  To get the checkpoint\n",
      "\u001b[36m(launch_and_fit pid=7809)\u001b[0m save graph in  results/FL/\n",
      "\u001b[36m(launch_and_fit pid=7809)\u001b[0m \tTrain Epoch: 10 \tTrain_loss: 0.2082 | Train_acc: 95.2821 % | Validation_loss: 1.2103 | Validation_acc: 64.9919 %\n",
      "\u001b[36m(launch_and_fit pid=7886)\u001b[0m [Client 9, round 11] fit, config: {'learning_rate': 0.001, 'batch_size': '128', 'server_round': 11, 'local_epochs': 10}\n",
      "\u001b[36m(launch_and_fit pid=7886)\u001b[0m Updated model\n"
     ]
    },
    {
     "name": "stderr",
     "output_type": "stream",
     "text": [
      "  0%|\u001b[34m          \u001b[0m| 0/10 [00:00<?, ?it/s]\n",
      "100%|\u001b[34m██████████\u001b[0m| 10/10 [00:59<00:00,  5.92s/it]\n"
     ]
    },
    {
     "name": "stdout",
     "output_type": "stream",
     "text": [
      "\u001b[36m(launch_and_fit pid=7886)\u001b[0m \tTrain Epoch: 1 \tTrain_loss: 0.9315 | Train_acc: 69.6441 % | Validation_loss: 1.2955 | Validation_acc: 57.9741 %\n",
      "\u001b[36m(launch_and_fit pid=7884)\u001b[0m Run WITHOUT homomorphic encryption\n",
      "\u001b[36m(launch_and_fit pid=7884)\u001b[0m  To get the checkpoint\n",
      "\u001b[36m(launch_and_fit pid=7884)\u001b[0m [Client 3, round 11] fit, config: {'learning_rate': 0.001, 'batch_size': '128', 'server_round': 11, 'local_epochs': 10}\n",
      "\u001b[36m(launch_and_fit pid=7884)\u001b[0m Updated model\n"
     ]
    },
    {
     "name": "stderr",
     "output_type": "stream",
     "text": [
      " 10%|\u001b[34m█         \u001b[0m| 1/10 [00:06<00:54,  6.05s/it]\n",
      "  0%|\u001b[34m          \u001b[0m| 0/10 [00:00<?, ?it/s]\n"
     ]
    },
    {
     "name": "stdout",
     "output_type": "stream",
     "text": [
      "\u001b[36m(launch_and_fit pid=7886)\u001b[0m \tTrain Epoch: 2 \tTrain_loss: 0.6495 | Train_acc: 79.2188 % | Validation_loss: 1.2599 | Validation_acc: 62.7088 %\u001b[32m [repeated 2x across cluster]\u001b[0m\n"
     ]
    },
    {
     "name": "stderr",
     "output_type": "stream",
     "text": [
      " 20%|\u001b[34m██        \u001b[0m| 2/10 [00:11<00:45,  5.72s/it]\u001b[32m [repeated 2x across cluster]\u001b[0m\n"
     ]
    },
    {
     "name": "stdout",
     "output_type": "stream",
     "text": [
      "\u001b[36m(launch_and_fit pid=7886)\u001b[0m \tTrain Epoch: 3 \tTrain_loss: 0.4988 | Train_acc: 83.6806 % | Validation_loss: 1.2456 | Validation_acc: 62.8839 %\u001b[32m [repeated 2x across cluster]\u001b[0m\n"
     ]
    },
    {
     "name": "stderr",
     "output_type": "stream",
     "text": [
      " 30%|\u001b[34m███       \u001b[0m| 3/10 [00:17<00:40,  5.77s/it]\u001b[32m [repeated 2x across cluster]\u001b[0m\n"
     ]
    },
    {
     "name": "stdout",
     "output_type": "stream",
     "text": [
      "\u001b[36m(launch_and_fit pid=7886)\u001b[0m \tTrain Epoch: 4 \tTrain_loss: 0.4141 | Train_acc: 88.1858 % | Validation_loss: 1.2806 | Validation_acc: 63.6449 %\u001b[32m [repeated 2x across cluster]\u001b[0m\n"
     ]
    },
    {
     "name": "stderr",
     "output_type": "stream",
     "text": [
      " 40%|\u001b[34m████      \u001b[0m| 4/10 [00:22<00:34,  5.71s/it]\u001b[32m [repeated 2x across cluster]\u001b[0m\n"
     ]
    },
    {
     "name": "stdout",
     "output_type": "stream",
     "text": [
      "\u001b[36m(launch_and_fit pid=7886)\u001b[0m \tTrain Epoch: 5 \tTrain_loss: 0.3695 | Train_acc: 89.5052 % | Validation_loss: 1.3136 | Validation_acc: 62.5673 %\u001b[32m [repeated 2x across cluster]\u001b[0m\n"
     ]
    },
    {
     "name": "stderr",
     "output_type": "stream",
     "text": [
      " 50%|\u001b[34m█████     \u001b[0m| 5/10 [00:28<00:28,  5.71s/it]\u001b[32m [repeated 2x across cluster]\u001b[0m\n"
     ]
    },
    {
     "name": "stdout",
     "output_type": "stream",
     "text": [
      "\u001b[36m(launch_and_fit pid=7886)\u001b[0m \tTrain Epoch: 6 \tTrain_loss: 0.3187 | Train_acc: 91.4193 % | Validation_loss: 1.2785 | Validation_acc: 61.3012 %\u001b[32m [repeated 2x across cluster]\u001b[0m\n"
     ]
    },
    {
     "name": "stderr",
     "output_type": "stream",
     "text": [
      " 60%|\u001b[34m██████    \u001b[0m| 6/10 [00:34<00:23,  5.75s/it]\u001b[32m [repeated 2x across cluster]\u001b[0m\n"
     ]
    },
    {
     "name": "stdout",
     "output_type": "stream",
     "text": [
      "\u001b[36m(launch_and_fit pid=7886)\u001b[0m \tTrain Epoch: 7 \tTrain_loss: 0.2800 | Train_acc: 93.3203 % | Validation_loss: 1.3110 | Validation_acc: 63.2341 %\u001b[32m [repeated 2x across cluster]\u001b[0m\n"
     ]
    },
    {
     "name": "stderr",
     "output_type": "stream",
     "text": [
      " 70%|\u001b[34m███████   \u001b[0m| 7/10 [00:40<00:17,  5.77s/it]\u001b[32m [repeated 2x across cluster]\u001b[0m\n"
     ]
    },
    {
     "name": "stdout",
     "output_type": "stream",
     "text": [
      "\u001b[36m(launch_and_fit pid=7886)\u001b[0m \tTrain Epoch: 8 \tTrain_loss: 0.2594 | Train_acc: 93.9627 % | Validation_loss: 1.3629 | Validation_acc: 60.4391 %\u001b[32m [repeated 2x across cluster]\u001b[0m\n"
     ]
    },
    {
     "name": "stderr",
     "output_type": "stream",
     "text": [
      " 80%|\u001b[34m████████  \u001b[0m| 8/10 [00:45<00:11,  5.67s/it]\u001b[32m [repeated 2x across cluster]\u001b[0m\n"
     ]
    },
    {
     "name": "stdout",
     "output_type": "stream",
     "text": [
      "\u001b[36m(launch_and_fit pid=7886)\u001b[0m \tTrain Epoch: 9 \tTrain_loss: 0.2583 | Train_acc: 94.5009 % | Validation_loss: 1.4371 | Validation_acc: 56.9976 %\u001b[32m [repeated 2x across cluster]\u001b[0m\n"
     ]
    },
    {
     "name": "stderr",
     "output_type": "stream",
     "text": [
      " 90%|\u001b[34m█████████ \u001b[0m| 9/10 [00:51<00:05,  5.73s/it]\u001b[32m [repeated 2x across cluster]\u001b[0m\n"
     ]
    },
    {
     "name": "stdout",
     "output_type": "stream",
     "text": [
      "\u001b[36m(launch_and_fit pid=7886)\u001b[0m save graph in  results/FL/\n",
      "\u001b[36m(launch_and_fit pid=7886)\u001b[0m \tTrain Epoch: 10 \tTrain_loss: 0.2488 | Train_acc: 94.7613 % | Validation_loss: 1.3889 | Validation_acc: 60.6950 %\u001b[32m [repeated 2x across cluster]\u001b[0m\n"
     ]
    },
    {
     "name": "stderr",
     "output_type": "stream",
     "text": [
      "100%|\u001b[34m██████████\u001b[0m| 10/10 [00:57<00:00,  5.71s/it]\u001b[32m [repeated 2x across cluster]\u001b[0m\n"
     ]
    },
    {
     "name": "stdout",
     "output_type": "stream",
     "text": [
      "\u001b[36m(launch_and_fit pid=7958)\u001b[0m Run WITHOUT homomorphic encryption\n",
      "\u001b[36m(launch_and_fit pid=7958)\u001b[0m  To get the checkpoint\n",
      "\u001b[36m(launch_and_fit pid=7884)\u001b[0m save graph in  results/FL/\n",
      "\u001b[36m(launch_and_fit pid=7884)\u001b[0m \tTrain Epoch: 10 \tTrain_loss: 0.2056 | Train_acc: 96.2066 % | Validation_loss: 1.0806 | Validation_acc: 66.7901 %\n",
      "\u001b[36m(launch_and_fit pid=7958)\u001b[0m [Client 5, round 11] fit, config: {'learning_rate': 0.001, 'batch_size': '128', 'server_round': 11, 'local_epochs': 10}\n",
      "\u001b[36m(launch_and_fit pid=7958)\u001b[0m Updated model\n"
     ]
    },
    {
     "name": "stderr",
     "output_type": "stream",
     "text": [
      "  0%|\u001b[34m          \u001b[0m| 0/10 [00:00<?, ?it/s]\n",
      "100%|\u001b[34m██████████\u001b[0m| 10/10 [00:59<00:00,  5.95s/it]\n"
     ]
    },
    {
     "name": "stdout",
     "output_type": "stream",
     "text": [
      "\u001b[36m(launch_and_fit pid=7958)\u001b[0m \tTrain Epoch: 1 \tTrain_loss: 0.8936 | Train_acc: 70.7509 % | Validation_loss: 1.0937 | Validation_acc: 62.9176 %\n",
      "\u001b[36m(launch_and_fit pid=7983)\u001b[0m Run WITHOUT homomorphic encryption\n",
      "\u001b[36m(launch_and_fit pid=7983)\u001b[0m  To get the checkpoint\n",
      "\u001b[36m(launch_and_fit pid=7983)\u001b[0m [Client 1, round 11] fit, config: {'learning_rate': 0.001, 'batch_size': '128', 'server_round': 11, 'local_epochs': 10}\n",
      "\u001b[36m(launch_and_fit pid=7983)\u001b[0m Updated model\n"
     ]
    },
    {
     "name": "stderr",
     "output_type": "stream",
     "text": [
      " 10%|\u001b[34m█         \u001b[0m| 1/10 [00:06<00:57,  6.37s/it]\n",
      "  0%|\u001b[34m          \u001b[0m| 0/10 [00:00<?, ?it/s]\n"
     ]
    },
    {
     "name": "stdout",
     "output_type": "stream",
     "text": [
      "\u001b[36m(launch_and_fit pid=7958)\u001b[0m \tTrain Epoch: 2 \tTrain_loss: 0.6161 | Train_acc: 79.5530 % | Validation_loss: 1.1774 | Validation_acc: 61.7053 %\u001b[32m [repeated 2x across cluster]\u001b[0m\n"
     ]
    },
    {
     "name": "stderr",
     "output_type": "stream",
     "text": [
      " 20%|\u001b[34m██        \u001b[0m| 2/10 [00:12<00:49,  6.15s/it]\u001b[32m [repeated 2x across cluster]\u001b[0m\n"
     ]
    },
    {
     "name": "stdout",
     "output_type": "stream",
     "text": [
      "\u001b[36m(launch_and_fit pid=7958)\u001b[0m \tTrain Epoch: 3 \tTrain_loss: 0.4777 | Train_acc: 84.2448 % | Validation_loss: 1.1453 | Validation_acc: 65.0458 %\u001b[32m [repeated 2x across cluster]\u001b[0m\n"
     ]
    },
    {
     "name": "stderr",
     "output_type": "stream",
     "text": [
      " 30%|\u001b[34m███       \u001b[0m| 3/10 [00:18<00:42,  6.02s/it]\u001b[32m [repeated 2x across cluster]\u001b[0m\n"
     ]
    },
    {
     "name": "stdout",
     "output_type": "stream",
     "text": [
      "\u001b[36m(launch_and_fit pid=7958)\u001b[0m \tTrain Epoch: 4 \tTrain_loss: 0.4624 | Train_acc: 85.7161 % | Validation_loss: 1.1552 | Validation_acc: 64.2848 %\u001b[32m [repeated 2x across cluster]\u001b[0m\n"
     ]
    },
    {
     "name": "stderr",
     "output_type": "stream",
     "text": [
      " 40%|\u001b[34m████      \u001b[0m| 4/10 [00:23<00:35,  5.86s/it]\u001b[32m [repeated 2x across cluster]\u001b[0m\n"
     ]
    },
    {
     "name": "stdout",
     "output_type": "stream",
     "text": [
      "\u001b[36m(launch_and_fit pid=7958)\u001b[0m \tTrain Epoch: 5 \tTrain_loss: 0.3684 | Train_acc: 88.6589 % | Validation_loss: 1.1685 | Validation_acc: 63.2139 %\u001b[32m [repeated 2x across cluster]\u001b[0m\n"
     ]
    },
    {
     "name": "stderr",
     "output_type": "stream",
     "text": [
      " 50%|\u001b[34m█████     \u001b[0m| 5/10 [00:29<00:29,  5.82s/it]\u001b[32m [repeated 2x across cluster]\u001b[0m\n"
     ]
    },
    {
     "name": "stdout",
     "output_type": "stream",
     "text": [
      "\u001b[36m(launch_and_fit pid=7958)\u001b[0m \tTrain Epoch: 6 \tTrain_loss: 0.3136 | Train_acc: 90.5816 % | Validation_loss: 1.2106 | Validation_acc: 64.6013 %\u001b[32m [repeated 2x across cluster]\u001b[0m\n"
     ]
    },
    {
     "name": "stderr",
     "output_type": "stream",
     "text": [
      " 60%|\u001b[34m██████    \u001b[0m| 6/10 [00:35<00:23,  5.86s/it]\u001b[32m [repeated 2x across cluster]\u001b[0m\n"
     ]
    },
    {
     "name": "stdout",
     "output_type": "stream",
     "text": [
      "\u001b[36m(launch_and_fit pid=7958)\u001b[0m \tTrain Epoch: 7 \tTrain_loss: 0.2622 | Train_acc: 92.5825 % | Validation_loss: 1.1869 | Validation_acc: 63.1937 %\u001b[32m [repeated 2x across cluster]\u001b[0m\n"
     ]
    },
    {
     "name": "stderr",
     "output_type": "stream",
     "text": [
      " 70%|\u001b[34m███████   \u001b[0m| 7/10 [00:41<00:17,  5.84s/it]\u001b[32m [repeated 2x across cluster]\u001b[0m\n"
     ]
    },
    {
     "name": "stdout",
     "output_type": "stream",
     "text": [
      "\u001b[36m(launch_and_fit pid=7958)\u001b[0m \tTrain Epoch: 8 \tTrain_loss: 0.2362 | Train_acc: 93.7847 % | Validation_loss: 1.1805 | Validation_acc: 65.1064 %\u001b[32m [repeated 2x across cluster]\u001b[0m\n"
     ]
    },
    {
     "name": "stderr",
     "output_type": "stream",
     "text": [
      " 80%|\u001b[34m████████  \u001b[0m| 8/10 [00:47<00:11,  5.89s/it]\u001b[32m [repeated 2x across cluster]\u001b[0m\n"
     ]
    },
    {
     "name": "stdout",
     "output_type": "stream",
     "text": [
      "\u001b[36m(launch_and_fit pid=7958)\u001b[0m \tTrain Epoch: 9 \tTrain_loss: 0.2198 | Train_acc: 94.9566 % | Validation_loss: 1.1704 | Validation_acc: 65.7328 %\u001b[32m [repeated 2x across cluster]\u001b[0m\n"
     ]
    },
    {
     "name": "stderr",
     "output_type": "stream",
     "text": [
      " 90%|\u001b[34m█████████ \u001b[0m| 9/10 [00:53<00:05,  5.84s/it]\u001b[32m [repeated 2x across cluster]\u001b[0m\n"
     ]
    },
    {
     "name": "stdout",
     "output_type": "stream",
     "text": [
      "\u001b[36m(launch_and_fit pid=7958)\u001b[0m save graph in  results/FL/\n",
      "\u001b[36m(launch_and_fit pid=7958)\u001b[0m \tTrain Epoch: 10 \tTrain_loss: 0.2053 | Train_acc: 95.8811 % | Validation_loss: 1.1739 | Validation_acc: 63.6988 %\u001b[32m [repeated 2x across cluster]\u001b[0m\n"
     ]
    },
    {
     "name": "stderr",
     "output_type": "stream",
     "text": [
      "100%|\u001b[34m██████████\u001b[0m| 10/10 [00:58<00:00,  5.89s/it]\u001b[32m [repeated 2x across cluster]\u001b[0m\n"
     ]
    },
    {
     "name": "stdout",
     "output_type": "stream",
     "text": [
      "\u001b[36m(launch_and_fit pid=8032)\u001b[0m Run WITHOUT homomorphic encryption\n",
      "\u001b[36m(launch_and_fit pid=8032)\u001b[0m  To get the checkpoint\n",
      "\u001b[36m(launch_and_fit pid=7983)\u001b[0m save graph in  results/FL/\n",
      "\u001b[36m(launch_and_fit pid=7983)\u001b[0m \tTrain Epoch: 10 \tTrain_loss: 0.2106 | Train_acc: 96.5061 % | Validation_loss: 1.2475 | Validation_acc: 64.2107 %\n"
     ]
    },
    {
     "name": "stderr",
     "output_type": "stream",
     "text": [
      "  0%|\u001b[34m          \u001b[0m| 0/10 [00:00<?, ?it/s]\n",
      "100%|\u001b[34m██████████\u001b[0m| 10/10 [00:59<00:00,  5.96s/it]\n"
     ]
    },
    {
     "name": "stdout",
     "output_type": "stream",
     "text": [
      "\u001b[36m(launch_and_fit pid=8032)\u001b[0m [Client 7, round 11] fit, config: {'learning_rate': 0.001, 'batch_size': '128', 'server_round': 11, 'local_epochs': 10}\n",
      "\u001b[36m(launch_and_fit pid=8032)\u001b[0m Updated model\n"
     ]
    },
    {
     "name": "stderr",
     "output_type": "stream",
     "text": [
      " 10%|\u001b[34m█         \u001b[0m| 1/10 [00:06<01:01,  6.89s/it]\n",
      "  0%|\u001b[34m          \u001b[0m| 0/10 [00:00<?, ?it/s]\n"
     ]
    },
    {
     "name": "stdout",
     "output_type": "stream",
     "text": [
      "\u001b[36m(launch_and_fit pid=8032)\u001b[0m \tTrain Epoch: 1 \tTrain_loss: 0.9062 | Train_acc: 70.5512 % | Validation_loss: 1.0380 | Validation_acc: 65.0525 %\n",
      "\u001b[36m(launch_and_fit pid=8057)\u001b[0m Run WITHOUT homomorphic encryption\n",
      "\u001b[36m(launch_and_fit pid=8057)\u001b[0m  To get the checkpoint\n",
      "\u001b[36m(launch_and_fit pid=8057)\u001b[0m [Client 4, round 11] fit, config: {'learning_rate': 0.001, 'batch_size': '128', 'server_round': 11, 'local_epochs': 10}\n",
      "\u001b[36m(launch_and_fit pid=8057)\u001b[0m Updated model\n"
     ]
    },
    {
     "name": "stderr",
     "output_type": "stream",
     "text": [
      " 20%|\u001b[34m██        \u001b[0m| 2/10 [00:12<00:49,  6.21s/it]\u001b[32m [repeated 2x across cluster]\u001b[0m\n"
     ]
    },
    {
     "name": "stdout",
     "output_type": "stream",
     "text": [
      "\u001b[36m(launch_and_fit pid=8032)\u001b[0m \tTrain Epoch: 2 \tTrain_loss: 0.6306 | Train_acc: 78.8889 % | Validation_loss: 1.0626 | Validation_acc: 67.5175 %\u001b[32m [repeated 2x across cluster]\u001b[0m\n"
     ]
    },
    {
     "name": "stderr",
     "output_type": "stream",
     "text": [
      " 30%|\u001b[34m███       \u001b[0m| 3/10 [00:18<00:42,  6.04s/it]\u001b[32m [repeated 2x across cluster]\u001b[0m\n"
     ]
    },
    {
     "name": "stdout",
     "output_type": "stream",
     "text": [
      "\u001b[36m(launch_and_fit pid=8032)\u001b[0m \tTrain Epoch: 3 \tTrain_loss: 0.4557 | Train_acc: 85.0130 % | Validation_loss: 1.0624 | Validation_acc: 65.6587 %\u001b[32m [repeated 2x across cluster]\u001b[0m\n"
     ]
    },
    {
     "name": "stderr",
     "output_type": "stream",
     "text": [
      " 40%|\u001b[34m████      \u001b[0m| 4/10 [00:24<00:35,  5.87s/it]\u001b[32m [repeated 2x across cluster]\u001b[0m\n"
     ]
    },
    {
     "name": "stdout",
     "output_type": "stream",
     "text": [
      "\u001b[36m(launch_and_fit pid=8032)\u001b[0m \tTrain Epoch: 4 \tTrain_loss: 0.4034 | Train_acc: 87.5998 % | Validation_loss: 1.1368 | Validation_acc: 63.7055 %\u001b[32m [repeated 2x across cluster]\u001b[0m\n"
     ]
    },
    {
     "name": "stderr",
     "output_type": "stream",
     "text": [
      " 50%|\u001b[34m█████     \u001b[0m| 5/10 [00:29<00:28,  5.78s/it]\u001b[32m [repeated 2x across cluster]\u001b[0m\n"
     ]
    },
    {
     "name": "stdout",
     "output_type": "stream",
     "text": [
      "\u001b[36m(launch_and_fit pid=8032)\u001b[0m \tTrain Epoch: 5 \tTrain_loss: 0.3569 | Train_acc: 89.3924 % | Validation_loss: 1.1062 | Validation_acc: 67.6320 %\u001b[32m [repeated 2x across cluster]\u001b[0m\n"
     ]
    },
    {
     "name": "stderr",
     "output_type": "stream",
     "text": [
      " 60%|\u001b[34m██████    \u001b[0m| 6/10 [00:35<00:23,  5.87s/it]\u001b[32m [repeated 2x across cluster]\u001b[0m\n"
     ]
    },
    {
     "name": "stdout",
     "output_type": "stream",
     "text": [
      "\u001b[36m(launch_and_fit pid=8032)\u001b[0m \tTrain Epoch: 6 \tTrain_loss: 0.3137 | Train_acc: 91.7969 % | Validation_loss: 1.1236 | Validation_acc: 66.5207 %\u001b[32m [repeated 2x across cluster]\u001b[0m\n"
     ]
    },
    {
     "name": "stderr",
     "output_type": "stream",
     "text": [
      " 70%|\u001b[34m███████   \u001b[0m| 7/10 [00:41<00:17,  5.86s/it]\u001b[32m [repeated 2x across cluster]\u001b[0m\n"
     ]
    },
    {
     "name": "stdout",
     "output_type": "stream",
     "text": [
      "\u001b[36m(launch_and_fit pid=8032)\u001b[0m \tTrain Epoch: 7 \tTrain_loss: 0.2745 | Train_acc: 92.8863 % | Validation_loss: 1.0962 | Validation_acc: 66.5746 %\u001b[32m [repeated 2x across cluster]\u001b[0m\n"
     ]
    },
    {
     "name": "stderr",
     "output_type": "stream",
     "text": [
      " 80%|\u001b[34m████████  \u001b[0m| 8/10 [00:47<00:11,  5.87s/it]\u001b[32m [repeated 2x across cluster]\u001b[0m\n"
     ]
    },
    {
     "name": "stdout",
     "output_type": "stream",
     "text": [
      "\u001b[36m(launch_and_fit pid=8032)\u001b[0m \tTrain Epoch: 8 \tTrain_loss: 0.2520 | Train_acc: 93.8281 % | Validation_loss: 1.1098 | Validation_acc: 66.7901 %\u001b[32m [repeated 2x across cluster]\u001b[0m\n"
     ]
    },
    {
     "name": "stderr",
     "output_type": "stream",
     "text": [
      " 90%|\u001b[34m█████████ \u001b[0m| 9/10 [00:53<00:05,  5.88s/it]\u001b[32m [repeated 2x across cluster]\u001b[0m\n"
     ]
    },
    {
     "name": "stdout",
     "output_type": "stream",
     "text": [
      "\u001b[36m(launch_and_fit pid=8032)\u001b[0m \tTrain Epoch: 9 \tTrain_loss: 0.2344 | Train_acc: 95.2083 % | Validation_loss: 1.2174 | Validation_acc: 64.0760 %\u001b[32m [repeated 2x across cluster]\u001b[0m\n"
     ]
    },
    {
     "name": "stderr",
     "output_type": "stream",
     "text": [
      "100%|\u001b[34m██████████\u001b[0m| 10/10 [00:59<00:00,  5.94s/it]\u001b[32m [repeated 2x across cluster]\u001b[0m\n"
     ]
    },
    {
     "name": "stdout",
     "output_type": "stream",
     "text": [
      "\u001b[36m(launch_and_fit pid=8032)\u001b[0m save graph in  results/FL/\n",
      "\u001b[36m(launch_and_fit pid=8032)\u001b[0m \tTrain Epoch: 10 \tTrain_loss: 0.2480 | Train_acc: 94.4010 % | Validation_loss: 1.1628 | Validation_acc: 66.8710 %\u001b[32m [repeated 2x across cluster]\u001b[0m\n",
      "\u001b[36m(launch_and_fit pid=8107)\u001b[0m Run WITHOUT homomorphic encryption\n",
      "\u001b[36m(launch_and_fit pid=8107)\u001b[0m  To get the checkpoint\n",
      "\u001b[36m(launch_and_fit pid=8057)\u001b[0m save graph in  results/FL/\n",
      "\u001b[36m(launch_and_fit pid=8057)\u001b[0m \tTrain Epoch: 10 \tTrain_loss: 0.2110 | Train_acc: 96.1806 % | Validation_loss: 1.3352 | Validation_acc: 63.9749 %\n"
     ]
    },
    {
     "name": "stderr",
     "output_type": "stream",
     "text": [
      "  0%|\u001b[34m          \u001b[0m| 0/10 [00:00<?, ?it/s]\n",
      "100%|\u001b[34m██████████\u001b[0m| 10/10 [00:58<00:00,  5.86s/it]\n"
     ]
    },
    {
     "name": "stdout",
     "output_type": "stream",
     "text": [
      "\u001b[36m(launch_and_fit pid=8107)\u001b[0m [Client 6, round 11] fit, config: {'learning_rate': 0.001, 'batch_size': '128', 'server_round': 11, 'local_epochs': 10}\n",
      "\u001b[36m(launch_and_fit pid=8107)\u001b[0m Updated model\n"
     ]
    },
    {
     "name": "stderr",
     "output_type": "stream",
     "text": [
      " 10%|\u001b[34m█         \u001b[0m| 1/10 [00:06<00:56,  6.26s/it]\n",
      "  0%|\u001b[34m          \u001b[0m| 0/10 [00:00<?, ?it/s]\n"
     ]
    },
    {
     "name": "stdout",
     "output_type": "stream",
     "text": [
      "\u001b[36m(launch_and_fit pid=8107)\u001b[0m \tTrain Epoch: 1 \tTrain_loss: 0.9302 | Train_acc: 69.2057 % | Validation_loss: 1.2031 | Validation_acc: 60.6344 %\n",
      "\u001b[36m(launch_and_fit pid=8131)\u001b[0m Run WITHOUT homomorphic encryption\n",
      "\u001b[36m(launch_and_fit pid=8131)\u001b[0m  To get the checkpoint\n",
      "\u001b[36m(launch_and_fit pid=8131)\u001b[0m [Client 2, round 11] fit, config: {'learning_rate': 0.001, 'batch_size': '128', 'server_round': 11, 'local_epochs': 10}\n",
      "\u001b[36m(launch_and_fit pid=8131)\u001b[0m Updated model\n"
     ]
    },
    {
     "name": "stderr",
     "output_type": "stream",
     "text": [
      " 20%|\u001b[34m██        \u001b[0m| 2/10 [00:11<00:47,  5.89s/it]\u001b[32m [repeated 2x across cluster]\u001b[0m\n"
     ]
    },
    {
     "name": "stdout",
     "output_type": "stream",
     "text": [
      "\u001b[36m(launch_and_fit pid=8107)\u001b[0m \tTrain Epoch: 2 \tTrain_loss: 0.6359 | Train_acc: 78.3247 % | Validation_loss: 1.2270 | Validation_acc: 61.2406 %\u001b[32m [repeated 2x across cluster]\u001b[0m\n"
     ]
    },
    {
     "name": "stderr",
     "output_type": "stream",
     "text": [
      " 30%|\u001b[34m███       \u001b[0m| 3/10 [00:17<00:40,  5.84s/it]\u001b[32m [repeated 2x across cluster]\u001b[0m\n"
     ]
    },
    {
     "name": "stdout",
     "output_type": "stream",
     "text": [
      "\u001b[36m(launch_and_fit pid=8107)\u001b[0m \tTrain Epoch: 3 \tTrain_loss: 0.4983 | Train_acc: 84.1189 % | Validation_loss: 1.1895 | Validation_acc: 64.9784 %\u001b[32m [repeated 2x across cluster]\u001b[0m\n"
     ]
    },
    {
     "name": "stderr",
     "output_type": "stream",
     "text": [
      " 40%|\u001b[34m████      \u001b[0m| 4/10 [00:23<00:34,  5.75s/it]\u001b[32m [repeated 2x across cluster]\u001b[0m\n"
     ]
    },
    {
     "name": "stdout",
     "output_type": "stream",
     "text": [
      "\u001b[36m(launch_and_fit pid=8107)\u001b[0m \tTrain Epoch: 4 \tTrain_loss: 0.3976 | Train_acc: 87.8559 % | Validation_loss: 1.2076 | Validation_acc: 62.1969 %\u001b[32m [repeated 2x across cluster]\u001b[0m\n"
     ]
    },
    {
     "name": "stderr",
     "output_type": "stream",
     "text": [
      " 50%|\u001b[34m█████     \u001b[0m| 5/10 [00:29<00:29,  5.86s/it]\u001b[32m [repeated 2x across cluster]\u001b[0m\n"
     ]
    },
    {
     "name": "stdout",
     "output_type": "stream",
     "text": [
      "\u001b[36m(launch_and_fit pid=8107)\u001b[0m \tTrain Epoch: 5 \tTrain_loss: 0.3551 | Train_acc: 89.8351 % | Validation_loss: 1.2559 | Validation_acc: 62.7492 %\u001b[32m [repeated 2x across cluster]\u001b[0m\n"
     ]
    },
    {
     "name": "stderr",
     "output_type": "stream",
     "text": [
      " 60%|\u001b[34m██████    \u001b[0m| 6/10 [00:35<00:23,  5.87s/it]\u001b[32m [repeated 2x across cluster]\u001b[0m\n"
     ]
    },
    {
     "name": "stdout",
     "output_type": "stream",
     "text": [
      "\u001b[36m(launch_and_fit pid=8107)\u001b[0m \tTrain Epoch: 6 \tTrain_loss: 0.3054 | Train_acc: 91.8012 % | Validation_loss: 1.3253 | Validation_acc: 60.2842 %\u001b[32m [repeated 2x across cluster]\u001b[0m\n"
     ]
    },
    {
     "name": "stderr",
     "output_type": "stream",
     "text": [
      " 70%|\u001b[34m███████   \u001b[0m| 7/10 [00:41<00:17,  5.89s/it]\u001b[32m [repeated 2x across cluster]\u001b[0m\n"
     ]
    },
    {
     "name": "stdout",
     "output_type": "stream",
     "text": [
      "\u001b[36m(launch_and_fit pid=8107)\u001b[0m \tTrain Epoch: 7 \tTrain_loss: 0.2739 | Train_acc: 93.2552 % | Validation_loss: 1.2955 | Validation_acc: 60.8095 %\u001b[32m [repeated 2x across cluster]\u001b[0m\n"
     ]
    },
    {
     "name": "stderr",
     "output_type": "stream",
     "text": [
      " 80%|\u001b[34m████████  \u001b[0m| 8/10 [00:46<00:11,  5.84s/it]\u001b[32m [repeated 2x across cluster]\u001b[0m\n"
     ]
    },
    {
     "name": "stdout",
     "output_type": "stream",
     "text": [
      "\u001b[36m(launch_and_fit pid=8107)\u001b[0m \tTrain Epoch: 8 \tTrain_loss: 0.2459 | Train_acc: 94.1233 % | Validation_loss: 1.2947 | Validation_acc: 63.7392 %\u001b[32m [repeated 2x across cluster]\u001b[0m\n"
     ]
    },
    {
     "name": "stderr",
     "output_type": "stream",
     "text": [
      " 90%|\u001b[34m█████████ \u001b[0m| 9/10 [00:52<00:05,  5.82s/it]\u001b[32m [repeated 2x across cluster]\u001b[0m\n"
     ]
    },
    {
     "name": "stdout",
     "output_type": "stream",
     "text": [
      "\u001b[36m(launch_and_fit pid=8107)\u001b[0m \tTrain Epoch: 9 \tTrain_loss: 0.2306 | Train_acc: 95.8116 % | Validation_loss: 1.2922 | Validation_acc: 63.4092 %\u001b[32m [repeated 2x across cluster]\u001b[0m\n"
     ]
    },
    {
     "name": "stderr",
     "output_type": "stream",
     "text": [
      "100%|\u001b[34m██████████\u001b[0m| 10/10 [00:58<00:00,  5.87s/it]\u001b[32m [repeated 2x across cluster]\u001b[0m\n"
     ]
    },
    {
     "name": "stdout",
     "output_type": "stream",
     "text": [
      "\u001b[36m(launch_and_fit pid=8107)\u001b[0m save graph in  results/FL/\n",
      "\u001b[36m(launch_and_fit pid=8107)\u001b[0m \tTrain Epoch: 10 \tTrain_loss: 0.2096 | Train_acc: 96.4410 % | Validation_loss: 1.3161 | Validation_acc: 61.2406 %\u001b[32m [repeated 2x across cluster]\u001b[0m\n"
     ]
    },
    {
     "name": "stderr",
     "output_type": "stream",
     "text": [
      "DEBUG flwr 2024-07-20 19:38:48,888 | server.py:236 | fit_round 11 received 10 results and 0 failures\n"
     ]
    },
    {
     "name": "stdout",
     "output_type": "stream",
     "text": [
      "Saving round 11 aggregated_parameters...\n",
      "Updated model\n"
     ]
    },
    {
     "name": "stderr",
     "output_type": "stream",
     "text": [
      "INFO flwr 2024-07-20 19:38:54,577 | server.py:125 | fit progress: (11, 1.138053998916964, {'accuracy': 67.4248417721519}, 4929.26691254)\n",
      "DEBUG flwr 2024-07-20 19:38:54,579 | server.py:173 | evaluate_round 11: strategy sampled 10 clients (out of 10)\n"
     ]
    },
    {
     "name": "stdout",
     "output_type": "stream",
     "text": [
      "Server-side evaluation loss 1.138053998916964 / accuracy 67.4248417721519\n",
      "\u001b[36m(launch_and_evaluate pid=8189)\u001b[0m Run WITHOUT homomorphic encryption\n",
      "\u001b[36m(launch_and_evaluate pid=8189)\u001b[0m  To get the checkpoint\n",
      "\u001b[36m(launch_and_fit pid=8131)\u001b[0m save graph in  results/FL/\n",
      "\u001b[36m(launch_and_fit pid=8131)\u001b[0m \tTrain Epoch: 10 \tTrain_loss: 0.2186 | Train_acc: 96.0069 % | Validation_loss: 1.3470 | Validation_acc: 62.5067 %\n",
      "\u001b[36m(launch_and_evaluate pid=8189)\u001b[0m [Client 5] evaluate, config: {}\n",
      "\u001b[36m(launch_and_evaluate pid=8189)\u001b[0m Updated model\n",
      "\u001b[36m(launch_and_evaluate pid=8259)\u001b[0m Run WITHOUT homomorphic encryption\u001b[32m [repeated 2x across cluster]\u001b[0m\n",
      "\u001b[36m(launch_and_evaluate pid=8259)\u001b[0m  To get the checkpoint\u001b[32m [repeated 2x across cluster]\u001b[0m\n",
      "\u001b[36m(launch_and_evaluate pid=8213)\u001b[0m [Client 2] evaluate, config: {}\n",
      "\u001b[36m(launch_and_evaluate pid=8213)\u001b[0m Updated model\n",
      "\u001b[36m(launch_and_evaluate pid=8259)\u001b[0m [Client 1] evaluate, config: {}\n",
      "\u001b[36m(launch_and_evaluate pid=8259)\u001b[0m Updated model\n",
      "\u001b[36m(launch_and_evaluate pid=8330)\u001b[0m Run WITHOUT homomorphic encryption\u001b[32m [repeated 2x across cluster]\u001b[0m\n",
      "\u001b[36m(launch_and_evaluate pid=8330)\u001b[0m  To get the checkpoint\u001b[32m [repeated 2x across cluster]\u001b[0m\n",
      "\u001b[36m(launch_and_evaluate pid=8284)\u001b[0m [Client 4] evaluate, config: {}\n",
      "\u001b[36m(launch_and_evaluate pid=8284)\u001b[0m Updated model\n",
      "\u001b[36m(launch_and_evaluate pid=8330)\u001b[0m [Client 9] evaluate, config: {}\n",
      "\u001b[36m(launch_and_evaluate pid=8330)\u001b[0m Updated model\n",
      "\u001b[36m(launch_and_evaluate pid=8401)\u001b[0m Run WITHOUT homomorphic encryption\u001b[32m [repeated 2x across cluster]\u001b[0m\n",
      "\u001b[36m(launch_and_evaluate pid=8401)\u001b[0m  To get the checkpoint\u001b[32m [repeated 2x across cluster]\u001b[0m\n",
      "\u001b[36m(launch_and_evaluate pid=8355)\u001b[0m [Client 7] evaluate, config: {}\n",
      "\u001b[36m(launch_and_evaluate pid=8355)\u001b[0m Updated model\n",
      "\u001b[36m(launch_and_evaluate pid=8401)\u001b[0m [Client 3] evaluate, config: {}\n",
      "\u001b[36m(launch_and_evaluate pid=8401)\u001b[0m Updated model\n",
      "\u001b[36m(launch_and_evaluate pid=8471)\u001b[0m Run WITHOUT homomorphic encryption\u001b[32m [repeated 2x across cluster]\u001b[0m\n",
      "\u001b[36m(launch_and_evaluate pid=8471)\u001b[0m  To get the checkpoint\u001b[32m [repeated 2x across cluster]\u001b[0m\n",
      "\u001b[36m(launch_and_evaluate pid=8426)\u001b[0m [Client 8] evaluate, config: {}\n",
      "\u001b[36m(launch_and_evaluate pid=8426)\u001b[0m Updated model\n",
      "\u001b[36m(launch_and_evaluate pid=8471)\u001b[0m [Client 6] evaluate, config: {}\n",
      "\u001b[36m(launch_and_evaluate pid=8471)\u001b[0m Updated model\n"
     ]
    },
    {
     "name": "stderr",
     "output_type": "stream",
     "text": [
      "DEBUG flwr 2024-07-20 19:40:10,705 | server.py:187 | evaluate_round 11 received 10 results and 0 failures\n",
      "DEBUG flwr 2024-07-20 19:40:10,706 | server.py:222 | fit_round 12: strategy sampled 10 clients (out of 10)\n"
     ]
    },
    {
     "name": "stdout",
     "output_type": "stream",
     "text": [
      "\u001b[36m(launch_and_fit pid=8550)\u001b[0m Run WITHOUT homomorphic encryption\u001b[32m [repeated 2x across cluster]\u001b[0m\n",
      "\u001b[36m(launch_and_fit pid=8550)\u001b[0m  To get the checkpoint\u001b[32m [repeated 2x across cluster]\u001b[0m\n",
      "\u001b[36m(launch_and_evaluate pid=8496)\u001b[0m [Client 0] evaluate, config: {}\n",
      "\u001b[36m(launch_and_evaluate pid=8496)\u001b[0m Updated model\n",
      "\u001b[36m(launch_and_fit pid=8550)\u001b[0m [Client 4, round 12] fit, config: {'learning_rate': 0.001, 'batch_size': '128', 'server_round': 12, 'local_epochs': 10}\n",
      "\u001b[36m(launch_and_fit pid=8550)\u001b[0m Updated model\n"
     ]
    },
    {
     "name": "stderr",
     "output_type": "stream",
     "text": [
      "  0%|\u001b[34m          \u001b[0m| 0/10 [00:00<?, ?it/s]\n",
      "100%|\u001b[34m██████████\u001b[0m| 10/10 [00:58<00:00,  5.87s/it]\n"
     ]
    },
    {
     "name": "stdout",
     "output_type": "stream",
     "text": [
      "\u001b[36m(launch_and_fit pid=8550)\u001b[0m \tTrain Epoch: 1 \tTrain_loss: 0.8298 | Train_acc: 72.1398 % | Validation_loss: 1.2222 | Validation_acc: 64.9515 %\n",
      "\u001b[36m(launch_and_fit pid=8576)\u001b[0m Run WITHOUT homomorphic encryption\n",
      "\u001b[36m(launch_and_fit pid=8576)\u001b[0m  To get the checkpoint\n",
      "\u001b[36m(launch_and_fit pid=8576)\u001b[0m [Client 2, round 12] fit, config: {'learning_rate': 0.001, 'batch_size': '128', 'server_round': 12, 'local_epochs': 10}\n",
      "\u001b[36m(launch_and_fit pid=8576)\u001b[0m Updated model\n"
     ]
    },
    {
     "name": "stderr",
     "output_type": "stream",
     "text": [
      " 10%|\u001b[34m█         \u001b[0m| 1/10 [00:06<00:55,  6.19s/it]\n",
      "  0%|\u001b[34m          \u001b[0m| 0/10 [00:00<?, ?it/s]\n"
     ]
    },
    {
     "name": "stdout",
     "output_type": "stream",
     "text": [
      "\u001b[36m(launch_and_fit pid=8550)\u001b[0m \tTrain Epoch: 2 \tTrain_loss: 0.5753 | Train_acc: 80.7986 % | Validation_loss: 1.2650 | Validation_acc: 63.3284 %\u001b[32m [repeated 2x across cluster]\u001b[0m\n"
     ]
    },
    {
     "name": "stderr",
     "output_type": "stream",
     "text": [
      " 20%|\u001b[34m██        \u001b[0m| 2/10 [00:11<00:46,  5.80s/it]\u001b[32m [repeated 2x across cluster]\u001b[0m\n"
     ]
    },
    {
     "name": "stdout",
     "output_type": "stream",
     "text": [
      "\u001b[36m(launch_and_fit pid=8550)\u001b[0m \tTrain Epoch: 3 \tTrain_loss: 0.4436 | Train_acc: 85.8290 % | Validation_loss: 1.3153 | Validation_acc: 63.1533 %\u001b[32m [repeated 2x across cluster]\u001b[0m\n"
     ]
    },
    {
     "name": "stderr",
     "output_type": "stream",
     "text": [
      " 30%|\u001b[34m███       \u001b[0m| 3/10 [00:17<00:40,  5.85s/it]\u001b[32m [repeated 2x across cluster]\u001b[0m\n"
     ]
    },
    {
     "name": "stdout",
     "output_type": "stream",
     "text": [
      "\u001b[36m(launch_and_fit pid=8550)\u001b[0m \tTrain Epoch: 4 \tTrain_loss: 0.3417 | Train_acc: 89.5616 % | Validation_loss: 1.3553 | Validation_acc: 63.5035 %\u001b[32m [repeated 2x across cluster]\u001b[0m\n"
     ]
    },
    {
     "name": "stderr",
     "output_type": "stream",
     "text": [
      " 40%|\u001b[34m████      \u001b[0m| 4/10 [00:23<00:35,  5.96s/it]\u001b[32m [repeated 2x across cluster]\u001b[0m\n"
     ]
    },
    {
     "name": "stdout",
     "output_type": "stream",
     "text": [
      "\u001b[36m(launch_and_fit pid=8550)\u001b[0m \tTrain Epoch: 5 \tTrain_loss: 0.2675 | Train_acc: 93.4158 % | Validation_loss: 1.3449 | Validation_acc: 62.2912 %\u001b[32m [repeated 2x across cluster]\u001b[0m\n"
     ]
    },
    {
     "name": "stderr",
     "output_type": "stream",
     "text": [
      " 50%|\u001b[34m█████     \u001b[0m| 5/10 [00:29<00:29,  5.93s/it]\u001b[32m [repeated 2x across cluster]\u001b[0m\n"
     ]
    },
    {
     "name": "stdout",
     "output_type": "stream",
     "text": [
      "\u001b[36m(launch_and_fit pid=8550)\u001b[0m \tTrain Epoch: 6 \tTrain_loss: 0.2287 | Train_acc: 94.5790 % | Validation_loss: 1.3764 | Validation_acc: 61.8265 %\u001b[32m [repeated 2x across cluster]\u001b[0m\n"
     ]
    },
    {
     "name": "stderr",
     "output_type": "stream",
     "text": [
      " 60%|\u001b[34m██████    \u001b[0m| 6/10 [00:35<00:23,  5.96s/it]\u001b[32m [repeated 2x across cluster]\u001b[0m\n"
     ]
    },
    {
     "name": "stdout",
     "output_type": "stream",
     "text": [
      "\u001b[36m(launch_and_fit pid=8550)\u001b[0m \tTrain Epoch: 7 \tTrain_loss: 0.2087 | Train_acc: 95.8681 % | Validation_loss: 1.3819 | Validation_acc: 64.5407 %\u001b[32m [repeated 2x across cluster]\u001b[0m\n"
     ]
    },
    {
     "name": "stderr",
     "output_type": "stream",
     "text": [
      " 70%|\u001b[34m███████   \u001b[0m| 7/10 [00:41<00:17,  5.84s/it]\u001b[32m [repeated 2x across cluster]\u001b[0m\n"
     ]
    },
    {
     "name": "stdout",
     "output_type": "stream",
     "text": [
      "\u001b[36m(launch_and_fit pid=8550)\u001b[0m \tTrain Epoch: 8 \tTrain_loss: 0.1801 | Train_acc: 97.0269 % | Validation_loss: 1.4097 | Validation_acc: 63.7594 %\u001b[32m [repeated 2x across cluster]\u001b[0m\n"
     ]
    },
    {
     "name": "stderr",
     "output_type": "stream",
     "text": [
      " 80%|\u001b[34m████████  \u001b[0m| 8/10 [00:46<00:11,  5.81s/it]\u001b[32m [repeated 2x across cluster]\u001b[0m\n"
     ]
    },
    {
     "name": "stdout",
     "output_type": "stream",
     "text": [
      "\u001b[36m(launch_and_fit pid=8550)\u001b[0m \tTrain Epoch: 9 \tTrain_loss: 0.1615 | Train_acc: 97.9384 % | Validation_loss: 1.4506 | Validation_acc: 59.7724 %\u001b[32m [repeated 2x across cluster]\u001b[0m\n"
     ]
    },
    {
     "name": "stderr",
     "output_type": "stream",
     "text": [
      " 90%|\u001b[34m█████████ \u001b[0m| 9/10 [00:52<00:05,  5.78s/it]\u001b[32m [repeated 2x across cluster]\u001b[0m\n"
     ]
    },
    {
     "name": "stdout",
     "output_type": "stream",
     "text": [
      "\u001b[36m(launch_and_fit pid=8576)\u001b[0m \tTrain Epoch: 9 \tTrain_loss: 0.1669 | Train_acc: 97.8429 % | Validation_loss: 1.2574 | Validation_acc: 68.0563 %\n"
     ]
    },
    {
     "name": "stderr",
     "output_type": "stream",
     "text": [
      " 90%|\u001b[34m█████████ \u001b[0m| 9/10 [00:53<00:05,  5.98s/it]\n"
     ]
    },
    {
     "name": "stdout",
     "output_type": "stream",
     "text": [
      "\u001b[36m(launch_and_fit pid=8550)\u001b[0m \tTrain Epoch: 10 \tTrain_loss: 0.1455 | Train_acc: 98.3290 % | Validation_loss: 1.3858 | Validation_acc: 63.1937 %\n",
      "\u001b[36m(launch_and_fit pid=8550)\u001b[0m save graph in  results/FL/\n"
     ]
    },
    {
     "name": "stderr",
     "output_type": "stream",
     "text": [
      "100%|\u001b[34m██████████\u001b[0m| 10/10 [00:58<00:00,  5.89s/it]\n"
     ]
    },
    {
     "name": "stdout",
     "output_type": "stream",
     "text": [
      "\u001b[36m(launch_and_fit pid=8576)\u001b[0m \tTrain Epoch: 10 \tTrain_loss: 0.1481 | Train_acc: 98.4592 % | Validation_loss: 1.3152 | Validation_acc: 65.5374 %\n",
      "\u001b[36m(launch_and_fit pid=8576)\u001b[0m save graph in  results/FL/\n"
     ]
    },
    {
     "name": "stderr",
     "output_type": "stream",
     "text": [
      "100%|\u001b[34m██████████\u001b[0m| 10/10 [01:00<00:00,  6.07s/it]\n"
     ]
    },
    {
     "name": "stdout",
     "output_type": "stream",
     "text": [
      "\u001b[36m(launch_and_fit pid=8624)\u001b[0m Run WITHOUT homomorphic encryption\n",
      "\u001b[36m(launch_and_fit pid=8624)\u001b[0m  To get the checkpoint\n",
      "\u001b[36m(launch_and_fit pid=8624)\u001b[0m [Client 3, round 12] fit, config: {'learning_rate': 0.001, 'batch_size': '128', 'server_round': 12, 'local_epochs': 10}\n",
      "\u001b[36m(launch_and_fit pid=8624)\u001b[0m Updated model\n"
     ]
    },
    {
     "name": "stderr",
     "output_type": "stream",
     "text": [
      "  0%|\u001b[34m          \u001b[0m| 0/10 [00:00<?, ?it/s]\n"
     ]
    },
    {
     "name": "stdout",
     "output_type": "stream",
     "text": [
      "\u001b[36m(launch_and_fit pid=8651)\u001b[0m Run WITHOUT homomorphic encryption\n",
      "\u001b[36m(launch_and_fit pid=8651)\u001b[0m  To get the checkpoint\n",
      "\u001b[36m(launch_and_fit pid=8651)\u001b[0m [Client 7, round 12] fit, config: {'learning_rate': 0.001, 'batch_size': '128', 'server_round': 12, 'local_epochs': 10}\n",
      "\u001b[36m(launch_and_fit pid=8651)\u001b[0m Updated model\n"
     ]
    },
    {
     "name": "stderr",
     "output_type": "stream",
     "text": [
      "  0%|\u001b[34m          \u001b[0m| 0/10 [00:00<?, ?it/s]\n"
     ]
    },
    {
     "name": "stdout",
     "output_type": "stream",
     "text": [
      "\u001b[36m(launch_and_fit pid=8624)\u001b[0m \tTrain Epoch: 1 \tTrain_loss: 0.8290 | Train_acc: 72.9774 % | Validation_loss: 1.0232 | Validation_acc: 66.9248 %\n"
     ]
    },
    {
     "name": "stderr",
     "output_type": "stream",
     "text": [
      " 10%|\u001b[34m█         \u001b[0m| 1/10 [00:06<00:56,  6.22s/it]\n",
      " 10%|\u001b[34m█         \u001b[0m| 1/10 [00:06<00:56,  6.25s/it]\n"
     ]
    },
    {
     "name": "stdout",
     "output_type": "stream",
     "text": [
      "\u001b[36m(launch_and_fit pid=8651)\u001b[0m \tTrain Epoch: 1 \tTrain_loss: 0.7825 | Train_acc: 74.0365 % | Validation_loss: 1.0945 | Validation_acc: 65.6587 %\n",
      "\u001b[36m(launch_and_fit pid=8624)\u001b[0m \tTrain Epoch: 2 \tTrain_loss: 0.5636 | Train_acc: 81.2196 % | Validation_loss: 1.1344 | Validation_acc: 64.4464 %\n"
     ]
    },
    {
     "name": "stderr",
     "output_type": "stream",
     "text": [
      " 20%|\u001b[34m██        \u001b[0m| 2/10 [00:11<00:47,  5.94s/it]\n",
      " 20%|\u001b[34m██        \u001b[0m| 2/10 [00:12<00:50,  6.25s/it]\n"
     ]
    },
    {
     "name": "stdout",
     "output_type": "stream",
     "text": [
      "\u001b[36m(launch_and_fit pid=8651)\u001b[0m \tTrain Epoch: 2 \tTrain_loss: 0.5429 | Train_acc: 82.3307 % | Validation_loss: 1.0597 | Validation_acc: 66.6756 %\n",
      "\u001b[36m(launch_and_fit pid=8624)\u001b[0m \tTrain Epoch: 3 \tTrain_loss: 0.4312 | Train_acc: 85.7552 % | Validation_loss: 1.1173 | Validation_acc: 65.2883 %\n"
     ]
    },
    {
     "name": "stderr",
     "output_type": "stream",
     "text": [
      " 30%|\u001b[34m███       \u001b[0m| 3/10 [00:18<00:42,  6.11s/it]\n",
      " 30%|\u001b[34m███       \u001b[0m| 3/10 [00:18<00:42,  6.01s/it]\n"
     ]
    },
    {
     "name": "stdout",
     "output_type": "stream",
     "text": [
      "\u001b[36m(launch_and_fit pid=8651)\u001b[0m \tTrain Epoch: 3 \tTrain_loss: 0.4237 | Train_acc: 86.2196 % | Validation_loss: 1.0916 | Validation_acc: 65.6385 %\n",
      "\u001b[36m(launch_and_fit pid=8624)\u001b[0m \tTrain Epoch: 4 \tTrain_loss: 0.3773 | Train_acc: 88.2335 % | Validation_loss: 1.2173 | Validation_acc: 62.6482 %\n"
     ]
    },
    {
     "name": "stderr",
     "output_type": "stream",
     "text": [
      " 40%|\u001b[34m████      \u001b[0m| 4/10 [00:23<00:35,  5.92s/it]\n",
      " 40%|\u001b[34m████      \u001b[0m| 4/10 [00:23<00:35,  5.91s/it]\n"
     ]
    },
    {
     "name": "stdout",
     "output_type": "stream",
     "text": [
      "\u001b[36m(launch_and_fit pid=8651)\u001b[0m \tTrain Epoch: 4 \tTrain_loss: 0.3212 | Train_acc: 89.7396 % | Validation_loss: 1.0889 | Validation_acc: 67.4165 %\n",
      "\u001b[36m(launch_and_fit pid=8624)\u001b[0m \tTrain Epoch: 5 \tTrain_loss: 0.3363 | Train_acc: 90.1042 % | Validation_loss: 1.1906 | Validation_acc: 65.9146 %\n"
     ]
    },
    {
     "name": "stderr",
     "output_type": "stream",
     "text": [
      " 50%|\u001b[34m█████     \u001b[0m| 5/10 [00:29<00:29,  5.83s/it]\n",
      " 50%|\u001b[34m█████     \u001b[0m| 5/10 [00:29<00:29,  5.88s/it]\n"
     ]
    },
    {
     "name": "stdout",
     "output_type": "stream",
     "text": [
      "\u001b[36m(launch_and_fit pid=8651)\u001b[0m \tTrain Epoch: 5 \tTrain_loss: 0.2722 | Train_acc: 92.3524 % | Validation_loss: 1.0753 | Validation_acc: 67.5781 %\n",
      "\u001b[36m(launch_and_fit pid=8624)\u001b[0m \tTrain Epoch: 6 \tTrain_loss: 0.2537 | Train_acc: 93.3377 % | Validation_loss: 1.1175 | Validation_acc: 66.3389 %\n"
     ]
    },
    {
     "name": "stderr",
     "output_type": "stream",
     "text": [
      " 60%|\u001b[34m██████    \u001b[0m| 6/10 [00:35<00:23,  5.94s/it]\n",
      " 60%|\u001b[34m██████    \u001b[0m| 6/10 [00:35<00:23,  5.97s/it]\n"
     ]
    },
    {
     "name": "stdout",
     "output_type": "stream",
     "text": [
      "\u001b[36m(launch_and_fit pid=8651)\u001b[0m \tTrain Epoch: 6 \tTrain_loss: 0.2475 | Train_acc: 93.5460 % | Validation_loss: 1.1490 | Validation_acc: 67.5175 %\n",
      "\u001b[36m(launch_and_fit pid=8624)\u001b[0m \tTrain Epoch: 7 \tTrain_loss: 0.2232 | Train_acc: 95.1389 % | Validation_loss: 1.1816 | Validation_acc: 64.4464 %\n"
     ]
    },
    {
     "name": "stderr",
     "output_type": "stream",
     "text": [
      " 70%|\u001b[34m███████   \u001b[0m| 7/10 [00:41<00:17,  5.94s/it]\n",
      " 70%|\u001b[34m███████   \u001b[0m| 7/10 [00:42<00:17,  6.00s/it]\n"
     ]
    },
    {
     "name": "stdout",
     "output_type": "stream",
     "text": [
      "\u001b[36m(launch_and_fit pid=8651)\u001b[0m \tTrain Epoch: 7 \tTrain_loss: 0.2020 | Train_acc: 96.0286 % | Validation_loss: 1.1246 | Validation_acc: 67.1067 %\n",
      "\u001b[36m(launch_and_fit pid=8624)\u001b[0m \tTrain Epoch: 8 \tTrain_loss: 0.1893 | Train_acc: 96.2457 % | Validation_loss: 1.1550 | Validation_acc: 67.0461 %\n"
     ]
    },
    {
     "name": "stderr",
     "output_type": "stream",
     "text": [
      " 80%|\u001b[34m████████  \u001b[0m| 8/10 [00:47<00:12,  6.04s/it]\n",
      " 80%|\u001b[34m████████  \u001b[0m| 8/10 [00:47<00:11,  5.91s/it]\n"
     ]
    },
    {
     "name": "stdout",
     "output_type": "stream",
     "text": [
      "\u001b[36m(launch_and_fit pid=8651)\u001b[0m \tTrain Epoch: 8 \tTrain_loss: 0.1739 | Train_acc: 97.0920 % | Validation_loss: 1.0919 | Validation_acc: 66.2850 %\n",
      "\u001b[36m(launch_and_fit pid=8624)\u001b[0m \tTrain Epoch: 9 \tTrain_loss: 0.1675 | Train_acc: 97.5608 % | Validation_loss: 1.1068 | Validation_acc: 67.7128 %\n"
     ]
    },
    {
     "name": "stderr",
     "output_type": "stream",
     "text": [
      " 90%|\u001b[34m█████████ \u001b[0m| 9/10 [00:53<00:05,  5.95s/it]\n"
     ]
    },
    {
     "name": "stdout",
     "output_type": "stream",
     "text": [
      "\u001b[36m(launch_and_fit pid=8624)\u001b[0m save graph in  results/FL/\n",
      "\u001b[36m(launch_and_fit pid=8624)\u001b[0m \tTrain Epoch: 10 \tTrain_loss: 0.1492 | Train_acc: 98.0686 % | Validation_loss: 1.0851 | Validation_acc: 68.7096 %\u001b[32m [repeated 2x across cluster]\u001b[0m\n"
     ]
    },
    {
     "name": "stderr",
     "output_type": "stream",
     "text": [
      "100%|\u001b[34m██████████\u001b[0m| 10/10 [00:59<00:00,  5.93s/it]\u001b[32m [repeated 2x across cluster]\u001b[0m\n",
      "100%|\u001b[34m██████████\u001b[0m| 10/10 [00:59<00:00,  5.98s/it]\n"
     ]
    },
    {
     "name": "stdout",
     "output_type": "stream",
     "text": [
      "\u001b[36m(launch_and_fit pid=8651)\u001b[0m save graph in  results/FL/\n",
      "\u001b[36m(launch_and_fit pid=8651)\u001b[0m \tTrain Epoch: 10 \tTrain_loss: 0.1414 | Train_acc: 98.4375 % | Validation_loss: 1.0559 | Validation_acc: 67.1875 %\n",
      "\u001b[36m(launch_and_fit pid=8698)\u001b[0m Run WITHOUT homomorphic encryption\n",
      "\u001b[36m(launch_and_fit pid=8698)\u001b[0m  To get the checkpoint\n",
      "\u001b[36m(launch_and_fit pid=8698)\u001b[0m [Client 0, round 12] fit, config: {'learning_rate': 0.001, 'batch_size': '128', 'server_round': 12, 'local_epochs': 10}\n",
      "\u001b[36m(launch_and_fit pid=8698)\u001b[0m Updated model\n"
     ]
    },
    {
     "name": "stderr",
     "output_type": "stream",
     "text": [
      "  0%|\u001b[34m          \u001b[0m| 0/10 [00:00<?, ?it/s]\n"
     ]
    },
    {
     "name": "stdout",
     "output_type": "stream",
     "text": [
      "\u001b[36m(launch_and_fit pid=8725)\u001b[0m Run WITHOUT homomorphic encryption\n",
      "\u001b[36m(launch_and_fit pid=8725)\u001b[0m  To get the checkpoint\n",
      "\u001b[36m(launch_and_fit pid=8725)\u001b[0m [Client 5, round 12] fit, config: {'learning_rate': 0.001, 'batch_size': '128', 'server_round': 12, 'local_epochs': 10}\n",
      "\u001b[36m(launch_and_fit pid=8725)\u001b[0m Updated model\n"
     ]
    },
    {
     "name": "stderr",
     "output_type": "stream",
     "text": [
      "  0%|\u001b[34m          \u001b[0m| 0/10 [00:00<?, ?it/s]\n",
      " 10%|\u001b[34m█         \u001b[0m| 1/10 [00:06<00:59,  6.59s/it]\n"
     ]
    },
    {
     "name": "stdout",
     "output_type": "stream",
     "text": [
      "\u001b[36m(launch_and_fit pid=8698)\u001b[0m \tTrain Epoch: 1 \tTrain_loss: 0.8030 | Train_acc: 73.4462 % | Validation_loss: 1.1026 | Validation_acc: 67.2414 %\n",
      "\u001b[36m(launch_and_fit pid=8725)\u001b[0m \tTrain Epoch: 1 \tTrain_loss: 0.8289 | Train_acc: 72.2656 % | Validation_loss: 1.1556 | Validation_acc: 62.8772 %\n"
     ]
    },
    {
     "name": "stderr",
     "output_type": "stream",
     "text": [
      " 10%|\u001b[34m█         \u001b[0m| 1/10 [00:06<00:58,  6.54s/it]\n",
      " 20%|\u001b[34m██        \u001b[0m| 2/10 [00:12<00:48,  6.08s/it]\n"
     ]
    },
    {
     "name": "stdout",
     "output_type": "stream",
     "text": [
      "\u001b[36m(launch_and_fit pid=8698)\u001b[0m \tTrain Epoch: 2 \tTrain_loss: 0.5651 | Train_acc: 81.4149 % | Validation_loss: 1.0603 | Validation_acc: 67.1404 %\n",
      "\u001b[36m(launch_and_fit pid=8725)\u001b[0m \tTrain Epoch: 2 \tTrain_loss: 0.5527 | Train_acc: 81.2977 % | Validation_loss: 1.1163 | Validation_acc: 65.9281 %\n",
      "\u001b[36m(launch_and_fit pid=8698)\u001b[0m \tTrain Epoch: 3 \tTrain_loss: 0.4401 | Train_acc: 85.3212 % | Validation_loss: 1.1538 | Validation_acc: 64.5003 %\n"
     ]
    },
    {
     "name": "stderr",
     "output_type": "stream",
     "text": [
      " 20%|\u001b[34m██        \u001b[0m| 2/10 [00:12<00:48,  6.07s/it]\n",
      " 30%|\u001b[34m███       \u001b[0m| 3/10 [00:17<00:41,  5.88s/it]\n"
     ]
    },
    {
     "name": "stdout",
     "output_type": "stream",
     "text": [
      "\u001b[36m(launch_and_fit pid=8725)\u001b[0m \tTrain Epoch: 3 \tTrain_loss: 0.4033 | Train_acc: 87.0833 % | Validation_loss: 1.1718 | Validation_acc: 64.5003 %\n",
      "\u001b[36m(launch_and_fit pid=8698)\u001b[0m \tTrain Epoch: 4 \tTrain_loss: 0.3276 | Train_acc: 89.9349 % | Validation_loss: 1.1386 | Validation_acc: 65.9887 %\n"
     ]
    },
    {
     "name": "stderr",
     "output_type": "stream",
     "text": [
      " 30%|\u001b[34m███       \u001b[0m| 3/10 [00:18<00:41,  5.95s/it]\n",
      " 40%|\u001b[34m████      \u001b[0m| 4/10 [00:23<00:35,  5.85s/it]\n",
      " 50%|\u001b[34m█████     \u001b[0m| 5/10 [00:29<00:28,  5.78s/it]\n",
      " 40%|\u001b[34m████      \u001b[0m| 4/10 [00:23<00:35,  5.89s/it]\n"
     ]
    },
    {
     "name": "stdout",
     "output_type": "stream",
     "text": [
      "\u001b[36m(launch_and_fit pid=8698)\u001b[0m \tTrain Epoch: 5 \tTrain_loss: 0.2977 | Train_acc: 91.0634 % | Validation_loss: 1.1896 | Validation_acc: 64.8707 %\n",
      "\u001b[36m(launch_and_fit pid=8725)\u001b[0m \tTrain Epoch: 4 \tTrain_loss: 0.3261 | Train_acc: 90.0694 % | Validation_loss: 1.1123 | Validation_acc: 66.4736 %\n",
      "\u001b[36m(launch_and_fit pid=8725)\u001b[0m \tTrain Epoch: 5 \tTrain_loss: 0.2791 | Train_acc: 91.9054 % | Validation_loss: 1.2054 | Validation_acc: 64.8168 %\n"
     ]
    },
    {
     "name": "stderr",
     "output_type": "stream",
     "text": [
      " 50%|\u001b[34m█████     \u001b[0m| 5/10 [00:29<00:29,  5.96s/it]\n",
      " 60%|\u001b[34m██████    \u001b[0m| 6/10 [00:35<00:23,  5.94s/it]\n"
     ]
    },
    {
     "name": "stdout",
     "output_type": "stream",
     "text": [
      "\u001b[36m(launch_and_fit pid=8698)\u001b[0m \tTrain Epoch: 6 \tTrain_loss: 0.2474 | Train_acc: 92.7865 % | Validation_loss: 1.2254 | Validation_acc: 66.3389 %\n"
     ]
    },
    {
     "name": "stderr",
     "output_type": "stream",
     "text": [
      " 70%|\u001b[34m███████   \u001b[0m| 7/10 [00:41<00:17,  5.96s/it]\n"
     ]
    },
    {
     "name": "stdout",
     "output_type": "stream",
     "text": [
      "\u001b[36m(launch_and_fit pid=8698)\u001b[0m \tTrain Epoch: 7 \tTrain_loss: 0.2100 | Train_acc: 94.8828 % | Validation_loss: 1.1832 | Validation_acc: 65.7328 %\n",
      "\u001b[36m(launch_and_fit pid=8725)\u001b[0m \tTrain Epoch: 6 \tTrain_loss: 0.2495 | Train_acc: 93.2856 % | Validation_loss: 1.2128 | Validation_acc: 64.5811 %\n"
     ]
    },
    {
     "name": "stderr",
     "output_type": "stream",
     "text": [
      " 60%|\u001b[34m██████    \u001b[0m| 6/10 [00:36<00:24,  6.16s/it]\n",
      " 80%|\u001b[34m████████  \u001b[0m| 8/10 [00:47<00:11,  5.88s/it]\n"
     ]
    },
    {
     "name": "stdout",
     "output_type": "stream",
     "text": [
      "\u001b[36m(launch_and_fit pid=8698)\u001b[0m \tTrain Epoch: 8 \tTrain_loss: 0.1800 | Train_acc: 96.8533 % | Validation_loss: 1.2262 | Validation_acc: 65.5577 %\n",
      "\u001b[36m(launch_and_fit pid=8725)\u001b[0m \tTrain Epoch: 7 \tTrain_loss: 0.2169 | Train_acc: 95.3993 % | Validation_loss: 1.2398 | Validation_acc: 65.5577 %\n"
     ]
    },
    {
     "name": "stderr",
     "output_type": "stream",
     "text": [
      " 70%|\u001b[34m███████   \u001b[0m| 7/10 [00:42<00:18,  6.01s/it]\n",
      " 90%|\u001b[34m█████████ \u001b[0m| 9/10 [00:53<00:05,  5.87s/it]\n"
     ]
    },
    {
     "name": "stdout",
     "output_type": "stream",
     "text": [
      "\u001b[36m(launch_and_fit pid=8698)\u001b[0m \tTrain Epoch: 9 \tTrain_loss: 0.1599 | Train_acc: 97.6997 % | Validation_loss: 1.2693 | Validation_acc: 64.8909 %\n",
      "\u001b[36m(launch_and_fit pid=8725)\u001b[0m \tTrain Epoch: 8 \tTrain_loss: 0.2008 | Train_acc: 95.6207 % | Validation_loss: 1.2109 | Validation_acc: 65.2478 %\n"
     ]
    },
    {
     "name": "stderr",
     "output_type": "stream",
     "text": [
      " 80%|\u001b[34m████████  \u001b[0m| 8/10 [00:48<00:11,  5.98s/it]\n",
      "100%|\u001b[34m██████████\u001b[0m| 10/10 [00:58<00:00,  5.89s/it]\n"
     ]
    },
    {
     "name": "stdout",
     "output_type": "stream",
     "text": [
      "\u001b[36m(launch_and_fit pid=8698)\u001b[0m save graph in  results/FL/\n",
      "\u001b[36m(launch_and_fit pid=8698)\u001b[0m \tTrain Epoch: 10 \tTrain_loss: 0.1454 | Train_acc: 98.2639 % | Validation_loss: 1.2235 | Validation_acc: 64.1703 %\n",
      "\u001b[36m(launch_and_fit pid=8725)\u001b[0m \tTrain Epoch: 9 \tTrain_loss: 0.1734 | Train_acc: 97.5911 % | Validation_loss: 1.2292 | Validation_acc: 63.8537 %\n"
     ]
    },
    {
     "name": "stderr",
     "output_type": "stream",
     "text": [
      " 90%|\u001b[34m█████████ \u001b[0m| 9/10 [00:53<00:05,  5.91s/it]\n"
     ]
    },
    {
     "name": "stdout",
     "output_type": "stream",
     "text": [
      "\u001b[36m(launch_and_fit pid=8725)\u001b[0m \tTrain Epoch: 10 \tTrain_loss: 0.1515 | Train_acc: 98.2639 % | Validation_loss: 1.2192 | Validation_acc: 65.1266 %\n",
      "\u001b[36m(launch_and_fit pid=8725)\u001b[0m save graph in  results/FL/\n"
     ]
    },
    {
     "name": "stderr",
     "output_type": "stream",
     "text": [
      "100%|\u001b[34m██████████\u001b[0m| 10/10 [01:00<00:00,  6.03s/it]\n"
     ]
    },
    {
     "name": "stdout",
     "output_type": "stream",
     "text": [
      "\u001b[36m(launch_and_fit pid=8772)\u001b[0m Run WITHOUT homomorphic encryption\n",
      "\u001b[36m(launch_and_fit pid=8772)\u001b[0m  To get the checkpoint\n",
      "\u001b[36m(launch_and_fit pid=8772)\u001b[0m [Client 1, round 12] fit, config: {'learning_rate': 0.001, 'batch_size': '128', 'server_round': 12, 'local_epochs': 10}\n",
      "\u001b[36m(launch_and_fit pid=8772)\u001b[0m Updated model\n"
     ]
    },
    {
     "name": "stderr",
     "output_type": "stream",
     "text": [
      "  0%|\u001b[34m          \u001b[0m| 0/10 [00:00<?, ?it/s]\n"
     ]
    },
    {
     "name": "stdout",
     "output_type": "stream",
     "text": [
      "\u001b[36m(launch_and_fit pid=8800)\u001b[0m Run WITHOUT homomorphic encryption\n",
      "\u001b[36m(launch_and_fit pid=8800)\u001b[0m  To get the checkpoint\n",
      "\u001b[36m(launch_and_fit pid=8772)\u001b[0m \tTrain Epoch: 1 \tTrain_loss: 0.8069 | Train_acc: 73.1380 % | Validation_loss: 1.1079 | Validation_acc: 65.5240 %\n",
      "\u001b[36m(launch_and_fit pid=8800)\u001b[0m [Client 6, round 12] fit, config: {'learning_rate': 0.001, 'batch_size': '128', 'server_round': 12, 'local_epochs': 10}\n",
      "\u001b[36m(launch_and_fit pid=8800)\u001b[0m Updated model\n"
     ]
    },
    {
     "name": "stderr",
     "output_type": "stream",
     "text": [
      " 10%|\u001b[34m█         \u001b[0m| 1/10 [00:06<00:55,  6.19s/it]\n",
      "  0%|\u001b[34m          \u001b[0m| 0/10 [00:00<?, ?it/s]\n"
     ]
    },
    {
     "name": "stdout",
     "output_type": "stream",
     "text": [
      "\u001b[36m(launch_and_fit pid=8772)\u001b[0m \tTrain Epoch: 2 \tTrain_loss: 0.5226 | Train_acc: 82.8385 % | Validation_loss: 1.1726 | Validation_acc: 64.8572 %\n"
     ]
    },
    {
     "name": "stderr",
     "output_type": "stream",
     "text": [
      " 20%|\u001b[34m██        \u001b[0m| 2/10 [00:12<00:47,  5.99s/it]\n",
      " 10%|\u001b[34m█         \u001b[0m| 1/10 [00:06<00:57,  6.44s/it]\n"
     ]
    },
    {
     "name": "stdout",
     "output_type": "stream",
     "text": [
      "\u001b[36m(launch_and_fit pid=8800)\u001b[0m \tTrain Epoch: 1 \tTrain_loss: 0.8314 | Train_acc: 72.7648 % | Validation_loss: 1.1676 | Validation_acc: 61.2406 %\n",
      "\u001b[36m(launch_and_fit pid=8772)\u001b[0m \tTrain Epoch: 3 \tTrain_loss: 0.3845 | Train_acc: 88.1510 % | Validation_loss: 1.2188 | Validation_acc: 64.0962 %\n"
     ]
    },
    {
     "name": "stderr",
     "output_type": "stream",
     "text": [
      " 30%|\u001b[34m███       \u001b[0m| 3/10 [00:17<00:41,  5.96s/it]\n",
      " 20%|\u001b[34m██        \u001b[0m| 2/10 [00:12<00:49,  6.21s/it]\n"
     ]
    },
    {
     "name": "stdout",
     "output_type": "stream",
     "text": [
      "\u001b[36m(launch_and_fit pid=8800)\u001b[0m \tTrain Epoch: 2 \tTrain_loss: 0.5672 | Train_acc: 81.2023 % | Validation_loss: 1.2228 | Validation_acc: 63.2139 %\n"
     ]
    },
    {
     "name": "stderr",
     "output_type": "stream",
     "text": [
      " 30%|\u001b[34m███       \u001b[0m| 3/10 [00:18<00:41,  5.99s/it]\u001b[32m [repeated 2x across cluster]\u001b[0m\n"
     ]
    },
    {
     "name": "stdout",
     "output_type": "stream",
     "text": [
      "\u001b[36m(launch_and_fit pid=8800)\u001b[0m \tTrain Epoch: 3 \tTrain_loss: 0.4126 | Train_acc: 87.1137 % | Validation_loss: 1.2093 | Validation_acc: 62.4529 %\u001b[32m [repeated 2x across cluster]\u001b[0m\n",
      "\u001b[36m(launch_and_fit pid=8772)\u001b[0m \tTrain Epoch: 5 \tTrain_loss: 0.2995 | Train_acc: 91.6840 % | Validation_loss: 1.3044 | Validation_acc: 65.0929 %\n"
     ]
    },
    {
     "name": "stderr",
     "output_type": "stream",
     "text": [
      " 50%|\u001b[34m█████     \u001b[0m| 5/10 [00:29<00:29,  5.97s/it]\n",
      " 40%|\u001b[34m████      \u001b[0m| 4/10 [00:24<00:36,  6.05s/it]\n"
     ]
    },
    {
     "name": "stdout",
     "output_type": "stream",
     "text": [
      "\u001b[36m(launch_and_fit pid=8800)\u001b[0m \tTrain Epoch: 4 \tTrain_loss: 0.3238 | Train_acc: 90.1736 % | Validation_loss: 1.2483 | Validation_acc: 61.7255 %\n",
      "\u001b[36m(launch_and_fit pid=8772)\u001b[0m \tTrain Epoch: 6 \tTrain_loss: 0.2574 | Train_acc: 93.0556 % | Validation_loss: 1.2689 | Validation_acc: 64.2713 %\n"
     ]
    },
    {
     "name": "stderr",
     "output_type": "stream",
     "text": [
      " 60%|\u001b[34m██████    \u001b[0m| 6/10 [00:36<00:24,  6.04s/it]\n",
      " 50%|\u001b[34m█████     \u001b[0m| 5/10 [00:30<00:29,  5.99s/it]\n"
     ]
    },
    {
     "name": "stdout",
     "output_type": "stream",
     "text": [
      "\u001b[36m(launch_and_fit pid=8800)\u001b[0m \tTrain Epoch: 5 \tTrain_loss: 0.2879 | Train_acc: 92.0616 % | Validation_loss: 1.3196 | Validation_acc: 60.8499 %\n",
      "\u001b[36m(launch_and_fit pid=8772)\u001b[0m \tTrain Epoch: 7 \tTrain_loss: 0.2325 | Train_acc: 94.2491 % | Validation_loss: 1.2766 | Validation_acc: 64.0760 %\n"
     ]
    },
    {
     "name": "stderr",
     "output_type": "stream",
     "text": [
      " 70%|\u001b[34m███████   \u001b[0m| 7/10 [00:41<00:17,  5.97s/it]\n",
      " 60%|\u001b[34m██████    \u001b[0m| 6/10 [00:36<00:24,  6.03s/it]\n"
     ]
    },
    {
     "name": "stdout",
     "output_type": "stream",
     "text": [
      "\u001b[36m(launch_and_fit pid=8800)\u001b[0m \tTrain Epoch: 6 \tTrain_loss: 0.2448 | Train_acc: 94.2448 % | Validation_loss: 1.2916 | Validation_acc: 61.6110 %\n"
     ]
    },
    {
     "name": "stderr",
     "output_type": "stream",
     "text": [
      " 70%|\u001b[34m███████   \u001b[0m| 7/10 [00:42<00:17,  5.95s/it]\u001b[32m [repeated 2x across cluster]\u001b[0m\n"
     ]
    },
    {
     "name": "stdout",
     "output_type": "stream",
     "text": [
      "\u001b[36m(launch_and_fit pid=8800)\u001b[0m \tTrain Epoch: 7 \tTrain_loss: 0.2024 | Train_acc: 95.8550 % | Validation_loss: 1.2934 | Validation_acc: 63.2543 %\u001b[32m [repeated 2x across cluster]\u001b[0m\n"
     ]
    },
    {
     "name": "stderr",
     "output_type": "stream",
     "text": [
      " 80%|\u001b[34m████████  \u001b[0m| 8/10 [00:47<00:11,  5.92s/it]\u001b[32m [repeated 2x across cluster]\u001b[0m\n"
     ]
    },
    {
     "name": "stdout",
     "output_type": "stream",
     "text": [
      "\u001b[36m(launch_and_fit pid=8800)\u001b[0m \tTrain Epoch: 8 \tTrain_loss: 0.1821 | Train_acc: 97.1571 % | Validation_loss: 1.2564 | Validation_acc: 63.0388 %\u001b[32m [repeated 2x across cluster]\u001b[0m\n",
      "\u001b[36m(launch_and_fit pid=8772)\u001b[0m save graph in  results/FL/\n"
     ]
    },
    {
     "name": "stderr",
     "output_type": "stream",
     "text": [
      " 90%|\u001b[34m█████████ \u001b[0m| 9/10 [00:53<00:05,  5.94s/it]\u001b[32m [repeated 2x across cluster]\u001b[0m\n"
     ]
    },
    {
     "name": "stdout",
     "output_type": "stream",
     "text": [
      "\u001b[36m(launch_and_fit pid=8800)\u001b[0m \tTrain Epoch: 9 \tTrain_loss: 0.1647 | Train_acc: 97.5911 % | Validation_loss: 1.2659 | Validation_acc: 64.3117 %\u001b[32m [repeated 2x across cluster]\u001b[0m\n"
     ]
    },
    {
     "name": "stderr",
     "output_type": "stream",
     "text": [
      "100%|\u001b[34m██████████\u001b[0m| 10/10 [01:00<00:00,  6.04s/it]\n"
     ]
    },
    {
     "name": "stdout",
     "output_type": "stream",
     "text": [
      "\u001b[36m(launch_and_fit pid=8800)\u001b[0m save graph in  results/FL/\n",
      "\u001b[36m(launch_and_fit pid=8800)\u001b[0m \tTrain Epoch: 10 \tTrain_loss: 0.1453 | Train_acc: 98.4939 % | Validation_loss: 1.3053 | Validation_acc: 62.7088 %\n",
      "\u001b[36m(launch_and_fit pid=8846)\u001b[0m Run WITHOUT homomorphic encryption\n",
      "\u001b[36m(launch_and_fit pid=8846)\u001b[0m  To get the checkpoint\n",
      "\u001b[36m(launch_and_fit pid=8846)\u001b[0m [Client 9, round 12] fit, config: {'learning_rate': 0.001, 'batch_size': '128', 'server_round': 12, 'local_epochs': 10}\n",
      "\u001b[36m(launch_and_fit pid=8846)\u001b[0m Updated model\n"
     ]
    },
    {
     "name": "stderr",
     "output_type": "stream",
     "text": [
      "  0%|\u001b[34m          \u001b[0m| 0/10 [00:00<?, ?it/s]\n"
     ]
    },
    {
     "name": "stdout",
     "output_type": "stream",
     "text": [
      "\u001b[36m(launch_and_fit pid=8846)\u001b[0m \tTrain Epoch: 1 \tTrain_loss: 0.8264 | Train_acc: 72.9123 % | Validation_loss: 1.2716 | Validation_acc: 61.8669 %\n"
     ]
    },
    {
     "name": "stderr",
     "output_type": "stream",
     "text": [
      " 10%|\u001b[34m█         \u001b[0m| 1/10 [00:06<00:55,  6.17s/it]\n"
     ]
    },
    {
     "name": "stdout",
     "output_type": "stream",
     "text": [
      "\u001b[36m(launch_and_fit pid=8875)\u001b[0m Run WITHOUT homomorphic encryption\n",
      "\u001b[36m(launch_and_fit pid=8875)\u001b[0m  To get the checkpoint\n",
      "\u001b[36m(launch_and_fit pid=8875)\u001b[0m [Client 8, round 12] fit, config: {'learning_rate': 0.001, 'batch_size': '128', 'server_round': 12, 'local_epochs': 10}\n",
      "\u001b[36m(launch_and_fit pid=8875)\u001b[0m Updated model\n"
     ]
    },
    {
     "name": "stderr",
     "output_type": "stream",
     "text": [
      "  0%|\u001b[34m          \u001b[0m| 0/10 [00:00<?, ?it/s]\n"
     ]
    },
    {
     "name": "stdout",
     "output_type": "stream",
     "text": [
      "\u001b[36m(launch_and_fit pid=8846)\u001b[0m \tTrain Epoch: 2 \tTrain_loss: 0.5491 | Train_acc: 81.9401 % | Validation_loss: 1.2685 | Validation_acc: 62.8031 %\n"
     ]
    },
    {
     "name": "stderr",
     "output_type": "stream",
     "text": [
      " 20%|\u001b[34m██        \u001b[0m| 2/10 [00:11<00:46,  5.87s/it]\n"
     ]
    },
    {
     "name": "stdout",
     "output_type": "stream",
     "text": [
      "\u001b[36m(launch_and_fit pid=8875)\u001b[0m \tTrain Epoch: 1 \tTrain_loss: 0.8422 | Train_acc: 72.5130 % | Validation_loss: 1.1620 | Validation_acc: 61.3012 %\n"
     ]
    },
    {
     "name": "stderr",
     "output_type": "stream",
     "text": [
      " 10%|\u001b[34m█         \u001b[0m| 1/10 [00:06<00:55,  6.12s/it]\n"
     ]
    },
    {
     "name": "stdout",
     "output_type": "stream",
     "text": [
      "\u001b[36m(launch_and_fit pid=8875)\u001b[0m \tTrain Epoch: 2 \tTrain_loss: 0.5630 | Train_acc: 81.4019 % | Validation_loss: 1.2420 | Validation_acc: 61.4359 %\u001b[32m [repeated 2x across cluster]\u001b[0m\n"
     ]
    },
    {
     "name": "stderr",
     "output_type": "stream",
     "text": [
      " 20%|\u001b[34m██        \u001b[0m| 2/10 [00:11<00:46,  5.82s/it]\u001b[32m [repeated 2x across cluster]\u001b[0m\n"
     ]
    },
    {
     "name": "stdout",
     "output_type": "stream",
     "text": [
      "\u001b[36m(launch_and_fit pid=8875)\u001b[0m \tTrain Epoch: 3 \tTrain_loss: 0.4287 | Train_acc: 86.0720 % | Validation_loss: 1.2630 | Validation_acc: 62.5135 %\u001b[32m [repeated 2x across cluster]\u001b[0m\n"
     ]
    },
    {
     "name": "stderr",
     "output_type": "stream",
     "text": [
      " 30%|\u001b[34m███       \u001b[0m| 3/10 [00:17<00:41,  5.92s/it]\u001b[32m [repeated 2x across cluster]\u001b[0m\n"
     ]
    },
    {
     "name": "stdout",
     "output_type": "stream",
     "text": [
      "\u001b[36m(launch_and_fit pid=8875)\u001b[0m \tTrain Epoch: 4 \tTrain_loss: 0.3556 | Train_acc: 89.3056 % | Validation_loss: 1.2858 | Validation_acc: 62.1565 %\u001b[32m [repeated 2x across cluster]\u001b[0m\n"
     ]
    },
    {
     "name": "stderr",
     "output_type": "stream",
     "text": [
      " 40%|\u001b[34m████      \u001b[0m| 4/10 [00:23<00:35,  5.88s/it]\u001b[32m [repeated 2x across cluster]\u001b[0m\n"
     ]
    },
    {
     "name": "stdout",
     "output_type": "stream",
     "text": [
      "\u001b[36m(launch_and_fit pid=8875)\u001b[0m \tTrain Epoch: 5 \tTrain_loss: 0.2885 | Train_acc: 91.7665 % | Validation_loss: 1.3004 | Validation_acc: 62.2777 %\u001b[32m [repeated 2x across cluster]\u001b[0m\n"
     ]
    },
    {
     "name": "stderr",
     "output_type": "stream",
     "text": [
      " 50%|\u001b[34m█████     \u001b[0m| 5/10 [00:29<00:29,  5.81s/it]\u001b[32m [repeated 2x across cluster]\u001b[0m\n"
     ]
    },
    {
     "name": "stdout",
     "output_type": "stream",
     "text": [
      "\u001b[36m(launch_and_fit pid=8875)\u001b[0m \tTrain Epoch: 6 \tTrain_loss: 0.2474 | Train_acc: 93.5894 % | Validation_loss: 1.2968 | Validation_acc: 62.6482 %\u001b[32m [repeated 2x across cluster]\u001b[0m\n"
     ]
    },
    {
     "name": "stderr",
     "output_type": "stream",
     "text": [
      " 60%|\u001b[34m██████    \u001b[0m| 6/10 [00:35<00:23,  5.85s/it]\u001b[32m [repeated 2x across cluster]\u001b[0m\n"
     ]
    },
    {
     "name": "stdout",
     "output_type": "stream",
     "text": [
      "\u001b[36m(launch_and_fit pid=8875)\u001b[0m \tTrain Epoch: 7 \tTrain_loss: 0.2169 | Train_acc: 95.1085 % | Validation_loss: 1.3920 | Validation_acc: 61.0048 %\u001b[32m [repeated 2x across cluster]\u001b[0m\n"
     ]
    },
    {
     "name": "stderr",
     "output_type": "stream",
     "text": [
      " 70%|\u001b[34m███████   \u001b[0m| 7/10 [00:40<00:17,  5.79s/it]\u001b[32m [repeated 2x across cluster]\u001b[0m\n"
     ]
    },
    {
     "name": "stdout",
     "output_type": "stream",
     "text": [
      "\u001b[36m(launch_and_fit pid=8875)\u001b[0m \tTrain Epoch: 8 \tTrain_loss: 0.1741 | Train_acc: 96.9184 % | Validation_loss: 1.3799 | Validation_acc: 61.4561 %\u001b[32m [repeated 2x across cluster]\u001b[0m\n"
     ]
    },
    {
     "name": "stderr",
     "output_type": "stream",
     "text": [
      " 80%|\u001b[34m████████  \u001b[0m| 8/10 [00:47<00:11,  5.91s/it]\u001b[32m [repeated 2x across cluster]\u001b[0m\n"
     ]
    },
    {
     "name": "stdout",
     "output_type": "stream",
     "text": [
      "\u001b[36m(launch_and_fit pid=8846)\u001b[0m save graph in  results/FL/\n",
      "\u001b[36m(launch_and_fit pid=8875)\u001b[0m \tTrain Epoch: 9 \tTrain_loss: 0.1513 | Train_acc: 97.8299 % | Validation_loss: 1.3766 | Validation_acc: 61.2608 %\u001b[32m [repeated 2x across cluster]\u001b[0m\n"
     ]
    },
    {
     "name": "stderr",
     "output_type": "stream",
     "text": [
      " 90%|\u001b[34m█████████ \u001b[0m| 9/10 [00:52<00:05,  5.84s/it]\u001b[32m [repeated 2x across cluster]\u001b[0m\n"
     ]
    },
    {
     "name": "stdout",
     "output_type": "stream",
     "text": [
      "\u001b[36m(launch_and_fit pid=8875)\u001b[0m save graph in  results/FL/\n",
      "\u001b[36m(launch_and_fit pid=8875)\u001b[0m \tTrain Epoch: 10 \tTrain_loss: 0.1370 | Train_acc: 98.4809 % | Validation_loss: 1.3916 | Validation_acc: 61.2406 %\n"
     ]
    },
    {
     "name": "stderr",
     "output_type": "stream",
     "text": [
      "100%|\u001b[34m██████████\u001b[0m| 10/10 [00:58<00:00,  5.82s/it]\n",
      "DEBUG flwr 2024-07-20 19:46:19,679 | server.py:236 | fit_round 12 received 10 results and 0 failures\n"
     ]
    },
    {
     "name": "stdout",
     "output_type": "stream",
     "text": [
      "Saving round 12 aggregated_parameters...\n",
      "Updated model\n"
     ]
    },
    {
     "name": "stderr",
     "output_type": "stream",
     "text": [
      "INFO flwr 2024-07-20 19:46:25,332 | server.py:125 | fit progress: (12, 1.1323830741870253, {'accuracy': 68.77966772151899}, 5380.021424135)\n",
      "DEBUG flwr 2024-07-20 19:46:25,333 | server.py:173 | evaluate_round 12: strategy sampled 10 clients (out of 10)\n"
     ]
    },
    {
     "name": "stdout",
     "output_type": "stream",
     "text": [
      "Server-side evaluation loss 1.1323830741870253 / accuracy 68.77966772151899\n",
      "\u001b[36m(launch_and_evaluate pid=8929)\u001b[0m Run WITHOUT homomorphic encryption\n",
      "\u001b[36m(launch_and_evaluate pid=8929)\u001b[0m  To get the checkpoint\n",
      "\u001b[36m(launch_and_evaluate pid=8929)\u001b[0m [Client 0] evaluate, config: {}\n",
      "\u001b[36m(launch_and_evaluate pid=8929)\u001b[0m Updated model\n",
      "\u001b[36m(launch_and_evaluate pid=8993)\u001b[0m Run WITHOUT homomorphic encryption\u001b[32m [repeated 2x across cluster]\u001b[0m\n",
      "\u001b[36m(launch_and_evaluate pid=8993)\u001b[0m  To get the checkpoint\u001b[32m [repeated 2x across cluster]\u001b[0m\n",
      "\u001b[36m(launch_and_evaluate pid=8953)\u001b[0m [Client 8] evaluate, config: {}\n",
      "\u001b[36m(launch_and_evaluate pid=8953)\u001b[0m Updated model\n",
      "\u001b[36m(launch_and_evaluate pid=8993)\u001b[0m [Client 1] evaluate, config: {}\n",
      "\u001b[36m(launch_and_evaluate pid=8993)\u001b[0m Updated model\n",
      "\u001b[36m(launch_and_evaluate pid=9062)\u001b[0m Run WITHOUT homomorphic encryption\u001b[32m [repeated 2x across cluster]\u001b[0m\n",
      "\u001b[36m(launch_and_evaluate pid=9062)\u001b[0m  To get the checkpoint\u001b[32m [repeated 2x across cluster]\u001b[0m\n",
      "\u001b[36m(launch_and_evaluate pid=9023)\u001b[0m [Client 6] evaluate, config: {}\n",
      "\u001b[36m(launch_and_evaluate pid=9023)\u001b[0m Updated model\n",
      "\u001b[36m(launch_and_evaluate pid=9062)\u001b[0m [Client 7] evaluate, config: {}\n",
      "\u001b[36m(launch_and_evaluate pid=9062)\u001b[0m Updated model\n",
      "\u001b[36m(launch_and_evaluate pid=9132)\u001b[0m Run WITHOUT homomorphic encryption\u001b[32m [repeated 2x across cluster]\u001b[0m\n",
      "\u001b[36m(launch_and_evaluate pid=9132)\u001b[0m  To get the checkpoint\u001b[32m [repeated 2x across cluster]\u001b[0m\n",
      "\u001b[36m(launch_and_evaluate pid=9093)\u001b[0m [Client 3] evaluate, config: {}\n",
      "\u001b[36m(launch_and_evaluate pid=9093)\u001b[0m Updated model\n",
      "\u001b[36m(launch_and_evaluate pid=9132)\u001b[0m [Client 2] evaluate, config: {}\n",
      "\u001b[36m(launch_and_evaluate pid=9132)\u001b[0m Updated model\n",
      "\u001b[36m(launch_and_evaluate pid=9202)\u001b[0m Run WITHOUT homomorphic encryption\u001b[32m [repeated 2x across cluster]\u001b[0m\n",
      "\u001b[36m(launch_and_evaluate pid=9202)\u001b[0m  To get the checkpoint\u001b[32m [repeated 2x across cluster]\u001b[0m\n",
      "\u001b[36m(launch_and_evaluate pid=9163)\u001b[0m [Client 9] evaluate, config: {}\n",
      "\u001b[36m(launch_and_evaluate pid=9163)\u001b[0m Updated model\n",
      "\u001b[36m(launch_and_evaluate pid=9202)\u001b[0m [Client 4] evaluate, config: {}\n",
      "\u001b[36m(launch_and_evaluate pid=9202)\u001b[0m Updated model\n"
     ]
    },
    {
     "name": "stderr",
     "output_type": "stream",
     "text": [
      "DEBUG flwr 2024-07-20 19:47:42,282 | server.py:187 | evaluate_round 12 received 10 results and 0 failures\n",
      "DEBUG flwr 2024-07-20 19:47:42,283 | server.py:222 | fit_round 13: strategy sampled 10 clients (out of 10)\n"
     ]
    },
    {
     "name": "stdout",
     "output_type": "stream",
     "text": [
      "\u001b[36m(launch_and_fit pid=9287)\u001b[0m Run WITHOUT homomorphic encryption\u001b[32m [repeated 2x across cluster]\u001b[0m\n",
      "\u001b[36m(launch_and_fit pid=9287)\u001b[0m  To get the checkpoint\u001b[32m [repeated 2x across cluster]\u001b[0m\n",
      "\u001b[36m(launch_and_evaluate pid=9233)\u001b[0m [Client 5] evaluate, config: {}\n",
      "\u001b[36m(launch_and_evaluate pid=9233)\u001b[0m Updated model\n",
      "\u001b[36m(launch_and_fit pid=9287)\u001b[0m [Client 4, round 13] fit, config: {'learning_rate': 0.001, 'batch_size': '128', 'server_round': 13, 'local_epochs': 10}\n",
      "\u001b[36m(launch_and_fit pid=9287)\u001b[0m Updated model\n"
     ]
    },
    {
     "name": "stderr",
     "output_type": "stream",
     "text": [
      "  0%|\u001b[34m          \u001b[0m| 0/10 [00:00<?, ?it/s]\n"
     ]
    },
    {
     "name": "stdout",
     "output_type": "stream",
     "text": [
      "\u001b[36m(launch_and_fit pid=9287)\u001b[0m \tTrain Epoch: 1 \tTrain_loss: 0.7436 | Train_acc: 75.5165 % | Validation_loss: 1.2466 | Validation_acc: 63.5843 %\n",
      "\u001b[36m(launch_and_fit pid=9288)\u001b[0m Run WITHOUT homomorphic encryption\n",
      "\u001b[36m(launch_and_fit pid=9288)\u001b[0m  To get the checkpoint\n",
      "\u001b[36m(launch_and_fit pid=9288)\u001b[0m [Client 7, round 13] fit, config: {'learning_rate': 0.001, 'batch_size': '128', 'server_round': 13, 'local_epochs': 10}\n",
      "\u001b[36m(launch_and_fit pid=9288)\u001b[0m Updated model\n"
     ]
    },
    {
     "name": "stderr",
     "output_type": "stream",
     "text": [
      " 10%|\u001b[34m█         \u001b[0m| 1/10 [00:06<00:56,  6.31s/it]\n",
      "  0%|\u001b[34m          \u001b[0m| 0/10 [00:00<?, ?it/s]\n"
     ]
    },
    {
     "name": "stdout",
     "output_type": "stream",
     "text": [
      "\u001b[36m(launch_and_fit pid=9287)\u001b[0m \tTrain Epoch: 2 \tTrain_loss: 0.4756 | Train_acc: 84.7917 % | Validation_loss: 1.2251 | Validation_acc: 67.3559 %\u001b[32m [repeated 2x across cluster]\u001b[0m\n"
     ]
    },
    {
     "name": "stderr",
     "output_type": "stream",
     "text": [
      " 20%|\u001b[34m██        \u001b[0m| 2/10 [00:12<00:50,  6.26s/it]\u001b[32m [repeated 2x across cluster]\u001b[0m\n",
      " 30%|\u001b[34m███       \u001b[0m| 3/10 [00:18<00:41,  5.96s/it]\u001b[32m [repeated 2x across cluster]\u001b[0m\n"
     ]
    },
    {
     "name": "stdout",
     "output_type": "stream",
     "text": [
      "\u001b[36m(launch_and_fit pid=9288)\u001b[0m \tTrain Epoch: 3 \tTrain_loss: 0.3484 | Train_acc: 89.1319 % | Validation_loss: 1.1283 | Validation_acc: 66.9518 %\u001b[32m [repeated 2x across cluster]\u001b[0m\n"
     ]
    },
    {
     "name": "stderr",
     "output_type": "stream",
     "text": [
      " 40%|\u001b[34m████      \u001b[0m| 4/10 [00:23<00:35,  5.90s/it]\u001b[32m [repeated 2x across cluster]\u001b[0m\n"
     ]
    },
    {
     "name": "stdout",
     "output_type": "stream",
     "text": [
      "\u001b[36m(launch_and_fit pid=9288)\u001b[0m \tTrain Epoch: 4 \tTrain_loss: 0.2556 | Train_acc: 93.2552 % | Validation_loss: 1.0902 | Validation_acc: 68.7298 %\u001b[32m [repeated 2x across cluster]\u001b[0m\n"
     ]
    },
    {
     "name": "stderr",
     "output_type": "stream",
     "text": [
      " 50%|\u001b[34m█████     \u001b[0m| 5/10 [00:29<00:29,  5.89s/it]\u001b[32m [repeated 2x across cluster]\u001b[0m\n"
     ]
    },
    {
     "name": "stdout",
     "output_type": "stream",
     "text": [
      "\u001b[36m(launch_and_fit pid=9288)\u001b[0m \tTrain Epoch: 5 \tTrain_loss: 0.2244 | Train_acc: 94.9479 % | Validation_loss: 1.1799 | Validation_acc: 66.1099 %\u001b[32m [repeated 2x across cluster]\u001b[0m\n"
     ]
    },
    {
     "name": "stderr",
     "output_type": "stream",
     "text": [
      " 60%|\u001b[34m██████    \u001b[0m| 6/10 [00:35<00:23,  5.96s/it]\u001b[32m [repeated 2x across cluster]\u001b[0m\n"
     ]
    },
    {
     "name": "stdout",
     "output_type": "stream",
     "text": [
      "\u001b[36m(launch_and_fit pid=9288)\u001b[0m \tTrain Epoch: 6 \tTrain_loss: 0.1838 | Train_acc: 96.0069 % | Validation_loss: 1.1578 | Validation_acc: 66.2109 %\u001b[32m [repeated 2x across cluster]\u001b[0m\n"
     ]
    },
    {
     "name": "stderr",
     "output_type": "stream",
     "text": [
      " 70%|\u001b[34m███████   \u001b[0m| 7/10 [00:42<00:18,  6.01s/it]\u001b[32m [repeated 2x across cluster]\u001b[0m\n"
     ]
    },
    {
     "name": "stdout",
     "output_type": "stream",
     "text": [
      "\u001b[36m(launch_and_fit pid=9288)\u001b[0m \tTrain Epoch: 7 \tTrain_loss: 0.1624 | Train_acc: 96.8316 % | Validation_loss: 1.1923 | Validation_acc: 66.6959 %\u001b[32m [repeated 2x across cluster]\u001b[0m\n",
      "\u001b[36m(launch_and_fit pid=9287)\u001b[0m \tTrain Epoch: 8 \tTrain_loss: 0.1310 | Train_acc: 98.4939 % | Validation_loss: 1.4309 | Validation_acc: 63.8200 %\u001b[32m [repeated 2x across cluster]\u001b[0m\n"
     ]
    },
    {
     "name": "stderr",
     "output_type": "stream",
     "text": [
      " 80%|\u001b[34m████████  \u001b[0m| 8/10 [00:47<00:11,  5.90s/it]\u001b[32m [repeated 2x across cluster]\u001b[0m\n"
     ]
    },
    {
     "name": "stdout",
     "output_type": "stream",
     "text": [
      "\u001b[36m(launch_and_fit pid=9287)\u001b[0m \tTrain Epoch: 9 \tTrain_loss: 0.1005 | Train_acc: 99.1536 % | Validation_loss: 1.4196 | Validation_acc: 63.6045 %\u001b[32m [repeated 2x across cluster]\u001b[0m\n"
     ]
    },
    {
     "name": "stderr",
     "output_type": "stream",
     "text": [
      " 90%|\u001b[34m█████████ \u001b[0m| 9/10 [00:53<00:05,  5.84s/it]\u001b[32m [repeated 2x across cluster]\u001b[0m\n"
     ]
    },
    {
     "name": "stdout",
     "output_type": "stream",
     "text": [
      "\u001b[36m(launch_and_fit pid=9287)\u001b[0m save graph in  results/FL/\n",
      "\u001b[36m(launch_and_fit pid=9287)\u001b[0m \tTrain Epoch: 10 \tTrain_loss: 0.0918 | Train_acc: 99.3924 % | Validation_loss: 1.4035 | Validation_acc: 64.3858 %\u001b[32m [repeated 2x across cluster]\u001b[0m\n"
     ]
    },
    {
     "name": "stderr",
     "output_type": "stream",
     "text": [
      "100%|\u001b[34m██████████\u001b[0m| 10/10 [00:59<00:00,  5.93s/it]\u001b[32m [repeated 2x across cluster]\u001b[0m\n"
     ]
    },
    {
     "name": "stdout",
     "output_type": "stream",
     "text": [
      "\u001b[36m(launch_and_fit pid=9361)\u001b[0m Run WITHOUT homomorphic encryption\n",
      "\u001b[36m(launch_and_fit pid=9361)\u001b[0m  To get the checkpoint\n",
      "\u001b[36m(launch_and_fit pid=9288)\u001b[0m save graph in  results/FL/\n",
      "\u001b[36m(launch_and_fit pid=9288)\u001b[0m \tTrain Epoch: 10 \tTrain_loss: 0.0887 | Train_acc: 99.3490 % | Validation_loss: 1.1663 | Validation_acc: 69.2955 %\n"
     ]
    },
    {
     "name": "stderr",
     "output_type": "stream",
     "text": [
      "  0%|\u001b[34m          \u001b[0m| 0/10 [00:00<?, ?it/s]\n",
      "100%|\u001b[34m██████████\u001b[0m| 10/10 [00:59<00:00,  5.94s/it]\n"
     ]
    },
    {
     "name": "stdout",
     "output_type": "stream",
     "text": [
      "\u001b[36m(launch_and_fit pid=9361)\u001b[0m [Client 2, round 13] fit, config: {'learning_rate': 0.001, 'batch_size': '128', 'server_round': 13, 'local_epochs': 10}\n",
      "\u001b[36m(launch_and_fit pid=9361)\u001b[0m Updated model\n"
     ]
    },
    {
     "name": "stderr",
     "output_type": "stream",
     "text": [
      " 10%|\u001b[34m█         \u001b[0m| 1/10 [00:06<00:57,  6.40s/it]\n",
      "  0%|\u001b[34m          \u001b[0m| 0/10 [00:00<?, ?it/s]\n"
     ]
    },
    {
     "name": "stdout",
     "output_type": "stream",
     "text": [
      "\u001b[36m(launch_and_fit pid=9361)\u001b[0m \tTrain Epoch: 1 \tTrain_loss: 0.7221 | Train_acc: 76.6363 % | Validation_loss: 1.1629 | Validation_acc: 65.8877 %\n",
      "\u001b[36m(launch_and_fit pid=9363)\u001b[0m Run WITHOUT homomorphic encryption\n",
      "\u001b[36m(launch_and_fit pid=9363)\u001b[0m  To get the checkpoint\n",
      "\u001b[36m(launch_and_fit pid=9363)\u001b[0m [Client 3, round 13] fit, config: {'learning_rate': 0.001, 'batch_size': '128', 'server_round': 13, 'local_epochs': 10}\n",
      "\u001b[36m(launch_and_fit pid=9363)\u001b[0m Updated model\n"
     ]
    },
    {
     "name": "stderr",
     "output_type": "stream",
     "text": [
      " 20%|\u001b[34m██        \u001b[0m| 2/10 [00:12<00:47,  5.97s/it]\u001b[32m [repeated 2x across cluster]\u001b[0m\n"
     ]
    },
    {
     "name": "stdout",
     "output_type": "stream",
     "text": [
      "\u001b[36m(launch_and_fit pid=9361)\u001b[0m \tTrain Epoch: 2 \tTrain_loss: 0.4754 | Train_acc: 84.5833 % | Validation_loss: 1.1928 | Validation_acc: 63.8739 %\u001b[32m [repeated 2x across cluster]\u001b[0m\n"
     ]
    },
    {
     "name": "stderr",
     "output_type": "stream",
     "text": [
      " 30%|\u001b[34m███       \u001b[0m| 3/10 [00:17<00:41,  5.87s/it]\u001b[32m [repeated 2x across cluster]\u001b[0m\n"
     ]
    },
    {
     "name": "stdout",
     "output_type": "stream",
     "text": [
      "\u001b[36m(launch_and_fit pid=9361)\u001b[0m \tTrain Epoch: 3 \tTrain_loss: 0.3347 | Train_acc: 89.9479 % | Validation_loss: 1.2811 | Validation_acc: 63.6786 %\u001b[32m [repeated 2x across cluster]\u001b[0m\n"
     ]
    },
    {
     "name": "stderr",
     "output_type": "stream",
     "text": [
      " 40%|\u001b[34m████      \u001b[0m| 4/10 [00:23<00:34,  5.82s/it]\u001b[32m [repeated 2x across cluster]\u001b[0m\n"
     ]
    },
    {
     "name": "stdout",
     "output_type": "stream",
     "text": [
      "\u001b[36m(launch_and_fit pid=9361)\u001b[0m \tTrain Epoch: 4 \tTrain_loss: 0.2781 | Train_acc: 92.1788 % | Validation_loss: 1.3117 | Validation_acc: 64.0288 %\u001b[32m [repeated 2x across cluster]\u001b[0m\n"
     ]
    },
    {
     "name": "stderr",
     "output_type": "stream",
     "text": [
      " 50%|\u001b[34m█████     \u001b[0m| 5/10 [00:29<00:29,  5.83s/it]\u001b[32m [repeated 2x across cluster]\u001b[0m\n"
     ]
    },
    {
     "name": "stdout",
     "output_type": "stream",
     "text": [
      "\u001b[36m(launch_and_fit pid=9361)\u001b[0m \tTrain Epoch: 5 \tTrain_loss: 0.2248 | Train_acc: 94.6962 % | Validation_loss: 1.2278 | Validation_acc: 65.9281 %\u001b[32m [repeated 2x across cluster]\u001b[0m\n"
     ]
    },
    {
     "name": "stderr",
     "output_type": "stream",
     "text": [
      " 60%|\u001b[34m██████    \u001b[0m| 6/10 [00:35<00:23,  5.97s/it]\u001b[32m [repeated 2x across cluster]\u001b[0m\n"
     ]
    },
    {
     "name": "stdout",
     "output_type": "stream",
     "text": [
      "\u001b[36m(launch_and_fit pid=9361)\u001b[0m \tTrain Epoch: 6 \tTrain_loss: 0.1788 | Train_acc: 96.4323 % | Validation_loss: 1.2449 | Validation_acc: 66.1436 %\u001b[32m [repeated 2x across cluster]\u001b[0m\n"
     ]
    },
    {
     "name": "stderr",
     "output_type": "stream",
     "text": [
      " 70%|\u001b[34m███████   \u001b[0m| 7/10 [00:41<00:17,  5.92s/it]\u001b[32m [repeated 2x across cluster]\u001b[0m\n"
     ]
    },
    {
     "name": "stdout",
     "output_type": "stream",
     "text": [
      "\u001b[36m(launch_and_fit pid=9361)\u001b[0m \tTrain Epoch: 7 \tTrain_loss: 0.1412 | Train_acc: 97.9384 % | Validation_loss: 1.2635 | Validation_acc: 65.8877 %\u001b[32m [repeated 2x across cluster]\u001b[0m\n"
     ]
    },
    {
     "name": "stderr",
     "output_type": "stream",
     "text": [
      " 80%|\u001b[34m████████  \u001b[0m| 8/10 [00:47<00:11,  5.87s/it]\u001b[32m [repeated 2x across cluster]\u001b[0m\n"
     ]
    },
    {
     "name": "stdout",
     "output_type": "stream",
     "text": [
      "\u001b[36m(launch_and_fit pid=9361)\u001b[0m \tTrain Epoch: 8 \tTrain_loss: 0.1136 | Train_acc: 98.8281 % | Validation_loss: 1.2864 | Validation_acc: 65.1266 %\u001b[32m [repeated 2x across cluster]\u001b[0m\n"
     ]
    },
    {
     "name": "stderr",
     "output_type": "stream",
     "text": [
      " 90%|\u001b[34m█████████ \u001b[0m| 9/10 [00:53<00:05,  5.91s/it]\u001b[32m [repeated 2x across cluster]\u001b[0m\n"
     ]
    },
    {
     "name": "stdout",
     "output_type": "stream",
     "text": [
      "\u001b[36m(launch_and_fit pid=9361)\u001b[0m \tTrain Epoch: 9 \tTrain_loss: 0.0953 | Train_acc: 99.2622 % | Validation_loss: 1.2749 | Validation_acc: 65.3421 %\u001b[32m [repeated 2x across cluster]\u001b[0m\n"
     ]
    },
    {
     "name": "stderr",
     "output_type": "stream",
     "text": [
      "100%|\u001b[34m██████████\u001b[0m| 10/10 [00:59<00:00,  5.91s/it]\u001b[32m [repeated 2x across cluster]\u001b[0m\n"
     ]
    },
    {
     "name": "stdout",
     "output_type": "stream",
     "text": [
      "\u001b[36m(launch_and_fit pid=9361)\u001b[0m save graph in  results/FL/\n",
      "\u001b[36m(launch_and_fit pid=9361)\u001b[0m \tTrain Epoch: 10 \tTrain_loss: 0.0810 | Train_acc: 99.5443 % | Validation_loss: 1.2678 | Validation_acc: 67.1404 %\u001b[32m [repeated 2x across cluster]\u001b[0m\n",
      "\u001b[36m(launch_and_fit pid=9436)\u001b[0m Run WITHOUT homomorphic encryption\n",
      "\u001b[36m(launch_and_fit pid=9436)\u001b[0m  To get the checkpoint\n",
      "\u001b[36m(launch_and_fit pid=9363)\u001b[0m save graph in  results/FL/\n",
      "\u001b[36m(launch_and_fit pid=9363)\u001b[0m \tTrain Epoch: 10 \tTrain_loss: 0.0856 | Train_acc: 99.4358 % | Validation_loss: 1.0935 | Validation_acc: 68.4941 %\n"
     ]
    },
    {
     "name": "stderr",
     "output_type": "stream",
     "text": [
      "  0%|\u001b[34m          \u001b[0m| 0/10 [00:00<?, ?it/s]\n",
      "100%|\u001b[34m██████████\u001b[0m| 10/10 [00:59<00:00,  5.95s/it]\n"
     ]
    },
    {
     "name": "stdout",
     "output_type": "stream",
     "text": [
      "\u001b[36m(launch_and_fit pid=9436)\u001b[0m [Client 5, round 13] fit, config: {'learning_rate': 0.001, 'batch_size': '128', 'server_round': 13, 'local_epochs': 10}\n",
      "\u001b[36m(launch_and_fit pid=9436)\u001b[0m Updated model\n"
     ]
    },
    {
     "name": "stderr",
     "output_type": "stream",
     "text": [
      " 10%|\u001b[34m█         \u001b[0m| 1/10 [00:06<00:58,  6.47s/it]\n",
      "  0%|\u001b[34m          \u001b[0m| 0/10 [00:00<?, ?it/s]\n"
     ]
    },
    {
     "name": "stdout",
     "output_type": "stream",
     "text": [
      "\u001b[36m(launch_and_fit pid=9436)\u001b[0m \tTrain Epoch: 1 \tTrain_loss: 0.7340 | Train_acc: 75.7639 % | Validation_loss: 1.0103 | Validation_acc: 67.9216 %\n",
      "\u001b[36m(launch_and_fit pid=9461)\u001b[0m Run WITHOUT homomorphic encryption\n",
      "\u001b[36m(launch_and_fit pid=9461)\u001b[0m  To get the checkpoint\n",
      "\u001b[36m(launch_and_fit pid=9461)\u001b[0m [Client 6, round 13] fit, config: {'learning_rate': 0.001, 'batch_size': '128', 'server_round': 13, 'local_epochs': 10}\n",
      "\u001b[36m(launch_and_fit pid=9461)\u001b[0m Updated model\n"
     ]
    },
    {
     "name": "stderr",
     "output_type": "stream",
     "text": [
      " 20%|\u001b[34m██        \u001b[0m| 2/10 [00:12<00:48,  6.05s/it]\u001b[32m [repeated 2x across cluster]\u001b[0m\n"
     ]
    },
    {
     "name": "stdout",
     "output_type": "stream",
     "text": [
      "\u001b[36m(launch_and_fit pid=9436)\u001b[0m \tTrain Epoch: 2 \tTrain_loss: 0.4747 | Train_acc: 84.8568 % | Validation_loss: 1.0781 | Validation_acc: 67.5714 %\u001b[32m [repeated 2x across cluster]\u001b[0m\n"
     ]
    },
    {
     "name": "stderr",
     "output_type": "stream",
     "text": [
      " 30%|\u001b[34m███       \u001b[0m| 3/10 [00:17<00:41,  5.92s/it]\u001b[32m [repeated 2x across cluster]\u001b[0m\n"
     ]
    },
    {
     "name": "stdout",
     "output_type": "stream",
     "text": [
      "\u001b[36m(launch_and_fit pid=9436)\u001b[0m \tTrain Epoch: 3 \tTrain_loss: 0.3348 | Train_acc: 90.1606 % | Validation_loss: 1.1089 | Validation_acc: 68.7837 %\u001b[32m [repeated 2x across cluster]\u001b[0m\n"
     ]
    },
    {
     "name": "stderr",
     "output_type": "stream",
     "text": [
      " 40%|\u001b[34m████      \u001b[0m| 4/10 [00:23<00:35,  5.93s/it]\u001b[32m [repeated 2x across cluster]\u001b[0m\n"
     ]
    },
    {
     "name": "stdout",
     "output_type": "stream",
     "text": [
      "\u001b[36m(launch_and_fit pid=9436)\u001b[0m \tTrain Epoch: 4 \tTrain_loss: 0.2697 | Train_acc: 92.1267 % | Validation_loss: 1.1504 | Validation_acc: 66.6689 %\u001b[32m [repeated 2x across cluster]\u001b[0m\n"
     ]
    },
    {
     "name": "stderr",
     "output_type": "stream",
     "text": [
      " 50%|\u001b[34m█████     \u001b[0m| 5/10 [00:29<00:29,  5.95s/it]\u001b[32m [repeated 2x across cluster]\u001b[0m\n"
     ]
    },
    {
     "name": "stdout",
     "output_type": "stream",
     "text": [
      "\u001b[36m(launch_and_fit pid=9436)\u001b[0m \tTrain Epoch: 5 \tTrain_loss: 0.2175 | Train_acc: 94.8785 % | Validation_loss: 1.1080 | Validation_acc: 68.3324 %\u001b[32m [repeated 2x across cluster]\u001b[0m\n"
     ]
    },
    {
     "name": "stderr",
     "output_type": "stream",
     "text": [
      " 60%|\u001b[34m██████    \u001b[0m| 6/10 [00:36<00:24,  6.05s/it]\u001b[32m [repeated 2x across cluster]\u001b[0m\n"
     ]
    },
    {
     "name": "stdout",
     "output_type": "stream",
     "text": [
      "\u001b[36m(launch_and_fit pid=9436)\u001b[0m \tTrain Epoch: 6 \tTrain_loss: 0.1623 | Train_acc: 97.2873 % | Validation_loss: 1.1191 | Validation_acc: 67.6859 %\u001b[32m [repeated 2x across cluster]\u001b[0m\n"
     ]
    },
    {
     "name": "stderr",
     "output_type": "stream",
     "text": [
      " 70%|\u001b[34m███████   \u001b[0m| 7/10 [00:41<00:17,  5.94s/it]\u001b[32m [repeated 2x across cluster]\u001b[0m\n"
     ]
    },
    {
     "name": "stdout",
     "output_type": "stream",
     "text": [
      "\u001b[36m(launch_and_fit pid=9436)\u001b[0m \tTrain Epoch: 7 \tTrain_loss: 0.1320 | Train_acc: 98.1988 % | Validation_loss: 1.1323 | Validation_acc: 68.0967 %\u001b[32m [repeated 2x across cluster]\u001b[0m\n"
     ]
    },
    {
     "name": "stderr",
     "output_type": "stream",
     "text": [
      " 80%|\u001b[34m████████  \u001b[0m| 8/10 [00:47<00:11,  5.89s/it]\u001b[32m [repeated 2x across cluster]\u001b[0m\n"
     ]
    },
    {
     "name": "stdout",
     "output_type": "stream",
     "text": [
      "\u001b[36m(launch_and_fit pid=9436)\u001b[0m \tTrain Epoch: 8 \tTrain_loss: 0.1158 | Train_acc: 98.5373 % | Validation_loss: 1.1248 | Validation_acc: 70.2856 %\u001b[32m [repeated 2x across cluster]\u001b[0m\n"
     ]
    },
    {
     "name": "stderr",
     "output_type": "stream",
     "text": [
      " 90%|\u001b[34m█████████ \u001b[0m| 9/10 [00:53<00:05,  5.93s/it]\u001b[32m [repeated 2x across cluster]\u001b[0m\n"
     ]
    },
    {
     "name": "stdout",
     "output_type": "stream",
     "text": [
      "\u001b[36m(launch_and_fit pid=9436)\u001b[0m \tTrain Epoch: 9 \tTrain_loss: 0.1037 | Train_acc: 99.0668 % | Validation_loss: 1.1223 | Validation_acc: 69.2888 %\u001b[32m [repeated 2x across cluster]\u001b[0m\n"
     ]
    },
    {
     "name": "stderr",
     "output_type": "stream",
     "text": [
      "100%|\u001b[34m██████████\u001b[0m| 10/10 [00:59<00:00,  5.95s/it]\u001b[32m [repeated 2x across cluster]\u001b[0m\n"
     ]
    },
    {
     "name": "stdout",
     "output_type": "stream",
     "text": [
      "\u001b[36m(launch_and_fit pid=9436)\u001b[0m save graph in  results/FL/\n",
      "\u001b[36m(launch_and_fit pid=9436)\u001b[0m \tTrain Epoch: 10 \tTrain_loss: 0.0854 | Train_acc: 99.3273 % | Validation_loss: 1.1286 | Validation_acc: 69.7400 %\u001b[32m [repeated 2x across cluster]\u001b[0m\n",
      "\u001b[36m(launch_and_fit pid=9510)\u001b[0m Run WITHOUT homomorphic encryption\n",
      "\u001b[36m(launch_and_fit pid=9510)\u001b[0m  To get the checkpoint\n",
      "\u001b[36m(launch_and_fit pid=9461)\u001b[0m save graph in  results/FL/\n",
      "\u001b[36m(launch_and_fit pid=9461)\u001b[0m \tTrain Epoch: 10 \tTrain_loss: 0.1005 | Train_acc: 98.9714 % | Validation_loss: 1.2864 | Validation_acc: 65.2074 %\n",
      "\u001b[36m(launch_and_fit pid=9510)\u001b[0m [Client 0, round 13] fit, config: {'learning_rate': 0.001, 'batch_size': '128', 'server_round': 13, 'local_epochs': 10}\n",
      "\u001b[36m(launch_and_fit pid=9510)\u001b[0m Updated model\n"
     ]
    },
    {
     "name": "stderr",
     "output_type": "stream",
     "text": [
      "  0%|\u001b[34m          \u001b[0m| 0/10 [00:00<?, ?it/s]\n",
      "100%|\u001b[34m██████████\u001b[0m| 10/10 [00:59<00:00,  5.96s/it]\n"
     ]
    },
    {
     "name": "stdout",
     "output_type": "stream",
     "text": [
      "\u001b[36m(launch_and_fit pid=9510)\u001b[0m \tTrain Epoch: 1 \tTrain_loss: 0.7622 | Train_acc: 74.3707 % | Validation_loss: 1.0977 | Validation_acc: 64.1703 %\n",
      "\u001b[36m(launch_and_fit pid=9535)\u001b[0m Run WITHOUT homomorphic encryption\n",
      "\u001b[36m(launch_and_fit pid=9535)\u001b[0m  To get the checkpoint\n",
      "\u001b[36m(launch_and_fit pid=9535)\u001b[0m [Client 1, round 13] fit, config: {'learning_rate': 0.001, 'batch_size': '128', 'server_round': 13, 'local_epochs': 10}\n",
      "\u001b[36m(launch_and_fit pid=9535)\u001b[0m Updated model\n"
     ]
    },
    {
     "name": "stderr",
     "output_type": "stream",
     "text": [
      " 10%|\u001b[34m█         \u001b[0m| 1/10 [00:06<00:57,  6.35s/it]\n",
      "  0%|\u001b[34m          \u001b[0m| 0/10 [00:00<?, ?it/s]\n"
     ]
    },
    {
     "name": "stdout",
     "output_type": "stream",
     "text": [
      "\u001b[36m(launch_and_fit pid=9510)\u001b[0m \tTrain Epoch: 2 \tTrain_loss: 0.5220 | Train_acc: 82.6259 % | Validation_loss: 1.1440 | Validation_acc: 65.8675 %\u001b[32m [repeated 2x across cluster]\u001b[0m\n"
     ]
    },
    {
     "name": "stderr",
     "output_type": "stream",
     "text": [
      " 20%|\u001b[34m██        \u001b[0m| 2/10 [00:12<00:48,  6.06s/it]\u001b[32m [repeated 2x across cluster]\u001b[0m\n"
     ]
    },
    {
     "name": "stdout",
     "output_type": "stream",
     "text": [
      "\u001b[36m(launch_and_fit pid=9510)\u001b[0m \tTrain Epoch: 3 \tTrain_loss: 0.4064 | Train_acc: 86.3585 % | Validation_loss: 1.0995 | Validation_acc: 65.1670 %\u001b[32m [repeated 2x across cluster]\u001b[0m\n"
     ]
    },
    {
     "name": "stderr",
     "output_type": "stream",
     "text": [
      " 30%|\u001b[34m███       \u001b[0m| 3/10 [00:18<00:42,  6.07s/it]\u001b[32m [repeated 2x across cluster]\u001b[0m\n"
     ]
    },
    {
     "name": "stdout",
     "output_type": "stream",
     "text": [
      "\u001b[36m(launch_and_fit pid=9510)\u001b[0m \tTrain Epoch: 4 \tTrain_loss: 0.2927 | Train_acc: 91.2326 % | Validation_loss: 1.1841 | Validation_acc: 65.7126 %\u001b[32m [repeated 2x across cluster]\u001b[0m\n"
     ]
    },
    {
     "name": "stderr",
     "output_type": "stream",
     "text": [
      " 40%|\u001b[34m████      \u001b[0m| 4/10 [00:24<00:35,  5.94s/it]\u001b[32m [repeated 2x across cluster]\u001b[0m\n"
     ]
    },
    {
     "name": "stdout",
     "output_type": "stream",
     "text": [
      "\u001b[36m(launch_and_fit pid=9510)\u001b[0m \tTrain Epoch: 5 \tTrain_loss: 0.2233 | Train_acc: 94.4010 % | Validation_loss: 1.1828 | Validation_acc: 64.5609 %\u001b[32m [repeated 2x across cluster]\u001b[0m\n"
     ]
    },
    {
     "name": "stderr",
     "output_type": "stream",
     "text": [
      " 50%|\u001b[34m█████     \u001b[0m| 5/10 [00:29<00:29,  5.89s/it]\u001b[32m [repeated 2x across cluster]\u001b[0m\n"
     ]
    },
    {
     "name": "stdout",
     "output_type": "stream",
     "text": [
      "\u001b[36m(launch_and_fit pid=9510)\u001b[0m \tTrain Epoch: 6 \tTrain_loss: 0.1810 | Train_acc: 96.3585 % | Validation_loss: 1.1761 | Validation_acc: 66.2985 %\u001b[32m [repeated 2x across cluster]\u001b[0m\n"
     ]
    },
    {
     "name": "stderr",
     "output_type": "stream",
     "text": [
      " 60%|\u001b[34m██████    \u001b[0m| 6/10 [00:35<00:23,  5.95s/it]\u001b[32m [repeated 2x across cluster]\u001b[0m\n"
     ]
    },
    {
     "name": "stdout",
     "output_type": "stream",
     "text": [
      "\u001b[36m(launch_and_fit pid=9510)\u001b[0m \tTrain Epoch: 7 \tTrain_loss: 0.1495 | Train_acc: 97.5911 % | Validation_loss: 1.2165 | Validation_acc: 64.7562 %\u001b[32m [repeated 2x across cluster]\u001b[0m\n"
     ]
    },
    {
     "name": "stderr",
     "output_type": "stream",
     "text": [
      " 70%|\u001b[34m███████   \u001b[0m| 7/10 [00:41<00:17,  5.86s/it]\u001b[32m [repeated 2x across cluster]\u001b[0m\n"
     ]
    },
    {
     "name": "stdout",
     "output_type": "stream",
     "text": [
      "\u001b[36m(launch_and_fit pid=9510)\u001b[0m \tTrain Epoch: 8 \tTrain_loss: 0.1258 | Train_acc: 98.4288 % | Validation_loss: 1.1762 | Validation_acc: 65.5981 %\u001b[32m [repeated 2x across cluster]\u001b[0m\n"
     ]
    },
    {
     "name": "stderr",
     "output_type": "stream",
     "text": [
      " 80%|\u001b[34m████████  \u001b[0m| 8/10 [00:47<00:11,  5.93s/it]\u001b[32m [repeated 2x across cluster]\u001b[0m\n"
     ]
    },
    {
     "name": "stdout",
     "output_type": "stream",
     "text": [
      "\u001b[36m(launch_and_fit pid=9510)\u001b[0m \tTrain Epoch: 9 \tTrain_loss: 0.1154 | Train_acc: 98.6675 % | Validation_loss: 1.1832 | Validation_acc: 66.3995 %\u001b[32m [repeated 2x across cluster]\u001b[0m\n"
     ]
    },
    {
     "name": "stderr",
     "output_type": "stream",
     "text": [
      " 90%|\u001b[34m█████████ \u001b[0m| 9/10 [00:53<00:05,  5.91s/it]\u001b[32m [repeated 2x across cluster]\u001b[0m\n"
     ]
    },
    {
     "name": "stdout",
     "output_type": "stream",
     "text": [
      "\u001b[36m(launch_and_fit pid=9510)\u001b[0m save graph in  results/FL/\n",
      "\u001b[36m(launch_and_fit pid=9510)\u001b[0m \tTrain Epoch: 10 \tTrain_loss: 0.0933 | Train_acc: 99.3707 % | Validation_loss: 1.1978 | Validation_acc: 65.7934 %\u001b[32m [repeated 2x across cluster]\u001b[0m\n"
     ]
    },
    {
     "name": "stderr",
     "output_type": "stream",
     "text": [
      "100%|\u001b[34m██████████\u001b[0m| 10/10 [00:59<00:00,  5.92s/it]\u001b[32m [repeated 2x across cluster]\u001b[0m\n"
     ]
    },
    {
     "name": "stdout",
     "output_type": "stream",
     "text": [
      "\u001b[36m(launch_and_fit pid=9584)\u001b[0m Run WITHOUT homomorphic encryption\n",
      "\u001b[36m(launch_and_fit pid=9584)\u001b[0m  To get the checkpoint\n",
      "\u001b[36m(launch_and_fit pid=9535)\u001b[0m save graph in  results/FL/\n",
      "\u001b[36m(launch_and_fit pid=9535)\u001b[0m \tTrain Epoch: 10 \tTrain_loss: 0.0878 | Train_acc: 99.4141 % | Validation_loss: 1.2679 | Validation_acc: 67.7128 %\n",
      "\u001b[36m(launch_and_fit pid=9584)\u001b[0m [Client 8, round 13] fit, config: {'learning_rate': 0.001, 'batch_size': '128', 'server_round': 13, 'local_epochs': 10}\n",
      "\u001b[36m(launch_and_fit pid=9584)\u001b[0m Updated model\n"
     ]
    },
    {
     "name": "stderr",
     "output_type": "stream",
     "text": [
      "  0%|\u001b[34m          \u001b[0m| 0/10 [00:00<?, ?it/s]\n",
      "100%|\u001b[34m██████████\u001b[0m| 10/10 [00:58<00:00,  5.85s/it]\n"
     ]
    },
    {
     "name": "stdout",
     "output_type": "stream",
     "text": [
      "\u001b[36m(launch_and_fit pid=9584)\u001b[0m \tTrain Epoch: 1 \tTrain_loss: 0.7385 | Train_acc: 75.8854 % | Validation_loss: 1.2321 | Validation_acc: 63.4294 %\n",
      "\u001b[36m(launch_and_fit pid=9586)\u001b[0m Run WITHOUT homomorphic encryption\n",
      "\u001b[36m(launch_and_fit pid=9586)\u001b[0m  To get the checkpoint\n",
      "\u001b[36m(launch_and_fit pid=9586)\u001b[0m [Client 9, round 13] fit, config: {'learning_rate': 0.001, 'batch_size': '128', 'server_round': 13, 'local_epochs': 10}\n",
      "\u001b[36m(launch_and_fit pid=9586)\u001b[0m Updated model\n"
     ]
    },
    {
     "name": "stderr",
     "output_type": "stream",
     "text": [
      " 10%|\u001b[34m█         \u001b[0m| 1/10 [00:06<00:59,  6.62s/it]\n",
      "  0%|\u001b[34m          \u001b[0m| 0/10 [00:00<?, ?it/s]\n"
     ]
    },
    {
     "name": "stdout",
     "output_type": "stream",
     "text": [
      "\u001b[36m(launch_and_fit pid=9584)\u001b[0m \tTrain Epoch: 2 \tTrain_loss: 0.4818 | Train_acc: 84.2014 % | Validation_loss: 1.2577 | Validation_acc: 64.6417 %\u001b[32m [repeated 2x across cluster]\u001b[0m\n"
     ]
    },
    {
     "name": "stderr",
     "output_type": "stream",
     "text": [
      " 20%|\u001b[34m██        \u001b[0m| 2/10 [00:12<00:49,  6.18s/it]\u001b[32m [repeated 2x across cluster]\u001b[0m\n"
     ]
    },
    {
     "name": "stdout",
     "output_type": "stream",
     "text": [
      "\u001b[36m(launch_and_fit pid=9584)\u001b[0m \tTrain Epoch: 3 \tTrain_loss: 0.3592 | Train_acc: 88.8151 % | Validation_loss: 1.2963 | Validation_acc: 65.0727 %\u001b[32m [repeated 2x across cluster]\u001b[0m\n"
     ]
    },
    {
     "name": "stderr",
     "output_type": "stream",
     "text": [
      " 30%|\u001b[34m███       \u001b[0m| 3/10 [00:18<00:42,  6.06s/it]\u001b[32m [repeated 2x across cluster]\u001b[0m\n"
     ]
    },
    {
     "name": "stdout",
     "output_type": "stream",
     "text": [
      "\u001b[36m(launch_and_fit pid=9584)\u001b[0m \tTrain Epoch: 4 \tTrain_loss: 0.2782 | Train_acc: 92.2179 % | Validation_loss: 1.3142 | Validation_acc: 64.3117 %\u001b[32m [repeated 2x across cluster]\u001b[0m\n"
     ]
    },
    {
     "name": "stderr",
     "output_type": "stream",
     "text": [
      " 40%|\u001b[34m████      \u001b[0m| 4/10 [00:24<00:36,  6.05s/it]\u001b[32m [repeated 2x across cluster]\u001b[0m\n"
     ]
    },
    {
     "name": "stdout",
     "output_type": "stream",
     "text": [
      "\u001b[36m(launch_and_fit pid=9586)\u001b[0m \tTrain Epoch: 5 \tTrain_loss: 0.2368 | Train_acc: 94.4488 % | Validation_loss: 1.4097 | Validation_acc: 60.9106 %\u001b[32m [repeated 2x across cluster]\u001b[0m\n"
     ]
    },
    {
     "name": "stderr",
     "output_type": "stream",
     "text": [
      " 50%|\u001b[34m█████     \u001b[0m| 5/10 [00:30<00:30,  6.01s/it]\u001b[32m [repeated 2x across cluster]\u001b[0m\n"
     ]
    },
    {
     "name": "stdout",
     "output_type": "stream",
     "text": [
      "\u001b[36m(launch_and_fit pid=9586)\u001b[0m \tTrain Epoch: 6 \tTrain_loss: 0.2122 | Train_acc: 95.4644 % | Validation_loss: 1.4119 | Validation_acc: 62.8839 %\u001b[32m [repeated 2x across cluster]\u001b[0m\n"
     ]
    },
    {
     "name": "stderr",
     "output_type": "stream",
     "text": [
      " 60%|\u001b[34m██████    \u001b[0m| 6/10 [00:36<00:24,  6.08s/it]\u001b[32m [repeated 2x across cluster]\u001b[0m\n"
     ]
    },
    {
     "name": "stdout",
     "output_type": "stream",
     "text": [
      "\u001b[36m(launch_and_fit pid=9584)\u001b[0m \tTrain Epoch: 7 \tTrain_loss: 0.1433 | Train_acc: 97.8082 % | Validation_loss: 1.3745 | Validation_acc: 62.6684 %\u001b[32m [repeated 2x across cluster]\u001b[0m\n"
     ]
    },
    {
     "name": "stderr",
     "output_type": "stream",
     "text": [
      " 70%|\u001b[34m███████   \u001b[0m| 7/10 [00:42<00:18,  6.05s/it]\u001b[32m [repeated 2x across cluster]\u001b[0m\n"
     ]
    },
    {
     "name": "stdout",
     "output_type": "stream",
     "text": [
      "\u001b[36m(launch_and_fit pid=9584)\u001b[0m \tTrain Epoch: 8 \tTrain_loss: 0.1369 | Train_acc: 98.0469 % | Validation_loss: 1.3423 | Validation_acc: 64.0558 %\u001b[32m [repeated 2x across cluster]\u001b[0m\n"
     ]
    },
    {
     "name": "stderr",
     "output_type": "stream",
     "text": [
      " 80%|\u001b[34m████████  \u001b[0m| 8/10 [00:48<00:11,  5.99s/it]\u001b[32m [repeated 2x across cluster]\u001b[0m\n"
     ]
    },
    {
     "name": "stdout",
     "output_type": "stream",
     "text": [
      "\u001b[36m(launch_and_fit pid=9584)\u001b[0m \tTrain Epoch: 9 \tTrain_loss: 0.1247 | Train_acc: 98.3420 % | Validation_loss: 1.3540 | Validation_acc: 64.4666 %\u001b[32m [repeated 2x across cluster]\u001b[0m\n"
     ]
    },
    {
     "name": "stderr",
     "output_type": "stream",
     "text": [
      " 90%|\u001b[34m█████████ \u001b[0m| 9/10 [00:54<00:05,  5.97s/it]\u001b[32m [repeated 2x across cluster]\u001b[0m\n"
     ]
    },
    {
     "name": "stdout",
     "output_type": "stream",
     "text": [
      "\u001b[36m(launch_and_fit pid=9584)\u001b[0m save graph in  results/FL/\n",
      "\u001b[36m(launch_and_fit pid=9584)\u001b[0m \tTrain Epoch: 10 \tTrain_loss: 0.1148 | Train_acc: 98.6762 % | Validation_loss: 1.4656 | Validation_acc: 61.6716 %\u001b[32m [repeated 2x across cluster]\u001b[0m\n"
     ]
    },
    {
     "name": "stderr",
     "output_type": "stream",
     "text": [
      "100%|\u001b[34m██████████\u001b[0m| 10/10 [01:00<00:00,  6.01s/it]\u001b[32m [repeated 2x across cluster]\u001b[0m\n",
      "DEBUG flwr 2024-07-20 19:53:51,719 | server.py:236 | fit_round 13 received 10 results and 0 failures\n"
     ]
    },
    {
     "name": "stdout",
     "output_type": "stream",
     "text": [
      "Saving round 13 aggregated_parameters...\n",
      "Updated model\n"
     ]
    },
    {
     "name": "stderr",
     "output_type": "stream",
     "text": [
      "INFO flwr 2024-07-20 19:53:57,514 | server.py:125 | fit progress: (13, 1.12945915777472, {'accuracy': 69.71914556962025}, 5832.203713633)\n",
      "DEBUG flwr 2024-07-20 19:53:57,515 | server.py:173 | evaluate_round 13: strategy sampled 10 clients (out of 10)\n"
     ]
    },
    {
     "name": "stdout",
     "output_type": "stream",
     "text": [
      "Server-side evaluation loss 1.12945915777472 / accuracy 69.71914556962025\n",
      "\u001b[36m(launch_and_evaluate pid=9667)\u001b[0m Run WITHOUT homomorphic encryption\n",
      "\u001b[36m(launch_and_evaluate pid=9667)\u001b[0m  To get the checkpoint\n",
      "\u001b[36m(launch_and_fit pid=9586)\u001b[0m save graph in  results/FL/\n",
      "\u001b[36m(launch_and_fit pid=9586)\u001b[0m \tTrain Epoch: 10 \tTrain_loss: 0.0929 | Train_acc: 99.1102 % | Validation_loss: 1.4028 | Validation_acc: 63.1398 %\n",
      "\u001b[36m(launch_and_evaluate pid=9667)\u001b[0m [Client 1] evaluate, config: {}\n",
      "\u001b[36m(launch_and_evaluate pid=9667)\u001b[0m Updated model\n",
      "\u001b[36m(launch_and_evaluate pid=9738)\u001b[0m Run WITHOUT homomorphic encryption\u001b[32m [repeated 2x across cluster]\u001b[0m\n",
      "\u001b[36m(launch_and_evaluate pid=9738)\u001b[0m  To get the checkpoint\u001b[32m [repeated 2x across cluster]\u001b[0m\n",
      "\u001b[36m(launch_and_evaluate pid=9668)\u001b[0m [Client 6] evaluate, config: {}\n",
      "\u001b[36m(launch_and_evaluate pid=9668)\u001b[0m Updated model\n",
      "\u001b[36m(launch_and_evaluate pid=9738)\u001b[0m [Client 7] evaluate, config: {}\n",
      "\u001b[36m(launch_and_evaluate pid=9738)\u001b[0m Updated model\n",
      "\u001b[36m(launch_and_evaluate pid=9809)\u001b[0m Run WITHOUT homomorphic encryption\u001b[32m [repeated 2x across cluster]\u001b[0m\n",
      "\u001b[36m(launch_and_evaluate pid=9809)\u001b[0m  To get the checkpoint\u001b[32m [repeated 2x across cluster]\u001b[0m\n",
      "\u001b[36m(launch_and_evaluate pid=9740)\u001b[0m [Client 4] evaluate, config: {}\n",
      "\u001b[36m(launch_and_evaluate pid=9740)\u001b[0m Updated model\n",
      "\u001b[36m(launch_and_evaluate pid=9809)\u001b[0m [Client 5] evaluate, config: {}\n",
      "\u001b[36m(launch_and_evaluate pid=9809)\u001b[0m Updated model\n",
      "\u001b[36m(launch_and_evaluate pid=9879)\u001b[0m Run WITHOUT homomorphic encryption\u001b[32m [repeated 2x across cluster]\u001b[0m\n",
      "\u001b[36m(launch_and_evaluate pid=9879)\u001b[0m  To get the checkpoint\u001b[32m [repeated 2x across cluster]\u001b[0m\n",
      "\u001b[36m(launch_and_evaluate pid=9834)\u001b[0m [Client 0] evaluate, config: {}\n",
      "\u001b[36m(launch_and_evaluate pid=9834)\u001b[0m Updated model\n",
      "\u001b[36m(launch_and_evaluate pid=9879)\u001b[0m [Client 9] evaluate, config: {}\n",
      "\u001b[36m(launch_and_evaluate pid=9879)\u001b[0m Updated model\n",
      "\u001b[36m(launch_and_evaluate pid=9949)\u001b[0m Run WITHOUT homomorphic encryption\u001b[32m [repeated 2x across cluster]\u001b[0m\n",
      "\u001b[36m(launch_and_evaluate pid=9949)\u001b[0m  To get the checkpoint\u001b[32m [repeated 2x across cluster]\u001b[0m\n",
      "\u001b[36m(launch_and_evaluate pid=9904)\u001b[0m [Client 3] evaluate, config: {}\n",
      "\u001b[36m(launch_and_evaluate pid=9904)\u001b[0m Updated model\n",
      "\u001b[36m(launch_and_evaluate pid=9949)\u001b[0m [Client 8] evaluate, config: {}\n",
      "\u001b[36m(launch_and_evaluate pid=9949)\u001b[0m Updated model\n"
     ]
    },
    {
     "name": "stderr",
     "output_type": "stream",
     "text": [
      "DEBUG flwr 2024-07-20 19:55:15,696 | server.py:187 | evaluate_round 13 received 10 results and 0 failures\n",
      "DEBUG flwr 2024-07-20 19:55:15,698 | server.py:222 | fit_round 14: strategy sampled 10 clients (out of 10)\n"
     ]
    },
    {
     "name": "stdout",
     "output_type": "stream",
     "text": [
      "\u001b[36m(launch_and_fit pid=10028)\u001b[0m Run WITHOUT homomorphic encryption\u001b[32m [repeated 2x across cluster]\u001b[0m\n",
      "\u001b[36m(launch_and_fit pid=10028)\u001b[0m  To get the checkpoint\u001b[32m [repeated 2x across cluster]\u001b[0m\n",
      "\u001b[36m(launch_and_evaluate pid=9974)\u001b[0m [Client 2] evaluate, config: {}\n",
      "\u001b[36m(launch_and_evaluate pid=9974)\u001b[0m Updated model\n",
      "\u001b[36m(launch_and_fit pid=10028)\u001b[0m [Client 1, round 14] fit, config: {'learning_rate': 0.001, 'batch_size': '128', 'server_round': 14, 'local_epochs': 10}\n",
      "\u001b[36m(launch_and_fit pid=10028)\u001b[0m Updated model\n"
     ]
    },
    {
     "name": "stderr",
     "output_type": "stream",
     "text": [
      "  0%|\u001b[34m          \u001b[0m| 0/10 [00:00<?, ?it/s]\n",
      "100%|\u001b[34m██████████\u001b[0m| 10/10 [01:00<00:00,  6.01s/it]\n"
     ]
    },
    {
     "name": "stdout",
     "output_type": "stream",
     "text": [
      "\u001b[36m(launch_and_fit pid=10028)\u001b[0m \tTrain Epoch: 1 \tTrain_loss: 0.6850 | Train_acc: 77.4045 % | Validation_loss: 1.0771 | Validation_acc: 66.7565 %\n",
      "\u001b[36m(launch_and_fit pid=10052)\u001b[0m Run WITHOUT homomorphic encryption\n",
      "\u001b[36m(launch_and_fit pid=10052)\u001b[0m  To get the checkpoint\n",
      "\u001b[36m(launch_and_fit pid=10052)\u001b[0m [Client 0, round 14] fit, config: {'learning_rate': 0.001, 'batch_size': '128', 'server_round': 14, 'local_epochs': 10}\n",
      "\u001b[36m(launch_and_fit pid=10052)\u001b[0m Updated model\n"
     ]
    },
    {
     "name": "stderr",
     "output_type": "stream",
     "text": [
      " 10%|\u001b[34m█         \u001b[0m| 1/10 [00:06<00:57,  6.39s/it]\n",
      "  0%|\u001b[34m          \u001b[0m| 0/10 [00:00<?, ?it/s]\n"
     ]
    },
    {
     "name": "stdout",
     "output_type": "stream",
     "text": [
      "\u001b[36m(launch_and_fit pid=10028)\u001b[0m \tTrain Epoch: 2 \tTrain_loss: 0.4062 | Train_acc: 87.0877 % | Validation_loss: 1.1937 | Validation_acc: 67.1269 %\u001b[32m [repeated 2x across cluster]\u001b[0m\n"
     ]
    },
    {
     "name": "stderr",
     "output_type": "stream",
     "text": [
      " 20%|\u001b[34m██        \u001b[0m| 2/10 [00:12<00:47,  5.98s/it]\u001b[32m [repeated 2x across cluster]\u001b[0m\n"
     ]
    },
    {
     "name": "stdout",
     "output_type": "stream",
     "text": [
      "\u001b[36m(launch_and_fit pid=10028)\u001b[0m \tTrain Epoch: 3 \tTrain_loss: 0.2649 | Train_acc: 92.0833 % | Validation_loss: 1.1794 | Validation_acc: 68.4941 %\u001b[32m [repeated 2x across cluster]\u001b[0m\n"
     ]
    },
    {
     "name": "stderr",
     "output_type": "stream",
     "text": [
      " 30%|\u001b[34m███       \u001b[0m| 3/10 [00:18<00:41,  5.95s/it]\u001b[32m [repeated 2x across cluster]\u001b[0m\n"
     ]
    },
    {
     "name": "stdout",
     "output_type": "stream",
     "text": [
      "\u001b[36m(launch_and_fit pid=10028)\u001b[0m \tTrain Epoch: 4 \tTrain_loss: 0.2016 | Train_acc: 94.8915 % | Validation_loss: 1.1612 | Validation_acc: 69.4302 %\u001b[32m [repeated 2x across cluster]\u001b[0m\n"
     ]
    },
    {
     "name": "stderr",
     "output_type": "stream",
     "text": [
      " 40%|\u001b[34m████      \u001b[0m| 4/10 [00:23<00:35,  5.85s/it]\u001b[32m [repeated 2x across cluster]\u001b[0m\n"
     ]
    },
    {
     "name": "stdout",
     "output_type": "stream",
     "text": [
      "\u001b[36m(launch_and_fit pid=10028)\u001b[0m \tTrain Epoch: 5 \tTrain_loss: 0.1432 | Train_acc: 97.0269 % | Validation_loss: 1.1840 | Validation_acc: 69.8209 %\u001b[32m [repeated 2x across cluster]\u001b[0m\n"
     ]
    },
    {
     "name": "stderr",
     "output_type": "stream",
     "text": [
      " 50%|\u001b[34m█████     \u001b[0m| 5/10 [00:30<00:30,  6.05s/it]\u001b[32m [repeated 2x across cluster]\u001b[0m\n"
     ]
    },
    {
     "name": "stdout",
     "output_type": "stream",
     "text": [
      "\u001b[36m(launch_and_fit pid=10028)\u001b[0m \tTrain Epoch: 6 \tTrain_loss: 0.1072 | Train_acc: 98.4071 % | Validation_loss: 1.1396 | Validation_acc: 70.1913 %\u001b[32m [repeated 2x across cluster]\u001b[0m\n"
     ]
    },
    {
     "name": "stderr",
     "output_type": "stream",
     "text": [
      " 60%|\u001b[34m██████    \u001b[0m| 6/10 [00:36<00:24,  6.01s/it]\u001b[32m [repeated 2x across cluster]\u001b[0m\n"
     ]
    },
    {
     "name": "stdout",
     "output_type": "stream",
     "text": [
      "\u001b[36m(launch_and_fit pid=10028)\u001b[0m \tTrain Epoch: 7 \tTrain_loss: 0.1249 | Train_acc: 97.9601 % | Validation_loss: 1.2800 | Validation_acc: 69.8613 %\u001b[32m [repeated 2x across cluster]\u001b[0m\n"
     ]
    },
    {
     "name": "stderr",
     "output_type": "stream",
     "text": [
      " 70%|\u001b[34m███████   \u001b[0m| 7/10 [00:41<00:17,  5.92s/it]\u001b[32m [repeated 2x across cluster]\u001b[0m\n"
     ]
    },
    {
     "name": "stdout",
     "output_type": "stream",
     "text": [
      "\u001b[36m(launch_and_fit pid=10028)\u001b[0m \tTrain Epoch: 8 \tTrain_loss: 0.1007 | Train_acc: 98.6111 % | Validation_loss: 1.2109 | Validation_acc: 69.8209 %\u001b[32m [repeated 2x across cluster]\u001b[0m\n"
     ]
    },
    {
     "name": "stderr",
     "output_type": "stream",
     "text": [
      " 80%|\u001b[34m████████  \u001b[0m| 8/10 [00:47<00:11,  5.88s/it]\u001b[32m [repeated 2x across cluster]\u001b[0m\n"
     ]
    },
    {
     "name": "stdout",
     "output_type": "stream",
     "text": [
      "\u001b[36m(launch_and_fit pid=10028)\u001b[0m \tTrain Epoch: 9 \tTrain_loss: 0.0757 | Train_acc: 99.1536 % | Validation_loss: 1.2182 | Validation_acc: 69.4100 %\u001b[32m [repeated 2x across cluster]\u001b[0m\n"
     ]
    },
    {
     "name": "stderr",
     "output_type": "stream",
     "text": [
      " 90%|\u001b[34m█████████ \u001b[0m| 9/10 [00:53<00:05,  5.89s/it]\u001b[32m [repeated 2x across cluster]\u001b[0m\n"
     ]
    },
    {
     "name": "stdout",
     "output_type": "stream",
     "text": [
      "\u001b[36m(launch_and_fit pid=10028)\u001b[0m save graph in  results/FL/\n",
      "\u001b[36m(launch_and_fit pid=10028)\u001b[0m \tTrain Epoch: 10 \tTrain_loss: 0.0592 | Train_acc: 99.5877 % | Validation_loss: 1.2280 | Validation_acc: 69.9758 %\u001b[32m [repeated 2x across cluster]\u001b[0m\n"
     ]
    },
    {
     "name": "stderr",
     "output_type": "stream",
     "text": [
      "100%|\u001b[34m██████████\u001b[0m| 10/10 [00:59<00:00,  5.92s/it]\u001b[32m [repeated 2x across cluster]\u001b[0m\n"
     ]
    },
    {
     "name": "stdout",
     "output_type": "stream",
     "text": [
      "\u001b[36m(launch_and_fit pid=10101)\u001b[0m Run WITHOUT homomorphic encryption\n",
      "\u001b[36m(launch_and_fit pid=10101)\u001b[0m  To get the checkpoint\n",
      "\u001b[36m(launch_and_fit pid=10052)\u001b[0m save graph in  results/FL/\n",
      "\u001b[36m(launch_and_fit pid=10052)\u001b[0m \tTrain Epoch: 10 \tTrain_loss: 0.0514 | Train_acc: 99.6007 % | Validation_loss: 1.3192 | Validation_acc: 65.3421 %\n"
     ]
    },
    {
     "name": "stderr",
     "output_type": "stream",
     "text": [
      "  0%|\u001b[34m          \u001b[0m| 0/10 [00:00<?, ?it/s]\n",
      "100%|\u001b[34m██████████\u001b[0m| 10/10 [01:00<00:00,  6.06s/it]\n"
     ]
    },
    {
     "name": "stdout",
     "output_type": "stream",
     "text": [
      "\u001b[36m(launch_and_fit pid=10101)\u001b[0m [Client 3, round 14] fit, config: {'learning_rate': 0.001, 'batch_size': '128', 'server_round': 14, 'local_epochs': 10}\n",
      "\u001b[36m(launch_and_fit pid=10101)\u001b[0m Updated model\n"
     ]
    },
    {
     "name": "stderr",
     "output_type": "stream",
     "text": [
      " 10%|\u001b[34m█         \u001b[0m| 1/10 [00:06<00:58,  6.48s/it]\n",
      "  0%|\u001b[34m          \u001b[0m| 0/10 [00:00<?, ?it/s]\n"
     ]
    },
    {
     "name": "stdout",
     "output_type": "stream",
     "text": [
      "\u001b[36m(launch_and_fit pid=10101)\u001b[0m \tTrain Epoch: 1 \tTrain_loss: 0.7150 | Train_acc: 77.1528 % | Validation_loss: 1.0525 | Validation_acc: 65.5374 %\n",
      "\u001b[36m(launch_and_fit pid=10128)\u001b[0m Run WITHOUT homomorphic encryption\n",
      "\u001b[36m(launch_and_fit pid=10128)\u001b[0m  To get the checkpoint\n",
      "\u001b[36m(launch_and_fit pid=10128)\u001b[0m [Client 5, round 14] fit, config: {'learning_rate': 0.001, 'batch_size': '128', 'server_round': 14, 'local_epochs': 10}\n",
      "\u001b[36m(launch_and_fit pid=10128)\u001b[0m Updated model\n"
     ]
    },
    {
     "name": "stderr",
     "output_type": "stream",
     "text": [
      " 20%|\u001b[34m██        \u001b[0m| 2/10 [00:12<00:48,  6.10s/it]\u001b[32m [repeated 2x across cluster]\u001b[0m\n"
     ]
    },
    {
     "name": "stdout",
     "output_type": "stream",
     "text": [
      "\u001b[36m(launch_and_fit pid=10101)\u001b[0m \tTrain Epoch: 2 \tTrain_loss: 0.4111 | Train_acc: 86.7535 % | Validation_loss: 1.0717 | Validation_acc: 68.2179 %\u001b[32m [repeated 2x across cluster]\u001b[0m\n"
     ]
    },
    {
     "name": "stderr",
     "output_type": "stream",
     "text": [
      " 30%|\u001b[34m███       \u001b[0m| 3/10 [00:18<00:42,  6.11s/it]\u001b[32m [repeated 2x across cluster]\u001b[0m\n"
     ]
    },
    {
     "name": "stdout",
     "output_type": "stream",
     "text": [
      "\u001b[36m(launch_and_fit pid=10101)\u001b[0m \tTrain Epoch: 3 \tTrain_loss: 0.2669 | Train_acc: 92.3611 % | Validation_loss: 1.1204 | Validation_acc: 67.3963 %\u001b[32m [repeated 2x across cluster]\u001b[0m\n"
     ]
    },
    {
     "name": "stderr",
     "output_type": "stream",
     "text": [
      " 40%|\u001b[34m████      \u001b[0m| 4/10 [00:24<00:36,  6.09s/it]\u001b[32m [repeated 2x across cluster]\u001b[0m\n"
     ]
    },
    {
     "name": "stdout",
     "output_type": "stream",
     "text": [
      "\u001b[36m(launch_and_fit pid=10101)\u001b[0m \tTrain Epoch: 4 \tTrain_loss: 0.2600 | Train_acc: 93.1163 % | Validation_loss: 1.2108 | Validation_acc: 65.9550 %\u001b[32m [repeated 2x across cluster]\u001b[0m\n"
     ]
    },
    {
     "name": "stderr",
     "output_type": "stream",
     "text": [
      " 50%|\u001b[34m█████     \u001b[0m| 5/10 [00:30<00:29,  5.95s/it]\u001b[32m [repeated 2x across cluster]\u001b[0m\n"
     ]
    },
    {
     "name": "stdout",
     "output_type": "stream",
     "text": [
      "\u001b[36m(launch_and_fit pid=10101)\u001b[0m \tTrain Epoch: 5 \tTrain_loss: 0.2136 | Train_acc: 94.5443 % | Validation_loss: 1.1236 | Validation_acc: 69.5649 %\u001b[32m [repeated 2x across cluster]\u001b[0m\n"
     ]
    },
    {
     "name": "stderr",
     "output_type": "stream",
     "text": [
      " 60%|\u001b[34m██████    \u001b[0m| 6/10 [00:36<00:23,  5.91s/it]\u001b[32m [repeated 2x across cluster]\u001b[0m\n"
     ]
    },
    {
     "name": "stdout",
     "output_type": "stream",
     "text": [
      "\u001b[36m(launch_and_fit pid=10101)\u001b[0m \tTrain Epoch: 6 \tTrain_loss: 0.1507 | Train_acc: 97.1571 % | Validation_loss: 1.1931 | Validation_acc: 66.8912 %\u001b[32m [repeated 2x across cluster]\u001b[0m\n"
     ]
    },
    {
     "name": "stderr",
     "output_type": "stream",
     "text": [
      " 70%|\u001b[34m███████   \u001b[0m| 7/10 [00:41<00:17,  5.83s/it]\u001b[32m [repeated 2x across cluster]\u001b[0m\n"
     ]
    },
    {
     "name": "stdout",
     "output_type": "stream",
     "text": [
      "\u001b[36m(launch_and_fit pid=10101)\u001b[0m \tTrain Epoch: 7 \tTrain_loss: 0.1240 | Train_acc: 98.0252 % | Validation_loss: 1.1600 | Validation_acc: 66.9855 %\u001b[32m [repeated 2x across cluster]\u001b[0m\n"
     ]
    },
    {
     "name": "stderr",
     "output_type": "stream",
     "text": [
      " 80%|\u001b[34m████████  \u001b[0m| 8/10 [00:47<00:11,  5.90s/it]\u001b[32m [repeated 2x across cluster]\u001b[0m\n"
     ]
    },
    {
     "name": "stdout",
     "output_type": "stream",
     "text": [
      "\u001b[36m(launch_and_fit pid=10101)\u001b[0m \tTrain Epoch: 8 \tTrain_loss: 0.0848 | Train_acc: 99.1233 % | Validation_loss: 1.1622 | Validation_acc: 68.1237 %\u001b[32m [repeated 2x across cluster]\u001b[0m\n"
     ]
    },
    {
     "name": "stderr",
     "output_type": "stream",
     "text": [
      " 90%|\u001b[34m█████████ \u001b[0m| 9/10 [00:53<00:05,  5.99s/it]\u001b[32m [repeated 2x across cluster]\u001b[0m\n"
     ]
    },
    {
     "name": "stdout",
     "output_type": "stream",
     "text": [
      "\u001b[36m(launch_and_fit pid=10101)\u001b[0m \tTrain Epoch: 9 \tTrain_loss: 0.0704 | Train_acc: 99.3273 % | Validation_loss: 1.1533 | Validation_acc: 68.6490 %\u001b[32m [repeated 2x across cluster]\u001b[0m\n"
     ]
    },
    {
     "name": "stderr",
     "output_type": "stream",
     "text": [
      "100%|\u001b[34m██████████\u001b[0m| 10/10 [00:59<00:00,  5.99s/it]\u001b[32m [repeated 2x across cluster]\u001b[0m\n"
     ]
    },
    {
     "name": "stdout",
     "output_type": "stream",
     "text": [
      "\u001b[36m(launch_and_fit pid=10101)\u001b[0m save graph in  results/FL/\n",
      "\u001b[36m(launch_and_fit pid=10101)\u001b[0m \tTrain Epoch: 10 \tTrain_loss: 0.0584 | Train_acc: 99.5226 % | Validation_loss: 1.1957 | Validation_acc: 69.0396 %\u001b[32m [repeated 2x across cluster]\u001b[0m\n",
      "\u001b[36m(launch_and_fit pid=10177)\u001b[0m Run WITHOUT homomorphic encryption\n",
      "\u001b[36m(launch_and_fit pid=10177)\u001b[0m  To get the checkpoint\n",
      "\u001b[36m(launch_and_fit pid=10128)\u001b[0m save graph in  results/FL/\n",
      "\u001b[36m(launch_and_fit pid=10128)\u001b[0m \tTrain Epoch: 10 \tTrain_loss: 0.0520 | Train_acc: 99.6962 % | Validation_loss: 1.1575 | Validation_acc: 68.6827 %\n"
     ]
    },
    {
     "name": "stderr",
     "output_type": "stream",
     "text": [
      "  0%|\u001b[34m          \u001b[0m| 0/10 [00:00<?, ?it/s]\n",
      "100%|\u001b[34m██████████\u001b[0m| 10/10 [00:58<00:00,  5.86s/it]\n"
     ]
    },
    {
     "name": "stdout",
     "output_type": "stream",
     "text": [
      "\u001b[36m(launch_and_fit pid=10177)\u001b[0m [Client 2, round 14] fit, config: {'learning_rate': 0.001, 'batch_size': '128', 'server_round': 14, 'local_epochs': 10}\n",
      "\u001b[36m(launch_and_fit pid=10177)\u001b[0m Updated model\n"
     ]
    },
    {
     "name": "stderr",
     "output_type": "stream",
     "text": [
      " 10%|\u001b[34m█         \u001b[0m| 1/10 [00:06<00:58,  6.54s/it]\n",
      "  0%|\u001b[34m          \u001b[0m| 0/10 [00:00<?, ?it/s]\n"
     ]
    },
    {
     "name": "stdout",
     "output_type": "stream",
     "text": [
      "\u001b[36m(launch_and_fit pid=10177)\u001b[0m \tTrain Epoch: 1 \tTrain_loss: 0.6641 | Train_acc: 78.6849 % | Validation_loss: 1.1706 | Validation_acc: 63.0927 %\n",
      "\u001b[36m(launch_and_fit pid=10179)\u001b[0m Run WITHOUT homomorphic encryption\n",
      "\u001b[36m(launch_and_fit pid=10179)\u001b[0m  To get the checkpoint\n",
      "\u001b[36m(launch_and_fit pid=10179)\u001b[0m [Client 4, round 14] fit, config: {'learning_rate': 0.001, 'batch_size': '128', 'server_round': 14, 'local_epochs': 10}\n",
      "\u001b[36m(launch_and_fit pid=10179)\u001b[0m Updated model\n"
     ]
    },
    {
     "name": "stderr",
     "output_type": "stream",
     "text": [
      " 20%|\u001b[34m██        \u001b[0m| 2/10 [00:12<00:50,  6.37s/it]\u001b[32m [repeated 2x across cluster]\u001b[0m\n"
     ]
    },
    {
     "name": "stdout",
     "output_type": "stream",
     "text": [
      "\u001b[36m(launch_and_fit pid=10177)\u001b[0m \tTrain Epoch: 2 \tTrain_loss: 0.4349 | Train_acc: 86.6016 % | Validation_loss: 1.2057 | Validation_acc: 66.9450 %\u001b[32m [repeated 2x across cluster]\u001b[0m\n"
     ]
    },
    {
     "name": "stderr",
     "output_type": "stream",
     "text": [
      " 30%|\u001b[34m███       \u001b[0m| 3/10 [00:18<00:42,  6.09s/it]\u001b[32m [repeated 2x across cluster]\u001b[0m\n"
     ]
    },
    {
     "name": "stdout",
     "output_type": "stream",
     "text": [
      "\u001b[36m(launch_and_fit pid=10177)\u001b[0m \tTrain Epoch: 3 \tTrain_loss: 0.2786 | Train_acc: 91.8663 % | Validation_loss: 1.2781 | Validation_acc: 62.0757 %\u001b[32m [repeated 2x across cluster]\u001b[0m\n"
     ]
    },
    {
     "name": "stderr",
     "output_type": "stream",
     "text": [
      " 40%|\u001b[34m████      \u001b[0m| 4/10 [00:24<00:35,  5.99s/it]\u001b[32m [repeated 2x across cluster]\u001b[0m\n"
     ]
    },
    {
     "name": "stdout",
     "output_type": "stream",
     "text": [
      "\u001b[36m(launch_and_fit pid=10177)\u001b[0m \tTrain Epoch: 4 \tTrain_loss: 0.2049 | Train_acc: 95.1172 % | Validation_loss: 1.3203 | Validation_acc: 64.1096 %\u001b[32m [repeated 2x across cluster]\u001b[0m\n"
     ]
    },
    {
     "name": "stderr",
     "output_type": "stream",
     "text": [
      " 50%|\u001b[34m█████     \u001b[0m| 5/10 [00:30<00:29,  5.95s/it]\u001b[32m [repeated 2x across cluster]\u001b[0m\n"
     ]
    },
    {
     "name": "stdout",
     "output_type": "stream",
     "text": [
      "\u001b[36m(launch_and_fit pid=10177)\u001b[0m \tTrain Epoch: 5 \tTrain_loss: 0.1606 | Train_acc: 96.5061 % | Validation_loss: 1.2618 | Validation_acc: 66.4534 %\u001b[32m [repeated 2x across cluster]\u001b[0m\n"
     ]
    },
    {
     "name": "stderr",
     "output_type": "stream",
     "text": [
      " 60%|\u001b[34m██████    \u001b[0m| 6/10 [00:36<00:24,  6.02s/it]\u001b[32m [repeated 2x across cluster]\u001b[0m\n"
     ]
    },
    {
     "name": "stdout",
     "output_type": "stream",
     "text": [
      "\u001b[36m(launch_and_fit pid=10177)\u001b[0m \tTrain Epoch: 6 \tTrain_loss: 0.1429 | Train_acc: 97.0703 % | Validation_loss: 1.2195 | Validation_acc: 66.8036 %\u001b[32m [repeated 2x across cluster]\u001b[0m\n",
      "\u001b[36m(launch_and_fit pid=10179)\u001b[0m \tTrain Epoch: 7 \tTrain_loss: 0.0855 | Train_acc: 99.1536 % | Validation_loss: 1.3641 | Validation_acc: 66.7497 %\u001b[32m [repeated 2x across cluster]\u001b[0m\n"
     ]
    },
    {
     "name": "stderr",
     "output_type": "stream",
     "text": [
      " 70%|\u001b[34m███████   \u001b[0m| 7/10 [00:42<00:18,  6.01s/it]\u001b[32m [repeated 2x across cluster]\u001b[0m\n"
     ]
    },
    {
     "name": "stdout",
     "output_type": "stream",
     "text": [
      "\u001b[36m(launch_and_fit pid=10179)\u001b[0m \tTrain Epoch: 8 \tTrain_loss: 0.0769 | Train_acc: 99.2188 % | Validation_loss: 1.3270 | Validation_acc: 66.1840 %\u001b[32m [repeated 2x across cluster]\u001b[0m\n"
     ]
    },
    {
     "name": "stderr",
     "output_type": "stream",
     "text": [
      " 80%|\u001b[34m████████  \u001b[0m| 8/10 [00:47<00:11,  5.90s/it]\u001b[32m [repeated 2x across cluster]\u001b[0m\n"
     ]
    },
    {
     "name": "stdout",
     "output_type": "stream",
     "text": [
      "\u001b[36m(launch_and_fit pid=10179)\u001b[0m \tTrain Epoch: 9 \tTrain_loss: 0.0610 | Train_acc: 99.5877 % | Validation_loss: 1.3219 | Validation_acc: 66.1638 %\u001b[32m [repeated 2x across cluster]\u001b[0m\n"
     ]
    },
    {
     "name": "stderr",
     "output_type": "stream",
     "text": [
      " 90%|\u001b[34m█████████ \u001b[0m| 9/10 [00:53<00:05,  5.86s/it]\u001b[32m [repeated 2x across cluster]\u001b[0m\n"
     ]
    },
    {
     "name": "stdout",
     "output_type": "stream",
     "text": [
      "\u001b[36m(launch_and_fit pid=10179)\u001b[0m save graph in  results/FL/\n",
      "\u001b[36m(launch_and_fit pid=10179)\u001b[0m \tTrain Epoch: 10 \tTrain_loss: 0.0520 | Train_acc: 99.6745 % | Validation_loss: 1.3449 | Validation_acc: 66.9652 %\u001b[32m [repeated 2x across cluster]\u001b[0m\n"
     ]
    },
    {
     "name": "stderr",
     "output_type": "stream",
     "text": [
      "100%|\u001b[34m██████████\u001b[0m| 10/10 [00:59<00:00,  5.95s/it]\u001b[32m [repeated 2x across cluster]\u001b[0m\n"
     ]
    },
    {
     "name": "stdout",
     "output_type": "stream",
     "text": [
      "\u001b[36m(launch_and_fit pid=10251)\u001b[0m Run WITHOUT homomorphic encryption\n",
      "\u001b[36m(launch_and_fit pid=10251)\u001b[0m  To get the checkpoint\n",
      "\u001b[36m(launch_and_fit pid=10177)\u001b[0m save graph in  results/FL/\n",
      "\u001b[36m(launch_and_fit pid=10177)\u001b[0m \tTrain Epoch: 10 \tTrain_loss: 0.0497 | Train_acc: 99.6745 % | Validation_loss: 1.2973 | Validation_acc: 66.1638 %\n",
      "\u001b[36m(launch_and_fit pid=10251)\u001b[0m [Client 9, round 14] fit, config: {'learning_rate': 0.001, 'batch_size': '128', 'server_round': 14, 'local_epochs': 10}\n",
      "\u001b[36m(launch_and_fit pid=10251)\u001b[0m Updated model\n"
     ]
    },
    {
     "name": "stderr",
     "output_type": "stream",
     "text": [
      "  0%|\u001b[34m          \u001b[0m| 0/10 [00:00<?, ?it/s]\n",
      "100%|\u001b[34m██████████\u001b[0m| 10/10 [00:59<00:00,  5.99s/it]\n"
     ]
    },
    {
     "name": "stdout",
     "output_type": "stream",
     "text": [
      "\u001b[36m(launch_and_fit pid=10251)\u001b[0m \tTrain Epoch: 1 \tTrain_loss: 0.6598 | Train_acc: 78.9366 % | Validation_loss: 1.3427 | Validation_acc: 62.1026 %\n",
      "\u001b[36m(launch_and_fit pid=10253)\u001b[0m Run WITHOUT homomorphic encryption\n",
      "\u001b[36m(launch_and_fit pid=10253)\u001b[0m  To get the checkpoint\n",
      "\u001b[36m(launch_and_fit pid=10253)\u001b[0m [Client 8, round 14] fit, config: {'learning_rate': 0.001, 'batch_size': '128', 'server_round': 14, 'local_epochs': 10}\n",
      "\u001b[36m(launch_and_fit pid=10253)\u001b[0m Updated model\n"
     ]
    },
    {
     "name": "stderr",
     "output_type": "stream",
     "text": [
      " 10%|\u001b[34m█         \u001b[0m| 1/10 [00:06<00:57,  6.35s/it]\n",
      "  0%|\u001b[34m          \u001b[0m| 0/10 [00:00<?, ?it/s]\n"
     ]
    },
    {
     "name": "stdout",
     "output_type": "stream",
     "text": [
      "\u001b[36m(launch_and_fit pid=10251)\u001b[0m \tTrain Epoch: 2 \tTrain_loss: 0.4004 | Train_acc: 87.8299 % | Validation_loss: 1.3189 | Validation_acc: 63.4496 %\u001b[32m [repeated 2x across cluster]\u001b[0m\n"
     ]
    },
    {
     "name": "stderr",
     "output_type": "stream",
     "text": [
      " 20%|\u001b[34m██        \u001b[0m| 2/10 [00:12<00:47,  5.99s/it]\u001b[32m [repeated 2x across cluster]\u001b[0m\n"
     ]
    },
    {
     "name": "stdout",
     "output_type": "stream",
     "text": [
      "\u001b[36m(launch_and_fit pid=10251)\u001b[0m \tTrain Epoch: 3 \tTrain_loss: 0.2708 | Train_acc: 92.4089 % | Validation_loss: 1.3393 | Validation_acc: 63.6853 %\u001b[32m [repeated 2x across cluster]\u001b[0m\n"
     ]
    },
    {
     "name": "stderr",
     "output_type": "stream",
     "text": [
      " 30%|\u001b[34m███       \u001b[0m| 3/10 [00:17<00:41,  5.86s/it]\u001b[32m [repeated 2x across cluster]\u001b[0m\n"
     ]
    },
    {
     "name": "stdout",
     "output_type": "stream",
     "text": [
      "\u001b[36m(launch_and_fit pid=10251)\u001b[0m \tTrain Epoch: 4 \tTrain_loss: 0.1910 | Train_acc: 95.5512 % | Validation_loss: 1.3010 | Validation_acc: 65.0121 %\u001b[32m [repeated 2x across cluster]\u001b[0m\n"
     ]
    },
    {
     "name": "stderr",
     "output_type": "stream",
     "text": [
      " 40%|\u001b[34m████      \u001b[0m| 4/10 [00:23<00:34,  5.81s/it]\u001b[32m [repeated 2x across cluster]\u001b[0m\n"
     ]
    },
    {
     "name": "stdout",
     "output_type": "stream",
     "text": [
      "\u001b[36m(launch_and_fit pid=10251)\u001b[0m \tTrain Epoch: 5 \tTrain_loss: 0.1723 | Train_acc: 96.3325 % | Validation_loss: 1.3567 | Validation_acc: 63.4698 %\u001b[32m [repeated 2x across cluster]\u001b[0m\n"
     ]
    },
    {
     "name": "stderr",
     "output_type": "stream",
     "text": [
      " 50%|\u001b[34m█████     \u001b[0m| 5/10 [00:29<00:28,  5.77s/it]\u001b[32m [repeated 2x across cluster]\u001b[0m\n"
     ]
    },
    {
     "name": "stdout",
     "output_type": "stream",
     "text": [
      "\u001b[36m(launch_and_fit pid=10251)\u001b[0m \tTrain Epoch: 6 \tTrain_loss: 0.1362 | Train_acc: 97.7648 % | Validation_loss: 1.4042 | Validation_acc: 62.9243 %\u001b[32m [repeated 2x across cluster]\u001b[0m\n"
     ]
    },
    {
     "name": "stderr",
     "output_type": "stream",
     "text": [
      " 60%|\u001b[34m██████    \u001b[0m| 6/10 [00:35<00:24,  6.03s/it]\u001b[32m [repeated 2x across cluster]\u001b[0m\n"
     ]
    },
    {
     "name": "stdout",
     "output_type": "stream",
     "text": [
      "\u001b[36m(launch_and_fit pid=10251)\u001b[0m \tTrain Epoch: 7 \tTrain_loss: 0.1047 | Train_acc: 98.4592 % | Validation_loss: 1.3598 | Validation_acc: 64.2309 %\u001b[32m [repeated 2x across cluster]\u001b[0m\n"
     ]
    },
    {
     "name": "stderr",
     "output_type": "stream",
     "text": [
      " 70%|\u001b[34m███████   \u001b[0m| 7/10 [00:41<00:17,  5.97s/it]\u001b[32m [repeated 2x across cluster]\u001b[0m\n"
     ]
    },
    {
     "name": "stdout",
     "output_type": "stream",
     "text": [
      "\u001b[36m(launch_and_fit pid=10251)\u001b[0m \tTrain Epoch: 8 \tTrain_loss: 0.0814 | Train_acc: 99.1319 % | Validation_loss: 1.3439 | Validation_acc: 65.3085 %\u001b[32m [repeated 2x across cluster]\u001b[0m\n"
     ]
    },
    {
     "name": "stderr",
     "output_type": "stream",
     "text": [
      " 80%|\u001b[34m████████  \u001b[0m| 8/10 [00:47<00:11,  5.93s/it]\u001b[32m [repeated 2x across cluster]\u001b[0m\n"
     ]
    },
    {
     "name": "stdout",
     "output_type": "stream",
     "text": [
      "\u001b[36m(launch_and_fit pid=10251)\u001b[0m \tTrain Epoch: 9 \tTrain_loss: 0.0628 | Train_acc: 99.5660 % | Validation_loss: 1.4233 | Validation_acc: 65.2680 %\u001b[32m [repeated 2x across cluster]\u001b[0m\n"
     ]
    },
    {
     "name": "stderr",
     "output_type": "stream",
     "text": [
      " 90%|\u001b[34m█████████ \u001b[0m| 9/10 [00:53<00:05,  5.90s/it]\u001b[32m [repeated 2x across cluster]\u001b[0m\n"
     ]
    },
    {
     "name": "stdout",
     "output_type": "stream",
     "text": [
      "\u001b[36m(launch_and_fit pid=10251)\u001b[0m save graph in  results/FL/\n",
      "\u001b[36m(launch_and_fit pid=10251)\u001b[0m \tTrain Epoch: 10 \tTrain_loss: 0.0553 | Train_acc: 99.4184 % | Validation_loss: 1.4054 | Validation_acc: 64.4868 %\u001b[32m [repeated 2x across cluster]\u001b[0m\n"
     ]
    },
    {
     "name": "stderr",
     "output_type": "stream",
     "text": [
      "100%|\u001b[34m██████████\u001b[0m| 10/10 [00:59<00:00,  5.92s/it]\u001b[32m [repeated 2x across cluster]\u001b[0m\n"
     ]
    },
    {
     "name": "stdout",
     "output_type": "stream",
     "text": [
      "\u001b[36m(launch_and_fit pid=10325)\u001b[0m Run WITHOUT homomorphic encryption\n",
      "\u001b[36m(launch_and_fit pid=10325)\u001b[0m  To get the checkpoint\n",
      "\u001b[36m(launch_and_fit pid=10253)\u001b[0m save graph in  results/FL/\n",
      "\u001b[36m(launch_and_fit pid=10253)\u001b[0m \tTrain Epoch: 10 \tTrain_loss: 0.0465 | Train_acc: 99.7830 % | Validation_loss: 1.4811 | Validation_acc: 63.7055 %\n",
      "\u001b[36m(launch_and_fit pid=10325)\u001b[0m [Client 6, round 14] fit, config: {'learning_rate': 0.001, 'batch_size': '128', 'server_round': 14, 'local_epochs': 10}\n",
      "\u001b[36m(launch_and_fit pid=10325)\u001b[0m Updated model\n"
     ]
    },
    {
     "name": "stderr",
     "output_type": "stream",
     "text": [
      "  0%|\u001b[34m          \u001b[0m| 0/10 [00:00<?, ?it/s]\n",
      "100%|\u001b[34m██████████\u001b[0m| 10/10 [00:59<00:00,  5.94s/it]\n"
     ]
    },
    {
     "name": "stdout",
     "output_type": "stream",
     "text": [
      "\u001b[36m(launch_and_fit pid=10325)\u001b[0m \tTrain Epoch: 1 \tTrain_loss: 0.6975 | Train_acc: 77.0747 % | Validation_loss: 1.2299 | Validation_acc: 64.6619 %\n",
      "\u001b[36m(launch_and_fit pid=10327)\u001b[0m Run WITHOUT homomorphic encryption\n",
      "\u001b[36m(launch_and_fit pid=10327)\u001b[0m  To get the checkpoint\n",
      "\u001b[36m(launch_and_fit pid=10327)\u001b[0m [Client 7, round 14] fit, config: {'learning_rate': 0.001, 'batch_size': '128', 'server_round': 14, 'local_epochs': 10}\n",
      "\u001b[36m(launch_and_fit pid=10327)\u001b[0m Updated model\n"
     ]
    },
    {
     "name": "stderr",
     "output_type": "stream",
     "text": [
      " 10%|\u001b[34m█         \u001b[0m| 1/10 [00:06<00:57,  6.34s/it]\n",
      "  0%|\u001b[34m          \u001b[0m| 0/10 [00:00<?, ?it/s]\n"
     ]
    },
    {
     "name": "stdout",
     "output_type": "stream",
     "text": [
      "\u001b[36m(launch_and_fit pid=10325)\u001b[0m \tTrain Epoch: 2 \tTrain_loss: 0.4064 | Train_acc: 87.4479 % | Validation_loss: 1.2433 | Validation_acc: 65.0525 %\u001b[32m [repeated 2x across cluster]\u001b[0m\n"
     ]
    },
    {
     "name": "stderr",
     "output_type": "stream",
     "text": [
      " 20%|\u001b[34m██        \u001b[0m| 2/10 [00:12<00:47,  5.97s/it]\u001b[32m [repeated 2x across cluster]\u001b[0m\n"
     ]
    },
    {
     "name": "stdout",
     "output_type": "stream",
     "text": [
      "\u001b[36m(launch_and_fit pid=10325)\u001b[0m \tTrain Epoch: 3 \tTrain_loss: 0.2659 | Train_acc: 92.5260 % | Validation_loss: 1.3603 | Validation_acc: 63.3688 %\u001b[32m [repeated 2x across cluster]\u001b[0m\n"
     ]
    },
    {
     "name": "stderr",
     "output_type": "stream",
     "text": [
      " 30%|\u001b[34m███       \u001b[0m| 3/10 [00:17<00:41,  5.95s/it]\u001b[32m [repeated 2x across cluster]\u001b[0m\n"
     ]
    },
    {
     "name": "stdout",
     "output_type": "stream",
     "text": [
      "\u001b[36m(launch_and_fit pid=10325)\u001b[0m \tTrain Epoch: 4 \tTrain_loss: 0.2147 | Train_acc: 94.3490 % | Validation_loss: 1.3399 | Validation_acc: 63.3688 %\u001b[32m [repeated 2x across cluster]\u001b[0m\n"
     ]
    },
    {
     "name": "stderr",
     "output_type": "stream",
     "text": [
      " 40%|\u001b[34m████      \u001b[0m| 4/10 [00:23<00:35,  5.98s/it]\u001b[32m [repeated 2x across cluster]\u001b[0m\n"
     ]
    },
    {
     "name": "stdout",
     "output_type": "stream",
     "text": [
      "\u001b[36m(launch_and_fit pid=10325)\u001b[0m \tTrain Epoch: 5 \tTrain_loss: 0.1783 | Train_acc: 95.7595 % | Validation_loss: 1.4097 | Validation_acc: 63.4294 %\u001b[32m [repeated 2x across cluster]\u001b[0m\n"
     ]
    },
    {
     "name": "stderr",
     "output_type": "stream",
     "text": [
      " 50%|\u001b[34m█████     \u001b[0m| 5/10 [00:29<00:29,  5.93s/it]\u001b[32m [repeated 2x across cluster]\u001b[0m\n"
     ]
    },
    {
     "name": "stdout",
     "output_type": "stream",
     "text": [
      "\u001b[36m(launch_and_fit pid=10325)\u001b[0m \tTrain Epoch: 6 \tTrain_loss: 0.1591 | Train_acc: 96.7491 % | Validation_loss: 1.2981 | Validation_acc: 64.6619 %\u001b[32m [repeated 2x across cluster]\u001b[0m\n"
     ]
    },
    {
     "name": "stderr",
     "output_type": "stream",
     "text": [
      " 60%|\u001b[34m██████    \u001b[0m| 6/10 [00:35<00:23,  5.95s/it]\u001b[32m [repeated 2x across cluster]\u001b[0m\n"
     ]
    },
    {
     "name": "stdout",
     "output_type": "stream",
     "text": [
      "\u001b[36m(launch_and_fit pid=10325)\u001b[0m \tTrain Epoch: 7 \tTrain_loss: 0.1398 | Train_acc: 97.1788 % | Validation_loss: 1.2747 | Validation_acc: 63.7796 %\u001b[32m [repeated 2x across cluster]\u001b[0m\n"
     ]
    },
    {
     "name": "stderr",
     "output_type": "stream",
     "text": [
      " 70%|\u001b[34m███████   \u001b[0m| 7/10 [00:41<00:17,  5.99s/it]\u001b[32m [repeated 2x across cluster]\u001b[0m\n"
     ]
    },
    {
     "name": "stdout",
     "output_type": "stream",
     "text": [
      "\u001b[36m(launch_and_fit pid=10325)\u001b[0m \tTrain Epoch: 8 \tTrain_loss: 0.0922 | Train_acc: 98.8064 % | Validation_loss: 1.3224 | Validation_acc: 64.2107 %\u001b[32m [repeated 2x across cluster]\u001b[0m\n"
     ]
    },
    {
     "name": "stderr",
     "output_type": "stream",
     "text": [
      " 80%|\u001b[34m████████  \u001b[0m| 8/10 [00:47<00:11,  5.95s/it]\u001b[32m [repeated 2x across cluster]\u001b[0m\n"
     ]
    },
    {
     "name": "stdout",
     "output_type": "stream",
     "text": [
      "\u001b[36m(launch_and_fit pid=10325)\u001b[0m \tTrain Epoch: 9 \tTrain_loss: 0.0725 | Train_acc: 99.2839 % | Validation_loss: 1.2919 | Validation_acc: 66.0291 %\u001b[32m [repeated 2x across cluster]\u001b[0m\n"
     ]
    },
    {
     "name": "stderr",
     "output_type": "stream",
     "text": [
      " 90%|\u001b[34m█████████ \u001b[0m| 9/10 [00:53<00:05,  5.99s/it]\u001b[32m [repeated 2x across cluster]\u001b[0m\n"
     ]
    },
    {
     "name": "stdout",
     "output_type": "stream",
     "text": [
      "\u001b[36m(launch_and_fit pid=10325)\u001b[0m save graph in  results/FL/\n",
      "\u001b[36m(launch_and_fit pid=10325)\u001b[0m \tTrain Epoch: 10 \tTrain_loss: 0.0623 | Train_acc: 99.4922 % | Validation_loss: 1.3198 | Validation_acc: 64.5609 %\u001b[32m [repeated 2x across cluster]\u001b[0m\n"
     ]
    },
    {
     "name": "stderr",
     "output_type": "stream",
     "text": [
      "100%|\u001b[34m██████████\u001b[0m| 10/10 [01:00<00:00,  6.01s/it]\u001b[32m [repeated 2x across cluster]\u001b[0m\n",
      "DEBUG flwr 2024-07-20 20:01:25,841 | server.py:236 | fit_round 14 received 10 results and 0 failures\n"
     ]
    },
    {
     "name": "stdout",
     "output_type": "stream",
     "text": [
      "Saving round 14 aggregated_parameters...\n",
      "Updated model\n"
     ]
    },
    {
     "name": "stderr",
     "output_type": "stream",
     "text": [
      "INFO flwr 2024-07-20 20:01:31,461 | server.py:125 | fit progress: (14, 1.1424430918089952, {'accuracy': 70.33227848101265}, 6286.150932044)\n",
      "DEBUG flwr 2024-07-20 20:01:31,462 | server.py:173 | evaluate_round 14: strategy sampled 10 clients (out of 10)\n"
     ]
    },
    {
     "name": "stdout",
     "output_type": "stream",
     "text": [
      "Server-side evaluation loss 1.1424430918089952 / accuracy 70.33227848101265\n",
      "\u001b[36m(launch_and_evaluate pid=10408)\u001b[0m Run WITHOUT homomorphic encryption\n",
      "\u001b[36m(launch_and_evaluate pid=10408)\u001b[0m  To get the checkpoint\n",
      "\u001b[36m(launch_and_fit pid=10327)\u001b[0m save graph in  results/FL/\n",
      "\u001b[36m(launch_and_fit pid=10327)\u001b[0m \tTrain Epoch: 10 \tTrain_loss: 0.0476 | Train_acc: 99.6528 % | Validation_loss: 1.1678 | Validation_acc: 69.8411 %\n",
      "\u001b[36m(launch_and_evaluate pid=10408)\u001b[0m [Client 8] evaluate, config: {}\n",
      "\u001b[36m(launch_and_evaluate pid=10408)\u001b[0m Updated model\n",
      "\u001b[36m(launch_and_evaluate pid=10478)\u001b[0m Run WITHOUT homomorphic encryption\u001b[32m [repeated 2x across cluster]\u001b[0m\n",
      "\u001b[36m(launch_and_evaluate pid=10478)\u001b[0m  To get the checkpoint\u001b[32m [repeated 2x across cluster]\u001b[0m\n",
      "\u001b[36m(launch_and_evaluate pid=10432)\u001b[0m [Client 1] evaluate, config: {}\n",
      "\u001b[36m(launch_and_evaluate pid=10432)\u001b[0m Updated model\n",
      "\u001b[36m(launch_and_evaluate pid=10478)\u001b[0m [Client 0] evaluate, config: {}\n",
      "\u001b[36m(launch_and_evaluate pid=10478)\u001b[0m Updated model\n",
      "\u001b[36m(launch_and_evaluate pid=10549)\u001b[0m Run WITHOUT homomorphic encryption\u001b[32m [repeated 2x across cluster]\u001b[0m\n",
      "\u001b[36m(launch_and_evaluate pid=10549)\u001b[0m  To get the checkpoint\u001b[32m [repeated 2x across cluster]\u001b[0m\n",
      "\u001b[36m(launch_and_evaluate pid=10504)\u001b[0m [Client 6] evaluate, config: {}\n",
      "\u001b[36m(launch_and_evaluate pid=10504)\u001b[0m Updated model\n",
      "\u001b[36m(launch_and_evaluate pid=10549)\u001b[0m [Client 9] evaluate, config: {}\n",
      "\u001b[36m(launch_and_evaluate pid=10549)\u001b[0m Updated model\n",
      "\u001b[36m(launch_and_evaluate pid=10619)\u001b[0m Run WITHOUT homomorphic encryption\u001b[32m [repeated 2x across cluster]\u001b[0m\n",
      "\u001b[36m(launch_and_evaluate pid=10619)\u001b[0m  To get the checkpoint\u001b[32m [repeated 2x across cluster]\u001b[0m\n",
      "\u001b[36m(launch_and_evaluate pid=10574)\u001b[0m [Client 7] evaluate, config: {}\n",
      "\u001b[36m(launch_and_evaluate pid=10574)\u001b[0m Updated model\n",
      "\u001b[36m(launch_and_evaluate pid=10619)\u001b[0m [Client 3] evaluate, config: {}\n",
      "\u001b[36m(launch_and_evaluate pid=10619)\u001b[0m Updated model\n",
      "\u001b[36m(launch_and_evaluate pid=10690)\u001b[0m Run WITHOUT homomorphic encryption\u001b[32m [repeated 2x across cluster]\u001b[0m\n",
      "\u001b[36m(launch_and_evaluate pid=10690)\u001b[0m  To get the checkpoint\u001b[32m [repeated 2x across cluster]\u001b[0m\n",
      "\u001b[36m(launch_and_evaluate pid=10644)\u001b[0m [Client 2] evaluate, config: {}\n",
      "\u001b[36m(launch_and_evaluate pid=10644)\u001b[0m Updated model\n",
      "\u001b[36m(launch_and_evaluate pid=10690)\u001b[0m [Client 4] evaluate, config: {}\n",
      "\u001b[36m(launch_and_evaluate pid=10690)\u001b[0m Updated model\n"
     ]
    },
    {
     "name": "stderr",
     "output_type": "stream",
     "text": [
      "DEBUG flwr 2024-07-20 20:02:48,216 | server.py:187 | evaluate_round 14 received 10 results and 0 failures\n",
      "DEBUG flwr 2024-07-20 20:02:48,218 | server.py:222 | fit_round 15: strategy sampled 10 clients (out of 10)\n"
     ]
    },
    {
     "name": "stdout",
     "output_type": "stream",
     "text": [
      "\u001b[36m(launch_and_fit pid=10769)\u001b[0m Run WITHOUT homomorphic encryption\u001b[32m [repeated 2x across cluster]\u001b[0m\n",
      "\u001b[36m(launch_and_fit pid=10769)\u001b[0m  To get the checkpoint\u001b[32m [repeated 2x across cluster]\u001b[0m\n",
      "\u001b[36m(launch_and_evaluate pid=10715)\u001b[0m [Client 5] evaluate, config: {}\n",
      "\u001b[36m(launch_and_evaluate pid=10715)\u001b[0m Updated model\n",
      "\u001b[36m(launch_and_fit pid=10769)\u001b[0m [Client 1, round 15] fit, config: {'learning_rate': 0.001, 'batch_size': '128', 'server_round': 15, 'local_epochs': 10}\n",
      "\u001b[36m(launch_and_fit pid=10769)\u001b[0m Updated model\n"
     ]
    },
    {
     "name": "stderr",
     "output_type": "stream",
     "text": [
      "  0%|\u001b[34m          \u001b[0m| 0/10 [00:00<?, ?it/s]\n",
      "100%|\u001b[34m██████████\u001b[0m| 10/10 [00:59<00:00,  5.98s/it]\n"
     ]
    },
    {
     "name": "stdout",
     "output_type": "stream",
     "text": [
      "\u001b[36m(launch_and_fit pid=10769)\u001b[0m \tTrain Epoch: 1 \tTrain_loss: 0.6138 | Train_acc: 80.4514 % | Validation_loss: 1.1636 | Validation_acc: 67.8879 %\n",
      "\u001b[36m(launch_and_fit pid=10770)\u001b[0m Run WITHOUT homomorphic encryption\n",
      "\u001b[36m(launch_and_fit pid=10770)\u001b[0m  To get the checkpoint\n",
      "\u001b[36m(launch_and_fit pid=10770)\u001b[0m [Client 9, round 15] fit, config: {'learning_rate': 0.001, 'batch_size': '128', 'server_round': 15, 'local_epochs': 10}\n",
      "\u001b[36m(launch_and_fit pid=10770)\u001b[0m Updated model\n"
     ]
    },
    {
     "name": "stderr",
     "output_type": "stream",
     "text": [
      " 10%|\u001b[34m█         \u001b[0m| 1/10 [00:06<00:56,  6.24s/it]\n",
      "  0%|\u001b[34m          \u001b[0m| 0/10 [00:00<?, ?it/s]\n"
     ]
    },
    {
     "name": "stdout",
     "output_type": "stream",
     "text": [
      "\u001b[36m(launch_and_fit pid=10769)\u001b[0m \tTrain Epoch: 2 \tTrain_loss: 0.3331 | Train_acc: 89.7613 % | Validation_loss: 1.2119 | Validation_acc: 68.1237 %\u001b[32m [repeated 2x across cluster]\u001b[0m\n"
     ]
    },
    {
     "name": "stderr",
     "output_type": "stream",
     "text": [
      " 20%|\u001b[34m██        \u001b[0m| 2/10 [00:12<00:47,  5.97s/it]\u001b[32m [repeated 2x across cluster]\u001b[0m\n"
     ]
    },
    {
     "name": "stdout",
     "output_type": "stream",
     "text": [
      "\u001b[36m(launch_and_fit pid=10769)\u001b[0m \tTrain Epoch: 3 \tTrain_loss: 0.2236 | Train_acc: 93.8064 % | Validation_loss: 1.1810 | Validation_acc: 69.7266 %\u001b[32m [repeated 2x across cluster]\u001b[0m\n"
     ]
    },
    {
     "name": "stderr",
     "output_type": "stream",
     "text": [
      " 30%|\u001b[34m███       \u001b[0m| 3/10 [00:18<00:43,  6.15s/it]\u001b[32m [repeated 2x across cluster]\u001b[0m\n"
     ]
    },
    {
     "name": "stdout",
     "output_type": "stream",
     "text": [
      "\u001b[36m(launch_and_fit pid=10769)\u001b[0m \tTrain Epoch: 4 \tTrain_loss: 0.1537 | Train_acc: 96.8533 % | Validation_loss: 1.2646 | Validation_acc: 66.6756 %\u001b[32m [repeated 2x across cluster]\u001b[0m\n"
     ]
    },
    {
     "name": "stderr",
     "output_type": "stream",
     "text": [
      " 40%|\u001b[34m████      \u001b[0m| 4/10 [00:24<00:36,  6.07s/it]\u001b[32m [repeated 2x across cluster]\u001b[0m\n"
     ]
    },
    {
     "name": "stdout",
     "output_type": "stream",
     "text": [
      "\u001b[36m(launch_and_fit pid=10769)\u001b[0m \tTrain Epoch: 5 \tTrain_loss: 0.1187 | Train_acc: 97.6345 % | Validation_loss: 1.2815 | Validation_acc: 65.6587 %\u001b[32m [repeated 2x across cluster]\u001b[0m\n"
     ]
    },
    {
     "name": "stderr",
     "output_type": "stream",
     "text": [
      " 50%|\u001b[34m█████     \u001b[0m| 5/10 [00:30<00:29,  5.94s/it]\u001b[32m [repeated 2x across cluster]\u001b[0m\n"
     ]
    },
    {
     "name": "stdout",
     "output_type": "stream",
     "text": [
      "\u001b[36m(launch_and_fit pid=10769)\u001b[0m \tTrain Epoch: 6 \tTrain_loss: 0.0978 | Train_acc: 98.1771 % | Validation_loss: 1.2170 | Validation_acc: 69.5312 %\u001b[32m [repeated 2x across cluster]\u001b[0m\n"
     ]
    },
    {
     "name": "stderr",
     "output_type": "stream",
     "text": [
      " 60%|\u001b[34m██████    \u001b[0m| 6/10 [00:36<00:23,  5.99s/it]\u001b[32m [repeated 2x across cluster]\u001b[0m\n"
     ]
    },
    {
     "name": "stdout",
     "output_type": "stream",
     "text": [
      "\u001b[36m(launch_and_fit pid=10769)\u001b[0m \tTrain Epoch: 7 \tTrain_loss: 0.0759 | Train_acc: 98.8194 % | Validation_loss: 1.2816 | Validation_acc: 67.7330 %\u001b[32m [repeated 2x across cluster]\u001b[0m\n"
     ]
    },
    {
     "name": "stderr",
     "output_type": "stream",
     "text": [
      " 70%|\u001b[34m███████   \u001b[0m| 7/10 [00:41<00:17,  5.93s/it]\u001b[32m [repeated 2x across cluster]\u001b[0m\n"
     ]
    },
    {
     "name": "stdout",
     "output_type": "stream",
     "text": [
      "\u001b[36m(launch_and_fit pid=10769)\u001b[0m \tTrain Epoch: 8 \tTrain_loss: 0.0617 | Train_acc: 99.3924 % | Validation_loss: 1.3309 | Validation_acc: 67.8677 %\u001b[32m [repeated 2x across cluster]\u001b[0m\n"
     ]
    },
    {
     "name": "stderr",
     "output_type": "stream",
     "text": [
      " 80%|\u001b[34m████████  \u001b[0m| 8/10 [00:48<00:11,  6.00s/it]\u001b[32m [repeated 2x across cluster]\u001b[0m\n"
     ]
    },
    {
     "name": "stdout",
     "output_type": "stream",
     "text": [
      "\u001b[36m(launch_and_fit pid=10769)\u001b[0m \tTrain Epoch: 9 \tTrain_loss: 0.0482 | Train_acc: 99.5226 % | Validation_loss: 1.2963 | Validation_acc: 67.3761 %\u001b[32m [repeated 2x across cluster]\u001b[0m\n"
     ]
    },
    {
     "name": "stderr",
     "output_type": "stream",
     "text": [
      " 90%|\u001b[34m█████████ \u001b[0m| 9/10 [00:53<00:05,  5.96s/it]\u001b[32m [repeated 2x across cluster]\u001b[0m\n"
     ]
    },
    {
     "name": "stdout",
     "output_type": "stream",
     "text": [
      "\u001b[36m(launch_and_fit pid=10769)\u001b[0m save graph in  results/FL/\n",
      "\u001b[36m(launch_and_fit pid=10769)\u001b[0m \tTrain Epoch: 10 \tTrain_loss: 0.0420 | Train_acc: 99.6528 % | Validation_loss: 1.3233 | Validation_acc: 67.4771 %\u001b[32m [repeated 2x across cluster]\u001b[0m\n"
     ]
    },
    {
     "name": "stderr",
     "output_type": "stream",
     "text": [
      "100%|\u001b[34m██████████\u001b[0m| 10/10 [00:59<00:00,  5.96s/it]\u001b[32m [repeated 2x across cluster]\u001b[0m\n"
     ]
    },
    {
     "name": "stdout",
     "output_type": "stream",
     "text": [
      "\u001b[36m(launch_and_fit pid=10846)\u001b[0m Run WITHOUT homomorphic encryption\n",
      "\u001b[36m(launch_and_fit pid=10846)\u001b[0m  To get the checkpoint\n",
      "\u001b[36m(launch_and_fit pid=10770)\u001b[0m save graph in  results/FL/\n",
      "\u001b[36m(launch_and_fit pid=10770)\u001b[0m \tTrain Epoch: 10 \tTrain_loss: 0.0312 | Train_acc: 99.8698 % | Validation_loss: 1.4167 | Validation_acc: 64.1703 %\n"
     ]
    },
    {
     "name": "stderr",
     "output_type": "stream",
     "text": [
      "  0%|\u001b[34m          \u001b[0m| 0/10 [00:00<?, ?it/s]\n",
      "100%|\u001b[34m██████████\u001b[0m| 10/10 [00:59<00:00,  5.96s/it]\n"
     ]
    },
    {
     "name": "stdout",
     "output_type": "stream",
     "text": [
      "\u001b[36m(launch_and_fit pid=10846)\u001b[0m [Client 3, round 15] fit, config: {'learning_rate': 0.001, 'batch_size': '128', 'server_round': 15, 'local_epochs': 10}\n",
      "\u001b[36m(launch_and_fit pid=10846)\u001b[0m Updated model\n",
      "\u001b[36m(launch_and_fit pid=10844)\u001b[0m \tTrain Epoch: 1 \tTrain_loss: 0.6585 | Train_acc: 79.6354 % | Validation_loss: 1.1050 | Validation_acc: 67.0259 %\n",
      "\u001b[36m(launch_and_fit pid=10844)\u001b[0m Run WITHOUT homomorphic encryption\n",
      "\u001b[36m(launch_and_fit pid=10844)\u001b[0m  To get the checkpoint\n",
      "\u001b[36m(launch_and_fit pid=10844)\u001b[0m [Client 5, round 15] fit, config: {'learning_rate': 0.001, 'batch_size': '128', 'server_round': 15, 'local_epochs': 10}\n",
      "\u001b[36m(launch_and_fit pid=10844)\u001b[0m Updated model\n"
     ]
    },
    {
     "name": "stderr",
     "output_type": "stream",
     "text": [
      " 10%|\u001b[34m█         \u001b[0m| 1/10 [00:06<01:00,  6.70s/it]\n",
      "  0%|\u001b[34m          \u001b[0m| 0/10 [00:00<?, ?it/s]\n"
     ]
    },
    {
     "name": "stdout",
     "output_type": "stream",
     "text": [
      "\u001b[36m(launch_and_fit pid=10844)\u001b[0m \tTrain Epoch: 2 \tTrain_loss: 0.3905 | Train_acc: 87.8342 % | Validation_loss: 1.1157 | Validation_acc: 67.3761 %\u001b[32m [repeated 2x across cluster]\u001b[0m\n"
     ]
    },
    {
     "name": "stderr",
     "output_type": "stream",
     "text": [
      " 20%|\u001b[34m██        \u001b[0m| 2/10 [00:12<00:49,  6.15s/it]\u001b[32m [repeated 2x across cluster]\u001b[0m\n"
     ]
    },
    {
     "name": "stdout",
     "output_type": "stream",
     "text": [
      "\u001b[36m(launch_and_fit pid=10844)\u001b[0m \tTrain Epoch: 3 \tTrain_loss: 0.2344 | Train_acc: 93.7326 % | Validation_loss: 1.1293 | Validation_acc: 70.5213 %\u001b[32m [repeated 2x across cluster]\u001b[0m\n"
     ]
    },
    {
     "name": "stderr",
     "output_type": "stream",
     "text": [
      " 30%|\u001b[34m███       \u001b[0m| 3/10 [00:18<00:42,  6.01s/it]\u001b[32m [repeated 2x across cluster]\u001b[0m\n"
     ]
    },
    {
     "name": "stdout",
     "output_type": "stream",
     "text": [
      "\u001b[36m(launch_and_fit pid=10844)\u001b[0m \tTrain Epoch: 4 \tTrain_loss: 0.1570 | Train_acc: 96.5061 % | Validation_loss: 1.1413 | Validation_acc: 70.9523 %\u001b[32m [repeated 2x across cluster]\u001b[0m\n"
     ]
    },
    {
     "name": "stderr",
     "output_type": "stream",
     "text": [
      " 40%|\u001b[34m████      \u001b[0m| 4/10 [00:24<00:35,  5.93s/it]\u001b[32m [repeated 2x across cluster]\u001b[0m\n"
     ]
    },
    {
     "name": "stdout",
     "output_type": "stream",
     "text": [
      "\u001b[36m(launch_and_fit pid=10844)\u001b[0m \tTrain Epoch: 5 \tTrain_loss: 0.1045 | Train_acc: 98.1554 % | Validation_loss: 1.1534 | Validation_acc: 69.7400 %\u001b[32m [repeated 2x across cluster]\u001b[0m\n"
     ]
    },
    {
     "name": "stderr",
     "output_type": "stream",
     "text": [
      " 50%|\u001b[34m█████     \u001b[0m| 5/10 [00:30<00:29,  5.93s/it]\u001b[32m [repeated 2x across cluster]\u001b[0m\n"
     ]
    },
    {
     "name": "stdout",
     "output_type": "stream",
     "text": [
      "\u001b[36m(launch_and_fit pid=10844)\u001b[0m \tTrain Epoch: 6 \tTrain_loss: 0.0741 | Train_acc: 98.9800 % | Validation_loss: 1.1309 | Validation_acc: 70.3866 %\u001b[32m [repeated 2x across cluster]\u001b[0m\n"
     ]
    },
    {
     "name": "stderr",
     "output_type": "stream",
     "text": [
      " 60%|\u001b[34m██████    \u001b[0m| 6/10 [00:36<00:23,  6.00s/it]\u001b[32m [repeated 2x across cluster]\u001b[0m\n"
     ]
    },
    {
     "name": "stdout",
     "output_type": "stream",
     "text": [
      "\u001b[36m(launch_and_fit pid=10844)\u001b[0m \tTrain Epoch: 7 \tTrain_loss: 0.0589 | Train_acc: 99.3273 % | Validation_loss: 1.2113 | Validation_acc: 67.5916 %\u001b[32m [repeated 2x across cluster]\u001b[0m\n"
     ]
    },
    {
     "name": "stderr",
     "output_type": "stream",
     "text": [
      " 70%|\u001b[34m███████   \u001b[0m| 7/10 [00:42<00:18,  6.03s/it]\u001b[32m [repeated 2x across cluster]\u001b[0m\n"
     ]
    },
    {
     "name": "stdout",
     "output_type": "stream",
     "text": [
      "\u001b[36m(launch_and_fit pid=10844)\u001b[0m \tTrain Epoch: 8 \tTrain_loss: 0.0459 | Train_acc: 99.6311 % | Validation_loss: 1.1407 | Validation_acc: 70.4068 %\u001b[32m [repeated 2x across cluster]\u001b[0m\n"
     ]
    },
    {
     "name": "stderr",
     "output_type": "stream",
     "text": [
      " 80%|\u001b[34m████████  \u001b[0m| 8/10 [00:48<00:11,  6.00s/it]\u001b[32m [repeated 2x across cluster]\u001b[0m\n"
     ]
    },
    {
     "name": "stdout",
     "output_type": "stream",
     "text": [
      "\u001b[36m(launch_and_fit pid=10844)\u001b[0m \tTrain Epoch: 9 \tTrain_loss: 0.0381 | Train_acc: 99.7613 % | Validation_loss: 1.1332 | Validation_acc: 70.1711 %\u001b[32m [repeated 2x across cluster]\u001b[0m\n"
     ]
    },
    {
     "name": "stderr",
     "output_type": "stream",
     "text": [
      " 90%|\u001b[34m█████████ \u001b[0m| 9/10 [00:53<00:05,  5.90s/it]\u001b[32m [repeated 2x across cluster]\u001b[0m\n"
     ]
    },
    {
     "name": "stdout",
     "output_type": "stream",
     "text": [
      "\u001b[36m(launch_and_fit pid=10844)\u001b[0m save graph in  results/FL/\n",
      "\u001b[36m(launch_and_fit pid=10844)\u001b[0m \tTrain Epoch: 10 \tTrain_loss: 0.0334 | Train_acc: 99.7830 % | Validation_loss: 1.1504 | Validation_acc: 70.1509 %\u001b[32m [repeated 2x across cluster]\u001b[0m\n"
     ]
    },
    {
     "name": "stderr",
     "output_type": "stream",
     "text": [
      "100%|\u001b[34m██████████\u001b[0m| 10/10 [00:59<00:00,  5.98s/it]\u001b[32m [repeated 2x across cluster]\u001b[0m\n"
     ]
    },
    {
     "name": "stdout",
     "output_type": "stream",
     "text": [
      "\u001b[36m(launch_and_fit pid=10918)\u001b[0m Run WITHOUT homomorphic encryption\n",
      "\u001b[36m(launch_and_fit pid=10918)\u001b[0m  To get the checkpoint\n",
      "\u001b[36m(launch_and_fit pid=10846)\u001b[0m save graph in  results/FL/\n",
      "\u001b[36m(launch_and_fit pid=10846)\u001b[0m \tTrain Epoch: 10 \tTrain_loss: 0.0331 | Train_acc: 99.8698 % | Validation_loss: 1.1764 | Validation_acc: 71.5989 %\n"
     ]
    },
    {
     "name": "stderr",
     "output_type": "stream",
     "text": [
      "  0%|\u001b[34m          \u001b[0m| 0/10 [00:00<?, ?it/s]\n",
      "100%|\u001b[34m██████████\u001b[0m| 10/10 [01:00<00:00,  6.09s/it]\n"
     ]
    },
    {
     "name": "stdout",
     "output_type": "stream",
     "text": [
      "\u001b[36m(launch_and_fit pid=10918)\u001b[0m [Client 4, round 15] fit, config: {'learning_rate': 0.001, 'batch_size': '128', 'server_round': 15, 'local_epochs': 10}\n",
      "\u001b[36m(launch_and_fit pid=10918)\u001b[0m Updated model\n"
     ]
    },
    {
     "name": "stderr",
     "output_type": "stream",
     "text": [
      " 10%|\u001b[34m█         \u001b[0m| 1/10 [00:06<00:58,  6.49s/it]\n",
      "  0%|\u001b[34m          \u001b[0m| 0/10 [00:00<?, ?it/s]\n"
     ]
    },
    {
     "name": "stdout",
     "output_type": "stream",
     "text": [
      "\u001b[36m(launch_and_fit pid=10918)\u001b[0m \tTrain Epoch: 1 \tTrain_loss: 0.5975 | Train_acc: 80.7075 % | Validation_loss: 1.2042 | Validation_acc: 66.5544 %\n",
      "\u001b[36m(launch_and_fit pid=10943)\u001b[0m Run WITHOUT homomorphic encryption\n",
      "\u001b[36m(launch_and_fit pid=10943)\u001b[0m  To get the checkpoint\n",
      "\u001b[36m(launch_and_fit pid=10943)\u001b[0m [Client 0, round 15] fit, config: {'learning_rate': 0.001, 'batch_size': '128', 'server_round': 15, 'local_epochs': 10}\n",
      "\u001b[36m(launch_and_fit pid=10943)\u001b[0m Updated model\n"
     ]
    },
    {
     "name": "stderr",
     "output_type": "stream",
     "text": [
      " 20%|\u001b[34m██        \u001b[0m| 2/10 [00:12<00:48,  6.12s/it]\u001b[32m [repeated 2x across cluster]\u001b[0m\n"
     ]
    },
    {
     "name": "stdout",
     "output_type": "stream",
     "text": [
      "\u001b[36m(launch_and_fit pid=10918)\u001b[0m \tTrain Epoch: 2 \tTrain_loss: 0.3373 | Train_acc: 89.6875 % | Validation_loss: 1.2556 | Validation_acc: 64.6956 %\u001b[32m [repeated 2x across cluster]\u001b[0m\n"
     ]
    },
    {
     "name": "stderr",
     "output_type": "stream",
     "text": [
      " 30%|\u001b[34m███       \u001b[0m| 3/10 [00:18<00:41,  5.98s/it]\u001b[32m [repeated 2x across cluster]\u001b[0m\n"
     ]
    },
    {
     "name": "stdout",
     "output_type": "stream",
     "text": [
      "\u001b[36m(launch_and_fit pid=10918)\u001b[0m \tTrain Epoch: 3 \tTrain_loss: 0.2291 | Train_acc: 93.7500 % | Validation_loss: 1.3125 | Validation_acc: 67.3963 %\u001b[32m [repeated 2x across cluster]\u001b[0m\n"
     ]
    },
    {
     "name": "stderr",
     "output_type": "stream",
     "text": [
      " 40%|\u001b[34m████      \u001b[0m| 4/10 [00:24<00:35,  5.96s/it]\u001b[32m [repeated 2x across cluster]\u001b[0m\n"
     ]
    },
    {
     "name": "stdout",
     "output_type": "stream",
     "text": [
      "\u001b[36m(launch_and_fit pid=10918)\u001b[0m \tTrain Epoch: 4 \tTrain_loss: 0.1409 | Train_acc: 97.1137 % | Validation_loss: 1.3777 | Validation_acc: 65.1468 %\u001b[32m [repeated 2x across cluster]\u001b[0m\n"
     ]
    },
    {
     "name": "stderr",
     "output_type": "stream",
     "text": [
      " 50%|\u001b[34m█████     \u001b[0m| 5/10 [00:30<00:30,  6.04s/it]\u001b[32m [repeated 2x across cluster]\u001b[0m\n"
     ]
    },
    {
     "name": "stdout",
     "output_type": "stream",
     "text": [
      "\u001b[36m(launch_and_fit pid=10918)\u001b[0m \tTrain Epoch: 5 \tTrain_loss: 0.1010 | Train_acc: 98.2856 % | Validation_loss: 1.3986 | Validation_acc: 65.3421 %\u001b[32m [repeated 2x across cluster]\u001b[0m\n"
     ]
    },
    {
     "name": "stderr",
     "output_type": "stream",
     "text": [
      " 60%|\u001b[34m██████    \u001b[0m| 6/10 [00:36<00:24,  6.04s/it]\u001b[32m [repeated 2x across cluster]\u001b[0m\n"
     ]
    },
    {
     "name": "stdout",
     "output_type": "stream",
     "text": [
      "\u001b[36m(launch_and_fit pid=10918)\u001b[0m \tTrain Epoch: 6 \tTrain_loss: 0.0795 | Train_acc: 98.9583 % | Validation_loss: 1.4528 | Validation_acc: 65.8877 %\u001b[32m [repeated 2x across cluster]\u001b[0m\n"
     ]
    },
    {
     "name": "stderr",
     "output_type": "stream",
     "text": [
      " 70%|\u001b[34m███████   \u001b[0m| 7/10 [00:42<00:17,  5.98s/it]\u001b[32m [repeated 2x across cluster]\u001b[0m\n"
     ]
    },
    {
     "name": "stdout",
     "output_type": "stream",
     "text": [
      "\u001b[36m(launch_and_fit pid=10918)\u001b[0m \tTrain Epoch: 7 \tTrain_loss: 0.0599 | Train_acc: 99.3490 % | Validation_loss: 1.3959 | Validation_acc: 66.9450 %\u001b[32m [repeated 2x across cluster]\u001b[0m\n"
     ]
    },
    {
     "name": "stderr",
     "output_type": "stream",
     "text": [
      " 80%|\u001b[34m████████  \u001b[0m| 8/10 [00:48<00:11,  5.94s/it]\u001b[32m [repeated 2x across cluster]\u001b[0m\n"
     ]
    },
    {
     "name": "stdout",
     "output_type": "stream",
     "text": [
      "\u001b[36m(launch_and_fit pid=10918)\u001b[0m \tTrain Epoch: 8 \tTrain_loss: 0.0468 | Train_acc: 99.5009 % | Validation_loss: 1.3935 | Validation_acc: 66.5342 %\u001b[32m [repeated 2x across cluster]\u001b[0m\n"
     ]
    },
    {
     "name": "stderr",
     "output_type": "stream",
     "text": [
      " 90%|\u001b[34m█████████ \u001b[0m| 9/10 [00:53<00:05,  5.91s/it]\u001b[32m [repeated 2x across cluster]\u001b[0m\n"
     ]
    },
    {
     "name": "stdout",
     "output_type": "stream",
     "text": [
      "\u001b[36m(launch_and_fit pid=10918)\u001b[0m \tTrain Epoch: 9 \tTrain_loss: 0.0407 | Train_acc: 99.6745 % | Validation_loss: 1.4291 | Validation_acc: 65.7126 %\u001b[32m [repeated 2x across cluster]\u001b[0m\n"
     ]
    },
    {
     "name": "stderr",
     "output_type": "stream",
     "text": [
      "100%|\u001b[34m██████████\u001b[0m| 10/10 [00:59<00:00,  5.98s/it]\u001b[32m [repeated 2x across cluster]\u001b[0m\n"
     ]
    },
    {
     "name": "stdout",
     "output_type": "stream",
     "text": [
      "\u001b[36m(launch_and_fit pid=10918)\u001b[0m save graph in  results/FL/\n",
      "\u001b[36m(launch_and_fit pid=10918)\u001b[0m \tTrain Epoch: 10 \tTrain_loss: 0.0340 | Train_acc: 99.7830 % | Validation_loss: 1.4303 | Validation_acc: 66.5342 %\u001b[32m [repeated 2x across cluster]\u001b[0m\n",
      "\u001b[36m(launch_and_fit pid=10992)\u001b[0m Run WITHOUT homomorphic encryption\n",
      "\u001b[36m(launch_and_fit pid=10992)\u001b[0m  To get the checkpoint\n",
      "\u001b[36m(launch_and_fit pid=10943)\u001b[0m save graph in  results/FL/\n",
      "\u001b[36m(launch_and_fit pid=10943)\u001b[0m \tTrain Epoch: 10 \tTrain_loss: 0.0321 | Train_acc: 99.8047 % | Validation_loss: 1.2774 | Validation_acc: 69.5043 %\n",
      "\u001b[36m(launch_and_fit pid=10992)\u001b[0m [Client 6, round 15] fit, config: {'learning_rate': 0.001, 'batch_size': '128', 'server_round': 15, 'local_epochs': 10}\n",
      "\u001b[36m(launch_and_fit pid=10992)\u001b[0m Updated model\n"
     ]
    },
    {
     "name": "stderr",
     "output_type": "stream",
     "text": [
      "  0%|\u001b[34m          \u001b[0m| 0/10 [00:00<?, ?it/s]\n",
      "100%|\u001b[34m██████████\u001b[0m| 10/10 [00:59<00:00,  5.94s/it]\n"
     ]
    },
    {
     "name": "stdout",
     "output_type": "stream",
     "text": [
      "\u001b[36m(launch_and_fit pid=10992)\u001b[0m \tTrain Epoch: 1 \tTrain_loss: 0.5933 | Train_acc: 80.5556 % | Validation_loss: 1.1116 | Validation_acc: 67.4771 %\n",
      "\u001b[36m(launch_and_fit pid=10994)\u001b[0m Run WITHOUT homomorphic encryption\n",
      "\u001b[36m(launch_and_fit pid=10994)\u001b[0m  To get the checkpoint\n",
      "\u001b[36m(launch_and_fit pid=10994)\u001b[0m [Client 7, round 15] fit, config: {'learning_rate': 0.001, 'batch_size': '128', 'server_round': 15, 'local_epochs': 10}\n",
      "\u001b[36m(launch_and_fit pid=10994)\u001b[0m Updated model\n"
     ]
    },
    {
     "name": "stderr",
     "output_type": "stream",
     "text": [
      " 10%|\u001b[34m█         \u001b[0m| 1/10 [00:06<00:55,  6.20s/it]\n",
      "  0%|\u001b[34m          \u001b[0m| 0/10 [00:00<?, ?it/s]\n"
     ]
    },
    {
     "name": "stdout",
     "output_type": "stream",
     "text": [
      "\u001b[36m(launch_and_fit pid=10992)\u001b[0m \tTrain Epoch: 2 \tTrain_loss: 0.3062 | Train_acc: 91.1458 % | Validation_loss: 1.2903 | Validation_acc: 63.3486 %\u001b[32m [repeated 2x across cluster]\u001b[0m\n"
     ]
    },
    {
     "name": "stderr",
     "output_type": "stream",
     "text": [
      " 20%|\u001b[34m██        \u001b[0m| 2/10 [00:11<00:46,  5.86s/it]\u001b[32m [repeated 2x across cluster]\u001b[0m\n"
     ]
    },
    {
     "name": "stdout",
     "output_type": "stream",
     "text": [
      "\u001b[36m(launch_and_fit pid=10992)\u001b[0m \tTrain Epoch: 3 \tTrain_loss: 0.1965 | Train_acc: 94.7960 % | Validation_loss: 1.2632 | Validation_acc: 67.0865 %\u001b[32m [repeated 2x across cluster]\u001b[0m\n"
     ]
    },
    {
     "name": "stderr",
     "output_type": "stream",
     "text": [
      " 30%|\u001b[34m███       \u001b[0m| 3/10 [00:17<00:40,  5.77s/it]\u001b[32m [repeated 2x across cluster]\u001b[0m\n"
     ]
    },
    {
     "name": "stdout",
     "output_type": "stream",
     "text": [
      "\u001b[36m(launch_and_fit pid=10992)\u001b[0m \tTrain Epoch: 4 \tTrain_loss: 0.1347 | Train_acc: 97.0486 % | Validation_loss: 1.3991 | Validation_acc: 63.4294 %\u001b[32m [repeated 2x across cluster]\u001b[0m\n"
     ]
    },
    {
     "name": "stderr",
     "output_type": "stream",
     "text": [
      " 40%|\u001b[34m████      \u001b[0m| 4/10 [00:23<00:35,  5.88s/it]\u001b[32m [repeated 2x across cluster]\u001b[0m\n"
     ]
    },
    {
     "name": "stdout",
     "output_type": "stream",
     "text": [
      "\u001b[36m(launch_and_fit pid=10992)\u001b[0m \tTrain Epoch: 5 \tTrain_loss: 0.0898 | Train_acc: 98.4809 % | Validation_loss: 1.3353 | Validation_acc: 64.9380 %\u001b[32m [repeated 2x across cluster]\u001b[0m\n"
     ]
    },
    {
     "name": "stderr",
     "output_type": "stream",
     "text": [
      " 50%|\u001b[34m█████     \u001b[0m| 5/10 [00:29<00:28,  5.78s/it]\u001b[32m [repeated 2x across cluster]\u001b[0m\n"
     ]
    },
    {
     "name": "stdout",
     "output_type": "stream",
     "text": [
      "\u001b[36m(launch_and_fit pid=10992)\u001b[0m \tTrain Epoch: 6 \tTrain_loss: 0.0671 | Train_acc: 99.1233 % | Validation_loss: 1.4306 | Validation_acc: 64.2107 %\u001b[32m [repeated 2x across cluster]\u001b[0m\n"
     ]
    },
    {
     "name": "stderr",
     "output_type": "stream",
     "text": [
      " 60%|\u001b[34m██████    \u001b[0m| 6/10 [00:34<00:22,  5.71s/it]\u001b[32m [repeated 2x across cluster]\u001b[0m\n"
     ]
    },
    {
     "name": "stdout",
     "output_type": "stream",
     "text": [
      "\u001b[36m(launch_and_fit pid=10992)\u001b[0m \tTrain Epoch: 7 \tTrain_loss: 0.0668 | Train_acc: 99.1536 % | Validation_loss: 1.4682 | Validation_acc: 63.4900 %\u001b[32m [repeated 2x across cluster]\u001b[0m\n"
     ]
    },
    {
     "name": "stderr",
     "output_type": "stream",
     "text": [
      " 70%|\u001b[34m███████   \u001b[0m| 7/10 [00:40<00:17,  5.69s/it]\u001b[32m [repeated 2x across cluster]\u001b[0m\n"
     ]
    },
    {
     "name": "stdout",
     "output_type": "stream",
     "text": [
      "\u001b[36m(launch_and_fit pid=10992)\u001b[0m \tTrain Epoch: 8 \tTrain_loss: 0.0487 | Train_acc: 99.5226 % | Validation_loss: 1.4508 | Validation_acc: 65.0525 %\u001b[32m [repeated 2x across cluster]\u001b[0m\n"
     ]
    },
    {
     "name": "stderr",
     "output_type": "stream",
     "text": [
      " 80%|\u001b[34m████████  \u001b[0m| 8/10 [00:46<00:11,  5.72s/it]\u001b[32m [repeated 2x across cluster]\u001b[0m\n"
     ]
    },
    {
     "name": "stdout",
     "output_type": "stream",
     "text": [
      "\u001b[36m(launch_and_fit pid=10992)\u001b[0m \tTrain Epoch: 9 \tTrain_loss: 0.0368 | Train_acc: 99.7613 % | Validation_loss: 1.4149 | Validation_acc: 64.7764 %\u001b[32m [repeated 2x across cluster]\u001b[0m\n"
     ]
    },
    {
     "name": "stderr",
     "output_type": "stream",
     "text": [
      " 90%|\u001b[34m█████████ \u001b[0m| 9/10 [00:52<00:05,  5.77s/it]\u001b[32m [repeated 2x across cluster]\u001b[0m\n"
     ]
    },
    {
     "name": "stdout",
     "output_type": "stream",
     "text": [
      "\u001b[36m(launch_and_fit pid=10992)\u001b[0m save graph in  results/FL/\n",
      "\u001b[36m(launch_and_fit pid=10992)\u001b[0m \tTrain Epoch: 10 \tTrain_loss: 0.0313 | Train_acc: 99.8698 % | Validation_loss: 1.4587 | Validation_acc: 65.2276 %\u001b[32m [repeated 2x across cluster]\u001b[0m\n"
     ]
    },
    {
     "name": "stderr",
     "output_type": "stream",
     "text": [
      "100%|\u001b[34m██████████\u001b[0m| 10/10 [00:57<00:00,  5.77s/it]\u001b[32m [repeated 2x across cluster]\u001b[0m\n"
     ]
    },
    {
     "name": "stdout",
     "output_type": "stream",
     "text": [
      "\u001b[36m(launch_and_fit pid=11068)\u001b[0m Run WITHOUT homomorphic encryption\n",
      "\u001b[36m(launch_and_fit pid=11068)\u001b[0m  To get the checkpoint\n",
      "\u001b[36m(launch_and_fit pid=10994)\u001b[0m save graph in  results/FL/\n",
      "\u001b[36m(launch_and_fit pid=10994)\u001b[0m \tTrain Epoch: 10 \tTrain_loss: 0.0538 | Train_acc: 99.2622 % | Validation_loss: 1.0948 | Validation_acc: 70.5078 %\n",
      "\u001b[36m(launch_and_fit pid=11068)\u001b[0m [Client 8, round 15] fit, config: {'learning_rate': 0.001, 'batch_size': '128', 'server_round': 15, 'local_epochs': 10}\n",
      "\u001b[36m(launch_and_fit pid=11068)\u001b[0m Updated model\n"
     ]
    },
    {
     "name": "stderr",
     "output_type": "stream",
     "text": [
      "  0%|\u001b[34m          \u001b[0m| 0/10 [00:00<?, ?it/s]\n",
      "100%|\u001b[34m██████████\u001b[0m| 10/10 [00:58<00:00,  5.83s/it]\n"
     ]
    },
    {
     "name": "stdout",
     "output_type": "stream",
     "text": [
      "\u001b[36m(launch_and_fit pid=11068)\u001b[0m \tTrain Epoch: 1 \tTrain_loss: 0.6663 | Train_acc: 78.9844 % | Validation_loss: 1.2354 | Validation_acc: 63.5911 %\n",
      "\u001b[36m(launch_and_fit pid=11092)\u001b[0m Run WITHOUT homomorphic encryption\n",
      "\u001b[36m(launch_and_fit pid=11092)\u001b[0m  To get the checkpoint\n",
      "\u001b[36m(launch_and_fit pid=11092)\u001b[0m [Client 2, round 15] fit, config: {'learning_rate': 0.001, 'batch_size': '128', 'server_round': 15, 'local_epochs': 10}\n",
      "\u001b[36m(launch_and_fit pid=11092)\u001b[0m Updated model\n"
     ]
    },
    {
     "name": "stderr",
     "output_type": "stream",
     "text": [
      " 10%|\u001b[34m█         \u001b[0m| 1/10 [00:06<00:56,  6.26s/it]\n",
      "  0%|\u001b[34m          \u001b[0m| 0/10 [00:00<?, ?it/s]\n"
     ]
    },
    {
     "name": "stdout",
     "output_type": "stream",
     "text": [
      "\u001b[36m(launch_and_fit pid=11068)\u001b[0m \tTrain Epoch: 2 \tTrain_loss: 0.3614 | Train_acc: 88.6675 % | Validation_loss: 1.2549 | Validation_acc: 62.3182 %\u001b[32m [repeated 2x across cluster]\u001b[0m\n"
     ]
    },
    {
     "name": "stderr",
     "output_type": "stream",
     "text": [
      " 20%|\u001b[34m██        \u001b[0m| 2/10 [00:12<00:48,  6.02s/it]\u001b[32m [repeated 2x across cluster]\u001b[0m\n"
     ]
    },
    {
     "name": "stdout",
     "output_type": "stream",
     "text": [
      "\u001b[36m(launch_and_fit pid=11068)\u001b[0m \tTrain Epoch: 3 \tTrain_loss: 0.2228 | Train_acc: 93.7196 % | Validation_loss: 1.2948 | Validation_acc: 64.5474 %\u001b[32m [repeated 2x across cluster]\u001b[0m\n"
     ]
    },
    {
     "name": "stderr",
     "output_type": "stream",
     "text": [
      " 30%|\u001b[34m███       \u001b[0m| 3/10 [00:18<00:42,  6.01s/it]\u001b[32m [repeated 2x across cluster]\u001b[0m\n"
     ]
    },
    {
     "name": "stdout",
     "output_type": "stream",
     "text": [
      "\u001b[36m(launch_and_fit pid=11068)\u001b[0m \tTrain Epoch: 4 \tTrain_loss: 0.1587 | Train_acc: 95.9549 % | Validation_loss: 1.3618 | Validation_acc: 65.5240 %\u001b[32m [repeated 2x across cluster]\u001b[0m\n"
     ]
    },
    {
     "name": "stderr",
     "output_type": "stream",
     "text": [
      " 40%|\u001b[34m████      \u001b[0m| 4/10 [00:23<00:35,  5.86s/it]\u001b[32m [repeated 2x across cluster]\u001b[0m\n"
     ]
    },
    {
     "name": "stdout",
     "output_type": "stream",
     "text": [
      "\u001b[36m(launch_and_fit pid=11068)\u001b[0m \tTrain Epoch: 5 \tTrain_loss: 0.1286 | Train_acc: 97.1484 % | Validation_loss: 1.3742 | Validation_acc: 65.2478 %\u001b[32m [repeated 2x across cluster]\u001b[0m\n"
     ]
    },
    {
     "name": "stderr",
     "output_type": "stream",
     "text": [
      " 50%|\u001b[34m█████     \u001b[0m| 5/10 [00:29<00:28,  5.78s/it]\u001b[32m [repeated 2x across cluster]\u001b[0m\n"
     ]
    },
    {
     "name": "stdout",
     "output_type": "stream",
     "text": [
      "\u001b[36m(launch_and_fit pid=11068)\u001b[0m \tTrain Epoch: 6 \tTrain_loss: 0.0945 | Train_acc: 98.2639 % | Validation_loss: 1.3570 | Validation_acc: 64.3117 %\u001b[32m [repeated 2x across cluster]\u001b[0m\n"
     ]
    },
    {
     "name": "stderr",
     "output_type": "stream",
     "text": [
      " 60%|\u001b[34m██████    \u001b[0m| 6/10 [00:35<00:23,  5.86s/it]\u001b[32m [repeated 2x across cluster]\u001b[0m\n"
     ]
    },
    {
     "name": "stdout",
     "output_type": "stream",
     "text": [
      "\u001b[36m(launch_and_fit pid=11068)\u001b[0m \tTrain Epoch: 7 \tTrain_loss: 0.0766 | Train_acc: 98.8498 % | Validation_loss: 1.3977 | Validation_acc: 65.4634 %\u001b[32m [repeated 2x across cluster]\u001b[0m\n"
     ]
    },
    {
     "name": "stderr",
     "output_type": "stream",
     "text": [
      " 70%|\u001b[34m███████   \u001b[0m| 7/10 [00:41<00:17,  5.79s/it]\u001b[32m [repeated 2x across cluster]\u001b[0m\n"
     ]
    },
    {
     "name": "stdout",
     "output_type": "stream",
     "text": [
      "\u001b[36m(launch_and_fit pid=11068)\u001b[0m \tTrain Epoch: 8 \tTrain_loss: 0.0550 | Train_acc: 99.5009 % | Validation_loss: 1.4067 | Validation_acc: 63.9009 %\u001b[32m [repeated 2x across cluster]\u001b[0m\n"
     ]
    },
    {
     "name": "stderr",
     "output_type": "stream",
     "text": [
      " 80%|\u001b[34m████████  \u001b[0m| 8/10 [00:47<00:11,  5.88s/it]\u001b[32m [repeated 2x across cluster]\u001b[0m\n"
     ]
    },
    {
     "name": "stdout",
     "output_type": "stream",
     "text": [
      "\u001b[36m(launch_and_fit pid=11068)\u001b[0m \tTrain Epoch: 9 \tTrain_loss: 0.0391 | Train_acc: 99.6962 % | Validation_loss: 1.4643 | Validation_acc: 63.6853 %\u001b[32m [repeated 2x across cluster]\u001b[0m\n"
     ]
    },
    {
     "name": "stderr",
     "output_type": "stream",
     "text": [
      " 90%|\u001b[34m█████████ \u001b[0m| 9/10 [00:52<00:05,  5.79s/it]\u001b[32m [repeated 2x across cluster]\u001b[0m\n"
     ]
    },
    {
     "name": "stdout",
     "output_type": "stream",
     "text": [
      "\u001b[36m(launch_and_fit pid=11068)\u001b[0m save graph in  results/FL/\n",
      "\u001b[36m(launch_and_fit pid=11068)\u001b[0m \tTrain Epoch: 10 \tTrain_loss: 0.0342 | Train_acc: 99.8481 % | Validation_loss: 1.4208 | Validation_acc: 64.0760 %\u001b[32m [repeated 2x across cluster]\u001b[0m\n"
     ]
    },
    {
     "name": "stderr",
     "output_type": "stream",
     "text": [
      "100%|\u001b[34m██████████\u001b[0m| 10/10 [00:58<00:00,  5.85s/it]\u001b[32m [repeated 2x across cluster]\u001b[0m\n",
      "DEBUG flwr 2024-07-20 20:08:57,574 | server.py:236 | fit_round 15 received 10 results and 0 failures\n"
     ]
    },
    {
     "name": "stdout",
     "output_type": "stream",
     "text": [
      "Saving round 15 aggregated_parameters...\n",
      "Updated model\n"
     ]
    },
    {
     "name": "stderr",
     "output_type": "stream",
     "text": [
      "INFO flwr 2024-07-20 20:09:03,265 | server.py:125 | fit progress: (15, 1.158285058751891, {'accuracy': 70.70806962025317}, 6737.954847595)\n",
      "DEBUG flwr 2024-07-20 20:09:03,266 | server.py:173 | evaluate_round 15: strategy sampled 10 clients (out of 10)\n"
     ]
    },
    {
     "name": "stdout",
     "output_type": "stream",
     "text": [
      "Server-side evaluation loss 1.158285058751891 / accuracy 70.70806962025317\n",
      "\u001b[36m(launch_and_evaluate pid=11150)\u001b[0m Run WITHOUT homomorphic encryption\n",
      "\u001b[36m(launch_and_evaluate pid=11150)\u001b[0m  To get the checkpoint\n",
      "\u001b[36m(launch_and_fit pid=11092)\u001b[0m save graph in  results/FL/\n",
      "\u001b[36m(launch_and_fit pid=11092)\u001b[0m \tTrain Epoch: 10 \tTrain_loss: 0.0328 | Train_acc: 99.8264 % | Validation_loss: 1.3329 | Validation_acc: 65.6317 %\n",
      "\u001b[36m(launch_and_evaluate pid=11150)\u001b[0m [Client 9] evaluate, config: {}\n",
      "\u001b[36m(launch_and_evaluate pid=11150)\u001b[0m Updated model\n",
      "\u001b[36m(launch_and_evaluate pid=11221)\u001b[0m Run WITHOUT homomorphic encryption\u001b[32m [repeated 2x across cluster]\u001b[0m\n",
      "\u001b[36m(launch_and_evaluate pid=11221)\u001b[0m  To get the checkpoint\u001b[32m [repeated 2x across cluster]\u001b[0m\n",
      "\u001b[36m(launch_and_evaluate pid=11151)\u001b[0m [Client 5] evaluate, config: {}\n",
      "\u001b[36m(launch_and_evaluate pid=11151)\u001b[0m Updated model\n",
      "\u001b[36m(launch_and_evaluate pid=11221)\u001b[0m [Client 3] evaluate, config: {}\n",
      "\u001b[36m(launch_and_evaluate pid=11221)\u001b[0m Updated model\n",
      "\u001b[36m(launch_and_evaluate pid=11293)\u001b[0m Run WITHOUT homomorphic encryption\u001b[32m [repeated 2x across cluster]\u001b[0m\n",
      "\u001b[36m(launch_and_evaluate pid=11293)\u001b[0m  To get the checkpoint\u001b[32m [repeated 2x across cluster]\u001b[0m\n",
      "\u001b[36m(launch_and_evaluate pid=11223)\u001b[0m [Client 4] evaluate, config: {}\n",
      "\u001b[36m(launch_and_evaluate pid=11223)\u001b[0m Updated model\n",
      "\u001b[36m(launch_and_evaluate pid=11293)\u001b[0m [Client 6] evaluate, config: {}\n",
      "\u001b[36m(launch_and_evaluate pid=11293)\u001b[0m Updated model\n",
      "\u001b[36m(launch_and_evaluate pid=11361)\u001b[0m Run WITHOUT homomorphic encryption\u001b[32m [repeated 2x across cluster]\u001b[0m\n",
      "\u001b[36m(launch_and_evaluate pid=11361)\u001b[0m  To get the checkpoint\u001b[32m [repeated 2x across cluster]\u001b[0m\n",
      "\u001b[36m(launch_and_evaluate pid=11291)\u001b[0m [Client 7] evaluate, config: {}\n",
      "\u001b[36m(launch_and_evaluate pid=11291)\u001b[0m Updated model\n",
      "\u001b[36m(launch_and_evaluate pid=11361)\u001b[0m [Client 0] evaluate, config: {}\n",
      "\u001b[36m(launch_and_evaluate pid=11361)\u001b[0m Updated model\n",
      "\u001b[36m(launch_and_evaluate pid=11431)\u001b[0m Run WITHOUT homomorphic encryption\u001b[32m [repeated 2x across cluster]\u001b[0m\n",
      "\u001b[36m(launch_and_evaluate pid=11431)\u001b[0m  To get the checkpoint\u001b[32m [repeated 2x across cluster]\u001b[0m\n",
      "\u001b[36m(launch_and_evaluate pid=11363)\u001b[0m [Client 2] evaluate, config: {}\n",
      "\u001b[36m(launch_and_evaluate pid=11363)\u001b[0m Updated model\n",
      "\u001b[36m(launch_and_evaluate pid=11431)\u001b[0m [Client 1] evaluate, config: {}\n",
      "\u001b[36m(launch_and_evaluate pid=11431)\u001b[0m Updated model\n"
     ]
    },
    {
     "name": "stderr",
     "output_type": "stream",
     "text": [
      "DEBUG flwr 2024-07-20 20:10:18,911 | server.py:187 | evaluate_round 15 received 10 results and 0 failures\n",
      "DEBUG flwr 2024-07-20 20:10:18,912 | server.py:222 | fit_round 16: strategy sampled 10 clients (out of 10)\n"
     ]
    },
    {
     "name": "stdout",
     "output_type": "stream",
     "text": [
      "\u001b[36m(launch_and_fit pid=11510)\u001b[0m Run WITHOUT homomorphic encryption\u001b[32m [repeated 2x across cluster]\u001b[0m\n",
      "\u001b[36m(launch_and_fit pid=11510)\u001b[0m  To get the checkpoint\u001b[32m [repeated 2x across cluster]\u001b[0m\n",
      "\u001b[36m(launch_and_evaluate pid=11433)\u001b[0m [Client 8] evaluate, config: {}\n",
      "\u001b[36m(launch_and_evaluate pid=11433)\u001b[0m Updated model\n"
     ]
    },
    {
     "name": "stderr",
     "output_type": "stream",
     "text": [
      "  0%|\u001b[34m          \u001b[0m| 0/10 [00:00<?, ?it/s]\n",
      "100%|\u001b[34m██████████\u001b[0m| 10/10 [00:59<00:00,  5.92s/it]\n"
     ]
    },
    {
     "name": "stdout",
     "output_type": "stream",
     "text": [
      "\u001b[36m(launch_and_fit pid=11510)\u001b[0m [Client 2, round 16] fit, config: {'learning_rate': 0.001, 'batch_size': '128', 'server_round': 16, 'local_epochs': 10}\n",
      "\u001b[36m(launch_and_fit pid=11510)\u001b[0m Updated model\n"
     ]
    },
    {
     "name": "stderr",
     "output_type": "stream",
     "text": [
      " 10%|\u001b[34m█         \u001b[0m| 1/10 [00:06<00:55,  6.19s/it]\n",
      "  0%|\u001b[34m          \u001b[0m| 0/10 [00:00<?, ?it/s]\n"
     ]
    },
    {
     "name": "stdout",
     "output_type": "stream",
     "text": [
      "\u001b[36m(launch_and_fit pid=11511)\u001b[0m \tTrain Epoch: 1 \tTrain_loss: 0.4980 | Train_acc: 84.6224 % | Validation_loss: 0.9929 | Validation_acc: 72.2454 %\n",
      "\u001b[36m(launch_and_fit pid=11511)\u001b[0m Run WITHOUT homomorphic encryption\n",
      "\u001b[36m(launch_and_fit pid=11511)\u001b[0m  To get the checkpoint\n",
      "\u001b[36m(launch_and_fit pid=11511)\u001b[0m [Client 7, round 16] fit, config: {'learning_rate': 0.001, 'batch_size': '128', 'server_round': 16, 'local_epochs': 10}\n",
      "\u001b[36m(launch_and_fit pid=11511)\u001b[0m Updated model\n"
     ]
    },
    {
     "name": "stderr",
     "output_type": "stream",
     "text": [
      " 20%|\u001b[34m██        \u001b[0m| 2/10 [00:11<00:47,  5.95s/it]\u001b[32m [repeated 2x across cluster]\u001b[0m\n"
     ]
    },
    {
     "name": "stdout",
     "output_type": "stream",
     "text": [
      "\u001b[36m(launch_and_fit pid=11511)\u001b[0m \tTrain Epoch: 2 \tTrain_loss: 0.2284 | Train_acc: 93.2726 % | Validation_loss: 1.0188 | Validation_acc: 71.9154 %\u001b[32m [repeated 2x across cluster]\u001b[0m\n"
     ]
    },
    {
     "name": "stderr",
     "output_type": "stream",
     "text": [
      " 30%|\u001b[34m███       \u001b[0m| 3/10 [00:17<00:41,  5.92s/it]\u001b[32m [repeated 2x across cluster]\u001b[0m\n"
     ]
    },
    {
     "name": "stdout",
     "output_type": "stream",
     "text": [
      "\u001b[36m(launch_and_fit pid=11511)\u001b[0m \tTrain Epoch: 3 \tTrain_loss: 0.1616 | Train_acc: 95.5425 % | Validation_loss: 1.1703 | Validation_acc: 70.3529 %\u001b[32m [repeated 2x across cluster]\u001b[0m\n"
     ]
    },
    {
     "name": "stderr",
     "output_type": "stream",
     "text": [
      " 40%|\u001b[34m████      \u001b[0m| 4/10 [00:23<00:34,  5.82s/it]\u001b[32m [repeated 2x across cluster]\u001b[0m\n"
     ]
    },
    {
     "name": "stdout",
     "output_type": "stream",
     "text": [
      "\u001b[36m(launch_and_fit pid=11511)\u001b[0m \tTrain Epoch: 4 \tTrain_loss: 0.1301 | Train_acc: 96.7144 % | Validation_loss: 1.1491 | Validation_acc: 71.3295 %\u001b[32m [repeated 2x across cluster]\u001b[0m\n"
     ]
    },
    {
     "name": "stderr",
     "output_type": "stream",
     "text": [
      " 50%|\u001b[34m█████     \u001b[0m| 5/10 [00:29<00:28,  5.71s/it]\u001b[32m [repeated 2x across cluster]\u001b[0m\n"
     ]
    },
    {
     "name": "stdout",
     "output_type": "stream",
     "text": [
      "\u001b[36m(launch_and_fit pid=11511)\u001b[0m \tTrain Epoch: 5 \tTrain_loss: 0.1155 | Train_acc: 97.0182 % | Validation_loss: 1.1847 | Validation_acc: 69.5110 %\u001b[32m [repeated 2x across cluster]\u001b[0m\n"
     ]
    },
    {
     "name": "stderr",
     "output_type": "stream",
     "text": [
      " 60%|\u001b[34m██████    \u001b[0m| 6/10 [00:35<00:23,  5.81s/it]\u001b[32m [repeated 2x across cluster]\u001b[0m\n"
     ]
    },
    {
     "name": "stdout",
     "output_type": "stream",
     "text": [
      "\u001b[36m(launch_and_fit pid=11511)\u001b[0m \tTrain Epoch: 6 \tTrain_loss: 0.1129 | Train_acc: 97.2222 % | Validation_loss: 1.1698 | Validation_acc: 72.3869 %\u001b[32m [repeated 2x across cluster]\u001b[0m\n"
     ]
    },
    {
     "name": "stderr",
     "output_type": "stream",
     "text": [
      " 70%|\u001b[34m███████   \u001b[0m| 7/10 [00:41<00:17,  5.89s/it]\u001b[32m [repeated 2x across cluster]\u001b[0m\n"
     ]
    },
    {
     "name": "stdout",
     "output_type": "stream",
     "text": [
      "\u001b[36m(launch_and_fit pid=11511)\u001b[0m \tTrain Epoch: 7 \tTrain_loss: 0.0877 | Train_acc: 98.1120 % | Validation_loss: 1.1561 | Validation_acc: 72.7169 %\u001b[32m [repeated 2x across cluster]\u001b[0m\n"
     ]
    },
    {
     "name": "stderr",
     "output_type": "stream",
     "text": [
      " 80%|\u001b[34m████████  \u001b[0m| 8/10 [00:46<00:11,  5.83s/it]\u001b[32m [repeated 2x across cluster]\u001b[0m\n"
     ]
    },
    {
     "name": "stdout",
     "output_type": "stream",
     "text": [
      "\u001b[36m(launch_and_fit pid=11511)\u001b[0m \tTrain Epoch: 8 \tTrain_loss: 0.0669 | Train_acc: 98.8064 % | Validation_loss: 1.0933 | Validation_acc: 70.9186 %\u001b[32m [repeated 2x across cluster]\u001b[0m\n"
     ]
    },
    {
     "name": "stderr",
     "output_type": "stream",
     "text": [
      " 90%|\u001b[34m█████████ \u001b[0m| 9/10 [00:52<00:05,  5.83s/it]\u001b[32m [repeated 2x across cluster]\u001b[0m\n"
     ]
    },
    {
     "name": "stdout",
     "output_type": "stream",
     "text": [
      "\u001b[36m(launch_and_fit pid=11511)\u001b[0m \tTrain Epoch: 9 \tTrain_loss: 0.0408 | Train_acc: 99.5660 % | Validation_loss: 1.1667 | Validation_acc: 70.2519 %\u001b[32m [repeated 2x across cluster]\u001b[0m\n"
     ]
    },
    {
     "name": "stderr",
     "output_type": "stream",
     "text": [
      "100%|\u001b[34m██████████\u001b[0m| 10/10 [00:58<00:00,  5.82s/it]\u001b[32m [repeated 2x across cluster]\u001b[0m\n"
     ]
    },
    {
     "name": "stdout",
     "output_type": "stream",
     "text": [
      "\u001b[36m(launch_and_fit pid=11511)\u001b[0m save graph in  results/FL/\n",
      "\u001b[36m(launch_and_fit pid=11511)\u001b[0m \tTrain Epoch: 10 \tTrain_loss: 0.0287 | Train_acc: 99.7396 % | Validation_loss: 1.1874 | Validation_acc: 71.7201 %\u001b[32m [repeated 2x across cluster]\u001b[0m\n",
      "\u001b[36m(launch_and_fit pid=11585)\u001b[0m Run WITHOUT homomorphic encryption\n",
      "\u001b[36m(launch_and_fit pid=11585)\u001b[0m  To get the checkpoint\n",
      "\u001b[36m(launch_and_fit pid=11510)\u001b[0m save graph in  results/FL/\n",
      "\u001b[36m(launch_and_fit pid=11510)\u001b[0m \tTrain Epoch: 10 \tTrain_loss: 0.0305 | Train_acc: 99.6962 % | Validation_loss: 1.3337 | Validation_acc: 67.4300 %\n"
     ]
    },
    {
     "name": "stderr",
     "output_type": "stream",
     "text": [
      "  0%|\u001b[34m          \u001b[0m| 0/10 [00:00<?, ?it/s]\n",
      "100%|\u001b[34m██████████\u001b[0m| 10/10 [00:59<00:00,  5.97s/it]\n"
     ]
    },
    {
     "name": "stdout",
     "output_type": "stream",
     "text": [
      "\u001b[36m(launch_and_fit pid=11585)\u001b[0m [Client 1, round 16] fit, config: {'learning_rate': 0.001, 'batch_size': '128', 'server_round': 16, 'local_epochs': 10}\n",
      "\u001b[36m(launch_and_fit pid=11585)\u001b[0m Updated model\n"
     ]
    },
    {
     "name": "stderr",
     "output_type": "stream",
     "text": [
      " 10%|\u001b[34m█         \u001b[0m| 1/10 [00:06<00:59,  6.59s/it]\n",
      "  0%|\u001b[34m          \u001b[0m| 0/10 [00:00<?, ?it/s]\n"
     ]
    },
    {
     "name": "stdout",
     "output_type": "stream",
     "text": [
      "\u001b[36m(launch_and_fit pid=11585)\u001b[0m \tTrain Epoch: 1 \tTrain_loss: 0.5118 | Train_acc: 83.6632 % | Validation_loss: 1.1109 | Validation_acc: 69.3157 %\n",
      "\u001b[36m(launch_and_fit pid=11610)\u001b[0m Run WITHOUT homomorphic encryption\n",
      "\u001b[36m(launch_and_fit pid=11610)\u001b[0m  To get the checkpoint\n",
      "\u001b[36m(launch_and_fit pid=11610)\u001b[0m [Client 5, round 16] fit, config: {'learning_rate': 0.001, 'batch_size': '128', 'server_round': 16, 'local_epochs': 10}\n",
      "\u001b[36m(launch_and_fit pid=11610)\u001b[0m Updated model\n"
     ]
    },
    {
     "name": "stderr",
     "output_type": "stream",
     "text": [
      " 20%|\u001b[34m██        \u001b[0m| 2/10 [00:12<00:48,  6.09s/it]\u001b[32m [repeated 2x across cluster]\u001b[0m\n"
     ]
    },
    {
     "name": "stdout",
     "output_type": "stream",
     "text": [
      "\u001b[36m(launch_and_fit pid=11585)\u001b[0m \tTrain Epoch: 2 \tTrain_loss: 0.2722 | Train_acc: 91.4236 % | Validation_loss: 1.1882 | Validation_acc: 66.9518 %\u001b[32m [repeated 2x across cluster]\u001b[0m\n"
     ]
    },
    {
     "name": "stderr",
     "output_type": "stream",
     "text": [
      " 30%|\u001b[34m███       \u001b[0m| 3/10 [00:18<00:41,  5.93s/it]\u001b[32m [repeated 2x across cluster]\u001b[0m\n"
     ]
    },
    {
     "name": "stdout",
     "output_type": "stream",
     "text": [
      "\u001b[36m(launch_and_fit pid=11585)\u001b[0m \tTrain Epoch: 3 \tTrain_loss: 0.1951 | Train_acc: 94.6745 % | Validation_loss: 1.2256 | Validation_acc: 67.9890 %\u001b[32m [repeated 2x across cluster]\u001b[0m\n"
     ]
    },
    {
     "name": "stderr",
     "output_type": "stream",
     "text": [
      " 40%|\u001b[34m████      \u001b[0m| 4/10 [00:23<00:34,  5.83s/it]\u001b[32m [repeated 2x across cluster]\u001b[0m\n"
     ]
    },
    {
     "name": "stdout",
     "output_type": "stream",
     "text": [
      "\u001b[36m(launch_and_fit pid=11585)\u001b[0m \tTrain Epoch: 4 \tTrain_loss: 0.1418 | Train_acc: 96.1198 % | Validation_loss: 1.2589 | Validation_acc: 70.0364 %\u001b[32m [repeated 2x across cluster]\u001b[0m\n"
     ]
    },
    {
     "name": "stderr",
     "output_type": "stream",
     "text": [
      " 50%|\u001b[34m█████     \u001b[0m| 5/10 [00:29<00:28,  5.76s/it]\u001b[32m [repeated 2x across cluster]\u001b[0m\n"
     ]
    },
    {
     "name": "stdout",
     "output_type": "stream",
     "text": [
      "\u001b[36m(launch_and_fit pid=11585)\u001b[0m \tTrain Epoch: 5 \tTrain_loss: 0.1190 | Train_acc: 97.0833 % | Validation_loss: 1.3204 | Validation_acc: 65.7597 %\u001b[32m [repeated 2x across cluster]\u001b[0m\n"
     ]
    },
    {
     "name": "stderr",
     "output_type": "stream",
     "text": [
      " 60%|\u001b[34m██████    \u001b[0m| 6/10 [00:35<00:23,  5.93s/it]\u001b[32m [repeated 2x across cluster]\u001b[0m\n"
     ]
    },
    {
     "name": "stdout",
     "output_type": "stream",
     "text": [
      "\u001b[36m(launch_and_fit pid=11585)\u001b[0m \tTrain Epoch: 6 \tTrain_loss: 0.0752 | Train_acc: 98.5894 % | Validation_loss: 1.3175 | Validation_acc: 68.9049 %\u001b[32m [repeated 2x across cluster]\u001b[0m\n"
     ]
    },
    {
     "name": "stderr",
     "output_type": "stream",
     "text": [
      " 70%|\u001b[34m███████   \u001b[0m| 7/10 [00:41<00:17,  5.89s/it]\u001b[32m [repeated 2x across cluster]\u001b[0m\n"
     ]
    },
    {
     "name": "stdout",
     "output_type": "stream",
     "text": [
      "\u001b[36m(launch_and_fit pid=11585)\u001b[0m \tTrain Epoch: 7 \tTrain_loss: 0.0523 | Train_acc: 99.2405 % | Validation_loss: 1.2829 | Validation_acc: 70.4876 %\u001b[32m [repeated 2x across cluster]\u001b[0m\n"
     ]
    },
    {
     "name": "stderr",
     "output_type": "stream",
     "text": [
      " 80%|\u001b[34m████████  \u001b[0m| 8/10 [00:47<00:11,  5.86s/it]\u001b[32m [repeated 2x across cluster]\u001b[0m\n"
     ]
    },
    {
     "name": "stdout",
     "output_type": "stream",
     "text": [
      "\u001b[36m(launch_and_fit pid=11585)\u001b[0m \tTrain Epoch: 8 \tTrain_loss: 0.0400 | Train_acc: 99.5443 % | Validation_loss: 1.2729 | Validation_acc: 69.7468 %\u001b[32m [repeated 2x across cluster]\u001b[0m\n"
     ]
    },
    {
     "name": "stderr",
     "output_type": "stream",
     "text": [
      " 90%|\u001b[34m█████████ \u001b[0m| 9/10 [00:53<00:05,  5.87s/it]\u001b[32m [repeated 2x across cluster]\u001b[0m\n"
     ]
    },
    {
     "name": "stdout",
     "output_type": "stream",
     "text": [
      "\u001b[36m(launch_and_fit pid=11585)\u001b[0m \tTrain Epoch: 9 \tTrain_loss: 0.0298 | Train_acc: 99.7613 % | Validation_loss: 1.3192 | Validation_acc: 68.5143 %\u001b[32m [repeated 2x across cluster]\u001b[0m\n"
     ]
    },
    {
     "name": "stderr",
     "output_type": "stream",
     "text": [
      "100%|\u001b[34m██████████\u001b[0m| 10/10 [00:58<00:00,  5.89s/it]\u001b[32m [repeated 2x across cluster]\u001b[0m\n"
     ]
    },
    {
     "name": "stdout",
     "output_type": "stream",
     "text": [
      "\u001b[36m(launch_and_fit pid=11585)\u001b[0m save graph in  results/FL/\n",
      "\u001b[36m(launch_and_fit pid=11585)\u001b[0m \tTrain Epoch: 10 \tTrain_loss: 0.0227 | Train_acc: 99.9349 % | Validation_loss: 1.3041 | Validation_acc: 69.5110 %\u001b[32m [repeated 2x across cluster]\u001b[0m\n",
      "\u001b[36m(launch_and_fit pid=11660)\u001b[0m Run WITHOUT homomorphic encryption\n",
      "\u001b[36m(launch_and_fit pid=11660)\u001b[0m  To get the checkpoint\n",
      "\u001b[36m(launch_and_fit pid=11610)\u001b[0m save graph in  results/FL/\n",
      "\u001b[36m(launch_and_fit pid=11610)\u001b[0m \tTrain Epoch: 10 \tTrain_loss: 0.0273 | Train_acc: 99.7830 % | Validation_loss: 1.3009 | Validation_acc: 68.1573 %\n"
     ]
    },
    {
     "name": "stderr",
     "output_type": "stream",
     "text": [
      "  0%|\u001b[34m          \u001b[0m| 0/10 [00:00<?, ?it/s]\n",
      "100%|\u001b[34m██████████\u001b[0m| 10/10 [00:59<00:00,  5.94s/it]\n"
     ]
    },
    {
     "name": "stdout",
     "output_type": "stream",
     "text": [
      "\u001b[36m(launch_and_fit pid=11660)\u001b[0m [Client 6, round 16] fit, config: {'learning_rate': 0.001, 'batch_size': '128', 'server_round': 16, 'local_epochs': 10}\n",
      "\u001b[36m(launch_and_fit pid=11660)\u001b[0m Updated model\n"
     ]
    },
    {
     "name": "stderr",
     "output_type": "stream",
     "text": [
      " 10%|\u001b[34m█         \u001b[0m| 1/10 [00:06<00:57,  6.41s/it]\n",
      "  0%|\u001b[34m          \u001b[0m| 0/10 [00:00<?, ?it/s]\n"
     ]
    },
    {
     "name": "stdout",
     "output_type": "stream",
     "text": [
      "\u001b[36m(launch_and_fit pid=11660)\u001b[0m \tTrain Epoch: 1 \tTrain_loss: 0.5737 | Train_acc: 81.6797 % | Validation_loss: 1.3367 | Validation_acc: 61.6110 %\n",
      "\u001b[36m(launch_and_fit pid=11685)\u001b[0m Run WITHOUT homomorphic encryption\n",
      "\u001b[36m(launch_and_fit pid=11685)\u001b[0m  To get the checkpoint\n",
      "\u001b[36m(launch_and_fit pid=11685)\u001b[0m [Client 9, round 16] fit, config: {'learning_rate': 0.001, 'batch_size': '128', 'server_round': 16, 'local_epochs': 10}\n",
      "\u001b[36m(launch_and_fit pid=11685)\u001b[0m Updated model\n"
     ]
    },
    {
     "name": "stderr",
     "output_type": "stream",
     "text": [
      " 20%|\u001b[34m██        \u001b[0m| 2/10 [00:12<00:48,  6.11s/it]\u001b[32m [repeated 2x across cluster]\u001b[0m\n"
     ]
    },
    {
     "name": "stdout",
     "output_type": "stream",
     "text": [
      "\u001b[36m(launch_and_fit pid=11660)\u001b[0m \tTrain Epoch: 2 \tTrain_loss: 0.3026 | Train_acc: 90.7031 % | Validation_loss: 1.2281 | Validation_acc: 66.0897 %\u001b[32m [repeated 2x across cluster]\u001b[0m\n"
     ]
    },
    {
     "name": "stderr",
     "output_type": "stream",
     "text": [
      " 30%|\u001b[34m███       \u001b[0m| 3/10 [00:18<00:42,  6.05s/it]\u001b[32m [repeated 2x across cluster]\u001b[0m\n"
     ]
    },
    {
     "name": "stdout",
     "output_type": "stream",
     "text": [
      "\u001b[36m(launch_and_fit pid=11660)\u001b[0m \tTrain Epoch: 3 \tTrain_loss: 0.1808 | Train_acc: 94.4618 % | Validation_loss: 1.3075 | Validation_acc: 65.6587 %\u001b[32m [repeated 2x across cluster]\u001b[0m\n"
     ]
    },
    {
     "name": "stderr",
     "output_type": "stream",
     "text": [
      " 40%|\u001b[34m████      \u001b[0m| 4/10 [00:24<00:36,  6.05s/it]\u001b[32m [repeated 2x across cluster]\u001b[0m\n"
     ]
    },
    {
     "name": "stdout",
     "output_type": "stream",
     "text": [
      "\u001b[36m(launch_and_fit pid=11660)\u001b[0m \tTrain Epoch: 4 \tTrain_loss: 0.1313 | Train_acc: 96.9835 % | Validation_loss: 1.4087 | Validation_acc: 65.4432 %\u001b[32m [repeated 2x across cluster]\u001b[0m\n"
     ]
    },
    {
     "name": "stderr",
     "output_type": "stream",
     "text": [
      " 50%|\u001b[34m█████     \u001b[0m| 5/10 [00:30<00:29,  5.91s/it]\u001b[32m [repeated 2x across cluster]\u001b[0m\n"
     ]
    },
    {
     "name": "stdout",
     "output_type": "stream",
     "text": [
      "\u001b[36m(launch_and_fit pid=11660)\u001b[0m \tTrain Epoch: 5 \tTrain_loss: 0.0820 | Train_acc: 98.4505 % | Validation_loss: 1.4330 | Validation_acc: 64.4060 %\u001b[32m [repeated 2x across cluster]\u001b[0m\n"
     ]
    },
    {
     "name": "stderr",
     "output_type": "stream",
     "text": [
      " 60%|\u001b[34m██████    \u001b[0m| 6/10 [00:35<00:23,  5.90s/it]\u001b[32m [repeated 2x across cluster]\u001b[0m\n"
     ]
    },
    {
     "name": "stdout",
     "output_type": "stream",
     "text": [
      "\u001b[36m(launch_and_fit pid=11660)\u001b[0m \tTrain Epoch: 6 \tTrain_loss: 0.0621 | Train_acc: 98.9800 % | Validation_loss: 1.4722 | Validation_acc: 64.2107 %\u001b[32m [repeated 2x across cluster]\u001b[0m\n"
     ]
    },
    {
     "name": "stderr",
     "output_type": "stream",
     "text": [
      " 70%|\u001b[34m███████   \u001b[0m| 7/10 [00:41<00:17,  5.84s/it]\u001b[32m [repeated 2x across cluster]\u001b[0m\n"
     ]
    },
    {
     "name": "stdout",
     "output_type": "stream",
     "text": [
      "\u001b[36m(launch_and_fit pid=11660)\u001b[0m \tTrain Epoch: 7 \tTrain_loss: 0.0433 | Train_acc: 99.5226 % | Validation_loss: 1.4618 | Validation_acc: 64.8168 %\u001b[32m [repeated 2x across cluster]\u001b[0m\n"
     ]
    },
    {
     "name": "stderr",
     "output_type": "stream",
     "text": [
      " 80%|\u001b[34m████████  \u001b[0m| 8/10 [00:47<00:11,  5.78s/it]\u001b[32m [repeated 2x across cluster]\u001b[0m\n"
     ]
    },
    {
     "name": "stdout",
     "output_type": "stream",
     "text": [
      "\u001b[36m(launch_and_fit pid=11660)\u001b[0m \tTrain Epoch: 8 \tTrain_loss: 0.0307 | Train_acc: 99.7396 % | Validation_loss: 1.4976 | Validation_acc: 63.8605 %\u001b[32m [repeated 2x across cluster]\u001b[0m\n"
     ]
    },
    {
     "name": "stderr",
     "output_type": "stream",
     "text": [
      " 90%|\u001b[34m█████████ \u001b[0m| 9/10 [00:52<00:05,  5.75s/it]\u001b[32m [repeated 2x across cluster]\u001b[0m\n"
     ]
    },
    {
     "name": "stdout",
     "output_type": "stream",
     "text": [
      "\u001b[36m(launch_and_fit pid=11660)\u001b[0m \tTrain Epoch: 9 \tTrain_loss: 0.0279 | Train_acc: 99.7613 % | Validation_loss: 1.5055 | Validation_acc: 64.0356 %\u001b[32m [repeated 2x across cluster]\u001b[0m\n"
     ]
    },
    {
     "name": "stderr",
     "output_type": "stream",
     "text": [
      "100%|\u001b[34m██████████\u001b[0m| 10/10 [00:58<00:00,  5.89s/it]\u001b[32m [repeated 2x across cluster]\u001b[0m\n"
     ]
    },
    {
     "name": "stdout",
     "output_type": "stream",
     "text": [
      "\u001b[36m(launch_and_fit pid=11660)\u001b[0m save graph in  results/FL/\n",
      "\u001b[36m(launch_and_fit pid=11660)\u001b[0m \tTrain Epoch: 10 \tTrain_loss: 0.0302 | Train_acc: 99.7613 % | Validation_loss: 1.4912 | Validation_acc: 64.0558 %\u001b[32m [repeated 2x across cluster]\u001b[0m\n",
      "\u001b[36m(launch_and_fit pid=11734)\u001b[0m Run WITHOUT homomorphic encryption\n",
      "\u001b[36m(launch_and_fit pid=11734)\u001b[0m  To get the checkpoint\n",
      "\u001b[36m(launch_and_fit pid=11685)\u001b[0m save graph in  results/FL/\n",
      "\u001b[36m(launch_and_fit pid=11685)\u001b[0m \tTrain Epoch: 10 \tTrain_loss: 0.0241 | Train_acc: 99.8698 % | Validation_loss: 1.4387 | Validation_acc: 65.2478 %\n",
      "\u001b[36m(launch_and_fit pid=11734)\u001b[0m [Client 8, round 16] fit, config: {'learning_rate': 0.001, 'batch_size': '128', 'server_round': 16, 'local_epochs': 10}\n",
      "\u001b[36m(launch_and_fit pid=11734)\u001b[0m Updated model\n"
     ]
    },
    {
     "name": "stderr",
     "output_type": "stream",
     "text": [
      "  0%|\u001b[34m          \u001b[0m| 0/10 [00:00<?, ?it/s]\n",
      "100%|\u001b[34m██████████\u001b[0m| 10/10 [00:59<00:00,  5.95s/it]\n"
     ]
    },
    {
     "name": "stdout",
     "output_type": "stream",
     "text": [
      "\u001b[36m(launch_and_fit pid=11734)\u001b[0m \tTrain Epoch: 1 \tTrain_loss: 0.5640 | Train_acc: 82.4609 % | Validation_loss: 1.2519 | Validation_acc: 64.9919 %\n",
      "\u001b[36m(launch_and_fit pid=11759)\u001b[0m Run WITHOUT homomorphic encryption\n",
      "\u001b[36m(launch_and_fit pid=11759)\u001b[0m  To get the checkpoint\n",
      "\u001b[36m(launch_and_fit pid=11759)\u001b[0m [Client 3, round 16] fit, config: {'learning_rate': 0.001, 'batch_size': '128', 'server_round': 16, 'local_epochs': 10}\n",
      "\u001b[36m(launch_and_fit pid=11759)\u001b[0m Updated model\n"
     ]
    },
    {
     "name": "stderr",
     "output_type": "stream",
     "text": [
      " 10%|\u001b[34m█         \u001b[0m| 1/10 [00:06<00:55,  6.21s/it]\n",
      "  0%|\u001b[34m          \u001b[0m| 0/10 [00:00<?, ?it/s]\n"
     ]
    },
    {
     "name": "stdout",
     "output_type": "stream",
     "text": [
      "\u001b[36m(launch_and_fit pid=11734)\u001b[0m \tTrain Epoch: 2 \tTrain_loss: 0.2663 | Train_acc: 91.5799 % | Validation_loss: 1.2642 | Validation_acc: 63.9009 %\u001b[32m [repeated 2x across cluster]\u001b[0m\n"
     ]
    },
    {
     "name": "stderr",
     "output_type": "stream",
     "text": [
      " 20%|\u001b[34m██        \u001b[0m| 2/10 [00:12<00:48,  6.01s/it]\u001b[32m [repeated 2x across cluster]\u001b[0m\n"
     ]
    },
    {
     "name": "stdout",
     "output_type": "stream",
     "text": [
      "\u001b[36m(launch_and_fit pid=11734)\u001b[0m \tTrain Epoch: 3 \tTrain_loss: 0.1645 | Train_acc: 95.0564 % | Validation_loss: 1.4025 | Validation_acc: 64.6417 %\u001b[32m [repeated 2x across cluster]\u001b[0m\n"
     ]
    },
    {
     "name": "stderr",
     "output_type": "stream",
     "text": [
      " 30%|\u001b[34m███       \u001b[0m| 3/10 [00:18<00:42,  6.07s/it]\u001b[32m [repeated 2x across cluster]\u001b[0m\n"
     ]
    },
    {
     "name": "stdout",
     "output_type": "stream",
     "text": [
      "\u001b[36m(launch_and_fit pid=11734)\u001b[0m \tTrain Epoch: 4 \tTrain_loss: 0.1478 | Train_acc: 96.3325 % | Validation_loss: 1.3554 | Validation_acc: 65.5442 %\u001b[32m [repeated 2x across cluster]\u001b[0m\n"
     ]
    },
    {
     "name": "stderr",
     "output_type": "stream",
     "text": [
      " 40%|\u001b[34m████      \u001b[0m| 4/10 [00:23<00:35,  5.94s/it]\u001b[32m [repeated 2x across cluster]\u001b[0m\n"
     ]
    },
    {
     "name": "stdout",
     "output_type": "stream",
     "text": [
      "\u001b[36m(launch_and_fit pid=11734)\u001b[0m \tTrain Epoch: 5 \tTrain_loss: 0.1014 | Train_acc: 97.7431 % | Validation_loss: 1.4778 | Validation_acc: 62.1430 %\u001b[32m [repeated 2x across cluster]\u001b[0m\n"
     ]
    },
    {
     "name": "stderr",
     "output_type": "stream",
     "text": [
      " 50%|\u001b[34m█████     \u001b[0m| 5/10 [00:29<00:29,  5.90s/it]\u001b[32m [repeated 2x across cluster]\u001b[0m\n"
     ]
    },
    {
     "name": "stdout",
     "output_type": "stream",
     "text": [
      "\u001b[36m(launch_and_fit pid=11734)\u001b[0m \tTrain Epoch: 6 \tTrain_loss: 0.0732 | Train_acc: 98.6979 % | Validation_loss: 1.4171 | Validation_acc: 64.5474 %\u001b[32m [repeated 2x across cluster]\u001b[0m\n"
     ]
    },
    {
     "name": "stderr",
     "output_type": "stream",
     "text": [
      " 60%|\u001b[34m██████    \u001b[0m| 6/10 [00:35<00:23,  5.93s/it]\u001b[32m [repeated 2x across cluster]\u001b[0m\n"
     ]
    },
    {
     "name": "stdout",
     "output_type": "stream",
     "text": [
      "\u001b[36m(launch_and_fit pid=11734)\u001b[0m \tTrain Epoch: 7 \tTrain_loss: 0.0597 | Train_acc: 99.1753 % | Validation_loss: 1.4183 | Validation_acc: 65.8001 %\u001b[32m [repeated 2x across cluster]\u001b[0m\n"
     ]
    },
    {
     "name": "stderr",
     "output_type": "stream",
     "text": [
      " 70%|\u001b[34m███████   \u001b[0m| 7/10 [00:41<00:17,  5.89s/it]\u001b[32m [repeated 2x across cluster]\u001b[0m\n"
     ]
    },
    {
     "name": "stdout",
     "output_type": "stream",
     "text": [
      "\u001b[36m(launch_and_fit pid=11734)\u001b[0m \tTrain Epoch: 8 \tTrain_loss: 0.0546 | Train_acc: 99.1016 % | Validation_loss: 1.4129 | Validation_acc: 66.5409 %\u001b[32m [repeated 2x across cluster]\u001b[0m\n"
     ]
    },
    {
     "name": "stderr",
     "output_type": "stream",
     "text": [
      " 80%|\u001b[34m████████  \u001b[0m| 8/10 [00:47<00:11,  5.95s/it]\u001b[32m [repeated 2x across cluster]\u001b[0m\n"
     ]
    },
    {
     "name": "stdout",
     "output_type": "stream",
     "text": [
      "\u001b[36m(launch_and_fit pid=11734)\u001b[0m \tTrain Epoch: 9 \tTrain_loss: 0.0754 | Train_acc: 98.5026 % | Validation_loss: 1.5682 | Validation_acc: 61.7120 %\u001b[32m [repeated 2x across cluster]\u001b[0m\n"
     ]
    },
    {
     "name": "stderr",
     "output_type": "stream",
     "text": [
      " 90%|\u001b[34m█████████ \u001b[0m| 9/10 [00:53<00:05,  5.92s/it]\u001b[32m [repeated 2x across cluster]\u001b[0m\n"
     ]
    },
    {
     "name": "stdout",
     "output_type": "stream",
     "text": [
      "\u001b[36m(launch_and_fit pid=11734)\u001b[0m save graph in  results/FL/\n",
      "\u001b[36m(launch_and_fit pid=11734)\u001b[0m \tTrain Epoch: 10 \tTrain_loss: 0.0461 | Train_acc: 99.4358 % | Validation_loss: 1.5243 | Validation_acc: 63.1802 %\u001b[32m [repeated 2x across cluster]\u001b[0m\n"
     ]
    },
    {
     "name": "stderr",
     "output_type": "stream",
     "text": [
      "100%|\u001b[34m██████████\u001b[0m| 10/10 [00:59<00:00,  5.94s/it]\u001b[32m [repeated 2x across cluster]\u001b[0m\n"
     ]
    },
    {
     "name": "stdout",
     "output_type": "stream",
     "text": [
      "\u001b[36m(launch_and_fit pid=11808)\u001b[0m Run WITHOUT homomorphic encryption\n",
      "\u001b[36m(launch_and_fit pid=11808)\u001b[0m  To get the checkpoint\n",
      "\u001b[36m(launch_and_fit pid=11759)\u001b[0m save graph in  results/FL/\n",
      "\u001b[36m(launch_and_fit pid=11759)\u001b[0m \tTrain Epoch: 10 \tTrain_loss: 0.0240 | Train_acc: 99.8264 % | Validation_loss: 1.1874 | Validation_acc: 71.2082 %\n",
      "\u001b[36m(launch_and_fit pid=11808)\u001b[0m [Client 0, round 16] fit, config: {'learning_rate': 0.001, 'batch_size': '128', 'server_round': 16, 'local_epochs': 10}\n",
      "\u001b[36m(launch_and_fit pid=11808)\u001b[0m Updated model\n"
     ]
    },
    {
     "name": "stderr",
     "output_type": "stream",
     "text": [
      "  0%|\u001b[34m          \u001b[0m| 0/10 [00:00<?, ?it/s]\n",
      "100%|\u001b[34m██████████\u001b[0m| 10/10 [00:58<00:00,  5.90s/it]\n"
     ]
    },
    {
     "name": "stdout",
     "output_type": "stream",
     "text": [
      "\u001b[36m(launch_and_fit pid=11808)\u001b[0m \tTrain Epoch: 1 \tTrain_loss: 0.5939 | Train_acc: 80.4297 % | Validation_loss: 1.0644 | Validation_acc: 67.7667 %\n",
      "\u001b[36m(launch_and_fit pid=11833)\u001b[0m Run WITHOUT homomorphic encryption\n",
      "\u001b[36m(launch_and_fit pid=11833)\u001b[0m  To get the checkpoint\n",
      "\u001b[36m(launch_and_fit pid=11833)\u001b[0m [Client 4, round 16] fit, config: {'learning_rate': 0.001, 'batch_size': '128', 'server_round': 16, 'local_epochs': 10}\n",
      "\u001b[36m(launch_and_fit pid=11833)\u001b[0m Updated model\n"
     ]
    },
    {
     "name": "stderr",
     "output_type": "stream",
     "text": [
      " 10%|\u001b[34m█         \u001b[0m| 1/10 [00:06<00:58,  6.51s/it]\n",
      "  0%|\u001b[34m          \u001b[0m| 0/10 [00:00<?, ?it/s]\n"
     ]
    },
    {
     "name": "stdout",
     "output_type": "stream",
     "text": [
      "\u001b[36m(launch_and_fit pid=11808)\u001b[0m \tTrain Epoch: 2 \tTrain_loss: 0.3182 | Train_acc: 90.0738 % | Validation_loss: 1.2182 | Validation_acc: 70.1711 %\u001b[32m [repeated 2x across cluster]\u001b[0m\n"
     ]
    },
    {
     "name": "stderr",
     "output_type": "stream",
     "text": [
      " 20%|\u001b[34m██        \u001b[0m| 2/10 [00:12<00:49,  6.22s/it]\u001b[32m [repeated 2x across cluster]\u001b[0m\n"
     ]
    },
    {
     "name": "stdout",
     "output_type": "stream",
     "text": [
      "\u001b[36m(launch_and_fit pid=11808)\u001b[0m \tTrain Epoch: 3 \tTrain_loss: 0.1561 | Train_acc: 95.7509 % | Validation_loss: 1.2801 | Validation_acc: 66.4332 %\u001b[32m [repeated 2x across cluster]\u001b[0m\n"
     ]
    },
    {
     "name": "stderr",
     "output_type": "stream",
     "text": [
      " 30%|\u001b[34m███       \u001b[0m| 3/10 [00:18<00:42,  6.13s/it]\u001b[32m [repeated 2x across cluster]\u001b[0m\n"
     ]
    },
    {
     "name": "stdout",
     "output_type": "stream",
     "text": [
      "\u001b[36m(launch_and_fit pid=11808)\u001b[0m \tTrain Epoch: 4 \tTrain_loss: 0.1061 | Train_acc: 97.5738 % | Validation_loss: 1.1973 | Validation_acc: 69.2686 %\u001b[32m [repeated 2x across cluster]\u001b[0m\n"
     ]
    },
    {
     "name": "stderr",
     "output_type": "stream",
     "text": [
      " 40%|\u001b[34m████      \u001b[0m| 4/10 [00:24<00:35,  5.96s/it]\u001b[32m [repeated 2x across cluster]\u001b[0m\n"
     ]
    },
    {
     "name": "stdout",
     "output_type": "stream",
     "text": [
      "\u001b[36m(launch_and_fit pid=11808)\u001b[0m \tTrain Epoch: 5 \tTrain_loss: 0.0768 | Train_acc: 98.5460 % | Validation_loss: 1.2566 | Validation_acc: 67.9216 %\u001b[32m [repeated 2x across cluster]\u001b[0m\n"
     ]
    },
    {
     "name": "stderr",
     "output_type": "stream",
     "text": [
      " 50%|\u001b[34m█████     \u001b[0m| 5/10 [00:30<00:29,  5.97s/it]\u001b[32m [repeated 2x across cluster]\u001b[0m\n"
     ]
    },
    {
     "name": "stdout",
     "output_type": "stream",
     "text": [
      "\u001b[36m(launch_and_fit pid=11808)\u001b[0m \tTrain Epoch: 6 \tTrain_loss: 0.0596 | Train_acc: 99.1970 % | Validation_loss: 1.3181 | Validation_acc: 69.1137 %\u001b[32m [repeated 2x across cluster]\u001b[0m\n"
     ]
    },
    {
     "name": "stderr",
     "output_type": "stream",
     "text": [
      " 60%|\u001b[34m██████    \u001b[0m| 6/10 [00:36<00:24,  6.07s/it]\u001b[32m [repeated 2x across cluster]\u001b[0m\n"
     ]
    },
    {
     "name": "stdout",
     "output_type": "stream",
     "text": [
      "\u001b[36m(launch_and_fit pid=11808)\u001b[0m \tTrain Epoch: 7 \tTrain_loss: 0.0362 | Train_acc: 99.6311 % | Validation_loss: 1.2626 | Validation_acc: 69.7939 %\u001b[32m [repeated 2x across cluster]\u001b[0m\n"
     ]
    },
    {
     "name": "stderr",
     "output_type": "stream",
     "text": [
      " 70%|\u001b[34m███████   \u001b[0m| 7/10 [00:42<00:18,  6.12s/it]\u001b[32m [repeated 2x across cluster]\u001b[0m\n"
     ]
    },
    {
     "name": "stdout",
     "output_type": "stream",
     "text": [
      "\u001b[36m(launch_and_fit pid=11808)\u001b[0m \tTrain Epoch: 8 \tTrain_loss: 0.0282 | Train_acc: 99.8481 % | Validation_loss: 1.3155 | Validation_acc: 68.2112 %\u001b[32m [repeated 2x across cluster]\u001b[0m\n"
     ]
    },
    {
     "name": "stderr",
     "output_type": "stream",
     "text": [
      " 80%|\u001b[34m████████  \u001b[0m| 8/10 [00:48<00:12,  6.01s/it]\u001b[32m [repeated 2x across cluster]\u001b[0m\n"
     ]
    },
    {
     "name": "stdout",
     "output_type": "stream",
     "text": [
      "\u001b[36m(launch_and_fit pid=11808)\u001b[0m \tTrain Epoch: 9 \tTrain_loss: 0.0235 | Train_acc: 99.8915 % | Validation_loss: 1.3224 | Validation_acc: 68.6018 %\u001b[32m [repeated 2x across cluster]\u001b[0m\n"
     ]
    },
    {
     "name": "stderr",
     "output_type": "stream",
     "text": [
      " 90%|\u001b[34m█████████ \u001b[0m| 9/10 [00:54<00:05,  5.94s/it]\u001b[32m [repeated 2x across cluster]\u001b[0m\n"
     ]
    },
    {
     "name": "stdout",
     "output_type": "stream",
     "text": [
      "\u001b[36m(launch_and_fit pid=11808)\u001b[0m save graph in  results/FL/\n",
      "\u001b[36m(launch_and_fit pid=11808)\u001b[0m \tTrain Epoch: 10 \tTrain_loss: 0.0206 | Train_acc: 99.8915 % | Validation_loss: 1.3348 | Validation_acc: 68.8173 %\u001b[32m [repeated 2x across cluster]\u001b[0m\n"
     ]
    },
    {
     "name": "stderr",
     "output_type": "stream",
     "text": [
      "100%|\u001b[34m██████████\u001b[0m| 10/10 [01:00<00:00,  6.00s/it]\u001b[32m [repeated 2x across cluster]\u001b[0m\n",
      "DEBUG flwr 2024-07-20 20:16:27,489 | server.py:236 | fit_round 16 received 10 results and 0 failures\n"
     ]
    },
    {
     "name": "stdout",
     "output_type": "stream",
     "text": [
      "Saving round 16 aggregated_parameters...\n",
      "Updated model\n"
     ]
    },
    {
     "name": "stderr",
     "output_type": "stream",
     "text": [
      "INFO flwr 2024-07-20 20:16:33,152 | server.py:125 | fit progress: (16, 1.1720552225656147, {'accuracy': 71.21242088607595}, 7187.841909903)\n",
      "DEBUG flwr 2024-07-20 20:16:33,153 | server.py:173 | evaluate_round 16: strategy sampled 10 clients (out of 10)\n"
     ]
    },
    {
     "name": "stdout",
     "output_type": "stream",
     "text": [
      "Server-side evaluation loss 1.1720552225656147 / accuracy 71.21242088607595\n",
      "\u001b[36m(launch_and_evaluate pid=11892)\u001b[0m Run WITHOUT homomorphic encryption\n",
      "\u001b[36m(launch_and_evaluate pid=11892)\u001b[0m  To get the checkpoint\n",
      "\u001b[36m(launch_and_fit pid=11833)\u001b[0m save graph in  results/FL/\n",
      "\u001b[36m(launch_and_fit pid=11833)\u001b[0m \tTrain Epoch: 10 \tTrain_loss: 0.0226 | Train_acc: 99.8698 % | Validation_loss: 1.4957 | Validation_acc: 66.1436 %\n",
      "\u001b[36m(launch_and_evaluate pid=11892)\u001b[0m [Client 6] evaluate, config: {}\n",
      "\u001b[36m(launch_and_evaluate pid=11892)\u001b[0m Updated model\n",
      "\u001b[36m(launch_and_evaluate pid=11964)\u001b[0m Run WITHOUT homomorphic encryption\u001b[32m [repeated 2x across cluster]\u001b[0m\n",
      "\u001b[36m(launch_and_evaluate pid=11964)\u001b[0m  To get the checkpoint\u001b[32m [repeated 2x across cluster]\u001b[0m\n",
      "\u001b[36m(launch_and_evaluate pid=11891)\u001b[0m [Client 1] evaluate, config: {}\n",
      "\u001b[36m(launch_and_evaluate pid=11891)\u001b[0m Updated model\n",
      "\u001b[36m(launch_and_evaluate pid=11964)\u001b[0m [Client 7] evaluate, config: {}\n",
      "\u001b[36m(launch_and_evaluate pid=11964)\u001b[0m Updated model\n",
      "\u001b[36m(launch_and_evaluate pid=12032)\u001b[0m Run WITHOUT homomorphic encryption\u001b[32m [repeated 2x across cluster]\u001b[0m\n",
      "\u001b[36m(launch_and_evaluate pid=12032)\u001b[0m  To get the checkpoint\u001b[32m [repeated 2x across cluster]\u001b[0m\n",
      "\u001b[36m(launch_and_evaluate pid=11962)\u001b[0m [Client 0] evaluate, config: {}\n",
      "\u001b[36m(launch_and_evaluate pid=11962)\u001b[0m Updated model\n",
      "\u001b[36m(launch_and_evaluate pid=12032)\u001b[0m [Client 5] evaluate, config: {}\n",
      "\u001b[36m(launch_and_evaluate pid=12032)\u001b[0m Updated model\n",
      "\u001b[36m(launch_and_evaluate pid=12102)\u001b[0m Run WITHOUT homomorphic encryption\u001b[32m [repeated 2x across cluster]\u001b[0m\n",
      "\u001b[36m(launch_and_evaluate pid=12102)\u001b[0m  To get the checkpoint\u001b[32m [repeated 2x across cluster]\u001b[0m\n",
      "\u001b[36m(launch_and_evaluate pid=12034)\u001b[0m [Client 3] evaluate, config: {}\n",
      "\u001b[36m(launch_and_evaluate pid=12034)\u001b[0m Updated model\n",
      "\u001b[36m(launch_and_evaluate pid=12102)\u001b[0m [Client 2] evaluate, config: {}\n",
      "\u001b[36m(launch_and_evaluate pid=12102)\u001b[0m Updated model\n",
      "\u001b[36m(launch_and_evaluate pid=12172)\u001b[0m Run WITHOUT homomorphic encryption\u001b[32m [repeated 2x across cluster]\u001b[0m\n",
      "\u001b[36m(launch_and_evaluate pid=12172)\u001b[0m  To get the checkpoint\u001b[32m [repeated 2x across cluster]\u001b[0m\n",
      "\u001b[36m(launch_and_evaluate pid=12104)\u001b[0m [Client 4] evaluate, config: {}\n",
      "\u001b[36m(launch_and_evaluate pid=12104)\u001b[0m Updated model\n",
      "\u001b[36m(launch_and_evaluate pid=12172)\u001b[0m [Client 9] evaluate, config: {}\n",
      "\u001b[36m(launch_and_evaluate pid=12172)\u001b[0m Updated model\n"
     ]
    },
    {
     "name": "stderr",
     "output_type": "stream",
     "text": [
      "DEBUG flwr 2024-07-20 20:17:50,320 | server.py:187 | evaluate_round 16 received 10 results and 0 failures\n",
      "DEBUG flwr 2024-07-20 20:17:50,322 | server.py:222 | fit_round 17: strategy sampled 10 clients (out of 10)\n"
     ]
    },
    {
     "name": "stdout",
     "output_type": "stream",
     "text": [
      "\u001b[36m(launch_and_fit pid=12251)\u001b[0m Run WITHOUT homomorphic encryption\u001b[32m [repeated 2x across cluster]\u001b[0m\n",
      "\u001b[36m(launch_and_fit pid=12251)\u001b[0m  To get the checkpoint\u001b[32m [repeated 2x across cluster]\u001b[0m\n",
      "\u001b[36m(launch_and_evaluate pid=12174)\u001b[0m [Client 8] evaluate, config: {}\n",
      "\u001b[36m(launch_and_evaluate pid=12174)\u001b[0m Updated model\n"
     ]
    },
    {
     "name": "stderr",
     "output_type": "stream",
     "text": [
      "  0%|\u001b[34m          \u001b[0m| 0/10 [00:00<?, ?it/s]\n",
      "100%|\u001b[34m██████████\u001b[0m| 10/10 [00:59<00:00,  5.96s/it]\n"
     ]
    },
    {
     "name": "stdout",
     "output_type": "stream",
     "text": [
      "\u001b[36m(launch_and_fit pid=12251)\u001b[0m [Client 7, round 17] fit, config: {'learning_rate': 0.001, 'batch_size': '128', 'server_round': 17, 'local_epochs': 10}\n",
      "\u001b[36m(launch_and_fit pid=12251)\u001b[0m Updated model\n"
     ]
    },
    {
     "name": "stderr",
     "output_type": "stream",
     "text": [
      " 10%|\u001b[34m█         \u001b[0m| 1/10 [00:06<00:58,  6.52s/it]\n",
      "  0%|\u001b[34m          \u001b[0m| 0/10 [00:00<?, ?it/s]\n"
     ]
    },
    {
     "name": "stdout",
     "output_type": "stream",
     "text": [
      "\u001b[36m(launch_and_fit pid=12251)\u001b[0m \tTrain Epoch: 1 \tTrain_loss: 0.4469 | Train_acc: 86.4323 % | Validation_loss: 0.9895 | Validation_acc: 73.7338 %\n",
      "\u001b[36m(launch_and_fit pid=12275)\u001b[0m Run WITHOUT homomorphic encryption\n",
      "\u001b[36m(launch_and_fit pid=12275)\u001b[0m  To get the checkpoint\n",
      "\u001b[36m(launch_and_fit pid=12275)\u001b[0m [Client 9, round 17] fit, config: {'learning_rate': 0.001, 'batch_size': '128', 'server_round': 17, 'local_epochs': 10}\n",
      "\u001b[36m(launch_and_fit pid=12275)\u001b[0m Updated model\n"
     ]
    },
    {
     "name": "stderr",
     "output_type": "stream",
     "text": [
      " 20%|\u001b[34m██        \u001b[0m| 2/10 [00:12<00:48,  6.06s/it]\u001b[32m [repeated 2x across cluster]\u001b[0m\n"
     ]
    },
    {
     "name": "stdout",
     "output_type": "stream",
     "text": [
      "\u001b[36m(launch_and_fit pid=12251)\u001b[0m \tTrain Epoch: 2 \tTrain_loss: 0.2812 | Train_acc: 92.1094 % | Validation_loss: 1.0800 | Validation_acc: 71.8750 %\u001b[32m [repeated 2x across cluster]\u001b[0m\n"
     ]
    },
    {
     "name": "stderr",
     "output_type": "stream",
     "text": [
      " 30%|\u001b[34m███       \u001b[0m| 3/10 [00:18<00:42,  6.01s/it]\u001b[32m [repeated 2x across cluster]\u001b[0m\n"
     ]
    },
    {
     "name": "stdout",
     "output_type": "stream",
     "text": [
      "\u001b[36m(launch_and_fit pid=12251)\u001b[0m \tTrain Epoch: 3 \tTrain_loss: 0.1452 | Train_acc: 96.2457 % | Validation_loss: 1.1070 | Validation_acc: 73.3028 %\u001b[32m [repeated 2x across cluster]\u001b[0m\n"
     ]
    },
    {
     "name": "stderr",
     "output_type": "stream",
     "text": [
      " 40%|\u001b[34m████      \u001b[0m| 4/10 [00:24<00:35,  5.96s/it]\u001b[32m [repeated 2x across cluster]\u001b[0m\n"
     ]
    },
    {
     "name": "stdout",
     "output_type": "stream",
     "text": [
      "\u001b[36m(launch_and_fit pid=12251)\u001b[0m \tTrain Epoch: 4 \tTrain_loss: 0.1071 | Train_acc: 97.2786 % | Validation_loss: 1.1445 | Validation_acc: 71.6797 %\u001b[32m [repeated 2x across cluster]\u001b[0m\n"
     ]
    },
    {
     "name": "stderr",
     "output_type": "stream",
     "text": [
      " 50%|\u001b[34m█████     \u001b[0m| 5/10 [00:29<00:29,  5.90s/it]\u001b[32m [repeated 2x across cluster]\u001b[0m\n"
     ]
    },
    {
     "name": "stdout",
     "output_type": "stream",
     "text": [
      "\u001b[36m(launch_and_fit pid=12251)\u001b[0m \tTrain Epoch: 5 \tTrain_loss: 0.0866 | Train_acc: 97.8429 % | Validation_loss: 1.1993 | Validation_acc: 71.1140 %\u001b[32m [repeated 2x across cluster]\u001b[0m\n"
     ]
    },
    {
     "name": "stderr",
     "output_type": "stream",
     "text": [
      " 60%|\u001b[34m██████    \u001b[0m| 6/10 [00:36<00:24,  6.09s/it]\u001b[32m [repeated 2x across cluster]\u001b[0m\n"
     ]
    },
    {
     "name": "stdout",
     "output_type": "stream",
     "text": [
      "\u001b[36m(launch_and_fit pid=12251)\u001b[0m \tTrain Epoch: 6 \tTrain_loss: 0.0624 | Train_acc: 98.6979 % | Validation_loss: 1.1297 | Validation_acc: 72.8516 %\u001b[32m [repeated 2x across cluster]\u001b[0m\n"
     ]
    },
    {
     "name": "stderr",
     "output_type": "stream",
     "text": [
      " 70%|\u001b[34m███████   \u001b[0m| 7/10 [00:42<00:18,  6.01s/it]\u001b[32m [repeated 2x across cluster]\u001b[0m\n"
     ]
    },
    {
     "name": "stdout",
     "output_type": "stream",
     "text": [
      "\u001b[36m(launch_and_fit pid=12251)\u001b[0m \tTrain Epoch: 7 \tTrain_loss: 0.0461 | Train_acc: 99.2752 % | Validation_loss: 1.1549 | Validation_acc: 71.7201 %\u001b[32m [repeated 2x across cluster]\u001b[0m\n"
     ]
    },
    {
     "name": "stderr",
     "output_type": "stream",
     "text": [
      " 80%|\u001b[34m████████  \u001b[0m| 8/10 [00:48<00:12,  6.00s/it]\u001b[32m [repeated 2x across cluster]\u001b[0m\n"
     ]
    },
    {
     "name": "stdout",
     "output_type": "stream",
     "text": [
      "\u001b[36m(launch_and_fit pid=12251)\u001b[0m \tTrain Epoch: 8 \tTrain_loss: 0.0723 | Train_acc: 98.3203 % | Validation_loss: 1.1788 | Validation_acc: 70.8782 %\u001b[32m [repeated 2x across cluster]\u001b[0m\n"
     ]
    },
    {
     "name": "stderr",
     "output_type": "stream",
     "text": [
      " 90%|\u001b[34m█████████ \u001b[0m| 9/10 [00:53<00:05,  5.93s/it]\u001b[32m [repeated 2x across cluster]\u001b[0m\n"
     ]
    },
    {
     "name": "stdout",
     "output_type": "stream",
     "text": [
      "\u001b[36m(launch_and_fit pid=12251)\u001b[0m \tTrain Epoch: 9 \tTrain_loss: 0.0698 | Train_acc: 98.6111 % | Validation_loss: 1.2747 | Validation_acc: 69.4706 %\u001b[32m [repeated 2x across cluster]\u001b[0m\n"
     ]
    },
    {
     "name": "stderr",
     "output_type": "stream",
     "text": [
      "100%|\u001b[34m██████████\u001b[0m| 10/10 [00:59<00:00,  5.97s/it]\u001b[32m [repeated 2x across cluster]\u001b[0m\n"
     ]
    },
    {
     "name": "stdout",
     "output_type": "stream",
     "text": [
      "\u001b[36m(launch_and_fit pid=12251)\u001b[0m save graph in  results/FL/\n",
      "\u001b[36m(launch_and_fit pid=12251)\u001b[0m \tTrain Epoch: 10 \tTrain_loss: 0.0570 | Train_acc: 98.8932 % | Validation_loss: 1.1835 | Validation_acc: 70.4674 %\u001b[32m [repeated 2x across cluster]\u001b[0m\n",
      "\u001b[36m(launch_and_fit pid=12324)\u001b[0m Run WITHOUT homomorphic encryption\n",
      "\u001b[36m(launch_and_fit pid=12324)\u001b[0m  To get the checkpoint\n",
      "\u001b[36m(launch_and_fit pid=12275)\u001b[0m save graph in  results/FL/\n",
      "\u001b[36m(launch_and_fit pid=12275)\u001b[0m \tTrain Epoch: 10 \tTrain_loss: 0.0196 | Train_acc: 99.9132 % | Validation_loss: 1.3561 | Validation_acc: 67.8677 %\n"
     ]
    },
    {
     "name": "stderr",
     "output_type": "stream",
     "text": [
      "  0%|\u001b[34m          \u001b[0m| 0/10 [00:00<?, ?it/s]\n",
      "100%|\u001b[34m██████████\u001b[0m| 10/10 [01:00<00:00,  6.02s/it]\n"
     ]
    },
    {
     "name": "stdout",
     "output_type": "stream",
     "text": [
      "\u001b[36m(launch_and_fit pid=12324)\u001b[0m [Client 5, round 17] fit, config: {'learning_rate': 0.001, 'batch_size': '128', 'server_round': 17, 'local_epochs': 10}\n",
      "\u001b[36m(launch_and_fit pid=12324)\u001b[0m Updated model\n"
     ]
    },
    {
     "name": "stderr",
     "output_type": "stream",
     "text": [
      " 10%|\u001b[34m█         \u001b[0m| 1/10 [00:06<00:56,  6.26s/it]\n",
      "  0%|\u001b[34m          \u001b[0m| 0/10 [00:00<?, ?it/s]\n"
     ]
    },
    {
     "name": "stdout",
     "output_type": "stream",
     "text": [
      "\u001b[36m(launch_and_fit pid=12324)\u001b[0m \tTrain Epoch: 1 \tTrain_loss: 0.5144 | Train_acc: 84.3880 % | Validation_loss: 1.1075 | Validation_acc: 69.5447 %\n",
      "\u001b[36m(launch_and_fit pid=12349)\u001b[0m Run WITHOUT homomorphic encryption\n",
      "\u001b[36m(launch_and_fit pid=12349)\u001b[0m  To get the checkpoint\n",
      "\u001b[36m(launch_and_fit pid=12349)\u001b[0m [Client 6, round 17] fit, config: {'learning_rate': 0.001, 'batch_size': '128', 'server_round': 17, 'local_epochs': 10}\n",
      "\u001b[36m(launch_and_fit pid=12349)\u001b[0m Updated model\n"
     ]
    },
    {
     "name": "stderr",
     "output_type": "stream",
     "text": [
      " 20%|\u001b[34m██        \u001b[0m| 2/10 [00:12<00:48,  6.04s/it]\u001b[32m [repeated 2x across cluster]\u001b[0m\n"
     ]
    },
    {
     "name": "stdout",
     "output_type": "stream",
     "text": [
      "\u001b[36m(launch_and_fit pid=12324)\u001b[0m \tTrain Epoch: 2 \tTrain_loss: 0.2317 | Train_acc: 93.5981 % | Validation_loss: 1.2680 | Validation_acc: 69.0935 %\u001b[32m [repeated 2x across cluster]\u001b[0m\n"
     ]
    },
    {
     "name": "stderr",
     "output_type": "stream",
     "text": [
      " 30%|\u001b[34m███       \u001b[0m| 3/10 [00:17<00:40,  5.85s/it]\u001b[32m [repeated 2x across cluster]\u001b[0m\n"
     ]
    },
    {
     "name": "stdout",
     "output_type": "stream",
     "text": [
      "\u001b[36m(launch_and_fit pid=12324)\u001b[0m \tTrain Epoch: 3 \tTrain_loss: 0.1364 | Train_acc: 96.5625 % | Validation_loss: 1.2325 | Validation_acc: 69.6255 %\u001b[32m [repeated 2x across cluster]\u001b[0m\n"
     ]
    },
    {
     "name": "stderr",
     "output_type": "stream",
     "text": [
      " 40%|\u001b[34m████      \u001b[0m| 4/10 [00:23<00:35,  5.97s/it]\u001b[32m [repeated 2x across cluster]\u001b[0m\n"
     ]
    },
    {
     "name": "stdout",
     "output_type": "stream",
     "text": [
      "\u001b[36m(launch_and_fit pid=12324)\u001b[0m \tTrain Epoch: 4 \tTrain_loss: 0.1220 | Train_acc: 96.9965 % | Validation_loss: 1.2994 | Validation_acc: 67.6859 %\u001b[32m [repeated 2x across cluster]\u001b[0m\n"
     ]
    },
    {
     "name": "stderr",
     "output_type": "stream",
     "text": [
      " 50%|\u001b[34m█████     \u001b[0m| 5/10 [00:29<00:29,  5.93s/it]\u001b[32m [repeated 2x across cluster]\u001b[0m\n"
     ]
    },
    {
     "name": "stdout",
     "output_type": "stream",
     "text": [
      "\u001b[36m(launch_and_fit pid=12324)\u001b[0m \tTrain Epoch: 5 \tTrain_loss: 0.0723 | Train_acc: 98.6328 % | Validation_loss: 1.3012 | Validation_acc: 67.8273 %\u001b[32m [repeated 2x across cluster]\u001b[0m\n"
     ]
    },
    {
     "name": "stderr",
     "output_type": "stream",
     "text": [
      " 60%|\u001b[34m██████    \u001b[0m| 6/10 [00:36<00:24,  6.03s/it]\u001b[32m [repeated 2x across cluster]\u001b[0m\n"
     ]
    },
    {
     "name": "stdout",
     "output_type": "stream",
     "text": [
      "\u001b[36m(launch_and_fit pid=12324)\u001b[0m \tTrain Epoch: 6 \tTrain_loss: 0.0500 | Train_acc: 99.1319 % | Validation_loss: 1.2435 | Validation_acc: 70.2317 %\u001b[32m [repeated 2x across cluster]\u001b[0m\n"
     ]
    },
    {
     "name": "stderr",
     "output_type": "stream",
     "text": [
      " 70%|\u001b[34m███████   \u001b[0m| 7/10 [00:41<00:17,  5.96s/it]\u001b[32m [repeated 2x across cluster]\u001b[0m\n"
     ]
    },
    {
     "name": "stdout",
     "output_type": "stream",
     "text": [
      "\u001b[36m(launch_and_fit pid=12324)\u001b[0m \tTrain Epoch: 7 \tTrain_loss: 0.0443 | Train_acc: 99.3273 % | Validation_loss: 1.3665 | Validation_acc: 68.4133 %\u001b[32m [repeated 2x across cluster]\u001b[0m\n"
     ]
    },
    {
     "name": "stderr",
     "output_type": "stream",
     "text": [
      " 80%|\u001b[34m████████  \u001b[0m| 8/10 [00:47<00:11,  5.85s/it]\u001b[32m [repeated 2x across cluster]\u001b[0m\n"
     ]
    },
    {
     "name": "stdout",
     "output_type": "stream",
     "text": [
      "\u001b[36m(launch_and_fit pid=12324)\u001b[0m \tTrain Epoch: 8 \tTrain_loss: 0.0362 | Train_acc: 99.4358 % | Validation_loss: 1.2160 | Validation_acc: 70.5819 %\u001b[32m [repeated 2x across cluster]\u001b[0m\n"
     ]
    },
    {
     "name": "stderr",
     "output_type": "stream",
     "text": [
      " 90%|\u001b[34m█████████ \u001b[0m| 9/10 [00:53<00:05,  5.88s/it]\u001b[32m [repeated 2x across cluster]\u001b[0m\n"
     ]
    },
    {
     "name": "stdout",
     "output_type": "stream",
     "text": [
      "\u001b[36m(launch_and_fit pid=12324)\u001b[0m \tTrain Epoch: 9 \tTrain_loss: 0.0267 | Train_acc: 99.6745 % | Validation_loss: 1.2631 | Validation_acc: 69.9758 %\u001b[32m [repeated 2x across cluster]\u001b[0m\n"
     ]
    },
    {
     "name": "stderr",
     "output_type": "stream",
     "text": [
      "100%|\u001b[34m██████████\u001b[0m| 10/10 [00:58<00:00,  5.89s/it]\u001b[32m [repeated 2x across cluster]\u001b[0m\n"
     ]
    },
    {
     "name": "stdout",
     "output_type": "stream",
     "text": [
      "\u001b[36m(launch_and_fit pid=12324)\u001b[0m save graph in  results/FL/\n",
      "\u001b[36m(launch_and_fit pid=12324)\u001b[0m \tTrain Epoch: 10 \tTrain_loss: 0.0213 | Train_acc: 99.7830 % | Validation_loss: 1.2854 | Validation_acc: 67.2953 %\u001b[32m [repeated 2x across cluster]\u001b[0m\n",
      "\u001b[36m(launch_and_fit pid=12399)\u001b[0m Run WITHOUT homomorphic encryption\n",
      "\u001b[36m(launch_and_fit pid=12399)\u001b[0m  To get the checkpoint\n",
      "\u001b[36m(launch_and_fit pid=12349)\u001b[0m save graph in  results/FL/\n",
      "\u001b[36m(launch_and_fit pid=12349)\u001b[0m \tTrain Epoch: 10 \tTrain_loss: 0.0184 | Train_acc: 99.8481 % | Validation_loss: 1.3707 | Validation_acc: 68.2584 %\n",
      "\u001b[36m(launch_and_fit pid=12399)\u001b[0m [Client 1, round 17] fit, config: {'learning_rate': 0.001, 'batch_size': '128', 'server_round': 17, 'local_epochs': 10}\n",
      "\u001b[36m(launch_and_fit pid=12399)\u001b[0m Updated model\n"
     ]
    },
    {
     "name": "stderr",
     "output_type": "stream",
     "text": [
      "  0%|\u001b[34m          \u001b[0m| 0/10 [00:00<?, ?it/s]\n",
      "100%|\u001b[34m██████████\u001b[0m| 10/10 [01:00<00:00,  6.02s/it]\n"
     ]
    },
    {
     "name": "stdout",
     "output_type": "stream",
     "text": [
      "\u001b[36m(launch_and_fit pid=12399)\u001b[0m \tTrain Epoch: 1 \tTrain_loss: 0.5228 | Train_acc: 83.3203 % | Validation_loss: 1.1296 | Validation_acc: 68.2584 %\n",
      "\u001b[36m(launch_and_fit pid=12424)\u001b[0m Run WITHOUT homomorphic encryption\n",
      "\u001b[36m(launch_and_fit pid=12424)\u001b[0m  To get the checkpoint\n",
      "\u001b[36m(launch_and_fit pid=12424)\u001b[0m [Client 0, round 17] fit, config: {'learning_rate': 0.001, 'batch_size': '128', 'server_round': 17, 'local_epochs': 10}\n",
      "\u001b[36m(launch_and_fit pid=12424)\u001b[0m Updated model\n"
     ]
    },
    {
     "name": "stderr",
     "output_type": "stream",
     "text": [
      " 10%|\u001b[34m█         \u001b[0m| 1/10 [00:06<00:55,  6.12s/it]\n",
      "  0%|\u001b[34m          \u001b[0m| 0/10 [00:00<?, ?it/s]\n"
     ]
    },
    {
     "name": "stdout",
     "output_type": "stream",
     "text": [
      "\u001b[36m(launch_and_fit pid=12399)\u001b[0m \tTrain Epoch: 2 \tTrain_loss: 0.2693 | Train_acc: 91.9010 % | Validation_loss: 1.1370 | Validation_acc: 70.9591 %\u001b[32m [repeated 2x across cluster]\u001b[0m\n"
     ]
    },
    {
     "name": "stderr",
     "output_type": "stream",
     "text": [
      " 20%|\u001b[34m██        \u001b[0m| 2/10 [00:12<00:49,  6.18s/it]\u001b[32m [repeated 2x across cluster]\u001b[0m\n"
     ]
    },
    {
     "name": "stdout",
     "output_type": "stream",
     "text": [
      "\u001b[36m(launch_and_fit pid=12399)\u001b[0m \tTrain Epoch: 3 \tTrain_loss: 0.1383 | Train_acc: 96.1589 % | Validation_loss: 1.1812 | Validation_acc: 70.2182 %\u001b[32m [repeated 2x across cluster]\u001b[0m\n"
     ]
    },
    {
     "name": "stderr",
     "output_type": "stream",
     "text": [
      " 30%|\u001b[34m███       \u001b[0m| 3/10 [00:18<00:42,  6.13s/it]\u001b[32m [repeated 2x across cluster]\u001b[0m\n"
     ]
    },
    {
     "name": "stdout",
     "output_type": "stream",
     "text": [
      "\u001b[36m(launch_and_fit pid=12399)\u001b[0m \tTrain Epoch: 4 \tTrain_loss: 0.0941 | Train_acc: 97.7995 % | Validation_loss: 1.2252 | Validation_acc: 71.2689 %\u001b[32m [repeated 2x across cluster]\u001b[0m\n"
     ]
    },
    {
     "name": "stderr",
     "output_type": "stream",
     "text": [
      " 40%|\u001b[34m████      \u001b[0m| 4/10 [00:24<00:36,  6.02s/it]\u001b[32m [repeated 2x across cluster]\u001b[0m\n"
     ]
    },
    {
     "name": "stdout",
     "output_type": "stream",
     "text": [
      "\u001b[36m(launch_and_fit pid=12399)\u001b[0m \tTrain Epoch: 5 \tTrain_loss: 0.0710 | Train_acc: 98.6675 % | Validation_loss: 1.3033 | Validation_acc: 69.8613 %\u001b[32m [repeated 2x across cluster]\u001b[0m\n"
     ]
    },
    {
     "name": "stderr",
     "output_type": "stream",
     "text": [
      " 50%|\u001b[34m█████     \u001b[0m| 5/10 [00:29<00:29,  5.91s/it]\u001b[32m [repeated 2x across cluster]\u001b[0m\n"
     ]
    },
    {
     "name": "stdout",
     "output_type": "stream",
     "text": [
      "\u001b[36m(launch_and_fit pid=12399)\u001b[0m \tTrain Epoch: 6 \tTrain_loss: 0.0602 | Train_acc: 98.7109 % | Validation_loss: 1.3401 | Validation_acc: 68.9655 %\u001b[32m [repeated 2x across cluster]\u001b[0m\n"
     ]
    },
    {
     "name": "stderr",
     "output_type": "stream",
     "text": [
      " 60%|\u001b[34m██████    \u001b[0m| 6/10 [00:35<00:23,  5.92s/it]\u001b[32m [repeated 2x across cluster]\u001b[0m\n"
     ]
    },
    {
     "name": "stdout",
     "output_type": "stream",
     "text": [
      "\u001b[36m(launch_and_fit pid=12399)\u001b[0m \tTrain Epoch: 7 \tTrain_loss: 0.0705 | Train_acc: 98.6111 % | Validation_loss: 1.3343 | Validation_acc: 70.0364 %\u001b[32m [repeated 2x across cluster]\u001b[0m\n"
     ]
    },
    {
     "name": "stderr",
     "output_type": "stream",
     "text": [
      " 70%|\u001b[34m███████   \u001b[0m| 7/10 [00:41<00:17,  5.92s/it]\u001b[32m [repeated 2x across cluster]\u001b[0m\n"
     ]
    },
    {
     "name": "stdout",
     "output_type": "stream",
     "text": [
      "\u001b[36m(launch_and_fit pid=12399)\u001b[0m \tTrain Epoch: 8 \tTrain_loss: 0.0833 | Train_acc: 98.1988 % | Validation_loss: 1.4879 | Validation_acc: 64.6619 %\u001b[32m [repeated 2x across cluster]\u001b[0m\n"
     ]
    },
    {
     "name": "stderr",
     "output_type": "stream",
     "text": [
      " 80%|\u001b[34m████████  \u001b[0m| 8/10 [00:47<00:11,  5.97s/it]\u001b[32m [repeated 2x across cluster]\u001b[0m\n"
     ]
    },
    {
     "name": "stdout",
     "output_type": "stream",
     "text": [
      "\u001b[36m(launch_and_fit pid=12399)\u001b[0m \tTrain Epoch: 9 \tTrain_loss: 0.0694 | Train_acc: 98.5243 % | Validation_loss: 1.4955 | Validation_acc: 68.2786 %\u001b[32m [repeated 2x across cluster]\u001b[0m\n"
     ]
    },
    {
     "name": "stderr",
     "output_type": "stream",
     "text": [
      " 90%|\u001b[34m█████████ \u001b[0m| 9/10 [00:53<00:05,  5.97s/it]\u001b[32m [repeated 2x across cluster]\u001b[0m\n"
     ]
    },
    {
     "name": "stdout",
     "output_type": "stream",
     "text": [
      "\u001b[36m(launch_and_fit pid=12399)\u001b[0m save graph in  results/FL/\n",
      "\u001b[36m(launch_and_fit pid=12399)\u001b[0m \tTrain Epoch: 10 \tTrain_loss: 0.0637 | Train_acc: 98.8064 % | Validation_loss: 1.3565 | Validation_acc: 68.6692 %\u001b[32m [repeated 2x across cluster]\u001b[0m\n"
     ]
    },
    {
     "name": "stderr",
     "output_type": "stream",
     "text": [
      "100%|\u001b[34m██████████\u001b[0m| 10/10 [00:59<00:00,  5.97s/it]\u001b[32m [repeated 2x across cluster]\u001b[0m\n"
     ]
    },
    {
     "name": "stdout",
     "output_type": "stream",
     "text": [
      "\u001b[36m(launch_and_fit pid=12473)\u001b[0m Run WITHOUT homomorphic encryption\n",
      "\u001b[36m(launch_and_fit pid=12473)\u001b[0m  To get the checkpoint\n",
      "\u001b[36m(launch_and_fit pid=12424)\u001b[0m save graph in  results/FL/\n",
      "\u001b[36m(launch_and_fit pid=12424)\u001b[0m \tTrain Epoch: 10 \tTrain_loss: 0.0152 | Train_acc: 99.9566 % | Validation_loss: 1.2934 | Validation_acc: 69.7535 %\n",
      "\u001b[36m(launch_and_fit pid=12473)\u001b[0m [Client 2, round 17] fit, config: {'learning_rate': 0.001, 'batch_size': '128', 'server_round': 17, 'local_epochs': 10}\n",
      "\u001b[36m(launch_and_fit pid=12473)\u001b[0m Updated model\n"
     ]
    },
    {
     "name": "stderr",
     "output_type": "stream",
     "text": [
      "  0%|\u001b[34m          \u001b[0m| 0/10 [00:00<?, ?it/s]\n",
      "100%|\u001b[34m██████████\u001b[0m| 10/10 [01:00<00:00,  6.02s/it]\n"
     ]
    },
    {
     "name": "stdout",
     "output_type": "stream",
     "text": [
      "\u001b[36m(launch_and_fit pid=12473)\u001b[0m \tTrain Epoch: 1 \tTrain_loss: 0.4831 | Train_acc: 84.8828 % | Validation_loss: 1.1442 | Validation_acc: 66.8844 %\n",
      "\u001b[36m(launch_and_fit pid=12498)\u001b[0m Run WITHOUT homomorphic encryption\n",
      "\u001b[36m(launch_and_fit pid=12498)\u001b[0m  To get the checkpoint\n",
      "\u001b[36m(launch_and_fit pid=12498)\u001b[0m [Client 3, round 17] fit, config: {'learning_rate': 0.001, 'batch_size': '128', 'server_round': 17, 'local_epochs': 10}\n",
      "\u001b[36m(launch_and_fit pid=12498)\u001b[0m Updated model\n"
     ]
    },
    {
     "name": "stderr",
     "output_type": "stream",
     "text": [
      " 10%|\u001b[34m█         \u001b[0m| 1/10 [00:06<01:00,  6.73s/it]\n",
      "  0%|\u001b[34m          \u001b[0m| 0/10 [00:00<?, ?it/s]\n"
     ]
    },
    {
     "name": "stdout",
     "output_type": "stream",
     "text": [
      "\u001b[36m(launch_and_fit pid=12473)\u001b[0m \tTrain Epoch: 2 \tTrain_loss: 0.2145 | Train_acc: 93.7196 % | Validation_loss: 1.2290 | Validation_acc: 65.3623 %\u001b[32m [repeated 2x across cluster]\u001b[0m\n"
     ]
    },
    {
     "name": "stderr",
     "output_type": "stream",
     "text": [
      " 20%|\u001b[34m██        \u001b[0m| 2/10 [00:12<00:49,  6.17s/it]\u001b[32m [repeated 2x across cluster]\u001b[0m\n"
     ]
    },
    {
     "name": "stdout",
     "output_type": "stream",
     "text": [
      "\u001b[36m(launch_and_fit pid=12473)\u001b[0m \tTrain Epoch: 3 \tTrain_loss: 0.1241 | Train_acc: 96.8880 % | Validation_loss: 1.4193 | Validation_acc: 63.4429 %\u001b[32m [repeated 2x across cluster]\u001b[0m\n"
     ]
    },
    {
     "name": "stderr",
     "output_type": "stream",
     "text": [
      " 30%|\u001b[34m███       \u001b[0m| 3/10 [00:18<00:42,  6.02s/it]\u001b[32m [repeated 2x across cluster]\u001b[0m\n"
     ]
    },
    {
     "name": "stdout",
     "output_type": "stream",
     "text": [
      "\u001b[36m(launch_and_fit pid=12473)\u001b[0m \tTrain Epoch: 4 \tTrain_loss: 0.0985 | Train_acc: 97.4175 % | Validation_loss: 1.3222 | Validation_acc: 67.2212 %\u001b[32m [repeated 2x across cluster]\u001b[0m\n"
     ]
    },
    {
     "name": "stderr",
     "output_type": "stream",
     "text": [
      " 40%|\u001b[34m████      \u001b[0m| 4/10 [00:24<00:35,  5.92s/it]\u001b[32m [repeated 2x across cluster]\u001b[0m\n"
     ]
    },
    {
     "name": "stdout",
     "output_type": "stream",
     "text": [
      "\u001b[36m(launch_and_fit pid=12473)\u001b[0m \tTrain Epoch: 5 \tTrain_loss: 0.1044 | Train_acc: 97.2266 % | Validation_loss: 1.3637 | Validation_acc: 64.5811 %\u001b[32m [repeated 2x across cluster]\u001b[0m\n"
     ]
    },
    {
     "name": "stderr",
     "output_type": "stream",
     "text": [
      " 50%|\u001b[34m█████     \u001b[0m| 5/10 [00:29<00:29,  5.88s/it]\u001b[32m [repeated 2x across cluster]\u001b[0m\n"
     ]
    },
    {
     "name": "stdout",
     "output_type": "stream",
     "text": [
      "\u001b[36m(launch_and_fit pid=12473)\u001b[0m \tTrain Epoch: 6 \tTrain_loss: 0.1048 | Train_acc: 97.4392 % | Validation_loss: 1.3343 | Validation_acc: 66.9652 %\u001b[32m [repeated 2x across cluster]\u001b[0m\n"
     ]
    },
    {
     "name": "stderr",
     "output_type": "stream",
     "text": [
      " 60%|\u001b[34m██████    \u001b[0m| 6/10 [00:36<00:24,  6.12s/it]\u001b[32m [repeated 2x across cluster]\u001b[0m\n"
     ]
    },
    {
     "name": "stdout",
     "output_type": "stream",
     "text": [
      "\u001b[36m(launch_and_fit pid=12473)\u001b[0m \tTrain Epoch: 7 \tTrain_loss: 0.0769 | Train_acc: 98.3507 % | Validation_loss: 1.3786 | Validation_acc: 66.7295 %\u001b[32m [repeated 2x across cluster]\u001b[0m\n"
     ]
    },
    {
     "name": "stderr",
     "output_type": "stream",
     "text": [
      " 70%|\u001b[34m███████   \u001b[0m| 7/10 [00:42<00:18,  6.10s/it]\u001b[32m [repeated 2x across cluster]\u001b[0m\n"
     ]
    },
    {
     "name": "stdout",
     "output_type": "stream",
     "text": [
      "\u001b[36m(launch_and_fit pid=12473)\u001b[0m \tTrain Epoch: 8 \tTrain_loss: 0.0424 | Train_acc: 99.3273 % | Validation_loss: 1.3725 | Validation_acc: 65.5981 %\u001b[32m [repeated 2x across cluster]\u001b[0m\n"
     ]
    },
    {
     "name": "stderr",
     "output_type": "stream",
     "text": [
      " 80%|\u001b[34m████████  \u001b[0m| 8/10 [00:48<00:12,  6.03s/it]\u001b[32m [repeated 2x across cluster]\u001b[0m\n"
     ]
    },
    {
     "name": "stdout",
     "output_type": "stream",
     "text": [
      "\u001b[36m(launch_and_fit pid=12473)\u001b[0m \tTrain Epoch: 9 \tTrain_loss: 0.0261 | Train_acc: 99.8698 % | Validation_loss: 1.3750 | Validation_acc: 66.3591 %\u001b[32m [repeated 2x across cluster]\u001b[0m\n"
     ]
    },
    {
     "name": "stderr",
     "output_type": "stream",
     "text": [
      " 90%|\u001b[34m█████████ \u001b[0m| 9/10 [00:54<00:06,  6.00s/it]\u001b[32m [repeated 2x across cluster]\u001b[0m\n"
     ]
    },
    {
     "name": "stdout",
     "output_type": "stream",
     "text": [
      "\u001b[36m(launch_and_fit pid=12473)\u001b[0m save graph in  results/FL/\n",
      "\u001b[36m(launch_and_fit pid=12473)\u001b[0m \tTrain Epoch: 10 \tTrain_loss: 0.0179 | Train_acc: 99.9566 % | Validation_loss: 1.3538 | Validation_acc: 65.3825 %\u001b[32m [repeated 2x across cluster]\u001b[0m\n"
     ]
    },
    {
     "name": "stderr",
     "output_type": "stream",
     "text": [
      "100%|\u001b[34m██████████\u001b[0m| 10/10 [01:00<00:00,  6.03s/it]\u001b[32m [repeated 2x across cluster]\u001b[0m\n"
     ]
    },
    {
     "name": "stdout",
     "output_type": "stream",
     "text": [
      "\u001b[36m(launch_and_fit pid=12548)\u001b[0m Run WITHOUT homomorphic encryption\n",
      "\u001b[36m(launch_and_fit pid=12548)\u001b[0m  To get the checkpoint\n",
      "\u001b[36m(launch_and_fit pid=12498)\u001b[0m save graph in  results/FL/\n",
      "\u001b[36m(launch_and_fit pid=12498)\u001b[0m \tTrain Epoch: 10 \tTrain_loss: 0.0495 | Train_acc: 99.0885 % | Validation_loss: 1.3243 | Validation_acc: 68.1371 %\n",
      "\u001b[36m(launch_and_fit pid=12548)\u001b[0m [Client 4, round 17] fit, config: {'learning_rate': 0.001, 'batch_size': '128', 'server_round': 17, 'local_epochs': 10}\n",
      "\u001b[36m(launch_and_fit pid=12548)\u001b[0m Updated model\n"
     ]
    },
    {
     "name": "stderr",
     "output_type": "stream",
     "text": [
      "  0%|\u001b[34m          \u001b[0m| 0/10 [00:00<?, ?it/s]\n",
      "100%|\u001b[34m██████████\u001b[0m| 10/10 [00:59<00:00,  5.94s/it]\n"
     ]
    },
    {
     "name": "stdout",
     "output_type": "stream",
     "text": [
      "\u001b[36m(launch_and_fit pid=12548)\u001b[0m \tTrain Epoch: 1 \tTrain_loss: 0.4861 | Train_acc: 85.0130 % | Validation_loss: 1.3315 | Validation_acc: 64.5407 %\n",
      "\u001b[36m(launch_and_fit pid=12573)\u001b[0m Run WITHOUT homomorphic encryption\n",
      "\u001b[36m(launch_and_fit pid=12573)\u001b[0m  To get the checkpoint\n",
      "\u001b[36m(launch_and_fit pid=12573)\u001b[0m [Client 8, round 17] fit, config: {'learning_rate': 0.001, 'batch_size': '128', 'server_round': 17, 'local_epochs': 10}\n",
      "\u001b[36m(launch_and_fit pid=12573)\u001b[0m Updated model\n"
     ]
    },
    {
     "name": "stderr",
     "output_type": "stream",
     "text": [
      " 10%|\u001b[34m█         \u001b[0m| 1/10 [00:06<00:56,  6.27s/it]\n",
      "  0%|\u001b[34m          \u001b[0m| 0/10 [00:00<?, ?it/s]\n"
     ]
    },
    {
     "name": "stdout",
     "output_type": "stream",
     "text": [
      "\u001b[36m(launch_and_fit pid=12548)\u001b[0m \tTrain Epoch: 2 \tTrain_loss: 0.2542 | Train_acc: 92.5998 % | Validation_loss: 1.2614 | Validation_acc: 65.6183 %\u001b[32m [repeated 2x across cluster]\u001b[0m\n"
     ]
    },
    {
     "name": "stderr",
     "output_type": "stream",
     "text": [
      " 20%|\u001b[34m██        \u001b[0m| 2/10 [00:11<00:47,  5.91s/it]\u001b[32m [repeated 2x across cluster]\u001b[0m\n"
     ]
    },
    {
     "name": "stdout",
     "output_type": "stream",
     "text": [
      "\u001b[36m(launch_and_fit pid=12548)\u001b[0m \tTrain Epoch: 3 \tTrain_loss: 0.1527 | Train_acc: 96.0503 % | Validation_loss: 1.3621 | Validation_acc: 67.5714 %\u001b[32m [repeated 2x across cluster]\u001b[0m\n"
     ]
    },
    {
     "name": "stderr",
     "output_type": "stream",
     "text": [
      " 30%|\u001b[34m███       \u001b[0m| 3/10 [00:17<00:40,  5.81s/it]\u001b[32m [repeated 2x across cluster]\u001b[0m\n"
     ]
    },
    {
     "name": "stdout",
     "output_type": "stream",
     "text": [
      "\u001b[36m(launch_and_fit pid=12548)\u001b[0m \tTrain Epoch: 4 \tTrain_loss: 0.1008 | Train_acc: 97.7431 % | Validation_loss: 1.3563 | Validation_acc: 69.8006 %\u001b[32m [repeated 2x across cluster]\u001b[0m\n"
     ]
    },
    {
     "name": "stderr",
     "output_type": "stream",
     "text": [
      " 40%|\u001b[34m████      \u001b[0m| 4/10 [00:23<00:35,  5.85s/it]\u001b[32m [repeated 2x across cluster]\u001b[0m\n"
     ]
    },
    {
     "name": "stdout",
     "output_type": "stream",
     "text": [
      "\u001b[36m(launch_and_fit pid=12548)\u001b[0m \tTrain Epoch: 5 \tTrain_loss: 0.0713 | Train_acc: 98.4722 % | Validation_loss: 1.4174 | Validation_acc: 67.7465 %\u001b[32m [repeated 2x across cluster]\u001b[0m\n"
     ]
    },
    {
     "name": "stderr",
     "output_type": "stream",
     "text": [
      " 50%|\u001b[34m█████     \u001b[0m| 5/10 [00:29<00:29,  5.84s/it]\u001b[32m [repeated 2x across cluster]\u001b[0m\n"
     ]
    },
    {
     "name": "stdout",
     "output_type": "stream",
     "text": [
      "\u001b[36m(launch_and_fit pid=12548)\u001b[0m \tTrain Epoch: 6 \tTrain_loss: 0.0746 | Train_acc: 98.2986 % | Validation_loss: 1.3936 | Validation_acc: 67.3761 %\u001b[32m [repeated 2x across cluster]\u001b[0m\n"
     ]
    },
    {
     "name": "stderr",
     "output_type": "stream",
     "text": [
      " 60%|\u001b[34m██████    \u001b[0m| 6/10 [00:35<00:23,  5.91s/it]\u001b[32m [repeated 2x across cluster]\u001b[0m\n"
     ]
    },
    {
     "name": "stdout",
     "output_type": "stream",
     "text": [
      "\u001b[36m(launch_and_fit pid=12548)\u001b[0m \tTrain Epoch: 7 \tTrain_loss: 0.0621 | Train_acc: 98.9583 % | Validation_loss: 1.3296 | Validation_acc: 70.9927 %\u001b[32m [repeated 2x across cluster]\u001b[0m\n"
     ]
    },
    {
     "name": "stderr",
     "output_type": "stream",
     "text": [
      " 70%|\u001b[34m███████   \u001b[0m| 7/10 [00:41<00:17,  5.90s/it]\u001b[32m [repeated 2x across cluster]\u001b[0m\n"
     ]
    },
    {
     "name": "stdout",
     "output_type": "stream",
     "text": [
      "\u001b[36m(launch_and_fit pid=12548)\u001b[0m \tTrain Epoch: 8 \tTrain_loss: 0.0390 | Train_acc: 99.4358 % | Validation_loss: 1.4027 | Validation_acc: 67.7869 %\u001b[32m [repeated 2x across cluster]\u001b[0m\n"
     ]
    },
    {
     "name": "stderr",
     "output_type": "stream",
     "text": [
      " 80%|\u001b[34m████████  \u001b[0m| 8/10 [00:46<00:11,  5.82s/it]\u001b[32m [repeated 2x across cluster]\u001b[0m\n"
     ]
    },
    {
     "name": "stdout",
     "output_type": "stream",
     "text": [
      "\u001b[36m(launch_and_fit pid=12548)\u001b[0m \tTrain Epoch: 9 \tTrain_loss: 0.0286 | Train_acc: 99.6962 % | Validation_loss: 1.3439 | Validation_acc: 70.5819 %\u001b[32m [repeated 2x across cluster]\u001b[0m\n"
     ]
    },
    {
     "name": "stderr",
     "output_type": "stream",
     "text": [
      " 90%|\u001b[34m█████████ \u001b[0m| 9/10 [00:52<00:05,  5.79s/it]\u001b[32m [repeated 2x across cluster]\u001b[0m\n"
     ]
    },
    {
     "name": "stdout",
     "output_type": "stream",
     "text": [
      "\u001b[36m(launch_and_fit pid=12548)\u001b[0m save graph in  results/FL/\n",
      "\u001b[36m(launch_and_fit pid=12548)\u001b[0m \tTrain Epoch: 10 \tTrain_loss: 0.0223 | Train_acc: 99.7179 % | Validation_loss: 1.4054 | Validation_acc: 68.9790 %\u001b[32m [repeated 2x across cluster]\u001b[0m\n"
     ]
    },
    {
     "name": "stderr",
     "output_type": "stream",
     "text": [
      "100%|\u001b[34m██████████\u001b[0m| 10/10 [00:58<00:00,  5.86s/it]\u001b[32m [repeated 2x across cluster]\u001b[0m\n",
      "DEBUG flwr 2024-07-20 20:23:59,642 | server.py:236 | fit_round 17 received 10 results and 0 failures\n"
     ]
    },
    {
     "name": "stdout",
     "output_type": "stream",
     "text": [
      "Saving round 17 aggregated_parameters...\n",
      "Updated model\n"
     ]
    },
    {
     "name": "stderr",
     "output_type": "stream",
     "text": [
      "INFO flwr 2024-07-20 20:24:05,449 | server.py:125 | fit progress: (17, 1.1708924996701977, {'accuracy': 72.00356012658227}, 7640.138689003001)\n",
      "DEBUG flwr 2024-07-20 20:24:05,450 | server.py:173 | evaluate_round 17: strategy sampled 10 clients (out of 10)\n"
     ]
    },
    {
     "name": "stdout",
     "output_type": "stream",
     "text": [
      "Server-side evaluation loss 1.1708924996701977 / accuracy 72.00356012658227\n",
      "\u001b[36m(launch_and_evaluate pid=12631)\u001b[0m Run WITHOUT homomorphic encryption\n",
      "\u001b[36m(launch_and_evaluate pid=12631)\u001b[0m  To get the checkpoint\n",
      "\u001b[36m(launch_and_fit pid=12573)\u001b[0m save graph in  results/FL/\n",
      "\u001b[36m(launch_and_fit pid=12573)\u001b[0m \tTrain Epoch: 10 \tTrain_loss: 0.0188 | Train_acc: 99.8915 % | Validation_loss: 1.4284 | Validation_acc: 67.7128 %\n",
      "\u001b[36m(launch_and_evaluate pid=12631)\u001b[0m [Client 5] evaluate, config: {}\n",
      "\u001b[36m(launch_and_evaluate pid=12631)\u001b[0m Updated model\n",
      "\u001b[36m(launch_and_evaluate pid=12702)\u001b[0m Run WITHOUT homomorphic encryption\u001b[32m [repeated 2x across cluster]\u001b[0m\n",
      "\u001b[36m(launch_and_evaluate pid=12702)\u001b[0m  To get the checkpoint\u001b[32m [repeated 2x across cluster]\u001b[0m\n",
      "\u001b[36m(launch_and_evaluate pid=12632)\u001b[0m [Client 2] evaluate, config: {}\n",
      "\u001b[36m(launch_and_evaluate pid=12632)\u001b[0m Updated model\n",
      "\u001b[36m(launch_and_evaluate pid=12702)\u001b[0m [Client 4] evaluate, config: {}\n",
      "\u001b[36m(launch_and_evaluate pid=12702)\u001b[0m Updated model\n",
      "\u001b[36m(launch_and_evaluate pid=12773)\u001b[0m Run WITHOUT homomorphic encryption\u001b[32m [repeated 2x across cluster]\u001b[0m\n",
      "\u001b[36m(launch_and_evaluate pid=12773)\u001b[0m  To get the checkpoint\u001b[32m [repeated 2x across cluster]\u001b[0m\n",
      "\u001b[36m(launch_and_evaluate pid=12727)\u001b[0m [Client 1] evaluate, config: {}\n",
      "\u001b[36m(launch_and_evaluate pid=12727)\u001b[0m Updated model\n",
      "\u001b[36m(launch_and_evaluate pid=12773)\u001b[0m [Client 0] evaluate, config: {}\n",
      "\u001b[36m(launch_and_evaluate pid=12773)\u001b[0m Updated model\n",
      "\u001b[36m(launch_and_evaluate pid=12843)\u001b[0m Run WITHOUT homomorphic encryption\u001b[32m [repeated 2x across cluster]\u001b[0m\n",
      "\u001b[36m(launch_and_evaluate pid=12843)\u001b[0m  To get the checkpoint\u001b[32m [repeated 2x across cluster]\u001b[0m\n",
      "\u001b[36m(launch_and_evaluate pid=12775)\u001b[0m [Client 3] evaluate, config: {}\n",
      "\u001b[36m(launch_and_evaluate pid=12775)\u001b[0m Updated model\n",
      "\u001b[36m(launch_and_evaluate pid=12843)\u001b[0m [Client 7] evaluate, config: {}\n",
      "\u001b[36m(launch_and_evaluate pid=12843)\u001b[0m Updated model\n",
      "\u001b[36m(launch_and_evaluate pid=12913)\u001b[0m Run WITHOUT homomorphic encryption\u001b[32m [repeated 2x across cluster]\u001b[0m\n",
      "\u001b[36m(launch_and_evaluate pid=12913)\u001b[0m  To get the checkpoint\u001b[32m [repeated 2x across cluster]\u001b[0m\n",
      "\u001b[36m(launch_and_evaluate pid=12868)\u001b[0m [Client 9] evaluate, config: {}\n",
      "\u001b[36m(launch_and_evaluate pid=12868)\u001b[0m Updated model\n",
      "\u001b[36m(launch_and_evaluate pid=12913)\u001b[0m [Client 6] evaluate, config: {}\n",
      "\u001b[36m(launch_and_evaluate pid=12913)\u001b[0m Updated model\n"
     ]
    },
    {
     "name": "stderr",
     "output_type": "stream",
     "text": [
      "DEBUG flwr 2024-07-20 20:25:22,751 | server.py:187 | evaluate_round 17 received 10 results and 0 failures\n",
      "DEBUG flwr 2024-07-20 20:25:22,752 | server.py:222 | fit_round 18: strategy sampled 10 clients (out of 10)\n"
     ]
    },
    {
     "name": "stdout",
     "output_type": "stream",
     "text": [
      "\u001b[36m(launch_and_fit pid=12992)\u001b[0m Run WITHOUT homomorphic encryption\u001b[32m [repeated 2x across cluster]\u001b[0m\n",
      "\u001b[36m(launch_and_fit pid=12992)\u001b[0m  To get the checkpoint\u001b[32m [repeated 2x across cluster]\u001b[0m\n",
      "\u001b[36m(launch_and_evaluate pid=12938)\u001b[0m [Client 8] evaluate, config: {}\n",
      "\u001b[36m(launch_and_evaluate pid=12938)\u001b[0m Updated model\n"
     ]
    },
    {
     "name": "stderr",
     "output_type": "stream",
     "text": [
      "  0%|\u001b[34m          \u001b[0m| 0/10 [00:00<?, ?it/s]\n",
      "100%|\u001b[34m██████████\u001b[0m| 10/10 [00:59<00:00,  5.96s/it]\n"
     ]
    },
    {
     "name": "stdout",
     "output_type": "stream",
     "text": [
      "\u001b[36m(launch_and_fit pid=12992)\u001b[0m [Client 2, round 18] fit, config: {'learning_rate': 0.001, 'batch_size': '128', 'server_round': 18, 'local_epochs': 10}\n",
      "\u001b[36m(launch_and_fit pid=12992)\u001b[0m Updated model\n"
     ]
    },
    {
     "name": "stderr",
     "output_type": "stream",
     "text": [
      " 10%|\u001b[34m█         \u001b[0m| 1/10 [00:06<00:58,  6.51s/it]\n",
      "  0%|\u001b[34m          \u001b[0m| 0/10 [00:00<?, ?it/s]\n"
     ]
    },
    {
     "name": "stdout",
     "output_type": "stream",
     "text": [
      "\u001b[36m(launch_and_fit pid=12992)\u001b[0m \tTrain Epoch: 1 \tTrain_loss: 0.4278 | Train_acc: 87.4740 % | Validation_loss: 1.1764 | Validation_acc: 67.8071 %\n",
      "\u001b[36m(launch_and_fit pid=13016)\u001b[0m Run WITHOUT homomorphic encryption\n",
      "\u001b[36m(launch_and_fit pid=13016)\u001b[0m  To get the checkpoint\n",
      "\u001b[36m(launch_and_fit pid=13016)\u001b[0m [Client 6, round 18] fit, config: {'learning_rate': 0.001, 'batch_size': '128', 'server_round': 18, 'local_epochs': 10}\n",
      "\u001b[36m(launch_and_fit pid=13016)\u001b[0m Updated model\n"
     ]
    },
    {
     "name": "stderr",
     "output_type": "stream",
     "text": [
      " 20%|\u001b[34m██        \u001b[0m| 2/10 [00:12<00:49,  6.13s/it]\u001b[32m [repeated 2x across cluster]\u001b[0m\n"
     ]
    },
    {
     "name": "stdout",
     "output_type": "stream",
     "text": [
      "\u001b[36m(launch_and_fit pid=12992)\u001b[0m \tTrain Epoch: 2 \tTrain_loss: 0.1968 | Train_acc: 94.3273 % | Validation_loss: 1.2485 | Validation_acc: 68.0361 %\u001b[32m [repeated 2x across cluster]\u001b[0m\n"
     ]
    },
    {
     "name": "stderr",
     "output_type": "stream",
     "text": [
      " 30%|\u001b[34m███       \u001b[0m| 3/10 [00:18<00:42,  6.06s/it]\u001b[32m [repeated 2x across cluster]\u001b[0m\n"
     ]
    },
    {
     "name": "stdout",
     "output_type": "stream",
     "text": [
      "\u001b[36m(launch_and_fit pid=12992)\u001b[0m \tTrain Epoch: 3 \tTrain_loss: 0.1072 | Train_acc: 97.4523 % | Validation_loss: 1.3867 | Validation_acc: 67.8071 %\u001b[32m [repeated 2x across cluster]\u001b[0m\n"
     ]
    },
    {
     "name": "stderr",
     "output_type": "stream",
     "text": [
      " 40%|\u001b[34m████      \u001b[0m| 4/10 [00:24<00:36,  6.13s/it]\u001b[32m [repeated 2x across cluster]\u001b[0m\n"
     ]
    },
    {
     "name": "stdout",
     "output_type": "stream",
     "text": [
      "\u001b[36m(launch_and_fit pid=12992)\u001b[0m \tTrain Epoch: 4 \tTrain_loss: 0.0651 | Train_acc: 98.6762 % | Validation_loss: 1.3135 | Validation_acc: 67.4704 %\u001b[32m [repeated 2x across cluster]\u001b[0m\n"
     ]
    },
    {
     "name": "stderr",
     "output_type": "stream",
     "text": [
      " 50%|\u001b[34m█████     \u001b[0m| 5/10 [00:30<00:30,  6.02s/it]\u001b[32m [repeated 2x across cluster]\u001b[0m\n"
     ]
    },
    {
     "name": "stdout",
     "output_type": "stream",
     "text": [
      "\u001b[36m(launch_and_fit pid=12992)\u001b[0m \tTrain Epoch: 5 \tTrain_loss: 0.0392 | Train_acc: 99.4792 % | Validation_loss: 1.3470 | Validation_acc: 68.0765 %\u001b[32m [repeated 2x across cluster]\u001b[0m\n"
     ]
    },
    {
     "name": "stderr",
     "output_type": "stream",
     "text": [
      " 60%|\u001b[34m██████    \u001b[0m| 6/10 [00:36<00:24,  6.10s/it]\u001b[32m [repeated 2x across cluster]\u001b[0m\n"
     ]
    },
    {
     "name": "stdout",
     "output_type": "stream",
     "text": [
      "\u001b[36m(launch_and_fit pid=12992)\u001b[0m \tTrain Epoch: 6 \tTrain_loss: 0.0257 | Train_acc: 99.7613 % | Validation_loss: 1.3040 | Validation_acc: 68.6422 %\u001b[32m [repeated 2x across cluster]\u001b[0m\n"
     ]
    },
    {
     "name": "stderr",
     "output_type": "stream",
     "text": [
      " 70%|\u001b[34m███████   \u001b[0m| 7/10 [00:42<00:18,  6.10s/it]\u001b[32m [repeated 2x across cluster]\u001b[0m\n"
     ]
    },
    {
     "name": "stdout",
     "output_type": "stream",
     "text": [
      "\u001b[36m(launch_and_fit pid=12992)\u001b[0m \tTrain Epoch: 7 \tTrain_loss: 0.0166 | Train_acc: 99.8698 % | Validation_loss: 1.2941 | Validation_acc: 69.7400 %\u001b[32m [repeated 2x across cluster]\u001b[0m\n"
     ]
    },
    {
     "name": "stderr",
     "output_type": "stream",
     "text": [
      " 80%|\u001b[34m████████  \u001b[0m| 8/10 [00:48<00:12,  6.05s/it]\u001b[32m [repeated 2x across cluster]\u001b[0m\n"
     ]
    },
    {
     "name": "stdout",
     "output_type": "stream",
     "text": [
      "\u001b[36m(launch_and_fit pid=12992)\u001b[0m \tTrain Epoch: 8 \tTrain_loss: 0.0141 | Train_acc: 99.9132 % | Validation_loss: 1.3024 | Validation_acc: 69.8545 %\u001b[32m [repeated 2x across cluster]\u001b[0m\n"
     ]
    },
    {
     "name": "stderr",
     "output_type": "stream",
     "text": [
      " 90%|\u001b[34m█████████ \u001b[0m| 9/10 [00:55<00:06,  6.14s/it]\u001b[32m [repeated 2x across cluster]\u001b[0m\n"
     ]
    },
    {
     "name": "stdout",
     "output_type": "stream",
     "text": [
      "\u001b[36m(launch_and_fit pid=12992)\u001b[0m \tTrain Epoch: 9 \tTrain_loss: 0.0139 | Train_acc: 99.9349 % | Validation_loss: 1.3842 | Validation_acc: 68.8173 %\u001b[32m [repeated 2x across cluster]\u001b[0m\n"
     ]
    },
    {
     "name": "stderr",
     "output_type": "stream",
     "text": [
      "100%|\u001b[34m██████████\u001b[0m| 10/10 [01:01<00:00,  6.15s/it]\u001b[32m [repeated 2x across cluster]\u001b[0m\n"
     ]
    },
    {
     "name": "stdout",
     "output_type": "stream",
     "text": [
      "\u001b[36m(launch_and_fit pid=12992)\u001b[0m save graph in  results/FL/\n",
      "\u001b[36m(launch_and_fit pid=12992)\u001b[0m \tTrain Epoch: 10 \tTrain_loss: 0.0114 | Train_acc: 99.9566 % | Validation_loss: 1.3527 | Validation_acc: 69.2484 %\u001b[32m [repeated 2x across cluster]\u001b[0m\n",
      "\u001b[36m(launch_and_fit pid=13067)\u001b[0m Run WITHOUT homomorphic encryption\n",
      "\u001b[36m(launch_and_fit pid=13067)\u001b[0m  To get the checkpoint\n",
      "\u001b[36m(launch_and_fit pid=13016)\u001b[0m save graph in  results/FL/\n",
      "\u001b[36m(launch_and_fit pid=13016)\u001b[0m \tTrain Epoch: 10 \tTrain_loss: 0.0943 | Train_acc: 97.2352 % | Validation_loss: 1.4082 | Validation_acc: 67.4367 %\n",
      "\u001b[36m(launch_and_fit pid=13067)\u001b[0m [Client 4, round 18] fit, config: {'learning_rate': 0.001, 'batch_size': '128', 'server_round': 18, 'local_epochs': 10}\n",
      "\u001b[36m(launch_and_fit pid=13067)\u001b[0m Updated model\n"
     ]
    },
    {
     "name": "stderr",
     "output_type": "stream",
     "text": [
      "  0%|\u001b[34m          \u001b[0m| 0/10 [00:00<?, ?it/s]\n",
      "100%|\u001b[34m██████████\u001b[0m| 10/10 [01:00<00:00,  6.01s/it]\n"
     ]
    },
    {
     "name": "stdout",
     "output_type": "stream",
     "text": [
      "\u001b[36m(launch_and_fit pid=13067)\u001b[0m \tTrain Epoch: 1 \tTrain_loss: 0.4684 | Train_acc: 85.6858 % | Validation_loss: 1.2250 | Validation_acc: 66.8508 %\n",
      "\u001b[36m(launch_and_fit pid=13091)\u001b[0m Run WITHOUT homomorphic encryption\n",
      "\u001b[36m(launch_and_fit pid=13091)\u001b[0m  To get the checkpoint\n",
      "\u001b[36m(launch_and_fit pid=13091)\u001b[0m [Client 8, round 18] fit, config: {'learning_rate': 0.001, 'batch_size': '128', 'server_round': 18, 'local_epochs': 10}\n",
      "\u001b[36m(launch_and_fit pid=13091)\u001b[0m Updated model\n"
     ]
    },
    {
     "name": "stderr",
     "output_type": "stream",
     "text": [
      " 10%|\u001b[34m█         \u001b[0m| 1/10 [00:06<00:55,  6.16s/it]\n",
      "  0%|\u001b[34m          \u001b[0m| 0/10 [00:00<?, ?it/s]\n"
     ]
    },
    {
     "name": "stdout",
     "output_type": "stream",
     "text": [
      "\u001b[36m(launch_and_fit pid=13067)\u001b[0m \tTrain Epoch: 2 \tTrain_loss: 0.2186 | Train_acc: 93.4418 % | Validation_loss: 1.3822 | Validation_acc: 67.9216 %\u001b[32m [repeated 2x across cluster]\u001b[0m\n"
     ]
    },
    {
     "name": "stderr",
     "output_type": "stream",
     "text": [
      " 20%|\u001b[34m██        \u001b[0m| 2/10 [00:12<00:47,  5.99s/it]\u001b[32m [repeated 2x across cluster]\u001b[0m\n"
     ]
    },
    {
     "name": "stdout",
     "output_type": "stream",
     "text": [
      "\u001b[36m(launch_and_fit pid=13067)\u001b[0m \tTrain Epoch: 3 \tTrain_loss: 0.1182 | Train_acc: 96.8967 % | Validation_loss: 1.4134 | Validation_acc: 68.3728 %\u001b[32m [repeated 2x across cluster]\u001b[0m\n"
     ]
    },
    {
     "name": "stderr",
     "output_type": "stream",
     "text": [
      " 30%|\u001b[34m███       \u001b[0m| 3/10 [00:17<00:41,  5.88s/it]\u001b[32m [repeated 2x across cluster]\u001b[0m\n"
     ]
    },
    {
     "name": "stdout",
     "output_type": "stream",
     "text": [
      "\u001b[36m(launch_and_fit pid=13067)\u001b[0m \tTrain Epoch: 4 \tTrain_loss: 0.0699 | Train_acc: 98.3941 % | Validation_loss: 1.4540 | Validation_acc: 68.1573 %\u001b[32m [repeated 2x across cluster]\u001b[0m\n"
     ]
    },
    {
     "name": "stderr",
     "output_type": "stream",
     "text": [
      " 40%|\u001b[34m████      \u001b[0m| 4/10 [00:23<00:34,  5.80s/it]\u001b[32m [repeated 2x across cluster]\u001b[0m\n"
     ]
    },
    {
     "name": "stdout",
     "output_type": "stream",
     "text": [
      "\u001b[36m(launch_and_fit pid=13067)\u001b[0m \tTrain Epoch: 5 \tTrain_loss: 0.0478 | Train_acc: 99.0885 % | Validation_loss: 1.4521 | Validation_acc: 66.9450 %\u001b[32m [repeated 2x across cluster]\u001b[0m\n"
     ]
    },
    {
     "name": "stderr",
     "output_type": "stream",
     "text": [
      " 50%|\u001b[34m█████     \u001b[0m| 5/10 [00:29<00:28,  5.77s/it]\u001b[32m [repeated 2x across cluster]\u001b[0m\n"
     ]
    },
    {
     "name": "stdout",
     "output_type": "stream",
     "text": [
      "\u001b[36m(launch_and_fit pid=13067)\u001b[0m \tTrain Epoch: 6 \tTrain_loss: 0.0414 | Train_acc: 99.2405 % | Validation_loss: 1.5353 | Validation_acc: 65.5374 %\u001b[32m [repeated 2x across cluster]\u001b[0m\n"
     ]
    },
    {
     "name": "stderr",
     "output_type": "stream",
     "text": [
      " 60%|\u001b[34m██████    \u001b[0m| 6/10 [00:35<00:23,  5.89s/it]\u001b[32m [repeated 2x across cluster]\u001b[0m\n"
     ]
    },
    {
     "name": "stdout",
     "output_type": "stream",
     "text": [
      "\u001b[36m(launch_and_fit pid=13067)\u001b[0m \tTrain Epoch: 7 \tTrain_loss: 0.0433 | Train_acc: 99.2188 % | Validation_loss: 1.4177 | Validation_acc: 68.7837 %\u001b[32m [repeated 2x across cluster]\u001b[0m\n"
     ]
    },
    {
     "name": "stderr",
     "output_type": "stream",
     "text": [
      " 70%|\u001b[34m███████   \u001b[0m| 7/10 [00:41<00:17,  5.88s/it]\u001b[32m [repeated 2x across cluster]\u001b[0m\n"
     ]
    },
    {
     "name": "stdout",
     "output_type": "stream",
     "text": [
      "\u001b[36m(launch_and_fit pid=13067)\u001b[0m \tTrain Epoch: 8 \tTrain_loss: 0.0328 | Train_acc: 99.5877 % | Validation_loss: 1.5396 | Validation_acc: 66.6352 %\u001b[32m [repeated 2x across cluster]\u001b[0m\n"
     ]
    },
    {
     "name": "stderr",
     "output_type": "stream",
     "text": [
      " 80%|\u001b[34m████████  \u001b[0m| 8/10 [00:46<00:11,  5.84s/it]\u001b[32m [repeated 2x across cluster]\u001b[0m\n"
     ]
    },
    {
     "name": "stdout",
     "output_type": "stream",
     "text": [
      "\u001b[36m(launch_and_fit pid=13067)\u001b[0m \tTrain Epoch: 9 \tTrain_loss: 0.0251 | Train_acc: 99.6528 % | Validation_loss: 1.4508 | Validation_acc: 68.0226 %\u001b[32m [repeated 2x across cluster]\u001b[0m\n"
     ]
    },
    {
     "name": "stderr",
     "output_type": "stream",
     "text": [
      " 90%|\u001b[34m█████████ \u001b[0m| 9/10 [00:52<00:05,  5.80s/it]\u001b[32m [repeated 2x across cluster]\u001b[0m\n"
     ]
    },
    {
     "name": "stdout",
     "output_type": "stream",
     "text": [
      "\u001b[36m(launch_and_fit pid=13067)\u001b[0m save graph in  results/FL/\n",
      "\u001b[36m(launch_and_fit pid=13067)\u001b[0m \tTrain Epoch: 10 \tTrain_loss: 0.0194 | Train_acc: 99.7613 % | Validation_loss: 1.4851 | Validation_acc: 69.6255 %\u001b[32m [repeated 2x across cluster]\u001b[0m\n"
     ]
    },
    {
     "name": "stderr",
     "output_type": "stream",
     "text": [
      "100%|\u001b[34m██████████\u001b[0m| 10/10 [00:58<00:00,  5.83s/it]\u001b[32m [repeated 2x across cluster]\u001b[0m\n"
     ]
    },
    {
     "name": "stdout",
     "output_type": "stream",
     "text": [
      "\u001b[36m(launch_and_fit pid=13141)\u001b[0m Run WITHOUT homomorphic encryption\n",
      "\u001b[36m(launch_and_fit pid=13141)\u001b[0m  To get the checkpoint\n",
      "\u001b[36m(launch_and_fit pid=13091)\u001b[0m save graph in  results/FL/\n",
      "\u001b[36m(launch_and_fit pid=13091)\u001b[0m \tTrain Epoch: 10 \tTrain_loss: 0.0197 | Train_acc: 99.8047 % | Validation_loss: 1.5158 | Validation_acc: 66.0695 %\n",
      "\u001b[36m(launch_and_fit pid=13141)\u001b[0m [Client 1, round 18] fit, config: {'learning_rate': 0.001, 'batch_size': '128', 'server_round': 18, 'local_epochs': 10}\n",
      "\u001b[36m(launch_and_fit pid=13141)\u001b[0m Updated model\n"
     ]
    },
    {
     "name": "stderr",
     "output_type": "stream",
     "text": [
      "  0%|\u001b[34m          \u001b[0m| 0/10 [00:00<?, ?it/s]\n",
      "100%|\u001b[34m██████████\u001b[0m| 10/10 [01:00<00:00,  6.03s/it]\n"
     ]
    },
    {
     "name": "stdout",
     "output_type": "stream",
     "text": [
      "\u001b[36m(launch_and_fit pid=13141)\u001b[0m \tTrain Epoch: 1 \tTrain_loss: 0.4136 | Train_acc: 87.1615 % | Validation_loss: 1.1496 | Validation_acc: 70.1576 %\n",
      "\u001b[36m(launch_and_fit pid=13166)\u001b[0m Run WITHOUT homomorphic encryption\n",
      "\u001b[36m(launch_and_fit pid=13166)\u001b[0m  To get the checkpoint\n",
      "\u001b[36m(launch_and_fit pid=13166)\u001b[0m [Client 7, round 18] fit, config: {'learning_rate': 0.001, 'batch_size': '128', 'server_round': 18, 'local_epochs': 10}\n",
      "\u001b[36m(launch_and_fit pid=13166)\u001b[0m Updated model\n"
     ]
    },
    {
     "name": "stderr",
     "output_type": "stream",
     "text": [
      " 10%|\u001b[34m█         \u001b[0m| 1/10 [00:07<01:03,  7.01s/it]\n",
      "  0%|\u001b[34m          \u001b[0m| 0/10 [00:00<?, ?it/s]\n"
     ]
    },
    {
     "name": "stdout",
     "output_type": "stream",
     "text": [
      "\u001b[36m(launch_and_fit pid=13141)\u001b[0m \tTrain Epoch: 2 \tTrain_loss: 0.1914 | Train_acc: 94.1753 % | Validation_loss: 1.1592 | Validation_acc: 70.0970 %\u001b[32m [repeated 2x across cluster]\u001b[0m\n"
     ]
    },
    {
     "name": "stderr",
     "output_type": "stream",
     "text": [
      " 20%|\u001b[34m██        \u001b[0m| 2/10 [00:13<00:51,  6.43s/it]\u001b[32m [repeated 2x across cluster]\u001b[0m\n"
     ]
    },
    {
     "name": "stdout",
     "output_type": "stream",
     "text": [
      "\u001b[36m(launch_and_fit pid=13141)\u001b[0m \tTrain Epoch: 3 \tTrain_loss: 0.1208 | Train_acc: 96.6276 % | Validation_loss: 1.2859 | Validation_acc: 70.3327 %\u001b[32m [repeated 2x across cluster]\u001b[0m\n"
     ]
    },
    {
     "name": "stderr",
     "output_type": "stream",
     "text": [
      " 30%|\u001b[34m███       \u001b[0m| 3/10 [00:18<00:43,  6.17s/it]\u001b[32m [repeated 2x across cluster]\u001b[0m\n"
     ]
    },
    {
     "name": "stdout",
     "output_type": "stream",
     "text": [
      "\u001b[36m(launch_and_fit pid=13141)\u001b[0m \tTrain Epoch: 4 \tTrain_loss: 0.0724 | Train_acc: 98.0903 % | Validation_loss: 1.3172 | Validation_acc: 69.2349 %\u001b[32m [repeated 2x across cluster]\u001b[0m\n"
     ]
    },
    {
     "name": "stderr",
     "output_type": "stream",
     "text": [
      " 40%|\u001b[34m████      \u001b[0m| 4/10 [00:24<00:35,  5.99s/it]\u001b[32m [repeated 2x across cluster]\u001b[0m\n"
     ]
    },
    {
     "name": "stdout",
     "output_type": "stream",
     "text": [
      "\u001b[36m(launch_and_fit pid=13141)\u001b[0m \tTrain Epoch: 5 \tTrain_loss: 0.0498 | Train_acc: 99.2188 % | Validation_loss: 1.2849 | Validation_acc: 70.7233 %\u001b[32m [repeated 2x across cluster]\u001b[0m\n"
     ]
    },
    {
     "name": "stderr",
     "output_type": "stream",
     "text": [
      " 50%|\u001b[34m█████     \u001b[0m| 5/10 [00:30<00:29,  5.96s/it]\u001b[32m [repeated 2x across cluster]\u001b[0m\n"
     ]
    },
    {
     "name": "stdout",
     "output_type": "stream",
     "text": [
      "\u001b[36m(launch_and_fit pid=13141)\u001b[0m \tTrain Epoch: 6 \tTrain_loss: 0.0361 | Train_acc: 99.4358 % | Validation_loss: 1.3404 | Validation_acc: 69.8411 %\u001b[32m [repeated 2x across cluster]\u001b[0m\n"
     ]
    },
    {
     "name": "stderr",
     "output_type": "stream",
     "text": [
      " 60%|\u001b[34m██████    \u001b[0m| 6/10 [00:37<00:24,  6.17s/it]\u001b[32m [repeated 2x across cluster]\u001b[0m\n"
     ]
    },
    {
     "name": "stdout",
     "output_type": "stream",
     "text": [
      "\u001b[36m(launch_and_fit pid=13141)\u001b[0m \tTrain Epoch: 7 \tTrain_loss: 0.0316 | Train_acc: 99.5443 % | Validation_loss: 1.3973 | Validation_acc: 68.9790 %\u001b[32m [repeated 2x across cluster]\u001b[0m\n"
     ]
    },
    {
     "name": "stderr",
     "output_type": "stream",
     "text": [
      " 70%|\u001b[34m███████   \u001b[0m| 7/10 [00:42<00:18,  6.05s/it]\u001b[32m [repeated 2x across cluster]\u001b[0m\n"
     ]
    },
    {
     "name": "stdout",
     "output_type": "stream",
     "text": [
      "\u001b[36m(launch_and_fit pid=13141)\u001b[0m \tTrain Epoch: 8 \tTrain_loss: 0.0283 | Train_acc: 99.5443 % | Validation_loss: 1.3883 | Validation_acc: 70.0364 %\u001b[32m [repeated 2x across cluster]\u001b[0m\n"
     ]
    },
    {
     "name": "stderr",
     "output_type": "stream",
     "text": [
      " 80%|\u001b[34m████████  \u001b[0m| 8/10 [00:48<00:11,  5.99s/it]\u001b[32m [repeated 2x across cluster]\u001b[0m\n"
     ]
    },
    {
     "name": "stdout",
     "output_type": "stream",
     "text": [
      "\u001b[36m(launch_and_fit pid=13141)\u001b[0m \tTrain Epoch: 9 \tTrain_loss: 0.0375 | Train_acc: 99.1884 % | Validation_loss: 1.4770 | Validation_acc: 68.6894 %\u001b[32m [repeated 2x across cluster]\u001b[0m\n"
     ]
    },
    {
     "name": "stderr",
     "output_type": "stream",
     "text": [
      " 90%|\u001b[34m█████████ \u001b[0m| 9/10 [00:54<00:05,  5.94s/it]\u001b[32m [repeated 2x across cluster]\u001b[0m\n"
     ]
    },
    {
     "name": "stdout",
     "output_type": "stream",
     "text": [
      "\u001b[36m(launch_and_fit pid=13141)\u001b[0m save graph in  results/FL/\n",
      "\u001b[36m(launch_and_fit pid=13141)\u001b[0m \tTrain Epoch: 10 \tTrain_loss: 0.0795 | Train_acc: 97.9818 % | Validation_loss: 1.4055 | Validation_acc: 68.6692 %\u001b[32m [repeated 2x across cluster]\u001b[0m\n"
     ]
    },
    {
     "name": "stderr",
     "output_type": "stream",
     "text": [
      "100%|\u001b[34m██████████\u001b[0m| 10/10 [01:00<00:00,  6.03s/it]\u001b[32m [repeated 2x across cluster]\u001b[0m\n"
     ]
    },
    {
     "name": "stdout",
     "output_type": "stream",
     "text": [
      "\u001b[36m(launch_and_fit pid=13215)\u001b[0m Run WITHOUT homomorphic encryption\n",
      "\u001b[36m(launch_and_fit pid=13215)\u001b[0m  To get the checkpoint\n",
      "\u001b[36m(launch_and_fit pid=13166)\u001b[0m save graph in  results/FL/\n",
      "\u001b[36m(launch_and_fit pid=13166)\u001b[0m \tTrain Epoch: 10 \tTrain_loss: 0.0335 | Train_acc: 99.4141 % | Validation_loss: 1.2088 | Validation_acc: 71.1140 %\n"
     ]
    },
    {
     "name": "stderr",
     "output_type": "stream",
     "text": [
      "  0%|\u001b[34m          \u001b[0m| 0/10 [00:00<?, ?it/s]\n",
      "100%|\u001b[34m██████████\u001b[0m| 10/10 [01:01<00:00,  6.14s/it]\n"
     ]
    },
    {
     "name": "stdout",
     "output_type": "stream",
     "text": [
      "\u001b[36m(launch_and_fit pid=13215)\u001b[0m [Client 0, round 18] fit, config: {'learning_rate': 0.001, 'batch_size': '128', 'server_round': 18, 'local_epochs': 10}\n",
      "\u001b[36m(launch_and_fit pid=13215)\u001b[0m Updated model\n"
     ]
    },
    {
     "name": "stderr",
     "output_type": "stream",
     "text": [
      " 10%|\u001b[34m█         \u001b[0m| 1/10 [00:06<00:56,  6.26s/it]\n",
      "  0%|\u001b[34m          \u001b[0m| 0/10 [00:00<?, ?it/s]\n"
     ]
    },
    {
     "name": "stdout",
     "output_type": "stream",
     "text": [
      "\u001b[36m(launch_and_fit pid=13215)\u001b[0m \tTrain Epoch: 1 \tTrain_loss: 0.4391 | Train_acc: 86.3932 % | Validation_loss: 1.0997 | Validation_acc: 70.8917 %\n",
      "\u001b[36m(launch_and_fit pid=13240)\u001b[0m Run WITHOUT homomorphic encryption\n",
      "\u001b[36m(launch_and_fit pid=13240)\u001b[0m  To get the checkpoint\n",
      "\u001b[36m(launch_and_fit pid=13240)\u001b[0m [Client 9, round 18] fit, config: {'learning_rate': 0.001, 'batch_size': '128', 'server_round': 18, 'local_epochs': 10}\n",
      "\u001b[36m(launch_and_fit pid=13240)\u001b[0m Updated model\n"
     ]
    },
    {
     "name": "stderr",
     "output_type": "stream",
     "text": [
      " 20%|\u001b[34m██        \u001b[0m| 2/10 [00:11<00:47,  5.94s/it]\u001b[32m [repeated 2x across cluster]\u001b[0m\n"
     ]
    },
    {
     "name": "stdout",
     "output_type": "stream",
     "text": [
      "\u001b[36m(launch_and_fit pid=13215)\u001b[0m \tTrain Epoch: 2 \tTrain_loss: 0.2115 | Train_acc: 93.7760 % | Validation_loss: 1.2045 | Validation_acc: 69.9555 %\u001b[32m [repeated 2x across cluster]\u001b[0m\n"
     ]
    },
    {
     "name": "stderr",
     "output_type": "stream",
     "text": [
      " 30%|\u001b[34m███       \u001b[0m| 3/10 [00:17<00:41,  5.88s/it]\u001b[32m [repeated 2x across cluster]\u001b[0m\n"
     ]
    },
    {
     "name": "stdout",
     "output_type": "stream",
     "text": [
      "\u001b[36m(launch_and_fit pid=13215)\u001b[0m \tTrain Epoch: 3 \tTrain_loss: 0.1519 | Train_acc: 95.6163 % | Validation_loss: 1.2669 | Validation_acc: 68.8982 %\u001b[32m [repeated 2x across cluster]\u001b[0m\n"
     ]
    },
    {
     "name": "stderr",
     "output_type": "stream",
     "text": [
      " 40%|\u001b[34m████      \u001b[0m| 4/10 [00:23<00:35,  5.89s/it]\u001b[32m [repeated 2x across cluster]\u001b[0m\n"
     ]
    },
    {
     "name": "stdout",
     "output_type": "stream",
     "text": [
      "\u001b[36m(launch_and_fit pid=13215)\u001b[0m \tTrain Epoch: 4 \tTrain_loss: 0.1003 | Train_acc: 97.4002 % | Validation_loss: 1.2359 | Validation_acc: 68.2920 %\u001b[32m [repeated 2x across cluster]\u001b[0m\n"
     ]
    },
    {
     "name": "stderr",
     "output_type": "stream",
     "text": [
      " 50%|\u001b[34m█████     \u001b[0m| 5/10 [00:29<00:29,  5.80s/it]\u001b[32m [repeated 2x across cluster]\u001b[0m\n"
     ]
    },
    {
     "name": "stdout",
     "output_type": "stream",
     "text": [
      "\u001b[36m(launch_and_fit pid=13215)\u001b[0m \tTrain Epoch: 5 \tTrain_loss: 0.0695 | Train_acc: 98.5243 % | Validation_loss: 1.3545 | Validation_acc: 68.3930 %\u001b[32m [repeated 2x across cluster]\u001b[0m\n"
     ]
    },
    {
     "name": "stderr",
     "output_type": "stream",
     "text": [
      " 60%|\u001b[34m██████    \u001b[0m| 6/10 [00:35<00:23,  5.88s/it]\u001b[32m [repeated 2x across cluster]\u001b[0m\n"
     ]
    },
    {
     "name": "stdout",
     "output_type": "stream",
     "text": [
      "\u001b[36m(launch_and_fit pid=13215)\u001b[0m \tTrain Epoch: 6 \tTrain_loss: 0.0574 | Train_acc: 98.6111 % | Validation_loss: 1.3862 | Validation_acc: 68.9184 %\u001b[32m [repeated 2x across cluster]\u001b[0m\n"
     ]
    },
    {
     "name": "stderr",
     "output_type": "stream",
     "text": [
      " 70%|\u001b[34m███████   \u001b[0m| 7/10 [00:41<00:17,  5.82s/it]\u001b[32m [repeated 2x across cluster]\u001b[0m\n"
     ]
    },
    {
     "name": "stdout",
     "output_type": "stream",
     "text": [
      "\u001b[36m(launch_and_fit pid=13215)\u001b[0m \tTrain Epoch: 7 \tTrain_loss: 0.0412 | Train_acc: 99.2839 % | Validation_loss: 1.3784 | Validation_acc: 68.8578 %\u001b[32m [repeated 2x across cluster]\u001b[0m\n"
     ]
    },
    {
     "name": "stderr",
     "output_type": "stream",
     "text": [
      " 80%|\u001b[34m████████  \u001b[0m| 8/10 [00:46<00:11,  5.84s/it]\u001b[32m [repeated 2x across cluster]\u001b[0m\n"
     ]
    },
    {
     "name": "stdout",
     "output_type": "stream",
     "text": [
      "\u001b[36m(launch_and_fit pid=13215)\u001b[0m \tTrain Epoch: 8 \tTrain_loss: 0.0248 | Train_acc: 99.7830 % | Validation_loss: 1.4550 | Validation_acc: 67.0797 %\u001b[32m [repeated 2x across cluster]\u001b[0m\n"
     ]
    },
    {
     "name": "stderr",
     "output_type": "stream",
     "text": [
      " 90%|\u001b[34m█████████ \u001b[0m| 9/10 [00:52<00:05,  5.76s/it]\u001b[32m [repeated 2x across cluster]\u001b[0m\n"
     ]
    },
    {
     "name": "stdout",
     "output_type": "stream",
     "text": [
      "\u001b[36m(launch_and_fit pid=13215)\u001b[0m \tTrain Epoch: 9 \tTrain_loss: 0.0174 | Train_acc: 99.8698 % | Validation_loss: 1.3723 | Validation_acc: 68.2516 %\u001b[32m [repeated 2x across cluster]\u001b[0m\n"
     ]
    },
    {
     "name": "stderr",
     "output_type": "stream",
     "text": [
      "100%|\u001b[34m██████████\u001b[0m| 10/10 [00:58<00:00,  5.84s/it]\u001b[32m [repeated 2x across cluster]\u001b[0m\n"
     ]
    },
    {
     "name": "stdout",
     "output_type": "stream",
     "text": [
      "\u001b[36m(launch_and_fit pid=13215)\u001b[0m save graph in  results/FL/\n",
      "\u001b[36m(launch_and_fit pid=13215)\u001b[0m \tTrain Epoch: 10 \tTrain_loss: 0.0142 | Train_acc: 99.8915 % | Validation_loss: 1.3513 | Validation_acc: 69.7198 %\u001b[32m [repeated 2x across cluster]\u001b[0m\n",
      "\u001b[36m(launch_and_fit pid=13289)\u001b[0m Run WITHOUT homomorphic encryption\n",
      "\u001b[36m(launch_and_fit pid=13289)\u001b[0m  To get the checkpoint\n",
      "\u001b[36m(launch_and_fit pid=13240)\u001b[0m save graph in  results/FL/\n",
      "\u001b[36m(launch_and_fit pid=13240)\u001b[0m \tTrain Epoch: 10 \tTrain_loss: 0.0209 | Train_acc: 99.7830 % | Validation_loss: 1.3799 | Validation_acc: 69.2551 %\n"
     ]
    },
    {
     "name": "stderr",
     "output_type": "stream",
     "text": [
      "  0%|\u001b[34m          \u001b[0m| 0/10 [00:00<?, ?it/s]\n",
      "100%|\u001b[34m██████████\u001b[0m| 10/10 [00:58<00:00,  5.87s/it]\n"
     ]
    },
    {
     "name": "stdout",
     "output_type": "stream",
     "text": [
      "\u001b[36m(launch_and_fit pid=13289)\u001b[0m [Client 3, round 18] fit, config: {'learning_rate': 0.001, 'batch_size': '128', 'server_round': 18, 'local_epochs': 10}\n",
      "\u001b[36m(launch_and_fit pid=13289)\u001b[0m Updated model\n"
     ]
    },
    {
     "name": "stderr",
     "output_type": "stream",
     "text": [
      " 10%|\u001b[34m█         \u001b[0m| 1/10 [00:06<00:57,  6.40s/it]\n",
      "  0%|\u001b[34m          \u001b[0m| 0/10 [00:00<?, ?it/s]\n"
     ]
    },
    {
     "name": "stdout",
     "output_type": "stream",
     "text": [
      "\u001b[36m(launch_and_fit pid=13289)\u001b[0m \tTrain Epoch: 1 \tTrain_loss: 0.4499 | Train_acc: 85.6597 % | Validation_loss: 1.1407 | Validation_acc: 69.6053 %\n",
      "\u001b[36m(launch_and_fit pid=13314)\u001b[0m Run WITHOUT homomorphic encryption\n",
      "\u001b[36m(launch_and_fit pid=13314)\u001b[0m  To get the checkpoint\n",
      "\u001b[36m(launch_and_fit pid=13314)\u001b[0m [Client 5, round 18] fit, config: {'learning_rate': 0.001, 'batch_size': '128', 'server_round': 18, 'local_epochs': 10}\n",
      "\u001b[36m(launch_and_fit pid=13314)\u001b[0m Updated model\n"
     ]
    },
    {
     "name": "stderr",
     "output_type": "stream",
     "text": [
      " 20%|\u001b[34m██        \u001b[0m| 2/10 [00:12<00:48,  6.01s/it]\u001b[32m [repeated 2x across cluster]\u001b[0m\n"
     ]
    },
    {
     "name": "stdout",
     "output_type": "stream",
     "text": [
      "\u001b[36m(launch_and_fit pid=13289)\u001b[0m \tTrain Epoch: 2 \tTrain_loss: 0.1808 | Train_acc: 95.1085 % | Validation_loss: 1.1478 | Validation_acc: 70.6223 %\u001b[32m [repeated 2x across cluster]\u001b[0m\n"
     ]
    },
    {
     "name": "stderr",
     "output_type": "stream",
     "text": [
      " 30%|\u001b[34m███       \u001b[0m| 3/10 [00:18<00:42,  6.14s/it]\u001b[32m [repeated 2x across cluster]\u001b[0m\n"
     ]
    },
    {
     "name": "stdout",
     "output_type": "stream",
     "text": [
      "\u001b[36m(launch_and_fit pid=13289)\u001b[0m \tTrain Epoch: 3 \tTrain_loss: 0.1160 | Train_acc: 96.9878 % | Validation_loss: 1.1457 | Validation_acc: 72.5552 %\u001b[32m [repeated 2x across cluster]\u001b[0m\n"
     ]
    },
    {
     "name": "stderr",
     "output_type": "stream",
     "text": [
      " 40%|\u001b[34m████      \u001b[0m| 4/10 [00:24<00:36,  6.11s/it]\u001b[32m [repeated 2x across cluster]\u001b[0m\n"
     ]
    },
    {
     "name": "stdout",
     "output_type": "stream",
     "text": [
      "\u001b[36m(launch_and_fit pid=13289)\u001b[0m \tTrain Epoch: 4 \tTrain_loss: 0.0783 | Train_acc: 98.0252 % | Validation_loss: 1.2280 | Validation_acc: 72.5956 %\u001b[32m [repeated 2x across cluster]\u001b[0m\n"
     ]
    },
    {
     "name": "stderr",
     "output_type": "stream",
     "text": [
      " 50%|\u001b[34m█████     \u001b[0m| 5/10 [00:30<00:29,  5.99s/it]\u001b[32m [repeated 2x across cluster]\u001b[0m\n"
     ]
    },
    {
     "name": "stdout",
     "output_type": "stream",
     "text": [
      "\u001b[36m(launch_and_fit pid=13289)\u001b[0m \tTrain Epoch: 5 \tTrain_loss: 0.0623 | Train_acc: 98.5243 % | Validation_loss: 1.2982 | Validation_acc: 71.6393 %\u001b[32m [repeated 2x across cluster]\u001b[0m\n"
     ]
    },
    {
     "name": "stderr",
     "output_type": "stream",
     "text": [
      " 60%|\u001b[34m██████    \u001b[0m| 6/10 [00:36<00:24,  6.10s/it]\u001b[32m [repeated 2x across cluster]\u001b[0m\n"
     ]
    },
    {
     "name": "stdout",
     "output_type": "stream",
     "text": [
      "\u001b[36m(launch_and_fit pid=13289)\u001b[0m \tTrain Epoch: 6 \tTrain_loss: 0.0412 | Train_acc: 99.3707 % | Validation_loss: 1.2463 | Validation_acc: 69.6255 %\u001b[32m [repeated 2x across cluster]\u001b[0m\n"
     ]
    },
    {
     "name": "stderr",
     "output_type": "stream",
     "text": [
      " 70%|\u001b[34m███████   \u001b[0m| 7/10 [00:42<00:18,  6.05s/it]\u001b[32m [repeated 2x across cluster]\u001b[0m\n"
     ]
    },
    {
     "name": "stdout",
     "output_type": "stream",
     "text": [
      "\u001b[36m(launch_and_fit pid=13289)\u001b[0m \tTrain Epoch: 7 \tTrain_loss: 0.0396 | Train_acc: 99.3056 % | Validation_loss: 1.2019 | Validation_acc: 71.0129 %\u001b[32m [repeated 2x across cluster]\u001b[0m\n"
     ]
    },
    {
     "name": "stderr",
     "output_type": "stream",
     "text": [
      " 80%|\u001b[34m████████  \u001b[0m| 8/10 [00:48<00:12,  6.08s/it]\u001b[32m [repeated 2x across cluster]\u001b[0m\n"
     ]
    },
    {
     "name": "stdout",
     "output_type": "stream",
     "text": [
      "\u001b[36m(launch_and_fit pid=13289)\u001b[0m \tTrain Epoch: 8 \tTrain_loss: 0.0435 | Train_acc: 99.1102 % | Validation_loss: 1.2623 | Validation_acc: 70.1711 %\u001b[32m [repeated 2x across cluster]\u001b[0m\n"
     ]
    },
    {
     "name": "stderr",
     "output_type": "stream",
     "text": [
      " 90%|\u001b[34m█████████ \u001b[0m| 9/10 [00:54<00:06,  6.01s/it]\u001b[32m [repeated 2x across cluster]\u001b[0m\n"
     ]
    },
    {
     "name": "stdout",
     "output_type": "stream",
     "text": [
      "\u001b[36m(launch_and_fit pid=13289)\u001b[0m \tTrain Epoch: 9 \tTrain_loss: 0.0341 | Train_acc: 99.5443 % | Validation_loss: 1.1589 | Validation_acc: 71.6797 %\u001b[32m [repeated 2x across cluster]\u001b[0m\n"
     ]
    },
    {
     "name": "stderr",
     "output_type": "stream",
     "text": [
      "100%|\u001b[34m██████████\u001b[0m| 10/10 [01:00<00:00,  6.01s/it]\u001b[32m [repeated 2x across cluster]\u001b[0m\n"
     ]
    },
    {
     "name": "stdout",
     "output_type": "stream",
     "text": [
      "\u001b[36m(launch_and_fit pid=13289)\u001b[0m save graph in  results/FL/\n",
      "\u001b[36m(launch_and_fit pid=13289)\u001b[0m \tTrain Epoch: 10 \tTrain_loss: 0.0522 | Train_acc: 99.0451 % | Validation_loss: 1.3378 | Validation_acc: 70.0162 %\u001b[32m [repeated 2x across cluster]\u001b[0m\n"
     ]
    },
    {
     "name": "stderr",
     "output_type": "stream",
     "text": [
      "DEBUG flwr 2024-07-20 20:31:32,291 | server.py:236 | fit_round 18 received 10 results and 0 failures\n"
     ]
    },
    {
     "name": "stdout",
     "output_type": "stream",
     "text": [
      "Saving round 18 aggregated_parameters...\n",
      "Updated model\n"
     ]
    },
    {
     "name": "stderr",
     "output_type": "stream",
     "text": [
      "INFO flwr 2024-07-20 20:31:37,963 | server.py:125 | fit progress: (18, 1.1848890887031072, {'accuracy': 72.1123417721519}, 8092.652994463)\n",
      "DEBUG flwr 2024-07-20 20:31:37,964 | server.py:173 | evaluate_round 18: strategy sampled 10 clients (out of 10)\n"
     ]
    },
    {
     "name": "stdout",
     "output_type": "stream",
     "text": [
      "Server-side evaluation loss 1.1848890887031072 / accuracy 72.1123417721519\n",
      "\u001b[36m(launch_and_evaluate pid=13372)\u001b[0m Run WITHOUT homomorphic encryption\n",
      "\u001b[36m(launch_and_evaluate pid=13372)\u001b[0m  To get the checkpoint\n",
      "\u001b[36m(launch_and_fit pid=13314)\u001b[0m save graph in  results/FL/\n",
      "\u001b[36m(launch_and_fit pid=13314)\u001b[0m \tTrain Epoch: 10 \tTrain_loss: 0.0149 | Train_acc: 99.8698 % | Validation_loss: 1.2359 | Validation_acc: 70.2654 %\n",
      "\u001b[36m(launch_and_evaluate pid=13372)\u001b[0m [Client 3] evaluate, config: {}\n",
      "\u001b[36m(launch_and_evaluate pid=13372)\u001b[0m Updated model\n",
      "\u001b[36m(launch_and_evaluate pid=13442)\u001b[0m Run WITHOUT homomorphic encryption\u001b[32m [repeated 2x across cluster]\u001b[0m\n",
      "\u001b[36m(launch_and_evaluate pid=13442)\u001b[0m  To get the checkpoint\u001b[32m [repeated 2x across cluster]\u001b[0m\n",
      "\u001b[36m(launch_and_evaluate pid=13373)\u001b[0m [Client 7] evaluate, config: {}\n",
      "\u001b[36m(launch_and_evaluate pid=13373)\u001b[0m Updated model\n",
      "\u001b[36m(launch_and_evaluate pid=13442)\u001b[0m [Client 9] evaluate, config: {}\n",
      "\u001b[36m(launch_and_evaluate pid=13442)\u001b[0m Updated model\n",
      "\u001b[36m(launch_and_evaluate pid=13515)\u001b[0m Run WITHOUT homomorphic encryption\u001b[32m [repeated 2x across cluster]\u001b[0m\n",
      "\u001b[36m(launch_and_evaluate pid=13515)\u001b[0m  To get the checkpoint\u001b[32m [repeated 2x across cluster]\u001b[0m\n",
      "\u001b[36m(launch_and_evaluate pid=13444)\u001b[0m [Client 0] evaluate, config: {}\n",
      "\u001b[36m(launch_and_evaluate pid=13444)\u001b[0m Updated model\n",
      "\u001b[36m(launch_and_evaluate pid=13515)\u001b[0m [Client 5] evaluate, config: {}\n",
      "\u001b[36m(launch_and_evaluate pid=13515)\u001b[0m Updated model\n",
      "\u001b[36m(launch_and_evaluate pid=13583)\u001b[0m Run WITHOUT homomorphic encryption\u001b[32m [repeated 2x across cluster]\u001b[0m\n",
      "\u001b[36m(launch_and_evaluate pid=13583)\u001b[0m  To get the checkpoint\u001b[32m [repeated 2x across cluster]\u001b[0m\n",
      "\u001b[36m(launch_and_evaluate pid=13513)\u001b[0m [Client 2] evaluate, config: {}\n",
      "\u001b[36m(launch_and_evaluate pid=13513)\u001b[0m Updated model\n",
      "\u001b[36m(launch_and_evaluate pid=13583)\u001b[0m [Client 8] evaluate, config: {}\n",
      "\u001b[36m(launch_and_evaluate pid=13583)\u001b[0m Updated model\n",
      "\u001b[36m(launch_and_evaluate pid=13653)\u001b[0m Run WITHOUT homomorphic encryption\u001b[32m [repeated 2x across cluster]\u001b[0m\n",
      "\u001b[36m(launch_and_evaluate pid=13653)\u001b[0m  To get the checkpoint\u001b[32m [repeated 2x across cluster]\u001b[0m\n",
      "\u001b[36m(launch_and_evaluate pid=13585)\u001b[0m [Client 1] evaluate, config: {}\n",
      "\u001b[36m(launch_and_evaluate pid=13585)\u001b[0m Updated model\n",
      "\u001b[36m(launch_and_evaluate pid=13653)\u001b[0m [Client 4] evaluate, config: {}\n",
      "\u001b[36m(launch_and_evaluate pid=13653)\u001b[0m Updated model\n"
     ]
    },
    {
     "name": "stderr",
     "output_type": "stream",
     "text": [
      "DEBUG flwr 2024-07-20 20:32:55,357 | server.py:187 | evaluate_round 18 received 10 results and 0 failures\n",
      "DEBUG flwr 2024-07-20 20:32:55,359 | server.py:222 | fit_round 19: strategy sampled 10 clients (out of 10)\n"
     ]
    },
    {
     "name": "stdout",
     "output_type": "stream",
     "text": [
      "\u001b[36m(launch_and_fit pid=13732)\u001b[0m Run WITHOUT homomorphic encryption\u001b[32m [repeated 2x across cluster]\u001b[0m\n",
      "\u001b[36m(launch_and_fit pid=13732)\u001b[0m  To get the checkpoint\u001b[32m [repeated 2x across cluster]\u001b[0m\n",
      "\u001b[36m(launch_and_evaluate pid=13655)\u001b[0m [Client 6] evaluate, config: {}\n",
      "\u001b[36m(launch_and_evaluate pid=13655)\u001b[0m Updated model\n",
      "\u001b[36m(launch_and_fit pid=13732)\u001b[0m [Client 2, round 19] fit, config: {'learning_rate': 0.001, 'batch_size': '128', 'server_round': 19, 'local_epochs': 10}\n",
      "\u001b[36m(launch_and_fit pid=13732)\u001b[0m Updated model\n"
     ]
    },
    {
     "name": "stderr",
     "output_type": "stream",
     "text": [
      "  0%|\u001b[34m          \u001b[0m| 0/10 [00:00<?, ?it/s]\n",
      "100%|\u001b[34m██████████\u001b[0m| 10/10 [00:59<00:00,  5.95s/it]\n"
     ]
    },
    {
     "name": "stdout",
     "output_type": "stream",
     "text": [
      "\u001b[36m(launch_and_fit pid=13732)\u001b[0m \tTrain Epoch: 1 \tTrain_loss: 0.3663 | Train_acc: 88.4896 % | Validation_loss: 1.2151 | Validation_acc: 66.5140 %\n",
      "\u001b[36m(launch_and_fit pid=13757)\u001b[0m Run WITHOUT homomorphic encryption\n",
      "\u001b[36m(launch_and_fit pid=13757)\u001b[0m  To get the checkpoint\n",
      "\u001b[36m(launch_and_fit pid=13757)\u001b[0m [Client 3, round 19] fit, config: {'learning_rate': 0.001, 'batch_size': '128', 'server_round': 19, 'local_epochs': 10}\n",
      "\u001b[36m(launch_and_fit pid=13757)\u001b[0m Updated model\n"
     ]
    },
    {
     "name": "stderr",
     "output_type": "stream",
     "text": [
      " 10%|\u001b[34m█         \u001b[0m| 1/10 [00:06<00:56,  6.26s/it]\n",
      "  0%|\u001b[34m          \u001b[0m| 0/10 [00:00<?, ?it/s]\n"
     ]
    },
    {
     "name": "stdout",
     "output_type": "stream",
     "text": [
      "\u001b[36m(launch_and_fit pid=13732)\u001b[0m \tTrain Epoch: 2 \tTrain_loss: 0.1758 | Train_acc: 95.1953 % | Validation_loss: 1.3900 | Validation_acc: 64.8909 %\u001b[32m [repeated 2x across cluster]\u001b[0m\n"
     ]
    },
    {
     "name": "stderr",
     "output_type": "stream",
     "text": [
      " 20%|\u001b[34m██        \u001b[0m| 2/10 [00:12<00:50,  6.25s/it]\u001b[32m [repeated 2x across cluster]\u001b[0m\n"
     ]
    },
    {
     "name": "stdout",
     "output_type": "stream",
     "text": [
      "\u001b[36m(launch_and_fit pid=13732)\u001b[0m \tTrain Epoch: 3 \tTrain_loss: 0.1245 | Train_acc: 96.6623 % | Validation_loss: 1.3753 | Validation_acc: 65.7328 %\u001b[32m [repeated 2x across cluster]\u001b[0m\n"
     ]
    },
    {
     "name": "stderr",
     "output_type": "stream",
     "text": [
      " 30%|\u001b[34m███       \u001b[0m| 3/10 [00:18<00:43,  6.14s/it]\u001b[32m [repeated 2x across cluster]\u001b[0m\n"
     ]
    },
    {
     "name": "stdout",
     "output_type": "stream",
     "text": [
      "\u001b[36m(launch_and_fit pid=13732)\u001b[0m \tTrain Epoch: 4 \tTrain_loss: 0.1293 | Train_acc: 96.2240 % | Validation_loss: 1.3758 | Validation_acc: 66.6891 %\u001b[32m [repeated 2x across cluster]\u001b[0m\n"
     ]
    },
    {
     "name": "stderr",
     "output_type": "stream",
     "text": [
      " 40%|\u001b[34m████      \u001b[0m| 4/10 [00:24<00:36,  6.03s/it]\u001b[32m [repeated 2x across cluster]\u001b[0m\n"
     ]
    },
    {
     "name": "stdout",
     "output_type": "stream",
     "text": [
      "\u001b[36m(launch_and_fit pid=13732)\u001b[0m \tTrain Epoch: 5 \tTrain_loss: 0.0872 | Train_acc: 97.8082 % | Validation_loss: 1.3755 | Validation_acc: 68.5075 %\u001b[32m [repeated 2x across cluster]\u001b[0m\n"
     ]
    },
    {
     "name": "stderr",
     "output_type": "stream",
     "text": [
      " 50%|\u001b[34m█████     \u001b[0m| 5/10 [00:30<00:29,  5.98s/it]\u001b[32m [repeated 2x across cluster]\u001b[0m\n"
     ]
    },
    {
     "name": "stdout",
     "output_type": "stream",
     "text": [
      "\u001b[36m(launch_and_fit pid=13732)\u001b[0m \tTrain Epoch: 6 \tTrain_loss: 0.0572 | Train_acc: 98.7413 % | Validation_loss: 1.4002 | Validation_acc: 67.5108 %\u001b[32m [repeated 2x across cluster]\u001b[0m\n"
     ]
    },
    {
     "name": "stderr",
     "output_type": "stream",
     "text": [
      " 60%|\u001b[34m██████    \u001b[0m| 6/10 [00:36<00:24,  6.01s/it]\u001b[32m [repeated 2x across cluster]\u001b[0m\n"
     ]
    },
    {
     "name": "stdout",
     "output_type": "stream",
     "text": [
      "\u001b[36m(launch_and_fit pid=13732)\u001b[0m \tTrain Epoch: 7 \tTrain_loss: 0.0337 | Train_acc: 99.4792 % | Validation_loss: 1.3652 | Validation_acc: 66.8036 %\u001b[32m [repeated 2x across cluster]\u001b[0m\n"
     ]
    },
    {
     "name": "stderr",
     "output_type": "stream",
     "text": [
      " 70%|\u001b[34m███████   \u001b[0m| 7/10 [00:42<00:18,  6.03s/it]\u001b[32m [repeated 2x across cluster]\u001b[0m\n"
     ]
    },
    {
     "name": "stdout",
     "output_type": "stream",
     "text": [
      "\u001b[36m(launch_and_fit pid=13732)\u001b[0m \tTrain Epoch: 8 \tTrain_loss: 0.0172 | Train_acc: 99.8915 % | Validation_loss: 1.3278 | Validation_acc: 66.7093 %\u001b[32m [repeated 2x across cluster]\u001b[0m\n"
     ]
    },
    {
     "name": "stderr",
     "output_type": "stream",
     "text": [
      " 80%|\u001b[34m████████  \u001b[0m| 8/10 [00:48<00:11,  5.98s/it]\u001b[32m [repeated 2x across cluster]\u001b[0m\n"
     ]
    },
    {
     "name": "stdout",
     "output_type": "stream",
     "text": [
      "\u001b[36m(launch_and_fit pid=13732)\u001b[0m \tTrain Epoch: 9 \tTrain_loss: 0.0125 | Train_acc: 99.9566 % | Validation_loss: 1.3284 | Validation_acc: 70.1307 %\u001b[32m [repeated 2x across cluster]\u001b[0m\n"
     ]
    },
    {
     "name": "stderr",
     "output_type": "stream",
     "text": [
      " 90%|\u001b[34m█████████ \u001b[0m| 9/10 [00:54<00:05,  5.95s/it]\u001b[32m [repeated 2x across cluster]\u001b[0m\n"
     ]
    },
    {
     "name": "stdout",
     "output_type": "stream",
     "text": [
      "\u001b[36m(launch_and_fit pid=13732)\u001b[0m save graph in  results/FL/\n",
      "\u001b[36m(launch_and_fit pid=13732)\u001b[0m \tTrain Epoch: 10 \tTrain_loss: 0.0094 | Train_acc: 99.9783 % | Validation_loss: 1.3229 | Validation_acc: 67.6657 %\u001b[32m [repeated 2x across cluster]\u001b[0m\n"
     ]
    },
    {
     "name": "stderr",
     "output_type": "stream",
     "text": [
      "100%|\u001b[34m██████████\u001b[0m| 10/10 [00:59<00:00,  6.00s/it]\u001b[32m [repeated 2x across cluster]\u001b[0m\n"
     ]
    },
    {
     "name": "stdout",
     "output_type": "stream",
     "text": [
      "\u001b[36m(launch_and_fit pid=13757)\u001b[0m save graph in  results/FL/\n",
      "\u001b[36m(launch_and_fit pid=13757)\u001b[0m \tTrain Epoch: 10 \tTrain_loss: 0.0106 | Train_acc: 99.9349 % | Validation_loss: 1.1512 | Validation_acc: 71.5585 %\n"
     ]
    },
    {
     "name": "stderr",
     "output_type": "stream",
     "text": [
      "100%|\u001b[34m██████████\u001b[0m| 10/10 [01:00<00:00,  6.10s/it]\n"
     ]
    },
    {
     "name": "stdout",
     "output_type": "stream",
     "text": [
      "\u001b[36m(launch_and_fit pid=13805)\u001b[0m Run WITHOUT homomorphic encryption\n",
      "\u001b[36m(launch_and_fit pid=13805)\u001b[0m  To get the checkpoint\n",
      "\u001b[36m(launch_and_fit pid=13805)\u001b[0m [Client 4, round 19] fit, config: {'learning_rate': 0.001, 'batch_size': '128', 'server_round': 19, 'local_epochs': 10}\n",
      "\u001b[36m(launch_and_fit pid=13805)\u001b[0m Updated model\n"
     ]
    },
    {
     "name": "stderr",
     "output_type": "stream",
     "text": [
      "  0%|\u001b[34m          \u001b[0m| 0/10 [00:00<?, ?it/s]\n"
     ]
    },
    {
     "name": "stdout",
     "output_type": "stream",
     "text": [
      "\u001b[36m(launch_and_fit pid=13831)\u001b[0m Run WITHOUT homomorphic encryption\n",
      "\u001b[36m(launch_and_fit pid=13831)\u001b[0m  To get the checkpoint\n",
      "\u001b[36m(launch_and_fit pid=13831)\u001b[0m [Client 5, round 19] fit, config: {'learning_rate': 0.001, 'batch_size': '128', 'server_round': 19, 'local_epochs': 10}\n",
      "\u001b[36m(launch_and_fit pid=13831)\u001b[0m Updated model\n"
     ]
    },
    {
     "name": "stderr",
     "output_type": "stream",
     "text": [
      "  0%|\u001b[34m          \u001b[0m| 0/10 [00:00<?, ?it/s]\n"
     ]
    },
    {
     "name": "stdout",
     "output_type": "stream",
     "text": [
      "\u001b[36m(launch_and_fit pid=13805)\u001b[0m \tTrain Epoch: 1 \tTrain_loss: 0.3944 | Train_acc: 87.6042 % | Validation_loss: 1.2008 | Validation_acc: 67.7869 %\n"
     ]
    },
    {
     "name": "stderr",
     "output_type": "stream",
     "text": [
      " 10%|\u001b[34m█         \u001b[0m| 1/10 [00:06<00:58,  6.52s/it]\n"
     ]
    },
    {
     "name": "stdout",
     "output_type": "stream",
     "text": [
      "\u001b[36m(launch_and_fit pid=13805)\u001b[0m \tTrain Epoch: 2 \tTrain_loss: 0.1702 | Train_acc: 95.2040 % | Validation_loss: 1.2878 | Validation_acc: 67.9822 %\u001b[32m [repeated 2x across cluster]\u001b[0m\n"
     ]
    },
    {
     "name": "stderr",
     "output_type": "stream",
     "text": [
      " 20%|\u001b[34m██        \u001b[0m| 2/10 [00:12<00:48,  6.01s/it]\u001b[32m [repeated 2x across cluster]\u001b[0m\n"
     ]
    },
    {
     "name": "stdout",
     "output_type": "stream",
     "text": [
      "\u001b[36m(launch_and_fit pid=13805)\u001b[0m \tTrain Epoch: 3 \tTrain_loss: 0.1153 | Train_acc: 96.8533 % | Validation_loss: 1.3653 | Validation_acc: 66.1234 %\u001b[32m [repeated 2x across cluster]\u001b[0m\n"
     ]
    },
    {
     "name": "stderr",
     "output_type": "stream",
     "text": [
      " 30%|\u001b[34m███       \u001b[0m| 3/10 [00:17<00:41,  5.90s/it]\u001b[32m [repeated 2x across cluster]\u001b[0m\n"
     ]
    },
    {
     "name": "stdout",
     "output_type": "stream",
     "text": [
      "\u001b[36m(launch_and_fit pid=13805)\u001b[0m \tTrain Epoch: 4 \tTrain_loss: 0.0690 | Train_acc: 98.3073 % | Validation_loss: 1.4396 | Validation_acc: 68.0967 %\u001b[32m [repeated 2x across cluster]\u001b[0m\n"
     ]
    },
    {
     "name": "stderr",
     "output_type": "stream",
     "text": [
      " 40%|\u001b[34m████      \u001b[0m| 4/10 [00:23<00:34,  5.79s/it]\u001b[32m [repeated 2x across cluster]\u001b[0m\n"
     ]
    },
    {
     "name": "stdout",
     "output_type": "stream",
     "text": [
      "\u001b[36m(launch_and_fit pid=13831)\u001b[0m \tTrain Epoch: 4 \tTrain_loss: 0.0563 | Train_acc: 98.7977 % | Validation_loss: 1.2283 | Validation_acc: 70.5011 %\n"
     ]
    },
    {
     "name": "stderr",
     "output_type": "stream",
     "text": [
      " 40%|\u001b[34m████      \u001b[0m| 4/10 [00:23<00:35,  5.90s/it]\n"
     ]
    },
    {
     "name": "stdout",
     "output_type": "stream",
     "text": [
      "\u001b[36m(launch_and_fit pid=13805)\u001b[0m \tTrain Epoch: 5 \tTrain_loss: 0.0435 | Train_acc: 99.2188 % | Validation_loss: 1.4917 | Validation_acc: 67.7465 %\n"
     ]
    },
    {
     "name": "stderr",
     "output_type": "stream",
     "text": [
      " 50%|\u001b[34m█████     \u001b[0m| 5/10 [00:29<00:29,  5.83s/it]\n"
     ]
    },
    {
     "name": "stdout",
     "output_type": "stream",
     "text": [
      "\u001b[36m(launch_and_fit pid=13831)\u001b[0m \tTrain Epoch: 5 \tTrain_loss: 0.0502 | Train_acc: 99.0799 % | Validation_loss: 1.2886 | Validation_acc: 70.1509 %\n"
     ]
    },
    {
     "name": "stderr",
     "output_type": "stream",
     "text": [
      " 50%|\u001b[34m█████     \u001b[0m| 5/10 [00:29<00:29,  5.94s/it]\n"
     ]
    },
    {
     "name": "stdout",
     "output_type": "stream",
     "text": [
      "\u001b[36m(launch_and_fit pid=13805)\u001b[0m \tTrain Epoch: 6 \tTrain_loss: 0.0332 | Train_acc: 99.4792 % | Validation_loss: 1.5007 | Validation_acc: 66.7295 %\n"
     ]
    },
    {
     "name": "stderr",
     "output_type": "stream",
     "text": [
      " 60%|\u001b[34m██████    \u001b[0m| 6/10 [00:35<00:23,  5.99s/it]\n"
     ]
    },
    {
     "name": "stdout",
     "output_type": "stream",
     "text": [
      "\u001b[36m(launch_and_fit pid=13805)\u001b[0m \tTrain Epoch: 7 \tTrain_loss: 0.0271 | Train_acc: 99.5877 % | Validation_loss: 1.4530 | Validation_acc: 67.9822 %\u001b[32m [repeated 2x across cluster]\u001b[0m\n"
     ]
    },
    {
     "name": "stderr",
     "output_type": "stream",
     "text": [
      " 70%|\u001b[34m███████   \u001b[0m| 7/10 [00:41<00:17,  5.92s/it]\u001b[32m [repeated 2x across cluster]\u001b[0m\n"
     ]
    },
    {
     "name": "stdout",
     "output_type": "stream",
     "text": [
      "\u001b[36m(launch_and_fit pid=13831)\u001b[0m \tTrain Epoch: 7 \tTrain_loss: 0.0339 | Train_acc: 99.3707 % | Validation_loss: 1.4040 | Validation_acc: 68.3526 %\n"
     ]
    },
    {
     "name": "stderr",
     "output_type": "stream",
     "text": [
      " 70%|\u001b[34m███████   \u001b[0m| 7/10 [00:41<00:17,  5.96s/it]\n"
     ]
    },
    {
     "name": "stdout",
     "output_type": "stream",
     "text": [
      "\u001b[36m(launch_and_fit pid=13805)\u001b[0m \tTrain Epoch: 8 \tTrain_loss: 0.0504 | Train_acc: 98.7413 % | Validation_loss: 1.5215 | Validation_acc: 65.9685 %\n"
     ]
    },
    {
     "name": "stderr",
     "output_type": "stream",
     "text": [
      " 80%|\u001b[34m████████  \u001b[0m| 8/10 [00:47<00:11,  5.93s/it]\n"
     ]
    },
    {
     "name": "stdout",
     "output_type": "stream",
     "text": [
      "\u001b[36m(launch_and_fit pid=13805)\u001b[0m \tTrain Epoch: 9 \tTrain_loss: 0.0526 | Train_acc: 98.6241 % | Validation_loss: 1.6794 | Validation_acc: 64.9919 %\u001b[32m [repeated 2x across cluster]\u001b[0m\n"
     ]
    },
    {
     "name": "stderr",
     "output_type": "stream",
     "text": [
      " 90%|\u001b[34m█████████ \u001b[0m| 9/10 [00:53<00:05,  5.85s/it]\u001b[32m [repeated 2x across cluster]\u001b[0m\n"
     ]
    },
    {
     "name": "stdout",
     "output_type": "stream",
     "text": [
      "\u001b[36m(launch_and_fit pid=13831)\u001b[0m \tTrain Epoch: 9 \tTrain_loss: 0.0377 | Train_acc: 99.1319 % | Validation_loss: 1.3885 | Validation_acc: 69.0733 %\n"
     ]
    },
    {
     "name": "stderr",
     "output_type": "stream",
     "text": [
      " 90%|\u001b[34m█████████ \u001b[0m| 9/10 [00:53<00:05,  5.89s/it]\n"
     ]
    },
    {
     "name": "stdout",
     "output_type": "stream",
     "text": [
      "\u001b[36m(launch_and_fit pid=13805)\u001b[0m \tTrain Epoch: 10 \tTrain_loss: 0.1239 | Train_acc: 96.4410 % | Validation_loss: 1.5914 | Validation_acc: 65.1064 %\n",
      "\u001b[36m(launch_and_fit pid=13805)\u001b[0m save graph in  results/FL/\n"
     ]
    },
    {
     "name": "stderr",
     "output_type": "stream",
     "text": [
      "100%|\u001b[34m██████████\u001b[0m| 10/10 [00:59<00:00,  5.90s/it]\n"
     ]
    },
    {
     "name": "stdout",
     "output_type": "stream",
     "text": [
      "\u001b[36m(launch_and_fit pid=13831)\u001b[0m \tTrain Epoch: 10 \tTrain_loss: 0.0469 | Train_acc: 98.8932 % | Validation_loss: 1.3637 | Validation_acc: 68.1169 %\n",
      "\u001b[36m(launch_and_fit pid=13831)\u001b[0m save graph in  results/FL/\n"
     ]
    },
    {
     "name": "stderr",
     "output_type": "stream",
     "text": [
      "100%|\u001b[34m██████████\u001b[0m| 10/10 [00:59<00:00,  5.94s/it]\n"
     ]
    },
    {
     "name": "stdout",
     "output_type": "stream",
     "text": [
      "\u001b[36m(launch_and_fit pid=13880)\u001b[0m Run WITHOUT homomorphic encryption\n",
      "\u001b[36m(launch_and_fit pid=13880)\u001b[0m  To get the checkpoint\n"
     ]
    },
    {
     "name": "stderr",
     "output_type": "stream",
     "text": [
      "  0%|\u001b[34m          \u001b[0m| 0/10 [00:00<?, ?it/s]\n"
     ]
    },
    {
     "name": "stdout",
     "output_type": "stream",
     "text": [
      "\u001b[36m(launch_and_fit pid=13880)\u001b[0m [Client 0, round 19] fit, config: {'learning_rate': 0.001, 'batch_size': '128', 'server_round': 19, 'local_epochs': 10}\n",
      "\u001b[36m(launch_and_fit pid=13880)\u001b[0m Updated model\n"
     ]
    },
    {
     "name": "stderr",
     "output_type": "stream",
     "text": [
      " 10%|\u001b[34m█         \u001b[0m| 1/10 [00:06<00:57,  6.36s/it]\n",
      "  0%|\u001b[34m          \u001b[0m| 0/10 [00:00<?, ?it/s]\n"
     ]
    },
    {
     "name": "stdout",
     "output_type": "stream",
     "text": [
      "\u001b[36m(launch_and_fit pid=13880)\u001b[0m \tTrain Epoch: 1 \tTrain_loss: 0.3842 | Train_acc: 87.7431 % | Validation_loss: 1.1351 | Validation_acc: 70.1105 %\n",
      "\u001b[36m(launch_and_fit pid=13907)\u001b[0m Run WITHOUT homomorphic encryption\n",
      "\u001b[36m(launch_and_fit pid=13907)\u001b[0m  To get the checkpoint\n",
      "\u001b[36m(launch_and_fit pid=13907)\u001b[0m [Client 7, round 19] fit, config: {'learning_rate': 0.001, 'batch_size': '128', 'server_round': 19, 'local_epochs': 10}\n",
      "\u001b[36m(launch_and_fit pid=13907)\u001b[0m Updated model\n"
     ]
    },
    {
     "name": "stderr",
     "output_type": "stream",
     "text": [
      " 20%|\u001b[34m██        \u001b[0m| 2/10 [00:12<00:47,  5.96s/it]\u001b[32m [repeated 2x across cluster]\u001b[0m\n"
     ]
    },
    {
     "name": "stdout",
     "output_type": "stream",
     "text": [
      "\u001b[36m(launch_and_fit pid=13880)\u001b[0m \tTrain Epoch: 2 \tTrain_loss: 0.2237 | Train_acc: 93.4375 % | Validation_loss: 1.1896 | Validation_acc: 70.6560 %\u001b[32m [repeated 2x across cluster]\u001b[0m\n"
     ]
    },
    {
     "name": "stderr",
     "output_type": "stream",
     "text": [
      " 30%|\u001b[34m███       \u001b[0m| 3/10 [00:17<00:41,  5.87s/it]\u001b[32m [repeated 2x across cluster]\u001b[0m\n"
     ]
    },
    {
     "name": "stdout",
     "output_type": "stream",
     "text": [
      "\u001b[36m(launch_and_fit pid=13880)\u001b[0m \tTrain Epoch: 3 \tTrain_loss: 0.1275 | Train_acc: 96.5842 % | Validation_loss: 1.3042 | Validation_acc: 69.9555 %\u001b[32m [repeated 2x across cluster]\u001b[0m\n"
     ]
    },
    {
     "name": "stderr",
     "output_type": "stream",
     "text": [
      " 40%|\u001b[34m████      \u001b[0m| 4/10 [00:23<00:35,  5.85s/it]\u001b[32m [repeated 2x across cluster]\u001b[0m\n"
     ]
    },
    {
     "name": "stdout",
     "output_type": "stream",
     "text": [
      "\u001b[36m(launch_and_fit pid=13880)\u001b[0m \tTrain Epoch: 4 \tTrain_loss: 0.0681 | Train_acc: 98.3941 % | Validation_loss: 1.3510 | Validation_acc: 68.1371 %\u001b[32m [repeated 2x across cluster]\u001b[0m\n"
     ]
    },
    {
     "name": "stderr",
     "output_type": "stream",
     "text": [
      " 50%|\u001b[34m█████     \u001b[0m| 5/10 [00:29<00:29,  5.82s/it]\u001b[32m [repeated 2x across cluster]\u001b[0m\n"
     ]
    },
    {
     "name": "stdout",
     "output_type": "stream",
     "text": [
      "\u001b[36m(launch_and_fit pid=13880)\u001b[0m \tTrain Epoch: 5 \tTrain_loss: 0.0419 | Train_acc: 99.3056 % | Validation_loss: 1.3398 | Validation_acc: 69.8747 %\u001b[32m [repeated 2x across cluster]\u001b[0m\n"
     ]
    },
    {
     "name": "stderr",
     "output_type": "stream",
     "text": [
      " 60%|\u001b[34m██████    \u001b[0m| 6/10 [00:35<00:23,  5.95s/it]\u001b[32m [repeated 2x across cluster]\u001b[0m\n"
     ]
    },
    {
     "name": "stdout",
     "output_type": "stream",
     "text": [
      "\u001b[36m(launch_and_fit pid=13880)\u001b[0m \tTrain Epoch: 6 \tTrain_loss: 0.0526 | Train_acc: 98.9366 % | Validation_loss: 1.3402 | Validation_acc: 70.0296 %\u001b[32m [repeated 2x across cluster]\u001b[0m\n"
     ]
    },
    {
     "name": "stderr",
     "output_type": "stream",
     "text": [
      " 70%|\u001b[34m███████   \u001b[0m| 7/10 [00:41<00:17,  6.00s/it]\u001b[32m [repeated 2x across cluster]\u001b[0m\n"
     ]
    },
    {
     "name": "stdout",
     "output_type": "stream",
     "text": [
      "\u001b[36m(launch_and_fit pid=13880)\u001b[0m \tTrain Epoch: 7 \tTrain_loss: 0.0474 | Train_acc: 99.2188 % | Validation_loss: 1.3394 | Validation_acc: 69.9151 %\u001b[32m [repeated 2x across cluster]\u001b[0m\n"
     ]
    },
    {
     "name": "stderr",
     "output_type": "stream",
     "text": [
      " 80%|\u001b[34m████████  \u001b[0m| 8/10 [00:47<00:11,  5.99s/it]\u001b[32m [repeated 2x across cluster]\u001b[0m\n"
     ]
    },
    {
     "name": "stdout",
     "output_type": "stream",
     "text": [
      "\u001b[36m(launch_and_fit pid=13880)\u001b[0m \tTrain Epoch: 8 \tTrain_loss: 0.0314 | Train_acc: 99.2448 % | Validation_loss: 1.3901 | Validation_acc: 69.2080 %\u001b[32m [repeated 2x across cluster]\u001b[0m\n"
     ]
    },
    {
     "name": "stderr",
     "output_type": "stream",
     "text": [
      " 90%|\u001b[34m█████████ \u001b[0m| 9/10 [00:53<00:05,  5.93s/it]\u001b[32m [repeated 2x across cluster]\u001b[0m\n"
     ]
    },
    {
     "name": "stdout",
     "output_type": "stream",
     "text": [
      "\u001b[36m(launch_and_fit pid=13880)\u001b[0m \tTrain Epoch: 9 \tTrain_loss: 0.0237 | Train_acc: 99.6528 % | Validation_loss: 1.3956 | Validation_acc: 67.7061 %\u001b[32m [repeated 2x across cluster]\u001b[0m\n",
      "\u001b[36m(launch_and_fit pid=13907)\u001b[0m \tTrain Epoch: 9 \tTrain_loss: 0.0621 | Train_acc: 98.7413 % | Validation_loss: 1.2016 | Validation_acc: 70.9591 %\n"
     ]
    },
    {
     "name": "stderr",
     "output_type": "stream",
     "text": [
      " 90%|\u001b[34m█████████ \u001b[0m| 9/10 [00:54<00:06,  6.06s/it]\n",
      "100%|\u001b[34m██████████\u001b[0m| 10/10 [00:59<00:00,  5.96s/it]\n"
     ]
    },
    {
     "name": "stdout",
     "output_type": "stream",
     "text": [
      "\u001b[36m(launch_and_fit pid=13880)\u001b[0m \tTrain Epoch: 10 \tTrain_loss: 0.0177 | Train_acc: 99.8264 % | Validation_loss: 1.3385 | Validation_acc: 70.8513 %\n",
      "\u001b[36m(launch_and_fit pid=13880)\u001b[0m save graph in  results/FL/\n",
      "\u001b[36m(launch_and_fit pid=13907)\u001b[0m \tTrain Epoch: 10 \tTrain_loss: 0.0595 | Train_acc: 98.7413 % | Validation_loss: 1.2248 | Validation_acc: 71.7605 %\n",
      "\u001b[36m(launch_and_fit pid=13907)\u001b[0m save graph in  results/FL/\n"
     ]
    },
    {
     "name": "stderr",
     "output_type": "stream",
     "text": [
      "100%|\u001b[34m██████████\u001b[0m| 10/10 [01:01<00:00,  6.13s/it]\n"
     ]
    },
    {
     "name": "stdout",
     "output_type": "stream",
     "text": [
      "\u001b[36m(launch_and_fit pid=13954)\u001b[0m Run WITHOUT homomorphic encryption\n",
      "\u001b[36m(launch_and_fit pid=13954)\u001b[0m  To get the checkpoint\n"
     ]
    },
    {
     "name": "stderr",
     "output_type": "stream",
     "text": [
      "  0%|\u001b[34m          \u001b[0m| 0/10 [00:00<?, ?it/s]\n"
     ]
    },
    {
     "name": "stdout",
     "output_type": "stream",
     "text": [
      "\u001b[36m(launch_and_fit pid=13954)\u001b[0m [Client 9, round 19] fit, config: {'learning_rate': 0.001, 'batch_size': '128', 'server_round': 19, 'local_epochs': 10}\n",
      "\u001b[36m(launch_and_fit pid=13954)\u001b[0m Updated model\n",
      "\u001b[36m(launch_and_fit pid=13982)\u001b[0m Run WITHOUT homomorphic encryption\n",
      "\u001b[36m(launch_and_fit pid=13982)\u001b[0m  To get the checkpoint\n"
     ]
    },
    {
     "name": "stderr",
     "output_type": "stream",
     "text": [
      "  0%|\u001b[34m          \u001b[0m| 0/10 [00:00<?, ?it/s]\n"
     ]
    },
    {
     "name": "stdout",
     "output_type": "stream",
     "text": [
      "\u001b[36m(launch_and_fit pid=13982)\u001b[0m [Client 8, round 19] fit, config: {'learning_rate': 0.001, 'batch_size': '128', 'server_round': 19, 'local_epochs': 10}\n",
      "\u001b[36m(launch_and_fit pid=13982)\u001b[0m Updated model\n"
     ]
    },
    {
     "name": "stderr",
     "output_type": "stream",
     "text": [
      " 10%|\u001b[34m█         \u001b[0m| 1/10 [00:06<00:55,  6.20s/it]\n"
     ]
    },
    {
     "name": "stdout",
     "output_type": "stream",
     "text": [
      "\u001b[36m(launch_and_fit pid=13954)\u001b[0m \tTrain Epoch: 1 \tTrain_loss: 0.4122 | Train_acc: 87.3394 % | Validation_loss: 1.1114 | Validation_acc: 69.0396 %\n"
     ]
    },
    {
     "name": "stderr",
     "output_type": "stream",
     "text": [
      " 10%|\u001b[34m█         \u001b[0m| 1/10 [00:06<00:55,  6.14s/it]\n"
     ]
    },
    {
     "name": "stdout",
     "output_type": "stream",
     "text": [
      "\u001b[36m(launch_and_fit pid=13982)\u001b[0m \tTrain Epoch: 1 \tTrain_loss: 0.4403 | Train_acc: 86.2717 % | Validation_loss: 1.2580 | Validation_acc: 64.7023 %\n"
     ]
    },
    {
     "name": "stderr",
     "output_type": "stream",
     "text": [
      " 20%|\u001b[34m██        \u001b[0m| 2/10 [00:11<00:46,  5.83s/it]\n"
     ]
    },
    {
     "name": "stdout",
     "output_type": "stream",
     "text": [
      "\u001b[36m(launch_and_fit pid=13954)\u001b[0m \tTrain Epoch: 2 \tTrain_loss: 0.1701 | Train_acc: 94.8264 % | Validation_loss: 1.3069 | Validation_acc: 67.8879 %\n"
     ]
    },
    {
     "name": "stderr",
     "output_type": "stream",
     "text": [
      " 20%|\u001b[34m██        \u001b[0m| 2/10 [00:12<00:49,  6.17s/it]\n",
      " 30%|\u001b[34m███       \u001b[0m| 3/10 [00:17<00:41,  5.94s/it]\n"
     ]
    },
    {
     "name": "stdout",
     "output_type": "stream",
     "text": [
      "\u001b[36m(launch_and_fit pid=13982)\u001b[0m \tTrain Epoch: 2 \tTrain_loss: 0.1881 | Train_acc: 94.4358 % | Validation_loss: 1.4340 | Validation_acc: 65.1334 %\n",
      "\u001b[36m(launch_and_fit pid=13954)\u001b[0m \tTrain Epoch: 3 \tTrain_loss: 0.1236 | Train_acc: 96.6146 % | Validation_loss: 1.3069 | Validation_acc: 68.6894 %\n"
     ]
    },
    {
     "name": "stderr",
     "output_type": "stream",
     "text": [
      " 40%|\u001b[34m████      \u001b[0m| 4/10 [00:23<00:35,  5.84s/it]\n",
      " 30%|\u001b[34m███       \u001b[0m| 3/10 [00:18<00:41,  6.00s/it]\n"
     ]
    },
    {
     "name": "stdout",
     "output_type": "stream",
     "text": [
      "\u001b[36m(launch_and_fit pid=13954)\u001b[0m \tTrain Epoch: 4 \tTrain_loss: 0.0847 | Train_acc: 97.7431 % | Validation_loss: 1.3708 | Validation_acc: 68.6086 %\n",
      "\u001b[36m(launch_and_fit pid=13982)\u001b[0m \tTrain Epoch: 3 \tTrain_loss: 0.0979 | Train_acc: 97.3741 % | Validation_loss: 1.5798 | Validation_acc: 61.9881 %\n"
     ]
    },
    {
     "name": "stderr",
     "output_type": "stream",
     "text": [
      " 50%|\u001b[34m█████     \u001b[0m| 5/10 [00:29<00:28,  5.72s/it]\n"
     ]
    },
    {
     "name": "stdout",
     "output_type": "stream",
     "text": [
      "\u001b[36m(launch_and_fit pid=13954)\u001b[0m \tTrain Epoch: 5 \tTrain_loss: 0.0523 | Train_acc: 98.7847 % | Validation_loss: 1.3066 | Validation_acc: 69.2349 %\n"
     ]
    },
    {
     "name": "stderr",
     "output_type": "stream",
     "text": [
      " 40%|\u001b[34m████      \u001b[0m| 4/10 [00:23<00:35,  5.88s/it]\n"
     ]
    },
    {
     "name": "stdout",
     "output_type": "stream",
     "text": [
      "\u001b[36m(launch_and_fit pid=13982)\u001b[0m \tTrain Epoch: 4 \tTrain_loss: 0.0605 | Train_acc: 98.7413 % | Validation_loss: 1.5714 | Validation_acc: 64.9380 %\n"
     ]
    },
    {
     "name": "stderr",
     "output_type": "stream",
     "text": [
      " 60%|\u001b[34m██████    \u001b[0m| 6/10 [00:34<00:22,  5.73s/it]\n"
     ]
    },
    {
     "name": "stdout",
     "output_type": "stream",
     "text": [
      "\u001b[36m(launch_and_fit pid=13954)\u001b[0m \tTrain Epoch: 6 \tTrain_loss: 0.0374 | Train_acc: 99.2405 % | Validation_loss: 1.3315 | Validation_acc: 68.5480 %\n"
     ]
    },
    {
     "name": "stderr",
     "output_type": "stream",
     "text": [
      " 50%|\u001b[34m█████     \u001b[0m| 5/10 [00:29<00:29,  5.84s/it]\n"
     ]
    },
    {
     "name": "stdout",
     "output_type": "stream",
     "text": [
      "\u001b[36m(launch_and_fit pid=13982)\u001b[0m \tTrain Epoch: 5 \tTrain_loss: 0.0321 | Train_acc: 99.4792 % | Validation_loss: 1.4763 | Validation_acc: 65.7395 %\n"
     ]
    },
    {
     "name": "stderr",
     "output_type": "stream",
     "text": [
      " 70%|\u001b[34m███████   \u001b[0m| 7/10 [00:40<00:17,  5.76s/it]\n"
     ]
    },
    {
     "name": "stdout",
     "output_type": "stream",
     "text": [
      "\u001b[36m(launch_and_fit pid=13954)\u001b[0m \tTrain Epoch: 7 \tTrain_loss: 0.0275 | Train_acc: 99.6094 % | Validation_loss: 1.3506 | Validation_acc: 70.2115 %\n"
     ]
    },
    {
     "name": "stderr",
     "output_type": "stream",
     "text": [
      " 60%|\u001b[34m██████    \u001b[0m| 6/10 [00:35<00:23,  5.94s/it]\n"
     ]
    },
    {
     "name": "stdout",
     "output_type": "stream",
     "text": [
      "\u001b[36m(launch_and_fit pid=13982)\u001b[0m \tTrain Epoch: 6 \tTrain_loss: 0.0228 | Train_acc: 99.7179 % | Validation_loss: 1.5483 | Validation_acc: 64.0962 %\n"
     ]
    },
    {
     "name": "stderr",
     "output_type": "stream",
     "text": [
      " 80%|\u001b[34m████████  \u001b[0m| 8/10 [00:46<00:11,  5.90s/it]\n"
     ]
    },
    {
     "name": "stdout",
     "output_type": "stream",
     "text": [
      "\u001b[36m(launch_and_fit pid=13954)\u001b[0m \tTrain Epoch: 8 \tTrain_loss: 0.0212 | Train_acc: 99.7613 % | Validation_loss: 1.3649 | Validation_acc: 69.3898 %\n"
     ]
    },
    {
     "name": "stderr",
     "output_type": "stream",
     "text": [
      " 70%|\u001b[34m███████   \u001b[0m| 7/10 [00:41<00:18,  6.05s/it]\n"
     ]
    },
    {
     "name": "stdout",
     "output_type": "stream",
     "text": [
      "\u001b[36m(launch_and_fit pid=13982)\u001b[0m \tTrain Epoch: 7 \tTrain_loss: 0.0168 | Train_acc: 99.8264 % | Validation_loss: 1.5555 | Validation_acc: 66.2446 %\n"
     ]
    },
    {
     "name": "stderr",
     "output_type": "stream",
     "text": [
      " 90%|\u001b[34m█████████ \u001b[0m| 9/10 [00:52<00:05,  5.82s/it]\n"
     ]
    },
    {
     "name": "stdout",
     "output_type": "stream",
     "text": [
      "\u001b[36m(launch_and_fit pid=13954)\u001b[0m \tTrain Epoch: 9 \tTrain_loss: 0.0144 | Train_acc: 99.9132 % | Validation_loss: 1.3678 | Validation_acc: 67.9822 %\n"
     ]
    },
    {
     "name": "stderr",
     "output_type": "stream",
     "text": [
      " 80%|\u001b[34m████████  \u001b[0m| 8/10 [00:47<00:11,  5.94s/it]\n"
     ]
    },
    {
     "name": "stdout",
     "output_type": "stream",
     "text": [
      "\u001b[36m(launch_and_fit pid=13982)\u001b[0m \tTrain Epoch: 8 \tTrain_loss: 0.0127 | Train_acc: 99.8698 % | Validation_loss: 1.5952 | Validation_acc: 65.1872 %\n"
     ]
    },
    {
     "name": "stderr",
     "output_type": "stream",
     "text": [
      "100%|\u001b[34m██████████\u001b[0m| 10/10 [00:58<00:00,  5.84s/it]\n"
     ]
    },
    {
     "name": "stdout",
     "output_type": "stream",
     "text": [
      "\u001b[36m(launch_and_fit pid=13954)\u001b[0m save graph in  results/FL/\n",
      "\u001b[36m(launch_and_fit pid=13954)\u001b[0m \tTrain Epoch: 10 \tTrain_loss: 0.0104 | Train_acc: 99.9566 % | Validation_loss: 1.3395 | Validation_acc: 70.0364 %\n"
     ]
    },
    {
     "name": "stderr",
     "output_type": "stream",
     "text": [
      " 90%|\u001b[34m█████████ \u001b[0m| 9/10 [00:53<00:05,  5.94s/it]\n"
     ]
    },
    {
     "name": "stdout",
     "output_type": "stream",
     "text": [
      "\u001b[36m(launch_and_fit pid=13982)\u001b[0m \tTrain Epoch: 9 \tTrain_loss: 0.0099 | Train_acc: 99.9783 % | Validation_loss: 1.5908 | Validation_acc: 65.6789 %\n"
     ]
    },
    {
     "name": "stderr",
     "output_type": "stream",
     "text": [
      "100%|\u001b[34m██████████\u001b[0m| 10/10 [00:59<00:00,  5.98s/it]\n"
     ]
    },
    {
     "name": "stdout",
     "output_type": "stream",
     "text": [
      "\u001b[36m(launch_and_fit pid=13982)\u001b[0m \tTrain Epoch: 10 \tTrain_loss: 0.0081 | Train_acc: 100.0000 % | Validation_loss: 1.5991 | Validation_acc: 65.4836 %\n",
      "\u001b[36m(launch_and_fit pid=13982)\u001b[0m save graph in  results/FL/\n",
      "\u001b[36m(launch_and_fit pid=14028)\u001b[0m Run WITHOUT homomorphic encryption\n",
      "\u001b[36m(launch_and_fit pid=14028)\u001b[0m  To get the checkpoint\n"
     ]
    },
    {
     "name": "stderr",
     "output_type": "stream",
     "text": [
      "  0%|\u001b[34m          \u001b[0m| 0/10 [00:00<?, ?it/s]\n"
     ]
    },
    {
     "name": "stdout",
     "output_type": "stream",
     "text": [
      "\u001b[36m(launch_and_fit pid=14028)\u001b[0m [Client 6, round 19] fit, config: {'learning_rate': 0.001, 'batch_size': '128', 'server_round': 19, 'local_epochs': 10}\n",
      "\u001b[36m(launch_and_fit pid=14028)\u001b[0m Updated model\n",
      "\u001b[36m(launch_and_fit pid=14056)\u001b[0m Run WITHOUT homomorphic encryption\n",
      "\u001b[36m(launch_and_fit pid=14056)\u001b[0m  To get the checkpoint\n"
     ]
    },
    {
     "name": "stderr",
     "output_type": "stream",
     "text": [
      " 10%|\u001b[34m█         \u001b[0m| 1/10 [00:06<00:57,  6.36s/it]\n",
      "  0%|\u001b[34m          \u001b[0m| 0/10 [00:00<?, ?it/s]\n"
     ]
    },
    {
     "name": "stdout",
     "output_type": "stream",
     "text": [
      "\u001b[36m(launch_and_fit pid=14028)\u001b[0m \tTrain Epoch: 1 \tTrain_loss: 0.3764 | Train_acc: 88.7847 % | Validation_loss: 1.2960 | Validation_acc: 66.0695 %\n",
      "\u001b[36m(launch_and_fit pid=14056)\u001b[0m [Client 1, round 19] fit, config: {'learning_rate': 0.001, 'batch_size': '128', 'server_round': 19, 'local_epochs': 10}\n",
      "\u001b[36m(launch_and_fit pid=14056)\u001b[0m Updated model\n"
     ]
    },
    {
     "name": "stderr",
     "output_type": "stream",
     "text": [
      " 20%|\u001b[34m██        \u001b[0m| 2/10 [00:12<00:49,  6.19s/it]\n"
     ]
    },
    {
     "name": "stdout",
     "output_type": "stream",
     "text": [
      "\u001b[36m(launch_and_fit pid=14028)\u001b[0m \tTrain Epoch: 2 \tTrain_loss: 0.1761 | Train_acc: 95.1302 % | Validation_loss: 1.3270 | Validation_acc: 66.9114 %\n",
      "\u001b[36m(launch_and_fit pid=14056)\u001b[0m \tTrain Epoch: 1 \tTrain_loss: 0.4114 | Train_acc: 86.9575 % | Validation_loss: 1.1567 | Validation_acc: 69.3157 %\n"
     ]
    },
    {
     "name": "stderr",
     "output_type": "stream",
     "text": [
      " 10%|\u001b[34m█         \u001b[0m| 1/10 [00:06<00:57,  6.42s/it]\n",
      " 30%|\u001b[34m███       \u001b[0m| 3/10 [00:18<00:42,  6.01s/it]\n"
     ]
    },
    {
     "name": "stdout",
     "output_type": "stream",
     "text": [
      "\u001b[36m(launch_and_fit pid=14028)\u001b[0m \tTrain Epoch: 3 \tTrain_loss: 0.0949 | Train_acc: 97.7865 % | Validation_loss: 1.3633 | Validation_acc: 68.1034 %\n",
      "\u001b[36m(launch_and_fit pid=14056)\u001b[0m \tTrain Epoch: 2 \tTrain_loss: 0.1740 | Train_acc: 94.8481 % | Validation_loss: 1.2431 | Validation_acc: 70.9388 %\n"
     ]
    },
    {
     "name": "stderr",
     "output_type": "stream",
     "text": [
      " 20%|\u001b[34m██        \u001b[0m| 2/10 [00:12<00:48,  6.06s/it]\n",
      " 40%|\u001b[34m████      \u001b[0m| 4/10 [00:24<00:35,  5.92s/it]\n"
     ]
    },
    {
     "name": "stdout",
     "output_type": "stream",
     "text": [
      "\u001b[36m(launch_and_fit pid=14028)\u001b[0m \tTrain Epoch: 4 \tTrain_loss: 0.0637 | Train_acc: 98.4505 % | Validation_loss: 1.4631 | Validation_acc: 66.5005 %\n",
      "\u001b[36m(launch_and_fit pid=14056)\u001b[0m \tTrain Epoch: 3 \tTrain_loss: 0.1083 | Train_acc: 96.9878 % | Validation_loss: 1.3564 | Validation_acc: 69.1002 %\n"
     ]
    },
    {
     "name": "stderr",
     "output_type": "stream",
     "text": [
      " 30%|\u001b[34m███       \u001b[0m| 3/10 [00:18<00:41,  5.98s/it]\n",
      " 50%|\u001b[34m█████     \u001b[0m| 5/10 [00:29<00:29,  5.88s/it]\n"
     ]
    },
    {
     "name": "stdout",
     "output_type": "stream",
     "text": [
      "\u001b[36m(launch_and_fit pid=14028)\u001b[0m \tTrain Epoch: 5 \tTrain_loss: 0.0426 | Train_acc: 99.2405 % | Validation_loss: 1.4048 | Validation_acc: 67.4973 %\n",
      "\u001b[36m(launch_and_fit pid=14056)\u001b[0m \tTrain Epoch: 4 \tTrain_loss: 0.1262 | Train_acc: 96.5061 % | Validation_loss: 1.3479 | Validation_acc: 67.0057 %\n"
     ]
    },
    {
     "name": "stderr",
     "output_type": "stream",
     "text": [
      " 40%|\u001b[34m████      \u001b[0m| 4/10 [00:24<00:35,  5.99s/it]\n",
      " 60%|\u001b[34m██████    \u001b[0m| 6/10 [00:35<00:23,  5.97s/it]\n"
     ]
    },
    {
     "name": "stdout",
     "output_type": "stream",
     "text": [
      "\u001b[36m(launch_and_fit pid=14028)\u001b[0m \tTrain Epoch: 6 \tTrain_loss: 0.0381 | Train_acc: 99.3490 % | Validation_loss: 1.5120 | Validation_acc: 67.6724 %\n",
      "\u001b[36m(launch_and_fit pid=14056)\u001b[0m \tTrain Epoch: 5 \tTrain_loss: 0.0791 | Train_acc: 97.8299 % | Validation_loss: 1.3758 | Validation_acc: 69.3157 %\n"
     ]
    },
    {
     "name": "stderr",
     "output_type": "stream",
     "text": [
      " 50%|\u001b[34m█████     \u001b[0m| 5/10 [00:29<00:29,  5.93s/it]\n",
      " 70%|\u001b[34m███████   \u001b[0m| 7/10 [00:41<00:17,  5.97s/it]\n"
     ]
    },
    {
     "name": "stdout",
     "output_type": "stream",
     "text": [
      "\u001b[36m(launch_and_fit pid=14028)\u001b[0m \tTrain Epoch: 7 \tTrain_loss: 0.0328 | Train_acc: 99.4792 % | Validation_loss: 1.4447 | Validation_acc: 68.0428 %\n",
      "\u001b[36m(launch_and_fit pid=14056)\u001b[0m \tTrain Epoch: 6 \tTrain_loss: 0.0423 | Train_acc: 99.2405 % | Validation_loss: 1.3886 | Validation_acc: 67.8677 %\n"
     ]
    },
    {
     "name": "stderr",
     "output_type": "stream",
     "text": [
      " 60%|\u001b[34m██████    \u001b[0m| 6/10 [00:36<00:24,  6.12s/it]\n",
      " 80%|\u001b[34m████████  \u001b[0m| 8/10 [00:47<00:11,  5.98s/it]\n"
     ]
    },
    {
     "name": "stdout",
     "output_type": "stream",
     "text": [
      "\u001b[36m(launch_and_fit pid=14028)\u001b[0m \tTrain Epoch: 8 \tTrain_loss: 0.0255 | Train_acc: 99.7179 % | Validation_loss: 1.4938 | Validation_acc: 66.8305 %\n",
      "\u001b[36m(launch_and_fit pid=14056)\u001b[0m \tTrain Epoch: 7 \tTrain_loss: 0.0328 | Train_acc: 99.4141 % | Validation_loss: 1.2604 | Validation_acc: 70.9186 %\n"
     ]
    },
    {
     "name": "stderr",
     "output_type": "stream",
     "text": [
      " 70%|\u001b[34m███████   \u001b[0m| 7/10 [00:42<00:18,  6.02s/it]\n"
     ]
    },
    {
     "name": "stdout",
     "output_type": "stream",
     "text": [
      "\u001b[36m(launch_and_fit pid=14056)\u001b[0m \tTrain Epoch: 8 \tTrain_loss: 0.0207 | Train_acc: 99.6745 % | Validation_loss: 1.2927 | Validation_acc: 70.8580 %\u001b[32m [repeated 2x across cluster]\u001b[0m\n"
     ]
    },
    {
     "name": "stderr",
     "output_type": "stream",
     "text": [
      " 80%|\u001b[34m████████  \u001b[0m| 8/10 [00:48<00:11,  5.94s/it]\u001b[32m [repeated 2x across cluster]\u001b[0m\n",
      "100%|\u001b[34m██████████\u001b[0m| 10/10 [00:59<00:00,  5.97s/it]\n"
     ]
    },
    {
     "name": "stdout",
     "output_type": "stream",
     "text": [
      "\u001b[36m(launch_and_fit pid=14028)\u001b[0m save graph in  results/FL/\n",
      "\u001b[36m(launch_and_fit pid=14028)\u001b[0m \tTrain Epoch: 10 \tTrain_loss: 0.0266 | Train_acc: 99.6311 % | Validation_loss: 1.5259 | Validation_acc: 68.3728 %\n",
      "\u001b[36m(launch_and_fit pid=14056)\u001b[0m \tTrain Epoch: 9 \tTrain_loss: 0.0149 | Train_acc: 99.8698 % | Validation_loss: 1.3236 | Validation_acc: 69.4908 %\n"
     ]
    },
    {
     "name": "stderr",
     "output_type": "stream",
     "text": [
      " 90%|\u001b[34m█████████ \u001b[0m| 9/10 [00:53<00:05,  5.92s/it]\n"
     ]
    },
    {
     "name": "stdout",
     "output_type": "stream",
     "text": [
      "\u001b[36m(launch_and_fit pid=14056)\u001b[0m \tTrain Epoch: 10 \tTrain_loss: 0.0123 | Train_acc: 99.8915 % | Validation_loss: 1.3002 | Validation_acc: 69.9421 %\n",
      "\u001b[36m(launch_and_fit pid=14056)\u001b[0m save graph in  results/FL/\n"
     ]
    },
    {
     "name": "stderr",
     "output_type": "stream",
     "text": [
      "100%|\u001b[34m██████████\u001b[0m| 10/10 [00:59<00:00,  5.95s/it]\n",
      "DEBUG flwr 2024-07-20 20:39:06,319 | server.py:236 | fit_round 19 received 10 results and 0 failures\n"
     ]
    },
    {
     "name": "stdout",
     "output_type": "stream",
     "text": [
      "Saving round 19 aggregated_parameters...\n",
      "Updated model\n"
     ]
    },
    {
     "name": "stderr",
     "output_type": "stream",
     "text": [
      "INFO flwr 2024-07-20 20:39:12,128 | server.py:125 | fit progress: (19, 1.1949346495580069, {'accuracy': 72.64636075949366}, 8546.818163164)\n",
      "DEBUG flwr 2024-07-20 20:39:12,129 | server.py:173 | evaluate_round 19: strategy sampled 10 clients (out of 10)\n"
     ]
    },
    {
     "name": "stdout",
     "output_type": "stream",
     "text": [
      "Server-side evaluation loss 1.1949346495580069 / accuracy 72.64636075949366\n",
      "\u001b[36m(launch_and_evaluate pid=14112)\u001b[0m Run WITHOUT homomorphic encryption\n",
      "\u001b[36m(launch_and_evaluate pid=14112)\u001b[0m  To get the checkpoint\n",
      "\u001b[36m(launch_and_evaluate pid=14112)\u001b[0m [Client 8] evaluate, config: {}\n",
      "\u001b[36m(launch_and_evaluate pid=14112)\u001b[0m Updated model\n",
      "\u001b[36m(launch_and_evaluate pid=14182)\u001b[0m Run WITHOUT homomorphic encryption\u001b[32m [repeated 2x across cluster]\u001b[0m\n",
      "\u001b[36m(launch_and_evaluate pid=14182)\u001b[0m  To get the checkpoint\u001b[32m [repeated 2x across cluster]\u001b[0m\n",
      "\u001b[36m(launch_and_evaluate pid=14111)\u001b[0m [Client 4] evaluate, config: {}\n",
      "\u001b[36m(launch_and_evaluate pid=14111)\u001b[0m Updated model\n",
      "\u001b[36m(launch_and_evaluate pid=14182)\u001b[0m [Client 3] evaluate, config: {}\n",
      "\u001b[36m(launch_and_evaluate pid=14182)\u001b[0m Updated model\n",
      "\u001b[36m(launch_and_evaluate pid=14252)\u001b[0m Run WITHOUT homomorphic encryption\u001b[32m [repeated 2x across cluster]\u001b[0m\n",
      "\u001b[36m(launch_and_evaluate pid=14252)\u001b[0m  To get the checkpoint\u001b[32m [repeated 2x across cluster]\u001b[0m\n",
      "\u001b[36m(launch_and_evaluate pid=14184)\u001b[0m [Client 5] evaluate, config: {}\n",
      "\u001b[36m(launch_and_evaluate pid=14184)\u001b[0m Updated model\n",
      "\u001b[36m(launch_and_evaluate pid=14252)\u001b[0m [Client 9] evaluate, config: {}\n",
      "\u001b[36m(launch_and_evaluate pid=14252)\u001b[0m Updated model\n",
      "\u001b[36m(launch_and_evaluate pid=14322)\u001b[0m Run WITHOUT homomorphic encryption\u001b[32m [repeated 2x across cluster]\u001b[0m\n",
      "\u001b[36m(launch_and_evaluate pid=14322)\u001b[0m  To get the checkpoint\u001b[32m [repeated 2x across cluster]\u001b[0m\n",
      "\u001b[36m(launch_and_evaluate pid=14277)\u001b[0m [Client 1] evaluate, config: {}\n",
      "\u001b[36m(launch_and_evaluate pid=14277)\u001b[0m Updated model\n",
      "\u001b[36m(launch_and_evaluate pid=14322)\u001b[0m [Client 6] evaluate, config: {}\n",
      "\u001b[36m(launch_and_evaluate pid=14322)\u001b[0m Updated model\n",
      "\u001b[36m(launch_and_evaluate pid=14392)\u001b[0m Run WITHOUT homomorphic encryption\u001b[32m [repeated 2x across cluster]\u001b[0m\n",
      "\u001b[36m(launch_and_evaluate pid=14392)\u001b[0m  To get the checkpoint\u001b[32m [repeated 2x across cluster]\u001b[0m\n",
      "\u001b[36m(launch_and_evaluate pid=14324)\u001b[0m [Client 2] evaluate, config: {}\n",
      "\u001b[36m(launch_and_evaluate pid=14324)\u001b[0m Updated model\n",
      "\u001b[36m(launch_and_evaluate pid=14392)\u001b[0m [Client 7] evaluate, config: {}\n",
      "\u001b[36m(launch_and_evaluate pid=14392)\u001b[0m Updated model\n"
     ]
    },
    {
     "name": "stderr",
     "output_type": "stream",
     "text": [
      "DEBUG flwr 2024-07-20 20:40:29,009 | server.py:187 | evaluate_round 19 received 10 results and 0 failures\n",
      "DEBUG flwr 2024-07-20 20:40:29,011 | server.py:222 | fit_round 20: strategy sampled 10 clients (out of 10)\n"
     ]
    },
    {
     "name": "stdout",
     "output_type": "stream",
     "text": [
      "\u001b[36m(launch_and_fit pid=14471)\u001b[0m Run WITHOUT homomorphic encryption\u001b[32m [repeated 2x across cluster]\u001b[0m\n",
      "\u001b[36m(launch_and_fit pid=14471)\u001b[0m  To get the checkpoint\u001b[32m [repeated 2x across cluster]\u001b[0m\n",
      "\u001b[36m(launch_and_evaluate pid=14394)\u001b[0m [Client 0] evaluate, config: {}\n",
      "\u001b[36m(launch_and_evaluate pid=14394)\u001b[0m Updated model\n"
     ]
    },
    {
     "name": "stderr",
     "output_type": "stream",
     "text": [
      "  0%|\u001b[34m          \u001b[0m| 0/10 [00:00<?, ?it/s]\n"
     ]
    },
    {
     "name": "stdout",
     "output_type": "stream",
     "text": [
      "\u001b[36m(launch_and_fit pid=14471)\u001b[0m [Client 4, round 20] fit, config: {'learning_rate': 0.001, 'batch_size': '128', 'server_round': 20, 'local_epochs': 10}\n",
      "\u001b[36m(launch_and_fit pid=14471)\u001b[0m Updated model\n"
     ]
    },
    {
     "name": "stderr",
     "output_type": "stream",
     "text": [
      " 10%|\u001b[34m█         \u001b[0m| 1/10 [00:06<00:57,  6.33s/it]\n",
      "  0%|\u001b[34m          \u001b[0m| 0/10 [00:00<?, ?it/s]\n"
     ]
    },
    {
     "name": "stdout",
     "output_type": "stream",
     "text": [
      "\u001b[36m(launch_and_fit pid=14471)\u001b[0m \tTrain Epoch: 1 \tTrain_loss: 0.3382 | Train_acc: 89.7786 % | Validation_loss: 1.3532 | Validation_acc: 68.0630 %\n",
      "\u001b[36m(launch_and_fit pid=14495)\u001b[0m Run WITHOUT homomorphic encryption\n",
      "\u001b[36m(launch_and_fit pid=14495)\u001b[0m  To get the checkpoint\n",
      "\u001b[36m(launch_and_fit pid=14495)\u001b[0m [Client 9, round 20] fit, config: {'learning_rate': 0.001, 'batch_size': '128', 'server_round': 20, 'local_epochs': 10}\n",
      "\u001b[36m(launch_and_fit pid=14495)\u001b[0m Updated model\n"
     ]
    },
    {
     "name": "stderr",
     "output_type": "stream",
     "text": [
      " 20%|\u001b[34m██        \u001b[0m| 2/10 [00:12<00:47,  5.98s/it]\u001b[32m [repeated 2x across cluster]\u001b[0m\n"
     ]
    },
    {
     "name": "stdout",
     "output_type": "stream",
     "text": [
      "\u001b[36m(launch_and_fit pid=14471)\u001b[0m \tTrain Epoch: 2 \tTrain_loss: 0.1638 | Train_acc: 95.5295 % | Validation_loss: 1.4164 | Validation_acc: 68.1977 %\u001b[32m [repeated 2x across cluster]\u001b[0m\n"
     ]
    },
    {
     "name": "stderr",
     "output_type": "stream",
     "text": [
      " 30%|\u001b[34m███       \u001b[0m| 3/10 [00:17<00:41,  5.90s/it]\u001b[32m [repeated 2x across cluster]\u001b[0m\n"
     ]
    },
    {
     "name": "stdout",
     "output_type": "stream",
     "text": [
      "\u001b[36m(launch_and_fit pid=14471)\u001b[0m \tTrain Epoch: 3 \tTrain_loss: 0.0778 | Train_acc: 97.9861 % | Validation_loss: 1.5491 | Validation_acc: 65.9685 %\u001b[32m [repeated 2x across cluster]\u001b[0m\n"
     ]
    },
    {
     "name": "stderr",
     "output_type": "stream",
     "text": [
      " 40%|\u001b[34m████      \u001b[0m| 4/10 [00:23<00:34,  5.81s/it]\u001b[32m [repeated 2x across cluster]\u001b[0m\n"
     ]
    },
    {
     "name": "stdout",
     "output_type": "stream",
     "text": [
      "\u001b[36m(launch_and_fit pid=14471)\u001b[0m \tTrain Epoch: 4 \tTrain_loss: 0.0879 | Train_acc: 97.6780 % | Validation_loss: 1.5654 | Validation_acc: 65.7193 %\u001b[32m [repeated 2x across cluster]\u001b[0m\n"
     ]
    },
    {
     "name": "stderr",
     "output_type": "stream",
     "text": [
      " 50%|\u001b[34m█████     \u001b[0m| 5/10 [00:29<00:29,  5.88s/it]\u001b[32m [repeated 2x across cluster]\u001b[0m\n"
     ]
    },
    {
     "name": "stdout",
     "output_type": "stream",
     "text": [
      "\u001b[36m(launch_and_fit pid=14471)\u001b[0m \tTrain Epoch: 5 \tTrain_loss: 0.0691 | Train_acc: 98.3290 % | Validation_loss: 1.5390 | Validation_acc: 67.3963 %\u001b[32m [repeated 2x across cluster]\u001b[0m\n"
     ]
    },
    {
     "name": "stderr",
     "output_type": "stream",
     "text": [
      " 60%|\u001b[34m██████    \u001b[0m| 6/10 [00:35<00:23,  5.97s/it]\u001b[32m [repeated 2x across cluster]\u001b[0m\n"
     ]
    },
    {
     "name": "stdout",
     "output_type": "stream",
     "text": [
      "\u001b[36m(launch_and_fit pid=14471)\u001b[0m \tTrain Epoch: 6 \tTrain_loss: 0.0495 | Train_acc: 98.9366 % | Validation_loss: 1.5338 | Validation_acc: 66.9248 %\u001b[32m [repeated 2x across cluster]\u001b[0m\n"
     ]
    },
    {
     "name": "stderr",
     "output_type": "stream",
     "text": [
      " 70%|\u001b[34m███████   \u001b[0m| 7/10 [00:41<00:17,  5.95s/it]\u001b[32m [repeated 2x across cluster]\u001b[0m\n"
     ]
    },
    {
     "name": "stdout",
     "output_type": "stream",
     "text": [
      "\u001b[36m(launch_and_fit pid=14471)\u001b[0m \tTrain Epoch: 7 \tTrain_loss: 0.0493 | Train_acc: 98.6892 % | Validation_loss: 1.4516 | Validation_acc: 67.3155 %\u001b[32m [repeated 2x across cluster]\u001b[0m\n"
     ]
    },
    {
     "name": "stderr",
     "output_type": "stream",
     "text": [
      " 80%|\u001b[34m████████  \u001b[0m| 8/10 [00:47<00:11,  5.90s/it]\u001b[32m [repeated 2x across cluster]\u001b[0m\n"
     ]
    },
    {
     "name": "stdout",
     "output_type": "stream",
     "text": [
      "\u001b[36m(launch_and_fit pid=14471)\u001b[0m \tTrain Epoch: 8 \tTrain_loss: 0.0483 | Train_acc: 98.8715 % | Validation_loss: 1.5922 | Validation_acc: 66.4601 %\u001b[32m [repeated 2x across cluster]\u001b[0m\n"
     ]
    },
    {
     "name": "stderr",
     "output_type": "stream",
     "text": [
      " 90%|\u001b[34m█████████ \u001b[0m| 9/10 [00:53<00:05,  5.86s/it]\u001b[32m [repeated 2x across cluster]\u001b[0m\n"
     ]
    },
    {
     "name": "stdout",
     "output_type": "stream",
     "text": [
      "\u001b[36m(launch_and_fit pid=14471)\u001b[0m \tTrain Epoch: 9 \tTrain_loss: 0.0409 | Train_acc: 99.1102 % | Validation_loss: 1.4966 | Validation_acc: 68.0428 %\u001b[32m [repeated 2x across cluster]\u001b[0m\n"
     ]
    },
    {
     "name": "stderr",
     "output_type": "stream",
     "text": [
      "100%|\u001b[34m██████████\u001b[0m| 10/10 [00:59<00:00,  5.93s/it]\u001b[32m [repeated 2x across cluster]\u001b[0m\n"
     ]
    },
    {
     "name": "stdout",
     "output_type": "stream",
     "text": [
      "\u001b[36m(launch_and_fit pid=14471)\u001b[0m save graph in  results/FL/\n",
      "\u001b[36m(launch_and_fit pid=14471)\u001b[0m \tTrain Epoch: 10 \tTrain_loss: 0.0287 | Train_acc: 99.4141 % | Validation_loss: 1.5526 | Validation_acc: 66.0897 %\u001b[32m [repeated 2x across cluster]\u001b[0m\n",
      "\u001b[36m(launch_and_fit pid=14544)\u001b[0m Run WITHOUT homomorphic encryption\n",
      "\u001b[36m(launch_and_fit pid=14544)\u001b[0m  To get the checkpoint\n",
      "\u001b[36m(launch_and_fit pid=14495)\u001b[0m save graph in  results/FL/\n",
      "\u001b[36m(launch_and_fit pid=14495)\u001b[0m \tTrain Epoch: 10 \tTrain_loss: 0.0078 | Train_acc: 100.0000 % | Validation_loss: 1.5162 | Validation_acc: 68.1237 %\n",
      "\u001b[36m(launch_and_fit pid=14544)\u001b[0m [Client 6, round 20] fit, config: {'learning_rate': 0.001, 'batch_size': '128', 'server_round': 20, 'local_epochs': 10}\n",
      "\u001b[36m(launch_and_fit pid=14544)\u001b[0m Updated model\n"
     ]
    },
    {
     "name": "stderr",
     "output_type": "stream",
     "text": [
      "  0%|\u001b[34m          \u001b[0m| 0/10 [00:00<?, ?it/s]\n",
      "100%|\u001b[34m██████████\u001b[0m| 10/10 [00:58<00:00,  5.90s/it]\n"
     ]
    },
    {
     "name": "stdout",
     "output_type": "stream",
     "text": [
      "\u001b[36m(launch_and_fit pid=14544)\u001b[0m \tTrain Epoch: 1 \tTrain_loss: 0.3543 | Train_acc: 89.5530 % | Validation_loss: 1.2515 | Validation_acc: 69.2551 %\n",
      "\u001b[36m(launch_and_fit pid=14570)\u001b[0m Run WITHOUT homomorphic encryption\n",
      "\u001b[36m(launch_and_fit pid=14570)\u001b[0m  To get the checkpoint\n",
      "\u001b[36m(launch_and_fit pid=14570)\u001b[0m [Client 7, round 20] fit, config: {'learning_rate': 0.001, 'batch_size': '128', 'server_round': 20, 'local_epochs': 10}\n",
      "\u001b[36m(launch_and_fit pid=14570)\u001b[0m Updated model\n"
     ]
    },
    {
     "name": "stderr",
     "output_type": "stream",
     "text": [
      " 10%|\u001b[34m█         \u001b[0m| 1/10 [00:06<00:57,  6.42s/it]\n",
      "  0%|\u001b[34m          \u001b[0m| 0/10 [00:00<?, ?it/s]\n"
     ]
    },
    {
     "name": "stdout",
     "output_type": "stream",
     "text": [
      "\u001b[36m(launch_and_fit pid=14544)\u001b[0m \tTrain Epoch: 2 \tTrain_loss: 0.1344 | Train_acc: 95.7465 % | Validation_loss: 1.3709 | Validation_acc: 66.5612 %\u001b[32m [repeated 2x across cluster]\u001b[0m\n"
     ]
    },
    {
     "name": "stderr",
     "output_type": "stream",
     "text": [
      " 20%|\u001b[34m██        \u001b[0m| 2/10 [00:12<00:48,  6.08s/it]\u001b[32m [repeated 2x across cluster]\u001b[0m\n"
     ]
    },
    {
     "name": "stdout",
     "output_type": "stream",
     "text": [
      "\u001b[36m(launch_and_fit pid=14544)\u001b[0m \tTrain Epoch: 3 \tTrain_loss: 0.0848 | Train_acc: 97.9210 % | Validation_loss: 1.4074 | Validation_acc: 68.0428 %\u001b[32m [repeated 2x across cluster]\u001b[0m\n"
     ]
    },
    {
     "name": "stderr",
     "output_type": "stream",
     "text": [
      " 30%|\u001b[34m███       \u001b[0m| 3/10 [00:18<00:41,  5.98s/it]\u001b[32m [repeated 2x across cluster]\u001b[0m\n"
     ]
    },
    {
     "name": "stdout",
     "output_type": "stream",
     "text": [
      "\u001b[36m(launch_and_fit pid=14544)\u001b[0m \tTrain Epoch: 4 \tTrain_loss: 0.0974 | Train_acc: 97.2873 % | Validation_loss: 1.5525 | Validation_acc: 64.9717 %\u001b[32m [repeated 2x across cluster]\u001b[0m\n"
     ]
    },
    {
     "name": "stderr",
     "output_type": "stream",
     "text": [
      " 40%|\u001b[34m████      \u001b[0m| 4/10 [00:23<00:35,  5.87s/it]\u001b[32m [repeated 2x across cluster]\u001b[0m\n"
     ]
    },
    {
     "name": "stdout",
     "output_type": "stream",
     "text": [
      "\u001b[36m(launch_and_fit pid=14544)\u001b[0m \tTrain Epoch: 5 \tTrain_loss: 0.0859 | Train_acc: 97.5911 % | Validation_loss: 1.4496 | Validation_acc: 68.8039 %\u001b[32m [repeated 2x across cluster]\u001b[0m\n"
     ]
    },
    {
     "name": "stderr",
     "output_type": "stream",
     "text": [
      " 50%|\u001b[34m█████     \u001b[0m| 5/10 [00:29<00:29,  5.81s/it]\u001b[32m [repeated 2x across cluster]\u001b[0m\n"
     ]
    },
    {
     "name": "stdout",
     "output_type": "stream",
     "text": [
      "\u001b[36m(launch_and_fit pid=14544)\u001b[0m \tTrain Epoch: 6 \tTrain_loss: 0.0620 | Train_acc: 98.5677 % | Validation_loss: 1.4373 | Validation_acc: 68.2988 %\u001b[32m [repeated 2x across cluster]\u001b[0m\n"
     ]
    },
    {
     "name": "stderr",
     "output_type": "stream",
     "text": [
      " 60%|\u001b[34m██████    \u001b[0m| 6/10 [00:35<00:23,  5.94s/it]\u001b[32m [repeated 2x across cluster]\u001b[0m\n"
     ]
    },
    {
     "name": "stdout",
     "output_type": "stream",
     "text": [
      "\u001b[36m(launch_and_fit pid=14544)\u001b[0m \tTrain Epoch: 7 \tTrain_loss: 0.0477 | Train_acc: 98.9149 % | Validation_loss: 1.4612 | Validation_acc: 68.4537 %\u001b[32m [repeated 2x across cluster]\u001b[0m\n"
     ]
    },
    {
     "name": "stderr",
     "output_type": "stream",
     "text": [
      " 70%|\u001b[34m███████   \u001b[0m| 7/10 [00:41<00:17,  5.89s/it]\u001b[32m [repeated 2x across cluster]\u001b[0m\n"
     ]
    },
    {
     "name": "stdout",
     "output_type": "stream",
     "text": [
      "\u001b[36m(launch_and_fit pid=14544)\u001b[0m \tTrain Epoch: 8 \tTrain_loss: 0.0386 | Train_acc: 99.1233 % | Validation_loss: 1.4998 | Validation_acc: 65.6789 %\u001b[32m [repeated 2x across cluster]\u001b[0m\n"
     ]
    },
    {
     "name": "stderr",
     "output_type": "stream",
     "text": [
      " 80%|\u001b[34m████████  \u001b[0m| 8/10 [00:47<00:11,  5.84s/it]\u001b[32m [repeated 2x across cluster]\u001b[0m\n"
     ]
    },
    {
     "name": "stdout",
     "output_type": "stream",
     "text": [
      "\u001b[36m(launch_and_fit pid=14544)\u001b[0m \tTrain Epoch: 9 \tTrain_loss: 0.0625 | Train_acc: 98.3290 % | Validation_loss: 1.6384 | Validation_acc: 62.8435 %\u001b[32m [repeated 2x across cluster]\u001b[0m\n"
     ]
    },
    {
     "name": "stderr",
     "output_type": "stream",
     "text": [
      " 90%|\u001b[34m█████████ \u001b[0m| 9/10 [00:53<00:05,  5.88s/it]\u001b[32m [repeated 2x across cluster]\u001b[0m\n"
     ]
    },
    {
     "name": "stdout",
     "output_type": "stream",
     "text": [
      "\u001b[36m(launch_and_fit pid=14544)\u001b[0m save graph in  results/FL/\n",
      "\u001b[36m(launch_and_fit pid=14544)\u001b[0m \tTrain Epoch: 10 \tTrain_loss: 0.0568 | Train_acc: 98.6328 % | Validation_loss: 1.4997 | Validation_acc: 67.0663 %\u001b[32m [repeated 2x across cluster]\u001b[0m\n"
     ]
    },
    {
     "name": "stderr",
     "output_type": "stream",
     "text": [
      "100%|\u001b[34m██████████\u001b[0m| 10/10 [00:58<00:00,  5.88s/it]\u001b[32m [repeated 2x across cluster]\u001b[0m\n"
     ]
    },
    {
     "name": "stdout",
     "output_type": "stream",
     "text": [
      "\u001b[36m(launch_and_fit pid=14620)\u001b[0m Run WITHOUT homomorphic encryption\n",
      "\u001b[36m(launch_and_fit pid=14620)\u001b[0m  To get the checkpoint\n",
      "\u001b[36m(launch_and_fit pid=14570)\u001b[0m save graph in  results/FL/\n",
      "\u001b[36m(launch_and_fit pid=14570)\u001b[0m \tTrain Epoch: 10 \tTrain_loss: 0.1492 | Train_acc: 95.5208 % | Validation_loss: 1.2995 | Validation_acc: 68.0226 %\n"
     ]
    },
    {
     "name": "stderr",
     "output_type": "stream",
     "text": [
      "  0%|\u001b[34m          \u001b[0m| 0/10 [00:00<?, ?it/s]\n",
      "100%|\u001b[34m██████████\u001b[0m| 10/10 [00:59<00:00,  5.98s/it]\n"
     ]
    },
    {
     "name": "stdout",
     "output_type": "stream",
     "text": [
      "\u001b[36m(launch_and_fit pid=14620)\u001b[0m [Client 3, round 20] fit, config: {'learning_rate': 0.001, 'batch_size': '128', 'server_round': 20, 'local_epochs': 10}\n",
      "\u001b[36m(launch_and_fit pid=14620)\u001b[0m Updated model\n"
     ]
    },
    {
     "name": "stderr",
     "output_type": "stream",
     "text": [
      " 10%|\u001b[34m█         \u001b[0m| 1/10 [00:06<00:54,  6.07s/it]\n",
      "  0%|\u001b[34m          \u001b[0m| 0/10 [00:00<?, ?it/s]\n"
     ]
    },
    {
     "name": "stdout",
     "output_type": "stream",
     "text": [
      "\u001b[36m(launch_and_fit pid=14620)\u001b[0m \tTrain Epoch: 1 \tTrain_loss: 0.3471 | Train_acc: 89.4488 % | Validation_loss: 1.1857 | Validation_acc: 69.0396 %\n",
      "\u001b[36m(launch_and_fit pid=14645)\u001b[0m Run WITHOUT homomorphic encryption\n",
      "\u001b[36m(launch_and_fit pid=14645)\u001b[0m  To get the checkpoint\n",
      "\u001b[36m(launch_and_fit pid=14645)\u001b[0m [Client 1, round 20] fit, config: {'learning_rate': 0.001, 'batch_size': '128', 'server_round': 20, 'local_epochs': 10}\n",
      "\u001b[36m(launch_and_fit pid=14645)\u001b[0m Updated model\n"
     ]
    },
    {
     "name": "stderr",
     "output_type": "stream",
     "text": [
      " 20%|\u001b[34m██        \u001b[0m| 2/10 [00:12<00:48,  6.12s/it]\u001b[32m [repeated 2x across cluster]\u001b[0m\n"
     ]
    },
    {
     "name": "stdout",
     "output_type": "stream",
     "text": [
      "\u001b[36m(launch_and_fit pid=14620)\u001b[0m \tTrain Epoch: 2 \tTrain_loss: 0.1566 | Train_acc: 95.4470 % | Validation_loss: 1.1525 | Validation_acc: 70.2115 %\u001b[32m [repeated 2x across cluster]\u001b[0m\n"
     ]
    },
    {
     "name": "stderr",
     "output_type": "stream",
     "text": [
      " 30%|\u001b[34m███       \u001b[0m| 3/10 [00:17<00:41,  5.95s/it]\u001b[32m [repeated 2x across cluster]\u001b[0m\n"
     ]
    },
    {
     "name": "stdout",
     "output_type": "stream",
     "text": [
      "\u001b[36m(launch_and_fit pid=14620)\u001b[0m \tTrain Epoch: 3 \tTrain_loss: 0.0901 | Train_acc: 97.4609 % | Validation_loss: 1.2205 | Validation_acc: 69.6255 %\u001b[32m [repeated 2x across cluster]\u001b[0m\n"
     ]
    },
    {
     "name": "stderr",
     "output_type": "stream",
     "text": [
      " 40%|\u001b[34m████      \u001b[0m| 4/10 [00:23<00:34,  5.82s/it]\u001b[32m [repeated 2x across cluster]\u001b[0m\n"
     ]
    },
    {
     "name": "stdout",
     "output_type": "stream",
     "text": [
      "\u001b[36m(launch_and_fit pid=14620)\u001b[0m \tTrain Epoch: 4 \tTrain_loss: 0.0677 | Train_acc: 98.3507 % | Validation_loss: 1.2130 | Validation_acc: 71.1274 %\u001b[32m [repeated 2x across cluster]\u001b[0m\n"
     ]
    },
    {
     "name": "stderr",
     "output_type": "stream",
     "text": [
      " 50%|\u001b[34m█████     \u001b[0m| 5/10 [00:29<00:28,  5.72s/it]\u001b[32m [repeated 2x across cluster]\u001b[0m\n"
     ]
    },
    {
     "name": "stdout",
     "output_type": "stream",
     "text": [
      "\u001b[36m(launch_and_fit pid=14620)\u001b[0m \tTrain Epoch: 5 \tTrain_loss: 0.0437 | Train_acc: 99.1319 % | Validation_loss: 1.2821 | Validation_acc: 70.7031 %\u001b[32m [repeated 2x across cluster]\u001b[0m\n"
     ]
    },
    {
     "name": "stderr",
     "output_type": "stream",
     "text": [
      " 60%|\u001b[34m██████    \u001b[0m| 6/10 [00:35<00:23,  5.85s/it]\u001b[32m [repeated 2x across cluster]\u001b[0m\n"
     ]
    },
    {
     "name": "stdout",
     "output_type": "stream",
     "text": [
      "\u001b[36m(launch_and_fit pid=14620)\u001b[0m \tTrain Epoch: 6 \tTrain_loss: 0.0378 | Train_acc: 99.0668 % | Validation_loss: 1.2767 | Validation_acc: 69.4504 %\u001b[32m [repeated 2x across cluster]\u001b[0m\n"
     ]
    },
    {
     "name": "stderr",
     "output_type": "stream",
     "text": [
      " 70%|\u001b[34m███████   \u001b[0m| 7/10 [00:41<00:17,  5.87s/it]\u001b[32m [repeated 2x across cluster]\u001b[0m\n"
     ]
    },
    {
     "name": "stdout",
     "output_type": "stream",
     "text": [
      "\u001b[36m(launch_and_fit pid=14620)\u001b[0m \tTrain Epoch: 7 \tTrain_loss: 0.0394 | Train_acc: 99.2405 % | Validation_loss: 1.2282 | Validation_acc: 71.5248 %\u001b[32m [repeated 2x across cluster]\u001b[0m\n"
     ]
    },
    {
     "name": "stderr",
     "output_type": "stream",
     "text": [
      " 80%|\u001b[34m████████  \u001b[0m| 8/10 [00:46<00:11,  5.83s/it]\u001b[32m [repeated 2x across cluster]\u001b[0m\n"
     ]
    },
    {
     "name": "stdout",
     "output_type": "stream",
     "text": [
      "\u001b[36m(launch_and_fit pid=14620)\u001b[0m \tTrain Epoch: 8 \tTrain_loss: 0.0263 | Train_acc: 99.5660 % | Validation_loss: 1.3346 | Validation_acc: 70.4270 %\u001b[32m [repeated 2x across cluster]\u001b[0m\n"
     ]
    },
    {
     "name": "stderr",
     "output_type": "stream",
     "text": [
      " 90%|\u001b[34m█████████ \u001b[0m| 9/10 [00:52<00:05,  5.74s/it]\u001b[32m [repeated 2x across cluster]\u001b[0m\n"
     ]
    },
    {
     "name": "stdout",
     "output_type": "stream",
     "text": [
      "\u001b[36m(launch_and_fit pid=14620)\u001b[0m \tTrain Epoch: 9 \tTrain_loss: 0.0228 | Train_acc: 99.5877 % | Validation_loss: 1.2858 | Validation_acc: 70.4068 %\u001b[32m [repeated 2x across cluster]\u001b[0m\n"
     ]
    },
    {
     "name": "stderr",
     "output_type": "stream",
     "text": [
      "100%|\u001b[34m██████████\u001b[0m| 10/10 [00:58<00:00,  5.80s/it]\u001b[32m [repeated 2x across cluster]\u001b[0m\n"
     ]
    },
    {
     "name": "stdout",
     "output_type": "stream",
     "text": [
      "\u001b[36m(launch_and_fit pid=14620)\u001b[0m save graph in  results/FL/\n",
      "\u001b[36m(launch_and_fit pid=14620)\u001b[0m \tTrain Epoch: 10 \tTrain_loss: 0.0264 | Train_acc: 99.4792 % | Validation_loss: 1.2832 | Validation_acc: 70.6223 %\u001b[32m [repeated 2x across cluster]\u001b[0m\n",
      "\u001b[36m(launch_and_fit pid=14694)\u001b[0m Run WITHOUT homomorphic encryption\n",
      "\u001b[36m(launch_and_fit pid=14694)\u001b[0m  To get the checkpoint\n",
      "\u001b[36m(launch_and_fit pid=14645)\u001b[0m save graph in  results/FL/\n",
      "\u001b[36m(launch_and_fit pid=14645)\u001b[0m \tTrain Epoch: 10 \tTrain_loss: 0.0086 | Train_acc: 99.9349 % | Validation_loss: 1.4157 | Validation_acc: 71.4642 %\n"
     ]
    },
    {
     "name": "stderr",
     "output_type": "stream",
     "text": [
      "  0%|\u001b[34m          \u001b[0m| 0/10 [00:00<?, ?it/s]\n",
      "100%|\u001b[34m██████████\u001b[0m| 10/10 [00:59<00:00,  5.97s/it]\n"
     ]
    },
    {
     "name": "stdout",
     "output_type": "stream",
     "text": [
      "\u001b[36m(launch_and_fit pid=14694)\u001b[0m [Client 2, round 20] fit, config: {'learning_rate': 0.001, 'batch_size': '128', 'server_round': 20, 'local_epochs': 10}\n",
      "\u001b[36m(launch_and_fit pid=14694)\u001b[0m Updated model\n"
     ]
    },
    {
     "name": "stderr",
     "output_type": "stream",
     "text": [
      " 10%|\u001b[34m█         \u001b[0m| 1/10 [00:06<01:00,  6.74s/it]\n",
      "  0%|\u001b[34m          \u001b[0m| 0/10 [00:00<?, ?it/s]\n"
     ]
    },
    {
     "name": "stdout",
     "output_type": "stream",
     "text": [
      "\u001b[36m(launch_and_fit pid=14694)\u001b[0m \tTrain Epoch: 1 \tTrain_loss: 0.3386 | Train_acc: 89.5095 % | Validation_loss: 1.1919 | Validation_acc: 67.7465 %\n",
      "\u001b[36m(launch_and_fit pid=14719)\u001b[0m Run WITHOUT homomorphic encryption\n",
      "\u001b[36m(launch_and_fit pid=14719)\u001b[0m  To get the checkpoint\n",
      "\u001b[36m(launch_and_fit pid=14719)\u001b[0m [Client 8, round 20] fit, config: {'learning_rate': 0.001, 'batch_size': '128', 'server_round': 20, 'local_epochs': 10}\n",
      "\u001b[36m(launch_and_fit pid=14719)\u001b[0m Updated model\n"
     ]
    },
    {
     "name": "stderr",
     "output_type": "stream",
     "text": [
      " 20%|\u001b[34m██        \u001b[0m| 2/10 [00:12<00:50,  6.32s/it]\u001b[32m [repeated 2x across cluster]\u001b[0m\n"
     ]
    },
    {
     "name": "stdout",
     "output_type": "stream",
     "text": [
      "\u001b[36m(launch_and_fit pid=14694)\u001b[0m \tTrain Epoch: 2 \tTrain_loss: 0.1322 | Train_acc: 96.5495 % | Validation_loss: 1.3445 | Validation_acc: 67.1808 %\u001b[32m [repeated 2x across cluster]\u001b[0m\n"
     ]
    },
    {
     "name": "stderr",
     "output_type": "stream",
     "text": [
      " 30%|\u001b[34m███       \u001b[0m| 3/10 [00:18<00:42,  6.01s/it]\u001b[32m [repeated 2x across cluster]\u001b[0m\n"
     ]
    },
    {
     "name": "stdout",
     "output_type": "stream",
     "text": [
      "\u001b[36m(launch_and_fit pid=14694)\u001b[0m \tTrain Epoch: 3 \tTrain_loss: 0.0840 | Train_acc: 97.6345 % | Validation_loss: 1.3596 | Validation_acc: 68.3930 %\u001b[32m [repeated 2x across cluster]\u001b[0m\n"
     ]
    },
    {
     "name": "stderr",
     "output_type": "stream",
     "text": [
      " 40%|\u001b[34m████      \u001b[0m| 4/10 [00:24<00:35,  5.90s/it]\u001b[32m [repeated 2x across cluster]\u001b[0m\n"
     ]
    },
    {
     "name": "stdout",
     "output_type": "stream",
     "text": [
      "\u001b[36m(launch_and_fit pid=14694)\u001b[0m \tTrain Epoch: 4 \tTrain_loss: 0.0550 | Train_acc: 98.6328 % | Validation_loss: 1.4164 | Validation_acc: 67.3559 %\u001b[32m [repeated 2x across cluster]\u001b[0m\n"
     ]
    },
    {
     "name": "stderr",
     "output_type": "stream",
     "text": [
      " 50%|\u001b[34m█████     \u001b[0m| 5/10 [00:30<00:29,  5.90s/it]\u001b[32m [repeated 2x across cluster]\u001b[0m\n"
     ]
    },
    {
     "name": "stdout",
     "output_type": "stream",
     "text": [
      "\u001b[36m(launch_and_fit pid=14694)\u001b[0m \tTrain Epoch: 5 \tTrain_loss: 0.0549 | Train_acc: 98.9062 % | Validation_loss: 1.3431 | Validation_acc: 68.5277 %\u001b[32m [repeated 2x across cluster]\u001b[0m\n"
     ]
    },
    {
     "name": "stderr",
     "output_type": "stream",
     "text": [
      " 60%|\u001b[34m██████    \u001b[0m| 6/10 [00:36<00:24,  6.07s/it]\u001b[32m [repeated 2x across cluster]\u001b[0m\n"
     ]
    },
    {
     "name": "stdout",
     "output_type": "stream",
     "text": [
      "\u001b[36m(launch_and_fit pid=14694)\u001b[0m \tTrain Epoch: 6 \tTrain_loss: 0.0977 | Train_acc: 97.6476 % | Validation_loss: 1.3536 | Validation_acc: 69.3494 %\u001b[32m [repeated 2x across cluster]\u001b[0m\n"
     ]
    },
    {
     "name": "stderr",
     "output_type": "stream",
     "text": [
      " 70%|\u001b[34m███████   \u001b[0m| 7/10 [00:42<00:17,  5.97s/it]\u001b[32m [repeated 2x across cluster]\u001b[0m\n"
     ]
    },
    {
     "name": "stdout",
     "output_type": "stream",
     "text": [
      "\u001b[36m(launch_and_fit pid=14694)\u001b[0m \tTrain Epoch: 7 \tTrain_loss: 0.0682 | Train_acc: 98.2986 % | Validation_loss: 1.5061 | Validation_acc: 64.7899 %\u001b[32m [repeated 2x across cluster]\u001b[0m\n"
     ]
    },
    {
     "name": "stderr",
     "output_type": "stream",
     "text": [
      " 80%|\u001b[34m████████  \u001b[0m| 8/10 [00:48<00:11,  5.97s/it]\u001b[32m [repeated 2x across cluster]\u001b[0m\n"
     ]
    },
    {
     "name": "stdout",
     "output_type": "stream",
     "text": [
      "\u001b[36m(launch_and_fit pid=14694)\u001b[0m \tTrain Epoch: 8 \tTrain_loss: 0.0733 | Train_acc: 98.2118 % | Validation_loss: 1.4900 | Validation_acc: 65.2815 %\u001b[32m [repeated 2x across cluster]\u001b[0m\n"
     ]
    },
    {
     "name": "stderr",
     "output_type": "stream",
     "text": [
      " 90%|\u001b[34m█████████ \u001b[0m| 9/10 [00:53<00:05,  5.91s/it]\u001b[32m [repeated 2x across cluster]\u001b[0m\n"
     ]
    },
    {
     "name": "stdout",
     "output_type": "stream",
     "text": [
      "\u001b[36m(launch_and_fit pid=14694)\u001b[0m \tTrain Epoch: 9 \tTrain_loss: 0.0671 | Train_acc: 98.4071 % | Validation_loss: 1.5132 | Validation_acc: 65.1872 %\u001b[32m [repeated 2x across cluster]\u001b[0m\n"
     ]
    },
    {
     "name": "stderr",
     "output_type": "stream",
     "text": [
      "100%|\u001b[34m██████████\u001b[0m| 10/10 [00:59<00:00,  5.98s/it]\u001b[32m [repeated 2x across cluster]\u001b[0m\n"
     ]
    },
    {
     "name": "stdout",
     "output_type": "stream",
     "text": [
      "\u001b[36m(launch_and_fit pid=14694)\u001b[0m save graph in  results/FL/\n",
      "\u001b[36m(launch_and_fit pid=14694)\u001b[0m \tTrain Epoch: 10 \tTrain_loss: 0.0453 | Train_acc: 99.0885 % | Validation_loss: 1.5767 | Validation_acc: 65.5981 %\u001b[32m [repeated 2x across cluster]\u001b[0m\n",
      "\u001b[36m(launch_and_fit pid=14768)\u001b[0m Run WITHOUT homomorphic encryption\n",
      "\u001b[36m(launch_and_fit pid=14768)\u001b[0m  To get the checkpoint\n",
      "\u001b[36m(launch_and_fit pid=14719)\u001b[0m save graph in  results/FL/\n",
      "\u001b[36m(launch_and_fit pid=14719)\u001b[0m \tTrain Epoch: 10 \tTrain_loss: 0.0341 | Train_acc: 99.2752 % | Validation_loss: 1.6692 | Validation_acc: 64.6417 %\n",
      "\u001b[36m(launch_and_fit pid=14768)\u001b[0m [Client 5, round 20] fit, config: {'learning_rate': 0.001, 'batch_size': '128', 'server_round': 20, 'local_epochs': 10}\n",
      "\u001b[36m(launch_and_fit pid=14768)\u001b[0m Updated model\n"
     ]
    },
    {
     "name": "stderr",
     "output_type": "stream",
     "text": [
      "  0%|\u001b[34m          \u001b[0m| 0/10 [00:00<?, ?it/s]\n",
      "100%|\u001b[34m██████████\u001b[0m| 10/10 [00:59<00:00,  5.98s/it]\n"
     ]
    },
    {
     "name": "stdout",
     "output_type": "stream",
     "text": [
      "\u001b[36m(launch_and_fit pid=14768)\u001b[0m \tTrain Epoch: 1 \tTrain_loss: 0.3636 | Train_acc: 88.3594 % | Validation_loss: 1.1945 | Validation_acc: 69.6053 %\n",
      "\u001b[36m(launch_and_fit pid=14793)\u001b[0m Run WITHOUT homomorphic encryption\n",
      "\u001b[36m(launch_and_fit pid=14793)\u001b[0m  To get the checkpoint\n",
      "\u001b[36m(launch_and_fit pid=14793)\u001b[0m [Client 0, round 20] fit, config: {'learning_rate': 0.001, 'batch_size': '128', 'server_round': 20, 'local_epochs': 10}\n",
      "\u001b[36m(launch_and_fit pid=14793)\u001b[0m Updated model\n"
     ]
    },
    {
     "name": "stderr",
     "output_type": "stream",
     "text": [
      " 10%|\u001b[34m█         \u001b[0m| 1/10 [00:06<00:58,  6.56s/it]\n",
      "  0%|\u001b[34m          \u001b[0m| 0/10 [00:00<?, ?it/s]\n"
     ]
    },
    {
     "name": "stdout",
     "output_type": "stream",
     "text": [
      "\u001b[36m(launch_and_fit pid=14768)\u001b[0m \tTrain Epoch: 2 \tTrain_loss: 0.1614 | Train_acc: 95.4427 % | Validation_loss: 1.2305 | Validation_acc: 71.1072 %\u001b[32m [repeated 2x across cluster]\u001b[0m\n"
     ]
    },
    {
     "name": "stderr",
     "output_type": "stream",
     "text": [
      " 20%|\u001b[34m██        \u001b[0m| 2/10 [00:12<00:49,  6.21s/it]\u001b[32m [repeated 2x across cluster]\u001b[0m\n"
     ]
    },
    {
     "name": "stdout",
     "output_type": "stream",
     "text": [
      "\u001b[36m(launch_and_fit pid=14768)\u001b[0m \tTrain Epoch: 3 \tTrain_loss: 0.0905 | Train_acc: 97.5825 % | Validation_loss: 1.3234 | Validation_acc: 69.5245 %\u001b[32m [repeated 2x across cluster]\u001b[0m\n"
     ]
    },
    {
     "name": "stderr",
     "output_type": "stream",
     "text": [
      " 30%|\u001b[34m███       \u001b[0m| 3/10 [00:18<00:42,  6.04s/it]\u001b[32m [repeated 2x across cluster]\u001b[0m\n"
     ]
    },
    {
     "name": "stdout",
     "output_type": "stream",
     "text": [
      "\u001b[36m(launch_and_fit pid=14768)\u001b[0m \tTrain Epoch: 4 \tTrain_loss: 0.0789 | Train_acc: 97.7778 % | Validation_loss: 1.3872 | Validation_acc: 70.1105 %\u001b[32m [repeated 2x across cluster]\u001b[0m\n"
     ]
    },
    {
     "name": "stderr",
     "output_type": "stream",
     "text": [
      " 40%|\u001b[34m████      \u001b[0m| 4/10 [00:24<00:35,  5.95s/it]\u001b[32m [repeated 2x across cluster]\u001b[0m\n"
     ]
    },
    {
     "name": "stdout",
     "output_type": "stream",
     "text": [
      "\u001b[36m(launch_and_fit pid=14768)\u001b[0m \tTrain Epoch: 5 \tTrain_loss: 0.0599 | Train_acc: 98.8281 % | Validation_loss: 1.3221 | Validation_acc: 71.3429 %\u001b[32m [repeated 2x across cluster]\u001b[0m\n"
     ]
    },
    {
     "name": "stderr",
     "output_type": "stream",
     "text": [
      " 50%|\u001b[34m█████     \u001b[0m| 5/10 [00:30<00:30,  6.00s/it]\u001b[32m [repeated 2x across cluster]\u001b[0m\n"
     ]
    },
    {
     "name": "stdout",
     "output_type": "stream",
     "text": [
      "\u001b[36m(launch_and_fit pid=14768)\u001b[0m \tTrain Epoch: 6 \tTrain_loss: 0.0446 | Train_acc: 99.1536 % | Validation_loss: 1.3118 | Validation_acc: 70.3260 %\u001b[32m [repeated 2x across cluster]\u001b[0m\n"
     ]
    },
    {
     "name": "stderr",
     "output_type": "stream",
     "text": [
      " 60%|\u001b[34m██████    \u001b[0m| 6/10 [00:36<00:24,  6.03s/it]\u001b[32m [repeated 2x across cluster]\u001b[0m\n"
     ]
    },
    {
     "name": "stdout",
     "output_type": "stream",
     "text": [
      "\u001b[36m(launch_and_fit pid=14768)\u001b[0m \tTrain Epoch: 7 \tTrain_loss: 0.0447 | Train_acc: 99.0017 % | Validation_loss: 1.3565 | Validation_acc: 70.6425 %\u001b[32m [repeated 2x across cluster]\u001b[0m\n"
     ]
    },
    {
     "name": "stderr",
     "output_type": "stream",
     "text": [
      " 70%|\u001b[34m███████   \u001b[0m| 7/10 [00:42<00:17,  5.94s/it]\u001b[32m [repeated 2x across cluster]\u001b[0m\n"
     ]
    },
    {
     "name": "stdout",
     "output_type": "stream",
     "text": [
      "\u001b[36m(launch_and_fit pid=14768)\u001b[0m \tTrain Epoch: 8 \tTrain_loss: 0.0804 | Train_acc: 97.7778 % | Validation_loss: 1.4478 | Validation_acc: 69.5447 %\u001b[32m [repeated 2x across cluster]\u001b[0m\n"
     ]
    },
    {
     "name": "stderr",
     "output_type": "stream",
     "text": [
      " 80%|\u001b[34m████████  \u001b[0m| 8/10 [00:47<00:11,  5.86s/it]\u001b[32m [repeated 2x across cluster]\u001b[0m\n"
     ]
    },
    {
     "name": "stdout",
     "output_type": "stream",
     "text": [
      "\u001b[36m(launch_and_fit pid=14768)\u001b[0m \tTrain Epoch: 9 \tTrain_loss: 0.1429 | Train_acc: 95.7682 % | Validation_loss: 1.4078 | Validation_acc: 68.5075 %\u001b[32m [repeated 2x across cluster]\u001b[0m\n"
     ]
    },
    {
     "name": "stderr",
     "output_type": "stream",
     "text": [
      " 90%|\u001b[34m█████████ \u001b[0m| 9/10 [00:53<00:05,  5.81s/it]\u001b[32m [repeated 2x across cluster]\u001b[0m\n"
     ]
    },
    {
     "name": "stdout",
     "output_type": "stream",
     "text": [
      "\u001b[36m(launch_and_fit pid=14768)\u001b[0m save graph in  results/FL/\n",
      "\u001b[36m(launch_and_fit pid=14768)\u001b[0m \tTrain Epoch: 10 \tTrain_loss: 0.1030 | Train_acc: 97.1050 % | Validation_loss: 1.4309 | Validation_acc: 68.0765 %\u001b[32m [repeated 2x across cluster]\u001b[0m\n"
     ]
    },
    {
     "name": "stderr",
     "output_type": "stream",
     "text": [
      "100%|\u001b[34m██████████\u001b[0m| 10/10 [00:59<00:00,  5.97s/it]\u001b[32m [repeated 2x across cluster]\u001b[0m\n",
      "DEBUG flwr 2024-07-20 20:46:39,854 | server.py:236 | fit_round 20 received 10 results and 0 failures\n"
     ]
    },
    {
     "name": "stdout",
     "output_type": "stream",
     "text": [
      "Saving round 20 aggregated_parameters...\n",
      "Updated model\n"
     ]
    },
    {
     "name": "stderr",
     "output_type": "stream",
     "text": [
      "INFO flwr 2024-07-20 20:46:45,700 | server.py:125 | fit progress: (20, 1.2025719835788389, {'accuracy': 72.16178797468355}, 9000.389588454)\n",
      "DEBUG flwr 2024-07-20 20:46:45,701 | server.py:173 | evaluate_round 20: strategy sampled 10 clients (out of 10)\n"
     ]
    },
    {
     "name": "stdout",
     "output_type": "stream",
     "text": [
      "Server-side evaluation loss 1.2025719835788389 / accuracy 72.16178797468355\n",
      "\u001b[36m(launch_and_evaluate pid=14852)\u001b[0m Run WITHOUT homomorphic encryption\n",
      "\u001b[36m(launch_and_evaluate pid=14852)\u001b[0m  To get the checkpoint\n",
      "\u001b[36m(launch_and_fit pid=14793)\u001b[0m save graph in  results/FL/\n",
      "\u001b[36m(launch_and_fit pid=14793)\u001b[0m \tTrain Epoch: 10 \tTrain_loss: 0.0082 | Train_acc: 99.9566 % | Validation_loss: 1.4131 | Validation_acc: 69.9555 %\n",
      "\u001b[36m(launch_and_evaluate pid=14851)\u001b[0m [Client 7] evaluate, config: {}\n",
      "\u001b[36m(launch_and_evaluate pid=14851)\u001b[0m Updated model\n",
      "\u001b[36m(launch_and_evaluate pid=14922)\u001b[0m Run WITHOUT homomorphic encryption\u001b[32m [repeated 2x across cluster]\u001b[0m\n",
      "\u001b[36m(launch_and_evaluate pid=14922)\u001b[0m  To get the checkpoint\u001b[32m [repeated 2x across cluster]\u001b[0m\n",
      "\u001b[36m(launch_and_evaluate pid=14852)\u001b[0m [Client 4] evaluate, config: {}\n",
      "\u001b[36m(launch_and_evaluate pid=14852)\u001b[0m Updated model\n",
      "\u001b[36m(launch_and_evaluate pid=14922)\u001b[0m [Client 2] evaluate, config: {}\n",
      "\u001b[36m(launch_and_evaluate pid=14922)\u001b[0m Updated model\n",
      "\u001b[36m(launch_and_evaluate pid=14993)\u001b[0m Run WITHOUT homomorphic encryption\u001b[32m [repeated 2x across cluster]\u001b[0m\n",
      "\u001b[36m(launch_and_evaluate pid=14993)\u001b[0m  To get the checkpoint\u001b[32m [repeated 2x across cluster]\u001b[0m\n",
      "\u001b[36m(launch_and_evaluate pid=14924)\u001b[0m [Client 5] evaluate, config: {}\n",
      "\u001b[36m(launch_and_evaluate pid=14924)\u001b[0m Updated model\n",
      "\u001b[36m(launch_and_evaluate pid=14993)\u001b[0m [Client 8] evaluate, config: {}\n",
      "\u001b[36m(launch_and_evaluate pid=14993)\u001b[0m Updated model\n",
      "\u001b[36m(launch_and_evaluate pid=15063)\u001b[0m Run WITHOUT homomorphic encryption\u001b[32m [repeated 2x across cluster]\u001b[0m\n",
      "\u001b[36m(launch_and_evaluate pid=15063)\u001b[0m  To get the checkpoint\u001b[32m [repeated 2x across cluster]\u001b[0m\n",
      "\u001b[36m(launch_and_evaluate pid=14995)\u001b[0m [Client 1] evaluate, config: {}\n",
      "\u001b[36m(launch_and_evaluate pid=14995)\u001b[0m Updated model\n",
      "\u001b[36m(launch_and_evaluate pid=15063)\u001b[0m [Client 3] evaluate, config: {}\n",
      "\u001b[36m(launch_and_evaluate pid=15063)\u001b[0m Updated model\n",
      "\u001b[36m(launch_and_evaluate pid=15133)\u001b[0m Run WITHOUT homomorphic encryption\u001b[32m [repeated 2x across cluster]\u001b[0m\n",
      "\u001b[36m(launch_and_evaluate pid=15133)\u001b[0m  To get the checkpoint\u001b[32m [repeated 2x across cluster]\u001b[0m\n",
      "\u001b[36m(launch_and_evaluate pid=15065)\u001b[0m [Client 0] evaluate, config: {}\n",
      "\u001b[36m(launch_and_evaluate pid=15065)\u001b[0m Updated model\n",
      "\u001b[36m(launch_and_evaluate pid=15133)\u001b[0m [Client 6] evaluate, config: {}\n",
      "\u001b[36m(launch_and_evaluate pid=15133)\u001b[0m Updated model\n"
     ]
    },
    {
     "name": "stderr",
     "output_type": "stream",
     "text": [
      "DEBUG flwr 2024-07-20 20:48:03,186 | server.py:187 | evaluate_round 20 received 10 results and 0 failures\n",
      "INFO flwr 2024-07-20 20:48:03,187 | server.py:153 | FL finished in 9077.876325909001\n",
      "INFO flwr 2024-07-20 20:48:03,188 | app.py:225 | app_fit: losses_distributed [(1, 2.3190200567245483), (2, 1.8807583957910539), (3, 1.7203491091728211), (4, 1.5480486512184144), (5, 1.4233102828264237), (6, 1.3371239364147187), (7, 1.2532056778669358), (8, 1.1933789759874345), (9, 1.1554857030510903), (10, 1.1276124954223632), (11, 1.1133279636502267), (12, 1.0981201395392417), (13, 1.0965973481535911), (14, 1.1123902156949044), (15, 1.136838437616825), (16, 1.1476119592785836), (17, 1.1337714836001396), (18, 1.145169733464718), (19, 1.1513233035802841), (20, 1.1411516547203064)]\n",
      "INFO flwr 2024-07-20 20:48:03,190 | app.py:226 | app_fit: metrics_distributed_fit {}\n",
      "INFO flwr 2024-07-20 20:48:03,191 | app.py:227 | app_fit: metrics_distributed {'accuracy': [(1, 10.185883620689655), (2, 22.531654094827584), (3, 34.759563577586206), (4, 40.53811961206897), (5, 47.640086206896555), (6, 51.76926185344828), (7, 57.964035560344826), (8, 62.09792564655173), (9, 64.49488146551724), (10, 66.36516702586206), (11, 67.92497306034483), (12, 69.16419719827586), (13, 69.70972521551724), (14, 70.72804418103448), (15, 70.89035560344828), (16, 71.60964439655172), (17, 72.92699353448276), (18, 72.72023168103449), (19, 73.66783405172416), (20, 73.78098060344828)]}\n",
      "INFO flwr 2024-07-20 20:48:03,191 | app.py:228 | app_fit: losses_centralized [(0, 2.3390820116936406), (1, 2.319431069531018), (2, 1.885456296462047), (3, 1.7270428168622753), (4, 1.5627519344981713), (5, 1.4527666629115237), (6, 1.3592763173429272), (7, 1.2731286890899078), (8, 1.2171119692959362), (9, 1.1753115518183648), (10, 1.1437229129332531), (11, 1.138053998916964), (12, 1.1323830741870253), (13, 1.12945915777472), (14, 1.1424430918089952), (15, 1.158285058751891), (16, 1.1720552225656147), (17, 1.1708924996701977), (18, 1.1848890887031072), (19, 1.1949346495580069), (20, 1.2025719835788389)]\n",
      "INFO flwr 2024-07-20 20:48:03,192 | app.py:229 | app_fit: metrics_centralized {'accuracy': [(0, 9.889240506329115), (1, 10.096914556962025), (2, 22.873813291139243), (3, 34.513449367088604), (4, 40.407436708860764), (5, 46.90466772151899), (6, 51.67128164556962), (7, 57.62460443037975), (8, 61.42207278481012), (9, 63.5878164556962), (10, 65.71400316455697), (11, 67.4248417721519), (12, 68.77966772151899), (13, 69.71914556962025), (14, 70.33227848101265), (15, 70.70806962025317), (16, 71.21242088607595), (17, 72.00356012658227), (18, 72.1123417721519), (19, 72.64636075949366), (20, 72.16178797468355)]}\n"
     ]
    },
    {
     "name": "stdout",
     "output_type": "stream",
     "text": [
      "Simulation Time = 9090.418488740921 seconds\n"
     ]
    }
   ],
   "source": [
    "import warnings\n",
    "warnings.simplefilter(\"ignore\")\n",
    "\n",
    "print(\"flwr\", fl.__version__)\n",
    "print(\"numpy\", np.__version__)\n",
    "print(\"torch\", torch.__version__)\n",
    "print(\"torchvision\", torchvision.__version__)\n",
    "print(f\"Training on {DEVICE}\")\n",
    "\n",
    "client_resources = None\n",
    "\n",
    "if DEVICE.type == \"cuda\":\n",
    "    client_resources = {\"num_gpus\": 1}\n",
    "\n",
    "model_save = model_save\n",
    "path_yaml = yaml_path\n",
    "path_roc = roc_path\n",
    "results_save = save_results\n",
    "path_matrix = matrix_path\n",
    "batch_size = batch_size\n",
    "he = he\n",
    "secret_path = 'secret.pkl'\n",
    "server_path = 'secret.pkl'\n",
    "path_crypted = 'server.pkl'\n",
    "\n",
    "print(\"Start simulation\")\n",
    "start_simulation = time.time()\n",
    "fl.simulation.start_simulation(\n",
    "    client_fn=client_fn,\n",
    "    num_clients=number_clients,\n",
    "    config=fl.server.ServerConfig(num_rounds=rounds),\n",
    "    strategy=strategy,\n",
    "    client_resources=client_resources\n",
    ")\n",
    "print(f\"Simulation Time = {time.time() - start_simulation} seconds\")"
   ]
  }
 ],
 "metadata": {
  "kernelspec": {
   "display_name": "fl_env",
   "language": "python",
   "name": "python3"
  },
  "language_info": {
   "codemirror_mode": {
    "name": "ipython",
    "version": 3
   },
   "file_extension": ".py",
   "mimetype": "text/x-python",
   "name": "python",
   "nbconvert_exporter": "python",
   "pygments_lexer": "ipython3",
   "version": "3.10.12"
  }
 },
 "nbformat": 4,
 "nbformat_minor": 2
}
