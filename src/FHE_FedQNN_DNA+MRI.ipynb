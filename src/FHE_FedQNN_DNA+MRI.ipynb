{
 "cells": [
  {
   "cell_type": "markdown",
   "metadata": {},
   "source": [
    "### Import necessary libraries and modules"
   ]
  },
  {
   "cell_type": "code",
   "execution_count": 1,
   "metadata": {},
   "outputs": [],
   "source": [
    "# %%bash\n",
    "\n",
    "# kaggle datasets download -d nageshsingh/dna-sequence-dataset\n",
    "# mkdir data data/DNA\n",
    "# unzip dna-sequence-dataset.zip -d data/DNA\n",
    "# rm dna-sequence-dataset.zip\n",
    "\n",
    "# kaggle datasets download -d masoudnickparvar/brain-tumor-mri-dataset\n",
    "# mkdir -p data/MRI\n",
    "# unzip brain-tumor-mri-dataset.zip -d data/MRI\n",
    "# rm brain-tumor-mri-dataset.zip"
   ]
  },
  {
   "cell_type": "code",
   "execution_count": 2,
   "metadata": {},
   "outputs": [],
   "source": [
    "import os\n",
    "import pickle\n",
    "import time\n",
    "from collections import OrderedDict\n",
    "from typing import (\n",
    "    List, Tuple, Dict, Optional, Callable, Union\n",
    ")\n",
    "import tenseal as ts\n",
    "\n",
    "import numpy as np\n",
    "import torchvision\n",
    "import torch\n",
    "from torch import nn\n",
    "import torch.nn.functional as F\n",
    "import flwr as fl\n",
    "from flwr.common import (\n",
    "    Metrics, EvaluateIns, EvaluateRes, FitIns, FitRes, MetricsAggregationFn, \n",
    "    Scalar, logger, ndarrays_to_parameters_custom, parameters_to_ndarrays_custom,\n",
    "    Parameters, NDArrays\n",
    ")\n",
    "from flwr.server.client_proxy import ClientProxy\n",
    "from flwr.server.client_manager import ClientManager\n",
    "from flwr.server.strategy.aggregate import weighted_loss_avg\n",
    "from logging import WARNING\n",
    "import pennylane as qml\n",
    "\n",
    "from utils import *\n",
    "\n",
    "os.environ['TOKENIZERS_PARALLELISM'] = 'false'"
   ]
  },
  {
   "cell_type": "markdown",
   "metadata": {},
   "source": [
    "### Creation of FHE Keys"
   ]
  },
  {
   "cell_type": "code",
   "execution_count": 3,
   "metadata": {},
   "outputs": [
    {
     "name": "stdout",
     "output_type": "stream",
     "text": [
      "it exists\n"
     ]
    }
   ],
   "source": [
    "def combo_keys(client_path=\"secret.pkl\", server_path=\"server_key.pkl\"):\n",
    "    \"\"\"\n",
    "    To create the public/private keys combination\n",
    "    args:\n",
    "        client_path: path to save the secret key (str)\n",
    "        server_path: path to save the server public key (str)\n",
    "    \"\"\"\n",
    "    context_client = security.context()\n",
    "    security.write_query(client_path, {\"contexte\": context_client.serialize(save_secret_key=True)})\n",
    "    security.write_query(server_path, {\"contexte\": context_client.serialize()})\n",
    "\n",
    "    _, context_client = security.read_query(client_path)\n",
    "    _, context_server = security.read_query(server_path)\n",
    "\n",
    "    context_client = ts.context_from(context_client)\n",
    "    context_server = ts.context_from(context_server)\n",
    "    print(\"Is the client context private?\", (\"Yes\" if context_client.is_private() else \"No\"))\n",
    "    print(\"Is the server context private?\", (\"Yes\" if context_server.is_private() else \"No\"))\n",
    "\n",
    "\n",
    "secret_path = \"secret.pkl\"\n",
    "public_path = \"server_key.pkl\"\n",
    "if os.path.exists(secret_path):\n",
    "    print(\"it exists\")\n",
    "    _, context_client = security.read_query(secret_path)\n",
    "\n",
    "else:\n",
    "    combo_keys(client_path=secret_path, server_path=public_path) "
   ]
  },
  {
   "cell_type": "markdown",
   "metadata": {},
   "source": [
    "### Model Architecture Creation"
   ]
  },
  {
   "cell_type": "code",
   "execution_count": 4,
   "metadata": {},
   "outputs": [],
   "source": [
    "# Quantum device definitions for MRI and DNA\n",
    "mri_n_qubits = 4\n",
    "dna_n_qubits = 7\n",
    "n_layers = 6\n",
    "\n",
    "mri_dev = qml.device(\"default.qubit.torch\", wires=mri_n_qubits)\n",
    "dna_dev = qml.device(\"default.qubit.torch\", wires=dna_n_qubits)\n",
    "\n",
    "# Quantum networks\n",
    "@qml.qnode(mri_dev, interface='torch')\n",
    "def mri_quantum_net(inputs, weights):\n",
    "    qml.AngleEmbedding(inputs, wires=range(mri_n_qubits))\n",
    "    qml.BasicEntanglerLayers(weights, wires=range(mri_n_qubits))\n",
    "    return [qml.expval(qml.PauliZ(i)) for i in range(mri_n_qubits)]\n",
    "\n",
    "@qml.qnode(dna_dev, interface='torch')\n",
    "def dna_quantum_net(inputs, weights):\n",
    "    qml.AngleEmbedding(inputs, wires=range(dna_n_qubits))\n",
    "    qml.BasicEntanglerLayers(weights, wires=range(dna_n_qubits))\n",
    "    return [qml.expval(qml.PauliZ(i)) for i in range(dna_n_qubits)]\n",
    "\n",
    "# Define weight shapes for the quantum networks\n",
    "mri_weight_shapes = {\"weights\": (n_layers, mri_n_qubits)}\n",
    "dna_weight_shapes = {\"weights\": (n_layers, dna_n_qubits)}\n",
    "\n",
    "# Define the MRI network\n",
    "class MRINet(nn.Module):\n",
    "    def __init__(self):\n",
    "        super(MRINet, self).__init__()\n",
    "        self.features = nn.Sequential(\n",
    "            nn.Conv2d(3, 16, kernel_size=3, padding=1),\n",
    "            nn.ReLU(inplace=True),\n",
    "            nn.MaxPool2d(kernel_size=2, stride=2),\n",
    "            nn.Conv2d(16, 32, kernel_size=3, padding=1),\n",
    "            nn.ReLU(inplace=True),\n",
    "            nn.MaxPool2d(kernel_size=2, stride=2)\n",
    "        )\n",
    "        self.classifier = nn.Sequential(\n",
    "            nn.Linear(32 * 56 * 56, 128),\n",
    "            nn.ReLU(inplace=True),\n",
    "            nn.Linear(128, mri_n_qubits),\n",
    "            qml.qnn.TorchLayer(mri_quantum_net, mri_weight_shapes)\n",
    "        )\n",
    "\n",
    "    def forward(self, x):\n",
    "        x = self.features(x)\n",
    "        x = x.view(x.size(0), -1)\n",
    "        x = self.classifier(x)\n",
    "        return x\n",
    "\n",
    "class DNANet(nn.Module):\n",
    "    def __init__(self):\n",
    "        super(DNANet, self).__init__()\n",
    "        self.fc1 = nn.Linear(384, 512)\n",
    "        self.relu = nn.LeakyReLU(negative_slope=0.01)\n",
    "        self.fc2 = nn.Linear(512, 256)\n",
    "        self.fc3 = nn.Linear(256, 128)\n",
    "        self.fc4 = nn.Linear(128, dna_n_qubits)\n",
    "        self.qnn = qml.qnn.TorchLayer(dna_quantum_net, dna_weight_shapes)\n",
    "        self.dropout = nn.Dropout(p=0.5)\n",
    "\n",
    "    def forward(self, x):\n",
    "        x = self.fc1(x)\n",
    "        x = self.relu(x)\n",
    "        x = self.fc2(x)\n",
    "        x = self.relu(x)\n",
    "        x = self.fc3(x)\n",
    "        x = self.relu(x)\n",
    "        x = self.fc4(x)\n",
    "        x = self.qnn(x)\n",
    "        return x\n",
    "\n",
    "class Net(nn.Module):\n",
    "    def __init__(self, num_classes_mri, num_classes_dna):\n",
    "        super(Net, self).__init__()\n",
    "        self.mri_net = MRINet()\n",
    "        self.dna_net = DNANet()\n",
    "        \n",
    "        self.feature_dim = mri_n_qubits + dna_n_qubits\n",
    "        self.num_heads = mri_n_qubits + dna_n_qubits\n",
    "        \n",
    "        self.attention = nn.MultiheadAttention(embed_dim=self.feature_dim, num_heads=self.num_heads)\n",
    "        \n",
    "        self.fc1 = nn.Linear(mri_n_qubits + dna_n_qubits, 128)\n",
    "        self.fc2_mri = nn.Linear(128, num_classes_mri)\n",
    "        self.fc2_dna = nn.Linear(128, num_classes_dna)\n",
    "        \n",
    "    def forward(self, mri_input, dna_input):\n",
    "        mri_features = self.mri_net(mri_input)\n",
    "        dna_features = self.dna_net(dna_input)\n",
    "        combined_features = torch.cat((mri_features, dna_features), dim=1)\n",
    "        combined_features = combined_features.unsqueeze(0)\n",
    "        attn_output, _ = self.attention(combined_features, combined_features, combined_features)\n",
    "        attn_output = attn_output.squeeze(0)\n",
    "        \n",
    "        x = F.relu(self.fc1(attn_output))\n",
    "        mri_output = self.fc2_mri(x)\n",
    "        dna_output = self.fc2_dna(x)\n",
    "        return mri_output, dna_output"
   ]
  },
  {
   "cell_type": "markdown",
   "metadata": {},
   "source": [
    "### Define the FlowerClient class for federated learning"
   ]
  },
  {
   "cell_type": "code",
   "execution_count": 5,
   "metadata": {},
   "outputs": [],
   "source": [
    "class FlowerClient(fl.client.NumPyClient):\n",
    "    def __init__(self, cid, net, trainloader, valloader, device, batch_size, save_results, matrix_path, roc_path,\n",
    "                 yaml_path, he, classes, context_client):\n",
    "        self.net = net\n",
    "        self.trainloader = trainloader\n",
    "        self.valloader = valloader\n",
    "        self.cid = cid\n",
    "        self.device = device\n",
    "        self.batch_size = batch_size\n",
    "        self.save_results = save_results\n",
    "        self.matrix_path = matrix_path\n",
    "        self.roc_path = roc_path\n",
    "        self.yaml_path = yaml_path\n",
    "        self.he = he\n",
    "        self.classes = classes\n",
    "        self.context_client = context_client\n",
    "\n",
    "    def get_parameters(self, config):\n",
    "        print(f\"[Client {self.cid}] get_parameters\")\n",
    "        return get_parameters2(self.net, self.context_client)\n",
    "\n",
    "    def fit(self, parameters, config):\n",
    "        server_round = config['server_round']\n",
    "        local_epochs = config['local_epochs']\n",
    "        lr = float(config[\"learning_rate\"])\n",
    "\n",
    "        print(f'[Client {self.cid}, round {server_round}] fit, config: {config}')\n",
    "\n",
    "        set_parameters(self.net, parameters, self.context_client)\n",
    "\n",
    "        criterion_mri = torch.nn.CrossEntropyLoss()\n",
    "        criterion_dna = torch.nn.CrossEntropyLoss()\n",
    "        optimizer = torch.optim.Adam(self.net.parameters(), lr=lr)\n",
    "\n",
    "        results = engine.train(self.net, self.trainloader, self.valloader, optimizer=optimizer, loss_fn=(criterion_mri, criterion_dna),\n",
    "                               epochs=local_epochs, device=self.device, task=\"Multimodal\")\n",
    "\n",
    "        if self.save_results:\n",
    "            print\n",
    "            save_graphs_multimodal(self.save_results, local_epochs, results, f\"_Client {self.cid}\")\n",
    "\n",
    "        return get_parameters2(self.net, self.context_client), len(self.trainloader), {}\n",
    "\n",
    "    def evaluate(self, parameters, config):\n",
    "        print(f\"[Client {self.cid}] evaluate, config: {config}\")\n",
    "        set_parameters(self.net, parameters, self.context_client)\n",
    "\n",
    "        loss, accuracy, y_pred, y_true, y_proba = engine.test_multimodal_health(self.net, self.valloader,\n",
    "                                                              loss_fn=(torch.nn.CrossEntropyLoss(),torch.nn.CrossEntropyLoss()), device=self.device)\n",
    "\n",
    "        loss_mri, loss_dna = loss\n",
    "        accuracy_mri, accuracy_dna = accuracy\n",
    "        y_pred_mri, y_pred_dna = y_pred\n",
    "        y_true_mri, y_true_dna = y_true\n",
    "        y_proba_mri, y_proba_dna = y_proba\n",
    "\n",
    "        if self.save_results:\n",
    "            os.makedirs(self.save_results, exist_ok=True)\n",
    "            if self.matrix_path:\n",
    "                save_matrix(y_true_mri, y_pred_mri, self.save_results + \"MRI_\" + self.matrix_path, self.classes[0])\n",
    "                save_matrix(y_true_dna, y_pred_dna, self.save_results + \"DNA_\" + self.matrix_path, self.classes[1])\n",
    "            if self.roc_path:\n",
    "                save_roc(y_true_mri, y_proba_mri, self.save_results + \"MRI_\" + self.roc_path, len(self.classes[0]))\n",
    "                save_roc(y_true_dna, y_proba_dna, self.save_results + \"DNA_\" + self.roc_path, len(self.classes[1]))\n",
    "\n",
    "        return float(loss_mri), len(self.valloader), {\"accuracy\": float(accuracy_mri)}"
   ]
  },
  {
   "cell_type": "markdown",
   "metadata": {},
   "source": [
    "### Define the client_common function to set up the Flower client"
   ]
  },
  {
   "cell_type": "code",
   "execution_count": 6,
   "metadata": {},
   "outputs": [],
   "source": [
    "def client_common(cid, model_save, path_yaml, path_roc, results_save, path_matrix,\n",
    "                  batch_size, trainloaders, valloaders, DEVICE, CLASSES,\n",
    "                  he=False, secret_path=\"\", server_path=\"\"):\n",
    "    trainloader = trainloaders[int(cid)]\n",
    "    valloader = valloaders[int(cid)]\n",
    "\n",
    "    context_client = None\n",
    "    net = Net(len(CLASSES[0]), len(CLASSES[1])).to(DEVICE)\n",
    "\n",
    "    if he:\n",
    "        print(\"Run with homomorphic encryption\")\n",
    "        if os.path.exists(secret_path):\n",
    "            with open(secret_path, 'rb') as f:\n",
    "                query = pickle.load(f)\n",
    "            context_client = ts.context_from(query[\"contexte\"])\n",
    "        else:\n",
    "            context_client = security.context()\n",
    "            with open(secret_path, 'wb') as f:\n",
    "                encode = pickle.dumps({\"contexte\": context_client.serialize(save_secret_key=True)})\n",
    "                f.write(encode)\n",
    "        secret_key = context_client.secret_key()\n",
    "    else:\n",
    "        print(\"Run WITHOUT homomorphic encryption\")\n",
    "\n",
    "    if os.path.exists(model_save):\n",
    "        print(\" To get the checkpoint\")\n",
    "        checkpoint = torch.load(model_save, map_location=DEVICE)['model_state_dict']\n",
    "        if he:\n",
    "            print(\"to decrypt model\")\n",
    "            server_query, server_context = security.read_query(server_path)\n",
    "            server_context = ts.context_from(server_context)\n",
    "            for name in checkpoint:\n",
    "                print(name)\n",
    "                checkpoint[name] = torch.tensor(\n",
    "                    security.deserialized_layer(name, server_query[name], server_context).decrypt(secret_key)\n",
    "                )\n",
    "        net.load_state_dict(checkpoint)\n",
    "\n",
    "    return FlowerClient(cid, net, trainloader, valloader, device=DEVICE, batch_size=batch_size,\n",
    "                        matrix_path=path_matrix, roc_path=path_roc, save_results=results_save, yaml_path=path_yaml,\n",
    "                        he=he, context_client=context_client, classes=CLASSES)"
   ]
  },
  {
   "cell_type": "markdown",
   "metadata": {},
   "source": [
    "### Define utility functions for federated learning"
   ]
  },
  {
   "cell_type": "code",
   "execution_count": 7,
   "metadata": {},
   "outputs": [],
   "source": [
    "def weighted_average(metrics: List[Tuple[int, Metrics]]) -> Metrics:\n",
    "    accuracies = [num_examples * m[\"accuracy\"] for num_examples, m in metrics]\n",
    "    examples = [num_examples for num_examples, _ in metrics]\n",
    "    return {\"accuracy\": sum(accuracies) / sum(examples)}\n",
    "\n",
    "def evaluate2(server_round: int, parameters: NDArrays,\n",
    "              config: Dict[str, Scalar]) -> Optional[Tuple[float, Dict[str, Scalar]]]:\n",
    "    set_parameters(central, parameters)\n",
    "    loss, accuracy, y_pred, y_true, y_proba = engine.test_multimodal_health(central, testloader, loss_fn=(torch.nn.CrossEntropyLoss(),torch.nn.CrossEntropyLoss()),\n",
    "                                                          device=DEVICE)\n",
    "    loss_mri, loss_dna = loss\n",
    "    accuracy_mri, accuracy_dna = accuracy\n",
    "    y_pred_mri, y_pred_dna = y_pred\n",
    "    y_true_mri, y_true_dna = y_true\n",
    "    y_proba_mri, y_proba_dna = y_proba\n",
    "\n",
    "    print(f\"Server-side evaluation MRI loss {loss_mri} / MRI accuracy {accuracy_mri}\")\n",
    "    print(f\"Server-side evaluation DNA loss {loss_dna} / DNA accuracy {accuracy_dna}\")\n",
    "    return (loss_mri, loss_dna), {\"accuracy\": (accuracy_mri, accuracy_dna)}\n",
    "\n",
    "def get_on_fit_config_fn(epoch=2, lr=0.001, batch_size=32) -> Callable[[int], Dict[str, str]]:\n",
    "    def fit_config(server_round: int) -> Dict[str, str]:\n",
    "        config = {\n",
    "            \"learning_rate\": str(lr),\n",
    "            \"batch_size\": str(batch_size),\n",
    "            \"server_round\": server_round,\n",
    "            \"local_epochs\": epoch\n",
    "        }\n",
    "        return config\n",
    "    return fit_config\n",
    "\n",
    "def aggreg_fit_checkpoint(server_round, aggregated_parameters, central_model, path_checkpoint,\n",
    "                          context_client=None, server_path=\"\"):\n",
    "    if aggregated_parameters is not None:\n",
    "        print(f\"Saving round {server_round} aggregated_parameters...\")\n",
    "        aggregated_ndarrays: List[np.ndarray] = parameters_to_ndarrays_custom(aggregated_parameters, context_client)\n",
    "        if context_client:   \n",
    "            server_response = {\"contexte\": server_context.serialize()}\n",
    "            for i, key in enumerate(central_model.state_dict().keys()):\n",
    "                try:\n",
    "                    server_response[key] = aggregated_ndarrays[i].serialize()\n",
    "                except:\n",
    "                    server_response[key] = aggregated_ndarrays[i]\n",
    "            security.write_query(server_path, server_response)\n",
    "        else:\n",
    "            params_dict = zip(central_model.state_dict().keys(), aggregated_ndarrays)\n",
    "            state_dict = OrderedDict({k: torch.tensor(v) for k, v in params_dict})\n",
    "            central_model.load_state_dict(state_dict, strict=True)\n",
    "            if path_checkpoint:\n",
    "                torch.save({\n",
    "                    'model_state_dict': central_model.state_dict(),\n",
    "                }, path_checkpoint)"
   ]
  },
  {
   "cell_type": "markdown",
   "metadata": {},
   "source": [
    "### Define the FedCustom strategy class"
   ]
  },
  {
   "cell_type": "code",
   "execution_count": 8,
   "metadata": {},
   "outputs": [],
   "source": [
    "# A Strategy from scratch with the same sampling of the clients as it is in FedAvg\n",
    "# and then change the configuration dictionary\n",
    "class FedCustom(fl.server.strategy.Strategy):\n",
    "    def __init__(\n",
    "            self,\n",
    "            fraction_fit: float = 1.0,\n",
    "            fraction_evaluate: float = 1.0,\n",
    "            min_fit_clients: int = 2,\n",
    "            min_evaluate_clients: int = 2,\n",
    "            min_available_clients: int = 2,\n",
    "            evaluate_fn: Optional[\n",
    "                    Callable[[int, NDArrays, Dict[str, Scalar]], Optional[Tuple[float, Dict[str, Scalar]]]]\n",
    "                ] = None,\n",
    "            on_fit_config_fn: Optional[Callable[[int], Dict[str, Scalar]]] = None,\n",
    "            on_evaluate_config_fn: Optional[Callable[[int], Dict[str, Scalar]]] = None,\n",
    "            accept_failures: bool = True,\n",
    "            initial_parameters: Optional[Parameters] = None,\n",
    "            fit_metrics_aggregation_fn: Optional[MetricsAggregationFn] = None,\n",
    "            evaluate_metrics_aggregation_fn: Optional[MetricsAggregationFn] = None,\n",
    "            context_client=None\n",
    "    ) -> None:\n",
    "        super().__init__()\n",
    "        self.fraction_fit = fraction_fit\n",
    "        self.fraction_evaluate = fraction_evaluate\n",
    "        self.min_fit_clients = min_fit_clients\n",
    "        self.min_evaluate_clients = min_evaluate_clients\n",
    "        self.min_available_clients = min_available_clients\n",
    "        self.evaluate_fn = evaluate_fn\n",
    "        self.on_fit_config_fn = on_fit_config_fn\n",
    "        self.on_evaluate_config_fn = on_evaluate_config_fn,\n",
    "        self.accept_failures = accept_failures\n",
    "        self.initial_parameters = initial_parameters\n",
    "        self.fit_metrics_aggregation_fn = fit_metrics_aggregation_fn\n",
    "        self.evaluate_metrics_aggregation_fn = evaluate_metrics_aggregation_fn\n",
    "        self.context_client = context_client\n",
    "\n",
    "    def __repr__(self) -> str:\n",
    "        # Same function as FedAvg(Strategy)\n",
    "        return f\"FedCustom (accept_failures={self.accept_failures})\"\n",
    "\n",
    "    def initialize_parameters(\n",
    "        self, client_manager: ClientManager\n",
    "    ) -> Optional[Parameters]:\n",
    "        \"\"\"Initialize global model parameters.\"\"\"\n",
    "        # Same function as FedAvg(Strategy)\n",
    "        initial_parameters = self.initial_parameters\n",
    "        self.initial_parameters = None  # Don't keep initial parameters in memory\n",
    "        return initial_parameters\n",
    "\n",
    "    def num_fit_clients(self, num_available_clients: int) -> Tuple[int, int]:\n",
    "        \"\"\"Return sample size and required number of clients.\"\"\"\n",
    "        # Same function as FedAvg(Strategy)\n",
    "        num_clients = int(num_available_clients * self.fraction_fit)\n",
    "        return max(num_clients, self.min_fit_clients), self.min_available_clients\n",
    "\n",
    "    def configure_fit(\n",
    "        self, server_round: int, parameters: Parameters, client_manager: ClientManager\n",
    "    ) -> List[Tuple[ClientProxy, FitIns]]:\n",
    "        \"\"\"Configure the next round of training.\"\"\"\n",
    "        # Sample clients\n",
    "        sample_size, min_num_clients = self.num_fit_clients(\n",
    "            client_manager.num_available()\n",
    "        )\n",
    "\n",
    "        clients = client_manager.sample(\n",
    "            num_clients=sample_size, min_num_clients=min_num_clients\n",
    "        )\n",
    "        # Create custom configs\n",
    "        n_clients = len(clients)\n",
    "        half_clients = n_clients // 2\n",
    "        # Custom fit config function provided\n",
    "        standard_lr = lr\n",
    "        higher_lr = 0.003\n",
    "        config = {\"server_round\": server_round, \"local_epochs\": 1}\n",
    "        if self.on_fit_config_fn is not None:\n",
    "            # Custom fit config function provided\n",
    "            config = self.on_fit_config_fn(server_round)\n",
    "\n",
    "        # fit_ins = FitIns(parameters, config)\n",
    "        # Return client/config pairs\n",
    "        fit_configurations = []\n",
    "        for idx, client in enumerate(clients):\n",
    "            config[\"learning_rate\"] = standard_lr if idx < half_clients else higher_lr\n",
    "            \"\"\"\n",
    "            Each pair of (ClientProxy, FitRes) constitutes \n",
    "            a successful update from one of the previously selected clients.\n",
    "            \"\"\"\n",
    "            fit_configurations.append(\n",
    "                (\n",
    "                    client,\n",
    "                    FitIns(\n",
    "                        parameters,\n",
    "                        config\n",
    "                    )\n",
    "                )\n",
    "            )\n",
    "        # Successful updates from the previously selected and configured clients\n",
    "        return fit_configurations\n",
    "\n",
    "    def aggregate_fit(\n",
    "        self,\n",
    "        server_round: int,\n",
    "        results: List[Tuple[ClientProxy, FitRes]],\n",
    "        failures: List[Union[Tuple[ClientProxy, FitRes], BaseException]],\n",
    "    ) -> Tuple[Optional[Parameters], Dict[str, Scalar]]:\n",
    "        \"\"\"Aggregate fit results using weighted average. (each round)\"\"\"\n",
    "        # Same function as FedAvg(Strategy)\n",
    "        if not results:\n",
    "            return None, {}\n",
    "\n",
    "        # Do not aggregate if there are failures and failures are not accepted\n",
    "        if not self.accept_failures and failures:\n",
    "            return None, {}\n",
    "\n",
    "        # Convert results parameters --> array matrix\n",
    "        weights_results = [\n",
    "            (parameters_to_ndarrays_custom(fit_res.parameters, self.context_client), fit_res.num_examples)\n",
    "            for _, fit_res in results\n",
    "        ]\n",
    "\n",
    "        # Aggregate parameters using weighted average between the clients and convert back to parameters object (bytes)\n",
    "        parameters_aggregated = ndarrays_to_parameters_custom(aggregate_custom(weights_results))\n",
    "\n",
    "        metrics_aggregated = {}\n",
    "        # Aggregate custom metrics if aggregation fn was provided\n",
    "        if self.fit_metrics_aggregation_fn:\n",
    "            fit_metrics = [(res.num_examples, res.metrics) for _, res in results]\n",
    "            metrics_aggregated = self.fit_metrics_aggregation_fn(fit_metrics)\n",
    "\n",
    "        elif server_round == 1:  # Only log this warning once\n",
    "            logger.log(WARNING, \"No fit_metrics_aggregation_fn provided\")\n",
    "\n",
    "        # Same function as SaveModelStrategy(fl.server.strategy.FedAvg)\n",
    "        \"\"\"Aggregate model weights using weighted average and store checkpoint\"\"\"\n",
    "        aggreg_fit_checkpoint(server_round, parameters_aggregated, central, model_save,\n",
    "                              self.context_client, path_crypted)\n",
    "        return parameters_aggregated, metrics_aggregated\n",
    "\n",
    "    def num_evaluation_clients(self, num_available_clients: int) -> Tuple[int, int]:\n",
    "        \"\"\"Use a fraction of available clients for evaluation.\"\"\"\n",
    "        # Same function as FedAvg(Strategy)\n",
    "        num_clients = int(num_available_clients * self.fraction_evaluate)\n",
    "        return max(num_clients, self.min_evaluate_clients), self.min_available_clients\n",
    "\n",
    "    def configure_evaluate(\n",
    "        self, server_round: int, parameters: Parameters, client_manager: ClientManager\n",
    "    ) -> List[Tuple[ClientProxy, EvaluateIns]]:\n",
    "        \"\"\"Configure the next round of evaluation.\"\"\"\n",
    "        # Same function as FedAvg(Strategy)\n",
    "        # Do not configure federated evaluation if fraction eval is 0.\n",
    "        if self.fraction_evaluate == 0.0:\n",
    "            return []\n",
    "\n",
    "        # Parameters and config\n",
    "        config = {}  # {\"server_round\": server_round, \"local_epochs\": 1}\n",
    "\n",
    "        evaluate_ins = EvaluateIns(parameters, config)\n",
    "\n",
    "        # Sample clients\n",
    "        sample_size, min_num_clients = self.num_evaluation_clients(\n",
    "            client_manager.num_available()\n",
    "        )\n",
    "\n",
    "        clients = client_manager.sample(\n",
    "            num_clients=sample_size, min_num_clients=min_num_clients\n",
    "        )\n",
    "\n",
    "        # Return client/config pairs\n",
    "        # Each pair of (ClientProxy, FitRes) constitutes a successful update from one of the previously selected clients\n",
    "        return [(client, evaluate_ins) for client in clients]\n",
    "\n",
    "    def aggregate_evaluate(\n",
    "        self,\n",
    "        server_round: int,\n",
    "        results: List[Tuple[ClientProxy, EvaluateRes]],\n",
    "        failures: List[Union[Tuple[ClientProxy, EvaluateRes], BaseException]],\n",
    "    ) -> Tuple[Optional[float], Dict[str, Scalar]]:\n",
    "        \"\"\"Aggregate evaluation losses using weighted average.\"\"\"\n",
    "        # Same function as FedAvg(Strategy)\n",
    "        if not results:\n",
    "            return None, {}\n",
    "\n",
    "        # Do not aggregate if there are failures and failures are not accepted\n",
    "        if not self.accept_failures and failures:\n",
    "            return None, {}\n",
    "\n",
    "        # Aggregate loss\n",
    "        loss_aggregated = weighted_loss_avg(\n",
    "            [\n",
    "                (evaluate_res.num_examples, evaluate_res.loss)\n",
    "                for _, evaluate_res in results\n",
    "            ]\n",
    "        )\n",
    "\n",
    "        metrics_aggregated = {}\n",
    "        # Aggregate custom metrics if aggregation fn was provided\n",
    "        if self.evaluate_metrics_aggregation_fn:\n",
    "            eval_metrics = [(res.num_examples, res.metrics) for _, res in results]\n",
    "            metrics_aggregated = self.evaluate_metrics_aggregation_fn(eval_metrics)\n",
    "\n",
    "        # Only log this warning once\n",
    "        elif server_round == 1:\n",
    "            logger.log(WARNING, \"No evaluate_metrics_aggregation_fn provided\")\n",
    "\n",
    "        return loss_aggregated, metrics_aggregated\n",
    "\n",
    "    def evaluate(\n",
    "        self, server_round: int, parameters: Parameters\n",
    "    ) -> Optional[Tuple[float, Dict[str, Scalar]]]:\n",
    "        \"\"\"Evaluate global model parameters using an evaluation function.\"\"\"\n",
    "        # Same function as FedAvg(Strategy)\n",
    "        if self.evaluate_fn is None:\n",
    "            # Let's assume we won't perform the global model evaluation on the server side.\n",
    "            return None\n",
    "\n",
    "        # if we have a global model evaluation on the server side :\n",
    "        parameters_ndarrays = parameters_to_ndarrays_custom(parameters, self.context_client)\n",
    "        eval_res = self.evaluate_fn(server_round, parameters_ndarrays, {})\n",
    "\n",
    "        # if you haven't results\n",
    "        if eval_res is None:\n",
    "            return None\n",
    "\n",
    "        loss, metrics = eval_res\n",
    "        return loss, metrics"
   ]
  },
  {
   "cell_type": "markdown",
   "metadata": {},
   "source": [
    "### Set up the federated learning strategy"
   ]
  },
  {
   "cell_type": "code",
   "execution_count": 9,
   "metadata": {},
   "outputs": [],
   "source": [
    "# Set up your variables directly\n",
    "he = True\n",
    "data_path = 'data/'\n",
    "dataset = 'DNA+MRI'\n",
    "yaml_path = './results/FL/results.yml'\n",
    "seed = 0\n",
    "num_workers = 0\n",
    "max_epochs = 10\n",
    "batch_size = 32\n",
    "splitter = 10\n",
    "device = 'cpu'\n",
    "number_clients = 10\n",
    "save_results = 'results/FL/'\n",
    "matrix_path = 'confusion_matrix.png'\n",
    "roc_path = 'roc.png'\n",
    "model_save = 'DNA+MRI_FHE.pt'\n",
    "min_fit_clients = 10\n",
    "min_avail_clients = 10\n",
    "min_eval_clients = 10\n",
    "rounds = 20\n",
    "frac_fit = 1.0\n",
    "frac_eval = 0.5\n",
    "lr = 1e-3\n",
    "path_public_key = 'server_key.pkl'"
   ]
  },
  {
   "cell_type": "code",
   "execution_count": 10,
   "metadata": {},
   "outputs": [
    {
     "name": "stdout",
     "output_type": "stream",
     "text": [
      "get public key :  server_key.pkl\n"
     ]
    }
   ],
   "source": [
    "print(\"get public key : \", path_public_key)\n",
    "_, server_context = security.read_query(path_public_key)\n",
    "server_context = ts.context_from(server_context)\n",
    "DEVICE = torch.device(choice_device(device))\n",
    "CLASSES = classes_string(dataset)\n",
    "central = Net(len(CLASSES[0]), len(CLASSES[1])).to(DEVICE)"
   ]
  },
  {
   "cell_type": "code",
   "execution_count": 11,
   "metadata": {},
   "outputs": [],
   "source": [
    "strategy = FedCustom(\n",
    "    fraction_fit=frac_fit,\n",
    "    fraction_evaluate=frac_eval,\n",
    "    min_fit_clients=min_fit_clients,\n",
    "    min_evaluate_clients=min_eval_clients if min_eval_clients else number_clients // 2,\n",
    "    min_available_clients=min_avail_clients,\n",
    "    evaluate_metrics_aggregation_fn=weighted_average,\n",
    "    initial_parameters=ndarrays_to_parameters_custom(get_parameters2(central)),\n",
    "    evaluate_fn=None if he else evaluate2,\n",
    "    on_fit_config_fn=get_on_fit_config_fn(epoch=max_epochs, batch_size=batch_size),\n",
    "    context_client=server_context\n",
    ")"
   ]
  },
  {
   "cell_type": "code",
   "execution_count": 12,
   "metadata": {},
   "outputs": [
    {
     "name": "stdout",
     "output_type": "stream",
     "text": [
      "DNA+MRI\n",
      "The training set is created for the classes: \n",
      "('glioma', 'meningioma', 'notumor', 'pituitary')\n",
      "('0', '1', '2', '3', '4', '5', '6')\n"
     ]
    }
   ],
   "source": [
    "trainloaders, valloaders, testloader = data_setup.load_datasets(num_clients=number_clients,\n",
    "                                                                batch_size=batch_size,\n",
    "                                                                resize=224,\n",
    "                                                                seed=seed,\n",
    "                                                                num_workers=num_workers,\n",
    "                                                                splitter=splitter,\n",
    "                                                                dataset=dataset,  # Use the specified dataset\n",
    "                                                                data_path=data_path,\n",
    "                                                                data_path_val=None)  # Use the same path for validation data\n",
    "\n",
    "def client_fn(cid: str) -> FlowerClient:\n",
    "    return client_common(cid,\n",
    "                         model_save, path_yaml, path_roc, results_save, path_matrix,\n",
    "                         batch_size, trainloaders, valloaders, DEVICE, CLASSES, he, secret_path, server_path)"
   ]
  },
  {
   "cell_type": "markdown",
   "metadata": {},
   "source": [
    "### Define the client_fn function and set up the simulation"
   ]
  },
  {
   "cell_type": "code",
   "execution_count": null,
   "metadata": {},
   "outputs": [
    {
     "name": "stderr",
     "output_type": "stream",
     "text": [
      "INFO flwr 2024-08-05 07:08:07,205 | app.py:145 | Starting Flower simulation, config: ServerConfig(num_rounds=20, round_timeout=None)\n"
     ]
    },
    {
     "name": "stdout",
     "output_type": "stream",
     "text": [
      "flwr 1.5.0\n",
      "numpy 1.26.4\n",
      "torch 2.1.2\n",
      "torchvision 0.16.2\n",
      "Training on cuda:0\n",
      "Start simulation\n"
     ]
    },
    {
     "name": "stderr",
     "output_type": "stream",
     "text": [
      "2024-08-05 07:08:11,872\tINFO worker.py:1724 -- Started a local Ray instance.\n",
      "INFO flwr 2024-08-05 07:08:13,088 | app.py:179 | Flower VCE: Ray initialized with resources: {'object_store_memory': 8680108032.0, 'GPU': 2.0, 'node:172.19.2.2': 1.0, 'node:__internal_head__': 1.0, 'memory': 17360216064.0, 'accelerator_type:T4': 1.0, 'CPU': 4.0}\n",
      "INFO flwr 2024-08-05 07:08:13,090 | server.py:89 | Initializing global parameters\n",
      "INFO flwr 2024-08-05 07:08:13,091 | server.py:272 | Using initial parameters provided by strategy\n",
      "INFO flwr 2024-08-05 07:08:13,092 | server.py:91 | Evaluating initial parameters\n",
      "INFO flwr 2024-08-05 07:08:13,092 | server.py:104 | FL starting\n",
      "DEBUG flwr 2024-08-05 07:08:13,093 | server.py:222 | fit_round 1: strategy sampled 10 clients (out of 10)\n"
     ]
    },
    {
     "name": "stdout",
     "output_type": "stream",
     "text": [
      "\u001b[36m(launch_and_fit pid=457)\u001b[0m Run with homomorphic encryption\n",
      "\u001b[36m(launch_and_fit pid=457)\u001b[0m [Client 6, round 1] fit, config: {'learning_rate': 0.003, 'batch_size': '32', 'server_round': 1, 'local_epochs': 10}\n"
     ]
    },
    {
     "name": "stderr",
     "output_type": "stream",
     "text": [
      "  0%|\u001b[34m          \u001b[0m| 0/10 [00:00<?, ?it/s]\n"
     ]
    },
    {
     "name": "stdout",
     "output_type": "stream",
     "text": [
      "\u001b[36m(launch_and_fit pid=457)\u001b[0m Updated model\n"
     ]
    },
    {
     "name": "stderr",
     "output_type": "stream",
     "text": [
      " 10%|\u001b[34m█         \u001b[0m| 1/10 [00:05<00:51,  5.75s/it]\n",
      "  0%|\u001b[34m          \u001b[0m| 0/10 [00:00<?, ?it/s]\n"
     ]
    },
    {
     "name": "stdout",
     "output_type": "stream",
     "text": [
      "\u001b[36m(launch_and_fit pid=457)\u001b[0m \tTrain Epoch: 1 \tTrain_loss_mri: 1.3871 | Train_acc_mri: 28.5880 | Train_loss_dna: 1.9166 | Train_acc_dna: 24.2130 | Validation_loss_mri: 1.3475 | Validation_acc_mri: 44.2708 | Validation_loss_dna: 1.8770 | Validation_acc_dna: 30.7292\n",
      "\u001b[36m(launch_and_fit pid=458)\u001b[0m Run with homomorphic encryption\n",
      "\u001b[36m(launch_and_fit pid=458)\u001b[0m [Client 3, round 1] fit, config: {'learning_rate': 0.003, 'batch_size': '32', 'server_round': 1, 'local_epochs': 10}\n",
      "\u001b[36m(launch_and_fit pid=458)\u001b[0m Updated model\n"
     ]
    },
    {
     "name": "stderr",
     "output_type": "stream",
     "text": [
      " 30%|\u001b[34m███       \u001b[0m| 3/10 [00:13<00:30,  4.32s/it]\u001b[32m [repeated 4x across cluster] (Ray deduplicates logs by default. Set RAY_DEDUP_LOGS=0 to disable log deduplication, or see https://docs.ray.io/en/master/ray-observability/ray-logging.html#log-deduplication for more options.)\u001b[0m\n"
     ]
    },
    {
     "name": "stdout",
     "output_type": "stream",
     "text": [
      "\u001b[36m(launch_and_fit pid=457)\u001b[0m \tTrain Epoch: 3 \tTrain_loss_mri: 1.3857 | Train_acc_mri: 29.0972 | Train_loss_dna: 1.7721 | Train_acc_dna: 36.7130 | Validation_loss_mri: 1.3014 | Validation_acc_mri: 44.2708 | Validation_loss_dna: 1.7976 | Validation_acc_dna: 30.7292\u001b[32m [repeated 4x across cluster]\u001b[0m\n"
     ]
    },
    {
     "name": "stderr",
     "output_type": "stream",
     "text": [
      " 50%|\u001b[34m█████     \u001b[0m| 5/10 [00:21<00:19,  3.98s/it]\u001b[32m [repeated 4x across cluster]\u001b[0m\n"
     ]
    },
    {
     "name": "stdout",
     "output_type": "stream",
     "text": [
      "\u001b[36m(launch_and_fit pid=457)\u001b[0m \tTrain Epoch: 5 \tTrain_loss_mri: 1.3815 | Train_acc_mri: 29.1551 | Train_loss_dna: 1.7690 | Train_acc_dna: 36.5972 | Validation_loss_mri: 1.3521 | Validation_acc_mri: 44.2708 | Validation_loss_dna: 1.8034 | Validation_acc_dna: 30.7292\u001b[32m [repeated 4x across cluster]\u001b[0m\n"
     ]
    },
    {
     "name": "stderr",
     "output_type": "stream",
     "text": [
      " 70%|\u001b[34m███████   \u001b[0m| 7/10 [00:28<00:11,  3.83s/it]\u001b[32m [repeated 4x across cluster]\u001b[0m\n"
     ]
    },
    {
     "name": "stdout",
     "output_type": "stream",
     "text": [
      "\u001b[36m(launch_and_fit pid=457)\u001b[0m \tTrain Epoch: 7 \tTrain_loss_mri: 1.3863 | Train_acc_mri: 28.7847 | Train_loss_dna: 1.7728 | Train_acc_dna: 36.8866 | Validation_loss_mri: 1.3343 | Validation_acc_mri: 44.2708 | Validation_loss_dna: 1.8061 | Validation_acc_dna: 30.7292\u001b[32m [repeated 4x across cluster]\u001b[0m\n"
     ]
    },
    {
     "name": "stderr",
     "output_type": "stream",
     "text": [
      " 90%|\u001b[34m█████████ \u001b[0m| 9/10 [00:36<00:03,  3.81s/it]\u001b[32m [repeated 4x across cluster]\u001b[0m\n"
     ]
    },
    {
     "name": "stdout",
     "output_type": "stream",
     "text": [
      "\u001b[36m(launch_and_fit pid=457)\u001b[0m \tTrain Epoch: 9 \tTrain_loss_mri: 1.3776 | Train_acc_mri: 29.5833 | Train_loss_dna: 1.7570 | Train_acc_dna: 37.0023 | Validation_loss_mri: 1.3133 | Validation_acc_mri: 48.9583 | Validation_loss_dna: 1.7909 | Validation_acc_dna: 30.7292\u001b[32m [repeated 4x across cluster]\u001b[0m\n",
      "\u001b[36m(launch_and_fit pid=457)\u001b[0m save graph in  results/FL/\n",
      "\u001b[36m(launch_and_fit pid=457)\u001b[0m mri_net.features.0.weight 5.0067901611328125e-06\n",
      "\u001b[36m(launch_and_fit pid=457)\u001b[0m mri_net.features.0.bias 1.430511474609375e-06\n",
      "\u001b[36m(launch_and_fit pid=457)\u001b[0m mri_net.features.3.weight 7.152557373046875e-07\n",
      "\u001b[36m(launch_and_fit pid=457)\u001b[0m mri_net.features.3.bias 9.5367431640625e-07\n",
      "\u001b[36m(launch_and_fit pid=457)\u001b[0m mri_net.classifier.0.weight 1.1920928955078125e-06\n",
      "\u001b[36m(launch_and_fit pid=457)\u001b[0m mri_net.classifier.0.bias 9.5367431640625e-07\n",
      "\u001b[36m(launch_and_fit pid=457)\u001b[0m mri_net.classifier.2.weight 9.5367431640625e-07\n",
      "\u001b[36m(launch_and_fit pid=457)\u001b[0m mri_net.classifier.2.bias 1.1920928955078125e-06\n",
      "\u001b[36m(launch_and_fit pid=457)\u001b[0m mri_net.classifier.3.weights 9.5367431640625e-07\n",
      "\u001b[36m(launch_and_fit pid=457)\u001b[0m dna_net.fc1.weight 7.152557373046875e-07\n",
      "\u001b[36m(launch_and_fit pid=457)\u001b[0m dna_net.fc1.bias 1.1920928955078125e-06\n",
      "\u001b[36m(launch_and_fit pid=457)\u001b[0m dna_net.fc2.weight 9.5367431640625e-07\n",
      "\u001b[36m(launch_and_fit pid=457)\u001b[0m dna_net.fc2.bias 7.152557373046875e-07\n",
      "\u001b[36m(launch_and_fit pid=457)\u001b[0m dna_net.fc3.weight 1.1920928955078125e-06\n",
      "\u001b[36m(launch_and_fit pid=457)\u001b[0m dna_net.fc3.bias 9.5367431640625e-07\n",
      "\u001b[36m(launch_and_fit pid=457)\u001b[0m dna_net.fc4.weight 9.5367431640625e-07\n",
      "\u001b[36m(launch_and_fit pid=457)\u001b[0m dna_net.fc4.bias 1.1920928955078125e-06\n",
      "\u001b[36m(launch_and_fit pid=457)\u001b[0m dna_net.qnn.weights 9.5367431640625e-07\n",
      "\u001b[36m(launch_and_fit pid=457)\u001b[0m attention.in_proj_weight 9.5367431640625e-07\n",
      "\u001b[36m(launch_and_fit pid=457)\u001b[0m attention.in_proj_bias 1.1920928955078125e-06\n",
      "\u001b[36m(launch_and_fit pid=457)\u001b[0m attention.out_proj.weight 9.5367431640625e-07\n",
      "\u001b[36m(launch_and_fit pid=457)\u001b[0m attention.out_proj.bias 9.5367431640625e-07\n",
      "\u001b[36m(launch_and_fit pid=457)\u001b[0m fc1.weight 1.1920928955078125e-06\n",
      "\u001b[36m(launch_and_fit pid=457)\u001b[0m fc1.bias 9.5367431640625e-07\n",
      "\u001b[36m(launch_and_fit pid=457)\u001b[0m fc2_mri.weight 1.1920928955078125e-06\n",
      "\u001b[36m(launch_and_fit pid=457)\u001b[0m fc2_mri.bias 9.5367431640625e-07\n",
      "\u001b[36m(launch_and_fit pid=457)\u001b[0m fc2_dna.weight 9.5367431640625e-07\n",
      "\u001b[36m(launch_and_fit pid=457)\u001b[0m fc2_dna.bias 9.5367431640625e-07\n"
     ]
    },
    {
     "name": "stderr",
     "output_type": "stream",
     "text": [
      "100%|\u001b[34m██████████\u001b[0m| 10/10 [00:41<00:00,  4.13s/it]\u001b[32m [repeated 3x across cluster]\u001b[0m\n"
     ]
    },
    {
     "name": "stdout",
     "output_type": "stream",
     "text": [
      "\u001b[36m(launch_and_fit pid=458)\u001b[0m \tTrain Epoch: 10 \tTrain_loss_mri: 1.3821 | Train_acc_mri: 29.5833 | Train_loss_dna: 1.8179 | Train_acc_dna: 29.7801 | Validation_loss_mri: 1.4055 | Validation_acc_mri: 17.1875 | Validation_loss_dna: 1.8003 | Validation_acc_dna: 30.7292\u001b[32m [repeated 3x across cluster]\u001b[0m\n",
      "\u001b[36m(launch_and_fit pid=546)\u001b[0m Run with homomorphic encryption\n",
      "\u001b[36m(launch_and_fit pid=458)\u001b[0m save graph in  results/FL/\n",
      "\u001b[36m(launch_and_fit pid=458)\u001b[0m fc2_dna.bias 1.1920928955078125e-06\u001b[32m [repeated 23x across cluster]\u001b[0m\n",
      "\u001b[36m(launch_and_fit pid=458)\u001b[0m dna_net.qnn.weights 1.430511474609375e-06\n",
      "\u001b[36m(launch_and_fit pid=458)\u001b[0m attention.in_proj_weight 9.5367431640625e-07\n",
      "\u001b[36m(launch_and_fit pid=458)\u001b[0m attention.in_proj_bias 1.1920928955078125e-06\n",
      "\u001b[36m(launch_and_fit pid=458)\u001b[0m attention.out_proj.weight 9.5367431640625e-07\n",
      "\u001b[36m(launch_and_fit pid=458)\u001b[0m attention.out_proj.bias 9.5367431640625e-07\n",
      "\u001b[36m(launch_and_fit pid=546)\u001b[0m [Client 2, round 1] fit, config: {'learning_rate': 0.003, 'batch_size': '32', 'server_round': 1, 'local_epochs': 10}\n"
     ]
    },
    {
     "name": "stderr",
     "output_type": "stream",
     "text": [
      "  0%|\u001b[34m          \u001b[0m| 0/10 [00:00<?, ?it/s]\n"
     ]
    },
    {
     "name": "stdout",
     "output_type": "stream",
     "text": [
      "\u001b[36m(launch_and_fit pid=546)\u001b[0m Updated model\n"
     ]
    },
    {
     "name": "stderr",
     "output_type": "stream",
     "text": [
      " 10%|\u001b[34m█         \u001b[0m| 1/10 [00:04<00:38,  4.27s/it]\n"
     ]
    },
    {
     "name": "stdout",
     "output_type": "stream",
     "text": [
      "\u001b[36m(launch_and_fit pid=546)\u001b[0m \tTrain Epoch: 1 \tTrain_loss_mri: 1.3866 | Train_acc_mri: 27.1644 | Train_loss_dna: 1.9204 | Train_acc_dna: 16.5972 | Validation_loss_mri: 1.4138 | Validation_acc_mri: 7.8125 | Validation_loss_dna: 1.8576 | Validation_acc_dna: 24.4792\n",
      "\u001b[36m(launch_and_fit pid=571)\u001b[0m Run with homomorphic encryption\n",
      "\u001b[36m(launch_and_fit pid=571)\u001b[0m [Client 1, round 1] fit, config: {'learning_rate': 0.003, 'batch_size': '32', 'server_round': 1, 'local_epochs': 10}\n",
      "\u001b[36m(launch_and_fit pid=571)\u001b[0m Updated model\n"
     ]
    },
    {
     "name": "stderr",
     "output_type": "stream",
     "text": [
      "  0%|\u001b[34m          \u001b[0m| 0/10 [00:00<?, ?it/s]\n"
     ]
    },
    {
     "name": "stdout",
     "output_type": "stream",
     "text": [
      "\u001b[36m(launch_and_fit pid=571)\u001b[0m \tTrain Epoch: 2 \tTrain_loss_mri: 1.3775 | Train_acc_mri: 32.9051 | Train_loss_dna: 1.8754 | Train_acc_dna: 27.3611 | Validation_loss_mri: 1.2803 | Validation_acc_mri: 52.0833 | Validation_loss_dna: 1.8417 | Validation_acc_dna: 32.2917\u001b[32m [repeated 3x across cluster]\u001b[0m\n"
     ]
    },
    {
     "name": "stderr",
     "output_type": "stream",
     "text": [
      " 20%|\u001b[34m██        \u001b[0m| 2/10 [00:08<00:32,  4.00s/it]\u001b[32m [repeated 3x across cluster]\u001b[0m\n",
      " 40%|\u001b[34m████      \u001b[0m| 4/10 [00:15<00:23,  3.90s/it]\u001b[32m [repeated 3x across cluster]\u001b[0m\n"
     ]
    },
    {
     "name": "stdout",
     "output_type": "stream",
     "text": [
      "\u001b[36m(launch_and_fit pid=546)\u001b[0m \tTrain Epoch: 4 \tTrain_loss_mri: 1.3912 | Train_acc_mri: 26.6551 | Train_loss_dna: 1.8129 | Train_acc_dna: 31.2616 | Validation_loss_mri: 1.3943 | Validation_acc_mri: 17.1875 | Validation_loss_dna: 1.8188 | Validation_acc_dna: 27.6042\u001b[32m [repeated 3x across cluster]\u001b[0m\n",
      "\u001b[36m(launch_and_fit pid=571)\u001b[0m \tTrain Epoch: 5 \tTrain_loss_mri: 1.3762 | Train_acc_mri: 33.0208 | Train_loss_dna: 1.8518 | Train_acc_dna: 27.4190 | Validation_loss_mri: 1.2951 | Validation_acc_mri: 52.0833 | Validation_loss_dna: 1.8226 | Validation_acc_dna: 32.2917\u001b[32m [repeated 3x across cluster]\u001b[0m\n"
     ]
    },
    {
     "name": "stderr",
     "output_type": "stream",
     "text": [
      " 50%|\u001b[34m█████     \u001b[0m| 5/10 [00:19<00:19,  3.97s/it]\u001b[32m [repeated 3x across cluster]\u001b[0m\n",
      " 70%|\u001b[34m███████   \u001b[0m| 7/10 [00:27<00:11,  3.90s/it]\u001b[32m [repeated 3x across cluster]\u001b[0m\n"
     ]
    },
    {
     "name": "stdout",
     "output_type": "stream",
     "text": [
      "\u001b[36m(launch_and_fit pid=546)\u001b[0m \tTrain Epoch: 7 \tTrain_loss_mri: 1.3792 | Train_acc_mri: 29.8611 | Train_loss_dna: 1.8055 | Train_acc_dna: 31.5509 | Validation_loss_mri: 1.3985 | Validation_acc_mri: 17.1875 | Validation_loss_dna: 1.8194 | Validation_acc_dna: 27.6042\u001b[32m [repeated 3x across cluster]\u001b[0m\n",
      "\u001b[36m(launch_and_fit pid=571)\u001b[0m \tTrain Epoch: 8 \tTrain_loss_mri: 1.3734 | Train_acc_mri: 33.0208 | Train_loss_dna: 1.8485 | Train_acc_dna: 27.5347 | Validation_loss_mri: 1.2915 | Validation_acc_mri: 52.0833 | Validation_loss_dna: 1.8289 | Validation_acc_dna: 32.2917\u001b[32m [repeated 3x across cluster]\u001b[0m\n"
     ]
    },
    {
     "name": "stderr",
     "output_type": "stream",
     "text": [
      " 80%|\u001b[34m████████  \u001b[0m| 8/10 [00:31<00:07,  3.89s/it]\u001b[32m [repeated 3x across cluster]\u001b[0m\n",
      "100%|\u001b[34m██████████\u001b[0m| 10/10 [00:38<00:00,  3.90s/it]\u001b[32m [repeated 3x across cluster]\u001b[0m\n"
     ]
    },
    {
     "name": "stdout",
     "output_type": "stream",
     "text": [
      "\u001b[36m(launch_and_fit pid=546)\u001b[0m save graph in  results/FL/\n",
      "\u001b[36m(launch_and_fit pid=546)\u001b[0m \tTrain Epoch: 10 \tTrain_loss_mri: 1.2256 | Train_acc_mri: 41.6319 | Train_loss_dna: 1.8084 | Train_acc_dna: 30.9722 | Validation_loss_mri: 1.2075 | Validation_acc_mri: 43.2292 | Validation_loss_dna: 1.8513 | Validation_acc_dna: 27.6042\u001b[32m [repeated 3x across cluster]\u001b[0m\n",
      "\u001b[36m(launch_and_fit pid=546)\u001b[0m mri_net.features.0.weight 5.0067901611328125e-06\n",
      "\u001b[36m(launch_and_fit pid=546)\u001b[0m mri_net.features.0.bias 2.6226043701171875e-06\n",
      "\u001b[36m(launch_and_fit pid=546)\u001b[0m mri_net.features.3.weight 2.384185791015625e-06\n",
      "\u001b[36m(launch_and_fit pid=546)\u001b[0m mri_net.features.3.bias 1.430511474609375e-06\n",
      "\u001b[36m(launch_and_fit pid=546)\u001b[0m mri_net.classifier.0.weight 9.5367431640625e-07\n",
      "\u001b[36m(launch_and_fit pid=546)\u001b[0m mri_net.classifier.0.bias 9.5367431640625e-07\n",
      "\u001b[36m(launch_and_fit pid=546)\u001b[0m mri_net.classifier.2.weight 1.1920928955078125e-06\n",
      "\u001b[36m(launch_and_fit pid=546)\u001b[0m mri_net.classifier.2.bias 1.430511474609375e-06\n",
      "\u001b[36m(launch_and_fit pid=546)\u001b[0m mri_net.classifier.3.weights 1.1920928955078125e-06\n",
      "\u001b[36m(launch_and_fit pid=546)\u001b[0m dna_net.fc1.weight 1.1920928955078125e-06\n",
      "\u001b[36m(launch_and_fit pid=546)\u001b[0m dna_net.fc1.bias 1.430511474609375e-06\n",
      "\u001b[36m(launch_and_fit pid=546)\u001b[0m dna_net.fc2.weight 1.1920928955078125e-06\n",
      "\u001b[36m(launch_and_fit pid=546)\u001b[0m dna_net.fc2.bias 9.5367431640625e-07\n",
      "\u001b[36m(launch_and_fit pid=546)\u001b[0m dna_net.fc3.weight 1.1920928955078125e-06\n",
      "\u001b[36m(launch_and_fit pid=546)\u001b[0m dna_net.fc3.bias 1.1920928955078125e-06\n",
      "\u001b[36m(launch_and_fit pid=546)\u001b[0m dna_net.fc4.weight 9.5367431640625e-07\n",
      "\u001b[36m(launch_and_fit pid=546)\u001b[0m dna_net.fc4.bias 2.1457672119140625e-06\n",
      "\u001b[36m(launch_and_fit pid=546)\u001b[0m dna_net.qnn.weights 1.430511474609375e-06\n",
      "\u001b[36m(launch_and_fit pid=546)\u001b[0m attention.in_proj_weight 1.1920928955078125e-06\n",
      "\u001b[36m(launch_and_fit pid=546)\u001b[0m attention.in_proj_bias 9.5367431640625e-07\n",
      "\u001b[36m(launch_and_fit pid=546)\u001b[0m attention.out_proj.weight 1.430511474609375e-06\n",
      "\u001b[36m(launch_and_fit pid=546)\u001b[0m attention.out_proj.bias 1.1920928955078125e-06\n",
      "\u001b[36m(launch_and_fit pid=546)\u001b[0m fc1.weight 9.5367431640625e-07\n",
      "\u001b[36m(launch_and_fit pid=546)\u001b[0m fc1.bias 1.1920928955078125e-06\n",
      "\u001b[36m(launch_and_fit pid=546)\u001b[0m fc2_mri.weight 1.1920928955078125e-06\n",
      "\u001b[36m(launch_and_fit pid=546)\u001b[0m fc2_mri.bias 1.1920928955078125e-06\n",
      "\u001b[36m(launch_and_fit pid=546)\u001b[0m fc2_dna.weight 9.5367431640625e-07\n",
      "\u001b[36m(launch_and_fit pid=546)\u001b[0m fc2_dna.bias 1.1920928955078125e-06\n",
      "\u001b[36m(launch_and_fit pid=631)\u001b[0m Run with homomorphic encryption\n",
      "\u001b[36m(launch_and_fit pid=571)\u001b[0m save graph in  results/FL/\n",
      "\u001b[36m(launch_and_fit pid=571)\u001b[0m \tTrain Epoch: 10 \tTrain_loss_mri: 1.3695 | Train_acc_mri: 33.1366 | Train_loss_dna: 1.8488 | Train_acc_dna: 27.8819 | Validation_loss_mri: 1.2815 | Validation_acc_mri: 52.0833 | Validation_loss_dna: 1.8061 | Validation_acc_dna: 32.2917\n",
      "\u001b[36m(launch_and_fit pid=571)\u001b[0m fc2_dna.bias 1.6689300537109375e-06\u001b[32m [repeated 23x across cluster]\u001b[0m\n",
      "\u001b[36m(launch_and_fit pid=571)\u001b[0m dna_net.qnn.weights 9.5367431640625e-07\n",
      "\u001b[36m(launch_and_fit pid=571)\u001b[0m attention.in_proj_weight 1.430511474609375e-06\n",
      "\u001b[36m(launch_and_fit pid=571)\u001b[0m attention.in_proj_bias 1.1920928955078125e-06\n",
      "\u001b[36m(launch_and_fit pid=571)\u001b[0m attention.out_proj.weight 1.1920928955078125e-06\n",
      "\u001b[36m(launch_and_fit pid=571)\u001b[0m attention.out_proj.bias 1.430511474609375e-06\n",
      "\u001b[36m(launch_and_fit pid=631)\u001b[0m [Client 5, round 1] fit, config: {'learning_rate': 0.003, 'batch_size': '32', 'server_round': 1, 'local_epochs': 10}\n",
      "\u001b[36m(launch_and_fit pid=631)\u001b[0m Updated model\n"
     ]
    },
    {
     "name": "stderr",
     "output_type": "stream",
     "text": [
      "  0%|\u001b[34m          \u001b[0m| 0/10 [00:00<?, ?it/s]\n",
      "100%|\u001b[34m██████████\u001b[0m| 10/10 [00:39<00:00,  3.92s/it]\n"
     ]
    },
    {
     "name": "stdout",
     "output_type": "stream",
     "text": [
      "\u001b[36m(launch_and_fit pid=631)\u001b[0m \tTrain Epoch: 1 \tTrain_loss_mri: 1.3918 | Train_acc_mri: 25.2894 | Train_loss_dna: 1.9268 | Train_acc_dna: 17.5116 | Validation_loss_mri: 1.3612 | Validation_acc_mri: 30.7292 | Validation_loss_dna: 1.9187 | Validation_acc_dna: 14.0625\n",
      "\u001b[36m(launch_and_fit pid=656)\u001b[0m Run with homomorphic encryption\n",
      "\u001b[36m(launch_and_fit pid=656)\u001b[0m [Client 9, round 1] fit, config: {'learning_rate': 0.003, 'batch_size': '32', 'server_round': 1, 'local_epochs': 10}\n"
     ]
    },
    {
     "name": "stderr",
     "output_type": "stream",
     "text": [
      " 10%|\u001b[34m█         \u001b[0m| 1/10 [00:04<00:38,  4.31s/it]\n"
     ]
    },
    {
     "name": "stdout",
     "output_type": "stream",
     "text": [
      "\u001b[36m(launch_and_fit pid=656)\u001b[0m Updated model\n"
     ]
    },
    {
     "name": "stderr",
     "output_type": "stream",
     "text": [
      "  0%|\u001b[34m          \u001b[0m| 0/10 [00:00<?, ?it/s]\n"
     ]
    },
    {
     "name": "stdout",
     "output_type": "stream",
     "text": [
      "\u001b[36m(launch_and_fit pid=656)\u001b[0m \tTrain Epoch: 2 \tTrain_loss_mri: 1.3825 | Train_acc_mri: 30.4133 | Train_loss_dna: 1.8287 | Train_acc_dna: 32.2581 | Validation_loss_mri: 1.3218 | Validation_acc_mri: 47.3958 | Validation_loss_dna: 1.7350 | Validation_acc_dna: 33.8542\u001b[32m [repeated 3x across cluster]\u001b[0m\n"
     ]
    },
    {
     "name": "stderr",
     "output_type": "stream",
     "text": [
      " 20%|\u001b[34m██        \u001b[0m| 2/10 [00:08<00:32,  4.05s/it]\u001b[32m [repeated 3x across cluster]\u001b[0m\n"
     ]
    },
    {
     "name": "stdout",
     "output_type": "stream",
     "text": [
      "\u001b[36m(launch_and_fit pid=631)\u001b[0m \tTrain Epoch: 4 \tTrain_loss_mri: 1.3280 | Train_acc_mri: 38.3102 | Train_loss_dna: 1.8314 | Train_acc_dna: 28.7847 | Validation_loss_mri: 1.1983 | Validation_acc_mri: 50.5208 | Validation_loss_dna: 1.9101 | Validation_acc_dna: 15.6250\u001b[32m [repeated 3x across cluster]\u001b[0m\n"
     ]
    },
    {
     "name": "stderr",
     "output_type": "stream",
     "text": [
      " 40%|\u001b[34m████      \u001b[0m| 4/10 [00:15<00:23,  3.88s/it]\u001b[32m [repeated 3x across cluster]\u001b[0m\n"
     ]
    },
    {
     "name": "stdout",
     "output_type": "stream",
     "text": [
      "\u001b[36m(launch_and_fit pid=656)\u001b[0m \tTrain Epoch: 5 \tTrain_loss_mri: 1.3770 | Train_acc_mri: 30.3831 | Train_loss_dna: 1.7939 | Train_acc_dna: 32.3286 | Validation_loss_mri: 1.3456 | Validation_acc_mri: 47.3958 | Validation_loss_dna: 1.7213 | Validation_acc_dna: 33.8542\u001b[32m [repeated 3x across cluster]\u001b[0m\n"
     ]
    },
    {
     "name": "stderr",
     "output_type": "stream",
     "text": [
      " 50%|\u001b[34m█████     \u001b[0m| 5/10 [00:19<00:19,  3.92s/it]\u001b[32m [repeated 3x across cluster]\u001b[0m\n"
     ]
    },
    {
     "name": "stdout",
     "output_type": "stream",
     "text": [
      "\u001b[36m(launch_and_fit pid=631)\u001b[0m \tTrain Epoch: 7 \tTrain_loss_mri: 1.2352 | Train_acc_mri: 37.4537 | Train_loss_dna: 1.8275 | Train_acc_dna: 28.5532 | Validation_loss_mri: 1.1062 | Validation_acc_mri: 40.1042 | Validation_loss_dna: 1.9413 | Validation_acc_dna: 15.6250\u001b[32m [repeated 3x across cluster]\u001b[0m\n"
     ]
    },
    {
     "name": "stderr",
     "output_type": "stream",
     "text": [
      " 70%|\u001b[34m███████   \u001b[0m| 7/10 [00:27<00:11,  3.93s/it]\u001b[32m [repeated 3x across cluster]\u001b[0m\n"
     ]
    },
    {
     "name": "stdout",
     "output_type": "stream",
     "text": [
      "\u001b[36m(launch_and_fit pid=656)\u001b[0m \tTrain Epoch: 8 \tTrain_loss_mri: 1.3774 | Train_acc_mri: 30.4032 | Train_loss_dna: 1.7923 | Train_acc_dna: 32.2681 | Validation_loss_mri: 1.3435 | Validation_acc_mri: 47.3958 | Validation_loss_dna: 1.7055 | Validation_acc_dna: 33.8542\u001b[32m [repeated 3x across cluster]\u001b[0m\n"
     ]
    },
    {
     "name": "stderr",
     "output_type": "stream",
     "text": [
      " 80%|\u001b[34m████████  \u001b[0m| 8/10 [00:31<00:07,  3.90s/it]\u001b[32m [repeated 3x across cluster]\u001b[0m\n"
     ]
    },
    {
     "name": "stdout",
     "output_type": "stream",
     "text": [
      "\u001b[36m(launch_and_fit pid=631)\u001b[0m save graph in  results/FL/\n",
      "\u001b[36m(launch_and_fit pid=631)\u001b[0m \tTrain Epoch: 10 \tTrain_loss_mri: 0.8748 | Train_acc_mri: 54.1898 | Train_loss_dna: 1.8144 | Train_acc_dna: 28.9583 | Validation_loss_mri: 1.6952 | Validation_acc_mri: 45.8333 | Validation_loss_dna: 1.9015 | Validation_acc_dna: 15.6250\u001b[32m [repeated 3x across cluster]\u001b[0m\n"
     ]
    },
    {
     "name": "stderr",
     "output_type": "stream",
     "text": [
      "100%|\u001b[34m██████████\u001b[0m| 10/10 [00:38<00:00,  3.88s/it]\u001b[32m [repeated 3x across cluster]\u001b[0m\n"
     ]
    },
    {
     "name": "stdout",
     "output_type": "stream",
     "text": [
      "\u001b[36m(launch_and_fit pid=631)\u001b[0m mri_net.features.0.weight 5.7220458984375e-06\n",
      "\u001b[36m(launch_and_fit pid=631)\u001b[0m mri_net.features.0.bias 1.1920928955078125e-06\n",
      "\u001b[36m(launch_and_fit pid=631)\u001b[0m mri_net.features.3.weight 9.5367431640625e-07\n",
      "\u001b[36m(launch_and_fit pid=631)\u001b[0m mri_net.features.3.bias 9.5367431640625e-07\n",
      "\u001b[36m(launch_and_fit pid=631)\u001b[0m mri_net.classifier.0.weight 9.5367431640625e-07\n",
      "\u001b[36m(launch_and_fit pid=631)\u001b[0m mri_net.classifier.0.bias 9.5367431640625e-07\n",
      "\u001b[36m(launch_and_fit pid=631)\u001b[0m mri_net.classifier.2.weight 1.1920928955078125e-06\n",
      "\u001b[36m(launch_and_fit pid=631)\u001b[0m mri_net.classifier.2.bias 9.5367431640625e-07\n",
      "\u001b[36m(launch_and_fit pid=631)\u001b[0m mri_net.classifier.3.weights 1.430511474609375e-06\n",
      "\u001b[36m(launch_and_fit pid=631)\u001b[0m dna_net.fc1.weight 1.1920928955078125e-06\n",
      "\u001b[36m(launch_and_fit pid=631)\u001b[0m dna_net.fc1.bias 9.5367431640625e-07\n",
      "\u001b[36m(launch_and_fit pid=631)\u001b[0m dna_net.fc2.weight 9.5367431640625e-07\n",
      "\u001b[36m(launch_and_fit pid=631)\u001b[0m dna_net.fc2.bias 1.1920928955078125e-06\n",
      "\u001b[36m(launch_and_fit pid=631)\u001b[0m dna_net.fc3.weight 1.1920928955078125e-06\n",
      "\u001b[36m(launch_and_fit pid=631)\u001b[0m dna_net.fc3.bias 1.430511474609375e-06\n",
      "\u001b[36m(launch_and_fit pid=631)\u001b[0m dna_net.fc4.weight 9.5367431640625e-07\n",
      "\u001b[36m(launch_and_fit pid=631)\u001b[0m dna_net.fc4.bias 9.5367431640625e-07\n",
      "\u001b[36m(launch_and_fit pid=631)\u001b[0m dna_net.qnn.weights 1.1920928955078125e-06\n",
      "\u001b[36m(launch_and_fit pid=631)\u001b[0m attention.in_proj_weight 9.5367431640625e-07\n",
      "\u001b[36m(launch_and_fit pid=631)\u001b[0m attention.in_proj_bias 9.5367431640625e-07\n",
      "\u001b[36m(launch_and_fit pid=631)\u001b[0m attention.out_proj.weight 9.5367431640625e-07\n",
      "\u001b[36m(launch_and_fit pid=631)\u001b[0m attention.out_proj.bias 9.5367431640625e-07\n",
      "\u001b[36m(launch_and_fit pid=631)\u001b[0m fc1.weight 1.1920928955078125e-06\n",
      "\u001b[36m(launch_and_fit pid=631)\u001b[0m fc1.bias 9.5367431640625e-07\n",
      "\u001b[36m(launch_and_fit pid=631)\u001b[0m fc2_mri.weight 1.1920928955078125e-06\n",
      "\u001b[36m(launch_and_fit pid=631)\u001b[0m fc2_mri.bias 1.1920928955078125e-06\n",
      "\u001b[36m(launch_and_fit pid=631)\u001b[0m fc2_dna.weight 9.5367431640625e-07\n",
      "\u001b[36m(launch_and_fit pid=631)\u001b[0m fc2_dna.bias 9.5367431640625e-07\n",
      "\u001b[36m(launch_and_fit pid=713)\u001b[0m Run with homomorphic encryption\n",
      "\u001b[36m(launch_and_fit pid=656)\u001b[0m save graph in  results/FL/\n",
      "\u001b[36m(launch_and_fit pid=656)\u001b[0m \tTrain Epoch: 10 \tTrain_loss_mri: 1.3817 | Train_acc_mri: 30.4234 | Train_loss_dna: 1.7765 | Train_acc_dna: 32.2984 | Validation_loss_mri: 1.3426 | Validation_acc_mri: 47.3958 | Validation_loss_dna: 1.6633 | Validation_acc_dna: 33.8542\n",
      "\u001b[36m(launch_and_fit pid=656)\u001b[0m fc2_dna.bias 9.5367431640625e-07\u001b[32m [repeated 23x across cluster]\u001b[0m\n",
      "\u001b[36m(launch_and_fit pid=656)\u001b[0m dna_net.qnn.weights 1.1920928955078125e-06\n",
      "\u001b[36m(launch_and_fit pid=656)\u001b[0m attention.in_proj_weight 9.5367431640625e-07\n",
      "\u001b[36m(launch_and_fit pid=656)\u001b[0m attention.in_proj_bias 1.1920928955078125e-06\n",
      "\u001b[36m(launch_and_fit pid=656)\u001b[0m attention.out_proj.weight 1.430511474609375e-06\n",
      "\u001b[36m(launch_and_fit pid=656)\u001b[0m attention.out_proj.bias 1.1920928955078125e-06\n",
      "\u001b[36m(launch_and_fit pid=713)\u001b[0m [Client 0, round 1] fit, config: {'learning_rate': 0.003, 'batch_size': '32', 'server_round': 1, 'local_epochs': 10}\n"
     ]
    },
    {
     "name": "stderr",
     "output_type": "stream",
     "text": [
      "  0%|\u001b[34m          \u001b[0m| 0/10 [00:00<?, ?it/s]\n",
      "100%|\u001b[34m██████████\u001b[0m| 10/10 [00:39<00:00,  3.91s/it]\n"
     ]
    },
    {
     "name": "stdout",
     "output_type": "stream",
     "text": [
      "\u001b[36m(launch_and_fit pid=713)\u001b[0m Updated model\n"
     ]
    },
    {
     "name": "stderr",
     "output_type": "stream",
     "text": [
      " 10%|\u001b[34m█         \u001b[0m| 1/10 [00:04<00:39,  4.35s/it]\n"
     ]
    },
    {
     "name": "stdout",
     "output_type": "stream",
     "text": [
      "\u001b[36m(launch_and_fit pid=713)\u001b[0m \tTrain Epoch: 1 \tTrain_loss_mri: 1.3869 | Train_acc_mri: 28.9005 | Train_loss_dna: 1.9295 | Train_acc_dna: 16.9097 | Validation_loss_mri: 1.3591 | Validation_acc_mri: 33.8542 | Validation_loss_dna: 1.9891 | Validation_acc_dna: 17.1875\n",
      "\u001b[36m(launch_and_fit pid=738)\u001b[0m Run with homomorphic encryption\n",
      "\u001b[36m(launch_and_fit pid=738)\u001b[0m [Client 8, round 1] fit, config: {'learning_rate': 0.003, 'batch_size': '32', 'server_round': 1, 'local_epochs': 10}\n"
     ]
    },
    {
     "name": "stderr",
     "output_type": "stream",
     "text": [
      "  0%|\u001b[34m          \u001b[0m| 0/10 [00:00<?, ?it/s]\n"
     ]
    },
    {
     "name": "stdout",
     "output_type": "stream",
     "text": [
      "\u001b[36m(launch_and_fit pid=738)\u001b[0m Updated model\n"
     ]
    },
    {
     "name": "stderr",
     "output_type": "stream",
     "text": [
      " 30%|\u001b[34m███       \u001b[0m| 3/10 [00:12<00:28,  4.03s/it]\u001b[32m [repeated 4x across cluster]\u001b[0m\n"
     ]
    },
    {
     "name": "stdout",
     "output_type": "stream",
     "text": [
      "\u001b[36m(launch_and_fit pid=713)\u001b[0m \tTrain Epoch: 3 \tTrain_loss_mri: 1.3837 | Train_acc_mri: 30.0116 | Train_loss_dna: 1.8156 | Train_acc_dna: 31.3773 | Validation_loss_mri: 1.3650 | Validation_acc_mri: 33.8542 | Validation_loss_dna: 2.0424 | Validation_acc_dna: 17.1875\u001b[32m [repeated 4x across cluster]\u001b[0m\n"
     ]
    },
    {
     "name": "stderr",
     "output_type": "stream",
     "text": [
      " 50%|\u001b[34m█████     \u001b[0m| 5/10 [00:19<00:19,  3.87s/it]\u001b[32m [repeated 4x across cluster]\u001b[0m\n"
     ]
    },
    {
     "name": "stdout",
     "output_type": "stream",
     "text": [
      "\u001b[36m(launch_and_fit pid=713)\u001b[0m \tTrain Epoch: 5 \tTrain_loss_mri: 1.3668 | Train_acc_mri: 29.7801 | Train_loss_dna: 1.8169 | Train_acc_dna: 31.2616 | Validation_loss_mri: 1.3398 | Validation_acc_mri: 33.8542 | Validation_loss_dna: 1.9940 | Validation_acc_dna: 17.1875\u001b[32m [repeated 4x across cluster]\u001b[0m\n"
     ]
    },
    {
     "name": "stderr",
     "output_type": "stream",
     "text": [
      " 70%|\u001b[34m███████   \u001b[0m| 7/10 [00:27<00:11,  3.78s/it]\u001b[32m [repeated 4x across cluster]\u001b[0m\n"
     ]
    },
    {
     "name": "stdout",
     "output_type": "stream",
     "text": [
      "\u001b[36m(launch_and_fit pid=713)\u001b[0m \tTrain Epoch: 7 \tTrain_loss_mri: 1.3661 | Train_acc_mri: 27.9861 | Train_loss_dna: 1.8142 | Train_acc_dna: 31.2037 | Validation_loss_mri: 1.3660 | Validation_acc_mri: 14.0625 | Validation_loss_dna: 1.9784 | Validation_acc_dna: 17.1875\u001b[32m [repeated 4x across cluster]\u001b[0m\n"
     ]
    },
    {
     "name": "stderr",
     "output_type": "stream",
     "text": [
      " 90%|\u001b[34m█████████ \u001b[0m| 9/10 [00:34<00:03,  3.74s/it]\u001b[32m [repeated 4x across cluster]\u001b[0m\n"
     ]
    },
    {
     "name": "stdout",
     "output_type": "stream",
     "text": [
      "\u001b[36m(launch_and_fit pid=713)\u001b[0m \tTrain Epoch: 9 \tTrain_loss_mri: 1.3797 | Train_acc_mri: 30.4398 | Train_loss_dna: 1.8160 | Train_acc_dna: 30.9722 | Validation_loss_mri: 1.2931 | Validation_acc_mri: 47.3958 | Validation_loss_dna: 2.0308 | Validation_acc_dna: 17.1875\u001b[32m [repeated 4x across cluster]\u001b[0m\n",
      "\u001b[36m(launch_and_fit pid=713)\u001b[0m save graph in  results/FL/\n",
      "\u001b[36m(launch_and_fit pid=713)\u001b[0m mri_net.features.0.weight 5.4836273193359375e-06\n",
      "\u001b[36m(launch_and_fit pid=713)\u001b[0m mri_net.features.0.bias 1.430511474609375e-06\n",
      "\u001b[36m(launch_and_fit pid=713)\u001b[0m mri_net.features.3.weight 1.430511474609375e-06\n",
      "\u001b[36m(launch_and_fit pid=713)\u001b[0m mri_net.features.3.bias 1.1920928955078125e-06\n",
      "\u001b[36m(launch_and_fit pid=713)\u001b[0m mri_net.classifier.0.weight 1.1920928955078125e-06\n",
      "\u001b[36m(launch_and_fit pid=713)\u001b[0m mri_net.classifier.0.bias 9.5367431640625e-07\n",
      "\u001b[36m(launch_and_fit pid=713)\u001b[0m mri_net.classifier.2.weight 1.430511474609375e-06\n",
      "\u001b[36m(launch_and_fit pid=713)\u001b[0m mri_net.classifier.2.bias 9.5367431640625e-07\n",
      "\u001b[36m(launch_and_fit pid=713)\u001b[0m mri_net.classifier.3.weights 1.430511474609375e-06\n",
      "\u001b[36m(launch_and_fit pid=713)\u001b[0m dna_net.fc1.weight 1.1920928955078125e-06\n",
      "\u001b[36m(launch_and_fit pid=713)\u001b[0m dna_net.fc1.bias 1.1920928955078125e-06\n",
      "\u001b[36m(launch_and_fit pid=713)\u001b[0m dna_net.fc2.weight 1.430511474609375e-06\n",
      "\u001b[36m(launch_and_fit pid=713)\u001b[0m dna_net.fc2.bias 9.5367431640625e-07\n",
      "\u001b[36m(launch_and_fit pid=713)\u001b[0m dna_net.fc3.weight 1.1920928955078125e-06\n",
      "\u001b[36m(launch_and_fit pid=713)\u001b[0m dna_net.fc3.bias 1.430511474609375e-06\n",
      "\u001b[36m(launch_and_fit pid=713)\u001b[0m dna_net.fc4.weight 1.1920928955078125e-06\n",
      "\u001b[36m(launch_and_fit pid=713)\u001b[0m dna_net.fc4.bias 1.1920928955078125e-06\n",
      "\u001b[36m(launch_and_fit pid=713)\u001b[0m dna_net.qnn.weights 1.1920928955078125e-06\n",
      "\u001b[36m(launch_and_fit pid=713)\u001b[0m attention.in_proj_weight 1.1920928955078125e-06\n",
      "\u001b[36m(launch_and_fit pid=713)\u001b[0m attention.in_proj_bias 1.1920928955078125e-06\n",
      "\u001b[36m(launch_and_fit pid=713)\u001b[0m attention.out_proj.weight 1.1920928955078125e-06\n",
      "\u001b[36m(launch_and_fit pid=713)\u001b[0m attention.out_proj.bias 1.1920928955078125e-06\n",
      "\u001b[36m(launch_and_fit pid=713)\u001b[0m fc1.weight 1.430511474609375e-06\n",
      "\u001b[36m(launch_and_fit pid=713)\u001b[0m fc1.bias 1.430511474609375e-06\n",
      "\u001b[36m(launch_and_fit pid=713)\u001b[0m fc2_mri.weight 1.1920928955078125e-06\n",
      "\u001b[36m(launch_and_fit pid=713)\u001b[0m fc2_mri.bias 1.430511474609375e-06\n",
      "\u001b[36m(launch_and_fit pid=713)\u001b[0m fc2_dna.weight 1.1920928955078125e-06\n",
      "\u001b[36m(launch_and_fit pid=713)\u001b[0m fc2_dna.bias 1.1920928955078125e-06\n",
      "\u001b[36m(launch_and_fit pid=738)\u001b[0m \tTrain Epoch: 10 \tTrain_loss_mri: 1.3874 | Train_acc_mri: 25.7176 | Train_loss_dna: 1.8254 | Train_acc_dna: 29.8380 | Validation_loss_mri: 1.4096 | Validation_acc_mri: 17.1875 | Validation_loss_dna: 1.8151 | Validation_acc_dna: 15.6250\u001b[32m [repeated 3x across cluster]\u001b[0m\n",
      "\u001b[36m(launch_and_fit pid=797)\u001b[0m Run with homomorphic encryption\n",
      "\u001b[36m(launch_and_fit pid=738)\u001b[0m save graph in  results/FL/\n",
      "\u001b[36m(launch_and_fit pid=738)\u001b[0m fc2_dna.bias 1.430511474609375e-06\u001b[32m [repeated 23x across cluster]\u001b[0m\n",
      "\u001b[36m(launch_and_fit pid=738)\u001b[0m dna_net.qnn.weights 9.5367431640625e-07\n",
      "\u001b[36m(launch_and_fit pid=738)\u001b[0m attention.in_proj_weight 9.5367431640625e-07\n",
      "\u001b[36m(launch_and_fit pid=738)\u001b[0m attention.in_proj_bias 1.1920928955078125e-06\n",
      "\u001b[36m(launch_and_fit pid=738)\u001b[0m attention.out_proj.weight 9.5367431640625e-07\n",
      "\u001b[36m(launch_and_fit pid=738)\u001b[0m attention.out_proj.bias 9.5367431640625e-07\n",
      "\u001b[36m(launch_and_fit pid=797)\u001b[0m [Client 4, round 1] fit, config: {'learning_rate': 0.003, 'batch_size': '32', 'server_round': 1, 'local_epochs': 10}\n"
     ]
    },
    {
     "name": "stderr",
     "output_type": "stream",
     "text": [
      "  0%|\u001b[34m          \u001b[0m| 0/10 [00:00<?, ?it/s]\n",
      "100%|\u001b[34m██████████\u001b[0m| 10/10 [00:38<00:00,  3.85s/it]\u001b[32m [repeated 3x across cluster]\u001b[0m\n"
     ]
    },
    {
     "name": "stdout",
     "output_type": "stream",
     "text": [
      "\u001b[36m(launch_and_fit pid=797)\u001b[0m Updated model\n",
      "\u001b[36m(launch_and_fit pid=797)\u001b[0m \tTrain Epoch: 1 \tTrain_loss_mri: 1.3851 | Train_acc_mri: 26.6551 | Train_loss_dna: 1.9218 | Train_acc_dna: 20.5208 | Validation_loss_mri: 1.3404 | Validation_acc_mri: 44.2708 | Validation_loss_dna: 1.8497 | Validation_acc_dna: 40.1042\n",
      "\u001b[36m(launch_and_fit pid=822)\u001b[0m Run with homomorphic encryption\n",
      "\u001b[36m(launch_and_fit pid=822)\u001b[0m [Client 7, round 1] fit, config: {'learning_rate': 0.003, 'batch_size': '32', 'server_round': 1, 'local_epochs': 10}\n"
     ]
    },
    {
     "name": "stderr",
     "output_type": "stream",
     "text": [
      "  0%|\u001b[34m          \u001b[0m| 0/10 [00:00<?, ?it/s]\n",
      " 20%|\u001b[34m██        \u001b[0m| 2/10 [00:07<00:30,  3.87s/it]\u001b[32m [repeated 3x across cluster]\u001b[0m\n"
     ]
    },
    {
     "name": "stdout",
     "output_type": "stream",
     "text": [
      "\u001b[36m(launch_and_fit pid=822)\u001b[0m Updated model\n",
      "\u001b[36m(launch_and_fit pid=797)\u001b[0m \tTrain Epoch: 3 \tTrain_loss_mri: 1.3796 | Train_acc_mri: 31.0880 | Train_loss_dna: 1.8209 | Train_acc_dna: 29.8380 | Validation_loss_mri: 1.3277 | Validation_acc_mri: 44.2708 | Validation_loss_dna: 1.8227 | Validation_acc_dna: 40.1042\u001b[32m [repeated 4x across cluster]\u001b[0m\n"
     ]
    },
    {
     "name": "stderr",
     "output_type": "stream",
     "text": [
      " 40%|\u001b[34m████      \u001b[0m| 4/10 [00:15<00:23,  3.89s/it]\u001b[32m [repeated 4x across cluster]\u001b[0m\n"
     ]
    },
    {
     "name": "stdout",
     "output_type": "stream",
     "text": [
      "\u001b[36m(launch_and_fit pid=797)\u001b[0m \tTrain Epoch: 5 \tTrain_loss_mri: 1.3807 | Train_acc_mri: 31.2037 | Train_loss_dna: 1.8093 | Train_acc_dna: 29.8958 | Validation_loss_mri: 1.3095 | Validation_acc_mri: 44.2708 | Validation_loss_dna: 1.8383 | Validation_acc_dna: 40.1042\u001b[32m [repeated 4x across cluster]\u001b[0m\n"
     ]
    },
    {
     "name": "stderr",
     "output_type": "stream",
     "text": [
      " 60%|\u001b[34m██████    \u001b[0m| 6/10 [00:23<00:15,  3.89s/it]\u001b[32m [repeated 4x across cluster]\u001b[0m\n"
     ]
    },
    {
     "name": "stdout",
     "output_type": "stream",
     "text": [
      "\u001b[36m(launch_and_fit pid=797)\u001b[0m \tTrain Epoch: 7 \tTrain_loss_mri: 1.3759 | Train_acc_mri: 31.0880 | Train_loss_dna: 1.7959 | Train_acc_dna: 29.8380 | Validation_loss_mri: 1.3167 | Validation_acc_mri: 44.2708 | Validation_loss_dna: 1.8536 | Validation_acc_dna: 40.1042\u001b[32m [repeated 4x across cluster]\u001b[0m\n"
     ]
    },
    {
     "name": "stderr",
     "output_type": "stream",
     "text": [
      " 80%|\u001b[34m████████  \u001b[0m| 8/10 [00:30<00:07,  3.82s/it]\u001b[32m [repeated 4x across cluster]\u001b[0m\n"
     ]
    },
    {
     "name": "stdout",
     "output_type": "stream",
     "text": [
      "\u001b[36m(launch_and_fit pid=822)\u001b[0m \tTrain Epoch: 9 \tTrain_loss_mri: 1.3811 | Train_acc_mri: 28.7037 | Train_loss_dna: 1.8566 | Train_acc_dna: 26.4583 | Validation_loss_mri: 1.3673 | Validation_acc_mri: 41.6667 | Validation_loss_dna: 1.7125 | Validation_acc_dna: 50.5208\u001b[32m [repeated 4x across cluster]\u001b[0m\n",
      "\u001b[36m(launch_and_fit pid=822)\u001b[0m save graph in  results/FL/\n"
     ]
    },
    {
     "name": "stderr",
     "output_type": "stream",
     "text": [
      "100%|\u001b[34m██████████\u001b[0m| 10/10 [00:37<00:00,  3.78s/it]\u001b[32m [repeated 4x across cluster]\u001b[0m\n"
     ]
    },
    {
     "name": "stdout",
     "output_type": "stream",
     "text": [
      "\u001b[36m(launch_and_fit pid=797)\u001b[0m mri_net.features.0.weight 6.67572021484375e-06\n",
      "\u001b[36m(launch_and_fit pid=797)\u001b[0m mri_net.features.0.bias 1.9073486328125e-06\n",
      "\u001b[36m(launch_and_fit pid=797)\u001b[0m mri_net.features.3.weight \n",
      "\u001b[36m(launch_and_fit pid=797)\u001b[0m 1.430511474609375e-06\n",
      "\u001b[36m(launch_and_fit pid=822)\u001b[0m dna_net.qnn.weights 1.1920928955078125e-06\n",
      "\u001b[36m(launch_and_fit pid=822)\u001b[0m attention.in_proj_weight 1.1920928955078125e-06\n",
      "\u001b[36m(launch_and_fit pid=822)\u001b[0m attention.in_proj_bias 1.1920928955078125e-06\n",
      "\u001b[36m(launch_and_fit pid=822)\u001b[0m attention.out_proj.weight 1.1920928955078125e-06\n",
      "\u001b[36m(launch_and_fit pid=822)\u001b[0m attention.out_proj.bias 9.5367431640625e-07\n"
     ]
    },
    {
     "name": "stderr",
     "output_type": "stream",
     "text": [
      "DEBUG flwr 2024-08-05 07:12:40,658 | server.py:236 | fit_round 1 received 10 results and 0 failures\n",
      "WARNING flwr 2024-08-05 07:12:41,755 | 3890383987.py:131 | No fit_metrics_aggregation_fn provided\n"
     ]
    },
    {
     "name": "stdout",
     "output_type": "stream",
     "text": [
      "Saving round 1 aggregated_parameters...\n"
     ]
    },
    {
     "name": "stderr",
     "output_type": "stream",
     "text": [
      "DEBUG flwr 2024-08-05 07:12:42,519 | server.py:173 | evaluate_round 1: strategy sampled 10 clients (out of 10)\n"
     ]
    },
    {
     "name": "stdout",
     "output_type": "stream",
     "text": [
      "\u001b[36m(launch_and_evaluate pid=889)\u001b[0m Run with homomorphic encryption\n",
      "\u001b[36m(launch_and_fit pid=797)\u001b[0m \tTrain Epoch: 10 \tTrain_loss_mri: 1.3791 | Train_acc_mri: 31.0301 | Train_loss_dna: 1.8056 | Train_acc_dna: 27.7662 | Validation_loss_mri: 1.3131 | Validation_acc_mri: 44.2708 | Validation_loss_dna: 1.8040 | Validation_acc_dna: 43.2292\u001b[32m [repeated 3x across cluster]\u001b[0m\n",
      "\u001b[36m(launch_and_fit pid=797)\u001b[0m save graph in  results/FL/\n",
      "\u001b[36m(launch_and_fit pid=797)\u001b[0m fc2_dna.bias 1.1920928955078125e-06\u001b[32m [repeated 43x across cluster]\u001b[0m\n",
      "\u001b[36m(launch_and_fit pid=797)\u001b[0m dna_net.qnn.weights 1.1920928955078125e-06\n",
      "\u001b[36m(launch_and_fit pid=797)\u001b[0m attention.in_proj_weight 9.5367431640625e-07\n",
      "\u001b[36m(launch_and_fit pid=797)\u001b[0m attention.in_proj_bias 1.430511474609375e-06\n",
      "\u001b[36m(launch_and_fit pid=797)\u001b[0m attention.out_proj.weight 1.430511474609375e-06\n",
      "\u001b[36m(launch_and_fit pid=797)\u001b[0m attention.out_proj.bias 1.9073486328125e-06\n",
      "\u001b[36m(launch_and_evaluate pid=889)\u001b[0m [Client 5] evaluate, config: {}\n",
      "\u001b[36m(launch_and_evaluate pid=889)\u001b[0m Updated model\n"
     ]
    },
    {
     "name": "stderr",
     "output_type": "stream",
     "text": [
      "\u001b[36m(launch_and_evaluate pid=888)\u001b[0m /opt/conda/lib/python3.10/site-packages/sklearn/metrics/_ranking.py:1029: UndefinedMetricWarning: No positive samples in y_true, true positive value should be meaningless\n",
      "\u001b[36m(launch_and_evaluate pid=888)\u001b[0m   warnings.warn(\n",
      "100%|\u001b[34m██████████\u001b[0m| 10/10 [00:38<00:00,  3.83s/it]\n"
     ]
    },
    {
     "name": "stdout",
     "output_type": "stream",
     "text": [
      "\u001b[36m(launch_and_evaluate pid=967)\u001b[0m Run with homomorphic encryption\u001b[32m [repeated 2x across cluster]\u001b[0m\n",
      "\u001b[36m(launch_and_evaluate pid=888)\u001b[0m [Client 9] evaluate, config: {}\n",
      "\u001b[36m(launch_and_evaluate pid=888)\u001b[0m Updated model\n",
      "\u001b[36m(launch_and_evaluate pid=967)\u001b[0m [Client 4] evaluate, config: {}\n",
      "\u001b[36m(launch_and_evaluate pid=967)\u001b[0m Updated model\n"
     ]
    },
    {
     "name": "stderr",
     "output_type": "stream",
     "text": [
      "\u001b[36m(launch_and_evaluate pid=967)\u001b[0m /opt/conda/lib/python3.10/site-packages/sklearn/metrics/_ranking.py:1029: UndefinedMetricWarning: No positive samples in y_true, true positive value should be meaningless\n",
      "\u001b[36m(launch_and_evaluate pid=967)\u001b[0m   warnings.warn(\n"
     ]
    },
    {
     "name": "stdout",
     "output_type": "stream",
     "text": [
      "\u001b[36m(launch_and_evaluate pid=1045)\u001b[0m Run with homomorphic encryption\u001b[32m [repeated 2x across cluster]\u001b[0m\n",
      "\u001b[36m(launch_and_evaluate pid=969)\u001b[0m [Client 7] evaluate, config: {}\n",
      "\u001b[36m(launch_and_evaluate pid=969)\u001b[0m Updated model\n",
      "\u001b[36m(launch_and_evaluate pid=1045)\u001b[0m [Client 1] evaluate, config: {}\n",
      "\u001b[36m(launch_and_evaluate pid=1045)\u001b[0m Updated model\n",
      "\u001b[36m(launch_and_evaluate pid=1124)\u001b[0m Run with homomorphic encryption\u001b[32m [repeated 2x across cluster]\u001b[0m\n",
      "\u001b[36m(launch_and_evaluate pid=1047)\u001b[0m [Client 6] evaluate, config: {}\n",
      "\u001b[36m(launch_and_evaluate pid=1047)\u001b[0m Updated model\n",
      "\u001b[36m(launch_and_evaluate pid=1124)\u001b[0m [Client 2] evaluate, config: {}\n",
      "\u001b[36m(launch_and_evaluate pid=1124)\u001b[0m Updated model\n"
     ]
    },
    {
     "name": "stderr",
     "output_type": "stream",
     "text": [
      "\u001b[36m(launch_and_evaluate pid=1126)\u001b[0m /opt/conda/lib/python3.10/site-packages/sklearn/metrics/_ranking.py:1029: UndefinedMetricWarning: No positive samples in y_true, true positive value should be meaningless\n",
      "\u001b[36m(launch_and_evaluate pid=1126)\u001b[0m   warnings.warn(\n"
     ]
    },
    {
     "name": "stdout",
     "output_type": "stream",
     "text": [
      "\u001b[36m(launch_and_evaluate pid=1202)\u001b[0m Run with homomorphic encryption\u001b[32m [repeated 2x across cluster]\u001b[0m\n",
      "\u001b[36m(launch_and_evaluate pid=1126)\u001b[0m [Client 8] evaluate, config: {}\n",
      "\u001b[36m(launch_and_evaluate pid=1126)\u001b[0m Updated model\n",
      "\u001b[36m(launch_and_evaluate pid=1202)\u001b[0m [Client 3] evaluate, config: {}\n",
      "\u001b[36m(launch_and_evaluate pid=1202)\u001b[0m Updated model\n"
     ]
    },
    {
     "name": "stderr",
     "output_type": "stream",
     "text": [
      "DEBUG flwr 2024-08-05 07:13:59,522 | server.py:187 | evaluate_round 1 received 10 results and 0 failures\n",
      "DEBUG flwr 2024-08-05 07:13:59,523 | server.py:222 | fit_round 2: strategy sampled 10 clients (out of 10)\n"
     ]
    },
    {
     "name": "stdout",
     "output_type": "stream",
     "text": [
      "\u001b[36m(launch_and_fit pid=1289)\u001b[0m Run with homomorphic encryption\u001b[32m [repeated 2x across cluster]\u001b[0m\n",
      "\u001b[36m(launch_and_evaluate pid=1204)\u001b[0m [Client 0] evaluate, config: {}\n",
      "\u001b[36m(launch_and_evaluate pid=1204)\u001b[0m Updated model\n",
      "\u001b[36m(launch_and_fit pid=1289)\u001b[0m [Client 5, round 2] fit, config: {'learning_rate': 0.003, 'batch_size': '32', 'server_round': 2, 'local_epochs': 10}\n"
     ]
    },
    {
     "name": "stderr",
     "output_type": "stream",
     "text": [
      "  0%|\u001b[34m          \u001b[0m| 0/10 [00:00<?, ?it/s]\n"
     ]
    },
    {
     "name": "stdout",
     "output_type": "stream",
     "text": [
      "\u001b[36m(launch_and_fit pid=1289)\u001b[0m Updated model\n"
     ]
    },
    {
     "name": "stderr",
     "output_type": "stream",
     "text": [
      " 10%|\u001b[34m█         \u001b[0m| 1/10 [00:04<00:38,  4.26s/it]\n"
     ]
    },
    {
     "name": "stdout",
     "output_type": "stream",
     "text": [
      "\u001b[36m(launch_and_fit pid=1289)\u001b[0m \tTrain Epoch: 1 \tTrain_loss_mri: 1.3963 | Train_acc_mri: 17.6736 | Train_loss_dna: 1.8405 | Train_acc_dna: 28.7847 | Validation_loss_mri: 1.3613 | Validation_acc_mri: 42.7083 | Validation_loss_dna: 1.8974 | Validation_acc_dna: 15.6250\n",
      "\u001b[36m(launch_and_fit pid=1290)\u001b[0m Run with homomorphic encryption\n",
      "\u001b[36m(launch_and_fit pid=1290)\u001b[0m [Client 9, round 2] fit, config: {'learning_rate': 0.003, 'batch_size': '32', 'server_round': 2, 'local_epochs': 10}\n"
     ]
    },
    {
     "name": "stderr",
     "output_type": "stream",
     "text": [
      "  0%|\u001b[34m          \u001b[0m| 0/10 [00:00<?, ?it/s]\n"
     ]
    },
    {
     "name": "stdout",
     "output_type": "stream",
     "text": [
      "\u001b[36m(launch_and_fit pid=1290)\u001b[0m Updated model\n"
     ]
    },
    {
     "name": "stderr",
     "output_type": "stream",
     "text": [
      " 30%|\u001b[34m███       \u001b[0m| 3/10 [00:11<00:27,  3.98s/it]\u001b[32m [repeated 4x across cluster]\u001b[0m\n"
     ]
    },
    {
     "name": "stdout",
     "output_type": "stream",
     "text": [
      "\u001b[36m(launch_and_fit pid=1289)\u001b[0m \tTrain Epoch: 3 \tTrain_loss_mri: 1.3756 | Train_acc_mri: 27.7315 | Train_loss_dna: 1.8272 | Train_acc_dna: 28.8426 | Validation_loss_mri: 1.3178 | Validation_acc_mri: 53.6458 | Validation_loss_dna: 1.8955 | Validation_acc_dna: 15.6250\u001b[32m [repeated 4x across cluster]\u001b[0m\n"
     ]
    },
    {
     "name": "stderr",
     "output_type": "stream",
     "text": [
      " 50%|\u001b[34m█████     \u001b[0m| 5/10 [00:19<00:19,  3.80s/it]\u001b[32m [repeated 4x across cluster]\u001b[0m\n"
     ]
    },
    {
     "name": "stdout",
     "output_type": "stream",
     "text": [
      "\u001b[36m(launch_and_fit pid=1289)\u001b[0m \tTrain Epoch: 5 \tTrain_loss_mri: 1.3683 | Train_acc_mri: 31.2616 | Train_loss_dna: 1.8242 | Train_acc_dna: 29.0162 | Validation_loss_mri: 1.3461 | Validation_acc_mri: 52.0833 | Validation_loss_dna: 1.8837 | Validation_acc_dna: 15.6250\u001b[32m [repeated 4x across cluster]\u001b[0m\n"
     ]
    },
    {
     "name": "stderr",
     "output_type": "stream",
     "text": [
      " 70%|\u001b[34m███████   \u001b[0m| 7/10 [00:26<00:11,  3.74s/it]\u001b[32m [repeated 4x across cluster]\u001b[0m\n"
     ]
    },
    {
     "name": "stdout",
     "output_type": "stream",
     "text": [
      "\u001b[36m(launch_and_fit pid=1289)\u001b[0m \tTrain Epoch: 7 \tTrain_loss_mri: 1.3144 | Train_acc_mri: 36.8866 | Train_loss_dna: 1.8218 | Train_acc_dna: 29.1898 | Validation_loss_mri: 1.2339 | Validation_acc_mri: 38.5417 | Validation_loss_dna: 1.8891 | Validation_acc_dna: 15.6250\u001b[32m [repeated 4x across cluster]\u001b[0m\n"
     ]
    },
    {
     "name": "stderr",
     "output_type": "stream",
     "text": [
      " 90%|\u001b[34m█████████ \u001b[0m| 9/10 [00:34<00:03,  3.71s/it]\u001b[32m [repeated 4x across cluster]\u001b[0m\n"
     ]
    },
    {
     "name": "stdout",
     "output_type": "stream",
     "text": [
      "\u001b[36m(launch_and_fit pid=1289)\u001b[0m \tTrain Epoch: 9 \tTrain_loss_mri: 1.2268 | Train_acc_mri: 44.4097 | Train_loss_dna: 1.8230 | Train_acc_dna: 28.7847 | Validation_loss_mri: 1.2087 | Validation_acc_mri: 47.9167 | Validation_loss_dna: 1.8710 | Validation_acc_dna: 15.6250\u001b[32m [repeated 4x across cluster]\u001b[0m\n",
      "\u001b[36m(launch_and_fit pid=1289)\u001b[0m save graph in  results/FL/\n",
      "\u001b[36m(launch_and_fit pid=1289)\u001b[0m mri_net.features.0.weight 7.152557373046875e-06\n",
      "\u001b[36m(launch_and_fit pid=1289)\u001b[0m mri_net.features.0.bias 1.9073486328125e-06\n",
      "\u001b[36m(launch_and_fit pid=1289)\u001b[0m mri_net.features.3.weight 1.9073486328125e-06\n",
      "\u001b[36m(launch_and_fit pid=1289)\u001b[0m mri_net.features.3.bias 1.6689300537109375e-06\n",
      "\u001b[36m(launch_and_fit pid=1289)\u001b[0m mri_net.classifier.0.weight 1.9073486328125e-06\n",
      "\u001b[36m(launch_and_fit pid=1289)\u001b[0m mri_net.classifier.0.bias 1.6689300537109375e-06\n",
      "\u001b[36m(launch_and_fit pid=1289)\u001b[0m mri_net.classifier.2.weight 1.430511474609375e-06\n",
      "\u001b[36m(launch_and_fit pid=1289)\u001b[0m mri_net.classifier.2.bias 1.6689300537109375e-06\n",
      "\u001b[36m(launch_and_fit pid=1289)\u001b[0m mri_net.classifier.3.weights 1.430511474609375e-06\n",
      "\u001b[36m(launch_and_fit pid=1289)\u001b[0m dna_net.fc1.weight\n",
      "\u001b[36m(launch_and_fit pid=1289)\u001b[0m  \n",
      "\u001b[36m(launch_and_fit pid=1289)\u001b[0m 1.1920928955078125e-06\n",
      "\u001b[36m(launch_and_fit pid=1289)\u001b[0m \n",
      "\u001b[36m(launch_and_fit pid=1289)\u001b[0m dna_net.fc1.bias\n",
      "\u001b[36m(launch_and_fit pid=1289)\u001b[0m  \n",
      "\u001b[36m(launch_and_fit pid=1289)\u001b[0m 1.6689300537109375e-06\n",
      "\u001b[36m(launch_and_fit pid=1289)\u001b[0m dna_net.fc2.weight 1.6689300537109375e-06\n",
      "\u001b[36m(launch_and_fit pid=1289)\u001b[0m dna_net.fc2.bias 1.430511474609375e-06\n",
      "\u001b[36m(launch_and_fit pid=1289)\u001b[0m dna_net.fc3.weight 1.1920928955078125e-06\n",
      "\u001b[36m(launch_and_fit pid=1289)\u001b[0m dna_net.fc3.bias 1.430511474609375e-06\n",
      "\u001b[36m(launch_and_fit pid=1289)\u001b[0m dna_net.fc4.weight 1.1920928955078125e-06\n",
      "\u001b[36m(launch_and_fit pid=1289)\u001b[0m dna_net.fc4.bias 1.1920928955078125e-06\n",
      "\u001b[36m(launch_and_fit pid=1289)\u001b[0m dna_net.qnn.weights 1.6689300537109375e-06\n",
      "\u001b[36m(launch_and_fit pid=1289)\u001b[0m attention.in_proj_weight 1.430511474609375e-06\n",
      "\u001b[36m(launch_and_fit pid=1289)\u001b[0m attention.in_proj_bias 9.5367431640625e-07\n",
      "\u001b[36m(launch_and_fit pid=1289)\u001b[0m attention.out_proj.weight 1.9073486328125e-06\n",
      "\u001b[36m(launch_and_fit pid=1289)\u001b[0m attention.out_proj.bias 9.5367431640625e-07\n",
      "\u001b[36m(launch_and_fit pid=1289)\u001b[0m fc1.weight 1.9073486328125e-06\n",
      "\u001b[36m(launch_and_fit pid=1289)\u001b[0m fc1.bias 1.430511474609375e-06\n",
      "\u001b[36m(launch_and_fit pid=1289)\u001b[0m fc2_mri.weight 1.430511474609375e-06\n",
      "\u001b[36m(launch_and_fit pid=1289)\u001b[0m fc2_mri.bias 9.5367431640625e-07\n",
      "\u001b[36m(launch_and_fit pid=1289)\u001b[0m fc2_dna.weight 9.5367431640625e-07\n",
      "\u001b[36m(launch_and_fit pid=1289)\u001b[0m fc2_dna.bias 1.430511474609375e-06\n",
      "\u001b[36m(launch_and_fit pid=1290)\u001b[0m \tTrain Epoch: 10 \tTrain_loss_mri: 1.3442 | Train_acc_mri: 35.7460 | Train_loss_dna: 1.7624 | Train_acc_dna: 33.2359 | Validation_loss_mri: 1.2204 | Validation_acc_mri: 65.6250 | Validation_loss_dna: 1.8302 | Validation_acc_dna: 9.3750\u001b[32m [repeated 3x across cluster]\u001b[0m\n",
      "\u001b[36m(launch_and_fit pid=1371)\u001b[0m Run with homomorphic encryption\n",
      "\u001b[36m(launch_and_fit pid=1290)\u001b[0m save graph in  results/FL/\n",
      "\u001b[36m(launch_and_fit pid=1290)\u001b[0m fc2_dna.bias 9.5367431640625e-07\u001b[32m [repeated 23x across cluster]\u001b[0m\n",
      "\u001b[36m(launch_and_fit pid=1290)\u001b[0m dna_net.qnn.weights 1.430511474609375e-06\n",
      "\u001b[36m(launch_and_fit pid=1290)\u001b[0m attention.in_proj_weight 1.1920928955078125e-06\n",
      "\u001b[36m(launch_and_fit pid=1290)\u001b[0m attention.in_proj_bias 1.1920928955078125e-06\n",
      "\u001b[36m(launch_and_fit pid=1290)\u001b[0m attention.out_proj.weight 1.9073486328125e-06\n",
      "\u001b[36m(launch_and_fit pid=1290)\u001b[0m attention.out_proj.bias 2.1457672119140625e-06\n",
      "\u001b[36m(launch_and_fit pid=1371)\u001b[0m [Client 7, round 2] fit, config: {'learning_rate': 0.003, 'batch_size': '32', 'server_round': 2, 'local_epochs': 10}\n"
     ]
    },
    {
     "name": "stderr",
     "output_type": "stream",
     "text": [
      "  0%|\u001b[34m          \u001b[0m| 0/10 [00:00<?, ?it/s]\n",
      "100%|\u001b[34m██████████\u001b[0m| 10/10 [00:38<00:00,  3.84s/it]\u001b[32m [repeated 3x across cluster]\u001b[0m\n"
     ]
    },
    {
     "name": "stdout",
     "output_type": "stream",
     "text": [
      "\u001b[36m(launch_and_fit pid=1371)\u001b[0m Updated model\n",
      "\u001b[36m(launch_and_fit pid=1371)\u001b[0m \tTrain Epoch: 1 \tTrain_loss_mri: 1.3892 | Train_acc_mri: 27.4190 | Train_loss_dna: 1.8712 | Train_acc_dna: 26.1111 | Validation_loss_mri: 1.3594 | Validation_acc_mri: 38.5417 | Validation_loss_dna: 1.7013 | Validation_acc_dna: 50.5208\n",
      "\u001b[36m(launch_and_fit pid=1396)\u001b[0m Run with homomorphic encryption\n",
      "\u001b[36m(launch_and_fit pid=1396)\u001b[0m [Client 1, round 2] fit, config: {'learning_rate': 0.003, 'batch_size': '32', 'server_round': 2, 'local_epochs': 10}\n"
     ]
    },
    {
     "name": "stderr",
     "output_type": "stream",
     "text": [
      "  0%|\u001b[34m          \u001b[0m| 0/10 [00:00<?, ?it/s]\n",
      " 20%|\u001b[34m██        \u001b[0m| 2/10 [00:07<00:31,  3.92s/it]\u001b[32m [repeated 3x across cluster]\u001b[0m\n"
     ]
    },
    {
     "name": "stdout",
     "output_type": "stream",
     "text": [
      "\u001b[36m(launch_and_fit pid=1396)\u001b[0m Updated model\n",
      "\u001b[36m(launch_and_fit pid=1371)\u001b[0m \tTrain Epoch: 3 \tTrain_loss_mri: 1.3844 | Train_acc_mri: 28.7269 | Train_loss_dna: 1.8623 | Train_acc_dna: 26.1690 | Validation_loss_mri: 1.4022 | Validation_acc_mri: 20.3125 | Validation_loss_dna: 1.7138 | Validation_acc_dna: 50.5208\u001b[32m [repeated 4x across cluster]\u001b[0m\n"
     ]
    },
    {
     "name": "stderr",
     "output_type": "stream",
     "text": [
      " 40%|\u001b[34m████      \u001b[0m| 4/10 [00:15<00:22,  3.82s/it]\u001b[32m [repeated 4x across cluster]\u001b[0m\n"
     ]
    },
    {
     "name": "stdout",
     "output_type": "stream",
     "text": [
      "\u001b[36m(launch_and_fit pid=1371)\u001b[0m \tTrain Epoch: 5 \tTrain_loss_mri: 1.3881 | Train_acc_mri: 26.0880 | Train_loss_dna: 1.8607 | Train_acc_dna: 26.5162 | Validation_loss_mri: 1.3601 | Validation_acc_mri: 41.6667 | Validation_loss_dna: 1.7002 | Validation_acc_dna: 50.5208\u001b[32m [repeated 4x across cluster]\u001b[0m\n"
     ]
    },
    {
     "name": "stderr",
     "output_type": "stream",
     "text": [
      " 60%|\u001b[34m██████    \u001b[0m| 6/10 [00:23<00:15,  3.90s/it]\u001b[32m [repeated 4x across cluster]\u001b[0m\n"
     ]
    },
    {
     "name": "stdout",
     "output_type": "stream",
     "text": [
      "\u001b[36m(launch_and_fit pid=1371)\u001b[0m \tTrain Epoch: 7 \tTrain_loss_mri: 1.3753 | Train_acc_mri: 28.6458 | Train_loss_dna: 1.8621 | Train_acc_dna: 26.3426 | Validation_loss_mri: 1.3806 | Validation_acc_mri: 41.6667 | Validation_loss_dna: 1.6945 | Validation_acc_dna: 50.5208\u001b[32m [repeated 4x across cluster]\u001b[0m\n"
     ]
    },
    {
     "name": "stderr",
     "output_type": "stream",
     "text": [
      " 80%|\u001b[34m████████  \u001b[0m| 8/10 [00:30<00:07,  3.75s/it]\u001b[32m [repeated 4x across cluster]\u001b[0m\n"
     ]
    },
    {
     "name": "stdout",
     "output_type": "stream",
     "text": [
      "\u001b[36m(launch_and_fit pid=1371)\u001b[0m \tTrain Epoch: 9 \tTrain_loss_mri: 1.3590 | Train_acc_mri: 34.5023 | Train_loss_dna: 1.8633 | Train_acc_dna: 26.5162 | Validation_loss_mri: 1.2746 | Validation_acc_mri: 58.3333 | Validation_loss_dna: 1.6995 | Validation_acc_dna: 50.5208\u001b[32m [repeated 4x across cluster]\u001b[0m\n"
     ]
    },
    {
     "name": "stderr",
     "output_type": "stream",
     "text": [
      "100%|\u001b[34m██████████\u001b[0m| 10/10 [00:37<00:00,  3.79s/it]\u001b[32m [repeated 4x across cluster]\u001b[0m\n"
     ]
    },
    {
     "name": "stdout",
     "output_type": "stream",
     "text": [
      "\u001b[36m(launch_and_fit pid=1371)\u001b[0m save graph in  results/FL/\n",
      "\u001b[36m(launch_and_fit pid=1371)\u001b[0m mri_net.features.0.weight 4.76837158203125e-06\n",
      "\u001b[36m(launch_and_fit pid=1371)\u001b[0m mri_net.features.0.bias 1.430511474609375e-06\n",
      "\u001b[36m(launch_and_fit pid=1371)\u001b[0m mri_net.features.3.weight 9.5367431640625e-07\n",
      "\u001b[36m(launch_and_fit pid=1371)\u001b[0m mri_net.features.3.bias 9.5367431640625e-07\n",
      "\u001b[36m(launch_and_fit pid=1371)\u001b[0m mri_net.classifier.0.weight 1.430511474609375e-06\n",
      "\u001b[36m(launch_and_fit pid=1371)\u001b[0m mri_net.classifier.0.bias 1.1920928955078125e-06\n",
      "\u001b[36m(launch_and_fit pid=1371)\u001b[0m mri_net.classifier.2.weight 9.5367431640625e-07\n",
      "\u001b[36m(launch_and_fit pid=1371)\u001b[0m mri_net.classifier.2.bias 9.5367431640625e-07\n",
      "\u001b[36m(launch_and_fit pid=1371)\u001b[0m mri_net.classifier.3.weights 1.430511474609375e-06\n",
      "\u001b[36m(launch_and_fit pid=1371)\u001b[0m dna_net.fc1.weight 9.5367431640625e-07\n",
      "\u001b[36m(launch_and_fit pid=1371)\u001b[0m dna_net.fc1.bias 9.5367431640625e-07\n",
      "\u001b[36m(launch_and_fit pid=1371)\u001b[0m dna_net.fc2.weight 9.5367431640625e-07\n",
      "\u001b[36m(launch_and_fit pid=1371)\u001b[0m dna_net.fc2.bias 1.1920928955078125e-06\n",
      "\u001b[36m(launch_and_fit pid=1371)\u001b[0m dna_net.fc3.weight 9.5367431640625e-07\n",
      "\u001b[36m(launch_and_fit pid=1371)\u001b[0m dna_net.fc3.bias 9.5367431640625e-07\n",
      "\u001b[36m(launch_and_fit pid=1371)\u001b[0m dna_net.fc4.weight 1.1920928955078125e-06\n",
      "\u001b[36m(launch_and_fit pid=1371)\u001b[0m dna_net.fc4.bias 9.5367431640625e-07\n",
      "\u001b[36m(launch_and_fit pid=1371)\u001b[0m dna_net.qnn.weights 9.5367431640625e-07\n",
      "\u001b[36m(launch_and_fit pid=1371)\u001b[0m attention.in_proj_weight 1.1920928955078125e-06\n",
      "\u001b[36m(launch_and_fit pid=1371)\u001b[0m attention.in_proj_bias 9.5367431640625e-07\n",
      "\u001b[36m(launch_and_fit pid=1371)\u001b[0m attention.out_proj.weight 9.5367431640625e-07\n",
      "\u001b[36m(launch_and_fit pid=1371)\u001b[0m attention.out_proj.bias 1.1920928955078125e-06\n",
      "\u001b[36m(launch_and_fit pid=1371)\u001b[0m fc1.weight 1.1920928955078125e-06\n",
      "\u001b[36m(launch_and_fit pid=1371)\u001b[0m fc1.bias 9.5367431640625e-07\n",
      "\u001b[36m(launch_and_fit pid=1371)\u001b[0m fc2_mri.weight 1.1920928955078125e-06\n",
      "\u001b[36m(launch_and_fit pid=1371)\u001b[0m fc2_mri.bias 1.1920928955078125e-06\n",
      "\u001b[36m(launch_and_fit pid=1371)\u001b[0m fc2_dna.weight 9.5367431640625e-07\n",
      "\u001b[36m(launch_and_fit pid=1371)\u001b[0m fc2_dna.bias 7.152557373046875e-07\n",
      "\u001b[36m(launch_and_fit pid=1453)\u001b[0m Run with homomorphic encryption\n",
      "\u001b[36m(launch_and_fit pid=1396)\u001b[0m \tTrain Epoch: 10 \tTrain_loss_mri: 1.1169 | Train_acc_mri: 45.4398 | Train_loss_dna: 1.7818 | Train_acc_dna: 31.5162 | Validation_loss_mri: 1.2531 | Validation_acc_mri: 34.3750 | Validation_loss_dna: 1.9943 | Validation_acc_dna: 10.9375\u001b[32m [repeated 3x across cluster]\u001b[0m\n",
      "\u001b[36m(launch_and_fit pid=1396)\u001b[0m save graph in  results/FL/\n",
      "\u001b[36m(launch_and_fit pid=1396)\u001b[0m fc2_dna.bias 9.5367431640625e-07\u001b[32m [repeated 23x across cluster]\u001b[0m\n",
      "\u001b[36m(launch_and_fit pid=1396)\u001b[0m dna_net.qnn.weights 1.1920928955078125e-06\n",
      "\u001b[36m(launch_and_fit pid=1396)\u001b[0m attention.in_proj_weight 9.5367431640625e-07\n",
      "\u001b[36m(launch_and_fit pid=1396)\u001b[0m attention.in_proj_bias 9.5367431640625e-07\n",
      "\u001b[36m(launch_and_fit pid=1396)\u001b[0m attention.out_proj.weight 1.1920928955078125e-06\n",
      "\u001b[36m(launch_and_fit pid=1396)\u001b[0m attention.out_proj.bias 1.1920928955078125e-06\n",
      "\u001b[36m(launch_and_fit pid=1453)\u001b[0m [Client 0, round 2] fit, config: {'learning_rate': 0.003, 'batch_size': '32', 'server_round': 2, 'local_epochs': 10}\n",
      "\u001b[36m(launch_and_fit pid=1453)\u001b[0m Updated model\n"
     ]
    },
    {
     "name": "stderr",
     "output_type": "stream",
     "text": [
      "  0%|\u001b[34m          \u001b[0m| 0/10 [00:00<?, ?it/s]\n",
      "100%|\u001b[34m██████████\u001b[0m| 10/10 [00:37<00:00,  3.79s/it]\n"
     ]
    },
    {
     "name": "stdout",
     "output_type": "stream",
     "text": [
      "\u001b[36m(launch_and_fit pid=1478)\u001b[0m Run with homomorphic encryption\n",
      "\u001b[36m(launch_and_fit pid=1453)\u001b[0m \tTrain Epoch: 1 \tTrain_loss_mri: 1.3928 | Train_acc_mri: 27.3958 | Train_loss_dna: 1.8252 | Train_acc_dna: 31.2616 | Validation_loss_mri: 1.3752 | Validation_acc_mri: 33.8542 | Validation_loss_dna: 2.0294 | Validation_acc_dna: 17.1875\n",
      "\u001b[36m(launch_and_fit pid=1478)\u001b[0m [Client 2, round 2] fit, config: {'learning_rate': 0.003, 'batch_size': '32', 'server_round': 2, 'local_epochs': 10}\n"
     ]
    },
    {
     "name": "stderr",
     "output_type": "stream",
     "text": [
      " 10%|\u001b[34m█         \u001b[0m| 1/10 [00:04<00:39,  4.43s/it]\n",
      "  0%|\u001b[34m          \u001b[0m| 0/10 [00:00<?, ?it/s]\n"
     ]
    },
    {
     "name": "stdout",
     "output_type": "stream",
     "text": [
      "\u001b[36m(launch_and_fit pid=1478)\u001b[0m \tTrain Epoch: 1 \tTrain_loss_mri: 1.3941 | Train_acc_mri: 23.0440 | Train_loss_dna: 1.8254 | Train_acc_dna: 31.0880 | Validation_loss_mri: 1.3916 | Validation_acc_mri: 30.7292 | Validation_loss_dna: 1.8196 | Validation_acc_dna: 27.6042\n",
      "\u001b[36m(launch_and_fit pid=1478)\u001b[0m Updated model\n",
      "\u001b[36m(launch_and_fit pid=1453)\u001b[0m \tTrain Epoch: 3 \tTrain_loss_mri: 1.3757 | Train_acc_mri: 29.8958 | Train_loss_dna: 1.8219 | Train_acc_dna: 30.7986 | Validation_loss_mri: 1.3632 | Validation_acc_mri: 33.8542 | Validation_loss_dna: 1.9969 | Validation_acc_dna: 17.1875\u001b[32m [repeated 3x across cluster]\u001b[0m\n"
     ]
    },
    {
     "name": "stderr",
     "output_type": "stream",
     "text": [
      " 30%|\u001b[34m███       \u001b[0m| 3/10 [00:12<00:27,  3.94s/it]\u001b[32m [repeated 4x across cluster]\u001b[0m\n"
     ]
    },
    {
     "name": "stdout",
     "output_type": "stream",
     "text": [
      "\u001b[36m(launch_and_fit pid=1453)\u001b[0m \tTrain Epoch: 5 \tTrain_loss_mri: 1.3739 | Train_acc_mri: 32.3380 | Train_loss_dna: 1.7882 | Train_acc_dna: 30.9722 | Validation_loss_mri: 1.3644 | Validation_acc_mri: 36.9792 | Validation_loss_dna: 1.9756 | Validation_acc_dna: 17.1875\u001b[32m [repeated 4x across cluster]\u001b[0m\n"
     ]
    },
    {
     "name": "stderr",
     "output_type": "stream",
     "text": [
      " 50%|\u001b[34m█████     \u001b[0m| 5/10 [00:19<00:19,  3.84s/it]\u001b[32m [repeated 4x across cluster]\u001b[0m\n"
     ]
    },
    {
     "name": "stdout",
     "output_type": "stream",
     "text": [
      "\u001b[36m(launch_and_fit pid=1453)\u001b[0m \tTrain Epoch: 7 \tTrain_loss_mri: 1.3722 | Train_acc_mri: 30.0347 | Train_loss_dna: 1.7843 | Train_acc_dna: 31.4815 | Validation_loss_mri: 1.3825 | Validation_acc_mri: 32.2917 | Validation_loss_dna: 2.1539 | Validation_acc_dna: 17.1875\u001b[32m [repeated 4x across cluster]\u001b[0m\n"
     ]
    },
    {
     "name": "stderr",
     "output_type": "stream",
     "text": [
      " 70%|\u001b[34m███████   \u001b[0m| 7/10 [00:27<00:11,  3.81s/it]\u001b[32m [repeated 4x across cluster]\u001b[0m\n"
     ]
    },
    {
     "name": "stdout",
     "output_type": "stream",
     "text": [
      "\u001b[36m(launch_and_fit pid=1453)\u001b[0m \tTrain Epoch: 9 \tTrain_loss_mri: 1.3839 | Train_acc_mri: 26.0880 | Train_loss_dna: 1.7578 | Train_acc_dna: 33.5880 | Validation_loss_mri: 1.3867 | Validation_acc_mri: 30.7292 | Validation_loss_dna: 2.0423 | Validation_acc_dna: 17.1875\u001b[32m [repeated 4x across cluster]\u001b[0m\n"
     ]
    },
    {
     "name": "stderr",
     "output_type": "stream",
     "text": [
      " 90%|\u001b[34m█████████ \u001b[0m| 9/10 [00:35<00:03,  3.93s/it]\u001b[32m [repeated 4x across cluster]\u001b[0m\n"
     ]
    },
    {
     "name": "stdout",
     "output_type": "stream",
     "text": [
      "\u001b[36m(launch_and_fit pid=1453)\u001b[0m save graph in  results/FL/\n",
      "\u001b[36m(launch_and_fit pid=1453)\u001b[0m mri_net.features.0.weight 5.4836273193359375e-06\n",
      "\u001b[36m(launch_and_fit pid=1453)\u001b[0m mri_net.features.0.bias 1.6689300537109375e-06\n",
      "\u001b[36m(launch_and_fit pid=1453)\u001b[0m mri_net.features.3.weight 1.1920928955078125e-06\n",
      "\u001b[36m(launch_and_fit pid=1453)\u001b[0m mri_net.features.3.bias 1.1920928955078125e-06\n",
      "\u001b[36m(launch_and_fit pid=1453)\u001b[0m mri_net.classifier.0.weight 1.1920928955078125e-06\n",
      "\u001b[36m(launch_and_fit pid=1453)\u001b[0m mri_net.classifier.0.bias 9.5367431640625e-07\n",
      "\u001b[36m(launch_and_fit pid=1453)\u001b[0m mri_net.classifier.2.weight 1.1920928955078125e-06\n",
      "\u001b[36m(launch_and_fit pid=1453)\u001b[0m mri_net.classifier.2.bias 9.5367431640625e-07\n",
      "\u001b[36m(launch_and_fit pid=1453)\u001b[0m mri_net.classifier.3.weights 1.430511474609375e-06\n",
      "\u001b[36m(launch_and_fit pid=1453)\u001b[0m dna_net.fc1.weight 9.5367431640625e-07\n",
      "\u001b[36m(launch_and_fit pid=1453)\u001b[0m dna_net.fc1.bias 9.5367431640625e-07\n",
      "\u001b[36m(launch_and_fit pid=1453)\u001b[0m dna_net.fc2.weight 1.430511474609375e-06\n",
      "\u001b[36m(launch_and_fit pid=1453)\u001b[0m dna_net.fc2.bias 9.5367431640625e-07\n",
      "\u001b[36m(launch_and_fit pid=1453)\u001b[0m dna_net.fc3.weight 9.5367431640625e-07\n",
      "\u001b[36m(launch_and_fit pid=1453)\u001b[0m dna_net.fc3.bias 9.5367431640625e-07\n",
      "\u001b[36m(launch_and_fit pid=1453)\u001b[0m dna_net.fc4.weight 1.1920928955078125e-06\n",
      "\u001b[36m(launch_and_fit pid=1453)\u001b[0m dna_net.fc4.bias 9.5367431640625e-07\n",
      "\u001b[36m(launch_and_fit pid=1453)\u001b[0m dna_net.qnn.weights 1.430511474609375e-06\n",
      "\u001b[36m(launch_and_fit pid=1453)\u001b[0m attention.in_proj_weight 1.430511474609375e-06\n",
      "\u001b[36m(launch_and_fit pid=1453)\u001b[0m attention.in_proj_bias 9.5367431640625e-07\n",
      "\u001b[36m(launch_and_fit pid=1453)\u001b[0m attention.out_proj.weight 9.5367431640625e-07\n",
      "\u001b[36m(launch_and_fit pid=1453)\u001b[0m attention.out_proj.bias 1.430511474609375e-06\n",
      "\u001b[36m(launch_and_fit pid=1453)\u001b[0m fc1.weight 1.1920928955078125e-06\n",
      "\u001b[36m(launch_and_fit pid=1453)\u001b[0m fc1.bias 1.1920928955078125e-06\n",
      "\u001b[36m(launch_and_fit pid=1453)\u001b[0m fc2_mri.weight 1.430511474609375e-06\n",
      "\u001b[36m(launch_and_fit pid=1453)\u001b[0m fc2_mri.bias 1.430511474609375e-06\n",
      "\u001b[36m(launch_and_fit pid=1453)\u001b[0m fc2_dna.weight 1.1920928955078125e-06\n",
      "\u001b[36m(launch_and_fit pid=1453)\u001b[0m fc2_dna.bias 9.5367431640625e-07\n",
      "\u001b[36m(launch_and_fit pid=1478)\u001b[0m \tTrain Epoch: 10 \tTrain_loss_mri: 1.3831 | Train_acc_mri: 27.7315 | Train_loss_dna: 1.6780 | Train_acc_dna: 35.2662 | Validation_loss_mri: 1.4276 | Validation_acc_mri: 9.3750 | Validation_loss_dna: 1.9111 | Validation_acc_dna: 24.4792\u001b[32m [repeated 3x across cluster]\u001b[0m\n",
      "\u001b[36m(launch_and_fit pid=1535)\u001b[0m Run with homomorphic encryption\n",
      "\u001b[36m(launch_and_fit pid=1478)\u001b[0m save graph in  results/FL/\n",
      "\u001b[36m(launch_and_fit pid=1478)\u001b[0m fc2_dna.bias 9.5367431640625e-07\u001b[32m [repeated 23x across cluster]\u001b[0m\n",
      "\u001b[36m(launch_and_fit pid=1478)\u001b[0m dna_net.qnn.weights 7.152557373046875e-07\n",
      "\u001b[36m(launch_and_fit pid=1478)\u001b[0m attention.in_proj_weight 9.5367431640625e-07\n",
      "\u001b[36m(launch_and_fit pid=1478)\u001b[0m attention.in_proj_bias 9.5367431640625e-07\n",
      "\u001b[36m(launch_and_fit pid=1478)\u001b[0m attention.out_proj.weight 1.1920928955078125e-06\n",
      "\u001b[36m(launch_and_fit pid=1478)\u001b[0m attention.out_proj.bias 9.5367431640625e-07\n",
      "\u001b[36m(launch_and_fit pid=1535)\u001b[0m [Client 3, round 2] fit, config: {'learning_rate': 0.003, 'batch_size': '32', 'server_round': 2, 'local_epochs': 10}\n"
     ]
    },
    {
     "name": "stderr",
     "output_type": "stream",
     "text": [
      "  0%|\u001b[34m          \u001b[0m| 0/10 [00:00<?, ?it/s]\n",
      "100%|\u001b[34m██████████\u001b[0m| 10/10 [00:38<00:00,  3.88s/it]\u001b[32m [repeated 3x across cluster]\u001b[0m\n"
     ]
    },
    {
     "name": "stdout",
     "output_type": "stream",
     "text": [
      "\u001b[36m(launch_and_fit pid=1535)\u001b[0m Updated model\n",
      "\u001b[36m(launch_and_fit pid=1535)\u001b[0m \tTrain Epoch: 1 \tTrain_loss_mri: 1.3974 | Train_acc_mri: 21.2616 | Train_loss_dna: 1.8232 | Train_acc_dna: 29.7801 | Validation_loss_mri: 1.3886 | Validation_acc_mri: 17.1875 | Validation_loss_dna: 1.7817 | Validation_acc_dna: 30.7292\n",
      "\u001b[36m(launch_and_fit pid=1560)\u001b[0m Run with homomorphic encryption\n",
      "\u001b[36m(launch_and_fit pid=1560)\u001b[0m [Client 4, round 2] fit, config: {'learning_rate': 0.003, 'batch_size': '32', 'server_round': 2, 'local_epochs': 10}\n"
     ]
    },
    {
     "name": "stderr",
     "output_type": "stream",
     "text": [
      "  0%|\u001b[34m          \u001b[0m| 0/10 [00:00<?, ?it/s]\n",
      " 20%|\u001b[34m██        \u001b[0m| 2/10 [00:08<00:32,  4.02s/it]\u001b[32m [repeated 3x across cluster]\u001b[0m\n"
     ]
    },
    {
     "name": "stdout",
     "output_type": "stream",
     "text": [
      "\u001b[36m(launch_and_fit pid=1560)\u001b[0m Updated model\n",
      "\u001b[36m(launch_and_fit pid=1535)\u001b[0m \tTrain Epoch: 3 \tTrain_loss_mri: 1.3858 | Train_acc_mri: 29.5833 | Train_loss_dna: 1.8181 | Train_acc_dna: 29.9537 | Validation_loss_mri: 1.3992 | Validation_acc_mri: 17.1875 | Validation_loss_dna: 1.8017 | Validation_acc_dna: 30.7292\u001b[32m [repeated 4x across cluster]\u001b[0m\n"
     ]
    },
    {
     "name": "stderr",
     "output_type": "stream",
     "text": [
      " 40%|\u001b[34m████      \u001b[0m| 4/10 [00:16<00:23,  3.97s/it]\u001b[32m [repeated 4x across cluster]\u001b[0m\n"
     ]
    },
    {
     "name": "stdout",
     "output_type": "stream",
     "text": [
      "\u001b[36m(launch_and_fit pid=1535)\u001b[0m \tTrain Epoch: 5 \tTrain_loss_mri: 1.3819 | Train_acc_mri: 29.5255 | Train_loss_dna: 1.8185 | Train_acc_dna: 29.7222 | Validation_loss_mri: 1.3975 | Validation_acc_mri: 17.1875 | Validation_loss_dna: 1.7961 | Validation_acc_dna: 30.7292\u001b[32m [repeated 4x across cluster]\u001b[0m\n"
     ]
    },
    {
     "name": "stderr",
     "output_type": "stream",
     "text": [
      " 60%|\u001b[34m██████    \u001b[0m| 6/10 [00:23<00:15,  3.76s/it]\u001b[32m [repeated 4x across cluster]\u001b[0m\n"
     ]
    },
    {
     "name": "stdout",
     "output_type": "stream",
     "text": [
      "\u001b[36m(launch_and_fit pid=1560)\u001b[0m \tTrain Epoch: 7 \tTrain_loss_mri: 1.1909 | Train_acc_mri: 45.8102 | Train_loss_dna: 1.7965 | Train_acc_dna: 29.8380 | Validation_loss_mri: 1.0553 | Validation_acc_mri: 53.6458 | Validation_loss_dna: 1.9079 | Validation_acc_dna: 40.1042\u001b[32m [repeated 4x across cluster]\u001b[0m\n"
     ]
    },
    {
     "name": "stderr",
     "output_type": "stream",
     "text": [
      " 80%|\u001b[34m████████  \u001b[0m| 8/10 [00:30<00:07,  3.74s/it]\u001b[32m [repeated 4x across cluster]\u001b[0m\n"
     ]
    },
    {
     "name": "stdout",
     "output_type": "stream",
     "text": [
      "\u001b[36m(launch_and_fit pid=1560)\u001b[0m \tTrain Epoch: 9 \tTrain_loss_mri: 1.1698 | Train_acc_mri: 45.7523 | Train_loss_dna: 1.8128 | Train_acc_dna: 29.9537 | Validation_loss_mri: 1.0941 | Validation_acc_mri: 56.7708 | Validation_loss_dna: 1.8479 | Validation_acc_dna: 40.1042\u001b[32m [repeated 4x across cluster]\u001b[0m\n",
      "\u001b[36m(launch_and_fit pid=1560)\u001b[0m save graph in  results/FL/\n"
     ]
    },
    {
     "name": "stderr",
     "output_type": "stream",
     "text": [
      "100%|\u001b[34m██████████\u001b[0m| 10/10 [00:37<00:00,  3.79s/it]\u001b[32m [repeated 4x across cluster]\u001b[0m\n"
     ]
    },
    {
     "name": "stdout",
     "output_type": "stream",
     "text": [
      "\u001b[36m(launch_and_fit pid=1560)\u001b[0m mri_net.features.0.weight 7.867813110351562e-06\n",
      "\u001b[36m(launch_and_fit pid=1560)\u001b[0m mri_net.features.0.bias 1.1920928955078125e-06\n",
      "\u001b[36m(launch_and_fit pid=1560)\u001b[0m mri_net.features.3.weight 1.430511474609375e-06\n",
      "\u001b[36m(launch_and_fit pid=1560)\u001b[0m mri_net.features.3.bias 9.5367431640625e-07\n",
      "\u001b[36m(launch_and_fit pid=1560)\u001b[0m mri_net.classifier.0.weight 1.1920928955078125e-06\n",
      "\u001b[36m(launch_and_fit pid=1560)\u001b[0m mri_net.classifier.0.bias 9.5367431640625e-07\n",
      "\u001b[36m(launch_and_fit pid=1560)\u001b[0m mri_net.classifier.2.weight 1.1920928955078125e-06\n",
      "\u001b[36m(launch_and_fit pid=1560)\u001b[0m mri_net.classifier.2.bias 9.5367431640625e-07\n",
      "\u001b[36m(launch_and_fit pid=1560)\u001b[0m mri_net.classifier.3.weights 9.5367431640625e-07\n",
      "\u001b[36m(launch_and_fit pid=1560)\u001b[0m dna_net.fc1.weight 9.5367431640625e-07\n",
      "\u001b[36m(launch_and_fit pid=1560)\u001b[0m dna_net.fc1.bias 9.5367431640625e-07\n",
      "\u001b[36m(launch_and_fit pid=1560)\u001b[0m dna_net.fc2.weight 9.5367431640625e-07\n",
      "\u001b[36m(launch_and_fit pid=1560)\u001b[0m dna_net.fc2.bias 1.1920928955078125e-06\n",
      "\u001b[36m(launch_and_fit pid=1560)\u001b[0m dna_net.fc3.weight 9.5367431640625e-07\n",
      "\u001b[36m(launch_and_fit pid=1560)\u001b[0m dna_net.fc3.bias 9.5367431640625e-07\n",
      "\u001b[36m(launch_and_fit pid=1560)\u001b[0m dna_net.fc4.weight 7.152557373046875e-07\n",
      "\u001b[36m(launch_and_fit pid=1560)\u001b[0m dna_net.fc4.bias 2.384185791015625e-06\n",
      "\u001b[36m(launch_and_fit pid=1560)\u001b[0m dna_net.qnn.weights 1.1920928955078125e-06\n",
      "\u001b[36m(launch_and_fit pid=1560)\u001b[0m attention.in_proj_weight 1.1920928955078125e-06\n",
      "\u001b[36m(launch_and_fit pid=1560)\u001b[0m attention.in_proj_bias 9.5367431640625e-07\n",
      "\u001b[36m(launch_and_fit pid=1560)\u001b[0m attention.out_proj.weight 9.5367431640625e-07\n",
      "\u001b[36m(launch_and_fit pid=1560)\u001b[0m attention.out_proj.bias 9.5367431640625e-07\n",
      "\u001b[36m(launch_and_fit pid=1560)\u001b[0m fc1.weight 1.1920928955078125e-06\n",
      "\u001b[36m(launch_and_fit pid=1560)\u001b[0m fc1.bias 1.1920928955078125e-06\n",
      "\u001b[36m(launch_and_fit pid=1560)\u001b[0m fc2_mri.weight 9.5367431640625e-07\n",
      "\u001b[36m(launch_and_fit pid=1560)\u001b[0m fc2_mri.bias 9.5367431640625e-07\n",
      "\u001b[36m(launch_and_fit pid=1560)\u001b[0m fc2_dna.weight 1.1920928955078125e-06\n",
      "\u001b[36m(launch_and_fit pid=1560)\u001b[0m fc2_dna.bias 9.5367431640625e-07\n",
      "\u001b[36m(launch_and_fit pid=1617)\u001b[0m Run with homomorphic encryption\n",
      "\u001b[36m(launch_and_fit pid=1535)\u001b[0m \tTrain Epoch: 10 \tTrain_loss_mri: 1.3820 | Train_acc_mri: 29.5255 | Train_loss_dna: 1.7711 | Train_acc_dna: 29.9537 | Validation_loss_mri: 1.4389 | Validation_acc_mri: 14.0625 | Validation_loss_dna: 1.8695 | Validation_acc_dna: 9.3750\u001b[32m [repeated 3x across cluster]\u001b[0m\n",
      "\u001b[36m(launch_and_fit pid=1535)\u001b[0m save graph in  results/FL/\n",
      "\u001b[36m(launch_and_fit pid=1535)\u001b[0m fc2_dna.bias 9.5367431640625e-07\u001b[32m [repeated 23x across cluster]\u001b[0m\n",
      "\u001b[36m(launch_and_fit pid=1535)\u001b[0m dna_net.qnn.weights 1.1920928955078125e-06\n",
      "\u001b[36m(launch_and_fit pid=1535)\u001b[0m attention.in_proj_weight 9.5367431640625e-07\n",
      "\u001b[36m(launch_and_fit pid=1535)\u001b[0m attention.in_proj_bias 1.1920928955078125e-06\n",
      "\u001b[36m(launch_and_fit pid=1535)\u001b[0m attention.out_proj.weight 1.1920928955078125e-06\n",
      "\u001b[36m(launch_and_fit pid=1535)\u001b[0m attention.out_proj.bias 9.5367431640625e-07\n",
      "\u001b[36m(launch_and_fit pid=1617)\u001b[0m [Client 8, round 2] fit, config: {'learning_rate': 0.003, 'batch_size': '32', 'server_round': 2, 'local_epochs': 10}\n"
     ]
    },
    {
     "name": "stderr",
     "output_type": "stream",
     "text": [
      "  0%|\u001b[34m          \u001b[0m| 0/10 [00:00<?, ?it/s]\n",
      "100%|\u001b[34m██████████\u001b[0m| 10/10 [00:38<00:00,  3.87s/it]\n"
     ]
    },
    {
     "name": "stdout",
     "output_type": "stream",
     "text": [
      "\u001b[36m(launch_and_fit pid=1617)\u001b[0m Updated model\n"
     ]
    },
    {
     "name": "stderr",
     "output_type": "stream",
     "text": [
      " 10%|\u001b[34m█         \u001b[0m| 1/10 [00:04<00:38,  4.29s/it]\n"
     ]
    },
    {
     "name": "stdout",
     "output_type": "stream",
     "text": [
      "\u001b[36m(launch_and_fit pid=1619)\u001b[0m Run with homomorphic encryption\n",
      "\u001b[36m(launch_and_fit pid=1617)\u001b[0m \tTrain Epoch: 1 \tTrain_loss_mri: 1.3738 | Train_acc_mri: 31.1227 | Train_loss_dna: 1.8401 | Train_acc_dna: 29.7801 | Validation_loss_mri: 1.3798 | Validation_acc_mri: 15.6250 | Validation_loss_dna: 1.8242 | Validation_acc_dna: 15.6250\n",
      "\u001b[36m(launch_and_fit pid=1619)\u001b[0m [Client 6, round 2] fit, config: {'learning_rate': 0.003, 'batch_size': '32', 'server_round': 2, 'local_epochs': 10}\n",
      "\u001b[36m(launch_and_fit pid=1619)\u001b[0m \tTrain Epoch: 1 \tTrain_loss_mri: 1.3882 | Train_acc_mri: 26.0301 | Train_loss_dna: 1.7704 | Train_acc_dna: 37.0023 | Validation_loss_mri: 1.3198 | Validation_acc_mri: 44.2708 | Validation_loss_dna: 1.7978 | Validation_acc_dna: 30.7292\n"
     ]
    },
    {
     "name": "stderr",
     "output_type": "stream",
     "text": [
      "  0%|\u001b[34m          \u001b[0m| 0/10 [00:00<?, ?it/s]\n"
     ]
    },
    {
     "name": "stdout",
     "output_type": "stream",
     "text": [
      "\u001b[36m(launch_and_fit pid=1619)\u001b[0m Updated model\n"
     ]
    },
    {
     "name": "stderr",
     "output_type": "stream",
     "text": [
      " 30%|\u001b[34m███       \u001b[0m| 3/10 [00:11<00:27,  3.92s/it]\u001b[32m [repeated 4x across cluster]\u001b[0m\n"
     ]
    },
    {
     "name": "stdout",
     "output_type": "stream",
     "text": [
      "\u001b[36m(launch_and_fit pid=1617)\u001b[0m \tTrain Epoch: 3 \tTrain_loss_mri: 1.2730 | Train_acc_mri: 41.5972 | Train_loss_dna: 1.8237 | Train_acc_dna: 29.2940 | Validation_loss_mri: 1.3422 | Validation_acc_mri: 17.1875 | Validation_loss_dna: 1.8726 | Validation_acc_dna: 15.6250\u001b[32m [repeated 3x across cluster]\u001b[0m\n"
     ]
    },
    {
     "name": "stderr",
     "output_type": "stream",
     "text": [
      " 50%|\u001b[34m█████     \u001b[0m| 5/10 [00:19<00:19,  3.87s/it]\u001b[32m [repeated 4x across cluster]\u001b[0m\n"
     ]
    },
    {
     "name": "stdout",
     "output_type": "stream",
     "text": [
      "\u001b[36m(launch_and_fit pid=1617)\u001b[0m \tTrain Epoch: 5 \tTrain_loss_mri: 0.9737 | Train_acc_mri: 53.9352 | Train_loss_dna: 1.8274 | Train_acc_dna: 29.5255 | Validation_loss_mri: 1.3128 | Validation_acc_mri: 20.3125 | Validation_loss_dna: 1.8431 | Validation_acc_dna: 15.6250\u001b[32m [repeated 4x across cluster]\u001b[0m\n"
     ]
    },
    {
     "name": "stderr",
     "output_type": "stream",
     "text": [
      " 70%|\u001b[34m███████   \u001b[0m| 7/10 [00:27<00:11,  3.83s/it]\u001b[32m [repeated 4x across cluster]\u001b[0m\n"
     ]
    },
    {
     "name": "stdout",
     "output_type": "stream",
     "text": [
      "\u001b[36m(launch_and_fit pid=1617)\u001b[0m \tTrain Epoch: 7 \tTrain_loss_mri: 0.7347 | Train_acc_mri: 63.6806 | Train_loss_dna: 1.8030 | Train_acc_dna: 29.8380 | Validation_loss_mri: 1.1179 | Validation_acc_mri: 46.3542 | Validation_loss_dna: 1.8627 | Validation_acc_dna: 15.6250\u001b[32m [repeated 4x across cluster]\u001b[0m\n"
     ]
    },
    {
     "name": "stderr",
     "output_type": "stream",
     "text": [
      " 90%|\u001b[34m█████████ \u001b[0m| 9/10 [00:35<00:03,  3.95s/it]\u001b[32m [repeated 4x across cluster]\u001b[0m\n"
     ]
    },
    {
     "name": "stdout",
     "output_type": "stream",
     "text": [
      "\u001b[36m(launch_and_fit pid=1617)\u001b[0m \tTrain Epoch: 9 \tTrain_loss_mri: 0.4641 | Train_acc_mri: 73.9699 | Train_loss_dna: 1.8042 | Train_acc_dna: 30.0926 | Validation_loss_mri: 1.0926 | Validation_acc_mri: 50.5208 | Validation_loss_dna: 1.9024 | Validation_acc_dna: 12.5000\u001b[32m [repeated 4x across cluster]\u001b[0m\n",
      "\u001b[36m(launch_and_fit pid=1617)\u001b[0m save graph in  results/FL/\n",
      "\u001b[36m(launch_and_fit pid=1617)\u001b[0m mri_net.features.0.weight 5.0067901611328125e-06\n",
      "\u001b[36m(launch_and_fit pid=1617)\u001b[0m mri_net.features.0.bias 1.430511474609375e-06\n",
      "\u001b[36m(launch_and_fit pid=1617)\u001b[0m mri_net.features.3.weight 1.1920928955078125e-06\n",
      "\u001b[36m(launch_and_fit pid=1617)\u001b[0m mri_net.features.3.bias 1.1920928955078125e-06\n",
      "\u001b[36m(launch_and_fit pid=1617)\u001b[0m mri_net.classifier.0.weight 1.1920928955078125e-06\n",
      "\u001b[36m(launch_and_fit pid=1617)\u001b[0m mri_net.classifier.0.bias 1.1920928955078125e-06\n",
      "\u001b[36m(launch_and_fit pid=1617)\u001b[0m mri_net.classifier.2.weight 9.5367431640625e-07\n",
      "\u001b[36m(launch_and_fit pid=1617)\u001b[0m mri_net.classifier.2.bias 2.1457672119140625e-06\n",
      "\u001b[36m(launch_and_fit pid=1617)\u001b[0m mri_net.classifier.3.weights 1.1920928955078125e-06\n",
      "\u001b[36m(launch_and_fit pid=1617)\u001b[0m dna_net.fc1.weight 1.430511474609375e-06\n",
      "\u001b[36m(launch_and_fit pid=1617)\u001b[0m dna_net.fc1.bias 1.430511474609375e-06\n",
      "\u001b[36m(launch_and_fit pid=1617)\u001b[0m dna_net.fc2.weight 1.1920928955078125e-06\n",
      "\u001b[36m(launch_and_fit pid=1617)\u001b[0m dna_net.fc2.bias 9.5367431640625e-07\n",
      "\u001b[36m(launch_and_fit pid=1617)\u001b[0m dna_net.fc3.weight 9.5367431640625e-07\n",
      "\u001b[36m(launch_and_fit pid=1617)\u001b[0m dna_net.fc3.bias 1.1920928955078125e-06\n",
      "\u001b[36m(launch_and_fit pid=1617)\u001b[0m dna_net.fc4.weight 1.1920928955078125e-06\n",
      "\u001b[36m(launch_and_fit pid=1617)\u001b[0m dna_net.fc4.bias 1.1920928955078125e-06\n",
      "\u001b[36m(launch_and_fit pid=1617)\u001b[0m dna_net.qnn.weights 9.5367431640625e-07\n",
      "\u001b[36m(launch_and_fit pid=1617)\u001b[0m attention.in_proj_weight 9.5367431640625e-07\n",
      "\u001b[36m(launch_and_fit pid=1617)\u001b[0m attention.in_proj_bias 1.1920928955078125e-06\n",
      "\u001b[36m(launch_and_fit pid=1617)\u001b[0m attention.out_proj.weight 9.5367431640625e-07\n",
      "\u001b[36m(launch_and_fit pid=1617)\u001b[0m attention.out_proj.bias 9.5367431640625e-07\n",
      "\u001b[36m(launch_and_fit pid=1617)\u001b[0m fc1.weight 9.5367431640625e-07\n",
      "\u001b[36m(launch_and_fit pid=1617)\u001b[0m fc1.bias 7.152557373046875e-07\n",
      "\u001b[36m(launch_and_fit pid=1617)\u001b[0m fc2_mri.weight 1.1920928955078125e-06\n",
      "\u001b[36m(launch_and_fit pid=1617)\u001b[0m fc2_mri.bias 1.1920928955078125e-06\n",
      "\u001b[36m(launch_and_fit pid=1617)\u001b[0m fc2_dna.weight 9.5367431640625e-07\n",
      "\u001b[36m(launch_and_fit pid=1617)\u001b[0m fc2_dna.bias 1.1920928955078125e-06\n"
     ]
    },
    {
     "name": "stderr",
     "output_type": "stream",
     "text": [
      "DEBUG flwr 2024-08-05 07:18:24,442 | server.py:236 | fit_round 2 received 10 results and 0 failures\n"
     ]
    },
    {
     "name": "stdout",
     "output_type": "stream",
     "text": [
      "Saving round 2 aggregated_parameters...\n"
     ]
    },
    {
     "name": "stderr",
     "output_type": "stream",
     "text": [
      "DEBUG flwr 2024-08-05 07:18:26,402 | server.py:173 | evaluate_round 2: strategy sampled 10 clients (out of 10)\n"
     ]
    },
    {
     "name": "stdout",
     "output_type": "stream",
     "text": [
      "\u001b[36m(launch_and_evaluate pid=1708)\u001b[0m Run with homomorphic encryption\n",
      "\u001b[36m(launch_and_fit pid=1619)\u001b[0m \tTrain Epoch: 10 \tTrain_loss_mri: 1.3829 | Train_acc_mri: 27.9977 | Train_loss_dna: 1.7218 | Train_acc_dna: 36.5972 | Validation_loss_mri: 1.3599 | Validation_acc_mri: 47.3958 | Validation_loss_dna: 1.8455 | Validation_acc_dna: 30.7292\u001b[32m [repeated 3x across cluster]\u001b[0m\n",
      "\u001b[36m(launch_and_fit pid=1619)\u001b[0m save graph in  results/FL/\n",
      "\u001b[36m(launch_and_fit pid=1619)\u001b[0m fc2_dna.bias 1.9073486328125e-06\u001b[32m [repeated 23x across cluster]\u001b[0m\n",
      "\u001b[36m(launch_and_fit pid=1619)\u001b[0m dna_net.qnn.weights 9.5367431640625e-07\n",
      "\u001b[36m(launch_and_fit pid=1619)\u001b[0m attention.in_proj_weight 9.5367431640625e-07\n",
      "\u001b[36m(launch_and_fit pid=1619)\u001b[0m attention.in_proj_bias 1.1920928955078125e-06\n",
      "\u001b[36m(launch_and_fit pid=1619)\u001b[0m attention.out_proj.weight 9.5367431640625e-07\n",
      "\u001b[36m(launch_and_fit pid=1619)\u001b[0m attention.out_proj.bias 1.1920928955078125e-06\n",
      "\u001b[36m(launch_and_evaluate pid=1709)\u001b[0m [Client 7] evaluate, config: {}\n",
      "\u001b[36m(launch_and_evaluate pid=1709)\u001b[0m Updated model\n"
     ]
    },
    {
     "name": "stderr",
     "output_type": "stream",
     "text": [
      "\u001b[36m(launch_and_evaluate pid=1708)\u001b[0m /opt/conda/lib/python3.10/site-packages/sklearn/metrics/_ranking.py:1029: UndefinedMetricWarning: No positive samples in y_true, true positive value should be meaningless\n",
      "\u001b[36m(launch_and_evaluate pid=1708)\u001b[0m   warnings.warn(\n",
      "100%|\u001b[34m██████████\u001b[0m| 10/10 [00:38<00:00,  3.88s/it]\u001b[32m [repeated 3x across cluster]\u001b[0m\n"
     ]
    },
    {
     "name": "stdout",
     "output_type": "stream",
     "text": [
      "\u001b[36m(launch_and_evaluate pid=1787)\u001b[0m Run with homomorphic encryption\u001b[32m [repeated 2x across cluster]\u001b[0m\n",
      "\u001b[36m(launch_and_evaluate pid=1708)\u001b[0m [Client 8] evaluate, config: {}\n",
      "\u001b[36m(launch_and_evaluate pid=1708)\u001b[0m Updated model\n",
      "\u001b[36m(launch_and_evaluate pid=1787)\u001b[0m [Client 1] evaluate, config: {}\n",
      "\u001b[36m(launch_and_evaluate pid=1787)\u001b[0m Updated model\n"
     ]
    },
    {
     "name": "stderr",
     "output_type": "stream",
     "text": [
      "\u001b[36m(launch_and_evaluate pid=1789)\u001b[0m /opt/conda/lib/python3.10/site-packages/sklearn/metrics/_ranking.py:1029: UndefinedMetricWarning: No positive samples in y_true, true positive value should be meaningless\n",
      "\u001b[36m(launch_and_evaluate pid=1789)\u001b[0m   warnings.warn(\n"
     ]
    },
    {
     "name": "stdout",
     "output_type": "stream",
     "text": [
      "\u001b[36m(launch_and_evaluate pid=1865)\u001b[0m Run with homomorphic encryption\u001b[32m [repeated 2x across cluster]\u001b[0m\n",
      "\u001b[36m(launch_and_evaluate pid=1789)\u001b[0m [Client 9] evaluate, config: {}\n",
      "\u001b[36m(launch_and_evaluate pid=1789)\u001b[0m Updated model\n",
      "\u001b[36m(launch_and_evaluate pid=1865)\u001b[0m [Client 2] evaluate, config: {}\n",
      "\u001b[36m(launch_and_evaluate pid=1867)\u001b[0m Updated model\n",
      "\u001b[36m(launch_and_evaluate pid=1943)\u001b[0m Run with homomorphic encryption\u001b[32m [repeated 2x across cluster]\u001b[0m\n",
      "\u001b[36m(launch_and_evaluate pid=1867)\u001b[0m [Client 6] evaluate, config: {}\n",
      "\u001b[36m(launch_and_evaluate pid=1865)\u001b[0m Updated model\n",
      "\u001b[36m(launch_and_evaluate pid=1943)\u001b[0m [Client 5] evaluate, config: {}\n",
      "\u001b[36m(launch_and_evaluate pid=1943)\u001b[0m Updated model\n",
      "\u001b[36m(launch_and_evaluate pid=2021)\u001b[0m Run with homomorphic encryption\u001b[32m [repeated 2x across cluster]\u001b[0m\n",
      "\u001b[36m(launch_and_evaluate pid=1945)\u001b[0m [Client 0] evaluate, config: {}\n",
      "\u001b[36m(launch_and_evaluate pid=1945)\u001b[0m Updated model\n",
      "\u001b[36m(launch_and_evaluate pid=2021)\u001b[0m [Client 4] evaluate, config: {}\n",
      "\u001b[36m(launch_and_evaluate pid=2021)\u001b[0m Updated model\n"
     ]
    },
    {
     "name": "stderr",
     "output_type": "stream",
     "text": [
      "\u001b[36m(launch_and_evaluate pid=2021)\u001b[0m /opt/conda/lib/python3.10/site-packages/sklearn/metrics/_ranking.py:1029: UndefinedMetricWarning: No positive samples in y_true, true positive value should be meaningless\n",
      "\u001b[36m(launch_and_evaluate pid=2021)\u001b[0m   warnings.warn(\n",
      "DEBUG flwr 2024-08-05 07:19:43,643 | server.py:187 | evaluate_round 2 received 10 results and 0 failures\n",
      "DEBUG flwr 2024-08-05 07:19:43,644 | server.py:222 | fit_round 3: strategy sampled 10 clients (out of 10)\n"
     ]
    },
    {
     "name": "stdout",
     "output_type": "stream",
     "text": [
      "\u001b[36m(launch_and_fit pid=2108)\u001b[0m Run with homomorphic encryption\u001b[32m [repeated 2x across cluster]\u001b[0m\n",
      "\u001b[36m(launch_and_evaluate pid=2023)\u001b[0m [Client 3] evaluate, config: {}\n",
      "\u001b[36m(launch_and_evaluate pid=2023)\u001b[0m Updated model\n",
      "\u001b[36m(launch_and_fit pid=2109)\u001b[0m [Client 2, round 3] fit, config: {'learning_rate': 0.003, 'batch_size': '32', 'server_round': 3, 'local_epochs': 10}\n",
      "\u001b[36m(launch_and_fit pid=2108)\u001b[0m Updated model\n"
     ]
    },
    {
     "name": "stderr",
     "output_type": "stream",
     "text": [
      "  0%|\u001b[34m          \u001b[0m| 0/10 [00:00<?, ?it/s]\n"
     ]
    },
    {
     "name": "stdout",
     "output_type": "stream",
     "text": [
      "\u001b[36m(launch_and_fit pid=2108)\u001b[0m \tTrain Epoch: 1 \tTrain_loss_mri: 1.3169 | Train_acc_mri: 36.0880 | Train_loss_dna: 1.8119 | Train_acc_dna: 29.9769 | Validation_loss_mri: 1.3387 | Validation_acc_mri: 17.1875 | Validation_loss_dna: 1.8273 | Validation_acc_dna: 15.6250\n",
      "\u001b[36m(launch_and_fit pid=2109)\u001b[0m Run with homomorphic encryption\n",
      "\u001b[36m(launch_and_fit pid=2108)\u001b[0m [Client 8, round 3] fit, config: {'learning_rate': 0.003, 'batch_size': '32', 'server_round': 3, 'local_epochs': 10}\n"
     ]
    },
    {
     "name": "stderr",
     "output_type": "stream",
     "text": [
      " 10%|\u001b[34m█         \u001b[0m| 1/10 [00:04<00:37,  4.20s/it]\n"
     ]
    },
    {
     "name": "stdout",
     "output_type": "stream",
     "text": [
      "\u001b[36m(launch_and_fit pid=2109)\u001b[0m Updated model\n"
     ]
    },
    {
     "name": "stderr",
     "output_type": "stream",
     "text": [
      "  0%|\u001b[34m          \u001b[0m| 0/10 [00:00<?, ?it/s]\n"
     ]
    },
    {
     "name": "stdout",
     "output_type": "stream",
     "text": [
      "\u001b[36m(launch_and_fit pid=2108)\u001b[0m \tTrain Epoch: 3 \tTrain_loss_mri: 1.1123 | Train_acc_mri: 44.8148 | Train_loss_dna: 1.7771 | Train_acc_dna: 30.2083 | Validation_loss_mri: 1.1865 | Validation_acc_mri: 18.7500 | Validation_loss_dna: 1.8531 | Validation_acc_dna: 17.1875\u001b[32m [repeated 4x across cluster]\u001b[0m\n"
     ]
    },
    {
     "name": "stderr",
     "output_type": "stream",
     "text": [
      " 30%|\u001b[34m███       \u001b[0m| 3/10 [00:11<00:27,  3.86s/it]\u001b[32m [repeated 4x across cluster]\u001b[0m\n"
     ]
    },
    {
     "name": "stdout",
     "output_type": "stream",
     "text": [
      "\u001b[36m(launch_and_fit pid=2108)\u001b[0m \tTrain Epoch: 5 \tTrain_loss_mri: 0.8943 | Train_acc_mri: 60.6713 | Train_loss_dna: 1.7157 | Train_acc_dna: 32.4537 | Validation_loss_mri: 1.1059 | Validation_acc_mri: 44.7917 | Validation_loss_dna: 1.8656 | Validation_acc_dna: 17.1875\u001b[32m [repeated 4x across cluster]\u001b[0m\n"
     ]
    },
    {
     "name": "stderr",
     "output_type": "stream",
     "text": [
      " 50%|\u001b[34m█████     \u001b[0m| 5/10 [00:19<00:19,  3.90s/it]\u001b[32m [repeated 4x across cluster]\u001b[0m\n"
     ]
    },
    {
     "name": "stdout",
     "output_type": "stream",
     "text": [
      "\u001b[36m(launch_and_fit pid=2108)\u001b[0m \tTrain Epoch: 7 \tTrain_loss_mri: 0.7207 | Train_acc_mri: 67.5463 | Train_loss_dna: 1.7471 | Train_acc_dna: 29.4676 | Validation_loss_mri: 0.8949 | Validation_acc_mri: 58.3333 | Validation_loss_dna: 1.8467 | Validation_acc_dna: 15.6250\u001b[32m [repeated 4x across cluster]\u001b[0m\n"
     ]
    },
    {
     "name": "stderr",
     "output_type": "stream",
     "text": [
      " 70%|\u001b[34m███████   \u001b[0m| 7/10 [00:27<00:11,  3.81s/it]\u001b[32m [repeated 4x across cluster]\u001b[0m\n"
     ]
    },
    {
     "name": "stdout",
     "output_type": "stream",
     "text": [
      "\u001b[36m(launch_and_fit pid=2108)\u001b[0m \tTrain Epoch: 9 \tTrain_loss_mri: 0.5916 | Train_acc_mri: 74.2593 | Train_loss_dna: 1.7129 | Train_acc_dna: 34.6991 | Validation_loss_mri: 0.8566 | Validation_acc_mri: 54.1667 | Validation_loss_dna: 1.9132 | Validation_acc_dna: 9.3750\u001b[32m [repeated 4x across cluster]\u001b[0m\n"
     ]
    },
    {
     "name": "stderr",
     "output_type": "stream",
     "text": [
      " 90%|\u001b[34m█████████ \u001b[0m| 9/10 [00:34<00:03,  3.79s/it]\u001b[32m [repeated 4x across cluster]\u001b[0m\n"
     ]
    },
    {
     "name": "stdout",
     "output_type": "stream",
     "text": [
      "\u001b[36m(launch_and_fit pid=2108)\u001b[0m save graph in  results/FL/\n",
      "\u001b[36m(launch_and_fit pid=2108)\u001b[0m mri_net.features.0.weight 5.0067901611328125e-06\n",
      "\u001b[36m(launch_and_fit pid=2108)\u001b[0m mri_net.features.0.bias 1.1920928955078125e-06\n",
      "\u001b[36m(launch_and_fit pid=2108)\u001b[0m mri_net.features.3.weight 1.1920928955078125e-06\n",
      "\u001b[36m(launch_and_fit pid=2108)\u001b[0m mri_net.features.3.bias 9.5367431640625e-07\n",
      "\u001b[36m(launch_and_fit pid=2108)\u001b[0m mri_net.classifier.0.weight 1.1920928955078125e-06\n",
      "\u001b[36m(launch_and_fit pid=2108)\u001b[0m mri_net.classifier.0.bias 9.5367431640625e-07\n",
      "\u001b[36m(launch_and_fit pid=2108)\u001b[0m mri_net.classifier.2.weight 1.430511474609375e-06\n",
      "\u001b[36m(launch_and_fit pid=2108)\u001b[0m mri_net.classifier.2.bias 2.1457672119140625e-06\n",
      "\u001b[36m(launch_and_fit pid=2108)\u001b[0m mri_net.classifier.3.weights 1.430511474609375e-06\n",
      "\u001b[36m(launch_and_fit pid=2108)\u001b[0m dna_net.fc1.weight 1.6689300537109375e-06\n",
      "\u001b[36m(launch_and_fit pid=2108)\u001b[0m dna_net.fc1.bias 1.1920928955078125e-06\n",
      "\u001b[36m(launch_and_fit pid=2108)\u001b[0m dna_net.fc2.weight 1.6689300537109375e-06\n",
      "\u001b[36m(launch_and_fit pid=2108)\u001b[0m dna_net.fc2.bias 1.9073486328125e-06\n",
      "\u001b[36m(launch_and_fit pid=2108)\u001b[0m dna_net.fc3.weight 9.5367431640625e-07\n",
      "\u001b[36m(launch_and_fit pid=2108)\u001b[0m dna_net.fc3.bias 1.1920928955078125e-06\n",
      "\u001b[36m(launch_and_fit pid=2108)\u001b[0m dna_net.fc4.weight 9.5367431640625e-07\n",
      "\u001b[36m(launch_and_fit pid=2108)\u001b[0m dna_net.fc4.bias 1.1920928955078125e-06\n",
      "\u001b[36m(launch_and_fit pid=2108)\u001b[0m dna_net.qnn.weights 1.1920928955078125e-06\n",
      "\u001b[36m(launch_and_fit pid=2108)\u001b[0m attention.in_proj_weight 1.1920928955078125e-06\n",
      "\u001b[36m(launch_and_fit pid=2108)\u001b[0m attention.in_proj_bias 9.5367431640625e-07\n",
      "\u001b[36m(launch_and_fit pid=2108)\u001b[0m attention.out_proj.weight 9.5367431640625e-07\n",
      "\u001b[36m(launch_and_fit pid=2108)\u001b[0m attention.out_proj.bias 1.1920928955078125e-06\n",
      "\u001b[36m(launch_and_fit pid=2108)\u001b[0m fc1.weight 1.430511474609375e-06\n",
      "\u001b[36m(launch_and_fit pid=2108)\u001b[0m fc1.bias 1.1920928955078125e-06\n",
      "\u001b[36m(launch_and_fit pid=2108)\u001b[0m fc2_mri.weight 1.1920928955078125e-06\n",
      "\u001b[36m(launch_and_fit pid=2108)\u001b[0m fc2_mri.bias 9.5367431640625e-07\n",
      "\u001b[36m(launch_and_fit pid=2108)\u001b[0m fc2_dna.weight 9.5367431640625e-07\n",
      "\u001b[36m(launch_and_fit pid=2108)\u001b[0m fc2_dna.bias 9.5367431640625e-07\n",
      "\u001b[36m(launch_and_fit pid=2189)\u001b[0m Run with homomorphic encryption\n",
      "\u001b[36m(launch_and_fit pid=2109)\u001b[0m \tTrain Epoch: 10 \tTrain_loss_mri: 0.5196 | Train_acc_mri: 78.5995 | Train_loss_dna: 1.6506 | Train_acc_dna: 36.4005 | Validation_loss_mri: 1.4968 | Validation_acc_mri: 43.2292 | Validation_loss_dna: 1.6545 | Validation_acc_dna: 27.6042\u001b[32m [repeated 3x across cluster]\u001b[0m\n",
      "\u001b[36m(launch_and_fit pid=2109)\u001b[0m save graph in  results/FL/\n",
      "\u001b[36m(launch_and_fit pid=2109)\u001b[0m fc2_dna.bias 7.867813110351562e-06\u001b[32m [repeated 23x across cluster]\u001b[0m\n",
      "\u001b[36m(launch_and_fit pid=2109)\u001b[0m dna_net.qnn.weights 1.6689300537109375e-06\n",
      "\u001b[36m(launch_and_fit pid=2109)\u001b[0m attention.in_proj_weight 1.1920928955078125e-06\n",
      "\u001b[36m(launch_and_fit pid=2109)\u001b[0m attention.in_proj_bias 1.430511474609375e-06\n",
      "\u001b[36m(launch_and_fit pid=2109)\u001b[0m attention.out_proj.weight 1.1920928955078125e-06\n",
      "\u001b[36m(launch_and_fit pid=2109)\u001b[0m attention.out_proj.bias 1.6689300537109375e-06\n",
      "\u001b[36m(launch_and_fit pid=2189)\u001b[0m [Client 6, round 3] fit, config: {'learning_rate': 0.003, 'batch_size': '32', 'server_round': 3, 'local_epochs': 10}\n",
      "\u001b[36m(launch_and_fit pid=2189)\u001b[0m Updated model\n"
     ]
    },
    {
     "name": "stderr",
     "output_type": "stream",
     "text": [
      "  0%|\u001b[34m          \u001b[0m| 0/10 [00:00<?, ?it/s]\n",
      "100%|\u001b[34m██████████\u001b[0m| 10/10 [00:38<00:00,  3.84s/it]\u001b[32m [repeated 3x across cluster]\u001b[0m\n"
     ]
    },
    {
     "name": "stdout",
     "output_type": "stream",
     "text": [
      "\u001b[36m(launch_and_fit pid=2191)\u001b[0m Run with homomorphic encryption\n",
      "\u001b[36m(launch_and_fit pid=2189)\u001b[0m \tTrain Epoch: 1 \tTrain_loss_mri: 1.3738 | Train_acc_mri: 33.3912 | Train_loss_dna: 1.7415 | Train_acc_dna: 36.8287 | Validation_loss_mri: 1.2659 | Validation_acc_mri: 45.8333 | Validation_loss_dna: 1.7771 | Validation_acc_dna: 30.7292\n",
      "\u001b[36m(launch_and_fit pid=2191)\u001b[0m [Client 4, round 3] fit, config: {'learning_rate': 0.003, 'batch_size': '32', 'server_round': 3, 'local_epochs': 10}\n",
      "\u001b[36m(launch_and_fit pid=2191)\u001b[0m \tTrain Epoch: 1 \tTrain_loss_mri: 1.3018 | Train_acc_mri: 42.4537 | Train_loss_dna: 1.8087 | Train_acc_dna: 29.7801 | Validation_loss_mri: 1.1179 | Validation_acc_mri: 53.6458 | Validation_loss_dna: 1.7619 | Validation_acc_dna: 40.1042\n",
      "\u001b[36m(launch_and_fit pid=2191)\u001b[0m Updated model\n"
     ]
    },
    {
     "name": "stderr",
     "output_type": "stream",
     "text": [
      "  0%|\u001b[34m          \u001b[0m| 0/10 [00:00<?, ?it/s]\n",
      " 20%|\u001b[34m██        \u001b[0m| 2/10 [00:07<00:31,  3.90s/it]\u001b[32m [repeated 3x across cluster]\u001b[0m\n"
     ]
    },
    {
     "name": "stdout",
     "output_type": "stream",
     "text": [
      "\u001b[36m(launch_and_fit pid=2189)\u001b[0m \tTrain Epoch: 3 \tTrain_loss_mri: 1.1975 | Train_acc_mri: 47.0833 | Train_loss_dna: 1.7329 | Train_acc_dna: 36.8287 | Validation_loss_mri: 1.1808 | Validation_acc_mri: 56.7708 | Validation_loss_dna: 1.7340 | Validation_acc_dna: 30.7292\u001b[32m [repeated 3x across cluster]\u001b[0m\n"
     ]
    },
    {
     "name": "stderr",
     "output_type": "stream",
     "text": [
      " 40%|\u001b[34m████      \u001b[0m| 4/10 [00:15<00:22,  3.73s/it]\u001b[32m [repeated 4x across cluster]\u001b[0m\n"
     ]
    },
    {
     "name": "stdout",
     "output_type": "stream",
     "text": [
      "\u001b[36m(launch_and_fit pid=2189)\u001b[0m \tTrain Epoch: 5 \tTrain_loss_mri: 0.8987 | Train_acc_mri: 54.2477 | Train_loss_dna: 1.6903 | Train_acc_dna: 36.8287 | Validation_loss_mri: 0.7613 | Validation_acc_mri: 75.0000 | Validation_loss_dna: 1.7295 | Validation_acc_dna: 30.7292\u001b[32m [repeated 4x across cluster]\u001b[0m\n"
     ]
    },
    {
     "name": "stderr",
     "output_type": "stream",
     "text": [
      " 60%|\u001b[34m██████    \u001b[0m| 6/10 [00:22<00:14,  3.69s/it]\u001b[32m [repeated 4x across cluster]\u001b[0m\n"
     ]
    },
    {
     "name": "stdout",
     "output_type": "stream",
     "text": [
      "\u001b[36m(launch_and_fit pid=2189)\u001b[0m \tTrain Epoch: 7 \tTrain_loss_mri: 0.8914 | Train_acc_mri: 56.0069 | Train_loss_dna: 1.6658 | Train_acc_dna: 36.4005 | Validation_loss_mri: 1.2230 | Validation_acc_mri: 56.7708 | Validation_loss_dna: 1.6840 | Validation_acc_dna: 62.5000\u001b[32m [repeated 4x across cluster]\u001b[0m\n"
     ]
    },
    {
     "name": "stderr",
     "output_type": "stream",
     "text": [
      " 80%|\u001b[34m████████  \u001b[0m| 8/10 [00:30<00:07,  3.75s/it]\u001b[32m [repeated 4x across cluster]\u001b[0m\n"
     ]
    },
    {
     "name": "stdout",
     "output_type": "stream",
     "text": [
      "\u001b[36m(launch_and_fit pid=2189)\u001b[0m \tTrain Epoch: 9 \tTrain_loss_mri: 0.9915 | Train_acc_mri: 54.3634 | Train_loss_dna: 1.6130 | Train_acc_dna: 39.5255 | Validation_loss_mri: 0.9189 | Validation_acc_mri: 40.1042 | Validation_loss_dna: 1.8225 | Validation_acc_dna: 24.4792\u001b[32m [repeated 4x across cluster]\u001b[0m\n",
      "\u001b[36m(launch_and_fit pid=2189)\u001b[0m save graph in  results/FL/\n"
     ]
    },
    {
     "name": "stderr",
     "output_type": "stream",
     "text": [
      "100%|\u001b[34m██████████\u001b[0m| 10/10 [00:37<00:00,  3.75s/it]\u001b[32m [repeated 4x across cluster]\u001b[0m\n"
     ]
    },
    {
     "name": "stdout",
     "output_type": "stream",
     "text": [
      "\u001b[36m(launch_and_fit pid=2189)\u001b[0m mri_net.features.0.weight 4.76837158203125e-06\n",
      "\u001b[36m(launch_and_fit pid=2189)\u001b[0m mri_net.features.0.bias 1.430511474609375e-06\n",
      "\u001b[36m(launch_and_fit pid=2189)\u001b[0m mri_net.features.3.weight 1.430511474609375e-06\n",
      "\u001b[36m(launch_and_fit pid=2189)\u001b[0m mri_net.features.3.bias 9.5367431640625e-07\n",
      "\u001b[36m(launch_and_fit pid=2189)\u001b[0m mri_net.classifier.0.weight 1.430511474609375e-06\n",
      "\u001b[36m(launch_and_fit pid=2189)\u001b[0m mri_net.classifier.0.bias 9.5367431640625e-07\n",
      "\u001b[36m(launch_and_fit pid=2189)\u001b[0m mri_net.classifier.2.weight 1.1920928955078125e-06\n",
      "\u001b[36m(launch_and_fit pid=2189)\u001b[0m mri_net.classifier.2.bias 9.5367431640625e-07\n",
      "\u001b[36m(launch_and_fit pid=2189)\u001b[0m mri_net.classifier.3.weights 1.1920928955078125e-06\n",
      "\u001b[36m(launch_and_fit pid=2189)\u001b[0m dna_net.fc1.weight 1.1920928955078125e-06\n",
      "\u001b[36m(launch_and_fit pid=2189)\u001b[0m dna_net.fc1.bias 1.1920928955078125e-06\n",
      "\u001b[36m(launch_and_fit pid=2189)\u001b[0m dna_net.fc2.weight 9.5367431640625e-07\n",
      "\u001b[36m(launch_and_fit pid=2189)\u001b[0m dna_net.fc2.bias 9.5367431640625e-07\n",
      "\u001b[36m(launch_and_fit pid=2189)\u001b[0m dna_net.fc3.weight 1.1920928955078125e-06\n",
      "\u001b[36m(launch_and_fit pid=2189)\u001b[0m dna_net.fc3.bias 9.5367431640625e-07\n",
      "\u001b[36m(launch_and_fit pid=2189)\u001b[0m dna_net.fc4.weight 1.1920928955078125e-06\n",
      "\u001b[36m(launch_and_fit pid=2189)\u001b[0m dna_net.fc4.bias 1.1920928955078125e-06\n",
      "\u001b[36m(launch_and_fit pid=2189)\u001b[0m dna_net.qnn.weights 9.5367431640625e-07\n",
      "\u001b[36m(launch_and_fit pid=2189)\u001b[0m attention.in_proj_weight 1.1920928955078125e-06\n",
      "\u001b[36m(launch_and_fit pid=2189)\u001b[0m attention.in_proj_bias 9.5367431640625e-07\n",
      "\u001b[36m(launch_and_fit pid=2189)\u001b[0m attention.out_proj.weight 1.430511474609375e-06\n",
      "\u001b[36m(launch_and_fit pid=2189)\u001b[0m attention.out_proj.bias 1.1920928955078125e-06\n",
      "\u001b[36m(launch_and_fit pid=2189)\u001b[0m fc1.weight 9.5367431640625e-07\n",
      "\u001b[36m(launch_and_fit pid=2189)\u001b[0m fc1.bias 1.1920928955078125e-06\n",
      "\u001b[36m(launch_and_fit pid=2189)\u001b[0m fc2_mri.weight 1.1920928955078125e-06\n",
      "\u001b[36m(launch_and_fit pid=2189)\u001b[0m fc2_mri.bias 9.5367431640625e-07\n",
      "\u001b[36m(launch_and_fit pid=2189)\u001b[0m fc2_dna.weight 1.1920928955078125e-06\n",
      "\u001b[36m(launch_and_fit pid=2189)\u001b[0m fc2_dna.bias 9.5367431640625e-07\n",
      "\u001b[36m(launch_and_fit pid=2271)\u001b[0m Run with homomorphic encryption\n",
      "\u001b[36m(launch_and_fit pid=2191)\u001b[0m \tTrain Epoch: 10 \tTrain_loss_mri: 0.3138 | Train_acc_mri: 89.5949 | Train_loss_dna: 1.6937 | Train_acc_dna: 33.6458 | Validation_loss_mri: 1.5938 | Validation_acc_mri: 63.0208 | Validation_loss_dna: 1.7159 | Validation_acc_dna: 40.1042\u001b[32m [repeated 3x across cluster]\u001b[0m\n",
      "\u001b[36m(launch_and_fit pid=2191)\u001b[0m save graph in  results/FL/\n",
      "\u001b[36m(launch_and_fit pid=2191)\u001b[0m fc2_dna.bias 1.1920928955078125e-06\u001b[32m [repeated 23x across cluster]\u001b[0m\n",
      "\u001b[36m(launch_and_fit pid=2191)\u001b[0m dna_net.qnn.weights 1.1920928955078125e-06\n",
      "\u001b[36m(launch_and_fit pid=2191)\u001b[0m attention.in_proj_weight 9.5367431640625e-07\n",
      "\u001b[36m(launch_and_fit pid=2191)\u001b[0m attention.in_proj_bias 9.5367431640625e-07\n",
      "\u001b[36m(launch_and_fit pid=2191)\u001b[0m attention.out_proj.weight 1.1920928955078125e-06\n",
      "\u001b[36m(launch_and_fit pid=2191)\u001b[0m attention.out_proj.bias 9.5367431640625e-07\n",
      "\u001b[36m(launch_and_fit pid=2271)\u001b[0m [Client 5, round 3] fit, config: {'learning_rate': 0.003, 'batch_size': '32', 'server_round': 3, 'local_epochs': 10}\n",
      "\u001b[36m(launch_and_fit pid=2271)\u001b[0m Updated model\n"
     ]
    },
    {
     "name": "stderr",
     "output_type": "stream",
     "text": [
      "  0%|\u001b[34m          \u001b[0m| 0/10 [00:00<?, ?it/s]\n",
      "100%|\u001b[34m██████████\u001b[0m| 10/10 [00:37<00:00,  3.80s/it]\n"
     ]
    },
    {
     "name": "stdout",
     "output_type": "stream",
     "text": [
      "\u001b[36m(launch_and_fit pid=2296)\u001b[0m Run with homomorphic encryption\n",
      "\u001b[36m(launch_and_fit pid=2271)\u001b[0m \tTrain Epoch: 1 \tTrain_loss_mri: 1.3015 | Train_acc_mri: 40.6366 | Train_loss_dna: 1.8376 | Train_acc_dna: 28.7269 | Validation_loss_mri: 0.9300 | Validation_acc_mri: 59.8958 | Validation_loss_dna: 1.8312 | Validation_acc_dna: 15.6250\n",
      "\u001b[36m(launch_and_fit pid=2296)\u001b[0m [Client 3, round 3] fit, config: {'learning_rate': 0.003, 'batch_size': '32', 'server_round': 3, 'local_epochs': 10}\n"
     ]
    },
    {
     "name": "stderr",
     "output_type": "stream",
     "text": [
      " 10%|\u001b[34m█         \u001b[0m| 1/10 [00:04<00:37,  4.18s/it]\n"
     ]
    },
    {
     "name": "stdout",
     "output_type": "stream",
     "text": [
      "\u001b[36m(launch_and_fit pid=2296)\u001b[0m \tTrain Epoch: 1 \tTrain_loss_mri: 1.2547 | Train_acc_mri: 41.8056 | Train_loss_dna: 1.8127 | Train_acc_dna: 30.0694 | Validation_loss_mri: 1.1122 | Validation_acc_mri: 41.6667 | Validation_loss_dna: 1.7608 | Validation_acc_dna: 30.7292\n",
      "\u001b[36m(launch_and_fit pid=2296)\u001b[0m Updated model\n"
     ]
    },
    {
     "name": "stderr",
     "output_type": "stream",
     "text": [
      "  0%|\u001b[34m          \u001b[0m| 0/10 [00:00<?, ?it/s]\n"
     ]
    },
    {
     "name": "stdout",
     "output_type": "stream",
     "text": [
      "\u001b[36m(launch_and_fit pid=2271)\u001b[0m \tTrain Epoch: 3 \tTrain_loss_mri: 0.9173 | Train_acc_mri: 49.6991 | Train_loss_dna: 1.8131 | Train_acc_dna: 29.0162 | Validation_loss_mri: 0.6312 | Validation_acc_mri: 61.4583 | Validation_loss_dna: 2.0553 | Validation_acc_dna: 15.6250\u001b[32m [repeated 3x across cluster]\u001b[0m\n"
     ]
    },
    {
     "name": "stderr",
     "output_type": "stream",
     "text": [
      " 30%|\u001b[34m███       \u001b[0m| 3/10 [00:12<00:27,  3.98s/it]\u001b[32m [repeated 4x across cluster]\u001b[0m\n"
     ]
    },
    {
     "name": "stdout",
     "output_type": "stream",
     "text": [
      "\u001b[36m(launch_and_fit pid=2271)\u001b[0m \tTrain Epoch: 5 \tTrain_loss_mri: 0.8246 | Train_acc_mri: 58.7037 | Train_loss_dna: 1.7808 | Train_acc_dna: 28.8426 | Validation_loss_mri: 0.5982 | Validation_acc_mri: 61.4583 | Validation_loss_dna: 1.8827 | Validation_acc_dna: 15.6250\u001b[32m [repeated 4x across cluster]\u001b[0m\n"
     ]
    },
    {
     "name": "stderr",
     "output_type": "stream",
     "text": [
      " 50%|\u001b[34m█████     \u001b[0m| 5/10 [00:19<00:19,  3.82s/it]\u001b[32m [repeated 4x across cluster]\u001b[0m\n"
     ]
    },
    {
     "name": "stdout",
     "output_type": "stream",
     "text": [
      "\u001b[36m(launch_and_fit pid=2271)\u001b[0m \tTrain Epoch: 7 \tTrain_loss_mri: 0.7406 | Train_acc_mri: 67.7431 | Train_loss_dna: 1.7608 | Train_acc_dna: 30.0694 | Validation_loss_mri: 0.8636 | Validation_acc_mri: 69.2708 | Validation_loss_dna: 2.0622 | Validation_acc_dna: 9.3750\u001b[32m [repeated 4x across cluster]\u001b[0m\n"
     ]
    },
    {
     "name": "stderr",
     "output_type": "stream",
     "text": [
      " 70%|\u001b[34m███████   \u001b[0m| 7/10 [00:27<00:11,  3.80s/it]\u001b[32m [repeated 4x across cluster]\u001b[0m\n"
     ]
    },
    {
     "name": "stdout",
     "output_type": "stream",
     "text": [
      "\u001b[36m(launch_and_fit pid=2271)\u001b[0m \tTrain Epoch: 9 \tTrain_loss_mri: 0.7013 | Train_acc_mri: 66.9213 | Train_loss_dna: 1.7139 | Train_acc_dna: 33.2176 | Validation_loss_mri: 0.6440 | Validation_acc_mri: 69.2708 | Validation_loss_dna: 1.9154 | Validation_acc_dna: 14.0625\u001b[32m [repeated 4x across cluster]\u001b[0m\n"
     ]
    },
    {
     "name": "stderr",
     "output_type": "stream",
     "text": [
      " 90%|\u001b[34m█████████ \u001b[0m| 9/10 [00:34<00:03,  3.77s/it]\u001b[32m [repeated 4x across cluster]\u001b[0m\n"
     ]
    },
    {
     "name": "stdout",
     "output_type": "stream",
     "text": [
      "\u001b[36m(launch_and_fit pid=2271)\u001b[0m save graph in  results/FL/\n",
      "\u001b[36m(launch_and_fit pid=2271)\u001b[0m mri_net.features.0.weight 5.0067901611328125e-06\n",
      "\u001b[36m(launch_and_fit pid=2271)\u001b[0m mri_net.features.0.bias 1.1920928955078125e-06\n",
      "\u001b[36m(launch_and_fit pid=2271)\u001b[0m mri_net.features.3.weight 1.1920928955078125e-06\n",
      "\u001b[36m(launch_and_fit pid=2271)\u001b[0m mri_net.features.3.bias 1.1920928955078125e-06\n",
      "\u001b[36m(launch_and_fit pid=2271)\u001b[0m mri_net.classifier.0.weight 1.430511474609375e-06\n",
      "\u001b[36m(launch_and_fit pid=2271)\u001b[0m mri_net.classifier.0.bias 9.5367431640625e-07\n",
      "\u001b[36m(launch_and_fit pid=2271)\u001b[0m mri_net.classifier.2.weight 9.5367431640625e-07\n",
      "\u001b[36m(launch_and_fit pid=2271)\u001b[0m mri_net.classifier.2.bias 9.5367431640625e-07\n",
      "\u001b[36m(launch_and_fit pid=2271)\u001b[0m mri_net.classifier.3.weights 9.5367431640625e-07\n",
      "\u001b[36m(launch_and_fit pid=2271)\u001b[0m dna_net.fc1.weight 9.5367431640625e-07\n",
      "\u001b[36m(launch_and_fit pid=2271)\u001b[0m dna_net.fc1.bias 1.1920928955078125e-06\n",
      "\u001b[36m(launch_and_fit pid=2271)\u001b[0m dna_net.fc2.weight 9.5367431640625e-07\n",
      "\u001b[36m(launch_and_fit pid=2271)\u001b[0m dna_net.fc2.bias 9.5367431640625e-07\n",
      "\u001b[36m(launch_and_fit pid=2271)\u001b[0m dna_net.fc3.weight 9.5367431640625e-07\n",
      "\u001b[36m(launch_and_fit pid=2271)\u001b[0m dna_net.fc3.bias 1.1920928955078125e-06\n",
      "\u001b[36m(launch_and_fit pid=2271)\u001b[0m dna_net.fc4.weight 9.5367431640625e-07\n",
      "\u001b[36m(launch_and_fit pid=2271)\u001b[0m dna_net.fc4.bias 1.1920928955078125e-06\n",
      "\u001b[36m(launch_and_fit pid=2271)\u001b[0m dna_net.qnn.weights 1.1920928955078125e-06\n",
      "\u001b[36m(launch_and_fit pid=2271)\u001b[0m attention.in_proj_weight 9.5367431640625e-07\n",
      "\u001b[36m(launch_and_fit pid=2271)\u001b[0m attention.in_proj_bias 9.5367431640625e-07\n",
      "\u001b[36m(launch_and_fit pid=2271)\u001b[0m attention.out_proj.weight 1.1920928955078125e-06\n",
      "\u001b[36m(launch_and_fit pid=2271)\u001b[0m attention.out_proj.bias 9.5367431640625e-07\n",
      "\u001b[36m(launch_and_fit pid=2271)\u001b[0m fc1.weight 1.1920928955078125e-06\n",
      "\u001b[36m(launch_and_fit pid=2271)\u001b[0m fc1.bias 9.5367431640625e-07\n",
      "\u001b[36m(launch_and_fit pid=2271)\u001b[0m fc2_mri.weight 1.1920928955078125e-06\n",
      "\u001b[36m(launch_and_fit pid=2271)\u001b[0m fc2_mri.bias 9.5367431640625e-07\n",
      "\u001b[36m(launch_and_fit pid=2271)\u001b[0m fc2_dna.weight 1.1920928955078125e-06\n",
      "\u001b[36m(launch_and_fit pid=2271)\u001b[0m fc2_dna.bias 9.5367431640625e-07\n",
      "\u001b[36m(launch_and_fit pid=2296)\u001b[0m \tTrain Epoch: 10 \tTrain_loss_mri: 0.2272 | Train_acc_mri: 95.2546 | Train_loss_dna: 1.6775 | Train_acc_dna: 36.1458 | Validation_loss_mri: 0.6039 | Validation_acc_mri: 84.3750 | Validation_loss_dna: 2.1411 | Validation_acc_dna: 18.7500\u001b[32m [repeated 3x across cluster]\u001b[0m\n",
      "\u001b[36m(launch_and_fit pid=2354)\u001b[0m Run with homomorphic encryption\n",
      "\u001b[36m(launch_and_fit pid=2296)\u001b[0m save graph in  results/FL/\n",
      "\u001b[36m(launch_and_fit pid=2296)\u001b[0m fc2_dna.bias 1.1920928955078125e-06\u001b[32m [repeated 23x across cluster]\u001b[0m\n",
      "\u001b[36m(launch_and_fit pid=2296)\u001b[0m dna_net.qnn.weights 1.1920928955078125e-06\n",
      "\u001b[36m(launch_and_fit pid=2296)\u001b[0m attention.in_proj_weight 1.1920928955078125e-06\n",
      "\u001b[36m(launch_and_fit pid=2296)\u001b[0m attention.in_proj_bias 1.1920928955078125e-06\n",
      "\u001b[36m(launch_and_fit pid=2296)\u001b[0m attention.out_proj.weight 1.1920928955078125e-06\n",
      "\u001b[36m(launch_and_fit pid=2296)\u001b[0m attention.out_proj.bias 1.430511474609375e-06\n",
      "\u001b[36m(launch_and_fit pid=2354)\u001b[0m [Client 7, round 3] fit, config: {'learning_rate': 0.003, 'batch_size': '32', 'server_round': 3, 'local_epochs': 10}\n"
     ]
    },
    {
     "name": "stderr",
     "output_type": "stream",
     "text": [
      "  0%|\u001b[34m          \u001b[0m| 0/10 [00:00<?, ?it/s]\n",
      "100%|\u001b[34m██████████\u001b[0m| 10/10 [00:38<00:00,  3.88s/it]\u001b[32m [repeated 3x across cluster]\u001b[0m\n"
     ]
    },
    {
     "name": "stdout",
     "output_type": "stream",
     "text": [
      "\u001b[36m(launch_and_fit pid=2354)\u001b[0m Updated model\n",
      "\u001b[36m(launch_and_fit pid=2354)\u001b[0m \tTrain Epoch: 1 \tTrain_loss_mri: 1.3774 | Train_acc_mri: 29.2708 | Train_loss_dna: 1.8725 | Train_acc_dna: 26.2847 | Validation_loss_mri: 1.3214 | Validation_acc_mri: 33.8542 | Validation_loss_dna: 1.6012 | Validation_acc_dna: 50.5208\n",
      "\u001b[36m(launch_and_fit pid=2379)\u001b[0m Run with homomorphic encryption\n",
      "\u001b[36m(launch_and_fit pid=2379)\u001b[0m [Client 9, round 3] fit, config: {'learning_rate': 0.003, 'batch_size': '32', 'server_round': 3, 'local_epochs': 10}\n"
     ]
    },
    {
     "name": "stderr",
     "output_type": "stream",
     "text": [
      "  0%|\u001b[34m          \u001b[0m| 0/10 [00:00<?, ?it/s]\n",
      " 20%|\u001b[34m██        \u001b[0m| 2/10 [00:07<00:31,  3.88s/it]\u001b[32m [repeated 3x across cluster]\u001b[0m\n"
     ]
    },
    {
     "name": "stdout",
     "output_type": "stream",
     "text": [
      "\u001b[36m(launch_and_fit pid=2379)\u001b[0m Updated model\n",
      "\u001b[36m(launch_and_fit pid=2354)\u001b[0m \tTrain Epoch: 3 \tTrain_loss_mri: 1.3782 | Train_acc_mri: 29.0972 | Train_loss_dna: 1.8211 | Train_acc_dna: 27.2801 | Validation_loss_mri: 1.3544 | Validation_acc_mri: 33.8542 | Validation_loss_dna: 1.5945 | Validation_acc_dna: 50.5208\u001b[32m [repeated 4x across cluster]\u001b[0m\n"
     ]
    },
    {
     "name": "stderr",
     "output_type": "stream",
     "text": [
      " 40%|\u001b[34m████      \u001b[0m| 4/10 [00:15<00:22,  3.77s/it]\u001b[32m [repeated 4x across cluster]\u001b[0m\n"
     ]
    },
    {
     "name": "stdout",
     "output_type": "stream",
     "text": [
      "\u001b[36m(launch_and_fit pid=2354)\u001b[0m \tTrain Epoch: 5 \tTrain_loss_mri: 1.3911 | Train_acc_mri: 27.0255 | Train_loss_dna: 1.8048 | Train_acc_dna: 30.2662 | Validation_loss_mri: 1.3691 | Validation_acc_mri: 48.9583 | Validation_loss_dna: 1.5858 | Validation_acc_dna: 50.5208\u001b[32m [repeated 4x across cluster]\u001b[0m\n"
     ]
    },
    {
     "name": "stderr",
     "output_type": "stream",
     "text": [
      " 60%|\u001b[34m██████    \u001b[0m| 6/10 [00:22<00:15,  3.78s/it]\u001b[32m [repeated 4x across cluster]\u001b[0m\n"
     ]
    },
    {
     "name": "stdout",
     "output_type": "stream",
     "text": [
      "\u001b[36m(launch_and_fit pid=2354)\u001b[0m \tTrain Epoch: 7 \tTrain_loss_mri: 1.3787 | Train_acc_mri: 30.6019 | Train_loss_dna: 1.8623 | Train_acc_dna: 28.2755 | Validation_loss_mri: 1.3459 | Validation_acc_mri: 36.9792 | Validation_loss_dna: 1.6949 | Validation_acc_dna: 50.5208\u001b[32m [repeated 4x across cluster]\u001b[0m\n"
     ]
    },
    {
     "name": "stderr",
     "output_type": "stream",
     "text": [
      " 80%|\u001b[34m████████  \u001b[0m| 8/10 [00:30<00:07,  3.72s/it]\u001b[32m [repeated 4x across cluster]\u001b[0m\n"
     ]
    },
    {
     "name": "stdout",
     "output_type": "stream",
     "text": [
      "\u001b[36m(launch_and_fit pid=2379)\u001b[0m \tTrain Epoch: 8 \tTrain_loss_mri: 0.6927 | Train_acc_mri: 67.3992 | Train_loss_dna: 1.6728 | Train_acc_dna: 36.3810 | Validation_loss_mri: 0.6880 | Validation_acc_mri: 61.4583 | Validation_loss_dna: 1.7121 | Validation_acc_dna: 32.2917\u001b[32m [repeated 3x across cluster]\u001b[0m\n"
     ]
    },
    {
     "name": "stderr",
     "output_type": "stream",
     "text": [
      " 90%|\u001b[34m█████████ \u001b[0m| 9/10 [00:34<00:03,  3.80s/it]\u001b[32m [repeated 3x across cluster]\u001b[0m\n"
     ]
    },
    {
     "name": "stdout",
     "output_type": "stream",
     "text": [
      "\u001b[36m(launch_and_fit pid=2354)\u001b[0m save graph in  results/FL/\n",
      "\u001b[36m(launch_and_fit pid=2354)\u001b[0m \tTrain Epoch: 10 \tTrain_loss_mri: 1.3649 | Train_acc_mri: 30.7176 | Train_loss_dna: 1.7746 | Train_acc_dna: 32.8819 | Validation_loss_mri: 1.3480 | Validation_acc_mri: 29.1667 | Validation_loss_dna: 1.5584 | Validation_acc_dna: 47.3958\u001b[32m [repeated 3x across cluster]\u001b[0m\n",
      "\u001b[36m(launch_and_fit pid=2354)\u001b[0m mri_net.features.0.weight 4.76837158203125e-06\n",
      "\u001b[36m(launch_and_fit pid=2354)\u001b[0m mri_net.features.0.bias 1.430511474609375e-06\n",
      "\u001b[36m(launch_and_fit pid=2354)\u001b[0m mri_net.features.3.weight 1.430511474609375e-06\n",
      "\u001b[36m(launch_and_fit pid=2354)\u001b[0m mri_net.features.3.bias 9.5367431640625e-07\n",
      "\u001b[36m(launch_and_fit pid=2354)\u001b[0m mri_net.classifier.0.weight 1.430511474609375e-06\n",
      "\u001b[36m(launch_and_fit pid=2354)\u001b[0m mri_net.classifier.0.bias 9.5367431640625e-07\n",
      "\u001b[36m(launch_and_fit pid=2354)\u001b[0m mri_net.classifier.2.weight 1.1920928955078125e-06\n",
      "\u001b[36m(launch_and_fit pid=2354)\u001b[0m mri_net.classifier.2.bias 1.1920928955078125e-06\n",
      "\u001b[36m(launch_and_fit pid=2354)\u001b[0m mri_net.classifier.3.weights 1.1920928955078125e-06\n",
      "\u001b[36m(launch_and_fit pid=2354)\u001b[0m dna_net.fc1.weight 1.1920928955078125e-06\n",
      "\u001b[36m(launch_and_fit pid=2354)\u001b[0m dna_net.fc1.bias 9.5367431640625e-07\n",
      "\u001b[36m(launch_and_fit pid=2354)\u001b[0m dna_net.fc2.weight 1.1920928955078125e-06\n",
      "\u001b[36m(launch_and_fit pid=2354)\u001b[0m dna_net.fc2.bias 1.1920928955078125e-06\n",
      "\u001b[36m(launch_and_fit pid=2354)\u001b[0m dna_net.fc3.weight 9.5367431640625e-07\n",
      "\u001b[36m(launch_and_fit pid=2354)\u001b[0m dna_net.fc3.bias 1.1920928955078125e-06\n",
      "\u001b[36m(launch_and_fit pid=2354)\u001b[0m dna_net.fc4.weight 1.1920928955078125e-06\n",
      "\u001b[36m(launch_and_fit pid=2354)\u001b[0m dna_net.fc4.bias 9.5367431640625e-07\n",
      "\u001b[36m(launch_and_fit pid=2354)\u001b[0m dna_net.qnn.weights 9.5367431640625e-07\n",
      "\u001b[36m(launch_and_fit pid=2354)\u001b[0m attention.in_proj_weight 9.5367431640625e-07\n",
      "\u001b[36m(launch_and_fit pid=2354)\u001b[0m attention.in_proj_bias 1.1920928955078125e-06\n",
      "\u001b[36m(launch_and_fit pid=2354)\u001b[0m attention.out_proj.weight 9.5367431640625e-07\n",
      "\u001b[36m(launch_and_fit pid=2354)\u001b[0m attention.out_proj.bias 9.5367431640625e-07\n",
      "\u001b[36m(launch_and_fit pid=2354)\u001b[0m fc1.weight 1.1920928955078125e-06\n",
      "\u001b[36m(launch_and_fit pid=2354)\u001b[0m fc1.bias 1.430511474609375e-06\n",
      "\u001b[36m(launch_and_fit pid=2354)\u001b[0m fc2_mri.weight 1.1920928955078125e-06\n",
      "\u001b[36m(launch_and_fit pid=2354)\u001b[0m fc2_mri.bias 9.5367431640625e-07\n",
      "\u001b[36m(launch_and_fit pid=2354)\u001b[0m fc2_dna.weight 1.1920928955078125e-06\n",
      "\u001b[36m(launch_and_fit pid=2354)\u001b[0m fc2_dna.bias 9.5367431640625e-07\n",
      "\u001b[36m(launch_and_fit pid=2436)\u001b[0m Run with homomorphic encryption\n",
      "\u001b[36m(launch_and_fit pid=2379)\u001b[0m save graph in  results/FL/\n",
      "\u001b[36m(launch_and_fit pid=2379)\u001b[0m \tTrain Epoch: 10 \tTrain_loss_mri: 0.4916 | Train_acc_mri: 80.2218 | Train_loss_dna: 1.7142 | Train_acc_dna: 36.6532 | Validation_loss_mri: 0.7943 | Validation_acc_mri: 64.5833 | Validation_loss_dna: 1.6682 | Validation_acc_dna: 35.4167\n",
      "\u001b[36m(launch_and_fit pid=2379)\u001b[0m fc2_dna.bias 1.430511474609375e-06\u001b[32m [repeated 23x across cluster]\u001b[0m\n",
      "\u001b[36m(launch_and_fit pid=2379)\u001b[0m dna_net.qnn.weights 1.430511474609375e-06\n",
      "\u001b[36m(launch_and_fit pid=2379)\u001b[0m attention.in_proj_weight 9.5367431640625e-07\n",
      "\u001b[36m(launch_and_fit pid=2379)\u001b[0m attention.in_proj_bias 1.430511474609375e-06\n",
      "\u001b[36m(launch_and_fit pid=2379)\u001b[0m attention.out_proj.weight 1.1920928955078125e-06\n",
      "\u001b[36m(launch_and_fit pid=2379)\u001b[0m attention.out_proj.bias 1.1920928955078125e-06\n",
      "\u001b[36m(launch_and_fit pid=2436)\u001b[0m [Client 0, round 3] fit, config: {'learning_rate': 0.003, 'batch_size': '32', 'server_round': 3, 'local_epochs': 10}\n"
     ]
    },
    {
     "name": "stderr",
     "output_type": "stream",
     "text": [
      "  0%|\u001b[34m          \u001b[0m| 0/10 [00:00<?, ?it/s]\n",
      "100%|\u001b[34m██████████\u001b[0m| 10/10 [00:38<00:00,  3.86s/it]\u001b[32m [repeated 2x across cluster]\u001b[0m\n"
     ]
    },
    {
     "name": "stdout",
     "output_type": "stream",
     "text": [
      "\u001b[36m(launch_and_fit pid=2436)\u001b[0m Updated model\n",
      "\u001b[36m(launch_and_fit pid=2461)\u001b[0m Run with homomorphic encryption\n",
      "\u001b[36m(launch_and_fit pid=2436)\u001b[0m \tTrain Epoch: 1 \tTrain_loss_mri: 1.3217 | Train_acc_mri: 39.6181 | Train_loss_dna: 1.7990 | Train_acc_dna: 31.0880 | Validation_loss_mri: 1.2944 | Validation_acc_mri: 40.1042 | Validation_loss_dna: 1.9611 | Validation_acc_dna: 17.1875\n",
      "\u001b[36m(launch_and_fit pid=2461)\u001b[0m [Client 1, round 3] fit, config: {'learning_rate': 0.003, 'batch_size': '32', 'server_round': 3, 'local_epochs': 10}\n"
     ]
    },
    {
     "name": "stderr",
     "output_type": "stream",
     "text": [
      "  0%|\u001b[34m          \u001b[0m| 0/10 [00:00<?, ?it/s]\n",
      " 10%|\u001b[34m█         \u001b[0m| 1/10 [00:04<00:37,  4.15s/it]\u001b[32m [repeated 2x across cluster]\u001b[0m\n"
     ]
    },
    {
     "name": "stdout",
     "output_type": "stream",
     "text": [
      "\u001b[36m(launch_and_fit pid=2461)\u001b[0m Updated model\n",
      "\u001b[36m(launch_and_fit pid=2461)\u001b[0m \tTrain Epoch: 2 \tTrain_loss_mri: 1.0907 | Train_acc_mri: 53.4491 | Train_loss_dna: 1.8020 | Train_acc_dna: 29.4676 | Validation_loss_mri: 0.9561 | Validation_acc_mri: 67.7083 | Validation_loss_dna: 1.8302 | Validation_acc_dna: 15.6250\u001b[32m [repeated 3x across cluster]\u001b[0m\n"
     ]
    },
    {
     "name": "stderr",
     "output_type": "stream",
     "text": [
      " 30%|\u001b[34m███       \u001b[0m| 3/10 [00:11<00:26,  3.82s/it]\u001b[32m [repeated 3x across cluster]\u001b[0m\n"
     ]
    },
    {
     "name": "stdout",
     "output_type": "stream",
     "text": [
      "\u001b[36m(launch_and_fit pid=2436)\u001b[0m \tTrain Epoch: 4 \tTrain_loss_mri: 0.9870 | Train_acc_mri: 51.8634 | Train_loss_dna: 1.7370 | Train_acc_dna: 34.9537 | Validation_loss_mri: 0.9960 | Validation_acc_mri: 43.2292 | Validation_loss_dna: 2.0740 | Validation_acc_dna: 20.3125\u001b[32m [repeated 3x across cluster]\u001b[0m\n"
     ]
    },
    {
     "name": "stderr",
     "output_type": "stream",
     "text": [
      " 40%|\u001b[34m████      \u001b[0m| 4/10 [00:15<00:22,  3.74s/it]\u001b[32m [repeated 3x across cluster]\u001b[0m\n"
     ]
    },
    {
     "name": "stdout",
     "output_type": "stream",
     "text": [
      "\u001b[36m(launch_and_fit pid=2461)\u001b[0m \tTrain Epoch: 5 \tTrain_loss_mri: 0.7642 | Train_acc_mri: 59.6759 | Train_loss_dna: 1.7823 | Train_acc_dna: 31.0301 | Validation_loss_mri: 0.5991 | Validation_acc_mri: 66.1458 | Validation_loss_dna: 1.9073 | Validation_acc_dna: 18.7500\u001b[32m [repeated 3x across cluster]\u001b[0m\n"
     ]
    },
    {
     "name": "stderr",
     "output_type": "stream",
     "text": [
      " 60%|\u001b[34m██████    \u001b[0m| 6/10 [00:22<00:15,  3.75s/it]\u001b[32m [repeated 3x across cluster]\u001b[0m\n"
     ]
    },
    {
     "name": "stdout",
     "output_type": "stream",
     "text": [
      "\u001b[36m(launch_and_fit pid=2436)\u001b[0m \tTrain Epoch: 7 \tTrain_loss_mri: 0.8593 | Train_acc_mri: 62.4074 | Train_loss_dna: 1.6795 | Train_acc_dna: 35.4977 | Validation_loss_mri: 0.9720 | Validation_acc_mri: 47.9167 | Validation_loss_dna: 2.0616 | Validation_acc_dna: 18.7500\u001b[32m [repeated 3x across cluster]\u001b[0m\n"
     ]
    },
    {
     "name": "stderr",
     "output_type": "stream",
     "text": [
      " 70%|\u001b[34m███████   \u001b[0m| 7/10 [00:26<00:11,  3.77s/it]\u001b[32m [repeated 3x across cluster]\u001b[0m\n"
     ]
    },
    {
     "name": "stdout",
     "output_type": "stream",
     "text": [
      "\u001b[36m(launch_and_fit pid=2461)\u001b[0m \tTrain Epoch: 8 \tTrain_loss_mri: 1.0160 | Train_acc_mri: 57.4884 | Train_loss_dna: 1.7393 | Train_acc_dna: 32.5926 | Validation_loss_mri: 0.8293 | Validation_acc_mri: 64.5833 | Validation_loss_dna: 2.0690 | Validation_acc_dna: 17.1875\u001b[32m [repeated 3x across cluster]\u001b[0m\n"
     ]
    },
    {
     "name": "stderr",
     "output_type": "stream",
     "text": [
      " 90%|\u001b[34m█████████ \u001b[0m| 9/10 [00:34<00:03,  3.79s/it]\u001b[32m [repeated 3x across cluster]\u001b[0m\n"
     ]
    },
    {
     "name": "stdout",
     "output_type": "stream",
     "text": [
      "\u001b[36m(launch_and_fit pid=2436)\u001b[0m save graph in  results/FL/\n",
      "\u001b[36m(launch_and_fit pid=2436)\u001b[0m \tTrain Epoch: 10 \tTrain_loss_mri: 0.6204 | Train_acc_mri: 74.6528 | Train_loss_dna: 1.6160 | Train_acc_dna: 39.5023 | Validation_loss_mri: 1.3689 | Validation_acc_mri: 26.5625 | Validation_loss_dna: 2.0055 | Validation_acc_dna: 17.1875\u001b[32m [repeated 3x across cluster]\u001b[0m\n",
      "\u001b[36m(launch_and_fit pid=2436)\u001b[0m mri_net.features.0.weight 5.0067901611328125e-06\n",
      "\u001b[36m(launch_and_fit pid=2436)\u001b[0m mri_net.features.0.bias 1.6689300537109375e-06\n",
      "\u001b[36m(launch_and_fit pid=2436)\u001b[0m mri_net.features.3.weight 1.1920928955078125e-06\n",
      "\u001b[36m(launch_and_fit pid=2436)\u001b[0m mri_net.features.3.bias 1.1920928955078125e-06\n",
      "\u001b[36m(launch_and_fit pid=2436)\u001b[0m mri_net.classifier.0.weight 9.5367431640625e-07\n",
      "\u001b[36m(launch_and_fit pid=2436)\u001b[0m mri_net.classifier.0.bias 9.5367431640625e-07\n",
      "\u001b[36m(launch_and_fit pid=2436)\u001b[0m mri_net.classifier.2.weight 9.5367431640625e-07\n",
      "\u001b[36m(launch_and_fit pid=2436)\u001b[0m mri_net.classifier.2.bias 9.5367431640625e-07\n",
      "\u001b[36m(launch_and_fit pid=2436)\u001b[0m mri_net.classifier.3.weights 1.1920928955078125e-06\n",
      "\u001b[36m(launch_and_fit pid=2436)\u001b[0m dna_net.fc1.weight 1.1920928955078125e-06\n",
      "\u001b[36m(launch_and_fit pid=2436)\u001b[0m dna_net.fc1.bias 9.5367431640625e-07\n",
      "\u001b[36m(launch_and_fit pid=2436)\u001b[0m dna_net.fc2.weight 9.5367431640625e-07\n",
      "\u001b[36m(launch_and_fit pid=2436)\u001b[0m dna_net.fc2.bias 9.5367431640625e-07\n",
      "\u001b[36m(launch_and_fit pid=2436)\u001b[0m dna_net.fc3.weight 9.5367431640625e-07\n",
      "\u001b[36m(launch_and_fit pid=2436)\u001b[0m dna_net.fc3.bias 9.5367431640625e-07\n",
      "\u001b[36m(launch_and_fit pid=2436)\u001b[0m dna_net.fc4.weight 1.4781951904296875e-05\n",
      "\u001b[36m(launch_and_fit pid=2436)\u001b[0m dna_net.fc4.bias 1.430511474609375e-06\n",
      "\u001b[36m(launch_and_fit pid=2436)\u001b[0m dna_net.qnn.weights 9.5367431640625e-07\n",
      "\u001b[36m(launch_and_fit pid=2436)\u001b[0m attention.in_proj_weight 1.430511474609375e-06\n",
      "\u001b[36m(launch_and_fit pid=2436)\u001b[0m attention.in_proj_bias 1.430511474609375e-06\n",
      "\u001b[36m(launch_and_fit pid=2436)\u001b[0m attention.out_proj.weight 1.1920928955078125e-06\n",
      "\u001b[36m(launch_and_fit pid=2436)\u001b[0m attention.out_proj.bias 9.5367431640625e-07\n",
      "\u001b[36m(launch_and_fit pid=2436)\u001b[0m fc1.weight 1.430511474609375e-06\n",
      "\u001b[36m(launch_and_fit pid=2436)\u001b[0m fc1.bias 1.1920928955078125e-06\n",
      "\u001b[36m(launch_and_fit pid=2436)\u001b[0m fc2_mri.weight 9.5367431640625e-07\n",
      "\u001b[36m(launch_and_fit pid=2436)\u001b[0m fc2_mri.bias 9.5367431640625e-07\n",
      "\u001b[36m(launch_and_fit pid=2436)\u001b[0m fc2_dna.weight 1.1920928955078125e-06\n",
      "\u001b[36m(launch_and_fit pid=2436)\u001b[0m fc2_dna.bias 1.1920928955078125e-06\n"
     ]
    },
    {
     "name": "stderr",
     "output_type": "stream",
     "text": [
      "100%|\u001b[34m██████████\u001b[0m| 10/10 [00:37<00:00,  3.74s/it]\u001b[32m [repeated 3x across cluster]\u001b[0m\n",
      "DEBUG flwr 2024-08-05 07:24:07,816 | server.py:236 | fit_round 3 received 10 results and 0 failures\n"
     ]
    },
    {
     "name": "stdout",
     "output_type": "stream",
     "text": [
      "Saving round 3 aggregated_parameters...\n"
     ]
    },
    {
     "name": "stderr",
     "output_type": "stream",
     "text": [
      "DEBUG flwr 2024-08-05 07:24:09,756 | server.py:173 | evaluate_round 3: strategy sampled 10 clients (out of 10)\n"
     ]
    },
    {
     "name": "stdout",
     "output_type": "stream",
     "text": [
      "\u001b[36m(launch_and_evaluate pid=2528)\u001b[0m Run with homomorphic encryption\n",
      "\u001b[36m(launch_and_fit pid=2461)\u001b[0m save graph in  results/FL/\n",
      "\u001b[36m(launch_and_fit pid=2461)\u001b[0m \tTrain Epoch: 10 \tTrain_loss_mri: 0.7072 | Train_acc_mri: 69.3056 | Train_loss_dna: 1.7089 | Train_acc_dna: 34.2708 | Validation_loss_mri: 1.1396 | Validation_acc_mri: 46.3542 | Validation_loss_dna: 1.9836 | Validation_acc_dna: 15.6250\n",
      "\u001b[36m(launch_and_fit pid=2461)\u001b[0m fc2_dna.bias 1.6689300537109375e-06\u001b[32m [repeated 23x across cluster]\u001b[0m\n",
      "\u001b[36m(launch_and_fit pid=2461)\u001b[0m dna_net.qnn.weights 1.1920928955078125e-06\n",
      "\u001b[36m(launch_and_fit pid=2461)\u001b[0m attention.in_proj_weight 9.5367431640625e-07\n",
      "\u001b[36m(launch_and_fit pid=2461)\u001b[0m attention.in_proj_bias 9.5367431640625e-07\n",
      "\u001b[36m(launch_and_fit pid=2461)\u001b[0m attention.out_proj.weight 1.1920928955078125e-06\n",
      "\u001b[36m(launch_and_fit pid=2461)\u001b[0m attention.out_proj.bias 9.5367431640625e-07\n",
      "\u001b[36m(launch_and_evaluate pid=2528)\u001b[0m [Client 6] evaluate, config: {}\n",
      "\u001b[36m(launch_and_evaluate pid=2528)\u001b[0m Updated model\n",
      "\u001b[36m(launch_and_evaluate pid=2606)\u001b[0m Run with homomorphic encryption\u001b[32m [repeated 2x across cluster]\u001b[0m\n",
      "\u001b[36m(launch_and_evaluate pid=2529)\u001b[0m [Client 5] evaluate, config: {}\n",
      "\u001b[36m(launch_and_evaluate pid=2529)\u001b[0m Updated model\n",
      "\u001b[36m(launch_and_evaluate pid=2606)\u001b[0m [Client 4] evaluate, config: {}\n",
      "\u001b[36m(launch_and_evaluate pid=2606)\u001b[0m Updated model\n"
     ]
    },
    {
     "name": "stderr",
     "output_type": "stream",
     "text": [
      "\u001b[36m(launch_and_evaluate pid=2606)\u001b[0m /opt/conda/lib/python3.10/site-packages/sklearn/metrics/_ranking.py:1029: UndefinedMetricWarning: No positive samples in y_true, true positive value should be meaningless\n",
      "\u001b[36m(launch_and_evaluate pid=2606)\u001b[0m   warnings.warn(\n"
     ]
    },
    {
     "name": "stdout",
     "output_type": "stream",
     "text": [
      "\u001b[36m(launch_and_evaluate pid=2684)\u001b[0m Run with homomorphic encryption\u001b[32m [repeated 2x across cluster]\u001b[0m\n",
      "\u001b[36m(launch_and_evaluate pid=2608)\u001b[0m [Client 9] evaluate, config: {}\n",
      "\u001b[36m(launch_and_evaluate pid=2608)\u001b[0m Updated model\n",
      "\u001b[36m(launch_and_evaluate pid=2684)\u001b[0m [Client 3] evaluate, config: {}\n",
      "\u001b[36m(launch_and_evaluate pid=2684)\u001b[0m Updated model\n",
      "\u001b[36m(launch_and_evaluate pid=2762)\u001b[0m Run with homomorphic encryption\u001b[32m [repeated 2x across cluster]\u001b[0m\n",
      "\u001b[36m(launch_and_evaluate pid=2686)\u001b[0m [Client 7] evaluate, config: {}\n",
      "\u001b[36m(launch_and_evaluate pid=2686)\u001b[0m Updated model\n",
      "\u001b[36m(launch_and_evaluate pid=2762)\u001b[0m [Client 0] evaluate, config: {}\n",
      "\u001b[36m(launch_and_evaluate pid=2764)\u001b[0m Updated model\n",
      "\u001b[36m(launch_and_evaluate pid=2840)\u001b[0m Run with homomorphic encryption\u001b[32m [repeated 2x across cluster]\u001b[0m\n",
      "\u001b[36m(launch_and_evaluate pid=2764)\u001b[0m [Client 2] evaluate, config: {}\n",
      "\u001b[36m(launch_and_evaluate pid=2762)\u001b[0m Updated model\n",
      "\u001b[36m(launch_and_evaluate pid=2840)\u001b[0m [Client 8] evaluate, config: {}\n",
      "\u001b[36m(launch_and_evaluate pid=2840)\u001b[0m Updated model\n"
     ]
    },
    {
     "name": "stderr",
     "output_type": "stream",
     "text": [
      "\u001b[36m(launch_and_evaluate pid=2840)\u001b[0m /opt/conda/lib/python3.10/site-packages/sklearn/metrics/_ranking.py:1029: UndefinedMetricWarning: No positive samples in y_true, true positive value should be meaningless\u001b[32m [repeated 2x across cluster]\u001b[0m\n",
      "\u001b[36m(launch_and_evaluate pid=2840)\u001b[0m   warnings.warn(\u001b[32m [repeated 2x across cluster]\u001b[0m\n",
      "DEBUG flwr 2024-08-05 07:25:26,822 | server.py:187 | evaluate_round 3 received 10 results and 0 failures\n",
      "DEBUG flwr 2024-08-05 07:25:26,824 | server.py:222 | fit_round 4: strategy sampled 10 clients (out of 10)\n"
     ]
    },
    {
     "name": "stdout",
     "output_type": "stream",
     "text": [
      "\u001b[36m(launch_and_fit pid=2928)\u001b[0m Run with homomorphic encryption\u001b[32m [repeated 2x across cluster]\u001b[0m\n",
      "\u001b[36m(launch_and_evaluate pid=2842)\u001b[0m [Client 1] evaluate, config: {}\n",
      "\u001b[36m(launch_and_evaluate pid=2842)\u001b[0m Updated model\n",
      "\u001b[36m(launch_and_fit pid=2928)\u001b[0m [Client 1, round 4] fit, config: {'learning_rate': 0.003, 'batch_size': '32', 'server_round': 4, 'local_epochs': 10}\n"
     ]
    },
    {
     "name": "stderr",
     "output_type": "stream",
     "text": [
      "  0%|\u001b[34m          \u001b[0m| 0/10 [00:00<?, ?it/s]\n"
     ]
    },
    {
     "name": "stdout",
     "output_type": "stream",
     "text": [
      "\u001b[36m(launch_and_fit pid=2928)\u001b[0m Updated model\n"
     ]
    },
    {
     "name": "stderr",
     "output_type": "stream",
     "text": [
      " 10%|\u001b[34m█         \u001b[0m| 1/10 [00:04<00:37,  4.15s/it]\n"
     ]
    },
    {
     "name": "stdout",
     "output_type": "stream",
     "text": [
      "\u001b[36m(launch_and_fit pid=2928)\u001b[0m \tTrain Epoch: 1 \tTrain_loss_mri: 0.8488 | Train_acc_mri: 62.7199 | Train_loss_dna: 1.7882 | Train_acc_dna: 28.7269 | Validation_loss_mri: 0.6401 | Validation_acc_mri: 58.8542 | Validation_loss_dna: 1.9188 | Validation_acc_dna: 18.7500\n",
      "\u001b[36m(launch_and_fit pid=2929)\u001b[0m Run with homomorphic encryption\n",
      "\u001b[36m(launch_and_fit pid=2929)\u001b[0m [Client 2, round 4] fit, config: {'learning_rate': 0.003, 'batch_size': '32', 'server_round': 4, 'local_epochs': 10}\n"
     ]
    },
    {
     "name": "stderr",
     "output_type": "stream",
     "text": [
      "  0%|\u001b[34m          \u001b[0m| 0/10 [00:00<?, ?it/s]\n"
     ]
    },
    {
     "name": "stdout",
     "output_type": "stream",
     "text": [
      "\u001b[36m(launch_and_fit pid=2929)\u001b[0m Updated model\n"
     ]
    },
    {
     "name": "stderr",
     "output_type": "stream",
     "text": [
      " 30%|\u001b[34m███       \u001b[0m| 3/10 [00:11<00:26,  3.84s/it]\u001b[32m [repeated 4x across cluster]\u001b[0m\n"
     ]
    },
    {
     "name": "stdout",
     "output_type": "stream",
     "text": [
      "\u001b[36m(launch_and_fit pid=2928)\u001b[0m \tTrain Epoch: 3 \tTrain_loss_mri: 0.5269 | Train_acc_mri: 74.7685 | Train_loss_dna: 1.7517 | Train_acc_dna: 32.0255 | Validation_loss_mri: 0.4724 | Validation_acc_mri: 70.8333 | Validation_loss_dna: 1.9673 | Validation_acc_dna: 14.0625\u001b[32m [repeated 4x across cluster]\u001b[0m\n"
     ]
    },
    {
     "name": "stderr",
     "output_type": "stream",
     "text": [
      " 50%|\u001b[34m█████     \u001b[0m| 5/10 [00:18<00:18,  3.72s/it]\u001b[32m [repeated 4x across cluster]\u001b[0m\n"
     ]
    },
    {
     "name": "stdout",
     "output_type": "stream",
     "text": [
      "\u001b[36m(launch_and_fit pid=2928)\u001b[0m \tTrain Epoch: 5 \tTrain_loss_mri: 0.3404 | Train_acc_mri: 93.1250 | Train_loss_dna: 1.6794 | Train_acc_dna: 34.6991 | Validation_loss_mri: 0.4405 | Validation_acc_mri: 87.5000 | Validation_loss_dna: 2.1450 | Validation_acc_dna: 14.0625\u001b[32m [repeated 4x across cluster]\u001b[0m\n",
      "\u001b[36m(launch_and_fit pid=2929)\u001b[0m \tTrain Epoch: 6 \tTrain_loss_mri: 0.2803 | Train_acc_mri: 95.8796 | Train_loss_dna: 1.5946 | Train_acc_dna: 37.8241 | Validation_loss_mri: 0.6873 | Validation_acc_mri: 55.7292 | Validation_loss_dna: 1.7657 | Validation_acc_dna: 21.3542\u001b[32m [repeated 3x across cluster]\u001b[0m\n"
     ]
    },
    {
     "name": "stderr",
     "output_type": "stream",
     "text": [
      " 60%|\u001b[34m██████    \u001b[0m| 6/10 [00:23<00:15,  3.98s/it]\u001b[32m [repeated 3x across cluster]\u001b[0m\n",
      " 80%|\u001b[34m████████  \u001b[0m| 8/10 [00:30<00:07,  3.73s/it]\u001b[32m [repeated 3x across cluster]\u001b[0m\n"
     ]
    },
    {
     "name": "stdout",
     "output_type": "stream",
     "text": [
      "\u001b[36m(launch_and_fit pid=2928)\u001b[0m \tTrain Epoch: 8 \tTrain_loss_mri: 0.1521 | Train_acc_mri: 97.5000 | Train_loss_dna: 1.5950 | Train_acc_dna: 37.5694 | Validation_loss_mri: 0.3920 | Validation_acc_mri: 89.0625 | Validation_loss_dna: 2.2531 | Validation_acc_dna: 15.6250\u001b[32m [repeated 3x across cluster]\u001b[0m\n",
      "\u001b[36m(launch_and_fit pid=2929)\u001b[0m \tTrain Epoch: 9 \tTrain_loss_mri: 0.1069 | Train_acc_mri: 98.4375 | Train_loss_dna: 1.4607 | Train_acc_dna: 40.6713 | Validation_loss_mri: 1.2138 | Validation_acc_mri: 52.6042 | Validation_loss_dna: 1.7178 | Validation_acc_dna: 26.0417\u001b[32m [repeated 3x across cluster]\u001b[0m\n"
     ]
    },
    {
     "name": "stderr",
     "output_type": "stream",
     "text": [
      " 90%|\u001b[34m█████████ \u001b[0m| 9/10 [00:35<00:03,  3.86s/it]\u001b[32m [repeated 3x across cluster]\u001b[0m\n"
     ]
    },
    {
     "name": "stdout",
     "output_type": "stream",
     "text": [
      "\u001b[36m(launch_and_fit pid=2928)\u001b[0m save graph in  results/FL/\n",
      "\u001b[36m(launch_and_fit pid=2928)\u001b[0m mri_net.features.0.weight 5.245208740234375e-06\n",
      "\u001b[36m(launch_and_fit pid=2928)\u001b[0m mri_net.features.0.bias 1.1920928955078125e-06\n",
      "\u001b[36m(launch_and_fit pid=2928)\u001b[0m mri_net.features.3.weight 9.5367431640625e-07\n",
      "\u001b[36m(launch_and_fit pid=2928)\u001b[0m mri_net.features.3.bias 7.152557373046875e-07\n",
      "\u001b[36m(launch_and_fit pid=2928)\u001b[0m mri_net.classifier.0.weight 1.1920928955078125e-06\n",
      "\u001b[36m(launch_and_fit pid=2928)\u001b[0m mri_net.classifier.0.bias 9.5367431640625e-07\n",
      "\u001b[36m(launch_and_fit pid=2928)\u001b[0m mri_net.classifier.2.weight 9.5367431640625e-07\n",
      "\u001b[36m(launch_and_fit pid=2928)\u001b[0m mri_net.classifier.2.bias 9.5367431640625e-07\n",
      "\u001b[36m(launch_and_fit pid=2928)\u001b[0m mri_net.classifier.3.weights 1.1920928955078125e-06\n",
      "\u001b[36m(launch_and_fit pid=2928)\u001b[0m dna_net.fc1.weight 9.5367431640625e-07\n",
      "\u001b[36m(launch_and_fit pid=2928)\u001b[0m dna_net.fc1.bias 1.1920928955078125e-06\n",
      "\u001b[36m(launch_and_fit pid=2928)\u001b[0m dna_net.fc2.weight 9.5367431640625e-07\n",
      "\u001b[36m(launch_and_fit pid=2928)\u001b[0m dna_net.fc2.bias 9.5367431640625e-07\n",
      "\u001b[36m(launch_and_fit pid=2928)\u001b[0m dna_net.fc3.weight 9.5367431640625e-07\n",
      "\u001b[36m(launch_and_fit pid=2928)\u001b[0m dna_net.fc3.bias 1.1920928955078125e-06\n",
      "\u001b[36m(launch_and_fit pid=2928)\u001b[0m dna_net.fc4.weight 7.152557373046875e-07\n",
      "\u001b[36m(launch_and_fit pid=2928)\u001b[0m dna_net.fc4.bias 9.5367431640625e-07\n",
      "\u001b[36m(launch_and_fit pid=2928)\u001b[0m dna_net.qnn.weights 1.1920928955078125e-06\n",
      "\u001b[36m(launch_and_fit pid=2928)\u001b[0m attention.in_proj_weight 1.1920928955078125e-06\n",
      "\u001b[36m(launch_and_fit pid=2928)\u001b[0m attention.in_proj_bias 9.5367431640625e-07\n",
      "\u001b[36m(launch_and_fit pid=2928)\u001b[0m attention.out_proj.weight 9.5367431640625e-07\n",
      "\u001b[36m(launch_and_fit pid=2928)\u001b[0m attention.out_proj.bias 9.5367431640625e-07\n",
      "\u001b[36m(launch_and_fit pid=2928)\u001b[0m fc1.weight 1.1920928955078125e-06\n",
      "\u001b[36m(launch_and_fit pid=2928)\u001b[0m fc1.bias 9.5367431640625e-07\n",
      "\u001b[36m(launch_and_fit pid=2928)\u001b[0m fc2_mri.weight 9.5367431640625e-07\n",
      "\u001b[36m(launch_and_fit pid=2928)\u001b[0m fc2_mri.bias 7.152557373046875e-07\n",
      "\u001b[36m(launch_and_fit pid=2928)\u001b[0m fc2_dna.weight 9.5367431640625e-07\n",
      "\u001b[36m(launch_and_fit pid=2928)\u001b[0m fc2_dna.bias 1.1920928955078125e-06\n",
      "\u001b[36m(launch_and_fit pid=3012)\u001b[0m Run with homomorphic encryption\n",
      "\u001b[36m(launch_and_fit pid=2929)\u001b[0m \tTrain Epoch: 10 \tTrain_loss_mri: 0.1125 | Train_acc_mri: 97.8125 | Train_loss_dna: 1.4200 | Train_acc_dna: 43.1944 | Validation_loss_mri: 0.7796 | Validation_acc_mri: 72.3958 | Validation_loss_dna: 1.7169 | Validation_acc_dna: 42.7083\u001b[32m [repeated 2x across cluster]\u001b[0m\n",
      "\u001b[36m(launch_and_fit pid=2929)\u001b[0m save graph in  results/FL/\n",
      "\u001b[36m(launch_and_fit pid=2929)\u001b[0m fc2_dna.bias 1.1920928955078125e-06\u001b[32m [repeated 23x across cluster]\u001b[0m\n",
      "\u001b[36m(launch_and_fit pid=2929)\u001b[0m dna_net.qnn.weights 9.5367431640625e-07\n",
      "\u001b[36m(launch_and_fit pid=2929)\u001b[0m attention.in_proj_weight 9.5367431640625e-07\n",
      "\u001b[36m(launch_and_fit pid=2929)\u001b[0m attention.in_proj_bias 9.5367431640625e-07\n",
      "\u001b[36m(launch_and_fit pid=2929)\u001b[0m attention.out_proj.weight 1.430511474609375e-06\n",
      "\u001b[36m(launch_and_fit pid=2929)\u001b[0m attention.out_proj.bias 1.1920928955078125e-06\n",
      "\u001b[36m(launch_and_fit pid=3012)\u001b[0m [Client 4, round 4] fit, config: {'learning_rate': 0.003, 'batch_size': '32', 'server_round': 4, 'local_epochs': 10}\n",
      "\u001b[36m(launch_and_fit pid=3012)\u001b[0m Updated model\n"
     ]
    },
    {
     "name": "stderr",
     "output_type": "stream",
     "text": [
      "  0%|\u001b[34m          \u001b[0m| 0/10 [00:00<?, ?it/s]\n",
      "100%|\u001b[34m██████████\u001b[0m| 10/10 [00:39<00:00,  3.93s/it]\u001b[32m [repeated 2x across cluster]\u001b[0m\n"
     ]
    },
    {
     "name": "stdout",
     "output_type": "stream",
     "text": [
      "\u001b[36m(launch_and_fit pid=3037)\u001b[0m Run with homomorphic encryption\n",
      "\u001b[36m(launch_and_fit pid=3012)\u001b[0m \tTrain Epoch: 1 \tTrain_loss_mri: 0.9965 | Train_acc_mri: 53.9931 | Train_loss_dna: 1.7713 | Train_acc_dna: 30.7176 | Validation_loss_mri: 0.9069 | Validation_acc_mri: 63.0208 | Validation_loss_dna: 1.7302 | Validation_acc_dna: 40.1042\n",
      "\u001b[36m(launch_and_fit pid=3037)\u001b[0m [Client 5, round 4] fit, config: {'learning_rate': 0.003, 'batch_size': '32', 'server_round': 4, 'local_epochs': 10}\n",
      "\u001b[36m(launch_and_fit pid=3037)\u001b[0m \tTrain Epoch: 1 \tTrain_loss_mri: 0.8779 | Train_acc_mri: 62.0023 | Train_loss_dna: 1.7872 | Train_acc_dna: 31.8287 | Validation_loss_mri: 0.4610 | Validation_acc_mri: 85.9375 | Validation_loss_dna: 1.7868 | Validation_acc_dna: 15.6250\n",
      "\u001b[36m(launch_and_fit pid=3037)\u001b[0m Updated model\n"
     ]
    },
    {
     "name": "stderr",
     "output_type": "stream",
     "text": [
      "  0%|\u001b[34m          \u001b[0m| 0/10 [00:00<?, ?it/s]\n",
      " 10%|\u001b[34m█         \u001b[0m| 1/10 [00:04<00:38,  4.25s/it]\u001b[32m [repeated 2x across cluster]\u001b[0m\n"
     ]
    },
    {
     "name": "stdout",
     "output_type": "stream",
     "text": [
      "\u001b[36m(launch_and_fit pid=3012)\u001b[0m \tTrain Epoch: 3 \tTrain_loss_mri: 0.6127 | Train_acc_mri: 74.5370 | Train_loss_dna: 1.7143 | Train_acc_dna: 31.5394 | Validation_loss_mri: 0.9618 | Validation_acc_mri: 59.8958 | Validation_loss_dna: 1.6482 | Validation_acc_dna: 38.5417\u001b[32m [repeated 3x across cluster]\u001b[0m\n"
     ]
    },
    {
     "name": "stderr",
     "output_type": "stream",
     "text": [
      " 30%|\u001b[34m███       \u001b[0m| 3/10 [00:11<00:26,  3.86s/it]\u001b[32m [repeated 3x across cluster]\u001b[0m\n"
     ]
    },
    {
     "name": "stdout",
     "output_type": "stream",
     "text": [
      "\u001b[36m(launch_and_fit pid=3037)\u001b[0m \tTrain Epoch: 4 \tTrain_loss_mri: 0.4134 | Train_acc_mri: 90.1389 | Train_loss_dna: 1.7438 | Train_acc_dna: 33.2176 | Validation_loss_mri: 0.5335 | Validation_acc_mri: 85.9375 | Validation_loss_dna: 1.8433 | Validation_acc_dna: 15.6250\u001b[32m [repeated 3x across cluster]\u001b[0m\n"
     ]
    },
    {
     "name": "stderr",
     "output_type": "stream",
     "text": [
      " 40%|\u001b[34m████      \u001b[0m| 4/10 [00:15<00:22,  3.81s/it]\u001b[32m [repeated 3x across cluster]\u001b[0m\n"
     ]
    },
    {
     "name": "stdout",
     "output_type": "stream",
     "text": [
      "\u001b[36m(launch_and_fit pid=3012)\u001b[0m \tTrain Epoch: 6 \tTrain_loss_mri: 0.3182 | Train_acc_mri: 90.9375 | Train_loss_dna: 1.6501 | Train_acc_dna: 35.6366 | Validation_loss_mri: 1.4031 | Validation_acc_mri: 63.0208 | Validation_loss_dna: 1.5859 | Validation_acc_dna: 47.9167\u001b[32m [repeated 3x across cluster]\u001b[0m\n"
     ]
    },
    {
     "name": "stderr",
     "output_type": "stream",
     "text": [
      " 60%|\u001b[34m██████    \u001b[0m| 6/10 [00:23<00:15,  3.81s/it]\u001b[32m [repeated 3x across cluster]\u001b[0m\n"
     ]
    },
    {
     "name": "stdout",
     "output_type": "stream",
     "text": [
      "\u001b[36m(launch_and_fit pid=3037)\u001b[0m \tTrain Epoch: 7 \tTrain_loss_mri: 0.2059 | Train_acc_mri: 95.8796 | Train_loss_dna: 1.6761 | Train_acc_dna: 33.9005 | Validation_loss_mri: 0.6899 | Validation_acc_mri: 69.2708 | Validation_loss_dna: 2.0397 | Validation_acc_dna: 18.7500\u001b[32m [repeated 3x across cluster]\u001b[0m\n"
     ]
    },
    {
     "name": "stderr",
     "output_type": "stream",
     "text": [
      " 70%|\u001b[34m███████   \u001b[0m| 7/10 [00:26<00:11,  3.78s/it]\u001b[32m [repeated 3x across cluster]\u001b[0m\n"
     ]
    },
    {
     "name": "stdout",
     "output_type": "stream",
     "text": [
      "\u001b[36m(launch_and_fit pid=3012)\u001b[0m \tTrain Epoch: 9 \tTrain_loss_mri: 0.1232 | Train_acc_mri: 97.7546 | Train_loss_dna: 1.5579 | Train_acc_dna: 39.0162 | Validation_loss_mri: 1.4774 | Validation_acc_mri: 61.4583 | Validation_loss_dna: 1.5873 | Validation_acc_dna: 44.7917\u001b[32m [repeated 3x across cluster]\u001b[0m\n"
     ]
    },
    {
     "name": "stderr",
     "output_type": "stream",
     "text": [
      " 90%|\u001b[34m█████████ \u001b[0m| 9/10 [00:34<00:03,  3.83s/it]\u001b[32m [repeated 3x across cluster]\u001b[0m\n"
     ]
    },
    {
     "name": "stdout",
     "output_type": "stream",
     "text": [
      "\u001b[36m(launch_and_fit pid=3012)\u001b[0m save graph in  results/FL/\n",
      "\u001b[36m(launch_and_fit pid=3012)\u001b[0m mri_net.features.0.weight 6.67572021484375e-06\n",
      "\u001b[36m(launch_and_fit pid=3012)\u001b[0m mri_net.features.0.bias 1.9073486328125e-06\n",
      "\u001b[36m(launch_and_fit pid=3012)\u001b[0m mri_net.features.3.weight 1.9073486328125e-06\n",
      "\u001b[36m(launch_and_fit pid=3012)\u001b[0m mri_net.features.3.bias 1.430511474609375e-06\n",
      "\u001b[36m(launch_and_fit pid=3012)\u001b[0m mri_net.classifier.0.weight 1.6689300537109375e-06\n",
      "\u001b[36m(launch_and_fit pid=3012)\u001b[0m mri_net.classifier.0.bias 1.430511474609375e-06\n",
      "\u001b[36m(launch_and_fit pid=3012)\u001b[0m mri_net.classifier.2.weight 1.6689300537109375e-06\n",
      "\u001b[36m(launch_and_fit pid=3012)\u001b[0m mri_net.classifier.2.bias 1.430511474609375e-06\n",
      "\u001b[36m(launch_and_fit pid=3012)\u001b[0m mri_net.classifier.3.weights 1.6689300537109375e-06\n",
      "\u001b[36m(launch_and_fit pid=3012)\u001b[0m dna_net.fc1.weight 1.1920928955078125e-06\n",
      "\u001b[36m(launch_and_fit pid=3012)\u001b[0m dna_net.fc1.bias 1.1920928955078125e-06\n",
      "\u001b[36m(launch_and_fit pid=3012)\u001b[0m dna_net.fc2.weight 1.1920928955078125e-06\n",
      "\u001b[36m(launch_and_fit pid=3012)\u001b[0m dna_net.fc2.bias 1.6689300537109375e-06\n",
      "\u001b[36m(launch_and_fit pid=3012)\u001b[0m dna_net.fc3.weight 1.430511474609375e-06\n",
      "\u001b[36m(launch_and_fit pid=3012)\u001b[0m dna_net.fc3.bias 1.1920928955078125e-06\n",
      "\u001b[36m(launch_and_fit pid=3012)\u001b[0m dna_net.fc4.weight 1.430511474609375e-06\n",
      "\u001b[36m(launch_and_fit pid=3012)\u001b[0m dna_net.fc4.bias 1.430511474609375e-06\n",
      "\u001b[36m(launch_and_fit pid=3012)\u001b[0m dna_net.qnn.weights 1.1920928955078125e-06\n",
      "\u001b[36m(launch_and_fit pid=3012)\u001b[0m attention.in_proj_weight 1.1920928955078125e-06\n",
      "\u001b[36m(launch_and_fit pid=3012)\u001b[0m attention.in_proj_bias 1.1920928955078125e-06\n",
      "\u001b[36m(launch_and_fit pid=3012)\u001b[0m attention.out_proj.weight 1.430511474609375e-06\n",
      "\u001b[36m(launch_and_fit pid=3012)\u001b[0m attention.out_proj.bias 1.430511474609375e-06\n",
      "\u001b[36m(launch_and_fit pid=3012)\u001b[0m fc1.weight 1.6689300537109375e-06\n",
      "\u001b[36m(launch_and_fit pid=3012)\u001b[0m fc1.bias 1.6689300537109375e-06\n",
      "\u001b[36m(launch_and_fit pid=3012)\u001b[0m fc2_mri.weight 1.6689300537109375e-06\n",
      "\u001b[36m(launch_and_fit pid=3012)\u001b[0m fc2_mri.bias 1.1920928955078125e-06\n",
      "\u001b[36m(launch_and_fit pid=3012)\u001b[0m fc2_dna.weight 1.430511474609375e-06\n",
      "\u001b[36m(launch_and_fit pid=3012)\u001b[0m fc2_dna.bias 1.6689300537109375e-06\n",
      "\u001b[36m(launch_and_fit pid=3037)\u001b[0m \tTrain Epoch: 10 \tTrain_loss_mri: 0.0975 | Train_acc_mri: 97.8125 | Train_loss_dna: 1.5935 | Train_acc_dna: 36.4583 | Validation_loss_mri: 0.7236 | Validation_acc_mri: 85.9375 | Validation_loss_dna: 2.0851 | Validation_acc_dna: 15.6250\u001b[32m [repeated 3x across cluster]\u001b[0m\n"
     ]
    },
    {
     "name": "stderr",
     "output_type": "stream",
     "text": [
      "100%|\u001b[34m██████████\u001b[0m| 10/10 [00:38<00:00,  3.84s/it]\u001b[32m [repeated 3x across cluster]\u001b[0m\n"
     ]
    },
    {
     "name": "stdout",
     "output_type": "stream",
     "text": [
      "\u001b[36m(launch_and_fit pid=3095)\u001b[0m Run with homomorphic encryption\n",
      "\u001b[36m(launch_and_fit pid=3037)\u001b[0m save graph in  results/FL/\n",
      "\u001b[36m(launch_and_fit pid=3037)\u001b[0m fc2_dna.bias 9.5367431640625e-07\u001b[32m [repeated 23x across cluster]\u001b[0m\n",
      "\u001b[36m(launch_and_fit pid=3037)\u001b[0m dna_net.qnn.weights 9.5367431640625e-07\n",
      "\u001b[36m(launch_and_fit pid=3037)\u001b[0m attention.in_proj_weight 1.1920928955078125e-06\n",
      "\u001b[36m(launch_and_fit pid=3037)\u001b[0m attention.in_proj_bias 1.1920928955078125e-06\n",
      "\u001b[36m(launch_and_fit pid=3037)\u001b[0m attention.out_proj.weight 1.1920928955078125e-06\n",
      "\u001b[36m(launch_and_fit pid=3037)\u001b[0m attention.out_proj.bias 9.5367431640625e-07\n",
      "\u001b[36m(launch_and_fit pid=3095)\u001b[0m [Client 6, round 4] fit, config: {'learning_rate': 0.003, 'batch_size': '32', 'server_round': 4, 'local_epochs': 10}\n",
      "\u001b[36m(launch_and_fit pid=3095)\u001b[0m Updated model\n"
     ]
    },
    {
     "name": "stderr",
     "output_type": "stream",
     "text": [
      "  0%|\u001b[34m          \u001b[0m| 0/10 [00:00<?, ?it/s]\n"
     ]
    },
    {
     "name": "stdout",
     "output_type": "stream",
     "text": [
      "\u001b[36m(launch_and_fit pid=3095)\u001b[0m \tTrain Epoch: 1 \tTrain_loss_mri: 0.9048 | Train_acc_mri: 62.7431 | Train_loss_dna: 1.7331 | Train_acc_dna: 36.0069 | Validation_loss_mri: 1.1735 | Validation_acc_mri: 59.8958 | Validation_loss_dna: 1.6791 | Validation_acc_dna: 44.2708\n",
      "\u001b[36m(launch_and_fit pid=3120)\u001b[0m Run with homomorphic encryption\n",
      "\u001b[36m(launch_and_fit pid=3120)\u001b[0m [Client 7, round 4] fit, config: {'learning_rate': 0.003, 'batch_size': '32', 'server_round': 4, 'local_epochs': 10}\n"
     ]
    },
    {
     "name": "stderr",
     "output_type": "stream",
     "text": [
      " 10%|\u001b[34m█         \u001b[0m| 1/10 [00:04<00:38,  4.28s/it]\n"
     ]
    },
    {
     "name": "stdout",
     "output_type": "stream",
     "text": [
      "\u001b[36m(launch_and_fit pid=3120)\u001b[0m Updated model\n"
     ]
    },
    {
     "name": "stderr",
     "output_type": "stream",
     "text": [
      "  0%|\u001b[34m          \u001b[0m| 0/10 [00:00<?, ?it/s]\n"
     ]
    },
    {
     "name": "stdout",
     "output_type": "stream",
     "text": [
      "\u001b[36m(launch_and_fit pid=3120)\u001b[0m \tTrain Epoch: 2 \tTrain_loss_mri: 0.7731 | Train_acc_mri: 66.0417 | Train_loss_dna: 1.7981 | Train_acc_dna: 27.9051 | Validation_loss_mri: 0.9271 | Validation_acc_mri: 70.8333 | Validation_loss_dna: 1.5066 | Validation_acc_dna: 52.0833\u001b[32m [repeated 3x across cluster]\u001b[0m\n"
     ]
    },
    {
     "name": "stderr",
     "output_type": "stream",
     "text": [
      " 20%|\u001b[34m██        \u001b[0m| 2/10 [00:08<00:32,  4.02s/it]\u001b[32m [repeated 3x across cluster]\u001b[0m\n"
     ]
    },
    {
     "name": "stdout",
     "output_type": "stream",
     "text": [
      "\u001b[36m(launch_and_fit pid=3095)\u001b[0m \tTrain Epoch: 4 \tTrain_loss_mri: 0.4685 | Train_acc_mri: 87.1296 | Train_loss_dna: 1.6425 | Train_acc_dna: 38.2755 | Validation_loss_mri: 1.1969 | Validation_acc_mri: 69.2708 | Validation_loss_dna: 1.6616 | Validation_acc_dna: 27.6042\u001b[32m [repeated 3x across cluster]\u001b[0m\n"
     ]
    },
    {
     "name": "stderr",
     "output_type": "stream",
     "text": [
      " 40%|\u001b[34m████      \u001b[0m| 4/10 [00:16<00:23,  3.96s/it]\u001b[32m [repeated 3x across cluster]\u001b[0m\n"
     ]
    },
    {
     "name": "stdout",
     "output_type": "stream",
     "text": [
      "\u001b[36m(launch_and_fit pid=3120)\u001b[0m \tTrain Epoch: 5 \tTrain_loss_mri: 0.4535 | Train_acc_mri: 80.6481 | Train_loss_dna: 1.7656 | Train_acc_dna: 31.0069 | Validation_loss_mri: 0.6762 | Validation_acc_mri: 72.3958 | Validation_loss_dna: 1.5501 | Validation_acc_dna: 48.9583\u001b[32m [repeated 3x across cluster]\u001b[0m\n"
     ]
    },
    {
     "name": "stderr",
     "output_type": "stream",
     "text": [
      " 50%|\u001b[34m█████     \u001b[0m| 5/10 [00:19<00:19,  3.85s/it]\u001b[32m [repeated 3x across cluster]\u001b[0m\n"
     ]
    },
    {
     "name": "stdout",
     "output_type": "stream",
     "text": [
      "\u001b[36m(launch_and_fit pid=3095)\u001b[0m \tTrain Epoch: 7 \tTrain_loss_mri: 0.2264 | Train_acc_mri: 96.8171 | Train_loss_dna: 1.6145 | Train_acc_dna: 38.2755 | Validation_loss_mri: 1.8155 | Validation_acc_mri: 55.7292 | Validation_loss_dna: 1.7714 | Validation_acc_dna: 47.3958\u001b[32m [repeated 3x across cluster]\u001b[0m\n"
     ]
    },
    {
     "name": "stderr",
     "output_type": "stream",
     "text": [
      " 70%|\u001b[34m███████   \u001b[0m| 7/10 [00:27<00:11,  3.82s/it]\u001b[32m [repeated 3x across cluster]\u001b[0m\n"
     ]
    },
    {
     "name": "stdout",
     "output_type": "stream",
     "text": [
      "\u001b[36m(launch_and_fit pid=3120)\u001b[0m \tTrain Epoch: 8 \tTrain_loss_mri: 0.2027 | Train_acc_mri: 96.5046 | Train_loss_dna: 1.6606 | Train_acc_dna: 37.4769 | Validation_loss_mri: 0.7170 | Validation_acc_mri: 72.3958 | Validation_loss_dna: 1.4543 | Validation_acc_dna: 47.3958\u001b[32m [repeated 3x across cluster]\u001b[0m\n"
     ]
    },
    {
     "name": "stderr",
     "output_type": "stream",
     "text": [
      " 80%|\u001b[34m████████  \u001b[0m| 8/10 [00:30<00:07,  3.78s/it]\u001b[32m [repeated 3x across cluster]\u001b[0m\n"
     ]
    },
    {
     "name": "stdout",
     "output_type": "stream",
     "text": [
      "\u001b[36m(launch_and_fit pid=3095)\u001b[0m save graph in  results/FL/\n",
      "\u001b[36m(launch_and_fit pid=3095)\u001b[0m \tTrain Epoch: 10 \tTrain_loss_mri: 0.1462 | Train_acc_mri: 97.1296 | Train_loss_dna: 1.5370 | Train_acc_dna: 42.3380 | Validation_loss_mri: 1.7997 | Validation_acc_mri: 66.1458 | Validation_loss_dna: 1.8883 | Validation_acc_dna: 42.7083\u001b[32m [repeated 3x across cluster]\u001b[0m\n"
     ]
    },
    {
     "name": "stderr",
     "output_type": "stream",
     "text": [
      "100%|\u001b[34m██████████\u001b[0m| 10/10 [00:38<00:00,  3.87s/it]\u001b[32m [repeated 3x across cluster]\u001b[0m\n"
     ]
    },
    {
     "name": "stdout",
     "output_type": "stream",
     "text": [
      "\u001b[36m(launch_and_fit pid=3095)\u001b[0m mri_net.features.0.weight 5.0067901611328125e-06\n",
      "\u001b[36m(launch_and_fit pid=3095)\u001b[0m mri_net.features.0.bias 1.1920928955078125e-06\n",
      "\u001b[36m(launch_and_fit pid=3095)\u001b[0m mri_net.features.3.weight 9.5367431640625e-07\n",
      "\u001b[36m(launch_and_fit pid=3095)\u001b[0m mri_net.features.3.bias 1.1920928955078125e-06\n",
      "\u001b[36m(launch_and_fit pid=3095)\u001b[0m mri_net.classifier.0.weight 1.430511474609375e-06\n",
      "\u001b[36m(launch_and_fit pid=3095)\u001b[0m mri_net.classifier.0.bias 9.5367431640625e-07\n",
      "\u001b[36m(launch_and_fit pid=3095)\u001b[0m mri_net.classifier.2.weight 9.5367431640625e-07\n",
      "\u001b[36m(launch_and_fit pid=3095)\u001b[0m mri_net.classifier.2.bias 9.5367431640625e-07\n",
      "\u001b[36m(launch_and_fit pid=3095)\u001b[0m mri_net.classifier.3.weights 1.1920928955078125e-06\n",
      "\u001b[36m(launch_and_fit pid=3095)\u001b[0m dna_net.fc1.weight 9.5367431640625e-07\n",
      "\u001b[36m(launch_and_fit pid=3095)\u001b[0m dna_net.fc1.bias 9.5367431640625e-07\n",
      "\u001b[36m(launch_and_fit pid=3095)\u001b[0m dna_net.fc2.weight 1.430511474609375e-06\n",
      "\u001b[36m(launch_and_fit pid=3095)\u001b[0m dna_net.fc2.bias 9.5367431640625e-07\n",
      "\u001b[36m(launch_and_fit pid=3095)\u001b[0m dna_net.fc3.weight 9.5367431640625e-07\n",
      "\u001b[36m(launch_and_fit pid=3095)\u001b[0m dna_net.fc3.bias 1.1920928955078125e-06\n",
      "\u001b[36m(launch_and_fit pid=3095)\u001b[0m dna_net.fc4.weight 9.5367431640625e-07\n",
      "\u001b[36m(launch_and_fit pid=3095)\u001b[0m dna_net.fc4.bias 1.1920928955078125e-06\n",
      "\u001b[36m(launch_and_fit pid=3095)\u001b[0m dna_net.qnn.weights 9.5367431640625e-07\n",
      "\u001b[36m(launch_and_fit pid=3095)\u001b[0m attention.in_proj_weight 1.1920928955078125e-06\n",
      "\u001b[36m(launch_and_fit pid=3095)\u001b[0m attention.in_proj_bias 9.5367431640625e-07\n",
      "\u001b[36m(launch_and_fit pid=3095)\u001b[0m attention.out_proj.weight 9.5367431640625e-07\n",
      "\u001b[36m(launch_and_fit pid=3095)\u001b[0m attention.out_proj.bias 9.5367431640625e-07\n",
      "\u001b[36m(launch_and_fit pid=3095)\u001b[0m fc1.weight 1.1920928955078125e-06\n",
      "\u001b[36m(launch_and_fit pid=3095)\u001b[0m fc1.bias 9.5367431640625e-07\n",
      "\u001b[36m(launch_and_fit pid=3095)\u001b[0m fc2_mri.weight 1.1920928955078125e-06\n",
      "\u001b[36m(launch_and_fit pid=3095)\u001b[0m fc2_mri.bias 1.1920928955078125e-06\n",
      "\u001b[36m(launch_and_fit pid=3095)\u001b[0m fc2_dna.weight 7.152557373046875e-07\n",
      "\u001b[36m(launch_and_fit pid=3095)\u001b[0m fc2_dna.bias 9.5367431640625e-07\n",
      "\u001b[36m(launch_and_fit pid=3177)\u001b[0m Run with homomorphic encryption\n",
      "\u001b[36m(launch_and_fit pid=3120)\u001b[0m save graph in  results/FL/\n",
      "\u001b[36m(launch_and_fit pid=3120)\u001b[0m \tTrain Epoch: 10 \tTrain_loss_mri: 0.4151 | Train_acc_mri: 88.2060 | Train_loss_dna: 1.6781 | Train_acc_dna: 33.6458 | Validation_loss_mri: 1.2507 | Validation_acc_mri: 52.6042 | Validation_loss_dna: 1.6663 | Validation_acc_dna: 29.1667\n",
      "\u001b[36m(launch_and_fit pid=3120)\u001b[0m fc2_dna.bias 1.430511474609375e-06\u001b[32m [repeated 23x across cluster]\u001b[0m\n",
      "\u001b[36m(launch_and_fit pid=3120)\u001b[0m dna_net.qnn.weights 1.1920928955078125e-06\n",
      "\u001b[36m(launch_and_fit pid=3120)\u001b[0m attention.in_proj_weight 1.1920928955078125e-06\n",
      "\u001b[36m(launch_and_fit pid=3120)\u001b[0m attention.in_proj_bias 2.1457672119140625e-06\n",
      "\u001b[36m(launch_and_fit pid=3120)\u001b[0m attention.out_proj.weight 1.430511474609375e-06\n",
      "\u001b[36m(launch_and_fit pid=3120)\u001b[0m attention.out_proj.bias 1.1920928955078125e-06\n",
      "\u001b[36m(launch_and_fit pid=3177)\u001b[0m [Client 3, round 4] fit, config: {'learning_rate': 0.003, 'batch_size': '32', 'server_round': 4, 'local_epochs': 10}\n"
     ]
    },
    {
     "name": "stderr",
     "output_type": "stream",
     "text": [
      "  0%|\u001b[34m          \u001b[0m| 0/10 [00:00<?, ?it/s]\n",
      "100%|\u001b[34m██████████\u001b[0m| 10/10 [00:38<00:00,  3.83s/it]\n"
     ]
    },
    {
     "name": "stdout",
     "output_type": "stream",
     "text": [
      "\u001b[36m(launch_and_fit pid=3177)\u001b[0m Updated model\n"
     ]
    },
    {
     "name": "stderr",
     "output_type": "stream",
     "text": [
      " 10%|\u001b[34m█         \u001b[0m| 1/10 [00:04<00:38,  4.24s/it]\n"
     ]
    },
    {
     "name": "stdout",
     "output_type": "stream",
     "text": [
      "\u001b[36m(launch_and_fit pid=3177)\u001b[0m \tTrain Epoch: 1 \tTrain_loss_mri: 0.9287 | Train_acc_mri: 58.3681 | Train_loss_dna: 1.7823 | Train_acc_dna: 31.4005 | Validation_loss_mri: 0.7672 | Validation_acc_mri: 69.2708 | Validation_loss_dna: 1.9050 | Validation_acc_dna: 35.4167\n",
      "\u001b[36m(launch_and_fit pid=3202)\u001b[0m Run with homomorphic encryption\n",
      "\u001b[36m(launch_and_fit pid=3202)\u001b[0m [Client 0, round 4] fit, config: {'learning_rate': 0.003, 'batch_size': '32', 'server_round': 4, 'local_epochs': 10}\n",
      "\u001b[36m(launch_and_fit pid=3202)\u001b[0m Updated model\n"
     ]
    },
    {
     "name": "stderr",
     "output_type": "stream",
     "text": [
      "  0%|\u001b[34m          \u001b[0m| 0/10 [00:00<?, ?it/s]\n"
     ]
    },
    {
     "name": "stdout",
     "output_type": "stream",
     "text": [
      "\u001b[36m(launch_and_fit pid=3202)\u001b[0m \tTrain Epoch: 2 \tTrain_loss_mri: 0.7759 | Train_acc_mri: 67.1528 | Train_loss_dna: 1.7082 | Train_acc_dna: 34.6991 | Validation_loss_mri: 0.8429 | Validation_acc_mri: 64.5833 | Validation_loss_dna: 2.0311 | Validation_acc_dna: 21.8750\u001b[32m [repeated 3x across cluster]\u001b[0m\n"
     ]
    },
    {
     "name": "stderr",
     "output_type": "stream",
     "text": [
      " 20%|\u001b[34m██        \u001b[0m| 2/10 [00:07<00:31,  3.95s/it]\u001b[32m [repeated 3x across cluster]\u001b[0m\n",
      " 40%|\u001b[34m████      \u001b[0m| 4/10 [00:15<00:23,  3.84s/it]\u001b[32m [repeated 3x across cluster]\u001b[0m\n"
     ]
    },
    {
     "name": "stdout",
     "output_type": "stream",
     "text": [
      "\u001b[36m(launch_and_fit pid=3177)\u001b[0m \tTrain Epoch: 4 \tTrain_loss_mri: 0.4752 | Train_acc_mri: 80.1389 | Train_loss_dna: 1.7036 | Train_acc_dna: 35.2894 | Validation_loss_mri: 0.6716 | Validation_acc_mri: 64.5833 | Validation_loss_dna: 2.0482 | Validation_acc_dna: 33.8542\u001b[32m [repeated 3x across cluster]\u001b[0m\n",
      "\u001b[36m(launch_and_fit pid=3202)\u001b[0m \tTrain Epoch: 5 \tTrain_loss_mri: 0.4285 | Train_acc_mri: 86.5856 | Train_loss_dna: 1.6358 | Train_acc_dna: 38.3912 | Validation_loss_mri: 1.4820 | Validation_acc_mri: 34.3750 | Validation_loss_dna: 1.9852 | Validation_acc_dna: 9.3750\u001b[32m [repeated 3x across cluster]\u001b[0m\n"
     ]
    },
    {
     "name": "stderr",
     "output_type": "stream",
     "text": [
      " 50%|\u001b[34m█████     \u001b[0m| 5/10 [00:19<00:19,  3.80s/it]\u001b[32m [repeated 3x across cluster]\u001b[0m\n",
      " 70%|\u001b[34m███████   \u001b[0m| 7/10 [00:27<00:11,  3.87s/it]\u001b[32m [repeated 3x across cluster]\u001b[0m\n"
     ]
    },
    {
     "name": "stdout",
     "output_type": "stream",
     "text": [
      "\u001b[36m(launch_and_fit pid=3177)\u001b[0m \tTrain Epoch: 7 \tTrain_loss_mri: 0.1763 | Train_acc_mri: 98.1250 | Train_loss_dna: 1.6435 | Train_acc_dna: 35.2083 | Validation_loss_mri: 0.5872 | Validation_acc_mri: 87.5000 | Validation_loss_dna: 2.0320 | Validation_acc_dna: 38.5417\u001b[32m [repeated 3x across cluster]\u001b[0m\n"
     ]
    },
    {
     "name": "stderr",
     "output_type": "stream",
     "text": [
      " 90%|\u001b[34m█████████ \u001b[0m| 9/10 [00:34<00:03,  3.84s/it]\u001b[32m [repeated 4x across cluster]\u001b[0m\n"
     ]
    },
    {
     "name": "stdout",
     "output_type": "stream",
     "text": [
      "\u001b[36m(launch_and_fit pid=3177)\u001b[0m \tTrain Epoch: 9 \tTrain_loss_mri: 0.2160 | Train_acc_mri: 92.4421 | Train_loss_dna: 1.6405 | Train_acc_dna: 36.5741 | Validation_loss_mri: 0.6448 | Validation_acc_mri: 85.9375 | Validation_loss_dna: 2.0912 | Validation_acc_dna: 15.6250\u001b[32m [repeated 4x across cluster]\u001b[0m\n",
      "\u001b[36m(launch_and_fit pid=3177)\u001b[0m save graph in  results/FL/\n",
      "\u001b[36m(launch_and_fit pid=3177)\u001b[0m mri_net.features.0.weight 5.245208740234375e-06\n",
      "\u001b[36m(launch_and_fit pid=3177)\u001b[0m mri_net.features.0.bias 1.6689300537109375e-06\n",
      "\u001b[36m(launch_and_fit pid=3177)\u001b[0m mri_net.features.3.weight 1.430511474609375e-06\n",
      "\u001b[36m(launch_and_fit pid=3177)\u001b[0m mri_net.features.3.bias 1.1920928955078125e-06\n",
      "\u001b[36m(launch_and_fit pid=3177)\u001b[0m mri_net.classifier.0.weight 1.430511474609375e-06\n",
      "\u001b[36m(launch_and_fit pid=3177)\u001b[0m mri_net.classifier.0.bias 9.5367431640625e-07\n",
      "\u001b[36m(launch_and_fit pid=3177)\u001b[0m mri_net.classifier.2.weight 9.5367431640625e-07\n",
      "\u001b[36m(launch_and_fit pid=3177)\u001b[0m mri_net.classifier.2.bias 1.1920928955078125e-06\n",
      "\u001b[36m(launch_and_fit pid=3177)\u001b[0m mri_net.classifier.3.weights 1.430511474609375e-06\n",
      "\u001b[36m(launch_and_fit pid=3177)\u001b[0m dna_net.fc1.weight 1.1920928955078125e-06\n",
      "\u001b[36m(launch_and_fit pid=3177)\u001b[0m dna_net.fc1.bias 1.1920928955078125e-06\n",
      "\u001b[36m(launch_and_fit pid=3177)\u001b[0m dna_net.fc2.weight 9.5367431640625e-07\n",
      "\u001b[36m(launch_and_fit pid=3177)\u001b[0m dna_net.fc2.bias 9.5367431640625e-07\n",
      "\u001b[36m(launch_and_fit pid=3177)\u001b[0m dna_net.fc3.weight 1.1920928955078125e-06\n",
      "\u001b[36m(launch_and_fit pid=3177)\u001b[0m dna_net.fc3.bias 1.1920928955078125e-06\n",
      "\u001b[36m(launch_and_fit pid=3177)\u001b[0m dna_net.fc4.weight 9.5367431640625e-07\n",
      "\u001b[36m(launch_and_fit pid=3177)\u001b[0m dna_net.fc4.bias 9.5367431640625e-07\n",
      "\u001b[36m(launch_and_fit pid=3177)\u001b[0m dna_net.qnn.weights 1.1920928955078125e-06\n",
      "\u001b[36m(launch_and_fit pid=3177)\u001b[0m attention.in_proj_weight 7.152557373046875e-07\n",
      "\u001b[36m(launch_and_fit pid=3177)\u001b[0m attention.in_proj_bias 1.1920928955078125e-06\n",
      "\u001b[36m(launch_and_fit pid=3177)\u001b[0m attention.out_proj.weight 1.1920928955078125e-06\n",
      "\u001b[36m(launch_and_fit pid=3177)\u001b[0m attention.out_proj.bias 9.5367431640625e-07\n",
      "\u001b[36m(launch_and_fit pid=3177)\u001b[0m fc1.weight 1.1920928955078125e-06\n",
      "\u001b[36m(launch_and_fit pid=3177)\u001b[0m fc1.bias 9.5367431640625e-07\n",
      "\u001b[36m(launch_and_fit pid=3177)\u001b[0m fc2_mri.weight 9.5367431640625e-07\n",
      "\u001b[36m(launch_and_fit pid=3177)\u001b[0m fc2_mri.bias 9.5367431640625e-07\n",
      "\u001b[36m(launch_and_fit pid=3177)\u001b[0m fc2_dna.weight 9.5367431640625e-07\n",
      "\u001b[36m(launch_and_fit pid=3177)\u001b[0m fc2_dna.bias 1.1920928955078125e-06\n",
      "\u001b[36m(launch_and_fit pid=3202)\u001b[0m \tTrain Epoch: 10 \tTrain_loss_mri: 0.1415 | Train_acc_mri: 95.8218 | Train_loss_dna: 1.6057 | Train_acc_dna: 39.7801 | Validation_loss_mri: 1.9992 | Validation_acc_mri: 49.4792 | Validation_loss_dna: 2.0577 | Validation_acc_dna: 17.1875\u001b[32m [repeated 3x across cluster]\u001b[0m\n",
      "\u001b[36m(launch_and_fit pid=3261)\u001b[0m Run with homomorphic encryption\n",
      "\u001b[36m(launch_and_fit pid=3202)\u001b[0m save graph in  results/FL/\n",
      "\u001b[36m(launch_and_fit pid=3202)\u001b[0m fc2_dna.bias 9.5367431640625e-07\u001b[32m [repeated 23x across cluster]\u001b[0m\n",
      "\u001b[36m(launch_and_fit pid=3202)\u001b[0m dna_net.qnn.weights 1.1920928955078125e-06\n",
      "\u001b[36m(launch_and_fit pid=3202)\u001b[0m attention.in_proj_weight 9.5367431640625e-07\n",
      "\u001b[36m(launch_and_fit pid=3202)\u001b[0m attention.in_proj_bias 9.5367431640625e-07\n",
      "\u001b[36m(launch_and_fit pid=3202)\u001b[0m attention.out_proj.weight 9.5367431640625e-07\n",
      "\u001b[36m(launch_and_fit pid=3202)\u001b[0m attention.out_proj.bias 9.5367431640625e-07\n",
      "\u001b[36m(launch_and_fit pid=3261)\u001b[0m [Client 8, round 4] fit, config: {'learning_rate': 0.003, 'batch_size': '32', 'server_round': 4, 'local_epochs': 10}\n",
      "\u001b[36m(launch_and_fit pid=3261)\u001b[0m Updated model\n"
     ]
    },
    {
     "name": "stderr",
     "output_type": "stream",
     "text": [
      "  0%|\u001b[34m          \u001b[0m| 0/10 [00:00<?, ?it/s]\n",
      "100%|\u001b[34m██████████\u001b[0m| 10/10 [00:37<00:00,  3.80s/it]\u001b[32m [repeated 3x across cluster]\u001b[0m\n"
     ]
    },
    {
     "name": "stdout",
     "output_type": "stream",
     "text": [
      "\u001b[36m(launch_and_fit pid=3261)\u001b[0m \tTrain Epoch: 1 \tTrain_loss_mri: 1.0115 | Train_acc_mri: 62.7199 | Train_loss_dna: 1.8016 | Train_acc_dna: 31.0301 | Validation_loss_mri: 0.9830 | Validation_acc_mri: 63.0208 | Validation_loss_dna: 1.8396 | Validation_acc_dna: 30.7292\n",
      "\u001b[36m(launch_and_fit pid=3285)\u001b[0m Run with homomorphic encryption\n",
      "\u001b[36m(launch_and_fit pid=3285)\u001b[0m [Client 9, round 4] fit, config: {'learning_rate': 0.003, 'batch_size': '32', 'server_round': 4, 'local_epochs': 10}\n"
     ]
    },
    {
     "name": "stderr",
     "output_type": "stream",
     "text": [
      "  0%|\u001b[34m          \u001b[0m| 0/10 [00:00<?, ?it/s]\n",
      " 10%|\u001b[34m█         \u001b[0m| 1/10 [00:04<00:38,  4.28s/it]\u001b[32m [repeated 2x across cluster]\u001b[0m\n"
     ]
    },
    {
     "name": "stdout",
     "output_type": "stream",
     "text": [
      "\u001b[36m(launch_and_fit pid=3285)\u001b[0m Updated model\n",
      "\u001b[36m(launch_and_fit pid=3261)\u001b[0m \tTrain Epoch: 3 \tTrain_loss_mri: 0.5783 | Train_acc_mri: 82.5231 | Train_loss_dna: 1.7254 | Train_acc_dna: 34.2708 | Validation_loss_mri: 0.8694 | Validation_acc_mri: 61.4583 | Validation_loss_dna: 1.9135 | Validation_acc_dna: 10.9375\u001b[32m [repeated 4x across cluster]\u001b[0m\n"
     ]
    },
    {
     "name": "stderr",
     "output_type": "stream",
     "text": [
      " 30%|\u001b[34m███       \u001b[0m| 3/10 [00:11<00:27,  3.88s/it]\u001b[32m [repeated 3x across cluster]\u001b[0m\n"
     ]
    },
    {
     "name": "stdout",
     "output_type": "stream",
     "text": [
      "\u001b[36m(launch_and_fit pid=3261)\u001b[0m \tTrain Epoch: 5 \tTrain_loss_mri: 0.3403 | Train_acc_mri: 91.8171 | Train_loss_dna: 1.6685 | Train_acc_dna: 35.7523 | Validation_loss_mri: 0.8053 | Validation_acc_mri: 79.6875 | Validation_loss_dna: 1.8368 | Validation_acc_dna: 17.1875\u001b[32m [repeated 4x across cluster]\u001b[0m\n"
     ]
    },
    {
     "name": "stderr",
     "output_type": "stream",
     "text": [
      " 50%|\u001b[34m█████     \u001b[0m| 5/10 [00:19<00:18,  3.77s/it]\u001b[32m [repeated 4x across cluster]\u001b[0m\n",
      " 60%|\u001b[34m██████    \u001b[0m| 6/10 [00:23<00:15,  3.83s/it]\u001b[32m [repeated 3x across cluster]\u001b[0m\n"
     ]
    },
    {
     "name": "stdout",
     "output_type": "stream",
     "text": [
      "\u001b[36m(launch_and_fit pid=3285)\u001b[0m \tTrain Epoch: 6 \tTrain_loss_mri: 0.3337 | Train_acc_mri: 91.8347 | Train_loss_dna: 1.6444 | Train_acc_dna: 37.6008 | Validation_loss_mri: 0.6416 | Validation_acc_mri: 85.9375 | Validation_loss_dna: 1.6170 | Validation_acc_dna: 30.7292\u001b[32m [repeated 3x across cluster]\u001b[0m\n",
      "\u001b[36m(launch_and_fit pid=3261)\u001b[0m \tTrain Epoch: 8 \tTrain_loss_mri: 0.2689 | Train_acc_mri: 92.0139 | Train_loss_dna: 1.5991 | Train_acc_dna: 38.1944 | Validation_loss_mri: 1.2976 | Validation_acc_mri: 61.4583 | Validation_loss_dna: 1.9726 | Validation_acc_dna: 14.0625\u001b[32m [repeated 3x across cluster]\u001b[0m\n"
     ]
    },
    {
     "name": "stderr",
     "output_type": "stream",
     "text": [
      " 80%|\u001b[34m████████  \u001b[0m| 8/10 [00:30<00:07,  3.81s/it]\u001b[32m [repeated 3x across cluster]\u001b[0m\n",
      " 90%|\u001b[34m█████████ \u001b[0m| 9/10 [00:35<00:03,  3.87s/it]\u001b[32m [repeated 3x across cluster]\u001b[0m\n"
     ]
    },
    {
     "name": "stdout",
     "output_type": "stream",
     "text": [
      "\u001b[36m(launch_and_fit pid=3285)\u001b[0m \tTrain Epoch: 9 \tTrain_loss_mri: 0.1507 | Train_acc_mri: 96.8649 | Train_loss_dna: 1.6107 | Train_acc_dna: 36.9355 | Validation_loss_mri: 0.6124 | Validation_acc_mri: 85.9375 | Validation_loss_dna: 1.6222 | Validation_acc_dna: 30.7292\u001b[32m [repeated 3x across cluster]\u001b[0m\n",
      "\u001b[36m(launch_and_fit pid=3261)\u001b[0m save graph in  results/FL/\n",
      "\u001b[36m(launch_and_fit pid=3261)\u001b[0m mri_net.features.0.weight 5.4836273193359375e-06\n",
      "\u001b[36m(launch_and_fit pid=3261)\u001b[0m mri_net.features.0.bias 1.6689300537109375e-06\n",
      "\u001b[36m(launch_and_fit pid=3261)\u001b[0m mri_net.features.3.weight 9.5367431640625e-07\n",
      "\u001b[36m(launch_and_fit pid=3261)\u001b[0m mri_net.features.3.bias 9.5367431640625e-07\n",
      "\u001b[36m(launch_and_fit pid=3261)\u001b[0m mri_net.classifier.0.weight 9.5367431640625e-07\n",
      "\u001b[36m(launch_and_fit pid=3261)\u001b[0m mri_net.classifier.0.bias 9.5367431640625e-07\n",
      "\u001b[36m(launch_and_fit pid=3261)\u001b[0m mri_net.classifier.2.weight 9.5367431640625e-07\n",
      "\u001b[36m(launch_and_fit pid=3261)\u001b[0m mri_net.classifier.2.bias 1.430511474609375e-06\n",
      "\u001b[36m(launch_and_fit pid=3261)\u001b[0m mri_net.classifier.3.weights 1.1920928955078125e-06\n",
      "\u001b[36m(launch_and_fit pid=3261)\u001b[0m dna_net.fc1.weight 1.1920928955078125e-06\n",
      "\u001b[36m(launch_and_fit pid=3261)\u001b[0m dna_net.fc1.bias 9.5367431640625e-07\n",
      "\u001b[36m(launch_and_fit pid=3261)\u001b[0m dna_net.fc2.weight 7.152557373046875e-07\n",
      "\u001b[36m(launch_and_fit pid=3261)\u001b[0m dna_net.fc2.bias 9.5367431640625e-07\n",
      "\u001b[36m(launch_and_fit pid=3261)\u001b[0m dna_net.fc3.weight 9.5367431640625e-07\n",
      "\u001b[36m(launch_and_fit pid=3261)\u001b[0m dna_net.fc3.bias 9.5367431640625e-07\n",
      "\u001b[36m(launch_and_fit pid=3261)\u001b[0m dna_net.fc4.weight 1.1920928955078125e-06\n",
      "\u001b[36m(launch_and_fit pid=3261)\u001b[0m dna_net.fc4.bias 9.5367431640625e-07\n",
      "\u001b[36m(launch_and_fit pid=3261)\u001b[0m dna_net.qnn.weights 9.5367431640625e-07\n",
      "\u001b[36m(launch_and_fit pid=3261)\u001b[0m attention.in_proj_weight 1.1920928955078125e-06\n",
      "\u001b[36m(launch_and_fit pid=3261)\u001b[0m attention.in_proj_bias 9.5367431640625e-07\n",
      "\u001b[36m(launch_and_fit pid=3261)\u001b[0m attention.out_proj.weight 9.5367431640625e-07\n",
      "\u001b[36m(launch_and_fit pid=3261)\u001b[0m attention.out_proj.bias 7.152557373046875e-07\n",
      "\u001b[36m(launch_and_fit pid=3261)\u001b[0m fc1.weight 1.1920928955078125e-06\n",
      "\u001b[36m(launch_and_fit pid=3261)\u001b[0m fc1.bias 9.5367431640625e-07\n",
      "\u001b[36m(launch_and_fit pid=3261)\u001b[0m fc2_mri.weight 9.5367431640625e-07\n",
      "\u001b[36m(launch_and_fit pid=3261)\u001b[0m fc2_mri.bias 9.5367431640625e-07\n",
      "\u001b[36m(launch_and_fit pid=3261)\u001b[0m fc2_dna.weight 9.5367431640625e-07\n",
      "\u001b[36m(launch_and_fit pid=3261)\u001b[0m fc2_dna.bias 9.5367431640625e-07\n"
     ]
    },
    {
     "name": "stderr",
     "output_type": "stream",
     "text": [
      "DEBUG flwr 2024-08-05 07:29:53,552 | server.py:236 | fit_round 4 received 10 results and 0 failures\n"
     ]
    },
    {
     "name": "stdout",
     "output_type": "stream",
     "text": [
      "Saving round 4 aggregated_parameters...\n"
     ]
    },
    {
     "name": "stderr",
     "output_type": "stream",
     "text": [
      "DEBUG flwr 2024-08-05 07:29:55,494 | server.py:173 | evaluate_round 4: strategy sampled 10 clients (out of 10)\n"
     ]
    },
    {
     "name": "stdout",
     "output_type": "stream",
     "text": [
      "\u001b[36m(launch_and_evaluate pid=3352)\u001b[0m Run with homomorphic encryption\n",
      "\u001b[36m(launch_and_fit pid=3285)\u001b[0m \tTrain Epoch: 10 \tTrain_loss_mri: 0.1321 | Train_acc_mri: 97.1875 | Train_loss_dna: 1.6231 | Train_acc_dna: 38.5585 | Validation_loss_mri: 0.6586 | Validation_acc_mri: 89.0625 | Validation_loss_dna: 1.5545 | Validation_acc_dna: 33.8542\u001b[32m [repeated 2x across cluster]\u001b[0m\n",
      "\u001b[36m(launch_and_fit pid=3285)\u001b[0m save graph in  results/FL/\n",
      "\u001b[36m(launch_and_fit pid=3285)\u001b[0m fc2_dna.bias 9.5367431640625e-07\u001b[32m [repeated 23x across cluster]\u001b[0m\n",
      "\u001b[36m(launch_and_fit pid=3285)\u001b[0m dna_net.qnn.weights 1.1920928955078125e-06\n",
      "\u001b[36m(launch_and_fit pid=3285)\u001b[0m attention.in_proj_weight 1.1920928955078125e-06\n",
      "\u001b[36m(launch_and_fit pid=3285)\u001b[0m attention.in_proj_bias 9.5367431640625e-07\n",
      "\u001b[36m(launch_and_fit pid=3285)\u001b[0m attention.out_proj.weight 9.5367431640625e-07\n",
      "\u001b[36m(launch_and_fit pid=3285)\u001b[0m attention.out_proj.bias 9.5367431640625e-07\n",
      "\u001b[36m(launch_and_evaluate pid=3351)\u001b[0m [Client 2] evaluate, config: {}\n",
      "\u001b[36m(launch_and_evaluate pid=3351)\u001b[0m Updated model\n"
     ]
    },
    {
     "name": "stderr",
     "output_type": "stream",
     "text": [
      "\u001b[36m(launch_and_evaluate pid=3352)\u001b[0m /opt/conda/lib/python3.10/site-packages/sklearn/metrics/_ranking.py:1029: UndefinedMetricWarning: No positive samples in y_true, true positive value should be meaningless\n",
      "\u001b[36m(launch_and_evaluate pid=3352)\u001b[0m   warnings.warn(\n",
      "100%|\u001b[34m██████████\u001b[0m| 10/10 [00:38<00:00,  3.88s/it]\u001b[32m [repeated 2x across cluster]\u001b[0m\n"
     ]
    },
    {
     "name": "stdout",
     "output_type": "stream",
     "text": [
      "\u001b[36m(launch_and_evaluate pid=3431)\u001b[0m Run with homomorphic encryption\u001b[32m [repeated 2x across cluster]\u001b[0m\n",
      "\u001b[36m(launch_and_evaluate pid=3352)\u001b[0m [Client 9] evaluate, config: {}\n",
      "\u001b[36m(launch_and_evaluate pid=3352)\u001b[0m Updated model\n",
      "\u001b[36m(launch_and_evaluate pid=3431)\u001b[0m [Client 6] evaluate, config: {}\n",
      "\u001b[36m(launch_and_evaluate pid=3431)\u001b[0m Updated model\n",
      "\u001b[36m(launch_and_evaluate pid=3507)\u001b[0m Run with homomorphic encryption\u001b[32m [repeated 2x across cluster]\u001b[0m\n",
      "\u001b[36m(launch_and_evaluate pid=3429)\u001b[0m [Client 3] evaluate, config: {}\n",
      "\u001b[36m(launch_and_evaluate pid=3429)\u001b[0m Updated model\n",
      "\u001b[36m(launch_and_evaluate pid=3507)\u001b[0m [Client 0] evaluate, config: {}\n",
      "\u001b[36m(launch_and_evaluate pid=3507)\u001b[0m Updated model\n"
     ]
    },
    {
     "name": "stderr",
     "output_type": "stream",
     "text": [
      "\u001b[36m(launch_and_evaluate pid=3509)\u001b[0m /opt/conda/lib/python3.10/site-packages/sklearn/metrics/_ranking.py:1029: UndefinedMetricWarning: No positive samples in y_true, true positive value should be meaningless\n",
      "\u001b[36m(launch_and_evaluate pid=3509)\u001b[0m   warnings.warn(\n"
     ]
    },
    {
     "name": "stdout",
     "output_type": "stream",
     "text": [
      "\u001b[36m(launch_and_evaluate pid=3585)\u001b[0m Run with homomorphic encryption\u001b[32m [repeated 2x across cluster]\u001b[0m\n",
      "\u001b[36m(launch_and_evaluate pid=3509)\u001b[0m [Client 8] evaluate, config: {}\n",
      "\u001b[36m(launch_and_evaluate pid=3509)\u001b[0m Updated model\n",
      "\u001b[36m(launch_and_evaluate pid=3585)\u001b[0m [Client 1] evaluate, config: {}\n",
      "\u001b[36m(launch_and_evaluate pid=3585)\u001b[0m Updated model\n"
     ]
    },
    {
     "name": "stderr",
     "output_type": "stream",
     "text": [
      "\u001b[36m(launch_and_evaluate pid=3587)\u001b[0m /opt/conda/lib/python3.10/site-packages/sklearn/metrics/_ranking.py:1029: UndefinedMetricWarning: No positive samples in y_true, true positive value should be meaningless\n",
      "\u001b[36m(launch_and_evaluate pid=3587)\u001b[0m   warnings.warn(\n"
     ]
    },
    {
     "name": "stdout",
     "output_type": "stream",
     "text": [
      "\u001b[36m(launch_and_evaluate pid=3663)\u001b[0m Run with homomorphic encryption\u001b[32m [repeated 2x across cluster]\u001b[0m\n",
      "\u001b[36m(launch_and_evaluate pid=3587)\u001b[0m [Client 4] evaluate, config: {}\n",
      "\u001b[36m(launch_and_evaluate pid=3587)\u001b[0m Updated model\n",
      "\u001b[36m(launch_and_evaluate pid=3663)\u001b[0m [Client 7] evaluate, config: {}\n",
      "\u001b[36m(launch_and_evaluate pid=3663)\u001b[0m Updated model\n"
     ]
    },
    {
     "name": "stderr",
     "output_type": "stream",
     "text": [
      "DEBUG flwr 2024-08-05 07:31:12,534 | server.py:187 | evaluate_round 4 received 10 results and 0 failures\n",
      "DEBUG flwr 2024-08-05 07:31:12,535 | server.py:222 | fit_round 5: strategy sampled 10 clients (out of 10)\n"
     ]
    },
    {
     "name": "stdout",
     "output_type": "stream",
     "text": [
      "\u001b[36m(launch_and_fit pid=3750)\u001b[0m Run with homomorphic encryption\u001b[32m [repeated 2x across cluster]\u001b[0m\n",
      "\u001b[36m(launch_and_evaluate pid=3665)\u001b[0m [Client 5] evaluate, config: {}\n",
      "\u001b[36m(launch_and_evaluate pid=3665)\u001b[0m Updated model\n",
      "\u001b[36m(launch_and_fit pid=3750)\u001b[0m [Client 0, round 5] fit, config: {'learning_rate': 0.003, 'batch_size': '32', 'server_round': 5, 'local_epochs': 10}\n"
     ]
    },
    {
     "name": "stderr",
     "output_type": "stream",
     "text": [
      "  0%|\u001b[34m          \u001b[0m| 0/10 [00:00<?, ?it/s]\n"
     ]
    },
    {
     "name": "stdout",
     "output_type": "stream",
     "text": [
      "\u001b[36m(launch_and_fit pid=3750)\u001b[0m Updated model\n"
     ]
    },
    {
     "name": "stderr",
     "output_type": "stream",
     "text": [
      " 10%|\u001b[34m█         \u001b[0m| 1/10 [00:04<00:37,  4.21s/it]\n"
     ]
    },
    {
     "name": "stdout",
     "output_type": "stream",
     "text": [
      "\u001b[36m(launch_and_fit pid=3750)\u001b[0m \tTrain Epoch: 1 \tTrain_loss_mri: 0.8843 | Train_acc_mri: 69.4792 | Train_loss_dna: 1.7684 | Train_acc_dna: 30.8102 | Validation_loss_mri: 1.4937 | Validation_acc_mri: 49.4792 | Validation_loss_dna: 2.1113 | Validation_acc_dna: 15.6250\n",
      "\u001b[36m(launch_and_fit pid=3751)\u001b[0m Run with homomorphic encryption\n",
      "\u001b[36m(launch_and_fit pid=3751)\u001b[0m [Client 9, round 5] fit, config: {'learning_rate': 0.003, 'batch_size': '32', 'server_round': 5, 'local_epochs': 10}\n"
     ]
    },
    {
     "name": "stderr",
     "output_type": "stream",
     "text": [
      "  0%|\u001b[34m          \u001b[0m| 0/10 [00:00<?, ?it/s]\n"
     ]
    },
    {
     "name": "stdout",
     "output_type": "stream",
     "text": [
      "\u001b[36m(launch_and_fit pid=3751)\u001b[0m Updated model\n"
     ]
    },
    {
     "name": "stderr",
     "output_type": "stream",
     "text": [
      " 30%|\u001b[34m███       \u001b[0m| 3/10 [00:11<00:27,  3.93s/it]\u001b[32m [repeated 4x across cluster]\u001b[0m\n"
     ]
    },
    {
     "name": "stdout",
     "output_type": "stream",
     "text": [
      "\u001b[36m(launch_and_fit pid=3750)\u001b[0m \tTrain Epoch: 3 \tTrain_loss_mri: 0.2558 | Train_acc_mri: 94.3750 | Train_loss_dna: 1.6294 | Train_acc_dna: 38.7269 | Validation_loss_mri: 0.8490 | Validation_acc_mri: 72.3958 | Validation_loss_dna: 2.0788 | Validation_acc_dna: 17.1875\u001b[32m [repeated 4x across cluster]\u001b[0m\n"
     ]
    },
    {
     "name": "stderr",
     "output_type": "stream",
     "text": [
      " 50%|\u001b[34m█████     \u001b[0m| 5/10 [00:19<00:18,  3.80s/it]\u001b[32m [repeated 4x across cluster]\u001b[0m\n"
     ]
    },
    {
     "name": "stdout",
     "output_type": "stream",
     "text": [
      "\u001b[36m(launch_and_fit pid=3750)\u001b[0m \tTrain Epoch: 5 \tTrain_loss_mri: 0.1382 | Train_acc_mri: 97.3264 | Train_loss_dna: 1.5417 | Train_acc_dna: 38.5880 | Validation_loss_mri: 0.9569 | Validation_acc_mri: 70.8333 | Validation_loss_dna: 2.0752 | Validation_acc_dna: 18.7500\u001b[32m [repeated 4x across cluster]\u001b[0m\n"
     ]
    },
    {
     "name": "stderr",
     "output_type": "stream",
     "text": [
      " 70%|\u001b[34m███████   \u001b[0m| 7/10 [00:27<00:11,  3.83s/it]\u001b[32m [repeated 4x across cluster]\u001b[0m\n"
     ]
    },
    {
     "name": "stdout",
     "output_type": "stream",
     "text": [
      "\u001b[36m(launch_and_fit pid=3751)\u001b[0m \tTrain Epoch: 7 \tTrain_loss_mri: 0.0632 | Train_acc_mri: 99.3649 | Train_loss_dna: 1.4858 | Train_acc_dna: 42.0060 | Validation_loss_mri: 0.3809 | Validation_acc_mri: 89.0625 | Validation_loss_dna: 1.4958 | Validation_acc_dna: 35.4167\u001b[32m [repeated 4x across cluster]\u001b[0m\n"
     ]
    },
    {
     "name": "stderr",
     "output_type": "stream",
     "text": [
      " 90%|\u001b[34m█████████ \u001b[0m| 9/10 [00:34<00:03,  3.84s/it]\u001b[32m [repeated 4x across cluster]\u001b[0m\n"
     ]
    },
    {
     "name": "stdout",
     "output_type": "stream",
     "text": [
      "\u001b[36m(launch_and_fit pid=3750)\u001b[0m \tTrain Epoch: 9 \tTrain_loss_mri: 0.0814 | Train_acc_mri: 97.7546 | Train_loss_dna: 1.3593 | Train_acc_dna: 50.7523 | Validation_loss_mri: 0.8031 | Validation_acc_mri: 70.8333 | Validation_loss_dna: 2.1047 | Validation_acc_dna: 10.9375\u001b[32m [repeated 4x across cluster]\u001b[0m\n",
      "\u001b[36m(launch_and_fit pid=3750)\u001b[0m save graph in  results/FL/\n",
      "\u001b[36m(launch_and_fit pid=3751)\u001b[0m mri_net.features.0.weight 5.0067901611328125e-06\n",
      "\u001b[36m(launch_and_fit pid=3751)\u001b[0m mri_net.features.0.bias 1.430511474609375e-06\n",
      "\u001b[36m(launch_and_fit pid=3751)\u001b[0m mri_net.features.3.weight 1.430511474609375e-06\n",
      "\u001b[36m(launch_and_fit pid=3751)\u001b[0m mri_net.features.3.bias 9.5367431640625e-07\n",
      "\u001b[36m(launch_and_fit pid=3751)\u001b[0m mri_net.classifier.0.weight 9.5367431640625e-07\n",
      "\u001b[36m(launch_and_fit pid=3751)\u001b[0m mri_net.classifier.0.bias 7.152557373046875e-07\n",
      "\u001b[36m(launch_and_fit pid=3751)\u001b[0m mri_net.classifier.2.weight 1.1920928955078125e-06\n",
      "\u001b[36m(launch_and_fit pid=3751)\u001b[0m mri_net.classifier.2.bias 9.5367431640625e-07\n",
      "\u001b[36m(launch_and_fit pid=3751)\u001b[0m mri_net.classifier.3.weights 9.5367431640625e-07\n",
      "\u001b[36m(launch_and_fit pid=3751)\u001b[0m dna_net.fc1.weight 9.5367431640625e-07\n",
      "\u001b[36m(launch_and_fit pid=3751)\u001b[0m dna_net.fc1.bias 1.1920928955078125e-06\n",
      "\u001b[36m(launch_and_fit pid=3751)\u001b[0m dna_net.fc2.weight 9.5367431640625e-07\n",
      "\u001b[36m(launch_and_fit pid=3751)\u001b[0m dna_net.fc2.bias 9.5367431640625e-07\n",
      "\u001b[36m(launch_and_fit pid=3751)\u001b[0m dna_net.fc3.weight 1.1920928955078125e-06\n",
      "\u001b[36m(launch_and_fit pid=3751)\u001b[0m dna_net.fc3.bias 9.5367431640625e-07\n",
      "\u001b[36m(launch_and_fit pid=3751)\u001b[0m dna_net.fc4.weight 9.5367431640625e-07\n",
      "\u001b[36m(launch_and_fit pid=3751)\u001b[0m dna_net.fc4.bias 9.5367431640625e-07\n",
      "\u001b[36m(launch_and_fit pid=3751)\u001b[0m dna_net.qnn.weights 1.430511474609375e-06\n",
      "\u001b[36m(launch_and_fit pid=3751)\u001b[0m attention.in_proj_weight 9.5367431640625e-07\n",
      "\u001b[36m(launch_and_fit pid=3751)\u001b[0m attention.in_proj_bias 1.1920928955078125e-06\n",
      "\u001b[36m(launch_and_fit pid=3751)\u001b[0m attention.out_proj.weight 1.430511474609375e-06\n",
      "\u001b[36m(launch_and_fit pid=3751)\u001b[0m attention.out_proj.bias 1.1920928955078125e-06\n",
      "\u001b[36m(launch_and_fit pid=3751)\u001b[0m fc1.weight 9.5367431640625e-07\n",
      "\u001b[36m(launch_and_fit pid=3751)\u001b[0m fc1.bias 1.430511474609375e-06\n",
      "\u001b[36m(launch_and_fit pid=3751)\u001b[0m fc2_mri.weight 9.5367431640625e-07\n",
      "\u001b[36m(launch_and_fit pid=3751)\u001b[0m fc2_mri.bias 9.5367431640625e-07\n",
      "\u001b[36m(launch_and_fit pid=3751)\u001b[0m fc2_dna.weight 1.1920928955078125e-06\n",
      "\u001b[36m(launch_and_fit pid=3751)\u001b[0m fc2_dna.bias 1.1920928955078125e-06\n",
      "\u001b[36m(launch_and_fit pid=3831)\u001b[0m Run with homomorphic encryption\n",
      "\u001b[36m(launch_and_fit pid=3751)\u001b[0m \tTrain Epoch: 10 \tTrain_loss_mri: 0.2102 | Train_acc_mri: 93.7500 | Train_loss_dna: 1.4628 | Train_acc_dna: 44.2238 | Validation_loss_mri: 0.4618 | Validation_acc_mri: 87.5000 | Validation_loss_dna: 1.4414 | Validation_acc_dna: 32.2917\u001b[32m [repeated 3x across cluster]\u001b[0m\n",
      "\u001b[36m(launch_and_fit pid=3751)\u001b[0m save graph in  results/FL/\n",
      "\u001b[36m(launch_and_fit pid=3750)\u001b[0m fc2_dna.bias 9.5367431640625e-07\u001b[32m [repeated 23x across cluster]\u001b[0m\n",
      "\u001b[36m(launch_and_fit pid=3750)\u001b[0m dna_net.qnn.weights 1.430511474609375e-06\n",
      "\u001b[36m(launch_and_fit pid=3750)\u001b[0m attention.in_proj_weight 1.430511474609375e-06\n",
      "\u001b[36m(launch_and_fit pid=3750)\u001b[0m attention.in_proj_bias 1.1920928955078125e-06\n",
      "\u001b[36m(launch_and_fit pid=3750)\u001b[0m attention.out_proj.weight 9.5367431640625e-07\n",
      "\u001b[36m(launch_and_fit pid=3750)\u001b[0m attention.out_proj.bias 1.1920928955078125e-06\n",
      "\u001b[36m(launch_and_fit pid=3831)\u001b[0m [Client 7, round 5] fit, config: {'learning_rate': 0.003, 'batch_size': '32', 'server_round': 5, 'local_epochs': 10}\n",
      "\u001b[36m(launch_and_fit pid=3831)\u001b[0m Updated model\n"
     ]
    },
    {
     "name": "stderr",
     "output_type": "stream",
     "text": [
      "  0%|\u001b[34m          \u001b[0m| 0/10 [00:00<?, ?it/s]\n",
      "100%|\u001b[34m██████████\u001b[0m| 10/10 [00:38<00:00,  3.84s/it]\u001b[32m [repeated 3x across cluster]\u001b[0m\n"
     ]
    },
    {
     "name": "stdout",
     "output_type": "stream",
     "text": [
      "\u001b[36m(launch_and_fit pid=3833)\u001b[0m Run with homomorphic encryption\n",
      "\u001b[36m(launch_and_fit pid=3833)\u001b[0m \tTrain Epoch: 1 \tTrain_loss_mri: 0.6827 | Train_acc_mri: 75.8218 | Train_loss_dna: 1.8286 | Train_acc_dna: 30.6019 | Validation_loss_mri: 0.3016 | Validation_acc_mri: 87.5000 | Validation_loss_dna: 1.9175 | Validation_acc_dna: 14.0625\n",
      "\u001b[36m(launch_and_fit pid=3833)\u001b[0m [Client 5, round 5] fit, config: {'learning_rate': 0.003, 'batch_size': '32', 'server_round': 5, 'local_epochs': 10}\n",
      "\u001b[36m(launch_and_fit pid=3831)\u001b[0m \tTrain Epoch: 1 \tTrain_loss_mri: 1.0277 | Train_acc_mri: 67.6852 | Train_loss_dna: 1.8916 | Train_acc_dna: 26.0880 | Validation_loss_mri: 0.9958 | Validation_acc_mri: 52.6042 | Validation_loss_dna: 1.4830 | Validation_acc_dna: 48.9583\n",
      "\u001b[36m(launch_and_fit pid=3831)\u001b[0m \tTrain Epoch: 2 \tTrain_loss_mri: 0.4856 | Train_acc_mri: 80.3935 | Train_loss_dna: 1.7897 | Train_acc_dna: 29.7801 | Validation_loss_mri: 0.9134 | Validation_acc_mri: 75.5208 | Validation_loss_dna: 1.6405 | Validation_acc_dna: 45.8333\n",
      "\u001b[36m(launch_and_fit pid=3833)\u001b[0m Updated model\n"
     ]
    },
    {
     "name": "stderr",
     "output_type": "stream",
     "text": [
      "  0%|\u001b[34m          \u001b[0m| 0/10 [00:00<?, ?it/s]\n",
      " 20%|\u001b[34m██        \u001b[0m| 2/10 [00:08<00:32,  4.06s/it]\u001b[32m [repeated 3x across cluster]\u001b[0m\n"
     ]
    },
    {
     "name": "stdout",
     "output_type": "stream",
     "text": [
      "\u001b[36m(launch_and_fit pid=3831)\u001b[0m \tTrain Epoch: 3 \tTrain_loss_mri: 0.2912 | Train_acc_mri: 92.1296 | Train_loss_dna: 1.7553 | Train_acc_dna: 34.8727 | Validation_loss_mri: 0.7722 | Validation_acc_mri: 73.9583 | Validation_loss_dna: 1.5062 | Validation_acc_dna: 50.5208\u001b[32m [repeated 2x across cluster]\u001b[0m\n"
     ]
    },
    {
     "name": "stderr",
     "output_type": "stream",
     "text": [
      " 40%|\u001b[34m████      \u001b[0m| 4/10 [00:15<00:22,  3.81s/it]\u001b[32m [repeated 4x across cluster]\u001b[0m\n"
     ]
    },
    {
     "name": "stdout",
     "output_type": "stream",
     "text": [
      "\u001b[36m(launch_and_fit pid=3831)\u001b[0m \tTrain Epoch: 5 \tTrain_loss_mri: 0.1439 | Train_acc_mri: 97.5000 | Train_loss_dna: 1.6897 | Train_acc_dna: 35.3472 | Validation_loss_mri: 0.6074 | Validation_acc_mri: 72.3958 | Validation_loss_dna: 1.3890 | Validation_acc_dna: 47.3958\u001b[32m [repeated 4x across cluster]\u001b[0m\n"
     ]
    },
    {
     "name": "stderr",
     "output_type": "stream",
     "text": [
      " 60%|\u001b[34m██████    \u001b[0m| 6/10 [00:23<00:15,  3.80s/it]\u001b[32m [repeated 4x across cluster]\u001b[0m\n"
     ]
    },
    {
     "name": "stdout",
     "output_type": "stream",
     "text": [
      "\u001b[36m(launch_and_fit pid=3831)\u001b[0m \tTrain Epoch: 7 \tTrain_loss_mri: 0.1113 | Train_acc_mri: 98.1250 | Train_loss_dna: 1.6300 | Train_acc_dna: 35.8912 | Validation_loss_mri: 0.8912 | Validation_acc_mri: 73.9583 | Validation_loss_dna: 1.3904 | Validation_acc_dna: 52.0833\u001b[32m [repeated 4x across cluster]\u001b[0m\n"
     ]
    },
    {
     "name": "stderr",
     "output_type": "stream",
     "text": [
      " 80%|\u001b[34m████████  \u001b[0m| 8/10 [00:30<00:07,  3.74s/it]\u001b[32m [repeated 4x across cluster]\u001b[0m\n"
     ]
    },
    {
     "name": "stdout",
     "output_type": "stream",
     "text": [
      "\u001b[36m(launch_and_fit pid=3831)\u001b[0m \tTrain Epoch: 9 \tTrain_loss_mri: 0.0813 | Train_acc_mri: 98.4375 | Train_loss_dna: 1.5830 | Train_acc_dna: 38.3333 | Validation_loss_mri: 0.7539 | Validation_acc_mri: 72.3958 | Validation_loss_dna: 1.4514 | Validation_acc_dna: 48.9583\u001b[32m [repeated 4x across cluster]\u001b[0m\n",
      "\u001b[36m(launch_and_fit pid=3831)\u001b[0m save graph in  results/FL/\n"
     ]
    },
    {
     "name": "stderr",
     "output_type": "stream",
     "text": [
      "100%|\u001b[34m██████████\u001b[0m| 10/10 [00:38<00:00,  3.84s/it]\u001b[32m [repeated 4x across cluster]\u001b[0m\n"
     ]
    },
    {
     "name": "stdout",
     "output_type": "stream",
     "text": [
      "\u001b[36m(launch_and_fit pid=3831)\u001b[0m mri_net.features.0.weight 4.0531158447265625e-06\n",
      "\u001b[36m(launch_and_fit pid=3831)\u001b[0m mri_net.features.0.bias 1.6689300537109375e-06\n",
      "\u001b[36m(launch_and_fit pid=3831)\u001b[0m mri_net.features.3.weight 1.1920928955078125e-06\n",
      "\u001b[36m(launch_and_fit pid=3831)\u001b[0m mri_net.features.3.bias 2.1457672119140625e-06\n",
      "\u001b[36m(launch_and_fit pid=3831)\u001b[0m mri_net.classifier.0.weight 2.1457672119140625e-06\n",
      "\u001b[36m(launch_and_fit pid=3831)\u001b[0m mri_net.classifier.0.bias 1.1920928955078125e-06\n",
      "\u001b[36m(launch_and_fit pid=3831)\u001b[0m mri_net.classifier.2.weight 9.5367431640625e-07\n",
      "\u001b[36m(launch_and_fit pid=3831)\u001b[0m mri_net.classifier.2.bias 9.5367431640625e-07\n",
      "\u001b[36m(launch_and_fit pid=3831)\u001b[0m mri_net.classifier.3.weights 1.430511474609375e-06\n",
      "\u001b[36m(launch_and_fit pid=3831)\u001b[0m dna_net.fc1.weight 1.1920928955078125e-06\n",
      "\u001b[36m(launch_and_fit pid=3831)\u001b[0m dna_net.fc1.bias 9.5367431640625e-07\n",
      "\u001b[36m(launch_and_fit pid=3831)\u001b[0m dna_net.fc2.weight 9.5367431640625e-07\n",
      "\u001b[36m(launch_and_fit pid=3831)\u001b[0m dna_net.fc2.bias 9.5367431640625e-07\n",
      "\u001b[36m(launch_and_fit pid=3831)\u001b[0m dna_net.fc3.weight 1.1920928955078125e-06\n",
      "\u001b[36m(launch_and_fit pid=3831)\u001b[0m dna_net.fc3.bias 7.152557373046875e-07\n",
      "\u001b[36m(launch_and_fit pid=3831)\u001b[0m dna_net.fc4.weight 9.5367431640625e-07\n",
      "\u001b[36m(launch_and_fit pid=3831)\u001b[0m dna_net.fc4.bias 9.5367431640625e-07\n",
      "\u001b[36m(launch_and_fit pid=3831)\u001b[0m dna_net.qnn.weights 1.1920928955078125e-06\n",
      "\u001b[36m(launch_and_fit pid=3831)\u001b[0m attention.in_proj_weight 9.5367431640625e-07\n",
      "\u001b[36m(launch_and_fit pid=3831)\u001b[0m attention.in_proj_bias 9.5367431640625e-07\n",
      "\u001b[36m(launch_and_fit pid=3831)\u001b[0m attention.out_proj.weight 9.5367431640625e-07\n",
      "\u001b[36m(launch_and_fit pid=3831)\u001b[0m attention.out_proj.bias 9.5367431640625e-07\n",
      "\u001b[36m(launch_and_fit pid=3831)\u001b[0m fc1.weight 9.5367431640625e-07\n",
      "\u001b[36m(launch_and_fit pid=3831)\u001b[0m fc1.bias 9.5367431640625e-07\n",
      "\u001b[36m(launch_and_fit pid=3831)\u001b[0m fc2_mri.weight 1.430511474609375e-06\n",
      "\u001b[36m(launch_and_fit pid=3831)\u001b[0m fc2_mri.bias 1.1920928955078125e-06\n",
      "\u001b[36m(launch_and_fit pid=3831)\u001b[0m fc2_dna.weight 9.5367431640625e-07\n",
      "\u001b[36m(launch_and_fit pid=3831)\u001b[0m fc2_dna.bias 9.5367431640625e-07\n",
      "\u001b[36m(launch_and_fit pid=3913)\u001b[0m Run with homomorphic encryption\n",
      "\u001b[36m(launch_and_fit pid=3833)\u001b[0m \tTrain Epoch: 10 \tTrain_loss_mri: 0.1661 | Train_acc_mri: 95.8796 | Train_loss_dna: 1.3179 | Train_acc_dna: 49.2477 | Validation_loss_mri: 0.5413 | Validation_acc_mri: 87.5000 | Validation_loss_dna: 1.7386 | Validation_acc_dna: 15.6250\u001b[32m [repeated 3x across cluster]\u001b[0m\n",
      "\u001b[36m(launch_and_fit pid=3833)\u001b[0m save graph in  results/FL/\n",
      "\u001b[36m(launch_and_fit pid=3833)\u001b[0m fc2_dna.bias 1.1920928955078125e-06\u001b[32m [repeated 23x across cluster]\u001b[0m\n",
      "\u001b[36m(launch_and_fit pid=3833)\u001b[0m dna_net.qnn.weights 9.5367431640625e-07\n",
      "\u001b[36m(launch_and_fit pid=3833)\u001b[0m attention.in_proj_weight 1.1920928955078125e-06\n",
      "\u001b[36m(launch_and_fit pid=3833)\u001b[0m attention.in_proj_bias 9.5367431640625e-07\n",
      "\u001b[36m(launch_and_fit pid=3833)\u001b[0m attention.out_proj.weight 9.5367431640625e-07\n",
      "\u001b[36m(launch_and_fit pid=3833)\u001b[0m attention.out_proj.bias 9.5367431640625e-07\n",
      "\u001b[36m(launch_and_fit pid=3913)\u001b[0m [Client 4, round 5] fit, config: {'learning_rate': 0.003, 'batch_size': '32', 'server_round': 5, 'local_epochs': 10}\n"
     ]
    },
    {
     "name": "stderr",
     "output_type": "stream",
     "text": [
      "  0%|\u001b[34m          \u001b[0m| 0/10 [00:00<?, ?it/s]\n",
      "100%|\u001b[34m██████████\u001b[0m| 10/10 [00:38<00:00,  3.86s/it]\n"
     ]
    },
    {
     "name": "stdout",
     "output_type": "stream",
     "text": [
      "\u001b[36m(launch_and_fit pid=3913)\u001b[0m Updated model\n"
     ]
    },
    {
     "name": "stderr",
     "output_type": "stream",
     "text": [
      " 10%|\u001b[34m█         \u001b[0m| 1/10 [00:04<00:38,  4.24s/it]\n"
     ]
    },
    {
     "name": "stdout",
     "output_type": "stream",
     "text": [
      "\u001b[36m(launch_and_fit pid=3915)\u001b[0m Run with homomorphic encryption\n",
      "\u001b[36m(launch_and_fit pid=3913)\u001b[0m \tTrain Epoch: 1 \tTrain_loss_mri: 0.6421 | Train_acc_mri: 73.8310 | Train_loss_dna: 1.7434 | Train_acc_dna: 30.4630 | Validation_loss_mri: 0.6440 | Validation_acc_mri: 82.8125 | Validation_loss_dna: 1.6387 | Validation_acc_dna: 43.2292\n",
      "\u001b[36m(launch_and_fit pid=3915)\u001b[0m [Client 2, round 5] fit, config: {'learning_rate': 0.003, 'batch_size': '32', 'server_round': 5, 'local_epochs': 10}\n",
      "\u001b[36m(launch_and_fit pid=3915)\u001b[0m \tTrain Epoch: 1 \tTrain_loss_mri: 1.0647 | Train_acc_mri: 65.9259 | Train_loss_dna: 1.7266 | Train_acc_dna: 33.5069 | Validation_loss_mri: 1.2868 | Validation_acc_mri: 47.9167 | Validation_loss_dna: 1.7324 | Validation_acc_dna: 24.4792\n"
     ]
    },
    {
     "name": "stderr",
     "output_type": "stream",
     "text": [
      "  0%|\u001b[34m          \u001b[0m| 0/10 [00:00<?, ?it/s]\n"
     ]
    },
    {
     "name": "stdout",
     "output_type": "stream",
     "text": [
      "\u001b[36m(launch_and_fit pid=3915)\u001b[0m Updated model\n"
     ]
    },
    {
     "name": "stderr",
     "output_type": "stream",
     "text": [
      " 30%|\u001b[34m███       \u001b[0m| 3/10 [00:11<00:27,  3.90s/it]\u001b[32m [repeated 4x across cluster]\u001b[0m\n"
     ]
    },
    {
     "name": "stdout",
     "output_type": "stream",
     "text": [
      "\u001b[36m(launch_and_fit pid=3913)\u001b[0m \tTrain Epoch: 3 \tTrain_loss_mri: 0.2020 | Train_acc_mri: 94.6296 | Train_loss_dna: 1.6477 | Train_acc_dna: 35.6597 | Validation_loss_mri: 1.3610 | Validation_acc_mri: 67.7083 | Validation_loss_dna: 1.6840 | Validation_acc_dna: 43.2292\u001b[32m [repeated 3x across cluster]\u001b[0m\n"
     ]
    },
    {
     "name": "stderr",
     "output_type": "stream",
     "text": [
      " 50%|\u001b[34m█████     \u001b[0m| 5/10 [00:19<00:19,  3.87s/it]\u001b[32m [repeated 4x across cluster]\u001b[0m\n"
     ]
    },
    {
     "name": "stdout",
     "output_type": "stream",
     "text": [
      "\u001b[36m(launch_and_fit pid=3913)\u001b[0m \tTrain Epoch: 5 \tTrain_loss_mri: 0.0810 | Train_acc_mri: 99.0625 | Train_loss_dna: 1.5801 | Train_acc_dna: 39.4444 | Validation_loss_mri: 1.0120 | Validation_acc_mri: 66.1458 | Validation_loss_dna: 1.8776 | Validation_acc_dna: 38.5417\u001b[32m [repeated 4x across cluster]\u001b[0m\n"
     ]
    },
    {
     "name": "stderr",
     "output_type": "stream",
     "text": [
      " 70%|\u001b[34m███████   \u001b[0m| 7/10 [00:27<00:11,  3.84s/it]\u001b[32m [repeated 4x across cluster]\u001b[0m\n"
     ]
    },
    {
     "name": "stdout",
     "output_type": "stream",
     "text": [
      "\u001b[36m(launch_and_fit pid=3913)\u001b[0m \tTrain Epoch: 7 \tTrain_loss_mri: 0.0790 | Train_acc_mri: 98.4375 | Train_loss_dna: 1.5105 | Train_acc_dna: 40.7755 | Validation_loss_mri: 1.4951 | Validation_acc_mri: 66.1458 | Validation_loss_dna: 1.7634 | Validation_acc_dna: 44.7917\u001b[32m [repeated 4x across cluster]\u001b[0m\n"
     ]
    },
    {
     "name": "stderr",
     "output_type": "stream",
     "text": [
      " 90%|\u001b[34m█████████ \u001b[0m| 9/10 [00:34<00:03,  3.78s/it]\u001b[32m [repeated 4x across cluster]\u001b[0m\n"
     ]
    },
    {
     "name": "stdout",
     "output_type": "stream",
     "text": [
      "\u001b[36m(launch_and_fit pid=3913)\u001b[0m \tTrain Epoch: 9 \tTrain_loss_mri: 0.1653 | Train_acc_mri: 94.8264 | Train_loss_dna: 1.3869 | Train_acc_dna: 44.4676 | Validation_loss_mri: 1.1526 | Validation_acc_mri: 61.4583 | Validation_loss_dna: 1.7217 | Validation_acc_dna: 43.2292\u001b[32m [repeated 4x across cluster]\u001b[0m\n",
      "\u001b[36m(launch_and_fit pid=3913)\u001b[0m save graph in  results/FL/\n",
      "\u001b[36m(launch_and_fit pid=3913)\u001b[0m mri_net.features.0.weight 4.76837158203125e-06\n",
      "\u001b[36m(launch_and_fit pid=3913)\u001b[0m mri_net.features.0.bias 1.1920928955078125e-06\n",
      "\u001b[36m(launch_and_fit pid=3913)\u001b[0m mri_net.features.3.weight 9.5367431640625e-07\n",
      "\u001b[36m(launch_and_fit pid=3913)\u001b[0m mri_net.features.3.bias 9.5367431640625e-07\n",
      "\u001b[36m(launch_and_fit pid=3913)\u001b[0m mri_net.classifier.0.weight 1.1920928955078125e-06\n",
      "\u001b[36m(launch_and_fit pid=3913)\u001b[0m mri_net.classifier.0.bias 1.1920928955078125e-06\n",
      "\u001b[36m(launch_and_fit pid=3913)\u001b[0m mri_net.classifier.2.weight 9.5367431640625e-07\n",
      "\u001b[36m(launch_and_fit pid=3913)\u001b[0m mri_net.classifier.2.bias 9.5367431640625e-07\n",
      "\u001b[36m(launch_and_fit pid=3913)\u001b[0m mri_net.classifier.3.weights 1.430511474609375e-06\n",
      "\u001b[36m(launch_and_fit pid=3913)\u001b[0m dna_net.fc1.weight 9.5367431640625e-07\n",
      "\u001b[36m(launch_and_fit pid=3913)\u001b[0m dna_net.fc1.bias 9.5367431640625e-07\n",
      "\u001b[36m(launch_and_fit pid=3913)\u001b[0m dna_net.fc2.weight 7.152557373046875e-07\n",
      "\u001b[36m(launch_and_fit pid=3913)\u001b[0m dna_net.fc2.bias 1.1920928955078125e-06\n",
      "\u001b[36m(launch_and_fit pid=3913)\u001b[0m dna_net.fc3.weight 9.5367431640625e-07\n",
      "\u001b[36m(launch_and_fit pid=3913)\u001b[0m dna_net.fc3.bias 9.5367431640625e-07\n",
      "\u001b[36m(launch_and_fit pid=3913)\u001b[0m dna_net.fc4.weight 1.1920928955078125e-06\n",
      "\u001b[36m(launch_and_fit pid=3913)\u001b[0m dna_net.fc4.bias 9.5367431640625e-07\n",
      "\u001b[36m(launch_and_fit pid=3913)\u001b[0m dna_net.qnn.weights 7.152557373046875e-07\n",
      "\u001b[36m(launch_and_fit pid=3913)\u001b[0m attention.in_proj_weight 9.5367431640625e-07\n",
      "\u001b[36m(launch_and_fit pid=3913)\u001b[0m attention.in_proj_bias 9.5367431640625e-07\n",
      "\u001b[36m(launch_and_fit pid=3913)\u001b[0m attention.out_proj.weight 9.5367431640625e-07\n",
      "\u001b[36m(launch_and_fit pid=3913)\u001b[0m attention.out_proj.bias 9.5367431640625e-07\n",
      "\u001b[36m(launch_and_fit pid=3913)\u001b[0m fc1.weight 1.1920928955078125e-06\n",
      "\u001b[36m(launch_and_fit pid=3913)\u001b[0m fc1.bias 9.5367431640625e-07\n",
      "\u001b[36m(launch_and_fit pid=3913)\u001b[0m fc2_mri.weight 9.5367431640625e-07\n",
      "\u001b[36m(launch_and_fit pid=3913)\u001b[0m fc2_mri.bias 9.5367431640625e-07\n",
      "\u001b[36m(launch_and_fit pid=3913)\u001b[0m fc2_dna.weight 1.1920928955078125e-06\n",
      "\u001b[36m(launch_and_fit pid=3913)\u001b[0m fc2_dna.bias 9.5367431640625e-07\n",
      "\u001b[36m(launch_and_fit pid=3997)\u001b[0m Run with homomorphic encryption\n",
      "\u001b[36m(launch_and_fit pid=3915)\u001b[0m \tTrain Epoch: 10 \tTrain_loss_mri: 0.0672 | Train_acc_mri: 99.6875 | Train_loss_dna: 1.3243 | Train_acc_dna: 50.0694 | Validation_loss_mri: 0.9970 | Validation_acc_mri: 57.2917 | Validation_loss_dna: 1.6609 | Validation_acc_dna: 26.0417\u001b[32m [repeated 3x across cluster]\u001b[0m\n",
      "\u001b[36m(launch_and_fit pid=3915)\u001b[0m save graph in  results/FL/\n",
      "\u001b[36m(launch_and_fit pid=3915)\u001b[0m fc2_dna.bias 1.1920928955078125e-06\u001b[32m [repeated 23x across cluster]\u001b[0m\n",
      "\u001b[36m(launch_and_fit pid=3915)\u001b[0m dna_net.qnn.weights 9.5367431640625e-07\n",
      "\u001b[36m(launch_and_fit pid=3915)\u001b[0m attention.in_proj_weight 9.5367431640625e-07\n",
      "\u001b[36m(launch_and_fit pid=3915)\u001b[0m attention.in_proj_bias 9.5367431640625e-07\n",
      "\u001b[36m(launch_and_fit pid=3915)\u001b[0m attention.out_proj.weight 1.1920928955078125e-06\n",
      "\u001b[36m(launch_and_fit pid=3915)\u001b[0m attention.out_proj.bias 9.5367431640625e-07\n",
      "\u001b[36m(launch_and_fit pid=3997)\u001b[0m [Client 1, round 5] fit, config: {'learning_rate': 0.003, 'batch_size': '32', 'server_round': 5, 'local_epochs': 10}\n",
      "\u001b[36m(launch_and_fit pid=3997)\u001b[0m Updated model\n"
     ]
    },
    {
     "name": "stderr",
     "output_type": "stream",
     "text": [
      "  0%|\u001b[34m          \u001b[0m| 0/10 [00:00<?, ?it/s]\n",
      "100%|\u001b[34m██████████\u001b[0m| 10/10 [00:38<00:00,  3.82s/it]\u001b[32m [repeated 3x across cluster]\u001b[0m\n"
     ]
    },
    {
     "name": "stdout",
     "output_type": "stream",
     "text": [
      "\u001b[36m(launch_and_fit pid=3995)\u001b[0m Run with homomorphic encryption\n",
      "\u001b[36m(launch_and_fit pid=3997)\u001b[0m \tTrain Epoch: 1 \tTrain_loss_mri: 0.7328 | Train_acc_mri: 76.3542 | Train_loss_dna: 1.7766 | Train_acc_dna: 30.9491 | Validation_loss_mri: 0.3879 | Validation_acc_mri: 90.6250 | Validation_loss_dna: 1.9745 | Validation_acc_dna: 20.3125\n",
      "\u001b[36m(launch_and_fit pid=3995)\u001b[0m [Client 6, round 5] fit, config: {'learning_rate': 0.003, 'batch_size': '32', 'server_round': 5, 'local_epochs': 10}\n",
      "\u001b[36m(launch_and_fit pid=3995)\u001b[0m \tTrain Epoch: 1 \tTrain_loss_mri: 0.7174 | Train_acc_mri: 78.2292 | Train_loss_dna: 1.7079 | Train_acc_dna: 39.0162 | Validation_loss_mri: 0.8498 | Validation_acc_mri: 66.1458 | Validation_loss_dna: 1.7058 | Validation_acc_dna: 47.3958\n",
      "\u001b[36m(launch_and_fit pid=3995)\u001b[0m Updated model\n"
     ]
    },
    {
     "name": "stderr",
     "output_type": "stream",
     "text": [
      "  0%|\u001b[34m          \u001b[0m| 0/10 [00:00<?, ?it/s]\n",
      " 20%|\u001b[34m██        \u001b[0m| 2/10 [00:08<00:31,  3.99s/it]\u001b[32m [repeated 3x across cluster]\u001b[0m\n"
     ]
    },
    {
     "name": "stdout",
     "output_type": "stream",
     "text": [
      "\u001b[36m(launch_and_fit pid=3997)\u001b[0m \tTrain Epoch: 3 \tTrain_loss_mri: 0.2230 | Train_acc_mri: 95.6250 | Train_loss_dna: 1.6786 | Train_acc_dna: 33.9583 | Validation_loss_mri: 0.3345 | Validation_acc_mri: 93.7500 | Validation_loss_dna: 2.0778 | Validation_acc_dna: 14.0625\u001b[32m [repeated 3x across cluster]\u001b[0m\n"
     ]
    },
    {
     "name": "stderr",
     "output_type": "stream",
     "text": [
      " 40%|\u001b[34m████      \u001b[0m| 4/10 [00:15<00:22,  3.81s/it]\u001b[32m [repeated 4x across cluster]\u001b[0m\n"
     ]
    },
    {
     "name": "stdout",
     "output_type": "stream",
     "text": [
      "\u001b[36m(launch_and_fit pid=3997)\u001b[0m \tTrain Epoch: 5 \tTrain_loss_mri: 0.1090 | Train_acc_mri: 99.3171 | Train_loss_dna: 1.5766 | Train_acc_dna: 37.7315 | Validation_loss_mri: 0.3888 | Validation_acc_mri: 90.6250 | Validation_loss_dna: 1.8524 | Validation_acc_dna: 18.7500\u001b[32m [repeated 4x across cluster]\u001b[0m\n"
     ]
    },
    {
     "name": "stderr",
     "output_type": "stream",
     "text": [
      " 60%|\u001b[34m██████    \u001b[0m| 6/10 [00:23<00:15,  3.81s/it]\u001b[32m [repeated 4x across cluster]\u001b[0m\n"
     ]
    },
    {
     "name": "stdout",
     "output_type": "stream",
     "text": [
      "\u001b[36m(launch_and_fit pid=3997)\u001b[0m \tTrain Epoch: 7 \tTrain_loss_mri: 0.0886 | Train_acc_mri: 99.6875 | Train_loss_dna: 1.4729 | Train_acc_dna: 42.4537 | Validation_loss_mri: 0.4344 | Validation_acc_mri: 93.7500 | Validation_loss_dna: 1.9239 | Validation_acc_dna: 33.8542\u001b[32m [repeated 4x across cluster]\u001b[0m\n"
     ]
    },
    {
     "name": "stderr",
     "output_type": "stream",
     "text": [
      " 80%|\u001b[34m████████  \u001b[0m| 8/10 [00:30<00:07,  3.75s/it]\u001b[32m [repeated 4x across cluster]\u001b[0m\n"
     ]
    },
    {
     "name": "stdout",
     "output_type": "stream",
     "text": [
      "\u001b[36m(launch_and_fit pid=3997)\u001b[0m \tTrain Epoch: 9 \tTrain_loss_mri: 0.0966 | Train_acc_mri: 96.7593 | Train_loss_dna: 1.3374 | Train_acc_dna: 46.6898 | Validation_loss_mri: 0.4266 | Validation_acc_mri: 89.0625 | Validation_loss_dna: 1.9596 | Validation_acc_dna: 12.5000\u001b[32m [repeated 4x across cluster]\u001b[0m\n",
      "\u001b[36m(launch_and_fit pid=3997)\u001b[0m save graph in  results/FL/\n"
     ]
    },
    {
     "name": "stderr",
     "output_type": "stream",
     "text": [
      "100%|\u001b[34m██████████\u001b[0m| 10/10 [00:37<00:00,  3.79s/it]\u001b[32m [repeated 4x across cluster]\u001b[0m\n"
     ]
    },
    {
     "name": "stdout",
     "output_type": "stream",
     "text": [
      "\u001b[36m(launch_and_fit pid=3997)\u001b[0m mri_net.features.0.weight 4.76837158203125e-06\n",
      "\u001b[36m(launch_and_fit pid=3997)\u001b[0m mri_net.features.0.bias 1.1920928955078125e-06\n",
      "\u001b[36m(launch_and_fit pid=3997)\u001b[0m mri_net.features.3.weight 1.1920928955078125e-06\n",
      "\u001b[36m(launch_and_fit pid=3997)\u001b[0m mri_net.features.3.bias 1.1920928955078125e-06\n",
      "\u001b[36m(launch_and_fit pid=3997)\u001b[0m mri_net.classifier.0.weight 9.5367431640625e-07\n",
      "\u001b[36m(launch_and_fit pid=3997)\u001b[0m mri_net.classifier.0.bias 1.1920928955078125e-06\n",
      "\u001b[36m(launch_and_fit pid=3997)\u001b[0m mri_net.classifier.2.weight 9.5367431640625e-07\n",
      "\u001b[36m(launch_and_fit pid=3997)\u001b[0m mri_net.classifier.2.bias 9.5367431640625e-07\n",
      "\u001b[36m(launch_and_fit pid=3997)\u001b[0m mri_net.classifier.3.weights 1.1920928955078125e-06\n",
      "\u001b[36m(launch_and_fit pid=3997)\u001b[0m dna_net.fc1.weight 9.5367431640625e-07\n",
      "\u001b[36m(launch_and_fit pid=3997)\u001b[0m dna_net.fc1.bias 1.1920928955078125e-06\n",
      "\u001b[36m(launch_and_fit pid=3997)\u001b[0m dna_net.fc2.weight 1.1920928955078125e-06\n",
      "\u001b[36m(launch_and_fit pid=3997)\u001b[0m dna_net.fc2.bias 9.5367431640625e-07\n",
      "\u001b[36m(launch_and_fit pid=3997)\u001b[0m dna_net.fc3.weight 9.5367431640625e-07\n",
      "\u001b[36m(launch_and_fit pid=3997)\u001b[0m dna_net.fc3.bias 1.1920928955078125e-06\n",
      "\u001b[36m(launch_and_fit pid=3997)\u001b[0m dna_net.fc4.weight 9.5367431640625e-07\n",
      "\u001b[36m(launch_and_fit pid=3997)\u001b[0m dna_net.fc4.bias 1.1920928955078125e-06\n",
      "\u001b[36m(launch_and_fit pid=3997)\u001b[0m dna_net.qnn.weights 1.1920928955078125e-06\n",
      "\u001b[36m(launch_and_fit pid=3997)\u001b[0m attention.in_proj_weight 9.5367431640625e-07\n",
      "\u001b[36m(launch_and_fit pid=3997)\u001b[0m attention.in_proj_bias 9.5367431640625e-07\n",
      "\u001b[36m(launch_and_fit pid=3997)\u001b[0m attention.out_proj.weight 1.430511474609375e-06\n",
      "\u001b[36m(launch_and_fit pid=3997)\u001b[0m attention.out_proj.bias 9.5367431640625e-07\n",
      "\u001b[36m(launch_and_fit pid=3997)\u001b[0m fc1.weight 1.1920928955078125e-06\n",
      "\u001b[36m(launch_and_fit pid=3997)\u001b[0m fc1.bias 1.430511474609375e-06\n",
      "\u001b[36m(launch_and_fit pid=3997)\u001b[0m fc2_mri.weight 1.430511474609375e-06\n",
      "\u001b[36m(launch_and_fit pid=3997)\u001b[0m fc2_mri.bias 9.5367431640625e-07\n",
      "\u001b[36m(launch_and_fit pid=3997)\u001b[0m fc2_dna.weight 9.5367431640625e-07\n",
      "\u001b[36m(launch_and_fit pid=3997)\u001b[0m fc2_dna.bias 9.5367431640625e-07\n",
      "\u001b[36m(launch_and_fit pid=3995)\u001b[0m \tTrain Epoch: 10 \tTrain_loss_mri: 0.0786 | Train_acc_mri: 98.0671 | Train_loss_dna: 1.1160 | Train_acc_dna: 59.5949 | Validation_loss_mri: 0.5452 | Validation_acc_mri: 90.6250 | Validation_loss_dna: 2.3422 | Validation_acc_dna: 30.7292\u001b[32m [repeated 3x across cluster]\u001b[0m\n",
      "\u001b[36m(launch_and_fit pid=4077)\u001b[0m Run with homomorphic encryption\n",
      "\u001b[36m(launch_and_fit pid=3995)\u001b[0m save graph in  results/FL/\n",
      "\u001b[36m(launch_and_fit pid=3995)\u001b[0m fc2_dna.bias 1.1920928955078125e-06\u001b[32m [repeated 23x across cluster]\u001b[0m\n",
      "\u001b[36m(launch_and_fit pid=3995)\u001b[0m dna_net.qnn.weights 9.5367431640625e-07\n",
      "\u001b[36m(launch_and_fit pid=3995)\u001b[0m attention.in_proj_weight 1.1920928955078125e-06\n",
      "\u001b[36m(launch_and_fit pid=3995)\u001b[0m attention.in_proj_bias 9.5367431640625e-07\n",
      "\u001b[36m(launch_and_fit pid=3995)\u001b[0m attention.out_proj.weight 9.5367431640625e-07\n",
      "\u001b[36m(launch_and_fit pid=3995)\u001b[0m attention.out_proj.bias 7.152557373046875e-07\n",
      "\u001b[36m(launch_and_fit pid=4077)\u001b[0m [Client 8, round 5] fit, config: {'learning_rate': 0.003, 'batch_size': '32', 'server_round': 5, 'local_epochs': 10}\n",
      "\u001b[36m(launch_and_fit pid=4077)\u001b[0m Updated model\n"
     ]
    },
    {
     "name": "stderr",
     "output_type": "stream",
     "text": [
      "  0%|\u001b[34m          \u001b[0m| 0/10 [00:00<?, ?it/s]\n",
      "100%|\u001b[34m██████████\u001b[0m| 10/10 [00:38<00:00,  3.85s/it]\n"
     ]
    },
    {
     "name": "stdout",
     "output_type": "stream",
     "text": [
      "\u001b[36m(launch_and_fit pid=4077)\u001b[0m \tTrain Epoch: 1 \tTrain_loss_mri: 1.1988 | Train_acc_mri: 66.5509 | Train_loss_dna: 1.8203 | Train_acc_dna: 31.5741 | Validation_loss_mri: 0.8494 | Validation_acc_mri: 81.2500 | Validation_loss_dna: 1.8516 | Validation_acc_dna: 9.3750\n",
      "\u001b[36m(launch_and_fit pid=4102)\u001b[0m Run with homomorphic encryption\n",
      "\u001b[36m(launch_and_fit pid=4102)\u001b[0m [Client 3, round 5] fit, config: {'learning_rate': 0.003, 'batch_size': '32', 'server_round': 5, 'local_epochs': 10}\n"
     ]
    },
    {
     "name": "stderr",
     "output_type": "stream",
     "text": [
      " 10%|\u001b[34m█         \u001b[0m| 1/10 [00:04<00:41,  4.58s/it]\n",
      "  0%|\u001b[34m          \u001b[0m| 0/10 [00:00<?, ?it/s]\n"
     ]
    },
    {
     "name": "stdout",
     "output_type": "stream",
     "text": [
      "\u001b[36m(launch_and_fit pid=4102)\u001b[0m Updated model\n",
      "\u001b[36m(launch_and_fit pid=4077)\u001b[0m \tTrain Epoch: 3 \tTrain_loss_mri: 0.3288 | Train_acc_mri: 90.5093 | Train_loss_dna: 1.6821 | Train_acc_dna: 34.5833 | Validation_loss_mri: 0.6768 | Validation_acc_mri: 87.5000 | Validation_loss_dna: 1.8949 | Validation_acc_dna: 14.0625\u001b[32m [repeated 4x across cluster]\u001b[0m\n"
     ]
    },
    {
     "name": "stderr",
     "output_type": "stream",
     "text": [
      " 30%|\u001b[34m███       \u001b[0m| 3/10 [00:12<00:28,  4.06s/it]\u001b[32m [repeated 4x across cluster]\u001b[0m\n"
     ]
    },
    {
     "name": "stdout",
     "output_type": "stream",
     "text": [
      "\u001b[36m(launch_and_fit pid=4077)\u001b[0m \tTrain Epoch: 5 \tTrain_loss_mri: 0.1650 | Train_acc_mri: 98.1250 | Train_loss_dna: 1.6292 | Train_acc_dna: 37.9630 | Validation_loss_mri: 0.7166 | Validation_acc_mri: 69.2708 | Validation_loss_dna: 1.9005 | Validation_acc_dna: 10.9375\u001b[32m [repeated 4x across cluster]\u001b[0m\n"
     ]
    },
    {
     "name": "stderr",
     "output_type": "stream",
     "text": [
      " 50%|\u001b[34m█████     \u001b[0m| 5/10 [00:20<00:19,  3.96s/it]\u001b[32m [repeated 4x across cluster]\u001b[0m\n"
     ]
    },
    {
     "name": "stdout",
     "output_type": "stream",
     "text": [
      "\u001b[36m(launch_and_fit pid=4077)\u001b[0m \tTrain Epoch: 7 \tTrain_loss_mri: 0.0733 | Train_acc_mri: 100.0000 | Train_loss_dna: 1.5612 | Train_acc_dna: 42.5116 | Validation_loss_mri: 0.7572 | Validation_acc_mri: 70.8333 | Validation_loss_dna: 1.8211 | Validation_acc_dna: 14.0625\u001b[32m [repeated 4x across cluster]\u001b[0m\n"
     ]
    },
    {
     "name": "stderr",
     "output_type": "stream",
     "text": [
      " 70%|\u001b[34m███████   \u001b[0m| 7/10 [00:27<00:11,  3.86s/it]\u001b[32m [repeated 4x across cluster]\u001b[0m\n"
     ]
    },
    {
     "name": "stdout",
     "output_type": "stream",
     "text": [
      "\u001b[36m(launch_and_fit pid=4077)\u001b[0m \tTrain Epoch: 9 \tTrain_loss_mri: 0.0573 | Train_acc_mri: 99.6875 | Train_loss_dna: 1.3822 | Train_acc_dna: 47.5694 | Validation_loss_mri: 0.7745 | Validation_acc_mri: 70.8333 | Validation_loss_dna: 2.0699 | Validation_acc_dna: 12.5000\u001b[32m [repeated 4x across cluster]\u001b[0m\n"
     ]
    },
    {
     "name": "stderr",
     "output_type": "stream",
     "text": [
      " 90%|\u001b[34m█████████ \u001b[0m| 9/10 [00:35<00:03,  3.95s/it]\u001b[32m [repeated 4x across cluster]\u001b[0m\n"
     ]
    },
    {
     "name": "stdout",
     "output_type": "stream",
     "text": [
      "\u001b[36m(launch_and_fit pid=4077)\u001b[0m save graph in  results/FL/\n",
      "\u001b[36m(launch_and_fit pid=4077)\u001b[0m mri_net.features.0.weight 5.0067901611328125e-06\n",
      "\u001b[36m(launch_and_fit pid=4077)\u001b[0m mri_net.features.0.bias 1.6689300537109375e-06\n",
      "\u001b[36m(launch_and_fit pid=4077)\u001b[0m mri_net.features.3.weight 1.1920928955078125e-06\n",
      "\u001b[36m(launch_and_fit pid=4077)\u001b[0m mri_net.features.3.bias 1.1920928955078125e-06\n",
      "\u001b[36m(launch_and_fit pid=4077)\u001b[0m mri_net.classifier.0.weight 1.430511474609375e-06\n",
      "\u001b[36m(launch_and_fit pid=4077)\u001b[0m mri_net.classifier.0.bias 9.5367431640625e-07\n",
      "\u001b[36m(launch_and_fit pid=4077)\u001b[0m mri_net.classifier.2.weight 1.1920928955078125e-06\n",
      "\u001b[36m(launch_and_fit pid=4077)\u001b[0m mri_net.classifier.2.bias 1.1920928955078125e-06\n",
      "\u001b[36m(launch_and_fit pid=4077)\u001b[0m mri_net.classifier.3.weights 9.5367431640625e-07\n",
      "\u001b[36m(launch_and_fit pid=4077)\u001b[0m dna_net.fc1.weight 1.1920928955078125e-06\n",
      "\u001b[36m(launch_and_fit pid=4077)\u001b[0m dna_net.fc1.bias 1.1920928955078125e-06\n",
      "\u001b[36m(launch_and_fit pid=4077)\u001b[0m dna_net.fc2.weight 1.1920928955078125e-06\n",
      "\u001b[36m(launch_and_fit pid=4077)\u001b[0m dna_net.fc2.bias 9.5367431640625e-07\n",
      "\u001b[36m(launch_and_fit pid=4077)\u001b[0m dna_net.fc3.weight 9.5367431640625e-07\n",
      "\u001b[36m(launch_and_fit pid=4077)\u001b[0m dna_net.fc3.bias 1.1920928955078125e-06\n",
      "\u001b[36m(launch_and_fit pid=4077)\u001b[0m dna_net.fc4.weight 9.5367431640625e-07\n",
      "\u001b[36m(launch_and_fit pid=4077)\u001b[0m dna_net.fc4.bias 9.5367431640625e-07\n",
      "\u001b[36m(launch_and_fit pid=4077)\u001b[0m dna_net.qnn.weights 9.5367431640625e-07\n",
      "\u001b[36m(launch_and_fit pid=4077)\u001b[0m attention.in_proj_weight 1.1920928955078125e-06\n",
      "\u001b[36m(launch_and_fit pid=4077)\u001b[0m attention.in_proj_bias 1.1920928955078125e-06\n",
      "\u001b[36m(launch_and_fit pid=4077)\u001b[0m attention.out_proj.weight 9.5367431640625e-07\n",
      "\u001b[36m(launch_and_fit pid=4077)\u001b[0m attention.out_proj.bias 9.5367431640625e-07\n",
      "\u001b[36m(launch_and_fit pid=4077)\u001b[0m fc1.weight 1.430511474609375e-06\n",
      "\u001b[36m(launch_and_fit pid=4077)\u001b[0m fc1.bias 9.5367431640625e-07\n",
      "\u001b[36m(launch_and_fit pid=4077)\u001b[0m fc2_mri.weight 9.5367431640625e-07\n",
      "\u001b[36m(launch_and_fit pid=4077)\u001b[0m fc2_mri.bias 9.5367431640625e-07\n",
      "\u001b[36m(launch_and_fit pid=4077)\u001b[0m fc2_dna.weight 9.5367431640625e-07\n",
      "\u001b[36m(launch_and_fit pid=4077)\u001b[0m fc2_dna.bias 9.5367431640625e-07\n",
      "\u001b[36m(launch_and_fit pid=4102)\u001b[0m \tTrain Epoch: 10 \tTrain_loss_mri: 0.0500 | Train_acc_mri: 99.3171 | Train_loss_dna: 1.3786 | Train_acc_dna: 48.8773 | Validation_loss_mri: 0.6109 | Validation_acc_mri: 87.5000 | Validation_loss_dna: 1.9510 | Validation_acc_dna: 32.2917\u001b[32m [repeated 3x across cluster]\u001b[0m\n"
     ]
    },
    {
     "name": "stderr",
     "output_type": "stream",
     "text": [
      "DEBUG flwr 2024-08-05 07:35:39,592 | server.py:236 | fit_round 5 received 10 results and 0 failures\n"
     ]
    },
    {
     "name": "stdout",
     "output_type": "stream",
     "text": [
      "Saving round 5 aggregated_parameters...\n"
     ]
    },
    {
     "name": "stderr",
     "output_type": "stream",
     "text": [
      "DEBUG flwr 2024-08-05 07:35:41,571 | server.py:173 | evaluate_round 5: strategy sampled 10 clients (out of 10)\n"
     ]
    },
    {
     "name": "stdout",
     "output_type": "stream",
     "text": [
      "\u001b[36m(launch_and_evaluate pid=4169)\u001b[0m Run with homomorphic encryption\n",
      "\u001b[36m(launch_and_fit pid=4102)\u001b[0m save graph in  results/FL/\n",
      "\u001b[36m(launch_and_fit pid=4102)\u001b[0m fc2_dna.bias 9.5367431640625e-07\u001b[32m [repeated 23x across cluster]\u001b[0m\n",
      "\u001b[36m(launch_and_fit pid=4102)\u001b[0m dna_net.qnn.weights 9.5367431640625e-07\n",
      "\u001b[36m(launch_and_fit pid=4102)\u001b[0m attention.in_proj_weight 9.5367431640625e-07\n",
      "\u001b[36m(launch_and_fit pid=4102)\u001b[0m attention.in_proj_bias 9.5367431640625e-07\n",
      "\u001b[36m(launch_and_fit pid=4102)\u001b[0m attention.out_proj.weight 1.1920928955078125e-06\n",
      "\u001b[36m(launch_and_fit pid=4102)\u001b[0m attention.out_proj.bias 7.152557373046875e-07\n",
      "\u001b[36m(launch_and_evaluate pid=4169)\u001b[0m [Client 2] evaluate, config: {}\n",
      "\u001b[36m(launch_and_evaluate pid=4169)\u001b[0m Updated model\n",
      "\u001b[36m(launch_and_evaluate pid=4247)\u001b[0m Run with homomorphic encryption\u001b[32m [repeated 2x across cluster]\u001b[0m\n",
      "\u001b[36m(launch_and_evaluate pid=4168)\u001b[0m [Client 5] evaluate, config: {}\n",
      "\u001b[36m(launch_and_evaluate pid=4168)\u001b[0m Updated model\n",
      "\u001b[36m(launch_and_evaluate pid=4247)\u001b[0m [Client 1] evaluate, config: {}\n",
      "\u001b[36m(launch_and_evaluate pid=4247)\u001b[0m Updated model\n"
     ]
    },
    {
     "name": "stderr",
     "output_type": "stream",
     "text": [
      "\u001b[36m(launch_and_evaluate pid=4249)\u001b[0m /opt/conda/lib/python3.10/site-packages/sklearn/metrics/_ranking.py:1029: UndefinedMetricWarning: No positive samples in y_true, true positive value should be meaningless\n",
      "\u001b[36m(launch_and_evaluate pid=4249)\u001b[0m   warnings.warn(\n",
      "100%|\u001b[34m██████████\u001b[0m| 10/10 [00:39<00:00,  3.97s/it]\u001b[32m [repeated 3x across cluster]\u001b[0m\n"
     ]
    },
    {
     "name": "stdout",
     "output_type": "stream",
     "text": [
      "\u001b[36m(launch_and_evaluate pid=4325)\u001b[0m Run with homomorphic encryption\u001b[32m [repeated 2x across cluster]\u001b[0m\n",
      "\u001b[36m(launch_and_evaluate pid=4249)\u001b[0m [Client 8] evaluate, config: {}\n",
      "\u001b[36m(launch_and_evaluate pid=4249)\u001b[0m Updated model\n",
      "\u001b[36m(launch_and_evaluate pid=4325)\u001b[0m [Client 3] evaluate, config: {}\n",
      "\u001b[36m(launch_and_evaluate pid=4325)\u001b[0m Updated model\n",
      "\u001b[36m(launch_and_evaluate pid=4405)\u001b[0m Run with homomorphic encryption\u001b[32m [repeated 2x across cluster]\u001b[0m\n",
      "\u001b[36m(launch_and_evaluate pid=4327)\u001b[0m [Client 7] evaluate, config: {}\n",
      "\u001b[36m(launch_and_evaluate pid=4327)\u001b[0m Updated model\n",
      "\u001b[36m(launch_and_evaluate pid=4405)\u001b[0m [Client 4] evaluate, config: {}\n",
      "\u001b[36m(launch_and_evaluate pid=4403)\u001b[0m Updated model\n"
     ]
    },
    {
     "name": "stderr",
     "output_type": "stream",
     "text": [
      "\u001b[36m(launch_and_evaluate pid=4405)\u001b[0m /opt/conda/lib/python3.10/site-packages/sklearn/metrics/_ranking.py:1029: UndefinedMetricWarning: No positive samples in y_true, true positive value should be meaningless\n",
      "\u001b[36m(launch_and_evaluate pid=4405)\u001b[0m   warnings.warn(\n"
     ]
    },
    {
     "name": "stdout",
     "output_type": "stream",
     "text": [
      "\u001b[36m(launch_and_evaluate pid=4481)\u001b[0m Run with homomorphic encryption\u001b[32m [repeated 2x across cluster]\u001b[0m\n",
      "\u001b[36m(launch_and_evaluate pid=4403)\u001b[0m [Client 6] evaluate, config: {}\n",
      "\u001b[36m(launch_and_evaluate pid=4405)\u001b[0m Updated model\n",
      "\u001b[36m(launch_and_evaluate pid=4481)\u001b[0m [Client 9] evaluate, config: {}\n",
      "\u001b[36m(launch_and_evaluate pid=4481)\u001b[0m Updated model\n"
     ]
    },
    {
     "name": "stderr",
     "output_type": "stream",
     "text": [
      "\u001b[36m(launch_and_evaluate pid=4481)\u001b[0m /opt/conda/lib/python3.10/site-packages/sklearn/metrics/_ranking.py:1029: UndefinedMetricWarning: No positive samples in y_true, true positive value should be meaningless\n",
      "\u001b[36m(launch_and_evaluate pid=4481)\u001b[0m   warnings.warn(\n",
      "DEBUG flwr 2024-08-05 07:36:59,221 | server.py:187 | evaluate_round 5 received 10 results and 0 failures\n",
      "DEBUG flwr 2024-08-05 07:36:59,222 | server.py:222 | fit_round 6: strategy sampled 10 clients (out of 10)\n"
     ]
    },
    {
     "name": "stdout",
     "output_type": "stream",
     "text": [
      "\u001b[36m(launch_and_fit pid=4569)\u001b[0m Run with homomorphic encryption\u001b[32m [repeated 2x across cluster]\u001b[0m\n",
      "\u001b[36m(launch_and_evaluate pid=4483)\u001b[0m [Client 0] evaluate, config: {}\n",
      "\u001b[36m(launch_and_evaluate pid=4483)\u001b[0m Updated model\n",
      "\u001b[36m(launch_and_fit pid=4569)\u001b[0m [Client 6, round 6] fit, config: {'learning_rate': 0.003, 'batch_size': '32', 'server_round': 6, 'local_epochs': 10}\n",
      "\u001b[36m(launch_and_fit pid=4569)\u001b[0m Updated model\n"
     ]
    },
    {
     "name": "stderr",
     "output_type": "stream",
     "text": [
      "  0%|\u001b[34m          \u001b[0m| 0/10 [00:00<?, ?it/s]\n"
     ]
    },
    {
     "name": "stdout",
     "output_type": "stream",
     "text": [
      "\u001b[36m(launch_and_fit pid=4569)\u001b[0m \tTrain Epoch: 1 \tTrain_loss_mri: 0.6722 | Train_acc_mri: 77.9167 | Train_loss_dna: 1.7124 | Train_acc_dna: 38.1366 | Validation_loss_mri: 0.7596 | Validation_acc_mri: 69.2708 | Validation_loss_dna: 1.7218 | Validation_acc_dna: 45.8333\n",
      "\u001b[36m(launch_and_fit pid=4568)\u001b[0m Run with homomorphic encryption\n",
      "\u001b[36m(launch_and_fit pid=4568)\u001b[0m [Client 3, round 6] fit, config: {'learning_rate': 0.003, 'batch_size': '32', 'server_round': 6, 'local_epochs': 10}\n"
     ]
    },
    {
     "name": "stderr",
     "output_type": "stream",
     "text": [
      " 10%|\u001b[34m█         \u001b[0m| 1/10 [00:04<00:38,  4.28s/it]\n"
     ]
    },
    {
     "name": "stdout",
     "output_type": "stream",
     "text": [
      "\u001b[36m(launch_and_fit pid=4568)\u001b[0m Updated model\n"
     ]
    },
    {
     "name": "stderr",
     "output_type": "stream",
     "text": [
      "  0%|\u001b[34m          \u001b[0m| 0/10 [00:00<?, ?it/s]\n"
     ]
    },
    {
     "name": "stdout",
     "output_type": "stream",
     "text": [
      "\u001b[36m(launch_and_fit pid=4569)\u001b[0m \tTrain Epoch: 3 \tTrain_loss_mri: 0.2097 | Train_acc_mri: 94.2593 | Train_loss_dna: 1.5252 | Train_acc_dna: 44.8958 | Validation_loss_mri: 0.4734 | Validation_acc_mri: 87.5000 | Validation_loss_dna: 1.7481 | Validation_acc_dna: 45.8333\u001b[32m [repeated 4x across cluster]\u001b[0m\n"
     ]
    },
    {
     "name": "stderr",
     "output_type": "stream",
     "text": [
      " 30%|\u001b[34m███       \u001b[0m| 3/10 [00:12<00:27,  3.96s/it]\u001b[32m [repeated 4x across cluster]\u001b[0m\n"
     ]
    },
    {
     "name": "stdout",
     "output_type": "stream",
     "text": [
      "\u001b[36m(launch_and_fit pid=4569)\u001b[0m \tTrain Epoch: 5 \tTrain_loss_mri: 0.0910 | Train_acc_mri: 98.0671 | Train_loss_dna: 1.3408 | Train_acc_dna: 52.4537 | Validation_loss_mri: 0.5475 | Validation_acc_mri: 84.3750 | Validation_loss_dna: 1.9596 | Validation_acc_dna: 48.9583\u001b[32m [repeated 4x across cluster]\u001b[0m\n"
     ]
    },
    {
     "name": "stderr",
     "output_type": "stream",
     "text": [
      " 50%|\u001b[34m█████     \u001b[0m| 5/10 [00:19<00:19,  3.83s/it]\u001b[32m [repeated 4x across cluster]\u001b[0m\n"
     ]
    },
    {
     "name": "stdout",
     "output_type": "stream",
     "text": [
      "\u001b[36m(launch_and_fit pid=4569)\u001b[0m \tTrain Epoch: 7 \tTrain_loss_mri: 0.0580 | Train_acc_mri: 98.7500 | Train_loss_dna: 1.1343 | Train_acc_dna: 59.5023 | Validation_loss_mri: 0.6122 | Validation_acc_mri: 82.8125 | Validation_loss_dna: 2.4085 | Validation_acc_dna: 30.7292\u001b[32m [repeated 4x across cluster]\u001b[0m\n"
     ]
    },
    {
     "name": "stderr",
     "output_type": "stream",
     "text": [
      " 70%|\u001b[34m███████   \u001b[0m| 7/10 [00:27<00:11,  3.81s/it]\u001b[32m [repeated 4x across cluster]\u001b[0m\n"
     ]
    },
    {
     "name": "stdout",
     "output_type": "stream",
     "text": [
      "\u001b[36m(launch_and_fit pid=4569)\u001b[0m \tTrain Epoch: 9 \tTrain_loss_mri: 0.0461 | Train_acc_mri: 99.3750 | Train_loss_dna: 0.9836 | Train_acc_dna: 64.1319 | Validation_loss_mri: 0.5421 | Validation_acc_mri: 85.9375 | Validation_loss_dna: 2.8950 | Validation_acc_dna: 14.0625\u001b[32m [repeated 4x across cluster]\u001b[0m\n"
     ]
    },
    {
     "name": "stderr",
     "output_type": "stream",
     "text": [
      " 90%|\u001b[34m█████████ \u001b[0m| 9/10 [00:34<00:03,  3.74s/it]\u001b[32m [repeated 4x across cluster]\u001b[0m\n"
     ]
    },
    {
     "name": "stdout",
     "output_type": "stream",
     "text": [
      "\u001b[36m(launch_and_fit pid=4569)\u001b[0m save graph in  results/FL/\n",
      "\u001b[36m(launch_and_fit pid=4569)\u001b[0m mri_net.features.0.weight 5.9604644775390625e-06\n",
      "\u001b[36m(launch_and_fit pid=4569)\u001b[0m mri_net.features.0.bias 1.9073486328125e-06\n",
      "\u001b[36m(launch_and_fit pid=4569)\u001b[0m mri_net.features.3.weight 1.1920928955078125e-06\n",
      "\u001b[36m(launch_and_fit pid=4569)\u001b[0m mri_net.features.3.bias 1.430511474609375e-06\n",
      "\u001b[36m(launch_and_fit pid=4569)\u001b[0m mri_net.classifier.0.weight 1.6689300537109375e-06\n",
      "\u001b[36m(launch_and_fit pid=4569)\u001b[0m mri_net.classifier.0.bias 1.1920928955078125e-06\n",
      "\u001b[36m(launch_and_fit pid=4569)\u001b[0m mri_net.classifier.2.weight 1.430511474609375e-06\n",
      "\u001b[36m(launch_and_fit pid=4569)\u001b[0m mri_net.classifier.2.bias 1.1920928955078125e-06\n",
      "\u001b[36m(launch_and_fit pid=4569)\u001b[0m mri_net.classifier.3.weights 1.1920928955078125e-06\n",
      "\u001b[36m(launch_and_fit pid=4569)\u001b[0m dna_net.fc1.weight 1.6689300537109375e-06\n",
      "\u001b[36m(launch_and_fit pid=4569)\u001b[0m dna_net.fc1.bias 1.430511474609375e-06\n",
      "\u001b[36m(launch_and_fit pid=4569)\u001b[0m dna_net.fc2.weight 1.6689300537109375e-06\n",
      "\u001b[36m(launch_and_fit pid=4569)\u001b[0m dna_net.fc2.bias 1.1920928955078125e-06\n",
      "\u001b[36m(launch_and_fit pid=4569)\u001b[0m dna_net.fc3.weight 1.430511474609375e-06\n",
      "\u001b[36m(launch_and_fit pid=4569)\u001b[0m dna_net.fc3.bias 1.1920928955078125e-06\n",
      "\u001b[36m(launch_and_fit pid=4569)\u001b[0m dna_net.fc4.weight 1.1920928955078125e-06\n",
      "\u001b[36m(launch_and_fit pid=4569)\u001b[0m dna_net.fc4.bias 1.6689300537109375e-06\n",
      "\u001b[36m(launch_and_fit pid=4569)\u001b[0m dna_net.qnn.weights 1.1920928955078125e-06\n",
      "\u001b[36m(launch_and_fit pid=4569)\u001b[0m attention.in_proj_weight 1.430511474609375e-06\n",
      "\u001b[36m(launch_and_fit pid=4569)\u001b[0m attention.in_proj_bias 1.430511474609375e-06\n",
      "\u001b[36m(launch_and_fit pid=4569)\u001b[0m attention.out_proj.weight 1.1920928955078125e-06\n",
      "\u001b[36m(launch_and_fit pid=4569)\u001b[0m attention.out_proj.bias 1.430511474609375e-06\n",
      "\u001b[36m(launch_and_fit pid=4569)\u001b[0m fc1.weight 1.430511474609375e-06\n",
      "\u001b[36m(launch_and_fit pid=4569)\u001b[0m fc1.bias 1.1920928955078125e-06\n",
      "\u001b[36m(launch_and_fit pid=4569)\u001b[0m fc2_mri.weight 1.6689300537109375e-06\n",
      "\u001b[36m(launch_and_fit pid=4569)\u001b[0m fc2_mri.bias 9.5367431640625e-07\n",
      "\u001b[36m(launch_and_fit pid=4569)\u001b[0m fc2_dna.weight 1.1920928955078125e-06\n",
      "\u001b[36m(launch_and_fit pid=4569)\u001b[0m fc2_dna.bias 1.430511474609375e-06\n"
     ]
    },
    {
     "name": "stderr",
     "output_type": "stream",
     "text": [
      "100%|\u001b[34m██████████\u001b[0m| 10/10 [00:39<00:00,  3.92s/it]\u001b[32m [repeated 3x across cluster]\u001b[0m\n"
     ]
    },
    {
     "name": "stdout",
     "output_type": "stream",
     "text": [
      "\u001b[36m(launch_and_fit pid=4568)\u001b[0m \tTrain Epoch: 10 \tTrain_loss_mri: 0.0600 | Train_acc_mri: 99.0625 | Train_loss_dna: 0.9859 | Train_acc_dna: 65.6134 | Validation_loss_mri: 0.5946 | Validation_acc_mri: 90.6250 | Validation_loss_dna: 2.4698 | Validation_acc_dna: 30.7292\u001b[32m [repeated 3x across cluster]\u001b[0m\n",
      "\u001b[36m(launch_and_fit pid=4650)\u001b[0m Run with homomorphic encryption\n",
      "\u001b[36m(launch_and_fit pid=4568)\u001b[0m save graph in  results/FL/\n",
      "\u001b[36m(launch_and_fit pid=4568)\u001b[0m fc2_dna.bias 1.430511474609375e-06\u001b[32m [repeated 23x across cluster]\u001b[0m\n",
      "\u001b[36m(launch_and_fit pid=4568)\u001b[0m dna_net.qnn.weights 9.5367431640625e-07\n",
      "\u001b[36m(launch_and_fit pid=4568)\u001b[0m attention.in_proj_weight 1.1920928955078125e-06\n",
      "\u001b[36m(launch_and_fit pid=4568)\u001b[0m attention.in_proj_bias 1.430511474609375e-06\n",
      "\u001b[36m(launch_and_fit pid=4568)\u001b[0m attention.out_proj.weight 1.1920928955078125e-06\n",
      "\u001b[36m(launch_and_fit pid=4568)\u001b[0m attention.out_proj.bias 1.1920928955078125e-06\n",
      "\u001b[36m(launch_and_fit pid=4650)\u001b[0m [Client 4, round 6] fit, config: {'learning_rate': 0.003, 'batch_size': '32', 'server_round': 6, 'local_epochs': 10}\n"
     ]
    },
    {
     "name": "stderr",
     "output_type": "stream",
     "text": [
      "  0%|\u001b[34m          \u001b[0m| 0/10 [00:00<?, ?it/s]\n"
     ]
    },
    {
     "name": "stdout",
     "output_type": "stream",
     "text": [
      "\u001b[36m(launch_and_fit pid=4650)\u001b[0m Updated model\n"
     ]
    },
    {
     "name": "stderr",
     "output_type": "stream",
     "text": [
      " 10%|\u001b[34m█         \u001b[0m| 1/10 [00:04<00:40,  4.52s/it]\n"
     ]
    },
    {
     "name": "stdout",
     "output_type": "stream",
     "text": [
      "\u001b[36m(launch_and_fit pid=4650)\u001b[0m \tTrain Epoch: 1 \tTrain_loss_mri: 0.8838 | Train_acc_mri: 74.2824 | Train_loss_dna: 1.7615 | Train_acc_dna: 29.7801 | Validation_loss_mri: 0.7494 | Validation_acc_mri: 79.6875 | Validation_loss_dna: 1.9547 | Validation_acc_dna: 20.3125\n",
      "\u001b[36m(launch_and_fit pid=4675)\u001b[0m Run with homomorphic encryption\n",
      "\u001b[36m(launch_and_fit pid=4675)\u001b[0m [Client 0, round 6] fit, config: {'learning_rate': 0.003, 'batch_size': '32', 'server_round': 6, 'local_epochs': 10}\n"
     ]
    },
    {
     "name": "stderr",
     "output_type": "stream",
     "text": [
      "  0%|\u001b[34m          \u001b[0m| 0/10 [00:00<?, ?it/s]\n"
     ]
    },
    {
     "name": "stdout",
     "output_type": "stream",
     "text": [
      "\u001b[36m(launch_and_fit pid=4675)\u001b[0m Updated model\n"
     ]
    },
    {
     "name": "stderr",
     "output_type": "stream",
     "text": [
      " 20%|\u001b[34m██        \u001b[0m| 2/10 [00:08<00:35,  4.46s/it]\u001b[32m [repeated 3x across cluster]\u001b[0m\n"
     ]
    },
    {
     "name": "stdout",
     "output_type": "stream",
     "text": [
      "\u001b[36m(launch_and_fit pid=4675)\u001b[0m \tTrain Epoch: 2 \tTrain_loss_mri: 0.4637 | Train_acc_mri: 83.9468 | Train_loss_dna: 1.6835 | Train_acc_dna: 35.2083 | Validation_loss_mri: 0.9086 | Validation_acc_mri: 73.9583 | Validation_loss_dna: 2.1872 | Validation_acc_dna: 17.1875\u001b[32m [repeated 3x across cluster]\u001b[0m\n"
     ]
    },
    {
     "name": "stderr",
     "output_type": "stream",
     "text": [
      " 40%|\u001b[34m████      \u001b[0m| 4/10 [00:16<00:24,  4.04s/it]\u001b[32m [repeated 3x across cluster]\u001b[0m\n"
     ]
    },
    {
     "name": "stdout",
     "output_type": "stream",
     "text": [
      "\u001b[36m(launch_and_fit pid=4650)\u001b[0m \tTrain Epoch: 4 \tTrain_loss_mri: 0.1792 | Train_acc_mri: 94.5718 | Train_loss_dna: 1.5737 | Train_acc_dna: 37.9630 | Validation_loss_mri: 1.2836 | Validation_acc_mri: 66.1458 | Validation_loss_dna: 1.6336 | Validation_acc_dna: 40.1042\u001b[32m [repeated 3x across cluster]\u001b[0m\n"
     ]
    },
    {
     "name": "stderr",
     "output_type": "stream",
     "text": [
      " 60%|\u001b[34m██████    \u001b[0m| 6/10 [00:24<00:15,  3.91s/it]\u001b[32m [repeated 4x across cluster]\u001b[0m\n"
     ]
    },
    {
     "name": "stdout",
     "output_type": "stream",
     "text": [
      "\u001b[36m(launch_and_fit pid=4650)\u001b[0m \tTrain Epoch: 6 \tTrain_loss_mri: 0.0761 | Train_acc_mri: 99.3750 | Train_loss_dna: 1.4207 | Train_acc_dna: 45.3819 | Validation_loss_mri: 1.4019 | Validation_acc_mri: 66.1458 | Validation_loss_dna: 1.6812 | Validation_acc_dna: 47.9167\u001b[32m [repeated 4x across cluster]\u001b[0m\n"
     ]
    },
    {
     "name": "stderr",
     "output_type": "stream",
     "text": [
      " 80%|\u001b[34m████████  \u001b[0m| 8/10 [00:31<00:07,  3.85s/it]\u001b[32m [repeated 4x across cluster]\u001b[0m\n"
     ]
    },
    {
     "name": "stdout",
     "output_type": "stream",
     "text": [
      "\u001b[36m(launch_and_fit pid=4650)\u001b[0m \tTrain Epoch: 8 \tTrain_loss_mri: 0.0518 | Train_acc_mri: 98.7500 | Train_loss_dna: 1.2387 | Train_acc_dna: 53.1944 | Validation_loss_mri: 1.8649 | Validation_acc_mri: 69.2708 | Validation_loss_dna: 1.7919 | Validation_acc_dna: 25.0000\u001b[32m [repeated 4x across cluster]\u001b[0m\n"
     ]
    },
    {
     "name": "stderr",
     "output_type": "stream",
     "text": [
      "100%|\u001b[34m██████████\u001b[0m| 10/10 [00:39<00:00,  3.96s/it]\u001b[32m [repeated 4x across cluster]\u001b[0m\n"
     ]
    },
    {
     "name": "stdout",
     "output_type": "stream",
     "text": [
      "\u001b[36m(launch_and_fit pid=4650)\u001b[0m save graph in  results/FL/\n",
      "\u001b[36m(launch_and_fit pid=4650)\u001b[0m \tTrain Epoch: 10 \tTrain_loss_mri: 0.0661 | Train_acc_mri: 98.4375 | Train_loss_dna: 1.0927 | Train_acc_dna: 60.8912 | Validation_loss_mri: 2.0776 | Validation_acc_mri: 67.7083 | Validation_loss_dna: 1.9470 | Validation_acc_dna: 41.6667\u001b[32m [repeated 4x across cluster]\u001b[0m\n",
      "\u001b[36m(launch_and_fit pid=4650)\u001b[0m mri_net.features.0.weight 5.0067901611328125e-06\n",
      "\u001b[36m(launch_and_fit pid=4650)\u001b[0m mri_net.features.0.bias 1.6689300537109375e-06\n",
      "\u001b[36m(launch_and_fit pid=4650)\u001b[0m mri_net.features.3.weight 1.1920928955078125e-06\n",
      "\u001b[36m(launch_and_fit pid=4650)\u001b[0m mri_net.features.3.bias 9.5367431640625e-07\n",
      "\u001b[36m(launch_and_fit pid=4650)\u001b[0m mri_net.classifier.0.weight 1.1920928955078125e-06\n",
      "\u001b[36m(launch_and_fit pid=4650)\u001b[0m mri_net.classifier.0.bias 1.430511474609375e-06\n",
      "\u001b[36m(launch_and_fit pid=4650)\u001b[0m mri_net.classifier.2.weight 9.5367431640625e-07\n",
      "\u001b[36m(launch_and_fit pid=4650)\u001b[0m mri_net.classifier.2.bias 1.430511474609375e-06\n",
      "\u001b[36m(launch_and_fit pid=4650)\u001b[0m mri_net.classifier.3.weights 1.430511474609375e-06\n",
      "\u001b[36m(launch_and_fit pid=4650)\u001b[0m dna_net.fc1.weight 1.1920928955078125e-06\n",
      "\u001b[36m(launch_and_fit pid=4650)\u001b[0m dna_net.fc1.bias 1.1920928955078125e-06\n",
      "\u001b[36m(launch_and_fit pid=4650)\u001b[0m dna_net.fc2.weight 1.430511474609375e-06\n",
      "\u001b[36m(launch_and_fit pid=4650)\u001b[0m dna_net.fc2.bias 1.1920928955078125e-06\n",
      "\u001b[36m(launch_and_fit pid=4650)\u001b[0m dna_net.fc3.weight 9.5367431640625e-07\n",
      "\u001b[36m(launch_and_fit pid=4650)\u001b[0m dna_net.fc3.bias 9.5367431640625e-07\n",
      "\u001b[36m(launch_and_fit pid=4650)\u001b[0m dna_net.fc4.weight 9.5367431640625e-07\n",
      "\u001b[36m(launch_and_fit pid=4650)\u001b[0m dna_net.fc4.bias 1.430511474609375e-06\n",
      "\u001b[36m(launch_and_fit pid=4650)\u001b[0m dna_net.qnn.weights 9.5367431640625e-07\n",
      "\u001b[36m(launch_and_fit pid=4650)\u001b[0m attention.in_proj_weight 1.1920928955078125e-06\n",
      "\u001b[36m(launch_and_fit pid=4650)\u001b[0m attention.in_proj_bias 9.5367431640625e-07\n",
      "\u001b[36m(launch_and_fit pid=4650)\u001b[0m attention.out_proj.weight 1.430511474609375e-06\n",
      "\u001b[36m(launch_and_fit pid=4650)\u001b[0m attention.out_proj.bias 9.5367431640625e-07\n",
      "\u001b[36m(launch_and_fit pid=4650)\u001b[0m fc1.weight 1.430511474609375e-06\n",
      "\u001b[36m(launch_and_fit pid=4650)\u001b[0m fc1.bias 1.1920928955078125e-06\n",
      "\u001b[36m(launch_and_fit pid=4650)\u001b[0m fc2_mri.weight 1.1920928955078125e-06\n",
      "\u001b[36m(launch_and_fit pid=4650)\u001b[0m fc2_mri.bias 1.430511474609375e-06\n",
      "\u001b[36m(launch_and_fit pid=4650)\u001b[0m fc2_dna.weight 9.5367431640625e-07\n",
      "\u001b[36m(launch_and_fit pid=4650)\u001b[0m fc2_dna.bias 9.5367431640625e-07\n",
      "\u001b[36m(launch_and_fit pid=4733)\u001b[0m Run with homomorphic encryption\n",
      "\u001b[36m(launch_and_fit pid=4675)\u001b[0m save graph in  results/FL/\n",
      "\u001b[36m(launch_and_fit pid=4675)\u001b[0m \tTrain Epoch: 10 \tTrain_loss_mri: 0.0938 | Train_acc_mri: 98.0671 | Train_loss_dna: 1.1433 | Train_acc_dna: 54.3056 | Validation_loss_mri: 1.4721 | Validation_acc_mri: 70.8333 | Validation_loss_dna: 2.7162 | Validation_acc_dna: 18.7500\n",
      "\u001b[36m(launch_and_fit pid=4675)\u001b[0m fc2_dna.bias 1.430511474609375e-06\u001b[32m [repeated 23x across cluster]\u001b[0m\n",
      "\u001b[36m(launch_and_fit pid=4675)\u001b[0m dna_net.qnn.weights 1.1920928955078125e-06\n",
      "\u001b[36m(launch_and_fit pid=4675)\u001b[0m attention.in_proj_weight 1.1920928955078125e-06\n",
      "\u001b[36m(launch_and_fit pid=4675)\u001b[0m attention.in_proj_bias 1.1920928955078125e-06\n",
      "\u001b[36m(launch_and_fit pid=4675)\u001b[0m attention.out_proj.weight 1.430511474609375e-06\n",
      "\u001b[36m(launch_and_fit pid=4675)\u001b[0m attention.out_proj.bias 1.3589859008789062e-05\n",
      "\u001b[36m(launch_and_fit pid=4733)\u001b[0m [Client 8, round 6] fit, config: {'learning_rate': 0.003, 'batch_size': '32', 'server_round': 6, 'local_epochs': 10}\n",
      "\u001b[36m(launch_and_fit pid=4733)\u001b[0m Updated model\n"
     ]
    },
    {
     "name": "stderr",
     "output_type": "stream",
     "text": [
      "  0%|\u001b[34m          \u001b[0m| 0/10 [00:00<?, ?it/s]\n",
      "100%|\u001b[34m██████████\u001b[0m| 10/10 [00:39<00:00,  3.95s/it]\n"
     ]
    },
    {
     "name": "stdout",
     "output_type": "stream",
     "text": [
      "\u001b[36m(launch_and_fit pid=4733)\u001b[0m \tTrain Epoch: 1 \tTrain_loss_mri: 0.8028 | Train_acc_mri: 77.4074 | Train_loss_dna: 1.7494 | Train_acc_dna: 33.4491 | Validation_loss_mri: 0.4949 | Validation_acc_mri: 90.6250 | Validation_loss_dna: 1.9652 | Validation_acc_dna: 18.7500\n",
      "\u001b[36m(launch_and_fit pid=4757)\u001b[0m Run with homomorphic encryption\n",
      "\u001b[36m(launch_and_fit pid=4757)\u001b[0m [Client 2, round 6] fit, config: {'learning_rate': 0.003, 'batch_size': '32', 'server_round': 6, 'local_epochs': 10}\n"
     ]
    },
    {
     "name": "stderr",
     "output_type": "stream",
     "text": [
      " 10%|\u001b[34m█         \u001b[0m| 1/10 [00:04<00:37,  4.17s/it]\n"
     ]
    },
    {
     "name": "stdout",
     "output_type": "stream",
     "text": [
      "\u001b[36m(launch_and_fit pid=4757)\u001b[0m Updated model\n"
     ]
    },
    {
     "name": "stderr",
     "output_type": "stream",
     "text": [
      "  0%|\u001b[34m          \u001b[0m| 0/10 [00:00<?, ?it/s]\n"
     ]
    },
    {
     "name": "stdout",
     "output_type": "stream",
     "text": [
      "\u001b[36m(launch_and_fit pid=4733)\u001b[0m \tTrain Epoch: 3 \tTrain_loss_mri: 0.1414 | Train_acc_mri: 97.4421 | Train_loss_dna: 1.4559 | Train_acc_dna: 47.9977 | Validation_loss_mri: 0.6835 | Validation_acc_mri: 70.8333 | Validation_loss_dna: 1.9185 | Validation_acc_dna: 15.6250\u001b[32m [repeated 4x across cluster]\u001b[0m\n"
     ]
    },
    {
     "name": "stderr",
     "output_type": "stream",
     "text": [
      " 30%|\u001b[34m███       \u001b[0m| 3/10 [00:11<00:26,  3.83s/it]\u001b[32m [repeated 4x across cluster]\u001b[0m\n"
     ]
    },
    {
     "name": "stdout",
     "output_type": "stream",
     "text": [
      "\u001b[36m(launch_and_fit pid=4733)\u001b[0m \tTrain Epoch: 5 \tTrain_loss_mri: 0.0624 | Train_acc_mri: 99.3171 | Train_loss_dna: 1.2870 | Train_acc_dna: 47.8819 | Validation_loss_mri: 0.6959 | Validation_acc_mri: 89.0625 | Validation_loss_dna: 1.8341 | Validation_acc_dna: 12.5000\u001b[32m [repeated 4x across cluster]\u001b[0m\n"
     ]
    },
    {
     "name": "stderr",
     "output_type": "stream",
     "text": [
      " 50%|\u001b[34m█████     \u001b[0m| 5/10 [00:19<00:19,  3.89s/it]\u001b[32m [repeated 4x across cluster]\u001b[0m\n"
     ]
    },
    {
     "name": "stdout",
     "output_type": "stream",
     "text": [
      "\u001b[36m(launch_and_fit pid=4733)\u001b[0m \tTrain Epoch: 7 \tTrain_loss_mri: 0.0745 | Train_acc_mri: 98.6921 | Train_loss_dna: 1.0984 | Train_acc_dna: 59.1667 | Validation_loss_mri: 0.9505 | Validation_acc_mri: 67.7083 | Validation_loss_dna: 1.7946 | Validation_acc_dna: 29.1667\u001b[32m [repeated 4x across cluster]\u001b[0m\n"
     ]
    },
    {
     "name": "stderr",
     "output_type": "stream",
     "text": [
      " 70%|\u001b[34m███████   \u001b[0m| 7/10 [00:27<00:11,  3.82s/it]\u001b[32m [repeated 4x across cluster]\u001b[0m\n"
     ]
    },
    {
     "name": "stdout",
     "output_type": "stream",
     "text": [
      "\u001b[36m(launch_and_fit pid=4733)\u001b[0m \tTrain Epoch: 9 \tTrain_loss_mri: 0.0459 | Train_acc_mri: 98.6921 | Train_loss_dna: 0.9690 | Train_acc_dna: 63.3681 | Validation_loss_mri: 0.9152 | Validation_acc_mri: 67.7083 | Validation_loss_dna: 1.8896 | Validation_acc_dna: 14.0625\u001b[32m [repeated 4x across cluster]\u001b[0m\n"
     ]
    },
    {
     "name": "stderr",
     "output_type": "stream",
     "text": [
      " 90%|\u001b[34m█████████ \u001b[0m| 9/10 [00:34<00:03,  3.80s/it]\u001b[32m [repeated 4x across cluster]\u001b[0m\n"
     ]
    },
    {
     "name": "stdout",
     "output_type": "stream",
     "text": [
      "\u001b[36m(launch_and_fit pid=4733)\u001b[0m save graph in  results/FL/\n",
      "\u001b[36m(launch_and_fit pid=4733)\u001b[0m mri_net.features.0.weight 5.245208740234375e-06\n",
      "\u001b[36m(launch_and_fit pid=4733)\u001b[0m mri_net.features.0.bias 1.1920928955078125e-06\n",
      "\u001b[36m(launch_and_fit pid=4733)\u001b[0m mri_net.features.3.weight 9.5367431640625e-07\n",
      "\u001b[36m(launch_and_fit pid=4733)\u001b[0m mri_net.features.3.bias 9.5367431640625e-07\n",
      "\u001b[36m(launch_and_fit pid=4733)\u001b[0m mri_net.classifier.0.weight 1.1920928955078125e-06\n",
      "\u001b[36m(launch_and_fit pid=4733)\u001b[0m mri_net.classifier.0.bias 9.5367431640625e-07\n",
      "\u001b[36m(launch_and_fit pid=4733)\u001b[0m mri_net.classifier.2.weight 1.1920928955078125e-06\n",
      "\u001b[36m(launch_and_fit pid=4733)\u001b[0m mri_net.classifier.2.bias 1.1920928955078125e-06\n",
      "\u001b[36m(launch_and_fit pid=4733)\u001b[0m mri_net.classifier.3.weights 9.5367431640625e-07\n",
      "\u001b[36m(launch_and_fit pid=4733)\u001b[0m dna_net.fc1.weight 9.5367431640625e-07\n",
      "\u001b[36m(launch_and_fit pid=4733)\u001b[0m dna_net.fc1.bias 9.5367431640625e-07\n",
      "\u001b[36m(launch_and_fit pid=4733)\u001b[0m dna_net.fc2.weight 9.5367431640625e-07\n",
      "\u001b[36m(launch_and_fit pid=4733)\u001b[0m dna_net.fc2.bias 1.1920928955078125e-06\n",
      "\u001b[36m(launch_and_fit pid=4733)\u001b[0m dna_net.fc3.weight 1.1920928955078125e-06\n",
      "\u001b[36m(launch_and_fit pid=4733)\u001b[0m dna_net.fc3.bias 9.5367431640625e-07\n",
      "\u001b[36m(launch_and_fit pid=4733)\u001b[0m dna_net.fc4.weight 9.5367431640625e-07\n",
      "\u001b[36m(launch_and_fit pid=4733)\u001b[0m dna_net.fc4.bias 1.1920928955078125e-06\n",
      "\u001b[36m(launch_and_fit pid=4733)\u001b[0m dna_net.qnn.weights 1.1920928955078125e-06\n",
      "\u001b[36m(launch_and_fit pid=4733)\u001b[0m attention.in_proj_weight 1.1920928955078125e-06\n",
      "\u001b[36m(launch_and_fit pid=4733)\u001b[0m attention.in_proj_bias 9.5367431640625e-07\n",
      "\u001b[36m(launch_and_fit pid=4733)\u001b[0m attention.out_proj.weight 1.1920928955078125e-06\n",
      "\u001b[36m(launch_and_fit pid=4733)\u001b[0m attention.out_proj.bias 1.1920928955078125e-06\n",
      "\u001b[36m(launch_and_fit pid=4733)\u001b[0m fc1.weight 1.1920928955078125e-06\n",
      "\u001b[36m(launch_and_fit pid=4733)\u001b[0m fc1.bias 7.152557373046875e-07\n",
      "\u001b[36m(launch_and_fit pid=4733)\u001b[0m fc2_mri.weight 9.5367431640625e-07\n",
      "\u001b[36m(launch_and_fit pid=4733)\u001b[0m fc2_mri.bias 9.5367431640625e-07\n",
      "\u001b[36m(launch_and_fit pid=4733)\u001b[0m fc2_dna.weight 9.5367431640625e-07\n",
      "\u001b[36m(launch_and_fit pid=4733)\u001b[0m fc2_dna.bias 1.1920928955078125e-06\n",
      "\u001b[36m(launch_and_fit pid=4814)\u001b[0m Run with homomorphic encryption\n",
      "\u001b[36m(launch_and_fit pid=4757)\u001b[0m \tTrain Epoch: 10 \tTrain_loss_mri: 0.0595 | Train_acc_mri: 98.3218 | Train_loss_dna: 1.0007 | Train_acc_dna: 62.9398 | Validation_loss_mri: 0.5609 | Validation_acc_mri: 73.9583 | Validation_loss_dna: 1.8465 | Validation_acc_dna: 32.2917\u001b[32m [repeated 3x across cluster]\u001b[0m\n",
      "\u001b[36m(launch_and_fit pid=4757)\u001b[0m save graph in  results/FL/\n",
      "\u001b[36m(launch_and_fit pid=4757)\u001b[0m fc2_dna.bias 1.1920928955078125e-06\u001b[32m [repeated 23x across cluster]\u001b[0m\n",
      "\u001b[36m(launch_and_fit pid=4757)\u001b[0m dna_net.qnn.weights 7.152557373046875e-07\n",
      "\u001b[36m(launch_and_fit pid=4757)\u001b[0m attention.in_proj_weight 9.5367431640625e-07\n",
      "\u001b[36m(launch_and_fit pid=4757)\u001b[0m attention.in_proj_bias 1.1920928955078125e-06\n",
      "\u001b[36m(launch_and_fit pid=4757)\u001b[0m attention.out_proj.weight 9.5367431640625e-07\n",
      "\u001b[36m(launch_and_fit pid=4757)\u001b[0m attention.out_proj.bias 9.5367431640625e-07\n",
      "\u001b[36m(launch_and_fit pid=4814)\u001b[0m [Client 5, round 6] fit, config: {'learning_rate': 0.003, 'batch_size': '32', 'server_round': 6, 'local_epochs': 10}\n",
      "\u001b[36m(launch_and_fit pid=4814)\u001b[0m Updated model\n"
     ]
    },
    {
     "name": "stderr",
     "output_type": "stream",
     "text": [
      "  0%|\u001b[34m          \u001b[0m| 0/10 [00:00<?, ?it/s]\n",
      "100%|\u001b[34m██████████\u001b[0m| 10/10 [00:37<00:00,  3.79s/it]\u001b[32m [repeated 3x across cluster]\u001b[0m\n"
     ]
    },
    {
     "name": "stdout",
     "output_type": "stream",
     "text": [
      "\u001b[36m(launch_and_fit pid=4816)\u001b[0m Run with homomorphic encryption\n",
      "\u001b[36m(launch_and_fit pid=4814)\u001b[0m \tTrain Epoch: 1 \tTrain_loss_mri: 0.5707 | Train_acc_mri: 81.5856 | Train_loss_dna: 1.8653 | Train_acc_dna: 27.9051 | Validation_loss_mri: 0.6861 | Validation_acc_mri: 73.9583 | Validation_loss_dna: 1.8921 | Validation_acc_dna: 32.2917\n",
      "\u001b[36m(launch_and_fit pid=4816)\u001b[0m [Client 9, round 6] fit, config: {'learning_rate': 0.003, 'batch_size': '32', 'server_round': 6, 'local_epochs': 10}\n",
      "\u001b[36m(launch_and_fit pid=4816)\u001b[0m \tTrain Epoch: 1 \tTrain_loss_mri: 0.6545 | Train_acc_mri: 77.4294 | Train_loss_dna: 1.8149 | Train_acc_dna: 32.6512 | Validation_loss_mri: 0.6244 | Validation_acc_mri: 72.3958 | Validation_loss_dna: 1.6165 | Validation_acc_dna: 15.6250\n",
      "\u001b[36m(launch_and_fit pid=4816)\u001b[0m Updated model\n"
     ]
    },
    {
     "name": "stderr",
     "output_type": "stream",
     "text": [
      "  0%|\u001b[34m          \u001b[0m| 0/10 [00:00<?, ?it/s]\n",
      " 20%|\u001b[34m██        \u001b[0m| 2/10 [00:08<00:32,  4.01s/it]\u001b[32m [repeated 3x across cluster]\u001b[0m\n"
     ]
    },
    {
     "name": "stdout",
     "output_type": "stream",
     "text": [
      "\u001b[36m(launch_and_fit pid=4814)\u001b[0m \tTrain Epoch: 3 \tTrain_loss_mri: 0.1514 | Train_acc_mri: 97.1875 | Train_loss_dna: 1.4955 | Train_acc_dna: 43.0787 | Validation_loss_mri: 0.4622 | Validation_acc_mri: 87.5000 | Validation_loss_dna: 1.9852 | Validation_acc_dna: 15.6250\u001b[32m [repeated 3x across cluster]\u001b[0m\n"
     ]
    },
    {
     "name": "stderr",
     "output_type": "stream",
     "text": [
      " 40%|\u001b[34m████      \u001b[0m| 4/10 [00:15<00:22,  3.83s/it]\u001b[32m [repeated 4x across cluster]\u001b[0m\n"
     ]
    },
    {
     "name": "stdout",
     "output_type": "stream",
     "text": [
      "\u001b[36m(launch_and_fit pid=4814)\u001b[0m \tTrain Epoch: 5 \tTrain_loss_mri: 0.0879 | Train_acc_mri: 97.0718 | Train_loss_dna: 1.2973 | Train_acc_dna: 51.0069 | Validation_loss_mri: 0.3712 | Validation_acc_mri: 90.6250 | Validation_loss_dna: 2.1698 | Validation_acc_dna: 10.9375\u001b[32m [repeated 4x across cluster]\u001b[0m\n"
     ]
    },
    {
     "name": "stderr",
     "output_type": "stream",
     "text": [
      " 60%|\u001b[34m██████    \u001b[0m| 6/10 [00:23<00:15,  3.78s/it]\u001b[32m [repeated 4x across cluster]\u001b[0m\n"
     ]
    },
    {
     "name": "stdout",
     "output_type": "stream",
     "text": [
      "\u001b[36m(launch_and_fit pid=4814)\u001b[0m \tTrain Epoch: 7 \tTrain_loss_mri: 0.0754 | Train_acc_mri: 97.7546 | Train_loss_dna: 1.0920 | Train_acc_dna: 62.9167 | Validation_loss_mri: 0.4013 | Validation_acc_mri: 90.6250 | Validation_loss_dna: 2.6061 | Validation_acc_dna: 9.3750\u001b[32m [repeated 4x across cluster]\u001b[0m\n"
     ]
    },
    {
     "name": "stderr",
     "output_type": "stream",
     "text": [
      " 80%|\u001b[34m████████  \u001b[0m| 8/10 [00:30<00:07,  3.84s/it]\u001b[32m [repeated 4x across cluster]\u001b[0m\n"
     ]
    },
    {
     "name": "stdout",
     "output_type": "stream",
     "text": [
      "\u001b[36m(launch_and_fit pid=4814)\u001b[0m \tTrain Epoch: 9 \tTrain_loss_mri: 0.0969 | Train_acc_mri: 96.8750 | Train_loss_dna: 0.9360 | Train_acc_dna: 66.2384 | Validation_loss_mri: 0.4811 | Validation_acc_mri: 89.0625 | Validation_loss_dna: 2.5621 | Validation_acc_dna: 7.8125\u001b[32m [repeated 4x across cluster]\u001b[0m\n",
      "\u001b[36m(launch_and_fit pid=4814)\u001b[0m save graph in  results/FL/\n"
     ]
    },
    {
     "name": "stderr",
     "output_type": "stream",
     "text": [
      "100%|\u001b[34m██████████\u001b[0m| 10/10 [00:38<00:00,  3.84s/it]\u001b[32m [repeated 4x across cluster]\u001b[0m\n"
     ]
    },
    {
     "name": "stdout",
     "output_type": "stream",
     "text": [
      "\u001b[36m(launch_and_fit pid=4814)\u001b[0m mri_net.features.0.weight 6.198883056640625e-06\n",
      "\u001b[36m(launch_and_fit pid=4814)\u001b[0m mri_net.features.0.bias 1.6689300537109375e-06\n",
      "\u001b[36m(launch_and_fit pid=4814)\u001b[0m mri_net.features.3.weight 1.1920928955078125e-06\n",
      "\u001b[36m(launch_and_fit pid=4814)\u001b[0m mri_net.features.3.bias 1.430511474609375e-06\n",
      "\u001b[36m(launch_and_fit pid=4814)\u001b[0m mri_net.classifier.0.weight 9.5367431640625e-07\n",
      "\u001b[36m(launch_and_fit pid=4814)\u001b[0m mri_net.classifier.0.bias 9.5367431640625e-07\n",
      "\u001b[36m(launch_and_fit pid=4814)\u001b[0m mri_net.classifier.2.weight 9.5367431640625e-07\n",
      "\u001b[36m(launch_and_fit pid=4814)\u001b[0m mri_net.classifier.2.bias 9.5367431640625e-07\n",
      "\u001b[36m(launch_and_fit pid=4814)\u001b[0m mri_net.classifier.3.weights 1.1920928955078125e-06\n",
      "\u001b[36m(launch_and_fit pid=4814)\u001b[0m dna_net.fc1.weight 9.5367431640625e-07\n",
      "\u001b[36m(launch_and_fit pid=4814)\u001b[0m dna_net.fc1.bias 9.5367431640625e-07\n",
      "\u001b[36m(launch_and_fit pid=4814)\u001b[0m dna_net.fc2.weight 1.430511474609375e-06\n",
      "\u001b[36m(launch_and_fit pid=4814)\u001b[0m dna_net.fc2.bias 9.5367431640625e-07\n",
      "\u001b[36m(launch_and_fit pid=4814)\u001b[0m dna_net.fc3.weight 9.5367431640625e-07\n",
      "\u001b[36m(launch_and_fit pid=4814)\u001b[0m dna_net.fc3.bias 9.5367431640625e-07\n",
      "\u001b[36m(launch_and_fit pid=4814)\u001b[0m dna_net.fc4.weight 9.5367431640625e-07\n",
      "\u001b[36m(launch_and_fit pid=4814)\u001b[0m dna_net.fc4.bias 1.430511474609375e-06\n",
      "\u001b[36m(launch_and_fit pid=4814)\u001b[0m dna_net.qnn.weights 9.5367431640625e-07\n",
      "\u001b[36m(launch_and_fit pid=4814)\u001b[0m attention.in_proj_weight 9.5367431640625e-07\n",
      "\u001b[36m(launch_and_fit pid=4814)\u001b[0m attention.in_proj_bias 1.430511474609375e-06\n",
      "\u001b[36m(launch_and_fit pid=4814)\u001b[0m attention.out_proj.weight 9.5367431640625e-07\n",
      "\u001b[36m(launch_and_fit pid=4814)\u001b[0m attention.out_proj.bias 9.5367431640625e-07\n",
      "\u001b[36m(launch_and_fit pid=4814)\u001b[0m fc1.weight 1.1920928955078125e-06\n",
      "\u001b[36m(launch_and_fit pid=4814)\u001b[0m fc1.bias 1.1920928955078125e-06\n",
      "\u001b[36m(launch_and_fit pid=4814)\u001b[0m fc2_mri.weight 1.1920928955078125e-06\n",
      "\u001b[36m(launch_and_fit pid=4814)\u001b[0m fc2_mri.bias 1.430511474609375e-06\n",
      "\u001b[36m(launch_and_fit pid=4814)\u001b[0m fc2_dna.weight 9.5367431640625e-07\n",
      "\u001b[36m(launch_and_fit pid=4814)\u001b[0m fc2_dna.bias 1.1920928955078125e-06\n",
      "\u001b[36m(launch_and_fit pid=4896)\u001b[0m Run with homomorphic encryption\n",
      "\u001b[36m(launch_and_fit pid=4816)\u001b[0m \tTrain Epoch: 10 \tTrain_loss_mri: 0.0738 | Train_acc_mri: 98.1149 | Train_loss_dna: 1.0526 | Train_acc_dna: 59.5665 | Validation_loss_mri: 0.6173 | Validation_acc_mri: 89.0625 | Validation_loss_dna: 1.5998 | Validation_acc_dna: 36.9792\u001b[32m [repeated 3x across cluster]\u001b[0m\n",
      "\u001b[36m(launch_and_fit pid=4816)\u001b[0m save graph in  results/FL/\n",
      "\u001b[36m(launch_and_fit pid=4816)\u001b[0m fc2_dna.bias 1.1920928955078125e-06\u001b[32m [repeated 23x across cluster]\u001b[0m\n",
      "\u001b[36m(launch_and_fit pid=4816)\u001b[0m dna_net.qnn.weights 1.1920928955078125e-06\n",
      "\u001b[36m(launch_and_fit pid=4816)\u001b[0m attention.in_proj_weight 1.1920928955078125e-06\n",
      "\u001b[36m(launch_and_fit pid=4816)\u001b[0m attention.in_proj_bias 1.430511474609375e-06\n",
      "\u001b[36m(launch_and_fit pid=4816)\u001b[0m attention.out_proj.weight 1.1920928955078125e-06\n",
      "\u001b[36m(launch_and_fit pid=4816)\u001b[0m attention.out_proj.bias 1.1920928955078125e-06\n",
      "\u001b[36m(launch_and_fit pid=4896)\u001b[0m [Client 7, round 6] fit, config: {'learning_rate': 0.003, 'batch_size': '32', 'server_round': 6, 'local_epochs': 10}\n"
     ]
    },
    {
     "name": "stderr",
     "output_type": "stream",
     "text": [
      "  0%|\u001b[34m          \u001b[0m| 0/10 [00:00<?, ?it/s]\n",
      "100%|\u001b[34m██████████\u001b[0m| 10/10 [00:38<00:00,  3.85s/it]\n"
     ]
    },
    {
     "name": "stdout",
     "output_type": "stream",
     "text": [
      "\u001b[36m(launch_and_fit pid=4896)\u001b[0m Updated model\n"
     ]
    },
    {
     "name": "stderr",
     "output_type": "stream",
     "text": [
      " 10%|\u001b[34m█         \u001b[0m| 1/10 [00:04<00:40,  4.53s/it]\n"
     ]
    },
    {
     "name": "stdout",
     "output_type": "stream",
     "text": [
      "\u001b[36m(launch_and_fit pid=4898)\u001b[0m Run with homomorphic encryption\n",
      "\u001b[36m(launch_and_fit pid=4896)\u001b[0m \tTrain Epoch: 1 \tTrain_loss_mri: 0.6231 | Train_acc_mri: 81.3310 | Train_loss_dna: 1.9649 | Train_acc_dna: 28.4144 | Validation_loss_mri: 0.5501 | Validation_acc_mri: 90.6250 | Validation_loss_dna: 1.6964 | Validation_acc_dna: 44.2708\n",
      "\u001b[36m(launch_and_fit pid=4898)\u001b[0m [Client 1, round 6] fit, config: {'learning_rate': 0.003, 'batch_size': '32', 'server_round': 6, 'local_epochs': 10}\n",
      "\u001b[36m(launch_and_fit pid=4898)\u001b[0m \tTrain Epoch: 1 \tTrain_loss_mri: 0.7795 | Train_acc_mri: 76.5278 | Train_loss_dna: 1.8148 | Train_acc_dna: 34.5833 | Validation_loss_mri: 0.4697 | Validation_acc_mri: 84.3750 | Validation_loss_dna: 1.9572 | Validation_acc_dna: 30.7292\n"
     ]
    },
    {
     "name": "stderr",
     "output_type": "stream",
     "text": [
      "  0%|\u001b[34m          \u001b[0m| 0/10 [00:00<?, ?it/s]\n"
     ]
    },
    {
     "name": "stdout",
     "output_type": "stream",
     "text": [
      "\u001b[36m(launch_and_fit pid=4898)\u001b[0m Updated model\n"
     ]
    },
    {
     "name": "stderr",
     "output_type": "stream",
     "text": [
      " 30%|\u001b[34m███       \u001b[0m| 3/10 [00:12<00:27,  3.91s/it]\u001b[32m [repeated 4x across cluster]\u001b[0m\n"
     ]
    },
    {
     "name": "stdout",
     "output_type": "stream",
     "text": [
      "\u001b[36m(launch_and_fit pid=4896)\u001b[0m \tTrain Epoch: 3 \tTrain_loss_mri: 0.1684 | Train_acc_mri: 94.8264 | Train_loss_dna: 1.6591 | Train_acc_dna: 37.3958 | Validation_loss_mri: 0.7088 | Validation_acc_mri: 75.5208 | Validation_loss_dna: 1.3406 | Validation_acc_dna: 52.0833\u001b[32m [repeated 3x across cluster]\u001b[0m\n"
     ]
    },
    {
     "name": "stderr",
     "output_type": "stream",
     "text": [
      " 50%|\u001b[34m█████     \u001b[0m| 5/10 [00:19<00:19,  3.84s/it]\u001b[32m [repeated 4x across cluster]\u001b[0m\n"
     ]
    },
    {
     "name": "stdout",
     "output_type": "stream",
     "text": [
      "\u001b[36m(launch_and_fit pid=4896)\u001b[0m \tTrain Epoch: 5 \tTrain_loss_mri: 0.0720 | Train_acc_mri: 99.0625 | Train_loss_dna: 1.4432 | Train_acc_dna: 45.5208 | Validation_loss_mri: 0.5010 | Validation_acc_mri: 78.6458 | Validation_loss_dna: 1.3412 | Validation_acc_dna: 50.5208\u001b[32m [repeated 4x across cluster]\u001b[0m\n"
     ]
    },
    {
     "name": "stderr",
     "output_type": "stream",
     "text": [
      " 70%|\u001b[34m███████   \u001b[0m| 7/10 [00:26<00:11,  3.76s/it]\u001b[32m [repeated 4x across cluster]\u001b[0m\n"
     ]
    },
    {
     "name": "stdout",
     "output_type": "stream",
     "text": [
      "\u001b[36m(launch_and_fit pid=4896)\u001b[0m \tTrain Epoch: 7 \tTrain_loss_mri: 0.0541 | Train_acc_mri: 99.0046 | Train_loss_dna: 1.2424 | Train_acc_dna: 55.1042 | Validation_loss_mri: 0.5399 | Validation_acc_mri: 75.5208 | Validation_loss_dna: 1.3972 | Validation_acc_dna: 52.0833\u001b[32m [repeated 4x across cluster]\u001b[0m\n"
     ]
    },
    {
     "name": "stderr",
     "output_type": "stream",
     "text": [
      " 90%|\u001b[34m█████████ \u001b[0m| 9/10 [00:34<00:03,  3.76s/it]\u001b[32m [repeated 4x across cluster]\u001b[0m\n"
     ]
    },
    {
     "name": "stdout",
     "output_type": "stream",
     "text": [
      "\u001b[36m(launch_and_fit pid=4896)\u001b[0m \tTrain Epoch: 9 \tTrain_loss_mri: 0.0939 | Train_acc_mri: 97.5000 | Train_loss_dna: 1.1491 | Train_acc_dna: 56.7477 | Validation_loss_mri: 0.5159 | Validation_acc_mri: 95.3125 | Validation_loss_dna: 1.6702 | Validation_acc_dna: 45.8333\u001b[32m [repeated 4x across cluster]\u001b[0m\n",
      "\u001b[36m(launch_and_fit pid=4896)\u001b[0m save graph in  results/FL/\n",
      "\u001b[36m(launch_and_fit pid=4896)\u001b[0m mri_net.features.0.weight 4.5299530029296875e-06\n",
      "\u001b[36m(launch_and_fit pid=4896)\u001b[0m mri_net.features.0.bias 1.1920928955078125e-06\n",
      "\u001b[36m(launch_and_fit pid=4896)\u001b[0m mri_net.features.3.weight 9.5367431640625e-07\n",
      "\u001b[36m(launch_and_fit pid=4896)\u001b[0m mri_net.features.3.bias 9.5367431640625e-07\n",
      "\u001b[36m(launch_and_fit pid=4896)\u001b[0m mri_net.classifier.0.weight 9.5367431640625e-07\n",
      "\u001b[36m(launch_and_fit pid=4896)\u001b[0m mri_net.classifier.0.bias 1.1920928955078125e-06\n",
      "\u001b[36m(launch_and_fit pid=4896)\u001b[0m mri_net.classifier.2.weight 9.5367431640625e-07\n",
      "\u001b[36m(launch_and_fit pid=4896)\u001b[0m mri_net.classifier.2.bias 7.152557373046875e-07\n",
      "\u001b[36m(launch_and_fit pid=4896)\u001b[0m mri_net.classifier.3.weights 9.5367431640625e-07\n",
      "\u001b[36m(launch_and_fit pid=4896)\u001b[0m dna_net.fc1.weight 1.1920928955078125e-06\n",
      "\u001b[36m(launch_and_fit pid=4896)\u001b[0m dna_net.fc1.bias 9.5367431640625e-07\n",
      "\u001b[36m(launch_and_fit pid=4896)\u001b[0m dna_net.fc2.weight 9.5367431640625e-07\n",
      "\u001b[36m(launch_and_fit pid=4896)\u001b[0m dna_net.fc2.bias 1.1920928955078125e-06\n",
      "\u001b[36m(launch_and_fit pid=4896)\u001b[0m dna_net.fc3.weight 9.5367431640625e-07\n",
      "\u001b[36m(launch_and_fit pid=4896)\u001b[0m dna_net.fc3.bias 9.5367431640625e-07\n",
      "\u001b[36m(launch_and_fit pid=4896)\u001b[0m dna_net.fc4.weight 1.1920928955078125e-06\n",
      "\u001b[36m(launch_and_fit pid=4896)\u001b[0m dna_net.fc4.bias 9.5367431640625e-07\n",
      "\u001b[36m(launch_and_fit pid=4896)\u001b[0m dna_net.qnn.weights 9.5367431640625e-07\n",
      "\u001b[36m(launch_and_fit pid=4896)\u001b[0m attention.in_proj_weight 1.1920928955078125e-06\n",
      "\u001b[36m(launch_and_fit pid=4896)\u001b[0m attention.in_proj_bias 9.5367431640625e-07\n",
      "\u001b[36m(launch_and_fit pid=4896)\u001b[0m attention.out_proj.weight 9.5367431640625e-07\n",
      "\u001b[36m(launch_and_fit pid=4896)\u001b[0m attention.out_proj.bias 1.1920928955078125e-06\n",
      "\u001b[36m(launch_and_fit pid=4896)\u001b[0m fc1.weight 9.5367431640625e-07\n",
      "\u001b[36m(launch_and_fit pid=4896)\u001b[0m fc1.bias 9.5367431640625e-07\n",
      "\u001b[36m(launch_and_fit pid=4896)\u001b[0m fc2_mri.weight 9.5367431640625e-07\n",
      "\u001b[36m(launch_and_fit pid=4896)\u001b[0m fc2_mri.bias 9.5367431640625e-07\n",
      "\u001b[36m(launch_and_fit pid=4896)\u001b[0m fc2_dna.weight 9.5367431640625e-07\n",
      "\u001b[36m(launch_and_fit pid=4896)\u001b[0m fc2_dna.bias 1.1920928955078125e-06\n",
      "\u001b[36m(launch_and_fit pid=4898)\u001b[0m \tTrain Epoch: 10 \tTrain_loss_mri: 0.1086 | Train_acc_mri: 96.3889 | Train_loss_dna: 0.9762 | Train_acc_dna: 65.4167 | Validation_loss_mri: 0.7558 | Validation_acc_mri: 72.3958 | Validation_loss_dna: 2.7213 | Validation_acc_dna: 12.5000\u001b[32m [repeated 3x across cluster]\u001b[0m\n"
     ]
    },
    {
     "name": "stderr",
     "output_type": "stream",
     "text": [
      "DEBUG flwr 2024-08-05 07:41:25,395 | server.py:236 | fit_round 6 received 10 results and 0 failures\n"
     ]
    },
    {
     "name": "stdout",
     "output_type": "stream",
     "text": [
      "Saving round 6 aggregated_parameters...\n"
     ]
    },
    {
     "name": "stderr",
     "output_type": "stream",
     "text": [
      "DEBUG flwr 2024-08-05 07:41:27,387 | server.py:173 | evaluate_round 6: strategy sampled 10 clients (out of 10)\n"
     ]
    },
    {
     "name": "stdout",
     "output_type": "stream",
     "text": [
      "\u001b[36m(launch_and_evaluate pid=4987)\u001b[0m Run with homomorphic encryption\n",
      "\u001b[36m(launch_and_fit pid=4898)\u001b[0m save graph in  results/FL/\n",
      "\u001b[36m(launch_and_fit pid=4898)\u001b[0m fc2_dna.bias 1.6689300537109375e-06\u001b[32m [repeated 27x across cluster]\u001b[0m\n",
      "\u001b[36m(launch_and_fit pid=4898)\u001b[0m dna_net.qnn.weights 1.9073486328125e-06\n",
      "\u001b[36m(launch_and_fit pid=4898)\u001b[0m attention.in_proj_weight 9.5367431640625e-07\n",
      "\u001b[36m(launch_and_fit pid=4898)\u001b[0m attention.in_proj_bias 9.5367431640625e-07\n",
      "\u001b[36m(launch_and_fit pid=4898)\u001b[0m attention.out_proj.weight 1.1920928955078125e-06\n",
      "\u001b[36m(launch_and_fit pid=4898)\u001b[0m attention.out_proj.bias 1.6689300537109375e-06\n",
      "\u001b[36m(launch_and_evaluate pid=4987)\u001b[0m [Client 0] evaluate, config: {}\n",
      "\u001b[36m(launch_and_evaluate pid=4987)\u001b[0m Updated model\n",
      "\u001b[36m(launch_and_evaluate pid=5068)\u001b[0m Run with homomorphic encryption\u001b[32m [repeated 2x across cluster]\u001b[0m\n",
      "\u001b[36m(launch_and_evaluate pid=4988)\u001b[0m [Client 2] evaluate, config: {}\n",
      "\u001b[36m(launch_and_evaluate pid=4988)\u001b[0m Updated model\n",
      "\u001b[36m(launch_and_evaluate pid=5068)\u001b[0m [Client 3] evaluate, config: {}\n",
      "\u001b[36m(launch_and_evaluate pid=5066)\u001b[0m Updated model\n"
     ]
    },
    {
     "name": "stderr",
     "output_type": "stream",
     "text": [
      "\u001b[36m(launch_and_evaluate pid=5066)\u001b[0m /opt/conda/lib/python3.10/site-packages/sklearn/metrics/_ranking.py:1029: UndefinedMetricWarning: No positive samples in y_true, true positive value should be meaningless\n",
      "\u001b[36m(launch_and_evaluate pid=5066)\u001b[0m   warnings.warn(\n",
      "100%|\u001b[34m██████████\u001b[0m| 10/10 [00:38<00:00,  3.87s/it]\u001b[32m [repeated 3x across cluster]\u001b[0m\n"
     ]
    },
    {
     "name": "stdout",
     "output_type": "stream",
     "text": [
      "\u001b[36m(launch_and_evaluate pid=5146)\u001b[0m Run with homomorphic encryption\u001b[32m [repeated 2x across cluster]\u001b[0m\n",
      "\u001b[36m(launch_and_evaluate pid=5066)\u001b[0m [Client 4] evaluate, config: {}\n",
      "\u001b[36m(launch_and_evaluate pid=5068)\u001b[0m Updated model\n",
      "\u001b[36m(launch_and_evaluate pid=5146)\u001b[0m [Client 5] evaluate, config: {}\n",
      "\u001b[36m(launch_and_evaluate pid=5144)\u001b[0m Updated model\n",
      "\u001b[36m(launch_and_evaluate pid=5222)\u001b[0m Run with homomorphic encryption\u001b[32m [repeated 2x across cluster]\u001b[0m\n",
      "\u001b[36m(launch_and_evaluate pid=5144)\u001b[0m [Client 6] evaluate, config: {}\n",
      "\u001b[36m(launch_and_evaluate pid=5146)\u001b[0m Updated model\n",
      "\u001b[36m(launch_and_evaluate pid=5222)\u001b[0m [Client 1] evaluate, config: {}\n",
      "\u001b[36m(launch_and_evaluate pid=5222)\u001b[0m Updated model\n"
     ]
    },
    {
     "name": "stderr",
     "output_type": "stream",
     "text": [
      "\u001b[36m(launch_and_evaluate pid=5224)\u001b[0m /opt/conda/lib/python3.10/site-packages/sklearn/metrics/_ranking.py:1029: UndefinedMetricWarning: No positive samples in y_true, true positive value should be meaningless\n",
      "\u001b[36m(launch_and_evaluate pid=5224)\u001b[0m   warnings.warn(\n"
     ]
    },
    {
     "name": "stdout",
     "output_type": "stream",
     "text": [
      "\u001b[36m(launch_and_evaluate pid=5300)\u001b[0m Run with homomorphic encryption\u001b[32m [repeated 2x across cluster]\u001b[0m\n",
      "\u001b[36m(launch_and_evaluate pid=5224)\u001b[0m [Client 8] evaluate, config: {}\n",
      "\u001b[36m(launch_and_evaluate pid=5224)\u001b[0m Updated model\n",
      "\u001b[36m(launch_and_evaluate pid=5300)\u001b[0m [Client 7] evaluate, config: {}\n",
      "\u001b[36m(launch_and_evaluate pid=5300)\u001b[0m Updated model\n"
     ]
    },
    {
     "name": "stderr",
     "output_type": "stream",
     "text": [
      "\u001b[36m(launch_and_evaluate pid=5302)\u001b[0m /opt/conda/lib/python3.10/site-packages/sklearn/metrics/_ranking.py:1029: UndefinedMetricWarning: No positive samples in y_true, true positive value should be meaningless\n",
      "\u001b[36m(launch_and_evaluate pid=5302)\u001b[0m   warnings.warn(\n",
      "DEBUG flwr 2024-08-05 07:42:44,255 | server.py:187 | evaluate_round 6 received 10 results and 0 failures\n",
      "DEBUG flwr 2024-08-05 07:42:44,257 | server.py:222 | fit_round 7: strategy sampled 10 clients (out of 10)\n"
     ]
    },
    {
     "name": "stdout",
     "output_type": "stream",
     "text": [
      "\u001b[36m(launch_and_fit pid=5387)\u001b[0m Run with homomorphic encryption\u001b[32m [repeated 2x across cluster]\u001b[0m\n",
      "\u001b[36m(launch_and_evaluate pid=5302)\u001b[0m [Client 9] evaluate, config: {}\n",
      "\u001b[36m(launch_and_evaluate pid=5302)\u001b[0m Updated model\n",
      "\u001b[36m(launch_and_fit pid=5387)\u001b[0m [Client 0, round 7] fit, config: {'learning_rate': 0.003, 'batch_size': '32', 'server_round': 7, 'local_epochs': 10}\n",
      "\u001b[36m(launch_and_fit pid=5388)\u001b[0m Updated model\n"
     ]
    },
    {
     "name": "stderr",
     "output_type": "stream",
     "text": [
      "  0%|\u001b[34m          \u001b[0m| 0/10 [00:00<?, ?it/s]\n",
      " 10%|\u001b[34m█         \u001b[0m| 1/10 [00:04<00:37,  4.22s/it]\n"
     ]
    },
    {
     "name": "stdout",
     "output_type": "stream",
     "text": [
      "\u001b[36m(launch_and_fit pid=5387)\u001b[0m \tTrain Epoch: 1 \tTrain_loss_mri: 0.5770 | Train_acc_mri: 83.0324 | Train_loss_dna: 1.9913 | Train_acc_dna: 32.1644 | Validation_loss_mri: 0.7293 | Validation_acc_mri: 70.8333 | Validation_loss_dna: 3.4135 | Validation_acc_dna: 18.7500\n",
      "\u001b[36m(launch_and_fit pid=5388)\u001b[0m Run with homomorphic encryption\n",
      "\u001b[36m(launch_and_fit pid=5388)\u001b[0m [Client 5, round 7] fit, config: {'learning_rate': 0.003, 'batch_size': '32', 'server_round': 7, 'local_epochs': 10}\n"
     ]
    },
    {
     "name": "stderr",
     "output_type": "stream",
     "text": [
      "  0%|\u001b[34m          \u001b[0m| 0/10 [00:00<?, ?it/s]\n"
     ]
    },
    {
     "name": "stdout",
     "output_type": "stream",
     "text": [
      "\u001b[36m(launch_and_fit pid=5387)\u001b[0m Updated model\n"
     ]
    },
    {
     "name": "stderr",
     "output_type": "stream",
     "text": [
      " 30%|\u001b[34m███       \u001b[0m| 3/10 [00:11<00:26,  3.85s/it]\u001b[32m [repeated 4x across cluster]\u001b[0m\n"
     ]
    },
    {
     "name": "stdout",
     "output_type": "stream",
     "text": [
      "\u001b[36m(launch_and_fit pid=5387)\u001b[0m \tTrain Epoch: 3 \tTrain_loss_mri: 0.1758 | Train_acc_mri: 95.3125 | Train_loss_dna: 1.2818 | Train_acc_dna: 51.6898 | Validation_loss_mri: 1.1300 | Validation_acc_mri: 69.2708 | Validation_loss_dna: 2.3872 | Validation_acc_dna: 18.7500\u001b[32m [repeated 4x across cluster]\u001b[0m\n"
     ]
    },
    {
     "name": "stderr",
     "output_type": "stream",
     "text": [
      " 50%|\u001b[34m█████     \u001b[0m| 5/10 [00:19<00:18,  3.79s/it]\u001b[32m [repeated 4x across cluster]\u001b[0m\n"
     ]
    },
    {
     "name": "stdout",
     "output_type": "stream",
     "text": [
      "\u001b[36m(launch_and_fit pid=5387)\u001b[0m \tTrain Epoch: 5 \tTrain_loss_mri: 0.0736 | Train_acc_mri: 98.7500 | Train_loss_dna: 1.1369 | Train_acc_dna: 58.9931 | Validation_loss_mri: 1.2552 | Validation_acc_mri: 67.7083 | Validation_loss_dna: 2.7061 | Validation_acc_dna: 20.3125\u001b[32m [repeated 4x across cluster]\u001b[0m\n"
     ]
    },
    {
     "name": "stderr",
     "output_type": "stream",
     "text": [
      " 70%|\u001b[34m███████   \u001b[0m| 7/10 [00:26<00:11,  3.82s/it]\u001b[32m [repeated 4x across cluster]\u001b[0m\n"
     ]
    },
    {
     "name": "stdout",
     "output_type": "stream",
     "text": [
      "\u001b[36m(launch_and_fit pid=5387)\u001b[0m \tTrain Epoch: 7 \tTrain_loss_mri: 0.0639 | Train_acc_mri: 97.8125 | Train_loss_dna: 1.0167 | Train_acc_dna: 61.5278 | Validation_loss_mri: 1.6480 | Validation_acc_mri: 69.2708 | Validation_loss_dna: 3.4565 | Validation_acc_dna: 18.7500\u001b[32m [repeated 4x across cluster]\u001b[0m\n",
      "\u001b[36m(launch_and_fit pid=5388)\u001b[0m \tTrain Epoch: 9 \tTrain_loss_mri: 0.0378 | Train_acc_mri: 99.6875 | Train_loss_dna: 0.7239 | Train_acc_dna: 76.4699 | Validation_loss_mri: 0.4323 | Validation_acc_mri: 89.0625 | Validation_loss_dna: 3.4659 | Validation_acc_dna: 6.2500\u001b[32m [repeated 4x across cluster]\u001b[0m\n"
     ]
    },
    {
     "name": "stderr",
     "output_type": "stream",
     "text": [
      " 90%|\u001b[34m█████████ \u001b[0m| 9/10 [00:34<00:03,  3.83s/it]\u001b[32m [repeated 4x across cluster]\u001b[0m\n"
     ]
    },
    {
     "name": "stdout",
     "output_type": "stream",
     "text": [
      "\u001b[36m(launch_and_fit pid=5388)\u001b[0m save graph in  results/FL/\n",
      "\u001b[36m(launch_and_fit pid=5388)\u001b[0m mri_net.features.0.weight 5.245208740234375e-06\n",
      "\u001b[36m(launch_and_fit pid=5388)\u001b[0m mri_net.features.0.bias 1.1920928955078125e-06\n",
      "\u001b[36m(launch_and_fit pid=5388)\u001b[0m mri_net.features.3.weight 9.5367431640625e-07\n",
      "\u001b[36m(launch_and_fit pid=5388)\u001b[0m mri_net.features.3.bias 9.5367431640625e-07\n",
      "\u001b[36m(launch_and_fit pid=5388)\u001b[0m mri_net.classifier.0.weight 1.1920928955078125e-06\n",
      "\u001b[36m(launch_and_fit pid=5388)\u001b[0m mri_net.classifier.0.bias 1.430511474609375e-06\n",
      "\u001b[36m(launch_and_fit pid=5388)\u001b[0m mri_net.classifier.2.weight 9.5367431640625e-07\n",
      "\u001b[36m(launch_and_fit pid=5388)\u001b[0m mri_net.classifier.2.bias 9.5367431640625e-07\n",
      "\u001b[36m(launch_and_fit pid=5388)\u001b[0m mri_net.classifier.3.weights 1.430511474609375e-06\n",
      "\u001b[36m(launch_and_fit pid=5388)\u001b[0m dna_net.fc1.weight 1.1920928955078125e-06\n",
      "\u001b[36m(launch_and_fit pid=5388)\u001b[0m dna_net.fc1.bias 9.5367431640625e-07\n",
      "\u001b[36m(launch_and_fit pid=5388)\u001b[0m dna_net.fc2.weight 9.5367431640625e-07\n",
      "\u001b[36m(launch_and_fit pid=5388)\u001b[0m dna_net.fc2.bias 1.1920928955078125e-06\n",
      "\u001b[36m(launch_and_fit pid=5388)\u001b[0m dna_net.fc3.weight 9.5367431640625e-07\n",
      "\u001b[36m(launch_and_fit pid=5388)\u001b[0m dna_net.fc3.bias 7.152557373046875e-07\n",
      "\u001b[36m(launch_and_fit pid=5388)\u001b[0m dna_net.fc4.weight 7.152557373046875e-07\n",
      "\u001b[36m(launch_and_fit pid=5388)\u001b[0m dna_net.fc4.bias 1.430511474609375e-06\n",
      "\u001b[36m(launch_and_fit pid=5388)\u001b[0m dna_net.qnn.weights 9.5367431640625e-07\n",
      "\u001b[36m(launch_and_fit pid=5388)\u001b[0m attention.in_proj_weight 9.5367431640625e-07\n",
      "\u001b[36m(launch_and_fit pid=5388)\u001b[0m attention.in_proj_bias 9.5367431640625e-07\n",
      "\u001b[36m(launch_and_fit pid=5388)\u001b[0m attention.out_proj.weight 9.5367431640625e-07\n",
      "\u001b[36m(launch_and_fit pid=5388)\u001b[0m attention.out_proj.bias 7.152557373046875e-07\n",
      "\u001b[36m(launch_and_fit pid=5388)\u001b[0m fc1.weight 9.5367431640625e-07\n",
      "\u001b[36m(launch_and_fit pid=5388)\u001b[0m fc1.bias 1.1920928955078125e-06\n",
      "\u001b[36m(launch_and_fit pid=5388)\u001b[0m fc2_mri.weight 1.1920928955078125e-06\n",
      "\u001b[36m(launch_and_fit pid=5388)\u001b[0m fc2_mri.bias 9.5367431640625e-07\n",
      "\u001b[36m(launch_and_fit pid=5388)\u001b[0m fc2_dna.weight 9.5367431640625e-07\n",
      "\u001b[36m(launch_and_fit pid=5388)\u001b[0m fc2_dna.bias 1.1920928955078125e-06\n",
      "\u001b[36m(launch_and_fit pid=5469)\u001b[0m Run with homomorphic encryption\n",
      "\u001b[36m(launch_and_fit pid=5387)\u001b[0m \tTrain Epoch: 10 \tTrain_loss_mri: 0.0595 | Train_acc_mri: 99.0625 | Train_loss_dna: 0.9548 | Train_acc_dna: 66.2384 | Validation_loss_mri: 1.6250 | Validation_acc_mri: 69.2708 | Validation_loss_dna: 3.1334 | Validation_acc_dna: 12.5000\u001b[32m [repeated 3x across cluster]\u001b[0m\n",
      "\u001b[36m(launch_and_fit pid=5387)\u001b[0m save graph in  results/FL/\n",
      "\u001b[36m(launch_and_fit pid=5387)\u001b[0m fc2_dna.bias 9.5367431640625e-07\u001b[32m [repeated 23x across cluster]\u001b[0m\n",
      "\u001b[36m(launch_and_fit pid=5387)\u001b[0m dna_net.qnn.weights 1.1920928955078125e-06\n",
      "\u001b[36m(launch_and_fit pid=5387)\u001b[0m attention.in_proj_weight 1.1920928955078125e-06\n",
      "\u001b[36m(launch_and_fit pid=5387)\u001b[0m attention.in_proj_bias 1.1920928955078125e-06\n",
      "\u001b[36m(launch_and_fit pid=5387)\u001b[0m attention.out_proj.weight 1.9073486328125e-06\n",
      "\u001b[36m(launch_and_fit pid=5387)\u001b[0m attention.out_proj.bias 1.1920928955078125e-06\n",
      "\u001b[36m(launch_and_fit pid=5469)\u001b[0m [Client 1, round 7] fit, config: {'learning_rate': 0.003, 'batch_size': '32', 'server_round': 7, 'local_epochs': 10}\n",
      "\u001b[36m(launch_and_fit pid=5469)\u001b[0m Updated model\n"
     ]
    },
    {
     "name": "stderr",
     "output_type": "stream",
     "text": [
      "  0%|\u001b[34m          \u001b[0m| 0/10 [00:00<?, ?it/s]\n",
      "100%|\u001b[34m██████████\u001b[0m| 10/10 [00:38<00:00,  3.86s/it]\u001b[32m [repeated 3x across cluster]\u001b[0m\n"
     ]
    },
    {
     "name": "stdout",
     "output_type": "stream",
     "text": [
      "\u001b[36m(launch_and_fit pid=5471)\u001b[0m Run with homomorphic encryption\n",
      "\u001b[36m(launch_and_fit pid=5469)\u001b[0m \tTrain Epoch: 1 \tTrain_loss_mri: 0.5311 | Train_acc_mri: 83.9468 | Train_loss_dna: 1.8899 | Train_acc_dna: 30.4630 | Validation_loss_mri: 0.5578 | Validation_acc_mri: 72.3958 | Validation_loss_dna: 2.1399 | Validation_acc_dna: 29.1667\n",
      "\u001b[36m(launch_and_fit pid=5471)\u001b[0m [Client 6, round 7] fit, config: {'learning_rate': 0.003, 'batch_size': '32', 'server_round': 7, 'local_epochs': 10}\n",
      "\u001b[36m(launch_and_fit pid=5471)\u001b[0m \tTrain Epoch: 1 \tTrain_loss_mri: 0.4868 | Train_acc_mri: 83.5764 | Train_loss_dna: 1.9897 | Train_acc_dna: 36.2037 | Validation_loss_mri: 1.0187 | Validation_acc_mri: 73.9583 | Validation_loss_dna: 1.7807 | Validation_acc_dna: 47.3958\n",
      "\u001b[36m(launch_and_fit pid=5471)\u001b[0m Updated model\n"
     ]
    },
    {
     "name": "stderr",
     "output_type": "stream",
     "text": [
      "  0%|\u001b[34m          \u001b[0m| 0/10 [00:00<?, ?it/s]\n",
      " 20%|\u001b[34m██        \u001b[0m| 2/10 [00:07<00:31,  3.90s/it]\u001b[32m [repeated 3x across cluster]\u001b[0m\n"
     ]
    },
    {
     "name": "stdout",
     "output_type": "stream",
     "text": [
      "\u001b[36m(launch_and_fit pid=5469)\u001b[0m \tTrain Epoch: 3 \tTrain_loss_mri: 0.1678 | Train_acc_mri: 95.2546 | Train_loss_dna: 1.3259 | Train_acc_dna: 49.0509 | Validation_loss_mri: 0.3675 | Validation_acc_mri: 89.0625 | Validation_loss_dna: 1.9205 | Validation_acc_dna: 30.7292\u001b[32m [repeated 3x across cluster]\u001b[0m\n"
     ]
    },
    {
     "name": "stderr",
     "output_type": "stream",
     "text": [
      " 40%|\u001b[34m████      \u001b[0m| 4/10 [00:15<00:22,  3.79s/it]\u001b[32m [repeated 4x across cluster]\u001b[0m\n"
     ]
    },
    {
     "name": "stdout",
     "output_type": "stream",
     "text": [
      "\u001b[36m(launch_and_fit pid=5469)\u001b[0m \tTrain Epoch: 5 \tTrain_loss_mri: 0.0763 | Train_acc_mri: 98.4375 | Train_loss_dna: 1.1050 | Train_acc_dna: 56.6667 | Validation_loss_mri: 0.5837 | Validation_acc_mri: 70.8333 | Validation_loss_dna: 2.0591 | Validation_acc_dna: 9.3750\u001b[32m [repeated 4x across cluster]\u001b[0m\n"
     ]
    },
    {
     "name": "stderr",
     "output_type": "stream",
     "text": [
      " 60%|\u001b[34m██████    \u001b[0m| 6/10 [00:22<00:14,  3.72s/it]\u001b[32m [repeated 4x across cluster]\u001b[0m\n"
     ]
    },
    {
     "name": "stdout",
     "output_type": "stream",
     "text": [
      "\u001b[36m(launch_and_fit pid=5469)\u001b[0m \tTrain Epoch: 7 \tTrain_loss_mri: 0.1134 | Train_acc_mri: 96.7014 | Train_loss_dna: 0.9292 | Train_acc_dna: 66.9792 | Validation_loss_mri: 0.3489 | Validation_acc_mri: 85.9375 | Validation_loss_dna: 3.0703 | Validation_acc_dna: 9.3750\u001b[32m [repeated 4x across cluster]\u001b[0m\n"
     ]
    },
    {
     "name": "stderr",
     "output_type": "stream",
     "text": [
      " 80%|\u001b[34m████████  \u001b[0m| 8/10 [00:30<00:07,  3.72s/it]\u001b[32m [repeated 4x across cluster]\u001b[0m\n"
     ]
    },
    {
     "name": "stdout",
     "output_type": "stream",
     "text": [
      "\u001b[36m(launch_and_fit pid=5469)\u001b[0m \tTrain Epoch: 9 \tTrain_loss_mri: 0.0684 | Train_acc_mri: 98.0671 | Train_loss_dna: 0.8364 | Train_acc_dna: 72.8009 | Validation_loss_mri: 0.3277 | Validation_acc_mri: 89.0625 | Validation_loss_dna: 3.5562 | Validation_acc_dna: 9.3750\u001b[32m [repeated 4x across cluster]\u001b[0m\n",
      "\u001b[36m(launch_and_fit pid=5469)\u001b[0m save graph in  results/FL/\n"
     ]
    },
    {
     "name": "stderr",
     "output_type": "stream",
     "text": [
      "100%|\u001b[34m██████████\u001b[0m| 10/10 [00:37<00:00,  3.75s/it]\u001b[32m [repeated 4x across cluster]\u001b[0m\n"
     ]
    },
    {
     "name": "stdout",
     "output_type": "stream",
     "text": [
      "\u001b[36m(launch_and_fit pid=5469)\u001b[0m mri_net.features.0.weight 5.245208740234375e-06\n",
      "\u001b[36m(launch_and_fit pid=5469)\u001b[0m mri_net.features.0.bias 1.430511474609375e-06\n",
      "\u001b[36m(launch_and_fit pid=5469)\u001b[0m mri_net.features.3.weight 9.5367431640625e-07\n",
      "\u001b[36m(launch_and_fit pid=5469)\u001b[0m mri_net.features.3.bias 9.5367431640625e-07\n",
      "\u001b[36m(launch_and_fit pid=5469)\u001b[0m mri_net.classifier.0.weight 9.5367431640625e-07\n",
      "\u001b[36m(launch_and_fit pid=5469)\u001b[0m mri_net.classifier.0.bias 9.5367431640625e-07\n",
      "\u001b[36m(launch_and_fit pid=5469)\u001b[0m mri_net.classifier.2.weight 9.5367431640625e-07\n",
      "\u001b[36m(launch_and_fit pid=5469)\u001b[0m mri_net.classifier.2.bias 1.1920928955078125e-06\n",
      "\u001b[36m(launch_and_fit pid=5469)\u001b[0m mri_net.classifier.3.weights 9.5367431640625e-07\n",
      "\u001b[36m(launch_and_fit pid=5469)\u001b[0m dna_net.fc1.weight 1.430511474609375e-06\n",
      "\u001b[36m(launch_and_fit pid=5469)\u001b[0m dna_net.fc1.bias 9.5367431640625e-07\n",
      "\u001b[36m(launch_and_fit pid=5469)\u001b[0m dna_net.fc2.weight 9.5367431640625e-07\n",
      "\u001b[36m(launch_and_fit pid=5469)\u001b[0m dna_net.fc2.bias 9.5367431640625e-07\n",
      "\u001b[36m(launch_and_fit pid=5469)\u001b[0m dna_net.fc3.weight 1.1920928955078125e-06\n",
      "\u001b[36m(launch_and_fit pid=5469)\u001b[0m dna_net.fc3.bias 9.5367431640625e-07\n",
      "\u001b[36m(launch_and_fit pid=5469)\u001b[0m dna_net.fc4.weight 9.5367431640625e-07\n",
      "\u001b[36m(launch_and_fit pid=5469)\u001b[0m dna_net.fc4.bias 9.5367431640625e-07\n",
      "\u001b[36m(launch_and_fit pid=5469)\u001b[0m dna_net.qnn.weights 1.1920928955078125e-06\n",
      "\u001b[36m(launch_and_fit pid=5469)\u001b[0m attention.in_proj_weight 9.5367431640625e-07\n",
      "\u001b[36m(launch_and_fit pid=5469)\u001b[0m attention.in_proj_bias 9.5367431640625e-07\n",
      "\u001b[36m(launch_and_fit pid=5469)\u001b[0m attention.out_proj.weight 9.5367431640625e-07\n",
      "\u001b[36m(launch_and_fit pid=5469)\u001b[0m attention.out_proj.bias 9.5367431640625e-07\n",
      "\u001b[36m(launch_and_fit pid=5469)\u001b[0m fc1.weight 1.1920928955078125e-06\n",
      "\u001b[36m(launch_and_fit pid=5469)\u001b[0m fc1.bias 9.5367431640625e-07\n",
      "\u001b[36m(launch_and_fit pid=5469)\u001b[0m fc2_mri.weight 1.1920928955078125e-06\n",
      "\u001b[36m(launch_and_fit pid=5469)\u001b[0m fc2_mri.bias 9.5367431640625e-07\n",
      "\u001b[36m(launch_and_fit pid=5469)\u001b[0m fc2_dna.weight 9.5367431640625e-07\n",
      "\u001b[36m(launch_and_fit pid=5469)\u001b[0m fc2_dna.bias 1.1920928955078125e-06\n",
      "\u001b[36m(launch_and_fit pid=5551)\u001b[0m Run with homomorphic encryption\n",
      "\u001b[36m(launch_and_fit pid=5471)\u001b[0m \tTrain Epoch: 10 \tTrain_loss_mri: 0.0289 | Train_acc_mri: 99.6875 | Train_loss_dna: 0.7517 | Train_acc_dna: 71.0995 | Validation_loss_mri: 1.1815 | Validation_acc_mri: 64.5833 | Validation_loss_dna: 4.4822 | Validation_acc_dna: 9.3750\u001b[32m [repeated 3x across cluster]\u001b[0m\n",
      "\u001b[36m(launch_and_fit pid=5471)\u001b[0m save graph in  results/FL/\n",
      "\u001b[36m(launch_and_fit pid=5471)\u001b[0m fc2_dna.bias 1.1920928955078125e-06\u001b[32m [repeated 23x across cluster]\u001b[0m\n",
      "\u001b[36m(launch_and_fit pid=5471)\u001b[0m dna_net.qnn.weights 1.1920928955078125e-06\n",
      "\u001b[36m(launch_and_fit pid=5471)\u001b[0m attention.in_proj_weight 1.1920928955078125e-06\n",
      "\u001b[36m(launch_and_fit pid=5471)\u001b[0m attention.in_proj_bias 1.1920928955078125e-06\n",
      "\u001b[36m(launch_and_fit pid=5471)\u001b[0m attention.out_proj.weight 1.430511474609375e-06\n",
      "\u001b[36m(launch_and_fit pid=5471)\u001b[0m attention.out_proj.bias 9.5367431640625e-07\n",
      "\u001b[36m(launch_and_fit pid=5551)\u001b[0m [Client 8, round 7] fit, config: {'learning_rate': 0.003, 'batch_size': '32', 'server_round': 7, 'local_epochs': 10}\n",
      "\u001b[36m(launch_and_fit pid=5551)\u001b[0m Updated model\n"
     ]
    },
    {
     "name": "stderr",
     "output_type": "stream",
     "text": [
      "  0%|\u001b[34m          \u001b[0m| 0/10 [00:00<?, ?it/s]\n",
      "100%|\u001b[34m██████████\u001b[0m| 10/10 [00:37<00:00,  3.79s/it]\n"
     ]
    },
    {
     "name": "stdout",
     "output_type": "stream",
     "text": [
      "\u001b[36m(launch_and_fit pid=5553)\u001b[0m Run with homomorphic encryption\n",
      "\u001b[36m(launch_and_fit pid=5551)\u001b[0m \tTrain Epoch: 1 \tTrain_loss_mri: 0.6942 | Train_acc_mri: 80.8449 | Train_loss_dna: 1.8236 | Train_acc_dna: 32.7083 | Validation_loss_mri: 0.4240 | Validation_acc_mri: 92.1875 | Validation_loss_dna: 1.8216 | Validation_acc_dna: 14.0625\n",
      "\u001b[36m(launch_and_fit pid=5553)\u001b[0m [Client 2, round 7] fit, config: {'learning_rate': 0.003, 'batch_size': '32', 'server_round': 7, 'local_epochs': 10}\n"
     ]
    },
    {
     "name": "stderr",
     "output_type": "stream",
     "text": [
      " 10%|\u001b[34m█         \u001b[0m| 1/10 [00:04<00:39,  4.34s/it]\n"
     ]
    },
    {
     "name": "stdout",
     "output_type": "stream",
     "text": [
      "\u001b[36m(launch_and_fit pid=5553)\u001b[0m \tTrain Epoch: 1 \tTrain_loss_mri: 0.4899 | Train_acc_mri: 83.7731 | Train_loss_dna: 1.7348 | Train_acc_dna: 38.9583 | Validation_loss_mri: 0.3744 | Validation_acc_mri: 89.0625 | Validation_loss_dna: 1.8695 | Validation_acc_dna: 41.1458\n",
      "\u001b[36m(launch_and_fit pid=5553)\u001b[0m Updated model\n"
     ]
    },
    {
     "name": "stderr",
     "output_type": "stream",
     "text": [
      "  0%|\u001b[34m          \u001b[0m| 0/10 [00:00<?, ?it/s]\n"
     ]
    },
    {
     "name": "stdout",
     "output_type": "stream",
     "text": [
      "\u001b[36m(launch_and_fit pid=5551)\u001b[0m \tTrain Epoch: 3 \tTrain_loss_mri: 0.1319 | Train_acc_mri: 97.1875 | Train_loss_dna: 1.2218 | Train_acc_dna: 51.9444 | Validation_loss_mri: 0.5665 | Validation_acc_mri: 90.6250 | Validation_loss_dna: 1.8568 | Validation_acc_dna: 14.0625\u001b[32m [repeated 3x across cluster]\u001b[0m\n"
     ]
    },
    {
     "name": "stderr",
     "output_type": "stream",
     "text": [
      " 30%|\u001b[34m███       \u001b[0m| 3/10 [00:11<00:27,  3.89s/it]\u001b[32m [repeated 4x across cluster]\u001b[0m\n"
     ]
    },
    {
     "name": "stdout",
     "output_type": "stream",
     "text": [
      "\u001b[36m(launch_and_fit pid=5551)\u001b[0m \tTrain Epoch: 5 \tTrain_loss_mri: 0.0562 | Train_acc_mri: 99.3750 | Train_loss_dna: 1.0217 | Train_acc_dna: 65.6713 | Validation_loss_mri: 0.5406 | Validation_acc_mri: 93.7500 | Validation_loss_dna: 1.8473 | Validation_acc_dna: 29.1667\u001b[32m [repeated 4x across cluster]\u001b[0m\n"
     ]
    },
    {
     "name": "stderr",
     "output_type": "stream",
     "text": [
      " 50%|\u001b[34m█████     \u001b[0m| 5/10 [00:19<00:19,  3.84s/it]\u001b[32m [repeated 4x across cluster]\u001b[0m\n",
      " 70%|\u001b[34m███████   \u001b[0m| 7/10 [00:26<00:11,  3.79s/it]\u001b[32m [repeated 4x across cluster]\u001b[0m\n"
     ]
    },
    {
     "name": "stdout",
     "output_type": "stream",
     "text": [
      "\u001b[36m(launch_and_fit pid=5553)\u001b[0m \tTrain Epoch: 7 \tTrain_loss_mri: 0.0352 | Train_acc_mri: 99.3750 | Train_loss_dna: 0.8604 | Train_acc_dna: 72.0370 | Validation_loss_mri: 0.4341 | Validation_acc_mri: 73.9583 | Validation_loss_dna: 1.7438 | Validation_acc_dna: 42.7083\u001b[32m [repeated 4x across cluster]\u001b[0m\n"
     ]
    },
    {
     "name": "stderr",
     "output_type": "stream",
     "text": [
      " 90%|\u001b[34m█████████ \u001b[0m| 9/10 [00:34<00:03,  3.79s/it]\u001b[32m [repeated 4x across cluster]\u001b[0m\n"
     ]
    },
    {
     "name": "stdout",
     "output_type": "stream",
     "text": [
      "\u001b[36m(launch_and_fit pid=5553)\u001b[0m \tTrain Epoch: 9 \tTrain_loss_mri: 0.0318 | Train_acc_mri: 99.6875 | Train_loss_dna: 0.7641 | Train_acc_dna: 74.0856 | Validation_loss_mri: 0.4910 | Validation_acc_mri: 73.9583 | Validation_loss_dna: 2.0187 | Validation_acc_dna: 47.3958\u001b[32m [repeated 4x across cluster]\u001b[0m\n",
      "\u001b[36m(launch_and_fit pid=5553)\u001b[0m save graph in  results/FL/\n",
      "\u001b[36m(launch_and_fit pid=5553)\u001b[0m mri_net.features.0.weight 5.0067901611328125e-06\n",
      "\u001b[36m(launch_and_fit pid=5553)\u001b[0m mri_net.features.0.bias 1.430511474609375e-06\n",
      "\u001b[36m(launch_and_fit pid=5553)\u001b[0m mri_net.features.3.weight 9.5367431640625e-07\n",
      "\u001b[36m(launch_and_fit pid=5553)\u001b[0m mri_net.features.3.bias 9.5367431640625e-07\n",
      "\u001b[36m(launch_and_fit pid=5553)\u001b[0m mri_net.classifier.0.weight 9.5367431640625e-07\n",
      "\u001b[36m(launch_and_fit pid=5553)\u001b[0m mri_net.classifier.0.bias 9.5367431640625e-07\n",
      "\u001b[36m(launch_and_fit pid=5553)\u001b[0m mri_net.classifier.2.weight 1.1920928955078125e-06\n",
      "\u001b[36m(launch_and_fit pid=5553)\u001b[0m mri_net.classifier.2.bias 1.1920928955078125e-06\n",
      "\u001b[36m(launch_and_fit pid=5553)\u001b[0m mri_net.classifier.3.weights 1.1920928955078125e-06\n",
      "\u001b[36m(launch_and_fit pid=5553)\u001b[0m dna_net.fc1.weight 1.430511474609375e-06\n",
      "\u001b[36m(launch_and_fit pid=5553)\u001b[0m dna_net.fc1.bias 9.5367431640625e-07\n",
      "\u001b[36m(launch_and_fit pid=5553)\u001b[0m dna_net.fc2.weight 1.1920928955078125e-06\n",
      "\u001b[36m(launch_and_fit pid=5553)\u001b[0m dna_net.fc2.bias 1.1920928955078125e-06\n",
      "\u001b[36m(launch_and_fit pid=5553)\u001b[0m dna_net.fc3.weight 1.1920928955078125e-06\n",
      "\u001b[36m(launch_and_fit pid=5553)\u001b[0m dna_net.fc3.bias 9.5367431640625e-07\n",
      "\u001b[36m(launch_and_fit pid=5553)\u001b[0m dna_net.fc4.weight 1.1920928955078125e-06\n",
      "\u001b[36m(launch_and_fit pid=5553)\u001b[0m dna_net.fc4.bias 1.1920928955078125e-06\n",
      "\u001b[36m(launch_and_fit pid=5553)\u001b[0m dna_net.qnn.weights 9.5367431640625e-07\n",
      "\u001b[36m(launch_and_fit pid=5553)\u001b[0m attention.in_proj_weight 9.5367431640625e-07\n",
      "\u001b[36m(launch_and_fit pid=5553)\u001b[0m attention.in_proj_bias 1.430511474609375e-06\n",
      "\u001b[36m(launch_and_fit pid=5553)\u001b[0m attention.out_proj.weight 1.1920928955078125e-06\n",
      "\u001b[36m(launch_and_fit pid=5553)\u001b[0m attention.out_proj.bias 1.1920928955078125e-06\n",
      "\u001b[36m(launch_and_fit pid=5553)\u001b[0m fc1.weight 1.6689300537109375e-06\n",
      "\u001b[36m(launch_and_fit pid=5553)\u001b[0m fc1.bias 1.430511474609375e-06\n",
      "\u001b[36m(launch_and_fit pid=5553)\u001b[0m fc2_mri.weight 1.1920928955078125e-06\n",
      "\u001b[36m(launch_and_fit pid=5553)\u001b[0m fc2_mri.bias 9.5367431640625e-07\n",
      "\u001b[36m(launch_and_fit pid=5553)\u001b[0m fc2_dna.weight 1.1920928955078125e-06\n",
      "\u001b[36m(launch_and_fit pid=5553)\u001b[0m fc2_dna.bias 1.1920928955078125e-06\n",
      "\u001b[36m(launch_and_fit pid=5633)\u001b[0m Run with homomorphic encryption\n",
      "\u001b[36m(launch_and_fit pid=5551)\u001b[0m \tTrain Epoch: 10 \tTrain_loss_mri: 0.0720 | Train_acc_mri: 97.6968 | Train_loss_dna: 0.7088 | Train_acc_dna: 72.2338 | Validation_loss_mri: 1.2615 | Validation_acc_mri: 69.2708 | Validation_loss_dna: 2.1810 | Validation_acc_dna: 45.8333\u001b[32m [repeated 3x across cluster]\u001b[0m\n",
      "\u001b[36m(launch_and_fit pid=5551)\u001b[0m save graph in  results/FL/\n",
      "\u001b[36m(launch_and_fit pid=5551)\u001b[0m fc2_dna.bias 2.1457672119140625e-06\u001b[32m [repeated 23x across cluster]\u001b[0m\n",
      "\u001b[36m(launch_and_fit pid=5551)\u001b[0m dna_net.qnn.weights 7.152557373046875e-07\n",
      "\u001b[36m(launch_and_fit pid=5551)\u001b[0m attention.in_proj_weight 9.5367431640625e-07\n",
      "\u001b[36m(launch_and_fit pid=5551)\u001b[0m attention.in_proj_bias 9.5367431640625e-07\n",
      "\u001b[36m(launch_and_fit pid=5551)\u001b[0m attention.out_proj.weight 1.1920928955078125e-06\n",
      "\u001b[36m(launch_and_fit pid=5551)\u001b[0m attention.out_proj.bias 1.1920928955078125e-06\n",
      "\u001b[36m(launch_and_fit pid=5633)\u001b[0m [Client 7, round 7] fit, config: {'learning_rate': 0.003, 'batch_size': '32', 'server_round': 7, 'local_epochs': 10}\n"
     ]
    },
    {
     "name": "stderr",
     "output_type": "stream",
     "text": [
      "  0%|\u001b[34m          \u001b[0m| 0/10 [00:00<?, ?it/s]\n",
      "100%|\u001b[34m██████████\u001b[0m| 10/10 [00:38<00:00,  3.89s/it]\u001b[32m [repeated 3x across cluster]\u001b[0m\n"
     ]
    },
    {
     "name": "stdout",
     "output_type": "stream",
     "text": [
      "\u001b[36m(launch_and_fit pid=5633)\u001b[0m Updated model\n",
      "\u001b[36m(launch_and_fit pid=5635)\u001b[0m Run with homomorphic encryption\n",
      "\u001b[36m(launch_and_fit pid=5633)\u001b[0m \tTrain Epoch: 1 \tTrain_loss_mri: 0.4407 | Train_acc_mri: 87.6389 | Train_loss_dna: 1.9363 | Train_acc_dna: 29.5255 | Validation_loss_mri: 0.7252 | Validation_acc_mri: 72.3958 | Validation_loss_dna: 2.1427 | Validation_acc_dna: 32.2917\n",
      "\u001b[36m(launch_and_fit pid=5635)\u001b[0m [Client 4, round 7] fit, config: {'learning_rate': 0.003, 'batch_size': '32', 'server_round': 7, 'local_epochs': 10}\n",
      "\u001b[36m(launch_and_fit pid=5635)\u001b[0m \tTrain Epoch: 1 \tTrain_loss_mri: 0.4954 | Train_acc_mri: 83.3449 | Train_loss_dna: 2.0790 | Train_acc_dna: 28.5301 | Validation_loss_mri: 0.8195 | Validation_acc_mri: 64.5833 | Validation_loss_dna: 2.3555 | Validation_acc_dna: 35.4167\n",
      "\u001b[36m(launch_and_fit pid=5635)\u001b[0m Updated model\n"
     ]
    },
    {
     "name": "stderr",
     "output_type": "stream",
     "text": [
      "  0%|\u001b[34m          \u001b[0m| 0/10 [00:00<?, ?it/s]\n",
      " 10%|\u001b[34m█         \u001b[0m| 1/10 [00:04<00:38,  4.27s/it]\u001b[32m [repeated 2x across cluster]\u001b[0m\n",
      " 30%|\u001b[34m███       \u001b[0m| 3/10 [00:11<00:26,  3.85s/it]\u001b[32m [repeated 3x across cluster]\u001b[0m\n"
     ]
    },
    {
     "name": "stdout",
     "output_type": "stream",
     "text": [
      "\u001b[36m(launch_and_fit pid=5633)\u001b[0m \tTrain Epoch: 3 \tTrain_loss_mri: 0.1342 | Train_acc_mri: 96.4468 | Train_loss_dna: 1.3540 | Train_acc_dna: 46.7477 | Validation_loss_mri: 0.8113 | Validation_acc_mri: 77.0833 | Validation_loss_dna: 1.6882 | Validation_acc_dna: 42.7083\u001b[32m [repeated 3x across cluster]\u001b[0m\n"
     ]
    },
    {
     "name": "stderr",
     "output_type": "stream",
     "text": [
      " 50%|\u001b[34m█████     \u001b[0m| 5/10 [00:19<00:18,  3.74s/it]\u001b[32m [repeated 4x across cluster]\u001b[0m\n"
     ]
    },
    {
     "name": "stdout",
     "output_type": "stream",
     "text": [
      "\u001b[36m(launch_and_fit pid=5633)\u001b[0m \tTrain Epoch: 5 \tTrain_loss_mri: 0.0479 | Train_acc_mri: 99.6296 | Train_loss_dna: 1.1219 | Train_acc_dna: 60.4167 | Validation_loss_mri: 0.9399 | Validation_acc_mri: 75.5208 | Validation_loss_dna: 1.5602 | Validation_acc_dna: 45.8333\u001b[32m [repeated 4x across cluster]\u001b[0m\n"
     ]
    },
    {
     "name": "stderr",
     "output_type": "stream",
     "text": [
      " 70%|\u001b[34m███████   \u001b[0m| 7/10 [00:26<00:11,  3.69s/it]\u001b[32m [repeated 4x across cluster]\u001b[0m\n"
     ]
    },
    {
     "name": "stdout",
     "output_type": "stream",
     "text": [
      "\u001b[36m(launch_and_fit pid=5633)\u001b[0m \tTrain Epoch: 7 \tTrain_loss_mri: 0.0758 | Train_acc_mri: 98.0671 | Train_loss_dna: 1.0288 | Train_acc_dna: 61.5278 | Validation_loss_mri: 1.0813 | Validation_acc_mri: 75.5208 | Validation_loss_dna: 1.7049 | Validation_acc_dna: 45.8333\u001b[32m [repeated 4x across cluster]\u001b[0m\n"
     ]
    },
    {
     "name": "stderr",
     "output_type": "stream",
     "text": [
      " 90%|\u001b[34m█████████ \u001b[0m| 9/10 [00:34<00:03,  3.81s/it]\u001b[32m [repeated 4x across cluster]\u001b[0m\n"
     ]
    },
    {
     "name": "stdout",
     "output_type": "stream",
     "text": [
      "\u001b[36m(launch_and_fit pid=5633)\u001b[0m \tTrain Epoch: 9 \tTrain_loss_mri: 0.0843 | Train_acc_mri: 98.3218 | Train_loss_dna: 0.8970 | Train_acc_dna: 67.3148 | Validation_loss_mri: 0.6511 | Validation_acc_mri: 95.3125 | Validation_loss_dna: 1.8884 | Validation_acc_dna: 45.8333\u001b[32m [repeated 4x across cluster]\u001b[0m\n",
      "\u001b[36m(launch_and_fit pid=5633)\u001b[0m save graph in  results/FL/\n",
      "\u001b[36m(launch_and_fit pid=5633)\u001b[0m mri_net.features.0.weight 4.5299530029296875e-06\n",
      "\u001b[36m(launch_and_fit pid=5633)\u001b[0m mri_net.features.0.bias 1.430511474609375e-06\n",
      "\u001b[36m(launch_and_fit pid=5633)\u001b[0m mri_net.features.3.weight 1.1920928955078125e-06\n",
      "\u001b[36m(launch_and_fit pid=5633)\u001b[0m mri_net.features.3.bias 9.5367431640625e-07\n",
      "\u001b[36m(launch_and_fit pid=5633)\u001b[0m mri_net.classifier.0.weight 2.1457672119140625e-06\n",
      "\u001b[36m(launch_and_fit pid=5633)\u001b[0m mri_net.classifier.0.bias 1.430511474609375e-06\n",
      "\u001b[36m(launch_and_fit pid=5633)\u001b[0m mri_net.classifier.2.weight 1.430511474609375e-06\n",
      "\u001b[36m(launch_and_fit pid=5633)\u001b[0m mri_net.classifier.2.bias 1.6689300537109375e-06\n",
      "\u001b[36m(launch_and_fit pid=5633)\u001b[0m mri_net.classifier.3.weights 9.5367431640625e-07\n",
      "\u001b[36m(launch_and_fit pid=5633)\u001b[0m dna_net.fc1.weight 1.1920928955078125e-06\n",
      "\u001b[36m(launch_and_fit pid=5633)\u001b[0m dna_net.fc1.bias 9.5367431640625e-07\n",
      "\u001b[36m(launch_and_fit pid=5633)\u001b[0m dna_net.fc2.weight 1.1920928955078125e-06\n",
      "\u001b[36m(launch_and_fit pid=5633)\u001b[0m dna_net.fc2.bias 1.430511474609375e-06\n",
      "\u001b[36m(launch_and_fit pid=5633)\u001b[0m dna_net.fc3.weight 9.5367431640625e-07\n",
      "\u001b[36m(launch_and_fit pid=5633)\u001b[0m dna_net.fc3.bias 9.5367431640625e-07\n",
      "\u001b[36m(launch_and_fit pid=5633)\u001b[0m dna_net.fc4.weight 9.5367431640625e-07\n",
      "\u001b[36m(launch_and_fit pid=5633)\u001b[0m dna_net.fc4.bias 1.430511474609375e-06\n",
      "\u001b[36m(launch_and_fit pid=5633)\u001b[0m dna_net.qnn.weights 1.1920928955078125e-06\n",
      "\u001b[36m(launch_and_fit pid=5633)\u001b[0m attention.in_proj_weight 1.1920928955078125e-06\n",
      "\u001b[36m(launch_and_fit pid=5633)\u001b[0m attention.in_proj_bias 1.1920928955078125e-06\n",
      "\u001b[36m(launch_and_fit pid=5633)\u001b[0m attention.out_proj.weight 1.430511474609375e-06\n",
      "\u001b[36m(launch_and_fit pid=5633)\u001b[0m attention.out_proj.bias 1.1920928955078125e-06\n",
      "\u001b[36m(launch_and_fit pid=5633)\u001b[0m fc1.weight 1.1920928955078125e-06\n",
      "\u001b[36m(launch_and_fit pid=5633)\u001b[0m fc1.bias 1.1920928955078125e-06\n",
      "\u001b[36m(launch_and_fit pid=5633)\u001b[0m fc2_mri.weight 1.1920928955078125e-06\n",
      "\u001b[36m(launch_and_fit pid=5633)\u001b[0m fc2_mri.bias 9.5367431640625e-07\n",
      "\u001b[36m(launch_and_fit pid=5633)\u001b[0m fc2_dna.weight 1.1920928955078125e-06\n",
      "\u001b[36m(launch_and_fit pid=5633)\u001b[0m fc2_dna.bias 1.1920928955078125e-06\n",
      "\u001b[36m(launch_and_fit pid=5635)\u001b[0m \tTrain Epoch: 10 \tTrain_loss_mri: 0.0407 | Train_acc_mri: 99.3750 | Train_loss_dna: 0.7708 | Train_acc_dna: 73.8542 | Validation_loss_mri: 1.9721 | Validation_acc_mri: 69.2708 | Validation_loss_dna: 2.9891 | Validation_acc_dna: 33.8542\u001b[32m [repeated 3x across cluster]\u001b[0m\n",
      "\u001b[36m(launch_and_fit pid=5715)\u001b[0m Run with homomorphic encryption\n",
      "\u001b[36m(launch_and_fit pid=5635)\u001b[0m save graph in  results/FL/\n",
      "\u001b[36m(launch_and_fit pid=5635)\u001b[0m fc2_dna.bias 9.5367431640625e-07\u001b[32m [repeated 23x across cluster]\u001b[0m\n",
      "\u001b[36m(launch_and_fit pid=5635)\u001b[0m dna_net.qnn.weights 7.152557373046875e-07\n",
      "\u001b[36m(launch_and_fit pid=5635)\u001b[0m attention.in_proj_weight 9.5367431640625e-07\n",
      "\u001b[36m(launch_and_fit pid=5635)\u001b[0m attention.in_proj_bias 9.5367431640625e-07\n",
      "\u001b[36m(launch_and_fit pid=5635)\u001b[0m attention.out_proj.weight 1.1920928955078125e-06\n",
      "\u001b[36m(launch_and_fit pid=5635)\u001b[0m attention.out_proj.bias 9.5367431640625e-07\n",
      "\u001b[36m(launch_and_fit pid=5715)\u001b[0m [Client 3, round 7] fit, config: {'learning_rate': 0.003, 'batch_size': '32', 'server_round': 7, 'local_epochs': 10}\n"
     ]
    },
    {
     "name": "stderr",
     "output_type": "stream",
     "text": [
      "  0%|\u001b[34m          \u001b[0m| 0/10 [00:00<?, ?it/s]\n",
      "100%|\u001b[34m██████████\u001b[0m| 10/10 [00:37<00:00,  3.80s/it]\u001b[32m [repeated 3x across cluster]\u001b[0m\n"
     ]
    },
    {
     "name": "stdout",
     "output_type": "stream",
     "text": [
      "\u001b[36m(launch_and_fit pid=5715)\u001b[0m Updated model\n",
      "\u001b[36m(launch_and_fit pid=5715)\u001b[0m \tTrain Epoch: 1 \tTrain_loss_mri: 0.3326 | Train_acc_mri: 89.7685 | Train_loss_dna: 1.8090 | Train_acc_dna: 32.1412 | Validation_loss_mri: 0.4991 | Validation_acc_mri: 84.3750 | Validation_loss_dna: 2.1849 | Validation_acc_dna: 36.9792\n",
      "\u001b[36m(launch_and_fit pid=5740)\u001b[0m Run with homomorphic encryption\n",
      "\u001b[36m(launch_and_fit pid=5740)\u001b[0m [Client 9, round 7] fit, config: {'learning_rate': 0.003, 'batch_size': '32', 'server_round': 7, 'local_epochs': 10}\n"
     ]
    },
    {
     "name": "stderr",
     "output_type": "stream",
     "text": [
      "  0%|\u001b[34m          \u001b[0m| 0/10 [00:00<?, ?it/s]\n",
      " 10%|\u001b[34m█         \u001b[0m| 1/10 [00:04<00:37,  4.19s/it]\u001b[32m [repeated 2x across cluster]\u001b[0m\n"
     ]
    },
    {
     "name": "stdout",
     "output_type": "stream",
     "text": [
      "\u001b[36m(launch_and_fit pid=5740)\u001b[0m Updated model\n"
     ]
    },
    {
     "name": "stderr",
     "output_type": "stream",
     "text": [
      " 30%|\u001b[34m███       \u001b[0m| 3/10 [00:12<00:28,  4.07s/it]\u001b[32m [repeated 3x across cluster]\u001b[0m\n"
     ]
    },
    {
     "name": "stdout",
     "output_type": "stream",
     "text": [
      "\u001b[36m(launch_and_fit pid=5715)\u001b[0m \tTrain Epoch: 3 \tTrain_loss_mri: 0.1191 | Train_acc_mri: 95.8796 | Train_loss_dna: 1.2297 | Train_acc_dna: 51.0069 | Validation_loss_mri: 0.5470 | Validation_acc_mri: 89.0625 | Validation_loss_dna: 2.1267 | Validation_acc_dna: 32.2917\u001b[32m [repeated 4x across cluster]\u001b[0m\n"
     ]
    },
    {
     "name": "stderr",
     "output_type": "stream",
     "text": [
      " 50%|\u001b[34m█████     \u001b[0m| 5/10 [00:19<00:19,  3.89s/it]\u001b[32m [repeated 4x across cluster]\u001b[0m\n"
     ]
    },
    {
     "name": "stdout",
     "output_type": "stream",
     "text": [
      "\u001b[36m(launch_and_fit pid=5715)\u001b[0m \tTrain Epoch: 5 \tTrain_loss_mri: 0.0999 | Train_acc_mri: 98.1250 | Train_loss_dna: 1.0771 | Train_acc_dna: 58.7153 | Validation_loss_mri: 0.5549 | Validation_acc_mri: 90.6250 | Validation_loss_dna: 2.6942 | Validation_acc_dna: 45.8333\u001b[32m [repeated 4x across cluster]\u001b[0m\n"
     ]
    },
    {
     "name": "stderr",
     "output_type": "stream",
     "text": [
      " 70%|\u001b[34m███████   \u001b[0m| 7/10 [00:27<00:11,  3.84s/it]\u001b[32m [repeated 4x across cluster]\u001b[0m\n"
     ]
    },
    {
     "name": "stdout",
     "output_type": "stream",
     "text": [
      "\u001b[36m(launch_and_fit pid=5715)\u001b[0m \tTrain Epoch: 7 \tTrain_loss_mri: 0.0361 | Train_acc_mri: 99.6875 | Train_loss_dna: 0.9345 | Train_acc_dna: 69.2245 | Validation_loss_mri: 0.5428 | Validation_acc_mri: 90.6250 | Validation_loss_dna: 3.1296 | Validation_acc_dna: 30.7292\u001b[32m [repeated 4x across cluster]\u001b[0m\n"
     ]
    },
    {
     "name": "stderr",
     "output_type": "stream",
     "text": [
      " 90%|\u001b[34m█████████ \u001b[0m| 9/10 [00:34<00:03,  3.81s/it]\u001b[32m [repeated 4x across cluster]\u001b[0m\n"
     ]
    },
    {
     "name": "stdout",
     "output_type": "stream",
     "text": [
      "\u001b[36m(launch_and_fit pid=5715)\u001b[0m \tTrain Epoch: 9 \tTrain_loss_mri: 0.0255 | Train_acc_mri: 99.6875 | Train_loss_dna: 0.7745 | Train_acc_dna: 74.4792 | Validation_loss_mri: 0.7809 | Validation_acc_mri: 89.0625 | Validation_loss_dna: 3.5882 | Validation_acc_dna: 44.2708\u001b[32m [repeated 4x across cluster]\u001b[0m\n",
      "\u001b[36m(launch_and_fit pid=5715)\u001b[0m save graph in  results/FL/\n",
      "\u001b[36m(launch_and_fit pid=5715)\u001b[0m mri_net.features.0.weight 4.76837158203125e-06\n",
      "\u001b[36m(launch_and_fit pid=5715)\u001b[0m mri_net.features.0.bias 1.430511474609375e-06\n",
      "\u001b[36m(launch_and_fit pid=5715)\u001b[0m mri_net.features.3.weight 9.5367431640625e-07\n",
      "\u001b[36m(launch_and_fit pid=5715)\u001b[0m mri_net.features.3.bias 1.1920928955078125e-06\n",
      "\u001b[36m(launch_and_fit pid=5715)\u001b[0m mri_net.classifier.0.weight 1.1920928955078125e-06\n",
      "\u001b[36m(launch_and_fit pid=5715)\u001b[0m mri_net.classifier.0.bias 1.1920928955078125e-06\n",
      "\u001b[36m(launch_and_fit pid=5715)\u001b[0m mri_net.classifier.2.weight 9.5367431640625e-07\n",
      "\u001b[36m(launch_and_fit pid=5715)\u001b[0m mri_net.classifier.2.bias 1.1920928955078125e-06\n",
      "\u001b[36m(launch_and_fit pid=5715)\u001b[0m mri_net.classifier.3.weights 1.430511474609375e-06\n",
      "\u001b[36m(launch_and_fit pid=5715)\u001b[0m dna_net.fc1.weight 9.5367431640625e-07\n",
      "\u001b[36m(launch_and_fit pid=5715)\u001b[0m dna_net.fc1.bias 9.5367431640625e-07\n",
      "\u001b[36m(launch_and_fit pid=5715)\u001b[0m dna_net.fc2.weight 1.1920928955078125e-06\n",
      "\u001b[36m(launch_and_fit pid=5715)\u001b[0m dna_net.fc2.bias 1.1920928955078125e-06\n",
      "\u001b[36m(launch_and_fit pid=5715)\u001b[0m dna_net.fc3.weight 9.5367431640625e-07\n",
      "\u001b[36m(launch_and_fit pid=5715)\u001b[0m dna_net.fc3.bias 9.5367431640625e-07\n",
      "\u001b[36m(launch_and_fit pid=5715)\u001b[0m dna_net.fc4.weight 1.1920928955078125e-06\n",
      "\u001b[36m(launch_and_fit pid=5715)\u001b[0m dna_net.fc4.bias 1.430511474609375e-06\n",
      "\u001b[36m(launch_and_fit pid=5715)\u001b[0m dna_net.qnn.weights 1.1920928955078125e-06\n",
      "\u001b[36m(launch_and_fit pid=5715)\u001b[0m attention.in_proj_weight 1.1920928955078125e-06\n",
      "\u001b[36m(launch_and_fit pid=5715)\u001b[0m attention.in_proj_bias 9.5367431640625e-07\n",
      "\u001b[36m(launch_and_fit pid=5715)\u001b[0m attention.out_proj.weight 9.5367431640625e-07\n",
      "\u001b[36m(launch_and_fit pid=5715)\u001b[0m attention.out_proj.bias 1.430511474609375e-06\n",
      "\u001b[36m(launch_and_fit pid=5715)\u001b[0m fc1.weight 1.1920928955078125e-06\n",
      "\u001b[36m(launch_and_fit pid=5715)\u001b[0m fc1.bias 9.5367431640625e-07\n",
      "\u001b[36m(launch_and_fit pid=5715)\u001b[0m fc2_mri.weight 9.5367431640625e-07\n",
      "\u001b[36m(launch_and_fit pid=5715)\u001b[0m fc2_mri.bias 9.5367431640625e-07\n",
      "\u001b[36m(launch_and_fit pid=5715)\u001b[0m fc2_dna.weight 1.1920928955078125e-06\n",
      "\u001b[36m(launch_and_fit pid=5715)\u001b[0m fc2_dna.bias 1.430511474609375e-06\n"
     ]
    },
    {
     "name": "stderr",
     "output_type": "stream",
     "text": [
      "DEBUG flwr 2024-08-05 07:47:08,558 | server.py:236 | fit_round 7 received 10 results and 0 failures\n"
     ]
    },
    {
     "name": "stdout",
     "output_type": "stream",
     "text": [
      "Saving round 7 aggregated_parameters...\n"
     ]
    },
    {
     "name": "stderr",
     "output_type": "stream",
     "text": [
      "DEBUG flwr 2024-08-05 07:47:10,543 | server.py:173 | evaluate_round 7: strategy sampled 10 clients (out of 10)\n"
     ]
    },
    {
     "name": "stdout",
     "output_type": "stream",
     "text": [
      "\u001b[36m(launch_and_evaluate pid=5806)\u001b[0m Run with homomorphic encryption\n",
      "\u001b[36m(launch_and_fit pid=5740)\u001b[0m \tTrain Epoch: 10 \tTrain_loss_mri: 0.0648 | Train_acc_mri: 99.0625 | Train_loss_dna: 0.8396 | Train_acc_dna: 69.2540 | Validation_loss_mri: 0.6372 | Validation_acc_mri: 89.0625 | Validation_loss_dna: 2.2070 | Validation_acc_dna: 32.2917\u001b[32m [repeated 3x across cluster]\u001b[0m\n",
      "\u001b[36m(launch_and_fit pid=5740)\u001b[0m save graph in  results/FL/\n",
      "\u001b[36m(launch_and_fit pid=5740)\u001b[0m fc2_dna.bias 9.5367431640625e-07\u001b[32m [repeated 23x across cluster]\u001b[0m\n",
      "\u001b[36m(launch_and_fit pid=5740)\u001b[0m dna_net.qnn.weights 1.1920928955078125e-06\n",
      "\u001b[36m(launch_and_fit pid=5740)\u001b[0m attention.in_proj_weight 9.5367431640625e-07\n",
      "\u001b[36m(launch_and_fit pid=5740)\u001b[0m attention.in_proj_bias 9.5367431640625e-07\n",
      "\u001b[36m(launch_and_fit pid=5740)\u001b[0m attention.out_proj.weight 1.1920928955078125e-06\n",
      "\u001b[36m(launch_and_fit pid=5740)\u001b[0m attention.out_proj.bias 9.5367431640625e-07\n",
      "\u001b[36m(launch_and_evaluate pid=5806)\u001b[0m [Client 7] evaluate, config: {}\n",
      "\u001b[36m(launch_and_evaluate pid=5807)\u001b[0m Updated model\n"
     ]
    },
    {
     "name": "stderr",
     "output_type": "stream",
     "text": [
      "\u001b[36m(launch_and_evaluate pid=5807)\u001b[0m /opt/conda/lib/python3.10/site-packages/sklearn/metrics/_ranking.py:1029: UndefinedMetricWarning: No positive samples in y_true, true positive value should be meaningless\n",
      "\u001b[36m(launch_and_evaluate pid=5807)\u001b[0m   warnings.warn(\n",
      "100%|\u001b[34m██████████\u001b[0m| 10/10 [00:38<00:00,  3.80s/it]\u001b[32m [repeated 3x across cluster]\u001b[0m\n"
     ]
    },
    {
     "name": "stdout",
     "output_type": "stream",
     "text": [
      "\u001b[36m(launch_and_evaluate pid=5885)\u001b[0m Run with homomorphic encryption\u001b[32m [repeated 2x across cluster]\u001b[0m\n",
      "\u001b[36m(launch_and_evaluate pid=5807)\u001b[0m [Client 4] evaluate, config: {}\n",
      "\u001b[36m(launch_and_evaluate pid=5806)\u001b[0m Updated model\n",
      "\u001b[36m(launch_and_evaluate pid=5885)\u001b[0m [Client 1] evaluate, config: {}\n",
      "\u001b[36m(launch_and_evaluate pid=5885)\u001b[0m Updated model\n"
     ]
    },
    {
     "name": "stderr",
     "output_type": "stream",
     "text": [
      "\u001b[36m(launch_and_evaluate pid=5887)\u001b[0m /opt/conda/lib/python3.10/site-packages/sklearn/metrics/_ranking.py:1029: UndefinedMetricWarning: No positive samples in y_true, true positive value should be meaningless\n",
      "\u001b[36m(launch_and_evaluate pid=5887)\u001b[0m   warnings.warn(\n"
     ]
    },
    {
     "name": "stdout",
     "output_type": "stream",
     "text": [
      "\u001b[36m(launch_and_evaluate pid=5963)\u001b[0m Run with homomorphic encryption\u001b[32m [repeated 2x across cluster]\u001b[0m\n",
      "\u001b[36m(launch_and_evaluate pid=5887)\u001b[0m [Client 9] evaluate, config: {}\n",
      "\u001b[36m(launch_and_evaluate pid=5887)\u001b[0m Updated model\n",
      "\u001b[36m(launch_and_evaluate pid=5963)\u001b[0m [Client 3] evaluate, config: {}\n",
      "\u001b[36m(launch_and_evaluate pid=5963)\u001b[0m Updated model\n",
      "\u001b[36m(launch_and_evaluate pid=6041)\u001b[0m Run with homomorphic encryption\u001b[32m [repeated 2x across cluster]\u001b[0m\n",
      "\u001b[36m(launch_and_evaluate pid=5965)\u001b[0m [Client 5] evaluate, config: {}\n",
      "\u001b[36m(launch_and_evaluate pid=5965)\u001b[0m Updated model\n",
      "\u001b[36m(launch_and_evaluate pid=6041)\u001b[0m [Client 8] evaluate, config: {}\n",
      "\u001b[36m(launch_and_evaluate pid=6041)\u001b[0m Updated model\n"
     ]
    },
    {
     "name": "stderr",
     "output_type": "stream",
     "text": [
      "\u001b[36m(launch_and_evaluate pid=6041)\u001b[0m /opt/conda/lib/python3.10/site-packages/sklearn/metrics/_ranking.py:1029: UndefinedMetricWarning: No positive samples in y_true, true positive value should be meaningless\n",
      "\u001b[36m(launch_and_evaluate pid=6041)\u001b[0m   warnings.warn(\n"
     ]
    },
    {
     "name": "stdout",
     "output_type": "stream",
     "text": [
      "\u001b[36m(launch_and_evaluate pid=6121)\u001b[0m Run with homomorphic encryption\u001b[32m [repeated 2x across cluster]\u001b[0m\n",
      "\u001b[36m(launch_and_evaluate pid=6043)\u001b[0m [Client 2] evaluate, config: {}\n",
      "\u001b[36m(launch_and_evaluate pid=6043)\u001b[0m Updated model\n",
      "\u001b[36m(launch_and_evaluate pid=6121)\u001b[0m [Client 0] evaluate, config: {}\n",
      "\u001b[36m(launch_and_evaluate pid=6121)\u001b[0m Updated model\n"
     ]
    },
    {
     "name": "stderr",
     "output_type": "stream",
     "text": [
      "DEBUG flwr 2024-08-05 07:48:28,441 | server.py:187 | evaluate_round 7 received 10 results and 0 failures\n",
      "DEBUG flwr 2024-08-05 07:48:28,442 | server.py:222 | fit_round 8: strategy sampled 10 clients (out of 10)\n"
     ]
    },
    {
     "name": "stdout",
     "output_type": "stream",
     "text": [
      "\u001b[36m(launch_and_fit pid=6206)\u001b[0m Run with homomorphic encryption\u001b[32m [repeated 2x across cluster]\u001b[0m\n",
      "\u001b[36m(launch_and_evaluate pid=6120)\u001b[0m [Client 6] evaluate, config: {}\n",
      "\u001b[36m(launch_and_evaluate pid=6120)\u001b[0m Updated model\n",
      "\u001b[36m(launch_and_fit pid=6206)\u001b[0m [Client 1, round 8] fit, config: {'learning_rate': 0.003, 'batch_size': '32', 'server_round': 8, 'local_epochs': 10}\n"
     ]
    },
    {
     "name": "stderr",
     "output_type": "stream",
     "text": [
      "  0%|\u001b[34m          \u001b[0m| 0/10 [00:00<?, ?it/s]\n"
     ]
    },
    {
     "name": "stdout",
     "output_type": "stream",
     "text": [
      "\u001b[36m(launch_and_fit pid=6206)\u001b[0m Updated model\n"
     ]
    },
    {
     "name": "stderr",
     "output_type": "stream",
     "text": [
      " 10%|\u001b[34m█         \u001b[0m| 1/10 [00:04<00:40,  4.48s/it]\n"
     ]
    },
    {
     "name": "stdout",
     "output_type": "stream",
     "text": [
      "\u001b[36m(launch_and_fit pid=6206)\u001b[0m \tTrain Epoch: 1 \tTrain_loss_mri: 0.4656 | Train_acc_mri: 85.9606 | Train_loss_dna: 1.9573 | Train_acc_dna: 37.6273 | Validation_loss_mri: 0.5312 | Validation_acc_mri: 85.9375 | Validation_loss_dna: 2.6314 | Validation_acc_dna: 15.6250\n",
      "\u001b[36m(launch_and_fit pid=6207)\u001b[0m Run with homomorphic encryption\n",
      "\u001b[36m(launch_and_fit pid=6207)\u001b[0m [Client 3, round 8] fit, config: {'learning_rate': 0.003, 'batch_size': '32', 'server_round': 8, 'local_epochs': 10}\n"
     ]
    },
    {
     "name": "stderr",
     "output_type": "stream",
     "text": [
      "  0%|\u001b[34m          \u001b[0m| 0/10 [00:00<?, ?it/s]\n"
     ]
    },
    {
     "name": "stdout",
     "output_type": "stream",
     "text": [
      "\u001b[36m(launch_and_fit pid=6207)\u001b[0m Updated model\n"
     ]
    },
    {
     "name": "stderr",
     "output_type": "stream",
     "text": [
      " 30%|\u001b[34m███       \u001b[0m| 3/10 [00:12<00:27,  3.94s/it]\u001b[32m [repeated 4x across cluster]\u001b[0m\n"
     ]
    },
    {
     "name": "stdout",
     "output_type": "stream",
     "text": [
      "\u001b[36m(launch_and_fit pid=6206)\u001b[0m \tTrain Epoch: 3 \tTrain_loss_mri: 0.1297 | Train_acc_mri: 96.7014 | Train_loss_dna: 1.2024 | Train_acc_dna: 51.1806 | Validation_loss_mri: 0.7605 | Validation_acc_mri: 72.3958 | Validation_loss_dna: 3.0102 | Validation_acc_dna: 12.5000\u001b[32m [repeated 4x across cluster]\u001b[0m\n"
     ]
    },
    {
     "name": "stderr",
     "output_type": "stream",
     "text": [
      " 50%|\u001b[34m█████     \u001b[0m| 5/10 [00:19<00:19,  3.81s/it]\u001b[32m [repeated 4x across cluster]\u001b[0m\n"
     ]
    },
    {
     "name": "stdout",
     "output_type": "stream",
     "text": [
      "\u001b[36m(launch_and_fit pid=6206)\u001b[0m \tTrain Epoch: 5 \tTrain_loss_mri: 0.0600 | Train_acc_mri: 98.4375 | Train_loss_dna: 0.9517 | Train_acc_dna: 66.5509 | Validation_loss_mri: 0.5903 | Validation_acc_mri: 73.9583 | Validation_loss_dna: 2.4665 | Validation_acc_dna: 10.9375\u001b[32m [repeated 4x across cluster]\u001b[0m\n"
     ]
    },
    {
     "name": "stderr",
     "output_type": "stream",
     "text": [
      " 60%|\u001b[34m██████    \u001b[0m| 6/10 [00:24<00:15,  3.95s/it]\u001b[32m [repeated 3x across cluster]\u001b[0m\n"
     ]
    },
    {
     "name": "stdout",
     "output_type": "stream",
     "text": [
      "\u001b[36m(launch_and_fit pid=6207)\u001b[0m \tTrain Epoch: 6 \tTrain_loss_mri: 0.0303 | Train_acc_mri: 99.3750 | Train_loss_dna: 0.8033 | Train_acc_dna: 71.1574 | Validation_loss_mri: 0.5252 | Validation_acc_mri: 89.0625 | Validation_loss_dna: 3.3813 | Validation_acc_dna: 9.3750\u001b[32m [repeated 3x across cluster]\u001b[0m\n"
     ]
    },
    {
     "name": "stderr",
     "output_type": "stream",
     "text": [
      " 80%|\u001b[34m████████  \u001b[0m| 8/10 [00:30<00:07,  3.77s/it]\u001b[32m [repeated 3x across cluster]\u001b[0m\n"
     ]
    },
    {
     "name": "stdout",
     "output_type": "stream",
     "text": [
      "\u001b[36m(launch_and_fit pid=6206)\u001b[0m \tTrain Epoch: 8 \tTrain_loss_mri: 0.0502 | Train_acc_mri: 98.3796 | Train_loss_dna: 0.7313 | Train_acc_dna: 74.9653 | Validation_loss_mri: 0.4508 | Validation_acc_mri: 90.6250 | Validation_loss_dna: 4.3669 | Validation_acc_dna: 10.9375\u001b[32m [repeated 3x across cluster]\u001b[0m\n"
     ]
    },
    {
     "name": "stderr",
     "output_type": "stream",
     "text": [
      " 90%|\u001b[34m█████████ \u001b[0m| 9/10 [00:36<00:03,  4.00s/it]\u001b[32m [repeated 3x across cluster]\u001b[0m\n"
     ]
    },
    {
     "name": "stdout",
     "output_type": "stream",
     "text": [
      "\u001b[36m(launch_and_fit pid=6207)\u001b[0m \tTrain Epoch: 9 \tTrain_loss_mri: 0.0227 | Train_acc_mri: 99.6875 | Train_loss_dna: 0.6818 | Train_acc_dna: 78.2060 | Validation_loss_mri: 0.7190 | Validation_acc_mri: 87.5000 | Validation_loss_dna: 4.0512 | Validation_acc_dna: 6.2500\u001b[32m [repeated 3x across cluster]\u001b[0m\n",
      "\u001b[36m(launch_and_fit pid=6206)\u001b[0m save graph in  results/FL/\n",
      "\u001b[36m(launch_and_fit pid=6206)\u001b[0m mri_net.features.0.weight 4.5299530029296875e-06\n",
      "\u001b[36m(launch_and_fit pid=6206)\u001b[0m mri_net.features.0.bias 1.1920928955078125e-06\n",
      "\u001b[36m(launch_and_fit pid=6206)\u001b[0m mri_net.features.3.weight 9.5367431640625e-07\n",
      "\u001b[36m(launch_and_fit pid=6206)\u001b[0m mri_net.features.3.bias 9.5367431640625e-07\n",
      "\u001b[36m(launch_and_fit pid=6206)\u001b[0m mri_net.classifier.0.weight 1.1920928955078125e-06\n",
      "\u001b[36m(launch_and_fit pid=6206)\u001b[0m mri_net.classifier.0.bias 9.5367431640625e-07\n",
      "\u001b[36m(launch_and_fit pid=6206)\u001b[0m mri_net.classifier.2.weight 9.5367431640625e-07\n",
      "\u001b[36m(launch_and_fit pid=6206)\u001b[0m mri_net.classifier.2.bias 1.1920928955078125e-06\n",
      "\u001b[36m(launch_and_fit pid=6206)\u001b[0m mri_net.classifier.3.weights 1.1920928955078125e-06\n",
      "\u001b[36m(launch_and_fit pid=6206)\u001b[0m dna_net.fc1.weight 1.1920928955078125e-06\n",
      "\u001b[36m(launch_and_fit pid=6206)\u001b[0m dna_net.fc1.bias 9.5367431640625e-07\n",
      "\u001b[36m(launch_and_fit pid=6206)\u001b[0m dna_net.fc2.weight 9.5367431640625e-07\n",
      "\u001b[36m(launch_and_fit pid=6206)\u001b[0m dna_net.fc2.bias 9.5367431640625e-07\n",
      "\u001b[36m(launch_and_fit pid=6206)\u001b[0m dna_net.fc3.weight 9.5367431640625e-07\n",
      "\u001b[36m(launch_and_fit pid=6206)\u001b[0m dna_net.fc3.bias 7.152557373046875e-07\n",
      "\u001b[36m(launch_and_fit pid=6206)\u001b[0m dna_net.fc4.weight 1.1920928955078125e-06\n",
      "\u001b[36m(launch_and_fit pid=6206)\u001b[0m dna_net.fc4.bias 9.5367431640625e-07\n",
      "\u001b[36m(launch_and_fit pid=6206)\u001b[0m dna_net.qnn.weights 9.5367431640625e-07\n",
      "\u001b[36m(launch_and_fit pid=6206)\u001b[0m attention.in_proj_weight 7.152557373046875e-07\n",
      "\u001b[36m(launch_and_fit pid=6206)\u001b[0m attention.in_proj_bias 1.1920928955078125e-06\n",
      "\u001b[36m(launch_and_fit pid=6206)\u001b[0m attention.out_proj.weight 7.152557373046875e-07\n",
      "\u001b[36m(launch_and_fit pid=6206)\u001b[0m attention.out_proj.bias 1.6689300537109375e-06\n",
      "\u001b[36m(launch_and_fit pid=6206)\u001b[0m fc1.weight 1.430511474609375e-06\n",
      "\u001b[36m(launch_and_fit pid=6206)\u001b[0m fc1.bias 9.5367431640625e-07\n",
      "\u001b[36m(launch_and_fit pid=6206)\u001b[0m fc2_mri.weight 1.1920928955078125e-06\n",
      "\u001b[36m(launch_and_fit pid=6206)\u001b[0m fc2_mri.bias 1.1920928955078125e-06\n",
      "\u001b[36m(launch_and_fit pid=6206)\u001b[0m fc2_dna.weight 1.1920928955078125e-06\n",
      "\u001b[36m(launch_and_fit pid=6206)\u001b[0m fc2_dna.bias 9.5367431640625e-07\n",
      "\u001b[36m(launch_and_fit pid=6287)\u001b[0m Run with homomorphic encryption\n",
      "\u001b[36m(launch_and_fit pid=6207)\u001b[0m \tTrain Epoch: 10 \tTrain_loss_mri: 0.0219 | Train_acc_mri: 99.6875 | Train_loss_dna: 0.6241 | Train_acc_dna: 79.3403 | Validation_loss_mri: 0.5695 | Validation_acc_mri: 89.0625 | Validation_loss_dna: 4.4593 | Validation_acc_dna: 39.5833\u001b[32m [repeated 2x across cluster]\u001b[0m\n",
      "\u001b[36m(launch_and_fit pid=6207)\u001b[0m save graph in  results/FL/\n",
      "\u001b[36m(launch_and_fit pid=6207)\u001b[0m fc2_dna.bias 1.430511474609375e-06\u001b[32m [repeated 23x across cluster]\u001b[0m\n",
      "\u001b[36m(launch_and_fit pid=6207)\u001b[0m dna_net.qnn.weights 1.1920928955078125e-06\n",
      "\u001b[36m(launch_and_fit pid=6207)\u001b[0m attention.in_proj_weight 1.430511474609375e-06\n",
      "\u001b[36m(launch_and_fit pid=6207)\u001b[0m attention.in_proj_bias 1.1920928955078125e-06\n",
      "\u001b[36m(launch_and_fit pid=6207)\u001b[0m attention.out_proj.weight 1.1920928955078125e-06\n",
      "\u001b[36m(launch_and_fit pid=6207)\u001b[0m attention.out_proj.bias 1.430511474609375e-06\n",
      "\u001b[36m(launch_and_fit pid=6287)\u001b[0m [Client 0, round 8] fit, config: {'learning_rate': 0.003, 'batch_size': '32', 'server_round': 8, 'local_epochs': 10}\n",
      "\u001b[36m(launch_and_fit pid=6287)\u001b[0m Updated model\n"
     ]
    },
    {
     "name": "stderr",
     "output_type": "stream",
     "text": [
      "  0%|\u001b[34m          \u001b[0m| 0/10 [00:00<?, ?it/s]\n",
      "100%|\u001b[34m██████████\u001b[0m| 10/10 [00:40<00:00,  4.01s/it]\u001b[32m [repeated 2x across cluster]\u001b[0m\n"
     ]
    },
    {
     "name": "stdout",
     "output_type": "stream",
     "text": [
      "\u001b[36m(launch_and_fit pid=6312)\u001b[0m Run with homomorphic encryption\n",
      "\u001b[36m(launch_and_fit pid=6287)\u001b[0m \tTrain Epoch: 1 \tTrain_loss_mri: 0.5408 | Train_acc_mri: 86.7014 | Train_loss_dna: 1.9429 | Train_acc_dna: 32.5116 | Validation_loss_mri: 0.6394 | Validation_acc_mri: 85.9375 | Validation_loss_dna: 3.0349 | Validation_acc_dna: 17.1875\n",
      "\u001b[36m(launch_and_fit pid=6312)\u001b[0m [Client 7, round 8] fit, config: {'learning_rate': 0.003, 'batch_size': '32', 'server_round': 8, 'local_epochs': 10}\n"
     ]
    },
    {
     "name": "stderr",
     "output_type": "stream",
     "text": [
      "  0%|\u001b[34m          \u001b[0m| 0/10 [00:00<?, ?it/s]\n",
      " 10%|\u001b[34m█         \u001b[0m| 1/10 [00:04<00:38,  4.26s/it]\u001b[32m [repeated 2x across cluster]\u001b[0m\n"
     ]
    },
    {
     "name": "stdout",
     "output_type": "stream",
     "text": [
      "\u001b[36m(launch_and_fit pid=6312)\u001b[0m \tTrain Epoch: 1 \tTrain_loss_mri: 0.7000 | Train_acc_mri: 81.5278 | Train_loss_dna: 2.1232 | Train_acc_dna: 30.6366 | Validation_loss_mri: 1.2937 | Validation_acc_mri: 69.2708 | Validation_loss_dna: 1.9402 | Validation_acc_dna: 47.3958\n",
      "\u001b[36m(launch_and_fit pid=6312)\u001b[0m Updated model\n",
      "\u001b[36m(launch_and_fit pid=6287)\u001b[0m \tTrain Epoch: 3 \tTrain_loss_mri: 0.1562 | Train_acc_mri: 94.8264 | Train_loss_dna: 1.1782 | Train_acc_dna: 53.6458 | Validation_loss_mri: 1.1308 | Validation_acc_mri: 69.2708 | Validation_loss_dna: 2.7583 | Validation_acc_dna: 15.6250\u001b[32m [repeated 3x across cluster]\u001b[0m\n"
     ]
    },
    {
     "name": "stderr",
     "output_type": "stream",
     "text": [
      " 30%|\u001b[34m███       \u001b[0m| 3/10 [00:11<00:27,  3.92s/it]\u001b[32m [repeated 3x across cluster]\u001b[0m\n",
      " 40%|\u001b[34m████      \u001b[0m| 4/10 [00:15<00:23,  3.92s/it]\u001b[32m [repeated 3x across cluster]\u001b[0m\n"
     ]
    },
    {
     "name": "stdout",
     "output_type": "stream",
     "text": [
      "\u001b[36m(launch_and_fit pid=6312)\u001b[0m \tTrain Epoch: 4 \tTrain_loss_mri: 0.0849 | Train_acc_mri: 98.1250 | Train_loss_dna: 1.0404 | Train_acc_dna: 61.4931 | Validation_loss_mri: 0.8565 | Validation_acc_mri: 78.6458 | Validation_loss_dna: 1.6590 | Validation_acc_dna: 47.3958\u001b[32m [repeated 3x across cluster]\u001b[0m\n",
      "\u001b[36m(launch_and_fit pid=6287)\u001b[0m \tTrain Epoch: 6 \tTrain_loss_mri: 0.0448 | Train_acc_mri: 99.0625 | Train_loss_dna: 0.9204 | Train_acc_dna: 69.3981 | Validation_loss_mri: 1.2728 | Validation_acc_mri: 69.2708 | Validation_loss_dna: 3.0882 | Validation_acc_dna: 18.7500\u001b[32m [repeated 3x across cluster]\u001b[0m\n"
     ]
    },
    {
     "name": "stderr",
     "output_type": "stream",
     "text": [
      " 60%|\u001b[34m██████    \u001b[0m| 6/10 [00:23<00:15,  3.85s/it]\u001b[32m [repeated 3x across cluster]\u001b[0m\n",
      " 70%|\u001b[34m███████   \u001b[0m| 7/10 [00:26<00:11,  3.76s/it]\u001b[32m [repeated 3x across cluster]\u001b[0m\n"
     ]
    },
    {
     "name": "stdout",
     "output_type": "stream",
     "text": [
      "\u001b[36m(launch_and_fit pid=6312)\u001b[0m \tTrain Epoch: 7 \tTrain_loss_mri: 0.0364 | Train_acc_mri: 99.3750 | Train_loss_dna: 0.7874 | Train_acc_dna: 73.4028 | Validation_loss_mri: 0.7743 | Validation_acc_mri: 78.6458 | Validation_loss_dna: 1.9979 | Validation_acc_dna: 60.9375\u001b[32m [repeated 3x across cluster]\u001b[0m\n",
      "\u001b[36m(launch_and_fit pid=6287)\u001b[0m \tTrain Epoch: 9 \tTrain_loss_mri: 0.0287 | Train_acc_mri: 100.0000 | Train_loss_dna: 0.7229 | Train_acc_dna: 75.7292 | Validation_loss_mri: 1.6505 | Validation_acc_mri: 67.7083 | Validation_loss_dna: 3.6283 | Validation_acc_dna: 18.7500\u001b[32m [repeated 3x across cluster]\u001b[0m\n"
     ]
    },
    {
     "name": "stderr",
     "output_type": "stream",
     "text": [
      " 90%|\u001b[34m█████████ \u001b[0m| 9/10 [00:34<00:03,  3.82s/it]\u001b[32m [repeated 3x across cluster]\u001b[0m\n"
     ]
    },
    {
     "name": "stdout",
     "output_type": "stream",
     "text": [
      "\u001b[36m(launch_and_fit pid=6287)\u001b[0m save graph in  results/FL/\n",
      "\u001b[36m(launch_and_fit pid=6287)\u001b[0m mri_net.features.0.weight 5.4836273193359375e-06\n",
      "\u001b[36m(launch_and_fit pid=6287)\u001b[0m mri_net.features.0.bias 1.1920928955078125e-06\n",
      "\u001b[36m(launch_and_fit pid=6287)\u001b[0m mri_net.features.3.weight 1.1920928955078125e-06\n",
      "\u001b[36m(launch_and_fit pid=6287)\u001b[0m mri_net.features.3.bias 9.5367431640625e-07\n",
      "\u001b[36m(launch_and_fit pid=6287)\u001b[0m mri_net.classifier.0.weight 1.1920928955078125e-06\n",
      "\u001b[36m(launch_and_fit pid=6287)\u001b[0m mri_net.classifier.0.bias 9.5367431640625e-07\n",
      "\u001b[36m(launch_and_fit pid=6287)\u001b[0m mri_net.classifier.2.weight 9.5367431640625e-07\n",
      "\u001b[36m(launch_and_fit pid=6287)\u001b[0m mri_net.classifier.2.bias 1.1920928955078125e-06\n",
      "\u001b[36m(launch_and_fit pid=6287)\u001b[0m mri_net.classifier.3.weights 9.5367431640625e-07\n",
      "\u001b[36m(launch_and_fit pid=6287)\u001b[0m dna_net.fc1.weight 1.1920928955078125e-06\n",
      "\u001b[36m(launch_and_fit pid=6287)\u001b[0m dna_net.fc1.bias 9.5367431640625e-07\n",
      "\u001b[36m(launch_and_fit pid=6287)\u001b[0m dna_net.fc2.weight 9.5367431640625e-07\n",
      "\u001b[36m(launch_and_fit pid=6287)\u001b[0m dna_net.fc2.bias 1.1920928955078125e-06\n",
      "\u001b[36m(launch_and_fit pid=6287)\u001b[0m dna_net.fc3.weight 9.5367431640625e-07\n",
      "\u001b[36m(launch_and_fit pid=6287)\u001b[0m dna_net.fc3.bias 9.5367431640625e-07\n",
      "\u001b[36m(launch_and_fit pid=6287)\u001b[0m dna_net.fc4.weight 1.1920928955078125e-06\n",
      "\u001b[36m(launch_and_fit pid=6287)\u001b[0m dna_net.fc4.bias 1.1920928955078125e-06\n",
      "\u001b[36m(launch_and_fit pid=6287)\u001b[0m dna_net.qnn.weights 9.5367431640625e-07\n",
      "\u001b[36m(launch_and_fit pid=6287)\u001b[0m attention.in_proj_weight 9.5367431640625e-07\n",
      "\u001b[36m(launch_and_fit pid=6287)\u001b[0m attention.in_proj_bias 1.1920928955078125e-06\n",
      "\u001b[36m(launch_and_fit pid=6287)\u001b[0m attention.out_proj.weight 9.5367431640625e-07\n",
      "\u001b[36m(launch_and_fit pid=6287)\u001b[0m attention.out_proj.bias 9.5367431640625e-07\n",
      "\u001b[36m(launch_and_fit pid=6287)\u001b[0m fc1.weight 1.430511474609375e-06\n",
      "\u001b[36m(launch_and_fit pid=6287)\u001b[0m fc1.bias 9.5367431640625e-07\n",
      "\u001b[36m(launch_and_fit pid=6287)\u001b[0m fc2_mri.weight 1.1920928955078125e-06\n",
      "\u001b[36m(launch_and_fit pid=6287)\u001b[0m fc2_mri.bias 9.5367431640625e-07\n",
      "\u001b[36m(launch_and_fit pid=6287)\u001b[0m fc2_dna.weight 1.1920928955078125e-06\n",
      "\u001b[36m(launch_and_fit pid=6287)\u001b[0m fc2_dna.bias 9.5367431640625e-07\n"
     ]
    },
    {
     "name": "stderr",
     "output_type": "stream",
     "text": [
      "100%|\u001b[34m██████████\u001b[0m| 10/10 [00:38<00:00,  3.81s/it]\u001b[32m [repeated 3x across cluster]\u001b[0m\n"
     ]
    },
    {
     "name": "stdout",
     "output_type": "stream",
     "text": [
      "\u001b[36m(launch_and_fit pid=6312)\u001b[0m \tTrain Epoch: 10 \tTrain_loss_mri: 0.0540 | Train_acc_mri: 99.0625 | Train_loss_dna: 0.7098 | Train_acc_dna: 74.3634 | Validation_loss_mri: 0.8397 | Validation_acc_mri: 75.5208 | Validation_loss_dna: 2.2353 | Validation_acc_dna: 65.6250\u001b[32m [repeated 3x across cluster]\u001b[0m\n",
      "\u001b[36m(launch_and_fit pid=6369)\u001b[0m Run with homomorphic encryption\n",
      "\u001b[36m(launch_and_fit pid=6312)\u001b[0m save graph in  results/FL/\n",
      "\u001b[36m(launch_and_fit pid=6312)\u001b[0m fc2_dna.bias 1.2874603271484375e-05\u001b[32m [repeated 23x across cluster]\u001b[0m\n",
      "\u001b[36m(launch_and_fit pid=6312)\u001b[0m dna_net.qnn.weights 9.5367431640625e-07\n",
      "\u001b[36m(launch_and_fit pid=6312)\u001b[0m attention.in_proj_weight 1.1920928955078125e-06\n",
      "\u001b[36m(launch_and_fit pid=6312)\u001b[0m attention.in_proj_bias 1.1920928955078125e-06\n",
      "\u001b[36m(launch_and_fit pid=6312)\u001b[0m attention.out_proj.weight 9.5367431640625e-07\n",
      "\u001b[36m(launch_and_fit pid=6312)\u001b[0m attention.out_proj.bias 9.5367431640625e-07\n",
      "\u001b[36m(launch_and_fit pid=6369)\u001b[0m [Client 6, round 8] fit, config: {'learning_rate': 0.003, 'batch_size': '32', 'server_round': 8, 'local_epochs': 10}\n",
      "\u001b[36m(launch_and_fit pid=6369)\u001b[0m Updated model\n"
     ]
    },
    {
     "name": "stderr",
     "output_type": "stream",
     "text": [
      "  0%|\u001b[34m          \u001b[0m| 0/10 [00:00<?, ?it/s]\n"
     ]
    },
    {
     "name": "stdout",
     "output_type": "stream",
     "text": [
      "\u001b[36m(launch_and_fit pid=6369)\u001b[0m \tTrain Epoch: 1 \tTrain_loss_mri: 0.6025 | Train_acc_mri: 84.2824 | Train_loss_dna: 2.1025 | Train_acc_dna: 36.7708 | Validation_loss_mri: 1.1703 | Validation_acc_mri: 67.7083 | Validation_loss_dna: 2.9408 | Validation_acc_dna: 12.5000\n",
      "\u001b[36m(launch_and_fit pid=6394)\u001b[0m Run with homomorphic encryption\n",
      "\u001b[36m(launch_and_fit pid=6394)\u001b[0m [Client 5, round 8] fit, config: {'learning_rate': 0.003, 'batch_size': '32', 'server_round': 8, 'local_epochs': 10}\n"
     ]
    },
    {
     "name": "stderr",
     "output_type": "stream",
     "text": [
      " 10%|\u001b[34m█         \u001b[0m| 1/10 [00:04<00:37,  4.22s/it]\n"
     ]
    },
    {
     "name": "stdout",
     "output_type": "stream",
     "text": [
      "\u001b[36m(launch_and_fit pid=6394)\u001b[0m Updated model\n"
     ]
    },
    {
     "name": "stderr",
     "output_type": "stream",
     "text": [
      "  0%|\u001b[34m          \u001b[0m| 0/10 [00:00<?, ?it/s]\n"
     ]
    },
    {
     "name": "stdout",
     "output_type": "stream",
     "text": [
      "\u001b[36m(launch_and_fit pid=6369)\u001b[0m \tTrain Epoch: 3 \tTrain_loss_mri: 0.1616 | Train_acc_mri: 96.1921 | Train_loss_dna: 1.1853 | Train_acc_dna: 57.2917 | Validation_loss_mri: 0.9483 | Validation_acc_mri: 66.1458 | Validation_loss_dna: 2.4445 | Validation_acc_dna: 7.8125\u001b[32m [repeated 4x across cluster]\u001b[0m\n"
     ]
    },
    {
     "name": "stderr",
     "output_type": "stream",
     "text": [
      " 30%|\u001b[34m███       \u001b[0m| 3/10 [00:11<00:27,  3.88s/it]\u001b[32m [repeated 4x across cluster]\u001b[0m\n"
     ]
    },
    {
     "name": "stdout",
     "output_type": "stream",
     "text": [
      "\u001b[36m(launch_and_fit pid=6369)\u001b[0m \tTrain Epoch: 5 \tTrain_loss_mri: 0.0667 | Train_acc_mri: 99.3750 | Train_loss_dna: 0.9132 | Train_acc_dna: 67.7199 | Validation_loss_mri: 1.1439 | Validation_acc_mri: 69.2708 | Validation_loss_dna: 2.7302 | Validation_acc_dna: 6.2500\u001b[32m [repeated 4x across cluster]\u001b[0m\n"
     ]
    },
    {
     "name": "stderr",
     "output_type": "stream",
     "text": [
      " 50%|\u001b[34m█████     \u001b[0m| 5/10 [00:19<00:18,  3.77s/it]\u001b[32m [repeated 4x across cluster]\u001b[0m\n"
     ]
    },
    {
     "name": "stdout",
     "output_type": "stream",
     "text": [
      "\u001b[36m(launch_and_fit pid=6369)\u001b[0m \tTrain Epoch: 7 \tTrain_loss_mri: 0.0359 | Train_acc_mri: 99.3750 | Train_loss_dna: 0.7450 | Train_acc_dna: 75.0810 | Validation_loss_mri: 1.1380 | Validation_acc_mri: 69.2708 | Validation_loss_dna: 3.3832 | Validation_acc_dna: 10.9375\u001b[32m [repeated 4x across cluster]\u001b[0m\n"
     ]
    },
    {
     "name": "stderr",
     "output_type": "stream",
     "text": [
      " 70%|\u001b[34m███████   \u001b[0m| 7/10 [00:26<00:11,  3.79s/it]\u001b[32m [repeated 4x across cluster]\u001b[0m\n"
     ]
    },
    {
     "name": "stdout",
     "output_type": "stream",
     "text": [
      "\u001b[36m(launch_and_fit pid=6369)\u001b[0m \tTrain Epoch: 9 \tTrain_loss_mri: 0.0438 | Train_acc_mri: 99.3750 | Train_loss_dna: 0.6329 | Train_acc_dna: 77.1759 | Validation_loss_mri: 1.4298 | Validation_acc_mri: 67.7083 | Validation_loss_dna: 4.1420 | Validation_acc_dna: 9.3750\u001b[32m [repeated 4x across cluster]\u001b[0m\n"
     ]
    },
    {
     "name": "stderr",
     "output_type": "stream",
     "text": [
      " 90%|\u001b[34m█████████ \u001b[0m| 9/10 [00:34<00:03,  3.78s/it]\u001b[32m [repeated 4x across cluster]\u001b[0m\n"
     ]
    },
    {
     "name": "stdout",
     "output_type": "stream",
     "text": [
      "\u001b[36m(launch_and_fit pid=6369)\u001b[0m save graph in  results/FL/\n",
      "\u001b[36m(launch_and_fit pid=6369)\u001b[0m mri_net.features.0.weight 5.0067901611328125e-06\n",
      "\u001b[36m(launch_and_fit pid=6369)\u001b[0m mri_net.features.0.bias 1.430511474609375e-06\n",
      "\u001b[36m(launch_and_fit pid=6369)\u001b[0m mri_net.features.3.weight 1.430511474609375e-06\n",
      "\u001b[36m(launch_and_fit pid=6369)\u001b[0m mri_net.features.3.bias 9.5367431640625e-07\n",
      "\u001b[36m(launch_and_fit pid=6369)\u001b[0m mri_net.classifier.0.weight 1.1920928955078125e-06\n",
      "\u001b[36m(launch_and_fit pid=6369)\u001b[0m mri_net.classifier.0.bias 1.1920928955078125e-06\n",
      "\u001b[36m(launch_and_fit pid=6369)\u001b[0m mri_net.classifier.2.weight 9.5367431640625e-07\n",
      "\u001b[36m(launch_and_fit pid=6369)\u001b[0m mri_net.classifier.2.bias 9.059906005859375e-06\n",
      "\u001b[36m(launch_and_fit pid=6369)\u001b[0m mri_net.classifier.3.weights 1.1920928955078125e-06\n",
      "\u001b[36m(launch_and_fit pid=6369)\u001b[0m dna_net.fc1.weight 1.430511474609375e-06\n",
      "\u001b[36m(launch_and_fit pid=6369)\u001b[0m dna_net.fc1.bias 9.5367431640625e-07\n",
      "\u001b[36m(launch_and_fit pid=6369)\u001b[0m dna_net.fc2.weight 9.5367431640625e-07\n",
      "\u001b[36m(launch_and_fit pid=6369)\u001b[0m dna_net.fc2.bias 9.5367431640625e-07\n",
      "\u001b[36m(launch_and_fit pid=6369)\u001b[0m dna_net.fc3.weight 1.1920928955078125e-06\n",
      "\u001b[36m(launch_and_fit pid=6369)\u001b[0m dna_net.fc3.bias 1.1920928955078125e-06\n",
      "\u001b[36m(launch_and_fit pid=6369)\u001b[0m dna_net.fc4.weight 1.1920928955078125e-06\n",
      "\u001b[36m(launch_and_fit pid=6369)\u001b[0m dna_net.fc4.bias 9.5367431640625e-07\n",
      "\u001b[36m(launch_and_fit pid=6369)\u001b[0m dna_net.qnn.weights 9.5367431640625e-07\n",
      "\u001b[36m(launch_and_fit pid=6369)\u001b[0m attention.in_proj_weight 1.1920928955078125e-06\n",
      "\u001b[36m(launch_and_fit pid=6369)\u001b[0m attention.in_proj_bias 1.1920928955078125e-06\n",
      "\u001b[36m(launch_and_fit pid=6369)\u001b[0m attention.out_proj.weight 1.1920928955078125e-06\n",
      "\u001b[36m(launch_and_fit pid=6369)\u001b[0m attention.out_proj.bias 1.1920928955078125e-06\n",
      "\u001b[36m(launch_and_fit pid=6369)\u001b[0m fc1.weight 1.430511474609375e-06\n",
      "\u001b[36m(launch_and_fit pid=6369)\u001b[0m fc1.bias 9.5367431640625e-07\n",
      "\u001b[36m(launch_and_fit pid=6369)\u001b[0m fc2_mri.weight 1.6689300537109375e-06\n",
      "\u001b[36m(launch_and_fit pid=6369)\u001b[0m fc2_mri.bias 1.1920928955078125e-06\n",
      "\u001b[36m(launch_and_fit pid=6369)\u001b[0m fc2_dna.weight 9.5367431640625e-07\n",
      "\u001b[36m(launch_and_fit pid=6369)\u001b[0m fc2_dna.bias 9.5367431640625e-07\n",
      "\u001b[36m(launch_and_fit pid=6394)\u001b[0m \tTrain Epoch: 10 \tTrain_loss_mri: 0.0514 | Train_acc_mri: 98.3796 | Train_loss_dna: 0.6130 | Train_acc_dna: 79.5949 | Validation_loss_mri: 0.5342 | Validation_acc_mri: 90.6250 | Validation_loss_dna: 3.6086 | Validation_acc_dna: 10.9375\u001b[32m [repeated 3x across cluster]\u001b[0m\n",
      "\u001b[36m(launch_and_fit pid=6451)\u001b[0m Run with homomorphic encryption\n",
      "\u001b[36m(launch_and_fit pid=6394)\u001b[0m save graph in  results/FL/\n",
      "\u001b[36m(launch_and_fit pid=6394)\u001b[0m fc2_dna.bias 9.5367431640625e-07\u001b[32m [repeated 23x across cluster]\u001b[0m\n",
      "\u001b[36m(launch_and_fit pid=6394)\u001b[0m dna_net.qnn.weights 1.1920928955078125e-06\n",
      "\u001b[36m(launch_and_fit pid=6394)\u001b[0m attention.in_proj_weight 7.152557373046875e-07\n",
      "\u001b[36m(launch_and_fit pid=6394)\u001b[0m attention.in_proj_bias 9.5367431640625e-07\n",
      "\u001b[36m(launch_and_fit pid=6394)\u001b[0m attention.out_proj.weight 1.1920928955078125e-06\n",
      "\u001b[36m(launch_and_fit pid=6394)\u001b[0m attention.out_proj.bias 9.5367431640625e-07\n",
      "\u001b[36m(launch_and_fit pid=6451)\u001b[0m [Client 9, round 8] fit, config: {'learning_rate': 0.003, 'batch_size': '32', 'server_round': 8, 'local_epochs': 10}\n"
     ]
    },
    {
     "name": "stderr",
     "output_type": "stream",
     "text": [
      "  0%|\u001b[34m          \u001b[0m| 0/10 [00:00<?, ?it/s]\n",
      "100%|\u001b[34m██████████\u001b[0m| 10/10 [00:38<00:00,  3.84s/it]\u001b[32m [repeated 3x across cluster]\u001b[0m\n"
     ]
    },
    {
     "name": "stdout",
     "output_type": "stream",
     "text": [
      "\u001b[36m(launch_and_fit pid=6451)\u001b[0m Updated model\n",
      "\u001b[36m(launch_and_fit pid=6451)\u001b[0m \tTrain Epoch: 1 \tTrain_loss_mri: 0.7724 | Train_acc_mri: 82.8024 | Train_loss_dna: 2.0435 | Train_acc_dna: 31.6532 | Validation_loss_mri: 0.3054 | Validation_acc_mri: 92.1875 | Validation_loss_dna: 1.8782 | Validation_acc_dna: 30.7292\n",
      "\u001b[36m(launch_and_fit pid=6476)\u001b[0m Run with homomorphic encryption\n",
      "\u001b[36m(launch_and_fit pid=6476)\u001b[0m [Client 2, round 8] fit, config: {'learning_rate': 0.003, 'batch_size': '32', 'server_round': 8, 'local_epochs': 10}\n",
      "\u001b[36m(launch_and_fit pid=6476)\u001b[0m Updated model\n"
     ]
    },
    {
     "name": "stderr",
     "output_type": "stream",
     "text": [
      "  0%|\u001b[34m          \u001b[0m| 0/10 [00:00<?, ?it/s]\n",
      " 10%|\u001b[34m█         \u001b[0m| 1/10 [00:04<00:41,  4.60s/it]\u001b[32m [repeated 2x across cluster]\u001b[0m\n"
     ]
    },
    {
     "name": "stdout",
     "output_type": "stream",
     "text": [
      "\u001b[36m(launch_and_fit pid=6476)\u001b[0m \tTrain Epoch: 2 \tTrain_loss_mri: 0.3593 | Train_acc_mri: 87.0718 | Train_loss_dna: 1.3234 | Train_acc_dna: 50.5556 | Validation_loss_mri: 0.3658 | Validation_acc_mri: 90.6250 | Validation_loss_dna: 1.7981 | Validation_acc_dna: 44.2708\u001b[32m [repeated 3x across cluster]\u001b[0m\n"
     ]
    },
    {
     "name": "stderr",
     "output_type": "stream",
     "text": [
      " 30%|\u001b[34m███       \u001b[0m| 3/10 [00:12<00:27,  3.92s/it]\u001b[32m [repeated 3x across cluster]\u001b[0m\n"
     ]
    },
    {
     "name": "stdout",
     "output_type": "stream",
     "text": [
      "\u001b[36m(launch_and_fit pid=6451)\u001b[0m \tTrain Epoch: 4 \tTrain_loss_mri: 0.0952 | Train_acc_mri: 97.7923 | Train_loss_dna: 1.0683 | Train_acc_dna: 61.7742 | Validation_loss_mri: 0.4499 | Validation_acc_mri: 89.0625 | Validation_loss_dna: 2.0398 | Validation_acc_dna: 33.8542\u001b[32m [repeated 3x across cluster]\u001b[0m\n"
     ]
    },
    {
     "name": "stderr",
     "output_type": "stream",
     "text": [
      " 40%|\u001b[34m████      \u001b[0m| 4/10 [00:16<00:23,  3.93s/it]\u001b[32m [repeated 3x across cluster]\u001b[0m\n"
     ]
    },
    {
     "name": "stdout",
     "output_type": "stream",
     "text": [
      "\u001b[36m(launch_and_fit pid=6476)\u001b[0m \tTrain Epoch: 5 \tTrain_loss_mri: 0.0321 | Train_acc_mri: 100.0000 | Train_loss_dna: 0.8765 | Train_acc_dna: 72.2106 | Validation_loss_mri: 0.4148 | Validation_acc_mri: 89.0625 | Validation_loss_dna: 2.0207 | Validation_acc_dna: 47.3958\u001b[32m [repeated 3x across cluster]\u001b[0m\n"
     ]
    },
    {
     "name": "stderr",
     "output_type": "stream",
     "text": [
      " 60%|\u001b[34m██████    \u001b[0m| 6/10 [00:23<00:15,  3.80s/it]\u001b[32m [repeated 3x across cluster]\u001b[0m\n"
     ]
    },
    {
     "name": "stdout",
     "output_type": "stream",
     "text": [
      "\u001b[36m(launch_and_fit pid=6451)\u001b[0m \tTrain Epoch: 7 \tTrain_loss_mri: 0.0572 | Train_acc_mri: 98.4274 | Train_loss_dna: 0.8204 | Train_acc_dna: 75.6048 | Validation_loss_mri: 0.6057 | Validation_acc_mri: 85.9375 | Validation_loss_dna: 2.2414 | Validation_acc_dna: 48.9583\u001b[32m [repeated 3x across cluster]\u001b[0m\n"
     ]
    },
    {
     "name": "stderr",
     "output_type": "stream",
     "text": [
      " 70%|\u001b[34m███████   \u001b[0m| 7/10 [00:27<00:11,  3.82s/it]\u001b[32m [repeated 3x across cluster]\u001b[0m\n"
     ]
    },
    {
     "name": "stdout",
     "output_type": "stream",
     "text": [
      "\u001b[36m(launch_and_fit pid=6476)\u001b[0m \tTrain Epoch: 8 \tTrain_loss_mri: 0.0236 | Train_acc_mri: 99.6875 | Train_loss_dna: 0.6960 | Train_acc_dna: 78.9120 | Validation_loss_mri: 0.5535 | Validation_acc_mri: 70.8333 | Validation_loss_dna: 2.2061 | Validation_acc_dna: 29.1667\u001b[32m [repeated 3x across cluster]\u001b[0m\n"
     ]
    },
    {
     "name": "stderr",
     "output_type": "stream",
     "text": [
      " 90%|\u001b[34m█████████ \u001b[0m| 9/10 [00:34<00:03,  3.84s/it]\u001b[32m [repeated 3x across cluster]\u001b[0m\n"
     ]
    },
    {
     "name": "stdout",
     "output_type": "stream",
     "text": [
      "\u001b[36m(launch_and_fit pid=6451)\u001b[0m save graph in  results/FL/\n",
      "\u001b[36m(launch_and_fit pid=6451)\u001b[0m \tTrain Epoch: 10 \tTrain_loss_mri: 0.0480 | Train_acc_mri: 98.7500 | Train_loss_dna: 0.6968 | Train_acc_dna: 75.8569 | Validation_loss_mri: 0.5891 | Validation_acc_mri: 85.9375 | Validation_loss_dna: 2.5037 | Validation_acc_dna: 47.3958\u001b[32m [repeated 3x across cluster]\u001b[0m\n",
      "\u001b[36m(launch_and_fit pid=6451)\u001b[0m mri_net.features.0.weight 5.9604644775390625e-06\n",
      "\u001b[36m(launch_and_fit pid=6451)\u001b[0m mri_net.features.0.bias 2.384185791015625e-06\n",
      "\u001b[36m(launch_and_fit pid=6451)\u001b[0m mri_net.features.3.weight 9.5367431640625e-07\n",
      "\u001b[36m(launch_and_fit pid=6451)\u001b[0m mri_net.features.3.bias 1.1920928955078125e-06\n",
      "\u001b[36m(launch_and_fit pid=6451)\u001b[0m mri_net.classifier.0.weight 1.430511474609375e-06\n",
      "\u001b[36m(launch_and_fit pid=6451)\u001b[0m mri_net.classifier.0.bias 9.5367431640625e-07\n",
      "\u001b[36m(launch_and_fit pid=6451)\u001b[0m mri_net.classifier.2.weight 1.1920928955078125e-06\n",
      "\u001b[36m(launch_and_fit pid=6451)\u001b[0m mri_net.classifier.2.bias 1.1920928955078125e-06\n",
      "\u001b[36m(launch_and_fit pid=6451)\u001b[0m mri_net.classifier.3.weights 1.430511474609375e-06\n",
      "\u001b[36m(launch_and_fit pid=6451)\u001b[0m dna_net.fc1.weight 9.5367431640625e-07\n",
      "\u001b[36m(launch_and_fit pid=6451)\u001b[0m dna_net.fc1.bias 1.1920928955078125e-06\n",
      "\u001b[36m(launch_and_fit pid=6451)\u001b[0m dna_net.fc2.weight 1.1920928955078125e-06\n",
      "\u001b[36m(launch_and_fit pid=6451)\u001b[0m dna_net.fc2.bias 9.5367431640625e-07\n",
      "\u001b[36m(launch_and_fit pid=6451)\u001b[0m dna_net.fc3.weight 9.5367431640625e-07\n",
      "\u001b[36m(launch_and_fit pid=6451)\u001b[0m dna_net.fc3.bias 9.5367431640625e-07\n",
      "\u001b[36m(launch_and_fit pid=6451)\u001b[0m dna_net.fc4.weight 1.1920928955078125e-06\n",
      "\u001b[36m(launch_and_fit pid=6451)\u001b[0m dna_net.fc4.bias 9.5367431640625e-07\n",
      "\u001b[36m(launch_and_fit pid=6451)\u001b[0m dna_net.qnn.weights 1.1920928955078125e-06\n",
      "\u001b[36m(launch_and_fit pid=6451)\u001b[0m attention.in_proj_weight 1.1920928955078125e-06\n",
      "\u001b[36m(launch_and_fit pid=6451)\u001b[0m attention.in_proj_bias 1.1920928955078125e-06\n",
      "\u001b[36m(launch_and_fit pid=6451)\u001b[0m attention.out_proj.weight 1.1920928955078125e-06\n",
      "\u001b[36m(launch_and_fit pid=6451)\u001b[0m attention.out_proj.bias 9.5367431640625e-07\n",
      "\u001b[36m(launch_and_fit pid=6451)\u001b[0m fc1.weight 1.430511474609375e-06\n",
      "\u001b[36m(launch_and_fit pid=6451)\u001b[0m fc1.bias 1.1920928955078125e-06\n",
      "\u001b[36m(launch_and_fit pid=6451)\u001b[0m fc2_mri.weight 1.430511474609375e-06\n",
      "\u001b[36m(launch_and_fit pid=6451)\u001b[0m fc2_mri.bias 9.5367431640625e-07\n",
      "\u001b[36m(launch_and_fit pid=6451)\u001b[0m fc2_dna.weight 9.5367431640625e-07\n",
      "\u001b[36m(launch_and_fit pid=6451)\u001b[0m fc2_dna.bias 9.5367431640625e-07\n"
     ]
    },
    {
     "name": "stderr",
     "output_type": "stream",
     "text": [
      "100%|\u001b[34m██████████\u001b[0m| 10/10 [00:39<00:00,  3.91s/it]\u001b[32m [repeated 3x across cluster]\u001b[0m\n"
     ]
    },
    {
     "name": "stdout",
     "output_type": "stream",
     "text": [
      "\u001b[36m(launch_and_fit pid=6533)\u001b[0m Run with homomorphic encryption\n",
      "\u001b[36m(launch_and_fit pid=6476)\u001b[0m save graph in  results/FL/\n",
      "\u001b[36m(launch_and_fit pid=6476)\u001b[0m \tTrain Epoch: 10 \tTrain_loss_mri: 0.0253 | Train_acc_mri: 100.0000 | Train_loss_dna: 0.6392 | Train_acc_dna: 76.0417 | Validation_loss_mri: 0.4689 | Validation_acc_mri: 73.9583 | Validation_loss_dna: 2.4698 | Validation_acc_dna: 29.1667\n",
      "\u001b[36m(launch_and_fit pid=6476)\u001b[0m fc2_dna.bias 1.1920928955078125e-06\u001b[32m [repeated 23x across cluster]\u001b[0m\n",
      "\u001b[36m(launch_and_fit pid=6476)\u001b[0m dna_net.qnn.weights 9.5367431640625e-07\n",
      "\u001b[36m(launch_and_fit pid=6476)\u001b[0m attention.in_proj_weight 7.152557373046875e-07\n",
      "\u001b[36m(launch_and_fit pid=6476)\u001b[0m attention.in_proj_bias 9.5367431640625e-07\n",
      "\u001b[36m(launch_and_fit pid=6476)\u001b[0m attention.out_proj.weight 1.430511474609375e-06\n",
      "\u001b[36m(launch_and_fit pid=6476)\u001b[0m attention.out_proj.bias 9.5367431640625e-07\n",
      "\u001b[36m(launch_and_fit pid=6533)\u001b[0m [Client 4, round 8] fit, config: {'learning_rate': 0.003, 'batch_size': '32', 'server_round': 8, 'local_epochs': 10}\n"
     ]
    },
    {
     "name": "stderr",
     "output_type": "stream",
     "text": [
      "  0%|\u001b[34m          \u001b[0m| 0/10 [00:00<?, ?it/s]\n"
     ]
    },
    {
     "name": "stdout",
     "output_type": "stream",
     "text": [
      "\u001b[36m(launch_and_fit pid=6533)\u001b[0m Updated model\n"
     ]
    },
    {
     "name": "stderr",
     "output_type": "stream",
     "text": [
      " 10%|\u001b[34m█         \u001b[0m| 1/10 [00:04<00:38,  4.25s/it]\n"
     ]
    },
    {
     "name": "stdout",
     "output_type": "stream",
     "text": [
      "\u001b[36m(launch_and_fit pid=6533)\u001b[0m \tTrain Epoch: 1 \tTrain_loss_mri: 0.4267 | Train_acc_mri: 85.7639 | Train_loss_dna: 1.9746 | Train_acc_dna: 35.0694 | Validation_loss_mri: 0.5831 | Validation_acc_mri: 82.8125 | Validation_loss_dna: 2.1483 | Validation_acc_dna: 40.1042\n",
      "\u001b[36m(launch_and_fit pid=6558)\u001b[0m Run with homomorphic encryption\n",
      "\u001b[36m(launch_and_fit pid=6558)\u001b[0m [Client 8, round 8] fit, config: {'learning_rate': 0.003, 'batch_size': '32', 'server_round': 8, 'local_epochs': 10}\n"
     ]
    },
    {
     "name": "stderr",
     "output_type": "stream",
     "text": [
      "  0%|\u001b[34m          \u001b[0m| 0/10 [00:00<?, ?it/s]\n"
     ]
    },
    {
     "name": "stdout",
     "output_type": "stream",
     "text": [
      "\u001b[36m(launch_and_fit pid=6558)\u001b[0m Updated model\n"
     ]
    },
    {
     "name": "stderr",
     "output_type": "stream",
     "text": [
      " 30%|\u001b[34m███       \u001b[0m| 3/10 [00:11<00:26,  3.85s/it]\u001b[32m [repeated 4x across cluster]\u001b[0m\n"
     ]
    },
    {
     "name": "stdout",
     "output_type": "stream",
     "text": [
      "\u001b[36m(launch_and_fit pid=6533)\u001b[0m \tTrain Epoch: 3 \tTrain_loss_mri: 0.1353 | Train_acc_mri: 94.6296 | Train_loss_dna: 1.2617 | Train_acc_dna: 51.8634 | Validation_loss_mri: 1.9888 | Validation_acc_mri: 67.7083 | Validation_loss_dna: 1.9017 | Validation_acc_dna: 20.3125\u001b[32m [repeated 4x across cluster]\u001b[0m\n"
     ]
    },
    {
     "name": "stderr",
     "output_type": "stream",
     "text": [
      " 40%|\u001b[34m████      \u001b[0m| 4/10 [00:15<00:23,  3.90s/it]\u001b[32m [repeated 3x across cluster]\u001b[0m\n"
     ]
    },
    {
     "name": "stdout",
     "output_type": "stream",
     "text": [
      "\u001b[36m(launch_and_fit pid=6558)\u001b[0m \tTrain Epoch: 4 \tTrain_loss_mri: 0.0915 | Train_acc_mri: 96.4468 | Train_loss_dna: 0.9883 | Train_acc_dna: 65.1620 | Validation_loss_mri: 0.5271 | Validation_acc_mri: 89.0625 | Validation_loss_dna: 1.8335 | Validation_acc_dna: 29.1667\u001b[32m [repeated 3x across cluster]\u001b[0m\n"
     ]
    },
    {
     "name": "stderr",
     "output_type": "stream",
     "text": [
      " 60%|\u001b[34m██████    \u001b[0m| 6/10 [00:23<00:15,  3.84s/it]\u001b[32m [repeated 3x across cluster]\u001b[0m\n"
     ]
    },
    {
     "name": "stdout",
     "output_type": "stream",
     "text": [
      "\u001b[36m(launch_and_fit pid=6533)\u001b[0m \tTrain Epoch: 6 \tTrain_loss_mri: 0.0459 | Train_acc_mri: 99.3750 | Train_loss_dna: 0.8238 | Train_acc_dna: 71.6667 | Validation_loss_mri: 1.9448 | Validation_acc_mri: 69.2708 | Validation_loss_dna: 2.0848 | Validation_acc_dna: 32.2917\u001b[32m [repeated 3x across cluster]\u001b[0m\n"
     ]
    },
    {
     "name": "stderr",
     "output_type": "stream",
     "text": [
      " 80%|\u001b[34m████████  \u001b[0m| 8/10 [00:30<00:07,  3.75s/it]\u001b[32m [repeated 4x across cluster]\u001b[0m\n"
     ]
    },
    {
     "name": "stdout",
     "output_type": "stream",
     "text": [
      "\u001b[36m(launch_and_fit pid=6533)\u001b[0m \tTrain Epoch: 8 \tTrain_loss_mri: 0.0276 | Train_acc_mri: 99.6875 | Train_loss_dna: 0.6841 | Train_acc_dna: 79.6528 | Validation_loss_mri: 2.2737 | Validation_acc_mri: 66.1458 | Validation_loss_dna: 2.3664 | Validation_acc_dna: 32.2917\u001b[32m [repeated 4x across cluster]\u001b[0m\n"
     ]
    },
    {
     "name": "stderr",
     "output_type": "stream",
     "text": [
      "100%|\u001b[34m██████████\u001b[0m| 10/10 [00:37<00:00,  3.80s/it]\u001b[32m [repeated 4x across cluster]\u001b[0m\n"
     ]
    },
    {
     "name": "stdout",
     "output_type": "stream",
     "text": [
      "\u001b[36m(launch_and_fit pid=6533)\u001b[0m save graph in  results/FL/\n",
      "\u001b[36m(launch_and_fit pid=6533)\u001b[0m \tTrain Epoch: 10 \tTrain_loss_mri: 0.0283 | Train_acc_mri: 99.3171 | Train_loss_dna: 0.6071 | Train_acc_dna: 80.3588 | Validation_loss_mri: 2.8712 | Validation_acc_mri: 66.1458 | Validation_loss_dna: 2.2877 | Validation_acc_dna: 33.8542\u001b[32m [repeated 4x across cluster]\u001b[0m\n",
      "\u001b[36m(launch_and_fit pid=6533)\u001b[0m mri_net.features.0.weight 5.0067901611328125e-06\n",
      "\u001b[36m(launch_and_fit pid=6533)\u001b[0m mri_net.features.0.bias 1.430511474609375e-06\n",
      "\u001b[36m(launch_and_fit pid=6533)\u001b[0m mri_net.features.3.weight 1.1920928955078125e-06\n",
      "\u001b[36m(launch_and_fit pid=6533)\u001b[0m mri_net.features.3.bias 9.5367431640625e-07\n",
      "\u001b[36m(launch_and_fit pid=6533)\u001b[0m mri_net.classifier.0.weight 9.5367431640625e-07\n",
      "\u001b[36m(launch_and_fit pid=6533)\u001b[0m mri_net.classifier.0.bias 9.5367431640625e-07\n",
      "\u001b[36m(launch_and_fit pid=6533)\u001b[0m mri_net.classifier.2.weight 1.1920928955078125e-06\n",
      "\u001b[36m(launch_and_fit pid=6533)\u001b[0m mri_net.classifier.2.bias 9.5367431640625e-07\n",
      "\u001b[36m(launch_and_fit pid=6533)\u001b[0m mri_net.classifier.3.weights 1.430511474609375e-06\n",
      "\u001b[36m(launch_and_fit pid=6533)\u001b[0m dna_net.fc1.weight 7.152557373046875e-07\n",
      "\u001b[36m(launch_and_fit pid=6533)\u001b[0m dna_net.fc1.bias 9.5367431640625e-07\n",
      "\u001b[36m(launch_and_fit pid=6533)\u001b[0m dna_net.fc2.weight 1.1920928955078125e-06\n",
      "\u001b[36m(launch_and_fit pid=6533)\u001b[0m dna_net.fc2.bias 9.5367431640625e-07\n",
      "\u001b[36m(launch_and_fit pid=6533)\u001b[0m dna_net.fc3.weight 9.5367431640625e-07\n",
      "\u001b[36m(launch_and_fit pid=6533)\u001b[0m dna_net.fc3.bias 1.1920928955078125e-06\n",
      "\u001b[36m(launch_and_fit pid=6533)\u001b[0m dna_net.fc4.weight 9.5367431640625e-07\n",
      "\u001b[36m(launch_and_fit pid=6533)\u001b[0m dna_net.fc4.bias 9.5367431640625e-07\n",
      "\u001b[36m(launch_and_fit pid=6533)\u001b[0m dna_net.qnn.weights 7.152557373046875e-07\n",
      "\u001b[36m(launch_and_fit pid=6533)\u001b[0m attention.in_proj_weight 9.5367431640625e-07\n",
      "\u001b[36m(launch_and_fit pid=6533)\u001b[0m attention.in_proj_bias 9.5367431640625e-07\n",
      "\u001b[36m(launch_and_fit pid=6533)\u001b[0m attention.out_proj.weight 1.1920928955078125e-06\n",
      "\u001b[36m(launch_and_fit pid=6533)\u001b[0m attention.out_proj.bias 9.5367431640625e-07\n",
      "\u001b[36m(launch_and_fit pid=6533)\u001b[0m fc1.weight 9.5367431640625e-07\n",
      "\u001b[36m(launch_and_fit pid=6533)\u001b[0m fc1.bias 9.5367431640625e-07\n",
      "\u001b[36m(launch_and_fit pid=6533)\u001b[0m fc2_mri.weight 1.1920928955078125e-06\n",
      "\u001b[36m(launch_and_fit pid=6533)\u001b[0m fc2_mri.bias 9.5367431640625e-07\n",
      "\u001b[36m(launch_and_fit pid=6533)\u001b[0m fc2_dna.weight 9.5367431640625e-07\n",
      "\u001b[36m(launch_and_fit pid=6533)\u001b[0m fc2_dna.bias 9.5367431640625e-07\n"
     ]
    },
    {
     "name": "stderr",
     "output_type": "stream",
     "text": [
      "DEBUG flwr 2024-08-05 07:52:54,868 | server.py:236 | fit_round 8 received 10 results and 0 failures\n"
     ]
    },
    {
     "name": "stdout",
     "output_type": "stream",
     "text": [
      "Saving round 8 aggregated_parameters...\n"
     ]
    },
    {
     "name": "stderr",
     "output_type": "stream",
     "text": [
      "DEBUG flwr 2024-08-05 07:52:56,852 | server.py:173 | evaluate_round 8: strategy sampled 10 clients (out of 10)\n"
     ]
    },
    {
     "name": "stdout",
     "output_type": "stream",
     "text": [
      "\u001b[36m(launch_and_evaluate pid=6624)\u001b[0m Run with homomorphic encryption\n",
      "\u001b[36m(launch_and_fit pid=6558)\u001b[0m save graph in  results/FL/\n",
      "\u001b[36m(launch_and_fit pid=6558)\u001b[0m \tTrain Epoch: 10 \tTrain_loss_mri: 0.0373 | Train_acc_mri: 99.0625 | Train_loss_dna: 0.5646 | Train_acc_dna: 82.9514 | Validation_loss_mri: 0.5787 | Validation_acc_mri: 89.0625 | Validation_loss_dna: 2.2516 | Validation_acc_dna: 27.6042\n",
      "\u001b[36m(launch_and_fit pid=6558)\u001b[0m fc2_dna.bias 9.5367431640625e-07\u001b[32m [repeated 23x across cluster]\u001b[0m\n",
      "\u001b[36m(launch_and_fit pid=6558)\u001b[0m dna_net.qnn.weights 1.1920928955078125e-06\n",
      "\u001b[36m(launch_and_fit pid=6558)\u001b[0m attention.in_proj_weight 9.5367431640625e-07\n",
      "\u001b[36m(launch_and_fit pid=6558)\u001b[0m attention.in_proj_bias 9.5367431640625e-07\n",
      "\u001b[36m(launch_and_fit pid=6558)\u001b[0m attention.out_proj.weight 9.5367431640625e-07\n",
      "\u001b[36m(launch_and_fit pid=6558)\u001b[0m attention.out_proj.bias 1.1920928955078125e-06\n",
      "\u001b[36m(launch_and_evaluate pid=6624)\u001b[0m [Client 2] evaluate, config: {}\n",
      "\u001b[36m(launch_and_evaluate pid=6624)\u001b[0m Updated model\n",
      "\u001b[36m(launch_and_evaluate pid=6703)\u001b[0m Run with homomorphic encryption\u001b[32m [repeated 2x across cluster]\u001b[0m\n",
      "\u001b[36m(launch_and_evaluate pid=6625)\u001b[0m [Client 0] evaluate, config: {}\n",
      "\u001b[36m(launch_and_evaluate pid=6625)\u001b[0m Updated model\n",
      "\u001b[36m(launch_and_evaluate pid=6703)\u001b[0m [Client 1] evaluate, config: {}\n",
      "\u001b[36m(launch_and_evaluate pid=6703)\u001b[0m Updated model\n"
     ]
    },
    {
     "name": "stderr",
     "output_type": "stream",
     "text": [
      "\u001b[36m(launch_and_evaluate pid=6705)\u001b[0m /opt/conda/lib/python3.10/site-packages/sklearn/metrics/_ranking.py:1029: UndefinedMetricWarning: No positive samples in y_true, true positive value should be meaningless\n",
      "\u001b[36m(launch_and_evaluate pid=6705)\u001b[0m   warnings.warn(\n",
      "100%|\u001b[34m██████████\u001b[0m| 10/10 [00:38<00:00,  3.81s/it]\n"
     ]
    },
    {
     "name": "stdout",
     "output_type": "stream",
     "text": [
      "\u001b[36m(launch_and_evaluate pid=6783)\u001b[0m Run with homomorphic encryption\u001b[32m [repeated 2x across cluster]\u001b[0m\n",
      "\u001b[36m(launch_and_evaluate pid=6705)\u001b[0m [Client 9] evaluate, config: {}\n",
      "\u001b[36m(launch_and_evaluate pid=6705)\u001b[0m Updated model\n",
      "\u001b[36m(launch_and_evaluate pid=6783)\u001b[0m [Client 7] evaluate, config: {}\n",
      "\u001b[36m(launch_and_evaluate pid=6783)\u001b[0m Updated model\n"
     ]
    },
    {
     "name": "stderr",
     "output_type": "stream",
     "text": [
      "\u001b[36m(launch_and_evaluate pid=6781)\u001b[0m /opt/conda/lib/python3.10/site-packages/sklearn/metrics/_ranking.py:1029: UndefinedMetricWarning: No positive samples in y_true, true positive value should be meaningless\n",
      "\u001b[36m(launch_and_evaluate pid=6781)\u001b[0m   warnings.warn(\n"
     ]
    },
    {
     "name": "stdout",
     "output_type": "stream",
     "text": [
      "\u001b[36m(launch_and_evaluate pid=6859)\u001b[0m Run with homomorphic encryption\u001b[32m [repeated 2x across cluster]\u001b[0m\n",
      "\u001b[36m(launch_and_evaluate pid=6781)\u001b[0m [Client 4] evaluate, config: {}\n",
      "\u001b[36m(launch_and_evaluate pid=6781)\u001b[0m Updated model\n",
      "\u001b[36m(launch_and_evaluate pid=6859)\u001b[0m [Client 8] evaluate, config: {}\n",
      "\u001b[36m(launch_and_evaluate pid=6859)\u001b[0m Updated model\n"
     ]
    },
    {
     "name": "stderr",
     "output_type": "stream",
     "text": [
      "\u001b[36m(launch_and_evaluate pid=6859)\u001b[0m /opt/conda/lib/python3.10/site-packages/sklearn/metrics/_ranking.py:1029: UndefinedMetricWarning: No positive samples in y_true, true positive value should be meaningless\n",
      "\u001b[36m(launch_and_evaluate pid=6859)\u001b[0m   warnings.warn(\n"
     ]
    },
    {
     "name": "stdout",
     "output_type": "stream",
     "text": [
      "\u001b[36m(launch_and_evaluate pid=6939)\u001b[0m Run with homomorphic encryption\u001b[32m [repeated 2x across cluster]\u001b[0m\n",
      "\u001b[36m(launch_and_evaluate pid=6861)\u001b[0m [Client 5] evaluate, config: {}\n",
      "\u001b[36m(launch_and_evaluate pid=6861)\u001b[0m Updated model\n",
      "\u001b[36m(launch_and_evaluate pid=6937)\u001b[0m [Client 6] evaluate, config: {}\n",
      "\u001b[36m(launch_and_evaluate pid=6937)\u001b[0m Updated model\n"
     ]
    },
    {
     "name": "stderr",
     "output_type": "stream",
     "text": [
      "DEBUG flwr 2024-08-05 07:54:15,247 | server.py:187 | evaluate_round 8 received 10 results and 0 failures\n",
      "DEBUG flwr 2024-08-05 07:54:15,248 | server.py:222 | fit_round 9: strategy sampled 10 clients (out of 10)\n"
     ]
    },
    {
     "name": "stdout",
     "output_type": "stream",
     "text": [
      "\u001b[36m(launch_and_fit pid=7025)\u001b[0m Run with homomorphic encryption\u001b[32m [repeated 2x across cluster]\u001b[0m\n",
      "\u001b[36m(launch_and_evaluate pid=6939)\u001b[0m [Client 3] evaluate, config: {}\n",
      "\u001b[36m(launch_and_evaluate pid=6939)\u001b[0m Updated model\n",
      "\u001b[36m(launch_and_fit pid=7025)\u001b[0m [Client 4, round 9] fit, config: {'learning_rate': 0.003, 'batch_size': '32', 'server_round': 9, 'local_epochs': 10}\n",
      "\u001b[36m(launch_and_fit pid=7024)\u001b[0m Updated model\n"
     ]
    },
    {
     "name": "stderr",
     "output_type": "stream",
     "text": [
      "  0%|\u001b[34m          \u001b[0m| 0/10 [00:00<?, ?it/s]\n"
     ]
    },
    {
     "name": "stdout",
     "output_type": "stream",
     "text": [
      "\u001b[36m(launch_and_fit pid=7024)\u001b[0m \tTrain Epoch: 1 \tTrain_loss_mri: 0.4937 | Train_acc_mri: 87.4653 | Train_loss_dna: 1.8989 | Train_acc_dna: 32.4537 | Validation_loss_mri: 0.5527 | Validation_acc_mri: 92.1875 | Validation_loss_dna: 1.6415 | Validation_acc_dna: 67.1875\n",
      "\u001b[36m(launch_and_fit pid=7024)\u001b[0m Run with homomorphic encryption\n",
      "\u001b[36m(launch_and_fit pid=7024)\u001b[0m [Client 7, round 9] fit, config: {'learning_rate': 0.003, 'batch_size': '32', 'server_round': 9, 'local_epochs': 10}\n"
     ]
    },
    {
     "name": "stderr",
     "output_type": "stream",
     "text": [
      " 10%|\u001b[34m█         \u001b[0m| 1/10 [00:04<00:38,  4.27s/it]\n"
     ]
    },
    {
     "name": "stdout",
     "output_type": "stream",
     "text": [
      "\u001b[36m(launch_and_fit pid=7025)\u001b[0m Updated model\n"
     ]
    },
    {
     "name": "stderr",
     "output_type": "stream",
     "text": [
      "  0%|\u001b[34m          \u001b[0m| 0/10 [00:00<?, ?it/s]\n"
     ]
    },
    {
     "name": "stdout",
     "output_type": "stream",
     "text": [
      "\u001b[36m(launch_and_fit pid=7025)\u001b[0m \tTrain Epoch: 3 \tTrain_loss_mri: 0.1857 | Train_acc_mri: 93.8889 | Train_loss_dna: 1.0813 | Train_acc_dna: 54.8727 | Validation_loss_mri: 1.2012 | Validation_acc_mri: 64.5833 | Validation_loss_dna: 1.9507 | Validation_acc_dna: 25.0000\u001b[32m [repeated 4x across cluster]\u001b[0m\n"
     ]
    },
    {
     "name": "stderr",
     "output_type": "stream",
     "text": [
      " 30%|\u001b[34m███       \u001b[0m| 3/10 [00:12<00:27,  3.95s/it]\u001b[32m [repeated 4x across cluster]\u001b[0m\n"
     ]
    },
    {
     "name": "stdout",
     "output_type": "stream",
     "text": [
      "\u001b[36m(launch_and_fit pid=7025)\u001b[0m \tTrain Epoch: 5 \tTrain_loss_mri: 0.0766 | Train_acc_mri: 97.1875 | Train_loss_dna: 0.8025 | Train_acc_dna: 67.7199 | Validation_loss_mri: 1.8936 | Validation_acc_mri: 69.2708 | Validation_loss_dna: 2.0466 | Validation_acc_dna: 20.3125\u001b[32m [repeated 4x across cluster]\u001b[0m\n"
     ]
    },
    {
     "name": "stderr",
     "output_type": "stream",
     "text": [
      " 50%|\u001b[34m█████     \u001b[0m| 5/10 [00:19<00:19,  3.88s/it]\u001b[32m [repeated 4x across cluster]\u001b[0m\n"
     ]
    },
    {
     "name": "stdout",
     "output_type": "stream",
     "text": [
      "\u001b[36m(launch_and_fit pid=7025)\u001b[0m \tTrain Epoch: 7 \tTrain_loss_mri: 0.0319 | Train_acc_mri: 99.6875 | Train_loss_dna: 0.6594 | Train_acc_dna: 79.0278 | Validation_loss_mri: 2.0847 | Validation_acc_mri: 69.2708 | Validation_loss_dna: 1.7432 | Validation_acc_dna: 38.5417\u001b[32m [repeated 4x across cluster]\u001b[0m\n"
     ]
    },
    {
     "name": "stderr",
     "output_type": "stream",
     "text": [
      " 70%|\u001b[34m███████   \u001b[0m| 7/10 [00:27<00:11,  3.78s/it]\u001b[32m [repeated 4x across cluster]\u001b[0m\n"
     ]
    },
    {
     "name": "stdout",
     "output_type": "stream",
     "text": [
      "\u001b[36m(launch_and_fit pid=7025)\u001b[0m \tTrain Epoch: 9 \tTrain_loss_mri: 0.0162 | Train_acc_mri: 100.0000 | Train_loss_dna: 0.5314 | Train_acc_dna: 83.0093 | Validation_loss_mri: 2.3128 | Validation_acc_mri: 69.2708 | Validation_loss_dna: 2.4110 | Validation_acc_dna: 35.4167\u001b[32m [repeated 4x across cluster]\u001b[0m\n"
     ]
    },
    {
     "name": "stderr",
     "output_type": "stream",
     "text": [
      " 90%|\u001b[34m█████████ \u001b[0m| 9/10 [00:34<00:03,  3.77s/it]\u001b[32m [repeated 4x across cluster]\u001b[0m\n"
     ]
    },
    {
     "name": "stdout",
     "output_type": "stream",
     "text": [
      "\u001b[36m(launch_and_fit pid=7025)\u001b[0m save graph in  results/FL/\n",
      "\u001b[36m(launch_and_fit pid=7025)\u001b[0m mri_net.features.0.weight 5.4836273193359375e-06\n",
      "\u001b[36m(launch_and_fit pid=7025)\u001b[0m mri_net.features.0.bias 1.6689300537109375e-06\n",
      "\u001b[36m(launch_and_fit pid=7025)\u001b[0m mri_net.features.3.weight 1.1920928955078125e-06\n",
      "\u001b[36m(launch_and_fit pid=7025)\u001b[0m mri_net.features.3.bias 7.152557373046875e-07\n",
      "\u001b[36m(launch_and_fit pid=7025)\u001b[0m mri_net.classifier.0.weight 9.5367431640625e-07\n",
      "\u001b[36m(launch_and_fit pid=7025)\u001b[0m mri_net.classifier.0.bias 8.821487426757812e-06\n",
      "\u001b[36m(launch_and_fit pid=7025)\u001b[0m mri_net.classifier.2.weight 9.5367431640625e-07\n",
      "\u001b[36m(launch_and_fit pid=7025)\u001b[0m mri_net.classifier.2.bias 7.152557373046875e-07\n",
      "\u001b[36m(launch_and_fit pid=7025)\u001b[0m mri_net.classifier.3.weights 1.1920928955078125e-06\n",
      "\u001b[36m(launch_and_fit pid=7025)\u001b[0m dna_net.fc1.weight 9.5367431640625e-07\n",
      "\u001b[36m(launch_and_fit pid=7025)\u001b[0m dna_net.fc1.bias 2.86102294921875e-06\n",
      "\u001b[36m(launch_and_fit pid=7025)\u001b[0m dna_net.fc2.weight 1.430511474609375e-06\n",
      "\u001b[36m(launch_and_fit pid=7025)\u001b[0m dna_net.fc2.bias 2.1457672119140625e-06\n",
      "\u001b[36m(launch_and_fit pid=7025)\u001b[0m dna_net.fc3.weight 1.6689300537109375e-06\n",
      "\u001b[36m(launch_and_fit pid=7025)\u001b[0m dna_net.fc3.bias 1.1920928955078125e-06\n",
      "\u001b[36m(launch_and_fit pid=7025)\u001b[0m dna_net.fc4.weight 9.5367431640625e-07\n",
      "\u001b[36m(launch_and_fit pid=7025)\u001b[0m dna_net.fc4.bias 9.5367431640625e-07\n",
      "\u001b[36m(launch_and_fit pid=7025)\u001b[0m dna_net.qnn.weights 9.5367431640625e-07\n",
      "\u001b[36m(launch_and_fit pid=7025)\u001b[0m attention.in_proj_weight 1.1920928955078125e-06\n",
      "\u001b[36m(launch_and_fit pid=7025)\u001b[0m attention.in_proj_bias 9.5367431640625e-07\n",
      "\u001b[36m(launch_and_fit pid=7025)\u001b[0m attention.out_proj.weight 9.5367431640625e-07\n",
      "\u001b[36m(launch_and_fit pid=7025)\u001b[0m attention.out_proj.bias 1.430511474609375e-06\n",
      "\u001b[36m(launch_and_fit pid=7025)\u001b[0m fc1.weight 1.1920928955078125e-06\n",
      "\u001b[36m(launch_and_fit pid=7025)\u001b[0m fc1.bias 7.152557373046875e-07\n",
      "\u001b[36m(launch_and_fit pid=7025)\u001b[0m fc2_mri.weight 1.1920928955078125e-06\n",
      "\u001b[36m(launch_and_fit pid=7025)\u001b[0m fc2_mri.bias 9.5367431640625e-07\n",
      "\u001b[36m(launch_and_fit pid=7025)\u001b[0m fc2_dna.weight 9.5367431640625e-07\n",
      "\u001b[36m(launch_and_fit pid=7025)\u001b[0m fc2_dna.bias 1.1920928955078125e-06\n",
      "\u001b[36m(launch_and_fit pid=7105)\u001b[0m Run with homomorphic encryption\n",
      "\u001b[36m(launch_and_fit pid=7024)\u001b[0m \tTrain Epoch: 10 \tTrain_loss_mri: 0.0223 | Train_acc_mri: 99.3750 | Train_loss_dna: 0.6118 | Train_acc_dna: 80.2778 | Validation_loss_mri: 0.7572 | Validation_acc_mri: 77.0833 | Validation_loss_dna: 2.5199 | Validation_acc_dna: 47.3958\u001b[32m [repeated 3x across cluster]\u001b[0m\n",
      "\u001b[36m(launch_and_fit pid=7024)\u001b[0m save graph in  results/FL/\n",
      "\u001b[36m(launch_and_fit pid=7024)\u001b[0m fc2_dna.bias 9.5367431640625e-07\u001b[32m [repeated 23x across cluster]\u001b[0m\n",
      "\u001b[36m(launch_and_fit pid=7024)\u001b[0m dna_net.qnn.weights 9.5367431640625e-07\n",
      "\u001b[36m(launch_and_fit pid=7024)\u001b[0m attention.in_proj_weight 9.5367431640625e-07\n",
      "\u001b[36m(launch_and_fit pid=7024)\u001b[0m attention.in_proj_bias 9.5367431640625e-07\n",
      "\u001b[36m(launch_and_fit pid=7024)\u001b[0m attention.out_proj.weight 9.5367431640625e-07\n",
      "\u001b[36m(launch_and_fit pid=7024)\u001b[0m attention.out_proj.bias 9.5367431640625e-07\n",
      "\u001b[36m(launch_and_fit pid=7105)\u001b[0m [Client 3, round 9] fit, config: {'learning_rate': 0.003, 'batch_size': '32', 'server_round': 9, 'local_epochs': 10}\n",
      "\u001b[36m(launch_and_fit pid=7105)\u001b[0m Updated model\n"
     ]
    },
    {
     "name": "stderr",
     "output_type": "stream",
     "text": [
      "  0%|\u001b[34m          \u001b[0m| 0/10 [00:00<?, ?it/s]\n",
      "100%|\u001b[34m██████████\u001b[0m| 10/10 [00:38<00:00,  3.88s/it]\u001b[32m [repeated 3x across cluster]\u001b[0m\n"
     ]
    },
    {
     "name": "stdout",
     "output_type": "stream",
     "text": [
      "\u001b[36m(launch_and_fit pid=7107)\u001b[0m Run with homomorphic encryption\n",
      "\u001b[36m(launch_and_fit pid=7105)\u001b[0m \tTrain Epoch: 1 \tTrain_loss_mri: 0.5434 | Train_acc_mri: 81.7014 | Train_loss_dna: 2.0852 | Train_acc_dna: 36.0301 | Validation_loss_mri: 0.4023 | Validation_acc_mri: 89.0625 | Validation_loss_dna: 3.1849 | Validation_acc_dna: 17.1875\n",
      "\u001b[36m(launch_and_fit pid=7107)\u001b[0m [Client 8, round 9] fit, config: {'learning_rate': 0.003, 'batch_size': '32', 'server_round': 9, 'local_epochs': 10}\n",
      "\u001b[36m(launch_and_fit pid=7107)\u001b[0m \tTrain Epoch: 1 \tTrain_loss_mri: 0.5418 | Train_acc_mri: 84.5718 | Train_loss_dna: 1.7853 | Train_acc_dna: 38.5301 | Validation_loss_mri: 0.9156 | Validation_acc_mri: 75.5208 | Validation_loss_dna: 1.9506 | Validation_acc_dna: 27.6042\n",
      "\u001b[36m(launch_and_fit pid=7107)\u001b[0m Updated model\n"
     ]
    },
    {
     "name": "stderr",
     "output_type": "stream",
     "text": [
      "  0%|\u001b[34m          \u001b[0m| 0/10 [00:00<?, ?it/s]\n",
      " 20%|\u001b[34m██        \u001b[0m| 2/10 [00:08<00:32,  4.05s/it]\u001b[32m [repeated 3x across cluster]\u001b[0m\n"
     ]
    },
    {
     "name": "stdout",
     "output_type": "stream",
     "text": [
      "\u001b[36m(launch_and_fit pid=7105)\u001b[0m \tTrain Epoch: 3 \tTrain_loss_mri: 0.1549 | Train_acc_mri: 94.6875 | Train_loss_dna: 1.1183 | Train_acc_dna: 50.7523 | Validation_loss_mri: 0.4256 | Validation_acc_mri: 89.0625 | Validation_loss_dna: 2.8388 | Validation_acc_dna: 26.0417\u001b[32m [repeated 3x across cluster]\u001b[0m\n"
     ]
    },
    {
     "name": "stderr",
     "output_type": "stream",
     "text": [
      " 40%|\u001b[34m████      \u001b[0m| 4/10 [00:15<00:23,  3.91s/it]\u001b[32m [repeated 4x across cluster]\u001b[0m\n"
     ]
    },
    {
     "name": "stdout",
     "output_type": "stream",
     "text": [
      "\u001b[36m(launch_and_fit pid=7107)\u001b[0m \tTrain Epoch: 5 \tTrain_loss_mri: 0.0834 | Train_acc_mri: 97.6968 | Train_loss_dna: 0.7185 | Train_acc_dna: 77.4074 | Validation_loss_mri: 0.4355 | Validation_acc_mri: 90.6250 | Validation_loss_dna: 2.1369 | Validation_acc_dna: 47.3958\u001b[32m [repeated 4x across cluster]\u001b[0m\n"
     ]
    },
    {
     "name": "stderr",
     "output_type": "stream",
     "text": [
      " 60%|\u001b[34m██████    \u001b[0m| 6/10 [00:23<00:15,  3.85s/it]\u001b[32m [repeated 4x across cluster]\u001b[0m\n"
     ]
    },
    {
     "name": "stdout",
     "output_type": "stream",
     "text": [
      "\u001b[36m(launch_and_fit pid=7105)\u001b[0m \tTrain Epoch: 7 \tTrain_loss_mri: 0.0220 | Train_acc_mri: 100.0000 | Train_loss_dna: 0.6907 | Train_acc_dna: 80.3935 | Validation_loss_mri: 0.5277 | Validation_acc_mri: 90.6250 | Validation_loss_dna: 3.4962 | Validation_acc_dna: 22.9167\u001b[32m [repeated 4x across cluster]\u001b[0m\n"
     ]
    },
    {
     "name": "stderr",
     "output_type": "stream",
     "text": [
      " 80%|\u001b[34m████████  \u001b[0m| 8/10 [00:31<00:07,  3.82s/it]\u001b[32m [repeated 4x across cluster]\u001b[0m\n"
     ]
    },
    {
     "name": "stdout",
     "output_type": "stream",
     "text": [
      "\u001b[36m(launch_and_fit pid=7105)\u001b[0m \tTrain Epoch: 9 \tTrain_loss_mri: 0.0205 | Train_acc_mri: 99.3750 | Train_loss_dna: 0.5976 | Train_acc_dna: 81.1574 | Validation_loss_mri: 0.5695 | Validation_acc_mri: 92.1875 | Validation_loss_dna: 4.4428 | Validation_acc_dna: 4.6875\u001b[32m [repeated 4x across cluster]\u001b[0m\n",
      "\u001b[36m(launch_and_fit pid=7105)\u001b[0m save graph in  results/FL/\n"
     ]
    },
    {
     "name": "stderr",
     "output_type": "stream",
     "text": [
      "100%|\u001b[34m██████████\u001b[0m| 10/10 [00:38<00:00,  3.87s/it]\u001b[32m [repeated 4x across cluster]\u001b[0m\n"
     ]
    },
    {
     "name": "stdout",
     "output_type": "stream",
     "text": [
      "\u001b[36m(launch_and_fit pid=7105)\u001b[0m mri_net.features.0.weight 4.5299530029296875e-06\n",
      "\u001b[36m(launch_and_fit pid=7105)\u001b[0m mri_net.features.0.bias 1.6689300537109375e-06\n",
      "\u001b[36m(launch_and_fit pid=7105)\u001b[0m mri_net.features.3.weight 1.1920928955078125e-06\n",
      "\u001b[36m(launch_and_fit pid=7105)\u001b[0m mri_net.features.3.bias 1.1920928955078125e-06\n",
      "\u001b[36m(launch_and_fit pid=7105)\u001b[0m mri_net.classifier.0.weight 2.1457672119140625e-06\n",
      "\u001b[36m(launch_and_fit pid=7105)\u001b[0m mri_net.classifier.0.bias 1.430511474609375e-06\n",
      "\u001b[36m(launch_and_fit pid=7105)\u001b[0m mri_net.classifier.2.weight 1.1920928955078125e-06\n",
      "\u001b[36m(launch_and_fit pid=7105)\u001b[0m mri_net.classifier.2.bias 9.5367431640625e-07\n",
      "\u001b[36m(launch_and_fit pid=7105)\u001b[0m mri_net.classifier.3.weights 1.1920928955078125e-06\n",
      "\u001b[36m(launch_and_fit pid=7105)\u001b[0m dna_net.fc1.weight 1.1920928955078125e-06\n",
      "\u001b[36m(launch_and_fit pid=7105)\u001b[0m dna_net.fc1.bias 9.5367431640625e-07\n",
      "\u001b[36m(launch_and_fit pid=7105)\u001b[0m dna_net.fc2.weight 1.1920928955078125e-06\n",
      "\u001b[36m(launch_and_fit pid=7105)\u001b[0m dna_net.fc2.bias 1.1920928955078125e-06\n",
      "\u001b[36m(launch_and_fit pid=7105)\u001b[0m dna_net.fc3.weight 9.5367431640625e-07\n",
      "\u001b[36m(launch_and_fit pid=7105)\u001b[0m dna_net.fc3.bias 1.1920928955078125e-06\n",
      "\u001b[36m(launch_and_fit pid=7105)\u001b[0m dna_net.fc4.weight 1.430511474609375e-06\n",
      "\u001b[36m(launch_and_fit pid=7105)\u001b[0m dna_net.fc4.bias 1.1920928955078125e-06\n",
      "\u001b[36m(launch_and_fit pid=7105)\u001b[0m dna_net.qnn.weights 1.1920928955078125e-06\n",
      "\u001b[36m(launch_and_fit pid=7105)\u001b[0m attention.in_proj_weight 1.1920928955078125e-06\n",
      "\u001b[36m(launch_and_fit pid=7105)\u001b[0m attention.in_proj_bias 9.5367431640625e-07\n",
      "\u001b[36m(launch_and_fit pid=7105)\u001b[0m attention.out_proj.weight 1.1920928955078125e-06\n",
      "\u001b[36m(launch_and_fit pid=7105)\u001b[0m attention.out_proj.bias 9.5367431640625e-07\n",
      "\u001b[36m(launch_and_fit pid=7105)\u001b[0m fc1.weight 1.430511474609375e-06\n",
      "\u001b[36m(launch_and_fit pid=7105)\u001b[0m fc1.bias 1.1920928955078125e-06\n",
      "\u001b[36m(launch_and_fit pid=7105)\u001b[0m fc2_mri.weight 1.1920928955078125e-06\n",
      "\u001b[36m(launch_and_fit pid=7105)\u001b[0m fc2_mri.bias 1.1920928955078125e-06\n",
      "\u001b[36m(launch_and_fit pid=7105)\u001b[0m fc2_dna.weight 9.5367431640625e-07\n",
      "\u001b[36m(launch_and_fit pid=7105)\u001b[0m fc2_dna.bias 9.5367431640625e-07\n",
      "\u001b[36m(launch_and_fit pid=7187)\u001b[0m Run with homomorphic encryption\n",
      "\u001b[36m(launch_and_fit pid=7107)\u001b[0m \tTrain Epoch: 10 \tTrain_loss_mri: 0.0371 | Train_acc_mri: 99.3750 | Train_loss_dna: 0.4982 | Train_acc_dna: 85.5093 | Validation_loss_mri: 0.6494 | Validation_acc_mri: 87.5000 | Validation_loss_dna: 2.7252 | Validation_acc_dna: 42.7083\u001b[32m [repeated 3x across cluster]\u001b[0m\n",
      "\u001b[36m(launch_and_fit pid=7107)\u001b[0m save graph in  results/FL/\n",
      "\u001b[36m(launch_and_fit pid=7107)\u001b[0m fc2_dna.bias 9.5367431640625e-07\u001b[32m [repeated 23x across cluster]\u001b[0m\n",
      "\u001b[36m(launch_and_fit pid=7107)\u001b[0m dna_net.qnn.weights 1.1920928955078125e-06\n",
      "\u001b[36m(launch_and_fit pid=7107)\u001b[0m attention.in_proj_weight 9.5367431640625e-07\n",
      "\u001b[36m(launch_and_fit pid=7107)\u001b[0m attention.in_proj_bias 9.5367431640625e-07\n",
      "\u001b[36m(launch_and_fit pid=7107)\u001b[0m attention.out_proj.weight 9.5367431640625e-07\n",
      "\u001b[36m(launch_and_fit pid=7107)\u001b[0m attention.out_proj.bias 1.1920928955078125e-06\n",
      "\u001b[36m(launch_and_fit pid=7187)\u001b[0m [Client 0, round 9] fit, config: {'learning_rate': 0.003, 'batch_size': '32', 'server_round': 9, 'local_epochs': 10}\n"
     ]
    },
    {
     "name": "stderr",
     "output_type": "stream",
     "text": [
      "  0%|\u001b[34m          \u001b[0m| 0/10 [00:00<?, ?it/s]\n",
      "100%|\u001b[34m██████████\u001b[0m| 10/10 [00:38<00:00,  3.88s/it]\n"
     ]
    },
    {
     "name": "stdout",
     "output_type": "stream",
     "text": [
      "\u001b[36m(launch_and_fit pid=7187)\u001b[0m Updated model\n"
     ]
    },
    {
     "name": "stderr",
     "output_type": "stream",
     "text": [
      " 10%|\u001b[34m█         \u001b[0m| 1/10 [00:04<00:38,  4.31s/it]\n"
     ]
    },
    {
     "name": "stdout",
     "output_type": "stream",
     "text": [
      "\u001b[36m(launch_and_fit pid=7189)\u001b[0m Run with homomorphic encryption\n",
      "\u001b[36m(launch_and_fit pid=7187)\u001b[0m \tTrain Epoch: 1 \tTrain_loss_mri: 0.3778 | Train_acc_mri: 88.6921 | Train_loss_dna: 2.1516 | Train_acc_dna: 32.3958 | Validation_loss_mri: 0.6837 | Validation_acc_mri: 90.6250 | Validation_loss_dna: 4.6661 | Validation_acc_dna: 17.1875\n",
      "\u001b[36m(launch_and_fit pid=7189)\u001b[0m [Client 2, round 9] fit, config: {'learning_rate': 0.003, 'batch_size': '32', 'server_round': 9, 'local_epochs': 10}\n",
      "\u001b[36m(launch_and_fit pid=7189)\u001b[0m \tTrain Epoch: 1 \tTrain_loss_mri: 0.4788 | Train_acc_mri: 86.0417 | Train_loss_dna: 1.7332 | Train_acc_dna: 41.5162 | Validation_loss_mri: 1.1968 | Validation_acc_mri: 72.3958 | Validation_loss_dna: 2.0377 | Validation_acc_dna: 47.3958\n"
     ]
    },
    {
     "name": "stderr",
     "output_type": "stream",
     "text": [
      "  0%|\u001b[34m          \u001b[0m| 0/10 [00:00<?, ?it/s]\n"
     ]
    },
    {
     "name": "stdout",
     "output_type": "stream",
     "text": [
      "\u001b[36m(launch_and_fit pid=7189)\u001b[0m Updated model\n"
     ]
    },
    {
     "name": "stderr",
     "output_type": "stream",
     "text": [
      " 30%|\u001b[34m███       \u001b[0m| 3/10 [00:11<00:27,  3.92s/it]\u001b[32m [repeated 4x across cluster]\u001b[0m\n"
     ]
    },
    {
     "name": "stdout",
     "output_type": "stream",
     "text": [
      "\u001b[36m(launch_and_fit pid=7187)\u001b[0m \tTrain Epoch: 3 \tTrain_loss_mri: 0.1765 | Train_acc_mri: 93.3796 | Train_loss_dna: 1.0940 | Train_acc_dna: 59.1319 | Validation_loss_mri: 1.1746 | Validation_acc_mri: 69.2708 | Validation_loss_dna: 2.9389 | Validation_acc_dna: 4.6875\u001b[32m [repeated 3x across cluster]\u001b[0m\n"
     ]
    },
    {
     "name": "stderr",
     "output_type": "stream",
     "text": [
      " 50%|\u001b[34m█████     \u001b[0m| 5/10 [00:19<00:19,  3.82s/it]\u001b[32m [repeated 4x across cluster]\u001b[0m\n"
     ]
    },
    {
     "name": "stdout",
     "output_type": "stream",
     "text": [
      "\u001b[36m(launch_and_fit pid=7187)\u001b[0m \tTrain Epoch: 5 \tTrain_loss_mri: 0.0860 | Train_acc_mri: 98.4375 | Train_loss_dna: 0.9290 | Train_acc_dna: 67.6620 | Validation_loss_mri: 1.4009 | Validation_acc_mri: 69.2708 | Validation_loss_dna: 3.2514 | Validation_acc_dna: 12.5000\u001b[32m [repeated 4x across cluster]\u001b[0m\n"
     ]
    },
    {
     "name": "stderr",
     "output_type": "stream",
     "text": [
      " 70%|\u001b[34m███████   \u001b[0m| 7/10 [00:27<00:11,  3.87s/it]\u001b[32m [repeated 4x across cluster]\u001b[0m\n"
     ]
    },
    {
     "name": "stdout",
     "output_type": "stream",
     "text": [
      "\u001b[36m(launch_and_fit pid=7187)\u001b[0m \tTrain Epoch: 7 \tTrain_loss_mri: 0.0665 | Train_acc_mri: 99.0625 | Train_loss_dna: 0.7507 | Train_acc_dna: 71.8403 | Validation_loss_mri: 1.6023 | Validation_acc_mri: 70.8333 | Validation_loss_dna: 3.6772 | Validation_acc_dna: 9.3750\u001b[32m [repeated 4x across cluster]\u001b[0m\n",
      "\u001b[36m(launch_and_fit pid=7189)\u001b[0m \tTrain Epoch: 9 \tTrain_loss_mri: 0.0684 | Train_acc_mri: 99.0046 | Train_loss_dna: 0.5260 | Train_acc_dna: 82.4421 | Validation_loss_mri: 0.7721 | Validation_acc_mri: 54.1667 | Validation_loss_dna: 2.6480 | Validation_acc_dna: 45.8333\u001b[32m [repeated 4x across cluster]\u001b[0m\n"
     ]
    },
    {
     "name": "stderr",
     "output_type": "stream",
     "text": [
      " 90%|\u001b[34m█████████ \u001b[0m| 9/10 [00:34<00:03,  3.81s/it]\u001b[32m [repeated 4x across cluster]\u001b[0m\n"
     ]
    },
    {
     "name": "stdout",
     "output_type": "stream",
     "text": [
      "\u001b[36m(launch_and_fit pid=7189)\u001b[0m save graph in  results/FL/\n",
      "\u001b[36m(launch_and_fit pid=7189)\u001b[0m mri_net.features.0.weight 4.291534423828125e-06\n",
      "\u001b[36m(launch_and_fit pid=7189)\u001b[0m mri_net.features.0.bias 1.1920928955078125e-06\n",
      "\u001b[36m(launch_and_fit pid=7189)\u001b[0m mri_net.features.3.weight 1.1920928955078125e-06\n",
      "\u001b[36m(launch_and_fit pid=7189)\u001b[0m mri_net.features.3.bias 1.1920928955078125e-06\n",
      "\u001b[36m(launch_and_fit pid=7189)\u001b[0m mri_net.classifier.0.weight 9.5367431640625e-07\n",
      "\u001b[36m(launch_and_fit pid=7189)\u001b[0m mri_net.classifier.0.bias 1.1920928955078125e-06\n",
      "\u001b[36m(launch_and_fit pid=7189)\u001b[0m mri_net.classifier.2.weight 7.152557373046875e-07\n",
      "\u001b[36m(launch_and_fit pid=7189)\u001b[0m mri_net.classifier.2.bias 9.5367431640625e-07\n",
      "\u001b[36m(launch_and_fit pid=7189)\u001b[0m mri_net.classifier.3.weights 9.5367431640625e-07\n",
      "\u001b[36m(launch_and_fit pid=7189)\u001b[0m dna_net.fc1.weight 1.1920928955078125e-06\n",
      "\u001b[36m(launch_and_fit pid=7189)\u001b[0m dna_net.fc1.bias 9.5367431640625e-07\n",
      "\u001b[36m(launch_and_fit pid=7189)\u001b[0m dna_net.fc2.weight 1.1920928955078125e-06\n",
      "\u001b[36m(launch_and_fit pid=7189)\u001b[0m dna_net.fc2.bias 1.1920928955078125e-06\n",
      "\u001b[36m(launch_and_fit pid=7189)\u001b[0m dna_net.fc3.weight 7.152557373046875e-07\n",
      "\u001b[36m(launch_and_fit pid=7189)\u001b[0m dna_net.fc3.bias 9.5367431640625e-07\n",
      "\u001b[36m(launch_and_fit pid=7189)\u001b[0m dna_net.fc4.weight 1.1920928955078125e-06\n",
      "\u001b[36m(launch_and_fit pid=7189)\u001b[0m dna_net.fc4.bias 7.152557373046875e-07\n",
      "\u001b[36m(launch_and_fit pid=7189)\u001b[0m dna_net.qnn.weights 9.5367431640625e-07\n",
      "\u001b[36m(launch_and_fit pid=7189)\u001b[0m attention.in_proj_weight 9.5367431640625e-07\n",
      "\u001b[36m(launch_and_fit pid=7189)\u001b[0m attention.in_proj_bias 9.5367431640625e-07\n",
      "\u001b[36m(launch_and_fit pid=7189)\u001b[0m attention.out_proj.weight 1.1920928955078125e-06\n",
      "\u001b[36m(launch_and_fit pid=7189)\u001b[0m attention.out_proj.bias 9.5367431640625e-07\n",
      "\u001b[36m(launch_and_fit pid=7189)\u001b[0m fc1.weight 1.1920928955078125e-06\n",
      "\u001b[36m(launch_and_fit pid=7189)\u001b[0m fc1.bias 1.1920928955078125e-06\n",
      "\u001b[36m(launch_and_fit pid=7189)\u001b[0m fc2_mri.weight 1.9073486328125e-06\n",
      "\u001b[36m(launch_and_fit pid=7189)\u001b[0m fc2_mri.bias 1.6689300537109375e-06\n",
      "\u001b[36m(launch_and_fit pid=7189)\u001b[0m fc2_dna.weight 1.430511474609375e-06\n",
      "\u001b[36m(launch_and_fit pid=7189)\u001b[0m fc2_dna.bias 9.5367431640625e-07\n",
      "\u001b[36m(launch_and_fit pid=7269)\u001b[0m Run with homomorphic encryption\n",
      "\u001b[36m(launch_and_fit pid=7187)\u001b[0m \tTrain Epoch: 10 \tTrain_loss_mri: 0.0436 | Train_acc_mri: 99.3171 | Train_loss_dna: 0.6505 | Train_acc_dna: 80.8449 | Validation_loss_mri: 1.3043 | Validation_acc_mri: 69.2708 | Validation_loss_dna: 3.9577 | Validation_acc_dna: 14.0625\u001b[32m [repeated 3x across cluster]\u001b[0m\n",
      "\u001b[36m(launch_and_fit pid=7187)\u001b[0m save graph in  results/FL/\n",
      "\u001b[36m(launch_and_fit pid=7187)\u001b[0m fc2_dna.bias 9.5367431640625e-07\u001b[32m [repeated 23x across cluster]\u001b[0m\n",
      "\u001b[36m(launch_and_fit pid=7187)\u001b[0m dna_net.qnn.weights 9.5367431640625e-07\n",
      "\u001b[36m(launch_and_fit pid=7187)\u001b[0m attention.in_proj_weight 1.430511474609375e-06\n",
      "\u001b[36m(launch_and_fit pid=7187)\u001b[0m attention.in_proj_bias 9.5367431640625e-07\n",
      "\u001b[36m(launch_and_fit pid=7187)\u001b[0m attention.out_proj.weight 9.5367431640625e-07\n",
      "\u001b[36m(launch_and_fit pid=7187)\u001b[0m attention.out_proj.bias 1.1920928955078125e-06\n",
      "\u001b[36m(launch_and_fit pid=7269)\u001b[0m [Client 6, round 9] fit, config: {'learning_rate': 0.003, 'batch_size': '32', 'server_round': 9, 'local_epochs': 10}\n"
     ]
    },
    {
     "name": "stderr",
     "output_type": "stream",
     "text": [
      "  0%|\u001b[34m          \u001b[0m| 0/10 [00:00<?, ?it/s]\n",
      "100%|\u001b[34m██████████\u001b[0m| 10/10 [00:38<00:00,  3.88s/it]\u001b[32m [repeated 3x across cluster]\u001b[0m\n"
     ]
    },
    {
     "name": "stdout",
     "output_type": "stream",
     "text": [
      "\u001b[36m(launch_and_fit pid=7269)\u001b[0m Updated model\n",
      "\u001b[36m(launch_and_fit pid=7271)\u001b[0m Run with homomorphic encryption\n",
      "\u001b[36m(launch_and_fit pid=7269)\u001b[0m \tTrain Epoch: 1 \tTrain_loss_mri: 0.2217 | Train_acc_mri: 92.3264 | Train_loss_dna: 1.9027 | Train_acc_dna: 41.8634 | Validation_loss_mri: 1.3728 | Validation_acc_mri: 69.2708 | Validation_loss_dna: 2.7530 | Validation_acc_dna: 10.9375\n",
      "\u001b[36m(launch_and_fit pid=7271)\u001b[0m [Client 9, round 9] fit, config: {'learning_rate': 0.003, 'batch_size': '32', 'server_round': 9, 'local_epochs': 10}\n",
      "\u001b[36m(launch_and_fit pid=7271)\u001b[0m \tTrain Epoch: 1 \tTrain_loss_mri: 0.6432 | Train_acc_mri: 79.9899 | Train_loss_dna: 2.0824 | Train_acc_dna: 35.4335 | Validation_loss_mri: 0.1857 | Validation_acc_mri: 93.7500 | Validation_loss_dna: 1.9869 | Validation_acc_dna: 52.0833\n"
     ]
    },
    {
     "name": "stderr",
     "output_type": "stream",
     "text": [
      "  0%|\u001b[34m          \u001b[0m| 0/10 [00:00<?, ?it/s]\n",
      " 20%|\u001b[34m██        \u001b[0m| 2/10 [00:08<00:32,  4.07s/it]\u001b[32m [repeated 3x across cluster]\u001b[0m\n"
     ]
    },
    {
     "name": "stdout",
     "output_type": "stream",
     "text": [
      "\u001b[36m(launch_and_fit pid=7271)\u001b[0m Updated model\n",
      "\u001b[36m(launch_and_fit pid=7269)\u001b[0m \tTrain Epoch: 3 \tTrain_loss_mri: 0.1524 | Train_acc_mri: 95.6250 | Train_loss_dna: 0.9723 | Train_acc_dna: 64.0278 | Validation_loss_mri: 1.1151 | Validation_acc_mri: 69.2708 | Validation_loss_dna: 3.4497 | Validation_acc_dna: 10.9375\u001b[32m [repeated 3x across cluster]\u001b[0m\n"
     ]
    },
    {
     "name": "stderr",
     "output_type": "stream",
     "text": [
      " 40%|\u001b[34m████      \u001b[0m| 4/10 [00:15<00:23,  3.87s/it]\u001b[32m [repeated 4x across cluster]\u001b[0m\n"
     ]
    },
    {
     "name": "stdout",
     "output_type": "stream",
     "text": [
      "\u001b[36m(launch_and_fit pid=7269)\u001b[0m \tTrain Epoch: 5 \tTrain_loss_mri: 0.0583 | Train_acc_mri: 99.3750 | Train_loss_dna: 0.7122 | Train_acc_dna: 75.7639 | Validation_loss_mri: 0.6849 | Validation_acc_mri: 67.7083 | Validation_loss_dna: 4.5589 | Validation_acc_dna: 9.3750\u001b[32m [repeated 4x across cluster]\u001b[0m\n"
     ]
    },
    {
     "name": "stderr",
     "output_type": "stream",
     "text": [
      " 60%|\u001b[34m██████    \u001b[0m| 6/10 [00:23<00:15,  3.78s/it]\u001b[32m [repeated 4x across cluster]\u001b[0m\n"
     ]
    },
    {
     "name": "stdout",
     "output_type": "stream",
     "text": [
      "\u001b[36m(launch_and_fit pid=7269)\u001b[0m \tTrain Epoch: 7 \tTrain_loss_mri: 0.0307 | Train_acc_mri: 99.3750 | Train_loss_dna: 0.6109 | Train_acc_dna: 79.1435 | Validation_loss_mri: 0.9002 | Validation_acc_mri: 66.1458 | Validation_loss_dna: 5.0283 | Validation_acc_dna: 6.2500\u001b[32m [repeated 4x across cluster]\u001b[0m\n"
     ]
    },
    {
     "name": "stderr",
     "output_type": "stream",
     "text": [
      " 80%|\u001b[34m████████  \u001b[0m| 8/10 [00:30<00:07,  3.76s/it]\u001b[32m [repeated 4x across cluster]\u001b[0m\n"
     ]
    },
    {
     "name": "stdout",
     "output_type": "stream",
     "text": [
      "\u001b[36m(launch_and_fit pid=7269)\u001b[0m \tTrain Epoch: 9 \tTrain_loss_mri: 0.0288 | Train_acc_mri: 99.6875 | Train_loss_dna: 0.5448 | Train_acc_dna: 81.4120 | Validation_loss_mri: 0.8517 | Validation_acc_mri: 67.7083 | Validation_loss_dna: 6.3476 | Validation_acc_dna: 9.3750\u001b[32m [repeated 4x across cluster]\u001b[0m\n"
     ]
    },
    {
     "name": "stderr",
     "output_type": "stream",
     "text": [
      "100%|\u001b[34m██████████\u001b[0m| 10/10 [00:38<00:00,  3.84s/it]\u001b[32m [repeated 4x across cluster]\u001b[0m\n"
     ]
    },
    {
     "name": "stdout",
     "output_type": "stream",
     "text": [
      "\u001b[36m(launch_and_fit pid=7269)\u001b[0m save graph in  results/FL/\n",
      "\u001b[36m(launch_and_fit pid=7269)\u001b[0m mri_net.features.0.weight 5.9604644775390625e-06\n",
      "\u001b[36m(launch_and_fit pid=7269)\u001b[0m mri_net.features.0.bias 1.6689300537109375e-06\n",
      "\u001b[36m(launch_and_fit pid=7269)\u001b[0m mri_net.features.3.weight 1.1920928955078125e-06\n",
      "\u001b[36m(launch_and_fit pid=7269)\u001b[0m mri_net.features.3.bias 1.1920928955078125e-06\n",
      "\u001b[36m(launch_and_fit pid=7269)\u001b[0m mri_net.classifier.0.weight 1.1920928955078125e-06\n",
      "\u001b[36m(launch_and_fit pid=7269)\u001b[0m mri_net.classifier.0.bias 1.1920928955078125e-06\n",
      "\u001b[36m(launch_and_fit pid=7269)\u001b[0m mri_net.classifier.2.weight 1.9073486328125e-06\n",
      "\u001b[36m(launch_and_fit pid=7269)\u001b[0m mri_net.classifier.2.bias 1.430511474609375e-06\n",
      "\u001b[36m(launch_and_fit pid=7269)\u001b[0m mri_net.classifier.3.weights 1.1920928955078125e-06\n",
      "\u001b[36m(launch_and_fit pid=7269)\u001b[0m dna_net.fc1.weight 1.430511474609375e-06\n",
      "\u001b[36m(launch_and_fit pid=7269)\u001b[0m dna_net.fc1.bias 1.1920928955078125e-06\n",
      "\u001b[36m(launch_and_fit pid=7269)\u001b[0m dna_net.fc2.weight 9.5367431640625e-07\n",
      "\u001b[36m(launch_and_fit pid=7269)\u001b[0m dna_net.fc2.bias 1.1920928955078125e-06\n",
      "\u001b[36m(launch_and_fit pid=7269)\u001b[0m dna_net.fc3.weight 1.1920928955078125e-06\n",
      "\u001b[36m(launch_and_fit pid=7269)\u001b[0m dna_net.fc3.bias 9.5367431640625e-07\n",
      "\u001b[36m(launch_and_fit pid=7269)\u001b[0m dna_net.fc4.weight 1.430511474609375e-06\n",
      "\u001b[36m(launch_and_fit pid=7269)\u001b[0m dna_net.fc4.bias 1.1920928955078125e-06\n",
      "\u001b[36m(launch_and_fit pid=7269)\u001b[0m dna_net.qnn.weights 9.5367431640625e-07\n",
      "\u001b[36m(launch_and_fit pid=7269)\u001b[0m attention.in_proj_weight 1.1920928955078125e-06\n",
      "\u001b[36m(launch_and_fit pid=7269)\u001b[0m attention.in_proj_bias 1.6689300537109375e-06\n",
      "\u001b[36m(launch_and_fit pid=7269)\u001b[0m attention.out_proj.weight 9.5367431640625e-07\n",
      "\u001b[36m(launch_and_fit pid=7269)\u001b[0m attention.out_proj.bias 1.430511474609375e-06\n",
      "\u001b[36m(launch_and_fit pid=7269)\u001b[0m fc1.weight 1.1920928955078125e-06\n",
      "\u001b[36m(launch_and_fit pid=7269)\u001b[0m fc1.bias 9.5367431640625e-07\n",
      "\u001b[36m(launch_and_fit pid=7269)\u001b[0m fc2_mri.weight 1.1920928955078125e-06\n",
      "\u001b[36m(launch_and_fit pid=7269)\u001b[0m fc2_mri.bias 9.5367431640625e-07\n",
      "\u001b[36m(launch_and_fit pid=7269)\u001b[0m fc2_dna.weight 1.1920928955078125e-06\n",
      "\u001b[36m(launch_and_fit pid=7269)\u001b[0m fc2_dna.bias 9.5367431640625e-07\n",
      "\u001b[36m(launch_and_fit pid=7271)\u001b[0m \tTrain Epoch: 10 \tTrain_loss_mri: 0.0297 | Train_acc_mri: 99.3750 | Train_loss_dna: 0.6367 | Train_acc_dna: 79.8790 | Validation_loss_mri: 0.4068 | Validation_acc_mri: 90.6250 | Validation_loss_dna: 2.4774 | Validation_acc_dna: 27.6042\u001b[32m [repeated 3x across cluster]\u001b[0m\n",
      "\u001b[36m(launch_and_fit pid=7351)\u001b[0m Run with homomorphic encryption\n",
      "\u001b[36m(launch_and_fit pid=7271)\u001b[0m save graph in  results/FL/\n",
      "\u001b[36m(launch_and_fit pid=7271)\u001b[0m fc2_dna.bias 1.430511474609375e-06\u001b[32m [repeated 23x across cluster]\u001b[0m\n",
      "\u001b[36m(launch_and_fit pid=7271)\u001b[0m dna_net.qnn.weights 1.1920928955078125e-06\n",
      "\u001b[36m(launch_and_fit pid=7271)\u001b[0m attention.in_proj_weight 1.1920928955078125e-06\n",
      "\u001b[36m(launch_and_fit pid=7271)\u001b[0m attention.in_proj_bias 1.1920928955078125e-06\n",
      "\u001b[36m(launch_and_fit pid=7271)\u001b[0m attention.out_proj.weight 9.5367431640625e-07\n",
      "\u001b[36m(launch_and_fit pid=7271)\u001b[0m attention.out_proj.bias 1.1920928955078125e-06\n",
      "\u001b[36m(launch_and_fit pid=7351)\u001b[0m [Client 1, round 9] fit, config: {'learning_rate': 0.003, 'batch_size': '32', 'server_round': 9, 'local_epochs': 10}\n"
     ]
    },
    {
     "name": "stderr",
     "output_type": "stream",
     "text": [
      "  0%|\u001b[34m          \u001b[0m| 0/10 [00:00<?, ?it/s]\n",
      "100%|\u001b[34m██████████\u001b[0m| 10/10 [00:39<00:00,  3.94s/it]\n"
     ]
    },
    {
     "name": "stdout",
     "output_type": "stream",
     "text": [
      "\u001b[36m(launch_and_fit pid=7351)\u001b[0m Updated model\n"
     ]
    },
    {
     "name": "stderr",
     "output_type": "stream",
     "text": [
      " 10%|\u001b[34m█         \u001b[0m| 1/10 [00:04<00:37,  4.19s/it]\n"
     ]
    },
    {
     "name": "stdout",
     "output_type": "stream",
     "text": [
      "\u001b[36m(launch_and_fit pid=7351)\u001b[0m \tTrain Epoch: 1 \tTrain_loss_mri: 0.3228 | Train_acc_mri: 90.4514 | Train_loss_dna: 1.9562 | Train_acc_dna: 37.2569 | Validation_loss_mri: 0.4659 | Validation_acc_mri: 90.6250 | Validation_loss_dna: 2.5505 | Validation_acc_dna: 24.4792\n",
      "\u001b[36m(launch_and_fit pid=7376)\u001b[0m Run with homomorphic encryption\n",
      "\u001b[36m(launch_and_fit pid=7376)\u001b[0m [Client 5, round 9] fit, config: {'learning_rate': 0.003, 'batch_size': '32', 'server_round': 9, 'local_epochs': 10}\n",
      "\u001b[36m(launch_and_fit pid=7376)\u001b[0m Updated model\n"
     ]
    },
    {
     "name": "stderr",
     "output_type": "stream",
     "text": [
      "  0%|\u001b[34m          \u001b[0m| 0/10 [00:00<?, ?it/s]\n"
     ]
    },
    {
     "name": "stdout",
     "output_type": "stream",
     "text": [
      "\u001b[36m(launch_and_fit pid=7376)\u001b[0m \tTrain Epoch: 2 \tTrain_loss_mri: 0.2691 | Train_acc_mri: 89.8264 | Train_loss_dna: 1.3300 | Train_acc_dna: 49.2477 | Validation_loss_mri: 0.3882 | Validation_acc_mri: 90.6250 | Validation_loss_dna: 2.6159 | Validation_acc_dna: 10.9375\u001b[32m [repeated 3x across cluster]\u001b[0m\n"
     ]
    },
    {
     "name": "stderr",
     "output_type": "stream",
     "text": [
      " 20%|\u001b[34m██        \u001b[0m| 2/10 [00:08<00:32,  4.00s/it]\u001b[32m [repeated 3x across cluster]\u001b[0m\n",
      " 40%|\u001b[34m████      \u001b[0m| 4/10 [00:15<00:23,  3.93s/it]\u001b[32m [repeated 3x across cluster]\u001b[0m\n"
     ]
    },
    {
     "name": "stdout",
     "output_type": "stream",
     "text": [
      "\u001b[36m(launch_and_fit pid=7351)\u001b[0m \tTrain Epoch: 4 \tTrain_loss_mri: 0.1121 | Train_acc_mri: 96.8750 | Train_loss_dna: 0.9552 | Train_acc_dna: 63.8542 | Validation_loss_mri: 0.4820 | Validation_acc_mri: 89.0625 | Validation_loss_dna: 2.8566 | Validation_acc_dna: 12.5000\u001b[32m [repeated 3x across cluster]\u001b[0m\n",
      "\u001b[36m(launch_and_fit pid=7376)\u001b[0m \tTrain Epoch: 5 \tTrain_loss_mri: 0.0382 | Train_acc_mri: 99.3750 | Train_loss_dna: 0.8142 | Train_acc_dna: 69.6528 | Validation_loss_mri: 0.3454 | Validation_acc_mri: 92.1875 | Validation_loss_dna: 2.8075 | Validation_acc_dna: 15.6250\u001b[32m [repeated 3x across cluster]\u001b[0m\n"
     ]
    },
    {
     "name": "stderr",
     "output_type": "stream",
     "text": [
      " 50%|\u001b[34m█████     \u001b[0m| 5/10 [00:20<00:20,  4.00s/it]\u001b[32m [repeated 3x across cluster]\u001b[0m\n",
      " 70%|\u001b[34m███████   \u001b[0m| 7/10 [00:27<00:11,  3.78s/it]\u001b[32m [repeated 3x across cluster]\u001b[0m\n"
     ]
    },
    {
     "name": "stdout",
     "output_type": "stream",
     "text": [
      "\u001b[36m(launch_and_fit pid=7351)\u001b[0m \tTrain Epoch: 7 \tTrain_loss_mri: 0.0303 | Train_acc_mri: 100.0000 | Train_loss_dna: 0.7328 | Train_acc_dna: 76.2153 | Validation_loss_mri: 0.4512 | Validation_acc_mri: 89.0625 | Validation_loss_dna: 3.7508 | Validation_acc_dna: 10.9375\u001b[32m [repeated 3x across cluster]\u001b[0m\n",
      "\u001b[36m(launch_and_fit pid=7376)\u001b[0m \tTrain Epoch: 8 \tTrain_loss_mri: 0.0228 | Train_acc_mri: 100.0000 | Train_loss_dna: 0.5875 | Train_acc_dna: 84.0856 | Validation_loss_mri: 0.3890 | Validation_acc_mri: 87.5000 | Validation_loss_dna: 5.6038 | Validation_acc_dna: 9.3750\u001b[32m [repeated 3x across cluster]\u001b[0m\n"
     ]
    },
    {
     "name": "stderr",
     "output_type": "stream",
     "text": [
      " 80%|\u001b[34m████████  \u001b[0m| 8/10 [00:31<00:07,  3.85s/it]\u001b[32m [repeated 3x across cluster]\u001b[0m\n"
     ]
    },
    {
     "name": "stdout",
     "output_type": "stream",
     "text": [
      "\u001b[36m(launch_and_fit pid=7351)\u001b[0m save graph in  results/FL/\n",
      "\u001b[36m(launch_and_fit pid=7351)\u001b[0m mri_net.features.0.weight 6.4373016357421875e-06\n",
      "\u001b[36m(launch_and_fit pid=7351)\u001b[0m mri_net.features.0.bias 1.6689300537109375e-06\n",
      "\u001b[36m(launch_and_fit pid=7351)\u001b[0m mri_net.features.3.weight 1.1920928955078125e-06\n",
      "\u001b[36m(launch_and_fit pid=7351)\u001b[0m mri_net.features.3.bias 1.1920928955078125e-06\n",
      "\u001b[36m(launch_and_fit pid=7351)\u001b[0m mri_net.classifier.0.weight 9.5367431640625e-07\n",
      "\u001b[36m(launch_and_fit pid=7351)\u001b[0m mri_net.classifier.0.bias 9.5367431640625e-07\n",
      "\u001b[36m(launch_and_fit pid=7351)\u001b[0m mri_net.classifier.2.weight 1.1920928955078125e-06\n",
      "\u001b[36m(launch_and_fit pid=7351)\u001b[0m mri_net.classifier.2.bias 1.1920928955078125e-06\n",
      "\u001b[36m(launch_and_fit pid=7351)\u001b[0m mri_net.classifier.3.weights 1.1920928955078125e-06\n",
      "\u001b[36m(launch_and_fit pid=7351)\u001b[0m dna_net.fc1.weight 1.1920928955078125e-06\n",
      "\u001b[36m(launch_and_fit pid=7351)\u001b[0m dna_net.fc1.bias 1.1920928955078125e-06\n",
      "\u001b[36m(launch_and_fit pid=7351)\u001b[0m dna_net.fc2.weight 9.5367431640625e-07\n",
      "\u001b[36m(launch_and_fit pid=7351)\u001b[0m dna_net.fc2.bias 9.5367431640625e-07\n",
      "\u001b[36m(launch_and_fit pid=7351)\u001b[0m dna_net.fc3.weight 9.5367431640625e-07\n",
      "\u001b[36m(launch_and_fit pid=7351)\u001b[0m dna_net.fc3.bias 9.5367431640625e-07\n",
      "\u001b[36m(launch_and_fit pid=7351)\u001b[0m dna_net.fc4.weight 9.5367431640625e-07\n",
      "\u001b[36m(launch_and_fit pid=7351)\u001b[0m dna_net.fc4.bias 9.5367431640625e-07\n",
      "\u001b[36m(launch_and_fit pid=7351)\u001b[0m dna_net.qnn.weights 1.1920928955078125e-06\n",
      "\u001b[36m(launch_and_fit pid=7351)\u001b[0m attention.in_proj_weight 9.5367431640625e-07\n",
      "\u001b[36m(launch_and_fit pid=7351)\u001b[0m attention.in_proj_bias 9.5367431640625e-07\n",
      "\u001b[36m(launch_and_fit pid=7351)\u001b[0m attention.out_proj.weight 1.1920928955078125e-06\n",
      "\u001b[36m(launch_and_fit pid=7351)\u001b[0m attention.out_proj.bias 7.152557373046875e-07\n",
      "\u001b[36m(launch_and_fit pid=7351)\u001b[0m fc1.weight 1.1920928955078125e-06\n",
      "\u001b[36m(launch_and_fit pid=7351)\u001b[0m fc1.bias 7.152557373046875e-07\n",
      "\u001b[36m(launch_and_fit pid=7351)\u001b[0m fc2_mri.weight 1.1920928955078125e-06\n",
      "\u001b[36m(launch_and_fit pid=7351)\u001b[0m fc2_mri.bias 1.1920928955078125e-06\n",
      "\u001b[36m(launch_and_fit pid=7351)\u001b[0m fc2_dna.weight 9.5367431640625e-07\n",
      "\u001b[36m(launch_and_fit pid=7351)\u001b[0m fc2_dna.bias 9.5367431640625e-07\n",
      "\u001b[36m(launch_and_fit pid=7351)\u001b[0m \tTrain Epoch: 10 \tTrain_loss_mri: 0.0245 | Train_acc_mri: 99.6875 | Train_loss_dna: 0.6011 | Train_acc_dna: 80.2199 | Validation_loss_mri: 0.8448 | Validation_acc_mri: 73.9583 | Validation_loss_dna: 4.2673 | Validation_acc_dna: 10.9375\u001b[32m [repeated 3x across cluster]\u001b[0m\n"
     ]
    },
    {
     "name": "stderr",
     "output_type": "stream",
     "text": [
      "100%|\u001b[34m██████████\u001b[0m| 10/10 [00:39<00:00,  3.92s/it]\u001b[32m [repeated 4x across cluster]\u001b[0m\n",
      "DEBUG flwr 2024-08-05 07:58:42,508 | server.py:236 | fit_round 9 received 10 results and 0 failures\n"
     ]
    },
    {
     "name": "stdout",
     "output_type": "stream",
     "text": [
      "Saving round 9 aggregated_parameters...\n"
     ]
    },
    {
     "name": "stderr",
     "output_type": "stream",
     "text": [
      "DEBUG flwr 2024-08-05 07:58:44,463 | server.py:173 | evaluate_round 9: strategy sampled 10 clients (out of 10)\n"
     ]
    },
    {
     "name": "stdout",
     "output_type": "stream",
     "text": [
      "\u001b[36m(launch_and_evaluate pid=7443)\u001b[0m Run with homomorphic encryption\n",
      "\u001b[36m(launch_and_fit pid=7376)\u001b[0m save graph in  results/FL/\n",
      "\u001b[36m(launch_and_fit pid=7376)\u001b[0m fc2_dna.bias 9.5367431640625e-07\u001b[32m [repeated 23x across cluster]\u001b[0m\n",
      "\u001b[36m(launch_and_fit pid=7376)\u001b[0m dna_net.qnn.weights 9.5367431640625e-07\n",
      "\u001b[36m(launch_and_fit pid=7376)\u001b[0m attention.in_proj_weight 1.1920928955078125e-06\n",
      "\u001b[36m(launch_and_fit pid=7376)\u001b[0m attention.in_proj_bias 9.5367431640625e-07\n",
      "\u001b[36m(launch_and_fit pid=7376)\u001b[0m attention.out_proj.weight 9.5367431640625e-07\n",
      "\u001b[36m(launch_and_fit pid=7376)\u001b[0m attention.out_proj.bias 1.430511474609375e-06\n",
      "\u001b[36m(launch_and_fit pid=7376)\u001b[0m \tTrain Epoch: 10 \tTrain_loss_mri: 0.0314 | Train_acc_mri: 99.6875 | Train_loss_dna: 0.5091 | Train_acc_dna: 84.6528 | Validation_loss_mri: 0.3830 | Validation_acc_mri: 90.6250 | Validation_loss_dna: 6.5516 | Validation_acc_dna: 10.9375\n",
      "\u001b[36m(launch_and_evaluate pid=7443)\u001b[0m [Client 7] evaluate, config: {}\n",
      "\u001b[36m(launch_and_evaluate pid=7442)\u001b[0m Updated model\n",
      "\u001b[36m(launch_and_evaluate pid=7523)\u001b[0m Run with homomorphic encryption\u001b[32m [repeated 2x across cluster]\u001b[0m\n",
      "\u001b[36m(launch_and_evaluate pid=7442)\u001b[0m [Client 2] evaluate, config: {}\n",
      "\u001b[36m(launch_and_evaluate pid=7443)\u001b[0m Updated model\n",
      "\u001b[36m(launch_and_evaluate pid=7523)\u001b[0m [Client 3] evaluate, config: {}\n",
      "\u001b[36m(launch_and_evaluate pid=7523)\u001b[0m Updated model\n",
      "\u001b[36m(launch_and_evaluate pid=7599)\u001b[0m Run with homomorphic encryption\u001b[32m [repeated 2x across cluster]\u001b[0m\n",
      "\u001b[36m(launch_and_evaluate pid=7521)\u001b[0m [Client 0] evaluate, config: {}\n",
      "\u001b[36m(launch_and_evaluate pid=7521)\u001b[0m Updated model\n",
      "\u001b[36m(launch_and_evaluate pid=7599)\u001b[0m [Client 6] evaluate, config: {}\n",
      "\u001b[36m(launch_and_evaluate pid=7599)\u001b[0m Updated model\n",
      "\u001b[36m(launch_and_evaluate pid=7677)\u001b[0m Run with homomorphic encryption\u001b[32m [repeated 2x across cluster]\u001b[0m\n",
      "\u001b[36m(launch_and_evaluate pid=7601)\u001b[0m [Client 5] evaluate, config: {}\n",
      "\u001b[36m(launch_and_evaluate pid=7601)\u001b[0m Updated model\n",
      "\u001b[36m(launch_and_evaluate pid=7677)\u001b[0m [Client 8] evaluate, config: {}\n",
      "\u001b[36m(launch_and_evaluate pid=7677)\u001b[0m Updated model\n"
     ]
    },
    {
     "name": "stderr",
     "output_type": "stream",
     "text": [
      "\u001b[36m(launch_and_evaluate pid=7679)\u001b[0m /opt/conda/lib/python3.10/site-packages/sklearn/metrics/_ranking.py:1029: UndefinedMetricWarning: No positive samples in y_true, true positive value should be meaningless\n",
      "\u001b[36m(launch_and_evaluate pid=7679)\u001b[0m   warnings.warn(\n"
     ]
    },
    {
     "name": "stdout",
     "output_type": "stream",
     "text": [
      "\u001b[36m(launch_and_evaluate pid=7755)\u001b[0m Run with homomorphic encryption\u001b[32m [repeated 2x across cluster]\u001b[0m\n",
      "\u001b[36m(launch_and_evaluate pid=7679)\u001b[0m [Client 9] evaluate, config: {}\n",
      "\u001b[36m(launch_and_evaluate pid=7679)\u001b[0m Updated model\n",
      "\u001b[36m(launch_and_evaluate pid=7755)\u001b[0m [Client 1] evaluate, config: {}\n",
      "\u001b[36m(launch_and_evaluate pid=7755)\u001b[0m Updated model\n"
     ]
    },
    {
     "name": "stderr",
     "output_type": "stream",
     "text": [
      "\u001b[36m(launch_and_evaluate pid=7757)\u001b[0m /opt/conda/lib/python3.10/site-packages/sklearn/metrics/_ranking.py:1029: UndefinedMetricWarning: No positive samples in y_true, true positive value should be meaningless\u001b[32m [repeated 2x across cluster]\u001b[0m\n",
      "\u001b[36m(launch_and_evaluate pid=7757)\u001b[0m   warnings.warn(\u001b[32m [repeated 2x across cluster]\u001b[0m\n",
      "DEBUG flwr 2024-08-05 08:00:02,512 | server.py:187 | evaluate_round 9 received 10 results and 0 failures\n",
      "DEBUG flwr 2024-08-05 08:00:02,513 | server.py:222 | fit_round 10: strategy sampled 10 clients (out of 10)\n"
     ]
    },
    {
     "name": "stdout",
     "output_type": "stream",
     "text": [
      "\u001b[36m(launch_and_fit pid=7843)\u001b[0m Run with homomorphic encryption\u001b[32m [repeated 2x across cluster]\u001b[0m\n",
      "\u001b[36m(launch_and_evaluate pid=7757)\u001b[0m [Client 4] evaluate, config: {}\n",
      "\u001b[36m(launch_and_evaluate pid=7757)\u001b[0m Updated model\n",
      "\u001b[36m(launch_and_fit pid=7843)\u001b[0m [Client 5, round 10] fit, config: {'learning_rate': 0.003, 'batch_size': '32', 'server_round': 10, 'local_epochs': 10}\n",
      "\u001b[36m(launch_and_fit pid=7843)\u001b[0m Updated model\n"
     ]
    },
    {
     "name": "stderr",
     "output_type": "stream",
     "text": [
      "  0%|\u001b[34m          \u001b[0m| 0/10 [00:00<?, ?it/s]\n",
      " 10%|\u001b[34m█         \u001b[0m| 1/10 [00:04<00:39,  4.43s/it]\n"
     ]
    },
    {
     "name": "stdout",
     "output_type": "stream",
     "text": [
      "\u001b[36m(launch_and_fit pid=7843)\u001b[0m \tTrain Epoch: 1 \tTrain_loss_mri: 0.4158 | Train_acc_mri: 88.0671 | Train_loss_dna: 1.7528 | Train_acc_dna: 41.4005 | Validation_loss_mri: 0.4832 | Validation_acc_mri: 90.6250 | Validation_loss_dna: 6.6650 | Validation_acc_dna: 9.3750\n",
      "\u001b[36m(launch_and_fit pid=7842)\u001b[0m Run with homomorphic encryption\n",
      "\u001b[36m(launch_and_fit pid=7842)\u001b[0m [Client 4, round 10] fit, config: {'learning_rate': 0.003, 'batch_size': '32', 'server_round': 10, 'local_epochs': 10}\n"
     ]
    },
    {
     "name": "stderr",
     "output_type": "stream",
     "text": [
      "  0%|\u001b[34m          \u001b[0m| 0/10 [00:00<?, ?it/s]\n"
     ]
    },
    {
     "name": "stdout",
     "output_type": "stream",
     "text": [
      "\u001b[36m(launch_and_fit pid=7842)\u001b[0m Updated model\n"
     ]
    },
    {
     "name": "stderr",
     "output_type": "stream",
     "text": [
      " 30%|\u001b[34m███       \u001b[0m| 3/10 [00:11<00:27,  3.95s/it]\u001b[32m [repeated 4x across cluster]\u001b[0m\n"
     ]
    },
    {
     "name": "stdout",
     "output_type": "stream",
     "text": [
      "\u001b[36m(launch_and_fit pid=7842)\u001b[0m \tTrain Epoch: 3 \tTrain_loss_mri: 0.0822 | Train_acc_mri: 98.1250 | Train_loss_dna: 0.9141 | Train_acc_dna: 64.6181 | Validation_loss_mri: 1.7515 | Validation_acc_mri: 67.7083 | Validation_loss_dna: 2.1306 | Validation_acc_dna: 14.0625\u001b[32m [repeated 4x across cluster]\u001b[0m\n"
     ]
    },
    {
     "name": "stderr",
     "output_type": "stream",
     "text": [
      " 50%|\u001b[34m█████     \u001b[0m| 5/10 [00:19<00:18,  3.79s/it]\u001b[32m [repeated 4x across cluster]\u001b[0m\n"
     ]
    },
    {
     "name": "stdout",
     "output_type": "stream",
     "text": [
      "\u001b[36m(launch_and_fit pid=7842)\u001b[0m \tTrain Epoch: 5 \tTrain_loss_mri: 0.0343 | Train_acc_mri: 99.0625 | Train_loss_dna: 0.6449 | Train_acc_dna: 77.7778 | Validation_loss_mri: 2.1666 | Validation_acc_mri: 66.1458 | Validation_loss_dna: 2.1705 | Validation_acc_dna: 29.1667\u001b[32m [repeated 4x across cluster]\u001b[0m\n"
     ]
    },
    {
     "name": "stderr",
     "output_type": "stream",
     "text": [
      " 70%|\u001b[34m███████   \u001b[0m| 7/10 [00:26<00:11,  3.77s/it]\u001b[32m [repeated 4x across cluster]\u001b[0m\n"
     ]
    },
    {
     "name": "stdout",
     "output_type": "stream",
     "text": [
      "\u001b[36m(launch_and_fit pid=7842)\u001b[0m \tTrain Epoch: 7 \tTrain_loss_mri: 0.0467 | Train_acc_mri: 98.7500 | Train_loss_dna: 0.5741 | Train_acc_dna: 80.8218 | Validation_loss_mri: 1.9569 | Validation_acc_mri: 69.2708 | Validation_loss_dna: 2.7972 | Validation_acc_dna: 29.1667\u001b[32m [repeated 4x across cluster]\u001b[0m\n"
     ]
    },
    {
     "name": "stderr",
     "output_type": "stream",
     "text": [
      " 90%|\u001b[34m█████████ \u001b[0m| 9/10 [00:34<00:03,  3.73s/it]\u001b[32m [repeated 4x across cluster]\u001b[0m\n"
     ]
    },
    {
     "name": "stdout",
     "output_type": "stream",
     "text": [
      "\u001b[36m(launch_and_fit pid=7842)\u001b[0m \tTrain Epoch: 9 \tTrain_loss_mri: 0.0194 | Train_acc_mri: 99.3750 | Train_loss_dna: 0.4904 | Train_acc_dna: 83.5995 | Validation_loss_mri: 2.6132 | Validation_acc_mri: 63.0208 | Validation_loss_dna: 2.7386 | Validation_acc_dna: 29.1667\u001b[32m [repeated 4x across cluster]\u001b[0m\n",
      "\u001b[36m(launch_and_fit pid=7842)\u001b[0m save graph in  results/FL/\n",
      "\u001b[36m(launch_and_fit pid=7842)\u001b[0m mri_net.features.0.weight 5.7220458984375e-06\n",
      "\u001b[36m(launch_and_fit pid=7842)\u001b[0m mri_net.features.0.bias 1.430511474609375e-06\n",
      "\u001b[36m(launch_and_fit pid=7842)\u001b[0m mri_net.features.3.weight 1.1920928955078125e-06\n",
      "\u001b[36m(launch_and_fit pid=7842)\u001b[0m mri_net.features.3.bias 9.5367431640625e-07\n",
      "\u001b[36m(launch_and_fit pid=7842)\u001b[0m mri_net.classifier.0.weight 1.1920928955078125e-06\n",
      "\u001b[36m(launch_and_fit pid=7842)\u001b[0m mri_net.classifier.0.bias 9.5367431640625e-07\n",
      "\u001b[36m(launch_and_fit pid=7842)\u001b[0m mri_net.classifier.2.weight 7.152557373046875e-07\n",
      "\u001b[36m(launch_and_fit pid=7842)\u001b[0m mri_net.classifier.2.bias 1.1920928955078125e-06\n",
      "\u001b[36m(launch_and_fit pid=7842)\u001b[0m mri_net.classifier.3.weights 9.5367431640625e-07\n",
      "\u001b[36m(launch_and_fit pid=7842)\u001b[0m dna_net.fc1.weight 9.5367431640625e-07\n",
      "\u001b[36m(launch_and_fit pid=7842)\u001b[0m dna_net.fc1.bias 1.1920928955078125e-06\n",
      "\u001b[36m(launch_and_fit pid=7842)\u001b[0m dna_net.fc2.weight 9.5367431640625e-07\n",
      "\u001b[36m(launch_and_fit pid=7842)\u001b[0m dna_net.fc2.bias 9.5367431640625e-07\n",
      "\u001b[36m(launch_and_fit pid=7842)\u001b[0m dna_net.fc3.weight 9.5367431640625e-07\n",
      "\u001b[36m(launch_and_fit pid=7842)\u001b[0m dna_net.fc3.bias 9.5367431640625e-07\n",
      "\u001b[36m(launch_and_fit pid=7842)\u001b[0m dna_net.fc4.weight 9.5367431640625e-07\n",
      "\u001b[36m(launch_and_fit pid=7842)\u001b[0m dna_net.fc4.bias 9.5367431640625e-07\n",
      "\u001b[36m(launch_and_fit pid=7842)\u001b[0m dna_net.qnn.weights 1.1920928955078125e-06\n",
      "\u001b[36m(launch_and_fit pid=7842)\u001b[0m attention.in_proj_weight 7.152557373046875e-07\n",
      "\u001b[36m(launch_and_fit pid=7842)\u001b[0m attention.in_proj_bias 7.152557373046875e-07\n",
      "\u001b[36m(launch_and_fit pid=7842)\u001b[0m attention.out_proj.weight 9.5367431640625e-07\n",
      "\u001b[36m(launch_and_fit pid=7842)\u001b[0m attention.out_proj.bias 9.5367431640625e-07\n",
      "\u001b[36m(launch_and_fit pid=7842)\u001b[0m fc1.weight 1.1920928955078125e-06\n",
      "\u001b[36m(launch_and_fit pid=7842)\u001b[0m fc1.bias 1.430511474609375e-06\n",
      "\u001b[36m(launch_and_fit pid=7842)\u001b[0m fc2_mri.weight 1.9073486328125e-06\n",
      "\u001b[36m(launch_and_fit pid=7842)\u001b[0m fc2_mri.bias 1.1920928955078125e-06\n",
      "\u001b[36m(launch_and_fit pid=7842)\u001b[0m fc2_dna.weight 9.5367431640625e-07\n",
      "\u001b[36m(launch_and_fit pid=7842)\u001b[0m fc2_dna.bias 9.5367431640625e-07\n",
      "\u001b[36m(launch_and_fit pid=7843)\u001b[0m \tTrain Epoch: 10 \tTrain_loss_mri: 0.0239 | Train_acc_mri: 99.3750 | Train_loss_dna: 0.4388 | Train_acc_dna: 88.0671 | Validation_loss_mri: 0.3814 | Validation_acc_mri: 89.0625 | Validation_loss_dna: 5.3570 | Validation_acc_dna: 14.0625\u001b[32m [repeated 3x across cluster]\u001b[0m\n",
      "\u001b[36m(launch_and_fit pid=7925)\u001b[0m Run with homomorphic encryption\n",
      "\u001b[36m(launch_and_fit pid=7843)\u001b[0m save graph in  results/FL/\n",
      "\u001b[36m(launch_and_fit pid=7843)\u001b[0m fc2_dna.bias 1.430511474609375e-06\u001b[32m [repeated 23x across cluster]\u001b[0m\n",
      "\u001b[36m(launch_and_fit pid=7843)\u001b[0m dna_net.qnn.weights 1.430511474609375e-06\n",
      "\u001b[36m(launch_and_fit pid=7843)\u001b[0m attention.in_proj_weight 1.430511474609375e-06\n",
      "\u001b[36m(launch_and_fit pid=7843)\u001b[0m attention.in_proj_bias 1.6689300537109375e-06\n",
      "\u001b[36m(launch_and_fit pid=7843)\u001b[0m attention.out_proj.weight 1.1920928955078125e-06\n",
      "\u001b[36m(launch_and_fit pid=7843)\u001b[0m attention.out_proj.bias 1.1920928955078125e-06\n",
      "\u001b[36m(launch_and_fit pid=7925)\u001b[0m [Client 2, round 10] fit, config: {'learning_rate': 0.003, 'batch_size': '32', 'server_round': 10, 'local_epochs': 10}\n"
     ]
    },
    {
     "name": "stderr",
     "output_type": "stream",
     "text": [
      "  0%|\u001b[34m          \u001b[0m| 0/10 [00:00<?, ?it/s]\n",
      "100%|\u001b[34m██████████\u001b[0m| 10/10 [00:39<00:00,  3.90s/it]\u001b[32m [repeated 3x across cluster]\u001b[0m\n"
     ]
    },
    {
     "name": "stdout",
     "output_type": "stream",
     "text": [
      "\u001b[36m(launch_and_fit pid=7925)\u001b[0m Updated model\n",
      "\u001b[36m(launch_and_fit pid=7925)\u001b[0m \tTrain Epoch: 1 \tTrain_loss_mri: 0.2915 | Train_acc_mri: 90.0000 | Train_loss_dna: 1.7322 | Train_acc_dna: 42.5116 | Validation_loss_mri: 0.4397 | Validation_acc_mri: 87.5000 | Validation_loss_dna: 2.7706 | Validation_acc_dna: 29.1667\n",
      "\u001b[36m(launch_and_fit pid=7950)\u001b[0m Run with homomorphic encryption\n",
      "\u001b[36m(launch_and_fit pid=7950)\u001b[0m [Client 9, round 10] fit, config: {'learning_rate': 0.003, 'batch_size': '32', 'server_round': 10, 'local_epochs': 10}\n"
     ]
    },
    {
     "name": "stderr",
     "output_type": "stream",
     "text": [
      "  0%|\u001b[34m          \u001b[0m| 0/10 [00:00<?, ?it/s]\n",
      " 10%|\u001b[34m█         \u001b[0m| 1/10 [00:04<00:38,  4.24s/it]\u001b[32m [repeated 2x across cluster]\u001b[0m\n"
     ]
    },
    {
     "name": "stdout",
     "output_type": "stream",
     "text": [
      "\u001b[36m(launch_and_fit pid=7950)\u001b[0m Updated model\n"
     ]
    },
    {
     "name": "stderr",
     "output_type": "stream",
     "text": [
      " 30%|\u001b[34m███       \u001b[0m| 3/10 [00:11<00:27,  3.87s/it]\u001b[32m [repeated 3x across cluster]\u001b[0m\n"
     ]
    },
    {
     "name": "stdout",
     "output_type": "stream",
     "text": [
      "\u001b[36m(launch_and_fit pid=7925)\u001b[0m \tTrain Epoch: 3 \tTrain_loss_mri: 0.1721 | Train_acc_mri: 94.0625 | Train_loss_dna: 1.0802 | Train_acc_dna: 58.4259 | Validation_loss_mri: 0.6279 | Validation_acc_mri: 70.8333 | Validation_loss_dna: 2.4602 | Validation_acc_dna: 44.2708\u001b[32m [repeated 4x across cluster]\u001b[0m\n"
     ]
    },
    {
     "name": "stderr",
     "output_type": "stream",
     "text": [
      " 50%|\u001b[34m█████     \u001b[0m| 5/10 [00:19<00:19,  3.90s/it]\u001b[32m [repeated 4x across cluster]\u001b[0m\n"
     ]
    },
    {
     "name": "stdout",
     "output_type": "stream",
     "text": [
      "\u001b[36m(launch_and_fit pid=7925)\u001b[0m \tTrain Epoch: 5 \tTrain_loss_mri: 0.0284 | Train_acc_mri: 99.6875 | Train_loss_dna: 0.7855 | Train_acc_dna: 70.0463 | Validation_loss_mri: 0.4598 | Validation_acc_mri: 90.6250 | Validation_loss_dna: 2.5094 | Validation_acc_dna: 26.0417\u001b[32m [repeated 4x across cluster]\u001b[0m\n"
     ]
    },
    {
     "name": "stderr",
     "output_type": "stream",
     "text": [
      " 70%|\u001b[34m███████   \u001b[0m| 7/10 [00:27<00:11,  3.83s/it]\u001b[32m [repeated 4x across cluster]\u001b[0m\n"
     ]
    },
    {
     "name": "stdout",
     "output_type": "stream",
     "text": [
      "\u001b[36m(launch_and_fit pid=7925)\u001b[0m \tTrain Epoch: 7 \tTrain_loss_mri: 0.0166 | Train_acc_mri: 100.0000 | Train_loss_dna: 0.6757 | Train_acc_dna: 75.7292 | Validation_loss_mri: 0.5772 | Validation_acc_mri: 75.5208 | Validation_loss_dna: 3.0381 | Validation_acc_dna: 27.6042\u001b[32m [repeated 4x across cluster]\u001b[0m\n"
     ]
    },
    {
     "name": "stderr",
     "output_type": "stream",
     "text": [
      " 90%|\u001b[34m█████████ \u001b[0m| 9/10 [00:34<00:03,  3.82s/it]\u001b[32m [repeated 4x across cluster]\u001b[0m\n"
     ]
    },
    {
     "name": "stdout",
     "output_type": "stream",
     "text": [
      "\u001b[36m(launch_and_fit pid=7925)\u001b[0m \tTrain Epoch: 9 \tTrain_loss_mri: 0.0227 | Train_acc_mri: 99.6875 | Train_loss_dna: 0.5653 | Train_acc_dna: 81.9560 | Validation_loss_mri: 0.4908 | Validation_acc_mri: 87.5000 | Validation_loss_dna: 3.1926 | Validation_acc_dna: 26.0417\u001b[32m [repeated 4x across cluster]\u001b[0m\n",
      "\u001b[36m(launch_and_fit pid=7925)\u001b[0m save graph in  results/FL/\n",
      "\u001b[36m(launch_and_fit pid=7925)\u001b[0m mri_net.features.0.weight 5.0067901611328125e-06\n",
      "\u001b[36m(launch_and_fit pid=7925)\u001b[0m mri_net.features.0.bias 1.430511474609375e-06\n",
      "\u001b[36m(launch_and_fit pid=7925)\u001b[0m mri_net.features.3.weight 1.1920928955078125e-06\n",
      "\u001b[36m(launch_and_fit pid=7925)\u001b[0m mri_net.features.3.bias 9.5367431640625e-07\n",
      "\u001b[36m(launch_and_fit pid=7925)\u001b[0m mri_net.classifier.0.weight 1.1920928955078125e-06\n",
      "\u001b[36m(launch_and_fit pid=7925)\u001b[0m mri_net.classifier.0.bias 9.5367431640625e-07\n",
      "\u001b[36m(launch_and_fit pid=7925)\u001b[0m mri_net.classifier.2.weight 1.1920928955078125e-06\n",
      "\u001b[36m(launch_and_fit pid=7925)\u001b[0m mri_net.classifier.2.bias 9.5367431640625e-07\n",
      "\u001b[36m(launch_and_fit pid=7925)\u001b[0m mri_net.classifier.3.weights 9.5367431640625e-07\n",
      "\u001b[36m(launch_and_fit pid=7925)\u001b[0m dna_net.fc1.weight 1.6689300537109375e-06\n",
      "\u001b[36m(launch_and_fit pid=7925)\u001b[0m dna_net.fc1.bias 1.430511474609375e-06\n",
      "\u001b[36m(launch_and_fit pid=7925)\u001b[0m dna_net.fc2.weight 9.5367431640625e-07\n",
      "\u001b[36m(launch_and_fit pid=7925)\u001b[0m dna_net.fc2.bias 1.1920928955078125e-06\n",
      "\u001b[36m(launch_and_fit pid=7925)\u001b[0m dna_net.fc3.weight 7.152557373046875e-07\n",
      "\u001b[36m(launch_and_fit pid=7925)\u001b[0m dna_net.fc3.bias 9.5367431640625e-07\n",
      "\u001b[36m(launch_and_fit pid=7925)\u001b[0m dna_net.fc4.weight 1.1920928955078125e-06\n",
      "\u001b[36m(launch_and_fit pid=7925)\u001b[0m dna_net.fc4.bias 9.5367431640625e-07\n",
      "\u001b[36m(launch_and_fit pid=7925)\u001b[0m dna_net.qnn.weights 9.5367431640625e-07\n",
      "\u001b[36m(launch_and_fit pid=7925)\u001b[0m attention.in_proj_weight 1.1920928955078125e-06\n",
      "\u001b[36m(launch_and_fit pid=7925)\u001b[0m attention.in_proj_bias 9.5367431640625e-07\n",
      "\u001b[36m(launch_and_fit pid=7925)\u001b[0m attention.out_proj.weight 9.5367431640625e-07\n",
      "\u001b[36m(launch_and_fit pid=7925)\u001b[0m attention.out_proj.bias 9.5367431640625e-07\n",
      "\u001b[36m(launch_and_fit pid=7925)\u001b[0m fc1.weight 9.5367431640625e-07\n",
      "\u001b[36m(launch_and_fit pid=7925)\u001b[0m fc1.bias 9.5367431640625e-07\n",
      "\u001b[36m(launch_and_fit pid=7925)\u001b[0m fc2_mri.weight 9.5367431640625e-07\n",
      "\u001b[36m(launch_and_fit pid=7925)\u001b[0m fc2_mri.bias 1.1920928955078125e-06\n",
      "\u001b[36m(launch_and_fit pid=7925)\u001b[0m fc2_dna.weight 9.5367431640625e-07\n",
      "\u001b[36m(launch_and_fit pid=7925)\u001b[0m fc2_dna.bias 9.5367431640625e-07\n",
      "\u001b[36m(launch_and_fit pid=7950)\u001b[0m \tTrain Epoch: 10 \tTrain_loss_mri: 0.0368 | Train_acc_mri: 99.3750 | Train_loss_dna: 0.5031 | Train_acc_dna: 82.7419 | Validation_loss_mri: 0.4401 | Validation_acc_mri: 89.0625 | Validation_loss_dna: 3.1237 | Validation_acc_dna: 27.6042\u001b[32m [repeated 3x across cluster]\u001b[0m\n",
      "\u001b[36m(launch_and_fit pid=8007)\u001b[0m Run with homomorphic encryption\n",
      "\u001b[36m(launch_and_fit pid=7950)\u001b[0m save graph in  results/FL/\n",
      "\u001b[36m(launch_and_fit pid=7950)\u001b[0m fc2_dna.bias 1.1920928955078125e-06\u001b[32m [repeated 23x across cluster]\u001b[0m\n",
      "\u001b[36m(launch_and_fit pid=7950)\u001b[0m dna_net.qnn.weights 1.1920928955078125e-06\n",
      "\u001b[36m(launch_and_fit pid=7950)\u001b[0m attention.in_proj_weight 1.1920928955078125e-06\n",
      "\u001b[36m(launch_and_fit pid=7950)\u001b[0m attention.in_proj_bias 9.5367431640625e-07\n",
      "\u001b[36m(launch_and_fit pid=7950)\u001b[0m attention.out_proj.weight 9.5367431640625e-07\n",
      "\u001b[36m(launch_and_fit pid=7950)\u001b[0m attention.out_proj.bias 1.1920928955078125e-06\n",
      "\u001b[36m(launch_and_fit pid=8007)\u001b[0m [Client 0, round 10] fit, config: {'learning_rate': 0.003, 'batch_size': '32', 'server_round': 10, 'local_epochs': 10}\n",
      "\u001b[36m(launch_and_fit pid=8007)\u001b[0m Updated model\n"
     ]
    },
    {
     "name": "stderr",
     "output_type": "stream",
     "text": [
      "  0%|\u001b[34m          \u001b[0m| 0/10 [00:00<?, ?it/s]\n",
      "100%|\u001b[34m██████████\u001b[0m| 10/10 [00:38<00:00,  3.86s/it]\u001b[32m [repeated 3x across cluster]\u001b[0m\n"
     ]
    },
    {
     "name": "stdout",
     "output_type": "stream",
     "text": [
      "\u001b[36m(launch_and_fit pid=8007)\u001b[0m \tTrain Epoch: 1 \tTrain_loss_mri: 0.3685 | Train_acc_mri: 88.3449 | Train_loss_dna: 1.7704 | Train_acc_dna: 44.4213 | Validation_loss_mri: 0.6285 | Validation_acc_mri: 85.9375 | Validation_loss_dna: 4.0331 | Validation_acc_dna: 17.1875\n",
      "\u001b[36m(launch_and_fit pid=8032)\u001b[0m Run with homomorphic encryption\n",
      "\u001b[36m(launch_and_fit pid=8032)\u001b[0m [Client 3, round 10] fit, config: {'learning_rate': 0.003, 'batch_size': '32', 'server_round': 10, 'local_epochs': 10}\n",
      "\u001b[36m(launch_and_fit pid=8032)\u001b[0m Updated model\n"
     ]
    },
    {
     "name": "stderr",
     "output_type": "stream",
     "text": [
      "  0%|\u001b[34m          \u001b[0m| 0/10 [00:00<?, ?it/s]\n",
      " 10%|\u001b[34m█         \u001b[0m| 1/10 [00:04<00:39,  4.34s/it]\u001b[32m [repeated 2x across cluster]\u001b[0m\n"
     ]
    },
    {
     "name": "stdout",
     "output_type": "stream",
     "text": [
      "\u001b[36m(launch_and_fit pid=8007)\u001b[0m \tTrain Epoch: 3 \tTrain_loss_mri: 0.1974 | Train_acc_mri: 91.8750 | Train_loss_dna: 1.0196 | Train_acc_dna: 59.9306 | Validation_loss_mri: 1.8729 | Validation_acc_mri: 51.0417 | Validation_loss_dna: 3.3456 | Validation_acc_dna: 20.3125\u001b[32m [repeated 4x across cluster]\u001b[0m\n"
     ]
    },
    {
     "name": "stderr",
     "output_type": "stream",
     "text": [
      " 30%|\u001b[34m███       \u001b[0m| 3/10 [00:11<00:27,  3.89s/it]\u001b[32m [repeated 3x across cluster]\u001b[0m\n"
     ]
    },
    {
     "name": "stdout",
     "output_type": "stream",
     "text": [
      "\u001b[36m(launch_and_fit pid=8032)\u001b[0m \tTrain Epoch: 4 \tTrain_loss_mri: 0.0625 | Train_acc_mri: 98.4375 | Train_loss_dna: 0.8492 | Train_acc_dna: 68.6574 | Validation_loss_mri: 0.5092 | Validation_acc_mri: 90.6250 | Validation_loss_dna: 3.1171 | Validation_acc_dna: 24.4792\u001b[32m [repeated 3x across cluster]\u001b[0m\n"
     ]
    },
    {
     "name": "stderr",
     "output_type": "stream",
     "text": [
      " 40%|\u001b[34m████      \u001b[0m| 4/10 [00:16<00:23,  3.97s/it]\u001b[32m [repeated 3x across cluster]\u001b[0m\n"
     ]
    },
    {
     "name": "stdout",
     "output_type": "stream",
     "text": [
      "\u001b[36m(launch_and_fit pid=8007)\u001b[0m \tTrain Epoch: 6 \tTrain_loss_mri: 0.0361 | Train_acc_mri: 99.3171 | Train_loss_dna: 0.7014 | Train_acc_dna: 75.5903 | Validation_loss_mri: 1.7380 | Validation_acc_mri: 52.6042 | Validation_loss_dna: 3.7556 | Validation_acc_dna: 14.0625\u001b[32m [repeated 3x across cluster]\u001b[0m\n"
     ]
    },
    {
     "name": "stderr",
     "output_type": "stream",
     "text": [
      " 60%|\u001b[34m██████    \u001b[0m| 6/10 [00:23<00:15,  3.84s/it]\u001b[32m [repeated 3x across cluster]\u001b[0m\n"
     ]
    },
    {
     "name": "stdout",
     "output_type": "stream",
     "text": [
      "\u001b[36m(launch_and_fit pid=8032)\u001b[0m \tTrain Epoch: 7 \tTrain_loss_mri: 0.0143 | Train_acc_mri: 100.0000 | Train_loss_dna: 0.5737 | Train_acc_dna: 84.2245 | Validation_loss_mri: 0.5924 | Validation_acc_mri: 89.0625 | Validation_loss_dna: 4.1956 | Validation_acc_dna: 21.3542\u001b[32m [repeated 3x across cluster]\u001b[0m\n"
     ]
    },
    {
     "name": "stderr",
     "output_type": "stream",
     "text": [
      " 70%|\u001b[34m███████   \u001b[0m| 7/10 [00:27<00:11,  3.98s/it]\u001b[32m [repeated 3x across cluster]\u001b[0m\n"
     ]
    },
    {
     "name": "stdout",
     "output_type": "stream",
     "text": [
      "\u001b[36m(launch_and_fit pid=8007)\u001b[0m \tTrain Epoch: 9 \tTrain_loss_mri: 0.0324 | Train_acc_mri: 99.3171 | Train_loss_dna: 0.5727 | Train_acc_dna: 82.5231 | Validation_loss_mri: 2.2240 | Validation_acc_mri: 51.0417 | Validation_loss_dna: 4.3556 | Validation_acc_dna: 14.0625\u001b[32m [repeated 3x across cluster]\u001b[0m\n"
     ]
    },
    {
     "name": "stderr",
     "output_type": "stream",
     "text": [
      " 90%|\u001b[34m█████████ \u001b[0m| 9/10 [00:35<00:03,  3.93s/it]\u001b[32m [repeated 3x across cluster]\u001b[0m\n"
     ]
    },
    {
     "name": "stdout",
     "output_type": "stream",
     "text": [
      "\u001b[36m(launch_and_fit pid=8007)\u001b[0m save graph in  results/FL/\n",
      "\u001b[36m(launch_and_fit pid=8007)\u001b[0m mri_net.features.0.weight 5.245208740234375e-06\n",
      "\u001b[36m(launch_and_fit pid=8007)\u001b[0m mri_net.features.0.bias 1.430511474609375e-06\n",
      "\u001b[36m(launch_and_fit pid=8007)\u001b[0m mri_net.features.3.weight 9.5367431640625e-07\n",
      "\u001b[36m(launch_and_fit pid=8007)\u001b[0m mri_net.features.3.bias 1.430511474609375e-06\n",
      "\u001b[36m(launch_and_fit pid=8007)\u001b[0m mri_net.classifier.0.weight 1.1920928955078125e-06\n",
      "\u001b[36m(launch_and_fit pid=8007)\u001b[0m mri_net.classifier.0.bias 1.1920928955078125e-06\n",
      "\u001b[36m(launch_and_fit pid=8007)\u001b[0m mri_net.classifier.2.weight 1.1920928955078125e-06\n",
      "\u001b[36m(launch_and_fit pid=8007)\u001b[0m mri_net.classifier.2.bias 1.1920928955078125e-06\n",
      "\u001b[36m(launch_and_fit pid=8007)\u001b[0m mri_net.classifier.3.weights 1.430511474609375e-06\n",
      "\u001b[36m(launch_and_fit pid=8007)\u001b[0m dna_net.fc1.weight 9.5367431640625e-07\n",
      "\u001b[36m(launch_and_fit pid=8007)\u001b[0m dna_net.fc1.bias 1.1920928955078125e-06\n",
      "\u001b[36m(launch_and_fit pid=8007)\u001b[0m dna_net.fc2.weight 9.5367431640625e-07\n",
      "\u001b[36m(launch_and_fit pid=8007)\u001b[0m dna_net.fc2.bias 9.5367431640625e-07\n",
      "\u001b[36m(launch_and_fit pid=8007)\u001b[0m dna_net.fc3.weight 1.1920928955078125e-06\n",
      "\u001b[36m(launch_and_fit pid=8007)\u001b[0m dna_net.fc3.bias 9.5367431640625e-07\n",
      "\u001b[36m(launch_and_fit pid=8007)\u001b[0m dna_net.fc4.weight 9.5367431640625e-07\n",
      "\u001b[36m(launch_and_fit pid=8007)\u001b[0m dna_net.fc4.bias 1.430511474609375e-06\n",
      "\u001b[36m(launch_and_fit pid=8007)\u001b[0m dna_net.qnn.weights 9.5367431640625e-07\n",
      "\u001b[36m(launch_and_fit pid=8007)\u001b[0m attention.in_proj_weight 9.5367431640625e-07\n",
      "\u001b[36m(launch_and_fit pid=8007)\u001b[0m attention.in_proj_bias 9.5367431640625e-07\n",
      "\u001b[36m(launch_and_fit pid=8007)\u001b[0m attention.out_proj.weight 9.5367431640625e-07\n",
      "\u001b[36m(launch_and_fit pid=8007)\u001b[0m attention.out_proj.bias 1.1920928955078125e-06\n",
      "\u001b[36m(launch_and_fit pid=8007)\u001b[0m fc1.weight 1.1920928955078125e-06\n",
      "\u001b[36m(launch_and_fit pid=8007)\u001b[0m fc1.bias 9.5367431640625e-07\n",
      "\u001b[36m(launch_and_fit pid=8007)\u001b[0m fc2_mri.weight 1.1920928955078125e-06\n",
      "\u001b[36m(launch_and_fit pid=8007)\u001b[0m fc2_mri.bias 1.1920928955078125e-06\n",
      "\u001b[36m(launch_and_fit pid=8007)\u001b[0m fc2_dna.weight 9.5367431640625e-07\n",
      "\u001b[36m(launch_and_fit pid=8007)\u001b[0m fc2_dna.bias 9.5367431640625e-07\n",
      "\u001b[36m(launch_and_fit pid=8032)\u001b[0m \tTrain Epoch: 10 \tTrain_loss_mri: 0.0167 | Train_acc_mri: 99.6875 | Train_loss_dna: 0.4648 | Train_acc_dna: 88.0093 | Validation_loss_mri: 0.7040 | Validation_acc_mri: 85.9375 | Validation_loss_dna: 4.9382 | Validation_acc_dna: 6.2500\u001b[32m [repeated 3x across cluster]\u001b[0m\n"
     ]
    },
    {
     "name": "stderr",
     "output_type": "stream",
     "text": [
      "100%|\u001b[34m██████████\u001b[0m| 10/10 [00:39<00:00,  3.96s/it]\u001b[32m [repeated 3x across cluster]\u001b[0m\n"
     ]
    },
    {
     "name": "stdout",
     "output_type": "stream",
     "text": [
      "\u001b[36m(launch_and_fit pid=8089)\u001b[0m Run with homomorphic encryption\n",
      "\u001b[36m(launch_and_fit pid=8032)\u001b[0m save graph in  results/FL/\n",
      "\u001b[36m(launch_and_fit pid=8032)\u001b[0m fc2_dna.bias 1.1920928955078125e-06\u001b[32m [repeated 23x across cluster]\u001b[0m\n",
      "\u001b[36m(launch_and_fit pid=8032)\u001b[0m dna_net.qnn.weights 1.1920928955078125e-06\n",
      "\u001b[36m(launch_and_fit pid=8032)\u001b[0m attention.in_proj_weight 1.430511474609375e-06\n",
      "\u001b[36m(launch_and_fit pid=8032)\u001b[0m attention.in_proj_bias 1.1920928955078125e-06\n",
      "\u001b[36m(launch_and_fit pid=8032)\u001b[0m attention.out_proj.weight 9.5367431640625e-07\n",
      "\u001b[36m(launch_and_fit pid=8032)\u001b[0m attention.out_proj.bias 9.5367431640625e-07\n",
      "\u001b[36m(launch_and_fit pid=8089)\u001b[0m [Client 1, round 10] fit, config: {'learning_rate': 0.003, 'batch_size': '32', 'server_round': 10, 'local_epochs': 10}\n"
     ]
    },
    {
     "name": "stderr",
     "output_type": "stream",
     "text": [
      "  0%|\u001b[34m          \u001b[0m| 0/10 [00:00<?, ?it/s]\n"
     ]
    },
    {
     "name": "stdout",
     "output_type": "stream",
     "text": [
      "\u001b[36m(launch_and_fit pid=8089)\u001b[0m Updated model\n"
     ]
    },
    {
     "name": "stderr",
     "output_type": "stream",
     "text": [
      " 10%|\u001b[34m█         \u001b[0m| 1/10 [00:04<00:38,  4.27s/it]\n"
     ]
    },
    {
     "name": "stdout",
     "output_type": "stream",
     "text": [
      "\u001b[36m(launch_and_fit pid=8089)\u001b[0m \tTrain Epoch: 1 \tTrain_loss_mri: 0.2778 | Train_acc_mri: 90.4514 | Train_loss_dna: 1.8538 | Train_acc_dna: 38.5069 | Validation_loss_mri: 0.7567 | Validation_acc_mri: 72.3958 | Validation_loss_dna: 3.2568 | Validation_acc_dna: 9.3750\n",
      "\u001b[36m(launch_and_fit pid=8114)\u001b[0m Run with homomorphic encryption\n",
      "\u001b[36m(launch_and_fit pid=8114)\u001b[0m [Client 7, round 10] fit, config: {'learning_rate': 0.003, 'batch_size': '32', 'server_round': 10, 'local_epochs': 10}\n",
      "\u001b[36m(launch_and_fit pid=8114)\u001b[0m Updated model\n"
     ]
    },
    {
     "name": "stderr",
     "output_type": "stream",
     "text": [
      "  0%|\u001b[34m          \u001b[0m| 0/10 [00:00<?, ?it/s]\n"
     ]
    },
    {
     "name": "stdout",
     "output_type": "stream",
     "text": [
      "\u001b[36m(launch_and_fit pid=8114)\u001b[0m \tTrain Epoch: 2 \tTrain_loss_mri: 0.2129 | Train_acc_mri: 92.7546 | Train_loss_dna: 1.2828 | Train_acc_dna: 50.9259 | Validation_loss_mri: 0.4880 | Validation_acc_mri: 93.7500 | Validation_loss_dna: 1.8207 | Validation_acc_dna: 60.9375\u001b[32m [repeated 3x across cluster]\u001b[0m\n"
     ]
    },
    {
     "name": "stderr",
     "output_type": "stream",
     "text": [
      " 20%|\u001b[34m██        \u001b[0m| 2/10 [00:08<00:33,  4.14s/it]\u001b[32m [repeated 3x across cluster]\u001b[0m\n",
      " 40%|\u001b[34m████      \u001b[0m| 4/10 [00:15<00:23,  3.89s/it]\u001b[32m [repeated 3x across cluster]\u001b[0m\n"
     ]
    },
    {
     "name": "stdout",
     "output_type": "stream",
     "text": [
      "\u001b[36m(launch_and_fit pid=8089)\u001b[0m \tTrain Epoch: 4 \tTrain_loss_mri: 0.0851 | Train_acc_mri: 97.1296 | Train_loss_dna: 0.8834 | Train_acc_dna: 67.8819 | Validation_loss_mri: 0.4820 | Validation_acc_mri: 90.6250 | Validation_loss_dna: 3.8737 | Validation_acc_dna: 9.3750\u001b[32m [repeated 3x across cluster]\u001b[0m\n"
     ]
    },
    {
     "name": "stderr",
     "output_type": "stream",
     "text": [
      " 60%|\u001b[34m██████    \u001b[0m| 6/10 [00:23<00:15,  3.87s/it]\u001b[32m [repeated 4x across cluster]\u001b[0m\n"
     ]
    },
    {
     "name": "stdout",
     "output_type": "stream",
     "text": [
      "\u001b[36m(launch_and_fit pid=8089)\u001b[0m \tTrain Epoch: 6 \tTrain_loss_mri: 0.0282 | Train_acc_mri: 100.0000 | Train_loss_dna: 0.6913 | Train_acc_dna: 78.6574 | Validation_loss_mri: 0.6165 | Validation_acc_mri: 75.5208 | Validation_loss_dna: 3.7922 | Validation_acc_dna: 9.3750\u001b[32m [repeated 4x across cluster]\u001b[0m\n"
     ]
    },
    {
     "name": "stderr",
     "output_type": "stream",
     "text": [
      " 80%|\u001b[34m████████  \u001b[0m| 8/10 [00:31<00:07,  3.81s/it]\u001b[32m [repeated 4x across cluster]\u001b[0m\n"
     ]
    },
    {
     "name": "stdout",
     "output_type": "stream",
     "text": [
      "\u001b[36m(launch_and_fit pid=8089)\u001b[0m \tTrain Epoch: 8 \tTrain_loss_mri: 0.0245 | Train_acc_mri: 99.6875 | Train_loss_dna: 0.5563 | Train_acc_dna: 84.5139 | Validation_loss_mri: 0.6852 | Validation_acc_mri: 75.5208 | Validation_loss_dna: 4.2630 | Validation_acc_dna: 9.3750\u001b[32m [repeated 4x across cluster]\u001b[0m\n"
     ]
    },
    {
     "name": "stderr",
     "output_type": "stream",
     "text": [
      "100%|\u001b[34m██████████\u001b[0m| 10/10 [00:38<00:00,  3.88s/it]\u001b[32m [repeated 4x across cluster]\u001b[0m\n"
     ]
    },
    {
     "name": "stdout",
     "output_type": "stream",
     "text": [
      "\u001b[36m(launch_and_fit pid=8089)\u001b[0m save graph in  results/FL/\n",
      "\u001b[36m(launch_and_fit pid=8089)\u001b[0m \tTrain Epoch: 10 \tTrain_loss_mri: 0.0366 | Train_acc_mri: 98.6921 | Train_loss_dna: 0.4888 | Train_acc_dna: 86.6435 | Validation_loss_mri: 0.9093 | Validation_acc_mri: 73.9583 | Validation_loss_dna: 4.8942 | Validation_acc_dna: 7.8125\u001b[32m [repeated 4x across cluster]\u001b[0m\n",
      "\u001b[36m(launch_and_fit pid=8089)\u001b[0m mri_net.features.0.weight 5.245208740234375e-06\n",
      "\u001b[36m(launch_and_fit pid=8089)\u001b[0m mri_net.features.0.bias 1.6689300537109375e-06\n",
      "\u001b[36m(launch_and_fit pid=8089)\u001b[0m mri_net.features.3.weight 9.5367431640625e-07\n",
      "\u001b[36m(launch_and_fit pid=8089)\u001b[0m mri_net.features.3.bias 9.5367431640625e-07\n",
      "\u001b[36m(launch_and_fit pid=8089)\u001b[0m mri_net.classifier.0.weight 9.5367431640625e-07\n",
      "\u001b[36m(launch_and_fit pid=8089)\u001b[0m mri_net.classifier.0.bias 9.5367431640625e-07\n",
      "\u001b[36m(launch_and_fit pid=8089)\u001b[0m mri_net.classifier.2.weight 9.5367431640625e-07\n",
      "\u001b[36m(launch_and_fit pid=8089)\u001b[0m mri_net.classifier.2.bias 9.5367431640625e-07\n",
      "\u001b[36m(launch_and_fit pid=8089)\u001b[0m mri_net.classifier.3.weights 1.1920928955078125e-06\n",
      "\u001b[36m(launch_and_fit pid=8089)\u001b[0m dna_net.fc1.weight 9.5367431640625e-07\n",
      "\u001b[36m(launch_and_fit pid=8089)\u001b[0m dna_net.fc1.bias 1.1920928955078125e-06\n",
      "\u001b[36m(launch_and_fit pid=8089)\u001b[0m dna_net.fc2.weight 9.5367431640625e-07\n",
      "\u001b[36m(launch_and_fit pid=8089)\u001b[0m dna_net.fc2.bias 1.430511474609375e-06\n",
      "\u001b[36m(launch_and_fit pid=8089)\u001b[0m dna_net.fc3.weight 9.5367431640625e-07\n",
      "\u001b[36m(launch_and_fit pid=8089)\u001b[0m dna_net.fc3.bias 9.5367431640625e-07\n",
      "\u001b[36m(launch_and_fit pid=8089)\u001b[0m dna_net.fc4.weight 1.1920928955078125e-06\n",
      "\u001b[36m(launch_and_fit pid=8089)\u001b[0m dna_net.fc4.bias 1.430511474609375e-06\n",
      "\u001b[36m(launch_and_fit pid=8089)\u001b[0m dna_net.qnn.weights 9.5367431640625e-07\n",
      "\u001b[36m(launch_and_fit pid=8089)\u001b[0m attention.in_proj_weight 9.5367431640625e-07\n",
      "\u001b[36m(launch_and_fit pid=8089)\u001b[0m attention.in_proj_bias 1.430511474609375e-06\n",
      "\u001b[36m(launch_and_fit pid=8089)\u001b[0m attention.out_proj.weight 1.1920928955078125e-06\n",
      "\u001b[36m(launch_and_fit pid=8089)\u001b[0m attention.out_proj.bias 9.5367431640625e-07\n",
      "\u001b[36m(launch_and_fit pid=8089)\u001b[0m fc1.weight 1.430511474609375e-06\n",
      "\u001b[36m(launch_and_fit pid=8089)\u001b[0m fc1.bias 9.5367431640625e-07\n",
      "\u001b[36m(launch_and_fit pid=8089)\u001b[0m fc2_mri.weight 1.430511474609375e-06\n",
      "\u001b[36m(launch_and_fit pid=8089)\u001b[0m fc2_mri.bias 9.5367431640625e-07\n",
      "\u001b[36m(launch_and_fit pid=8089)\u001b[0m fc2_dna.weight 9.5367431640625e-07\n",
      "\u001b[36m(launch_and_fit pid=8089)\u001b[0m fc2_dna.bias 1.1920928955078125e-06\n",
      "\u001b[36m(launch_and_fit pid=8171)\u001b[0m Run with homomorphic encryption\n",
      "\u001b[36m(launch_and_fit pid=8114)\u001b[0m save graph in  results/FL/\n",
      "\u001b[36m(launch_and_fit pid=8114)\u001b[0m \tTrain Epoch: 10 \tTrain_loss_mri: 0.0155 | Train_acc_mri: 100.0000 | Train_loss_dna: 0.5286 | Train_acc_dna: 80.2778 | Validation_loss_mri: 0.7898 | Validation_acc_mri: 95.3125 | Validation_loss_dna: 2.3189 | Validation_acc_dna: 62.5000\n",
      "\u001b[36m(launch_and_fit pid=8114)\u001b[0m fc2_dna.bias 1.6689300537109375e-06\u001b[32m [repeated 23x across cluster]\u001b[0m\n",
      "\u001b[36m(launch_and_fit pid=8114)\u001b[0m dna_net.qnn.weights 1.430511474609375e-06\n",
      "\u001b[36m(launch_and_fit pid=8114)\u001b[0m attention.in_proj_weight 1.430511474609375e-06\n",
      "\u001b[36m(launch_and_fit pid=8114)\u001b[0m attention.in_proj_bias 1.430511474609375e-06\n",
      "\u001b[36m(launch_and_fit pid=8114)\u001b[0m attention.out_proj.weight 1.430511474609375e-06\n",
      "\u001b[36m(launch_and_fit pid=8114)\u001b[0m attention.out_proj.bias 1.6689300537109375e-06\n",
      "\u001b[36m(launch_and_fit pid=8171)\u001b[0m [Client 6, round 10] fit, config: {'learning_rate': 0.003, 'batch_size': '32', 'server_round': 10, 'local_epochs': 10}\n",
      "\u001b[36m(launch_and_fit pid=8171)\u001b[0m Updated model\n"
     ]
    },
    {
     "name": "stderr",
     "output_type": "stream",
     "text": [
      "  0%|\u001b[34m          \u001b[0m| 0/10 [00:00<?, ?it/s]\n",
      "100%|\u001b[34m██████████\u001b[0m| 10/10 [00:38<00:00,  3.86s/it]\n"
     ]
    },
    {
     "name": "stdout",
     "output_type": "stream",
     "text": [
      "\u001b[36m(launch_and_fit pid=8171)\u001b[0m \tTrain Epoch: 1 \tTrain_loss_mri: 0.2635 | Train_acc_mri: 89.2014 | Train_loss_dna: 2.2061 | Train_acc_dna: 42.6273 | Validation_loss_mri: 1.9773 | Validation_acc_mri: 70.8333 | Validation_loss_dna: 3.0401 | Validation_acc_dna: 6.2500\n",
      "\u001b[36m(launch_and_fit pid=8196)\u001b[0m Run with homomorphic encryption\n",
      "\u001b[36m(launch_and_fit pid=8196)\u001b[0m [Client 8, round 10] fit, config: {'learning_rate': 0.003, 'batch_size': '32', 'server_round': 10, 'local_epochs': 10}\n"
     ]
    },
    {
     "name": "stderr",
     "output_type": "stream",
     "text": [
      " 10%|\u001b[34m█         \u001b[0m| 1/10 [00:04<00:38,  4.22s/it]\n",
      "  0%|\u001b[34m          \u001b[0m| 0/10 [00:00<?, ?it/s]\n"
     ]
    },
    {
     "name": "stdout",
     "output_type": "stream",
     "text": [
      "\u001b[36m(launch_and_fit pid=8196)\u001b[0m Updated model\n",
      "\u001b[36m(launch_and_fit pid=8171)\u001b[0m \tTrain Epoch: 3 \tTrain_loss_mri: 0.1231 | Train_acc_mri: 96.5625 | Train_loss_dna: 0.9323 | Train_acc_dna: 63.1944 | Validation_loss_mri: 0.9777 | Validation_acc_mri: 69.2708 | Validation_loss_dna: 3.5816 | Validation_acc_dna: 10.9375\u001b[32m [repeated 4x across cluster]\u001b[0m\n"
     ]
    },
    {
     "name": "stderr",
     "output_type": "stream",
     "text": [
      " 30%|\u001b[34m███       \u001b[0m| 3/10 [00:11<00:26,  3.85s/it]\u001b[32m [repeated 4x across cluster]\u001b[0m\n",
      " 40%|\u001b[34m████      \u001b[0m| 4/10 [00:15<00:23,  3.92s/it]\u001b[32m [repeated 3x across cluster]\u001b[0m\n"
     ]
    },
    {
     "name": "stdout",
     "output_type": "stream",
     "text": [
      "\u001b[36m(launch_and_fit pid=8196)\u001b[0m \tTrain Epoch: 4 \tTrain_loss_mri: 0.2061 | Train_acc_mri: 91.7824 | Train_loss_dna: 0.7873 | Train_acc_dna: 72.9398 | Validation_loss_mri: 0.7870 | Validation_acc_mri: 70.8333 | Validation_loss_dna: 2.1389 | Validation_acc_dna: 26.0417\u001b[32m [repeated 3x across cluster]\u001b[0m\n",
      "\u001b[36m(launch_and_fit pid=8171)\u001b[0m \tTrain Epoch: 6 \tTrain_loss_mri: 0.0370 | Train_acc_mri: 99.3750 | Train_loss_dna: 0.6123 | Train_acc_dna: 78.0903 | Validation_loss_mri: 1.4143 | Validation_acc_mri: 69.2708 | Validation_loss_dna: 4.1839 | Validation_acc_dna: 7.8125\u001b[32m [repeated 3x across cluster]\u001b[0m\n"
     ]
    },
    {
     "name": "stderr",
     "output_type": "stream",
     "text": [
      " 60%|\u001b[34m██████    \u001b[0m| 6/10 [00:23<00:15,  3.89s/it]\u001b[32m [repeated 3x across cluster]\u001b[0m\n"
     ]
    },
    {
     "name": "stdout",
     "output_type": "stream",
     "text": [
      "\u001b[36m(launch_and_fit pid=8171)\u001b[0m \tTrain Epoch: 8 \tTrain_loss_mri: 0.0202 | Train_acc_mri: 99.6875 | Train_loss_dna: 0.5098 | Train_acc_dna: 84.2245 | Validation_loss_mri: 1.4944 | Validation_acc_mri: 69.2708 | Validation_loss_dna: 4.7156 | Validation_acc_dna: 4.6875\u001b[32m [repeated 4x across cluster]\u001b[0m\n"
     ]
    },
    {
     "name": "stderr",
     "output_type": "stream",
     "text": [
      " 80%|\u001b[34m████████  \u001b[0m| 8/10 [00:30<00:07,  3.81s/it]\u001b[32m [repeated 4x across cluster]\u001b[0m\n"
     ]
    },
    {
     "name": "stdout",
     "output_type": "stream",
     "text": [
      "\u001b[36m(launch_and_fit pid=8171)\u001b[0m save graph in  results/FL/\n",
      "\u001b[36m(launch_and_fit pid=8171)\u001b[0m \tTrain Epoch: 10 \tTrain_loss_mri: 0.0161 | Train_acc_mri: 100.0000 | Train_loss_dna: 0.4469 | Train_acc_dna: 84.5139 | Validation_loss_mri: 1.6627 | Validation_acc_mri: 69.2708 | Validation_loss_dna: 5.7142 | Validation_acc_dna: 4.6875\u001b[32m [repeated 4x across cluster]\u001b[0m\n"
     ]
    },
    {
     "name": "stderr",
     "output_type": "stream",
     "text": [
      "100%|\u001b[34m██████████\u001b[0m| 10/10 [00:38<00:00,  3.85s/it]\u001b[32m [repeated 4x across cluster]\u001b[0m\n"
     ]
    },
    {
     "name": "stdout",
     "output_type": "stream",
     "text": [
      "\u001b[36m(launch_and_fit pid=8171)\u001b[0m mri_net.features.0.weight 5.245208740234375e-06\n",
      "\u001b[36m(launch_and_fit pid=8171)\u001b[0m mri_net.features.0.bias 2.6226043701171875e-06\n",
      "\u001b[36m(launch_and_fit pid=8171)\u001b[0m mri_net.features.3.weight 1.1920928955078125e-06\n",
      "\u001b[36m(launch_and_fit pid=8171)\u001b[0m mri_net.features.3.bias 1.1920928955078125e-06\n",
      "\u001b[36m(launch_and_fit pid=8171)\u001b[0m mri_net.classifier.0.weight 1.1920928955078125e-06\n",
      "\u001b[36m(launch_and_fit pid=8171)\u001b[0m mri_net.classifier.0.bias 1.430511474609375e-06\n",
      "\u001b[36m(launch_and_fit pid=8171)\u001b[0m mri_net.classifier.2.weight 1.430511474609375e-06\n",
      "\u001b[36m(launch_and_fit pid=8171)\u001b[0m mri_net.classifier.2.bias 1.1920928955078125e-06\n",
      "\u001b[36m(launch_and_fit pid=8171)\u001b[0m mri_net.classifier.3.weights 1.1920928955078125e-06\n",
      "\u001b[36m(launch_and_fit pid=8171)\u001b[0m dna_net.fc1.weight 9.5367431640625e-07\n",
      "\u001b[36m(launch_and_fit pid=8171)\u001b[0m dna_net.fc1.bias 9.5367431640625e-07\n",
      "\u001b[36m(launch_and_fit pid=8171)\u001b[0m dna_net.fc2.weight 1.1920928955078125e-06\n",
      "\u001b[36m(launch_and_fit pid=8171)\u001b[0m dna_net.fc2.bias 9.5367431640625e-07\n",
      "\u001b[36m(launch_and_fit pid=8171)\u001b[0m dna_net.fc3.weight 9.5367431640625e-07\n",
      "\u001b[36m(launch_and_fit pid=8171)\u001b[0m dna_net.fc3.bias 9.5367431640625e-07\n",
      "\u001b[36m(launch_and_fit pid=8171)\u001b[0m dna_net.fc4.weight 1.1920928955078125e-06\n",
      "\u001b[36m(launch_and_fit pid=8171)\u001b[0m dna_net.fc4.bias 1.430511474609375e-06\n",
      "\u001b[36m(launch_and_fit pid=8171)\u001b[0m dna_net.qnn.weights 1.430511474609375e-06\n",
      "\u001b[36m(launch_and_fit pid=8171)\u001b[0m attention.in_proj_weight 1.1920928955078125e-06\n",
      "\u001b[36m(launch_and_fit pid=8171)\u001b[0m attention.in_proj_bias 9.5367431640625e-07\n",
      "\u001b[36m(launch_and_fit pid=8171)\u001b[0m attention.out_proj.weight 1.1920928955078125e-06\n",
      "\u001b[36m(launch_and_fit pid=8171)\u001b[0m attention.out_proj.bias 9.5367431640625e-07\n",
      "\u001b[36m(launch_and_fit pid=8171)\u001b[0m fc1.weight 1.430511474609375e-06\n",
      "\u001b[36m(launch_and_fit pid=8171)\u001b[0m fc1.bias 1.1920928955078125e-06\n",
      "\u001b[36m(launch_and_fit pid=8171)\u001b[0m fc2_mri.weight 1.430511474609375e-06\n",
      "\u001b[36m(launch_and_fit pid=8171)\u001b[0m fc2_mri.bias 9.5367431640625e-07\n",
      "\u001b[36m(launch_and_fit pid=8171)\u001b[0m fc2_dna.weight 1.1920928955078125e-06\n",
      "\u001b[36m(launch_and_fit pid=8171)\u001b[0m fc2_dna.bias 1.430511474609375e-06\n"
     ]
    },
    {
     "name": "stderr",
     "output_type": "stream",
     "text": [
      "DEBUG flwr 2024-08-05 08:04:30,149 | server.py:236 | fit_round 10 received 10 results and 0 failures\n"
     ]
    },
    {
     "name": "stdout",
     "output_type": "stream",
     "text": [
      "Saving round 10 aggregated_parameters...\n"
     ]
    },
    {
     "name": "stderr",
     "output_type": "stream",
     "text": [
      "DEBUG flwr 2024-08-05 08:04:32,107 | server.py:173 | evaluate_round 10: strategy sampled 10 clients (out of 10)\n"
     ]
    },
    {
     "name": "stdout",
     "output_type": "stream",
     "text": [
      "\u001b[36m(launch_and_evaluate pid=8262)\u001b[0m Run with homomorphic encryption\n",
      "\u001b[36m(launch_and_fit pid=8196)\u001b[0m save graph in  results/FL/\n",
      "\u001b[36m(launch_and_fit pid=8196)\u001b[0m \tTrain Epoch: 10 \tTrain_loss_mri: 0.0261 | Train_acc_mri: 99.3171 | Train_loss_dna: 0.4221 | Train_acc_dna: 86.3310 | Validation_loss_mri: 0.6393 | Validation_acc_mri: 90.6250 | Validation_loss_dna: 2.6102 | Validation_acc_dna: 42.7083\n",
      "\u001b[36m(launch_and_fit pid=8196)\u001b[0m fc2_dna.bias 9.5367431640625e-07\u001b[32m [repeated 23x across cluster]\u001b[0m\n",
      "\u001b[36m(launch_and_fit pid=8196)\u001b[0m dna_net.qnn.weights 9.5367431640625e-07\n",
      "\u001b[36m(launch_and_fit pid=8196)\u001b[0m attention.in_proj_weight 1.430511474609375e-06\n",
      "\u001b[36m(launch_and_fit pid=8196)\u001b[0m attention.in_proj_bias 9.5367431640625e-07\n",
      "\u001b[36m(launch_and_fit pid=8196)\u001b[0m attention.out_proj.weight 9.5367431640625e-07\n",
      "\u001b[36m(launch_and_fit pid=8196)\u001b[0m attention.out_proj.bias 1.1920928955078125e-06\n",
      "\u001b[36m(launch_and_evaluate pid=8262)\u001b[0m [Client 2] evaluate, config: {}\n",
      "\u001b[36m(launch_and_evaluate pid=8263)\u001b[0m Updated model\n",
      "\u001b[36m(launch_and_evaluate pid=8342)\u001b[0m Run with homomorphic encryption\u001b[32m [repeated 2x across cluster]\u001b[0m\n",
      "\u001b[36m(launch_and_evaluate pid=8263)\u001b[0m [Client 0] evaluate, config: {}\n",
      "\u001b[36m(launch_and_evaluate pid=8262)\u001b[0m Updated model\n",
      "\u001b[36m(launch_and_evaluate pid=8342)\u001b[0m [Client 5] evaluate, config: {}\n",
      "\u001b[36m(launch_and_evaluate pid=8342)\u001b[0m Updated model\n",
      "\u001b[36m(launch_and_evaluate pid=8420)\u001b[0m Run with homomorphic encryption\u001b[32m [repeated 2x across cluster]\u001b[0m\n",
      "\u001b[36m(launch_and_evaluate pid=8340)\u001b[0m [Client 3] evaluate, config: {}\n",
      "\u001b[36m(launch_and_evaluate pid=8340)\u001b[0m Updated model\n",
      "\u001b[36m(launch_and_evaluate pid=8420)\u001b[0m [Client 9] evaluate, config: {}\n",
      "\u001b[36m(launch_and_evaluate pid=8420)\u001b[0m Updated model\n"
     ]
    },
    {
     "name": "stderr",
     "output_type": "stream",
     "text": [
      "\u001b[36m(launch_and_evaluate pid=8420)\u001b[0m /opt/conda/lib/python3.10/site-packages/sklearn/metrics/_ranking.py:1029: UndefinedMetricWarning: No positive samples in y_true, true positive value should be meaningless\n",
      "\u001b[36m(launch_and_evaluate pid=8420)\u001b[0m   warnings.warn(\n",
      "100%|\u001b[34m██████████\u001b[0m| 10/10 [00:38<00:00,  3.86s/it]\n"
     ]
    },
    {
     "name": "stdout",
     "output_type": "stream",
     "text": [
      "\u001b[36m(launch_and_evaluate pid=8496)\u001b[0m Run with homomorphic encryption\u001b[32m [repeated 2x across cluster]\u001b[0m\n",
      "\u001b[36m(launch_and_evaluate pid=8418)\u001b[0m [Client 1] evaluate, config: {}\n",
      "\u001b[36m(launch_and_evaluate pid=8418)\u001b[0m Updated model\n",
      "\u001b[36m(launch_and_evaluate pid=8496)\u001b[0m [Client 4] evaluate, config: {}\n",
      "\u001b[36m(launch_and_evaluate pid=8496)\u001b[0m Updated model\n"
     ]
    },
    {
     "name": "stderr",
     "output_type": "stream",
     "text": [
      "\u001b[36m(launch_and_evaluate pid=8496)\u001b[0m /opt/conda/lib/python3.10/site-packages/sklearn/metrics/_ranking.py:1029: UndefinedMetricWarning: No positive samples in y_true, true positive value should be meaningless\n",
      "\u001b[36m(launch_and_evaluate pid=8496)\u001b[0m   warnings.warn(\n"
     ]
    },
    {
     "name": "stdout",
     "output_type": "stream",
     "text": [
      "\u001b[36m(launch_and_evaluate pid=8574)\u001b[0m Run with homomorphic encryption\u001b[32m [repeated 2x across cluster]\u001b[0m\n",
      "\u001b[36m(launch_and_evaluate pid=8498)\u001b[0m [Client 6] evaluate, config: {}\n",
      "\u001b[36m(launch_and_evaluate pid=8498)\u001b[0m Updated model\n",
      "\u001b[36m(launch_and_evaluate pid=8574)\u001b[0m [Client 8] evaluate, config: {}\n",
      "\u001b[36m(launch_and_evaluate pid=8574)\u001b[0m Updated model\n"
     ]
    },
    {
     "name": "stderr",
     "output_type": "stream",
     "text": [
      "\u001b[36m(launch_and_evaluate pid=8574)\u001b[0m /opt/conda/lib/python3.10/site-packages/sklearn/metrics/_ranking.py:1029: UndefinedMetricWarning: No positive samples in y_true, true positive value should be meaningless\n",
      "\u001b[36m(launch_and_evaluate pid=8574)\u001b[0m   warnings.warn(\n",
      "DEBUG flwr 2024-08-05 08:05:49,566 | server.py:187 | evaluate_round 10 received 10 results and 0 failures\n",
      "DEBUG flwr 2024-08-05 08:05:49,567 | server.py:222 | fit_round 11: strategy sampled 10 clients (out of 10)\n"
     ]
    },
    {
     "name": "stdout",
     "output_type": "stream",
     "text": [
      "\u001b[36m(launch_and_fit pid=8661)\u001b[0m Run with homomorphic encryption\u001b[32m [repeated 2x across cluster]\u001b[0m\n",
      "\u001b[36m(launch_and_evaluate pid=8576)\u001b[0m [Client 7] evaluate, config: {}\n",
      "\u001b[36m(launch_and_evaluate pid=8576)\u001b[0m Updated model\n",
      "\u001b[36m(launch_and_fit pid=8661)\u001b[0m [Client 0, round 11] fit, config: {'learning_rate': 0.003, 'batch_size': '32', 'server_round': 11, 'local_epochs': 10}\n"
     ]
    },
    {
     "name": "stderr",
     "output_type": "stream",
     "text": [
      "  0%|\u001b[34m          \u001b[0m| 0/10 [00:00<?, ?it/s]\n"
     ]
    },
    {
     "name": "stdout",
     "output_type": "stream",
     "text": [
      "\u001b[36m(launch_and_fit pid=8661)\u001b[0m Updated model\n"
     ]
    },
    {
     "name": "stderr",
     "output_type": "stream",
     "text": [
      " 10%|\u001b[34m█         \u001b[0m| 1/10 [00:04<00:38,  4.29s/it]\n"
     ]
    },
    {
     "name": "stdout",
     "output_type": "stream",
     "text": [
      "\u001b[36m(launch_and_fit pid=8661)\u001b[0m \tTrain Epoch: 1 \tTrain_loss_mri: 0.2510 | Train_acc_mri: 91.1921 | Train_loss_dna: 1.8116 | Train_acc_dna: 42.5694 | Validation_loss_mri: 1.2184 | Validation_acc_mri: 69.2708 | Validation_loss_dna: 4.0561 | Validation_acc_dna: 12.5000\n",
      "\u001b[36m(launch_and_fit pid=8662)\u001b[0m Run with homomorphic encryption\n",
      "\u001b[36m(launch_and_fit pid=8662)\u001b[0m [Client 8, round 11] fit, config: {'learning_rate': 0.003, 'batch_size': '32', 'server_round': 11, 'local_epochs': 10}\n"
     ]
    },
    {
     "name": "stderr",
     "output_type": "stream",
     "text": [
      "  0%|\u001b[34m          \u001b[0m| 0/10 [00:00<?, ?it/s]\n"
     ]
    },
    {
     "name": "stdout",
     "output_type": "stream",
     "text": [
      "\u001b[36m(launch_and_fit pid=8662)\u001b[0m Updated model\n"
     ]
    },
    {
     "name": "stderr",
     "output_type": "stream",
     "text": [
      " 30%|\u001b[34m███       \u001b[0m| 3/10 [00:11<00:27,  3.90s/it]\u001b[32m [repeated 4x across cluster]\u001b[0m\n"
     ]
    },
    {
     "name": "stdout",
     "output_type": "stream",
     "text": [
      "\u001b[36m(launch_and_fit pid=8661)\u001b[0m \tTrain Epoch: 3 \tTrain_loss_mri: 0.1107 | Train_acc_mri: 96.1343 | Train_loss_dna: 1.0810 | Train_acc_dna: 59.3634 | Validation_loss_mri: 1.2730 | Validation_acc_mri: 69.2708 | Validation_loss_dna: 3.9519 | Validation_acc_dna: 10.9375\u001b[32m [repeated 4x across cluster]\u001b[0m\n"
     ]
    },
    {
     "name": "stderr",
     "output_type": "stream",
     "text": [
      " 50%|\u001b[34m█████     \u001b[0m| 5/10 [00:19<00:18,  3.79s/it]\u001b[32m [repeated 4x across cluster]\u001b[0m\n"
     ]
    },
    {
     "name": "stdout",
     "output_type": "stream",
     "text": [
      "\u001b[36m(launch_and_fit pid=8661)\u001b[0m \tTrain Epoch: 5 \tTrain_loss_mri: 0.0968 | Train_acc_mri: 97.0718 | Train_loss_dna: 0.7650 | Train_acc_dna: 73.1713 | Validation_loss_mri: 1.9299 | Validation_acc_mri: 70.8333 | Validation_loss_dna: 4.1730 | Validation_acc_dna: 14.0625\u001b[32m [repeated 4x across cluster]\u001b[0m\n"
     ]
    },
    {
     "name": "stderr",
     "output_type": "stream",
     "text": [
      " 70%|\u001b[34m███████   \u001b[0m| 7/10 [00:26<00:11,  3.74s/it]\u001b[32m [repeated 4x across cluster]\u001b[0m\n"
     ]
    },
    {
     "name": "stdout",
     "output_type": "stream",
     "text": [
      "\u001b[36m(launch_and_fit pid=8661)\u001b[0m \tTrain Epoch: 7 \tTrain_loss_mri: 0.1055 | Train_acc_mri: 97.8125 | Train_loss_dna: 0.7117 | Train_acc_dna: 78.4028 | Validation_loss_mri: 2.6314 | Validation_acc_mri: 52.6042 | Validation_loss_dna: 3.9418 | Validation_acc_dna: 26.0417\u001b[32m [repeated 4x across cluster]\u001b[0m\n"
     ]
    },
    {
     "name": "stderr",
     "output_type": "stream",
     "text": [
      " 90%|\u001b[34m█████████ \u001b[0m| 9/10 [00:34<00:03,  3.75s/it]\u001b[32m [repeated 4x across cluster]\u001b[0m\n"
     ]
    },
    {
     "name": "stdout",
     "output_type": "stream",
     "text": [
      "\u001b[36m(launch_and_fit pid=8661)\u001b[0m \tTrain Epoch: 9 \tTrain_loss_mri: 0.0572 | Train_acc_mri: 98.4375 | Train_loss_dna: 0.5911 | Train_acc_dna: 78.3218 | Validation_loss_mri: 1.6402 | Validation_acc_mri: 69.2708 | Validation_loss_dna: 3.9239 | Validation_acc_dna: 9.3750\u001b[32m [repeated 4x across cluster]\u001b[0m\n",
      "\u001b[36m(launch_and_fit pid=8661)\u001b[0m save graph in  results/FL/\n",
      "\u001b[36m(launch_and_fit pid=8661)\u001b[0m mri_net.features.0.weight 4.5299530029296875e-06\n",
      "\u001b[36m(launch_and_fit pid=8661)\u001b[0m mri_net.features.0.bias 1.430511474609375e-06\n",
      "\u001b[36m(launch_and_fit pid=8661)\u001b[0m mri_net.features.3.weight 9.5367431640625e-07\n",
      "\u001b[36m(launch_and_fit pid=8661)\u001b[0m mri_net.features.3.bias 9.5367431640625e-07\n",
      "\u001b[36m(launch_and_fit pid=8661)\u001b[0m mri_net.classifier.0.weight 9.5367431640625e-07\n",
      "\u001b[36m(launch_and_fit pid=8661)\u001b[0m mri_net.classifier.0.bias 1.1920928955078125e-06\n",
      "\u001b[36m(launch_and_fit pid=8661)\u001b[0m mri_net.classifier.2.weight 9.5367431640625e-07\n",
      "\u001b[36m(launch_and_fit pid=8661)\u001b[0m mri_net.classifier.2.bias 1.1920928955078125e-06\n",
      "\u001b[36m(launch_and_fit pid=8661)\u001b[0m mri_net.classifier.3.weights 1.1920928955078125e-06\n",
      "\u001b[36m(launch_and_fit pid=8661)\u001b[0m dna_net.fc1.weight 9.5367431640625e-07\n",
      "\u001b[36m(launch_and_fit pid=8661)\u001b[0m dna_net.fc1.bias 1.9073486328125e-06\n",
      "\u001b[36m(launch_and_fit pid=8661)\u001b[0m dna_net.fc2.weight 1.6689300537109375e-06\n",
      "\u001b[36m(launch_and_fit pid=8661)\u001b[0m dna_net.fc2.bias 1.6689300537109375e-06\n",
      "\u001b[36m(launch_and_fit pid=8661)\u001b[0m dna_net.fc3.weight 9.5367431640625e-07\n",
      "\u001b[36m(launch_and_fit pid=8661)\u001b[0m dna_net.fc3.bias 1.1920928955078125e-06\n",
      "\u001b[36m(launch_and_fit pid=8661)\u001b[0m dna_net.fc4.weight 9.5367431640625e-07\n",
      "\u001b[36m(launch_and_fit pid=8661)\u001b[0m dna_net.fc4.bias 9.5367431640625e-07\n",
      "\u001b[36m(launch_and_fit pid=8661)\u001b[0m dna_net.qnn.weights 9.5367431640625e-07\n",
      "\u001b[36m(launch_and_fit pid=8661)\u001b[0m attention.in_proj_weight 1.1920928955078125e-06\n",
      "\u001b[36m(launch_and_fit pid=8661)\u001b[0m attention.in_proj_bias 9.5367431640625e-07\n",
      "\u001b[36m(launch_and_fit pid=8661)\u001b[0m attention.out_proj.weight 9.5367431640625e-07\n",
      "\u001b[36m(launch_and_fit pid=8661)\u001b[0m attention.out_proj.bias 9.5367431640625e-07\n",
      "\u001b[36m(launch_and_fit pid=8661)\u001b[0m fc1.weight 1.1920928955078125e-06\n",
      "\u001b[36m(launch_and_fit pid=8661)\u001b[0m fc1.bias 9.5367431640625e-07\n",
      "\u001b[36m(launch_and_fit pid=8661)\u001b[0m fc2_mri.weight 1.1920928955078125e-06\n",
      "\u001b[36m(launch_and_fit pid=8661)\u001b[0m fc2_mri.bias 9.5367431640625e-07\n",
      "\u001b[36m(launch_and_fit pid=8661)\u001b[0m fc2_dna.weight 9.5367431640625e-07\n",
      "\u001b[36m(launch_and_fit pid=8661)\u001b[0m fc2_dna.bias 9.5367431640625e-07\n",
      "\u001b[36m(launch_and_fit pid=8742)\u001b[0m Run with homomorphic encryption\n",
      "\u001b[36m(launch_and_fit pid=8662)\u001b[0m \tTrain Epoch: 10 \tTrain_loss_mri: 0.0220 | Train_acc_mri: 99.3750 | Train_loss_dna: 0.3510 | Train_acc_dna: 91.3310 | Validation_loss_mri: 0.8484 | Validation_acc_mri: 89.0625 | Validation_loss_dna: 2.9057 | Validation_acc_dna: 24.4792\u001b[32m [repeated 3x across cluster]\u001b[0m\n",
      "\u001b[36m(launch_and_fit pid=8662)\u001b[0m save graph in  results/FL/\n",
      "\u001b[36m(launch_and_fit pid=8662)\u001b[0m fc2_dna.bias 9.5367431640625e-07\u001b[32m [repeated 23x across cluster]\u001b[0m\n",
      "\u001b[36m(launch_and_fit pid=8662)\u001b[0m dna_net.qnn.weights 1.1920928955078125e-06\n",
      "\u001b[36m(launch_and_fit pid=8662)\u001b[0m attention.in_proj_weight 9.5367431640625e-07\n",
      "\u001b[36m(launch_and_fit pid=8662)\u001b[0m attention.in_proj_bias 9.5367431640625e-07\n",
      "\u001b[36m(launch_and_fit pid=8662)\u001b[0m attention.out_proj.weight 9.5367431640625e-07\n",
      "\u001b[36m(launch_and_fit pid=8662)\u001b[0m attention.out_proj.bias 1.430511474609375e-06\n",
      "\u001b[36m(launch_and_fit pid=8742)\u001b[0m [Client 6, round 11] fit, config: {'learning_rate': 0.003, 'batch_size': '32', 'server_round': 11, 'local_epochs': 10}\n",
      "\u001b[36m(launch_and_fit pid=8742)\u001b[0m Updated model\n"
     ]
    },
    {
     "name": "stderr",
     "output_type": "stream",
     "text": [
      "  0%|\u001b[34m          \u001b[0m| 0/10 [00:00<?, ?it/s]\n",
      "100%|\u001b[34m██████████\u001b[0m| 10/10 [00:38<00:00,  3.84s/it]\u001b[32m [repeated 3x across cluster]\u001b[0m\n"
     ]
    },
    {
     "name": "stdout",
     "output_type": "stream",
     "text": [
      "\u001b[36m(launch_and_fit pid=8744)\u001b[0m Run with homomorphic encryption\n",
      "\u001b[36m(launch_and_fit pid=8742)\u001b[0m \tTrain Epoch: 1 \tTrain_loss_mri: 0.2360 | Train_acc_mri: 93.2639 | Train_loss_dna: 1.9021 | Train_acc_dna: 45.6944 | Validation_loss_mri: 1.1617 | Validation_acc_mri: 70.8333 | Validation_loss_dna: 3.8780 | Validation_acc_dna: 9.3750\n",
      "\u001b[36m(launch_and_fit pid=8744)\u001b[0m [Client 9, round 11] fit, config: {'learning_rate': 0.003, 'batch_size': '32', 'server_round': 11, 'local_epochs': 10}\n",
      "\u001b[36m(launch_and_fit pid=8744)\u001b[0m \tTrain Epoch: 1 \tTrain_loss_mri: 0.2513 | Train_acc_mri: 91.8548 | Train_loss_dna: 2.0343 | Train_acc_dna: 42.3085 | Validation_loss_mri: 0.2965 | Validation_acc_mri: 92.1875 | Validation_loss_dna: 1.7958 | Validation_acc_dna: 47.3958\n",
      "\u001b[36m(launch_and_fit pid=8744)\u001b[0m Updated model\n"
     ]
    },
    {
     "name": "stderr",
     "output_type": "stream",
     "text": [
      "  0%|\u001b[34m          \u001b[0m| 0/10 [00:00<?, ?it/s]\n",
      " 20%|\u001b[34m██        \u001b[0m| 2/10 [00:07<00:30,  3.87s/it]\u001b[32m [repeated 3x across cluster]\u001b[0m\n"
     ]
    },
    {
     "name": "stdout",
     "output_type": "stream",
     "text": [
      "\u001b[36m(launch_and_fit pid=8742)\u001b[0m \tTrain Epoch: 3 \tTrain_loss_mri: 0.0916 | Train_acc_mri: 96.8750 | Train_loss_dna: 0.8676 | Train_acc_dna: 68.8542 | Validation_loss_mri: 1.1675 | Validation_acc_mri: 70.8333 | Validation_loss_dna: 3.9784 | Validation_acc_dna: 6.2500\u001b[32m [repeated 3x across cluster]\u001b[0m\n"
     ]
    },
    {
     "name": "stderr",
     "output_type": "stream",
     "text": [
      " 40%|\u001b[34m████      \u001b[0m| 4/10 [00:15<00:22,  3.70s/it]\u001b[32m [repeated 4x across cluster]\u001b[0m\n"
     ]
    },
    {
     "name": "stdout",
     "output_type": "stream",
     "text": [
      "\u001b[36m(launch_and_fit pid=8742)\u001b[0m \tTrain Epoch: 5 \tTrain_loss_mri: 0.0180 | Train_acc_mri: 100.0000 | Train_loss_dna: 0.5947 | Train_acc_dna: 77.5810 | Validation_loss_mri: 1.4740 | Validation_acc_mri: 70.8333 | Validation_loss_dna: 4.1323 | Validation_acc_dna: 7.8125\u001b[32m [repeated 4x across cluster]\u001b[0m\n"
     ]
    },
    {
     "name": "stderr",
     "output_type": "stream",
     "text": [
      " 60%|\u001b[34m██████    \u001b[0m| 6/10 [00:22<00:15,  3.82s/it]\u001b[32m [repeated 4x across cluster]\u001b[0m\n"
     ]
    },
    {
     "name": "stdout",
     "output_type": "stream",
     "text": [
      "\u001b[36m(launch_and_fit pid=8742)\u001b[0m \tTrain Epoch: 7 \tTrain_loss_mri: 0.0218 | Train_acc_mri: 99.6296 | Train_loss_dna: 0.4957 | Train_acc_dna: 84.8264 | Validation_loss_mri: 1.5473 | Validation_acc_mri: 67.7083 | Validation_loss_dna: 4.9978 | Validation_acc_dna: 7.8125\u001b[32m [repeated 4x across cluster]\u001b[0m\n"
     ]
    },
    {
     "name": "stderr",
     "output_type": "stream",
     "text": [
      " 80%|\u001b[34m████████  \u001b[0m| 8/10 [00:30<00:07,  3.74s/it]\u001b[32m [repeated 4x across cluster]\u001b[0m\n"
     ]
    },
    {
     "name": "stdout",
     "output_type": "stream",
     "text": [
      "\u001b[36m(launch_and_fit pid=8742)\u001b[0m \tTrain Epoch: 9 \tTrain_loss_mri: 0.0287 | Train_acc_mri: 99.6875 | Train_loss_dna: 0.4343 | Train_acc_dna: 86.5278 | Validation_loss_mri: 1.9131 | Validation_acc_mri: 67.7083 | Validation_loss_dna: 5.3899 | Validation_acc_dna: 3.1250\u001b[32m [repeated 4x across cluster]\u001b[0m\n",
      "\u001b[36m(launch_and_fit pid=8742)\u001b[0m save graph in  results/FL/\n"
     ]
    },
    {
     "name": "stderr",
     "output_type": "stream",
     "text": [
      "100%|\u001b[34m██████████\u001b[0m| 10/10 [00:37<00:00,  3.75s/it]\u001b[32m [repeated 4x across cluster]\u001b[0m\n"
     ]
    },
    {
     "name": "stdout",
     "output_type": "stream",
     "text": [
      "\u001b[36m(launch_and_fit pid=8742)\u001b[0m mri_net.features.0.weight 5.0067901611328125e-06\n",
      "\u001b[36m(launch_and_fit pid=8742)\u001b[0m mri_net.features.0.bias 1.9073486328125e-06\n",
      "\u001b[36m(launch_and_fit pid=8742)\u001b[0m mri_net.features.3.weight 1.430511474609375e-06\n",
      "\u001b[36m(launch_and_fit pid=8742)\u001b[0m mri_net.features.3.bias 9.5367431640625e-07\n",
      "\u001b[36m(launch_and_fit pid=8742)\u001b[0m mri_net.classifier.0.weight 1.1920928955078125e-06\n",
      "\u001b[36m(launch_and_fit pid=8742)\u001b[0m mri_net.classifier.0.bias 9.5367431640625e-07\n",
      "\u001b[36m(launch_and_fit pid=8742)\u001b[0m mri_net.classifier.2.weight 9.5367431640625e-07\n",
      "\u001b[36m(launch_and_fit pid=8742)\u001b[0m mri_net.classifier.2.bias 1.1920928955078125e-06\n",
      "\u001b[36m(launch_and_fit pid=8742)\u001b[0m mri_net.classifier.3.weights 1.1920928955078125e-06\n",
      "\u001b[36m(launch_and_fit pid=8742)\u001b[0m dna_net.fc1.weight 9.5367431640625e-07\n",
      "\u001b[36m(launch_and_fit pid=8742)\u001b[0m dna_net.fc1.bias 1.1920928955078125e-06\n",
      "\u001b[36m(launch_and_fit pid=8742)\u001b[0m dna_net.fc2.weight 1.1920928955078125e-06\n",
      "\u001b[36m(launch_and_fit pid=8742)\u001b[0m dna_net.fc2.bias 7.152557373046875e-07\n",
      "\u001b[36m(launch_and_fit pid=8742)\u001b[0m dna_net.fc3.weight 9.5367431640625e-07\n",
      "\u001b[36m(launch_and_fit pid=8742)\u001b[0m dna_net.fc3.bias 9.5367431640625e-07\n",
      "\u001b[36m(launch_and_fit pid=8742)\u001b[0m dna_net.fc4.weight 9.5367431640625e-07\n",
      "\u001b[36m(launch_and_fit pid=8742)\u001b[0m dna_net.fc4.bias 1.1920928955078125e-06\n",
      "\u001b[36m(launch_and_fit pid=8742)\u001b[0m dna_net.qnn.weights 1.1920928955078125e-06\n",
      "\u001b[36m(launch_and_fit pid=8742)\u001b[0m attention.in_proj_weight 9.5367431640625e-07\n",
      "\u001b[36m(launch_and_fit pid=8742)\u001b[0m attention.in_proj_bias 9.5367431640625e-07\n",
      "\u001b[36m(launch_and_fit pid=8742)\u001b[0m attention.out_proj.weight 1.1920928955078125e-06\n",
      "\u001b[36m(launch_and_fit pid=8742)\u001b[0m attention.out_proj.bias 9.5367431640625e-07\n",
      "\u001b[36m(launch_and_fit pid=8742)\u001b[0m fc1.weight 1.1920928955078125e-06\n",
      "\u001b[36m(launch_and_fit pid=8742)\u001b[0m fc1.bias 9.5367431640625e-07\n",
      "\u001b[36m(launch_and_fit pid=8742)\u001b[0m fc2_mri.weight 1.1920928955078125e-06\n",
      "\u001b[36m(launch_and_fit pid=8742)\u001b[0m fc2_mri.bias 9.5367431640625e-07\n",
      "\u001b[36m(launch_and_fit pid=8742)\u001b[0m fc2_dna.weight 9.5367431640625e-07\n",
      "\u001b[36m(launch_and_fit pid=8742)\u001b[0m fc2_dna.bias 9.5367431640625e-07\n",
      "\u001b[36m(launch_and_fit pid=8744)\u001b[0m \tTrain Epoch: 10 \tTrain_loss_mri: 0.0227 | Train_acc_mri: 99.6875 | Train_loss_dna: 0.4669 | Train_acc_dna: 84.9294 | Validation_loss_mri: 0.5216 | Validation_acc_mri: 90.6250 | Validation_loss_dna: 3.0525 | Validation_acc_dna: 30.7292\u001b[32m [repeated 3x across cluster]\u001b[0m\n",
      "\u001b[36m(launch_and_fit pid=8824)\u001b[0m Run with homomorphic encryption\n",
      "\u001b[36m(launch_and_fit pid=8744)\u001b[0m save graph in  results/FL/\n",
      "\u001b[36m(launch_and_fit pid=8744)\u001b[0m fc2_dna.bias 1.1920928955078125e-06\u001b[32m [repeated 23x across cluster]\u001b[0m\n",
      "\u001b[36m(launch_and_fit pid=8744)\u001b[0m dna_net.qnn.weights 1.1920928955078125e-06\n",
      "\u001b[36m(launch_and_fit pid=8744)\u001b[0m attention.in_proj_weight 9.5367431640625e-07\n",
      "\u001b[36m(launch_and_fit pid=8744)\u001b[0m attention.in_proj_bias 9.5367431640625e-07\n",
      "\u001b[36m(launch_and_fit pid=8744)\u001b[0m attention.out_proj.weight 1.1920928955078125e-06\n",
      "\u001b[36m(launch_and_fit pid=8744)\u001b[0m attention.out_proj.bias 9.5367431640625e-07\n",
      "\u001b[36m(launch_and_fit pid=8824)\u001b[0m [Client 4, round 11] fit, config: {'learning_rate': 0.003, 'batch_size': '32', 'server_round': 11, 'local_epochs': 10}\n",
      "\u001b[36m(launch_and_fit pid=8824)\u001b[0m Updated model\n"
     ]
    },
    {
     "name": "stderr",
     "output_type": "stream",
     "text": [
      "  0%|\u001b[34m          \u001b[0m| 0/10 [00:00<?, ?it/s]\n",
      "100%|\u001b[34m██████████\u001b[0m| 10/10 [00:37<00:00,  3.79s/it]\n"
     ]
    },
    {
     "name": "stdout",
     "output_type": "stream",
     "text": [
      "\u001b[36m(launch_and_fit pid=8824)\u001b[0m \tTrain Epoch: 1 \tTrain_loss_mri: 0.1428 | Train_acc_mri: 95.1968 | Train_loss_dna: 2.4521 | Train_acc_dna: 34.2708 | Validation_loss_mri: 1.8273 | Validation_acc_mri: 70.8333 | Validation_loss_dna: 3.2753 | Validation_acc_dna: 10.9375\n",
      "\u001b[36m(launch_and_fit pid=8849)\u001b[0m Run with homomorphic encryption\n",
      "\u001b[36m(launch_and_fit pid=8849)\u001b[0m [Client 1, round 11] fit, config: {'learning_rate': 0.003, 'batch_size': '32', 'server_round': 11, 'local_epochs': 10}\n"
     ]
    },
    {
     "name": "stderr",
     "output_type": "stream",
     "text": [
      " 10%|\u001b[34m█         \u001b[0m| 1/10 [00:04<00:38,  4.27s/it]\n"
     ]
    },
    {
     "name": "stdout",
     "output_type": "stream",
     "text": [
      "\u001b[36m(launch_and_fit pid=8849)\u001b[0m Updated model\n"
     ]
    },
    {
     "name": "stderr",
     "output_type": "stream",
     "text": [
      "  0%|\u001b[34m          \u001b[0m| 0/10 [00:00<?, ?it/s]\n"
     ]
    },
    {
     "name": "stdout",
     "output_type": "stream",
     "text": [
      "\u001b[36m(launch_and_fit pid=8849)\u001b[0m \tTrain Epoch: 2 \tTrain_loss_mri: 0.2366 | Train_acc_mri: 90.9028 | Train_loss_dna: 1.5627 | Train_acc_dna: 46.3426 | Validation_loss_mri: 0.5336 | Validation_acc_mri: 72.3958 | Validation_loss_dna: 3.8752 | Validation_acc_dna: 9.3750\u001b[32m [repeated 3x across cluster]\u001b[0m\n"
     ]
    },
    {
     "name": "stderr",
     "output_type": "stream",
     "text": [
      " 20%|\u001b[34m██        \u001b[0m| 2/10 [00:07<00:30,  3.85s/it]\u001b[32m [repeated 3x across cluster]\u001b[0m\n"
     ]
    },
    {
     "name": "stdout",
     "output_type": "stream",
     "text": [
      "\u001b[36m(launch_and_fit pid=8824)\u001b[0m \tTrain Epoch: 4 \tTrain_loss_mri: 0.1313 | Train_acc_mri: 97.3843 | Train_loss_dna: 0.7712 | Train_acc_dna: 73.6574 | Validation_loss_mri: 2.8677 | Validation_acc_mri: 66.1458 | Validation_loss_dna: 2.1700 | Validation_acc_dna: 33.8542\u001b[32m [repeated 3x across cluster]\u001b[0m\n"
     ]
    },
    {
     "name": "stderr",
     "output_type": "stream",
     "text": [
      " 40%|\u001b[34m████      \u001b[0m| 4/10 [00:15<00:22,  3.77s/it]\u001b[32m [repeated 3x across cluster]\u001b[0m\n"
     ]
    },
    {
     "name": "stdout",
     "output_type": "stream",
     "text": [
      "\u001b[36m(launch_and_fit pid=8849)\u001b[0m \tTrain Epoch: 5 \tTrain_loss_mri: 0.0376 | Train_acc_mri: 98.4375 | Train_loss_dna: 0.7823 | Train_acc_dna: 70.6134 | Validation_loss_mri: 0.5384 | Validation_acc_mri: 72.3958 | Validation_loss_dna: 3.9232 | Validation_acc_dna: 9.3750\u001b[32m [repeated 3x across cluster]\u001b[0m\n"
     ]
    },
    {
     "name": "stderr",
     "output_type": "stream",
     "text": [
      " 50%|\u001b[34m█████     \u001b[0m| 5/10 [00:18<00:18,  3.68s/it]\u001b[32m [repeated 3x across cluster]\u001b[0m\n"
     ]
    },
    {
     "name": "stdout",
     "output_type": "stream",
     "text": [
      "\u001b[36m(launch_and_fit pid=8824)\u001b[0m \tTrain Epoch: 7 \tTrain_loss_mri: 0.0394 | Train_acc_mri: 99.0625 | Train_loss_dna: 0.5211 | Train_acc_dna: 85.8218 | Validation_loss_mri: 2.6453 | Validation_acc_mri: 69.2708 | Validation_loss_dna: 2.4855 | Validation_acc_dna: 36.9792\u001b[32m [repeated 3x across cluster]\u001b[0m\n"
     ]
    },
    {
     "name": "stderr",
     "output_type": "stream",
     "text": [
      " 70%|\u001b[34m███████   \u001b[0m| 7/10 [00:27<00:11,  3.93s/it]\u001b[32m [repeated 3x across cluster]\u001b[0m\n"
     ]
    },
    {
     "name": "stdout",
     "output_type": "stream",
     "text": [
      "\u001b[36m(launch_and_fit pid=8849)\u001b[0m \tTrain Epoch: 8 \tTrain_loss_mri: 0.0411 | Train_acc_mri: 99.0625 | Train_loss_dna: 0.5164 | Train_acc_dna: 84.7106 | Validation_loss_mri: 0.3569 | Validation_acc_mri: 92.1875 | Validation_loss_dna: 4.3091 | Validation_acc_dna: 12.5000\u001b[32m [repeated 3x across cluster]\u001b[0m\n"
     ]
    },
    {
     "name": "stderr",
     "output_type": "stream",
     "text": [
      " 80%|\u001b[34m████████  \u001b[0m| 8/10 [00:31<00:08,  4.06s/it]\u001b[32m [repeated 3x across cluster]\u001b[0m\n"
     ]
    },
    {
     "name": "stdout",
     "output_type": "stream",
     "text": [
      "\u001b[36m(launch_and_fit pid=8824)\u001b[0m save graph in  results/FL/\n",
      "\u001b[36m(launch_and_fit pid=8824)\u001b[0m \tTrain Epoch: 10 \tTrain_loss_mri: 0.0474 | Train_acc_mri: 98.3218 | Train_loss_dna: 0.4305 | Train_acc_dna: 88.2870 | Validation_loss_mri: 2.7436 | Validation_acc_mri: 69.2708 | Validation_loss_dna: 3.3615 | Validation_acc_dna: 33.8542\u001b[32m [repeated 3x across cluster]\u001b[0m\n"
     ]
    },
    {
     "name": "stderr",
     "output_type": "stream",
     "text": [
      "100%|\u001b[34m██████████\u001b[0m| 10/10 [00:39<00:00,  3.98s/it]\u001b[32m [repeated 3x across cluster]\u001b[0m\n"
     ]
    },
    {
     "name": "stdout",
     "output_type": "stream",
     "text": [
      "\u001b[36m(launch_and_fit pid=8824)\u001b[0m mri_net.features.0.weight 5.9604644775390625e-06\n",
      "\u001b[36m(launch_and_fit pid=8824)\u001b[0m mri_net.features.0.bias 1.6689300537109375e-06\n",
      "\u001b[36m(launch_and_fit pid=8824)\u001b[0m mri_net.features.3.weight 1.6689300537109375e-06\n",
      "\u001b[36m(launch_and_fit pid=8824)\u001b[0m mri_net.features.3.bias 1.1920928955078125e-06\n",
      "\u001b[36m(launch_and_fit pid=8824)\u001b[0m mri_net.classifier.0.weight 1.6689300537109375e-06\n",
      "\u001b[36m(launch_and_fit pid=8824)\u001b[0m mri_net.classifier.0.bias 1.1920928955078125e-06\n",
      "\u001b[36m(launch_and_fit pid=8824)\u001b[0m mri_net.classifier.2.weight 1.430511474609375e-06\n",
      "\u001b[36m(launch_and_fit pid=8824)\u001b[0m mri_net.classifier.2.bias 1.1920928955078125e-06\n",
      "\u001b[36m(launch_and_fit pid=8824)\u001b[0m mri_net.classifier.3.weights 1.430511474609375e-06\n",
      "\u001b[36m(launch_and_fit pid=8824)\u001b[0m dna_net.fc1.weight 1.1920928955078125e-06\n",
      "\u001b[36m(launch_and_fit pid=8824)\u001b[0m dna_net.fc1.bias 1.430511474609375e-06\n",
      "\u001b[36m(launch_and_fit pid=8824)\u001b[0m dna_net.fc2.weight 1.1920928955078125e-06\n",
      "\u001b[36m(launch_and_fit pid=8824)\u001b[0m dna_net.fc2.bias 1.1920928955078125e-06\n",
      "\u001b[36m(launch_and_fit pid=8824)\u001b[0m dna_net.fc3.weight 1.1920928955078125e-06\n",
      "\u001b[36m(launch_and_fit pid=8824)\u001b[0m dna_net.fc3.bias 1.6689300537109375e-06\n",
      "\u001b[36m(launch_and_fit pid=8824)\u001b[0m dna_net.fc4.weight 2.86102294921875e-06\n",
      "\u001b[36m(launch_and_fit pid=8824)\u001b[0m dna_net.fc4.bias 1.9073486328125e-06\n",
      "\u001b[36m(launch_and_fit pid=8824)\u001b[0m dna_net.qnn.weights 1.9073486328125e-06\n",
      "\u001b[36m(launch_and_fit pid=8824)\u001b[0m attention.in_proj_weight 1.1920928955078125e-06\n",
      "\u001b[36m(launch_and_fit pid=8824)\u001b[0m attention.in_proj_bias 1.430511474609375e-06\n",
      "\u001b[36m(launch_and_fit pid=8824)\u001b[0m attention.out_proj.weight 1.430511474609375e-06\n",
      "\u001b[36m(launch_and_fit pid=8824)\u001b[0m attention.out_proj.bias 1.6689300537109375e-06\n",
      "\u001b[36m(launch_and_fit pid=8824)\u001b[0m fc1.weight 1.1920928955078125e-06\n",
      "\u001b[36m(launch_and_fit pid=8824)\u001b[0m fc1.bias 1.430511474609375e-06\n",
      "\u001b[36m(launch_and_fit pid=8824)\u001b[0m fc2_mri.weight 1.430511474609375e-06\n",
      "\u001b[36m(launch_and_fit pid=8824)\u001b[0m fc2_mri.bias 1.1920928955078125e-06\n",
      "\u001b[36m(launch_and_fit pid=8824)\u001b[0m fc2_dna.weight 1.430511474609375e-06\n",
      "\u001b[36m(launch_and_fit pid=8824)\u001b[0m fc2_dna.bias 1.1920928955078125e-06\n",
      "\u001b[36m(launch_and_fit pid=8908)\u001b[0m Run with homomorphic encryption\n",
      "\u001b[36m(launch_and_fit pid=8849)\u001b[0m save graph in  results/FL/\n",
      "\u001b[36m(launch_and_fit pid=8849)\u001b[0m \tTrain Epoch: 10 \tTrain_loss_mri: 0.0328 | Train_acc_mri: 99.3750 | Train_loss_dna: 0.4833 | Train_acc_dna: 86.5856 | Validation_loss_mri: 0.3209 | Validation_acc_mri: 92.1875 | Validation_loss_dna: 5.8268 | Validation_acc_dna: 7.8125\n",
      "\u001b[36m(launch_and_fit pid=8849)\u001b[0m fc2_dna.bias 1.430511474609375e-06\u001b[32m [repeated 23x across cluster]\u001b[0m\n",
      "\u001b[36m(launch_and_fit pid=8849)\u001b[0m dna_net.qnn.weights 1.430511474609375e-06\n",
      "\u001b[36m(launch_and_fit pid=8849)\u001b[0m attention.in_proj_weight 1.430511474609375e-06\n",
      "\u001b[36m(launch_and_fit pid=8849)\u001b[0m attention.in_proj_bias 1.430511474609375e-06\n",
      "\u001b[36m(launch_and_fit pid=8849)\u001b[0m attention.out_proj.weight 1.1920928955078125e-06\n",
      "\u001b[36m(launch_and_fit pid=8849)\u001b[0m attention.out_proj.bias 9.5367431640625e-07\n",
      "\u001b[36m(launch_and_fit pid=8908)\u001b[0m [Client 3, round 11] fit, config: {'learning_rate': 0.003, 'batch_size': '32', 'server_round': 11, 'local_epochs': 10}\n",
      "\u001b[36m(launch_and_fit pid=8908)\u001b[0m Updated model\n"
     ]
    },
    {
     "name": "stderr",
     "output_type": "stream",
     "text": [
      "  0%|\u001b[34m          \u001b[0m| 0/10 [00:00<?, ?it/s]\n",
      "100%|\u001b[34m██████████\u001b[0m| 10/10 [00:39<00:00,  3.93s/it]\n"
     ]
    },
    {
     "name": "stdout",
     "output_type": "stream",
     "text": [
      "\u001b[36m(launch_and_fit pid=8908)\u001b[0m \tTrain Epoch: 1 \tTrain_loss_mri: 0.1078 | Train_acc_mri: 95.6250 | Train_loss_dna: 1.7631 | Train_acc_dna: 45.3009 | Validation_loss_mri: 0.6189 | Validation_acc_mri: 87.5000 | Validation_loss_dna: 4.4024 | Validation_acc_dna: 18.7500\n",
      "\u001b[36m(launch_and_fit pid=8932)\u001b[0m Run with homomorphic encryption\n",
      "\u001b[36m(launch_and_fit pid=8932)\u001b[0m [Client 5, round 11] fit, config: {'learning_rate': 0.003, 'batch_size': '32', 'server_round': 11, 'local_epochs': 10}\n"
     ]
    },
    {
     "name": "stderr",
     "output_type": "stream",
     "text": [
      " 10%|\u001b[34m█         \u001b[0m| 1/10 [00:04<00:41,  4.63s/it]\n",
      "  0%|\u001b[34m          \u001b[0m| 0/10 [00:00<?, ?it/s]\n"
     ]
    },
    {
     "name": "stdout",
     "output_type": "stream",
     "text": [
      "\u001b[36m(launch_and_fit pid=8932)\u001b[0m Updated model\n"
     ]
    },
    {
     "name": "stderr",
     "output_type": "stream",
     "text": [
      " 20%|\u001b[34m██        \u001b[0m| 2/10 [00:08<00:34,  4.37s/it]\u001b[32m [repeated 3x across cluster]\u001b[0m\n"
     ]
    },
    {
     "name": "stdout",
     "output_type": "stream",
     "text": [
      "\u001b[36m(launch_and_fit pid=8932)\u001b[0m \tTrain Epoch: 2 \tTrain_loss_mri: 0.2357 | Train_acc_mri: 90.8218 | Train_loss_dna: 1.4476 | Train_acc_dna: 49.2477 | Validation_loss_mri: 0.2775 | Validation_acc_mri: 92.1875 | Validation_loss_dna: 3.6166 | Validation_acc_dna: 10.9375\u001b[32m [repeated 3x across cluster]\u001b[0m\n",
      "\u001b[36m(launch_and_fit pid=8908)\u001b[0m \tTrain Epoch: 4 \tTrain_loss_mri: 0.0631 | Train_acc_mri: 98.1250 | Train_loss_dna: 0.7139 | Train_acc_dna: 74.2824 | Validation_loss_mri: 0.5377 | Validation_acc_mri: 90.6250 | Validation_loss_dna: 3.8350 | Validation_acc_dna: 9.3750\u001b[32m [repeated 3x across cluster]\u001b[0m\n"
     ]
    },
    {
     "name": "stderr",
     "output_type": "stream",
     "text": [
      " 40%|\u001b[34m████      \u001b[0m| 4/10 [00:16<00:24,  4.05s/it]\u001b[32m [repeated 3x across cluster]\u001b[0m\n"
     ]
    },
    {
     "name": "stdout",
     "output_type": "stream",
     "text": [
      "\u001b[36m(launch_and_fit pid=8908)\u001b[0m \tTrain Epoch: 6 \tTrain_loss_mri: 0.0229 | Train_acc_mri: 99.6875 | Train_loss_dna: 0.5780 | Train_acc_dna: 82.3843 | Validation_loss_mri: 0.6016 | Validation_acc_mri: 90.6250 | Validation_loss_dna: 4.5689 | Validation_acc_dna: 9.3750\u001b[32m [repeated 4x across cluster]\u001b[0m\n"
     ]
    },
    {
     "name": "stderr",
     "output_type": "stream",
     "text": [
      " 60%|\u001b[34m██████    \u001b[0m| 6/10 [00:24<00:15,  3.90s/it]\u001b[32m [repeated 4x across cluster]\u001b[0m\n"
     ]
    },
    {
     "name": "stdout",
     "output_type": "stream",
     "text": [
      "\u001b[36m(launch_and_fit pid=8908)\u001b[0m \tTrain Epoch: 8 \tTrain_loss_mri: 0.0114 | Train_acc_mri: 100.0000 | Train_loss_dna: 0.5045 | Train_acc_dna: 83.4028 | Validation_loss_mri: 0.5758 | Validation_acc_mri: 90.6250 | Validation_loss_dna: 5.4952 | Validation_acc_dna: 6.2500\u001b[32m [repeated 4x across cluster]\u001b[0m\n"
     ]
    },
    {
     "name": "stderr",
     "output_type": "stream",
     "text": [
      " 80%|\u001b[34m████████  \u001b[0m| 8/10 [00:31<00:07,  3.85s/it]\u001b[32m [repeated 4x across cluster]\u001b[0m\n"
     ]
    },
    {
     "name": "stdout",
     "output_type": "stream",
     "text": [
      "\u001b[36m(launch_and_fit pid=8908)\u001b[0m save graph in  results/FL/\n",
      "\u001b[36m(launch_and_fit pid=8908)\u001b[0m \tTrain Epoch: 10 \tTrain_loss_mri: 0.0209 | Train_acc_mri: 99.6875 | Train_loss_dna: 0.4649 | Train_acc_dna: 84.5718 | Validation_loss_mri: 0.6415 | Validation_acc_mri: 90.6250 | Validation_loss_dna: 5.9533 | Validation_acc_dna: 9.3750\u001b[32m [repeated 4x across cluster]\u001b[0m\n"
     ]
    },
    {
     "name": "stderr",
     "output_type": "stream",
     "text": [
      "100%|\u001b[34m██████████\u001b[0m| 10/10 [00:39<00:00,  3.97s/it]\u001b[32m [repeated 4x across cluster]\u001b[0m\n"
     ]
    },
    {
     "name": "stdout",
     "output_type": "stream",
     "text": [
      "\u001b[36m(launch_and_fit pid=8908)\u001b[0m mri_net.features.0.weight 5.245208740234375e-06\n",
      "\u001b[36m(launch_and_fit pid=8908)\u001b[0m mri_net.features.0.bias 1.6689300537109375e-06\n",
      "\u001b[36m(launch_and_fit pid=8908)\u001b[0m mri_net.features.3.weight 1.1920928955078125e-06\n",
      "\u001b[36m(launch_and_fit pid=8908)\u001b[0m mri_net.features.3.bias 1.1920928955078125e-06\n",
      "\u001b[36m(launch_and_fit pid=8908)\u001b[0m mri_net.classifier.0.weight 1.430511474609375e-06\n",
      "\u001b[36m(launch_and_fit pid=8908)\u001b[0m mri_net.classifier.0.bias 1.1920928955078125e-06\n",
      "\u001b[36m(launch_and_fit pid=8908)\u001b[0m mri_net.classifier.2.weight 9.5367431640625e-07\n",
      "\u001b[36m(launch_and_fit pid=8908)\u001b[0m mri_net.classifier.2.bias 9.5367431640625e-07\n",
      "\u001b[36m(launch_and_fit pid=8908)\u001b[0m mri_net.classifier.3.weights 1.430511474609375e-06\n",
      "\u001b[36m(launch_and_fit pid=8908)\u001b[0m dna_net.fc1.weight 1.430511474609375e-06\n",
      "\u001b[36m(launch_and_fit pid=8908)\u001b[0m dna_net.fc1.bias 1.1920928955078125e-06\n",
      "\u001b[36m(launch_and_fit pid=8908)\u001b[0m dna_net.fc2.weight 1.1920928955078125e-06\n",
      "\u001b[36m(launch_and_fit pid=8908)\u001b[0m dna_net.fc2.bias 9.5367431640625e-07\n",
      "\u001b[36m(launch_and_fit pid=8908)\u001b[0m dna_net.fc3.weight 1.430511474609375e-06\n",
      "\u001b[36m(launch_and_fit pid=8908)\u001b[0m dna_net.fc3.bias 9.5367431640625e-07\n",
      "\u001b[36m(launch_and_fit pid=8908)\u001b[0m dna_net.fc4.weight 9.5367431640625e-07\n",
      "\u001b[36m(launch_and_fit pid=8908)\u001b[0m dna_net.fc4.bias 1.1920928955078125e-06\n",
      "\u001b[36m(launch_and_fit pid=8908)\u001b[0m dna_net.qnn.weights 1.1920928955078125e-06\n",
      "\u001b[36m(launch_and_fit pid=8908)\u001b[0m attention.in_proj_weight 1.1920928955078125e-06\n",
      "\u001b[36m(launch_and_fit pid=8908)\u001b[0m attention.in_proj_bias 1.1920928955078125e-06\n",
      "\u001b[36m(launch_and_fit pid=8908)\u001b[0m attention.out_proj.weight 1.1920928955078125e-06\n",
      "\u001b[36m(launch_and_fit pid=8908)\u001b[0m attention.out_proj.bias 9.5367431640625e-07\n",
      "\u001b[36m(launch_and_fit pid=8908)\u001b[0m fc1.weight 1.1920928955078125e-06\n",
      "\u001b[36m(launch_and_fit pid=8908)\u001b[0m fc1.bias 1.9073486328125e-06\n",
      "\u001b[36m(launch_and_fit pid=8908)\u001b[0m fc2_mri.weight 1.6689300537109375e-06\n",
      "\u001b[36m(launch_and_fit pid=8908)\u001b[0m fc2_mri.bias 1.1920928955078125e-06\n",
      "\u001b[36m(launch_and_fit pid=8908)\u001b[0m fc2_dna.weight 9.5367431640625e-07\n",
      "\u001b[36m(launch_and_fit pid=8908)\u001b[0m fc2_dna.bias 1.1920928955078125e-06\n",
      "\u001b[36m(launch_and_fit pid=8989)\u001b[0m Run with homomorphic encryption\n",
      "\u001b[36m(launch_and_fit pid=8932)\u001b[0m save graph in  results/FL/\n",
      "\u001b[36m(launch_and_fit pid=8932)\u001b[0m \tTrain Epoch: 10 \tTrain_loss_mri: 0.0125 | Train_acc_mri: 100.0000 | Train_loss_dna: 0.4038 | Train_acc_dna: 89.2014 | Validation_loss_mri: 0.3709 | Validation_acc_mri: 89.0625 | Validation_loss_dna: 5.7135 | Validation_acc_dna: 26.0417\n",
      "\u001b[36m(launch_and_fit pid=8932)\u001b[0m fc2_dna.bias 1.6689300537109375e-06\u001b[32m [repeated 23x across cluster]\u001b[0m\n",
      "\u001b[36m(launch_and_fit pid=8932)\u001b[0m dna_net.qnn.weights 1.9073486328125e-06\n",
      "\u001b[36m(launch_and_fit pid=8932)\u001b[0m attention.in_proj_weight 2.1457672119140625e-06\n",
      "\u001b[36m(launch_and_fit pid=8932)\u001b[0m attention.in_proj_bias 1.9073486328125e-06\n",
      "\u001b[36m(launch_and_fit pid=8932)\u001b[0m attention.out_proj.weight 2.1457672119140625e-06\n",
      "\u001b[36m(launch_and_fit pid=8932)\u001b[0m attention.out_proj.bias 1.9073486328125e-06\n",
      "\u001b[36m(launch_and_fit pid=8989)\u001b[0m [Client 2, round 11] fit, config: {'learning_rate': 0.003, 'batch_size': '32', 'server_round': 11, 'local_epochs': 10}\n",
      "\u001b[36m(launch_and_fit pid=8989)\u001b[0m Updated model\n"
     ]
    },
    {
     "name": "stderr",
     "output_type": "stream",
     "text": [
      "  0%|\u001b[34m          \u001b[0m| 0/10 [00:00<?, ?it/s]\n",
      "100%|\u001b[34m██████████\u001b[0m| 10/10 [00:38<00:00,  3.89s/it]\n"
     ]
    },
    {
     "name": "stdout",
     "output_type": "stream",
     "text": [
      "\u001b[36m(launch_and_fit pid=8989)\u001b[0m \tTrain Epoch: 1 \tTrain_loss_mri: 0.1510 | Train_acc_mri: 94.9421 | Train_loss_dna: 1.6711 | Train_acc_dna: 46.4583 | Validation_loss_mri: 0.5777 | Validation_acc_mri: 73.9583 | Validation_loss_dna: 3.0005 | Validation_acc_dna: 24.4792\n",
      "\u001b[36m(launch_and_fit pid=8991)\u001b[0m Run with homomorphic encryption\n",
      "\u001b[36m(launch_and_fit pid=8991)\u001b[0m [Client 7, round 11] fit, config: {'learning_rate': 0.003, 'batch_size': '32', 'server_round': 11, 'local_epochs': 10}\n"
     ]
    },
    {
     "name": "stderr",
     "output_type": "stream",
     "text": [
      " 10%|\u001b[34m█         \u001b[0m| 1/10 [00:04<00:38,  4.23s/it]\n"
     ]
    },
    {
     "name": "stdout",
     "output_type": "stream",
     "text": [
      "\u001b[36m(launch_and_fit pid=8991)\u001b[0m Updated model\n"
     ]
    },
    {
     "name": "stderr",
     "output_type": "stream",
     "text": [
      "  0%|\u001b[34m          \u001b[0m| 0/10 [00:00<?, ?it/s]\n"
     ]
    },
    {
     "name": "stdout",
     "output_type": "stream",
     "text": [
      "\u001b[36m(launch_and_fit pid=8989)\u001b[0m \tTrain Epoch: 3 \tTrain_loss_mri: 0.1359 | Train_acc_mri: 95.9375 | Train_loss_dna: 1.0370 | Train_acc_dna: 59.7917 | Validation_loss_mri: 0.9658 | Validation_acc_mri: 73.9583 | Validation_loss_dna: 2.4902 | Validation_acc_dna: 29.1667\u001b[32m [repeated 4x across cluster]\u001b[0m\n"
     ]
    },
    {
     "name": "stderr",
     "output_type": "stream",
     "text": [
      " 30%|\u001b[34m███       \u001b[0m| 3/10 [00:11<00:27,  3.89s/it]\u001b[32m [repeated 4x across cluster]\u001b[0m\n"
     ]
    },
    {
     "name": "stdout",
     "output_type": "stream",
     "text": [
      "\u001b[36m(launch_and_fit pid=8989)\u001b[0m \tTrain Epoch: 5 \tTrain_loss_mri: 0.0336 | Train_acc_mri: 99.3750 | Train_loss_dna: 0.6801 | Train_acc_dna: 76.4120 | Validation_loss_mri: 0.6023 | Validation_acc_mri: 70.8333 | Validation_loss_dna: 2.7785 | Validation_acc_dna: 29.1667\u001b[32m [repeated 4x across cluster]\u001b[0m\n"
     ]
    },
    {
     "name": "stderr",
     "output_type": "stream",
     "text": [
      " 50%|\u001b[34m█████     \u001b[0m| 5/10 [00:19<00:19,  3.91s/it]\u001b[32m [repeated 4x across cluster]\u001b[0m\n"
     ]
    },
    {
     "name": "stdout",
     "output_type": "stream",
     "text": [
      "\u001b[36m(launch_and_fit pid=8989)\u001b[0m \tTrain Epoch: 7 \tTrain_loss_mri: 0.0297 | Train_acc_mri: 99.3171 | Train_loss_dna: 0.5452 | Train_acc_dna: 84.0278 | Validation_loss_mri: 0.7480 | Validation_acc_mri: 73.9583 | Validation_loss_dna: 3.0994 | Validation_acc_dna: 24.4792\u001b[32m [repeated 4x across cluster]\u001b[0m\n"
     ]
    },
    {
     "name": "stderr",
     "output_type": "stream",
     "text": [
      " 70%|\u001b[34m███████   \u001b[0m| 7/10 [00:27<00:11,  3.84s/it]\u001b[32m [repeated 4x across cluster]\u001b[0m\n"
     ]
    },
    {
     "name": "stdout",
     "output_type": "stream",
     "text": [
      "\u001b[36m(launch_and_fit pid=8991)\u001b[0m \tTrain Epoch: 9 \tTrain_loss_mri: 0.0426 | Train_acc_mri: 99.3750 | Train_loss_dna: 0.5958 | Train_acc_dna: 81.6435 | Validation_loss_mri: 0.6878 | Validation_acc_mri: 78.6458 | Validation_loss_dna: 2.7480 | Validation_acc_dna: 44.2708\u001b[32m [repeated 4x across cluster]\u001b[0m\n"
     ]
    },
    {
     "name": "stderr",
     "output_type": "stream",
     "text": [
      " 90%|\u001b[34m█████████ \u001b[0m| 9/10 [00:34<00:03,  3.74s/it]\u001b[32m [repeated 4x across cluster]\u001b[0m\n"
     ]
    },
    {
     "name": "stdout",
     "output_type": "stream",
     "text": [
      "\u001b[36m(launch_and_fit pid=8991)\u001b[0m save graph in  results/FL/\n",
      "\u001b[36m(launch_and_fit pid=8991)\u001b[0m mri_net.features.0.weight 6.67572021484375e-06\n",
      "\u001b[36m(launch_and_fit pid=8991)\u001b[0m mri_net.features.0.bias 2.6226043701171875e-06\n",
      "\u001b[36m(launch_and_fit pid=8991)\u001b[0m mri_net.features.3.weight 1.1920928955078125e-06\n",
      "\u001b[36m(launch_and_fit pid=8991)\u001b[0m mri_net.features.3.bias 1.1920928955078125e-06\n",
      "\u001b[36m(launch_and_fit pid=8991)\u001b[0m mri_net.classifier.0.weight 9.5367431640625e-07\n",
      "\u001b[36m(launch_and_fit pid=8991)\u001b[0m mri_net.classifier.0.bias 9.5367431640625e-07\n",
      "\u001b[36m(launch_and_fit pid=8991)\u001b[0m mri_net.classifier.2.weight 9.5367431640625e-07\n",
      "\u001b[36m(launch_and_fit pid=8991)\u001b[0m mri_net.classifier.2.bias 1.1920928955078125e-06\n",
      "\u001b[36m(launch_and_fit pid=8991)\u001b[0m mri_net.classifier.3.weights 1.1920928955078125e-06\n",
      "\u001b[36m(launch_and_fit pid=8991)\u001b[0m dna_net.fc1.weight 9.5367431640625e-07\n",
      "\u001b[36m(launch_and_fit pid=8991)\u001b[0m dna_net.fc1.bias 1.1920928955078125e-06\n",
      "\u001b[36m(launch_and_fit pid=8991)\u001b[0m dna_net.fc2.weight 9.5367431640625e-07\n",
      "\u001b[36m(launch_and_fit pid=8991)\u001b[0m dna_net.fc2.bias 1.1920928955078125e-06\n",
      "\u001b[36m(launch_and_fit pid=8991)\u001b[0m dna_net.fc3.weight 1.1920928955078125e-06\n",
      "\u001b[36m(launch_and_fit pid=8991)\u001b[0m dna_net.fc3.bias 9.5367431640625e-07\n",
      "\u001b[36m(launch_and_fit pid=8991)\u001b[0m dna_net.fc4.weight 1.1920928955078125e-06\n",
      "\u001b[36m(launch_and_fit pid=8991)\u001b[0m dna_net.fc4.bias 2.1457672119140625e-06\n",
      "\u001b[36m(launch_and_fit pid=8991)\u001b[0m dna_net.qnn.weights 1.1920928955078125e-06\n",
      "\u001b[36m(launch_and_fit pid=8991)\u001b[0m attention.in_proj_weight 1.6689300537109375e-06\n",
      "\u001b[36m(launch_and_fit pid=8991)\u001b[0m attention.in_proj_bias 1.6689300537109375e-06\n",
      "\u001b[36m(launch_and_fit pid=8991)\u001b[0m attention.out_proj.weight 1.6689300537109375e-06\n",
      "\u001b[36m(launch_and_fit pid=8991)\u001b[0m attention.out_proj.bias 1.1920928955078125e-06\n",
      "\u001b[36m(launch_and_fit pid=8991)\u001b[0m fc1.weight 1.430511474609375e-06\n",
      "\u001b[36m(launch_and_fit pid=8991)\u001b[0m fc1.bias 1.1920928955078125e-06\n",
      "\u001b[36m(launch_and_fit pid=8991)\u001b[0m fc2_mri.weight 1.1920928955078125e-06\n",
      "\u001b[36m(launch_and_fit pid=8991)\u001b[0m fc2_mri.bias 1.1920928955078125e-06\n",
      "\u001b[36m(launch_and_fit pid=8991)\u001b[0m fc2_dna.weight 9.5367431640625e-07\n",
      "\u001b[36m(launch_and_fit pid=8991)\u001b[0m fc2_dna.bias 1.1920928955078125e-06\n"
     ]
    },
    {
     "name": "stderr",
     "output_type": "stream",
     "text": [
      "DEBUG flwr 2024-08-05 08:10:16,399 | server.py:236 | fit_round 11 received 10 results and 0 failures\n"
     ]
    },
    {
     "name": "stdout",
     "output_type": "stream",
     "text": [
      "Saving round 11 aggregated_parameters...\n"
     ]
    },
    {
     "name": "stderr",
     "output_type": "stream",
     "text": [
      "DEBUG flwr 2024-08-05 08:10:18,420 | server.py:173 | evaluate_round 11: strategy sampled 10 clients (out of 10)\n"
     ]
    },
    {
     "name": "stdout",
     "output_type": "stream",
     "text": [
      "\u001b[36m(launch_and_evaluate pid=9081)\u001b[0m Run with homomorphic encryption\n",
      "\u001b[36m(launch_and_fit pid=8989)\u001b[0m \tTrain Epoch: 10 \tTrain_loss_mri: 0.0133 | Train_acc_mri: 99.6875 | Train_loss_dna: 0.4275 | Train_acc_dna: 87.5810 | Validation_loss_mri: 0.7455 | Validation_acc_mri: 73.9583 | Validation_loss_dna: 3.6571 | Validation_acc_dna: 12.5000\u001b[32m [repeated 3x across cluster]\u001b[0m\n",
      "\u001b[36m(launch_and_fit pid=8989)\u001b[0m save graph in  results/FL/\n",
      "\u001b[36m(launch_and_fit pid=8989)\u001b[0m fc2_dna.bias 1.6689300537109375e-06\u001b[32m [repeated 23x across cluster]\u001b[0m\n",
      "\u001b[36m(launch_and_fit pid=8989)\u001b[0m dna_net.qnn.weights 1.430511474609375e-06\n",
      "\u001b[36m(launch_and_fit pid=8989)\u001b[0m attention.in_proj_weight 1.6689300537109375e-06\n",
      "\u001b[36m(launch_and_fit pid=8989)\u001b[0m attention.in_proj_bias 1.430511474609375e-06\n",
      "\u001b[36m(launch_and_fit pid=8989)\u001b[0m attention.out_proj.weight 1.430511474609375e-06\n",
      "\u001b[36m(launch_and_fit pid=8989)\u001b[0m attention.out_proj.bias 1.430511474609375e-06\n",
      "\u001b[36m(launch_and_evaluate pid=9081)\u001b[0m [Client 1] evaluate, config: {}\n",
      "\u001b[36m(launch_and_evaluate pid=9081)\u001b[0m Updated model\n",
      "\u001b[36m(launch_and_evaluate pid=9159)\u001b[0m Run with homomorphic encryption\u001b[32m [repeated 2x across cluster]\u001b[0m\n",
      "\u001b[36m(launch_and_evaluate pid=9080)\u001b[0m [Client 3] evaluate, config: {}\n",
      "\u001b[36m(launch_and_evaluate pid=9080)\u001b[0m Updated model\n",
      "\u001b[36m(launch_and_evaluate pid=9159)\u001b[0m [Client 2] evaluate, config: {}\n",
      "\u001b[36m(launch_and_evaluate pid=9159)\u001b[0m Updated model\n",
      "\u001b[36m(launch_and_evaluate pid=9237)\u001b[0m Run with homomorphic encryption\u001b[32m [repeated 2x across cluster]\u001b[0m\n",
      "\u001b[36m(launch_and_evaluate pid=9161)\u001b[0m [Client 7] evaluate, config: {}\n",
      "\u001b[36m(launch_and_evaluate pid=9161)\u001b[0m Updated model\n",
      "\u001b[36m(launch_and_evaluate pid=9237)\u001b[0m [Client 6] evaluate, config: {}\n",
      "\u001b[36m(launch_and_evaluate pid=9237)\u001b[0m Updated model\n"
     ]
    },
    {
     "name": "stderr",
     "output_type": "stream",
     "text": [
      "\u001b[36m(launch_and_evaluate pid=9239)\u001b[0m /opt/conda/lib/python3.10/site-packages/sklearn/metrics/_ranking.py:1029: UndefinedMetricWarning: No positive samples in y_true, true positive value should be meaningless\n",
      "\u001b[36m(launch_and_evaluate pid=9239)\u001b[0m   warnings.warn(\n",
      "100%|\u001b[34m██████████\u001b[0m| 10/10 [00:38<00:00,  3.84s/it]\u001b[32m [repeated 3x across cluster]\u001b[0m\n"
     ]
    },
    {
     "name": "stdout",
     "output_type": "stream",
     "text": [
      "\u001b[36m(launch_and_evaluate pid=9315)\u001b[0m Run with homomorphic encryption\u001b[32m [repeated 2x across cluster]\u001b[0m\n",
      "\u001b[36m(launch_and_evaluate pid=9239)\u001b[0m [Client 4] evaluate, config: {}\n",
      "\u001b[36m(launch_and_evaluate pid=9239)\u001b[0m Updated model\n",
      "\u001b[36m(launch_and_evaluate pid=9317)\u001b[0m [Client 8] evaluate, config: {}\n",
      "\u001b[36m(launch_and_evaluate pid=9315)\u001b[0m Updated model\n"
     ]
    },
    {
     "name": "stderr",
     "output_type": "stream",
     "text": [
      "\u001b[36m(launch_and_evaluate pid=9317)\u001b[0m /opt/conda/lib/python3.10/site-packages/sklearn/metrics/_ranking.py:1029: UndefinedMetricWarning: No positive samples in y_true, true positive value should be meaningless\n",
      "\u001b[36m(launch_and_evaluate pid=9317)\u001b[0m   warnings.warn(\n"
     ]
    },
    {
     "name": "stdout",
     "output_type": "stream",
     "text": [
      "\u001b[36m(launch_and_evaluate pid=9395)\u001b[0m Run with homomorphic encryption\u001b[32m [repeated 2x across cluster]\u001b[0m\n",
      "\u001b[36m(launch_and_evaluate pid=9315)\u001b[0m [Client 0] evaluate, config: {}\n",
      "\u001b[36m(launch_and_evaluate pid=9317)\u001b[0m Updated model\n",
      "\u001b[36m(launch_and_evaluate pid=9395)\u001b[0m [Client 9] evaluate, config: {}\n",
      "\u001b[36m(launch_and_evaluate pid=9395)\u001b[0m Updated model\n"
     ]
    },
    {
     "name": "stderr",
     "output_type": "stream",
     "text": [
      "\u001b[36m(launch_and_evaluate pid=9395)\u001b[0m /opt/conda/lib/python3.10/site-packages/sklearn/metrics/_ranking.py:1029: UndefinedMetricWarning: No positive samples in y_true, true positive value should be meaningless\n",
      "\u001b[36m(launch_and_evaluate pid=9395)\u001b[0m   warnings.warn(\n",
      "DEBUG flwr 2024-08-05 08:11:35,539 | server.py:187 | evaluate_round 11 received 10 results and 0 failures\n",
      "DEBUG flwr 2024-08-05 08:11:35,541 | server.py:222 | fit_round 12: strategy sampled 10 clients (out of 10)\n"
     ]
    },
    {
     "name": "stdout",
     "output_type": "stream",
     "text": [
      "\u001b[36m(launch_and_fit pid=9481)\u001b[0m Run with homomorphic encryption\u001b[32m [repeated 2x across cluster]\u001b[0m\n",
      "\u001b[36m(launch_and_evaluate pid=9393)\u001b[0m [Client 5] evaluate, config: {}\n",
      "\u001b[36m(launch_and_evaluate pid=9393)\u001b[0m Updated model\n",
      "\u001b[36m(launch_and_fit pid=9480)\u001b[0m [Client 8, round 12] fit, config: {'learning_rate': 0.003, 'batch_size': '32', 'server_round': 12, 'local_epochs': 10}\n"
     ]
    },
    {
     "name": "stderr",
     "output_type": "stream",
     "text": [
      "  0%|\u001b[34m          \u001b[0m| 0/10 [00:00<?, ?it/s]\n"
     ]
    },
    {
     "name": "stdout",
     "output_type": "stream",
     "text": [
      "\u001b[36m(launch_and_fit pid=9480)\u001b[0m Updated model\n"
     ]
    },
    {
     "name": "stderr",
     "output_type": "stream",
     "text": [
      " 10%|\u001b[34m█         \u001b[0m| 1/10 [00:04<00:37,  4.18s/it]\n"
     ]
    },
    {
     "name": "stdout",
     "output_type": "stream",
     "text": [
      "\u001b[36m(launch_and_fit pid=9480)\u001b[0m \tTrain Epoch: 1 \tTrain_loss_mri: 0.3787 | Train_acc_mri: 87.6968 | Train_loss_dna: 1.8385 | Train_acc_dna: 46.0069 | Validation_loss_mri: 0.8128 | Validation_acc_mri: 73.9583 | Validation_loss_dna: 2.8442 | Validation_acc_dna: 27.6042\n",
      "\u001b[36m(launch_and_fit pid=9480)\u001b[0m Run with homomorphic encryption\n",
      "\u001b[36m(launch_and_fit pid=9481)\u001b[0m [Client 7, round 12] fit, config: {'learning_rate': 0.003, 'batch_size': '32', 'server_round': 12, 'local_epochs': 10}\n"
     ]
    },
    {
     "name": "stderr",
     "output_type": "stream",
     "text": [
      "  0%|\u001b[34m          \u001b[0m| 0/10 [00:00<?, ?it/s]\n"
     ]
    },
    {
     "name": "stdout",
     "output_type": "stream",
     "text": [
      "\u001b[36m(launch_and_fit pid=9481)\u001b[0m Updated model\n"
     ]
    },
    {
     "name": "stderr",
     "output_type": "stream",
     "text": [
      " 30%|\u001b[34m███       \u001b[0m| 3/10 [00:11<00:26,  3.80s/it]\u001b[32m [repeated 4x across cluster]\u001b[0m\n"
     ]
    },
    {
     "name": "stdout",
     "output_type": "stream",
     "text": [
      "\u001b[36m(launch_and_fit pid=9480)\u001b[0m \tTrain Epoch: 3 \tTrain_loss_mri: 0.0758 | Train_acc_mri: 96.5625 | Train_loss_dna: 0.8084 | Train_acc_dna: 68.0324 | Validation_loss_mri: 0.5613 | Validation_acc_mri: 93.7500 | Validation_loss_dna: 2.2189 | Validation_acc_dna: 42.7083\u001b[32m [repeated 4x across cluster]\u001b[0m\n"
     ]
    },
    {
     "name": "stderr",
     "output_type": "stream",
     "text": [
      " 50%|\u001b[34m█████     \u001b[0m| 5/10 [00:19<00:19,  3.83s/it]\u001b[32m [repeated 4x across cluster]\u001b[0m\n"
     ]
    },
    {
     "name": "stdout",
     "output_type": "stream",
     "text": [
      "\u001b[36m(launch_and_fit pid=9480)\u001b[0m \tTrain Epoch: 5 \tTrain_loss_mri: 0.0780 | Train_acc_mri: 98.1250 | Train_loss_dna: 0.5322 | Train_acc_dna: 82.3264 | Validation_loss_mri: 0.7857 | Validation_acc_mri: 89.0625 | Validation_loss_dna: 2.4648 | Validation_acc_dna: 41.1458\u001b[32m [repeated 4x across cluster]\u001b[0m\n"
     ]
    },
    {
     "name": "stderr",
     "output_type": "stream",
     "text": [
      " 70%|\u001b[34m███████   \u001b[0m| 7/10 [00:26<00:11,  3.76s/it]\u001b[32m [repeated 4x across cluster]\u001b[0m\n"
     ]
    },
    {
     "name": "stdout",
     "output_type": "stream",
     "text": [
      "\u001b[36m(launch_and_fit pid=9480)\u001b[0m \tTrain Epoch: 7 \tTrain_loss_mri: 0.0183 | Train_acc_mri: 99.6875 | Train_loss_dna: 0.4466 | Train_acc_dna: 85.8449 | Validation_loss_mri: 0.6068 | Validation_acc_mri: 92.1875 | Validation_loss_dna: 2.4449 | Validation_acc_dna: 59.3750\u001b[32m [repeated 4x across cluster]\u001b[0m\n"
     ]
    },
    {
     "name": "stderr",
     "output_type": "stream",
     "text": [
      " 90%|\u001b[34m█████████ \u001b[0m| 9/10 [00:34<00:03,  3.74s/it]\u001b[32m [repeated 4x across cluster]\u001b[0m\n"
     ]
    },
    {
     "name": "stdout",
     "output_type": "stream",
     "text": [
      "\u001b[36m(launch_and_fit pid=9480)\u001b[0m \tTrain Epoch: 9 \tTrain_loss_mri: 0.0205 | Train_acc_mri: 99.6875 | Train_loss_dna: 0.3521 | Train_acc_dna: 89.7685 | Validation_loss_mri: 0.6657 | Validation_acc_mri: 87.5000 | Validation_loss_dna: 2.6353 | Validation_acc_dna: 60.9375\u001b[32m [repeated 4x across cluster]\u001b[0m\n",
      "\u001b[36m(launch_and_fit pid=9480)\u001b[0m save graph in  results/FL/\n",
      "\u001b[36m(launch_and_fit pid=9480)\u001b[0m mri_net.features.0.weight 5.4836273193359375e-06\n",
      "\u001b[36m(launch_and_fit pid=9480)\u001b[0m mri_net.features.0.bias 1.6689300537109375e-06\n",
      "\u001b[36m(launch_and_fit pid=9480)\u001b[0m mri_net.features.3.weight 1.1920928955078125e-06\n",
      "\u001b[36m(launch_and_fit pid=9480)\u001b[0m mri_net.features.3.bias 1.1920928955078125e-06\n",
      "\u001b[36m(launch_and_fit pid=9480)\u001b[0m mri_net.classifier.0.weight 9.5367431640625e-07\n",
      "\u001b[36m(launch_and_fit pid=9480)\u001b[0m mri_net.classifier.0.bias 1.430511474609375e-06\n",
      "\u001b[36m(launch_and_fit pid=9480)\u001b[0m mri_net.classifier.2.weight 1.1920928955078125e-06\n",
      "\u001b[36m(launch_and_fit pid=9480)\u001b[0m mri_net.classifier.2.bias 1.1920928955078125e-06\n",
      "\u001b[36m(launch_and_fit pid=9480)\u001b[0m mri_net.classifier.3.weights 1.430511474609375e-06\n",
      "\u001b[36m(launch_and_fit pid=9480)\u001b[0m dna_net.fc1.weight 9.5367431640625e-07\n",
      "\u001b[36m(launch_and_fit pid=9480)\u001b[0m dna_net.fc1.bias 9.5367431640625e-07\n",
      "\u001b[36m(launch_and_fit pid=9480)\u001b[0m dna_net.fc2.weight 1.430511474609375e-06\n",
      "\u001b[36m(launch_and_fit pid=9480)\u001b[0m dna_net.fc2.bias 9.5367431640625e-07\n",
      "\u001b[36m(launch_and_fit pid=9480)\u001b[0m dna_net.fc3.weight 1.1920928955078125e-06\n",
      "\u001b[36m(launch_and_fit pid=9480)\u001b[0m dna_net.fc3.bias 1.1920928955078125e-06\n",
      "\u001b[36m(launch_and_fit pid=9480)\u001b[0m dna_net.fc4.weight 1.1920928955078125e-06\n",
      "\u001b[36m(launch_and_fit pid=9480)\u001b[0m dna_net.fc4.bias 1.1920928955078125e-06\n",
      "\u001b[36m(launch_and_fit pid=9480)\u001b[0m dna_net.qnn.weights 1.1920928955078125e-06\n",
      "\u001b[36m(launch_and_fit pid=9480)\u001b[0m attention.in_proj_weight 1.1920928955078125e-06\n",
      "\u001b[36m(launch_and_fit pid=9480)\u001b[0m attention.in_proj_bias 9.5367431640625e-07\n",
      "\u001b[36m(launch_and_fit pid=9480)\u001b[0m attention.out_proj.weight 9.5367431640625e-07\n",
      "\u001b[36m(launch_and_fit pid=9480)\u001b[0m attention.out_proj.bias 9.5367431640625e-07\n",
      "\u001b[36m(launch_and_fit pid=9480)\u001b[0m fc1.weight 1.430511474609375e-06\n",
      "\u001b[36m(launch_and_fit pid=9480)\u001b[0m fc1.bias 1.1920928955078125e-06\n",
      "\u001b[36m(launch_and_fit pid=9480)\u001b[0m fc2_mri.weight 1.1920928955078125e-06\n",
      "\u001b[36m(launch_and_fit pid=9480)\u001b[0m fc2_mri.bias 9.5367431640625e-07\n",
      "\u001b[36m(launch_and_fit pid=9480)\u001b[0m fc2_dna.weight 1.430511474609375e-06\n",
      "\u001b[36m(launch_and_fit pid=9480)\u001b[0m fc2_dna.bias 1.1920928955078125e-06\n",
      "\u001b[36m(launch_and_fit pid=9565)\u001b[0m Run with homomorphic encryption\n",
      "\u001b[36m(launch_and_fit pid=9481)\u001b[0m \tTrain Epoch: 10 \tTrain_loss_mri: 0.0217 | Train_acc_mri: 99.3750 | Train_loss_dna: 0.4553 | Train_acc_dna: 85.7060 | Validation_loss_mri: 0.7687 | Validation_acc_mri: 95.3125 | Validation_loss_dna: 2.8242 | Validation_acc_dna: 47.3958\u001b[32m [repeated 3x across cluster]\u001b[0m\n",
      "\u001b[36m(launch_and_fit pid=9481)\u001b[0m save graph in  results/FL/\n",
      "\u001b[36m(launch_and_fit pid=9481)\u001b[0m fc2_dna.bias 9.5367431640625e-07\u001b[32m [repeated 23x across cluster]\u001b[0m\n",
      "\u001b[36m(launch_and_fit pid=9481)\u001b[0m dna_net.qnn.weights 9.5367431640625e-07\n",
      "\u001b[36m(launch_and_fit pid=9481)\u001b[0m attention.in_proj_weight 9.5367431640625e-07\n",
      "\u001b[36m(launch_and_fit pid=9481)\u001b[0m attention.in_proj_bias 1.1920928955078125e-06\n",
      "\u001b[36m(launch_and_fit pid=9481)\u001b[0m attention.out_proj.weight 9.5367431640625e-07\n",
      "\u001b[36m(launch_and_fit pid=9481)\u001b[0m attention.out_proj.bias 9.5367431640625e-07\n",
      "\u001b[36m(launch_and_fit pid=9565)\u001b[0m [Client 6, round 12] fit, config: {'learning_rate': 0.003, 'batch_size': '32', 'server_round': 12, 'local_epochs': 10}\n",
      "\u001b[36m(launch_and_fit pid=9565)\u001b[0m Updated model\n"
     ]
    },
    {
     "name": "stderr",
     "output_type": "stream",
     "text": [
      "  0%|\u001b[34m          \u001b[0m| 0/10 [00:00<?, ?it/s]\n",
      "100%|\u001b[34m██████████\u001b[0m| 10/10 [00:38<00:00,  3.82s/it]\u001b[32m [repeated 3x across cluster]\u001b[0m\n"
     ]
    },
    {
     "name": "stdout",
     "output_type": "stream",
     "text": [
      "\u001b[36m(launch_and_fit pid=9563)\u001b[0m Run with homomorphic encryption\n",
      "\u001b[36m(launch_and_fit pid=9565)\u001b[0m \tTrain Epoch: 1 \tTrain_loss_mri: 0.1605 | Train_acc_mri: 94.8264 | Train_loss_dna: 1.7483 | Train_acc_dna: 47.3727 | Validation_loss_mri: 1.2951 | Validation_acc_mri: 66.1458 | Validation_loss_dna: 3.4784 | Validation_acc_dna: 41.1458\n",
      "\u001b[36m(launch_and_fit pid=9563)\u001b[0m [Client 2, round 12] fit, config: {'learning_rate': 0.003, 'batch_size': '32', 'server_round': 12, 'local_epochs': 10}\n",
      "\u001b[36m(launch_and_fit pid=9563)\u001b[0m \tTrain Epoch: 1 \tTrain_loss_mri: 0.1259 | Train_acc_mri: 95.2546 | Train_loss_dna: 1.6122 | Train_acc_dna: 48.3102 | Validation_loss_mri: 0.4021 | Validation_acc_mri: 75.5208 | Validation_loss_dna: 3.0602 | Validation_acc_dna: 30.7292\n",
      "\u001b[36m(launch_and_fit pid=9563)\u001b[0m Updated model\n"
     ]
    },
    {
     "name": "stderr",
     "output_type": "stream",
     "text": [
      "  0%|\u001b[34m          \u001b[0m| 0/10 [00:00<?, ?it/s]\n",
      " 20%|\u001b[34m██        \u001b[0m| 2/10 [00:08<00:31,  3.97s/it]\u001b[32m [repeated 3x across cluster]\u001b[0m\n"
     ]
    },
    {
     "name": "stdout",
     "output_type": "stream",
     "text": [
      "\u001b[36m(launch_and_fit pid=9565)\u001b[0m \tTrain Epoch: 3 \tTrain_loss_mri: 0.1929 | Train_acc_mri: 95.1968 | Train_loss_dna: 0.9850 | Train_acc_dna: 62.6620 | Validation_loss_mri: 1.0448 | Validation_acc_mri: 72.3958 | Validation_loss_dna: 3.0142 | Validation_acc_dna: 26.0417\u001b[32m [repeated 3x across cluster]\u001b[0m\n"
     ]
    },
    {
     "name": "stderr",
     "output_type": "stream",
     "text": [
      " 40%|\u001b[34m████      \u001b[0m| 4/10 [00:15<00:23,  3.84s/it]\u001b[32m [repeated 4x across cluster]\u001b[0m\n"
     ]
    },
    {
     "name": "stdout",
     "output_type": "stream",
     "text": [
      "\u001b[36m(launch_and_fit pid=9565)\u001b[0m \tTrain Epoch: 5 \tTrain_loss_mri: 0.0828 | Train_acc_mri: 97.4421 | Train_loss_dna: 0.6096 | Train_acc_dna: 78.9699 | Validation_loss_mri: 0.5918 | Validation_acc_mri: 90.6250 | Validation_loss_dna: 4.0345 | Validation_acc_dna: 9.3750\u001b[32m [repeated 4x across cluster]\u001b[0m\n"
     ]
    },
    {
     "name": "stderr",
     "output_type": "stream",
     "text": [
      " 60%|\u001b[34m██████    \u001b[0m| 6/10 [00:23<00:15,  3.79s/it]\u001b[32m [repeated 4x across cluster]\u001b[0m\n"
     ]
    },
    {
     "name": "stdout",
     "output_type": "stream",
     "text": [
      "\u001b[36m(launch_and_fit pid=9565)\u001b[0m \tTrain Epoch: 7 \tTrain_loss_mri: 0.0256 | Train_acc_mri: 99.6875 | Train_loss_dna: 0.5378 | Train_acc_dna: 80.6481 | Validation_loss_mri: 0.7846 | Validation_acc_mri: 72.3958 | Validation_loss_dna: 4.2653 | Validation_acc_dna: 7.8125\u001b[32m [repeated 4x across cluster]\u001b[0m\n"
     ]
    },
    {
     "name": "stderr",
     "output_type": "stream",
     "text": [
      " 80%|\u001b[34m████████  \u001b[0m| 8/10 [00:30<00:07,  3.84s/it]\u001b[32m [repeated 4x across cluster]\u001b[0m\n"
     ]
    },
    {
     "name": "stdout",
     "output_type": "stream",
     "text": [
      "\u001b[36m(launch_and_fit pid=9565)\u001b[0m \tTrain Epoch: 9 \tTrain_loss_mri: 0.0303 | Train_acc_mri: 99.0625 | Train_loss_dna: 0.4208 | Train_acc_dna: 86.3310 | Validation_loss_mri: 1.3915 | Validation_acc_mri: 70.8333 | Validation_loss_dna: 4.4938 | Validation_acc_dna: 10.9375\u001b[32m [repeated 4x across cluster]\u001b[0m\n",
      "\u001b[36m(launch_and_fit pid=9565)\u001b[0m save graph in  results/FL/\n"
     ]
    },
    {
     "name": "stderr",
     "output_type": "stream",
     "text": [
      "100%|\u001b[34m██████████\u001b[0m| 10/10 [00:38<00:00,  3.84s/it]\u001b[32m [repeated 4x across cluster]\u001b[0m\n"
     ]
    },
    {
     "name": "stdout",
     "output_type": "stream",
     "text": [
      "\u001b[36m(launch_and_fit pid=9565)\u001b[0m mri_net.features.0.weight 4.76837158203125e-06\n",
      "\u001b[36m(launch_and_fit pid=9565)\u001b[0m mri_net.features.0.bias 1.430511474609375e-06\n",
      "\u001b[36m(launch_and_fit pid=9565)\u001b[0m mri_net.features.3.weight 1.430511474609375e-06\n",
      "\u001b[36m(launch_and_fit pid=9565)\u001b[0m mri_net.features.3.bias 9.5367431640625e-07\n",
      "\u001b[36m(launch_and_fit pid=9565)\u001b[0m mri_net.classifier.0.weight 9.5367431640625e-07\n",
      "\u001b[36m(launch_and_fit pid=9565)\u001b[0m mri_net.classifier.0.bias 9.5367431640625e-07\n",
      "\u001b[36m(launch_and_fit pid=9565)\u001b[0m mri_net.classifier.2.weight 9.5367431640625e-07\n",
      "\u001b[36m(launch_and_fit pid=9565)\u001b[0m mri_net.classifier.2.bias 1.430511474609375e-06\n",
      "\u001b[36m(launch_and_fit pid=9565)\u001b[0m mri_net.classifier.3.weights 9.5367431640625e-07\n",
      "\u001b[36m(launch_and_fit pid=9565)\u001b[0m dna_net.fc1.weight 9.5367431640625e-07\n",
      "\u001b[36m(launch_and_fit pid=9565)\u001b[0m dna_net.fc1.bias 1.1920928955078125e-06\n",
      "\u001b[36m(launch_and_fit pid=9565)\u001b[0m dna_net.fc2.weight 1.1920928955078125e-06\n",
      "\u001b[36m(launch_and_fit pid=9565)\u001b[0m dna_net.fc2.bias 1.1920928955078125e-06\n",
      "\u001b[36m(launch_and_fit pid=9565)\u001b[0m dna_net.fc3.weight 9.5367431640625e-07\n",
      "\u001b[36m(launch_and_fit pid=9565)\u001b[0m dna_net.fc3.bias 9.5367431640625e-07\n",
      "\u001b[36m(launch_and_fit pid=9565)\u001b[0m dna_net.fc4.weight 9.5367431640625e-07\n",
      "\u001b[36m(launch_and_fit pid=9565)\u001b[0m dna_net.fc4.bias 1.430511474609375e-06\n",
      "\u001b[36m(launch_and_fit pid=9565)\u001b[0m dna_net.qnn.weights 9.5367431640625e-07\n",
      "\u001b[36m(launch_and_fit pid=9565)\u001b[0m attention.in_proj_weight 9.5367431640625e-07\n",
      "\u001b[36m(launch_and_fit pid=9565)\u001b[0m attention.in_proj_bias 9.5367431640625e-07\n",
      "\u001b[36m(launch_and_fit pid=9565)\u001b[0m attention.out_proj.weight 1.1920928955078125e-06\n",
      "\u001b[36m(launch_and_fit pid=9565)\u001b[0m attention.out_proj.bias 9.5367431640625e-07\n",
      "\u001b[36m(launch_and_fit pid=9565)\u001b[0m fc1.weight 1.1920928955078125e-06\n",
      "\u001b[36m(launch_and_fit pid=9565)\u001b[0m fc1.bias 9.5367431640625e-07\n",
      "\u001b[36m(launch_and_fit pid=9565)\u001b[0m fc2_mri.weight 9.5367431640625e-07\n",
      "\u001b[36m(launch_and_fit pid=9565)\u001b[0m fc2_mri.bias 9.5367431640625e-07\n",
      "\u001b[36m(launch_and_fit pid=9565)\u001b[0m fc2_dna.weight 1.1920928955078125e-06\n",
      "\u001b[36m(launch_and_fit pid=9565)\u001b[0m fc2_dna.bias 1.1920928955078125e-06\n",
      "\u001b[36m(launch_and_fit pid=9645)\u001b[0m Run with homomorphic encryption\n",
      "\u001b[36m(launch_and_fit pid=9563)\u001b[0m \tTrain Epoch: 10 \tTrain_loss_mri: 0.0111 | Train_acc_mri: 100.0000 | Train_loss_dna: 0.4369 | Train_acc_dna: 87.5810 | Validation_loss_mri: 0.7582 | Validation_acc_mri: 70.8333 | Validation_loss_dna: 4.3786 | Validation_acc_dna: 30.7292\u001b[32m [repeated 3x across cluster]\u001b[0m\n",
      "\u001b[36m(launch_and_fit pid=9563)\u001b[0m save graph in  results/FL/\n",
      "\u001b[36m(launch_and_fit pid=9563)\u001b[0m fc2_dna.bias 1.1920928955078125e-06\u001b[32m [repeated 23x across cluster]\u001b[0m\n",
      "\u001b[36m(launch_and_fit pid=9563)\u001b[0m dna_net.qnn.weights 1.1920928955078125e-06\n",
      "\u001b[36m(launch_and_fit pid=9563)\u001b[0m attention.in_proj_weight 9.5367431640625e-07\n",
      "\u001b[36m(launch_and_fit pid=9563)\u001b[0m attention.in_proj_bias 9.5367431640625e-07\n",
      "\u001b[36m(launch_and_fit pid=9563)\u001b[0m attention.out_proj.weight 1.430511474609375e-06\n",
      "\u001b[36m(launch_and_fit pid=9563)\u001b[0m attention.out_proj.bias 9.5367431640625e-07\n",
      "\u001b[36m(launch_and_fit pid=9645)\u001b[0m [Client 3, round 12] fit, config: {'learning_rate': 0.003, 'batch_size': '32', 'server_round': 12, 'local_epochs': 10}\n"
     ]
    },
    {
     "name": "stderr",
     "output_type": "stream",
     "text": [
      "  0%|\u001b[34m          \u001b[0m| 0/10 [00:00<?, ?it/s]\n",
      "100%|\u001b[34m██████████\u001b[0m| 10/10 [00:38<00:00,  3.85s/it]\n"
     ]
    },
    {
     "name": "stdout",
     "output_type": "stream",
     "text": [
      "\u001b[36m(launch_and_fit pid=9645)\u001b[0m Updated model\n"
     ]
    },
    {
     "name": "stderr",
     "output_type": "stream",
     "text": [
      " 10%|\u001b[34m█         \u001b[0m| 1/10 [00:04<00:39,  4.42s/it]\n"
     ]
    },
    {
     "name": "stdout",
     "output_type": "stream",
     "text": [
      "\u001b[36m(launch_and_fit pid=9647)\u001b[0m Run with homomorphic encryption\n",
      "\u001b[36m(launch_and_fit pid=9647)\u001b[0m \tTrain Epoch: 1 \tTrain_loss_mri: 0.3422 | Train_acc_mri: 89.5718 | Train_loss_dna: 1.6634 | Train_acc_dna: 44.0162 | Validation_loss_mri: 0.6605 | Validation_acc_mri: 87.5000 | Validation_loss_dna: 3.6182 | Validation_acc_dna: 17.1875\n",
      "\u001b[36m(launch_and_fit pid=9647)\u001b[0m [Client 0, round 12] fit, config: {'learning_rate': 0.003, 'batch_size': '32', 'server_round': 12, 'local_epochs': 10}\n",
      "\u001b[36m(launch_and_fit pid=9645)\u001b[0m \tTrain Epoch: 1 \tTrain_loss_mri: 0.0799 | Train_acc_mri: 97.1296 | Train_loss_dna: 1.6634 | Train_acc_dna: 43.2755 | Validation_loss_mri: 0.4556 | Validation_acc_mri: 89.0625 | Validation_loss_dna: 3.5757 | Validation_acc_dna: 27.6042\n"
     ]
    },
    {
     "name": "stderr",
     "output_type": "stream",
     "text": [
      "  0%|\u001b[34m          \u001b[0m| 0/10 [00:00<?, ?it/s]\n"
     ]
    },
    {
     "name": "stdout",
     "output_type": "stream",
     "text": [
      "\u001b[36m(launch_and_fit pid=9647)\u001b[0m Updated model\n"
     ]
    },
    {
     "name": "stderr",
     "output_type": "stream",
     "text": [
      " 30%|\u001b[34m███       \u001b[0m| 3/10 [00:11<00:27,  3.88s/it]\u001b[32m [repeated 4x across cluster]\u001b[0m\n"
     ]
    },
    {
     "name": "stdout",
     "output_type": "stream",
     "text": [
      "\u001b[36m(launch_and_fit pid=9647)\u001b[0m \tTrain Epoch: 3 \tTrain_loss_mri: 0.1160 | Train_acc_mri: 95.9375 | Train_loss_dna: 1.1520 | Train_acc_dna: 56.2963 | Validation_loss_mri: 1.3410 | Validation_acc_mri: 52.6042 | Validation_loss_dna: 3.6739 | Validation_acc_dna: 12.5000\u001b[32m [repeated 3x across cluster]\u001b[0m\n"
     ]
    },
    {
     "name": "stderr",
     "output_type": "stream",
     "text": [
      " 50%|\u001b[34m█████     \u001b[0m| 5/10 [00:19<00:18,  3.79s/it]\u001b[32m [repeated 4x across cluster]\u001b[0m\n"
     ]
    },
    {
     "name": "stdout",
     "output_type": "stream",
     "text": [
      "\u001b[36m(launch_and_fit pid=9647)\u001b[0m \tTrain Epoch: 5 \tTrain_loss_mri: 0.0727 | Train_acc_mri: 98.3796 | Train_loss_dna: 0.7324 | Train_acc_dna: 75.7292 | Validation_loss_mri: 1.0248 | Validation_acc_mri: 69.2708 | Validation_loss_dna: 3.5934 | Validation_acc_dna: 12.5000\u001b[32m [repeated 4x across cluster]\u001b[0m\n"
     ]
    },
    {
     "name": "stderr",
     "output_type": "stream",
     "text": [
      " 70%|\u001b[34m███████   \u001b[0m| 7/10 [00:26<00:11,  3.78s/it]\u001b[32m [repeated 4x across cluster]\u001b[0m\n"
     ]
    },
    {
     "name": "stdout",
     "output_type": "stream",
     "text": [
      "\u001b[36m(launch_and_fit pid=9647)\u001b[0m \tTrain Epoch: 7 \tTrain_loss_mri: 0.0623 | Train_acc_mri: 98.4375 | Train_loss_dna: 0.6373 | Train_acc_dna: 78.5417 | Validation_loss_mri: 1.4758 | Validation_acc_mri: 69.2708 | Validation_loss_dna: 4.0068 | Validation_acc_dna: 17.1875\u001b[32m [repeated 4x across cluster]\u001b[0m\n"
     ]
    },
    {
     "name": "stderr",
     "output_type": "stream",
     "text": [
      " 90%|\u001b[34m█████████ \u001b[0m| 9/10 [00:34<00:03,  3.87s/it]\u001b[32m [repeated 4x across cluster]\u001b[0m\n"
     ]
    },
    {
     "name": "stdout",
     "output_type": "stream",
     "text": [
      "\u001b[36m(launch_and_fit pid=9647)\u001b[0m \tTrain Epoch: 9 \tTrain_loss_mri: 0.0653 | Train_acc_mri: 97.5000 | Train_loss_dna: 0.5834 | Train_acc_dna: 82.8935 | Validation_loss_mri: 1.6436 | Validation_acc_mri: 69.2708 | Validation_loss_dna: 4.6313 | Validation_acc_dna: 12.5000\u001b[32m [repeated 4x across cluster]\u001b[0m\n",
      "\u001b[36m(launch_and_fit pid=9647)\u001b[0m save graph in  results/FL/\n",
      "\u001b[36m(launch_and_fit pid=9647)\u001b[0m mri_net.features.0.weight 6.9141387939453125e-06\n",
      "\u001b[36m(launch_and_fit pid=9647)\u001b[0m mri_net.features.0.bias 2.1457672119140625e-06\n",
      "\u001b[36m(launch_and_fit pid=9647)\u001b[0m mri_net.features.3.weight 1.6689300537109375e-06\n",
      "\u001b[36m(launch_and_fit pid=9647)\u001b[0m mri_net.features.3.bias 1.430511474609375e-06\n",
      "\u001b[36m(launch_and_fit pid=9647)\u001b[0m mri_net.classifier.0.weight 1.430511474609375e-06\n",
      "\u001b[36m(launch_and_fit pid=9647)\u001b[0m mri_net.classifier.0.bias 1.1920928955078125e-06\n",
      "\u001b[36m(launch_and_fit pid=9647)\u001b[0m mri_net.classifier.2.weight 9.5367431640625e-07\n",
      "\u001b[36m(launch_and_fit pid=9647)\u001b[0m mri_net.classifier.2.bias 1.1920928955078125e-06\n",
      "\u001b[36m(launch_and_fit pid=9647)\u001b[0m mri_net.classifier.3.weights 9.5367431640625e-07\n",
      "\u001b[36m(launch_and_fit pid=9647)\u001b[0m dna_net.fc1.weight 9.5367431640625e-07\n",
      "\u001b[36m(launch_and_fit pid=9647)\u001b[0m dna_net.fc1.bias 9.5367431640625e-07\n",
      "\u001b[36m(launch_and_fit pid=9647)\u001b[0m dna_net.fc2.weight 9.5367431640625e-07\n",
      "\u001b[36m(launch_and_fit pid=9647)\u001b[0m dna_net.fc2.bias 1.1920928955078125e-06\n",
      "\u001b[36m(launch_and_fit pid=9647)\u001b[0m dna_net.fc3.weight 1.1920928955078125e-06\n",
      "\u001b[36m(launch_and_fit pid=9647)\u001b[0m dna_net.fc3.bias 9.5367431640625e-07\n",
      "\u001b[36m(launch_and_fit pid=9647)\u001b[0m dna_net.fc4.weight 9.5367431640625e-07\n",
      "\u001b[36m(launch_and_fit pid=9647)\u001b[0m dna_net.fc4.bias 9.5367431640625e-07\n",
      "\u001b[36m(launch_and_fit pid=9647)\u001b[0m dna_net.qnn.weights 1.1920928955078125e-06\n",
      "\u001b[36m(launch_and_fit pid=9647)\u001b[0m attention.in_proj_weight 9.5367431640625e-07\n",
      "\u001b[36m(launch_and_fit pid=9647)\u001b[0m attention.in_proj_bias 9.5367431640625e-07\n",
      "\u001b[36m(launch_and_fit pid=9647)\u001b[0m attention.out_proj.weight 1.1920928955078125e-06\n",
      "\u001b[36m(launch_and_fit pid=9647)\u001b[0m attention.out_proj.bias 1.1920928955078125e-06\n",
      "\u001b[36m(launch_and_fit pid=9647)\u001b[0m fc1.weight 1.1920928955078125e-06\n",
      "\u001b[36m(launch_and_fit pid=9647)\u001b[0m fc1.bias 9.5367431640625e-07\n",
      "\u001b[36m(launch_and_fit pid=9647)\u001b[0m fc2_mri.weight 1.1920928955078125e-06\n",
      "\u001b[36m(launch_and_fit pid=9647)\u001b[0m fc2_mri.bias 9.5367431640625e-07\n",
      "\u001b[36m(launch_and_fit pid=9647)\u001b[0m fc2_dna.weight 1.1920928955078125e-06\n",
      "\u001b[36m(launch_and_fit pid=9647)\u001b[0m fc2_dna.bias 1.1920928955078125e-06\n",
      "\u001b[36m(launch_and_fit pid=9727)\u001b[0m Run with homomorphic encryption\n",
      "\u001b[36m(launch_and_fit pid=9645)\u001b[0m \tTrain Epoch: 10 \tTrain_loss_mri: 0.0539 | Train_acc_mri: 99.6296 | Train_loss_dna: 0.3949 | Train_acc_dna: 86.5856 | Validation_loss_mri: 0.6793 | Validation_acc_mri: 89.0625 | Validation_loss_dna: 6.3198 | Validation_acc_dna: 9.3750\u001b[32m [repeated 3x across cluster]\u001b[0m\n",
      "\u001b[36m(launch_and_fit pid=9645)\u001b[0m save graph in  results/FL/\n",
      "\u001b[36m(launch_and_fit pid=9645)\u001b[0m fc2_dna.bias 1.1920928955078125e-06\u001b[32m [repeated 23x across cluster]\u001b[0m\n",
      "\u001b[36m(launch_and_fit pid=9645)\u001b[0m dna_net.qnn.weights 9.5367431640625e-07\n",
      "\u001b[36m(launch_and_fit pid=9645)\u001b[0m attention.in_proj_weight 9.5367431640625e-07\n",
      "\u001b[36m(launch_and_fit pid=9645)\u001b[0m attention.in_proj_bias 9.5367431640625e-07\n",
      "\u001b[36m(launch_and_fit pid=9645)\u001b[0m attention.out_proj.weight 1.1920928955078125e-06\n",
      "\u001b[36m(launch_and_fit pid=9645)\u001b[0m attention.out_proj.bias 9.5367431640625e-07\n",
      "\u001b[36m(launch_and_fit pid=9727)\u001b[0m [Client 4, round 12] fit, config: {'learning_rate': 0.003, 'batch_size': '32', 'server_round': 12, 'local_epochs': 10}\n",
      "\u001b[36m(launch_and_fit pid=9727)\u001b[0m Updated model\n"
     ]
    },
    {
     "name": "stderr",
     "output_type": "stream",
     "text": [
      "  0%|\u001b[34m          \u001b[0m| 0/10 [00:00<?, ?it/s]\n",
      "100%|\u001b[34m██████████\u001b[0m| 10/10 [00:38<00:00,  3.88s/it]\u001b[32m [repeated 3x across cluster]\u001b[0m\n"
     ]
    },
    {
     "name": "stdout",
     "output_type": "stream",
     "text": [
      "\u001b[36m(launch_and_fit pid=9729)\u001b[0m Run with homomorphic encryption\n",
      "\u001b[36m(launch_and_fit pid=9727)\u001b[0m \tTrain Epoch: 1 \tTrain_loss_mri: 0.1365 | Train_acc_mri: 94.2014 | Train_loss_dna: 1.5637 | Train_acc_dna: 48.7616 | Validation_loss_mri: 1.8606 | Validation_acc_mri: 72.3958 | Validation_loss_dna: 1.6455 | Validation_acc_dna: 23.4375\n",
      "\u001b[36m(launch_and_fit pid=9729)\u001b[0m [Client 1, round 12] fit, config: {'learning_rate': 0.003, 'batch_size': '32', 'server_round': 12, 'local_epochs': 10}\n",
      "\u001b[36m(launch_and_fit pid=9729)\u001b[0m \tTrain Epoch: 1 \tTrain_loss_mri: 0.2353 | Train_acc_mri: 91.7014 | Train_loss_dna: 1.5254 | Train_acc_dna: 43.8194 | Validation_loss_mri: 0.8025 | Validation_acc_mri: 72.3958 | Validation_loss_dna: 3.9090 | Validation_acc_dna: 14.0625\n",
      "\u001b[36m(launch_and_fit pid=9729)\u001b[0m Updated model\n"
     ]
    },
    {
     "name": "stderr",
     "output_type": "stream",
     "text": [
      "  0%|\u001b[34m          \u001b[0m| 0/10 [00:00<?, ?it/s]\n",
      " 20%|\u001b[34m██        \u001b[0m| 2/10 [00:08<00:31,  3.99s/it]\u001b[32m [repeated 3x across cluster]\u001b[0m\n"
     ]
    },
    {
     "name": "stdout",
     "output_type": "stream",
     "text": [
      "\u001b[36m(launch_and_fit pid=9727)\u001b[0m \tTrain Epoch: 3 \tTrain_loss_mri: 0.0818 | Train_acc_mri: 97.4421 | Train_loss_dna: 0.8773 | Train_acc_dna: 64.6528 | Validation_loss_mri: 2.3443 | Validation_acc_mri: 69.2708 | Validation_loss_dna: 2.8304 | Validation_acc_dna: 14.0625\u001b[32m [repeated 3x across cluster]\u001b[0m\n"
     ]
    },
    {
     "name": "stderr",
     "output_type": "stream",
     "text": [
      " 40%|\u001b[34m████      \u001b[0m| 4/10 [00:15<00:23,  3.92s/it]\u001b[32m [repeated 4x across cluster]\u001b[0m\n"
     ]
    },
    {
     "name": "stdout",
     "output_type": "stream",
     "text": [
      "\u001b[36m(launch_and_fit pid=9727)\u001b[0m \tTrain Epoch: 5 \tTrain_loss_mri: 0.0461 | Train_acc_mri: 98.4375 | Train_loss_dna: 0.5849 | Train_acc_dna: 84.4560 | Validation_loss_mri: 2.0630 | Validation_acc_mri: 67.7083 | Validation_loss_dna: 1.9534 | Validation_acc_dna: 30.7292\u001b[32m [repeated 4x across cluster]\u001b[0m\n"
     ]
    },
    {
     "name": "stderr",
     "output_type": "stream",
     "text": [
      " 60%|\u001b[34m██████    \u001b[0m| 6/10 [00:23<00:15,  3.80s/it]\u001b[32m [repeated 4x across cluster]\u001b[0m\n"
     ]
    },
    {
     "name": "stdout",
     "output_type": "stream",
     "text": [
      "\u001b[36m(launch_and_fit pid=9727)\u001b[0m \tTrain Epoch: 7 \tTrain_loss_mri: 0.0252 | Train_acc_mri: 99.6875 | Train_loss_dna: 0.4893 | Train_acc_dna: 85.4514 | Validation_loss_mri: 2.7208 | Validation_acc_mri: 67.7083 | Validation_loss_dna: 3.9513 | Validation_acc_dna: 10.9375\u001b[32m [repeated 4x across cluster]\u001b[0m\n"
     ]
    },
    {
     "name": "stderr",
     "output_type": "stream",
     "text": [
      " 80%|\u001b[34m████████  \u001b[0m| 8/10 [00:30<00:07,  3.76s/it]\u001b[32m [repeated 4x across cluster]\u001b[0m\n"
     ]
    },
    {
     "name": "stdout",
     "output_type": "stream",
     "text": [
      "\u001b[36m(launch_and_fit pid=9727)\u001b[0m \tTrain Epoch: 9 \tTrain_loss_mri: 0.0467 | Train_acc_mri: 98.0671 | Train_loss_dna: 0.4557 | Train_acc_dna: 86.3310 | Validation_loss_mri: 2.4650 | Validation_acc_mri: 64.5833 | Validation_loss_dna: 3.7124 | Validation_acc_dna: 30.7292\u001b[32m [repeated 4x across cluster]\u001b[0m\n",
      "\u001b[36m(launch_and_fit pid=9727)\u001b[0m save graph in  results/FL/\n"
     ]
    },
    {
     "name": "stderr",
     "output_type": "stream",
     "text": [
      "100%|\u001b[34m██████████\u001b[0m| 10/10 [00:38<00:00,  3.81s/it]\u001b[32m [repeated 4x across cluster]\u001b[0m\n"
     ]
    },
    {
     "name": "stdout",
     "output_type": "stream",
     "text": [
      "\u001b[36m(launch_and_fit pid=9727)\u001b[0m mri_net.features.0.weight 4.5299530029296875e-06\n",
      "\u001b[36m(launch_and_fit pid=9727)\u001b[0m mri_net.features.0.bias 1.430511474609375e-06\n",
      "\u001b[36m(launch_and_fit pid=9727)\u001b[0m mri_net.features.3.weight 9.5367431640625e-07\n",
      "\u001b[36m(launch_and_fit pid=9727)\u001b[0m mri_net.features.3.bias 1.1920928955078125e-06\n",
      "\u001b[36m(launch_and_fit pid=9727)\u001b[0m mri_net.classifier.0.weight 9.5367431640625e-07\n",
      "\u001b[36m(launch_and_fit pid=9727)\u001b[0m mri_net.classifier.0.bias 9.5367431640625e-07\n",
      "\u001b[36m(launch_and_fit pid=9727)\u001b[0m mri_net.classifier.2.weight 1.1920928955078125e-06\n",
      "\u001b[36m(launch_and_fit pid=9727)\u001b[0m mri_net.classifier.2.bias 9.5367431640625e-07\n",
      "\u001b[36m(launch_and_fit pid=9727)\u001b[0m mri_net.classifier.3.weights 9.5367431640625e-07\n",
      "\u001b[36m(launch_and_fit pid=9727)\u001b[0m dna_net.fc1.weight 9.5367431640625e-07\n",
      "\u001b[36m(launch_and_fit pid=9727)\u001b[0m dna_net.fc1.bias 1.1920928955078125e-06\n",
      "\u001b[36m(launch_and_fit pid=9727)\u001b[0m dna_net.fc2.weight 9.5367431640625e-07\n",
      "\u001b[36m(launch_and_fit pid=9727)\u001b[0m dna_net.fc2.bias 9.5367431640625e-07\n",
      "\u001b[36m(launch_and_fit pid=9727)\u001b[0m dna_net.fc3.weight 1.1920928955078125e-06\n",
      "\u001b[36m(launch_and_fit pid=9727)\u001b[0m dna_net.fc3.bias 9.5367431640625e-07\n",
      "\u001b[36m(launch_and_fit pid=9727)\u001b[0m dna_net.fc4.weight 9.5367431640625e-07\n",
      "\u001b[36m(launch_and_fit pid=9727)\u001b[0m dna_net.fc4.bias 1.1920928955078125e-06\n",
      "\u001b[36m(launch_and_fit pid=9727)\u001b[0m dna_net.qnn.weights 9.5367431640625e-07\n",
      "\u001b[36m(launch_and_fit pid=9727)\u001b[0m attention.in_proj_weight 9.5367431640625e-07\n",
      "\u001b[36m(launch_and_fit pid=9727)\u001b[0m attention.in_proj_bias 1.1920928955078125e-06\n",
      "\u001b[36m(launch_and_fit pid=9727)\u001b[0m attention.out_proj.weight 9.5367431640625e-07\n",
      "\u001b[36m(launch_and_fit pid=9727)\u001b[0m attention.out_proj.bias 9.5367431640625e-07\n",
      "\u001b[36m(launch_and_fit pid=9727)\u001b[0m fc1.weight 1.430511474609375e-06\n",
      "\u001b[36m(launch_and_fit pid=9727)\u001b[0m fc1.bias 9.5367431640625e-07\n",
      "\u001b[36m(launch_and_fit pid=9727)\u001b[0m fc2_mri.weight 1.1920928955078125e-06\n",
      "\u001b[36m(launch_and_fit pid=9727)\u001b[0m fc2_mri.bias 7.152557373046875e-07\n",
      "\u001b[36m(launch_and_fit pid=9727)\u001b[0m fc2_dna.weight 9.5367431640625e-07\n",
      "\u001b[36m(launch_and_fit pid=9727)\u001b[0m fc2_dna.bias 9.5367431640625e-07\n",
      "\u001b[36m(launch_and_fit pid=9809)\u001b[0m Run with homomorphic encryption\n",
      "\u001b[36m(launch_and_fit pid=9729)\u001b[0m \tTrain Epoch: 10 \tTrain_loss_mri: 0.0324 | Train_acc_mri: 99.0625 | Train_loss_dna: 0.4334 | Train_acc_dna: 85.7639 | Validation_loss_mri: 0.3849 | Validation_acc_mri: 93.7500 | Validation_loss_dna: 4.7922 | Validation_acc_dna: 12.5000\u001b[32m [repeated 3x across cluster]\u001b[0m\n",
      "\u001b[36m(launch_and_fit pid=9729)\u001b[0m save graph in  results/FL/\n",
      "\u001b[36m(launch_and_fit pid=9729)\u001b[0m fc2_dna.bias 1.9073486328125e-06\u001b[32m [repeated 23x across cluster]\u001b[0m\n",
      "\u001b[36m(launch_and_fit pid=9729)\u001b[0m dna_net.qnn.weights 1.1920928955078125e-06\n",
      "\u001b[36m(launch_and_fit pid=9729)\u001b[0m attention.in_proj_weight 1.1920928955078125e-06\n",
      "\u001b[36m(launch_and_fit pid=9729)\u001b[0m attention.in_proj_bias 1.1920928955078125e-06\n",
      "\u001b[36m(launch_and_fit pid=9729)\u001b[0m attention.out_proj.weight 1.1920928955078125e-06\n",
      "\u001b[36m(launch_and_fit pid=9729)\u001b[0m attention.out_proj.bias 1.1920928955078125e-06\n",
      "\u001b[36m(launch_and_fit pid=9809)\u001b[0m [Client 5, round 12] fit, config: {'learning_rate': 0.003, 'batch_size': '32', 'server_round': 12, 'local_epochs': 10}\n"
     ]
    },
    {
     "name": "stderr",
     "output_type": "stream",
     "text": [
      "  0%|\u001b[34m          \u001b[0m| 0/10 [00:00<?, ?it/s]\n",
      "100%|\u001b[34m██████████\u001b[0m| 10/10 [00:37<00:00,  3.80s/it]\n"
     ]
    },
    {
     "name": "stdout",
     "output_type": "stream",
     "text": [
      "\u001b[36m(launch_and_fit pid=9809)\u001b[0m Updated model\n"
     ]
    },
    {
     "name": "stderr",
     "output_type": "stream",
     "text": [
      " 10%|\u001b[34m█         \u001b[0m| 1/10 [00:04<00:38,  4.27s/it]\n"
     ]
    },
    {
     "name": "stdout",
     "output_type": "stream",
     "text": [
      "\u001b[36m(launch_and_fit pid=9811)\u001b[0m Run with homomorphic encryption\n",
      "\u001b[36m(launch_and_fit pid=9809)\u001b[0m \tTrain Epoch: 1 \tTrain_loss_mri: 0.2473 | Train_acc_mri: 90.3356 | Train_loss_dna: 1.6191 | Train_acc_dna: 48.7963 | Validation_loss_mri: 0.3088 | Validation_acc_mri: 92.1875 | Validation_loss_dna: 3.0444 | Validation_acc_dna: 10.9375\n",
      "\u001b[36m(launch_and_fit pid=9811)\u001b[0m [Client 9, round 12] fit, config: {'learning_rate': 0.003, 'batch_size': '32', 'server_round': 12, 'local_epochs': 10}\n",
      "\u001b[36m(launch_and_fit pid=9811)\u001b[0m \tTrain Epoch: 1 \tTrain_loss_mri: 0.3249 | Train_acc_mri: 89.3649 | Train_loss_dna: 1.8488 | Train_acc_dna: 41.4012 | Validation_loss_mri: 0.6318 | Validation_acc_mri: 78.6458 | Validation_loss_dna: 3.4993 | Validation_acc_dna: 9.3750\n"
     ]
    },
    {
     "name": "stderr",
     "output_type": "stream",
     "text": [
      "  0%|\u001b[34m          \u001b[0m| 0/10 [00:00<?, ?it/s]\n"
     ]
    },
    {
     "name": "stdout",
     "output_type": "stream",
     "text": [
      "\u001b[36m(launch_and_fit pid=9811)\u001b[0m Updated model\n"
     ]
    },
    {
     "name": "stderr",
     "output_type": "stream",
     "text": [
      " 30%|\u001b[34m███       \u001b[0m| 3/10 [00:11<00:27,  3.88s/it]\u001b[32m [repeated 4x across cluster]\u001b[0m\n"
     ]
    },
    {
     "name": "stdout",
     "output_type": "stream",
     "text": [
      "\u001b[36m(launch_and_fit pid=9809)\u001b[0m \tTrain Epoch: 3 \tTrain_loss_mri: 0.0942 | Train_acc_mri: 96.7593 | Train_loss_dna: 0.8581 | Train_acc_dna: 67.6620 | Validation_loss_mri: 0.2433 | Validation_acc_mri: 93.7500 | Validation_loss_dna: 3.9742 | Validation_acc_dna: 26.0417\u001b[32m [repeated 3x across cluster]\u001b[0m\n"
     ]
    },
    {
     "name": "stderr",
     "output_type": "stream",
     "text": [
      " 50%|\u001b[34m█████     \u001b[0m| 5/10 [00:19<00:18,  3.79s/it]\u001b[32m [repeated 4x across cluster]\u001b[0m\n"
     ]
    },
    {
     "name": "stdout",
     "output_type": "stream",
     "text": [
      "\u001b[36m(launch_and_fit pid=9809)\u001b[0m \tTrain Epoch: 5 \tTrain_loss_mri: 0.0430 | Train_acc_mri: 99.0046 | Train_loss_dna: 0.5908 | Train_acc_dna: 80.5903 | Validation_loss_mri: 0.2336 | Validation_acc_mri: 93.7500 | Validation_loss_dna: 3.9365 | Validation_acc_dna: 7.8125\u001b[32m [repeated 4x across cluster]\u001b[0m\n"
     ]
    },
    {
     "name": "stderr",
     "output_type": "stream",
     "text": [
      " 70%|\u001b[34m███████   \u001b[0m| 7/10 [00:27<00:11,  3.85s/it]\u001b[32m [repeated 4x across cluster]\u001b[0m\n"
     ]
    },
    {
     "name": "stdout",
     "output_type": "stream",
     "text": [
      "\u001b[36m(launch_and_fit pid=9809)\u001b[0m \tTrain Epoch: 7 \tTrain_loss_mri: 0.0223 | Train_acc_mri: 99.6875 | Train_loss_dna: 0.4277 | Train_acc_dna: 88.0903 | Validation_loss_mri: 0.2665 | Validation_acc_mri: 92.1875 | Validation_loss_dna: 5.0876 | Validation_acc_dna: 10.9375\u001b[32m [repeated 4x across cluster]\u001b[0m\n"
     ]
    },
    {
     "name": "stderr",
     "output_type": "stream",
     "text": [
      " 90%|\u001b[34m█████████ \u001b[0m| 9/10 [00:34<00:03,  3.77s/it]\u001b[32m [repeated 4x across cluster]\u001b[0m\n"
     ]
    },
    {
     "name": "stdout",
     "output_type": "stream",
     "text": [
      "\u001b[36m(launch_and_fit pid=9809)\u001b[0m \tTrain Epoch: 9 \tTrain_loss_mri: 0.0139 | Train_acc_mri: 99.6875 | Train_loss_dna: 0.4000 | Train_acc_dna: 88.9468 | Validation_loss_mri: 0.2644 | Validation_acc_mri: 92.1875 | Validation_loss_dna: 4.8859 | Validation_acc_dna: 9.3750\u001b[32m [repeated 4x across cluster]\u001b[0m\n",
      "\u001b[36m(launch_and_fit pid=9809)\u001b[0m save graph in  results/FL/\n",
      "\u001b[36m(launch_and_fit pid=9809)\u001b[0m mri_net.features.0.weight 5.0067901611328125e-06\n",
      "\u001b[36m(launch_and_fit pid=9809)\u001b[0m mri_net.features.0.bias 1.430511474609375e-06\n",
      "\u001b[36m(launch_and_fit pid=9809)\u001b[0m mri_net.features.3.weight 1.430511474609375e-06\n",
      "\u001b[36m(launch_and_fit pid=9809)\u001b[0m mri_net.features.3.bias 1.430511474609375e-06\n",
      "\u001b[36m(launch_and_fit pid=9809)\u001b[0m mri_net.classifier.0.weight 1.1920928955078125e-06\n",
      "\u001b[36m(launch_and_fit pid=9809)\u001b[0m mri_net.classifier.0.bias 7.152557373046875e-07\n",
      "\u001b[36m(launch_and_fit pid=9809)\u001b[0m mri_net.classifier.2.weight 9.5367431640625e-07\n",
      "\u001b[36m(launch_and_fit pid=9809)\u001b[0m mri_net.classifier.2.bias 9.5367431640625e-07\n",
      "\u001b[36m(launch_and_fit pid=9809)\u001b[0m mri_net.classifier.3.weights 9.5367431640625e-07\n",
      "\u001b[36m(launch_and_fit pid=9809)\u001b[0m dna_net.fc1.weight 1.1920928955078125e-06\n",
      "\u001b[36m(launch_and_fit pid=9809)\u001b[0m dna_net.fc1.bias 9.5367431640625e-07\n",
      "\u001b[36m(launch_and_fit pid=9809)\u001b[0m dna_net.fc2.weight 1.1920928955078125e-06\n",
      "\u001b[36m(launch_and_fit pid=9809)\u001b[0m dna_net.fc2.bias 9.5367431640625e-07\n",
      "\u001b[36m(launch_and_fit pid=9809)\u001b[0m dna_net.fc3.weight 1.430511474609375e-06\n",
      "\u001b[36m(launch_and_fit pid=9809)\u001b[0m dna_net.fc3.bias 1.1920928955078125e-06\n",
      "\u001b[36m(launch_and_fit pid=9809)\u001b[0m dna_net.fc4.weight 9.5367431640625e-07\n",
      "\u001b[36m(launch_and_fit pid=9809)\u001b[0m dna_net.fc4.bias 1.1920928955078125e-06\n",
      "\u001b[36m(launch_and_fit pid=9809)\u001b[0m dna_net.qnn.weights 9.5367431640625e-07\n",
      "\u001b[36m(launch_and_fit pid=9809)\u001b[0m attention.in_proj_weight 1.1920928955078125e-06\n",
      "\u001b[36m(launch_and_fit pid=9809)\u001b[0m attention.in_proj_bias 1.1920928955078125e-06\n",
      "\u001b[36m(launch_and_fit pid=9809)\u001b[0m attention.out_proj.weight 9.5367431640625e-07\n",
      "\u001b[36m(launch_and_fit pid=9809)\u001b[0m attention.out_proj.bias 1.1920928955078125e-06\n",
      "\u001b[36m(launch_and_fit pid=9809)\u001b[0m fc1.weight 1.1920928955078125e-06\n",
      "\u001b[36m(launch_and_fit pid=9809)\u001b[0m fc1.bias 9.5367431640625e-07\n",
      "\u001b[36m(launch_and_fit pid=9809)\u001b[0m fc2_mri.weight 1.1920928955078125e-06\n",
      "\u001b[36m(launch_and_fit pid=9809)\u001b[0m fc2_mri.bias 7.152557373046875e-07\n",
      "\u001b[36m(launch_and_fit pid=9809)\u001b[0m fc2_dna.weight 9.5367431640625e-07\n",
      "\u001b[36m(launch_and_fit pid=9809)\u001b[0m fc2_dna.bias 9.5367431640625e-07\n"
     ]
    },
    {
     "name": "stderr",
     "output_type": "stream",
     "text": [
      "DEBUG flwr 2024-08-05 08:15:59,665 | server.py:236 | fit_round 12 received 10 results and 0 failures\n"
     ]
    },
    {
     "name": "stdout",
     "output_type": "stream",
     "text": [
      "Saving round 12 aggregated_parameters...\n"
     ]
    },
    {
     "name": "stderr",
     "output_type": "stream",
     "text": [
      "DEBUG flwr 2024-08-05 08:16:01,632 | server.py:173 | evaluate_round 12: strategy sampled 10 clients (out of 10)\n"
     ]
    },
    {
     "name": "stdout",
     "output_type": "stream",
     "text": [
      "\u001b[36m(launch_and_evaluate pid=9900)\u001b[0m Run with homomorphic encryption\n",
      "\u001b[36m(launch_and_fit pid=9811)\u001b[0m \tTrain Epoch: 10 \tTrain_loss_mri: 0.0129 | Train_acc_mri: 100.0000 | Train_loss_dna: 0.4390 | Train_acc_dna: 85.2722 | Validation_loss_mri: 0.4398 | Validation_acc_mri: 90.6250 | Validation_loss_dna: 3.8269 | Validation_acc_dna: 45.8333\u001b[32m [repeated 3x across cluster]\u001b[0m\n",
      "\u001b[36m(launch_and_fit pid=9811)\u001b[0m save graph in  results/FL/\n",
      "\u001b[36m(launch_and_fit pid=9811)\u001b[0m fc2_dna.bias 1.1920928955078125e-06\u001b[32m [repeated 23x across cluster]\u001b[0m\n",
      "\u001b[36m(launch_and_fit pid=9811)\u001b[0m dna_net.qnn.weights 1.430511474609375e-06\n",
      "\u001b[36m(launch_and_fit pid=9811)\u001b[0m attention.in_proj_weight 1.430511474609375e-06\n",
      "\u001b[36m(launch_and_fit pid=9811)\u001b[0m attention.in_proj_bias 1.430511474609375e-06\n",
      "\u001b[36m(launch_and_fit pid=9811)\u001b[0m attention.out_proj.weight 9.5367431640625e-07\n",
      "\u001b[36m(launch_and_fit pid=9811)\u001b[0m attention.out_proj.bias 1.6689300537109375e-06\n",
      "\u001b[36m(launch_and_evaluate pid=9900)\u001b[0m [Client 8] evaluate, config: {}\n",
      "\u001b[36m(launch_and_evaluate pid=9900)\u001b[0m Updated model\n"
     ]
    },
    {
     "name": "stderr",
     "output_type": "stream",
     "text": [
      "\u001b[36m(launch_and_evaluate pid=9900)\u001b[0m /opt/conda/lib/python3.10/site-packages/sklearn/metrics/_ranking.py:1029: UndefinedMetricWarning: No positive samples in y_true, true positive value should be meaningless\n",
      "\u001b[36m(launch_and_evaluate pid=9900)\u001b[0m   warnings.warn(\n",
      "100%|\u001b[34m██████████\u001b[0m| 10/10 [00:38<00:00,  3.81s/it]\u001b[32m [repeated 3x across cluster]\u001b[0m\n"
     ]
    },
    {
     "name": "stdout",
     "output_type": "stream",
     "text": [
      "\u001b[36m(launch_and_evaluate pid=9979)\u001b[0m Run with homomorphic encryption\u001b[32m [repeated 2x across cluster]\u001b[0m\n",
      "\u001b[36m(launch_and_evaluate pid=9901)\u001b[0m [Client 0] evaluate, config: {}\n",
      "\u001b[36m(launch_and_evaluate pid=9901)\u001b[0m Updated model\n",
      "\u001b[36m(launch_and_evaluate pid=9979)\u001b[0m [Client 7] evaluate, config: {}\n",
      "\u001b[36m(launch_and_evaluate pid=9979)\u001b[0m Updated model\n"
     ]
    },
    {
     "name": "stderr",
     "output_type": "stream",
     "text": [
      "\u001b[36m(launch_and_evaluate pid=9981)\u001b[0m /opt/conda/lib/python3.10/site-packages/sklearn/metrics/_ranking.py:1029: UndefinedMetricWarning: No positive samples in y_true, true positive value should be meaningless\n",
      "\u001b[36m(launch_and_evaluate pid=9981)\u001b[0m   warnings.warn(\n"
     ]
    },
    {
     "name": "stdout",
     "output_type": "stream",
     "text": [
      "\u001b[36m(launch_and_evaluate pid=10057)\u001b[0m Run with homomorphic encryption\u001b[32m [repeated 2x across cluster]\u001b[0m\n",
      "\u001b[36m(launch_and_evaluate pid=9981)\u001b[0m [Client 9] evaluate, config: {}\n",
      "\u001b[36m(launch_and_evaluate pid=9981)\u001b[0m Updated model\n",
      "\u001b[36m(launch_and_evaluate pid=10057)\u001b[0m [Client 2] evaluate, config: {}\n",
      "\u001b[36m(launch_and_evaluate pid=10057)\u001b[0m Updated model\n",
      "\u001b[36m(launch_and_evaluate pid=10135)\u001b[0m Run with homomorphic encryption\u001b[32m [repeated 2x across cluster]\u001b[0m\n",
      "\u001b[36m(launch_and_evaluate pid=10059)\u001b[0m [Client 3] evaluate, config: {}\n",
      "\u001b[36m(launch_and_evaluate pid=10059)\u001b[0m Updated model\n",
      "\u001b[36m(launch_and_evaluate pid=10135)\u001b[0m [Client 4] evaluate, config: {}\n",
      "\u001b[36m(launch_and_evaluate pid=10135)\u001b[0m Updated model\n"
     ]
    },
    {
     "name": "stderr",
     "output_type": "stream",
     "text": [
      "\u001b[36m(launch_and_evaluate pid=10135)\u001b[0m /opt/conda/lib/python3.10/site-packages/sklearn/metrics/_ranking.py:1029: UndefinedMetricWarning: No positive samples in y_true, true positive value should be meaningless\n",
      "\u001b[36m(launch_and_evaluate pid=10135)\u001b[0m   warnings.warn(\n"
     ]
    },
    {
     "name": "stdout",
     "output_type": "stream",
     "text": [
      "\u001b[36m(launch_and_evaluate pid=10213)\u001b[0m Run with homomorphic encryption\u001b[32m [repeated 2x across cluster]\u001b[0m\n",
      "\u001b[36m(launch_and_evaluate pid=10160)\u001b[0m [Client 1] evaluate, config: {}\n",
      "\u001b[36m(launch_and_evaluate pid=10160)\u001b[0m Updated model\n",
      "\u001b[36m(launch_and_evaluate pid=10213)\u001b[0m [Client 6] evaluate, config: {}\n",
      "\u001b[36m(launch_and_evaluate pid=10213)\u001b[0m Updated model\n"
     ]
    },
    {
     "name": "stderr",
     "output_type": "stream",
     "text": [
      "DEBUG flwr 2024-08-05 08:17:19,602 | server.py:187 | evaluate_round 12 received 10 results and 0 failures\n",
      "DEBUG flwr 2024-08-05 08:17:19,603 | server.py:222 | fit_round 13: strategy sampled 10 clients (out of 10)\n"
     ]
    },
    {
     "name": "stdout",
     "output_type": "stream",
     "text": [
      "\u001b[36m(launch_and_fit pid=10300)\u001b[0m Run with homomorphic encryption\u001b[32m [repeated 2x across cluster]\u001b[0m\n",
      "\u001b[36m(launch_and_evaluate pid=10238)\u001b[0m [Client 5] evaluate, config: {}\n",
      "\u001b[36m(launch_and_evaluate pid=10238)\u001b[0m Updated model\n",
      "\u001b[36m(launch_and_fit pid=10300)\u001b[0m [Client 1, round 13] fit, config: {'learning_rate': 0.003, 'batch_size': '32', 'server_round': 13, 'local_epochs': 10}\n",
      "\u001b[36m(launch_and_fit pid=10300)\u001b[0m Updated model\n"
     ]
    },
    {
     "name": "stderr",
     "output_type": "stream",
     "text": [
      "  0%|\u001b[34m          \u001b[0m| 0/10 [00:00<?, ?it/s]\n"
     ]
    },
    {
     "name": "stdout",
     "output_type": "stream",
     "text": [
      "\u001b[36m(launch_and_fit pid=10300)\u001b[0m \tTrain Epoch: 1 \tTrain_loss_mri: 0.1452 | Train_acc_mri: 95.2546 | Train_loss_dna: 1.6013 | Train_acc_dna: 46.3426 | Validation_loss_mri: 0.8438 | Validation_acc_mri: 61.9792 | Validation_loss_dna: 3.0382 | Validation_acc_dna: 27.6042\n",
      "\u001b[36m(launch_and_fit pid=10301)\u001b[0m Run with homomorphic encryption\n",
      "\u001b[36m(launch_and_fit pid=10301)\u001b[0m [Client 9, round 13] fit, config: {'learning_rate': 0.003, 'batch_size': '32', 'server_round': 13, 'local_epochs': 10}\n"
     ]
    },
    {
     "name": "stderr",
     "output_type": "stream",
     "text": [
      " 10%|\u001b[34m█         \u001b[0m| 1/10 [00:04<00:38,  4.25s/it]\n"
     ]
    },
    {
     "name": "stdout",
     "output_type": "stream",
     "text": [
      "\u001b[36m(launch_and_fit pid=10301)\u001b[0m Updated model\n"
     ]
    },
    {
     "name": "stderr",
     "output_type": "stream",
     "text": [
      "  0%|\u001b[34m          \u001b[0m| 0/10 [00:00<?, ?it/s]\n"
     ]
    },
    {
     "name": "stdout",
     "output_type": "stream",
     "text": [
      "\u001b[36m(launch_and_fit pid=10300)\u001b[0m \tTrain Epoch: 3 \tTrain_loss_mri: 0.2010 | Train_acc_mri: 93.6921 | Train_loss_dna: 0.9585 | Train_acc_dna: 59.9653 | Validation_loss_mri: 0.6692 | Validation_acc_mri: 77.0833 | Validation_loss_dna: 3.5394 | Validation_acc_dna: 9.3750\u001b[32m [repeated 4x across cluster]\u001b[0m\n"
     ]
    },
    {
     "name": "stderr",
     "output_type": "stream",
     "text": [
      " 30%|\u001b[34m███       \u001b[0m| 3/10 [00:11<00:27,  3.87s/it]\u001b[32m [repeated 4x across cluster]\u001b[0m\n"
     ]
    },
    {
     "name": "stdout",
     "output_type": "stream",
     "text": [
      "\u001b[36m(launch_and_fit pid=10300)\u001b[0m \tTrain Epoch: 5 \tTrain_loss_mri: 0.0859 | Train_acc_mri: 97.1296 | Train_loss_dna: 0.6958 | Train_acc_dna: 70.8681 | Validation_loss_mri: 0.7524 | Validation_acc_mri: 73.9583 | Validation_loss_dna: 4.9390 | Validation_acc_dna: 12.5000\u001b[32m [repeated 4x across cluster]\u001b[0m\n"
     ]
    },
    {
     "name": "stderr",
     "output_type": "stream",
     "text": [
      " 50%|\u001b[34m█████     \u001b[0m| 5/10 [00:19<00:19,  3.86s/it]\u001b[32m [repeated 4x across cluster]\u001b[0m\n"
     ]
    },
    {
     "name": "stdout",
     "output_type": "stream",
     "text": [
      "\u001b[36m(launch_and_fit pid=10300)\u001b[0m \tTrain Epoch: 7 \tTrain_loss_mri: 0.0619 | Train_acc_mri: 97.8125 | Train_loss_dna: 0.5355 | Train_acc_dna: 83.3218 | Validation_loss_mri: 0.7518 | Validation_acc_mri: 73.9583 | Validation_loss_dna: 5.4106 | Validation_acc_dna: 9.3750\u001b[32m [repeated 4x across cluster]\u001b[0m\n"
     ]
    },
    {
     "name": "stderr",
     "output_type": "stream",
     "text": [
      " 70%|\u001b[34m███████   \u001b[0m| 7/10 [00:26<00:11,  3.78s/it]\u001b[32m [repeated 4x across cluster]\u001b[0m\n"
     ]
    },
    {
     "name": "stdout",
     "output_type": "stream",
     "text": [
      "\u001b[36m(launch_and_fit pid=10300)\u001b[0m \tTrain Epoch: 9 \tTrain_loss_mri: 0.0211 | Train_acc_mri: 100.0000 | Train_loss_dna: 0.4011 | Train_acc_dna: 90.3935 | Validation_loss_mri: 1.1093 | Validation_acc_mri: 72.3958 | Validation_loss_dna: 6.0014 | Validation_acc_dna: 7.8125\u001b[32m [repeated 4x across cluster]\u001b[0m\n"
     ]
    },
    {
     "name": "stderr",
     "output_type": "stream",
     "text": [
      " 90%|\u001b[34m█████████ \u001b[0m| 9/10 [00:34<00:03,  3.74s/it]\u001b[32m [repeated 4x across cluster]\u001b[0m\n"
     ]
    },
    {
     "name": "stdout",
     "output_type": "stream",
     "text": [
      "\u001b[36m(launch_and_fit pid=10300)\u001b[0m save graph in  results/FL/\n",
      "\u001b[36m(launch_and_fit pid=10300)\u001b[0m mri_net.features.0.weight 5.7220458984375e-06\n",
      "\u001b[36m(launch_and_fit pid=10300)\u001b[0m mri_net.features.0.bias 1.430511474609375e-06\n",
      "\u001b[36m(launch_and_fit pid=10300)\u001b[0m mri_net.features.3.weight 1.430511474609375e-06\n",
      "\u001b[36m(launch_and_fit pid=10300)\u001b[0m mri_net.features.3.bias 1.1920928955078125e-06\n",
      "\u001b[36m(launch_and_fit pid=10300)\u001b[0m mri_net.classifier.0.weight 1.1920928955078125e-06\n",
      "\u001b[36m(launch_and_fit pid=10300)\u001b[0m mri_net.classifier.0.bias 1.1920928955078125e-06\n",
      "\u001b[36m(launch_and_fit pid=10300)\u001b[0m mri_net.classifier.2.weight 9.5367431640625e-07\n",
      "\u001b[36m(launch_and_fit pid=10300)\u001b[0m mri_net.classifier.2.bias 1.1920928955078125e-06\n",
      "\u001b[36m(launch_and_fit pid=10300)\u001b[0m mri_net.classifier.3.weights 1.1920928955078125e-06\n",
      "\u001b[36m(launch_and_fit pid=10300)\u001b[0m dna_net.fc1.weight 9.5367431640625e-07\n",
      "\u001b[36m(launch_and_fit pid=10300)\u001b[0m dna_net.fc1.bias 1.430511474609375e-06\n",
      "\u001b[36m(launch_and_fit pid=10300)\u001b[0m dna_net.fc2.weight 1.1920928955078125e-06\n",
      "\u001b[36m(launch_and_fit pid=10300)\u001b[0m dna_net.fc2.bias 9.5367431640625e-07\n",
      "\u001b[36m(launch_and_fit pid=10300)\u001b[0m dna_net.fc3.weight 1.430511474609375e-06\n",
      "\u001b[36m(launch_and_fit pid=10300)\u001b[0m dna_net.fc3.bias 1.1920928955078125e-06\n",
      "\u001b[36m(launch_and_fit pid=10300)\u001b[0m dna_net.fc4.weight 9.5367431640625e-07\n",
      "\u001b[36m(launch_and_fit pid=10300)\u001b[0m dna_net.fc4.bias 1.430511474609375e-06\n",
      "\u001b[36m(launch_and_fit pid=10300)\u001b[0m dna_net.qnn.weights 9.5367431640625e-07\n",
      "\u001b[36m(launch_and_fit pid=10300)\u001b[0m attention.in_proj_weight 9.5367431640625e-07\n",
      "\u001b[36m(launch_and_fit pid=10300)\u001b[0m attention.in_proj_bias 1.1920928955078125e-06\n",
      "\u001b[36m(launch_and_fit pid=10300)\u001b[0m attention.out_proj.weight 1.1920928955078125e-06\n",
      "\u001b[36m(launch_and_fit pid=10300)\u001b[0m attention.out_proj.bias 9.5367431640625e-07\n",
      "\u001b[36m(launch_and_fit pid=10300)\u001b[0m fc1.weight 9.5367431640625e-07\n",
      "\u001b[36m(launch_and_fit pid=10300)\u001b[0m fc1.bias 1.430511474609375e-06\n",
      "\u001b[36m(launch_and_fit pid=10300)\u001b[0m fc2_mri.weight 9.5367431640625e-07\n",
      "\u001b[36m(launch_and_fit pid=10300)\u001b[0m fc2_mri.bias 9.5367431640625e-07\n",
      "\u001b[36m(launch_and_fit pid=10300)\u001b[0m fc2_dna.weight 1.1920928955078125e-06\n",
      "\u001b[36m(launch_and_fit pid=10300)\u001b[0m fc2_dna.bias 9.5367431640625e-07\n",
      "\u001b[36m(launch_and_fit pid=10301)\u001b[0m \tTrain Epoch: 10 \tTrain_loss_mri: 0.0231 | Train_acc_mri: 99.6875 | Train_loss_dna: 0.4434 | Train_acc_dna: 85.5847 | Validation_loss_mri: 0.3488 | Validation_acc_mri: 93.7500 | Validation_loss_dna: 4.1459 | Validation_acc_dna: 21.3542\u001b[32m [repeated 3x across cluster]\u001b[0m\n",
      "\u001b[36m(launch_and_fit pid=10382)\u001b[0m Run with homomorphic encryption\n",
      "\u001b[36m(launch_and_fit pid=10301)\u001b[0m save graph in  results/FL/\n",
      "\u001b[36m(launch_and_fit pid=10301)\u001b[0m fc2_dna.bias 9.5367431640625e-07\u001b[32m [repeated 23x across cluster]\u001b[0m\n",
      "\u001b[36m(launch_and_fit pid=10301)\u001b[0m dna_net.qnn.weights 1.9073486328125e-06\n",
      "\u001b[36m(launch_and_fit pid=10301)\u001b[0m attention.in_proj_weight 1.6689300537109375e-06\n",
      "\u001b[36m(launch_and_fit pid=10301)\u001b[0m attention.in_proj_bias 1.1920928955078125e-06\n",
      "\u001b[36m(launch_and_fit pid=10301)\u001b[0m attention.out_proj.weight 9.5367431640625e-07\n",
      "\u001b[36m(launch_and_fit pid=10301)\u001b[0m attention.out_proj.bias 7.152557373046875e-07\n",
      "\u001b[36m(launch_and_fit pid=10382)\u001b[0m [Client 6, round 13] fit, config: {'learning_rate': 0.003, 'batch_size': '32', 'server_round': 13, 'local_epochs': 10}\n"
     ]
    },
    {
     "name": "stderr",
     "output_type": "stream",
     "text": [
      "  0%|\u001b[34m          \u001b[0m| 0/10 [00:00<?, ?it/s]\n",
      "100%|\u001b[34m██████████\u001b[0m| 10/10 [00:38<00:00,  3.84s/it]\u001b[32m [repeated 3x across cluster]\u001b[0m\n"
     ]
    },
    {
     "name": "stdout",
     "output_type": "stream",
     "text": [
      "\u001b[36m(launch_and_fit pid=10382)\u001b[0m Updated model\n",
      "\u001b[36m(launch_and_fit pid=10382)\u001b[0m \tTrain Epoch: 1 \tTrain_loss_mri: 0.1951 | Train_acc_mri: 92.2685 | Train_loss_dna: 1.3516 | Train_acc_dna: 53.5880 | Validation_loss_mri: 0.8344 | Validation_acc_mri: 85.9375 | Validation_loss_dna: 4.6247 | Validation_acc_dna: 6.2500\n",
      "\u001b[36m(launch_and_fit pid=10406)\u001b[0m Run with homomorphic encryption\n",
      "\u001b[36m(launch_and_fit pid=10406)\u001b[0m [Client 0, round 13] fit, config: {'learning_rate': 0.003, 'batch_size': '32', 'server_round': 13, 'local_epochs': 10}\n"
     ]
    },
    {
     "name": "stderr",
     "output_type": "stream",
     "text": [
      "  0%|\u001b[34m          \u001b[0m| 0/10 [00:00<?, ?it/s]\n",
      " 10%|\u001b[34m█         \u001b[0m| 1/10 [00:04<00:39,  4.40s/it]\u001b[32m [repeated 2x across cluster]\u001b[0m\n"
     ]
    },
    {
     "name": "stdout",
     "output_type": "stream",
     "text": [
      "\u001b[36m(launch_and_fit pid=10406)\u001b[0m Updated model\n"
     ]
    },
    {
     "name": "stderr",
     "output_type": "stream",
     "text": [
      " 30%|\u001b[34m███       \u001b[0m| 3/10 [00:11<00:26,  3.85s/it]\u001b[32m [repeated 3x across cluster]\u001b[0m\n"
     ]
    },
    {
     "name": "stdout",
     "output_type": "stream",
     "text": [
      "\u001b[36m(launch_and_fit pid=10382)\u001b[0m \tTrain Epoch: 3 \tTrain_loss_mri: 0.1688 | Train_acc_mri: 94.9421 | Train_loss_dna: 0.8314 | Train_acc_dna: 68.9699 | Validation_loss_mri: 1.2662 | Validation_acc_mri: 70.8333 | Validation_loss_dna: 3.7250 | Validation_acc_dna: 22.9167\u001b[32m [repeated 4x across cluster]\u001b[0m\n"
     ]
    },
    {
     "name": "stderr",
     "output_type": "stream",
     "text": [
      " 50%|\u001b[34m█████     \u001b[0m| 5/10 [00:19<00:18,  3.76s/it]\u001b[32m [repeated 4x across cluster]\u001b[0m\n"
     ]
    },
    {
     "name": "stdout",
     "output_type": "stream",
     "text": [
      "\u001b[36m(launch_and_fit pid=10382)\u001b[0m \tTrain Epoch: 5 \tTrain_loss_mri: 0.0249 | Train_acc_mri: 99.0625 | Train_loss_dna: 0.5418 | Train_acc_dna: 81.2731 | Validation_loss_mri: 0.9114 | Validation_acc_mri: 69.2708 | Validation_loss_dna: 4.3589 | Validation_acc_dna: 10.9375\u001b[32m [repeated 4x across cluster]\u001b[0m\n"
     ]
    },
    {
     "name": "stderr",
     "output_type": "stream",
     "text": [
      " 60%|\u001b[34m██████    \u001b[0m| 6/10 [00:23<00:15,  3.84s/it]\u001b[32m [repeated 3x across cluster]\u001b[0m\n"
     ]
    },
    {
     "name": "stdout",
     "output_type": "stream",
     "text": [
      "\u001b[36m(launch_and_fit pid=10406)\u001b[0m \tTrain Epoch: 6 \tTrain_loss_mri: 0.0282 | Train_acc_mri: 99.6875 | Train_loss_dna: 0.5679 | Train_acc_dna: 80.7292 | Validation_loss_mri: 1.2411 | Validation_acc_mri: 54.1667 | Validation_loss_dna: 4.1391 | Validation_acc_dna: 12.5000\u001b[32m [repeated 3x across cluster]\u001b[0m\n"
     ]
    },
    {
     "name": "stderr",
     "output_type": "stream",
     "text": [
      " 80%|\u001b[34m████████  \u001b[0m| 8/10 [00:30<00:07,  3.83s/it]\u001b[32m [repeated 3x across cluster]\u001b[0m\n"
     ]
    },
    {
     "name": "stdout",
     "output_type": "stream",
     "text": [
      "\u001b[36m(launch_and_fit pid=10382)\u001b[0m \tTrain Epoch: 8 \tTrain_loss_mri: 0.0155 | Train_acc_mri: 100.0000 | Train_loss_dna: 0.4463 | Train_acc_dna: 82.7199 | Validation_loss_mri: 1.2530 | Validation_acc_mri: 66.1458 | Validation_loss_dna: 4.8650 | Validation_acc_dna: 4.6875\u001b[32m [repeated 3x across cluster]\u001b[0m\n"
     ]
    },
    {
     "name": "stderr",
     "output_type": "stream",
     "text": [
      " 90%|\u001b[34m█████████ \u001b[0m| 9/10 [00:35<00:03,  3.84s/it]\u001b[32m [repeated 3x across cluster]\u001b[0m\n"
     ]
    },
    {
     "name": "stdout",
     "output_type": "stream",
     "text": [
      "\u001b[36m(launch_and_fit pid=10406)\u001b[0m \tTrain Epoch: 9 \tTrain_loss_mri: 0.0154 | Train_acc_mri: 100.0000 | Train_loss_dna: 0.4496 | Train_acc_dna: 85.7060 | Validation_loss_mri: 2.0437 | Validation_acc_mri: 54.1667 | Validation_loss_dna: 5.5291 | Validation_acc_dna: 14.0625\u001b[32m [repeated 3x across cluster]\u001b[0m\n",
      "\u001b[36m(launch_and_fit pid=10382)\u001b[0m save graph in  results/FL/\n",
      "\u001b[36m(launch_and_fit pid=10382)\u001b[0m mri_net.features.0.weight 4.76837158203125e-06\n",
      "\u001b[36m(launch_and_fit pid=10382)\u001b[0m mri_net.features.0.bias 1.6689300537109375e-06\n",
      "\u001b[36m(launch_and_fit pid=10382)\u001b[0m mri_net.features.3.weight 1.1920928955078125e-06\n",
      "\u001b[36m(launch_and_fit pid=10382)\u001b[0m mri_net.features.3.bias 1.430511474609375e-06\n",
      "\u001b[36m(launch_and_fit pid=10382)\u001b[0m mri_net.classifier.0.weight 9.5367431640625e-07\n",
      "\u001b[36m(launch_and_fit pid=10382)\u001b[0m mri_net.classifier.0.bias 9.5367431640625e-07\n",
      "\u001b[36m(launch_and_fit pid=10382)\u001b[0m mri_net.classifier.2.weight 9.5367431640625e-07\n",
      "\u001b[36m(launch_and_fit pid=10382)\u001b[0m mri_net.classifier.2.bias 1.1920928955078125e-06\n",
      "\u001b[36m(launch_and_fit pid=10382)\u001b[0m mri_net.classifier.3.weights 9.5367431640625e-07\n",
      "\u001b[36m(launch_and_fit pid=10382)\u001b[0m dna_net.fc1.weight 9.5367431640625e-07\n",
      "\u001b[36m(launch_and_fit pid=10382)\u001b[0m dna_net.fc1.bias 9.5367431640625e-07\n",
      "\u001b[36m(launch_and_fit pid=10382)\u001b[0m dna_net.fc2.weight 1.1920928955078125e-06\n",
      "\u001b[36m(launch_and_fit pid=10382)\u001b[0m dna_net.fc2.bias 9.5367431640625e-07\n",
      "\u001b[36m(launch_and_fit pid=10382)\u001b[0m dna_net.fc3.weight 9.5367431640625e-07\n",
      "\u001b[36m(launch_and_fit pid=10382)\u001b[0m dna_net.fc3.bias 1.1920928955078125e-06\n",
      "\u001b[36m(launch_and_fit pid=10382)\u001b[0m dna_net.fc4.weight 9.5367431640625e-07\n",
      "\u001b[36m(launch_and_fit pid=10382)\u001b[0m dna_net.fc4.bias 9.5367431640625e-07\n",
      "\u001b[36m(launch_and_fit pid=10382)\u001b[0m dna_net.qnn.weights 9.5367431640625e-07\n",
      "\u001b[36m(launch_and_fit pid=10382)\u001b[0m attention.in_proj_weight 9.5367431640625e-07\n",
      "\u001b[36m(launch_and_fit pid=10382)\u001b[0m attention.in_proj_bias 9.5367431640625e-07\n",
      "\u001b[36m(launch_and_fit pid=10382)\u001b[0m attention.out_proj.weight 9.5367431640625e-07\n",
      "\u001b[36m(launch_and_fit pid=10382)\u001b[0m attention.out_proj.bias 9.5367431640625e-07\n",
      "\u001b[36m(launch_and_fit pid=10382)\u001b[0m fc1.weight 1.430511474609375e-06\n",
      "\u001b[36m(launch_and_fit pid=10382)\u001b[0m fc1.bias 9.5367431640625e-07\n",
      "\u001b[36m(launch_and_fit pid=10382)\u001b[0m fc2_mri.weight 1.1920928955078125e-06\n",
      "\u001b[36m(launch_and_fit pid=10382)\u001b[0m fc2_mri.bias 9.5367431640625e-07\n",
      "\u001b[36m(launch_and_fit pid=10382)\u001b[0m fc2_dna.weight 1.1920928955078125e-06\n",
      "\u001b[36m(launch_and_fit pid=10382)\u001b[0m fc2_dna.bias 9.5367431640625e-07\n",
      "\u001b[36m(launch_and_fit pid=10463)\u001b[0m Run with homomorphic encryption\n",
      "\u001b[36m(launch_and_fit pid=10406)\u001b[0m \tTrain Epoch: 10 \tTrain_loss_mri: 0.0093 | Train_acc_mri: 100.0000 | Train_loss_dna: 0.4137 | Train_acc_dna: 89.2593 | Validation_loss_mri: 1.6873 | Validation_acc_mri: 54.1667 | Validation_loss_dna: 5.8167 | Validation_acc_dna: 14.0625\u001b[32m [repeated 2x across cluster]\u001b[0m\n",
      "\u001b[36m(launch_and_fit pid=10406)\u001b[0m save graph in  results/FL/\n",
      "\u001b[36m(launch_and_fit pid=10406)\u001b[0m fc2_dna.bias 1.1920928955078125e-06\u001b[32m [repeated 23x across cluster]\u001b[0m\n",
      "\u001b[36m(launch_and_fit pid=10406)\u001b[0m dna_net.qnn.weights 9.5367431640625e-07\n",
      "\u001b[36m(launch_and_fit pid=10406)\u001b[0m attention.in_proj_weight 1.1920928955078125e-06\n",
      "\u001b[36m(launch_and_fit pid=10406)\u001b[0m attention.in_proj_bias 9.5367431640625e-07\n",
      "\u001b[36m(launch_and_fit pid=10406)\u001b[0m attention.out_proj.weight 9.5367431640625e-07\n",
      "\u001b[36m(launch_and_fit pid=10406)\u001b[0m attention.out_proj.bias 9.5367431640625e-07\n",
      "\u001b[36m(launch_and_fit pid=10463)\u001b[0m [Client 8, round 13] fit, config: {'learning_rate': 0.003, 'batch_size': '32', 'server_round': 13, 'local_epochs': 10}\n",
      "\u001b[36m(launch_and_fit pid=10463)\u001b[0m Updated model\n"
     ]
    },
    {
     "name": "stderr",
     "output_type": "stream",
     "text": [
      "  0%|\u001b[34m          \u001b[0m| 0/10 [00:00<?, ?it/s]\n",
      "100%|\u001b[34m██████████\u001b[0m| 10/10 [00:38<00:00,  3.89s/it]\u001b[32m [repeated 2x across cluster]\u001b[0m\n"
     ]
    },
    {
     "name": "stdout",
     "output_type": "stream",
     "text": [
      "\u001b[36m(launch_and_fit pid=10488)\u001b[0m Run with homomorphic encryption\n",
      "\u001b[36m(launch_and_fit pid=10463)\u001b[0m \tTrain Epoch: 1 \tTrain_loss_mri: 0.1530 | Train_acc_mri: 96.8171 | Train_loss_dna: 1.6991 | Train_acc_dna: 45.0463 | Validation_loss_mri: 1.4345 | Validation_acc_mri: 67.7083 | Validation_loss_dna: 2.6479 | Validation_acc_dna: 32.2917\n",
      "\u001b[36m(launch_and_fit pid=10488)\u001b[0m [Client 7, round 13] fit, config: {'learning_rate': 0.003, 'batch_size': '32', 'server_round': 13, 'local_epochs': 10}\n"
     ]
    },
    {
     "name": "stderr",
     "output_type": "stream",
     "text": [
      "  0%|\u001b[34m          \u001b[0m| 0/10 [00:00<?, ?it/s]\n",
      " 10%|\u001b[34m█         \u001b[0m| 1/10 [00:04<00:38,  4.24s/it]\u001b[32m [repeated 2x across cluster]\u001b[0m\n"
     ]
    },
    {
     "name": "stdout",
     "output_type": "stream",
     "text": [
      "\u001b[36m(launch_and_fit pid=10488)\u001b[0m \tTrain Epoch: 1 \tTrain_loss_mri: 0.2648 | Train_acc_mri: 90.9375 | Train_loss_dna: 1.6583 | Train_acc_dna: 46.3542 | Validation_loss_mri: 0.5620 | Validation_acc_mri: 93.7500 | Validation_loss_dna: 2.3940 | Validation_acc_dna: 59.3750\n",
      "\u001b[36m(launch_and_fit pid=10488)\u001b[0m Updated model\n",
      "\u001b[36m(launch_and_fit pid=10463)\u001b[0m \tTrain Epoch: 3 \tTrain_loss_mri: 0.1204 | Train_acc_mri: 95.1968 | Train_loss_dna: 0.9006 | Train_acc_dna: 64.8495 | Validation_loss_mri: 0.6916 | Validation_acc_mri: 93.7500 | Validation_loss_dna: 2.6443 | Validation_acc_dna: 39.5833\u001b[32m [repeated 3x across cluster]\u001b[0m\n"
     ]
    },
    {
     "name": "stderr",
     "output_type": "stream",
     "text": [
      " 30%|\u001b[34m███       \u001b[0m| 3/10 [00:12<00:28,  4.01s/it]\u001b[32m [repeated 3x across cluster]\u001b[0m\n"
     ]
    },
    {
     "name": "stdout",
     "output_type": "stream",
     "text": [
      "\u001b[36m(launch_and_fit pid=10463)\u001b[0m \tTrain Epoch: 5 \tTrain_loss_mri: 0.0256 | Train_acc_mri: 100.0000 | Train_loss_dna: 0.5663 | Train_acc_dna: 78.2870 | Validation_loss_mri: 0.7492 | Validation_acc_mri: 90.6250 | Validation_loss_dna: 2.3751 | Validation_acc_dna: 57.8125\u001b[32m [repeated 4x across cluster]\u001b[0m\n"
     ]
    },
    {
     "name": "stderr",
     "output_type": "stream",
     "text": [
      " 50%|\u001b[34m█████     \u001b[0m| 5/10 [00:19<00:19,  3.89s/it]\u001b[32m [repeated 4x across cluster]\u001b[0m\n"
     ]
    },
    {
     "name": "stdout",
     "output_type": "stream",
     "text": [
      "\u001b[36m(launch_and_fit pid=10463)\u001b[0m \tTrain Epoch: 7 \tTrain_loss_mri: 0.0232 | Train_acc_mri: 99.3750 | Train_loss_dna: 0.4073 | Train_acc_dna: 87.6389 | Validation_loss_mri: 0.7905 | Validation_acc_mri: 89.0625 | Validation_loss_dna: 2.6949 | Validation_acc_dna: 41.1458\u001b[32m [repeated 4x across cluster]\u001b[0m\n"
     ]
    },
    {
     "name": "stderr",
     "output_type": "stream",
     "text": [
      " 70%|\u001b[34m███████   \u001b[0m| 7/10 [00:27<00:11,  3.86s/it]\u001b[32m [repeated 4x across cluster]\u001b[0m\n"
     ]
    },
    {
     "name": "stdout",
     "output_type": "stream",
     "text": [
      "\u001b[36m(launch_and_fit pid=10463)\u001b[0m \tTrain Epoch: 9 \tTrain_loss_mri: 0.0226 | Train_acc_mri: 99.6875 | Train_loss_dna: 0.3214 | Train_acc_dna: 90.8796 | Validation_loss_mri: 1.0875 | Validation_acc_mri: 72.3958 | Validation_loss_dna: 2.9312 | Validation_acc_dna: 41.1458\u001b[32m [repeated 4x across cluster]\u001b[0m\n"
     ]
    },
    {
     "name": "stderr",
     "output_type": "stream",
     "text": [
      " 90%|\u001b[34m█████████ \u001b[0m| 9/10 [00:34<00:03,  3.81s/it]\u001b[32m [repeated 4x across cluster]\u001b[0m\n"
     ]
    },
    {
     "name": "stdout",
     "output_type": "stream",
     "text": [
      "\u001b[36m(launch_and_fit pid=10463)\u001b[0m save graph in  results/FL/\n",
      "\u001b[36m(launch_and_fit pid=10463)\u001b[0m mri_net.features.0.weight 5.0067901611328125e-06\n",
      "\u001b[36m(launch_and_fit pid=10463)\u001b[0m mri_net.features.0.bias 1.6689300537109375e-06\n",
      "\u001b[36m(launch_and_fit pid=10463)\u001b[0m mri_net.features.3.weight 1.1920928955078125e-06\n",
      "\u001b[36m(launch_and_fit pid=10463)\u001b[0m mri_net.features.3.bias 9.5367431640625e-07\n",
      "\u001b[36m(launch_and_fit pid=10463)\u001b[0m mri_net.classifier.0.weight 1.430511474609375e-06\n",
      "\u001b[36m(launch_and_fit pid=10463)\u001b[0m mri_net.classifier.0.bias 9.5367431640625e-07\n",
      "\u001b[36m(launch_and_fit pid=10463)\u001b[0m mri_net.classifier.2.weight 1.1920928955078125e-06\n",
      "\u001b[36m(launch_and_fit pid=10463)\u001b[0m mri_net.classifier.2.bias 9.5367431640625e-07\n",
      "\u001b[36m(launch_and_fit pid=10463)\u001b[0m mri_net.classifier.3.weights 1.430511474609375e-06\n",
      "\u001b[36m(launch_and_fit pid=10463)\u001b[0m dna_net.fc1.weight 1.1920928955078125e-06\n",
      "\u001b[36m(launch_and_fit pid=10463)\u001b[0m dna_net.fc1.bias 9.5367431640625e-07\n",
      "\u001b[36m(launch_and_fit pid=10463)\u001b[0m dna_net.fc2.weight 1.430511474609375e-06\n",
      "\u001b[36m(launch_and_fit pid=10463)\u001b[0m dna_net.fc2.bias 9.5367431640625e-07\n",
      "\u001b[36m(launch_and_fit pid=10463)\u001b[0m dna_net.fc3.weight 1.430511474609375e-06\n",
      "\u001b[36m(launch_and_fit pid=10463)\u001b[0m dna_net.fc3.bias 9.5367431640625e-07\n",
      "\u001b[36m(launch_and_fit pid=10463)\u001b[0m dna_net.fc4.weight 1.430511474609375e-06\n",
      "\u001b[36m(launch_and_fit pid=10463)\u001b[0m dna_net.fc4.bias 9.5367431640625e-07\n",
      "\u001b[36m(launch_and_fit pid=10463)\u001b[0m dna_net.qnn.weights 1.9311904907226562e-05\n",
      "\u001b[36m(launch_and_fit pid=10463)\u001b[0m attention.in_proj_weight 1.6689300537109375e-06\n",
      "\u001b[36m(launch_and_fit pid=10463)\u001b[0m attention.in_proj_bias 1.430511474609375e-06\n",
      "\u001b[36m(launch_and_fit pid=10463)\u001b[0m attention.out_proj.weight 9.5367431640625e-07\n",
      "\u001b[36m(launch_and_fit pid=10463)\u001b[0m attention.out_proj.bias 1.430511474609375e-06\n",
      "\u001b[36m(launch_and_fit pid=10463)\u001b[0m fc1.weight 1.1920928955078125e-06\n",
      "\u001b[36m(launch_and_fit pid=10463)\u001b[0m fc1.bias 1.1920928955078125e-06\n",
      "\u001b[36m(launch_and_fit pid=10463)\u001b[0m fc2_mri.weight 1.1920928955078125e-06\n",
      "\u001b[36m(launch_and_fit pid=10463)\u001b[0m fc2_mri.bias 1.1920928955078125e-06\n",
      "\u001b[36m(launch_and_fit pid=10463)\u001b[0m fc2_dna.weight 9.5367431640625e-07\n",
      "\u001b[36m(launch_and_fit pid=10463)\u001b[0m fc2_dna.bias 1.430511474609375e-06\n",
      "\u001b[36m(launch_and_fit pid=10488)\u001b[0m \tTrain Epoch: 10 \tTrain_loss_mri: 0.0281 | Train_acc_mri: 99.3750 | Train_loss_dna: 0.4076 | Train_acc_dna: 86.6435 | Validation_loss_mri: 0.8248 | Validation_acc_mri: 93.7500 | Validation_loss_dna: 2.8897 | Validation_acc_dna: 44.2708\u001b[32m [repeated 3x across cluster]\u001b[0m\n",
      "\u001b[36m(launch_and_fit pid=10545)\u001b[0m Run with homomorphic encryption\n",
      "\u001b[36m(launch_and_fit pid=10488)\u001b[0m save graph in  results/FL/\n",
      "\u001b[36m(launch_and_fit pid=10488)\u001b[0m fc2_dna.bias 9.5367431640625e-07\u001b[32m [repeated 23x across cluster]\u001b[0m\n",
      "\u001b[36m(launch_and_fit pid=10488)\u001b[0m dna_net.qnn.weights 1.1920928955078125e-06\n",
      "\u001b[36m(launch_and_fit pid=10488)\u001b[0m attention.in_proj_weight 9.5367431640625e-07\n",
      "\u001b[36m(launch_and_fit pid=10488)\u001b[0m attention.in_proj_bias 9.5367431640625e-07\n",
      "\u001b[36m(launch_and_fit pid=10488)\u001b[0m attention.out_proj.weight 1.1920928955078125e-06\n",
      "\u001b[36m(launch_and_fit pid=10488)\u001b[0m attention.out_proj.bias 9.5367431640625e-07\n",
      "\u001b[36m(launch_and_fit pid=10545)\u001b[0m [Client 4, round 13] fit, config: {'learning_rate': 0.003, 'batch_size': '32', 'server_round': 13, 'local_epochs': 10}\n",
      "\u001b[36m(launch_and_fit pid=10545)\u001b[0m Updated model\n"
     ]
    },
    {
     "name": "stderr",
     "output_type": "stream",
     "text": [
      "  0%|\u001b[34m          \u001b[0m| 0/10 [00:00<?, ?it/s]\n",
      "100%|\u001b[34m██████████\u001b[0m| 10/10 [00:38<00:00,  3.87s/it]\u001b[32m [repeated 3x across cluster]\u001b[0m\n"
     ]
    },
    {
     "name": "stdout",
     "output_type": "stream",
     "text": [
      "\u001b[36m(launch_and_fit pid=10545)\u001b[0m \tTrain Epoch: 1 \tTrain_loss_mri: 0.1631 | Train_acc_mri: 93.7500 | Train_loss_dna: 1.7618 | Train_acc_dna: 42.9398 | Validation_loss_mri: 1.7236 | Validation_acc_mri: 67.7083 | Validation_loss_dna: 3.4141 | Validation_acc_dna: 10.9375\n",
      "\u001b[36m(launch_and_fit pid=10570)\u001b[0m Run with homomorphic encryption\n",
      "\u001b[36m(launch_and_fit pid=10570)\u001b[0m [Client 3, round 13] fit, config: {'learning_rate': 0.003, 'batch_size': '32', 'server_round': 13, 'local_epochs': 10}\n"
     ]
    },
    {
     "name": "stderr",
     "output_type": "stream",
     "text": [
      "  0%|\u001b[34m          \u001b[0m| 0/10 [00:00<?, ?it/s]\n",
      " 10%|\u001b[34m█         \u001b[0m| 1/10 [00:04<00:39,  4.33s/it]\u001b[32m [repeated 2x across cluster]\u001b[0m\n"
     ]
    },
    {
     "name": "stdout",
     "output_type": "stream",
     "text": [
      "\u001b[36m(launch_and_fit pid=10570)\u001b[0m Updated model\n",
      "\u001b[36m(launch_and_fit pid=10545)\u001b[0m \tTrain Epoch: 3 \tTrain_loss_mri: 0.1796 | Train_acc_mri: 93.2639 | Train_loss_dna: 0.9105 | Train_acc_dna: 66.1574 | Validation_loss_mri: 2.0180 | Validation_acc_mri: 67.7083 | Validation_loss_dna: 2.1020 | Validation_acc_dna: 38.5417\u001b[32m [repeated 4x across cluster]\u001b[0m\n"
     ]
    },
    {
     "name": "stderr",
     "output_type": "stream",
     "text": [
      " 30%|\u001b[34m███       \u001b[0m| 3/10 [00:11<00:26,  3.85s/it]\u001b[32m [repeated 3x across cluster]\u001b[0m\n",
      " 40%|\u001b[34m████      \u001b[0m| 4/10 [00:16<00:24,  4.03s/it]\u001b[32m [repeated 3x across cluster]\u001b[0m\n"
     ]
    },
    {
     "name": "stdout",
     "output_type": "stream",
     "text": [
      "\u001b[36m(launch_and_fit pid=10570)\u001b[0m \tTrain Epoch: 4 \tTrain_loss_mri: 0.0308 | Train_acc_mri: 99.6875 | Train_loss_dna: 0.6783 | Train_acc_dna: 75.0810 | Validation_loss_mri: 0.4917 | Validation_acc_mri: 89.0625 | Validation_loss_dna: 4.2139 | Validation_acc_dna: 7.8125\u001b[32m [repeated 3x across cluster]\u001b[0m\n",
      "\u001b[36m(launch_and_fit pid=10545)\u001b[0m \tTrain Epoch: 6 \tTrain_loss_mri: 0.0217 | Train_acc_mri: 99.6875 | Train_loss_dna: 0.4757 | Train_acc_dna: 87.6389 | Validation_loss_mri: 2.5229 | Validation_acc_mri: 66.1458 | Validation_loss_dna: 2.7229 | Validation_acc_dna: 33.8542\u001b[32m [repeated 3x across cluster]\u001b[0m\n"
     ]
    },
    {
     "name": "stderr",
     "output_type": "stream",
     "text": [
      " 60%|\u001b[34m██████    \u001b[0m| 6/10 [00:23<00:15,  3.88s/it]\u001b[32m [repeated 3x across cluster]\u001b[0m\n",
      " 70%|\u001b[34m███████   \u001b[0m| 7/10 [00:27<00:11,  3.88s/it]\u001b[32m [repeated 3x across cluster]\u001b[0m\n"
     ]
    },
    {
     "name": "stdout",
     "output_type": "stream",
     "text": [
      "\u001b[36m(launch_and_fit pid=10570)\u001b[0m \tTrain Epoch: 7 \tTrain_loss_mri: 0.0109 | Train_acc_mri: 100.0000 | Train_loss_dna: 0.4315 | Train_acc_dna: 87.7778 | Validation_loss_mri: 0.6087 | Validation_acc_mri: 89.0625 | Validation_loss_dna: 5.3474 | Validation_acc_dna: 9.3750\u001b[32m [repeated 3x across cluster]\u001b[0m\n",
      "\u001b[36m(launch_and_fit pid=10545)\u001b[0m \tTrain Epoch: 9 \tTrain_loss_mri: 0.0147 | Train_acc_mri: 99.6875 | Train_loss_dna: 0.3355 | Train_acc_dna: 91.0764 | Validation_loss_mri: 3.0827 | Validation_acc_mri: 69.2708 | Validation_loss_dna: 4.2253 | Validation_acc_dna: 26.0417\u001b[32m [repeated 3x across cluster]\u001b[0m\n"
     ]
    },
    {
     "name": "stderr",
     "output_type": "stream",
     "text": [
      " 90%|\u001b[34m█████████ \u001b[0m| 9/10 [00:34<00:03,  3.82s/it]\u001b[32m [repeated 3x across cluster]\u001b[0m\n"
     ]
    },
    {
     "name": "stdout",
     "output_type": "stream",
     "text": [
      "\u001b[36m(launch_and_fit pid=10545)\u001b[0m save graph in  results/FL/\n",
      "\u001b[36m(launch_and_fit pid=10545)\u001b[0m mri_net.features.0.weight 5.0067901611328125e-06\n",
      "\u001b[36m(launch_and_fit pid=10545)\u001b[0m mri_net.features.0.bias 1.1920928955078125e-06\n",
      "\u001b[36m(launch_and_fit pid=10545)\u001b[0m mri_net.features.3.weight 9.5367431640625e-07\n",
      "\u001b[36m(launch_and_fit pid=10545)\u001b[0m mri_net.features.3.bias 9.5367431640625e-07\n",
      "\u001b[36m(launch_and_fit pid=10545)\u001b[0m mri_net.classifier.0.weight 1.1920928955078125e-06\n",
      "\u001b[36m(launch_and_fit pid=10545)\u001b[0m mri_net.classifier.0.bias 8.344650268554688e-06\n",
      "\u001b[36m(launch_and_fit pid=10545)\u001b[0m mri_net.classifier.2.weight 9.5367431640625e-07\n",
      "\u001b[36m(launch_and_fit pid=10545)\u001b[0m mri_net.classifier.2.bias 1.1920928955078125e-06\n",
      "\u001b[36m(launch_and_fit pid=10545)\u001b[0m mri_net.classifier.3.weights 1.1920928955078125e-06\n",
      "\u001b[36m(launch_and_fit pid=10545)\u001b[0m dna_net.fc1.weight 9.5367431640625e-07\n",
      "\u001b[36m(launch_and_fit pid=10545)\u001b[0m dna_net.fc1.bias 1.1920928955078125e-06\n",
      "\u001b[36m(launch_and_fit pid=10545)\u001b[0m dna_net.fc2.weight 9.5367431640625e-07\n",
      "\u001b[36m(launch_and_fit pid=10545)\u001b[0m dna_net.fc2.bias 1.1920928955078125e-06\n",
      "\u001b[36m(launch_and_fit pid=10545)\u001b[0m dna_net.fc3.weight 9.5367431640625e-07\n",
      "\u001b[36m(launch_and_fit pid=10545)\u001b[0m dna_net.fc3.bias 9.5367431640625e-07\n",
      "\u001b[36m(launch_and_fit pid=10545)\u001b[0m dna_net.fc4.weight 9.5367431640625e-07\n",
      "\u001b[36m(launch_and_fit pid=10545)\u001b[0m dna_net.fc4.bias 1.430511474609375e-06\n",
      "\u001b[36m(launch_and_fit pid=10545)\u001b[0m dna_net.qnn.weights 9.5367431640625e-07\n",
      "\u001b[36m(launch_and_fit pid=10545)\u001b[0m attention.in_proj_weight 7.152557373046875e-07\n",
      "\u001b[36m(launch_and_fit pid=10545)\u001b[0m attention.in_proj_bias 9.5367431640625e-07\n",
      "\u001b[36m(launch_and_fit pid=10545)\u001b[0m attention.out_proj.weight 1.1920928955078125e-06\n",
      "\u001b[36m(launch_and_fit pid=10545)\u001b[0m attention.out_proj.bias 9.5367431640625e-07\n",
      "\u001b[36m(launch_and_fit pid=10545)\u001b[0m fc1.weight 9.5367431640625e-07\n",
      "\u001b[36m(launch_and_fit pid=10545)\u001b[0m fc1.bias 9.5367431640625e-07\n",
      "\u001b[36m(launch_and_fit pid=10545)\u001b[0m fc2_mri.weight 1.1920928955078125e-06\n",
      "\u001b[36m(launch_and_fit pid=10545)\u001b[0m fc2_mri.bias 1.1920928955078125e-06\n",
      "\u001b[36m(launch_and_fit pid=10545)\u001b[0m fc2_dna.weight 9.5367431640625e-07\n",
      "\u001b[36m(launch_and_fit pid=10545)\u001b[0m fc2_dna.bias 9.5367431640625e-07\n"
     ]
    },
    {
     "name": "stderr",
     "output_type": "stream",
     "text": [
      "100%|\u001b[34m██████████\u001b[0m| 10/10 [00:39<00:00,  3.92s/it]\u001b[32m [repeated 3x across cluster]\u001b[0m\n"
     ]
    },
    {
     "name": "stdout",
     "output_type": "stream",
     "text": [
      "\u001b[36m(launch_and_fit pid=10570)\u001b[0m \tTrain Epoch: 10 \tTrain_loss_mri: 0.0158 | Train_acc_mri: 100.0000 | Train_loss_dna: 0.3583 | Train_acc_dna: 90.5093 | Validation_loss_mri: 0.6832 | Validation_acc_mri: 89.0625 | Validation_loss_dna: 6.4440 | Validation_acc_dna: 10.9375\u001b[32m [repeated 3x across cluster]\u001b[0m\n",
      "\u001b[36m(launch_and_fit pid=10627)\u001b[0m Run with homomorphic encryption\n",
      "\u001b[36m(launch_and_fit pid=10570)\u001b[0m save graph in  results/FL/\n",
      "\u001b[36m(launch_and_fit pid=10570)\u001b[0m fc2_dna.bias 9.5367431640625e-07\u001b[32m [repeated 23x across cluster]\u001b[0m\n",
      "\u001b[36m(launch_and_fit pid=10570)\u001b[0m dna_net.qnn.weights 1.430511474609375e-06\n",
      "\u001b[36m(launch_and_fit pid=10570)\u001b[0m attention.in_proj_weight 9.5367431640625e-07\n",
      "\u001b[36m(launch_and_fit pid=10570)\u001b[0m attention.in_proj_bias 9.5367431640625e-07\n",
      "\u001b[36m(launch_and_fit pid=10570)\u001b[0m attention.out_proj.weight 1.1920928955078125e-06\n",
      "\u001b[36m(launch_and_fit pid=10570)\u001b[0m attention.out_proj.bias 1.430511474609375e-06\n",
      "\u001b[36m(launch_and_fit pid=10627)\u001b[0m [Client 2, round 13] fit, config: {'learning_rate': 0.003, 'batch_size': '32', 'server_round': 13, 'local_epochs': 10}\n"
     ]
    },
    {
     "name": "stderr",
     "output_type": "stream",
     "text": [
      "  0%|\u001b[34m          \u001b[0m| 0/10 [00:00<?, ?it/s]\n"
     ]
    },
    {
     "name": "stdout",
     "output_type": "stream",
     "text": [
      "\u001b[36m(launch_and_fit pid=10627)\u001b[0m Updated model\n"
     ]
    },
    {
     "name": "stderr",
     "output_type": "stream",
     "text": [
      " 10%|\u001b[34m█         \u001b[0m| 1/10 [00:04<00:39,  4.40s/it]\n"
     ]
    },
    {
     "name": "stdout",
     "output_type": "stream",
     "text": [
      "\u001b[36m(launch_and_fit pid=10627)\u001b[0m \tTrain Epoch: 1 \tTrain_loss_mri: 0.1791 | Train_acc_mri: 93.7500 | Train_loss_dna: 1.3748 | Train_acc_dna: 52.8241 | Validation_loss_mri: 0.9224 | Validation_acc_mri: 72.3958 | Validation_loss_dna: 3.4819 | Validation_acc_dna: 26.0417\n",
      "\u001b[36m(launch_and_fit pid=10652)\u001b[0m Run with homomorphic encryption\n",
      "\u001b[36m(launch_and_fit pid=10652)\u001b[0m [Client 5, round 13] fit, config: {'learning_rate': 0.003, 'batch_size': '32', 'server_round': 13, 'local_epochs': 10}\n"
     ]
    },
    {
     "name": "stderr",
     "output_type": "stream",
     "text": [
      "  0%|\u001b[34m          \u001b[0m| 0/10 [00:00<?, ?it/s]\n"
     ]
    },
    {
     "name": "stdout",
     "output_type": "stream",
     "text": [
      "\u001b[36m(launch_and_fit pid=10652)\u001b[0m Updated model\n"
     ]
    },
    {
     "name": "stderr",
     "output_type": "stream",
     "text": [
      " 20%|\u001b[34m██        \u001b[0m| 2/10 [00:07<00:31,  3.91s/it]\u001b[32m [repeated 3x across cluster]\u001b[0m\n"
     ]
    },
    {
     "name": "stdout",
     "output_type": "stream",
     "text": [
      "\u001b[36m(launch_and_fit pid=10652)\u001b[0m \tTrain Epoch: 2 \tTrain_loss_mri: 0.1751 | Train_acc_mri: 93.8889 | Train_loss_dna: 1.4114 | Train_acc_dna: 49.3634 | Validation_loss_mri: 0.4718 | Validation_acc_mri: 89.0625 | Validation_loss_dna: 5.2480 | Validation_acc_dna: 7.8125\u001b[32m [repeated 3x across cluster]\u001b[0m\n"
     ]
    },
    {
     "name": "stderr",
     "output_type": "stream",
     "text": [
      " 40%|\u001b[34m████      \u001b[0m| 4/10 [00:15<00:23,  3.84s/it]\u001b[32m [repeated 3x across cluster]\u001b[0m\n"
     ]
    },
    {
     "name": "stdout",
     "output_type": "stream",
     "text": [
      "\u001b[36m(launch_and_fit pid=10627)\u001b[0m \tTrain Epoch: 4 \tTrain_loss_mri: 0.0639 | Train_acc_mri: 98.1250 | Train_loss_dna: 0.7154 | Train_acc_dna: 74.8495 | Validation_loss_mri: 0.6422 | Validation_acc_mri: 89.0625 | Validation_loss_dna: 2.9621 | Validation_acc_dna: 47.3958\u001b[32m [repeated 3x across cluster]\u001b[0m\n"
     ]
    },
    {
     "name": "stderr",
     "output_type": "stream",
     "text": [
      " 50%|\u001b[34m█████     \u001b[0m| 5/10 [00:19<00:18,  3.75s/it]\u001b[32m [repeated 3x across cluster]\u001b[0m\n"
     ]
    },
    {
     "name": "stdout",
     "output_type": "stream",
     "text": [
      "\u001b[36m(launch_and_fit pid=10652)\u001b[0m \tTrain Epoch: 5 \tTrain_loss_mri: 0.0262 | Train_acc_mri: 100.0000 | Train_loss_dna: 0.5263 | Train_acc_dna: 84.7685 | Validation_loss_mri: 0.3504 | Validation_acc_mri: 95.3125 | Validation_loss_dna: 4.5759 | Validation_acc_dna: 12.5000\u001b[32m [repeated 3x across cluster]\u001b[0m\n"
     ]
    },
    {
     "name": "stderr",
     "output_type": "stream",
     "text": [
      " 70%|\u001b[34m███████   \u001b[0m| 7/10 [00:27<00:11,  3.89s/it]\u001b[32m [repeated 3x across cluster]\u001b[0m\n"
     ]
    },
    {
     "name": "stdout",
     "output_type": "stream",
     "text": [
      "\u001b[36m(launch_and_fit pid=10627)\u001b[0m \tTrain Epoch: 7 \tTrain_loss_mri: 0.0149 | Train_acc_mri: 100.0000 | Train_loss_dna: 0.4436 | Train_acc_dna: 88.2060 | Validation_loss_mri: 1.0601 | Validation_acc_mri: 70.8333 | Validation_loss_dna: 3.5836 | Validation_acc_dna: 27.6042\u001b[32m [repeated 3x across cluster]\u001b[0m\n"
     ]
    },
    {
     "name": "stderr",
     "output_type": "stream",
     "text": [
      " 80%|\u001b[34m████████  \u001b[0m| 8/10 [00:30<00:07,  3.82s/it]\u001b[32m [repeated 3x across cluster]\u001b[0m\n"
     ]
    },
    {
     "name": "stdout",
     "output_type": "stream",
     "text": [
      "\u001b[36m(launch_and_fit pid=10652)\u001b[0m \tTrain Epoch: 8 \tTrain_loss_mri: 0.0285 | Train_acc_mri: 99.0046 | Train_loss_dna: 0.3886 | Train_acc_dna: 89.8264 | Validation_loss_mri: 0.4250 | Validation_acc_mri: 92.1875 | Validation_loss_dna: 3.7792 | Validation_acc_dna: 15.6250\u001b[32m [repeated 3x across cluster]\u001b[0m\n"
     ]
    },
    {
     "name": "stderr",
     "output_type": "stream",
     "text": [
      "100%|\u001b[34m██████████\u001b[0m| 10/10 [00:38<00:00,  3.87s/it]\u001b[32m [repeated 3x across cluster]\u001b[0m\n"
     ]
    },
    {
     "name": "stdout",
     "output_type": "stream",
     "text": [
      "\u001b[36m(launch_and_fit pid=10627)\u001b[0m save graph in  results/FL/\n",
      "\u001b[36m(launch_and_fit pid=10627)\u001b[0m \tTrain Epoch: 10 \tTrain_loss_mri: 0.0237 | Train_acc_mri: 99.3750 | Train_loss_dna: 0.3689 | Train_acc_dna: 90.5671 | Validation_loss_mri: 1.3742 | Validation_acc_mri: 70.8333 | Validation_loss_dna: 4.2466 | Validation_acc_dna: 9.3750\u001b[32m [repeated 3x across cluster]\u001b[0m\n",
      "\u001b[36m(launch_and_fit pid=10627)\u001b[0m mri_net.features.0.weight 4.76837158203125e-06\n",
      "\u001b[36m(launch_and_fit pid=10627)\u001b[0m mri_net.features.0.bias 1.430511474609375e-06\n",
      "\u001b[36m(launch_and_fit pid=10627)\u001b[0m mri_net.features.3.weight 9.5367431640625e-07\n",
      "\u001b[36m(launch_and_fit pid=10627)\u001b[0m mri_net.features.3.bias 1.1920928955078125e-06\n",
      "\u001b[36m(launch_and_fit pid=10627)\u001b[0m mri_net.classifier.0.weight 9.5367431640625e-07\n",
      "\u001b[36m(launch_and_fit pid=10627)\u001b[0m mri_net.classifier.0.bias 1.1920928955078125e-06\n",
      "\u001b[36m(launch_and_fit pid=10627)\u001b[0m mri_net.classifier.2.weight 9.5367431640625e-07\n",
      "\u001b[36m(launch_and_fit pid=10627)\u001b[0m mri_net.classifier.2.bias 9.5367431640625e-07\n",
      "\u001b[36m(launch_and_fit pid=10627)\u001b[0m mri_net.classifier.3.weights 1.430511474609375e-06\n",
      "\u001b[36m(launch_and_fit pid=10627)\u001b[0m dna_net.fc1.weight 9.5367431640625e-07\n",
      "\u001b[36m(launch_and_fit pid=10627)\u001b[0m dna_net.fc1.bias 9.5367431640625e-07\n",
      "\u001b[36m(launch_and_fit pid=10627)\u001b[0m dna_net.fc2.weight 1.1920928955078125e-06\n",
      "\u001b[36m(launch_and_fit pid=10627)\u001b[0m dna_net.fc2.bias 9.5367431640625e-07\n",
      "\u001b[36m(launch_and_fit pid=10627)\u001b[0m dna_net.fc3.weight 9.5367431640625e-07\n",
      "\u001b[36m(launch_and_fit pid=10627)\u001b[0m dna_net.fc3.bias 1.1920928955078125e-06\n",
      "\u001b[36m(launch_and_fit pid=10627)\u001b[0m dna_net.fc4.weight 9.5367431640625e-07\n",
      "\u001b[36m(launch_and_fit pid=10627)\u001b[0m dna_net.fc4.bias 1.1920928955078125e-06\n",
      "\u001b[36m(launch_and_fit pid=10627)\u001b[0m dna_net.qnn.weights 7.152557373046875e-07\n",
      "\u001b[36m(launch_and_fit pid=10627)\u001b[0m attention.in_proj_weight 9.5367431640625e-07\n",
      "\u001b[36m(launch_and_fit pid=10627)\u001b[0m attention.in_proj_bias 9.5367431640625e-07\n",
      "\u001b[36m(launch_and_fit pid=10627)\u001b[0m attention.out_proj.weight 9.5367431640625e-07\n",
      "\u001b[36m(launch_and_fit pid=10627)\u001b[0m attention.out_proj.bias 1.1920928955078125e-06\n",
      "\u001b[36m(launch_and_fit pid=10627)\u001b[0m fc1.weight 9.5367431640625e-07\n",
      "\u001b[36m(launch_and_fit pid=10627)\u001b[0m fc1.bias 9.5367431640625e-07\n",
      "\u001b[36m(launch_and_fit pid=10627)\u001b[0m fc2_mri.weight 1.430511474609375e-06\n",
      "\u001b[36m(launch_and_fit pid=10627)\u001b[0m fc2_mri.bias 9.5367431640625e-07\n",
      "\u001b[36m(launch_and_fit pid=10627)\u001b[0m fc2_dna.weight 9.5367431640625e-07\n",
      "\u001b[36m(launch_and_fit pid=10627)\u001b[0m fc2_dna.bias 1.1920928955078125e-06\n"
     ]
    },
    {
     "name": "stderr",
     "output_type": "stream",
     "text": [
      "DEBUG flwr 2024-08-05 08:21:46,195 | server.py:236 | fit_round 13 received 10 results and 0 failures\n"
     ]
    },
    {
     "name": "stdout",
     "output_type": "stream",
     "text": [
      "Saving round 13 aggregated_parameters...\n"
     ]
    },
    {
     "name": "stderr",
     "output_type": "stream",
     "text": [
      "DEBUG flwr 2024-08-05 08:21:48,185 | server.py:173 | evaluate_round 13: strategy sampled 10 clients (out of 10)\n"
     ]
    },
    {
     "name": "stdout",
     "output_type": "stream",
     "text": [
      "\u001b[36m(launch_and_evaluate pid=10719)\u001b[0m Run with homomorphic encryption\n",
      "\u001b[36m(launch_and_fit pid=10652)\u001b[0m save graph in  results/FL/\n",
      "\u001b[36m(launch_and_fit pid=10652)\u001b[0m \tTrain Epoch: 10 \tTrain_loss_mri: 0.0127 | Train_acc_mri: 100.0000 | Train_loss_dna: 0.3012 | Train_acc_dna: 90.7060 | Validation_loss_mri: 0.4229 | Validation_acc_mri: 93.7500 | Validation_loss_dna: 5.0824 | Validation_acc_dna: 15.6250\n",
      "\u001b[36m(launch_and_fit pid=10652)\u001b[0m fc2_dna.bias 9.5367431640625e-07\u001b[32m [repeated 23x across cluster]\u001b[0m\n",
      "\u001b[36m(launch_and_fit pid=10652)\u001b[0m dna_net.qnn.weights 1.430511474609375e-06\n",
      "\u001b[36m(launch_and_fit pid=10652)\u001b[0m attention.in_proj_weight 9.5367431640625e-07\n",
      "\u001b[36m(launch_and_fit pid=10652)\u001b[0m attention.in_proj_bias 9.5367431640625e-07\n",
      "\u001b[36m(launch_and_fit pid=10652)\u001b[0m attention.out_proj.weight 9.5367431640625e-07\n",
      "\u001b[36m(launch_and_fit pid=10652)\u001b[0m attention.out_proj.bias 1.1920928955078125e-06\n",
      "\u001b[36m(launch_and_evaluate pid=10718)\u001b[0m [Client 2] evaluate, config: {}\n",
      "\u001b[36m(launch_and_evaluate pid=10718)\u001b[0m Updated model\n",
      "\u001b[36m(launch_and_evaluate pid=10797)\u001b[0m Run with homomorphic encryption\u001b[32m [repeated 2x across cluster]\u001b[0m\n",
      "\u001b[36m(launch_and_evaluate pid=10719)\u001b[0m [Client 3] evaluate, config: {}\n",
      "\u001b[36m(launch_and_evaluate pid=10719)\u001b[0m Updated model\n",
      "\u001b[36m(launch_and_evaluate pid=10797)\u001b[0m [Client 0] evaluate, config: {}\n",
      "\u001b[36m(launch_and_evaluate pid=10797)\u001b[0m Updated model\n"
     ]
    },
    {
     "name": "stderr",
     "output_type": "stream",
     "text": [
      "\u001b[36m(launch_and_evaluate pid=10799)\u001b[0m /opt/conda/lib/python3.10/site-packages/sklearn/metrics/_ranking.py:1029: UndefinedMetricWarning: No positive samples in y_true, true positive value should be meaningless\n",
      "\u001b[36m(launch_and_evaluate pid=10799)\u001b[0m   warnings.warn(\n",
      "100%|\u001b[34m██████████\u001b[0m| 10/10 [00:38<00:00,  3.82s/it]\n"
     ]
    },
    {
     "name": "stdout",
     "output_type": "stream",
     "text": [
      "\u001b[36m(launch_and_evaluate pid=10875)\u001b[0m Run with homomorphic encryption\u001b[32m [repeated 2x across cluster]\u001b[0m\n",
      "\u001b[36m(launch_and_evaluate pid=10799)\u001b[0m [Client 9] evaluate, config: {}\n",
      "\u001b[36m(launch_and_evaluate pid=10799)\u001b[0m Updated model\n",
      "\u001b[36m(launch_and_evaluate pid=10875)\u001b[0m [Client 1] evaluate, config: {}\n",
      "\u001b[36m(launch_and_evaluate pid=10875)\u001b[0m Updated model\n",
      "\u001b[36m(launch_and_evaluate pid=10955)\u001b[0m Run with homomorphic encryption\u001b[32m [repeated 2x across cluster]\u001b[0m\n",
      "\u001b[36m(launch_and_evaluate pid=10877)\u001b[0m [Client 6] evaluate, config: {}\n",
      "\u001b[36m(launch_and_evaluate pid=10877)\u001b[0m Updated model\n",
      "\u001b[36m(launch_and_evaluate pid=10955)\u001b[0m [Client 5] evaluate, config: {}\n",
      "\u001b[36m(launch_and_evaluate pid=10955)\u001b[0m Updated model\n"
     ]
    },
    {
     "name": "stderr",
     "output_type": "stream",
     "text": [
      "\u001b[36m(launch_and_evaluate pid=10953)\u001b[0m /opt/conda/lib/python3.10/site-packages/sklearn/metrics/_ranking.py:1029: UndefinedMetricWarning: No positive samples in y_true, true positive value should be meaningless\n",
      "\u001b[36m(launch_and_evaluate pid=10953)\u001b[0m   warnings.warn(\n"
     ]
    },
    {
     "name": "stdout",
     "output_type": "stream",
     "text": [
      "\u001b[36m(launch_and_evaluate pid=11031)\u001b[0m Run with homomorphic encryption\u001b[32m [repeated 2x across cluster]\u001b[0m\n",
      "\u001b[36m(launch_and_evaluate pid=10953)\u001b[0m [Client 8] evaluate, config: {}\n",
      "\u001b[36m(launch_and_evaluate pid=10953)\u001b[0m Updated model\n",
      "\u001b[36m(launch_and_evaluate pid=11033)\u001b[0m [Client 7] evaluate, config: {}\n",
      "\u001b[36m(launch_and_evaluate pid=11031)\u001b[0m Updated model\n"
     ]
    },
    {
     "name": "stderr",
     "output_type": "stream",
     "text": [
      "\u001b[36m(launch_and_evaluate pid=11031)\u001b[0m /opt/conda/lib/python3.10/site-packages/sklearn/metrics/_ranking.py:1029: UndefinedMetricWarning: No positive samples in y_true, true positive value should be meaningless\n",
      "\u001b[36m(launch_and_evaluate pid=11031)\u001b[0m   warnings.warn(\n",
      "DEBUG flwr 2024-08-05 08:23:05,609 | server.py:187 | evaluate_round 13 received 10 results and 0 failures\n",
      "DEBUG flwr 2024-08-05 08:23:05,610 | server.py:222 | fit_round 14: strategy sampled 10 clients (out of 10)\n"
     ]
    },
    {
     "name": "stdout",
     "output_type": "stream",
     "text": [
      "\u001b[36m(launch_and_fit pid=11118)\u001b[0m Run with homomorphic encryption\u001b[32m [repeated 2x across cluster]\u001b[0m\n",
      "\u001b[36m(launch_and_evaluate pid=11031)\u001b[0m [Client 4] evaluate, config: {}\n",
      "\u001b[36m(launch_and_evaluate pid=11033)\u001b[0m Updated model\n",
      "\u001b[36m(launch_and_fit pid=11118)\u001b[0m [Client 5, round 14] fit, config: {'learning_rate': 0.003, 'batch_size': '32', 'server_round': 14, 'local_epochs': 10}\n"
     ]
    },
    {
     "name": "stderr",
     "output_type": "stream",
     "text": [
      "  0%|\u001b[34m          \u001b[0m| 0/10 [00:00<?, ?it/s]\n"
     ]
    },
    {
     "name": "stdout",
     "output_type": "stream",
     "text": [
      "\u001b[36m(launch_and_fit pid=11118)\u001b[0m Updated model\n"
     ]
    },
    {
     "name": "stderr",
     "output_type": "stream",
     "text": [
      " 10%|\u001b[34m█         \u001b[0m| 1/10 [00:04<00:37,  4.20s/it]\n"
     ]
    },
    {
     "name": "stdout",
     "output_type": "stream",
     "text": [
      "\u001b[36m(launch_and_fit pid=11118)\u001b[0m \tTrain Epoch: 1 \tTrain_loss_mri: 0.0863 | Train_acc_mri: 96.8750 | Train_loss_dna: 1.5043 | Train_acc_dna: 50.0463 | Validation_loss_mri: 0.3805 | Validation_acc_mri: 90.6250 | Validation_loss_dna: 4.0243 | Validation_acc_dna: 10.9375\n",
      "\u001b[36m(launch_and_fit pid=11119)\u001b[0m Run with homomorphic encryption\n",
      "\u001b[36m(launch_and_fit pid=11119)\u001b[0m [Client 4, round 14] fit, config: {'learning_rate': 0.003, 'batch_size': '32', 'server_round': 14, 'local_epochs': 10}\n"
     ]
    },
    {
     "name": "stderr",
     "output_type": "stream",
     "text": [
      "  0%|\u001b[34m          \u001b[0m| 0/10 [00:00<?, ?it/s]\n"
     ]
    },
    {
     "name": "stdout",
     "output_type": "stream",
     "text": [
      "\u001b[36m(launch_and_fit pid=11119)\u001b[0m Updated model\n"
     ]
    },
    {
     "name": "stderr",
     "output_type": "stream",
     "text": [
      " 30%|\u001b[34m███       \u001b[0m| 3/10 [00:11<00:26,  3.83s/it]\u001b[32m [repeated 4x across cluster]\u001b[0m\n"
     ]
    },
    {
     "name": "stdout",
     "output_type": "stream",
     "text": [
      "\u001b[36m(launch_and_fit pid=11118)\u001b[0m \tTrain Epoch: 3 \tTrain_loss_mri: 0.0890 | Train_acc_mri: 96.1921 | Train_loss_dna: 0.6938 | Train_acc_dna: 77.2685 | Validation_loss_mri: 0.4420 | Validation_acc_mri: 89.0625 | Validation_loss_dna: 4.8315 | Validation_acc_dna: 27.6042\u001b[32m [repeated 4x across cluster]\u001b[0m\n"
     ]
    },
    {
     "name": "stderr",
     "output_type": "stream",
     "text": [
      " 50%|\u001b[34m█████     \u001b[0m| 5/10 [00:19<00:19,  3.91s/it]\u001b[32m [repeated 4x across cluster]\u001b[0m\n"
     ]
    },
    {
     "name": "stdout",
     "output_type": "stream",
     "text": [
      "\u001b[36m(launch_and_fit pid=11118)\u001b[0m \tTrain Epoch: 5 \tTrain_loss_mri: 0.0367 | Train_acc_mri: 99.0046 | Train_loss_dna: 0.4759 | Train_acc_dna: 86.2731 | Validation_loss_mri: 0.3700 | Validation_acc_mri: 92.1875 | Validation_loss_dna: 5.1349 | Validation_acc_dna: 18.7500\u001b[32m [repeated 4x across cluster]\u001b[0m\n",
      "\u001b[36m(launch_and_fit pid=11119)\u001b[0m \tTrain Epoch: 7 \tTrain_loss_mri: 0.0175 | Train_acc_mri: 100.0000 | Train_loss_dna: 0.3700 | Train_acc_dna: 90.5093 | Validation_loss_mri: 2.9901 | Validation_acc_mri: 67.7083 | Validation_loss_dna: 2.9524 | Validation_acc_dna: 30.7292\u001b[32m [repeated 4x across cluster]\u001b[0m\n"
     ]
    },
    {
     "name": "stderr",
     "output_type": "stream",
     "text": [
      " 70%|\u001b[34m███████   \u001b[0m| 7/10 [00:26<00:11,  3.77s/it]\u001b[32m [repeated 4x across cluster]\u001b[0m\n",
      " 90%|\u001b[34m█████████ \u001b[0m| 9/10 [00:34<00:03,  3.78s/it]\u001b[32m [repeated 4x across cluster]\u001b[0m\n"
     ]
    },
    {
     "name": "stdout",
     "output_type": "stream",
     "text": [
      "\u001b[36m(launch_and_fit pid=11118)\u001b[0m \tTrain Epoch: 9 \tTrain_loss_mri: 0.0195 | Train_acc_mri: 99.3750 | Train_loss_dna: 0.3012 | Train_acc_dna: 92.8125 | Validation_loss_mri: 0.4135 | Validation_acc_mri: 92.1875 | Validation_loss_dna: 6.5873 | Validation_acc_dna: 29.1667\u001b[32m [repeated 4x across cluster]\u001b[0m\n",
      "\u001b[36m(launch_and_fit pid=11118)\u001b[0m save graph in  results/FL/\n",
      "\u001b[36m(launch_and_fit pid=11118)\u001b[0m mri_net.features.0.weight 4.0531158447265625e-06\n",
      "\u001b[36m(launch_and_fit pid=11118)\u001b[0m mri_net.features.0.bias 1.430511474609375e-06\n",
      "\u001b[36m(launch_and_fit pid=11118)\u001b[0m mri_net.features.3.weight 9.5367431640625e-07\n",
      "\u001b[36m(launch_and_fit pid=11118)\u001b[0m mri_net.features.3.bias 1.1920928955078125e-06\n",
      "\u001b[36m(launch_and_fit pid=11118)\u001b[0m mri_net.classifier.0.weight 9.5367431640625e-07\n",
      "\u001b[36m(launch_and_fit pid=11118)\u001b[0m mri_net.classifier.0.bias 9.5367431640625e-07\n",
      "\u001b[36m(launch_and_fit pid=11118)\u001b[0m mri_net.classifier.2.weight 9.5367431640625e-07\n",
      "\u001b[36m(launch_and_fit pid=11118)\u001b[0m mri_net.classifier.2.bias 9.5367431640625e-07\n",
      "\u001b[36m(launch_and_fit pid=11118)\u001b[0m mri_net.classifier.3.weights 1.430511474609375e-06\n",
      "\u001b[36m(launch_and_fit pid=11118)\u001b[0m dna_net.fc1.weight 1.1920928955078125e-06\n",
      "\u001b[36m(launch_and_fit pid=11118)\u001b[0m dna_net.fc1.bias 9.5367431640625e-07\n",
      "\u001b[36m(launch_and_fit pid=11118)\u001b[0m dna_net.fc2.weight 9.5367431640625e-07\n",
      "\u001b[36m(launch_and_fit pid=11118)\u001b[0m dna_net.fc2.bias 9.5367431640625e-07\n",
      "\u001b[36m(launch_and_fit pid=11118)\u001b[0m dna_net.fc3.weight 1.1920928955078125e-06\n",
      "\u001b[36m(launch_and_fit pid=11118)\u001b[0m dna_net.fc3.bias 9.5367431640625e-07\n",
      "\u001b[36m(launch_and_fit pid=11118)\u001b[0m dna_net.fc4.weight 9.5367431640625e-07\n",
      "\u001b[36m(launch_and_fit pid=11118)\u001b[0m dna_net.fc4.bias 9.5367431640625e-07\n",
      "\u001b[36m(launch_and_fit pid=11118)\u001b[0m dna_net.qnn.weights 7.152557373046875e-07\n",
      "\u001b[36m(launch_and_fit pid=11118)\u001b[0m attention.in_proj_weight 1.1920928955078125e-06\n",
      "\u001b[36m(launch_and_fit pid=11118)\u001b[0m attention.in_proj_bias 7.152557373046875e-07\n",
      "\u001b[36m(launch_and_fit pid=11118)\u001b[0m attention.out_proj.weight 7.152557373046875e-07\n",
      "\u001b[36m(launch_and_fit pid=11118)\u001b[0m attention.out_proj.bias 9.5367431640625e-07\n",
      "\u001b[36m(launch_and_fit pid=11118)\u001b[0m fc1.weight 1.1920928955078125e-06\n",
      "\u001b[36m(launch_and_fit pid=11118)\u001b[0m fc1.bias 9.5367431640625e-07\n",
      "\u001b[36m(launch_and_fit pid=11118)\u001b[0m fc2_mri.weight 1.430511474609375e-06\n",
      "\u001b[36m(launch_and_fit pid=11118)\u001b[0m fc2_mri.bias 9.5367431640625e-07\n",
      "\u001b[36m(launch_and_fit pid=11118)\u001b[0m fc2_dna.weight 9.5367431640625e-07\n",
      "\u001b[36m(launch_and_fit pid=11118)\u001b[0m fc2_dna.bias 9.5367431640625e-07\n",
      "\u001b[36m(launch_and_fit pid=11199)\u001b[0m Run with homomorphic encryption\n",
      "\u001b[36m(launch_and_fit pid=11119)\u001b[0m \tTrain Epoch: 10 \tTrain_loss_mri: 0.0189 | Train_acc_mri: 99.6875 | Train_loss_dna: 0.2519 | Train_acc_dna: 95.9375 | Validation_loss_mri: 2.6186 | Validation_acc_mri: 67.7083 | Validation_loss_dna: 4.2043 | Validation_acc_dna: 26.0417\u001b[32m [repeated 3x across cluster]\u001b[0m\n",
      "\u001b[36m(launch_and_fit pid=11119)\u001b[0m save graph in  results/FL/\n",
      "\u001b[36m(launch_and_fit pid=11119)\u001b[0m fc2_dna.bias 1.1920928955078125e-06\u001b[32m [repeated 23x across cluster]\u001b[0m\n",
      "\u001b[36m(launch_and_fit pid=11119)\u001b[0m dna_net.qnn.weights 1.1920928955078125e-06\n",
      "\u001b[36m(launch_and_fit pid=11119)\u001b[0m attention.in_proj_weight 9.5367431640625e-07\n",
      "\u001b[36m(launch_and_fit pid=11119)\u001b[0m attention.in_proj_bias 1.1920928955078125e-06\n",
      "\u001b[36m(launch_and_fit pid=11119)\u001b[0m attention.out_proj.weight 9.5367431640625e-07\n",
      "\u001b[36m(launch_and_fit pid=11119)\u001b[0m attention.out_proj.bias 1.1920928955078125e-06\n",
      "\u001b[36m(launch_and_fit pid=11201)\u001b[0m [Client 3, round 14] fit, config: {'learning_rate': 0.003, 'batch_size': '32', 'server_round': 14, 'local_epochs': 10}\n"
     ]
    },
    {
     "name": "stderr",
     "output_type": "stream",
     "text": [
      "  0%|\u001b[34m          \u001b[0m| 0/10 [00:00<?, ?it/s]\n",
      "100%|\u001b[34m██████████\u001b[0m| 10/10 [00:38<00:00,  3.82s/it]\u001b[32m [repeated 3x across cluster]\u001b[0m\n"
     ]
    },
    {
     "name": "stdout",
     "output_type": "stream",
     "text": [
      "\u001b[36m(launch_and_fit pid=11201)\u001b[0m Updated model\n",
      "\u001b[36m(launch_and_fit pid=11201)\u001b[0m Run with homomorphic encryption\n",
      "\u001b[36m(launch_and_fit pid=11199)\u001b[0m \tTrain Epoch: 1 \tTrain_loss_mri: 0.1614 | Train_acc_mri: 94.8264 | Train_loss_dna: 1.3149 | Train_acc_dna: 53.5648 | Validation_loss_mri: 1.2671 | Validation_acc_mri: 75.5208 | Validation_loss_dna: 3.9915 | Validation_acc_dna: 27.6042\n",
      "\u001b[36m(launch_and_fit pid=11199)\u001b[0m [Client 1, round 14] fit, config: {'learning_rate': 0.003, 'batch_size': '32', 'server_round': 14, 'local_epochs': 10}\n",
      "\u001b[36m(launch_and_fit pid=11201)\u001b[0m \tTrain Epoch: 1 \tTrain_loss_mri: 0.0617 | Train_acc_mri: 98.4375 | Train_loss_dna: 1.8441 | Train_acc_dna: 43.1366 | Validation_loss_mri: 0.5508 | Validation_acc_mri: 90.6250 | Validation_loss_dna: 4.3244 | Validation_acc_dna: 26.0417\n"
     ]
    },
    {
     "name": "stderr",
     "output_type": "stream",
     "text": [
      "  0%|\u001b[34m          \u001b[0m| 0/10 [00:00<?, ?it/s]\n",
      " 20%|\u001b[34m██        \u001b[0m| 2/10 [00:08<00:32,  4.11s/it]\u001b[32m [repeated 3x across cluster]\u001b[0m\n"
     ]
    },
    {
     "name": "stdout",
     "output_type": "stream",
     "text": [
      "\u001b[36m(launch_and_fit pid=11199)\u001b[0m Updated model\n",
      "\u001b[36m(launch_and_fit pid=11199)\u001b[0m \tTrain Epoch: 3 \tTrain_loss_mri: 0.0855 | Train_acc_mri: 97.4421 | Train_loss_dna: 0.8071 | Train_acc_dna: 68.7963 | Validation_loss_mri: 0.6882 | Validation_acc_mri: 72.3958 | Validation_loss_dna: 4.9613 | Validation_acc_dna: 12.5000\u001b[32m [repeated 3x across cluster]\u001b[0m\n"
     ]
    },
    {
     "name": "stderr",
     "output_type": "stream",
     "text": [
      " 40%|\u001b[34m████      \u001b[0m| 4/10 [00:15<00:23,  3.89s/it]\u001b[32m [repeated 4x across cluster]\u001b[0m\n"
     ]
    },
    {
     "name": "stdout",
     "output_type": "stream",
     "text": [
      "\u001b[36m(launch_and_fit pid=11199)\u001b[0m \tTrain Epoch: 5 \tTrain_loss_mri: 0.0779 | Train_acc_mri: 98.3796 | Train_loss_dna: 0.4992 | Train_acc_dna: 83.0324 | Validation_loss_mri: 1.1163 | Validation_acc_mri: 55.7292 | Validation_loss_dna: 5.4114 | Validation_acc_dna: 12.5000\u001b[32m [repeated 4x across cluster]\u001b[0m\n"
     ]
    },
    {
     "name": "stderr",
     "output_type": "stream",
     "text": [
      " 60%|\u001b[34m██████    \u001b[0m| 6/10 [00:23<00:15,  3.79s/it]\u001b[32m [repeated 4x across cluster]\u001b[0m\n"
     ]
    },
    {
     "name": "stdout",
     "output_type": "stream",
     "text": [
      "\u001b[36m(launch_and_fit pid=11199)\u001b[0m \tTrain Epoch: 7 \tTrain_loss_mri: 0.0486 | Train_acc_mri: 98.4375 | Train_loss_dna: 0.4293 | Train_acc_dna: 85.3935 | Validation_loss_mri: 1.3978 | Validation_acc_mri: 70.8333 | Validation_loss_dna: 5.4974 | Validation_acc_dna: 9.3750\u001b[32m [repeated 4x across cluster]\u001b[0m\n"
     ]
    },
    {
     "name": "stderr",
     "output_type": "stream",
     "text": [
      " 80%|\u001b[34m████████  \u001b[0m| 8/10 [00:31<00:07,  3.86s/it]\u001b[32m [repeated 4x across cluster]\u001b[0m\n"
     ]
    },
    {
     "name": "stdout",
     "output_type": "stream",
     "text": [
      "\u001b[36m(launch_and_fit pid=11201)\u001b[0m \tTrain Epoch: 8 \tTrain_loss_mri: 0.0209 | Train_acc_mri: 99.3750 | Train_loss_dna: 0.3626 | Train_acc_dna: 89.8843 | Validation_loss_mri: 0.7192 | Validation_acc_mri: 87.5000 | Validation_loss_dna: 5.2859 | Validation_acc_dna: 10.9375\u001b[32m [repeated 3x across cluster]\u001b[0m\n"
     ]
    },
    {
     "name": "stderr",
     "output_type": "stream",
     "text": [
      " 90%|\u001b[34m█████████ \u001b[0m| 9/10 [00:36<00:04,  4.02s/it]\u001b[32m [repeated 3x across cluster]\u001b[0m\n"
     ]
    },
    {
     "name": "stdout",
     "output_type": "stream",
     "text": [
      "\u001b[36m(launch_and_fit pid=11199)\u001b[0m save graph in  results/FL/\n",
      "\u001b[36m(launch_and_fit pid=11199)\u001b[0m \tTrain Epoch: 10 \tTrain_loss_mri: 0.0384 | Train_acc_mri: 98.7500 | Train_loss_dna: 0.3856 | Train_acc_dna: 87.5810 | Validation_loss_mri: 1.1324 | Validation_acc_mri: 73.9583 | Validation_loss_dna: 6.9458 | Validation_acc_dna: 12.5000\u001b[32m [repeated 3x across cluster]\u001b[0m\n",
      "\u001b[36m(launch_and_fit pid=11199)\u001b[0m mri_net.features.0.weight 5.245208740234375e-06\n",
      "\u001b[36m(launch_and_fit pid=11199)\u001b[0m mri_net.features.0.bias 1.9073486328125e-06\n",
      "\u001b[36m(launch_and_fit pid=11199)\u001b[0m mri_net.features.3.weight 2.1457672119140625e-06\n",
      "\u001b[36m(launch_and_fit pid=11199)\u001b[0m mri_net.features.3.bias 1.1920928955078125e-06\n",
      "\u001b[36m(launch_and_fit pid=11199)\u001b[0m mri_net.classifier.0.weight 1.430511474609375e-06\n",
      "\u001b[36m(launch_and_fit pid=11199)\u001b[0m mri_net.classifier.0.bias 1.430511474609375e-06\n",
      "\u001b[36m(launch_and_fit pid=11199)\u001b[0m mri_net.classifier.2.weight 9.5367431640625e-07\n",
      "\u001b[36m(launch_and_fit pid=11199)\u001b[0m mri_net.classifier.2.bias 1.430511474609375e-06\n",
      "\u001b[36m(launch_and_fit pid=11199)\u001b[0m mri_net.classifier.3.weights 1.1920928955078125e-06\n",
      "\u001b[36m(launch_and_fit pid=11199)\u001b[0m dna_net.fc1.weight 9.5367431640625e-07\n",
      "\u001b[36m(launch_and_fit pid=11199)\u001b[0m dna_net.fc1.bias 1.1920928955078125e-06\n",
      "\u001b[36m(launch_and_fit pid=11199)\u001b[0m dna_net.fc2.weight 9.5367431640625e-07\n",
      "\u001b[36m(launch_and_fit pid=11199)\u001b[0m dna_net.fc2.bias 1.430511474609375e-06\n",
      "\u001b[36m(launch_and_fit pid=11199)\u001b[0m dna_net.fc3.weight 1.430511474609375e-06\n",
      "\u001b[36m(launch_and_fit pid=11199)\u001b[0m dna_net.fc3.bias 1.1920928955078125e-06\n",
      "\u001b[36m(launch_and_fit pid=11199)\u001b[0m dna_net.fc4.weight 1.430511474609375e-06\n",
      "\u001b[36m(launch_and_fit pid=11199)\u001b[0m dna_net.fc4.bias 1.1920928955078125e-06\n",
      "\u001b[36m(launch_and_fit pid=11199)\u001b[0m dna_net.qnn.weights 1.1920928955078125e-06\n",
      "\u001b[36m(launch_and_fit pid=11199)\u001b[0m attention.in_proj_weight 9.5367431640625e-07\n",
      "\u001b[36m(launch_and_fit pid=11199)\u001b[0m attention.in_proj_bias 1.430511474609375e-06\n",
      "\u001b[36m(launch_and_fit pid=11199)\u001b[0m attention.out_proj.weight 9.5367431640625e-07\n",
      "\u001b[36m(launch_and_fit pid=11199)\u001b[0m attention.out_proj.bias 9.5367431640625e-07\n",
      "\u001b[36m(launch_and_fit pid=11199)\u001b[0m fc1.weight 1.6689300537109375e-06\n",
      "\u001b[36m(launch_and_fit pid=11199)\u001b[0m fc1.bias 9.5367431640625e-07\n",
      "\u001b[36m(launch_and_fit pid=11199)\u001b[0m fc2_mri.weight 1.430511474609375e-06\n",
      "\u001b[36m(launch_and_fit pid=11199)\u001b[0m fc2_mri.bias 1.1920928955078125e-06\n",
      "\u001b[36m(launch_and_fit pid=11199)\u001b[0m fc2_dna.weight 1.1920928955078125e-06\n",
      "\u001b[36m(launch_and_fit pid=11199)\u001b[0m fc2_dna.bias 1.430511474609375e-06\n",
      "\u001b[36m(launch_and_fit pid=11281)\u001b[0m Run with homomorphic encryption\n",
      "\u001b[36m(launch_and_fit pid=11201)\u001b[0m save graph in  results/FL/\n",
      "\u001b[36m(launch_and_fit pid=11201)\u001b[0m \tTrain Epoch: 10 \tTrain_loss_mri: 0.0158 | Train_acc_mri: 99.6875 | Train_loss_dna: 0.3045 | Train_acc_dna: 92.4421 | Validation_loss_mri: 0.7794 | Validation_acc_mri: 85.9375 | Validation_loss_dna: 6.1980 | Validation_acc_dna: 10.9375\n",
      "\u001b[36m(launch_and_fit pid=11201)\u001b[0m fc2_dna.bias 9.5367431640625e-07\u001b[32m [repeated 23x across cluster]\u001b[0m\n",
      "\u001b[36m(launch_and_fit pid=11201)\u001b[0m dna_net.qnn.weights 9.5367431640625e-07\n",
      "\u001b[36m(launch_and_fit pid=11201)\u001b[0m attention.in_proj_weight 9.5367431640625e-07\n",
      "\u001b[36m(launch_and_fit pid=11201)\u001b[0m attention.in_proj_bias 1.1920928955078125e-06\n",
      "\u001b[36m(launch_and_fit pid=11201)\u001b[0m attention.out_proj.weight 1.1920928955078125e-06\n",
      "\u001b[36m(launch_and_fit pid=11201)\u001b[0m attention.out_proj.bias 9.5367431640625e-07\n",
      "\u001b[36m(launch_and_fit pid=11281)\u001b[0m [Client 7, round 14] fit, config: {'learning_rate': 0.003, 'batch_size': '32', 'server_round': 14, 'local_epochs': 10}\n"
     ]
    },
    {
     "name": "stderr",
     "output_type": "stream",
     "text": [
      "  0%|\u001b[34m          \u001b[0m| 0/10 [00:00<?, ?it/s]\n",
      "100%|\u001b[34m██████████\u001b[0m| 10/10 [00:40<00:00,  4.06s/it]\u001b[32m [repeated 2x across cluster]\u001b[0m\n"
     ]
    },
    {
     "name": "stdout",
     "output_type": "stream",
     "text": [
      "\u001b[36m(launch_and_fit pid=11281)\u001b[0m Updated model\n",
      "\u001b[36m(launch_and_fit pid=11281)\u001b[0m \tTrain Epoch: 1 \tTrain_loss_mri: 0.1267 | Train_acc_mri: 95.9375 | Train_loss_dna: 1.4023 | Train_acc_dna: 47.7662 | Validation_loss_mri: 1.3038 | Validation_acc_mri: 77.0833 | Validation_loss_dna: 2.6968 | Validation_acc_dna: 42.7083\n",
      "\u001b[36m(launch_and_fit pid=11306)\u001b[0m Run with homomorphic encryption\n",
      "\u001b[36m(launch_and_fit pid=11306)\u001b[0m [Client 2, round 14] fit, config: {'learning_rate': 0.003, 'batch_size': '32', 'server_round': 14, 'local_epochs': 10}\n",
      "\u001b[36m(launch_and_fit pid=11306)\u001b[0m Updated model\n"
     ]
    },
    {
     "name": "stderr",
     "output_type": "stream",
     "text": [
      "  0%|\u001b[34m          \u001b[0m| 0/10 [00:00<?, ?it/s]\n",
      " 10%|\u001b[34m█         \u001b[0m| 1/10 [00:04<00:38,  4.23s/it]\u001b[32m [repeated 2x across cluster]\u001b[0m\n"
     ]
    },
    {
     "name": "stdout",
     "output_type": "stream",
     "text": [
      "\u001b[36m(launch_and_fit pid=11306)\u001b[0m \tTrain Epoch: 2 \tTrain_loss_mri: 0.1005 | Train_acc_mri: 95.8218 | Train_loss_dna: 1.1953 | Train_acc_dna: 55.3241 | Validation_loss_mri: 0.5324 | Validation_acc_mri: 89.0625 | Validation_loss_dna: 3.0032 | Validation_acc_dna: 44.2708\u001b[32m [repeated 3x across cluster]\u001b[0m\n"
     ]
    },
    {
     "name": "stderr",
     "output_type": "stream",
     "text": [
      " 30%|\u001b[34m███       \u001b[0m| 3/10 [00:12<00:27,  3.97s/it]\u001b[32m [repeated 3x across cluster]\u001b[0m\n"
     ]
    },
    {
     "name": "stdout",
     "output_type": "stream",
     "text": [
      "\u001b[36m(launch_and_fit pid=11281)\u001b[0m \tTrain Epoch: 4 \tTrain_loss_mri: 0.0430 | Train_acc_mri: 98.7500 | Train_loss_dna: 0.6971 | Train_acc_dna: 74.8495 | Validation_loss_mri: 1.3309 | Validation_acc_mri: 78.6458 | Validation_loss_dna: 1.9405 | Validation_acc_dna: 62.5000\u001b[32m [repeated 3x across cluster]\u001b[0m\n"
     ]
    },
    {
     "name": "stderr",
     "output_type": "stream",
     "text": [
      " 40%|\u001b[34m████      \u001b[0m| 4/10 [00:16<00:23,  3.96s/it]\u001b[32m [repeated 3x across cluster]\u001b[0m\n"
     ]
    },
    {
     "name": "stdout",
     "output_type": "stream",
     "text": [
      "\u001b[36m(launch_and_fit pid=11306)\u001b[0m \tTrain Epoch: 5 \tTrain_loss_mri: 0.0441 | Train_acc_mri: 98.3796 | Train_loss_dna: 0.5756 | Train_acc_dna: 81.0417 | Validation_loss_mri: 0.7977 | Validation_acc_mri: 72.3958 | Validation_loss_dna: 3.7051 | Validation_acc_dna: 26.0417\u001b[32m [repeated 3x across cluster]\u001b[0m\n"
     ]
    },
    {
     "name": "stderr",
     "output_type": "stream",
     "text": [
      " 60%|\u001b[34m██████    \u001b[0m| 6/10 [00:23<00:15,  3.83s/it]\u001b[32m [repeated 3x across cluster]\u001b[0m\n"
     ]
    },
    {
     "name": "stdout",
     "output_type": "stream",
     "text": [
      "\u001b[36m(launch_and_fit pid=11281)\u001b[0m \tTrain Epoch: 7 \tTrain_loss_mri: 0.0362 | Train_acc_mri: 99.3750 | Train_loss_dna: 0.4929 | Train_acc_dna: 84.3981 | Validation_loss_mri: 1.6899 | Validation_acc_mri: 78.6458 | Validation_loss_dna: 2.4865 | Validation_acc_dna: 45.8333\u001b[32m [repeated 3x across cluster]\u001b[0m\n"
     ]
    },
    {
     "name": "stderr",
     "output_type": "stream",
     "text": [
      " 70%|\u001b[34m███████   \u001b[0m| 7/10 [00:27<00:11,  3.85s/it]\u001b[32m [repeated 3x across cluster]\u001b[0m\n"
     ]
    },
    {
     "name": "stdout",
     "output_type": "stream",
     "text": [
      "\u001b[36m(launch_and_fit pid=11306)\u001b[0m \tTrain Epoch: 8 \tTrain_loss_mri: 0.0176 | Train_acc_mri: 99.6875 | Train_loss_dna: 0.3715 | Train_acc_dna: 87.8125 | Validation_loss_mri: 0.5303 | Validation_acc_mri: 85.9375 | Validation_loss_dna: 4.1960 | Validation_acc_dna: 27.6042\u001b[32m [repeated 3x across cluster]\u001b[0m\n"
     ]
    },
    {
     "name": "stderr",
     "output_type": "stream",
     "text": [
      " 90%|\u001b[34m█████████ \u001b[0m| 9/10 [00:34<00:03,  3.80s/it]\u001b[32m [repeated 3x across cluster]\u001b[0m\n"
     ]
    },
    {
     "name": "stdout",
     "output_type": "stream",
     "text": [
      "\u001b[36m(launch_and_fit pid=11281)\u001b[0m save graph in  results/FL/\n",
      "\u001b[36m(launch_and_fit pid=11281)\u001b[0m \tTrain Epoch: 10 \tTrain_loss_mri: 0.0382 | Train_acc_mri: 98.6921 | Train_loss_dna: 0.3968 | Train_acc_dna: 86.2153 | Validation_loss_mri: 1.6531 | Validation_acc_mri: 75.5208 | Validation_loss_dna: 3.1095 | Validation_acc_dna: 27.6042\u001b[32m [repeated 3x across cluster]\u001b[0m\n",
      "\u001b[36m(launch_and_fit pid=11281)\u001b[0m mri_net.features.0.weight 6.198883056640625e-06\n",
      "\u001b[36m(launch_and_fit pid=11281)\u001b[0m mri_net.features.0.bias 2.6226043701171875e-06\n",
      "\u001b[36m(launch_and_fit pid=11281)\u001b[0m mri_net.features.3.weight 1.6689300537109375e-06\n",
      "\u001b[36m(launch_and_fit pid=11281)\u001b[0m mri_net.features.3.bias 1.430511474609375e-06\n",
      "\u001b[36m(launch_and_fit pid=11281)\u001b[0m mri_net.classifier.0.weight 1.6689300537109375e-06\n",
      "\u001b[36m(launch_and_fit pid=11281)\u001b[0m mri_net.classifier.0.bias 1.6689300537109375e-06\n",
      "\u001b[36m(launch_and_fit pid=11281)\u001b[0m mri_net.classifier.2.weight 1.6689300537109375e-06\n",
      "\u001b[36m(launch_and_fit pid=11281)\u001b[0m mri_net.classifier.2.bias 1.6689300537109375e-06\n",
      "\u001b[36m(launch_and_fit pid=11281)\u001b[0m mri_net.classifier.3.weights 1.430511474609375e-06\n",
      "\u001b[36m(launch_and_fit pid=11281)\u001b[0m dna_net.fc1.weight 1.6689300537109375e-06\n",
      "\u001b[36m(launch_and_fit pid=11281)\u001b[0m dna_net.fc1.bias 1.1920928955078125e-06\n",
      "\u001b[36m(launch_and_fit pid=11281)\u001b[0m dna_net.fc2.weight 1.9073486328125e-06\n",
      "\u001b[36m(launch_and_fit pid=11281)\u001b[0m dna_net.fc2.bias 1.430511474609375e-06\n",
      "\u001b[36m(launch_and_fit pid=11281)\u001b[0m dna_net.fc3.weight 1.1920928955078125e-06\n",
      "\u001b[36m(launch_and_fit pid=11281)\u001b[0m dna_net.fc3.bias 1.430511474609375e-06\n",
      "\u001b[36m(launch_and_fit pid=11281)\u001b[0m dna_net.fc4.weight 1.1920928955078125e-06\n",
      "\u001b[36m(launch_and_fit pid=11281)\u001b[0m dna_net.fc4.bias 1.430511474609375e-06\n",
      "\u001b[36m(launch_and_fit pid=11281)\u001b[0m dna_net.qnn.weights 1.430511474609375e-06\n",
      "\u001b[36m(launch_and_fit pid=11281)\u001b[0m attention.in_proj_weight 1.430511474609375e-06\n",
      "\u001b[36m(launch_and_fit pid=11281)\u001b[0m attention.in_proj_bias 1.1920928955078125e-06\n",
      "\u001b[36m(launch_and_fit pid=11281)\u001b[0m attention.out_proj.weight 1.1920928955078125e-06\n",
      "\u001b[36m(launch_and_fit pid=11281)\u001b[0m attention.out_proj.bias 1.430511474609375e-06\n",
      "\u001b[36m(launch_and_fit pid=11281)\u001b[0m fc1.weight 1.6689300537109375e-06\n",
      "\u001b[36m(launch_and_fit pid=11281)\u001b[0m fc1.bias 1.430511474609375e-06\n",
      "\u001b[36m(launch_and_fit pid=11281)\u001b[0m fc2_mri.weight 2.1457672119140625e-06\n",
      "\u001b[36m(launch_and_fit pid=11281)\u001b[0m fc2_mri.bias 1.430511474609375e-06\n",
      "\u001b[36m(launch_and_fit pid=11281)\u001b[0m fc2_dna.weight 1.430511474609375e-06\n",
      "\u001b[36m(launch_and_fit pid=11281)\u001b[0m fc2_dna.bias 1.430511474609375e-06\n"
     ]
    },
    {
     "name": "stderr",
     "output_type": "stream",
     "text": [
      "100%|\u001b[34m██████████\u001b[0m| 10/10 [00:39<00:00,  3.94s/it]\u001b[32m [repeated 3x across cluster]\u001b[0m\n"
     ]
    },
    {
     "name": "stdout",
     "output_type": "stream",
     "text": [
      "\u001b[36m(launch_and_fit pid=11363)\u001b[0m Run with homomorphic encryption\n",
      "\u001b[36m(launch_and_fit pid=11306)\u001b[0m save graph in  results/FL/\n",
      "\u001b[36m(launch_and_fit pid=11306)\u001b[0m \tTrain Epoch: 10 \tTrain_loss_mri: 0.0183 | Train_acc_mri: 99.3750 | Train_loss_dna: 0.2982 | Train_acc_dna: 92.3843 | Validation_loss_mri: 0.6591 | Validation_acc_mri: 87.5000 | Validation_loss_dna: 4.8015 | Validation_acc_dna: 29.1667\n",
      "\u001b[36m(launch_and_fit pid=11306)\u001b[0m fc2_dna.bias 9.5367431640625e-07\u001b[32m [repeated 23x across cluster]\u001b[0m\n",
      "\u001b[36m(launch_and_fit pid=11306)\u001b[0m dna_net.qnn.weights 9.5367431640625e-07\n",
      "\u001b[36m(launch_and_fit pid=11306)\u001b[0m attention.in_proj_weight 9.5367431640625e-07\n",
      "\u001b[36m(launch_and_fit pid=11306)\u001b[0m attention.in_proj_bias 7.152557373046875e-07\n",
      "\u001b[36m(launch_and_fit pid=11306)\u001b[0m attention.out_proj.weight 9.5367431640625e-07\n",
      "\u001b[36m(launch_and_fit pid=11306)\u001b[0m attention.out_proj.bias 9.5367431640625e-07\n",
      "\u001b[36m(launch_and_fit pid=11363)\u001b[0m [Client 9, round 14] fit, config: {'learning_rate': 0.003, 'batch_size': '32', 'server_round': 14, 'local_epochs': 10}\n"
     ]
    },
    {
     "name": "stderr",
     "output_type": "stream",
     "text": [
      "  0%|\u001b[34m          \u001b[0m| 0/10 [00:00<?, ?it/s]\n"
     ]
    },
    {
     "name": "stdout",
     "output_type": "stream",
     "text": [
      "\u001b[36m(launch_and_fit pid=11363)\u001b[0m Updated model\n"
     ]
    },
    {
     "name": "stderr",
     "output_type": "stream",
     "text": [
      " 10%|\u001b[34m█         \u001b[0m| 1/10 [00:04<00:38,  4.22s/it]\n"
     ]
    },
    {
     "name": "stdout",
     "output_type": "stream",
     "text": [
      "\u001b[36m(launch_and_fit pid=11363)\u001b[0m \tTrain Epoch: 1 \tTrain_loss_mri: 0.1122 | Train_acc_mri: 96.2298 | Train_loss_dna: 1.5388 | Train_acc_dna: 50.2218 | Validation_loss_mri: 0.1816 | Validation_acc_mri: 96.8750 | Validation_loss_dna: 4.0970 | Validation_acc_dna: 9.3750\n",
      "\u001b[36m(launch_and_fit pid=11388)\u001b[0m Run with homomorphic encryption\n",
      "\u001b[36m(launch_and_fit pid=11388)\u001b[0m [Client 8, round 14] fit, config: {'learning_rate': 0.003, 'batch_size': '32', 'server_round': 14, 'local_epochs': 10}\n",
      "\u001b[36m(launch_and_fit pid=11388)\u001b[0m Updated model\n"
     ]
    },
    {
     "name": "stderr",
     "output_type": "stream",
     "text": [
      "  0%|\u001b[34m          \u001b[0m| 0/10 [00:00<?, ?it/s]\n"
     ]
    },
    {
     "name": "stdout",
     "output_type": "stream",
     "text": [
      "\u001b[36m(launch_and_fit pid=11388)\u001b[0m \tTrain Epoch: 2 \tTrain_loss_mri: 0.1453 | Train_acc_mri: 94.5718 | Train_loss_dna: 1.3272 | Train_acc_dna: 57.2338 | Validation_loss_mri: 1.2003 | Validation_acc_mri: 69.2708 | Validation_loss_dna: 2.7196 | Validation_acc_dna: 39.5833\u001b[32m [repeated 3x across cluster]\u001b[0m\n"
     ]
    },
    {
     "name": "stderr",
     "output_type": "stream",
     "text": [
      " 20%|\u001b[34m██        \u001b[0m| 2/10 [00:07<00:31,  3.94s/it]\u001b[32m [repeated 3x across cluster]\u001b[0m\n",
      " 40%|\u001b[34m████      \u001b[0m| 4/10 [00:15<00:23,  3.84s/it]\u001b[32m [repeated 3x across cluster]\u001b[0m\n"
     ]
    },
    {
     "name": "stdout",
     "output_type": "stream",
     "text": [
      "\u001b[36m(launch_and_fit pid=11363)\u001b[0m \tTrain Epoch: 4 \tTrain_loss_mri: 0.0455 | Train_acc_mri: 98.7399 | Train_loss_dna: 0.6206 | Train_acc_dna: 77.1472 | Validation_loss_mri: 0.2739 | Validation_acc_mri: 92.1875 | Validation_loss_dna: 2.7919 | Validation_acc_dna: 45.8333\u001b[32m [repeated 3x across cluster]\u001b[0m\n",
      "\u001b[36m(launch_and_fit pid=11388)\u001b[0m \tTrain Epoch: 5 \tTrain_loss_mri: 0.0668 | Train_acc_mri: 98.0671 | Train_loss_dna: 0.5908 | Train_acc_dna: 78.8889 | Validation_loss_mri: 1.4708 | Validation_acc_mri: 73.9583 | Validation_loss_dna: 2.5161 | Validation_acc_dna: 47.3958\u001b[32m [repeated 3x across cluster]\u001b[0m\n"
     ]
    },
    {
     "name": "stderr",
     "output_type": "stream",
     "text": [
      " 50%|\u001b[34m█████     \u001b[0m| 5/10 [00:19<00:19,  3.90s/it]\u001b[32m [repeated 3x across cluster]\u001b[0m\n",
      " 70%|\u001b[34m███████   \u001b[0m| 7/10 [00:27<00:11,  3.79s/it]\u001b[32m [repeated 3x across cluster]\u001b[0m\n"
     ]
    },
    {
     "name": "stdout",
     "output_type": "stream",
     "text": [
      "\u001b[36m(launch_and_fit pid=11363)\u001b[0m \tTrain Epoch: 7 \tTrain_loss_mri: 0.0508 | Train_acc_mri: 99.0625 | Train_loss_dna: 0.4298 | Train_acc_dna: 84.3246 | Validation_loss_mri: 0.5794 | Validation_acc_mri: 90.6250 | Validation_loss_dna: 3.6495 | Validation_acc_dna: 27.6042\u001b[32m [repeated 3x across cluster]\u001b[0m\n",
      "\u001b[36m(launch_and_fit pid=11388)\u001b[0m \tTrain Epoch: 8 \tTrain_loss_mri: 0.0389 | Train_acc_mri: 98.6921 | Train_loss_dna: 0.3647 | Train_acc_dna: 87.8935 | Validation_loss_mri: 0.7890 | Validation_acc_mri: 89.0625 | Validation_loss_dna: 2.7076 | Validation_acc_dna: 59.3750\u001b[32m [repeated 3x across cluster]\u001b[0m\n"
     ]
    },
    {
     "name": "stderr",
     "output_type": "stream",
     "text": [
      " 80%|\u001b[34m████████  \u001b[0m| 8/10 [00:31<00:07,  3.83s/it]\u001b[32m [repeated 3x across cluster]\u001b[0m\n",
      "100%|\u001b[34m██████████\u001b[0m| 10/10 [00:38<00:00,  3.84s/it]\u001b[32m [repeated 3x across cluster]\u001b[0m\n"
     ]
    },
    {
     "name": "stdout",
     "output_type": "stream",
     "text": [
      "\u001b[36m(launch_and_fit pid=11363)\u001b[0m save graph in  results/FL/\n",
      "\u001b[36m(launch_and_fit pid=11363)\u001b[0m \tTrain Epoch: 10 \tTrain_loss_mri: 0.0383 | Train_acc_mri: 98.7399 | Train_loss_dna: 0.4672 | Train_acc_dna: 82.1573 | Validation_loss_mri: 0.3004 | Validation_acc_mri: 90.6250 | Validation_loss_dna: 4.8467 | Validation_acc_dna: 26.0417\u001b[32m [repeated 3x across cluster]\u001b[0m\n",
      "\u001b[36m(launch_and_fit pid=11363)\u001b[0m mri_net.features.0.weight 4.5299530029296875e-06\n",
      "\u001b[36m(launch_and_fit pid=11363)\u001b[0m mri_net.features.0.bias 1.1920928955078125e-06\n",
      "\u001b[36m(launch_and_fit pid=11363)\u001b[0m mri_net.features.3.weight 9.5367431640625e-07\n",
      "\u001b[36m(launch_and_fit pid=11363)\u001b[0m mri_net.features.3.bias 9.5367431640625e-07\n",
      "\u001b[36m(launch_and_fit pid=11363)\u001b[0m mri_net.classifier.0.weight 1.1920928955078125e-06\n",
      "\u001b[36m(launch_and_fit pid=11363)\u001b[0m mri_net.classifier.0.bias 9.5367431640625e-07\n",
      "\u001b[36m(launch_and_fit pid=11363)\u001b[0m mri_net.classifier.2.weight 7.152557373046875e-07\n",
      "\u001b[36m(launch_and_fit pid=11363)\u001b[0m mri_net.classifier.2.bias 9.5367431640625e-07\n",
      "\u001b[36m(launch_and_fit pid=11363)\u001b[0m mri_net.classifier.3.weights 1.1920928955078125e-06\n",
      "\u001b[36m(launch_and_fit pid=11363)\u001b[0m dna_net.fc1.weight 1.1920928955078125e-06\n",
      "\u001b[36m(launch_and_fit pid=11363)\u001b[0m dna_net.fc1.bias 9.5367431640625e-07\n",
      "\u001b[36m(launch_and_fit pid=11363)\u001b[0m dna_net.fc2.weight 9.5367431640625e-07\n",
      "\u001b[36m(launch_and_fit pid=11363)\u001b[0m dna_net.fc2.bias 9.5367431640625e-07\n",
      "\u001b[36m(launch_and_fit pid=11363)\u001b[0m dna_net.fc3.weight 9.5367431640625e-07\n",
      "\u001b[36m(launch_and_fit pid=11363)\u001b[0m dna_net.fc3.bias 9.5367431640625e-07\n",
      "\u001b[36m(launch_and_fit pid=11363)\u001b[0m dna_net.fc4.weight 1.1920928955078125e-06\n",
      "\u001b[36m(launch_and_fit pid=11363)\u001b[0m dna_net.fc4.bias 9.5367431640625e-07\n",
      "\u001b[36m(launch_and_fit pid=11363)\u001b[0m dna_net.qnn.weights 9.5367431640625e-07\n",
      "\u001b[36m(launch_and_fit pid=11363)\u001b[0m attention.in_proj_weight 9.5367431640625e-07\n",
      "\u001b[36m(launch_and_fit pid=11363)\u001b[0m attention.in_proj_bias 1.1920928955078125e-06\n",
      "\u001b[36m(launch_and_fit pid=11363)\u001b[0m attention.out_proj.weight 9.5367431640625e-07\n",
      "\u001b[36m(launch_and_fit pid=11363)\u001b[0m attention.out_proj.bias 1.1920928955078125e-06\n",
      "\u001b[36m(launch_and_fit pid=11363)\u001b[0m fc1.weight 1.430511474609375e-06\n",
      "\u001b[36m(launch_and_fit pid=11363)\u001b[0m fc1.bias 9.5367431640625e-07\n",
      "\u001b[36m(launch_and_fit pid=11363)\u001b[0m fc2_mri.weight 1.430511474609375e-06\n",
      "\u001b[36m(launch_and_fit pid=11363)\u001b[0m fc2_mri.bias 9.5367431640625e-07\n",
      "\u001b[36m(launch_and_fit pid=11363)\u001b[0m fc2_dna.weight 9.5367431640625e-07\n",
      "\u001b[36m(launch_and_fit pid=11363)\u001b[0m fc2_dna.bias 9.5367431640625e-07\n",
      "\u001b[36m(launch_and_fit pid=11445)\u001b[0m Run with homomorphic encryption\n",
      "\u001b[36m(launch_and_fit pid=11388)\u001b[0m save graph in  results/FL/\n",
      "\u001b[36m(launch_and_fit pid=11388)\u001b[0m \tTrain Epoch: 10 \tTrain_loss_mri: 0.0360 | Train_acc_mri: 99.3171 | Train_loss_dna: 0.3164 | Train_acc_dna: 90.8218 | Validation_loss_mri: 1.4389 | Validation_acc_mri: 72.3958 | Validation_loss_dna: 2.7960 | Validation_acc_dna: 60.9375\n",
      "\u001b[36m(launch_and_fit pid=11388)\u001b[0m fc2_dna.bias 9.5367431640625e-07\u001b[32m [repeated 23x across cluster]\u001b[0m\n",
      "\u001b[36m(launch_and_fit pid=11388)\u001b[0m dna_net.qnn.weights 1.1920928955078125e-06\n",
      "\u001b[36m(launch_and_fit pid=11388)\u001b[0m attention.in_proj_weight 9.5367431640625e-07\n",
      "\u001b[36m(launch_and_fit pid=11388)\u001b[0m attention.in_proj_bias 9.5367431640625e-07\n",
      "\u001b[36m(launch_and_fit pid=11388)\u001b[0m attention.out_proj.weight 1.1920928955078125e-06\n",
      "\u001b[36m(launch_and_fit pid=11388)\u001b[0m attention.out_proj.bias 9.5367431640625e-07\n",
      "\u001b[36m(launch_and_fit pid=11445)\u001b[0m [Client 0, round 14] fit, config: {'learning_rate': 0.003, 'batch_size': '32', 'server_round': 14, 'local_epochs': 10}\n",
      "\u001b[36m(launch_and_fit pid=11445)\u001b[0m Updated model\n"
     ]
    },
    {
     "name": "stderr",
     "output_type": "stream",
     "text": [
      "  0%|\u001b[34m          \u001b[0m| 0/10 [00:00<?, ?it/s]\n",
      "100%|\u001b[34m██████████\u001b[0m| 10/10 [00:38<00:00,  3.86s/it]\n"
     ]
    },
    {
     "name": "stdout",
     "output_type": "stream",
     "text": [
      "\u001b[36m(launch_and_fit pid=11445)\u001b[0m \tTrain Epoch: 1 \tTrain_loss_mri: 0.1662 | Train_acc_mri: 95.6250 | Train_loss_dna: 1.9842 | Train_acc_dna: 43.1944 | Validation_loss_mri: 0.6236 | Validation_acc_mri: 69.2708 | Validation_loss_dna: 3.9986 | Validation_acc_dna: 21.8750\n",
      "\u001b[36m(launch_and_fit pid=11470)\u001b[0m Run with homomorphic encryption\n",
      "\u001b[36m(launch_and_fit pid=11470)\u001b[0m [Client 6, round 14] fit, config: {'learning_rate': 0.003, 'batch_size': '32', 'server_round': 14, 'local_epochs': 10}\n"
     ]
    },
    {
     "name": "stderr",
     "output_type": "stream",
     "text": [
      " 10%|\u001b[34m█         \u001b[0m| 1/10 [00:04<00:39,  4.35s/it]\n",
      "  0%|\u001b[34m          \u001b[0m| 0/10 [00:00<?, ?it/s]\n"
     ]
    },
    {
     "name": "stdout",
     "output_type": "stream",
     "text": [
      "\u001b[36m(launch_and_fit pid=11470)\u001b[0m Updated model\n"
     ]
    },
    {
     "name": "stderr",
     "output_type": "stream",
     "text": [
      " 20%|\u001b[34m██        \u001b[0m| 2/10 [00:08<00:31,  3.97s/it]\u001b[32m [repeated 3x across cluster]\u001b[0m\n"
     ]
    },
    {
     "name": "stdout",
     "output_type": "stream",
     "text": [
      "\u001b[36m(launch_and_fit pid=11470)\u001b[0m \tTrain Epoch: 2 \tTrain_loss_mri: 0.1096 | Train_acc_mri: 95.9375 | Train_loss_dna: 1.2833 | Train_acc_dna: 60.5556 | Validation_loss_mri: 1.5534 | Validation_acc_mri: 64.5833 | Validation_loss_dna: 4.4202 | Validation_acc_dna: 10.9375\u001b[32m [repeated 3x across cluster]\u001b[0m\n",
      "\u001b[36m(launch_and_fit pid=11445)\u001b[0m \tTrain Epoch: 4 \tTrain_loss_mri: 0.1467 | Train_acc_mri: 94.9421 | Train_loss_dna: 0.7768 | Train_acc_dna: 69.3634 | Validation_loss_mri: 1.4979 | Validation_acc_mri: 52.6042 | Validation_loss_dna: 3.8191 | Validation_acc_dna: 18.7500\u001b[32m [repeated 3x across cluster]\u001b[0m\n"
     ]
    },
    {
     "name": "stderr",
     "output_type": "stream",
     "text": [
      " 40%|\u001b[34m████      \u001b[0m| 4/10 [00:15<00:23,  3.85s/it]\u001b[32m [repeated 3x across cluster]\u001b[0m\n",
      " 50%|\u001b[34m█████     \u001b[0m| 5/10 [00:19<00:18,  3.74s/it]\u001b[32m [repeated 3x across cluster]\u001b[0m\n"
     ]
    },
    {
     "name": "stdout",
     "output_type": "stream",
     "text": [
      "\u001b[36m(launch_and_fit pid=11470)\u001b[0m \tTrain Epoch: 5 \tTrain_loss_mri: 0.0334 | Train_acc_mri: 99.3750 | Train_loss_dna: 0.5221 | Train_acc_dna: 81.1574 | Validation_loss_mri: 1.9709 | Validation_acc_mri: 69.2708 | Validation_loss_dna: 4.2763 | Validation_acc_dna: 26.0417\u001b[32m [repeated 3x across cluster]\u001b[0m\n",
      "\u001b[36m(launch_and_fit pid=11445)\u001b[0m \tTrain Epoch: 7 \tTrain_loss_mri: 0.0528 | Train_acc_mri: 97.8125 | Train_loss_dna: 0.5589 | Train_acc_dna: 81.6667 | Validation_loss_mri: 1.0031 | Validation_acc_mri: 70.8333 | Validation_loss_dna: 4.2015 | Validation_acc_dna: 12.5000\u001b[32m [repeated 3x across cluster]\u001b[0m\n"
     ]
    },
    {
     "name": "stderr",
     "output_type": "stream",
     "text": [
      " 70%|\u001b[34m███████   \u001b[0m| 7/10 [00:27<00:11,  3.84s/it]\u001b[32m [repeated 3x across cluster]\u001b[0m\n",
      " 80%|\u001b[34m████████  \u001b[0m| 8/10 [00:30<00:07,  3.85s/it]\u001b[32m [repeated 3x across cluster]\u001b[0m\n"
     ]
    },
    {
     "name": "stdout",
     "output_type": "stream",
     "text": [
      "\u001b[36m(launch_and_fit pid=11470)\u001b[0m \tTrain Epoch: 8 \tTrain_loss_mri: 0.0181 | Train_acc_mri: 100.0000 | Train_loss_dna: 0.3743 | Train_acc_dna: 89.7685 | Validation_loss_mri: 2.2630 | Validation_acc_mri: 69.2708 | Validation_loss_dna: 5.1062 | Validation_acc_dna: 9.3750\u001b[32m [repeated 3x across cluster]\u001b[0m\n",
      "\u001b[36m(launch_and_fit pid=11445)\u001b[0m save graph in  results/FL/\n",
      "\u001b[36m(launch_and_fit pid=11445)\u001b[0m \tTrain Epoch: 10 \tTrain_loss_mri: 0.0387 | Train_acc_mri: 99.3171 | Train_loss_dna: 0.4411 | Train_acc_dna: 87.5810 | Validation_loss_mri: 2.7349 | Validation_acc_mri: 52.6042 | Validation_loss_dna: 4.9859 | Validation_acc_dna: 7.8125\u001b[32m [repeated 3x across cluster]\u001b[0m\n"
     ]
    },
    {
     "name": "stderr",
     "output_type": "stream",
     "text": [
      "100%|\u001b[34m██████████\u001b[0m| 10/10 [00:38<00:00,  3.85s/it]\u001b[32m [repeated 3x across cluster]\u001b[0m\n"
     ]
    },
    {
     "name": "stdout",
     "output_type": "stream",
     "text": [
      "\u001b[36m(launch_and_fit pid=11445)\u001b[0m mri_net.features.0.weight 4.5299530029296875e-06\n",
      "\u001b[36m(launch_and_fit pid=11445)\u001b[0m mri_net.features.0.bias 1.1920928955078125e-06\n",
      "\u001b[36m(launch_and_fit pid=11445)\u001b[0m mri_net.features.3.weight 1.1920928955078125e-06\n",
      "\u001b[36m(launch_and_fit pid=11445)\u001b[0m mri_net.features.3.bias 1.1920928955078125e-06\n",
      "\u001b[36m(launch_and_fit pid=11445)\u001b[0m mri_net.classifier.0.weight 1.430511474609375e-06\n",
      "\u001b[36m(launch_and_fit pid=11445)\u001b[0m mri_net.classifier.0.bias 1.1920928955078125e-06\n",
      "\u001b[36m(launch_and_fit pid=11445)\u001b[0m mri_net.classifier.2.weight 1.1920928955078125e-06\n",
      "\u001b[36m(launch_and_fit pid=11445)\u001b[0m mri_net.classifier.2.bias 1.430511474609375e-06\n",
      "\u001b[36m(launch_and_fit pid=11445)\u001b[0m mri_net.classifier.3.weights 9.5367431640625e-07\n",
      "\u001b[36m(launch_and_fit pid=11445)\u001b[0m dna_net.fc1.weight 9.5367431640625e-07\n",
      "\u001b[36m(launch_and_fit pid=11445)\u001b[0m dna_net.fc1.bias 9.5367431640625e-07\n",
      "\u001b[36m(launch_and_fit pid=11445)\u001b[0m dna_net.fc2.weight 1.1920928955078125e-06\n",
      "\u001b[36m(launch_and_fit pid=11445)\u001b[0m dna_net.fc2.bias 1.1920928955078125e-06\n",
      "\u001b[36m(launch_and_fit pid=11445)\u001b[0m dna_net.fc3.weight 9.5367431640625e-07\n",
      "\u001b[36m(launch_and_fit pid=11445)\u001b[0m dna_net.fc3.bias 1.1920928955078125e-06\n",
      "\u001b[36m(launch_and_fit pid=11445)\u001b[0m dna_net.fc4.weight 1.1920928955078125e-06\n",
      "\u001b[36m(launch_and_fit pid=11445)\u001b[0m dna_net.fc4.bias 9.5367431640625e-07\n",
      "\u001b[36m(launch_and_fit pid=11445)\u001b[0m dna_net.qnn.weights 9.5367431640625e-07\n",
      "\u001b[36m(launch_and_fit pid=11445)\u001b[0m attention.in_proj_weight 1.430511474609375e-06\n",
      "\u001b[36m(launch_and_fit pid=11445)\u001b[0m attention.in_proj_bias 1.1920928955078125e-06\n",
      "\u001b[36m(launch_and_fit pid=11445)\u001b[0m attention.out_proj.weight 1.1920928955078125e-06\n",
      "\u001b[36m(launch_and_fit pid=11445)\u001b[0m attention.out_proj.bias 1.1920928955078125e-06\n",
      "\u001b[36m(launch_and_fit pid=11445)\u001b[0m fc1.weight 1.1920928955078125e-06\n",
      "\u001b[36m(launch_and_fit pid=11445)\u001b[0m fc1.bias 1.430511474609375e-06\n",
      "\u001b[36m(launch_and_fit pid=11445)\u001b[0m fc2_mri.weight 1.1920928955078125e-06\n",
      "\u001b[36m(launch_and_fit pid=11445)\u001b[0m fc2_mri.bias 9.5367431640625e-07\n",
      "\u001b[36m(launch_and_fit pid=11445)\u001b[0m fc2_dna.weight 9.5367431640625e-07\n",
      "\u001b[36m(launch_and_fit pid=11445)\u001b[0m fc2_dna.bias 1.1920928955078125e-06\n"
     ]
    },
    {
     "name": "stderr",
     "output_type": "stream",
     "text": [
      "DEBUG flwr 2024-08-05 08:27:34,188 | server.py:236 | fit_round 14 received 10 results and 0 failures\n"
     ]
    },
    {
     "name": "stdout",
     "output_type": "stream",
     "text": [
      "Saving round 14 aggregated_parameters...\n"
     ]
    },
    {
     "name": "stderr",
     "output_type": "stream",
     "text": [
      "DEBUG flwr 2024-08-05 08:27:36,152 | server.py:173 | evaluate_round 14: strategy sampled 10 clients (out of 10)\n"
     ]
    },
    {
     "name": "stdout",
     "output_type": "stream",
     "text": [
      "\u001b[36m(launch_and_evaluate pid=11536)\u001b[0m Run with homomorphic encryption\n",
      "\u001b[36m(launch_and_fit pid=11470)\u001b[0m save graph in  results/FL/\n",
      "\u001b[36m(launch_and_fit pid=11470)\u001b[0m \tTrain Epoch: 10 \tTrain_loss_mri: 0.0407 | Train_acc_mri: 99.6875 | Train_loss_dna: 0.3358 | Train_acc_dna: 89.2593 | Validation_loss_mri: 1.9410 | Validation_acc_mri: 69.2708 | Validation_loss_dna: 5.9857 | Validation_acc_dna: 7.8125\n",
      "\u001b[36m(launch_and_fit pid=11470)\u001b[0m fc2_dna.bias 1.1920928955078125e-06\u001b[32m [repeated 23x across cluster]\u001b[0m\n",
      "\u001b[36m(launch_and_fit pid=11470)\u001b[0m dna_net.qnn.weights 1.1920928955078125e-06\n",
      "\u001b[36m(launch_and_fit pid=11470)\u001b[0m attention.in_proj_weight 9.5367431640625e-07\n",
      "\u001b[36m(launch_and_fit pid=11470)\u001b[0m attention.in_proj_bias 9.5367431640625e-07\n",
      "\u001b[36m(launch_and_fit pid=11470)\u001b[0m attention.out_proj.weight 1.2636184692382812e-05\n",
      "\u001b[36m(launch_and_fit pid=11470)\u001b[0m attention.out_proj.bias 1.1920928955078125e-06\n",
      "\u001b[36m(launch_and_evaluate pid=11536)\u001b[0m [Client 9] evaluate, config: {}\n",
      "\u001b[36m(launch_and_evaluate pid=11536)\u001b[0m Updated model\n"
     ]
    },
    {
     "name": "stderr",
     "output_type": "stream",
     "text": [
      "\u001b[36m(launch_and_evaluate pid=11536)\u001b[0m /opt/conda/lib/python3.10/site-packages/sklearn/metrics/_ranking.py:1029: UndefinedMetricWarning: No positive samples in y_true, true positive value should be meaningless\n",
      "\u001b[36m(launch_and_evaluate pid=11536)\u001b[0m   warnings.warn(\n",
      "100%|\u001b[34m██████████\u001b[0m| 10/10 [00:38<00:00,  3.83s/it]\n"
     ]
    },
    {
     "name": "stdout",
     "output_type": "stream",
     "text": [
      "\u001b[36m(launch_and_evaluate pid=11615)\u001b[0m Run with homomorphic encryption\u001b[32m [repeated 2x across cluster]\u001b[0m\n",
      "\u001b[36m(launch_and_evaluate pid=11537)\u001b[0m [Client 8] evaluate, config: {}\n",
      "\u001b[36m(launch_and_evaluate pid=11537)\u001b[0m Updated model\n",
      "\u001b[36m(launch_and_evaluate pid=11615)\u001b[0m [Client 2] evaluate, config: {}\n",
      "\u001b[36m(launch_and_evaluate pid=11615)\u001b[0m Updated model\n",
      "\u001b[36m(launch_and_evaluate pid=11695)\u001b[0m Run with homomorphic encryption\u001b[32m [repeated 2x across cluster]\u001b[0m\n",
      "\u001b[36m(launch_and_evaluate pid=11617)\u001b[0m [Client 6] evaluate, config: {}\n",
      "\u001b[36m(launch_and_evaluate pid=11617)\u001b[0m Updated model\n",
      "\u001b[36m(launch_and_evaluate pid=11693)\u001b[0m [Client 7] evaluate, config: {}\n",
      "\u001b[36m(launch_and_evaluate pid=11695)\u001b[0m Updated model\n",
      "\u001b[36m(launch_and_evaluate pid=11773)\u001b[0m Run with homomorphic encryption\u001b[32m [repeated 2x across cluster]\u001b[0m\n",
      "\u001b[36m(launch_and_evaluate pid=11695)\u001b[0m [Client 1] evaluate, config: {}\n",
      "\u001b[36m(launch_and_evaluate pid=11693)\u001b[0m Updated model\n",
      "\u001b[36m(launch_and_evaluate pid=11774)\u001b[0m [Client 4] evaluate, config: {}\n",
      "\u001b[36m(launch_and_evaluate pid=11773)\u001b[0m Updated model\n"
     ]
    },
    {
     "name": "stderr",
     "output_type": "stream",
     "text": [
      "\u001b[36m(launch_and_evaluate pid=11774)\u001b[0m /opt/conda/lib/python3.10/site-packages/sklearn/metrics/_ranking.py:1029: UndefinedMetricWarning: No positive samples in y_true, true positive value should be meaningless\u001b[32m [repeated 2x across cluster]\u001b[0m\n",
      "\u001b[36m(launch_and_evaluate pid=11774)\u001b[0m   warnings.warn(\u001b[32m [repeated 2x across cluster]\u001b[0m\n"
     ]
    },
    {
     "name": "stdout",
     "output_type": "stream",
     "text": [
      "\u001b[36m(launch_and_evaluate pid=11851)\u001b[0m Run with homomorphic encryption\u001b[32m [repeated 2x across cluster]\u001b[0m\n",
      "\u001b[36m(launch_and_evaluate pid=11773)\u001b[0m [Client 5] evaluate, config: {}\n",
      "\u001b[36m(launch_and_evaluate pid=11774)\u001b[0m Updated model\n",
      "\u001b[36m(launch_and_evaluate pid=11851)\u001b[0m [Client 3] evaluate, config: {}\n",
      "\u001b[36m(launch_and_evaluate pid=11851)\u001b[0m Updated model\n"
     ]
    },
    {
     "name": "stderr",
     "output_type": "stream",
     "text": [
      "DEBUG flwr 2024-08-05 08:28:54,695 | server.py:187 | evaluate_round 14 received 10 results and 0 failures\n",
      "DEBUG flwr 2024-08-05 08:28:54,696 | server.py:222 | fit_round 15: strategy sampled 10 clients (out of 10)\n"
     ]
    },
    {
     "name": "stdout",
     "output_type": "stream",
     "text": [
      "\u001b[36m(launch_and_fit pid=11938)\u001b[0m Run with homomorphic encryption\u001b[32m [repeated 2x across cluster]\u001b[0m\n",
      "\u001b[36m(launch_and_evaluate pid=11853)\u001b[0m [Client 0] evaluate, config: {}\n",
      "\u001b[36m(launch_and_evaluate pid=11853)\u001b[0m Updated model\n",
      "\u001b[36m(launch_and_fit pid=11938)\u001b[0m [Client 1, round 15] fit, config: {'learning_rate': 0.003, 'batch_size': '32', 'server_round': 15, 'local_epochs': 10}\n",
      "\u001b[36m(launch_and_fit pid=11938)\u001b[0m Updated model\n"
     ]
    },
    {
     "name": "stderr",
     "output_type": "stream",
     "text": [
      "  0%|\u001b[34m          \u001b[0m| 0/10 [00:00<?, ?it/s]\n"
     ]
    },
    {
     "name": "stdout",
     "output_type": "stream",
     "text": [
      "\u001b[36m(launch_and_fit pid=11938)\u001b[0m \tTrain Epoch: 1 \tTrain_loss_mri: 0.0762 | Train_acc_mri: 96.5046 | Train_loss_dna: 1.3518 | Train_acc_dna: 54.1088 | Validation_loss_mri: 0.6659 | Validation_acc_mri: 77.0833 | Validation_loss_dna: 5.6399 | Validation_acc_dna: 7.8125\n",
      "\u001b[36m(launch_and_fit pid=11939)\u001b[0m Run with homomorphic encryption\n",
      "\u001b[36m(launch_and_fit pid=11939)\u001b[0m [Client 8, round 15] fit, config: {'learning_rate': 0.003, 'batch_size': '32', 'server_round': 15, 'local_epochs': 10}\n"
     ]
    },
    {
     "name": "stderr",
     "output_type": "stream",
     "text": [
      " 10%|\u001b[34m█         \u001b[0m| 1/10 [00:04<00:38,  4.25s/it]\n"
     ]
    },
    {
     "name": "stdout",
     "output_type": "stream",
     "text": [
      "\u001b[36m(launch_and_fit pid=11939)\u001b[0m Updated model\n"
     ]
    },
    {
     "name": "stderr",
     "output_type": "stream",
     "text": [
      "  0%|\u001b[34m          \u001b[0m| 0/10 [00:00<?, ?it/s]\n"
     ]
    },
    {
     "name": "stdout",
     "output_type": "stream",
     "text": [
      "\u001b[36m(launch_and_fit pid=11938)\u001b[0m \tTrain Epoch: 3 \tTrain_loss_mri: 0.1083 | Train_acc_mri: 96.5046 | Train_loss_dna: 0.8605 | Train_acc_dna: 66.1574 | Validation_loss_mri: 0.6113 | Validation_acc_mri: 92.1875 | Validation_loss_dna: 4.7108 | Validation_acc_dna: 15.6250\u001b[32m [repeated 4x across cluster]\u001b[0m\n"
     ]
    },
    {
     "name": "stderr",
     "output_type": "stream",
     "text": [
      " 30%|\u001b[34m███       \u001b[0m| 3/10 [00:11<00:26,  3.83s/it]\u001b[32m [repeated 4x across cluster]\u001b[0m\n"
     ]
    },
    {
     "name": "stdout",
     "output_type": "stream",
     "text": [
      "\u001b[36m(launch_and_fit pid=11938)\u001b[0m \tTrain Epoch: 5 \tTrain_loss_mri: 0.0470 | Train_acc_mri: 99.0625 | Train_loss_dna: 0.4963 | Train_acc_dna: 83.5764 | Validation_loss_mri: 0.4594 | Validation_acc_mri: 95.3125 | Validation_loss_dna: 4.9709 | Validation_acc_dna: 14.0625\u001b[32m [repeated 4x across cluster]\u001b[0m\n"
     ]
    },
    {
     "name": "stderr",
     "output_type": "stream",
     "text": [
      " 50%|\u001b[34m█████     \u001b[0m| 5/10 [00:19<00:19,  3.90s/it]\u001b[32m [repeated 4x across cluster]\u001b[0m\n"
     ]
    },
    {
     "name": "stdout",
     "output_type": "stream",
     "text": [
      "\u001b[36m(launch_and_fit pid=11938)\u001b[0m \tTrain Epoch: 7 \tTrain_loss_mri: 0.0448 | Train_acc_mri: 99.0625 | Train_loss_dna: 0.4167 | Train_acc_dna: 86.6435 | Validation_loss_mri: 0.9713 | Validation_acc_mri: 61.9792 | Validation_loss_dna: 5.4459 | Validation_acc_dna: 12.5000\u001b[32m [repeated 4x across cluster]\u001b[0m\n"
     ]
    },
    {
     "name": "stderr",
     "output_type": "stream",
     "text": [
      " 70%|\u001b[34m███████   \u001b[0m| 7/10 [00:26<00:11,  3.78s/it]\u001b[32m [repeated 4x across cluster]\u001b[0m\n"
     ]
    },
    {
     "name": "stdout",
     "output_type": "stream",
     "text": [
      "\u001b[36m(launch_and_fit pid=11938)\u001b[0m \tTrain Epoch: 9 \tTrain_loss_mri: 0.0211 | Train_acc_mri: 99.3171 | Train_loss_dna: 0.3222 | Train_acc_dna: 92.0139 | Validation_loss_mri: 0.7807 | Validation_acc_mri: 78.6458 | Validation_loss_dna: 6.4772 | Validation_acc_dna: 10.9375\u001b[32m [repeated 4x across cluster]\u001b[0m\n"
     ]
    },
    {
     "name": "stderr",
     "output_type": "stream",
     "text": [
      " 90%|\u001b[34m█████████ \u001b[0m| 9/10 [00:34<00:03,  3.75s/it]\u001b[32m [repeated 4x across cluster]\u001b[0m\n"
     ]
    },
    {
     "name": "stdout",
     "output_type": "stream",
     "text": [
      "\u001b[36m(launch_and_fit pid=11938)\u001b[0m save graph in  results/FL/\n",
      "\u001b[36m(launch_and_fit pid=11938)\u001b[0m mri_net.features.0.weight 5.7220458984375e-06\n",
      "\u001b[36m(launch_and_fit pid=11938)\u001b[0m mri_net.features.0.bias 1.430511474609375e-06\n",
      "\u001b[36m(launch_and_fit pid=11938)\u001b[0m mri_net.features.3.weight 1.1920928955078125e-06\n",
      "\u001b[36m(launch_and_fit pid=11938)\u001b[0m mri_net.features.3.bias 9.5367431640625e-07\n",
      "\u001b[36m(launch_and_fit pid=11938)\u001b[0m mri_net.classifier.0.weight 1.1920928955078125e-06\n",
      "\u001b[36m(launch_and_fit pid=11938)\u001b[0m mri_net.classifier.0.bias 9.5367431640625e-07\n",
      "\u001b[36m(launch_and_fit pid=11938)\u001b[0m mri_net.classifier.2.weight 1.1920928955078125e-06\n",
      "\u001b[36m(launch_and_fit pid=11938)\u001b[0m mri_net.classifier.2.bias 9.5367431640625e-07\n",
      "\u001b[36m(launch_and_fit pid=11938)\u001b[0m mri_net.classifier.3.weights 1.1920928955078125e-06\n",
      "\u001b[36m(launch_and_fit pid=11938)\u001b[0m dna_net.fc1.weight 9.5367431640625e-07\n",
      "\u001b[36m(launch_and_fit pid=11938)\u001b[0m dna_net.fc1.bias 1.1920928955078125e-06\n",
      "\u001b[36m(launch_and_fit pid=11938)\u001b[0m dna_net.fc2.weight 9.5367431640625e-07\n",
      "\u001b[36m(launch_and_fit pid=11938)\u001b[0m dna_net.fc2.bias 7.152557373046875e-07\n",
      "\u001b[36m(launch_and_fit pid=11938)\u001b[0m dna_net.fc3.weight 1.1920928955078125e-06\n",
      "\u001b[36m(launch_and_fit pid=11938)\u001b[0m dna_net.fc3.bias 9.5367431640625e-07\n",
      "\u001b[36m(launch_and_fit pid=11938)\u001b[0m dna_net.fc4.weight 9.5367431640625e-07\n",
      "\u001b[36m(launch_and_fit pid=11938)\u001b[0m dna_net.fc4.bias 1.1920928955078125e-06\n",
      "\u001b[36m(launch_and_fit pid=11938)\u001b[0m dna_net.qnn.weights 1.1920928955078125e-06\n",
      "\u001b[36m(launch_and_fit pid=11938)\u001b[0m attention.in_proj_weight 9.5367431640625e-07\n",
      "\u001b[36m(launch_and_fit pid=11938)\u001b[0m attention.in_proj_bias 9.5367431640625e-07\n",
      "\u001b[36m(launch_and_fit pid=11938)\u001b[0m attention.out_proj.weight 9.5367431640625e-07\n",
      "\u001b[36m(launch_and_fit pid=11938)\u001b[0m attention.out_proj.bias 1.1920928955078125e-06\n",
      "\u001b[36m(launch_and_fit pid=11938)\u001b[0m fc1.weight 9.5367431640625e-07\n",
      "\u001b[36m(launch_and_fit pid=11938)\u001b[0m fc1.bias 9.5367431640625e-07\n",
      "\u001b[36m(launch_and_fit pid=11938)\u001b[0m fc2_mri.weight 1.1920928955078125e-06\n",
      "\u001b[36m(launch_and_fit pid=11938)\u001b[0m fc2_mri.bias 1.1920928955078125e-06\n",
      "\u001b[36m(launch_and_fit pid=11938)\u001b[0m fc2_dna.weight 9.5367431640625e-07\n",
      "\u001b[36m(launch_and_fit pid=11938)\u001b[0m fc2_dna.bias 9.5367431640625e-07\n",
      "\u001b[36m(launch_and_fit pid=11939)\u001b[0m \tTrain Epoch: 10 \tTrain_loss_mri: 0.0293 | Train_acc_mri: 99.6875 | Train_loss_dna: 0.2750 | Train_acc_dna: 91.8750 | Validation_loss_mri: 0.8606 | Validation_acc_mri: 89.0625 | Validation_loss_dna: 3.4715 | Validation_acc_dna: 42.7083\u001b[32m [repeated 3x across cluster]\u001b[0m\n",
      "\u001b[36m(launch_and_fit pid=12021)\u001b[0m Run with homomorphic encryption\n",
      "\u001b[36m(launch_and_fit pid=11939)\u001b[0m save graph in  results/FL/\n",
      "\u001b[36m(launch_and_fit pid=11939)\u001b[0m fc2_dna.bias 1.9073486328125e-06\u001b[32m [repeated 23x across cluster]\u001b[0m\n",
      "\u001b[36m(launch_and_fit pid=11939)\u001b[0m dna_net.qnn.weights 1.1920928955078125e-06\n",
      "\u001b[36m(launch_and_fit pid=11939)\u001b[0m attention.in_proj_weight 1.6689300537109375e-06\n",
      "\u001b[36m(launch_and_fit pid=11939)\u001b[0m attention.in_proj_bias 1.6689300537109375e-06\n",
      "\u001b[36m(launch_and_fit pid=11939)\u001b[0m attention.out_proj.weight 1.430511474609375e-06\n",
      "\u001b[36m(launch_and_fit pid=11939)\u001b[0m attention.out_proj.bias 1.6689300537109375e-06\n",
      "\u001b[36m(launch_and_fit pid=12021)\u001b[0m [Client 2, round 15] fit, config: {'learning_rate': 0.003, 'batch_size': '32', 'server_round': 15, 'local_epochs': 10}\n",
      "\u001b[36m(launch_and_fit pid=12021)\u001b[0m Updated model\n"
     ]
    },
    {
     "name": "stderr",
     "output_type": "stream",
     "text": [
      "  0%|\u001b[34m          \u001b[0m| 0/10 [00:00<?, ?it/s]\n",
      "100%|\u001b[34m██████████\u001b[0m| 10/10 [00:38<00:00,  3.85s/it]\u001b[32m [repeated 3x across cluster]\u001b[0m\n"
     ]
    },
    {
     "name": "stdout",
     "output_type": "stream",
     "text": [
      "\u001b[36m(launch_and_fit pid=12021)\u001b[0m \tTrain Epoch: 1 \tTrain_loss_mri: 0.0743 | Train_acc_mri: 96.5625 | Train_loss_dna: 1.1686 | Train_acc_dna: 57.9977 | Validation_loss_mri: 0.7045 | Validation_acc_mri: 72.3958 | Validation_loss_dna: 3.3924 | Validation_acc_dna: 41.1458\n",
      "\u001b[36m(launch_and_fit pid=12046)\u001b[0m Run with homomorphic encryption\n",
      "\u001b[36m(launch_and_fit pid=12046)\u001b[0m [Client 7, round 15] fit, config: {'learning_rate': 0.003, 'batch_size': '32', 'server_round': 15, 'local_epochs': 10}\n",
      "\u001b[36m(launch_and_fit pid=12046)\u001b[0m Updated model\n"
     ]
    },
    {
     "name": "stderr",
     "output_type": "stream",
     "text": [
      "  0%|\u001b[34m          \u001b[0m| 0/10 [00:00<?, ?it/s]\n",
      " 20%|\u001b[34m██        \u001b[0m| 2/10 [00:07<00:31,  3.93s/it]\u001b[32m [repeated 3x across cluster]\u001b[0m\n"
     ]
    },
    {
     "name": "stdout",
     "output_type": "stream",
     "text": [
      "\u001b[36m(launch_and_fit pid=12021)\u001b[0m \tTrain Epoch: 3 \tTrain_loss_mri: 0.0966 | Train_acc_mri: 96.8750 | Train_loss_dna: 0.8711 | Train_acc_dna: 65.8449 | Validation_loss_mri: 1.4668 | Validation_acc_mri: 72.3958 | Validation_loss_dna: 3.5938 | Validation_acc_dna: 9.3750\u001b[32m [repeated 4x across cluster]\u001b[0m\n"
     ]
    },
    {
     "name": "stderr",
     "output_type": "stream",
     "text": [
      " 40%|\u001b[34m████      \u001b[0m| 4/10 [00:15<00:22,  3.79s/it]\u001b[32m [repeated 4x across cluster]\u001b[0m\n"
     ]
    },
    {
     "name": "stdout",
     "output_type": "stream",
     "text": [
      "\u001b[36m(launch_and_fit pid=12021)\u001b[0m \tTrain Epoch: 5 \tTrain_loss_mri: 0.0376 | Train_acc_mri: 99.6875 | Train_loss_dna: 0.5240 | Train_acc_dna: 82.9167 | Validation_loss_mri: 1.2159 | Validation_acc_mri: 70.8333 | Validation_loss_dna: 3.3569 | Validation_acc_dna: 27.6042\u001b[32m [repeated 4x across cluster]\u001b[0m\n"
     ]
    },
    {
     "name": "stderr",
     "output_type": "stream",
     "text": [
      " 60%|\u001b[34m██████    \u001b[0m| 6/10 [00:23<00:15,  3.82s/it]\u001b[32m [repeated 4x across cluster]\u001b[0m\n"
     ]
    },
    {
     "name": "stdout",
     "output_type": "stream",
     "text": [
      "\u001b[36m(launch_and_fit pid=12021)\u001b[0m \tTrain Epoch: 7 \tTrain_loss_mri: 0.0348 | Train_acc_mri: 99.3750 | Train_loss_dna: 0.4059 | Train_acc_dna: 89.3981 | Validation_loss_mri: 0.8902 | Validation_acc_mri: 70.8333 | Validation_loss_dna: 3.6604 | Validation_acc_dna: 30.7292\u001b[32m [repeated 4x across cluster]\u001b[0m\n"
     ]
    },
    {
     "name": "stderr",
     "output_type": "stream",
     "text": [
      " 80%|\u001b[34m████████  \u001b[0m| 8/10 [00:31<00:07,  3.92s/it]\u001b[32m [repeated 4x across cluster]\u001b[0m\n"
     ]
    },
    {
     "name": "stdout",
     "output_type": "stream",
     "text": [
      "\u001b[36m(launch_and_fit pid=12021)\u001b[0m \tTrain Epoch: 9 \tTrain_loss_mri: 0.0123 | Train_acc_mri: 99.6875 | Train_loss_dna: 0.3883 | Train_acc_dna: 89.5718 | Validation_loss_mri: 1.0780 | Validation_acc_mri: 70.8333 | Validation_loss_dna: 4.6862 | Validation_acc_dna: 32.2917\u001b[32m [repeated 4x across cluster]\u001b[0m\n",
      "\u001b[36m(launch_and_fit pid=12021)\u001b[0m save graph in  results/FL/\n"
     ]
    },
    {
     "name": "stderr",
     "output_type": "stream",
     "text": [
      "100%|\u001b[34m██████████\u001b[0m| 10/10 [00:38<00:00,  3.87s/it]\u001b[32m [repeated 4x across cluster]\u001b[0m\n"
     ]
    },
    {
     "name": "stdout",
     "output_type": "stream",
     "text": [
      "\u001b[36m(launch_and_fit pid=12021)\u001b[0m mri_net.features.0.weight 4.76837158203125e-06\n",
      "\u001b[36m(launch_and_fit pid=12021)\u001b[0m mri_net.features.0.bias 1.1920928955078125e-06\n",
      "\u001b[36m(launch_and_fit pid=12021)\u001b[0m mri_net.features.3.weight 9.5367431640625e-07\n",
      "\u001b[36m(launch_and_fit pid=12021)\u001b[0m mri_net.features.3.bias 9.5367431640625e-07\n",
      "\u001b[36m(launch_and_fit pid=12021)\u001b[0m mri_net.classifier.0.weight 1.430511474609375e-06\n",
      "\u001b[36m(launch_and_fit pid=12021)\u001b[0m mri_net.classifier.0.bias 1.1920928955078125e-06\n",
      "\u001b[36m(launch_and_fit pid=12021)\u001b[0m mri_net.classifier.2.weight 7.62939453125e-06\n",
      "\u001b[36m(launch_and_fit pid=12021)\u001b[0m mri_net.classifier.2.bias 1.9073486328125e-06\n",
      "\u001b[36m(launch_and_fit pid=12021)\u001b[0m mri_net.classifier.3.weights 1.6689300537109375e-06\n",
      "\u001b[36m(launch_and_fit pid=12021)\u001b[0m dna_net.fc1.weight 1.1920928955078125e-06\n",
      "\u001b[36m(launch_and_fit pid=12021)\u001b[0m dna_net.fc1.bias 9.5367431640625e-07\n",
      "\u001b[36m(launch_and_fit pid=12021)\u001b[0m dna_net.fc2.weight 7.152557373046875e-07\n",
      "\u001b[36m(launch_and_fit pid=12021)\u001b[0m dna_net.fc2.bias 1.1920928955078125e-06\n",
      "\u001b[36m(launch_and_fit pid=12021)\u001b[0m dna_net.fc3.weight 1.1920928955078125e-06\n",
      "\u001b[36m(launch_and_fit pid=12021)\u001b[0m dna_net.fc3.bias 9.5367431640625e-07\n",
      "\u001b[36m(launch_and_fit pid=12021)\u001b[0m dna_net.fc4.weight 9.5367431640625e-07\n",
      "\u001b[36m(launch_and_fit pid=12021)\u001b[0m dna_net.fc4.bias 1.1920928955078125e-06\n",
      "\u001b[36m(launch_and_fit pid=12021)\u001b[0m dna_net.qnn.weights 1.1920928955078125e-06\n",
      "\u001b[36m(launch_and_fit pid=12021)\u001b[0m attention.in_proj_weight 9.5367431640625e-07\n",
      "\u001b[36m(launch_and_fit pid=12021)\u001b[0m attention.in_proj_bias 7.152557373046875e-07\n",
      "\u001b[36m(launch_and_fit pid=12021)\u001b[0m attention.out_proj.weight 9.5367431640625e-07\n",
      "\u001b[36m(launch_and_fit pid=12021)\u001b[0m attention.out_proj.bias 9.5367431640625e-07\n",
      "\u001b[36m(launch_and_fit pid=12021)\u001b[0m fc1.weight 1.430511474609375e-06\n",
      "\u001b[36m(launch_and_fit pid=12021)\u001b[0m fc1.bias 9.5367431640625e-07\n",
      "\u001b[36m(launch_and_fit pid=12021)\u001b[0m fc2_mri.weight 9.5367431640625e-07\n",
      "\u001b[36m(launch_and_fit pid=12021)\u001b[0m fc2_mri.bias 1.1920928955078125e-06\n",
      "\u001b[36m(launch_and_fit pid=12021)\u001b[0m fc2_dna.weight 9.5367431640625e-07\n",
      "\u001b[36m(launch_and_fit pid=12021)\u001b[0m fc2_dna.bias 9.5367431640625e-07\n",
      "\u001b[36m(launch_and_fit pid=12103)\u001b[0m Run with homomorphic encryption\n",
      "\u001b[36m(launch_and_fit pid=12046)\u001b[0m \tTrain Epoch: 10 \tTrain_loss_mri: 0.0267 | Train_acc_mri: 99.0625 | Train_loss_dna: 0.3759 | Train_acc_dna: 87.3843 | Validation_loss_mri: 1.1344 | Validation_acc_mri: 78.6458 | Validation_loss_dna: 2.9828 | Validation_acc_dna: 41.1458\u001b[32m [repeated 3x across cluster]\u001b[0m\n",
      "\u001b[36m(launch_and_fit pid=12046)\u001b[0m save graph in  results/FL/\n",
      "\u001b[36m(launch_and_fit pid=12046)\u001b[0m fc2_dna.bias 9.5367431640625e-07\u001b[32m [repeated 23x across cluster]\u001b[0m\n",
      "\u001b[36m(launch_and_fit pid=12046)\u001b[0m dna_net.qnn.weights 9.5367431640625e-07\n",
      "\u001b[36m(launch_and_fit pid=12046)\u001b[0m attention.in_proj_weight 1.1920928955078125e-06\n",
      "\u001b[36m(launch_and_fit pid=12046)\u001b[0m attention.in_proj_bias 1.1920928955078125e-06\n",
      "\u001b[36m(launch_and_fit pid=12046)\u001b[0m attention.out_proj.weight 9.5367431640625e-07\n",
      "\u001b[36m(launch_and_fit pid=12046)\u001b[0m attention.out_proj.bias 1.1920928955078125e-06\n",
      "\u001b[36m(launch_and_fit pid=12103)\u001b[0m [Client 5, round 15] fit, config: {'learning_rate': 0.003, 'batch_size': '32', 'server_round': 15, 'local_epochs': 10}\n"
     ]
    },
    {
     "name": "stderr",
     "output_type": "stream",
     "text": [
      "  0%|\u001b[34m          \u001b[0m| 0/10 [00:00<?, ?it/s]\n",
      "100%|\u001b[34m██████████\u001b[0m| 10/10 [00:38<00:00,  3.83s/it]\n"
     ]
    },
    {
     "name": "stdout",
     "output_type": "stream",
     "text": [
      "\u001b[36m(launch_and_fit pid=12103)\u001b[0m Updated model\n"
     ]
    },
    {
     "name": "stderr",
     "output_type": "stream",
     "text": [
      " 10%|\u001b[34m█         \u001b[0m| 1/10 [00:04<00:38,  4.27s/it]\n"
     ]
    },
    {
     "name": "stdout",
     "output_type": "stream",
     "text": [
      "\u001b[36m(launch_and_fit pid=12105)\u001b[0m Run with homomorphic encryption\n",
      "\u001b[36m(launch_and_fit pid=12103)\u001b[0m \tTrain Epoch: 1 \tTrain_loss_mri: 0.2578 | Train_acc_mri: 91.2731 | Train_loss_dna: 1.3478 | Train_acc_dna: 57.2338 | Validation_loss_mri: 0.7612 | Validation_acc_mri: 85.9375 | Validation_loss_dna: 6.0547 | Validation_acc_dna: 9.3750\n",
      "\u001b[36m(launch_and_fit pid=12105)\u001b[0m [Client 4, round 15] fit, config: {'learning_rate': 0.003, 'batch_size': '32', 'server_round': 15, 'local_epochs': 10}\n",
      "\u001b[36m(launch_and_fit pid=12105)\u001b[0m \tTrain Epoch: 1 \tTrain_loss_mri: 0.1428 | Train_acc_mri: 95.2546 | Train_loss_dna: 1.3023 | Train_acc_dna: 56.4931 | Validation_loss_mri: 1.7912 | Validation_acc_mri: 67.7083 | Validation_loss_dna: 2.2974 | Validation_acc_dna: 36.9792\n"
     ]
    },
    {
     "name": "stderr",
     "output_type": "stream",
     "text": [
      "  0%|\u001b[34m          \u001b[0m| 0/10 [00:00<?, ?it/s]\n"
     ]
    },
    {
     "name": "stdout",
     "output_type": "stream",
     "text": [
      "\u001b[36m(launch_and_fit pid=12105)\u001b[0m Updated model\n"
     ]
    },
    {
     "name": "stderr",
     "output_type": "stream",
     "text": [
      " 30%|\u001b[34m███       \u001b[0m| 3/10 [00:12<00:27,  3.99s/it]\u001b[32m [repeated 4x across cluster]\u001b[0m\n"
     ]
    },
    {
     "name": "stdout",
     "output_type": "stream",
     "text": [
      "\u001b[36m(launch_and_fit pid=12103)\u001b[0m \tTrain Epoch: 3 \tTrain_loss_mri: 0.1154 | Train_acc_mri: 95.6250 | Train_loss_dna: 0.7308 | Train_acc_dna: 71.2153 | Validation_loss_mri: 0.3965 | Validation_acc_mri: 90.6250 | Validation_loss_dna: 5.4670 | Validation_acc_dna: 30.7292\u001b[32m [repeated 3x across cluster]\u001b[0m\n"
     ]
    },
    {
     "name": "stderr",
     "output_type": "stream",
     "text": [
      " 50%|\u001b[34m█████     \u001b[0m| 5/10 [00:19<00:19,  3.83s/it]\u001b[32m [repeated 4x across cluster]\u001b[0m\n"
     ]
    },
    {
     "name": "stdout",
     "output_type": "stream",
     "text": [
      "\u001b[36m(launch_and_fit pid=12103)\u001b[0m \tTrain Epoch: 5 \tTrain_loss_mri: 0.0157 | Train_acc_mri: 100.0000 | Train_loss_dna: 0.4477 | Train_acc_dna: 86.0185 | Validation_loss_mri: 0.3470 | Validation_acc_mri: 90.6250 | Validation_loss_dna: 4.9387 | Validation_acc_dna: 15.6250\u001b[32m [repeated 4x across cluster]\u001b[0m\n"
     ]
    },
    {
     "name": "stderr",
     "output_type": "stream",
     "text": [
      " 70%|\u001b[34m███████   \u001b[0m| 7/10 [00:27<00:11,  3.84s/it]\u001b[32m [repeated 4x across cluster]\u001b[0m\n"
     ]
    },
    {
     "name": "stdout",
     "output_type": "stream",
     "text": [
      "\u001b[36m(launch_and_fit pid=12103)\u001b[0m \tTrain Epoch: 7 \tTrain_loss_mri: 0.0139 | Train_acc_mri: 100.0000 | Train_loss_dna: 0.3350 | Train_acc_dna: 91.3889 | Validation_loss_mri: 0.4203 | Validation_acc_mri: 90.6250 | Validation_loss_dna: 6.4002 | Validation_acc_dna: 15.6250\u001b[32m [repeated 4x across cluster]\u001b[0m\n"
     ]
    },
    {
     "name": "stderr",
     "output_type": "stream",
     "text": [
      " 90%|\u001b[34m█████████ \u001b[0m| 9/10 [00:35<00:03,  3.87s/it]\u001b[32m [repeated 4x across cluster]\u001b[0m\n"
     ]
    },
    {
     "name": "stdout",
     "output_type": "stream",
     "text": [
      "\u001b[36m(launch_and_fit pid=12103)\u001b[0m \tTrain Epoch: 9 \tTrain_loss_mri: 0.0199 | Train_acc_mri: 99.6296 | Train_loss_dna: 0.2789 | Train_acc_dna: 92.0139 | Validation_loss_mri: 0.3851 | Validation_acc_mri: 90.6250 | Validation_loss_dna: 6.1819 | Validation_acc_dna: 14.0625\u001b[32m [repeated 4x across cluster]\u001b[0m\n",
      "\u001b[36m(launch_and_fit pid=12103)\u001b[0m save graph in  results/FL/\n",
      "\u001b[36m(launch_and_fit pid=12103)\u001b[0m mri_net.features.0.weight 4.76837158203125e-06\n",
      "\u001b[36m(launch_and_fit pid=12103)\u001b[0m mri_net.features.0.bias 1.6689300537109375e-06\n",
      "\u001b[36m(launch_and_fit pid=12103)\u001b[0m mri_net.features.3.weight 9.5367431640625e-07\n",
      "\u001b[36m(launch_and_fit pid=12103)\u001b[0m mri_net.features.3.bias 9.5367431640625e-07\n",
      "\u001b[36m(launch_and_fit pid=12103)\u001b[0m mri_net.classifier.0.weight 1.1920928955078125e-06\n",
      "\u001b[36m(launch_and_fit pid=12103)\u001b[0m mri_net.classifier.0.bias 1.1920928955078125e-06\n",
      "\u001b[36m(launch_and_fit pid=12103)\u001b[0m mri_net.classifier.2.weight 9.5367431640625e-07\n",
      "\u001b[36m(launch_and_fit pid=12103)\u001b[0m mri_net.classifier.2.bias 9.5367431640625e-07\n",
      "\u001b[36m(launch_and_fit pid=12103)\u001b[0m mri_net.classifier.3.weights 1.430511474609375e-06\n",
      "\u001b[36m(launch_and_fit pid=12103)\u001b[0m dna_net.fc1.weight 1.1920928955078125e-06\n",
      "\u001b[36m(launch_and_fit pid=12103)\u001b[0m dna_net.fc1.bias 1.1920928955078125e-06\n",
      "\u001b[36m(launch_and_fit pid=12103)\u001b[0m dna_net.fc2.weight 1.1920928955078125e-06\n",
      "\u001b[36m(launch_and_fit pid=12103)\u001b[0m dna_net.fc2.bias 1.430511474609375e-06\n",
      "\u001b[36m(launch_and_fit pid=12103)\u001b[0m dna_net.fc3.weight 9.5367431640625e-07\n",
      "\u001b[36m(launch_and_fit pid=12103)\u001b[0m dna_net.fc3.bias 9.5367431640625e-07\n",
      "\u001b[36m(launch_and_fit pid=12103)\u001b[0m dna_net.fc4.weight 9.5367431640625e-07\n",
      "\u001b[36m(launch_and_fit pid=12103)\u001b[0m dna_net.fc4.bias 1.1920928955078125e-06\n",
      "\u001b[36m(launch_and_fit pid=12103)\u001b[0m dna_net.qnn.weights 9.5367431640625e-07\n",
      "\u001b[36m(launch_and_fit pid=12103)\u001b[0m attention.in_proj_weight 1.1920928955078125e-06\n",
      "\u001b[36m(launch_and_fit pid=12103)\u001b[0m attention.in_proj_bias 1.9073486328125e-06\n",
      "\u001b[36m(launch_and_fit pid=12103)\u001b[0m attention.out_proj.weight 1.430511474609375e-06\n",
      "\u001b[36m(launch_and_fit pid=12103)\u001b[0m attention.out_proj.bias 1.1920928955078125e-06\n",
      "\u001b[36m(launch_and_fit pid=12103)\u001b[0m fc1.weight 1.1920928955078125e-06\n",
      "\u001b[36m(launch_and_fit pid=12103)\u001b[0m fc1.bias 1.1920928955078125e-06\n",
      "\u001b[36m(launch_and_fit pid=12103)\u001b[0m fc2_mri.weight 1.1920928955078125e-06\n",
      "\u001b[36m(launch_and_fit pid=12103)\u001b[0m fc2_mri.bias 9.5367431640625e-07\n",
      "\u001b[36m(launch_and_fit pid=12103)\u001b[0m fc2_dna.weight 9.5367431640625e-07\n",
      "\u001b[36m(launch_and_fit pid=12103)\u001b[0m fc2_dna.bias 1.1920928955078125e-06\n",
      "\u001b[36m(launch_and_fit pid=12105)\u001b[0m \tTrain Epoch: 10 \tTrain_loss_mri: 0.0117 | Train_acc_mri: 100.0000 | Train_loss_dna: 0.3426 | Train_acc_dna: 89.3403 | Validation_loss_mri: 2.8029 | Validation_acc_mri: 66.1458 | Validation_loss_dna: 3.5887 | Validation_acc_dna: 27.6042\u001b[32m [repeated 3x across cluster]\u001b[0m\n",
      "\u001b[36m(launch_and_fit pid=12185)\u001b[0m Run with homomorphic encryption\n",
      "\u001b[36m(launch_and_fit pid=12105)\u001b[0m save graph in  results/FL/\n",
      "\u001b[36m(launch_and_fit pid=12105)\u001b[0m fc2_dna.bias 9.5367431640625e-07\u001b[32m [repeated 23x across cluster]\u001b[0m\n",
      "\u001b[36m(launch_and_fit pid=12105)\u001b[0m dna_net.qnn.weights 1.1920928955078125e-06\n",
      "\u001b[36m(launch_and_fit pid=12105)\u001b[0m attention.in_proj_weight 9.5367431640625e-07\n",
      "\u001b[36m(launch_and_fit pid=12105)\u001b[0m attention.in_proj_bias 1.430511474609375e-06\n",
      "\u001b[36m(launch_and_fit pid=12105)\u001b[0m attention.out_proj.weight 1.1920928955078125e-06\n",
      "\u001b[36m(launch_and_fit pid=12105)\u001b[0m attention.out_proj.bias 1.1920928955078125e-06\n",
      "\u001b[36m(launch_and_fit pid=12185)\u001b[0m [Client 9, round 15] fit, config: {'learning_rate': 0.003, 'batch_size': '32', 'server_round': 15, 'local_epochs': 10}\n",
      "\u001b[36m(launch_and_fit pid=12185)\u001b[0m Updated model\n"
     ]
    },
    {
     "name": "stderr",
     "output_type": "stream",
     "text": [
      "  0%|\u001b[34m          \u001b[0m| 0/10 [00:00<?, ?it/s]\n",
      "100%|\u001b[34m██████████\u001b[0m| 10/10 [00:39<00:00,  3.94s/it]\u001b[32m [repeated 3x across cluster]\u001b[0m\n"
     ]
    },
    {
     "name": "stdout",
     "output_type": "stream",
     "text": [
      "\u001b[36m(launch_and_fit pid=12185)\u001b[0m \tTrain Epoch: 1 \tTrain_loss_mri: 0.1570 | Train_acc_mri: 94.3649 | Train_loss_dna: 1.3905 | Train_acc_dna: 56.1089 | Validation_loss_mri: 0.1715 | Validation_acc_mri: 96.8750 | Validation_loss_dna: 4.7803 | Validation_acc_dna: 10.9375\n",
      "\u001b[36m(launch_and_fit pid=12210)\u001b[0m Run with homomorphic encryption\n",
      "\u001b[36m(launch_and_fit pid=12210)\u001b[0m [Client 3, round 15] fit, config: {'learning_rate': 0.003, 'batch_size': '32', 'server_round': 15, 'local_epochs': 10}\n",
      "\u001b[36m(launch_and_fit pid=12210)\u001b[0m Updated model\n"
     ]
    },
    {
     "name": "stderr",
     "output_type": "stream",
     "text": [
      "  0%|\u001b[34m          \u001b[0m| 0/10 [00:00<?, ?it/s]\n",
      " 20%|\u001b[34m██        \u001b[0m| 2/10 [00:07<00:30,  3.85s/it]\u001b[32m [repeated 3x across cluster]\u001b[0m\n"
     ]
    },
    {
     "name": "stdout",
     "output_type": "stream",
     "text": [
      "\u001b[36m(launch_and_fit pid=12185)\u001b[0m \tTrain Epoch: 3 \tTrain_loss_mri: 0.1535 | Train_acc_mri: 95.3125 | Train_loss_dna: 1.0593 | Train_acc_dna: 63.2964 | Validation_loss_mri: 0.3609 | Validation_acc_mri: 78.6458 | Validation_loss_dna: 2.7127 | Validation_acc_dna: 29.1667\u001b[32m [repeated 4x across cluster]\u001b[0m\n"
     ]
    },
    {
     "name": "stderr",
     "output_type": "stream",
     "text": [
      " 40%|\u001b[34m████      \u001b[0m| 4/10 [00:15<00:22,  3.72s/it]\u001b[32m [repeated 4x across cluster]\u001b[0m\n"
     ]
    },
    {
     "name": "stdout",
     "output_type": "stream",
     "text": [
      "\u001b[36m(launch_and_fit pid=12185)\u001b[0m \tTrain Epoch: 5 \tTrain_loss_mri: 0.0552 | Train_acc_mri: 97.5000 | Train_loss_dna: 0.6237 | Train_acc_dna: 78.0544 | Validation_loss_mri: 0.3098 | Validation_acc_mri: 92.1875 | Validation_loss_dna: 2.6822 | Validation_acc_dna: 42.7083\u001b[32m [repeated 4x across cluster]\u001b[0m\n"
     ]
    },
    {
     "name": "stderr",
     "output_type": "stream",
     "text": [
      " 60%|\u001b[34m██████    \u001b[0m| 6/10 [00:22<00:15,  3.79s/it]\u001b[32m [repeated 4x across cluster]\u001b[0m\n"
     ]
    },
    {
     "name": "stdout",
     "output_type": "stream",
     "text": [
      "\u001b[36m(launch_and_fit pid=12185)\u001b[0m \tTrain Epoch: 7 \tTrain_loss_mri: 0.0249 | Train_acc_mri: 99.6875 | Train_loss_dna: 0.4214 | Train_acc_dna: 85.2621 | Validation_loss_mri: 0.5031 | Validation_acc_mri: 87.5000 | Validation_loss_dna: 2.8916 | Validation_acc_dna: 44.2708\u001b[32m [repeated 4x across cluster]\u001b[0m\n"
     ]
    },
    {
     "name": "stderr",
     "output_type": "stream",
     "text": [
      " 80%|\u001b[34m████████  \u001b[0m| 8/10 [00:30<00:07,  3.76s/it]\u001b[32m [repeated 4x across cluster]\u001b[0m\n"
     ]
    },
    {
     "name": "stdout",
     "output_type": "stream",
     "text": [
      "\u001b[36m(launch_and_fit pid=12185)\u001b[0m \tTrain Epoch: 9 \tTrain_loss_mri: 0.0210 | Train_acc_mri: 99.6875 | Train_loss_dna: 0.3874 | Train_acc_dna: 87.4698 | Validation_loss_mri: 0.4859 | Validation_acc_mri: 90.6250 | Validation_loss_dna: 3.0414 | Validation_acc_dna: 44.2708\u001b[32m [repeated 4x across cluster]\u001b[0m\n",
      "\u001b[36m(launch_and_fit pid=12185)\u001b[0m save graph in  results/FL/\n"
     ]
    },
    {
     "name": "stderr",
     "output_type": "stream",
     "text": [
      "100%|\u001b[34m██████████\u001b[0m| 10/10 [00:37<00:00,  3.76s/it]\u001b[32m [repeated 4x across cluster]\u001b[0m\n"
     ]
    },
    {
     "name": "stdout",
     "output_type": "stream",
     "text": [
      "\u001b[36m(launch_and_fit pid=12185)\u001b[0m mri_net.features.0.weight 5.0067901611328125e-06\n",
      "\u001b[36m(launch_and_fit pid=12185)\u001b[0m mri_net.features.0.bias 1.430511474609375e-06\n",
      "\u001b[36m(launch_and_fit pid=12185)\u001b[0m mri_net.features.3.weight 1.1920928955078125e-06\n",
      "\u001b[36m(launch_and_fit pid=12185)\u001b[0m mri_net.features.3.bias 9.5367431640625e-07\n",
      "\u001b[36m(launch_and_fit pid=12185)\u001b[0m mri_net.classifier.0.weight 9.5367431640625e-07\n",
      "\u001b[36m(launch_and_fit pid=12185)\u001b[0m mri_net.classifier.0.bias 9.5367431640625e-07\n",
      "\u001b[36m(launch_and_fit pid=12185)\u001b[0m mri_net.classifier.2.weight 9.5367431640625e-07\n",
      "\u001b[36m(launch_and_fit pid=12185)\u001b[0m mri_net.classifier.2.bias 7.152557373046875e-07\n",
      "\u001b[36m(launch_and_fit pid=12185)\u001b[0m mri_net.classifier.3.weights 9.5367431640625e-07\n",
      "\u001b[36m(launch_and_fit pid=12185)\u001b[0m dna_net.fc1.weight 1.1920928955078125e-06\n",
      "\u001b[36m(launch_and_fit pid=12185)\u001b[0m dna_net.fc1.bias 9.5367431640625e-07\n",
      "\u001b[36m(launch_and_fit pid=12185)\u001b[0m dna_net.fc2.weight 9.5367431640625e-07\n",
      "\u001b[36m(launch_and_fit pid=12185)\u001b[0m dna_net.fc2.bias 1.1920928955078125e-06\n",
      "\u001b[36m(launch_and_fit pid=12185)\u001b[0m dna_net.fc3.weight 9.5367431640625e-07\n",
      "\u001b[36m(launch_and_fit pid=12185)\u001b[0m dna_net.fc3.bias 9.5367431640625e-07\n",
      "\u001b[36m(launch_and_fit pid=12185)\u001b[0m dna_net.fc4.weight 1.1920928955078125e-06\n",
      "\u001b[36m(launch_and_fit pid=12185)\u001b[0m dna_net.fc4.bias 9.5367431640625e-07\n",
      "\u001b[36m(launch_and_fit pid=12185)\u001b[0m dna_net.qnn.weights 9.5367431640625e-07\n",
      "\u001b[36m(launch_and_fit pid=12185)\u001b[0m attention.in_proj_weight 9.5367431640625e-07\n",
      "\u001b[36m(launch_and_fit pid=12185)\u001b[0m attention.in_proj_bias 9.5367431640625e-07\n",
      "\u001b[36m(launch_and_fit pid=12185)\u001b[0m attention.out_proj.weight 1.1920928955078125e-06\n",
      "\u001b[36m(launch_and_fit pid=12185)\u001b[0m attention.out_proj.bias 9.5367431640625e-07\n",
      "\u001b[36m(launch_and_fit pid=12185)\u001b[0m fc1.weight 9.5367431640625e-07\n",
      "\u001b[36m(launch_and_fit pid=12185)\u001b[0m fc1.bias 9.5367431640625e-07\n",
      "\u001b[36m(launch_and_fit pid=12185)\u001b[0m fc2_mri.weight 1.1920928955078125e-06\n",
      "\u001b[36m(launch_and_fit pid=12185)\u001b[0m fc2_mri.bias 9.5367431640625e-07\n",
      "\u001b[36m(launch_and_fit pid=12185)\u001b[0m fc2_dna.weight 9.5367431640625e-07\n",
      "\u001b[36m(launch_and_fit pid=12185)\u001b[0m fc2_dna.bias 1.1920928955078125e-06\n",
      "\u001b[36m(launch_and_fit pid=12210)\u001b[0m \tTrain Epoch: 10 \tTrain_loss_mri: 0.0129 | Train_acc_mri: 99.6875 | Train_loss_dna: 0.3254 | Train_acc_dna: 91.5856 | Validation_loss_mri: 0.8683 | Validation_acc_mri: 89.0625 | Validation_loss_dna: 5.0286 | Validation_acc_dna: 24.4792\u001b[32m [repeated 3x across cluster]\u001b[0m\n",
      "\u001b[36m(launch_and_fit pid=12267)\u001b[0m Run with homomorphic encryption\n",
      "\u001b[36m(launch_and_fit pid=12210)\u001b[0m save graph in  results/FL/\n",
      "\u001b[36m(launch_and_fit pid=12210)\u001b[0m fc2_dna.bias 9.5367431640625e-07\u001b[32m [repeated 23x across cluster]\u001b[0m\n",
      "\u001b[36m(launch_and_fit pid=12210)\u001b[0m dna_net.qnn.weights 1.1920928955078125e-06\n",
      "\u001b[36m(launch_and_fit pid=12210)\u001b[0m attention.in_proj_weight 9.5367431640625e-07\n",
      "\u001b[36m(launch_and_fit pid=12210)\u001b[0m attention.in_proj_bias 9.5367431640625e-07\n",
      "\u001b[36m(launch_and_fit pid=12210)\u001b[0m attention.out_proj.weight 9.5367431640625e-07\n",
      "\u001b[36m(launch_and_fit pid=12210)\u001b[0m attention.out_proj.bias 1.1920928955078125e-06\n",
      "\u001b[36m(launch_and_fit pid=12267)\u001b[0m [Client 0, round 15] fit, config: {'learning_rate': 0.003, 'batch_size': '32', 'server_round': 15, 'local_epochs': 10}\n",
      "\u001b[36m(launch_and_fit pid=12267)\u001b[0m Updated model\n"
     ]
    },
    {
     "name": "stderr",
     "output_type": "stream",
     "text": [
      "  0%|\u001b[34m          \u001b[0m| 0/10 [00:00<?, ?it/s]\n",
      "100%|\u001b[34m██████████\u001b[0m| 10/10 [00:38<00:00,  3.82s/it]\n",
      " 10%|\u001b[34m█         \u001b[0m| 1/10 [00:04<00:37,  4.20s/it]\n"
     ]
    },
    {
     "name": "stdout",
     "output_type": "stream",
     "text": [
      "\u001b[36m(launch_and_fit pid=12267)\u001b[0m \tTrain Epoch: 1 \tTrain_loss_mri: 0.1852 | Train_acc_mri: 95.0000 | Train_loss_dna: 1.7533 | Train_acc_dna: 45.5787 | Validation_loss_mri: 1.7996 | Validation_acc_mri: 69.2708 | Validation_loss_dna: 4.7634 | Validation_acc_dna: 18.7500\n",
      "\u001b[36m(launch_and_fit pid=12292)\u001b[0m Run with homomorphic encryption\n",
      "\u001b[36m(launch_and_fit pid=12292)\u001b[0m [Client 6, round 15] fit, config: {'learning_rate': 0.003, 'batch_size': '32', 'server_round': 15, 'local_epochs': 10}\n",
      "\u001b[36m(launch_and_fit pid=12292)\u001b[0m Updated model\n"
     ]
    },
    {
     "name": "stderr",
     "output_type": "stream",
     "text": [
      "  0%|\u001b[34m          \u001b[0m| 0/10 [00:00<?, ?it/s]\n",
      " 30%|\u001b[34m███       \u001b[0m| 3/10 [00:11<00:26,  3.82s/it]\u001b[32m [repeated 4x across cluster]\u001b[0m\n"
     ]
    },
    {
     "name": "stdout",
     "output_type": "stream",
     "text": [
      "\u001b[36m(launch_and_fit pid=12267)\u001b[0m \tTrain Epoch: 3 \tTrain_loss_mri: 0.2570 | Train_acc_mri: 90.4514 | Train_loss_dna: 0.9756 | Train_acc_dna: 62.6852 | Validation_loss_mri: 0.9586 | Validation_acc_mri: 87.5000 | Validation_loss_dna: 5.2427 | Validation_acc_dna: 14.0625\u001b[32m [repeated 4x across cluster]\u001b[0m\n"
     ]
    },
    {
     "name": "stderr",
     "output_type": "stream",
     "text": [
      " 50%|\u001b[34m█████     \u001b[0m| 5/10 [00:19<00:18,  3.78s/it]\u001b[32m [repeated 4x across cluster]\u001b[0m\n"
     ]
    },
    {
     "name": "stdout",
     "output_type": "stream",
     "text": [
      "\u001b[36m(launch_and_fit pid=12267)\u001b[0m \tTrain Epoch: 5 \tTrain_loss_mri: 0.0703 | Train_acc_mri: 97.1296 | Train_loss_dna: 0.6315 | Train_acc_dna: 78.0903 | Validation_loss_mri: 1.0086 | Validation_acc_mri: 70.8333 | Validation_loss_dna: 4.7289 | Validation_acc_dna: 10.9375\u001b[32m [repeated 4x across cluster]\u001b[0m\n"
     ]
    },
    {
     "name": "stderr",
     "output_type": "stream",
     "text": [
      " 70%|\u001b[34m███████   \u001b[0m| 7/10 [00:26<00:11,  3.77s/it]\u001b[32m [repeated 4x across cluster]\u001b[0m\n"
     ]
    },
    {
     "name": "stdout",
     "output_type": "stream",
     "text": [
      "\u001b[36m(launch_and_fit pid=12267)\u001b[0m \tTrain Epoch: 7 \tTrain_loss_mri: 0.0410 | Train_acc_mri: 98.7500 | Train_loss_dna: 0.5080 | Train_acc_dna: 86.1343 | Validation_loss_mri: 0.9252 | Validation_acc_mri: 87.5000 | Validation_loss_dna: 5.3317 | Validation_acc_dna: 14.0625\u001b[32m [repeated 4x across cluster]\u001b[0m\n"
     ]
    },
    {
     "name": "stderr",
     "output_type": "stream",
     "text": [
      " 90%|\u001b[34m█████████ \u001b[0m| 9/10 [00:34<00:03,  3.80s/it]\u001b[32m [repeated 4x across cluster]\u001b[0m\n"
     ]
    },
    {
     "name": "stdout",
     "output_type": "stream",
     "text": [
      "\u001b[36m(launch_and_fit pid=12267)\u001b[0m \tTrain Epoch: 9 \tTrain_loss_mri: 0.0309 | Train_acc_mri: 99.3750 | Train_loss_dna: 0.4180 | Train_acc_dna: 88.1481 | Validation_loss_mri: 0.6820 | Validation_acc_mri: 87.5000 | Validation_loss_dna: 5.1985 | Validation_acc_dna: 12.5000\u001b[32m [repeated 4x across cluster]\u001b[0m\n",
      "\u001b[36m(launch_and_fit pid=12267)\u001b[0m save graph in  results/FL/\n",
      "\u001b[36m(launch_and_fit pid=12267)\u001b[0m mri_net.features.0.weight 5.4836273193359375e-06\n",
      "\u001b[36m(launch_and_fit pid=12267)\u001b[0m mri_net.features.0.bias 1.430511474609375e-06\n",
      "\u001b[36m(launch_and_fit pid=12267)\u001b[0m mri_net.features.3.weight 1.1920928955078125e-06\n",
      "\u001b[36m(launch_and_fit pid=12267)\u001b[0m mri_net.features.3.bias 1.1920928955078125e-06\n",
      "\u001b[36m(launch_and_fit pid=12267)\u001b[0m mri_net.classifier.0.weight 1.1920928955078125e-06\n",
      "\u001b[36m(launch_and_fit pid=12267)\u001b[0m mri_net.classifier.0.bias 9.5367431640625e-07\n",
      "\u001b[36m(launch_and_fit pid=12267)\u001b[0m mri_net.classifier.2.weight 9.5367431640625e-07\n",
      "\u001b[36m(launch_and_fit pid=12267)\u001b[0m mri_net.classifier.2.bias 9.5367431640625e-07\n",
      "\u001b[36m(launch_and_fit pid=12267)\u001b[0m mri_net.classifier.3.weights 9.5367431640625e-07\n",
      "\u001b[36m(launch_and_fit pid=12267)\u001b[0m dna_net.fc1.weight 1.1920928955078125e-06\n",
      "\u001b[36m(launch_and_fit pid=12267)\u001b[0m dna_net.fc1.bias 9.5367431640625e-07\n",
      "\u001b[36m(launch_and_fit pid=12267)\u001b[0m dna_net.fc2.weight 9.5367431640625e-07\n",
      "\u001b[36m(launch_and_fit pid=12267)\u001b[0m dna_net.fc2.bias 1.1920928955078125e-06\n",
      "\u001b[36m(launch_and_fit pid=12267)\u001b[0m dna_net.fc3.weight 1.1920928955078125e-06\n",
      "\u001b[36m(launch_and_fit pid=12267)\u001b[0m dna_net.fc3.bias 1.1920928955078125e-06\n",
      "\u001b[36m(launch_and_fit pid=12267)\u001b[0m dna_net.fc4.weight 9.5367431640625e-07\n",
      "\u001b[36m(launch_and_fit pid=12267)\u001b[0m dna_net.fc4.bias 9.5367431640625e-07\n",
      "\u001b[36m(launch_and_fit pid=12267)\u001b[0m dna_net.qnn.weights 9.5367431640625e-07\n",
      "\u001b[36m(launch_and_fit pid=12267)\u001b[0m attention.in_proj_weight 9.5367431640625e-07\n",
      "\u001b[36m(launch_and_fit pid=12267)\u001b[0m attention.in_proj_bias 9.5367431640625e-07\n",
      "\u001b[36m(launch_and_fit pid=12267)\u001b[0m attention.out_proj.weight 1.430511474609375e-06\n",
      "\u001b[36m(launch_and_fit pid=12267)\u001b[0m attention.out_proj.bias 9.5367431640625e-07\n",
      "\u001b[36m(launch_and_fit pid=12267)\u001b[0m fc1.weight 9.5367431640625e-07\n",
      "\u001b[36m(launch_and_fit pid=12267)\u001b[0m fc1.bias 9.5367431640625e-07\n",
      "\u001b[36m(launch_and_fit pid=12267)\u001b[0m fc2_mri.weight 1.1920928955078125e-06\n",
      "\u001b[36m(launch_and_fit pid=12267)\u001b[0m fc2_mri.bias 1.1920928955078125e-06\n",
      "\u001b[36m(launch_and_fit pid=12267)\u001b[0m fc2_dna.weight 9.5367431640625e-07\n",
      "\u001b[36m(launch_and_fit pid=12267)\u001b[0m fc2_dna.bias 7.152557373046875e-07\n",
      "\u001b[36m(launch_and_fit pid=12292)\u001b[0m \tTrain Epoch: 10 \tTrain_loss_mri: 0.0121 | Train_acc_mri: 100.0000 | Train_loss_dna: 0.3169 | Train_acc_dna: 90.7639 | Validation_loss_mri: 1.7377 | Validation_acc_mri: 70.8333 | Validation_loss_dna: 5.6392 | Validation_acc_dna: 26.0417\u001b[32m [repeated 3x across cluster]\u001b[0m\n"
     ]
    },
    {
     "name": "stderr",
     "output_type": "stream",
     "text": [
      "DEBUG flwr 2024-08-05 08:33:20,530 | server.py:236 | fit_round 15 received 10 results and 0 failures\n"
     ]
    },
    {
     "name": "stdout",
     "output_type": "stream",
     "text": [
      "Saving round 15 aggregated_parameters...\n"
     ]
    },
    {
     "name": "stderr",
     "output_type": "stream",
     "text": [
      "DEBUG flwr 2024-08-05 08:33:22,488 | server.py:173 | evaluate_round 15: strategy sampled 10 clients (out of 10)\n"
     ]
    },
    {
     "name": "stdout",
     "output_type": "stream",
     "text": [
      "\u001b[36m(launch_and_evaluate pid=12358)\u001b[0m Run with homomorphic encryption\n",
      "\u001b[36m(launch_and_fit pid=12292)\u001b[0m save graph in  results/FL/\n",
      "\u001b[36m(launch_and_fit pid=12292)\u001b[0m fc2_dna.bias 9.5367431640625e-07\u001b[32m [repeated 23x across cluster]\u001b[0m\n",
      "\u001b[36m(launch_and_fit pid=12292)\u001b[0m dna_net.qnn.weights 7.152557373046875e-07\n",
      "\u001b[36m(launch_and_fit pid=12292)\u001b[0m attention.in_proj_weight 9.5367431640625e-07\n",
      "\u001b[36m(launch_and_fit pid=12292)\u001b[0m attention.in_proj_bias 9.5367431640625e-07\n",
      "\u001b[36m(launch_and_fit pid=12292)\u001b[0m attention.out_proj.weight 1.1920928955078125e-06\n",
      "\u001b[36m(launch_and_fit pid=12292)\u001b[0m attention.out_proj.bias 9.5367431640625e-07\n",
      "\u001b[36m(launch_and_evaluate pid=12358)\u001b[0m [Client 0] evaluate, config: {}\n",
      "\u001b[36m(launch_and_evaluate pid=12358)\u001b[0m Updated model\n",
      "\u001b[36m(launch_and_evaluate pid=12437)\u001b[0m Run with homomorphic encryption\u001b[32m [repeated 2x across cluster]\u001b[0m\n",
      "\u001b[36m(launch_and_evaluate pid=12359)\u001b[0m [Client 1] evaluate, config: {}\n",
      "\u001b[36m(launch_and_evaluate pid=12359)\u001b[0m Updated model\n",
      "\u001b[36m(launch_and_evaluate pid=12437)\u001b[0m [Client 3] evaluate, config: {}\n",
      "\u001b[36m(launch_and_evaluate pid=12437)\u001b[0m Updated model\n"
     ]
    },
    {
     "name": "stderr",
     "output_type": "stream",
     "text": [
      "\u001b[36m(launch_and_evaluate pid=12439)\u001b[0m /opt/conda/lib/python3.10/site-packages/sklearn/metrics/_ranking.py:1029: UndefinedMetricWarning: No positive samples in y_true, true positive value should be meaningless\n",
      "\u001b[36m(launch_and_evaluate pid=12439)\u001b[0m   warnings.warn(\n",
      "100%|\u001b[34m██████████\u001b[0m| 10/10 [00:38<00:00,  3.80s/it]\u001b[32m [repeated 3x across cluster]\u001b[0m\n"
     ]
    },
    {
     "name": "stdout",
     "output_type": "stream",
     "text": [
      "\u001b[36m(launch_and_evaluate pid=12515)\u001b[0m Run with homomorphic encryption\u001b[32m [repeated 2x across cluster]\u001b[0m\n",
      "\u001b[36m(launch_and_evaluate pid=12439)\u001b[0m [Client 9] evaluate, config: {}\n",
      "\u001b[36m(launch_and_evaluate pid=12439)\u001b[0m Updated model\n",
      "\u001b[36m(launch_and_evaluate pid=12515)\u001b[0m [Client 5] evaluate, config: {}\n",
      "\u001b[36m(launch_and_evaluate pid=12515)\u001b[0m Updated model\n",
      "\u001b[36m(launch_and_evaluate pid=12593)\u001b[0m Run with homomorphic encryption\u001b[32m [repeated 2x across cluster]\u001b[0m\n",
      "\u001b[36m(launch_and_evaluate pid=12540)\u001b[0m [Client 6] evaluate, config: {}\n",
      "\u001b[36m(launch_and_evaluate pid=12540)\u001b[0m Updated model\n",
      "\u001b[36m(launch_and_evaluate pid=12593)\u001b[0m [Client 2] evaluate, config: {}\n",
      "\u001b[36m(launch_and_evaluate pid=12593)\u001b[0m Updated model\n"
     ]
    },
    {
     "name": "stderr",
     "output_type": "stream",
     "text": [
      "\u001b[36m(launch_and_evaluate pid=12618)\u001b[0m /opt/conda/lib/python3.10/site-packages/sklearn/metrics/_ranking.py:1029: UndefinedMetricWarning: No positive samples in y_true, true positive value should be meaningless\n",
      "\u001b[36m(launch_and_evaluate pid=12618)\u001b[0m   warnings.warn(\n"
     ]
    },
    {
     "name": "stdout",
     "output_type": "stream",
     "text": [
      "\u001b[36m(launch_and_evaluate pid=12671)\u001b[0m Run with homomorphic encryption\u001b[32m [repeated 2x across cluster]\u001b[0m\n",
      "\u001b[36m(launch_and_evaluate pid=12618)\u001b[0m [Client 8] evaluate, config: {}\n",
      "\u001b[36m(launch_and_evaluate pid=12618)\u001b[0m Updated model\n",
      "\u001b[36m(launch_and_evaluate pid=12671)\u001b[0m [Client 7] evaluate, config: {}\n",
      "\u001b[36m(launch_and_evaluate pid=12671)\u001b[0m Updated model\n"
     ]
    },
    {
     "name": "stderr",
     "output_type": "stream",
     "text": [
      "\u001b[36m(launch_and_evaluate pid=12696)\u001b[0m /opt/conda/lib/python3.10/site-packages/sklearn/metrics/_ranking.py:1029: UndefinedMetricWarning: No positive samples in y_true, true positive value should be meaningless\n",
      "\u001b[36m(launch_and_evaluate pid=12696)\u001b[0m   warnings.warn(\n",
      "DEBUG flwr 2024-08-05 08:34:39,977 | server.py:187 | evaluate_round 15 received 10 results and 0 failures\n",
      "DEBUG flwr 2024-08-05 08:34:39,979 | server.py:222 | fit_round 16: strategy sampled 10 clients (out of 10)\n"
     ]
    },
    {
     "name": "stdout",
     "output_type": "stream",
     "text": [
      "\u001b[36m(launch_and_fit pid=12758)\u001b[0m Run with homomorphic encryption\u001b[32m [repeated 2x across cluster]\u001b[0m\n",
      "\u001b[36m(launch_and_evaluate pid=12696)\u001b[0m [Client 4] evaluate, config: {}\n",
      "\u001b[36m(launch_and_evaluate pid=12696)\u001b[0m Updated model\n",
      "\u001b[36m(launch_and_fit pid=12758)\u001b[0m [Client 6, round 16] fit, config: {'learning_rate': 0.003, 'batch_size': '32', 'server_round': 16, 'local_epochs': 10}\n",
      "\u001b[36m(launch_and_fit pid=12758)\u001b[0m Updated model\n"
     ]
    },
    {
     "name": "stderr",
     "output_type": "stream",
     "text": [
      "  0%|\u001b[34m          \u001b[0m| 0/10 [00:00<?, ?it/s]\n"
     ]
    },
    {
     "name": "stdout",
     "output_type": "stream",
     "text": [
      "\u001b[36m(launch_and_fit pid=12758)\u001b[0m \tTrain Epoch: 1 \tTrain_loss_mri: 0.1465 | Train_acc_mri: 94.3750 | Train_loss_dna: 1.2671 | Train_acc_dna: 59.2477 | Validation_loss_mri: 2.1060 | Validation_acc_mri: 47.9167 | Validation_loss_dna: 5.2578 | Validation_acc_dna: 29.1667\n",
      "\u001b[36m(launch_and_fit pid=12759)\u001b[0m Run with homomorphic encryption\n",
      "\u001b[36m(launch_and_fit pid=12759)\u001b[0m [Client 3, round 16] fit, config: {'learning_rate': 0.003, 'batch_size': '32', 'server_round': 16, 'local_epochs': 10}\n"
     ]
    },
    {
     "name": "stderr",
     "output_type": "stream",
     "text": [
      " 10%|\u001b[34m█         \u001b[0m| 1/10 [00:04<00:38,  4.25s/it]\n"
     ]
    },
    {
     "name": "stdout",
     "output_type": "stream",
     "text": [
      "\u001b[36m(launch_and_fit pid=12759)\u001b[0m Updated model\n"
     ]
    },
    {
     "name": "stderr",
     "output_type": "stream",
     "text": [
      "  0%|\u001b[34m          \u001b[0m| 0/10 [00:00<?, ?it/s]\n"
     ]
    },
    {
     "name": "stdout",
     "output_type": "stream",
     "text": [
      "\u001b[36m(launch_and_fit pid=12758)\u001b[0m \tTrain Epoch: 3 \tTrain_loss_mri: 0.0989 | Train_acc_mri: 97.1296 | Train_loss_dna: 0.7408 | Train_acc_dna: 70.9838 | Validation_loss_mri: 1.5568 | Validation_acc_mri: 67.7083 | Validation_loss_dna: 4.4216 | Validation_acc_dna: 44.2708\u001b[32m [repeated 4x across cluster]\u001b[0m\n"
     ]
    },
    {
     "name": "stderr",
     "output_type": "stream",
     "text": [
      " 30%|\u001b[34m███       \u001b[0m| 3/10 [00:11<00:26,  3.86s/it]\u001b[32m [repeated 4x across cluster]\u001b[0m\n"
     ]
    },
    {
     "name": "stdout",
     "output_type": "stream",
     "text": [
      "\u001b[36m(launch_and_fit pid=12758)\u001b[0m \tTrain Epoch: 5 \tTrain_loss_mri: 0.0426 | Train_acc_mri: 98.7500 | Train_loss_dna: 0.4261 | Train_acc_dna: 84.8264 | Validation_loss_mri: 1.7980 | Validation_acc_mri: 64.5833 | Validation_loss_dna: 5.1991 | Validation_acc_dna: 7.8125\u001b[32m [repeated 4x across cluster]\u001b[0m\n"
     ]
    },
    {
     "name": "stderr",
     "output_type": "stream",
     "text": [
      " 50%|\u001b[34m█████     \u001b[0m| 5/10 [00:19<00:19,  3.82s/it]\u001b[32m [repeated 4x across cluster]\u001b[0m\n",
      " 60%|\u001b[34m██████    \u001b[0m| 6/10 [00:24<00:16,  4.04s/it]\u001b[32m [repeated 3x across cluster]\u001b[0m\n"
     ]
    },
    {
     "name": "stdout",
     "output_type": "stream",
     "text": [
      "\u001b[36m(launch_and_fit pid=12759)\u001b[0m \tTrain Epoch: 6 \tTrain_loss_mri: 0.0138 | Train_acc_mri: 99.6875 | Train_loss_dna: 0.3962 | Train_acc_dna: 87.2106 | Validation_loss_mri: 0.6815 | Validation_acc_mri: 89.0625 | Validation_loss_dna: 5.1798 | Validation_acc_dna: 10.9375\u001b[32m [repeated 3x across cluster]\u001b[0m\n",
      "\u001b[36m(launch_and_fit pid=12758)\u001b[0m \tTrain Epoch: 8 \tTrain_loss_mri: 0.0406 | Train_acc_mri: 99.3750 | Train_loss_dna: 0.3169 | Train_acc_dna: 91.5856 | Validation_loss_mri: 1.7752 | Validation_acc_mri: 69.2708 | Validation_loss_dna: 5.8449 | Validation_acc_dna: 6.2500\u001b[32m [repeated 3x across cluster]\u001b[0m\n"
     ]
    },
    {
     "name": "stderr",
     "output_type": "stream",
     "text": [
      " 80%|\u001b[34m████████  \u001b[0m| 8/10 [00:30<00:07,  3.77s/it]\u001b[32m [repeated 3x across cluster]\u001b[0m\n",
      " 90%|\u001b[34m█████████ \u001b[0m| 9/10 [00:35<00:03,  3.89s/it]\u001b[32m [repeated 3x across cluster]\u001b[0m\n"
     ]
    },
    {
     "name": "stdout",
     "output_type": "stream",
     "text": [
      "\u001b[36m(launch_and_fit pid=12759)\u001b[0m \tTrain Epoch: 9 \tTrain_loss_mri: 0.0220 | Train_acc_mri: 99.3750 | Train_loss_dna: 0.3187 | Train_acc_dna: 90.8218 | Validation_loss_mri: 0.8389 | Validation_acc_mri: 87.5000 | Validation_loss_dna: 6.4767 | Validation_acc_dna: 10.9375\u001b[32m [repeated 3x across cluster]\u001b[0m\n",
      "\u001b[36m(launch_and_fit pid=12758)\u001b[0m save graph in  results/FL/\n",
      "\u001b[36m(launch_and_fit pid=12758)\u001b[0m mri_net.features.0.weight 5.7220458984375e-06\n",
      "\u001b[36m(launch_and_fit pid=12758)\u001b[0m mri_net.features.0.bias 2.1457672119140625e-06\n",
      "\u001b[36m(launch_and_fit pid=12758)\u001b[0m mri_net.features.3.weight 1.430511474609375e-06\n",
      "\u001b[36m(launch_and_fit pid=12758)\u001b[0m mri_net.features.3.bias 1.1920928955078125e-06\n",
      "\u001b[36m(launch_and_fit pid=12758)\u001b[0m mri_net.classifier.0.weight 1.6689300537109375e-06\n",
      "\u001b[36m(launch_and_fit pid=12758)\u001b[0m mri_net.classifier.0.bias 1.430511474609375e-06\n",
      "\u001b[36m(launch_and_fit pid=12758)\u001b[0m mri_net.classifier.2.weight 1.1920928955078125e-06\n",
      "\u001b[36m(launch_and_fit pid=12758)\u001b[0m mri_net.classifier.2.bias 1.1920928955078125e-06\n",
      "\u001b[36m(launch_and_fit pid=12758)\u001b[0m mri_net.classifier.3.weights 1.430511474609375e-06\n",
      "\u001b[36m(launch_and_fit pid=12758)\u001b[0m dna_net.fc1.weight 1.1920928955078125e-06\n",
      "\u001b[36m(launch_and_fit pid=12758)\u001b[0m dna_net.fc1.bias 1.1920928955078125e-06\n",
      "\u001b[36m(launch_and_fit pid=12758)\u001b[0m dna_net.fc2.weight 1.430511474609375e-06\n",
      "\u001b[36m(launch_and_fit pid=12758)\u001b[0m dna_net.fc2.bias 1.1920928955078125e-06\n",
      "\u001b[36m(launch_and_fit pid=12758)\u001b[0m dna_net.fc3.weight 1.1920928955078125e-06\n",
      "\u001b[36m(launch_and_fit pid=12758)\u001b[0m dna_net.fc3.bias 1.430511474609375e-06\n",
      "\u001b[36m(launch_and_fit pid=12758)\u001b[0m dna_net.fc4.weight 1.1920928955078125e-06\n",
      "\u001b[36m(launch_and_fit pid=12758)\u001b[0m dna_net.fc4.bias 1.1920928955078125e-06\n",
      "\u001b[36m(launch_and_fit pid=12758)\u001b[0m dna_net.qnn.weights 1.430511474609375e-06\n",
      "\u001b[36m(launch_and_fit pid=12758)\u001b[0m attention.in_proj_weight 1.1920928955078125e-06\n",
      "\u001b[36m(launch_and_fit pid=12758)\u001b[0m attention.in_proj_bias 1.1920928955078125e-06\n",
      "\u001b[36m(launch_and_fit pid=12758)\u001b[0m attention.out_proj.weight 1.6689300537109375e-06\n",
      "\u001b[36m(launch_and_fit pid=12758)\u001b[0m attention.out_proj.bias 1.1920928955078125e-06\n",
      "\u001b[36m(launch_and_fit pid=12758)\u001b[0m fc1.weight 1.430511474609375e-06\n",
      "\u001b[36m(launch_and_fit pid=12758)\u001b[0m fc1.bias 1.430511474609375e-06\n",
      "\u001b[36m(launch_and_fit pid=12758)\u001b[0m fc2_mri.weight 1.430511474609375e-06\n",
      "\u001b[36m(launch_and_fit pid=12758)\u001b[0m fc2_mri.bias 1.1920928955078125e-06\n",
      "\u001b[36m(launch_and_fit pid=12758)\u001b[0m fc2_dna.weight 1.430511474609375e-06\n",
      "\u001b[36m(launch_and_fit pid=12758)\u001b[0m fc2_dna.bias 9.5367431640625e-07\n",
      "\u001b[36m(launch_and_fit pid=12840)\u001b[0m Run with homomorphic encryption\n",
      "\u001b[36m(launch_and_fit pid=12759)\u001b[0m \tTrain Epoch: 10 \tTrain_loss_mri: 0.0309 | Train_acc_mri: 98.3796 | Train_loss_dna: 0.3016 | Train_acc_dna: 90.5093 | Validation_loss_mri: 0.9100 | Validation_acc_mri: 89.0625 | Validation_loss_dna: 6.7158 | Validation_acc_dna: 10.9375\u001b[32m [repeated 2x across cluster]\u001b[0m\n",
      "\u001b[36m(launch_and_fit pid=12759)\u001b[0m save graph in  results/FL/\n",
      "\u001b[36m(launch_and_fit pid=12759)\u001b[0m fc2_dna.bias 1.6689300537109375e-06\u001b[32m [repeated 23x across cluster]\u001b[0m\n",
      "\u001b[36m(launch_and_fit pid=12759)\u001b[0m dna_net.qnn.weights 1.6689300537109375e-06\n",
      "\u001b[36m(launch_and_fit pid=12759)\u001b[0m attention.in_proj_weight 1.6689300537109375e-06\n",
      "\u001b[36m(launch_and_fit pid=12759)\u001b[0m attention.in_proj_bias 1.430511474609375e-06\n",
      "\u001b[36m(launch_and_fit pid=12759)\u001b[0m attention.out_proj.weight 1.430511474609375e-06\n",
      "\u001b[36m(launch_and_fit pid=12759)\u001b[0m attention.out_proj.bias 1.430511474609375e-06\n",
      "\u001b[36m(launch_and_fit pid=12840)\u001b[0m [Client 1, round 16] fit, config: {'learning_rate': 0.003, 'batch_size': '32', 'server_round': 16, 'local_epochs': 10}\n"
     ]
    },
    {
     "name": "stderr",
     "output_type": "stream",
     "text": [
      "  0%|\u001b[34m          \u001b[0m| 0/10 [00:00<?, ?it/s]\n",
      "100%|\u001b[34m██████████\u001b[0m| 10/10 [00:39<00:00,  3.95s/it]\u001b[32m [repeated 2x across cluster]\u001b[0m\n"
     ]
    },
    {
     "name": "stdout",
     "output_type": "stream",
     "text": [
      "\u001b[36m(launch_and_fit pid=12840)\u001b[0m Updated model\n",
      "\u001b[36m(launch_and_fit pid=12865)\u001b[0m Run with homomorphic encryption\n",
      "\u001b[36m(launch_and_fit pid=12840)\u001b[0m \tTrain Epoch: 1 \tTrain_loss_mri: 0.1424 | Train_acc_mri: 95.9375 | Train_loss_dna: 1.5801 | Train_acc_dna: 50.4398 | Validation_loss_mri: 0.6567 | Validation_acc_mri: 60.4167 | Validation_loss_dna: 4.4644 | Validation_acc_dna: 7.8125\n",
      "\u001b[36m(launch_and_fit pid=12865)\u001b[0m [Client 9, round 16] fit, config: {'learning_rate': 0.003, 'batch_size': '32', 'server_round': 16, 'local_epochs': 10}\n"
     ]
    },
    {
     "name": "stderr",
     "output_type": "stream",
     "text": [
      "  0%|\u001b[34m          \u001b[0m| 0/10 [00:00<?, ?it/s]\n",
      " 10%|\u001b[34m█         \u001b[0m| 1/10 [00:04<00:40,  4.48s/it]\u001b[32m [repeated 2x across cluster]\u001b[0m\n"
     ]
    },
    {
     "name": "stdout",
     "output_type": "stream",
     "text": [
      "\u001b[36m(launch_and_fit pid=12865)\u001b[0m Updated model\n",
      "\u001b[36m(launch_and_fit pid=12865)\u001b[0m \tTrain Epoch: 2 \tTrain_loss_mri: 0.4738 | Train_acc_mri: 84.9698 | Train_loss_dna: 1.2981 | Train_acc_dna: 54.2339 | Validation_loss_mri: 0.3887 | Validation_acc_mri: 90.6250 | Validation_loss_dna: 3.1269 | Validation_acc_dna: 39.5833\u001b[32m [repeated 3x across cluster]\u001b[0m\n"
     ]
    },
    {
     "name": "stderr",
     "output_type": "stream",
     "text": [
      " 30%|\u001b[34m███       \u001b[0m| 3/10 [00:11<00:26,  3.85s/it]\u001b[32m [repeated 3x across cluster]\u001b[0m\n"
     ]
    },
    {
     "name": "stdout",
     "output_type": "stream",
     "text": [
      "\u001b[36m(launch_and_fit pid=12840)\u001b[0m \tTrain Epoch: 4 \tTrain_loss_mri: 0.1081 | Train_acc_mri: 96.5046 | Train_loss_dna: 0.5727 | Train_acc_dna: 78.0903 | Validation_loss_mri: 1.3841 | Validation_acc_mri: 60.4167 | Validation_loss_dna: 5.5360 | Validation_acc_dna: 10.9375\u001b[32m [repeated 3x across cluster]\u001b[0m\n"
     ]
    },
    {
     "name": "stderr",
     "output_type": "stream",
     "text": [
      " 40%|\u001b[34m████      \u001b[0m| 4/10 [00:15<00:23,  3.88s/it]\u001b[32m [repeated 3x across cluster]\u001b[0m\n"
     ]
    },
    {
     "name": "stdout",
     "output_type": "stream",
     "text": [
      "\u001b[36m(launch_and_fit pid=12865)\u001b[0m \tTrain Epoch: 5 \tTrain_loss_mri: 0.0414 | Train_acc_mri: 99.0524 | Train_loss_dna: 0.5504 | Train_acc_dna: 79.6472 | Validation_loss_mri: 0.3332 | Validation_acc_mri: 93.7500 | Validation_loss_dna: 3.1943 | Validation_acc_dna: 27.6042\u001b[32m [repeated 3x across cluster]\u001b[0m\n"
     ]
    },
    {
     "name": "stderr",
     "output_type": "stream",
     "text": [
      " 60%|\u001b[34m██████    \u001b[0m| 6/10 [00:23<00:15,  3.82s/it]\u001b[32m [repeated 4x across cluster]\u001b[0m\n"
     ]
    },
    {
     "name": "stdout",
     "output_type": "stream",
     "text": [
      "\u001b[36m(launch_and_fit pid=12865)\u001b[0m \tTrain Epoch: 7 \tTrain_loss_mri: 0.0311 | Train_acc_mri: 99.6875 | Train_loss_dna: 0.3976 | Train_acc_dna: 87.4899 | Validation_loss_mri: 0.3553 | Validation_acc_mri: 92.1875 | Validation_loss_dna: 3.4570 | Validation_acc_dna: 44.2708\u001b[32m [repeated 4x across cluster]\u001b[0m\n"
     ]
    },
    {
     "name": "stderr",
     "output_type": "stream",
     "text": [
      " 80%|\u001b[34m████████  \u001b[0m| 8/10 [00:30<00:07,  3.79s/it]\u001b[32m [repeated 4x across cluster]\u001b[0m\n"
     ]
    },
    {
     "name": "stdout",
     "output_type": "stream",
     "text": [
      "\u001b[36m(launch_and_fit pid=12865)\u001b[0m \tTrain Epoch: 9 \tTrain_loss_mri: 0.0183 | Train_acc_mri: 99.6875 | Train_loss_dna: 0.3804 | Train_acc_dna: 88.7298 | Validation_loss_mri: 0.3273 | Validation_acc_mri: 92.1875 | Validation_loss_dna: 4.3168 | Validation_acc_dna: 44.2708\u001b[32m [repeated 4x across cluster]\u001b[0m\n",
      "\u001b[36m(launch_and_fit pid=12840)\u001b[0m save graph in  results/FL/\n",
      "\u001b[36m(launch_and_fit pid=12840)\u001b[0m mri_net.features.0.weight 5.0067901611328125e-06\n",
      "\u001b[36m(launch_and_fit pid=12840)\u001b[0m mri_net.features.0.bias 1.6689300537109375e-06\n",
      "\u001b[36m(launch_and_fit pid=12840)\u001b[0m mri_net.features.3.weight 9.5367431640625e-07\n",
      "\u001b[36m(launch_and_fit pid=12840)\u001b[0m mri_net.features.3.bias 1.1920928955078125e-06\n",
      "\u001b[36m(launch_and_fit pid=12840)\u001b[0m mri_net.classifier.0.weight 1.430511474609375e-06\n",
      "\u001b[36m(launch_and_fit pid=12840)\u001b[0m mri_net.classifier.0.bias 1.1920928955078125e-06\n",
      "\u001b[36m(launch_and_fit pid=12840)\u001b[0m mri_net.classifier.2.weight 9.5367431640625e-07\n",
      "\u001b[36m(launch_and_fit pid=12840)\u001b[0m mri_net.classifier.2.bias 1.1920928955078125e-06\n",
      "\u001b[36m(launch_and_fit pid=12840)\u001b[0m mri_net.classifier.3.weights 1.430511474609375e-06\n",
      "\u001b[36m(launch_and_fit pid=12840)\u001b[0m dna_net.fc1.weight 1.1920928955078125e-06\n",
      "\u001b[36m(launch_and_fit pid=12840)\u001b[0m dna_net.fc1.bias 1.1920928955078125e-06\n",
      "\u001b[36m(launch_and_fit pid=12840)\u001b[0m dna_net.fc2.weight 1.1920928955078125e-06\n",
      "\u001b[36m(launch_and_fit pid=12840)\u001b[0m dna_net.fc2.bias 9.5367431640625e-07\n",
      "\u001b[36m(launch_and_fit pid=12840)\u001b[0m dna_net.fc3.weight 9.5367431640625e-07\n",
      "\u001b[36m(launch_and_fit pid=12840)\u001b[0m dna_net.fc3.bias 1.430511474609375e-06\n",
      "\u001b[36m(launch_and_fit pid=12840)\u001b[0m dna_net.fc4.weight 9.5367431640625e-07\n",
      "\u001b[36m(launch_and_fit pid=12840)\u001b[0m dna_net.fc4.bias 1.1920928955078125e-06\n",
      "\u001b[36m(launch_and_fit pid=12840)\u001b[0m dna_net.qnn.weights 1.430511474609375e-06\n",
      "\u001b[36m(launch_and_fit pid=12840)\u001b[0m attention.in_proj_weight 9.5367431640625e-07\n",
      "\u001b[36m(launch_and_fit pid=12840)\u001b[0m attention.in_proj_bias 9.5367431640625e-07\n",
      "\u001b[36m(launch_and_fit pid=12840)\u001b[0m attention.out_proj.weight 1.6689300537109375e-06\n",
      "\u001b[36m(launch_and_fit pid=12840)\u001b[0m attention.out_proj.bias 3.5762786865234375e-06\n",
      "\u001b[36m(launch_and_fit pid=12840)\u001b[0m fc1.weight 2.1457672119140625e-06\n",
      "\u001b[36m(launch_and_fit pid=12840)\u001b[0m fc1.bias 9.5367431640625e-07\n",
      "\u001b[36m(launch_and_fit pid=12840)\u001b[0m fc2_mri.weight 1.1920928955078125e-06\n",
      "\u001b[36m(launch_and_fit pid=12840)\u001b[0m fc2_mri.bias 1.5735626220703125e-05\n",
      "\u001b[36m(launch_and_fit pid=12840)\u001b[0m fc2_dna.weight 1.430511474609375e-06\n",
      "\u001b[36m(launch_and_fit pid=12840)\u001b[0m fc2_dna.bias 9.5367431640625e-07\n"
     ]
    },
    {
     "name": "stderr",
     "output_type": "stream",
     "text": [
      "100%|\u001b[34m██████████\u001b[0m| 10/10 [00:38<00:00,  3.88s/it]\u001b[32m [repeated 4x across cluster]\u001b[0m\n"
     ]
    },
    {
     "name": "stdout",
     "output_type": "stream",
     "text": [
      "\u001b[36m(launch_and_fit pid=12922)\u001b[0m Run with homomorphic encryption\n",
      "\u001b[36m(launch_and_fit pid=12865)\u001b[0m \tTrain Epoch: 10 \tTrain_loss_mri: 0.0333 | Train_acc_mri: 99.3750 | Train_loss_dna: 0.3394 | Train_acc_dna: 90.9073 | Validation_loss_mri: 0.4810 | Validation_acc_mri: 85.9375 | Validation_loss_dna: 4.2454 | Validation_acc_dna: 41.1458\u001b[32m [repeated 2x across cluster]\u001b[0m\n",
      "\u001b[36m(launch_and_fit pid=12865)\u001b[0m save graph in  results/FL/\n",
      "\u001b[36m(launch_and_fit pid=12865)\u001b[0m fc2_dna.bias 1.430511474609375e-06\u001b[32m [repeated 23x across cluster]\u001b[0m\n",
      "\u001b[36m(launch_and_fit pid=12865)\u001b[0m dna_net.qnn.weights 1.430511474609375e-06\n",
      "\u001b[36m(launch_and_fit pid=12865)\u001b[0m attention.in_proj_weight 2.1457672119140625e-06\n",
      "\u001b[36m(launch_and_fit pid=12865)\u001b[0m attention.in_proj_bias 1.6689300537109375e-06\n",
      "\u001b[36m(launch_and_fit pid=12865)\u001b[0m attention.out_proj.weight 1.430511474609375e-06\n",
      "\u001b[36m(launch_and_fit pid=12865)\u001b[0m attention.out_proj.bias 1.6689300537109375e-06\n",
      "\u001b[36m(launch_and_fit pid=12922)\u001b[0m [Client 4, round 16] fit, config: {'learning_rate': 0.003, 'batch_size': '32', 'server_round': 16, 'local_epochs': 10}\n",
      "\u001b[36m(launch_and_fit pid=12922)\u001b[0m Updated model\n"
     ]
    },
    {
     "name": "stderr",
     "output_type": "stream",
     "text": [
      "  0%|\u001b[34m          \u001b[0m| 0/10 [00:00<?, ?it/s]\n"
     ]
    },
    {
     "name": "stdout",
     "output_type": "stream",
     "text": [
      "\u001b[36m(launch_and_fit pid=12947)\u001b[0m Run with homomorphic encryption\n",
      "\u001b[36m(launch_and_fit pid=12947)\u001b[0m [Client 8, round 16] fit, config: {'learning_rate': 0.003, 'batch_size': '32', 'server_round': 16, 'local_epochs': 10}\n",
      "\u001b[36m(launch_and_fit pid=12922)\u001b[0m \tTrain Epoch: 1 \tTrain_loss_mri: 0.0707 | Train_acc_mri: 98.0671 | Train_loss_dna: 1.3352 | Train_acc_dna: 55.1273 | Validation_loss_mri: 2.5772 | Validation_acc_mri: 67.7083 | Validation_loss_dna: 2.2045 | Validation_acc_dna: 17.1875\n"
     ]
    },
    {
     "name": "stderr",
     "output_type": "stream",
     "text": [
      " 10%|\u001b[34m█         \u001b[0m| 1/10 [00:04<00:38,  4.23s/it]\n"
     ]
    },
    {
     "name": "stdout",
     "output_type": "stream",
     "text": [
      "\u001b[36m(launch_and_fit pid=12947)\u001b[0m Updated model\n"
     ]
    },
    {
     "name": "stderr",
     "output_type": "stream",
     "text": [
      "  0%|\u001b[34m          \u001b[0m| 0/10 [00:00<?, ?it/s]\n"
     ]
    },
    {
     "name": "stdout",
     "output_type": "stream",
     "text": [
      "\u001b[36m(launch_and_fit pid=12947)\u001b[0m \tTrain Epoch: 2 \tTrain_loss_mri: 0.3695 | Train_acc_mri: 91.5278 | Train_loss_dna: 1.0943 | Train_acc_dna: 62.8241 | Validation_loss_mri: 0.8085 | Validation_acc_mri: 89.0625 | Validation_loss_dna: 2.6982 | Validation_acc_dna: 45.8333\u001b[32m [repeated 3x across cluster]\u001b[0m\n"
     ]
    },
    {
     "name": "stderr",
     "output_type": "stream",
     "text": [
      " 20%|\u001b[34m██        \u001b[0m| 2/10 [00:08<00:31,  4.00s/it]\u001b[32m [repeated 3x across cluster]\u001b[0m\n"
     ]
    },
    {
     "name": "stdout",
     "output_type": "stream",
     "text": [
      "\u001b[36m(launch_and_fit pid=12947)\u001b[0m \tTrain Epoch: 4 \tTrain_loss_mri: 0.1122 | Train_acc_mri: 96.2500 | Train_loss_dna: 0.6097 | Train_acc_dna: 78.5185 | Validation_loss_mri: 0.8671 | Validation_acc_mri: 92.1875 | Validation_loss_dna: 2.6394 | Validation_acc_dna: 57.8125\u001b[32m [repeated 4x across cluster]\u001b[0m\n"
     ]
    },
    {
     "name": "stderr",
     "output_type": "stream",
     "text": [
      " 40%|\u001b[34m████      \u001b[0m| 4/10 [00:15<00:23,  3.94s/it]\u001b[32m [repeated 4x across cluster]\u001b[0m\n"
     ]
    },
    {
     "name": "stdout",
     "output_type": "stream",
     "text": [
      "\u001b[36m(launch_and_fit pid=12947)\u001b[0m \tTrain Epoch: 6 \tTrain_loss_mri: 0.0793 | Train_acc_mri: 98.7500 | Train_loss_dna: 0.4038 | Train_acc_dna: 85.2199 | Validation_loss_mri: 0.9204 | Validation_acc_mri: 87.5000 | Validation_loss_dna: 2.6645 | Validation_acc_dna: 57.8125\u001b[32m [repeated 4x across cluster]\u001b[0m\n"
     ]
    },
    {
     "name": "stderr",
     "output_type": "stream",
     "text": [
      " 60%|\u001b[34m██████    \u001b[0m| 6/10 [00:23<00:15,  3.83s/it]\u001b[32m [repeated 4x across cluster]\u001b[0m\n"
     ]
    },
    {
     "name": "stdout",
     "output_type": "stream",
     "text": [
      "\u001b[36m(launch_and_fit pid=12947)\u001b[0m \tTrain Epoch: 8 \tTrain_loss_mri: 0.0181 | Train_acc_mri: 100.0000 | Train_loss_dna: 0.3288 | Train_acc_dna: 89.5139 | Validation_loss_mri: 1.1373 | Validation_acc_mri: 90.6250 | Validation_loss_dna: 3.1031 | Validation_acc_dna: 60.9375\u001b[32m [repeated 4x across cluster]\u001b[0m\n"
     ]
    },
    {
     "name": "stderr",
     "output_type": "stream",
     "text": [
      " 80%|\u001b[34m████████  \u001b[0m| 8/10 [00:31<00:07,  3.80s/it]\u001b[32m [repeated 4x across cluster]\u001b[0m\n"
     ]
    },
    {
     "name": "stdout",
     "output_type": "stream",
     "text": [
      "\u001b[36m(launch_and_fit pid=12922)\u001b[0m save graph in  results/FL/\n",
      "\u001b[36m(launch_and_fit pid=12922)\u001b[0m mri_net.features.0.weight 5.0067901611328125e-06\n",
      "\u001b[36m(launch_and_fit pid=12922)\u001b[0m mri_net.features.0.bias 1.430511474609375e-06\n",
      "\u001b[36m(launch_and_fit pid=12922)\u001b[0m mri_net.features.3.weight 9.5367431640625e-07\n",
      "\u001b[36m(launch_and_fit pid=12922)\u001b[0m mri_net.features.3.bias 9.5367431640625e-07\n",
      "\u001b[36m(launch_and_fit pid=12922)\u001b[0m mri_net.classifier.0.weight 1.1920928955078125e-06\n",
      "\u001b[36m(launch_and_fit pid=12922)\u001b[0m mri_net.classifier.0.bias 9.5367431640625e-07\n",
      "\u001b[36m(launch_and_fit pid=12922)\u001b[0m mri_net.classifier.2.weight 9.5367431640625e-07\n",
      "\u001b[36m(launch_and_fit pid=12922)\u001b[0m mri_net.classifier.2.bias 1.1920928955078125e-06\n",
      "\u001b[36m(launch_and_fit pid=12922)\u001b[0m mri_net.classifier.3.weights 1.1920928955078125e-06\n",
      "\u001b[36m(launch_and_fit pid=12922)\u001b[0m dna_net.fc1.weight 9.5367431640625e-07\n",
      "\u001b[36m(launch_and_fit pid=12922)\u001b[0m dna_net.fc1.bias 9.5367431640625e-07\n",
      "\u001b[36m(launch_and_fit pid=12922)\u001b[0m dna_net.fc2.weight 1.1920928955078125e-06\n",
      "\u001b[36m(launch_and_fit pid=12922)\u001b[0m dna_net.fc2.bias 9.5367431640625e-07\n",
      "\u001b[36m(launch_and_fit pid=12922)\u001b[0m dna_net.fc3.weight 9.5367431640625e-07\n",
      "\u001b[36m(launch_and_fit pid=12922)\u001b[0m dna_net.fc3.bias 1.1920928955078125e-06\n",
      "\u001b[36m(launch_and_fit pid=12922)\u001b[0m dna_net.fc4.weight 9.5367431640625e-07\n",
      "\u001b[36m(launch_and_fit pid=12922)\u001b[0m dna_net.fc4.bias 9.5367431640625e-07\n",
      "\u001b[36m(launch_and_fit pid=12922)\u001b[0m dna_net.qnn.weights 1.1920928955078125e-06\n",
      "\u001b[36m(launch_and_fit pid=12922)\u001b[0m attention.in_proj_weight 7.152557373046875e-07\n",
      "\u001b[36m(launch_and_fit pid=12922)\u001b[0m attention.in_proj_bias 9.5367431640625e-07\n",
      "\u001b[36m(launch_and_fit pid=12922)\u001b[0m attention.out_proj.weight 7.152557373046875e-07\n",
      "\u001b[36m(launch_and_fit pid=12922)\u001b[0m attention.out_proj.bias 1.1920928955078125e-06\n",
      "\u001b[36m(launch_and_fit pid=12922)\u001b[0m fc1.weight 9.5367431640625e-07\n",
      "\u001b[36m(launch_and_fit pid=12922)\u001b[0m fc1.bias 9.5367431640625e-07\n",
      "\u001b[36m(launch_and_fit pid=12922)\u001b[0m fc2_mri.weight 1.1920928955078125e-06\n",
      "\u001b[36m(launch_and_fit pid=12922)\u001b[0m fc2_mri.bias 1.1920928955078125e-06\n",
      "\u001b[36m(launch_and_fit pid=12922)\u001b[0m fc2_dna.weight 9.5367431640625e-07\n",
      "\u001b[36m(launch_and_fit pid=12922)\u001b[0m fc2_dna.bias 9.5367431640625e-07\n",
      "\u001b[36m(launch_and_fit pid=12947)\u001b[0m \tTrain Epoch: 10 \tTrain_loss_mri: 0.0419 | Train_acc_mri: 98.7500 | Train_loss_dna: 0.2502 | Train_acc_dna: 93.4375 | Validation_loss_mri: 1.1279 | Validation_acc_mri: 89.0625 | Validation_loss_dna: 3.3326 | Validation_acc_dna: 60.9375\u001b[32m [repeated 4x across cluster]\u001b[0m\n"
     ]
    },
    {
     "name": "stderr",
     "output_type": "stream",
     "text": [
      "100%|\u001b[34m██████████\u001b[0m| 10/10 [00:39<00:00,  3.91s/it]\u001b[32m [repeated 4x across cluster]\u001b[0m\n"
     ]
    },
    {
     "name": "stdout",
     "output_type": "stream",
     "text": [
      "\u001b[36m(launch_and_fit pid=13004)\u001b[0m Run with homomorphic encryption\n",
      "\u001b[36m(launch_and_fit pid=12947)\u001b[0m save graph in  results/FL/\n",
      "\u001b[36m(launch_and_fit pid=12947)\u001b[0m fc2_dna.bias 9.5367431640625e-07\u001b[32m [repeated 23x across cluster]\u001b[0m\n",
      "\u001b[36m(launch_and_fit pid=12947)\u001b[0m dna_net.qnn.weights 9.5367431640625e-07\n",
      "\u001b[36m(launch_and_fit pid=12947)\u001b[0m attention.in_proj_weight 9.5367431640625e-07\n",
      "\u001b[36m(launch_and_fit pid=12947)\u001b[0m attention.in_proj_bias 9.5367431640625e-07\n",
      "\u001b[36m(launch_and_fit pid=12947)\u001b[0m attention.out_proj.weight 1.1920928955078125e-06\n",
      "\u001b[36m(launch_and_fit pid=12947)\u001b[0m attention.out_proj.bias 1.1920928955078125e-06\n",
      "\u001b[36m(launch_and_fit pid=13004)\u001b[0m [Client 7, round 16] fit, config: {'learning_rate': 0.003, 'batch_size': '32', 'server_round': 16, 'local_epochs': 10}\n"
     ]
    },
    {
     "name": "stderr",
     "output_type": "stream",
     "text": [
      "  0%|\u001b[34m          \u001b[0m| 0/10 [00:00<?, ?it/s]\n"
     ]
    },
    {
     "name": "stdout",
     "output_type": "stream",
     "text": [
      "\u001b[36m(launch_and_fit pid=13004)\u001b[0m Updated model\n",
      "\u001b[36m(launch_and_fit pid=13029)\u001b[0m Run with homomorphic encryption\n",
      "\u001b[36m(launch_and_fit pid=13029)\u001b[0m [Client 0, round 16] fit, config: {'learning_rate': 0.003, 'batch_size': '32', 'server_round': 16, 'local_epochs': 10}\n"
     ]
    },
    {
     "name": "stderr",
     "output_type": "stream",
     "text": [
      " 10%|\u001b[34m█         \u001b[0m| 1/10 [00:04<00:37,  4.18s/it]\n"
     ]
    },
    {
     "name": "stdout",
     "output_type": "stream",
     "text": [
      "\u001b[36m(launch_and_fit pid=13004)\u001b[0m \tTrain Epoch: 1 \tTrain_loss_mri: 0.1900 | Train_acc_mri: 93.6921 | Train_loss_dna: 1.3553 | Train_acc_dna: 54.1898 | Validation_loss_mri: 1.2429 | Validation_acc_mri: 78.6458 | Validation_loss_dna: 2.6501 | Validation_acc_dna: 65.6250\n"
     ]
    },
    {
     "name": "stderr",
     "output_type": "stream",
     "text": [
      " 20%|\u001b[34m██        \u001b[0m| 2/10 [00:07<00:31,  3.90s/it]\n",
      "  0%|\u001b[34m          \u001b[0m| 0/10 [00:00<?, ?it/s]\n"
     ]
    },
    {
     "name": "stdout",
     "output_type": "stream",
     "text": [
      "\u001b[36m(launch_and_fit pid=13004)\u001b[0m \tTrain Epoch: 2 \tTrain_loss_mri: 0.3836 | Train_acc_mri: 89.8264 | Train_loss_dna: 1.2971 | Train_acc_dna: 57.5463 | Validation_loss_mri: 1.4274 | Validation_acc_mri: 70.8333 | Validation_loss_dna: 2.6712 | Validation_acc_dna: 9.3750\n",
      "\u001b[36m(launch_and_fit pid=13029)\u001b[0m Updated model\n"
     ]
    },
    {
     "name": "stderr",
     "output_type": "stream",
     "text": [
      " 30%|\u001b[34m███       \u001b[0m| 3/10 [00:11<00:26,  3.81s/it]\u001b[32m [repeated 2x across cluster]\u001b[0m\n"
     ]
    },
    {
     "name": "stdout",
     "output_type": "stream",
     "text": [
      "\u001b[36m(launch_and_fit pid=13004)\u001b[0m \tTrain Epoch: 3 \tTrain_loss_mri: 0.1206 | Train_acc_mri: 95.9375 | Train_loss_dna: 0.9259 | Train_acc_dna: 66.6088 | Validation_loss_mri: 1.6203 | Validation_acc_mri: 77.0833 | Validation_loss_dna: 2.4826 | Validation_acc_dna: 50.5208\u001b[32m [repeated 2x across cluster]\u001b[0m\n"
     ]
    },
    {
     "name": "stderr",
     "output_type": "stream",
     "text": [
      " 50%|\u001b[34m█████     \u001b[0m| 5/10 [00:19<00:18,  3.75s/it]\u001b[32m [repeated 4x across cluster]\u001b[0m\n"
     ]
    },
    {
     "name": "stdout",
     "output_type": "stream",
     "text": [
      "\u001b[36m(launch_and_fit pid=13004)\u001b[0m \tTrain Epoch: 5 \tTrain_loss_mri: 0.0370 | Train_acc_mri: 98.7500 | Train_loss_dna: 0.5993 | Train_acc_dna: 78.4028 | Validation_loss_mri: 0.8444 | Validation_acc_mri: 78.6458 | Validation_loss_dna: 2.7280 | Validation_acc_dna: 44.2708\u001b[32m [repeated 4x across cluster]\u001b[0m\n"
     ]
    },
    {
     "name": "stderr",
     "output_type": "stream",
     "text": [
      " 70%|\u001b[34m███████   \u001b[0m| 7/10 [00:26<00:11,  3.88s/it]\u001b[32m [repeated 4x across cluster]\u001b[0m\n"
     ]
    },
    {
     "name": "stdout",
     "output_type": "stream",
     "text": [
      "\u001b[36m(launch_and_fit pid=13004)\u001b[0m \tTrain Epoch: 7 \tTrain_loss_mri: 0.0386 | Train_acc_mri: 98.4375 | Train_loss_dna: 0.4227 | Train_acc_dna: 86.4468 | Validation_loss_mri: 1.1532 | Validation_acc_mri: 78.6458 | Validation_loss_dna: 2.9099 | Validation_acc_dna: 45.8333\u001b[32m [repeated 4x across cluster]\u001b[0m\n"
     ]
    },
    {
     "name": "stderr",
     "output_type": "stream",
     "text": [
      " 90%|\u001b[34m█████████ \u001b[0m| 9/10 [00:34<00:03,  3.78s/it]\u001b[32m [repeated 4x across cluster]\u001b[0m\n"
     ]
    },
    {
     "name": "stdout",
     "output_type": "stream",
     "text": [
      "\u001b[36m(launch_and_fit pid=13004)\u001b[0m \tTrain Epoch: 9 \tTrain_loss_mri: 0.0160 | Train_acc_mri: 100.0000 | Train_loss_dna: 0.3477 | Train_acc_dna: 90.3356 | Validation_loss_mri: 1.0021 | Validation_acc_mri: 78.6458 | Validation_loss_dna: 3.3096 | Validation_acc_dna: 41.1458\u001b[32m [repeated 4x across cluster]\u001b[0m\n",
      "\u001b[36m(launch_and_fit pid=13004)\u001b[0m save graph in  results/FL/\n",
      "\u001b[36m(launch_and_fit pid=13004)\u001b[0m mri_net.features.0.weight 5.245208740234375e-06\n",
      "\u001b[36m(launch_and_fit pid=13004)\u001b[0m mri_net.features.0.bias 1.6689300537109375e-06\n",
      "\u001b[36m(launch_and_fit pid=13004)\u001b[0m mri_net.features.3.weight 1.1920928955078125e-06\n",
      "\u001b[36m(launch_and_fit pid=13004)\u001b[0m mri_net.features.3.bias 1.1920928955078125e-06\n",
      "\u001b[36m(launch_and_fit pid=13004)\u001b[0m mri_net.classifier.0.weight 1.1920928955078125e-06\n",
      "\u001b[36m(launch_and_fit pid=13004)\u001b[0m mri_net.classifier.0.bias 9.5367431640625e-07\n",
      "\u001b[36m(launch_and_fit pid=13004)\u001b[0m mri_net.classifier.2.weight 9.5367431640625e-07\n",
      "\u001b[36m(launch_and_fit pid=13004)\u001b[0m mri_net.classifier.2.bias 9.5367431640625e-07\n",
      "\u001b[36m(launch_and_fit pid=13004)\u001b[0m mri_net.classifier.3.weights 1.430511474609375e-06\n",
      "\u001b[36m(launch_and_fit pid=13004)\u001b[0m dna_net.fc1.weight 1.1920928955078125e-06\n",
      "\u001b[36m(launch_and_fit pid=13004)\u001b[0m dna_net.fc1.bias 9.5367431640625e-07\n",
      "\u001b[36m(launch_and_fit pid=13004)\u001b[0m dna_net.fc2.weight 9.5367431640625e-07\n",
      "\u001b[36m(launch_and_fit pid=13004)\u001b[0m dna_net.fc2.bias 1.1920928955078125e-06\n",
      "\u001b[36m(launch_and_fit pid=13004)\u001b[0m dna_net.fc3.weight 9.5367431640625e-07\n",
      "\u001b[36m(launch_and_fit pid=13004)\u001b[0m dna_net.fc3.bias 9.5367431640625e-07\n",
      "\u001b[36m(launch_and_fit pid=13004)\u001b[0m dna_net.fc4.weight 9.5367431640625e-07\n",
      "\u001b[36m(launch_and_fit pid=13004)\u001b[0m dna_net.fc4.bias 1.1920928955078125e-06\n",
      "\u001b[36m(launch_and_fit pid=13004)\u001b[0m dna_net.qnn.weights 9.5367431640625e-07\n",
      "\u001b[36m(launch_and_fit pid=13004)\u001b[0m attention.in_proj_weight 9.5367431640625e-07\n",
      "\u001b[36m(launch_and_fit pid=13004)\u001b[0m attention.in_proj_bias 1.1920928955078125e-06\n",
      "\u001b[36m(launch_and_fit pid=13004)\u001b[0m attention.out_proj.weight 1.430511474609375e-06\n",
      "\u001b[36m(launch_and_fit pid=13004)\u001b[0m attention.out_proj.bias 9.5367431640625e-07\n",
      "\u001b[36m(launch_and_fit pid=13004)\u001b[0m fc1.weight 9.5367431640625e-07\n",
      "\u001b[36m(launch_and_fit pid=13004)\u001b[0m fc1.bias 9.5367431640625e-07\n",
      "\u001b[36m(launch_and_fit pid=13004)\u001b[0m fc2_mri.weight 9.5367431640625e-07\n",
      "\u001b[36m(launch_and_fit pid=13004)\u001b[0m fc2_mri.bias 1.430511474609375e-06\n",
      "\u001b[36m(launch_and_fit pid=13004)\u001b[0m fc2_dna.weight 1.1920928955078125e-06\n",
      "\u001b[36m(launch_and_fit pid=13004)\u001b[0m fc2_dna.bias 9.5367431640625e-07\n"
     ]
    },
    {
     "name": "stderr",
     "output_type": "stream",
     "text": [
      "100%|\u001b[34m██████████\u001b[0m| 10/10 [00:38<00:00,  3.89s/it]\u001b[32m [repeated 4x across cluster]\u001b[0m\n"
     ]
    },
    {
     "name": "stdout",
     "output_type": "stream",
     "text": [
      "\u001b[36m(launch_and_fit pid=13029)\u001b[0m \tTrain Epoch: 10 \tTrain_loss_mri: 0.0167 | Train_acc_mri: 99.6875 | Train_loss_dna: 0.3644 | Train_acc_dna: 89.8843 | Validation_loss_mri: 2.2406 | Validation_acc_mri: 51.0417 | Validation_loss_dna: 5.9057 | Validation_acc_dna: 12.5000\u001b[32m [repeated 4x across cluster]\u001b[0m\n",
      "\u001b[36m(launch_and_fit pid=13029)\u001b[0m save graph in  results/FL/\n",
      "\u001b[36m(launch_and_fit pid=13086)\u001b[0m Run with homomorphic encryption\n",
      "\u001b[36m(launch_and_fit pid=13029)\u001b[0m fc2_dna.bias 9.5367431640625e-07\u001b[32m [repeated 23x across cluster]\u001b[0m\n",
      "\u001b[36m(launch_and_fit pid=13029)\u001b[0m dna_net.qnn.weights 1.6689300537109375e-06\n",
      "\u001b[36m(launch_and_fit pid=13029)\u001b[0m attention.in_proj_weight 1.9073486328125e-06\n",
      "\u001b[36m(launch_and_fit pid=13029)\u001b[0m attention.in_proj_bias 9.5367431640625e-07\n",
      "\u001b[36m(launch_and_fit pid=13029)\u001b[0m attention.out_proj.weight 1.1920928955078125e-06\n",
      "\u001b[36m(launch_and_fit pid=13029)\u001b[0m attention.out_proj.bias 9.5367431640625e-07\n",
      "\u001b[36m(launch_and_fit pid=13086)\u001b[0m [Client 5, round 16] fit, config: {'learning_rate': 0.003, 'batch_size': '32', 'server_round': 16, 'local_epochs': 10}\n",
      "\u001b[36m(launch_and_fit pid=13086)\u001b[0m Updated model\n"
     ]
    },
    {
     "name": "stderr",
     "output_type": "stream",
     "text": [
      "  0%|\u001b[34m          \u001b[0m| 0/10 [00:00<?, ?it/s]\n"
     ]
    },
    {
     "name": "stdout",
     "output_type": "stream",
     "text": [
      "\u001b[36m(launch_and_fit pid=13112)\u001b[0m Run with homomorphic encryption\n",
      "\u001b[36m(launch_and_fit pid=13112)\u001b[0m [Client 2, round 16] fit, config: {'learning_rate': 0.003, 'batch_size': '32', 'server_round': 16, 'local_epochs': 10}\n",
      "\u001b[36m(launch_and_fit pid=13086)\u001b[0m \tTrain Epoch: 1 \tTrain_loss_mri: 0.0913 | Train_acc_mri: 96.8171 | Train_loss_dna: 1.3224 | Train_acc_dna: 53.8773 | Validation_loss_mri: 0.9817 | Validation_acc_mri: 87.5000 | Validation_loss_dna: 6.0503 | Validation_acc_dna: 10.9375\n"
     ]
    },
    {
     "name": "stderr",
     "output_type": "stream",
     "text": [
      " 10%|\u001b[34m█         \u001b[0m| 1/10 [00:04<00:40,  4.47s/it]\n"
     ]
    },
    {
     "name": "stdout",
     "output_type": "stream",
     "text": [
      "\u001b[36m(launch_and_fit pid=13086)\u001b[0m \tTrain Epoch: 2 \tTrain_loss_mri: 0.3136 | Train_acc_mri: 89.6875 | Train_loss_dna: 1.2203 | Train_acc_dna: 59.3403 | Validation_loss_mri: 0.3962 | Validation_acc_mri: 90.6250 | Validation_loss_dna: 4.0560 | Validation_acc_dna: 14.0625\n",
      "\u001b[36m(launch_and_fit pid=13112)\u001b[0m Updated model\n"
     ]
    },
    {
     "name": "stderr",
     "output_type": "stream",
     "text": [
      " 20%|\u001b[34m██        \u001b[0m| 2/10 [00:08<00:32,  4.01s/it]\n",
      "  0%|\u001b[34m          \u001b[0m| 0/10 [00:00<?, ?it/s]\n"
     ]
    },
    {
     "name": "stdout",
     "output_type": "stream",
     "text": [
      "\u001b[36m(launch_and_fit pid=13086)\u001b[0m \tTrain Epoch: 3 \tTrain_loss_mri: 0.1784 | Train_acc_mri: 93.9468 | Train_loss_dna: 0.8277 | Train_acc_dna: 68.5995 | Validation_loss_mri: 0.3808 | Validation_acc_mri: 92.1875 | Validation_loss_dna: 6.5649 | Validation_acc_dna: 9.3750\u001b[32m [repeated 2x across cluster]\u001b[0m\n"
     ]
    },
    {
     "name": "stderr",
     "output_type": "stream",
     "text": [
      " 30%|\u001b[34m███       \u001b[0m| 3/10 [00:11<00:27,  3.88s/it]\u001b[32m [repeated 2x across cluster]\u001b[0m\n"
     ]
    },
    {
     "name": "stdout",
     "output_type": "stream",
     "text": [
      "\u001b[36m(launch_and_fit pid=13086)\u001b[0m \tTrain Epoch: 5 \tTrain_loss_mri: 0.0871 | Train_acc_mri: 97.5000 | Train_loss_dna: 0.6028 | Train_acc_dna: 76.8403 | Validation_loss_mri: 0.3938 | Validation_acc_mri: 90.6250 | Validation_loss_dna: 5.1305 | Validation_acc_dna: 29.1667\u001b[32m [repeated 4x across cluster]\u001b[0m\n"
     ]
    },
    {
     "name": "stderr",
     "output_type": "stream",
     "text": [
      " 50%|\u001b[34m█████     \u001b[0m| 5/10 [00:19<00:18,  3.80s/it]\u001b[32m [repeated 4x across cluster]\u001b[0m\n"
     ]
    },
    {
     "name": "stdout",
     "output_type": "stream",
     "text": [
      "\u001b[36m(launch_and_fit pid=13086)\u001b[0m \tTrain Epoch: 7 \tTrain_loss_mri: 0.0223 | Train_acc_mri: 99.3750 | Train_loss_dna: 0.3924 | Train_acc_dna: 88.2060 | Validation_loss_mri: 0.3301 | Validation_acc_mri: 93.7500 | Validation_loss_dna: 5.4177 | Validation_acc_dna: 10.9375\u001b[32m [repeated 4x across cluster]\u001b[0m\n"
     ]
    },
    {
     "name": "stderr",
     "output_type": "stream",
     "text": [
      " 70%|\u001b[34m███████   \u001b[0m| 7/10 [00:26<00:11,  3.76s/it]\u001b[32m [repeated 4x across cluster]\u001b[0m\n"
     ]
    },
    {
     "name": "stdout",
     "output_type": "stream",
     "text": [
      "\u001b[36m(launch_and_fit pid=13086)\u001b[0m \tTrain Epoch: 9 \tTrain_loss_mri: 0.0118 | Train_acc_mri: 99.6875 | Train_loss_dna: 0.2855 | Train_acc_dna: 92.0718 | Validation_loss_mri: 0.3332 | Validation_acc_mri: 93.7500 | Validation_loss_dna: 6.4155 | Validation_acc_dna: 10.9375\u001b[32m [repeated 4x across cluster]\u001b[0m\n"
     ]
    },
    {
     "name": "stderr",
     "output_type": "stream",
     "text": [
      " 90%|\u001b[34m█████████ \u001b[0m| 9/10 [00:34<00:03,  3.77s/it]\u001b[32m [repeated 4x across cluster]\u001b[0m\n"
     ]
    },
    {
     "name": "stdout",
     "output_type": "stream",
     "text": [
      "\u001b[36m(launch_and_fit pid=13086)\u001b[0m save graph in  results/FL/\n",
      "\u001b[36m(launch_and_fit pid=13086)\u001b[0m mri_net.features.0.weight 1.1920928955078125e-05\n",
      "\u001b[36m(launch_and_fit pid=13086)\u001b[0m mri_net.features.0.bias 1.1920928955078125e-06\n",
      "\u001b[36m(launch_and_fit pid=13086)\u001b[0m mri_net.features.3.weight 9.5367431640625e-07\n",
      "\u001b[36m(launch_and_fit pid=13086)\u001b[0m mri_net.features.3.bias 9.5367431640625e-07\n",
      "\u001b[36m(launch_and_fit pid=13086)\u001b[0m mri_net.classifier.0.weight 1.1920928955078125e-06\n",
      "\u001b[36m(launch_and_fit pid=13086)\u001b[0m mri_net.classifier.0.bias 9.5367431640625e-07\n",
      "\u001b[36m(launch_and_fit pid=13086)\u001b[0m mri_net.classifier.2.weight 1.1920928955078125e-06\n",
      "\u001b[36m(launch_and_fit pid=13086)\u001b[0m mri_net.classifier.2.bias 9.5367431640625e-07\n",
      "\u001b[36m(launch_and_fit pid=13086)\u001b[0m mri_net.classifier.3.weights 1.1920928955078125e-06\n",
      "\u001b[36m(launch_and_fit pid=13086)\u001b[0m dna_net.fc1.weight 9.5367431640625e-07\n",
      "\u001b[36m(launch_and_fit pid=13086)\u001b[0m dna_net.fc1.bias 1.1920928955078125e-06\n",
      "\u001b[36m(launch_and_fit pid=13086)\u001b[0m dna_net.fc2.weight 9.5367431640625e-07\n",
      "\u001b[36m(launch_and_fit pid=13086)\u001b[0m dna_net.fc2.bias 1.1920928955078125e-06\n",
      "\u001b[36m(launch_and_fit pid=13086)\u001b[0m dna_net.fc3.weight 9.5367431640625e-07\n",
      "\u001b[36m(launch_and_fit pid=13086)\u001b[0m dna_net.fc3.bias 9.5367431640625e-07\n",
      "\u001b[36m(launch_and_fit pid=13086)\u001b[0m dna_net.fc4.weight 1.6689300537109375e-06\n",
      "\u001b[36m(launch_and_fit pid=13086)\u001b[0m dna_net.fc4.bias 9.5367431640625e-07\n",
      "\u001b[36m(launch_and_fit pid=13086)\u001b[0m dna_net.qnn.weights 1.1920928955078125e-06\n",
      "\u001b[36m(launch_and_fit pid=13086)\u001b[0m attention.in_proj_weight 9.5367431640625e-07\n",
      "\u001b[36m(launch_and_fit pid=13086)\u001b[0m attention.in_proj_bias 7.152557373046875e-07\n",
      "\u001b[36m(launch_and_fit pid=13086)\u001b[0m attention.out_proj.weight 9.5367431640625e-07\n",
      "\u001b[36m(launch_and_fit pid=13086)\u001b[0m attention.out_proj.bias 9.5367431640625e-07\n",
      "\u001b[36m(launch_and_fit pid=13086)\u001b[0m fc1.weight 1.1920928955078125e-06\n",
      "\u001b[36m(launch_and_fit pid=13086)\u001b[0m fc1.bias 9.5367431640625e-07\n",
      "\u001b[36m(launch_and_fit pid=13086)\u001b[0m fc2_mri.weight 1.430511474609375e-06\n",
      "\u001b[36m(launch_and_fit pid=13086)\u001b[0m fc2_mri.bias 9.5367431640625e-07\n",
      "\u001b[36m(launch_and_fit pid=13086)\u001b[0m fc2_dna.weight 9.5367431640625e-07\n",
      "\u001b[36m(launch_and_fit pid=13086)\u001b[0m fc2_dna.bias 9.5367431640625e-07\n"
     ]
    },
    {
     "name": "stderr",
     "output_type": "stream",
     "text": [
      "100%|\u001b[34m██████████\u001b[0m| 10/10 [00:38<00:00,  3.81s/it]\u001b[32m [repeated 4x across cluster]\u001b[0m\n"
     ]
    },
    {
     "name": "stdout",
     "output_type": "stream",
     "text": [
      "\u001b[36m(launch_and_fit pid=13112)\u001b[0m \tTrain Epoch: 10 \tTrain_loss_mri: 0.0322 | Train_acc_mri: 99.0625 | Train_loss_dna: 0.3018 | Train_acc_dna: 92.0718 | Validation_loss_mri: 0.7625 | Validation_acc_mri: 72.3958 | Validation_loss_dna: 4.7735 | Validation_acc_dna: 26.0417\u001b[32m [repeated 4x across cluster]\u001b[0m\n"
     ]
    },
    {
     "name": "stderr",
     "output_type": "stream",
     "text": [
      "DEBUG flwr 2024-08-05 08:39:07,094 | server.py:236 | fit_round 16 received 10 results and 0 failures\n"
     ]
    },
    {
     "name": "stdout",
     "output_type": "stream",
     "text": [
      "Saving round 16 aggregated_parameters...\n"
     ]
    },
    {
     "name": "stderr",
     "output_type": "stream",
     "text": [
      "DEBUG flwr 2024-08-05 08:39:09,064 | server.py:173 | evaluate_round 16: strategy sampled 10 clients (out of 10)\n"
     ]
    },
    {
     "name": "stdout",
     "output_type": "stream",
     "text": [
      "\u001b[36m(launch_and_evaluate pid=13178)\u001b[0m Run with homomorphic encryption\n",
      "\u001b[36m(launch_and_fit pid=13112)\u001b[0m save graph in  results/FL/\n",
      "\u001b[36m(launch_and_fit pid=13112)\u001b[0m fc2_dna.bias 1.6689300537109375e-06\u001b[32m [repeated 23x across cluster]\u001b[0m\n",
      "\u001b[36m(launch_and_fit pid=13112)\u001b[0m dna_net.qnn.weights 1.6689300537109375e-06\n",
      "\u001b[36m(launch_and_fit pid=13112)\u001b[0m attention.in_proj_weight 1.6689300537109375e-06\n",
      "\u001b[36m(launch_and_fit pid=13112)\u001b[0m attention.in_proj_bias 1.6689300537109375e-06\n",
      "\u001b[36m(launch_and_fit pid=13112)\u001b[0m attention.out_proj.weight 2.1457672119140625e-06\n",
      "\u001b[36m(launch_and_fit pid=13112)\u001b[0m attention.out_proj.bias 1.9073486328125e-06\n",
      "\u001b[36m(launch_and_evaluate pid=13178)\u001b[0m [Client 8] evaluate, config: {}\n",
      "\u001b[36m(launch_and_evaluate pid=13178)\u001b[0m Updated model\n"
     ]
    },
    {
     "name": "stderr",
     "output_type": "stream",
     "text": [
      "\u001b[36m(launch_and_evaluate pid=13178)\u001b[0m /opt/conda/lib/python3.10/site-packages/sklearn/metrics/_ranking.py:1029: UndefinedMetricWarning: No positive samples in y_true, true positive value should be meaningless\n",
      "\u001b[36m(launch_and_evaluate pid=13178)\u001b[0m   warnings.warn(\n"
     ]
    },
    {
     "name": "stdout",
     "output_type": "stream",
     "text": [
      "\u001b[36m(launch_and_evaluate pid=13255)\u001b[0m Run with homomorphic encryption\u001b[32m [repeated 2x across cluster]\u001b[0m\n",
      "\u001b[36m(launch_and_evaluate pid=13177)\u001b[0m [Client 6] evaluate, config: {}\n",
      "\u001b[36m(launch_and_evaluate pid=13177)\u001b[0m Updated model\n",
      "\u001b[36m(launch_and_evaluate pid=13255)\u001b[0m [Client 5] evaluate, config: {}\n",
      "\u001b[36m(launch_and_evaluate pid=13255)\u001b[0m Updated model\n",
      "\u001b[36m(launch_and_evaluate pid=13333)\u001b[0m Run with homomorphic encryption\u001b[32m [repeated 2x across cluster]\u001b[0m\n",
      "\u001b[36m(launch_and_evaluate pid=13257)\u001b[0m [Client 2] evaluate, config: {}\n",
      "\u001b[36m(launch_and_evaluate pid=13257)\u001b[0m Updated model\n",
      "\u001b[36m(launch_and_evaluate pid=13333)\u001b[0m [Client 9] evaluate, config: {}\n",
      "\u001b[36m(launch_and_evaluate pid=13333)\u001b[0m Updated model\n"
     ]
    },
    {
     "name": "stderr",
     "output_type": "stream",
     "text": [
      "\u001b[36m(launch_and_evaluate pid=13333)\u001b[0m /opt/conda/lib/python3.10/site-packages/sklearn/metrics/_ranking.py:1029: UndefinedMetricWarning: No positive samples in y_true, true positive value should be meaningless\n",
      "\u001b[36m(launch_and_evaluate pid=13333)\u001b[0m   warnings.warn(\n"
     ]
    },
    {
     "name": "stdout",
     "output_type": "stream",
     "text": [
      "\u001b[36m(launch_and_evaluate pid=13413)\u001b[0m Run with homomorphic encryption\u001b[32m [repeated 2x across cluster]\u001b[0m\n",
      "\u001b[36m(launch_and_evaluate pid=13335)\u001b[0m [Client 0] evaluate, config: {}\n",
      "\u001b[36m(launch_and_evaluate pid=13335)\u001b[0m Updated model\n",
      "\u001b[36m(launch_and_evaluate pid=13413)\u001b[0m [Client 4] evaluate, config: {}\n",
      "\u001b[36m(launch_and_evaluate pid=13413)\u001b[0m Updated model\n"
     ]
    },
    {
     "name": "stderr",
     "output_type": "stream",
     "text": [
      "\u001b[36m(launch_and_evaluate pid=13413)\u001b[0m /opt/conda/lib/python3.10/site-packages/sklearn/metrics/_ranking.py:1029: UndefinedMetricWarning: No positive samples in y_true, true positive value should be meaningless\n",
      "\u001b[36m(launch_and_evaluate pid=13413)\u001b[0m   warnings.warn(\n"
     ]
    },
    {
     "name": "stdout",
     "output_type": "stream",
     "text": [
      "\u001b[36m(launch_and_evaluate pid=13489)\u001b[0m Run with homomorphic encryption\u001b[32m [repeated 2x across cluster]\u001b[0m\n",
      "\u001b[36m(launch_and_evaluate pid=13411)\u001b[0m [Client 1] evaluate, config: {}\n",
      "\u001b[36m(launch_and_evaluate pid=13411)\u001b[0m Updated model\n",
      "\u001b[36m(launch_and_evaluate pid=13489)\u001b[0m [Client 7] evaluate, config: {}\n",
      "\u001b[36m(launch_and_evaluate pid=13489)\u001b[0m Updated model\n"
     ]
    },
    {
     "name": "stderr",
     "output_type": "stream",
     "text": [
      "DEBUG flwr 2024-08-05 08:40:26,584 | server.py:187 | evaluate_round 16 received 10 results and 0 failures\n",
      "DEBUG flwr 2024-08-05 08:40:26,585 | server.py:222 | fit_round 17: strategy sampled 10 clients (out of 10)\n"
     ]
    },
    {
     "name": "stdout",
     "output_type": "stream",
     "text": [
      "\u001b[36m(launch_and_fit pid=13577)\u001b[0m Run with homomorphic encryption\u001b[32m [repeated 2x across cluster]\u001b[0m\n",
      "\u001b[36m(launch_and_evaluate pid=13491)\u001b[0m [Client 3] evaluate, config: {}\n",
      "\u001b[36m(launch_and_evaluate pid=13491)\u001b[0m Updated model\n",
      "\u001b[36m(launch_and_fit pid=13577)\u001b[0m [Client 7, round 17] fit, config: {'learning_rate': 0.003, 'batch_size': '32', 'server_round': 17, 'local_epochs': 10}\n",
      "\u001b[36m(launch_and_fit pid=13577)\u001b[0m Updated model\n"
     ]
    },
    {
     "name": "stderr",
     "output_type": "stream",
     "text": [
      "  0%|\u001b[34m          \u001b[0m| 0/10 [00:00<?, ?it/s]\n"
     ]
    },
    {
     "name": "stdout",
     "output_type": "stream",
     "text": [
      "\u001b[36m(launch_and_fit pid=13577)\u001b[0m \tTrain Epoch: 1 \tTrain_loss_mri: 0.0941 | Train_acc_mri: 96.8171 | Train_loss_dna: 1.4023 | Train_acc_dna: 51.6898 | Validation_loss_mri: 0.7323 | Validation_acc_mri: 93.7500 | Validation_loss_dna: 3.1336 | Validation_acc_dna: 45.8333\n",
      "\u001b[36m(launch_and_fit pid=13576)\u001b[0m Run with homomorphic encryption\n",
      "\u001b[36m(launch_and_fit pid=13576)\u001b[0m [Client 1, round 17] fit, config: {'learning_rate': 0.003, 'batch_size': '32', 'server_round': 17, 'local_epochs': 10}\n"
     ]
    },
    {
     "name": "stderr",
     "output_type": "stream",
     "text": [
      " 10%|\u001b[34m█         \u001b[0m| 1/10 [00:04<00:38,  4.23s/it]\n"
     ]
    },
    {
     "name": "stdout",
     "output_type": "stream",
     "text": [
      "\u001b[36m(launch_and_fit pid=13576)\u001b[0m Updated model\n"
     ]
    },
    {
     "name": "stderr",
     "output_type": "stream",
     "text": [
      "  0%|\u001b[34m          \u001b[0m| 0/10 [00:00<?, ?it/s]\n"
     ]
    },
    {
     "name": "stdout",
     "output_type": "stream",
     "text": [
      "\u001b[36m(launch_and_fit pid=13576)\u001b[0m \tTrain Epoch: 3 \tTrain_loss_mri: 0.1545 | Train_acc_mri: 94.9421 | Train_loss_dna: 0.8926 | Train_acc_dna: 66.7824 | Validation_loss_mri: 0.8070 | Validation_acc_mri: 73.9583 | Validation_loss_dna: 4.8713 | Validation_acc_dna: 26.0417\u001b[32m [repeated 4x across cluster]\u001b[0m\n"
     ]
    },
    {
     "name": "stderr",
     "output_type": "stream",
     "text": [
      " 30%|\u001b[34m███       \u001b[0m| 3/10 [00:11<00:27,  3.91s/it]\u001b[32m [repeated 4x across cluster]\u001b[0m\n"
     ]
    },
    {
     "name": "stdout",
     "output_type": "stream",
     "text": [
      "\u001b[36m(launch_and_fit pid=13576)\u001b[0m \tTrain Epoch: 5 \tTrain_loss_mri: 0.0542 | Train_acc_mri: 98.7500 | Train_loss_dna: 0.4325 | Train_acc_dna: 86.7593 | Validation_loss_mri: 0.8375 | Validation_acc_mri: 58.8542 | Validation_loss_dna: 5.3842 | Validation_acc_dna: 12.5000\u001b[32m [repeated 4x across cluster]\u001b[0m\n"
     ]
    },
    {
     "name": "stderr",
     "output_type": "stream",
     "text": [
      " 50%|\u001b[34m█████     \u001b[0m| 5/10 [00:19<00:19,  3.82s/it]\u001b[32m [repeated 4x across cluster]\u001b[0m\n"
     ]
    },
    {
     "name": "stdout",
     "output_type": "stream",
     "text": [
      "\u001b[36m(launch_and_fit pid=13576)\u001b[0m \tTrain Epoch: 7 \tTrain_loss_mri: 0.0411 | Train_acc_mri: 99.0625 | Train_loss_dna: 0.3447 | Train_acc_dna: 90.3935 | Validation_loss_mri: 0.9851 | Validation_acc_mri: 72.3958 | Validation_loss_dna: 5.6189 | Validation_acc_dna: 9.3750\u001b[32m [repeated 4x across cluster]\u001b[0m\n"
     ]
    },
    {
     "name": "stderr",
     "output_type": "stream",
     "text": [
      " 70%|\u001b[34m███████   \u001b[0m| 7/10 [00:27<00:11,  3.83s/it]\u001b[32m [repeated 4x across cluster]\u001b[0m\n"
     ]
    },
    {
     "name": "stdout",
     "output_type": "stream",
     "text": [
      "\u001b[36m(launch_and_fit pid=13576)\u001b[0m \tTrain Epoch: 9 \tTrain_loss_mri: 0.0170 | Train_acc_mri: 99.6875 | Train_loss_dna: 0.2936 | Train_acc_dna: 91.5625 | Validation_loss_mri: 0.9633 | Validation_acc_mri: 73.9583 | Validation_loss_dna: 6.7907 | Validation_acc_dna: 9.3750\u001b[32m [repeated 4x across cluster]\u001b[0m\n"
     ]
    },
    {
     "name": "stderr",
     "output_type": "stream",
     "text": [
      " 90%|\u001b[34m█████████ \u001b[0m| 9/10 [00:34<00:03,  3.74s/it]\u001b[32m [repeated 4x across cluster]\u001b[0m\n"
     ]
    },
    {
     "name": "stdout",
     "output_type": "stream",
     "text": [
      "\u001b[36m(launch_and_fit pid=13576)\u001b[0m save graph in  results/FL/\n",
      "\u001b[36m(launch_and_fit pid=13576)\u001b[0m mri_net.features.0.weight 5.9604644775390625e-06\n",
      "\u001b[36m(launch_and_fit pid=13576)\u001b[0m mri_net.features.0.bias 1.6689300537109375e-06\n",
      "\u001b[36m(launch_and_fit pid=13576)\u001b[0m mri_net.features.3.weight 1.1920928955078125e-06\n",
      "\u001b[36m(launch_and_fit pid=13576)\u001b[0m mri_net.features.3.bias 1.1920928955078125e-06\n",
      "\u001b[36m(launch_and_fit pid=13576)\u001b[0m mri_net.classifier.0.weight 1.1920928955078125e-06\n",
      "\u001b[36m(launch_and_fit pid=13576)\u001b[0m mri_net.classifier.0.bias 9.5367431640625e-07\n",
      "\u001b[36m(launch_and_fit pid=13576)\u001b[0m mri_net.classifier.2.weight 9.5367431640625e-07\n",
      "\u001b[36m(launch_and_fit pid=13576)\u001b[0m mri_net.classifier.2.bias 9.5367431640625e-07\n",
      "\u001b[36m(launch_and_fit pid=13576)\u001b[0m mri_net.classifier.3.weights 1.1920928955078125e-06\n",
      "\u001b[36m(launch_and_fit pid=13576)\u001b[0m dna_net.fc1.weight 9.5367431640625e-07\n",
      "\u001b[36m(launch_and_fit pid=13576)\u001b[0m dna_net.fc1.bias 9.5367431640625e-07\n",
      "\u001b[36m(launch_and_fit pid=13576)\u001b[0m dna_net.fc2.weight 9.5367431640625e-07\n",
      "\u001b[36m(launch_and_fit pid=13576)\u001b[0m dna_net.fc2.bias 1.430511474609375e-06\n",
      "\u001b[36m(launch_and_fit pid=13576)\u001b[0m dna_net.fc3.weight 9.5367431640625e-07\n",
      "\u001b[36m(launch_and_fit pid=13576)\u001b[0m dna_net.fc3.bias 1.1920928955078125e-06\n",
      "\u001b[36m(launch_and_fit pid=13576)\u001b[0m dna_net.fc4.weight 9.5367431640625e-07\n",
      "\u001b[36m(launch_and_fit pid=13576)\u001b[0m dna_net.fc4.bias 9.5367431640625e-07\n",
      "\u001b[36m(launch_and_fit pid=13576)\u001b[0m dna_net.qnn.weights 1.1920928955078125e-06\n",
      "\u001b[36m(launch_and_fit pid=13576)\u001b[0m attention.in_proj_weight 9.5367431640625e-07\n",
      "\u001b[36m(launch_and_fit pid=13576)\u001b[0m attention.in_proj_bias 1.1920928955078125e-06\n",
      "\u001b[36m(launch_and_fit pid=13576)\u001b[0m attention.out_proj.weight 9.5367431640625e-07\n",
      "\u001b[36m(launch_and_fit pid=13576)\u001b[0m attention.out_proj.bias 9.5367431640625e-07\n",
      "\u001b[36m(launch_and_fit pid=13576)\u001b[0m fc1.weight 1.1920928955078125e-06\n",
      "\u001b[36m(launch_and_fit pid=13576)\u001b[0m fc1.bias 9.5367431640625e-07\n",
      "\u001b[36m(launch_and_fit pid=13576)\u001b[0m fc2_mri.weight 1.1920928955078125e-06\n",
      "\u001b[36m(launch_and_fit pid=13576)\u001b[0m fc2_mri.bias 9.5367431640625e-07\n",
      "\u001b[36m(launch_and_fit pid=13576)\u001b[0m fc2_dna.weight 1.430511474609375e-06\n",
      "\u001b[36m(launch_and_fit pid=13576)\u001b[0m fc2_dna.bias 9.5367431640625e-07\n",
      "\u001b[36m(launch_and_fit pid=13577)\u001b[0m \tTrain Epoch: 10 \tTrain_loss_mri: 0.0194 | Train_acc_mri: 99.3750 | Train_loss_dna: 0.3073 | Train_acc_dna: 91.5856 | Validation_loss_mri: 0.8731 | Validation_acc_mri: 93.7500 | Validation_loss_dna: 3.1155 | Validation_acc_dna: 29.1667\u001b[32m [repeated 3x across cluster]\u001b[0m\n",
      "\u001b[36m(launch_and_fit pid=13659)\u001b[0m Run with homomorphic encryption\n",
      "\u001b[36m(launch_and_fit pid=13577)\u001b[0m save graph in  results/FL/\n",
      "\u001b[36m(launch_and_fit pid=13577)\u001b[0m fc2_dna.bias 9.5367431640625e-07\u001b[32m [repeated 23x across cluster]\u001b[0m\n",
      "\u001b[36m(launch_and_fit pid=13577)\u001b[0m dna_net.qnn.weights 1.1920928955078125e-06\n",
      "\u001b[36m(launch_and_fit pid=13577)\u001b[0m attention.in_proj_weight 1.1920928955078125e-06\n",
      "\u001b[36m(launch_and_fit pid=13577)\u001b[0m attention.in_proj_bias 9.5367431640625e-07\n",
      "\u001b[36m(launch_and_fit pid=13577)\u001b[0m attention.out_proj.weight 9.5367431640625e-07\n",
      "\u001b[36m(launch_and_fit pid=13577)\u001b[0m attention.out_proj.bias 9.5367431640625e-07\n",
      "\u001b[36m(launch_and_fit pid=13659)\u001b[0m [Client 6, round 17] fit, config: {'learning_rate': 0.003, 'batch_size': '32', 'server_round': 17, 'local_epochs': 10}\n",
      "\u001b[36m(launch_and_fit pid=13659)\u001b[0m Updated model\n"
     ]
    },
    {
     "name": "stderr",
     "output_type": "stream",
     "text": [
      "  0%|\u001b[34m          \u001b[0m| 0/10 [00:00<?, ?it/s]\n",
      "100%|\u001b[34m██████████\u001b[0m| 10/10 [00:38<00:00,  3.87s/it]\u001b[32m [repeated 3x across cluster]\u001b[0m\n"
     ]
    },
    {
     "name": "stdout",
     "output_type": "stream",
     "text": [
      "\u001b[36m(launch_and_fit pid=13659)\u001b[0m \tTrain Epoch: 1 \tTrain_loss_mri: 0.2036 | Train_acc_mri: 93.4375 | Train_loss_dna: 1.3746 | Train_acc_dna: 57.8935 | Validation_loss_mri: 1.6060 | Validation_acc_mri: 66.1458 | Validation_loss_dna: 4.7194 | Validation_acc_dna: 29.1667\n",
      "\u001b[36m(launch_and_fit pid=13661)\u001b[0m Run with homomorphic encryption\n",
      "\u001b[36m(launch_and_fit pid=13661)\u001b[0m [Client 8, round 17] fit, config: {'learning_rate': 0.003, 'batch_size': '32', 'server_round': 17, 'local_epochs': 10}\n",
      "\u001b[36m(launch_and_fit pid=13661)\u001b[0m Updated model\n"
     ]
    },
    {
     "name": "stderr",
     "output_type": "stream",
     "text": [
      "  0%|\u001b[34m          \u001b[0m| 0/10 [00:00<?, ?it/s]\n",
      " 10%|\u001b[34m█         \u001b[0m| 1/10 [00:04<00:42,  4.70s/it]\u001b[32m [repeated 2x across cluster]\u001b[0m\n"
     ]
    },
    {
     "name": "stdout",
     "output_type": "stream",
     "text": [
      "\u001b[36m(launch_and_fit pid=13659)\u001b[0m \tTrain Epoch: 3 \tTrain_loss_mri: 0.1259 | Train_acc_mri: 95.5093 | Train_loss_dna: 0.7109 | Train_acc_dna: 75.7060 | Validation_loss_mri: 1.4731 | Validation_acc_mri: 70.8333 | Validation_loss_dna: 4.2905 | Validation_acc_dna: 29.1667\u001b[32m [repeated 4x across cluster]\u001b[0m\n"
     ]
    },
    {
     "name": "stderr",
     "output_type": "stream",
     "text": [
      " 30%|\u001b[34m███       \u001b[0m| 3/10 [00:11<00:26,  3.85s/it]\u001b[32m [repeated 3x across cluster]\u001b[0m\n"
     ]
    },
    {
     "name": "stdout",
     "output_type": "stream",
     "text": [
      "\u001b[36m(launch_and_fit pid=13659)\u001b[0m \tTrain Epoch: 5 \tTrain_loss_mri: 0.0431 | Train_acc_mri: 99.0625 | Train_loss_dna: 0.4472 | Train_acc_dna: 85.5093 | Validation_loss_mri: 1.4983 | Validation_acc_mri: 69.2708 | Validation_loss_dna: 5.1465 | Validation_acc_dna: 24.4792\u001b[32m [repeated 4x across cluster]\u001b[0m\n"
     ]
    },
    {
     "name": "stderr",
     "output_type": "stream",
     "text": [
      " 50%|\u001b[34m█████     \u001b[0m| 5/10 [00:19<00:18,  3.80s/it]\u001b[32m [repeated 4x across cluster]\u001b[0m\n"
     ]
    },
    {
     "name": "stdout",
     "output_type": "stream",
     "text": [
      "\u001b[36m(launch_and_fit pid=13659)\u001b[0m \tTrain Epoch: 7 \tTrain_loss_mri: 0.0172 | Train_acc_mri: 99.3171 | Train_loss_dna: 0.3398 | Train_acc_dna: 89.5718 | Validation_loss_mri: 1.8117 | Validation_acc_mri: 70.8333 | Validation_loss_dna: 5.3566 | Validation_acc_dna: 24.4792\u001b[32m [repeated 4x across cluster]\u001b[0m\n"
     ]
    },
    {
     "name": "stderr",
     "output_type": "stream",
     "text": [
      " 70%|\u001b[34m███████   \u001b[0m| 7/10 [00:26<00:11,  3.74s/it]\u001b[32m [repeated 4x across cluster]\u001b[0m\n"
     ]
    },
    {
     "name": "stdout",
     "output_type": "stream",
     "text": [
      "\u001b[36m(launch_and_fit pid=13659)\u001b[0m \tTrain Epoch: 9 \tTrain_loss_mri: 0.0127 | Train_acc_mri: 100.0000 | Train_loss_dna: 0.2747 | Train_acc_dna: 91.7593 | Validation_loss_mri: 1.4742 | Validation_acc_mri: 69.2708 | Validation_loss_dna: 6.2949 | Validation_acc_dna: 9.3750\u001b[32m [repeated 4x across cluster]\u001b[0m\n"
     ]
    },
    {
     "name": "stderr",
     "output_type": "stream",
     "text": [
      " 90%|\u001b[34m█████████ \u001b[0m| 9/10 [00:34<00:03,  3.70s/it]\u001b[32m [repeated 4x across cluster]\u001b[0m\n"
     ]
    },
    {
     "name": "stdout",
     "output_type": "stream",
     "text": [
      "\u001b[36m(launch_and_fit pid=13659)\u001b[0m save graph in  results/FL/\n",
      "\u001b[36m(launch_and_fit pid=13659)\u001b[0m mri_net.features.0.weight 5.9604644775390625e-06\n",
      "\u001b[36m(launch_and_fit pid=13659)\u001b[0m mri_net.features.0.bias 1.430511474609375e-06\n",
      "\u001b[36m(launch_and_fit pid=13659)\u001b[0m mri_net.features.3.weight 1.1920928955078125e-06\n",
      "\u001b[36m(launch_and_fit pid=13659)\u001b[0m mri_net.features.3.bias 9.5367431640625e-07\n",
      "\u001b[36m(launch_and_fit pid=13659)\u001b[0m mri_net.classifier.0.weight 9.5367431640625e-07\n",
      "\u001b[36m(launch_and_fit pid=13659)\u001b[0m mri_net.classifier.0.bias 7.152557373046875e-07\n",
      "\u001b[36m(launch_and_fit pid=13659)\u001b[0m mri_net.classifier.2.weight 9.5367431640625e-07\n",
      "\u001b[36m(launch_and_fit pid=13659)\u001b[0m mri_net.classifier.2.bias 1.1920928955078125e-06\n",
      "\u001b[36m(launch_and_fit pid=13659)\u001b[0m mri_net.classifier.3.weights 2.1457672119140625e-06\n",
      "\u001b[36m(launch_and_fit pid=13659)\u001b[0m dna_net.fc1.weight 1.1920928955078125e-06\n",
      "\u001b[36m(launch_and_fit pid=13659)\u001b[0m dna_net.fc1.bias 9.5367431640625e-07\n",
      "\u001b[36m(launch_and_fit pid=13659)\u001b[0m dna_net.fc2.weight 9.5367431640625e-07\n",
      "\u001b[36m(launch_and_fit pid=13659)\u001b[0m dna_net.fc2.bias 9.5367431640625e-07\n",
      "\u001b[36m(launch_and_fit pid=13659)\u001b[0m dna_net.fc3.weight 1.1920928955078125e-06\n",
      "\u001b[36m(launch_and_fit pid=13659)\u001b[0m dna_net.fc3.bias 9.5367431640625e-07\n",
      "\u001b[36m(launch_and_fit pid=13659)\u001b[0m dna_net.fc4.weight 9.5367431640625e-07\n",
      "\u001b[36m(launch_and_fit pid=13659)\u001b[0m dna_net.fc4.bias 1.430511474609375e-06\n",
      "\u001b[36m(launch_and_fit pid=13659)\u001b[0m dna_net.qnn.weights 7.152557373046875e-07\n",
      "\u001b[36m(launch_and_fit pid=13659)\u001b[0m attention.in_proj_weight 9.5367431640625e-07\n",
      "\u001b[36m(launch_and_fit pid=13659)\u001b[0m attention.in_proj_bias 9.5367431640625e-07\n",
      "\u001b[36m(launch_and_fit pid=13659)\u001b[0m attention.out_proj.weight 1.1920928955078125e-06\n",
      "\u001b[36m(launch_and_fit pid=13659)\u001b[0m attention.out_proj.bias 1.1920928955078125e-06\n",
      "\u001b[36m(launch_and_fit pid=13659)\u001b[0m fc1.weight 1.430511474609375e-06\n",
      "\u001b[36m(launch_and_fit pid=13659)\u001b[0m fc1.bias 1.1920928955078125e-06\n",
      "\u001b[36m(launch_and_fit pid=13659)\u001b[0m fc2_mri.weight 9.5367431640625e-07\n",
      "\u001b[36m(launch_and_fit pid=13659)\u001b[0m fc2_mri.bias 9.5367431640625e-07\n",
      "\u001b[36m(launch_and_fit pid=13659)\u001b[0m fc2_dna.weight 9.5367431640625e-07\n",
      "\u001b[36m(launch_and_fit pid=13659)\u001b[0m fc2_dna.bias 1.1920928955078125e-06\n",
      "\u001b[36m(launch_and_fit pid=13661)\u001b[0m \tTrain Epoch: 10 \tTrain_loss_mri: 0.0205 | Train_acc_mri: 99.6875 | Train_loss_dna: 0.2628 | Train_acc_dna: 92.3264 | Validation_loss_mri: 1.3659 | Validation_acc_mri: 67.7083 | Validation_loss_dna: 4.0825 | Validation_acc_dna: 21.3542\u001b[32m [repeated 3x across cluster]\u001b[0m\n"
     ]
    },
    {
     "name": "stderr",
     "output_type": "stream",
     "text": [
      "100%|\u001b[34m██████████\u001b[0m| 10/10 [00:38<00:00,  3.89s/it]\u001b[32m [repeated 3x across cluster]\u001b[0m\n"
     ]
    },
    {
     "name": "stdout",
     "output_type": "stream",
     "text": [
      "\u001b[36m(launch_and_fit pid=13741)\u001b[0m Run with homomorphic encryption\n",
      "\u001b[36m(launch_and_fit pid=13661)\u001b[0m save graph in  results/FL/\n",
      "\u001b[36m(launch_and_fit pid=13661)\u001b[0m fc2_dna.bias 1.430511474609375e-06\u001b[32m [repeated 23x across cluster]\u001b[0m\n",
      "\u001b[36m(launch_and_fit pid=13661)\u001b[0m dna_net.qnn.weights 1.1920928955078125e-06\n",
      "\u001b[36m(launch_and_fit pid=13661)\u001b[0m attention.in_proj_weight 1.1920928955078125e-06\n",
      "\u001b[36m(launch_and_fit pid=13661)\u001b[0m attention.in_proj_bias 1.1920928955078125e-06\n",
      "\u001b[36m(launch_and_fit pid=13661)\u001b[0m attention.out_proj.weight 1.1920928955078125e-06\n",
      "\u001b[36m(launch_and_fit pid=13661)\u001b[0m attention.out_proj.bias 1.430511474609375e-06\n",
      "\u001b[36m(launch_and_fit pid=13741)\u001b[0m [Client 3, round 17] fit, config: {'learning_rate': 0.003, 'batch_size': '32', 'server_round': 17, 'local_epochs': 10}\n"
     ]
    },
    {
     "name": "stderr",
     "output_type": "stream",
     "text": [
      "  0%|\u001b[34m          \u001b[0m| 0/10 [00:00<?, ?it/s]\n"
     ]
    },
    {
     "name": "stdout",
     "output_type": "stream",
     "text": [
      "\u001b[36m(launch_and_fit pid=13741)\u001b[0m Updated model\n"
     ]
    },
    {
     "name": "stderr",
     "output_type": "stream",
     "text": [
      " 10%|\u001b[34m█         \u001b[0m| 1/10 [00:04<00:38,  4.28s/it]\n"
     ]
    },
    {
     "name": "stdout",
     "output_type": "stream",
     "text": [
      "\u001b[36m(launch_and_fit pid=13741)\u001b[0m \tTrain Epoch: 1 \tTrain_loss_mri: 0.0776 | Train_acc_mri: 96.2500 | Train_loss_dna: 1.0366 | Train_acc_dna: 60.0463 | Validation_loss_mri: 0.5812 | Validation_acc_mri: 92.1875 | Validation_loss_dna: 5.2708 | Validation_acc_dna: 15.6250\n",
      "\u001b[36m(launch_and_fit pid=13766)\u001b[0m Run with homomorphic encryption\n",
      "\u001b[36m(launch_and_fit pid=13766)\u001b[0m [Client 0, round 17] fit, config: {'learning_rate': 0.003, 'batch_size': '32', 'server_round': 17, 'local_epochs': 10}\n"
     ]
    },
    {
     "name": "stderr",
     "output_type": "stream",
     "text": [
      "  0%|\u001b[34m          \u001b[0m| 0/10 [00:00<?, ?it/s]\n"
     ]
    },
    {
     "name": "stdout",
     "output_type": "stream",
     "text": [
      "\u001b[36m(launch_and_fit pid=13766)\u001b[0m Updated model\n"
     ]
    },
    {
     "name": "stderr",
     "output_type": "stream",
     "text": [
      " 20%|\u001b[34m██        \u001b[0m| 2/10 [00:08<00:31,  3.97s/it]\u001b[32m [repeated 3x across cluster]\u001b[0m\n"
     ]
    },
    {
     "name": "stdout",
     "output_type": "stream",
     "text": [
      "\u001b[36m(launch_and_fit pid=13766)\u001b[0m \tTrain Epoch: 2 \tTrain_loss_mri: 0.2245 | Train_acc_mri: 94.0625 | Train_loss_dna: 1.1013 | Train_acc_dna: 61.5509 | Validation_loss_mri: 1.0019 | Validation_acc_mri: 73.9583 | Validation_loss_dna: 4.6325 | Validation_acc_dna: 15.6250\u001b[32m [repeated 3x across cluster]\u001b[0m\n"
     ]
    },
    {
     "name": "stderr",
     "output_type": "stream",
     "text": [
      " 40%|\u001b[34m████      \u001b[0m| 4/10 [00:15<00:23,  3.96s/it]\u001b[32m [repeated 3x across cluster]\u001b[0m\n"
     ]
    },
    {
     "name": "stdout",
     "output_type": "stream",
     "text": [
      "\u001b[36m(launch_and_fit pid=13741)\u001b[0m \tTrain Epoch: 4 \tTrain_loss_mri: 0.0621 | Train_acc_mri: 98.3796 | Train_loss_dna: 0.6104 | Train_acc_dna: 75.7060 | Validation_loss_mri: 0.5943 | Validation_acc_mri: 90.6250 | Validation_loss_dna: 4.6384 | Validation_acc_dna: 29.1667\u001b[32m [repeated 3x across cluster]\u001b[0m\n"
     ]
    },
    {
     "name": "stderr",
     "output_type": "stream",
     "text": [
      " 50%|\u001b[34m█████     \u001b[0m| 5/10 [00:19<00:19,  3.88s/it]\u001b[32m [repeated 3x across cluster]\u001b[0m\n"
     ]
    },
    {
     "name": "stdout",
     "output_type": "stream",
     "text": [
      "\u001b[36m(launch_and_fit pid=13766)\u001b[0m \tTrain Epoch: 5 \tTrain_loss_mri: 0.1412 | Train_acc_mri: 96.5625 | Train_loss_dna: 0.5939 | Train_acc_dna: 79.1435 | Validation_loss_mri: 1.1037 | Validation_acc_mri: 70.8333 | Validation_loss_dna: 4.1915 | Validation_acc_dna: 12.5000\u001b[32m [repeated 3x across cluster]\u001b[0m\n"
     ]
    },
    {
     "name": "stderr",
     "output_type": "stream",
     "text": [
      " 70%|\u001b[34m███████   \u001b[0m| 7/10 [00:27<00:11,  3.83s/it]\u001b[32m [repeated 3x across cluster]\u001b[0m\n"
     ]
    },
    {
     "name": "stdout",
     "output_type": "stream",
     "text": [
      "\u001b[36m(launch_and_fit pid=13741)\u001b[0m \tTrain Epoch: 7 \tTrain_loss_mri: 0.0145 | Train_acc_mri: 100.0000 | Train_loss_dna: 0.3824 | Train_acc_dna: 87.5810 | Validation_loss_mri: 0.7298 | Validation_acc_mri: 90.6250 | Validation_loss_dna: 5.8289 | Validation_acc_dna: 9.3750\u001b[32m [repeated 3x across cluster]\u001b[0m\n"
     ]
    },
    {
     "name": "stderr",
     "output_type": "stream",
     "text": [
      " 80%|\u001b[34m████████  \u001b[0m| 8/10 [00:30<00:07,  3.77s/it]\u001b[32m [repeated 3x across cluster]\u001b[0m\n"
     ]
    },
    {
     "name": "stdout",
     "output_type": "stream",
     "text": [
      "\u001b[36m(launch_and_fit pid=13766)\u001b[0m \tTrain Epoch: 8 \tTrain_loss_mri: 0.0372 | Train_acc_mri: 99.0046 | Train_loss_dna: 0.3641 | Train_acc_dna: 88.7731 | Validation_loss_mri: 1.9075 | Validation_acc_mri: 69.2708 | Validation_loss_dna: 5.5837 | Validation_acc_dna: 12.5000\u001b[32m [repeated 3x across cluster]\u001b[0m\n"
     ]
    },
    {
     "name": "stderr",
     "output_type": "stream",
     "text": [
      "100%|\u001b[34m██████████\u001b[0m| 10/10 [00:38<00:00,  3.86s/it]\u001b[32m [repeated 3x across cluster]\u001b[0m\n"
     ]
    },
    {
     "name": "stdout",
     "output_type": "stream",
     "text": [
      "\u001b[36m(launch_and_fit pid=13741)\u001b[0m save graph in  results/FL/\n",
      "\u001b[36m(launch_and_fit pid=13741)\u001b[0m \tTrain Epoch: 10 \tTrain_loss_mri: 0.0413 | Train_acc_mri: 99.0625 | Train_loss_dna: 0.3348 | Train_acc_dna: 89.8264 | Validation_loss_mri: 1.0468 | Validation_acc_mri: 89.0625 | Validation_loss_dna: 5.6099 | Validation_acc_dna: 10.9375\u001b[32m [repeated 3x across cluster]\u001b[0m\n",
      "\u001b[36m(launch_and_fit pid=13741)\u001b[0m mri_net.features.0.weight 5.4836273193359375e-06\n",
      "\u001b[36m(launch_and_fit pid=13741)\u001b[0m mri_net.features.0.bias 1.430511474609375e-06\n",
      "\u001b[36m(launch_and_fit pid=13741)\u001b[0m mri_net.features.3.weight 1.430511474609375e-06\n",
      "\u001b[36m(launch_and_fit pid=13741)\u001b[0m mri_net.features.3.bias 1.1920928955078125e-06\n",
      "\u001b[36m(launch_and_fit pid=13741)\u001b[0m mri_net.classifier.0.weight 1.430511474609375e-06\n",
      "\u001b[36m(launch_and_fit pid=13741)\u001b[0m mri_net.classifier.0.bias 1.1920928955078125e-06\n",
      "\u001b[36m(launch_and_fit pid=13741)\u001b[0m mri_net.classifier.2.weight 1.1920928955078125e-06\n",
      "\u001b[36m(launch_and_fit pid=13741)\u001b[0m mri_net.classifier.2.bias 1.430511474609375e-06\n",
      "\u001b[36m(launch_and_fit pid=13741)\u001b[0m mri_net.classifier.3.weights 1.1920928955078125e-06\n",
      "\u001b[36m(launch_and_fit pid=13741)\u001b[0m dna_net.fc1.weight 1.430511474609375e-06\n",
      "\u001b[36m(launch_and_fit pid=13741)\u001b[0m dna_net.fc1.bias 1.1920928955078125e-06\n",
      "\u001b[36m(launch_and_fit pid=13741)\u001b[0m dna_net.fc2.weight 9.5367431640625e-07\n",
      "\u001b[36m(launch_and_fit pid=13741)\u001b[0m dna_net.fc2.bias 9.5367431640625e-07\n",
      "\u001b[36m(launch_and_fit pid=13741)\u001b[0m dna_net.fc3.weight 1.1920928955078125e-06\n",
      "\u001b[36m(launch_and_fit pid=13741)\u001b[0m dna_net.fc3.bias 1.430511474609375e-06\n",
      "\u001b[36m(launch_and_fit pid=13741)\u001b[0m dna_net.fc4.weight 9.5367431640625e-07\n",
      "\u001b[36m(launch_and_fit pid=13741)\u001b[0m dna_net.fc4.bias 1.1920928955078125e-06\n",
      "\u001b[36m(launch_and_fit pid=13741)\u001b[0m dna_net.qnn.weights 1.1920928955078125e-06\n",
      "\u001b[36m(launch_and_fit pid=13741)\u001b[0m attention.in_proj_weight 1.1920928955078125e-06\n",
      "\u001b[36m(launch_and_fit pid=13741)\u001b[0m attention.in_proj_bias 1.430511474609375e-06\n",
      "\u001b[36m(launch_and_fit pid=13741)\u001b[0m attention.out_proj.weight 9.5367431640625e-07\n",
      "\u001b[36m(launch_and_fit pid=13741)\u001b[0m attention.out_proj.bias 1.1920928955078125e-06\n",
      "\u001b[36m(launch_and_fit pid=13741)\u001b[0m fc1.weight 1.430511474609375e-06\n",
      "\u001b[36m(launch_and_fit pid=13741)\u001b[0m fc1.bias 1.1920928955078125e-06\n",
      "\u001b[36m(launch_and_fit pid=13741)\u001b[0m fc2_mri.weight 1.430511474609375e-06\n",
      "\u001b[36m(launch_and_fit pid=13741)\u001b[0m fc2_mri.bias 1.1920928955078125e-06\n",
      "\u001b[36m(launch_and_fit pid=13741)\u001b[0m fc2_dna.weight 1.430511474609375e-06\n",
      "\u001b[36m(launch_and_fit pid=13741)\u001b[0m fc2_dna.bias 1.9073486328125e-06\n",
      "\u001b[36m(launch_and_fit pid=13823)\u001b[0m Run with homomorphic encryption\n",
      "\u001b[36m(launch_and_fit pid=13766)\u001b[0m save graph in  results/FL/\n",
      "\u001b[36m(launch_and_fit pid=13766)\u001b[0m \tTrain Epoch: 10 \tTrain_loss_mri: 0.0222 | Train_acc_mri: 99.3750 | Train_loss_dna: 0.2867 | Train_acc_dna: 93.3218 | Validation_loss_mri: 1.8913 | Validation_acc_mri: 69.2708 | Validation_loss_dna: 6.2955 | Validation_acc_dna: 14.0625\n",
      "\u001b[36m(launch_and_fit pid=13766)\u001b[0m fc2_dna.bias 1.6689300537109375e-06\u001b[32m [repeated 23x across cluster]\u001b[0m\n",
      "\u001b[36m(launch_and_fit pid=13766)\u001b[0m dna_net.qnn.weights 1.430511474609375e-06\n",
      "\u001b[36m(launch_and_fit pid=13766)\u001b[0m attention.in_proj_weight 1.430511474609375e-06\n",
      "\u001b[36m(launch_and_fit pid=13766)\u001b[0m attention.in_proj_bias 1.1920928955078125e-06\n",
      "\u001b[36m(launch_and_fit pid=13766)\u001b[0m attention.out_proj.weight 1.6689300537109375e-06\n",
      "\u001b[36m(launch_and_fit pid=13766)\u001b[0m attention.out_proj.bias 1.6689300537109375e-06\n",
      "\u001b[36m(launch_and_fit pid=13823)\u001b[0m [Client 2, round 17] fit, config: {'learning_rate': 0.003, 'batch_size': '32', 'server_round': 17, 'local_epochs': 10}\n"
     ]
    },
    {
     "name": "stderr",
     "output_type": "stream",
     "text": [
      "  0%|\u001b[34m          \u001b[0m| 0/10 [00:00<?, ?it/s]\n",
      "100%|\u001b[34m██████████\u001b[0m| 10/10 [00:38<00:00,  3.82s/it]\n"
     ]
    },
    {
     "name": "stdout",
     "output_type": "stream",
     "text": [
      "\u001b[36m(launch_and_fit pid=13823)\u001b[0m Updated model\n"
     ]
    },
    {
     "name": "stderr",
     "output_type": "stream",
     "text": [
      " 10%|\u001b[34m█         \u001b[0m| 1/10 [00:04<00:37,  4.21s/it]\n"
     ]
    },
    {
     "name": "stdout",
     "output_type": "stream",
     "text": [
      "\u001b[36m(launch_and_fit pid=13823)\u001b[0m \tTrain Epoch: 1 \tTrain_loss_mri: 0.0900 | Train_acc_mri: 95.9375 | Train_loss_dna: 1.1412 | Train_acc_dna: 60.9259 | Validation_loss_mri: 0.8830 | Validation_acc_mri: 75.5208 | Validation_loss_dna: 4.2884 | Validation_acc_dna: 41.1458\n",
      "\u001b[36m(launch_and_fit pid=13848)\u001b[0m Run with homomorphic encryption\n",
      "\u001b[36m(launch_and_fit pid=13848)\u001b[0m [Client 5, round 17] fit, config: {'learning_rate': 0.003, 'batch_size': '32', 'server_round': 17, 'local_epochs': 10}\n",
      "\u001b[36m(launch_and_fit pid=13848)\u001b[0m Updated model\n"
     ]
    },
    {
     "name": "stderr",
     "output_type": "stream",
     "text": [
      "  0%|\u001b[34m          \u001b[0m| 0/10 [00:00<?, ?it/s]\n",
      " 30%|\u001b[34m███       \u001b[0m| 3/10 [00:11<00:27,  3.86s/it]\u001b[32m [repeated 4x across cluster]\u001b[0m\n"
     ]
    },
    {
     "name": "stdout",
     "output_type": "stream",
     "text": [
      "\u001b[36m(launch_and_fit pid=13823)\u001b[0m \tTrain Epoch: 3 \tTrain_loss_mri: 0.0727 | Train_acc_mri: 96.8750 | Train_loss_dna: 0.6825 | Train_acc_dna: 72.7778 | Validation_loss_mri: 0.5404 | Validation_acc_mri: 87.5000 | Validation_loss_dna: 3.7649 | Validation_acc_dna: 7.8125\u001b[32m [repeated 4x across cluster]\u001b[0m\n",
      "\u001b[36m(launch_and_fit pid=13848)\u001b[0m \tTrain Epoch: 4 \tTrain_loss_mri: 0.0754 | Train_acc_mri: 95.8796 | Train_loss_dna: 0.6050 | Train_acc_dna: 77.7778 | Validation_loss_mri: 0.4140 | Validation_acc_mri: 90.6250 | Validation_loss_dna: 4.1317 | Validation_acc_dna: 9.3750\u001b[32m [repeated 3x across cluster]\u001b[0m\n"
     ]
    },
    {
     "name": "stderr",
     "output_type": "stream",
     "text": [
      " 40%|\u001b[34m████      \u001b[0m| 4/10 [00:15<00:23,  3.85s/it]\u001b[32m [repeated 3x across cluster]\u001b[0m\n",
      " 60%|\u001b[34m██████    \u001b[0m| 6/10 [00:22<00:15,  3.78s/it]\u001b[32m [repeated 3x across cluster]\u001b[0m\n"
     ]
    },
    {
     "name": "stdout",
     "output_type": "stream",
     "text": [
      "\u001b[36m(launch_and_fit pid=13823)\u001b[0m \tTrain Epoch: 6 \tTrain_loss_mri: 0.0126 | Train_acc_mri: 100.0000 | Train_loss_dna: 0.3507 | Train_acc_dna: 90.7639 | Validation_loss_mri: 0.6641 | Validation_acc_mri: 72.3958 | Validation_loss_dna: 4.9156 | Validation_acc_dna: 9.3750\u001b[32m [repeated 3x across cluster]\u001b[0m\n",
      "\u001b[36m(launch_and_fit pid=13848)\u001b[0m \tTrain Epoch: 7 \tTrain_loss_mri: 0.0103 | Train_acc_mri: 99.6875 | Train_loss_dna: 0.3219 | Train_acc_dna: 90.8218 | Validation_loss_mri: 0.4929 | Validation_acc_mri: 85.9375 | Validation_loss_dna: 4.9489 | Validation_acc_dna: 10.9375\u001b[32m [repeated 3x across cluster]\u001b[0m\n"
     ]
    },
    {
     "name": "stderr",
     "output_type": "stream",
     "text": [
      " 70%|\u001b[34m███████   \u001b[0m| 7/10 [00:27<00:11,  3.91s/it]\u001b[32m [repeated 3x across cluster]\u001b[0m\n",
      " 90%|\u001b[34m█████████ \u001b[0m| 9/10 [00:34<00:03,  3.77s/it]\u001b[32m [repeated 3x across cluster]\u001b[0m\n"
     ]
    },
    {
     "name": "stdout",
     "output_type": "stream",
     "text": [
      "\u001b[36m(launch_and_fit pid=13823)\u001b[0m \tTrain Epoch: 9 \tTrain_loss_mri: 0.0448 | Train_acc_mri: 99.6296 | Train_loss_dna: 0.2495 | Train_acc_dna: 92.7546 | Validation_loss_mri: 0.6595 | Validation_acc_mri: 72.3958 | Validation_loss_dna: 5.3799 | Validation_acc_dna: 24.4792\u001b[32m [repeated 3x across cluster]\u001b[0m\n",
      "\u001b[36m(launch_and_fit pid=13823)\u001b[0m save graph in  results/FL/\n",
      "\u001b[36m(launch_and_fit pid=13823)\u001b[0m mri_net.features.0.weight 4.5299530029296875e-06\n",
      "\u001b[36m(launch_and_fit pid=13823)\u001b[0m mri_net.features.0.bias 1.430511474609375e-06\n",
      "\u001b[36m(launch_and_fit pid=13823)\u001b[0m mri_net.features.3.weight 9.5367431640625e-07\n",
      "\u001b[36m(launch_and_fit pid=13823)\u001b[0m mri_net.features.3.bias 9.5367431640625e-07\n",
      "\u001b[36m(launch_and_fit pid=13823)\u001b[0m mri_net.classifier.0.weight 9.5367431640625e-07\n",
      "\u001b[36m(launch_and_fit pid=13823)\u001b[0m mri_net.classifier.0.bias 1.1920928955078125e-06\n",
      "\u001b[36m(launch_and_fit pid=13823)\u001b[0m mri_net.classifier.2.weight 9.5367431640625e-07\n",
      "\u001b[36m(launch_and_fit pid=13823)\u001b[0m mri_net.classifier.2.bias 9.5367431640625e-07\n",
      "\u001b[36m(launch_and_fit pid=13823)\u001b[0m mri_net.classifier.3.weights 9.5367431640625e-07\n",
      "\u001b[36m(launch_and_fit pid=13823)\u001b[0m dna_net.fc1.weight 9.5367431640625e-07\n",
      "\u001b[36m(launch_and_fit pid=13823)\u001b[0m dna_net.fc1.bias 9.5367431640625e-07\n",
      "\u001b[36m(launch_and_fit pid=13823)\u001b[0m dna_net.fc2.weight 1.1920928955078125e-06\n",
      "\u001b[36m(launch_and_fit pid=13823)\u001b[0m dna_net.fc2.bias 9.5367431640625e-07\n",
      "\u001b[36m(launch_and_fit pid=13823)\u001b[0m dna_net.fc3.weight 9.5367431640625e-07\n",
      "\u001b[36m(launch_and_fit pid=13823)\u001b[0m dna_net.fc3.bias 9.5367431640625e-07\n",
      "\u001b[36m(launch_and_fit pid=13823)\u001b[0m dna_net.fc4.weight 9.5367431640625e-07\n",
      "\u001b[36m(launch_and_fit pid=13823)\u001b[0m dna_net.fc4.bias 1.1920928955078125e-06\n",
      "\u001b[36m(launch_and_fit pid=13823)\u001b[0m dna_net.qnn.weights 9.5367431640625e-07\n",
      "\u001b[36m(launch_and_fit pid=13823)\u001b[0m attention.in_proj_weight 7.152557373046875e-07\n",
      "\u001b[36m(launch_and_fit pid=13823)\u001b[0m attention.in_proj_bias 9.5367431640625e-07\n",
      "\u001b[36m(launch_and_fit pid=13823)\u001b[0m attention.out_proj.weight 9.5367431640625e-07\n",
      "\u001b[36m(launch_and_fit pid=13823)\u001b[0m attention.out_proj.bias 1.1920928955078125e-06\n",
      "\u001b[36m(launch_and_fit pid=13823)\u001b[0m fc1.weight 9.5367431640625e-07\n",
      "\u001b[36m(launch_and_fit pid=13823)\u001b[0m fc1.bias 9.5367431640625e-07\n",
      "\u001b[36m(launch_and_fit pid=13823)\u001b[0m fc2_mri.weight 1.1920928955078125e-06\n",
      "\u001b[36m(launch_and_fit pid=13823)\u001b[0m fc2_mri.bias 9.5367431640625e-07\n",
      "\u001b[36m(launch_and_fit pid=13823)\u001b[0m fc2_dna.weight 9.5367431640625e-07\n",
      "\u001b[36m(launch_and_fit pid=13823)\u001b[0m fc2_dna.bias 1.1920928955078125e-06\n",
      "\u001b[36m(launch_and_fit pid=13848)\u001b[0m \tTrain Epoch: 10 \tTrain_loss_mri: 0.0106 | Train_acc_mri: 100.0000 | Train_loss_dna: 0.2017 | Train_acc_dna: 94.2593 | Validation_loss_mri: 0.5665 | Validation_acc_mri: 87.5000 | Validation_loss_dna: 6.6254 | Validation_acc_dna: 29.1667\u001b[32m [repeated 3x across cluster]\u001b[0m\n"
     ]
    },
    {
     "name": "stderr",
     "output_type": "stream",
     "text": [
      "100%|\u001b[34m██████████\u001b[0m| 10/10 [00:38<00:00,  3.88s/it]\u001b[32m [repeated 3x across cluster]\u001b[0m\n"
     ]
    },
    {
     "name": "stdout",
     "output_type": "stream",
     "text": [
      "\u001b[36m(launch_and_fit pid=13905)\u001b[0m Run with homomorphic encryption\n",
      "\u001b[36m(launch_and_fit pid=13848)\u001b[0m save graph in  results/FL/\n",
      "\u001b[36m(launch_and_fit pid=13848)\u001b[0m fc2_dna.bias 1.430511474609375e-06\u001b[32m [repeated 23x across cluster]\u001b[0m\n",
      "\u001b[36m(launch_and_fit pid=13848)\u001b[0m dna_net.qnn.weights 1.430511474609375e-06\n",
      "\u001b[36m(launch_and_fit pid=13848)\u001b[0m attention.in_proj_weight 1.430511474609375e-06\n",
      "\u001b[36m(launch_and_fit pid=13848)\u001b[0m attention.in_proj_bias 1.6689300537109375e-06\n",
      "\u001b[36m(launch_and_fit pid=13848)\u001b[0m attention.out_proj.weight 1.430511474609375e-06\n",
      "\u001b[36m(launch_and_fit pid=13848)\u001b[0m attention.out_proj.bias 9.5367431640625e-07\n",
      "\u001b[36m(launch_and_fit pid=13905)\u001b[0m [Client 9, round 17] fit, config: {'learning_rate': 0.003, 'batch_size': '32', 'server_round': 17, 'local_epochs': 10}\n",
      "\u001b[36m(launch_and_fit pid=13905)\u001b[0m Updated model\n"
     ]
    },
    {
     "name": "stderr",
     "output_type": "stream",
     "text": [
      "  0%|\u001b[34m          \u001b[0m| 0/10 [00:00<?, ?it/s]\n"
     ]
    },
    {
     "name": "stdout",
     "output_type": "stream",
     "text": [
      "\u001b[36m(launch_and_fit pid=13930)\u001b[0m Run with homomorphic encryption\n",
      "\u001b[36m(launch_and_fit pid=13905)\u001b[0m \tTrain Epoch: 1 \tTrain_loss_mri: 0.1317 | Train_acc_mri: 96.2399 | Train_loss_dna: 1.3506 | Train_acc_dna: 57.4194 | Validation_loss_mri: 0.1072 | Validation_acc_mri: 96.8750 | Validation_loss_dna: 5.2755 | Validation_acc_dna: 24.4792\n",
      "\u001b[36m(launch_and_fit pid=13930)\u001b[0m [Client 4, round 17] fit, config: {'learning_rate': 0.003, 'batch_size': '32', 'server_round': 17, 'local_epochs': 10}\n"
     ]
    },
    {
     "name": "stderr",
     "output_type": "stream",
     "text": [
      " 10%|\u001b[34m█         \u001b[0m| 1/10 [00:04<00:41,  4.57s/it]\n",
      "  0%|\u001b[34m          \u001b[0m| 0/10 [00:00<?, ?it/s]\n"
     ]
    },
    {
     "name": "stdout",
     "output_type": "stream",
     "text": [
      "\u001b[36m(launch_and_fit pid=13930)\u001b[0m Updated model\n"
     ]
    },
    {
     "name": "stderr",
     "output_type": "stream",
     "text": [
      " 20%|\u001b[34m██        \u001b[0m| 2/10 [00:08<00:32,  4.12s/it]\u001b[32m [repeated 3x across cluster]\u001b[0m\n"
     ]
    },
    {
     "name": "stdout",
     "output_type": "stream",
     "text": [
      "\u001b[36m(launch_and_fit pid=13930)\u001b[0m \tTrain Epoch: 2 \tTrain_loss_mri: 0.1688 | Train_acc_mri: 93.5185 | Train_loss_dna: 1.0135 | Train_acc_dna: 65.9838 | Validation_loss_mri: 1.3802 | Validation_acc_mri: 64.5833 | Validation_loss_dna: 2.9435 | Validation_acc_dna: 30.7292\u001b[32m [repeated 3x across cluster]\u001b[0m\n",
      "\u001b[36m(launch_and_fit pid=13905)\u001b[0m \tTrain Epoch: 4 \tTrain_loss_mri: 0.0898 | Train_acc_mri: 96.8649 | Train_loss_dna: 0.6382 | Train_acc_dna: 75.8770 | Validation_loss_mri: 0.2652 | Validation_acc_mri: 92.1875 | Validation_loss_dna: 3.2564 | Validation_acc_dna: 44.2708\u001b[32m [repeated 3x across cluster]\u001b[0m\n"
     ]
    },
    {
     "name": "stderr",
     "output_type": "stream",
     "text": [
      " 40%|\u001b[34m████      \u001b[0m| 4/10 [00:15<00:23,  3.86s/it]\u001b[32m [repeated 3x across cluster]\u001b[0m\n",
      " 50%|\u001b[34m█████     \u001b[0m| 5/10 [00:19<00:19,  3.83s/it]\u001b[32m [repeated 3x across cluster]\u001b[0m\n"
     ]
    },
    {
     "name": "stdout",
     "output_type": "stream",
     "text": [
      "\u001b[36m(launch_and_fit pid=13930)\u001b[0m \tTrain Epoch: 5 \tTrain_loss_mri: 0.0493 | Train_acc_mri: 97.8125 | Train_loss_dna: 0.4466 | Train_acc_dna: 86.6435 | Validation_loss_mri: 2.5619 | Validation_acc_mri: 69.2708 | Validation_loss_dna: 2.7443 | Validation_acc_dna: 32.2917\u001b[32m [repeated 3x across cluster]\u001b[0m\n",
      "\u001b[36m(launch_and_fit pid=13905)\u001b[0m \tTrain Epoch: 7 \tTrain_loss_mri: 0.0221 | Train_acc_mri: 99.3750 | Train_loss_dna: 0.4217 | Train_acc_dna: 84.6673 | Validation_loss_mri: 0.2153 | Validation_acc_mri: 93.7500 | Validation_loss_dna: 3.4438 | Validation_acc_dna: 39.5833\u001b[32m [repeated 3x across cluster]\u001b[0m\n"
     ]
    },
    {
     "name": "stderr",
     "output_type": "stream",
     "text": [
      " 70%|\u001b[34m███████   \u001b[0m| 7/10 [00:27<00:11,  3.79s/it]\u001b[32m [repeated 3x across cluster]\u001b[0m\n",
      " 80%|\u001b[34m████████  \u001b[0m| 8/10 [00:30<00:07,  3.78s/it]\u001b[32m [repeated 3x across cluster]\u001b[0m\n"
     ]
    },
    {
     "name": "stdout",
     "output_type": "stream",
     "text": [
      "\u001b[36m(launch_and_fit pid=13930)\u001b[0m \tTrain Epoch: 8 \tTrain_loss_mri: 0.0202 | Train_acc_mri: 99.6875 | Train_loss_dna: 0.2495 | Train_acc_dna: 93.3796 | Validation_loss_mri: 2.9722 | Validation_acc_mri: 67.7083 | Validation_loss_dna: 4.3020 | Validation_acc_dna: 29.1667\u001b[32m [repeated 3x across cluster]\u001b[0m\n",
      "\u001b[36m(launch_and_fit pid=13905)\u001b[0m save graph in  results/FL/\n",
      "\u001b[36m(launch_and_fit pid=13905)\u001b[0m \tTrain Epoch: 10 \tTrain_loss_mri: 0.0146 | Train_acc_mri: 99.3649 | Train_loss_dna: 0.2823 | Train_acc_dna: 91.2097 | Validation_loss_mri: 0.3180 | Validation_acc_mri: 92.1875 | Validation_loss_dna: 4.2321 | Validation_acc_dna: 41.1458\u001b[32m [repeated 3x across cluster]\u001b[0m\n"
     ]
    },
    {
     "name": "stderr",
     "output_type": "stream",
     "text": [
      "100%|\u001b[34m██████████\u001b[0m| 10/10 [00:38<00:00,  3.86s/it]\u001b[32m [repeated 3x across cluster]\u001b[0m\n"
     ]
    },
    {
     "name": "stdout",
     "output_type": "stream",
     "text": [
      "\u001b[36m(launch_and_fit pid=13905)\u001b[0m mri_net.features.0.weight 5.0067901611328125e-06\n",
      "\u001b[36m(launch_and_fit pid=13905)\u001b[0m mri_net.features.0.bias 1.430511474609375e-06\n",
      "\u001b[36m(launch_and_fit pid=13905)\u001b[0m mri_net.features.3.weight 9.5367431640625e-07\n",
      "\u001b[36m(launch_and_fit pid=13905)\u001b[0m mri_net.features.3.bias 9.5367431640625e-07\n",
      "\u001b[36m(launch_and_fit pid=13905)\u001b[0m mri_net.classifier.0.weight 1.1920928955078125e-06\n",
      "\u001b[36m(launch_and_fit pid=13905)\u001b[0m mri_net.classifier.0.bias 7.152557373046875e-07\n",
      "\u001b[36m(launch_and_fit pid=13905)\u001b[0m mri_net.classifier.2.weight 1.1920928955078125e-06\n",
      "\u001b[36m(launch_and_fit pid=13905)\u001b[0m mri_net.classifier.2.bias 9.5367431640625e-07\n",
      "\u001b[36m(launch_and_fit pid=13905)\u001b[0m mri_net.classifier.3.weights 1.1920928955078125e-06\n",
      "\u001b[36m(launch_and_fit pid=13905)\u001b[0m dna_net.fc1.weight 9.5367431640625e-07\n",
      "\u001b[36m(launch_and_fit pid=13905)\u001b[0m dna_net.fc1.bias 1.1920928955078125e-06\n",
      "\u001b[36m(launch_and_fit pid=13905)\u001b[0m dna_net.fc2.weight 9.5367431640625e-07\n",
      "\u001b[36m(launch_and_fit pid=13905)\u001b[0m dna_net.fc2.bias 7.152557373046875e-07\n",
      "\u001b[36m(launch_and_fit pid=13905)\u001b[0m dna_net.fc3.weight 9.5367431640625e-07\n",
      "\u001b[36m(launch_and_fit pid=13905)\u001b[0m dna_net.fc3.bias 1.1920928955078125e-06\n",
      "\u001b[36m(launch_and_fit pid=13905)\u001b[0m dna_net.fc4.weight 9.5367431640625e-07\n",
      "\u001b[36m(launch_and_fit pid=13905)\u001b[0m dna_net.fc4.bias 9.5367431640625e-07\n",
      "\u001b[36m(launch_and_fit pid=13905)\u001b[0m dna_net.qnn.weights 1.1920928955078125e-06\n",
      "\u001b[36m(launch_and_fit pid=13905)\u001b[0m attention.in_proj_weight 9.5367431640625e-07\n",
      "\u001b[36m(launch_and_fit pid=13905)\u001b[0m attention.in_proj_bias 9.5367431640625e-07\n",
      "\u001b[36m(launch_and_fit pid=13905)\u001b[0m attention.out_proj.weight 1.1920928955078125e-06\n",
      "\u001b[36m(launch_and_fit pid=13905)\u001b[0m attention.out_proj.bias 1.1920928955078125e-06\n",
      "\u001b[36m(launch_and_fit pid=13905)\u001b[0m fc1.weight 1.1920928955078125e-06\n",
      "\u001b[36m(launch_and_fit pid=13905)\u001b[0m fc1.bias 9.5367431640625e-07\n",
      "\u001b[36m(launch_and_fit pid=13905)\u001b[0m fc2_mri.weight 1.1920928955078125e-06\n",
      "\u001b[36m(launch_and_fit pid=13905)\u001b[0m fc2_mri.bias 1.1920928955078125e-06\n",
      "\u001b[36m(launch_and_fit pid=13905)\u001b[0m fc2_dna.weight 9.5367431640625e-07\n",
      "\u001b[36m(launch_and_fit pid=13905)\u001b[0m fc2_dna.bias 9.5367431640625e-07\n"
     ]
    },
    {
     "name": "stderr",
     "output_type": "stream",
     "text": [
      "DEBUG flwr 2024-08-05 08:44:53,698 | server.py:236 | fit_round 17 received 10 results and 0 failures\n"
     ]
    },
    {
     "name": "stdout",
     "output_type": "stream",
     "text": [
      "Saving round 17 aggregated_parameters...\n"
     ]
    },
    {
     "name": "stderr",
     "output_type": "stream",
     "text": [
      "DEBUG flwr 2024-08-05 08:44:55,662 | server.py:173 | evaluate_round 17: strategy sampled 10 clients (out of 10)\n"
     ]
    },
    {
     "name": "stdout",
     "output_type": "stream",
     "text": [
      "\u001b[36m(launch_and_evaluate pid=13996)\u001b[0m Run with homomorphic encryption\n",
      "\u001b[36m(launch_and_fit pid=13930)\u001b[0m save graph in  results/FL/\n",
      "\u001b[36m(launch_and_fit pid=13930)\u001b[0m \tTrain Epoch: 10 \tTrain_loss_mri: 0.0288 | Train_acc_mri: 99.3750 | Train_loss_dna: 0.2003 | Train_acc_dna: 95.1389 | Validation_loss_mri: 3.4336 | Validation_acc_mri: 67.7083 | Validation_loss_dna: 4.6919 | Validation_acc_dna: 29.1667\n",
      "\u001b[36m(launch_and_fit pid=13930)\u001b[0m fc2_dna.bias 1.1920928955078125e-06\u001b[32m [repeated 23x across cluster]\u001b[0m\n",
      "\u001b[36m(launch_and_fit pid=13930)\u001b[0m dna_net.qnn.weights 9.5367431640625e-07\n",
      "\u001b[36m(launch_and_fit pid=13930)\u001b[0m attention.in_proj_weight 9.5367431640625e-07\n",
      "\u001b[36m(launch_and_fit pid=13930)\u001b[0m attention.in_proj_bias 1.1920928955078125e-06\n",
      "\u001b[36m(launch_and_fit pid=13930)\u001b[0m attention.out_proj.weight 1.430511474609375e-06\n",
      "\u001b[36m(launch_and_fit pid=13930)\u001b[0m attention.out_proj.bias 1.430511474609375e-06\n",
      "\u001b[36m(launch_and_evaluate pid=13997)\u001b[0m [Client 1] evaluate, config: {}\n",
      "\u001b[36m(launch_and_evaluate pid=13997)\u001b[0m Updated model\n",
      "\u001b[36m(launch_and_evaluate pid=14077)\u001b[0m Run with homomorphic encryption\u001b[32m [repeated 2x across cluster]\u001b[0m\n",
      "\u001b[36m(launch_and_evaluate pid=13996)\u001b[0m [Client 2] evaluate, config: {}\n",
      "\u001b[36m(launch_and_evaluate pid=13996)\u001b[0m Updated model\n",
      "\u001b[36m(launch_and_evaluate pid=14075)\u001b[0m [Client 0] evaluate, config: {}\n",
      "\u001b[36m(launch_and_evaluate pid=14075)\u001b[0m Updated model\n",
      "\u001b[36m(launch_and_evaluate pid=14153)\u001b[0m Run with homomorphic encryption\u001b[32m [repeated 2x across cluster]\u001b[0m\n",
      "\u001b[36m(launch_and_evaluate pid=14077)\u001b[0m [Client 6] evaluate, config: {}\n",
      "\u001b[36m(launch_and_evaluate pid=14077)\u001b[0m Updated model\n",
      "\u001b[36m(launch_and_evaluate pid=14153)\u001b[0m [Client 7] evaluate, config: {}\n",
      "\u001b[36m(launch_and_evaluate pid=14153)\u001b[0m Updated model\n"
     ]
    },
    {
     "name": "stderr",
     "output_type": "stream",
     "text": [
      "\u001b[36m(launch_and_evaluate pid=14155)\u001b[0m /opt/conda/lib/python3.10/site-packages/sklearn/metrics/_ranking.py:1029: UndefinedMetricWarning: No positive samples in y_true, true positive value should be meaningless\n",
      "\u001b[36m(launch_and_evaluate pid=14155)\u001b[0m   warnings.warn(\n",
      "100%|\u001b[34m██████████\u001b[0m| 10/10 [00:38<00:00,  3.87s/it]\n"
     ]
    },
    {
     "name": "stdout",
     "output_type": "stream",
     "text": [
      "\u001b[36m(launch_and_evaluate pid=14231)\u001b[0m Run with homomorphic encryption\u001b[32m [repeated 2x across cluster]\u001b[0m\n",
      "\u001b[36m(launch_and_evaluate pid=14155)\u001b[0m [Client 8] evaluate, config: {}\n",
      "\u001b[36m(launch_and_evaluate pid=14155)\u001b[0m Updated model\n",
      "\u001b[36m(launch_and_evaluate pid=14233)\u001b[0m [Client 5] evaluate, config: {}\n",
      "\u001b[36m(launch_and_evaluate pid=14233)\u001b[0m Updated model\n"
     ]
    },
    {
     "name": "stderr",
     "output_type": "stream",
     "text": [
      "\u001b[36m(launch_and_evaluate pid=14231)\u001b[0m /opt/conda/lib/python3.10/site-packages/sklearn/metrics/_ranking.py:1029: UndefinedMetricWarning: No positive samples in y_true, true positive value should be meaningless\n",
      "\u001b[36m(launch_and_evaluate pid=14231)\u001b[0m   warnings.warn(\n"
     ]
    },
    {
     "name": "stdout",
     "output_type": "stream",
     "text": [
      "\u001b[36m(launch_and_evaluate pid=14309)\u001b[0m Run with homomorphic encryption\u001b[32m [repeated 2x across cluster]\u001b[0m\n",
      "\u001b[36m(launch_and_evaluate pid=14231)\u001b[0m [Client 4] evaluate, config: {}\n",
      "\u001b[36m(launch_and_evaluate pid=14231)\u001b[0m Updated model\n",
      "\u001b[36m(launch_and_evaluate pid=14309)\u001b[0m [Client 9] evaluate, config: {}\n",
      "\u001b[36m(launch_and_evaluate pid=14309)\u001b[0m Updated model\n"
     ]
    },
    {
     "name": "stderr",
     "output_type": "stream",
     "text": [
      "\u001b[36m(launch_and_evaluate pid=14309)\u001b[0m /opt/conda/lib/python3.10/site-packages/sklearn/metrics/_ranking.py:1029: UndefinedMetricWarning: No positive samples in y_true, true positive value should be meaningless\n",
      "\u001b[36m(launch_and_evaluate pid=14309)\u001b[0m   warnings.warn(\n",
      "DEBUG flwr 2024-08-05 08:46:12,997 | server.py:187 | evaluate_round 17 received 10 results and 0 failures\n",
      "DEBUG flwr 2024-08-05 08:46:12,998 | server.py:222 | fit_round 18: strategy sampled 10 clients (out of 10)\n"
     ]
    },
    {
     "name": "stdout",
     "output_type": "stream",
     "text": [
      "\u001b[36m(launch_and_fit pid=14397)\u001b[0m Run with homomorphic encryption\u001b[32m [repeated 2x across cluster]\u001b[0m\n",
      "\u001b[36m(launch_and_evaluate pid=14311)\u001b[0m [Client 3] evaluate, config: {}\n",
      "\u001b[36m(launch_and_evaluate pid=14311)\u001b[0m Updated model\n",
      "\u001b[36m(launch_and_fit pid=14397)\u001b[0m [Client 3, round 18] fit, config: {'learning_rate': 0.003, 'batch_size': '32', 'server_round': 18, 'local_epochs': 10}\n",
      "\u001b[36m(launch_and_fit pid=14397)\u001b[0m Updated model\n"
     ]
    },
    {
     "name": "stderr",
     "output_type": "stream",
     "text": [
      "  0%|\u001b[34m          \u001b[0m| 0/10 [00:00<?, ?it/s]\n"
     ]
    },
    {
     "name": "stdout",
     "output_type": "stream",
     "text": [
      "\u001b[36m(launch_and_fit pid=14397)\u001b[0m \tTrain Epoch: 1 \tTrain_loss_mri: 0.1405 | Train_acc_mri: 95.3935 | Train_loss_dna: 1.1271 | Train_acc_dna: 57.1759 | Validation_loss_mri: 0.5510 | Validation_acc_mri: 92.1875 | Validation_loss_dna: 5.9970 | Validation_acc_dna: 12.5000\n",
      "\u001b[36m(launch_and_fit pid=14396)\u001b[0m Run with homomorphic encryption\n",
      "\u001b[36m(launch_and_fit pid=14396)\u001b[0m [Client 6, round 18] fit, config: {'learning_rate': 0.003, 'batch_size': '32', 'server_round': 18, 'local_epochs': 10}\n"
     ]
    },
    {
     "name": "stderr",
     "output_type": "stream",
     "text": [
      " 10%|\u001b[34m█         \u001b[0m| 1/10 [00:04<00:39,  4.36s/it]\n"
     ]
    },
    {
     "name": "stdout",
     "output_type": "stream",
     "text": [
      "\u001b[36m(launch_and_fit pid=14396)\u001b[0m Updated model\n"
     ]
    },
    {
     "name": "stderr",
     "output_type": "stream",
     "text": [
      "  0%|\u001b[34m          \u001b[0m| 0/10 [00:00<?, ?it/s]\n"
     ]
    },
    {
     "name": "stdout",
     "output_type": "stream",
     "text": [
      "\u001b[36m(launch_and_fit pid=14396)\u001b[0m \tTrain Epoch: 3 \tTrain_loss_mri: 0.1123 | Train_acc_mri: 96.4468 | Train_loss_dna: 0.8199 | Train_acc_dna: 72.3495 | Validation_loss_mri: 1.5872 | Validation_acc_mri: 69.2708 | Validation_loss_dna: 4.8446 | Validation_acc_dna: 30.7292\u001b[32m [repeated 4x across cluster]\u001b[0m\n"
     ]
    },
    {
     "name": "stderr",
     "output_type": "stream",
     "text": [
      " 30%|\u001b[34m███       \u001b[0m| 3/10 [00:11<00:27,  3.88s/it]\u001b[32m [repeated 4x across cluster]\u001b[0m\n"
     ]
    },
    {
     "name": "stdout",
     "output_type": "stream",
     "text": [
      "\u001b[36m(launch_and_fit pid=14396)\u001b[0m \tTrain Epoch: 5 \tTrain_loss_mri: 0.0443 | Train_acc_mri: 98.7500 | Train_loss_dna: 0.4317 | Train_acc_dna: 85.0810 | Validation_loss_mri: 1.5897 | Validation_acc_mri: 67.7083 | Validation_loss_dna: 5.3192 | Validation_acc_dna: 6.2500\u001b[32m [repeated 4x across cluster]\u001b[0m\n"
     ]
    },
    {
     "name": "stderr",
     "output_type": "stream",
     "text": [
      " 50%|\u001b[34m█████     \u001b[0m| 5/10 [00:19<00:19,  3.80s/it]\u001b[32m [repeated 4x across cluster]\u001b[0m\n"
     ]
    },
    {
     "name": "stdout",
     "output_type": "stream",
     "text": [
      "\u001b[36m(launch_and_fit pid=14396)\u001b[0m \tTrain Epoch: 7 \tTrain_loss_mri: 0.0198 | Train_acc_mri: 99.6875 | Train_loss_dna: 0.3077 | Train_acc_dna: 90.7639 | Validation_loss_mri: 1.7944 | Validation_acc_mri: 69.2708 | Validation_loss_dna: 5.7505 | Validation_acc_dna: 7.8125\u001b[32m [repeated 4x across cluster]\u001b[0m\n"
     ]
    },
    {
     "name": "stderr",
     "output_type": "stream",
     "text": [
      " 70%|\u001b[34m███████   \u001b[0m| 7/10 [00:26<00:11,  3.79s/it]\u001b[32m [repeated 4x across cluster]\u001b[0m\n"
     ]
    },
    {
     "name": "stdout",
     "output_type": "stream",
     "text": [
      "\u001b[36m(launch_and_fit pid=14396)\u001b[0m \tTrain Epoch: 9 \tTrain_loss_mri: 0.0116 | Train_acc_mri: 100.0000 | Train_loss_dna: 0.2542 | Train_acc_dna: 93.3796 | Validation_loss_mri: 2.1509 | Validation_acc_mri: 70.8333 | Validation_loss_dna: 6.0308 | Validation_acc_dna: 12.5000\u001b[32m [repeated 4x across cluster]\u001b[0m\n"
     ]
    },
    {
     "name": "stderr",
     "output_type": "stream",
     "text": [
      " 90%|\u001b[34m█████████ \u001b[0m| 9/10 [00:34<00:03,  3.80s/it]\u001b[32m [repeated 4x across cluster]\u001b[0m\n"
     ]
    },
    {
     "name": "stdout",
     "output_type": "stream",
     "text": [
      "\u001b[36m(launch_and_fit pid=14396)\u001b[0m save graph in  results/FL/\n",
      "\u001b[36m(launch_and_fit pid=14396)\u001b[0m mri_net.features.0.weight 4.291534423828125e-06\n",
      "\u001b[36m(launch_and_fit pid=14396)\u001b[0m mri_net.features.0.bias 1.1920928955078125e-06\n",
      "\u001b[36m(launch_and_fit pid=14396)\u001b[0m mri_net.features.3.weight 9.5367431640625e-07\n",
      "\u001b[36m(launch_and_fit pid=14396)\u001b[0m mri_net.features.3.bias 9.5367431640625e-07\n",
      "\u001b[36m(launch_and_fit pid=14396)\u001b[0m mri_net.classifier.0.weight 1.430511474609375e-06\n",
      "\u001b[36m(launch_and_fit pid=14396)\u001b[0m mri_net.classifier.0.bias 1.1920928955078125e-06\n",
      "\u001b[36m(launch_and_fit pid=14396)\u001b[0m mri_net.classifier.2.weight 7.152557373046875e-07\n",
      "\u001b[36m(launch_and_fit pid=14396)\u001b[0m mri_net.classifier.2.bias 9.5367431640625e-07\n",
      "\u001b[36m(launch_and_fit pid=14396)\u001b[0m mri_net.classifier.3.weights 1.1920928955078125e-06\n",
      "\u001b[36m(launch_and_fit pid=14396)\u001b[0m dna_net.fc1.weight 1.1920928955078125e-06\n",
      "\u001b[36m(launch_and_fit pid=14396)\u001b[0m dna_net.fc1.bias 9.5367431640625e-07\n",
      "\u001b[36m(launch_and_fit pid=14396)\u001b[0m dna_net.fc2.weight 9.5367431640625e-07\n",
      "\u001b[36m(launch_and_fit pid=14396)\u001b[0m dna_net.fc2.bias 9.5367431640625e-07\n",
      "\u001b[36m(launch_and_fit pid=14396)\u001b[0m dna_net.fc3.weight 9.5367431640625e-07\n",
      "\u001b[36m(launch_and_fit pid=14396)\u001b[0m dna_net.fc3.bias 9.5367431640625e-07\n",
      "\u001b[36m(launch_and_fit pid=14396)\u001b[0m dna_net.fc4.weight 9.5367431640625e-07\n",
      "\u001b[36m(launch_and_fit pid=14396)\u001b[0m dna_net.fc4.bias 1.1920928955078125e-06\n",
      "\u001b[36m(launch_and_fit pid=14396)\u001b[0m dna_net.qnn.weights 1.1920928955078125e-06\n",
      "\u001b[36m(launch_and_fit pid=14396)\u001b[0m attention.in_proj_weight 9.5367431640625e-07\n",
      "\u001b[36m(launch_and_fit pid=14396)\u001b[0m attention.in_proj_bias 1.1920928955078125e-06\n",
      "\u001b[36m(launch_and_fit pid=14396)\u001b[0m attention.out_proj.weight 9.5367431640625e-07\n",
      "\u001b[36m(launch_and_fit pid=14396)\u001b[0m attention.out_proj.bias 9.5367431640625e-07\n",
      "\u001b[36m(launch_and_fit pid=14396)\u001b[0m fc1.weight 1.430511474609375e-06\n",
      "\u001b[36m(launch_and_fit pid=14396)\u001b[0m fc1.bias 1.6689300537109375e-06\n",
      "\u001b[36m(launch_and_fit pid=14396)\u001b[0m fc2_mri.weight 1.9073486328125e-06\n",
      "\u001b[36m(launch_and_fit pid=14396)\u001b[0m fc2_mri.bias 1.1920928955078125e-06\n",
      "\u001b[36m(launch_and_fit pid=14396)\u001b[0m fc2_dna.weight 9.5367431640625e-07\n",
      "\u001b[36m(launch_and_fit pid=14396)\u001b[0m fc2_dna.bias 9.5367431640625e-07\n",
      "\u001b[36m(launch_and_fit pid=14397)\u001b[0m \tTrain Epoch: 10 \tTrain_loss_mri: 0.0141 | Train_acc_mri: 99.6875 | Train_loss_dna: 0.2573 | Train_acc_dna: 92.5000 | Validation_loss_mri: 0.5916 | Validation_acc_mri: 92.1875 | Validation_loss_dna: 5.7215 | Validation_acc_dna: 9.3750\u001b[32m [repeated 3x across cluster]\u001b[0m\n",
      "\u001b[36m(launch_and_fit pid=14477)\u001b[0m Run with homomorphic encryption\n",
      "\u001b[36m(launch_and_fit pid=14397)\u001b[0m save graph in  results/FL/\n",
      "\u001b[36m(launch_and_fit pid=14397)\u001b[0m fc2_dna.bias 9.5367431640625e-07\u001b[32m [repeated 23x across cluster]\u001b[0m\n",
      "\u001b[36m(launch_and_fit pid=14397)\u001b[0m dna_net.qnn.weights 1.1920928955078125e-06\n",
      "\u001b[36m(launch_and_fit pid=14397)\u001b[0m attention.in_proj_weight 1.1920928955078125e-06\n",
      "\u001b[36m(launch_and_fit pid=14397)\u001b[0m attention.in_proj_bias 9.5367431640625e-07\n",
      "\u001b[36m(launch_and_fit pid=14397)\u001b[0m attention.out_proj.weight 9.5367431640625e-07\n",
      "\u001b[36m(launch_and_fit pid=14397)\u001b[0m attention.out_proj.bias 1.1920928955078125e-06\n",
      "\u001b[36m(launch_and_fit pid=14477)\u001b[0m [Client 8, round 18] fit, config: {'learning_rate': 0.003, 'batch_size': '32', 'server_round': 18, 'local_epochs': 10}\n",
      "\u001b[36m(launch_and_fit pid=14477)\u001b[0m Updated model\n"
     ]
    },
    {
     "name": "stderr",
     "output_type": "stream",
     "text": [
      "  0%|\u001b[34m          \u001b[0m| 0/10 [00:00<?, ?it/s]\n",
      "100%|\u001b[34m██████████\u001b[0m| 10/10 [00:39<00:00,  3.94s/it]\u001b[32m [repeated 3x across cluster]\u001b[0m\n"
     ]
    },
    {
     "name": "stdout",
     "output_type": "stream",
     "text": [
      "\u001b[36m(launch_and_fit pid=14477)\u001b[0m \tTrain Epoch: 1 \tTrain_loss_mri: 0.1146 | Train_acc_mri: 96.5046 | Train_loss_dna: 0.8293 | Train_acc_dna: 67.2917 | Validation_loss_mri: 1.4107 | Validation_acc_mri: 69.2708 | Validation_loss_dna: 3.5036 | Validation_acc_dna: 41.1458\n",
      "\u001b[36m(launch_and_fit pid=14502)\u001b[0m Run with homomorphic encryption\n",
      "\u001b[36m(launch_and_fit pid=14502)\u001b[0m [Client 4, round 18] fit, config: {'learning_rate': 0.003, 'batch_size': '32', 'server_round': 18, 'local_epochs': 10}\n"
     ]
    },
    {
     "name": "stderr",
     "output_type": "stream",
     "text": [
      "  0%|\u001b[34m          \u001b[0m| 0/10 [00:00<?, ?it/s]\n",
      " 10%|\u001b[34m█         \u001b[0m| 1/10 [00:04<00:38,  4.31s/it]\u001b[32m [repeated 2x across cluster]\u001b[0m\n"
     ]
    },
    {
     "name": "stdout",
     "output_type": "stream",
     "text": [
      "\u001b[36m(launch_and_fit pid=14502)\u001b[0m Updated model\n",
      "\u001b[36m(launch_and_fit pid=14477)\u001b[0m \tTrain Epoch: 3 \tTrain_loss_mri: 0.0865 | Train_acc_mri: 96.8750 | Train_loss_dna: 0.6865 | Train_acc_dna: 76.2153 | Validation_loss_mri: 1.0174 | Validation_acc_mri: 72.3958 | Validation_loss_dna: 3.0193 | Validation_acc_dna: 59.3750\u001b[32m [repeated 4x across cluster]\u001b[0m\n"
     ]
    },
    {
     "name": "stderr",
     "output_type": "stream",
     "text": [
      " 30%|\u001b[34m███       \u001b[0m| 3/10 [00:12<00:27,  3.98s/it]\u001b[32m [repeated 3x across cluster]\u001b[0m\n"
     ]
    },
    {
     "name": "stdout",
     "output_type": "stream",
     "text": [
      "\u001b[36m(launch_and_fit pid=14477)\u001b[0m \tTrain Epoch: 5 \tTrain_loss_mri: 0.0578 | Train_acc_mri: 97.5000 | Train_loss_dna: 0.3592 | Train_acc_dna: 87.7199 | Validation_loss_mri: 1.0506 | Validation_acc_mri: 73.9583 | Validation_loss_dna: 3.1228 | Validation_acc_dna: 42.7083\u001b[32m [repeated 4x across cluster]\u001b[0m\n"
     ]
    },
    {
     "name": "stderr",
     "output_type": "stream",
     "text": [
      " 50%|\u001b[34m█████     \u001b[0m| 5/10 [00:19<00:19,  3.89s/it]\u001b[32m [repeated 4x across cluster]\u001b[0m\n"
     ]
    },
    {
     "name": "stdout",
     "output_type": "stream",
     "text": [
      "\u001b[36m(launch_and_fit pid=14477)\u001b[0m \tTrain Epoch: 7 \tTrain_loss_mri: 0.0217 | Train_acc_mri: 99.3750 | Train_loss_dna: 0.3052 | Train_acc_dna: 91.7014 | Validation_loss_mri: 0.9755 | Validation_acc_mri: 90.6250 | Validation_loss_dna: 3.4359 | Validation_acc_dna: 57.8125\u001b[32m [repeated 4x across cluster]\u001b[0m\n"
     ]
    },
    {
     "name": "stderr",
     "output_type": "stream",
     "text": [
      " 70%|\u001b[34m███████   \u001b[0m| 7/10 [00:27<00:11,  3.83s/it]\u001b[32m [repeated 4x across cluster]\u001b[0m\n"
     ]
    },
    {
     "name": "stdout",
     "output_type": "stream",
     "text": [
      "\u001b[36m(launch_and_fit pid=14477)\u001b[0m \tTrain Epoch: 9 \tTrain_loss_mri: 0.0300 | Train_acc_mri: 99.0625 | Train_loss_dna: 0.1961 | Train_acc_dna: 95.6250 | Validation_loss_mri: 1.4536 | Validation_acc_mri: 72.3958 | Validation_loss_dna: 3.8519 | Validation_acc_dna: 42.7083\u001b[32m [repeated 4x across cluster]\u001b[0m\n"
     ]
    },
    {
     "name": "stderr",
     "output_type": "stream",
     "text": [
      " 90%|\u001b[34m█████████ \u001b[0m| 9/10 [00:34<00:03,  3.79s/it]\u001b[32m [repeated 4x across cluster]\u001b[0m\n"
     ]
    },
    {
     "name": "stdout",
     "output_type": "stream",
     "text": [
      "\u001b[36m(launch_and_fit pid=14477)\u001b[0m save graph in  results/FL/\n",
      "\u001b[36m(launch_and_fit pid=14477)\u001b[0m mri_net.features.0.weight 6.67572021484375e-06\n",
      "\u001b[36m(launch_and_fit pid=14477)\u001b[0m mri_net.features.0.bias 1.430511474609375e-06\n",
      "\u001b[36m(launch_and_fit pid=14477)\u001b[0m mri_net.features.3.weight 1.430511474609375e-06\n",
      "\u001b[36m(launch_and_fit pid=14477)\u001b[0m mri_net.features.3.bias 1.1920928955078125e-06\n",
      "\u001b[36m(launch_and_fit pid=14477)\u001b[0m mri_net.classifier.0.weight 9.5367431640625e-07\n",
      "\u001b[36m(launch_and_fit pid=14477)\u001b[0m mri_net.classifier.0.bias 2.1457672119140625e-06\n",
      "\u001b[36m(launch_and_fit pid=14477)\u001b[0m mri_net.classifier.2.weight 1.6689300537109375e-06\n",
      "\u001b[36m(launch_and_fit pid=14477)\u001b[0m mri_net.classifier.2.bias 1.1920928955078125e-06\n",
      "\u001b[36m(launch_and_fit pid=14477)\u001b[0m mri_net.classifier.3.weights 9.5367431640625e-07\n",
      "\u001b[36m(launch_and_fit pid=14477)\u001b[0m dna_net.fc1.weight 1.1920928955078125e-06\n",
      "\u001b[36m(launch_and_fit pid=14477)\u001b[0m dna_net.fc1.bias 1.430511474609375e-06\n",
      "\u001b[36m(launch_and_fit pid=14477)\u001b[0m dna_net.fc2.weight 1.1920928955078125e-06\n",
      "\u001b[36m(launch_and_fit pid=14477)\u001b[0m dna_net.fc2.bias 9.5367431640625e-07\n",
      "\u001b[36m(launch_and_fit pid=14477)\u001b[0m dna_net.fc3.weight 9.5367431640625e-07\n",
      "\u001b[36m(launch_and_fit pid=14477)\u001b[0m dna_net.fc3.bias 9.5367431640625e-07\n",
      "\u001b[36m(launch_and_fit pid=14477)\u001b[0m dna_net.fc4.weight 1.1920928955078125e-06\n",
      "\u001b[36m(launch_and_fit pid=14477)\u001b[0m dna_net.fc4.bias 1.6689300537109375e-06\n",
      "\u001b[36m(launch_and_fit pid=14477)\u001b[0m dna_net.qnn.weights 1.9073486328125e-06\n",
      "\u001b[36m(launch_and_fit pid=14477)\u001b[0m attention.in_proj_weight 1.6689300537109375e-06\n",
      "\u001b[36m(launch_and_fit pid=14477)\u001b[0m attention.in_proj_bias 9.5367431640625e-07\n",
      "\u001b[36m(launch_and_fit pid=14477)\u001b[0m attention.out_proj.weight 1.1920928955078125e-06\n",
      "\u001b[36m(launch_and_fit pid=14477)\u001b[0m attention.out_proj.bias 9.5367431640625e-07\n",
      "\u001b[36m(launch_and_fit pid=14477)\u001b[0m fc1.weight 9.5367431640625e-07\n",
      "\u001b[36m(launch_and_fit pid=14477)\u001b[0m fc1.bias 9.5367431640625e-07\n",
      "\u001b[36m(launch_and_fit pid=14477)\u001b[0m fc2_mri.weight 9.5367431640625e-07\n",
      "\u001b[36m(launch_and_fit pid=14477)\u001b[0m fc2_mri.bias 1.1920928955078125e-06\n",
      "\u001b[36m(launch_and_fit pid=14477)\u001b[0m fc2_dna.weight 1.430511474609375e-06\n",
      "\u001b[36m(launch_and_fit pid=14477)\u001b[0m fc2_dna.bias 1.1920928955078125e-06\n",
      "\u001b[36m(launch_and_fit pid=14502)\u001b[0m \tTrain Epoch: 10 \tTrain_loss_mri: 0.0111 | Train_acc_mri: 100.0000 | Train_loss_dna: 0.2172 | Train_acc_dna: 95.3125 | Validation_loss_mri: 3.8484 | Validation_acc_mri: 67.7083 | Validation_loss_dna: 4.1076 | Validation_acc_dna: 30.7292\u001b[32m [repeated 3x across cluster]\u001b[0m\n",
      "\u001b[36m(launch_and_fit pid=14559)\u001b[0m Run with homomorphic encryption\n",
      "\u001b[36m(launch_and_fit pid=14502)\u001b[0m save graph in  results/FL/\n",
      "\u001b[36m(launch_and_fit pid=14502)\u001b[0m fc2_dna.bias 1.1920928955078125e-06\u001b[32m [repeated 23x across cluster]\u001b[0m\n",
      "\u001b[36m(launch_and_fit pid=14502)\u001b[0m dna_net.qnn.weights 1.9073486328125e-06\n",
      "\u001b[36m(launch_and_fit pid=14502)\u001b[0m attention.in_proj_weight 1.6689300537109375e-06\n",
      "\u001b[36m(launch_and_fit pid=14502)\u001b[0m attention.in_proj_bias 1.6689300537109375e-06\n",
      "\u001b[36m(launch_and_fit pid=14502)\u001b[0m attention.out_proj.weight 2.1457672119140625e-06\n",
      "\u001b[36m(launch_and_fit pid=14502)\u001b[0m attention.out_proj.bias 1.1920928955078125e-06\n",
      "\u001b[36m(launch_and_fit pid=14559)\u001b[0m [Client 0, round 18] fit, config: {'learning_rate': 0.003, 'batch_size': '32', 'server_round': 18, 'local_epochs': 10}\n",
      "\u001b[36m(launch_and_fit pid=14559)\u001b[0m Updated model\n"
     ]
    },
    {
     "name": "stderr",
     "output_type": "stream",
     "text": [
      "  0%|\u001b[34m          \u001b[0m| 0/10 [00:00<?, ?it/s]\n",
      "100%|\u001b[34m██████████\u001b[0m| 10/10 [00:38<00:00,  3.88s/it]\u001b[32m [repeated 3x across cluster]\u001b[0m\n"
     ]
    },
    {
     "name": "stdout",
     "output_type": "stream",
     "text": [
      "\u001b[36m(launch_and_fit pid=14559)\u001b[0m \tTrain Epoch: 1 \tTrain_loss_mri: 0.0969 | Train_acc_mri: 97.8125 | Train_loss_dna: 1.1502 | Train_acc_dna: 61.4699 | Validation_loss_mri: 0.7397 | Validation_acc_mri: 75.5208 | Validation_loss_dna: 5.0255 | Validation_acc_dna: 15.6250\n",
      "\u001b[36m(launch_and_fit pid=14584)\u001b[0m Run with homomorphic encryption\n",
      "\u001b[36m(launch_and_fit pid=14584)\u001b[0m [Client 7, round 18] fit, config: {'learning_rate': 0.003, 'batch_size': '32', 'server_round': 18, 'local_epochs': 10}\n",
      "\u001b[36m(launch_and_fit pid=14584)\u001b[0m Updated model\n"
     ]
    },
    {
     "name": "stderr",
     "output_type": "stream",
     "text": [
      "  0%|\u001b[34m          \u001b[0m| 0/10 [00:00<?, ?it/s]\n",
      " 10%|\u001b[34m█         \u001b[0m| 1/10 [00:04<00:39,  4.36s/it]\u001b[32m [repeated 2x across cluster]\u001b[0m\n"
     ]
    },
    {
     "name": "stdout",
     "output_type": "stream",
     "text": [
      "\u001b[36m(launch_and_fit pid=14559)\u001b[0m \tTrain Epoch: 3 \tTrain_loss_mri: 0.2102 | Train_acc_mri: 93.3218 | Train_loss_dna: 0.9509 | Train_acc_dna: 66.4931 | Validation_loss_mri: 0.7176 | Validation_acc_mri: 89.0625 | Validation_loss_dna: 4.3370 | Validation_acc_dna: 29.1667\u001b[32m [repeated 4x across cluster]\u001b[0m\n"
     ]
    },
    {
     "name": "stderr",
     "output_type": "stream",
     "text": [
      " 30%|\u001b[34m███       \u001b[0m| 3/10 [00:11<00:26,  3.85s/it]\u001b[32m [repeated 3x across cluster]\u001b[0m\n"
     ]
    },
    {
     "name": "stdout",
     "output_type": "stream",
     "text": [
      "\u001b[36m(launch_and_fit pid=14584)\u001b[0m \tTrain Epoch: 4 \tTrain_loss_mri: 0.0529 | Train_acc_mri: 97.4421 | Train_loss_dna: 0.5714 | Train_acc_dna: 78.4028 | Validation_loss_mri: 1.4202 | Validation_acc_mri: 77.0833 | Validation_loss_dna: 2.4113 | Validation_acc_dna: 47.3958\u001b[32m [repeated 3x across cluster]\u001b[0m\n"
     ]
    },
    {
     "name": "stderr",
     "output_type": "stream",
     "text": [
      " 40%|\u001b[34m████      \u001b[0m| 4/10 [00:16<00:23,  3.99s/it]\u001b[32m [repeated 3x across cluster]\u001b[0m\n"
     ]
    },
    {
     "name": "stdout",
     "output_type": "stream",
     "text": [
      "\u001b[36m(launch_and_fit pid=14559)\u001b[0m \tTrain Epoch: 6 \tTrain_loss_mri: 0.0665 | Train_acc_mri: 98.1250 | Train_loss_dna: 0.4953 | Train_acc_dna: 81.3310 | Validation_loss_mri: 1.5430 | Validation_acc_mri: 69.2708 | Validation_loss_dna: 4.9207 | Validation_acc_dna: 15.6250\u001b[32m [repeated 3x across cluster]\u001b[0m\n"
     ]
    },
    {
     "name": "stderr",
     "output_type": "stream",
     "text": [
      " 60%|\u001b[34m██████    \u001b[0m| 6/10 [00:23<00:15,  3.85s/it]\u001b[32m [repeated 3x across cluster]\u001b[0m\n"
     ]
    },
    {
     "name": "stdout",
     "output_type": "stream",
     "text": [
      "\u001b[36m(launch_and_fit pid=14559)\u001b[0m \tTrain Epoch: 8 \tTrain_loss_mri: 0.0140 | Train_acc_mri: 100.0000 | Train_loss_dna: 0.3661 | Train_acc_dna: 89.2014 | Validation_loss_mri: 1.6021 | Validation_acc_mri: 67.7083 | Validation_loss_dna: 5.3709 | Validation_acc_dna: 14.0625\u001b[32m [repeated 4x across cluster]\u001b[0m\n"
     ]
    },
    {
     "name": "stderr",
     "output_type": "stream",
     "text": [
      " 80%|\u001b[34m████████  \u001b[0m| 8/10 [00:30<00:07,  3.80s/it]\u001b[32m [repeated 4x across cluster]\u001b[0m\n"
     ]
    },
    {
     "name": "stdout",
     "output_type": "stream",
     "text": [
      "\u001b[36m(launch_and_fit pid=14559)\u001b[0m save graph in  results/FL/\n",
      "\u001b[36m(launch_and_fit pid=14559)\u001b[0m \tTrain Epoch: 10 \tTrain_loss_mri: 0.0155 | Train_acc_mri: 100.0000 | Train_loss_dna: 0.2718 | Train_acc_dna: 92.7546 | Validation_loss_mri: 1.9127 | Validation_acc_mri: 67.7083 | Validation_loss_dna: 6.0207 | Validation_acc_dna: 10.9375\u001b[32m [repeated 4x across cluster]\u001b[0m\n"
     ]
    },
    {
     "name": "stderr",
     "output_type": "stream",
     "text": [
      "100%|\u001b[34m██████████\u001b[0m| 10/10 [00:38<00:00,  3.84s/it]\u001b[32m [repeated 4x across cluster]\u001b[0m\n"
     ]
    },
    {
     "name": "stdout",
     "output_type": "stream",
     "text": [
      "\u001b[36m(launch_and_fit pid=14559)\u001b[0m mri_net.features.0.weight 4.76837158203125e-06\n",
      "\u001b[36m(launch_and_fit pid=14559)\u001b[0m mri_net.features.0.bias 1.1920928955078125e-06\n",
      "\u001b[36m(launch_and_fit pid=14559)\u001b[0m mri_net.features.3.weight 1.1920928955078125e-06\n",
      "\u001b[36m(launch_and_fit pid=14559)\u001b[0m mri_net.features.3.bias 1.1920928955078125e-06\n",
      "\u001b[36m(launch_and_fit pid=14559)\u001b[0m mri_net.classifier.0.weight 9.5367431640625e-07\n",
      "\u001b[36m(launch_and_fit pid=14559)\u001b[0m mri_net.classifier.0.bias 9.5367431640625e-07\n",
      "\u001b[36m(launch_and_fit pid=14559)\u001b[0m mri_net.classifier.2.weight 1.1920928955078125e-06\n",
      "\u001b[36m(launch_and_fit pid=14559)\u001b[0m mri_net.classifier.2.bias 9.5367431640625e-07\n",
      "\u001b[36m(launch_and_fit pid=14559)\u001b[0m mri_net.classifier.3.weights 9.5367431640625e-07\n",
      "\u001b[36m(launch_and_fit pid=14559)\u001b[0m dna_net.fc1.weight 1.1920928955078125e-06\n",
      "\u001b[36m(launch_and_fit pid=14559)\u001b[0m dna_net.fc1.bias 9.5367431640625e-07\n",
      "\u001b[36m(launch_and_fit pid=14559)\u001b[0m dna_net.fc2.weight 9.5367431640625e-07\n",
      "\u001b[36m(launch_and_fit pid=14559)\u001b[0m dna_net.fc2.bias 1.1920928955078125e-06\n",
      "\u001b[36m(launch_and_fit pid=14559)\u001b[0m dna_net.fc3.weight 9.5367431640625e-07\n",
      "\u001b[36m(launch_and_fit pid=14559)\u001b[0m dna_net.fc3.bias 9.5367431640625e-07\n",
      "\u001b[36m(launch_and_fit pid=14559)\u001b[0m dna_net.fc4.weight 1.1920928955078125e-06\n",
      "\u001b[36m(launch_and_fit pid=14559)\u001b[0m dna_net.fc4.bias 9.5367431640625e-07\n",
      "\u001b[36m(launch_and_fit pid=14559)\u001b[0m dna_net.qnn.weights 9.5367431640625e-07\n",
      "\u001b[36m(launch_and_fit pid=14559)\u001b[0m attention.in_proj_weight 9.5367431640625e-07\n",
      "\u001b[36m(launch_and_fit pid=14559)\u001b[0m attention.in_proj_bias 1.1920928955078125e-06\n",
      "\u001b[36m(launch_and_fit pid=14559)\u001b[0m attention.out_proj.weight 9.5367431640625e-07\n",
      "\u001b[36m(launch_and_fit pid=14559)\u001b[0m attention.out_proj.bias 9.5367431640625e-07\n",
      "\u001b[36m(launch_and_fit pid=14559)\u001b[0m fc1.weight 9.5367431640625e-07\n",
      "\u001b[36m(launch_and_fit pid=14559)\u001b[0m fc1.bias 1.1920928955078125e-06\n",
      "\u001b[36m(launch_and_fit pid=14559)\u001b[0m fc2_mri.weight 9.5367431640625e-07\n",
      "\u001b[36m(launch_and_fit pid=14559)\u001b[0m fc2_mri.bias 9.5367431640625e-07\n",
      "\u001b[36m(launch_and_fit pid=14559)\u001b[0m fc2_dna.weight 7.152557373046875e-07\n",
      "\u001b[36m(launch_and_fit pid=14559)\u001b[0m fc2_dna.bias 1.1920928955078125e-06\n",
      "\u001b[36m(launch_and_fit pid=14642)\u001b[0m Run with homomorphic encryption\n",
      "\u001b[36m(launch_and_fit pid=14584)\u001b[0m save graph in  results/FL/\n",
      "\u001b[36m(launch_and_fit pid=14584)\u001b[0m \tTrain Epoch: 10 \tTrain_loss_mri: 0.0269 | Train_acc_mri: 99.0625 | Train_loss_dna: 0.2512 | Train_acc_dna: 94.5718 | Validation_loss_mri: 1.8086 | Validation_acc_mri: 77.0833 | Validation_loss_dna: 3.2827 | Validation_acc_dna: 27.6042\n",
      "\u001b[36m(launch_and_fit pid=14584)\u001b[0m fc2_dna.bias 1.1920928955078125e-06\u001b[32m [repeated 23x across cluster]\u001b[0m\n",
      "\u001b[36m(launch_and_fit pid=14584)\u001b[0m dna_net.qnn.weights 9.5367431640625e-07\n",
      "\u001b[36m(launch_and_fit pid=14584)\u001b[0m attention.in_proj_weight 1.1920928955078125e-06\n",
      "\u001b[36m(launch_and_fit pid=14584)\u001b[0m attention.in_proj_bias 1.1920928955078125e-06\n",
      "\u001b[36m(launch_and_fit pid=14584)\u001b[0m attention.out_proj.weight 9.5367431640625e-07\n",
      "\u001b[36m(launch_and_fit pid=14584)\u001b[0m attention.out_proj.bias 9.5367431640625e-07\n",
      "\u001b[36m(launch_and_fit pid=14642)\u001b[0m [Client 1, round 18] fit, config: {'learning_rate': 0.003, 'batch_size': '32', 'server_round': 18, 'local_epochs': 10}\n",
      "\u001b[36m(launch_and_fit pid=14642)\u001b[0m Updated model\n"
     ]
    },
    {
     "name": "stderr",
     "output_type": "stream",
     "text": [
      "  0%|\u001b[34m          \u001b[0m| 0/10 [00:00<?, ?it/s]\n",
      "100%|\u001b[34m██████████\u001b[0m| 10/10 [00:38<00:00,  3.86s/it]\n"
     ]
    },
    {
     "name": "stdout",
     "output_type": "stream",
     "text": [
      "\u001b[36m(launch_and_fit pid=14642)\u001b[0m \tTrain Epoch: 1 \tTrain_loss_mri: 0.1640 | Train_acc_mri: 94.5718 | Train_loss_dna: 1.1002 | Train_acc_dna: 59.3634 | Validation_loss_mri: 0.8376 | Validation_acc_mri: 60.4167 | Validation_loss_dna: 4.3527 | Validation_acc_dna: 24.4792\n",
      "\u001b[36m(launch_and_fit pid=14666)\u001b[0m Run with homomorphic encryption\n",
      "\u001b[36m(launch_and_fit pid=14666)\u001b[0m [Client 9, round 18] fit, config: {'learning_rate': 0.003, 'batch_size': '32', 'server_round': 18, 'local_epochs': 10}\n"
     ]
    },
    {
     "name": "stderr",
     "output_type": "stream",
     "text": [
      " 10%|\u001b[34m█         \u001b[0m| 1/10 [00:04<00:37,  4.18s/it]\n"
     ]
    },
    {
     "name": "stdout",
     "output_type": "stream",
     "text": [
      "\u001b[36m(launch_and_fit pid=14666)\u001b[0m Updated model\n"
     ]
    },
    {
     "name": "stderr",
     "output_type": "stream",
     "text": [
      "  0%|\u001b[34m          \u001b[0m| 0/10 [00:00<?, ?it/s]\n"
     ]
    },
    {
     "name": "stdout",
     "output_type": "stream",
     "text": [
      "\u001b[36m(launch_and_fit pid=14642)\u001b[0m \tTrain Epoch: 3 \tTrain_loss_mri: 0.1978 | Train_acc_mri: 93.0671 | Train_loss_dna: 0.6927 | Train_acc_dna: 71.9213 | Validation_loss_mri: 0.9057 | Validation_acc_mri: 78.6458 | Validation_loss_dna: 5.6355 | Validation_acc_dna: 9.3750\u001b[32m [repeated 4x across cluster]\u001b[0m\n"
     ]
    },
    {
     "name": "stderr",
     "output_type": "stream",
     "text": [
      " 30%|\u001b[34m███       \u001b[0m| 3/10 [00:11<00:26,  3.80s/it]\u001b[32m [repeated 4x across cluster]\u001b[0m\n"
     ]
    },
    {
     "name": "stdout",
     "output_type": "stream",
     "text": [
      "\u001b[36m(launch_and_fit pid=14642)\u001b[0m \tTrain Epoch: 5 \tTrain_loss_mri: 0.0799 | Train_acc_mri: 97.0718 | Train_loss_dna: 0.3980 | Train_acc_dna: 87.5810 | Validation_loss_mri: 1.2390 | Validation_acc_mri: 75.5208 | Validation_loss_dna: 5.1519 | Validation_acc_dna: 7.8125\u001b[32m [repeated 4x across cluster]\u001b[0m\n"
     ]
    },
    {
     "name": "stderr",
     "output_type": "stream",
     "text": [
      " 50%|\u001b[34m█████     \u001b[0m| 5/10 [00:18<00:18,  3.70s/it]\u001b[32m [repeated 4x across cluster]\u001b[0m\n"
     ]
    },
    {
     "name": "stdout",
     "output_type": "stream",
     "text": [
      "\u001b[36m(launch_and_fit pid=14666)\u001b[0m \tTrain Epoch: 6 \tTrain_loss_mri: 0.0743 | Train_acc_mri: 97.8024 | Train_loss_dna: 0.4432 | Train_acc_dna: 84.6673 | Validation_loss_mri: 0.5371 | Validation_acc_mri: 89.0625 | Validation_loss_dna: 3.4923 | Validation_acc_dna: 33.8542\u001b[32m [repeated 3x across cluster]\u001b[0m\n"
     ]
    },
    {
     "name": "stderr",
     "output_type": "stream",
     "text": [
      " 60%|\u001b[34m██████    \u001b[0m| 6/10 [00:23<00:15,  3.82s/it]\u001b[32m [repeated 3x across cluster]\u001b[0m\n"
     ]
    },
    {
     "name": "stdout",
     "output_type": "stream",
     "text": [
      "\u001b[36m(launch_and_fit pid=14642)\u001b[0m \tTrain Epoch: 8 \tTrain_loss_mri: 0.0340 | Train_acc_mri: 99.3750 | Train_loss_dna: 0.2755 | Train_acc_dna: 92.6389 | Validation_loss_mri: 1.0045 | Validation_acc_mri: 78.6458 | Validation_loss_dna: 6.6449 | Validation_acc_dna: 6.2500\u001b[32m [repeated 3x across cluster]\u001b[0m\n"
     ]
    },
    {
     "name": "stderr",
     "output_type": "stream",
     "text": [
      " 80%|\u001b[34m████████  \u001b[0m| 8/10 [00:30<00:07,  3.84s/it]\u001b[32m [repeated 3x across cluster]\u001b[0m\n"
     ]
    },
    {
     "name": "stdout",
     "output_type": "stream",
     "text": [
      "\u001b[36m(launch_and_fit pid=14666)\u001b[0m \tTrain Epoch: 9 \tTrain_loss_mri: 0.0259 | Train_acc_mri: 99.3750 | Train_loss_dna: 0.3909 | Train_acc_dna: 86.8347 | Validation_loss_mri: 0.2218 | Validation_acc_mri: 95.3125 | Validation_loss_dna: 4.5257 | Validation_acc_dna: 30.7292\u001b[32m [repeated 3x across cluster]\u001b[0m\n"
     ]
    },
    {
     "name": "stderr",
     "output_type": "stream",
     "text": [
      " 90%|\u001b[34m█████████ \u001b[0m| 9/10 [00:34<00:03,  3.83s/it]\u001b[32m [repeated 3x across cluster]\u001b[0m\n"
     ]
    },
    {
     "name": "stdout",
     "output_type": "stream",
     "text": [
      "\u001b[36m(launch_and_fit pid=14642)\u001b[0m save graph in  results/FL/\n",
      "\u001b[36m(launch_and_fit pid=14642)\u001b[0m mri_net.features.0.weight 5.0067901611328125e-06\n",
      "\u001b[36m(launch_and_fit pid=14642)\u001b[0m mri_net.features.0.bias 1.430511474609375e-06\n",
      "\u001b[36m(launch_and_fit pid=14642)\u001b[0m mri_net.features.3.weight 9.5367431640625e-07\n",
      "\u001b[36m(launch_and_fit pid=14642)\u001b[0m mri_net.features.3.bias 1.430511474609375e-06\n",
      "\u001b[36m(launch_and_fit pid=14642)\u001b[0m mri_net.classifier.0.weight 9.5367431640625e-07\n",
      "\u001b[36m(launch_and_fit pid=14642)\u001b[0m mri_net.classifier.0.bias 1.430511474609375e-06\n",
      "\u001b[36m(launch_and_fit pid=14642)\u001b[0m mri_net.classifier.2.weight 1.1920928955078125e-06\n",
      "\u001b[36m(launch_and_fit pid=14642)\u001b[0m mri_net.classifier.2.bias 9.5367431640625e-07\n",
      "\u001b[36m(launch_and_fit pid=14642)\u001b[0m mri_net.classifier.3.weights 1.430511474609375e-06\n",
      "\u001b[36m(launch_and_fit pid=14642)\u001b[0m dna_net.fc1.weight 1.1920928955078125e-06\n",
      "\u001b[36m(launch_and_fit pid=14642)\u001b[0m dna_net.fc1.bias 9.5367431640625e-07\n",
      "\u001b[36m(launch_and_fit pid=14642)\u001b[0m dna_net.fc2.weight 1.1920928955078125e-06\n",
      "\u001b[36m(launch_and_fit pid=14642)\u001b[0m dna_net.fc2.bias 9.5367431640625e-07\n",
      "\u001b[36m(launch_and_fit pid=14642)\u001b[0m dna_net.fc3.weight 9.5367431640625e-07\n",
      "\u001b[36m(launch_and_fit pid=14642)\u001b[0m dna_net.fc3.bias 9.5367431640625e-07\n",
      "\u001b[36m(launch_and_fit pid=14642)\u001b[0m dna_net.fc4.weight 9.5367431640625e-07\n",
      "\u001b[36m(launch_and_fit pid=14642)\u001b[0m dna_net.fc4.bias 9.5367431640625e-07\n",
      "\u001b[36m(launch_and_fit pid=14642)\u001b[0m dna_net.qnn.weights 1.1920928955078125e-06\n",
      "\u001b[36m(launch_and_fit pid=14642)\u001b[0m attention.in_proj_weight 1.430511474609375e-06\n",
      "\u001b[36m(launch_and_fit pid=14642)\u001b[0m attention.in_proj_bias 1.430511474609375e-06\n",
      "\u001b[36m(launch_and_fit pid=14642)\u001b[0m attention.out_proj.weight 9.5367431640625e-07\n",
      "\u001b[36m(launch_and_fit pid=14642)\u001b[0m attention.out_proj.bias 1.1920928955078125e-06\n",
      "\u001b[36m(launch_and_fit pid=14642)\u001b[0m fc1.weight 1.1920928955078125e-06\n",
      "\u001b[36m(launch_and_fit pid=14642)\u001b[0m fc1.bias 9.5367431640625e-07\n",
      "\u001b[36m(launch_and_fit pid=14642)\u001b[0m fc2_mri.weight 1.1920928955078125e-06\n",
      "\u001b[36m(launch_and_fit pid=14642)\u001b[0m fc2_mri.bias 1.1920928955078125e-06\n",
      "\u001b[36m(launch_and_fit pid=14642)\u001b[0m fc2_dna.weight 9.5367431640625e-07\n",
      "\u001b[36m(launch_and_fit pid=14642)\u001b[0m fc2_dna.bias 9.5367431640625e-07\n",
      "\u001b[36m(launch_and_fit pid=14723)\u001b[0m Run with homomorphic encryption\n",
      "\u001b[36m(launch_and_fit pid=14666)\u001b[0m \tTrain Epoch: 10 \tTrain_loss_mri: 0.0312 | Train_acc_mri: 99.3649 | Train_loss_dna: 0.3184 | Train_acc_dna: 89.6673 | Validation_loss_mri: 0.3520 | Validation_acc_mri: 90.6250 | Validation_loss_dna: 4.4732 | Validation_acc_dna: 32.2917\u001b[32m [repeated 2x across cluster]\u001b[0m\n",
      "\u001b[36m(launch_and_fit pid=14666)\u001b[0m save graph in  results/FL/\n",
      "\u001b[36m(launch_and_fit pid=14666)\u001b[0m fc2_dna.bias 7.152557373046875e-07\u001b[32m [repeated 23x across cluster]\u001b[0m\n",
      "\u001b[36m(launch_and_fit pid=14666)\u001b[0m dna_net.qnn.weights 9.5367431640625e-07\n",
      "\u001b[36m(launch_and_fit pid=14666)\u001b[0m attention.in_proj_weight 1.1920928955078125e-06\n",
      "\u001b[36m(launch_and_fit pid=14666)\u001b[0m attention.in_proj_bias 9.5367431640625e-07\n",
      "\u001b[36m(launch_and_fit pid=14666)\u001b[0m attention.out_proj.weight 9.5367431640625e-07\n",
      "\u001b[36m(launch_and_fit pid=14666)\u001b[0m attention.out_proj.bias 9.5367431640625e-07\n",
      "\u001b[36m(launch_and_fit pid=14723)\u001b[0m [Client 5, round 18] fit, config: {'learning_rate': 0.003, 'batch_size': '32', 'server_round': 18, 'local_epochs': 10}\n",
      "\u001b[36m(launch_and_fit pid=14723)\u001b[0m Updated model\n"
     ]
    },
    {
     "name": "stderr",
     "output_type": "stream",
     "text": [
      "  0%|\u001b[34m          \u001b[0m| 0/10 [00:00<?, ?it/s]\n",
      "100%|\u001b[34m██████████\u001b[0m| 10/10 [00:38<00:00,  3.86s/it]\u001b[32m [repeated 2x across cluster]\u001b[0m\n"
     ]
    },
    {
     "name": "stdout",
     "output_type": "stream",
     "text": [
      "\u001b[36m(launch_and_fit pid=14748)\u001b[0m Run with homomorphic encryption\n",
      "\u001b[36m(launch_and_fit pid=14723)\u001b[0m \tTrain Epoch: 1 \tTrain_loss_mri: 0.0286 | Train_acc_mri: 99.3750 | Train_loss_dna: 1.1837 | Train_acc_dna: 61.4699 | Validation_loss_mri: 0.9189 | Validation_acc_mri: 85.9375 | Validation_loss_dna: 4.3475 | Validation_acc_dna: 12.5000\n",
      "\u001b[36m(launch_and_fit pid=14748)\u001b[0m [Client 2, round 18] fit, config: {'learning_rate': 0.003, 'batch_size': '32', 'server_round': 18, 'local_epochs': 10}\n",
      "\u001b[36m(launch_and_fit pid=14748)\u001b[0m \tTrain Epoch: 1 \tTrain_loss_mri: 0.0240 | Train_acc_mri: 99.6875 | Train_loss_dna: 1.2196 | Train_acc_dna: 57.3148 | Validation_loss_mri: 1.0561 | Validation_acc_mri: 73.9583 | Validation_loss_dna: 4.3809 | Validation_acc_dna: 22.9167\n",
      "\u001b[36m(launch_and_fit pid=14748)\u001b[0m Updated model\n"
     ]
    },
    {
     "name": "stderr",
     "output_type": "stream",
     "text": [
      "  0%|\u001b[34m          \u001b[0m| 0/10 [00:00<?, ?it/s]\n",
      " 10%|\u001b[34m█         \u001b[0m| 1/10 [00:04<00:41,  4.64s/it]\u001b[32m [repeated 2x across cluster]\u001b[0m\n"
     ]
    },
    {
     "name": "stdout",
     "output_type": "stream",
     "text": [
      "\u001b[36m(launch_and_fit pid=14723)\u001b[0m \tTrain Epoch: 3 \tTrain_loss_mri: 0.0676 | Train_acc_mri: 98.6921 | Train_loss_dna: 0.7527 | Train_acc_dna: 71.2153 | Validation_loss_mri: 0.3969 | Validation_acc_mri: 92.1875 | Validation_loss_dna: 4.7098 | Validation_acc_dna: 12.5000\u001b[32m [repeated 3x across cluster]\u001b[0m\n"
     ]
    },
    {
     "name": "stderr",
     "output_type": "stream",
     "text": [
      " 30%|\u001b[34m███       \u001b[0m| 3/10 [00:11<00:27,  3.90s/it]\u001b[32m [repeated 3x across cluster]\u001b[0m\n"
     ]
    },
    {
     "name": "stdout",
     "output_type": "stream",
     "text": [
      "\u001b[36m(launch_and_fit pid=14748)\u001b[0m \tTrain Epoch: 4 \tTrain_loss_mri: 0.1045 | Train_acc_mri: 95.6250 | Train_loss_dna: 0.5394 | Train_acc_dna: 79.7106 | Validation_loss_mri: 0.8884 | Validation_acc_mri: 52.6042 | Validation_loss_dna: 3.9363 | Validation_acc_dna: 24.4792\u001b[32m [repeated 3x across cluster]\u001b[0m\n"
     ]
    },
    {
     "name": "stderr",
     "output_type": "stream",
     "text": [
      " 40%|\u001b[34m████      \u001b[0m| 4/10 [00:15<00:23,  3.87s/it]\u001b[32m [repeated 3x across cluster]\u001b[0m\n"
     ]
    },
    {
     "name": "stdout",
     "output_type": "stream",
     "text": [
      "\u001b[36m(launch_and_fit pid=14723)\u001b[0m \tTrain Epoch: 6 \tTrain_loss_mri: 0.0177 | Train_acc_mri: 99.6875 | Train_loss_dna: 0.3608 | Train_acc_dna: 88.6343 | Validation_loss_mri: 0.3808 | Validation_acc_mri: 90.6250 | Validation_loss_dna: 5.0830 | Validation_acc_dna: 15.6250\u001b[32m [repeated 3x across cluster]\u001b[0m\n"
     ]
    },
    {
     "name": "stderr",
     "output_type": "stream",
     "text": [
      " 60%|\u001b[34m██████    \u001b[0m| 6/10 [00:23<00:15,  3.78s/it]\u001b[32m [repeated 3x across cluster]\u001b[0m\n"
     ]
    },
    {
     "name": "stdout",
     "output_type": "stream",
     "text": [
      "\u001b[36m(launch_and_fit pid=14748)\u001b[0m \tTrain Epoch: 7 \tTrain_loss_mri: 0.0281 | Train_acc_mri: 99.3750 | Train_loss_dna: 0.3052 | Train_acc_dna: 92.3264 | Validation_loss_mri: 0.7546 | Validation_acc_mri: 85.9375 | Validation_loss_dna: 3.9449 | Validation_acc_dna: 45.8333\u001b[32m [repeated 3x across cluster]\u001b[0m\n"
     ]
    },
    {
     "name": "stderr",
     "output_type": "stream",
     "text": [
      " 70%|\u001b[34m███████   \u001b[0m| 7/10 [00:27<00:11,  3.82s/it]\u001b[32m [repeated 3x across cluster]\u001b[0m\n"
     ]
    },
    {
     "name": "stdout",
     "output_type": "stream",
     "text": [
      "\u001b[36m(launch_and_fit pid=14723)\u001b[0m \tTrain Epoch: 9 \tTrain_loss_mri: 0.0133 | Train_acc_mri: 100.0000 | Train_loss_dna: 0.2324 | Train_acc_dna: 94.0856 | Validation_loss_mri: 0.4817 | Validation_acc_mri: 89.0625 | Validation_loss_dna: 5.4474 | Validation_acc_dna: 26.0417\u001b[32m [repeated 3x across cluster]\u001b[0m\n"
     ]
    },
    {
     "name": "stderr",
     "output_type": "stream",
     "text": [
      " 90%|\u001b[34m█████████ \u001b[0m| 9/10 [00:34<00:03,  3.75s/it]\u001b[32m [repeated 3x across cluster]\u001b[0m\n"
     ]
    },
    {
     "name": "stdout",
     "output_type": "stream",
     "text": [
      "\u001b[36m(launch_and_fit pid=14723)\u001b[0m save graph in  results/FL/\n",
      "\u001b[36m(launch_and_fit pid=14723)\u001b[0m mri_net.features.0.weight 5.9604644775390625e-06\n",
      "\u001b[36m(launch_and_fit pid=14723)\u001b[0m mri_net.features.0.bias 1.430511474609375e-06\n",
      "\u001b[36m(launch_and_fit pid=14723)\u001b[0m mri_net.features.3.weight 1.430511474609375e-06\n",
      "\u001b[36m(launch_and_fit pid=14723)\u001b[0m mri_net.features.3.bias 1.1920928955078125e-06\n",
      "\u001b[36m(launch_and_fit pid=14723)\u001b[0m mri_net.classifier.0.weight 1.1920928955078125e-06\n",
      "\u001b[36m(launch_and_fit pid=14723)\u001b[0m mri_net.classifier.0.bias 1.1920928955078125e-06\n",
      "\u001b[36m(launch_and_fit pid=14723)\u001b[0m mri_net.classifier.2.weight 9.5367431640625e-07\n",
      "\u001b[36m(launch_and_fit pid=14723)\u001b[0m mri_net.classifier.2.bias 9.5367431640625e-07\n",
      "\u001b[36m(launch_and_fit pid=14723)\u001b[0m mri_net.classifier.3.weights 1.6689300537109375e-06\n",
      "\u001b[36m(launch_and_fit pid=14723)\u001b[0m dna_net.fc1.weight 1.1920928955078125e-06\n",
      "\u001b[36m(launch_and_fit pid=14723)\u001b[0m dna_net.fc1.bias 9.5367431640625e-07\n",
      "\u001b[36m(launch_and_fit pid=14723)\u001b[0m dna_net.fc2.weight 1.1920928955078125e-06\n",
      "\u001b[36m(launch_and_fit pid=14723)\u001b[0m dna_net.fc2.bias 1.1920928955078125e-06\n",
      "\u001b[36m(launch_and_fit pid=14723)\u001b[0m dna_net.fc3.weight 1.430511474609375e-06\n",
      "\u001b[36m(launch_and_fit pid=14723)\u001b[0m dna_net.fc3.bias 9.5367431640625e-07\n",
      "\u001b[36m(launch_and_fit pid=14723)\u001b[0m dna_net.fc4.weight 9.5367431640625e-07\n",
      "\u001b[36m(launch_and_fit pid=14723)\u001b[0m dna_net.fc4.bias 1.6689300537109375e-06\n",
      "\u001b[36m(launch_and_fit pid=14723)\u001b[0m dna_net.qnn.weights 1.430511474609375e-06\n",
      "\u001b[36m(launch_and_fit pid=14723)\u001b[0m attention.in_proj_weight 1.1920928955078125e-06\n",
      "\u001b[36m(launch_and_fit pid=14723)\u001b[0m attention.in_proj_bias 1.1920928955078125e-06\n",
      "\u001b[36m(launch_and_fit pid=14723)\u001b[0m attention.out_proj.weight 1.1920928955078125e-06\n",
      "\u001b[36m(launch_and_fit pid=14723)\u001b[0m attention.out_proj.bias 1.430511474609375e-06\n",
      "\u001b[36m(launch_and_fit pid=14723)\u001b[0m fc1.weight 1.430511474609375e-06\n",
      "\u001b[36m(launch_and_fit pid=14723)\u001b[0m fc1.bias 1.1920928955078125e-06\n",
      "\u001b[36m(launch_and_fit pid=14723)\u001b[0m fc2_mri.weight 1.1920928955078125e-06\n",
      "\u001b[36m(launch_and_fit pid=14723)\u001b[0m fc2_mri.bias 1.1920928955078125e-06\n",
      "\u001b[36m(launch_and_fit pid=14723)\u001b[0m fc2_dna.weight 1.1920928955078125e-06\n",
      "\u001b[36m(launch_and_fit pid=14723)\u001b[0m fc2_dna.bias 1.430511474609375e-06\n",
      "\u001b[36m(launch_and_fit pid=14748)\u001b[0m \tTrain Epoch: 10 \tTrain_loss_mri: 0.0097 | Train_acc_mri: 100.0000 | Train_loss_dna: 0.2347 | Train_acc_dna: 93.3218 | Validation_loss_mri: 1.2048 | Validation_acc_mri: 70.8333 | Validation_loss_dna: 4.4326 | Validation_acc_dna: 27.6042\u001b[32m [repeated 3x across cluster]\u001b[0m\n"
     ]
    },
    {
     "name": "stderr",
     "output_type": "stream",
     "text": [
      "100%|\u001b[34m██████████\u001b[0m| 10/10 [00:38<00:00,  3.90s/it]\u001b[32m [repeated 3x across cluster]\u001b[0m\n",
      "DEBUG flwr 2024-08-05 08:50:41,240 | server.py:236 | fit_round 18 received 10 results and 0 failures\n"
     ]
    },
    {
     "name": "stdout",
     "output_type": "stream",
     "text": [
      "Saving round 18 aggregated_parameters...\n"
     ]
    },
    {
     "name": "stderr",
     "output_type": "stream",
     "text": [
      "DEBUG flwr 2024-08-05 08:50:43,238 | server.py:173 | evaluate_round 18: strategy sampled 10 clients (out of 10)\n"
     ]
    },
    {
     "name": "stdout",
     "output_type": "stream",
     "text": [
      "\u001b[36m(launch_and_evaluate pid=14815)\u001b[0m Run with homomorphic encryption\n",
      "\u001b[36m(launch_and_fit pid=14748)\u001b[0m save graph in  results/FL/\n",
      "\u001b[36m(launch_and_fit pid=14748)\u001b[0m fc2_dna.bias 7.152557373046875e-07\u001b[32m [repeated 23x across cluster]\u001b[0m\n",
      "\u001b[36m(launch_and_fit pid=14748)\u001b[0m dna_net.qnn.weights 1.1920928955078125e-06\n",
      "\u001b[36m(launch_and_fit pid=14748)\u001b[0m attention.in_proj_weight 9.5367431640625e-07\n",
      "\u001b[36m(launch_and_fit pid=14748)\u001b[0m attention.in_proj_bias 9.5367431640625e-07\n",
      "\u001b[36m(launch_and_fit pid=14748)\u001b[0m attention.out_proj.weight 1.1920928955078125e-06\n",
      "\u001b[36m(launch_and_fit pid=14748)\u001b[0m attention.out_proj.bias 9.5367431640625e-07\n",
      "\u001b[36m(launch_and_evaluate pid=14814)\u001b[0m [Client 7] evaluate, config: {}\n",
      "\u001b[36m(launch_and_evaluate pid=14814)\u001b[0m Updated model\n"
     ]
    },
    {
     "name": "stderr",
     "output_type": "stream",
     "text": [
      "\u001b[36m(launch_and_evaluate pid=14815)\u001b[0m /opt/conda/lib/python3.10/site-packages/sklearn/metrics/_ranking.py:1029: UndefinedMetricWarning: No positive samples in y_true, true positive value should be meaningless\n",
      "\u001b[36m(launch_and_evaluate pid=14815)\u001b[0m   warnings.warn(\n"
     ]
    },
    {
     "name": "stdout",
     "output_type": "stream",
     "text": [
      "\u001b[36m(launch_and_evaluate pid=14895)\u001b[0m Run with homomorphic encryption\u001b[32m [repeated 2x across cluster]\u001b[0m\n",
      "\u001b[36m(launch_and_evaluate pid=14815)\u001b[0m [Client 9] evaluate, config: {}\n",
      "\u001b[36m(launch_and_evaluate pid=14815)\u001b[0m Updated model\n",
      "\u001b[36m(launch_and_evaluate pid=14895)\u001b[0m [Client 2] evaluate, config: {}\n",
      "\u001b[36m(launch_and_evaluate pid=14895)\u001b[0m Updated model\n",
      "\u001b[36m(launch_and_evaluate pid=14971)\u001b[0m Run with homomorphic encryption\u001b[32m [repeated 2x across cluster]\u001b[0m\n",
      "\u001b[36m(launch_and_evaluate pid=14893)\u001b[0m [Client 0] evaluate, config: {}\n",
      "\u001b[36m(launch_and_evaluate pid=14893)\u001b[0m Updated model\n",
      "\u001b[36m(launch_and_evaluate pid=14971)\u001b[0m [Client 5] evaluate, config: {}\n",
      "\u001b[36m(launch_and_evaluate pid=14971)\u001b[0m Updated model\n"
     ]
    },
    {
     "name": "stderr",
     "output_type": "stream",
     "text": [
      "\u001b[36m(launch_and_evaluate pid=14973)\u001b[0m /opt/conda/lib/python3.10/site-packages/sklearn/metrics/_ranking.py:1029: UndefinedMetricWarning: No positive samples in y_true, true positive value should be meaningless\n",
      "\u001b[36m(launch_and_evaluate pid=14973)\u001b[0m   warnings.warn(\n"
     ]
    },
    {
     "name": "stdout",
     "output_type": "stream",
     "text": [
      "\u001b[36m(launch_and_evaluate pid=15049)\u001b[0m Run with homomorphic encryption\u001b[32m [repeated 2x across cluster]\u001b[0m\n",
      "\u001b[36m(launch_and_evaluate pid=14973)\u001b[0m [Client 8] evaluate, config: {}\n",
      "\u001b[36m(launch_and_evaluate pid=14973)\u001b[0m Updated model\n",
      "\u001b[36m(launch_and_evaluate pid=15049)\u001b[0m [Client 6] evaluate, config: {}\n",
      "\u001b[36m(launch_and_evaluate pid=15049)\u001b[0m Updated model\n"
     ]
    },
    {
     "name": "stderr",
     "output_type": "stream",
     "text": [
      "\u001b[36m(launch_and_evaluate pid=15051)\u001b[0m /opt/conda/lib/python3.10/site-packages/sklearn/metrics/_ranking.py:1029: UndefinedMetricWarning: No positive samples in y_true, true positive value should be meaningless\n",
      "\u001b[36m(launch_and_evaluate pid=15051)\u001b[0m   warnings.warn(\n"
     ]
    },
    {
     "name": "stdout",
     "output_type": "stream",
     "text": [
      "\u001b[36m(launch_and_evaluate pid=15127)\u001b[0m Run with homomorphic encryption\u001b[32m [repeated 2x across cluster]\u001b[0m\n",
      "\u001b[36m(launch_and_evaluate pid=15051)\u001b[0m [Client 4] evaluate, config: {}\n",
      "\u001b[36m(launch_and_evaluate pid=15051)\u001b[0m Updated model\n",
      "\u001b[36m(launch_and_evaluate pid=15127)\u001b[0m [Client 3] evaluate, config: {}\n",
      "\u001b[36m(launch_and_evaluate pid=15127)\u001b[0m Updated model\n"
     ]
    },
    {
     "name": "stderr",
     "output_type": "stream",
     "text": [
      "DEBUG flwr 2024-08-05 08:52:01,307 | server.py:187 | evaluate_round 18 received 10 results and 0 failures\n",
      "DEBUG flwr 2024-08-05 08:52:01,308 | server.py:222 | fit_round 19: strategy sampled 10 clients (out of 10)\n"
     ]
    },
    {
     "name": "stdout",
     "output_type": "stream",
     "text": [
      "\u001b[36m(launch_and_fit pid=15214)\u001b[0m Run with homomorphic encryption\u001b[32m [repeated 2x across cluster]\u001b[0m\n",
      "\u001b[36m(launch_and_evaluate pid=15129)\u001b[0m [Client 1] evaluate, config: {}\n",
      "\u001b[36m(launch_and_evaluate pid=15129)\u001b[0m Updated model\n",
      "\u001b[36m(launch_and_fit pid=15214)\u001b[0m [Client 0, round 19] fit, config: {'learning_rate': 0.003, 'batch_size': '32', 'server_round': 19, 'local_epochs': 10}\n",
      "\u001b[36m(launch_and_fit pid=15214)\u001b[0m Updated model\n"
     ]
    },
    {
     "name": "stderr",
     "output_type": "stream",
     "text": [
      "  0%|\u001b[34m          \u001b[0m| 0/10 [00:00<?, ?it/s]\n"
     ]
    },
    {
     "name": "stdout",
     "output_type": "stream",
     "text": [
      "\u001b[36m(launch_and_fit pid=15214)\u001b[0m \tTrain Epoch: 1 \tTrain_loss_mri: 0.0972 | Train_acc_mri: 95.9375 | Train_loss_dna: 1.3041 | Train_acc_dna: 58.2523 | Validation_loss_mri: 0.7310 | Validation_acc_mri: 72.3958 | Validation_loss_dna: 4.4729 | Validation_acc_dna: 17.1875\n",
      "\u001b[36m(launch_and_fit pid=15215)\u001b[0m Run with homomorphic encryption\n",
      "\u001b[36m(launch_and_fit pid=15215)\u001b[0m [Client 7, round 19] fit, config: {'learning_rate': 0.003, 'batch_size': '32', 'server_round': 19, 'local_epochs': 10}\n"
     ]
    },
    {
     "name": "stderr",
     "output_type": "stream",
     "text": [
      " 10%|\u001b[34m█         \u001b[0m| 1/10 [00:04<00:39,  4.38s/it]\n"
     ]
    },
    {
     "name": "stdout",
     "output_type": "stream",
     "text": [
      "\u001b[36m(launch_and_fit pid=15215)\u001b[0m Updated model\n"
     ]
    },
    {
     "name": "stderr",
     "output_type": "stream",
     "text": [
      "  0%|\u001b[34m          \u001b[0m| 0/10 [00:00<?, ?it/s]\n"
     ]
    },
    {
     "name": "stdout",
     "output_type": "stream",
     "text": [
      "\u001b[36m(launch_and_fit pid=15214)\u001b[0m \tTrain Epoch: 3 \tTrain_loss_mri: 0.1681 | Train_acc_mri: 96.5625 | Train_loss_dna: 0.7973 | Train_acc_dna: 71.5278 | Validation_loss_mri: 2.5553 | Validation_acc_mri: 47.9167 | Validation_loss_dna: 5.0278 | Validation_acc_dna: 10.9375\u001b[32m [repeated 4x across cluster]\u001b[0m\n"
     ]
    },
    {
     "name": "stderr",
     "output_type": "stream",
     "text": [
      " 30%|\u001b[34m███       \u001b[0m| 3/10 [00:11<00:26,  3.85s/it]\u001b[32m [repeated 4x across cluster]\u001b[0m\n"
     ]
    },
    {
     "name": "stdout",
     "output_type": "stream",
     "text": [
      "\u001b[36m(launch_and_fit pid=15214)\u001b[0m \tTrain Epoch: 5 \tTrain_loss_mri: 0.0893 | Train_acc_mri: 96.8750 | Train_loss_dna: 0.4668 | Train_acc_dna: 87.0139 | Validation_loss_mri: 1.1343 | Validation_acc_mri: 70.8333 | Validation_loss_dna: 6.1580 | Validation_acc_dna: 9.3750\u001b[32m [repeated 4x across cluster]\u001b[0m\n"
     ]
    },
    {
     "name": "stderr",
     "output_type": "stream",
     "text": [
      " 50%|\u001b[34m█████     \u001b[0m| 5/10 [00:19<00:18,  3.79s/it]\u001b[32m [repeated 4x across cluster]\u001b[0m\n"
     ]
    },
    {
     "name": "stdout",
     "output_type": "stream",
     "text": [
      "\u001b[36m(launch_and_fit pid=15214)\u001b[0m \tTrain Epoch: 7 \tTrain_loss_mri: 0.0374 | Train_acc_mri: 98.6921 | Train_loss_dna: 0.3604 | Train_acc_dna: 90.4514 | Validation_loss_mri: 1.4206 | Validation_acc_mri: 70.8333 | Validation_loss_dna: 6.2692 | Validation_acc_dna: 14.0625\u001b[32m [repeated 4x across cluster]\u001b[0m\n"
     ]
    },
    {
     "name": "stderr",
     "output_type": "stream",
     "text": [
      " 70%|\u001b[34m███████   \u001b[0m| 7/10 [00:26<00:11,  3.80s/it]\u001b[32m [repeated 4x across cluster]\u001b[0m\n"
     ]
    },
    {
     "name": "stdout",
     "output_type": "stream",
     "text": [
      "\u001b[36m(launch_and_fit pid=15214)\u001b[0m \tTrain Epoch: 9 \tTrain_loss_mri: 0.0113 | Train_acc_mri: 99.6875 | Train_loss_dna: 0.2919 | Train_acc_dna: 91.7014 | Validation_loss_mri: 1.7841 | Validation_acc_mri: 51.0417 | Validation_loss_dna: 6.4598 | Validation_acc_dna: 10.9375\u001b[32m [repeated 4x across cluster]\u001b[0m\n"
     ]
    },
    {
     "name": "stderr",
     "output_type": "stream",
     "text": [
      " 90%|\u001b[34m█████████ \u001b[0m| 9/10 [00:34<00:03,  3.83s/it]\u001b[32m [repeated 4x across cluster]\u001b[0m\n"
     ]
    },
    {
     "name": "stdout",
     "output_type": "stream",
     "text": [
      "\u001b[36m(launch_and_fit pid=15214)\u001b[0m save graph in  results/FL/\n",
      "\u001b[36m(launch_and_fit pid=15214)\u001b[0m mri_net.features.0.weight 5.0067901611328125e-06\n",
      "\u001b[36m(launch_and_fit pid=15214)\u001b[0m mri_net.features.0.bias 1.430511474609375e-06\n",
      "\u001b[36m(launch_and_fit pid=15214)\u001b[0m mri_net.features.3.weight 1.430511474609375e-06\n",
      "\u001b[36m(launch_and_fit pid=15214)\u001b[0m mri_net.features.3.bias 9.5367431640625e-07\n",
      "\u001b[36m(launch_and_fit pid=15214)\u001b[0m mri_net.classifier.0.weight 1.1920928955078125e-06\n",
      "\u001b[36m(launch_and_fit pid=15214)\u001b[0m mri_net.classifier.0.bias 9.5367431640625e-07\n",
      "\u001b[36m(launch_and_fit pid=15214)\u001b[0m mri_net.classifier.2.weight 9.5367431640625e-07\n",
      "\u001b[36m(launch_and_fit pid=15214)\u001b[0m mri_net.classifier.2.bias 1.1920928955078125e-06\n",
      "\u001b[36m(launch_and_fit pid=15214)\u001b[0m mri_net.classifier.3.weights 1.1920928955078125e-06\n",
      "\u001b[36m(launch_and_fit pid=15214)\u001b[0m dna_net.fc1.weight 9.5367431640625e-07\n",
      "\u001b[36m(launch_and_fit pid=15214)\u001b[0m dna_net.fc1.bias 1.1920928955078125e-06\n",
      "\u001b[36m(launch_and_fit pid=15214)\u001b[0m dna_net.fc2.weight 9.5367431640625e-07\n",
      "\u001b[36m(launch_and_fit pid=15214)\u001b[0m dna_net.fc2.bias 9.5367431640625e-07\n",
      "\u001b[36m(launch_and_fit pid=15214)\u001b[0m dna_net.fc3.weight 1.1920928955078125e-06\n",
      "\u001b[36m(launch_and_fit pid=15214)\u001b[0m dna_net.fc3.bias 7.152557373046875e-07\n",
      "\u001b[36m(launch_and_fit pid=15214)\u001b[0m dna_net.fc4.weight 9.5367431640625e-07\n",
      "\u001b[36m(launch_and_fit pid=15214)\u001b[0m dna_net.fc4.bias 1.1920928955078125e-06\n",
      "\u001b[36m(launch_and_fit pid=15214)\u001b[0m dna_net.qnn.weights 9.5367431640625e-07\n",
      "\u001b[36m(launch_and_fit pid=15214)\u001b[0m attention.in_proj_weight 9.5367431640625e-07\n",
      "\u001b[36m(launch_and_fit pid=15214)\u001b[0m attention.in_proj_bias 9.5367431640625e-07\n",
      "\u001b[36m(launch_and_fit pid=15214)\u001b[0m attention.out_proj.weight 9.5367431640625e-07\n",
      "\u001b[36m(launch_and_fit pid=15214)\u001b[0m attention.out_proj.bias 1.1920928955078125e-06\n",
      "\u001b[36m(launch_and_fit pid=15214)\u001b[0m fc1.weight 1.1920928955078125e-06\n",
      "\u001b[36m(launch_and_fit pid=15214)\u001b[0m fc1.bias 1.1920928955078125e-06\n",
      "\u001b[36m(launch_and_fit pid=15214)\u001b[0m fc2_mri.weight 1.430511474609375e-06\n",
      "\u001b[36m(launch_and_fit pid=15214)\u001b[0m fc2_mri.bias 9.5367431640625e-07\n",
      "\u001b[36m(launch_and_fit pid=15214)\u001b[0m fc2_dna.weight 9.5367431640625e-07\n",
      "\u001b[36m(launch_and_fit pid=15214)\u001b[0m fc2_dna.bias 1.9073486328125e-06\n",
      "\u001b[36m(launch_and_fit pid=15295)\u001b[0m Run with homomorphic encryption\n",
      "\u001b[36m(launch_and_fit pid=15215)\u001b[0m \tTrain Epoch: 10 \tTrain_loss_mri: 0.1292 | Train_acc_mri: 96.2500 | Train_loss_dna: 0.5629 | Train_acc_dna: 79.4560 | Validation_loss_mri: 2.2909 | Validation_acc_mri: 73.9583 | Validation_loss_dna: 2.8343 | Validation_acc_dna: 30.7292\u001b[32m [repeated 3x across cluster]\u001b[0m\n",
      "\u001b[36m(launch_and_fit pid=15215)\u001b[0m save graph in  results/FL/\n",
      "\u001b[36m(launch_and_fit pid=15215)\u001b[0m fc2_dna.bias 9.5367431640625e-07\u001b[32m [repeated 23x across cluster]\u001b[0m\n",
      "\u001b[36m(launch_and_fit pid=15215)\u001b[0m dna_net.qnn.weights 9.5367431640625e-07\n",
      "\u001b[36m(launch_and_fit pid=15215)\u001b[0m attention.in_proj_weight 1.1920928955078125e-06\n",
      "\u001b[36m(launch_and_fit pid=15215)\u001b[0m attention.in_proj_bias 9.5367431640625e-07\n",
      "\u001b[36m(launch_and_fit pid=15215)\u001b[0m attention.out_proj.weight 1.1920928955078125e-06\n",
      "\u001b[36m(launch_and_fit pid=15215)\u001b[0m attention.out_proj.bias 1.1920928955078125e-06\n",
      "\u001b[36m(launch_and_fit pid=15295)\u001b[0m [Client 9, round 19] fit, config: {'learning_rate': 0.003, 'batch_size': '32', 'server_round': 19, 'local_epochs': 10}\n",
      "\u001b[36m(launch_and_fit pid=15295)\u001b[0m Updated model\n"
     ]
    },
    {
     "name": "stderr",
     "output_type": "stream",
     "text": [
      "  0%|\u001b[34m          \u001b[0m| 0/10 [00:00<?, ?it/s]\n",
      "100%|\u001b[34m██████████\u001b[0m| 10/10 [00:38<00:00,  3.83s/it]\u001b[32m [repeated 3x across cluster]\u001b[0m\n"
     ]
    },
    {
     "name": "stdout",
     "output_type": "stream",
     "text": [
      "\u001b[36m(launch_and_fit pid=15297)\u001b[0m Run with homomorphic encryption\n",
      "\u001b[36m(launch_and_fit pid=15295)\u001b[0m \tTrain Epoch: 1 \tTrain_loss_mri: 0.1553 | Train_acc_mri: 93.7198 | Train_loss_dna: 1.1501 | Train_acc_dna: 62.6815 | Validation_loss_mri: 0.2958 | Validation_acc_mri: 77.0833 | Validation_loss_dna: 5.4472 | Validation_acc_dna: 26.0417\n",
      "\u001b[36m(launch_and_fit pid=15297)\u001b[0m [Client 6, round 19] fit, config: {'learning_rate': 0.003, 'batch_size': '32', 'server_round': 19, 'local_epochs': 10}\n",
      "\u001b[36m(launch_and_fit pid=15297)\u001b[0m \tTrain Epoch: 1 \tTrain_loss_mri: 0.2000 | Train_acc_mri: 93.6921 | Train_loss_dna: 1.0044 | Train_acc_dna: 65.1042 | Validation_loss_mri: 1.7439 | Validation_acc_mri: 67.7083 | Validation_loss_dna: 4.9976 | Validation_acc_dna: 12.5000\n",
      "\u001b[36m(launch_and_fit pid=15297)\u001b[0m Updated model\n"
     ]
    },
    {
     "name": "stderr",
     "output_type": "stream",
     "text": [
      "  0%|\u001b[34m          \u001b[0m| 0/10 [00:00<?, ?it/s]\n",
      " 20%|\u001b[34m██        \u001b[0m| 2/10 [00:08<00:32,  4.07s/it]\u001b[32m [repeated 3x across cluster]\u001b[0m\n"
     ]
    },
    {
     "name": "stdout",
     "output_type": "stream",
     "text": [
      "\u001b[36m(launch_and_fit pid=15295)\u001b[0m \tTrain Epoch: 3 \tTrain_loss_mri: 0.1305 | Train_acc_mri: 96.5625 | Train_loss_dna: 0.7220 | Train_acc_dna: 72.0867 | Validation_loss_mri: 0.2377 | Validation_acc_mri: 90.6250 | Validation_loss_dna: 4.3025 | Validation_acc_dna: 26.0417\u001b[32m [repeated 3x across cluster]\u001b[0m\n"
     ]
    },
    {
     "name": "stderr",
     "output_type": "stream",
     "text": [
      " 40%|\u001b[34m████      \u001b[0m| 4/10 [00:15<00:23,  3.92s/it]\u001b[32m [repeated 4x across cluster]\u001b[0m\n"
     ]
    },
    {
     "name": "stdout",
     "output_type": "stream",
     "text": [
      "\u001b[36m(launch_and_fit pid=15295)\u001b[0m \tTrain Epoch: 5 \tTrain_loss_mri: 0.0770 | Train_acc_mri: 97.4899 | Train_loss_dna: 0.4134 | Train_acc_dna: 84.2641 | Validation_loss_mri: 0.5088 | Validation_acc_mri: 75.5208 | Validation_loss_dna: 4.7555 | Validation_acc_dna: 29.1667\u001b[32m [repeated 4x across cluster]\u001b[0m\n"
     ]
    },
    {
     "name": "stderr",
     "output_type": "stream",
     "text": [
      " 60%|\u001b[34m██████    \u001b[0m| 6/10 [00:23<00:15,  3.83s/it]\u001b[32m [repeated 4x across cluster]\u001b[0m\n"
     ]
    },
    {
     "name": "stdout",
     "output_type": "stream",
     "text": [
      "\u001b[36m(launch_and_fit pid=15295)\u001b[0m \tTrain Epoch: 7 \tTrain_loss_mri: 0.0297 | Train_acc_mri: 99.0625 | Train_loss_dna: 0.3269 | Train_acc_dna: 92.4698 | Validation_loss_mri: 0.5042 | Validation_acc_mri: 89.0625 | Validation_loss_dna: 4.4254 | Validation_acc_dna: 45.8333\u001b[32m [repeated 4x across cluster]\u001b[0m\n"
     ]
    },
    {
     "name": "stderr",
     "output_type": "stream",
     "text": [
      " 80%|\u001b[34m████████  \u001b[0m| 8/10 [00:30<00:07,  3.81s/it]\u001b[32m [repeated 4x across cluster]\u001b[0m\n"
     ]
    },
    {
     "name": "stdout",
     "output_type": "stream",
     "text": [
      "\u001b[36m(launch_and_fit pid=15295)\u001b[0m \tTrain Epoch: 9 \tTrain_loss_mri: 0.0291 | Train_acc_mri: 98.7399 | Train_loss_dna: 0.2372 | Train_acc_dna: 94.0323 | Validation_loss_mri: 0.3304 | Validation_acc_mri: 92.1875 | Validation_loss_dna: 4.3188 | Validation_acc_dna: 47.3958\u001b[32m [repeated 4x across cluster]\u001b[0m\n",
      "\u001b[36m(launch_and_fit pid=15295)\u001b[0m save graph in  results/FL/\n"
     ]
    },
    {
     "name": "stderr",
     "output_type": "stream",
     "text": [
      "100%|\u001b[34m██████████\u001b[0m| 10/10 [00:38<00:00,  3.88s/it]\u001b[32m [repeated 4x across cluster]\u001b[0m\n"
     ]
    },
    {
     "name": "stdout",
     "output_type": "stream",
     "text": [
      "\u001b[36m(launch_and_fit pid=15295)\u001b[0m mri_net.features.0.weight 4.291534423828125e-06\n",
      "\u001b[36m(launch_and_fit pid=15295)\u001b[0m mri_net.features.0.bias 1.6689300537109375e-06\n",
      "\u001b[36m(launch_and_fit pid=15295)\u001b[0m mri_net.features.3.weight 1.1920928955078125e-06\n",
      "\u001b[36m(launch_and_fit pid=15295)\u001b[0m mri_net.features.3.bias 1.1920928955078125e-06\n",
      "\u001b[36m(launch_and_fit pid=15295)\u001b[0m mri_net.classifier.0.weight 1.1920928955078125e-06\n",
      "\u001b[36m(launch_and_fit pid=15295)\u001b[0m mri_net.classifier.0.bias 1.1920928955078125e-06\n",
      "\u001b[36m(launch_and_fit pid=15295)\u001b[0m mri_net.classifier.2.weight 9.5367431640625e-07\n",
      "\u001b[36m(launch_and_fit pid=15295)\u001b[0m mri_net.classifier.2.bias 1.1920928955078125e-06\n",
      "\u001b[36m(launch_and_fit pid=15295)\u001b[0m mri_net.classifier.3.weights 1.1920928955078125e-06\n",
      "\u001b[36m(launch_and_fit pid=15295)\u001b[0m dna_net.fc1.weight 9.5367431640625e-07\n",
      "\u001b[36m(launch_and_fit pid=15295)\u001b[0m dna_net.fc1.bias 9.5367431640625e-07\n",
      "\u001b[36m(launch_and_fit pid=15295)\u001b[0m dna_net.fc2.weight 9.5367431640625e-07\n",
      "\u001b[36m(launch_and_fit pid=15295)\u001b[0m dna_net.fc2.bias 1.1920928955078125e-06\n",
      "\u001b[36m(launch_and_fit pid=15295)\u001b[0m dna_net.fc3.weight 1.1920928955078125e-06\n",
      "\u001b[36m(launch_and_fit pid=15295)\u001b[0m dna_net.fc3.bias 2.1457672119140625e-06\n",
      "\u001b[36m(launch_and_fit pid=15295)\u001b[0m dna_net.fc4.weight 9.5367431640625e-07\n",
      "\u001b[36m(launch_and_fit pid=15295)\u001b[0m dna_net.fc4.bias 1.3828277587890625e-05\n",
      "\u001b[36m(launch_and_fit pid=15295)\u001b[0m dna_net.qnn.weights 9.5367431640625e-07\n",
      "\u001b[36m(launch_and_fit pid=15295)\u001b[0m attention.in_proj_weight 1.1920928955078125e-06\n",
      "\u001b[36m(launch_and_fit pid=15295)\u001b[0m attention.in_proj_bias 9.5367431640625e-07\n",
      "\u001b[36m(launch_and_fit pid=15295)\u001b[0m attention.out_proj.weight 9.5367431640625e-07\n",
      "\u001b[36m(launch_and_fit pid=15295)\u001b[0m attention.out_proj.bias 7.152557373046875e-07\n",
      "\u001b[36m(launch_and_fit pid=15295)\u001b[0m fc1.weight 1.430511474609375e-06\n",
      "\u001b[36m(launch_and_fit pid=15295)\u001b[0m fc1.bias 1.1920928955078125e-06\n",
      "\u001b[36m(launch_and_fit pid=15295)\u001b[0m fc2_mri.weight 1.1920928955078125e-06\n",
      "\u001b[36m(launch_and_fit pid=15295)\u001b[0m fc2_mri.bias 9.5367431640625e-07\n",
      "\u001b[36m(launch_and_fit pid=15295)\u001b[0m fc2_dna.weight 9.5367431640625e-07\n",
      "\u001b[36m(launch_and_fit pid=15295)\u001b[0m fc2_dna.bias 9.5367431640625e-07\n",
      "\u001b[36m(launch_and_fit pid=15297)\u001b[0m \tTrain Epoch: 10 \tTrain_loss_mri: 0.0141 | Train_acc_mri: 99.6875 | Train_loss_dna: 0.2355 | Train_acc_dna: 94.2593 | Validation_loss_mri: 2.1414 | Validation_acc_mri: 70.8333 | Validation_loss_dna: 6.4232 | Validation_acc_dna: 7.8125\u001b[32m [repeated 3x across cluster]\u001b[0m\n",
      "\u001b[36m(launch_and_fit pid=15377)\u001b[0m Run with homomorphic encryption\n",
      "\u001b[36m(launch_and_fit pid=15297)\u001b[0m save graph in  results/FL/\n",
      "\u001b[36m(launch_and_fit pid=15297)\u001b[0m fc2_dna.bias 9.5367431640625e-07\u001b[32m [repeated 23x across cluster]\u001b[0m\n",
      "\u001b[36m(launch_and_fit pid=15297)\u001b[0m dna_net.qnn.weights 9.5367431640625e-07\n",
      "\u001b[36m(launch_and_fit pid=15297)\u001b[0m attention.in_proj_weight 9.5367431640625e-07\n",
      "\u001b[36m(launch_and_fit pid=15297)\u001b[0m attention.in_proj_bias 1.1920928955078125e-06\n",
      "\u001b[36m(launch_and_fit pid=15297)\u001b[0m attention.out_proj.weight 1.1920928955078125e-06\n",
      "\u001b[36m(launch_and_fit pid=15297)\u001b[0m attention.out_proj.bias 9.5367431640625e-07\n",
      "\u001b[36m(launch_and_fit pid=15377)\u001b[0m [Client 4, round 19] fit, config: {'learning_rate': 0.003, 'batch_size': '32', 'server_round': 19, 'local_epochs': 10}\n",
      "\u001b[36m(launch_and_fit pid=15377)\u001b[0m Updated model\n"
     ]
    },
    {
     "name": "stderr",
     "output_type": "stream",
     "text": [
      "  0%|\u001b[34m          \u001b[0m| 0/10 [00:00<?, ?it/s]\n",
      "100%|\u001b[34m██████████\u001b[0m| 10/10 [00:39<00:00,  3.90s/it]\n"
     ]
    },
    {
     "name": "stdout",
     "output_type": "stream",
     "text": [
      "\u001b[36m(launch_and_fit pid=15377)\u001b[0m \tTrain Epoch: 1 \tTrain_loss_mri: 0.0696 | Train_acc_mri: 96.8750 | Train_loss_dna: 1.3489 | Train_acc_dna: 53.5417 | Validation_loss_mri: 2.1932 | Validation_acc_mri: 67.7083 | Validation_loss_dna: 3.0686 | Validation_acc_dna: 29.1667\n",
      "\u001b[36m(launch_and_fit pid=15379)\u001b[0m Run with homomorphic encryption\n",
      "\u001b[36m(launch_and_fit pid=15379)\u001b[0m [Client 8, round 19] fit, config: {'learning_rate': 0.003, 'batch_size': '32', 'server_round': 19, 'local_epochs': 10}\n"
     ]
    },
    {
     "name": "stderr",
     "output_type": "stream",
     "text": [
      " 10%|\u001b[34m█         \u001b[0m| 1/10 [00:04<00:38,  4.24s/it]\n"
     ]
    },
    {
     "name": "stdout",
     "output_type": "stream",
     "text": [
      "\u001b[36m(launch_and_fit pid=15379)\u001b[0m Updated model\n"
     ]
    },
    {
     "name": "stderr",
     "output_type": "stream",
     "text": [
      "  0%|\u001b[34m          \u001b[0m| 0/10 [00:00<?, ?it/s]\n"
     ]
    },
    {
     "name": "stdout",
     "output_type": "stream",
     "text": [
      "\u001b[36m(launch_and_fit pid=15377)\u001b[0m \tTrain Epoch: 3 \tTrain_loss_mri: 0.1419 | Train_acc_mri: 95.4514 | Train_loss_dna: 0.7987 | Train_acc_dna: 70.7060 | Validation_loss_mri: 2.6105 | Validation_acc_mri: 67.7083 | Validation_loss_dna: 2.6285 | Validation_acc_dna: 29.1667\u001b[32m [repeated 4x across cluster]\u001b[0m\n"
     ]
    },
    {
     "name": "stderr",
     "output_type": "stream",
     "text": [
      " 30%|\u001b[34m███       \u001b[0m| 3/10 [00:11<00:27,  3.89s/it]\u001b[32m [repeated 4x across cluster]\u001b[0m\n"
     ]
    },
    {
     "name": "stdout",
     "output_type": "stream",
     "text": [
      "\u001b[36m(launch_and_fit pid=15377)\u001b[0m \tTrain Epoch: 5 \tTrain_loss_mri: 0.0750 | Train_acc_mri: 98.0671 | Train_loss_dna: 0.4059 | Train_acc_dna: 89.7106 | Validation_loss_mri: 3.0469 | Validation_acc_mri: 67.7083 | Validation_loss_dna: 3.5616 | Validation_acc_dna: 26.0417\u001b[32m [repeated 4x across cluster]\u001b[0m\n"
     ]
    },
    {
     "name": "stderr",
     "output_type": "stream",
     "text": [
      " 50%|\u001b[34m█████     \u001b[0m| 5/10 [00:19<00:19,  3.91s/it]\u001b[32m [repeated 4x across cluster]\u001b[0m\n"
     ]
    },
    {
     "name": "stdout",
     "output_type": "stream",
     "text": [
      "\u001b[36m(launch_and_fit pid=15377)\u001b[0m \tTrain Epoch: 7 \tTrain_loss_mri: 0.0134 | Train_acc_mri: 100.0000 | Train_loss_dna: 0.2756 | Train_acc_dna: 93.0093 | Validation_loss_mri: 3.6316 | Validation_acc_mri: 67.7083 | Validation_loss_dna: 3.9312 | Validation_acc_dna: 29.1667\u001b[32m [repeated 4x across cluster]\u001b[0m\n"
     ]
    },
    {
     "name": "stderr",
     "output_type": "stream",
     "text": [
      " 70%|\u001b[34m███████   \u001b[0m| 7/10 [00:27<00:11,  3.82s/it]\u001b[32m [repeated 4x across cluster]\u001b[0m\n"
     ]
    },
    {
     "name": "stdout",
     "output_type": "stream",
     "text": [
      "\u001b[36m(launch_and_fit pid=15377)\u001b[0m \tTrain Epoch: 9 \tTrain_loss_mri: 0.0293 | Train_acc_mri: 99.3750 | Train_loss_dna: 0.2049 | Train_acc_dna: 95.5671 | Validation_loss_mri: 3.7382 | Validation_acc_mri: 69.2708 | Validation_loss_dna: 4.6351 | Validation_acc_dna: 26.0417\u001b[32m [repeated 4x across cluster]\u001b[0m\n"
     ]
    },
    {
     "name": "stderr",
     "output_type": "stream",
     "text": [
      " 90%|\u001b[34m█████████ \u001b[0m| 9/10 [00:34<00:03,  3.84s/it]\u001b[32m [repeated 4x across cluster]\u001b[0m\n"
     ]
    },
    {
     "name": "stdout",
     "output_type": "stream",
     "text": [
      "\u001b[36m(launch_and_fit pid=15377)\u001b[0m save graph in  results/FL/\n",
      "\u001b[36m(launch_and_fit pid=15377)\u001b[0m mri_net.features.0.weight 4.76837158203125e-06\n",
      "\u001b[36m(launch_and_fit pid=15377)\u001b[0m mri_net.features.0.bias 1.430511474609375e-06\n",
      "\u001b[36m(launch_and_fit pid=15377)\u001b[0m mri_net.features.3.weight 1.1920928955078125e-06\n",
      "\u001b[36m(launch_and_fit pid=15377)\u001b[0m mri_net.features.3.bias 9.5367431640625e-07\n",
      "\u001b[36m(launch_and_fit pid=15377)\u001b[0m mri_net.classifier.0.weight 9.5367431640625e-07\n",
      "\u001b[36m(launch_and_fit pid=15377)\u001b[0m mri_net.classifier.0.bias 9.5367431640625e-07\n",
      "\u001b[36m(launch_and_fit pid=15377)\u001b[0m mri_net.classifier.2.weight 7.152557373046875e-07\n",
      "\u001b[36m(launch_and_fit pid=15377)\u001b[0m mri_net.classifier.2.bias 7.152557373046875e-07\n",
      "\u001b[36m(launch_and_fit pid=15377)\u001b[0m mri_net.classifier.3.weights 1.1920928955078125e-06\n",
      "\u001b[36m(launch_and_fit pid=15377)\u001b[0m dna_net.fc1.weight 9.5367431640625e-07\n",
      "\u001b[36m(launch_and_fit pid=15377)\u001b[0m dna_net.fc1.bias 1.1920928955078125e-06\n",
      "\u001b[36m(launch_and_fit pid=15377)\u001b[0m dna_net.fc2.weight 9.5367431640625e-07\n",
      "\u001b[36m(launch_and_fit pid=15377)\u001b[0m dna_net.fc2.bias 9.5367431640625e-07\n",
      "\u001b[36m(launch_and_fit pid=15377)\u001b[0m dna_net.fc3.weight 1.1920928955078125e-06\n",
      "\u001b[36m(launch_and_fit pid=15377)\u001b[0m dna_net.fc3.bias 9.5367431640625e-07\n",
      "\u001b[36m(launch_and_fit pid=15377)\u001b[0m dna_net.fc4.weight 9.5367431640625e-07\n",
      "\u001b[36m(launch_and_fit pid=15377)\u001b[0m dna_net.fc4.bias 1.1920928955078125e-06\n",
      "\u001b[36m(launch_and_fit pid=15377)\u001b[0m dna_net.qnn.weights 7.152557373046875e-07\n",
      "\u001b[36m(launch_and_fit pid=15377)\u001b[0m attention.in_proj_weight 9.5367431640625e-07\n",
      "\u001b[36m(launch_and_fit pid=15377)\u001b[0m attention.in_proj_bias 1.1920928955078125e-06\n",
      "\u001b[36m(launch_and_fit pid=15377)\u001b[0m attention.out_proj.weight 9.5367431640625e-07\n",
      "\u001b[36m(launch_and_fit pid=15377)\u001b[0m attention.out_proj.bias 9.5367431640625e-07\n",
      "\u001b[36m(launch_and_fit pid=15377)\u001b[0m fc1.weight 1.1920928955078125e-06\n",
      "\u001b[36m(launch_and_fit pid=15377)\u001b[0m fc1.bias 7.152557373046875e-07\n",
      "\u001b[36m(launch_and_fit pid=15377)\u001b[0m fc2_mri.weight 1.1920928955078125e-06\n",
      "\u001b[36m(launch_and_fit pid=15377)\u001b[0m fc2_mri.bias 9.5367431640625e-07\n",
      "\u001b[36m(launch_and_fit pid=15377)\u001b[0m fc2_dna.weight 9.5367431640625e-07\n",
      "\u001b[36m(launch_and_fit pid=15377)\u001b[0m fc2_dna.bias 7.152557373046875e-07\n",
      "\u001b[36m(launch_and_fit pid=15379)\u001b[0m \tTrain Epoch: 10 \tTrain_loss_mri: 0.0112 | Train_acc_mri: 99.6875 | Train_loss_dna: 0.1509 | Train_acc_dna: 97.0718 | Validation_loss_mri: 1.0130 | Validation_acc_mri: 90.6250 | Validation_loss_dna: 4.1616 | Validation_acc_dna: 39.5833\u001b[32m [repeated 3x across cluster]\u001b[0m\n",
      "\u001b[36m(launch_and_fit pid=15459)\u001b[0m Run with homomorphic encryption\n",
      "\u001b[36m(launch_and_fit pid=15379)\u001b[0m save graph in  results/FL/\n",
      "\u001b[36m(launch_and_fit pid=15379)\u001b[0m fc2_dna.bias 9.5367431640625e-07\u001b[32m [repeated 23x across cluster]\u001b[0m\n",
      "\u001b[36m(launch_and_fit pid=15379)\u001b[0m dna_net.qnn.weights 1.1920928955078125e-06\n",
      "\u001b[36m(launch_and_fit pid=15379)\u001b[0m attention.in_proj_weight 1.1920928955078125e-06\n",
      "\u001b[36m(launch_and_fit pid=15379)\u001b[0m attention.in_proj_bias 1.1920928955078125e-06\n",
      "\u001b[36m(launch_and_fit pid=15379)\u001b[0m attention.out_proj.weight 9.5367431640625e-07\n",
      "\u001b[36m(launch_and_fit pid=15379)\u001b[0m attention.out_proj.bias 1.430511474609375e-06\n",
      "\u001b[36m(launch_and_fit pid=15459)\u001b[0m [Client 2, round 19] fit, config: {'learning_rate': 0.003, 'batch_size': '32', 'server_round': 19, 'local_epochs': 10}\n",
      "\u001b[36m(launch_and_fit pid=15459)\u001b[0m Updated model\n"
     ]
    },
    {
     "name": "stderr",
     "output_type": "stream",
     "text": [
      "  0%|\u001b[34m          \u001b[0m| 0/10 [00:00<?, ?it/s]\n",
      "100%|\u001b[34m██████████\u001b[0m| 10/10 [00:38<00:00,  3.89s/it]\u001b[32m [repeated 3x across cluster]\u001b[0m\n"
     ]
    },
    {
     "name": "stdout",
     "output_type": "stream",
     "text": [
      "\u001b[36m(launch_and_fit pid=15459)\u001b[0m \tTrain Epoch: 1 \tTrain_loss_mri: 0.0900 | Train_acc_mri: 97.0139 | Train_loss_dna: 0.9719 | Train_acc_dna: 65.2199 | Validation_loss_mri: 0.9232 | Validation_acc_mri: 69.2708 | Validation_loss_dna: 4.5590 | Validation_acc_dna: 27.6042\n",
      "\u001b[36m(launch_and_fit pid=15484)\u001b[0m Run with homomorphic encryption\n",
      "\u001b[36m(launch_and_fit pid=15484)\u001b[0m [Client 3, round 19] fit, config: {'learning_rate': 0.003, 'batch_size': '32', 'server_round': 19, 'local_epochs': 10}\n",
      "\u001b[36m(launch_and_fit pid=15484)\u001b[0m Updated model\n"
     ]
    },
    {
     "name": "stderr",
     "output_type": "stream",
     "text": [
      "  0%|\u001b[34m          \u001b[0m| 0/10 [00:00<?, ?it/s]\n",
      " 20%|\u001b[34m██        \u001b[0m| 2/10 [00:08<00:31,  3.98s/it]\u001b[32m [repeated 3x across cluster]\u001b[0m\n"
     ]
    },
    {
     "name": "stdout",
     "output_type": "stream",
     "text": [
      "\u001b[36m(launch_and_fit pid=15459)\u001b[0m \tTrain Epoch: 3 \tTrain_loss_mri: 0.1420 | Train_acc_mri: 93.8889 | Train_loss_dna: 0.8070 | Train_acc_dna: 72.0370 | Validation_loss_mri: 0.9643 | Validation_acc_mri: 72.3958 | Validation_loss_dna: 3.6424 | Validation_acc_dna: 24.4792\u001b[32m [repeated 4x across cluster]\u001b[0m\n"
     ]
    },
    {
     "name": "stderr",
     "output_type": "stream",
     "text": [
      " 40%|\u001b[34m████      \u001b[0m| 4/10 [00:15<00:23,  3.86s/it]\u001b[32m [repeated 4x across cluster]\u001b[0m\n"
     ]
    },
    {
     "name": "stdout",
     "output_type": "stream",
     "text": [
      "\u001b[36m(launch_and_fit pid=15459)\u001b[0m \tTrain Epoch: 5 \tTrain_loss_mri: 0.0201 | Train_acc_mri: 100.0000 | Train_loss_dna: 0.4326 | Train_acc_dna: 88.0093 | Validation_loss_mri: 0.7582 | Validation_acc_mri: 72.3958 | Validation_loss_dna: 4.3818 | Validation_acc_dna: 24.4792\u001b[32m [repeated 4x across cluster]\u001b[0m\n"
     ]
    },
    {
     "name": "stderr",
     "output_type": "stream",
     "text": [
      " 60%|\u001b[34m██████    \u001b[0m| 6/10 [00:23<00:15,  3.80s/it]\u001b[32m [repeated 4x across cluster]\u001b[0m\n"
     ]
    },
    {
     "name": "stdout",
     "output_type": "stream",
     "text": [
      "\u001b[36m(launch_and_fit pid=15459)\u001b[0m \tTrain Epoch: 7 \tTrain_loss_mri: 0.0140 | Train_acc_mri: 100.0000 | Train_loss_dna: 0.3031 | Train_acc_dna: 90.7060 | Validation_loss_mri: 0.6833 | Validation_acc_mri: 89.0625 | Validation_loss_dna: 4.6128 | Validation_acc_dna: 6.2500\u001b[32m [repeated 4x across cluster]\u001b[0m\n"
     ]
    },
    {
     "name": "stderr",
     "output_type": "stream",
     "text": [
      " 70%|\u001b[34m███████   \u001b[0m| 7/10 [00:27<00:12,  4.01s/it]\u001b[32m [repeated 3x across cluster]\u001b[0m\n"
     ]
    },
    {
     "name": "stdout",
     "output_type": "stream",
     "text": [
      "\u001b[36m(launch_and_fit pid=15459)\u001b[0m \tTrain Epoch: 9 \tTrain_loss_mri: 0.0149 | Train_acc_mri: 99.6875 | Train_loss_dna: 0.2262 | Train_acc_dna: 94.9421 | Validation_loss_mri: 0.8368 | Validation_acc_mri: 72.3958 | Validation_loss_dna: 4.9127 | Validation_acc_dna: 27.6042\u001b[32m [repeated 4x across cluster]\u001b[0m\n"
     ]
    },
    {
     "name": "stderr",
     "output_type": "stream",
     "text": [
      " 90%|\u001b[34m█████████ \u001b[0m| 9/10 [00:34<00:03,  3.84s/it]\u001b[32m [repeated 3x across cluster]\u001b[0m\n"
     ]
    },
    {
     "name": "stdout",
     "output_type": "stream",
     "text": [
      "\u001b[36m(launch_and_fit pid=15459)\u001b[0m save graph in  results/FL/\n",
      "\u001b[36m(launch_and_fit pid=15459)\u001b[0m mri_net.features.0.weight 4.291534423828125e-06\n",
      "\u001b[36m(launch_and_fit pid=15459)\u001b[0m mri_net.features.0.bias 1.1920928955078125e-06\n",
      "\u001b[36m(launch_and_fit pid=15459)\u001b[0m mri_net.features.3.weight 1.430511474609375e-06\n",
      "\u001b[36m(launch_and_fit pid=15459)\u001b[0m mri_net.features.3.bias 9.5367431640625e-07\n",
      "\u001b[36m(launch_and_fit pid=15459)\u001b[0m mri_net.classifier.0.weight 9.5367431640625e-07\n",
      "\u001b[36m(launch_and_fit pid=15459)\u001b[0m mri_net.classifier.0.bias 9.5367431640625e-07\n",
      "\u001b[36m(launch_and_fit pid=15459)\u001b[0m mri_net.classifier.2.weight 9.5367431640625e-07\n",
      "\u001b[36m(launch_and_fit pid=15459)\u001b[0m mri_net.classifier.2.bias 1.1920928955078125e-06\n",
      "\u001b[36m(launch_and_fit pid=15459)\u001b[0m mri_net.classifier.3.weights 9.5367431640625e-07\n",
      "\u001b[36m(launch_and_fit pid=15459)\u001b[0m dna_net.fc1.weight 9.5367431640625e-07\n",
      "\u001b[36m(launch_and_fit pid=15459)\u001b[0m dna_net.fc1.bias 9.5367431640625e-07\n",
      "\u001b[36m(launch_and_fit pid=15459)\u001b[0m dna_net.fc2.weight 1.1920928955078125e-06\n",
      "\u001b[36m(launch_and_fit pid=15459)\u001b[0m dna_net.fc2.bias 9.5367431640625e-07\n",
      "\u001b[36m(launch_and_fit pid=15459)\u001b[0m dna_net.fc3.weight 9.5367431640625e-07\n",
      "\u001b[36m(launch_and_fit pid=15459)\u001b[0m dna_net.fc3.bias 9.5367431640625e-07\n",
      "\u001b[36m(launch_and_fit pid=15459)\u001b[0m dna_net.fc4.weight 1.1920928955078125e-06\n",
      "\u001b[36m(launch_and_fit pid=15459)\u001b[0m dna_net.fc4.bias 9.5367431640625e-07\n",
      "\u001b[36m(launch_and_fit pid=15459)\u001b[0m dna_net.qnn.weights 9.5367431640625e-07\n",
      "\u001b[36m(launch_and_fit pid=15459)\u001b[0m attention.in_proj_weight 9.5367431640625e-07\n",
      "\u001b[36m(launch_and_fit pid=15459)\u001b[0m attention.in_proj_bias 9.5367431640625e-07\n",
      "\u001b[36m(launch_and_fit pid=15459)\u001b[0m attention.out_proj.weight 9.5367431640625e-07\n",
      "\u001b[36m(launch_and_fit pid=15459)\u001b[0m attention.out_proj.bias 9.5367431640625e-07\n",
      "\u001b[36m(launch_and_fit pid=15459)\u001b[0m fc1.weight 1.1920928955078125e-06\n",
      "\u001b[36m(launch_and_fit pid=15459)\u001b[0m fc1.bias 7.152557373046875e-07\n",
      "\u001b[36m(launch_and_fit pid=15459)\u001b[0m fc2_mri.weight 9.5367431640625e-07\n",
      "\u001b[36m(launch_and_fit pid=15459)\u001b[0m fc2_mri.bias 1.1920928955078125e-06\n",
      "\u001b[36m(launch_and_fit pid=15459)\u001b[0m fc2_dna.weight 1.1920928955078125e-06\n",
      "\u001b[36m(launch_and_fit pid=15459)\u001b[0m fc2_dna.bias 9.5367431640625e-07\n"
     ]
    },
    {
     "name": "stderr",
     "output_type": "stream",
     "text": [
      "100%|\u001b[34m██████████\u001b[0m| 10/10 [00:39<00:00,  3.94s/it]\u001b[32m [repeated 3x across cluster]\u001b[0m\n"
     ]
    },
    {
     "name": "stdout",
     "output_type": "stream",
     "text": [
      "\u001b[36m(launch_and_fit pid=15484)\u001b[0m \tTrain Epoch: 10 \tTrain_loss_mri: 0.0172 | Train_acc_mri: 99.3750 | Train_loss_dna: 0.1923 | Train_acc_dna: 96.8171 | Validation_loss_mri: 0.7718 | Validation_acc_mri: 90.6250 | Validation_loss_dna: 6.3546 | Validation_acc_dna: 10.9375\u001b[32m [repeated 3x across cluster]\u001b[0m\n",
      "\u001b[36m(launch_and_fit pid=15541)\u001b[0m Run with homomorphic encryption\n",
      "\u001b[36m(launch_and_fit pid=15484)\u001b[0m save graph in  results/FL/\n",
      "\u001b[36m(launch_and_fit pid=15484)\u001b[0m fc2_dna.bias 9.5367431640625e-07\u001b[32m [repeated 23x across cluster]\u001b[0m\n",
      "\u001b[36m(launch_and_fit pid=15484)\u001b[0m dna_net.qnn.weights 9.5367431640625e-07\n",
      "\u001b[36m(launch_and_fit pid=15484)\u001b[0m attention.in_proj_weight 9.5367431640625e-07\n",
      "\u001b[36m(launch_and_fit pid=15484)\u001b[0m attention.in_proj_bias 1.1920928955078125e-06\n",
      "\u001b[36m(launch_and_fit pid=15484)\u001b[0m attention.out_proj.weight 9.5367431640625e-07\n",
      "\u001b[36m(launch_and_fit pid=15484)\u001b[0m attention.out_proj.bias 9.5367431640625e-07\n",
      "\u001b[36m(launch_and_fit pid=15541)\u001b[0m [Client 1, round 19] fit, config: {'learning_rate': 0.003, 'batch_size': '32', 'server_round': 19, 'local_epochs': 10}\n"
     ]
    },
    {
     "name": "stderr",
     "output_type": "stream",
     "text": [
      "  0%|\u001b[34m          \u001b[0m| 0/10 [00:00<?, ?it/s]\n"
     ]
    },
    {
     "name": "stdout",
     "output_type": "stream",
     "text": [
      "\u001b[36m(launch_and_fit pid=15541)\u001b[0m Updated model\n"
     ]
    },
    {
     "name": "stderr",
     "output_type": "stream",
     "text": [
      " 10%|\u001b[34m█         \u001b[0m| 1/10 [00:04<00:40,  4.48s/it]\n"
     ]
    },
    {
     "name": "stdout",
     "output_type": "stream",
     "text": [
      "\u001b[36m(launch_and_fit pid=15541)\u001b[0m \tTrain Epoch: 1 \tTrain_loss_mri: 0.1201 | Train_acc_mri: 96.1921 | Train_loss_dna: 1.3181 | Train_acc_dna: 55.5903 | Validation_loss_mri: 1.6788 | Validation_acc_mri: 61.9792 | Validation_loss_dna: 6.3072 | Validation_acc_dna: 6.2500\n",
      "\u001b[36m(launch_and_fit pid=15566)\u001b[0m Run with homomorphic encryption\n",
      "\u001b[36m(launch_and_fit pid=15566)\u001b[0m [Client 5, round 19] fit, config: {'learning_rate': 0.003, 'batch_size': '32', 'server_round': 19, 'local_epochs': 10}\n"
     ]
    },
    {
     "name": "stderr",
     "output_type": "stream",
     "text": [
      "  0%|\u001b[34m          \u001b[0m| 0/10 [00:00<?, ?it/s]\n"
     ]
    },
    {
     "name": "stdout",
     "output_type": "stream",
     "text": [
      "\u001b[36m(launch_and_fit pid=15566)\u001b[0m Updated model\n"
     ]
    },
    {
     "name": "stderr",
     "output_type": "stream",
     "text": [
      " 20%|\u001b[34m██        \u001b[0m| 2/10 [00:08<00:34,  4.25s/it]\u001b[32m [repeated 3x across cluster]\u001b[0m\n"
     ]
    },
    {
     "name": "stdout",
     "output_type": "stream",
     "text": [
      "\u001b[36m(launch_and_fit pid=15566)\u001b[0m \tTrain Epoch: 2 \tTrain_loss_mri: 0.1137 | Train_acc_mri: 95.6250 | Train_loss_dna: 0.9917 | Train_acc_dna: 69.4213 | Validation_loss_mri: 0.4504 | Validation_acc_mri: 89.0625 | Validation_loss_dna: 4.9353 | Validation_acc_dna: 22.9167\u001b[32m [repeated 3x across cluster]\u001b[0m\n"
     ]
    },
    {
     "name": "stderr",
     "output_type": "stream",
     "text": [
      " 40%|\u001b[34m████      \u001b[0m| 4/10 [00:15<00:23,  3.85s/it]\u001b[32m [repeated 3x across cluster]\u001b[0m\n"
     ]
    },
    {
     "name": "stdout",
     "output_type": "stream",
     "text": [
      "\u001b[36m(launch_and_fit pid=15541)\u001b[0m \tTrain Epoch: 4 \tTrain_loss_mri: 0.0703 | Train_acc_mri: 97.1296 | Train_loss_dna: 0.4676 | Train_acc_dna: 83.9120 | Validation_loss_mri: 1.2728 | Validation_acc_mri: 73.9583 | Validation_loss_dna: 6.1232 | Validation_acc_dna: 6.2500\u001b[32m [repeated 3x across cluster]\u001b[0m\n"
     ]
    },
    {
     "name": "stderr",
     "output_type": "stream",
     "text": [
      " 50%|\u001b[34m█████     \u001b[0m| 5/10 [00:19<00:19,  3.88s/it]\u001b[32m [repeated 3x across cluster]\u001b[0m\n"
     ]
    },
    {
     "name": "stdout",
     "output_type": "stream",
     "text": [
      "\u001b[36m(launch_and_fit pid=15566)\u001b[0m \tTrain Epoch: 5 \tTrain_loss_mri: 0.0442 | Train_acc_mri: 98.1250 | Train_loss_dna: 0.3241 | Train_acc_dna: 89.2014 | Validation_loss_mri: 0.5229 | Validation_acc_mri: 89.0625 | Validation_loss_dna: 4.7455 | Validation_acc_dna: 30.7292\u001b[32m [repeated 3x across cluster]\u001b[0m\n"
     ]
    },
    {
     "name": "stderr",
     "output_type": "stream",
     "text": [
      " 70%|\u001b[34m███████   \u001b[0m| 7/10 [00:26<00:11,  3.74s/it]\u001b[32m [repeated 3x across cluster]\u001b[0m\n"
     ]
    },
    {
     "name": "stdout",
     "output_type": "stream",
     "text": [
      "\u001b[36m(launch_and_fit pid=15541)\u001b[0m \tTrain Epoch: 7 \tTrain_loss_mri: 0.0391 | Train_acc_mri: 98.6921 | Train_loss_dna: 0.2663 | Train_acc_dna: 95.5093 | Validation_loss_mri: 1.7182 | Validation_acc_mri: 72.3958 | Validation_loss_dna: 6.8491 | Validation_acc_dna: 7.8125\u001b[32m [repeated 3x across cluster]\u001b[0m\n"
     ]
    },
    {
     "name": "stderr",
     "output_type": "stream",
     "text": [
      " 80%|\u001b[34m████████  \u001b[0m| 8/10 [00:31<00:07,  3.81s/it]\u001b[32m [repeated 3x across cluster]\u001b[0m\n"
     ]
    },
    {
     "name": "stdout",
     "output_type": "stream",
     "text": [
      "\u001b[36m(launch_and_fit pid=15566)\u001b[0m \tTrain Epoch: 8 \tTrain_loss_mri: 0.0309 | Train_acc_mri: 99.3171 | Train_loss_dna: 0.2856 | Train_acc_dna: 90.6481 | Validation_loss_mri: 0.5544 | Validation_acc_mri: 90.6250 | Validation_loss_dna: 5.4899 | Validation_acc_dna: 12.5000\u001b[32m [repeated 3x across cluster]\u001b[0m\n"
     ]
    },
    {
     "name": "stderr",
     "output_type": "stream",
     "text": [
      "100%|\u001b[34m██████████\u001b[0m| 10/10 [00:38<00:00,  3.85s/it]\u001b[32m [repeated 3x across cluster]\u001b[0m\n"
     ]
    },
    {
     "name": "stdout",
     "output_type": "stream",
     "text": [
      "\u001b[36m(launch_and_fit pid=15541)\u001b[0m save graph in  results/FL/\n",
      "\u001b[36m(launch_and_fit pid=15541)\u001b[0m \tTrain Epoch: 10 \tTrain_loss_mri: 0.0261 | Train_acc_mri: 99.0046 | Train_loss_dna: 0.2265 | Train_acc_dna: 92.9514 | Validation_loss_mri: 1.4126 | Validation_acc_mri: 78.6458 | Validation_loss_dna: 8.2672 | Validation_acc_dna: 7.8125\u001b[32m [repeated 3x across cluster]\u001b[0m\n",
      "\u001b[36m(launch_and_fit pid=15541)\u001b[0m mri_net.features.0.weight 4.291534423828125e-06\n",
      "\u001b[36m(launch_and_fit pid=15541)\u001b[0m mri_net.features.0.bias 1.1920928955078125e-06\n",
      "\u001b[36m(launch_and_fit pid=15541)\u001b[0m mri_net.features.3.weight 9.5367431640625e-07\n",
      "\u001b[36m(launch_and_fit pid=15541)\u001b[0m mri_net.features.3.bias 1.1920928955078125e-06\n",
      "\u001b[36m(launch_and_fit pid=15541)\u001b[0m mri_net.classifier.0.weight 1.430511474609375e-06\n",
      "\u001b[36m(launch_and_fit pid=15541)\u001b[0m mri_net.classifier.0.bias 9.5367431640625e-07\n",
      "\u001b[36m(launch_and_fit pid=15541)\u001b[0m mri_net.classifier.2.weight 9.5367431640625e-07\n",
      "\u001b[36m(launch_and_fit pid=15541)\u001b[0m mri_net.classifier.2.bias 9.5367431640625e-07\n",
      "\u001b[36m(launch_and_fit pid=15541)\u001b[0m mri_net.classifier.3.weights 1.430511474609375e-06\n",
      "\u001b[36m(launch_and_fit pid=15541)\u001b[0m dna_net.fc1.weight 9.5367431640625e-07\n",
      "\u001b[36m(launch_and_fit pid=15541)\u001b[0m dna_net.fc1.bias 9.5367431640625e-07\n",
      "\u001b[36m(launch_and_fit pid=15541)\u001b[0m dna_net.fc2.weight 9.5367431640625e-07\n",
      "\u001b[36m(launch_and_fit pid=15541)\u001b[0m dna_net.fc2.bias 1.1920928955078125e-06\n",
      "\u001b[36m(launch_and_fit pid=15541)\u001b[0m dna_net.fc3.weight 1.6689300537109375e-06\n",
      "\u001b[36m(launch_and_fit pid=15541)\u001b[0m dna_net.fc3.bias 9.5367431640625e-07\n",
      "\u001b[36m(launch_and_fit pid=15541)\u001b[0m dna_net.fc4.weight 1.1920928955078125e-06\n",
      "\u001b[36m(launch_and_fit pid=15541)\u001b[0m dna_net.fc4.bias 9.5367431640625e-07\n",
      "\u001b[36m(launch_and_fit pid=15541)\u001b[0m dna_net.qnn.weights 1.6689300537109375e-06\n",
      "\u001b[36m(launch_and_fit pid=15541)\u001b[0m attention.in_proj_weight 1.430511474609375e-06\n",
      "\u001b[36m(launch_and_fit pid=15541)\u001b[0m attention.in_proj_bias 9.5367431640625e-07\n",
      "\u001b[36m(launch_and_fit pid=15541)\u001b[0m attention.out_proj.weight 9.5367431640625e-07\n",
      "\u001b[36m(launch_and_fit pid=15541)\u001b[0m attention.out_proj.bias 9.5367431640625e-07\n",
      "\u001b[36m(launch_and_fit pid=15541)\u001b[0m fc1.weight 1.430511474609375e-06\n",
      "\u001b[36m(launch_and_fit pid=15541)\u001b[0m fc1.bias 1.1920928955078125e-06\n",
      "\u001b[36m(launch_and_fit pid=15541)\u001b[0m fc2_mri.weight 9.5367431640625e-07\n",
      "\u001b[36m(launch_and_fit pid=15541)\u001b[0m fc2_mri.bias 9.5367431640625e-07\n",
      "\u001b[36m(launch_and_fit pid=15541)\u001b[0m fc2_dna.weight 9.5367431640625e-07\n",
      "\u001b[36m(launch_and_fit pid=15541)\u001b[0m fc2_dna.bias 9.5367431640625e-07\n"
     ]
    },
    {
     "name": "stderr",
     "output_type": "stream",
     "text": [
      "DEBUG flwr 2024-08-05 08:56:29,725 | server.py:236 | fit_round 19 received 10 results and 0 failures\n"
     ]
    },
    {
     "name": "stdout",
     "output_type": "stream",
     "text": [
      "Saving round 19 aggregated_parameters...\n"
     ]
    },
    {
     "name": "stderr",
     "output_type": "stream",
     "text": [
      "DEBUG flwr 2024-08-05 08:56:31,692 | server.py:173 | evaluate_round 19: strategy sampled 10 clients (out of 10)\n"
     ]
    },
    {
     "name": "stdout",
     "output_type": "stream",
     "text": [
      "\u001b[36m(launch_and_evaluate pid=15633)\u001b[0m Run with homomorphic encryption\n",
      "\u001b[36m(launch_and_fit pid=15566)\u001b[0m save graph in  results/FL/\n",
      "\u001b[36m(launch_and_fit pid=15566)\u001b[0m \tTrain Epoch: 10 \tTrain_loss_mri: 0.0628 | Train_acc_mri: 97.3843 | Train_loss_dna: 0.2921 | Train_acc_dna: 91.4468 | Validation_loss_mri: 0.6684 | Validation_acc_mri: 85.9375 | Validation_loss_dna: 6.7813 | Validation_acc_dna: 7.8125\n",
      "\u001b[36m(launch_and_fit pid=15566)\u001b[0m fc2_dna.bias 9.5367431640625e-07\u001b[32m [repeated 23x across cluster]\u001b[0m\n",
      "\u001b[36m(launch_and_fit pid=15566)\u001b[0m dna_net.qnn.weights 9.5367431640625e-07\n",
      "\u001b[36m(launch_and_fit pid=15566)\u001b[0m attention.in_proj_weight 1.1920928955078125e-06\n",
      "\u001b[36m(launch_and_fit pid=15566)\u001b[0m attention.in_proj_bias 1.430511474609375e-06\n",
      "\u001b[36m(launch_and_fit pid=15566)\u001b[0m attention.out_proj.weight 1.1920928955078125e-06\n",
      "\u001b[36m(launch_and_fit pid=15566)\u001b[0m attention.out_proj.bias 9.5367431640625e-07\n",
      "\u001b[36m(launch_and_evaluate pid=15633)\u001b[0m [Client 3] evaluate, config: {}\n",
      "\u001b[36m(launch_and_evaluate pid=15633)\u001b[0m Updated model\n"
     ]
    },
    {
     "name": "stderr",
     "output_type": "stream",
     "text": [
      "\u001b[36m(launch_and_evaluate pid=15634)\u001b[0m /opt/conda/lib/python3.10/site-packages/sklearn/metrics/_ranking.py:1029: UndefinedMetricWarning: No positive samples in y_true, true positive value should be meaningless\n",
      "\u001b[36m(launch_and_evaluate pid=15634)\u001b[0m   warnings.warn(\n",
      "100%|\u001b[34m██████████\u001b[0m| 10/10 [00:39<00:00,  3.92s/it]\n"
     ]
    },
    {
     "name": "stdout",
     "output_type": "stream",
     "text": [
      "\u001b[36m(launch_and_evaluate pid=15714)\u001b[0m Run with homomorphic encryption\u001b[32m [repeated 2x across cluster]\u001b[0m\n",
      "\u001b[36m(launch_and_evaluate pid=15634)\u001b[0m [Client 4] evaluate, config: {}\n",
      "\u001b[36m(launch_and_evaluate pid=15634)\u001b[0m Updated model\n",
      "\u001b[36m(launch_and_evaluate pid=15714)\u001b[0m [Client 9] evaluate, config: {}\n",
      "\u001b[36m(launch_and_evaluate pid=15714)\u001b[0m Updated model\n"
     ]
    },
    {
     "name": "stderr",
     "output_type": "stream",
     "text": [
      "\u001b[36m(launch_and_evaluate pid=15714)\u001b[0m /opt/conda/lib/python3.10/site-packages/sklearn/metrics/_ranking.py:1029: UndefinedMetricWarning: No positive samples in y_true, true positive value should be meaningless\n",
      "\u001b[36m(launch_and_evaluate pid=15714)\u001b[0m   warnings.warn(\n",
      "\u001b[36m(launch_and_evaluate pid=15712)\u001b[0m /opt/conda/lib/python3.10/site-packages/sklearn/metrics/_ranking.py:1029: UndefinedMetricWarning: No positive samples in y_true, true positive value should be meaningless\n",
      "\u001b[36m(launch_and_evaluate pid=15712)\u001b[0m   warnings.warn(\n"
     ]
    },
    {
     "name": "stdout",
     "output_type": "stream",
     "text": [
      "\u001b[36m(launch_and_evaluate pid=15790)\u001b[0m Run with homomorphic encryption\u001b[32m [repeated 2x across cluster]\u001b[0m\n",
      "\u001b[36m(launch_and_evaluate pid=15712)\u001b[0m [Client 8] evaluate, config: {}\n",
      "\u001b[36m(launch_and_evaluate pid=15712)\u001b[0m Updated model\n",
      "\u001b[36m(launch_and_evaluate pid=15790)\u001b[0m [Client 5] evaluate, config: {}\n",
      "\u001b[36m(launch_and_evaluate pid=15790)\u001b[0m Updated model\n",
      "\u001b[36m(launch_and_evaluate pid=15869)\u001b[0m Run with homomorphic encryption\u001b[32m [repeated 2x across cluster]\u001b[0m\n",
      "\u001b[36m(launch_and_evaluate pid=15792)\u001b[0m [Client 1] evaluate, config: {}\n",
      "\u001b[36m(launch_and_evaluate pid=15792)\u001b[0m Updated model\n",
      "\u001b[36m(launch_and_evaluate pid=15869)\u001b[0m [Client 0] evaluate, config: {}\n",
      "\u001b[36m(launch_and_evaluate pid=15869)\u001b[0m Updated model\n",
      "\u001b[36m(launch_and_evaluate pid=15947)\u001b[0m Run with homomorphic encryption\u001b[32m [repeated 2x across cluster]\u001b[0m\n",
      "\u001b[36m(launch_and_evaluate pid=15870)\u001b[0m [Client 2] evaluate, config: {}\n",
      "\u001b[36m(launch_and_evaluate pid=15870)\u001b[0m Updated model\n",
      "\u001b[36m(launch_and_evaluate pid=15947)\u001b[0m [Client 7] evaluate, config: {}\n",
      "\u001b[36m(launch_and_evaluate pid=15947)\u001b[0m Updated model\n"
     ]
    },
    {
     "name": "stderr",
     "output_type": "stream",
     "text": [
      "DEBUG flwr 2024-08-05 08:57:49,816 | server.py:187 | evaluate_round 19 received 10 results and 0 failures\n",
      "DEBUG flwr 2024-08-05 08:57:49,817 | server.py:222 | fit_round 20: strategy sampled 10 clients (out of 10)\n"
     ]
    },
    {
     "name": "stdout",
     "output_type": "stream",
     "text": [
      "\u001b[36m(launch_and_fit pid=16035)\u001b[0m Run with homomorphic encryption\u001b[32m [repeated 2x across cluster]\u001b[0m\n",
      "\u001b[36m(launch_and_evaluate pid=15949)\u001b[0m [Client 6] evaluate, config: {}\n",
      "\u001b[36m(launch_and_evaluate pid=15949)\u001b[0m Updated model\n",
      "\u001b[36m(launch_and_fit pid=16034)\u001b[0m [Client 7, round 20] fit, config: {'learning_rate': 0.003, 'batch_size': '32', 'server_round': 20, 'local_epochs': 10}\n",
      "\u001b[36m(launch_and_fit pid=16035)\u001b[0m Updated model\n"
     ]
    },
    {
     "name": "stderr",
     "output_type": "stream",
     "text": [
      "  0%|\u001b[34m          \u001b[0m| 0/10 [00:00<?, ?it/s]\n"
     ]
    },
    {
     "name": "stdout",
     "output_type": "stream",
     "text": [
      "\u001b[36m(launch_and_fit pid=16034)\u001b[0m \tTrain Epoch: 1 \tTrain_loss_mri: 0.0729 | Train_acc_mri: 97.1875 | Train_loss_dna: 1.1565 | Train_acc_dna: 57.9745 | Validation_loss_mri: 1.0557 | Validation_acc_mri: 95.3125 | Validation_loss_dna: 3.3012 | Validation_acc_dna: 15.6250\n",
      "\u001b[36m(launch_and_fit pid=16034)\u001b[0m Run with homomorphic encryption\n",
      "\u001b[36m(launch_and_fit pid=16035)\u001b[0m [Client 4, round 20] fit, config: {'learning_rate': 0.003, 'batch_size': '32', 'server_round': 20, 'local_epochs': 10}\n"
     ]
    },
    {
     "name": "stderr",
     "output_type": "stream",
     "text": [
      " 10%|\u001b[34m█         \u001b[0m| 1/10 [00:04<00:38,  4.32s/it]\n"
     ]
    },
    {
     "name": "stdout",
     "output_type": "stream",
     "text": [
      "\u001b[36m(launch_and_fit pid=16034)\u001b[0m Updated model\n"
     ]
    },
    {
     "name": "stderr",
     "output_type": "stream",
     "text": [
      "  0%|\u001b[34m          \u001b[0m| 0/10 [00:00<?, ?it/s]\n"
     ]
    },
    {
     "name": "stdout",
     "output_type": "stream",
     "text": [
      "\u001b[36m(launch_and_fit pid=16034)\u001b[0m \tTrain Epoch: 3 \tTrain_loss_mri: 0.0683 | Train_acc_mri: 98.4375 | Train_loss_dna: 0.7261 | Train_acc_dna: 73.3449 | Validation_loss_mri: 1.4755 | Validation_acc_mri: 78.6458 | Validation_loss_dna: 3.4547 | Validation_acc_dna: 26.0417\u001b[32m [repeated 4x across cluster]\u001b[0m\n"
     ]
    },
    {
     "name": "stderr",
     "output_type": "stream",
     "text": [
      " 30%|\u001b[34m███       \u001b[0m| 3/10 [00:12<00:28,  4.08s/it]\u001b[32m [repeated 4x across cluster]\u001b[0m\n"
     ]
    },
    {
     "name": "stdout",
     "output_type": "stream",
     "text": [
      "\u001b[36m(launch_and_fit pid=16034)\u001b[0m \tTrain Epoch: 5 \tTrain_loss_mri: 0.0454 | Train_acc_mri: 98.0671 | Train_loss_dna: 0.4328 | Train_acc_dna: 86.9560 | Validation_loss_mri: 1.0373 | Validation_acc_mri: 93.7500 | Validation_loss_dna: 3.1439 | Validation_acc_dna: 30.7292\u001b[32m [repeated 4x across cluster]\u001b[0m\n"
     ]
    },
    {
     "name": "stderr",
     "output_type": "stream",
     "text": [
      " 50%|\u001b[34m█████     \u001b[0m| 5/10 [00:19<00:19,  3.85s/it]\u001b[32m [repeated 4x across cluster]\u001b[0m\n"
     ]
    },
    {
     "name": "stdout",
     "output_type": "stream",
     "text": [
      "\u001b[36m(launch_and_fit pid=16034)\u001b[0m \tTrain Epoch: 7 \tTrain_loss_mri: 0.0360 | Train_acc_mri: 99.0046 | Train_loss_dna: 0.2986 | Train_acc_dna: 94.5718 | Validation_loss_mri: 1.4224 | Validation_acc_mri: 78.6458 | Validation_loss_dna: 2.6791 | Validation_acc_dna: 45.8333\u001b[32m [repeated 4x across cluster]\u001b[0m\n"
     ]
    },
    {
     "name": "stderr",
     "output_type": "stream",
     "text": [
      " 70%|\u001b[34m███████   \u001b[0m| 7/10 [00:27<00:11,  3.84s/it]\u001b[32m [repeated 4x across cluster]\u001b[0m\n"
     ]
    },
    {
     "name": "stdout",
     "output_type": "stream",
     "text": [
      "\u001b[36m(launch_and_fit pid=16034)\u001b[0m \tTrain Epoch: 9 \tTrain_loss_mri: 0.0153 | Train_acc_mri: 99.6875 | Train_loss_dna: 0.2018 | Train_acc_dna: 95.8796 | Validation_loss_mri: 1.7193 | Validation_acc_mri: 78.6458 | Validation_loss_dna: 3.5712 | Validation_acc_dna: 27.6042\u001b[32m [repeated 4x across cluster]\u001b[0m\n"
     ]
    },
    {
     "name": "stderr",
     "output_type": "stream",
     "text": [
      " 90%|\u001b[34m█████████ \u001b[0m| 9/10 [00:34<00:03,  3.81s/it]\u001b[32m [repeated 4x across cluster]\u001b[0m\n"
     ]
    },
    {
     "name": "stdout",
     "output_type": "stream",
     "text": [
      "\u001b[36m(launch_and_fit pid=16034)\u001b[0m save graph in  results/FL/\n",
      "\u001b[36m(launch_and_fit pid=16034)\u001b[0m mri_net.features.0.weight 5.0067901611328125e-06\n",
      "\u001b[36m(launch_and_fit pid=16034)\u001b[0m mri_net.features.0.bias 1.430511474609375e-06\n",
      "\u001b[36m(launch_and_fit pid=16034)\u001b[0m mri_net.features.3.weight 1.1920928955078125e-06\n",
      "\u001b[36m(launch_and_fit pid=16034)\u001b[0m mri_net.features.3.bias 9.5367431640625e-07\n",
      "\u001b[36m(launch_and_fit pid=16034)\u001b[0m mri_net.classifier.0.weight 9.5367431640625e-07\n",
      "\u001b[36m(launch_and_fit pid=16034)\u001b[0m mri_net.classifier.0.bias 9.5367431640625e-07\n",
      "\u001b[36m(launch_and_fit pid=16034)\u001b[0m mri_net.classifier.2.weight 9.5367431640625e-07\n",
      "\u001b[36m(launch_and_fit pid=16034)\u001b[0m mri_net.classifier.2.bias 1.1920928955078125e-06\n",
      "\u001b[36m(launch_and_fit pid=16034)\u001b[0m mri_net.classifier.3.weights 9.5367431640625e-07\n",
      "\u001b[36m(launch_and_fit pid=16034)\u001b[0m dna_net.fc1.weight 9.5367431640625e-07\n",
      "\u001b[36m(launch_and_fit pid=16034)\u001b[0m dna_net.fc1.bias 1.1920928955078125e-06\n",
      "\u001b[36m(launch_and_fit pid=16034)\u001b[0m dna_net.fc2.weight 9.5367431640625e-07\n",
      "\u001b[36m(launch_and_fit pid=16034)\u001b[0m dna_net.fc2.bias 9.5367431640625e-07\n",
      "\u001b[36m(launch_and_fit pid=16034)\u001b[0m dna_net.fc3.weight 1.1920928955078125e-06\n",
      "\u001b[36m(launch_and_fit pid=16034)\u001b[0m dna_net.fc3.bias 7.152557373046875e-07\n",
      "\u001b[36m(launch_and_fit pid=16034)\u001b[0m dna_net.fc4.weight 9.5367431640625e-07\n",
      "\u001b[36m(launch_and_fit pid=16034)\u001b[0m dna_net.fc4.bias 1.1920928955078125e-06\n",
      "\u001b[36m(launch_and_fit pid=16034)\u001b[0m dna_net.qnn.weights 9.5367431640625e-07\n",
      "\u001b[36m(launch_and_fit pid=16034)\u001b[0m attention.in_proj_weight 9.5367431640625e-07\n",
      "\u001b[36m(launch_and_fit pid=16034)\u001b[0m attention.in_proj_bias 1.1920928955078125e-06\n",
      "\u001b[36m(launch_and_fit pid=16034)\u001b[0m attention.out_proj.weight 9.5367431640625e-07\n",
      "\u001b[36m(launch_and_fit pid=16034)\u001b[0m attention.out_proj.bias 9.5367431640625e-07\n",
      "\u001b[36m(launch_and_fit pid=16034)\u001b[0m fc1.weight 1.1920928955078125e-06\n",
      "\u001b[36m(launch_and_fit pid=16034)\u001b[0m fc1.bias 1.1920928955078125e-06\n",
      "\u001b[36m(launch_and_fit pid=16034)\u001b[0m fc2_mri.weight 9.5367431640625e-07\n",
      "\u001b[36m(launch_and_fit pid=16034)\u001b[0m fc2_mri.bias 9.5367431640625e-07\n",
      "\u001b[36m(launch_and_fit pid=16034)\u001b[0m fc2_dna.weight 1.1920928955078125e-06\n",
      "\u001b[36m(launch_and_fit pid=16034)\u001b[0m fc2_dna.bias 9.5367431640625e-07\n",
      "\u001b[36m(launch_and_fit pid=16035)\u001b[0m \tTrain Epoch: 10 \tTrain_loss_mri: 0.0075 | Train_acc_mri: 100.0000 | Train_loss_dna: 0.1374 | Train_acc_dna: 97.1296 | Validation_loss_mri: 3.3237 | Validation_acc_mri: 70.8333 | Validation_loss_dna: 4.5742 | Validation_acc_dna: 27.6042\u001b[32m [repeated 3x across cluster]\u001b[0m\n",
      "\u001b[36m(launch_and_fit pid=16117)\u001b[0m Run with homomorphic encryption\n",
      "\u001b[36m(launch_and_fit pid=16035)\u001b[0m save graph in  results/FL/\n",
      "\u001b[36m(launch_and_fit pid=16035)\u001b[0m fc2_dna.bias 7.152557373046875e-07\u001b[32m [repeated 23x across cluster]\u001b[0m\n",
      "\u001b[36m(launch_and_fit pid=16035)\u001b[0m dna_net.qnn.weights 7.152557373046875e-07\n",
      "\u001b[36m(launch_and_fit pid=16035)\u001b[0m attention.in_proj_weight 9.5367431640625e-07\n",
      "\u001b[36m(launch_and_fit pid=16035)\u001b[0m attention.in_proj_bias 9.5367431640625e-07\n",
      "\u001b[36m(launch_and_fit pid=16035)\u001b[0m attention.out_proj.weight 1.1920928955078125e-06\n",
      "\u001b[36m(launch_and_fit pid=16035)\u001b[0m attention.out_proj.bias 9.5367431640625e-07\n",
      "\u001b[36m(launch_and_fit pid=16117)\u001b[0m [Client 3, round 20] fit, config: {'learning_rate': 0.003, 'batch_size': '32', 'server_round': 20, 'local_epochs': 10}\n",
      "\u001b[36m(launch_and_fit pid=16117)\u001b[0m Updated model\n"
     ]
    },
    {
     "name": "stderr",
     "output_type": "stream",
     "text": [
      "  0%|\u001b[34m          \u001b[0m| 0/10 [00:00<?, ?it/s]\n",
      "100%|\u001b[34m██████████\u001b[0m| 10/10 [00:39<00:00,  3.93s/it]\u001b[32m [repeated 3x across cluster]\u001b[0m\n"
     ]
    },
    {
     "name": "stdout",
     "output_type": "stream",
     "text": [
      "\u001b[36m(launch_and_fit pid=16117)\u001b[0m \tTrain Epoch: 1 \tTrain_loss_mri: 0.0551 | Train_acc_mri: 98.1250 | Train_loss_dna: 1.0125 | Train_acc_dna: 68.3449 | Validation_loss_mri: 1.2886 | Validation_acc_mri: 73.9583 | Validation_loss_dna: 5.1099 | Validation_acc_dna: 30.7292\n",
      "\u001b[36m(launch_and_fit pid=16141)\u001b[0m Run with homomorphic encryption\n",
      "\u001b[36m(launch_and_fit pid=16141)\u001b[0m [Client 1, round 20] fit, config: {'learning_rate': 0.003, 'batch_size': '32', 'server_round': 20, 'local_epochs': 10}\n"
     ]
    },
    {
     "name": "stderr",
     "output_type": "stream",
     "text": [
      "  0%|\u001b[34m          \u001b[0m| 0/10 [00:00<?, ?it/s]\n",
      " 10%|\u001b[34m█         \u001b[0m| 1/10 [00:04<00:37,  4.14s/it]\u001b[32m [repeated 2x across cluster]\u001b[0m\n"
     ]
    },
    {
     "name": "stdout",
     "output_type": "stream",
     "text": [
      "\u001b[36m(launch_and_fit pid=16141)\u001b[0m Updated model\n",
      "\u001b[36m(launch_and_fit pid=16141)\u001b[0m \tTrain Epoch: 2 \tTrain_loss_mri: 0.1753 | Train_acc_mri: 93.4375 | Train_loss_dna: 1.0729 | Train_acc_dna: 63.7384 | Validation_loss_mri: 1.6264 | Validation_acc_mri: 60.4167 | Validation_loss_dna: 5.7217 | Validation_acc_dna: 12.5000\u001b[32m [repeated 3x across cluster]\u001b[0m\n"
     ]
    },
    {
     "name": "stderr",
     "output_type": "stream",
     "text": [
      " 30%|\u001b[34m███       \u001b[0m| 3/10 [00:11<00:27,  3.94s/it]\u001b[32m [repeated 3x across cluster]\u001b[0m\n"
     ]
    },
    {
     "name": "stdout",
     "output_type": "stream",
     "text": [
      "\u001b[36m(launch_and_fit pid=16117)\u001b[0m \tTrain Epoch: 4 \tTrain_loss_mri: 0.0401 | Train_acc_mri: 99.0046 | Train_loss_dna: 0.4636 | Train_acc_dna: 82.1528 | Validation_loss_mri: 0.7577 | Validation_acc_mri: 89.0625 | Validation_loss_dna: 5.8674 | Validation_acc_dna: 12.5000\u001b[32m [repeated 3x across cluster]\u001b[0m\n"
     ]
    },
    {
     "name": "stderr",
     "output_type": "stream",
     "text": [
      " 50%|\u001b[34m█████     \u001b[0m| 5/10 [00:19<00:19,  3.83s/it]\u001b[32m [repeated 4x across cluster]\u001b[0m\n"
     ]
    },
    {
     "name": "stdout",
     "output_type": "stream",
     "text": [
      "\u001b[36m(launch_and_fit pid=16117)\u001b[0m \tTrain Epoch: 6 \tTrain_loss_mri: 0.0286 | Train_acc_mri: 99.0625 | Train_loss_dna: 0.3227 | Train_acc_dna: 92.4421 | Validation_loss_mri: 0.8375 | Validation_acc_mri: 89.0625 | Validation_loss_dna: 6.1583 | Validation_acc_dna: 42.7083\u001b[32m [repeated 4x across cluster]\u001b[0m\n"
     ]
    },
    {
     "name": "stderr",
     "output_type": "stream",
     "text": [
      " 70%|\u001b[34m███████   \u001b[0m| 7/10 [00:27<00:11,  3.79s/it]\u001b[32m [repeated 4x across cluster]\u001b[0m\n"
     ]
    },
    {
     "name": "stdout",
     "output_type": "stream",
     "text": [
      "\u001b[36m(launch_and_fit pid=16117)\u001b[0m \tTrain Epoch: 8 \tTrain_loss_mri: 0.0375 | Train_acc_mri: 99.0046 | Train_loss_dna: 0.3048 | Train_acc_dna: 93.3796 | Validation_loss_mri: 0.9626 | Validation_acc_mri: 87.5000 | Validation_loss_dna: 6.4571 | Validation_acc_dna: 41.1458\u001b[32m [repeated 4x across cluster]\u001b[0m\n"
     ]
    },
    {
     "name": "stderr",
     "output_type": "stream",
     "text": [
      " 90%|\u001b[34m█████████ \u001b[0m| 9/10 [00:34<00:03,  3.78s/it]\u001b[32m [repeated 4x across cluster]\u001b[0m\n"
     ]
    },
    {
     "name": "stdout",
     "output_type": "stream",
     "text": [
      "\u001b[36m(launch_and_fit pid=16117)\u001b[0m save graph in  results/FL/\n",
      "\u001b[36m(launch_and_fit pid=16117)\u001b[0m \tTrain Epoch: 10 \tTrain_loss_mri: 0.0604 | Train_acc_mri: 97.5000 | Train_loss_dna: 0.2484 | Train_acc_dna: 93.7500 | Validation_loss_mri: 0.8537 | Validation_acc_mri: 87.5000 | Validation_loss_dna: 6.8671 | Validation_acc_dna: 29.1667\u001b[32m [repeated 4x across cluster]\u001b[0m\n",
      "\u001b[36m(launch_and_fit pid=16117)\u001b[0m mri_net.features.0.weight 5.0067901611328125e-06\n",
      "\u001b[36m(launch_and_fit pid=16117)\u001b[0m mri_net.features.0.bias 1.6689300537109375e-06\n",
      "\u001b[36m(launch_and_fit pid=16117)\u001b[0m mri_net.features.3.weight 1.430511474609375e-06\n",
      "\u001b[36m(launch_and_fit pid=16117)\u001b[0m mri_net.features.3.bias 1.1920928955078125e-06\n",
      "\u001b[36m(launch_and_fit pid=16117)\u001b[0m mri_net.classifier.0.weight 1.1920928955078125e-06\n",
      "\u001b[36m(launch_and_fit pid=16117)\u001b[0m mri_net.classifier.0.bias 9.5367431640625e-07\n",
      "\u001b[36m(launch_and_fit pid=16117)\u001b[0m mri_net.classifier.2.weight 1.1920928955078125e-06\n",
      "\u001b[36m(launch_and_fit pid=16117)\u001b[0m mri_net.classifier.2.bias 9.5367431640625e-07\n",
      "\u001b[36m(launch_and_fit pid=16117)\u001b[0m mri_net.classifier.3.weights 1.430511474609375e-06\n",
      "\u001b[36m(launch_and_fit pid=16117)\u001b[0m dna_net.fc1.weight 1.1920928955078125e-06\n",
      "\u001b[36m(launch_and_fit pid=16117)\u001b[0m dna_net.fc1.bias 9.5367431640625e-07\n",
      "\u001b[36m(launch_and_fit pid=16117)\u001b[0m dna_net.fc2.weight 1.1920928955078125e-06\n",
      "\u001b[36m(launch_and_fit pid=16117)\u001b[0m dna_net.fc2.bias 1.1920928955078125e-06\n",
      "\u001b[36m(launch_and_fit pid=16117)\u001b[0m dna_net.fc3.weight 9.5367431640625e-07\n",
      "\u001b[36m(launch_and_fit pid=16117)\u001b[0m dna_net.fc3.bias 9.5367431640625e-07\n",
      "\u001b[36m(launch_and_fit pid=16117)\u001b[0m dna_net.fc4.weight 1.430511474609375e-06\n",
      "\u001b[36m(launch_and_fit pid=16117)\u001b[0m dna_net.fc4.bias 1.1920928955078125e-06\n",
      "\u001b[36m(launch_and_fit pid=16117)\u001b[0m dna_net.qnn.weights 1.430511474609375e-06\n",
      "\u001b[36m(launch_and_fit pid=16117)\u001b[0m attention.in_proj_weight 1.1920928955078125e-06\n",
      "\u001b[36m(launch_and_fit pid=16117)\u001b[0m attention.in_proj_bias 9.5367431640625e-07\n",
      "\u001b[36m(launch_and_fit pid=16117)\u001b[0m attention.out_proj.weight 1.1920928955078125e-06\n",
      "\u001b[36m(launch_and_fit pid=16117)\u001b[0m attention.out_proj.bias 1.1920928955078125e-06\n",
      "\u001b[36m(launch_and_fit pid=16117)\u001b[0m fc1.weight 1.430511474609375e-06\n",
      "\u001b[36m(launch_and_fit pid=16117)\u001b[0m fc1.bias 1.1920928955078125e-06\n",
      "\u001b[36m(launch_and_fit pid=16117)\u001b[0m fc2_mri.weight 1.1920928955078125e-06\n",
      "\u001b[36m(launch_and_fit pid=16117)\u001b[0m fc2_mri.bias 1.1920928955078125e-06\n",
      "\u001b[36m(launch_and_fit pid=16117)\u001b[0m fc2_dna.weight 1.1920928955078125e-06\n",
      "\u001b[36m(launch_and_fit pid=16117)\u001b[0m fc2_dna.bias 1.1920928955078125e-06\n",
      "\u001b[36m(launch_and_fit pid=16198)\u001b[0m Run with homomorphic encryption\n",
      "\u001b[36m(launch_and_fit pid=16141)\u001b[0m save graph in  results/FL/\n",
      "\u001b[36m(launch_and_fit pid=16141)\u001b[0m \tTrain Epoch: 10 \tTrain_loss_mri: 0.0190 | Train_acc_mri: 99.3171 | Train_loss_dna: 0.2424 | Train_acc_dna: 94.0046 | Validation_loss_mri: 1.5731 | Validation_acc_mri: 60.4167 | Validation_loss_dna: 7.4129 | Validation_acc_dna: 10.9375\n",
      "\u001b[36m(launch_and_fit pid=16141)\u001b[0m fc2_dna.bias 1.6689300537109375e-06\u001b[32m [repeated 23x across cluster]\u001b[0m\n",
      "\u001b[36m(launch_and_fit pid=16141)\u001b[0m dna_net.qnn.weights 1.430511474609375e-06\n",
      "\u001b[36m(launch_and_fit pid=16141)\u001b[0m attention.in_proj_weight 2.1457672119140625e-06\n",
      "\u001b[36m(launch_and_fit pid=16141)\u001b[0m attention.in_proj_bias 1.9073486328125e-06\n",
      "\u001b[36m(launch_and_fit pid=16141)\u001b[0m attention.out_proj.weight 1.430511474609375e-06\n",
      "\u001b[36m(launch_and_fit pid=16141)\u001b[0m attention.out_proj.bias 1.9073486328125e-06\n",
      "\u001b[36m(launch_and_fit pid=16198)\u001b[0m [Client 0, round 20] fit, config: {'learning_rate': 0.003, 'batch_size': '32', 'server_round': 20, 'local_epochs': 10}\n"
     ]
    },
    {
     "name": "stderr",
     "output_type": "stream",
     "text": [
      "  0%|\u001b[34m          \u001b[0m| 0/10 [00:00<?, ?it/s]\n",
      "100%|\u001b[34m██████████\u001b[0m| 10/10 [00:37<00:00,  3.79s/it]\u001b[32m [repeated 3x across cluster]\u001b[0m\n"
     ]
    },
    {
     "name": "stdout",
     "output_type": "stream",
     "text": [
      "\u001b[36m(launch_and_fit pid=16198)\u001b[0m Updated model\n",
      "\u001b[36m(launch_and_fit pid=16198)\u001b[0m \tTrain Epoch: 1 \tTrain_loss_mri: 0.1002 | Train_acc_mri: 95.7639 | Train_loss_dna: 1.1458 | Train_acc_dna: 61.0995 | Validation_loss_mri: 2.4592 | Validation_acc_mri: 52.6042 | Validation_loss_dna: 6.1340 | Validation_acc_dna: 14.0625\n",
      "\u001b[36m(launch_and_fit pid=16200)\u001b[0m Run with homomorphic encryption\n",
      "\u001b[36m(launch_and_fit pid=16200)\u001b[0m [Client 8, round 20] fit, config: {'learning_rate': 0.003, 'batch_size': '32', 'server_round': 20, 'local_epochs': 10}\n"
     ]
    },
    {
     "name": "stderr",
     "output_type": "stream",
     "text": [
      "  0%|\u001b[34m          \u001b[0m| 0/10 [00:00<?, ?it/s]\n",
      " 20%|\u001b[34m██        \u001b[0m| 2/10 [00:08<00:32,  4.02s/it]\u001b[32m [repeated 3x across cluster]\u001b[0m\n"
     ]
    },
    {
     "name": "stdout",
     "output_type": "stream",
     "text": [
      "\u001b[36m(launch_and_fit pid=16200)\u001b[0m Updated model\n",
      "\u001b[36m(launch_and_fit pid=16198)\u001b[0m \tTrain Epoch: 3 \tTrain_loss_mri: 0.1239 | Train_acc_mri: 94.2593 | Train_loss_dna: 0.7472 | Train_acc_dna: 73.4028 | Validation_loss_mri: 0.7623 | Validation_acc_mri: 92.1875 | Validation_loss_dna: 4.8686 | Validation_acc_dna: 24.4792\u001b[32m [repeated 4x across cluster]\u001b[0m\n"
     ]
    },
    {
     "name": "stderr",
     "output_type": "stream",
     "text": [
      " 40%|\u001b[34m████      \u001b[0m| 4/10 [00:15<00:23,  3.84s/it]\u001b[32m [repeated 4x across cluster]\u001b[0m\n"
     ]
    },
    {
     "name": "stdout",
     "output_type": "stream",
     "text": [
      "\u001b[36m(launch_and_fit pid=16198)\u001b[0m \tTrain Epoch: 5 \tTrain_loss_mri: 0.0924 | Train_acc_mri: 97.7546 | Train_loss_dna: 0.4450 | Train_acc_dna: 85.1389 | Validation_loss_mri: 1.4988 | Validation_acc_mri: 70.8333 | Validation_loss_dna: 5.4960 | Validation_acc_dna: 9.3750\u001b[32m [repeated 4x across cluster]\u001b[0m\n"
     ]
    },
    {
     "name": "stderr",
     "output_type": "stream",
     "text": [
      " 60%|\u001b[34m██████    \u001b[0m| 6/10 [00:23<00:15,  3.86s/it]\u001b[32m [repeated 4x across cluster]\u001b[0m\n"
     ]
    },
    {
     "name": "stdout",
     "output_type": "stream",
     "text": [
      "\u001b[36m(launch_and_fit pid=16198)\u001b[0m \tTrain Epoch: 7 \tTrain_loss_mri: 0.0162 | Train_acc_mri: 100.0000 | Train_loss_dna: 0.3150 | Train_acc_dna: 91.2731 | Validation_loss_mri: 1.9467 | Validation_acc_mri: 69.2708 | Validation_loss_dna: 6.0526 | Validation_acc_dna: 12.5000\u001b[32m [repeated 4x across cluster]\u001b[0m\n"
     ]
    },
    {
     "name": "stderr",
     "output_type": "stream",
     "text": [
      " 80%|\u001b[34m████████  \u001b[0m| 8/10 [00:31<00:07,  3.84s/it]\u001b[32m [repeated 4x across cluster]\u001b[0m\n"
     ]
    },
    {
     "name": "stdout",
     "output_type": "stream",
     "text": [
      "\u001b[36m(launch_and_fit pid=16198)\u001b[0m \tTrain Epoch: 9 \tTrain_loss_mri: 0.0126 | Train_acc_mri: 99.6875 | Train_loss_dna: 0.2258 | Train_acc_dna: 95.3125 | Validation_loss_mri: 2.0568 | Validation_acc_mri: 67.7083 | Validation_loss_dna: 6.8044 | Validation_acc_dna: 10.9375\u001b[32m [repeated 4x across cluster]\u001b[0m\n"
     ]
    },
    {
     "name": "stderr",
     "output_type": "stream",
     "text": [
      "100%|\u001b[34m██████████\u001b[0m| 10/10 [00:38<00:00,  3.87s/it]\u001b[32m [repeated 4x across cluster]\u001b[0m\n"
     ]
    },
    {
     "name": "stdout",
     "output_type": "stream",
     "text": [
      "\u001b[36m(launch_and_fit pid=16198)\u001b[0m save graph in  results/FL/\n",
      "\u001b[36m(launch_and_fit pid=16198)\u001b[0m mri_net.features.0.weight 4.76837158203125e-06\n",
      "\u001b[36m(launch_and_fit pid=16198)\u001b[0m mri_net.features.0.bias 1.430511474609375e-06\n",
      "\u001b[36m(launch_and_fit pid=16198)\u001b[0m mri_net.features.3.weight 1.1920928955078125e-06\n",
      "\u001b[36m(launch_and_fit pid=16198)\u001b[0m mri_net.features.3.bias 1.1920928955078125e-06\n",
      "\u001b[36m(launch_and_fit pid=16198)\u001b[0m mri_net.classifier.0.weight 1.1920928955078125e-06\n",
      "\u001b[36m(launch_and_fit pid=16198)\u001b[0m mri_net.classifier.0.bias 1.1920928955078125e-06\n",
      "\u001b[36m(launch_and_fit pid=16198)\u001b[0m mri_net.classifier.2.weight 9.5367431640625e-07\n",
      "\u001b[36m(launch_and_fit pid=16198)\u001b[0m mri_net.classifier.2.bias 9.5367431640625e-07\n",
      "\u001b[36m(launch_and_fit pid=16198)\u001b[0m mri_net.classifier.3.weights 1.1920928955078125e-06\n",
      "\u001b[36m(launch_and_fit pid=16198)\u001b[0m dna_net.fc1.weight 1.9073486328125e-06\n",
      "\u001b[36m(launch_and_fit pid=16198)\u001b[0m dna_net.fc1.bias 1.1920928955078125e-06\n",
      "\u001b[36m(launch_and_fit pid=16198)\u001b[0m dna_net.fc2.weight 9.5367431640625e-07\n",
      "\u001b[36m(launch_and_fit pid=16198)\u001b[0m dna_net.fc2.bias 9.5367431640625e-07\n",
      "\u001b[36m(launch_and_fit pid=16198)\u001b[0m dna_net.fc3.weight 9.5367431640625e-07\n",
      "\u001b[36m(launch_and_fit pid=16198)\u001b[0m dna_net.fc3.bias 1.1920928955078125e-06\n",
      "\u001b[36m(launch_and_fit pid=16198)\u001b[0m dna_net.fc4.weight 9.5367431640625e-07\n",
      "\u001b[36m(launch_and_fit pid=16198)\u001b[0m dna_net.fc4.bias 1.1920928955078125e-06\n",
      "\u001b[36m(launch_and_fit pid=16198)\u001b[0m dna_net.qnn.weights 1.1920928955078125e-06\n",
      "\u001b[36m(launch_and_fit pid=16198)\u001b[0m attention.in_proj_weight 7.152557373046875e-07\n",
      "\u001b[36m(launch_and_fit pid=16198)\u001b[0m attention.in_proj_bias 1.1920928955078125e-06\n",
      "\u001b[36m(launch_and_fit pid=16198)\u001b[0m attention.out_proj.weight 7.152557373046875e-07\n",
      "\u001b[36m(launch_and_fit pid=16198)\u001b[0m attention.out_proj.bias 7.152557373046875e-07\n",
      "\u001b[36m(launch_and_fit pid=16198)\u001b[0m fc1.weight 1.1920928955078125e-06\n",
      "\u001b[36m(launch_and_fit pid=16198)\u001b[0m fc1.bias 1.1920928955078125e-06\n",
      "\u001b[36m(launch_and_fit pid=16198)\u001b[0m fc2_mri.weight 1.1920928955078125e-06\n",
      "\u001b[36m(launch_and_fit pid=16198)\u001b[0m fc2_mri.bias 1.430511474609375e-06\n",
      "\u001b[36m(launch_and_fit pid=16198)\u001b[0m fc2_dna.weight 1.430511474609375e-06\n",
      "\u001b[36m(launch_and_fit pid=16198)\u001b[0m fc2_dna.bias 1.1920928955078125e-06\n",
      "\u001b[36m(launch_and_fit pid=16281)\u001b[0m Run with homomorphic encryption\n",
      "\u001b[36m(launch_and_fit pid=16200)\u001b[0m \tTrain Epoch: 10 \tTrain_loss_mri: 0.0147 | Train_acc_mri: 99.6875 | Train_loss_dna: 0.1351 | Train_acc_dna: 98.1250 | Validation_loss_mri: 2.2625 | Validation_acc_mri: 54.1667 | Validation_loss_dna: 3.9124 | Validation_acc_dna: 42.7083\u001b[32m [repeated 3x across cluster]\u001b[0m\n",
      "\u001b[36m(launch_and_fit pid=16200)\u001b[0m save graph in  results/FL/\n",
      "\u001b[36m(launch_and_fit pid=16200)\u001b[0m fc2_dna.bias 9.5367431640625e-07\u001b[32m [repeated 23x across cluster]\u001b[0m\n",
      "\u001b[36m(launch_and_fit pid=16200)\u001b[0m dna_net.qnn.weights 1.1920928955078125e-06\n",
      "\u001b[36m(launch_and_fit pid=16200)\u001b[0m attention.in_proj_weight 1.1920928955078125e-06\n",
      "\u001b[36m(launch_and_fit pid=16200)\u001b[0m attention.in_proj_bias 1.1920928955078125e-06\n",
      "\u001b[36m(launch_and_fit pid=16200)\u001b[0m attention.out_proj.weight 9.5367431640625e-07\n",
      "\u001b[36m(launch_and_fit pid=16200)\u001b[0m attention.out_proj.bias 9.5367431640625e-07\n",
      "\u001b[36m(launch_and_fit pid=16281)\u001b[0m [Client 2, round 20] fit, config: {'learning_rate': 0.003, 'batch_size': '32', 'server_round': 20, 'local_epochs': 10}\n",
      "\u001b[36m(launch_and_fit pid=16281)\u001b[0m Updated model\n"
     ]
    },
    {
     "name": "stderr",
     "output_type": "stream",
     "text": [
      "  0%|\u001b[34m          \u001b[0m| 0/10 [00:00<?, ?it/s]\n",
      "100%|\u001b[34m██████████\u001b[0m| 10/10 [00:38<00:00,  3.88s/it]\n"
     ]
    },
    {
     "name": "stdout",
     "output_type": "stream",
     "text": [
      "\u001b[36m(launch_and_fit pid=16283)\u001b[0m Run with homomorphic encryption\n",
      "\u001b[36m(launch_and_fit pid=16281)\u001b[0m \tTrain Epoch: 1 \tTrain_loss_mri: 0.0382 | Train_acc_mri: 98.6921 | Train_loss_dna: 0.9691 | Train_acc_dna: 68.7153 | Validation_loss_mri: 1.0738 | Validation_acc_mri: 73.9583 | Validation_loss_dna: 4.8929 | Validation_acc_dna: 29.1667\n",
      "\u001b[36m(launch_and_fit pid=16283)\u001b[0m [Client 9, round 20] fit, config: {'learning_rate': 0.003, 'batch_size': '32', 'server_round': 20, 'local_epochs': 10}\n"
     ]
    },
    {
     "name": "stderr",
     "output_type": "stream",
     "text": [
      " 10%|\u001b[34m█         \u001b[0m| 1/10 [00:04<00:37,  4.16s/it]\n"
     ]
    },
    {
     "name": "stdout",
     "output_type": "stream",
     "text": [
      "\u001b[36m(launch_and_fit pid=16283)\u001b[0m \tTrain Epoch: 1 \tTrain_loss_mri: 0.0843 | Train_acc_mri: 96.5524 | Train_loss_dna: 1.0160 | Train_acc_dna: 61.7843 | Validation_loss_mri: 0.1558 | Validation_acc_mri: 96.8750 | Validation_loss_dna: 5.6424 | Validation_acc_dna: 42.7083\n",
      "\u001b[36m(launch_and_fit pid=16283)\u001b[0m Updated model\n"
     ]
    },
    {
     "name": "stderr",
     "output_type": "stream",
     "text": [
      "  0%|\u001b[34m          \u001b[0m| 0/10 [00:00<?, ?it/s]\n"
     ]
    },
    {
     "name": "stdout",
     "output_type": "stream",
     "text": [
      "\u001b[36m(launch_and_fit pid=16281)\u001b[0m \tTrain Epoch: 3 \tTrain_loss_mri: 0.1307 | Train_acc_mri: 96.8750 | Train_loss_dna: 0.6697 | Train_acc_dna: 78.4606 | Validation_loss_mri: 1.2984 | Validation_acc_mri: 70.8333 | Validation_loss_dna: 4.6136 | Validation_acc_dna: 24.4792\u001b[32m [repeated 3x across cluster]\u001b[0m\n"
     ]
    },
    {
     "name": "stderr",
     "output_type": "stream",
     "text": [
      " 30%|\u001b[34m███       \u001b[0m| 3/10 [00:11<00:26,  3.79s/it]\u001b[32m [repeated 4x across cluster]\u001b[0m\n"
     ]
    },
    {
     "name": "stdout",
     "output_type": "stream",
     "text": [
      "\u001b[36m(launch_and_fit pid=16281)\u001b[0m \tTrain Epoch: 5 \tTrain_loss_mri: 0.0271 | Train_acc_mri: 99.3750 | Train_loss_dna: 0.3670 | Train_acc_dna: 88.7500 | Validation_loss_mri: 0.6274 | Validation_acc_mri: 89.0625 | Validation_loss_dna: 4.7107 | Validation_acc_dna: 29.1667\u001b[32m [repeated 4x across cluster]\u001b[0m\n"
     ]
    },
    {
     "name": "stderr",
     "output_type": "stream",
     "text": [
      " 50%|\u001b[34m█████     \u001b[0m| 5/10 [00:19<00:18,  3.77s/it]\u001b[32m [repeated 4x across cluster]\u001b[0m\n"
     ]
    },
    {
     "name": "stdout",
     "output_type": "stream",
     "text": [
      "\u001b[36m(launch_and_fit pid=16281)\u001b[0m \tTrain Epoch: 7 \tTrain_loss_mri: 0.0110 | Train_acc_mri: 100.0000 | Train_loss_dna: 0.2607 | Train_acc_dna: 93.6343 | Validation_loss_mri: 0.6192 | Validation_acc_mri: 73.9583 | Validation_loss_dna: 4.8998 | Validation_acc_dna: 27.6042\u001b[32m [repeated 4x across cluster]\u001b[0m\n"
     ]
    },
    {
     "name": "stderr",
     "output_type": "stream",
     "text": [
      " 70%|\u001b[34m███████   \u001b[0m| 7/10 [00:26<00:11,  3.86s/it]\u001b[32m [repeated 4x across cluster]\u001b[0m\n"
     ]
    },
    {
     "name": "stdout",
     "output_type": "stream",
     "text": [
      "\u001b[36m(launch_and_fit pid=16281)\u001b[0m \tTrain Epoch: 9 \tTrain_loss_mri: 0.0063 | Train_acc_mri: 100.0000 | Train_loss_dna: 0.1850 | Train_acc_dna: 96.1921 | Validation_loss_mri: 0.8549 | Validation_acc_mri: 72.3958 | Validation_loss_dna: 5.0757 | Validation_acc_dna: 29.1667\u001b[32m [repeated 4x across cluster]\u001b[0m\n"
     ]
    },
    {
     "name": "stderr",
     "output_type": "stream",
     "text": [
      " 90%|\u001b[34m█████████ \u001b[0m| 9/10 [00:34<00:03,  3.75s/it]\u001b[32m [repeated 4x across cluster]\u001b[0m\n"
     ]
    },
    {
     "name": "stdout",
     "output_type": "stream",
     "text": [
      "\u001b[36m(launch_and_fit pid=16281)\u001b[0m save graph in  results/FL/\n",
      "\u001b[36m(launch_and_fit pid=16281)\u001b[0m mri_net.features.0.weight 5.245208740234375e-06\n",
      "\u001b[36m(launch_and_fit pid=16281)\u001b[0m mri_net.features.0.bias 1.430511474609375e-06\n",
      "\u001b[36m(launch_and_fit pid=16281)\u001b[0m mri_net.features.3.weight 1.1920928955078125e-06\n",
      "\u001b[36m(launch_and_fit pid=16281)\u001b[0m mri_net.features.3.bias 9.5367431640625e-07\n",
      "\u001b[36m(launch_and_fit pid=16281)\u001b[0m mri_net.classifier.0.weight 1.1920928955078125e-06\n",
      "\u001b[36m(launch_and_fit pid=16281)\u001b[0m mri_net.classifier.0.bias 1.1920928955078125e-06\n",
      "\u001b[36m(launch_and_fit pid=16281)\u001b[0m mri_net.classifier.2.weight 9.5367431640625e-07\n",
      "\u001b[36m(launch_and_fit pid=16281)\u001b[0m mri_net.classifier.2.bias 1.1920928955078125e-06\n",
      "\u001b[36m(launch_and_fit pid=16281)\u001b[0m mri_net.classifier.3.weights 9.5367431640625e-07\n",
      "\u001b[36m(launch_and_fit pid=16281)\u001b[0m dna_net.fc1.weight 9.5367431640625e-07\n",
      "\u001b[36m(launch_and_fit pid=16281)\u001b[0m dna_net.fc1.bias 9.5367431640625e-07\n",
      "\u001b[36m(launch_and_fit pid=16281)\u001b[0m dna_net.fc2.weight 9.5367431640625e-07\n",
      "\u001b[36m(launch_and_fit pid=16281)\u001b[0m dna_net.fc2.bias 1.1920928955078125e-06\n",
      "\u001b[36m(launch_and_fit pid=16281)\u001b[0m dna_net.fc3.weight 9.5367431640625e-07\n",
      "\u001b[36m(launch_and_fit pid=16281)\u001b[0m dna_net.fc3.bias 9.5367431640625e-07\n",
      "\u001b[36m(launch_and_fit pid=16281)\u001b[0m dna_net.fc4.weight 1.1920928955078125e-06\n",
      "\u001b[36m(launch_and_fit pid=16281)\u001b[0m dna_net.fc4.bias 1.1920928955078125e-06\n",
      "\u001b[36m(launch_and_fit pid=16281)\u001b[0m dna_net.qnn.weights 9.5367431640625e-07\n",
      "\u001b[36m(launch_and_fit pid=16281)\u001b[0m attention.in_proj_weight 1.6689300537109375e-06\n",
      "\u001b[36m(launch_and_fit pid=16281)\u001b[0m attention.in_proj_bias 1.6689300537109375e-06\n",
      "\u001b[36m(launch_and_fit pid=16281)\u001b[0m attention.out_proj.weight 1.1920928955078125e-06\n",
      "\u001b[36m(launch_and_fit pid=16281)\u001b[0m attention.out_proj.bias 1.1920928955078125e-06\n",
      "\u001b[36m(launch_and_fit pid=16281)\u001b[0m fc1.weight 1.1920928955078125e-06\n",
      "\u001b[36m(launch_and_fit pid=16281)\u001b[0m fc1.bias 9.5367431640625e-07\n",
      "\u001b[36m(launch_and_fit pid=16281)\u001b[0m fc2_mri.weight 9.5367431640625e-07\n",
      "\u001b[36m(launch_and_fit pid=16281)\u001b[0m fc2_mri.bias 9.5367431640625e-07\n",
      "\u001b[36m(launch_and_fit pid=16281)\u001b[0m fc2_dna.weight 1.1920928955078125e-06\n",
      "\u001b[36m(launch_and_fit pid=16281)\u001b[0m fc2_dna.bias 9.5367431640625e-07\n",
      "\u001b[36m(launch_and_fit pid=16363)\u001b[0m Run with homomorphic encryption\n",
      "\u001b[36m(launch_and_fit pid=16283)\u001b[0m \tTrain Epoch: 10 \tTrain_loss_mri: 0.0199 | Train_acc_mri: 99.3750 | Train_loss_dna: 0.1964 | Train_acc_dna: 95.9173 | Validation_loss_mri: 0.3776 | Validation_acc_mri: 90.6250 | Validation_loss_dna: 5.0385 | Validation_acc_dna: 26.0417\u001b[32m [repeated 3x across cluster]\u001b[0m\n",
      "\u001b[36m(launch_and_fit pid=16283)\u001b[0m save graph in  results/FL/\n",
      "\u001b[36m(launch_and_fit pid=16283)\u001b[0m fc2_dna.bias 1.1920928955078125e-06\u001b[32m [repeated 23x across cluster]\u001b[0m\n",
      "\u001b[36m(launch_and_fit pid=16283)\u001b[0m dna_net.qnn.weights 1.1920928955078125e-06\n",
      "\u001b[36m(launch_and_fit pid=16283)\u001b[0m attention.in_proj_weight 9.5367431640625e-07\n",
      "\u001b[36m(launch_and_fit pid=16283)\u001b[0m attention.in_proj_bias 9.5367431640625e-07\n",
      "\u001b[36m(launch_and_fit pid=16283)\u001b[0m attention.out_proj.weight 9.5367431640625e-07\n",
      "\u001b[36m(launch_and_fit pid=16283)\u001b[0m attention.out_proj.bias 1.1920928955078125e-06\n",
      "\u001b[36m(launch_and_fit pid=16363)\u001b[0m [Client 5, round 20] fit, config: {'learning_rate': 0.003, 'batch_size': '32', 'server_round': 20, 'local_epochs': 10}\n"
     ]
    },
    {
     "name": "stderr",
     "output_type": "stream",
     "text": [
      "  0%|\u001b[34m          \u001b[0m| 0/10 [00:00<?, ?it/s]\n",
      "100%|\u001b[34m██████████\u001b[0m| 10/10 [00:38<00:00,  3.80s/it]\u001b[32m [repeated 3x across cluster]\u001b[0m\n"
     ]
    },
    {
     "name": "stdout",
     "output_type": "stream",
     "text": [
      "\u001b[36m(launch_and_fit pid=16363)\u001b[0m Updated model\n",
      "\u001b[36m(launch_and_fit pid=16365)\u001b[0m Run with homomorphic encryption\n",
      "\u001b[36m(launch_and_fit pid=16363)\u001b[0m \tTrain Epoch: 1 \tTrain_loss_mri: 0.0493 | Train_acc_mri: 98.6921 | Train_loss_dna: 1.3976 | Train_acc_dna: 55.9491 | Validation_loss_mri: 0.6225 | Validation_acc_mri: 89.0625 | Validation_loss_dna: 5.2246 | Validation_acc_dna: 7.8125\n",
      "\u001b[36m(launch_and_fit pid=16365)\u001b[0m [Client 6, round 20] fit, config: {'learning_rate': 0.003, 'batch_size': '32', 'server_round': 20, 'local_epochs': 10}\n",
      "\u001b[36m(launch_and_fit pid=16365)\u001b[0m \tTrain Epoch: 1 \tTrain_loss_mri: 0.1025 | Train_acc_mri: 96.1921 | Train_loss_dna: 1.0127 | Train_acc_dna: 63.8542 | Validation_loss_mri: 1.5086 | Validation_acc_mri: 69.2708 | Validation_loss_dna: 5.5417 | Validation_acc_dna: 14.0625\n"
     ]
    },
    {
     "name": "stderr",
     "output_type": "stream",
     "text": [
      "  0%|\u001b[34m          \u001b[0m| 0/10 [00:00<?, ?it/s]\n",
      " 20%|\u001b[34m██        \u001b[0m| 2/10 [00:08<00:33,  4.18s/it]\u001b[32m [repeated 3x across cluster]\u001b[0m\n"
     ]
    },
    {
     "name": "stdout",
     "output_type": "stream",
     "text": [
      "\u001b[36m(launch_and_fit pid=16365)\u001b[0m Updated model\n",
      "\u001b[36m(launch_and_fit pid=16363)\u001b[0m \tTrain Epoch: 3 \tTrain_loss_mri: 0.0647 | Train_acc_mri: 97.5000 | Train_loss_dna: 0.7836 | Train_acc_dna: 71.1574 | Validation_loss_mri: 0.3734 | Validation_acc_mri: 93.7500 | Validation_loss_dna: 5.4269 | Validation_acc_dna: 7.8125\u001b[32m [repeated 3x across cluster]\u001b[0m\n"
     ]
    },
    {
     "name": "stderr",
     "output_type": "stream",
     "text": [
      " 40%|\u001b[34m████      \u001b[0m| 4/10 [00:15<00:23,  3.87s/it]\u001b[32m [repeated 4x across cluster]\u001b[0m\n"
     ]
    },
    {
     "name": "stdout",
     "output_type": "stream",
     "text": [
      "\u001b[36m(launch_and_fit pid=16363)\u001b[0m \tTrain Epoch: 5 \tTrain_loss_mri: 0.0599 | Train_acc_mri: 98.6343 | Train_loss_dna: 0.3521 | Train_acc_dna: 90.4514 | Validation_loss_mri: 0.5426 | Validation_acc_mri: 87.5000 | Validation_loss_dna: 5.4124 | Validation_acc_dna: 9.3750\u001b[32m [repeated 4x across cluster]\u001b[0m\n"
     ]
    },
    {
     "name": "stderr",
     "output_type": "stream",
     "text": [
      " 60%|\u001b[34m██████    \u001b[0m| 6/10 [00:23<00:15,  3.76s/it]\u001b[32m [repeated 4x across cluster]\u001b[0m\n"
     ]
    },
    {
     "name": "stdout",
     "output_type": "stream",
     "text": [
      "\u001b[36m(launch_and_fit pid=16363)\u001b[0m \tTrain Epoch: 7 \tTrain_loss_mri: 0.0254 | Train_acc_mri: 99.3750 | Train_loss_dna: 0.2967 | Train_acc_dna: 92.7546 | Validation_loss_mri: 0.4865 | Validation_acc_mri: 89.0625 | Validation_loss_dna: 6.7765 | Validation_acc_dna: 26.0417\u001b[32m [repeated 4x across cluster]\u001b[0m\n"
     ]
    },
    {
     "name": "stderr",
     "output_type": "stream",
     "text": [
      " 80%|\u001b[34m████████  \u001b[0m| 8/10 [00:30<00:07,  3.73s/it]\u001b[32m [repeated 4x across cluster]\u001b[0m\n"
     ]
    },
    {
     "name": "stdout",
     "output_type": "stream",
     "text": [
      "\u001b[36m(launch_and_fit pid=16363)\u001b[0m \tTrain Epoch: 9 \tTrain_loss_mri: 0.0224 | Train_acc_mri: 99.6875 | Train_loss_dna: 0.2436 | Train_acc_dna: 93.6921 | Validation_loss_mri: 0.6034 | Validation_acc_mri: 90.6250 | Validation_loss_dna: 7.1880 | Validation_acc_dna: 12.5000\u001b[32m [repeated 4x across cluster]\u001b[0m\n"
     ]
    },
    {
     "name": "stderr",
     "output_type": "stream",
     "text": [
      "100%|\u001b[34m██████████\u001b[0m| 10/10 [00:38<00:00,  3.83s/it]\u001b[32m [repeated 4x across cluster]\u001b[0m\n"
     ]
    },
    {
     "name": "stdout",
     "output_type": "stream",
     "text": [
      "\u001b[36m(launch_and_fit pid=16363)\u001b[0m save graph in  results/FL/\n",
      "\u001b[36m(launch_and_fit pid=16363)\u001b[0m mri_net.features.0.weight 5.0067901611328125e-06\n",
      "\u001b[36m(launch_and_fit pid=16363)\u001b[0m mri_net.features.0.bias 1.430511474609375e-06\n",
      "\u001b[36m(launch_and_fit pid=16363)\u001b[0m mri_net.features.3.weight 9.5367431640625e-07\n",
      "\u001b[36m(launch_and_fit pid=16363)\u001b[0m mri_net.features.3.bias 9.5367431640625e-07\n",
      "\u001b[36m(launch_and_fit pid=16363)\u001b[0m mri_net.classifier.0.weight 9.5367431640625e-07\n",
      "\u001b[36m(launch_and_fit pid=16363)\u001b[0m mri_net.classifier.0.bias 1.1920928955078125e-06\n",
      "\u001b[36m(launch_and_fit pid=16363)\u001b[0m mri_net.classifier.2.weight 1.1920928955078125e-06\n",
      "\u001b[36m(launch_and_fit pid=16363)\u001b[0m mri_net.classifier.2.bias 9.5367431640625e-07\n",
      "\u001b[36m(launch_and_fit pid=16363)\u001b[0m mri_net.classifier.3.weights 9.5367431640625e-07\n",
      "\u001b[36m(launch_and_fit pid=16363)\u001b[0m dna_net.fc1.weight 9.5367431640625e-07\n",
      "\u001b[36m(launch_and_fit pid=16363)\u001b[0m dna_net.fc1.bias 1.430511474609375e-06\n",
      "\u001b[36m(launch_and_fit pid=16363)\u001b[0m dna_net.fc2.weight 9.5367431640625e-07\n",
      "\u001b[36m(launch_and_fit pid=16363)\u001b[0m dna_net.fc2.bias 9.5367431640625e-07\n",
      "\u001b[36m(launch_and_fit pid=16363)\u001b[0m dna_net.fc3.weight 9.5367431640625e-07\n",
      "\u001b[36m(launch_and_fit pid=16363)\u001b[0m dna_net.fc3.bias 1.1920928955078125e-06\n",
      "\u001b[36m(launch_and_fit pid=16363)\u001b[0m dna_net.fc4.weight 9.5367431640625e-07\n",
      "\u001b[36m(launch_and_fit pid=16363)\u001b[0m dna_net.fc4.bias 1.1920928955078125e-06\n",
      "\u001b[36m(launch_and_fit pid=16363)\u001b[0m dna_net.qnn.weights 9.5367431640625e-07\n",
      "\u001b[36m(launch_and_fit pid=16363)\u001b[0m attention.in_proj_weight 9.5367431640625e-07\n",
      "\u001b[36m(launch_and_fit pid=16363)\u001b[0m attention.in_proj_bias 9.5367431640625e-07\n",
      "\u001b[36m(launch_and_fit pid=16363)\u001b[0m attention.out_proj.weight 9.5367431640625e-07\n",
      "\u001b[36m(launch_and_fit pid=16363)\u001b[0m attention.out_proj.bias 9.5367431640625e-07\n",
      "\u001b[36m(launch_and_fit pid=16363)\u001b[0m fc1.weight 1.1920928955078125e-06\n",
      "\u001b[36m(launch_and_fit pid=16363)\u001b[0m fc1.bias 1.1920928955078125e-06\n",
      "\u001b[36m(launch_and_fit pid=16363)\u001b[0m fc2_mri.weight 9.5367431640625e-07\n",
      "\u001b[36m(launch_and_fit pid=16363)\u001b[0m fc2_mri.bias 9.5367431640625e-07\n",
      "\u001b[36m(launch_and_fit pid=16363)\u001b[0m fc2_dna.weight 9.5367431640625e-07\n",
      "\u001b[36m(launch_and_fit pid=16363)\u001b[0m fc2_dna.bias 9.5367431640625e-07\n"
     ]
    },
    {
     "name": "stderr",
     "output_type": "stream",
     "text": [
      "DEBUG flwr 2024-08-05 09:02:14,484 | server.py:236 | fit_round 20 received 10 results and 0 failures\n"
     ]
    },
    {
     "name": "stdout",
     "output_type": "stream",
     "text": [
      "Saving round 20 aggregated_parameters...\n"
     ]
    },
    {
     "name": "stderr",
     "output_type": "stream",
     "text": [
      "DEBUG flwr 2024-08-05 09:02:16,439 | server.py:173 | evaluate_round 20: strategy sampled 10 clients (out of 10)\n"
     ]
    },
    {
     "name": "stdout",
     "output_type": "stream",
     "text": [
      "\u001b[36m(launch_and_evaluate pid=16455)\u001b[0m Run with homomorphic encryption\n",
      "\u001b[36m(launch_and_fit pid=16365)\u001b[0m \tTrain Epoch: 10 \tTrain_loss_mri: 0.0269 | Train_acc_mri: 99.0625 | Train_loss_dna: 0.2127 | Train_acc_dna: 94.6875 | Validation_loss_mri: 2.4598 | Validation_acc_mri: 66.1458 | Validation_loss_dna: 6.5767 | Validation_acc_dna: 10.9375\u001b[32m [repeated 3x across cluster]\u001b[0m\n",
      "\u001b[36m(launch_and_fit pid=16365)\u001b[0m save graph in  results/FL/\n",
      "\u001b[36m(launch_and_fit pid=16365)\u001b[0m fc2_dna.bias 1.6689300537109375e-06\u001b[32m [repeated 23x across cluster]\u001b[0m\n",
      "\u001b[36m(launch_and_fit pid=16365)\u001b[0m dna_net.qnn.weights 9.5367431640625e-07\n",
      "\u001b[36m(launch_and_fit pid=16365)\u001b[0m attention.in_proj_weight 9.5367431640625e-07\n",
      "\u001b[36m(launch_and_fit pid=16365)\u001b[0m attention.in_proj_bias 1.1920928955078125e-06\n",
      "\u001b[36m(launch_and_fit pid=16365)\u001b[0m attention.out_proj.weight 1.1920928955078125e-06\n",
      "\u001b[36m(launch_and_fit pid=16365)\u001b[0m attention.out_proj.bias 9.5367431640625e-07\n",
      "\u001b[36m(launch_and_evaluate pid=16455)\u001b[0m [Client 2] evaluate, config: {}\n",
      "\u001b[36m(launch_and_evaluate pid=16455)\u001b[0m Updated model\n",
      "\u001b[36m(launch_and_evaluate pid=16533)\u001b[0m Run with homomorphic encryption\u001b[32m [repeated 2x across cluster]\u001b[0m\n",
      "\u001b[36m(launch_and_evaluate pid=16454)\u001b[0m [Client 1] evaluate, config: {}\n",
      "\u001b[36m(launch_and_evaluate pid=16454)\u001b[0m Updated model\n",
      "\u001b[36m(launch_and_evaluate pid=16533)\u001b[0m [Client 3] evaluate, config: {}\n",
      "\u001b[36m(launch_and_evaluate pid=16533)\u001b[0m Updated model\n",
      "\u001b[36m(launch_and_evaluate pid=16611)\u001b[0m Run with homomorphic encryption\u001b[32m [repeated 2x across cluster]\u001b[0m\n",
      "\u001b[36m(launch_and_evaluate pid=16535)\u001b[0m [Client 7] evaluate, config: {}\n",
      "\u001b[36m(launch_and_evaluate pid=16535)\u001b[0m Updated model\n",
      "\u001b[36m(launch_and_evaluate pid=16611)\u001b[0m [Client 9] evaluate, config: {}\n",
      "\u001b[36m(launch_and_evaluate pid=16611)\u001b[0m Updated model\n"
     ]
    },
    {
     "name": "stderr",
     "output_type": "stream",
     "text": [
      "\u001b[36m(launch_and_evaluate pid=16611)\u001b[0m /opt/conda/lib/python3.10/site-packages/sklearn/metrics/_ranking.py:1029: UndefinedMetricWarning: No positive samples in y_true, true positive value should be meaningless\n",
      "\u001b[36m(launch_and_evaluate pid=16611)\u001b[0m   warnings.warn(\n",
      "100%|\u001b[34m██████████\u001b[0m| 10/10 [00:38<00:00,  3.82s/it]\n"
     ]
    },
    {
     "name": "stdout",
     "output_type": "stream",
     "text": [
      "\u001b[36m(launch_and_evaluate pid=16689)\u001b[0m Run with homomorphic encryption\u001b[32m [repeated 2x across cluster]\u001b[0m\n",
      "\u001b[36m(launch_and_evaluate pid=16613)\u001b[0m [Client 6] evaluate, config: {}\n",
      "\u001b[36m(launch_and_evaluate pid=16613)\u001b[0m Updated model\n",
      "\u001b[36m(launch_and_evaluate pid=16689)\u001b[0m [Client 4] evaluate, config: {}\n",
      "\u001b[36m(launch_and_evaluate pid=16691)\u001b[0m Updated model\n"
     ]
    },
    {
     "name": "stderr",
     "output_type": "stream",
     "text": [
      "\u001b[36m(launch_and_evaluate pid=16689)\u001b[0m /opt/conda/lib/python3.10/site-packages/sklearn/metrics/_ranking.py:1029: UndefinedMetricWarning: No positive samples in y_true, true positive value should be meaningless\n",
      "\u001b[36m(launch_and_evaluate pid=16689)\u001b[0m   warnings.warn(\n"
     ]
    },
    {
     "name": "stdout",
     "output_type": "stream",
     "text": [
      "\u001b[36m(launch_and_evaluate pid=16767)\u001b[0m Run with homomorphic encryption\u001b[32m [repeated 2x across cluster]\u001b[0m\n",
      "\u001b[36m(launch_and_evaluate pid=16691)\u001b[0m [Client 5] evaluate, config: {}\n",
      "\u001b[36m(launch_and_evaluate pid=16689)\u001b[0m Updated model\n",
      "\u001b[36m(launch_and_evaluate pid=16767)\u001b[0m [Client 8] evaluate, config: {}\n",
      "\u001b[36m(launch_and_evaluate pid=16767)\u001b[0m Updated model\n"
     ]
    },
    {
     "name": "stderr",
     "output_type": "stream",
     "text": [
      "\u001b[36m(launch_and_evaluate pid=16767)\u001b[0m /opt/conda/lib/python3.10/site-packages/sklearn/metrics/_ranking.py:1029: UndefinedMetricWarning: No positive samples in y_true, true positive value should be meaningless\n",
      "\u001b[36m(launch_and_evaluate pid=16767)\u001b[0m   warnings.warn(\n",
      "DEBUG flwr 2024-08-05 09:03:33,570 | server.py:187 | evaluate_round 20 received 10 results and 0 failures\n",
      "INFO flwr 2024-08-05 09:03:33,571 | server.py:153 | FL finished in 6920.477748567\n",
      "INFO flwr 2024-08-05 09:03:33,610 | app.py:225 | app_fit: losses_distributed [(1, 1.3803776979446412), (2, 1.3870023250579835), (3, 1.3764511987566947), (4, 1.168605639319867), (5, 0.8163776884321123), (6, 0.9118618017761037), (7, 1.0240639827563427), (8, 1.1510113757802174), (9, 1.0504414149327204), (10, 1.1755727233714424), (11, 1.1615575049683684), (12, 1.2324659281905042), (13, 1.2522483118955279), (14, 1.1821094462371549), (15, 1.310803889320232), (16, 1.4081165556650377), (17, 1.3833690060884691), (18, 1.491040580538538), (19, 1.5327549100431497), (20, 1.6377918205227615)]\n",
      "INFO flwr 2024-08-05 09:03:33,611 | app.py:226 | app_fit: metrics_distributed_fit {}\n",
      "INFO flwr 2024-08-05 09:03:33,612 | app.py:227 | app_fit: metrics_distributed {'accuracy': [(1, 35.312499999999986), (2, 21.874999999999996), (3, 43.229166666666664), (4, 73.64583333333331), (5, 78.125), (6, 76.61458333333334), (7, 75.98958333333334), (8, 77.81250000000001), (9, 78.43750000000001), (10, 77.8125), (11, 78.75), (12, 78.90625), (13, 78.90625), (14, 79.84375), (15, 81.51041666666667), (16, 78.59375), (17, 80.00000000000001), (18, 79.53125), (19, 79.21875000000001), (20, 79.375)]}\n",
      "INFO flwr 2024-08-05 09:03:33,612 | app.py:228 | app_fit: losses_centralized []\n",
      "INFO flwr 2024-08-05 09:03:33,613 | app.py:229 | app_fit: metrics_centralized {}\n"
     ]
    },
    {
     "name": "stdout",
     "output_type": "stream",
     "text": [
      "Simulation Time = 6926.417457103729 seconds\n"
     ]
    }
   ],
   "source": [
    "import warnings\n",
    "warnings.simplefilter(\"ignore\")\n",
    "\n",
    "print(\"flwr\", fl.__version__)\n",
    "print(\"numpy\", np.__version__)\n",
    "print(\"torch\", torch.__version__)\n",
    "print(\"torchvision\", torchvision.__version__)\n",
    "print(f\"Training on {DEVICE}\")\n",
    "\n",
    "client_resources = None\n",
    "\n",
    "if DEVICE.type == \"cuda\":\n",
    "    client_resources = {\"num_gpus\": 1}\n",
    "\n",
    "model_save = model_save\n",
    "path_yaml = yaml_path\n",
    "path_roc = roc_path\n",
    "results_save = save_results\n",
    "path_matrix = matrix_path\n",
    "batch_size = batch_size\n",
    "he = he\n",
    "secret_path = 'secret.pkl'\n",
    "server_path = 'secret.pkl'\n",
    "path_crypted = 'server.pkl'\n",
    "\n",
    "print(\"Start simulation\")\n",
    "start_simulation = time.time()\n",
    "fl.simulation.start_simulation(\n",
    "    client_fn=client_fn,\n",
    "    num_clients=number_clients,\n",
    "    config=fl.server.ServerConfig(num_rounds=rounds),\n",
    "    strategy=strategy,\n",
    "    client_resources=client_resources\n",
    ")\n",
    "print(f\"Simulation Time = {time.time() - start_simulation} seconds\")"
   ]
  }
 ],
 "metadata": {
  "kernelspec": {
   "display_name": "fl_env",
   "language": "python",
   "name": "python3"
  },
  "language_info": {
   "codemirror_mode": {
    "name": "ipython",
    "version": 3
   },
   "file_extension": ".py",
   "mimetype": "text/x-python",
   "name": "python",
   "nbconvert_exporter": "python",
   "pygments_lexer": "ipython3",
   "version": "3.10.12"
  }
 },
 "nbformat": 4,
 "nbformat_minor": 2
}
