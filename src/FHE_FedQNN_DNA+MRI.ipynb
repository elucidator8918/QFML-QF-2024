{
 "cells": [
  {
   "cell_type": "markdown",
   "metadata": {},
   "source": [
    "### Import necessary libraries and modules"
   ]
  },
  {
   "cell_type": "code",
   "execution_count": 1,
   "metadata": {},
   "outputs": [],
   "source": [
    "# %%bash\n",
    "\n",
    "# kaggle datasets download -d nageshsingh/dna-sequence-dataset\n",
    "# mkdir data data/DNA\n",
    "# unzip dna-sequence-dataset.zip -d data/DNA\n",
    "# rm dna-sequence-dataset.zip\n",
    "\n",
    "# kaggle datasets download -d masoudnickparvar/brain-tumor-mri-dataset\n",
    "# mkdir -p data/MRI\n",
    "# unzip brain-tumor-mri-dataset.zip -d data/MRI\n",
    "# rm brain-tumor-mri-dataset.zip"
   ]
  },
  {
   "cell_type": "code",
   "execution_count": 2,
   "metadata": {},
   "outputs": [],
   "source": [
    "import os\n",
    "import pickle\n",
    "import time\n",
    "from collections import OrderedDict\n",
    "from typing import (\n",
    "    List, Tuple, Dict, Optional, Callable, Union\n",
    ")\n",
    "import tenseal as ts\n",
    "\n",
    "import numpy as np\n",
    "import torchvision\n",
    "import torch\n",
    "from torch import nn\n",
    "import torch.nn.functional as F\n",
    "import flwr as fl\n",
    "from flwr.common import (\n",
    "    Metrics, EvaluateIns, EvaluateRes, FitIns, FitRes, MetricsAggregationFn, \n",
    "    Scalar, logger, ndarrays_to_parameters_custom, parameters_to_ndarrays_custom,\n",
    "    Parameters, NDArrays\n",
    ")\n",
    "from flwr.server.client_proxy import ClientProxy\n",
    "from flwr.server.client_manager import ClientManager\n",
    "from flwr.server.strategy.aggregate import weighted_loss_avg\n",
    "from logging import WARNING\n",
    "import pennylane as qml\n",
    "\n",
    "from utils import *\n",
    "\n",
    "os.environ['TOKENIZERS_PARALLELISM'] = 'false'"
   ]
  },
  {
   "cell_type": "markdown",
   "metadata": {},
   "source": [
    "### Creation of FHE Keys"
   ]
  },
  {
   "cell_type": "code",
   "execution_count": 3,
   "metadata": {},
   "outputs": [
    {
     "name": "stdout",
     "output_type": "stream",
     "text": [
      "it exists\n"
     ]
    }
   ],
   "source": [
    "def combo_keys(client_path=\"secret.pkl\", server_path=\"server_key.pkl\"):\n",
    "    \"\"\"\n",
    "    To create the public/private keys combination\n",
    "    args:\n",
    "        client_path: path to save the secret key (str)\n",
    "        server_path: path to save the server public key (str)\n",
    "    \"\"\"\n",
    "    context_client = security.context()\n",
    "    security.write_query(client_path, {\"contexte\": context_client.serialize(save_secret_key=True)})\n",
    "    security.write_query(server_path, {\"contexte\": context_client.serialize()})\n",
    "\n",
    "    _, context_client = security.read_query(client_path)\n",
    "    _, context_server = security.read_query(server_path)\n",
    "\n",
    "    context_client = ts.context_from(context_client)\n",
    "    context_server = ts.context_from(context_server)\n",
    "    print(\"Is the client context private?\", (\"Yes\" if context_client.is_private() else \"No\"))\n",
    "    print(\"Is the server context private?\", (\"Yes\" if context_server.is_private() else \"No\"))\n",
    "\n",
    "\n",
    "secret_path = \"secret.pkl\"\n",
    "public_path = \"server_key.pkl\"\n",
    "if os.path.exists(secret_path):\n",
    "    print(\"it exists\")\n",
    "    _, context_client = security.read_query(secret_path)\n",
    "\n",
    "else:\n",
    "    combo_keys(client_path=secret_path, server_path=public_path) "
   ]
  },
  {
   "cell_type": "markdown",
   "metadata": {},
   "source": [
    "### Model Architecture Creation"
   ]
  },
  {
   "cell_type": "code",
   "execution_count": 4,
   "metadata": {},
   "outputs": [],
   "source": [
    "# Quantum device definitions for MRI and DNA\n",
    "mri_n_qubits = 4\n",
    "dna_n_qubits = 7\n",
    "n_layers = 6\n",
    "\n",
    "mri_dev = qml.device(\"default.qubit.torch\", wires=mri_n_qubits)\n",
    "dna_dev = qml.device(\"default.qubit.torch\", wires=dna_n_qubits)\n",
    "\n",
    "# Quantum networks\n",
    "@qml.qnode(mri_dev, interface='torch')\n",
    "def mri_quantum_net(inputs, weights):\n",
    "    qml.AngleEmbedding(inputs, wires=range(mri_n_qubits))\n",
    "    qml.BasicEntanglerLayers(weights, wires=range(mri_n_qubits))\n",
    "    return [qml.expval(qml.PauliZ(i)) for i in range(mri_n_qubits)]\n",
    "\n",
    "@qml.qnode(dna_dev, interface='torch')\n",
    "def dna_quantum_net(inputs, weights):\n",
    "    qml.AngleEmbedding(inputs, wires=range(dna_n_qubits))\n",
    "    qml.BasicEntanglerLayers(weights, wires=range(dna_n_qubits))\n",
    "    return [qml.expval(qml.PauliZ(i)) for i in range(dna_n_qubits)]\n",
    "\n",
    "# Define weight shapes for the quantum networks\n",
    "mri_weight_shapes = {\"weights\": (n_layers, mri_n_qubits)}\n",
    "dna_weight_shapes = {\"weights\": (n_layers, dna_n_qubits)}\n",
    "\n",
    "# Define the MRI network\n",
    "class MRINet(nn.Module):\n",
    "    def __init__(self):\n",
    "        super(MRINet, self).__init__()\n",
    "        self.features = nn.Sequential(\n",
    "            nn.Conv2d(3, 16, kernel_size=3, padding=1),\n",
    "            nn.ReLU(inplace=True),\n",
    "            nn.MaxPool2d(kernel_size=2, stride=2),\n",
    "            nn.Conv2d(16, 32, kernel_size=3, padding=1),\n",
    "            nn.ReLU(inplace=True),\n",
    "            nn.MaxPool2d(kernel_size=2, stride=2)\n",
    "        )\n",
    "        self.classifier = nn.Sequential(\n",
    "            nn.Linear(32 * 56 * 56, 128),\n",
    "            nn.ReLU(inplace=True),\n",
    "            nn.Linear(128, mri_n_qubits),\n",
    "            qml.qnn.TorchLayer(mri_quantum_net, mri_weight_shapes)\n",
    "        )\n",
    "\n",
    "    def forward(self, x):\n",
    "        x = self.features(x)\n",
    "        x = x.view(x.size(0), -1)\n",
    "        x = self.classifier(x)\n",
    "        return x\n",
    "\n",
    "class DNANet(nn.Module):\n",
    "    def __init__(self):\n",
    "        super(DNANet, self).__init__()\n",
    "        self.fc1 = nn.Linear(384, 512)\n",
    "        self.relu = nn.LeakyReLU(negative_slope=0.01)\n",
    "        self.fc2 = nn.Linear(512, 256)\n",
    "        self.fc3 = nn.Linear(256, 128)\n",
    "        self.fc4 = nn.Linear(128, dna_n_qubits)\n",
    "        self.qnn = qml.qnn.TorchLayer(dna_quantum_net, dna_weight_shapes)\n",
    "        self.dropout = nn.Dropout(p=0.5)\n",
    "\n",
    "    def forward(self, x):\n",
    "        x = self.fc1(x)\n",
    "        x = self.relu(x)\n",
    "        x = self.fc2(x)\n",
    "        x = self.relu(x)\n",
    "        x = self.fc3(x)\n",
    "        x = self.relu(x)\n",
    "        x = self.fc4(x)\n",
    "        x = self.qnn(x)\n",
    "        return x\n",
    "\n",
    "class Net(nn.Module):\n",
    "    def __init__(self, num_classes_mri, num_classes_dna):\n",
    "        super(Net, self).__init__()\n",
    "        self.mri_net = MRINet()\n",
    "        self.dna_net = DNANet()\n",
    "        \n",
    "        self.feature_dim = mri_n_qubits + dna_n_qubits\n",
    "        self.num_heads = mri_n_qubits + dna_n_qubits\n",
    "        \n",
    "        self.attention = nn.MultiheadAttention(embed_dim=self.feature_dim, num_heads=self.num_heads)\n",
    "        \n",
    "        self.fc1 = nn.Linear(mri_n_qubits + dna_n_qubits, 128)\n",
    "        self.fc2_mri = nn.Linear(128, num_classes_mri)\n",
    "        self.fc2_dna = nn.Linear(128, num_classes_dna)\n",
    "        \n",
    "    def forward(self, mri_input, dna_input):\n",
    "        mri_features = self.mri_net(mri_input)\n",
    "        dna_features = self.dna_net(dna_input)\n",
    "        combined_features = torch.cat((mri_features, dna_features), dim=1)\n",
    "        combined_features = combined_features.unsqueeze(0)\n",
    "        attn_output, _ = self.attention(combined_features, combined_features, combined_features)\n",
    "        attn_output = attn_output.squeeze(0)\n",
    "        \n",
    "        x = F.relu(self.fc1(attn_output))\n",
    "        mri_output = self.fc2_mri(x)\n",
    "        dna_output = self.fc2_dna(x)\n",
    "        return mri_output, dna_output"
   ]
  },
  {
   "cell_type": "markdown",
   "metadata": {},
   "source": [
    "### Define the FlowerClient class for federated learning"
   ]
  },
  {
   "cell_type": "code",
   "execution_count": 5,
   "metadata": {},
   "outputs": [],
   "source": [
    "class FlowerClient(fl.client.NumPyClient):\n",
    "    def __init__(self, cid, net, trainloader, valloader, device, batch_size, save_results, matrix_path, roc_path,\n",
    "                 yaml_path, he, classes, context_client):\n",
    "        self.net = net\n",
    "        self.trainloader = trainloader\n",
    "        self.valloader = valloader\n",
    "        self.cid = cid\n",
    "        self.device = device\n",
    "        self.batch_size = batch_size\n",
    "        self.save_results = save_results\n",
    "        self.matrix_path = matrix_path\n",
    "        self.roc_path = roc_path\n",
    "        self.yaml_path = yaml_path\n",
    "        self.he = he\n",
    "        self.classes = classes\n",
    "        self.context_client = context_client\n",
    "\n",
    "    def get_parameters(self, config):\n",
    "        print(f\"[Client {self.cid}] get_parameters\")\n",
    "        return get_parameters2(self.net, self.context_client)\n",
    "\n",
    "    def fit(self, parameters, config):\n",
    "        server_round = config['server_round']\n",
    "        local_epochs = config['local_epochs']\n",
    "        lr = float(config[\"learning_rate\"])\n",
    "\n",
    "        print(f'[Client {self.cid}, round {server_round}] fit, config: {config}')\n",
    "\n",
    "        set_parameters(self.net, parameters, self.context_client)\n",
    "\n",
    "        criterion_mri = torch.nn.CrossEntropyLoss()\n",
    "        criterion_dna = torch.nn.CrossEntropyLoss()\n",
    "        optimizer = torch.optim.Adam(self.net.parameters(), lr=lr)\n",
    "\n",
    "        results = engine.train(self.net, self.trainloader, self.valloader, optimizer=optimizer, loss_fn=(criterion_mri, criterion_dna),\n",
    "                               epochs=local_epochs, device=self.device, task=\"Multimodal\")\n",
    "\n",
    "        if self.save_results:\n",
    "            print\n",
    "            save_graphs_multimodal(self.save_results, local_epochs, results, f\"_Client {self.cid}\")\n",
    "\n",
    "        return get_parameters2(self.net, self.context_client), len(self.trainloader), {}\n",
    "\n",
    "    def evaluate(self, parameters, config):\n",
    "        print(f\"[Client {self.cid}] evaluate, config: {config}\")\n",
    "        set_parameters(self.net, parameters, self.context_client)\n",
    "\n",
    "        loss, accuracy, y_pred, y_true, y_proba = engine.test_multimodal_health(self.net, self.valloader,\n",
    "                                                              loss_fn=(torch.nn.CrossEntropyLoss(),torch.nn.CrossEntropyLoss()), device=self.device)\n",
    "\n",
    "        loss_mri, loss_dna = loss\n",
    "        accuracy_mri, accuracy_dna = accuracy\n",
    "        y_pred_mri, y_pred_dna = y_pred\n",
    "        y_true_mri, y_true_dna = y_true\n",
    "        y_proba_mri, y_proba_dna = y_proba\n",
    "\n",
    "        if self.save_results:\n",
    "            os.makedirs(self.save_results, exist_ok=True)\n",
    "            if self.matrix_path:\n",
    "                save_matrix(y_true_mri, y_pred_mri, self.save_results + \"MRI_\" + self.matrix_path, self.classes[0])\n",
    "                save_matrix(y_true_dna, y_pred_dna, self.save_results + \"DNA_\" + self.matrix_path, self.classes[1])\n",
    "            if self.roc_path:\n",
    "                save_roc(y_true_mri, y_proba_mri, self.save_results + \"MRI_\" + self.roc_path, len(self.classes[0]))\n",
    "                save_roc(y_true_dna, y_proba_dna, self.save_results + \"DNA_\" + self.roc_path, len(self.classes[1]))\n",
    "\n",
    "        return float(loss_mri), len(self.valloader), {\"accuracy\": float(accuracy_mri)}"
   ]
  },
  {
   "cell_type": "markdown",
   "metadata": {},
   "source": [
    "### Define the client_common function to set up the Flower client"
   ]
  },
  {
   "cell_type": "code",
   "execution_count": 6,
   "metadata": {},
   "outputs": [],
   "source": [
    "def client_common(cid, model_save, path_yaml, path_roc, results_save, path_matrix,\n",
    "                  batch_size, trainloaders, valloaders, DEVICE, CLASSES,\n",
    "                  he=False, secret_path=\"\", server_path=\"\"):\n",
    "    trainloader = trainloaders[int(cid)]\n",
    "    valloader = valloaders[int(cid)]\n",
    "\n",
    "    context_client = None\n",
    "    net = Net(len(CLASSES[0]), len(CLASSES[1])).to(DEVICE)\n",
    "\n",
    "    if he:\n",
    "        print(\"Run with homomorphic encryption\")\n",
    "        if os.path.exists(secret_path):\n",
    "            with open(secret_path, 'rb') as f:\n",
    "                query = pickle.load(f)\n",
    "            context_client = ts.context_from(query[\"contexte\"])\n",
    "        else:\n",
    "            context_client = security.context()\n",
    "            with open(secret_path, 'wb') as f:\n",
    "                encode = pickle.dumps({\"contexte\": context_client.serialize(save_secret_key=True)})\n",
    "                f.write(encode)\n",
    "        secret_key = context_client.secret_key()\n",
    "    else:\n",
    "        print(\"Run WITHOUT homomorphic encryption\")\n",
    "\n",
    "    if os.path.exists(model_save):\n",
    "        print(\" To get the checkpoint\")\n",
    "        checkpoint = torch.load(model_save, map_location=DEVICE)['model_state_dict']\n",
    "        if he:\n",
    "            print(\"to decrypt model\")\n",
    "            server_query, server_context = security.read_query(server_path)\n",
    "            server_context = ts.context_from(server_context)\n",
    "            for name in checkpoint:\n",
    "                print(name)\n",
    "                checkpoint[name] = torch.tensor(\n",
    "                    security.deserialized_layer(name, server_query[name], server_context).decrypt(secret_key)\n",
    "                )\n",
    "        net.load_state_dict(checkpoint)\n",
    "\n",
    "    return FlowerClient(cid, net, trainloader, valloader, device=DEVICE, batch_size=batch_size,\n",
    "                        matrix_path=path_matrix, roc_path=path_roc, save_results=results_save, yaml_path=path_yaml,\n",
    "                        he=he, context_client=context_client, classes=CLASSES)"
   ]
  },
  {
   "cell_type": "markdown",
   "metadata": {},
   "source": [
    "### Define utility functions for federated learning"
   ]
  },
  {
   "cell_type": "code",
   "execution_count": 7,
   "metadata": {},
   "outputs": [],
   "source": [
    "def weighted_average(metrics: List[Tuple[int, Metrics]]) -> Metrics:\n",
    "    accuracies = [num_examples * m[\"accuracy\"] for num_examples, m in metrics]\n",
    "    examples = [num_examples for num_examples, _ in metrics]\n",
    "    return {\"accuracy\": sum(accuracies) / sum(examples)}\n",
    "\n",
    "def evaluate2(server_round: int, parameters: NDArrays,\n",
    "              config: Dict[str, Scalar]) -> Optional[Tuple[float, Dict[str, Scalar]]]:\n",
    "    set_parameters(central, parameters)\n",
    "    loss, accuracy, y_pred, y_true, y_proba = engine.test_multimodal_health(central, testloader, loss_fn=(torch.nn.CrossEntropyLoss(),torch.nn.CrossEntropyLoss()),\n",
    "                                                          device=DEVICE)\n",
    "    loss_mri, loss_dna = loss\n",
    "    accuracy_mri, accuracy_dna = accuracy\n",
    "    y_pred_mri, y_pred_dna = y_pred\n",
    "    y_true_mri, y_true_dna = y_true\n",
    "    y_proba_mri, y_proba_dna = y_proba\n",
    "\n",
    "    print(f\"Server-side evaluation MRI loss {loss_mri} / MRI accuracy {accuracy_mri}\")\n",
    "    print(f\"Server-side evaluation DNA loss {loss_dna} / DNA accuracy {accuracy_dna}\")\n",
    "    return (loss_mri, loss_dna), {\"accuracy\": (accuracy_mri, accuracy_dna)}\n",
    "\n",
    "def get_on_fit_config_fn(epoch=2, lr=0.001, batch_size=32) -> Callable[[int], Dict[str, str]]:\n",
    "    def fit_config(server_round: int) -> Dict[str, str]:\n",
    "        config = {\n",
    "            \"learning_rate\": str(lr),\n",
    "            \"batch_size\": str(batch_size),\n",
    "            \"server_round\": server_round,\n",
    "            \"local_epochs\": epoch\n",
    "        }\n",
    "        return config\n",
    "    return fit_config\n",
    "\n",
    "def aggreg_fit_checkpoint(server_round, aggregated_parameters, central_model, path_checkpoint,\n",
    "                          context_client=None, server_path=\"\"):\n",
    "    if aggregated_parameters is not None:\n",
    "        print(f\"Saving round {server_round} aggregated_parameters...\")\n",
    "        aggregated_ndarrays: List[np.ndarray] = parameters_to_ndarrays_custom(aggregated_parameters, context_client)\n",
    "        if context_client:   \n",
    "            server_response = {\"contexte\": server_context.serialize()}\n",
    "            for i, key in enumerate(central_model.state_dict().keys()):\n",
    "                try:\n",
    "                    server_response[key] = aggregated_ndarrays[i].serialize()\n",
    "                except:\n",
    "                    server_response[key] = aggregated_ndarrays[i]\n",
    "            security.write_query(server_path, server_response)\n",
    "        else:\n",
    "            params_dict = zip(central_model.state_dict().keys(), aggregated_ndarrays)\n",
    "            state_dict = OrderedDict({k: torch.tensor(v) for k, v in params_dict})\n",
    "            central_model.load_state_dict(state_dict, strict=True)\n",
    "            if path_checkpoint:\n",
    "                torch.save({\n",
    "                    'model_state_dict': central_model.state_dict(),\n",
    "                }, path_checkpoint)"
   ]
  },
  {
   "cell_type": "markdown",
   "metadata": {},
   "source": [
    "### Define the FedCustom strategy class"
   ]
  },
  {
   "cell_type": "code",
   "execution_count": 8,
   "metadata": {},
   "outputs": [],
   "source": [
    "# A Strategy from scratch with the same sampling of the clients as it is in FedAvg\n",
    "# and then change the configuration dictionary\n",
    "class FedCustom(fl.server.strategy.Strategy):\n",
    "    def __init__(\n",
    "            self,\n",
    "            fraction_fit: float = 1.0,\n",
    "            fraction_evaluate: float = 1.0,\n",
    "            min_fit_clients: int = 2,\n",
    "            min_evaluate_clients: int = 2,\n",
    "            min_available_clients: int = 2,\n",
    "            evaluate_fn: Optional[\n",
    "                    Callable[[int, NDArrays, Dict[str, Scalar]], Optional[Tuple[float, Dict[str, Scalar]]]]\n",
    "                ] = None,\n",
    "            on_fit_config_fn: Optional[Callable[[int], Dict[str, Scalar]]] = None,\n",
    "            on_evaluate_config_fn: Optional[Callable[[int], Dict[str, Scalar]]] = None,\n",
    "            accept_failures: bool = True,\n",
    "            initial_parameters: Optional[Parameters] = None,\n",
    "            fit_metrics_aggregation_fn: Optional[MetricsAggregationFn] = None,\n",
    "            evaluate_metrics_aggregation_fn: Optional[MetricsAggregationFn] = None,\n",
    "            context_client=None\n",
    "    ) -> None:\n",
    "        super().__init__()\n",
    "        self.fraction_fit = fraction_fit\n",
    "        self.fraction_evaluate = fraction_evaluate\n",
    "        self.min_fit_clients = min_fit_clients\n",
    "        self.min_evaluate_clients = min_evaluate_clients\n",
    "        self.min_available_clients = min_available_clients\n",
    "        self.evaluate_fn = evaluate_fn\n",
    "        self.on_fit_config_fn = on_fit_config_fn\n",
    "        self.on_evaluate_config_fn = on_evaluate_config_fn,\n",
    "        self.accept_failures = accept_failures\n",
    "        self.initial_parameters = initial_parameters\n",
    "        self.fit_metrics_aggregation_fn = fit_metrics_aggregation_fn\n",
    "        self.evaluate_metrics_aggregation_fn = evaluate_metrics_aggregation_fn\n",
    "        self.context_client = context_client\n",
    "\n",
    "    def __repr__(self) -> str:\n",
    "        # Same function as FedAvg(Strategy)\n",
    "        return f\"FedCustom (accept_failures={self.accept_failures})\"\n",
    "\n",
    "    def initialize_parameters(\n",
    "        self, client_manager: ClientManager\n",
    "    ) -> Optional[Parameters]:\n",
    "        \"\"\"Initialize global model parameters.\"\"\"\n",
    "        # Same function as FedAvg(Strategy)\n",
    "        initial_parameters = self.initial_parameters\n",
    "        self.initial_parameters = None  # Don't keep initial parameters in memory\n",
    "        return initial_parameters\n",
    "\n",
    "    def num_fit_clients(self, num_available_clients: int) -> Tuple[int, int]:\n",
    "        \"\"\"Return sample size and required number of clients.\"\"\"\n",
    "        # Same function as FedAvg(Strategy)\n",
    "        num_clients = int(num_available_clients * self.fraction_fit)\n",
    "        return max(num_clients, self.min_fit_clients), self.min_available_clients\n",
    "\n",
    "    def configure_fit(\n",
    "        self, server_round: int, parameters: Parameters, client_manager: ClientManager\n",
    "    ) -> List[Tuple[ClientProxy, FitIns]]:\n",
    "        \"\"\"Configure the next round of training.\"\"\"\n",
    "        # Sample clients\n",
    "        sample_size, min_num_clients = self.num_fit_clients(\n",
    "            client_manager.num_available()\n",
    "        )\n",
    "\n",
    "        clients = client_manager.sample(\n",
    "            num_clients=sample_size, min_num_clients=min_num_clients\n",
    "        )\n",
    "        # Create custom configs\n",
    "        n_clients = len(clients)\n",
    "        half_clients = n_clients // 2\n",
    "        # Custom fit config function provided\n",
    "        standard_lr = lr\n",
    "        higher_lr = 0.003\n",
    "        config = {\"server_round\": server_round, \"local_epochs\": 1}\n",
    "        if self.on_fit_config_fn is not None:\n",
    "            # Custom fit config function provided\n",
    "            config = self.on_fit_config_fn(server_round)\n",
    "\n",
    "        # fit_ins = FitIns(parameters, config)\n",
    "        # Return client/config pairs\n",
    "        fit_configurations = []\n",
    "        for idx, client in enumerate(clients):\n",
    "            config[\"learning_rate\"] = standard_lr if idx < half_clients else higher_lr\n",
    "            \"\"\"\n",
    "            Each pair of (ClientProxy, FitRes) constitutes \n",
    "            a successful update from one of the previously selected clients.\n",
    "            \"\"\"\n",
    "            fit_configurations.append(\n",
    "                (\n",
    "                    client,\n",
    "                    FitIns(\n",
    "                        parameters,\n",
    "                        config\n",
    "                    )\n",
    "                )\n",
    "            )\n",
    "        # Successful updates from the previously selected and configured clients\n",
    "        return fit_configurations\n",
    "\n",
    "    def aggregate_fit(\n",
    "        self,\n",
    "        server_round: int,\n",
    "        results: List[Tuple[ClientProxy, FitRes]],\n",
    "        failures: List[Union[Tuple[ClientProxy, FitRes], BaseException]],\n",
    "    ) -> Tuple[Optional[Parameters], Dict[str, Scalar]]:\n",
    "        \"\"\"Aggregate fit results using weighted average. (each round)\"\"\"\n",
    "        # Same function as FedAvg(Strategy)\n",
    "        if not results:\n",
    "            return None, {}\n",
    "\n",
    "        # Do not aggregate if there are failures and failures are not accepted\n",
    "        if not self.accept_failures and failures:\n",
    "            return None, {}\n",
    "\n",
    "        # Convert results parameters --> array matrix\n",
    "        weights_results = [\n",
    "            (parameters_to_ndarrays_custom(fit_res.parameters, self.context_client), fit_res.num_examples)\n",
    "            for _, fit_res in results\n",
    "        ]\n",
    "\n",
    "        # Aggregate parameters using weighted average between the clients and convert back to parameters object (bytes)\n",
    "        parameters_aggregated = ndarrays_to_parameters_custom(aggregate_custom(weights_results))\n",
    "\n",
    "        metrics_aggregated = {}\n",
    "        # Aggregate custom metrics if aggregation fn was provided\n",
    "        if self.fit_metrics_aggregation_fn:\n",
    "            fit_metrics = [(res.num_examples, res.metrics) for _, res in results]\n",
    "            metrics_aggregated = self.fit_metrics_aggregation_fn(fit_metrics)\n",
    "\n",
    "        elif server_round == 1:  # Only log this warning once\n",
    "            logger.log(WARNING, \"No fit_metrics_aggregation_fn provided\")\n",
    "\n",
    "        # Same function as SaveModelStrategy(fl.server.strategy.FedAvg)\n",
    "        \"\"\"Aggregate model weights using weighted average and store checkpoint\"\"\"\n",
    "        aggreg_fit_checkpoint(server_round, parameters_aggregated, central, model_save,\n",
    "                              self.context_client, path_crypted)\n",
    "        return parameters_aggregated, metrics_aggregated\n",
    "\n",
    "    def num_evaluation_clients(self, num_available_clients: int) -> Tuple[int, int]:\n",
    "        \"\"\"Use a fraction of available clients for evaluation.\"\"\"\n",
    "        # Same function as FedAvg(Strategy)\n",
    "        num_clients = int(num_available_clients * self.fraction_evaluate)\n",
    "        return max(num_clients, self.min_evaluate_clients), self.min_available_clients\n",
    "\n",
    "    def configure_evaluate(\n",
    "        self, server_round: int, parameters: Parameters, client_manager: ClientManager\n",
    "    ) -> List[Tuple[ClientProxy, EvaluateIns]]:\n",
    "        \"\"\"Configure the next round of evaluation.\"\"\"\n",
    "        # Same function as FedAvg(Strategy)\n",
    "        # Do not configure federated evaluation if fraction eval is 0.\n",
    "        if self.fraction_evaluate == 0.0:\n",
    "            return []\n",
    "\n",
    "        # Parameters and config\n",
    "        config = {}  # {\"server_round\": server_round, \"local_epochs\": 1}\n",
    "\n",
    "        evaluate_ins = EvaluateIns(parameters, config)\n",
    "\n",
    "        # Sample clients\n",
    "        sample_size, min_num_clients = self.num_evaluation_clients(\n",
    "            client_manager.num_available()\n",
    "        )\n",
    "\n",
    "        clients = client_manager.sample(\n",
    "            num_clients=sample_size, min_num_clients=min_num_clients\n",
    "        )\n",
    "\n",
    "        # Return client/config pairs\n",
    "        # Each pair of (ClientProxy, FitRes) constitutes a successful update from one of the previously selected clients\n",
    "        return [(client, evaluate_ins) for client in clients]\n",
    "\n",
    "    def aggregate_evaluate(\n",
    "        self,\n",
    "        server_round: int,\n",
    "        results: List[Tuple[ClientProxy, EvaluateRes]],\n",
    "        failures: List[Union[Tuple[ClientProxy, EvaluateRes], BaseException]],\n",
    "    ) -> Tuple[Optional[float], Dict[str, Scalar]]:\n",
    "        \"\"\"Aggregate evaluation losses using weighted average.\"\"\"\n",
    "        # Same function as FedAvg(Strategy)\n",
    "        if not results:\n",
    "            return None, {}\n",
    "\n",
    "        # Do not aggregate if there are failures and failures are not accepted\n",
    "        if not self.accept_failures and failures:\n",
    "            return None, {}\n",
    "\n",
    "        # Aggregate loss\n",
    "        loss_aggregated = weighted_loss_avg(\n",
    "            [\n",
    "                (evaluate_res.num_examples, evaluate_res.loss)\n",
    "                for _, evaluate_res in results\n",
    "            ]\n",
    "        )\n",
    "\n",
    "        metrics_aggregated = {}\n",
    "        # Aggregate custom metrics if aggregation fn was provided\n",
    "        if self.evaluate_metrics_aggregation_fn:\n",
    "            eval_metrics = [(res.num_examples, res.metrics) for _, res in results]\n",
    "            metrics_aggregated = self.evaluate_metrics_aggregation_fn(eval_metrics)\n",
    "\n",
    "        # Only log this warning once\n",
    "        elif server_round == 1:\n",
    "            logger.log(WARNING, \"No evaluate_metrics_aggregation_fn provided\")\n",
    "\n",
    "        return loss_aggregated, metrics_aggregated\n",
    "\n",
    "    def evaluate(\n",
    "        self, server_round: int, parameters: Parameters\n",
    "    ) -> Optional[Tuple[float, Dict[str, Scalar]]]:\n",
    "        \"\"\"Evaluate global model parameters using an evaluation function.\"\"\"\n",
    "        # Same function as FedAvg(Strategy)\n",
    "        if self.evaluate_fn is None:\n",
    "            # Let's assume we won't perform the global model evaluation on the server side.\n",
    "            return None\n",
    "\n",
    "        # if we have a global model evaluation on the server side :\n",
    "        parameters_ndarrays = parameters_to_ndarrays_custom(parameters, self.context_client)\n",
    "        eval_res = self.evaluate_fn(server_round, parameters_ndarrays, {})\n",
    "\n",
    "        # if you haven't results\n",
    "        if eval_res is None:\n",
    "            return None\n",
    "\n",
    "        loss, metrics = eval_res\n",
    "        return loss, metrics"
   ]
  },
  {
   "cell_type": "markdown",
   "metadata": {},
   "source": [
    "### Set up the federated learning strategy"
   ]
  },
  {
   "cell_type": "code",
   "execution_count": 9,
   "metadata": {},
   "outputs": [],
   "source": [
    "# Set up your variables directly\n",
    "he = True\n",
    "data_path = 'data/'\n",
    "dataset = 'DNA+MRI'\n",
    "yaml_path = './results/FL/results.yml'\n",
    "seed = 0\n",
    "num_workers = 0\n",
    "max_epochs = 10\n",
    "batch_size = 32\n",
    "splitter = 10\n",
    "device = 'cpu'\n",
    "number_clients = 10\n",
    "save_results = 'results/FL/'\n",
    "matrix_path = 'confusion_matrix.png'\n",
    "roc_path = 'roc.png'\n",
    "model_save = 'DNA+MRI_FHE.pt'\n",
    "min_fit_clients = 10\n",
    "min_avail_clients = 10\n",
    "min_eval_clients = 10\n",
    "rounds = 20\n",
    "frac_fit = 1.0\n",
    "frac_eval = 0.5\n",
    "lr = 1e-3\n",
    "path_public_key = 'server_key.pkl'"
   ]
  },
  {
   "cell_type": "code",
   "execution_count": 10,
   "metadata": {},
   "outputs": [
    {
     "name": "stdout",
     "output_type": "stream",
     "text": [
      "get public key :  server_key.pkl\n"
     ]
    }
   ],
   "source": [
    "print(\"get public key : \", path_public_key)\n",
    "_, server_context = security.read_query(path_public_key)\n",
    "server_context = ts.context_from(server_context)\n",
    "DEVICE = torch.device(choice_device(device))\n",
    "CLASSES = classes_string(dataset)\n",
    "central = Net(len(CLASSES[0]), len(CLASSES[1])).to(DEVICE)"
   ]
  },
  {
   "cell_type": "code",
   "execution_count": 11,
   "metadata": {},
   "outputs": [],
   "source": [
    "strategy = FedCustom(\n",
    "    fraction_fit=frac_fit,\n",
    "    fraction_evaluate=frac_eval,\n",
    "    min_fit_clients=min_fit_clients,\n",
    "    min_evaluate_clients=min_eval_clients if min_eval_clients else number_clients // 2,\n",
    "    min_available_clients=min_avail_clients,\n",
    "    evaluate_metrics_aggregation_fn=weighted_average,\n",
    "    initial_parameters=ndarrays_to_parameters_custom(get_parameters2(central)),\n",
    "    evaluate_fn=None if he else evaluate2,\n",
    "    on_fit_config_fn=get_on_fit_config_fn(epoch=max_epochs, batch_size=batch_size),\n",
    "    context_client=server_context\n",
    ")"
   ]
  },
  {
   "cell_type": "code",
   "execution_count": 12,
   "metadata": {},
   "outputs": [
    {
     "name": "stdout",
     "output_type": "stream",
     "text": [
      "DNA+MRI\n",
      "The training set is created for the classes: \n",
      "('glioma', 'meningioma', 'notumor', 'pituitary')\n",
      "('0', '1', '2', '3', '4', '5', '6')\n"
     ]
    }
   ],
   "source": [
    "trainloaders, valloaders, testloader = data_setup.load_datasets(num_clients=number_clients,\n",
    "                                                                batch_size=batch_size,\n",
    "                                                                resize=224,\n",
    "                                                                seed=seed,\n",
    "                                                                num_workers=num_workers,\n",
    "                                                                splitter=splitter,\n",
    "                                                                dataset=dataset,  # Use the specified dataset\n",
    "                                                                data_path=data_path,\n",
    "                                                                data_path_val=None)  # Use the same path for validation data\n",
    "\n",
    "def client_fn(cid: str) -> FlowerClient:\n",
    "    return client_common(cid,\n",
    "                         model_save, path_yaml, path_roc, results_save, path_matrix,\n",
    "                         batch_size, trainloaders, valloaders, DEVICE, CLASSES, he, secret_path, server_path)"
   ]
  },
  {
   "cell_type": "markdown",
   "metadata": {},
   "source": [
    "### Define the client_fn function and set up the simulation"
   ]
  },
  {
   "cell_type": "code",
   "execution_count": 13,
   "metadata": {},
   "outputs": [
    {
     "name": "stderr",
     "output_type": "stream",
     "text": [
      "INFO flwr 2024-08-05 04:05:58,916 | app.py:145 | Starting Flower simulation, config: ServerConfig(num_rounds=20, round_timeout=None)\n"
     ]
    },
    {
     "name": "stdout",
     "output_type": "stream",
     "text": [
      "flwr 1.5.0\n",
      "numpy 1.26.4\n",
      "torch 2.4.0+cpu\n",
      "torchvision 0.19.0+cpu\n",
      "Training on cpu\n",
      "Start simulation\n"
     ]
    },
    {
     "name": "stderr",
     "output_type": "stream",
     "text": [
      "2024-08-05 04:06:01,617\tWARNING services.py:2017 -- WARNING: The object store is using /tmp instead of /dev/shm because /dev/shm has only 67104768 bytes available. This will harm performance! You may be able to free up space by deleting files in /dev/shm. If you are inside a Docker container, you can increase /dev/shm size by passing '--shm-size=1.62gb' to 'docker run' (or add it to the run_options list in a Ray cluster config). Make sure to set this to more than 30% of available RAM.\n",
      "2024-08-05 04:06:03,037\tINFO worker.py:1781 -- Started a local Ray instance.\n",
      "INFO flwr 2024-08-05 04:06:04,423 | app.py:179 | Flower VCE: Ray initialized with resources: {'node:10.0.1.229': 1.0, 'CPU': 2.0, 'memory': 3171373056.0, 'node:__internal_head__': 1.0, 'object_store_memory': 1585686528.0}\n",
      "INFO flwr 2024-08-05 04:06:04,424 | server.py:89 | Initializing global parameters\n",
      "INFO flwr 2024-08-05 04:06:04,424 | server.py:272 | Using initial parameters provided by strategy\n",
      "INFO flwr 2024-08-05 04:06:04,425 | server.py:91 | Evaluating initial parameters\n",
      "INFO flwr 2024-08-05 04:06:04,426 | server.py:104 | FL starting\n",
      "DEBUG flwr 2024-08-05 04:06:04,426 | server.py:222 | fit_round 1: strategy sampled 10 clients (out of 10)\n",
      "\u001b[36m(launch_and_fit pid=5961)\u001b[0m /opt/conda/envs/fed/lib/python3.10/site-packages/torch/storage.py:414: FutureWarning: You are using `torch.load` with `weights_only=False` (the current default value), which uses the default pickle module implicitly. It is possible to construct malicious pickle data which will execute arbitrary code during unpickling (See https://github.com/pytorch/pytorch/blob/main/SECURITY.md#untrusted-models for more details). In a future release, the default value for `weights_only` will be flipped to `True`. This limits the functions that could be executed during unpickling. Arbitrary objects will no longer be allowed to be loaded via this mode unless they are explicitly allowlisted by the user via `torch.serialization.add_safe_globals`. We recommend you start setting `weights_only=True` for any use case where you don't have full control of the loaded file. Please open an issue on GitHub for any issues related to this experimental feature.\n",
      "\u001b[36m(launch_and_fit pid=5961)\u001b[0m   return torch.load(io.BytesIO(b))\n"
     ]
    },
    {
     "name": "stdout",
     "output_type": "stream",
     "text": [
      "\u001b[36m(launch_and_fit pid=5962)\u001b[0m Run with homomorphic encryption\n",
      "\u001b[36m(launch_and_fit pid=5961)\u001b[0m [Client 3, round 1] fit, config: {'learning_rate': 0.003, 'batch_size': '32', 'server_round': 1, 'local_epochs': 10}\n",
      "\u001b[36m(launch_and_fit pid=5962)\u001b[0m Updated model\n"
     ]
    },
    {
     "name": "stderr",
     "output_type": "stream",
     "text": [
      "  0%|\u001b[34m          \u001b[0m| 0/10 [00:00<?, ?it/s]\n",
      " 10%|\u001b[34m█         \u001b[0m| 1/10 [00:07<01:03,  7.08s/it]\n",
      "\u001b[36m(launch_and_fit pid=5962)\u001b[0m /opt/conda/envs/fed/lib/python3.10/site-packages/torch/storage.py:414: FutureWarning: You are using `torch.load` with `weights_only=False` (the current default value), which uses the default pickle module implicitly. It is possible to construct malicious pickle data which will execute arbitrary code during unpickling (See https://github.com/pytorch/pytorch/blob/main/SECURITY.md#untrusted-models for more details). In a future release, the default value for `weights_only` will be flipped to `True`. This limits the functions that could be executed during unpickling. Arbitrary objects will no longer be allowed to be loaded via this mode unless they are explicitly allowlisted by the user via `torch.serialization.add_safe_globals`. We recommend you start setting `weights_only=True` for any use case where you don't have full control of the loaded file. Please open an issue on GitHub for any issues related to this experimental feature.\n",
      "\u001b[36m(launch_and_fit pid=5962)\u001b[0m   return torch.load(io.BytesIO(b))\n",
      "  0%|\u001b[34m          \u001b[0m| 0/10 [00:00<?, ?it/s]\n",
      " 10%|\u001b[34m█         \u001b[0m| 1/10 [00:07<01:05,  7.27s/it]\n"
     ]
    },
    {
     "name": "stdout",
     "output_type": "stream",
     "text": [
      "\u001b[36m(launch_and_fit pid=5961)\u001b[0m \tTrain Epoch: 1 \tTrain_loss_mri: 1.3917 | Train_acc_mri: 28.1250 | Train_loss_dna: 1.9256 | Train_acc_dna: 13.5417 | Validation_loss_mri: 1.2738 | Validation_acc_mri: 50.0000 | Validation_loss_dna: 1.9161 | Validation_acc_dna: 25.0000\n",
      "\u001b[36m(launch_and_fit pid=5961)\u001b[0m Run with homomorphic encryption\n",
      "\u001b[36m(launch_and_fit pid=5962)\u001b[0m [Client 7, round 1] fit, config: {'learning_rate': 0.003, 'batch_size': '32', 'server_round': 1, 'local_epochs': 10}\n",
      "\u001b[36m(launch_and_fit pid=5961)\u001b[0m Updated model\n"
     ]
    },
    {
     "name": "stderr",
     "output_type": "stream",
     "text": [
      " 20%|\u001b[34m██        \u001b[0m| 2/10 [00:10<00:40,  5.01s/it]\n",
      " 20%|\u001b[34m██        \u001b[0m| 2/10 [00:10<00:40,  5.08s/it]\n",
      " 30%|\u001b[34m███       \u001b[0m| 3/10 [00:14<00:30,  4.40s/it]\n",
      " 30%|\u001b[34m███       \u001b[0m| 3/10 [00:14<00:30,  4.42s/it]\n"
     ]
    },
    {
     "name": "stdout",
     "output_type": "stream",
     "text": [
      "\u001b[36m(launch_and_fit pid=5961)\u001b[0m \tTrain Epoch: 3 \tTrain_loss_mri: 1.3810 | Train_acc_mri: 25.0000 | Train_loss_dna: 1.8227 | Train_acc_dna: 42.7083 | Validation_loss_mri: 1.2507 | Validation_acc_mri: 62.5000 | Validation_loss_dna: 1.8940 | Validation_acc_dna: 25.0000\u001b[32m [repeated 4x across cluster] (Ray deduplicates logs by default. Set RAY_DEDUP_LOGS=0 to disable log deduplication, or see https://docs.ray.io/en/master/ray-observability/user-guides/configure-logging.html#log-deduplication for more options.)\u001b[0m\n"
     ]
    },
    {
     "name": "stderr",
     "output_type": "stream",
     "text": [
      " 40%|\u001b[34m████      \u001b[0m| 4/10 [00:17<00:23,  3.89s/it]\n",
      " 40%|\u001b[34m████      \u001b[0m| 4/10 [00:17<00:23,  3.92s/it]\n"
     ]
    },
    {
     "name": "stdout",
     "output_type": "stream",
     "text": [
      "\u001b[36m(launch_and_fit pid=5962)\u001b[0m \tTrain Epoch: 5 \tTrain_loss_mri: 1.3450 | Train_acc_mri: 38.5417 | Train_loss_dna: 1.8842 | Train_acc_dna: 27.0833 | Validation_loss_mri: 1.2671 | Validation_acc_mri: 37.5000 | Validation_loss_dna: 1.8648 | Validation_acc_dna: 25.0000\u001b[32m [repeated 4x across cluster]\u001b[0m\n"
     ]
    },
    {
     "name": "stderr",
     "output_type": "stream",
     "text": [
      " 50%|\u001b[34m█████     \u001b[0m| 5/10 [00:20<00:18,  3.68s/it]\n",
      " 50%|\u001b[34m█████     \u001b[0m| 5/10 [00:20<00:18,  3.68s/it]\n",
      " 60%|\u001b[34m██████    \u001b[0m| 6/10 [00:23<00:13,  3.45s/it]\n",
      " 60%|\u001b[34m██████    \u001b[0m| 6/10 [00:23<00:13,  3.47s/it]\n"
     ]
    },
    {
     "name": "stdout",
     "output_type": "stream",
     "text": [
      "\u001b[36m(launch_and_fit pid=5962)\u001b[0m \tTrain Epoch: 7 \tTrain_loss_mri: 1.3433 | Train_acc_mri: 35.4167 | Train_loss_dna: 1.7616 | Train_acc_dna: 36.4583 | Validation_loss_mri: 1.2292 | Validation_acc_mri: 37.5000 | Validation_loss_dna: 1.8477 | Validation_acc_dna: 25.0000\u001b[32m [repeated 4x across cluster]\u001b[0m\n"
     ]
    },
    {
     "name": "stderr",
     "output_type": "stream",
     "text": [
      " 70%|\u001b[34m███████   \u001b[0m| 7/10 [00:27<00:10,  3.36s/it]\n",
      " 70%|\u001b[34m███████   \u001b[0m| 7/10 [00:27<00:10,  3.39s/it]\n",
      " 80%|\u001b[34m████████  \u001b[0m| 8/10 [00:30<00:06,  3.25s/it]\n",
      " 80%|\u001b[34m████████  \u001b[0m| 8/10 [00:30<00:06,  3.27s/it]\n"
     ]
    },
    {
     "name": "stdout",
     "output_type": "stream",
     "text": [
      "\u001b[36m(launch_and_fit pid=5962)\u001b[0m \tTrain Epoch: 9 \tTrain_loss_mri: 1.3933 | Train_acc_mri: 32.2917 | Train_loss_dna: 1.8436 | Train_acc_dna: 23.9583 | Validation_loss_mri: 1.2206 | Validation_acc_mri: 37.5000 | Validation_loss_dna: 1.8551 | Validation_acc_dna: 25.0000\u001b[32m [repeated 4x across cluster]\u001b[0m\n"
     ]
    },
    {
     "name": "stderr",
     "output_type": "stream",
     "text": [
      " 90%|\u001b[34m█████████ \u001b[0m| 9/10 [00:32<00:03,  3.11s/it]\n",
      " 90%|\u001b[34m█████████ \u001b[0m| 9/10 [00:32<00:03,  3.15s/it]\n"
     ]
    },
    {
     "name": "stdout",
     "output_type": "stream",
     "text": [
      "\u001b[36m(launch_and_fit pid=5962)\u001b[0m save graph in  results/FL/\n"
     ]
    },
    {
     "name": "stderr",
     "output_type": "stream",
     "text": [
      "100%|\u001b[34m██████████\u001b[0m| 10/10 [00:36<00:00,  3.60s/it]\n",
      "100%|\u001b[34m██████████\u001b[0m| 10/10 [00:35<00:00,  3.60s/it]\n"
     ]
    },
    {
     "name": "stdout",
     "output_type": "stream",
     "text": [
      "\u001b[36m(launch_and_fit pid=5961)\u001b[0m mri_net.features.0.weight 5.245208740234375e-06\n",
      "\u001b[36m(launch_and_fit pid=5961)\u001b[0m mri_net.features.0.bias 1.430511474609375e-06\n",
      "\u001b[36m(launch_and_fit pid=5961)\u001b[0m mri_net.features.3.weight 1.1920928955078125e-06\n",
      "\u001b[36m(launch_and_fit pid=5961)\u001b[0m mri_net.features.3.bias 7.152557373046875e-07\n",
      "\u001b[36m(launch_and_fit pid=5961)\u001b[0m mri_net.classifier.0.weight 1.1920928955078125e-06\n",
      "\u001b[36m(launch_and_fit pid=5961)\u001b[0m mri_net.classifier.0.bias 9.5367431640625e-07\n",
      "\u001b[36m(launch_and_fit pid=5961)\u001b[0m mri_net.classifier.2.weight 7.152557373046875e-07\n",
      "\u001b[36m(launch_and_fit pid=5961)\u001b[0m mri_net.classifier.2.bias 7.152557373046875e-07\n",
      "\u001b[36m(launch_and_fit pid=5961)\u001b[0m mri_net.classifier.3.weights 9.5367431640625e-07\n",
      "\u001b[36m(launch_and_fit pid=5961)\u001b[0m dna_net.fc1.weight 7.152557373046875e-07\n",
      "\u001b[36m(launch_and_fit pid=5961)\u001b[0m dna_net.fc1.bias 9.5367431640625e-07\n",
      "\u001b[36m(launch_and_fit pid=5961)\u001b[0m dna_net.fc2.weight 9.5367431640625e-07\n",
      "\u001b[36m(launch_and_fit pid=5961)\u001b[0m dna_net.fc2.bias 7.152557373046875e-07\n",
      "\u001b[36m(launch_and_fit pid=5961)\u001b[0m dna_net.fc3.weight 1.1920928955078125e-06\n",
      "\u001b[36m(launch_and_fit pid=5961)\u001b[0m dna_net.fc3.bias 4.76837158203125e-07\n",
      "\u001b[36m(launch_and_fit pid=5961)\u001b[0m dna_net.fc4.weight 9.5367431640625e-07\n",
      "\u001b[36m(launch_and_fit pid=5961)\u001b[0m dna_net.fc4.bias 1.430511474609375e-06\n",
      "\u001b[36m(launch_and_fit pid=5961)\u001b[0m dna_net.qnn.weights 7.152557373046875e-07\n",
      "\u001b[36m(launch_and_fit pid=5961)\u001b[0m attention.in_proj_weight 9.5367431640625e-07\n",
      "\u001b[36m(launch_and_fit pid=5961)\u001b[0m attention.in_proj_bias 9.5367431640625e-07\n",
      "\u001b[36m(launch_and_fit pid=5961)\u001b[0m attention.out_proj.weight 9.5367431640625e-07\n",
      "\u001b[36m(launch_and_fit pid=5961)\u001b[0m attention.out_proj.bias 1.6689300537109375e-06\n",
      "\u001b[36m(launch_and_fit pid=5961)\u001b[0m fc1.weight 9.5367431640625e-07\n",
      "\u001b[36m(launch_and_fit pid=5961)\u001b[0m fc1.bias 9.5367431640625e-07\n",
      "\u001b[36m(launch_and_fit pid=5961)\u001b[0m fc2_mri.weight 7.152557373046875e-07\n",
      "\u001b[36m(launch_and_fit pid=5961)\u001b[0m fc2_mri.bias 1.1920928955078125e-06\n",
      "\u001b[36m(launch_and_fit pid=5961)\u001b[0m fc2_dna.weight 1.1920928955078125e-06\n",
      "\u001b[36m(launch_and_fit pid=5961)\u001b[0m fc2_dna.bias 1.1920928955078125e-06\n",
      "\u001b[36m(launch_and_fit pid=5962)\u001b[0m mri_net.features.0.weight 6.4373016357421875e-06\n",
      "\u001b[36m(launch_and_fit pid=5962)\u001b[0m mri_net.features.0.bias 3.337860107421875e-06\n",
      "\u001b[36m(launch_and_fit pid=5962)\u001b[0m mri_net.features.3.weight 1.1920928955078125e-06\n",
      "\u001b[36m(launch_and_fit pid=5962)\u001b[0m mri_net.features.3.bias 1.1920928955078125e-06\n",
      "\u001b[36m(launch_and_fit pid=5962)\u001b[0m mri_net.classifier.0.weight 1.430511474609375e-06\n",
      "\u001b[36m(launch_and_fit pid=5962)\u001b[0m mri_net.classifier.0.bias 1.9073486328125e-06\n",
      "\u001b[36m(launch_and_fit pid=5962)\u001b[0m mri_net.classifier.2.weight 1.6689300537109375e-06\n",
      "\u001b[36m(launch_and_fit pid=5962)\u001b[0m mri_net.classifier.2.bias 1.430511474609375e-06\n",
      "\u001b[36m(launch_and_fit pid=5962)\u001b[0m mri_net.classifier.3.weights 1.1920928955078125e-06\n",
      "\u001b[36m(launch_and_fit pid=5962)\u001b[0m dna_net.fc1.weight 9.5367431640625e-07\n",
      "\u001b[36m(launch_and_fit pid=5962)\u001b[0m dna_net.fc1.bias 1.1920928955078125e-06\n",
      "\u001b[36m(launch_and_fit pid=5962)\u001b[0m dna_net.fc2.weight 9.5367431640625e-07\n",
      "\u001b[36m(launch_and_fit pid=5962)\u001b[0m dna_net.fc2.bias 9.5367431640625e-07\n",
      "\u001b[36m(launch_and_fit pid=5962)\u001b[0m dna_net.fc3.weight 1.1920928955078125e-06\n",
      "\u001b[36m(launch_and_fit pid=5962)\u001b[0m dna_net.fc3.bias 1.1920928955078125e-06\n",
      "\u001b[36m(launch_and_fit pid=5962)\u001b[0m dna_net.fc4.weight 9.5367431640625e-07\n",
      "\u001b[36m(launch_and_fit pid=5962)\u001b[0m dna_net.fc4.bias 1.430511474609375e-06\n",
      "\u001b[36m(launch_and_fit pid=5962)\u001b[0m fc1.weight 1.430511474609375e-06\n",
      "\u001b[36m(launch_and_fit pid=5962)\u001b[0m fc1.bias 9.5367431640625e-07\n",
      "\u001b[36m(launch_and_fit pid=5962)\u001b[0m fc2_mri.weight 1.430511474609375e-06\n",
      "\u001b[36m(launch_and_fit pid=5962)\u001b[0m fc2_mri.bias 9.5367431640625e-07\n",
      "\u001b[36m(launch_and_fit pid=5962)\u001b[0m fc2_dna.weight 1.1920928955078125e-06\n",
      "\u001b[36m(launch_and_fit pid=5962)\u001b[0m fc2_dna.bias 9.5367431640625e-07\n",
      "\u001b[36m(launch_and_fit pid=5961)\u001b[0m Run with homomorphic encryption\n",
      "\u001b[36m(launch_and_fit pid=5961)\u001b[0m \tTrain Epoch: 10 \tTrain_loss_mri: 1.3694 | Train_acc_mri: 26.0417 | Train_loss_dna: 1.7763 | Train_acc_dna: 36.4583 | Validation_loss_mri: 1.2110 | Validation_acc_mri: 50.0000 | Validation_loss_dna: 1.9771 | Validation_acc_dna: 25.0000\u001b[32m [repeated 3x across cluster]\u001b[0m\n",
      "\u001b[36m(launch_and_fit pid=5961)\u001b[0m [Client 8, round 1] fit, config: {'learning_rate': 0.003, 'batch_size': '32', 'server_round': 1, 'local_epochs': 10}\n"
     ]
    },
    {
     "name": "stderr",
     "output_type": "stream",
     "text": [
      "  0%|\u001b[34m          \u001b[0m| 0/10 [00:00<?, ?it/s]\n"
     ]
    },
    {
     "name": "stdout",
     "output_type": "stream",
     "text": [
      "\u001b[36m(launch_and_fit pid=5961)\u001b[0m Updated model\n",
      "\u001b[36m(launch_and_fit pid=5961)\u001b[0m save graph in  results/FL/\n",
      "\u001b[36m(launch_and_fit pid=5962)\u001b[0m dna_net.qnn.weights 1.1920928955078125e-06\n",
      "\u001b[36m(launch_and_fit pid=5962)\u001b[0m attention.in_proj_weight 1.430511474609375e-06\n",
      "\u001b[36m(launch_and_fit pid=5962)\u001b[0m attention.in_proj_bias 7.152557373046875e-07\n",
      "\u001b[36m(launch_and_fit pid=5962)\u001b[0m attention.out_proj.weight 1.1920928955078125e-06\n",
      "\u001b[36m(launch_and_fit pid=5962)\u001b[0m attention.out_proj.bias 9.5367431640625e-07\n",
      "\u001b[36m(launch_and_fit pid=5962)\u001b[0m Run with homomorphic encryption\n",
      "\u001b[36m(launch_and_fit pid=5962)\u001b[0m \tTrain Epoch: 1 \tTrain_loss_mri: 1.4052 | Train_acc_mri: 18.7500 | Train_loss_dna: 1.9203 | Train_acc_dna: 11.4583 | Validation_loss_mri: 1.3647 | Validation_acc_mri: 50.0000 | Validation_loss_dna: 1.8442 | Validation_acc_dna: 25.0000\n",
      "\u001b[36m(launch_and_fit pid=5962)\u001b[0m [Client 9, round 1] fit, config: {'learning_rate': 0.003, 'batch_size': '32', 'server_round': 1, 'local_epochs': 10}\n"
     ]
    },
    {
     "name": "stderr",
     "output_type": "stream",
     "text": [
      " 10%|\u001b[34m█         \u001b[0m| 1/10 [00:04<00:41,  4.63s/it]\n",
      " 10%|\u001b[34m█         \u001b[0m| 1/10 [00:04<00:44,  4.91s/it]\n"
     ]
    },
    {
     "name": "stdout",
     "output_type": "stream",
     "text": [
      "\u001b[36m(launch_and_fit pid=5961)\u001b[0m \tTrain Epoch: 1 \tTrain_loss_mri: 1.4199 | Train_acc_mri: 18.7500 | Train_loss_dna: 1.9468 | Train_acc_dna: 8.3333 | Validation_loss_mri: 1.4115 | Validation_acc_mri: 12.5000 | Validation_loss_dna: 1.8797 | Validation_acc_dna: 37.5000\n",
      "\u001b[36m(launch_and_fit pid=5962)\u001b[0m Updated model\n"
     ]
    },
    {
     "name": "stderr",
     "output_type": "stream",
     "text": [
      " 20%|\u001b[34m██        \u001b[0m| 2/10 [00:07<00:29,  3.75s/it]\n",
      "  0%|\u001b[34m          \u001b[0m| 0/10 [00:00<?, ?it/s]\n",
      " 20%|\u001b[34m██        \u001b[0m| 2/10 [00:08<00:31,  3.99s/it]\n"
     ]
    },
    {
     "name": "stdout",
     "output_type": "stream",
     "text": [
      "\u001b[36m(launch_and_fit pid=5962)\u001b[0m \tTrain Epoch: 3 \tTrain_loss_mri: 1.3705 | Train_acc_mri: 34.3750 | Train_loss_dna: 1.8649 | Train_acc_dna: 25.0000 | Validation_loss_mri: 1.3332 | Validation_acc_mri: 50.0000 | Validation_loss_dna: 1.7299 | Validation_acc_dna: 37.5000\u001b[32m [repeated 3x across cluster]\u001b[0m\n"
     ]
    },
    {
     "name": "stderr",
     "output_type": "stream",
     "text": [
      " 30%|\u001b[34m███       \u001b[0m| 3/10 [00:10<00:24,  3.49s/it]\n",
      " 30%|\u001b[34m███       \u001b[0m| 3/10 [00:11<00:24,  3.54s/it]\n",
      " 40%|\u001b[34m████      \u001b[0m| 4/10 [00:14<00:19,  3.33s/it]\n",
      " 40%|\u001b[34m████      \u001b[0m| 4/10 [00:14<00:20,  3.38s/it]\n"
     ]
    },
    {
     "name": "stdout",
     "output_type": "stream",
     "text": [
      "\u001b[36m(launch_and_fit pid=5962)\u001b[0m \tTrain Epoch: 5 \tTrain_loss_mri: 1.3420 | Train_acc_mri: 43.7500 | Train_loss_dna: 1.8302 | Train_acc_dna: 25.0000 | Validation_loss_mri: 1.3019 | Validation_acc_mri: 50.0000 | Validation_loss_dna: 1.6297 | Validation_acc_dna: 37.5000\u001b[32m [repeated 4x across cluster]\u001b[0m\n"
     ]
    },
    {
     "name": "stderr",
     "output_type": "stream",
     "text": [
      " 50%|\u001b[34m█████     \u001b[0m| 5/10 [00:17<00:16,  3.23s/it]\n",
      " 50%|\u001b[34m█████     \u001b[0m| 5/10 [00:17<00:16,  3.25s/it]\n",
      " 60%|\u001b[34m██████    \u001b[0m| 6/10 [00:19<00:12,  3.12s/it]\n",
      " 60%|\u001b[34m██████    \u001b[0m| 6/10 [00:20<00:12,  3.16s/it]\n"
     ]
    },
    {
     "name": "stdout",
     "output_type": "stream",
     "text": [
      "\u001b[36m(launch_and_fit pid=5962)\u001b[0m \tTrain Epoch: 7 \tTrain_loss_mri: 1.3373 | Train_acc_mri: 34.3750 | Train_loss_dna: 1.8027 | Train_acc_dna: 25.0000 | Validation_loss_mri: 1.2837 | Validation_acc_mri: 50.0000 | Validation_loss_dna: 1.5717 | Validation_acc_dna: 37.5000\u001b[32m [repeated 4x across cluster]\u001b[0m\n"
     ]
    },
    {
     "name": "stderr",
     "output_type": "stream",
     "text": [
      " 70%|\u001b[34m███████   \u001b[0m| 7/10 [00:23<00:09,  3.10s/it]\n",
      " 70%|\u001b[34m███████   \u001b[0m| 7/10 [00:23<00:09,  3.16s/it]\n",
      " 80%|\u001b[34m████████  \u001b[0m| 8/10 [00:26<00:06,  3.08s/it]\n",
      " 80%|\u001b[34m████████  \u001b[0m| 8/10 [00:26<00:06,  3.13s/it]\n"
     ]
    },
    {
     "name": "stdout",
     "output_type": "stream",
     "text": [
      "\u001b[36m(launch_and_fit pid=5962)\u001b[0m \tTrain Epoch: 9 \tTrain_loss_mri: 1.3458 | Train_acc_mri: 31.2500 | Train_loss_dna: 1.7505 | Train_acc_dna: 28.1250 | Validation_loss_mri: 1.2770 | Validation_acc_mri: 50.0000 | Validation_loss_dna: 1.5503 | Validation_acc_dna: 37.5000\u001b[32m [repeated 4x across cluster]\u001b[0m\n"
     ]
    },
    {
     "name": "stderr",
     "output_type": "stream",
     "text": [
      " 90%|\u001b[34m█████████ \u001b[0m| 9/10 [00:29<00:03,  3.04s/it]\n",
      " 90%|\u001b[34m█████████ \u001b[0m| 9/10 [00:29<00:03,  3.11s/it]\n"
     ]
    },
    {
     "name": "stdout",
     "output_type": "stream",
     "text": [
      "\u001b[36m(launch_and_fit pid=5962)\u001b[0m save graph in  results/FL/\n"
     ]
    },
    {
     "name": "stderr",
     "output_type": "stream",
     "text": [
      "100%|\u001b[34m██████████\u001b[0m| 10/10 [00:31<00:00,  3.19s/it]\n"
     ]
    },
    {
     "name": "stdout",
     "output_type": "stream",
     "text": [
      "\u001b[36m(launch_and_fit pid=5962)\u001b[0m mri_net.features.0.weight 5.0067901611328125e-06\n",
      "\u001b[36m(launch_and_fit pid=5962)\u001b[0m mri_net.features.0.bias 1.430511474609375e-06\n",
      "\u001b[36m(launch_and_fit pid=5962)\u001b[0m mri_net.features.3.weight 9.5367431640625e-07\n",
      "\u001b[36m(launch_and_fit pid=5962)\u001b[0m mri_net.features.3.bias 9.5367431640625e-07\n",
      "\u001b[36m(launch_and_fit pid=5962)\u001b[0m mri_net.classifier.0.weight 1.1920928955078125e-06\n",
      "\u001b[36m(launch_and_fit pid=5962)\u001b[0m mri_net.classifier.0.bias 9.5367431640625e-07\n",
      "\u001b[36m(launch_and_fit pid=5962)\u001b[0m mri_net.classifier.2.weight 7.152557373046875e-07\n",
      "\u001b[36m(launch_and_fit pid=5962)\u001b[0m mri_net.classifier.2.bias 9.5367431640625e-07\n",
      "\u001b[36m(launch_and_fit pid=5962)\u001b[0m mri_net.classifier.3.weights 1.1920928955078125e-06\n",
      "\u001b[36m(launch_and_fit pid=5962)\u001b[0m dna_net.fc1.weight 9.5367431640625e-07\n",
      "\u001b[36m(launch_and_fit pid=5962)\u001b[0m dna_net.fc1.bias 7.152557373046875e-07\n",
      "\u001b[36m(launch_and_fit pid=5962)\u001b[0m dna_net.fc2.weight 4.76837158203125e-07\n",
      "\u001b[36m(launch_and_fit pid=5962)\u001b[0m dna_net.fc2.bias 7.152557373046875e-07\n",
      "\u001b[36m(launch_and_fit pid=5962)\u001b[0m dna_net.fc3.weight 9.5367431640625e-07\n",
      "\u001b[36m(launch_and_fit pid=5962)\u001b[0m dna_net.fc3.bias 9.5367431640625e-07\n",
      "\u001b[36m(launch_and_fit pid=5962)\u001b[0m dna_net.fc4.weight 7.152557373046875e-07\n",
      "\u001b[36m(launch_and_fit pid=5962)\u001b[0m dna_net.fc4.bias 9.5367431640625e-07\n",
      "\u001b[36m(launch_and_fit pid=5962)\u001b[0m dna_net.qnn.weights 7.152557373046875e-07\n",
      "\u001b[36m(launch_and_fit pid=5962)\u001b[0m attention.in_proj_weight 9.5367431640625e-07\n",
      "\u001b[36m(launch_and_fit pid=5962)\u001b[0m attention.in_proj_bias 9.5367431640625e-07\n",
      "\u001b[36m(launch_and_fit pid=5962)\u001b[0m attention.out_proj.weight 1.1920928955078125e-06\n",
      "\u001b[36m(launch_and_fit pid=5962)\u001b[0m attention.out_proj.bias 7.152557373046875e-07\n",
      "\u001b[36m(launch_and_fit pid=5962)\u001b[0m fc1.weight 1.430511474609375e-06\n",
      "\u001b[36m(launch_and_fit pid=5962)\u001b[0m fc1.bias 1.430511474609375e-06\n",
      "\u001b[36m(launch_and_fit pid=5962)\u001b[0m fc2_mri.weight 1.6689300537109375e-06\n",
      "\u001b[36m(launch_and_fit pid=5962)\u001b[0m fc2_mri.bias 1.1920928955078125e-06\n",
      "\u001b[36m(launch_and_fit pid=5962)\u001b[0m fc2_dna.weight 1.1920928955078125e-06\n",
      "\u001b[36m(launch_and_fit pid=5962)\u001b[0m fc2_dna.bias 9.5367431640625e-07\n"
     ]
    },
    {
     "name": "stderr",
     "output_type": "stream",
     "text": [
      "100%|\u001b[34m██████████\u001b[0m| 10/10 [00:32<00:00,  3.27s/it]\n"
     ]
    },
    {
     "name": "stdout",
     "output_type": "stream",
     "text": [
      "\u001b[36m(launch_and_fit pid=5962)\u001b[0m Run with homomorphic encryption\n",
      "\u001b[36m(launch_and_fit pid=5961)\u001b[0m mri_net.features.0.weight 5.245208740234375e-06\n",
      "\u001b[36m(launch_and_fit pid=5961)\u001b[0m mri_net.features.0.bias 1.430511474609375e-06\n",
      "\u001b[36m(launch_and_fit pid=5961)\u001b[0m mri_net.features.3.weight 9.5367431640625e-07\n",
      "\u001b[36m(launch_and_fit pid=5961)\u001b[0m mri_net.features.3.bias 9.5367431640625e-07\n",
      "\u001b[36m(launch_and_fit pid=5961)\u001b[0m mri_net.classifier.0.weight 9.5367431640625e-07\n",
      "\u001b[36m(launch_and_fit pid=5961)\u001b[0m mri_net.classifier.0.bias 7.152557373046875e-07\n",
      "\u001b[36m(launch_and_fit pid=5961)\u001b[0m mri_net.classifier.2.weight 9.5367431640625e-07\n",
      "\u001b[36m(launch_and_fit pid=5961)\u001b[0m mri_net.classifier.2.bias 7.152557373046875e-07\n",
      "\u001b[36m(launch_and_fit pid=5961)\u001b[0m mri_net.classifier.3.weights 7.152557373046875e-07\n",
      "\u001b[36m(launch_and_fit pid=5961)\u001b[0m dna_net.fc1.weight 7.152557373046875e-07\n",
      "\u001b[36m(launch_and_fit pid=5961)\u001b[0m dna_net.fc1.bias 7.152557373046875e-07\n",
      "\u001b[36m(launch_and_fit pid=5961)\u001b[0m dna_net.fc2.weight 4.76837158203125e-07\n",
      "\u001b[36m(launch_and_fit pid=5961)\u001b[0m dna_net.fc2.bias 9.5367431640625e-07\n",
      "\u001b[36m(launch_and_fit pid=5961)\u001b[0m dna_net.fc3.weight 9.5367431640625e-07\n",
      "\u001b[36m(launch_and_fit pid=5961)\u001b[0m dna_net.fc3.bias 9.5367431640625e-07\n",
      "\u001b[36m(launch_and_fit pid=5961)\u001b[0m dna_net.fc4.weight 9.5367431640625e-07\n",
      "\u001b[36m(launch_and_fit pid=5961)\u001b[0m dna_net.fc4.bias 7.152557373046875e-07\n",
      "\u001b[36m(launch_and_fit pid=5961)\u001b[0m fc1.weight 9.5367431640625e-07\n",
      "\u001b[36m(launch_and_fit pid=5961)\u001b[0m fc1.bias 7.152557373046875e-07\n",
      "\u001b[36m(launch_and_fit pid=5961)\u001b[0m fc2_mri.weight 7.152557373046875e-07\n",
      "\u001b[36m(launch_and_fit pid=5961)\u001b[0m fc2_mri.bias 9.5367431640625e-07\n",
      "\u001b[36m(launch_and_fit pid=5961)\u001b[0m fc2_dna.weight 1.1920928955078125e-06\n",
      "\u001b[36m(launch_and_fit pid=5961)\u001b[0m fc2_dna.bias 1.6689300537109375e-06\n",
      "\u001b[36m(launch_and_fit pid=5962)\u001b[0m [Client 2, round 1] fit, config: {'learning_rate': 0.003, 'batch_size': '32', 'server_round': 1, 'local_epochs': 10}\n",
      "\u001b[36m(launch_and_fit pid=5961)\u001b[0m \tTrain Epoch: 10 \tTrain_loss_mri: 1.3949 | Train_acc_mri: 26.0417 | Train_loss_dna: 1.8600 | Train_acc_dna: 30.2083 | Validation_loss_mri: 1.3867 | Validation_acc_mri: 25.0000 | Validation_loss_dna: 1.8423 | Validation_acc_dna: 12.5000\u001b[32m [repeated 3x across cluster]\u001b[0m\n",
      "\u001b[36m(launch_and_fit pid=5962)\u001b[0m Updated model\n"
     ]
    },
    {
     "name": "stderr",
     "output_type": "stream",
     "text": [
      "  0%|\u001b[34m          \u001b[0m| 0/10 [00:00<?, ?it/s]\n"
     ]
    },
    {
     "name": "stdout",
     "output_type": "stream",
     "text": [
      "\u001b[36m(launch_and_fit pid=5961)\u001b[0m save graph in  results/FL/\n",
      "\u001b[36m(launch_and_fit pid=5961)\u001b[0m dna_net.qnn.weights 9.5367431640625e-07\n",
      "\u001b[36m(launch_and_fit pid=5961)\u001b[0m attention.in_proj_weight 7.152557373046875e-07\n",
      "\u001b[36m(launch_and_fit pid=5961)\u001b[0m attention.in_proj_bias 9.5367431640625e-07\n",
      "\u001b[36m(launch_and_fit pid=5961)\u001b[0m attention.out_proj.weight 9.5367431640625e-07\n",
      "\u001b[36m(launch_and_fit pid=5961)\u001b[0m attention.out_proj.bias 7.152557373046875e-07\n",
      "\u001b[36m(launch_and_fit pid=5961)\u001b[0m Run with homomorphic encryption\n",
      "\u001b[36m(launch_and_fit pid=5961)\u001b[0m [Client 1, round 1] fit, config: {'learning_rate': 0.003, 'batch_size': '32', 'server_round': 1, 'local_epochs': 10}\n"
     ]
    },
    {
     "name": "stderr",
     "output_type": "stream",
     "text": [
      " 10%|\u001b[34m█         \u001b[0m| 1/10 [00:03<00:32,  3.58s/it]\n",
      " 10%|\u001b[34m█         \u001b[0m| 1/10 [00:03<00:32,  3.56s/it]\n"
     ]
    },
    {
     "name": "stdout",
     "output_type": "stream",
     "text": [
      "\u001b[36m(launch_and_fit pid=5961)\u001b[0m \tTrain Epoch: 1 \tTrain_loss_mri: 1.3912 | Train_acc_mri: 23.9583 | Train_loss_dna: 1.9481 | Train_acc_dna: 5.2083 | Validation_loss_mri: 1.3629 | Validation_acc_mri: 25.0000 | Validation_loss_dna: 1.9339 | Validation_acc_dna: 25.0000\u001b[32m [repeated 2x across cluster]\u001b[0m\n",
      "\u001b[36m(launch_and_fit pid=5961)\u001b[0m Updated model\n"
     ]
    },
    {
     "name": "stderr",
     "output_type": "stream",
     "text": [
      " 20%|\u001b[34m██        \u001b[0m| 2/10 [00:06<00:26,  3.34s/it]\n",
      "  0%|\u001b[34m          \u001b[0m| 0/10 [00:00<?, ?it/s]\n",
      " 20%|\u001b[34m██        \u001b[0m| 2/10 [00:06<00:26,  3.29s/it]\n"
     ]
    },
    {
     "name": "stdout",
     "output_type": "stream",
     "text": [
      "\u001b[36m(launch_and_fit pid=5962)\u001b[0m \tTrain Epoch: 3 \tTrain_loss_mri: 1.3974 | Train_acc_mri: 26.0417 | Train_loss_dna: 1.8790 | Train_acc_dna: 18.7500 | Validation_loss_mri: 1.4235 | Validation_acc_mri: 0.0000 | Validation_loss_dna: 1.8750 | Validation_acc_dna: 37.5000\u001b[32m [repeated 3x across cluster]\u001b[0m\n"
     ]
    },
    {
     "name": "stderr",
     "output_type": "stream",
     "text": [
      " 30%|\u001b[34m███       \u001b[0m| 3/10 [00:09<00:23,  3.30s/it]\n",
      " 30%|\u001b[34m███       \u001b[0m| 3/10 [00:09<00:22,  3.26s/it]\n",
      " 40%|\u001b[34m████      \u001b[0m| 4/10 [00:13<00:19,  3.27s/it]\n",
      " 40%|\u001b[34m████      \u001b[0m| 4/10 [00:13<00:19,  3.21s/it]\n"
     ]
    },
    {
     "name": "stdout",
     "output_type": "stream",
     "text": [
      "\u001b[36m(launch_and_fit pid=5962)\u001b[0m \tTrain Epoch: 5 \tTrain_loss_mri: 1.3755 | Train_acc_mri: 29.1667 | Train_loss_dna: 1.8366 | Train_acc_dna: 27.0833 | Validation_loss_mri: 1.4225 | Validation_acc_mri: 0.0000 | Validation_loss_dna: 1.8764 | Validation_acc_dna: 25.0000\u001b[32m [repeated 4x across cluster]\u001b[0m\n"
     ]
    },
    {
     "name": "stderr",
     "output_type": "stream",
     "text": [
      " 50%|\u001b[34m█████     \u001b[0m| 5/10 [00:16<00:15,  3.18s/it]\n",
      " 50%|\u001b[34m█████     \u001b[0m| 5/10 [00:16<00:15,  3.20s/it]\n",
      " 60%|\u001b[34m██████    \u001b[0m| 6/10 [00:19<00:12,  3.11s/it]\n",
      " 60%|\u001b[34m██████    \u001b[0m| 6/10 [00:19<00:12,  3.21s/it]\n"
     ]
    },
    {
     "name": "stdout",
     "output_type": "stream",
     "text": [
      "\u001b[36m(launch_and_fit pid=5962)\u001b[0m \tTrain Epoch: 7 \tTrain_loss_mri: 1.3909 | Train_acc_mri: 26.0417 | Train_loss_dna: 1.8102 | Train_acc_dna: 26.0417 | Validation_loss_mri: 1.4154 | Validation_acc_mri: 0.0000 | Validation_loss_dna: 1.8672 | Validation_acc_dna: 37.5000\u001b[32m [repeated 4x across cluster]\u001b[0m\n"
     ]
    },
    {
     "name": "stderr",
     "output_type": "stream",
     "text": [
      " 70%|\u001b[34m███████   \u001b[0m| 7/10 [00:22<00:09,  3.23s/it]\n",
      " 70%|\u001b[34m███████   \u001b[0m| 7/10 [00:22<00:09,  3.27s/it]\n",
      " 80%|\u001b[34m████████  \u001b[0m| 8/10 [00:25<00:06,  3.21s/it]\n",
      " 80%|\u001b[34m████████  \u001b[0m| 8/10 [00:25<00:06,  3.21s/it]\n"
     ]
    },
    {
     "name": "stdout",
     "output_type": "stream",
     "text": [
      "\u001b[36m(launch_and_fit pid=5962)\u001b[0m \tTrain Epoch: 9 \tTrain_loss_mri: 1.3863 | Train_acc_mri: 29.1667 | Train_loss_dna: 1.7983 | Train_acc_dna: 26.0417 | Validation_loss_mri: 1.4148 | Validation_acc_mri: 0.0000 | Validation_loss_dna: 1.8665 | Validation_acc_dna: 37.5000\u001b[32m [repeated 4x across cluster]\u001b[0m\n"
     ]
    },
    {
     "name": "stderr",
     "output_type": "stream",
     "text": [
      " 90%|\u001b[34m█████████ \u001b[0m| 9/10 [00:28<00:03,  3.17s/it]\n",
      " 90%|\u001b[34m█████████ \u001b[0m| 9/10 [00:28<00:03,  3.14s/it]\n"
     ]
    },
    {
     "name": "stdout",
     "output_type": "stream",
     "text": [
      "\u001b[36m(launch_and_fit pid=5962)\u001b[0m save graph in  results/FL/\n"
     ]
    },
    {
     "name": "stderr",
     "output_type": "stream",
     "text": [
      "100%|\u001b[34m██████████\u001b[0m| 10/10 [00:32<00:00,  3.20s/it]\n"
     ]
    },
    {
     "name": "stdout",
     "output_type": "stream",
     "text": [
      "\u001b[36m(launch_and_fit pid=5962)\u001b[0m mri_net.features.0.weight 6.198883056640625e-06\n",
      "\u001b[36m(launch_and_fit pid=5962)\u001b[0m mri_net.features.0.bias 2.6226043701171875e-06\n",
      "\u001b[36m(launch_and_fit pid=5962)\u001b[0m mri_net.features.3.weight 1.1920928955078125e-06\n",
      "\u001b[36m(launch_and_fit pid=5962)\u001b[0m mri_net.features.3.bias 1.430511474609375e-06\n",
      "\u001b[36m(launch_and_fit pid=5962)\u001b[0m mri_net.classifier.0.weight 1.1920928955078125e-06\n",
      "\u001b[36m(launch_and_fit pid=5962)\u001b[0m mri_net.classifier.0.bias 1.1920928955078125e-06\n",
      "\u001b[36m(launch_and_fit pid=5962)\u001b[0m mri_net.classifier.2.weight 9.5367431640625e-07\n",
      "\u001b[36m(launch_and_fit pid=5962)\u001b[0m mri_net.classifier.2.bias 9.5367431640625e-07\n",
      "\u001b[36m(launch_and_fit pid=5962)\u001b[0m mri_net.classifier.3.weights 9.5367431640625e-07\n",
      "\u001b[36m(launch_and_fit pid=5962)\u001b[0m dna_net.fc1.weight 9.5367431640625e-07\n",
      "\u001b[36m(launch_and_fit pid=5962)\u001b[0m dna_net.fc1.bias 1.430511474609375e-06\n",
      "\u001b[36m(launch_and_fit pid=5962)\u001b[0m dna_net.fc2.weight 1.1920928955078125e-06\n",
      "\u001b[36m(launch_and_fit pid=5962)\u001b[0m dna_net.fc2.bias 9.5367431640625e-07\n",
      "\u001b[36m(launch_and_fit pid=5962)\u001b[0m dna_net.fc3.weight 1.1920928955078125e-06\n",
      "\u001b[36m(launch_and_fit pid=5962)\u001b[0m dna_net.fc3.bias 9.5367431640625e-07\n",
      "\u001b[36m(launch_and_fit pid=5962)\u001b[0m dna_net.fc4.weight 9.5367431640625e-07\n",
      "\u001b[36m(launch_and_fit pid=5962)\u001b[0m dna_net.fc4.bias 9.5367431640625e-07\n",
      "\u001b[36m(launch_and_fit pid=5962)\u001b[0m dna_net.qnn.weights 1.1920928955078125e-06\n",
      "\u001b[36m(launch_and_fit pid=5962)\u001b[0m attention.in_proj_weight 9.5367431640625e-07\n",
      "\u001b[36m(launch_and_fit pid=5962)\u001b[0m attention.in_proj_bias 1.1920928955078125e-06\n",
      "\u001b[36m(launch_and_fit pid=5962)\u001b[0m attention.out_proj.weight 9.5367431640625e-07\n",
      "\u001b[36m(launch_and_fit pid=5962)\u001b[0m attention.out_proj.bias 7.152557373046875e-07\n",
      "\u001b[36m(launch_and_fit pid=5962)\u001b[0m fc1.weight 1.1920928955078125e-06\n",
      "\u001b[36m(launch_and_fit pid=5962)\u001b[0m fc1.bias 9.5367431640625e-07\n",
      "\u001b[36m(launch_and_fit pid=5962)\u001b[0m fc2_mri.weight 1.430511474609375e-06\n",
      "\u001b[36m(launch_and_fit pid=5962)\u001b[0m fc2_mri.bias 1.6689300537109375e-06\n",
      "\u001b[36m(launch_and_fit pid=5962)\u001b[0m fc2_dna.weight 1.430511474609375e-06\n",
      "\u001b[36m(launch_and_fit pid=5962)\u001b[0m fc2_dna.bias 1.430511474609375e-06\n"
     ]
    },
    {
     "name": "stderr",
     "output_type": "stream",
     "text": [
      "100%|\u001b[34m██████████\u001b[0m| 10/10 [00:32<00:00,  3.21s/it]\n"
     ]
    },
    {
     "name": "stdout",
     "output_type": "stream",
     "text": [
      "\u001b[36m(launch_and_fit pid=5962)\u001b[0m Run with homomorphic encryption\n",
      "\u001b[36m(launch_and_fit pid=5961)\u001b[0m mri_net.features.0.weight 5.0067901611328125e-06\n",
      "\u001b[36m(launch_and_fit pid=5961)\u001b[0m mri_net.features.0.bias 1.1920928955078125e-06\n",
      "\u001b[36m(launch_and_fit pid=5961)\u001b[0m mri_net.features.3.weight 4.76837158203125e-07\n",
      "\u001b[36m(launch_and_fit pid=5961)\u001b[0m mri_net.features.3.bias 7.152557373046875e-07\n",
      "\u001b[36m(launch_and_fit pid=5961)\u001b[0m mri_net.classifier.0.weight 9.5367431640625e-07\n",
      "\u001b[36m(launch_and_fit pid=5961)\u001b[0m mri_net.classifier.0.bias 9.5367431640625e-07\n",
      "\u001b[36m(launch_and_fit pid=5961)\u001b[0m mri_net.classifier.2.weight 7.152557373046875e-07\n",
      "\u001b[36m(launch_and_fit pid=5961)\u001b[0m mri_net.classifier.2.bias 7.152557373046875e-07\n",
      "\u001b[36m(launch_and_fit pid=5961)\u001b[0m mri_net.classifier.3.weights 9.5367431640625e-07\n",
      "\u001b[36m(launch_and_fit pid=5961)\u001b[0m dna_net.fc1.weight 4.76837158203125e-07\n",
      "\u001b[36m(launch_and_fit pid=5961)\u001b[0m dna_net.fc1.bias 7.152557373046875e-07\n",
      "\u001b[36m(launch_and_fit pid=5961)\u001b[0m dna_net.fc2.weight 4.76837158203125e-07\n",
      "\u001b[36m(launch_and_fit pid=5961)\u001b[0m dna_net.fc2.bias 4.76837158203125e-07\n",
      "\u001b[36m(launch_and_fit pid=5961)\u001b[0m dna_net.fc3.weight 4.76837158203125e-07\n",
      "\u001b[36m(launch_and_fit pid=5961)\u001b[0m dna_net.fc3.bias 4.76837158203125e-07\n",
      "\u001b[36m(launch_and_fit pid=5961)\u001b[0m dna_net.fc4.weight 4.76837158203125e-07\n",
      "\u001b[36m(launch_and_fit pid=5961)\u001b[0m dna_net.fc4.bias 7.152557373046875e-07\n",
      "\u001b[36m(launch_and_fit pid=5961)\u001b[0m fc1.weight 4.76837158203125e-07\n",
      "\u001b[36m(launch_and_fit pid=5961)\u001b[0m fc1.bias 7.152557373046875e-07\n",
      "\u001b[36m(launch_and_fit pid=5961)\u001b[0m fc2_mri.weight 7.152557373046875e-07\n",
      "\u001b[36m(launch_and_fit pid=5961)\u001b[0m fc2_mri.bias 7.152557373046875e-07\n",
      "\u001b[36m(launch_and_fit pid=5961)\u001b[0m fc2_dna.weight 9.5367431640625e-07\n",
      "\u001b[36m(launch_and_fit pid=5961)\u001b[0m fc2_dna.bias 4.76837158203125e-07\n",
      "\u001b[36m(launch_and_fit pid=5962)\u001b[0m [Client 0, round 1] fit, config: {'learning_rate': 0.003, 'batch_size': '32', 'server_round': 1, 'local_epochs': 10}\n",
      "\u001b[36m(launch_and_fit pid=5961)\u001b[0m \tTrain Epoch: 10 \tTrain_loss_mri: 1.3758 | Train_acc_mri: 30.2083 | Train_loss_dna: 1.9148 | Train_acc_dna: 28.1250 | Validation_loss_mri: 1.3188 | Validation_acc_mri: 50.0000 | Validation_loss_dna: 2.0737 | Validation_acc_dna: 0.0000\u001b[32m [repeated 3x across cluster]\u001b[0m\n",
      "\u001b[36m(launch_and_fit pid=5962)\u001b[0m Updated model\n"
     ]
    },
    {
     "name": "stderr",
     "output_type": "stream",
     "text": [
      "  0%|\u001b[34m          \u001b[0m| 0/10 [00:00<?, ?it/s]\n"
     ]
    },
    {
     "name": "stdout",
     "output_type": "stream",
     "text": [
      "\u001b[36m(launch_and_fit pid=5961)\u001b[0m save graph in  results/FL/\n",
      "\u001b[36m(launch_and_fit pid=5961)\u001b[0m dna_net.qnn.weights 7.152557373046875e-07\n",
      "\u001b[36m(launch_and_fit pid=5961)\u001b[0m attention.in_proj_weight 7.152557373046875e-07\n",
      "\u001b[36m(launch_and_fit pid=5961)\u001b[0m attention.in_proj_bias 7.152557373046875e-07\n",
      "\u001b[36m(launch_and_fit pid=5961)\u001b[0m attention.out_proj.weight 7.152557373046875e-07\n",
      "\u001b[36m(launch_and_fit pid=5961)\u001b[0m attention.out_proj.bias 4.76837158203125e-07\n",
      "\u001b[36m(launch_and_fit pid=5961)\u001b[0m Run with homomorphic encryption\n",
      "\u001b[36m(launch_and_fit pid=5961)\u001b[0m [Client 5, round 1] fit, config: {'learning_rate': 0.003, 'batch_size': '32', 'server_round': 1, 'local_epochs': 10}\n"
     ]
    },
    {
     "name": "stderr",
     "output_type": "stream",
     "text": [
      " 10%|\u001b[34m█         \u001b[0m| 1/10 [00:03<00:34,  3.84s/it]\n",
      " 10%|\u001b[34m█         \u001b[0m| 1/10 [00:03<00:32,  3.57s/it]\n"
     ]
    },
    {
     "name": "stdout",
     "output_type": "stream",
     "text": [
      "\u001b[36m(launch_and_fit pid=5961)\u001b[0m \tTrain Epoch: 1 \tTrain_loss_mri: 1.3723 | Train_acc_mri: 34.3750 | Train_loss_dna: 1.9038 | Train_acc_dna: 17.7083 | Validation_loss_mri: 1.4444 | Validation_acc_mri: 12.5000 | Validation_loss_dna: 1.9132 | Validation_acc_dna: 25.0000\u001b[32m [repeated 2x across cluster]\u001b[0m\n",
      "\u001b[36m(launch_and_fit pid=5961)\u001b[0m Updated model\n"
     ]
    },
    {
     "name": "stderr",
     "output_type": "stream",
     "text": [
      " 20%|\u001b[34m██        \u001b[0m| 2/10 [00:07<00:28,  3.58s/it]\n",
      "  0%|\u001b[34m          \u001b[0m| 0/10 [00:00<?, ?it/s]\n",
      " 20%|\u001b[34m██        \u001b[0m| 2/10 [00:06<00:26,  3.35s/it]\n",
      " 30%|\u001b[34m███       \u001b[0m| 3/10 [00:10<00:23,  3.40s/it]\n",
      " 30%|\u001b[34m███       \u001b[0m| 3/10 [00:10<00:25,  3.58s/it]\n"
     ]
    },
    {
     "name": "stdout",
     "output_type": "stream",
     "text": [
      "\u001b[36m(launch_and_fit pid=5961)\u001b[0m \tTrain Epoch: 3 \tTrain_loss_mri: 1.3371 | Train_acc_mri: 40.6250 | Train_loss_dna: 1.8246 | Train_acc_dna: 33.3333 | Validation_loss_mri: 1.4990 | Validation_acc_mri: 12.5000 | Validation_loss_dna: 1.8723 | Validation_acc_dna: 25.0000\u001b[32m [repeated 3x across cluster]\u001b[0m\n"
     ]
    },
    {
     "name": "stderr",
     "output_type": "stream",
     "text": [
      " 40%|\u001b[34m████      \u001b[0m| 4/10 [00:13<00:20,  3.35s/it]\n",
      " 40%|\u001b[34m████      \u001b[0m| 4/10 [00:14<00:20,  3.50s/it]\n",
      " 50%|\u001b[34m█████     \u001b[0m| 5/10 [00:16<00:16,  3.21s/it]\n"
     ]
    },
    {
     "name": "stdout",
     "output_type": "stream",
     "text": [
      "\u001b[36m(launch_and_fit pid=5961)\u001b[0m \tTrain Epoch: 5 \tTrain_loss_mri: 1.4014 | Train_acc_mri: 31.2500 | Train_loss_dna: 1.8123 | Train_acc_dna: 33.3333 | Validation_loss_mri: 1.5617 | Validation_acc_mri: 12.5000 | Validation_loss_dna: 1.8765 | Validation_acc_dna: 25.0000\u001b[32m [repeated 4x across cluster]\u001b[0m\n"
     ]
    },
    {
     "name": "stderr",
     "output_type": "stream",
     "text": [
      " 50%|\u001b[34m█████     \u001b[0m| 5/10 [00:17<00:16,  3.35s/it]\n",
      " 60%|\u001b[34m██████    \u001b[0m| 6/10 [00:19<00:12,  3.15s/it]\n",
      " 60%|\u001b[34m██████    \u001b[0m| 6/10 [00:20<00:13,  3.28s/it]\n",
      " 70%|\u001b[34m███████   \u001b[0m| 7/10 [00:22<00:09,  3.09s/it]\n"
     ]
    },
    {
     "name": "stdout",
     "output_type": "stream",
     "text": [
      "\u001b[36m(launch_and_fit pid=5961)\u001b[0m \tTrain Epoch: 7 \tTrain_loss_mri: 1.3396 | Train_acc_mri: 37.5000 | Train_loss_dna: 1.6531 | Train_acc_dna: 39.5833 | Validation_loss_mri: 1.5380 | Validation_acc_mri: 12.5000 | Validation_loss_dna: 1.9067 | Validation_acc_dna: 25.0000\u001b[32m [repeated 4x across cluster]\u001b[0m\n"
     ]
    },
    {
     "name": "stderr",
     "output_type": "stream",
     "text": [
      " 70%|\u001b[34m███████   \u001b[0m| 7/10 [00:23<00:09,  3.18s/it]\n",
      " 80%|\u001b[34m████████  \u001b[0m| 8/10 [00:25<00:06,  3.06s/it]\n",
      " 80%|\u001b[34m████████  \u001b[0m| 8/10 [00:26<00:06,  3.14s/it]\n",
      " 90%|\u001b[34m█████████ \u001b[0m| 9/10 [00:28<00:03,  3.03s/it]\n"
     ]
    },
    {
     "name": "stdout",
     "output_type": "stream",
     "text": [
      "\u001b[36m(launch_and_fit pid=5961)\u001b[0m \tTrain Epoch: 9 \tTrain_loss_mri: 1.3224 | Train_acc_mri: 40.6250 | Train_loss_dna: 1.5742 | Train_acc_dna: 42.7083 | Validation_loss_mri: 1.5375 | Validation_acc_mri: 12.5000 | Validation_loss_dna: 1.9661 | Validation_acc_dna: 25.0000\u001b[32m [repeated 4x across cluster]\u001b[0m\n"
     ]
    },
    {
     "name": "stderr",
     "output_type": "stream",
     "text": [
      " 90%|\u001b[34m█████████ \u001b[0m| 9/10 [00:29<00:03,  3.14s/it]\n",
      "100%|\u001b[34m██████████\u001b[0m| 10/10 [00:31<00:00,  3.14s/it]\n"
     ]
    },
    {
     "name": "stdout",
     "output_type": "stream",
     "text": [
      "\u001b[36m(launch_and_fit pid=5961)\u001b[0m save graph in  results/FL/\n"
     ]
    },
    {
     "name": "stderr",
     "output_type": "stream",
     "text": [
      "100%|\u001b[34m██████████\u001b[0m| 10/10 [00:32<00:00,  3.26s/it]\n"
     ]
    },
    {
     "name": "stdout",
     "output_type": "stream",
     "text": [
      "\u001b[36m(launch_and_fit pid=5962)\u001b[0m mri_net.features.0.weight 3.814697265625e-06\n",
      "\u001b[36m(launch_and_fit pid=5962)\u001b[0m mri_net.features.0.bias 1.430511474609375e-06\n",
      "\u001b[36m(launch_and_fit pid=5962)\u001b[0m mri_net.features.3.weight 4.76837158203125e-07\n",
      "\u001b[36m(launch_and_fit pid=5962)\u001b[0m mri_net.features.3.bias 2.384185791015625e-07\n",
      "\u001b[36m(launch_and_fit pid=5962)\u001b[0m mri_net.classifier.0.weight 4.76837158203125e-07\n",
      "\u001b[36m(launch_and_fit pid=5962)\u001b[0m mri_net.classifier.0.bias 2.384185791015625e-07\n",
      "\u001b[36m(launch_and_fit pid=5962)\u001b[0m mri_net.classifier.2.weight 2.384185791015625e-07\n",
      "\u001b[36m(launch_and_fit pid=5962)\u001b[0m mri_net.classifier.2.bias 2.384185791015625e-07\n",
      "\u001b[36m(launch_and_fit pid=5962)\u001b[0m mri_net.classifier.3.weights 4.76837158203125e-07\n",
      "\u001b[36m(launch_and_fit pid=5962)\u001b[0m dna_net.fc1.weight 7.152557373046875e-07\n",
      "\u001b[36m(launch_and_fit pid=5962)\u001b[0m dna_net.fc1.bias 4.76837158203125e-07\n",
      "\u001b[36m(launch_and_fit pid=5962)\u001b[0m dna_net.fc2.weight 4.76837158203125e-07\n",
      "\u001b[36m(launch_and_fit pid=5962)\u001b[0m dna_net.fc2.bias 2.384185791015625e-07\n",
      "\u001b[36m(launch_and_fit pid=5962)\u001b[0m dna_net.fc3.weight 2.384185791015625e-07\n",
      "\u001b[36m(launch_and_fit pid=5962)\u001b[0m dna_net.fc3.bias 7.152557373046875e-07\n",
      "\u001b[36m(launch_and_fit pid=5962)\u001b[0m dna_net.fc4.weight 4.76837158203125e-07\n",
      "\u001b[36m(launch_and_fit pid=5962)\u001b[0m dna_net.fc4.bias 4.76837158203125e-07\n",
      "\u001b[36m(launch_and_fit pid=5962)\u001b[0m dna_net.qnn.weights 2.384185791015625e-07\n",
      "\u001b[36m(launch_and_fit pid=5962)\u001b[0m attention.in_proj_weight 1.1920928955078125e-06\n",
      "\u001b[36m(launch_and_fit pid=5962)\u001b[0m attention.in_proj_bias 4.76837158203125e-07\n",
      "\u001b[36m(launch_and_fit pid=5962)\u001b[0m attention.out_proj.weight 4.76837158203125e-07\n",
      "\u001b[36m(launch_and_fit pid=5962)\u001b[0m attention.out_proj.bias 1.430511474609375e-06\n",
      "\u001b[36m(launch_and_fit pid=5962)\u001b[0m fc1.weight 9.5367431640625e-07\n",
      "\u001b[36m(launch_and_fit pid=5962)\u001b[0m fc1.bias 4.76837158203125e-07\n",
      "\u001b[36m(launch_and_fit pid=5962)\u001b[0m fc2_mri.weight 4.76837158203125e-07\n",
      "\u001b[36m(launch_and_fit pid=5962)\u001b[0m fc2_mri.bias 2.384185791015625e-07\n",
      "\u001b[36m(launch_and_fit pid=5962)\u001b[0m fc2_dna.weight 4.76837158203125e-07\n",
      "\u001b[36m(launch_and_fit pid=5962)\u001b[0m fc2_dna.bias 4.76837158203125e-07\n",
      "\u001b[36m(launch_and_fit pid=5962)\u001b[0m Run with homomorphic encryption\n",
      "\u001b[36m(launch_and_fit pid=5962)\u001b[0m [Client 6, round 1] fit, config: {'learning_rate': 0.003, 'batch_size': '32', 'server_round': 1, 'local_epochs': 10}\n",
      "\u001b[36m(launch_and_fit pid=5961)\u001b[0m mri_net.features.0.weight 4.76837158203125e-06\n",
      "\u001b[36m(launch_and_fit pid=5961)\u001b[0m mri_net.features.0.bias 1.6689300537109375e-06\n",
      "\u001b[36m(launch_and_fit pid=5961)\u001b[0m mri_net.features.3.weight 9.5367431640625e-07\n",
      "\u001b[36m(launch_and_fit pid=5961)\u001b[0m mri_net.features.3.bias 9.5367431640625e-07\n",
      "\u001b[36m(launch_and_fit pid=5961)\u001b[0m mri_net.classifier.0.weight 1.1920928955078125e-06\n",
      "\u001b[36m(launch_and_fit pid=5961)\u001b[0m mri_net.classifier.0.bias 9.5367431640625e-07\n",
      "\u001b[36m(launch_and_fit pid=5961)\u001b[0m mri_net.classifier.2.weight 9.5367431640625e-07\n",
      "\u001b[36m(launch_and_fit pid=5961)\u001b[0m mri_net.classifier.2.bias 7.152557373046875e-07\n",
      "\u001b[36m(launch_and_fit pid=5961)\u001b[0m mri_net.classifier.3.weights 9.5367431640625e-07\n",
      "\u001b[36m(launch_and_fit pid=5961)\u001b[0m dna_net.fc1.weight 9.5367431640625e-07\n",
      "\u001b[36m(launch_and_fit pid=5961)\u001b[0m dna_net.fc1.bias 7.152557373046875e-07\n",
      "\u001b[36m(launch_and_fit pid=5961)\u001b[0m dna_net.fc2.weight 7.152557373046875e-07\n",
      "\u001b[36m(launch_and_fit pid=5961)\u001b[0m dna_net.fc2.bias 4.76837158203125e-07\n",
      "\u001b[36m(launch_and_fit pid=5961)\u001b[0m dna_net.fc3.weight 7.152557373046875e-07\n",
      "\u001b[36m(launch_and_fit pid=5961)\u001b[0m dna_net.fc3.bias 4.76837158203125e-07\n",
      "\u001b[36m(launch_and_fit pid=5961)\u001b[0m dna_net.fc4.weight 4.76837158203125e-07\n",
      "\u001b[36m(launch_and_fit pid=5961)\u001b[0m dna_net.fc4.bias 7.152557373046875e-07\n",
      "\u001b[36m(launch_and_fit pid=5961)\u001b[0m fc1.weight 1.1920928955078125e-06\n",
      "\u001b[36m(launch_and_fit pid=5961)\u001b[0m fc1.bias 7.152557373046875e-07\n",
      "\u001b[36m(launch_and_fit pid=5961)\u001b[0m fc2_mri.weight 7.152557373046875e-07\n",
      "\u001b[36m(launch_and_fit pid=5961)\u001b[0m fc2_mri.bias 7.152557373046875e-07\n",
      "\u001b[36m(launch_and_fit pid=5961)\u001b[0m fc2_dna.weight 9.5367431640625e-07\n",
      "\u001b[36m(launch_and_fit pid=5961)\u001b[0m fc2_dna.bias 4.76837158203125e-07\n",
      "\u001b[36m(launch_and_fit pid=5962)\u001b[0m \tTrain Epoch: 10 \tTrain_loss_mri: 1.3808 | Train_acc_mri: 34.3750 | Train_loss_dna: 1.8613 | Train_acc_dna: 27.0833 | Validation_loss_mri: 1.4778 | Validation_acc_mri: 12.5000 | Validation_loss_dna: 1.5130 | Validation_acc_dna: 62.5000\u001b[32m [repeated 3x across cluster]\u001b[0m\n",
      "\u001b[36m(launch_and_fit pid=5962)\u001b[0m Updated model\n"
     ]
    },
    {
     "name": "stderr",
     "output_type": "stream",
     "text": [
      "  0%|\u001b[34m          \u001b[0m| 0/10 [00:00<?, ?it/s]\n"
     ]
    },
    {
     "name": "stdout",
     "output_type": "stream",
     "text": [
      "\u001b[36m(launch_and_fit pid=5962)\u001b[0m save graph in  results/FL/\n",
      "\u001b[36m(launch_and_fit pid=5961)\u001b[0m dna_net.qnn.weights 7.152557373046875e-07\n",
      "\u001b[36m(launch_and_fit pid=5961)\u001b[0m attention.in_proj_weight 7.152557373046875e-07\n",
      "\u001b[36m(launch_and_fit pid=5961)\u001b[0m attention.in_proj_bias 4.76837158203125e-07\n",
      "\u001b[36m(launch_and_fit pid=5961)\u001b[0m attention.out_proj.weight 9.5367431640625e-07\n",
      "\u001b[36m(launch_and_fit pid=5961)\u001b[0m attention.out_proj.bias 7.152557373046875e-07\n",
      "\u001b[36m(launch_and_fit pid=5961)\u001b[0m Run with homomorphic encryption\n",
      "\u001b[36m(launch_and_fit pid=5961)\u001b[0m [Client 4, round 1] fit, config: {'learning_rate': 0.003, 'batch_size': '32', 'server_round': 1, 'local_epochs': 10}\n",
      "\u001b[36m(launch_and_fit pid=5962)\u001b[0m \tTrain Epoch: 1 \tTrain_loss_mri: 1.4071 | Train_acc_mri: 19.7917 | Train_loss_dna: 1.9391 | Train_acc_dna: 9.3750 | Validation_loss_mri: 1.3918 | Validation_acc_mri: 25.0000 | Validation_loss_dna: 1.9495 | Validation_acc_dna: 12.5000\n"
     ]
    },
    {
     "name": "stderr",
     "output_type": "stream",
     "text": [
      " 10%|\u001b[34m█         \u001b[0m| 1/10 [00:04<00:43,  4.81s/it]\n",
      " 10%|\u001b[34m█         \u001b[0m| 1/10 [00:04<00:40,  4.48s/it]\n"
     ]
    },
    {
     "name": "stdout",
     "output_type": "stream",
     "text": [
      "\u001b[36m(launch_and_fit pid=5961)\u001b[0m \tTrain Epoch: 1 \tTrain_loss_mri: 1.3785 | Train_acc_mri: 22.9167 | Train_loss_dna: 1.9277 | Train_acc_dna: 11.4583 | Validation_loss_mri: 1.4154 | Validation_acc_mri: 25.0000 | Validation_loss_dna: 1.9451 | Validation_acc_dna: 12.5000\n"
     ]
    },
    {
     "name": "stderr",
     "output_type": "stream",
     "text": [
      " 20%|\u001b[34m██        \u001b[0m| 2/10 [00:07<00:30,  3.82s/it]\n",
      "  0%|\u001b[34m          \u001b[0m| 0/10 [00:00<?, ?it/s]\n",
      " 20%|\u001b[34m██        \u001b[0m| 2/10 [00:08<00:32,  4.07s/it]\n"
     ]
    },
    {
     "name": "stdout",
     "output_type": "stream",
     "text": [
      "\u001b[36m(launch_and_fit pid=5961)\u001b[0m \tTrain Epoch: 2 \tTrain_loss_mri: 1.3835 | Train_acc_mri: 30.2083 | Train_loss_dna: 1.8901 | Train_acc_dna: 20.8333 | Validation_loss_mri: 1.4071 | Validation_acc_mri: 12.5000 | Validation_loss_dna: 1.9088 | Validation_acc_dna: 0.0000\n",
      "\u001b[36m(launch_and_fit pid=5961)\u001b[0m Updated model\n"
     ]
    },
    {
     "name": "stderr",
     "output_type": "stream",
     "text": [
      " 30%|\u001b[34m███       \u001b[0m| 3/10 [00:11<00:25,  3.65s/it]\n",
      " 30%|\u001b[34m███       \u001b[0m| 3/10 [00:11<00:26,  3.82s/it]\n"
     ]
    },
    {
     "name": "stdout",
     "output_type": "stream",
     "text": [
      "\u001b[36m(launch_and_fit pid=5961)\u001b[0m \tTrain Epoch: 3 \tTrain_loss_mri: 1.3843 | Train_acc_mri: 27.0833 | Train_loss_dna: 1.9063 | Train_acc_dna: 17.7083 | Validation_loss_mri: 1.3995 | Validation_acc_mri: 12.5000 | Validation_loss_dna: 1.8781 | Validation_acc_dna: 0.0000\u001b[32m [repeated 2x across cluster]\u001b[0m\n"
     ]
    },
    {
     "name": "stderr",
     "output_type": "stream",
     "text": [
      " 40%|\u001b[34m████      \u001b[0m| 4/10 [00:14<00:20,  3.47s/it]\n",
      " 40%|\u001b[34m████      \u001b[0m| 4/10 [00:15<00:21,  3.61s/it]\n",
      " 50%|\u001b[34m█████     \u001b[0m| 5/10 [00:17<00:16,  3.38s/it]\n",
      " 50%|\u001b[34m█████     \u001b[0m| 5/10 [00:18<00:17,  3.46s/it]\n"
     ]
    },
    {
     "name": "stdout",
     "output_type": "stream",
     "text": [
      "\u001b[36m(launch_and_fit pid=5961)\u001b[0m \tTrain Epoch: 5 \tTrain_loss_mri: 1.4037 | Train_acc_mri: 15.6250 | Train_loss_dna: 1.8293 | Train_acc_dna: 27.0833 | Validation_loss_mri: 1.4075 | Validation_acc_mri: 12.5000 | Validation_loss_dna: 1.8689 | Validation_acc_dna: 0.0000\u001b[32m [repeated 4x across cluster]\u001b[0m\n"
     ]
    },
    {
     "name": "stderr",
     "output_type": "stream",
     "text": [
      " 60%|\u001b[34m██████    \u001b[0m| 6/10 [00:20<00:13,  3.26s/it]\n",
      " 60%|\u001b[34m██████    \u001b[0m| 6/10 [00:21<00:13,  3.31s/it]\n",
      " 70%|\u001b[34m███████   \u001b[0m| 7/10 [00:24<00:09,  3.32s/it]\n",
      " 70%|\u001b[34m███████   \u001b[0m| 7/10 [00:24<00:09,  3.31s/it]\n"
     ]
    },
    {
     "name": "stdout",
     "output_type": "stream",
     "text": [
      "\u001b[36m(launch_and_fit pid=5961)\u001b[0m \tTrain Epoch: 7 \tTrain_loss_mri: 1.3944 | Train_acc_mri: 25.0000 | Train_loss_dna: 1.8081 | Train_acc_dna: 23.9583 | Validation_loss_mri: 1.3837 | Validation_acc_mri: 12.5000 | Validation_loss_dna: 1.8713 | Validation_acc_dna: 0.0000\u001b[32m [repeated 4x across cluster]\u001b[0m\n"
     ]
    },
    {
     "name": "stderr",
     "output_type": "stream",
     "text": [
      " 80%|\u001b[34m████████  \u001b[0m| 8/10 [00:27<00:06,  3.28s/it]\n",
      " 80%|\u001b[34m████████  \u001b[0m| 8/10 [00:27<00:06,  3.29s/it]\n"
     ]
    },
    {
     "name": "stdout",
     "output_type": "stream",
     "text": [
      "\u001b[36m(launch_and_fit pid=5962)\u001b[0m \tTrain Epoch: 9 \tTrain_loss_mri: 1.3738 | Train_acc_mri: 31.2500 | Train_loss_dna: 1.7733 | Train_acc_dna: 32.2917 | Validation_loss_mri: 1.3393 | Validation_acc_mri: 37.5000 | Validation_loss_dna: 1.9267 | Validation_acc_dna: 50.0000\u001b[32m [repeated 4x across cluster]\u001b[0m\n"
     ]
    },
    {
     "name": "stderr",
     "output_type": "stream",
     "text": [
      " 90%|\u001b[34m█████████ \u001b[0m| 9/10 [00:31<00:03,  3.26s/it]\n",
      " 90%|\u001b[34m█████████ \u001b[0m| 9/10 [00:30<00:03,  3.29s/it]\n",
      "100%|\u001b[34m██████████\u001b[0m| 10/10 [00:34<00:00,  3.40s/it]\n",
      "100%|\u001b[34m██████████\u001b[0m| 10/10 [00:34<00:00,  3.45s/it]\n"
     ]
    },
    {
     "name": "stdout",
     "output_type": "stream",
     "text": [
      "\u001b[36m(launch_and_fit pid=5961)\u001b[0m save graph in  results/FL/\n"
     ]
    },
    {
     "name": "stderr",
     "output_type": "stream",
     "text": [
      "DEBUG flwr 2024-08-05 04:09:20,468 | server.py:236 | fit_round 1 received 10 results and 0 failures\n"
     ]
    },
    {
     "name": "stdout",
     "output_type": "stream",
     "text": [
      "\u001b[36m(launch_and_fit pid=5962)\u001b[0m mri_net.features.0.weight 4.291534423828125e-06\n",
      "\u001b[36m(launch_and_fit pid=5962)\u001b[0m mri_net.features.0.bias 1.6689300537109375e-06\n",
      "\u001b[36m(launch_and_fit pid=5962)\u001b[0m mri_net.features.3.weight 1.1920928955078125e-06\n",
      "\u001b[36m(launch_and_fit pid=5962)\u001b[0m mri_net.features.3.bias 9.5367431640625e-07\n",
      "\u001b[36m(launch_and_fit pid=5962)\u001b[0m mri_net.classifier.0.weight 1.1920928955078125e-06\n",
      "\u001b[36m(launch_and_fit pid=5962)\u001b[0m mri_net.classifier.0.bias 9.5367431640625e-07\n",
      "\u001b[36m(launch_and_fit pid=5962)\u001b[0m mri_net.classifier.2.weight 1.1920928955078125e-06\n",
      "\u001b[36m(launch_and_fit pid=5962)\u001b[0m mri_net.classifier.2.bias 9.5367431640625e-07\n",
      "\u001b[36m(launch_and_fit pid=5962)\u001b[0m mri_net.classifier.3.weights 1.430511474609375e-06\n",
      "\u001b[36m(launch_and_fit pid=5962)\u001b[0m dna_net.fc1.weight 9.5367431640625e-07\n",
      "\u001b[36m(launch_and_fit pid=5962)\u001b[0m dna_net.fc1.bias 1.430511474609375e-06\n",
      "\u001b[36m(launch_and_fit pid=5962)\u001b[0m dna_net.fc2.weight 1.430511474609375e-06\n",
      "\u001b[36m(launch_and_fit pid=5962)\u001b[0m dna_net.fc2.bias 9.5367431640625e-07\n",
      "\u001b[36m(launch_and_fit pid=5962)\u001b[0m dna_net.fc3.weight 1.1920928955078125e-06\n",
      "\u001b[36m(launch_and_fit pid=5962)\u001b[0m dna_net.fc3.bias 1.1920928955078125e-06\n",
      "\u001b[36m(launch_and_fit pid=5962)\u001b[0m dna_net.fc4.weight 1.1920928955078125e-06\n",
      "\u001b[36m(launch_and_fit pid=5962)\u001b[0m dna_net.fc4.bias 7.152557373046875e-07\n",
      "\u001b[36m(launch_and_fit pid=5962)\u001b[0m dna_net.qnn.weights 1.1920928955078125e-06\n",
      "\u001b[36m(launch_and_fit pid=5962)\u001b[0m attention.in_proj_weight 7.152557373046875e-07\n",
      "\u001b[36m(launch_and_fit pid=5962)\u001b[0m attention.in_proj_bias 9.5367431640625e-07\n",
      "\u001b[36m(launch_and_fit pid=5962)\u001b[0m attention.out_proj.weight 1.1920928955078125e-06\n",
      "\u001b[36m(launch_and_fit pid=5962)\u001b[0m attention.out_proj.bias 1.1920928955078125e-06\n",
      "\u001b[36m(launch_and_fit pid=5962)\u001b[0m fc1.weight 1.1920928955078125e-06\n",
      "\u001b[36m(launch_and_fit pid=5962)\u001b[0m fc1.bias 9.5367431640625e-07\n",
      "\u001b[36m(launch_and_fit pid=5962)\u001b[0m fc2_mri.weight 7.152557373046875e-07\n",
      "\u001b[36m(launch_and_fit pid=5962)\u001b[0m fc2_mri.bias 9.5367431640625e-07\n",
      "\u001b[36m(launch_and_fit pid=5962)\u001b[0m fc2_dna.weight 1.1920928955078125e-06\n",
      "\u001b[36m(launch_and_fit pid=5962)\u001b[0m fc2_dna.bias 1.1920928955078125e-06\n",
      "\u001b[36m(launch_and_fit pid=5961)\u001b[0m mri_net.features.0.weight 4.5299530029296875e-06\n",
      "\u001b[36m(launch_and_fit pid=5961)\u001b[0m mri_net.features.0.bias 9.5367431640625e-07\n",
      "\u001b[36m(launch_and_fit pid=5961)\u001b[0m mri_net.features.3.weight 7.152557373046875e-07\n",
      "\u001b[36m(launch_and_fit pid=5961)\u001b[0m mri_net.features.3.bias 4.76837158203125e-07\n",
      "\u001b[36m(launch_and_fit pid=5961)\u001b[0m mri_net.classifier.0.weight 9.5367431640625e-07\n",
      "\u001b[36m(launch_and_fit pid=5961)\u001b[0m mri_net.classifier.0.bias 4.76837158203125e-07\n",
      "\u001b[36m(launch_and_fit pid=5961)\u001b[0m mri_net.classifier.2.weight 7.152557373046875e-07\n",
      "\u001b[36m(launch_and_fit pid=5961)\u001b[0m mri_net.classifier.2.bias 4.76837158203125e-07\n",
      "\u001b[36m(launch_and_fit pid=5961)\u001b[0m mri_net.classifier.3.weights 7.152557373046875e-07\n",
      "\u001b[36m(launch_and_fit pid=5961)\u001b[0m dna_net.fc1.weight 9.5367431640625e-07\n",
      "\u001b[36m(launch_and_fit pid=5961)\u001b[0m dna_net.fc1.bias 7.152557373046875e-07\n",
      "\u001b[36m(launch_and_fit pid=5961)\u001b[0m dna_net.fc2.weight 7.152557373046875e-07\n",
      "\u001b[36m(launch_and_fit pid=5961)\u001b[0m dna_net.fc2.bias 4.76837158203125e-07\n",
      "\u001b[36m(launch_and_fit pid=5961)\u001b[0m dna_net.fc3.weight 4.76837158203125e-07\n",
      "\u001b[36m(launch_and_fit pid=5961)\u001b[0m dna_net.fc3.bias 4.76837158203125e-07\n",
      "\u001b[36m(launch_and_fit pid=5961)\u001b[0m dna_net.fc4.weight 4.76837158203125e-07\n",
      "\u001b[36m(launch_and_fit pid=5961)\u001b[0m dna_net.fc4.bias 4.76837158203125e-07\n",
      "\u001b[36m(launch_and_fit pid=5961)\u001b[0m fc1.weight 7.152557373046875e-07\n",
      "\u001b[36m(launch_and_fit pid=5961)\u001b[0m fc1.bias 7.152557373046875e-07\n",
      "\u001b[36m(launch_and_fit pid=5961)\u001b[0m fc2_mri.weight 7.152557373046875e-07\n",
      "\u001b[36m(launch_and_fit pid=5961)\u001b[0m fc2_mri.bias 7.152557373046875e-07\n",
      "\u001b[36m(launch_and_fit pid=5961)\u001b[0m fc2_dna.weight 4.76837158203125e-07\n",
      "\u001b[36m(launch_and_fit pid=5961)\u001b[0m fc2_dna.bias 4.76837158203125e-07\n"
     ]
    },
    {
     "name": "stderr",
     "output_type": "stream",
     "text": [
      "WARNING flwr 2024-08-05 04:09:21,750 | 3890383987.py:131 | No fit_metrics_aggregation_fn provided\n"
     ]
    },
    {
     "name": "stdout",
     "output_type": "stream",
     "text": [
      "Saving round 1 aggregated_parameters...\n"
     ]
    },
    {
     "name": "stderr",
     "output_type": "stream",
     "text": [
      "DEBUG flwr 2024-08-05 04:09:22,439 | server.py:173 | evaluate_round 1: strategy sampled 10 clients (out of 10)\n"
     ]
    },
    {
     "name": "stdout",
     "output_type": "stream",
     "text": [
      "\u001b[36m(launch_and_evaluate pid=5962)\u001b[0m Run with homomorphic encryption\n",
      "\u001b[36m(launch_and_fit pid=5962)\u001b[0m \tTrain Epoch: 10 \tTrain_loss_mri: 1.4107 | Train_acc_mri: 21.8750 | Train_loss_dna: 1.7226 | Train_acc_dna: 35.4167 | Validation_loss_mri: 1.3531 | Validation_acc_mri: 37.5000 | Validation_loss_dna: 1.9409 | Validation_acc_dna: 50.0000\u001b[32m [repeated 3x across cluster]\u001b[0m\n",
      "\u001b[36m(launch_and_evaluate pid=5961)\u001b[0m [Client 6] evaluate, config: {}\n",
      "\u001b[36m(launch_and_evaluate pid=5961)\u001b[0m Updated model\n",
      "\u001b[36m(launch_and_fit pid=5962)\u001b[0m save graph in  results/FL/\n",
      "\u001b[36m(launch_and_fit pid=5961)\u001b[0m dna_net.qnn.weights 4.76837158203125e-07\n",
      "\u001b[36m(launch_and_fit pid=5961)\u001b[0m attention.in_proj_weight 7.152557373046875e-07\n",
      "\u001b[36m(launch_and_fit pid=5961)\u001b[0m attention.in_proj_bias 7.152557373046875e-07\n",
      "\u001b[36m(launch_and_fit pid=5961)\u001b[0m attention.out_proj.weight 7.152557373046875e-07\n",
      "\u001b[36m(launch_and_fit pid=5961)\u001b[0m attention.out_proj.bias 4.76837158203125e-07\n"
     ]
    },
    {
     "name": "stderr",
     "output_type": "stream",
     "text": [
      "\u001b[36m(launch_and_evaluate pid=5961)\u001b[0m /workspaces/QFML-QF-2024/src/utils/common.py:271: RuntimeWarning: More than 20 figures have been opened. Figures created through the pyplot interface (`matplotlib.pyplot.figure`) are retained until explicitly closed and may consume too much memory. (To control this warning, see the rcParam `figure.max_open_warning`). Consider using `matplotlib.pyplot.close()`.\n",
      "\u001b[36m(launch_and_evaluate pid=5961)\u001b[0m   plt.figure(figsize=(12, 7))\n",
      "\u001b[36m(launch_and_evaluate pid=5962)\u001b[0m   plt.figure(figsize=(12, 7))\n",
      "\u001b[36m(launch_and_evaluate pid=5961)\u001b[0m   plt.figure(figsize=(12, 7))\n",
      "\u001b[36m(launch_and_evaluate pid=5962)\u001b[0m   plt.figure(figsize=(12, 7))\n",
      "\u001b[36m(launch_and_evaluate pid=5962)\u001b[0m   plt.figure()\n",
      "\u001b[36m(launch_and_evaluate pid=5961)\u001b[0m /home/codespace/.local/lib/python3.10/site-packages/sklearn/metrics/_ranking.py:1183: UndefinedMetricWarning: No positive samples in y_true, true positive value should be meaningless\n",
      "\u001b[36m(launch_and_evaluate pid=5961)\u001b[0m   warnings.warn(\n",
      "\u001b[36m(launch_and_evaluate pid=5961)\u001b[0m /home/codespace/.local/lib/python3.10/site-packages/sklearn/metrics/_ranking.py:1183: UndefinedMetricWarning: No positive samples in y_true, true positive value should be meaningless\n",
      "\u001b[36m(launch_and_evaluate pid=5961)\u001b[0m   warnings.warn(\n",
      "\u001b[36m(launch_and_evaluate pid=5961)\u001b[0m /home/codespace/.local/lib/python3.10/site-packages/sklearn/metrics/_ranking.py:1183: UndefinedMetricWarning: No positive samples in y_true, true positive value should be meaningless\n",
      "\u001b[36m(launch_and_evaluate pid=5961)\u001b[0m   warnings.warn(\n",
      "\u001b[36m(launch_and_evaluate pid=5961)\u001b[0m /home/codespace/.local/lib/python3.10/site-packages/sklearn/metrics/_ranking.py:1183: UndefinedMetricWarning: No positive samples in y_true, true positive value should be meaningless\n",
      "\u001b[36m(launch_and_evaluate pid=5961)\u001b[0m   warnings.warn(\n",
      "\u001b[36m(launch_and_evaluate pid=5961)\u001b[0m /home/codespace/.local/lib/python3.10/site-packages/sklearn/metrics/_ranking.py:1183: UndefinedMetricWarning: No positive samples in y_true, true positive value should be meaningless\n",
      "\u001b[36m(launch_and_evaluate pid=5961)\u001b[0m   warnings.warn(\n",
      "\u001b[36m(launch_and_evaluate pid=5962)\u001b[0m /opt/conda/envs/fed/lib/python3.10/site-packages/torch/storage.py:414: FutureWarning: You are using `torch.load` with `weights_only=False` (the current default value), which uses the default pickle module implicitly. It is possible to construct malicious pickle data which will execute arbitrary code during unpickling (See https://github.com/pytorch/pytorch/blob/main/SECURITY.md#untrusted-models for more details). In a future release, the default value for `weights_only` will be flipped to `True`. This limits the functions that could be executed during unpickling. Arbitrary objects will no longer be allowed to be loaded via this mode unless they are explicitly allowlisted by the user via `torch.serialization.add_safe_globals`. We recommend you start setting `weights_only=True` for any use case where you don't have full control of the loaded file. Please open an issue on GitHub for any issues related to this experimental feature.\n",
      "\u001b[36m(launch_and_evaluate pid=5962)\u001b[0m   return torch.load(io.BytesIO(b))\n"
     ]
    },
    {
     "name": "stdout",
     "output_type": "stream",
     "text": [
      "\u001b[36m(launch_and_evaluate pid=5961)\u001b[0m Run with homomorphic encryption\u001b[32m [repeated 2x across cluster]\u001b[0m\n",
      "\u001b[36m(launch_and_evaluate pid=5962)\u001b[0m [Client 4] evaluate, config: {}\n",
      "\u001b[36m(launch_and_evaluate pid=5961)\u001b[0m [Client 0] evaluate, config: {}\n",
      "\u001b[36m(launch_and_evaluate pid=5961)\u001b[0m Updated model\u001b[32m [repeated 2x across cluster]\u001b[0m\n"
     ]
    },
    {
     "name": "stderr",
     "output_type": "stream",
     "text": [
      "\u001b[36m(launch_and_evaluate pid=5961)\u001b[0m   plt.figure(figsize=(12, 7))\n",
      "\u001b[36m(launch_and_evaluate pid=5961)\u001b[0m /workspaces/QFML-QF-2024/src/utils/common.py:271: RuntimeWarning: More than 20 figures have been opened. Figures created through the pyplot interface (`matplotlib.pyplot.figure`) are retained until explicitly closed and may consume too much memory. (To control this warning, see the rcParam `figure.max_open_warning`). Consider using `matplotlib.pyplot.close()`.\u001b[32m [repeated 8x across cluster]\u001b[0m\n",
      "\u001b[36m(launch_and_evaluate pid=5962)\u001b[0m   plt.figure(figsize=(12, 7))\n",
      "\u001b[36m(launch_and_evaluate pid=5961)\u001b[0m   plt.figure(figsize=(12, 7))\n",
      "\u001b[36m(launch_and_evaluate pid=5962)\u001b[0m   plt.figure(figsize=(12, 7))\n"
     ]
    },
    {
     "name": "stdout",
     "output_type": "stream",
     "text": [
      "\u001b[36m(launch_and_evaluate pid=5962)\u001b[0m Run with homomorphic encryption\u001b[32m [repeated 3x across cluster]\u001b[0m\n",
      "\u001b[36m(launch_and_evaluate pid=5962)\u001b[0m [Client 8] evaluate, config: {}\u001b[32m [repeated 3x across cluster]\u001b[0m\n"
     ]
    },
    {
     "name": "stderr",
     "output_type": "stream",
     "text": [
      "\u001b[36m(launch_and_evaluate pid=5961)\u001b[0m   plt.figure(figsize=(12, 7))\n",
      "\u001b[36m(launch_and_evaluate pid=5962)\u001b[0m   plt.figure()\u001b[32m [repeated 7x across cluster]\u001b[0m\n",
      "\u001b[36m(launch_and_evaluate pid=5962)\u001b[0m /home/codespace/.local/lib/python3.10/site-packages/sklearn/metrics/_ranking.py:1183: UndefinedMetricWarning: No positive samples in y_true, true positive value should be meaningless\u001b[32m [repeated 9x across cluster]\u001b[0m\n",
      "\u001b[36m(launch_and_evaluate pid=5962)\u001b[0m   warnings.warn(\u001b[32m [repeated 9x across cluster]\u001b[0m\n",
      "\u001b[36m(launch_and_evaluate pid=5962)\u001b[0m /opt/conda/envs/fed/lib/python3.10/site-packages/torch/storage.py:414: FutureWarning: You are using `torch.load` with `weights_only=False` (the current default value), which uses the default pickle module implicitly. It is possible to construct malicious pickle data which will execute arbitrary code during unpickling (See https://github.com/pytorch/pytorch/blob/main/SECURITY.md#untrusted-models for more details). In a future release, the default value for `weights_only` will be flipped to `True`. This limits the functions that could be executed during unpickling. Arbitrary objects will no longer be allowed to be loaded via this mode unless they are explicitly allowlisted by the user via `torch.serialization.add_safe_globals`. We recommend you start setting `weights_only=True` for any use case where you don't have full control of the loaded file. Please open an issue on GitHub for any issues related to this experimental feature.\u001b[32m [repeated 3x across cluster]\u001b[0m\n",
      "\u001b[36m(launch_and_evaluate pid=5962)\u001b[0m   return torch.load(io.BytesIO(b))\u001b[32m [repeated 3x across cluster]\u001b[0m\n",
      "\u001b[36m(launch_and_evaluate pid=5962)\u001b[0m   plt.figure(figsize=(12, 7))\n",
      "\u001b[36m(launch_and_evaluate pid=5961)\u001b[0m   plt.figure(figsize=(12, 7))\n",
      "\u001b[36m(launch_and_evaluate pid=5962)\u001b[0m   plt.figure(figsize=(12, 7))\n",
      "\u001b[36m(launch_and_evaluate pid=5961)\u001b[0m /workspaces/QFML-QF-2024/src/utils/common.py:321: RuntimeWarning: More than 20 figures have been opened. Figures created through the pyplot interface (`matplotlib.pyplot.figure`) are retained until explicitly closed and may consume too much memory. (To control this warning, see the rcParam `figure.max_open_warning`). Consider using `matplotlib.pyplot.close()`.\u001b[32m [repeated 14x across cluster]\u001b[0m\n"
     ]
    },
    {
     "name": "stdout",
     "output_type": "stream",
     "text": [
      "\u001b[36m(launch_and_evaluate pid=5962)\u001b[0m Updated model\u001b[32m [repeated 3x across cluster]\u001b[0m\n"
     ]
    },
    {
     "name": "stderr",
     "output_type": "stream",
     "text": [
      "\u001b[36m(launch_and_evaluate pid=5961)\u001b[0m   plt.figure(figsize=(12, 7))\n",
      "\u001b[36m(launch_and_evaluate pid=5962)\u001b[0m   plt.figure(figsize=(12, 7))\n",
      "\u001b[36m(launch_and_evaluate pid=5961)\u001b[0m   plt.figure(figsize=(12, 7))\n",
      "\u001b[36m(launch_and_evaluate pid=5962)\u001b[0m   plt.figure(figsize=(12, 7))\n",
      "\u001b[36m(launch_and_evaluate pid=5961)\u001b[0m   plt.figure()\u001b[32m [repeated 7x across cluster]\u001b[0m\n",
      "\u001b[36m(launch_and_evaluate pid=5961)\u001b[0m /home/codespace/.local/lib/python3.10/site-packages/sklearn/metrics/_ranking.py:1183: UndefinedMetricWarning: No positive samples in y_true, true positive value should be meaningless\u001b[32m [repeated 9x across cluster]\u001b[0m\n",
      "\u001b[36m(launch_and_evaluate pid=5961)\u001b[0m   warnings.warn(\u001b[32m [repeated 9x across cluster]\u001b[0m\n",
      "\u001b[36m(launch_and_evaluate pid=5962)\u001b[0m /opt/conda/envs/fed/lib/python3.10/site-packages/torch/storage.py:414: FutureWarning: You are using `torch.load` with `weights_only=False` (the current default value), which uses the default pickle module implicitly. It is possible to construct malicious pickle data which will execute arbitrary code during unpickling (See https://github.com/pytorch/pytorch/blob/main/SECURITY.md#untrusted-models for more details). In a future release, the default value for `weights_only` will be flipped to `True`. This limits the functions that could be executed during unpickling. Arbitrary objects will no longer be allowed to be loaded via this mode unless they are explicitly allowlisted by the user via `torch.serialization.add_safe_globals`. We recommend you start setting `weights_only=True` for any use case where you don't have full control of the loaded file. Please open an issue on GitHub for any issues related to this experimental feature.\u001b[32m [repeated 2x across cluster]\u001b[0m\n",
      "\u001b[36m(launch_and_evaluate pid=5962)\u001b[0m   return torch.load(io.BytesIO(b))\u001b[32m [repeated 2x across cluster]\u001b[0m\n"
     ]
    },
    {
     "name": "stdout",
     "output_type": "stream",
     "text": [
      "\u001b[36m(launch_and_evaluate pid=5961)\u001b[0m Run with homomorphic encryption\u001b[32m [repeated 3x across cluster]\u001b[0m\n",
      "\u001b[36m(launch_and_evaluate pid=5962)\u001b[0m [Client 2] evaluate, config: {}\u001b[32m [repeated 2x across cluster]\u001b[0m\n",
      "\u001b[36m(launch_and_evaluate pid=5961)\u001b[0m Updated model\u001b[32m [repeated 3x across cluster]\u001b[0m\n"
     ]
    },
    {
     "name": "stderr",
     "output_type": "stream",
     "text": [
      "\u001b[36m(launch_and_evaluate pid=5961)\u001b[0m   plt.figure(figsize=(12, 7))\n",
      "\u001b[36m(launch_and_evaluate pid=5961)\u001b[0m /workspaces/QFML-QF-2024/src/utils/common.py:271: RuntimeWarning: More than 20 figures have been opened. Figures created through the pyplot interface (`matplotlib.pyplot.figure`) are retained until explicitly closed and may consume too much memory. (To control this warning, see the rcParam `figure.max_open_warning`). Consider using `matplotlib.pyplot.close()`.\u001b[32m [repeated 10x across cluster]\u001b[0m\n",
      "\u001b[36m(launch_and_evaluate pid=5962)\u001b[0m   plt.figure(figsize=(12, 7))\n",
      "\u001b[36m(launch_and_evaluate pid=5962)\u001b[0m   plt.figure(figsize=(12, 7))\n",
      "\u001b[36m(launch_and_evaluate pid=5961)\u001b[0m   plt.figure(figsize=(12, 7))\n",
      "\u001b[36m(launch_and_evaluate pid=5962)\u001b[0m   plt.figure()\n",
      "\u001b[36m(launch_and_evaluate pid=5962)\u001b[0m /home/codespace/.local/lib/python3.10/site-packages/sklearn/metrics/_ranking.py:1183: UndefinedMetricWarning: No positive samples in y_true, true positive value should be meaningless\u001b[32m [repeated 3x across cluster]\u001b[0m\n",
      "\u001b[36m(launch_and_evaluate pid=5962)\u001b[0m   warnings.warn(\u001b[32m [repeated 3x across cluster]\u001b[0m\n",
      "\u001b[36m(launch_and_evaluate pid=5962)\u001b[0m /opt/conda/envs/fed/lib/python3.10/site-packages/torch/storage.py:414: FutureWarning: You are using `torch.load` with `weights_only=False` (the current default value), which uses the default pickle module implicitly. It is possible to construct malicious pickle data which will execute arbitrary code during unpickling (See https://github.com/pytorch/pytorch/blob/main/SECURITY.md#untrusted-models for more details). In a future release, the default value for `weights_only` will be flipped to `True`. This limits the functions that could be executed during unpickling. Arbitrary objects will no longer be allowed to be loaded via this mode unless they are explicitly allowlisted by the user via `torch.serialization.add_safe_globals`. We recommend you start setting `weights_only=True` for any use case where you don't have full control of the loaded file. Please open an issue on GitHub for any issues related to this experimental feature.\u001b[32m [repeated 2x across cluster]\u001b[0m\n",
      "\u001b[36m(launch_and_evaluate pid=5962)\u001b[0m   return torch.load(io.BytesIO(b))\u001b[32m [repeated 2x across cluster]\u001b[0m\n",
      "\u001b[36m(launch_and_evaluate pid=5962)\u001b[0m   plt.figure()\n",
      "DEBUG flwr 2024-08-05 04:09:48,532 | server.py:187 | evaluate_round 1 received 10 results and 0 failures\n",
      "DEBUG flwr 2024-08-05 04:09:48,587 | server.py:222 | fit_round 2: strategy sampled 10 clients (out of 10)\n"
     ]
    },
    {
     "name": "stdout",
     "output_type": "stream",
     "text": [
      "\u001b[36m(launch_and_fit pid=5961)\u001b[0m Run with homomorphic encryption\u001b[32m [repeated 2x across cluster]\u001b[0m\n",
      "\u001b[36m(launch_and_evaluate pid=5962)\u001b[0m [Client 9] evaluate, config: {}\u001b[32m [repeated 2x across cluster]\u001b[0m\n",
      "\u001b[36m(launch_and_fit pid=5961)\u001b[0m [Client 1, round 2] fit, config: {'learning_rate': 0.003, 'batch_size': '32', 'server_round': 2, 'local_epochs': 10}\n"
     ]
    },
    {
     "name": "stderr",
     "output_type": "stream",
     "text": [
      "  0%|\u001b[34m          \u001b[0m| 0/10 [00:00<?, ?it/s]\n",
      "\u001b[36m(launch_and_evaluate pid=5961)\u001b[0m /workspaces/QFML-QF-2024/src/utils/common.py:321: RuntimeWarning: More than 20 figures have been opened. Figures created through the pyplot interface (`matplotlib.pyplot.figure`) are retained until explicitly closed and may consume too much memory. (To control this warning, see the rcParam `figure.max_open_warning`). Consider using `matplotlib.pyplot.close()`.\u001b[32m [repeated 7x across cluster]\u001b[0m\n"
     ]
    },
    {
     "name": "stdout",
     "output_type": "stream",
     "text": [
      "\u001b[36m(launch_and_fit pid=5961)\u001b[0m Updated model\u001b[32m [repeated 2x across cluster]\u001b[0m\n",
      "\u001b[36m(launch_and_fit pid=5962)\u001b[0m \tTrain Epoch: 1 \tTrain_loss_mri: 1.3730 | Train_acc_mri: 31.2500 | Train_loss_dna: 1.8156 | Train_acc_dna: 28.1250 | Validation_loss_mri: 1.3284 | Validation_acc_mri: 50.0000 | Validation_loss_dna: 1.5740 | Validation_acc_dna: 37.5000\n",
      "\u001b[36m(launch_and_fit pid=5962)\u001b[0m Run with homomorphic encryption\n",
      "\u001b[36m(launch_and_fit pid=5962)\u001b[0m [Client 9, round 2] fit, config: {'learning_rate': 0.003, 'batch_size': '32', 'server_round': 2, 'local_epochs': 10}\n",
      "\u001b[36m(launch_and_fit pid=5962)\u001b[0m Updated model\n"
     ]
    },
    {
     "name": "stderr",
     "output_type": "stream",
     "text": [
      " 10%|\u001b[34m█         \u001b[0m| 1/10 [00:06<00:54,  6.00s/it]\n",
      "\u001b[36m(launch_and_evaluate pid=5961)\u001b[0m /home/codespace/.local/lib/python3.10/site-packages/sklearn/metrics/_ranking.py:1183: UndefinedMetricWarning: No positive samples in y_true, true positive value should be meaningless\u001b[32m [repeated 7x across cluster]\u001b[0m\n",
      "\u001b[36m(launch_and_evaluate pid=5961)\u001b[0m   warnings.warn(\u001b[32m [repeated 7x across cluster]\u001b[0m\n",
      "\u001b[36m(launch_and_fit pid=5962)\u001b[0m /opt/conda/envs/fed/lib/python3.10/site-packages/torch/storage.py:414: FutureWarning: You are using `torch.load` with `weights_only=False` (the current default value), which uses the default pickle module implicitly. It is possible to construct malicious pickle data which will execute arbitrary code during unpickling (See https://github.com/pytorch/pytorch/blob/main/SECURITY.md#untrusted-models for more details). In a future release, the default value for `weights_only` will be flipped to `True`. This limits the functions that could be executed during unpickling. Arbitrary objects will no longer be allowed to be loaded via this mode unless they are explicitly allowlisted by the user via `torch.serialization.add_safe_globals`. We recommend you start setting `weights_only=True` for any use case where you don't have full control of the loaded file. Please open an issue on GitHub for any issues related to this experimental feature.\u001b[32m [repeated 2x across cluster]\u001b[0m\n",
      "\u001b[36m(launch_and_fit pid=5962)\u001b[0m   return torch.load(io.BytesIO(b))\u001b[32m [repeated 2x across cluster]\u001b[0m\n",
      "\u001b[36m(launch_and_evaluate pid=5961)\u001b[0m   plt.figure()\u001b[32m [repeated 3x across cluster]\u001b[0m\n",
      "  0%|\u001b[34m          \u001b[0m| 0/10 [00:00<?, ?it/s]\n",
      " 10%|\u001b[34m█         \u001b[0m| 1/10 [00:06<00:54,  6.08s/it]\n",
      " 20%|\u001b[34m██        \u001b[0m| 2/10 [00:10<00:43,  5.40s/it]\n",
      " 20%|\u001b[34m██        \u001b[0m| 2/10 [00:11<00:44,  5.52s/it]\n"
     ]
    },
    {
     "name": "stdout",
     "output_type": "stream",
     "text": [
      "\u001b[36m(launch_and_fit pid=5961)\u001b[0m \tTrain Epoch: 2 \tTrain_loss_mri: 1.3591 | Train_acc_mri: 36.4583 | Train_loss_dna: 1.7460 | Train_acc_dna: 37.5000 | Validation_loss_mri: 1.3174 | Validation_acc_mri: 50.0000 | Validation_loss_dna: 2.0164 | Validation_acc_dna: 0.0000\u001b[32m [repeated 3x across cluster]\u001b[0m\n"
     ]
    },
    {
     "name": "stderr",
     "output_type": "stream",
     "text": [
      " 30%|\u001b[34m███       \u001b[0m| 3/10 [00:15<00:33,  4.86s/it]\n",
      " 30%|\u001b[34m███       \u001b[0m| 3/10 [00:15<00:34,  4.91s/it]\n",
      " 40%|\u001b[34m████      \u001b[0m| 4/10 [00:18<00:25,  4.25s/it]\n",
      " 40%|\u001b[34m████      \u001b[0m| 4/10 [00:18<00:25,  4.27s/it]\n"
     ]
    },
    {
     "name": "stdout",
     "output_type": "stream",
     "text": [
      "\u001b[36m(launch_and_fit pid=5961)\u001b[0m \tTrain Epoch: 4 \tTrain_loss_mri: 1.3528 | Train_acc_mri: 36.4583 | Train_loss_dna: 1.7937 | Train_acc_dna: 34.3750 | Validation_loss_mri: 1.2902 | Validation_acc_mri: 50.0000 | Validation_loss_dna: 2.0311 | Validation_acc_dna: 0.0000\u001b[32m [repeated 3x across cluster]\u001b[0m\n"
     ]
    },
    {
     "name": "stderr",
     "output_type": "stream",
     "text": [
      " 50%|\u001b[34m█████     \u001b[0m| 5/10 [00:22<00:20,  4.01s/it]\n",
      " 50%|\u001b[34m█████     \u001b[0m| 5/10 [00:22<00:20,  4.04s/it]\n",
      " 60%|\u001b[34m██████    \u001b[0m| 6/10 [00:25<00:15,  3.80s/it]\n",
      " 60%|\u001b[34m██████    \u001b[0m| 6/10 [00:25<00:15,  3.82s/it]\n"
     ]
    },
    {
     "name": "stdout",
     "output_type": "stream",
     "text": [
      "\u001b[36m(launch_and_fit pid=5961)\u001b[0m \tTrain Epoch: 6 \tTrain_loss_mri: 1.3931 | Train_acc_mri: 27.0833 | Train_loss_dna: 1.7498 | Train_acc_dna: 34.3750 | Validation_loss_mri: 1.2780 | Validation_acc_mri: 50.0000 | Validation_loss_dna: 2.0246 | Validation_acc_dna: 0.0000\u001b[32m [repeated 4x across cluster]\u001b[0m\n"
     ]
    },
    {
     "name": "stderr",
     "output_type": "stream",
     "text": [
      " 70%|\u001b[34m███████   \u001b[0m| 7/10 [00:29<00:11,  3.68s/it]\n",
      " 70%|\u001b[34m███████   \u001b[0m| 7/10 [00:29<00:11,  3.70s/it]\n",
      " 80%|\u001b[34m████████  \u001b[0m| 8/10 [00:32<00:07,  3.64s/it]\n",
      " 80%|\u001b[34m████████  \u001b[0m| 8/10 [00:32<00:07,  3.62s/it]\n"
     ]
    },
    {
     "name": "stdout",
     "output_type": "stream",
     "text": [
      "\u001b[36m(launch_and_fit pid=5961)\u001b[0m \tTrain Epoch: 8 \tTrain_loss_mri: 1.3519 | Train_acc_mri: 33.3333 | Train_loss_dna: 1.7657 | Train_acc_dna: 34.3750 | Validation_loss_mri: 1.2930 | Validation_acc_mri: 50.0000 | Validation_loss_dna: 1.9612 | Validation_acc_dna: 0.0000\u001b[32m [repeated 4x across cluster]\u001b[0m\n"
     ]
    },
    {
     "name": "stderr",
     "output_type": "stream",
     "text": [
      " 90%|\u001b[34m█████████ \u001b[0m| 9/10 [00:35<00:03,  3.54s/it]\n",
      " 90%|\u001b[34m█████████ \u001b[0m| 9/10 [00:35<00:03,  3.53s/it]\n",
      "100%|\u001b[34m██████████\u001b[0m| 10/10 [00:39<00:00,  3.92s/it]\n",
      "\u001b[36m(launch_and_fit pid=5961)\u001b[0m /workspaces/QFML-QF-2024/src/utils/common.py:444: RuntimeWarning: More than 20 figures have been opened. Figures created through the pyplot interface (`matplotlib.pyplot.figure`) are retained until explicitly closed and may consume too much memory. (To control this warning, see the rcParam `figure.max_open_warning`). Consider using `matplotlib.pyplot.close()`.\n",
      "\u001b[36m(launch_and_fit pid=5961)\u001b[0m   plt.figure()\n",
      "100%|\u001b[34m██████████\u001b[0m| 10/10 [00:39<00:00,  3.92s/it]\n"
     ]
    },
    {
     "name": "stdout",
     "output_type": "stream",
     "text": [
      "\u001b[36m(launch_and_fit pid=5961)\u001b[0m save graph in  results/FL/\n",
      "\u001b[36m(launch_and_fit pid=5961)\u001b[0m \tTrain Epoch: 10 \tTrain_loss_mri: 1.3465 | Train_acc_mri: 36.4583 | Train_loss_dna: 1.6987 | Train_acc_dna: 40.6250 | Validation_loss_mri: 1.3012 | Validation_acc_mri: 50.0000 | Validation_loss_dna: 1.9830 | Validation_acc_dna: 0.0000\u001b[32m [repeated 4x across cluster]\u001b[0m\n",
      "\u001b[36m(launch_and_fit pid=5961)\u001b[0m mri_net.features.0.weight 4.291534423828125e-06\n",
      "\u001b[36m(launch_and_fit pid=5961)\u001b[0m mri_net.features.0.bias 1.1920928955078125e-06\n",
      "\u001b[36m(launch_and_fit pid=5961)\u001b[0m mri_net.features.3.weight 4.76837158203125e-07\n",
      "\u001b[36m(launch_and_fit pid=5961)\u001b[0m mri_net.features.3.bias 4.76837158203125e-07\n",
      "\u001b[36m(launch_and_fit pid=5961)\u001b[0m mri_net.classifier.0.weight 4.76837158203125e-07\n",
      "\u001b[36m(launch_and_fit pid=5961)\u001b[0m mri_net.classifier.0.bias 4.76837158203125e-07\n",
      "\u001b[36m(launch_and_fit pid=5961)\u001b[0m mri_net.classifier.2.weight 4.76837158203125e-07\n",
      "\u001b[36m(launch_and_fit pid=5961)\u001b[0m mri_net.classifier.2.bias 4.76837158203125e-07\n",
      "\u001b[36m(launch_and_fit pid=5961)\u001b[0m mri_net.classifier.3.weights 4.76837158203125e-07\n",
      "\u001b[36m(launch_and_fit pid=5961)\u001b[0m dna_net.fc1.weight 4.76837158203125e-07\n",
      "\u001b[36m(launch_and_fit pid=5961)\u001b[0m dna_net.fc1.bias 4.76837158203125e-07\n",
      "\u001b[36m(launch_and_fit pid=5961)\u001b[0m dna_net.fc2.weight 9.5367431640625e-07\n",
      "\u001b[36m(launch_and_fit pid=5961)\u001b[0m dna_net.fc2.bias 4.76837158203125e-07\n",
      "\u001b[36m(launch_and_fit pid=5961)\u001b[0m dna_net.fc3.weight 4.76837158203125e-07\n",
      "\u001b[36m(launch_and_fit pid=5961)\u001b[0m dna_net.fc3.bias 4.76837158203125e-07\n",
      "\u001b[36m(launch_and_fit pid=5961)\u001b[0m dna_net.fc4.weight 4.76837158203125e-07\n",
      "\u001b[36m(launch_and_fit pid=5961)\u001b[0m dna_net.fc4.bias 7.152557373046875e-07\n",
      "\u001b[36m(launch_and_fit pid=5961)\u001b[0m dna_net.qnn.weights 4.76837158203125e-07\n",
      "\u001b[36m(launch_and_fit pid=5961)\u001b[0m attention.in_proj_weight 4.76837158203125e-07\n",
      "\u001b[36m(launch_and_fit pid=5961)\u001b[0m attention.in_proj_bias 4.76837158203125e-07\n",
      "\u001b[36m(launch_and_fit pid=5961)\u001b[0m attention.out_proj.weight 7.152557373046875e-07\n",
      "\u001b[36m(launch_and_fit pid=5961)\u001b[0m attention.out_proj.bias 7.152557373046875e-07\n",
      "\u001b[36m(launch_and_fit pid=5961)\u001b[0m fc1.weight 7.152557373046875e-07\n",
      "\u001b[36m(launch_and_fit pid=5961)\u001b[0m fc1.bias 4.76837158203125e-07\n",
      "\u001b[36m(launch_and_fit pid=5961)\u001b[0m fc2_mri.weight 9.5367431640625e-07\n",
      "\u001b[36m(launch_and_fit pid=5961)\u001b[0m fc2_mri.bias 4.76837158203125e-07\n",
      "\u001b[36m(launch_and_fit pid=5961)\u001b[0m fc2_dna.weight 4.76837158203125e-07\n",
      "\u001b[36m(launch_and_fit pid=5961)\u001b[0m fc2_dna.bias 1.1920928955078125e-06\n",
      "\u001b[36m(launch_and_fit pid=5962)\u001b[0m mri_net.features.0.weight 4.5299530029296875e-06\n",
      "\u001b[36m(launch_and_fit pid=5962)\u001b[0m mri_net.features.0.bias 2.384185791015625e-06\n",
      "\u001b[36m(launch_and_fit pid=5962)\u001b[0m mri_net.features.3.weight 1.1920928955078125e-06\n",
      "\u001b[36m(launch_and_fit pid=5962)\u001b[0m mri_net.features.3.bias 1.430511474609375e-06\n",
      "\u001b[36m(launch_and_fit pid=5962)\u001b[0m mri_net.classifier.0.weight 1.430511474609375e-06\n",
      "\u001b[36m(launch_and_fit pid=5962)\u001b[0m mri_net.classifier.0.bias 1.430511474609375e-06\n",
      "\u001b[36m(launch_and_fit pid=5962)\u001b[0m mri_net.classifier.2.weight 1.1920928955078125e-06\n",
      "\u001b[36m(launch_and_fit pid=5962)\u001b[0m mri_net.classifier.2.bias 1.1920928955078125e-06\n",
      "\u001b[36m(launch_and_fit pid=5962)\u001b[0m mri_net.classifier.3.weights 1.1920928955078125e-06\n",
      "\u001b[36m(launch_and_fit pid=5962)\u001b[0m dna_net.fc1.weight 1.1920928955078125e-06\n",
      "\u001b[36m(launch_and_fit pid=5962)\u001b[0m dna_net.fc1.bias 1.1920928955078125e-06\n",
      "\u001b[36m(launch_and_fit pid=5962)\u001b[0m dna_net.fc2.weight 1.430511474609375e-06\n",
      "\u001b[36m(launch_and_fit pid=5962)\u001b[0m dna_net.fc2.bias 9.5367431640625e-07\n",
      "\u001b[36m(launch_and_fit pid=5962)\u001b[0m dna_net.fc3.weight 9.5367431640625e-07\n",
      "\u001b[36m(launch_and_fit pid=5962)\u001b[0m dna_net.fc3.bias 1.430511474609375e-06\n",
      "\u001b[36m(launch_and_fit pid=5962)\u001b[0m dna_net.fc4.weight 9.5367431640625e-07\n",
      "\u001b[36m(launch_and_fit pid=5962)\u001b[0m dna_net.fc4.bias 1.1920928955078125e-06\n",
      "\u001b[36m(launch_and_fit pid=5962)\u001b[0m fc1.weight 1.1920928955078125e-06\n",
      "\u001b[36m(launch_and_fit pid=5962)\u001b[0m fc1.bias 1.430511474609375e-06\n",
      "\u001b[36m(launch_and_fit pid=5962)\u001b[0m fc2_mri.weight 1.6689300537109375e-06\n",
      "\u001b[36m(launch_and_fit pid=5962)\u001b[0m fc2_mri.bias 1.430511474609375e-06\n",
      "\u001b[36m(launch_and_fit pid=5962)\u001b[0m fc2_dna.weight 1.1920928955078125e-06\n",
      "\u001b[36m(launch_and_fit pid=5962)\u001b[0m fc2_dna.bias 9.5367431640625e-07\n",
      "\u001b[36m(launch_and_fit pid=5962)\u001b[0m Run with homomorphic encryption\n",
      "\u001b[36m(launch_and_fit pid=5962)\u001b[0m [Client 3, round 2] fit, config: {'learning_rate': 0.003, 'batch_size': '32', 'server_round': 2, 'local_epochs': 10}\n"
     ]
    },
    {
     "name": "stderr",
     "output_type": "stream",
     "text": [
      "  0%|\u001b[34m          \u001b[0m| 0/10 [00:00<?, ?it/s]\n"
     ]
    },
    {
     "name": "stdout",
     "output_type": "stream",
     "text": [
      "\u001b[36m(launch_and_fit pid=5961)\u001b[0m Updated model\n"
     ]
    },
    {
     "name": "stderr",
     "output_type": "stream",
     "text": [
      " 10%|\u001b[34m█         \u001b[0m| 1/10 [00:06<01:01,  6.81s/it]\n",
      "\u001b[36m(launch_and_fit pid=5962)\u001b[0m /workspaces/QFML-QF-2024/src/utils/common.py:444: RuntimeWarning: More than 20 figures have been opened. Figures created through the pyplot interface (`matplotlib.pyplot.figure`) are retained until explicitly closed and may consume too much memory. (To control this warning, see the rcParam `figure.max_open_warning`). Consider using `matplotlib.pyplot.close()`.\n",
      "\u001b[36m(launch_and_fit pid=5962)\u001b[0m   plt.figure()\n",
      "  0%|\u001b[34m          \u001b[0m| 0/10 [00:00<?, ?it/s]\n",
      " 10%|\u001b[34m█         \u001b[0m| 1/10 [00:06<01:00,  6.74s/it]\n"
     ]
    },
    {
     "name": "stdout",
     "output_type": "stream",
     "text": [
      "\u001b[36m(launch_and_fit pid=5962)\u001b[0m save graph in  results/FL/\n",
      "\u001b[36m(launch_and_fit pid=5961)\u001b[0m \tTrain Epoch: 1 \tTrain_loss_mri: 1.3657 | Train_acc_mri: 35.4167 | Train_loss_dna: 1.8581 | Train_acc_dna: 29.1667 | Validation_loss_mri: 1.3943 | Validation_acc_mri: 0.0000 | Validation_loss_dna: 1.7717 | Validation_acc_dna: 37.5000\u001b[32m [repeated 2x across cluster]\u001b[0m\n",
      "\u001b[36m(launch_and_fit pid=5962)\u001b[0m dna_net.qnn.weights 1.1920928955078125e-06\n",
      "\u001b[36m(launch_and_fit pid=5962)\u001b[0m attention.in_proj_weight 1.1920928955078125e-06\n",
      "\u001b[36m(launch_and_fit pid=5962)\u001b[0m attention.in_proj_bias 1.1920928955078125e-06\n",
      "\u001b[36m(launch_and_fit pid=5962)\u001b[0m attention.out_proj.weight 9.5367431640625e-07\n",
      "\u001b[36m(launch_and_fit pid=5962)\u001b[0m attention.out_proj.bias 1.1920928955078125e-06\n",
      "\u001b[36m(launch_and_fit pid=5961)\u001b[0m Run with homomorphic encryption\n",
      "\u001b[36m(launch_and_fit pid=5961)\u001b[0m [Client 2, round 2] fit, config: {'learning_rate': 0.003, 'batch_size': '32', 'server_round': 2, 'local_epochs': 10}\n",
      "\u001b[36m(launch_and_fit pid=5962)\u001b[0m Updated model\n"
     ]
    },
    {
     "name": "stderr",
     "output_type": "stream",
     "text": [
      " 10%|\u001b[34m█         \u001b[0m| 1/10 [00:08<01:18,  8.77s/it]\n"
     ]
    },
    {
     "name": "stdout",
     "output_type": "stream",
     "text": [
      "\u001b[33m(raylet)\u001b[0m A worker died or was killed while executing a task by an unexpected system error. To troubleshoot the problem, check the logs for the dead worker. RayTask ID: 79bcab0d0e95eced901b66645370e31f8d1ec0ac01000000 Worker ID: 787f1b607ad81fe058d1d9f24d621b67299c523be8ad549f264056cd Node ID: 56a5e3c87d3ec0ccb4c476f81cf9b86de127e2bba9c5eacdfac15393 Worker IP address: 10.0.1.229 Worker port: 33535 Worker PID: 5961 Worker exit type: SYSTEM_ERROR Worker exit detail: Worker exits unexpectedly. Worker exits with an exit code 1. The process receives a SIGTERM.\n"
     ]
    },
    {
     "name": "stderr",
     "output_type": "stream",
     "text": [
      " 20%|\u001b[34m██        \u001b[0m| 2/10 [00:10<00:39,  4.97s/it]\n"
     ]
    },
    {
     "name": "stdout",
     "output_type": "stream",
     "text": [
      "\u001b[36m(launch_and_fit pid=5962)\u001b[0m \tTrain Epoch: 3 \tTrain_loss_mri: 1.3795 | Train_acc_mri: 26.0417 | Train_loss_dna: 1.7502 | Train_acc_dna: 39.5833 | Validation_loss_mri: 1.2565 | Validation_acc_mri: 50.0000 | Validation_loss_dna: 1.9409 | Validation_acc_dna: 25.0000\u001b[32m [repeated 3x across cluster]\u001b[0m\n"
     ]
    },
    {
     "name": "stderr",
     "output_type": "stream",
     "text": [
      " 30%|\u001b[34m███       \u001b[0m| 3/10 [00:13<00:28,  4.10s/it]\n",
      " 40%|\u001b[34m████      \u001b[0m| 4/10 [00:15<00:20,  3.35s/it]\n",
      " 50%|\u001b[34m█████     \u001b[0m| 5/10 [00:17<00:14,  2.89s/it]\n"
     ]
    },
    {
     "name": "stdout",
     "output_type": "stream",
     "text": [
      "\u001b[36m(launch_and_fit pid=5962)\u001b[0m \tTrain Epoch: 6 \tTrain_loss_mri: 1.3543 | Train_acc_mri: 29.1667 | Train_loss_dna: 1.8910 | Train_acc_dna: 30.2083 | Validation_loss_mri: 1.2233 | Validation_acc_mri: 50.0000 | Validation_loss_dna: 1.9711 | Validation_acc_dna: 25.0000\u001b[32m [repeated 3x across cluster]\u001b[0m\n"
     ]
    },
    {
     "name": "stderr",
     "output_type": "stream",
     "text": [
      " 60%|\u001b[34m██████    \u001b[0m| 6/10 [00:20<00:10,  2.68s/it]\n",
      " 70%|\u001b[34m███████   \u001b[0m| 7/10 [00:22<00:07,  2.48s/it]\n",
      " 80%|\u001b[34m████████  \u001b[0m| 8/10 [00:24<00:04,  2.35s/it]\n"
     ]
    },
    {
     "name": "stdout",
     "output_type": "stream",
     "text": [
      "\u001b[36m(launch_and_fit pid=5962)\u001b[0m \tTrain Epoch: 9 \tTrain_loss_mri: 1.3639 | Train_acc_mri: 32.2917 | Train_loss_dna: 1.7385 | Train_acc_dna: 36.4583 | Validation_loss_mri: 1.1909 | Validation_acc_mri: 50.0000 | Validation_loss_dna: 1.9608 | Validation_acc_dna: 25.0000\u001b[32m [repeated 3x across cluster]\u001b[0m\n"
     ]
    },
    {
     "name": "stderr",
     "output_type": "stream",
     "text": [
      " 90%|\u001b[34m█████████ \u001b[0m| 9/10 [00:26<00:02,  2.31s/it]\n"
     ]
    },
    {
     "name": "stdout",
     "output_type": "stream",
     "text": [
      "\u001b[36m(launch_and_fit pid=5962)\u001b[0m save graph in  results/FL/\n"
     ]
    },
    {
     "name": "stderr",
     "output_type": "stream",
     "text": [
      "100%|\u001b[34m██████████\u001b[0m| 10/10 [00:28<00:00,  2.89s/it]\n"
     ]
    },
    {
     "name": "stdout",
     "output_type": "stream",
     "text": [
      "\u001b[36m(launch_and_fit pid=5962)\u001b[0m mri_net.features.0.weight 4.76837158203125e-06\n",
      "\u001b[36m(launch_and_fit pid=5962)\u001b[0m mri_net.features.0.bias 1.430511474609375e-06\n",
      "\u001b[36m(launch_and_fit pid=5962)\u001b[0m mri_net.features.3.weight 1.1920928955078125e-06\n",
      "\u001b[36m(launch_and_fit pid=5962)\u001b[0m mri_net.features.3.bias 1.1920928955078125e-06\n",
      "\u001b[36m(launch_and_fit pid=5962)\u001b[0m mri_net.classifier.0.weight 1.6689300537109375e-06\n",
      "\u001b[36m(launch_and_fit pid=5962)\u001b[0m mri_net.classifier.0.bias 9.5367431640625e-07\n",
      "\u001b[36m(launch_and_fit pid=5962)\u001b[0m mri_net.classifier.2.weight 1.430511474609375e-06\n",
      "\u001b[36m(launch_and_fit pid=5962)\u001b[0m mri_net.classifier.2.bias 1.1920928955078125e-06\n",
      "\u001b[36m(launch_and_fit pid=5962)\u001b[0m mri_net.classifier.3.weights 1.430511474609375e-06\n",
      "\u001b[36m(launch_and_fit pid=5962)\u001b[0m dna_net.fc1.weight 1.1920928955078125e-06\n",
      "\u001b[36m(launch_and_fit pid=5962)\u001b[0m dna_net.fc1.bias 1.1920928955078125e-06\n",
      "\u001b[36m(launch_and_fit pid=5962)\u001b[0m dna_net.fc2.weight 1.1920928955078125e-06\n",
      "\u001b[36m(launch_and_fit pid=5962)\u001b[0m dna_net.fc2.bias 1.1920928955078125e-06\n",
      "\u001b[36m(launch_and_fit pid=5962)\u001b[0m dna_net.fc3.weight 7.152557373046875e-07\n",
      "\u001b[36m(launch_and_fit pid=5962)\u001b[0m dna_net.fc3.bias 1.1920928955078125e-06\n",
      "\u001b[36m(launch_and_fit pid=5962)\u001b[0m dna_net.fc4.weight 9.5367431640625e-07\n",
      "\u001b[36m(launch_and_fit pid=5962)\u001b[0m dna_net.fc4.bias 1.1920928955078125e-06\n",
      "\u001b[36m(launch_and_fit pid=5962)\u001b[0m dna_net.qnn.weights 1.430511474609375e-06\n",
      "\u001b[36m(launch_and_fit pid=5962)\u001b[0m attention.in_proj_weight 1.430511474609375e-06\n",
      "\u001b[36m(launch_and_fit pid=5962)\u001b[0m attention.in_proj_bias 9.5367431640625e-07\n",
      "\u001b[36m(launch_and_fit pid=5962)\u001b[0m attention.out_proj.weight 1.1920928955078125e-06\n",
      "\u001b[36m(launch_and_fit pid=5962)\u001b[0m attention.out_proj.bias 1.430511474609375e-06\n",
      "\u001b[36m(launch_and_fit pid=5962)\u001b[0m fc1.weight 1.430511474609375e-06\n",
      "\u001b[36m(launch_and_fit pid=5962)\u001b[0m fc1.bias 9.5367431640625e-07\n",
      "\u001b[36m(launch_and_fit pid=5962)\u001b[0m fc2_mri.weight 7.152557373046875e-07\n",
      "\u001b[36m(launch_and_fit pid=5962)\u001b[0m fc2_mri.bias 7.152557373046875e-07\n",
      "\u001b[36m(launch_and_fit pid=5962)\u001b[0m fc2_dna.weight 1.1920928955078125e-06\n",
      "\u001b[36m(launch_and_fit pid=5962)\u001b[0m fc2_dna.bias 9.5367431640625e-07\n",
      "\u001b[36m(launch_and_fit pid=5962)\u001b[0m Run with homomorphic encryption\n",
      "\u001b[36m(launch_and_fit pid=5962)\u001b[0m [Client 6, round 2] fit, config: {'learning_rate': 0.003, 'batch_size': '32', 'server_round': 2, 'local_epochs': 10}\n",
      "\u001b[36m(launch_and_fit pid=5962)\u001b[0m Updated model\n",
      "\u001b[36m(launch_and_fit pid=5962)\u001b[0m \tTrain Epoch: 10 \tTrain_loss_mri: 1.3544 | Train_acc_mri: 26.0417 | Train_loss_dna: 1.6756 | Train_acc_dna: 39.5833 | Validation_loss_mri: 1.1821 | Validation_acc_mri: 50.0000 | Validation_loss_dna: 1.9394 | Validation_acc_dna: 25.0000\n"
     ]
    },
    {
     "name": "stderr",
     "output_type": "stream",
     "text": [
      "  0%|\u001b[34m          \u001b[0m| 0/10 [00:00<?, ?it/s]\n"
     ]
    },
    {
     "name": "stdout",
     "output_type": "stream",
     "text": [
      "\u001b[36m(launch_and_fit pid=5962)\u001b[0m \tTrain Epoch: 1 \tTrain_loss_mri: 1.3895 | Train_acc_mri: 19.7917 | Train_loss_dna: 1.7594 | Train_acc_dna: 35.4167 | Validation_loss_mri: 1.3349 | Validation_acc_mri: 37.5000 | Validation_loss_dna: 1.7299 | Validation_acc_dna: 50.0000\n"
     ]
    },
    {
     "name": "stderr",
     "output_type": "stream",
     "text": [
      " 10%|\u001b[34m█         \u001b[0m| 1/10 [00:03<00:32,  3.60s/it]\n"
     ]
    },
    {
     "name": "stdout",
     "output_type": "stream",
     "text": [
      "\u001b[36m(launch_and_fit pid=5962)\u001b[0m \tTrain Epoch: 2 \tTrain_loss_mri: 1.3911 | Train_acc_mri: 28.1250 | Train_loss_dna: 1.7482 | Train_acc_dna: 32.2917 | Validation_loss_mri: 1.3618 | Validation_acc_mri: 37.5000 | Validation_loss_dna: 1.7679 | Validation_acc_dna: 50.0000\n"
     ]
    },
    {
     "name": "stderr",
     "output_type": "stream",
     "text": [
      " 20%|\u001b[34m██        \u001b[0m| 2/10 [00:05<00:22,  2.86s/it]\n"
     ]
    },
    {
     "name": "stdout",
     "output_type": "stream",
     "text": [
      "\u001b[36m(launch_and_fit pid=5962)\u001b[0m \tTrain Epoch: 3 \tTrain_loss_mri: 1.3794 | Train_acc_mri: 28.1250 | Train_loss_dna: 1.7753 | Train_acc_dna: 32.2917 | Validation_loss_mri: 1.3744 | Validation_acc_mri: 37.5000 | Validation_loss_dna: 1.8082 | Validation_acc_dna: 50.0000\n"
     ]
    },
    {
     "name": "stderr",
     "output_type": "stream",
     "text": [
      " 30%|\u001b[34m███       \u001b[0m| 3/10 [00:08<00:18,  2.70s/it]\n"
     ]
    },
    {
     "name": "stdout",
     "output_type": "stream",
     "text": [
      "\u001b[36m(launch_and_fit pid=5962)\u001b[0m \tTrain Epoch: 4 \tTrain_loss_mri: 1.3741 | Train_acc_mri: 31.2500 | Train_loss_dna: 1.7672 | Train_acc_dna: 29.1667 | Validation_loss_mri: 1.3767 | Validation_acc_mri: 37.5000 | Validation_loss_dna: 1.8466 | Validation_acc_dna: 50.0000\n"
     ]
    },
    {
     "name": "stderr",
     "output_type": "stream",
     "text": [
      " 40%|\u001b[34m████      \u001b[0m| 4/10 [00:10<00:15,  2.63s/it]\n"
     ]
    },
    {
     "name": "stdout",
     "output_type": "stream",
     "text": [
      "\u001b[36m(launch_and_fit pid=5962)\u001b[0m \tTrain Epoch: 5 \tTrain_loss_mri: 1.3955 | Train_acc_mri: 28.1250 | Train_loss_dna: 1.6917 | Train_acc_dna: 32.2917 | Validation_loss_mri: 1.3732 | Validation_acc_mri: 37.5000 | Validation_loss_dna: 1.8696 | Validation_acc_dna: 50.0000\n"
     ]
    },
    {
     "name": "stderr",
     "output_type": "stream",
     "text": [
      " 50%|\u001b[34m█████     \u001b[0m| 5/10 [00:13<00:12,  2.53s/it]\n"
     ]
    },
    {
     "name": "stdout",
     "output_type": "stream",
     "text": [
      "\u001b[36m(launch_and_fit pid=5962)\u001b[0m \tTrain Epoch: 6 \tTrain_loss_mri: 1.3774 | Train_acc_mri: 28.1250 | Train_loss_dna: 1.6679 | Train_acc_dna: 41.6667 | Validation_loss_mri: 1.3801 | Validation_acc_mri: 37.5000 | Validation_loss_dna: 1.9043 | Validation_acc_dna: 50.0000\n"
     ]
    },
    {
     "name": "stderr",
     "output_type": "stream",
     "text": [
      " 60%|\u001b[34m██████    \u001b[0m| 6/10 [00:15<00:10,  2.54s/it]\n"
     ]
    },
    {
     "name": "stdout",
     "output_type": "stream",
     "text": [
      "\u001b[36m(launch_and_fit pid=5962)\u001b[0m \tTrain Epoch: 7 \tTrain_loss_mri: 1.3742 | Train_acc_mri: 31.2500 | Train_loss_dna: 1.7146 | Train_acc_dna: 32.2917 | Validation_loss_mri: 1.3729 | Validation_acc_mri: 37.5000 | Validation_loss_dna: 1.8909 | Validation_acc_dna: 50.0000\n"
     ]
    },
    {
     "name": "stderr",
     "output_type": "stream",
     "text": [
      " 70%|\u001b[34m███████   \u001b[0m| 7/10 [00:18<00:07,  2.56s/it]\n",
      "\u001b[36m(launch_and_fit pid=7958)\u001b[0m /opt/conda/envs/fed/lib/python3.10/site-packages/torch/storage.py:414: FutureWarning: You are using `torch.load` with `weights_only=False` (the current default value), which uses the default pickle module implicitly. It is possible to construct malicious pickle data which will execute arbitrary code during unpickling (See https://github.com/pytorch/pytorch/blob/main/SECURITY.md#untrusted-models for more details). In a future release, the default value for `weights_only` will be flipped to `True`. This limits the functions that could be executed during unpickling. Arbitrary objects will no longer be allowed to be loaded via this mode unless they are explicitly allowlisted by the user via `torch.serialization.add_safe_globals`. We recommend you start setting `weights_only=True` for any use case where you don't have full control of the loaded file. Please open an issue on GitHub for any issues related to this experimental feature.\n",
      "\u001b[36m(launch_and_fit pid=7958)\u001b[0m   return torch.load(io.BytesIO(b))\n"
     ]
    },
    {
     "name": "stdout",
     "output_type": "stream",
     "text": [
      "\u001b[36m(launch_and_fit pid=7958)\u001b[0m Run with homomorphic encryption\n",
      "\u001b[36m(launch_and_fit pid=7958)\u001b[0m [Client 0, round 2] fit, config: {'learning_rate': 0.003, 'batch_size': '32', 'server_round': 2, 'local_epochs': 10}\n",
      "\u001b[36m(launch_and_fit pid=5962)\u001b[0m \tTrain Epoch: 8 \tTrain_loss_mri: 1.3589 | Train_acc_mri: 34.3750 | Train_loss_dna: 1.6685 | Train_acc_dna: 35.4167 | Validation_loss_mri: 1.3761 | Validation_acc_mri: 37.5000 | Validation_loss_dna: 1.8709 | Validation_acc_dna: 50.0000\n"
     ]
    },
    {
     "name": "stderr",
     "output_type": "stream",
     "text": [
      " 80%|\u001b[34m████████  \u001b[0m| 8/10 [00:21<00:05,  2.70s/it]\n",
      "  0%|\u001b[34m          \u001b[0m| 0/10 [00:00<?, ?it/s]\n"
     ]
    },
    {
     "name": "stdout",
     "output_type": "stream",
     "text": [
      "\u001b[36m(launch_and_fit pid=7958)\u001b[0m Updated model\n",
      "\u001b[36m(launch_and_fit pid=5962)\u001b[0m \tTrain Epoch: 9 \tTrain_loss_mri: 1.3501 | Train_acc_mri: 31.2500 | Train_loss_dna: 1.7624 | Train_acc_dna: 29.1667 | Validation_loss_mri: 1.3583 | Validation_acc_mri: 37.5000 | Validation_loss_dna: 1.9183 | Validation_acc_dna: 50.0000\n"
     ]
    },
    {
     "name": "stderr",
     "output_type": "stream",
     "text": [
      " 90%|\u001b[34m█████████ \u001b[0m| 9/10 [00:25<00:03,  3.04s/it]\n",
      "  0%|\u001b[34m          \u001b[0m| 0/10 [00:06<?, ?it/s]\n"
     ]
    },
    {
     "name": "stdout",
     "output_type": "stream",
     "text": [
      "\u001b[33m(raylet)\u001b[0m A worker died or was killed while executing a task by an unexpected system error. To troubleshoot the problem, check the logs for the dead worker. RayTask ID: e53bcd48c155c87fcd5141eebcbe5df0d12dfde901000000 Worker ID: 05674a2c5a0ff212558c950434444514633f475fa05879282dc08fe0 Node ID: 56a5e3c87d3ec0ccb4c476f81cf9b86de127e2bba9c5eacdfac15393 Worker IP address: 10.0.1.229 Worker port: 37787 Worker PID: 7958 Worker exit type: SYSTEM_ERROR Worker exit detail: The leased worker has unrecoverable failure. Worker is requested to be destroyed when it is returned. Worker exits with an exit code 1. The process receives a SIGTERM.\n",
      "\u001b[36m(launch_and_fit pid=5962)\u001b[0m \tTrain Epoch: 10 \tTrain_loss_mri: 1.3358 | Train_acc_mri: 31.2500 | Train_loss_dna: 1.6092 | Train_acc_dna: 39.5833 | Validation_loss_mri: 1.3370 | Validation_acc_mri: 37.5000 | Validation_loss_dna: 1.9060 | Validation_acc_dna: 50.0000\n"
     ]
    },
    {
     "name": "stderr",
     "output_type": "stream",
     "text": [
      "100%|\u001b[34m██████████\u001b[0m| 10/10 [00:30<00:00,  3.04s/it]\n"
     ]
    },
    {
     "name": "stdout",
     "output_type": "stream",
     "text": [
      "\u001b[36m(launch_and_fit pid=5962)\u001b[0m save graph in  results/FL/\n",
      "\u001b[36m(launch_and_fit pid=5962)\u001b[0m mri_net.features.0.weight 5.0067901611328125e-06\n",
      "\u001b[36m(launch_and_fit pid=5962)\u001b[0m mri_net.features.0.bias 9.5367431640625e-07\n",
      "\u001b[36m(launch_and_fit pid=5962)\u001b[0m mri_net.features.3.weight 4.76837158203125e-07\n",
      "\u001b[36m(launch_and_fit pid=5962)\u001b[0m mri_net.features.3.bias 7.152557373046875e-07\n",
      "\u001b[36m(launch_and_fit pid=5962)\u001b[0m mri_net.classifier.0.weight 9.5367431640625e-07\n",
      "\u001b[36m(launch_and_fit pid=5962)\u001b[0m mri_net.classifier.0.bias 4.76837158203125e-07\n",
      "\u001b[36m(launch_and_fit pid=5962)\u001b[0m mri_net.classifier.2.weight 4.76837158203125e-07\n",
      "\u001b[36m(launch_and_fit pid=5962)\u001b[0m mri_net.classifier.2.bias 2.384185791015625e-07\n",
      "\u001b[36m(launch_and_fit pid=5962)\u001b[0m mri_net.classifier.3.weights 4.76837158203125e-07\n",
      "\u001b[36m(launch_and_fit pid=5962)\u001b[0m dna_net.fc1.weight 4.76837158203125e-07\n",
      "\u001b[36m(launch_and_fit pid=5962)\u001b[0m dna_net.fc1.bias 2.384185791015625e-07\n",
      "\u001b[36m(launch_and_fit pid=5962)\u001b[0m dna_net.fc2.weight 2.384185791015625e-07\n",
      "\u001b[36m(launch_and_fit pid=5962)\u001b[0m dna_net.fc2.bias 4.76837158203125e-07\n",
      "\u001b[36m(launch_and_fit pid=5962)\u001b[0m dna_net.fc3.weight 4.76837158203125e-07\n",
      "\u001b[36m(launch_and_fit pid=5962)\u001b[0m dna_net.fc3.bias 4.76837158203125e-07\n",
      "\u001b[36m(launch_and_fit pid=5962)\u001b[0m dna_net.fc4.weight 4.76837158203125e-07\n",
      "\u001b[36m(launch_and_fit pid=5962)\u001b[0m dna_net.fc4.bias 7.152557373046875e-07\n",
      "\u001b[36m(launch_and_fit pid=5962)\u001b[0m dna_net.qnn.weights 4.76837158203125e-07\n",
      "\u001b[36m(launch_and_fit pid=5962)\u001b[0m attention.in_proj_weight 4.76837158203125e-07\n",
      "\u001b[36m(launch_and_fit pid=5962)\u001b[0m attention.in_proj_bias 4.76837158203125e-07\n",
      "\u001b[36m(launch_and_fit pid=5962)\u001b[0m attention.out_proj.weight 4.76837158203125e-07\n",
      "\u001b[36m(launch_and_fit pid=5962)\u001b[0m attention.out_proj.bias 7.152557373046875e-07\n",
      "\u001b[36m(launch_and_fit pid=5962)\u001b[0m fc1.weight 4.76837158203125e-07\n",
      "\u001b[36m(launch_and_fit pid=5962)\u001b[0m fc1.bias 4.76837158203125e-07\n",
      "\u001b[36m(launch_and_fit pid=5962)\u001b[0m fc2_mri.weight 7.152557373046875e-07\n",
      "\u001b[36m(launch_and_fit pid=5962)\u001b[0m fc2_mri.bias 7.152557373046875e-07\n",
      "\u001b[36m(launch_and_fit pid=5962)\u001b[0m fc2_dna.weight 4.76837158203125e-07\n",
      "\u001b[36m(launch_and_fit pid=5962)\u001b[0m fc2_dna.bias 4.76837158203125e-07\n",
      "\u001b[36m(launch_and_fit pid=5962)\u001b[0m Run with homomorphic encryption\n",
      "\u001b[36m(launch_and_fit pid=5962)\u001b[0m [Client 8, round 2] fit, config: {'learning_rate': 0.003, 'batch_size': '32', 'server_round': 2, 'local_epochs': 10}\n",
      "\u001b[36m(launch_and_fit pid=5962)\u001b[0m Updated model\n"
     ]
    },
    {
     "name": "stderr",
     "output_type": "stream",
     "text": [
      "  0%|\u001b[34m          \u001b[0m| 0/10 [00:00<?, ?it/s]\n"
     ]
    },
    {
     "name": "stdout",
     "output_type": "stream",
     "text": [
      "\u001b[36m(launch_and_fit pid=5962)\u001b[0m \tTrain Epoch: 1 \tTrain_loss_mri: 1.3955 | Train_acc_mri: 21.8750 | Train_loss_dna: 1.8860 | Train_acc_dna: 27.0833 | Validation_loss_mri: 1.4000 | Validation_acc_mri: 25.0000 | Validation_loss_dna: 1.8457 | Validation_acc_dna: 12.5000\n"
     ]
    },
    {
     "name": "stderr",
     "output_type": "stream",
     "text": [
      " 10%|\u001b[34m█         \u001b[0m| 1/10 [00:06<01:01,  6.87s/it]\n"
     ]
    },
    {
     "name": "stdout",
     "output_type": "stream",
     "text": [
      "\u001b[36m(launch_and_fit pid=5962)\u001b[0m \tTrain Epoch: 2 \tTrain_loss_mri: 1.3734 | Train_acc_mri: 31.2500 | Train_loss_dna: 1.8554 | Train_acc_dna: 23.9583 | Validation_loss_mri: 1.3965 | Validation_acc_mri: 25.0000 | Validation_loss_dna: 1.8490 | Validation_acc_dna: 12.5000\n"
     ]
    },
    {
     "name": "stderr",
     "output_type": "stream",
     "text": [
      " 20%|\u001b[34m██        \u001b[0m| 2/10 [00:09<00:33,  4.13s/it]\n"
     ]
    },
    {
     "name": "stdout",
     "output_type": "stream",
     "text": [
      "\u001b[36m(launch_and_fit pid=5962)\u001b[0m \tTrain Epoch: 3 \tTrain_loss_mri: 1.3841 | Train_acc_mri: 32.2917 | Train_loss_dna: 1.8228 | Train_acc_dna: 23.9583 | Validation_loss_mri: 1.4073 | Validation_acc_mri: 25.0000 | Validation_loss_dna: 1.8058 | Validation_acc_dna: 12.5000\n"
     ]
    },
    {
     "name": "stderr",
     "output_type": "stream",
     "text": [
      " 30%|\u001b[34m███       \u001b[0m| 3/10 [00:11<00:22,  3.26s/it]\n"
     ]
    },
    {
     "name": "stdout",
     "output_type": "stream",
     "text": [
      "\u001b[36m(launch_and_fit pid=5962)\u001b[0m \tTrain Epoch: 4 \tTrain_loss_mri: 1.3728 | Train_acc_mri: 29.1667 | Train_loss_dna: 1.8941 | Train_acc_dna: 27.0833 | Validation_loss_mri: 1.4177 | Validation_acc_mri: 25.0000 | Validation_loss_dna: 1.7968 | Validation_acc_dna: 12.5000\n"
     ]
    },
    {
     "name": "stderr",
     "output_type": "stream",
     "text": [
      " 40%|\u001b[34m████      \u001b[0m| 4/10 [00:13<00:17,  2.95s/it]\n"
     ]
    },
    {
     "name": "stdout",
     "output_type": "stream",
     "text": [
      "\u001b[36m(launch_and_fit pid=5962)\u001b[0m \tTrain Epoch: 5 \tTrain_loss_mri: 1.4025 | Train_acc_mri: 26.0417 | Train_loss_dna: 1.8769 | Train_acc_dna: 22.9167 | Validation_loss_mri: 1.4158 | Validation_acc_mri: 25.0000 | Validation_loss_dna: 1.8052 | Validation_acc_dna: 12.5000\n"
     ]
    },
    {
     "name": "stderr",
     "output_type": "stream",
     "text": [
      " 50%|\u001b[34m█████     \u001b[0m| 5/10 [00:16<00:14,  2.81s/it]\n"
     ]
    },
    {
     "name": "stdout",
     "output_type": "stream",
     "text": [
      "\u001b[36m(launch_and_fit pid=5962)\u001b[0m \tTrain Epoch: 6 \tTrain_loss_mri: 1.3978 | Train_acc_mri: 22.9167 | Train_loss_dna: 1.8038 | Train_acc_dna: 21.8750 | Validation_loss_mri: 1.3959 | Validation_acc_mri: 25.0000 | Validation_loss_dna: 1.7910 | Validation_acc_dna: 12.5000\n"
     ]
    },
    {
     "name": "stderr",
     "output_type": "stream",
     "text": [
      " 60%|\u001b[34m██████    \u001b[0m| 6/10 [00:18<00:10,  2.63s/it]\n"
     ]
    },
    {
     "name": "stdout",
     "output_type": "stream",
     "text": [
      "\u001b[36m(launch_and_fit pid=5962)\u001b[0m \tTrain Epoch: 7 \tTrain_loss_mri: 1.3710 | Train_acc_mri: 32.2917 | Train_loss_dna: 1.8443 | Train_acc_dna: 23.9583 | Validation_loss_mri: 1.4070 | Validation_acc_mri: 25.0000 | Validation_loss_dna: 1.8093 | Validation_acc_dna: 0.0000\n"
     ]
    },
    {
     "name": "stderr",
     "output_type": "stream",
     "text": [
      " 70%|\u001b[34m███████   \u001b[0m| 7/10 [00:20<00:07,  2.45s/it]\n"
     ]
    },
    {
     "name": "stdout",
     "output_type": "stream",
     "text": [
      "\u001b[36m(launch_and_fit pid=5962)\u001b[0m \tTrain Epoch: 8 \tTrain_loss_mri: 1.3586 | Train_acc_mri: 29.1667 | Train_loss_dna: 1.8954 | Train_acc_dna: 21.8750 | Validation_loss_mri: 1.3951 | Validation_acc_mri: 25.0000 | Validation_loss_dna: 1.8196 | Validation_acc_dna: 12.5000\n"
     ]
    },
    {
     "name": "stderr",
     "output_type": "stream",
     "text": [
      " 80%|\u001b[34m████████  \u001b[0m| 8/10 [00:22<00:04,  2.37s/it]\n"
     ]
    },
    {
     "name": "stdout",
     "output_type": "stream",
     "text": [
      "\u001b[36m(launch_and_fit pid=5962)\u001b[0m \tTrain Epoch: 9 \tTrain_loss_mri: 1.3562 | Train_acc_mri: 35.4167 | Train_loss_dna: 1.8154 | Train_acc_dna: 33.3333 | Validation_loss_mri: 1.4142 | Validation_acc_mri: 25.0000 | Validation_loss_dna: 1.8362 | Validation_acc_dna: 12.5000\n"
     ]
    },
    {
     "name": "stderr",
     "output_type": "stream",
     "text": [
      " 90%|\u001b[34m█████████ \u001b[0m| 9/10 [00:25<00:02,  2.43s/it]\n"
     ]
    },
    {
     "name": "stdout",
     "output_type": "stream",
     "text": [
      "\u001b[36m(launch_and_fit pid=5962)\u001b[0m \tTrain Epoch: 10 \tTrain_loss_mri: 1.3549 | Train_acc_mri: 38.5417 | Train_loss_dna: 1.8968 | Train_acc_dna: 23.9583 | Validation_loss_mri: 1.4003 | Validation_acc_mri: 25.0000 | Validation_loss_dna: 1.8422 | Validation_acc_dna: 12.5000\n",
      "\u001b[36m(launch_and_fit pid=5962)\u001b[0m save graph in  results/FL/\n"
     ]
    },
    {
     "name": "stderr",
     "output_type": "stream",
     "text": [
      "100%|\u001b[34m██████████\u001b[0m| 10/10 [00:27<00:00,  2.78s/it]\n"
     ]
    },
    {
     "name": "stdout",
     "output_type": "stream",
     "text": [
      "\u001b[36m(launch_and_fit pid=5962)\u001b[0m mri_net.features.0.weight 3.0994415283203125e-06\n",
      "\u001b[36m(launch_and_fit pid=5962)\u001b[0m mri_net.features.0.bias 9.5367431640625e-07\n",
      "\u001b[36m(launch_and_fit pid=5962)\u001b[0m mri_net.features.3.weight 4.76837158203125e-07\n",
      "\u001b[36m(launch_and_fit pid=5962)\u001b[0m mri_net.features.3.bias 7.152557373046875e-07\n",
      "\u001b[36m(launch_and_fit pid=5962)\u001b[0m mri_net.classifier.0.weight 4.76837158203125e-07\n",
      "\u001b[36m(launch_and_fit pid=5962)\u001b[0m mri_net.classifier.0.bias 4.76837158203125e-07\n",
      "\u001b[36m(launch_and_fit pid=5962)\u001b[0m mri_net.classifier.2.weight 2.384185791015625e-07\n",
      "\u001b[36m(launch_and_fit pid=5962)\u001b[0m mri_net.classifier.2.bias 4.76837158203125e-07\n",
      "\u001b[36m(launch_and_fit pid=5962)\u001b[0m mri_net.classifier.3.weights 4.76837158203125e-07\n",
      "\u001b[36m(launch_and_fit pid=5962)\u001b[0m dna_net.fc1.weight 4.76837158203125e-07\n",
      "\u001b[36m(launch_and_fit pid=5962)\u001b[0m dna_net.fc1.bias 4.76837158203125e-07\n",
      "\u001b[36m(launch_and_fit pid=5962)\u001b[0m dna_net.fc2.weight 4.76837158203125e-07\n",
      "\u001b[36m(launch_and_fit pid=5962)\u001b[0m dna_net.fc2.bias 4.76837158203125e-07\n",
      "\u001b[36m(launch_and_fit pid=5962)\u001b[0m dna_net.fc3.weight 4.76837158203125e-07\n",
      "\u001b[36m(launch_and_fit pid=5962)\u001b[0m dna_net.fc3.bias 4.76837158203125e-07\n",
      "\u001b[36m(launch_and_fit pid=5962)\u001b[0m dna_net.fc4.weight 4.76837158203125e-07\n",
      "\u001b[36m(launch_and_fit pid=5962)\u001b[0m dna_net.fc4.bias 4.76837158203125e-07\n",
      "\u001b[36m(launch_and_fit pid=5962)\u001b[0m dna_net.qnn.weights 4.76837158203125e-07\n",
      "\u001b[36m(launch_and_fit pid=5962)\u001b[0m attention.in_proj_weight 4.76837158203125e-07\n",
      "\u001b[36m(launch_and_fit pid=5962)\u001b[0m attention.in_proj_bias 2.384185791015625e-07\n",
      "\u001b[36m(launch_and_fit pid=5962)\u001b[0m attention.out_proj.weight 4.76837158203125e-07\n",
      "\u001b[36m(launch_and_fit pid=5962)\u001b[0m attention.out_proj.bias 7.152557373046875e-07\n",
      "\u001b[36m(launch_and_fit pid=5962)\u001b[0m fc1.weight 4.76837158203125e-07\n",
      "\u001b[36m(launch_and_fit pid=5962)\u001b[0m fc1.bias 4.76837158203125e-07\n",
      "\u001b[36m(launch_and_fit pid=5962)\u001b[0m fc2_mri.weight 4.76837158203125e-07\n",
      "\u001b[36m(launch_and_fit pid=5962)\u001b[0m fc2_mri.bias 7.152557373046875e-07\n",
      "\u001b[36m(launch_and_fit pid=5962)\u001b[0m fc2_dna.weight 4.76837158203125e-07\n",
      "\u001b[36m(launch_and_fit pid=5962)\u001b[0m fc2_dna.bias 4.76837158203125e-07\n",
      "\u001b[36m(launch_and_fit pid=5962)\u001b[0m Run with homomorphic encryption\n",
      "\u001b[36m(launch_and_fit pid=5962)\u001b[0m [Client 2, round 2] fit, config: {'learning_rate': 0.003, 'batch_size': '32', 'server_round': 2, 'local_epochs': 10}\n",
      "\u001b[36m(launch_and_fit pid=5962)\u001b[0m Updated model\n"
     ]
    },
    {
     "name": "stderr",
     "output_type": "stream",
     "text": [
      "  0%|\u001b[34m          \u001b[0m| 0/10 [00:00<?, ?it/s]\n"
     ]
    },
    {
     "name": "stdout",
     "output_type": "stream",
     "text": [
      "\u001b[36m(launch_and_fit pid=5962)\u001b[0m \tTrain Epoch: 1 \tTrain_loss_mri: 1.3828 | Train_acc_mri: 27.0833 | Train_loss_dna: 1.9546 | Train_acc_dna: 22.9167 | Validation_loss_mri: 1.4277 | Validation_acc_mri: 0.0000 | Validation_loss_dna: 1.7720 | Validation_acc_dna: 37.5000\n"
     ]
    },
    {
     "name": "stderr",
     "output_type": "stream",
     "text": [
      " 10%|\u001b[34m█         \u001b[0m| 1/10 [00:03<00:32,  3.58s/it]\n",
      "\u001b[36m(launch_and_fit pid=8306)\u001b[0m /opt/conda/envs/fed/lib/python3.10/site-packages/torch/storage.py:414: FutureWarning: You are using `torch.load` with `weights_only=False` (the current default value), which uses the default pickle module implicitly. It is possible to construct malicious pickle data which will execute arbitrary code during unpickling (See https://github.com/pytorch/pytorch/blob/main/SECURITY.md#untrusted-models for more details). In a future release, the default value for `weights_only` will be flipped to `True`. This limits the functions that could be executed during unpickling. Arbitrary objects will no longer be allowed to be loaded via this mode unless they are explicitly allowlisted by the user via `torch.serialization.add_safe_globals`. We recommend you start setting `weights_only=True` for any use case where you don't have full control of the loaded file. Please open an issue on GitHub for any issues related to this experimental feature.\n",
      "\u001b[36m(launch_and_fit pid=8306)\u001b[0m   return torch.load(io.BytesIO(b))\n"
     ]
    },
    {
     "name": "stdout",
     "output_type": "stream",
     "text": [
      "\u001b[36m(launch_and_fit pid=8306)\u001b[0m Run with homomorphic encryption\n",
      "\u001b[36m(launch_and_fit pid=8306)\u001b[0m [Client 7, round 2] fit, config: {'learning_rate': 0.003, 'batch_size': '32', 'server_round': 2, 'local_epochs': 10}\n",
      "\u001b[36m(launch_and_fit pid=5962)\u001b[0m \tTrain Epoch: 2 \tTrain_loss_mri: 1.3850 | Train_acc_mri: 32.2917 | Train_loss_dna: 1.8240 | Train_acc_dna: 29.1667 | Validation_loss_mri: 1.4208 | Validation_acc_mri: 0.0000 | Validation_loss_dna: 1.7837 | Validation_acc_dna: 37.5000\n"
     ]
    },
    {
     "name": "stderr",
     "output_type": "stream",
     "text": [
      " 20%|\u001b[34m██        \u001b[0m| 2/10 [00:07<00:30,  3.79s/it]\n",
      "  0%|\u001b[34m          \u001b[0m| 0/10 [00:00<?, ?it/s]\n"
     ]
    },
    {
     "name": "stdout",
     "output_type": "stream",
     "text": [
      "\u001b[36m(launch_and_fit pid=8306)\u001b[0m Updated model\n",
      "\u001b[36m(launch_and_fit pid=5962)\u001b[0m \tTrain Epoch: 3 \tTrain_loss_mri: 1.3665 | Train_acc_mri: 35.4167 | Train_loss_dna: 1.8192 | Train_acc_dna: 29.1667 | Validation_loss_mri: 1.4349 | Validation_acc_mri: 0.0000 | Validation_loss_dna: 1.8022 | Validation_acc_dna: 37.5000\n"
     ]
    },
    {
     "name": "stderr",
     "output_type": "stream",
     "text": [
      " 30%|\u001b[34m███       \u001b[0m| 3/10 [00:14<00:36,  5.17s/it]\n",
      "  0%|\u001b[34m          \u001b[0m| 0/10 [00:07<?, ?it/s]\n"
     ]
    },
    {
     "name": "stdout",
     "output_type": "stream",
     "text": [
      "\u001b[36m(launch_and_fit pid=5962)\u001b[0m \tTrain Epoch: 4 \tTrain_loss_mri: 1.3965 | Train_acc_mri: 26.0417 | Train_loss_dna: 1.8227 | Train_acc_dna: 26.0417 | Validation_loss_mri: 1.4345 | Validation_acc_mri: 0.0000 | Validation_loss_dna: 1.8098 | Validation_acc_dna: 37.5000\n"
     ]
    },
    {
     "name": "stderr",
     "output_type": "stream",
     "text": [
      " 40%|\u001b[34m████      \u001b[0m| 4/10 [00:16<00:24,  4.15s/it]\n"
     ]
    },
    {
     "name": "stdout",
     "output_type": "stream",
     "text": [
      "\u001b[33m(raylet)\u001b[0m A worker died or was killed while executing a task by an unexpected system error. To troubleshoot the problem, check the logs for the dead worker. RayTask ID: b979a4ce7cb21a3f88536002174fee067ebb89e301000000 Worker ID: 06ed58dcfef05226eed75597c690611ae5ee8c037a1fe855ac1e406f Node ID: 56a5e3c87d3ec0ccb4c476f81cf9b86de127e2bba9c5eacdfac15393 Worker IP address: 10.0.1.229 Worker port: 41489 Worker PID: 8306 Worker exit type: SYSTEM_ERROR Worker exit detail: The leased worker has unrecoverable failure. Worker is requested to be destroyed when it is returned. Worker exits with an exit code 1. The process receives a SIGTERM.\n",
      "\u001b[36m(launch_and_fit pid=5962)\u001b[0m \tTrain Epoch: 5 \tTrain_loss_mri: 1.3766 | Train_acc_mri: 29.1667 | Train_loss_dna: 1.7690 | Train_acc_dna: 32.2917 | Validation_loss_mri: 1.4256 | Validation_acc_mri: 0.0000 | Validation_loss_dna: 1.8291 | Validation_acc_dna: 37.5000\n"
     ]
    },
    {
     "name": "stderr",
     "output_type": "stream",
     "text": [
      " 50%|\u001b[34m█████     \u001b[0m| 5/10 [00:19<00:17,  3.49s/it]\n"
     ]
    },
    {
     "name": "stdout",
     "output_type": "stream",
     "text": [
      "\u001b[36m(launch_and_fit pid=5962)\u001b[0m \tTrain Epoch: 6 \tTrain_loss_mri: 1.3921 | Train_acc_mri: 26.0417 | Train_loss_dna: 1.8099 | Train_acc_dna: 26.0417 | Validation_loss_mri: 1.4313 | Validation_acc_mri: 0.0000 | Validation_loss_dna: 1.8312 | Validation_acc_dna: 37.5000\n"
     ]
    },
    {
     "name": "stderr",
     "output_type": "stream",
     "text": [
      " 60%|\u001b[34m██████    \u001b[0m| 6/10 [00:21<00:12,  3.04s/it]\n"
     ]
    },
    {
     "name": "stdout",
     "output_type": "stream",
     "text": [
      "\u001b[36m(launch_and_fit pid=5962)\u001b[0m \tTrain Epoch: 7 \tTrain_loss_mri: 1.3709 | Train_acc_mri: 32.2917 | Train_loss_dna: 1.8349 | Train_acc_dna: 22.9167 | Validation_loss_mri: 1.4193 | Validation_acc_mri: 0.0000 | Validation_loss_dna: 1.8515 | Validation_acc_dna: 37.5000\n"
     ]
    },
    {
     "name": "stderr",
     "output_type": "stream",
     "text": [
      " 70%|\u001b[34m███████   \u001b[0m| 7/10 [00:24<00:08,  2.92s/it]\n"
     ]
    },
    {
     "name": "stdout",
     "output_type": "stream",
     "text": [
      "\u001b[36m(launch_and_fit pid=5962)\u001b[0m \tTrain Epoch: 8 \tTrain_loss_mri: 1.3998 | Train_acc_mri: 22.9167 | Train_loss_dna: 1.8288 | Train_acc_dna: 29.1667 | Validation_loss_mri: 1.3933 | Validation_acc_mri: 0.0000 | Validation_loss_dna: 1.8717 | Validation_acc_dna: 37.5000\n"
     ]
    },
    {
     "name": "stderr",
     "output_type": "stream",
     "text": [
      " 80%|\u001b[34m████████  \u001b[0m| 8/10 [00:26<00:05,  2.69s/it]\n"
     ]
    },
    {
     "name": "stdout",
     "output_type": "stream",
     "text": [
      "\u001b[36m(launch_and_fit pid=5962)\u001b[0m \tTrain Epoch: 9 \tTrain_loss_mri: 1.3772 | Train_acc_mri: 32.2917 | Train_loss_dna: 1.8345 | Train_acc_dna: 22.9167 | Validation_loss_mri: 1.4016 | Validation_acc_mri: 0.0000 | Validation_loss_dna: 1.8838 | Validation_acc_dna: 37.5000\n"
     ]
    },
    {
     "name": "stderr",
     "output_type": "stream",
     "text": [
      " 90%|\u001b[34m█████████ \u001b[0m| 9/10 [00:28<00:02,  2.56s/it]\n"
     ]
    },
    {
     "name": "stdout",
     "output_type": "stream",
     "text": [
      "\u001b[36m(launch_and_fit pid=5962)\u001b[0m \tTrain Epoch: 10 \tTrain_loss_mri: 1.4235 | Train_acc_mri: 22.9167 | Train_loss_dna: 1.8066 | Train_acc_dna: 29.1667 | Validation_loss_mri: 1.3803 | Validation_acc_mri: 0.0000 | Validation_loss_dna: 1.9034 | Validation_acc_dna: 37.5000\n",
      "\u001b[36m(launch_and_fit pid=5962)\u001b[0m save graph in  results/FL/\n"
     ]
    },
    {
     "name": "stderr",
     "output_type": "stream",
     "text": [
      "100%|\u001b[34m██████████\u001b[0m| 10/10 [00:30<00:00,  3.07s/it]\n"
     ]
    },
    {
     "name": "stdout",
     "output_type": "stream",
     "text": [
      "\u001b[36m(launch_and_fit pid=5962)\u001b[0m mri_net.features.0.weight 4.76837158203125e-06\n",
      "\u001b[36m(launch_and_fit pid=5962)\u001b[0m mri_net.features.0.bias 2.384185791015625e-06\n",
      "\u001b[36m(launch_and_fit pid=5962)\u001b[0m mri_net.features.3.weight 1.6689300537109375e-06\n",
      "\u001b[36m(launch_and_fit pid=5962)\u001b[0m mri_net.features.3.bias 9.5367431640625e-07\n",
      "\u001b[36m(launch_and_fit pid=5962)\u001b[0m mri_net.classifier.0.weight 1.1920928955078125e-06\n",
      "\u001b[36m(launch_and_fit pid=5962)\u001b[0m mri_net.classifier.0.bias 9.5367431640625e-07\n",
      "\u001b[36m(launch_and_fit pid=5962)\u001b[0m mri_net.classifier.2.weight 1.1920928955078125e-06\n",
      "\u001b[36m(launch_and_fit pid=5962)\u001b[0m mri_net.classifier.2.bias 1.6689300537109375e-06\n",
      "\u001b[36m(launch_and_fit pid=5962)\u001b[0m mri_net.classifier.3.weights 1.430511474609375e-06\n",
      "\u001b[36m(launch_and_fit pid=5962)\u001b[0m dna_net.fc1.weight 7.152557373046875e-07\n",
      "\u001b[36m(launch_and_fit pid=5962)\u001b[0m dna_net.fc1.bias 1.430511474609375e-06\n",
      "\u001b[36m(launch_and_fit pid=5962)\u001b[0m dna_net.fc2.weight 9.5367431640625e-07\n",
      "\u001b[36m(launch_and_fit pid=5962)\u001b[0m dna_net.fc2.bias 9.5367431640625e-07\n",
      "\u001b[36m(launch_and_fit pid=5962)\u001b[0m dna_net.fc3.weight 1.1920928955078125e-06\n",
      "\u001b[36m(launch_and_fit pid=5962)\u001b[0m dna_net.fc3.bias 9.5367431640625e-07\n",
      "\u001b[36m(launch_and_fit pid=5962)\u001b[0m dna_net.fc4.weight 9.5367431640625e-07\n",
      "\u001b[36m(launch_and_fit pid=5962)\u001b[0m dna_net.fc4.bias 9.5367431640625e-07\n",
      "\u001b[36m(launch_and_fit pid=5962)\u001b[0m dna_net.qnn.weights 1.1920928955078125e-06\n",
      "\u001b[36m(launch_and_fit pid=5962)\u001b[0m attention.in_proj_weight 1.1920928955078125e-06\n",
      "\u001b[36m(launch_and_fit pid=5962)\u001b[0m attention.in_proj_bias 1.1920928955078125e-06\n",
      "\u001b[36m(launch_and_fit pid=5962)\u001b[0m attention.out_proj.weight 7.152557373046875e-07\n",
      "\u001b[36m(launch_and_fit pid=5962)\u001b[0m attention.out_proj.bias 7.152557373046875e-07\n",
      "\u001b[36m(launch_and_fit pid=5962)\u001b[0m fc1.weight 1.7404556274414062e-05\n",
      "\u001b[36m(launch_and_fit pid=5962)\u001b[0m fc1.bias 1.430511474609375e-06\n",
      "\u001b[36m(launch_and_fit pid=5962)\u001b[0m fc2_mri.weight 1.1920928955078125e-06\n",
      "\u001b[36m(launch_and_fit pid=5962)\u001b[0m fc2_mri.bias 9.5367431640625e-07\n",
      "\u001b[36m(launch_and_fit pid=5962)\u001b[0m fc2_dna.weight 4.76837158203125e-07\n",
      "\u001b[36m(launch_and_fit pid=5962)\u001b[0m fc2_dna.bias 4.76837158203125e-07\n",
      "\u001b[36m(launch_and_fit pid=5962)\u001b[0m Run with homomorphic encryption\n",
      "\u001b[36m(launch_and_fit pid=5962)\u001b[0m [Client 0, round 2] fit, config: {'learning_rate': 0.003, 'batch_size': '32', 'server_round': 2, 'local_epochs': 10}\n",
      "\u001b[36m(launch_and_fit pid=5962)\u001b[0m Updated model\n"
     ]
    },
    {
     "name": "stderr",
     "output_type": "stream",
     "text": [
      "  0%|\u001b[34m          \u001b[0m| 0/10 [00:00<?, ?it/s]\n"
     ]
    },
    {
     "name": "stdout",
     "output_type": "stream",
     "text": [
      "\u001b[36m(launch_and_fit pid=5962)\u001b[0m \tTrain Epoch: 1 \tTrain_loss_mri: 1.3990 | Train_acc_mri: 20.8333 | Train_loss_dna: 1.8377 | Train_acc_dna: 36.4583 | Validation_loss_mri: 1.4247 | Validation_acc_mri: 0.0000 | Validation_loss_dna: 1.5288 | Validation_acc_dna: 62.5000\n"
     ]
    },
    {
     "name": "stderr",
     "output_type": "stream",
     "text": [
      " 10%|\u001b[34m█         \u001b[0m| 1/10 [00:03<00:33,  3.71s/it]\n"
     ]
    },
    {
     "name": "stdout",
     "output_type": "stream",
     "text": [
      "\u001b[36m(launch_and_fit pid=5962)\u001b[0m \tTrain Epoch: 2 \tTrain_loss_mri: 1.3821 | Train_acc_mri: 22.9167 | Train_loss_dna: 1.8282 | Train_acc_dna: 30.2083 | Validation_loss_mri: 1.4428 | Validation_acc_mri: 12.5000 | Validation_loss_dna: 1.5017 | Validation_acc_dna: 62.5000\n"
     ]
    },
    {
     "name": "stderr",
     "output_type": "stream",
     "text": [
      " 20%|\u001b[34m██        \u001b[0m| 2/10 [00:06<00:23,  2.94s/it]\n"
     ]
    },
    {
     "name": "stdout",
     "output_type": "stream",
     "text": [
      "\u001b[36m(launch_and_fit pid=5962)\u001b[0m \tTrain Epoch: 3 \tTrain_loss_mri: 1.3645 | Train_acc_mri: 37.5000 | Train_loss_dna: 1.8009 | Train_acc_dna: 36.4583 | Validation_loss_mri: 1.4418 | Validation_acc_mri: 12.5000 | Validation_loss_dna: 1.4981 | Validation_acc_dna: 62.5000\n"
     ]
    },
    {
     "name": "stderr",
     "output_type": "stream",
     "text": [
      " 30%|\u001b[34m███       \u001b[0m| 3/10 [00:08<00:18,  2.68s/it]\n"
     ]
    },
    {
     "name": "stdout",
     "output_type": "stream",
     "text": [
      "\u001b[36m(launch_and_fit pid=5962)\u001b[0m \tTrain Epoch: 4 \tTrain_loss_mri: 1.3641 | Train_acc_mri: 34.3750 | Train_loss_dna: 1.8636 | Train_acc_dna: 30.2083 | Validation_loss_mri: 1.4562 | Validation_acc_mri: 12.5000 | Validation_loss_dna: 1.4934 | Validation_acc_dna: 62.5000\n"
     ]
    },
    {
     "name": "stderr",
     "output_type": "stream",
     "text": [
      " 40%|\u001b[34m████      \u001b[0m| 4/10 [00:11<00:15,  2.65s/it]\n"
     ]
    },
    {
     "name": "stdout",
     "output_type": "stream",
     "text": [
      "\u001b[36m(launch_and_fit pid=5962)\u001b[0m \tTrain Epoch: 5 \tTrain_loss_mri: 1.3933 | Train_acc_mri: 25.0000 | Train_loss_dna: 1.7585 | Train_acc_dna: 36.4583 | Validation_loss_mri: 1.4551 | Validation_acc_mri: 12.5000 | Validation_loss_dna: 1.4863 | Validation_acc_dna: 62.5000\n"
     ]
    },
    {
     "name": "stderr",
     "output_type": "stream",
     "text": [
      " 50%|\u001b[34m█████     \u001b[0m| 5/10 [00:13<00:13,  2.69s/it]\n"
     ]
    },
    {
     "name": "stdout",
     "output_type": "stream",
     "text": [
      "\u001b[36m(launch_and_fit pid=5962)\u001b[0m \tTrain Epoch: 6 \tTrain_loss_mri: 1.3637 | Train_acc_mri: 34.3750 | Train_loss_dna: 1.8057 | Train_acc_dna: 33.3333 | Validation_loss_mri: 1.4577 | Validation_acc_mri: 12.5000 | Validation_loss_dna: 1.5112 | Validation_acc_dna: 62.5000\n"
     ]
    },
    {
     "name": "stderr",
     "output_type": "stream",
     "text": [
      " 60%|\u001b[34m██████    \u001b[0m| 6/10 [00:16<00:10,  2.62s/it]\n"
     ]
    },
    {
     "name": "stdout",
     "output_type": "stream",
     "text": [
      "\u001b[36m(launch_and_fit pid=5962)\u001b[0m \tTrain Epoch: 7 \tTrain_loss_mri: 1.3743 | Train_acc_mri: 28.1250 | Train_loss_dna: 1.8010 | Train_acc_dna: 33.3333 | Validation_loss_mri: 1.4681 | Validation_acc_mri: 12.5000 | Validation_loss_dna: 1.4803 | Validation_acc_dna: 62.5000\n"
     ]
    },
    {
     "name": "stderr",
     "output_type": "stream",
     "text": [
      " 70%|\u001b[34m███████   \u001b[0m| 7/10 [00:18<00:07,  2.62s/it]\n"
     ]
    },
    {
     "name": "stdout",
     "output_type": "stream",
     "text": [
      "\u001b[36m(launch_and_fit pid=5962)\u001b[0m \tTrain Epoch: 8 \tTrain_loss_mri: 1.3601 | Train_acc_mri: 31.2500 | Train_loss_dna: 1.8631 | Train_acc_dna: 27.0833 | Validation_loss_mri: 1.4541 | Validation_acc_mri: 12.5000 | Validation_loss_dna: 1.5160 | Validation_acc_dna: 62.5000\n"
     ]
    },
    {
     "name": "stderr",
     "output_type": "stream",
     "text": [
      " 80%|\u001b[34m████████  \u001b[0m| 8/10 [00:21<00:05,  2.60s/it]\n",
      "\u001b[36m(launch_and_fit pid=8628)\u001b[0m /opt/conda/envs/fed/lib/python3.10/site-packages/torch/storage.py:414: FutureWarning: You are using `torch.load` with `weights_only=False` (the current default value), which uses the default pickle module implicitly. It is possible to construct malicious pickle data which will execute arbitrary code during unpickling (See https://github.com/pytorch/pytorch/blob/main/SECURITY.md#untrusted-models for more details). In a future release, the default value for `weights_only` will be flipped to `True`. This limits the functions that could be executed during unpickling. Arbitrary objects will no longer be allowed to be loaded via this mode unless they are explicitly allowlisted by the user via `torch.serialization.add_safe_globals`. We recommend you start setting `weights_only=True` for any use case where you don't have full control of the loaded file. Please open an issue on GitHub for any issues related to this experimental feature.\n",
      "\u001b[36m(launch_and_fit pid=8628)\u001b[0m   return torch.load(io.BytesIO(b))\n"
     ]
    },
    {
     "name": "stdout",
     "output_type": "stream",
     "text": [
      "\u001b[36m(launch_and_fit pid=8628)\u001b[0m Run with homomorphic encryption\n",
      "\u001b[36m(launch_and_fit pid=8628)\u001b[0m [Client 5, round 2] fit, config: {'learning_rate': 0.003, 'batch_size': '32', 'server_round': 2, 'local_epochs': 10}\n",
      "\u001b[36m(launch_and_fit pid=8628)\u001b[0m Updated model\n"
     ]
    },
    {
     "name": "stderr",
     "output_type": "stream",
     "text": [
      "  0%|\u001b[34m          \u001b[0m| 0/10 [00:00<?, ?it/s]\n"
     ]
    },
    {
     "name": "stdout",
     "output_type": "stream",
     "text": [
      "\u001b[36m(launch_and_fit pid=5962)\u001b[0m \tTrain Epoch: 9 \tTrain_loss_mri: 1.3681 | Train_acc_mri: 31.2500 | Train_loss_dna: 1.8568 | Train_acc_dna: 27.0833 | Validation_loss_mri: 1.4437 | Validation_acc_mri: 12.5000 | Validation_loss_dna: 1.5047 | Validation_acc_dna: 62.5000\n"
     ]
    },
    {
     "name": "stderr",
     "output_type": "stream",
     "text": [
      " 90%|\u001b[34m█████████ \u001b[0m| 9/10 [00:25<00:03,  3.05s/it]\n"
     ]
    },
    {
     "name": "stdout",
     "output_type": "stream",
     "text": [
      "\u001b[36m(launch_and_fit pid=5962)\u001b[0m \tTrain Epoch: 10 \tTrain_loss_mri: 1.3926 | Train_acc_mri: 31.2500 | Train_loss_dna: 1.7291 | Train_acc_dna: 36.4583 | Validation_loss_mri: 1.4954 | Validation_acc_mri: 12.5000 | Validation_loss_dna: 1.4332 | Validation_acc_dna: 62.5000\n",
      "\u001b[36m(launch_and_fit pid=5962)\u001b[0m save graph in  results/FL/\n"
     ]
    },
    {
     "name": "stderr",
     "output_type": "stream",
     "text": [
      "100%|\u001b[34m██████████\u001b[0m| 10/10 [00:32<00:00,  3.24s/it]\n"
     ]
    },
    {
     "name": "stdout",
     "output_type": "stream",
     "text": [
      "\u001b[36m(launch_and_fit pid=5962)\u001b[0m mri_net.features.0.weight 4.76837158203125e-06\n",
      "\u001b[36m(launch_and_fit pid=5962)\u001b[0m mri_net.features.0.bias 1.430511474609375e-06\n",
      "\u001b[36m(launch_and_fit pid=5962)\u001b[0m mri_net.features.3.weight 9.5367431640625e-07\n",
      "\u001b[36m(launch_and_fit pid=5962)\u001b[0m mri_net.features.3.bias 7.152557373046875e-07\n",
      "\u001b[36m(launch_and_fit pid=5962)\u001b[0m mri_net.classifier.0.weight 7.152557373046875e-07\n",
      "\u001b[36m(launch_and_fit pid=5962)\u001b[0m mri_net.classifier.0.bias 4.76837158203125e-07\n",
      "\u001b[36m(launch_and_fit pid=5962)\u001b[0m mri_net.classifier.2.weight 7.152557373046875e-07\n",
      "\u001b[36m(launch_and_fit pid=5962)\u001b[0m mri_net.classifier.2.bias 1.430511474609375e-06\n",
      "\u001b[36m(launch_and_fit pid=5962)\u001b[0m mri_net.classifier.3.weights 1.1920928955078125e-06\n",
      "\u001b[36m(launch_and_fit pid=5962)\u001b[0m dna_net.fc1.weight 9.5367431640625e-07\n",
      "\u001b[36m(launch_and_fit pid=5962)\u001b[0m dna_net.fc1.bias 9.5367431640625e-07\n",
      "\u001b[36m(launch_and_fit pid=5962)\u001b[0m dna_net.fc2.weight 4.76837158203125e-07\n",
      "\u001b[36m(launch_and_fit pid=5962)\u001b[0m dna_net.fc2.bias 7.152557373046875e-07\n",
      "\u001b[36m(launch_and_fit pid=5962)\u001b[0m dna_net.fc3.weight 9.5367431640625e-07\n",
      "\u001b[36m(launch_and_fit pid=5962)\u001b[0m dna_net.fc3.bias 1.430511474609375e-06\n",
      "\u001b[36m(launch_and_fit pid=5962)\u001b[0m dna_net.fc4.weight 1.1920928955078125e-06\n",
      "\u001b[36m(launch_and_fit pid=5962)\u001b[0m dna_net.fc4.bias 1.430511474609375e-06\n",
      "\u001b[36m(launch_and_fit pid=5962)\u001b[0m dna_net.qnn.weights 9.5367431640625e-07\n",
      "\u001b[36m(launch_and_fit pid=5962)\u001b[0m attention.in_proj_weight 9.5367431640625e-07\n",
      "\u001b[36m(launch_and_fit pid=5962)\u001b[0m attention.in_proj_bias 9.5367431640625e-07\n",
      "\u001b[36m(launch_and_fit pid=5962)\u001b[0m attention.out_proj.weight 1.1920928955078125e-06\n",
      "\u001b[36m(launch_and_fit pid=5962)\u001b[0m attention.out_proj.bias 1.430511474609375e-06\n",
      "\u001b[36m(launch_and_fit pid=5962)\u001b[0m fc1.weight 9.5367431640625e-07\n",
      "\u001b[36m(launch_and_fit pid=5962)\u001b[0m fc1.bias 4.76837158203125e-07\n",
      "\u001b[36m(launch_and_fit pid=5962)\u001b[0m fc2_mri.weight 7.152557373046875e-07\n",
      "\u001b[36m(launch_and_fit pid=5962)\u001b[0m fc2_mri.bias 7.152557373046875e-07\n",
      "\u001b[36m(launch_and_fit pid=5962)\u001b[0m fc2_dna.weight 1.1920928955078125e-06\n",
      "\u001b[36m(launch_and_fit pid=5962)\u001b[0m fc2_dna.bias 9.5367431640625e-07\n",
      "\u001b[36m(launch_and_fit pid=5962)\u001b[0m Run with homomorphic encryption\n",
      "\u001b[36m(launch_and_fit pid=8628)\u001b[0m \tTrain Epoch: 1 \tTrain_loss_mri: 1.3838 | Train_acc_mri: 30.2083 | Train_loss_dna: 1.8137 | Train_acc_dna: 30.2083 | Validation_loss_mri: 1.4094 | Validation_acc_mri: 12.5000 | Validation_loss_dna: 1.7919 | Validation_acc_dna: 25.0000\n"
     ]
    },
    {
     "name": "stderr",
     "output_type": "stream",
     "text": [
      " 10%|\u001b[34m█         \u001b[0m| 1/10 [00:08<01:16,  8.49s/it]\n"
     ]
    },
    {
     "name": "stdout",
     "output_type": "stream",
     "text": [
      "\u001b[36m(launch_and_fit pid=5962)\u001b[0m [Client 4, round 2] fit, config: {'learning_rate': 0.003, 'batch_size': '32', 'server_round': 2, 'local_epochs': 10}\n"
     ]
    },
    {
     "name": "stderr",
     "output_type": "stream",
     "text": [
      " 10%|\u001b[34m█         \u001b[0m| 1/10 [00:09<01:27,  9.72s/it]\n"
     ]
    },
    {
     "name": "stdout",
     "output_type": "stream",
     "text": [
      "\u001b[36m(launch_and_fit pid=5962)\u001b[0m Updated model\n"
     ]
    },
    {
     "name": "stderr",
     "output_type": "stream",
     "text": [
      "  0%|\u001b[34m          \u001b[0m| 0/10 [00:00<?, ?it/s]\n"
     ]
    },
    {
     "name": "stdout",
     "output_type": "stream",
     "text": [
      "\u001b[33m(raylet)\u001b[0m A worker died or was killed while executing a task by an unexpected system error. To troubleshoot the problem, check the logs for the dead worker. RayTask ID: 89a769daf466d51489f81347eb36776fbe271b0601000000 Worker ID: e240bf2a56eba0a015e3b6669a19ea8948c35e6eef20fcbfd9038fa8 Node ID: 56a5e3c87d3ec0ccb4c476f81cf9b86de127e2bba9c5eacdfac15393 Worker IP address: 10.0.1.229 Worker port: 44247 Worker PID: 8628 Worker exit type: SYSTEM_ERROR Worker exit detail: The leased worker has unrecoverable failure. Worker is requested to be destroyed when it is returned. Worker exits with an exit code 1. The process receives a SIGTERM.\n",
      "\u001b[36m(launch_and_fit pid=5962)\u001b[0m \tTrain Epoch: 1 \tTrain_loss_mri: 1.3953 | Train_acc_mri: 21.8750 | Train_loss_dna: 1.8925 | Train_acc_dna: 12.5000 | Validation_loss_mri: 1.3936 | Validation_acc_mri: 25.0000 | Validation_loss_dna: 1.7033 | Validation_acc_dna: 50.0000\n"
     ]
    },
    {
     "name": "stderr",
     "output_type": "stream",
     "text": [
      " 10%|\u001b[34m█         \u001b[0m| 1/10 [00:08<01:19,  8.81s/it]\n"
     ]
    },
    {
     "name": "stdout",
     "output_type": "stream",
     "text": [
      "\u001b[36m(launch_and_fit pid=5962)\u001b[0m \tTrain Epoch: 2 \tTrain_loss_mri: 1.3839 | Train_acc_mri: 21.8750 | Train_loss_dna: 1.8726 | Train_acc_dna: 15.6250 | Validation_loss_mri: 1.4022 | Validation_acc_mri: 12.5000 | Validation_loss_dna: 1.7338 | Validation_acc_dna: 50.0000\n"
     ]
    },
    {
     "name": "stderr",
     "output_type": "stream",
     "text": [
      " 20%|\u001b[34m██        \u001b[0m| 2/10 [00:11<00:39,  4.93s/it]\n"
     ]
    },
    {
     "name": "stdout",
     "output_type": "stream",
     "text": [
      "\u001b[36m(launch_and_fit pid=5962)\u001b[0m \tTrain Epoch: 3 \tTrain_loss_mri: 1.3873 | Train_acc_mri: 35.4167 | Train_loss_dna: 1.7793 | Train_acc_dna: 15.6250 | Validation_loss_mri: 1.4044 | Validation_acc_mri: 12.5000 | Validation_loss_dna: 1.7823 | Validation_acc_dna: 25.0000\n"
     ]
    },
    {
     "name": "stderr",
     "output_type": "stream",
     "text": [
      " 30%|\u001b[34m███       \u001b[0m| 3/10 [00:13<00:25,  3.67s/it]\n"
     ]
    },
    {
     "name": "stdout",
     "output_type": "stream",
     "text": [
      "\u001b[36m(launch_and_fit pid=5962)\u001b[0m \tTrain Epoch: 4 \tTrain_loss_mri: 1.3926 | Train_acc_mri: 25.0000 | Train_loss_dna: 1.7932 | Train_acc_dna: 23.9583 | Validation_loss_mri: 1.4128 | Validation_acc_mri: 12.5000 | Validation_loss_dna: 1.7915 | Validation_acc_dna: 0.0000\n"
     ]
    },
    {
     "name": "stderr",
     "output_type": "stream",
     "text": [
      " 40%|\u001b[34m████      \u001b[0m| 4/10 [00:15<00:18,  3.10s/it]\n"
     ]
    },
    {
     "name": "stdout",
     "output_type": "stream",
     "text": [
      "\u001b[36m(launch_and_fit pid=5962)\u001b[0m \tTrain Epoch: 5 \tTrain_loss_mri: 1.3928 | Train_acc_mri: 21.8750 | Train_loss_dna: 1.7858 | Train_acc_dna: 30.2083 | Validation_loss_mri: 1.4061 | Validation_acc_mri: 12.5000 | Validation_loss_dna: 1.8284 | Validation_acc_dna: 0.0000\n"
     ]
    },
    {
     "name": "stderr",
     "output_type": "stream",
     "text": [
      " 50%|\u001b[34m█████     \u001b[0m| 5/10 [00:17<00:14,  2.80s/it]\n"
     ]
    },
    {
     "name": "stdout",
     "output_type": "stream",
     "text": [
      "\u001b[36m(launch_and_fit pid=5962)\u001b[0m \tTrain Epoch: 6 \tTrain_loss_mri: 1.3896 | Train_acc_mri: 25.0000 | Train_loss_dna: 1.7844 | Train_acc_dna: 30.2083 | Validation_loss_mri: 1.3905 | Validation_acc_mri: 12.5000 | Validation_loss_dna: 1.8626 | Validation_acc_dna: 0.0000\n"
     ]
    },
    {
     "name": "stderr",
     "output_type": "stream",
     "text": [
      " 60%|\u001b[34m██████    \u001b[0m| 6/10 [00:19<00:10,  2.60s/it]\n"
     ]
    },
    {
     "name": "stdout",
     "output_type": "stream",
     "text": [
      "\u001b[36m(launch_and_fit pid=5962)\u001b[0m \tTrain Epoch: 7 \tTrain_loss_mri: 1.3912 | Train_acc_mri: 31.2500 | Train_loss_dna: 1.8201 | Train_acc_dna: 23.9583 | Validation_loss_mri: 1.3912 | Validation_acc_mri: 12.5000 | Validation_loss_dna: 1.8888 | Validation_acc_dna: 0.0000\n"
     ]
    },
    {
     "name": "stderr",
     "output_type": "stream",
     "text": [
      " 70%|\u001b[34m███████   \u001b[0m| 7/10 [00:22<00:07,  2.55s/it]\n"
     ]
    },
    {
     "name": "stdout",
     "output_type": "stream",
     "text": [
      "\u001b[36m(launch_and_fit pid=5962)\u001b[0m \tTrain Epoch: 8 \tTrain_loss_mri: 1.3944 | Train_acc_mri: 19.7917 | Train_loss_dna: 1.7606 | Train_acc_dna: 20.8333 | Validation_loss_mri: 1.3963 | Validation_acc_mri: 12.5000 | Validation_loss_dna: 1.8941 | Validation_acc_dna: 0.0000\n"
     ]
    },
    {
     "name": "stderr",
     "output_type": "stream",
     "text": [
      " 80%|\u001b[34m████████  \u001b[0m| 8/10 [00:24<00:04,  2.49s/it]\n"
     ]
    },
    {
     "name": "stdout",
     "output_type": "stream",
     "text": [
      "\u001b[36m(launch_and_fit pid=5962)\u001b[0m \tTrain Epoch: 9 \tTrain_loss_mri: 1.3952 | Train_acc_mri: 23.9583 | Train_loss_dna: 1.7779 | Train_acc_dna: 23.9583 | Validation_loss_mri: 1.3911 | Validation_acc_mri: 12.5000 | Validation_loss_dna: 1.8916 | Validation_acc_dna: 0.0000\n"
     ]
    },
    {
     "name": "stderr",
     "output_type": "stream",
     "text": [
      " 90%|\u001b[34m█████████ \u001b[0m| 9/10 [00:26<00:02,  2.40s/it]\n"
     ]
    },
    {
     "name": "stdout",
     "output_type": "stream",
     "text": [
      "\u001b[36m(launch_and_fit pid=5962)\u001b[0m \tTrain Epoch: 10 \tTrain_loss_mri: 1.3888 | Train_acc_mri: 22.9167 | Train_loss_dna: 1.8451 | Train_acc_dna: 17.7083 | Validation_loss_mri: 1.3758 | Validation_acc_mri: 37.5000 | Validation_loss_dna: 1.8975 | Validation_acc_dna: 0.0000\n",
      "\u001b[36m(launch_and_fit pid=5962)\u001b[0m save graph in  results/FL/\n"
     ]
    },
    {
     "name": "stderr",
     "output_type": "stream",
     "text": [
      "100%|\u001b[34m██████████\u001b[0m| 10/10 [00:29<00:00,  2.91s/it]\n"
     ]
    },
    {
     "name": "stdout",
     "output_type": "stream",
     "text": [
      "\u001b[36m(launch_and_fit pid=5962)\u001b[0m mri_net.features.0.weight 5.0067901611328125e-06\n",
      "\u001b[36m(launch_and_fit pid=5962)\u001b[0m mri_net.features.0.bias 1.430511474609375e-06\n",
      "\u001b[36m(launch_and_fit pid=5962)\u001b[0m mri_net.features.3.weight 9.5367431640625e-07\n",
      "\u001b[36m(launch_and_fit pid=5962)\u001b[0m mri_net.features.3.bias 9.5367431640625e-07\n",
      "\u001b[36m(launch_and_fit pid=5962)\u001b[0m mri_net.classifier.0.weight 9.5367431640625e-07\n",
      "\u001b[36m(launch_and_fit pid=5962)\u001b[0m mri_net.classifier.0.bias 1.1920928955078125e-06\n",
      "\u001b[36m(launch_and_fit pid=5962)\u001b[0m mri_net.classifier.2.weight 1.1920928955078125e-06\n",
      "\u001b[36m(launch_and_fit pid=5962)\u001b[0m mri_net.classifier.2.bias 7.152557373046875e-07\n",
      "\u001b[36m(launch_and_fit pid=5962)\u001b[0m mri_net.classifier.3.weights 7.152557373046875e-07\n",
      "\u001b[36m(launch_and_fit pid=5962)\u001b[0m dna_net.fc1.weight 4.76837158203125e-07\n",
      "\u001b[36m(launch_and_fit pid=5962)\u001b[0m dna_net.fc1.bias 9.5367431640625e-07\n",
      "\u001b[36m(launch_and_fit pid=5962)\u001b[0m dna_net.fc2.weight 9.5367431640625e-07\n",
      "\u001b[36m(launch_and_fit pid=5962)\u001b[0m dna_net.fc2.bias 7.152557373046875e-07\n",
      "\u001b[36m(launch_and_fit pid=5962)\u001b[0m dna_net.fc3.weight 1.6689300537109375e-06\n",
      "\u001b[36m(launch_and_fit pid=5962)\u001b[0m dna_net.fc3.bias 1.1920928955078125e-06\n",
      "\u001b[36m(launch_and_fit pid=5962)\u001b[0m dna_net.fc4.weight 1.430511474609375e-06\n",
      "\u001b[36m(launch_and_fit pid=5962)\u001b[0m dna_net.fc4.bias 1.1920928955078125e-06\n",
      "\u001b[36m(launch_and_fit pid=5962)\u001b[0m dna_net.qnn.weights 1.430511474609375e-06\n",
      "\u001b[36m(launch_and_fit pid=5962)\u001b[0m attention.in_proj_weight 9.5367431640625e-07\n",
      "\u001b[36m(launch_and_fit pid=5962)\u001b[0m attention.in_proj_bias 7.152557373046875e-07\n",
      "\u001b[36m(launch_and_fit pid=5962)\u001b[0m attention.out_proj.weight 7.152557373046875e-07\n",
      "\u001b[36m(launch_and_fit pid=5962)\u001b[0m attention.out_proj.bias 1.1920928955078125e-06\n",
      "\u001b[36m(launch_and_fit pid=5962)\u001b[0m fc1.weight 1.1920928955078125e-06\n",
      "\u001b[36m(launch_and_fit pid=5962)\u001b[0m fc1.bias 1.430511474609375e-06\n",
      "\u001b[36m(launch_and_fit pid=5962)\u001b[0m fc2_mri.weight 1.1920928955078125e-06\n",
      "\u001b[36m(launch_and_fit pid=5962)\u001b[0m fc2_mri.bias 9.5367431640625e-07\n",
      "\u001b[36m(launch_and_fit pid=5962)\u001b[0m fc2_dna.weight 1.1920928955078125e-06\n",
      "\u001b[36m(launch_and_fit pid=5962)\u001b[0m fc2_dna.bias 9.5367431640625e-07\n",
      "\u001b[36m(launch_and_fit pid=5962)\u001b[0m Run with homomorphic encryption\n",
      "\u001b[36m(launch_and_fit pid=5962)\u001b[0m [Client 5, round 2] fit, config: {'learning_rate': 0.003, 'batch_size': '32', 'server_round': 2, 'local_epochs': 10}\n",
      "\u001b[36m(launch_and_fit pid=5962)\u001b[0m Updated model\n"
     ]
    },
    {
     "name": "stderr",
     "output_type": "stream",
     "text": [
      "  0%|\u001b[34m          \u001b[0m| 0/10 [00:00<?, ?it/s]\n"
     ]
    },
    {
     "name": "stdout",
     "output_type": "stream",
     "text": [
      "\u001b[36m(launch_and_fit pid=5962)\u001b[0m \tTrain Epoch: 1 \tTrain_loss_mri: 1.4068 | Train_acc_mri: 27.0833 | Train_loss_dna: 1.7629 | Train_acc_dna: 36.4583 | Validation_loss_mri: 1.4211 | Validation_acc_mri: 25.0000 | Validation_loss_dna: 1.7989 | Validation_acc_dna: 25.0000\n"
     ]
    },
    {
     "name": "stderr",
     "output_type": "stream",
     "text": [
      " 10%|\u001b[34m█         \u001b[0m| 1/10 [00:04<00:37,  4.16s/it]\n"
     ]
    },
    {
     "name": "stdout",
     "output_type": "stream",
     "text": [
      "\u001b[36m(launch_and_fit pid=5962)\u001b[0m \tTrain Epoch: 2 \tTrain_loss_mri: 1.3722 | Train_acc_mri: 29.1667 | Train_loss_dna: 1.7285 | Train_acc_dna: 36.4583 | Validation_loss_mri: 1.4253 | Validation_acc_mri: 12.5000 | Validation_loss_dna: 1.8285 | Validation_acc_dna: 25.0000\n"
     ]
    },
    {
     "name": "stderr",
     "output_type": "stream",
     "text": [
      " 20%|\u001b[34m██        \u001b[0m| 2/10 [00:06<00:26,  3.36s/it]\n"
     ]
    },
    {
     "name": "stdout",
     "output_type": "stream",
     "text": [
      "\u001b[36m(launch_and_fit pid=5962)\u001b[0m \tTrain Epoch: 3 \tTrain_loss_mri: 1.3749 | Train_acc_mri: 34.3750 | Train_loss_dna: 1.7710 | Train_acc_dna: 30.2083 | Validation_loss_mri: 1.4375 | Validation_acc_mri: 12.5000 | Validation_loss_dna: 1.8286 | Validation_acc_dna: 25.0000\n"
     ]
    },
    {
     "name": "stderr",
     "output_type": "stream",
     "text": [
      " 30%|\u001b[34m███       \u001b[0m| 3/10 [00:09<00:20,  2.99s/it]\n"
     ]
    },
    {
     "name": "stdout",
     "output_type": "stream",
     "text": [
      "\u001b[36m(launch_and_fit pid=5962)\u001b[0m \tTrain Epoch: 4 \tTrain_loss_mri: 1.3722 | Train_acc_mri: 34.3750 | Train_loss_dna: 1.6676 | Train_acc_dna: 39.5833 | Validation_loss_mri: 1.4571 | Validation_acc_mri: 12.5000 | Validation_loss_dna: 1.8416 | Validation_acc_dna: 25.0000\n"
     ]
    },
    {
     "name": "stderr",
     "output_type": "stream",
     "text": [
      " 40%|\u001b[34m████      \u001b[0m| 4/10 [00:12<00:16,  2.80s/it]\n",
      "\u001b[36m(launch_and_fit pid=8953)\u001b[0m /opt/conda/envs/fed/lib/python3.10/site-packages/torch/storage.py:414: FutureWarning: You are using `torch.load` with `weights_only=False` (the current default value), which uses the default pickle module implicitly. It is possible to construct malicious pickle data which will execute arbitrary code during unpickling (See https://github.com/pytorch/pytorch/blob/main/SECURITY.md#untrusted-models for more details). In a future release, the default value for `weights_only` will be flipped to `True`. This limits the functions that could be executed during unpickling. Arbitrary objects will no longer be allowed to be loaded via this mode unless they are explicitly allowlisted by the user via `torch.serialization.add_safe_globals`. We recommend you start setting `weights_only=True` for any use case where you don't have full control of the loaded file. Please open an issue on GitHub for any issues related to this experimental feature.\n",
      "\u001b[36m(launch_and_fit pid=8953)\u001b[0m   return torch.load(io.BytesIO(b))\n"
     ]
    },
    {
     "name": "stdout",
     "output_type": "stream",
     "text": [
      "\u001b[36m(launch_and_fit pid=8953)\u001b[0m Run with homomorphic encryption\n",
      "\u001b[36m(launch_and_fit pid=5962)\u001b[0m \tTrain Epoch: 5 \tTrain_loss_mri: 1.3184 | Train_acc_mri: 46.8750 | Train_loss_dna: 1.6912 | Train_acc_dna: 33.3333 | Validation_loss_mri: 1.4675 | Validation_acc_mri: 12.5000 | Validation_loss_dna: 1.8493 | Validation_acc_dna: 25.0000\n"
     ]
    },
    {
     "name": "stderr",
     "output_type": "stream",
     "text": [
      " 50%|\u001b[34m█████     \u001b[0m| 5/10 [00:14<00:13,  2.77s/it]\n"
     ]
    },
    {
     "name": "stdout",
     "output_type": "stream",
     "text": [
      "\u001b[36m(launch_and_fit pid=8953)\u001b[0m [Client 7, round 2] fit, config: {'learning_rate': 0.003, 'batch_size': '32', 'server_round': 2, 'local_epochs': 10}\n"
     ]
    },
    {
     "name": "stderr",
     "output_type": "stream",
     "text": [
      " 50%|\u001b[34m█████     \u001b[0m| 5/10 [00:16<00:16,  3.30s/it]\n"
     ]
    },
    {
     "name": "stdout",
     "output_type": "stream",
     "text": [
      "\u001b[36m(launch_and_fit pid=8953)\u001b[0m Updated model\n"
     ]
    },
    {
     "name": "stderr",
     "output_type": "stream",
     "text": [
      "  0%|\u001b[34m          \u001b[0m| 0/10 [00:00<?, ?it/s]\n"
     ]
    },
    {
     "name": "stdout",
     "output_type": "stream",
     "text": [
      "\u001b[33m(raylet)\u001b[0m A worker died or was killed while executing a task by an unexpected system error. To troubleshoot the problem, check the logs for the dead worker. RayTask ID: 11e6fde473e06eda6575cbb1f750141fd956a8ab01000000 Worker ID: 2d56fadd067b81207d5fa3abd2c1cd6c654540ba1c6fa1ee8e092f2f Node ID: 56a5e3c87d3ec0ccb4c476f81cf9b86de127e2bba9c5eacdfac15393 Worker IP address: 10.0.1.229 Worker port: 38935 Worker PID: 5962 Worker exit type: SYSTEM_ERROR Worker exit detail: The leased worker has unrecoverable failure. Worker is requested to be destroyed when it is returned. Worker exits with an exit code 1. The process receives a SIGTERM.\n",
      "\u001b[36m(launch_and_fit pid=8953)\u001b[0m \tTrain Epoch: 1 \tTrain_loss_mri: 1.3560 | Train_acc_mri: 35.4167 | Train_loss_dna: 1.8257 | Train_acc_dna: 30.2083 | Validation_loss_mri: 1.3087 | Validation_acc_mri: 37.5000 | Validation_loss_dna: 1.8677 | Validation_acc_dna: 25.0000\n"
     ]
    },
    {
     "name": "stderr",
     "output_type": "stream",
     "text": [
      " 10%|\u001b[34m█         \u001b[0m| 1/10 [00:16<02:27, 16.38s/it]\n"
     ]
    },
    {
     "name": "stdout",
     "output_type": "stream",
     "text": [
      "\u001b[36m(launch_and_fit pid=8953)\u001b[0m \tTrain Epoch: 2 \tTrain_loss_mri: 1.3617 | Train_acc_mri: 29.1667 | Train_loss_dna: 1.8133 | Train_acc_dna: 27.0833 | Validation_loss_mri: 1.2672 | Validation_acc_mri: 37.5000 | Validation_loss_dna: 1.8697 | Validation_acc_dna: 25.0000\n"
     ]
    },
    {
     "name": "stderr",
     "output_type": "stream",
     "text": [
      " 20%|\u001b[34m██        \u001b[0m| 2/10 [00:18<01:05,  8.14s/it]\n"
     ]
    },
    {
     "name": "stdout",
     "output_type": "stream",
     "text": [
      "\u001b[36m(launch_and_fit pid=8953)\u001b[0m \tTrain Epoch: 3 \tTrain_loss_mri: 1.3034 | Train_acc_mri: 38.5417 | Train_loss_dna: 1.8133 | Train_acc_dna: 30.2083 | Validation_loss_mri: 1.2393 | Validation_acc_mri: 37.5000 | Validation_loss_dna: 1.8495 | Validation_acc_dna: 25.0000\n"
     ]
    },
    {
     "name": "stderr",
     "output_type": "stream",
     "text": [
      " 30%|\u001b[34m███       \u001b[0m| 3/10 [00:21<00:38,  5.55s/it]\n"
     ]
    },
    {
     "name": "stdout",
     "output_type": "stream",
     "text": [
      "\u001b[36m(launch_and_fit pid=8953)\u001b[0m \tTrain Epoch: 4 \tTrain_loss_mri: 1.3665 | Train_acc_mri: 32.2917 | Train_loss_dna: 1.8474 | Train_acc_dna: 27.0833 | Validation_loss_mri: 1.2091 | Validation_acc_mri: 37.5000 | Validation_loss_dna: 1.8288 | Validation_acc_dna: 25.0000\n"
     ]
    },
    {
     "name": "stderr",
     "output_type": "stream",
     "text": [
      " 40%|\u001b[34m████      \u001b[0m| 4/10 [00:23<00:25,  4.28s/it]\n"
     ]
    },
    {
     "name": "stdout",
     "output_type": "stream",
     "text": [
      "\u001b[36m(launch_and_fit pid=8953)\u001b[0m \tTrain Epoch: 5 \tTrain_loss_mri: 1.3566 | Train_acc_mri: 36.4583 | Train_loss_dna: 1.8505 | Train_acc_dna: 23.9583 | Validation_loss_mri: 1.2007 | Validation_acc_mri: 37.5000 | Validation_loss_dna: 1.8232 | Validation_acc_dna: 25.0000\n"
     ]
    },
    {
     "name": "stderr",
     "output_type": "stream",
     "text": [
      " 50%|\u001b[34m█████     \u001b[0m| 5/10 [00:25<00:17,  3.59s/it]\n"
     ]
    },
    {
     "name": "stdout",
     "output_type": "stream",
     "text": [
      "\u001b[36m(launch_and_fit pid=8953)\u001b[0m \tTrain Epoch: 6 \tTrain_loss_mri: 1.3525 | Train_acc_mri: 31.2500 | Train_loss_dna: 1.7873 | Train_acc_dna: 27.0833 | Validation_loss_mri: 1.2259 | Validation_acc_mri: 50.0000 | Validation_loss_dna: 1.8090 | Validation_acc_dna: 25.0000\n"
     ]
    },
    {
     "name": "stderr",
     "output_type": "stream",
     "text": [
      " 60%|\u001b[34m██████    \u001b[0m| 6/10 [00:28<00:12,  3.18s/it]\n"
     ]
    },
    {
     "name": "stdout",
     "output_type": "stream",
     "text": [
      "\u001b[36m(launch_and_fit pid=8953)\u001b[0m \tTrain Epoch: 7 \tTrain_loss_mri: 1.4051 | Train_acc_mri: 35.4167 | Train_loss_dna: 1.8439 | Train_acc_dna: 23.9583 | Validation_loss_mri: 1.2409 | Validation_acc_mri: 37.5000 | Validation_loss_dna: 1.7913 | Validation_acc_dna: 25.0000\n"
     ]
    },
    {
     "name": "stderr",
     "output_type": "stream",
     "text": [
      " 70%|\u001b[34m███████   \u001b[0m| 7/10 [00:30<00:08,  2.82s/it]\n"
     ]
    },
    {
     "name": "stdout",
     "output_type": "stream",
     "text": [
      "\u001b[36m(launch_and_fit pid=8953)\u001b[0m \tTrain Epoch: 8 \tTrain_loss_mri: 1.3022 | Train_acc_mri: 45.8333 | Train_loss_dna: 1.8126 | Train_acc_dna: 23.9583 | Validation_loss_mri: 1.2362 | Validation_acc_mri: 37.5000 | Validation_loss_dna: 1.7743 | Validation_acc_dna: 25.0000\n"
     ]
    },
    {
     "name": "stderr",
     "output_type": "stream",
     "text": [
      " 80%|\u001b[34m████████  \u001b[0m| 8/10 [00:32<00:05,  2.64s/it]\n"
     ]
    },
    {
     "name": "stdout",
     "output_type": "stream",
     "text": [
      "\u001b[36m(launch_and_fit pid=8953)\u001b[0m \tTrain Epoch: 9 \tTrain_loss_mri: 1.3372 | Train_acc_mri: 31.2500 | Train_loss_dna: 1.7929 | Train_acc_dna: 23.9583 | Validation_loss_mri: 1.2730 | Validation_acc_mri: 37.5000 | Validation_loss_dna: 1.7587 | Validation_acc_dna: 25.0000\n"
     ]
    },
    {
     "name": "stderr",
     "output_type": "stream",
     "text": [
      " 90%|\u001b[34m█████████ \u001b[0m| 9/10 [00:34<00:02,  2.54s/it]\n"
     ]
    },
    {
     "name": "stdout",
     "output_type": "stream",
     "text": [
      "\u001b[36m(launch_and_fit pid=8953)\u001b[0m \tTrain Epoch: 10 \tTrain_loss_mri: 1.2817 | Train_acc_mri: 40.6250 | Train_loss_dna: 1.7842 | Train_acc_dna: 23.9583 | Validation_loss_mri: 1.2141 | Validation_acc_mri: 37.5000 | Validation_loss_dna: 1.7187 | Validation_acc_dna: 37.5000\n",
      "\u001b[36m(launch_and_fit pid=8953)\u001b[0m save graph in  results/FL/\n"
     ]
    },
    {
     "name": "stderr",
     "output_type": "stream",
     "text": [
      "100%|\u001b[34m██████████\u001b[0m| 10/10 [00:37<00:00,  3.73s/it]\n"
     ]
    },
    {
     "name": "stdout",
     "output_type": "stream",
     "text": [
      "\u001b[36m(launch_and_fit pid=8953)\u001b[0m mri_net.features.0.weight 3.814697265625e-06\n",
      "\u001b[36m(launch_and_fit pid=8953)\u001b[0m mri_net.features.0.bias 9.5367431640625e-07\n",
      "\u001b[36m(launch_and_fit pid=8953)\u001b[0m mri_net.features.3.weight 4.76837158203125e-07\n",
      "\u001b[36m(launch_and_fit pid=8953)\u001b[0m mri_net.features.3.bias 7.152557373046875e-07\n",
      "\u001b[36m(launch_and_fit pid=8953)\u001b[0m mri_net.classifier.0.weight 4.76837158203125e-07\n",
      "\u001b[36m(launch_and_fit pid=8953)\u001b[0m mri_net.classifier.0.bias 4.76837158203125e-07\n",
      "\u001b[36m(launch_and_fit pid=8953)\u001b[0m mri_net.classifier.2.weight 7.152557373046875e-07\n",
      "\u001b[36m(launch_and_fit pid=8953)\u001b[0m mri_net.classifier.2.bias 4.76837158203125e-07\n",
      "\u001b[36m(launch_and_fit pid=8953)\u001b[0m mri_net.classifier.3.weights 4.76837158203125e-07\n",
      "\u001b[36m(launch_and_fit pid=8953)\u001b[0m dna_net.fc1.weight 9.5367431640625e-07\n",
      "\u001b[36m(launch_and_fit pid=8953)\u001b[0m dna_net.fc1.bias 4.76837158203125e-07\n",
      "\u001b[36m(launch_and_fit pid=8953)\u001b[0m dna_net.fc2.weight 4.76837158203125e-07\n",
      "\u001b[36m(launch_and_fit pid=8953)\u001b[0m dna_net.fc2.bias 4.76837158203125e-07\n",
      "\u001b[36m(launch_and_fit pid=8953)\u001b[0m dna_net.fc3.weight 4.76837158203125e-07\n",
      "\u001b[36m(launch_and_fit pid=8953)\u001b[0m dna_net.fc3.bias 4.76837158203125e-07\n",
      "\u001b[36m(launch_and_fit pid=8953)\u001b[0m dna_net.fc4.weight 2.384185791015625e-07\n",
      "\u001b[36m(launch_and_fit pid=8953)\u001b[0m dna_net.fc4.bias 7.152557373046875e-07\n",
      "\u001b[36m(launch_and_fit pid=8953)\u001b[0m dna_net.qnn.weights 2.384185791015625e-07\n",
      "\u001b[36m(launch_and_fit pid=8953)\u001b[0m attention.in_proj_weight 4.76837158203125e-07\n",
      "\u001b[36m(launch_and_fit pid=8953)\u001b[0m attention.in_proj_bias 4.76837158203125e-07\n",
      "\u001b[36m(launch_and_fit pid=8953)\u001b[0m attention.out_proj.weight 4.76837158203125e-07\n",
      "\u001b[36m(launch_and_fit pid=8953)\u001b[0m attention.out_proj.bias 4.76837158203125e-07\n",
      "\u001b[36m(launch_and_fit pid=8953)\u001b[0m fc1.weight 4.76837158203125e-07\n",
      "\u001b[36m(launch_and_fit pid=8953)\u001b[0m fc1.bias 4.76837158203125e-07\n",
      "\u001b[36m(launch_and_fit pid=8953)\u001b[0m fc2_mri.weight 4.76837158203125e-07\n",
      "\u001b[36m(launch_and_fit pid=8953)\u001b[0m fc2_mri.bias 4.76837158203125e-07\n",
      "\u001b[36m(launch_and_fit pid=8953)\u001b[0m fc2_dna.weight 4.76837158203125e-07\n",
      "\u001b[36m(launch_and_fit pid=8953)\u001b[0m fc2_dna.bias 2.384185791015625e-07\n"
     ]
    },
    {
     "name": "stderr",
     "output_type": "stream",
     "text": [
      "\u001b[36m(launch_and_fit pid=9249)\u001b[0m /opt/conda/envs/fed/lib/python3.10/site-packages/torch/storage.py:414: FutureWarning: You are using `torch.load` with `weights_only=False` (the current default value), which uses the default pickle module implicitly. It is possible to construct malicious pickle data which will execute arbitrary code during unpickling (See https://github.com/pytorch/pytorch/blob/main/SECURITY.md#untrusted-models for more details). In a future release, the default value for `weights_only` will be flipped to `True`. This limits the functions that could be executed during unpickling. Arbitrary objects will no longer be allowed to be loaded via this mode unless they are explicitly allowlisted by the user via `torch.serialization.add_safe_globals`. We recommend you start setting `weights_only=True` for any use case where you don't have full control of the loaded file. Please open an issue on GitHub for any issues related to this experimental feature.\n",
      "\u001b[36m(launch_and_fit pid=9249)\u001b[0m   return torch.load(io.BytesIO(b))\n"
     ]
    },
    {
     "name": "stdout",
     "output_type": "stream",
     "text": [
      "\u001b[36m(launch_and_fit pid=9249)\u001b[0m Run with homomorphic encryption\n",
      "\u001b[36m(launch_and_fit pid=9249)\u001b[0m [Client 5, round 2] fit, config: {'learning_rate': 0.003, 'batch_size': '32', 'server_round': 2, 'local_epochs': 10}\n"
     ]
    },
    {
     "name": "stderr",
     "output_type": "stream",
     "text": [
      "  0%|\u001b[34m          \u001b[0m| 0/10 [00:00<?, ?it/s]\n"
     ]
    },
    {
     "name": "stdout",
     "output_type": "stream",
     "text": [
      "\u001b[36m(launch_and_fit pid=9249)\u001b[0m Updated model\n"
     ]
    },
    {
     "name": "stderr",
     "output_type": "stream",
     "text": [
      " 10%|\u001b[34m█         \u001b[0m| 1/10 [00:03<00:29,  3.28s/it]\n"
     ]
    },
    {
     "name": "stdout",
     "output_type": "stream",
     "text": [
      "\u001b[36m(launch_and_fit pid=9249)\u001b[0m \tTrain Epoch: 1 \tTrain_loss_mri: 1.4077 | Train_acc_mri: 17.7083 | Train_loss_dna: 1.6643 | Train_acc_dna: 45.8333 | Validation_loss_mri: 1.4170 | Validation_acc_mri: 37.5000 | Validation_loss_dna: 1.8004 | Validation_acc_dna: 25.0000\n"
     ]
    },
    {
     "name": "stderr",
     "output_type": "stream",
     "text": [
      " 20%|\u001b[34m██        \u001b[0m| 2/10 [00:05<00:22,  2.86s/it]\n"
     ]
    },
    {
     "name": "stdout",
     "output_type": "stream",
     "text": [
      "\u001b[36m(launch_and_fit pid=9249)\u001b[0m \tTrain Epoch: 2 \tTrain_loss_mri: 1.3810 | Train_acc_mri: 30.2083 | Train_loss_dna: 1.7191 | Train_acc_dna: 39.5833 | Validation_loss_mri: 1.4340 | Validation_acc_mri: 12.5000 | Validation_loss_dna: 1.8111 | Validation_acc_dna: 25.0000\n"
     ]
    },
    {
     "name": "stderr",
     "output_type": "stream",
     "text": [
      " 30%|\u001b[34m███       \u001b[0m| 3/10 [00:08<00:18,  2.70s/it]\n"
     ]
    },
    {
     "name": "stdout",
     "output_type": "stream",
     "text": [
      "\u001b[36m(launch_and_fit pid=9249)\u001b[0m \tTrain Epoch: 3 \tTrain_loss_mri: 1.3341 | Train_acc_mri: 46.8750 | Train_loss_dna: 1.7667 | Train_acc_dna: 33.3333 | Validation_loss_mri: 1.4511 | Validation_acc_mri: 12.5000 | Validation_loss_dna: 1.7997 | Validation_acc_dna: 25.0000\n"
     ]
    },
    {
     "name": "stderr",
     "output_type": "stream",
     "text": [
      " 40%|\u001b[34m████      \u001b[0m| 4/10 [00:10<00:15,  2.63s/it]\n"
     ]
    },
    {
     "name": "stdout",
     "output_type": "stream",
     "text": [
      "\u001b[36m(launch_and_fit pid=9249)\u001b[0m \tTrain Epoch: 4 \tTrain_loss_mri: 1.3518 | Train_acc_mri: 37.5000 | Train_loss_dna: 1.7047 | Train_acc_dna: 36.4583 | Validation_loss_mri: 1.4652 | Validation_acc_mri: 12.5000 | Validation_loss_dna: 1.8229 | Validation_acc_dna: 25.0000\n"
     ]
    },
    {
     "name": "stderr",
     "output_type": "stream",
     "text": [
      " 50%|\u001b[34m█████     \u001b[0m| 5/10 [00:13<00:12,  2.55s/it]\n"
     ]
    },
    {
     "name": "stdout",
     "output_type": "stream",
     "text": [
      "\u001b[36m(launch_and_fit pid=9249)\u001b[0m \tTrain Epoch: 5 \tTrain_loss_mri: 1.3663 | Train_acc_mri: 34.3750 | Train_loss_dna: 1.7005 | Train_acc_dna: 36.4583 | Validation_loss_mri: 1.4871 | Validation_acc_mri: 12.5000 | Validation_loss_dna: 1.8390 | Validation_acc_dna: 25.0000\n"
     ]
    },
    {
     "name": "stderr",
     "output_type": "stream",
     "text": [
      " 60%|\u001b[34m██████    \u001b[0m| 6/10 [00:15<00:10,  2.56s/it]\n"
     ]
    },
    {
     "name": "stdout",
     "output_type": "stream",
     "text": [
      "\u001b[36m(launch_and_fit pid=9249)\u001b[0m \tTrain Epoch: 6 \tTrain_loss_mri: 1.3188 | Train_acc_mri: 43.7500 | Train_loss_dna: 1.6818 | Train_acc_dna: 36.4583 | Validation_loss_mri: 1.5017 | Validation_acc_mri: 12.5000 | Validation_loss_dna: 1.8451 | Validation_acc_dna: 25.0000\n"
     ]
    },
    {
     "name": "stderr",
     "output_type": "stream",
     "text": [
      " 70%|\u001b[34m███████   \u001b[0m| 7/10 [00:18<00:07,  2.53s/it]\n"
     ]
    },
    {
     "name": "stdout",
     "output_type": "stream",
     "text": [
      "\u001b[36m(launch_and_fit pid=9249)\u001b[0m \tTrain Epoch: 7 \tTrain_loss_mri: 1.3483 | Train_acc_mri: 37.5000 | Train_loss_dna: 1.7031 | Train_acc_dna: 36.4583 | Validation_loss_mri: 1.5235 | Validation_acc_mri: 12.5000 | Validation_loss_dna: 1.8502 | Validation_acc_dna: 25.0000\n"
     ]
    },
    {
     "name": "stderr",
     "output_type": "stream",
     "text": [
      " 80%|\u001b[34m████████  \u001b[0m| 8/10 [00:20<00:05,  2.54s/it]\n"
     ]
    },
    {
     "name": "stdout",
     "output_type": "stream",
     "text": [
      "\u001b[36m(launch_and_fit pid=9249)\u001b[0m \tTrain Epoch: 8 \tTrain_loss_mri: 1.3012 | Train_acc_mri: 43.7500 | Train_loss_dna: 1.7376 | Train_acc_dna: 33.3333 | Validation_loss_mri: 1.5268 | Validation_acc_mri: 12.5000 | Validation_loss_dna: 1.8580 | Validation_acc_dna: 25.0000\n"
     ]
    },
    {
     "name": "stderr",
     "output_type": "stream",
     "text": [
      " 90%|\u001b[34m█████████ \u001b[0m| 9/10 [00:23<00:02,  2.51s/it]\n"
     ]
    },
    {
     "name": "stdout",
     "output_type": "stream",
     "text": [
      "\u001b[36m(launch_and_fit pid=9249)\u001b[0m \tTrain Epoch: 9 \tTrain_loss_mri: 1.2562 | Train_acc_mri: 50.0000 | Train_loss_dna: 1.6348 | Train_acc_dna: 39.5833 | Validation_loss_mri: 1.5428 | Validation_acc_mri: 12.5000 | Validation_loss_dna: 1.8672 | Validation_acc_dna: 25.0000\n"
     ]
    },
    {
     "name": "stderr",
     "output_type": "stream",
     "text": [
      "100%|\u001b[34m██████████\u001b[0m| 10/10 [00:25<00:00,  2.59s/it]\n"
     ]
    },
    {
     "name": "stdout",
     "output_type": "stream",
     "text": [
      "\u001b[36m(launch_and_fit pid=9249)\u001b[0m \tTrain Epoch: 10 \tTrain_loss_mri: 1.2970 | Train_acc_mri: 43.7500 | Train_loss_dna: 1.8211 | Train_acc_dna: 30.2083 | Validation_loss_mri: 1.5715 | Validation_acc_mri: 12.5000 | Validation_loss_dna: 1.8913 | Validation_acc_dna: 25.0000\n",
      "\u001b[36m(launch_and_fit pid=9249)\u001b[0m save graph in  results/FL/\n",
      "\u001b[36m(launch_and_fit pid=9249)\u001b[0m mri_net.features.0.weight 3.337860107421875e-06\n",
      "\u001b[36m(launch_and_fit pid=9249)\u001b[0m mri_net.features.0.bias 9.5367431640625e-07\n",
      "\u001b[36m(launch_and_fit pid=9249)\u001b[0m mri_net.features.3.weight 7.152557373046875e-07\n",
      "\u001b[36m(launch_and_fit pid=9249)\u001b[0m mri_net.features.3.bias 4.76837158203125e-07\n",
      "\u001b[36m(launch_and_fit pid=9249)\u001b[0m mri_net.classifier.0.weight 4.76837158203125e-07\n",
      "\u001b[36m(launch_and_fit pid=9249)\u001b[0m mri_net.classifier.0.bias 7.152557373046875e-07\n",
      "\u001b[36m(launch_and_fit pid=9249)\u001b[0m mri_net.classifier.2.weight 1.1920928955078125e-06\n",
      "\u001b[36m(launch_and_fit pid=9249)\u001b[0m mri_net.classifier.2.bias 9.5367431640625e-07\n",
      "\u001b[36m(launch_and_fit pid=9249)\u001b[0m mri_net.classifier.3.weights 4.76837158203125e-07\n",
      "\u001b[36m(launch_and_fit pid=9249)\u001b[0m dna_net.fc1.weight 4.76837158203125e-07\n",
      "\u001b[36m(launch_and_fit pid=9249)\u001b[0m dna_net.fc1.bias 4.76837158203125e-07\n",
      "\u001b[36m(launch_and_fit pid=9249)\u001b[0m dna_net.fc2.weight 4.76837158203125e-07\n",
      "\u001b[36m(launch_and_fit pid=9249)\u001b[0m dna_net.fc2.bias 2.384185791015625e-07\n",
      "\u001b[36m(launch_and_fit pid=9249)\u001b[0m dna_net.fc3.weight 7.152557373046875e-07\n",
      "\u001b[36m(launch_and_fit pid=9249)\u001b[0m dna_net.fc3.bias 4.76837158203125e-07\n",
      "\u001b[36m(launch_and_fit pid=9249)\u001b[0m dna_net.fc4.weight 4.76837158203125e-07\n",
      "\u001b[36m(launch_and_fit pid=9249)\u001b[0m dna_net.fc4.bias 4.76837158203125e-07\n",
      "\u001b[36m(launch_and_fit pid=9249)\u001b[0m dna_net.qnn.weights 7.152557373046875e-07\n",
      "\u001b[36m(launch_and_fit pid=9249)\u001b[0m attention.in_proj_weight 4.76837158203125e-07\n",
      "\u001b[36m(launch_and_fit pid=9249)\u001b[0m attention.in_proj_bias 4.76837158203125e-07\n",
      "\u001b[36m(launch_and_fit pid=9249)\u001b[0m attention.out_proj.weight 4.76837158203125e-07\n",
      "\u001b[36m(launch_and_fit pid=9249)\u001b[0m attention.out_proj.bias 4.76837158203125e-07\n",
      "\u001b[36m(launch_and_fit pid=9249)\u001b[0m fc1.weight 7.152557373046875e-07\n",
      "\u001b[36m(launch_and_fit pid=9249)\u001b[0m fc1.bias 4.76837158203125e-07\n",
      "\u001b[36m(launch_and_fit pid=9249)\u001b[0m fc2_mri.weight 2.384185791015625e-07\n",
      "\u001b[36m(launch_and_fit pid=9249)\u001b[0m fc2_mri.bias 2.384185791015625e-07\n",
      "\u001b[36m(launch_and_fit pid=9249)\u001b[0m fc2_dna.weight 4.76837158203125e-07\n",
      "\u001b[36m(launch_and_fit pid=9249)\u001b[0m fc2_dna.bias 4.76837158203125e-07\n"
     ]
    },
    {
     "name": "stderr",
     "output_type": "stream",
     "text": [
      "DEBUG flwr 2024-08-05 04:15:21,151 | server.py:236 | fit_round 2 received 10 results and 0 failures\n"
     ]
    },
    {
     "name": "stdout",
     "output_type": "stream",
     "text": [
      "Saving round 2 aggregated_parameters...\n"
     ]
    },
    {
     "name": "stderr",
     "output_type": "stream",
     "text": [
      "DEBUG flwr 2024-08-05 04:15:25,662 | server.py:173 | evaluate_round 2: strategy sampled 10 clients (out of 10)\n"
     ]
    },
    {
     "name": "stdout",
     "output_type": "stream",
     "text": [
      "\u001b[36m(launch_and_evaluate pid=8953)\u001b[0m Run with homomorphic encryption\n",
      "\u001b[36m(launch_and_evaluate pid=8953)\u001b[0m [Client 2] evaluate, config: {}\n",
      "\u001b[36m(launch_and_evaluate pid=8953)\u001b[0m Updated model\n"
     ]
    },
    {
     "name": "stderr",
     "output_type": "stream",
     "text": [
      "\u001b[36m(launch_and_evaluate pid=8953)\u001b[0m /home/codespace/.local/lib/python3.10/site-packages/sklearn/metrics/_ranking.py:1183: UndefinedMetricWarning: No positive samples in y_true, true positive value should be meaningless\n",
      "\u001b[36m(launch_and_evaluate pid=8953)\u001b[0m   warnings.warn(\n",
      "\u001b[36m(launch_and_evaluate pid=8953)\u001b[0m /home/codespace/.local/lib/python3.10/site-packages/sklearn/metrics/_ranking.py:1183: UndefinedMetricWarning: No positive samples in y_true, true positive value should be meaningless\n",
      "\u001b[36m(launch_and_evaluate pid=8953)\u001b[0m   warnings.warn(\n",
      "\u001b[36m(launch_and_evaluate pid=8953)\u001b[0m /home/codespace/.local/lib/python3.10/site-packages/sklearn/metrics/_ranking.py:1183: UndefinedMetricWarning: No positive samples in y_true, true positive value should be meaningless\n",
      "\u001b[36m(launch_and_evaluate pid=8953)\u001b[0m   warnings.warn(\n",
      "\u001b[36m(launch_and_evaluate pid=8953)\u001b[0m /home/codespace/.local/lib/python3.10/site-packages/sklearn/metrics/_ranking.py:1183: UndefinedMetricWarning: No positive samples in y_true, true positive value should be meaningless\n",
      "\u001b[36m(launch_and_evaluate pid=8953)\u001b[0m   warnings.warn(\n",
      "\u001b[36m(launch_and_evaluate pid=8953)\u001b[0m /home/codespace/.local/lib/python3.10/site-packages/sklearn/metrics/_ranking.py:1183: UndefinedMetricWarning: No positive samples in y_true, true positive value should be meaningless\n",
      "\u001b[36m(launch_and_evaluate pid=8953)\u001b[0m   warnings.warn(\n",
      "\u001b[36m(launch_and_evaluate pid=8953)\u001b[0m /opt/conda/envs/fed/lib/python3.10/site-packages/torch/storage.py:414: FutureWarning: You are using `torch.load` with `weights_only=False` (the current default value), which uses the default pickle module implicitly. It is possible to construct malicious pickle data which will execute arbitrary code during unpickling (See https://github.com/pytorch/pytorch/blob/main/SECURITY.md#untrusted-models for more details). In a future release, the default value for `weights_only` will be flipped to `True`. This limits the functions that could be executed during unpickling. Arbitrary objects will no longer be allowed to be loaded via this mode unless they are explicitly allowlisted by the user via `torch.serialization.add_safe_globals`. We recommend you start setting `weights_only=True` for any use case where you don't have full control of the loaded file. Please open an issue on GitHub for any issues related to this experimental feature.\n",
      "\u001b[36m(launch_and_evaluate pid=8953)\u001b[0m   return torch.load(io.BytesIO(b))\n"
     ]
    },
    {
     "name": "stdout",
     "output_type": "stream",
     "text": [
      "\u001b[36m(launch_and_evaluate pid=8953)\u001b[0m Run with homomorphic encryption\n",
      "\u001b[36m(launch_and_evaluate pid=8953)\u001b[0m [Client 3] evaluate, config: {}\n",
      "\u001b[36m(launch_and_evaluate pid=8953)\u001b[0m Updated model\n"
     ]
    },
    {
     "name": "stderr",
     "output_type": "stream",
     "text": [
      "\u001b[36m(launch_and_evaluate pid=8953)\u001b[0m /home/codespace/.local/lib/python3.10/site-packages/sklearn/metrics/_ranking.py:1183: UndefinedMetricWarning: No positive samples in y_true, true positive value should be meaningless\n",
      "\u001b[36m(launch_and_evaluate pid=8953)\u001b[0m   warnings.warn(\n",
      "\u001b[36m(launch_and_evaluate pid=8953)\u001b[0m /home/codespace/.local/lib/python3.10/site-packages/sklearn/metrics/_ranking.py:1183: UndefinedMetricWarning: No positive samples in y_true, true positive value should be meaningless\n",
      "\u001b[36m(launch_and_evaluate pid=8953)\u001b[0m   warnings.warn(\n",
      "\u001b[36m(launch_and_evaluate pid=8953)\u001b[0m /home/codespace/.local/lib/python3.10/site-packages/sklearn/metrics/_ranking.py:1183: UndefinedMetricWarning: No positive samples in y_true, true positive value should be meaningless\n",
      "\u001b[36m(launch_and_evaluate pid=8953)\u001b[0m   warnings.warn(\n",
      "\u001b[36m(launch_and_evaluate pid=8953)\u001b[0m /home/codespace/.local/lib/python3.10/site-packages/sklearn/metrics/_ranking.py:1183: UndefinedMetricWarning: No positive samples in y_true, true positive value should be meaningless\n",
      "\u001b[36m(launch_and_evaluate pid=8953)\u001b[0m   warnings.warn(\n",
      "\u001b[36m(launch_and_evaluate pid=8953)\u001b[0m /opt/conda/envs/fed/lib/python3.10/site-packages/torch/storage.py:414: FutureWarning: You are using `torch.load` with `weights_only=False` (the current default value), which uses the default pickle module implicitly. It is possible to construct malicious pickle data which will execute arbitrary code during unpickling (See https://github.com/pytorch/pytorch/blob/main/SECURITY.md#untrusted-models for more details). In a future release, the default value for `weights_only` will be flipped to `True`. This limits the functions that could be executed during unpickling. Arbitrary objects will no longer be allowed to be loaded via this mode unless they are explicitly allowlisted by the user via `torch.serialization.add_safe_globals`. We recommend you start setting `weights_only=True` for any use case where you don't have full control of the loaded file. Please open an issue on GitHub for any issues related to this experimental feature.\n",
      "\u001b[36m(launch_and_evaluate pid=8953)\u001b[0m   return torch.load(io.BytesIO(b))\n"
     ]
    },
    {
     "name": "stdout",
     "output_type": "stream",
     "text": [
      "\u001b[36m(launch_and_evaluate pid=8953)\u001b[0m Run with homomorphic encryption\n",
      "\u001b[36m(launch_and_evaluate pid=8953)\u001b[0m [Client 4] evaluate, config: {}\n",
      "\u001b[36m(launch_and_evaluate pid=8953)\u001b[0m Updated model\n"
     ]
    },
    {
     "name": "stderr",
     "output_type": "stream",
     "text": [
      "\u001b[36m(launch_and_evaluate pid=8953)\u001b[0m /home/codespace/.local/lib/python3.10/site-packages/sklearn/metrics/_ranking.py:1183: UndefinedMetricWarning: No positive samples in y_true, true positive value should be meaningless\n",
      "\u001b[36m(launch_and_evaluate pid=8953)\u001b[0m   warnings.warn(\n",
      "\u001b[36m(launch_and_evaluate pid=8953)\u001b[0m /home/codespace/.local/lib/python3.10/site-packages/sklearn/metrics/_ranking.py:1183: UndefinedMetricWarning: No positive samples in y_true, true positive value should be meaningless\n",
      "\u001b[36m(launch_and_evaluate pid=8953)\u001b[0m   warnings.warn(\n",
      "\u001b[36m(launch_and_evaluate pid=8953)\u001b[0m /home/codespace/.local/lib/python3.10/site-packages/sklearn/metrics/_ranking.py:1183: UndefinedMetricWarning: No positive samples in y_true, true positive value should be meaningless\n",
      "\u001b[36m(launch_and_evaluate pid=8953)\u001b[0m   warnings.warn(\n",
      "\u001b[36m(launch_and_evaluate pid=8953)\u001b[0m /opt/conda/envs/fed/lib/python3.10/site-packages/torch/storage.py:414: FutureWarning: You are using `torch.load` with `weights_only=False` (the current default value), which uses the default pickle module implicitly. It is possible to construct malicious pickle data which will execute arbitrary code during unpickling (See https://github.com/pytorch/pytorch/blob/main/SECURITY.md#untrusted-models for more details). In a future release, the default value for `weights_only` will be flipped to `True`. This limits the functions that could be executed during unpickling. Arbitrary objects will no longer be allowed to be loaded via this mode unless they are explicitly allowlisted by the user via `torch.serialization.add_safe_globals`. We recommend you start setting `weights_only=True` for any use case where you don't have full control of the loaded file. Please open an issue on GitHub for any issues related to this experimental feature.\n",
      "\u001b[36m(launch_and_evaluate pid=8953)\u001b[0m   return torch.load(io.BytesIO(b))\n"
     ]
    },
    {
     "name": "stdout",
     "output_type": "stream",
     "text": [
      "\u001b[36m(launch_and_evaluate pid=8953)\u001b[0m Run with homomorphic encryption\n",
      "\u001b[36m(launch_and_evaluate pid=8953)\u001b[0m [Client 6] evaluate, config: {}\n",
      "\u001b[36m(launch_and_evaluate pid=8953)\u001b[0m Updated model\n"
     ]
    },
    {
     "name": "stderr",
     "output_type": "stream",
     "text": [
      "\u001b[36m(launch_and_evaluate pid=8953)\u001b[0m /home/codespace/.local/lib/python3.10/site-packages/sklearn/metrics/_ranking.py:1183: UndefinedMetricWarning: No positive samples in y_true, true positive value should be meaningless\n",
      "\u001b[36m(launch_and_evaluate pid=8953)\u001b[0m   warnings.warn(\n",
      "\u001b[36m(launch_and_evaluate pid=8953)\u001b[0m /home/codespace/.local/lib/python3.10/site-packages/sklearn/metrics/_ranking.py:1183: UndefinedMetricWarning: No positive samples in y_true, true positive value should be meaningless\n",
      "\u001b[36m(launch_and_evaluate pid=8953)\u001b[0m   warnings.warn(\n",
      "\u001b[36m(launch_and_evaluate pid=8953)\u001b[0m /home/codespace/.local/lib/python3.10/site-packages/sklearn/metrics/_ranking.py:1183: UndefinedMetricWarning: No positive samples in y_true, true positive value should be meaningless\n",
      "\u001b[36m(launch_and_evaluate pid=8953)\u001b[0m   warnings.warn(\n",
      "\u001b[36m(launch_and_evaluate pid=8953)\u001b[0m /home/codespace/.local/lib/python3.10/site-packages/sklearn/metrics/_ranking.py:1183: UndefinedMetricWarning: No positive samples in y_true, true positive value should be meaningless\n",
      "\u001b[36m(launch_and_evaluate pid=8953)\u001b[0m   warnings.warn(\n",
      "\u001b[36m(launch_and_evaluate pid=8953)\u001b[0m /home/codespace/.local/lib/python3.10/site-packages/sklearn/metrics/_ranking.py:1183: UndefinedMetricWarning: No positive samples in y_true, true positive value should be meaningless\n",
      "\u001b[36m(launch_and_evaluate pid=8953)\u001b[0m   warnings.warn(\n",
      "\u001b[36m(launch_and_evaluate pid=8953)\u001b[0m /opt/conda/envs/fed/lib/python3.10/site-packages/torch/storage.py:414: FutureWarning: You are using `torch.load` with `weights_only=False` (the current default value), which uses the default pickle module implicitly. It is possible to construct malicious pickle data which will execute arbitrary code during unpickling (See https://github.com/pytorch/pytorch/blob/main/SECURITY.md#untrusted-models for more details). In a future release, the default value for `weights_only` will be flipped to `True`. This limits the functions that could be executed during unpickling. Arbitrary objects will no longer be allowed to be loaded via this mode unless they are explicitly allowlisted by the user via `torch.serialization.add_safe_globals`. We recommend you start setting `weights_only=True` for any use case where you don't have full control of the loaded file. Please open an issue on GitHub for any issues related to this experimental feature.\n",
      "\u001b[36m(launch_and_evaluate pid=8953)\u001b[0m   return torch.load(io.BytesIO(b))\n"
     ]
    },
    {
     "name": "stdout",
     "output_type": "stream",
     "text": [
      "\u001b[36m(launch_and_evaluate pid=8953)\u001b[0m Run with homomorphic encryption\n",
      "\u001b[36m(launch_and_evaluate pid=8953)\u001b[0m [Client 1] evaluate, config: {}\n",
      "\u001b[36m(launch_and_evaluate pid=8953)\u001b[0m Updated model\n"
     ]
    },
    {
     "name": "stderr",
     "output_type": "stream",
     "text": [
      "\u001b[36m(launch_and_evaluate pid=8953)\u001b[0m /home/codespace/.local/lib/python3.10/site-packages/sklearn/metrics/_ranking.py:1183: UndefinedMetricWarning: No positive samples in y_true, true positive value should be meaningless\n",
      "\u001b[36m(launch_and_evaluate pid=8953)\u001b[0m   warnings.warn(\n",
      "\u001b[36m(launch_and_evaluate pid=8953)\u001b[0m /home/codespace/.local/lib/python3.10/site-packages/sklearn/metrics/_ranking.py:1183: UndefinedMetricWarning: No positive samples in y_true, true positive value should be meaningless\n",
      "\u001b[36m(launch_and_evaluate pid=8953)\u001b[0m   warnings.warn(\n",
      "\u001b[36m(launch_and_evaluate pid=8953)\u001b[0m /home/codespace/.local/lib/python3.10/site-packages/sklearn/metrics/_ranking.py:1183: UndefinedMetricWarning: No positive samples in y_true, true positive value should be meaningless\n",
      "\u001b[36m(launch_and_evaluate pid=8953)\u001b[0m   warnings.warn(\n",
      "\u001b[36m(launch_and_evaluate pid=8953)\u001b[0m /opt/conda/envs/fed/lib/python3.10/site-packages/torch/storage.py:414: FutureWarning: You are using `torch.load` with `weights_only=False` (the current default value), which uses the default pickle module implicitly. It is possible to construct malicious pickle data which will execute arbitrary code during unpickling (See https://github.com/pytorch/pytorch/blob/main/SECURITY.md#untrusted-models for more details). In a future release, the default value for `weights_only` will be flipped to `True`. This limits the functions that could be executed during unpickling. Arbitrary objects will no longer be allowed to be loaded via this mode unless they are explicitly allowlisted by the user via `torch.serialization.add_safe_globals`. We recommend you start setting `weights_only=True` for any use case where you don't have full control of the loaded file. Please open an issue on GitHub for any issues related to this experimental feature.\n",
      "\u001b[36m(launch_and_evaluate pid=8953)\u001b[0m   return torch.load(io.BytesIO(b))\n"
     ]
    },
    {
     "name": "stdout",
     "output_type": "stream",
     "text": [
      "\u001b[36m(launch_and_evaluate pid=8953)\u001b[0m Run with homomorphic encryption\n",
      "\u001b[36m(launch_and_evaluate pid=8953)\u001b[0m [Client 5] evaluate, config: {}\n",
      "\u001b[36m(launch_and_evaluate pid=8953)\u001b[0m Updated model\n"
     ]
    },
    {
     "name": "stderr",
     "output_type": "stream",
     "text": [
      "\u001b[36m(launch_and_evaluate pid=8953)\u001b[0m /home/codespace/.local/lib/python3.10/site-packages/sklearn/metrics/_ranking.py:1183: UndefinedMetricWarning: No positive samples in y_true, true positive value should be meaningless\n",
      "\u001b[36m(launch_and_evaluate pid=8953)\u001b[0m   warnings.warn(\n",
      "\u001b[36m(launch_and_evaluate pid=8953)\u001b[0m /home/codespace/.local/lib/python3.10/site-packages/sklearn/metrics/_ranking.py:1183: UndefinedMetricWarning: No positive samples in y_true, true positive value should be meaningless\n",
      "\u001b[36m(launch_and_evaluate pid=8953)\u001b[0m   warnings.warn(\n"
     ]
    },
    {
     "name": "stdout",
     "output_type": "stream",
     "text": [
      "\u001b[36m(launch_and_evaluate pid=8953)\u001b[0m Run with homomorphic encryption\n"
     ]
    },
    {
     "name": "stderr",
     "output_type": "stream",
     "text": [
      "\u001b[36m(launch_and_evaluate pid=8953)\u001b[0m /opt/conda/envs/fed/lib/python3.10/site-packages/torch/storage.py:414: FutureWarning: You are using `torch.load` with `weights_only=False` (the current default value), which uses the default pickle module implicitly. It is possible to construct malicious pickle data which will execute arbitrary code during unpickling (See https://github.com/pytorch/pytorch/blob/main/SECURITY.md#untrusted-models for more details). In a future release, the default value for `weights_only` will be flipped to `True`. This limits the functions that could be executed during unpickling. Arbitrary objects will no longer be allowed to be loaded via this mode unless they are explicitly allowlisted by the user via `torch.serialization.add_safe_globals`. We recommend you start setting `weights_only=True` for any use case where you don't have full control of the loaded file. Please open an issue on GitHub for any issues related to this experimental feature.\n",
      "\u001b[36m(launch_and_evaluate pid=8953)\u001b[0m   return torch.load(io.BytesIO(b))\n"
     ]
    },
    {
     "name": "stdout",
     "output_type": "stream",
     "text": [
      "\u001b[36m(launch_and_evaluate pid=8953)\u001b[0m [Client 9] evaluate, config: {}\n",
      "\u001b[36m(launch_and_evaluate pid=8953)\u001b[0m Updated model\n"
     ]
    },
    {
     "name": "stderr",
     "output_type": "stream",
     "text": [
      "\u001b[36m(launch_and_evaluate pid=8953)\u001b[0m /home/codespace/.local/lib/python3.10/site-packages/sklearn/metrics/_ranking.py:1183: UndefinedMetricWarning: No positive samples in y_true, true positive value should be meaningless\n",
      "\u001b[36m(launch_and_evaluate pid=8953)\u001b[0m   warnings.warn(\n",
      "\u001b[36m(launch_and_evaluate pid=8953)\u001b[0m /home/codespace/.local/lib/python3.10/site-packages/sklearn/metrics/_ranking.py:1183: UndefinedMetricWarning: No positive samples in y_true, true positive value should be meaningless\n",
      "\u001b[36m(launch_and_evaluate pid=8953)\u001b[0m   warnings.warn(\n",
      "\u001b[36m(launch_and_evaluate pid=8953)\u001b[0m /home/codespace/.local/lib/python3.10/site-packages/sklearn/metrics/_ranking.py:1183: UndefinedMetricWarning: No positive samples in y_true, true positive value should be meaningless\n",
      "\u001b[36m(launch_and_evaluate pid=8953)\u001b[0m   warnings.warn(\n",
      "\u001b[36m(launch_and_evaluate pid=8953)\u001b[0m /opt/conda/envs/fed/lib/python3.10/site-packages/torch/storage.py:414: FutureWarning: You are using `torch.load` with `weights_only=False` (the current default value), which uses the default pickle module implicitly. It is possible to construct malicious pickle data which will execute arbitrary code during unpickling (See https://github.com/pytorch/pytorch/blob/main/SECURITY.md#untrusted-models for more details). In a future release, the default value for `weights_only` will be flipped to `True`. This limits the functions that could be executed during unpickling. Arbitrary objects will no longer be allowed to be loaded via this mode unless they are explicitly allowlisted by the user via `torch.serialization.add_safe_globals`. We recommend you start setting `weights_only=True` for any use case where you don't have full control of the loaded file. Please open an issue on GitHub for any issues related to this experimental feature.\n",
      "\u001b[36m(launch_and_evaluate pid=8953)\u001b[0m   return torch.load(io.BytesIO(b))\n"
     ]
    },
    {
     "name": "stdout",
     "output_type": "stream",
     "text": [
      "\u001b[36m(launch_and_evaluate pid=8953)\u001b[0m Run with homomorphic encryption\n",
      "\u001b[36m(launch_and_evaluate pid=8953)\u001b[0m [Client 7] evaluate, config: {}\n",
      "\u001b[36m(launch_and_evaluate pid=8953)\u001b[0m Updated model\n"
     ]
    },
    {
     "name": "stderr",
     "output_type": "stream",
     "text": [
      "\u001b[36m(launch_and_evaluate pid=8953)\u001b[0m /home/codespace/.local/lib/python3.10/site-packages/sklearn/metrics/_ranking.py:1183: UndefinedMetricWarning: No positive samples in y_true, true positive value should be meaningless\n",
      "\u001b[36m(launch_and_evaluate pid=8953)\u001b[0m   warnings.warn(\n",
      "\u001b[36m(launch_and_evaluate pid=8953)\u001b[0m /home/codespace/.local/lib/python3.10/site-packages/sklearn/metrics/_ranking.py:1183: UndefinedMetricWarning: No positive samples in y_true, true positive value should be meaningless\n",
      "\u001b[36m(launch_and_evaluate pid=8953)\u001b[0m   warnings.warn(\n",
      "\u001b[36m(launch_and_evaluate pid=8953)\u001b[0m /opt/conda/envs/fed/lib/python3.10/site-packages/torch/storage.py:414: FutureWarning: You are using `torch.load` with `weights_only=False` (the current default value), which uses the default pickle module implicitly. It is possible to construct malicious pickle data which will execute arbitrary code during unpickling (See https://github.com/pytorch/pytorch/blob/main/SECURITY.md#untrusted-models for more details). In a future release, the default value for `weights_only` will be flipped to `True`. This limits the functions that could be executed during unpickling. Arbitrary objects will no longer be allowed to be loaded via this mode unless they are explicitly allowlisted by the user via `torch.serialization.add_safe_globals`. We recommend you start setting `weights_only=True` for any use case where you don't have full control of the loaded file. Please open an issue on GitHub for any issues related to this experimental feature.\n",
      "\u001b[36m(launch_and_evaluate pid=8953)\u001b[0m   return torch.load(io.BytesIO(b))\n"
     ]
    },
    {
     "name": "stdout",
     "output_type": "stream",
     "text": [
      "\u001b[36m(launch_and_evaluate pid=8953)\u001b[0m Run with homomorphic encryption\n",
      "\u001b[36m(launch_and_evaluate pid=8953)\u001b[0m [Client 0] evaluate, config: {}\n",
      "\u001b[36m(launch_and_evaluate pid=8953)\u001b[0m Updated model\n"
     ]
    },
    {
     "name": "stderr",
     "output_type": "stream",
     "text": [
      "\u001b[36m(launch_and_evaluate pid=8953)\u001b[0m /home/codespace/.local/lib/python3.10/site-packages/sklearn/metrics/_ranking.py:1183: UndefinedMetricWarning: No positive samples in y_true, true positive value should be meaningless\n",
      "\u001b[36m(launch_and_evaluate pid=8953)\u001b[0m   warnings.warn(\n",
      "\u001b[36m(launch_and_evaluate pid=8953)\u001b[0m /home/codespace/.local/lib/python3.10/site-packages/sklearn/metrics/_ranking.py:1183: UndefinedMetricWarning: No positive samples in y_true, true positive value should be meaningless\n",
      "\u001b[36m(launch_and_evaluate pid=8953)\u001b[0m   warnings.warn(\n",
      "\u001b[36m(launch_and_evaluate pid=8953)\u001b[0m /home/codespace/.local/lib/python3.10/site-packages/sklearn/metrics/_ranking.py:1183: UndefinedMetricWarning: No positive samples in y_true, true positive value should be meaningless\n",
      "\u001b[36m(launch_and_evaluate pid=8953)\u001b[0m   warnings.warn(\n",
      "\u001b[36m(launch_and_evaluate pid=8953)\u001b[0m /home/codespace/.local/lib/python3.10/site-packages/sklearn/metrics/_ranking.py:1183: UndefinedMetricWarning: No positive samples in y_true, true positive value should be meaningless\n",
      "\u001b[36m(launch_and_evaluate pid=8953)\u001b[0m   warnings.warn(\n",
      "\u001b[36m(launch_and_evaluate pid=9691)\u001b[0m /opt/conda/envs/fed/lib/python3.10/site-packages/torch/storage.py:414: FutureWarning: You are using `torch.load` with `weights_only=False` (the current default value), which uses the default pickle module implicitly. It is possible to construct malicious pickle data which will execute arbitrary code during unpickling (See https://github.com/pytorch/pytorch/blob/main/SECURITY.md#untrusted-models for more details). In a future release, the default value for `weights_only` will be flipped to `True`. This limits the functions that could be executed during unpickling. Arbitrary objects will no longer be allowed to be loaded via this mode unless they are explicitly allowlisted by the user via `torch.serialization.add_safe_globals`. We recommend you start setting `weights_only=True` for any use case where you don't have full control of the loaded file. Please open an issue on GitHub for any issues related to this experimental feature.\n",
      "\u001b[36m(launch_and_evaluate pid=9691)\u001b[0m   return torch.load(io.BytesIO(b))\n"
     ]
    },
    {
     "name": "stdout",
     "output_type": "stream",
     "text": [
      "\u001b[36m(launch_and_evaluate pid=9691)\u001b[0m Run with homomorphic encryption\n",
      "\u001b[36m(launch_and_evaluate pid=9691)\u001b[0m [Client 8] evaluate, config: {}\n",
      "\u001b[36m(launch_and_evaluate pid=9691)\u001b[0m Updated model\n"
     ]
    },
    {
     "name": "stderr",
     "output_type": "stream",
     "text": [
      "\u001b[36m(launch_and_evaluate pid=9691)\u001b[0m /home/codespace/.local/lib/python3.10/site-packages/sklearn/metrics/_ranking.py:1183: UndefinedMetricWarning: No positive samples in y_true, true positive value should be meaningless\n",
      "\u001b[36m(launch_and_evaluate pid=9691)\u001b[0m   warnings.warn(\n",
      "\u001b[36m(launch_and_evaluate pid=9691)\u001b[0m /home/codespace/.local/lib/python3.10/site-packages/sklearn/metrics/_ranking.py:1183: UndefinedMetricWarning: No positive samples in y_true, true positive value should be meaningless\n",
      "\u001b[36m(launch_and_evaluate pid=9691)\u001b[0m   warnings.warn(\n",
      "DEBUG flwr 2024-08-05 04:16:10,726 | server.py:187 | evaluate_round 2 received 10 results and 0 failures\n",
      "DEBUG flwr 2024-08-05 04:16:10,727 | server.py:222 | fit_round 3: strategy sampled 10 clients (out of 10)\n"
     ]
    },
    {
     "name": "stdout",
     "output_type": "stream",
     "text": [
      "\u001b[36m(launch_and_fit pid=8953)\u001b[0m Run with homomorphic encryption\n",
      "\u001b[36m(launch_and_fit pid=9691)\u001b[0m [Client 5, round 3] fit, config: {'learning_rate': 0.003, 'batch_size': '32', 'server_round': 3, 'local_epochs': 10}\n"
     ]
    },
    {
     "name": "stderr",
     "output_type": "stream",
     "text": [
      "  0%|\u001b[34m          \u001b[0m| 0/10 [00:00<?, ?it/s]\n",
      "\u001b[36m(launch_and_fit pid=9691)\u001b[0m /opt/conda/envs/fed/lib/python3.10/site-packages/torch/storage.py:414: FutureWarning: You are using `torch.load` with `weights_only=False` (the current default value), which uses the default pickle module implicitly. It is possible to construct malicious pickle data which will execute arbitrary code during unpickling (See https://github.com/pytorch/pytorch/blob/main/SECURITY.md#untrusted-models for more details). In a future release, the default value for `weights_only` will be flipped to `True`. This limits the functions that could be executed during unpickling. Arbitrary objects will no longer be allowed to be loaded via this mode unless they are explicitly allowlisted by the user via `torch.serialization.add_safe_globals`. We recommend you start setting `weights_only=True` for any use case where you don't have full control of the loaded file. Please open an issue on GitHub for any issues related to this experimental feature.\u001b[32m [repeated 2x across cluster]\u001b[0m\n",
      "\u001b[36m(launch_and_fit pid=9691)\u001b[0m   return torch.load(io.BytesIO(b))\u001b[32m [repeated 2x across cluster]\u001b[0m\n"
     ]
    },
    {
     "name": "stdout",
     "output_type": "stream",
     "text": [
      "\u001b[36m(launch_and_fit pid=8953)\u001b[0m \tTrain Epoch: 1 \tTrain_loss_mri: 1.3913 | Train_acc_mri: 25.0000 | Train_loss_dna: 1.8505 | Train_acc_dna: 21.8750 | Validation_loss_mri: 1.4001 | Validation_acc_mri: 25.0000 | Validation_loss_dna: 1.7582 | Validation_acc_dna: 50.0000\n",
      "\u001b[36m(launch_and_fit pid=9691)\u001b[0m Updated model\u001b[32m [repeated 2x across cluster]\u001b[0m\n",
      "\u001b[36m(launch_and_fit pid=9691)\u001b[0m Run with homomorphic encryption\n",
      "\u001b[36m(launch_and_fit pid=8953)\u001b[0m [Client 4, round 3] fit, config: {'learning_rate': 0.003, 'batch_size': '32', 'server_round': 3, 'local_epochs': 10}\n"
     ]
    },
    {
     "name": "stderr",
     "output_type": "stream",
     "text": [
      " 10%|\u001b[34m█         \u001b[0m| 1/10 [00:10<01:31, 10.19s/it]\n",
      "  0%|\u001b[34m          \u001b[0m| 0/10 [00:00<?, ?it/s]\n",
      " 10%|\u001b[34m█         \u001b[0m| 1/10 [00:10<01:32, 10.30s/it]\n",
      " 20%|\u001b[34m██        \u001b[0m| 2/10 [00:14<00:55,  6.96s/it]\n",
      " 20%|\u001b[34m██        \u001b[0m| 2/10 [00:14<00:55,  6.96s/it]\n",
      " 30%|\u001b[34m███       \u001b[0m| 3/10 [00:18<00:38,  5.50s/it]\n",
      " 30%|\u001b[34m███       \u001b[0m| 3/10 [00:18<00:38,  5.53s/it]\n"
     ]
    },
    {
     "name": "stdout",
     "output_type": "stream",
     "text": [
      "\u001b[36m(launch_and_fit pid=9691)\u001b[0m \tTrain Epoch: 3 \tTrain_loss_mri: 1.3970 | Train_acc_mri: 31.2500 | Train_loss_dna: 1.6413 | Train_acc_dna: 39.5833 | Validation_loss_mri: 1.4895 | Validation_acc_mri: 12.5000 | Validation_loss_dna: 1.8279 | Validation_acc_dna: 25.0000\u001b[32m [repeated 4x across cluster]\u001b[0m\n"
     ]
    },
    {
     "name": "stderr",
     "output_type": "stream",
     "text": [
      " 40%|\u001b[34m████      \u001b[0m| 4/10 [00:22<00:28,  4.73s/it]\n",
      " 40%|\u001b[34m████      \u001b[0m| 4/10 [00:22<00:28,  4.76s/it]\n",
      " 50%|\u001b[34m█████     \u001b[0m| 5/10 [00:25<00:21,  4.30s/it]\n",
      " 50%|\u001b[34m█████     \u001b[0m| 5/10 [00:25<00:21,  4.34s/it]\n"
     ]
    },
    {
     "name": "stdout",
     "output_type": "stream",
     "text": [
      "\u001b[36m(launch_and_fit pid=9691)\u001b[0m \tTrain Epoch: 5 \tTrain_loss_mri: 1.3319 | Train_acc_mri: 40.6250 | Train_loss_dna: 1.6782 | Train_acc_dna: 33.3333 | Validation_loss_mri: 1.5280 | Validation_acc_mri: 12.5000 | Validation_loss_dna: 1.8593 | Validation_acc_dna: 25.0000\u001b[32m [repeated 4x across cluster]\u001b[0m\n"
     ]
    },
    {
     "name": "stderr",
     "output_type": "stream",
     "text": [
      " 60%|\u001b[34m██████    \u001b[0m| 6/10 [00:29<00:15,  3.98s/it]\n",
      " 60%|\u001b[34m██████    \u001b[0m| 6/10 [00:29<00:16,  4.05s/it]\n",
      " 70%|\u001b[34m███████   \u001b[0m| 7/10 [00:32<00:10,  3.67s/it]\n"
     ]
    },
    {
     "name": "stdout",
     "output_type": "stream",
     "text": [
      "\u001b[36m(launch_and_fit pid=9691)\u001b[0m \tTrain Epoch: 7 \tTrain_loss_mri: 1.3991 | Train_acc_mri: 34.3750 | Train_loss_dna: 1.6465 | Train_acc_dna: 33.3333 | Validation_loss_mri: 1.5787 | Validation_acc_mri: 12.5000 | Validation_loss_dna: 1.9381 | Validation_acc_dna: 25.0000\u001b[32m [repeated 4x across cluster]\u001b[0m\n"
     ]
    },
    {
     "name": "stderr",
     "output_type": "stream",
     "text": [
      " 70%|\u001b[34m███████   \u001b[0m| 7/10 [00:32<00:11,  3.74s/it]\n",
      " 80%|\u001b[34m████████  \u001b[0m| 8/10 [00:35<00:07,  3.52s/it]\n",
      " 80%|\u001b[34m████████  \u001b[0m| 8/10 [00:35<00:07,  3.57s/it]\n",
      " 90%|\u001b[34m█████████ \u001b[0m| 9/10 [00:38<00:03,  3.35s/it]\n"
     ]
    },
    {
     "name": "stdout",
     "output_type": "stream",
     "text": [
      "\u001b[36m(launch_and_fit pid=9691)\u001b[0m \tTrain Epoch: 9 \tTrain_loss_mri: 1.3453 | Train_acc_mri: 37.5000 | Train_loss_dna: 1.6232 | Train_acc_dna: 40.6250 | Validation_loss_mri: 1.5412 | Validation_acc_mri: 12.5000 | Validation_loss_dna: 1.8765 | Validation_acc_dna: 25.0000\u001b[32m [repeated 4x across cluster]\u001b[0m\n"
     ]
    },
    {
     "name": "stderr",
     "output_type": "stream",
     "text": [
      " 90%|\u001b[34m█████████ \u001b[0m| 9/10 [00:38<00:03,  3.46s/it]\n",
      "100%|\u001b[34m██████████\u001b[0m| 10/10 [00:41<00:00,  4.15s/it]\n"
     ]
    },
    {
     "name": "stdout",
     "output_type": "stream",
     "text": [
      "\u001b[36m(launch_and_fit pid=9691)\u001b[0m save graph in  results/FL/\n"
     ]
    },
    {
     "name": "stderr",
     "output_type": "stream",
     "text": [
      "100%|\u001b[34m██████████\u001b[0m| 10/10 [00:41<00:00,  4.20s/it]\n"
     ]
    },
    {
     "name": "stdout",
     "output_type": "stream",
     "text": [
      "\u001b[36m(launch_and_fit pid=9691)\u001b[0m mri_net.features.0.weight 4.76837158203125e-06\n",
      "\u001b[36m(launch_and_fit pid=9691)\u001b[0m mri_net.features.0.bias 1.9073486328125e-06\n",
      "\u001b[36m(launch_and_fit pid=9691)\u001b[0m mri_net.features.3.weight 9.5367431640625e-07\n",
      "\u001b[36m(launch_and_fit pid=9691)\u001b[0m mri_net.features.3.bias 1.1920928955078125e-06\n",
      "\u001b[36m(launch_and_fit pid=9691)\u001b[0m mri_net.classifier.0.weight 1.6689300537109375e-06\n",
      "\u001b[36m(launch_and_fit pid=9691)\u001b[0m mri_net.classifier.0.bias 9.5367431640625e-07\n",
      "\u001b[36m(launch_and_fit pid=9691)\u001b[0m mri_net.classifier.2.weight 9.5367431640625e-07\n",
      "\u001b[36m(launch_and_fit pid=9691)\u001b[0m mri_net.classifier.2.bias 9.5367431640625e-07\n",
      "\u001b[36m(launch_and_fit pid=9691)\u001b[0m mri_net.classifier.3.weights 1.1920928955078125e-06\n",
      "\u001b[36m(launch_and_fit pid=9691)\u001b[0m dna_net.fc1.weight 1.430511474609375e-06\n",
      "\u001b[36m(launch_and_fit pid=9691)\u001b[0m dna_net.fc1.bias 1.430511474609375e-06\n",
      "\u001b[36m(launch_and_fit pid=9691)\u001b[0m dna_net.fc2.weight 1.430511474609375e-06\n",
      "\u001b[36m(launch_and_fit pid=9691)\u001b[0m dna_net.fc2.bias 9.5367431640625e-07\n",
      "\u001b[36m(launch_and_fit pid=9691)\u001b[0m dna_net.fc3.weight 1.1920928955078125e-06\n",
      "\u001b[36m(launch_and_fit pid=9691)\u001b[0m dna_net.fc3.bias 9.5367431640625e-07\n",
      "\u001b[36m(launch_and_fit pid=9691)\u001b[0m dna_net.fc4.weight 9.5367431640625e-07\n",
      "\u001b[36m(launch_and_fit pid=9691)\u001b[0m dna_net.fc4.bias 1.430511474609375e-06\n",
      "\u001b[36m(launch_and_fit pid=9691)\u001b[0m dna_net.qnn.weights 1.1920928955078125e-06\n",
      "\u001b[36m(launch_and_fit pid=9691)\u001b[0m attention.in_proj_weight 1.6689300537109375e-06\n",
      "\u001b[36m(launch_and_fit pid=9691)\u001b[0m attention.in_proj_bias 1.6689300537109375e-06\n",
      "\u001b[36m(launch_and_fit pid=9691)\u001b[0m attention.out_proj.weight 1.1920928955078125e-06\n",
      "\u001b[36m(launch_and_fit pid=9691)\u001b[0m attention.out_proj.bias 1.1920928955078125e-06\n",
      "\u001b[36m(launch_and_fit pid=9691)\u001b[0m fc1.weight 1.1920928955078125e-06\n",
      "\u001b[36m(launch_and_fit pid=9691)\u001b[0m fc1.bias 1.430511474609375e-06\n",
      "\u001b[36m(launch_and_fit pid=9691)\u001b[0m fc2_mri.weight 9.5367431640625e-07\n",
      "\u001b[36m(launch_and_fit pid=9691)\u001b[0m fc2_mri.bias 7.152557373046875e-07\n",
      "\u001b[36m(launch_and_fit pid=9691)\u001b[0m fc2_dna.weight 9.5367431640625e-07\n",
      "\u001b[36m(launch_and_fit pid=9691)\u001b[0m fc2_dna.bias 9.5367431640625e-07\n",
      "\u001b[36m(launch_and_fit pid=8953)\u001b[0m mri_net.features.0.weight 3.0994415283203125e-06\n",
      "\u001b[36m(launch_and_fit pid=8953)\u001b[0m mri_net.features.0.bias 9.5367431640625e-07\n",
      "\u001b[36m(launch_and_fit pid=8953)\u001b[0m mri_net.features.3.weight 7.152557373046875e-07\n",
      "\u001b[36m(launch_and_fit pid=8953)\u001b[0m mri_net.features.3.bias 4.76837158203125e-07\n",
      "\u001b[36m(launch_and_fit pid=8953)\u001b[0m mri_net.classifier.0.weight 9.5367431640625e-07\n",
      "\u001b[36m(launch_and_fit pid=8953)\u001b[0m mri_net.classifier.0.bias 4.76837158203125e-07\n",
      "\u001b[36m(launch_and_fit pid=8953)\u001b[0m mri_net.classifier.2.weight 4.76837158203125e-07\n",
      "\u001b[36m(launch_and_fit pid=8953)\u001b[0m mri_net.classifier.2.bias 7.152557373046875e-07\n",
      "\u001b[36m(launch_and_fit pid=8953)\u001b[0m mri_net.classifier.3.weights 4.76837158203125e-07\n",
      "\u001b[36m(launch_and_fit pid=8953)\u001b[0m dna_net.fc1.weight 4.76837158203125e-07\n",
      "\u001b[36m(launch_and_fit pid=8953)\u001b[0m dna_net.fc1.bias 4.76837158203125e-07\n",
      "\u001b[36m(launch_and_fit pid=8953)\u001b[0m dna_net.fc2.weight 4.76837158203125e-07\n",
      "\u001b[36m(launch_and_fit pid=8953)\u001b[0m dna_net.fc2.bias 2.384185791015625e-07\n",
      "\u001b[36m(launch_and_fit pid=8953)\u001b[0m dna_net.fc3.weight 2.384185791015625e-07\n",
      "\u001b[36m(launch_and_fit pid=8953)\u001b[0m dna_net.fc3.bias 4.76837158203125e-07\n",
      "\u001b[36m(launch_and_fit pid=8953)\u001b[0m dna_net.fc4.weight 7.152557373046875e-07\n",
      "\u001b[36m(launch_and_fit pid=8953)\u001b[0m dna_net.fc4.bias 2.384185791015625e-07\n",
      "\u001b[36m(launch_and_fit pid=8953)\u001b[0m fc1.weight 1.6689300537109375e-06\n",
      "\u001b[36m(launch_and_fit pid=8953)\u001b[0m fc1.bias 7.152557373046875e-07\n",
      "\u001b[36m(launch_and_fit pid=8953)\u001b[0m fc2_mri.weight 4.76837158203125e-07\n",
      "\u001b[36m(launch_and_fit pid=8953)\u001b[0m fc2_mri.bias 4.76837158203125e-07\n",
      "\u001b[36m(launch_and_fit pid=8953)\u001b[0m fc2_dna.weight 4.76837158203125e-07\n",
      "\u001b[36m(launch_and_fit pid=8953)\u001b[0m fc2_dna.bias 4.76837158203125e-07\n",
      "\u001b[36m(launch_and_fit pid=8953)\u001b[0m Run with homomorphic encryption\n",
      "\u001b[36m(launch_and_fit pid=8953)\u001b[0m \tTrain Epoch: 10 \tTrain_loss_mri: 1.3646 | Train_acc_mri: 29.1667 | Train_loss_dna: 1.6941 | Train_acc_dna: 34.3750 | Validation_loss_mri: 1.3804 | Validation_acc_mri: 37.5000 | Validation_loss_dna: 1.7721 | Validation_acc_dna: 12.5000\u001b[32m [repeated 3x across cluster]\u001b[0m\n",
      "\u001b[36m(launch_and_fit pid=8953)\u001b[0m [Client 2, round 3] fit, config: {'learning_rate': 0.003, 'batch_size': '32', 'server_round': 3, 'local_epochs': 10}\n",
      "\u001b[36m(launch_and_fit pid=8953)\u001b[0m Updated model\n"
     ]
    },
    {
     "name": "stderr",
     "output_type": "stream",
     "text": [
      "  0%|\u001b[34m          \u001b[0m| 0/10 [00:00<?, ?it/s]\n"
     ]
    },
    {
     "name": "stdout",
     "output_type": "stream",
     "text": [
      "\u001b[36m(launch_and_fit pid=8953)\u001b[0m save graph in  results/FL/\n",
      "\u001b[36m(launch_and_fit pid=8953)\u001b[0m dna_net.qnn.weights 4.76837158203125e-07\n",
      "\u001b[36m(launch_and_fit pid=8953)\u001b[0m attention.in_proj_weight 2.384185791015625e-07\n",
      "\u001b[36m(launch_and_fit pid=8953)\u001b[0m attention.in_proj_bias 4.76837158203125e-07\n",
      "\u001b[36m(launch_and_fit pid=8953)\u001b[0m attention.out_proj.weight 4.76837158203125e-07\n",
      "\u001b[36m(launch_and_fit pid=8953)\u001b[0m attention.out_proj.bias 4.76837158203125e-07\n",
      "\u001b[36m(launch_and_fit pid=9691)\u001b[0m Run with homomorphic encryption\n",
      "\u001b[36m(launch_and_fit pid=8953)\u001b[0m \tTrain Epoch: 1 \tTrain_loss_mri: 1.3701 | Train_acc_mri: 32.2917 | Train_loss_dna: 1.8488 | Train_acc_dna: 26.0417 | Validation_loss_mri: 1.3999 | Validation_acc_mri: 0.0000 | Validation_loss_dna: 1.7407 | Validation_acc_dna: 37.5000\n",
      "\u001b[36m(launch_and_fit pid=9691)\u001b[0m [Client 1, round 3] fit, config: {'learning_rate': 0.003, 'batch_size': '32', 'server_round': 3, 'local_epochs': 10}\n",
      "\u001b[36m(launch_and_fit pid=9691)\u001b[0m Updated model\n"
     ]
    },
    {
     "name": "stderr",
     "output_type": "stream",
     "text": [
      " 10%|\u001b[34m█         \u001b[0m| 1/10 [00:06<00:58,  6.48s/it]\n",
      "  0%|\u001b[34m          \u001b[0m| 0/10 [00:00<?, ?it/s]\n",
      " 10%|\u001b[34m█         \u001b[0m| 1/10 [00:06<01:00,  6.71s/it]\n"
     ]
    },
    {
     "name": "stdout",
     "output_type": "stream",
     "text": [
      "\u001b[36m(launch_and_fit pid=9691)\u001b[0m \tTrain Epoch: 1 \tTrain_loss_mri: 1.3957 | Train_acc_mri: 27.0833 | Train_loss_dna: 1.8459 | Train_acc_dna: 31.2500 | Validation_loss_mri: 1.3396 | Validation_acc_mri: 50.0000 | Validation_loss_dna: 1.9692 | Validation_acc_dna: 0.0000\n"
     ]
    },
    {
     "name": "stderr",
     "output_type": "stream",
     "text": [
      " 20%|\u001b[34m██        \u001b[0m| 2/10 [00:10<00:38,  4.77s/it]\n",
      " 20%|\u001b[34m██        \u001b[0m| 2/10 [00:10<00:39,  4.91s/it]\n"
     ]
    },
    {
     "name": "stdout",
     "output_type": "stream",
     "text": [
      "\u001b[36m(launch_and_fit pid=8953)\u001b[0m \tTrain Epoch: 3 \tTrain_loss_mri: 1.3574 | Train_acc_mri: 29.1667 | Train_loss_dna: 1.7790 | Train_acc_dna: 26.0417 | Validation_loss_mri: 1.3964 | Validation_acc_mri: 0.0000 | Validation_loss_dna: 1.7207 | Validation_acc_dna: 37.5000\u001b[32m [repeated 3x across cluster]\u001b[0m\n"
     ]
    },
    {
     "name": "stderr",
     "output_type": "stream",
     "text": [
      " 30%|\u001b[34m███       \u001b[0m| 3/10 [00:13<00:28,  4.14s/it]\n",
      " 30%|\u001b[34m███       \u001b[0m| 3/10 [00:13<00:29,  4.21s/it]\n",
      " 40%|\u001b[34m████      \u001b[0m| 4/10 [00:16<00:22,  3.77s/it]\n",
      " 40%|\u001b[34m████      \u001b[0m| 4/10 [00:16<00:22,  3.81s/it]\n"
     ]
    },
    {
     "name": "stdout",
     "output_type": "stream",
     "text": [
      "\u001b[36m(launch_and_fit pid=8953)\u001b[0m \tTrain Epoch: 5 \tTrain_loss_mri: 1.3188 | Train_acc_mri: 37.5000 | Train_loss_dna: 1.8196 | Train_acc_dna: 19.7917 | Validation_loss_mri: 1.3042 | Validation_acc_mri: 50.0000 | Validation_loss_dna: 1.7626 | Validation_acc_dna: 37.5000\u001b[32m [repeated 4x across cluster]\u001b[0m\n"
     ]
    },
    {
     "name": "stderr",
     "output_type": "stream",
     "text": [
      " 50%|\u001b[34m█████     \u001b[0m| 5/10 [00:20<00:18,  3.72s/it]\n",
      " 50%|\u001b[34m█████     \u001b[0m| 5/10 [00:20<00:18,  3.73s/it]\n",
      " 60%|\u001b[34m██████    \u001b[0m| 6/10 [00:23<00:14,  3.63s/it]\n",
      " 60%|\u001b[34m██████    \u001b[0m| 6/10 [00:24<00:14,  3.67s/it]\n"
     ]
    },
    {
     "name": "stdout",
     "output_type": "stream",
     "text": [
      "\u001b[36m(launch_and_fit pid=8953)\u001b[0m \tTrain Epoch: 7 \tTrain_loss_mri: 1.3092 | Train_acc_mri: 39.5833 | Train_loss_dna: 1.7701 | Train_acc_dna: 30.2083 | Validation_loss_mri: 1.2491 | Validation_acc_mri: 62.5000 | Validation_loss_dna: 1.8128 | Validation_acc_dna: 25.0000\u001b[32m [repeated 4x across cluster]\u001b[0m\n"
     ]
    },
    {
     "name": "stderr",
     "output_type": "stream",
     "text": [
      " 70%|\u001b[34m███████   \u001b[0m| 7/10 [00:26<00:10,  3.49s/it]\n",
      " 70%|\u001b[34m███████   \u001b[0m| 7/10 [00:27<00:10,  3.50s/it]\n",
      " 80%|\u001b[34m████████  \u001b[0m| 8/10 [00:30<00:06,  3.49s/it]\n",
      " 80%|\u001b[34m████████  \u001b[0m| 8/10 [00:30<00:06,  3.50s/it]\n"
     ]
    },
    {
     "name": "stdout",
     "output_type": "stream",
     "text": [
      "\u001b[36m(launch_and_fit pid=8953)\u001b[0m \tTrain Epoch: 9 \tTrain_loss_mri: 1.3227 | Train_acc_mri: 44.7917 | Train_loss_dna: 1.7101 | Train_acc_dna: 38.5417 | Validation_loss_mri: 1.2885 | Validation_acc_mri: 50.0000 | Validation_loss_dna: 1.7907 | Validation_acc_dna: 25.0000\u001b[32m [repeated 4x across cluster]\u001b[0m\n"
     ]
    },
    {
     "name": "stderr",
     "output_type": "stream",
     "text": [
      " 90%|\u001b[34m█████████ \u001b[0m| 9/10 [00:33<00:03,  3.46s/it]\n",
      " 90%|\u001b[34m█████████ \u001b[0m| 9/10 [00:33<00:03,  3.42s/it]\n"
     ]
    },
    {
     "name": "stdout",
     "output_type": "stream",
     "text": [
      "\u001b[36m(launch_and_fit pid=8953)\u001b[0m save graph in  results/FL/\n"
     ]
    },
    {
     "name": "stderr",
     "output_type": "stream",
     "text": [
      "100%|\u001b[34m██████████\u001b[0m| 10/10 [00:37<00:00,  3.72s/it]\n",
      "100%|\u001b[34m██████████\u001b[0m| 10/10 [00:37<00:00,  3.72s/it]\n"
     ]
    },
    {
     "name": "stdout",
     "output_type": "stream",
     "text": [
      "\u001b[36m(launch_and_fit pid=8953)\u001b[0m mri_net.features.0.weight 4.0531158447265625e-06\n",
      "\u001b[36m(launch_and_fit pid=8953)\u001b[0m mri_net.features.0.bias 1.430511474609375e-06\n",
      "\u001b[36m(launch_and_fit pid=8953)\u001b[0m mri_net.features.3.weight 9.5367431640625e-07\n",
      "\u001b[36m(launch_and_fit pid=8953)\u001b[0m mri_net.features.3.bias 7.152557373046875e-07\n",
      "\u001b[36m(launch_and_fit pid=8953)\u001b[0m mri_net.classifier.0.weight 7.152557373046875e-07\n",
      "\u001b[36m(launch_and_fit pid=8953)\u001b[0m mri_net.classifier.0.bias 4.76837158203125e-07\n",
      "\u001b[36m(launch_and_fit pid=8953)\u001b[0m mri_net.classifier.2.weight 7.152557373046875e-07\n",
      "\u001b[36m(launch_and_fit pid=8953)\u001b[0m mri_net.classifier.2.bias 4.76837158203125e-07\n",
      "\u001b[36m(launch_and_fit pid=8953)\u001b[0m mri_net.classifier.3.weights 7.152557373046875e-07\n",
      "\u001b[36m(launch_and_fit pid=8953)\u001b[0m dna_net.fc1.weight 4.76837158203125e-07\n",
      "\u001b[36m(launch_and_fit pid=8953)\u001b[0m dna_net.fc1.bias 4.76837158203125e-07\n",
      "\u001b[36m(launch_and_fit pid=8953)\u001b[0m dna_net.fc2.weight 9.5367431640625e-07\n",
      "\u001b[36m(launch_and_fit pid=8953)\u001b[0m dna_net.fc2.bias 7.152557373046875e-07\n",
      "\u001b[36m(launch_and_fit pid=8953)\u001b[0m dna_net.fc3.weight 9.5367431640625e-07\n",
      "\u001b[36m(launch_and_fit pid=8953)\u001b[0m dna_net.fc3.bias 9.5367431640625e-07\n",
      "\u001b[36m(launch_and_fit pid=8953)\u001b[0m dna_net.fc4.weight 7.152557373046875e-07\n",
      "\u001b[36m(launch_and_fit pid=8953)\u001b[0m dna_net.fc4.bias 9.5367431640625e-07\n",
      "\u001b[36m(launch_and_fit pid=8953)\u001b[0m dna_net.qnn.weights 7.152557373046875e-07\n",
      "\u001b[36m(launch_and_fit pid=8953)\u001b[0m attention.in_proj_weight 4.76837158203125e-07\n",
      "\u001b[36m(launch_and_fit pid=8953)\u001b[0m attention.in_proj_bias 4.76837158203125e-07\n",
      "\u001b[36m(launch_and_fit pid=8953)\u001b[0m attention.out_proj.weight 4.76837158203125e-07\n",
      "\u001b[36m(launch_and_fit pid=8953)\u001b[0m attention.out_proj.bias 4.76837158203125e-07\n",
      "\u001b[36m(launch_and_fit pid=8953)\u001b[0m fc1.weight 9.5367431640625e-07\n",
      "\u001b[36m(launch_and_fit pid=8953)\u001b[0m fc1.bias 7.152557373046875e-07\n",
      "\u001b[36m(launch_and_fit pid=8953)\u001b[0m fc2_mri.weight 7.152557373046875e-07\n",
      "\u001b[36m(launch_and_fit pid=8953)\u001b[0m fc2_mri.bias 4.76837158203125e-07\n",
      "\u001b[36m(launch_and_fit pid=8953)\u001b[0m fc2_dna.weight 7.152557373046875e-07\n",
      "\u001b[36m(launch_and_fit pid=8953)\u001b[0m fc2_dna.bias 7.152557373046875e-07\n",
      "\u001b[36m(launch_and_fit pid=9691)\u001b[0m mri_net.features.0.weight 4.5299530029296875e-06\n",
      "\u001b[36m(launch_and_fit pid=9691)\u001b[0m mri_net.features.0.bias 1.430511474609375e-06\n",
      "\u001b[36m(launch_and_fit pid=9691)\u001b[0m mri_net.features.3.weight 9.5367431640625e-07\n",
      "\u001b[36m(launch_and_fit pid=9691)\u001b[0m mri_net.features.3.bias 7.152557373046875e-07\n",
      "\u001b[36m(launch_and_fit pid=9691)\u001b[0m mri_net.classifier.0.weight 9.5367431640625e-07\n",
      "\u001b[36m(launch_and_fit pid=9691)\u001b[0m mri_net.classifier.0.bias 1.6689300537109375e-06\n",
      "\u001b[36m(launch_and_fit pid=9691)\u001b[0m mri_net.classifier.2.weight 1.430511474609375e-06\n",
      "\u001b[36m(launch_and_fit pid=9691)\u001b[0m mri_net.classifier.2.bias 9.5367431640625e-07\n",
      "\u001b[36m(launch_and_fit pid=9691)\u001b[0m mri_net.classifier.3.weights 1.1920928955078125e-06\n",
      "\u001b[36m(launch_and_fit pid=9691)\u001b[0m dna_net.fc1.weight 7.152557373046875e-07\n",
      "\u001b[36m(launch_and_fit pid=9691)\u001b[0m dna_net.fc1.bias 7.152557373046875e-07\n",
      "\u001b[36m(launch_and_fit pid=9691)\u001b[0m dna_net.fc2.weight 9.5367431640625e-07\n",
      "\u001b[36m(launch_and_fit pid=9691)\u001b[0m dna_net.fc2.bias 7.152557373046875e-07\n",
      "\u001b[36m(launch_and_fit pid=9691)\u001b[0m dna_net.fc3.weight 1.1920928955078125e-06\n",
      "\u001b[36m(launch_and_fit pid=9691)\u001b[0m dna_net.fc3.bias 7.152557373046875e-07\n",
      "\u001b[36m(launch_and_fit pid=9691)\u001b[0m dna_net.fc4.weight 1.1920928955078125e-06\n",
      "\u001b[36m(launch_and_fit pid=9691)\u001b[0m dna_net.fc4.bias 9.5367431640625e-07\n",
      "\u001b[36m(launch_and_fit pid=9691)\u001b[0m fc1.weight 9.5367431640625e-07\n",
      "\u001b[36m(launch_and_fit pid=9691)\u001b[0m fc1.bias 7.152557373046875e-07\n",
      "\u001b[36m(launch_and_fit pid=9691)\u001b[0m fc2_mri.weight 1.1920928955078125e-06\n",
      "\u001b[36m(launch_and_fit pid=9691)\u001b[0m fc2_mri.bias 7.152557373046875e-07\n",
      "\u001b[36m(launch_and_fit pid=9691)\u001b[0m fc2_dna.weight 1.1920928955078125e-06\n",
      "\u001b[36m(launch_and_fit pid=9691)\u001b[0m fc2_dna.bias 9.5367431640625e-07\n",
      "\u001b[36m(launch_and_fit pid=8953)\u001b[0m Run with homomorphic encryption\n",
      "\u001b[36m(launch_and_fit pid=9691)\u001b[0m \tTrain Epoch: 10 \tTrain_loss_mri: 1.2292 | Train_acc_mri: 48.9583 | Train_loss_dna: 1.6461 | Train_acc_dna: 34.3750 | Validation_loss_mri: 1.2114 | Validation_acc_mri: 50.0000 | Validation_loss_dna: 2.0945 | Validation_acc_dna: 0.0000\u001b[32m [repeated 3x across cluster]\u001b[0m\n",
      "\u001b[36m(launch_and_fit pid=8953)\u001b[0m [Client 9, round 3] fit, config: {'learning_rate': 0.003, 'batch_size': '32', 'server_round': 3, 'local_epochs': 10}\n",
      "\u001b[36m(launch_and_fit pid=9691)\u001b[0m Updated model\n",
      "\u001b[36m(launch_and_fit pid=9691)\u001b[0m save graph in  results/FL/\n",
      "\u001b[36m(launch_and_fit pid=9691)\u001b[0m dna_net.qnn.weights 1.1920928955078125e-06\n",
      "\u001b[36m(launch_and_fit pid=9691)\u001b[0m attention.in_proj_weight 7.152557373046875e-07\n",
      "\u001b[36m(launch_and_fit pid=9691)\u001b[0m attention.in_proj_bias 1.1920928955078125e-06\n",
      "\u001b[36m(launch_and_fit pid=9691)\u001b[0m attention.out_proj.weight 9.5367431640625e-07\n",
      "\u001b[36m(launch_and_fit pid=9691)\u001b[0m attention.out_proj.bias 9.5367431640625e-07\n"
     ]
    },
    {
     "name": "stderr",
     "output_type": "stream",
     "text": [
      "  0%|\u001b[34m          \u001b[0m| 0/10 [00:00<?, ?it/s]\n"
     ]
    },
    {
     "name": "stdout",
     "output_type": "stream",
     "text": [
      "\u001b[33m(raylet)\u001b[0m A worker died or was killed while executing a task by an unexpected system error. To troubleshoot the problem, check the logs for the dead worker. RayTask ID: 00fc3a03163e220e08a2e570e776a0c86e97613b01000000 Worker ID: 4db29e407b6da083ea6bf5ea25021385d1af2328e5a1013311ac5eb1 Node ID: 56a5e3c87d3ec0ccb4c476f81cf9b86de127e2bba9c5eacdfac15393 Worker IP address: 10.0.1.229 Worker port: 37335 Worker PID: 8953 Worker exit type: SYSTEM_ERROR Worker exit detail: Worker exits unexpectedly. Worker exits with an exit code 1. The process receives a SIGTERM.\n",
      "\u001b[36m(launch_and_fit pid=9691)\u001b[0m Run with homomorphic encryption\n",
      "\u001b[36m(launch_and_fit pid=9691)\u001b[0m [Client 7, round 3] fit, config: {'learning_rate': 0.003, 'batch_size': '32', 'server_round': 3, 'local_epochs': 10}\n"
     ]
    },
    {
     "name": "stderr",
     "output_type": "stream",
     "text": [
      " 10%|\u001b[34m█         \u001b[0m| 1/10 [00:14<02:13, 14.80s/it]\n"
     ]
    },
    {
     "name": "stdout",
     "output_type": "stream",
     "text": [
      "\u001b[36m(launch_and_fit pid=9691)\u001b[0m \tTrain Epoch: 1 \tTrain_loss_mri: 1.3656 | Train_acc_mri: 35.4167 | Train_loss_dna: 1.8457 | Train_acc_dna: 23.9583 | Validation_loss_mri: 1.3128 | Validation_acc_mri: 37.5000 | Validation_loss_dna: 1.8060 | Validation_acc_dna: 25.0000\n"
     ]
    },
    {
     "name": "stderr",
     "output_type": "stream",
     "text": [
      " 20%|\u001b[34m██        \u001b[0m| 2/10 [00:17<00:59,  7.46s/it]\n"
     ]
    },
    {
     "name": "stdout",
     "output_type": "stream",
     "text": [
      "\u001b[36m(launch_and_fit pid=9691)\u001b[0m \tTrain Epoch: 2 \tTrain_loss_mri: 1.3611 | Train_acc_mri: 35.4167 | Train_loss_dna: 1.8524 | Train_acc_dna: 23.9583 | Validation_loss_mri: 1.2691 | Validation_acc_mri: 37.5000 | Validation_loss_dna: 1.8298 | Validation_acc_dna: 25.0000\n"
     ]
    },
    {
     "name": "stderr",
     "output_type": "stream",
     "text": [
      " 30%|\u001b[34m███       \u001b[0m| 3/10 [00:19<00:35,  5.04s/it]\n"
     ]
    },
    {
     "name": "stdout",
     "output_type": "stream",
     "text": [
      "\u001b[36m(launch_and_fit pid=9691)\u001b[0m \tTrain Epoch: 3 \tTrain_loss_mri: 1.3572 | Train_acc_mri: 29.1667 | Train_loss_dna: 1.8589 | Train_acc_dna: 27.0833 | Validation_loss_mri: 1.2664 | Validation_acc_mri: 37.5000 | Validation_loss_dna: 1.8260 | Validation_acc_dna: 25.0000\n"
     ]
    },
    {
     "name": "stderr",
     "output_type": "stream",
     "text": [
      " 40%|\u001b[34m████      \u001b[0m| 4/10 [00:21<00:24,  4.01s/it]\n"
     ]
    },
    {
     "name": "stdout",
     "output_type": "stream",
     "text": [
      "\u001b[36m(launch_and_fit pid=9691)\u001b[0m \tTrain Epoch: 4 \tTrain_loss_mri: 1.3455 | Train_acc_mri: 35.4167 | Train_loss_dna: 1.8642 | Train_acc_dna: 27.0833 | Validation_loss_mri: 1.2399 | Validation_acc_mri: 37.5000 | Validation_loss_dna: 1.8557 | Validation_acc_dna: 25.0000\n"
     ]
    },
    {
     "name": "stderr",
     "output_type": "stream",
     "text": [
      " 50%|\u001b[34m█████     \u001b[0m| 5/10 [00:24<00:18,  3.62s/it]\n"
     ]
    },
    {
     "name": "stdout",
     "output_type": "stream",
     "text": [
      "\u001b[36m(launch_and_fit pid=9691)\u001b[0m \tTrain Epoch: 5 \tTrain_loss_mri: 1.3335 | Train_acc_mri: 32.2917 | Train_loss_dna: 1.7713 | Train_acc_dna: 33.3333 | Validation_loss_mri: 1.2381 | Validation_acc_mri: 37.5000 | Validation_loss_dna: 1.8341 | Validation_acc_dna: 25.0000\n"
     ]
    },
    {
     "name": "stderr",
     "output_type": "stream",
     "text": [
      " 60%|\u001b[34m██████    \u001b[0m| 6/10 [00:27<00:13,  3.26s/it]\n"
     ]
    },
    {
     "name": "stdout",
     "output_type": "stream",
     "text": [
      "\u001b[36m(launch_and_fit pid=9691)\u001b[0m \tTrain Epoch: 6 \tTrain_loss_mri: 1.3049 | Train_acc_mri: 38.5417 | Train_loss_dna: 1.8638 | Train_acc_dna: 20.8333 | Validation_loss_mri: 1.2302 | Validation_acc_mri: 37.5000 | Validation_loss_dna: 1.7967 | Validation_acc_dna: 25.0000\n"
     ]
    },
    {
     "name": "stderr",
     "output_type": "stream",
     "text": [
      " 70%|\u001b[34m███████   \u001b[0m| 7/10 [00:29<00:08,  2.94s/it]\n"
     ]
    },
    {
     "name": "stdout",
     "output_type": "stream",
     "text": [
      "\u001b[36m(launch_and_fit pid=9691)\u001b[0m \tTrain Epoch: 7 \tTrain_loss_mri: 1.3205 | Train_acc_mri: 32.2917 | Train_loss_dna: 1.7529 | Train_acc_dna: 33.3333 | Validation_loss_mri: 1.2467 | Validation_acc_mri: 37.5000 | Validation_loss_dna: 1.7814 | Validation_acc_dna: 25.0000\n"
     ]
    },
    {
     "name": "stderr",
     "output_type": "stream",
     "text": [
      " 80%|\u001b[34m████████  \u001b[0m| 8/10 [00:31<00:05,  2.72s/it]\n"
     ]
    },
    {
     "name": "stdout",
     "output_type": "stream",
     "text": [
      "\u001b[36m(launch_and_fit pid=9691)\u001b[0m \tTrain Epoch: 8 \tTrain_loss_mri: 1.3189 | Train_acc_mri: 29.1667 | Train_loss_dna: 1.7290 | Train_acc_dna: 30.2083 | Validation_loss_mri: 1.2470 | Validation_acc_mri: 25.0000 | Validation_loss_dna: 1.7778 | Validation_acc_dna: 25.0000\n"
     ]
    },
    {
     "name": "stderr",
     "output_type": "stream",
     "text": [
      " 90%|\u001b[34m█████████ \u001b[0m| 9/10 [00:34<00:02,  2.61s/it]\n"
     ]
    },
    {
     "name": "stdout",
     "output_type": "stream",
     "text": [
      "\u001b[36m(launch_and_fit pid=9691)\u001b[0m \tTrain Epoch: 9 \tTrain_loss_mri: 1.3084 | Train_acc_mri: 45.8333 | Train_loss_dna: 1.8874 | Train_acc_dna: 20.8333 | Validation_loss_mri: 1.2722 | Validation_acc_mri: 12.5000 | Validation_loss_dna: 1.7099 | Validation_acc_dna: 25.0000\n"
     ]
    },
    {
     "name": "stderr",
     "output_type": "stream",
     "text": [
      "100%|\u001b[34m██████████\u001b[0m| 10/10 [00:36<00:00,  3.65s/it]\n"
     ]
    },
    {
     "name": "stdout",
     "output_type": "stream",
     "text": [
      "\u001b[36m(launch_and_fit pid=9691)\u001b[0m \tTrain Epoch: 10 \tTrain_loss_mri: 1.3385 | Train_acc_mri: 34.3750 | Train_loss_dna: 1.7556 | Train_acc_dna: 27.0833 | Validation_loss_mri: 1.3072 | Validation_acc_mri: 0.0000 | Validation_loss_dna: 1.7352 | Validation_acc_dna: 25.0000\n",
      "\u001b[36m(launch_and_fit pid=9691)\u001b[0m save graph in  results/FL/\n",
      "\u001b[36m(launch_and_fit pid=9691)\u001b[0m mri_net.features.0.weight 3.814697265625e-06\n",
      "\u001b[36m(launch_and_fit pid=9691)\u001b[0m mri_net.features.0.bias 1.1920928955078125e-06\n",
      "\u001b[36m(launch_and_fit pid=9691)\u001b[0m mri_net.features.3.weight 4.76837158203125e-07\n",
      "\u001b[36m(launch_and_fit pid=9691)\u001b[0m mri_net.features.3.bias 4.76837158203125e-07\n",
      "\u001b[36m(launch_and_fit pid=9691)\u001b[0m mri_net.classifier.0.weight 4.76837158203125e-07\n",
      "\u001b[36m(launch_and_fit pid=9691)\u001b[0m mri_net.classifier.0.bias 4.76837158203125e-07\n",
      "\u001b[36m(launch_and_fit pid=9691)\u001b[0m mri_net.classifier.2.weight 2.384185791015625e-07\n",
      "\u001b[36m(launch_and_fit pid=9691)\u001b[0m mri_net.classifier.2.bias 4.76837158203125e-07\n",
      "\u001b[36m(launch_and_fit pid=9691)\u001b[0m mri_net.classifier.3.weights 4.76837158203125e-07\n",
      "\u001b[36m(launch_and_fit pid=9691)\u001b[0m dna_net.fc1.weight 4.76837158203125e-07\n",
      "\u001b[36m(launch_and_fit pid=9691)\u001b[0m dna_net.fc1.bias 4.76837158203125e-07\n",
      "\u001b[36m(launch_and_fit pid=9691)\u001b[0m dna_net.fc2.weight 4.76837158203125e-07\n",
      "\u001b[36m(launch_and_fit pid=9691)\u001b[0m dna_net.fc2.bias 7.152557373046875e-07\n",
      "\u001b[36m(launch_and_fit pid=9691)\u001b[0m dna_net.fc3.weight 4.76837158203125e-07\n",
      "\u001b[36m(launch_and_fit pid=9691)\u001b[0m dna_net.fc3.bias 2.384185791015625e-07\n",
      "\u001b[36m(launch_and_fit pid=9691)\u001b[0m dna_net.fc4.weight 4.76837158203125e-07\n",
      "\u001b[36m(launch_and_fit pid=9691)\u001b[0m dna_net.fc4.bias 4.76837158203125e-07\n",
      "\u001b[36m(launch_and_fit pid=9691)\u001b[0m dna_net.qnn.weights 2.384185791015625e-07\n",
      "\u001b[36m(launch_and_fit pid=9691)\u001b[0m attention.in_proj_weight 4.76837158203125e-07\n",
      "\u001b[36m(launch_and_fit pid=9691)\u001b[0m attention.in_proj_bias 9.5367431640625e-07\n",
      "\u001b[36m(launch_and_fit pid=9691)\u001b[0m attention.out_proj.weight 4.76837158203125e-07\n",
      "\u001b[36m(launch_and_fit pid=9691)\u001b[0m attention.out_proj.bias 4.76837158203125e-07\n",
      "\u001b[36m(launch_and_fit pid=9691)\u001b[0m fc1.weight 7.152557373046875e-07\n",
      "\u001b[36m(launch_and_fit pid=9691)\u001b[0m fc1.bias 4.76837158203125e-07\n",
      "\u001b[36m(launch_and_fit pid=9691)\u001b[0m fc2_mri.weight 4.76837158203125e-07\n",
      "\u001b[36m(launch_and_fit pid=9691)\u001b[0m fc2_mri.bias 4.76837158203125e-07\n",
      "\u001b[36m(launch_and_fit pid=9691)\u001b[0m fc2_dna.weight 4.76837158203125e-07\n",
      "\u001b[36m(launch_and_fit pid=9691)\u001b[0m fc2_dna.bias 4.76837158203125e-07\n",
      "\u001b[36m(launch_and_fit pid=9691)\u001b[0m Run with homomorphic encryption\n",
      "\u001b[36m(launch_and_fit pid=9691)\u001b[0m [Client 3, round 3] fit, config: {'learning_rate': 0.003, 'batch_size': '32', 'server_round': 3, 'local_epochs': 10}\n"
     ]
    },
    {
     "name": "stderr",
     "output_type": "stream",
     "text": [
      "  0%|\u001b[34m          \u001b[0m| 0/10 [00:00<?, ?it/s]\n"
     ]
    },
    {
     "name": "stdout",
     "output_type": "stream",
     "text": [
      "\u001b[36m(launch_and_fit pid=9691)\u001b[0m Updated model\n"
     ]
    },
    {
     "name": "stderr",
     "output_type": "stream",
     "text": [
      " 10%|\u001b[34m█         \u001b[0m| 1/10 [00:04<00:37,  4.12s/it]\n"
     ]
    },
    {
     "name": "stdout",
     "output_type": "stream",
     "text": [
      "\u001b[36m(launch_and_fit pid=9691)\u001b[0m \tTrain Epoch: 1 \tTrain_loss_mri: 1.3893 | Train_acc_mri: 25.0000 | Train_loss_dna: 1.7440 | Train_acc_dna: 39.5833 | Validation_loss_mri: 1.3065 | Validation_acc_mri: 62.5000 | Validation_loss_dna: 1.9103 | Validation_acc_dna: 25.0000\n"
     ]
    },
    {
     "name": "stderr",
     "output_type": "stream",
     "text": [
      " 20%|\u001b[34m██        \u001b[0m| 2/10 [00:06<00:26,  3.36s/it]\n"
     ]
    },
    {
     "name": "stdout",
     "output_type": "stream",
     "text": [
      "\u001b[36m(launch_and_fit pid=9691)\u001b[0m \tTrain Epoch: 2 \tTrain_loss_mri: 1.3638 | Train_acc_mri: 45.8333 | Train_loss_dna: 1.7310 | Train_acc_dna: 39.5833 | Validation_loss_mri: 1.2778 | Validation_acc_mri: 50.0000 | Validation_loss_dna: 1.9471 | Validation_acc_dna: 25.0000\n"
     ]
    },
    {
     "name": "stderr",
     "output_type": "stream",
     "text": [
      "\u001b[36m(launch_and_fit pid=10445)\u001b[0m /opt/conda/envs/fed/lib/python3.10/site-packages/torch/storage.py:414: FutureWarning: You are using `torch.load` with `weights_only=False` (the current default value), which uses the default pickle module implicitly. It is possible to construct malicious pickle data which will execute arbitrary code during unpickling (See https://github.com/pytorch/pytorch/blob/main/SECURITY.md#untrusted-models for more details). In a future release, the default value for `weights_only` will be flipped to `True`. This limits the functions that could be executed during unpickling. Arbitrary objects will no longer be allowed to be loaded via this mode unless they are explicitly allowlisted by the user via `torch.serialization.add_safe_globals`. We recommend you start setting `weights_only=True` for any use case where you don't have full control of the loaded file. Please open an issue on GitHub for any issues related to this experimental feature.\n",
      "\u001b[36m(launch_and_fit pid=10445)\u001b[0m   return torch.load(io.BytesIO(b))\n"
     ]
    },
    {
     "name": "stdout",
     "output_type": "stream",
     "text": [
      "\u001b[36m(launch_and_fit pid=10445)\u001b[0m Run with homomorphic encryption\n",
      "\u001b[36m(launch_and_fit pid=10445)\u001b[0m [Client 0, round 3] fit, config: {'learning_rate': 0.003, 'batch_size': '32', 'server_round': 3, 'local_epochs': 10}\n",
      "\u001b[33m(raylet)\u001b[0m A worker died or was killed while executing a task by an unexpected system error. To troubleshoot the problem, check the logs for the dead worker. RayTask ID: 631af3cdd043104d8783f21a09920fe24d03becf01000000 Worker ID: 516810d79f85edd6c275a4dfd98b684eda9f95075a24cd0546992781 Node ID: 56a5e3c87d3ec0ccb4c476f81cf9b86de127e2bba9c5eacdfac15393 Worker IP address: 10.0.1.229 Worker port: 35093 Worker PID: 10445 Worker exit type: SYSTEM_ERROR Worker exit detail: Worker exits unexpectedly. Worker exits with an exit code 1. The process receives a SIGTERM.\n"
     ]
    },
    {
     "name": "stderr",
     "output_type": "stream",
     "text": [
      " 30%|\u001b[34m███       \u001b[0m| 3/10 [00:13<00:32,  4.61s/it]\n"
     ]
    },
    {
     "name": "stdout",
     "output_type": "stream",
     "text": [
      "\u001b[36m(launch_and_fit pid=9691)\u001b[0m \tTrain Epoch: 3 \tTrain_loss_mri: 1.3555 | Train_acc_mri: 28.1250 | Train_loss_dna: 1.6661 | Train_acc_dna: 39.5833 | Validation_loss_mri: 1.2599 | Validation_acc_mri: 50.0000 | Validation_loss_dna: 1.9566 | Validation_acc_dna: 25.0000\n"
     ]
    },
    {
     "name": "stderr",
     "output_type": "stream",
     "text": [
      " 40%|\u001b[34m████      \u001b[0m| 4/10 [00:20<00:34,  5.80s/it]\n"
     ]
    },
    {
     "name": "stdout",
     "output_type": "stream",
     "text": [
      "\u001b[36m(launch_and_fit pid=9691)\u001b[0m \tTrain Epoch: 4 \tTrain_loss_mri: 1.3580 | Train_acc_mri: 31.2500 | Train_loss_dna: 1.5456 | Train_acc_dna: 45.8333 | Validation_loss_mri: 1.2277 | Validation_acc_mri: 37.5000 | Validation_loss_dna: 1.9327 | Validation_acc_dna: 25.0000\n"
     ]
    },
    {
     "name": "stderr",
     "output_type": "stream",
     "text": [
      " 50%|\u001b[34m█████     \u001b[0m| 5/10 [00:22<00:22,  4.46s/it]\n"
     ]
    },
    {
     "name": "stdout",
     "output_type": "stream",
     "text": [
      "\u001b[36m(launch_and_fit pid=9691)\u001b[0m \tTrain Epoch: 5 \tTrain_loss_mri: 1.3498 | Train_acc_mri: 31.2500 | Train_loss_dna: 1.6127 | Train_acc_dna: 39.5833 | Validation_loss_mri: 1.2132 | Validation_acc_mri: 50.0000 | Validation_loss_dna: 1.8913 | Validation_acc_dna: 25.0000\n"
     ]
    },
    {
     "name": "stderr",
     "output_type": "stream",
     "text": [
      " 60%|\u001b[34m██████    \u001b[0m| 6/10 [00:24<00:14,  3.67s/it]\n"
     ]
    },
    {
     "name": "stdout",
     "output_type": "stream",
     "text": [
      "\u001b[36m(launch_and_fit pid=9691)\u001b[0m \tTrain Epoch: 6 \tTrain_loss_mri: 1.3623 | Train_acc_mri: 29.1667 | Train_loss_dna: 1.8228 | Train_acc_dna: 33.3333 | Validation_loss_mri: 1.2034 | Validation_acc_mri: 50.0000 | Validation_loss_dna: 1.9284 | Validation_acc_dna: 25.0000\n"
     ]
    },
    {
     "name": "stderr",
     "output_type": "stream",
     "text": [
      " 70%|\u001b[34m███████   \u001b[0m| 7/10 [00:27<00:09,  3.19s/it]\n"
     ]
    },
    {
     "name": "stdout",
     "output_type": "stream",
     "text": [
      "\u001b[36m(launch_and_fit pid=9691)\u001b[0m \tTrain Epoch: 7 \tTrain_loss_mri: 1.3427 | Train_acc_mri: 33.3333 | Train_loss_dna: 1.5882 | Train_acc_dna: 42.7083 | Validation_loss_mri: 1.2039 | Validation_acc_mri: 50.0000 | Validation_loss_dna: 1.9020 | Validation_acc_dna: 25.0000\n"
     ]
    },
    {
     "name": "stderr",
     "output_type": "stream",
     "text": [
      " 80%|\u001b[34m████████  \u001b[0m| 8/10 [00:29<00:05,  2.86s/it]\n"
     ]
    },
    {
     "name": "stdout",
     "output_type": "stream",
     "text": [
      "\u001b[36m(launch_and_fit pid=9691)\u001b[0m \tTrain Epoch: 8 \tTrain_loss_mri: 1.3176 | Train_acc_mri: 31.2500 | Train_loss_dna: 1.6357 | Train_acc_dna: 42.7083 | Validation_loss_mri: 1.2239 | Validation_acc_mri: 37.5000 | Validation_loss_dna: 1.8843 | Validation_acc_dna: 25.0000\n"
     ]
    },
    {
     "name": "stderr",
     "output_type": "stream",
     "text": [
      " 90%|\u001b[34m█████████ \u001b[0m| 9/10 [00:31<00:02,  2.75s/it]\n"
     ]
    },
    {
     "name": "stdout",
     "output_type": "stream",
     "text": [
      "\u001b[36m(launch_and_fit pid=9691)\u001b[0m \tTrain Epoch: 9 \tTrain_loss_mri: 1.3365 | Train_acc_mri: 33.3333 | Train_loss_dna: 1.5408 | Train_acc_dna: 42.7083 | Validation_loss_mri: 1.2254 | Validation_acc_mri: 37.5000 | Validation_loss_dna: 1.8590 | Validation_acc_dna: 25.0000\n"
     ]
    },
    {
     "name": "stderr",
     "output_type": "stream",
     "text": [
      "100%|\u001b[34m██████████\u001b[0m| 10/10 [00:34<00:00,  3.42s/it]\n"
     ]
    },
    {
     "name": "stdout",
     "output_type": "stream",
     "text": [
      "\u001b[36m(launch_and_fit pid=9691)\u001b[0m \tTrain Epoch: 10 \tTrain_loss_mri: 1.3267 | Train_acc_mri: 32.2917 | Train_loss_dna: 1.4655 | Train_acc_dna: 45.8333 | Validation_loss_mri: 1.1993 | Validation_acc_mri: 62.5000 | Validation_loss_dna: 1.8258 | Validation_acc_dna: 25.0000\n",
      "\u001b[36m(launch_and_fit pid=9691)\u001b[0m save graph in  results/FL/\n",
      "\u001b[36m(launch_and_fit pid=9691)\u001b[0m mri_net.features.0.weight 4.76837158203125e-06\n",
      "\u001b[36m(launch_and_fit pid=9691)\u001b[0m mri_net.features.0.bias 1.1920928955078125e-06\n",
      "\u001b[36m(launch_and_fit pid=9691)\u001b[0m mri_net.features.3.weight 7.152557373046875e-07\n",
      "\u001b[36m(launch_and_fit pid=9691)\u001b[0m mri_net.features.3.bias 9.5367431640625e-07\n",
      "\u001b[36m(launch_and_fit pid=9691)\u001b[0m mri_net.classifier.0.weight 4.76837158203125e-07\n",
      "\u001b[36m(launch_and_fit pid=9691)\u001b[0m mri_net.classifier.0.bias 7.152557373046875e-07\n",
      "\u001b[36m(launch_and_fit pid=9691)\u001b[0m mri_net.classifier.2.weight 2.384185791015625e-07\n",
      "\u001b[36m(launch_and_fit pid=9691)\u001b[0m mri_net.classifier.2.bias 4.76837158203125e-07\n",
      "\u001b[36m(launch_and_fit pid=9691)\u001b[0m mri_net.classifier.3.weights 4.76837158203125e-07\n",
      "\u001b[36m(launch_and_fit pid=9691)\u001b[0m dna_net.fc1.weight 7.152557373046875e-07\n",
      "\u001b[36m(launch_and_fit pid=9691)\u001b[0m dna_net.fc1.bias 9.5367431640625e-07\n",
      "\u001b[36m(launch_and_fit pid=9691)\u001b[0m dna_net.fc2.weight 4.76837158203125e-07\n",
      "\u001b[36m(launch_and_fit pid=9691)\u001b[0m dna_net.fc2.bias 4.76837158203125e-07\n",
      "\u001b[36m(launch_and_fit pid=9691)\u001b[0m dna_net.fc3.weight 4.76837158203125e-07\n",
      "\u001b[36m(launch_and_fit pid=9691)\u001b[0m dna_net.fc3.bias 7.152557373046875e-07\n",
      "\u001b[36m(launch_and_fit pid=9691)\u001b[0m dna_net.fc4.weight 2.384185791015625e-07\n",
      "\u001b[36m(launch_and_fit pid=9691)\u001b[0m dna_net.fc4.bias 4.76837158203125e-07\n",
      "\u001b[36m(launch_and_fit pid=9691)\u001b[0m dna_net.qnn.weights 4.76837158203125e-07\n",
      "\u001b[36m(launch_and_fit pid=9691)\u001b[0m attention.in_proj_weight 4.76837158203125e-07\n",
      "\u001b[36m(launch_and_fit pid=9691)\u001b[0m attention.in_proj_bias 1.430511474609375e-06\n",
      "\u001b[36m(launch_and_fit pid=9691)\u001b[0m attention.out_proj.weight 1.430511474609375e-06\n",
      "\u001b[36m(launch_and_fit pid=9691)\u001b[0m attention.out_proj.bias 1.1920928955078125e-06\n",
      "\u001b[36m(launch_and_fit pid=9691)\u001b[0m fc1.weight 9.5367431640625e-07\n",
      "\u001b[36m(launch_and_fit pid=9691)\u001b[0m fc1.bias 7.152557373046875e-07\n",
      "\u001b[36m(launch_and_fit pid=9691)\u001b[0m fc2_mri.weight 1.1920928955078125e-06\n",
      "\u001b[36m(launch_and_fit pid=9691)\u001b[0m fc2_mri.bias 7.152557373046875e-07\n",
      "\u001b[36m(launch_and_fit pid=9691)\u001b[0m fc2_dna.weight 4.76837158203125e-07\n",
      "\u001b[36m(launch_and_fit pid=9691)\u001b[0m fc2_dna.bias 4.76837158203125e-07\n",
      "\u001b[36m(launch_and_fit pid=9691)\u001b[0m Run with homomorphic encryption\n",
      "\u001b[36m(launch_and_fit pid=9691)\u001b[0m [Client 6, round 3] fit, config: {'learning_rate': 0.003, 'batch_size': '32', 'server_round': 3, 'local_epochs': 10}\n"
     ]
    },
    {
     "name": "stderr",
     "output_type": "stream",
     "text": [
      "  0%|\u001b[34m          \u001b[0m| 0/10 [00:00<?, ?it/s]\n"
     ]
    },
    {
     "name": "stdout",
     "output_type": "stream",
     "text": [
      "\u001b[36m(launch_and_fit pid=9691)\u001b[0m Updated model\n"
     ]
    },
    {
     "name": "stderr",
     "output_type": "stream",
     "text": [
      " 10%|\u001b[34m█         \u001b[0m| 1/10 [00:04<00:36,  4.03s/it]\n"
     ]
    },
    {
     "name": "stdout",
     "output_type": "stream",
     "text": [
      "\u001b[36m(launch_and_fit pid=9691)\u001b[0m \tTrain Epoch: 1 \tTrain_loss_mri: 1.3860 | Train_acc_mri: 27.0833 | Train_loss_dna: 1.7524 | Train_acc_dna: 35.4167 | Validation_loss_mri: 1.3684 | Validation_acc_mri: 50.0000 | Validation_loss_dna: 1.7282 | Validation_acc_dna: 50.0000\n"
     ]
    },
    {
     "name": "stderr",
     "output_type": "stream",
     "text": [
      " 20%|\u001b[34m██        \u001b[0m| 2/10 [00:06<00:25,  3.15s/it]\n"
     ]
    },
    {
     "name": "stdout",
     "output_type": "stream",
     "text": [
      "\u001b[36m(launch_and_fit pid=9691)\u001b[0m \tTrain Epoch: 2 \tTrain_loss_mri: 1.4000 | Train_acc_mri: 30.2083 | Train_loss_dna: 1.7795 | Train_acc_dna: 32.2917 | Validation_loss_mri: 1.3560 | Validation_acc_mri: 37.5000 | Validation_loss_dna: 1.7698 | Validation_acc_dna: 50.0000\n"
     ]
    },
    {
     "name": "stderr",
     "output_type": "stream",
     "text": [
      " 30%|\u001b[34m███       \u001b[0m| 3/10 [00:09<00:19,  2.85s/it]\n"
     ]
    },
    {
     "name": "stdout",
     "output_type": "stream",
     "text": [
      "\u001b[36m(launch_and_fit pid=9691)\u001b[0m \tTrain Epoch: 3 \tTrain_loss_mri: 1.3644 | Train_acc_mri: 28.1250 | Train_loss_dna: 1.6911 | Train_acc_dna: 32.2917 | Validation_loss_mri: 1.3848 | Validation_acc_mri: 25.0000 | Validation_loss_dna: 1.8342 | Validation_acc_dna: 50.0000\n"
     ]
    },
    {
     "name": "stderr",
     "output_type": "stream",
     "text": [
      " 40%|\u001b[34m████      \u001b[0m| 4/10 [00:11<00:16,  2.77s/it]\n"
     ]
    },
    {
     "name": "stdout",
     "output_type": "stream",
     "text": [
      "\u001b[36m(launch_and_fit pid=9691)\u001b[0m \tTrain Epoch: 4 \tTrain_loss_mri: 1.3850 | Train_acc_mri: 25.0000 | Train_loss_dna: 1.7895 | Train_acc_dna: 32.2917 | Validation_loss_mri: 1.3635 | Validation_acc_mri: 25.0000 | Validation_loss_dna: 1.8779 | Validation_acc_dna: 50.0000\n"
     ]
    },
    {
     "name": "stderr",
     "output_type": "stream",
     "text": [
      " 50%|\u001b[34m█████     \u001b[0m| 5/10 [00:14<00:13,  2.67s/it]\n"
     ]
    },
    {
     "name": "stdout",
     "output_type": "stream",
     "text": [
      "\u001b[36m(launch_and_fit pid=9691)\u001b[0m \tTrain Epoch: 5 \tTrain_loss_mri: 1.3752 | Train_acc_mri: 29.1667 | Train_loss_dna: 1.7693 | Train_acc_dna: 32.2917 | Validation_loss_mri: 1.4051 | Validation_acc_mri: 25.0000 | Validation_loss_dna: 1.8809 | Validation_acc_dna: 50.0000\n"
     ]
    },
    {
     "name": "stderr",
     "output_type": "stream",
     "text": [
      "\u001b[36m(launch_and_fit pid=10714)\u001b[0m /opt/conda/envs/fed/lib/python3.10/site-packages/torch/storage.py:414: FutureWarning: You are using `torch.load` with `weights_only=False` (the current default value), which uses the default pickle module implicitly. It is possible to construct malicious pickle data which will execute arbitrary code during unpickling (See https://github.com/pytorch/pytorch/blob/main/SECURITY.md#untrusted-models for more details). In a future release, the default value for `weights_only` will be flipped to `True`. This limits the functions that could be executed during unpickling. Arbitrary objects will no longer be allowed to be loaded via this mode unless they are explicitly allowlisted by the user via `torch.serialization.add_safe_globals`. We recommend you start setting `weights_only=True` for any use case where you don't have full control of the loaded file. Please open an issue on GitHub for any issues related to this experimental feature.\n",
      "\u001b[36m(launch_and_fit pid=10714)\u001b[0m   return torch.load(io.BytesIO(b))\n"
     ]
    },
    {
     "name": "stdout",
     "output_type": "stream",
     "text": [
      "\u001b[36m(launch_and_fit pid=10714)\u001b[0m Run with homomorphic encryption\n"
     ]
    },
    {
     "name": "stderr",
     "output_type": "stream",
     "text": [
      " 60%|\u001b[34m██████    \u001b[0m| 6/10 [00:17<00:10,  2.75s/it]\n"
     ]
    },
    {
     "name": "stdout",
     "output_type": "stream",
     "text": [
      "\u001b[36m(launch_and_fit pid=9691)\u001b[0m \tTrain Epoch: 6 \tTrain_loss_mri: 1.3843 | Train_acc_mri: 19.7917 | Train_loss_dna: 1.7083 | Train_acc_dna: 32.2917 | Validation_loss_mri: 1.3880 | Validation_acc_mri: 37.5000 | Validation_loss_dna: 1.9109 | Validation_acc_dna: 50.0000\n",
      "\u001b[36m(launch_and_fit pid=10714)\u001b[0m [Client 8, round 3] fit, config: {'learning_rate': 0.003, 'batch_size': '32', 'server_round': 3, 'local_epochs': 10}\n",
      "\u001b[36m(launch_and_fit pid=10714)\u001b[0m Updated model\n"
     ]
    },
    {
     "name": "stderr",
     "output_type": "stream",
     "text": [
      "  0%|\u001b[34m          \u001b[0m| 0/10 [00:00<?, ?it/s]\n",
      " 60%|\u001b[34m██████    \u001b[0m| 6/10 [00:20<00:13,  3.42s/it]\n"
     ]
    },
    {
     "name": "stdout",
     "output_type": "stream",
     "text": [
      "\u001b[33m(raylet)\u001b[0m A worker died or was killed while executing a task by an unexpected system error. To troubleshoot the problem, check the logs for the dead worker. RayTask ID: adf83db6abb1acfaa19e091c223fd530f3f56be601000000 Worker ID: 557881b495768bdd4c341fe80823c3a6d8d686be76f02071ac855624 Node ID: 56a5e3c87d3ec0ccb4c476f81cf9b86de127e2bba9c5eacdfac15393 Worker IP address: 10.0.1.229 Worker port: 44135 Worker PID: 9691 Worker exit type: SYSTEM_ERROR Worker exit detail: The leased worker has unrecoverable failure. Worker is requested to be destroyed when it is returned. Worker exits with an exit code 1. The process receives a SIGTERM.\n"
     ]
    },
    {
     "name": "stderr",
     "output_type": "stream",
     "text": [
      " 10%|\u001b[34m█         \u001b[0m| 1/10 [00:16<02:29, 16.65s/it]\n"
     ]
    },
    {
     "name": "stdout",
     "output_type": "stream",
     "text": [
      "\u001b[36m(launch_and_fit pid=10714)\u001b[0m \tTrain Epoch: 1 \tTrain_loss_mri: 1.4011 | Train_acc_mri: 17.7083 | Train_loss_dna: 1.8800 | Train_acc_dna: 27.0833 | Validation_loss_mri: 1.4014 | Validation_acc_mri: 25.0000 | Validation_loss_dna: 1.8201 | Validation_acc_dna: 12.5000\n"
     ]
    },
    {
     "name": "stderr",
     "output_type": "stream",
     "text": [
      " 20%|\u001b[34m██        \u001b[0m| 2/10 [00:18<01:05,  8.14s/it]\n"
     ]
    },
    {
     "name": "stdout",
     "output_type": "stream",
     "text": [
      "\u001b[36m(launch_and_fit pid=10714)\u001b[0m \tTrain Epoch: 2 \tTrain_loss_mri: 1.3767 | Train_acc_mri: 32.2917 | Train_loss_dna: 1.8952 | Train_acc_dna: 23.9583 | Validation_loss_mri: 1.3990 | Validation_acc_mri: 25.0000 | Validation_loss_dna: 1.8127 | Validation_acc_dna: 12.5000\n"
     ]
    },
    {
     "name": "stderr",
     "output_type": "stream",
     "text": [
      " 30%|\u001b[34m███       \u001b[0m| 3/10 [00:21<00:38,  5.50s/it]\n"
     ]
    },
    {
     "name": "stdout",
     "output_type": "stream",
     "text": [
      "\u001b[36m(launch_and_fit pid=10714)\u001b[0m \tTrain Epoch: 3 \tTrain_loss_mri: 1.3950 | Train_acc_mri: 22.9167 | Train_loss_dna: 1.8707 | Train_acc_dna: 27.0833 | Validation_loss_mri: 1.4068 | Validation_acc_mri: 25.0000 | Validation_loss_dna: 1.8074 | Validation_acc_dna: 12.5000\n"
     ]
    },
    {
     "name": "stderr",
     "output_type": "stream",
     "text": [
      " 40%|\u001b[34m████      \u001b[0m| 4/10 [00:23<00:25,  4.30s/it]\n"
     ]
    },
    {
     "name": "stdout",
     "output_type": "stream",
     "text": [
      "\u001b[36m(launch_and_fit pid=10714)\u001b[0m \tTrain Epoch: 4 \tTrain_loss_mri: 1.3581 | Train_acc_mri: 32.2917 | Train_loss_dna: 1.8077 | Train_acc_dna: 30.2083 | Validation_loss_mri: 1.4079 | Validation_acc_mri: 25.0000 | Validation_loss_dna: 1.7903 | Validation_acc_dna: 12.5000\n"
     ]
    },
    {
     "name": "stderr",
     "output_type": "stream",
     "text": [
      " 50%|\u001b[34m█████     \u001b[0m| 5/10 [00:26<00:18,  3.62s/it]\n"
     ]
    },
    {
     "name": "stdout",
     "output_type": "stream",
     "text": [
      "\u001b[36m(launch_and_fit pid=10714)\u001b[0m \tTrain Epoch: 5 \tTrain_loss_mri: 1.3808 | Train_acc_mri: 29.1667 | Train_loss_dna: 1.8133 | Train_acc_dna: 27.0833 | Validation_loss_mri: 1.4044 | Validation_acc_mri: 25.0000 | Validation_loss_dna: 1.8045 | Validation_acc_dna: 12.5000\n"
     ]
    },
    {
     "name": "stderr",
     "output_type": "stream",
     "text": [
      " 60%|\u001b[34m██████    \u001b[0m| 6/10 [00:28<00:12,  3.18s/it]\n"
     ]
    },
    {
     "name": "stdout",
     "output_type": "stream",
     "text": [
      "\u001b[36m(launch_and_fit pid=10714)\u001b[0m \tTrain Epoch: 6 \tTrain_loss_mri: 1.3531 | Train_acc_mri: 32.2917 | Train_loss_dna: 1.8080 | Train_acc_dna: 27.0833 | Validation_loss_mri: 1.4063 | Validation_acc_mri: 25.0000 | Validation_loss_dna: 1.7977 | Validation_acc_dna: 12.5000\n"
     ]
    },
    {
     "name": "stderr",
     "output_type": "stream",
     "text": [
      " 70%|\u001b[34m███████   \u001b[0m| 7/10 [00:30<00:08,  2.82s/it]\n"
     ]
    },
    {
     "name": "stdout",
     "output_type": "stream",
     "text": [
      "\u001b[36m(launch_and_fit pid=10714)\u001b[0m \tTrain Epoch: 7 \tTrain_loss_mri: 1.3805 | Train_acc_mri: 32.2917 | Train_loss_dna: 1.8531 | Train_acc_dna: 23.9583 | Validation_loss_mri: 1.4109 | Validation_acc_mri: 25.0000 | Validation_loss_dna: 1.7927 | Validation_acc_dna: 12.5000\n"
     ]
    },
    {
     "name": "stderr",
     "output_type": "stream",
     "text": [
      " 80%|\u001b[34m████████  \u001b[0m| 8/10 [00:32<00:05,  2.70s/it]\n"
     ]
    },
    {
     "name": "stdout",
     "output_type": "stream",
     "text": [
      "\u001b[36m(launch_and_fit pid=10714)\u001b[0m \tTrain Epoch: 8 \tTrain_loss_mri: 1.4009 | Train_acc_mri: 29.1667 | Train_loss_dna: 1.8324 | Train_acc_dna: 23.9583 | Validation_loss_mri: 1.4074 | Validation_acc_mri: 25.0000 | Validation_loss_dna: 1.7999 | Validation_acc_dna: 12.5000\n"
     ]
    },
    {
     "name": "stderr",
     "output_type": "stream",
     "text": [
      " 90%|\u001b[34m█████████ \u001b[0m| 9/10 [00:35<00:02,  2.60s/it]\n"
     ]
    },
    {
     "name": "stdout",
     "output_type": "stream",
     "text": [
      "\u001b[36m(launch_and_fit pid=10714)\u001b[0m \tTrain Epoch: 9 \tTrain_loss_mri: 1.3675 | Train_acc_mri: 26.0417 | Train_loss_dna: 1.8202 | Train_acc_dna: 27.0833 | Validation_loss_mri: 1.3898 | Validation_acc_mri: 25.0000 | Validation_loss_dna: 1.8115 | Validation_acc_dna: 12.5000\n"
     ]
    },
    {
     "name": "stderr",
     "output_type": "stream",
     "text": [
      "100%|\u001b[34m██████████\u001b[0m| 10/10 [00:37<00:00,  3.76s/it]\n"
     ]
    },
    {
     "name": "stdout",
     "output_type": "stream",
     "text": [
      "\u001b[36m(launch_and_fit pid=10714)\u001b[0m \tTrain Epoch: 10 \tTrain_loss_mri: 1.3959 | Train_acc_mri: 26.0417 | Train_loss_dna: 1.8329 | Train_acc_dna: 31.2500 | Validation_loss_mri: 1.4041 | Validation_acc_mri: 25.0000 | Validation_loss_dna: 1.7553 | Validation_acc_dna: 12.5000\n",
      "\u001b[36m(launch_and_fit pid=10714)\u001b[0m save graph in  results/FL/\n",
      "\u001b[36m(launch_and_fit pid=10714)\u001b[0m mri_net.features.0.weight 4.0531158447265625e-06\n",
      "\u001b[36m(launch_and_fit pid=10714)\u001b[0m mri_net.features.0.bias 9.5367431640625e-07\n",
      "\u001b[36m(launch_and_fit pid=10714)\u001b[0m mri_net.features.3.weight 7.152557373046875e-07\n",
      "\u001b[36m(launch_and_fit pid=10714)\u001b[0m mri_net.features.3.bias 7.152557373046875e-07\n",
      "\u001b[36m(launch_and_fit pid=10714)\u001b[0m mri_net.classifier.0.weight 4.76837158203125e-07\n",
      "\u001b[36m(launch_and_fit pid=10714)\u001b[0m mri_net.classifier.0.bias 4.76837158203125e-07\n",
      "\u001b[36m(launch_and_fit pid=10714)\u001b[0m mri_net.classifier.2.weight 4.76837158203125e-07\n",
      "\u001b[36m(launch_and_fit pid=10714)\u001b[0m mri_net.classifier.2.bias 4.76837158203125e-07\n",
      "\u001b[36m(launch_and_fit pid=10714)\u001b[0m mri_net.classifier.3.weights 4.76837158203125e-07\n",
      "\u001b[36m(launch_and_fit pid=10714)\u001b[0m dna_net.fc1.weight 7.152557373046875e-07\n",
      "\u001b[36m(launch_and_fit pid=10714)\u001b[0m dna_net.fc1.bias 4.76837158203125e-07\n",
      "\u001b[36m(launch_and_fit pid=10714)\u001b[0m dna_net.fc2.weight 4.76837158203125e-07\n",
      "\u001b[36m(launch_and_fit pid=10714)\u001b[0m dna_net.fc2.bias 4.76837158203125e-07\n",
      "\u001b[36m(launch_and_fit pid=10714)\u001b[0m dna_net.fc3.weight 4.76837158203125e-07\n",
      "\u001b[36m(launch_and_fit pid=10714)\u001b[0m dna_net.fc3.bias 4.76837158203125e-07\n",
      "\u001b[36m(launch_and_fit pid=10714)\u001b[0m dna_net.fc4.weight 4.76837158203125e-07\n",
      "\u001b[36m(launch_and_fit pid=10714)\u001b[0m dna_net.fc4.bias 7.152557373046875e-07\n",
      "\u001b[36m(launch_and_fit pid=10714)\u001b[0m dna_net.qnn.weights 4.76837158203125e-07\n",
      "\u001b[36m(launch_and_fit pid=10714)\u001b[0m attention.in_proj_weight 4.76837158203125e-07\n",
      "\u001b[36m(launch_and_fit pid=10714)\u001b[0m attention.in_proj_bias 4.76837158203125e-07\n",
      "\u001b[36m(launch_and_fit pid=10714)\u001b[0m attention.out_proj.weight 7.152557373046875e-07\n",
      "\u001b[36m(launch_and_fit pid=10714)\u001b[0m attention.out_proj.bias 4.76837158203125e-07\n",
      "\u001b[36m(launch_and_fit pid=10714)\u001b[0m fc1.weight 4.76837158203125e-07\n",
      "\u001b[36m(launch_and_fit pid=10714)\u001b[0m fc1.bias 7.152557373046875e-07\n",
      "\u001b[36m(launch_and_fit pid=10714)\u001b[0m fc2_mri.weight 7.152557373046875e-07\n",
      "\u001b[36m(launch_and_fit pid=10714)\u001b[0m fc2_mri.bias 4.76837158203125e-07\n",
      "\u001b[36m(launch_and_fit pid=10714)\u001b[0m fc2_dna.weight 4.76837158203125e-07\n",
      "\u001b[36m(launch_and_fit pid=10714)\u001b[0m fc2_dna.bias 4.76837158203125e-07\n",
      "\u001b[36m(launch_and_fit pid=10714)\u001b[0m Run with homomorphic encryption\n",
      "\u001b[36m(launch_and_fit pid=10714)\u001b[0m [Client 0, round 3] fit, config: {'learning_rate': 0.003, 'batch_size': '32', 'server_round': 3, 'local_epochs': 10}\n"
     ]
    },
    {
     "name": "stderr",
     "output_type": "stream",
     "text": [
      "  0%|\u001b[34m          \u001b[0m| 0/10 [00:00<?, ?it/s]\n"
     ]
    },
    {
     "name": "stdout",
     "output_type": "stream",
     "text": [
      "\u001b[36m(launch_and_fit pid=10714)\u001b[0m Updated model\n"
     ]
    },
    {
     "name": "stderr",
     "output_type": "stream",
     "text": [
      " 10%|\u001b[34m█         \u001b[0m| 1/10 [00:03<00:35,  4.00s/it]\n"
     ]
    },
    {
     "name": "stdout",
     "output_type": "stream",
     "text": [
      "\u001b[36m(launch_and_fit pid=10714)\u001b[0m \tTrain Epoch: 1 \tTrain_loss_mri: 1.3765 | Train_acc_mri: 22.9167 | Train_loss_dna: 1.9367 | Train_acc_dna: 23.9583 | Validation_loss_mri: 1.4339 | Validation_acc_mri: 0.0000 | Validation_loss_dna: 1.5130 | Validation_acc_dna: 62.5000\n"
     ]
    },
    {
     "name": "stderr",
     "output_type": "stream",
     "text": [
      "\u001b[36m(launch_and_fit pid=10961)\u001b[0m /opt/conda/envs/fed/lib/python3.10/site-packages/torch/storage.py:414: FutureWarning: You are using `torch.load` with `weights_only=False` (the current default value), which uses the default pickle module implicitly. It is possible to construct malicious pickle data which will execute arbitrary code during unpickling (See https://github.com/pytorch/pytorch/blob/main/SECURITY.md#untrusted-models for more details). In a future release, the default value for `weights_only` will be flipped to `True`. This limits the functions that could be executed during unpickling. Arbitrary objects will no longer be allowed to be loaded via this mode unless they are explicitly allowlisted by the user via `torch.serialization.add_safe_globals`. We recommend you start setting `weights_only=True` for any use case where you don't have full control of the loaded file. Please open an issue on GitHub for any issues related to this experimental feature.\n",
      "\u001b[36m(launch_and_fit pid=10961)\u001b[0m   return torch.load(io.BytesIO(b))\n"
     ]
    },
    {
     "name": "stdout",
     "output_type": "stream",
     "text": [
      "\u001b[36m(launch_and_fit pid=10961)\u001b[0m Run with homomorphic encryption\n",
      "\u001b[36m(launch_and_fit pid=10961)\u001b[0m [Client 9, round 3] fit, config: {'learning_rate': 0.003, 'batch_size': '32', 'server_round': 3, 'local_epochs': 10}\n"
     ]
    },
    {
     "name": "stderr",
     "output_type": "stream",
     "text": [
      " 10%|\u001b[34m█         \u001b[0m| 1/10 [00:06<01:02,  6.98s/it]\n"
     ]
    },
    {
     "name": "stdout",
     "output_type": "stream",
     "text": [
      "\u001b[36m(launch_and_fit pid=10961)\u001b[0m Updated model\n",
      "\u001b[33m(raylet)\u001b[0m A worker died or was killed while executing a task by an unexpected system error. To troubleshoot the problem, check the logs for the dead worker. RayTask ID: 47c26dcc13a58b1a59672c046707e4017bfa936201000000 Worker ID: 4414c756545296425ecfeaa16742309b760cd5f9392a62fd7bde71cc Node ID: 56a5e3c87d3ec0ccb4c476f81cf9b86de127e2bba9c5eacdfac15393 Worker IP address: 10.0.1.229 Worker port: 44463 Worker PID: 10714 Worker exit type: SYSTEM_ERROR Worker exit detail: The leased worker has unrecoverable failure. Worker is requested to be destroyed when it is returned. Worker exits with an exit code 1. The process receives a SIGTERM.\n"
     ]
    },
    {
     "name": "stderr",
     "output_type": "stream",
     "text": [
      "  0%|\u001b[34m          \u001b[0m| 0/10 [00:00<?, ?it/s]\n",
      " 10%|\u001b[34m█         \u001b[0m| 1/10 [00:13<02:03, 13.74s/it]\n"
     ]
    },
    {
     "name": "stdout",
     "output_type": "stream",
     "text": [
      "\u001b[36m(launch_and_fit pid=10961)\u001b[0m \tTrain Epoch: 1 \tTrain_loss_mri: 1.3985 | Train_acc_mri: 28.1250 | Train_loss_dna: 1.7635 | Train_acc_dna: 28.1250 | Validation_loss_mri: 1.3167 | Validation_acc_mri: 50.0000 | Validation_loss_dna: 1.5481 | Validation_acc_dna: 37.5000\n"
     ]
    },
    {
     "name": "stderr",
     "output_type": "stream",
     "text": [
      " 20%|\u001b[34m██        \u001b[0m| 2/10 [00:15<00:55,  6.94s/it]\n"
     ]
    },
    {
     "name": "stdout",
     "output_type": "stream",
     "text": [
      "\u001b[36m(launch_and_fit pid=10961)\u001b[0m \tTrain Epoch: 2 \tTrain_loss_mri: 1.3862 | Train_acc_mri: 28.1250 | Train_loss_dna: 1.7628 | Train_acc_dna: 31.2500 | Validation_loss_mri: 1.3326 | Validation_acc_mri: 50.0000 | Validation_loss_dna: 1.5284 | Validation_acc_dna: 37.5000\n"
     ]
    },
    {
     "name": "stderr",
     "output_type": "stream",
     "text": [
      " 30%|\u001b[34m███       \u001b[0m| 3/10 [00:18<00:33,  4.78s/it]\n"
     ]
    },
    {
     "name": "stdout",
     "output_type": "stream",
     "text": [
      "\u001b[36m(launch_and_fit pid=10961)\u001b[0m \tTrain Epoch: 3 \tTrain_loss_mri: 1.3626 | Train_acc_mri: 34.3750 | Train_loss_dna: 1.8121 | Train_acc_dna: 25.0000 | Validation_loss_mri: 1.3283 | Validation_acc_mri: 50.0000 | Validation_loss_dna: 1.5083 | Validation_acc_dna: 37.5000\n"
     ]
    },
    {
     "name": "stderr",
     "output_type": "stream",
     "text": [
      " 40%|\u001b[34m████      \u001b[0m| 4/10 [00:20<00:22,  3.78s/it]\n"
     ]
    },
    {
     "name": "stdout",
     "output_type": "stream",
     "text": [
      "\u001b[36m(launch_and_fit pid=10961)\u001b[0m \tTrain Epoch: 4 \tTrain_loss_mri: 1.3837 | Train_acc_mri: 28.1250 | Train_loss_dna: 1.7684 | Train_acc_dna: 21.8750 | Validation_loss_mri: 1.3250 | Validation_acc_mri: 50.0000 | Validation_loss_dna: 1.5056 | Validation_acc_dna: 37.5000\n"
     ]
    },
    {
     "name": "stderr",
     "output_type": "stream",
     "text": [
      " 50%|\u001b[34m█████     \u001b[0m| 5/10 [00:22<00:16,  3.30s/it]\n"
     ]
    },
    {
     "name": "stdout",
     "output_type": "stream",
     "text": [
      "\u001b[36m(launch_and_fit pid=10961)\u001b[0m \tTrain Epoch: 5 \tTrain_loss_mri: 1.3632 | Train_acc_mri: 31.2500 | Train_loss_dna: 1.6392 | Train_acc_dna: 40.6250 | Validation_loss_mri: 1.3263 | Validation_acc_mri: 25.0000 | Validation_loss_dna: 1.4826 | Validation_acc_dna: 37.5000\n"
     ]
    },
    {
     "name": "stderr",
     "output_type": "stream",
     "text": [
      " 60%|\u001b[34m██████    \u001b[0m| 6/10 [00:25<00:11,  2.98s/it]\n"
     ]
    },
    {
     "name": "stdout",
     "output_type": "stream",
     "text": [
      "\u001b[36m(launch_and_fit pid=10961)\u001b[0m \tTrain Epoch: 6 \tTrain_loss_mri: 1.3788 | Train_acc_mri: 35.4167 | Train_loss_dna: 1.7059 | Train_acc_dna: 31.2500 | Validation_loss_mri: 1.3568 | Validation_acc_mri: 12.5000 | Validation_loss_dna: 1.4812 | Validation_acc_dna: 37.5000\n"
     ]
    },
    {
     "name": "stderr",
     "output_type": "stream",
     "text": [
      " 70%|\u001b[34m███████   \u001b[0m| 7/10 [00:27<00:08,  2.74s/it]\n"
     ]
    },
    {
     "name": "stdout",
     "output_type": "stream",
     "text": [
      "\u001b[36m(launch_and_fit pid=10961)\u001b[0m \tTrain Epoch: 7 \tTrain_loss_mri: 1.3565 | Train_acc_mri: 32.2917 | Train_loss_dna: 1.6551 | Train_acc_dna: 25.0000 | Validation_loss_mri: 1.3680 | Validation_acc_mri: 25.0000 | Validation_loss_dna: 1.4674 | Validation_acc_dna: 37.5000\n"
     ]
    },
    {
     "name": "stderr",
     "output_type": "stream",
     "text": [
      " 80%|\u001b[34m████████  \u001b[0m| 8/10 [00:29<00:05,  2.50s/it]\n"
     ]
    },
    {
     "name": "stdout",
     "output_type": "stream",
     "text": [
      "\u001b[36m(launch_and_fit pid=10961)\u001b[0m \tTrain Epoch: 8 \tTrain_loss_mri: 1.3661 | Train_acc_mri: 31.2500 | Train_loss_dna: 1.6657 | Train_acc_dna: 28.1250 | Validation_loss_mri: 1.4189 | Validation_acc_mri: 12.5000 | Validation_loss_dna: 1.4510 | Validation_acc_dna: 37.5000\n"
     ]
    },
    {
     "name": "stderr",
     "output_type": "stream",
     "text": [
      " 90%|\u001b[34m█████████ \u001b[0m| 9/10 [00:31<00:02,  2.43s/it]\n"
     ]
    },
    {
     "name": "stdout",
     "output_type": "stream",
     "text": [
      "\u001b[36m(launch_and_fit pid=10961)\u001b[0m \tTrain Epoch: 9 \tTrain_loss_mri: 1.3268 | Train_acc_mri: 39.5833 | Train_loss_dna: 1.5728 | Train_acc_dna: 36.4583 | Validation_loss_mri: 1.4354 | Validation_acc_mri: 0.0000 | Validation_loss_dna: 1.5215 | Validation_acc_dna: 25.0000\n"
     ]
    },
    {
     "name": "stderr",
     "output_type": "stream",
     "text": [
      "100%|\u001b[34m██████████\u001b[0m| 10/10 [00:34<00:00,  3.41s/it]\n"
     ]
    },
    {
     "name": "stdout",
     "output_type": "stream",
     "text": [
      "\u001b[36m(launch_and_fit pid=10961)\u001b[0m \tTrain Epoch: 10 \tTrain_loss_mri: 1.3218 | Train_acc_mri: 33.3333 | Train_loss_dna: 1.6226 | Train_acc_dna: 36.4583 | Validation_loss_mri: 1.4551 | Validation_acc_mri: 0.0000 | Validation_loss_dna: 1.5050 | Validation_acc_dna: 37.5000\n",
      "\u001b[36m(launch_and_fit pid=10961)\u001b[0m save graph in  results/FL/\n",
      "\u001b[36m(launch_and_fit pid=10961)\u001b[0m mri_net.features.0.weight 5.0067901611328125e-06\n",
      "\u001b[36m(launch_and_fit pid=10961)\u001b[0m mri_net.features.0.bias 1.1920928955078125e-06\n",
      "\u001b[36m(launch_and_fit pid=10961)\u001b[0m mri_net.features.3.weight 7.152557373046875e-07\n",
      "\u001b[36m(launch_and_fit pid=10961)\u001b[0m mri_net.features.3.bias 4.76837158203125e-07\n",
      "\u001b[36m(launch_and_fit pid=10961)\u001b[0m mri_net.classifier.0.weight 9.5367431640625e-07\n",
      "\u001b[36m(launch_and_fit pid=10961)\u001b[0m mri_net.classifier.0.bias 9.5367431640625e-07\n",
      "\u001b[36m(launch_and_fit pid=10961)\u001b[0m mri_net.classifier.2.weight 9.5367431640625e-07\n",
      "\u001b[36m(launch_and_fit pid=10961)\u001b[0m mri_net.classifier.2.bias 7.152557373046875e-07\n",
      "\u001b[36m(launch_and_fit pid=10961)\u001b[0m mri_net.classifier.3.weights 9.5367431640625e-07\n",
      "\u001b[36m(launch_and_fit pid=10961)\u001b[0m dna_net.fc1.weight 7.152557373046875e-07\n",
      "\u001b[36m(launch_and_fit pid=10961)\u001b[0m dna_net.fc1.bias 7.152557373046875e-07\n",
      "\u001b[36m(launch_and_fit pid=10961)\u001b[0m dna_net.fc2.weight 9.5367431640625e-07\n",
      "\u001b[36m(launch_and_fit pid=10961)\u001b[0m dna_net.fc2.bias 9.5367431640625e-07\n",
      "\u001b[36m(launch_and_fit pid=10961)\u001b[0m dna_net.fc3.weight 7.152557373046875e-07\n",
      "\u001b[36m(launch_and_fit pid=10961)\u001b[0m dna_net.fc3.bias 7.152557373046875e-07\n",
      "\u001b[36m(launch_and_fit pid=10961)\u001b[0m dna_net.fc4.weight 7.152557373046875e-07\n",
      "\u001b[36m(launch_and_fit pid=10961)\u001b[0m dna_net.fc4.bias 1.1920928955078125e-06\n",
      "\u001b[36m(launch_and_fit pid=10961)\u001b[0m dna_net.qnn.weights 9.5367431640625e-07\n",
      "\u001b[36m(launch_and_fit pid=10961)\u001b[0m attention.in_proj_weight 1.1920928955078125e-06\n",
      "\u001b[36m(launch_and_fit pid=10961)\u001b[0m attention.in_proj_bias 9.5367431640625e-07\n",
      "\u001b[36m(launch_and_fit pid=10961)\u001b[0m attention.out_proj.weight 7.152557373046875e-07\n",
      "\u001b[36m(launch_and_fit pid=10961)\u001b[0m attention.out_proj.bias 9.5367431640625e-07\n",
      "\u001b[36m(launch_and_fit pid=10961)\u001b[0m fc1.weight 1.430511474609375e-06\n",
      "\u001b[36m(launch_and_fit pid=10961)\u001b[0m fc1.bias 7.152557373046875e-07\n",
      "\u001b[36m(launch_and_fit pid=10961)\u001b[0m fc2_mri.weight 9.5367431640625e-07\n",
      "\u001b[36m(launch_and_fit pid=10961)\u001b[0m fc2_mri.bias 7.152557373046875e-07\n",
      "\u001b[36m(launch_and_fit pid=10961)\u001b[0m fc2_dna.weight 7.152557373046875e-07\n",
      "\u001b[36m(launch_and_fit pid=10961)\u001b[0m fc2_dna.bias 7.152557373046875e-07\n",
      "\u001b[36m(launch_and_fit pid=10961)\u001b[0m Run with homomorphic encryption\n",
      "\u001b[36m(launch_and_fit pid=10961)\u001b[0m [Client 0, round 3] fit, config: {'learning_rate': 0.003, 'batch_size': '32', 'server_round': 3, 'local_epochs': 10}\n"
     ]
    },
    {
     "name": "stderr",
     "output_type": "stream",
     "text": [
      "  0%|\u001b[34m          \u001b[0m| 0/10 [00:00<?, ?it/s]\n"
     ]
    },
    {
     "name": "stdout",
     "output_type": "stream",
     "text": [
      "\u001b[36m(launch_and_fit pid=10961)\u001b[0m Updated model\n"
     ]
    },
    {
     "name": "stderr",
     "output_type": "stream",
     "text": [
      " 10%|\u001b[34m█         \u001b[0m| 1/10 [00:04<00:44,  4.99s/it]\n"
     ]
    },
    {
     "name": "stdout",
     "output_type": "stream",
     "text": [
      "\u001b[36m(launch_and_fit pid=10961)\u001b[0m \tTrain Epoch: 1 \tTrain_loss_mri: 1.3974 | Train_acc_mri: 23.9583 | Train_loss_dna: 1.8509 | Train_acc_dna: 33.3333 | Validation_loss_mri: 1.4147 | Validation_acc_mri: 25.0000 | Validation_loss_dna: 1.4729 | Validation_acc_dna: 62.5000\n"
     ]
    },
    {
     "name": "stderr",
     "output_type": "stream",
     "text": [
      " 20%|\u001b[34m██        \u001b[0m| 2/10 [00:08<00:30,  3.84s/it]\n"
     ]
    },
    {
     "name": "stdout",
     "output_type": "stream",
     "text": [
      "\u001b[36m(launch_and_fit pid=10961)\u001b[0m \tTrain Epoch: 2 \tTrain_loss_mri: 1.3903 | Train_acc_mri: 26.0417 | Train_loss_dna: 1.8879 | Train_acc_dna: 23.9583 | Validation_loss_mri: 1.4131 | Validation_acc_mri: 25.0000 | Validation_loss_dna: 1.5446 | Validation_acc_dna: 62.5000\n"
     ]
    },
    {
     "name": "stderr",
     "output_type": "stream",
     "text": [
      "\u001b[36m(launch_and_fit pid=11213)\u001b[0m /opt/conda/envs/fed/lib/python3.10/site-packages/torch/storage.py:414: FutureWarning: You are using `torch.load` with `weights_only=False` (the current default value), which uses the default pickle module implicitly. It is possible to construct malicious pickle data which will execute arbitrary code during unpickling (See https://github.com/pytorch/pytorch/blob/main/SECURITY.md#untrusted-models for more details). In a future release, the default value for `weights_only` will be flipped to `True`. This limits the functions that could be executed during unpickling. Arbitrary objects will no longer be allowed to be loaded via this mode unless they are explicitly allowlisted by the user via `torch.serialization.add_safe_globals`. We recommend you start setting `weights_only=True` for any use case where you don't have full control of the loaded file. Please open an issue on GitHub for any issues related to this experimental feature.\n",
      "\u001b[36m(launch_and_fit pid=11213)\u001b[0m   return torch.load(io.BytesIO(b))\n"
     ]
    },
    {
     "name": "stdout",
     "output_type": "stream",
     "text": [
      "\u001b[36m(launch_and_fit pid=11213)\u001b[0m Run with homomorphic encryption\n",
      "\u001b[36m(launch_and_fit pid=11213)\u001b[0m [Client 6, round 3] fit, config: {'learning_rate': 0.003, 'batch_size': '32', 'server_round': 3, 'local_epochs': 10}\n"
     ]
    },
    {
     "name": "stderr",
     "output_type": "stream",
     "text": [
      " 30%|\u001b[34m███       \u001b[0m| 3/10 [00:12<00:29,  4.17s/it]\n"
     ]
    },
    {
     "name": "stdout",
     "output_type": "stream",
     "text": [
      "\u001b[36m(launch_and_fit pid=10961)\u001b[0m \tTrain Epoch: 3 \tTrain_loss_mri: 1.3659 | Train_acc_mri: 34.3750 | Train_loss_dna: 1.7780 | Train_acc_dna: 33.3333 | Validation_loss_mri: 1.4322 | Validation_acc_mri: 12.5000 | Validation_loss_dna: 1.4041 | Validation_acc_dna: 62.5000\n",
      "\u001b[33m(raylet)\u001b[0m A worker died or was killed while executing a task by an unexpected system error. To troubleshoot the problem, check the logs for the dead worker. RayTask ID: 7aa9b8de77c4f7469fe76da6b9dc532ae1290aae01000000 Worker ID: fba697ad29b0a8757b61223a0344ee4c98e7a93f6f656cb670b3e4e7 Node ID: 56a5e3c87d3ec0ccb4c476f81cf9b86de127e2bba9c5eacdfac15393 Worker IP address: 10.0.1.229 Worker port: 46051 Worker PID: 11213 Worker exit type: SYSTEM_ERROR Worker exit detail: Worker exits unexpectedly. Worker exits with an exit code 1. The process receives a SIGTERM.\n"
     ]
    },
    {
     "name": "stderr",
     "output_type": "stream",
     "text": [
      " 40%|\u001b[34m████      \u001b[0m| 4/10 [00:22<00:38,  6.48s/it]\n"
     ]
    },
    {
     "name": "stdout",
     "output_type": "stream",
     "text": [
      "\u001b[36m(launch_and_fit pid=10961)\u001b[0m \tTrain Epoch: 4 \tTrain_loss_mri: 1.3724 | Train_acc_mri: 31.2500 | Train_loss_dna: 1.7990 | Train_acc_dna: 33.3333 | Validation_loss_mri: 1.4341 | Validation_acc_mri: 12.5000 | Validation_loss_dna: 1.5039 | Validation_acc_dna: 62.5000\n"
     ]
    },
    {
     "name": "stderr",
     "output_type": "stream",
     "text": [
      " 50%|\u001b[34m█████     \u001b[0m| 5/10 [00:25<00:25,  5.01s/it]\n"
     ]
    },
    {
     "name": "stdout",
     "output_type": "stream",
     "text": [
      "\u001b[36m(launch_and_fit pid=10961)\u001b[0m \tTrain Epoch: 5 \tTrain_loss_mri: 1.3864 | Train_acc_mri: 25.0000 | Train_loss_dna: 1.7432 | Train_acc_dna: 33.3333 | Validation_loss_mri: 1.4638 | Validation_acc_mri: 12.5000 | Validation_loss_dna: 1.3503 | Validation_acc_dna: 62.5000\n"
     ]
    },
    {
     "name": "stderr",
     "output_type": "stream",
     "text": [
      " 60%|\u001b[34m██████    \u001b[0m| 6/10 [00:27<00:16,  4.13s/it]\n"
     ]
    },
    {
     "name": "stdout",
     "output_type": "stream",
     "text": [
      "\u001b[36m(launch_and_fit pid=10961)\u001b[0m \tTrain Epoch: 6 \tTrain_loss_mri: 1.3801 | Train_acc_mri: 28.1250 | Train_loss_dna: 1.7384 | Train_acc_dna: 30.2083 | Validation_loss_mri: 1.4534 | Validation_acc_mri: 12.5000 | Validation_loss_dna: 1.4584 | Validation_acc_dna: 62.5000\n"
     ]
    },
    {
     "name": "stderr",
     "output_type": "stream",
     "text": [
      " 70%|\u001b[34m███████   \u001b[0m| 7/10 [00:30<00:10,  3.64s/it]\n"
     ]
    },
    {
     "name": "stdout",
     "output_type": "stream",
     "text": [
      "\u001b[36m(launch_and_fit pid=10961)\u001b[0m \tTrain Epoch: 7 \tTrain_loss_mri: 1.3770 | Train_acc_mri: 22.9167 | Train_loss_dna: 1.7064 | Train_acc_dna: 36.4583 | Validation_loss_mri: 1.4512 | Validation_acc_mri: 0.0000 | Validation_loss_dna: 1.4637 | Validation_acc_dna: 62.5000\n"
     ]
    },
    {
     "name": "stderr",
     "output_type": "stream",
     "text": [
      " 80%|\u001b[34m████████  \u001b[0m| 8/10 [00:32<00:06,  3.28s/it]\n"
     ]
    },
    {
     "name": "stdout",
     "output_type": "stream",
     "text": [
      "\u001b[36m(launch_and_fit pid=10961)\u001b[0m \tTrain Epoch: 8 \tTrain_loss_mri: 1.3766 | Train_acc_mri: 29.1667 | Train_loss_dna: 1.7637 | Train_acc_dna: 27.0833 | Validation_loss_mri: 1.4361 | Validation_acc_mri: 12.5000 | Validation_loss_dna: 1.3186 | Validation_acc_dna: 75.0000\n"
     ]
    },
    {
     "name": "stderr",
     "output_type": "stream",
     "text": [
      " 90%|\u001b[34m█████████ \u001b[0m| 9/10 [00:35<00:03,  3.06s/it]\n"
     ]
    },
    {
     "name": "stdout",
     "output_type": "stream",
     "text": [
      "\u001b[36m(launch_and_fit pid=10961)\u001b[0m \tTrain Epoch: 9 \tTrain_loss_mri: 1.3428 | Train_acc_mri: 31.2500 | Train_loss_dna: 1.7584 | Train_acc_dna: 32.2917 | Validation_loss_mri: 1.4163 | Validation_acc_mri: 12.5000 | Validation_loss_dna: 1.4680 | Validation_acc_dna: 50.0000\n"
     ]
    },
    {
     "name": "stderr",
     "output_type": "stream",
     "text": [
      "100%|\u001b[34m██████████\u001b[0m| 10/10 [00:37<00:00,  3.75s/it]\n"
     ]
    },
    {
     "name": "stdout",
     "output_type": "stream",
     "text": [
      "\u001b[36m(launch_and_fit pid=10961)\u001b[0m \tTrain Epoch: 10 \tTrain_loss_mri: 1.3568 | Train_acc_mri: 23.9583 | Train_loss_dna: 1.6732 | Train_acc_dna: 42.7083 | Validation_loss_mri: 1.4295 | Validation_acc_mri: 25.0000 | Validation_loss_dna: 1.2960 | Validation_acc_dna: 75.0000\n",
      "\u001b[36m(launch_and_fit pid=10961)\u001b[0m save graph in  results/FL/\n",
      "\u001b[36m(launch_and_fit pid=10961)\u001b[0m mri_net.features.0.weight 2.86102294921875e-06\n",
      "\u001b[36m(launch_and_fit pid=10961)\u001b[0m mri_net.features.0.bias 9.5367431640625e-07\n",
      "\u001b[36m(launch_and_fit pid=10961)\u001b[0m mri_net.features.3.weight 7.152557373046875e-07\n",
      "\u001b[36m(launch_and_fit pid=10961)\u001b[0m mri_net.features.3.bias 4.76837158203125e-07\n",
      "\u001b[36m(launch_and_fit pid=10961)\u001b[0m mri_net.classifier.0.weight 7.152557373046875e-07\n",
      "\u001b[36m(launch_and_fit pid=10961)\u001b[0m mri_net.classifier.0.bias 4.76837158203125e-07\n",
      "\u001b[36m(launch_and_fit pid=10961)\u001b[0m mri_net.classifier.2.weight 4.76837158203125e-07\n",
      "\u001b[36m(launch_and_fit pid=10961)\u001b[0m mri_net.classifier.2.bias 4.76837158203125e-07\n",
      "\u001b[36m(launch_and_fit pid=10961)\u001b[0m mri_net.classifier.3.weights 4.76837158203125e-07\n",
      "\u001b[36m(launch_and_fit pid=10961)\u001b[0m dna_net.fc1.weight 4.76837158203125e-07\n",
      "\u001b[36m(launch_and_fit pid=10961)\u001b[0m dna_net.fc1.bias 2.384185791015625e-07\n",
      "\u001b[36m(launch_and_fit pid=10961)\u001b[0m dna_net.fc2.weight 4.76837158203125e-07\n",
      "\u001b[36m(launch_and_fit pid=10961)\u001b[0m dna_net.fc2.bias 4.76837158203125e-07\n",
      "\u001b[36m(launch_and_fit pid=10961)\u001b[0m dna_net.fc3.weight 7.152557373046875e-07\n",
      "\u001b[36m(launch_and_fit pid=10961)\u001b[0m dna_net.fc3.bias 4.76837158203125e-07\n",
      "\u001b[36m(launch_and_fit pid=10961)\u001b[0m dna_net.fc4.weight 2.384185791015625e-07\n",
      "\u001b[36m(launch_and_fit pid=10961)\u001b[0m dna_net.fc4.bias 4.76837158203125e-07\n",
      "\u001b[36m(launch_and_fit pid=10961)\u001b[0m dna_net.qnn.weights 2.384185791015625e-07\n",
      "\u001b[36m(launch_and_fit pid=10961)\u001b[0m attention.in_proj_weight 4.76837158203125e-07\n",
      "\u001b[36m(launch_and_fit pid=10961)\u001b[0m attention.in_proj_bias 4.76837158203125e-07\n",
      "\u001b[36m(launch_and_fit pid=10961)\u001b[0m attention.out_proj.weight 4.76837158203125e-07\n",
      "\u001b[36m(launch_and_fit pid=10961)\u001b[0m attention.out_proj.bias 7.152557373046875e-07\n",
      "\u001b[36m(launch_and_fit pid=10961)\u001b[0m fc1.weight 7.152557373046875e-07\n",
      "\u001b[36m(launch_and_fit pid=10961)\u001b[0m fc1.bias 4.76837158203125e-07\n",
      "\u001b[36m(launch_and_fit pid=10961)\u001b[0m fc2_mri.weight 4.76837158203125e-07\n",
      "\u001b[36m(launch_and_fit pid=10961)\u001b[0m fc2_mri.bias 4.76837158203125e-07\n",
      "\u001b[36m(launch_and_fit pid=10961)\u001b[0m fc2_dna.weight 2.384185791015625e-07\n",
      "\u001b[36m(launch_and_fit pid=10961)\u001b[0m fc2_dna.bias 4.76837158203125e-07\n"
     ]
    },
    {
     "name": "stderr",
     "output_type": "stream",
     "text": [
      "\u001b[36m(launch_and_fit pid=11475)\u001b[0m /opt/conda/envs/fed/lib/python3.10/site-packages/torch/storage.py:414: FutureWarning: You are using `torch.load` with `weights_only=False` (the current default value), which uses the default pickle module implicitly. It is possible to construct malicious pickle data which will execute arbitrary code during unpickling (See https://github.com/pytorch/pytorch/blob/main/SECURITY.md#untrusted-models for more details). In a future release, the default value for `weights_only` will be flipped to `True`. This limits the functions that could be executed during unpickling. Arbitrary objects will no longer be allowed to be loaded via this mode unless they are explicitly allowlisted by the user via `torch.serialization.add_safe_globals`. We recommend you start setting `weights_only=True` for any use case where you don't have full control of the loaded file. Please open an issue on GitHub for any issues related to this experimental feature.\n",
      "\u001b[36m(launch_and_fit pid=11475)\u001b[0m   return torch.load(io.BytesIO(b))\n"
     ]
    },
    {
     "name": "stdout",
     "output_type": "stream",
     "text": [
      "\u001b[36m(launch_and_fit pid=11475)\u001b[0m Run with homomorphic encryption\n",
      "\u001b[36m(launch_and_fit pid=11475)\u001b[0m [Client 6, round 3] fit, config: {'learning_rate': 0.003, 'batch_size': '32', 'server_round': 3, 'local_epochs': 10}\n"
     ]
    },
    {
     "name": "stderr",
     "output_type": "stream",
     "text": [
      "  0%|\u001b[34m          \u001b[0m| 0/10 [00:00<?, ?it/s]\n"
     ]
    },
    {
     "name": "stdout",
     "output_type": "stream",
     "text": [
      "\u001b[36m(launch_and_fit pid=11475)\u001b[0m Updated model\n"
     ]
    },
    {
     "name": "stderr",
     "output_type": "stream",
     "text": [
      " 10%|\u001b[34m█         \u001b[0m| 1/10 [00:05<00:48,  5.34s/it]\n"
     ]
    },
    {
     "name": "stdout",
     "output_type": "stream",
     "text": [
      "\u001b[36m(launch_and_fit pid=11475)\u001b[0m \tTrain Epoch: 1 \tTrain_loss_mri: 1.3819 | Train_acc_mri: 25.0000 | Train_loss_dna: 1.7977 | Train_acc_dna: 29.1667 | Validation_loss_mri: 1.3579 | Validation_acc_mri: 37.5000 | Validation_loss_dna: 1.7056 | Validation_acc_dna: 50.0000\n"
     ]
    },
    {
     "name": "stderr",
     "output_type": "stream",
     "text": [
      " 20%|\u001b[34m██        \u001b[0m| 2/10 [00:07<00:29,  3.74s/it]\n"
     ]
    },
    {
     "name": "stdout",
     "output_type": "stream",
     "text": [
      "\u001b[36m(launch_and_fit pid=11475)\u001b[0m \tTrain Epoch: 2 \tTrain_loss_mri: 1.3649 | Train_acc_mri: 30.2083 | Train_loss_dna: 1.6533 | Train_acc_dna: 38.5417 | Validation_loss_mri: 1.3586 | Validation_acc_mri: 37.5000 | Validation_loss_dna: 1.7703 | Validation_acc_dna: 50.0000\n"
     ]
    },
    {
     "name": "stderr",
     "output_type": "stream",
     "text": [
      " 30%|\u001b[34m███       \u001b[0m| 3/10 [00:10<00:21,  3.14s/it]\n"
     ]
    },
    {
     "name": "stdout",
     "output_type": "stream",
     "text": [
      "\u001b[36m(launch_and_fit pid=11475)\u001b[0m \tTrain Epoch: 3 \tTrain_loss_mri: 1.4056 | Train_acc_mri: 25.0000 | Train_loss_dna: 1.7214 | Train_acc_dna: 38.5417 | Validation_loss_mri: 1.3785 | Validation_acc_mri: 37.5000 | Validation_loss_dna: 1.7849 | Validation_acc_dna: 50.0000\n"
     ]
    },
    {
     "name": "stderr",
     "output_type": "stream",
     "text": [
      " 40%|\u001b[34m████      \u001b[0m| 4/10 [00:12<00:16,  2.82s/it]\n"
     ]
    },
    {
     "name": "stdout",
     "output_type": "stream",
     "text": [
      "\u001b[36m(launch_and_fit pid=11475)\u001b[0m \tTrain Epoch: 4 \tTrain_loss_mri: 1.3736 | Train_acc_mri: 28.1250 | Train_loss_dna: 1.7015 | Train_acc_dna: 35.4167 | Validation_loss_mri: 1.3720 | Validation_acc_mri: 37.5000 | Validation_loss_dna: 1.8171 | Validation_acc_dna: 50.0000\n"
     ]
    },
    {
     "name": "stderr",
     "output_type": "stream",
     "text": [
      " 50%|\u001b[34m█████     \u001b[0m| 5/10 [00:15<00:13,  2.64s/it]\n"
     ]
    },
    {
     "name": "stdout",
     "output_type": "stream",
     "text": [
      "\u001b[36m(launch_and_fit pid=11475)\u001b[0m \tTrain Epoch: 5 \tTrain_loss_mri: 1.3666 | Train_acc_mri: 25.0000 | Train_loss_dna: 1.7604 | Train_acc_dna: 32.2917 | Validation_loss_mri: 1.4116 | Validation_acc_mri: 37.5000 | Validation_loss_dna: 1.8281 | Validation_acc_dna: 50.0000\n"
     ]
    },
    {
     "name": "stderr",
     "output_type": "stream",
     "text": [
      " 60%|\u001b[34m██████    \u001b[0m| 6/10 [00:17<00:10,  2.54s/it]\n"
     ]
    },
    {
     "name": "stdout",
     "output_type": "stream",
     "text": [
      "\u001b[36m(launch_and_fit pid=11475)\u001b[0m \tTrain Epoch: 6 \tTrain_loss_mri: 1.3512 | Train_acc_mri: 34.3750 | Train_loss_dna: 1.5574 | Train_acc_dna: 44.7917 | Validation_loss_mri: 1.4403 | Validation_acc_mri: 37.5000 | Validation_loss_dna: 1.8329 | Validation_acc_dna: 50.0000\n"
     ]
    },
    {
     "name": "stderr",
     "output_type": "stream",
     "text": [
      " 70%|\u001b[34m███████   \u001b[0m| 7/10 [00:19<00:07,  2.53s/it]\n"
     ]
    },
    {
     "name": "stdout",
     "output_type": "stream",
     "text": [
      "\u001b[36m(launch_and_fit pid=11475)\u001b[0m \tTrain Epoch: 7 \tTrain_loss_mri: 1.3382 | Train_acc_mri: 31.2500 | Train_loss_dna: 1.6957 | Train_acc_dna: 35.4167 | Validation_loss_mri: 1.3970 | Validation_acc_mri: 25.0000 | Validation_loss_dna: 1.8663 | Validation_acc_dna: 50.0000\n"
     ]
    },
    {
     "name": "stderr",
     "output_type": "stream",
     "text": [
      " 80%|\u001b[34m████████  \u001b[0m| 8/10 [00:22<00:04,  2.46s/it]\n"
     ]
    },
    {
     "name": "stdout",
     "output_type": "stream",
     "text": [
      "\u001b[36m(launch_and_fit pid=11475)\u001b[0m \tTrain Epoch: 8 \tTrain_loss_mri: 1.3307 | Train_acc_mri: 32.2917 | Train_loss_dna: 1.5264 | Train_acc_dna: 44.7917 | Validation_loss_mri: 1.4540 | Validation_acc_mri: 25.0000 | Validation_loss_dna: 1.8330 | Validation_acc_dna: 50.0000\n"
     ]
    },
    {
     "name": "stderr",
     "output_type": "stream",
     "text": [
      " 90%|\u001b[34m█████████ \u001b[0m| 9/10 [00:24<00:02,  2.48s/it]\n"
     ]
    },
    {
     "name": "stdout",
     "output_type": "stream",
     "text": [
      "\u001b[36m(launch_and_fit pid=11475)\u001b[0m \tTrain Epoch: 9 \tTrain_loss_mri: 1.3463 | Train_acc_mri: 31.2500 | Train_loss_dna: 1.6363 | Train_acc_dna: 39.5833 | Validation_loss_mri: 1.4557 | Validation_acc_mri: 25.0000 | Validation_loss_dna: 1.8454 | Validation_acc_dna: 50.0000\n"
     ]
    },
    {
     "name": "stderr",
     "output_type": "stream",
     "text": [
      "100%|\u001b[34m██████████\u001b[0m| 10/10 [00:27<00:00,  2.71s/it]\n"
     ]
    },
    {
     "name": "stdout",
     "output_type": "stream",
     "text": [
      "\u001b[36m(launch_and_fit pid=11475)\u001b[0m \tTrain Epoch: 10 \tTrain_loss_mri: 1.2829 | Train_acc_mri: 52.0833 | Train_loss_dna: 1.6799 | Train_acc_dna: 37.5000 | Validation_loss_mri: 1.4758 | Validation_acc_mri: 12.5000 | Validation_loss_dna: 1.9990 | Validation_acc_dna: 25.0000\n",
      "\u001b[36m(launch_and_fit pid=11475)\u001b[0m save graph in  results/FL/\n"
     ]
    },
    {
     "name": "stderr",
     "output_type": "stream",
     "text": [
      "DEBUG flwr 2024-08-05 04:22:11,342 | server.py:236 | fit_round 3 received 10 results and 0 failures\n"
     ]
    },
    {
     "name": "stdout",
     "output_type": "stream",
     "text": [
      "\u001b[36m(launch_and_fit pid=11475)\u001b[0m mri_net.features.0.weight 3.5762786865234375e-06\n",
      "\u001b[36m(launch_and_fit pid=11475)\u001b[0m mri_net.features.0.bias 9.5367431640625e-07\n",
      "\u001b[36m(launch_and_fit pid=11475)\u001b[0m mri_net.features.3.weight 4.76837158203125e-07\n",
      "\u001b[36m(launch_and_fit pid=11475)\u001b[0m mri_net.features.3.bias 7.152557373046875e-07\n",
      "\u001b[36m(launch_and_fit pid=11475)\u001b[0m mri_net.classifier.0.weight 4.76837158203125e-07\n",
      "\u001b[36m(launch_and_fit pid=11475)\u001b[0m mri_net.classifier.0.bias 2.384185791015625e-07\n",
      "\u001b[36m(launch_and_fit pid=11475)\u001b[0m mri_net.classifier.2.weight 2.384185791015625e-07\n",
      "\u001b[36m(launch_and_fit pid=11475)\u001b[0m mri_net.classifier.2.bias 4.76837158203125e-07\n",
      "\u001b[36m(launch_and_fit pid=11475)\u001b[0m mri_net.classifier.3.weights 4.76837158203125e-07\n",
      "\u001b[36m(launch_and_fit pid=11475)\u001b[0m dna_net.fc1.weight 2.384185791015625e-07\n",
      "\u001b[36m(launch_and_fit pid=11475)\u001b[0m dna_net.fc1.bias 7.152557373046875e-07\n",
      "\u001b[36m(launch_and_fit pid=11475)\u001b[0m dna_net.fc2.weight 4.76837158203125e-07\n",
      "\u001b[36m(launch_and_fit pid=11475)\u001b[0m dna_net.fc2.bias 4.76837158203125e-07\n",
      "\u001b[36m(launch_and_fit pid=11475)\u001b[0m dna_net.fc3.weight 2.384185791015625e-07\n",
      "\u001b[36m(launch_and_fit pid=11475)\u001b[0m dna_net.fc3.bias 7.152557373046875e-07\n",
      "\u001b[36m(launch_and_fit pid=11475)\u001b[0m dna_net.fc4.weight 4.76837158203125e-07\n",
      "\u001b[36m(launch_and_fit pid=11475)\u001b[0m dna_net.fc4.bias 1.1920928955078125e-06\n",
      "\u001b[36m(launch_and_fit pid=11475)\u001b[0m dna_net.qnn.weights 9.5367431640625e-07\n",
      "\u001b[36m(launch_and_fit pid=11475)\u001b[0m attention.in_proj_weight 4.76837158203125e-07\n",
      "\u001b[36m(launch_and_fit pid=11475)\u001b[0m attention.in_proj_bias 2.384185791015625e-07\n",
      "\u001b[36m(launch_and_fit pid=11475)\u001b[0m attention.out_proj.weight 4.76837158203125e-07\n",
      "\u001b[36m(launch_and_fit pid=11475)\u001b[0m attention.out_proj.bias 4.76837158203125e-07\n",
      "\u001b[36m(launch_and_fit pid=11475)\u001b[0m fc1.weight 4.76837158203125e-07\n",
      "\u001b[36m(launch_and_fit pid=11475)\u001b[0m fc1.bias 2.384185791015625e-07\n",
      "\u001b[36m(launch_and_fit pid=11475)\u001b[0m fc2_mri.weight 4.76837158203125e-07\n",
      "\u001b[36m(launch_and_fit pid=11475)\u001b[0m fc2_mri.bias 4.76837158203125e-07\n",
      "\u001b[36m(launch_and_fit pid=11475)\u001b[0m fc2_dna.weight 4.76837158203125e-07\n",
      "\u001b[36m(launch_and_fit pid=11475)\u001b[0m fc2_dna.bias 7.152557373046875e-07\n",
      "Saving round 3 aggregated_parameters...\n"
     ]
    },
    {
     "name": "stderr",
     "output_type": "stream",
     "text": [
      "DEBUG flwr 2024-08-05 04:22:18,043 | server.py:173 | evaluate_round 3: strategy sampled 10 clients (out of 10)\n"
     ]
    },
    {
     "name": "stdout",
     "output_type": "stream",
     "text": [
      "\u001b[36m(launch_and_evaluate pid=10961)\u001b[0m Run with homomorphic encryption\n",
      "\u001b[36m(launch_and_evaluate pid=10961)\u001b[0m [Client 5] evaluate, config: {}\n",
      "\u001b[36m(launch_and_evaluate pid=10961)\u001b[0m Updated model\n"
     ]
    },
    {
     "name": "stderr",
     "output_type": "stream",
     "text": [
      "\u001b[36m(launch_and_evaluate pid=10961)\u001b[0m /home/codespace/.local/lib/python3.10/site-packages/sklearn/metrics/_ranking.py:1183: UndefinedMetricWarning: No positive samples in y_true, true positive value should be meaningless\n",
      "\u001b[36m(launch_and_evaluate pid=10961)\u001b[0m   warnings.warn(\n",
      "\u001b[36m(launch_and_evaluate pid=10961)\u001b[0m /home/codespace/.local/lib/python3.10/site-packages/sklearn/metrics/_ranking.py:1183: UndefinedMetricWarning: No positive samples in y_true, true positive value should be meaningless\n",
      "\u001b[36m(launch_and_evaluate pid=10961)\u001b[0m   warnings.warn(\n",
      "\u001b[36m(launch_and_evaluate pid=10961)\u001b[0m /opt/conda/envs/fed/lib/python3.10/site-packages/torch/storage.py:414: FutureWarning: You are using `torch.load` with `weights_only=False` (the current default value), which uses the default pickle module implicitly. It is possible to construct malicious pickle data which will execute arbitrary code during unpickling (See https://github.com/pytorch/pytorch/blob/main/SECURITY.md#untrusted-models for more details). In a future release, the default value for `weights_only` will be flipped to `True`. This limits the functions that could be executed during unpickling. Arbitrary objects will no longer be allowed to be loaded via this mode unless they are explicitly allowlisted by the user via `torch.serialization.add_safe_globals`. We recommend you start setting `weights_only=True` for any use case where you don't have full control of the loaded file. Please open an issue on GitHub for any issues related to this experimental feature.\n",
      "\u001b[36m(launch_and_evaluate pid=10961)\u001b[0m   return torch.load(io.BytesIO(b))\n"
     ]
    },
    {
     "name": "stdout",
     "output_type": "stream",
     "text": [
      "\u001b[36m(launch_and_evaluate pid=10961)\u001b[0m Run with homomorphic encryption\n",
      "\u001b[36m(launch_and_evaluate pid=10961)\u001b[0m [Client 9] evaluate, config: {}\n",
      "\u001b[36m(launch_and_evaluate pid=10961)\u001b[0m Updated model\n"
     ]
    },
    {
     "name": "stderr",
     "output_type": "stream",
     "text": [
      "\u001b[36m(launch_and_evaluate pid=10961)\u001b[0m /home/codespace/.local/lib/python3.10/site-packages/sklearn/metrics/_ranking.py:1183: UndefinedMetricWarning: No positive samples in y_true, true positive value should be meaningless\n",
      "\u001b[36m(launch_and_evaluate pid=10961)\u001b[0m   warnings.warn(\n",
      "\u001b[36m(launch_and_evaluate pid=10961)\u001b[0m /home/codespace/.local/lib/python3.10/site-packages/sklearn/metrics/_ranking.py:1183: UndefinedMetricWarning: No positive samples in y_true, true positive value should be meaningless\n",
      "\u001b[36m(launch_and_evaluate pid=10961)\u001b[0m   warnings.warn(\n",
      "\u001b[36m(launch_and_evaluate pid=10961)\u001b[0m /home/codespace/.local/lib/python3.10/site-packages/sklearn/metrics/_ranking.py:1183: UndefinedMetricWarning: No positive samples in y_true, true positive value should be meaningless\n",
      "\u001b[36m(launch_and_evaluate pid=10961)\u001b[0m   warnings.warn(\n",
      "\u001b[36m(launch_and_evaluate pid=10961)\u001b[0m /opt/conda/envs/fed/lib/python3.10/site-packages/torch/storage.py:414: FutureWarning: You are using `torch.load` with `weights_only=False` (the current default value), which uses the default pickle module implicitly. It is possible to construct malicious pickle data which will execute arbitrary code during unpickling (See https://github.com/pytorch/pytorch/blob/main/SECURITY.md#untrusted-models for more details). In a future release, the default value for `weights_only` will be flipped to `True`. This limits the functions that could be executed during unpickling. Arbitrary objects will no longer be allowed to be loaded via this mode unless they are explicitly allowlisted by the user via `torch.serialization.add_safe_globals`. We recommend you start setting `weights_only=True` for any use case where you don't have full control of the loaded file. Please open an issue on GitHub for any issues related to this experimental feature.\n",
      "\u001b[36m(launch_and_evaluate pid=10961)\u001b[0m   return torch.load(io.BytesIO(b))\n"
     ]
    },
    {
     "name": "stdout",
     "output_type": "stream",
     "text": [
      "\u001b[36m(launch_and_evaluate pid=10961)\u001b[0m Run with homomorphic encryption\n",
      "\u001b[36m(launch_and_evaluate pid=10961)\u001b[0m [Client 7] evaluate, config: {}\n",
      "\u001b[36m(launch_and_evaluate pid=10961)\u001b[0m Updated model\n"
     ]
    },
    {
     "name": "stderr",
     "output_type": "stream",
     "text": [
      "\u001b[36m(launch_and_evaluate pid=10961)\u001b[0m /home/codespace/.local/lib/python3.10/site-packages/sklearn/metrics/_ranking.py:1183: UndefinedMetricWarning: No positive samples in y_true, true positive value should be meaningless\n",
      "\u001b[36m(launch_and_evaluate pid=10961)\u001b[0m   warnings.warn(\n",
      "\u001b[36m(launch_and_evaluate pid=10961)\u001b[0m /home/codespace/.local/lib/python3.10/site-packages/sklearn/metrics/_ranking.py:1183: UndefinedMetricWarning: No positive samples in y_true, true positive value should be meaningless\n",
      "\u001b[36m(launch_and_evaluate pid=10961)\u001b[0m   warnings.warn(\n",
      "\u001b[36m(launch_and_evaluate pid=10961)\u001b[0m /opt/conda/envs/fed/lib/python3.10/site-packages/torch/storage.py:414: FutureWarning: You are using `torch.load` with `weights_only=False` (the current default value), which uses the default pickle module implicitly. It is possible to construct malicious pickle data which will execute arbitrary code during unpickling (See https://github.com/pytorch/pytorch/blob/main/SECURITY.md#untrusted-models for more details). In a future release, the default value for `weights_only` will be flipped to `True`. This limits the functions that could be executed during unpickling. Arbitrary objects will no longer be allowed to be loaded via this mode unless they are explicitly allowlisted by the user via `torch.serialization.add_safe_globals`. We recommend you start setting `weights_only=True` for any use case where you don't have full control of the loaded file. Please open an issue on GitHub for any issues related to this experimental feature.\n",
      "\u001b[36m(launch_and_evaluate pid=10961)\u001b[0m   return torch.load(io.BytesIO(b))\n"
     ]
    },
    {
     "name": "stdout",
     "output_type": "stream",
     "text": [
      "\u001b[36m(launch_and_evaluate pid=10961)\u001b[0m Run with homomorphic encryption\n",
      "\u001b[36m(launch_and_evaluate pid=10961)\u001b[0m [Client 4] evaluate, config: {}\n",
      "\u001b[36m(launch_and_evaluate pid=10961)\u001b[0m Updated model\n"
     ]
    },
    {
     "name": "stderr",
     "output_type": "stream",
     "text": [
      "\u001b[36m(launch_and_evaluate pid=10961)\u001b[0m /home/codespace/.local/lib/python3.10/site-packages/sklearn/metrics/_ranking.py:1183: UndefinedMetricWarning: No positive samples in y_true, true positive value should be meaningless\n",
      "\u001b[36m(launch_and_evaluate pid=10961)\u001b[0m   warnings.warn(\n",
      "\u001b[36m(launch_and_evaluate pid=10961)\u001b[0m /home/codespace/.local/lib/python3.10/site-packages/sklearn/metrics/_ranking.py:1183: UndefinedMetricWarning: No positive samples in y_true, true positive value should be meaningless\n",
      "\u001b[36m(launch_and_evaluate pid=10961)\u001b[0m   warnings.warn(\n",
      "\u001b[36m(launch_and_evaluate pid=10961)\u001b[0m /home/codespace/.local/lib/python3.10/site-packages/sklearn/metrics/_ranking.py:1183: UndefinedMetricWarning: No positive samples in y_true, true positive value should be meaningless\n",
      "\u001b[36m(launch_and_evaluate pid=10961)\u001b[0m   warnings.warn(\n",
      "\u001b[36m(launch_and_evaluate pid=10961)\u001b[0m /opt/conda/envs/fed/lib/python3.10/site-packages/torch/storage.py:414: FutureWarning: You are using `torch.load` with `weights_only=False` (the current default value), which uses the default pickle module implicitly. It is possible to construct malicious pickle data which will execute arbitrary code during unpickling (See https://github.com/pytorch/pytorch/blob/main/SECURITY.md#untrusted-models for more details). In a future release, the default value for `weights_only` will be flipped to `True`. This limits the functions that could be executed during unpickling. Arbitrary objects will no longer be allowed to be loaded via this mode unless they are explicitly allowlisted by the user via `torch.serialization.add_safe_globals`. We recommend you start setting `weights_only=True` for any use case where you don't have full control of the loaded file. Please open an issue on GitHub for any issues related to this experimental feature.\n",
      "\u001b[36m(launch_and_evaluate pid=10961)\u001b[0m   return torch.load(io.BytesIO(b))\n"
     ]
    },
    {
     "name": "stdout",
     "output_type": "stream",
     "text": [
      "\u001b[36m(launch_and_evaluate pid=10961)\u001b[0m Run with homomorphic encryption\n",
      "\u001b[36m(launch_and_evaluate pid=10961)\u001b[0m [Client 0] evaluate, config: {}\n",
      "\u001b[36m(launch_and_evaluate pid=10961)\u001b[0m Updated model\n"
     ]
    },
    {
     "name": "stderr",
     "output_type": "stream",
     "text": [
      "\u001b[36m(launch_and_evaluate pid=10961)\u001b[0m /home/codespace/.local/lib/python3.10/site-packages/sklearn/metrics/_ranking.py:1183: UndefinedMetricWarning: No positive samples in y_true, true positive value should be meaningless\n",
      "\u001b[36m(launch_and_evaluate pid=10961)\u001b[0m   warnings.warn(\n",
      "\u001b[36m(launch_and_evaluate pid=10961)\u001b[0m /home/codespace/.local/lib/python3.10/site-packages/sklearn/metrics/_ranking.py:1183: UndefinedMetricWarning: No positive samples in y_true, true positive value should be meaningless\n",
      "\u001b[36m(launch_and_evaluate pid=10961)\u001b[0m   warnings.warn(\n",
      "\u001b[36m(launch_and_evaluate pid=10961)\u001b[0m /home/codespace/.local/lib/python3.10/site-packages/sklearn/metrics/_ranking.py:1183: UndefinedMetricWarning: No positive samples in y_true, true positive value should be meaningless\n",
      "\u001b[36m(launch_and_evaluate pid=10961)\u001b[0m   warnings.warn(\n",
      "\u001b[36m(launch_and_evaluate pid=10961)\u001b[0m /home/codespace/.local/lib/python3.10/site-packages/sklearn/metrics/_ranking.py:1183: UndefinedMetricWarning: No positive samples in y_true, true positive value should be meaningless\n",
      "\u001b[36m(launch_and_evaluate pid=10961)\u001b[0m   warnings.warn(\n",
      "\u001b[36m(launch_and_evaluate pid=10961)\u001b[0m /opt/conda/envs/fed/lib/python3.10/site-packages/torch/storage.py:414: FutureWarning: You are using `torch.load` with `weights_only=False` (the current default value), which uses the default pickle module implicitly. It is possible to construct malicious pickle data which will execute arbitrary code during unpickling (See https://github.com/pytorch/pytorch/blob/main/SECURITY.md#untrusted-models for more details). In a future release, the default value for `weights_only` will be flipped to `True`. This limits the functions that could be executed during unpickling. Arbitrary objects will no longer be allowed to be loaded via this mode unless they are explicitly allowlisted by the user via `torch.serialization.add_safe_globals`. We recommend you start setting `weights_only=True` for any use case where you don't have full control of the loaded file. Please open an issue on GitHub for any issues related to this experimental feature.\n",
      "\u001b[36m(launch_and_evaluate pid=10961)\u001b[0m   return torch.load(io.BytesIO(b))\n"
     ]
    },
    {
     "name": "stdout",
     "output_type": "stream",
     "text": [
      "\u001b[36m(launch_and_evaluate pid=10961)\u001b[0m Run with homomorphic encryption\n",
      "\u001b[36m(launch_and_evaluate pid=10961)\u001b[0m [Client 1] evaluate, config: {}\n",
      "\u001b[36m(launch_and_evaluate pid=10961)\u001b[0m Updated model\n"
     ]
    },
    {
     "name": "stderr",
     "output_type": "stream",
     "text": [
      "\u001b[36m(launch_and_evaluate pid=10961)\u001b[0m /home/codespace/.local/lib/python3.10/site-packages/sklearn/metrics/_ranking.py:1183: UndefinedMetricWarning: No positive samples in y_true, true positive value should be meaningless\n",
      "\u001b[36m(launch_and_evaluate pid=10961)\u001b[0m   warnings.warn(\n",
      "\u001b[36m(launch_and_evaluate pid=10961)\u001b[0m /home/codespace/.local/lib/python3.10/site-packages/sklearn/metrics/_ranking.py:1183: UndefinedMetricWarning: No positive samples in y_true, true positive value should be meaningless\n",
      "\u001b[36m(launch_and_evaluate pid=10961)\u001b[0m   warnings.warn(\n",
      "\u001b[36m(launch_and_evaluate pid=10961)\u001b[0m /home/codespace/.local/lib/python3.10/site-packages/sklearn/metrics/_ranking.py:1183: UndefinedMetricWarning: No positive samples in y_true, true positive value should be meaningless\n",
      "\u001b[36m(launch_and_evaluate pid=10961)\u001b[0m   warnings.warn(\n",
      "\u001b[36m(launch_and_evaluate pid=10961)\u001b[0m /opt/conda/envs/fed/lib/python3.10/site-packages/torch/storage.py:414: FutureWarning: You are using `torch.load` with `weights_only=False` (the current default value), which uses the default pickle module implicitly. It is possible to construct malicious pickle data which will execute arbitrary code during unpickling (See https://github.com/pytorch/pytorch/blob/main/SECURITY.md#untrusted-models for more details). In a future release, the default value for `weights_only` will be flipped to `True`. This limits the functions that could be executed during unpickling. Arbitrary objects will no longer be allowed to be loaded via this mode unless they are explicitly allowlisted by the user via `torch.serialization.add_safe_globals`. We recommend you start setting `weights_only=True` for any use case where you don't have full control of the loaded file. Please open an issue on GitHub for any issues related to this experimental feature.\n",
      "\u001b[36m(launch_and_evaluate pid=10961)\u001b[0m   return torch.load(io.BytesIO(b))\n"
     ]
    },
    {
     "name": "stdout",
     "output_type": "stream",
     "text": [
      "\u001b[36m(launch_and_evaluate pid=10961)\u001b[0m Run with homomorphic encryption\n",
      "\u001b[36m(launch_and_evaluate pid=10961)\u001b[0m [Client 3] evaluate, config: {}\n",
      "\u001b[36m(launch_and_evaluate pid=10961)\u001b[0m Updated model\n"
     ]
    },
    {
     "name": "stderr",
     "output_type": "stream",
     "text": [
      "\u001b[36m(launch_and_evaluate pid=10961)\u001b[0m /home/codespace/.local/lib/python3.10/site-packages/sklearn/metrics/_ranking.py:1183: UndefinedMetricWarning: No positive samples in y_true, true positive value should be meaningless\n",
      "\u001b[36m(launch_and_evaluate pid=10961)\u001b[0m   warnings.warn(\n",
      "\u001b[36m(launch_and_evaluate pid=10961)\u001b[0m /home/codespace/.local/lib/python3.10/site-packages/sklearn/metrics/_ranking.py:1183: UndefinedMetricWarning: No positive samples in y_true, true positive value should be meaningless\n",
      "\u001b[36m(launch_and_evaluate pid=10961)\u001b[0m   warnings.warn(\n",
      "\u001b[36m(launch_and_evaluate pid=10961)\u001b[0m /home/codespace/.local/lib/python3.10/site-packages/sklearn/metrics/_ranking.py:1183: UndefinedMetricWarning: No positive samples in y_true, true positive value should be meaningless\n",
      "\u001b[36m(launch_and_evaluate pid=10961)\u001b[0m   warnings.warn(\n",
      "\u001b[36m(launch_and_evaluate pid=10961)\u001b[0m /home/codespace/.local/lib/python3.10/site-packages/sklearn/metrics/_ranking.py:1183: UndefinedMetricWarning: No positive samples in y_true, true positive value should be meaningless\n",
      "\u001b[36m(launch_and_evaluate pid=10961)\u001b[0m   warnings.warn(\n",
      "\u001b[36m(launch_and_evaluate pid=10961)\u001b[0m /opt/conda/envs/fed/lib/python3.10/site-packages/torch/storage.py:414: FutureWarning: You are using `torch.load` with `weights_only=False` (the current default value), which uses the default pickle module implicitly. It is possible to construct malicious pickle data which will execute arbitrary code during unpickling (See https://github.com/pytorch/pytorch/blob/main/SECURITY.md#untrusted-models for more details). In a future release, the default value for `weights_only` will be flipped to `True`. This limits the functions that could be executed during unpickling. Arbitrary objects will no longer be allowed to be loaded via this mode unless they are explicitly allowlisted by the user via `torch.serialization.add_safe_globals`. We recommend you start setting `weights_only=True` for any use case where you don't have full control of the loaded file. Please open an issue on GitHub for any issues related to this experimental feature.\n",
      "\u001b[36m(launch_and_evaluate pid=10961)\u001b[0m   return torch.load(io.BytesIO(b))\n"
     ]
    },
    {
     "name": "stdout",
     "output_type": "stream",
     "text": [
      "\u001b[36m(launch_and_evaluate pid=10961)\u001b[0m Run with homomorphic encryption\n",
      "\u001b[36m(launch_and_evaluate pid=10961)\u001b[0m [Client 6] evaluate, config: {}\n",
      "\u001b[36m(launch_and_evaluate pid=10961)\u001b[0m Updated model\n"
     ]
    },
    {
     "name": "stderr",
     "output_type": "stream",
     "text": [
      "\u001b[36m(launch_and_evaluate pid=10961)\u001b[0m /home/codespace/.local/lib/python3.10/site-packages/sklearn/metrics/_ranking.py:1183: UndefinedMetricWarning: No positive samples in y_true, true positive value should be meaningless\n",
      "\u001b[36m(launch_and_evaluate pid=10961)\u001b[0m   warnings.warn(\n",
      "\u001b[36m(launch_and_evaluate pid=10961)\u001b[0m /home/codespace/.local/lib/python3.10/site-packages/sklearn/metrics/_ranking.py:1183: UndefinedMetricWarning: No positive samples in y_true, true positive value should be meaningless\n",
      "\u001b[36m(launch_and_evaluate pid=10961)\u001b[0m   warnings.warn(\n",
      "\u001b[36m(launch_and_evaluate pid=10961)\u001b[0m /home/codespace/.local/lib/python3.10/site-packages/sklearn/metrics/_ranking.py:1183: UndefinedMetricWarning: No positive samples in y_true, true positive value should be meaningless\n",
      "\u001b[36m(launch_and_evaluate pid=10961)\u001b[0m   warnings.warn(\n",
      "\u001b[36m(launch_and_evaluate pid=10961)\u001b[0m /home/codespace/.local/lib/python3.10/site-packages/sklearn/metrics/_ranking.py:1183: UndefinedMetricWarning: No positive samples in y_true, true positive value should be meaningless\n",
      "\u001b[36m(launch_and_evaluate pid=10961)\u001b[0m   warnings.warn(\n",
      "\u001b[36m(launch_and_evaluate pid=10961)\u001b[0m /home/codespace/.local/lib/python3.10/site-packages/sklearn/metrics/_ranking.py:1183: UndefinedMetricWarning: No positive samples in y_true, true positive value should be meaningless\n",
      "\u001b[36m(launch_and_evaluate pid=10961)\u001b[0m   warnings.warn(\n",
      "\u001b[36m(launch_and_evaluate pid=10961)\u001b[0m /opt/conda/envs/fed/lib/python3.10/site-packages/torch/storage.py:414: FutureWarning: You are using `torch.load` with `weights_only=False` (the current default value), which uses the default pickle module implicitly. It is possible to construct malicious pickle data which will execute arbitrary code during unpickling (See https://github.com/pytorch/pytorch/blob/main/SECURITY.md#untrusted-models for more details). In a future release, the default value for `weights_only` will be flipped to `True`. This limits the functions that could be executed during unpickling. Arbitrary objects will no longer be allowed to be loaded via this mode unless they are explicitly allowlisted by the user via `torch.serialization.add_safe_globals`. We recommend you start setting `weights_only=True` for any use case where you don't have full control of the loaded file. Please open an issue on GitHub for any issues related to this experimental feature.\n",
      "\u001b[36m(launch_and_evaluate pid=10961)\u001b[0m   return torch.load(io.BytesIO(b))\n"
     ]
    },
    {
     "name": "stdout",
     "output_type": "stream",
     "text": [
      "\u001b[36m(launch_and_evaluate pid=10961)\u001b[0m Run with homomorphic encryption\n",
      "\u001b[36m(launch_and_evaluate pid=10961)\u001b[0m [Client 8] evaluate, config: {}\n",
      "\u001b[36m(launch_and_evaluate pid=10961)\u001b[0m Updated model\n"
     ]
    },
    {
     "name": "stderr",
     "output_type": "stream",
     "text": [
      "\u001b[36m(launch_and_evaluate pid=10961)\u001b[0m /home/codespace/.local/lib/python3.10/site-packages/sklearn/metrics/_ranking.py:1183: UndefinedMetricWarning: No positive samples in y_true, true positive value should be meaningless\n",
      "\u001b[36m(launch_and_evaluate pid=10961)\u001b[0m   warnings.warn(\n",
      "\u001b[36m(launch_and_evaluate pid=10961)\u001b[0m /home/codespace/.local/lib/python3.10/site-packages/sklearn/metrics/_ranking.py:1183: UndefinedMetricWarning: No positive samples in y_true, true positive value should be meaningless\n",
      "\u001b[36m(launch_and_evaluate pid=10961)\u001b[0m   warnings.warn(\n",
      "\u001b[36m(launch_and_evaluate pid=11874)\u001b[0m /opt/conda/envs/fed/lib/python3.10/site-packages/torch/storage.py:414: FutureWarning: You are using `torch.load` with `weights_only=False` (the current default value), which uses the default pickle module implicitly. It is possible to construct malicious pickle data which will execute arbitrary code during unpickling (See https://github.com/pytorch/pytorch/blob/main/SECURITY.md#untrusted-models for more details). In a future release, the default value for `weights_only` will be flipped to `True`. This limits the functions that could be executed during unpickling. Arbitrary objects will no longer be allowed to be loaded via this mode unless they are explicitly allowlisted by the user via `torch.serialization.add_safe_globals`. We recommend you start setting `weights_only=True` for any use case where you don't have full control of the loaded file. Please open an issue on GitHub for any issues related to this experimental feature.\n",
      "\u001b[36m(launch_and_evaluate pid=11874)\u001b[0m   return torch.load(io.BytesIO(b))\n"
     ]
    },
    {
     "name": "stdout",
     "output_type": "stream",
     "text": [
      "\u001b[36m(launch_and_evaluate pid=11874)\u001b[0m Run with homomorphic encryption\n",
      "\u001b[36m(launch_and_evaluate pid=11874)\u001b[0m [Client 2] evaluate, config: {}\n",
      "\u001b[36m(launch_and_evaluate pid=11874)\u001b[0m Updated model\n"
     ]
    },
    {
     "name": "stderr",
     "output_type": "stream",
     "text": [
      "\u001b[36m(launch_and_evaluate pid=11874)\u001b[0m /home/codespace/.local/lib/python3.10/site-packages/sklearn/metrics/_ranking.py:1183: UndefinedMetricWarning: No positive samples in y_true, true positive value should be meaningless\n",
      "\u001b[36m(launch_and_evaluate pid=11874)\u001b[0m   warnings.warn(\n",
      "\u001b[36m(launch_and_evaluate pid=11874)\u001b[0m /home/codespace/.local/lib/python3.10/site-packages/sklearn/metrics/_ranking.py:1183: UndefinedMetricWarning: No positive samples in y_true, true positive value should be meaningless\n",
      "\u001b[36m(launch_and_evaluate pid=11874)\u001b[0m   warnings.warn(\n",
      "\u001b[36m(launch_and_evaluate pid=11874)\u001b[0m /home/codespace/.local/lib/python3.10/site-packages/sklearn/metrics/_ranking.py:1183: UndefinedMetricWarning: No positive samples in y_true, true positive value should be meaningless\n",
      "\u001b[36m(launch_and_evaluate pid=11874)\u001b[0m   warnings.warn(\n",
      "\u001b[36m(launch_and_evaluate pid=11874)\u001b[0m /home/codespace/.local/lib/python3.10/site-packages/sklearn/metrics/_ranking.py:1183: UndefinedMetricWarning: No positive samples in y_true, true positive value should be meaningless\n",
      "\u001b[36m(launch_and_evaluate pid=11874)\u001b[0m   warnings.warn(\n",
      "\u001b[36m(launch_and_evaluate pid=11874)\u001b[0m /home/codespace/.local/lib/python3.10/site-packages/sklearn/metrics/_ranking.py:1183: UndefinedMetricWarning: No positive samples in y_true, true positive value should be meaningless\n",
      "\u001b[36m(launch_and_evaluate pid=11874)\u001b[0m   warnings.warn(\n",
      "DEBUG flwr 2024-08-05 04:23:04,981 | server.py:187 | evaluate_round 3 received 10 results and 0 failures\n",
      "DEBUG flwr 2024-08-05 04:23:04,982 | server.py:222 | fit_round 4: strategy sampled 10 clients (out of 10)\n",
      "\u001b[36m(launch_and_fit pid=11874)\u001b[0m /opt/conda/envs/fed/lib/python3.10/site-packages/torch/storage.py:414: FutureWarning: You are using `torch.load` with `weights_only=False` (the current default value), which uses the default pickle module implicitly. It is possible to construct malicious pickle data which will execute arbitrary code during unpickling (See https://github.com/pytorch/pytorch/blob/main/SECURITY.md#untrusted-models for more details). In a future release, the default value for `weights_only` will be flipped to `True`. This limits the functions that could be executed during unpickling. Arbitrary objects will no longer be allowed to be loaded via this mode unless they are explicitly allowlisted by the user via `torch.serialization.add_safe_globals`. We recommend you start setting `weights_only=True` for any use case where you don't have full control of the loaded file. Please open an issue on GitHub for any issues related to this experimental feature.\n",
      "\u001b[36m(launch_and_fit pid=11874)\u001b[0m   return torch.load(io.BytesIO(b))\n"
     ]
    },
    {
     "name": "stdout",
     "output_type": "stream",
     "text": [
      "\u001b[36m(launch_and_fit pid=10961)\u001b[0m Run with homomorphic encryption\n",
      "\u001b[36m(launch_and_fit pid=10961)\u001b[0m [Client 7, round 4] fit, config: {'learning_rate': 0.003, 'batch_size': '32', 'server_round': 4, 'local_epochs': 10}\n",
      "\u001b[36m(launch_and_fit pid=11874)\u001b[0m Updated model\n"
     ]
    },
    {
     "name": "stderr",
     "output_type": "stream",
     "text": [
      "  0%|\u001b[34m          \u001b[0m| 0/10 [00:00<?, ?it/s]\n",
      "\u001b[36m(launch_and_fit pid=10961)\u001b[0m /opt/conda/envs/fed/lib/python3.10/site-packages/torch/storage.py:414: FutureWarning: You are using `torch.load` with `weights_only=False` (the current default value), which uses the default pickle module implicitly. It is possible to construct malicious pickle data which will execute arbitrary code during unpickling (See https://github.com/pytorch/pytorch/blob/main/SECURITY.md#untrusted-models for more details). In a future release, the default value for `weights_only` will be flipped to `True`. This limits the functions that could be executed during unpickling. Arbitrary objects will no longer be allowed to be loaded via this mode unless they are explicitly allowlisted by the user via `torch.serialization.add_safe_globals`. We recommend you start setting `weights_only=True` for any use case where you don't have full control of the loaded file. Please open an issue on GitHub for any issues related to this experimental feature.\n",
      "\u001b[36m(launch_and_fit pid=10961)\u001b[0m   return torch.load(io.BytesIO(b))\n"
     ]
    },
    {
     "name": "stdout",
     "output_type": "stream",
     "text": [
      "\u001b[33m(raylet)\u001b[0m A worker died or was killed while executing a task by an unexpected system error. To troubleshoot the problem, check the logs for the dead worker. RayTask ID: 082b9b788aa3b1cb5855546f8e8fe44dbb10533701000000 Worker ID: e7df93909623e5a3bf77e8fb4be07999e3ad38e0762708438b614ac2 Node ID: 56a5e3c87d3ec0ccb4c476f81cf9b86de127e2bba9c5eacdfac15393 Worker IP address: 10.0.1.229 Worker port: 41679 Worker PID: 10961 Worker exit type: SYSTEM_ERROR Worker exit detail: The leased worker has unrecoverable failure. Worker is requested to be destroyed when it is returned. Worker exits with an exit code 1. The process receives a SIGTERM.\n"
     ]
    },
    {
     "name": "stderr",
     "output_type": "stream",
     "text": [
      " 10%|\u001b[34m█         \u001b[0m| 1/10 [00:13<02:05, 13.98s/it]\n"
     ]
    },
    {
     "name": "stdout",
     "output_type": "stream",
     "text": [
      "\u001b[36m(launch_and_fit pid=11874)\u001b[0m \tTrain Epoch: 1 \tTrain_loss_mri: 1.3963 | Train_acc_mri: 32.2917 | Train_loss_dna: 1.6516 | Train_acc_dna: 36.4583 | Validation_loss_mri: 1.3272 | Validation_acc_mri: 50.0000 | Validation_loss_dna: 1.7834 | Validation_acc_dna: 25.0000\n",
      "\u001b[36m(launch_and_fit pid=11874)\u001b[0m Run with homomorphic encryption\n",
      "\u001b[36m(launch_and_fit pid=11874)\u001b[0m [Client 3, round 4] fit, config: {'learning_rate': 0.003, 'batch_size': '32', 'server_round': 4, 'local_epochs': 10}\n"
     ]
    },
    {
     "name": "stderr",
     "output_type": "stream",
     "text": [
      " 20%|\u001b[34m██        \u001b[0m| 2/10 [00:16<00:56,  7.10s/it]\n"
     ]
    },
    {
     "name": "stdout",
     "output_type": "stream",
     "text": [
      "\u001b[36m(launch_and_fit pid=11874)\u001b[0m \tTrain Epoch: 2 \tTrain_loss_mri: 1.3521 | Train_acc_mri: 35.4167 | Train_loss_dna: 1.5690 | Train_acc_dna: 43.7500 | Validation_loss_mri: 1.2782 | Validation_acc_mri: 50.0000 | Validation_loss_dna: 1.8249 | Validation_acc_dna: 25.0000\n"
     ]
    },
    {
     "name": "stderr",
     "output_type": "stream",
     "text": [
      " 30%|\u001b[34m███       \u001b[0m| 3/10 [00:18<00:34,  4.90s/it]\n"
     ]
    },
    {
     "name": "stdout",
     "output_type": "stream",
     "text": [
      "\u001b[36m(launch_and_fit pid=11874)\u001b[0m \tTrain Epoch: 3 \tTrain_loss_mri: 1.3383 | Train_acc_mri: 41.6667 | Train_loss_dna: 1.5621 | Train_acc_dna: 43.7500 | Validation_loss_mri: 1.2467 | Validation_acc_mri: 50.0000 | Validation_loss_dna: 1.8391 | Validation_acc_dna: 25.0000\n"
     ]
    },
    {
     "name": "stderr",
     "output_type": "stream",
     "text": [
      " 40%|\u001b[34m████      \u001b[0m| 4/10 [00:21<00:23,  3.94s/it]\n"
     ]
    },
    {
     "name": "stdout",
     "output_type": "stream",
     "text": [
      "\u001b[36m(launch_and_fit pid=11874)\u001b[0m \tTrain Epoch: 4 \tTrain_loss_mri: 1.3505 | Train_acc_mri: 32.2917 | Train_loss_dna: 1.5694 | Train_acc_dna: 39.5833 | Validation_loss_mri: 1.2006 | Validation_acc_mri: 50.0000 | Validation_loss_dna: 1.7825 | Validation_acc_dna: 25.0000\n"
     ]
    },
    {
     "name": "stderr",
     "output_type": "stream",
     "text": [
      " 50%|\u001b[34m█████     \u001b[0m| 5/10 [00:23<00:17,  3.42s/it]\n"
     ]
    },
    {
     "name": "stdout",
     "output_type": "stream",
     "text": [
      "\u001b[36m(launch_and_fit pid=11874)\u001b[0m \tTrain Epoch: 5 \tTrain_loss_mri: 1.3498 | Train_acc_mri: 29.1667 | Train_loss_dna: 1.4985 | Train_acc_dna: 45.8333 | Validation_loss_mri: 1.1766 | Validation_acc_mri: 50.0000 | Validation_loss_dna: 1.8083 | Validation_acc_dna: 25.0000\n"
     ]
    },
    {
     "name": "stderr",
     "output_type": "stream",
     "text": [
      " 60%|\u001b[34m██████    \u001b[0m| 6/10 [00:26<00:12,  3.16s/it]\n"
     ]
    },
    {
     "name": "stdout",
     "output_type": "stream",
     "text": [
      "\u001b[36m(launch_and_fit pid=11874)\u001b[0m \tTrain Epoch: 6 \tTrain_loss_mri: 1.3055 | Train_acc_mri: 38.5417 | Train_loss_dna: 1.3857 | Train_acc_dna: 46.8750 | Validation_loss_mri: 1.1515 | Validation_acc_mri: 50.0000 | Validation_loss_dna: 1.7597 | Validation_acc_dna: 25.0000\n"
     ]
    },
    {
     "name": "stderr",
     "output_type": "stream",
     "text": [
      " 70%|\u001b[34m███████   \u001b[0m| 7/10 [00:28<00:08,  2.92s/it]\n"
     ]
    },
    {
     "name": "stdout",
     "output_type": "stream",
     "text": [
      "\u001b[36m(launch_and_fit pid=11874)\u001b[0m \tTrain Epoch: 7 \tTrain_loss_mri: 1.2916 | Train_acc_mri: 29.1667 | Train_loss_dna: 1.3436 | Train_acc_dna: 47.9167 | Validation_loss_mri: 1.0935 | Validation_acc_mri: 50.0000 | Validation_loss_dna: 1.7027 | Validation_acc_dna: 37.5000\n"
     ]
    },
    {
     "name": "stderr",
     "output_type": "stream",
     "text": [
      " 80%|\u001b[34m████████  \u001b[0m| 8/10 [00:31<00:05,  2.77s/it]\n"
     ]
    },
    {
     "name": "stdout",
     "output_type": "stream",
     "text": [
      "\u001b[36m(launch_and_fit pid=11874)\u001b[0m \tTrain Epoch: 8 \tTrain_loss_mri: 1.3484 | Train_acc_mri: 26.0417 | Train_loss_dna: 1.3543 | Train_acc_dna: 47.9167 | Validation_loss_mri: 1.0822 | Validation_acc_mri: 50.0000 | Validation_loss_dna: 1.7140 | Validation_acc_dna: 37.5000\n"
     ]
    },
    {
     "name": "stderr",
     "output_type": "stream",
     "text": [
      " 90%|\u001b[34m█████████ \u001b[0m| 9/10 [00:33<00:02,  2.66s/it]\n"
     ]
    },
    {
     "name": "stdout",
     "output_type": "stream",
     "text": [
      "\u001b[36m(launch_and_fit pid=11874)\u001b[0m \tTrain Epoch: 9 \tTrain_loss_mri: 1.3222 | Train_acc_mri: 32.2917 | Train_loss_dna: 1.2795 | Train_acc_dna: 40.6250 | Validation_loss_mri: 1.0286 | Validation_acc_mri: 62.5000 | Validation_loss_dna: 1.6782 | Validation_acc_dna: 37.5000\n"
     ]
    },
    {
     "name": "stderr",
     "output_type": "stream",
     "text": [
      "100%|\u001b[34m██████████\u001b[0m| 10/10 [00:36<00:00,  3.61s/it]\n"
     ]
    },
    {
     "name": "stdout",
     "output_type": "stream",
     "text": [
      "\u001b[36m(launch_and_fit pid=11874)\u001b[0m \tTrain Epoch: 10 \tTrain_loss_mri: 1.2777 | Train_acc_mri: 32.2917 | Train_loss_dna: 1.2182 | Train_acc_dna: 52.0833 | Validation_loss_mri: 1.0194 | Validation_acc_mri: 87.5000 | Validation_loss_dna: 1.6251 | Validation_acc_dna: 25.0000\n",
      "\u001b[36m(launch_and_fit pid=11874)\u001b[0m save graph in  results/FL/\n",
      "\u001b[36m(launch_and_fit pid=11874)\u001b[0m mri_net.features.0.weight 5.245208740234375e-06\n",
      "\u001b[36m(launch_and_fit pid=11874)\u001b[0m mri_net.features.0.bias 1.1920928955078125e-06\n",
      "\u001b[36m(launch_and_fit pid=11874)\u001b[0m mri_net.features.3.weight 7.152557373046875e-07\n",
      "\u001b[36m(launch_and_fit pid=11874)\u001b[0m mri_net.features.3.bias 7.152557373046875e-07\n",
      "\u001b[36m(launch_and_fit pid=11874)\u001b[0m mri_net.classifier.0.weight 7.152557373046875e-07\n",
      "\u001b[36m(launch_and_fit pid=11874)\u001b[0m mri_net.classifier.0.bias 4.76837158203125e-07\n",
      "\u001b[36m(launch_and_fit pid=11874)\u001b[0m mri_net.classifier.2.weight 4.76837158203125e-07\n",
      "\u001b[36m(launch_and_fit pid=11874)\u001b[0m mri_net.classifier.2.bias 4.76837158203125e-07\n",
      "\u001b[36m(launch_and_fit pid=11874)\u001b[0m mri_net.classifier.3.weights 7.152557373046875e-07\n",
      "\u001b[36m(launch_and_fit pid=11874)\u001b[0m dna_net.fc1.weight 7.152557373046875e-07\n",
      "\u001b[36m(launch_and_fit pid=11874)\u001b[0m dna_net.fc1.bias 4.76837158203125e-07\n",
      "\u001b[36m(launch_and_fit pid=11874)\u001b[0m dna_net.fc2.weight 4.76837158203125e-07\n",
      "\u001b[36m(launch_and_fit pid=11874)\u001b[0m dna_net.fc2.bias 4.76837158203125e-07\n",
      "\u001b[36m(launch_and_fit pid=11874)\u001b[0m dna_net.fc3.weight 4.76837158203125e-07\n",
      "\u001b[36m(launch_and_fit pid=11874)\u001b[0m dna_net.fc3.bias 2.384185791015625e-07\n",
      "\u001b[36m(launch_and_fit pid=11874)\u001b[0m dna_net.fc4.weight 2.384185791015625e-07\n",
      "\u001b[36m(launch_and_fit pid=11874)\u001b[0m dna_net.fc4.bias 4.76837158203125e-07\n",
      "\u001b[36m(launch_and_fit pid=11874)\u001b[0m dna_net.qnn.weights 4.76837158203125e-07\n",
      "\u001b[36m(launch_and_fit pid=11874)\u001b[0m attention.in_proj_weight 7.152557373046875e-07\n",
      "\u001b[36m(launch_and_fit pid=11874)\u001b[0m attention.in_proj_bias 2.384185791015625e-07\n",
      "\u001b[36m(launch_and_fit pid=11874)\u001b[0m attention.out_proj.weight 2.384185791015625e-07\n",
      "\u001b[36m(launch_and_fit pid=11874)\u001b[0m attention.out_proj.bias 4.76837158203125e-07\n",
      "\u001b[36m(launch_and_fit pid=11874)\u001b[0m fc1.weight 7.152557373046875e-07\n",
      "\u001b[36m(launch_and_fit pid=11874)\u001b[0m fc1.bias 4.76837158203125e-07\n",
      "\u001b[36m(launch_and_fit pid=11874)\u001b[0m fc2_mri.weight 4.76837158203125e-07\n",
      "\u001b[36m(launch_and_fit pid=11874)\u001b[0m fc2_mri.bias 4.76837158203125e-07\n",
      "\u001b[36m(launch_and_fit pid=11874)\u001b[0m fc2_dna.weight 7.152557373046875e-07\n",
      "\u001b[36m(launch_and_fit pid=11874)\u001b[0m fc2_dna.bias 4.76837158203125e-07\n",
      "\u001b[36m(launch_and_fit pid=11874)\u001b[0m Run with homomorphic encryption\n",
      "\u001b[36m(launch_and_fit pid=11874)\u001b[0m [Client 9, round 4] fit, config: {'learning_rate': 0.003, 'batch_size': '32', 'server_round': 4, 'local_epochs': 10}\n"
     ]
    },
    {
     "name": "stderr",
     "output_type": "stream",
     "text": [
      "  0%|\u001b[34m          \u001b[0m| 0/10 [00:00<?, ?it/s]\n"
     ]
    },
    {
     "name": "stdout",
     "output_type": "stream",
     "text": [
      "\u001b[36m(launch_and_fit pid=11874)\u001b[0m Updated model\n"
     ]
    },
    {
     "name": "stderr",
     "output_type": "stream",
     "text": [
      " 10%|\u001b[34m█         \u001b[0m| 1/10 [00:03<00:35,  3.91s/it]\n"
     ]
    },
    {
     "name": "stdout",
     "output_type": "stream",
     "text": [
      "\u001b[36m(launch_and_fit pid=11874)\u001b[0m \tTrain Epoch: 1 \tTrain_loss_mri: 1.3878 | Train_acc_mri: 31.2500 | Train_loss_dna: 1.7383 | Train_acc_dna: 32.2917 | Validation_loss_mri: 1.3148 | Validation_acc_mri: 50.0000 | Validation_loss_dna: 1.5662 | Validation_acc_dna: 37.5000\n"
     ]
    },
    {
     "name": "stderr",
     "output_type": "stream",
     "text": [
      " 20%|\u001b[34m██        \u001b[0m| 2/10 [00:06<00:26,  3.33s/it]\n"
     ]
    },
    {
     "name": "stdout",
     "output_type": "stream",
     "text": [
      "\u001b[36m(launch_and_fit pid=11874)\u001b[0m \tTrain Epoch: 2 \tTrain_loss_mri: 1.3551 | Train_acc_mri: 43.7500 | Train_loss_dna: 1.7708 | Train_acc_dna: 28.1250 | Validation_loss_mri: 1.3104 | Validation_acc_mri: 50.0000 | Validation_loss_dna: 1.5194 | Validation_acc_dna: 37.5000\n"
     ]
    },
    {
     "name": "stderr",
     "output_type": "stream",
     "text": [
      " 30%|\u001b[34m███       \u001b[0m| 3/10 [00:09<00:20,  2.94s/it]\n"
     ]
    },
    {
     "name": "stdout",
     "output_type": "stream",
     "text": [
      "\u001b[36m(launch_and_fit pid=11874)\u001b[0m \tTrain Epoch: 3 \tTrain_loss_mri: 1.3580 | Train_acc_mri: 34.3750 | Train_loss_dna: 1.7135 | Train_acc_dna: 28.1250 | Validation_loss_mri: 1.3035 | Validation_acc_mri: 50.0000 | Validation_loss_dna: 1.5365 | Validation_acc_dna: 50.0000\n"
     ]
    },
    {
     "name": "stderr",
     "output_type": "stream",
     "text": [
      "\u001b[36m(launch_and_fit pid=12183)\u001b[0m /opt/conda/envs/fed/lib/python3.10/site-packages/torch/storage.py:414: FutureWarning: You are using `torch.load` with `weights_only=False` (the current default value), which uses the default pickle module implicitly. It is possible to construct malicious pickle data which will execute arbitrary code during unpickling (See https://github.com/pytorch/pytorch/blob/main/SECURITY.md#untrusted-models for more details). In a future release, the default value for `weights_only` will be flipped to `True`. This limits the functions that could be executed during unpickling. Arbitrary objects will no longer be allowed to be loaded via this mode unless they are explicitly allowlisted by the user via `torch.serialization.add_safe_globals`. We recommend you start setting `weights_only=True` for any use case where you don't have full control of the loaded file. Please open an issue on GitHub for any issues related to this experimental feature.\n",
      "\u001b[36m(launch_and_fit pid=12183)\u001b[0m   return torch.load(io.BytesIO(b))\n"
     ]
    },
    {
     "name": "stdout",
     "output_type": "stream",
     "text": [
      "\u001b[36m(launch_and_fit pid=12183)\u001b[0m Run with homomorphic encryption\n",
      "\u001b[36m(launch_and_fit pid=12183)\u001b[0m [Client 5, round 4] fit, config: {'learning_rate': 0.003, 'batch_size': '32', 'server_round': 4, 'local_epochs': 10}\n",
      "\u001b[36m(launch_and_fit pid=12183)\u001b[0m Updated model\n"
     ]
    },
    {
     "name": "stderr",
     "output_type": "stream",
     "text": [
      "  0%|\u001b[34m          \u001b[0m| 0/10 [00:00<?, ?it/s]\n",
      " 40%|\u001b[34m████      \u001b[0m| 4/10 [00:15<00:24,  4.07s/it]\n"
     ]
    },
    {
     "name": "stdout",
     "output_type": "stream",
     "text": [
      "\u001b[36m(launch_and_fit pid=11874)\u001b[0m \tTrain Epoch: 4 \tTrain_loss_mri: 1.3530 | Train_acc_mri: 34.3750 | Train_loss_dna: 1.6932 | Train_acc_dna: 28.1250 | Validation_loss_mri: 1.2995 | Validation_acc_mri: 50.0000 | Validation_loss_dna: 1.5007 | Validation_acc_dna: 50.0000\n"
     ]
    },
    {
     "name": "stderr",
     "output_type": "stream",
     "text": [
      " 50%|\u001b[34m█████     \u001b[0m| 5/10 [00:21<00:24,  4.81s/it]\n"
     ]
    },
    {
     "name": "stdout",
     "output_type": "stream",
     "text": [
      "\u001b[36m(launch_and_fit pid=11874)\u001b[0m \tTrain Epoch: 5 \tTrain_loss_mri: 1.3426 | Train_acc_mri: 34.3750 | Train_loss_dna: 1.6511 | Train_acc_dna: 32.2917 | Validation_loss_mri: 1.2953 | Validation_acc_mri: 50.0000 | Validation_loss_dna: 1.5236 | Validation_acc_dna: 37.5000\n",
      "\u001b[36m(launch_and_fit pid=12183)\u001b[0m \tTrain Epoch: 1 \tTrain_loss_mri: 1.3729 | Train_acc_mri: 29.1667 | Train_loss_dna: 1.6860 | Train_acc_dna: 39.5833 | Validation_loss_mri: 1.4400 | Validation_acc_mri: 12.5000 | Validation_loss_dna: 1.7477 | Validation_acc_dna: 25.0000\n"
     ]
    },
    {
     "name": "stderr",
     "output_type": "stream",
     "text": [
      " 10%|\u001b[34m█         \u001b[0m| 1/10 [00:09<01:22,  9.12s/it]\n",
      " 60%|\u001b[34m██████    \u001b[0m| 6/10 [00:24<00:17,  4.44s/it]\n",
      " 20%|\u001b[34m██        \u001b[0m| 2/10 [00:12<00:46,  5.81s/it]\n",
      " 70%|\u001b[34m███████   \u001b[0m| 7/10 [00:28<00:12,  4.19s/it]\n"
     ]
    },
    {
     "name": "stdout",
     "output_type": "stream",
     "text": [
      "\u001b[36m(launch_and_fit pid=11874)\u001b[0m \tTrain Epoch: 7 \tTrain_loss_mri: 1.3822 | Train_acc_mri: 28.1250 | Train_loss_dna: 1.4894 | Train_acc_dna: 42.7083 | Validation_loss_mri: 1.3221 | Validation_acc_mri: 50.0000 | Validation_loss_dna: 1.4506 | Validation_acc_dna: 50.0000\u001b[32m [repeated 3x across cluster]\u001b[0m\n"
     ]
    },
    {
     "name": "stderr",
     "output_type": "stream",
     "text": [
      " 30%|\u001b[34m███       \u001b[0m| 3/10 [00:16<00:34,  4.86s/it]\n",
      " 80%|\u001b[34m████████  \u001b[0m| 8/10 [00:32<00:07,  3.96s/it]\n",
      " 40%|\u001b[34m████      \u001b[0m| 4/10 [00:19<00:25,  4.26s/it]\n",
      " 90%|\u001b[34m█████████ \u001b[0m| 9/10 [00:35<00:03,  3.72s/it]\n"
     ]
    },
    {
     "name": "stdout",
     "output_type": "stream",
     "text": [
      "\u001b[36m(launch_and_fit pid=11874)\u001b[0m \tTrain Epoch: 9 \tTrain_loss_mri: 1.3241 | Train_acc_mri: 30.2083 | Train_loss_dna: 1.5079 | Train_acc_dna: 37.5000 | Validation_loss_mri: 1.3723 | Validation_acc_mri: 37.5000 | Validation_loss_dna: 1.4928 | Validation_acc_dna: 50.0000\u001b[32m [repeated 4x across cluster]\u001b[0m\n"
     ]
    },
    {
     "name": "stderr",
     "output_type": "stream",
     "text": [
      " 50%|\u001b[34m█████     \u001b[0m| 5/10 [00:22<00:19,  3.88s/it]\n",
      "100%|\u001b[34m██████████\u001b[0m| 10/10 [00:38<00:00,  3.86s/it]\n"
     ]
    },
    {
     "name": "stdout",
     "output_type": "stream",
     "text": [
      "\u001b[36m(launch_and_fit pid=11874)\u001b[0m save graph in  results/FL/\n"
     ]
    },
    {
     "name": "stderr",
     "output_type": "stream",
     "text": [
      " 60%|\u001b[34m██████    \u001b[0m| 6/10 [00:25<00:14,  3.61s/it]\n"
     ]
    },
    {
     "name": "stdout",
     "output_type": "stream",
     "text": [
      "\u001b[36m(launch_and_fit pid=11874)\u001b[0m mri_net.features.0.weight 5.7220458984375e-06\n",
      "\u001b[36m(launch_and_fit pid=11874)\u001b[0m mri_net.features.0.bias 1.430511474609375e-06\n",
      "\u001b[36m(launch_and_fit pid=11874)\u001b[0m mri_net.features.3.weight 9.5367431640625e-07\n",
      "\u001b[36m(launch_and_fit pid=11874)\u001b[0m mri_net.features.3.bias 7.152557373046875e-07\n",
      "\u001b[36m(launch_and_fit pid=11874)\u001b[0m mri_net.classifier.0.weight 9.5367431640625e-07\n",
      "\u001b[36m(launch_and_fit pid=11874)\u001b[0m mri_net.classifier.0.bias 1.1920928955078125e-06\n",
      "\u001b[36m(launch_and_fit pid=11874)\u001b[0m mri_net.classifier.2.weight 7.152557373046875e-07\n",
      "\u001b[36m(launch_and_fit pid=11874)\u001b[0m mri_net.classifier.2.bias 9.5367431640625e-07\n",
      "\u001b[36m(launch_and_fit pid=11874)\u001b[0m mri_net.classifier.3.weights 9.5367431640625e-07\n",
      "\u001b[36m(launch_and_fit pid=11874)\u001b[0m dna_net.fc1.weight 7.152557373046875e-07\n",
      "\u001b[36m(launch_and_fit pid=11874)\u001b[0m dna_net.fc1.bias 4.76837158203125e-07\n",
      "\u001b[36m(launch_and_fit pid=11874)\u001b[0m dna_net.fc2.weight 1.6689300537109375e-06\n",
      "\u001b[36m(launch_and_fit pid=11874)\u001b[0m dna_net.fc2.bias 1.1920928955078125e-06\n",
      "\u001b[36m(launch_and_fit pid=11874)\u001b[0m dna_net.fc3.weight 1.6689300537109375e-06\n",
      "\u001b[36m(launch_and_fit pid=11874)\u001b[0m dna_net.fc3.bias 1.430511474609375e-06\n",
      "\u001b[36m(launch_and_fit pid=11874)\u001b[0m dna_net.fc4.weight 1.430511474609375e-06\n",
      "\u001b[36m(launch_and_fit pid=11874)\u001b[0m dna_net.fc4.bias 1.430511474609375e-06\n",
      "\u001b[36m(launch_and_fit pid=11874)\u001b[0m dna_net.qnn.weights 9.5367431640625e-07\n",
      "\u001b[36m(launch_and_fit pid=11874)\u001b[0m attention.in_proj_weight 7.152557373046875e-07\n",
      "\u001b[36m(launch_and_fit pid=11874)\u001b[0m attention.in_proj_bias 4.76837158203125e-07\n",
      "\u001b[36m(launch_and_fit pid=11874)\u001b[0m attention.out_proj.weight 4.76837158203125e-07\n",
      "\u001b[36m(launch_and_fit pid=11874)\u001b[0m attention.out_proj.bias 7.152557373046875e-07\n",
      "\u001b[36m(launch_and_fit pid=11874)\u001b[0m fc1.weight 1.1920928955078125e-06\n",
      "\u001b[36m(launch_and_fit pid=11874)\u001b[0m fc1.bias 7.152557373046875e-07\n",
      "\u001b[36m(launch_and_fit pid=11874)\u001b[0m fc2_mri.weight 7.152557373046875e-07\n",
      "\u001b[36m(launch_and_fit pid=11874)\u001b[0m fc2_mri.bias 4.76837158203125e-07\n",
      "\u001b[36m(launch_and_fit pid=11874)\u001b[0m fc2_dna.weight 7.152557373046875e-07\n",
      "\u001b[36m(launch_and_fit pid=11874)\u001b[0m fc2_dna.bias 4.76837158203125e-07\n",
      "\u001b[36m(launch_and_fit pid=11874)\u001b[0m Run with homomorphic encryption\n",
      "\u001b[36m(launch_and_fit pid=12183)\u001b[0m \tTrain Epoch: 6 \tTrain_loss_mri: 1.3343 | Train_acc_mri: 37.5000 | Train_loss_dna: 1.6196 | Train_acc_dna: 40.6250 | Validation_loss_mri: 1.6277 | Validation_acc_mri: 12.5000 | Validation_loss_dna: 1.7938 | Validation_acc_dna: 25.0000\u001b[32m [repeated 3x across cluster]\u001b[0m\n",
      "\u001b[36m(launch_and_fit pid=11874)\u001b[0m [Client 2, round 4] fit, config: {'learning_rate': 0.003, 'batch_size': '32', 'server_round': 4, 'local_epochs': 10}\n"
     ]
    },
    {
     "name": "stderr",
     "output_type": "stream",
     "text": [
      " 70%|\u001b[34m███████   \u001b[0m| 7/10 [00:28<00:10,  3.38s/it]\n"
     ]
    },
    {
     "name": "stdout",
     "output_type": "stream",
     "text": [
      "\u001b[33m(raylet)\u001b[0m A worker died or was killed while executing a task by an unexpected system error. To troubleshoot the problem, check the logs for the dead worker. RayTask ID: 2d2d27d0fb931f63b579c664f1b82c16a19edf0101000000 Worker ID: 5ce83049868f819efe7623247b2b532c52d4e7bbe42dcae4e401f5bb Node ID: 56a5e3c87d3ec0ccb4c476f81cf9b86de127e2bba9c5eacdfac15393 Worker IP address: 10.0.1.229 Worker port: 33325 Worker PID: 11874 Worker exit type: SYSTEM_ERROR Worker exit detail: The leased worker has unrecoverable failure. Worker is requested to be destroyed when it is returned. Worker exits with an exit code 1. The process receives a SIGTERM.\n",
      "\u001b[36m(launch_and_fit pid=12183)\u001b[0m \tTrain Epoch: 8 \tTrain_loss_mri: 1.2990 | Train_acc_mri: 40.6250 | Train_loss_dna: 1.5328 | Train_acc_dna: 46.8750 | Validation_loss_mri: 1.6518 | Validation_acc_mri: 12.5000 | Validation_loss_dna: 1.8008 | Validation_acc_dna: 25.0000\u001b[32m [repeated 2x across cluster]\u001b[0m\n"
     ]
    },
    {
     "name": "stderr",
     "output_type": "stream",
     "text": [
      " 80%|\u001b[34m████████  \u001b[0m| 8/10 [00:37<00:10,  5.02s/it]\n",
      " 90%|\u001b[34m█████████ \u001b[0m| 9/10 [00:42<00:04,  4.93s/it]\n"
     ]
    },
    {
     "name": "stdout",
     "output_type": "stream",
     "text": [
      "\u001b[36m(launch_and_fit pid=12183)\u001b[0m \tTrain Epoch: 10 \tTrain_loss_mri: 1.3738 | Train_acc_mri: 31.2500 | Train_loss_dna: 1.4392 | Train_acc_dna: 44.7917 | Validation_loss_mri: 1.6173 | Validation_acc_mri: 12.5000 | Validation_loss_dna: 1.7524 | Validation_acc_dna: 25.0000\u001b[32m [repeated 2x across cluster]\u001b[0m\n",
      "\u001b[36m(launch_and_fit pid=12183)\u001b[0m save graph in  results/FL/\n"
     ]
    },
    {
     "name": "stderr",
     "output_type": "stream",
     "text": [
      "100%|\u001b[34m██████████\u001b[0m| 10/10 [00:44<00:00,  4.43s/it]\n"
     ]
    },
    {
     "name": "stdout",
     "output_type": "stream",
     "text": [
      "\u001b[36m(launch_and_fit pid=12183)\u001b[0m mri_net.features.0.weight 4.0531158447265625e-06\n",
      "\u001b[36m(launch_and_fit pid=12183)\u001b[0m mri_net.features.0.bias 1.430511474609375e-06\n",
      "\u001b[36m(launch_and_fit pid=12183)\u001b[0m mri_net.features.3.weight 4.76837158203125e-07\n",
      "\u001b[36m(launch_and_fit pid=12183)\u001b[0m mri_net.features.3.bias 4.76837158203125e-07\n",
      "\u001b[36m(launch_and_fit pid=12183)\u001b[0m mri_net.classifier.0.weight 4.76837158203125e-07\n",
      "\u001b[36m(launch_and_fit pid=12183)\u001b[0m mri_net.classifier.0.bias 7.152557373046875e-07\n",
      "\u001b[36m(launch_and_fit pid=12183)\u001b[0m mri_net.classifier.2.weight 4.76837158203125e-07\n",
      "\u001b[36m(launch_and_fit pid=12183)\u001b[0m mri_net.classifier.2.bias 4.76837158203125e-07\n",
      "\u001b[36m(launch_and_fit pid=12183)\u001b[0m mri_net.classifier.3.weights 2.6226043701171875e-06\n",
      "\u001b[36m(launch_and_fit pid=12183)\u001b[0m dna_net.fc1.weight 1.430511474609375e-06\n",
      "\u001b[36m(launch_and_fit pid=12183)\u001b[0m dna_net.fc1.bias 1.1920928955078125e-06\n",
      "\u001b[36m(launch_and_fit pid=12183)\u001b[0m dna_net.fc2.weight 7.152557373046875e-07\n",
      "\u001b[36m(launch_and_fit pid=12183)\u001b[0m dna_net.fc2.bias 9.5367431640625e-07\n",
      "\u001b[36m(launch_and_fit pid=12183)\u001b[0m dna_net.fc3.weight 9.5367431640625e-07\n",
      "\u001b[36m(launch_and_fit pid=12183)\u001b[0m dna_net.fc3.bias 4.76837158203125e-07\n",
      "\u001b[36m(launch_and_fit pid=12183)\u001b[0m dna_net.fc4.weight 4.76837158203125e-07\n",
      "\u001b[36m(launch_and_fit pid=12183)\u001b[0m dna_net.fc4.bias 7.152557373046875e-07\n",
      "\u001b[36m(launch_and_fit pid=12183)\u001b[0m dna_net.qnn.weights 7.152557373046875e-07\n",
      "\u001b[36m(launch_and_fit pid=12183)\u001b[0m attention.in_proj_weight 4.76837158203125e-07\n",
      "\u001b[36m(launch_and_fit pid=12183)\u001b[0m attention.in_proj_bias 4.76837158203125e-07\n",
      "\u001b[36m(launch_and_fit pid=12183)\u001b[0m attention.out_proj.weight 4.76837158203125e-07\n",
      "\u001b[36m(launch_and_fit pid=12183)\u001b[0m attention.out_proj.bias 4.76837158203125e-07\n",
      "\u001b[36m(launch_and_fit pid=12183)\u001b[0m fc1.weight 4.76837158203125e-07\n",
      "\u001b[36m(launch_and_fit pid=12183)\u001b[0m fc1.bias 4.76837158203125e-07\n",
      "\u001b[36m(launch_and_fit pid=12183)\u001b[0m fc2_mri.weight 9.5367431640625e-07\n",
      "\u001b[36m(launch_and_fit pid=12183)\u001b[0m fc2_mri.bias 4.76837158203125e-07\n",
      "\u001b[36m(launch_and_fit pid=12183)\u001b[0m fc2_dna.weight 4.76837158203125e-07\n",
      "\u001b[36m(launch_and_fit pid=12183)\u001b[0m fc2_dna.bias 7.152557373046875e-07\n",
      "\u001b[36m(launch_and_fit pid=12183)\u001b[0m Run with homomorphic encryption\n",
      "\u001b[36m(launch_and_fit pid=12183)\u001b[0m [Client 7, round 4] fit, config: {'learning_rate': 0.003, 'batch_size': '32', 'server_round': 4, 'local_epochs': 10}\n",
      "\u001b[36m(launch_and_fit pid=12183)\u001b[0m Updated model\n"
     ]
    },
    {
     "name": "stderr",
     "output_type": "stream",
     "text": [
      "  0%|\u001b[34m          \u001b[0m| 0/10 [00:00<?, ?it/s]\n"
     ]
    },
    {
     "name": "stdout",
     "output_type": "stream",
     "text": [
      "\u001b[36m(launch_and_fit pid=12183)\u001b[0m \tTrain Epoch: 1 \tTrain_loss_mri: 1.3586 | Train_acc_mri: 38.5417 | Train_loss_dna: 1.6873 | Train_acc_dna: 38.5417 | Validation_loss_mri: 1.2750 | Validation_acc_mri: 37.5000 | Validation_loss_dna: 1.7172 | Validation_acc_dna: 25.0000\n"
     ]
    },
    {
     "name": "stderr",
     "output_type": "stream",
     "text": [
      " 10%|\u001b[34m█         \u001b[0m| 1/10 [00:04<00:44,  4.90s/it]\n"
     ]
    },
    {
     "name": "stdout",
     "output_type": "stream",
     "text": [
      "\u001b[36m(launch_and_fit pid=12183)\u001b[0m \tTrain Epoch: 2 \tTrain_loss_mri: 1.3564 | Train_acc_mri: 32.2917 | Train_loss_dna: 1.8141 | Train_acc_dna: 21.8750 | Validation_loss_mri: 1.2770 | Validation_acc_mri: 37.5000 | Validation_loss_dna: 1.6867 | Validation_acc_dna: 37.5000\n"
     ]
    },
    {
     "name": "stderr",
     "output_type": "stream",
     "text": [
      " 20%|\u001b[34m██        \u001b[0m| 2/10 [00:07<00:27,  3.40s/it]\n"
     ]
    },
    {
     "name": "stdout",
     "output_type": "stream",
     "text": [
      "\u001b[36m(launch_and_fit pid=12183)\u001b[0m \tTrain Epoch: 3 \tTrain_loss_mri: 1.3176 | Train_acc_mri: 35.4167 | Train_loss_dna: 1.7193 | Train_acc_dna: 31.2500 | Validation_loss_mri: 1.3273 | Validation_acc_mri: 12.5000 | Validation_loss_dna: 1.7442 | Validation_acc_dna: 37.5000\n"
     ]
    },
    {
     "name": "stderr",
     "output_type": "stream",
     "text": [
      " 30%|\u001b[34m███       \u001b[0m| 3/10 [00:09<00:20,  2.94s/it]\n"
     ]
    },
    {
     "name": "stdout",
     "output_type": "stream",
     "text": [
      "\u001b[36m(launch_and_fit pid=12183)\u001b[0m \tTrain Epoch: 4 \tTrain_loss_mri: 1.3195 | Train_acc_mri: 31.2500 | Train_loss_dna: 1.7782 | Train_acc_dna: 33.3333 | Validation_loss_mri: 1.3335 | Validation_acc_mri: 0.0000 | Validation_loss_dna: 1.6208 | Validation_acc_dna: 37.5000\n"
     ]
    },
    {
     "name": "stderr",
     "output_type": "stream",
     "text": [
      " 40%|\u001b[34m████      \u001b[0m| 4/10 [00:12<00:16,  2.75s/it]\n"
     ]
    },
    {
     "name": "stdout",
     "output_type": "stream",
     "text": [
      "\u001b[36m(launch_and_fit pid=12183)\u001b[0m \tTrain Epoch: 5 \tTrain_loss_mri: 1.2942 | Train_acc_mri: 36.4583 | Train_loss_dna: 1.7176 | Train_acc_dna: 30.2083 | Validation_loss_mri: 1.2912 | Validation_acc_mri: 12.5000 | Validation_loss_dna: 1.6910 | Validation_acc_dna: 37.5000\n"
     ]
    },
    {
     "name": "stderr",
     "output_type": "stream",
     "text": [
      " 50%|\u001b[34m█████     \u001b[0m| 5/10 [00:14<00:12,  2.57s/it]\n"
     ]
    },
    {
     "name": "stdout",
     "output_type": "stream",
     "text": [
      "\u001b[36m(launch_and_fit pid=12183)\u001b[0m \tTrain Epoch: 6 \tTrain_loss_mri: 1.3323 | Train_acc_mri: 34.3750 | Train_loss_dna: 1.6720 | Train_acc_dna: 35.4167 | Validation_loss_mri: 1.3097 | Validation_acc_mri: 0.0000 | Validation_loss_dna: 1.6531 | Validation_acc_dna: 37.5000\n"
     ]
    },
    {
     "name": "stderr",
     "output_type": "stream",
     "text": [
      " 60%|\u001b[34m██████    \u001b[0m| 6/10 [00:16<00:09,  2.46s/it]\n"
     ]
    },
    {
     "name": "stdout",
     "output_type": "stream",
     "text": [
      "\u001b[36m(launch_and_fit pid=12183)\u001b[0m \tTrain Epoch: 7 \tTrain_loss_mri: 1.3278 | Train_acc_mri: 31.2500 | Train_loss_dna: 1.6138 | Train_acc_dna: 37.5000 | Validation_loss_mri: 1.3336 | Validation_acc_mri: 12.5000 | Validation_loss_dna: 1.5972 | Validation_acc_dna: 37.5000\n"
     ]
    },
    {
     "name": "stderr",
     "output_type": "stream",
     "text": [
      " 70%|\u001b[34m███████   \u001b[0m| 7/10 [00:18<00:07,  2.41s/it]\n"
     ]
    },
    {
     "name": "stdout",
     "output_type": "stream",
     "text": [
      "\u001b[36m(launch_and_fit pid=12183)\u001b[0m \tTrain Epoch: 8 \tTrain_loss_mri: 1.2609 | Train_acc_mri: 47.9167 | Train_loss_dna: 1.5800 | Train_acc_dna: 34.3750 | Validation_loss_mri: 1.2697 | Validation_acc_mri: 37.5000 | Validation_loss_dna: 1.5936 | Validation_acc_dna: 37.5000\n"
     ]
    },
    {
     "name": "stderr",
     "output_type": "stream",
     "text": [
      " 80%|\u001b[34m████████  \u001b[0m| 8/10 [00:21<00:04,  2.39s/it]\n"
     ]
    },
    {
     "name": "stdout",
     "output_type": "stream",
     "text": [
      "\u001b[36m(launch_and_fit pid=12183)\u001b[0m \tTrain Epoch: 9 \tTrain_loss_mri: 1.2286 | Train_acc_mri: 52.0833 | Train_loss_dna: 1.5357 | Train_acc_dna: 36.4583 | Validation_loss_mri: 1.2494 | Validation_acc_mri: 12.5000 | Validation_loss_dna: 1.5833 | Validation_acc_dna: 37.5000\n"
     ]
    },
    {
     "name": "stderr",
     "output_type": "stream",
     "text": [
      " 90%|\u001b[34m█████████ \u001b[0m| 9/10 [00:23<00:02,  2.40s/it]\n"
     ]
    },
    {
     "name": "stdout",
     "output_type": "stream",
     "text": [
      "\u001b[36m(launch_and_fit pid=12183)\u001b[0m \tTrain Epoch: 10 \tTrain_loss_mri: 1.2460 | Train_acc_mri: 39.5833 | Train_loss_dna: 1.5040 | Train_acc_dna: 41.6667 | Validation_loss_mri: 1.2558 | Validation_acc_mri: 50.0000 | Validation_loss_dna: 1.6427 | Validation_acc_dna: 25.0000\n",
      "\u001b[36m(launch_and_fit pid=12183)\u001b[0m save graph in  results/FL/\n"
     ]
    },
    {
     "name": "stderr",
     "output_type": "stream",
     "text": [
      "100%|\u001b[34m██████████\u001b[0m| 10/10 [00:25<00:00,  2.60s/it]\n"
     ]
    },
    {
     "name": "stdout",
     "output_type": "stream",
     "text": [
      "\u001b[36m(launch_and_fit pid=12183)\u001b[0m mri_net.features.0.weight 5.245208740234375e-06\n",
      "\u001b[36m(launch_and_fit pid=12183)\u001b[0m mri_net.features.0.bias 1.6689300537109375e-06\n",
      "\u001b[36m(launch_and_fit pid=12183)\u001b[0m mri_net.features.3.weight 9.5367431640625e-07\n",
      "\u001b[36m(launch_and_fit pid=12183)\u001b[0m mri_net.features.3.bias 9.5367431640625e-07\n",
      "\u001b[36m(launch_and_fit pid=12183)\u001b[0m mri_net.classifier.0.weight 1.1920928955078125e-06\n",
      "\u001b[36m(launch_and_fit pid=12183)\u001b[0m mri_net.classifier.0.bias 9.5367431640625e-07\n",
      "\u001b[36m(launch_and_fit pid=12183)\u001b[0m mri_net.classifier.2.weight 9.5367431640625e-07\n",
      "\u001b[36m(launch_and_fit pid=12183)\u001b[0m mri_net.classifier.2.bias 4.76837158203125e-07\n",
      "\u001b[36m(launch_and_fit pid=12183)\u001b[0m mri_net.classifier.3.weights 7.152557373046875e-07\n",
      "\u001b[36m(launch_and_fit pid=12183)\u001b[0m dna_net.fc1.weight 7.152557373046875e-07\n",
      "\u001b[36m(launch_and_fit pid=12183)\u001b[0m dna_net.fc1.bias 7.152557373046875e-07\n",
      "\u001b[36m(launch_and_fit pid=12183)\u001b[0m dna_net.fc2.weight 7.152557373046875e-07\n",
      "\u001b[36m(launch_and_fit pid=12183)\u001b[0m dna_net.fc2.bias 9.5367431640625e-07\n",
      "\u001b[36m(launch_and_fit pid=12183)\u001b[0m dna_net.fc3.weight 7.152557373046875e-07\n",
      "\u001b[36m(launch_and_fit pid=12183)\u001b[0m dna_net.fc3.bias 9.5367431640625e-07\n",
      "\u001b[36m(launch_and_fit pid=12183)\u001b[0m dna_net.fc4.weight 1.1920928955078125e-06\n",
      "\u001b[36m(launch_and_fit pid=12183)\u001b[0m dna_net.fc4.bias 9.5367431640625e-07\n",
      "\u001b[36m(launch_and_fit pid=12183)\u001b[0m dna_net.qnn.weights 1.1920928955078125e-06\n",
      "\u001b[36m(launch_and_fit pid=12183)\u001b[0m attention.in_proj_weight 7.152557373046875e-07\n",
      "\u001b[36m(launch_and_fit pid=12183)\u001b[0m attention.in_proj_bias 9.5367431640625e-07\n",
      "\u001b[36m(launch_and_fit pid=12183)\u001b[0m attention.out_proj.weight 7.152557373046875e-07\n",
      "\u001b[36m(launch_and_fit pid=12183)\u001b[0m attention.out_proj.bias 1.1920928955078125e-06\n",
      "\u001b[36m(launch_and_fit pid=12183)\u001b[0m fc1.weight 1.6689300537109375e-06\n",
      "\u001b[36m(launch_and_fit pid=12183)\u001b[0m fc1.bias 9.5367431640625e-07\n",
      "\u001b[36m(launch_and_fit pid=12183)\u001b[0m fc2_mri.weight 9.5367431640625e-07\n",
      "\u001b[36m(launch_and_fit pid=12183)\u001b[0m fc2_mri.bias 7.152557373046875e-07\n",
      "\u001b[36m(launch_and_fit pid=12183)\u001b[0m fc2_dna.weight 9.5367431640625e-07\n",
      "\u001b[36m(launch_and_fit pid=12183)\u001b[0m fc2_dna.bias 9.5367431640625e-07\n",
      "\u001b[36m(launch_and_fit pid=12183)\u001b[0m Run with homomorphic encryption\n",
      "\u001b[36m(launch_and_fit pid=12183)\u001b[0m [Client 4, round 4] fit, config: {'learning_rate': 0.003, 'batch_size': '32', 'server_round': 4, 'local_epochs': 10}\n",
      "\u001b[36m(launch_and_fit pid=12183)\u001b[0m Updated model\n"
     ]
    },
    {
     "name": "stderr",
     "output_type": "stream",
     "text": [
      "  0%|\u001b[34m          \u001b[0m| 0/10 [00:00<?, ?it/s]\n"
     ]
    },
    {
     "name": "stdout",
     "output_type": "stream",
     "text": [
      "\u001b[36m(launch_and_fit pid=12183)\u001b[0m \tTrain Epoch: 1 \tTrain_loss_mri: 1.3900 | Train_acc_mri: 25.0000 | Train_loss_dna: 1.8640 | Train_acc_dna: 19.7917 | Validation_loss_mri: 1.4074 | Validation_acc_mri: 12.5000 | Validation_loss_dna: 1.7885 | Validation_acc_dna: 50.0000\n"
     ]
    },
    {
     "name": "stderr",
     "output_type": "stream",
     "text": [
      " 10%|\u001b[34m█         \u001b[0m| 1/10 [00:04<00:36,  4.01s/it]\n"
     ]
    },
    {
     "name": "stdout",
     "output_type": "stream",
     "text": [
      "\u001b[36m(launch_and_fit pid=12183)\u001b[0m \tTrain Epoch: 2 \tTrain_loss_mri: 1.3891 | Train_acc_mri: 18.7500 | Train_loss_dna: 1.8252 | Train_acc_dna: 26.0417 | Validation_loss_mri: 1.4101 | Validation_acc_mri: 12.5000 | Validation_loss_dna: 1.6971 | Validation_acc_dna: 50.0000\n"
     ]
    },
    {
     "name": "stderr",
     "output_type": "stream",
     "text": [
      " 20%|\u001b[34m██        \u001b[0m| 2/10 [00:06<00:26,  3.32s/it]\n",
      "\u001b[36m(launch_and_fit pid=12569)\u001b[0m /opt/conda/envs/fed/lib/python3.10/site-packages/torch/storage.py:414: FutureWarning: You are using `torch.load` with `weights_only=False` (the current default value), which uses the default pickle module implicitly. It is possible to construct malicious pickle data which will execute arbitrary code during unpickling (See https://github.com/pytorch/pytorch/blob/main/SECURITY.md#untrusted-models for more details). In a future release, the default value for `weights_only` will be flipped to `True`. This limits the functions that could be executed during unpickling. Arbitrary objects will no longer be allowed to be loaded via this mode unless they are explicitly allowlisted by the user via `torch.serialization.add_safe_globals`. We recommend you start setting `weights_only=True` for any use case where you don't have full control of the loaded file. Please open an issue on GitHub for any issues related to this experimental feature.\n",
      "\u001b[36m(launch_and_fit pid=12569)\u001b[0m   return torch.load(io.BytesIO(b))\n"
     ]
    },
    {
     "name": "stdout",
     "output_type": "stream",
     "text": [
      "\u001b[36m(launch_and_fit pid=12569)\u001b[0m Run with homomorphic encryption\n",
      "\u001b[36m(launch_and_fit pid=12569)\u001b[0m [Client 8, round 4] fit, config: {'learning_rate': 0.003, 'batch_size': '32', 'server_round': 4, 'local_epochs': 10}\n",
      "\u001b[33m(raylet)\u001b[0m A worker died or was killed while executing a task by an unexpected system error. To troubleshoot the problem, check the logs for the dead worker. RayTask ID: b1be1a033346fac78c38c04bcd027447b18cdff001000000 Worker ID: 1f95d09638d028d6c22794f3b9abdc0887bb5dde93621f9219d2ceb7 Node ID: 56a5e3c87d3ec0ccb4c476f81cf9b86de127e2bba9c5eacdfac15393 Worker IP address: 10.0.1.229 Worker port: 40915 Worker PID: 12569 Worker exit type: SYSTEM_ERROR Worker exit detail: The leased worker has unrecoverable failure. Worker is requested to be destroyed when it is returned. Worker exits with an exit code 1. The process receives a SIGTERM.\n",
      "\u001b[36m(launch_and_fit pid=12183)\u001b[0m \tTrain Epoch: 3 \tTrain_loss_mri: 1.3768 | Train_acc_mri: 37.5000 | Train_loss_dna: 1.7378 | Train_acc_dna: 29.1667 | Validation_loss_mri: 1.3982 | Validation_acc_mri: 25.0000 | Validation_loss_dna: 1.6588 | Validation_acc_dna: 50.0000\n"
     ]
    },
    {
     "name": "stderr",
     "output_type": "stream",
     "text": [
      " 30%|\u001b[34m███       \u001b[0m| 3/10 [00:19<00:54,  7.81s/it]\n"
     ]
    },
    {
     "name": "stdout",
     "output_type": "stream",
     "text": [
      "\u001b[36m(launch_and_fit pid=12183)\u001b[0m \tTrain Epoch: 4 \tTrain_loss_mri: 1.3721 | Train_acc_mri: 34.3750 | Train_loss_dna: 1.7116 | Train_acc_dna: 35.4167 | Validation_loss_mri: 1.3801 | Validation_acc_mri: 37.5000 | Validation_loss_dna: 1.6525 | Validation_acc_dna: 25.0000\n"
     ]
    },
    {
     "name": "stderr",
     "output_type": "stream",
     "text": [
      " 40%|\u001b[34m████      \u001b[0m| 4/10 [00:26<00:43,  7.23s/it]\n"
     ]
    },
    {
     "name": "stdout",
     "output_type": "stream",
     "text": [
      "\u001b[36m(launch_and_fit pid=12183)\u001b[0m \tTrain Epoch: 5 \tTrain_loss_mri: 1.3574 | Train_acc_mri: 41.6667 | Train_loss_dna: 1.6960 | Train_acc_dna: 30.2083 | Validation_loss_mri: 1.3872 | Validation_acc_mri: 25.0000 | Validation_loss_dna: 1.5449 | Validation_acc_dna: 50.0000\n"
     ]
    },
    {
     "name": "stderr",
     "output_type": "stream",
     "text": [
      " 50%|\u001b[34m█████     \u001b[0m| 5/10 [00:28<00:27,  5.58s/it]\n"
     ]
    },
    {
     "name": "stdout",
     "output_type": "stream",
     "text": [
      "\u001b[36m(launch_and_fit pid=12183)\u001b[0m \tTrain Epoch: 6 \tTrain_loss_mri: 1.3970 | Train_acc_mri: 22.9167 | Train_loss_dna: 1.7287 | Train_acc_dna: 32.2917 | Validation_loss_mri: 1.3813 | Validation_acc_mri: 25.0000 | Validation_loss_dna: 1.5477 | Validation_acc_dna: 50.0000\n"
     ]
    },
    {
     "name": "stderr",
     "output_type": "stream",
     "text": [
      " 60%|\u001b[34m██████    \u001b[0m| 6/10 [00:31<00:18,  4.57s/it]\n"
     ]
    },
    {
     "name": "stdout",
     "output_type": "stream",
     "text": [
      "\u001b[36m(launch_and_fit pid=12183)\u001b[0m \tTrain Epoch: 7 \tTrain_loss_mri: 1.3654 | Train_acc_mri: 28.1250 | Train_loss_dna: 1.8358 | Train_acc_dna: 25.0000 | Validation_loss_mri: 1.3334 | Validation_acc_mri: 37.5000 | Validation_loss_dna: 1.6523 | Validation_acc_dna: 12.5000\n"
     ]
    },
    {
     "name": "stderr",
     "output_type": "stream",
     "text": [
      " 70%|\u001b[34m███████   \u001b[0m| 7/10 [00:34<00:11,  3.90s/it]\n"
     ]
    },
    {
     "name": "stdout",
     "output_type": "stream",
     "text": [
      "\u001b[36m(launch_and_fit pid=12183)\u001b[0m \tTrain Epoch: 8 \tTrain_loss_mri: 1.3494 | Train_acc_mri: 37.5000 | Train_loss_dna: 1.6734 | Train_acc_dna: 37.5000 | Validation_loss_mri: 1.3350 | Validation_acc_mri: 50.0000 | Validation_loss_dna: 1.6371 | Validation_acc_dna: 12.5000\n"
     ]
    },
    {
     "name": "stderr",
     "output_type": "stream",
     "text": [
      " 80%|\u001b[34m████████  \u001b[0m| 8/10 [00:36<00:07,  3.53s/it]\n"
     ]
    },
    {
     "name": "stdout",
     "output_type": "stream",
     "text": [
      "\u001b[36m(launch_and_fit pid=12183)\u001b[0m \tTrain Epoch: 9 \tTrain_loss_mri: 1.3584 | Train_acc_mri: 38.5417 | Train_loss_dna: 1.7358 | Train_acc_dna: 27.0833 | Validation_loss_mri: 1.3607 | Validation_acc_mri: 37.5000 | Validation_loss_dna: 1.5679 | Validation_acc_dna: 12.5000\n"
     ]
    },
    {
     "name": "stderr",
     "output_type": "stream",
     "text": [
      " 90%|\u001b[34m█████████ \u001b[0m| 9/10 [00:39<00:03,  3.29s/it]\n"
     ]
    },
    {
     "name": "stdout",
     "output_type": "stream",
     "text": [
      "\u001b[36m(launch_and_fit pid=12183)\u001b[0m \tTrain Epoch: 10 \tTrain_loss_mri: 1.3228 | Train_acc_mri: 46.8750 | Train_loss_dna: 1.6860 | Train_acc_dna: 26.0417 | Validation_loss_mri: 1.3534 | Validation_acc_mri: 37.5000 | Validation_loss_dna: 1.5997 | Validation_acc_dna: 12.5000\n",
      "\u001b[36m(launch_and_fit pid=12183)\u001b[0m save graph in  results/FL/\n"
     ]
    },
    {
     "name": "stderr",
     "output_type": "stream",
     "text": [
      "100%|\u001b[34m██████████\u001b[0m| 10/10 [00:42<00:00,  4.21s/it]\n"
     ]
    },
    {
     "name": "stdout",
     "output_type": "stream",
     "text": [
      "\u001b[36m(launch_and_fit pid=12183)\u001b[0m mri_net.features.0.weight 3.5762786865234375e-06\n",
      "\u001b[36m(launch_and_fit pid=12183)\u001b[0m mri_net.features.0.bias 1.430511474609375e-06\n",
      "\u001b[36m(launch_and_fit pid=12183)\u001b[0m mri_net.features.3.weight 1.1920928955078125e-06\n",
      "\u001b[36m(launch_and_fit pid=12183)\u001b[0m mri_net.features.3.bias 9.5367431640625e-07\n",
      "\u001b[36m(launch_and_fit pid=12183)\u001b[0m mri_net.classifier.0.weight 9.5367431640625e-07\n",
      "\u001b[36m(launch_and_fit pid=12183)\u001b[0m mri_net.classifier.0.bias 9.5367431640625e-07\n",
      "\u001b[36m(launch_and_fit pid=12183)\u001b[0m mri_net.classifier.2.weight 4.76837158203125e-07\n",
      "\u001b[36m(launch_and_fit pid=12183)\u001b[0m mri_net.classifier.2.bias 7.152557373046875e-07\n",
      "\u001b[36m(launch_and_fit pid=12183)\u001b[0m mri_net.classifier.3.weights 7.152557373046875e-07\n",
      "\u001b[36m(launch_and_fit pid=12183)\u001b[0m dna_net.fc1.weight 1.9073486328125e-06\n",
      "\u001b[36m(launch_and_fit pid=12183)\u001b[0m dna_net.fc1.bias 7.152557373046875e-07\n",
      "\u001b[36m(launch_and_fit pid=12183)\u001b[0m dna_net.fc2.weight 7.152557373046875e-07\n",
      "\u001b[36m(launch_and_fit pid=12183)\u001b[0m dna_net.fc2.bias 9.5367431640625e-07\n",
      "\u001b[36m(launch_and_fit pid=12183)\u001b[0m dna_net.fc3.weight 9.5367431640625e-07\n",
      "\u001b[36m(launch_and_fit pid=12183)\u001b[0m dna_net.fc3.bias 7.152557373046875e-07\n",
      "\u001b[36m(launch_and_fit pid=12183)\u001b[0m dna_net.fc4.weight 7.152557373046875e-07\n",
      "\u001b[36m(launch_and_fit pid=12183)\u001b[0m dna_net.fc4.bias 7.152557373046875e-07\n",
      "\u001b[36m(launch_and_fit pid=12183)\u001b[0m dna_net.qnn.weights 9.5367431640625e-07\n",
      "\u001b[36m(launch_and_fit pid=12183)\u001b[0m attention.in_proj_weight 9.5367431640625e-07\n",
      "\u001b[36m(launch_and_fit pid=12183)\u001b[0m attention.in_proj_bias 7.152557373046875e-07\n",
      "\u001b[36m(launch_and_fit pid=12183)\u001b[0m attention.out_proj.weight 7.152557373046875e-07\n",
      "\u001b[36m(launch_and_fit pid=12183)\u001b[0m attention.out_proj.bias 9.5367431640625e-07\n",
      "\u001b[36m(launch_and_fit pid=12183)\u001b[0m fc1.weight 9.5367431640625e-07\n",
      "\u001b[36m(launch_and_fit pid=12183)\u001b[0m fc1.bias 7.152557373046875e-07\n",
      "\u001b[36m(launch_and_fit pid=12183)\u001b[0m fc2_mri.weight 9.5367431640625e-07\n",
      "\u001b[36m(launch_and_fit pid=12183)\u001b[0m fc2_mri.bias 7.152557373046875e-07\n",
      "\u001b[36m(launch_and_fit pid=12183)\u001b[0m fc2_dna.weight 9.5367431640625e-07\n",
      "\u001b[36m(launch_and_fit pid=12183)\u001b[0m fc2_dna.bias 7.152557373046875e-07\n",
      "\u001b[36m(launch_and_fit pid=12183)\u001b[0m Run with homomorphic encryption\n",
      "\u001b[36m(launch_and_fit pid=12183)\u001b[0m [Client 2, round 4] fit, config: {'learning_rate': 0.003, 'batch_size': '32', 'server_round': 4, 'local_epochs': 10}\n",
      "\u001b[36m(launch_and_fit pid=12183)\u001b[0m Updated model\n"
     ]
    },
    {
     "name": "stderr",
     "output_type": "stream",
     "text": [
      "  0%|\u001b[34m          \u001b[0m| 0/10 [00:00<?, ?it/s]\n"
     ]
    },
    {
     "name": "stdout",
     "output_type": "stream",
     "text": [
      "\u001b[36m(launch_and_fit pid=12183)\u001b[0m \tTrain Epoch: 1 \tTrain_loss_mri: 1.3827 | Train_acc_mri: 29.1667 | Train_loss_dna: 1.8266 | Train_acc_dna: 32.2917 | Validation_loss_mri: 1.4109 | Validation_acc_mri: 0.0000 | Validation_loss_dna: 1.7614 | Validation_acc_dna: 37.5000\n"
     ]
    },
    {
     "name": "stderr",
     "output_type": "stream",
     "text": [
      " 10%|\u001b[34m█         \u001b[0m| 1/10 [00:04<00:40,  4.47s/it]\n"
     ]
    },
    {
     "name": "stdout",
     "output_type": "stream",
     "text": [
      "\u001b[36m(launch_and_fit pid=12183)\u001b[0m \tTrain Epoch: 2 \tTrain_loss_mri: 1.3875 | Train_acc_mri: 26.0417 | Train_loss_dna: 1.8060 | Train_acc_dna: 26.0417 | Validation_loss_mri: 1.3929 | Validation_acc_mri: 0.0000 | Validation_loss_dna: 1.7068 | Validation_acc_dna: 37.5000\n"
     ]
    },
    {
     "name": "stderr",
     "output_type": "stream",
     "text": [
      " 20%|\u001b[34m██        \u001b[0m| 2/10 [00:07<00:27,  3.47s/it]\n"
     ]
    },
    {
     "name": "stdout",
     "output_type": "stream",
     "text": [
      "\u001b[36m(launch_and_fit pid=12183)\u001b[0m \tTrain Epoch: 3 \tTrain_loss_mri: 1.3715 | Train_acc_mri: 29.1667 | Train_loss_dna: 1.7576 | Train_acc_dna: 32.2917 | Validation_loss_mri: 1.3758 | Validation_acc_mri: 0.0000 | Validation_loss_dna: 1.7079 | Validation_acc_dna: 37.5000\n"
     ]
    },
    {
     "name": "stderr",
     "output_type": "stream",
     "text": [
      " 30%|\u001b[34m███       \u001b[0m| 3/10 [00:09<00:21,  3.02s/it]\n"
     ]
    },
    {
     "name": "stdout",
     "output_type": "stream",
     "text": [
      "\u001b[36m(launch_and_fit pid=12183)\u001b[0m \tTrain Epoch: 4 \tTrain_loss_mri: 1.3642 | Train_acc_mri: 32.2917 | Train_loss_dna: 1.7588 | Train_acc_dna: 29.1667 | Validation_loss_mri: 1.3671 | Validation_acc_mri: 37.5000 | Validation_loss_dna: 1.6284 | Validation_acc_dna: 37.5000\n"
     ]
    },
    {
     "name": "stderr",
     "output_type": "stream",
     "text": [
      " 40%|\u001b[34m████      \u001b[0m| 4/10 [00:12<00:17,  2.85s/it]\n"
     ]
    },
    {
     "name": "stdout",
     "output_type": "stream",
     "text": [
      "\u001b[36m(launch_and_fit pid=12183)\u001b[0m \tTrain Epoch: 5 \tTrain_loss_mri: 1.3493 | Train_acc_mri: 40.6250 | Train_loss_dna: 1.6788 | Train_acc_dna: 33.3333 | Validation_loss_mri: 1.3536 | Validation_acc_mri: 37.5000 | Validation_loss_dna: 1.7168 | Validation_acc_dna: 25.0000\n"
     ]
    },
    {
     "name": "stderr",
     "output_type": "stream",
     "text": [
      " 50%|\u001b[34m█████     \u001b[0m| 5/10 [00:15<00:13,  2.80s/it]\n"
     ]
    },
    {
     "name": "stdout",
     "output_type": "stream",
     "text": [
      "\u001b[36m(launch_and_fit pid=12183)\u001b[0m \tTrain Epoch: 6 \tTrain_loss_mri: 1.3793 | Train_acc_mri: 32.2917 | Train_loss_dna: 1.6081 | Train_acc_dna: 40.6250 | Validation_loss_mri: 1.3300 | Validation_acc_mri: 37.5000 | Validation_loss_dna: 1.6489 | Validation_acc_dna: 37.5000\n"
     ]
    },
    {
     "name": "stderr",
     "output_type": "stream",
     "text": [
      " 60%|\u001b[34m██████    \u001b[0m| 6/10 [00:17<00:10,  2.68s/it]\n",
      "\u001b[36m(launch_and_fit pid=12834)\u001b[0m /opt/conda/envs/fed/lib/python3.10/site-packages/torch/storage.py:414: FutureWarning: You are using `torch.load` with `weights_only=False` (the current default value), which uses the default pickle module implicitly. It is possible to construct malicious pickle data which will execute arbitrary code during unpickling (See https://github.com/pytorch/pytorch/blob/main/SECURITY.md#untrusted-models for more details). In a future release, the default value for `weights_only` will be flipped to `True`. This limits the functions that could be executed during unpickling. Arbitrary objects will no longer be allowed to be loaded via this mode unless they are explicitly allowlisted by the user via `torch.serialization.add_safe_globals`. We recommend you start setting `weights_only=True` for any use case where you don't have full control of the loaded file. Please open an issue on GitHub for any issues related to this experimental feature.\n",
      "\u001b[36m(launch_and_fit pid=12834)\u001b[0m   return torch.load(io.BytesIO(b))\n"
     ]
    },
    {
     "name": "stdout",
     "output_type": "stream",
     "text": [
      "\u001b[36m(launch_and_fit pid=12183)\u001b[0m \tTrain Epoch: 7 \tTrain_loss_mri: 1.3411 | Train_acc_mri: 41.6667 | Train_loss_dna: 1.6015 | Train_acc_dna: 37.5000 | Validation_loss_mri: 1.3521 | Validation_acc_mri: 37.5000 | Validation_loss_dna: 1.7702 | Validation_acc_dna: 25.0000\n",
      "\u001b[36m(launch_and_fit pid=12834)\u001b[0m Run with homomorphic encryption\n"
     ]
    },
    {
     "name": "stderr",
     "output_type": "stream",
     "text": [
      " 70%|\u001b[34m███████   \u001b[0m| 7/10 [00:20<00:08,  2.70s/it]\n"
     ]
    },
    {
     "name": "stdout",
     "output_type": "stream",
     "text": [
      "\u001b[36m(launch_and_fit pid=12834)\u001b[0m [Client 6, round 4] fit, config: {'learning_rate': 0.003, 'batch_size': '32', 'server_round': 4, 'local_epochs': 10}\n"
     ]
    },
    {
     "name": "stderr",
     "output_type": "stream",
     "text": [
      " 70%|\u001b[34m███████   \u001b[0m| 7/10 [00:21<00:09,  3.11s/it]\n"
     ]
    },
    {
     "name": "stdout",
     "output_type": "stream",
     "text": [
      "\u001b[36m(launch_and_fit pid=12834)\u001b[0m Updated model\n"
     ]
    },
    {
     "name": "stderr",
     "output_type": "stream",
     "text": [
      "  0%|\u001b[34m          \u001b[0m| 0/10 [00:00<?, ?it/s]\n"
     ]
    },
    {
     "name": "stdout",
     "output_type": "stream",
     "text": [
      "\u001b[33m(raylet)\u001b[0m A worker died or was killed while executing a task by an unexpected system error. To troubleshoot the problem, check the logs for the dead worker. RayTask ID: e4e718ab9462c21a497a36062847cbb80538372401000000 Worker ID: d1cd8784d676ce6f62c9c2b55d03a3dbb81a8109d08b377534fe0071 Node ID: 56a5e3c87d3ec0ccb4c476f81cf9b86de127e2bba9c5eacdfac15393 Worker IP address: 10.0.1.229 Worker port: 32883 Worker PID: 12183 Worker exit type: SYSTEM_ERROR Worker exit detail: Worker exits unexpectedly. Worker exits with an exit code 1. The process receives a SIGTERM.\n"
     ]
    },
    {
     "name": "stderr",
     "output_type": "stream",
     "text": [
      " 10%|\u001b[34m█         \u001b[0m| 1/10 [00:13<02:01, 13.51s/it]\n"
     ]
    },
    {
     "name": "stdout",
     "output_type": "stream",
     "text": [
      "\u001b[36m(launch_and_fit pid=12834)\u001b[0m \tTrain Epoch: 1 \tTrain_loss_mri: 1.3939 | Train_acc_mri: 19.7917 | Train_loss_dna: 1.8274 | Train_acc_dna: 29.1667 | Validation_loss_mri: 1.3580 | Validation_acc_mri: 37.5000 | Validation_loss_dna: 1.7415 | Validation_acc_dna: 50.0000\n"
     ]
    },
    {
     "name": "stderr",
     "output_type": "stream",
     "text": [
      " 20%|\u001b[34m██        \u001b[0m| 2/10 [00:15<00:55,  6.91s/it]\n"
     ]
    },
    {
     "name": "stdout",
     "output_type": "stream",
     "text": [
      "\u001b[36m(launch_and_fit pid=12834)\u001b[0m \tTrain Epoch: 2 \tTrain_loss_mri: 1.3607 | Train_acc_mri: 38.5417 | Train_loss_dna: 1.7193 | Train_acc_dna: 36.4583 | Validation_loss_mri: 1.3586 | Validation_acc_mri: 37.5000 | Validation_loss_dna: 1.8213 | Validation_acc_dna: 37.5000\n"
     ]
    },
    {
     "name": "stderr",
     "output_type": "stream",
     "text": [
      " 30%|\u001b[34m███       \u001b[0m| 3/10 [00:18<00:35,  5.06s/it]\n"
     ]
    },
    {
     "name": "stdout",
     "output_type": "stream",
     "text": [
      "\u001b[36m(launch_and_fit pid=12834)\u001b[0m \tTrain Epoch: 3 \tTrain_loss_mri: 1.3516 | Train_acc_mri: 37.5000 | Train_loss_dna: 1.7067 | Train_acc_dna: 43.7500 | Validation_loss_mri: 1.3909 | Validation_acc_mri: 37.5000 | Validation_loss_dna: 1.7854 | Validation_acc_dna: 50.0000\n"
     ]
    },
    {
     "name": "stderr",
     "output_type": "stream",
     "text": [
      " 40%|\u001b[34m████      \u001b[0m| 4/10 [00:21<00:24,  4.04s/it]\n"
     ]
    },
    {
     "name": "stdout",
     "output_type": "stream",
     "text": [
      "\u001b[36m(launch_and_fit pid=12834)\u001b[0m \tTrain Epoch: 4 \tTrain_loss_mri: 1.3291 | Train_acc_mri: 34.3750 | Train_loss_dna: 1.6821 | Train_acc_dna: 42.7083 | Validation_loss_mri: 1.4216 | Validation_acc_mri: 37.5000 | Validation_loss_dna: 1.7519 | Validation_acc_dna: 50.0000\n"
     ]
    },
    {
     "name": "stderr",
     "output_type": "stream",
     "text": [
      " 50%|\u001b[34m█████     \u001b[0m| 5/10 [00:23<00:17,  3.48s/it]\n"
     ]
    },
    {
     "name": "stdout",
     "output_type": "stream",
     "text": [
      "\u001b[36m(launch_and_fit pid=12834)\u001b[0m \tTrain Epoch: 5 \tTrain_loss_mri: 1.3172 | Train_acc_mri: 34.3750 | Train_loss_dna: 1.5109 | Train_acc_dna: 47.9167 | Validation_loss_mri: 1.4801 | Validation_acc_mri: 37.5000 | Validation_loss_dna: 1.7713 | Validation_acc_dna: 50.0000\n"
     ]
    },
    {
     "name": "stderr",
     "output_type": "stream",
     "text": [
      " 60%|\u001b[34m██████    \u001b[0m| 6/10 [00:25<00:12,  3.07s/it]\n"
     ]
    },
    {
     "name": "stdout",
     "output_type": "stream",
     "text": [
      "\u001b[36m(launch_and_fit pid=12834)\u001b[0m \tTrain Epoch: 6 \tTrain_loss_mri: 1.3405 | Train_acc_mri: 28.1250 | Train_loss_dna: 1.6592 | Train_acc_dna: 35.4167 | Validation_loss_mri: 1.4665 | Validation_acc_mri: 37.5000 | Validation_loss_dna: 1.7059 | Validation_acc_dna: 50.0000\n"
     ]
    },
    {
     "name": "stderr",
     "output_type": "stream",
     "text": [
      " 70%|\u001b[34m███████   \u001b[0m| 7/10 [00:28<00:08,  2.92s/it]\n"
     ]
    },
    {
     "name": "stdout",
     "output_type": "stream",
     "text": [
      "\u001b[36m(launch_and_fit pid=12834)\u001b[0m \tTrain Epoch: 7 \tTrain_loss_mri: 1.2970 | Train_acc_mri: 37.5000 | Train_loss_dna: 1.5959 | Train_acc_dna: 44.7917 | Validation_loss_mri: 1.4103 | Validation_acc_mri: 37.5000 | Validation_loss_dna: 1.8603 | Validation_acc_dna: 50.0000\n"
     ]
    },
    {
     "name": "stderr",
     "output_type": "stream",
     "text": [
      " 80%|\u001b[34m████████  \u001b[0m| 8/10 [00:30<00:05,  2.66s/it]\n"
     ]
    },
    {
     "name": "stdout",
     "output_type": "stream",
     "text": [
      "\u001b[36m(launch_and_fit pid=12834)\u001b[0m \tTrain Epoch: 8 \tTrain_loss_mri: 1.2798 | Train_acc_mri: 31.2500 | Train_loss_dna: 1.6010 | Train_acc_dna: 42.7083 | Validation_loss_mri: 1.4008 | Validation_acc_mri: 37.5000 | Validation_loss_dna: 1.8501 | Validation_acc_dna: 50.0000\n"
     ]
    },
    {
     "name": "stderr",
     "output_type": "stream",
     "text": [
      " 90%|\u001b[34m█████████ \u001b[0m| 9/10 [00:32<00:02,  2.52s/it]\n"
     ]
    },
    {
     "name": "stdout",
     "output_type": "stream",
     "text": [
      "\u001b[36m(launch_and_fit pid=12834)\u001b[0m \tTrain Epoch: 9 \tTrain_loss_mri: 1.2594 | Train_acc_mri: 41.6667 | Train_loss_dna: 1.6010 | Train_acc_dna: 35.4167 | Validation_loss_mri: 1.4434 | Validation_acc_mri: 25.0000 | Validation_loss_dna: 1.8933 | Validation_acc_dna: 50.0000\n"
     ]
    },
    {
     "name": "stderr",
     "output_type": "stream",
     "text": [
      "100%|\u001b[34m██████████\u001b[0m| 10/10 [00:34<00:00,  3.49s/it]\n"
     ]
    },
    {
     "name": "stdout",
     "output_type": "stream",
     "text": [
      "\u001b[36m(launch_and_fit pid=12834)\u001b[0m \tTrain Epoch: 10 \tTrain_loss_mri: 1.2369 | Train_acc_mri: 42.7083 | Train_loss_dna: 1.5788 | Train_acc_dna: 39.5833 | Validation_loss_mri: 1.3839 | Validation_acc_mri: 25.0000 | Validation_loss_dna: 1.9393 | Validation_acc_dna: 50.0000\n",
      "\u001b[36m(launch_and_fit pid=12834)\u001b[0m save graph in  results/FL/\n",
      "\u001b[36m(launch_and_fit pid=12834)\u001b[0m mri_net.features.0.weight 1.1444091796875e-05\n",
      "\u001b[36m(launch_and_fit pid=12834)\u001b[0m mri_net.features.0.bias 1.6689300537109375e-06\n",
      "\u001b[36m(launch_and_fit pid=12834)\u001b[0m mri_net.features.3.weight 1.1920928955078125e-06\n",
      "\u001b[36m(launch_and_fit pid=12834)\u001b[0m mri_net.features.3.bias 9.5367431640625e-07\n",
      "\u001b[36m(launch_and_fit pid=12834)\u001b[0m mri_net.classifier.0.weight 1.1920928955078125e-06\n",
      "\u001b[36m(launch_and_fit pid=12834)\u001b[0m mri_net.classifier.0.bias 7.152557373046875e-07\n",
      "\u001b[36m(launch_and_fit pid=12834)\u001b[0m mri_net.classifier.2.weight 1.6689300537109375e-06\n",
      "\u001b[36m(launch_and_fit pid=12834)\u001b[0m mri_net.classifier.2.bias 7.152557373046875e-07\n",
      "\u001b[36m(launch_and_fit pid=12834)\u001b[0m mri_net.classifier.3.weights 9.5367431640625e-07\n",
      "\u001b[36m(launch_and_fit pid=12834)\u001b[0m dna_net.fc1.weight 9.5367431640625e-07\n",
      "\u001b[36m(launch_and_fit pid=12834)\u001b[0m dna_net.fc1.bias 7.152557373046875e-07\n",
      "\u001b[36m(launch_and_fit pid=12834)\u001b[0m dna_net.fc2.weight 7.152557373046875e-07\n",
      "\u001b[36m(launch_and_fit pid=12834)\u001b[0m dna_net.fc2.bias 9.5367431640625e-07\n",
      "\u001b[36m(launch_and_fit pid=12834)\u001b[0m dna_net.fc3.weight 9.5367431640625e-07\n",
      "\u001b[36m(launch_and_fit pid=12834)\u001b[0m dna_net.fc3.bias 1.1920928955078125e-06\n",
      "\u001b[36m(launch_and_fit pid=12834)\u001b[0m dna_net.fc4.weight 7.152557373046875e-07\n",
      "\u001b[36m(launch_and_fit pid=12834)\u001b[0m dna_net.fc4.bias 1.1920928955078125e-06\n",
      "\u001b[36m(launch_and_fit pid=12834)\u001b[0m dna_net.qnn.weights 9.5367431640625e-07\n",
      "\u001b[36m(launch_and_fit pid=12834)\u001b[0m attention.in_proj_weight 7.152557373046875e-07\n",
      "\u001b[36m(launch_and_fit pid=12834)\u001b[0m attention.in_proj_bias 7.152557373046875e-07\n",
      "\u001b[36m(launch_and_fit pid=12834)\u001b[0m attention.out_proj.weight 7.152557373046875e-07\n",
      "\u001b[36m(launch_and_fit pid=12834)\u001b[0m attention.out_proj.bias 7.152557373046875e-07\n",
      "\u001b[36m(launch_and_fit pid=12834)\u001b[0m fc1.weight 1.1920928955078125e-06\n",
      "\u001b[36m(launch_and_fit pid=12834)\u001b[0m fc1.bias 9.5367431640625e-07\n",
      "\u001b[36m(launch_and_fit pid=12834)\u001b[0m fc2_mri.weight 1.1920928955078125e-06\n",
      "\u001b[36m(launch_and_fit pid=12834)\u001b[0m fc2_mri.bias 1.9073486328125e-06\n",
      "\u001b[36m(launch_and_fit pid=12834)\u001b[0m fc2_dna.weight 1.1920928955078125e-06\n",
      "\u001b[36m(launch_and_fit pid=12834)\u001b[0m fc2_dna.bias 7.152557373046875e-07\n",
      "\u001b[36m(launch_and_fit pid=12834)\u001b[0m Run with homomorphic encryption\n",
      "\u001b[36m(launch_and_fit pid=12834)\u001b[0m [Client 0, round 4] fit, config: {'learning_rate': 0.003, 'batch_size': '32', 'server_round': 4, 'local_epochs': 10}\n"
     ]
    },
    {
     "name": "stderr",
     "output_type": "stream",
     "text": [
      "  0%|\u001b[34m          \u001b[0m| 0/10 [00:00<?, ?it/s]\n"
     ]
    },
    {
     "name": "stdout",
     "output_type": "stream",
     "text": [
      "\u001b[36m(launch_and_fit pid=12834)\u001b[0m Updated model\n"
     ]
    },
    {
     "name": "stderr",
     "output_type": "stream",
     "text": [
      " 10%|\u001b[34m█         \u001b[0m| 1/10 [00:03<00:35,  3.96s/it]\n"
     ]
    },
    {
     "name": "stdout",
     "output_type": "stream",
     "text": [
      "\u001b[36m(launch_and_fit pid=12834)\u001b[0m \tTrain Epoch: 1 \tTrain_loss_mri: 1.4071 | Train_acc_mri: 23.9583 | Train_loss_dna: 1.7330 | Train_acc_dna: 33.3333 | Validation_loss_mri: 1.4047 | Validation_acc_mri: 25.0000 | Validation_loss_dna: 1.4456 | Validation_acc_dna: 62.5000\n"
     ]
    },
    {
     "name": "stderr",
     "output_type": "stream",
     "text": [
      " 20%|\u001b[34m██        \u001b[0m| 2/10 [00:06<00:25,  3.22s/it]\n"
     ]
    },
    {
     "name": "stdout",
     "output_type": "stream",
     "text": [
      "\u001b[36m(launch_and_fit pid=12834)\u001b[0m \tTrain Epoch: 2 \tTrain_loss_mri: 1.3773 | Train_acc_mri: 29.1667 | Train_loss_dna: 1.7330 | Train_acc_dna: 38.5417 | Validation_loss_mri: 1.3833 | Validation_acc_mri: 12.5000 | Validation_loss_dna: 1.5066 | Validation_acc_dna: 62.5000\n"
     ]
    },
    {
     "name": "stderr",
     "output_type": "stream",
     "text": [
      " 30%|\u001b[34m███       \u001b[0m| 3/10 [00:09<00:20,  2.87s/it]\n"
     ]
    },
    {
     "name": "stdout",
     "output_type": "stream",
     "text": [
      "\u001b[36m(launch_and_fit pid=12834)\u001b[0m \tTrain Epoch: 3 \tTrain_loss_mri: 1.3674 | Train_acc_mri: 22.9167 | Train_loss_dna: 1.7262 | Train_acc_dna: 37.5000 | Validation_loss_mri: 1.4113 | Validation_acc_mri: 25.0000 | Validation_loss_dna: 1.3575 | Validation_acc_dna: 62.5000\n"
     ]
    },
    {
     "name": "stderr",
     "output_type": "stream",
     "text": [
      " 40%|\u001b[34m████      \u001b[0m| 4/10 [00:11<00:16,  2.74s/it]\n"
     ]
    },
    {
     "name": "stdout",
     "output_type": "stream",
     "text": [
      "\u001b[36m(launch_and_fit pid=12834)\u001b[0m \tTrain Epoch: 4 \tTrain_loss_mri: 1.3598 | Train_acc_mri: 36.4583 | Train_loss_dna: 1.6954 | Train_acc_dna: 30.2083 | Validation_loss_mri: 1.4246 | Validation_acc_mri: 12.5000 | Validation_loss_dna: 1.3876 | Validation_acc_dna: 62.5000\n"
     ]
    },
    {
     "name": "stderr",
     "output_type": "stream",
     "text": [
      " 50%|\u001b[34m█████     \u001b[0m| 5/10 [00:13<00:12,  2.57s/it]\n"
     ]
    },
    {
     "name": "stdout",
     "output_type": "stream",
     "text": [
      "\u001b[36m(launch_and_fit pid=12834)\u001b[0m \tTrain Epoch: 5 \tTrain_loss_mri: 1.3692 | Train_acc_mri: 31.2500 | Train_loss_dna: 1.6264 | Train_acc_dna: 34.3750 | Validation_loss_mri: 1.4321 | Validation_acc_mri: 12.5000 | Validation_loss_dna: 1.4515 | Validation_acc_dna: 62.5000\n"
     ]
    },
    {
     "name": "stderr",
     "output_type": "stream",
     "text": [
      "\u001b[36m(launch_and_fit pid=13120)\u001b[0m /opt/conda/envs/fed/lib/python3.10/site-packages/torch/storage.py:414: FutureWarning: You are using `torch.load` with `weights_only=False` (the current default value), which uses the default pickle module implicitly. It is possible to construct malicious pickle data which will execute arbitrary code during unpickling (See https://github.com/pytorch/pytorch/blob/main/SECURITY.md#untrusted-models for more details). In a future release, the default value for `weights_only` will be flipped to `True`. This limits the functions that could be executed during unpickling. Arbitrary objects will no longer be allowed to be loaded via this mode unless they are explicitly allowlisted by the user via `torch.serialization.add_safe_globals`. We recommend you start setting `weights_only=True` for any use case where you don't have full control of the loaded file. Please open an issue on GitHub for any issues related to this experimental feature.\n",
      "\u001b[36m(launch_and_fit pid=13120)\u001b[0m   return torch.load(io.BytesIO(b))\n"
     ]
    },
    {
     "name": "stdout",
     "output_type": "stream",
     "text": [
      "\u001b[36m(launch_and_fit pid=13120)\u001b[0m Run with homomorphic encryption\n",
      "\u001b[36m(launch_and_fit pid=13120)\u001b[0m [Client 1, round 4] fit, config: {'learning_rate': 0.003, 'batch_size': '32', 'server_round': 4, 'local_epochs': 10}\n"
     ]
    },
    {
     "name": "stderr",
     "output_type": "stream",
     "text": [
      " 60%|\u001b[34m██████    \u001b[0m| 6/10 [00:17<00:11,  2.87s/it]\n"
     ]
    },
    {
     "name": "stdout",
     "output_type": "stream",
     "text": [
      "\u001b[36m(launch_and_fit pid=12834)\u001b[0m \tTrain Epoch: 6 \tTrain_loss_mri: 1.3448 | Train_acc_mri: 37.5000 | Train_loss_dna: 1.5777 | Train_acc_dna: 39.5833 | Validation_loss_mri: 1.4828 | Validation_acc_mri: 12.5000 | Validation_loss_dna: 1.4522 | Validation_acc_dna: 62.5000\n",
      "\u001b[33m(raylet)\u001b[0m A worker died or was killed while executing a task by an unexpected system error. To troubleshoot the problem, check the logs for the dead worker. RayTask ID: 4f3aae209abdc0f64e3e62d6c78ed5f25a9a308f01000000 Worker ID: 1a70a77765564b9abfa4a72697e3acdca60d1e65e6cc6d165c99aded Node ID: 56a5e3c87d3ec0ccb4c476f81cf9b86de127e2bba9c5eacdfac15393 Worker IP address: 10.0.1.229 Worker port: 46077 Worker PID: 13120 Worker exit type: SYSTEM_ERROR Worker exit detail: The leased worker has unrecoverable failure. Worker is requested to be destroyed when it is returned. Worker exits with an exit code 1. The process receives a SIGTERM.\n"
     ]
    },
    {
     "name": "stderr",
     "output_type": "stream",
     "text": [
      " 70%|\u001b[34m███████   \u001b[0m| 7/10 [00:25<00:13,  4.63s/it]\n"
     ]
    },
    {
     "name": "stdout",
     "output_type": "stream",
     "text": [
      "\u001b[36m(launch_and_fit pid=12834)\u001b[0m \tTrain Epoch: 7 \tTrain_loss_mri: 1.3516 | Train_acc_mri: 31.2500 | Train_loss_dna: 1.6282 | Train_acc_dna: 32.2917 | Validation_loss_mri: 1.4731 | Validation_acc_mri: 12.5000 | Validation_loss_dna: 1.4417 | Validation_acc_dna: 62.5000\n"
     ]
    },
    {
     "name": "stderr",
     "output_type": "stream",
     "text": [
      " 80%|\u001b[34m████████  \u001b[0m| 8/10 [00:27<00:07,  3.81s/it]\n"
     ]
    },
    {
     "name": "stdout",
     "output_type": "stream",
     "text": [
      "\u001b[36m(launch_and_fit pid=12834)\u001b[0m \tTrain Epoch: 8 \tTrain_loss_mri: 1.3801 | Train_acc_mri: 28.1250 | Train_loss_dna: 1.5144 | Train_acc_dna: 39.5833 | Validation_loss_mri: 1.5585 | Validation_acc_mri: 12.5000 | Validation_loss_dna: 1.3710 | Validation_acc_dna: 62.5000\n"
     ]
    },
    {
     "name": "stderr",
     "output_type": "stream",
     "text": [
      " 90%|\u001b[34m█████████ \u001b[0m| 9/10 [00:29<00:03,  3.34s/it]\n"
     ]
    },
    {
     "name": "stdout",
     "output_type": "stream",
     "text": [
      "\u001b[36m(launch_and_fit pid=12834)\u001b[0m \tTrain Epoch: 9 \tTrain_loss_mri: 1.3349 | Train_acc_mri: 35.4167 | Train_loss_dna: 1.4773 | Train_acc_dna: 38.5417 | Validation_loss_mri: 1.4839 | Validation_acc_mri: 12.5000 | Validation_loss_dna: 1.3764 | Validation_acc_dna: 50.0000\n"
     ]
    },
    {
     "name": "stderr",
     "output_type": "stream",
     "text": [
      "100%|\u001b[34m██████████\u001b[0m| 10/10 [00:32<00:00,  3.21s/it]\n"
     ]
    },
    {
     "name": "stdout",
     "output_type": "stream",
     "text": [
      "\u001b[36m(launch_and_fit pid=12834)\u001b[0m \tTrain Epoch: 10 \tTrain_loss_mri: 1.3814 | Train_acc_mri: 30.2083 | Train_loss_dna: 1.5039 | Train_acc_dna: 42.7083 | Validation_loss_mri: 1.4593 | Validation_acc_mri: 12.5000 | Validation_loss_dna: 1.3972 | Validation_acc_dna: 50.0000\n",
      "\u001b[36m(launch_and_fit pid=12834)\u001b[0m save graph in  results/FL/\n",
      "\u001b[36m(launch_and_fit pid=12834)\u001b[0m mri_net.features.0.weight 3.814697265625e-06\n",
      "\u001b[36m(launch_and_fit pid=12834)\u001b[0m mri_net.features.0.bias 9.5367431640625e-07\n",
      "\u001b[36m(launch_and_fit pid=12834)\u001b[0m mri_net.features.3.weight 4.76837158203125e-07\n",
      "\u001b[36m(launch_and_fit pid=12834)\u001b[0m mri_net.features.3.bias 1.1920928955078125e-06\n",
      "\u001b[36m(launch_and_fit pid=12834)\u001b[0m mri_net.classifier.0.weight 1.6689300537109375e-06\n",
      "\u001b[36m(launch_and_fit pid=12834)\u001b[0m mri_net.classifier.0.bias 1.1920928955078125e-06\n",
      "\u001b[36m(launch_and_fit pid=12834)\u001b[0m mri_net.classifier.2.weight 7.152557373046875e-07\n",
      "\u001b[36m(launch_and_fit pid=12834)\u001b[0m mri_net.classifier.2.bias 1.430511474609375e-06\n",
      "\u001b[36m(launch_and_fit pid=12834)\u001b[0m mri_net.classifier.3.weights 2.384185791015625e-06\n",
      "\u001b[36m(launch_and_fit pid=12834)\u001b[0m dna_net.fc1.weight 7.152557373046875e-07\n",
      "\u001b[36m(launch_and_fit pid=12834)\u001b[0m dna_net.fc1.bias 9.5367431640625e-07\n",
      "\u001b[36m(launch_and_fit pid=12834)\u001b[0m dna_net.fc2.weight 9.5367431640625e-07\n",
      "\u001b[36m(launch_and_fit pid=12834)\u001b[0m dna_net.fc2.bias 9.5367431640625e-07\n",
      "\u001b[36m(launch_and_fit pid=12834)\u001b[0m dna_net.fc3.weight 4.76837158203125e-07\n",
      "\u001b[36m(launch_and_fit pid=12834)\u001b[0m dna_net.fc3.bias 4.76837158203125e-07\n",
      "\u001b[36m(launch_and_fit pid=12834)\u001b[0m dna_net.fc4.weight 9.5367431640625e-07\n",
      "\u001b[36m(launch_and_fit pid=12834)\u001b[0m dna_net.fc4.bias 7.152557373046875e-07\n",
      "\u001b[36m(launch_and_fit pid=12834)\u001b[0m dna_net.qnn.weights 9.5367431640625e-07\n",
      "\u001b[36m(launch_and_fit pid=12834)\u001b[0m attention.in_proj_weight 4.76837158203125e-07\n",
      "\u001b[36m(launch_and_fit pid=12834)\u001b[0m attention.in_proj_bias 7.152557373046875e-07\n",
      "\u001b[36m(launch_and_fit pid=12834)\u001b[0m attention.out_proj.weight 4.76837158203125e-07\n",
      "\u001b[36m(launch_and_fit pid=12834)\u001b[0m attention.out_proj.bias 7.152557373046875e-07\n",
      "\u001b[36m(launch_and_fit pid=12834)\u001b[0m fc1.weight 9.5367431640625e-07\n",
      "\u001b[36m(launch_and_fit pid=12834)\u001b[0m fc1.bias 7.152557373046875e-07\n",
      "\u001b[36m(launch_and_fit pid=12834)\u001b[0m fc2_mri.weight 9.5367431640625e-07\n",
      "\u001b[36m(launch_and_fit pid=12834)\u001b[0m fc2_mri.bias 7.152557373046875e-07\n",
      "\u001b[36m(launch_and_fit pid=12834)\u001b[0m fc2_dna.weight 7.152557373046875e-07\n",
      "\u001b[36m(launch_and_fit pid=12834)\u001b[0m fc2_dna.bias 9.5367431640625e-07\n",
      "\u001b[36m(launch_and_fit pid=12834)\u001b[0m Run with homomorphic encryption\n",
      "\u001b[36m(launch_and_fit pid=12834)\u001b[0m [Client 2, round 4] fit, config: {'learning_rate': 0.003, 'batch_size': '32', 'server_round': 4, 'local_epochs': 10}\n"
     ]
    },
    {
     "name": "stderr",
     "output_type": "stream",
     "text": [
      "  0%|\u001b[34m          \u001b[0m| 0/10 [00:00<?, ?it/s]\n"
     ]
    },
    {
     "name": "stdout",
     "output_type": "stream",
     "text": [
      "\u001b[36m(launch_and_fit pid=12834)\u001b[0m Updated model\n"
     ]
    },
    {
     "name": "stderr",
     "output_type": "stream",
     "text": [
      " 10%|\u001b[34m█         \u001b[0m| 1/10 [00:06<00:54,  6.03s/it]\n"
     ]
    },
    {
     "name": "stdout",
     "output_type": "stream",
     "text": [
      "\u001b[36m(launch_and_fit pid=12834)\u001b[0m \tTrain Epoch: 1 \tTrain_loss_mri: 1.3736 | Train_acc_mri: 33.3333 | Train_loss_dna: 1.8326 | Train_acc_dna: 22.9167 | Validation_loss_mri: 1.3635 | Validation_acc_mri: 12.5000 | Validation_loss_dna: 1.8297 | Validation_acc_dna: 37.5000\n"
     ]
    },
    {
     "name": "stderr",
     "output_type": "stream",
     "text": [
      " 20%|\u001b[34m██        \u001b[0m| 2/10 [00:08<00:30,  3.79s/it]\n"
     ]
    },
    {
     "name": "stdout",
     "output_type": "stream",
     "text": [
      "\u001b[36m(launch_and_fit pid=12834)\u001b[0m \tTrain Epoch: 2 \tTrain_loss_mri: 1.3852 | Train_acc_mri: 25.0000 | Train_loss_dna: 1.8216 | Train_acc_dna: 34.3750 | Validation_loss_mri: 1.3708 | Validation_acc_mri: 0.0000 | Validation_loss_dna: 1.7765 | Validation_acc_dna: 37.5000\n"
     ]
    },
    {
     "name": "stderr",
     "output_type": "stream",
     "text": [
      " 30%|\u001b[34m███       \u001b[0m| 3/10 [00:10<00:22,  3.26s/it]\n"
     ]
    },
    {
     "name": "stdout",
     "output_type": "stream",
     "text": [
      "\u001b[36m(launch_and_fit pid=12834)\u001b[0m \tTrain Epoch: 3 \tTrain_loss_mri: 1.3583 | Train_acc_mri: 35.4167 | Train_loss_dna: 1.7514 | Train_acc_dna: 29.1667 | Validation_loss_mri: 1.3663 | Validation_acc_mri: 0.0000 | Validation_loss_dna: 1.7462 | Validation_acc_dna: 37.5000\n"
     ]
    },
    {
     "name": "stderr",
     "output_type": "stream",
     "text": [
      " 40%|\u001b[34m████      \u001b[0m| 4/10 [00:13<00:17,  2.95s/it]\n"
     ]
    },
    {
     "name": "stdout",
     "output_type": "stream",
     "text": [
      "\u001b[36m(launch_and_fit pid=12834)\u001b[0m \tTrain Epoch: 4 \tTrain_loss_mri: 1.3698 | Train_acc_mri: 31.2500 | Train_loss_dna: 1.8173 | Train_acc_dna: 22.9167 | Validation_loss_mri: 1.3828 | Validation_acc_mri: 12.5000 | Validation_loss_dna: 1.7695 | Validation_acc_dna: 37.5000\n"
     ]
    },
    {
     "name": "stderr",
     "output_type": "stream",
     "text": [
      " 50%|\u001b[34m█████     \u001b[0m| 5/10 [00:15<00:13,  2.78s/it]\n"
     ]
    },
    {
     "name": "stdout",
     "output_type": "stream",
     "text": [
      "\u001b[36m(launch_and_fit pid=12834)\u001b[0m \tTrain Epoch: 5 \tTrain_loss_mri: 1.3425 | Train_acc_mri: 28.1250 | Train_loss_dna: 1.7756 | Train_acc_dna: 32.2917 | Validation_loss_mri: 1.3980 | Validation_acc_mri: 25.0000 | Validation_loss_dna: 1.7854 | Validation_acc_dna: 25.0000\n"
     ]
    },
    {
     "name": "stderr",
     "output_type": "stream",
     "text": [
      " 60%|\u001b[34m██████    \u001b[0m| 6/10 [00:18<00:10,  2.61s/it]\n"
     ]
    },
    {
     "name": "stdout",
     "output_type": "stream",
     "text": [
      "\u001b[36m(launch_and_fit pid=12834)\u001b[0m \tTrain Epoch: 6 \tTrain_loss_mri: 1.3537 | Train_acc_mri: 36.4583 | Train_loss_dna: 1.7244 | Train_acc_dna: 36.4583 | Validation_loss_mri: 1.3667 | Validation_acc_mri: 37.5000 | Validation_loss_dna: 1.7126 | Validation_acc_dna: 37.5000\n"
     ]
    },
    {
     "name": "stderr",
     "output_type": "stream",
     "text": [
      " 70%|\u001b[34m███████   \u001b[0m| 7/10 [00:20<00:07,  2.50s/it]\n"
     ]
    },
    {
     "name": "stdout",
     "output_type": "stream",
     "text": [
      "\u001b[36m(launch_and_fit pid=12834)\u001b[0m \tTrain Epoch: 7 \tTrain_loss_mri: 1.3688 | Train_acc_mri: 29.1667 | Train_loss_dna: 1.6285 | Train_acc_dna: 46.8750 | Validation_loss_mri: 1.3739 | Validation_acc_mri: 37.5000 | Validation_loss_dna: 1.7574 | Validation_acc_dna: 25.0000\n"
     ]
    },
    {
     "name": "stderr",
     "output_type": "stream",
     "text": [
      " 80%|\u001b[34m████████  \u001b[0m| 8/10 [00:22<00:04,  2.43s/it]\n"
     ]
    },
    {
     "name": "stdout",
     "output_type": "stream",
     "text": [
      "\u001b[36m(launch_and_fit pid=12834)\u001b[0m \tTrain Epoch: 8 \tTrain_loss_mri: 1.3287 | Train_acc_mri: 32.2917 | Train_loss_dna: 1.5975 | Train_acc_dna: 35.4167 | Validation_loss_mri: 1.3665 | Validation_acc_mri: 37.5000 | Validation_loss_dna: 1.7945 | Validation_acc_dna: 25.0000\n"
     ]
    },
    {
     "name": "stderr",
     "output_type": "stream",
     "text": [
      " 90%|\u001b[34m█████████ \u001b[0m| 9/10 [00:25<00:02,  2.47s/it]\n"
     ]
    },
    {
     "name": "stdout",
     "output_type": "stream",
     "text": [
      "\u001b[36m(launch_and_fit pid=12834)\u001b[0m \tTrain Epoch: 9 \tTrain_loss_mri: 1.3664 | Train_acc_mri: 30.2083 | Train_loss_dna: 1.6728 | Train_acc_dna: 27.0833 | Validation_loss_mri: 1.3396 | Validation_acc_mri: 37.5000 | Validation_loss_dna: 1.8086 | Validation_acc_dna: 25.0000\n"
     ]
    },
    {
     "name": "stderr",
     "output_type": "stream",
     "text": [
      "100%|\u001b[34m██████████\u001b[0m| 10/10 [00:27<00:00,  2.79s/it]\n"
     ]
    },
    {
     "name": "stdout",
     "output_type": "stream",
     "text": [
      "\u001b[36m(launch_and_fit pid=12834)\u001b[0m \tTrain Epoch: 10 \tTrain_loss_mri: 1.2845 | Train_acc_mri: 38.5417 | Train_loss_dna: 1.5314 | Train_acc_dna: 38.5417 | Validation_loss_mri: 1.2961 | Validation_acc_mri: 37.5000 | Validation_loss_dna: 1.7633 | Validation_acc_dna: 25.0000\n",
      "\u001b[36m(launch_and_fit pid=12834)\u001b[0m save graph in  results/FL/\n",
      "\u001b[36m(launch_and_fit pid=12834)\u001b[0m mri_net.features.0.weight 5.0067901611328125e-06\n",
      "\u001b[36m(launch_and_fit pid=12834)\u001b[0m mri_net.features.0.bias 1.6689300537109375e-06\n",
      "\u001b[36m(launch_and_fit pid=12834)\u001b[0m mri_net.features.3.weight 7.152557373046875e-07\n",
      "\u001b[36m(launch_and_fit pid=12834)\u001b[0m mri_net.features.3.bias 9.5367431640625e-07\n",
      "\u001b[36m(launch_and_fit pid=12834)\u001b[0m mri_net.classifier.0.weight 9.5367431640625e-07\n",
      "\u001b[36m(launch_and_fit pid=12834)\u001b[0m mri_net.classifier.0.bias 7.152557373046875e-07\n",
      "\u001b[36m(launch_and_fit pid=12834)\u001b[0m mri_net.classifier.2.weight 4.76837158203125e-07\n",
      "\u001b[36m(launch_and_fit pid=12834)\u001b[0m mri_net.classifier.2.bias 7.152557373046875e-07\n",
      "\u001b[36m(launch_and_fit pid=12834)\u001b[0m mri_net.classifier.3.weights 7.152557373046875e-07\n",
      "\u001b[36m(launch_and_fit pid=12834)\u001b[0m dna_net.fc1.weight 2.384185791015625e-07\n",
      "\u001b[36m(launch_and_fit pid=12834)\u001b[0m dna_net.fc1.bias 4.76837158203125e-07\n",
      "\u001b[36m(launch_and_fit pid=12834)\u001b[0m dna_net.fc2.weight 4.76837158203125e-07\n",
      "\u001b[36m(launch_and_fit pid=12834)\u001b[0m dna_net.fc2.bias 7.152557373046875e-07\n",
      "\u001b[36m(launch_and_fit pid=12834)\u001b[0m dna_net.fc3.weight 4.76837158203125e-07\n",
      "\u001b[36m(launch_and_fit pid=12834)\u001b[0m dna_net.fc3.bias 4.76837158203125e-07\n",
      "\u001b[36m(launch_and_fit pid=12834)\u001b[0m dna_net.fc4.weight 4.76837158203125e-07\n",
      "\u001b[36m(launch_and_fit pid=12834)\u001b[0m dna_net.fc4.bias 4.76837158203125e-07\n",
      "\u001b[36m(launch_and_fit pid=12834)\u001b[0m dna_net.qnn.weights 7.152557373046875e-07\n",
      "\u001b[36m(launch_and_fit pid=12834)\u001b[0m attention.in_proj_weight 4.76837158203125e-07\n",
      "\u001b[36m(launch_and_fit pid=12834)\u001b[0m attention.in_proj_bias 4.76837158203125e-07\n",
      "\u001b[36m(launch_and_fit pid=12834)\u001b[0m attention.out_proj.weight 4.76837158203125e-07\n",
      "\u001b[36m(launch_and_fit pid=12834)\u001b[0m attention.out_proj.bias 4.76837158203125e-07\n",
      "\u001b[36m(launch_and_fit pid=12834)\u001b[0m fc1.weight 7.152557373046875e-07\n",
      "\u001b[36m(launch_and_fit pid=12834)\u001b[0m fc1.bias 4.76837158203125e-07\n",
      "\u001b[36m(launch_and_fit pid=12834)\u001b[0m fc2_mri.weight 4.76837158203125e-07\n",
      "\u001b[36m(launch_and_fit pid=12834)\u001b[0m fc2_mri.bias 4.76837158203125e-07\n",
      "\u001b[36m(launch_and_fit pid=12834)\u001b[0m fc2_dna.weight 4.76837158203125e-07\n",
      "\u001b[36m(launch_and_fit pid=12834)\u001b[0m fc2_dna.bias 4.76837158203125e-07\n",
      "\u001b[36m(launch_and_fit pid=12834)\u001b[0m Run with homomorphic encryption\n",
      "\u001b[36m(launch_and_fit pid=12834)\u001b[0m [Client 1, round 4] fit, config: {'learning_rate': 0.003, 'batch_size': '32', 'server_round': 4, 'local_epochs': 10}\n"
     ]
    },
    {
     "name": "stderr",
     "output_type": "stream",
     "text": [
      "  0%|\u001b[34m          \u001b[0m| 0/10 [00:00<?, ?it/s]\n"
     ]
    },
    {
     "name": "stdout",
     "output_type": "stream",
     "text": [
      "\u001b[36m(launch_and_fit pid=12834)\u001b[0m Updated model\n"
     ]
    },
    {
     "name": "stderr",
     "output_type": "stream",
     "text": [
      " 10%|\u001b[34m█         \u001b[0m| 1/10 [00:05<00:49,  5.46s/it]\n"
     ]
    },
    {
     "name": "stdout",
     "output_type": "stream",
     "text": [
      "\u001b[36m(launch_and_fit pid=12834)\u001b[0m \tTrain Epoch: 1 \tTrain_loss_mri: 1.3527 | Train_acc_mri: 39.5833 | Train_loss_dna: 1.9411 | Train_acc_dna: 25.0000 | Validation_loss_mri: 1.3377 | Validation_acc_mri: 50.0000 | Validation_loss_dna: 1.8950 | Validation_acc_dna: 12.5000\n"
     ]
    },
    {
     "name": "stderr",
     "output_type": "stream",
     "text": [
      " 20%|\u001b[34m██        \u001b[0m| 2/10 [00:12<00:49,  6.14s/it]\n"
     ]
    },
    {
     "name": "stdout",
     "output_type": "stream",
     "text": [
      "\u001b[36m(launch_and_fit pid=12834)\u001b[0m \tTrain Epoch: 2 \tTrain_loss_mri: 1.3532 | Train_acc_mri: 30.2083 | Train_loss_dna: 1.7540 | Train_acc_dna: 27.0833 | Validation_loss_mri: 1.3054 | Validation_acc_mri: 50.0000 | Validation_loss_dna: 1.8912 | Validation_acc_dna: 0.0000\n"
     ]
    },
    {
     "name": "stderr",
     "output_type": "stream",
     "text": [
      " 30%|\u001b[34m███       \u001b[0m| 3/10 [00:20<00:50,  7.28s/it]\n"
     ]
    },
    {
     "name": "stdout",
     "output_type": "stream",
     "text": [
      "\u001b[36m(launch_and_fit pid=12834)\u001b[0m \tTrain Epoch: 3 \tTrain_loss_mri: 1.3681 | Train_acc_mri: 30.2083 | Train_loss_dna: 1.6818 | Train_acc_dna: 40.6250 | Validation_loss_mri: 1.2505 | Validation_acc_mri: 50.0000 | Validation_loss_dna: 1.9104 | Validation_acc_dna: 0.0000\n"
     ]
    },
    {
     "name": "stderr",
     "output_type": "stream",
     "text": [
      " 30%|\u001b[34m███       \u001b[0m| 3/10 [00:22<00:51,  7.42s/it]\n"
     ]
    },
    {
     "name": "stdout",
     "output_type": "stream",
     "text": [
      "\u001b[33m(raylet)\u001b[0m A worker died or was killed while executing a task by an unexpected system error. To troubleshoot the problem, check the logs for the dead worker. RayTask ID: 62a00077cd1a952404dcf658a78c40c47709ebe901000000 Worker ID: 4a7ae22097ac0c10e72059b5ec13f85e168f03d1ef5e06d1d97897ab Node ID: 56a5e3c87d3ec0ccb4c476f81cf9b86de127e2bba9c5eacdfac15393 Worker IP address: 10.0.1.229 Worker port: 46479 Worker PID: 12834 Worker exit type: SYSTEM_ERROR Worker exit detail: Worker exits unexpectedly. Worker exits with an exit code 1. The process receives a SIGTERM.\n"
     ]
    },
    {
     "name": "stderr",
     "output_type": "stream",
     "text": [
      "\u001b[36m(launch_and_fit pid=13361)\u001b[0m /opt/conda/envs/fed/lib/python3.10/site-packages/torch/storage.py:414: FutureWarning: You are using `torch.load` with `weights_only=False` (the current default value), which uses the default pickle module implicitly. It is possible to construct malicious pickle data which will execute arbitrary code during unpickling (See https://github.com/pytorch/pytorch/blob/main/SECURITY.md#untrusted-models for more details). In a future release, the default value for `weights_only` will be flipped to `True`. This limits the functions that could be executed during unpickling. Arbitrary objects will no longer be allowed to be loaded via this mode unless they are explicitly allowlisted by the user via `torch.serialization.add_safe_globals`. We recommend you start setting `weights_only=True` for any use case where you don't have full control of the loaded file. Please open an issue on GitHub for any issues related to this experimental feature.\n",
      "\u001b[36m(launch_and_fit pid=13361)\u001b[0m   return torch.load(io.BytesIO(b))\n"
     ]
    },
    {
     "name": "stdout",
     "output_type": "stream",
     "text": [
      "\u001b[36m(launch_and_fit pid=13361)\u001b[0m Run with homomorphic encryption\n",
      "\u001b[36m(launch_and_fit pid=13361)\u001b[0m [Client 8, round 4] fit, config: {'learning_rate': 0.003, 'batch_size': '32', 'server_round': 4, 'local_epochs': 10}\n",
      "\u001b[33m(raylet)\u001b[0m A worker died or was killed while executing a task by an unexpected system error. To troubleshoot the problem, check the logs for the dead worker. RayTask ID: c663a7b6ed7e1233b4b62cad83316fb633bb471e01000000 Worker ID: 4261e894d5c2d9b902e2c8559a7bd5abbb0a8b2be1c64c6d0ddce9ba Node ID: 56a5e3c87d3ec0ccb4c476f81cf9b86de127e2bba9c5eacdfac15393 Worker IP address: 10.0.1.229 Worker port: 44605 Worker PID: 13361 Worker exit type: SYSTEM_ERROR Worker exit detail: The leased worker has unrecoverable failure. Worker is requested to be destroyed when it is returned. Worker exits with an exit code 1. The process receives a SIGTERM.\n"
     ]
    },
    {
     "name": "stderr",
     "output_type": "stream",
     "text": [
      "\u001b[36m(launch_and_fit pid=13704)\u001b[0m /opt/conda/envs/fed/lib/python3.10/site-packages/torch/storage.py:414: FutureWarning: You are using `torch.load` with `weights_only=False` (the current default value), which uses the default pickle module implicitly. It is possible to construct malicious pickle data which will execute arbitrary code during unpickling (See https://github.com/pytorch/pytorch/blob/main/SECURITY.md#untrusted-models for more details). In a future release, the default value for `weights_only` will be flipped to `True`. This limits the functions that could be executed during unpickling. Arbitrary objects will no longer be allowed to be loaded via this mode unless they are explicitly allowlisted by the user via `torch.serialization.add_safe_globals`. We recommend you start setting `weights_only=True` for any use case where you don't have full control of the loaded file. Please open an issue on GitHub for any issues related to this experimental feature.\n",
      "\u001b[36m(launch_and_fit pid=13704)\u001b[0m   return torch.load(io.BytesIO(b))\n",
      "\u001b[36m(launch_and_fit pid=13936)\u001b[0m /opt/conda/envs/fed/lib/python3.10/site-packages/torch/storage.py:414: FutureWarning: You are using `torch.load` with `weights_only=False` (the current default value), which uses the default pickle module implicitly. It is possible to construct malicious pickle data which will execute arbitrary code during unpickling (See https://github.com/pytorch/pytorch/blob/main/SECURITY.md#untrusted-models for more details). In a future release, the default value for `weights_only` will be flipped to `True`. This limits the functions that could be executed during unpickling. Arbitrary objects will no longer be allowed to be loaded via this mode unless they are explicitly allowlisted by the user via `torch.serialization.add_safe_globals`. We recommend you start setting `weights_only=True` for any use case where you don't have full control of the loaded file. Please open an issue on GitHub for any issues related to this experimental feature.\n",
      "\u001b[36m(launch_and_fit pid=13936)\u001b[0m   return torch.load(io.BytesIO(b))\n"
     ]
    },
    {
     "name": "stdout",
     "output_type": "stream",
     "text": [
      "\u001b[36m(launch_and_fit pid=13704)\u001b[0m Run with homomorphic encryption\n",
      "\u001b[36m(launch_and_fit pid=13936)\u001b[0m Run with homomorphic encryption\n",
      "\u001b[36m(launch_and_fit pid=13704)\u001b[0m [Client 1, round 4] fit, config: {'learning_rate': 0.003, 'batch_size': '32', 'server_round': 4, 'local_epochs': 10}\n",
      "\u001b[36m(launch_and_fit pid=13704)\u001b[0m Updated model\n"
     ]
    },
    {
     "name": "stderr",
     "output_type": "stream",
     "text": [
      "  0%|\u001b[34m          \u001b[0m| 0/10 [00:00<?, ?it/s]\n",
      "ERROR flwr 2024-08-05 04:29:44,155 | ray_client_proxy.py:87 | Task was killed due to the node running low on memory.\n",
      "\n",
      "Refer to the documentation on how to address the out of memory issue: https://docs.ray.io/en/latest/ray-core/scheduling/ray-oom-prevention.html. Consider provisioning more memory on this node or reducing task parallelism by requesting more CPUs per task. To adjust the kill threshold, set the environment variable `RAY_memory_usage_threshold` when starting Ray. To disable worker killing, set the environment variable `RAY_memory_monitor_refresh_ms` to zero.\n",
      " 10%|\u001b[34m█         \u001b[0m| 1/10 [00:10<01:32, 10.24s/it]\n"
     ]
    },
    {
     "name": "stdout",
     "output_type": "stream",
     "text": [
      "\u001b[36m(launch_and_fit pid=13704)\u001b[0m \tTrain Epoch: 1 \tTrain_loss_mri: 1.3698 | Train_acc_mri: 33.3333 | Train_loss_dna: 1.7018 | Train_acc_dna: 31.2500 | Validation_loss_mri: 1.2785 | Validation_acc_mri: 50.0000 | Validation_loss_dna: 1.9567 | Validation_acc_dna: 25.0000\n",
      "\u001b[36m(launch_and_fit pid=13936)\u001b[0m [Client 8, round 4] fit, config: {'learning_rate': 0.003, 'batch_size': '32', 'server_round': 4, 'local_epochs': 10}\n"
     ]
    },
    {
     "name": "stderr",
     "output_type": "stream",
     "text": [
      " 20%|\u001b[34m██        \u001b[0m| 2/10 [00:12<00:43,  5.45s/it]\n"
     ]
    },
    {
     "name": "stdout",
     "output_type": "stream",
     "text": [
      "\u001b[36m(launch_and_fit pid=13704)\u001b[0m \tTrain Epoch: 2 \tTrain_loss_mri: 1.3594 | Train_acc_mri: 27.0833 | Train_loss_dna: 1.7251 | Train_acc_dna: 33.3333 | Validation_loss_mri: 1.3416 | Validation_acc_mri: 50.0000 | Validation_loss_dna: 1.8306 | Validation_acc_dna: 25.0000\n"
     ]
    },
    {
     "name": "stderr",
     "output_type": "stream",
     "text": [
      " 30%|\u001b[34m███       \u001b[0m| 3/10 [00:14<00:27,  3.92s/it]\n"
     ]
    },
    {
     "name": "stdout",
     "output_type": "stream",
     "text": [
      "\u001b[36m(launch_and_fit pid=13704)\u001b[0m \tTrain Epoch: 3 \tTrain_loss_mri: 1.3576 | Train_acc_mri: 30.2083 | Train_loss_dna: 1.7573 | Train_acc_dna: 34.3750 | Validation_loss_mri: 1.2427 | Validation_acc_mri: 50.0000 | Validation_loss_dna: 1.9871 | Validation_acc_dna: 0.0000\n"
     ]
    },
    {
     "name": "stderr",
     "output_type": "stream",
     "text": [
      " 40%|\u001b[34m████      \u001b[0m| 4/10 [00:16<00:19,  3.19s/it]\n"
     ]
    },
    {
     "name": "stdout",
     "output_type": "stream",
     "text": [
      "\u001b[36m(launch_and_fit pid=13704)\u001b[0m \tTrain Epoch: 4 \tTrain_loss_mri: 1.2855 | Train_acc_mri: 39.5833 | Train_loss_dna: 1.7326 | Train_acc_dna: 34.3750 | Validation_loss_mri: 1.2586 | Validation_acc_mri: 50.0000 | Validation_loss_dna: 1.9133 | Validation_acc_dna: 0.0000\n"
     ]
    },
    {
     "name": "stderr",
     "output_type": "stream",
     "text": [
      " 50%|\u001b[34m█████     \u001b[0m| 5/10 [00:18<00:14,  2.81s/it]\n"
     ]
    },
    {
     "name": "stdout",
     "output_type": "stream",
     "text": [
      "\u001b[36m(launch_and_fit pid=13704)\u001b[0m \tTrain Epoch: 5 \tTrain_loss_mri: 1.3485 | Train_acc_mri: 27.0833 | Train_loss_dna: 1.7433 | Train_acc_dna: 28.1250 | Validation_loss_mri: 1.2411 | Validation_acc_mri: 62.5000 | Validation_loss_dna: 1.9054 | Validation_acc_dna: 0.0000\n"
     ]
    },
    {
     "name": "stderr",
     "output_type": "stream",
     "text": [
      "\u001b[33m(raylet)\u001b[0m [2024-08-05 04:30:03,911 E 5901 5901] (raylet) node_manager.cc:3064: 1 Workers (tasks / actors) killed due to memory pressure (OOM), 0 Workers crashed due to other reasons at node (ID: 56a5e3c87d3ec0ccb4c476f81cf9b86de127e2bba9c5eacdfac15393, IP: 10.0.1.229) over the last time period. To see more information about the Workers killed on this node, use `ray logs raylet.out -ip 10.0.1.229`\n",
      "\u001b[33m(raylet)\u001b[0m \n",
      "\u001b[33m(raylet)\u001b[0m Refer to the documentation on how to address the out of memory issue: https://docs.ray.io/en/latest/ray-core/scheduling/ray-oom-prevention.html. Consider provisioning more memory on this node or reducing task parallelism by requesting more CPUs per task. To adjust the kill threshold, set the environment variable `RAY_memory_usage_threshold` when starting Ray. To disable worker killing, set the environment variable `RAY_memory_monitor_refresh_ms` to zero.\n",
      " 60%|\u001b[34m██████    \u001b[0m| 6/10 [00:20<00:10,  2.55s/it]\n"
     ]
    },
    {
     "name": "stdout",
     "output_type": "stream",
     "text": [
      "\u001b[36m(launch_and_fit pid=13704)\u001b[0m \tTrain Epoch: 6 \tTrain_loss_mri: 1.3393 | Train_acc_mri: 28.1250 | Train_loss_dna: 1.6850 | Train_acc_dna: 37.5000 | Validation_loss_mri: 1.3709 | Validation_acc_mri: 50.0000 | Validation_loss_dna: 1.8034 | Validation_acc_dna: 12.5000\n"
     ]
    },
    {
     "name": "stderr",
     "output_type": "stream",
     "text": [
      " 70%|\u001b[34m███████   \u001b[0m| 7/10 [00:23<00:07,  2.49s/it]\n"
     ]
    },
    {
     "name": "stdout",
     "output_type": "stream",
     "text": [
      "\u001b[36m(launch_and_fit pid=13704)\u001b[0m \tTrain Epoch: 7 \tTrain_loss_mri: 1.2844 | Train_acc_mri: 36.4583 | Train_loss_dna: 1.6134 | Train_acc_dna: 34.3750 | Validation_loss_mri: 1.2867 | Validation_acc_mri: 50.0000 | Validation_loss_dna: 1.8941 | Validation_acc_dna: 0.0000\n"
     ]
    },
    {
     "name": "stderr",
     "output_type": "stream",
     "text": [
      " 80%|\u001b[34m████████  \u001b[0m| 8/10 [00:25<00:04,  2.34s/it]\n"
     ]
    },
    {
     "name": "stdout",
     "output_type": "stream",
     "text": [
      "\u001b[36m(launch_and_fit pid=13704)\u001b[0m \tTrain Epoch: 8 \tTrain_loss_mri: 1.3043 | Train_acc_mri: 46.8750 | Train_loss_dna: 1.6243 | Train_acc_dna: 31.2500 | Validation_loss_mri: 1.3823 | Validation_acc_mri: 50.0000 | Validation_loss_dna: 1.8845 | Validation_acc_dna: 12.5000\n"
     ]
    },
    {
     "name": "stderr",
     "output_type": "stream",
     "text": [
      " 90%|\u001b[34m█████████ \u001b[0m| 9/10 [00:27<00:02,  2.27s/it]\n"
     ]
    },
    {
     "name": "stdout",
     "output_type": "stream",
     "text": [
      "\u001b[36m(launch_and_fit pid=13704)\u001b[0m \tTrain Epoch: 9 \tTrain_loss_mri: 1.3517 | Train_acc_mri: 34.3750 | Train_loss_dna: 1.6664 | Train_acc_dna: 31.2500 | Validation_loss_mri: 1.3544 | Validation_acc_mri: 50.0000 | Validation_loss_dna: 1.9904 | Validation_acc_dna: 12.5000\n"
     ]
    },
    {
     "name": "stderr",
     "output_type": "stream",
     "text": [
      "100%|\u001b[34m██████████\u001b[0m| 10/10 [00:29<00:00,  2.93s/it]\n"
     ]
    },
    {
     "name": "stdout",
     "output_type": "stream",
     "text": [
      "\u001b[36m(launch_and_fit pid=13704)\u001b[0m \tTrain Epoch: 10 \tTrain_loss_mri: 1.3572 | Train_acc_mri: 34.3750 | Train_loss_dna: 1.6613 | Train_acc_dna: 32.2917 | Validation_loss_mri: 1.2884 | Validation_acc_mri: 50.0000 | Validation_loss_dna: 2.0198 | Validation_acc_dna: 12.5000\n",
      "\u001b[36m(launch_and_fit pid=13704)\u001b[0m save graph in  results/FL/\n",
      "\u001b[36m(launch_and_fit pid=13704)\u001b[0m mri_net.features.0.weight 3.814697265625e-06\n",
      "\u001b[36m(launch_and_fit pid=13704)\u001b[0m mri_net.features.0.bias 7.152557373046875e-07\n",
      "\u001b[36m(launch_and_fit pid=13704)\u001b[0m mri_net.features.3.weight 4.76837158203125e-07\n",
      "\u001b[36m(launch_and_fit pid=13704)\u001b[0m mri_net.features.3.bias 4.76837158203125e-07\n",
      "\u001b[36m(launch_and_fit pid=13704)\u001b[0m mri_net.classifier.0.weight 4.76837158203125e-07\n",
      "\u001b[36m(launch_and_fit pid=13704)\u001b[0m mri_net.classifier.0.bias 7.152557373046875e-07\n",
      "\u001b[36m(launch_and_fit pid=13704)\u001b[0m mri_net.classifier.2.weight 4.76837158203125e-07\n",
      "\u001b[36m(launch_and_fit pid=13704)\u001b[0m mri_net.classifier.2.bias 4.76837158203125e-07\n",
      "\u001b[36m(launch_and_fit pid=13704)\u001b[0m mri_net.classifier.3.weights 4.76837158203125e-07\n",
      "\u001b[36m(launch_and_fit pid=13704)\u001b[0m dna_net.fc1.weight 4.76837158203125e-07\n",
      "\u001b[36m(launch_and_fit pid=13704)\u001b[0m dna_net.fc1.bias 4.76837158203125e-07\n",
      "\u001b[36m(launch_and_fit pid=13704)\u001b[0m dna_net.fc2.weight 2.384185791015625e-07\n",
      "\u001b[36m(launch_and_fit pid=13704)\u001b[0m dna_net.fc2.bias 7.152557373046875e-07\n",
      "\u001b[36m(launch_and_fit pid=13704)\u001b[0m dna_net.fc3.weight 4.76837158203125e-07\n",
      "\u001b[36m(launch_and_fit pid=13704)\u001b[0m dna_net.fc3.bias 4.76837158203125e-07\n",
      "\u001b[36m(launch_and_fit pid=13704)\u001b[0m dna_net.fc4.weight 4.76837158203125e-07\n",
      "\u001b[36m(launch_and_fit pid=13704)\u001b[0m dna_net.fc4.bias 4.76837158203125e-07\n",
      "\u001b[36m(launch_and_fit pid=13704)\u001b[0m dna_net.qnn.weights 4.76837158203125e-07\n",
      "\u001b[36m(launch_and_fit pid=13704)\u001b[0m attention.in_proj_weight 4.76837158203125e-07\n",
      "\u001b[36m(launch_and_fit pid=13704)\u001b[0m attention.in_proj_bias 7.152557373046875e-07\n",
      "\u001b[36m(launch_and_fit pid=13704)\u001b[0m attention.out_proj.weight 4.76837158203125e-07\n",
      "\u001b[36m(launch_and_fit pid=13704)\u001b[0m attention.out_proj.bias 2.384185791015625e-07\n",
      "\u001b[36m(launch_and_fit pid=13704)\u001b[0m fc1.weight 4.76837158203125e-07\n",
      "\u001b[36m(launch_and_fit pid=13704)\u001b[0m fc1.bias 4.76837158203125e-07\n",
      "\u001b[36m(launch_and_fit pid=13704)\u001b[0m fc2_mri.weight 4.76837158203125e-07\n",
      "\u001b[36m(launch_and_fit pid=13704)\u001b[0m fc2_mri.bias 4.76837158203125e-07\n",
      "\u001b[36m(launch_and_fit pid=13704)\u001b[0m fc2_dna.weight 2.384185791015625e-07\n",
      "\u001b[36m(launch_and_fit pid=13704)\u001b[0m fc2_dna.bias 2.384185791015625e-07\n"
     ]
    },
    {
     "name": "stderr",
     "output_type": "stream",
     "text": [
      "DEBUG flwr 2024-08-05 04:30:14,581 | server.py:236 | fit_round 4 received 9 results and 1 failures\n"
     ]
    },
    {
     "name": "stdout",
     "output_type": "stream",
     "text": [
      "Saving round 4 aggregated_parameters...\n"
     ]
    },
    {
     "name": "stderr",
     "output_type": "stream",
     "text": [
      "DEBUG flwr 2024-08-05 04:30:16,240 | server.py:173 | evaluate_round 4: strategy sampled 10 clients (out of 10)\n"
     ]
    },
    {
     "name": "stdout",
     "output_type": "stream",
     "text": [
      "\u001b[36m(launch_and_evaluate pid=13704)\u001b[0m Run with homomorphic encryption\n",
      "\u001b[36m(launch_and_evaluate pid=13704)\u001b[0m [Client 0] evaluate, config: {}\n",
      "\u001b[36m(launch_and_evaluate pid=13704)\u001b[0m Updated model\n"
     ]
    },
    {
     "name": "stderr",
     "output_type": "stream",
     "text": [
      "\u001b[36m(launch_and_evaluate pid=13704)\u001b[0m /home/codespace/.local/lib/python3.10/site-packages/sklearn/metrics/_ranking.py:1183: UndefinedMetricWarning: No positive samples in y_true, true positive value should be meaningless\n",
      "\u001b[36m(launch_and_evaluate pid=13704)\u001b[0m   warnings.warn(\n",
      "\u001b[36m(launch_and_evaluate pid=13704)\u001b[0m /home/codespace/.local/lib/python3.10/site-packages/sklearn/metrics/_ranking.py:1183: UndefinedMetricWarning: No positive samples in y_true, true positive value should be meaningless\n",
      "\u001b[36m(launch_and_evaluate pid=13704)\u001b[0m   warnings.warn(\n",
      "\u001b[36m(launch_and_evaluate pid=13704)\u001b[0m /home/codespace/.local/lib/python3.10/site-packages/sklearn/metrics/_ranking.py:1183: UndefinedMetricWarning: No positive samples in y_true, true positive value should be meaningless\n",
      "\u001b[36m(launch_and_evaluate pid=13704)\u001b[0m   warnings.warn(\n",
      "\u001b[36m(launch_and_evaluate pid=13704)\u001b[0m /home/codespace/.local/lib/python3.10/site-packages/sklearn/metrics/_ranking.py:1183: UndefinedMetricWarning: No positive samples in y_true, true positive value should be meaningless\n",
      "\u001b[36m(launch_and_evaluate pid=13704)\u001b[0m   warnings.warn(\n",
      "\u001b[36m(launch_and_evaluate pid=13704)\u001b[0m /opt/conda/envs/fed/lib/python3.10/site-packages/torch/storage.py:414: FutureWarning: You are using `torch.load` with `weights_only=False` (the current default value), which uses the default pickle module implicitly. It is possible to construct malicious pickle data which will execute arbitrary code during unpickling (See https://github.com/pytorch/pytorch/blob/main/SECURITY.md#untrusted-models for more details). In a future release, the default value for `weights_only` will be flipped to `True`. This limits the functions that could be executed during unpickling. Arbitrary objects will no longer be allowed to be loaded via this mode unless they are explicitly allowlisted by the user via `torch.serialization.add_safe_globals`. We recommend you start setting `weights_only=True` for any use case where you don't have full control of the loaded file. Please open an issue on GitHub for any issues related to this experimental feature.\n",
      "\u001b[36m(launch_and_evaluate pid=13704)\u001b[0m   return torch.load(io.BytesIO(b))\n"
     ]
    },
    {
     "name": "stdout",
     "output_type": "stream",
     "text": [
      "\u001b[36m(launch_and_evaluate pid=13704)\u001b[0m Run with homomorphic encryption\n",
      "\u001b[36m(launch_and_evaluate pid=13704)\u001b[0m [Client 7] evaluate, config: {}\n",
      "\u001b[36m(launch_and_evaluate pid=13704)\u001b[0m Updated model\n"
     ]
    },
    {
     "name": "stderr",
     "output_type": "stream",
     "text": [
      "\u001b[36m(launch_and_evaluate pid=13704)\u001b[0m /home/codespace/.local/lib/python3.10/site-packages/sklearn/metrics/_ranking.py:1183: UndefinedMetricWarning: No positive samples in y_true, true positive value should be meaningless\n",
      "\u001b[36m(launch_and_evaluate pid=13704)\u001b[0m   warnings.warn(\n",
      "\u001b[36m(launch_and_evaluate pid=13704)\u001b[0m /home/codespace/.local/lib/python3.10/site-packages/sklearn/metrics/_ranking.py:1183: UndefinedMetricWarning: No positive samples in y_true, true positive value should be meaningless\n",
      "\u001b[36m(launch_and_evaluate pid=13704)\u001b[0m   warnings.warn(\n",
      "\u001b[36m(launch_and_evaluate pid=13704)\u001b[0m /opt/conda/envs/fed/lib/python3.10/site-packages/torch/storage.py:414: FutureWarning: You are using `torch.load` with `weights_only=False` (the current default value), which uses the default pickle module implicitly. It is possible to construct malicious pickle data which will execute arbitrary code during unpickling (See https://github.com/pytorch/pytorch/blob/main/SECURITY.md#untrusted-models for more details). In a future release, the default value for `weights_only` will be flipped to `True`. This limits the functions that could be executed during unpickling. Arbitrary objects will no longer be allowed to be loaded via this mode unless they are explicitly allowlisted by the user via `torch.serialization.add_safe_globals`. We recommend you start setting `weights_only=True` for any use case where you don't have full control of the loaded file. Please open an issue on GitHub for any issues related to this experimental feature.\n",
      "\u001b[36m(launch_and_evaluate pid=13704)\u001b[0m   return torch.load(io.BytesIO(b))\n"
     ]
    },
    {
     "name": "stdout",
     "output_type": "stream",
     "text": [
      "\u001b[36m(launch_and_evaluate pid=13704)\u001b[0m Run with homomorphic encryption\n",
      "\u001b[36m(launch_and_evaluate pid=13704)\u001b[0m [Client 3] evaluate, config: {}\n",
      "\u001b[36m(launch_and_evaluate pid=13704)\u001b[0m Updated model\n"
     ]
    },
    {
     "name": "stderr",
     "output_type": "stream",
     "text": [
      "\u001b[36m(launch_and_evaluate pid=13704)\u001b[0m /home/codespace/.local/lib/python3.10/site-packages/sklearn/metrics/_ranking.py:1183: UndefinedMetricWarning: No positive samples in y_true, true positive value should be meaningless\n",
      "\u001b[36m(launch_and_evaluate pid=13704)\u001b[0m   warnings.warn(\n",
      "\u001b[36m(launch_and_evaluate pid=13704)\u001b[0m /home/codespace/.local/lib/python3.10/site-packages/sklearn/metrics/_ranking.py:1183: UndefinedMetricWarning: No positive samples in y_true, true positive value should be meaningless\n",
      "\u001b[36m(launch_and_evaluate pid=13704)\u001b[0m   warnings.warn(\n",
      "\u001b[36m(launch_and_evaluate pid=13704)\u001b[0m /home/codespace/.local/lib/python3.10/site-packages/sklearn/metrics/_ranking.py:1183: UndefinedMetricWarning: No positive samples in y_true, true positive value should be meaningless\n",
      "\u001b[36m(launch_and_evaluate pid=13704)\u001b[0m   warnings.warn(\n",
      "\u001b[36m(launch_and_evaluate pid=13704)\u001b[0m /home/codespace/.local/lib/python3.10/site-packages/sklearn/metrics/_ranking.py:1183: UndefinedMetricWarning: No positive samples in y_true, true positive value should be meaningless\n",
      "\u001b[36m(launch_and_evaluate pid=13704)\u001b[0m   warnings.warn(\n",
      "\u001b[36m(launch_and_evaluate pid=13704)\u001b[0m /opt/conda/envs/fed/lib/python3.10/site-packages/torch/storage.py:414: FutureWarning: You are using `torch.load` with `weights_only=False` (the current default value), which uses the default pickle module implicitly. It is possible to construct malicious pickle data which will execute arbitrary code during unpickling (See https://github.com/pytorch/pytorch/blob/main/SECURITY.md#untrusted-models for more details). In a future release, the default value for `weights_only` will be flipped to `True`. This limits the functions that could be executed during unpickling. Arbitrary objects will no longer be allowed to be loaded via this mode unless they are explicitly allowlisted by the user via `torch.serialization.add_safe_globals`. We recommend you start setting `weights_only=True` for any use case where you don't have full control of the loaded file. Please open an issue on GitHub for any issues related to this experimental feature.\n",
      "\u001b[36m(launch_and_evaluate pid=13704)\u001b[0m   return torch.load(io.BytesIO(b))\n"
     ]
    },
    {
     "name": "stdout",
     "output_type": "stream",
     "text": [
      "\u001b[36m(launch_and_evaluate pid=13704)\u001b[0m Run with homomorphic encryption\n",
      "\u001b[36m(launch_and_evaluate pid=13704)\u001b[0m [Client 4] evaluate, config: {}\n",
      "\u001b[36m(launch_and_evaluate pid=13704)\u001b[0m Updated model\n"
     ]
    },
    {
     "name": "stderr",
     "output_type": "stream",
     "text": [
      "\u001b[36m(launch_and_evaluate pid=13704)\u001b[0m /home/codespace/.local/lib/python3.10/site-packages/sklearn/metrics/_ranking.py:1183: UndefinedMetricWarning: No positive samples in y_true, true positive value should be meaningless\n",
      "\u001b[36m(launch_and_evaluate pid=13704)\u001b[0m   warnings.warn(\n",
      "\u001b[36m(launch_and_evaluate pid=13704)\u001b[0m /home/codespace/.local/lib/python3.10/site-packages/sklearn/metrics/_ranking.py:1183: UndefinedMetricWarning: No positive samples in y_true, true positive value should be meaningless\n",
      "\u001b[36m(launch_and_evaluate pid=13704)\u001b[0m   warnings.warn(\n",
      "\u001b[36m(launch_and_evaluate pid=13704)\u001b[0m /home/codespace/.local/lib/python3.10/site-packages/sklearn/metrics/_ranking.py:1183: UndefinedMetricWarning: No positive samples in y_true, true positive value should be meaningless\n",
      "\u001b[36m(launch_and_evaluate pid=13704)\u001b[0m   warnings.warn(\n",
      "\u001b[36m(launch_and_evaluate pid=13704)\u001b[0m /opt/conda/envs/fed/lib/python3.10/site-packages/torch/storage.py:414: FutureWarning: You are using `torch.load` with `weights_only=False` (the current default value), which uses the default pickle module implicitly. It is possible to construct malicious pickle data which will execute arbitrary code during unpickling (See https://github.com/pytorch/pytorch/blob/main/SECURITY.md#untrusted-models for more details). In a future release, the default value for `weights_only` will be flipped to `True`. This limits the functions that could be executed during unpickling. Arbitrary objects will no longer be allowed to be loaded via this mode unless they are explicitly allowlisted by the user via `torch.serialization.add_safe_globals`. We recommend you start setting `weights_only=True` for any use case where you don't have full control of the loaded file. Please open an issue on GitHub for any issues related to this experimental feature.\n",
      "\u001b[36m(launch_and_evaluate pid=13704)\u001b[0m   return torch.load(io.BytesIO(b))\n"
     ]
    },
    {
     "name": "stdout",
     "output_type": "stream",
     "text": [
      "\u001b[36m(launch_and_evaluate pid=13704)\u001b[0m Run with homomorphic encryption\n",
      "\u001b[36m(launch_and_evaluate pid=13704)\u001b[0m [Client 8] evaluate, config: {}\n",
      "\u001b[36m(launch_and_evaluate pid=13704)\u001b[0m Updated model\n"
     ]
    },
    {
     "name": "stderr",
     "output_type": "stream",
     "text": [
      "\u001b[36m(launch_and_evaluate pid=13704)\u001b[0m /home/codespace/.local/lib/python3.10/site-packages/sklearn/metrics/_ranking.py:1183: UndefinedMetricWarning: No positive samples in y_true, true positive value should be meaningless\n",
      "\u001b[36m(launch_and_evaluate pid=13704)\u001b[0m   warnings.warn(\n",
      "\u001b[36m(launch_and_evaluate pid=13704)\u001b[0m /home/codespace/.local/lib/python3.10/site-packages/sklearn/metrics/_ranking.py:1183: UndefinedMetricWarning: No positive samples in y_true, true positive value should be meaningless\n",
      "\u001b[36m(launch_and_evaluate pid=13704)\u001b[0m   warnings.warn(\n",
      "\u001b[36m(launch_and_evaluate pid=13704)\u001b[0m /opt/conda/envs/fed/lib/python3.10/site-packages/torch/storage.py:414: FutureWarning: You are using `torch.load` with `weights_only=False` (the current default value), which uses the default pickle module implicitly. It is possible to construct malicious pickle data which will execute arbitrary code during unpickling (See https://github.com/pytorch/pytorch/blob/main/SECURITY.md#untrusted-models for more details). In a future release, the default value for `weights_only` will be flipped to `True`. This limits the functions that could be executed during unpickling. Arbitrary objects will no longer be allowed to be loaded via this mode unless they are explicitly allowlisted by the user via `torch.serialization.add_safe_globals`. We recommend you start setting `weights_only=True` for any use case where you don't have full control of the loaded file. Please open an issue on GitHub for any issues related to this experimental feature.\n",
      "\u001b[36m(launch_and_evaluate pid=13704)\u001b[0m   return torch.load(io.BytesIO(b))\n"
     ]
    },
    {
     "name": "stdout",
     "output_type": "stream",
     "text": [
      "\u001b[36m(launch_and_evaluate pid=13704)\u001b[0m Run with homomorphic encryption\n",
      "\u001b[36m(launch_and_evaluate pid=13704)\u001b[0m [Client 6] evaluate, config: {}\n",
      "\u001b[36m(launch_and_evaluate pid=13704)\u001b[0m Updated model\n"
     ]
    },
    {
     "name": "stderr",
     "output_type": "stream",
     "text": [
      "\u001b[36m(launch_and_evaluate pid=13704)\u001b[0m /home/codespace/.local/lib/python3.10/site-packages/sklearn/metrics/_ranking.py:1183: UndefinedMetricWarning: No positive samples in y_true, true positive value should be meaningless\n",
      "\u001b[36m(launch_and_evaluate pid=13704)\u001b[0m   warnings.warn(\n",
      "\u001b[36m(launch_and_evaluate pid=13704)\u001b[0m /home/codespace/.local/lib/python3.10/site-packages/sklearn/metrics/_ranking.py:1183: UndefinedMetricWarning: No positive samples in y_true, true positive value should be meaningless\n",
      "\u001b[36m(launch_and_evaluate pid=13704)\u001b[0m   warnings.warn(\n",
      "\u001b[36m(launch_and_evaluate pid=13704)\u001b[0m /home/codespace/.local/lib/python3.10/site-packages/sklearn/metrics/_ranking.py:1183: UndefinedMetricWarning: No positive samples in y_true, true positive value should be meaningless\n",
      "\u001b[36m(launch_and_evaluate pid=13704)\u001b[0m   warnings.warn(\n",
      "\u001b[36m(launch_and_evaluate pid=13704)\u001b[0m /home/codespace/.local/lib/python3.10/site-packages/sklearn/metrics/_ranking.py:1183: UndefinedMetricWarning: No positive samples in y_true, true positive value should be meaningless\n",
      "\u001b[36m(launch_and_evaluate pid=13704)\u001b[0m   warnings.warn(\n",
      "\u001b[36m(launch_and_evaluate pid=13704)\u001b[0m /home/codespace/.local/lib/python3.10/site-packages/sklearn/metrics/_ranking.py:1183: UndefinedMetricWarning: No positive samples in y_true, true positive value should be meaningless\n",
      "\u001b[36m(launch_and_evaluate pid=13704)\u001b[0m   warnings.warn(\n",
      "\u001b[36m(launch_and_evaluate pid=13704)\u001b[0m /opt/conda/envs/fed/lib/python3.10/site-packages/torch/storage.py:414: FutureWarning: You are using `torch.load` with `weights_only=False` (the current default value), which uses the default pickle module implicitly. It is possible to construct malicious pickle data which will execute arbitrary code during unpickling (See https://github.com/pytorch/pytorch/blob/main/SECURITY.md#untrusted-models for more details). In a future release, the default value for `weights_only` will be flipped to `True`. This limits the functions that could be executed during unpickling. Arbitrary objects will no longer be allowed to be loaded via this mode unless they are explicitly allowlisted by the user via `torch.serialization.add_safe_globals`. We recommend you start setting `weights_only=True` for any use case where you don't have full control of the loaded file. Please open an issue on GitHub for any issues related to this experimental feature.\n",
      "\u001b[36m(launch_and_evaluate pid=13704)\u001b[0m   return torch.load(io.BytesIO(b))\n"
     ]
    },
    {
     "name": "stdout",
     "output_type": "stream",
     "text": [
      "\u001b[36m(launch_and_evaluate pid=13704)\u001b[0m Run with homomorphic encryption\n",
      "\u001b[36m(launch_and_evaluate pid=13704)\u001b[0m [Client 1] evaluate, config: {}\n",
      "\u001b[36m(launch_and_evaluate pid=13704)\u001b[0m Updated model\n"
     ]
    },
    {
     "name": "stderr",
     "output_type": "stream",
     "text": [
      "\u001b[36m(launch_and_evaluate pid=13704)\u001b[0m /home/codespace/.local/lib/python3.10/site-packages/sklearn/metrics/_ranking.py:1183: UndefinedMetricWarning: No positive samples in y_true, true positive value should be meaningless\n",
      "\u001b[36m(launch_and_evaluate pid=13704)\u001b[0m   warnings.warn(\n",
      "\u001b[36m(launch_and_evaluate pid=13704)\u001b[0m /home/codespace/.local/lib/python3.10/site-packages/sklearn/metrics/_ranking.py:1183: UndefinedMetricWarning: No positive samples in y_true, true positive value should be meaningless\n",
      "\u001b[36m(launch_and_evaluate pid=13704)\u001b[0m   warnings.warn(\n",
      "\u001b[36m(launch_and_evaluate pid=13704)\u001b[0m /home/codespace/.local/lib/python3.10/site-packages/sklearn/metrics/_ranking.py:1183: UndefinedMetricWarning: No positive samples in y_true, true positive value should be meaningless\n",
      "\u001b[36m(launch_and_evaluate pid=13704)\u001b[0m   warnings.warn(\n",
      "\u001b[36m(launch_and_evaluate pid=13704)\u001b[0m /opt/conda/envs/fed/lib/python3.10/site-packages/torch/storage.py:414: FutureWarning: You are using `torch.load` with `weights_only=False` (the current default value), which uses the default pickle module implicitly. It is possible to construct malicious pickle data which will execute arbitrary code during unpickling (See https://github.com/pytorch/pytorch/blob/main/SECURITY.md#untrusted-models for more details). In a future release, the default value for `weights_only` will be flipped to `True`. This limits the functions that could be executed during unpickling. Arbitrary objects will no longer be allowed to be loaded via this mode unless they are explicitly allowlisted by the user via `torch.serialization.add_safe_globals`. We recommend you start setting `weights_only=True` for any use case where you don't have full control of the loaded file. Please open an issue on GitHub for any issues related to this experimental feature.\n",
      "\u001b[36m(launch_and_evaluate pid=13704)\u001b[0m   return torch.load(io.BytesIO(b))\n"
     ]
    },
    {
     "name": "stdout",
     "output_type": "stream",
     "text": [
      "\u001b[36m(launch_and_evaluate pid=13704)\u001b[0m Run with homomorphic encryption\n",
      "\u001b[36m(launch_and_evaluate pid=13704)\u001b[0m [Client 2] evaluate, config: {}\n",
      "\u001b[36m(launch_and_evaluate pid=13704)\u001b[0m Updated model\n"
     ]
    },
    {
     "name": "stderr",
     "output_type": "stream",
     "text": [
      "\u001b[36m(launch_and_evaluate pid=13704)\u001b[0m /home/codespace/.local/lib/python3.10/site-packages/sklearn/metrics/_ranking.py:1183: UndefinedMetricWarning: No positive samples in y_true, true positive value should be meaningless\n",
      "\u001b[36m(launch_and_evaluate pid=13704)\u001b[0m   warnings.warn(\n",
      "\u001b[36m(launch_and_evaluate pid=13704)\u001b[0m /home/codespace/.local/lib/python3.10/site-packages/sklearn/metrics/_ranking.py:1183: UndefinedMetricWarning: No positive samples in y_true, true positive value should be meaningless\n",
      "\u001b[36m(launch_and_evaluate pid=13704)\u001b[0m   warnings.warn(\n",
      "\u001b[36m(launch_and_evaluate pid=13704)\u001b[0m /home/codespace/.local/lib/python3.10/site-packages/sklearn/metrics/_ranking.py:1183: UndefinedMetricWarning: No positive samples in y_true, true positive value should be meaningless\n",
      "\u001b[36m(launch_and_evaluate pid=13704)\u001b[0m   warnings.warn(\n",
      "\u001b[36m(launch_and_evaluate pid=13704)\u001b[0m /home/codespace/.local/lib/python3.10/site-packages/sklearn/metrics/_ranking.py:1183: UndefinedMetricWarning: No positive samples in y_true, true positive value should be meaningless\n",
      "\u001b[36m(launch_and_evaluate pid=13704)\u001b[0m   warnings.warn(\n",
      "\u001b[36m(launch_and_evaluate pid=13704)\u001b[0m /home/codespace/.local/lib/python3.10/site-packages/sklearn/metrics/_ranking.py:1183: UndefinedMetricWarning: No positive samples in y_true, true positive value should be meaningless\n",
      "\u001b[36m(launch_and_evaluate pid=13704)\u001b[0m   warnings.warn(\n",
      "\u001b[36m(launch_and_evaluate pid=13704)\u001b[0m /opt/conda/envs/fed/lib/python3.10/site-packages/torch/storage.py:414: FutureWarning: You are using `torch.load` with `weights_only=False` (the current default value), which uses the default pickle module implicitly. It is possible to construct malicious pickle data which will execute arbitrary code during unpickling (See https://github.com/pytorch/pytorch/blob/main/SECURITY.md#untrusted-models for more details). In a future release, the default value for `weights_only` will be flipped to `True`. This limits the functions that could be executed during unpickling. Arbitrary objects will no longer be allowed to be loaded via this mode unless they are explicitly allowlisted by the user via `torch.serialization.add_safe_globals`. We recommend you start setting `weights_only=True` for any use case where you don't have full control of the loaded file. Please open an issue on GitHub for any issues related to this experimental feature.\n",
      "\u001b[36m(launch_and_evaluate pid=13704)\u001b[0m   return torch.load(io.BytesIO(b))\n"
     ]
    },
    {
     "name": "stdout",
     "output_type": "stream",
     "text": [
      "\u001b[36m(launch_and_evaluate pid=13704)\u001b[0m Run with homomorphic encryption\n",
      "\u001b[36m(launch_and_evaluate pid=13704)\u001b[0m [Client 5] evaluate, config: {}\n",
      "\u001b[36m(launch_and_evaluate pid=13704)\u001b[0m Updated model\n"
     ]
    },
    {
     "name": "stderr",
     "output_type": "stream",
     "text": [
      "\u001b[36m(launch_and_evaluate pid=13704)\u001b[0m /home/codespace/.local/lib/python3.10/site-packages/sklearn/metrics/_ranking.py:1183: UndefinedMetricWarning: No positive samples in y_true, true positive value should be meaningless\n",
      "\u001b[36m(launch_and_evaluate pid=13704)\u001b[0m   warnings.warn(\n",
      "\u001b[36m(launch_and_evaluate pid=13704)\u001b[0m /home/codespace/.local/lib/python3.10/site-packages/sklearn/metrics/_ranking.py:1183: UndefinedMetricWarning: No positive samples in y_true, true positive value should be meaningless\n",
      "\u001b[36m(launch_and_evaluate pid=13704)\u001b[0m   warnings.warn(\n",
      "\u001b[36m(launch_and_evaluate pid=14239)\u001b[0m /opt/conda/envs/fed/lib/python3.10/site-packages/torch/storage.py:414: FutureWarning: You are using `torch.load` with `weights_only=False` (the current default value), which uses the default pickle module implicitly. It is possible to construct malicious pickle data which will execute arbitrary code during unpickling (See https://github.com/pytorch/pytorch/blob/main/SECURITY.md#untrusted-models for more details). In a future release, the default value for `weights_only` will be flipped to `True`. This limits the functions that could be executed during unpickling. Arbitrary objects will no longer be allowed to be loaded via this mode unless they are explicitly allowlisted by the user via `torch.serialization.add_safe_globals`. We recommend you start setting `weights_only=True` for any use case where you don't have full control of the loaded file. Please open an issue on GitHub for any issues related to this experimental feature.\n",
      "\u001b[36m(launch_and_evaluate pid=14239)\u001b[0m   return torch.load(io.BytesIO(b))\n"
     ]
    },
    {
     "name": "stdout",
     "output_type": "stream",
     "text": [
      "\u001b[36m(launch_and_evaluate pid=14239)\u001b[0m Run with homomorphic encryption\n",
      "\u001b[36m(launch_and_evaluate pid=14239)\u001b[0m [Client 9] evaluate, config: {}\n",
      "\u001b[36m(launch_and_evaluate pid=14239)\u001b[0m Updated model\n"
     ]
    },
    {
     "name": "stderr",
     "output_type": "stream",
     "text": [
      "\u001b[36m(launch_and_evaluate pid=14239)\u001b[0m /home/codespace/.local/lib/python3.10/site-packages/sklearn/metrics/_ranking.py:1183: UndefinedMetricWarning: No positive samples in y_true, true positive value should be meaningless\n",
      "\u001b[36m(launch_and_evaluate pid=14239)\u001b[0m   warnings.warn(\n",
      "\u001b[36m(launch_and_evaluate pid=14239)\u001b[0m /home/codespace/.local/lib/python3.10/site-packages/sklearn/metrics/_ranking.py:1183: UndefinedMetricWarning: No positive samples in y_true, true positive value should be meaningless\n",
      "\u001b[36m(launch_and_evaluate pid=14239)\u001b[0m   warnings.warn(\n",
      "\u001b[36m(launch_and_evaluate pid=14239)\u001b[0m /home/codespace/.local/lib/python3.10/site-packages/sklearn/metrics/_ranking.py:1183: UndefinedMetricWarning: No positive samples in y_true, true positive value should be meaningless\n",
      "\u001b[36m(launch_and_evaluate pid=14239)\u001b[0m   warnings.warn(\n",
      "DEBUG flwr 2024-08-05 04:30:58,171 | server.py:187 | evaluate_round 4 received 10 results and 0 failures\n",
      "DEBUG flwr 2024-08-05 04:30:58,172 | server.py:222 | fit_round 5: strategy sampled 10 clients (out of 10)\n",
      "\u001b[36m(launch_and_fit pid=13704)\u001b[0m /opt/conda/envs/fed/lib/python3.10/site-packages/torch/storage.py:414: FutureWarning: You are using `torch.load` with `weights_only=False` (the current default value), which uses the default pickle module implicitly. It is possible to construct malicious pickle data which will execute arbitrary code during unpickling (See https://github.com/pytorch/pytorch/blob/main/SECURITY.md#untrusted-models for more details). In a future release, the default value for `weights_only` will be flipped to `True`. This limits the functions that could be executed during unpickling. Arbitrary objects will no longer be allowed to be loaded via this mode unless they are explicitly allowlisted by the user via `torch.serialization.add_safe_globals`. We recommend you start setting `weights_only=True` for any use case where you don't have full control of the loaded file. Please open an issue on GitHub for any issues related to this experimental feature.\n",
      "\u001b[36m(launch_and_fit pid=13704)\u001b[0m   return torch.load(io.BytesIO(b))\n",
      "\u001b[36m(launch_and_fit pid=14239)\u001b[0m /opt/conda/envs/fed/lib/python3.10/site-packages/torch/storage.py:414: FutureWarning: You are using `torch.load` with `weights_only=False` (the current default value), which uses the default pickle module implicitly. It is possible to construct malicious pickle data which will execute arbitrary code during unpickling (See https://github.com/pytorch/pytorch/blob/main/SECURITY.md#untrusted-models for more details). In a future release, the default value for `weights_only` will be flipped to `True`. This limits the functions that could be executed during unpickling. Arbitrary objects will no longer be allowed to be loaded via this mode unless they are explicitly allowlisted by the user via `torch.serialization.add_safe_globals`. We recommend you start setting `weights_only=True` for any use case where you don't have full control of the loaded file. Please open an issue on GitHub for any issues related to this experimental feature.\n",
      "\u001b[36m(launch_and_fit pid=14239)\u001b[0m   return torch.load(io.BytesIO(b))\n"
     ]
    },
    {
     "name": "stdout",
     "output_type": "stream",
     "text": [
      "\u001b[36m(launch_and_fit pid=13704)\u001b[0m Run with homomorphic encryption\n",
      "\u001b[36m(launch_and_fit pid=13704)\u001b[0m [Client 3, round 5] fit, config: {'learning_rate': 0.003, 'batch_size': '32', 'server_round': 5, 'local_epochs': 10}\n",
      "\u001b[36m(launch_and_fit pid=14239)\u001b[0m Updated model\n"
     ]
    },
    {
     "name": "stderr",
     "output_type": "stream",
     "text": [
      "  0%|\u001b[34m          \u001b[0m| 0/10 [00:00<?, ?it/s]\n"
     ]
    },
    {
     "name": "stdout",
     "output_type": "stream",
     "text": [
      "\u001b[33m(raylet)\u001b[0m A worker died or was killed while executing a task by an unexpected system error. To troubleshoot the problem, check the logs for the dead worker. RayTask ID: 2e4db2af713082ec99b28f43ea9301f75bdd83ea01000000 Worker ID: e043c28e476f73810ca621c28683c4329e16b2089a380eed788817d0 Node ID: 56a5e3c87d3ec0ccb4c476f81cf9b86de127e2bba9c5eacdfac15393 Worker IP address: 10.0.1.229 Worker port: 40667 Worker PID: 13704 Worker exit type: SYSTEM_ERROR Worker exit detail: The leased worker has unrecoverable failure. Worker is requested to be destroyed when it is returned. Worker exits with an exit code 1. The process receives a SIGTERM.\n",
      "\u001b[36m(launch_and_fit pid=14239)\u001b[0m Run with homomorphic encryption\n",
      "\u001b[36m(launch_and_fit pid=14239)\u001b[0m [Client 7, round 5] fit, config: {'learning_rate': 0.003, 'batch_size': '32', 'server_round': 5, 'local_epochs': 10}\n"
     ]
    },
    {
     "name": "stderr",
     "output_type": "stream",
     "text": [
      " 10%|\u001b[34m█         \u001b[0m| 1/10 [00:15<02:21, 15.78s/it]\n"
     ]
    },
    {
     "name": "stdout",
     "output_type": "stream",
     "text": [
      "\u001b[36m(launch_and_fit pid=14239)\u001b[0m \tTrain Epoch: 1 \tTrain_loss_mri: 1.3445 | Train_acc_mri: 35.4167 | Train_loss_dna: 1.7542 | Train_acc_dna: 28.1250 | Validation_loss_mri: 1.3117 | Validation_acc_mri: 37.5000 | Validation_loss_dna: 1.8059 | Validation_acc_dna: 25.0000\n"
     ]
    },
    {
     "name": "stderr",
     "output_type": "stream",
     "text": [
      " 20%|\u001b[34m██        \u001b[0m| 2/10 [00:18<01:03,  7.95s/it]\n"
     ]
    },
    {
     "name": "stdout",
     "output_type": "stream",
     "text": [
      "\u001b[36m(launch_and_fit pid=14239)\u001b[0m \tTrain Epoch: 2 \tTrain_loss_mri: 1.3561 | Train_acc_mri: 32.2917 | Train_loss_dna: 1.7903 | Train_acc_dna: 25.0000 | Validation_loss_mri: 1.2863 | Validation_acc_mri: 37.5000 | Validation_loss_dna: 1.7189 | Validation_acc_dna: 37.5000\n"
     ]
    },
    {
     "name": "stderr",
     "output_type": "stream",
     "text": [
      " 30%|\u001b[34m███       \u001b[0m| 3/10 [00:20<00:37,  5.43s/it]\n"
     ]
    },
    {
     "name": "stdout",
     "output_type": "stream",
     "text": [
      "\u001b[36m(launch_and_fit pid=14239)\u001b[0m \tTrain Epoch: 3 \tTrain_loss_mri: 1.3410 | Train_acc_mri: 34.3750 | Train_loss_dna: 1.6770 | Train_acc_dna: 36.4583 | Validation_loss_mri: 1.2816 | Validation_acc_mri: 62.5000 | Validation_loss_dna: 1.7736 | Validation_acc_dna: 25.0000\n"
     ]
    },
    {
     "name": "stderr",
     "output_type": "stream",
     "text": [
      " 40%|\u001b[34m████      \u001b[0m| 4/10 [00:23<00:25,  4.25s/it]\n"
     ]
    },
    {
     "name": "stdout",
     "output_type": "stream",
     "text": [
      "\u001b[36m(launch_and_fit pid=14239)\u001b[0m \tTrain Epoch: 4 \tTrain_loss_mri: 1.3306 | Train_acc_mri: 45.8333 | Train_loss_dna: 1.7267 | Train_acc_dna: 29.1667 | Validation_loss_mri: 1.2912 | Validation_acc_mri: 25.0000 | Validation_loss_dna: 1.6577 | Validation_acc_dna: 37.5000\n"
     ]
    },
    {
     "name": "stderr",
     "output_type": "stream",
     "text": [
      " 50%|\u001b[34m█████     \u001b[0m| 5/10 [00:25<00:18,  3.65s/it]\n"
     ]
    },
    {
     "name": "stdout",
     "output_type": "stream",
     "text": [
      "\u001b[36m(launch_and_fit pid=14239)\u001b[0m \tTrain Epoch: 5 \tTrain_loss_mri: 1.2979 | Train_acc_mri: 43.7500 | Train_loss_dna: 1.6156 | Train_acc_dna: 39.5833 | Validation_loss_mri: 1.3300 | Validation_acc_mri: 25.0000 | Validation_loss_dna: 1.6275 | Validation_acc_dna: 37.5000\n"
     ]
    },
    {
     "name": "stderr",
     "output_type": "stream",
     "text": [
      " 60%|\u001b[34m██████    \u001b[0m| 6/10 [00:27<00:12,  3.16s/it]\n"
     ]
    },
    {
     "name": "stdout",
     "output_type": "stream",
     "text": [
      "\u001b[36m(launch_and_fit pid=14239)\u001b[0m \tTrain Epoch: 6 \tTrain_loss_mri: 1.2288 | Train_acc_mri: 43.7500 | Train_loss_dna: 1.4707 | Train_acc_dna: 52.0833 | Validation_loss_mri: 1.3531 | Validation_acc_mri: 25.0000 | Validation_loss_dna: 1.6378 | Validation_acc_dna: 37.5000\n"
     ]
    },
    {
     "name": "stderr",
     "output_type": "stream",
     "text": [
      " 70%|\u001b[34m███████   \u001b[0m| 7/10 [00:30<00:08,  2.97s/it]\n"
     ]
    },
    {
     "name": "stdout",
     "output_type": "stream",
     "text": [
      "\u001b[36m(launch_and_fit pid=14239)\u001b[0m \tTrain Epoch: 7 \tTrain_loss_mri: 1.2443 | Train_acc_mri: 42.7083 | Train_loss_dna: 1.5403 | Train_acc_dna: 34.3750 | Validation_loss_mri: 1.3430 | Validation_acc_mri: 25.0000 | Validation_loss_dna: 1.6141 | Validation_acc_dna: 37.5000\n"
     ]
    },
    {
     "name": "stderr",
     "output_type": "stream",
     "text": [
      " 80%|\u001b[34m████████  \u001b[0m| 8/10 [00:32<00:05,  2.72s/it]\n"
     ]
    },
    {
     "name": "stdout",
     "output_type": "stream",
     "text": [
      "\u001b[36m(launch_and_fit pid=14239)\u001b[0m \tTrain Epoch: 8 \tTrain_loss_mri: 1.2590 | Train_acc_mri: 35.4167 | Train_loss_dna: 1.3504 | Train_acc_dna: 48.9583 | Validation_loss_mri: 1.3444 | Validation_acc_mri: 37.5000 | Validation_loss_dna: 1.6657 | Validation_acc_dna: 37.5000\n"
     ]
    },
    {
     "name": "stderr",
     "output_type": "stream",
     "text": [
      " 90%|\u001b[34m█████████ \u001b[0m| 9/10 [00:35<00:02,  2.61s/it]\n"
     ]
    },
    {
     "name": "stdout",
     "output_type": "stream",
     "text": [
      "\u001b[36m(launch_and_fit pid=14239)\u001b[0m \tTrain Epoch: 9 \tTrain_loss_mri: 1.1817 | Train_acc_mri: 53.1250 | Train_loss_dna: 1.3476 | Train_acc_dna: 44.7917 | Validation_loss_mri: 1.2993 | Validation_acc_mri: 37.5000 | Validation_loss_dna: 1.6191 | Validation_acc_dna: 37.5000\n"
     ]
    },
    {
     "name": "stderr",
     "output_type": "stream",
     "text": [
      "100%|\u001b[34m██████████\u001b[0m| 10/10 [00:37<00:00,  3.74s/it]\n"
     ]
    },
    {
     "name": "stdout",
     "output_type": "stream",
     "text": [
      "\u001b[36m(launch_and_fit pid=14239)\u001b[0m \tTrain Epoch: 10 \tTrain_loss_mri: 1.0031 | Train_acc_mri: 61.4583 | Train_loss_dna: 1.3303 | Train_acc_dna: 41.6667 | Validation_loss_mri: 1.2332 | Validation_acc_mri: 37.5000 | Validation_loss_dna: 1.6983 | Validation_acc_dna: 37.5000\n",
      "\u001b[36m(launch_and_fit pid=14239)\u001b[0m save graph in  results/FL/\n",
      "\u001b[36m(launch_and_fit pid=14239)\u001b[0m mri_net.features.0.weight 4.291534423828125e-06\n",
      "\u001b[36m(launch_and_fit pid=14239)\u001b[0m mri_net.features.0.bias 9.5367431640625e-07\n",
      "\u001b[36m(launch_and_fit pid=14239)\u001b[0m mri_net.features.3.weight 4.76837158203125e-07\n",
      "\u001b[36m(launch_and_fit pid=14239)\u001b[0m mri_net.features.3.bias 7.152557373046875e-07\n",
      "\u001b[36m(launch_and_fit pid=14239)\u001b[0m mri_net.classifier.0.weight 4.76837158203125e-07\n",
      "\u001b[36m(launch_and_fit pid=14239)\u001b[0m mri_net.classifier.0.bias 4.76837158203125e-07\n",
      "\u001b[36m(launch_and_fit pid=14239)\u001b[0m mri_net.classifier.2.weight 2.384185791015625e-07\n",
      "\u001b[36m(launch_and_fit pid=14239)\u001b[0m mri_net.classifier.2.bias 4.76837158203125e-07\n",
      "\u001b[36m(launch_and_fit pid=14239)\u001b[0m mri_net.classifier.3.weights 4.76837158203125e-07\n",
      "\u001b[36m(launch_and_fit pid=14239)\u001b[0m dna_net.fc1.weight 4.76837158203125e-07\n",
      "\u001b[36m(launch_and_fit pid=14239)\u001b[0m dna_net.fc1.bias 2.384185791015625e-07\n",
      "\u001b[36m(launch_and_fit pid=14239)\u001b[0m dna_net.fc2.weight 4.76837158203125e-07\n",
      "\u001b[36m(launch_and_fit pid=14239)\u001b[0m dna_net.fc2.bias 4.76837158203125e-07\n",
      "\u001b[36m(launch_and_fit pid=14239)\u001b[0m dna_net.fc3.weight 4.76837158203125e-07\n",
      "\u001b[36m(launch_and_fit pid=14239)\u001b[0m dna_net.fc3.bias 4.76837158203125e-07\n",
      "\u001b[36m(launch_and_fit pid=14239)\u001b[0m dna_net.fc4.weight 4.76837158203125e-07\n",
      "\u001b[36m(launch_and_fit pid=14239)\u001b[0m dna_net.fc4.bias 4.76837158203125e-07\n",
      "\u001b[36m(launch_and_fit pid=14239)\u001b[0m dna_net.qnn.weights 4.76837158203125e-07\n",
      "\u001b[36m(launch_and_fit pid=14239)\u001b[0m attention.in_proj_weight 4.76837158203125e-07\n",
      "\u001b[36m(launch_and_fit pid=14239)\u001b[0m attention.in_proj_bias 4.76837158203125e-07\n",
      "\u001b[36m(launch_and_fit pid=14239)\u001b[0m attention.out_proj.weight 4.76837158203125e-07\n",
      "\u001b[36m(launch_and_fit pid=14239)\u001b[0m attention.out_proj.bias 7.152557373046875e-07\n",
      "\u001b[36m(launch_and_fit pid=14239)\u001b[0m fc1.weight 4.76837158203125e-07\n",
      "\u001b[36m(launch_and_fit pid=14239)\u001b[0m fc1.bias 2.384185791015625e-07\n",
      "\u001b[36m(launch_and_fit pid=14239)\u001b[0m fc2_mri.weight 4.76837158203125e-07\n",
      "\u001b[36m(launch_and_fit pid=14239)\u001b[0m fc2_mri.bias 4.76837158203125e-07\n",
      "\u001b[36m(launch_and_fit pid=14239)\u001b[0m fc2_dna.weight 2.384185791015625e-07\n",
      "\u001b[36m(launch_and_fit pid=14239)\u001b[0m fc2_dna.bias 2.384185791015625e-07\n",
      "\u001b[36m(launch_and_fit pid=14239)\u001b[0m Run with homomorphic encryption\n",
      "\u001b[36m(launch_and_fit pid=14239)\u001b[0m [Client 5, round 5] fit, config: {'learning_rate': 0.003, 'batch_size': '32', 'server_round': 5, 'local_epochs': 10}\n"
     ]
    },
    {
     "name": "stderr",
     "output_type": "stream",
     "text": [
      "  0%|\u001b[34m          \u001b[0m| 0/10 [00:00<?, ?it/s]\n"
     ]
    },
    {
     "name": "stdout",
     "output_type": "stream",
     "text": [
      "\u001b[36m(launch_and_fit pid=14239)\u001b[0m Updated model\n"
     ]
    },
    {
     "name": "stderr",
     "output_type": "stream",
     "text": [
      " 10%|\u001b[34m█         \u001b[0m| 1/10 [00:03<00:35,  3.95s/it]\n"
     ]
    },
    {
     "name": "stdout",
     "output_type": "stream",
     "text": [
      "\u001b[36m(launch_and_fit pid=14239)\u001b[0m \tTrain Epoch: 1 \tTrain_loss_mri: 1.3809 | Train_acc_mri: 32.2917 | Train_loss_dna: 1.7511 | Train_acc_dna: 38.5417 | Validation_loss_mri: 1.4466 | Validation_acc_mri: 12.5000 | Validation_loss_dna: 1.7510 | Validation_acc_dna: 25.0000\n"
     ]
    },
    {
     "name": "stderr",
     "output_type": "stream",
     "text": [
      " 20%|\u001b[34m██        \u001b[0m| 2/10 [00:06<00:25,  3.23s/it]\n"
     ]
    },
    {
     "name": "stdout",
     "output_type": "stream",
     "text": [
      "\u001b[36m(launch_and_fit pid=14239)\u001b[0m \tTrain Epoch: 2 \tTrain_loss_mri: 1.3765 | Train_acc_mri: 21.8750 | Train_loss_dna: 1.7135 | Train_acc_dna: 28.1250 | Validation_loss_mri: 1.4757 | Validation_acc_mri: 12.5000 | Validation_loss_dna: 1.6977 | Validation_acc_dna: 25.0000\n"
     ]
    },
    {
     "name": "stderr",
     "output_type": "stream",
     "text": [
      "\u001b[36m(launch_and_fit pid=14498)\u001b[0m /opt/conda/envs/fed/lib/python3.10/site-packages/torch/storage.py:414: FutureWarning: You are using `torch.load` with `weights_only=False` (the current default value), which uses the default pickle module implicitly. It is possible to construct malicious pickle data which will execute arbitrary code during unpickling (See https://github.com/pytorch/pytorch/blob/main/SECURITY.md#untrusted-models for more details). In a future release, the default value for `weights_only` will be flipped to `True`. This limits the functions that could be executed during unpickling. Arbitrary objects will no longer be allowed to be loaded via this mode unless they are explicitly allowlisted by the user via `torch.serialization.add_safe_globals`. We recommend you start setting `weights_only=True` for any use case where you don't have full control of the loaded file. Please open an issue on GitHub for any issues related to this experimental feature.\n",
      "\u001b[36m(launch_and_fit pid=14498)\u001b[0m   return torch.load(io.BytesIO(b))\n"
     ]
    },
    {
     "name": "stdout",
     "output_type": "stream",
     "text": [
      "\u001b[36m(launch_and_fit pid=14498)\u001b[0m Run with homomorphic encryption\n",
      "\u001b[36m(launch_and_fit pid=14498)\u001b[0m [Client 4, round 5] fit, config: {'learning_rate': 0.003, 'batch_size': '32', 'server_round': 5, 'local_epochs': 10}\n",
      "\u001b[36m(launch_and_fit pid=14498)\u001b[0m Updated model\n"
     ]
    },
    {
     "name": "stderr",
     "output_type": "stream",
     "text": [
      "  0%|\u001b[34m          \u001b[0m| 0/10 [00:00<?, ?it/s]\n",
      " 30%|\u001b[34m███       \u001b[0m| 3/10 [00:12<00:31,  4.50s/it]\n"
     ]
    },
    {
     "name": "stdout",
     "output_type": "stream",
     "text": [
      "\u001b[36m(launch_and_fit pid=14239)\u001b[0m \tTrain Epoch: 3 \tTrain_loss_mri: 1.3518 | Train_acc_mri: 37.5000 | Train_loss_dna: 1.5526 | Train_acc_dna: 45.8333 | Validation_loss_mri: 1.5335 | Validation_acc_mri: 12.5000 | Validation_loss_dna: 1.7849 | Validation_acc_dna: 25.0000\n"
     ]
    },
    {
     "name": "stderr",
     "output_type": "stream",
     "text": [
      " 40%|\u001b[34m████      \u001b[0m| 4/10 [00:17<00:28,  4.81s/it]\n"
     ]
    },
    {
     "name": "stdout",
     "output_type": "stream",
     "text": [
      "\u001b[36m(launch_and_fit pid=14239)\u001b[0m \tTrain Epoch: 4 \tTrain_loss_mri: 1.3743 | Train_acc_mri: 34.3750 | Train_loss_dna: 1.5753 | Train_acc_dna: 40.6250 | Validation_loss_mri: 1.5750 | Validation_acc_mri: 12.5000 | Validation_loss_dna: 1.9644 | Validation_acc_dna: 25.0000\n",
      "\u001b[36m(launch_and_fit pid=14498)\u001b[0m \tTrain Epoch: 1 \tTrain_loss_mri: 1.3949 | Train_acc_mri: 26.0417 | Train_loss_dna: 1.8724 | Train_acc_dna: 25.0000 | Validation_loss_mri: 1.3907 | Validation_acc_mri: 25.0000 | Validation_loss_dna: 1.6142 | Validation_acc_dna: 50.0000\n"
     ]
    },
    {
     "name": "stderr",
     "output_type": "stream",
     "text": [
      " 10%|\u001b[34m█         \u001b[0m| 1/10 [00:09<01:25,  9.50s/it]\n",
      " 10%|\u001b[34m█         \u001b[0m| 1/10 [00:11<01:41, 11.28s/it]\n"
     ]
    },
    {
     "name": "stdout",
     "output_type": "stream",
     "text": [
      "\u001b[33m(raylet)\u001b[0m A worker died or was killed while executing a task by an unexpected system error. To troubleshoot the problem, check the logs for the dead worker. RayTask ID: 311e33ada04c462f5c3d68a9481c2f9b6991d3bd01000000 Worker ID: aab374e7ca852e5f088fb56e49cf607a255805dd2c6aeaefc511c03c Node ID: 56a5e3c87d3ec0ccb4c476f81cf9b86de127e2bba9c5eacdfac15393 Worker IP address: 10.0.1.229 Worker port: 36309 Worker PID: 14498 Worker exit type: SYSTEM_ERROR Worker exit detail: Worker exits unexpectedly. Worker exits with an exit code 1. The process receives a SIGTERM.\n"
     ]
    },
    {
     "name": "stderr",
     "output_type": "stream",
     "text": [
      " 50%|\u001b[34m█████     \u001b[0m| 5/10 [00:23<00:25,  5.13s/it]\n",
      " 60%|\u001b[34m██████    \u001b[0m| 6/10 [00:32<00:25,  6.28s/it]\n"
     ]
    },
    {
     "name": "stdout",
     "output_type": "stream",
     "text": [
      "\u001b[36m(launch_and_fit pid=14239)\u001b[0m \tTrain Epoch: 6 \tTrain_loss_mri: 1.3478 | Train_acc_mri: 34.3750 | Train_loss_dna: 1.5456 | Train_acc_dna: 41.6667 | Validation_loss_mri: 1.5958 | Validation_acc_mri: 12.5000 | Validation_loss_dna: 1.8942 | Validation_acc_dna: 25.0000\u001b[32m [repeated 2x across cluster]\u001b[0m\n"
     ]
    },
    {
     "name": "stderr",
     "output_type": "stream",
     "text": [
      " 70%|\u001b[34m███████   \u001b[0m| 7/10 [00:34<00:14,  4.98s/it]\n",
      " 80%|\u001b[34m████████  \u001b[0m| 8/10 [00:36<00:08,  4.12s/it]\n",
      " 90%|\u001b[34m█████████ \u001b[0m| 9/10 [00:38<00:03,  3.49s/it]\n"
     ]
    },
    {
     "name": "stdout",
     "output_type": "stream",
     "text": [
      "\u001b[36m(launch_and_fit pid=14239)\u001b[0m \tTrain Epoch: 9 \tTrain_loss_mri: 1.3966 | Train_acc_mri: 31.2500 | Train_loss_dna: 1.5091 | Train_acc_dna: 40.6250 | Validation_loss_mri: 1.5652 | Validation_acc_mri: 12.5000 | Validation_loss_dna: 1.8614 | Validation_acc_dna: 25.0000\u001b[32m [repeated 3x across cluster]\u001b[0m\n"
     ]
    },
    {
     "name": "stderr",
     "output_type": "stream",
     "text": [
      "100%|\u001b[34m██████████\u001b[0m| 10/10 [00:41<00:00,  4.11s/it]\n"
     ]
    },
    {
     "name": "stdout",
     "output_type": "stream",
     "text": [
      "\u001b[36m(launch_and_fit pid=14239)\u001b[0m save graph in  results/FL/\n",
      "\u001b[36m(launch_and_fit pid=14239)\u001b[0m mri_net.features.0.weight 4.76837158203125e-06\n",
      "\u001b[36m(launch_and_fit pid=14239)\u001b[0m mri_net.features.0.bias 1.6689300537109375e-06\n",
      "\u001b[36m(launch_and_fit pid=14239)\u001b[0m mri_net.features.3.weight 1.1920928955078125e-06\n",
      "\u001b[36m(launch_and_fit pid=14239)\u001b[0m mri_net.features.3.bias 7.152557373046875e-07\n",
      "\u001b[36m(launch_and_fit pid=14239)\u001b[0m mri_net.classifier.0.weight 9.5367431640625e-07\n",
      "\u001b[36m(launch_and_fit pid=14239)\u001b[0m mri_net.classifier.0.bias 1.1920928955078125e-06\n",
      "\u001b[36m(launch_and_fit pid=14239)\u001b[0m mri_net.classifier.2.weight 7.152557373046875e-07\n",
      "\u001b[36m(launch_and_fit pid=14239)\u001b[0m mri_net.classifier.2.bias 1.1920928955078125e-06\n",
      "\u001b[36m(launch_and_fit pid=14239)\u001b[0m mri_net.classifier.3.weights 7.152557373046875e-07\n",
      "\u001b[36m(launch_and_fit pid=14239)\u001b[0m dna_net.fc1.weight 9.5367431640625e-07\n",
      "\u001b[36m(launch_and_fit pid=14239)\u001b[0m dna_net.fc1.bias 9.5367431640625e-07\n",
      "\u001b[36m(launch_and_fit pid=14239)\u001b[0m dna_net.fc2.weight 4.76837158203125e-07\n",
      "\u001b[36m(launch_and_fit pid=14239)\u001b[0m dna_net.fc2.bias 7.152557373046875e-07\n",
      "\u001b[36m(launch_and_fit pid=14239)\u001b[0m dna_net.fc3.weight 7.152557373046875e-07\n",
      "\u001b[36m(launch_and_fit pid=14239)\u001b[0m dna_net.fc3.bias 7.152557373046875e-07\n",
      "\u001b[36m(launch_and_fit pid=14239)\u001b[0m dna_net.fc4.weight 7.152557373046875e-07\n",
      "\u001b[36m(launch_and_fit pid=14239)\u001b[0m dna_net.fc4.bias 7.152557373046875e-07\n",
      "\u001b[36m(launch_and_fit pid=14239)\u001b[0m dna_net.qnn.weights 9.5367431640625e-07\n",
      "\u001b[36m(launch_and_fit pid=14239)\u001b[0m attention.in_proj_weight 7.152557373046875e-07\n",
      "\u001b[36m(launch_and_fit pid=14239)\u001b[0m attention.in_proj_bias 9.5367431640625e-07\n",
      "\u001b[36m(launch_and_fit pid=14239)\u001b[0m attention.out_proj.weight 4.76837158203125e-07\n",
      "\u001b[36m(launch_and_fit pid=14239)\u001b[0m attention.out_proj.bias 4.76837158203125e-07\n",
      "\u001b[36m(launch_and_fit pid=14239)\u001b[0m fc1.weight 9.5367431640625e-07\n",
      "\u001b[36m(launch_and_fit pid=14239)\u001b[0m fc1.bias 9.5367431640625e-07\n",
      "\u001b[36m(launch_and_fit pid=14239)\u001b[0m fc2_mri.weight 1.1920928955078125e-06\n",
      "\u001b[36m(launch_and_fit pid=14239)\u001b[0m fc2_mri.bias 1.1920928955078125e-06\n",
      "\u001b[36m(launch_and_fit pid=14239)\u001b[0m fc2_dna.weight 7.152557373046875e-07\n",
      "\u001b[36m(launch_and_fit pid=14239)\u001b[0m fc2_dna.bias 7.152557373046875e-07\n",
      "\u001b[36m(launch_and_fit pid=14239)\u001b[0m Run with homomorphic encryption\n",
      "\u001b[36m(launch_and_fit pid=14239)\u001b[0m [Client 2, round 5] fit, config: {'learning_rate': 0.003, 'batch_size': '32', 'server_round': 5, 'local_epochs': 10}\n"
     ]
    },
    {
     "name": "stderr",
     "output_type": "stream",
     "text": [
      "  0%|\u001b[34m          \u001b[0m| 0/10 [00:00<?, ?it/s]\n"
     ]
    },
    {
     "name": "stdout",
     "output_type": "stream",
     "text": [
      "\u001b[36m(launch_and_fit pid=14239)\u001b[0m Updated model\n",
      "\u001b[36m(launch_and_fit pid=14239)\u001b[0m \tTrain Epoch: 10 \tTrain_loss_mri: 1.3350 | Train_acc_mri: 37.5000 | Train_loss_dna: 1.5830 | Train_acc_dna: 39.5833 | Validation_loss_mri: 1.5620 | Validation_acc_mri: 12.5000 | Validation_loss_dna: 1.9993 | Validation_acc_dna: 25.0000\n"
     ]
    },
    {
     "name": "stderr",
     "output_type": "stream",
     "text": [
      " 10%|\u001b[34m█         \u001b[0m| 1/10 [00:03<00:34,  3.82s/it]\n"
     ]
    },
    {
     "name": "stdout",
     "output_type": "stream",
     "text": [
      "\u001b[36m(launch_and_fit pid=14239)\u001b[0m \tTrain Epoch: 1 \tTrain_loss_mri: 1.3910 | Train_acc_mri: 32.2917 | Train_loss_dna: 1.7669 | Train_acc_dna: 34.3750 | Validation_loss_mri: 1.4904 | Validation_acc_mri: 0.0000 | Validation_loss_dna: 2.0428 | Validation_acc_dna: 12.5000\n"
     ]
    },
    {
     "name": "stderr",
     "output_type": "stream",
     "text": [
      " 20%|\u001b[34m██        \u001b[0m| 2/10 [00:06<00:26,  3.25s/it]\n"
     ]
    },
    {
     "name": "stdout",
     "output_type": "stream",
     "text": [
      "\u001b[36m(launch_and_fit pid=14239)\u001b[0m \tTrain Epoch: 2 \tTrain_loss_mri: 1.3652 | Train_acc_mri: 35.4167 | Train_loss_dna: 1.8614 | Train_acc_dna: 19.7917 | Validation_loss_mri: 1.3984 | Validation_acc_mri: 12.5000 | Validation_loss_dna: 1.7088 | Validation_acc_dna: 25.0000\n"
     ]
    },
    {
     "name": "stderr",
     "output_type": "stream",
     "text": [
      " 30%|\u001b[34m███       \u001b[0m| 3/10 [00:08<00:19,  2.82s/it]\n"
     ]
    },
    {
     "name": "stdout",
     "output_type": "stream",
     "text": [
      "\u001b[36m(launch_and_fit pid=14239)\u001b[0m \tTrain Epoch: 3 \tTrain_loss_mri: 1.3303 | Train_acc_mri: 35.4167 | Train_loss_dna: 1.7049 | Train_acc_dna: 32.2917 | Validation_loss_mri: 1.3756 | Validation_acc_mri: 12.5000 | Validation_loss_dna: 1.7183 | Validation_acc_dna: 37.5000\n"
     ]
    },
    {
     "name": "stderr",
     "output_type": "stream",
     "text": [
      " 40%|\u001b[34m████      \u001b[0m| 4/10 [00:11<00:15,  2.62s/it]\n"
     ]
    },
    {
     "name": "stdout",
     "output_type": "stream",
     "text": [
      "\u001b[36m(launch_and_fit pid=14239)\u001b[0m \tTrain Epoch: 4 \tTrain_loss_mri: 1.3467 | Train_acc_mri: 31.2500 | Train_loss_dna: 1.6777 | Train_acc_dna: 33.3333 | Validation_loss_mri: 1.3793 | Validation_acc_mri: 37.5000 | Validation_loss_dna: 1.8279 | Validation_acc_dna: 25.0000\n"
     ]
    },
    {
     "name": "stderr",
     "output_type": "stream",
     "text": [
      " 50%|\u001b[34m█████     \u001b[0m| 5/10 [00:13<00:12,  2.51s/it]\n"
     ]
    },
    {
     "name": "stdout",
     "output_type": "stream",
     "text": [
      "\u001b[36m(launch_and_fit pid=14239)\u001b[0m \tTrain Epoch: 5 \tTrain_loss_mri: 1.3017 | Train_acc_mri: 46.8750 | Train_loss_dna: 1.6312 | Train_acc_dna: 38.5417 | Validation_loss_mri: 1.3498 | Validation_acc_mri: 37.5000 | Validation_loss_dna: 1.8249 | Validation_acc_dna: 25.0000\n"
     ]
    },
    {
     "name": "stderr",
     "output_type": "stream",
     "text": [
      " 60%|\u001b[34m██████    \u001b[0m| 6/10 [00:16<00:10,  2.57s/it]\n"
     ]
    },
    {
     "name": "stdout",
     "output_type": "stream",
     "text": [
      "\u001b[36m(launch_and_fit pid=14239)\u001b[0m \tTrain Epoch: 6 \tTrain_loss_mri: 1.3437 | Train_acc_mri: 36.4583 | Train_loss_dna: 1.6160 | Train_acc_dna: 35.4167 | Validation_loss_mri: 1.3778 | Validation_acc_mri: 37.5000 | Validation_loss_dna: 1.9111 | Validation_acc_dna: 25.0000\n"
     ]
    },
    {
     "name": "stderr",
     "output_type": "stream",
     "text": [
      " 70%|\u001b[34m███████   \u001b[0m| 7/10 [00:18<00:07,  2.53s/it]\n"
     ]
    },
    {
     "name": "stdout",
     "output_type": "stream",
     "text": [
      "\u001b[36m(launch_and_fit pid=14239)\u001b[0m \tTrain Epoch: 7 \tTrain_loss_mri: 1.2848 | Train_acc_mri: 42.7083 | Train_loss_dna: 1.5401 | Train_acc_dna: 35.4167 | Validation_loss_mri: 1.3342 | Validation_acc_mri: 37.5000 | Validation_loss_dna: 1.8751 | Validation_acc_dna: 25.0000\n"
     ]
    },
    {
     "name": "stderr",
     "output_type": "stream",
     "text": [
      " 80%|\u001b[34m████████  \u001b[0m| 8/10 [00:21<00:05,  2.53s/it]\n"
     ]
    },
    {
     "name": "stdout",
     "output_type": "stream",
     "text": [
      "\u001b[36m(launch_and_fit pid=14239)\u001b[0m \tTrain Epoch: 8 \tTrain_loss_mri: 1.2620 | Train_acc_mri: 44.7917 | Train_loss_dna: 1.5372 | Train_acc_dna: 35.4167 | Validation_loss_mri: 1.3753 | Validation_acc_mri: 37.5000 | Validation_loss_dna: 2.0453 | Validation_acc_dna: 25.0000\n"
     ]
    },
    {
     "name": "stderr",
     "output_type": "stream",
     "text": [
      " 90%|\u001b[34m█████████ \u001b[0m| 9/10 [00:23<00:02,  2.48s/it]\n"
     ]
    },
    {
     "name": "stdout",
     "output_type": "stream",
     "text": [
      "\u001b[36m(launch_and_fit pid=14239)\u001b[0m \tTrain Epoch: 9 \tTrain_loss_mri: 1.2997 | Train_acc_mri: 36.4583 | Train_loss_dna: 1.4766 | Train_acc_dna: 38.5417 | Validation_loss_mri: 1.2765 | Validation_acc_mri: 37.5000 | Validation_loss_dna: 1.8567 | Validation_acc_dna: 37.5000\n"
     ]
    },
    {
     "name": "stderr",
     "output_type": "stream",
     "text": [
      "100%|\u001b[34m██████████\u001b[0m| 10/10 [00:26<00:00,  2.61s/it]\n"
     ]
    },
    {
     "name": "stdout",
     "output_type": "stream",
     "text": [
      "\u001b[36m(launch_and_fit pid=14239)\u001b[0m \tTrain Epoch: 10 \tTrain_loss_mri: 1.3360 | Train_acc_mri: 32.2917 | Train_loss_dna: 1.4242 | Train_acc_dna: 37.5000 | Validation_loss_mri: 1.2376 | Validation_acc_mri: 37.5000 | Validation_loss_dna: 2.0453 | Validation_acc_dna: 25.0000\n",
      "\u001b[36m(launch_and_fit pid=14239)\u001b[0m save graph in  results/FL/\n",
      "\u001b[36m(launch_and_fit pid=14239)\u001b[0m mri_net.features.0.weight 3.337860107421875e-06\n",
      "\u001b[36m(launch_and_fit pid=14239)\u001b[0m mri_net.features.0.bias 1.430511474609375e-06\n",
      "\u001b[36m(launch_and_fit pid=14239)\u001b[0m mri_net.features.3.weight 4.76837158203125e-07\n",
      "\u001b[36m(launch_and_fit pid=14239)\u001b[0m mri_net.features.3.bias 7.152557373046875e-07\n",
      "\u001b[36m(launch_and_fit pid=14239)\u001b[0m mri_net.classifier.0.weight 4.76837158203125e-07\n",
      "\u001b[36m(launch_and_fit pid=14239)\u001b[0m mri_net.classifier.0.bias 4.76837158203125e-07\n",
      "\u001b[36m(launch_and_fit pid=14239)\u001b[0m mri_net.classifier.2.weight 4.76837158203125e-07\n",
      "\u001b[36m(launch_and_fit pid=14239)\u001b[0m mri_net.classifier.2.bias 2.384185791015625e-07\n",
      "\u001b[36m(launch_and_fit pid=14239)\u001b[0m mri_net.classifier.3.weights 4.76837158203125e-07\n",
      "\u001b[36m(launch_and_fit pid=14239)\u001b[0m dna_net.fc1.weight 4.76837158203125e-07\n",
      "\u001b[36m(launch_and_fit pid=14239)\u001b[0m dna_net.fc1.bias 4.76837158203125e-07\n",
      "\u001b[36m(launch_and_fit pid=14239)\u001b[0m dna_net.fc2.weight 2.384185791015625e-07\n",
      "\u001b[36m(launch_and_fit pid=14239)\u001b[0m dna_net.fc2.bias 4.76837158203125e-07\n",
      "\u001b[36m(launch_and_fit pid=14239)\u001b[0m dna_net.fc3.weight 2.384185791015625e-07\n",
      "\u001b[36m(launch_and_fit pid=14239)\u001b[0m dna_net.fc3.bias 7.152557373046875e-07\n",
      "\u001b[36m(launch_and_fit pid=14239)\u001b[0m dna_net.fc4.weight 2.384185791015625e-07\n",
      "\u001b[36m(launch_and_fit pid=14239)\u001b[0m dna_net.fc4.bias 4.76837158203125e-07\n",
      "\u001b[36m(launch_and_fit pid=14239)\u001b[0m dna_net.qnn.weights 4.76837158203125e-07\n",
      "\u001b[36m(launch_and_fit pid=14239)\u001b[0m attention.in_proj_weight 7.152557373046875e-07\n",
      "\u001b[36m(launch_and_fit pid=14239)\u001b[0m attention.in_proj_bias 4.76837158203125e-07\n",
      "\u001b[36m(launch_and_fit pid=14239)\u001b[0m attention.out_proj.weight 4.76837158203125e-07\n",
      "\u001b[36m(launch_and_fit pid=14239)\u001b[0m attention.out_proj.bias 4.76837158203125e-07\n",
      "\u001b[36m(launch_and_fit pid=14239)\u001b[0m fc1.weight 4.76837158203125e-07\n",
      "\u001b[36m(launch_and_fit pid=14239)\u001b[0m fc1.bias 4.76837158203125e-07\n",
      "\u001b[36m(launch_and_fit pid=14239)\u001b[0m fc2_mri.weight 7.152557373046875e-07\n",
      "\u001b[36m(launch_and_fit pid=14239)\u001b[0m fc2_mri.bias 4.76837158203125e-07\n",
      "\u001b[36m(launch_and_fit pid=14239)\u001b[0m fc2_dna.weight 4.76837158203125e-07\n",
      "\u001b[36m(launch_and_fit pid=14239)\u001b[0m fc2_dna.bias 4.76837158203125e-07\n",
      "\u001b[36m(launch_and_fit pid=14239)\u001b[0m Run with homomorphic encryption\n",
      "\u001b[36m(launch_and_fit pid=14239)\u001b[0m [Client 3, round 5] fit, config: {'learning_rate': 0.003, 'batch_size': '32', 'server_round': 5, 'local_epochs': 10}\n"
     ]
    },
    {
     "name": "stderr",
     "output_type": "stream",
     "text": [
      "\u001b[36m(launch_and_fit pid=14746)\u001b[0m /opt/conda/envs/fed/lib/python3.10/site-packages/torch/storage.py:414: FutureWarning: You are using `torch.load` with `weights_only=False` (the current default value), which uses the default pickle module implicitly. It is possible to construct malicious pickle data which will execute arbitrary code during unpickling (See https://github.com/pytorch/pytorch/blob/main/SECURITY.md#untrusted-models for more details). In a future release, the default value for `weights_only` will be flipped to `True`. This limits the functions that could be executed during unpickling. Arbitrary objects will no longer be allowed to be loaded via this mode unless they are explicitly allowlisted by the user via `torch.serialization.add_safe_globals`. We recommend you start setting `weights_only=True` for any use case where you don't have full control of the loaded file. Please open an issue on GitHub for any issues related to this experimental feature.\n",
      "\u001b[36m(launch_and_fit pid=14746)\u001b[0m   return torch.load(io.BytesIO(b))\n",
      "  0%|\u001b[34m          \u001b[0m| 0/10 [00:00<?, ?it/s]\n"
     ]
    },
    {
     "name": "stdout",
     "output_type": "stream",
     "text": [
      "\u001b[36m(launch_and_fit pid=14239)\u001b[0m Updated model\n",
      "\u001b[33m(raylet)\u001b[0m A worker died or was killed while executing a task by an unexpected system error. To troubleshoot the problem, check the logs for the dead worker. RayTask ID: 8e5def2ce0d6f2ea2401dc93328b89fd211f3ec401000000 Worker ID: c4f8f7729f63d27d9e4e44e73eb144514ded95a4a8a79c53d503e600 Node ID: 56a5e3c87d3ec0ccb4c476f81cf9b86de127e2bba9c5eacdfac15393 Worker IP address: 10.0.1.229 Worker port: 45859 Worker PID: 14746 Worker exit type: SYSTEM_ERROR Worker exit detail: Worker exits unexpectedly. Worker exits with an exit code 1. The process receives a SIGTERM.\n",
      "\u001b[36m(launch_and_fit pid=14746)\u001b[0m Run with homomorphic encryption\n",
      "\u001b[36m(launch_and_fit pid=14746)\u001b[0m [Client 0, round 5] fit, config: {'learning_rate': 0.003, 'batch_size': '32', 'server_round': 5, 'local_epochs': 10}\n"
     ]
    },
    {
     "name": "stderr",
     "output_type": "stream",
     "text": [
      " 10%|\u001b[34m█         \u001b[0m| 1/10 [00:13<02:04, 13.82s/it]\n"
     ]
    },
    {
     "name": "stdout",
     "output_type": "stream",
     "text": [
      "\u001b[36m(launch_and_fit pid=14239)\u001b[0m \tTrain Epoch: 1 \tTrain_loss_mri: 1.3785 | Train_acc_mri: 29.1667 | Train_loss_dna: 1.8251 | Train_acc_dna: 34.3750 | Validation_loss_mri: 1.3041 | Validation_acc_mri: 50.0000 | Validation_loss_dna: 1.7113 | Validation_acc_dna: 25.0000\n"
     ]
    },
    {
     "name": "stderr",
     "output_type": "stream",
     "text": [
      " 20%|\u001b[34m██        \u001b[0m| 2/10 [00:17<01:03,  7.96s/it]\n"
     ]
    },
    {
     "name": "stdout",
     "output_type": "stream",
     "text": [
      "\u001b[36m(launch_and_fit pid=14239)\u001b[0m \tTrain Epoch: 2 \tTrain_loss_mri: 1.3396 | Train_acc_mri: 35.4167 | Train_loss_dna: 1.5938 | Train_acc_dna: 43.7500 | Validation_loss_mri: 1.2145 | Validation_acc_mri: 50.0000 | Validation_loss_dna: 1.7645 | Validation_acc_dna: 25.0000\n"
     ]
    },
    {
     "name": "stderr",
     "output_type": "stream",
     "text": [
      " 30%|\u001b[34m███       \u001b[0m| 3/10 [00:20<00:38,  5.48s/it]\n"
     ]
    },
    {
     "name": "stdout",
     "output_type": "stream",
     "text": [
      "\u001b[36m(launch_and_fit pid=14239)\u001b[0m \tTrain Epoch: 3 \tTrain_loss_mri: 1.3054 | Train_acc_mri: 33.3333 | Train_loss_dna: 1.6275 | Train_acc_dna: 37.5000 | Validation_loss_mri: 1.1855 | Validation_acc_mri: 50.0000 | Validation_loss_dna: 1.6172 | Validation_acc_dna: 25.0000\n"
     ]
    },
    {
     "name": "stderr",
     "output_type": "stream",
     "text": [
      " 40%|\u001b[34m████      \u001b[0m| 4/10 [00:22<00:25,  4.31s/it]\n"
     ]
    },
    {
     "name": "stdout",
     "output_type": "stream",
     "text": [
      "\u001b[36m(launch_and_fit pid=14239)\u001b[0m \tTrain Epoch: 4 \tTrain_loss_mri: 1.2992 | Train_acc_mri: 37.5000 | Train_loss_dna: 1.4492 | Train_acc_dna: 43.7500 | Validation_loss_mri: 1.1508 | Validation_acc_mri: 75.0000 | Validation_loss_dna: 1.6912 | Validation_acc_dna: 25.0000\n"
     ]
    },
    {
     "name": "stderr",
     "output_type": "stream",
     "text": [
      " 50%|\u001b[34m█████     \u001b[0m| 5/10 [00:25<00:18,  3.63s/it]\n"
     ]
    },
    {
     "name": "stdout",
     "output_type": "stream",
     "text": [
      "\u001b[36m(launch_and_fit pid=14239)\u001b[0m \tTrain Epoch: 5 \tTrain_loss_mri: 1.3239 | Train_acc_mri: 38.5417 | Train_loss_dna: 1.3395 | Train_acc_dna: 48.9583 | Validation_loss_mri: 1.1385 | Validation_acc_mri: 75.0000 | Validation_loss_dna: 1.6476 | Validation_acc_dna: 25.0000\n"
     ]
    },
    {
     "name": "stderr",
     "output_type": "stream",
     "text": [
      " 60%|\u001b[34m██████    \u001b[0m| 6/10 [00:27<00:12,  3.22s/it]\n"
     ]
    },
    {
     "name": "stdout",
     "output_type": "stream",
     "text": [
      "\u001b[36m(launch_and_fit pid=14239)\u001b[0m \tTrain Epoch: 6 \tTrain_loss_mri: 1.3005 | Train_acc_mri: 43.7500 | Train_loss_dna: 1.3029 | Train_acc_dna: 46.8750 | Validation_loss_mri: 1.0919 | Validation_acc_mri: 100.0000 | Validation_loss_dna: 1.6364 | Validation_acc_dna: 25.0000\n"
     ]
    },
    {
     "name": "stderr",
     "output_type": "stream",
     "text": [
      " 70%|\u001b[34m███████   \u001b[0m| 7/10 [00:29<00:08,  2.91s/it]\n"
     ]
    },
    {
     "name": "stdout",
     "output_type": "stream",
     "text": [
      "\u001b[36m(launch_and_fit pid=14239)\u001b[0m \tTrain Epoch: 7 \tTrain_loss_mri: 1.2662 | Train_acc_mri: 53.1250 | Train_loss_dna: 1.2791 | Train_acc_dna: 44.7917 | Validation_loss_mri: 1.0660 | Validation_acc_mri: 75.0000 | Validation_loss_dna: 1.5987 | Validation_acc_dna: 25.0000\n"
     ]
    },
    {
     "name": "stderr",
     "output_type": "stream",
     "text": [
      " 80%|\u001b[34m████████  \u001b[0m| 8/10 [00:32<00:05,  2.85s/it]\n"
     ]
    },
    {
     "name": "stdout",
     "output_type": "stream",
     "text": [
      "\u001b[36m(launch_and_fit pid=14239)\u001b[0m \tTrain Epoch: 8 \tTrain_loss_mri: 1.2367 | Train_acc_mri: 40.6250 | Train_loss_dna: 1.2107 | Train_acc_dna: 44.7917 | Validation_loss_mri: 1.0692 | Validation_acc_mri: 75.0000 | Validation_loss_dna: 1.5970 | Validation_acc_dna: 25.0000\n"
     ]
    },
    {
     "name": "stderr",
     "output_type": "stream",
     "text": [
      " 90%|\u001b[34m█████████ \u001b[0m| 9/10 [00:34<00:02,  2.66s/it]\n"
     ]
    },
    {
     "name": "stdout",
     "output_type": "stream",
     "text": [
      "\u001b[36m(launch_and_fit pid=14239)\u001b[0m \tTrain Epoch: 9 \tTrain_loss_mri: 1.1998 | Train_acc_mri: 42.7083 | Train_loss_dna: 1.0118 | Train_acc_dna: 60.4167 | Validation_loss_mri: 1.0738 | Validation_acc_mri: 75.0000 | Validation_loss_dna: 1.6301 | Validation_acc_dna: 25.0000\n"
     ]
    },
    {
     "name": "stderr",
     "output_type": "stream",
     "text": [
      "100%|\u001b[34m██████████\u001b[0m| 10/10 [00:36<00:00,  3.70s/it]\n"
     ]
    },
    {
     "name": "stdout",
     "output_type": "stream",
     "text": [
      "\u001b[36m(launch_and_fit pid=14239)\u001b[0m \tTrain Epoch: 10 \tTrain_loss_mri: 1.2655 | Train_acc_mri: 36.4583 | Train_loss_dna: 1.0485 | Train_acc_dna: 54.1667 | Validation_loss_mri: 1.1169 | Validation_acc_mri: 62.5000 | Validation_loss_dna: 1.6210 | Validation_acc_dna: 37.5000\n",
      "\u001b[36m(launch_and_fit pid=14239)\u001b[0m save graph in  results/FL/\n",
      "\u001b[36m(launch_and_fit pid=14239)\u001b[0m mri_net.features.0.weight 4.0531158447265625e-06\n",
      "\u001b[36m(launch_and_fit pid=14239)\u001b[0m mri_net.features.0.bias 9.5367431640625e-07\n",
      "\u001b[36m(launch_and_fit pid=14239)\u001b[0m mri_net.features.3.weight 4.76837158203125e-07\n",
      "\u001b[36m(launch_and_fit pid=14239)\u001b[0m mri_net.features.3.bias 7.152557373046875e-07\n",
      "\u001b[36m(launch_and_fit pid=14239)\u001b[0m mri_net.classifier.0.weight 4.76837158203125e-07\n",
      "\u001b[36m(launch_and_fit pid=14239)\u001b[0m mri_net.classifier.0.bias 2.384185791015625e-07\n",
      "\u001b[36m(launch_and_fit pid=14239)\u001b[0m mri_net.classifier.2.weight 7.152557373046875e-07\n",
      "\u001b[36m(launch_and_fit pid=14239)\u001b[0m mri_net.classifier.2.bias 4.76837158203125e-07\n",
      "\u001b[36m(launch_and_fit pid=14239)\u001b[0m mri_net.classifier.3.weights 4.76837158203125e-07\n",
      "\u001b[36m(launch_and_fit pid=14239)\u001b[0m dna_net.fc1.weight 4.76837158203125e-07\n",
      "\u001b[36m(launch_and_fit pid=14239)\u001b[0m dna_net.fc1.bias 7.152557373046875e-07\n",
      "\u001b[36m(launch_and_fit pid=14239)\u001b[0m dna_net.fc2.weight 4.76837158203125e-07\n",
      "\u001b[36m(launch_and_fit pid=14239)\u001b[0m dna_net.fc2.bias 4.76837158203125e-07\n",
      "\u001b[36m(launch_and_fit pid=14239)\u001b[0m dna_net.fc3.weight 4.76837158203125e-07\n",
      "\u001b[36m(launch_and_fit pid=14239)\u001b[0m dna_net.fc3.bias 2.384185791015625e-07\n",
      "\u001b[36m(launch_and_fit pid=14239)\u001b[0m dna_net.fc4.weight 4.76837158203125e-07\n",
      "\u001b[36m(launch_and_fit pid=14239)\u001b[0m dna_net.fc4.bias 4.76837158203125e-07\n",
      "\u001b[36m(launch_and_fit pid=14239)\u001b[0m dna_net.qnn.weights 4.76837158203125e-07\n",
      "\u001b[36m(launch_and_fit pid=14239)\u001b[0m attention.in_proj_weight 2.384185791015625e-07\n",
      "\u001b[36m(launch_and_fit pid=14239)\u001b[0m attention.in_proj_bias 4.76837158203125e-07\n",
      "\u001b[36m(launch_and_fit pid=14239)\u001b[0m attention.out_proj.weight 4.76837158203125e-07\n",
      "\u001b[36m(launch_and_fit pid=14239)\u001b[0m attention.out_proj.bias 2.384185791015625e-07\n",
      "\u001b[36m(launch_and_fit pid=14239)\u001b[0m fc1.weight 4.76837158203125e-07\n",
      "\u001b[36m(launch_and_fit pid=14239)\u001b[0m fc1.bias 7.152557373046875e-07\n",
      "\u001b[36m(launch_and_fit pid=14239)\u001b[0m fc2_mri.weight 4.76837158203125e-07\n",
      "\u001b[36m(launch_and_fit pid=14239)\u001b[0m fc2_mri.bias 2.384185791015625e-07\n",
      "\u001b[36m(launch_and_fit pid=14239)\u001b[0m fc2_dna.weight 4.76837158203125e-07\n",
      "\u001b[36m(launch_and_fit pid=14239)\u001b[0m fc2_dna.bias 7.152557373046875e-07\n",
      "\u001b[36m(launch_and_fit pid=14239)\u001b[0m Run with homomorphic encryption\n",
      "\u001b[36m(launch_and_fit pid=14239)\u001b[0m [Client 4, round 5] fit, config: {'learning_rate': 0.003, 'batch_size': '32', 'server_round': 5, 'local_epochs': 10}\n"
     ]
    },
    {
     "name": "stderr",
     "output_type": "stream",
     "text": [
      "  0%|\u001b[34m          \u001b[0m| 0/10 [00:00<?, ?it/s]\n"
     ]
    },
    {
     "name": "stdout",
     "output_type": "stream",
     "text": [
      "\u001b[36m(launch_and_fit pid=14239)\u001b[0m Updated model\n"
     ]
    },
    {
     "name": "stderr",
     "output_type": "stream",
     "text": [
      " 10%|\u001b[34m█         \u001b[0m| 1/10 [00:03<00:35,  3.90s/it]\n"
     ]
    },
    {
     "name": "stdout",
     "output_type": "stream",
     "text": [
      "\u001b[36m(launch_and_fit pid=14239)\u001b[0m \tTrain Epoch: 1 \tTrain_loss_mri: 1.4024 | Train_acc_mri: 21.8750 | Train_loss_dna: 1.7882 | Train_acc_dna: 23.9583 | Validation_loss_mri: 1.3825 | Validation_acc_mri: 25.0000 | Validation_loss_dna: 1.7542 | Validation_acc_dna: 37.5000\n"
     ]
    },
    {
     "name": "stderr",
     "output_type": "stream",
     "text": [
      " 20%|\u001b[34m██        \u001b[0m| 2/10 [00:06<00:24,  3.08s/it]\n"
     ]
    },
    {
     "name": "stdout",
     "output_type": "stream",
     "text": [
      "\u001b[36m(launch_and_fit pid=14239)\u001b[0m \tTrain Epoch: 2 \tTrain_loss_mri: 1.3881 | Train_acc_mri: 20.8333 | Train_loss_dna: 1.7669 | Train_acc_dna: 34.3750 | Validation_loss_mri: 1.3963 | Validation_acc_mri: 25.0000 | Validation_loss_dna: 1.6638 | Validation_acc_dna: 50.0000\n"
     ]
    },
    {
     "name": "stderr",
     "output_type": "stream",
     "text": [
      " 30%|\u001b[34m███       \u001b[0m| 3/10 [00:09<00:20,  2.93s/it]\n"
     ]
    },
    {
     "name": "stdout",
     "output_type": "stream",
     "text": [
      "\u001b[36m(launch_and_fit pid=14239)\u001b[0m \tTrain Epoch: 3 \tTrain_loss_mri: 1.3768 | Train_acc_mri: 35.4167 | Train_loss_dna: 1.7294 | Train_acc_dna: 35.4167 | Validation_loss_mri: 1.3923 | Validation_acc_mri: 37.5000 | Validation_loss_dna: 1.5521 | Validation_acc_dna: 50.0000\n"
     ]
    },
    {
     "name": "stderr",
     "output_type": "stream",
     "text": [
      " 40%|\u001b[34m████      \u001b[0m| 4/10 [00:11<00:16,  2.77s/it]\n"
     ]
    },
    {
     "name": "stdout",
     "output_type": "stream",
     "text": [
      "\u001b[36m(launch_and_fit pid=14239)\u001b[0m \tTrain Epoch: 4 \tTrain_loss_mri: 1.3881 | Train_acc_mri: 31.2500 | Train_loss_dna: 1.7232 | Train_acc_dna: 27.0833 | Validation_loss_mri: 1.3993 | Validation_acc_mri: 25.0000 | Validation_loss_dna: 1.5588 | Validation_acc_dna: 50.0000\n"
     ]
    },
    {
     "name": "stderr",
     "output_type": "stream",
     "text": [
      " 50%|\u001b[34m█████     \u001b[0m| 5/10 [00:15<00:14,  2.98s/it]\n"
     ]
    },
    {
     "name": "stdout",
     "output_type": "stream",
     "text": [
      "\u001b[36m(launch_and_fit pid=14239)\u001b[0m \tTrain Epoch: 5 \tTrain_loss_mri: 1.3499 | Train_acc_mri: 36.4583 | Train_loss_dna: 1.5513 | Train_acc_dna: 39.5833 | Validation_loss_mri: 1.3851 | Validation_acc_mri: 25.0000 | Validation_loss_dna: 1.5973 | Validation_acc_dna: 50.0000\n"
     ]
    },
    {
     "name": "stderr",
     "output_type": "stream",
     "text": [
      " 60%|\u001b[34m██████    \u001b[0m| 6/10 [00:17<00:11,  2.94s/it]\n"
     ]
    },
    {
     "name": "stdout",
     "output_type": "stream",
     "text": [
      "\u001b[36m(launch_and_fit pid=14239)\u001b[0m \tTrain Epoch: 6 \tTrain_loss_mri: 1.3724 | Train_acc_mri: 32.2917 | Train_loss_dna: 1.6033 | Train_acc_dna: 41.6667 | Validation_loss_mri: 1.4089 | Validation_acc_mri: 25.0000 | Validation_loss_dna: 1.5454 | Validation_acc_dna: 50.0000\n"
     ]
    },
    {
     "name": "stderr",
     "output_type": "stream",
     "text": [
      " 70%|\u001b[34m███████   \u001b[0m| 7/10 [00:20<00:08,  2.88s/it]\n"
     ]
    },
    {
     "name": "stdout",
     "output_type": "stream",
     "text": [
      "\u001b[36m(launch_and_fit pid=14239)\u001b[0m \tTrain Epoch: 7 \tTrain_loss_mri: 1.3665 | Train_acc_mri: 29.1667 | Train_loss_dna: 1.6196 | Train_acc_dna: 35.4167 | Validation_loss_mri: 1.3923 | Validation_acc_mri: 25.0000 | Validation_loss_dna: 1.4805 | Validation_acc_dna: 62.5000\n"
     ]
    },
    {
     "name": "stderr",
     "output_type": "stream",
     "text": [
      " 80%|\u001b[34m████████  \u001b[0m| 8/10 [00:22<00:05,  2.69s/it]\n"
     ]
    },
    {
     "name": "stdout",
     "output_type": "stream",
     "text": [
      "\u001b[36m(launch_and_fit pid=14239)\u001b[0m \tTrain Epoch: 8 \tTrain_loss_mri: 1.3758 | Train_acc_mri: 28.1250 | Train_loss_dna: 1.4654 | Train_acc_dna: 46.8750 | Validation_loss_mri: 1.3315 | Validation_acc_mri: 12.5000 | Validation_loss_dna: 1.8058 | Validation_acc_dna: 12.5000\n"
     ]
    },
    {
     "name": "stderr",
     "output_type": "stream",
     "text": [
      "\u001b[36m(launch_and_fit pid=14982)\u001b[0m /opt/conda/envs/fed/lib/python3.10/site-packages/torch/storage.py:414: FutureWarning: You are using `torch.load` with `weights_only=False` (the current default value), which uses the default pickle module implicitly. It is possible to construct malicious pickle data which will execute arbitrary code during unpickling (See https://github.com/pytorch/pytorch/blob/main/SECURITY.md#untrusted-models for more details). In a future release, the default value for `weights_only` will be flipped to `True`. This limits the functions that could be executed during unpickling. Arbitrary objects will no longer be allowed to be loaded via this mode unless they are explicitly allowlisted by the user via `torch.serialization.add_safe_globals`. We recommend you start setting `weights_only=True` for any use case where you don't have full control of the loaded file. Please open an issue on GitHub for any issues related to this experimental feature.\n",
      "\u001b[36m(launch_and_fit pid=14982)\u001b[0m   return torch.load(io.BytesIO(b))\n",
      " 90%|\u001b[34m█████████ \u001b[0m| 9/10 [00:25<00:02,  2.69s/it]\n"
     ]
    },
    {
     "name": "stdout",
     "output_type": "stream",
     "text": [
      "\u001b[36m(launch_and_fit pid=14239)\u001b[0m \tTrain Epoch: 9 \tTrain_loss_mri: 1.3403 | Train_acc_mri: 37.5000 | Train_loss_dna: 1.4825 | Train_acc_dna: 33.3333 | Validation_loss_mri: 1.4351 | Validation_acc_mri: 25.0000 | Validation_loss_dna: 1.3340 | Validation_acc_dna: 50.0000\n",
      "\u001b[36m(launch_and_fit pid=14982)\u001b[0m Run with homomorphic encryption\n",
      "\u001b[36m(launch_and_fit pid=14982)\u001b[0m [Client 1, round 5] fit, config: {'learning_rate': 0.003, 'batch_size': '32', 'server_round': 5, 'local_epochs': 10}\n"
     ]
    },
    {
     "name": "stderr",
     "output_type": "stream",
     "text": [
      " 90%|\u001b[34m█████████ \u001b[0m| 9/10 [00:28<00:03,  3.18s/it]\n"
     ]
    },
    {
     "name": "stdout",
     "output_type": "stream",
     "text": [
      "\u001b[36m(launch_and_fit pid=14982)\u001b[0m Updated model\n"
     ]
    },
    {
     "name": "stderr",
     "output_type": "stream",
     "text": [
      "  0%|\u001b[34m          \u001b[0m| 0/10 [00:00<?, ?it/s]\n"
     ]
    },
    {
     "name": "stdout",
     "output_type": "stream",
     "text": [
      "\u001b[33m(raylet)\u001b[0m A worker died or was killed while executing a task by an unexpected system error. To troubleshoot the problem, check the logs for the dead worker. RayTask ID: fdb61c6b75aec961634ccf696e69cc0a0081956501000000 Worker ID: bfbff0c4106e6af2f39a0c1e017fec64c53f8fa771ec5eecfa33dca3 Node ID: 56a5e3c87d3ec0ccb4c476f81cf9b86de127e2bba9c5eacdfac15393 Worker IP address: 10.0.1.229 Worker port: 35599 Worker PID: 14239 Worker exit type: SYSTEM_ERROR Worker exit detail: Worker exits unexpectedly. Worker exits with an exit code 1. The process receives a SIGTERM.\n",
      "\u001b[36m(launch_and_fit pid=14982)\u001b[0m \tTrain Epoch: 1 \tTrain_loss_mri: 1.3322 | Train_acc_mri: 42.7083 | Train_loss_dna: 1.6730 | Train_acc_dna: 41.6667 | Validation_loss_mri: 1.2787 | Validation_acc_mri: 50.0000 | Validation_loss_dna: 2.7880 | Validation_acc_dna: 0.0000\n"
     ]
    },
    {
     "name": "stderr",
     "output_type": "stream",
     "text": [
      " 10%|\u001b[34m█         \u001b[0m| 1/10 [00:18<02:49, 18.89s/it]\n"
     ]
    },
    {
     "name": "stdout",
     "output_type": "stream",
     "text": [
      "\u001b[36m(launch_and_fit pid=14982)\u001b[0m \tTrain Epoch: 2 \tTrain_loss_mri: 1.3800 | Train_acc_mri: 33.3333 | Train_loss_dna: 2.2949 | Train_acc_dna: 30.2083 | Validation_loss_mri: 1.2875 | Validation_acc_mri: 50.0000 | Validation_loss_dna: 1.9314 | Validation_acc_dna: 0.0000\n"
     ]
    },
    {
     "name": "stderr",
     "output_type": "stream",
     "text": [
      " 20%|\u001b[34m██        \u001b[0m| 2/10 [00:21<01:15,  9.40s/it]\n"
     ]
    },
    {
     "name": "stdout",
     "output_type": "stream",
     "text": [
      "\u001b[36m(launch_and_fit pid=14982)\u001b[0m \tTrain Epoch: 3 \tTrain_loss_mri: 1.3657 | Train_acc_mri: 33.3333 | Train_loss_dna: 1.8458 | Train_acc_dna: 31.2500 | Validation_loss_mri: 1.3209 | Validation_acc_mri: 50.0000 | Validation_loss_dna: 1.8383 | Validation_acc_dna: 0.0000\n"
     ]
    },
    {
     "name": "stderr",
     "output_type": "stream",
     "text": [
      " 30%|\u001b[34m███       \u001b[0m| 3/10 [00:24<00:44,  6.31s/it]\n"
     ]
    },
    {
     "name": "stdout",
     "output_type": "stream",
     "text": [
      "\u001b[36m(launch_and_fit pid=14982)\u001b[0m \tTrain Epoch: 4 \tTrain_loss_mri: 1.3268 | Train_acc_mri: 42.7083 | Train_loss_dna: 1.8077 | Train_acc_dna: 27.0833 | Validation_loss_mri: 1.2881 | Validation_acc_mri: 50.0000 | Validation_loss_dna: 1.8530 | Validation_acc_dna: 0.0000\n"
     ]
    },
    {
     "name": "stderr",
     "output_type": "stream",
     "text": [
      " 40%|\u001b[34m████      \u001b[0m| 4/10 [00:27<00:29,  4.97s/it]\n"
     ]
    },
    {
     "name": "stdout",
     "output_type": "stream",
     "text": [
      "\u001b[36m(launch_and_fit pid=14982)\u001b[0m \tTrain Epoch: 5 \tTrain_loss_mri: 1.3655 | Train_acc_mri: 30.2083 | Train_loss_dna: 1.7589 | Train_acc_dna: 36.4583 | Validation_loss_mri: 1.2940 | Validation_acc_mri: 50.0000 | Validation_loss_dna: 1.9387 | Validation_acc_dna: 0.0000\n"
     ]
    },
    {
     "name": "stderr",
     "output_type": "stream",
     "text": [
      " 50%|\u001b[34m█████     \u001b[0m| 5/10 [00:29<00:20,  4.12s/it]\n"
     ]
    },
    {
     "name": "stdout",
     "output_type": "stream",
     "text": [
      "\u001b[36m(launch_and_fit pid=14982)\u001b[0m \tTrain Epoch: 6 \tTrain_loss_mri: 1.4144 | Train_acc_mri: 27.0833 | Train_loss_dna: 1.7967 | Train_acc_dna: 34.3750 | Validation_loss_mri: 1.2942 | Validation_acc_mri: 50.0000 | Validation_loss_dna: 1.8498 | Validation_acc_dna: 12.5000\n"
     ]
    },
    {
     "name": "stderr",
     "output_type": "stream",
     "text": [
      " 60%|\u001b[34m██████    \u001b[0m| 6/10 [00:32<00:14,  3.56s/it]\n"
     ]
    },
    {
     "name": "stdout",
     "output_type": "stream",
     "text": [
      "\u001b[36m(launch_and_fit pid=14982)\u001b[0m \tTrain Epoch: 7 \tTrain_loss_mri: 1.3327 | Train_acc_mri: 33.3333 | Train_loss_dna: 1.7895 | Train_acc_dna: 35.4167 | Validation_loss_mri: 1.2812 | Validation_acc_mri: 50.0000 | Validation_loss_dna: 1.9031 | Validation_acc_dna: 0.0000\n"
     ]
    },
    {
     "name": "stderr",
     "output_type": "stream",
     "text": [
      " 70%|\u001b[34m███████   \u001b[0m| 7/10 [00:34<00:09,  3.14s/it]\n"
     ]
    },
    {
     "name": "stdout",
     "output_type": "stream",
     "text": [
      "\u001b[36m(launch_and_fit pid=14982)\u001b[0m \tTrain Epoch: 8 \tTrain_loss_mri: 1.3459 | Train_acc_mri: 30.2083 | Train_loss_dna: 1.6267 | Train_acc_dna: 37.5000 | Validation_loss_mri: 1.2967 | Validation_acc_mri: 50.0000 | Validation_loss_dna: 1.9182 | Validation_acc_dna: 0.0000\n"
     ]
    },
    {
     "name": "stderr",
     "output_type": "stream",
     "text": [
      " 80%|\u001b[34m████████  \u001b[0m| 8/10 [00:37<00:05,  2.92s/it]\n"
     ]
    },
    {
     "name": "stdout",
     "output_type": "stream",
     "text": [
      "\u001b[36m(launch_and_fit pid=14982)\u001b[0m \tTrain Epoch: 9 \tTrain_loss_mri: 1.3224 | Train_acc_mri: 39.5833 | Train_loss_dna: 1.6302 | Train_acc_dna: 34.3750 | Validation_loss_mri: 1.3067 | Validation_acc_mri: 50.0000 | Validation_loss_dna: 1.9062 | Validation_acc_dna: 12.5000\n"
     ]
    },
    {
     "name": "stderr",
     "output_type": "stream",
     "text": [
      " 90%|\u001b[34m█████████ \u001b[0m| 9/10 [00:39<00:02,  2.77s/it]\n"
     ]
    },
    {
     "name": "stdout",
     "output_type": "stream",
     "text": [
      "\u001b[36m(launch_and_fit pid=14982)\u001b[0m \tTrain Epoch: 10 \tTrain_loss_mri: 1.2907 | Train_acc_mri: 36.4583 | Train_loss_dna: 1.6119 | Train_acc_dna: 38.5417 | Validation_loss_mri: 1.3054 | Validation_acc_mri: 50.0000 | Validation_loss_dna: 1.9760 | Validation_acc_dna: 0.0000\n",
      "\u001b[36m(launch_and_fit pid=14982)\u001b[0m save graph in  results/FL/\n"
     ]
    },
    {
     "name": "stderr",
     "output_type": "stream",
     "text": [
      "100%|\u001b[34m██████████\u001b[0m| 10/10 [00:41<00:00,  4.20s/it]\n"
     ]
    },
    {
     "name": "stdout",
     "output_type": "stream",
     "text": [
      "\u001b[36m(launch_and_fit pid=14982)\u001b[0m mri_net.features.0.weight 4.5299530029296875e-06\n",
      "\u001b[36m(launch_and_fit pid=14982)\u001b[0m mri_net.features.0.bias 1.1920928955078125e-06\n",
      "\u001b[36m(launch_and_fit pid=14982)\u001b[0m mri_net.features.3.weight 4.76837158203125e-07\n",
      "\u001b[36m(launch_and_fit pid=14982)\u001b[0m mri_net.features.3.bias 4.76837158203125e-07\n",
      "\u001b[36m(launch_and_fit pid=14982)\u001b[0m mri_net.classifier.0.weight 4.76837158203125e-07\n",
      "\u001b[36m(launch_and_fit pid=14982)\u001b[0m mri_net.classifier.0.bias 4.76837158203125e-07\n",
      "\u001b[36m(launch_and_fit pid=14982)\u001b[0m mri_net.classifier.2.weight 7.152557373046875e-07\n",
      "\u001b[36m(launch_and_fit pid=14982)\u001b[0m mri_net.classifier.2.bias 2.384185791015625e-07\n",
      "\u001b[36m(launch_and_fit pid=14982)\u001b[0m mri_net.classifier.3.weights 4.76837158203125e-07\n",
      "\u001b[36m(launch_and_fit pid=14982)\u001b[0m dna_net.fc1.weight 4.76837158203125e-07\n",
      "\u001b[36m(launch_and_fit pid=14982)\u001b[0m dna_net.fc1.bias 4.76837158203125e-07\n",
      "\u001b[36m(launch_and_fit pid=14982)\u001b[0m dna_net.fc2.weight 4.76837158203125e-07\n",
      "\u001b[36m(launch_and_fit pid=14982)\u001b[0m dna_net.fc2.bias 4.76837158203125e-07\n",
      "\u001b[36m(launch_and_fit pid=14982)\u001b[0m dna_net.fc3.weight 4.76837158203125e-07\n",
      "\u001b[36m(launch_and_fit pid=14982)\u001b[0m dna_net.fc3.bias 2.384185791015625e-07\n",
      "\u001b[36m(launch_and_fit pid=14982)\u001b[0m dna_net.fc4.weight 4.76837158203125e-07\n",
      "\u001b[36m(launch_and_fit pid=14982)\u001b[0m dna_net.fc4.bias 4.76837158203125e-07\n",
      "\u001b[36m(launch_and_fit pid=14982)\u001b[0m dna_net.qnn.weights 4.76837158203125e-07\n",
      "\u001b[36m(launch_and_fit pid=14982)\u001b[0m attention.in_proj_weight 4.76837158203125e-07\n",
      "\u001b[36m(launch_and_fit pid=14982)\u001b[0m attention.in_proj_bias 4.76837158203125e-07\n",
      "\u001b[36m(launch_and_fit pid=14982)\u001b[0m attention.out_proj.weight 4.76837158203125e-07\n",
      "\u001b[36m(launch_and_fit pid=14982)\u001b[0m attention.out_proj.bias 4.76837158203125e-07\n",
      "\u001b[36m(launch_and_fit pid=14982)\u001b[0m fc1.weight 4.76837158203125e-07\n",
      "\u001b[36m(launch_and_fit pid=14982)\u001b[0m fc1.bias 4.76837158203125e-07\n",
      "\u001b[36m(launch_and_fit pid=14982)\u001b[0m fc2_mri.weight 4.76837158203125e-07\n",
      "\u001b[36m(launch_and_fit pid=14982)\u001b[0m fc2_mri.bias 9.5367431640625e-07\n",
      "\u001b[36m(launch_and_fit pid=14982)\u001b[0m fc2_dna.weight 2.384185791015625e-07\n",
      "\u001b[36m(launch_and_fit pid=14982)\u001b[0m fc2_dna.bias 4.76837158203125e-07\n",
      "\u001b[36m(launch_and_fit pid=14982)\u001b[0m Run with homomorphic encryption\n",
      "\u001b[36m(launch_and_fit pid=14982)\u001b[0m [Client 9, round 5] fit, config: {'learning_rate': 0.003, 'batch_size': '32', 'server_round': 5, 'local_epochs': 10}\n",
      "\u001b[36m(launch_and_fit pid=14982)\u001b[0m Updated model\n"
     ]
    },
    {
     "name": "stderr",
     "output_type": "stream",
     "text": [
      "  0%|\u001b[34m          \u001b[0m| 0/10 [00:00<?, ?it/s]\n",
      "\u001b[36m(launch_and_fit pid=15208)\u001b[0m /opt/conda/envs/fed/lib/python3.10/site-packages/torch/storage.py:414: FutureWarning: You are using `torch.load` with `weights_only=False` (the current default value), which uses the default pickle module implicitly. It is possible to construct malicious pickle data which will execute arbitrary code during unpickling (See https://github.com/pytorch/pytorch/blob/main/SECURITY.md#untrusted-models for more details). In a future release, the default value for `weights_only` will be flipped to `True`. This limits the functions that could be executed during unpickling. Arbitrary objects will no longer be allowed to be loaded via this mode unless they are explicitly allowlisted by the user via `torch.serialization.add_safe_globals`. We recommend you start setting `weights_only=True` for any use case where you don't have full control of the loaded file. Please open an issue on GitHub for any issues related to this experimental feature.\n",
      "\u001b[36m(launch_and_fit pid=15208)\u001b[0m   return torch.load(io.BytesIO(b))\n"
     ]
    },
    {
     "name": "stdout",
     "output_type": "stream",
     "text": [
      "\u001b[36m(launch_and_fit pid=15208)\u001b[0m Run with homomorphic encryption\n",
      "\u001b[36m(launch_and_fit pid=15208)\u001b[0m [Client 8, round 5] fit, config: {'learning_rate': 0.003, 'batch_size': '32', 'server_round': 5, 'local_epochs': 10}\n",
      "\u001b[36m(launch_and_fit pid=14982)\u001b[0m \tTrain Epoch: 1 \tTrain_loss_mri: 1.3812 | Train_acc_mri: 31.2500 | Train_loss_dna: 1.6223 | Train_acc_dna: 41.6667 | Validation_loss_mri: 1.3419 | Validation_acc_mri: 50.0000 | Validation_loss_dna: 1.6298 | Validation_acc_dna: 37.5000\n"
     ]
    },
    {
     "name": "stderr",
     "output_type": "stream",
     "text": [
      " 10%|\u001b[34m█         \u001b[0m| 1/10 [00:04<00:43,  4.83s/it]\n"
     ]
    },
    {
     "name": "stdout",
     "output_type": "stream",
     "text": [
      "\u001b[33m(raylet)\u001b[0m A worker died or was killed while executing a task by an unexpected system error. To troubleshoot the problem, check the logs for the dead worker. RayTask ID: 0e9c2b64b2a8ed663fec7395990c0458cd7ebcf701000000 Worker ID: 2ad7398d00cf1307a695cd7dbee6c4d24c00e25e52723ecaa3066d78 Node ID: 56a5e3c87d3ec0ccb4c476f81cf9b86de127e2bba9c5eacdfac15393 Worker IP address: 10.0.1.229 Worker port: 40973 Worker PID: 15208 Worker exit type: SYSTEM_ERROR Worker exit detail: The leased worker has unrecoverable failure. Worker is requested to be destroyed when it is returned. Worker exits with an exit code 1. The process receives a SIGTERM.\n",
      "\u001b[36m(launch_and_fit pid=14982)\u001b[0m \tTrain Epoch: 2 \tTrain_loss_mri: 1.3703 | Train_acc_mri: 31.2500 | Train_loss_dna: 1.6484 | Train_acc_dna: 37.5000 | Validation_loss_mri: 1.3295 | Validation_acc_mri: 50.0000 | Validation_loss_dna: 1.5889 | Validation_acc_dna: 37.5000\n"
     ]
    },
    {
     "name": "stderr",
     "output_type": "stream",
     "text": [
      " 20%|\u001b[34m██        \u001b[0m| 2/10 [00:13<00:58,  7.31s/it]\n"
     ]
    },
    {
     "name": "stdout",
     "output_type": "stream",
     "text": [
      "\u001b[36m(launch_and_fit pid=14982)\u001b[0m \tTrain Epoch: 3 \tTrain_loss_mri: 1.3478 | Train_acc_mri: 37.5000 | Train_loss_dna: 1.6630 | Train_acc_dna: 28.1250 | Validation_loss_mri: 1.3250 | Validation_acc_mri: 50.0000 | Validation_loss_dna: 1.4857 | Validation_acc_dna: 37.5000\n"
     ]
    },
    {
     "name": "stderr",
     "output_type": "stream",
     "text": [
      " 30%|\u001b[34m███       \u001b[0m| 3/10 [00:16<00:34,  4.95s/it]\n"
     ]
    },
    {
     "name": "stdout",
     "output_type": "stream",
     "text": [
      "\u001b[36m(launch_and_fit pid=14982)\u001b[0m \tTrain Epoch: 4 \tTrain_loss_mri: 1.3436 | Train_acc_mri: 34.3750 | Train_loss_dna: 1.5469 | Train_acc_dna: 43.7500 | Validation_loss_mri: 1.2872 | Validation_acc_mri: 50.0000 | Validation_loss_dna: 1.5104 | Validation_acc_dna: 37.5000\n"
     ]
    },
    {
     "name": "stderr",
     "output_type": "stream",
     "text": [
      " 40%|\u001b[34m████      \u001b[0m| 4/10 [00:18<00:23,  3.84s/it]\n"
     ]
    },
    {
     "name": "stdout",
     "output_type": "stream",
     "text": [
      "\u001b[36m(launch_and_fit pid=14982)\u001b[0m \tTrain Epoch: 5 \tTrain_loss_mri: 1.3572 | Train_acc_mri: 31.2500 | Train_loss_dna: 1.5271 | Train_acc_dna: 44.7917 | Validation_loss_mri: 1.2573 | Validation_acc_mri: 50.0000 | Validation_loss_dna: 1.6123 | Validation_acc_dna: 37.5000\n"
     ]
    },
    {
     "name": "stderr",
     "output_type": "stream",
     "text": [
      " 50%|\u001b[34m█████     \u001b[0m| 5/10 [00:20<00:16,  3.22s/it]\n"
     ]
    },
    {
     "name": "stdout",
     "output_type": "stream",
     "text": [
      "\u001b[36m(launch_and_fit pid=14982)\u001b[0m \tTrain Epoch: 6 \tTrain_loss_mri: 1.3621 | Train_acc_mri: 25.0000 | Train_loss_dna: 1.4602 | Train_acc_dna: 39.5833 | Validation_loss_mri: 1.2526 | Validation_acc_mri: 50.0000 | Validation_loss_dna: 1.5544 | Validation_acc_dna: 50.0000\n"
     ]
    },
    {
     "name": "stderr",
     "output_type": "stream",
     "text": [
      " 60%|\u001b[34m██████    \u001b[0m| 6/10 [00:22<00:11,  2.87s/it]\n"
     ]
    },
    {
     "name": "stdout",
     "output_type": "stream",
     "text": [
      "\u001b[36m(launch_and_fit pid=14982)\u001b[0m \tTrain Epoch: 7 \tTrain_loss_mri: 1.2821 | Train_acc_mri: 31.2500 | Train_loss_dna: 1.3414 | Train_acc_dna: 51.0417 | Validation_loss_mri: 1.3231 | Validation_acc_mri: 50.0000 | Validation_loss_dna: 1.5956 | Validation_acc_dna: 37.5000\n"
     ]
    },
    {
     "name": "stderr",
     "output_type": "stream",
     "text": [
      " 70%|\u001b[34m███████   \u001b[0m| 7/10 [00:25<00:08,  2.96s/it]\n"
     ]
    },
    {
     "name": "stdout",
     "output_type": "stream",
     "text": [
      "\u001b[36m(launch_and_fit pid=14982)\u001b[0m \tTrain Epoch: 8 \tTrain_loss_mri: 1.2788 | Train_acc_mri: 29.1667 | Train_loss_dna: 1.3167 | Train_acc_dna: 46.8750 | Validation_loss_mri: 1.3382 | Validation_acc_mri: 50.0000 | Validation_loss_dna: 1.6525 | Validation_acc_dna: 50.0000\n"
     ]
    },
    {
     "name": "stderr",
     "output_type": "stream",
     "text": [
      " 80%|\u001b[34m████████  \u001b[0m| 8/10 [00:27<00:05,  2.75s/it]\n"
     ]
    },
    {
     "name": "stdout",
     "output_type": "stream",
     "text": [
      "\u001b[36m(launch_and_fit pid=14982)\u001b[0m \tTrain Epoch: 9 \tTrain_loss_mri: 1.2908 | Train_acc_mri: 35.4167 | Train_loss_dna: 1.3600 | Train_acc_dna: 47.9167 | Validation_loss_mri: 1.2979 | Validation_acc_mri: 50.0000 | Validation_loss_dna: 1.6931 | Validation_acc_dna: 50.0000\n"
     ]
    },
    {
     "name": "stderr",
     "output_type": "stream",
     "text": [
      " 90%|\u001b[34m█████████ \u001b[0m| 9/10 [00:30<00:02,  2.62s/it]\n"
     ]
    },
    {
     "name": "stdout",
     "output_type": "stream",
     "text": [
      "\u001b[36m(launch_and_fit pid=14982)\u001b[0m \tTrain Epoch: 10 \tTrain_loss_mri: 1.2477 | Train_acc_mri: 44.7917 | Train_loss_dna: 1.3036 | Train_acc_dna: 43.7500 | Validation_loss_mri: 1.3296 | Validation_acc_mri: 25.0000 | Validation_loss_dna: 1.7980 | Validation_acc_dna: 37.5000\n",
      "\u001b[36m(launch_and_fit pid=14982)\u001b[0m save graph in  results/FL/\n"
     ]
    },
    {
     "name": "stderr",
     "output_type": "stream",
     "text": [
      "100%|\u001b[34m██████████\u001b[0m| 10/10 [00:32<00:00,  3.27s/it]\n"
     ]
    },
    {
     "name": "stdout",
     "output_type": "stream",
     "text": [
      "\u001b[36m(launch_and_fit pid=14982)\u001b[0m mri_net.features.0.weight 3.5762786865234375e-06\n",
      "\u001b[36m(launch_and_fit pid=14982)\u001b[0m mri_net.features.0.bias 1.1920928955078125e-06\n",
      "\u001b[36m(launch_and_fit pid=14982)\u001b[0m mri_net.features.3.weight 4.76837158203125e-07\n",
      "\u001b[36m(launch_and_fit pid=14982)\u001b[0m mri_net.features.3.bias 4.76837158203125e-07\n",
      "\u001b[36m(launch_and_fit pid=14982)\u001b[0m mri_net.classifier.0.weight 7.152557373046875e-07\n",
      "\u001b[36m(launch_and_fit pid=14982)\u001b[0m mri_net.classifier.0.bias 4.76837158203125e-07\n",
      "\u001b[36m(launch_and_fit pid=14982)\u001b[0m mri_net.classifier.2.weight 7.152557373046875e-07\n",
      "\u001b[36m(launch_and_fit pid=14982)\u001b[0m mri_net.classifier.2.bias 4.76837158203125e-07\n",
      "\u001b[36m(launch_and_fit pid=14982)\u001b[0m mri_net.classifier.3.weights 4.76837158203125e-07\n",
      "\u001b[36m(launch_and_fit pid=14982)\u001b[0m dna_net.fc1.weight 4.76837158203125e-07\n",
      "\u001b[36m(launch_and_fit pid=14982)\u001b[0m dna_net.fc1.bias 4.76837158203125e-07\n",
      "\u001b[36m(launch_and_fit pid=14982)\u001b[0m dna_net.fc2.weight 4.76837158203125e-07\n",
      "\u001b[36m(launch_and_fit pid=14982)\u001b[0m dna_net.fc2.bias 4.76837158203125e-07\n",
      "\u001b[36m(launch_and_fit pid=14982)\u001b[0m dna_net.fc3.weight 4.76837158203125e-07\n",
      "\u001b[36m(launch_and_fit pid=14982)\u001b[0m dna_net.fc3.bias 4.76837158203125e-07\n",
      "\u001b[36m(launch_and_fit pid=14982)\u001b[0m dna_net.fc4.weight 4.76837158203125e-07\n",
      "\u001b[36m(launch_and_fit pid=14982)\u001b[0m dna_net.fc4.bias 7.152557373046875e-07\n",
      "\u001b[36m(launch_and_fit pid=14982)\u001b[0m dna_net.qnn.weights 7.152557373046875e-07\n",
      "\u001b[36m(launch_and_fit pid=14982)\u001b[0m attention.in_proj_weight 4.76837158203125e-07\n",
      "\u001b[36m(launch_and_fit pid=14982)\u001b[0m attention.in_proj_bias 2.384185791015625e-07\n",
      "\u001b[36m(launch_and_fit pid=14982)\u001b[0m attention.out_proj.weight 4.76837158203125e-07\n",
      "\u001b[36m(launch_and_fit pid=14982)\u001b[0m attention.out_proj.bias 7.152557373046875e-07\n",
      "\u001b[36m(launch_and_fit pid=14982)\u001b[0m fc1.weight 4.76837158203125e-07\n",
      "\u001b[36m(launch_and_fit pid=14982)\u001b[0m fc1.bias 4.76837158203125e-07\n",
      "\u001b[36m(launch_and_fit pid=14982)\u001b[0m fc2_mri.weight 4.76837158203125e-07\n",
      "\u001b[36m(launch_and_fit pid=14982)\u001b[0m fc2_mri.bias 7.152557373046875e-07\n",
      "\u001b[36m(launch_and_fit pid=14982)\u001b[0m fc2_dna.weight 4.76837158203125e-07\n",
      "\u001b[36m(launch_and_fit pid=14982)\u001b[0m fc2_dna.bias 4.76837158203125e-07\n",
      "\u001b[36m(launch_and_fit pid=14982)\u001b[0m Run with homomorphic encryption\n",
      "\u001b[36m(launch_and_fit pid=14982)\u001b[0m [Client 6, round 5] fit, config: {'learning_rate': 0.003, 'batch_size': '32', 'server_round': 5, 'local_epochs': 10}\n",
      "\u001b[36m(launch_and_fit pid=14982)\u001b[0m Updated model\n"
     ]
    },
    {
     "name": "stderr",
     "output_type": "stream",
     "text": [
      "  0%|\u001b[34m          \u001b[0m| 0/10 [00:00<?, ?it/s]\n"
     ]
    },
    {
     "name": "stdout",
     "output_type": "stream",
     "text": [
      "\u001b[36m(launch_and_fit pid=14982)\u001b[0m \tTrain Epoch: 1 \tTrain_loss_mri: 1.3823 | Train_acc_mri: 23.9583 | Train_loss_dna: 1.7873 | Train_acc_dna: 36.4583 | Validation_loss_mri: 1.3381 | Validation_acc_mri: 37.5000 | Validation_loss_dna: 1.7486 | Validation_acc_dna: 50.0000\n"
     ]
    },
    {
     "name": "stderr",
     "output_type": "stream",
     "text": [
      " 10%|\u001b[34m█         \u001b[0m| 1/10 [00:04<00:43,  4.79s/it]\n"
     ]
    },
    {
     "name": "stdout",
     "output_type": "stream",
     "text": [
      "\u001b[36m(launch_and_fit pid=14982)\u001b[0m \tTrain Epoch: 2 \tTrain_loss_mri: 1.3527 | Train_acc_mri: 26.0417 | Train_loss_dna: 1.6547 | Train_acc_dna: 40.6250 | Validation_loss_mri: 1.3410 | Validation_acc_mri: 37.5000 | Validation_loss_dna: 1.7730 | Validation_acc_dna: 50.0000\n"
     ]
    },
    {
     "name": "stderr",
     "output_type": "stream",
     "text": [
      " 20%|\u001b[34m██        \u001b[0m| 2/10 [00:07<00:27,  3.48s/it]\n"
     ]
    },
    {
     "name": "stdout",
     "output_type": "stream",
     "text": [
      "\u001b[36m(launch_and_fit pid=14982)\u001b[0m \tTrain Epoch: 3 \tTrain_loss_mri: 1.3507 | Train_acc_mri: 35.4167 | Train_loss_dna: 1.6121 | Train_acc_dna: 40.6250 | Validation_loss_mri: 1.3856 | Validation_acc_mri: 37.5000 | Validation_loss_dna: 1.9259 | Validation_acc_dna: 50.0000\n"
     ]
    },
    {
     "name": "stderr",
     "output_type": "stream",
     "text": [
      " 30%|\u001b[34m███       \u001b[0m| 3/10 [00:09<00:21,  3.09s/it]\n"
     ]
    },
    {
     "name": "stdout",
     "output_type": "stream",
     "text": [
      "\u001b[36m(launch_and_fit pid=14982)\u001b[0m \tTrain Epoch: 4 \tTrain_loss_mri: 1.2840 | Train_acc_mri: 38.5417 | Train_loss_dna: 1.4680 | Train_acc_dna: 48.9583 | Validation_loss_mri: 1.5067 | Validation_acc_mri: 12.5000 | Validation_loss_dna: 1.8429 | Validation_acc_dna: 50.0000\n"
     ]
    },
    {
     "name": "stderr",
     "output_type": "stream",
     "text": [
      " 40%|\u001b[34m████      \u001b[0m| 4/10 [00:12<00:17,  2.90s/it]\n"
     ]
    },
    {
     "name": "stdout",
     "output_type": "stream",
     "text": [
      "\u001b[36m(launch_and_fit pid=14982)\u001b[0m \tTrain Epoch: 5 \tTrain_loss_mri: 1.2684 | Train_acc_mri: 39.5833 | Train_loss_dna: 1.4890 | Train_acc_dna: 42.7083 | Validation_loss_mri: 1.3575 | Validation_acc_mri: 37.5000 | Validation_loss_dna: 1.9415 | Validation_acc_dna: 37.5000\n"
     ]
    },
    {
     "name": "stderr",
     "output_type": "stream",
     "text": [
      " 50%|\u001b[34m█████     \u001b[0m| 5/10 [00:14<00:13,  2.70s/it]\n"
     ]
    },
    {
     "name": "stdout",
     "output_type": "stream",
     "text": [
      "\u001b[36m(launch_and_fit pid=14982)\u001b[0m \tTrain Epoch: 6 \tTrain_loss_mri: 1.2976 | Train_acc_mri: 45.8333 | Train_loss_dna: 1.3545 | Train_acc_dna: 52.0833 | Validation_loss_mri: 1.3532 | Validation_acc_mri: 62.5000 | Validation_loss_dna: 1.9364 | Validation_acc_dna: 37.5000\n"
     ]
    },
    {
     "name": "stderr",
     "output_type": "stream",
     "text": [
      " 60%|\u001b[34m██████    \u001b[0m| 6/10 [00:17<00:10,  2.66s/it]\n"
     ]
    },
    {
     "name": "stdout",
     "output_type": "stream",
     "text": [
      "\u001b[36m(launch_and_fit pid=14982)\u001b[0m \tTrain Epoch: 7 \tTrain_loss_mri: 1.2693 | Train_acc_mri: 26.0417 | Train_loss_dna: 1.4105 | Train_acc_dna: 47.9167 | Validation_loss_mri: 1.3526 | Validation_acc_mri: 37.5000 | Validation_loss_dna: 1.9279 | Validation_acc_dna: 25.0000\n"
     ]
    },
    {
     "name": "stderr",
     "output_type": "stream",
     "text": [
      " 70%|\u001b[34m███████   \u001b[0m| 7/10 [00:20<00:08,  2.92s/it]\n"
     ]
    },
    {
     "name": "stdout",
     "output_type": "stream",
     "text": [
      "\u001b[36m(launch_and_fit pid=14982)\u001b[0m \tTrain Epoch: 8 \tTrain_loss_mri: 1.2720 | Train_acc_mri: 33.3333 | Train_loss_dna: 1.3751 | Train_acc_dna: 48.9583 | Validation_loss_mri: 1.2267 | Validation_acc_mri: 62.5000 | Validation_loss_dna: 1.9479 | Validation_acc_dna: 37.5000\n"
     ]
    },
    {
     "name": "stderr",
     "output_type": "stream",
     "text": [
      " 80%|\u001b[34m████████  \u001b[0m| 8/10 [00:23<00:05,  2.83s/it]\n"
     ]
    },
    {
     "name": "stdout",
     "output_type": "stream",
     "text": [
      "\u001b[36m(launch_and_fit pid=14982)\u001b[0m \tTrain Epoch: 9 \tTrain_loss_mri: 1.1820 | Train_acc_mri: 38.5417 | Train_loss_dna: 1.2662 | Train_acc_dna: 50.0000 | Validation_loss_mri: 1.1747 | Validation_acc_mri: 62.5000 | Validation_loss_dna: 2.2136 | Validation_acc_dna: 12.5000\n"
     ]
    },
    {
     "name": "stderr",
     "output_type": "stream",
     "text": [
      " 90%|\u001b[34m█████████ \u001b[0m| 9/10 [00:25<00:02,  2.68s/it]\n"
     ]
    },
    {
     "name": "stdout",
     "output_type": "stream",
     "text": [
      "\u001b[36m(launch_and_fit pid=14982)\u001b[0m \tTrain Epoch: 10 \tTrain_loss_mri: 1.2297 | Train_acc_mri: 33.3333 | Train_loss_dna: 1.3237 | Train_acc_dna: 51.0417 | Validation_loss_mri: 1.2432 | Validation_acc_mri: 62.5000 | Validation_loss_dna: 1.9933 | Validation_acc_dna: 37.5000\n",
      "\u001b[36m(launch_and_fit pid=14982)\u001b[0m save graph in  results/FL/\n"
     ]
    },
    {
     "name": "stderr",
     "output_type": "stream",
     "text": [
      "100%|\u001b[34m██████████\u001b[0m| 10/10 [00:28<00:00,  2.83s/it]\n"
     ]
    },
    {
     "name": "stdout",
     "output_type": "stream",
     "text": [
      "\u001b[36m(launch_and_fit pid=14982)\u001b[0m mri_net.features.0.weight 3.337860107421875e-06\n",
      "\u001b[36m(launch_and_fit pid=14982)\u001b[0m mri_net.features.0.bias 9.5367431640625e-07\n",
      "\u001b[36m(launch_and_fit pid=14982)\u001b[0m mri_net.features.3.weight 4.76837158203125e-07\n",
      "\u001b[36m(launch_and_fit pid=14982)\u001b[0m mri_net.features.3.bias 7.152557373046875e-07\n",
      "\u001b[36m(launch_and_fit pid=14982)\u001b[0m mri_net.classifier.0.weight 4.76837158203125e-07\n",
      "\u001b[36m(launch_and_fit pid=14982)\u001b[0m mri_net.classifier.0.bias 2.384185791015625e-07\n",
      "\u001b[36m(launch_and_fit pid=14982)\u001b[0m mri_net.classifier.2.weight 4.76837158203125e-07\n",
      "\u001b[36m(launch_and_fit pid=14982)\u001b[0m mri_net.classifier.2.bias 7.152557373046875e-07\n",
      "\u001b[36m(launch_and_fit pid=14982)\u001b[0m mri_net.classifier.3.weights 4.76837158203125e-07\n",
      "\u001b[36m(launch_and_fit pid=14982)\u001b[0m dna_net.fc1.weight 4.76837158203125e-07\n",
      "\u001b[36m(launch_and_fit pid=14982)\u001b[0m dna_net.fc1.bias 4.76837158203125e-07\n",
      "\u001b[36m(launch_and_fit pid=14982)\u001b[0m dna_net.fc2.weight 4.76837158203125e-07\n",
      "\u001b[36m(launch_and_fit pid=14982)\u001b[0m dna_net.fc2.bias 4.76837158203125e-07\n",
      "\u001b[36m(launch_and_fit pid=14982)\u001b[0m dna_net.fc3.weight 4.76837158203125e-07\n",
      "\u001b[36m(launch_and_fit pid=14982)\u001b[0m dna_net.fc3.bias 2.384185791015625e-07\n",
      "\u001b[36m(launch_and_fit pid=14982)\u001b[0m dna_net.fc4.weight 4.76837158203125e-07\n",
      "\u001b[36m(launch_and_fit pid=14982)\u001b[0m dna_net.fc4.bias 7.152557373046875e-07\n",
      "\u001b[36m(launch_and_fit pid=14982)\u001b[0m dna_net.qnn.weights 4.76837158203125e-07\n",
      "\u001b[36m(launch_and_fit pid=14982)\u001b[0m attention.in_proj_weight 2.384185791015625e-07\n",
      "\u001b[36m(launch_and_fit pid=14982)\u001b[0m attention.in_proj_bias 4.76837158203125e-07\n",
      "\u001b[36m(launch_and_fit pid=14982)\u001b[0m attention.out_proj.weight 2.384185791015625e-07\n",
      "\u001b[36m(launch_and_fit pid=14982)\u001b[0m attention.out_proj.bias 4.76837158203125e-07\n",
      "\u001b[36m(launch_and_fit pid=14982)\u001b[0m fc1.weight 7.152557373046875e-07\n",
      "\u001b[36m(launch_and_fit pid=14982)\u001b[0m fc1.bias 4.76837158203125e-07\n",
      "\u001b[36m(launch_and_fit pid=14982)\u001b[0m fc2_mri.weight 4.76837158203125e-07\n",
      "\u001b[36m(launch_and_fit pid=14982)\u001b[0m fc2_mri.bias 4.76837158203125e-07\n",
      "\u001b[36m(launch_and_fit pid=14982)\u001b[0m fc2_dna.weight 4.76837158203125e-07\n",
      "\u001b[36m(launch_and_fit pid=14982)\u001b[0m fc2_dna.bias 4.76837158203125e-07\n",
      "\u001b[36m(launch_and_fit pid=14982)\u001b[0m Run with homomorphic encryption\n",
      "\u001b[36m(launch_and_fit pid=14982)\u001b[0m [Client 4, round 5] fit, config: {'learning_rate': 0.003, 'batch_size': '32', 'server_round': 5, 'local_epochs': 10}\n"
     ]
    },
    {
     "name": "stderr",
     "output_type": "stream",
     "text": [
      "\u001b[36m(launch_and_fit pid=15369)\u001b[0m /opt/conda/envs/fed/lib/python3.10/site-packages/torch/storage.py:414: FutureWarning: You are using `torch.load` with `weights_only=False` (the current default value), which uses the default pickle module implicitly. It is possible to construct malicious pickle data which will execute arbitrary code during unpickling (See https://github.com/pytorch/pytorch/blob/main/SECURITY.md#untrusted-models for more details). In a future release, the default value for `weights_only` will be flipped to `True`. This limits the functions that could be executed during unpickling. Arbitrary objects will no longer be allowed to be loaded via this mode unless they are explicitly allowlisted by the user via `torch.serialization.add_safe_globals`. We recommend you start setting `weights_only=True` for any use case where you don't have full control of the loaded file. Please open an issue on GitHub for any issues related to this experimental feature.\n",
      "\u001b[36m(launch_and_fit pid=15369)\u001b[0m   return torch.load(io.BytesIO(b))\n"
     ]
    },
    {
     "name": "stdout",
     "output_type": "stream",
     "text": [
      "\u001b[36m(launch_and_fit pid=15369)\u001b[0m Updated model\n"
     ]
    },
    {
     "name": "stderr",
     "output_type": "stream",
     "text": [
      "  0%|\u001b[34m          \u001b[0m| 0/10 [00:00<?, ?it/s]\n"
     ]
    },
    {
     "name": "stdout",
     "output_type": "stream",
     "text": [
      "\u001b[33m(raylet)\u001b[0m A worker died or was killed while executing a task by an unexpected system error. To troubleshoot the problem, check the logs for the dead worker. RayTask ID: 2aa23c50bd579f10e82eb2a8bf1c8b6871c6018c01000000 Worker ID: a686d69e828e890e535b523eda216b639c1650fc5956c403f80c12c4 Node ID: 56a5e3c87d3ec0ccb4c476f81cf9b86de127e2bba9c5eacdfac15393 Worker IP address: 10.0.1.229 Worker port: 41083 Worker PID: 14982 Worker exit type: SYSTEM_ERROR Worker exit detail: The leased worker has unrecoverable failure. Worker is requested to be destroyed when it is returned. Worker exits with an exit code 1. The process receives a SIGTERM.\n",
      "\u001b[36m(launch_and_fit pid=15369)\u001b[0m Run with homomorphic encryption\n",
      "\u001b[36m(launch_and_fit pid=15369)\u001b[0m \tTrain Epoch: 1 \tTrain_loss_mri: 1.4017 | Train_acc_mri: 23.9583 | Train_loss_dna: 1.7194 | Train_acc_dna: 39.5833 | Validation_loss_mri: 1.4214 | Validation_acc_mri: 37.5000 | Validation_loss_dna: 1.2942 | Validation_acc_dna: 62.5000\n",
      "\u001b[36m(launch_and_fit pid=15369)\u001b[0m [Client 0, round 5] fit, config: {'learning_rate': 0.003, 'batch_size': '32', 'server_round': 5, 'local_epochs': 10}\n"
     ]
    },
    {
     "name": "stderr",
     "output_type": "stream",
     "text": [
      " 10%|\u001b[34m█         \u001b[0m| 1/10 [00:11<01:43, 11.55s/it]\n"
     ]
    },
    {
     "name": "stdout",
     "output_type": "stream",
     "text": [
      "\u001b[36m(launch_and_fit pid=15369)\u001b[0m \tTrain Epoch: 2 \tTrain_loss_mri: 1.3654 | Train_acc_mri: 33.3333 | Train_loss_dna: 1.6196 | Train_acc_dna: 41.6667 | Validation_loss_mri: 1.3977 | Validation_acc_mri: 37.5000 | Validation_loss_dna: 1.4140 | Validation_acc_dna: 50.0000\n"
     ]
    },
    {
     "name": "stderr",
     "output_type": "stream",
     "text": [
      " 20%|\u001b[34m██        \u001b[0m| 2/10 [00:15<00:55,  6.94s/it]\n"
     ]
    },
    {
     "name": "stdout",
     "output_type": "stream",
     "text": [
      "\u001b[36m(launch_and_fit pid=15369)\u001b[0m \tTrain Epoch: 3 \tTrain_loss_mri: 1.3652 | Train_acc_mri: 35.4167 | Train_loss_dna: 1.6215 | Train_acc_dna: 37.5000 | Validation_loss_mri: 1.4321 | Validation_acc_mri: 12.5000 | Validation_loss_dna: 1.2924 | Validation_acc_dna: 62.5000\n"
     ]
    },
    {
     "name": "stderr",
     "output_type": "stream",
     "text": [
      " 30%|\u001b[34m███       \u001b[0m| 3/10 [00:19<00:40,  5.75s/it]\n"
     ]
    },
    {
     "name": "stdout",
     "output_type": "stream",
     "text": [
      "\u001b[36m(launch_and_fit pid=15369)\u001b[0m \tTrain Epoch: 4 \tTrain_loss_mri: 1.3534 | Train_acc_mri: 40.6250 | Train_loss_dna: 1.6676 | Train_acc_dna: 34.3750 | Validation_loss_mri: 1.4226 | Validation_acc_mri: 12.5000 | Validation_loss_dna: 1.3166 | Validation_acc_dna: 62.5000\n"
     ]
    },
    {
     "name": "stderr",
     "output_type": "stream",
     "text": [
      " 40%|\u001b[34m████      \u001b[0m| 4/10 [00:21<00:26,  4.34s/it]\n"
     ]
    },
    {
     "name": "stdout",
     "output_type": "stream",
     "text": [
      "\u001b[36m(launch_and_fit pid=15369)\u001b[0m \tTrain Epoch: 5 \tTrain_loss_mri: 1.3283 | Train_acc_mri: 43.7500 | Train_loss_dna: 1.7274 | Train_acc_dna: 26.0417 | Validation_loss_mri: 1.4097 | Validation_acc_mri: 37.5000 | Validation_loss_dna: 1.2795 | Validation_acc_dna: 75.0000\n"
     ]
    },
    {
     "name": "stderr",
     "output_type": "stream",
     "text": [
      " 50%|\u001b[34m█████     \u001b[0m| 5/10 [00:24<00:18,  3.61s/it]\n"
     ]
    },
    {
     "name": "stdout",
     "output_type": "stream",
     "text": [
      "\u001b[36m(launch_and_fit pid=15369)\u001b[0m \tTrain Epoch: 6 \tTrain_loss_mri: 1.3084 | Train_acc_mri: 37.5000 | Train_loss_dna: 1.4925 | Train_acc_dna: 40.6250 | Validation_loss_mri: 1.4282 | Validation_acc_mri: 37.5000 | Validation_loss_dna: 1.4294 | Validation_acc_dna: 50.0000\n"
     ]
    },
    {
     "name": "stderr",
     "output_type": "stream",
     "text": [
      " 60%|\u001b[34m██████    \u001b[0m| 6/10 [00:26<00:12,  3.20s/it]\n"
     ]
    },
    {
     "name": "stdout",
     "output_type": "stream",
     "text": [
      "\u001b[36m(launch_and_fit pid=15369)\u001b[0m \tTrain Epoch: 7 \tTrain_loss_mri: 1.2719 | Train_acc_mri: 46.8750 | Train_loss_dna: 1.4627 | Train_acc_dna: 37.5000 | Validation_loss_mri: 1.4655 | Validation_acc_mri: 25.0000 | Validation_loss_dna: 1.2280 | Validation_acc_dna: 75.0000\n"
     ]
    },
    {
     "name": "stderr",
     "output_type": "stream",
     "text": [
      " 70%|\u001b[34m███████   \u001b[0m| 7/10 [00:29<00:09,  3.02s/it]\n"
     ]
    },
    {
     "name": "stdout",
     "output_type": "stream",
     "text": [
      "\u001b[36m(launch_and_fit pid=15369)\u001b[0m \tTrain Epoch: 8 \tTrain_loss_mri: 1.3087 | Train_acc_mri: 42.7083 | Train_loss_dna: 1.2428 | Train_acc_dna: 47.9167 | Validation_loss_mri: 1.4925 | Validation_acc_mri: 12.5000 | Validation_loss_dna: 1.2249 | Validation_acc_dna: 75.0000\n"
     ]
    },
    {
     "name": "stderr",
     "output_type": "stream",
     "text": [
      " 80%|\u001b[34m████████  \u001b[0m| 8/10 [00:31<00:05,  2.75s/it]\n"
     ]
    },
    {
     "name": "stdout",
     "output_type": "stream",
     "text": [
      "\u001b[36m(launch_and_fit pid=15369)\u001b[0m \tTrain Epoch: 9 \tTrain_loss_mri: 1.3671 | Train_acc_mri: 37.5000 | Train_loss_dna: 1.1089 | Train_acc_dna: 56.2500 | Validation_loss_mri: 1.5295 | Validation_acc_mri: 25.0000 | Validation_loss_dna: 1.4498 | Validation_acc_dna: 62.5000\n"
     ]
    },
    {
     "name": "stderr",
     "output_type": "stream",
     "text": [
      " 90%|\u001b[34m█████████ \u001b[0m| 9/10 [00:33<00:02,  2.57s/it]\n"
     ]
    },
    {
     "name": "stdout",
     "output_type": "stream",
     "text": [
      "\u001b[36m(launch_and_fit pid=15369)\u001b[0m \tTrain Epoch: 10 \tTrain_loss_mri: 1.3495 | Train_acc_mri: 41.6667 | Train_loss_dna: 1.2711 | Train_acc_dna: 47.9167 | Validation_loss_mri: 1.5445 | Validation_acc_mri: 37.5000 | Validation_loss_dna: 1.3221 | Validation_acc_dna: 75.0000\n",
      "\u001b[36m(launch_and_fit pid=15369)\u001b[0m save graph in  results/FL/\n"
     ]
    },
    {
     "name": "stderr",
     "output_type": "stream",
     "text": [
      "100%|\u001b[34m██████████\u001b[0m| 10/10 [00:35<00:00,  3.56s/it]\n"
     ]
    },
    {
     "name": "stdout",
     "output_type": "stream",
     "text": [
      "\u001b[36m(launch_and_fit pid=15369)\u001b[0m mri_net.features.0.weight 3.814697265625e-06\n",
      "\u001b[36m(launch_and_fit pid=15369)\u001b[0m mri_net.features.0.bias 9.5367431640625e-07\n",
      "\u001b[36m(launch_and_fit pid=15369)\u001b[0m mri_net.features.3.weight 4.76837158203125e-07\n",
      "\u001b[36m(launch_and_fit pid=15369)\u001b[0m mri_net.features.3.bias 4.76837158203125e-07\n",
      "\u001b[36m(launch_and_fit pid=15369)\u001b[0m mri_net.classifier.0.weight 4.76837158203125e-07\n",
      "\u001b[36m(launch_and_fit pid=15369)\u001b[0m mri_net.classifier.0.bias 4.76837158203125e-07\n",
      "\u001b[36m(launch_and_fit pid=15369)\u001b[0m mri_net.classifier.2.weight 2.384185791015625e-07\n",
      "\u001b[36m(launch_and_fit pid=15369)\u001b[0m mri_net.classifier.2.bias 4.76837158203125e-07\n",
      "\u001b[36m(launch_and_fit pid=15369)\u001b[0m mri_net.classifier.3.weights 7.152557373046875e-07\n",
      "\u001b[36m(launch_and_fit pid=15369)\u001b[0m dna_net.fc1.weight 1.430511474609375e-06\n",
      "\u001b[36m(launch_and_fit pid=15369)\u001b[0m dna_net.fc1.bias 7.152557373046875e-07\n",
      "\u001b[36m(launch_and_fit pid=15369)\u001b[0m dna_net.fc2.weight 4.76837158203125e-07\n",
      "\u001b[36m(launch_and_fit pid=15369)\u001b[0m dna_net.fc2.bias 4.76837158203125e-07\n",
      "\u001b[36m(launch_and_fit pid=15369)\u001b[0m dna_net.fc3.weight 2.384185791015625e-07\n",
      "\u001b[36m(launch_and_fit pid=15369)\u001b[0m dna_net.fc3.bias 7.152557373046875e-07\n",
      "\u001b[36m(launch_and_fit pid=15369)\u001b[0m dna_net.fc4.weight 4.76837158203125e-07\n",
      "\u001b[36m(launch_and_fit pid=15369)\u001b[0m dna_net.fc4.bias 4.76837158203125e-07\n",
      "\u001b[36m(launch_and_fit pid=15369)\u001b[0m dna_net.qnn.weights 2.384185791015625e-07\n",
      "\u001b[36m(launch_and_fit pid=15369)\u001b[0m attention.in_proj_weight 7.152557373046875e-07\n",
      "\u001b[36m(launch_and_fit pid=15369)\u001b[0m attention.in_proj_bias 4.76837158203125e-07\n",
      "\u001b[36m(launch_and_fit pid=15369)\u001b[0m attention.out_proj.weight 4.76837158203125e-07\n",
      "\u001b[36m(launch_and_fit pid=15369)\u001b[0m attention.out_proj.bias 2.384185791015625e-07\n",
      "\u001b[36m(launch_and_fit pid=15369)\u001b[0m fc1.weight 1.1920928955078125e-06\n",
      "\u001b[36m(launch_and_fit pid=15369)\u001b[0m fc1.bias 5.7220458984375e-06\n",
      "\u001b[36m(launch_and_fit pid=15369)\u001b[0m fc2_mri.weight 2.384185791015625e-06\n",
      "\u001b[36m(launch_and_fit pid=15369)\u001b[0m fc2_mri.bias 1.430511474609375e-06\n",
      "\u001b[36m(launch_and_fit pid=15369)\u001b[0m fc2_dna.weight 7.152557373046875e-07\n",
      "\u001b[36m(launch_and_fit pid=15369)\u001b[0m fc2_dna.bias 2.384185791015625e-07\n",
      "\u001b[36m(launch_and_fit pid=15369)\u001b[0m Run with homomorphic encryption\n",
      "\u001b[36m(launch_and_fit pid=15369)\u001b[0m [Client 4, round 5] fit, config: {'learning_rate': 0.003, 'batch_size': '32', 'server_round': 5, 'local_epochs': 10}\n",
      "\u001b[36m(launch_and_fit pid=15369)\u001b[0m Updated model\n"
     ]
    },
    {
     "name": "stderr",
     "output_type": "stream",
     "text": [
      "  0%|\u001b[34m          \u001b[0m| 0/10 [00:00<?, ?it/s]\n"
     ]
    }
   ],
   "source": [
    "import warnings\n",
    "warnings.simplefilter(\"ignore\")\n",
    "\n",
    "print(\"flwr\", fl.__version__)\n",
    "print(\"numpy\", np.__version__)\n",
    "print(\"torch\", torch.__version__)\n",
    "print(\"torchvision\", torchvision.__version__)\n",
    "print(f\"Training on {DEVICE}\")\n",
    "\n",
    "client_resources = None\n",
    "\n",
    "if DEVICE.type == \"cuda\":\n",
    "    client_resources = {\"num_gpus\": 1}\n",
    "\n",
    "model_save = model_save\n",
    "path_yaml = yaml_path\n",
    "path_roc = roc_path\n",
    "results_save = save_results\n",
    "path_matrix = matrix_path\n",
    "batch_size = batch_size\n",
    "he = he\n",
    "secret_path = 'secret.pkl'\n",
    "server_path = 'secret.pkl'\n",
    "path_crypted = 'server.pkl'\n",
    "\n",
    "print(\"Start simulation\")\n",
    "start_simulation = time.time()\n",
    "fl.simulation.start_simulation(\n",
    "    client_fn=client_fn,\n",
    "    num_clients=number_clients,\n",
    "    config=fl.server.ServerConfig(num_rounds=rounds),\n",
    "    strategy=strategy,\n",
    "    client_resources=client_resources\n",
    ")\n",
    "print(f\"Simulation Time = {time.time() - start_simulation} seconds\")"
   ]
  }
 ],
 "metadata": {
  "kernelspec": {
   "display_name": "fl_env",
   "language": "python",
   "name": "python3"
  },
  "language_info": {
   "codemirror_mode": {
    "name": "ipython",
    "version": 3
   },
   "file_extension": ".py",
   "mimetype": "text/x-python",
   "name": "python",
   "nbconvert_exporter": "python",
   "pygments_lexer": "ipython3",
   "version": "3.10.12"
  }
 },
 "nbformat": 4,
 "nbformat_minor": 2
}
