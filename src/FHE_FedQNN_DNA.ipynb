{
 "cells": [
  {
   "cell_type": "markdown",
   "metadata": {},
   "source": [
    "### Import necessary libraries and modules"
   ]
  },
  {
   "cell_type": "code",
   "execution_count": 1,
   "metadata": {},
   "outputs": [],
   "source": [
    "# %%bash\n",
    "\n",
    "# kaggle datasets download -d nageshsingh/dna-sequence-dataset\n",
    "# mkdir data data/DNA\n",
    "# unzip dna-sequence-dataset.zip -d data/DNA\n",
    "# rm dna-sequence-dataset.zip"
   ]
  },
  {
   "cell_type": "code",
   "execution_count": 2,
   "metadata": {},
   "outputs": [],
   "source": [
    "import os\n",
    "import pickle\n",
    "import time\n",
    "from collections import OrderedDict\n",
    "from typing import (\n",
    "    List, Tuple, Dict, Optional, Callable, Union\n",
    ")\n",
    "import tenseal as ts\n",
    "\n",
    "import numpy as np\n",
    "import torchvision\n",
    "import torch\n",
    "from torch import nn\n",
    "import torch.nn.functional as F\n",
    "import flwr as fl\n",
    "from flwr.common import (\n",
    "    Metrics, EvaluateIns, EvaluateRes, FitIns, FitRes, MetricsAggregationFn, \n",
    "    Scalar, logger, ndarrays_to_parameters_custom, parameters_to_ndarrays_custom,\n",
    "    Parameters, NDArrays\n",
    ")\n",
    "from flwr.server.client_proxy import ClientProxy\n",
    "from flwr.server.client_manager import ClientManager\n",
    "from flwr.server.strategy.aggregate import weighted_loss_avg\n",
    "from logging import WARNING\n",
    "\n",
    "from utils import *\n",
    "\n",
    "os.environ['TOKENIZERS_PARALLELISM'] = 'false'"
   ]
  },
  {
   "cell_type": "markdown",
   "metadata": {},
   "source": [
    "### Creation of FHE Keys"
   ]
  },
  {
   "cell_type": "code",
   "execution_count": 3,
   "metadata": {},
   "outputs": [
    {
     "name": "stdout",
     "output_type": "stream",
     "text": [
      "it exists\n"
     ]
    }
   ],
   "source": [
    "def combo_keys(client_path=\"secret.pkl\", server_path=\"server_key.pkl\"):\n",
    "    \"\"\"\n",
    "    To create the public/private keys combination\n",
    "    args:\n",
    "        client_path: path to save the secret key (str)\n",
    "        server_path: path to save the server public key (str)\n",
    "    \"\"\"\n",
    "    context_client = security.context()\n",
    "    security.write_query(client_path, {\"contexte\": context_client.serialize(save_secret_key=True)})\n",
    "    security.write_query(server_path, {\"contexte\": context_client.serialize()})\n",
    "\n",
    "    _, context_client = security.read_query(client_path)\n",
    "    _, context_server = security.read_query(server_path)\n",
    "\n",
    "    context_client = ts.context_from(context_client)\n",
    "    context_server = ts.context_from(context_server)\n",
    "    print(\"Is the client context private?\", (\"Yes\" if context_client.is_private() else \"No\"))\n",
    "    print(\"Is the server context private?\", (\"Yes\" if context_server.is_private() else \"No\"))\n",
    "\n",
    "\n",
    "secret_path = \"secret.pkl\"\n",
    "public_path = \"server_key.pkl\"\n",
    "if os.path.exists(secret_path):\n",
    "    print(\"it exists\")\n",
    "    _, context_client = security.read_query(secret_path)\n",
    "\n",
    "else:\n",
    "    combo_keys(client_path=secret_path, server_path=public_path)"
   ]
  },
  {
   "cell_type": "markdown",
   "metadata": {},
   "source": [
    "### Model Architecture Creation"
   ]
  },
  {
   "cell_type": "code",
   "execution_count": 4,
   "metadata": {},
   "outputs": [],
   "source": [
    "class Net(nn.Module):\n",
    "    \"\"\"\n",
    "    A better CNN model with improvements such as dropout and batch normalization.\n",
    "\n",
    "    Args:\n",
    "        num_classes: An integer indicating the number of classes in the dataset.\n",
    "    \"\"\"\n",
    "    def __init__(self, num_classes=10) -> None:\n",
    "        super(Net, self).__init__()\n",
    "        self.fc1 = nn.Linear(384, 512)\n",
    "        self.fc2 = nn.Linear(512, 256)\n",
    "        self.fc3 = nn.Linear(256, 128)\n",
    "        self.fc4 = nn.Linear(128, num_classes)        \n",
    "\n",
    "        # Dropout layers\n",
    "        self.dropout = nn.Dropout(p=0.5)\n",
    "\n",
    "        # Weight initialization\n",
    "        self._initialize_weights()\n",
    "\n",
    "    def _initialize_weights(self):\n",
    "        for m in self.modules():\n",
    "            if isinstance(m, nn.Linear):\n",
    "                nn.init.kaiming_normal_(m.weight, mode='fan_out', nonlinearity='relu')\n",
    "                nn.init.zeros_(m.bias)\n",
    "\n",
    "    def forward(self, x: torch.Tensor) -> torch.Tensor:\n",
    "        \"\"\"\n",
    "        Forward pass of the neural network\n",
    "        \"\"\"\n",
    "        x = F.relu(self.fc1(x))\n",
    "        x = self.dropout(x)\n",
    "\n",
    "        x = F.relu(self.fc2(x))\n",
    "        x = self.dropout(x)\n",
    "\n",
    "        x = F.relu(self.fc3(x))\n",
    "        x = self.dropout(x)\n",
    "\n",
    "        x = self.fc4(x)\n",
    "        return x"
   ]
  },
  {
   "cell_type": "markdown",
   "metadata": {},
   "source": [
    "### Define the FlowerClient class for federated learning"
   ]
  },
  {
   "cell_type": "code",
   "execution_count": 5,
   "metadata": {},
   "outputs": [],
   "source": [
    "class FlowerClient(fl.client.NumPyClient):\n",
    "    def __init__(self, cid, net, trainloader, valloader, device, batch_size, save_results, matrix_path, roc_path,\n",
    "                 yaml_path, he, classes, context_client):\n",
    "        self.net = net\n",
    "        self.trainloader = trainloader\n",
    "        self.valloader = valloader\n",
    "        self.cid = cid\n",
    "        self.device = device\n",
    "        self.batch_size = batch_size\n",
    "        self.save_results = save_results\n",
    "        self.matrix_path = matrix_path\n",
    "        self.roc_path = roc_path\n",
    "        self.yaml_path = yaml_path\n",
    "        self.he = he\n",
    "        self.classes = classes\n",
    "        self.context_client = context_client\n",
    "\n",
    "    def get_parameters(self, config):\n",
    "        print(f\"[Client {self.cid}] get_parameters\")\n",
    "        return get_parameters2(self.net, self.context_client)\n",
    "\n",
    "    def fit(self, parameters, config):\n",
    "        server_round = config['server_round']\n",
    "        local_epochs = config['local_epochs']\n",
    "        lr = float(config[\"learning_rate\"])\n",
    "\n",
    "        print(f'[Client {self.cid}, round {server_round}] fit, config: {config}')\n",
    "\n",
    "        set_parameters(self.net, parameters, self.context_client)\n",
    "\n",
    "        criterion = torch.nn.CrossEntropyLoss()\n",
    "        optimizer = torch.optim.SGD(self.net.parameters(), lr=lr, momentum=0.9)\n",
    "\n",
    "        results = engine.train(self.net, self.trainloader, self.valloader, optimizer=optimizer, loss_fn=criterion,\n",
    "                               epochs=local_epochs, device=self.device)\n",
    "\n",
    "        if self.save_results:\n",
    "            save_graphs(self.save_results, local_epochs, results, f\"_Client {self.cid}\")\n",
    "\n",
    "        return get_parameters2(self.net, self.context_client), len(self.trainloader), {}\n",
    "\n",
    "    def evaluate(self, parameters, config):\n",
    "        print(f\"[Client {self.cid}] evaluate, config: {config}\")\n",
    "        set_parameters(self.net, parameters, self.context_client)\n",
    "\n",
    "        loss, accuracy, y_pred, y_true, y_proba = engine.test(self.net, self.valloader,\n",
    "                                                              loss_fn=torch.nn.CrossEntropyLoss(), device=self.device)\n",
    "\n",
    "        if self.save_results:\n",
    "            os.makedirs(self.save_results, exist_ok=True)\n",
    "            if self.matrix_path:\n",
    "                save_matrix(y_true, y_pred, self.save_results + self.matrix_path, self.classes)\n",
    "            if self.roc_path:\n",
    "                save_roc(y_true, y_proba, self.save_results + self.roc_path, len(self.classes))\n",
    "\n",
    "        return float(loss), len(self.valloader), {\"accuracy\": float(accuracy)}"
   ]
  },
  {
   "cell_type": "markdown",
   "metadata": {},
   "source": [
    "### Define the client_common function to set up the Flower client"
   ]
  },
  {
   "cell_type": "code",
   "execution_count": 6,
   "metadata": {},
   "outputs": [],
   "source": [
    "def client_common(cid, model_save, path_yaml, path_roc, results_save, path_matrix,\n",
    "                  batch_size, trainloaders, valloaders, DEVICE, CLASSES,\n",
    "                  he=False, secret_path=\"\", server_path=\"\"):\n",
    "    trainloader = trainloaders[int(cid)]\n",
    "    valloader = valloaders[int(cid)]\n",
    "\n",
    "    context_client = None\n",
    "    net = Net(num_classes=len(CLASSES)).to(DEVICE)\n",
    "\n",
    "    if he:\n",
    "        print(\"Run with homomorphic encryption\")\n",
    "        if os.path.exists(secret_path):\n",
    "            with open(secret_path, 'rb') as f:\n",
    "                query = pickle.load(f)\n",
    "            context_client = ts.context_from(query[\"contexte\"])\n",
    "        else:\n",
    "            context_client = security.context()\n",
    "            with open(secret_path, 'wb') as f:\n",
    "                encode = pickle.dumps({\"contexte\": context_client.serialize(save_secret_key=True)})\n",
    "                f.write(encode)\n",
    "        secret_key = context_client.secret_key()\n",
    "    else:\n",
    "        print(\"Run WITHOUT homomorphic encryption\")\n",
    "\n",
    "    if os.path.exists(model_save):\n",
    "        print(\" To get the checkpoint\")\n",
    "        checkpoint = torch.load(model_save, map_location=DEVICE)['model_state_dict']\n",
    "        if he:\n",
    "            print(\"to decrypt model\")\n",
    "            server_query, server_context = security.read_query(server_path)\n",
    "            server_context = ts.context_from(server_context)\n",
    "            for name in checkpoint:\n",
    "                print(name)\n",
    "                checkpoint[name] = torch.tensor(\n",
    "                    security.deserialized_layer(name, server_query[name], server_context).decrypt(secret_key)\n",
    "                )\n",
    "        net.load_state_dict(checkpoint)\n",
    "\n",
    "    return FlowerClient(cid, net, trainloader, valloader, device=DEVICE, batch_size=batch_size,\n",
    "                        matrix_path=path_matrix, roc_path=path_roc, save_results=results_save, yaml_path=path_yaml,\n",
    "                        he=he, context_client=context_client, classes=CLASSES)"
   ]
  },
  {
   "cell_type": "markdown",
   "metadata": {},
   "source": [
    "### Define utility functions for federated learning"
   ]
  },
  {
   "cell_type": "code",
   "execution_count": 7,
   "metadata": {},
   "outputs": [],
   "source": [
    "def weighted_average(metrics: List[Tuple[int, Metrics]]) -> Metrics:\n",
    "    accuracies = [num_examples * m[\"accuracy\"] for num_examples, m in metrics]\n",
    "    examples = [num_examples for num_examples, _ in metrics]\n",
    "    return {\"accuracy\": sum(accuracies) / sum(examples)}\n",
    "\n",
    "def evaluate2(server_round: int, parameters: NDArrays,\n",
    "              config: Dict[str, Scalar]) -> Optional[Tuple[float, Dict[str, Scalar]]]:\n",
    "    set_parameters(central, parameters)\n",
    "    loss, accuracy, y_pred, y_true, y_proba = engine.test(central, testloader, loss_fn=torch.nn.CrossEntropyLoss(),\n",
    "                                                          device=DEVICE)\n",
    "    print(f\"Server-side evaluation loss {loss} / accuracy {accuracy}\")\n",
    "    return loss, {\"accuracy\": accuracy}\n",
    "\n",
    "def get_on_fit_config_fn(epoch=2, lr=0.001, batch_size=32) -> Callable[[int], Dict[str, str]]:\n",
    "    def fit_config(server_round: int) -> Dict[str, str]:\n",
    "        config = {\n",
    "            \"learning_rate\": str(lr),\n",
    "            \"batch_size\": str(batch_size),\n",
    "            \"server_round\": server_round,\n",
    "            \"local_epochs\": epoch\n",
    "        }\n",
    "        return config\n",
    "    return fit_config\n",
    "\n",
    "def aggreg_fit_checkpoint(server_round, aggregated_parameters, central_model, path_checkpoint,\n",
    "                          context_client=None, server_path=\"\"):\n",
    "    if aggregated_parameters is not None:\n",
    "        print(f\"Saving round {server_round} aggregated_parameters...\")\n",
    "        aggregated_ndarrays: List[np.ndarray] = parameters_to_ndarrays_custom(aggregated_parameters, context_client)\n",
    "        if context_client:\n",
    "            def serialized(key, matrix):\n",
    "                if key == 'fcevaluate23.weight':\n",
    "                    return matrix.serialize()\n",
    "                else:\n",
    "                    return matrix\n",
    "            server_response = {\n",
    "                **{key: serialized(key, aggregated_ndarrays[i]) for i, key in enumerate(central_model.state_dict().keys())},\n",
    "                \"contexte\": server_context.serialize()\n",
    "            }\n",
    "            security.write_query(server_path, server_response)\n",
    "        else:\n",
    "            params_dict = zip(central_model.state_dict().keys(), aggregated_ndarrays)\n",
    "            state_dict = OrderedDict({k: torch.tensor(v) for k, v in params_dict})\n",
    "            central_model.load_state_dict(state_dict, strict=True)\n",
    "            if path_checkpoint:\n",
    "                torch.save({\n",
    "                    'model_state_dict': central_model.state_dict(),\n",
    "                }, path_checkpoint)"
   ]
  },
  {
   "cell_type": "markdown",
   "metadata": {},
   "source": [
    "### Define the FedCustom strategy class"
   ]
  },
  {
   "cell_type": "code",
   "execution_count": 8,
   "metadata": {},
   "outputs": [],
   "source": [
    "# A Strategy from scratch with the same sampling of the clients as it is in FedAvg\n",
    "# and then change the configuration dictionary\n",
    "class FedCustom(fl.server.strategy.Strategy):\n",
    "    def __init__(\n",
    "            self,\n",
    "            fraction_fit: float = 1.0,\n",
    "            fraction_evaluate: float = 1.0,\n",
    "            min_fit_clients: int = 2,\n",
    "            min_evaluate_clients: int = 2,\n",
    "            min_available_clients: int = 2,\n",
    "            evaluate_fn: Optional[\n",
    "                    Callable[[int, NDArrays, Dict[str, Scalar]], Optional[Tuple[float, Dict[str, Scalar]]]]\n",
    "                ] = None,\n",
    "            on_fit_config_fn: Optional[Callable[[int], Dict[str, Scalar]]] = None,\n",
    "            on_evaluate_config_fn: Optional[Callable[[int], Dict[str, Scalar]]] = None,\n",
    "            accept_failures: bool = True,\n",
    "            initial_parameters: Optional[Parameters] = None,\n",
    "            fit_metrics_aggregation_fn: Optional[MetricsAggregationFn] = None,\n",
    "            evaluate_metrics_aggregation_fn: Optional[MetricsAggregationFn] = None,\n",
    "            context_client=None\n",
    "    ) -> None:\n",
    "        super().__init__()\n",
    "        self.fraction_fit = fraction_fit\n",
    "        self.fraction_evaluate = fraction_evaluate\n",
    "        self.min_fit_clients = min_fit_clients\n",
    "        self.min_evaluate_clients = min_evaluate_clients\n",
    "        self.min_available_clients = min_available_clients\n",
    "        self.evaluate_fn = evaluate_fn\n",
    "        self.on_fit_config_fn = on_fit_config_fn\n",
    "        self.on_evaluate_config_fn = on_evaluate_config_fn,\n",
    "        self.accept_failures = accept_failures\n",
    "        self.initial_parameters = initial_parameters\n",
    "        self.fit_metrics_aggregation_fn = fit_metrics_aggregation_fn\n",
    "        self.evaluate_metrics_aggregation_fn = evaluate_metrics_aggregation_fn\n",
    "        self.context_client = context_client\n",
    "\n",
    "    def __repr__(self) -> str:\n",
    "        # Same function as FedAvg(Strategy)\n",
    "        return f\"FedCustom (accept_failures={self.accept_failures})\"\n",
    "\n",
    "    def initialize_parameters(\n",
    "        self, client_manager: ClientManager\n",
    "    ) -> Optional[Parameters]:\n",
    "        \"\"\"Initialize global model parameters.\"\"\"\n",
    "        # Same function as FedAvg(Strategy)\n",
    "        initial_parameters = self.initial_parameters\n",
    "        self.initial_parameters = None  # Don't keep initial parameters in memory\n",
    "        return initial_parameters\n",
    "\n",
    "    def num_fit_clients(self, num_available_clients: int) -> Tuple[int, int]:\n",
    "        \"\"\"Return sample size and required number of clients.\"\"\"\n",
    "        # Same function as FedAvg(Strategy)\n",
    "        num_clients = int(num_available_clients * self.fraction_fit)\n",
    "        return max(num_clients, self.min_fit_clients), self.min_available_clients\n",
    "\n",
    "    def configure_fit(\n",
    "        self, server_round: int, parameters: Parameters, client_manager: ClientManager\n",
    "    ) -> List[Tuple[ClientProxy, FitIns]]:\n",
    "        \"\"\"Configure the next round of training.\"\"\"\n",
    "        # Sample clients\n",
    "        sample_size, min_num_clients = self.num_fit_clients(\n",
    "            client_manager.num_available()\n",
    "        )\n",
    "\n",
    "        clients = client_manager.sample(\n",
    "            num_clients=sample_size, min_num_clients=min_num_clients\n",
    "        )\n",
    "        # Create custom configs\n",
    "        n_clients = len(clients)\n",
    "        half_clients = n_clients // 2\n",
    "        # Custom fit config function provided\n",
    "        standard_lr = lr\n",
    "        higher_lr = 0.003\n",
    "        config = {\"server_round\": server_round, \"local_epochs\": 1}\n",
    "        if self.on_fit_config_fn is not None:\n",
    "            # Custom fit config function provided\n",
    "            config = self.on_fit_config_fn(server_round)\n",
    "\n",
    "        # fit_ins = FitIns(parameters, config)\n",
    "        # Return client/config pairs\n",
    "        fit_configurations = []\n",
    "        for idx, client in enumerate(clients):\n",
    "            config[\"learning_rate\"] = standard_lr if idx < half_clients else higher_lr\n",
    "            \"\"\"\n",
    "            Each pair of (ClientProxy, FitRes) constitutes \n",
    "            a successful update from one of the previously selected clients.\n",
    "            \"\"\"\n",
    "            fit_configurations.append(\n",
    "                (\n",
    "                    client,\n",
    "                    FitIns(\n",
    "                        parameters,\n",
    "                        config\n",
    "                    )\n",
    "                )\n",
    "            )\n",
    "        # Successful updates from the previously selected and configured clients\n",
    "        return fit_configurations\n",
    "\n",
    "    def aggregate_fit(\n",
    "        self,\n",
    "        server_round: int,\n",
    "        results: List[Tuple[ClientProxy, FitRes]],\n",
    "        failures: List[Union[Tuple[ClientProxy, FitRes], BaseException]],\n",
    "    ) -> Tuple[Optional[Parameters], Dict[str, Scalar]]:\n",
    "        \"\"\"Aggregate fit results using weighted average. (each round)\"\"\"\n",
    "        # Same function as FedAvg(Strategy)\n",
    "        if not results:\n",
    "            return None, {}\n",
    "\n",
    "        # Do not aggregate if there are failures and failures are not accepted\n",
    "        if not self.accept_failures and failures:\n",
    "            return None, {}\n",
    "\n",
    "        # Convert results parameters --> array matrix\n",
    "        weights_results = [\n",
    "            (parameters_to_ndarrays_custom(fit_res.parameters, self.context_client), fit_res.num_examples)\n",
    "            for _, fit_res in results\n",
    "        ]\n",
    "\n",
    "        # Aggregate parameters using weighted average between the clients and convert back to parameters object (bytes)\n",
    "        parameters_aggregated = ndarrays_to_parameters_custom(aggregate_custom(weights_results))\n",
    "\n",
    "        metrics_aggregated = {}\n",
    "        # Aggregate custom metrics if aggregation fn was provided\n",
    "        if self.fit_metrics_aggregation_fn:\n",
    "            fit_metrics = [(res.num_examples, res.metrics) for _, res in results]\n",
    "            metrics_aggregated = self.fit_metrics_aggregation_fn(fit_metrics)\n",
    "\n",
    "        elif server_round == 1:  # Only log this warning once\n",
    "            logger.log(WARNING, \"No fit_metrics_aggregation_fn provided\")\n",
    "\n",
    "        # Same function as SaveModelStrategy(fl.server.strategy.FedAvg)\n",
    "        \"\"\"Aggregate model weights using weighted average and store checkpoint\"\"\"\n",
    "        aggreg_fit_checkpoint(server_round, parameters_aggregated, central, model_save,\n",
    "                              self.context_client, path_crypted)\n",
    "        return parameters_aggregated, metrics_aggregated\n",
    "\n",
    "    def num_evaluation_clients(self, num_available_clients: int) -> Tuple[int, int]:\n",
    "        \"\"\"Use a fraction of available clients for evaluation.\"\"\"\n",
    "        # Same function as FedAvg(Strategy)\n",
    "        num_clients = int(num_available_clients * self.fraction_evaluate)\n",
    "        return max(num_clients, self.min_evaluate_clients), self.min_available_clients\n",
    "\n",
    "    def configure_evaluate(\n",
    "        self, server_round: int, parameters: Parameters, client_manager: ClientManager\n",
    "    ) -> List[Tuple[ClientProxy, EvaluateIns]]:\n",
    "        \"\"\"Configure the next round of evaluation.\"\"\"\n",
    "        # Same function as FedAvg(Strategy)\n",
    "        # Do not configure federated evaluation if fraction eval is 0.\n",
    "        if self.fraction_evaluate == 0.0:\n",
    "            return []\n",
    "\n",
    "        # Parameters and config\n",
    "        config = {}  # {\"server_round\": server_round, \"local_epochs\": 1}\n",
    "\n",
    "        evaluate_ins = EvaluateIns(parameters, config)\n",
    "\n",
    "        # Sample clients\n",
    "        sample_size, min_num_clients = self.num_evaluation_clients(\n",
    "            client_manager.num_available()\n",
    "        )\n",
    "\n",
    "        clients = client_manager.sample(\n",
    "            num_clients=sample_size, min_num_clients=min_num_clients\n",
    "        )\n",
    "\n",
    "        # Return client/config pairs\n",
    "        # Each pair of (ClientProxy, FitRes) constitutes a successful update from one of the previously selected clients\n",
    "        return [(client, evaluate_ins) for client in clients]\n",
    "\n",
    "    def aggregate_evaluate(\n",
    "        self,\n",
    "        server_round: int,\n",
    "        results: List[Tuple[ClientProxy, EvaluateRes]],\n",
    "        failures: List[Union[Tuple[ClientProxy, EvaluateRes], BaseException]],\n",
    "    ) -> Tuple[Optional[float], Dict[str, Scalar]]:\n",
    "        \"\"\"Aggregate evaluation losses using weighted average.\"\"\"\n",
    "        # Same function as FedAvg(Strategy)\n",
    "        if not results:\n",
    "            return None, {}\n",
    "\n",
    "        # Do not aggregate if there are failures and failures are not accepted\n",
    "        if not self.accept_failures and failures:\n",
    "            return None, {}\n",
    "\n",
    "        # Aggregate loss\n",
    "        loss_aggregated = weighted_loss_avg(\n",
    "            [\n",
    "                (evaluate_res.num_examples, evaluate_res.loss)\n",
    "                for _, evaluate_res in results\n",
    "            ]\n",
    "        )\n",
    "\n",
    "        metrics_aggregated = {}\n",
    "        # Aggregate custom metrics if aggregation fn was provided\n",
    "        if self.evaluate_metrics_aggregation_fn:\n",
    "            eval_metrics = [(res.num_examples, res.metrics) for _, res in results]\n",
    "            metrics_aggregated = self.evaluate_metrics_aggregation_fn(eval_metrics)\n",
    "\n",
    "        # Only log this warning once\n",
    "        elif server_round == 1:\n",
    "            logger.log(WARNING, \"No evaluate_metrics_aggregation_fn provided\")\n",
    "\n",
    "        return loss_aggregated, metrics_aggregated\n",
    "\n",
    "    def evaluate(\n",
    "        self, server_round: int, parameters: Parameters\n",
    "    ) -> Optional[Tuple[float, Dict[str, Scalar]]]:\n",
    "        \"\"\"Evaluate global model parameters using an evaluation function.\"\"\"\n",
    "        # Same function as FedAvg(Strategy)\n",
    "        if self.evaluate_fn is None:\n",
    "            # Let's assume we won't perform the global model evaluation on the server side.\n",
    "            return None\n",
    "\n",
    "        # if we have a global model evaluation on the server side :\n",
    "        parameters_ndarrays = parameters_to_ndarrays_custom(parameters, self.context_client)\n",
    "        eval_res = self.evaluate_fn(server_round, parameters_ndarrays, {})\n",
    "\n",
    "        # if you haven't results\n",
    "        if eval_res is None:\n",
    "            return None\n",
    "\n",
    "        loss, metrics = eval_res\n",
    "        return loss, metrics"
   ]
  },
  {
   "cell_type": "markdown",
   "metadata": {},
   "source": [
    "### Set up the federated learning strategy"
   ]
  },
  {
   "cell_type": "code",
   "execution_count": 9,
   "metadata": {},
   "outputs": [],
   "source": [
    "# Set up your variables directly\n",
    "he = True\n",
    "data_path = 'data/'\n",
    "dataset = 'DNA'\n",
    "yaml_path = './results/FL/results.yml'\n",
    "seed = 42\n",
    "num_workers = 0\n",
    "max_epochs = 5\n",
    "batch_size = 32\n",
    "length = None\n",
    "split = 10\n",
    "device = 'cpu'\n",
    "number_clients = 10\n",
    "save_results = 'results/FL/'\n",
    "matrix_path = 'confusion_matrix.png'\n",
    "roc_path = 'roc.png'\n",
    "model_save = 'DNA_fl.pt'\n",
    "min_fit_clients = 10\n",
    "min_avail_clients = 10\n",
    "min_eval_clients = 10\n",
    "rounds = 2\n",
    "frac_fit = 1.0\n",
    "frac_eval = 0.5\n",
    "lr = 1e-4\n",
    "path_public_key = 'server_key.pkl'"
   ]
  },
  {
   "cell_type": "code",
   "execution_count": 10,
   "metadata": {},
   "outputs": [
    {
     "name": "stdout",
     "output_type": "stream",
     "text": [
      "get public key :  server_key.pkl\n"
     ]
    }
   ],
   "source": [
    "print(\"get public key : \", path_public_key)\n",
    "_, server_context = security.read_query(path_public_key)\n",
    "server_context = ts.context_from(server_context)\n",
    "DEVICE = torch.device(choice_device(device))\n",
    "CLASSES = classes_string(dataset)\n",
    "central = Net(num_classes=len(CLASSES)).to(DEVICE)"
   ]
  },
  {
   "cell_type": "code",
   "execution_count": 11,
   "metadata": {},
   "outputs": [],
   "source": [
    "strategy = FedCustom(\n",
    "    fraction_fit=frac_fit,\n",
    "    fraction_evaluate=frac_eval,\n",
    "    min_fit_clients=min_fit_clients,\n",
    "    min_evaluate_clients=min_eval_clients if min_eval_clients else number_clients // 2,\n",
    "    min_available_clients=min_avail_clients,\n",
    "    evaluate_metrics_aggregation_fn=weighted_average,\n",
    "    initial_parameters=ndarrays_to_parameters_custom(get_parameters2(central)),\n",
    "    evaluate_fn=None if he else evaluate2,\n",
    "    on_fit_config_fn=get_on_fit_config_fn(epoch=max_epochs, batch_size=batch_size),\n",
    "    context_client=server_context\n",
    ")"
   ]
  },
  {
   "cell_type": "code",
   "execution_count": 12,
   "metadata": {},
   "outputs": [
    {
     "name": "stdout",
     "output_type": "stream",
     "text": [
      "DNA\n",
      "The training set is created for the classes: ('0', '1', '2', '3', '4', '5', '6')\n"
     ]
    }
   ],
   "source": [
    "trainloaders, valloaders, testloader = data_setup.load_datasets(num_clients=number_clients,\n",
    "                                                                batch_size=batch_size,\n",
    "                                                                resize=None,\n",
    "                                                                seed=seed,\n",
    "                                                                num_workers=num_workers,\n",
    "                                                                splitter=10,\n",
    "                                                                dataset=dataset,  # Use the specified dataset\n",
    "                                                                data_path=data_path,\n",
    "                                                                data_path_val=None)  # Use the same path for validation data\n",
    "\n",
    "def client_fn(cid: str) -> FlowerClient:\n",
    "    return client_common(cid,\n",
    "                         model_save, path_yaml, path_roc, results_save, path_matrix,\n",
    "                         batch_size, trainloaders, valloaders, DEVICE, CLASSES, he, secret_path, server_path)"
   ]
  },
  {
   "cell_type": "markdown",
   "metadata": {},
   "source": [
    "### Define the client_fn function and set up the simulation"
   ]
  },
  {
   "cell_type": "code",
   "execution_count": 13,
   "metadata": {},
   "outputs": [
    {
     "name": "stderr",
     "output_type": "stream",
     "text": [
      "INFO flwr 2024-07-13 18:50:04,647 | app.py:145 | Starting Flower simulation, config: ServerConfig(num_rounds=2, round_timeout=None)\n"
     ]
    },
    {
     "name": "stdout",
     "output_type": "stream",
     "text": [
      "flwr 1.5.0\n",
      "numpy 1.26.4\n",
      "torch 2.3.1+cpu\n",
      "torchvision 0.18.1+cpu\n",
      "Training on cpu\n",
      "Start simulation\n"
     ]
    },
    {
     "name": "stderr",
     "output_type": "stream",
     "text": [
      "2024-07-13 18:50:06,620\tWARNING services.py:2010 -- WARNING: The object store is using /tmp instead of /dev/shm because /dev/shm has only 67096576 bytes available. This will harm performance! You may be able to free up space by deleting files in /dev/shm. If you are inside a Docker container, you can increase /dev/shm size by passing '--shm-size=1.49gb' to 'docker run' (or add it to the run_options list in a Ray cluster config). Make sure to set this to more than 30% of available RAM.\n",
      "2024-07-13 18:50:07,764\tINFO worker.py:1788 -- Started a local Ray instance.\n",
      "INFO flwr 2024-07-13 18:50:09,277 | app.py:179 | Flower VCE: Ray initialized with resources: {'memory': 2904573543.0, 'node:__internal_head__': 1.0, 'node:172.16.5.4': 1.0, 'object_store_memory': 1452286771.0, 'CPU': 2.0}\n",
      "INFO flwr 2024-07-13 18:50:09,279 | server.py:89 | Initializing global parameters\n",
      "INFO flwr 2024-07-13 18:50:09,280 | server.py:272 | Using initial parameters provided by strategy\n",
      "INFO flwr 2024-07-13 18:50:09,282 | server.py:91 | Evaluating initial parameters\n",
      "INFO flwr 2024-07-13 18:50:09,283 | server.py:104 | FL starting\n",
      "DEBUG flwr 2024-07-13 18:50:09,284 | server.py:222 | fit_round 1: strategy sampled 10 clients (out of 10)\n"
     ]
    },
    {
     "name": "stdout",
     "output_type": "stream",
     "text": [
      "\u001b[36m(launch_and_fit pid=32401)\u001b[0m Run with homomorphic encryption\n"
     ]
    },
    {
     "name": "stderr",
     "output_type": "stream",
     "text": [
      "  0%|\u001b[34m          \u001b[0m| 0/5 [00:00<?, ?it/s]\n",
      " 80%|\u001b[34m████████  \u001b[0m| 4/5 [00:00<00:00, 33.91it/s]\n"
     ]
    },
    {
     "name": "stdout",
     "output_type": "stream",
     "text": [
      "\u001b[36m(launch_and_fit pid=32401)\u001b[0m [Client 3, round 1] fit, config: {'learning_rate': 0.003, 'batch_size': '32', 'server_round': 1, 'local_epochs': 5}\n",
      "\u001b[36m(launch_and_fit pid=32401)\u001b[0m Updated model\n",
      "\u001b[36m(launch_and_fit pid=32401)\u001b[0m \tTrain Epoch: 1 \tTrain_loss: 2.5850 | Train_acc: 19.6644 % | Validation_loss: 1.8358 | Validation_acc: 42.7083 %\n",
      "\u001b[36m(launch_and_fit pid=32401)\u001b[0m \tTrain Epoch: 2 \tTrain_loss: 2.1106 | Train_acc: 22.0255 % | Validation_loss: 1.7954 | Validation_acc: 47.3958 %\n",
      "\u001b[36m(launch_and_fit pid=32401)\u001b[0m \tTrain Epoch: 3 \tTrain_loss: 1.9249 | Train_acc: 20.6597 % | Validation_loss: 1.8173 | Validation_acc: 30.7292 %\n",
      "\u001b[36m(launch_and_fit pid=32401)\u001b[0m \tTrain Epoch: 4 \tTrain_loss: 1.9555 | Train_acc: 22.5347 % | Validation_loss: 1.8188 | Validation_acc: 30.7292 %\n"
     ]
    },
    {
     "name": "stderr",
     "output_type": "stream",
     "text": [
      " 80%|\u001b[34m████████  \u001b[0m| 4/5 [00:00<00:00, 31.69it/s]\n",
      "100%|\u001b[34m██████████\u001b[0m| 5/5 [00:00<00:00, 14.50it/s]\n"
     ]
    },
    {
     "name": "stdout",
     "output_type": "stream",
     "text": [
      "\u001b[36m(launch_and_fit pid=32401)\u001b[0m save graph in  results/FL/\n"
     ]
    },
    {
     "name": "stderr",
     "output_type": "stream",
     "text": [
      "100%|\u001b[34m██████████\u001b[0m| 5/5 [00:00<00:00, 13.50it/s]\n"
     ]
    },
    {
     "name": "stdout",
     "output_type": "stream",
     "text": [
      "\u001b[36m(launch_and_fit pid=32401)\u001b[0m fc1.weight 4.5299530029296875e-06\n",
      "\u001b[36m(launch_and_fit pid=32401)\u001b[0m fc1.bias 1.430511474609375e-06\n",
      "\u001b[36m(launch_and_fit pid=32401)\u001b[0m fc2.weight 9.5367431640625e-07\n",
      "\u001b[36m(launch_and_fit pid=32401)\u001b[0m fc2.bias 1.1920928955078125e-06\n",
      "\u001b[36m(launch_and_fit pid=32400)\u001b[0m fc1.weight 4.5299530029296875e-06\n",
      "\u001b[36m(launch_and_fit pid=32400)\u001b[0m fc1.bias 1.430511474609375e-06\n",
      "\u001b[36m(launch_and_fit pid=32400)\u001b[0m fc2.weight 7.152557373046875e-07\n",
      "\u001b[36m(launch_and_fit pid=32400)\u001b[0m fc2.bias 7.152557373046875e-07\n",
      "\u001b[33m(raylet)\u001b[0m A worker died or was killed while executing a task by an unexpected system error. To troubleshoot the problem, check the logs for the dead worker. RayTask ID: a92f4f1acde0e93f0c481f64bf268d43ac0c6e9601000000 Worker ID: 5c8a9c18b9fec4d95eb00550ede896eea77ad82e693cab8dc7fa4bbf Node ID: e287c513c118cce8a943a6b5059545ce2ae2b16fcc6f91ed932fa4bb Worker IP address: 172.16.5.4 Worker port: 37273 Worker PID: 32401 Worker exit type: SYSTEM_ERROR Worker exit detail: Worker unexpectedly exits with a connection error code 2. End of file. There are some potential root causes. (1) The process is killed by SIGKILL by OOM killer due to high memory usage. (2) ray stop --force is called. (3) The worker is crashed unexpectedly due to SIGSEGV or other unexpected errors.\n",
      "\u001b[36m(launch_and_fit pid=32400)\u001b[0m Run with homomorphic encryption\n",
      "\u001b[36m(launch_and_fit pid=32400)\u001b[0m [Client 1, round 1] fit, config: {'learning_rate': 0.003, 'batch_size': '32', 'server_round': 1, 'local_epochs': 5}\n",
      "\u001b[36m(launch_and_fit pid=32400)\u001b[0m Updated model\n",
      "\u001b[36m(launch_and_fit pid=32400)\u001b[0m \tTrain Epoch: 5 \tTrain_loss: 1.8210 | Train_acc: 26.6551 % | Validation_loss: 1.8120 | Validation_acc: 27.6042 %\u001b[32m [repeated 6x across cluster] (Ray deduplicates logs by default. Set RAY_DEDUP_LOGS=0 to disable log deduplication, or see https://docs.ray.io/en/master/ray-observability/user-guides/configure-logging.html#log-deduplication for more options.)\u001b[0m\n",
      "\u001b[36m(launch_and_fit pid=32400)\u001b[0m save graph in  results/FL/\n",
      "\u001b[33m(raylet)\u001b[0m A worker died or was killed while executing a task by an unexpected system error. To troubleshoot the problem, check the logs for the dead worker. RayTask ID: 7007c0836a4cf90a64913da46d3f812d08d6034f01000000 Worker ID: 74106cf45289c32c864f797a648f1e876abfdc51ab57281c6afabfed Node ID: e287c513c118cce8a943a6b5059545ce2ae2b16fcc6f91ed932fa4bb Worker IP address: 172.16.5.4 Worker port: 38065 Worker PID: 32400 Worker exit type: SYSTEM_ERROR Worker exit detail: Worker unexpectedly exits with a connection error code 2. End of file. There are some potential root causes. (1) The process is killed by SIGKILL by OOM killer due to high memory usage. (2) ray stop --force is called. (3) The worker is crashed unexpectedly due to SIGSEGV or other unexpected errors.\n",
      "\u001b[36m(launch_and_fit pid=32675)\u001b[0m Run with homomorphic encryption\n",
      "\u001b[36m(launch_and_fit pid=32675)\u001b[0m [Client 6, round 1] fit, config: {'learning_rate': 0.003, 'batch_size': '32', 'server_round': 1, 'local_epochs': 5}\n",
      "\u001b[36m(launch_and_fit pid=32675)\u001b[0m Updated model\n"
     ]
    },
    {
     "name": "stderr",
     "output_type": "stream",
     "text": [
      "  0%|\u001b[34m          \u001b[0m| 0/5 [00:00<?, ?it/s]\u001b[32m [repeated 2x across cluster]\u001b[0m\n",
      " 20%|\u001b[34m██        \u001b[0m| 1/5 [00:00<00:01,  3.15it/s]\n",
      " 20%|\u001b[34m██        \u001b[0m| 1/5 [00:00<00:01,  3.33it/s]\n",
      " 80%|\u001b[34m████████  \u001b[0m| 4/5 [00:00<00:00, 10.77it/s]\n",
      " 80%|\u001b[34m████████  \u001b[0m| 4/5 [00:00<00:00, 11.50it/s]\n"
     ]
    },
    {
     "name": "stdout",
     "output_type": "stream",
     "text": [
      "\u001b[36m(launch_and_fit pid=32675)\u001b[0m \tTrain Epoch: 1 \tTrain_loss: 2.4810 | Train_acc: 24.1551 % | Validation_loss: 1.9560 | Validation_acc: 26.0417 %\n",
      "\u001b[36m(launch_and_fit pid=32675)\u001b[0m \tTrain Epoch: 2 \tTrain_loss: 2.0112 | Train_acc: 24.0162 % | Validation_loss: 1.9028 | Validation_acc: 26.0417 %\n"
     ]
    },
    {
     "name": "stderr",
     "output_type": "stream",
     "text": [
      "100%|\u001b[34m██████████\u001b[0m| 5/5 [00:00<00:00,  7.72it/s]\n",
      "100%|\u001b[34m██████████\u001b[0m| 5/5 [00:00<00:00,  8.03it/s]\n"
     ]
    },
    {
     "name": "stdout",
     "output_type": "stream",
     "text": [
      "\u001b[36m(launch_and_fit pid=32675)\u001b[0m save graph in  results/FL/\n",
      "\u001b[36m(launch_and_fit pid=32723)\u001b[0m fc1.weight 5.245208740234375e-06\n",
      "\u001b[36m(launch_and_fit pid=32723)\u001b[0m fc1.bias 1.9073486328125e-06\n",
      "\u001b[36m(launch_and_fit pid=32723)\u001b[0m fc2.weight 1.6689300537109375e-06\n",
      "\u001b[36m(launch_and_fit pid=32723)\u001b[0m fc2.bias 1.1920928955078125e-06\n",
      "\u001b[36m(launch_and_fit pid=32675)\u001b[0m fc1.weight 5.245208740234375e-06\n",
      "\u001b[36m(launch_and_fit pid=32675)\u001b[0m fc1.bias 1.1920928955078125e-06\n",
      "\u001b[36m(launch_and_fit pid=32675)\u001b[0m fc2.weight 1.1920928955078125e-06\n",
      "\u001b[36m(launch_and_fit pid=32675)\u001b[0m fc2.bias 7.152557373046875e-07\n",
      "\u001b[33m(raylet)\u001b[0m A worker died or was killed while executing a task by an unexpected system error. To troubleshoot the problem, check the logs for the dead worker. RayTask ID: 3bef8b7312bb4eea265943724db7351dd71c29c501000000 Worker ID: 8b5cd1df4d7fd85c3bf212b336ed51b1ad2f7e5031bfe4cf23912ad5 Node ID: e287c513c118cce8a943a6b5059545ce2ae2b16fcc6f91ed932fa4bb Worker IP address: 172.16.5.4 Worker port: 46725 Worker PID: 32723 Worker exit type: SYSTEM_ERROR Worker exit detail: Worker unexpectedly exits with a connection error code 2. End of file. There are some potential root causes. (1) The process is killed by SIGKILL by OOM killer due to high memory usage. (2) ray stop --force is called. (3) The worker is crashed unexpectedly due to SIGSEGV or other unexpected errors.\n",
      "\u001b[36m(launch_and_fit pid=32723)\u001b[0m Run with homomorphic encryption\n",
      "\u001b[36m(launch_and_fit pid=32723)\u001b[0m [Client 2, round 1] fit, config: {'learning_rate': 0.003, 'batch_size': '32', 'server_round': 1, 'local_epochs': 5}\n",
      "\u001b[36m(launch_and_fit pid=32723)\u001b[0m Updated model\n",
      "\u001b[36m(launch_and_fit pid=32723)\u001b[0m \tTrain Epoch: 5 \tTrain_loss: 1.9063 | Train_acc: 22.0255 % | Validation_loss: 1.8429 | Validation_acc: 17.1875 %\u001b[32m [repeated 8x across cluster]\u001b[0m\n",
      "\u001b[36m(launch_and_fit pid=32723)\u001b[0m save graph in  results/FL/\n",
      "\u001b[33m(raylet)\u001b[0m A worker died or was killed while executing a task by an unexpected system error. To troubleshoot the problem, check the logs for the dead worker. RayTask ID: fa29c6bc58fbc7d83d8bedf3637bb95482534eb301000000 Worker ID: 3e1ac459ee7d71ae4ef0723a1d703c95193cd7871f9eb290ba446f6d Node ID: e287c513c118cce8a943a6b5059545ce2ae2b16fcc6f91ed932fa4bb Worker IP address: 172.16.5.4 Worker port: 41595 Worker PID: 32675 Worker exit type: SYSTEM_ERROR Worker exit detail: Worker unexpectedly exits with a connection error code 2. End of file. There are some potential root causes. (1) The process is killed by SIGKILL by OOM killer due to high memory usage. (2) ray stop --force is called. (3) The worker is crashed unexpectedly due to SIGSEGV or other unexpected errors.\n",
      "\u001b[36m(launch_and_fit pid=33097)\u001b[0m Run with homomorphic encryption\n",
      "\u001b[36m(launch_and_fit pid=33097)\u001b[0m [Client 8, round 1] fit, config: {'learning_rate': 0.003, 'batch_size': '32', 'server_round': 1, 'local_epochs': 5}\n",
      "\u001b[36m(launch_and_fit pid=33097)\u001b[0m Updated model\n"
     ]
    },
    {
     "name": "stderr",
     "output_type": "stream",
     "text": [
      "  0%|\u001b[34m          \u001b[0m| 0/5 [00:00<?, ?it/s]\u001b[32m [repeated 2x across cluster]\u001b[0m\n"
     ]
    },
    {
     "name": "stdout",
     "output_type": "stream",
     "text": [
      "\u001b[36m(launch_and_fit pid=33097)\u001b[0m \tTrain Epoch: 1 \tTrain_loss: 2.4638 | Train_acc: 19.6644 % | Validation_loss: 1.9441 | Validation_acc: 30.7292 %\n"
     ]
    },
    {
     "name": "stderr",
     "output_type": "stream",
     "text": [
      " 20%|\u001b[34m██        \u001b[0m| 1/5 [00:00<00:01,  3.12it/s]\n",
      " 20%|\u001b[34m██        \u001b[0m| 1/5 [00:00<00:01,  3.08it/s]\n",
      " 80%|\u001b[34m████████  \u001b[0m| 4/5 [00:00<00:00, 10.91it/s]\n",
      " 80%|\u001b[34m████████  \u001b[0m| 4/5 [00:00<00:00, 11.22it/s]\n"
     ]
    },
    {
     "name": "stdout",
     "output_type": "stream",
     "text": [
      "\u001b[36m(launch_and_fit pid=33142)\u001b[0m save graph in  results/FL/\n"
     ]
    },
    {
     "name": "stderr",
     "output_type": "stream",
     "text": [
      "100%|\u001b[34m██████████\u001b[0m| 5/5 [00:00<00:00,  7.63it/s]\n",
      "100%|\u001b[34m██████████\u001b[0m| 5/5 [00:00<00:00,  6.94it/s]\n"
     ]
    },
    {
     "name": "stdout",
     "output_type": "stream",
     "text": [
      "\u001b[36m(launch_and_fit pid=33097)\u001b[0m fc1.weight 4.291534423828125e-06\n",
      "\u001b[36m(launch_and_fit pid=33097)\u001b[0m fc1.bias 1.6689300537109375e-06\n",
      "\u001b[36m(launch_and_fit pid=33097)\u001b[0m fc2.weight 1.1920928955078125e-06\n",
      "\u001b[36m(launch_and_fit pid=33097)\u001b[0m fc2.bias 1.1920928955078125e-06\n",
      "\u001b[36m(launch_and_fit pid=33142)\u001b[0m fc1.weight 5.245208740234375e-06\n",
      "\u001b[36m(launch_and_fit pid=33142)\u001b[0m fc1.bias 1.430511474609375e-06\n",
      "\u001b[36m(launch_and_fit pid=33142)\u001b[0m fc2.weight 9.5367431640625e-07\n",
      "\u001b[36m(launch_and_fit pid=33142)\u001b[0m fc2.bias 7.152557373046875e-07\n",
      "\u001b[33m(raylet)\u001b[0m A worker died or was killed while executing a task by an unexpected system error. To troubleshoot the problem, check the logs for the dead worker. RayTask ID: 88407a376942323196c8b89163e7d51daaf910ea01000000 Worker ID: 79555a4db2f94c321aa7caad754dd92538579c60656eda99310050f0 Node ID: e287c513c118cce8a943a6b5059545ce2ae2b16fcc6f91ed932fa4bb Worker IP address: 172.16.5.4 Worker port: 38549 Worker PID: 33097 Worker exit type: SYSTEM_ERROR Worker exit detail: Worker unexpectedly exits with a connection error code 2. End of file. There are some potential root causes. (1) The process is killed by SIGKILL by OOM killer due to high memory usage. (2) ray stop --force is called. (3) The worker is crashed unexpectedly due to SIGSEGV or other unexpected errors.\n",
      "\u001b[36m(launch_and_fit pid=33142)\u001b[0m Run with homomorphic encryption\n",
      "\u001b[36m(launch_and_fit pid=33142)\u001b[0m [Client 0, round 1] fit, config: {'learning_rate': 0.003, 'batch_size': '32', 'server_round': 1, 'local_epochs': 5}\n",
      "\u001b[36m(launch_and_fit pid=33142)\u001b[0m Updated model\n",
      "\u001b[36m(launch_and_fit pid=33097)\u001b[0m \tTrain Epoch: 5 \tTrain_loss: 1.8538 | Train_acc: 26.4583 % | Validation_loss: 1.8544 | Validation_acc: 30.7292 %\u001b[32m [repeated 9x across cluster]\u001b[0m\n",
      "\u001b[36m(launch_and_fit pid=33097)\u001b[0m save graph in  results/FL/\n",
      "\u001b[33m(raylet)\u001b[0m A worker died or was killed while executing a task by an unexpected system error. To troubleshoot the problem, check the logs for the dead worker. RayTask ID: aec50cecd889be1f798e37a9bce8fd46c0a4f56501000000 Worker ID: 7c7f49ec802043fa3f06187bf8e5d60436e345e719cba0f82b37ab01 Node ID: e287c513c118cce8a943a6b5059545ce2ae2b16fcc6f91ed932fa4bb Worker IP address: 172.16.5.4 Worker port: 41143 Worker PID: 33142 Worker exit type: SYSTEM_ERROR Worker exit detail: Worker unexpectedly exits with a connection error code 2. End of file. There are some potential root causes. (1) The process is killed by SIGKILL by OOM killer due to high memory usage. (2) ray stop --force is called. (3) The worker is crashed unexpectedly due to SIGSEGV or other unexpected errors.\n",
      "\u001b[36m(launch_and_fit pid=33503)\u001b[0m Run with homomorphic encryption\n",
      "\u001b[36m(launch_and_fit pid=33535)\u001b[0m [Client 1, round 1] fit, config: {'learning_rate': 0.003, 'batch_size': '32', 'server_round': 1, 'local_epochs': 5}\n",
      "\u001b[36m(launch_and_fit pid=33503)\u001b[0m Updated model\n"
     ]
    },
    {
     "name": "stderr",
     "output_type": "stream",
     "text": [
      "  0%|\u001b[34m          \u001b[0m| 0/5 [00:00<?, ?it/s]\u001b[32m [repeated 2x across cluster]\u001b[0m\n"
     ]
    },
    {
     "name": "stdout",
     "output_type": "stream",
     "text": [
      "\u001b[36m(launch_and_fit pid=33503)\u001b[0m \tTrain Epoch: 1 \tTrain_loss: 2.4289 | Train_acc: 19.4676 % | Validation_loss: 1.8035 | Validation_acc: 22.9167 %\n"
     ]
    },
    {
     "name": "stderr",
     "output_type": "stream",
     "text": [
      " 20%|\u001b[34m██        \u001b[0m| 1/5 [00:00<00:01,  3.27it/s]\n",
      " 20%|\u001b[34m██        \u001b[0m| 1/5 [00:00<00:01,  3.27it/s]\n",
      " 80%|\u001b[34m████████  \u001b[0m| 4/5 [00:00<00:00, 11.15it/s]\n",
      " 80%|\u001b[34m████████  \u001b[0m| 4/5 [00:00<00:00, 11.45it/s]\n"
     ]
    },
    {
     "name": "stdout",
     "output_type": "stream",
     "text": [
      "\u001b[36m(launch_and_fit pid=33503)\u001b[0m save graph in  results/FL/\n"
     ]
    },
    {
     "name": "stderr",
     "output_type": "stream",
     "text": [
      "100%|\u001b[34m██████████\u001b[0m| 5/5 [00:00<00:00,  7.75it/s]\n",
      "100%|\u001b[34m██████████\u001b[0m| 5/5 [00:00<00:00,  7.92it/s]\n"
     ]
    },
    {
     "name": "stdout",
     "output_type": "stream",
     "text": [
      "\u001b[36m(launch_and_fit pid=33503)\u001b[0m fc1.weight 4.76837158203125e-06\n",
      "\u001b[36m(launch_and_fit pid=33503)\u001b[0m fc1.bias 1.9073486328125e-06\n",
      "\u001b[36m(launch_and_fit pid=33503)\u001b[0m fc2.weight 1.6689300537109375e-06\n",
      "\u001b[36m(launch_and_fit pid=33503)\u001b[0m fc2.bias 9.5367431640625e-07\n",
      "\u001b[36m(launch_and_fit pid=33535)\u001b[0m fc1.weight 4.76837158203125e-06\n",
      "\u001b[36m(launch_and_fit pid=33535)\u001b[0m fc1.bias 1.430511474609375e-06\n",
      "\u001b[36m(launch_and_fit pid=33535)\u001b[0m fc2.weight 9.5367431640625e-07\n",
      "\u001b[36m(launch_and_fit pid=33535)\u001b[0m fc2.bias 7.152557373046875e-07\n",
      "\u001b[33m(raylet)\u001b[0m A worker died or was killed while executing a task by an unexpected system error. To troubleshoot the problem, check the logs for the dead worker. RayTask ID: 9c007ce2bf9e404d8bac99130974395c8e1e8f1d01000000 Worker ID: fd1d0dfe28a72762cda52fc3efc5ce1330ddcc592e4dee2b3619d467 Node ID: e287c513c118cce8a943a6b5059545ce2ae2b16fcc6f91ed932fa4bb Worker IP address: 172.16.5.4 Worker port: 43163 Worker PID: 33535 Worker exit type: SYSTEM_ERROR Worker exit detail: Worker unexpectedly exits with a connection error code 2. End of file. There are some potential root causes. (1) The process is killed by SIGKILL by OOM killer due to high memory usage. (2) ray stop --force is called. (3) The worker is crashed unexpectedly due to SIGSEGV or other unexpected errors.\n",
      "\u001b[36m(launch_and_fit pid=33535)\u001b[0m Run with homomorphic encryption\n",
      "\u001b[36m(launch_and_fit pid=33503)\u001b[0m [Client 3, round 1] fit, config: {'learning_rate': 0.003, 'batch_size': '32', 'server_round': 1, 'local_epochs': 5}\n",
      "\u001b[36m(launch_and_fit pid=33535)\u001b[0m Updated model\n",
      "\u001b[36m(launch_and_fit pid=33535)\u001b[0m \tTrain Epoch: 5 \tTrain_loss: 1.8432 | Train_acc: 28.7847 % | Validation_loss: 1.8403 | Validation_acc: 27.6042 %\u001b[32m [repeated 9x across cluster]\u001b[0m\n",
      "\u001b[36m(launch_and_fit pid=33535)\u001b[0m save graph in  results/FL/\n",
      "\u001b[33m(raylet)\u001b[0m A worker died or was killed while executing a task by an unexpected system error. To troubleshoot the problem, check the logs for the dead worker. RayTask ID: ead75f5433b4a439373193d20832aa747e76f20001000000 Worker ID: cf09cb91e5e154529063c84c779e7dd128abed7d176ef63bee7281d4 Node ID: e287c513c118cce8a943a6b5059545ce2ae2b16fcc6f91ed932fa4bb Worker IP address: 172.16.5.4 Worker port: 36673 Worker PID: 33503 Worker exit type: SYSTEM_ERROR Worker exit detail: Worker unexpectedly exits with a connection error code 2. End of file. There are some potential root causes. (1) The process is killed by SIGKILL by OOM killer due to high memory usage. (2) ray stop --force is called. (3) The worker is crashed unexpectedly due to SIGSEGV or other unexpected errors.\n",
      "\u001b[36m(launch_and_fit pid=33899)\u001b[0m Run with homomorphic encryption\n",
      "\u001b[36m(launch_and_fit pid=33899)\u001b[0m [Client 2, round 1] fit, config: {'learning_rate': 0.003, 'batch_size': '32', 'server_round': 1, 'local_epochs': 5}\n",
      "\u001b[36m(launch_and_fit pid=33899)\u001b[0m Updated model\n"
     ]
    },
    {
     "name": "stderr",
     "output_type": "stream",
     "text": [
      "  0%|\u001b[34m          \u001b[0m| 0/5 [00:00<?, ?it/s]\u001b[32m [repeated 2x across cluster]\u001b[0m\n"
     ]
    },
    {
     "name": "stdout",
     "output_type": "stream",
     "text": [
      "\u001b[36m(launch_and_fit pid=33899)\u001b[0m \tTrain Epoch: 1 \tTrain_loss: 2.3987 | Train_acc: 19.2940 % | Validation_loss: 1.9716 | Validation_acc: 17.1875 %\n",
      "\u001b[36m(launch_and_fit pid=33899)\u001b[0m \tTrain Epoch: 2 \tTrain_loss: 2.0555 | Train_acc: 19.3519 % | Validation_loss: 1.9162 | Validation_acc: 17.1875 %\n",
      "\u001b[36m(launch_and_fit pid=33899)\u001b[0m \tTrain Epoch: 3 \tTrain_loss: 2.0071 | Train_acc: 23.2755 % | Validation_loss: 1.8826 | Validation_acc: 18.7500 %\n"
     ]
    },
    {
     "name": "stderr",
     "output_type": "stream",
     "text": [
      " 20%|\u001b[34m██        \u001b[0m| 1/5 [00:00<00:01,  3.03it/s]\n",
      " 20%|\u001b[34m██        \u001b[0m| 1/5 [00:00<00:01,  3.03it/s]\n",
      " 80%|\u001b[34m████████  \u001b[0m| 4/5 [00:00<00:00, 10.89it/s]\n",
      " 80%|\u001b[34m████████  \u001b[0m| 4/5 [00:00<00:00, 11.01it/s]\n"
     ]
    },
    {
     "name": "stdout",
     "output_type": "stream",
     "text": [
      "\u001b[36m(launch_and_fit pid=33899)\u001b[0m save graph in  results/FL/\n"
     ]
    },
    {
     "name": "stderr",
     "output_type": "stream",
     "text": [
      "100%|\u001b[34m██████████\u001b[0m| 5/5 [00:00<00:00,  7.63it/s]\n",
      "100%|\u001b[34m██████████\u001b[0m| 5/5 [00:00<00:00,  7.69it/s]\n"
     ]
    },
    {
     "name": "stdout",
     "output_type": "stream",
     "text": [
      "\u001b[36m(launch_and_fit pid=33899)\u001b[0m fc1.weight 4.76837158203125e-06\n",
      "\u001b[36m(launch_and_fit pid=33899)\u001b[0m fc1.bias 9.5367431640625e-07\n",
      "\u001b[36m(launch_and_fit pid=33899)\u001b[0m fc2.weight 7.152557373046875e-07\n",
      "\u001b[36m(launch_and_fit pid=33899)\u001b[0m fc2.bias 7.152557373046875e-07\n",
      "\u001b[36m(launch_and_fit pid=33956)\u001b[0m fc1.weight 4.291534423828125e-06\n",
      "\u001b[36m(launch_and_fit pid=33956)\u001b[0m fc1.bias 1.430511474609375e-06\n",
      "\u001b[36m(launch_and_fit pid=33956)\u001b[0m fc2.weight 9.5367431640625e-07\n",
      "\u001b[36m(launch_and_fit pid=33956)\u001b[0m fc2.bias 7.152557373046875e-07\n",
      "\u001b[33m(raylet)\u001b[0m A worker died or was killed while executing a task by an unexpected system error. To troubleshoot the problem, check the logs for the dead worker. RayTask ID: 6c852a68c4c1cd194eb3ba4c3577a8aa009af25701000000 Worker ID: 9689d7e39c748fa6594bbcc7ba7da6d74ea6d97f9fceec74ae814f0c Node ID: e287c513c118cce8a943a6b5059545ce2ae2b16fcc6f91ed932fa4bb Worker IP address: 172.16.5.4 Worker port: 37141 Worker PID: 33956 Worker exit type: SYSTEM_ERROR Worker exit detail: Worker unexpectedly exits with a connection error code 2. End of file. There are some potential root causes. (1) The process is killed by SIGKILL by OOM killer due to high memory usage. (2) ray stop --force is called. (3) The worker is crashed unexpectedly due to SIGSEGV or other unexpected errors.\n",
      "\u001b[36m(launch_and_fit pid=33956)\u001b[0m Run with homomorphic encryption\n",
      "\u001b[36m(launch_and_fit pid=33956)\u001b[0m [Client 6, round 1] fit, config: {'learning_rate': 0.003, 'batch_size': '32', 'server_round': 1, 'local_epochs': 5}\n",
      "\u001b[36m(launch_and_fit pid=33956)\u001b[0m Updated model\n",
      "\u001b[36m(launch_and_fit pid=33956)\u001b[0m \tTrain Epoch: 5 \tTrain_loss: 1.8278 | Train_acc: 33.7037 % | Validation_loss: 1.8634 | Validation_acc: 26.0417 %\u001b[32m [repeated 7x across cluster]\u001b[0m\n",
      "\u001b[36m(launch_and_fit pid=33956)\u001b[0m save graph in  results/FL/\n",
      "\u001b[33m(raylet)\u001b[0m A worker died or was killed while executing a task by an unexpected system error. To troubleshoot the problem, check the logs for the dead worker. RayTask ID: e0b2997918192dd23fa96f351d09664bf3a7659001000000 Worker ID: 5dd34034e0d9d4040d06e9fbb7450452b19c1096665cd047bc44b58c Node ID: e287c513c118cce8a943a6b5059545ce2ae2b16fcc6f91ed932fa4bb Worker IP address: 172.16.5.4 Worker port: 38979 Worker PID: 33899 Worker exit type: SYSTEM_ERROR Worker exit detail: The leased worker has unrecoverable failure. Worker is requested to be destroyed when it is returned. RPC Error message: Socket closed; RPC Error details: \n",
      "\u001b[36m(launch_and_fit pid=34323)\u001b[0m Run with homomorphic encryption\n",
      "\u001b[36m(launch_and_fit pid=34323)\u001b[0m [Client 8, round 1] fit, config: {'learning_rate': 0.003, 'batch_size': '32', 'server_round': 1, 'local_epochs': 5}\n",
      "\u001b[36m(launch_and_fit pid=34323)\u001b[0m Updated model\n"
     ]
    },
    {
     "name": "stderr",
     "output_type": "stream",
     "text": [
      "  0%|\u001b[34m          \u001b[0m| 0/5 [00:00<?, ?it/s]\u001b[32m [repeated 2x across cluster]\u001b[0m\n"
     ]
    },
    {
     "name": "stdout",
     "output_type": "stream",
     "text": [
      "\u001b[36m(launch_and_fit pid=34323)\u001b[0m \tTrain Epoch: 1 \tTrain_loss: 2.3625 | Train_acc: 19.2940 % | Validation_loss: 2.0211 | Validation_acc: 30.7292 %\n"
     ]
    },
    {
     "name": "stderr",
     "output_type": "stream",
     "text": [
      " 20%|\u001b[34m██        \u001b[0m| 1/5 [00:00<00:01,  3.13it/s]\n",
      " 20%|\u001b[34m██        \u001b[0m| 1/5 [00:00<00:01,  3.11it/s]\n",
      " 80%|\u001b[34m████████  \u001b[0m| 4/5 [00:00<00:00, 11.25it/s]\n",
      " 80%|\u001b[34m████████  \u001b[0m| 4/5 [00:00<00:00, 10.92it/s]\n"
     ]
    },
    {
     "name": "stdout",
     "output_type": "stream",
     "text": [
      "\u001b[36m(launch_and_fit pid=34323)\u001b[0m save graph in  results/FL/\n"
     ]
    },
    {
     "name": "stderr",
     "output_type": "stream",
     "text": [
      "100%|\u001b[34m██████████\u001b[0m| 5/5 [00:00<00:00,  7.79it/s]\n",
      "100%|\u001b[34m██████████\u001b[0m| 5/5 [00:00<00:00,  7.47it/s]\n"
     ]
    },
    {
     "name": "stdout",
     "output_type": "stream",
     "text": [
      "\u001b[36m(launch_and_fit pid=34323)\u001b[0m fc1.weight 5.245208740234375e-06\n",
      "\u001b[36m(launch_and_fit pid=34323)\u001b[0m fc1.bias 1.430511474609375e-06\n",
      "\u001b[36m(launch_and_fit pid=34323)\u001b[0m fc2.weight 7.152557373046875e-07\n",
      "\u001b[36m(launch_and_fit pid=34323)\u001b[0m fc2.bias 9.5367431640625e-07\n",
      "\u001b[36m(launch_and_fit pid=34366)\u001b[0m fc1.weight 4.5299530029296875e-06\n",
      "\u001b[36m(launch_and_fit pid=34366)\u001b[0m fc1.bias 1.430511474609375e-06\n",
      "\u001b[36m(launch_and_fit pid=34366)\u001b[0m fc2.weight 9.5367431640625e-07\n",
      "\u001b[36m(launch_and_fit pid=34366)\u001b[0m fc2.bias 4.76837158203125e-07\n",
      "\u001b[33m(raylet)\u001b[0m A worker died or was killed while executing a task by an unexpected system error. To troubleshoot the problem, check the logs for the dead worker. RayTask ID: d2f85a08e4f386e4b1ce7e6593c364ad9503ce0101000000 Worker ID: 08c84fc6790ff6994ba858547000a4c077042b0c4cdf27d8d3f1dd0e Node ID: e287c513c118cce8a943a6b5059545ce2ae2b16fcc6f91ed932fa4bb Worker IP address: 172.16.5.4 Worker port: 38365 Worker PID: 34366 Worker exit type: SYSTEM_ERROR Worker exit detail: Worker unexpectedly exits with a connection error code 2. End of file. There are some potential root causes. (1) The process is killed by SIGKILL by OOM killer due to high memory usage. (2) ray stop --force is called. (3) The worker is crashed unexpectedly due to SIGSEGV or other unexpected errors.\n",
      "\u001b[36m(launch_and_fit pid=34366)\u001b[0m Run with homomorphic encryption\n",
      "\u001b[36m(launch_and_fit pid=34366)\u001b[0m [Client 0, round 1] fit, config: {'learning_rate': 0.003, 'batch_size': '32', 'server_round': 1, 'local_epochs': 5}\n",
      "\u001b[36m(launch_and_fit pid=34366)\u001b[0m Updated model\n",
      "\u001b[36m(launch_and_fit pid=34366)\u001b[0m \tTrain Epoch: 5 \tTrain_loss: 1.8842 | Train_acc: 25.8565 % | Validation_loss: 1.7981 | Validation_acc: 32.2917 %\u001b[32m [repeated 9x across cluster]\u001b[0m\n",
      "\u001b[36m(launch_and_fit pid=34366)\u001b[0m save graph in  results/FL/\n",
      "\u001b[33m(raylet)\u001b[0m A worker died or was killed while executing a task by an unexpected system error. To troubleshoot the problem, check the logs for the dead worker. RayTask ID: 59b21e24edb32ed8a9c24962ab5d1a67f7da7bec01000000 Worker ID: 8c6f0ad87c614f70d9e45ce930c00f7dec245732b4bece00e885c5c3 Node ID: e287c513c118cce8a943a6b5059545ce2ae2b16fcc6f91ed932fa4bb Worker IP address: 172.16.5.4 Worker port: 45185 Worker PID: 34323 Worker exit type: SYSTEM_ERROR Worker exit detail: Worker unexpectedly exits with a connection error code 2. End of file. There are some potential root causes. (1) The process is killed by SIGKILL by OOM killer due to high memory usage. (2) ray stop --force is called. (3) The worker is crashed unexpectedly due to SIGSEGV or other unexpected errors.\n",
      "\u001b[36m(launch_and_fit pid=34715)\u001b[0m Run with homomorphic encryption\n",
      "\u001b[36m(launch_and_fit pid=34715)\u001b[0m [Client 1, round 1] fit, config: {'learning_rate': 0.003, 'batch_size': '32', 'server_round': 1, 'local_epochs': 5}\n",
      "\u001b[36m(launch_and_fit pid=34715)\u001b[0m Updated model\n"
     ]
    },
    {
     "name": "stderr",
     "output_type": "stream",
     "text": [
      "  0%|\u001b[34m          \u001b[0m| 0/5 [00:00<?, ?it/s]\u001b[32m [repeated 2x across cluster]\u001b[0m\n"
     ]
    },
    {
     "name": "stdout",
     "output_type": "stream",
     "text": [
      "\u001b[36m(launch_and_fit pid=34762)\u001b[0m \tTrain Epoch: 1 \tTrain_loss: 2.5403 | Train_acc: 19.3519 % | Validation_loss: 1.8006 | Validation_acc: 24.4792 %\n"
     ]
    },
    {
     "name": "stderr",
     "output_type": "stream",
     "text": [
      " 20%|\u001b[34m██        \u001b[0m| 1/5 [00:00<00:01,  3.32it/s]\n",
      " 20%|\u001b[34m██        \u001b[0m| 1/5 [00:00<00:01,  3.19it/s]\n",
      " 80%|\u001b[34m████████  \u001b[0m| 4/5 [00:00<00:00, 11.70it/s]\n",
      " 80%|\u001b[34m████████  \u001b[0m| 4/5 [00:00<00:00, 11.10it/s]\n",
      "100%|\u001b[34m██████████\u001b[0m| 5/5 [00:00<00:00,  7.61it/s]\n",
      "100%|\u001b[34m██████████\u001b[0m| 5/5 [00:00<00:00,  8.00it/s]\n"
     ]
    },
    {
     "name": "stdout",
     "output_type": "stream",
     "text": [
      "\u001b[36m(launch_and_fit pid=34715)\u001b[0m save graph in  results/FL/\n",
      "\u001b[36m(launch_and_fit pid=34715)\u001b[0m fc1.weight 4.5299530029296875e-06\n",
      "\u001b[36m(launch_and_fit pid=34715)\u001b[0m fc1.bias 1.6689300537109375e-06\n",
      "\u001b[36m(launch_and_fit pid=34715)\u001b[0m fc2.weight 1.1920928955078125e-06\n",
      "\u001b[36m(launch_and_fit pid=34715)\u001b[0m fc2.bias 1.1920928955078125e-06\n",
      "\u001b[36m(launch_and_fit pid=34762)\u001b[0m fc1.weight 4.76837158203125e-06\n",
      "\u001b[36m(launch_and_fit pid=34762)\u001b[0m fc1.bias 9.5367431640625e-07\n",
      "\u001b[36m(launch_and_fit pid=34762)\u001b[0m fc2.weight 7.152557373046875e-07\n",
      "\u001b[36m(launch_and_fit pid=34762)\u001b[0m fc2.bias 7.152557373046875e-07\n",
      "\u001b[33m(raylet)\u001b[0m A worker died or was killed while executing a task by an unexpected system error. To troubleshoot the problem, check the logs for the dead worker. RayTask ID: 55b91ed9e2eecf17df30994b7e7826dbc6b05cb901000000 Worker ID: c0ef3db70cb387ccab829fd6c266b0b4f1372efaa263e2cc1dc4cc35 Node ID: e287c513c118cce8a943a6b5059545ce2ae2b16fcc6f91ed932fa4bb Worker IP address: 172.16.5.4 Worker port: 36623 Worker PID: 34715 Worker exit type: SYSTEM_ERROR Worker exit detail: Worker unexpectedly exits with a connection error code 2. End of file. There are some potential root causes. (1) The process is killed by SIGKILL by OOM killer due to high memory usage. (2) ray stop --force is called. (3) The worker is crashed unexpectedly due to SIGSEGV or other unexpected errors.\n",
      "\u001b[36m(launch_and_fit pid=34762)\u001b[0m Run with homomorphic encryption\n",
      "\u001b[36m(launch_and_fit pid=34762)\u001b[0m [Client 3, round 1] fit, config: {'learning_rate': 0.003, 'batch_size': '32', 'server_round': 1, 'local_epochs': 5}\n",
      "\u001b[36m(launch_and_fit pid=34762)\u001b[0m Updated model\n",
      "\u001b[36m(launch_and_fit pid=34762)\u001b[0m \tTrain Epoch: 5 \tTrain_loss: 1.9377 | Train_acc: 16.7940 % | Validation_loss: 1.8093 | Validation_acc: 30.7292 %\u001b[32m [repeated 9x across cluster]\u001b[0m\n",
      "\u001b[36m(launch_and_fit pid=34762)\u001b[0m save graph in  results/FL/\n",
      "\u001b[33m(raylet)\u001b[0m A worker died or was killed while executing a task by an unexpected system error. To troubleshoot the problem, check the logs for the dead worker. RayTask ID: d0bf15569d5583921251f863066a60b5fde4538b01000000 Worker ID: a2c586a7bb08d436f68b487db1c3a5bfaf7ca661d031f637988c4086 Node ID: e287c513c118cce8a943a6b5059545ce2ae2b16fcc6f91ed932fa4bb Worker IP address: 172.16.5.4 Worker port: 41963 Worker PID: 34762 Worker exit type: SYSTEM_ERROR Worker exit detail: Worker unexpectedly exits with a connection error code 2. End of file. There are some potential root causes. (1) The process is killed by SIGKILL by OOM killer due to high memory usage. (2) ray stop --force is called. (3) The worker is crashed unexpectedly due to SIGSEGV or other unexpected errors.\n",
      "\u001b[36m(launch_and_fit pid=35105)\u001b[0m Run with homomorphic encryption\n",
      "\u001b[36m(launch_and_fit pid=35105)\u001b[0m [Client 6, round 1] fit, config: {'learning_rate': 0.003, 'batch_size': '32', 'server_round': 1, 'local_epochs': 5}\n",
      "\u001b[36m(launch_and_fit pid=35105)\u001b[0m Updated model\n"
     ]
    },
    {
     "name": "stderr",
     "output_type": "stream",
     "text": [
      "  0%|\u001b[34m          \u001b[0m| 0/5 [00:00<?, ?it/s]\u001b[32m [repeated 2x across cluster]\u001b[0m\n"
     ]
    },
    {
     "name": "stdout",
     "output_type": "stream",
     "text": [
      "\u001b[36m(launch_and_fit pid=35105)\u001b[0m \tTrain Epoch: 1 \tTrain_loss: 2.4522 | Train_acc: 18.4144 % | Validation_loss: 1.9414 | Validation_acc: 24.4792 %\n",
      "\u001b[36m(launch_and_fit pid=35105)\u001b[0m \tTrain Epoch: 2 \tTrain_loss: 2.0147 | Train_acc: 24.6412 % | Validation_loss: 1.8830 | Validation_acc: 26.0417 %\n"
     ]
    },
    {
     "name": "stderr",
     "output_type": "stream",
     "text": [
      " 20%|\u001b[34m██        \u001b[0m| 1/5 [00:00<00:01,  3.26it/s]\n",
      " 20%|\u001b[34m██        \u001b[0m| 1/5 [00:00<00:01,  3.29it/s]\n",
      " 80%|\u001b[34m████████  \u001b[0m| 4/5 [00:00<00:00, 11.20it/s]\n",
      " 80%|\u001b[34m████████  \u001b[0m| 4/5 [00:00<00:00, 11.41it/s]\n"
     ]
    },
    {
     "name": "stdout",
     "output_type": "stream",
     "text": [
      "\u001b[36m(launch_and_fit pid=35105)\u001b[0m save graph in  results/FL/\n"
     ]
    },
    {
     "name": "stderr",
     "output_type": "stream",
     "text": [
      "100%|\u001b[34m██████████\u001b[0m| 5/5 [00:00<00:00,  7.85it/s]\n",
      "100%|\u001b[34m██████████\u001b[0m| 5/5 [00:00<00:00,  7.89it/s]\n"
     ]
    },
    {
     "name": "stdout",
     "output_type": "stream",
     "text": [
      "\u001b[36m(launch_and_fit pid=35105)\u001b[0m fc1.weight 4.76837158203125e-06\n",
      "\u001b[36m(launch_and_fit pid=35105)\u001b[0m fc1.bias 1.430511474609375e-06\n",
      "\u001b[36m(launch_and_fit pid=35105)\u001b[0m fc2.weight 7.152557373046875e-07\n",
      "\u001b[36m(launch_and_fit pid=35105)\u001b[0m fc2.bias 9.5367431640625e-07\n",
      "\u001b[36m(launch_and_fit pid=35148)\u001b[0m fc1.weight 4.5299530029296875e-06\n",
      "\u001b[36m(launch_and_fit pid=35148)\u001b[0m fc1.bias 1.1920928955078125e-06\n",
      "\u001b[36m(launch_and_fit pid=35148)\u001b[0m fc2.weight 9.5367431640625e-07\n",
      "\u001b[36m(launch_and_fit pid=35148)\u001b[0m fc2.bias 7.152557373046875e-07\n",
      "\u001b[33m(raylet)\u001b[0m A worker died or was killed while executing a task by an unexpected system error. To troubleshoot the problem, check the logs for the dead worker. RayTask ID: c7d2e4a3e80cc9d7ca88a1d59031a6cefe6e1dd501000000 Worker ID: cde7d96e3fc2db62b07467bec4e608464354d89e50d434c17116f73a Node ID: e287c513c118cce8a943a6b5059545ce2ae2b16fcc6f91ed932fa4bb Worker IP address: 172.16.5.4 Worker port: 43145 Worker PID: 35148 Worker exit type: SYSTEM_ERROR Worker exit detail: Worker unexpectedly exits with a connection error code 2. End of file. There are some potential root causes. (1) The process is killed by SIGKILL by OOM killer due to high memory usage. (2) ray stop --force is called. (3) The worker is crashed unexpectedly due to SIGSEGV or other unexpected errors.\n",
      "\u001b[36m(launch_and_fit pid=35148)\u001b[0m Run with homomorphic encryption\n",
      "\u001b[36m(launch_and_fit pid=35148)\u001b[0m [Client 2, round 1] fit, config: {'learning_rate': 0.003, 'batch_size': '32', 'server_round': 1, 'local_epochs': 5}\n",
      "\u001b[36m(launch_and_fit pid=35148)\u001b[0m Updated model\n",
      "\u001b[36m(launch_and_fit pid=35148)\u001b[0m \tTrain Epoch: 5 \tTrain_loss: 1.9358 | Train_acc: 22.2801 % | Validation_loss: 1.9171 | Validation_acc: 17.1875 %\u001b[32m [repeated 8x across cluster]\u001b[0m\n",
      "\u001b[36m(launch_and_fit pid=35148)\u001b[0m save graph in  results/FL/\n",
      "\u001b[33m(raylet)\u001b[0m A worker died or was killed while executing a task by an unexpected system error. To troubleshoot the problem, check the logs for the dead worker. RayTask ID: 185b76f08eaec661e0037a4221d03d2c85b275b501000000 Worker ID: fd8e12cc60b3d5db3d5bb6b737d7660daf7919ba8864737052c71ca4 Node ID: e287c513c118cce8a943a6b5059545ce2ae2b16fcc6f91ed932fa4bb Worker IP address: 172.16.5.4 Worker port: 35811 Worker PID: 35105 Worker exit type: SYSTEM_ERROR Worker exit detail: Worker unexpectedly exits with a connection error code 2. End of file. There are some potential root causes. (1) The process is killed by SIGKILL by OOM killer due to high memory usage. (2) ray stop --force is called. (3) The worker is crashed unexpectedly due to SIGSEGV or other unexpected errors.\n",
      "\u001b[36m(launch_and_fit pid=35480)\u001b[0m Run with homomorphic encryption\n",
      "\u001b[36m(launch_and_fit pid=35480)\u001b[0m [Client 0, round 1] fit, config: {'learning_rate': 0.003, 'batch_size': '32', 'server_round': 1, 'local_epochs': 5}\n",
      "\u001b[36m(launch_and_fit pid=35480)\u001b[0m Updated model\n"
     ]
    },
    {
     "name": "stderr",
     "output_type": "stream",
     "text": [
      "  0%|\u001b[34m          \u001b[0m| 0/5 [00:00<?, ?it/s]\u001b[32m [repeated 2x across cluster]\u001b[0m\n",
      " 20%|\u001b[34m██        \u001b[0m| 1/5 [00:00<00:01,  3.17it/s]\n",
      " 20%|\u001b[34m██        \u001b[0m| 1/5 [00:00<00:01,  3.12it/s]\n",
      " 80%|\u001b[34m████████  \u001b[0m| 4/5 [00:00<00:00, 10.31it/s]\n",
      " 60%|\u001b[34m██████    \u001b[0m| 3/5 [00:00<00:00,  7.76it/s]\n"
     ]
    },
    {
     "name": "stdout",
     "output_type": "stream",
     "text": [
      "\u001b[36m(launch_and_fit pid=35480)\u001b[0m \tTrain Epoch: 1 \tTrain_loss: 2.5013 | Train_acc: 17.3611 % | Validation_loss: 1.7410 | Validation_acc: 32.2917 %\n",
      "\u001b[36m(launch_and_fit pid=35480)\u001b[0m \tTrain Epoch: 2 \tTrain_loss: 2.0126 | Train_acc: 21.5394 % | Validation_loss: 1.7621 | Validation_acc: 32.2917 %\n"
     ]
    },
    {
     "name": "stderr",
     "output_type": "stream",
     "text": [
      "100%|\u001b[34m██████████\u001b[0m| 5/5 [00:00<00:00,  7.03it/s]\n",
      "100%|\u001b[34m██████████\u001b[0m| 5/5 [00:00<00:00,  6.95it/s]\n"
     ]
    },
    {
     "name": "stdout",
     "output_type": "stream",
     "text": [
      "\u001b[36m(launch_and_fit pid=35480)\u001b[0m save graph in  results/FL/\n",
      "\u001b[36m(launch_and_fit pid=35480)\u001b[0m fc1.weight 5.245208740234375e-06\n",
      "\u001b[36m(launch_and_fit pid=35480)\u001b[0m fc1.bias 1.430511474609375e-06\n",
      "\u001b[36m(launch_and_fit pid=35480)\u001b[0m fc2.weight 9.5367431640625e-07\n",
      "\u001b[36m(launch_and_fit pid=35480)\u001b[0m fc2.bias 1.430511474609375e-06\n",
      "\u001b[36m(launch_and_fit pid=35520)\u001b[0m fc1.weight 4.76837158203125e-06\n",
      "\u001b[36m(launch_and_fit pid=35520)\u001b[0m fc1.bias 1.1920928955078125e-06\n",
      "\u001b[36m(launch_and_fit pid=35520)\u001b[0m fc2.weight 9.5367431640625e-07\n",
      "\u001b[36m(launch_and_fit pid=35520)\u001b[0m fc2.bias 7.152557373046875e-07\n",
      "\u001b[33m(raylet)\u001b[0m A worker died or was killed while executing a task by an unexpected system error. To troubleshoot the problem, check the logs for the dead worker. RayTask ID: 5bf4e19e1be99c941635e9212f37f424faf561de01000000 Worker ID: a20a3ef34759a0565e3a7b9bc181f9ed042a579b876516e87ffb6caf Node ID: e287c513c118cce8a943a6b5059545ce2ae2b16fcc6f91ed932fa4bb Worker IP address: 172.16.5.4 Worker port: 46493 Worker PID: 35480 Worker exit type: SYSTEM_ERROR Worker exit detail: Worker unexpectedly exits with a connection error code 2. End of file. There are some potential root causes. (1) The process is killed by SIGKILL by OOM killer due to high memory usage. (2) ray stop --force is called. (3) The worker is crashed unexpectedly due to SIGSEGV or other unexpected errors.\n",
      "\u001b[36m(launch_and_fit pid=35520)\u001b[0m Run with homomorphic encryption\n",
      "\u001b[36m(launch_and_fit pid=35520)\u001b[0m [Client 8, round 1] fit, config: {'learning_rate': 0.003, 'batch_size': '32', 'server_round': 1, 'local_epochs': 5}\n",
      "\u001b[36m(launch_and_fit pid=35520)\u001b[0m Updated model\n",
      "\u001b[36m(launch_and_fit pid=35520)\u001b[0m \tTrain Epoch: 5 \tTrain_loss: 1.8438 | Train_acc: 30.0116 % | Validation_loss: 1.8706 | Validation_acc: 30.7292 %\u001b[32m [repeated 8x across cluster]\u001b[0m\n",
      "\u001b[36m(launch_and_fit pid=35520)\u001b[0m save graph in  results/FL/\n",
      "\u001b[33m(raylet)\u001b[0m A worker died or was killed while executing a task by an unexpected system error. To troubleshoot the problem, check the logs for the dead worker. RayTask ID: fd577f7b8e2b4ad7bb9b5c10ad04840e8d0a36cd01000000 Worker ID: 60b7556aab5e9c41f50c219005a14b082e0702bf81af2c14617be551 Node ID: e287c513c118cce8a943a6b5059545ce2ae2b16fcc6f91ed932fa4bb Worker IP address: 172.16.5.4 Worker port: 41995 Worker PID: 35520 Worker exit type: SYSTEM_ERROR Worker exit detail: Worker unexpectedly exits with a connection error code 2. End of file. There are some potential root causes. (1) The process is killed by SIGKILL by OOM killer due to high memory usage. (2) ray stop --force is called. (3) The worker is crashed unexpectedly due to SIGSEGV or other unexpected errors.\n",
      "\u001b[36m(launch_and_fit pid=35848)\u001b[0m Run with homomorphic encryption\n"
     ]
    },
    {
     "name": "stderr",
     "output_type": "stream",
     "text": [
      "  0%|\u001b[34m          \u001b[0m| 0/5 [00:00<?, ?it/s]\u001b[32m [repeated 2x across cluster]\u001b[0m\n"
     ]
    },
    {
     "name": "stdout",
     "output_type": "stream",
     "text": [
      "\u001b[36m(launch_and_fit pid=35848)\u001b[0m [Client 1, round 1] fit, config: {'learning_rate': 0.003, 'batch_size': '32', 'server_round': 1, 'local_epochs': 5}\n",
      "\u001b[36m(launch_and_fit pid=35848)\u001b[0m Updated model\n"
     ]
    },
    {
     "name": "stderr",
     "output_type": "stream",
     "text": [
      " 20%|\u001b[34m██        \u001b[0m| 1/5 [00:00<00:01,  3.23it/s]\n",
      " 20%|\u001b[34m██        \u001b[0m| 1/5 [00:00<00:01,  3.23it/s]\n"
     ]
    },
    {
     "name": "stdout",
     "output_type": "stream",
     "text": [
      "\u001b[36m(launch_and_fit pid=35848)\u001b[0m \tTrain Epoch: 1 \tTrain_loss: 2.5104 | Train_acc: 15.6597 % | Validation_loss: 1.7874 | Validation_acc: 24.4792 %\n"
     ]
    },
    {
     "name": "stderr",
     "output_type": "stream",
     "text": [
      " 80%|\u001b[34m████████  \u001b[0m| 4/5 [00:00<00:00, 10.91it/s]\n",
      " 80%|\u001b[34m████████  \u001b[0m| 4/5 [00:00<00:00, 10.89it/s]\n",
      "100%|\u001b[34m██████████\u001b[0m| 5/5 [00:00<00:00,  7.65it/s]\n",
      "100%|\u001b[34m██████████\u001b[0m| 5/5 [00:00<00:00,  7.66it/s]\n"
     ]
    },
    {
     "name": "stdout",
     "output_type": "stream",
     "text": [
      "\u001b[36m(launch_and_fit pid=35848)\u001b[0m save graph in  results/FL/\n",
      "\u001b[36m(launch_and_fit pid=35848)\u001b[0m fc1.weight 4.0531158447265625e-06\n",
      "\u001b[36m(launch_and_fit pid=35848)\u001b[0m fc1.bias 1.1920928955078125e-06\n",
      "\u001b[36m(launch_and_fit pid=35848)\u001b[0m fc2.weight 9.5367431640625e-07\n",
      "\u001b[36m(launch_and_fit pid=35848)\u001b[0m fc2.bias 7.152557373046875e-07\n",
      "\u001b[36m(launch_and_fit pid=35891)\u001b[0m fc1.weight 5.0067901611328125e-06\n",
      "\u001b[36m(launch_and_fit pid=35891)\u001b[0m fc1.bias 1.6689300537109375e-06\n",
      "\u001b[36m(launch_and_fit pid=35891)\u001b[0m fc2.weight 1.430511474609375e-06\n",
      "\u001b[36m(launch_and_fit pid=35891)\u001b[0m fc2.bias 9.5367431640625e-07\n",
      "\u001b[33m(raylet)\u001b[0m A worker died or was killed while executing a task by an unexpected system error. To troubleshoot the problem, check the logs for the dead worker. RayTask ID: 832dfb995c2f864a411d6e7d7a0074c3d36e945e01000000 Worker ID: 545bed0f5be9df94fae7a6888b659d0c4d317ace3ece3e7c191846b2 Node ID: e287c513c118cce8a943a6b5059545ce2ae2b16fcc6f91ed932fa4bb Worker IP address: 172.16.5.4 Worker port: 39191 Worker PID: 35848 Worker exit type: SYSTEM_ERROR Worker exit detail: Worker unexpectedly exits with a connection error code 2. End of file. There are some potential root causes. (1) The process is killed by SIGKILL by OOM killer due to high memory usage. (2) ray stop --force is called. (3) The worker is crashed unexpectedly due to SIGSEGV or other unexpected errors.\n",
      "\u001b[36m(launch_and_fit pid=35891)\u001b[0m Run with homomorphic encryption\n",
      "\u001b[36m(launch_and_fit pid=35891)\u001b[0m [Client 3, round 1] fit, config: {'learning_rate': 0.003, 'batch_size': '32', 'server_round': 1, 'local_epochs': 5}\n",
      "\u001b[36m(launch_and_fit pid=35891)\u001b[0m Updated model\n",
      "\u001b[36m(launch_and_fit pid=35891)\u001b[0m \tTrain Epoch: 5 \tTrain_loss: 1.8652 | Train_acc: 29.5255 % | Validation_loss: 1.8457 | Validation_acc: 30.7292 %\u001b[32m [repeated 9x across cluster]\u001b[0m\n",
      "\u001b[36m(launch_and_fit pid=35891)\u001b[0m save graph in  results/FL/\n"
     ]
    },
    {
     "name": "stderr",
     "output_type": "stream",
     "text": [
      "ERROR flwr 2024-07-13 19:01:17,339 | ray_client_proxy.py:87 | The worker died unexpectedly while executing this task. Check python-core-worker-*.log files for more information.\n"
     ]
    },
    {
     "name": "stdout",
     "output_type": "stream",
     "text": [
      "\u001b[33m(raylet)\u001b[0m A worker died or was killed while executing a task by an unexpected system error. To troubleshoot the problem, check the logs for the dead worker. RayTask ID: 2c23213c61a86553534875621b1d7457490e5ee201000000 Worker ID: 52e51028c6a8c31eea5539d993c36f0297d889f54813051caa49bfe2 Node ID: e287c513c118cce8a943a6b5059545ce2ae2b16fcc6f91ed932fa4bb Worker IP address: 172.16.5.4 Worker port: 39653 Worker PID: 35891 Worker exit type: SYSTEM_ERROR Worker exit detail: Worker unexpectedly exits with a connection error code 2. End of file. There are some potential root causes. (1) The process is killed by SIGKILL by OOM killer due to high memory usage. (2) ray stop --force is called. (3) The worker is crashed unexpectedly due to SIGSEGV or other unexpected errors.\n"
     ]
    },
    {
     "name": "stderr",
     "output_type": "stream",
     "text": [
      "ERROR flwr 2024-07-13 19:01:32,368 | ray_client_proxy.py:87 | The worker died unexpectedly while executing this task. Check python-core-worker-*.log files for more information.\n",
      "ERROR flwr 2024-07-13 19:02:04,787 | ray_client_proxy.py:87 | \u001b[36mray::launch_and_fit()\u001b[39m (pid=36261, ip=172.16.5.4)\n",
      "  At least one of the input arguments for this task could not be computed:\n",
      "ray.exceptions.RaySystemError: System error: No module named 'utils.security'\n",
      "traceback: Traceback (most recent call last):\n",
      "  File \"/workspaces/QFML-QF-2024/src/utils/__init__.py\", line 1, in <module>\n",
      "  File \"/workspaces/QFML-QF-2024/src/utils/common.py\", line 12, in <module>\n",
      "ModuleNotFoundError: No module named 'utils.security'\n",
      "ERROR flwr 2024-07-13 19:02:04,789 | ray_client_proxy.py:87 | \u001b[36mray::launch_and_fit()\u001b[39m (pid=36213, ip=172.16.5.4)\n",
      "  At least one of the input arguments for this task could not be computed:\n",
      "ray.exceptions.RaySystemError: System error: No module named 'utils.security'\n",
      "traceback: Traceback (most recent call last):\n",
      "  File \"/workspaces/QFML-QF-2024/src/utils/__init__.py\", line 1, in <module>\n",
      "  File \"/workspaces/QFML-QF-2024/src/utils/common.py\", line 12, in <module>\n",
      "ModuleNotFoundError: No module named 'utils.security'\n",
      "\u001b[36m(launch_and_fit pid=36213)\u001b[0m No module named 'utils.security'\n",
      "\u001b[36m(launch_and_fit pid=36213)\u001b[0m Traceback (most recent call last):\n",
      "\u001b[36m(launch_and_fit pid=36213)\u001b[0m   File \"/opt/conda/envs/fed/lib/python3.10/site-packages/ray/_private/serialization.py\", line 423, in deserialize_objects\n",
      "\u001b[36m(launch_and_fit pid=36213)\u001b[0m     obj = self._deserialize_object(data, metadata, object_ref)\n",
      "\u001b[36m(launch_and_fit pid=36213)\u001b[0m   File \"/opt/conda/envs/fed/lib/python3.10/site-packages/ray/_private/serialization.py\", line 280, in _deserialize_object\n",
      "\u001b[36m(launch_and_fit pid=36213)\u001b[0m     return self._deserialize_msgpack_data(data, metadata_fields)\n",
      "\u001b[36m(launch_and_fit pid=36213)\u001b[0m   File \"/opt/conda/envs/fed/lib/python3.10/site-packages/ray/_private/serialization.py\", line 235, in _deserialize_msgpack_data\n",
      "\u001b[36m(launch_and_fit pid=36213)\u001b[0m     python_objects = self._deserialize_pickle5_data(pickle5_data)\n",
      "\u001b[36m(launch_and_fit pid=36213)\u001b[0m   File \"/opt/conda/envs/fed/lib/python3.10/site-packages/ray/_private/serialization.py\", line 225, in _deserialize_pickle5_data\n",
      "\u001b[36m(launch_and_fit pid=36213)\u001b[0m     obj = pickle.loads(in_band)\n",
      "\u001b[36m(launch_and_fit pid=36213)\u001b[0m   File \"/workspaces/QFML-QF-2024/src/utils/__init__.py\", line 1, in <module>\n",
      "\u001b[36m(launch_and_fit pid=36213)\u001b[0m   File \"/workspaces/QFML-QF-2024/src/utils/common.py\", line 12, in <module>\n",
      "\u001b[36m(launch_and_fit pid=36213)\u001b[0m ModuleNotFoundError: No module named 'utils.security'\n",
      "  0%|\u001b[34m          \u001b[0m| 0/5 [00:00<?, ?it/s]\n",
      "ERROR flwr 2024-07-13 19:02:04,811 | ray_client_proxy.py:87 | \u001b[36mray::launch_and_fit()\u001b[39m (pid=36213, ip=172.16.5.4)\n",
      "  At least one of the input arguments for this task could not be computed:\n",
      "ray.exceptions.RaySystemError: System error: No module named 'utils'\n",
      "traceback: Traceback (most recent call last):\n",
      "ModuleNotFoundError: No module named 'utils'\n",
      "ERROR flwr 2024-07-13 19:02:04,819 | ray_client_proxy.py:87 | \u001b[36mray::launch_and_fit()\u001b[39m (pid=36261, ip=172.16.5.4)\n",
      "  At least one of the input arguments for this task could not be computed:\n",
      "ray.exceptions.RaySystemError: System error: No module named 'utils'\n",
      "traceback: Traceback (most recent call last):\n",
      "ModuleNotFoundError: No module named 'utils'\n",
      "ERROR flwr 2024-07-13 19:02:04,828 | ray_client_proxy.py:87 | \u001b[36mray::launch_and_fit()\u001b[39m (pid=36213, ip=172.16.5.4)\n",
      "  At least one of the input arguments for this task could not be computed:\n",
      "ray.exceptions.RaySystemError: System error: No module named 'utils'\n",
      "traceback: Traceback (most recent call last):\n",
      "ModuleNotFoundError: No module named 'utils'\n",
      "ERROR flwr 2024-07-13 19:02:04,828 | ray_client_proxy.py:87 | \u001b[36mray::launch_and_fit()\u001b[39m (pid=36261, ip=172.16.5.4)\n",
      "  At least one of the input arguments for this task could not be computed:\n",
      "ray.exceptions.RaySystemError: System error: No module named 'utils'\n",
      "traceback: Traceback (most recent call last):\n",
      "ModuleNotFoundError: No module named 'utils'\n",
      "ERROR flwr 2024-07-13 19:02:04,858 | ray_client_proxy.py:87 | \u001b[36mray::launch_and_fit()\u001b[39m (pid=36213, ip=172.16.5.4)\n",
      "  At least one of the input arguments for this task could not be computed:\n",
      "ray.exceptions.RaySystemError: System error: No module named 'utils'\n",
      "traceback: Traceback (most recent call last):\n",
      "ModuleNotFoundError: No module named 'utils'\n",
      "ERROR flwr 2024-07-13 19:02:04,866 | ray_client_proxy.py:87 | \u001b[36mray::launch_and_fit()\u001b[39m (pid=36213, ip=172.16.5.4)\n",
      "  At least one of the input arguments for this task could not be computed:\n",
      "ray.exceptions.RaySystemError: System error: No module named 'utils'\n",
      "traceback: Traceback (most recent call last):\n",
      "ModuleNotFoundError: No module named 'utils'\n",
      "DEBUG flwr 2024-07-13 19:02:04,868 | server.py:236 | fit_round 1 received 0 results and 10 failures\n",
      "DEBUG flwr 2024-07-13 19:02:04,869 | server.py:173 | evaluate_round 1: strategy sampled 10 clients (out of 10)\n",
      "\u001b[36m(launch_and_fit pid=36213)\u001b[0m No module named 'utils'\n",
      "\u001b[36m(launch_and_fit pid=36213)\u001b[0m ModuleNotFoundError: No module named 'utils'\n",
      "\u001b[36m(launch_and_fit pid=36213)\u001b[0m No module named 'utils'\n",
      "\u001b[36m(launch_and_fit pid=36213)\u001b[0m ModuleNotFoundError: No module named 'utils'\n",
      "\u001b[36m(launch_and_fit pid=36213)\u001b[0m No module named 'utils'\n",
      "\u001b[36m(launch_and_fit pid=36213)\u001b[0m ModuleNotFoundError: No module named 'utils'\n",
      "\u001b[36m(launch_and_fit pid=36213)\u001b[0m No module named 'utils'\n",
      "\u001b[36m(launch_and_fit pid=36213)\u001b[0m ModuleNotFoundError: No module named 'utils'\n",
      "ERROR flwr 2024-07-13 19:02:05,021 | ray_client_proxy.py:104 | \u001b[36mray::launch_and_evaluate()\u001b[39m (pid=36213, ip=172.16.5.4)\n",
      "  At least one of the input arguments for this task could not be computed:\n",
      "ray.exceptions.RaySystemError: System error: No module named 'utils'\n",
      "traceback: Traceback (most recent call last):\n",
      "ModuleNotFoundError: No module named 'utils'\n",
      "ERROR flwr 2024-07-13 19:02:05,047 | ray_client_proxy.py:104 | \u001b[36mray::launch_and_evaluate()\u001b[39m (pid=36213, ip=172.16.5.4)\n",
      "  At least one of the input arguments for this task could not be computed:\n",
      "ray.exceptions.RaySystemError: System error: No module named 'utils'\n",
      "traceback: Traceback (most recent call last):\n",
      "ModuleNotFoundError: No module named 'utils'\n",
      "ERROR flwr 2024-07-13 19:02:05,048 | ray_client_proxy.py:104 | \u001b[36mray::launch_and_evaluate()\u001b[39m (pid=36261, ip=172.16.5.4)\n",
      "  At least one of the input arguments for this task could not be computed:\n",
      "ray.exceptions.RaySystemError: System error: No module named 'utils'\n",
      "traceback: Traceback (most recent call last):\n",
      "ModuleNotFoundError: No module named 'utils'\n",
      "ERROR flwr 2024-07-13 19:02:05,069 | ray_client_proxy.py:104 | \u001b[36mray::launch_and_evaluate()\u001b[39m (pid=36213, ip=172.16.5.4)\n",
      "  At least one of the input arguments for this task could not be computed:\n",
      "ray.exceptions.RaySystemError: System error: No module named 'utils'\n",
      "traceback: Traceback (most recent call last):\n",
      "ModuleNotFoundError: No module named 'utils'\n",
      "ERROR flwr 2024-07-13 19:02:05,069 | ray_client_proxy.py:104 | \u001b[36mray::launch_and_evaluate()\u001b[39m (pid=36261, ip=172.16.5.4)\n",
      "  At least one of the input arguments for this task could not be computed:\n",
      "ray.exceptions.RaySystemError: System error: No module named 'utils'\n",
      "traceback: Traceback (most recent call last):\n",
      "ModuleNotFoundError: No module named 'utils'\n",
      "ERROR flwr 2024-07-13 19:02:05,069 | ray_client_proxy.py:104 | \u001b[36mray::launch_and_evaluate()\u001b[39m (pid=36213, ip=172.16.5.4)\n",
      "  At least one of the input arguments for this task could not be computed:\n",
      "ray.exceptions.RaySystemError: System error: No module named 'utils'\n",
      "traceback: Traceback (most recent call last):\n",
      "ModuleNotFoundError: No module named 'utils'\n",
      "ERROR flwr 2024-07-13 19:02:05,137 | ray_client_proxy.py:104 | \u001b[36mray::launch_and_evaluate()\u001b[39m (pid=36213, ip=172.16.5.4)\n",
      "  At least one of the input arguments for this task could not be computed:\n",
      "ray.exceptions.RaySystemError: System error: No module named 'utils'\n",
      "traceback: Traceback (most recent call last):\n",
      "ModuleNotFoundError: No module named 'utils'\n",
      "ERROR flwr 2024-07-13 19:02:05,146 | ray_client_proxy.py:104 | \u001b[36mray::launch_and_evaluate()\u001b[39m (pid=36213, ip=172.16.5.4)\n",
      "  At least one of the input arguments for this task could not be computed:\n",
      "ray.exceptions.RaySystemError: System error: No module named 'utils'\n",
      "traceback: Traceback (most recent call last):\n",
      "ModuleNotFoundError: No module named 'utils'\n",
      "ERROR flwr 2024-07-13 19:02:05,147 | ray_client_proxy.py:104 | \u001b[36mray::launch_and_evaluate()\u001b[39m (pid=36261, ip=172.16.5.4)\n",
      "  At least one of the input arguments for this task could not be computed:\n",
      "ray.exceptions.RaySystemError: System error: No module named 'utils'\n",
      "traceback: Traceback (most recent call last):\n",
      "ModuleNotFoundError: No module named 'utils'\n",
      "ERROR flwr 2024-07-13 19:02:05,153 | ray_client_proxy.py:104 | \u001b[36mray::launch_and_evaluate()\u001b[39m (pid=36213, ip=172.16.5.4)\n",
      "  At least one of the input arguments for this task could not be computed:\n",
      "ray.exceptions.RaySystemError: System error: No module named 'utils'\n",
      "traceback: Traceback (most recent call last):\n",
      "ModuleNotFoundError: No module named 'utils'\n",
      "DEBUG flwr 2024-07-13 19:02:05,154 | server.py:187 | evaluate_round 1 received 0 results and 10 failures\n",
      "DEBUG flwr 2024-07-13 19:02:05,155 | server.py:222 | fit_round 2: strategy sampled 10 clients (out of 10)\n",
      "ERROR flwr 2024-07-13 19:02:05,232 | ray_client_proxy.py:87 | \u001b[36mray::launch_and_fit()\u001b[39m (pid=36261, ip=172.16.5.4)\n",
      "  At least one of the input arguments for this task could not be computed:\n",
      "ray.exceptions.RaySystemError: System error: No module named 'utils'\n",
      "traceback: Traceback (most recent call last):\n",
      "ModuleNotFoundError: No module named 'utils'\n",
      "ERROR flwr 2024-07-13 19:02:05,234 | ray_client_proxy.py:87 | \u001b[36mray::launch_and_fit()\u001b[39m (pid=36213, ip=172.16.5.4)\n",
      "  At least one of the input arguments for this task could not be computed:\n",
      "ray.exceptions.RaySystemError: System error: No module named 'utils'\n",
      "traceback: Traceback (most recent call last):\n",
      "ModuleNotFoundError: No module named 'utils'\n",
      "ERROR flwr 2024-07-13 19:02:05,287 | ray_client_proxy.py:87 | \u001b[36mray::launch_and_fit()\u001b[39m (pid=36261, ip=172.16.5.4)\n",
      "  At least one of the input arguments for this task could not be computed:\n",
      "ray.exceptions.RaySystemError: System error: No module named 'utils'\n",
      "traceback: Traceback (most recent call last):\n",
      "ModuleNotFoundError: No module named 'utils'\n",
      "ERROR flwr 2024-07-13 19:02:05,354 | ray_client_proxy.py:87 | \u001b[36mray::launch_and_fit()\u001b[39m (pid=36261, ip=172.16.5.4)\n",
      "  At least one of the input arguments for this task could not be computed:\n",
      "ray.exceptions.RaySystemError: System error: No module named 'utils'\n",
      "traceback: Traceback (most recent call last):\n",
      "ModuleNotFoundError: No module named 'utils'\n",
      "ERROR flwr 2024-07-13 19:02:05,362 | ray_client_proxy.py:87 | \u001b[36mray::launch_and_fit()\u001b[39m (pid=36213, ip=172.16.5.4)\n",
      "  At least one of the input arguments for this task could not be computed:\n",
      "ray.exceptions.RaySystemError: System error: No module named 'utils'\n",
      "traceback: Traceback (most recent call last):\n",
      "ModuleNotFoundError: No module named 'utils'\n",
      "ERROR flwr 2024-07-13 19:02:05,371 | ray_client_proxy.py:87 | \u001b[36mray::launch_and_fit()\u001b[39m (pid=36261, ip=172.16.5.4)\n",
      "  At least one of the input arguments for this task could not be computed:\n",
      "ray.exceptions.RaySystemError: System error: No module named 'utils'\n",
      "traceback: Traceback (most recent call last):\n",
      "ModuleNotFoundError: No module named 'utils'\n",
      "ERROR flwr 2024-07-13 19:02:05,380 | ray_client_proxy.py:87 | \u001b[36mray::launch_and_fit()\u001b[39m (pid=36261, ip=172.16.5.4)\n",
      "  At least one of the input arguments for this task could not be computed:\n",
      "ray.exceptions.RaySystemError: System error: No module named 'utils'\n",
      "traceback: Traceback (most recent call last):\n",
      "ModuleNotFoundError: No module named 'utils'\n",
      "ERROR flwr 2024-07-13 19:02:05,386 | ray_client_proxy.py:87 | \u001b[36mray::launch_and_fit()\u001b[39m (pid=36261, ip=172.16.5.4)\n",
      "  At least one of the input arguments for this task could not be computed:\n",
      "ray.exceptions.RaySystemError: System error: No module named 'utils'\n",
      "traceback: Traceback (most recent call last):\n",
      "ModuleNotFoundError: No module named 'utils'\n",
      "ERROR flwr 2024-07-13 19:02:05,386 | ray_client_proxy.py:87 | \u001b[36mray::launch_and_fit()\u001b[39m (pid=36213, ip=172.16.5.4)\n",
      "  At least one of the input arguments for this task could not be computed:\n",
      "ray.exceptions.RaySystemError: System error: No module named 'utils'\n",
      "traceback: Traceback (most recent call last):\n",
      "ModuleNotFoundError: No module named 'utils'\n",
      "ERROR flwr 2024-07-13 19:02:05,404 | ray_client_proxy.py:87 | \u001b[36mray::launch_and_fit()\u001b[39m (pid=36261, ip=172.16.5.4)\n",
      "  At least one of the input arguments for this task could not be computed:\n",
      "ray.exceptions.RaySystemError: System error: No module named 'utils'\n",
      "traceback: Traceback (most recent call last):\n",
      "ModuleNotFoundError: No module named 'utils'\n",
      "DEBUG flwr 2024-07-13 19:02:05,405 | server.py:236 | fit_round 2 received 0 results and 10 failures\n",
      "DEBUG flwr 2024-07-13 19:02:05,406 | server.py:173 | evaluate_round 2: strategy sampled 10 clients (out of 10)\n",
      "ERROR flwr 2024-07-13 19:02:05,533 | ray_client_proxy.py:104 | \u001b[36mray::launch_and_evaluate()\u001b[39m (pid=36261, ip=172.16.5.4)\n",
      "  At least one of the input arguments for this task could not be computed:\n",
      "ray.exceptions.RaySystemError: System error: No module named 'utils'\n",
      "traceback: Traceback (most recent call last):\n",
      "ModuleNotFoundError: No module named 'utils'\n",
      "ERROR flwr 2024-07-13 19:02:05,542 | ray_client_proxy.py:104 | \u001b[36mray::launch_and_evaluate()\u001b[39m (pid=36213, ip=172.16.5.4)\n",
      "  At least one of the input arguments for this task could not be computed:\n",
      "ray.exceptions.RaySystemError: System error: No module named 'utils'\n",
      "traceback: Traceback (most recent call last):\n",
      "ModuleNotFoundError: No module named 'utils'\n",
      "ERROR flwr 2024-07-13 19:02:05,604 | ray_client_proxy.py:104 | \u001b[36mray::launch_and_evaluate()\u001b[39m (pid=36261, ip=172.16.5.4)\n",
      "  At least one of the input arguments for this task could not be computed:\n",
      "ray.exceptions.RaySystemError: System error: No module named 'utils'\n",
      "traceback: Traceback (most recent call last):\n",
      "ModuleNotFoundError: No module named 'utils'\n",
      "ERROR flwr 2024-07-13 19:02:05,632 | ray_client_proxy.py:104 | \u001b[36mray::launch_and_evaluate()\u001b[39m (pid=36213, ip=172.16.5.4)\n",
      "  At least one of the input arguments for this task could not be computed:\n",
      "ray.exceptions.RaySystemError: System error: No module named 'utils'\n",
      "traceback: Traceback (most recent call last):\n",
      "ModuleNotFoundError: No module named 'utils'\n",
      "ERROR flwr 2024-07-13 19:02:05,694 | ray_client_proxy.py:104 | \u001b[36mray::launch_and_evaluate()\u001b[39m (pid=36261, ip=172.16.5.4)\n",
      "  At least one of the input arguments for this task could not be computed:\n",
      "ray.exceptions.RaySystemError: System error: No module named 'utils'\n",
      "traceback: Traceback (most recent call last):\n",
      "ModuleNotFoundError: No module named 'utils'\n",
      "ERROR flwr 2024-07-13 19:02:05,696 | ray_client_proxy.py:104 | \u001b[36mray::launch_and_evaluate()\u001b[39m (pid=36213, ip=172.16.5.4)\n",
      "  At least one of the input arguments for this task could not be computed:\n",
      "ray.exceptions.RaySystemError: System error: No module named 'utils'\n",
      "traceback: Traceback (most recent call last):\n",
      "ModuleNotFoundError: No module named 'utils'\n",
      "ERROR flwr 2024-07-13 19:02:05,726 | ray_client_proxy.py:104 | \u001b[36mray::launch_and_evaluate()\u001b[39m (pid=36213, ip=172.16.5.4)\n",
      "  At least one of the input arguments for this task could not be computed:\n",
      "ray.exceptions.RaySystemError: System error: No module named 'utils'\n",
      "traceback: Traceback (most recent call last):\n",
      "ModuleNotFoundError: No module named 'utils'\n",
      "ERROR flwr 2024-07-13 19:02:05,733 | ray_client_proxy.py:104 | \u001b[36mray::launch_and_evaluate()\u001b[39m (pid=36261, ip=172.16.5.4)\n",
      "  At least one of the input arguments for this task could not be computed:\n",
      "ray.exceptions.RaySystemError: System error: No module named 'utils'\n",
      "traceback: Traceback (most recent call last):\n",
      "ModuleNotFoundError: No module named 'utils'\n",
      "ERROR flwr 2024-07-13 19:02:05,747 | ray_client_proxy.py:104 | \u001b[36mray::launch_and_evaluate()\u001b[39m (pid=36213, ip=172.16.5.4)\n",
      "  At least one of the input arguments for this task could not be computed:\n",
      "ray.exceptions.RaySystemError: System error: No module named 'utils'\n",
      "traceback: Traceback (most recent call last):\n",
      "ModuleNotFoundError: No module named 'utils'\n",
      "ERROR flwr 2024-07-13 19:02:05,752 | ray_client_proxy.py:104 | \u001b[36mray::launch_and_evaluate()\u001b[39m (pid=36261, ip=172.16.5.4)\n",
      "  At least one of the input arguments for this task could not be computed:\n",
      "ray.exceptions.RaySystemError: System error: No module named 'utils'\n",
      "traceback: Traceback (most recent call last):\n",
      "ModuleNotFoundError: No module named 'utils'\n",
      "DEBUG flwr 2024-07-13 19:02:05,755 | server.py:187 | evaluate_round 2 received 0 results and 10 failures\n",
      "INFO flwr 2024-07-13 19:02:05,757 | server.py:153 | FL finished in 716.4722706839998\n",
      "INFO flwr 2024-07-13 19:02:05,758 | app.py:225 | app_fit: losses_distributed []\n",
      "INFO flwr 2024-07-13 19:02:05,759 | app.py:226 | app_fit: metrics_distributed_fit {}\n",
      "INFO flwr 2024-07-13 19:02:05,760 | app.py:227 | app_fit: metrics_distributed {}\n",
      "INFO flwr 2024-07-13 19:02:05,761 | app.py:228 | app_fit: losses_centralized []\n",
      "INFO flwr 2024-07-13 19:02:05,761 | app.py:229 | app_fit: metrics_centralized {}\n"
     ]
    },
    {
     "name": "stdout",
     "output_type": "stream",
     "text": [
      "Simulation Time = 721.1223657131195 seconds\n"
     ]
    },
    {
     "name": "stderr",
     "output_type": "stream",
     "text": [
      "\u001b[36m(launch_and_evaluate pid=36213)\u001b[0m No module named 'utils'\n",
      "\u001b[36m(launch_and_evaluate pid=36213)\u001b[0m Traceback (most recent call last):\n",
      "\u001b[36m(launch_and_evaluate pid=36213)\u001b[0m   File \"/opt/conda/envs/fed/lib/python3.10/site-packages/ray/_private/serialization.py\", line 423, in deserialize_objects\n",
      "\u001b[36m(launch_and_evaluate pid=36213)\u001b[0m     obj = self._deserialize_object(data, metadata, object_ref)\n",
      "\u001b[36m(launch_and_evaluate pid=36213)\u001b[0m   File \"/opt/conda/envs/fed/lib/python3.10/site-packages/ray/_private/serialization.py\", line 280, in _deserialize_object\n",
      "\u001b[36m(launch_and_evaluate pid=36213)\u001b[0m     return self._deserialize_msgpack_data(data, metadata_fields)\n",
      "\u001b[36m(launch_and_evaluate pid=36213)\u001b[0m   File \"/opt/conda/envs/fed/lib/python3.10/site-packages/ray/_private/serialization.py\", line 235, in _deserialize_msgpack_data\n",
      "\u001b[36m(launch_and_evaluate pid=36213)\u001b[0m     python_objects = self._deserialize_pickle5_data(pickle5_data)\n",
      "\u001b[36m(launch_and_evaluate pid=36213)\u001b[0m   File \"/opt/conda/envs/fed/lib/python3.10/site-packages/ray/_private/serialization.py\", line 225, in _deserialize_pickle5_data\n",
      "\u001b[36m(launch_and_evaluate pid=36213)\u001b[0m     obj = pickle.loads(in_band)\n",
      "\u001b[36m(launch_and_evaluate pid=36213)\u001b[0m ModuleNotFoundError: No module named 'utils'\n",
      "\u001b[36m(launch_and_evaluate pid=36213)\u001b[0m No module named 'utils'\n",
      "\u001b[36m(launch_and_evaluate pid=36213)\u001b[0m Traceback (most recent call last):\n",
      "\u001b[36m(launch_and_evaluate pid=36213)\u001b[0m   File \"/opt/conda/envs/fed/lib/python3.10/site-packages/ray/_private/serialization.py\", line 423, in deserialize_objects\n",
      "\u001b[36m(launch_and_evaluate pid=36213)\u001b[0m     obj = self._deserialize_object(data, metadata, object_ref)\n",
      "\u001b[36m(launch_and_evaluate pid=36213)\u001b[0m   File \"/opt/conda/envs/fed/lib/python3.10/site-packages/ray/_private/serialization.py\", line 280, in _deserialize_object\n",
      "\u001b[36m(launch_and_evaluate pid=36213)\u001b[0m     return self._deserialize_msgpack_data(data, metadata_fields)\n",
      "\u001b[36m(launch_and_evaluate pid=36213)\u001b[0m   File \"/opt/conda/envs/fed/lib/python3.10/site-packages/ray/_private/serialization.py\", line 235, in _deserialize_msgpack_data\n",
      "\u001b[36m(launch_and_evaluate pid=36213)\u001b[0m     python_objects = self._deserialize_pickle5_data(pickle5_data)\n",
      "\u001b[36m(launch_and_evaluate pid=36213)\u001b[0m   File \"/opt/conda/envs/fed/lib/python3.10/site-packages/ray/_private/serialization.py\", line 225, in _deserialize_pickle5_data\n",
      "\u001b[36m(launch_and_evaluate pid=36213)\u001b[0m     obj = pickle.loads(in_band)\n",
      "\u001b[36m(launch_and_evaluate pid=36213)\u001b[0m ModuleNotFoundError: No module named 'utils'\n"
     ]
    }
   ],
   "source": [
    "import warnings\n",
    "warnings.simplefilter(\"ignore\")\n",
    "\n",
    "print(\"flwr\", fl.__version__)\n",
    "print(\"numpy\", np.__version__)\n",
    "print(\"torch\", torch.__version__)\n",
    "print(\"torchvision\", torchvision.__version__)\n",
    "print(f\"Training on {DEVICE}\")\n",
    "\n",
    "client_resources = None\n",
    "\n",
    "if DEVICE.type == \"cuda\":\n",
    "    client_resources = {\"num_gpus\": 1}\n",
    "\n",
    "model_save = model_save\n",
    "path_yaml = yaml_path\n",
    "path_roc = roc_path\n",
    "results_save = save_results\n",
    "path_matrix = matrix_path\n",
    "batch_size = batch_size\n",
    "he = he\n",
    "secret_path = 'secret.pkl'\n",
    "server_path = 'secret.pkl'\n",
    "path_crypted = 'server.pkl'\n",
    "\n",
    "print(\"Start simulation\")\n",
    "start_simulation = time.time()\n",
    "fl.simulation.start_simulation(\n",
    "    client_fn=client_fn,\n",
    "    num_clients=number_clients,\n",
    "    config=fl.server.ServerConfig(num_rounds=rounds),\n",
    "    strategy=strategy,\n",
    "    client_resources=client_resources\n",
    ")\n",
    "print(f\"Simulation Time = {time.time() - start_simulation} seconds\")"
   ]
  }
 ],
 "metadata": {
  "kernelspec": {
   "display_name": "fl_env",
   "language": "python",
   "name": "python3"
  },
  "language_info": {
   "codemirror_mode": {
    "name": "ipython",
    "version": 3
   },
   "file_extension": ".py",
   "mimetype": "text/x-python",
   "name": "python",
   "nbconvert_exporter": "python",
   "pygments_lexer": "ipython3",
   "version": "3.10.12"
  }
 },
 "nbformat": 4,
 "nbformat_minor": 2
}
