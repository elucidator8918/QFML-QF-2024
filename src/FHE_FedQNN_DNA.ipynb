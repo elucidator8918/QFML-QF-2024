{
 "cells": [
  {
   "cell_type": "markdown",
   "metadata": {},
   "source": [
    "### Import necessary libraries and modules"
   ]
  },
  {
   "cell_type": "code",
   "execution_count": 1,
   "metadata": {},
   "outputs": [],
   "source": [
    "# %%bash\n",
    "\n",
    "# kaggle datasets download -d nageshsingh/dna-sequence-dataset\n",
    "# mkdir data data/DNA\n",
    "# unzip dna-sequence-dataset.zip -d data/DNA\n",
    "# rm dna-sequence-dataset.zip"
   ]
  },
  {
   "cell_type": "code",
   "execution_count": 2,
   "metadata": {},
   "outputs": [],
   "source": [
    "import os\n",
    "import pickle\n",
    "import time\n",
    "from collections import OrderedDict\n",
    "from typing import (\n",
    "    List, Tuple, Dict, Optional, Callable, Union\n",
    ")\n",
    "import tenseal as ts\n",
    "\n",
    "import numpy as np\n",
    "import torchvision\n",
    "import torch\n",
    "from torch import nn\n",
    "import torch.nn.functional as F\n",
    "import flwr as fl\n",
    "from flwr.common import (\n",
    "    Metrics, EvaluateIns, EvaluateRes, FitIns, FitRes, MetricsAggregationFn, \n",
    "    Scalar, logger, ndarrays_to_parameters_custom, parameters_to_ndarrays_custom,\n",
    "    Parameters, NDArrays\n",
    ")\n",
    "from flwr.server.client_proxy import ClientProxy\n",
    "from flwr.server.client_manager import ClientManager\n",
    "from flwr.server.strategy.aggregate import weighted_loss_avg\n",
    "from logging import WARNING\n",
    "import pennylane as qml\n",
    "\n",
    "from utils import *\n",
    "\n",
    "os.environ['TOKENIZERS_PARALLELISM'] = 'false'"
   ]
  },
  {
   "cell_type": "markdown",
   "metadata": {},
   "source": [
    "### Creation of FHE Keys"
   ]
  },
  {
   "cell_type": "code",
   "execution_count": 3,
   "metadata": {},
   "outputs": [
    {
     "name": "stdout",
     "output_type": "stream",
     "text": [
      "it exists\n"
     ]
    }
   ],
   "source": [
    "def combo_keys(client_path=\"secret.pkl\", server_path=\"server_key.pkl\"):\n",
    "    \"\"\"\n",
    "    To create the public/private keys combination\n",
    "    args:\n",
    "        client_path: path to save the secret key (str)\n",
    "        server_path: path to save the server public key (str)\n",
    "    \"\"\"\n",
    "    context_client = security.context()\n",
    "    security.write_query(client_path, {\"contexte\": context_client.serialize(save_secret_key=True)})\n",
    "    security.write_query(server_path, {\"contexte\": context_client.serialize()})\n",
    "\n",
    "    _, context_client = security.read_query(client_path)\n",
    "    _, context_server = security.read_query(server_path)\n",
    "\n",
    "    context_client = ts.context_from(context_client)\n",
    "    context_server = ts.context_from(context_server)\n",
    "    print(\"Is the client context private?\", (\"Yes\" if context_client.is_private() else \"No\"))\n",
    "    print(\"Is the server context private?\", (\"Yes\" if context_server.is_private() else \"No\"))\n",
    "\n",
    "\n",
    "secret_path = \"secret.pkl\"\n",
    "public_path = \"server_key.pkl\"\n",
    "if os.path.exists(secret_path):\n",
    "    print(\"it exists\")\n",
    "    _, context_client = security.read_query(secret_path)\n",
    "\n",
    "else:\n",
    "    combo_keys(client_path=secret_path, server_path=public_path)\n",
    "\n",
    "n_qubits = 7\n",
    "n_layers = 6\n",
    "weight_shapes = {\"weights\": (n_layers, n_qubits)}    "
   ]
  },
  {
   "cell_type": "markdown",
   "metadata": {},
   "source": [
    "### Model Architecture Creation"
   ]
  },
  {
   "cell_type": "code",
   "execution_count": 4,
   "metadata": {},
   "outputs": [],
   "source": [
    "dev = qml.device(\"default.qubit.torch\", wires=n_qubits)\n",
    "    \n",
    "@qml.qnode(dev, interface='torch')\n",
    "def quantum_net(inputs, weights):\n",
    "    qml.AngleEmbedding(inputs, wires=range(n_qubits)) \n",
    "    qml.BasicEntanglerLayers(weights,wires=range(n_qubits))\n",
    "    return [qml.expval(qml.PauliZ(i)) for i in range(n_qubits)]\n",
    "\n",
    "class Net(nn.Module):\n",
    "    \"\"\"\n",
    "    A better CNN model with improvements such as dropout and batch normalization.\n",
    "\n",
    "    Args:\n",
    "        num_classes: An integer indicating the number of classes in the dataset.\n",
    "    \"\"\"\n",
    "    def __init__(self, num_classes=10) -> None:\n",
    "        super(Net, self).__init__()\n",
    "        self.fc1 = nn.Linear(384, 512)\n",
    "        self.fc2 = nn.Linear(512, 256)\n",
    "        self.fc3 = nn.Linear(256, 128)\n",
    "        self.fc4 = nn.Linear(128, num_classes)        \n",
    "\n",
    "        # Dropout layers\n",
    "        self.dropout = nn.Dropout(p=0.5)\n",
    "\n",
    "        self.qnn = qml.qnn.TorchLayer(quantum_net, weight_shapes)\n",
    "        self.softmax = nn.Softmax(dim=1)\n",
    "        \n",
    "        # Weight initialization\n",
    "        self._initialize_weights()\n",
    "\n",
    "    def _initialize_weights(self):\n",
    "        for m in self.modules():\n",
    "            if isinstance(m, nn.Linear):\n",
    "                nn.init.kaiming_normal_(m.weight, mode='fan_out', nonlinearity='relu')\n",
    "                nn.init.zeros_(m.bias)\n",
    "\n",
    "    def forward(self, x: torch.Tensor) -> torch.Tensor:\n",
    "        \"\"\"\n",
    "        Forward pass of the neural network\n",
    "        \"\"\"\n",
    "        x = F.relu(self.fc1(x))\n",
    "        x = self.dropout(x)\n",
    "\n",
    "        x = F.relu(self.fc2(x))\n",
    "        x = self.dropout(x)\n",
    "\n",
    "        x = F.relu(self.fc3(x))\n",
    "        x = self.dropout(x)\n",
    "\n",
    "        x = self.fc4(x)\n",
    "        x = self.softmax(self.qnn(x))\n",
    "        return x"
   ]
  },
  {
   "cell_type": "markdown",
   "metadata": {},
   "source": [
    "### Define the FlowerClient class for federated learning"
   ]
  },
  {
   "cell_type": "code",
   "execution_count": 5,
   "metadata": {},
   "outputs": [],
   "source": [
    "class FlowerClient(fl.client.NumPyClient):\n",
    "    def __init__(self, cid, net, trainloader, valloader, device, batch_size, save_results, matrix_path, roc_path,\n",
    "                 yaml_path, he, classes, context_client):\n",
    "        self.net = net\n",
    "        self.trainloader = trainloader\n",
    "        self.valloader = valloader\n",
    "        self.cid = cid\n",
    "        self.device = device\n",
    "        self.batch_size = batch_size\n",
    "        self.save_results = save_results\n",
    "        self.matrix_path = matrix_path\n",
    "        self.roc_path = roc_path\n",
    "        self.yaml_path = yaml_path\n",
    "        self.he = he\n",
    "        self.classes = classes\n",
    "        self.context_client = context_client\n",
    "\n",
    "    def get_parameters(self, config):\n",
    "        print(f\"[Client {self.cid}] get_parameters\")\n",
    "        return get_parameters2(self.net, self.context_client)\n",
    "\n",
    "    def fit(self, parameters, config):\n",
    "        server_round = config['server_round']\n",
    "        local_epochs = config['local_epochs']\n",
    "        lr = float(config[\"learning_rate\"])\n",
    "\n",
    "        print(f'[Client {self.cid}, round {server_round}] fit, config: {config}')\n",
    "\n",
    "        set_parameters(self.net, parameters, self.context_client)\n",
    "\n",
    "        criterion = torch.nn.CrossEntropyLoss()\n",
    "        optimizer = torch.optim.SGD(self.net.parameters(), lr=lr, momentum=0.9)\n",
    "\n",
    "        results = engine.train(self.net, self.trainloader, self.valloader, optimizer=optimizer, loss_fn=criterion,\n",
    "                               epochs=local_epochs, device=self.device)\n",
    "\n",
    "        if self.save_results:\n",
    "            save_graphs(self.save_results, local_epochs, results, f\"_Client {self.cid}\")\n",
    "\n",
    "        return get_parameters2(self.net, self.context_client), len(self.trainloader), {}\n",
    "\n",
    "    def evaluate(self, parameters, config):\n",
    "        print(f\"[Client {self.cid}] evaluate, config: {config}\")\n",
    "        set_parameters(self.net, parameters, self.context_client)\n",
    "\n",
    "        loss, accuracy, y_pred, y_true, y_proba = engine.test(self.net, self.valloader,\n",
    "                                                              loss_fn=torch.nn.CrossEntropyLoss(), device=self.device)\n",
    "\n",
    "        if self.save_results:\n",
    "            os.makedirs(self.save_results, exist_ok=True)\n",
    "            if self.matrix_path:\n",
    "                save_matrix(y_true, y_pred, self.save_results + self.matrix_path, self.classes)\n",
    "            if self.roc_path:\n",
    "                save_roc(y_true, y_proba, self.save_results + self.roc_path, len(self.classes))\n",
    "\n",
    "        return float(loss), len(self.valloader), {\"accuracy\": float(accuracy)}"
   ]
  },
  {
   "cell_type": "markdown",
   "metadata": {},
   "source": [
    "### Define the client_common function to set up the Flower client"
   ]
  },
  {
   "cell_type": "code",
   "execution_count": 6,
   "metadata": {},
   "outputs": [],
   "source": [
    "def client_common(cid, model_save, path_yaml, path_roc, results_save, path_matrix,\n",
    "                  batch_size, trainloaders, valloaders, DEVICE, CLASSES,\n",
    "                  he=False, secret_path=\"\", server_path=\"\"):\n",
    "    trainloader = trainloaders[int(cid)]\n",
    "    valloader = valloaders[int(cid)]\n",
    "\n",
    "    context_client = None\n",
    "    net = Net(num_classes=len(CLASSES)).to(DEVICE)\n",
    "\n",
    "    if he:\n",
    "        print(\"Run with homomorphic encryption\")\n",
    "        if os.path.exists(secret_path):\n",
    "            with open(secret_path, 'rb') as f:\n",
    "                query = pickle.load(f)\n",
    "            context_client = ts.context_from(query[\"contexte\"])\n",
    "        else:\n",
    "            context_client = security.context()\n",
    "            with open(secret_path, 'wb') as f:\n",
    "                encode = pickle.dumps({\"contexte\": context_client.serialize(save_secret_key=True)})\n",
    "                f.write(encode)\n",
    "        secret_key = context_client.secret_key()\n",
    "    else:\n",
    "        print(\"Run WITHOUT homomorphic encryption\")\n",
    "\n",
    "    if os.path.exists(model_save):\n",
    "        print(\" To get the checkpoint\")\n",
    "        checkpoint = torch.load(model_save, map_location=DEVICE)['model_state_dict']\n",
    "        if he:\n",
    "            print(\"to decrypt model\")\n",
    "            server_query, server_context = security.read_query(server_path)\n",
    "            server_context = ts.context_from(server_context)\n",
    "            for name in checkpoint:\n",
    "                print(name)\n",
    "                checkpoint[name] = torch.tensor(\n",
    "                    security.deserialized_layer(name, server_query[name], server_context).decrypt(secret_key)\n",
    "                )\n",
    "        net.load_state_dict(checkpoint)\n",
    "\n",
    "    return FlowerClient(cid, net, trainloader, valloader, device=DEVICE, batch_size=batch_size,\n",
    "                        matrix_path=path_matrix, roc_path=path_roc, save_results=results_save, yaml_path=path_yaml,\n",
    "                        he=he, context_client=context_client, classes=CLASSES)"
   ]
  },
  {
   "cell_type": "markdown",
   "metadata": {},
   "source": [
    "### Define utility functions for federated learning"
   ]
  },
  {
   "cell_type": "code",
   "execution_count": 7,
   "metadata": {},
   "outputs": [],
   "source": [
    "def weighted_average(metrics: List[Tuple[int, Metrics]]) -> Metrics:\n",
    "    accuracies = [num_examples * m[\"accuracy\"] for num_examples, m in metrics]\n",
    "    examples = [num_examples for num_examples, _ in metrics]\n",
    "    return {\"accuracy\": sum(accuracies) / sum(examples)}\n",
    "\n",
    "def evaluate2(server_round: int, parameters: NDArrays,\n",
    "              config: Dict[str, Scalar]) -> Optional[Tuple[float, Dict[str, Scalar]]]:\n",
    "    set_parameters(central, parameters)\n",
    "    loss, accuracy, y_pred, y_true, y_proba = engine.test(central, testloader, loss_fn=torch.nn.CrossEntropyLoss(),\n",
    "                                                          device=DEVICE)\n",
    "    print(f\"Server-side evaluation loss {loss} / accuracy {accuracy}\")\n",
    "    return loss, {\"accuracy\": accuracy}\n",
    "\n",
    "def get_on_fit_config_fn(epoch=2, lr=0.001, batch_size=32) -> Callable[[int], Dict[str, str]]:\n",
    "    def fit_config(server_round: int) -> Dict[str, str]:\n",
    "        config = {\n",
    "            \"learning_rate\": str(lr),\n",
    "            \"batch_size\": str(batch_size),\n",
    "            \"server_round\": server_round,\n",
    "            \"local_epochs\": epoch\n",
    "        }\n",
    "        return config\n",
    "    return fit_config\n",
    "\n",
    "def aggreg_fit_checkpoint(server_round, aggregated_parameters, central_model, path_checkpoint,\n",
    "                          context_client=None, server_path=\"\"):\n",
    "    if aggregated_parameters is not None:\n",
    "        print(f\"Saving round {server_round} aggregated_parameters...\")\n",
    "        aggregated_ndarrays: List[np.ndarray] = parameters_to_ndarrays_custom(aggregated_parameters, context_client)\n",
    "        if context_client:\n",
    "            def serialized(key, matrix):\n",
    "                if key == 'fcevaluate23.weight':\n",
    "                    return matrix.serialize()\n",
    "                else:\n",
    "                    return matrix\n",
    "            server_response = {\n",
    "                **{key: serialized(key, aggregated_ndarrays[i]) for i, key in enumerate(central_model.state_dict().keys())},\n",
    "                \"contexte\": server_context.serialize()\n",
    "            }\n",
    "            security.write_query(server_path, server_response)\n",
    "        else:\n",
    "            params_dict = zip(central_model.state_dict().keys(), aggregated_ndarrays)\n",
    "            state_dict = OrderedDict({k: torch.tensor(v) for k, v in params_dict})\n",
    "            central_model.load_state_dict(state_dict, strict=True)\n",
    "            if path_checkpoint:\n",
    "                torch.save({\n",
    "                    'model_state_dict': central_model.state_dict(),\n",
    "                }, path_checkpoint)"
   ]
  },
  {
   "cell_type": "markdown",
   "metadata": {},
   "source": [
    "### Define the FedCustom strategy class"
   ]
  },
  {
   "cell_type": "code",
   "execution_count": 8,
   "metadata": {},
   "outputs": [],
   "source": [
    "# A Strategy from scratch with the same sampling of the clients as it is in FedAvg\n",
    "# and then change the configuration dictionary\n",
    "class FedCustom(fl.server.strategy.Strategy):\n",
    "    def __init__(\n",
    "            self,\n",
    "            fraction_fit: float = 1.0,\n",
    "            fraction_evaluate: float = 1.0,\n",
    "            min_fit_clients: int = 2,\n",
    "            min_evaluate_clients: int = 2,\n",
    "            min_available_clients: int = 2,\n",
    "            evaluate_fn: Optional[\n",
    "                    Callable[[int, NDArrays, Dict[str, Scalar]], Optional[Tuple[float, Dict[str, Scalar]]]]\n",
    "                ] = None,\n",
    "            on_fit_config_fn: Optional[Callable[[int], Dict[str, Scalar]]] = None,\n",
    "            on_evaluate_config_fn: Optional[Callable[[int], Dict[str, Scalar]]] = None,\n",
    "            accept_failures: bool = True,\n",
    "            initial_parameters: Optional[Parameters] = None,\n",
    "            fit_metrics_aggregation_fn: Optional[MetricsAggregationFn] = None,\n",
    "            evaluate_metrics_aggregation_fn: Optional[MetricsAggregationFn] = None,\n",
    "            context_client=None\n",
    "    ) -> None:\n",
    "        super().__init__()\n",
    "        self.fraction_fit = fraction_fit\n",
    "        self.fraction_evaluate = fraction_evaluate\n",
    "        self.min_fit_clients = min_fit_clients\n",
    "        self.min_evaluate_clients = min_evaluate_clients\n",
    "        self.min_available_clients = min_available_clients\n",
    "        self.evaluate_fn = evaluate_fn\n",
    "        self.on_fit_config_fn = on_fit_config_fn\n",
    "        self.on_evaluate_config_fn = on_evaluate_config_fn,\n",
    "        self.accept_failures = accept_failures\n",
    "        self.initial_parameters = initial_parameters\n",
    "        self.fit_metrics_aggregation_fn = fit_metrics_aggregation_fn\n",
    "        self.evaluate_metrics_aggregation_fn = evaluate_metrics_aggregation_fn\n",
    "        self.context_client = context_client\n",
    "\n",
    "    def __repr__(self) -> str:\n",
    "        # Same function as FedAvg(Strategy)\n",
    "        return f\"FedCustom (accept_failures={self.accept_failures})\"\n",
    "\n",
    "    def initialize_parameters(\n",
    "        self, client_manager: ClientManager\n",
    "    ) -> Optional[Parameters]:\n",
    "        \"\"\"Initialize global model parameters.\"\"\"\n",
    "        # Same function as FedAvg(Strategy)\n",
    "        initial_parameters = self.initial_parameters\n",
    "        self.initial_parameters = None  # Don't keep initial parameters in memory\n",
    "        return initial_parameters\n",
    "\n",
    "    def num_fit_clients(self, num_available_clients: int) -> Tuple[int, int]:\n",
    "        \"\"\"Return sample size and required number of clients.\"\"\"\n",
    "        # Same function as FedAvg(Strategy)\n",
    "        num_clients = int(num_available_clients * self.fraction_fit)\n",
    "        return max(num_clients, self.min_fit_clients), self.min_available_clients\n",
    "\n",
    "    def configure_fit(\n",
    "        self, server_round: int, parameters: Parameters, client_manager: ClientManager\n",
    "    ) -> List[Tuple[ClientProxy, FitIns]]:\n",
    "        \"\"\"Configure the next round of training.\"\"\"\n",
    "        # Sample clients\n",
    "        sample_size, min_num_clients = self.num_fit_clients(\n",
    "            client_manager.num_available()\n",
    "        )\n",
    "\n",
    "        clients = client_manager.sample(\n",
    "            num_clients=sample_size, min_num_clients=min_num_clients\n",
    "        )\n",
    "        # Create custom configs\n",
    "        n_clients = len(clients)\n",
    "        half_clients = n_clients // 2\n",
    "        # Custom fit config function provided\n",
    "        standard_lr = lr\n",
    "        higher_lr = 0.003\n",
    "        config = {\"server_round\": server_round, \"local_epochs\": 1}\n",
    "        if self.on_fit_config_fn is not None:\n",
    "            # Custom fit config function provided\n",
    "            config = self.on_fit_config_fn(server_round)\n",
    "\n",
    "        # fit_ins = FitIns(parameters, config)\n",
    "        # Return client/config pairs\n",
    "        fit_configurations = []\n",
    "        for idx, client in enumerate(clients):\n",
    "            config[\"learning_rate\"] = standard_lr if idx < half_clients else higher_lr\n",
    "            \"\"\"\n",
    "            Each pair of (ClientProxy, FitRes) constitutes \n",
    "            a successful update from one of the previously selected clients.\n",
    "            \"\"\"\n",
    "            fit_configurations.append(\n",
    "                (\n",
    "                    client,\n",
    "                    FitIns(\n",
    "                        parameters,\n",
    "                        config\n",
    "                    )\n",
    "                )\n",
    "            )\n",
    "        # Successful updates from the previously selected and configured clients\n",
    "        return fit_configurations\n",
    "\n",
    "    def aggregate_fit(\n",
    "        self,\n",
    "        server_round: int,\n",
    "        results: List[Tuple[ClientProxy, FitRes]],\n",
    "        failures: List[Union[Tuple[ClientProxy, FitRes], BaseException]],\n",
    "    ) -> Tuple[Optional[Parameters], Dict[str, Scalar]]:\n",
    "        \"\"\"Aggregate fit results using weighted average. (each round)\"\"\"\n",
    "        # Same function as FedAvg(Strategy)\n",
    "        if not results:\n",
    "            return None, {}\n",
    "\n",
    "        # Do not aggregate if there are failures and failures are not accepted\n",
    "        if not self.accept_failures and failures:\n",
    "            return None, {}\n",
    "\n",
    "        # Convert results parameters --> array matrix\n",
    "        weights_results = [\n",
    "            (parameters_to_ndarrays_custom(fit_res.parameters, self.context_client), fit_res.num_examples)\n",
    "            for _, fit_res in results\n",
    "        ]\n",
    "\n",
    "        # Aggregate parameters using weighted average between the clients and convert back to parameters object (bytes)\n",
    "        parameters_aggregated = ndarrays_to_parameters_custom(aggregate_custom(weights_results))\n",
    "\n",
    "        metrics_aggregated = {}\n",
    "        # Aggregate custom metrics if aggregation fn was provided\n",
    "        if self.fit_metrics_aggregation_fn:\n",
    "            fit_metrics = [(res.num_examples, res.metrics) for _, res in results]\n",
    "            metrics_aggregated = self.fit_metrics_aggregation_fn(fit_metrics)\n",
    "\n",
    "        elif server_round == 1:  # Only log this warning once\n",
    "            logger.log(WARNING, \"No fit_metrics_aggregation_fn provided\")\n",
    "\n",
    "        # Same function as SaveModelStrategy(fl.server.strategy.FedAvg)\n",
    "        \"\"\"Aggregate model weights using weighted average and store checkpoint\"\"\"\n",
    "        aggreg_fit_checkpoint(server_round, parameters_aggregated, central, model_save,\n",
    "                              self.context_client, path_crypted)\n",
    "        return parameters_aggregated, metrics_aggregated\n",
    "\n",
    "    def num_evaluation_clients(self, num_available_clients: int) -> Tuple[int, int]:\n",
    "        \"\"\"Use a fraction of available clients for evaluation.\"\"\"\n",
    "        # Same function as FedAvg(Strategy)\n",
    "        num_clients = int(num_available_clients * self.fraction_evaluate)\n",
    "        return max(num_clients, self.min_evaluate_clients), self.min_available_clients\n",
    "\n",
    "    def configure_evaluate(\n",
    "        self, server_round: int, parameters: Parameters, client_manager: ClientManager\n",
    "    ) -> List[Tuple[ClientProxy, EvaluateIns]]:\n",
    "        \"\"\"Configure the next round of evaluation.\"\"\"\n",
    "        # Same function as FedAvg(Strategy)\n",
    "        # Do not configure federated evaluation if fraction eval is 0.\n",
    "        if self.fraction_evaluate == 0.0:\n",
    "            return []\n",
    "\n",
    "        # Parameters and config\n",
    "        config = {}  # {\"server_round\": server_round, \"local_epochs\": 1}\n",
    "\n",
    "        evaluate_ins = EvaluateIns(parameters, config)\n",
    "\n",
    "        # Sample clients\n",
    "        sample_size, min_num_clients = self.num_evaluation_clients(\n",
    "            client_manager.num_available()\n",
    "        )\n",
    "\n",
    "        clients = client_manager.sample(\n",
    "            num_clients=sample_size, min_num_clients=min_num_clients\n",
    "        )\n",
    "\n",
    "        # Return client/config pairs\n",
    "        # Each pair of (ClientProxy, FitRes) constitutes a successful update from one of the previously selected clients\n",
    "        return [(client, evaluate_ins) for client in clients]\n",
    "\n",
    "    def aggregate_evaluate(\n",
    "        self,\n",
    "        server_round: int,\n",
    "        results: List[Tuple[ClientProxy, EvaluateRes]],\n",
    "        failures: List[Union[Tuple[ClientProxy, EvaluateRes], BaseException]],\n",
    "    ) -> Tuple[Optional[float], Dict[str, Scalar]]:\n",
    "        \"\"\"Aggregate evaluation losses using weighted average.\"\"\"\n",
    "        # Same function as FedAvg(Strategy)\n",
    "        if not results:\n",
    "            return None, {}\n",
    "\n",
    "        # Do not aggregate if there are failures and failures are not accepted\n",
    "        if not self.accept_failures and failures:\n",
    "            return None, {}\n",
    "\n",
    "        # Aggregate loss\n",
    "        loss_aggregated = weighted_loss_avg(\n",
    "            [\n",
    "                (evaluate_res.num_examples, evaluate_res.loss)\n",
    "                for _, evaluate_res in results\n",
    "            ]\n",
    "        )\n",
    "\n",
    "        metrics_aggregated = {}\n",
    "        # Aggregate custom metrics if aggregation fn was provided\n",
    "        if self.evaluate_metrics_aggregation_fn:\n",
    "            eval_metrics = [(res.num_examples, res.metrics) for _, res in results]\n",
    "            metrics_aggregated = self.evaluate_metrics_aggregation_fn(eval_metrics)\n",
    "\n",
    "        # Only log this warning once\n",
    "        elif server_round == 1:\n",
    "            logger.log(WARNING, \"No evaluate_metrics_aggregation_fn provided\")\n",
    "\n",
    "        return loss_aggregated, metrics_aggregated\n",
    "\n",
    "    def evaluate(\n",
    "        self, server_round: int, parameters: Parameters\n",
    "    ) -> Optional[Tuple[float, Dict[str, Scalar]]]:\n",
    "        \"\"\"Evaluate global model parameters using an evaluation function.\"\"\"\n",
    "        # Same function as FedAvg(Strategy)\n",
    "        if self.evaluate_fn is None:\n",
    "            # Let's assume we won't perform the global model evaluation on the server side.\n",
    "            return None\n",
    "\n",
    "        # if we have a global model evaluation on the server side :\n",
    "        parameters_ndarrays = parameters_to_ndarrays_custom(parameters, self.context_client)\n",
    "        eval_res = self.evaluate_fn(server_round, parameters_ndarrays, {})\n",
    "\n",
    "        # if you haven't results\n",
    "        if eval_res is None:\n",
    "            return None\n",
    "\n",
    "        loss, metrics = eval_res\n",
    "        return loss, metrics"
   ]
  },
  {
   "cell_type": "markdown",
   "metadata": {},
   "source": [
    "### Set up the federated learning strategy"
   ]
  },
  {
   "cell_type": "code",
   "execution_count": 9,
   "metadata": {},
   "outputs": [],
   "source": [
    "# Set up your variables directly\n",
    "he = True\n",
    "data_path = 'data/'\n",
    "dataset = 'DNA'\n",
    "yaml_path = './results/FL/results.yml'\n",
    "seed = 42\n",
    "num_workers = 0\n",
    "max_epochs = 5\n",
    "batch_size = 32\n",
    "length = None\n",
    "split = 10\n",
    "device = 'gpu'\n",
    "number_clients = 10\n",
    "save_results = 'results/FL/'\n",
    "matrix_path = 'confusion_matrix.png'\n",
    "roc_path = 'roc.png'\n",
    "model_save = 'DNA_FHE.pt'\n",
    "min_fit_clients = 10\n",
    "min_avail_clients = 10\n",
    "min_eval_clients = 10\n",
    "rounds = 2\n",
    "frac_fit = 1.0\n",
    "frac_eval = 0.5\n",
    "lr = 1e-4\n",
    "path_public_key = 'server_key.pkl'"
   ]
  },
  {
   "cell_type": "code",
   "execution_count": 10,
   "metadata": {},
   "outputs": [
    {
     "name": "stdout",
     "output_type": "stream",
     "text": [
      "get public key :  server_key.pkl\n"
     ]
    }
   ],
   "source": [
    "print(\"get public key : \", path_public_key)\n",
    "_, server_context = security.read_query(path_public_key)\n",
    "server_context = ts.context_from(server_context)\n",
    "DEVICE = torch.device(choice_device(device))\n",
    "CLASSES = classes_string(dataset)\n",
    "central = Net(num_classes=len(CLASSES)).to(DEVICE)"
   ]
  },
  {
   "cell_type": "code",
   "execution_count": 11,
   "metadata": {},
   "outputs": [],
   "source": [
    "strategy = FedCustom(\n",
    "    fraction_fit=frac_fit,\n",
    "    fraction_evaluate=frac_eval,\n",
    "    min_fit_clients=min_fit_clients,\n",
    "    min_evaluate_clients=min_eval_clients if min_eval_clients else number_clients // 2,\n",
    "    min_available_clients=min_avail_clients,\n",
    "    evaluate_metrics_aggregation_fn=weighted_average,\n",
    "    initial_parameters=ndarrays_to_parameters_custom(get_parameters2(central)),\n",
    "    evaluate_fn=None if he else evaluate2,\n",
    "    on_fit_config_fn=get_on_fit_config_fn(epoch=max_epochs, batch_size=batch_size),\n",
    "    context_client=server_context\n",
    ")"
   ]
  },
  {
   "cell_type": "code",
   "execution_count": 12,
   "metadata": {},
   "outputs": [
    {
     "name": "stdout",
     "output_type": "stream",
     "text": [
      "DNA\n",
      "The training set is created for the classes: ('0', '1', '2', '3', '4', '5', '6')\n"
     ]
    }
   ],
   "source": [
    "trainloaders, valloaders, testloader = data_setup.load_datasets(num_clients=number_clients,\n",
    "                                                                batch_size=batch_size,\n",
    "                                                                resize=None,\n",
    "                                                                seed=seed,\n",
    "                                                                num_workers=num_workers,\n",
    "                                                                splitter=10,\n",
    "                                                                dataset=dataset,  # Use the specified dataset\n",
    "                                                                data_path=data_path,\n",
    "                                                                data_path_val=None)  # Use the same path for validation data\n",
    "\n",
    "def client_fn(cid: str) -> FlowerClient:\n",
    "    return client_common(cid,\n",
    "                         model_save, path_yaml, path_roc, results_save, path_matrix,\n",
    "                         batch_size, trainloaders, valloaders, DEVICE, CLASSES, he, secret_path, server_path)"
   ]
  },
  {
   "cell_type": "markdown",
   "metadata": {},
   "source": [
    "### Define the client_fn function and set up the simulation"
   ]
  },
  {
   "cell_type": "code",
   "execution_count": 13,
   "metadata": {},
   "outputs": [
    {
     "name": "stderr",
     "output_type": "stream",
     "text": [
      "INFO flwr 2024-07-14 03:29:03,073 | app.py:145 | Starting Flower simulation, config: ServerConfig(num_rounds=2, round_timeout=None)\n"
     ]
    },
    {
     "name": "stdout",
     "output_type": "stream",
     "text": [
      "flwr 1.5.0\n",
      "numpy 1.24.3\n",
      "torch 2.3.1+cu121\n",
      "torchvision 0.18.1+cu121\n",
      "Training on cuda:0\n",
      "Start simulation\n"
     ]
    },
    {
     "name": "stderr",
     "output_type": "stream",
     "text": [
      "2024-07-14 03:29:04,900\tINFO worker.py:1788 -- Started a local Ray instance.\n",
      "INFO flwr 2024-07-14 03:29:08,755 | app.py:179 | Flower VCE: Ray initialized with resources: {'node:192.168.0.156': 1.0, 'memory': 6988817204.0, 'object_store_memory': 3494408601.0, 'CPU': 20.0, 'accelerator_type:G': 1.0, 'GPU': 1.0, 'node:__internal_head__': 1.0}\n",
      "INFO flwr 2024-07-14 03:29:08,756 | server.py:89 | Initializing global parameters\n",
      "INFO flwr 2024-07-14 03:29:08,756 | server.py:272 | Using initial parameters provided by strategy\n",
      "INFO flwr 2024-07-14 03:29:08,757 | server.py:91 | Evaluating initial parameters\n",
      "INFO flwr 2024-07-14 03:29:08,757 | server.py:104 | FL starting\n",
      "DEBUG flwr 2024-07-14 03:29:08,758 | server.py:222 | fit_round 1: strategy sampled 10 clients (out of 10)\n"
     ]
    },
    {
     "name": "stdout",
     "output_type": "stream",
     "text": [
      "\u001b[36m(launch_and_fit pid=164360)\u001b[0m Run with homomorphic encryption\n"
     ]
    },
    {
     "name": "stderr",
     "output_type": "stream",
     "text": [
      "  0%|\u001b[34m          \u001b[0m| 0/5 [00:00<?, ?it/s]\n"
     ]
    },
    {
     "name": "stdout",
     "output_type": "stream",
     "text": [
      "\u001b[36m(launch_and_fit pid=164360)\u001b[0m [Client 3, round 1] fit, config: {'learning_rate': 0.003, 'batch_size': '32', 'server_round': 1, 'local_epochs': 5}\n",
      "\u001b[36m(launch_and_fit pid=164360)\u001b[0m Updated model\n"
     ]
    },
    {
     "name": "stderr",
     "output_type": "stream",
     "text": [
      " 20%|\u001b[34m██        \u001b[0m| 1/5 [00:00<00:02,  1.53it/s]\n"
     ]
    },
    {
     "name": "stdout",
     "output_type": "stream",
     "text": [
      "\u001b[36m(launch_and_fit pid=164360)\u001b[0m \tTrain Epoch: 1 \tTrain_loss: 1.9461 | Train_acc: 14.6644 % | Validation_loss: 1.9497 | Validation_acc: 7.8125 %\n"
     ]
    },
    {
     "name": "stderr",
     "output_type": "stream",
     "text": [
      " 40%|\u001b[34m████      \u001b[0m| 2/5 [00:01<00:01,  1.80it/s]\n"
     ]
    },
    {
     "name": "stdout",
     "output_type": "stream",
     "text": [
      "\u001b[36m(launch_and_fit pid=164360)\u001b[0m \tTrain Epoch: 2 \tTrain_loss: 1.9451 | Train_acc: 16.7130 % | Validation_loss: 1.9499 | Validation_acc: 7.8125 %\n"
     ]
    },
    {
     "name": "stderr",
     "output_type": "stream",
     "text": [
      " 60%|\u001b[34m██████    \u001b[0m| 3/5 [00:01<00:01,  1.91it/s]\n"
     ]
    },
    {
     "name": "stdout",
     "output_type": "stream",
     "text": [
      "\u001b[36m(launch_and_fit pid=164360)\u001b[0m \tTrain Epoch: 3 \tTrain_loss: 1.9466 | Train_acc: 13.2407 % | Validation_loss: 1.9500 | Validation_acc: 7.8125 %\n"
     ]
    },
    {
     "name": "stderr",
     "output_type": "stream",
     "text": [
      " 80%|\u001b[34m████████  \u001b[0m| 4/5 [00:02<00:00,  1.96it/s]\n"
     ]
    },
    {
     "name": "stdout",
     "output_type": "stream",
     "text": [
      "\u001b[36m(launch_and_fit pid=164360)\u001b[0m \tTrain Epoch: 4 \tTrain_loss: 1.9478 | Train_acc: 9.7454 % | Validation_loss: 1.9501 | Validation_acc: 7.8125 %\n"
     ]
    },
    {
     "name": "stderr",
     "output_type": "stream",
     "text": [
      "100%|\u001b[34m██████████\u001b[0m| 5/5 [00:02<00:00,  1.92it/s]\n"
     ]
    },
    {
     "name": "stdout",
     "output_type": "stream",
     "text": [
      "\u001b[36m(launch_and_fit pid=164360)\u001b[0m \tTrain Epoch: 5 \tTrain_loss: 1.9474 | Train_acc: 10.4282 % | Validation_loss: 1.9501 | Validation_acc: 7.8125 %\n",
      "\u001b[36m(launch_and_fit pid=164360)\u001b[0m save graph in  results/FL/\n",
      "\u001b[36m(launch_and_fit pid=164360)\u001b[0m fc1.weight 3.0994415283203125e-06\n",
      "\u001b[36m(launch_and_fit pid=164360)\u001b[0m fc1.bias 7.152557373046875e-07\n",
      "\u001b[36m(launch_and_fit pid=164360)\u001b[0m fc2.weight 4.76837158203125e-07\n",
      "\u001b[36m(launch_and_fit pid=164360)\u001b[0m fc2.bias 2.384185791015625e-07\n"
     ]
    },
    {
     "name": "stderr",
     "output_type": "stream",
     "text": [
      "ERROR flwr 2024-07-14 03:30:02,522 | ray_client_proxy.py:87 | Task was killed due to the node running low on memory.\n",
      "Memory on the node (IP: 192.168.0.156, ID: 0a18b1ca56dbd45831ae37ed5f36ae0a5e7fe9b317e408c0109ea830) where the task (task ID: 8544dc40424dab59a4448ef0b2d57893f040340f01000000, name=launch_and_fit, pid=164360, memory used=7.73GB) was running was 14.56GB / 15.30GB (0.951362), which exceeds the memory usage threshold of 0.95. Ray killed this worker (ID: 8ac081ce06d1ab75b33a9ffb60d3648344ba8301892ecbf23d864e2e) because it was the most recently scheduled task; to see more information about memory usage on this node, use `ray logs raylet.out -ip 192.168.0.156`. To see the logs of the worker, use `ray logs worker-8ac081ce06d1ab75b33a9ffb60d3648344ba8301892ecbf23d864e2e*out -ip 192.168.0.156. Top 10 memory users:\n",
      "PID\tMEM(GB)\tCOMMAND\n",
      "164360\t7.73\tray::launch_and_fit\n",
      "162982\t1.26\t/home/siddhant/anaconda3/envs/fed/bin/python -m ipykernel_launcher --f=/home/siddhant/.local/share/j...\n",
      "131914\t0.45\t/snap/code/164/usr/share/code/code --type=renderer --crashpad-handler-pid=131868 --enable-crash-repo...\n",
      "145151\t0.38\t/home/siddhant/anaconda3/envs/fed/bin/python -m ipykernel_launcher --f=/home/siddhant/.local/share/j...\n",
      "132483\t0.31\t/snap/code/164/usr/share/code/code /home/siddhant/.vscode/extensions/ms-python.vscode-pylance-2024.7...\n",
      "131973\t0.13\t/snap/code/164/usr/share/code/code --type=utility --utility-sub-type=node.mojom.NodeService --lang=e...\n",
      "163073\t0.10\t/home/siddhant/anaconda3/envs/fed/lib/python3.10/site-packages/ray/core/src/ray/gcs/gcs_server --log...\n",
      "4398\t0.09\t/usr/bin/gnome-shell\n",
      "137521\t0.08\t/home/siddhant/anaconda3/envs/fed/bin/python -m ipykernel_launcher --f=/home/siddhant/.local/share/j...\n",
      "131851\t0.05\t/snap/code/164/usr/share/code/code --no-sandbox .\n",
      "Refer to the documentation on how to address the out of memory issue: https://docs.ray.io/en/latest/ray-core/scheduling/ray-oom-prevention.html. Consider provisioning more memory on this node or reducing task parallelism by requesting more CPUs per task. To adjust the kill threshold, set the environment variable `RAY_memory_usage_threshold` when starting Ray. To disable worker killing, set the environment variable `RAY_memory_monitor_refresh_ms` to zero.\n",
      "\u001b[33m(raylet)\u001b[0m [2024-07-14 03:30:04,870 E 163201 163201] (raylet) node_manager.cc:3064: 1 Workers (tasks / actors) killed due to memory pressure (OOM), 0 Workers crashed due to other reasons at node (ID: 0a18b1ca56dbd45831ae37ed5f36ae0a5e7fe9b317e408c0109ea830, IP: 192.168.0.156) over the last time period. To see more information about the Workers killed on this node, use `ray logs raylet.out -ip 192.168.0.156`\n",
      "\u001b[33m(raylet)\u001b[0m \n",
      "\u001b[33m(raylet)\u001b[0m Refer to the documentation on how to address the out of memory issue: https://docs.ray.io/en/latest/ray-core/scheduling/ray-oom-prevention.html. Consider provisioning more memory on this node or reducing task parallelism by requesting more CPUs per task. To adjust the kill threshold, set the environment variable `RAY_memory_usage_threshold` when starting Ray. To disable worker killing, set the environment variable `RAY_memory_monitor_refresh_ms` to zero.\n"
     ]
    },
    {
     "name": "stdout",
     "output_type": "stream",
     "text": [
      "\u001b[36m(launch_and_fit pid=164487)\u001b[0m Run with homomorphic encryption\n",
      "\u001b[36m(launch_and_fit pid=164487)\u001b[0m [Client 7, round 1] fit, config: {'learning_rate': 0.003, 'batch_size': '32', 'server_round': 1, 'local_epochs': 5}\n",
      "\u001b[36m(launch_and_fit pid=164487)\u001b[0m Updated model\n"
     ]
    },
    {
     "name": "stderr",
     "output_type": "stream",
     "text": [
      "  0%|\u001b[34m          \u001b[0m| 0/5 [00:00<?, ?it/s]\n"
     ]
    },
    {
     "name": "stdout",
     "output_type": "stream",
     "text": [
      "\u001b[36m(launch_and_fit pid=164487)\u001b[0m \tTrain Epoch: 1 \tTrain_loss: 1.9457 | Train_acc: 17.5347 % | Validation_loss: 1.9489 | Validation_acc: 21.3542 %\n"
     ]
    },
    {
     "name": "stderr",
     "output_type": "stream",
     "text": [
      " 20%|\u001b[34m██        \u001b[0m| 1/5 [00:00<00:02,  1.60it/s]\n"
     ]
    },
    {
     "name": "stdout",
     "output_type": "stream",
     "text": [
      "\u001b[36m(launch_and_fit pid=164487)\u001b[0m \tTrain Epoch: 2 \tTrain_loss: 1.9465 | Train_acc: 11.2269 % | Validation_loss: 1.9491 | Validation_acc: 21.3542 %\n"
     ]
    },
    {
     "name": "stderr",
     "output_type": "stream",
     "text": [
      " 40%|\u001b[34m████      \u001b[0m| 2/5 [00:01<00:01,  1.87it/s]\n"
     ]
    },
    {
     "name": "stdout",
     "output_type": "stream",
     "text": [
      "\u001b[36m(launch_and_fit pid=164487)\u001b[0m \tTrain Epoch: 3 \tTrain_loss: 1.9458 | Train_acc: 16.4815 % | Validation_loss: 1.9492 | Validation_acc: 21.3542 %\n"
     ]
    },
    {
     "name": "stderr",
     "output_type": "stream",
     "text": [
      " 60%|\u001b[34m██████    \u001b[0m| 3/5 [00:01<00:01,  1.97it/s]\n"
     ]
    },
    {
     "name": "stdout",
     "output_type": "stream",
     "text": [
      "\u001b[36m(launch_and_fit pid=164487)\u001b[0m \tTrain Epoch: 4 \tTrain_loss: 1.9461 | Train_acc: 13.9815 % | Validation_loss: 1.9491 | Validation_acc: 21.3542 %\n"
     ]
    },
    {
     "name": "stderr",
     "output_type": "stream",
     "text": [
      " 80%|\u001b[34m████████  \u001b[0m| 4/5 [00:02<00:00,  2.02it/s]\n"
     ]
    },
    {
     "name": "stdout",
     "output_type": "stream",
     "text": [
      "\u001b[36m(launch_and_fit pid=164487)\u001b[0m \tTrain Epoch: 5 \tTrain_loss: 1.9465 | Train_acc: 13.9815 % | Validation_loss: 1.9489 | Validation_acc: 21.3542 %\n",
      "\u001b[36m(launch_and_fit pid=164487)\u001b[0m save graph in  results/FL/\n"
     ]
    },
    {
     "name": "stderr",
     "output_type": "stream",
     "text": [
      "100%|\u001b[34m██████████\u001b[0m| 5/5 [00:02<00:00,  1.98it/s]\n"
     ]
    },
    {
     "name": "stdout",
     "output_type": "stream",
     "text": [
      "\u001b[36m(launch_and_fit pid=164487)\u001b[0m fc1.weight 2.6226043701171875e-06\n",
      "\u001b[36m(launch_and_fit pid=164487)\u001b[0m fc1.bias 7.152557373046875e-07\n",
      "\u001b[36m(launch_and_fit pid=164487)\u001b[0m fc2.weight 7.152557373046875e-07\n",
      "\u001b[36m(launch_and_fit pid=164487)\u001b[0m fc2.bias 2.384185791015625e-07\n"
     ]
    },
    {
     "name": "stderr",
     "output_type": "stream",
     "text": [
      "ERROR flwr 2024-07-14 03:30:57,274 | ray_client_proxy.py:87 | Task was killed due to the node running low on memory.\n",
      "Memory on the node (IP: 192.168.0.156, ID: 0a18b1ca56dbd45831ae37ed5f36ae0a5e7fe9b317e408c0109ea830) where the task (task ID: c4cdb5bc686d402368c487908f454c502c6df27401000000, name=launch_and_fit, pid=164487, memory used=7.93GB) was running was 14.56GB / 15.30GB (0.951826), which exceeds the memory usage threshold of 0.95. Ray killed this worker (ID: 0f56e8e5bdf795c786dab2202d9c22f01d2cab32be3d8682c493bf8e) because it was the most recently scheduled task; to see more information about memory usage on this node, use `ray logs raylet.out -ip 192.168.0.156`. To see the logs of the worker, use `ray logs worker-0f56e8e5bdf795c786dab2202d9c22f01d2cab32be3d8682c493bf8e*out -ip 192.168.0.156. Top 10 memory users:\n",
      "PID\tMEM(GB)\tCOMMAND\n",
      "164487\t7.93\tray::launch_and_fit\n",
      "162982\t1.17\t/home/siddhant/anaconda3/envs/fed/bin/python -m ipykernel_launcher --f=/home/siddhant/.local/share/j...\n",
      "131914\t0.45\t/snap/code/164/usr/share/code/code --type=renderer --crashpad-handler-pid=131868 --enable-crash-repo...\n",
      "145151\t0.37\t/home/siddhant/anaconda3/envs/fed/bin/python -m ipykernel_launcher --f=/home/siddhant/.local/share/j...\n",
      "132483\t0.31\t/snap/code/164/usr/share/code/code /home/siddhant/.vscode/extensions/ms-python.vscode-pylance-2024.7...\n",
      "131973\t0.13\t/snap/code/164/usr/share/code/code --type=utility --utility-sub-type=node.mojom.NodeService --lang=e...\n",
      "163073\t0.10\t/home/siddhant/anaconda3/envs/fed/lib/python3.10/site-packages/ray/core/src/ray/gcs/gcs_server --log...\n",
      "4398\t0.09\t/usr/bin/gnome-shell\n",
      "137521\t0.08\t/home/siddhant/anaconda3/envs/fed/bin/python -m ipykernel_launcher --f=/home/siddhant/.local/share/j...\n",
      "131851\t0.06\t/snap/code/164/usr/share/code/code --no-sandbox .\n",
      "Refer to the documentation on how to address the out of memory issue: https://docs.ray.io/en/latest/ray-core/scheduling/ray-oom-prevention.html. Consider provisioning more memory on this node or reducing task parallelism by requesting more CPUs per task. To adjust the kill threshold, set the environment variable `RAY_memory_usage_threshold` when starting Ray. To disable worker killing, set the environment variable `RAY_memory_monitor_refresh_ms` to zero.\n"
     ]
    },
    {
     "name": "stdout",
     "output_type": "stream",
     "text": [
      "\u001b[36m(launch_and_fit pid=164590)\u001b[0m Run with homomorphic encryption\n",
      "\u001b[36m(launch_and_fit pid=164590)\u001b[0m [Client 6, round 1] fit, config: {'learning_rate': 0.003, 'batch_size': '32', 'server_round': 1, 'local_epochs': 5}\n",
      "\u001b[36m(launch_and_fit pid=164590)\u001b[0m Updated model\n"
     ]
    },
    {
     "name": "stderr",
     "output_type": "stream",
     "text": [
      "  0%|\u001b[34m          \u001b[0m| 0/5 [00:00<?, ?it/s]\n",
      " 20%|\u001b[34m██        \u001b[0m| 1/5 [00:00<00:02,  1.53it/s]\n"
     ]
    },
    {
     "name": "stdout",
     "output_type": "stream",
     "text": [
      "\u001b[36m(launch_and_fit pid=164590)\u001b[0m \tTrain Epoch: 1 \tTrain_loss: 1.9464 | Train_acc: 14.5486 % | Validation_loss: 1.9462 | Validation_acc: 4.6875 %\n"
     ]
    },
    {
     "name": "stderr",
     "output_type": "stream",
     "text": [
      " 40%|\u001b[34m████      \u001b[0m| 2/5 [00:01<00:01,  1.81it/s]\n"
     ]
    },
    {
     "name": "stdout",
     "output_type": "stream",
     "text": [
      "\u001b[36m(launch_and_fit pid=164590)\u001b[0m \tTrain Epoch: 2 \tTrain_loss: 1.9468 | Train_acc: 8.7500 % | Validation_loss: 1.9461 | Validation_acc: 4.6875 %\n"
     ]
    },
    {
     "name": "stderr",
     "output_type": "stream",
     "text": [
      " 60%|\u001b[34m██████    \u001b[0m| 3/5 [00:01<00:01,  1.91it/s]\n"
     ]
    },
    {
     "name": "stdout",
     "output_type": "stream",
     "text": [
      "\u001b[36m(launch_and_fit pid=164590)\u001b[0m \tTrain Epoch: 3 \tTrain_loss: 1.9468 | Train_acc: 15.6019 % | Validation_loss: 1.9461 | Validation_acc: 4.6875 %\n"
     ]
    },
    {
     "name": "stderr",
     "output_type": "stream",
     "text": [
      " 80%|\u001b[34m████████  \u001b[0m| 4/5 [00:02<00:00,  1.95it/s]\n"
     ]
    },
    {
     "name": "stdout",
     "output_type": "stream",
     "text": [
      "\u001b[36m(launch_and_fit pid=164590)\u001b[0m \tTrain Epoch: 4 \tTrain_loss: 1.9466 | Train_acc: 13.5532 % | Validation_loss: 1.9460 | Validation_acc: 4.6875 %\n"
     ]
    },
    {
     "name": "stderr",
     "output_type": "stream",
     "text": [
      "100%|\u001b[34m██████████\u001b[0m| 5/5 [00:02<00:00,  1.91it/s]\n"
     ]
    },
    {
     "name": "stdout",
     "output_type": "stream",
     "text": [
      "\u001b[36m(launch_and_fit pid=164590)\u001b[0m \tTrain Epoch: 5 \tTrain_loss: 1.9465 | Train_acc: 14.6644 % | Validation_loss: 1.9460 | Validation_acc: 4.6875 %\n",
      "\u001b[36m(launch_and_fit pid=164590)\u001b[0m save graph in  results/FL/\n",
      "\u001b[36m(launch_and_fit pid=164590)\u001b[0m fc1.weight 2.384185791015625e-06\n",
      "\u001b[36m(launch_and_fit pid=164590)\u001b[0m fc1.bias 4.76837158203125e-07\n",
      "\u001b[36m(launch_and_fit pid=164590)\u001b[0m fc2.weight 4.76837158203125e-07\n",
      "\u001b[36m(launch_and_fit pid=164590)\u001b[0m fc2.bias 2.384185791015625e-07\n"
     ]
    },
    {
     "name": "stderr",
     "output_type": "stream",
     "text": [
      "\u001b[33m(raylet)\u001b[0m [2024-07-14 03:31:04,871 E 163201 163201] (raylet) node_manager.cc:3064: 1 Workers (tasks / actors) killed due to memory pressure (OOM), 0 Workers crashed due to other reasons at node (ID: 0a18b1ca56dbd45831ae37ed5f36ae0a5e7fe9b317e408c0109ea830, IP: 192.168.0.156) over the last time period. To see more information about the Workers killed on this node, use `ray logs raylet.out -ip 192.168.0.156`\n",
      "\u001b[33m(raylet)\u001b[0m \n",
      "\u001b[33m(raylet)\u001b[0m Refer to the documentation on how to address the out of memory issue: https://docs.ray.io/en/latest/ray-core/scheduling/ray-oom-prevention.html. Consider provisioning more memory on this node or reducing task parallelism by requesting more CPUs per task. To adjust the kill threshold, set the environment variable `RAY_memory_usage_threshold` when starting Ray. To disable worker killing, set the environment variable `RAY_memory_monitor_refresh_ms` to zero.\n",
      "ERROR flwr 2024-07-14 03:31:52,391 | ray_client_proxy.py:87 | Task was killed due to the node running low on memory.\n",
      "Memory on the node (IP: 192.168.0.156, ID: 0a18b1ca56dbd45831ae37ed5f36ae0a5e7fe9b317e408c0109ea830) where the task (task ID: 02e3bb458fce12d99c774153340403c533b333c801000000, name=launch_and_fit, pid=164590, memory used=7.92GB) was running was 14.56GB / 15.30GB (0.951894), which exceeds the memory usage threshold of 0.95. Ray killed this worker (ID: 92e3b2ad4ceb3b265554b749da40a0c778bd51628258df20f2f5d0cb) because it was the most recently scheduled task; to see more information about memory usage on this node, use `ray logs raylet.out -ip 192.168.0.156`. To see the logs of the worker, use `ray logs worker-92e3b2ad4ceb3b265554b749da40a0c778bd51628258df20f2f5d0cb*out -ip 192.168.0.156. Top 10 memory users:\n",
      "PID\tMEM(GB)\tCOMMAND\n",
      "164590\t7.92\tray::launch_and_fit\n",
      "162982\t1.18\t/home/siddhant/anaconda3/envs/fed/bin/python -m ipykernel_launcher --f=/home/siddhant/.local/share/j...\n",
      "131914\t0.46\t/snap/code/164/usr/share/code/code --type=renderer --crashpad-handler-pid=131868 --enable-crash-repo...\n",
      "145151\t0.37\t/home/siddhant/anaconda3/envs/fed/bin/python -m ipykernel_launcher --f=/home/siddhant/.local/share/j...\n",
      "132483\t0.30\t/snap/code/164/usr/share/code/code /home/siddhant/.vscode/extensions/ms-python.vscode-pylance-2024.7...\n",
      "131973\t0.13\t/snap/code/164/usr/share/code/code --type=utility --utility-sub-type=node.mojom.NodeService --lang=e...\n",
      "163073\t0.10\t/home/siddhant/anaconda3/envs/fed/lib/python3.10/site-packages/ray/core/src/ray/gcs/gcs_server --log...\n",
      "4398\t0.09\t/usr/bin/gnome-shell\n",
      "137521\t0.08\t/home/siddhant/anaconda3/envs/fed/bin/python -m ipykernel_launcher --f=/home/siddhant/.local/share/j...\n",
      "148775\t0.05\t/snap/code/164/usr/share/code/code --type=renderer --crashpad-handler-pid=131868 --enable-crash-repo...\n",
      "Refer to the documentation on how to address the out of memory issue: https://docs.ray.io/en/latest/ray-core/scheduling/ray-oom-prevention.html. Consider provisioning more memory on this node or reducing task parallelism by requesting more CPUs per task. To adjust the kill threshold, set the environment variable `RAY_memory_usage_threshold` when starting Ray. To disable worker killing, set the environment variable `RAY_memory_monitor_refresh_ms` to zero.\n"
     ]
    },
    {
     "name": "stdout",
     "output_type": "stream",
     "text": [
      "\u001b[36m(launch_and_fit pid=164695)\u001b[0m Run with homomorphic encryption\n",
      "\u001b[36m(launch_and_fit pid=164695)\u001b[0m [Client 5, round 1] fit, config: {'learning_rate': 0.003, 'batch_size': '32', 'server_round': 1, 'local_epochs': 5}\n",
      "\u001b[36m(launch_and_fit pid=164695)\u001b[0m Updated model\n"
     ]
    },
    {
     "name": "stderr",
     "output_type": "stream",
     "text": [
      "  0%|\u001b[34m          \u001b[0m| 0/5 [00:00<?, ?it/s]\n"
     ]
    },
    {
     "name": "stdout",
     "output_type": "stream",
     "text": [
      "\u001b[36m(launch_and_fit pid=164695)\u001b[0m \tTrain Epoch: 1 \tTrain_loss: 1.9476 | Train_acc: 12.6736 % | Validation_loss: 1.9442 | Validation_acc: 19.7917 %\n"
     ]
    },
    {
     "name": "stderr",
     "output_type": "stream",
     "text": [
      " 20%|\u001b[34m██        \u001b[0m| 1/5 [00:00<00:02,  1.58it/s]\n"
     ]
    },
    {
     "name": "stdout",
     "output_type": "stream",
     "text": [
      "\u001b[36m(launch_and_fit pid=164695)\u001b[0m \tTrain Epoch: 2 \tTrain_loss: 1.9463 | Train_acc: 14.0972 % | Validation_loss: 1.9441 | Validation_acc: 19.7917 %\n"
     ]
    },
    {
     "name": "stderr",
     "output_type": "stream",
     "text": [
      " 40%|\u001b[34m████      \u001b[0m| 2/5 [00:01<00:01,  1.89it/s]\n"
     ]
    },
    {
     "name": "stdout",
     "output_type": "stream",
     "text": [
      "\u001b[36m(launch_and_fit pid=164695)\u001b[0m \tTrain Epoch: 3 \tTrain_loss: 1.9464 | Train_acc: 11.3657 % | Validation_loss: 1.9440 | Validation_acc: 19.7917 %\n"
     ]
    },
    {
     "name": "stderr",
     "output_type": "stream",
     "text": [
      " 60%|\u001b[34m██████    \u001b[0m| 3/5 [00:01<00:01,  1.99it/s]\n"
     ]
    },
    {
     "name": "stdout",
     "output_type": "stream",
     "text": [
      "\u001b[36m(launch_and_fit pid=164695)\u001b[0m \tTrain Epoch: 4 \tTrain_loss: 1.9464 | Train_acc: 12.9282 % | Validation_loss: 1.9440 | Validation_acc: 19.7917 %\n"
     ]
    },
    {
     "name": "stderr",
     "output_type": "stream",
     "text": [
      " 80%|\u001b[34m████████  \u001b[0m| 4/5 [00:02<00:00,  2.04it/s]\n"
     ]
    },
    {
     "name": "stdout",
     "output_type": "stream",
     "text": [
      "\u001b[36m(launch_and_fit pid=164695)\u001b[0m \tTrain Epoch: 5 \tTrain_loss: 1.9453 | Train_acc: 15.0347 % | Validation_loss: 1.9440 | Validation_acc: 19.7917 %\n",
      "\u001b[36m(launch_and_fit pid=164695)\u001b[0m save graph in  results/FL/\n",
      "\u001b[36m(launch_and_fit pid=164695)\u001b[0m fc1.weight 2.86102294921875e-06\n",
      "\u001b[36m(launch_and_fit pid=164695)\u001b[0m fc1.bias 4.76837158203125e-07\n",
      "\u001b[36m(launch_and_fit pid=164695)\u001b[0m fc2.weight 2.384185791015625e-07\n",
      "\u001b[36m(launch_and_fit pid=164695)\u001b[0m fc2.bias 2.384185791015625e-07\n"
     ]
    },
    {
     "name": "stderr",
     "output_type": "stream",
     "text": [
      "100%|\u001b[34m██████████\u001b[0m| 5/5 [00:02<00:00,  1.99it/s]\n",
      "\u001b[33m(raylet)\u001b[0m [2024-07-14 03:32:04,873 E 163201 163201] (raylet) node_manager.cc:3064: 1 Workers (tasks / actors) killed due to memory pressure (OOM), 0 Workers crashed due to other reasons at node (ID: 0a18b1ca56dbd45831ae37ed5f36ae0a5e7fe9b317e408c0109ea830, IP: 192.168.0.156) over the last time period. To see more information about the Workers killed on this node, use `ray logs raylet.out -ip 192.168.0.156`\n",
      "\u001b[33m(raylet)\u001b[0m \n",
      "\u001b[33m(raylet)\u001b[0m Refer to the documentation on how to address the out of memory issue: https://docs.ray.io/en/latest/ray-core/scheduling/ray-oom-prevention.html. Consider provisioning more memory on this node or reducing task parallelism by requesting more CPUs per task. To adjust the kill threshold, set the environment variable `RAY_memory_usage_threshold` when starting Ray. To disable worker killing, set the environment variable `RAY_memory_monitor_refresh_ms` to zero.\n",
      "ERROR flwr 2024-07-14 03:32:46,790 | ray_client_proxy.py:87 | Task was killed due to the node running low on memory.\n",
      "Memory on the node (IP: 192.168.0.156, ID: 0a18b1ca56dbd45831ae37ed5f36ae0a5e7fe9b317e408c0109ea830) where the task (task ID: 6678cddf16fc8bb8a035bc848d438465eab9d99c01000000, name=launch_and_fit, pid=164695, memory used=7.88GB) was running was 14.54GB / 15.30GB (0.950292), which exceeds the memory usage threshold of 0.95. Ray killed this worker (ID: 619b818ec4a24cf6fb4180d21c1d0fcf719202933eb2aded2d7d32df) because it was the most recently scheduled task; to see more information about memory usage on this node, use `ray logs raylet.out -ip 192.168.0.156`. To see the logs of the worker, use `ray logs worker-619b818ec4a24cf6fb4180d21c1d0fcf719202933eb2aded2d7d32df*out -ip 192.168.0.156. Top 10 memory users:\n",
      "PID\tMEM(GB)\tCOMMAND\n",
      "164695\t7.88\tray::launch_and_fit\n",
      "162982\t1.18\t/home/siddhant/anaconda3/envs/fed/bin/python -m ipykernel_launcher --f=/home/siddhant/.local/share/j...\n",
      "131914\t0.46\t/snap/code/164/usr/share/code/code --type=renderer --crashpad-handler-pid=131868 --enable-crash-repo...\n",
      "145151\t0.37\t/home/siddhant/anaconda3/envs/fed/bin/python -m ipykernel_launcher --f=/home/siddhant/.local/share/j...\n",
      "132483\t0.30\t/snap/code/164/usr/share/code/code /home/siddhant/.vscode/extensions/ms-python.vscode-pylance-2024.7...\n",
      "131973\t0.13\t/snap/code/164/usr/share/code/code --type=utility --utility-sub-type=node.mojom.NodeService --lang=e...\n",
      "163073\t0.10\t/home/siddhant/anaconda3/envs/fed/lib/python3.10/site-packages/ray/core/src/ray/gcs/gcs_server --log...\n",
      "4398\t0.09\t/usr/bin/gnome-shell\n",
      "137521\t0.08\t/home/siddhant/anaconda3/envs/fed/bin/python -m ipykernel_launcher --f=/home/siddhant/.local/share/j...\n",
      "148775\t0.06\t/snap/code/164/usr/share/code/code --type=renderer --crashpad-handler-pid=131868 --enable-crash-repo...\n",
      "Refer to the documentation on how to address the out of memory issue: https://docs.ray.io/en/latest/ray-core/scheduling/ray-oom-prevention.html. Consider provisioning more memory on this node or reducing task parallelism by requesting more CPUs per task. To adjust the kill threshold, set the environment variable `RAY_memory_usage_threshold` when starting Ray. To disable worker killing, set the environment variable `RAY_memory_monitor_refresh_ms` to zero.\n"
     ]
    },
    {
     "name": "stdout",
     "output_type": "stream",
     "text": [
      "\u001b[36m(launch_and_fit pid=164792)\u001b[0m Run with homomorphic encryption\n"
     ]
    },
    {
     "name": "stderr",
     "output_type": "stream",
     "text": [
      "  0%|\u001b[34m          \u001b[0m| 0/5 [00:00<?, ?it/s]\n"
     ]
    },
    {
     "name": "stdout",
     "output_type": "stream",
     "text": [
      "\u001b[36m(launch_and_fit pid=164792)\u001b[0m [Client 8, round 1] fit, config: {'learning_rate': 0.003, 'batch_size': '32', 'server_round': 1, 'local_epochs': 5}\n",
      "\u001b[36m(launch_and_fit pid=164792)\u001b[0m Updated model\n"
     ]
    },
    {
     "name": "stderr",
     "output_type": "stream",
     "text": [
      " 20%|\u001b[34m██        \u001b[0m| 1/5 [00:00<00:02,  1.53it/s]\n"
     ]
    },
    {
     "name": "stdout",
     "output_type": "stream",
     "text": [
      "\u001b[36m(launch_and_fit pid=164792)\u001b[0m \tTrain Epoch: 1 \tTrain_loss: 1.9455 | Train_acc: 14.5486 % | Validation_loss: 1.9448 | Validation_acc: 21.3542 %\n"
     ]
    },
    {
     "name": "stderr",
     "output_type": "stream",
     "text": [
      " 40%|\u001b[34m████      \u001b[0m| 2/5 [00:01<00:01,  1.78it/s]\n"
     ]
    },
    {
     "name": "stdout",
     "output_type": "stream",
     "text": [
      "\u001b[36m(launch_and_fit pid=164792)\u001b[0m \tTrain Epoch: 2 \tTrain_loss: 1.9471 | Train_acc: 11.8750 % | Validation_loss: 1.9448 | Validation_acc: 21.3542 %\n"
     ]
    },
    {
     "name": "stderr",
     "output_type": "stream",
     "text": [
      " 60%|\u001b[34m██████    \u001b[0m| 3/5 [00:01<00:01,  1.90it/s]\n"
     ]
    },
    {
     "name": "stdout",
     "output_type": "stream",
     "text": [
      "\u001b[36m(launch_and_fit pid=164792)\u001b[0m \tTrain Epoch: 3 \tTrain_loss: 1.9465 | Train_acc: 14.6644 % | Validation_loss: 1.9449 | Validation_acc: 21.3542 %\n"
     ]
    },
    {
     "name": "stderr",
     "output_type": "stream",
     "text": [
      " 80%|\u001b[34m████████  \u001b[0m| 4/5 [00:02<00:00,  1.97it/s]\n"
     ]
    },
    {
     "name": "stdout",
     "output_type": "stream",
     "text": [
      "\u001b[36m(launch_and_fit pid=164792)\u001b[0m \tTrain Epoch: 4 \tTrain_loss: 1.9460 | Train_acc: 16.1690 % | Validation_loss: 1.9450 | Validation_acc: 21.3542 %\n"
     ]
    },
    {
     "name": "stderr",
     "output_type": "stream",
     "text": [
      "100%|\u001b[34m██████████\u001b[0m| 5/5 [00:02<00:00,  1.93it/s]\n"
     ]
    },
    {
     "name": "stdout",
     "output_type": "stream",
     "text": [
      "\u001b[36m(launch_and_fit pid=164792)\u001b[0m \tTrain Epoch: 5 \tTrain_loss: 1.9465 | Train_acc: 13.9815 % | Validation_loss: 1.9451 | Validation_acc: 21.3542 %\n",
      "\u001b[36m(launch_and_fit pid=164792)\u001b[0m save graph in  results/FL/\n",
      "\u001b[36m(launch_and_fit pid=164792)\u001b[0m fc1.weight 3.337860107421875e-06\n",
      "\u001b[36m(launch_and_fit pid=164792)\u001b[0m fc1.bias 9.5367431640625e-07\n",
      "\u001b[36m(launch_and_fit pid=164792)\u001b[0m fc2.weight 2.384185791015625e-07\n",
      "\u001b[36m(launch_and_fit pid=164792)\u001b[0m fc2.bias 4.76837158203125e-07\n"
     ]
    },
    {
     "name": "stderr",
     "output_type": "stream",
     "text": [
      "\u001b[33m(raylet)\u001b[0m [2024-07-14 03:33:04,874 E 163201 163201] (raylet) node_manager.cc:3064: 1 Workers (tasks / actors) killed due to memory pressure (OOM), 0 Workers crashed due to other reasons at node (ID: 0a18b1ca56dbd45831ae37ed5f36ae0a5e7fe9b317e408c0109ea830, IP: 192.168.0.156) over the last time period. To see more information about the Workers killed on this node, use `ray logs raylet.out -ip 192.168.0.156`\n",
      "\u001b[33m(raylet)\u001b[0m \n",
      "\u001b[33m(raylet)\u001b[0m Refer to the documentation on how to address the out of memory issue: https://docs.ray.io/en/latest/ray-core/scheduling/ray-oom-prevention.html. Consider provisioning more memory on this node or reducing task parallelism by requesting more CPUs per task. To adjust the kill threshold, set the environment variable `RAY_memory_usage_threshold` when starting Ray. To disable worker killing, set the environment variable `RAY_memory_monitor_refresh_ms` to zero.\n",
      "ERROR flwr 2024-07-14 03:33:41,864 | ray_client_proxy.py:87 | Task was killed due to the node running low on memory.\n",
      "Memory on the node (IP: 192.168.0.156, ID: 0a18b1ca56dbd45831ae37ed5f36ae0a5e7fe9b317e408c0109ea830) where the task (task ID: 9225ca9b85f5f5cfc0e2c4ba965a15013b9a04a201000000, name=launch_and_fit, pid=164792, memory used=7.97GB) was running was 14.55GB / 15.30GB (0.950935), which exceeds the memory usage threshold of 0.95. Ray killed this worker (ID: 7b44e36c85b4768b77e3156163dbd89d10838374d162a4869c72fc4c) because it was the most recently scheduled task; to see more information about memory usage on this node, use `ray logs raylet.out -ip 192.168.0.156`. To see the logs of the worker, use `ray logs worker-7b44e36c85b4768b77e3156163dbd89d10838374d162a4869c72fc4c*out -ip 192.168.0.156. Top 10 memory users:\n",
      "PID\tMEM(GB)\tCOMMAND\n",
      "164792\t7.97\tray::launch_and_fit\n",
      "162982\t1.18\t/home/siddhant/anaconda3/envs/fed/bin/python -m ipykernel_launcher --f=/home/siddhant/.local/share/j...\n",
      "131914\t0.46\t/snap/code/164/usr/share/code/code --type=renderer --crashpad-handler-pid=131868 --enable-crash-repo...\n",
      "145151\t0.37\t/home/siddhant/anaconda3/envs/fed/bin/python -m ipykernel_launcher --f=/home/siddhant/.local/share/j...\n",
      "132483\t0.30\t/snap/code/164/usr/share/code/code /home/siddhant/.vscode/extensions/ms-python.vscode-pylance-2024.7...\n",
      "131973\t0.13\t/snap/code/164/usr/share/code/code --type=utility --utility-sub-type=node.mojom.NodeService --lang=e...\n",
      "163073\t0.10\t/home/siddhant/anaconda3/envs/fed/lib/python3.10/site-packages/ray/core/src/ray/gcs/gcs_server --log...\n",
      "4398\t0.08\t/usr/bin/gnome-shell\n",
      "137521\t0.08\t/home/siddhant/anaconda3/envs/fed/bin/python -m ipykernel_launcher --f=/home/siddhant/.local/share/j...\n",
      "148775\t0.05\t/snap/code/164/usr/share/code/code --type=renderer --crashpad-handler-pid=131868 --enable-crash-repo...\n",
      "Refer to the documentation on how to address the out of memory issue: https://docs.ray.io/en/latest/ray-core/scheduling/ray-oom-prevention.html. Consider provisioning more memory on this node or reducing task parallelism by requesting more CPUs per task. To adjust the kill threshold, set the environment variable `RAY_memory_usage_threshold` when starting Ray. To disable worker killing, set the environment variable `RAY_memory_monitor_refresh_ms` to zero.\n"
     ]
    },
    {
     "name": "stdout",
     "output_type": "stream",
     "text": [
      "\u001b[36m(launch_and_fit pid=164887)\u001b[0m Run with homomorphic encryption\n",
      "\u001b[36m(launch_and_fit pid=164887)\u001b[0m [Client 2, round 1] fit, config: {'learning_rate': 0.003, 'batch_size': '32', 'server_round': 1, 'local_epochs': 5}\n",
      "\u001b[36m(launch_and_fit pid=164887)\u001b[0m Updated model\n"
     ]
    },
    {
     "name": "stderr",
     "output_type": "stream",
     "text": [
      "  0%|\u001b[34m          \u001b[0m| 0/5 [00:00<?, ?it/s]\n"
     ]
    },
    {
     "name": "stdout",
     "output_type": "stream",
     "text": [
      "\u001b[36m(launch_and_fit pid=164887)\u001b[0m \tTrain Epoch: 1 \tTrain_loss: 1.9468 | Train_acc: 10.5440 % | Validation_loss: 1.9476 | Validation_acc: 6.2500 %\n"
     ]
    },
    {
     "name": "stderr",
     "output_type": "stream",
     "text": [
      " 20%|\u001b[34m██        \u001b[0m| 1/5 [00:00<00:02,  1.50it/s]\n"
     ]
    },
    {
     "name": "stdout",
     "output_type": "stream",
     "text": [
      "\u001b[36m(launch_and_fit pid=164887)\u001b[0m \tTrain Epoch: 2 \tTrain_loss: 1.9458 | Train_acc: 16.7361 % | Validation_loss: 1.9476 | Validation_acc: 6.2500 %\n"
     ]
    },
    {
     "name": "stderr",
     "output_type": "stream",
     "text": [
      " 40%|\u001b[34m████      \u001b[0m| 2/5 [00:01<00:01,  1.76it/s]\n"
     ]
    },
    {
     "name": "stdout",
     "output_type": "stream",
     "text": [
      "\u001b[36m(launch_and_fit pid=164887)\u001b[0m \tTrain Epoch: 3 \tTrain_loss: 1.9461 | Train_acc: 16.7940 % | Validation_loss: 1.9477 | Validation_acc: 6.2500 %\n"
     ]
    },
    {
     "name": "stderr",
     "output_type": "stream",
     "text": [
      " 60%|\u001b[34m██████    \u001b[0m| 3/5 [00:01<00:01,  1.86it/s]\n"
     ]
    },
    {
     "name": "stdout",
     "output_type": "stream",
     "text": [
      "\u001b[36m(launch_and_fit pid=164887)\u001b[0m \tTrain Epoch: 4 \tTrain_loss: 1.9465 | Train_acc: 14.6065 % | Validation_loss: 1.9477 | Validation_acc: 6.2500 %\n"
     ]
    },
    {
     "name": "stderr",
     "output_type": "stream",
     "text": [
      " 80%|\u001b[34m████████  \u001b[0m| 4/5 [00:02<00:00,  1.89it/s]\n"
     ]
    },
    {
     "name": "stdout",
     "output_type": "stream",
     "text": [
      "\u001b[36m(launch_and_fit pid=164887)\u001b[0m \tTrain Epoch: 5 \tTrain_loss: 1.9457 | Train_acc: 15.6019 % | Validation_loss: 1.9478 | Validation_acc: 6.2500 %\n",
      "\u001b[36m(launch_and_fit pid=164887)\u001b[0m save graph in  results/FL/\n",
      "\u001b[36m(launch_and_fit pid=164887)\u001b[0m fc1.weight 3.0994415283203125e-06\n",
      "\u001b[36m(launch_and_fit pid=164887)\u001b[0m fc1.bias 9.5367431640625e-07\n",
      "\u001b[36m(launch_and_fit pid=164887)\u001b[0m fc2.weight 4.76837158203125e-07\n",
      "\u001b[36m(launch_and_fit pid=164887)\u001b[0m fc2.bias 4.76837158203125e-07\n"
     ]
    },
    {
     "name": "stderr",
     "output_type": "stream",
     "text": [
      "100%|\u001b[34m██████████\u001b[0m| 5/5 [00:02<00:00,  1.85it/s]\n",
      "\u001b[33m(raylet)\u001b[0m [2024-07-14 03:34:04,876 E 163201 163201] (raylet) node_manager.cc:3064: 1 Workers (tasks / actors) killed due to memory pressure (OOM), 0 Workers crashed due to other reasons at node (ID: 0a18b1ca56dbd45831ae37ed5f36ae0a5e7fe9b317e408c0109ea830, IP: 192.168.0.156) over the last time period. To see more information about the Workers killed on this node, use `ray logs raylet.out -ip 192.168.0.156`\n",
      "\u001b[33m(raylet)\u001b[0m \n",
      "\u001b[33m(raylet)\u001b[0m Refer to the documentation on how to address the out of memory issue: https://docs.ray.io/en/latest/ray-core/scheduling/ray-oom-prevention.html. Consider provisioning more memory on this node or reducing task parallelism by requesting more CPUs per task. To adjust the kill threshold, set the environment variable `RAY_memory_usage_threshold` when starting Ray. To disable worker killing, set the environment variable `RAY_memory_monitor_refresh_ms` to zero.\n",
      "ERROR flwr 2024-07-14 03:34:35,960 | ray_client_proxy.py:87 | Task was killed due to the node running low on memory.\n",
      "Memory on the node (IP: 192.168.0.156, ID: 0a18b1ca56dbd45831ae37ed5f36ae0a5e7fe9b317e408c0109ea830) where the task (task ID: 68a3e97a3e11192421686c5979385a98de9b82a401000000, name=launch_and_fit, pid=164887, memory used=7.83GB) was running was 14.58GB / 15.30GB (0.952832), which exceeds the memory usage threshold of 0.95. Ray killed this worker (ID: cc726ef848c8aa5f7bf05648d5fa73d7081ebbb409b19b84f130f252) because it was the most recently scheduled task; to see more information about memory usage on this node, use `ray logs raylet.out -ip 192.168.0.156`. To see the logs of the worker, use `ray logs worker-cc726ef848c8aa5f7bf05648d5fa73d7081ebbb409b19b84f130f252*out -ip 192.168.0.156. Top 10 memory users:\n",
      "PID\tMEM(GB)\tCOMMAND\n",
      "164887\t7.83\tray::launch_and_fit\n",
      "162982\t1.18\t/home/siddhant/anaconda3/envs/fed/bin/python -m ipykernel_launcher --f=/home/siddhant/.local/share/j...\n",
      "131914\t0.52\t/snap/code/164/usr/share/code/code --type=renderer --crashpad-handler-pid=131868 --enable-crash-repo...\n",
      "145151\t0.37\t/home/siddhant/anaconda3/envs/fed/bin/python -m ipykernel_launcher --f=/home/siddhant/.local/share/j...\n",
      "132483\t0.30\t/snap/code/164/usr/share/code/code /home/siddhant/.vscode/extensions/ms-python.vscode-pylance-2024.7...\n",
      "131973\t0.13\t/snap/code/164/usr/share/code/code --type=utility --utility-sub-type=node.mojom.NodeService --lang=e...\n",
      "163073\t0.10\t/home/siddhant/anaconda3/envs/fed/lib/python3.10/site-packages/ray/core/src/ray/gcs/gcs_server --log...\n",
      "4398\t0.08\t/usr/bin/gnome-shell\n",
      "137521\t0.08\t/home/siddhant/anaconda3/envs/fed/bin/python -m ipykernel_launcher --f=/home/siddhant/.local/share/j...\n",
      "148775\t0.05\t/snap/code/164/usr/share/code/code --type=renderer --crashpad-handler-pid=131868 --enable-crash-repo...\n",
      "Refer to the documentation on how to address the out of memory issue: https://docs.ray.io/en/latest/ray-core/scheduling/ray-oom-prevention.html. Consider provisioning more memory on this node or reducing task parallelism by requesting more CPUs per task. To adjust the kill threshold, set the environment variable `RAY_memory_usage_threshold` when starting Ray. To disable worker killing, set the environment variable `RAY_memory_monitor_refresh_ms` to zero.\n"
     ]
    },
    {
     "name": "stdout",
     "output_type": "stream",
     "text": [
      "\u001b[36m(launch_and_fit pid=164985)\u001b[0m Run with homomorphic encryption\n",
      "\u001b[36m(launch_and_fit pid=164985)\u001b[0m [Client 1, round 1] fit, config: {'learning_rate': 0.003, 'batch_size': '32', 'server_round': 1, 'local_epochs': 5}\n",
      "\u001b[36m(launch_and_fit pid=164985)\u001b[0m Updated model\n"
     ]
    },
    {
     "name": "stderr",
     "output_type": "stream",
     "text": [
      "  0%|\u001b[34m          \u001b[0m| 0/5 [00:00<?, ?it/s]\n"
     ]
    },
    {
     "name": "stdout",
     "output_type": "stream",
     "text": [
      "\u001b[36m(launch_and_fit pid=164985)\u001b[0m \tTrain Epoch: 1 \tTrain_loss: 1.9452 | Train_acc: 13.0440 % | Validation_loss: 1.9488 | Validation_acc: 6.2500 %\n"
     ]
    },
    {
     "name": "stderr",
     "output_type": "stream",
     "text": [
      " 20%|\u001b[34m██        \u001b[0m| 1/5 [00:00<00:02,  1.55it/s]\n"
     ]
    },
    {
     "name": "stdout",
     "output_type": "stream",
     "text": [
      "\u001b[36m(launch_and_fit pid=164985)\u001b[0m \tTrain Epoch: 2 \tTrain_loss: 1.9453 | Train_acc: 15.1157 % | Validation_loss: 1.9488 | Validation_acc: 6.2500 %\n"
     ]
    },
    {
     "name": "stderr",
     "output_type": "stream",
     "text": [
      " 40%|\u001b[34m████      \u001b[0m| 2/5 [00:01<00:01,  1.83it/s]\n"
     ]
    },
    {
     "name": "stdout",
     "output_type": "stream",
     "text": [
      "\u001b[36m(launch_and_fit pid=164985)\u001b[0m \tTrain Epoch: 3 \tTrain_loss: 1.9458 | Train_acc: 16.1111 % | Validation_loss: 1.9488 | Validation_acc: 6.2500 %\n"
     ]
    },
    {
     "name": "stderr",
     "output_type": "stream",
     "text": [
      " 60%|\u001b[34m██████    \u001b[0m| 3/5 [00:01<00:01,  1.92it/s]\n"
     ]
    },
    {
     "name": "stdout",
     "output_type": "stream",
     "text": [
      "\u001b[36m(launch_and_fit pid=164985)\u001b[0m \tTrain Epoch: 4 \tTrain_loss: 1.9465 | Train_acc: 13.9236 % | Validation_loss: 1.9487 | Validation_acc: 6.2500 %\n"
     ]
    },
    {
     "name": "stderr",
     "output_type": "stream",
     "text": [
      " 80%|\u001b[34m████████  \u001b[0m| 4/5 [00:02<00:00,  1.95it/s]\n"
     ]
    },
    {
     "name": "stdout",
     "output_type": "stream",
     "text": [
      "\u001b[36m(launch_and_fit pid=164985)\u001b[0m \tTrain Epoch: 5 \tTrain_loss: 1.9459 | Train_acc: 14.2940 % | Validation_loss: 1.9487 | Validation_acc: 6.2500 %\n",
      "\u001b[36m(launch_and_fit pid=164985)\u001b[0m save graph in  results/FL/\n"
     ]
    },
    {
     "name": "stderr",
     "output_type": "stream",
     "text": [
      "100%|\u001b[34m██████████\u001b[0m| 5/5 [00:02<00:00,  1.91it/s]\n"
     ]
    },
    {
     "name": "stdout",
     "output_type": "stream",
     "text": [
      "\u001b[36m(launch_and_fit pid=164985)\u001b[0m fc1.weight 2.384185791015625e-06\n",
      "\u001b[36m(launch_and_fit pid=164985)\u001b[0m fc1.bias 7.152557373046875e-07\n",
      "\u001b[36m(launch_and_fit pid=164985)\u001b[0m fc2.weight 4.76837158203125e-07\n",
      "\u001b[36m(launch_and_fit pid=164985)\u001b[0m fc2.bias 4.76837158203125e-07\n"
     ]
    },
    {
     "name": "stderr",
     "output_type": "stream",
     "text": [
      "\u001b[33m(raylet)\u001b[0m [2024-07-14 03:35:04,877 E 163201 163201] (raylet) node_manager.cc:3064: 1 Workers (tasks / actors) killed due to memory pressure (OOM), 0 Workers crashed due to other reasons at node (ID: 0a18b1ca56dbd45831ae37ed5f36ae0a5e7fe9b317e408c0109ea830, IP: 192.168.0.156) over the last time period. To see more information about the Workers killed on this node, use `ray logs raylet.out -ip 192.168.0.156`\n",
      "\u001b[33m(raylet)\u001b[0m \n",
      "\u001b[33m(raylet)\u001b[0m Refer to the documentation on how to address the out of memory issue: https://docs.ray.io/en/latest/ray-core/scheduling/ray-oom-prevention.html. Consider provisioning more memory on this node or reducing task parallelism by requesting more CPUs per task. To adjust the kill threshold, set the environment variable `RAY_memory_usage_threshold` when starting Ray. To disable worker killing, set the environment variable `RAY_memory_monitor_refresh_ms` to zero.\n",
      "ERROR flwr 2024-07-14 03:35:31,847 | ray_client_proxy.py:87 | Task was killed due to the node running low on memory.\n",
      "Memory on the node (IP: 192.168.0.156, ID: 0a18b1ca56dbd45831ae37ed5f36ae0a5e7fe9b317e408c0109ea830) where the task (task ID: 3fcf6c05f3b75a51afa877eab5e732bf53b351d601000000, name=launch_and_fit, pid=164985, memory used=8.10GB) was running was 14.56GB / 15.30GB (0.951517), which exceeds the memory usage threshold of 0.95. Ray killed this worker (ID: 940475a0bd95b8305fac747625c864254a64506c87d1929eacdbdeac) because it was the most recently scheduled task; to see more information about memory usage on this node, use `ray logs raylet.out -ip 192.168.0.156`. To see the logs of the worker, use `ray logs worker-940475a0bd95b8305fac747625c864254a64506c87d1929eacdbdeac*out -ip 192.168.0.156. Top 10 memory users:\n",
      "PID\tMEM(GB)\tCOMMAND\n",
      "164985\t8.10\tray::launch_and_fit\n",
      "162982\t1.17\t/home/siddhant/anaconda3/envs/fed/bin/python -m ipykernel_launcher --f=/home/siddhant/.local/share/j...\n",
      "131914\t0.43\t/snap/code/164/usr/share/code/code --type=renderer --crashpad-handler-pid=131868 --enable-crash-repo...\n",
      "145151\t0.37\t/home/siddhant/anaconda3/envs/fed/bin/python -m ipykernel_launcher --f=/home/siddhant/.local/share/j...\n",
      "132483\t0.30\t/snap/code/164/usr/share/code/code /home/siddhant/.vscode/extensions/ms-python.vscode-pylance-2024.7...\n",
      "131973\t0.13\t/snap/code/164/usr/share/code/code --type=utility --utility-sub-type=node.mojom.NodeService --lang=e...\n",
      "163073\t0.10\t/home/siddhant/anaconda3/envs/fed/lib/python3.10/site-packages/ray/core/src/ray/gcs/gcs_server --log...\n",
      "4398\t0.08\t/usr/bin/gnome-shell\n",
      "137521\t0.08\t/home/siddhant/anaconda3/envs/fed/bin/python -m ipykernel_launcher --f=/home/siddhant/.local/share/j...\n",
      "148775\t0.06\t/snap/code/164/usr/share/code/code --type=renderer --crashpad-handler-pid=131868 --enable-crash-repo...\n",
      "Refer to the documentation on how to address the out of memory issue: https://docs.ray.io/en/latest/ray-core/scheduling/ray-oom-prevention.html. Consider provisioning more memory on this node or reducing task parallelism by requesting more CPUs per task. To adjust the kill threshold, set the environment variable `RAY_memory_usage_threshold` when starting Ray. To disable worker killing, set the environment variable `RAY_memory_monitor_refresh_ms` to zero.\n"
     ]
    },
    {
     "name": "stdout",
     "output_type": "stream",
     "text": [
      "\u001b[36m(launch_and_fit pid=165079)\u001b[0m Run with homomorphic encryption\n"
     ]
    },
    {
     "name": "stderr",
     "output_type": "stream",
     "text": [
      "  0%|\u001b[34m          \u001b[0m| 0/5 [00:00<?, ?it/s]\n"
     ]
    },
    {
     "name": "stdout",
     "output_type": "stream",
     "text": [
      "\u001b[36m(launch_and_fit pid=165079)\u001b[0m [Client 4, round 1] fit, config: {'learning_rate': 0.003, 'batch_size': '32', 'server_round': 1, 'local_epochs': 5}\n",
      "\u001b[36m(launch_and_fit pid=165079)\u001b[0m Updated model\n"
     ]
    },
    {
     "name": "stderr",
     "output_type": "stream",
     "text": [
      " 20%|\u001b[34m██        \u001b[0m| 1/5 [00:00<00:02,  1.51it/s]\n"
     ]
    },
    {
     "name": "stdout",
     "output_type": "stream",
     "text": [
      "\u001b[36m(launch_and_fit pid=165079)\u001b[0m \tTrain Epoch: 1 \tTrain_loss: 1.9462 | Train_acc: 12.9861 % | Validation_loss: 1.9454 | Validation_acc: 19.7917 %\n"
     ]
    },
    {
     "name": "stderr",
     "output_type": "stream",
     "text": [
      " 40%|\u001b[34m████      \u001b[0m| 2/5 [00:01<00:01,  1.74it/s]\n"
     ]
    },
    {
     "name": "stdout",
     "output_type": "stream",
     "text": [
      "\u001b[36m(launch_and_fit pid=165079)\u001b[0m \tTrain Epoch: 2 \tTrain_loss: 1.9469 | Train_acc: 11.9329 % | Validation_loss: 1.9454 | Validation_acc: 19.7917 %\n"
     ]
    },
    {
     "name": "stderr",
     "output_type": "stream",
     "text": [
      " 60%|\u001b[34m██████    \u001b[0m| 3/5 [00:01<00:01,  1.86it/s]\n"
     ]
    },
    {
     "name": "stdout",
     "output_type": "stream",
     "text": [
      "\u001b[36m(launch_and_fit pid=165079)\u001b[0m \tTrain Epoch: 3 \tTrain_loss: 1.9463 | Train_acc: 10.7407 % | Validation_loss: 1.9454 | Validation_acc: 19.7917 %\n"
     ]
    },
    {
     "name": "stderr",
     "output_type": "stream",
     "text": [
      " 80%|\u001b[34m████████  \u001b[0m| 4/5 [00:02<00:00,  1.90it/s]\n"
     ]
    },
    {
     "name": "stdout",
     "output_type": "stream",
     "text": [
      "\u001b[36m(launch_and_fit pid=165079)\u001b[0m \tTrain Epoch: 4 \tTrain_loss: 1.9462 | Train_acc: 13.0440 % | Validation_loss: 1.9454 | Validation_acc: 19.7917 %\n"
     ]
    },
    {
     "name": "stderr",
     "output_type": "stream",
     "text": [
      "100%|\u001b[34m██████████\u001b[0m| 5/5 [00:02<00:00,  1.87it/s]\n"
     ]
    },
    {
     "name": "stdout",
     "output_type": "stream",
     "text": [
      "\u001b[36m(launch_and_fit pid=165079)\u001b[0m \tTrain Epoch: 5 \tTrain_loss: 1.9473 | Train_acc: 13.5532 % | Validation_loss: 1.9455 | Validation_acc: 19.7917 %\n",
      "\u001b[36m(launch_and_fit pid=165079)\u001b[0m save graph in  results/FL/\n",
      "\u001b[36m(launch_and_fit pid=165079)\u001b[0m fc1.weight 3.337860107421875e-06\n",
      "\u001b[36m(launch_and_fit pid=165079)\u001b[0m fc1.bias 7.152557373046875e-07\n",
      "\u001b[36m(launch_and_fit pid=165079)\u001b[0m fc2.weight 1.1920928955078125e-06\n",
      "\u001b[36m(launch_and_fit pid=165079)\u001b[0m fc2.bias 7.152557373046875e-07\n"
     ]
    }
   ],
   "source": [
    "import warnings\n",
    "warnings.simplefilter(\"ignore\")\n",
    "\n",
    "print(\"flwr\", fl.__version__)\n",
    "print(\"numpy\", np.__version__)\n",
    "print(\"torch\", torch.__version__)\n",
    "print(\"torchvision\", torchvision.__version__)\n",
    "print(f\"Training on {DEVICE}\")\n",
    "\n",
    "client_resources = None\n",
    "\n",
    "if DEVICE.type == \"cuda\":\n",
    "    client_resources = {\"num_cpus\":1, \"num_gpus\": 1}\n",
    "\n",
    "model_save = model_save\n",
    "path_yaml = yaml_path\n",
    "path_roc = roc_path\n",
    "results_save = save_results\n",
    "path_matrix = matrix_path\n",
    "batch_size = batch_size\n",
    "he = he\n",
    "secret_path = 'secret.pkl'\n",
    "server_path = 'secret.pkl'\n",
    "path_crypted = 'server.pkl'\n",
    "\n",
    "print(\"Start simulation\")\n",
    "start_simulation = time.time()\n",
    "fl.simulation.start_simulation(\n",
    "    client_fn=client_fn,\n",
    "    num_clients=number_clients,\n",
    "    config=fl.server.ServerConfig(num_rounds=rounds),\n",
    "    strategy=strategy,\n",
    "    client_resources=client_resources\n",
    ")\n",
    "print(f\"Simulation Time = {time.time() - start_simulation} seconds\")"
   ]
  }
 ],
 "metadata": {
  "kernelspec": {
   "display_name": "fl_env",
   "language": "python",
   "name": "python3"
  },
  "language_info": {
   "codemirror_mode": {
    "name": "ipython",
    "version": 3
   },
   "file_extension": ".py",
   "mimetype": "text/x-python",
   "name": "python",
   "nbconvert_exporter": "python",
   "pygments_lexer": "ipython3",
   "version": "3.10.12"
  }
 },
 "nbformat": 4,
 "nbformat_minor": 2
}
