{
 "cells": [
  {
   "cell_type": "markdown",
   "metadata": {},
   "source": [
    "### Import necessary libraries and modules"
   ]
  },
  {
   "cell_type": "code",
   "execution_count": 1,
   "metadata": {},
   "outputs": [],
   "source": [
    "# %%bash\n",
    "\n",
    "# kaggle datasets download -d nageshsingh/dna-sequence-dataset\n",
    "# mkdir data data/DNA\n",
    "# unzip dna-sequence-dataset.zip -d data/DNA\n",
    "# rm dna-sequence-dataset.zip"
   ]
  },
  {
   "cell_type": "code",
   "execution_count": 2,
   "metadata": {},
   "outputs": [],
   "source": [
    "import os\n",
    "import pickle\n",
    "import time\n",
    "from collections import OrderedDict\n",
    "from typing import (\n",
    "    List, Tuple, Dict, Optional, Callable, Union\n",
    ")\n",
    "import tenseal as ts\n",
    "\n",
    "import numpy as np\n",
    "import torchvision\n",
    "import torch\n",
    "from torch import nn\n",
    "import torch.nn.functional as F\n",
    "import flwr as fl\n",
    "from flwr.common import (\n",
    "    Metrics, EvaluateIns, EvaluateRes, FitIns, FitRes, MetricsAggregationFn, \n",
    "    Scalar, logger, ndarrays_to_parameters_custom, parameters_to_ndarrays_custom,\n",
    "    Parameters, NDArrays\n",
    ")\n",
    "from flwr.server.client_proxy import ClientProxy\n",
    "from flwr.server.client_manager import ClientManager\n",
    "from flwr.server.strategy.aggregate import weighted_loss_avg\n",
    "from logging import WARNING\n",
    "import pennylane as qml\n",
    "\n",
    "from utils import *\n",
    "\n",
    "os.environ['TOKENIZERS_PARALLELISM'] = 'false'"
   ]
  },
  {
   "cell_type": "markdown",
   "metadata": {},
   "source": [
    "### Creation of FHE Keys"
   ]
  },
  {
   "cell_type": "code",
   "execution_count": 3,
   "metadata": {},
   "outputs": [
    {
     "name": "stdout",
     "output_type": "stream",
     "text": [
      "it exists\n"
     ]
    }
   ],
   "source": [
    "def combo_keys(client_path=\"secret.pkl\", server_path=\"server_key.pkl\"):\n",
    "    \"\"\"\n",
    "    To create the public/private keys combination\n",
    "    args:\n",
    "        client_path: path to save the secret key (str)\n",
    "        server_path: path to save the server public key (str)\n",
    "    \"\"\"\n",
    "    context_client = security.context()\n",
    "    security.write_query(client_path, {\"contexte\": context_client.serialize(save_secret_key=True)})\n",
    "    security.write_query(server_path, {\"contexte\": context_client.serialize()})\n",
    "\n",
    "    _, context_client = security.read_query(client_path)\n",
    "    _, context_server = security.read_query(server_path)\n",
    "\n",
    "    context_client = ts.context_from(context_client)\n",
    "    context_server = ts.context_from(context_server)\n",
    "    print(\"Is the client context private?\", (\"Yes\" if context_client.is_private() else \"No\"))\n",
    "    print(\"Is the server context private?\", (\"Yes\" if context_server.is_private() else \"No\"))\n",
    "\n",
    "\n",
    "secret_path = \"secret.pkl\"\n",
    "public_path = \"server_key.pkl\"\n",
    "if os.path.exists(secret_path):\n",
    "    print(\"it exists\")\n",
    "    _, context_client = security.read_query(secret_path)\n",
    "\n",
    "else:\n",
    "    combo_keys(client_path=secret_path, server_path=public_path)\n",
    "\n",
    "n_qubits = 7\n",
    "n_layers = 6\n",
    "weight_shapes = {\"weights\": (n_layers, n_qubits)}    "
   ]
  },
  {
   "cell_type": "markdown",
   "metadata": {},
   "source": [
    "### Model Architecture Creation"
   ]
  },
  {
   "cell_type": "code",
   "execution_count": 4,
   "metadata": {},
   "outputs": [],
   "source": [
    "dev = qml.device(\"default.qubit.torch\", wires=n_qubits)\n",
    "    \n",
    "@qml.qnode(dev, interface='torch')\n",
    "def quantum_net(inputs, weights):\n",
    "    qml.AngleEmbedding(inputs, wires=range(n_qubits)) \n",
    "    qml.BasicEntanglerLayers(weights,wires=range(n_qubits))\n",
    "    return [qml.expval(qml.PauliZ(i)) for i in range(n_qubits)]\n",
    "\n",
    "class Net(nn.Module):\n",
    "    \"\"\"\n",
    "    A better CNN model with improvements such as dropout and batch normalization.\n",
    "\n",
    "    Args:\n",
    "        num_classes: An integer indicating the number of classes in the dataset.\n",
    "    \"\"\"\n",
    "    def __init__(self, num_classes=10) -> None:\n",
    "        super(Net, self).__init__()\n",
    "        self.fc1 = nn.Linear(384, 256)\n",
    "        self.fc2 = nn.Linear(256, 128)\n",
    "        self.fc3 = nn.Linear(128, num_classes)\n",
    "        self.qnn = qml.qnn.TorchLayer(quantum_net, weight_shapes)        \n",
    "\n",
    "    def forward(self, x: torch.Tensor) -> torch.Tensor:\n",
    "        \"\"\"\n",
    "        Forward pass of the neural network\n",
    "        \"\"\"\n",
    "        x = F.relu(self.fc1(x))\n",
    "        x = F.relu(self.fc2(x))\n",
    "        x = F.relu(self.fc3(x))\n",
    "        x = self.qnn(x)\n",
    "        return x"
   ]
  },
  {
   "cell_type": "markdown",
   "metadata": {},
   "source": [
    "### Define the FlowerClient class for federated learning"
   ]
  },
  {
   "cell_type": "code",
   "execution_count": 5,
   "metadata": {},
   "outputs": [],
   "source": [
    "class FlowerClient(fl.client.NumPyClient):\n",
    "    def __init__(self, cid, net, trainloader, valloader, device, batch_size, save_results, matrix_path, roc_path,\n",
    "                 yaml_path, he, classes, context_client):\n",
    "        self.net = net\n",
    "        self.trainloader = trainloader\n",
    "        self.valloader = valloader\n",
    "        self.cid = cid\n",
    "        self.device = device\n",
    "        self.batch_size = batch_size\n",
    "        self.save_results = save_results\n",
    "        self.matrix_path = matrix_path\n",
    "        self.roc_path = roc_path\n",
    "        self.yaml_path = yaml_path\n",
    "        self.he = he\n",
    "        self.classes = classes\n",
    "        self.context_client = context_client\n",
    "\n",
    "    def get_parameters(self, config):\n",
    "        print(f\"[Client {self.cid}] get_parameters\")\n",
    "        return get_parameters2(self.net, self.context_client)\n",
    "\n",
    "    def fit(self, parameters, config):\n",
    "        server_round = config['server_round']\n",
    "        local_epochs = config['local_epochs']\n",
    "        lr = float(config[\"learning_rate\"])\n",
    "\n",
    "        print(f'[Client {self.cid}, round {server_round}] fit, config: {config}')\n",
    "\n",
    "        set_parameters(self.net, parameters, self.context_client)\n",
    "\n",
    "        criterion = torch.nn.CrossEntropyLoss()\n",
    "        optimizer = torch.optim.Adam(self.net.parameters(), lr=lr)\n",
    "\n",
    "        results = engine.train(self.net, self.trainloader, self.valloader, optimizer=optimizer, loss_fn=criterion,\n",
    "                               epochs=local_epochs, device=self.device)\n",
    "\n",
    "        if self.save_results:\n",
    "            save_graphs(self.save_results, local_epochs, results, f\"_Client {self.cid}\")\n",
    "\n",
    "        return get_parameters2(self.net, self.context_client), len(self.trainloader), {}\n",
    "\n",
    "    def evaluate(self, parameters, config):\n",
    "        print(f\"[Client {self.cid}] evaluate, config: {config}\")\n",
    "        set_parameters(self.net, parameters, self.context_client)\n",
    "\n",
    "        loss, accuracy, y_pred, y_true, y_proba = engine.test(self.net, self.valloader,\n",
    "                                                              loss_fn=torch.nn.CrossEntropyLoss(), device=self.device)\n",
    "\n",
    "        if self.save_results:\n",
    "            os.makedirs(self.save_results, exist_ok=True)\n",
    "            if self.matrix_path:\n",
    "                save_matrix(y_true, y_pred, self.save_results + self.matrix_path, self.classes)\n",
    "            if self.roc_path:\n",
    "                save_roc(y_true, y_proba, self.save_results + self.roc_path, len(self.classes))\n",
    "\n",
    "        return float(loss), len(self.valloader), {\"accuracy\": float(accuracy)}"
   ]
  },
  {
   "cell_type": "markdown",
   "metadata": {},
   "source": [
    "### Define the client_common function to set up the Flower client"
   ]
  },
  {
   "cell_type": "code",
   "execution_count": 6,
   "metadata": {},
   "outputs": [],
   "source": [
    "def client_common(cid, model_save, path_yaml, path_roc, results_save, path_matrix,\n",
    "                  batch_size, trainloaders, valloaders, DEVICE, CLASSES,\n",
    "                  he=False, secret_path=\"\", server_path=\"\"):\n",
    "    trainloader = trainloaders[int(cid)]\n",
    "    valloader = valloaders[int(cid)]\n",
    "\n",
    "    context_client = None\n",
    "    net = Net(num_classes=len(CLASSES)).to(DEVICE)\n",
    "\n",
    "    if he:\n",
    "        print(\"Run with homomorphic encryption\")\n",
    "        if os.path.exists(secret_path):\n",
    "            with open(secret_path, 'rb') as f:\n",
    "                query = pickle.load(f)\n",
    "            context_client = ts.context_from(query[\"contexte\"])\n",
    "        else:\n",
    "            context_client = security.context()\n",
    "            with open(secret_path, 'wb') as f:\n",
    "                encode = pickle.dumps({\"contexte\": context_client.serialize(save_secret_key=True)})\n",
    "                f.write(encode)\n",
    "        secret_key = context_client.secret_key()\n",
    "    else:\n",
    "        print(\"Run WITHOUT homomorphic encryption\")\n",
    "\n",
    "    if os.path.exists(model_save):\n",
    "        print(\" To get the checkpoint\")\n",
    "        checkpoint = torch.load(model_save, map_location=DEVICE)['model_state_dict']\n",
    "        if he:\n",
    "            print(\"to decrypt model\")\n",
    "            server_query, server_context = security.read_query(server_path)\n",
    "            server_context = ts.context_from(server_context)\n",
    "            for name in checkpoint:\n",
    "                print(name)\n",
    "                checkpoint[name] = torch.tensor(\n",
    "                    security.deserialized_layer(name, server_query[name], server_context).decrypt(secret_key)\n",
    "                )\n",
    "        net.load_state_dict(checkpoint)\n",
    "\n",
    "    return FlowerClient(cid, net, trainloader, valloader, device=DEVICE, batch_size=batch_size,\n",
    "                        matrix_path=path_matrix, roc_path=path_roc, save_results=results_save, yaml_path=path_yaml,\n",
    "                        he=he, context_client=context_client, classes=CLASSES)"
   ]
  },
  {
   "cell_type": "markdown",
   "metadata": {},
   "source": [
    "### Define utility functions for federated learning"
   ]
  },
  {
   "cell_type": "code",
   "execution_count": 7,
   "metadata": {},
   "outputs": [],
   "source": [
    "def weighted_average(metrics: List[Tuple[int, Metrics]]) -> Metrics:\n",
    "    accuracies = [num_examples * m[\"accuracy\"] for num_examples, m in metrics]\n",
    "    examples = [num_examples for num_examples, _ in metrics]\n",
    "    return {\"accuracy\": sum(accuracies) / sum(examples)}\n",
    "\n",
    "def evaluate2(server_round: int, parameters: NDArrays,\n",
    "              config: Dict[str, Scalar]) -> Optional[Tuple[float, Dict[str, Scalar]]]:\n",
    "    set_parameters(central, parameters)\n",
    "    loss, accuracy, y_pred, y_true, y_proba = engine.test(central, testloader, loss_fn=torch.nn.CrossEntropyLoss(),\n",
    "                                                          device=DEVICE)\n",
    "    print(f\"Server-side evaluation loss {loss} / accuracy {accuracy}\")\n",
    "    return loss, {\"accuracy\": accuracy}\n",
    "\n",
    "def get_on_fit_config_fn(epoch=2, lr=0.001, batch_size=32) -> Callable[[int], Dict[str, str]]:\n",
    "    def fit_config(server_round: int) -> Dict[str, str]:\n",
    "        config = {\n",
    "            \"learning_rate\": str(lr),\n",
    "            \"batch_size\": str(batch_size),\n",
    "            \"server_round\": server_round,\n",
    "            \"local_epochs\": epoch\n",
    "        }\n",
    "        return config\n",
    "    return fit_config\n",
    "\n",
    "def aggreg_fit_checkpoint(server_round, aggregated_parameters, central_model, path_checkpoint,\n",
    "                          context_client=None, server_path=\"\"):\n",
    "    if aggregated_parameters is not None:\n",
    "        print(f\"Saving round {server_round} aggregated_parameters...\")\n",
    "        aggregated_ndarrays: List[np.ndarray] = parameters_to_ndarrays_custom(aggregated_parameters, context_client)\n",
    "        if context_client:   \n",
    "            server_response = {\"contexte\": server_context.serialize()}\n",
    "            for i, key in enumerate(central_model.state_dict().keys()):\n",
    "                try:\n",
    "                    server_response[key] = aggregated_ndarrays[i].serialize()\n",
    "                except:\n",
    "                    server_response[key] = aggregated_ndarrays[i]\n",
    "            security.write_query(server_path, server_response)\n",
    "        else:\n",
    "            params_dict = zip(central_model.state_dict().keys(), aggregated_ndarrays)\n",
    "            state_dict = OrderedDict({k: torch.tensor(v) for k, v in params_dict})\n",
    "            central_model.load_state_dict(state_dict, strict=True)\n",
    "            if path_checkpoint:\n",
    "                torch.save({\n",
    "                    'model_state_dict': central_model.state_dict(),\n",
    "                }, path_checkpoint)"
   ]
  },
  {
   "cell_type": "markdown",
   "metadata": {},
   "source": [
    "### Define the FedCustom strategy class"
   ]
  },
  {
   "cell_type": "code",
   "execution_count": 8,
   "metadata": {},
   "outputs": [],
   "source": [
    "# A Strategy from scratch with the same sampling of the clients as it is in FedAvg\n",
    "# and then change the configuration dictionary\n",
    "class FedCustom(fl.server.strategy.Strategy):\n",
    "    def __init__(\n",
    "            self,\n",
    "            fraction_fit: float = 1.0,\n",
    "            fraction_evaluate: float = 1.0,\n",
    "            min_fit_clients: int = 2,\n",
    "            min_evaluate_clients: int = 2,\n",
    "            min_available_clients: int = 2,\n",
    "            evaluate_fn: Optional[\n",
    "                    Callable[[int, NDArrays, Dict[str, Scalar]], Optional[Tuple[float, Dict[str, Scalar]]]]\n",
    "                ] = None,\n",
    "            on_fit_config_fn: Optional[Callable[[int], Dict[str, Scalar]]] = None,\n",
    "            on_evaluate_config_fn: Optional[Callable[[int], Dict[str, Scalar]]] = None,\n",
    "            accept_failures: bool = True,\n",
    "            initial_parameters: Optional[Parameters] = None,\n",
    "            fit_metrics_aggregation_fn: Optional[MetricsAggregationFn] = None,\n",
    "            evaluate_metrics_aggregation_fn: Optional[MetricsAggregationFn] = None,\n",
    "            context_client=None\n",
    "    ) -> None:\n",
    "        super().__init__()\n",
    "        self.fraction_fit = fraction_fit\n",
    "        self.fraction_evaluate = fraction_evaluate\n",
    "        self.min_fit_clients = min_fit_clients\n",
    "        self.min_evaluate_clients = min_evaluate_clients\n",
    "        self.min_available_clients = min_available_clients\n",
    "        self.evaluate_fn = evaluate_fn\n",
    "        self.on_fit_config_fn = on_fit_config_fn\n",
    "        self.on_evaluate_config_fn = on_evaluate_config_fn,\n",
    "        self.accept_failures = accept_failures\n",
    "        self.initial_parameters = initial_parameters\n",
    "        self.fit_metrics_aggregation_fn = fit_metrics_aggregation_fn\n",
    "        self.evaluate_metrics_aggregation_fn = evaluate_metrics_aggregation_fn\n",
    "        self.context_client = context_client\n",
    "\n",
    "    def __repr__(self) -> str:\n",
    "        # Same function as FedAvg(Strategy)\n",
    "        return f\"FedCustom (accept_failures={self.accept_failures})\"\n",
    "\n",
    "    def initialize_parameters(\n",
    "        self, client_manager: ClientManager\n",
    "    ) -> Optional[Parameters]:\n",
    "        \"\"\"Initialize global model parameters.\"\"\"\n",
    "        # Same function as FedAvg(Strategy)\n",
    "        initial_parameters = self.initial_parameters\n",
    "        self.initial_parameters = None  # Don't keep initial parameters in memory\n",
    "        return initial_parameters\n",
    "\n",
    "    def num_fit_clients(self, num_available_clients: int) -> Tuple[int, int]:\n",
    "        \"\"\"Return sample size and required number of clients.\"\"\"\n",
    "        # Same function as FedAvg(Strategy)\n",
    "        num_clients = int(num_available_clients * self.fraction_fit)\n",
    "        return max(num_clients, self.min_fit_clients), self.min_available_clients\n",
    "\n",
    "    def configure_fit(\n",
    "        self, server_round: int, parameters: Parameters, client_manager: ClientManager\n",
    "    ) -> List[Tuple[ClientProxy, FitIns]]:\n",
    "        \"\"\"Configure the next round of training.\"\"\"\n",
    "        # Sample clients\n",
    "        sample_size, min_num_clients = self.num_fit_clients(\n",
    "            client_manager.num_available()\n",
    "        )\n",
    "\n",
    "        clients = client_manager.sample(\n",
    "            num_clients=sample_size, min_num_clients=min_num_clients\n",
    "        )\n",
    "        # Create custom configs\n",
    "        n_clients = len(clients)\n",
    "        half_clients = n_clients // 2\n",
    "        # Custom fit config function provided\n",
    "        standard_lr = lr\n",
    "        higher_lr = 0.003\n",
    "        config = {\"server_round\": server_round, \"local_epochs\": 1}\n",
    "        if self.on_fit_config_fn is not None:\n",
    "            # Custom fit config function provided\n",
    "            config = self.on_fit_config_fn(server_round)\n",
    "\n",
    "        # fit_ins = FitIns(parameters, config)\n",
    "        # Return client/config pairs\n",
    "        fit_configurations = []\n",
    "        for idx, client in enumerate(clients):\n",
    "            config[\"learning_rate\"] = standard_lr if idx < half_clients else higher_lr\n",
    "            \"\"\"\n",
    "            Each pair of (ClientProxy, FitRes) constitutes \n",
    "            a successful update from one of the previously selected clients.\n",
    "            \"\"\"\n",
    "            fit_configurations.append(\n",
    "                (\n",
    "                    client,\n",
    "                    FitIns(\n",
    "                        parameters,\n",
    "                        config\n",
    "                    )\n",
    "                )\n",
    "            )\n",
    "        # Successful updates from the previously selected and configured clients\n",
    "        return fit_configurations\n",
    "\n",
    "    def aggregate_fit(\n",
    "        self,\n",
    "        server_round: int,\n",
    "        results: List[Tuple[ClientProxy, FitRes]],\n",
    "        failures: List[Union[Tuple[ClientProxy, FitRes], BaseException]],\n",
    "    ) -> Tuple[Optional[Parameters], Dict[str, Scalar]]:\n",
    "        \"\"\"Aggregate fit results using weighted average. (each round)\"\"\"\n",
    "        # Same function as FedAvg(Strategy)\n",
    "        if not results:\n",
    "            return None, {}\n",
    "\n",
    "        # Do not aggregate if there are failures and failures are not accepted\n",
    "        if not self.accept_failures and failures:\n",
    "            return None, {}\n",
    "\n",
    "        # Convert results parameters --> array matrix\n",
    "        weights_results = [\n",
    "            (parameters_to_ndarrays_custom(fit_res.parameters, self.context_client), fit_res.num_examples)\n",
    "            for _, fit_res in results\n",
    "        ]\n",
    "\n",
    "        # Aggregate parameters using weighted average between the clients and convert back to parameters object (bytes)\n",
    "        parameters_aggregated = ndarrays_to_parameters_custom(aggregate_custom(weights_results))\n",
    "\n",
    "        metrics_aggregated = {}\n",
    "        # Aggregate custom metrics if aggregation fn was provided\n",
    "        if self.fit_metrics_aggregation_fn:\n",
    "            fit_metrics = [(res.num_examples, res.metrics) for _, res in results]\n",
    "            metrics_aggregated = self.fit_metrics_aggregation_fn(fit_metrics)\n",
    "\n",
    "        elif server_round == 1:  # Only log this warning once\n",
    "            logger.log(WARNING, \"No fit_metrics_aggregation_fn provided\")\n",
    "\n",
    "        # Same function as SaveModelStrategy(fl.server.strategy.FedAvg)\n",
    "        \"\"\"Aggregate model weights using weighted average and store checkpoint\"\"\"\n",
    "        aggreg_fit_checkpoint(server_round, parameters_aggregated, central, model_save,\n",
    "                              self.context_client, path_crypted)\n",
    "        return parameters_aggregated, metrics_aggregated\n",
    "\n",
    "    def num_evaluation_clients(self, num_available_clients: int) -> Tuple[int, int]:\n",
    "        \"\"\"Use a fraction of available clients for evaluation.\"\"\"\n",
    "        # Same function as FedAvg(Strategy)\n",
    "        num_clients = int(num_available_clients * self.fraction_evaluate)\n",
    "        return max(num_clients, self.min_evaluate_clients), self.min_available_clients\n",
    "\n",
    "    def configure_evaluate(\n",
    "        self, server_round: int, parameters: Parameters, client_manager: ClientManager\n",
    "    ) -> List[Tuple[ClientProxy, EvaluateIns]]:\n",
    "        \"\"\"Configure the next round of evaluation.\"\"\"\n",
    "        # Same function as FedAvg(Strategy)\n",
    "        # Do not configure federated evaluation if fraction eval is 0.\n",
    "        if self.fraction_evaluate == 0.0:\n",
    "            return []\n",
    "\n",
    "        # Parameters and config\n",
    "        config = {}  # {\"server_round\": server_round, \"local_epochs\": 1}\n",
    "\n",
    "        evaluate_ins = EvaluateIns(parameters, config)\n",
    "\n",
    "        # Sample clients\n",
    "        sample_size, min_num_clients = self.num_evaluation_clients(\n",
    "            client_manager.num_available()\n",
    "        )\n",
    "\n",
    "        clients = client_manager.sample(\n",
    "            num_clients=sample_size, min_num_clients=min_num_clients\n",
    "        )\n",
    "\n",
    "        # Return client/config pairs\n",
    "        # Each pair of (ClientProxy, FitRes) constitutes a successful update from one of the previously selected clients\n",
    "        return [(client, evaluate_ins) for client in clients]\n",
    "\n",
    "    def aggregate_evaluate(\n",
    "        self,\n",
    "        server_round: int,\n",
    "        results: List[Tuple[ClientProxy, EvaluateRes]],\n",
    "        failures: List[Union[Tuple[ClientProxy, EvaluateRes], BaseException]],\n",
    "    ) -> Tuple[Optional[float], Dict[str, Scalar]]:\n",
    "        \"\"\"Aggregate evaluation losses using weighted average.\"\"\"\n",
    "        # Same function as FedAvg(Strategy)\n",
    "        if not results:\n",
    "            return None, {}\n",
    "\n",
    "        # Do not aggregate if there are failures and failures are not accepted\n",
    "        if not self.accept_failures and failures:\n",
    "            return None, {}\n",
    "\n",
    "        # Aggregate loss\n",
    "        loss_aggregated = weighted_loss_avg(\n",
    "            [\n",
    "                (evaluate_res.num_examples, evaluate_res.loss)\n",
    "                for _, evaluate_res in results\n",
    "            ]\n",
    "        )\n",
    "\n",
    "        metrics_aggregated = {}\n",
    "        # Aggregate custom metrics if aggregation fn was provided\n",
    "        if self.evaluate_metrics_aggregation_fn:\n",
    "            eval_metrics = [(res.num_examples, res.metrics) for _, res in results]\n",
    "            metrics_aggregated = self.evaluate_metrics_aggregation_fn(eval_metrics)\n",
    "\n",
    "        # Only log this warning once\n",
    "        elif server_round == 1:\n",
    "            logger.log(WARNING, \"No evaluate_metrics_aggregation_fn provided\")\n",
    "\n",
    "        return loss_aggregated, metrics_aggregated\n",
    "\n",
    "    def evaluate(\n",
    "        self, server_round: int, parameters: Parameters\n",
    "    ) -> Optional[Tuple[float, Dict[str, Scalar]]]:\n",
    "        \"\"\"Evaluate global model parameters using an evaluation function.\"\"\"\n",
    "        # Same function as FedAvg(Strategy)\n",
    "        if self.evaluate_fn is None:\n",
    "            # Let's assume we won't perform the global model evaluation on the server side.\n",
    "            return None\n",
    "\n",
    "        # if we have a global model evaluation on the server side :\n",
    "        parameters_ndarrays = parameters_to_ndarrays_custom(parameters, self.context_client)\n",
    "        eval_res = self.evaluate_fn(server_round, parameters_ndarrays, {})\n",
    "\n",
    "        # if you haven't results\n",
    "        if eval_res is None:\n",
    "            return None\n",
    "\n",
    "        loss, metrics = eval_res\n",
    "        return loss, metrics"
   ]
  },
  {
   "cell_type": "markdown",
   "metadata": {},
   "source": [
    "### Set up the federated learning strategy"
   ]
  },
  {
   "cell_type": "code",
   "execution_count": 9,
   "metadata": {},
   "outputs": [],
   "source": [
    "# Set up your variables directly\n",
    "he = True\n",
    "data_path = 'data/'\n",
    "dataset = 'DNA'\n",
    "yaml_path = './results/FL/results.yml'\n",
    "seed = 0\n",
    "num_workers = 0\n",
    "max_epochs = 10\n",
    "batch_size = 16\n",
    "splitter = 10\n",
    "device = 'gpu'\n",
    "number_clients = 10\n",
    "save_results = 'results/FL/'\n",
    "matrix_path = 'confusion_matrix.png'\n",
    "roc_path = 'roc.png'\n",
    "model_save = 'DNA_FHE.pt'\n",
    "min_fit_clients = 10\n",
    "min_avail_clients = 10\n",
    "min_eval_clients = 10\n",
    "rounds = 20\n",
    "frac_fit = 1.0\n",
    "frac_eval = 0.5\n",
    "lr = 1e-3\n",
    "path_public_key = 'server_key.pkl'"
   ]
  },
  {
   "cell_type": "code",
   "execution_count": 10,
   "metadata": {},
   "outputs": [
    {
     "name": "stdout",
     "output_type": "stream",
     "text": [
      "get public key :  server_key.pkl\n"
     ]
    }
   ],
   "source": [
    "print(\"get public key : \", path_public_key)\n",
    "_, server_context = security.read_query(path_public_key)\n",
    "server_context = ts.context_from(server_context)\n",
    "DEVICE = torch.device(choice_device(device))\n",
    "CLASSES = classes_string(dataset)\n",
    "central = Net(num_classes=len(CLASSES)).to(DEVICE)"
   ]
  },
  {
   "cell_type": "code",
   "execution_count": 11,
   "metadata": {},
   "outputs": [],
   "source": [
    "strategy = FedCustom(\n",
    "    fraction_fit=frac_fit,\n",
    "    fraction_evaluate=frac_eval,\n",
    "    min_fit_clients=min_fit_clients,\n",
    "    min_evaluate_clients=min_eval_clients if min_eval_clients else number_clients // 2,\n",
    "    min_available_clients=min_avail_clients,\n",
    "    evaluate_metrics_aggregation_fn=weighted_average,\n",
    "    initial_parameters=ndarrays_to_parameters_custom(get_parameters2(central)),\n",
    "    evaluate_fn=None if he else evaluate2,\n",
    "    on_fit_config_fn=get_on_fit_config_fn(epoch=max_epochs, batch_size=batch_size),\n",
    "    context_client=server_context\n",
    ")"
   ]
  },
  {
   "cell_type": "code",
   "execution_count": 12,
   "metadata": {},
   "outputs": [
    {
     "name": "stdout",
     "output_type": "stream",
     "text": [
      "DNA\n",
      "The training set is created for the classes: ('0', '1', '2', '3', '4', '5', '6')\n"
     ]
    }
   ],
   "source": [
    "trainloaders, valloaders, testloader = data_setup.load_datasets(num_clients=number_clients,\n",
    "                                                                batch_size=batch_size,\n",
    "                                                                resize=None,\n",
    "                                                                seed=seed,\n",
    "                                                                num_workers=num_workers,\n",
    "                                                                splitter=splitter,\n",
    "                                                                dataset=dataset,  # Use the specified dataset\n",
    "                                                                data_path=data_path,\n",
    "                                                                data_path_val=None)  # Use the same path for validation data\n",
    "\n",
    "def client_fn(cid: str) -> FlowerClient:\n",
    "    return client_common(cid,\n",
    "                         model_save, path_yaml, path_roc, results_save, path_matrix,\n",
    "                         batch_size, trainloaders, valloaders, DEVICE, CLASSES, he, secret_path, server_path)"
   ]
  },
  {
   "cell_type": "markdown",
   "metadata": {},
   "source": [
    "### Define the client_fn function and set up the simulation"
   ]
  },
  {
   "cell_type": "code",
   "execution_count": null,
   "metadata": {},
   "outputs": [
    {
     "name": "stderr",
     "output_type": "stream",
     "text": [
      "INFO flwr 2024-07-22 09:16:05,681 | app.py:145 | Starting Flower simulation, config: ServerConfig(num_rounds=20, round_timeout=None)\n"
     ]
    },
    {
     "name": "stdout",
     "output_type": "stream",
     "text": [
      "flwr 1.5.0\n",
      "numpy 1.26.4\n",
      "torch 2.1.2\n",
      "torchvision 0.16.2\n",
      "Training on cuda:0\n",
      "Start simulation\n"
     ]
    },
    {
     "name": "stderr",
     "output_type": "stream",
     "text": [
      "2024-07-22 09:16:09,866\tINFO worker.py:1724 -- Started a local Ray instance.\n",
      "INFO flwr 2024-07-22 09:16:11,193 | app.py:179 | Flower VCE: Ray initialized with resources: {'GPU': 2.0, 'node:172.19.2.2': 1.0, 'node:__internal_head__': 1.0, 'object_store_memory': 8780908953.0, 'accelerator_type:T4': 1.0, 'CPU': 4.0, 'memory': 17561817908.0}\n",
      "INFO flwr 2024-07-22 09:16:11,197 | server.py:89 | Initializing global parameters\n",
      "INFO flwr 2024-07-22 09:16:11,199 | server.py:272 | Using initial parameters provided by strategy\n",
      "INFO flwr 2024-07-22 09:16:11,200 | server.py:91 | Evaluating initial parameters\n",
      "INFO flwr 2024-07-22 09:16:11,201 | server.py:104 | FL starting\n",
      "DEBUG flwr 2024-07-22 09:16:11,202 | server.py:222 | fit_round 1: strategy sampled 10 clients (out of 10)\n"
     ]
    },
    {
     "name": "stdout",
     "output_type": "stream",
     "text": [
      "\u001b[36m(launch_and_fit pid=404)\u001b[0m Run with homomorphic encryption\n",
      "\u001b[36m(launch_and_fit pid=404)\u001b[0m [Client 4, round 1] fit, config: {'learning_rate': 0.003, 'batch_size': '16', 'server_round': 1, 'local_epochs': 10}\n",
      "\u001b[36m(launch_and_fit pid=405)\u001b[0m Updated model\n"
     ]
    },
    {
     "name": "stderr",
     "output_type": "stream",
     "text": [
      "  0%|\u001b[34m          \u001b[0m| 0/10 [00:00<?, ?it/s]\n",
      " 10%|\u001b[34m█         \u001b[0m| 1/10 [00:02<00:26,  2.93s/it]\n"
     ]
    },
    {
     "name": "stdout",
     "output_type": "stream",
     "text": [
      "\u001b[36m(launch_and_fit pid=404)\u001b[0m \tTrain Epoch: 1 \tTrain_loss: 1.9484 | Train_acc: 12.1307 % | Validation_loss: 1.9116 | Validation_acc: 42.3611 %\n",
      "\u001b[36m(launch_and_fit pid=405)\u001b[0m Run with homomorphic encryption\n",
      "\u001b[36m(launch_and_fit pid=405)\u001b[0m [Client 0, round 1] fit, config: {'learning_rate': 0.003, 'batch_size': '16', 'server_round': 1, 'local_epochs': 10}\n",
      "\u001b[36m(launch_and_fit pid=404)\u001b[0m Updated model\n"
     ]
    },
    {
     "name": "stderr",
     "output_type": "stream",
     "text": [
      "  0%|\u001b[34m          \u001b[0m| 0/10 [00:00<?, ?it/s]\n"
     ]
    },
    {
     "name": "stdout",
     "output_type": "stream",
     "text": [
      "\u001b[36m(launch_and_fit pid=405)\u001b[0m \tTrain Epoch: 4 \tTrain_loss: 1.8878 | Train_acc: 30.9091 % | Validation_loss: 1.9141 | Validation_acc: 22.9167 %\u001b[32m [repeated 6x across cluster] (Ray deduplicates logs by default. Set RAY_DEDUP_LOGS=0 to disable log deduplication, or see https://docs.ray.io/en/master/ray-observability/ray-logging.html#log-deduplication for more options.)\u001b[0m\n"
     ]
    },
    {
     "name": "stderr",
     "output_type": "stream",
     "text": [
      " 40%|\u001b[34m████      \u001b[0m| 4/10 [00:10<00:14,  2.48s/it]\u001b[32m [repeated 6x across cluster]\u001b[0m\n",
      " 60%|\u001b[34m██████    \u001b[0m| 6/10 [00:15<00:09,  2.47s/it]\u001b[32m [repeated 5x across cluster]\u001b[0m\n"
     ]
    },
    {
     "name": "stdout",
     "output_type": "stream",
     "text": [
      "\u001b[36m(launch_and_fit pid=404)\u001b[0m \tTrain Epoch: 6 \tTrain_loss: 1.8808 | Train_acc: 29.6591 % | Validation_loss: 1.8491 | Validation_acc: 42.3611 %\u001b[32m [repeated 5x across cluster]\u001b[0m\n",
      "\u001b[36m(launch_and_fit pid=405)\u001b[0m \tTrain Epoch: 8 \tTrain_loss: 1.8648 | Train_acc: 31.0511 % | Validation_loss: 1.9268 | Validation_acc: 22.9167 %\u001b[32m [repeated 3x across cluster]\u001b[0m\n"
     ]
    },
    {
     "name": "stderr",
     "output_type": "stream",
     "text": [
      " 80%|\u001b[34m████████  \u001b[0m| 8/10 [00:20<00:05,  2.56s/it]\u001b[32m [repeated 3x across cluster]\u001b[0m\n"
     ]
    },
    {
     "name": "stdout",
     "output_type": "stream",
     "text": [
      "\u001b[36m(launch_and_fit pid=405)\u001b[0m save graph in  results/FL/\n",
      "\u001b[36m(launch_and_fit pid=405)\u001b[0m fc1.weight 5.0067901611328125e-06\n",
      "\u001b[36m(launch_and_fit pid=405)\u001b[0m fc1.bias 1.430511474609375e-06\n",
      "\u001b[36m(launch_and_fit pid=405)\u001b[0m fc2.weight 9.5367431640625e-07\n",
      "\u001b[36m(launch_and_fit pid=405)\u001b[0m fc2.bias 1.1920928955078125e-06\n",
      "\u001b[36m(launch_and_fit pid=405)\u001b[0m \tTrain Epoch: 10 \tTrain_loss: 1.8528 | Train_acc: 31.3352 % | Validation_loss: 1.9337 | Validation_acc: 22.9167 %\u001b[32m [repeated 4x across cluster]\u001b[0m\n"
     ]
    },
    {
     "name": "stderr",
     "output_type": "stream",
     "text": [
      "100%|\u001b[34m██████████\u001b[0m| 10/10 [00:25<00:00,  2.58s/it]\u001b[32m [repeated 5x across cluster]\u001b[0m\n"
     ]
    },
    {
     "name": "stdout",
     "output_type": "stream",
     "text": [
      "\u001b[36m(launch_and_fit pid=405)\u001b[0m qnn.weights 1.6689300537109375e-06\n",
      "\u001b[36m(launch_and_fit pid=498)\u001b[0m Run with homomorphic encryption\n",
      "\u001b[36m(launch_and_fit pid=404)\u001b[0m save graph in  results/FL/\n",
      "\u001b[36m(launch_and_fit pid=404)\u001b[0m fc3.bias 5.245208740234375e-06\u001b[32m [repeated 8x across cluster]\u001b[0m\n",
      "\u001b[36m(launch_and_fit pid=404)\u001b[0m \tTrain Epoch: 10 \tTrain_loss: 1.8556 | Train_acc: 30.0852 % | Validation_loss: 1.7985 | Validation_acc: 42.3611 %\n",
      "\u001b[36m(launch_and_fit pid=404)\u001b[0m qnn.weights 9.5367431640625e-07\n"
     ]
    },
    {
     "name": "stderr",
     "output_type": "stream",
     "text": [
      "  0%|\u001b[34m          \u001b[0m| 0/10 [00:00<?, ?it/s]\n"
     ]
    },
    {
     "name": "stdout",
     "output_type": "stream",
     "text": [
      "\u001b[36m(launch_and_fit pid=498)\u001b[0m [Client 1, round 1] fit, config: {'learning_rate': 0.003, 'batch_size': '16', 'server_round': 1, 'local_epochs': 10}\n",
      "\u001b[36m(launch_and_fit pid=498)\u001b[0m Updated model\n"
     ]
    },
    {
     "name": "stderr",
     "output_type": "stream",
     "text": [
      " 10%|\u001b[34m█         \u001b[0m| 1/10 [00:02<00:24,  2.70s/it]\n"
     ]
    },
    {
     "name": "stdout",
     "output_type": "stream",
     "text": [
      "\u001b[36m(launch_and_fit pid=498)\u001b[0m \tTrain Epoch: 1 \tTrain_loss: 1.9470 | Train_acc: 10.7670 % | Validation_loss: 1.9059 | Validation_acc: 23.6111 %\n"
     ]
    },
    {
     "name": "stderr",
     "output_type": "stream",
     "text": [
      "  0%|\u001b[34m          \u001b[0m| 0/10 [00:00<?, ?it/s]\n"
     ]
    },
    {
     "name": "stdout",
     "output_type": "stream",
     "text": [
      "\u001b[36m(launch_and_fit pid=523)\u001b[0m Run with homomorphic encryption\n",
      "\u001b[36m(launch_and_fit pid=523)\u001b[0m [Client 9, round 1] fit, config: {'learning_rate': 0.003, 'batch_size': '16', 'server_round': 1, 'local_epochs': 10}\n",
      "\u001b[36m(launch_and_fit pid=523)\u001b[0m Updated model\n"
     ]
    },
    {
     "name": "stderr",
     "output_type": "stream",
     "text": [
      " 30%|\u001b[34m███       \u001b[0m| 3/10 [00:07<00:18,  2.66s/it]\u001b[32m [repeated 4x across cluster]\u001b[0m\n"
     ]
    },
    {
     "name": "stdout",
     "output_type": "stream",
     "text": [
      "\u001b[36m(launch_and_fit pid=498)\u001b[0m \tTrain Epoch: 3 \tTrain_loss: 1.9102 | Train_acc: 24.8295 % | Validation_loss: 1.8887 | Validation_acc: 31.9444 %\u001b[32m [repeated 4x across cluster]\u001b[0m\n",
      "\u001b[36m(launch_and_fit pid=523)\u001b[0m \tTrain Epoch: 5 \tTrain_loss: 1.8662 | Train_acc: 32.3125 % | Validation_loss: 1.8381 | Validation_acc: 34.0278 %\u001b[32m [repeated 5x across cluster]\u001b[0m\n"
     ]
    },
    {
     "name": "stderr",
     "output_type": "stream",
     "text": [
      " 50%|\u001b[34m█████     \u001b[0m| 5/10 [00:12<00:12,  2.53s/it]\u001b[32m [repeated 5x across cluster]\u001b[0m\n",
      " 80%|\u001b[34m████████  \u001b[0m| 8/10 [00:20<00:04,  2.48s/it]\u001b[32m [repeated 5x across cluster]\u001b[0m\n"
     ]
    },
    {
     "name": "stdout",
     "output_type": "stream",
     "text": [
      "\u001b[36m(launch_and_fit pid=498)\u001b[0m \tTrain Epoch: 8 \tTrain_loss: 1.8706 | Train_acc: 27.7557 % | Validation_loss: 1.8757 | Validation_acc: 31.9444 %\u001b[32m [repeated 5x across cluster]\u001b[0m\n",
      "\u001b[36m(launch_and_fit pid=498)\u001b[0m save graph in  results/FL/\n",
      "\u001b[36m(launch_and_fit pid=498)\u001b[0m fc1.weight 4.5299530029296875e-06\n",
      "\u001b[36m(launch_and_fit pid=498)\u001b[0m fc1.bias 1.430511474609375e-06\n",
      "\u001b[36m(launch_and_fit pid=498)\u001b[0m fc2.weight 1.1920928955078125e-06\n",
      "\u001b[36m(launch_and_fit pid=498)\u001b[0m fc2.bias 1.1920928955078125e-06\n",
      "\u001b[36m(launch_and_fit pid=498)\u001b[0m \tTrain Epoch: 10 \tTrain_loss: 1.8603 | Train_acc: 28.3807 % | Validation_loss: 1.8774 | Validation_acc: 31.9444 %\u001b[32m [repeated 4x across cluster]\u001b[0m\n"
     ]
    },
    {
     "name": "stderr",
     "output_type": "stream",
     "text": [
      "100%|\u001b[34m██████████\u001b[0m| 10/10 [00:24<00:00,  2.49s/it]\u001b[32m [repeated 5x across cluster]\u001b[0m\n"
     ]
    },
    {
     "name": "stdout",
     "output_type": "stream",
     "text": [
      "\u001b[36m(launch_and_fit pid=498)\u001b[0m qnn.weights 2.384185791015625e-06\n",
      "\u001b[36m(launch_and_fit pid=582)\u001b[0m Run with homomorphic encryption\n",
      "\u001b[36m(launch_and_fit pid=523)\u001b[0m save graph in  results/FL/\n",
      "\u001b[36m(launch_and_fit pid=523)\u001b[0m fc3.bias 5.245208740234375e-06\u001b[32m [repeated 8x across cluster]\u001b[0m\n",
      "\u001b[36m(launch_and_fit pid=523)\u001b[0m \tTrain Epoch: 10 \tTrain_loss: 1.8382 | Train_acc: 32.2917 % | Validation_loss: 1.8270 | Validation_acc: 34.0278 %\n",
      "\u001b[36m(launch_and_fit pid=523)\u001b[0m qnn.weights 1.1920928955078125e-06\n"
     ]
    },
    {
     "name": "stderr",
     "output_type": "stream",
     "text": [
      "  0%|\u001b[34m          \u001b[0m| 0/10 [00:00<?, ?it/s]\n"
     ]
    },
    {
     "name": "stdout",
     "output_type": "stream",
     "text": [
      "\u001b[36m(launch_and_fit pid=582)\u001b[0m [Client 7, round 1] fit, config: {'learning_rate': 0.003, 'batch_size': '16', 'server_round': 1, 'local_epochs': 10}\n",
      "\u001b[36m(launch_and_fit pid=582)\u001b[0m Updated model\n"
     ]
    },
    {
     "name": "stderr",
     "output_type": "stream",
     "text": [
      " 10%|\u001b[34m█         \u001b[0m| 1/10 [00:02<00:24,  2.78s/it]\n"
     ]
    },
    {
     "name": "stdout",
     "output_type": "stream",
     "text": [
      "\u001b[36m(launch_and_fit pid=582)\u001b[0m \tTrain Epoch: 1 \tTrain_loss: 1.9465 | Train_acc: 14.0625 % | Validation_loss: 1.9200 | Validation_acc: 45.1389 %\n"
     ]
    },
    {
     "name": "stderr",
     "output_type": "stream",
     "text": [
      "  0%|\u001b[34m          \u001b[0m| 0/10 [00:00<?, ?it/s]\n"
     ]
    },
    {
     "name": "stdout",
     "output_type": "stream",
     "text": [
      "\u001b[36m(launch_and_fit pid=584)\u001b[0m Run with homomorphic encryption\n",
      "\u001b[36m(launch_and_fit pid=584)\u001b[0m [Client 5, round 1] fit, config: {'learning_rate': 0.003, 'batch_size': '16', 'server_round': 1, 'local_epochs': 10}\n",
      "\u001b[36m(launch_and_fit pid=584)\u001b[0m Updated model\n"
     ]
    },
    {
     "name": "stderr",
     "output_type": "stream",
     "text": [
      " 30%|\u001b[34m███       \u001b[0m| 3/10 [00:08<00:18,  2.66s/it]\u001b[32m [repeated 4x across cluster]\u001b[0m\n"
     ]
    },
    {
     "name": "stdout",
     "output_type": "stream",
     "text": [
      "\u001b[36m(launch_and_fit pid=582)\u001b[0m \tTrain Epoch: 3 \tTrain_loss: 1.9142 | Train_acc: 26.6477 % | Validation_loss: 1.8718 | Validation_acc: 45.1389 %\u001b[32m [repeated 4x across cluster]\u001b[0m\n"
     ]
    },
    {
     "name": "stderr",
     "output_type": "stream",
     "text": [
      " 50%|\u001b[34m█████     \u001b[0m| 5/10 [00:13<00:13,  2.63s/it]\u001b[32m [repeated 4x across cluster]\u001b[0m\n"
     ]
    },
    {
     "name": "stdout",
     "output_type": "stream",
     "text": [
      "\u001b[36m(launch_and_fit pid=582)\u001b[0m \tTrain Epoch: 5 \tTrain_loss: 1.8939 | Train_acc: 26.2216 % | Validation_loss: 1.8454 | Validation_acc: 45.1389 %\u001b[32m [repeated 4x across cluster]\u001b[0m\n"
     ]
    },
    {
     "name": "stderr",
     "output_type": "stream",
     "text": [
      " 80%|\u001b[34m████████  \u001b[0m| 8/10 [00:20<00:04,  2.45s/it]\u001b[32m [repeated 6x across cluster]\u001b[0m\n"
     ]
    },
    {
     "name": "stdout",
     "output_type": "stream",
     "text": [
      "\u001b[36m(launch_and_fit pid=584)\u001b[0m \tTrain Epoch: 8 \tTrain_loss: 1.8635 | Train_acc: 28.8636 % | Validation_loss: 1.9269 | Validation_acc: 20.8333 %\u001b[32m [repeated 6x across cluster]\u001b[0m\n"
     ]
    },
    {
     "name": "stderr",
     "output_type": "stream",
     "text": [
      "100%|\u001b[34m██████████\u001b[0m| 10/10 [00:25<00:00,  2.54s/it]\u001b[32m [repeated 4x across cluster]\u001b[0m\n"
     ]
    },
    {
     "name": "stdout",
     "output_type": "stream",
     "text": [
      "\u001b[36m(launch_and_fit pid=584)\u001b[0m save graph in  results/FL/\n",
      "\u001b[36m(launch_and_fit pid=584)\u001b[0m \tTrain Epoch: 10 \tTrain_loss: 1.8569 | Train_acc: 28.7216 % | Validation_loss: 1.9202 | Validation_acc: 20.8333 %\u001b[32m [repeated 4x across cluster]\u001b[0m\n",
      "\u001b[36m(launch_and_fit pid=584)\u001b[0m fc1.weight 6.198883056640625e-06\n",
      "\u001b[36m(launch_and_fit pid=584)\u001b[0m fc1.bias 1.6689300537109375e-06\n",
      "\u001b[36m(launch_and_fit pid=584)\u001b[0m fc2.weight 1.6689300537109375e-06\n",
      "\u001b[36m(launch_and_fit pid=584)\u001b[0m fc2.bias 1.1920928955078125e-06\n",
      "\u001b[36m(launch_and_fit pid=584)\u001b[0m qnn.weights 9.5367431640625e-07\n",
      "\u001b[36m(launch_and_fit pid=664)\u001b[0m Run with homomorphic encryption\n",
      "\u001b[36m(launch_and_fit pid=582)\u001b[0m save graph in  results/FL/\n",
      "\u001b[36m(launch_and_fit pid=582)\u001b[0m \tTrain Epoch: 10 \tTrain_loss: 1.8633 | Train_acc: 27.6420 % | Validation_loss: 1.8649 | Validation_acc: 34.0278 %\n",
      "\u001b[36m(launch_and_fit pid=582)\u001b[0m fc3.bias 3.814697265625e-06\u001b[32m [repeated 8x across cluster]\u001b[0m\n",
      "\u001b[36m(launch_and_fit pid=582)\u001b[0m qnn.weights 9.5367431640625e-07\n",
      "\u001b[36m(launch_and_fit pid=664)\u001b[0m [Client 2, round 1] fit, config: {'learning_rate': 0.003, 'batch_size': '16', 'server_round': 1, 'local_epochs': 10}\n",
      "\u001b[36m(launch_and_fit pid=664)\u001b[0m Updated model\n"
     ]
    },
    {
     "name": "stderr",
     "output_type": "stream",
     "text": [
      "  0%|\u001b[34m          \u001b[0m| 0/10 [00:00<?, ?it/s]\n",
      "100%|\u001b[34m██████████\u001b[0m| 10/10 [00:25<00:00,  2.59s/it]\n"
     ]
    },
    {
     "name": "stdout",
     "output_type": "stream",
     "text": [
      "\u001b[36m(launch_and_fit pid=664)\u001b[0m \tTrain Epoch: 1 \tTrain_loss: 1.9487 | Train_acc: 10.5966 % | Validation_loss: 1.9300 | Validation_acc: 25.6944 %\n"
     ]
    },
    {
     "name": "stderr",
     "output_type": "stream",
     "text": [
      " 10%|\u001b[34m█         \u001b[0m| 1/10 [00:02<00:24,  2.71s/it]\n"
     ]
    },
    {
     "name": "stdout",
     "output_type": "stream",
     "text": [
      "\u001b[36m(launch_and_fit pid=666)\u001b[0m Run with homomorphic encryption\n",
      "\u001b[36m(launch_and_fit pid=666)\u001b[0m [Client 3, round 1] fit, config: {'learning_rate': 0.003, 'batch_size': '16', 'server_round': 1, 'local_epochs': 10}\n",
      "\u001b[36m(launch_and_fit pid=666)\u001b[0m Updated model\n"
     ]
    },
    {
     "name": "stderr",
     "output_type": "stream",
     "text": [
      "  0%|\u001b[34m          \u001b[0m| 0/10 [00:00<?, ?it/s]\n"
     ]
    },
    {
     "name": "stdout",
     "output_type": "stream",
     "text": [
      "\u001b[36m(launch_and_fit pid=664)\u001b[0m \tTrain Epoch: 4 \tTrain_loss: 1.8804 | Train_acc: 26.5341 % | Validation_loss: 1.8895 | Validation_acc: 25.6944 %\u001b[32m [repeated 6x across cluster]\u001b[0m\n"
     ]
    },
    {
     "name": "stderr",
     "output_type": "stream",
     "text": [
      " 40%|\u001b[34m████      \u001b[0m| 4/10 [00:09<00:14,  2.47s/it]\u001b[32m [repeated 6x across cluster]\u001b[0m\n"
     ]
    },
    {
     "name": "stdout",
     "output_type": "stream",
     "text": [
      "\u001b[36m(launch_and_fit pid=664)\u001b[0m \tTrain Epoch: 6 \tTrain_loss: 1.8549 | Train_acc: 31.3352 % | Validation_loss: 1.8839 | Validation_acc: 25.6944 %\u001b[32m [repeated 4x across cluster]\u001b[0m\n"
     ]
    },
    {
     "name": "stderr",
     "output_type": "stream",
     "text": [
      " 60%|\u001b[34m██████    \u001b[0m| 6/10 [00:15<00:10,  2.59s/it]\u001b[32m [repeated 4x across cluster]\u001b[0m\n"
     ]
    },
    {
     "name": "stdout",
     "output_type": "stream",
     "text": [
      "\u001b[36m(launch_and_fit pid=666)\u001b[0m \tTrain Epoch: 8 \tTrain_loss: 1.8570 | Train_acc: 29.5170 % | Validation_loss: 1.8828 | Validation_acc: 29.8611 %\u001b[32m [repeated 5x across cluster]\u001b[0m\n"
     ]
    },
    {
     "name": "stderr",
     "output_type": "stream",
     "text": [
      " 80%|\u001b[34m████████  \u001b[0m| 8/10 [00:20<00:05,  2.51s/it]\u001b[32m [repeated 5x across cluster]\u001b[0m\n"
     ]
    },
    {
     "name": "stdout",
     "output_type": "stream",
     "text": [
      "\u001b[36m(launch_and_fit pid=664)\u001b[0m save graph in  results/FL/\n",
      "\u001b[36m(launch_and_fit pid=664)\u001b[0m fc1.weight 5.245208740234375e-06\n",
      "\u001b[36m(launch_and_fit pid=664)\u001b[0m fc1.bias 1.1920928955078125e-06\n",
      "\u001b[36m(launch_and_fit pid=664)\u001b[0m fc2.weight 1.1920928955078125e-06\n",
      "\u001b[36m(launch_and_fit pid=664)\u001b[0m fc2.bias 9.5367431640625e-07\n",
      "\u001b[36m(launch_and_fit pid=666)\u001b[0m \tTrain Epoch: 10 \tTrain_loss: 1.8396 | Train_acc: 29.8011 % | Validation_loss: 1.8839 | Validation_acc: 29.8611 %\u001b[32m [repeated 4x across cluster]\u001b[0m\n",
      "\u001b[36m(launch_and_fit pid=664)\u001b[0m qnn.weights 9.5367431640625e-07\n",
      "\u001b[36m(launch_and_fit pid=746)\u001b[0m Run with homomorphic encryption\n",
      "\u001b[36m(launch_and_fit pid=666)\u001b[0m save graph in  results/FL/\n",
      "\u001b[36m(launch_and_fit pid=666)\u001b[0m fc3.bias 4.5299530029296875e-06\u001b[32m [repeated 8x across cluster]\u001b[0m\n",
      "\u001b[36m(launch_and_fit pid=666)\u001b[0m qnn.weights 1.1920928955078125e-06\n",
      "\u001b[36m(launch_and_fit pid=746)\u001b[0m [Client 6, round 1] fit, config: {'learning_rate': 0.003, 'batch_size': '16', 'server_round': 1, 'local_epochs': 10}\n",
      "\u001b[36m(launch_and_fit pid=746)\u001b[0m Updated model\n"
     ]
    },
    {
     "name": "stderr",
     "output_type": "stream",
     "text": [
      "  0%|\u001b[34m          \u001b[0m| 0/10 [00:00<?, ?it/s]\n",
      "100%|\u001b[34m██████████\u001b[0m| 10/10 [00:25<00:00,  2.51s/it]\u001b[32m [repeated 4x across cluster]\u001b[0m\n"
     ]
    },
    {
     "name": "stdout",
     "output_type": "stream",
     "text": [
      "\u001b[36m(launch_and_fit pid=746)\u001b[0m \tTrain Epoch: 1 \tTrain_loss: 1.9341 | Train_acc: 22.1591 % | Validation_loss: 1.9262 | Validation_acc: 29.8611 %\n",
      "\u001b[36m(launch_and_fit pid=748)\u001b[0m Run with homomorphic encryption\n",
      "\u001b[36m(launch_and_fit pid=748)\u001b[0m [Client 8, round 1] fit, config: {'learning_rate': 0.003, 'batch_size': '16', 'server_round': 1, 'local_epochs': 10}\n",
      "\u001b[36m(launch_and_fit pid=748)\u001b[0m Updated model\n"
     ]
    },
    {
     "name": "stderr",
     "output_type": "stream",
     "text": [
      "  0%|\u001b[34m          \u001b[0m| 0/10 [00:00<?, ?it/s]\n",
      " 20%|\u001b[34m██        \u001b[0m| 2/10 [00:05<00:20,  2.55s/it]\u001b[32m [repeated 3x across cluster]\u001b[0m\n"
     ]
    },
    {
     "name": "stdout",
     "output_type": "stream",
     "text": [
      "\u001b[36m(launch_and_fit pid=748)\u001b[0m \tTrain Epoch: 3 \tTrain_loss: 1.9089 | Train_acc: 29.9432 % | Validation_loss: 1.9191 | Validation_acc: 20.8333 %\u001b[32m [repeated 5x across cluster]\u001b[0m\n"
     ]
    },
    {
     "name": "stderr",
     "output_type": "stream",
     "text": [
      " 40%|\u001b[34m████      \u001b[0m| 4/10 [00:10<00:15,  2.55s/it]\u001b[32m [repeated 5x across cluster]\u001b[0m\n"
     ]
    },
    {
     "name": "stdout",
     "output_type": "stream",
     "text": [
      "\u001b[36m(launch_and_fit pid=746)\u001b[0m \tTrain Epoch: 6 \tTrain_loss: 1.8426 | Train_acc: 36.9602 % | Validation_loss: 1.8981 | Validation_acc: 29.8611 %\u001b[32m [repeated 5x across cluster]\u001b[0m\n"
     ]
    },
    {
     "name": "stderr",
     "output_type": "stream",
     "text": [
      " 70%|\u001b[34m███████   \u001b[0m| 7/10 [00:17<00:07,  2.43s/it]\u001b[32m [repeated 5x across cluster]\u001b[0m\n"
     ]
    },
    {
     "name": "stdout",
     "output_type": "stream",
     "text": [
      "\u001b[36m(launch_and_fit pid=748)\u001b[0m \tTrain Epoch: 8 \tTrain_loss: 1.8735 | Train_acc: 29.3182 % | Validation_loss: 1.9093 | Validation_acc: 20.8333 %\u001b[32m [repeated 5x across cluster]\u001b[0m\n"
     ]
    },
    {
     "name": "stderr",
     "output_type": "stream",
     "text": [
      " 90%|\u001b[34m█████████ \u001b[0m| 9/10 [00:22<00:02,  2.45s/it]\u001b[32m [repeated 5x across cluster]\u001b[0m\n"
     ]
    },
    {
     "name": "stdout",
     "output_type": "stream",
     "text": [
      "\u001b[36m(launch_and_fit pid=746)\u001b[0m save graph in  results/FL/\n",
      "\u001b[36m(launch_and_fit pid=746)\u001b[0m fc1.weight 4.5299530029296875e-06\n",
      "\u001b[36m(launch_and_fit pid=746)\u001b[0m fc1.bias 1.430511474609375e-06\n",
      "\u001b[36m(launch_and_fit pid=746)\u001b[0m fc2.weight 1.6689300537109375e-06\n",
      "\u001b[36m(launch_and_fit pid=746)\u001b[0m fc2.bias 1.1920928955078125e-06\n",
      "\u001b[36m(launch_and_fit pid=748)\u001b[0m \tTrain Epoch: 10 \tTrain_loss: 1.8712 | Train_acc: 29.8011 % | Validation_loss: 1.9044 | Validation_acc: 20.8333 %\u001b[32m [repeated 4x across cluster]\u001b[0m\n",
      "\u001b[36m(launch_and_fit pid=746)\u001b[0m qnn.weights 1.6689300537109375e-06\n",
      "\u001b[36m(launch_and_fit pid=748)\u001b[0m save graph in  results/FL/\n"
     ]
    },
    {
     "name": "stderr",
     "output_type": "stream",
     "text": [
      "DEBUG flwr 2024-07-22 09:19:54,559 | server.py:236 | fit_round 1 received 10 results and 0 failures\n",
      "WARNING flwr 2024-07-22 09:20:16,682 | 3890383987.py:131 | No fit_metrics_aggregation_fn provided\n"
     ]
    },
    {
     "name": "stdout",
     "output_type": "stream",
     "text": [
      "Saving round 1 aggregated_parameters...\n"
     ]
    },
    {
     "name": "stderr",
     "output_type": "stream",
     "text": [
      "DEBUG flwr 2024-07-22 09:20:18,271 | server.py:173 | evaluate_round 1: strategy sampled 10 clients (out of 10)\n"
     ]
    },
    {
     "name": "stdout",
     "output_type": "stream",
     "text": [
      "\u001b[36m(launch_and_evaluate pid=837)\u001b[0m Run with homomorphic encryption\n",
      "\u001b[36m(launch_and_fit pid=748)\u001b[0m fc3.bias 4.76837158203125e-06\u001b[32m [repeated 8x across cluster]\u001b[0m\n",
      "\u001b[36m(launch_and_fit pid=748)\u001b[0m qnn.weights 1.1920928955078125e-06\n",
      "\u001b[36m(launch_and_evaluate pid=837)\u001b[0m [Client 0] evaluate, config: {}\n",
      "\u001b[36m(launch_and_evaluate pid=837)\u001b[0m Updated model\n"
     ]
    },
    {
     "name": "stderr",
     "output_type": "stream",
     "text": [
      "\u001b[36m(launch_and_evaluate pid=838)\u001b[0m /opt/conda/lib/python3.10/site-packages/sklearn/metrics/_ranking.py:1029: UndefinedMetricWarning: No positive samples in y_true, true positive value should be meaningless\n",
      "\u001b[36m(launch_and_evaluate pid=838)\u001b[0m   warnings.warn(\n",
      "100%|\u001b[34m██████████\u001b[0m| 10/10 [00:25<00:00,  2.55s/it]\u001b[32m [repeated 2x across cluster]\u001b[0m\n"
     ]
    },
    {
     "name": "stdout",
     "output_type": "stream",
     "text": [
      "\u001b[36m(launch_and_evaluate pid=916)\u001b[0m Run with homomorphic encryption\u001b[32m [repeated 2x across cluster]\u001b[0m\n",
      "\u001b[36m(launch_and_evaluate pid=838)\u001b[0m [Client 4] evaluate, config: {}\n",
      "\u001b[36m(launch_and_evaluate pid=838)\u001b[0m Updated model\n",
      "\u001b[36m(launch_and_evaluate pid=916)\u001b[0m [Client 5] evaluate, config: {}\n",
      "\u001b[36m(launch_and_evaluate pid=916)\u001b[0m Updated model\n",
      "\u001b[36m(launch_and_evaluate pid=995)\u001b[0m Run with homomorphic encryption\u001b[32m [repeated 2x across cluster]\u001b[0m\n",
      "\u001b[36m(launch_and_evaluate pid=918)\u001b[0m [Client 2] evaluate, config: {}\n",
      "\u001b[36m(launch_and_evaluate pid=918)\u001b[0m Updated model\n",
      "\u001b[36m(launch_and_evaluate pid=995)\u001b[0m [Client 9] evaluate, config: {}\n",
      "\u001b[36m(launch_and_evaluate pid=995)\u001b[0m Updated model\n"
     ]
    },
    {
     "name": "stderr",
     "output_type": "stream",
     "text": [
      "\u001b[36m(launch_and_evaluate pid=995)\u001b[0m /opt/conda/lib/python3.10/site-packages/sklearn/metrics/_ranking.py:1029: UndefinedMetricWarning: No positive samples in y_true, true positive value should be meaningless\n",
      "\u001b[36m(launch_and_evaluate pid=995)\u001b[0m   warnings.warn(\n"
     ]
    },
    {
     "name": "stdout",
     "output_type": "stream",
     "text": [
      "\u001b[36m(launch_and_evaluate pid=1075)\u001b[0m Run with homomorphic encryption\u001b[32m [repeated 2x across cluster]\u001b[0m\n",
      "\u001b[36m(launch_and_evaluate pid=997)\u001b[0m [Client 3] evaluate, config: {}\n",
      "\u001b[36m(launch_and_evaluate pid=997)\u001b[0m Updated model\n",
      "\u001b[36m(launch_and_evaluate pid=1073)\u001b[0m [Client 8] evaluate, config: {}\n",
      "\u001b[36m(launch_and_evaluate pid=1073)\u001b[0m Updated model\n"
     ]
    },
    {
     "name": "stderr",
     "output_type": "stream",
     "text": [
      "\u001b[36m(launch_and_evaluate pid=1073)\u001b[0m /opt/conda/lib/python3.10/site-packages/sklearn/metrics/_ranking.py:1029: UndefinedMetricWarning: No positive samples in y_true, true positive value should be meaningless\n",
      "\u001b[36m(launch_and_evaluate pid=1073)\u001b[0m   warnings.warn(\n"
     ]
    },
    {
     "name": "stdout",
     "output_type": "stream",
     "text": [
      "\u001b[36m(launch_and_evaluate pid=1151)\u001b[0m Run with homomorphic encryption\u001b[32m [repeated 2x across cluster]\u001b[0m\n",
      "\u001b[36m(launch_and_evaluate pid=1075)\u001b[0m [Client 6] evaluate, config: {}\n",
      "\u001b[36m(launch_and_evaluate pid=1075)\u001b[0m Updated model\n",
      "\u001b[36m(launch_and_evaluate pid=1151)\u001b[0m [Client 1] evaluate, config: {}\n",
      "\u001b[36m(launch_and_evaluate pid=1151)\u001b[0m Updated model\n"
     ]
    },
    {
     "name": "stderr",
     "output_type": "stream",
     "text": [
      "DEBUG flwr 2024-07-22 09:21:23,174 | server.py:187 | evaluate_round 1 received 10 results and 0 failures\n",
      "DEBUG flwr 2024-07-22 09:21:23,175 | server.py:222 | fit_round 2: strategy sampled 10 clients (out of 10)\n"
     ]
    },
    {
     "name": "stdout",
     "output_type": "stream",
     "text": [
      "\u001b[36m(launch_and_fit pid=1238)\u001b[0m Run with homomorphic encryption\u001b[32m [repeated 2x across cluster]\u001b[0m\n",
      "\u001b[36m(launch_and_evaluate pid=1153)\u001b[0m [Client 7] evaluate, config: {}\n",
      "\u001b[36m(launch_and_evaluate pid=1153)\u001b[0m Updated model\n",
      "\u001b[36m(launch_and_fit pid=1238)\u001b[0m [Client 4, round 2] fit, config: {'learning_rate': 0.003, 'batch_size': '16', 'server_round': 2, 'local_epochs': 10}\n",
      "\u001b[36m(launch_and_fit pid=1238)\u001b[0m Updated model\n"
     ]
    },
    {
     "name": "stderr",
     "output_type": "stream",
     "text": [
      "  0%|\u001b[34m          \u001b[0m| 0/10 [00:00<?, ?it/s]\n"
     ]
    },
    {
     "name": "stdout",
     "output_type": "stream",
     "text": [
      "\u001b[36m(launch_and_fit pid=1238)\u001b[0m \tTrain Epoch: 1 \tTrain_loss: 1.8630 | Train_acc: 30.0852 % | Validation_loss: 1.8007 | Validation_acc: 42.3611 %\n"
     ]
    },
    {
     "name": "stderr",
     "output_type": "stream",
     "text": [
      " 10%|\u001b[34m█         \u001b[0m| 1/10 [00:02<00:23,  2.65s/it]\n"
     ]
    },
    {
     "name": "stdout",
     "output_type": "stream",
     "text": [
      "\u001b[36m(launch_and_fit pid=1239)\u001b[0m Run with homomorphic encryption\n",
      "\u001b[36m(launch_and_fit pid=1239)\u001b[0m [Client 5, round 2] fit, config: {'learning_rate': 0.003, 'batch_size': '16', 'server_round': 2, 'local_epochs': 10}\n",
      "\u001b[36m(launch_and_fit pid=1239)\u001b[0m Updated model\n"
     ]
    },
    {
     "name": "stderr",
     "output_type": "stream",
     "text": [
      "  0%|\u001b[34m          \u001b[0m| 0/10 [00:00<?, ?it/s]\n"
     ]
    },
    {
     "name": "stdout",
     "output_type": "stream",
     "text": [
      "\u001b[36m(launch_and_fit pid=1239)\u001b[0m \tTrain Epoch: 3 \tTrain_loss: 1.8526 | Train_acc: 29.0057 % | Validation_loss: 1.8883 | Validation_acc: 20.8333 %\u001b[32m [repeated 5x across cluster]\u001b[0m\n"
     ]
    },
    {
     "name": "stderr",
     "output_type": "stream",
     "text": [
      " 30%|\u001b[34m███       \u001b[0m| 3/10 [00:07<00:17,  2.53s/it]\u001b[32m [repeated 5x across cluster]\u001b[0m\n"
     ]
    },
    {
     "name": "stdout",
     "output_type": "stream",
     "text": [
      "\u001b[36m(launch_and_fit pid=1238)\u001b[0m \tTrain Epoch: 6 \tTrain_loss: 1.8335 | Train_acc: 29.9432 % | Validation_loss: 1.7805 | Validation_acc: 42.3611 %\u001b[32m [repeated 5x across cluster]\u001b[0m\n"
     ]
    },
    {
     "name": "stderr",
     "output_type": "stream",
     "text": [
      " 60%|\u001b[34m██████    \u001b[0m| 6/10 [00:15<00:10,  2.53s/it]\u001b[32m [repeated 5x across cluster]\u001b[0m\n"
     ]
    },
    {
     "name": "stdout",
     "output_type": "stream",
     "text": [
      "\u001b[36m(launch_and_fit pid=1238)\u001b[0m \tTrain Epoch: 8 \tTrain_loss: 1.8381 | Train_acc: 29.6591 % | Validation_loss: 1.7801 | Validation_acc: 42.3611 %\u001b[32m [repeated 4x across cluster]\u001b[0m\n"
     ]
    },
    {
     "name": "stderr",
     "output_type": "stream",
     "text": [
      " 80%|\u001b[34m████████  \u001b[0m| 8/10 [00:20<00:05,  2.57s/it]\u001b[32m [repeated 4x across cluster]\u001b[0m\n"
     ]
    },
    {
     "name": "stdout",
     "output_type": "stream",
     "text": [
      "\u001b[36m(launch_and_fit pid=1239)\u001b[0m save graph in  results/FL/\n",
      "\u001b[36m(launch_and_fit pid=1239)\u001b[0m \tTrain Epoch: 10 \tTrain_loss: 1.8323 | Train_acc: 30.0852 % | Validation_loss: 1.8555 | Validation_acc: 31.9444 %\u001b[32m [repeated 4x across cluster]\u001b[0m\n"
     ]
    },
    {
     "name": "stderr",
     "output_type": "stream",
     "text": [
      "100%|\u001b[34m██████████\u001b[0m| 10/10 [00:25<00:00,  2.53s/it]\u001b[32m [repeated 4x across cluster]\u001b[0m\n"
     ]
    },
    {
     "name": "stdout",
     "output_type": "stream",
     "text": [
      "\u001b[36m(launch_and_fit pid=1239)\u001b[0m fc1.weight 4.76837158203125e-06\n",
      "\u001b[36m(launch_and_fit pid=1239)\u001b[0m fc1.bias 1.6689300537109375e-06\n",
      "\u001b[36m(launch_and_fit pid=1239)\u001b[0m fc2.weight 1.1920928955078125e-06\n",
      "\u001b[36m(launch_and_fit pid=1239)\u001b[0m fc2.bias 1.1920928955078125e-06\n",
      "\u001b[36m(launch_and_fit pid=1239)\u001b[0m qnn.weights 1.6689300537109375e-06\n",
      "\u001b[36m(launch_and_fit pid=1320)\u001b[0m Run with homomorphic encryption\n",
      "\u001b[36m(launch_and_fit pid=1238)\u001b[0m save graph in  results/FL/\n",
      "\u001b[36m(launch_and_fit pid=1238)\u001b[0m \tTrain Epoch: 10 \tTrain_loss: 1.8235 | Train_acc: 29.8011 % | Validation_loss: 1.7534 | Validation_acc: 42.3611 %\n",
      "\u001b[36m(launch_and_fit pid=1238)\u001b[0m fc3.bias 3.814697265625e-06\u001b[32m [repeated 8x across cluster]\u001b[0m\n",
      "\u001b[36m(launch_and_fit pid=1238)\u001b[0m qnn.weights 9.5367431640625e-07\n",
      "\u001b[36m(launch_and_fit pid=1320)\u001b[0m [Client 6, round 2] fit, config: {'learning_rate': 0.003, 'batch_size': '16', 'server_round': 2, 'local_epochs': 10}\n"
     ]
    },
    {
     "name": "stderr",
     "output_type": "stream",
     "text": [
      "  0%|\u001b[34m          \u001b[0m| 0/10 [00:00<?, ?it/s]\n",
      "100%|\u001b[34m██████████\u001b[0m| 10/10 [00:25<00:00,  2.58s/it]\n"
     ]
    },
    {
     "name": "stdout",
     "output_type": "stream",
     "text": [
      "\u001b[36m(launch_and_fit pid=1320)\u001b[0m Updated model\n"
     ]
    },
    {
     "name": "stderr",
     "output_type": "stream",
     "text": [
      " 10%|\u001b[34m█         \u001b[0m| 1/10 [00:02<00:24,  2.73s/it]\n"
     ]
    },
    {
     "name": "stdout",
     "output_type": "stream",
     "text": [
      "\u001b[36m(launch_and_fit pid=1320)\u001b[0m \tTrain Epoch: 1 \tTrain_loss: 1.8420 | Train_acc: 36.2500 % | Validation_loss: 1.8699 | Validation_acc: 29.8611 %\n"
     ]
    },
    {
     "name": "stderr",
     "output_type": "stream",
     "text": [
      "  0%|\u001b[34m          \u001b[0m| 0/10 [00:00<?, ?it/s]\n"
     ]
    },
    {
     "name": "stdout",
     "output_type": "stream",
     "text": [
      "\u001b[36m(launch_and_fit pid=1322)\u001b[0m Run with homomorphic encryption\n",
      "\u001b[36m(launch_and_fit pid=1322)\u001b[0m [Client 0, round 2] fit, config: {'learning_rate': 0.003, 'batch_size': '16', 'server_round': 2, 'local_epochs': 10}\n",
      "\u001b[36m(launch_and_fit pid=1322)\u001b[0m Updated model\n"
     ]
    },
    {
     "name": "stderr",
     "output_type": "stream",
     "text": [
      " 30%|\u001b[34m███       \u001b[0m| 3/10 [00:07<00:18,  2.64s/it]\u001b[32m [repeated 4x across cluster]\u001b[0m\n"
     ]
    },
    {
     "name": "stdout",
     "output_type": "stream",
     "text": [
      "\u001b[36m(launch_and_fit pid=1320)\u001b[0m \tTrain Epoch: 3 \tTrain_loss: 1.8185 | Train_acc: 37.6989 % | Validation_loss: 1.8944 | Validation_acc: 29.8611 %\u001b[32m [repeated 4x across cluster]\u001b[0m\n"
     ]
    },
    {
     "name": "stderr",
     "output_type": "stream",
     "text": [
      " 50%|\u001b[34m█████     \u001b[0m| 5/10 [00:13<00:13,  2.62s/it]\u001b[32m [repeated 5x across cluster]\u001b[0m\n"
     ]
    },
    {
     "name": "stdout",
     "output_type": "stream",
     "text": [
      "\u001b[36m(launch_and_fit pid=1322)\u001b[0m \tTrain Epoch: 5 \tTrain_loss: 1.8370 | Train_acc: 31.1932 % | Validation_loss: 1.9210 | Validation_acc: 22.9167 %\u001b[32m [repeated 5x across cluster]\u001b[0m\n"
     ]
    },
    {
     "name": "stderr",
     "output_type": "stream",
     "text": [
      " 70%|\u001b[34m███████   \u001b[0m| 7/10 [00:18<00:07,  2.65s/it]\u001b[32m [repeated 4x across cluster]\u001b[0m\n"
     ]
    },
    {
     "name": "stdout",
     "output_type": "stream",
     "text": [
      "\u001b[36m(launch_and_fit pid=1322)\u001b[0m \tTrain Epoch: 7 \tTrain_loss: 1.8358 | Train_acc: 30.7670 % | Validation_loss: 1.9084 | Validation_acc: 22.9167 %\u001b[32m [repeated 4x across cluster]\u001b[0m\n"
     ]
    },
    {
     "name": "stderr",
     "output_type": "stream",
     "text": [
      "100%|\u001b[34m██████████\u001b[0m| 10/10 [00:25<00:00,  2.55s/it]\u001b[32m [repeated 5x across cluster]\u001b[0m\n"
     ]
    },
    {
     "name": "stdout",
     "output_type": "stream",
     "text": [
      "\u001b[36m(launch_and_fit pid=1320)\u001b[0m save graph in  results/FL/\n",
      "\u001b[36m(launch_and_fit pid=1320)\u001b[0m \tTrain Epoch: 10 \tTrain_loss: 1.7708 | Train_acc: 38.0682 % | Validation_loss: 1.9333 | Validation_acc: 20.8333 %\u001b[32m [repeated 5x across cluster]\u001b[0m\n",
      "\u001b[36m(launch_and_fit pid=1320)\u001b[0m fc1.weight 4.5299530029296875e-06\n",
      "\u001b[36m(launch_and_fit pid=1320)\u001b[0m fc1.bias 1.430511474609375e-06\n",
      "\u001b[36m(launch_and_fit pid=1320)\u001b[0m fc2.weight 9.5367431640625e-07\n",
      "\u001b[36m(launch_and_fit pid=1320)\u001b[0m fc2.bias 1.430511474609375e-06\n",
      "\u001b[36m(launch_and_fit pid=1320)\u001b[0m qnn.weights 1.33514404296875e-05\n",
      "\u001b[36m(launch_and_fit pid=1402)\u001b[0m Run with homomorphic encryption\n",
      "\u001b[36m(launch_and_fit pid=1322)\u001b[0m save graph in  results/FL/\n",
      "\u001b[36m(launch_and_fit pid=1322)\u001b[0m \tTrain Epoch: 10 \tTrain_loss: 1.8172 | Train_acc: 31.1932 % | Validation_loss: 1.9052 | Validation_acc: 22.9167 %\n",
      "\u001b[36m(launch_and_fit pid=1322)\u001b[0m fc3.bias 4.0531158447265625e-06\u001b[32m [repeated 8x across cluster]\u001b[0m\n",
      "\u001b[36m(launch_and_fit pid=1322)\u001b[0m qnn.weights 9.5367431640625e-07\n",
      "\u001b[36m(launch_and_fit pid=1402)\u001b[0m [Client 1, round 2] fit, config: {'learning_rate': 0.003, 'batch_size': '16', 'server_round': 2, 'local_epochs': 10}\n",
      "\u001b[36m(launch_and_fit pid=1402)\u001b[0m Updated model\n"
     ]
    },
    {
     "name": "stderr",
     "output_type": "stream",
     "text": [
      "  0%|\u001b[34m          \u001b[0m| 0/10 [00:00<?, ?it/s]\n",
      "100%|\u001b[34m██████████\u001b[0m| 10/10 [00:25<00:00,  2.60s/it]\n"
     ]
    },
    {
     "name": "stdout",
     "output_type": "stream",
     "text": [
      "\u001b[36m(launch_and_fit pid=1402)\u001b[0m \tTrain Epoch: 1 \tTrain_loss: 1.8802 | Train_acc: 27.4716 % | Validation_loss: 1.8620 | Validation_acc: 31.9444 %\n"
     ]
    },
    {
     "name": "stderr",
     "output_type": "stream",
     "text": [
      " 10%|\u001b[34m█         \u001b[0m| 1/10 [00:02<00:25,  2.80s/it]\n"
     ]
    },
    {
     "name": "stdout",
     "output_type": "stream",
     "text": [
      "\u001b[36m(launch_and_fit pid=1427)\u001b[0m Run with homomorphic encryption\n",
      "\u001b[36m(launch_and_fit pid=1427)\u001b[0m [Client 3, round 2] fit, config: {'learning_rate': 0.003, 'batch_size': '16', 'server_round': 2, 'local_epochs': 10}\n",
      "\u001b[36m(launch_and_fit pid=1427)\u001b[0m Updated model\n"
     ]
    },
    {
     "name": "stderr",
     "output_type": "stream",
     "text": [
      "  0%|\u001b[34m          \u001b[0m| 0/10 [00:00<?, ?it/s]\n",
      " 30%|\u001b[34m███       \u001b[0m| 3/10 [00:07<00:17,  2.54s/it]\u001b[32m [repeated 4x across cluster]\u001b[0m\n"
     ]
    },
    {
     "name": "stdout",
     "output_type": "stream",
     "text": [
      "\u001b[36m(launch_and_fit pid=1427)\u001b[0m \tTrain Epoch: 3 \tTrain_loss: 1.8569 | Train_acc: 29.8011 % | Validation_loss: 1.8624 | Validation_acc: 29.8611 %\u001b[32m [repeated 4x across cluster]\u001b[0m\n",
      "\u001b[36m(launch_and_fit pid=1402)\u001b[0m \tTrain Epoch: 5 \tTrain_loss: 1.8577 | Train_acc: 27.6136 % | Validation_loss: 1.8403 | Validation_acc: 31.9444 %\u001b[32m [repeated 5x across cluster]\u001b[0m\n"
     ]
    },
    {
     "name": "stderr",
     "output_type": "stream",
     "text": [
      " 50%|\u001b[34m█████     \u001b[0m| 5/10 [00:13<00:12,  2.57s/it]\u001b[32m [repeated 5x across cluster]\u001b[0m\n"
     ]
    },
    {
     "name": "stdout",
     "output_type": "stream",
     "text": [
      "\u001b[36m(launch_and_fit pid=1402)\u001b[0m \tTrain Epoch: 7 \tTrain_loss: 1.8511 | Train_acc: 27.4716 % | Validation_loss: 1.8610 | Validation_acc: 31.9444 %\u001b[32m [repeated 4x across cluster]\u001b[0m\n"
     ]
    },
    {
     "name": "stderr",
     "output_type": "stream",
     "text": [
      " 70%|\u001b[34m███████   \u001b[0m| 7/10 [00:18<00:07,  2.60s/it]\u001b[32m [repeated 4x across cluster]\u001b[0m\n"
     ]
    },
    {
     "name": "stdout",
     "output_type": "stream",
     "text": [
      "\u001b[36m(launch_and_fit pid=1402)\u001b[0m \tTrain Epoch: 9 \tTrain_loss: 1.8369 | Train_acc: 27.4716 % | Validation_loss: 1.8523 | Validation_acc: 31.9444 %\u001b[32m [repeated 4x across cluster]\u001b[0m\n"
     ]
    },
    {
     "name": "stderr",
     "output_type": "stream",
     "text": [
      " 90%|\u001b[34m█████████ \u001b[0m| 9/10 [00:23<00:02,  2.58s/it]\u001b[32m [repeated 4x across cluster]\u001b[0m\n"
     ]
    },
    {
     "name": "stdout",
     "output_type": "stream",
     "text": [
      "\u001b[36m(launch_and_fit pid=1427)\u001b[0m save graph in  results/FL/\n",
      "\u001b[36m(launch_and_fit pid=1427)\u001b[0m fc1.weight 5.245208740234375e-06\n",
      "\u001b[36m(launch_and_fit pid=1427)\u001b[0m fc1.bias 1.6689300537109375e-06\n",
      "\u001b[36m(launch_and_fit pid=1427)\u001b[0m fc2.weight 1.6689300537109375e-06\n",
      "\u001b[36m(launch_and_fit pid=1427)\u001b[0m fc2.bias 1.1920928955078125e-06\n",
      "\u001b[36m(launch_and_fit pid=1427)\u001b[0m qnn.weights 1.430511474609375e-06\n",
      "\u001b[36m(launch_and_fit pid=1402)\u001b[0m \tTrain Epoch: 10 \tTrain_loss: 1.8355 | Train_acc: 27.7557 % | Validation_loss: 1.8558 | Validation_acc: 31.9444 %\u001b[32m [repeated 2x across cluster]\u001b[0m\n",
      "\u001b[36m(launch_and_fit pid=1484)\u001b[0m Run with homomorphic encryption\n",
      "\u001b[36m(launch_and_fit pid=1402)\u001b[0m save graph in  results/FL/\n",
      "\u001b[36m(launch_and_fit pid=1402)\u001b[0m fc3.bias 1.7642974853515625e-05\u001b[32m [repeated 8x across cluster]\u001b[0m\n",
      "\u001b[36m(launch_and_fit pid=1402)\u001b[0m qnn.weights 1.9073486328125e-06\n",
      "\u001b[36m(launch_and_fit pid=1486)\u001b[0m [Client 9, round 2] fit, config: {'learning_rate': 0.003, 'batch_size': '16', 'server_round': 2, 'local_epochs': 10}\n",
      "\u001b[36m(launch_and_fit pid=1486)\u001b[0m Updated model\n"
     ]
    },
    {
     "name": "stderr",
     "output_type": "stream",
     "text": [
      "  0%|\u001b[34m          \u001b[0m| 0/10 [00:00<?, ?it/s]\n",
      "100%|\u001b[34m██████████\u001b[0m| 10/10 [00:26<00:00,  2.65s/it]\u001b[32m [repeated 2x across cluster]\u001b[0m\n"
     ]
    },
    {
     "name": "stdout",
     "output_type": "stream",
     "text": [
      "\u001b[36m(launch_and_fit pid=1486)\u001b[0m \tTrain Epoch: 1 \tTrain_loss: 1.8579 | Train_acc: 32.2292 % | Validation_loss: 1.8223 | Validation_acc: 34.0278 %\n",
      "\u001b[36m(launch_and_fit pid=1486)\u001b[0m Run with homomorphic encryption\n",
      "\u001b[36m(launch_and_fit pid=1484)\u001b[0m [Client 2, round 2] fit, config: {'learning_rate': 0.003, 'batch_size': '16', 'server_round': 2, 'local_epochs': 10}\n",
      "\u001b[36m(launch_and_fit pid=1484)\u001b[0m Updated model\n"
     ]
    },
    {
     "name": "stderr",
     "output_type": "stream",
     "text": [
      "  0%|\u001b[34m          \u001b[0m| 0/10 [00:00<?, ?it/s]\n",
      " 20%|\u001b[34m██        \u001b[0m| 2/10 [00:05<00:21,  2.63s/it]\u001b[32m [repeated 3x across cluster]\u001b[0m\n"
     ]
    },
    {
     "name": "stdout",
     "output_type": "stream",
     "text": [
      "\u001b[36m(launch_and_fit pid=1484)\u001b[0m \tTrain Epoch: 3 \tTrain_loss: 1.8372 | Train_acc: 30.9091 % | Validation_loss: 1.8512 | Validation_acc: 25.6944 %\u001b[32m [repeated 5x across cluster]\u001b[0m\n"
     ]
    },
    {
     "name": "stderr",
     "output_type": "stream",
     "text": [
      " 40%|\u001b[34m████      \u001b[0m| 4/10 [00:10<00:15,  2.66s/it]\u001b[32m [repeated 4x across cluster]\u001b[0m\n"
     ]
    },
    {
     "name": "stdout",
     "output_type": "stream",
     "text": [
      "\u001b[36m(launch_and_fit pid=1486)\u001b[0m \tTrain Epoch: 5 \tTrain_loss: 1.8288 | Train_acc: 32.2917 % | Validation_loss: 1.7945 | Validation_acc: 34.0278 %\u001b[32m [repeated 3x across cluster]\u001b[0m\n"
     ]
    },
    {
     "name": "stderr",
     "output_type": "stream",
     "text": [
      " 60%|\u001b[34m██████    \u001b[0m| 6/10 [00:15<00:10,  2.61s/it]\u001b[32m [repeated 4x across cluster]\u001b[0m\n"
     ]
    },
    {
     "name": "stdout",
     "output_type": "stream",
     "text": [
      "\u001b[36m(launch_and_fit pid=1484)\u001b[0m \tTrain Epoch: 7 \tTrain_loss: 1.8157 | Train_acc: 32.6136 % | Validation_loss: 1.8450 | Validation_acc: 30.5556 %\u001b[32m [repeated 5x across cluster]\u001b[0m\n"
     ]
    },
    {
     "name": "stderr",
     "output_type": "stream",
     "text": [
      " 80%|\u001b[34m████████  \u001b[0m| 8/10 [00:20<00:05,  2.57s/it]\u001b[32m [repeated 4x across cluster]\u001b[0m\n"
     ]
    },
    {
     "name": "stdout",
     "output_type": "stream",
     "text": [
      "\u001b[36m(launch_and_fit pid=1484)\u001b[0m \tTrain Epoch: 9 \tTrain_loss: 1.8044 | Train_acc: 34.1477 % | Validation_loss: 1.8410 | Validation_acc: 21.5278 %\u001b[32m [repeated 4x across cluster]\u001b[0m\n",
      "\u001b[36m(launch_and_fit pid=1486)\u001b[0m save graph in  results/FL/\n"
     ]
    },
    {
     "name": "stderr",
     "output_type": "stream",
     "text": [
      "100%|\u001b[34m██████████\u001b[0m| 10/10 [00:25<00:00,  2.58s/it]\u001b[32m [repeated 4x across cluster]\u001b[0m\n"
     ]
    },
    {
     "name": "stdout",
     "output_type": "stream",
     "text": [
      "\u001b[36m(launch_and_fit pid=1486)\u001b[0m fc1.weight 5.245208740234375e-06\n",
      "\u001b[36m(launch_and_fit pid=1486)\u001b[0m fc1.bias 1.430511474609375e-06\n",
      "\u001b[36m(launch_and_fit pid=1486)\u001b[0m fc2.weight 1.1920928955078125e-06\n",
      "\u001b[36m(launch_and_fit pid=1486)\u001b[0m fc2.bias 1.1920928955078125e-06\n",
      "\u001b[36m(launch_and_fit pid=1486)\u001b[0m qnn.weights 1.6689300537109375e-06\n",
      "\u001b[36m(launch_and_fit pid=1484)\u001b[0m \tTrain Epoch: 10 \tTrain_loss: 1.7940 | Train_acc: 34.8011 % | Validation_loss: 1.8629 | Validation_acc: 21.5278 %\u001b[32m [repeated 2x across cluster]\u001b[0m\n",
      "\u001b[36m(launch_and_fit pid=1566)\u001b[0m Run with homomorphic encryption\n",
      "\u001b[36m(launch_and_fit pid=1484)\u001b[0m save graph in  results/FL/\n",
      "\u001b[36m(launch_and_fit pid=1484)\u001b[0m fc3.bias 4.76837158203125e-06\u001b[32m [repeated 8x across cluster]\u001b[0m\n",
      "\u001b[36m(launch_and_fit pid=1484)\u001b[0m qnn.weights 1.1920928955078125e-06\n",
      "\u001b[36m(launch_and_fit pid=1566)\u001b[0m [Client 7, round 2] fit, config: {'learning_rate': 0.003, 'batch_size': '16', 'server_round': 2, 'local_epochs': 10}\n"
     ]
    },
    {
     "name": "stderr",
     "output_type": "stream",
     "text": [
      "  0%|\u001b[34m          \u001b[0m| 0/10 [00:00<?, ?it/s]\n",
      "100%|\u001b[34m██████████\u001b[0m| 10/10 [00:26<00:00,  2.60s/it]\n"
     ]
    },
    {
     "name": "stdout",
     "output_type": "stream",
     "text": [
      "\u001b[36m(launch_and_fit pid=1566)\u001b[0m Updated model\n"
     ]
    },
    {
     "name": "stderr",
     "output_type": "stream",
     "text": [
      " 10%|\u001b[34m█         \u001b[0m| 1/10 [00:02<00:25,  2.84s/it]\n"
     ]
    },
    {
     "name": "stdout",
     "output_type": "stream",
     "text": [
      "\u001b[36m(launch_and_fit pid=1566)\u001b[0m \tTrain Epoch: 1 \tTrain_loss: 1.8883 | Train_acc: 26.0795 % | Validation_loss: 1.7661 | Validation_acc: 45.1389 %\n"
     ]
    },
    {
     "name": "stderr",
     "output_type": "stream",
     "text": [
      "  0%|\u001b[34m          \u001b[0m| 0/10 [00:00<?, ?it/s]\n"
     ]
    },
    {
     "name": "stdout",
     "output_type": "stream",
     "text": [
      "\u001b[36m(launch_and_fit pid=1568)\u001b[0m Run with homomorphic encryption\n",
      "\u001b[36m(launch_and_fit pid=1568)\u001b[0m [Client 8, round 2] fit, config: {'learning_rate': 0.003, 'batch_size': '16', 'server_round': 2, 'local_epochs': 10}\n",
      "\u001b[36m(launch_and_fit pid=1568)\u001b[0m Updated model\n"
     ]
    },
    {
     "name": "stderr",
     "output_type": "stream",
     "text": [
      " 30%|\u001b[34m███       \u001b[0m| 3/10 [00:07<00:18,  2.59s/it]\u001b[32m [repeated 4x across cluster]\u001b[0m\n"
     ]
    },
    {
     "name": "stdout",
     "output_type": "stream",
     "text": [
      "\u001b[36m(launch_and_fit pid=1566)\u001b[0m \tTrain Epoch: 3 \tTrain_loss: 1.8731 | Train_acc: 27.1591 % | Validation_loss: 1.7664 | Validation_acc: 45.1389 %\u001b[32m [repeated 4x across cluster]\u001b[0m\n"
     ]
    },
    {
     "name": "stderr",
     "output_type": "stream",
     "text": [
      " 50%|\u001b[34m█████     \u001b[0m| 5/10 [00:13<00:13,  2.60s/it]\u001b[32m [repeated 4x across cluster]\u001b[0m\n"
     ]
    },
    {
     "name": "stdout",
     "output_type": "stream",
     "text": [
      "\u001b[36m(launch_and_fit pid=1566)\u001b[0m \tTrain Epoch: 5 \tTrain_loss: 1.8539 | Train_acc: 28.8636 % | Validation_loss: 1.7796 | Validation_acc: 49.3056 %\u001b[32m [repeated 4x across cluster]\u001b[0m\n"
     ]
    },
    {
     "name": "stderr",
     "output_type": "stream",
     "text": [
      " 70%|\u001b[34m███████   \u001b[0m| 7/10 [00:18<00:07,  2.57s/it]\u001b[32m [repeated 4x across cluster]\u001b[0m\n"
     ]
    },
    {
     "name": "stdout",
     "output_type": "stream",
     "text": [
      "\u001b[36m(launch_and_fit pid=1566)\u001b[0m \tTrain Epoch: 7 \tTrain_loss: 1.8395 | Train_acc: 27.7557 % | Validation_loss: 1.7825 | Validation_acc: 47.2222 %\u001b[32m [repeated 4x across cluster]\u001b[0m\n"
     ]
    },
    {
     "name": "stderr",
     "output_type": "stream",
     "text": [
      " 90%|\u001b[34m█████████ \u001b[0m| 9/10 [00:23<00:02,  2.57s/it]\u001b[32m [repeated 4x across cluster]\u001b[0m\n"
     ]
    },
    {
     "name": "stdout",
     "output_type": "stream",
     "text": [
      "\u001b[36m(launch_and_fit pid=1566)\u001b[0m \tTrain Epoch: 9 \tTrain_loss: 1.8275 | Train_acc: 28.2102 % | Validation_loss: 1.8078 | Validation_acc: 45.1389 %\u001b[32m [repeated 4x across cluster]\u001b[0m\n",
      "\u001b[36m(launch_and_fit pid=1566)\u001b[0m save graph in  results/FL/\n",
      "\u001b[36m(launch_and_fit pid=1566)\u001b[0m fc1.weight 6.198883056640625e-06\n",
      "\u001b[36m(launch_and_fit pid=1566)\u001b[0m fc1.bias 1.6689300537109375e-06\n",
      "\u001b[36m(launch_and_fit pid=1566)\u001b[0m fc2.weight 1.1920928955078125e-06\n",
      "\u001b[36m(launch_and_fit pid=1566)\u001b[0m fc2.bias 9.5367431640625e-07\n",
      "\u001b[36m(launch_and_fit pid=1566)\u001b[0m qnn.weights 1.9073486328125e-06\n",
      "\u001b[36m(launch_and_fit pid=1568)\u001b[0m \tTrain Epoch: 10 \tTrain_loss: 1.8184 | Train_acc: 30.5682 % | Validation_loss: 1.8589 | Validation_acc: 20.8333 %\u001b[32m [repeated 3x across cluster]\u001b[0m\n"
     ]
    },
    {
     "name": "stderr",
     "output_type": "stream",
     "text": [
      "DEBUG flwr 2024-07-22 09:25:17,804 | server.py:236 | fit_round 2 received 10 results and 0 failures\n"
     ]
    },
    {
     "name": "stdout",
     "output_type": "stream",
     "text": [
      "Saving round 2 aggregated_parameters...\n"
     ]
    },
    {
     "name": "stderr",
     "output_type": "stream",
     "text": [
      "DEBUG flwr 2024-07-22 09:25:37,589 | server.py:173 | evaluate_round 2: strategy sampled 10 clients (out of 10)\n"
     ]
    },
    {
     "name": "stdout",
     "output_type": "stream",
     "text": [
      "\u001b[36m(launch_and_evaluate pid=1657)\u001b[0m Run with homomorphic encryption\n",
      "\u001b[36m(launch_and_fit pid=1568)\u001b[0m save graph in  results/FL/\n",
      "\u001b[36m(launch_and_fit pid=1568)\u001b[0m fc3.bias 3.814697265625e-06\u001b[32m [repeated 8x across cluster]\u001b[0m\n",
      "\u001b[36m(launch_and_fit pid=1568)\u001b[0m qnn.weights 9.5367431640625e-07\n",
      "\u001b[36m(launch_and_evaluate pid=1657)\u001b[0m [Client 7] evaluate, config: {}\n",
      "\u001b[36m(launch_and_evaluate pid=1657)\u001b[0m Updated model\n"
     ]
    },
    {
     "name": "stderr",
     "output_type": "stream",
     "text": [
      "\u001b[36m(launch_and_evaluate pid=1658)\u001b[0m /opt/conda/lib/python3.10/site-packages/sklearn/metrics/_ranking.py:1029: UndefinedMetricWarning: No positive samples in y_true, true positive value should be meaningless\n",
      "\u001b[36m(launch_and_evaluate pid=1658)\u001b[0m   warnings.warn(\n",
      "100%|\u001b[34m██████████\u001b[0m| 10/10 [00:25<00:00,  2.58s/it]\u001b[32m [repeated 3x across cluster]\u001b[0m\n"
     ]
    },
    {
     "name": "stdout",
     "output_type": "stream",
     "text": [
      "\u001b[36m(launch_and_evaluate pid=1736)\u001b[0m Run with homomorphic encryption\u001b[32m [repeated 2x across cluster]\u001b[0m\n",
      "\u001b[36m(launch_and_evaluate pid=1658)\u001b[0m [Client 8] evaluate, config: {}\n",
      "\u001b[36m(launch_and_evaluate pid=1658)\u001b[0m Updated model\n",
      "\u001b[36m(launch_and_evaluate pid=1736)\u001b[0m [Client 9] evaluate, config: {}\n",
      "\u001b[36m(launch_and_evaluate pid=1736)\u001b[0m Updated model\n"
     ]
    },
    {
     "name": "stderr",
     "output_type": "stream",
     "text": [
      "\u001b[36m(launch_and_evaluate pid=1736)\u001b[0m /opt/conda/lib/python3.10/site-packages/sklearn/metrics/_ranking.py:1029: UndefinedMetricWarning: No positive samples in y_true, true positive value should be meaningless\n",
      "\u001b[36m(launch_and_evaluate pid=1736)\u001b[0m   warnings.warn(\n",
      "\u001b[36m(launch_and_evaluate pid=1738)\u001b[0m /opt/conda/lib/python3.10/site-packages/sklearn/metrics/_ranking.py:1029: UndefinedMetricWarning: No positive samples in y_true, true positive value should be meaningless\n",
      "\u001b[36m(launch_and_evaluate pid=1738)\u001b[0m   warnings.warn(\n",
      "\u001b[33m(raylet)\u001b[0m [2024-07-22 09:26:09,847 E 209 209] (raylet) node_manager.cc:3022: 1 Workers (tasks / actors) killed due to memory pressure (OOM), 0 Workers crashed due to other reasons at node (ID: dcb7465c1e18f5f0fd3f2a9b1d80ab4a1bc14b88238171cc5f710a6a, IP: 172.19.2.2) over the last time period. To see more information about the Workers killed on this node, use `ray logs raylet.out -ip 172.19.2.2`\n",
      "\u001b[33m(raylet)\u001b[0m \n",
      "\u001b[33m(raylet)\u001b[0m Refer to the documentation on how to address the out of memory issue: https://docs.ray.io/en/latest/ray-core/scheduling/ray-oom-prevention.html. Consider provisioning more memory on this node or reducing task parallelism by requesting more CPUs per task. To adjust the kill threshold, set the environment variable `RAY_memory_usage_threshold` when starting Ray. To disable worker killing, set the environment variable `RAY_memory_monitor_refresh_ms` to zero.\n"
     ]
    },
    {
     "name": "stdout",
     "output_type": "stream",
     "text": [
      "\u001b[36m(launch_and_evaluate pid=1816)\u001b[0m Run with homomorphic encryption\u001b[32m [repeated 2x across cluster]\u001b[0m\n",
      "\u001b[36m(launch_and_evaluate pid=1738)\u001b[0m [Client 4] evaluate, config: {}\n",
      "\u001b[36m(launch_and_evaluate pid=1738)\u001b[0m Updated model\n",
      "\u001b[36m(launch_and_evaluate pid=1816)\u001b[0m [Client 1] evaluate, config: {}\n",
      "\u001b[36m(launch_and_evaluate pid=1816)\u001b[0m Updated model\n",
      "\u001b[36m(launch_and_evaluate pid=1893)\u001b[0m Run with homomorphic encryption\u001b[32m [repeated 2x across cluster]\u001b[0m\n",
      "\u001b[36m(launch_and_evaluate pid=1814)\u001b[0m [Client 0] evaluate, config: {}\n",
      "\u001b[36m(launch_and_evaluate pid=1814)\u001b[0m Updated model\n",
      "\u001b[36m(launch_and_evaluate pid=1893)\u001b[0m [Client 3] evaluate, config: {}\n",
      "\u001b[36m(launch_and_evaluate pid=1893)\u001b[0m Updated model\n",
      "\u001b[36m(launch_and_evaluate pid=1970)\u001b[0m Run with homomorphic encryption\u001b[32m [repeated 2x across cluster]\u001b[0m\n",
      "\u001b[36m(launch_and_evaluate pid=1894)\u001b[0m [Client 5] evaluate, config: {}\n",
      "\u001b[36m(launch_and_evaluate pid=1894)\u001b[0m Updated model\n",
      "\u001b[36m(launch_and_evaluate pid=1970)\u001b[0m [Client 2] evaluate, config: {}\n",
      "\u001b[36m(launch_and_evaluate pid=1970)\u001b[0m Updated model\n"
     ]
    },
    {
     "name": "stderr",
     "output_type": "stream",
     "text": [
      "DEBUG flwr 2024-07-22 09:26:43,791 | server.py:187 | evaluate_round 2 received 10 results and 0 failures\n",
      "DEBUG flwr 2024-07-22 09:26:43,794 | server.py:222 | fit_round 3: strategy sampled 10 clients (out of 10)\n"
     ]
    },
    {
     "name": "stdout",
     "output_type": "stream",
     "text": [
      "\u001b[36m(launch_and_fit pid=2057)\u001b[0m Run with homomorphic encryption\u001b[32m [repeated 2x across cluster]\u001b[0m\n",
      "\u001b[36m(launch_and_evaluate pid=1972)\u001b[0m [Client 6] evaluate, config: {}\n",
      "\u001b[36m(launch_and_evaluate pid=1972)\u001b[0m Updated model\n",
      "\u001b[36m(launch_and_fit pid=2057)\u001b[0m [Client 2, round 3] fit, config: {'learning_rate': 0.003, 'batch_size': '16', 'server_round': 3, 'local_epochs': 10}\n"
     ]
    },
    {
     "name": "stderr",
     "output_type": "stream",
     "text": [
      "  0%|\u001b[34m          \u001b[0m| 0/10 [00:00<?, ?it/s]\n"
     ]
    },
    {
     "name": "stdout",
     "output_type": "stream",
     "text": [
      "\u001b[36m(launch_and_fit pid=2057)\u001b[0m Updated model\n"
     ]
    },
    {
     "name": "stderr",
     "output_type": "stream",
     "text": [
      " 10%|\u001b[34m█         \u001b[0m| 1/10 [00:02<00:24,  2.73s/it]\n"
     ]
    },
    {
     "name": "stdout",
     "output_type": "stream",
     "text": [
      "\u001b[36m(launch_and_fit pid=2057)\u001b[0m \tTrain Epoch: 1 \tTrain_loss: 1.8155 | Train_acc: 32.3011 % | Validation_loss: 1.8356 | Validation_acc: 25.6944 %\n"
     ]
    },
    {
     "name": "stderr",
     "output_type": "stream",
     "text": [
      "  0%|\u001b[34m          \u001b[0m| 0/10 [00:00<?, ?it/s]\n"
     ]
    },
    {
     "name": "stdout",
     "output_type": "stream",
     "text": [
      "\u001b[36m(launch_and_fit pid=2058)\u001b[0m Run with homomorphic encryption\n",
      "\u001b[36m(launch_and_fit pid=2058)\u001b[0m [Client 5, round 3] fit, config: {'learning_rate': 0.003, 'batch_size': '16', 'server_round': 3, 'local_epochs': 10}\n",
      "\u001b[36m(launch_and_fit pid=2058)\u001b[0m Updated model\n"
     ]
    },
    {
     "name": "stderr",
     "output_type": "stream",
     "text": [
      " 30%|\u001b[34m███       \u001b[0m| 3/10 [00:07<00:17,  2.52s/it]\u001b[32m [repeated 5x across cluster]\u001b[0m\n"
     ]
    },
    {
     "name": "stdout",
     "output_type": "stream",
     "text": [
      "\u001b[36m(launch_and_fit pid=2058)\u001b[0m \tTrain Epoch: 3 \tTrain_loss: 1.8349 | Train_acc: 29.0057 % | Validation_loss: 1.8625 | Validation_acc: 20.8333 %\u001b[32m [repeated 5x across cluster]\u001b[0m\n"
     ]
    },
    {
     "name": "stderr",
     "output_type": "stream",
     "text": [
      " 60%|\u001b[34m██████    \u001b[0m| 6/10 [00:15<00:09,  2.47s/it]\u001b[32m [repeated 5x across cluster]\u001b[0m\n"
     ]
    },
    {
     "name": "stdout",
     "output_type": "stream",
     "text": [
      "\u001b[36m(launch_and_fit pid=2057)\u001b[0m \tTrain Epoch: 6 \tTrain_loss: 1.7743 | Train_acc: 34.6307 % | Validation_loss: 1.8509 | Validation_acc: 23.6111 %\u001b[32m [repeated 5x across cluster]\u001b[0m\n"
     ]
    },
    {
     "name": "stderr",
     "output_type": "stream",
     "text": [
      " 80%|\u001b[34m████████  \u001b[0m| 8/10 [00:20<00:05,  2.68s/it]\u001b[32m [repeated 4x across cluster]\u001b[0m\n"
     ]
    },
    {
     "name": "stdout",
     "output_type": "stream",
     "text": [
      "\u001b[36m(launch_and_fit pid=2057)\u001b[0m \tTrain Epoch: 8 \tTrain_loss: 1.7653 | Train_acc: 34.7727 % | Validation_loss: 1.8332 | Validation_acc: 32.6389 %\u001b[32m [repeated 4x across cluster]\u001b[0m\n",
      "\u001b[36m(launch_and_fit pid=2057)\u001b[0m save graph in  results/FL/\n",
      "\u001b[36m(launch_and_fit pid=2058)\u001b[0m fc1.weight 1.3589859008789062e-05\n",
      "\u001b[36m(launch_and_fit pid=2058)\u001b[0m fc1.bias 1.430511474609375e-06\n",
      "\u001b[36m(launch_and_fit pid=2058)\u001b[0m fc2.weight 1.1920928955078125e-06\n",
      "\u001b[36m(launch_and_fit pid=2058)\u001b[0m fc2.bias 1.1920928955078125e-06\n",
      "\u001b[36m(launch_and_fit pid=2058)\u001b[0m \tTrain Epoch: 10 \tTrain_loss: 1.8085 | Train_acc: 29.6307 % | Validation_loss: 1.8125 | Validation_acc: 45.1389 %\u001b[32m [repeated 5x across cluster]\u001b[0m\n",
      "\u001b[36m(launch_and_fit pid=2058)\u001b[0m qnn.weights 1.1920928955078125e-06\n",
      "\u001b[36m(launch_and_fit pid=2140)\u001b[0m Run with homomorphic encryption\n",
      "\u001b[36m(launch_and_fit pid=2058)\u001b[0m save graph in  results/FL/\n",
      "\u001b[36m(launch_and_fit pid=2057)\u001b[0m fc3.bias 4.5299530029296875e-06\u001b[32m [repeated 8x across cluster]\u001b[0m\n",
      "\u001b[36m(launch_and_fit pid=2057)\u001b[0m qnn.weights 1.1920928955078125e-06\n",
      "\u001b[36m(launch_and_fit pid=2140)\u001b[0m [Client 6, round 3] fit, config: {'learning_rate': 0.003, 'batch_size': '16', 'server_round': 3, 'local_epochs': 10}\n"
     ]
    },
    {
     "name": "stderr",
     "output_type": "stream",
     "text": [
      "  0%|\u001b[34m          \u001b[0m| 0/10 [00:00<?, ?it/s]\n",
      "100%|\u001b[34m██████████\u001b[0m| 10/10 [00:25<00:00,  2.52s/it]\u001b[32m [repeated 5x across cluster]\u001b[0m\n"
     ]
    },
    {
     "name": "stdout",
     "output_type": "stream",
     "text": [
      "\u001b[36m(launch_and_fit pid=2140)\u001b[0m Updated model\n",
      "\u001b[36m(launch_and_fit pid=2140)\u001b[0m \tTrain Epoch: 1 \tTrain_loss: 1.7907 | Train_acc: 37.6136 % | Validation_loss: 1.8997 | Validation_acc: 29.8611 %\n",
      "\u001b[36m(launch_and_fit pid=2142)\u001b[0m Run with homomorphic encryption\n",
      "\u001b[36m(launch_and_fit pid=2142)\u001b[0m [Client 4, round 3] fit, config: {'learning_rate': 0.003, 'batch_size': '16', 'server_round': 3, 'local_epochs': 10}\n",
      "\u001b[36m(launch_and_fit pid=2142)\u001b[0m Updated model\n"
     ]
    },
    {
     "name": "stderr",
     "output_type": "stream",
     "text": [
      "  0%|\u001b[34m          \u001b[0m| 0/10 [00:00<?, ?it/s]\n",
      " 20%|\u001b[34m██        \u001b[0m| 2/10 [00:05<00:23,  2.89s/it]\u001b[32m [repeated 3x across cluster]\u001b[0m\n"
     ]
    },
    {
     "name": "stdout",
     "output_type": "stream",
     "text": [
      "\u001b[36m(launch_and_fit pid=2140)\u001b[0m \tTrain Epoch: 3 \tTrain_loss: 1.7607 | Train_acc: 36.9886 % | Validation_loss: 1.9817 | Validation_acc: 14.5833 %\u001b[32m [repeated 4x across cluster]\u001b[0m\n"
     ]
    },
    {
     "name": "stderr",
     "output_type": "stream",
     "text": [
      " 40%|\u001b[34m████      \u001b[0m| 4/10 [00:10<00:16,  2.68s/it]\u001b[32m [repeated 4x across cluster]\u001b[0m\n"
     ]
    },
    {
     "name": "stdout",
     "output_type": "stream",
     "text": [
      "\u001b[36m(launch_and_fit pid=2140)\u001b[0m \tTrain Epoch: 5 \tTrain_loss: 1.7437 | Train_acc: 39.6591 % | Validation_loss: 1.9944 | Validation_acc: 16.6667 %\u001b[32m [repeated 4x across cluster]\u001b[0m\n"
     ]
    },
    {
     "name": "stderr",
     "output_type": "stream",
     "text": [
      " 60%|\u001b[34m██████    \u001b[0m| 6/10 [00:16<00:11,  2.75s/it]\u001b[32m [repeated 4x across cluster]\u001b[0m\n"
     ]
    },
    {
     "name": "stdout",
     "output_type": "stream",
     "text": [
      "\u001b[36m(launch_and_fit pid=2140)\u001b[0m \tTrain Epoch: 7 \tTrain_loss: 1.7435 | Train_acc: 40.2841 % | Validation_loss: 1.9524 | Validation_acc: 16.6667 %\u001b[32m [repeated 4x across cluster]\u001b[0m\n"
     ]
    },
    {
     "name": "stderr",
     "output_type": "stream",
     "text": [
      " 90%|\u001b[34m█████████ \u001b[0m| 9/10 [00:24<00:02,  2.58s/it]\u001b[32m [repeated 6x across cluster]\u001b[0m\n"
     ]
    },
    {
     "name": "stdout",
     "output_type": "stream",
     "text": [
      "\u001b[36m(launch_and_fit pid=2140)\u001b[0m save graph in  results/FL/\n",
      "\u001b[36m(launch_and_fit pid=2140)\u001b[0m \tTrain Epoch: 10 \tTrain_loss: 1.7117 | Train_acc: 44.2898 % | Validation_loss: 1.9900 | Validation_acc: 27.7778 %\u001b[32m [repeated 6x across cluster]\u001b[0m\n",
      "\u001b[36m(launch_and_fit pid=2140)\u001b[0m fc1.weight 4.76837158203125e-06\n",
      "\u001b[36m(launch_and_fit pid=2140)\u001b[0m fc1.bias 1.1920928955078125e-06\n",
      "\u001b[36m(launch_and_fit pid=2140)\u001b[0m fc2.weight 9.5367431640625e-07\n",
      "\u001b[36m(launch_and_fit pid=2140)\u001b[0m fc2.bias 9.5367431640625e-07\n",
      "\u001b[36m(launch_and_fit pid=2140)\u001b[0m qnn.weights 9.5367431640625e-07\n",
      "\u001b[36m(launch_and_fit pid=2222)\u001b[0m Run with homomorphic encryption\n",
      "\u001b[36m(launch_and_fit pid=2142)\u001b[0m save graph in  results/FL/\n",
      "\u001b[36m(launch_and_fit pid=2142)\u001b[0m \tTrain Epoch: 10 \tTrain_loss: 1.7859 | Train_acc: 32.6136 % | Validation_loss: 1.7106 | Validation_acc: 38.1944 %\n",
      "\u001b[36m(launch_and_fit pid=2142)\u001b[0m fc3.bias 5.4836273193359375e-06\u001b[32m [repeated 8x across cluster]\u001b[0m\n",
      "\u001b[36m(launch_and_fit pid=2142)\u001b[0m qnn.weights 1.1920928955078125e-06\n",
      "\u001b[36m(launch_and_fit pid=2222)\u001b[0m [Client 3, round 3] fit, config: {'learning_rate': 0.003, 'batch_size': '16', 'server_round': 3, 'local_epochs': 10}\n"
     ]
    },
    {
     "name": "stderr",
     "output_type": "stream",
     "text": [
      "  0%|\u001b[34m          \u001b[0m| 0/10 [00:00<?, ?it/s]\n",
      "100%|\u001b[34m██████████\u001b[0m| 10/10 [00:26<00:00,  2.66s/it]\u001b[32m [repeated 3x across cluster]\u001b[0m\n"
     ]
    },
    {
     "name": "stdout",
     "output_type": "stream",
     "text": [
      "\u001b[36m(launch_and_fit pid=2222)\u001b[0m Updated model\n",
      "\u001b[36m(launch_and_fit pid=2222)\u001b[0m \tTrain Epoch: 1 \tTrain_loss: 1.8643 | Train_acc: 27.7841 % | Validation_loss: 1.8956 | Validation_acc: 29.8611 %\n"
     ]
    },
    {
     "name": "stderr",
     "output_type": "stream",
     "text": [
      "  0%|\u001b[34m          \u001b[0m| 0/10 [00:00<?, ?it/s]\n",
      " 20%|\u001b[34m██        \u001b[0m| 2/10 [00:05<00:20,  2.59s/it]\u001b[32m [repeated 3x across cluster]\u001b[0m\n"
     ]
    },
    {
     "name": "stdout",
     "output_type": "stream",
     "text": [
      "\u001b[36m(launch_and_fit pid=2224)\u001b[0m Run with homomorphic encryption\n",
      "\u001b[36m(launch_and_fit pid=2224)\u001b[0m [Client 8, round 3] fit, config: {'learning_rate': 0.003, 'batch_size': '16', 'server_round': 3, 'local_epochs': 10}\n",
      "\u001b[36m(launch_and_fit pid=2224)\u001b[0m Updated model\n",
      "\u001b[36m(launch_and_fit pid=2222)\u001b[0m \tTrain Epoch: 3 \tTrain_loss: 1.8320 | Train_acc: 30.0852 % | Validation_loss: 1.8709 | Validation_acc: 29.8611 %\u001b[32m [repeated 4x across cluster]\u001b[0m\n"
     ]
    },
    {
     "name": "stderr",
     "output_type": "stream",
     "text": [
      " 40%|\u001b[34m████      \u001b[0m| 4/10 [00:10<00:15,  2.52s/it]\u001b[32m [repeated 5x across cluster]\u001b[0m\n"
     ]
    },
    {
     "name": "stdout",
     "output_type": "stream",
     "text": [
      "\u001b[36m(launch_and_fit pid=2224)\u001b[0m \tTrain Epoch: 5 \tTrain_loss: 1.8025 | Train_acc: 30.2841 % | Validation_loss: 1.8624 | Validation_acc: 22.9167 %\u001b[32m [repeated 5x across cluster]\u001b[0m\n"
     ]
    },
    {
     "name": "stderr",
     "output_type": "stream",
     "text": [
      " 70%|\u001b[34m███████   \u001b[0m| 7/10 [00:17<00:07,  2.48s/it]\u001b[32m [repeated 5x across cluster]\u001b[0m\n"
     ]
    },
    {
     "name": "stdout",
     "output_type": "stream",
     "text": [
      "\u001b[36m(launch_and_fit pid=2224)\u001b[0m \tTrain Epoch: 7 \tTrain_loss: 1.7858 | Train_acc: 31.9886 % | Validation_loss: 1.8834 | Validation_acc: 20.8333 %\u001b[32m [repeated 4x across cluster]\u001b[0m\n"
     ]
    },
    {
     "name": "stderr",
     "output_type": "stream",
     "text": [
      " 90%|\u001b[34m█████████ \u001b[0m| 9/10 [00:22<00:02,  2.55s/it]\u001b[32m [repeated 4x across cluster]\u001b[0m\n"
     ]
    },
    {
     "name": "stdout",
     "output_type": "stream",
     "text": [
      "\u001b[36m(launch_and_fit pid=2224)\u001b[0m \tTrain Epoch: 9 \tTrain_loss: 1.7664 | Train_acc: 33.8352 % | Validation_loss: 1.8484 | Validation_acc: 31.9444 %\u001b[32m [repeated 4x across cluster]\u001b[0m\n",
      "\u001b[36m(launch_and_fit pid=2222)\u001b[0m save graph in  results/FL/\n",
      "\u001b[36m(launch_and_fit pid=2222)\u001b[0m fc1.weight 5.245208740234375e-06\n",
      "\u001b[36m(launch_and_fit pid=2222)\u001b[0m fc1.bias 1.430511474609375e-06\n",
      "\u001b[36m(launch_and_fit pid=2222)\u001b[0m fc2.weight 1.1920928955078125e-06\n",
      "\u001b[36m(launch_and_fit pid=2222)\u001b[0m fc2.bias 9.5367431640625e-07\n",
      "\u001b[36m(launch_and_fit pid=2222)\u001b[0m qnn.weights 1.1920928955078125e-06\n",
      "\u001b[36m(launch_and_fit pid=2224)\u001b[0m \tTrain Epoch: 10 \tTrain_loss: 1.7974 | Train_acc: 35.7386 % | Validation_loss: 1.8415 | Validation_acc: 22.9167 %\u001b[32m [repeated 2x across cluster]\u001b[0m\n",
      "\u001b[36m(launch_and_fit pid=2305)\u001b[0m Run with homomorphic encryption\n",
      "\u001b[36m(launch_and_fit pid=2224)\u001b[0m save graph in  results/FL/\n",
      "\u001b[36m(launch_and_fit pid=2224)\u001b[0m fc3.bias 5.245208740234375e-06\u001b[32m [repeated 8x across cluster]\u001b[0m\n",
      "\u001b[36m(launch_and_fit pid=2224)\u001b[0m qnn.weights 1.9073486328125e-06\n",
      "\u001b[36m(launch_and_fit pid=2305)\u001b[0m [Client 0, round 3] fit, config: {'learning_rate': 0.003, 'batch_size': '16', 'server_round': 3, 'local_epochs': 10}\n"
     ]
    },
    {
     "name": "stderr",
     "output_type": "stream",
     "text": [
      "  0%|\u001b[34m          \u001b[0m| 0/10 [00:00<?, ?it/s]\n",
      "100%|\u001b[34m██████████\u001b[0m| 10/10 [00:25<00:00,  2.57s/it]\u001b[32m [repeated 3x across cluster]\u001b[0m\n"
     ]
    },
    {
     "name": "stdout",
     "output_type": "stream",
     "text": [
      "\u001b[36m(launch_and_fit pid=2305)\u001b[0m Updated model\n",
      "\u001b[36m(launch_and_fit pid=2305)\u001b[0m \tTrain Epoch: 1 \tTrain_loss: 1.8389 | Train_acc: 32.2443 % | Validation_loss: 1.9131 | Validation_acc: 22.9167 %\n"
     ]
    },
    {
     "name": "stderr",
     "output_type": "stream",
     "text": [
      "  0%|\u001b[34m          \u001b[0m| 0/10 [00:00<?, ?it/s]\n",
      " 20%|\u001b[34m██        \u001b[0m| 2/10 [00:05<00:21,  2.70s/it]\u001b[32m [repeated 3x across cluster]\u001b[0m\n"
     ]
    },
    {
     "name": "stdout",
     "output_type": "stream",
     "text": [
      "\u001b[36m(launch_and_fit pid=2307)\u001b[0m Run with homomorphic encryption\n",
      "\u001b[36m(launch_and_fit pid=2307)\u001b[0m [Client 9, round 3] fit, config: {'learning_rate': 0.003, 'batch_size': '16', 'server_round': 3, 'local_epochs': 10}\n",
      "\u001b[36m(launch_and_fit pid=2307)\u001b[0m Updated model\n",
      "\u001b[36m(launch_and_fit pid=2305)\u001b[0m \tTrain Epoch: 3 \tTrain_loss: 1.8186 | Train_acc: 33.2386 % | Validation_loss: 1.8992 | Validation_acc: 27.0833 %\u001b[32m [repeated 4x across cluster]\u001b[0m\n"
     ]
    },
    {
     "name": "stderr",
     "output_type": "stream",
     "text": [
      " 40%|\u001b[34m████      \u001b[0m| 4/10 [00:10<00:15,  2.59s/it]\u001b[32m [repeated 4x across cluster]\u001b[0m\n"
     ]
    },
    {
     "name": "stdout",
     "output_type": "stream",
     "text": [
      "\u001b[36m(launch_and_fit pid=2307)\u001b[0m \tTrain Epoch: 5 \tTrain_loss: 1.8073 | Train_acc: 32.9375 % | Validation_loss: 1.7443 | Validation_acc: 34.0278 %\u001b[32m [repeated 5x across cluster]\u001b[0m\n"
     ]
    },
    {
     "name": "stderr",
     "output_type": "stream",
     "text": [
      " 60%|\u001b[34m██████    \u001b[0m| 6/10 [00:15<00:10,  2.51s/it]\u001b[32m [repeated 5x across cluster]\u001b[0m\n"
     ]
    },
    {
     "name": "stdout",
     "output_type": "stream",
     "text": [
      "\u001b[36m(launch_and_fit pid=2305)\u001b[0m \tTrain Epoch: 8 \tTrain_loss: 1.7815 | Train_acc: 33.3807 % | Validation_loss: 1.8563 | Validation_acc: 25.0000 %\u001b[32m [repeated 5x across cluster]\u001b[0m\n"
     ]
    },
    {
     "name": "stderr",
     "output_type": "stream",
     "text": [
      " 90%|\u001b[34m█████████ \u001b[0m| 9/10 [00:22<00:02,  2.49s/it]\u001b[32m [repeated 5x across cluster]\u001b[0m\n"
     ]
    },
    {
     "name": "stdout",
     "output_type": "stream",
     "text": [
      "\u001b[36m(launch_and_fit pid=2305)\u001b[0m save graph in  results/FL/\n",
      "\u001b[36m(launch_and_fit pid=2305)\u001b[0m fc1.weight 5.0067901611328125e-06\n",
      "\u001b[36m(launch_and_fit pid=2305)\u001b[0m fc1.bias 1.430511474609375e-06\n",
      "\u001b[36m(launch_and_fit pid=2305)\u001b[0m fc2.weight 1.1920928955078125e-06\n",
      "\u001b[36m(launch_and_fit pid=2305)\u001b[0m fc2.bias 9.5367431640625e-07\n",
      "\u001b[36m(launch_and_fit pid=2305)\u001b[0m \tTrain Epoch: 10 \tTrain_loss: 1.7634 | Train_acc: 35.3977 % | Validation_loss: 1.9176 | Validation_acc: 25.0000 %\u001b[32m [repeated 4x across cluster]\u001b[0m\n",
      "\u001b[36m(launch_and_fit pid=2305)\u001b[0m qnn.weights 1.1920928955078125e-06\n",
      "\u001b[36m(launch_and_fit pid=2307)\u001b[0m save graph in  results/FL/\n",
      "\u001b[36m(launch_and_fit pid=2387)\u001b[0m Run with homomorphic encryption\n",
      "\u001b[36m(launch_and_fit pid=2307)\u001b[0m fc3.bias 5.4836273193359375e-06\u001b[32m [repeated 8x across cluster]\u001b[0m\n",
      "\u001b[36m(launch_and_fit pid=2307)\u001b[0m \tTrain Epoch: 10 \tTrain_loss: 1.7801 | Train_acc: 34.1667 % | Validation_loss: 1.7441 | Validation_acc: 34.0278 %\n",
      "\u001b[36m(launch_and_fit pid=2307)\u001b[0m qnn.weights 1.9073486328125e-06\n",
      "\u001b[36m(launch_and_fit pid=2387)\u001b[0m [Client 7, round 3] fit, config: {'learning_rate': 0.003, 'batch_size': '16', 'server_round': 3, 'local_epochs': 10}\n"
     ]
    },
    {
     "name": "stderr",
     "output_type": "stream",
     "text": [
      "  0%|\u001b[34m          \u001b[0m| 0/10 [00:00<?, ?it/s]\n",
      "100%|\u001b[34m██████████\u001b[0m| 10/10 [00:25<00:00,  2.57s/it]\u001b[32m [repeated 3x across cluster]\u001b[0m\n"
     ]
    },
    {
     "name": "stdout",
     "output_type": "stream",
     "text": [
      "\u001b[36m(launch_and_fit pid=2387)\u001b[0m Updated model\n",
      "\u001b[36m(launch_and_fit pid=2387)\u001b[0m \tTrain Epoch: 1 \tTrain_loss: 1.8783 | Train_acc: 24.7727 % | Validation_loss: 1.7263 | Validation_acc: 45.1389 %\n",
      "\u001b[36m(launch_and_fit pid=2412)\u001b[0m Run with homomorphic encryption\n"
     ]
    },
    {
     "name": "stderr",
     "output_type": "stream",
     "text": [
      "  0%|\u001b[34m          \u001b[0m| 0/10 [00:00<?, ?it/s]\n",
      " 20%|\u001b[34m██        \u001b[0m| 2/10 [00:05<00:20,  2.61s/it]\u001b[32m [repeated 3x across cluster]\u001b[0m\n"
     ]
    },
    {
     "name": "stdout",
     "output_type": "stream",
     "text": [
      "\u001b[36m(launch_and_fit pid=2412)\u001b[0m [Client 1, round 3] fit, config: {'learning_rate': 0.003, 'batch_size': '16', 'server_round': 3, 'local_epochs': 10}\n",
      "\u001b[36m(launch_and_fit pid=2412)\u001b[0m Updated model\n",
      "\u001b[36m(launch_and_fit pid=2387)\u001b[0m \tTrain Epoch: 3 \tTrain_loss: 1.8515 | Train_acc: 26.8466 % | Validation_loss: 1.7006 | Validation_acc: 45.1389 %\u001b[32m [repeated 4x across cluster]\u001b[0m\n"
     ]
    },
    {
     "name": "stderr",
     "output_type": "stream",
     "text": [
      " 40%|\u001b[34m████      \u001b[0m| 4/10 [00:10<00:15,  2.56s/it]\u001b[32m [repeated 4x across cluster]\u001b[0m\n"
     ]
    },
    {
     "name": "stdout",
     "output_type": "stream",
     "text": [
      "\u001b[36m(launch_and_fit pid=2387)\u001b[0m \tTrain Epoch: 5 \tTrain_loss: 1.8347 | Train_acc: 28.3807 % | Validation_loss: 1.6931 | Validation_acc: 43.0556 %\u001b[32m [repeated 4x across cluster]\u001b[0m\n"
     ]
    },
    {
     "name": "stderr",
     "output_type": "stream",
     "text": [
      " 60%|\u001b[34m██████    \u001b[0m| 6/10 [00:15<00:10,  2.57s/it]\u001b[32m [repeated 4x across cluster]\u001b[0m\n"
     ]
    },
    {
     "name": "stdout",
     "output_type": "stream",
     "text": [
      "\u001b[36m(launch_and_fit pid=2387)\u001b[0m \tTrain Epoch: 7 \tTrain_loss: 1.8341 | Train_acc: 29.3466 % | Validation_loss: 1.7123 | Validation_acc: 45.1389 %\u001b[32m [repeated 4x across cluster]\u001b[0m\n"
     ]
    },
    {
     "name": "stderr",
     "output_type": "stream",
     "text": [
      " 80%|\u001b[34m████████  \u001b[0m| 8/10 [00:20<00:05,  2.55s/it]\u001b[32m [repeated 4x across cluster]\u001b[0m\n"
     ]
    },
    {
     "name": "stdout",
     "output_type": "stream",
     "text": [
      "\u001b[36m(launch_and_fit pid=2387)\u001b[0m \tTrain Epoch: 9 \tTrain_loss: 1.8278 | Train_acc: 26.3920 % | Validation_loss: 1.6985 | Validation_acc: 43.0556 %\u001b[32m [repeated 4x across cluster]\u001b[0m\n"
     ]
    },
    {
     "name": "stderr",
     "output_type": "stream",
     "text": [
      "100%|\u001b[34m██████████\u001b[0m| 10/10 [00:26<00:00,  2.61s/it]\u001b[32m [repeated 4x across cluster]\u001b[0m\n"
     ]
    },
    {
     "name": "stdout",
     "output_type": "stream",
     "text": [
      "\u001b[36m(launch_and_fit pid=2387)\u001b[0m save graph in  results/FL/\n",
      "\u001b[36m(launch_and_fit pid=2387)\u001b[0m fc1.weight 5.4836273193359375e-06\n",
      "\u001b[36m(launch_and_fit pid=2387)\u001b[0m fc1.bias 1.1920928955078125e-06\n",
      "\u001b[36m(launch_and_fit pid=2387)\u001b[0m fc2.weight 9.5367431640625e-07\n",
      "\u001b[36m(launch_and_fit pid=2387)\u001b[0m fc2.bias 9.5367431640625e-07\n",
      "\u001b[36m(launch_and_fit pid=2412)\u001b[0m \tTrain Epoch: 10 \tTrain_loss: 1.8250 | Train_acc: 29.3466 % | Validation_loss: 1.8818 | Validation_acc: 31.9444 %\u001b[32m [repeated 3x across cluster]\u001b[0m\n",
      "\u001b[36m(launch_and_fit pid=2387)\u001b[0m qnn.weights 1.6689300537109375e-06\n",
      "\u001b[36m(launch_and_fit pid=2412)\u001b[0m save graph in  results/FL/\n",
      "\u001b[36m(launch_and_fit pid=2412)\u001b[0m fc3.bias 4.291534423828125e-06\u001b[32m [repeated 8x across cluster]\u001b[0m\n"
     ]
    },
    {
     "name": "stderr",
     "output_type": "stream",
     "text": [
      "DEBUG flwr 2024-07-22 09:30:37,952 | server.py:236 | fit_round 3 received 10 results and 0 failures\n"
     ]
    },
    {
     "name": "stdout",
     "output_type": "stream",
     "text": [
      "Saving round 3 aggregated_parameters...\n"
     ]
    },
    {
     "name": "stderr",
     "output_type": "stream",
     "text": [
      "DEBUG flwr 2024-07-22 09:30:57,534 | server.py:173 | evaluate_round 3: strategy sampled 10 clients (out of 10)\n"
     ]
    },
    {
     "name": "stdout",
     "output_type": "stream",
     "text": [
      "\u001b[36m(launch_and_evaluate pid=2478)\u001b[0m Run with homomorphic encryption\n",
      "\u001b[36m(launch_and_fit pid=2412)\u001b[0m qnn.weights 1.1920928955078125e-06\n",
      "\u001b[36m(launch_and_evaluate pid=2478)\u001b[0m [Client 6] evaluate, config: {}\n",
      "\u001b[36m(launch_and_evaluate pid=2478)\u001b[0m Updated model\n"
     ]
    },
    {
     "name": "stderr",
     "output_type": "stream",
     "text": [
      "\u001b[36m(launch_and_evaluate pid=2487)\u001b[0m /opt/conda/lib/python3.10/site-packages/sklearn/metrics/_ranking.py:1029: UndefinedMetricWarning: No positive samples in y_true, true positive value should be meaningless\n",
      "\u001b[36m(launch_and_evaluate pid=2487)\u001b[0m   warnings.warn(\n",
      "100%|\u001b[34m██████████\u001b[0m| 10/10 [00:27<00:00,  2.71s/it]\n"
     ]
    },
    {
     "name": "stdout",
     "output_type": "stream",
     "text": [
      "\u001b[36m(launch_and_evaluate pid=2556)\u001b[0m Run with homomorphic encryption\u001b[32m [repeated 2x across cluster]\u001b[0m\n",
      "\u001b[36m(launch_and_evaluate pid=2487)\u001b[0m [Client 9] evaluate, config: {}\n",
      "\u001b[36m(launch_and_evaluate pid=2487)\u001b[0m Updated model\n",
      "\u001b[36m(launch_and_evaluate pid=2556)\u001b[0m [Client 3] evaluate, config: {}\n",
      "\u001b[36m(launch_and_evaluate pid=2556)\u001b[0m Updated model\n",
      "\u001b[36m(launch_and_evaluate pid=2634)\u001b[0m Run with homomorphic encryption\u001b[32m [repeated 2x across cluster]\u001b[0m\n",
      "\u001b[36m(launch_and_evaluate pid=2581)\u001b[0m [Client 7] evaluate, config: {}\n",
      "\u001b[36m(launch_and_evaluate pid=2581)\u001b[0m Updated model\n",
      "\u001b[36m(launch_and_evaluate pid=2634)\u001b[0m [Client 0] evaluate, config: {}\n",
      "\u001b[36m(launch_and_evaluate pid=2634)\u001b[0m Updated model\n",
      "\u001b[36m(launch_and_evaluate pid=2712)\u001b[0m Run with homomorphic encryption\u001b[32m [repeated 2x across cluster]\u001b[0m\n",
      "\u001b[36m(launch_and_evaluate pid=2659)\u001b[0m [Client 5] evaluate, config: {}\n",
      "\u001b[36m(launch_and_evaluate pid=2659)\u001b[0m Updated model\n",
      "\u001b[36m(launch_and_evaluate pid=2712)\u001b[0m [Client 4] evaluate, config: {}\n",
      "\u001b[36m(launch_and_evaluate pid=2712)\u001b[0m Updated model\n"
     ]
    },
    {
     "name": "stderr",
     "output_type": "stream",
     "text": [
      "\u001b[36m(launch_and_evaluate pid=2712)\u001b[0m /opt/conda/lib/python3.10/site-packages/sklearn/metrics/_ranking.py:1029: UndefinedMetricWarning: No positive samples in y_true, true positive value should be meaningless\n",
      "\u001b[36m(launch_and_evaluate pid=2712)\u001b[0m   warnings.warn(\n",
      "\u001b[36m(launch_and_evaluate pid=2737)\u001b[0m /opt/conda/lib/python3.10/site-packages/sklearn/metrics/_ranking.py:1029: UndefinedMetricWarning: No positive samples in y_true, true positive value should be meaningless\n",
      "\u001b[36m(launch_and_evaluate pid=2737)\u001b[0m   warnings.warn(\n"
     ]
    },
    {
     "name": "stdout",
     "output_type": "stream",
     "text": [
      "\u001b[36m(launch_and_evaluate pid=2790)\u001b[0m Run with homomorphic encryption\u001b[32m [repeated 2x across cluster]\u001b[0m\n",
      "\u001b[36m(launch_and_evaluate pid=2737)\u001b[0m [Client 8] evaluate, config: {}\n",
      "\u001b[36m(launch_and_evaluate pid=2737)\u001b[0m Updated model\n",
      "\u001b[36m(launch_and_evaluate pid=2790)\u001b[0m [Client 2] evaluate, config: {}\n",
      "\u001b[36m(launch_and_evaluate pid=2790)\u001b[0m Updated model\n"
     ]
    },
    {
     "name": "stderr",
     "output_type": "stream",
     "text": [
      "DEBUG flwr 2024-07-22 09:32:04,753 | server.py:187 | evaluate_round 3 received 10 results and 0 failures\n",
      "DEBUG flwr 2024-07-22 09:32:04,755 | server.py:222 | fit_round 4: strategy sampled 10 clients (out of 10)\n"
     ]
    },
    {
     "name": "stdout",
     "output_type": "stream",
     "text": [
      "\u001b[36m(launch_and_fit pid=2877)\u001b[0m Run with homomorphic encryption\u001b[32m [repeated 2x across cluster]\u001b[0m\n",
      "\u001b[36m(launch_and_evaluate pid=2815)\u001b[0m [Client 1] evaluate, config: {}\n",
      "\u001b[36m(launch_and_evaluate pid=2815)\u001b[0m Updated model\n",
      "\u001b[36m(launch_and_fit pid=2878)\u001b[0m [Client 4, round 4] fit, config: {'learning_rate': 0.003, 'batch_size': '16', 'server_round': 4, 'local_epochs': 10}\n"
     ]
    },
    {
     "name": "stderr",
     "output_type": "stream",
     "text": [
      "  0%|\u001b[34m          \u001b[0m| 0/10 [00:00<?, ?it/s]\n"
     ]
    },
    {
     "name": "stdout",
     "output_type": "stream",
     "text": [
      "\u001b[36m(launch_and_fit pid=2878)\u001b[0m Updated model\n"
     ]
    },
    {
     "name": "stderr",
     "output_type": "stream",
     "text": [
      " 10%|\u001b[34m█         \u001b[0m| 1/10 [00:02<00:25,  2.82s/it]\n"
     ]
    },
    {
     "name": "stdout",
     "output_type": "stream",
     "text": [
      "\u001b[36m(launch_and_fit pid=2878)\u001b[0m \tTrain Epoch: 1 \tTrain_loss: 1.8064 | Train_acc: 30.5966 % | Validation_loss: 1.7001 | Validation_acc: 38.1944 %\n"
     ]
    },
    {
     "name": "stderr",
     "output_type": "stream",
     "text": [
      "  0%|\u001b[34m          \u001b[0m| 0/10 [00:00<?, ?it/s]\n"
     ]
    },
    {
     "name": "stdout",
     "output_type": "stream",
     "text": [
      "\u001b[36m(launch_and_fit pid=2878)\u001b[0m Run with homomorphic encryption\n",
      "\u001b[36m(launch_and_fit pid=2877)\u001b[0m [Client 9, round 4] fit, config: {'learning_rate': 0.003, 'batch_size': '16', 'server_round': 4, 'local_epochs': 10}\n",
      "\u001b[36m(launch_and_fit pid=2877)\u001b[0m Updated model\n"
     ]
    },
    {
     "name": "stderr",
     "output_type": "stream",
     "text": [
      " 30%|\u001b[34m███       \u001b[0m| 3/10 [00:08<00:19,  2.72s/it]\u001b[32m [repeated 4x across cluster]\u001b[0m\n"
     ]
    },
    {
     "name": "stdout",
     "output_type": "stream",
     "text": [
      "\u001b[36m(launch_and_fit pid=2878)\u001b[0m \tTrain Epoch: 3 \tTrain_loss: 1.7822 | Train_acc: 33.0682 % | Validation_loss: 1.6888 | Validation_acc: 38.1944 %\u001b[32m [repeated 4x across cluster]\u001b[0m\n"
     ]
    },
    {
     "name": "stderr",
     "output_type": "stream",
     "text": [
      " 50%|\u001b[34m█████     \u001b[0m| 5/10 [00:13<00:13,  2.76s/it]\u001b[32m [repeated 4x across cluster]\u001b[0m\n"
     ]
    },
    {
     "name": "stdout",
     "output_type": "stream",
     "text": [
      "\u001b[36m(launch_and_fit pid=2878)\u001b[0m \tTrain Epoch: 5 \tTrain_loss: 1.7710 | Train_acc: 34.4602 % | Validation_loss: 1.6862 | Validation_acc: 42.3611 %\u001b[32m [repeated 4x across cluster]\u001b[0m\n"
     ]
    },
    {
     "name": "stderr",
     "output_type": "stream",
     "text": [
      " 70%|\u001b[34m███████   \u001b[0m| 7/10 [00:18<00:08,  2.68s/it]\u001b[32m [repeated 4x across cluster]\u001b[0m\n"
     ]
    },
    {
     "name": "stdout",
     "output_type": "stream",
     "text": [
      "\u001b[36m(launch_and_fit pid=2878)\u001b[0m \tTrain Epoch: 7 \tTrain_loss: 1.7675 | Train_acc: 36.2216 % | Validation_loss: 1.6840 | Validation_acc: 42.3611 %\u001b[32m [repeated 4x across cluster]\u001b[0m\n"
     ]
    },
    {
     "name": "stderr",
     "output_type": "stream",
     "text": [
      " 90%|\u001b[34m█████████ \u001b[0m| 9/10 [00:24<00:02,  2.69s/it]\u001b[32m [repeated 4x across cluster]\u001b[0m\n"
     ]
    },
    {
     "name": "stdout",
     "output_type": "stream",
     "text": [
      "\u001b[36m(launch_and_fit pid=2878)\u001b[0m \tTrain Epoch: 9 \tTrain_loss: 1.7995 | Train_acc: 33.7216 % | Validation_loss: 1.7071 | Validation_acc: 42.3611 %\u001b[32m [repeated 4x across cluster]\u001b[0m\n",
      "\u001b[36m(launch_and_fit pid=2878)\u001b[0m save graph in  results/FL/\n",
      "\u001b[36m(launch_and_fit pid=2878)\u001b[0m fc1.weight 4.76837158203125e-06\n",
      "\u001b[36m(launch_and_fit pid=2878)\u001b[0m fc1.bias 1.430511474609375e-06\n",
      "\u001b[36m(launch_and_fit pid=2878)\u001b[0m fc2.weight 1.1920928955078125e-06\n",
      "\u001b[36m(launch_and_fit pid=2878)\u001b[0m fc2.bias 9.5367431640625e-07\n",
      "\u001b[36m(launch_and_fit pid=2878)\u001b[0m qnn.weights 1.9073486328125e-06\n",
      "\u001b[36m(launch_and_fit pid=2877)\u001b[0m \tTrain Epoch: 10 \tTrain_loss: 1.7733 | Train_acc: 35.4375 % | Validation_loss: 1.7232 | Validation_acc: 36.1111 %\u001b[32m [repeated 3x across cluster]\u001b[0m\n",
      "\u001b[36m(launch_and_fit pid=2961)\u001b[0m Run with homomorphic encryption\n",
      "\u001b[36m(launch_and_fit pid=2877)\u001b[0m save graph in  results/FL/\n",
      "\u001b[36m(launch_and_fit pid=2877)\u001b[0m fc3.bias 3.5762786865234375e-06\u001b[32m [repeated 8x across cluster]\u001b[0m\n",
      "\u001b[36m(launch_and_fit pid=2877)\u001b[0m qnn.weights 9.5367431640625e-07\n",
      "\u001b[36m(launch_and_fit pid=2961)\u001b[0m [Client 7, round 4] fit, config: {'learning_rate': 0.003, 'batch_size': '16', 'server_round': 4, 'local_epochs': 10}\n"
     ]
    },
    {
     "name": "stderr",
     "output_type": "stream",
     "text": [
      "  0%|\u001b[34m          \u001b[0m| 0/10 [00:00<?, ?it/s]\n",
      "100%|\u001b[34m██████████\u001b[0m| 10/10 [00:27<00:00,  2.70s/it]\u001b[32m [repeated 3x across cluster]\u001b[0m\n"
     ]
    },
    {
     "name": "stdout",
     "output_type": "stream",
     "text": [
      "\u001b[36m(launch_and_fit pid=2959)\u001b[0m Updated model\n",
      "\u001b[36m(launch_and_fit pid=2959)\u001b[0m \tTrain Epoch: 1 \tTrain_loss: 1.8691 | Train_acc: 28.2670 % | Validation_loss: 1.8658 | Validation_acc: 20.8333 %\n"
     ]
    },
    {
     "name": "stderr",
     "output_type": "stream",
     "text": [
      "  0%|\u001b[34m          \u001b[0m| 0/10 [00:00<?, ?it/s]\n",
      " 20%|\u001b[34m██        \u001b[0m| 2/10 [00:05<00:20,  2.50s/it]\u001b[32m [repeated 3x across cluster]\u001b[0m\n"
     ]
    },
    {
     "name": "stdout",
     "output_type": "stream",
     "text": [
      "\u001b[36m(launch_and_fit pid=2959)\u001b[0m Run with homomorphic encryption\n",
      "\u001b[36m(launch_and_fit pid=2959)\u001b[0m [Client 5, round 4] fit, config: {'learning_rate': 0.003, 'batch_size': '16', 'server_round': 4, 'local_epochs': 10}\n",
      "\u001b[36m(launch_and_fit pid=2961)\u001b[0m Updated model\n",
      "\u001b[36m(launch_and_fit pid=2959)\u001b[0m \tTrain Epoch: 4 \tTrain_loss: 1.8261 | Train_acc: 29.3750 % | Validation_loss: 1.8387 | Validation_acc: 43.0556 %\u001b[32m [repeated 6x across cluster]\u001b[0m\n"
     ]
    },
    {
     "name": "stderr",
     "output_type": "stream",
     "text": [
      " 40%|\u001b[34m████      \u001b[0m| 4/10 [00:10<00:14,  2.49s/it]\u001b[32m [repeated 5x across cluster]\u001b[0m\n",
      " 70%|\u001b[34m███████   \u001b[0m| 7/10 [00:17<00:07,  2.46s/it]\u001b[32m [repeated 5x across cluster]\u001b[0m\n"
     ]
    },
    {
     "name": "stdout",
     "output_type": "stream",
     "text": [
      "\u001b[36m(launch_and_fit pid=2959)\u001b[0m \tTrain Epoch: 7 \tTrain_loss: 1.8230 | Train_acc: 29.3182 % | Validation_loss: 1.8201 | Validation_acc: 45.1389 %\u001b[32m [repeated 6x across cluster]\u001b[0m\n"
     ]
    },
    {
     "name": "stderr",
     "output_type": "stream",
     "text": [
      " 90%|\u001b[34m█████████ \u001b[0m| 9/10 [00:22<00:02,  2.54s/it]\u001b[32m [repeated 4x across cluster]\u001b[0m\n"
     ]
    },
    {
     "name": "stdout",
     "output_type": "stream",
     "text": [
      "\u001b[36m(launch_and_fit pid=2959)\u001b[0m \tTrain Epoch: 9 \tTrain_loss: 1.8107 | Train_acc: 30.4545 % | Validation_loss: 1.8257 | Validation_acc: 20.8333 %\u001b[32m [repeated 4x across cluster]\u001b[0m\n",
      "\u001b[36m(launch_and_fit pid=2959)\u001b[0m save graph in  results/FL/\n",
      "\u001b[36m(launch_and_fit pid=2959)\u001b[0m fc1.weight 4.76837158203125e-06\n",
      "\u001b[36m(launch_and_fit pid=2959)\u001b[0m fc1.bias 1.1920928955078125e-06\n",
      "\u001b[36m(launch_and_fit pid=2959)\u001b[0m fc2.weight 9.5367431640625e-07\n",
      "\u001b[36m(launch_and_fit pid=2959)\u001b[0m fc2.bias 9.5367431640625e-07\n",
      "\u001b[36m(launch_and_fit pid=2959)\u001b[0m qnn.weights 1.6689300537109375e-06\n",
      "\u001b[36m(launch_and_fit pid=2961)\u001b[0m \tTrain Epoch: 10 \tTrain_loss: 1.7830 | Train_acc: 31.3352 % | Validation_loss: 1.6693 | Validation_acc: 45.1389 %\u001b[32m [repeated 3x across cluster]\u001b[0m\n",
      "\u001b[36m(launch_and_fit pid=2961)\u001b[0m save graph in  results/FL/\n",
      "\u001b[36m(launch_and_fit pid=3041)\u001b[0m Run with homomorphic encryption\n",
      "\u001b[36m(launch_and_fit pid=2961)\u001b[0m fc3.bias 6.198883056640625e-06\u001b[32m [repeated 8x across cluster]\u001b[0m\n",
      "\u001b[36m(launch_and_fit pid=2961)\u001b[0m qnn.weights 1.430511474609375e-06\n",
      "\u001b[36m(launch_and_fit pid=3041)\u001b[0m [Client 8, round 4] fit, config: {'learning_rate': 0.003, 'batch_size': '16', 'server_round': 4, 'local_epochs': 10}\n",
      "\u001b[36m(launch_and_fit pid=3041)\u001b[0m Updated model\n"
     ]
    },
    {
     "name": "stderr",
     "output_type": "stream",
     "text": [
      "  0%|\u001b[34m          \u001b[0m| 0/10 [00:00<?, ?it/s]\n",
      "100%|\u001b[34m██████████\u001b[0m| 10/10 [00:25<00:00,  2.52s/it]\u001b[32m [repeated 3x across cluster]\u001b[0m\n"
     ]
    },
    {
     "name": "stdout",
     "output_type": "stream",
     "text": [
      "\u001b[36m(launch_and_fit pid=3041)\u001b[0m \tTrain Epoch: 1 \tTrain_loss: 1.8208 | Train_acc: 29.4886 % | Validation_loss: 1.8346 | Validation_acc: 29.8611 %\n",
      "\u001b[36m(launch_and_fit pid=3066)\u001b[0m Run with homomorphic encryption\n",
      "\u001b[36m(launch_and_fit pid=3066)\u001b[0m [Client 0, round 4] fit, config: {'learning_rate': 0.003, 'batch_size': '16', 'server_round': 4, 'local_epochs': 10}\n",
      "\u001b[36m(launch_and_fit pid=3066)\u001b[0m Updated model\n"
     ]
    },
    {
     "name": "stderr",
     "output_type": "stream",
     "text": [
      "  0%|\u001b[34m          \u001b[0m| 0/10 [00:00<?, ?it/s]\n",
      " 20%|\u001b[34m██        \u001b[0m| 2/10 [00:05<00:20,  2.61s/it]\u001b[32m [repeated 3x across cluster]\u001b[0m\n"
     ]
    },
    {
     "name": "stdout",
     "output_type": "stream",
     "text": [
      "\u001b[36m(launch_and_fit pid=3041)\u001b[0m \tTrain Epoch: 3 \tTrain_loss: 1.7915 | Train_acc: 34.2045 % | Validation_loss: 1.8558 | Validation_acc: 22.9167 %\u001b[32m [repeated 4x across cluster]\u001b[0m\n"
     ]
    },
    {
     "name": "stderr",
     "output_type": "stream",
     "text": [
      " 40%|\u001b[34m████      \u001b[0m| 4/10 [00:10<00:15,  2.60s/it]\u001b[32m [repeated 4x across cluster]\u001b[0m\n"
     ]
    },
    {
     "name": "stdout",
     "output_type": "stream",
     "text": [
      "\u001b[36m(launch_and_fit pid=3041)\u001b[0m \tTrain Epoch: 5 \tTrain_loss: 1.7960 | Train_acc: 31.6477 % | Validation_loss: 1.8485 | Validation_acc: 20.8333 %\u001b[32m [repeated 4x across cluster]\u001b[0m\n"
     ]
    },
    {
     "name": "stderr",
     "output_type": "stream",
     "text": [
      " 60%|\u001b[34m██████    \u001b[0m| 6/10 [00:16<00:10,  2.73s/it]\u001b[32m [repeated 4x across cluster]\u001b[0m\n"
     ]
    },
    {
     "name": "stdout",
     "output_type": "stream",
     "text": [
      "\u001b[36m(launch_and_fit pid=3041)\u001b[0m \tTrain Epoch: 7 \tTrain_loss: 1.7809 | Train_acc: 32.7273 % | Validation_loss: 1.8542 | Validation_acc: 31.9444 %\u001b[32m [repeated 4x across cluster]\u001b[0m\n"
     ]
    },
    {
     "name": "stderr",
     "output_type": "stream",
     "text": [
      " 80%|\u001b[34m████████  \u001b[0m| 8/10 [00:21<00:05,  2.67s/it]\u001b[32m [repeated 4x across cluster]\u001b[0m\n"
     ]
    },
    {
     "name": "stdout",
     "output_type": "stream",
     "text": [
      "\u001b[36m(launch_and_fit pid=3041)\u001b[0m \tTrain Epoch: 9 \tTrain_loss: 1.7540 | Train_acc: 35.4261 % | Validation_loss: 1.8433 | Validation_acc: 20.8333 %\u001b[32m [repeated 4x across cluster]\u001b[0m\n",
      "\u001b[36m(launch_and_fit pid=3041)\u001b[0m save graph in  results/FL/\n",
      "\u001b[36m(launch_and_fit pid=3041)\u001b[0m fc1.weight 5.7220458984375e-06\n",
      "\u001b[36m(launch_and_fit pid=3041)\u001b[0m fc1.bias 1.430511474609375e-06\n",
      "\u001b[36m(launch_and_fit pid=3041)\u001b[0m fc2.weight 1.430511474609375e-06\n",
      "\u001b[36m(launch_and_fit pid=3041)\u001b[0m fc2.bias 9.5367431640625e-07\n"
     ]
    },
    {
     "name": "stderr",
     "output_type": "stream",
     "text": [
      "100%|\u001b[34m██████████\u001b[0m| 10/10 [00:26<00:00,  2.65s/it]\u001b[32m [repeated 5x across cluster]\u001b[0m\n"
     ]
    },
    {
     "name": "stdout",
     "output_type": "stream",
     "text": [
      "\u001b[36m(launch_and_fit pid=3041)\u001b[0m qnn.weights 1.6689300537109375e-06\n",
      "\u001b[36m(launch_and_fit pid=3066)\u001b[0m \tTrain Epoch: 10 \tTrain_loss: 1.7361 | Train_acc: 34.9432 % | Validation_loss: 1.8315 | Validation_acc: 29.1667 %\u001b[32m [repeated 3x across cluster]\u001b[0m\n",
      "\u001b[36m(launch_and_fit pid=3123)\u001b[0m Run with homomorphic encryption\n",
      "\u001b[36m(launch_and_fit pid=3066)\u001b[0m save graph in  results/FL/\n",
      "\u001b[36m(launch_and_fit pid=3066)\u001b[0m fc3.bias 4.76837158203125e-06\u001b[32m [repeated 8x across cluster]\u001b[0m\n",
      "\u001b[36m(launch_and_fit pid=3066)\u001b[0m qnn.weights 9.5367431640625e-07\n",
      "\u001b[36m(launch_and_fit pid=3123)\u001b[0m [Client 3, round 4] fit, config: {'learning_rate': 0.003, 'batch_size': '16', 'server_round': 4, 'local_epochs': 10}\n",
      "\u001b[36m(launch_and_fit pid=3123)\u001b[0m Updated model\n"
     ]
    },
    {
     "name": "stderr",
     "output_type": "stream",
     "text": [
      "  0%|\u001b[34m          \u001b[0m| 0/10 [00:00<?, ?it/s]\n"
     ]
    },
    {
     "name": "stdout",
     "output_type": "stream",
     "text": [
      "\u001b[36m(launch_and_fit pid=3123)\u001b[0m \tTrain Epoch: 1 \tTrain_loss: 1.8198 | Train_acc: 30.1136 % | Validation_loss: 1.7608 | Validation_acc: 31.9444 %\n"
     ]
    },
    {
     "name": "stderr",
     "output_type": "stream",
     "text": [
      " 10%|\u001b[34m█         \u001b[0m| 1/10 [00:02<00:25,  2.85s/it]\n"
     ]
    },
    {
     "name": "stdout",
     "output_type": "stream",
     "text": [
      "\u001b[36m(launch_and_fit pid=3125)\u001b[0m Run with homomorphic encryption\n",
      "\u001b[36m(launch_and_fit pid=3125)\u001b[0m [Client 2, round 4] fit, config: {'learning_rate': 0.003, 'batch_size': '16', 'server_round': 4, 'local_epochs': 10}\n",
      "\u001b[36m(launch_and_fit pid=3125)\u001b[0m Updated model\n"
     ]
    },
    {
     "name": "stderr",
     "output_type": "stream",
     "text": [
      "  0%|\u001b[34m          \u001b[0m| 0/10 [00:00<?, ?it/s]\n"
     ]
    },
    {
     "name": "stdout",
     "output_type": "stream",
     "text": [
      "\u001b[36m(launch_and_fit pid=3123)\u001b[0m \tTrain Epoch: 3 \tTrain_loss: 1.7938 | Train_acc: 30.4545 % | Validation_loss: 1.7688 | Validation_acc: 31.9444 %\u001b[32m [repeated 4x across cluster]\u001b[0m\n"
     ]
    },
    {
     "name": "stderr",
     "output_type": "stream",
     "text": [
      " 30%|\u001b[34m███       \u001b[0m| 3/10 [00:08<00:18,  2.66s/it]\u001b[32m [repeated 4x across cluster]\u001b[0m\n"
     ]
    },
    {
     "name": "stdout",
     "output_type": "stream",
     "text": [
      "\u001b[36m(launch_and_fit pid=3123)\u001b[0m \tTrain Epoch: 5 \tTrain_loss: 1.8001 | Train_acc: 31.8182 % | Validation_loss: 1.7894 | Validation_acc: 31.9444 %\u001b[32m [repeated 4x across cluster]\u001b[0m\n"
     ]
    },
    {
     "name": "stderr",
     "output_type": "stream",
     "text": [
      " 50%|\u001b[34m█████     \u001b[0m| 5/10 [00:13<00:13,  2.63s/it]\u001b[32m [repeated 4x across cluster]\u001b[0m\n"
     ]
    },
    {
     "name": "stdout",
     "output_type": "stream",
     "text": [
      "\u001b[36m(launch_and_fit pid=3123)\u001b[0m \tTrain Epoch: 7 \tTrain_loss: 1.7752 | Train_acc: 32.2727 % | Validation_loss: 1.7850 | Validation_acc: 36.1111 %\u001b[32m [repeated 4x across cluster]\u001b[0m\n"
     ]
    },
    {
     "name": "stderr",
     "output_type": "stream",
     "text": [
      " 70%|\u001b[34m███████   \u001b[0m| 7/10 [00:18<00:07,  2.62s/it]\u001b[32m [repeated 4x across cluster]\u001b[0m\n"
     ]
    },
    {
     "name": "stdout",
     "output_type": "stream",
     "text": [
      "\u001b[36m(launch_and_fit pid=3123)\u001b[0m \tTrain Epoch: 9 \tTrain_loss: 1.7739 | Train_acc: 33.3807 % | Validation_loss: 1.7975 | Validation_acc: 27.7778 %\u001b[32m [repeated 4x across cluster]\u001b[0m\n"
     ]
    },
    {
     "name": "stderr",
     "output_type": "stream",
     "text": [
      " 90%|\u001b[34m█████████ \u001b[0m| 9/10 [00:23<00:02,  2.65s/it]\u001b[32m [repeated 4x across cluster]\u001b[0m\n"
     ]
    },
    {
     "name": "stdout",
     "output_type": "stream",
     "text": [
      "\u001b[36m(launch_and_fit pid=3123)\u001b[0m save graph in  results/FL/\n",
      "\u001b[36m(launch_and_fit pid=3123)\u001b[0m fc1.weight 5.245208740234375e-06\n",
      "\u001b[36m(launch_and_fit pid=3123)\u001b[0m fc1.bias 1.1920928955078125e-06\n",
      "\u001b[36m(launch_and_fit pid=3123)\u001b[0m fc2.weight 8.821487426757812e-06\n",
      "\u001b[36m(launch_and_fit pid=3123)\u001b[0m fc2.bias 9.5367431640625e-07\n",
      "\u001b[36m(launch_and_fit pid=3123)\u001b[0m qnn.weights 1.6689300537109375e-06\n",
      "\u001b[36m(launch_and_fit pid=3125)\u001b[0m \tTrain Epoch: 10 \tTrain_loss: 1.7401 | Train_acc: 37.7557 % | Validation_loss: 1.8136 | Validation_acc: 23.6111 %\u001b[32m [repeated 3x across cluster]\u001b[0m\n",
      "\u001b[36m(launch_and_fit pid=3125)\u001b[0m save graph in  results/FL/\n",
      "\u001b[36m(launch_and_fit pid=3205)\u001b[0m Run with homomorphic encryption\n",
      "\u001b[36m(launch_and_fit pid=3125)\u001b[0m fc3.bias 4.5299530029296875e-06\u001b[32m [repeated 8x across cluster]\u001b[0m\n",
      "\u001b[36m(launch_and_fit pid=3125)\u001b[0m qnn.weights 1.430511474609375e-06\n",
      "\u001b[36m(launch_and_fit pid=3205)\u001b[0m [Client 6, round 4] fit, config: {'learning_rate': 0.003, 'batch_size': '16', 'server_round': 4, 'local_epochs': 10}\n",
      "\u001b[36m(launch_and_fit pid=3205)\u001b[0m Updated model\n"
     ]
    },
    {
     "name": "stderr",
     "output_type": "stream",
     "text": [
      "  0%|\u001b[34m          \u001b[0m| 0/10 [00:00<?, ?it/s]\n",
      "100%|\u001b[34m██████████\u001b[0m| 10/10 [00:26<00:00,  2.61s/it]\u001b[32m [repeated 3x across cluster]\u001b[0m\n"
     ]
    },
    {
     "name": "stdout",
     "output_type": "stream",
     "text": [
      "\u001b[36m(launch_and_fit pid=3205)\u001b[0m \tTrain Epoch: 1 \tTrain_loss: 1.7554 | Train_acc: 37.1307 % | Validation_loss: 1.9726 | Validation_acc: 14.5833 %\n",
      "\u001b[36m(launch_and_fit pid=3230)\u001b[0m Run with homomorphic encryption\n",
      "\u001b[36m(launch_and_fit pid=3230)\u001b[0m [Client 1, round 4] fit, config: {'learning_rate': 0.003, 'batch_size': '16', 'server_round': 4, 'local_epochs': 10}\n",
      "\u001b[36m(launch_and_fit pid=3230)\u001b[0m Updated model\n"
     ]
    },
    {
     "name": "stderr",
     "output_type": "stream",
     "text": [
      "  0%|\u001b[34m          \u001b[0m| 0/10 [00:00<?, ?it/s]\n",
      " 20%|\u001b[34m██        \u001b[0m| 2/10 [00:05<00:21,  2.69s/it]\u001b[32m [repeated 3x across cluster]\u001b[0m\n"
     ]
    },
    {
     "name": "stdout",
     "output_type": "stream",
     "text": [
      "\u001b[36m(launch_and_fit pid=3205)\u001b[0m \tTrain Epoch: 3 \tTrain_loss: 1.7371 | Train_acc: 38.0398 % | Validation_loss: 1.9395 | Validation_acc: 16.6667 %\u001b[32m [repeated 4x across cluster]\u001b[0m\n"
     ]
    },
    {
     "name": "stderr",
     "output_type": "stream",
     "text": [
      " 40%|\u001b[34m████      \u001b[0m| 4/10 [00:10<00:15,  2.63s/it]\u001b[32m [repeated 4x across cluster]\u001b[0m\n"
     ]
    },
    {
     "name": "stdout",
     "output_type": "stream",
     "text": [
      "\u001b[36m(launch_and_fit pid=3205)\u001b[0m \tTrain Epoch: 5 \tTrain_loss: 1.7259 | Train_acc: 40.7386 % | Validation_loss: 1.9314 | Validation_acc: 16.6667 %\u001b[32m [repeated 4x across cluster]\u001b[0m\n"
     ]
    },
    {
     "name": "stderr",
     "output_type": "stream",
     "text": [
      " 60%|\u001b[34m██████    \u001b[0m| 6/10 [00:15<00:10,  2.63s/it]\u001b[32m [repeated 4x across cluster]\u001b[0m\n"
     ]
    },
    {
     "name": "stdout",
     "output_type": "stream",
     "text": [
      "\u001b[36m(launch_and_fit pid=3205)\u001b[0m \tTrain Epoch: 7 \tTrain_loss: 1.7174 | Train_acc: 40.7386 % | Validation_loss: 1.9533 | Validation_acc: 27.7778 %\u001b[32m [repeated 4x across cluster]\u001b[0m\n"
     ]
    },
    {
     "name": "stderr",
     "output_type": "stream",
     "text": [
      " 80%|\u001b[34m████████  \u001b[0m| 8/10 [00:21<00:05,  2.68s/it]\u001b[32m [repeated 4x across cluster]\u001b[0m\n"
     ]
    },
    {
     "name": "stdout",
     "output_type": "stream",
     "text": [
      "\u001b[36m(launch_and_fit pid=3205)\u001b[0m \tTrain Epoch: 9 \tTrain_loss: 1.6981 | Train_acc: 44.0057 % | Validation_loss: 1.9663 | Validation_acc: 27.7778 %\u001b[32m [repeated 4x across cluster]\u001b[0m\n",
      "\u001b[36m(launch_and_fit pid=3205)\u001b[0m save graph in  results/FL/\n"
     ]
    },
    {
     "name": "stderr",
     "output_type": "stream",
     "text": [
      "100%|\u001b[34m██████████\u001b[0m| 10/10 [00:26<00:00,  2.64s/it]\u001b[32m [repeated 4x across cluster]\u001b[0m\n"
     ]
    },
    {
     "name": "stdout",
     "output_type": "stream",
     "text": [
      "\u001b[36m(launch_and_fit pid=3205)\u001b[0m fc1.weight 4.76837158203125e-06\n",
      "\u001b[36m(launch_and_fit pid=3205)\u001b[0m fc1.bias 1.9073486328125e-06\n",
      "\u001b[36m(launch_and_fit pid=3205)\u001b[0m fc2.weight 2.384185791015625e-06\n",
      "\u001b[36m(launch_and_fit pid=3205)\u001b[0m fc2.bias 1.1920928955078125e-06\n",
      "\u001b[36m(launch_and_fit pid=3205)\u001b[0m qnn.weights 1.1920928955078125e-06\n",
      "\u001b[36m(launch_and_fit pid=3230)\u001b[0m \tTrain Epoch: 10 \tTrain_loss: 1.7806 | Train_acc: 33.0682 % | Validation_loss: 1.9991 | Validation_acc: 14.5833 %\u001b[32m [repeated 3x across cluster]\u001b[0m\n"
     ]
    },
    {
     "name": "stderr",
     "output_type": "stream",
     "text": [
      "DEBUG flwr 2024-07-22 09:36:01,795 | server.py:236 | fit_round 4 received 10 results and 0 failures\n"
     ]
    },
    {
     "name": "stdout",
     "output_type": "stream",
     "text": [
      "Saving round 4 aggregated_parameters...\n"
     ]
    },
    {
     "name": "stderr",
     "output_type": "stream",
     "text": [
      "DEBUG flwr 2024-07-22 09:36:22,437 | server.py:173 | evaluate_round 4: strategy sampled 10 clients (out of 10)\n"
     ]
    },
    {
     "name": "stdout",
     "output_type": "stream",
     "text": [
      "\u001b[36m(launch_and_evaluate pid=3296)\u001b[0m Run with homomorphic encryption\n",
      "\u001b[36m(launch_and_fit pid=3230)\u001b[0m save graph in  results/FL/\n",
      "\u001b[36m(launch_and_fit pid=3230)\u001b[0m fc3.bias 5.4836273193359375e-06\u001b[32m [repeated 8x across cluster]\u001b[0m\n",
      "\u001b[36m(launch_and_fit pid=3230)\u001b[0m qnn.weights 1.1920928955078125e-06\n",
      "\u001b[36m(launch_and_evaluate pid=3296)\u001b[0m [Client 0] evaluate, config: {}\n",
      "\u001b[36m(launch_and_evaluate pid=3296)\u001b[0m Updated model\n",
      "\u001b[36m(launch_and_evaluate pid=3376)\u001b[0m Run with homomorphic encryption\u001b[32m [repeated 2x across cluster]\u001b[0m\n",
      "\u001b[36m(launch_and_evaluate pid=3297)\u001b[0m [Client 3] evaluate, config: {}\n",
      "\u001b[36m(launch_and_evaluate pid=3297)\u001b[0m Updated model\n",
      "\u001b[36m(launch_and_evaluate pid=3376)\u001b[0m [Client 2] evaluate, config: {}\n",
      "\u001b[36m(launch_and_evaluate pid=3376)\u001b[0m Updated model\n",
      "\u001b[36m(launch_and_evaluate pid=3453)\u001b[0m Run with homomorphic encryption\u001b[32m [repeated 2x across cluster]\u001b[0m\n",
      "\u001b[36m(launch_and_evaluate pid=3377)\u001b[0m [Client 1] evaluate, config: {}\n",
      "\u001b[36m(launch_and_evaluate pid=3377)\u001b[0m Updated model\n",
      "\u001b[36m(launch_and_evaluate pid=3453)\u001b[0m [Client 6] evaluate, config: {}\n",
      "\u001b[36m(launch_and_evaluate pid=3453)\u001b[0m Updated model\n"
     ]
    },
    {
     "name": "stderr",
     "output_type": "stream",
     "text": [
      "\u001b[36m(launch_and_evaluate pid=3455)\u001b[0m /opt/conda/lib/python3.10/site-packages/sklearn/metrics/_ranking.py:1029: UndefinedMetricWarning: No positive samples in y_true, true positive value should be meaningless\n",
      "\u001b[36m(launch_and_evaluate pid=3455)\u001b[0m   warnings.warn(\n",
      "100%|\u001b[34m██████████\u001b[0m| 10/10 [00:26<00:00,  2.69s/it]\n"
     ]
    },
    {
     "name": "stdout",
     "output_type": "stream",
     "text": [
      "\u001b[36m(launch_and_evaluate pid=3531)\u001b[0m Run with homomorphic encryption\u001b[32m [repeated 2x across cluster]\u001b[0m\n",
      "\u001b[36m(launch_and_evaluate pid=3455)\u001b[0m [Client 4] evaluate, config: {}\n",
      "\u001b[36m(launch_and_evaluate pid=3455)\u001b[0m Updated model\n",
      "\u001b[36m(launch_and_evaluate pid=3531)\u001b[0m [Client 9] evaluate, config: {}\n",
      "\u001b[36m(launch_and_evaluate pid=3531)\u001b[0m Updated model\n"
     ]
    },
    {
     "name": "stderr",
     "output_type": "stream",
     "text": [
      "\u001b[36m(launch_and_evaluate pid=3531)\u001b[0m /opt/conda/lib/python3.10/site-packages/sklearn/metrics/_ranking.py:1029: UndefinedMetricWarning: No positive samples in y_true, true positive value should be meaningless\n",
      "\u001b[36m(launch_and_evaluate pid=3531)\u001b[0m   warnings.warn(\n"
     ]
    },
    {
     "name": "stdout",
     "output_type": "stream",
     "text": [
      "\u001b[36m(launch_and_evaluate pid=3609)\u001b[0m Run with homomorphic encryption\u001b[32m [repeated 2x across cluster]\u001b[0m\n",
      "\u001b[36m(launch_and_evaluate pid=3533)\u001b[0m [Client 5] evaluate, config: {}\n",
      "\u001b[36m(launch_and_evaluate pid=3533)\u001b[0m Updated model\n",
      "\u001b[36m(launch_and_evaluate pid=3609)\u001b[0m [Client 8] evaluate, config: {}\n",
      "\u001b[36m(launch_and_evaluate pid=3609)\u001b[0m Updated model\n"
     ]
    },
    {
     "name": "stderr",
     "output_type": "stream",
     "text": [
      "\u001b[36m(launch_and_evaluate pid=3609)\u001b[0m /opt/conda/lib/python3.10/site-packages/sklearn/metrics/_ranking.py:1029: UndefinedMetricWarning: No positive samples in y_true, true positive value should be meaningless\n",
      "\u001b[36m(launch_and_evaluate pid=3609)\u001b[0m   warnings.warn(\n",
      "DEBUG flwr 2024-07-22 09:37:29,225 | server.py:187 | evaluate_round 4 received 10 results and 0 failures\n",
      "DEBUG flwr 2024-07-22 09:37:29,226 | server.py:222 | fit_round 5: strategy sampled 10 clients (out of 10)\n"
     ]
    },
    {
     "name": "stdout",
     "output_type": "stream",
     "text": [
      "\u001b[36m(launch_and_fit pid=3697)\u001b[0m Run with homomorphic encryption\u001b[32m [repeated 2x across cluster]\u001b[0m\n",
      "\u001b[36m(launch_and_evaluate pid=3611)\u001b[0m [Client 7] evaluate, config: {}\n",
      "\u001b[36m(launch_and_evaluate pid=3611)\u001b[0m Updated model\n",
      "\u001b[36m(launch_and_fit pid=3697)\u001b[0m [Client 5, round 5] fit, config: {'learning_rate': 0.003, 'batch_size': '16', 'server_round': 5, 'local_epochs': 10}\n"
     ]
    },
    {
     "name": "stderr",
     "output_type": "stream",
     "text": [
      "  0%|\u001b[34m          \u001b[0m| 0/10 [00:00<?, ?it/s]\n"
     ]
    },
    {
     "name": "stdout",
     "output_type": "stream",
     "text": [
      "\u001b[36m(launch_and_fit pid=3697)\u001b[0m Updated model\n"
     ]
    },
    {
     "name": "stderr",
     "output_type": "stream",
     "text": [
      " 10%|\u001b[34m█         \u001b[0m| 1/10 [00:02<00:24,  2.75s/it]\n"
     ]
    },
    {
     "name": "stdout",
     "output_type": "stream",
     "text": [
      "\u001b[36m(launch_and_fit pid=3697)\u001b[0m \tTrain Epoch: 1 \tTrain_loss: 1.8219 | Train_acc: 29.8011 % | Validation_loss: 1.8184 | Validation_acc: 45.1389 %\n"
     ]
    },
    {
     "name": "stderr",
     "output_type": "stream",
     "text": [
      "  0%|\u001b[34m          \u001b[0m| 0/10 [00:00<?, ?it/s]\n"
     ]
    },
    {
     "name": "stdout",
     "output_type": "stream",
     "text": [
      "\u001b[36m(launch_and_fit pid=3696)\u001b[0m Run with homomorphic encryption\n",
      "\u001b[36m(launch_and_fit pid=3696)\u001b[0m [Client 8, round 5] fit, config: {'learning_rate': 0.003, 'batch_size': '16', 'server_round': 5, 'local_epochs': 10}\n",
      "\u001b[36m(launch_and_fit pid=3696)\u001b[0m Updated model\n"
     ]
    },
    {
     "name": "stderr",
     "output_type": "stream",
     "text": [
      " 30%|\u001b[34m███       \u001b[0m| 3/10 [00:08<00:18,  2.70s/it]\u001b[32m [repeated 4x across cluster]\u001b[0m\n"
     ]
    },
    {
     "name": "stdout",
     "output_type": "stream",
     "text": [
      "\u001b[36m(launch_and_fit pid=3697)\u001b[0m \tTrain Epoch: 3 \tTrain_loss: 1.8057 | Train_acc: 29.1761 % | Validation_loss: 1.7810 | Validation_acc: 43.0556 %\u001b[32m [repeated 4x across cluster]\u001b[0m\n"
     ]
    },
    {
     "name": "stderr",
     "output_type": "stream",
     "text": [
      " 50%|\u001b[34m█████     \u001b[0m| 5/10 [00:13<00:13,  2.68s/it]\u001b[32m [repeated 4x across cluster]\u001b[0m\n"
     ]
    },
    {
     "name": "stdout",
     "output_type": "stream",
     "text": [
      "\u001b[36m(launch_and_fit pid=3697)\u001b[0m \tTrain Epoch: 5 \tTrain_loss: 1.7931 | Train_acc: 32.1591 % | Validation_loss: 1.7586 | Validation_acc: 45.1389 %\u001b[32m [repeated 4x across cluster]\u001b[0m\n"
     ]
    },
    {
     "name": "stderr",
     "output_type": "stream",
     "text": [
      " 70%|\u001b[34m███████   \u001b[0m| 7/10 [00:18<00:07,  2.65s/it]\u001b[32m [repeated 4x across cluster]\u001b[0m\n"
     ]
    },
    {
     "name": "stdout",
     "output_type": "stream",
     "text": [
      "\u001b[36m(launch_and_fit pid=3697)\u001b[0m \tTrain Epoch: 7 \tTrain_loss: 1.7796 | Train_acc: 31.8466 % | Validation_loss: 1.7547 | Validation_acc: 20.8333 %\u001b[32m [repeated 4x across cluster]\u001b[0m\n"
     ]
    },
    {
     "name": "stderr",
     "output_type": "stream",
     "text": [
      " 90%|\u001b[34m█████████ \u001b[0m| 9/10 [00:23<00:02,  2.63s/it]\u001b[32m [repeated 4x across cluster]\u001b[0m\n"
     ]
    },
    {
     "name": "stdout",
     "output_type": "stream",
     "text": [
      "\u001b[36m(launch_and_fit pid=3697)\u001b[0m \tTrain Epoch: 9 \tTrain_loss: 1.7969 | Train_acc: 31.0227 % | Validation_loss: 1.7703 | Validation_acc: 34.0278 %\u001b[32m [repeated 4x across cluster]\u001b[0m\n",
      "\u001b[36m(launch_and_fit pid=3697)\u001b[0m save graph in  results/FL/\n",
      "\u001b[36m(launch_and_fit pid=3697)\u001b[0m fc1.weight 4.5299530029296875e-06\n",
      "\u001b[36m(launch_and_fit pid=3697)\u001b[0m fc1.bias 9.5367431640625e-07\n",
      "\u001b[36m(launch_and_fit pid=3697)\u001b[0m fc2.weight 9.5367431640625e-07\n",
      "\u001b[36m(launch_and_fit pid=3697)\u001b[0m fc2.bias 1.1920928955078125e-06\n",
      "\u001b[36m(launch_and_fit pid=3697)\u001b[0m qnn.weights 1.1920928955078125e-06\n",
      "\u001b[36m(launch_and_fit pid=3696)\u001b[0m \tTrain Epoch: 10 \tTrain_loss: 1.7269 | Train_acc: 36.6477 % | Validation_loss: 1.8266 | Validation_acc: 34.0278 %\u001b[32m [repeated 3x across cluster]\u001b[0m\n",
      "\u001b[36m(launch_and_fit pid=3696)\u001b[0m save graph in  results/FL/\n",
      "\u001b[36m(launch_and_fit pid=3778)\u001b[0m Run with homomorphic encryption\n",
      "\u001b[36m(launch_and_fit pid=3696)\u001b[0m fc3.bias 4.0531158447265625e-06\u001b[32m [repeated 8x across cluster]\u001b[0m\n",
      "\u001b[36m(launch_and_fit pid=3696)\u001b[0m qnn.weights 9.5367431640625e-07\n",
      "\u001b[36m(launch_and_fit pid=3778)\u001b[0m [Client 7, round 5] fit, config: {'learning_rate': 0.003, 'batch_size': '16', 'server_round': 5, 'local_epochs': 10}\n",
      "\u001b[36m(launch_and_fit pid=3778)\u001b[0m Updated model\n"
     ]
    },
    {
     "name": "stderr",
     "output_type": "stream",
     "text": [
      "  0%|\u001b[34m          \u001b[0m| 0/10 [00:00<?, ?it/s]\n",
      "100%|\u001b[34m██████████\u001b[0m| 10/10 [00:27<00:00,  2.78s/it]\u001b[32m [repeated 3x across cluster]\u001b[0m\n"
     ]
    },
    {
     "name": "stdout",
     "output_type": "stream",
     "text": [
      "\u001b[36m(launch_and_fit pid=3778)\u001b[0m \tTrain Epoch: 1 \tTrain_loss: 1.8331 | Train_acc: 26.6761 % | Validation_loss: 1.6231 | Validation_acc: 45.1389 %\n",
      "\u001b[36m(launch_and_fit pid=3803)\u001b[0m Run with homomorphic encryption\n",
      "\u001b[36m(launch_and_fit pid=3803)\u001b[0m [Client 4, round 5] fit, config: {'learning_rate': 0.003, 'batch_size': '16', 'server_round': 5, 'local_epochs': 10}\n",
      "\u001b[36m(launch_and_fit pid=3803)\u001b[0m Updated model\n"
     ]
    },
    {
     "name": "stderr",
     "output_type": "stream",
     "text": [
      "  0%|\u001b[34m          \u001b[0m| 0/10 [00:00<?, ?it/s]\n",
      " 20%|\u001b[34m██        \u001b[0m| 2/10 [00:05<00:21,  2.68s/it]\u001b[32m [repeated 3x across cluster]\u001b[0m\n"
     ]
    },
    {
     "name": "stdout",
     "output_type": "stream",
     "text": [
      "\u001b[36m(launch_and_fit pid=3778)\u001b[0m \tTrain Epoch: 3 \tTrain_loss: 1.7964 | Train_acc: 33.6932 % | Validation_loss: 1.6392 | Validation_acc: 47.2222 %\u001b[32m [repeated 4x across cluster]\u001b[0m\n"
     ]
    },
    {
     "name": "stderr",
     "output_type": "stream",
     "text": [
      " 40%|\u001b[34m████      \u001b[0m| 4/10 [00:10<00:16,  2.71s/it]\u001b[32m [repeated 4x across cluster]\u001b[0m\n"
     ]
    },
    {
     "name": "stdout",
     "output_type": "stream",
     "text": [
      "\u001b[36m(launch_and_fit pid=3778)\u001b[0m \tTrain Epoch: 5 \tTrain_loss: 1.7890 | Train_acc: 32.4148 % | Validation_loss: 1.6139 | Validation_acc: 49.3056 %\u001b[32m [repeated 4x across cluster]\u001b[0m\n"
     ]
    },
    {
     "name": "stderr",
     "output_type": "stream",
     "text": [
      " 60%|\u001b[34m██████    \u001b[0m| 6/10 [00:16<00:10,  2.65s/it]\u001b[32m [repeated 4x across cluster]\u001b[0m\n"
     ]
    },
    {
     "name": "stdout",
     "output_type": "stream",
     "text": [
      "\u001b[36m(launch_and_fit pid=3778)\u001b[0m \tTrain Epoch: 7 \tTrain_loss: 1.7892 | Train_acc: 29.1761 % | Validation_loss: 1.6268 | Validation_acc: 51.3889 %\u001b[32m [repeated 4x across cluster]\u001b[0m\n"
     ]
    },
    {
     "name": "stderr",
     "output_type": "stream",
     "text": [
      " 80%|\u001b[34m████████  \u001b[0m| 8/10 [00:21<00:05,  2.60s/it]\u001b[32m [repeated 4x across cluster]\u001b[0m\n"
     ]
    },
    {
     "name": "stdout",
     "output_type": "stream",
     "text": [
      "\u001b[36m(launch_and_fit pid=3778)\u001b[0m \tTrain Epoch: 9 \tTrain_loss: 1.7572 | Train_acc: 33.7216 % | Validation_loss: 1.6498 | Validation_acc: 47.2222 %\u001b[32m [repeated 4x across cluster]\u001b[0m\n",
      "\u001b[36m(launch_and_fit pid=3778)\u001b[0m save graph in  results/FL/\n"
     ]
    },
    {
     "name": "stderr",
     "output_type": "stream",
     "text": [
      "100%|\u001b[34m██████████\u001b[0m| 10/10 [00:26<00:00,  2.67s/it]\u001b[32m [repeated 4x across cluster]\u001b[0m\n"
     ]
    },
    {
     "name": "stdout",
     "output_type": "stream",
     "text": [
      "\u001b[36m(launch_and_fit pid=3778)\u001b[0m fc1.weight 5.4836273193359375e-06\n",
      "\u001b[36m(launch_and_fit pid=3778)\u001b[0m fc1.bias 1.6689300537109375e-06\n",
      "\u001b[36m(launch_and_fit pid=3778)\u001b[0m fc2.weight 1.1920928955078125e-06\n",
      "\u001b[36m(launch_and_fit pid=3778)\u001b[0m fc2.bias 9.5367431640625e-07\n",
      "\u001b[36m(launch_and_fit pid=3803)\u001b[0m \tTrain Epoch: 10 \tTrain_loss: 1.7456 | Train_acc: 33.5511 % | Validation_loss: 1.6976 | Validation_acc: 40.2778 %\u001b[32m [repeated 3x across cluster]\u001b[0m\n",
      "\u001b[36m(launch_and_fit pid=3778)\u001b[0m qnn.weights 1.6689300537109375e-06\n",
      "\u001b[36m(launch_and_fit pid=3803)\u001b[0m save graph in  results/FL/\n",
      "\u001b[36m(launch_and_fit pid=3860)\u001b[0m Run with homomorphic encryption\n",
      "\u001b[36m(launch_and_fit pid=3803)\u001b[0m fc3.bias 4.291534423828125e-06\u001b[32m [repeated 8x across cluster]\u001b[0m\n",
      "\u001b[36m(launch_and_fit pid=3803)\u001b[0m qnn.weights 9.5367431640625e-07\n",
      "\u001b[36m(launch_and_fit pid=3860)\u001b[0m [Client 0, round 5] fit, config: {'learning_rate': 0.003, 'batch_size': '16', 'server_round': 5, 'local_epochs': 10}\n"
     ]
    },
    {
     "name": "stderr",
     "output_type": "stream",
     "text": [
      "  0%|\u001b[34m          \u001b[0m| 0/10 [00:00<?, ?it/s]\n",
      "100%|\u001b[34m██████████\u001b[0m| 10/10 [00:26<00:00,  2.68s/it]\n"
     ]
    },
    {
     "name": "stdout",
     "output_type": "stream",
     "text": [
      "\u001b[36m(launch_and_fit pid=3860)\u001b[0m Updated model\n"
     ]
    },
    {
     "name": "stderr",
     "output_type": "stream",
     "text": [
      " 10%|\u001b[34m█         \u001b[0m| 1/10 [00:03<00:27,  3.00s/it]\n"
     ]
    },
    {
     "name": "stdout",
     "output_type": "stream",
     "text": [
      "\u001b[36m(launch_and_fit pid=3860)\u001b[0m \tTrain Epoch: 1 \tTrain_loss: 1.7643 | Train_acc: 34.1761 % | Validation_loss: 1.8587 | Validation_acc: 33.3333 %\n",
      "\u001b[36m(launch_and_fit pid=3885)\u001b[0m Run with homomorphic encryption\n"
     ]
    },
    {
     "name": "stderr",
     "output_type": "stream",
     "text": [
      "  0%|\u001b[34m          \u001b[0m| 0/10 [00:00<?, ?it/s]\n"
     ]
    },
    {
     "name": "stdout",
     "output_type": "stream",
     "text": [
      "\u001b[36m(launch_and_fit pid=3885)\u001b[0m [Client 6, round 5] fit, config: {'learning_rate': 0.003, 'batch_size': '16', 'server_round': 5, 'local_epochs': 10}\n",
      "\u001b[36m(launch_and_fit pid=3885)\u001b[0m Updated model\n"
     ]
    },
    {
     "name": "stderr",
     "output_type": "stream",
     "text": [
      " 30%|\u001b[34m███       \u001b[0m| 3/10 [00:08<00:20,  2.92s/it]\u001b[32m [repeated 4x across cluster]\u001b[0m\n"
     ]
    },
    {
     "name": "stdout",
     "output_type": "stream",
     "text": [
      "\u001b[36m(launch_and_fit pid=3860)\u001b[0m \tTrain Epoch: 3 \tTrain_loss: 1.7422 | Train_acc: 34.8011 % | Validation_loss: 1.8674 | Validation_acc: 29.1667 %\u001b[32m [repeated 4x across cluster]\u001b[0m\n"
     ]
    },
    {
     "name": "stderr",
     "output_type": "stream",
     "text": [
      " 50%|\u001b[34m█████     \u001b[0m| 5/10 [00:13<00:13,  2.72s/it]\u001b[32m [repeated 4x across cluster]\u001b[0m\n"
     ]
    },
    {
     "name": "stdout",
     "output_type": "stream",
     "text": [
      "\u001b[36m(launch_and_fit pid=3860)\u001b[0m \tTrain Epoch: 5 \tTrain_loss: 1.7368 | Train_acc: 34.1477 % | Validation_loss: 1.8561 | Validation_acc: 31.2500 %\u001b[32m [repeated 4x across cluster]\u001b[0m\n"
     ]
    },
    {
     "name": "stderr",
     "output_type": "stream",
     "text": [
      " 70%|\u001b[34m███████   \u001b[0m| 7/10 [00:19<00:08,  2.72s/it]\u001b[32m [repeated 4x across cluster]\u001b[0m\n"
     ]
    },
    {
     "name": "stdout",
     "output_type": "stream",
     "text": [
      "\u001b[36m(launch_and_fit pid=3860)\u001b[0m \tTrain Epoch: 7 \tTrain_loss: 1.7253 | Train_acc: 36.7045 % | Validation_loss: 1.8756 | Validation_acc: 29.1667 %\u001b[32m [repeated 4x across cluster]\u001b[0m\n"
     ]
    },
    {
     "name": "stderr",
     "output_type": "stream",
     "text": [
      " 90%|\u001b[34m█████████ \u001b[0m| 9/10 [00:24<00:02,  2.68s/it]\u001b[32m [repeated 4x across cluster]\u001b[0m\n"
     ]
    },
    {
     "name": "stdout",
     "output_type": "stream",
     "text": [
      "\u001b[36m(launch_and_fit pid=3860)\u001b[0m \tTrain Epoch: 9 \tTrain_loss: 1.7052 | Train_acc: 40.8807 % | Validation_loss: 1.8651 | Validation_acc: 29.1667 %\u001b[32m [repeated 4x across cluster]\u001b[0m\n",
      "\u001b[36m(launch_and_fit pid=3860)\u001b[0m save graph in  results/FL/\n",
      "\u001b[36m(launch_and_fit pid=3860)\u001b[0m fc1.weight 5.9604644775390625e-06\n",
      "\u001b[36m(launch_and_fit pid=3860)\u001b[0m fc1.bias 1.1920928955078125e-06\n",
      "\u001b[36m(launch_and_fit pid=3860)\u001b[0m fc2.weight 1.1920928955078125e-06\n",
      "\u001b[36m(launch_and_fit pid=3860)\u001b[0m fc2.bias 1.1920928955078125e-06\n",
      "\u001b[36m(launch_and_fit pid=3860)\u001b[0m qnn.weights 1.1920928955078125e-06\n",
      "\u001b[36m(launch_and_fit pid=3885)\u001b[0m \tTrain Epoch: 10 \tTrain_loss: 1.6994 | Train_acc: 42.1307 % | Validation_loss: 1.9661 | Validation_acc: 27.7778 %\u001b[32m [repeated 3x across cluster]\u001b[0m\n",
      "\u001b[36m(launch_and_fit pid=3885)\u001b[0m save graph in  results/FL/\n",
      "\u001b[36m(launch_and_fit pid=3885)\u001b[0m fc3.bias 5.245208740234375e-06\u001b[32m [repeated 8x across cluster]\u001b[0m\n",
      "\u001b[36m(launch_and_fit pid=3942)\u001b[0m Run with homomorphic encryption\n",
      "\u001b[36m(launch_and_fit pid=3885)\u001b[0m qnn.weights 1.430511474609375e-06\n",
      "\u001b[36m(launch_and_fit pid=3942)\u001b[0m [Client 1, round 5] fit, config: {'learning_rate': 0.003, 'batch_size': '16', 'server_round': 5, 'local_epochs': 10}\n",
      "\u001b[36m(launch_and_fit pid=3942)\u001b[0m Updated model\n"
     ]
    },
    {
     "name": "stderr",
     "output_type": "stream",
     "text": [
      "  0%|\u001b[34m          \u001b[0m| 0/10 [00:00<?, ?it/s]\n",
      "100%|\u001b[34m██████████\u001b[0m| 10/10 [00:27<00:00,  2.77s/it]\u001b[32m [repeated 3x across cluster]\u001b[0m\n"
     ]
    },
    {
     "name": "stdout",
     "output_type": "stream",
     "text": [
      "\u001b[36m(launch_and_fit pid=3942)\u001b[0m \tTrain Epoch: 1 \tTrain_loss: 1.8122 | Train_acc: 30.2557 % | Validation_loss: 1.8628 | Validation_acc: 34.0278 %\n",
      "\u001b[36m(launch_and_fit pid=3967)\u001b[0m Run with homomorphic encryption\n"
     ]
    },
    {
     "name": "stderr",
     "output_type": "stream",
     "text": [
      "  0%|\u001b[34m          \u001b[0m| 0/10 [00:00<?, ?it/s]\n",
      " 20%|\u001b[34m██        \u001b[0m| 2/10 [00:05<00:20,  2.62s/it]\u001b[32m [repeated 3x across cluster]\u001b[0m\n"
     ]
    },
    {
     "name": "stdout",
     "output_type": "stream",
     "text": [
      "\u001b[36m(launch_and_fit pid=3967)\u001b[0m [Client 3, round 5] fit, config: {'learning_rate': 0.003, 'batch_size': '16', 'server_round': 5, 'local_epochs': 10}\n",
      "\u001b[36m(launch_and_fit pid=3967)\u001b[0m Updated model\n",
      "\u001b[36m(launch_and_fit pid=3942)\u001b[0m \tTrain Epoch: 3 \tTrain_loss: 1.7905 | Train_acc: 28.3807 % | Validation_loss: 1.9034 | Validation_acc: 22.9167 %\u001b[32m [repeated 4x across cluster]\u001b[0m\n"
     ]
    },
    {
     "name": "stderr",
     "output_type": "stream",
     "text": [
      " 40%|\u001b[34m████      \u001b[0m| 4/10 [00:10<00:15,  2.60s/it]\u001b[32m [repeated 4x across cluster]\u001b[0m\n"
     ]
    },
    {
     "name": "stdout",
     "output_type": "stream",
     "text": [
      "\u001b[36m(launch_and_fit pid=3942)\u001b[0m \tTrain Epoch: 5 \tTrain_loss: 1.7711 | Train_acc: 29.3182 % | Validation_loss: 1.8913 | Validation_acc: 18.7500 %\u001b[32m [repeated 4x across cluster]\u001b[0m\n"
     ]
    },
    {
     "name": "stderr",
     "output_type": "stream",
     "text": [
      " 60%|\u001b[34m██████    \u001b[0m| 6/10 [00:15<00:10,  2.54s/it]\u001b[32m [repeated 4x across cluster]\u001b[0m\n"
     ]
    },
    {
     "name": "stdout",
     "output_type": "stream",
     "text": [
      "\u001b[36m(launch_and_fit pid=3942)\u001b[0m \tTrain Epoch: 7 \tTrain_loss: 1.7802 | Train_acc: 32.6136 % | Validation_loss: 1.9973 | Validation_acc: 16.6667 %\u001b[32m [repeated 4x across cluster]\u001b[0m\n"
     ]
    },
    {
     "name": "stderr",
     "output_type": "stream",
     "text": [
      " 80%|\u001b[34m████████  \u001b[0m| 8/10 [00:20<00:05,  2.61s/it]\u001b[32m [repeated 4x across cluster]\u001b[0m\n"
     ]
    },
    {
     "name": "stdout",
     "output_type": "stream",
     "text": [
      "\u001b[36m(launch_and_fit pid=3942)\u001b[0m \tTrain Epoch: 9 \tTrain_loss: 1.7529 | Train_acc: 31.8182 % | Validation_loss: 1.8814 | Validation_acc: 31.9444 %\u001b[32m [repeated 4x across cluster]\u001b[0m\n"
     ]
    },
    {
     "name": "stderr",
     "output_type": "stream",
     "text": [
      "100%|\u001b[34m██████████\u001b[0m| 10/10 [00:26<00:00,  2.64s/it]\u001b[32m [repeated 4x across cluster]\u001b[0m\n"
     ]
    },
    {
     "name": "stdout",
     "output_type": "stream",
     "text": [
      "\u001b[36m(launch_and_fit pid=3942)\u001b[0m save graph in  results/FL/\n",
      "\u001b[36m(launch_and_fit pid=3942)\u001b[0m fc1.weight 5.9604644775390625e-06\n",
      "\u001b[36m(launch_and_fit pid=3942)\u001b[0m fc1.bias 1.430511474609375e-06\n",
      "\u001b[36m(launch_and_fit pid=3942)\u001b[0m fc2.weight 1.1920928955078125e-06\n",
      "\u001b[36m(launch_and_fit pid=3942)\u001b[0m fc2.bias 9.5367431640625e-07\n",
      "\u001b[36m(launch_and_fit pid=3942)\u001b[0m qnn.weights 1.9073486328125e-06\n",
      "\u001b[36m(launch_and_fit pid=3967)\u001b[0m \tTrain Epoch: 10 \tTrain_loss: 1.7789 | Train_acc: 31.3636 % | Validation_loss: 1.8547 | Validation_acc: 31.9444 %\u001b[32m [repeated 3x across cluster]\u001b[0m\n",
      "\u001b[36m(launch_and_fit pid=4024)\u001b[0m Run with homomorphic encryption\n",
      "\u001b[36m(launch_and_fit pid=3967)\u001b[0m save graph in  results/FL/\n",
      "\u001b[36m(launch_and_fit pid=3967)\u001b[0m fc3.bias 4.291534423828125e-06\u001b[32m [repeated 8x across cluster]\u001b[0m\n",
      "\u001b[36m(launch_and_fit pid=3967)\u001b[0m qnn.weights 1.1920928955078125e-06\n",
      "\u001b[36m(launch_and_fit pid=4024)\u001b[0m [Client 9, round 5] fit, config: {'learning_rate': 0.003, 'batch_size': '16', 'server_round': 5, 'local_epochs': 10}\n",
      "\u001b[36m(launch_and_fit pid=4024)\u001b[0m Updated model\n"
     ]
    },
    {
     "name": "stderr",
     "output_type": "stream",
     "text": [
      "  0%|\u001b[34m          \u001b[0m| 0/10 [00:00<?, ?it/s]\n",
      "100%|\u001b[34m██████████\u001b[0m| 10/10 [00:26<00:00,  2.64s/it]\n"
     ]
    },
    {
     "name": "stdout",
     "output_type": "stream",
     "text": [
      "\u001b[36m(launch_and_fit pid=4024)\u001b[0m \tTrain Epoch: 1 \tTrain_loss: 1.7929 | Train_acc: 32.6042 % | Validation_loss: 1.7166 | Validation_acc: 36.1111 %\n"
     ]
    },
    {
     "name": "stderr",
     "output_type": "stream",
     "text": [
      " 10%|\u001b[34m█         \u001b[0m| 1/10 [00:02<00:24,  2.75s/it]\n"
     ]
    },
    {
     "name": "stdout",
     "output_type": "stream",
     "text": [
      "\u001b[36m(launch_and_fit pid=4049)\u001b[0m Run with homomorphic encryption\n",
      "\u001b[36m(launch_and_fit pid=4049)\u001b[0m [Client 2, round 5] fit, config: {'learning_rate': 0.003, 'batch_size': '16', 'server_round': 5, 'local_epochs': 10}\n",
      "\u001b[36m(launch_and_fit pid=4049)\u001b[0m Updated model\n"
     ]
    },
    {
     "name": "stderr",
     "output_type": "stream",
     "text": [
      "  0%|\u001b[34m          \u001b[0m| 0/10 [00:00<?, ?it/s]\n"
     ]
    },
    {
     "name": "stdout",
     "output_type": "stream",
     "text": [
      "\u001b[36m(launch_and_fit pid=4024)\u001b[0m \tTrain Epoch: 3 \tTrain_loss: 1.7657 | Train_acc: 34.1458 % | Validation_loss: 1.7239 | Validation_acc: 36.1111 %\u001b[32m [repeated 4x across cluster]\u001b[0m\n"
     ]
    },
    {
     "name": "stderr",
     "output_type": "stream",
     "text": [
      " 30%|\u001b[34m███       \u001b[0m| 3/10 [00:07<00:18,  2.60s/it]\u001b[32m [repeated 4x across cluster]\u001b[0m\n"
     ]
    },
    {
     "name": "stdout",
     "output_type": "stream",
     "text": [
      "\u001b[36m(launch_and_fit pid=4024)\u001b[0m \tTrain Epoch: 5 \tTrain_loss: 1.7467 | Train_acc: 36.3958 % | Validation_loss: 1.7070 | Validation_acc: 36.1111 %\u001b[32m [repeated 4x across cluster]\u001b[0m\n"
     ]
    },
    {
     "name": "stderr",
     "output_type": "stream",
     "text": [
      " 50%|\u001b[34m█████     \u001b[0m| 5/10 [00:13<00:13,  2.72s/it]\u001b[32m [repeated 4x across cluster]\u001b[0m\n"
     ]
    },
    {
     "name": "stdout",
     "output_type": "stream",
     "text": [
      "\u001b[36m(launch_and_fit pid=4049)\u001b[0m \tTrain Epoch: 7 \tTrain_loss: 1.7325 | Train_acc: 36.3352 % | Validation_loss: 1.8178 | Validation_acc: 29.8611 %\u001b[32m [repeated 5x across cluster]\u001b[0m\n"
     ]
    },
    {
     "name": "stderr",
     "output_type": "stream",
     "text": [
      " 70%|\u001b[34m███████   \u001b[0m| 7/10 [00:18<00:07,  2.58s/it]\u001b[32m [repeated 5x across cluster]\u001b[0m\n"
     ]
    },
    {
     "name": "stdout",
     "output_type": "stream",
     "text": [
      "\u001b[36m(launch_and_fit pid=4049)\u001b[0m \tTrain Epoch: 9 \tTrain_loss: 1.7231 | Train_acc: 37.2727 % | Validation_loss: 1.8101 | Validation_acc: 23.6111 %\u001b[32m [repeated 4x across cluster]\u001b[0m\n"
     ]
    },
    {
     "name": "stderr",
     "output_type": "stream",
     "text": [
      " 90%|\u001b[34m█████████ \u001b[0m| 9/10 [00:23<00:02,  2.58s/it]\u001b[32m [repeated 4x across cluster]\u001b[0m\n"
     ]
    },
    {
     "name": "stdout",
     "output_type": "stream",
     "text": [
      "\u001b[36m(launch_and_fit pid=4024)\u001b[0m save graph in  results/FL/\n",
      "\u001b[36m(launch_and_fit pid=4024)\u001b[0m fc1.weight 1.4781951904296875e-05\n",
      "\u001b[36m(launch_and_fit pid=4024)\u001b[0m fc1.bias 1.1920928955078125e-06\n",
      "\u001b[36m(launch_and_fit pid=4024)\u001b[0m fc2.weight 1.6689300537109375e-06\n",
      "\u001b[36m(launch_and_fit pid=4024)\u001b[0m fc2.bias 1.430511474609375e-06\n",
      "\u001b[36m(launch_and_fit pid=4024)\u001b[0m qnn.weights 1.430511474609375e-06\n",
      "\u001b[36m(launch_and_fit pid=4049)\u001b[0m \tTrain Epoch: 10 \tTrain_loss: 1.7188 | Train_acc: 39.0057 % | Validation_loss: 1.8117 | Validation_acc: 27.7778 %\u001b[32m [repeated 2x across cluster]\u001b[0m\n"
     ]
    },
    {
     "name": "stderr",
     "output_type": "stream",
     "text": [
      "DEBUG flwr 2024-07-22 09:41:26,004 | server.py:236 | fit_round 5 received 10 results and 0 failures\n"
     ]
    },
    {
     "name": "stdout",
     "output_type": "stream",
     "text": [
      "Saving round 5 aggregated_parameters...\n"
     ]
    },
    {
     "name": "stderr",
     "output_type": "stream",
     "text": [
      "DEBUG flwr 2024-07-22 09:41:46,142 | server.py:173 | evaluate_round 5: strategy sampled 10 clients (out of 10)\n"
     ]
    },
    {
     "name": "stdout",
     "output_type": "stream",
     "text": [
      "\u001b[36m(launch_and_evaluate pid=4115)\u001b[0m Run with homomorphic encryption\n",
      "\u001b[36m(launch_and_fit pid=4049)\u001b[0m save graph in  results/FL/\n",
      "\u001b[36m(launch_and_fit pid=4049)\u001b[0m fc3.bias 5.4836273193359375e-06\u001b[32m [repeated 8x across cluster]\u001b[0m\n",
      "\u001b[36m(launch_and_fit pid=4049)\u001b[0m qnn.weights 9.5367431640625e-07\n",
      "\u001b[36m(launch_and_evaluate pid=4116)\u001b[0m [Client 4] evaluate, config: {}\n",
      "\u001b[36m(launch_and_evaluate pid=4116)\u001b[0m Updated model\n"
     ]
    },
    {
     "name": "stderr",
     "output_type": "stream",
     "text": [
      "\u001b[36m(launch_and_evaluate pid=4116)\u001b[0m /opt/conda/lib/python3.10/site-packages/sklearn/metrics/_ranking.py:1029: UndefinedMetricWarning: No positive samples in y_true, true positive value should be meaningless\n",
      "\u001b[36m(launch_and_evaluate pid=4116)\u001b[0m   warnings.warn(\n",
      "100%|\u001b[34m██████████\u001b[0m| 10/10 [00:26<00:00,  2.65s/it]\u001b[32m [repeated 2x across cluster]\u001b[0m\n",
      "\u001b[33m(raylet)\u001b[0m [2024-07-22 09:42:09,888 E 209 209] (raylet) node_manager.cc:3022: 1 Workers (tasks / actors) killed due to memory pressure (OOM), 0 Workers crashed due to other reasons at node (ID: dcb7465c1e18f5f0fd3f2a9b1d80ab4a1bc14b88238171cc5f710a6a, IP: 172.19.2.2) over the last time period. To see more information about the Workers killed on this node, use `ray logs raylet.out -ip 172.19.2.2`\n",
      "\u001b[33m(raylet)\u001b[0m Refer to the documentation on how to address the out of memory issue: https://docs.ray.io/en/latest/ray-core/scheduling/ray-oom-prevention.html. Consider provisioning more memory on this node or reducing task parallelism by requesting more CPUs per task. To adjust the kill threshold, set the environment variable `RAY_memory_usage_threshold` when starting Ray. To disable worker killing, set the environment variable `RAY_memory_monitor_refresh_ms` to zero.\n",
      "\u001b[33m(raylet)\u001b[0m \n"
     ]
    },
    {
     "name": "stdout",
     "output_type": "stream",
     "text": [
      "\u001b[36m(launch_and_evaluate pid=4194)\u001b[0m Run with homomorphic encryption\u001b[32m [repeated 2x across cluster]\u001b[0m\n",
      "\u001b[36m(launch_and_evaluate pid=4115)\u001b[0m [Client 1] evaluate, config: {}\n",
      "\u001b[36m(launch_and_evaluate pid=4115)\u001b[0m Updated model\n",
      "\u001b[36m(launch_and_evaluate pid=4196)\u001b[0m [Client 9] evaluate, config: {}\n",
      "\u001b[36m(launch_and_evaluate pid=4194)\u001b[0m Updated model\n"
     ]
    },
    {
     "name": "stderr",
     "output_type": "stream",
     "text": [
      "\u001b[36m(launch_and_evaluate pid=4196)\u001b[0m /opt/conda/lib/python3.10/site-packages/sklearn/metrics/_ranking.py:1029: UndefinedMetricWarning: No positive samples in y_true, true positive value should be meaningless\n",
      "\u001b[36m(launch_and_evaluate pid=4196)\u001b[0m   warnings.warn(\n"
     ]
    },
    {
     "name": "stdout",
     "output_type": "stream",
     "text": [
      "\u001b[36m(launch_and_evaluate pid=4272)\u001b[0m Run with homomorphic encryption\u001b[32m [repeated 2x across cluster]\u001b[0m\n",
      "\u001b[36m(launch_and_evaluate pid=4194)\u001b[0m [Client 2] evaluate, config: {}\n",
      "\u001b[36m(launch_and_evaluate pid=4196)\u001b[0m Updated model\n",
      "\u001b[36m(launch_and_evaluate pid=4274)\u001b[0m [Client 5] evaluate, config: {}\n",
      "\u001b[36m(launch_and_evaluate pid=4274)\u001b[0m Updated model\n",
      "\u001b[36m(launch_and_evaluate pid=4350)\u001b[0m Run with homomorphic encryption\u001b[32m [repeated 2x across cluster]\u001b[0m\n",
      "\u001b[36m(launch_and_evaluate pid=4272)\u001b[0m [Client 7] evaluate, config: {}\n",
      "\u001b[36m(launch_and_evaluate pid=4272)\u001b[0m Updated model\n",
      "\u001b[36m(launch_and_evaluate pid=4350)\u001b[0m [Client 8] evaluate, config: {}\n",
      "\u001b[36m(launch_and_evaluate pid=4350)\u001b[0m Updated model\n"
     ]
    },
    {
     "name": "stderr",
     "output_type": "stream",
     "text": [
      "\u001b[36m(launch_and_evaluate pid=4350)\u001b[0m /opt/conda/lib/python3.10/site-packages/sklearn/metrics/_ranking.py:1029: UndefinedMetricWarning: No positive samples in y_true, true positive value should be meaningless\n",
      "\u001b[36m(launch_and_evaluate pid=4350)\u001b[0m   warnings.warn(\n"
     ]
    },
    {
     "name": "stdout",
     "output_type": "stream",
     "text": [
      "\u001b[36m(launch_and_evaluate pid=4428)\u001b[0m Run with homomorphic encryption\u001b[32m [repeated 2x across cluster]\u001b[0m\n",
      "\u001b[36m(launch_and_evaluate pid=4352)\u001b[0m [Client 6] evaluate, config: {}\n",
      "\u001b[36m(launch_and_evaluate pid=4352)\u001b[0m Updated model\n",
      "\u001b[36m(launch_and_evaluate pid=4428)\u001b[0m [Client 3] evaluate, config: {}\n",
      "\u001b[36m(launch_and_evaluate pid=4428)\u001b[0m Updated model\n"
     ]
    },
    {
     "name": "stderr",
     "output_type": "stream",
     "text": [
      "DEBUG flwr 2024-07-22 09:42:52,531 | server.py:187 | evaluate_round 5 received 10 results and 0 failures\n",
      "DEBUG flwr 2024-07-22 09:42:52,532 | server.py:222 | fit_round 6: strategy sampled 10 clients (out of 10)\n"
     ]
    },
    {
     "name": "stdout",
     "output_type": "stream",
     "text": [
      "\u001b[36m(launch_and_fit pid=4515)\u001b[0m Run with homomorphic encryption\u001b[32m [repeated 2x across cluster]\u001b[0m\n",
      "\u001b[36m(launch_and_evaluate pid=4430)\u001b[0m [Client 0] evaluate, config: {}\n",
      "\u001b[36m(launch_and_evaluate pid=4430)\u001b[0m Updated model\n",
      "\u001b[36m(launch_and_fit pid=4515)\u001b[0m [Client 8, round 6] fit, config: {'learning_rate': 0.003, 'batch_size': '16', 'server_round': 6, 'local_epochs': 10}\n"
     ]
    },
    {
     "name": "stderr",
     "output_type": "stream",
     "text": [
      "  0%|\u001b[34m          \u001b[0m| 0/10 [00:00<?, ?it/s]\n"
     ]
    },
    {
     "name": "stdout",
     "output_type": "stream",
     "text": [
      "\u001b[36m(launch_and_fit pid=4515)\u001b[0m Updated model\n"
     ]
    },
    {
     "name": "stderr",
     "output_type": "stream",
     "text": [
      " 10%|\u001b[34m█         \u001b[0m| 1/10 [00:02<00:25,  2.83s/it]\n"
     ]
    },
    {
     "name": "stdout",
     "output_type": "stream",
     "text": [
      "\u001b[36m(launch_and_fit pid=4515)\u001b[0m \tTrain Epoch: 1 \tTrain_loss: 1.7826 | Train_acc: 31.8182 % | Validation_loss: 1.8758 | Validation_acc: 20.8333 %\n"
     ]
    },
    {
     "name": "stderr",
     "output_type": "stream",
     "text": [
      "  0%|\u001b[34m          \u001b[0m| 0/10 [00:00<?, ?it/s]\n"
     ]
    },
    {
     "name": "stdout",
     "output_type": "stream",
     "text": [
      "\u001b[36m(launch_and_fit pid=4516)\u001b[0m Run with homomorphic encryption\n",
      "\u001b[36m(launch_and_fit pid=4516)\u001b[0m [Client 2, round 6] fit, config: {'learning_rate': 0.003, 'batch_size': '16', 'server_round': 6, 'local_epochs': 10}\n",
      "\u001b[36m(launch_and_fit pid=4516)\u001b[0m Updated model\n",
      "\u001b[36m(launch_and_fit pid=4516)\u001b[0m \tTrain Epoch: 3 \tTrain_loss: 1.7365 | Train_acc: 34.6023 % | Validation_loss: 1.7730 | Validation_acc: 29.8611 %\u001b[32m [repeated 5x across cluster]\u001b[0m\n"
     ]
    },
    {
     "name": "stderr",
     "output_type": "stream",
     "text": [
      " 30%|\u001b[34m███       \u001b[0m| 3/10 [00:07<00:18,  2.57s/it]\u001b[32m [repeated 5x across cluster]\u001b[0m\n",
      " 60%|\u001b[34m██████    \u001b[0m| 6/10 [00:15<00:09,  2.48s/it]\u001b[32m [repeated 5x across cluster]\u001b[0m\n"
     ]
    },
    {
     "name": "stdout",
     "output_type": "stream",
     "text": [
      "\u001b[36m(launch_and_fit pid=4515)\u001b[0m \tTrain Epoch: 6 \tTrain_loss: 1.7358 | Train_acc: 36.1932 % | Validation_loss: 1.8518 | Validation_acc: 25.0000 %\u001b[32m [repeated 5x across cluster]\u001b[0m\n"
     ]
    },
    {
     "name": "stderr",
     "output_type": "stream",
     "text": [
      " 80%|\u001b[34m████████  \u001b[0m| 8/10 [00:20<00:05,  2.52s/it]\u001b[32m [repeated 4x across cluster]\u001b[0m\n"
     ]
    },
    {
     "name": "stdout",
     "output_type": "stream",
     "text": [
      "\u001b[36m(launch_and_fit pid=4515)\u001b[0m \tTrain Epoch: 8 \tTrain_loss: 1.7565 | Train_acc: 32.3011 % | Validation_loss: 1.8152 | Validation_acc: 34.0278 %\u001b[32m [repeated 4x across cluster]\u001b[0m\n"
     ]
    },
    {
     "name": "stderr",
     "output_type": "stream",
     "text": [
      "100%|\u001b[34m██████████\u001b[0m| 10/10 [00:25<00:00,  2.54s/it]\u001b[32m [repeated 4x across cluster]\u001b[0m\n"
     ]
    },
    {
     "name": "stdout",
     "output_type": "stream",
     "text": [
      "\u001b[36m(launch_and_fit pid=4515)\u001b[0m save graph in  results/FL/\n",
      "\u001b[36m(launch_and_fit pid=4515)\u001b[0m \tTrain Epoch: 10 \tTrain_loss: 1.7182 | Train_acc: 38.6932 % | Validation_loss: 1.8412 | Validation_acc: 27.0833 %\u001b[32m [repeated 4x across cluster]\u001b[0m\n",
      "\u001b[36m(launch_and_fit pid=4515)\u001b[0m fc1.weight 4.5299530029296875e-06\n",
      "\u001b[36m(launch_and_fit pid=4515)\u001b[0m fc1.bias 1.6689300537109375e-06\n",
      "\u001b[36m(launch_and_fit pid=4515)\u001b[0m fc2.weight 1.430511474609375e-06\n",
      "\u001b[36m(launch_and_fit pid=4515)\u001b[0m fc2.bias 1.1920928955078125e-06\n",
      "\u001b[36m(launch_and_fit pid=4515)\u001b[0m qnn.weights 1.1920928955078125e-06\n",
      "\u001b[36m(launch_and_fit pid=4598)\u001b[0m Run with homomorphic encryption\n",
      "\u001b[36m(launch_and_fit pid=4516)\u001b[0m save graph in  results/FL/\n",
      "\u001b[36m(launch_and_fit pid=4516)\u001b[0m \tTrain Epoch: 10 \tTrain_loss: 1.7232 | Train_acc: 37.1307 % | Validation_loss: 1.7754 | Validation_acc: 23.6111 %\n",
      "\u001b[36m(launch_and_fit pid=4516)\u001b[0m fc3.bias 1.3113021850585938e-05\u001b[32m [repeated 8x across cluster]\u001b[0m\n",
      "\u001b[36m(launch_and_fit pid=4516)\u001b[0m qnn.weights 1.1920928955078125e-06\n",
      "\u001b[36m(launch_and_fit pid=4598)\u001b[0m [Client 9, round 6] fit, config: {'learning_rate': 0.003, 'batch_size': '16', 'server_round': 6, 'local_epochs': 10}\n"
     ]
    },
    {
     "name": "stderr",
     "output_type": "stream",
     "text": [
      "  0%|\u001b[34m          \u001b[0m| 0/10 [00:00<?, ?it/s]\n",
      "100%|\u001b[34m██████████\u001b[0m| 10/10 [00:25<00:00,  2.52s/it]\n"
     ]
    },
    {
     "name": "stdout",
     "output_type": "stream",
     "text": [
      "\u001b[36m(launch_and_fit pid=4598)\u001b[0m Updated model\n"
     ]
    },
    {
     "name": "stderr",
     "output_type": "stream",
     "text": [
      " 10%|\u001b[34m█         \u001b[0m| 1/10 [00:02<00:25,  2.79s/it]\n"
     ]
    },
    {
     "name": "stdout",
     "output_type": "stream",
     "text": [
      "\u001b[36m(launch_and_fit pid=4598)\u001b[0m \tTrain Epoch: 1 \tTrain_loss: 1.7701 | Train_acc: 35.4167 % | Validation_loss: 1.7138 | Validation_acc: 36.1111 %\n",
      "\u001b[36m(launch_and_fit pid=4600)\u001b[0m Run with homomorphic encryption\n",
      "\u001b[36m(launch_and_fit pid=4600)\u001b[0m [Client 7, round 6] fit, config: {'learning_rate': 0.003, 'batch_size': '16', 'server_round': 6, 'local_epochs': 10}\n",
      "\u001b[36m(launch_and_fit pid=4600)\u001b[0m Updated model\n"
     ]
    },
    {
     "name": "stderr",
     "output_type": "stream",
     "text": [
      "  0%|\u001b[34m          \u001b[0m| 0/10 [00:00<?, ?it/s]\n",
      " 40%|\u001b[34m████      \u001b[0m| 4/10 [00:10<00:14,  2.48s/it]\u001b[32m [repeated 6x across cluster]\u001b[0m\n"
     ]
    },
    {
     "name": "stdout",
     "output_type": "stream",
     "text": [
      "\u001b[36m(launch_and_fit pid=4598)\u001b[0m \tTrain Epoch: 4 \tTrain_loss: 1.7355 | Train_acc: 37.3125 % | Validation_loss: 1.7025 | Validation_acc: 42.3611 %\u001b[32m [repeated 6x across cluster]\u001b[0m\n"
     ]
    },
    {
     "name": "stderr",
     "output_type": "stream",
     "text": [
      " 60%|\u001b[34m██████    \u001b[0m| 6/10 [00:15<00:10,  2.51s/it]\u001b[32m [repeated 5x across cluster]\u001b[0m\n"
     ]
    },
    {
     "name": "stdout",
     "output_type": "stream",
     "text": [
      "\u001b[36m(launch_and_fit pid=4600)\u001b[0m \tTrain Epoch: 6 \tTrain_loss: 1.7509 | Train_acc: 35.4545 % | Validation_loss: 1.6503 | Validation_acc: 47.2222 %\u001b[32m [repeated 5x across cluster]\u001b[0m\n"
     ]
    },
    {
     "name": "stderr",
     "output_type": "stream",
     "text": [
      " 80%|\u001b[34m████████  \u001b[0m| 8/10 [00:20<00:05,  2.59s/it]\u001b[32m [repeated 3x across cluster]\u001b[0m\n"
     ]
    },
    {
     "name": "stdout",
     "output_type": "stream",
     "text": [
      "\u001b[36m(launch_and_fit pid=4598)\u001b[0m \tTrain Epoch: 8 \tTrain_loss: 1.7340 | Train_acc: 36.0208 % | Validation_loss: 1.7115 | Validation_acc: 36.1111 %\u001b[32m [repeated 3x across cluster]\u001b[0m\n"
     ]
    },
    {
     "name": "stderr",
     "output_type": "stream",
     "text": [
      "100%|\u001b[34m██████████\u001b[0m| 10/10 [00:25<00:00,  2.57s/it]\u001b[32m [repeated 4x across cluster]\u001b[0m\n"
     ]
    },
    {
     "name": "stdout",
     "output_type": "stream",
     "text": [
      "\u001b[36m(launch_and_fit pid=4598)\u001b[0m save graph in  results/FL/\n",
      "\u001b[36m(launch_and_fit pid=4598)\u001b[0m \tTrain Epoch: 10 \tTrain_loss: 1.6970 | Train_acc: 38.2500 % | Validation_loss: 1.7178 | Validation_acc: 38.1944 %\u001b[32m [repeated 4x across cluster]\u001b[0m\n",
      "\u001b[36m(launch_and_fit pid=4598)\u001b[0m fc1.weight 5.7220458984375e-06\n",
      "\u001b[36m(launch_and_fit pid=4598)\u001b[0m fc1.bias 2.1457672119140625e-06\n",
      "\u001b[36m(launch_and_fit pid=4598)\u001b[0m fc2.weight 2.1457672119140625e-06\n",
      "\u001b[36m(launch_and_fit pid=4598)\u001b[0m fc2.bias 1.9073486328125e-06\n",
      "\u001b[36m(launch_and_fit pid=4598)\u001b[0m qnn.weights 1.6689300537109375e-06\n",
      "\u001b[36m(launch_and_fit pid=4681)\u001b[0m Run with homomorphic encryption\n",
      "\u001b[36m(launch_and_fit pid=4600)\u001b[0m save graph in  results/FL/\n",
      "\u001b[36m(launch_and_fit pid=4600)\u001b[0m \tTrain Epoch: 10 \tTrain_loss: 1.7366 | Train_acc: 37.9261 % | Validation_loss: 1.6244 | Validation_acc: 49.3056 %\n",
      "\u001b[36m(launch_and_fit pid=4600)\u001b[0m fc3.bias 4.0531158447265625e-06\u001b[32m [repeated 8x across cluster]\u001b[0m\n",
      "\u001b[36m(launch_and_fit pid=4600)\u001b[0m qnn.weights 9.5367431640625e-07\n",
      "\u001b[36m(launch_and_fit pid=4681)\u001b[0m [Client 0, round 6] fit, config: {'learning_rate': 0.003, 'batch_size': '16', 'server_round': 6, 'local_epochs': 10}\n",
      "\u001b[36m(launch_and_fit pid=4681)\u001b[0m Updated model\n"
     ]
    },
    {
     "name": "stderr",
     "output_type": "stream",
     "text": [
      "  0%|\u001b[34m          \u001b[0m| 0/10 [00:00<?, ?it/s]\n",
      "100%|\u001b[34m██████████\u001b[0m| 10/10 [00:25<00:00,  2.59s/it]\n"
     ]
    },
    {
     "name": "stdout",
     "output_type": "stream",
     "text": [
      "\u001b[36m(launch_and_fit pid=4681)\u001b[0m \tTrain Epoch: 1 \tTrain_loss: 1.7633 | Train_acc: 36.5057 % | Validation_loss: 1.8773 | Validation_acc: 25.0000 %\n"
     ]
    },
    {
     "name": "stderr",
     "output_type": "stream",
     "text": [
      " 10%|\u001b[34m█         \u001b[0m| 1/10 [00:02<00:26,  2.89s/it]\n"
     ]
    },
    {
     "name": "stdout",
     "output_type": "stream",
     "text": [
      "\u001b[36m(launch_and_fit pid=4683)\u001b[0m Run with homomorphic encryption\n",
      "\u001b[36m(launch_and_fit pid=4683)\u001b[0m [Client 5, round 6] fit, config: {'learning_rate': 0.003, 'batch_size': '16', 'server_round': 6, 'local_epochs': 10}\n",
      "\u001b[36m(launch_and_fit pid=4683)\u001b[0m Updated model\n"
     ]
    },
    {
     "name": "stderr",
     "output_type": "stream",
     "text": [
      "  0%|\u001b[34m          \u001b[0m| 0/10 [00:00<?, ?it/s]\n"
     ]
    },
    {
     "name": "stdout",
     "output_type": "stream",
     "text": [
      "\u001b[36m(launch_and_fit pid=4681)\u001b[0m \tTrain Epoch: 3 \tTrain_loss: 1.7282 | Train_acc: 37.1307 % | Validation_loss: 1.8525 | Validation_acc: 27.0833 %\u001b[32m [repeated 4x across cluster]\u001b[0m\n"
     ]
    },
    {
     "name": "stderr",
     "output_type": "stream",
     "text": [
      " 30%|\u001b[34m███       \u001b[0m| 3/10 [00:08<00:18,  2.70s/it]\u001b[32m [repeated 4x across cluster]\u001b[0m\n"
     ]
    },
    {
     "name": "stdout",
     "output_type": "stream",
     "text": [
      "\u001b[36m(launch_and_fit pid=4683)\u001b[0m \tTrain Epoch: 5 \tTrain_loss: 1.7761 | Train_acc: 31.8182 % | Validation_loss: 1.7484 | Validation_acc: 56.2500 %\u001b[32m [repeated 5x across cluster]\u001b[0m\n"
     ]
    },
    {
     "name": "stderr",
     "output_type": "stream",
     "text": [
      " 50%|\u001b[34m█████     \u001b[0m| 5/10 [00:12<00:12,  2.53s/it]\u001b[32m [repeated 5x across cluster]\u001b[0m\n"
     ]
    },
    {
     "name": "stdout",
     "output_type": "stream",
     "text": [
      "\u001b[36m(launch_and_fit pid=4681)\u001b[0m \tTrain Epoch: 8 \tTrain_loss: 1.6971 | Train_acc: 41.2784 % | Validation_loss: 1.8519 | Validation_acc: 22.9167 %\u001b[32m [repeated 5x across cluster]\u001b[0m\n"
     ]
    },
    {
     "name": "stderr",
     "output_type": "stream",
     "text": [
      " 80%|\u001b[34m████████  \u001b[0m| 8/10 [00:20<00:05,  2.50s/it]\u001b[32m [repeated 5x across cluster]\u001b[0m\n"
     ]
    },
    {
     "name": "stdout",
     "output_type": "stream",
     "text": [
      "\u001b[36m(launch_and_fit pid=4681)\u001b[0m save graph in  results/FL/\n",
      "\u001b[36m(launch_and_fit pid=4681)\u001b[0m \tTrain Epoch: 10 \tTrain_loss: 1.6888 | Train_acc: 38.6648 % | Validation_loss: 1.8982 | Validation_acc: 25.0000 %\u001b[32m [repeated 4x across cluster]\u001b[0m\n"
     ]
    },
    {
     "name": "stderr",
     "output_type": "stream",
     "text": [
      "100%|\u001b[34m██████████\u001b[0m| 10/10 [00:25<00:00,  2.57s/it]\u001b[32m [repeated 4x across cluster]\u001b[0m\n"
     ]
    },
    {
     "name": "stdout",
     "output_type": "stream",
     "text": [
      "\u001b[36m(launch_and_fit pid=4681)\u001b[0m fc1.weight 5.7220458984375e-06\n",
      "\u001b[36m(launch_and_fit pid=4681)\u001b[0m fc1.bias 1.6689300537109375e-06\n",
      "\u001b[36m(launch_and_fit pid=4681)\u001b[0m fc2.weight 1.1920928955078125e-06\n",
      "\u001b[36m(launch_and_fit pid=4681)\u001b[0m fc2.bias 1.1920928955078125e-06\n",
      "\u001b[36m(launch_and_fit pid=4681)\u001b[0m qnn.weights 1.1920928955078125e-06\n",
      "\u001b[36m(launch_and_fit pid=4763)\u001b[0m Run with homomorphic encryption\n",
      "\u001b[36m(launch_and_fit pid=4683)\u001b[0m save graph in  results/FL/\n",
      "\u001b[36m(launch_and_fit pid=4683)\u001b[0m \tTrain Epoch: 10 \tTrain_loss: 1.7629 | Train_acc: 33.8920 % | Validation_loss: 1.7473 | Validation_acc: 49.3056 %\n",
      "\u001b[36m(launch_and_fit pid=4683)\u001b[0m fc3.bias 4.76837158203125e-06\u001b[32m [repeated 8x across cluster]\u001b[0m\n",
      "\u001b[36m(launch_and_fit pid=4683)\u001b[0m qnn.weights 1.1920928955078125e-06\n",
      "\u001b[36m(launch_and_fit pid=4763)\u001b[0m [Client 1, round 6] fit, config: {'learning_rate': 0.003, 'batch_size': '16', 'server_round': 6, 'local_epochs': 10}\n"
     ]
    },
    {
     "name": "stderr",
     "output_type": "stream",
     "text": [
      "  0%|\u001b[34m          \u001b[0m| 0/10 [00:00<?, ?it/s]\n",
      "100%|\u001b[34m██████████\u001b[0m| 10/10 [00:25<00:00,  2.54s/it]\n"
     ]
    },
    {
     "name": "stdout",
     "output_type": "stream",
     "text": [
      "\u001b[36m(launch_and_fit pid=4763)\u001b[0m Updated model\n"
     ]
    },
    {
     "name": "stderr",
     "output_type": "stream",
     "text": [
      " 10%|\u001b[34m█         \u001b[0m| 1/10 [00:02<00:25,  2.78s/it]\n"
     ]
    },
    {
     "name": "stdout",
     "output_type": "stream",
     "text": [
      "\u001b[36m(launch_and_fit pid=4763)\u001b[0m \tTrain Epoch: 1 \tTrain_loss: 1.8083 | Train_acc: 29.1761 % | Validation_loss: 1.9132 | Validation_acc: 22.9167 %\n"
     ]
    },
    {
     "name": "stderr",
     "output_type": "stream",
     "text": [
      "  0%|\u001b[34m          \u001b[0m| 0/10 [00:00<?, ?it/s]\n"
     ]
    },
    {
     "name": "stdout",
     "output_type": "stream",
     "text": [
      "\u001b[36m(launch_and_fit pid=4765)\u001b[0m Run with homomorphic encryption\n",
      "\u001b[36m(launch_and_fit pid=4765)\u001b[0m [Client 4, round 6] fit, config: {'learning_rate': 0.003, 'batch_size': '16', 'server_round': 6, 'local_epochs': 10}\n",
      "\u001b[36m(launch_and_fit pid=4765)\u001b[0m Updated model\n"
     ]
    },
    {
     "name": "stderr",
     "output_type": "stream",
     "text": [
      " 30%|\u001b[34m███       \u001b[0m| 3/10 [00:07<00:18,  2.60s/it]\u001b[32m [repeated 4x across cluster]\u001b[0m\n"
     ]
    },
    {
     "name": "stdout",
     "output_type": "stream",
     "text": [
      "\u001b[36m(launch_and_fit pid=4763)\u001b[0m \tTrain Epoch: 3 \tTrain_loss: 1.7745 | Train_acc: 30.3693 % | Validation_loss: 1.9125 | Validation_acc: 18.7500 %\u001b[32m [repeated 4x across cluster]\u001b[0m\n"
     ]
    },
    {
     "name": "stderr",
     "output_type": "stream",
     "text": [
      " 50%|\u001b[34m█████     \u001b[0m| 5/10 [00:13<00:12,  2.58s/it]\u001b[32m [repeated 4x across cluster]\u001b[0m\n"
     ]
    },
    {
     "name": "stdout",
     "output_type": "stream",
     "text": [
      "\u001b[36m(launch_and_fit pid=4763)\u001b[0m \tTrain Epoch: 5 \tTrain_loss: 1.7620 | Train_acc: 31.0795 % | Validation_loss: 1.8946 | Validation_acc: 18.7500 %\u001b[32m [repeated 4x across cluster]\u001b[0m\n",
      "\u001b[36m(launch_and_fit pid=4765)\u001b[0m \tTrain Epoch: 7 \tTrain_loss: 1.7478 | Train_acc: 33.0682 % | Validation_loss: 1.7204 | Validation_acc: 44.4444 %\u001b[32m [repeated 5x across cluster]\u001b[0m\n"
     ]
    },
    {
     "name": "stderr",
     "output_type": "stream",
     "text": [
      " 70%|\u001b[34m███████   \u001b[0m| 7/10 [00:18<00:07,  2.54s/it]\u001b[32m [repeated 5x across cluster]\u001b[0m\n",
      " 90%|\u001b[34m█████████ \u001b[0m| 9/10 [00:23<00:02,  2.60s/it]\u001b[32m [repeated 3x across cluster]\u001b[0m\n"
     ]
    },
    {
     "name": "stdout",
     "output_type": "stream",
     "text": [
      "\u001b[36m(launch_and_fit pid=4763)\u001b[0m \tTrain Epoch: 9 \tTrain_loss: 1.7561 | Train_acc: 30.9091 % | Validation_loss: 1.9817 | Validation_acc: 20.8333 %\u001b[32m [repeated 3x across cluster]\u001b[0m\n",
      "\u001b[36m(launch_and_fit pid=4763)\u001b[0m save graph in  results/FL/\n",
      "\u001b[36m(launch_and_fit pid=4763)\u001b[0m fc1.weight 4.76837158203125e-06\n",
      "\u001b[36m(launch_and_fit pid=4763)\u001b[0m fc1.bias 1.430511474609375e-06\n",
      "\u001b[36m(launch_and_fit pid=4763)\u001b[0m fc2.weight 1.430511474609375e-06\n",
      "\u001b[36m(launch_and_fit pid=4763)\u001b[0m fc2.bias 1.1920928955078125e-06\n",
      "\u001b[36m(launch_and_fit pid=4763)\u001b[0m qnn.weights 1.430511474609375e-06\n",
      "\u001b[36m(launch_and_fit pid=4765)\u001b[0m \tTrain Epoch: 10 \tTrain_loss: 1.7398 | Train_acc: 34.4886 % | Validation_loss: 1.6915 | Validation_acc: 40.2778 %\u001b[32m [repeated 3x across cluster]\u001b[0m\n",
      "\u001b[36m(launch_and_fit pid=4845)\u001b[0m Run with homomorphic encryption\n",
      "\u001b[36m(launch_and_fit pid=4765)\u001b[0m save graph in  results/FL/\n",
      "\u001b[36m(launch_and_fit pid=4765)\u001b[0m fc3.bias 4.291534423828125e-06\u001b[32m [repeated 8x across cluster]\u001b[0m\n",
      "\u001b[36m(launch_and_fit pid=4765)\u001b[0m qnn.weights 1.430511474609375e-06\n",
      "\u001b[36m(launch_and_fit pid=4845)\u001b[0m [Client 6, round 6] fit, config: {'learning_rate': 0.003, 'batch_size': '16', 'server_round': 6, 'local_epochs': 10}\n",
      "\u001b[36m(launch_and_fit pid=4845)\u001b[0m Updated model\n"
     ]
    },
    {
     "name": "stderr",
     "output_type": "stream",
     "text": [
      "  0%|\u001b[34m          \u001b[0m| 0/10 [00:00<?, ?it/s]\n",
      "100%|\u001b[34m██████████\u001b[0m| 10/10 [00:26<00:00,  2.64s/it]\u001b[32m [repeated 3x across cluster]\u001b[0m\n"
     ]
    },
    {
     "name": "stdout",
     "output_type": "stream",
     "text": [
      "\u001b[36m(launch_and_fit pid=4845)\u001b[0m \tTrain Epoch: 1 \tTrain_loss: 1.7284 | Train_acc: 38.2102 % | Validation_loss: 1.8595 | Validation_acc: 27.7778 %\n",
      "\u001b[36m(launch_and_fit pid=4847)\u001b[0m Run with homomorphic encryption\n",
      "\u001b[36m(launch_and_fit pid=4847)\u001b[0m [Client 3, round 6] fit, config: {'learning_rate': 0.003, 'batch_size': '16', 'server_round': 6, 'local_epochs': 10}\n",
      "\u001b[36m(launch_and_fit pid=4847)\u001b[0m Updated model\n"
     ]
    },
    {
     "name": "stderr",
     "output_type": "stream",
     "text": [
      "  0%|\u001b[34m          \u001b[0m| 0/10 [00:00<?, ?it/s]\n",
      " 20%|\u001b[34m██        \u001b[0m| 2/10 [00:05<00:22,  2.86s/it]\u001b[32m [repeated 3x across cluster]\u001b[0m\n"
     ]
    },
    {
     "name": "stdout",
     "output_type": "stream",
     "text": [
      "\u001b[36m(launch_and_fit pid=4845)\u001b[0m \tTrain Epoch: 3 \tTrain_loss: 1.7036 | Train_acc: 38.2102 % | Validation_loss: 1.8807 | Validation_acc: 16.6667 %\u001b[32m [repeated 4x across cluster]\u001b[0m\n"
     ]
    },
    {
     "name": "stderr",
     "output_type": "stream",
     "text": [
      " 40%|\u001b[34m████      \u001b[0m| 4/10 [00:10<00:15,  2.61s/it]\u001b[32m [repeated 4x across cluster]\u001b[0m\n"
     ]
    },
    {
     "name": "stdout",
     "output_type": "stream",
     "text": [
      "\u001b[36m(launch_and_fit pid=4845)\u001b[0m \tTrain Epoch: 5 \tTrain_loss: 1.7022 | Train_acc: 41.3352 % | Validation_loss: 1.8993 | Validation_acc: 16.6667 %\u001b[32m [repeated 4x across cluster]\u001b[0m\n"
     ]
    },
    {
     "name": "stderr",
     "output_type": "stream",
     "text": [
      " 60%|\u001b[34m██████    \u001b[0m| 6/10 [00:16<00:10,  2.70s/it]\u001b[32m [repeated 4x across cluster]\u001b[0m\n"
     ]
    },
    {
     "name": "stdout",
     "output_type": "stream",
     "text": [
      "\u001b[36m(launch_and_fit pid=4847)\u001b[0m \tTrain Epoch: 7 \tTrain_loss: 1.7355 | Train_acc: 36.6761 % | Validation_loss: 1.8282 | Validation_acc: 38.1944 %\u001b[32m [repeated 4x across cluster]\u001b[0m\n"
     ]
    },
    {
     "name": "stderr",
     "output_type": "stream",
     "text": [
      " 80%|\u001b[34m████████  \u001b[0m| 8/10 [00:21<00:05,  2.70s/it]\u001b[32m [repeated 5x across cluster]\u001b[0m\n"
     ]
    },
    {
     "name": "stdout",
     "output_type": "stream",
     "text": [
      "\u001b[36m(launch_and_fit pid=4847)\u001b[0m \tTrain Epoch: 9 \tTrain_loss: 1.7220 | Train_acc: 39.0057 % | Validation_loss: 1.8099 | Validation_acc: 38.1944 %\u001b[32m [repeated 4x across cluster]\u001b[0m\n",
      "\u001b[36m(launch_and_fit pid=4847)\u001b[0m save graph in  results/FL/\n",
      "\u001b[36m(launch_and_fit pid=4847)\u001b[0m fc1.weight 5.245208740234375e-06\n",
      "\u001b[36m(launch_and_fit pid=4847)\u001b[0m fc1.bias 1.430511474609375e-06\n",
      "\u001b[36m(launch_and_fit pid=4847)\u001b[0m fc2.weight 9.5367431640625e-07\n",
      "\u001b[36m(launch_and_fit pid=4847)\u001b[0m fc2.bias 1.430511474609375e-06\n"
     ]
    },
    {
     "name": "stderr",
     "output_type": "stream",
     "text": [
      "100%|\u001b[34m██████████\u001b[0m| 10/10 [00:26<00:00,  2.70s/it]\u001b[32m [repeated 4x across cluster]\u001b[0m\n"
     ]
    },
    {
     "name": "stdout",
     "output_type": "stream",
     "text": [
      "\u001b[36m(launch_and_fit pid=4847)\u001b[0m qnn.weights 2.1457672119140625e-06\n",
      "\u001b[36m(launch_and_fit pid=4845)\u001b[0m \tTrain Epoch: 10 \tTrain_loss: 1.6755 | Train_acc: 43.2670 % | Validation_loss: 1.9642 | Validation_acc: 40.9722 %\u001b[32m [repeated 3x across cluster]\u001b[0m\n"
     ]
    },
    {
     "name": "stderr",
     "output_type": "stream",
     "text": [
      "DEBUG flwr 2024-07-22 09:46:47,057 | server.py:236 | fit_round 6 received 10 results and 0 failures\n"
     ]
    },
    {
     "name": "stdout",
     "output_type": "stream",
     "text": [
      "Saving round 6 aggregated_parameters...\n"
     ]
    },
    {
     "name": "stderr",
     "output_type": "stream",
     "text": [
      "DEBUG flwr 2024-07-22 09:47:06,980 | server.py:173 | evaluate_round 6: strategy sampled 10 clients (out of 10)\n",
      "\u001b[33m(raylet)\u001b[0m [2024-07-22 09:47:09,905 E 209 209] (raylet) node_manager.cc:3022: 1 Workers (tasks / actors) killed due to memory pressure (OOM), 0 Workers crashed due to other reasons at node (ID: dcb7465c1e18f5f0fd3f2a9b1d80ab4a1bc14b88238171cc5f710a6a, IP: 172.19.2.2) over the last time period. To see more information about the Workers killed on this node, use `ray logs raylet.out -ip 172.19.2.2`\n",
      "\u001b[33m(raylet)\u001b[0m Refer to the documentation on how to address the out of memory issue: https://docs.ray.io/en/latest/ray-core/scheduling/ray-oom-prevention.html. Consider provisioning more memory on this node or reducing task parallelism by requesting more CPUs per task. To adjust the kill threshold, set the environment variable `RAY_memory_usage_threshold` when starting Ray. To disable worker killing, set the environment variable `RAY_memory_monitor_refresh_ms` to zero.\n",
      "\u001b[33m(raylet)\u001b[0m \n"
     ]
    },
    {
     "name": "stdout",
     "output_type": "stream",
     "text": [
      "\u001b[36m(launch_and_evaluate pid=4937)\u001b[0m Run with homomorphic encryption\n",
      "\u001b[36m(launch_and_fit pid=4845)\u001b[0m save graph in  results/FL/\n",
      "\u001b[36m(launch_and_fit pid=4845)\u001b[0m fc3.bias 4.0531158447265625e-06\u001b[32m [repeated 8x across cluster]\u001b[0m\n",
      "\u001b[36m(launch_and_fit pid=4845)\u001b[0m qnn.weights 9.5367431640625e-07\n",
      "\u001b[36m(launch_and_evaluate pid=4937)\u001b[0m [Client 1] evaluate, config: {}\n",
      "\u001b[36m(launch_and_evaluate pid=4937)\u001b[0m Updated model\n",
      "\u001b[36m(launch_and_evaluate pid=5014)\u001b[0m Run with homomorphic encryption\u001b[32m [repeated 2x across cluster]\u001b[0m\n",
      "\u001b[36m(launch_and_evaluate pid=4936)\u001b[0m [Client 7] evaluate, config: {}\n",
      "\u001b[36m(launch_and_evaluate pid=4936)\u001b[0m Updated model\n",
      "\u001b[36m(launch_and_evaluate pid=5014)\u001b[0m [Client 5] evaluate, config: {}\n",
      "\u001b[36m(launch_and_evaluate pid=5014)\u001b[0m Updated model\n",
      "\u001b[36m(launch_and_evaluate pid=5092)\u001b[0m Run with homomorphic encryption\u001b[32m [repeated 2x across cluster]\u001b[0m\n",
      "\u001b[36m(launch_and_evaluate pid=5016)\u001b[0m [Client 0] evaluate, config: {}\n",
      "\u001b[36m(launch_and_evaluate pid=5016)\u001b[0m Updated model\n",
      "\u001b[36m(launch_and_evaluate pid=5092)\u001b[0m [Client 2] evaluate, config: {}\n",
      "\u001b[36m(launch_and_evaluate pid=5092)\u001b[0m Updated model\n"
     ]
    },
    {
     "name": "stderr",
     "output_type": "stream",
     "text": [
      "\u001b[36m(launch_and_evaluate pid=5094)\u001b[0m /opt/conda/lib/python3.10/site-packages/sklearn/metrics/_ranking.py:1029: UndefinedMetricWarning: No positive samples in y_true, true positive value should be meaningless\n",
      "\u001b[36m(launch_and_evaluate pid=5094)\u001b[0m   warnings.warn(\n"
     ]
    },
    {
     "name": "stdout",
     "output_type": "stream",
     "text": [
      "\u001b[36m(launch_and_evaluate pid=5171)\u001b[0m Run with homomorphic encryption\u001b[32m [repeated 2x across cluster]\u001b[0m\n",
      "\u001b[36m(launch_and_evaluate pid=5094)\u001b[0m [Client 4] evaluate, config: {}\n",
      "\u001b[36m(launch_and_evaluate pid=5094)\u001b[0m Updated model\n",
      "\u001b[36m(launch_and_evaluate pid=5171)\u001b[0m [Client 3] evaluate, config: {}\n",
      "\u001b[36m(launch_and_evaluate pid=5171)\u001b[0m Updated model\n",
      "\u001b[36m(launch_and_evaluate pid=5249)\u001b[0m Run with homomorphic encryption\u001b[32m [repeated 2x across cluster]\u001b[0m\n",
      "\u001b[36m(launch_and_evaluate pid=5196)\u001b[0m [Client 6] evaluate, config: {}\n",
      "\u001b[36m(launch_and_evaluate pid=5196)\u001b[0m Updated model\n",
      "\u001b[36m(launch_and_evaluate pid=5249)\u001b[0m [Client 9] evaluate, config: {}\n",
      "\u001b[36m(launch_and_evaluate pid=5249)\u001b[0m Updated model\n"
     ]
    },
    {
     "name": "stderr",
     "output_type": "stream",
     "text": [
      "\u001b[36m(launch_and_evaluate pid=5249)\u001b[0m /opt/conda/lib/python3.10/site-packages/sklearn/metrics/_ranking.py:1029: UndefinedMetricWarning: No positive samples in y_true, true positive value should be meaningless\n",
      "\u001b[36m(launch_and_evaluate pid=5249)\u001b[0m   warnings.warn(\n",
      "\u001b[36m(launch_and_evaluate pid=5274)\u001b[0m /opt/conda/lib/python3.10/site-packages/sklearn/metrics/_ranking.py:1029: UndefinedMetricWarning: No positive samples in y_true, true positive value should be meaningless\n",
      "\u001b[36m(launch_and_evaluate pid=5274)\u001b[0m   warnings.warn(\n",
      "DEBUG flwr 2024-07-22 09:48:13,706 | server.py:187 | evaluate_round 6 received 10 results and 0 failures\n",
      "DEBUG flwr 2024-07-22 09:48:13,707 | server.py:222 | fit_round 7: strategy sampled 10 clients (out of 10)\n"
     ]
    },
    {
     "name": "stdout",
     "output_type": "stream",
     "text": [
      "\u001b[36m(launch_and_fit pid=5336)\u001b[0m Run with homomorphic encryption\u001b[32m [repeated 2x across cluster]\u001b[0m\n",
      "\u001b[36m(launch_and_evaluate pid=5274)\u001b[0m [Client 8] evaluate, config: {}\n",
      "\u001b[36m(launch_and_evaluate pid=5274)\u001b[0m Updated model\n",
      "\u001b[36m(launch_and_fit pid=5336)\u001b[0m [Client 0, round 7] fit, config: {'learning_rate': 0.003, 'batch_size': '16', 'server_round': 7, 'local_epochs': 10}\n"
     ]
    },
    {
     "name": "stderr",
     "output_type": "stream",
     "text": [
      "  0%|\u001b[34m          \u001b[0m| 0/10 [00:00<?, ?it/s]\n"
     ]
    },
    {
     "name": "stdout",
     "output_type": "stream",
     "text": [
      "\u001b[36m(launch_and_fit pid=5336)\u001b[0m Updated model\n"
     ]
    },
    {
     "name": "stderr",
     "output_type": "stream",
     "text": [
      " 10%|\u001b[34m█         \u001b[0m| 1/10 [00:02<00:25,  2.79s/it]\n"
     ]
    },
    {
     "name": "stdout",
     "output_type": "stream",
     "text": [
      "\u001b[36m(launch_and_fit pid=5336)\u001b[0m \tTrain Epoch: 1 \tTrain_loss: 1.7540 | Train_acc: 37.7557 % | Validation_loss: 1.8519 | Validation_acc: 29.1667 %\n"
     ]
    },
    {
     "name": "stderr",
     "output_type": "stream",
     "text": [
      "  0%|\u001b[34m          \u001b[0m| 0/10 [00:00<?, ?it/s]\n"
     ]
    },
    {
     "name": "stdout",
     "output_type": "stream",
     "text": [
      "\u001b[36m(launch_and_fit pid=5337)\u001b[0m Run with homomorphic encryption\n",
      "\u001b[36m(launch_and_fit pid=5337)\u001b[0m [Client 7, round 7] fit, config: {'learning_rate': 0.003, 'batch_size': '16', 'server_round': 7, 'local_epochs': 10}\n",
      "\u001b[36m(launch_and_fit pid=5337)\u001b[0m Updated model\n"
     ]
    },
    {
     "name": "stderr",
     "output_type": "stream",
     "text": [
      " 30%|\u001b[34m███       \u001b[0m| 3/10 [00:08<00:19,  2.73s/it]\u001b[32m [repeated 4x across cluster]\u001b[0m\n"
     ]
    },
    {
     "name": "stdout",
     "output_type": "stream",
     "text": [
      "\u001b[36m(launch_and_fit pid=5336)\u001b[0m \tTrain Epoch: 3 \tTrain_loss: 1.7271 | Train_acc: 37.1023 % | Validation_loss: 1.9255 | Validation_acc: 22.9167 %\u001b[32m [repeated 4x across cluster]\u001b[0m\n"
     ]
    },
    {
     "name": "stderr",
     "output_type": "stream",
     "text": [
      " 50%|\u001b[34m█████     \u001b[0m| 5/10 [00:13<00:13,  2.74s/it]\u001b[32m [repeated 4x across cluster]\u001b[0m\n"
     ]
    },
    {
     "name": "stdout",
     "output_type": "stream",
     "text": [
      "\u001b[36m(launch_and_fit pid=5336)\u001b[0m \tTrain Epoch: 5 \tTrain_loss: 1.7088 | Train_acc: 39.6307 % | Validation_loss: 1.8402 | Validation_acc: 29.1667 %\u001b[32m [repeated 4x across cluster]\u001b[0m\n"
     ]
    },
    {
     "name": "stderr",
     "output_type": "stream",
     "text": [
      " 70%|\u001b[34m███████   \u001b[0m| 7/10 [00:18<00:08,  2.67s/it]\u001b[32m [repeated 4x across cluster]\u001b[0m\n"
     ]
    },
    {
     "name": "stdout",
     "output_type": "stream",
     "text": [
      "\u001b[36m(launch_and_fit pid=5336)\u001b[0m \tTrain Epoch: 7 \tTrain_loss: 1.6940 | Train_acc: 40.8807 % | Validation_loss: 1.8433 | Validation_acc: 31.2500 %\u001b[32m [repeated 4x across cluster]\u001b[0m\n"
     ]
    },
    {
     "name": "stderr",
     "output_type": "stream",
     "text": [
      " 90%|\u001b[34m█████████ \u001b[0m| 9/10 [00:24<00:02,  2.65s/it]\u001b[32m [repeated 4x across cluster]\u001b[0m\n"
     ]
    },
    {
     "name": "stdout",
     "output_type": "stream",
     "text": [
      "\u001b[36m(launch_and_fit pid=5336)\u001b[0m \tTrain Epoch: 9 \tTrain_loss: 1.6949 | Train_acc: 39.4886 % | Validation_loss: 1.8352 | Validation_acc: 29.1667 %\u001b[32m [repeated 4x across cluster]\u001b[0m\n",
      "\u001b[36m(launch_and_fit pid=5336)\u001b[0m save graph in  results/FL/\n",
      "\u001b[36m(launch_and_fit pid=5336)\u001b[0m fc1.weight 6.198883056640625e-06\n",
      "\u001b[36m(launch_and_fit pid=5336)\u001b[0m fc1.bias 1.9073486328125e-06\n",
      "\u001b[36m(launch_and_fit pid=5336)\u001b[0m fc2.weight 1.1920928955078125e-06\n",
      "\u001b[36m(launch_and_fit pid=5336)\u001b[0m fc2.bias 1.1920928955078125e-06\n",
      "\u001b[36m(launch_and_fit pid=5336)\u001b[0m qnn.weights 1.430511474609375e-06\n",
      "\u001b[36m(launch_and_fit pid=5337)\u001b[0m \tTrain Epoch: 10 \tTrain_loss: 1.7347 | Train_acc: 37.4148 % | Validation_loss: 1.6366 | Validation_acc: 49.3056 %\u001b[32m [repeated 3x across cluster]\u001b[0m\n",
      "\u001b[36m(launch_and_fit pid=5337)\u001b[0m save graph in  results/FL/\n",
      "\u001b[36m(launch_and_fit pid=5418)\u001b[0m Run with homomorphic encryption\n",
      "\u001b[36m(launch_and_fit pid=5337)\u001b[0m fc3.bias 3.814697265625e-06\u001b[32m [repeated 8x across cluster]\u001b[0m\n",
      "\u001b[36m(launch_and_fit pid=5337)\u001b[0m qnn.weights 9.5367431640625e-07\n",
      "\u001b[36m(launch_and_fit pid=5418)\u001b[0m [Client 1, round 7] fit, config: {'learning_rate': 0.003, 'batch_size': '16', 'server_round': 7, 'local_epochs': 10}\n"
     ]
    },
    {
     "name": "stderr",
     "output_type": "stream",
     "text": [
      "  0%|\u001b[34m          \u001b[0m| 0/10 [00:00<?, ?it/s]\n",
      "100%|\u001b[34m██████████\u001b[0m| 10/10 [00:26<00:00,  2.66s/it]\u001b[32m [repeated 3x across cluster]\u001b[0m\n"
     ]
    },
    {
     "name": "stdout",
     "output_type": "stream",
     "text": [
      "\u001b[36m(launch_and_fit pid=5418)\u001b[0m Updated model\n",
      "\u001b[36m(launch_and_fit pid=5418)\u001b[0m \tTrain Epoch: 1 \tTrain_loss: 1.7860 | Train_acc: 31.6477 % | Validation_loss: 1.8456 | Validation_acc: 36.1111 %\n",
      "\u001b[36m(launch_and_fit pid=5443)\u001b[0m Run with homomorphic encryption\n"
     ]
    },
    {
     "name": "stderr",
     "output_type": "stream",
     "text": [
      "  0%|\u001b[34m          \u001b[0m| 0/10 [00:00<?, ?it/s]\n",
      " 20%|\u001b[34m██        \u001b[0m| 2/10 [00:05<00:21,  2.66s/it]\u001b[32m [repeated 3x across cluster]\u001b[0m\n"
     ]
    },
    {
     "name": "stdout",
     "output_type": "stream",
     "text": [
      "\u001b[36m(launch_and_fit pid=5443)\u001b[0m [Client 5, round 7] fit, config: {'learning_rate': 0.003, 'batch_size': '16', 'server_round': 7, 'local_epochs': 10}\n",
      "\u001b[36m(launch_and_fit pid=5443)\u001b[0m Updated model\n",
      "\u001b[36m(launch_and_fit pid=5418)\u001b[0m \tTrain Epoch: 3 \tTrain_loss: 1.7671 | Train_acc: 29.9716 % | Validation_loss: 1.8985 | Validation_acc: 20.8333 %\u001b[32m [repeated 4x across cluster]\u001b[0m\n"
     ]
    },
    {
     "name": "stderr",
     "output_type": "stream",
     "text": [
      " 40%|\u001b[34m████      \u001b[0m| 4/10 [00:10<00:15,  2.55s/it]\u001b[32m [repeated 4x across cluster]\u001b[0m\n"
     ]
    },
    {
     "name": "stdout",
     "output_type": "stream",
     "text": [
      "\u001b[36m(launch_and_fit pid=5418)\u001b[0m \tTrain Epoch: 5 \tTrain_loss: 1.7527 | Train_acc: 31.8182 % | Validation_loss: 1.8482 | Validation_acc: 27.7778 %\u001b[32m [repeated 4x across cluster]\u001b[0m\n"
     ]
    },
    {
     "name": "stderr",
     "output_type": "stream",
     "text": [
      " 60%|\u001b[34m██████    \u001b[0m| 6/10 [00:15<00:10,  2.65s/it]\u001b[32m [repeated 4x across cluster]\u001b[0m\n"
     ]
    },
    {
     "name": "stdout",
     "output_type": "stream",
     "text": [
      "\u001b[36m(launch_and_fit pid=5418)\u001b[0m \tTrain Epoch: 7 \tTrain_loss: 1.7401 | Train_acc: 33.5795 % | Validation_loss: 1.9005 | Validation_acc: 18.7500 %\u001b[32m [repeated 4x across cluster]\u001b[0m\n"
     ]
    },
    {
     "name": "stderr",
     "output_type": "stream",
     "text": [
      " 80%|\u001b[34m████████  \u001b[0m| 8/10 [00:20<00:05,  2.57s/it]\u001b[32m [repeated 4x across cluster]\u001b[0m\n"
     ]
    },
    {
     "name": "stdout",
     "output_type": "stream",
     "text": [
      "\u001b[36m(launch_and_fit pid=5443)\u001b[0m \tTrain Epoch: 9 \tTrain_loss: 1.7488 | Train_acc: 35.2557 % | Validation_loss: 1.7327 | Validation_acc: 47.2222 %\u001b[32m [repeated 5x across cluster]\u001b[0m\n",
      "\u001b[36m(launch_and_fit pid=5418)\u001b[0m save graph in  results/FL/\n",
      "\u001b[36m(launch_and_fit pid=5418)\u001b[0m fc1.weight 5.7220458984375e-06\n",
      "\u001b[36m(launch_and_fit pid=5418)\u001b[0m fc1.bias 1.1920928955078125e-06\n",
      "\u001b[36m(launch_and_fit pid=5418)\u001b[0m fc2.weight 1.1920928955078125e-06\n",
      "\u001b[36m(launch_and_fit pid=5418)\u001b[0m fc2.bias 9.5367431640625e-07\n"
     ]
    },
    {
     "name": "stderr",
     "output_type": "stream",
     "text": [
      "100%|\u001b[34m██████████\u001b[0m| 10/10 [00:26<00:00,  2.62s/it]\u001b[32m [repeated 5x across cluster]\u001b[0m\n"
     ]
    },
    {
     "name": "stdout",
     "output_type": "stream",
     "text": [
      "\u001b[36m(launch_and_fit pid=5418)\u001b[0m qnn.weights 1.430511474609375e-06\n",
      "\u001b[36m(launch_and_fit pid=5443)\u001b[0m \tTrain Epoch: 10 \tTrain_loss: 1.7465 | Train_acc: 35.9091 % | Validation_loss: 1.7432 | Validation_acc: 31.9444 %\u001b[32m [repeated 2x across cluster]\u001b[0m\n",
      "\u001b[36m(launch_and_fit pid=5501)\u001b[0m Run with homomorphic encryption\n",
      "\u001b[36m(launch_and_fit pid=5443)\u001b[0m save graph in  results/FL/\n",
      "\u001b[36m(launch_and_fit pid=5443)\u001b[0m fc3.bias 6.198883056640625e-06\u001b[32m [repeated 8x across cluster]\u001b[0m\n",
      "\u001b[36m(launch_and_fit pid=5443)\u001b[0m qnn.weights 1.9073486328125e-06\n",
      "\u001b[36m(launch_and_fit pid=5501)\u001b[0m [Client 2, round 7] fit, config: {'learning_rate': 0.003, 'batch_size': '16', 'server_round': 7, 'local_epochs': 10}\n",
      "\u001b[36m(launch_and_fit pid=5501)\u001b[0m Updated model\n"
     ]
    },
    {
     "name": "stderr",
     "output_type": "stream",
     "text": [
      "  0%|\u001b[34m          \u001b[0m| 0/10 [00:00<?, ?it/s]\n"
     ]
    },
    {
     "name": "stdout",
     "output_type": "stream",
     "text": [
      "\u001b[36m(launch_and_fit pid=5501)\u001b[0m \tTrain Epoch: 1 \tTrain_loss: 1.7666 | Train_acc: 32.4716 % | Validation_loss: 1.7999 | Validation_acc: 27.7778 %\n"
     ]
    },
    {
     "name": "stderr",
     "output_type": "stream",
     "text": [
      " 10%|\u001b[34m█         \u001b[0m| 1/10 [00:02<00:24,  2.69s/it]\n"
     ]
    },
    {
     "name": "stdout",
     "output_type": "stream",
     "text": [
      "\u001b[36m(launch_and_fit pid=5526)\u001b[0m Run with homomorphic encryption\n",
      "\u001b[36m(launch_and_fit pid=5526)\u001b[0m [Client 3, round 7] fit, config: {'learning_rate': 0.003, 'batch_size': '16', 'server_round': 7, 'local_epochs': 10}\n",
      "\u001b[36m(launch_and_fit pid=5526)\u001b[0m Updated model\n"
     ]
    },
    {
     "name": "stderr",
     "output_type": "stream",
     "text": [
      "  0%|\u001b[34m          \u001b[0m| 0/10 [00:00<?, ?it/s]\n"
     ]
    },
    {
     "name": "stdout",
     "output_type": "stream",
     "text": [
      "\u001b[36m(launch_and_fit pid=5501)\u001b[0m \tTrain Epoch: 3 \tTrain_loss: 1.7204 | Train_acc: 38.0398 % | Validation_loss: 1.7687 | Validation_acc: 31.9444 %\u001b[32m [repeated 4x across cluster]\u001b[0m\n"
     ]
    },
    {
     "name": "stderr",
     "output_type": "stream",
     "text": [
      " 30%|\u001b[34m███       \u001b[0m| 3/10 [00:07<00:17,  2.56s/it]\u001b[32m [repeated 4x across cluster]\u001b[0m\n"
     ]
    },
    {
     "name": "stdout",
     "output_type": "stream",
     "text": [
      "\u001b[36m(launch_and_fit pid=5526)\u001b[0m \tTrain Epoch: 5 \tTrain_loss: 1.7514 | Train_acc: 33.2102 % | Validation_loss: 1.7931 | Validation_acc: 36.1111 %\u001b[32m [repeated 5x across cluster]\u001b[0m\n"
     ]
    },
    {
     "name": "stderr",
     "output_type": "stream",
     "text": [
      " 50%|\u001b[34m█████     \u001b[0m| 5/10 [00:12<00:12,  2.59s/it]\u001b[32m [repeated 5x across cluster]\u001b[0m\n"
     ]
    },
    {
     "name": "stdout",
     "output_type": "stream",
     "text": [
      "\u001b[36m(launch_and_fit pid=5526)\u001b[0m \tTrain Epoch: 7 \tTrain_loss: 1.7304 | Train_acc: 40.3977 % | Validation_loss: 1.8542 | Validation_acc: 29.8611 %\u001b[32m [repeated 4x across cluster]\u001b[0m\n"
     ]
    },
    {
     "name": "stderr",
     "output_type": "stream",
     "text": [
      " 70%|\u001b[34m███████   \u001b[0m| 7/10 [00:18<00:07,  2.58s/it]\u001b[32m [repeated 4x across cluster]\u001b[0m\n"
     ]
    },
    {
     "name": "stdout",
     "output_type": "stream",
     "text": [
      "\u001b[36m(launch_and_fit pid=5501)\u001b[0m save graph in  results/FL/\n",
      "\u001b[36m(launch_and_fit pid=5501)\u001b[0m \tTrain Epoch: 10 \tTrain_loss: 1.6899 | Train_acc: 41.7614 % | Validation_loss: 1.7700 | Validation_acc: 31.9444 %\u001b[32m [repeated 5x across cluster]\u001b[0m\n"
     ]
    },
    {
     "name": "stderr",
     "output_type": "stream",
     "text": [
      "100%|\u001b[34m██████████\u001b[0m| 10/10 [00:25<00:00,  2.51s/it]\u001b[32m [repeated 5x across cluster]\u001b[0m\n"
     ]
    },
    {
     "name": "stdout",
     "output_type": "stream",
     "text": [
      "\u001b[36m(launch_and_fit pid=5501)\u001b[0m fc1.weight 3.218650817871094e-05\n",
      "\u001b[36m(launch_and_fit pid=5501)\u001b[0m fc1.bias 1.430511474609375e-06\n",
      "\u001b[36m(launch_and_fit pid=5501)\u001b[0m fc2.weight 1.1920928955078125e-06\n",
      "\u001b[36m(launch_and_fit pid=5501)\u001b[0m fc2.bias 9.5367431640625e-07\n",
      "\u001b[36m(launch_and_fit pid=5501)\u001b[0m qnn.weights 1.430511474609375e-06\n",
      "\u001b[36m(launch_and_fit pid=5526)\u001b[0m save graph in  results/FL/\n",
      "\u001b[36m(launch_and_fit pid=5526)\u001b[0m \tTrain Epoch: 10 \tTrain_loss: 1.7166 | Train_acc: 39.4602 % | Validation_loss: 1.8174 | Validation_acc: 36.1111 %\n",
      "\u001b[36m(launch_and_fit pid=5526)\u001b[0m fc3.bias 3.814697265625e-06\u001b[32m [repeated 8x across cluster]\u001b[0m\n",
      "\u001b[36m(launch_and_fit pid=5583)\u001b[0m Run with homomorphic encryption\n",
      "\u001b[36m(launch_and_fit pid=5526)\u001b[0m qnn.weights 1.1920928955078125e-06\n",
      "\u001b[36m(launch_and_fit pid=5583)\u001b[0m [Client 9, round 7] fit, config: {'learning_rate': 0.003, 'batch_size': '16', 'server_round': 7, 'local_epochs': 10}\n"
     ]
    },
    {
     "name": "stderr",
     "output_type": "stream",
     "text": [
      "  0%|\u001b[34m          \u001b[0m| 0/10 [00:00<?, ?it/s]\n",
      "100%|\u001b[34m██████████\u001b[0m| 10/10 [00:26<00:00,  2.65s/it]\n"
     ]
    },
    {
     "name": "stdout",
     "output_type": "stream",
     "text": [
      "\u001b[36m(launch_and_fit pid=5583)\u001b[0m Updated model\n"
     ]
    },
    {
     "name": "stderr",
     "output_type": "stream",
     "text": [
      " 10%|\u001b[34m█         \u001b[0m| 1/10 [00:02<00:24,  2.75s/it]\n"
     ]
    },
    {
     "name": "stdout",
     "output_type": "stream",
     "text": [
      "\u001b[36m(launch_and_fit pid=5583)\u001b[0m \tTrain Epoch: 1 \tTrain_loss: 1.7576 | Train_acc: 34.7708 % | Validation_loss: 1.7347 | Validation_acc: 34.0278 %\n"
     ]
    },
    {
     "name": "stderr",
     "output_type": "stream",
     "text": [
      " 20%|\u001b[34m██        \u001b[0m| 2/10 [00:05<00:20,  2.59s/it]\n",
      "  0%|\u001b[34m          \u001b[0m| 0/10 [00:00<?, ?it/s]\n"
     ]
    },
    {
     "name": "stdout",
     "output_type": "stream",
     "text": [
      "\u001b[36m(launch_and_fit pid=5583)\u001b[0m \tTrain Epoch: 2 \tTrain_loss: 1.7419 | Train_acc: 37.9792 % | Validation_loss: 1.7322 | Validation_acc: 38.1944 %\n",
      "\u001b[36m(launch_and_fit pid=5608)\u001b[0m Run with homomorphic encryption\n",
      "\u001b[36m(launch_and_fit pid=5608)\u001b[0m [Client 6, round 7] fit, config: {'learning_rate': 0.003, 'batch_size': '16', 'server_round': 7, 'local_epochs': 10}\n",
      "\u001b[36m(launch_and_fit pid=5608)\u001b[0m Updated model\n"
     ]
    },
    {
     "name": "stderr",
     "output_type": "stream",
     "text": [
      " 40%|\u001b[34m████      \u001b[0m| 4/10 [00:10<00:15,  2.53s/it]\u001b[32m [repeated 4x across cluster]\u001b[0m\n"
     ]
    },
    {
     "name": "stdout",
     "output_type": "stream",
     "text": [
      "\u001b[36m(launch_and_fit pid=5583)\u001b[0m \tTrain Epoch: 4 \tTrain_loss: 1.7383 | Train_acc: 36.6875 % | Validation_loss: 1.7141 | Validation_acc: 40.2778 %\u001b[32m [repeated 4x across cluster]\u001b[0m\n"
     ]
    },
    {
     "name": "stderr",
     "output_type": "stream",
     "text": [
      " 60%|\u001b[34m██████    \u001b[0m| 6/10 [00:15<00:10,  2.59s/it]\u001b[32m [repeated 6x across cluster]\u001b[0m\n"
     ]
    },
    {
     "name": "stdout",
     "output_type": "stream",
     "text": [
      "\u001b[36m(launch_and_fit pid=5608)\u001b[0m \tTrain Epoch: 6 \tTrain_loss: 1.7053 | Train_acc: 41.1932 % | Validation_loss: 1.9224 | Validation_acc: 16.6667 %\u001b[32m [repeated 6x across cluster]\u001b[0m\n"
     ]
    },
    {
     "name": "stderr",
     "output_type": "stream",
     "text": [
      " 80%|\u001b[34m████████  \u001b[0m| 8/10 [00:20<00:05,  2.56s/it]\u001b[32m [repeated 4x across cluster]\u001b[0m\n"
     ]
    },
    {
     "name": "stdout",
     "output_type": "stream",
     "text": [
      "\u001b[36m(launch_and_fit pid=5608)\u001b[0m \tTrain Epoch: 8 \tTrain_loss: 1.6819 | Train_acc: 39.1761 % | Validation_loss: 1.9317 | Validation_acc: 27.7778 %\u001b[32m [repeated 4x across cluster]\u001b[0m\n",
      "\u001b[36m(launch_and_fit pid=5583)\u001b[0m save graph in  results/FL/\n",
      "\u001b[36m(launch_and_fit pid=5583)\u001b[0m fc1.weight 5.245208740234375e-06\n",
      "\u001b[36m(launch_and_fit pid=5583)\u001b[0m fc1.bias 1.1920928955078125e-06\n",
      "\u001b[36m(launch_and_fit pid=5583)\u001b[0m fc2.weight 9.5367431640625e-07\n",
      "\u001b[36m(launch_and_fit pid=5583)\u001b[0m fc2.bias 7.152557373046875e-07\n",
      "\u001b[36m(launch_and_fit pid=5583)\u001b[0m fc3.weight 2.5126240253448486\n",
      "\u001b[36m(launch_and_fit pid=5583)\u001b[0m fc3.bias 4.76837158203125e-06\n",
      "\u001b[36m(launch_and_fit pid=5583)\u001b[0m qnn.weights 9.5367431640625e-07\n",
      "\u001b[36m(launch_and_fit pid=5583)\u001b[0m \tTrain Epoch: 10 \tTrain_loss: 1.6673 | Train_acc: 42.6458 % | Validation_loss: 1.6973 | Validation_acc: 38.1944 %\u001b[32m [repeated 3x across cluster]\u001b[0m\n"
     ]
    },
    {
     "name": "stderr",
     "output_type": "stream",
     "text": [
      "100%|\u001b[34m██████████\u001b[0m| 10/10 [00:26<00:00,  2.66s/it]\u001b[32m [repeated 4x across cluster]\u001b[0m\n"
     ]
    },
    {
     "name": "stdout",
     "output_type": "stream",
     "text": [
      "\u001b[36m(launch_and_fit pid=5608)\u001b[0m save graph in  results/FL/\n",
      "\u001b[36m(launch_and_fit pid=5608)\u001b[0m fc3.bias 5.0067901611328125e-06\u001b[32m [repeated 6x across cluster]\u001b[0m\n",
      "\u001b[36m(launch_and_fit pid=5665)\u001b[0m Run with homomorphic encryption\n",
      "\u001b[36m(launch_and_fit pid=5608)\u001b[0m qnn.weights 1.430511474609375e-06\n",
      "\u001b[36m(launch_and_fit pid=5608)\u001b[0m \tTrain Epoch: 10 \tTrain_loss: 1.6813 | Train_acc: 42.5852 % | Validation_loss: 1.9009 | Validation_acc: 16.6667 %\n",
      "\u001b[36m(launch_and_fit pid=5665)\u001b[0m [Client 8, round 7] fit, config: {'learning_rate': 0.003, 'batch_size': '16', 'server_round': 7, 'local_epochs': 10}\n",
      "\u001b[36m(launch_and_fit pid=5665)\u001b[0m Updated model\n"
     ]
    },
    {
     "name": "stderr",
     "output_type": "stream",
     "text": [
      "  0%|\u001b[34m          \u001b[0m| 0/10 [00:00<?, ?it/s]\n"
     ]
    },
    {
     "name": "stdout",
     "output_type": "stream",
     "text": [
      "\u001b[36m(launch_and_fit pid=5665)\u001b[0m \tTrain Epoch: 1 \tTrain_loss: 1.7699 | Train_acc: 31.6761 % | Validation_loss: 1.8420 | Validation_acc: 25.0000 %\n"
     ]
    },
    {
     "name": "stderr",
     "output_type": "stream",
     "text": [
      " 10%|\u001b[34m█         \u001b[0m| 1/10 [00:02<00:25,  2.81s/it]\n"
     ]
    },
    {
     "name": "stdout",
     "output_type": "stream",
     "text": [
      "\u001b[36m(launch_and_fit pid=5690)\u001b[0m Run with homomorphic encryption\n",
      "\u001b[36m(launch_and_fit pid=5665)\u001b[0m \tTrain Epoch: 2 \tTrain_loss: 1.7460 | Train_acc: 35.3977 % | Validation_loss: 1.8467 | Validation_acc: 25.0000 %\n",
      "\u001b[36m(launch_and_fit pid=5690)\u001b[0m [Client 4, round 7] fit, config: {'learning_rate': 0.003, 'batch_size': '16', 'server_round': 7, 'local_epochs': 10}\n",
      "\u001b[36m(launch_and_fit pid=5690)\u001b[0m Updated model\n"
     ]
    },
    {
     "name": "stderr",
     "output_type": "stream",
     "text": [
      " 20%|\u001b[34m██        \u001b[0m| 2/10 [00:05<00:21,  2.71s/it]\n",
      "  0%|\u001b[34m          \u001b[0m| 0/10 [00:00<?, ?it/s]\n"
     ]
    },
    {
     "name": "stdout",
     "output_type": "stream",
     "text": [
      "\u001b[36m(launch_and_fit pid=5665)\u001b[0m \tTrain Epoch: 3 \tTrain_loss: 1.7355 | Train_acc: 38.3807 % | Validation_loss: 1.8277 | Validation_acc: 22.9167 %\u001b[32m [repeated 2x across cluster]\u001b[0m\n"
     ]
    },
    {
     "name": "stderr",
     "output_type": "stream",
     "text": [
      " 30%|\u001b[34m███       \u001b[0m| 3/10 [00:08<00:18,  2.68s/it]\u001b[32m [repeated 2x across cluster]\u001b[0m\n"
     ]
    },
    {
     "name": "stdout",
     "output_type": "stream",
     "text": [
      "\u001b[36m(launch_and_fit pid=5665)\u001b[0m \tTrain Epoch: 5 \tTrain_loss: 1.7131 | Train_acc: 38.2102 % | Validation_loss: 1.8291 | Validation_acc: 25.0000 %\u001b[32m [repeated 4x across cluster]\u001b[0m\n"
     ]
    },
    {
     "name": "stderr",
     "output_type": "stream",
     "text": [
      " 50%|\u001b[34m█████     \u001b[0m| 5/10 [00:13<00:13,  2.61s/it]\u001b[32m [repeated 4x across cluster]\u001b[0m\n"
     ]
    },
    {
     "name": "stdout",
     "output_type": "stream",
     "text": [
      "\u001b[36m(launch_and_fit pid=5665)\u001b[0m \tTrain Epoch: 7 \tTrain_loss: 1.7388 | Train_acc: 35.8523 % | Validation_loss: 1.8308 | Validation_acc: 22.9167 %\u001b[32m [repeated 4x across cluster]\u001b[0m\n"
     ]
    },
    {
     "name": "stderr",
     "output_type": "stream",
     "text": [
      " 70%|\u001b[34m███████   \u001b[0m| 7/10 [00:18<00:07,  2.61s/it]\u001b[32m [repeated 4x across cluster]\u001b[0m\n"
     ]
    },
    {
     "name": "stdout",
     "output_type": "stream",
     "text": [
      "\u001b[36m(launch_and_fit pid=5665)\u001b[0m \tTrain Epoch: 9 \tTrain_loss: 1.7150 | Train_acc: 38.9773 % | Validation_loss: 1.8256 | Validation_acc: 34.0278 %\u001b[32m [repeated 4x across cluster]\u001b[0m\n"
     ]
    },
    {
     "name": "stderr",
     "output_type": "stream",
     "text": [
      " 90%|\u001b[34m█████████ \u001b[0m| 9/10 [00:23<00:02,  2.65s/it]\u001b[32m [repeated 4x across cluster]\u001b[0m\n"
     ]
    },
    {
     "name": "stdout",
     "output_type": "stream",
     "text": [
      "\u001b[36m(launch_and_fit pid=5665)\u001b[0m save graph in  results/FL/\n",
      "\u001b[36m(launch_and_fit pid=5665)\u001b[0m fc1.weight 5.4836273193359375e-06\n",
      "\u001b[36m(launch_and_fit pid=5665)\u001b[0m fc1.bias 1.6689300537109375e-06\n",
      "\u001b[36m(launch_and_fit pid=5665)\u001b[0m fc2.weight 1.1920928955078125e-06\n",
      "\u001b[36m(launch_and_fit pid=5665)\u001b[0m fc2.bias 9.5367431640625e-07\n",
      "\u001b[36m(launch_and_fit pid=5665)\u001b[0m fc3.weight 2.725008726119995\n",
      "\u001b[36m(launch_and_fit pid=5665)\u001b[0m fc3.bias 4.291534423828125e-06\n",
      "\u001b[36m(launch_and_fit pid=5665)\u001b[0m qnn.weights 1.1920928955078125e-06\n",
      "\u001b[36m(launch_and_fit pid=5690)\u001b[0m \tTrain Epoch: 9 \tTrain_loss: 1.7389 | Train_acc: 35.4261 % | Validation_loss: 1.6952 | Validation_acc: 40.2778 %\u001b[32m [repeated 3x across cluster]\u001b[0m\n"
     ]
    },
    {
     "name": "stderr",
     "output_type": "stream",
     "text": [
      "100%|\u001b[34m██████████\u001b[0m| 10/10 [00:26<00:00,  2.69s/it]\u001b[32m [repeated 4x across cluster]\u001b[0m\n"
     ]
    },
    {
     "name": "stdout",
     "output_type": "stream",
     "text": [
      "\u001b[36m(launch_and_fit pid=5690)\u001b[0m save graph in  results/FL/\n",
      "\u001b[36m(launch_and_fit pid=5690)\u001b[0m fc3.bias 5.245208740234375e-06\u001b[32m [repeated 6x across cluster]\u001b[0m\n"
     ]
    },
    {
     "name": "stderr",
     "output_type": "stream",
     "text": [
      "DEBUG flwr 2024-07-22 09:52:09,299 | server.py:236 | fit_round 7 received 10 results and 0 failures\n"
     ]
    },
    {
     "name": "stdout",
     "output_type": "stream",
     "text": [
      "Saving round 7 aggregated_parameters...\n"
     ]
    },
    {
     "name": "stderr",
     "output_type": "stream",
     "text": [
      "DEBUG flwr 2024-07-22 09:52:29,129 | server.py:173 | evaluate_round 7: strategy sampled 10 clients (out of 10)\n"
     ]
    },
    {
     "name": "stdout",
     "output_type": "stream",
     "text": [
      "\u001b[36m(launch_and_evaluate pid=5756)\u001b[0m Run with homomorphic encryption\n",
      "\u001b[36m(launch_and_fit pid=5690)\u001b[0m qnn.weights 9.5367431640625e-07\n",
      "\u001b[36m(launch_and_fit pid=5690)\u001b[0m \tTrain Epoch: 10 \tTrain_loss: 1.7302 | Train_acc: 33.3807 % | Validation_loss: 1.7210 | Validation_acc: 44.4444 %\n",
      "\u001b[36m(launch_and_evaluate pid=5756)\u001b[0m [Client 8] evaluate, config: {}\n",
      "\u001b[36m(launch_and_evaluate pid=5756)\u001b[0m Updated model\n"
     ]
    },
    {
     "name": "stderr",
     "output_type": "stream",
     "text": [
      "\u001b[36m(launch_and_evaluate pid=5756)\u001b[0m /opt/conda/lib/python3.10/site-packages/sklearn/metrics/_ranking.py:1029: UndefinedMetricWarning: No positive samples in y_true, true positive value should be meaningless\n",
      "\u001b[36m(launch_and_evaluate pid=5756)\u001b[0m   warnings.warn(\n"
     ]
    },
    {
     "name": "stdout",
     "output_type": "stream",
     "text": [
      "\u001b[36m(launch_and_evaluate pid=5834)\u001b[0m Run with homomorphic encryption\u001b[32m [repeated 2x across cluster]\u001b[0m\n",
      "\u001b[36m(launch_and_evaluate pid=5780)\u001b[0m [Client 3] evaluate, config: {}\n",
      "\u001b[36m(launch_and_evaluate pid=5780)\u001b[0m Updated model\n",
      "\u001b[36m(launch_and_evaluate pid=5834)\u001b[0m [Client 2] evaluate, config: {}\n",
      "\u001b[36m(launch_and_evaluate pid=5834)\u001b[0m Updated model\n",
      "\u001b[36m(launch_and_evaluate pid=5912)\u001b[0m Run with homomorphic encryption\u001b[32m [repeated 2x across cluster]\u001b[0m\n",
      "\u001b[36m(launch_and_evaluate pid=5836)\u001b[0m [Client 1] evaluate, config: {}\n",
      "\u001b[36m(launch_and_evaluate pid=5836)\u001b[0m Updated model\n",
      "\u001b[36m(launch_and_evaluate pid=5912)\u001b[0m [Client 0] evaluate, config: {}\n",
      "\u001b[36m(launch_and_evaluate pid=5912)\u001b[0m Updated model\n"
     ]
    },
    {
     "name": "stderr",
     "output_type": "stream",
     "text": [
      "\u001b[36m(launch_and_evaluate pid=5914)\u001b[0m /opt/conda/lib/python3.10/site-packages/sklearn/metrics/_ranking.py:1029: UndefinedMetricWarning: No positive samples in y_true, true positive value should be meaningless\n",
      "\u001b[36m(launch_and_evaluate pid=5914)\u001b[0m   warnings.warn(\n"
     ]
    },
    {
     "name": "stdout",
     "output_type": "stream",
     "text": [
      "\u001b[36m(launch_and_evaluate pid=5990)\u001b[0m Run with homomorphic encryption\u001b[32m [repeated 2x across cluster]\u001b[0m\n",
      "\u001b[36m(launch_and_evaluate pid=5914)\u001b[0m [Client 4] evaluate, config: {}\n",
      "\u001b[36m(launch_and_evaluate pid=5914)\u001b[0m Updated model\n",
      "\u001b[36m(launch_and_evaluate pid=5990)\u001b[0m [Client 7] evaluate, config: {}\n",
      "\u001b[36m(launch_and_evaluate pid=5990)\u001b[0m Updated model\n"
     ]
    },
    {
     "name": "stderr",
     "output_type": "stream",
     "text": [
      "\u001b[36m(launch_and_evaluate pid=5992)\u001b[0m /opt/conda/lib/python3.10/site-packages/sklearn/metrics/_ranking.py:1029: UndefinedMetricWarning: No positive samples in y_true, true positive value should be meaningless\n",
      "\u001b[36m(launch_and_evaluate pid=5992)\u001b[0m   warnings.warn(\n"
     ]
    },
    {
     "name": "stdout",
     "output_type": "stream",
     "text": [
      "\u001b[36m(launch_and_evaluate pid=6068)\u001b[0m Run with homomorphic encryption\u001b[32m [repeated 2x across cluster]\u001b[0m\n",
      "\u001b[36m(launch_and_evaluate pid=5992)\u001b[0m [Client 9] evaluate, config: {}\n",
      "\u001b[36m(launch_and_evaluate pid=5992)\u001b[0m Updated model\n",
      "\u001b[36m(launch_and_evaluate pid=6068)\u001b[0m [Client 5] evaluate, config: {}\n",
      "\u001b[36m(launch_and_evaluate pid=6068)\u001b[0m Updated model\n"
     ]
    },
    {
     "name": "stderr",
     "output_type": "stream",
     "text": [
      "DEBUG flwr 2024-07-22 09:53:35,478 | server.py:187 | evaluate_round 7 received 10 results and 0 failures\n",
      "DEBUG flwr 2024-07-22 09:53:35,479 | server.py:222 | fit_round 8: strategy sampled 10 clients (out of 10)\n"
     ]
    },
    {
     "name": "stdout",
     "output_type": "stream",
     "text": [
      "\u001b[36m(launch_and_fit pid=6155)\u001b[0m Run with homomorphic encryption\u001b[32m [repeated 2x across cluster]\u001b[0m\n",
      "\u001b[36m(launch_and_evaluate pid=6070)\u001b[0m [Client 6] evaluate, config: {}\n",
      "\u001b[36m(launch_and_evaluate pid=6070)\u001b[0m Updated model\n",
      "\u001b[36m(launch_and_fit pid=6155)\u001b[0m [Client 7, round 8] fit, config: {'learning_rate': 0.003, 'batch_size': '16', 'server_round': 8, 'local_epochs': 10}\n",
      "\u001b[36m(launch_and_fit pid=6155)\u001b[0m Updated model\n"
     ]
    },
    {
     "name": "stderr",
     "output_type": "stream",
     "text": [
      "  0%|\u001b[34m          \u001b[0m| 0/10 [00:00<?, ?it/s]\n"
     ]
    },
    {
     "name": "stdout",
     "output_type": "stream",
     "text": [
      "\u001b[36m(launch_and_fit pid=6155)\u001b[0m \tTrain Epoch: 1 \tTrain_loss: 1.7967 | Train_acc: 32.6136 % | Validation_loss: 1.6287 | Validation_acc: 45.1389 %\n"
     ]
    },
    {
     "name": "stderr",
     "output_type": "stream",
     "text": [
      " 10%|\u001b[34m█         \u001b[0m| 1/10 [00:02<00:24,  2.70s/it]\n"
     ]
    },
    {
     "name": "stdout",
     "output_type": "stream",
     "text": [
      "\u001b[36m(launch_and_fit pid=6156)\u001b[0m Run with homomorphic encryption\n",
      "\u001b[36m(launch_and_fit pid=6156)\u001b[0m [Client 4, round 8] fit, config: {'learning_rate': 0.003, 'batch_size': '16', 'server_round': 8, 'local_epochs': 10}\n",
      "\u001b[36m(launch_and_fit pid=6156)\u001b[0m Updated model\n"
     ]
    },
    {
     "name": "stderr",
     "output_type": "stream",
     "text": [
      "  0%|\u001b[34m          \u001b[0m| 0/10 [00:00<?, ?it/s]\n"
     ]
    },
    {
     "name": "stdout",
     "output_type": "stream",
     "text": [
      "\u001b[36m(launch_and_fit pid=6155)\u001b[0m \tTrain Epoch: 3 \tTrain_loss: 1.7487 | Train_acc: 36.6477 % | Validation_loss: 1.6054 | Validation_acc: 51.3889 %\u001b[32m [repeated 4x across cluster]\u001b[0m\n"
     ]
    },
    {
     "name": "stderr",
     "output_type": "stream",
     "text": [
      " 30%|\u001b[34m███       \u001b[0m| 3/10 [00:07<00:18,  2.63s/it]\u001b[32m [repeated 4x across cluster]\u001b[0m\n"
     ]
    },
    {
     "name": "stdout",
     "output_type": "stream",
     "text": [
      "\u001b[36m(launch_and_fit pid=6155)\u001b[0m \tTrain Epoch: 5 \tTrain_loss: 1.7538 | Train_acc: 34.9432 % | Validation_loss: 1.6336 | Validation_acc: 49.3056 %\u001b[32m [repeated 4x across cluster]\u001b[0m\n"
     ]
    },
    {
     "name": "stderr",
     "output_type": "stream",
     "text": [
      " 50%|\u001b[34m█████     \u001b[0m| 5/10 [00:12<00:12,  2.56s/it]\u001b[32m [repeated 4x across cluster]\u001b[0m\n"
     ]
    },
    {
     "name": "stdout",
     "output_type": "stream",
     "text": [
      "\u001b[36m(launch_and_fit pid=6155)\u001b[0m \tTrain Epoch: 7 \tTrain_loss: 1.7357 | Train_acc: 39.7727 % | Validation_loss: 1.6024 | Validation_acc: 47.2222 %\u001b[32m [repeated 4x across cluster]\u001b[0m\n"
     ]
    },
    {
     "name": "stderr",
     "output_type": "stream",
     "text": [
      " 70%|\u001b[34m███████   \u001b[0m| 7/10 [00:18<00:07,  2.55s/it]\u001b[32m [repeated 4x across cluster]\u001b[0m\n"
     ]
    },
    {
     "name": "stdout",
     "output_type": "stream",
     "text": [
      "\u001b[36m(launch_and_fit pid=6155)\u001b[0m \tTrain Epoch: 9 \tTrain_loss: 1.7131 | Train_acc: 41.7898 % | Validation_loss: 1.6446 | Validation_acc: 51.3889 %\u001b[32m [repeated 4x across cluster]\u001b[0m\n"
     ]
    },
    {
     "name": "stderr",
     "output_type": "stream",
     "text": [
      " 90%|\u001b[34m█████████ \u001b[0m| 9/10 [00:23<00:02,  2.57s/it]\u001b[32m [repeated 4x across cluster]\u001b[0m\n"
     ]
    },
    {
     "name": "stdout",
     "output_type": "stream",
     "text": [
      "\u001b[36m(launch_and_fit pid=6155)\u001b[0m save graph in  results/FL/\n",
      "\u001b[36m(launch_and_fit pid=6155)\u001b[0m fc1.weight 7.3909759521484375e-06\n",
      "\u001b[36m(launch_and_fit pid=6155)\u001b[0m fc1.bias 2.86102294921875e-06\n",
      "\u001b[36m(launch_and_fit pid=6155)\u001b[0m fc2.weight 4.291534423828125e-06\n",
      "\u001b[36m(launch_and_fit pid=6155)\u001b[0m fc2.bias 1.9073486328125e-06\n",
      "\u001b[36m(launch_and_fit pid=6155)\u001b[0m qnn.weights 1.6689300537109375e-06\n",
      "\u001b[36m(launch_and_fit pid=6156)\u001b[0m \tTrain Epoch: 10 \tTrain_loss: 1.7182 | Train_acc: 36.9886 % | Validation_loss: 1.7017 | Validation_acc: 38.1944 %\u001b[32m [repeated 3x across cluster]\u001b[0m\n",
      "\u001b[36m(launch_and_fit pid=6238)\u001b[0m Run with homomorphic encryption\n",
      "\u001b[36m(launch_and_fit pid=6156)\u001b[0m save graph in  results/FL/\n",
      "\u001b[36m(launch_and_fit pid=6156)\u001b[0m fc3.bias 4.0531158447265625e-06\u001b[32m [repeated 8x across cluster]\u001b[0m\n",
      "\u001b[36m(launch_and_fit pid=6156)\u001b[0m qnn.weights 9.5367431640625e-07\n",
      "\u001b[36m(launch_and_fit pid=6238)\u001b[0m [Client 6, round 8] fit, config: {'learning_rate': 0.003, 'batch_size': '16', 'server_round': 8, 'local_epochs': 10}\n"
     ]
    },
    {
     "name": "stderr",
     "output_type": "stream",
     "text": [
      "  0%|\u001b[34m          \u001b[0m| 0/10 [00:00<?, ?it/s]\n",
      "100%|\u001b[34m██████████\u001b[0m| 10/10 [00:26<00:00,  2.64s/it]\u001b[32m [repeated 3x across cluster]\u001b[0m\n"
     ]
    },
    {
     "name": "stdout",
     "output_type": "stream",
     "text": [
      "\u001b[36m(launch_and_fit pid=6238)\u001b[0m Updated model\n",
      "\u001b[36m(launch_and_fit pid=6238)\u001b[0m \tTrain Epoch: 1 \tTrain_loss: 1.7400 | Train_acc: 38.2102 % | Validation_loss: 1.8062 | Validation_acc: 29.8611 %\n",
      "\u001b[36m(launch_and_fit pid=6263)\u001b[0m Run with homomorphic encryption\n"
     ]
    },
    {
     "name": "stderr",
     "output_type": "stream",
     "text": [
      "  0%|\u001b[34m          \u001b[0m| 0/10 [00:00<?, ?it/s]\n",
      " 20%|\u001b[34m██        \u001b[0m| 2/10 [00:05<00:21,  2.69s/it]\u001b[32m [repeated 3x across cluster]\u001b[0m\n"
     ]
    },
    {
     "name": "stdout",
     "output_type": "stream",
     "text": [
      "\u001b[36m(launch_and_fit pid=6263)\u001b[0m [Client 3, round 8] fit, config: {'learning_rate': 0.003, 'batch_size': '16', 'server_round': 8, 'local_epochs': 10}\n",
      "\u001b[36m(launch_and_fit pid=6263)\u001b[0m Updated model\n",
      "\u001b[36m(launch_and_fit pid=6238)\u001b[0m \tTrain Epoch: 3 \tTrain_loss: 1.6959 | Train_acc: 40.4261 % | Validation_loss: 1.8901 | Validation_acc: 40.9722 %\u001b[32m [repeated 4x across cluster]\u001b[0m\n"
     ]
    },
    {
     "name": "stderr",
     "output_type": "stream",
     "text": [
      " 40%|\u001b[34m████      \u001b[0m| 4/10 [00:10<00:16,  2.70s/it]\u001b[32m [repeated 4x across cluster]\u001b[0m\n"
     ]
    },
    {
     "name": "stdout",
     "output_type": "stream",
     "text": [
      "\u001b[36m(launch_and_fit pid=6238)\u001b[0m \tTrain Epoch: 5 \tTrain_loss: 1.6855 | Train_acc: 42.4148 % | Validation_loss: 1.8673 | Validation_acc: 43.0556 %\u001b[32m [repeated 4x across cluster]\u001b[0m\n"
     ]
    },
    {
     "name": "stderr",
     "output_type": "stream",
     "text": [
      " 60%|\u001b[34m██████    \u001b[0m| 6/10 [00:16<00:10,  2.63s/it]\u001b[32m [repeated 5x across cluster]\u001b[0m\n"
     ]
    },
    {
     "name": "stdout",
     "output_type": "stream",
     "text": [
      "\u001b[36m(launch_and_fit pid=6238)\u001b[0m \tTrain Epoch: 7 \tTrain_loss: 1.6905 | Train_acc: 45.2841 % | Validation_loss: 1.8445 | Validation_acc: 27.7778 %\u001b[32m [repeated 4x across cluster]\u001b[0m\n"
     ]
    },
    {
     "name": "stderr",
     "output_type": "stream",
     "text": [
      " 80%|\u001b[34m████████  \u001b[0m| 8/10 [00:21<00:05,  2.64s/it]\u001b[32m [repeated 4x across cluster]\u001b[0m\n"
     ]
    },
    {
     "name": "stdout",
     "output_type": "stream",
     "text": [
      "\u001b[36m(launch_and_fit pid=6238)\u001b[0m \tTrain Epoch: 9 \tTrain_loss: 1.6623 | Train_acc: 45.3409 % | Validation_loss: 1.8982 | Validation_acc: 43.0556 %\u001b[32m [repeated 4x across cluster]\u001b[0m\n",
      "\u001b[36m(launch_and_fit pid=6238)\u001b[0m save graph in  results/FL/\n",
      "\u001b[36m(launch_and_fit pid=6238)\u001b[0m fc1.weight 4.5299530029296875e-06\n",
      "\u001b[36m(launch_and_fit pid=6238)\u001b[0m fc1.bias 1.1920928955078125e-06\n",
      "\u001b[36m(launch_and_fit pid=6238)\u001b[0m fc2.weight 1.430511474609375e-06\n",
      "\u001b[36m(launch_and_fit pid=6238)\u001b[0m fc2.bias 9.5367431640625e-07\n"
     ]
    },
    {
     "name": "stderr",
     "output_type": "stream",
     "text": [
      "100%|\u001b[34m██████████\u001b[0m| 10/10 [00:26<00:00,  2.68s/it]\u001b[32m [repeated 4x across cluster]\u001b[0m\n"
     ]
    },
    {
     "name": "stdout",
     "output_type": "stream",
     "text": [
      "\u001b[36m(launch_and_fit pid=6238)\u001b[0m qnn.weights 1.430511474609375e-06\n",
      "\u001b[36m(launch_and_fit pid=6263)\u001b[0m \tTrain Epoch: 10 \tTrain_loss: 1.7074 | Train_acc: 39.6307 % | Validation_loss: 1.8204 | Validation_acc: 31.9444 %\u001b[32m [repeated 3x across cluster]\u001b[0m\n",
      "\u001b[36m(launch_and_fit pid=6263)\u001b[0m save graph in  results/FL/\n",
      "\u001b[36m(launch_and_fit pid=6320)\u001b[0m Run with homomorphic encryption\n",
      "\u001b[36m(launch_and_fit pid=6263)\u001b[0m fc3.bias 4.291534423828125e-06\u001b[32m [repeated 8x across cluster]\u001b[0m\n",
      "\u001b[36m(launch_and_fit pid=6263)\u001b[0m qnn.weights 9.5367431640625e-07\n",
      "\u001b[36m(launch_and_fit pid=6320)\u001b[0m [Client 1, round 8] fit, config: {'learning_rate': 0.003, 'batch_size': '16', 'server_round': 8, 'local_epochs': 10}\n"
     ]
    },
    {
     "name": "stderr",
     "output_type": "stream",
     "text": [
      "  0%|\u001b[34m          \u001b[0m| 0/10 [00:00<?, ?it/s]\n"
     ]
    },
    {
     "name": "stdout",
     "output_type": "stream",
     "text": [
      "\u001b[36m(launch_and_fit pid=6320)\u001b[0m Updated model\n"
     ]
    },
    {
     "name": "stderr",
     "output_type": "stream",
     "text": [
      " 10%|\u001b[34m█         \u001b[0m| 1/10 [00:02<00:24,  2.75s/it]\n"
     ]
    },
    {
     "name": "stdout",
     "output_type": "stream",
     "text": [
      "\u001b[36m(launch_and_fit pid=6320)\u001b[0m \tTrain Epoch: 1 \tTrain_loss: 1.7940 | Train_acc: 27.7841 % | Validation_loss: 1.9622 | Validation_acc: 20.8333 %\n",
      "\u001b[36m(launch_and_fit pid=6345)\u001b[0m Run with homomorphic encryption\n"
     ]
    },
    {
     "name": "stderr",
     "output_type": "stream",
     "text": [
      "  0%|\u001b[34m          \u001b[0m| 0/10 [00:00<?, ?it/s]\n"
     ]
    },
    {
     "name": "stdout",
     "output_type": "stream",
     "text": [
      "\u001b[36m(launch_and_fit pid=6345)\u001b[0m [Client 5, round 8] fit, config: {'learning_rate': 0.003, 'batch_size': '16', 'server_round': 8, 'local_epochs': 10}\n",
      "\u001b[36m(launch_and_fit pid=6345)\u001b[0m Updated model\n"
     ]
    },
    {
     "name": "stderr",
     "output_type": "stream",
     "text": [
      " 30%|\u001b[34m███       \u001b[0m| 3/10 [00:07<00:18,  2.60s/it]\u001b[32m [repeated 4x across cluster]\u001b[0m\n"
     ]
    },
    {
     "name": "stdout",
     "output_type": "stream",
     "text": [
      "\u001b[36m(launch_and_fit pid=6320)\u001b[0m \tTrain Epoch: 3 \tTrain_loss: 1.7625 | Train_acc: 31.2500 % | Validation_loss: 1.8517 | Validation_acc: 29.8611 %\u001b[32m [repeated 4x across cluster]\u001b[0m\n",
      "\u001b[36m(launch_and_fit pid=6345)\u001b[0m \tTrain Epoch: 5 \tTrain_loss: 1.7662 | Train_acc: 34.3466 % | Validation_loss: 1.7440 | Validation_acc: 58.3333 %\u001b[32m [repeated 5x across cluster]\u001b[0m\n"
     ]
    },
    {
     "name": "stderr",
     "output_type": "stream",
     "text": [
      " 50%|\u001b[34m█████     \u001b[0m| 5/10 [00:12<00:12,  2.54s/it]\u001b[32m [repeated 5x across cluster]\u001b[0m\n",
      " 80%|\u001b[34m████████  \u001b[0m| 8/10 [00:20<00:05,  2.50s/it]\u001b[32m [repeated 5x across cluster]\u001b[0m\n"
     ]
    },
    {
     "name": "stdout",
     "output_type": "stream",
     "text": [
      "\u001b[36m(launch_and_fit pid=6320)\u001b[0m \tTrain Epoch: 8 \tTrain_loss: 1.7297 | Train_acc: 36.9318 % | Validation_loss: 1.9171 | Validation_acc: 16.6667 %\u001b[32m [repeated 5x across cluster]\u001b[0m\n"
     ]
    },
    {
     "name": "stderr",
     "output_type": "stream",
     "text": [
      "100%|\u001b[34m██████████\u001b[0m| 10/10 [00:25<00:00,  2.56s/it]\u001b[32m [repeated 4x across cluster]\u001b[0m\n"
     ]
    },
    {
     "name": "stdout",
     "output_type": "stream",
     "text": [
      "\u001b[36m(launch_and_fit pid=6320)\u001b[0m save graph in  results/FL/\n",
      "\u001b[36m(launch_and_fit pid=6320)\u001b[0m \tTrain Epoch: 10 \tTrain_loss: 1.7357 | Train_acc: 33.8352 % | Validation_loss: 1.9627 | Validation_acc: 16.6667 %\u001b[32m [repeated 4x across cluster]\u001b[0m\n",
      "\u001b[36m(launch_and_fit pid=6320)\u001b[0m fc1.weight 5.0067901611328125e-06\n",
      "\u001b[36m(launch_and_fit pid=6320)\u001b[0m fc1.bias 1.1920928955078125e-06\n",
      "\u001b[36m(launch_and_fit pid=6320)\u001b[0m fc2.weight 1.1920928955078125e-06\n",
      "\u001b[36m(launch_and_fit pid=6320)\u001b[0m fc2.bias 1.1920928955078125e-06\n",
      "\u001b[36m(launch_and_fit pid=6320)\u001b[0m qnn.weights 1.6689300537109375e-06\n",
      "\u001b[36m(launch_and_fit pid=6345)\u001b[0m save graph in  results/FL/\n",
      "\u001b[36m(launch_and_fit pid=6345)\u001b[0m \tTrain Epoch: 10 \tTrain_loss: 1.7368 | Train_acc: 36.8466 % | Validation_loss: 1.7323 | Validation_acc: 51.3889 %\n",
      "\u001b[36m(launch_and_fit pid=6402)\u001b[0m Run with homomorphic encryption\n",
      "\u001b[36m(launch_and_fit pid=6345)\u001b[0m fc3.bias 5.4836273193359375e-06\u001b[32m [repeated 8x across cluster]\u001b[0m\n",
      "\u001b[36m(launch_and_fit pid=6345)\u001b[0m qnn.weights 1.430511474609375e-06\n",
      "\u001b[36m(launch_and_fit pid=6402)\u001b[0m [Client 9, round 8] fit, config: {'learning_rate': 0.003, 'batch_size': '16', 'server_round': 8, 'local_epochs': 10}\n"
     ]
    },
    {
     "name": "stderr",
     "output_type": "stream",
     "text": [
      "  0%|\u001b[34m          \u001b[0m| 0/10 [00:00<?, ?it/s]\n",
      "100%|\u001b[34m██████████\u001b[0m| 10/10 [00:26<00:00,  2.66s/it]\n"
     ]
    },
    {
     "name": "stdout",
     "output_type": "stream",
     "text": [
      "\u001b[36m(launch_and_fit pid=6402)\u001b[0m Updated model\n"
     ]
    },
    {
     "name": "stderr",
     "output_type": "stream",
     "text": [
      " 10%|\u001b[34m█         \u001b[0m| 1/10 [00:03<00:29,  3.27s/it]\n"
     ]
    },
    {
     "name": "stdout",
     "output_type": "stream",
     "text": [
      "\u001b[36m(launch_and_fit pid=6402)\u001b[0m \tTrain Epoch: 1 \tTrain_loss: 1.7556 | Train_acc: 37.6458 % | Validation_loss: 1.7326 | Validation_acc: 36.1111 %\n"
     ]
    },
    {
     "name": "stderr",
     "output_type": "stream",
     "text": [
      " 20%|\u001b[34m██        \u001b[0m| 2/10 [00:05<00:22,  2.87s/it]\n",
      "  0%|\u001b[34m          \u001b[0m| 0/10 [00:00<?, ?it/s]\n"
     ]
    },
    {
     "name": "stdout",
     "output_type": "stream",
     "text": [
      "\u001b[36m(launch_and_fit pid=6402)\u001b[0m \tTrain Epoch: 2 \tTrain_loss: 1.7314 | Train_acc: 39.8750 % | Validation_loss: 1.7349 | Validation_acc: 42.3611 %\n",
      "\u001b[36m(launch_and_fit pid=6427)\u001b[0m Run with homomorphic encryption\n",
      "\u001b[36m(launch_and_fit pid=6427)\u001b[0m [Client 8, round 8] fit, config: {'learning_rate': 0.003, 'batch_size': '16', 'server_round': 8, 'local_epochs': 10}\n",
      "\u001b[36m(launch_and_fit pid=6427)\u001b[0m Updated model\n"
     ]
    },
    {
     "name": "stderr",
     "output_type": "stream",
     "text": [
      " 30%|\u001b[34m███       \u001b[0m| 3/10 [00:08<00:19,  2.77s/it]\u001b[32m [repeated 2x across cluster]\u001b[0m\n"
     ]
    },
    {
     "name": "stdout",
     "output_type": "stream",
     "text": [
      "\u001b[36m(launch_and_fit pid=6402)\u001b[0m \tTrain Epoch: 3 \tTrain_loss: 1.7398 | Train_acc: 40.6875 % | Validation_loss: 1.7397 | Validation_acc: 34.0278 %\u001b[32m [repeated 2x across cluster]\u001b[0m\n"
     ]
    },
    {
     "name": "stderr",
     "output_type": "stream",
     "text": [
      " 50%|\u001b[34m█████     \u001b[0m| 5/10 [00:13<00:13,  2.72s/it]\u001b[32m [repeated 4x across cluster]\u001b[0m\n"
     ]
    },
    {
     "name": "stdout",
     "output_type": "stream",
     "text": [
      "\u001b[36m(launch_and_fit pid=6402)\u001b[0m \tTrain Epoch: 5 \tTrain_loss: 1.7142 | Train_acc: 38.8125 % | Validation_loss: 1.7155 | Validation_acc: 40.2778 %\u001b[32m [repeated 4x across cluster]\u001b[0m\n"
     ]
    },
    {
     "name": "stderr",
     "output_type": "stream",
     "text": [
      " 70%|\u001b[34m███████   \u001b[0m| 7/10 [00:19<00:08,  2.67s/it]\u001b[32m [repeated 4x across cluster]\u001b[0m\n"
     ]
    },
    {
     "name": "stdout",
     "output_type": "stream",
     "text": [
      "\u001b[36m(launch_and_fit pid=6402)\u001b[0m \tTrain Epoch: 7 \tTrain_loss: 1.6963 | Train_acc: 40.4375 % | Validation_loss: 1.7020 | Validation_acc: 42.3611 %\u001b[32m [repeated 4x across cluster]\u001b[0m\n"
     ]
    },
    {
     "name": "stderr",
     "output_type": "stream",
     "text": [
      " 90%|\u001b[34m█████████ \u001b[0m| 9/10 [00:24<00:02,  2.58s/it]\u001b[32m [repeated 5x across cluster]\u001b[0m\n"
     ]
    },
    {
     "name": "stdout",
     "output_type": "stream",
     "text": [
      "\u001b[36m(launch_and_fit pid=6402)\u001b[0m \tTrain Epoch: 9 \tTrain_loss: 1.6809 | Train_acc: 42.0208 % | Validation_loss: 1.6990 | Validation_acc: 36.1111 %\u001b[32m [repeated 5x across cluster]\u001b[0m\n",
      "\u001b[36m(launch_and_fit pid=6402)\u001b[0m save graph in  results/FL/\n",
      "\u001b[36m(launch_and_fit pid=6402)\u001b[0m fc1.weight 5.0067901611328125e-06\n",
      "\u001b[36m(launch_and_fit pid=6402)\u001b[0m fc1.bias 1.6689300537109375e-06\n",
      "\u001b[36m(launch_and_fit pid=6402)\u001b[0m fc2.weight 1.430511474609375e-06\n",
      "\u001b[36m(launch_and_fit pid=6402)\u001b[0m fc2.bias 1.1920928955078125e-06\n",
      "\u001b[36m(launch_and_fit pid=6402)\u001b[0m fc3.weight 2.6816699504852295\n",
      "\u001b[36m(launch_and_fit pid=6402)\u001b[0m fc3.bias 5.245208740234375e-06\n",
      "\u001b[36m(launch_and_fit pid=6402)\u001b[0m qnn.weights 1.430511474609375e-06\n",
      "\u001b[36m(launch_and_fit pid=6427)\u001b[0m \tTrain Epoch: 9 \tTrain_loss: 1.7116 | Train_acc: 39.2045 % | Validation_loss: 1.8341 | Validation_acc: 34.0278 %\u001b[32m [repeated 2x across cluster]\u001b[0m\n"
     ]
    },
    {
     "name": "stderr",
     "output_type": "stream",
     "text": [
      "100%|\u001b[34m██████████\u001b[0m| 10/10 [00:27<00:00,  2.73s/it]\u001b[32m [repeated 3x across cluster]\u001b[0m\n"
     ]
    },
    {
     "name": "stdout",
     "output_type": "stream",
     "text": [
      "\u001b[36m(launch_and_fit pid=6427)\u001b[0m save graph in  results/FL/\n",
      "\u001b[36m(launch_and_fit pid=6427)\u001b[0m fc3.bias 4.5299530029296875e-06\u001b[32m [repeated 6x across cluster]\u001b[0m\n",
      "\u001b[36m(launch_and_fit pid=6486)\u001b[0m Run with homomorphic encryption\n",
      "\u001b[36m(launch_and_fit pid=6427)\u001b[0m qnn.weights 1.1920928955078125e-06\n",
      "\u001b[36m(launch_and_fit pid=6427)\u001b[0m \tTrain Epoch: 10 \tTrain_loss: 1.6922 | Train_acc: 40.2557 % | Validation_loss: 1.8436 | Validation_acc: 25.0000 %\n",
      "\u001b[36m(launch_and_fit pid=6486)\u001b[0m [Client 2, round 8] fit, config: {'learning_rate': 0.003, 'batch_size': '16', 'server_round': 8, 'local_epochs': 10}\n",
      "\u001b[36m(launch_and_fit pid=6486)\u001b[0m Updated model\n"
     ]
    },
    {
     "name": "stderr",
     "output_type": "stream",
     "text": [
      "  0%|\u001b[34m          \u001b[0m| 0/10 [00:00<?, ?it/s]\n"
     ]
    },
    {
     "name": "stdout",
     "output_type": "stream",
     "text": [
      "\u001b[36m(launch_and_fit pid=6486)\u001b[0m \tTrain Epoch: 1 \tTrain_loss: 1.7324 | Train_acc: 37.2727 % | Validation_loss: 1.7800 | Validation_acc: 25.6944 %\n"
     ]
    },
    {
     "name": "stderr",
     "output_type": "stream",
     "text": [
      " 10%|\u001b[34m█         \u001b[0m| 1/10 [00:02<00:24,  2.75s/it]\n"
     ]
    },
    {
     "name": "stdout",
     "output_type": "stream",
     "text": [
      "\u001b[36m(launch_and_fit pid=6486)\u001b[0m \tTrain Epoch: 2 \tTrain_loss: 1.7305 | Train_acc: 39.0057 % | Validation_loss: 1.7690 | Validation_acc: 29.8611 %\n",
      "\u001b[36m(launch_and_fit pid=6510)\u001b[0m Run with homomorphic encryption\n",
      "\u001b[36m(launch_and_fit pid=6510)\u001b[0m [Client 0, round 8] fit, config: {'learning_rate': 0.003, 'batch_size': '16', 'server_round': 8, 'local_epochs': 10}\n",
      "\u001b[36m(launch_and_fit pid=6510)\u001b[0m Updated model\n"
     ]
    },
    {
     "name": "stderr",
     "output_type": "stream",
     "text": [
      " 20%|\u001b[34m██        \u001b[0m| 2/10 [00:05<00:21,  2.65s/it]\n",
      "  0%|\u001b[34m          \u001b[0m| 0/10 [00:00<?, ?it/s]\n"
     ]
    },
    {
     "name": "stdout",
     "output_type": "stream",
     "text": [
      "\u001b[36m(launch_and_fit pid=6486)\u001b[0m \tTrain Epoch: 3 \tTrain_loss: 1.7289 | Train_acc: 36.3352 % | Validation_loss: 1.7543 | Validation_acc: 25.6944 %\u001b[32m [repeated 2x across cluster]\u001b[0m\n"
     ]
    },
    {
     "name": "stderr",
     "output_type": "stream",
     "text": [
      " 30%|\u001b[34m███       \u001b[0m| 3/10 [00:07<00:18,  2.61s/it]\u001b[32m [repeated 2x across cluster]\u001b[0m\n"
     ]
    },
    {
     "name": "stdout",
     "output_type": "stream",
     "text": [
      "\u001b[36m(launch_and_fit pid=6486)\u001b[0m \tTrain Epoch: 5 \tTrain_loss: 1.7159 | Train_acc: 37.1307 % | Validation_loss: 1.7551 | Validation_acc: 25.6944 %\u001b[32m [repeated 4x across cluster]\u001b[0m\n"
     ]
    },
    {
     "name": "stderr",
     "output_type": "stream",
     "text": [
      " 50%|\u001b[34m█████     \u001b[0m| 5/10 [00:13<00:13,  2.64s/it]\u001b[32m [repeated 4x across cluster]\u001b[0m\n"
     ]
    },
    {
     "name": "stdout",
     "output_type": "stream",
     "text": [
      "\u001b[36m(launch_and_fit pid=6486)\u001b[0m \tTrain Epoch: 7 \tTrain_loss: 1.6995 | Train_acc: 39.4602 % | Validation_loss: 1.7667 | Validation_acc: 31.9444 %\u001b[32m [repeated 4x across cluster]\u001b[0m\n"
     ]
    },
    {
     "name": "stderr",
     "output_type": "stream",
     "text": [
      " 70%|\u001b[34m███████   \u001b[0m| 7/10 [00:18<00:07,  2.63s/it]\u001b[32m [repeated 4x across cluster]\u001b[0m\n"
     ]
    },
    {
     "name": "stdout",
     "output_type": "stream",
     "text": [
      "\u001b[36m(launch_and_fit pid=6486)\u001b[0m \tTrain Epoch: 9 \tTrain_loss: 1.6896 | Train_acc: 40.5682 % | Validation_loss: 1.7844 | Validation_acc: 29.8611 %\u001b[32m [repeated 4x across cluster]\u001b[0m\n"
     ]
    },
    {
     "name": "stderr",
     "output_type": "stream",
     "text": [
      " 90%|\u001b[34m█████████ \u001b[0m| 9/10 [00:24<00:02,  2.68s/it]\u001b[32m [repeated 4x across cluster]\u001b[0m\n"
     ]
    },
    {
     "name": "stdout",
     "output_type": "stream",
     "text": [
      "\u001b[36m(launch_and_fit pid=6486)\u001b[0m save graph in  results/FL/\n",
      "\u001b[36m(launch_and_fit pid=6486)\u001b[0m fc1.weight 7.867813110351562e-06\n",
      "\u001b[36m(launch_and_fit pid=6486)\u001b[0m fc1.bias 3.0994415283203125e-06\n",
      "\u001b[36m(launch_and_fit pid=6486)\u001b[0m fc2.weight 1.9073486328125e-06\n",
      "\u001b[36m(launch_and_fit pid=6486)\u001b[0m fc2.bias 1.6689300537109375e-06\n",
      "\u001b[36m(launch_and_fit pid=6486)\u001b[0m fc3.weight 3.1633260250091553\n",
      "\u001b[36m(launch_and_fit pid=6486)\u001b[0m fc3.bias 3.814697265625e-06\n",
      "\u001b[36m(launch_and_fit pid=6486)\u001b[0m qnn.weights 9.5367431640625e-07\n",
      "\u001b[36m(launch_and_fit pid=6510)\u001b[0m \tTrain Epoch: 9 \tTrain_loss: 1.6824 | Train_acc: 43.0682 % | Validation_loss: 1.8749 | Validation_acc: 27.0833 %\u001b[32m [repeated 3x across cluster]\u001b[0m\n"
     ]
    },
    {
     "name": "stderr",
     "output_type": "stream",
     "text": [
      "100%|\u001b[34m██████████\u001b[0m| 10/10 [00:28<00:00,  2.83s/it]\u001b[32m [repeated 4x across cluster]\u001b[0m\n"
     ]
    },
    {
     "name": "stdout",
     "output_type": "stream",
     "text": [
      "\u001b[36m(launch_and_fit pid=6510)\u001b[0m save graph in  results/FL/\n",
      "\u001b[36m(launch_and_fit pid=6510)\u001b[0m fc3.bias 4.76837158203125e-06\u001b[32m [repeated 6x across cluster]\u001b[0m\n"
     ]
    },
    {
     "name": "stderr",
     "output_type": "stream",
     "text": [
      "ERROR flwr 2024-07-22 09:57:30,681 | ray_client_proxy.py:87 | Task was killed due to the node running low on memory.\n",
      "Memory on the node (IP: 172.19.2.2, ID: dcb7465c1e18f5f0fd3f2a9b1d80ab4a1bc14b88238171cc5f710a6a) where the task (task ID: 597c28c485c007d7669664ce0b3c42fecbee076301000000, name=launch_and_fit, pid=6510, memory used=2.19GB) was running was 27.65GB / 29.00GB (0.953523), which exceeds the memory usage threshold of 0.95. Ray killed this worker (ID: 38641e545f516e4c6df198e72ed3a024546086ddddfc35a157912313) because it was the most recently scheduled task; to see more information about memory usage on this node, use `ray logs raylet.out -ip 172.19.2.2`. To see the logs of the worker, use `ray logs worker-38641e545f516e4c6df198e72ed3a024546086ddddfc35a157912313*out -ip 172.19.2.2. Top 10 memory users:\n",
      "PID\tMEM(GB)\tCOMMAND\n",
      "24\t15.97\t/opt/conda/bin/python -m ipykernel_launcher -f /tmp/tmposf3yqre.json --HistoryManager.hist_file=:mem...\n",
      "6486\t2.69\tray::launch_and_fit\n",
      "6427\t2.30\tray::IDLE\n",
      "6402\t2.30\tray::IDLE\n",
      "6510\t2.19\tray::launch_and_fit\n",
      "9\t0.10\tpython -c import sys;import papermill as pm;pm.execute_notebook(\"__notebook__.ipynb\",\"__notebook__.i...\n",
      "185\t0.07\t/opt/conda/bin/python /opt/conda/lib/python3.10/site-packages/ray/dashboard/dashboard.py --host=127....\n",
      "250\t0.06\t/opt/conda/bin/python -u /opt/conda/lib/python3.10/site-packages/ray/dashboard/agent.py --node-ip-ad...\n",
      "184\t0.04\t/opt/conda/bin/python -u /opt/conda/lib/python3.10/site-packages/ray/autoscaler/_private/monitor.py ...\n",
      "210\t0.04\t/opt/conda/bin/python -u /opt/conda/lib/python3.10/site-packages/ray/_private/log_monitor.py --sessi...\n",
      "Refer to the documentation on how to address the out of memory issue: https://docs.ray.io/en/latest/ray-core/scheduling/ray-oom-prevention.html. Consider provisioning more memory on this node or reducing task parallelism by requesting more CPUs per task. To adjust the kill threshold, set the environment variable `RAY_memory_usage_threshold` when starting Ray. To disable worker killing, set the environment variable `RAY_memory_monitor_refresh_ms` to zero.\n",
      "DEBUG flwr 2024-07-22 09:57:30,685 | server.py:236 | fit_round 8 received 9 results and 1 failures\n"
     ]
    },
    {
     "name": "stdout",
     "output_type": "stream",
     "text": [
      "Saving round 8 aggregated_parameters...\n"
     ]
    },
    {
     "name": "stderr",
     "output_type": "stream",
     "text": [
      "DEBUG flwr 2024-07-22 09:57:48,900 | server.py:173 | evaluate_round 8: strategy sampled 10 clients (out of 10)\n"
     ]
    },
    {
     "name": "stdout",
     "output_type": "stream",
     "text": [
      "\u001b[36m(launch_and_evaluate pid=6575)\u001b[0m Run with homomorphic encryption\n",
      "\u001b[36m(launch_and_fit pid=6510)\u001b[0m qnn.weights 1.1920928955078125e-06\n",
      "\u001b[36m(launch_and_fit pid=6510)\u001b[0m \tTrain Epoch: 10 \tTrain_loss: 1.6769 | Train_acc: 43.3807 % | Validation_loss: 1.8509 | Validation_acc: 29.1667 %\n",
      "\u001b[36m(launch_and_evaluate pid=6575)\u001b[0m [Client 2] evaluate, config: {}\n",
      "\u001b[36m(launch_and_evaluate pid=6575)\u001b[0m Updated model\n"
     ]
    },
    {
     "name": "stderr",
     "output_type": "stream",
     "text": [
      "\u001b[33m(raylet)\u001b[0m [2024-07-22 09:58:09,935 E 209 209] (raylet) node_manager.cc:3022: 1 Workers (tasks / actors) killed due to memory pressure (OOM), 0 Workers crashed due to other reasons at node (ID: dcb7465c1e18f5f0fd3f2a9b1d80ab4a1bc14b88238171cc5f710a6a, IP: 172.19.2.2) over the last time period. To see more information about the Workers killed on this node, use `ray logs raylet.out -ip 172.19.2.2`\n",
      "\u001b[33m(raylet)\u001b[0m Refer to the documentation on how to address the out of memory issue: https://docs.ray.io/en/latest/ray-core/scheduling/ray-oom-prevention.html. Consider provisioning more memory on this node or reducing task parallelism by requesting more CPUs per task. To adjust the kill threshold, set the environment variable `RAY_memory_usage_threshold` when starting Ray. To disable worker killing, set the environment variable `RAY_memory_monitor_refresh_ms` to zero.\n",
      "\u001b[33m(raylet)\u001b[0m \n"
     ]
    },
    {
     "name": "stdout",
     "output_type": "stream",
     "text": [
      "\u001b[36m(launch_and_evaluate pid=6654)\u001b[0m Run with homomorphic encryption\u001b[32m [repeated 2x across cluster]\u001b[0m\n",
      "\u001b[36m(launch_and_evaluate pid=6576)\u001b[0m [Client 7] evaluate, config: {}\n",
      "\u001b[36m(launch_and_evaluate pid=6576)\u001b[0m Updated model\n",
      "\u001b[36m(launch_and_evaluate pid=6654)\u001b[0m [Client 1] evaluate, config: {}\n",
      "\u001b[36m(launch_and_evaluate pid=6654)\u001b[0m Updated model\n",
      "\u001b[36m(launch_and_evaluate pid=6732)\u001b[0m Run with homomorphic encryption\u001b[32m [repeated 2x across cluster]\u001b[0m\n",
      "\u001b[36m(launch_and_evaluate pid=6656)\u001b[0m [Client 6] evaluate, config: {}\n",
      "\u001b[36m(launch_and_evaluate pid=6656)\u001b[0m Updated model\n",
      "\u001b[36m(launch_and_evaluate pid=6734)\u001b[0m [Client 3] evaluate, config: {}\n",
      "\u001b[36m(launch_and_evaluate pid=6734)\u001b[0m Updated model\n"
     ]
    },
    {
     "name": "stderr",
     "output_type": "stream",
     "text": [
      "\u001b[36m(launch_and_evaluate pid=6732)\u001b[0m /opt/conda/lib/python3.10/site-packages/sklearn/metrics/_ranking.py:1029: UndefinedMetricWarning: No positive samples in y_true, true positive value should be meaningless\n",
      "\u001b[36m(launch_and_evaluate pid=6732)\u001b[0m   warnings.warn(\n"
     ]
    },
    {
     "name": "stdout",
     "output_type": "stream",
     "text": [
      "\u001b[36m(launch_and_evaluate pid=6810)\u001b[0m Run with homomorphic encryption\u001b[32m [repeated 2x across cluster]\u001b[0m\n",
      "\u001b[36m(launch_and_evaluate pid=6732)\u001b[0m [Client 4] evaluate, config: {}\n",
      "\u001b[36m(launch_and_evaluate pid=6732)\u001b[0m Updated model\n",
      "\u001b[36m(launch_and_evaluate pid=6810)\u001b[0m [Client 0] evaluate, config: {}\n",
      "\u001b[36m(launch_and_evaluate pid=6810)\u001b[0m Updated model\n"
     ]
    },
    {
     "name": "stderr",
     "output_type": "stream",
     "text": [
      "\u001b[36m(launch_and_evaluate pid=6812)\u001b[0m /opt/conda/lib/python3.10/site-packages/sklearn/metrics/_ranking.py:1029: UndefinedMetricWarning: No positive samples in y_true, true positive value should be meaningless\n",
      "\u001b[36m(launch_and_evaluate pid=6812)\u001b[0m   warnings.warn(\n"
     ]
    },
    {
     "name": "stdout",
     "output_type": "stream",
     "text": [
      "\u001b[36m(launch_and_evaluate pid=6890)\u001b[0m Run with homomorphic encryption\u001b[32m [repeated 2x across cluster]\u001b[0m\n",
      "\u001b[36m(launch_and_evaluate pid=6812)\u001b[0m [Client 8] evaluate, config: {}\n",
      "\u001b[36m(launch_and_evaluate pid=6812)\u001b[0m Updated model\n",
      "\u001b[36m(launch_and_evaluate pid=6888)\u001b[0m [Client 5] evaluate, config: {}\n",
      "\u001b[36m(launch_and_evaluate pid=6888)\u001b[0m Updated model\n"
     ]
    },
    {
     "name": "stderr",
     "output_type": "stream",
     "text": [
      "\u001b[36m(launch_and_evaluate pid=6890)\u001b[0m /opt/conda/lib/python3.10/site-packages/sklearn/metrics/_ranking.py:1029: UndefinedMetricWarning: No positive samples in y_true, true positive value should be meaningless\n",
      "\u001b[36m(launch_and_evaluate pid=6890)\u001b[0m   warnings.warn(\n",
      "DEBUG flwr 2024-07-22 09:58:55,113 | server.py:187 | evaluate_round 8 received 10 results and 0 failures\n",
      "DEBUG flwr 2024-07-22 09:58:55,114 | server.py:222 | fit_round 9: strategy sampled 10 clients (out of 10)\n"
     ]
    },
    {
     "name": "stdout",
     "output_type": "stream",
     "text": [
      "\u001b[36m(launch_and_fit pid=6975)\u001b[0m Run with homomorphic encryption\u001b[32m [repeated 2x across cluster]\u001b[0m\n",
      "\u001b[36m(launch_and_evaluate pid=6890)\u001b[0m [Client 9] evaluate, config: {}\n",
      "\u001b[36m(launch_and_evaluate pid=6890)\u001b[0m Updated model\n",
      "\u001b[36m(launch_and_fit pid=6975)\u001b[0m [Client 5, round 9] fit, config: {'learning_rate': 0.003, 'batch_size': '16', 'server_round': 9, 'local_epochs': 10}\n",
      "\u001b[36m(launch_and_fit pid=6975)\u001b[0m Updated model\n"
     ]
    },
    {
     "name": "stderr",
     "output_type": "stream",
     "text": [
      "  0%|\u001b[34m          \u001b[0m| 0/10 [00:00<?, ?it/s]\n"
     ]
    },
    {
     "name": "stdout",
     "output_type": "stream",
     "text": [
      "\u001b[36m(launch_and_fit pid=6975)\u001b[0m \tTrain Epoch: 1 \tTrain_loss: 1.7987 | Train_acc: 29.6591 % | Validation_loss: 1.7931 | Validation_acc: 38.1944 %\n"
     ]
    },
    {
     "name": "stderr",
     "output_type": "stream",
     "text": [
      " 10%|\u001b[34m█         \u001b[0m| 1/10 [00:03<00:27,  3.00s/it]\n"
     ]
    },
    {
     "name": "stdout",
     "output_type": "stream",
     "text": [
      "\u001b[36m(launch_and_fit pid=6976)\u001b[0m Run with homomorphic encryption\n",
      "\u001b[36m(launch_and_fit pid=6976)\u001b[0m [Client 7, round 9] fit, config: {'learning_rate': 0.003, 'batch_size': '16', 'server_round': 9, 'local_epochs': 10}\n",
      "\u001b[36m(launch_and_fit pid=6976)\u001b[0m Updated model\n"
     ]
    },
    {
     "name": "stderr",
     "output_type": "stream",
     "text": [
      "  0%|\u001b[34m          \u001b[0m| 0/10 [00:00<?, ?it/s]\n"
     ]
    },
    {
     "name": "stdout",
     "output_type": "stream",
     "text": [
      "\u001b[36m(launch_and_fit pid=6975)\u001b[0m \tTrain Epoch: 3 \tTrain_loss: 1.7628 | Train_acc: 33.0682 % | Validation_loss: 1.7264 | Validation_acc: 58.3333 %\u001b[32m [repeated 4x across cluster]\u001b[0m\n"
     ]
    },
    {
     "name": "stderr",
     "output_type": "stream",
     "text": [
      " 30%|\u001b[34m███       \u001b[0m| 3/10 [00:08<00:19,  2.83s/it]\u001b[32m [repeated 4x across cluster]\u001b[0m\n"
     ]
    },
    {
     "name": "stdout",
     "output_type": "stream",
     "text": [
      "\u001b[36m(launch_and_fit pid=6975)\u001b[0m \tTrain Epoch: 5 \tTrain_loss: 1.7632 | Train_acc: 35.1136 % | Validation_loss: 1.7864 | Validation_acc: 38.1944 %\u001b[32m [repeated 4x across cluster]\u001b[0m\n"
     ]
    },
    {
     "name": "stderr",
     "output_type": "stream",
     "text": [
      " 50%|\u001b[34m█████     \u001b[0m| 5/10 [00:13<00:13,  2.74s/it]\u001b[32m [repeated 4x across cluster]\u001b[0m\n"
     ]
    },
    {
     "name": "stdout",
     "output_type": "stream",
     "text": [
      "\u001b[36m(launch_and_fit pid=6975)\u001b[0m \tTrain Epoch: 7 \tTrain_loss: 1.7466 | Train_acc: 35.6250 % | Validation_loss: 1.7326 | Validation_acc: 47.2222 %\u001b[32m [repeated 4x across cluster]\u001b[0m\n"
     ]
    },
    {
     "name": "stderr",
     "output_type": "stream",
     "text": [
      " 70%|\u001b[34m███████   \u001b[0m| 7/10 [00:19<00:08,  2.79s/it]\u001b[32m [repeated 4x across cluster]\u001b[0m\n"
     ]
    },
    {
     "name": "stdout",
     "output_type": "stream",
     "text": [
      "\u001b[36m(launch_and_fit pid=6975)\u001b[0m \tTrain Epoch: 9 \tTrain_loss: 1.7378 | Train_acc: 36.0511 % | Validation_loss: 1.7369 | Validation_acc: 36.1111 %\u001b[32m [repeated 4x across cluster]\u001b[0m\n"
     ]
    },
    {
     "name": "stderr",
     "output_type": "stream",
     "text": [
      " 90%|\u001b[34m█████████ \u001b[0m| 9/10 [00:25<00:02,  2.74s/it]\u001b[32m [repeated 4x across cluster]\u001b[0m\n"
     ]
    },
    {
     "name": "stdout",
     "output_type": "stream",
     "text": [
      "\u001b[36m(launch_and_fit pid=6975)\u001b[0m save graph in  results/FL/\n",
      "\u001b[36m(launch_and_fit pid=6975)\u001b[0m fc1.weight 4.76837158203125e-06\n",
      "\u001b[36m(launch_and_fit pid=6975)\u001b[0m fc1.bias 1.430511474609375e-06\n",
      "\u001b[36m(launch_and_fit pid=6975)\u001b[0m fc2.weight 9.5367431640625e-07\n",
      "\u001b[36m(launch_and_fit pid=6975)\u001b[0m fc2.bias 1.1920928955078125e-06\n",
      "\u001b[36m(launch_and_fit pid=6975)\u001b[0m qnn.weights 9.5367431640625e-07\n",
      "\u001b[36m(launch_and_fit pid=6976)\u001b[0m \tTrain Epoch: 10 \tTrain_loss: 1.6976 | Train_acc: 42.6989 % | Validation_loss: 1.6304 | Validation_acc: 49.3056 %\u001b[32m [repeated 3x across cluster]\u001b[0m\n",
      "\u001b[36m(launch_and_fit pid=7058)\u001b[0m Run with homomorphic encryption\n",
      "\u001b[36m(launch_and_fit pid=6976)\u001b[0m save graph in  results/FL/\n",
      "\u001b[36m(launch_and_fit pid=6976)\u001b[0m fc3.bias 3.5762786865234375e-06\u001b[32m [repeated 8x across cluster]\u001b[0m\n",
      "\u001b[36m(launch_and_fit pid=6976)\u001b[0m qnn.weights 1.1920928955078125e-06\n",
      "\u001b[36m(launch_and_fit pid=7058)\u001b[0m [Client 1, round 9] fit, config: {'learning_rate': 0.003, 'batch_size': '16', 'server_round': 9, 'local_epochs': 10}\n"
     ]
    },
    {
     "name": "stderr",
     "output_type": "stream",
     "text": [
      "  0%|\u001b[34m          \u001b[0m| 0/10 [00:00<?, ?it/s]\n",
      "100%|\u001b[34m██████████\u001b[0m| 10/10 [00:27<00:00,  2.76s/it]\u001b[32m [repeated 3x across cluster]\u001b[0m\n"
     ]
    },
    {
     "name": "stdout",
     "output_type": "stream",
     "text": [
      "\u001b[36m(launch_and_fit pid=7058)\u001b[0m Updated model\n",
      "\u001b[36m(launch_and_fit pid=7058)\u001b[0m \tTrain Epoch: 1 \tTrain_loss: 1.7655 | Train_acc: 31.5341 % | Validation_loss: 1.9018 | Validation_acc: 20.8333 %\n"
     ]
    },
    {
     "name": "stderr",
     "output_type": "stream",
     "text": [
      "  0%|\u001b[34m          \u001b[0m| 0/10 [00:00<?, ?it/s]\n",
      " 20%|\u001b[34m██        \u001b[0m| 2/10 [00:06<00:24,  3.01s/it]\u001b[32m [repeated 3x across cluster]\u001b[0m\n"
     ]
    },
    {
     "name": "stdout",
     "output_type": "stream",
     "text": [
      "\u001b[36m(launch_and_fit pid=7060)\u001b[0m Run with homomorphic encryption\n",
      "\u001b[36m(launch_and_fit pid=7060)\u001b[0m [Client 0, round 9] fit, config: {'learning_rate': 0.003, 'batch_size': '16', 'server_round': 9, 'local_epochs': 10}\n",
      "\u001b[36m(launch_and_fit pid=7060)\u001b[0m Updated model\n",
      "\u001b[36m(launch_and_fit pid=7058)\u001b[0m \tTrain Epoch: 3 \tTrain_loss: 1.7394 | Train_acc: 34.4886 % | Validation_loss: 1.9415 | Validation_acc: 20.8333 %\u001b[32m [repeated 4x across cluster]\u001b[0m\n"
     ]
    },
    {
     "name": "stderr",
     "output_type": "stream",
     "text": [
      " 40%|\u001b[34m████      \u001b[0m| 4/10 [00:11<00:16,  2.78s/it]\u001b[32m [repeated 4x across cluster]\u001b[0m\n"
     ]
    },
    {
     "name": "stdout",
     "output_type": "stream",
     "text": [
      "\u001b[36m(launch_and_fit pid=7058)\u001b[0m \tTrain Epoch: 5 \tTrain_loss: 1.7452 | Train_acc: 34.7443 % | Validation_loss: 1.9387 | Validation_acc: 20.8333 %\u001b[32m [repeated 4x across cluster]\u001b[0m\n"
     ]
    },
    {
     "name": "stderr",
     "output_type": "stream",
     "text": [
      " 60%|\u001b[34m██████    \u001b[0m| 6/10 [00:16<00:10,  2.70s/it]\u001b[32m [repeated 4x across cluster]\u001b[0m\n"
     ]
    },
    {
     "name": "stdout",
     "output_type": "stream",
     "text": [
      "\u001b[36m(launch_and_fit pid=7058)\u001b[0m \tTrain Epoch: 7 \tTrain_loss: 1.7430 | Train_acc: 33.8636 % | Validation_loss: 1.8384 | Validation_acc: 29.8611 %\u001b[32m [repeated 4x across cluster]\u001b[0m\n"
     ]
    },
    {
     "name": "stderr",
     "output_type": "stream",
     "text": [
      " 80%|\u001b[34m████████  \u001b[0m| 8/10 [00:22<00:05,  2.69s/it]\u001b[32m [repeated 4x across cluster]\u001b[0m\n"
     ]
    },
    {
     "name": "stdout",
     "output_type": "stream",
     "text": [
      "\u001b[36m(launch_and_fit pid=7058)\u001b[0m \tTrain Epoch: 9 \tTrain_loss: 1.7157 | Train_acc: 36.1932 % | Validation_loss: 1.9095 | Validation_acc: 16.6667 %\u001b[32m [repeated 4x across cluster]\u001b[0m\n"
     ]
    },
    {
     "name": "stderr",
     "output_type": "stream",
     "text": [
      "100%|\u001b[34m██████████\u001b[0m| 10/10 [00:27<00:00,  2.76s/it]\u001b[32m [repeated 4x across cluster]\u001b[0m\n"
     ]
    },
    {
     "name": "stdout",
     "output_type": "stream",
     "text": [
      "\u001b[36m(launch_and_fit pid=7058)\u001b[0m save graph in  results/FL/\n",
      "\u001b[36m(launch_and_fit pid=7058)\u001b[0m fc1.weight 4.76837158203125e-06\n",
      "\u001b[36m(launch_and_fit pid=7058)\u001b[0m fc1.bias 1.6689300537109375e-06\n",
      "\u001b[36m(launch_and_fit pid=7058)\u001b[0m fc2.weight 1.1920928955078125e-06\n",
      "\u001b[36m(launch_and_fit pid=7058)\u001b[0m fc2.bias 9.5367431640625e-07\n",
      "\u001b[36m(launch_and_fit pid=7058)\u001b[0m qnn.weights 9.5367431640625e-07\n",
      "\u001b[36m(launch_and_fit pid=7060)\u001b[0m \tTrain Epoch: 10 \tTrain_loss: 1.6764 | Train_acc: 42.4432 % | Validation_loss: 1.9220 | Validation_acc: 22.9167 %\u001b[32m [repeated 3x across cluster]\u001b[0m\n",
      "\u001b[36m(launch_and_fit pid=7143)\u001b[0m Run with homomorphic encryption\n",
      "\u001b[36m(launch_and_fit pid=7060)\u001b[0m save graph in  results/FL/\n",
      "\u001b[36m(launch_and_fit pid=7060)\u001b[0m fc3.bias 4.291534423828125e-06\u001b[32m [repeated 8x across cluster]\u001b[0m\n",
      "\u001b[36m(launch_and_fit pid=7060)\u001b[0m qnn.weights 1.1920928955078125e-06\n",
      "\u001b[36m(launch_and_fit pid=7143)\u001b[0m [Client 6, round 9] fit, config: {'learning_rate': 0.003, 'batch_size': '16', 'server_round': 9, 'local_epochs': 10}\n",
      "\u001b[36m(launch_and_fit pid=7143)\u001b[0m Updated model\n"
     ]
    },
    {
     "name": "stderr",
     "output_type": "stream",
     "text": [
      "  0%|\u001b[34m          \u001b[0m| 0/10 [00:00<?, ?it/s]\n",
      "100%|\u001b[34m██████████\u001b[0m| 10/10 [00:27<00:00,  2.76s/it]\n"
     ]
    },
    {
     "name": "stdout",
     "output_type": "stream",
     "text": [
      "\u001b[36m(launch_and_fit pid=7143)\u001b[0m \tTrain Epoch: 1 \tTrain_loss: 1.7205 | Train_acc: 39.9148 % | Validation_loss: 1.9247 | Validation_acc: 40.9722 %\n"
     ]
    },
    {
     "name": "stderr",
     "output_type": "stream",
     "text": [
      " 10%|\u001b[34m█         \u001b[0m| 1/10 [00:03<00:27,  3.00s/it]\n"
     ]
    },
    {
     "name": "stdout",
     "output_type": "stream",
     "text": [
      "\u001b[36m(launch_and_fit pid=7141)\u001b[0m Run with homomorphic encryption\n",
      "\u001b[36m(launch_and_fit pid=7141)\u001b[0m [Client 3, round 9] fit, config: {'learning_rate': 0.003, 'batch_size': '16', 'server_round': 9, 'local_epochs': 10}\n",
      "\u001b[36m(launch_and_fit pid=7141)\u001b[0m Updated model\n"
     ]
    },
    {
     "name": "stderr",
     "output_type": "stream",
     "text": [
      "  0%|\u001b[34m          \u001b[0m| 0/10 [00:00<?, ?it/s]\n"
     ]
    },
    {
     "name": "stdout",
     "output_type": "stream",
     "text": [
      "\u001b[36m(launch_and_fit pid=7143)\u001b[0m \tTrain Epoch: 3 \tTrain_loss: 1.7008 | Train_acc: 42.1023 % | Validation_loss: 1.8364 | Validation_acc: 16.6667 %\u001b[32m [repeated 4x across cluster]\u001b[0m\n"
     ]
    },
    {
     "name": "stderr",
     "output_type": "stream",
     "text": [
      " 30%|\u001b[34m███       \u001b[0m| 3/10 [00:08<00:18,  2.71s/it]\u001b[32m [repeated 4x across cluster]\u001b[0m\n"
     ]
    },
    {
     "name": "stdout",
     "output_type": "stream",
     "text": [
      "\u001b[36m(launch_and_fit pid=7141)\u001b[0m \tTrain Epoch: 5 \tTrain_loss: 1.7341 | Train_acc: 36.0511 % | Validation_loss: 1.8379 | Validation_acc: 29.8611 %\u001b[32m [repeated 5x across cluster]\u001b[0m\n"
     ]
    },
    {
     "name": "stderr",
     "output_type": "stream",
     "text": [
      " 50%|\u001b[34m█████     \u001b[0m| 5/10 [00:13<00:12,  2.60s/it]\u001b[32m [repeated 5x across cluster]\u001b[0m\n"
     ]
    },
    {
     "name": "stdout",
     "output_type": "stream",
     "text": [
      "\u001b[36m(launch_and_fit pid=7141)\u001b[0m \tTrain Epoch: 7 \tTrain_loss: 1.7171 | Train_acc: 38.6932 % | Validation_loss: 1.8204 | Validation_acc: 36.1111 %\u001b[32m [repeated 4x across cluster]\u001b[0m\n"
     ]
    },
    {
     "name": "stderr",
     "output_type": "stream",
     "text": [
      " 70%|\u001b[34m███████   \u001b[0m| 7/10 [00:18<00:08,  2.68s/it]\u001b[32m [repeated 4x across cluster]\u001b[0m\n"
     ]
    },
    {
     "name": "stdout",
     "output_type": "stream",
     "text": [
      "\u001b[36m(launch_and_fit pid=7141)\u001b[0m \tTrain Epoch: 9 \tTrain_loss: 1.7049 | Train_acc: 39.9432 % | Validation_loss: 1.8195 | Validation_acc: 36.1111 %\u001b[32m [repeated 4x across cluster]\u001b[0m\n"
     ]
    },
    {
     "name": "stderr",
     "output_type": "stream",
     "text": [
      " 90%|\u001b[34m█████████ \u001b[0m| 9/10 [00:23<00:02,  2.57s/it]\u001b[32m [repeated 4x across cluster]\u001b[0m\n"
     ]
    },
    {
     "name": "stdout",
     "output_type": "stream",
     "text": [
      "\u001b[36m(launch_and_fit pid=7143)\u001b[0m save graph in  results/FL/\n",
      "\u001b[36m(launch_and_fit pid=7143)\u001b[0m fc1.weight 4.291534423828125e-06\n",
      "\u001b[36m(launch_and_fit pid=7143)\u001b[0m fc1.bias 1.1920928955078125e-06\n",
      "\u001b[36m(launch_and_fit pid=7143)\u001b[0m fc2.weight 9.5367431640625e-07\n",
      "\u001b[36m(launch_and_fit pid=7143)\u001b[0m fc2.bias 9.5367431640625e-07\n",
      "\u001b[36m(launch_and_fit pid=7143)\u001b[0m qnn.weights 1.1920928955078125e-06\n",
      "\u001b[36m(launch_and_fit pid=7141)\u001b[0m \tTrain Epoch: 10 \tTrain_loss: 1.7089 | Train_acc: 39.7727 % | Validation_loss: 1.8325 | Validation_acc: 31.9444 %\u001b[32m [repeated 2x across cluster]\u001b[0m\n",
      "\u001b[36m(launch_and_fit pid=7223)\u001b[0m Run with homomorphic encryption\n",
      "\u001b[36m(launch_and_fit pid=7141)\u001b[0m save graph in  results/FL/\n",
      "\u001b[36m(launch_and_fit pid=7141)\u001b[0m fc3.bias 4.0531158447265625e-06\u001b[32m [repeated 8x across cluster]\u001b[0m\n",
      "\u001b[36m(launch_and_fit pid=7141)\u001b[0m qnn.weights 9.5367431640625e-07\n",
      "\u001b[36m(launch_and_fit pid=7223)\u001b[0m [Client 9, round 9] fit, config: {'learning_rate': 0.003, 'batch_size': '16', 'server_round': 9, 'local_epochs': 10}\n",
      "\u001b[36m(launch_and_fit pid=7223)\u001b[0m Updated model\n"
     ]
    },
    {
     "name": "stderr",
     "output_type": "stream",
     "text": [
      "  0%|\u001b[34m          \u001b[0m| 0/10 [00:00<?, ?it/s]\n",
      "100%|\u001b[34m██████████\u001b[0m| 10/10 [00:26<00:00,  2.64s/it]\u001b[32m [repeated 2x across cluster]\u001b[0m\n"
     ]
    },
    {
     "name": "stdout",
     "output_type": "stream",
     "text": [
      "\u001b[36m(launch_and_fit pid=7223)\u001b[0m \tTrain Epoch: 1 \tTrain_loss: 1.7609 | Train_acc: 36.4375 % | Validation_loss: 1.7453 | Validation_acc: 40.2778 %\n",
      "\u001b[36m(launch_and_fit pid=7225)\u001b[0m Run with homomorphic encryption\n",
      "\u001b[36m(launch_and_fit pid=7225)\u001b[0m [Client 2, round 9] fit, config: {'learning_rate': 0.003, 'batch_size': '16', 'server_round': 9, 'local_epochs': 10}\n",
      "\u001b[36m(launch_and_fit pid=7225)\u001b[0m Updated model\n"
     ]
    },
    {
     "name": "stderr",
     "output_type": "stream",
     "text": [
      "  0%|\u001b[34m          \u001b[0m| 0/10 [00:00<?, ?it/s]\n",
      " 20%|\u001b[34m██        \u001b[0m| 2/10 [00:05<00:23,  2.98s/it]\u001b[32m [repeated 3x across cluster]\u001b[0m\n"
     ]
    },
    {
     "name": "stdout",
     "output_type": "stream",
     "text": [
      "\u001b[36m(launch_and_fit pid=7223)\u001b[0m \tTrain Epoch: 3 \tTrain_loss: 1.6944 | Train_acc: 43.2292 % | Validation_loss: 1.7519 | Validation_acc: 31.9444 %\u001b[32m [repeated 4x across cluster]\u001b[0m\n"
     ]
    },
    {
     "name": "stderr",
     "output_type": "stream",
     "text": [
      " 40%|\u001b[34m████      \u001b[0m| 4/10 [00:11<00:17,  2.85s/it]\u001b[32m [repeated 4x across cluster]\u001b[0m\n"
     ]
    },
    {
     "name": "stdout",
     "output_type": "stream",
     "text": [
      "\u001b[36m(launch_and_fit pid=7223)\u001b[0m \tTrain Epoch: 5 \tTrain_loss: 1.7066 | Train_acc: 39.8750 % | Validation_loss: 1.6995 | Validation_acc: 42.3611 %\u001b[32m [repeated 4x across cluster]\u001b[0m\n"
     ]
    },
    {
     "name": "stderr",
     "output_type": "stream",
     "text": [
      " 60%|\u001b[34m██████    \u001b[0m| 6/10 [00:16<00:10,  2.72s/it]\u001b[32m [repeated 4x across cluster]\u001b[0m\n"
     ]
    },
    {
     "name": "stdout",
     "output_type": "stream",
     "text": [
      "\u001b[36m(launch_and_fit pid=7223)\u001b[0m \tTrain Epoch: 7 \tTrain_loss: 1.7202 | Train_acc: 40.9792 % | Validation_loss: 1.7178 | Validation_acc: 40.2778 %\u001b[32m [repeated 4x across cluster]\u001b[0m\n"
     ]
    },
    {
     "name": "stderr",
     "output_type": "stream",
     "text": [
      " 80%|\u001b[34m████████  \u001b[0m| 8/10 [00:21<00:05,  2.68s/it]\u001b[32m [repeated 4x across cluster]\u001b[0m\n"
     ]
    },
    {
     "name": "stdout",
     "output_type": "stream",
     "text": [
      "\u001b[36m(launch_and_fit pid=7223)\u001b[0m \tTrain Epoch: 9 \tTrain_loss: 1.6704 | Train_acc: 42.5833 % | Validation_loss: 1.7022 | Validation_acc: 42.3611 %\u001b[32m [repeated 4x across cluster]\u001b[0m\n",
      "\u001b[36m(launch_and_fit pid=7223)\u001b[0m save graph in  results/FL/\n"
     ]
    },
    {
     "name": "stderr",
     "output_type": "stream",
     "text": [
      "100%|\u001b[34m██████████\u001b[0m| 10/10 [00:26<00:00,  2.70s/it]\u001b[32m [repeated 4x across cluster]\u001b[0m\n"
     ]
    },
    {
     "name": "stdout",
     "output_type": "stream",
     "text": [
      "\u001b[36m(launch_and_fit pid=7223)\u001b[0m fc1.weight 5.7220458984375e-06\n",
      "\u001b[36m(launch_and_fit pid=7223)\u001b[0m fc1.bias 1.430511474609375e-06\n",
      "\u001b[36m(launch_and_fit pid=7223)\u001b[0m fc2.weight 1.430511474609375e-06\n",
      "\u001b[36m(launch_and_fit pid=7223)\u001b[0m fc2.bias 9.5367431640625e-07\n",
      "\u001b[36m(launch_and_fit pid=7223)\u001b[0m qnn.weights 9.5367431640625e-07\n",
      "\u001b[36m(launch_and_fit pid=7225)\u001b[0m \tTrain Epoch: 10 \tTrain_loss: 1.6925 | Train_acc: 40.4261 % | Validation_loss: 1.7860 | Validation_acc: 31.9444 %\u001b[32m [repeated 3x across cluster]\u001b[0m\n",
      "\u001b[36m(launch_and_fit pid=7305)\u001b[0m Run with homomorphic encryption\n",
      "\u001b[36m(launch_and_fit pid=7225)\u001b[0m save graph in  results/FL/\n",
      "\u001b[36m(launch_and_fit pid=7225)\u001b[0m fc3.bias 5.0067901611328125e-06\u001b[32m [repeated 8x across cluster]\u001b[0m\n",
      "\u001b[36m(launch_and_fit pid=7225)\u001b[0m qnn.weights 1.1920928955078125e-06\n",
      "\u001b[36m(launch_and_fit pid=7305)\u001b[0m [Client 8, round 9] fit, config: {'learning_rate': 0.003, 'batch_size': '16', 'server_round': 9, 'local_epochs': 10}\n"
     ]
    },
    {
     "name": "stderr",
     "output_type": "stream",
     "text": [
      "  0%|\u001b[34m          \u001b[0m| 0/10 [00:00<?, ?it/s]\n",
      "100%|\u001b[34m██████████\u001b[0m| 10/10 [00:27<00:00,  2.72s/it]\n"
     ]
    },
    {
     "name": "stdout",
     "output_type": "stream",
     "text": [
      "\u001b[36m(launch_and_fit pid=7305)\u001b[0m Updated model\n"
     ]
    },
    {
     "name": "stderr",
     "output_type": "stream",
     "text": [
      " 10%|\u001b[34m█         \u001b[0m| 1/10 [00:02<00:24,  2.78s/it]\n"
     ]
    },
    {
     "name": "stdout",
     "output_type": "stream",
     "text": [
      "\u001b[36m(launch_and_fit pid=7305)\u001b[0m \tTrain Epoch: 1 \tTrain_loss: 1.7498 | Train_acc: 36.0227 % | Validation_loss: 1.8244 | Validation_acc: 20.8333 %\n",
      "\u001b[36m(launch_and_fit pid=7330)\u001b[0m Run with homomorphic encryption\n"
     ]
    },
    {
     "name": "stderr",
     "output_type": "stream",
     "text": [
      "  0%|\u001b[34m          \u001b[0m| 0/10 [00:00<?, ?it/s]\n"
     ]
    },
    {
     "name": "stdout",
     "output_type": "stream",
     "text": [
      "\u001b[36m(launch_and_fit pid=7330)\u001b[0m [Client 4, round 9] fit, config: {'learning_rate': 0.003, 'batch_size': '16', 'server_round': 9, 'local_epochs': 10}\n",
      "\u001b[36m(launch_and_fit pid=7330)\u001b[0m Updated model\n"
     ]
    },
    {
     "name": "stderr",
     "output_type": "stream",
     "text": [
      " 30%|\u001b[34m███       \u001b[0m| 3/10 [00:07<00:18,  2.65s/it]\u001b[32m [repeated 4x across cluster]\u001b[0m\n"
     ]
    },
    {
     "name": "stdout",
     "output_type": "stream",
     "text": [
      "\u001b[36m(launch_and_fit pid=7305)\u001b[0m \tTrain Epoch: 3 \tTrain_loss: 1.7184 | Train_acc: 39.7727 % | Validation_loss: 1.8320 | Validation_acc: 25.0000 %\u001b[32m [repeated 4x across cluster]\u001b[0m\n"
     ]
    },
    {
     "name": "stderr",
     "output_type": "stream",
     "text": [
      " 50%|\u001b[34m█████     \u001b[0m| 5/10 [00:13<00:13,  2.66s/it]\u001b[32m [repeated 4x across cluster]\u001b[0m\n"
     ]
    },
    {
     "name": "stdout",
     "output_type": "stream",
     "text": [
      "\u001b[36m(launch_and_fit pid=7305)\u001b[0m \tTrain Epoch: 5 \tTrain_loss: 1.7073 | Train_acc: 38.2386 % | Validation_loss: 1.8824 | Validation_acc: 22.9167 %\u001b[32m [repeated 4x across cluster]\u001b[0m\n"
     ]
    },
    {
     "name": "stderr",
     "output_type": "stream",
     "text": [
      " 70%|\u001b[34m███████   \u001b[0m| 7/10 [00:18<00:08,  2.68s/it]\u001b[32m [repeated 4x across cluster]\u001b[0m\n"
     ]
    },
    {
     "name": "stdout",
     "output_type": "stream",
     "text": [
      "\u001b[36m(launch_and_fit pid=7305)\u001b[0m \tTrain Epoch: 7 \tTrain_loss: 1.6941 | Train_acc: 42.0739 % | Validation_loss: 1.8303 | Validation_acc: 36.1111 %\u001b[32m [repeated 4x across cluster]\u001b[0m\n"
     ]
    },
    {
     "name": "stderr",
     "output_type": "stream",
     "text": [
      " 90%|\u001b[34m█████████ \u001b[0m| 9/10 [00:24<00:02,  2.73s/it]\u001b[32m [repeated 4x across cluster]\u001b[0m\n"
     ]
    },
    {
     "name": "stdout",
     "output_type": "stream",
     "text": [
      "\u001b[36m(launch_and_fit pid=7305)\u001b[0m \tTrain Epoch: 9 \tTrain_loss: 1.7172 | Train_acc: 37.1307 % | Validation_loss: 1.8496 | Validation_acc: 31.9444 %\u001b[32m [repeated 4x across cluster]\u001b[0m\n",
      "\u001b[36m(launch_and_fit pid=7305)\u001b[0m save graph in  results/FL/\n",
      "\u001b[36m(launch_and_fit pid=7305)\u001b[0m fc1.weight 5.4836273193359375e-06\n",
      "\u001b[36m(launch_and_fit pid=7305)\u001b[0m fc1.bias 1.0967254638671875e-05\n",
      "\u001b[36m(launch_and_fit pid=7305)\u001b[0m fc2.weight 1.1920928955078125e-06\n",
      "\u001b[36m(launch_and_fit pid=7305)\u001b[0m fc2.bias 9.5367431640625e-07\n",
      "\u001b[36m(launch_and_fit pid=7305)\u001b[0m qnn.weights 9.5367431640625e-07\n",
      "\u001b[36m(launch_and_fit pid=7330)\u001b[0m \tTrain Epoch: 10 \tTrain_loss: 1.6849 | Train_acc: 41.6477 % | Validation_loss: 1.7377 | Validation_acc: 38.1944 %\u001b[32m [repeated 3x across cluster]\u001b[0m\n"
     ]
    },
    {
     "name": "stderr",
     "output_type": "stream",
     "text": [
      "ERROR flwr 2024-07-22 10:02:57,115 | ray_client_proxy.py:87 | Task was killed due to the node running low on memory.\n",
      "Memory on the node (IP: 172.19.2.2, ID: dcb7465c1e18f5f0fd3f2a9b1d80ab4a1bc14b88238171cc5f710a6a) where the task (task ID: 102bc4a5d3b75fea52c4a270c6b2aa9501b104c901000000, name=launch_and_fit, pid=7330, memory used=2.65GB) was running was 27.62GB / 29.00GB (0.952487), which exceeds the memory usage threshold of 0.95. Ray killed this worker (ID: f90233f99ec3265d152c36cfddbbdf93043802938cb30d0d76d94802) because it was the most recently scheduled task; to see more information about memory usage on this node, use `ray logs raylet.out -ip 172.19.2.2`. To see the logs of the worker, use `ray logs worker-f90233f99ec3265d152c36cfddbbdf93043802938cb30d0d76d94802*out -ip 172.19.2.2. Top 10 memory users:\n",
      "PID\tMEM(GB)\tCOMMAND\n",
      "24\t16.07\t/opt/conda/bin/python -m ipykernel_launcher -f /tmp/tmposf3yqre.json --HistoryManager.hist_file=:mem...\n",
      "7330\t2.65\tray::launch_and_fit\n",
      "7305\t2.64\tray::launch_and_fit\n",
      "7223\t2.30\tray::IDLE\n",
      "7225\t2.30\tray::IDLE\n",
      "9\t0.10\tpython -c import sys;import papermill as pm;pm.execute_notebook(\"__notebook__.ipynb\",\"__notebook__.i...\n",
      "185\t0.07\t/opt/conda/bin/python /opt/conda/lib/python3.10/site-packages/ray/dashboard/dashboard.py --host=127....\n",
      "250\t0.06\t/opt/conda/bin/python -u /opt/conda/lib/python3.10/site-packages/ray/dashboard/agent.py --node-ip-ad...\n",
      "184\t0.04\t/opt/conda/bin/python -u /opt/conda/lib/python3.10/site-packages/ray/autoscaler/_private/monitor.py ...\n",
      "210\t0.04\t/opt/conda/bin/python -u /opt/conda/lib/python3.10/site-packages/ray/_private/log_monitor.py --sessi...\n",
      "Refer to the documentation on how to address the out of memory issue: https://docs.ray.io/en/latest/ray-core/scheduling/ray-oom-prevention.html. Consider provisioning more memory on this node or reducing task parallelism by requesting more CPUs per task. To adjust the kill threshold, set the environment variable `RAY_memory_usage_threshold` when starting Ray. To disable worker killing, set the environment variable `RAY_memory_monitor_refresh_ms` to zero.\n",
      "DEBUG flwr 2024-07-22 10:02:57,119 | server.py:236 | fit_round 9 received 9 results and 1 failures\n",
      "\u001b[33m(raylet)\u001b[0m [2024-07-22 10:03:09,948 E 209 209] (raylet) node_manager.cc:3022: 1 Workers (tasks / actors) killed due to memory pressure (OOM), 0 Workers crashed due to other reasons at node (ID: dcb7465c1e18f5f0fd3f2a9b1d80ab4a1bc14b88238171cc5f710a6a, IP: 172.19.2.2) over the last time period. To see more information about the Workers killed on this node, use `ray logs raylet.out -ip 172.19.2.2`\n",
      "\u001b[33m(raylet)\u001b[0m Refer to the documentation on how to address the out of memory issue: https://docs.ray.io/en/latest/ray-core/scheduling/ray-oom-prevention.html. Consider provisioning more memory on this node or reducing task parallelism by requesting more CPUs per task. To adjust the kill threshold, set the environment variable `RAY_memory_usage_threshold` when starting Ray. To disable worker killing, set the environment variable `RAY_memory_monitor_refresh_ms` to zero.\n",
      "\u001b[33m(raylet)\u001b[0m \u001b[32m [repeated 4x across cluster]\u001b[0m\n"
     ]
    },
    {
     "name": "stdout",
     "output_type": "stream",
     "text": [
      "Saving round 9 aggregated_parameters...\n"
     ]
    },
    {
     "name": "stderr",
     "output_type": "stream",
     "text": [
      "DEBUG flwr 2024-07-22 10:03:15,524 | server.py:173 | evaluate_round 9: strategy sampled 10 clients (out of 10)\n"
     ]
    },
    {
     "name": "stdout",
     "output_type": "stream",
     "text": [
      "\u001b[36m(launch_and_evaluate pid=7396)\u001b[0m Run with homomorphic encryption\n",
      "\u001b[36m(launch_and_fit pid=7330)\u001b[0m save graph in  results/FL/\n",
      "\u001b[36m(launch_and_fit pid=7330)\u001b[0m fc3.bias 3.814697265625e-06\u001b[32m [repeated 8x across cluster]\u001b[0m\n",
      "\u001b[36m(launch_and_fit pid=7330)\u001b[0m qnn.weights 1.1920928955078125e-06\n",
      "\u001b[36m(launch_and_evaluate pid=7396)\u001b[0m [Client 4] evaluate, config: {}\n",
      "\u001b[36m(launch_and_evaluate pid=7396)\u001b[0m Updated model\n"
     ]
    },
    {
     "name": "stderr",
     "output_type": "stream",
     "text": [
      "\u001b[36m(launch_and_evaluate pid=7396)\u001b[0m /opt/conda/lib/python3.10/site-packages/sklearn/metrics/_ranking.py:1029: UndefinedMetricWarning: No positive samples in y_true, true positive value should be meaningless\n",
      "\u001b[36m(launch_and_evaluate pid=7396)\u001b[0m   warnings.warn(\n"
     ]
    },
    {
     "name": "stdout",
     "output_type": "stream",
     "text": [
      "\u001b[36m(launch_and_evaluate pid=7472)\u001b[0m Run with homomorphic encryption\u001b[32m [repeated 2x across cluster]\u001b[0m\n",
      "\u001b[36m(launch_and_evaluate pid=7395)\u001b[0m [Client 6] evaluate, config: {}\n",
      "\u001b[36m(launch_and_evaluate pid=7395)\u001b[0m Updated model\n",
      "\u001b[36m(launch_and_evaluate pid=7472)\u001b[0m [Client 5] evaluate, config: {}\n",
      "\u001b[36m(launch_and_evaluate pid=7472)\u001b[0m Updated model\n",
      "\u001b[36m(launch_and_evaluate pid=7550)\u001b[0m Run with homomorphic encryption\u001b[32m [repeated 2x across cluster]\u001b[0m\n",
      "\u001b[36m(launch_and_evaluate pid=7474)\u001b[0m [Client 7] evaluate, config: {}\n",
      "\u001b[36m(launch_and_evaluate pid=7474)\u001b[0m Updated model\n",
      "\u001b[36m(launch_and_evaluate pid=7550)\u001b[0m [Client 8] evaluate, config: {}\n",
      "\u001b[36m(launch_and_evaluate pid=7550)\u001b[0m Updated model\n"
     ]
    },
    {
     "name": "stderr",
     "output_type": "stream",
     "text": [
      "\u001b[36m(launch_and_evaluate pid=7550)\u001b[0m /opt/conda/lib/python3.10/site-packages/sklearn/metrics/_ranking.py:1029: UndefinedMetricWarning: No positive samples in y_true, true positive value should be meaningless\n",
      "\u001b[36m(launch_and_evaluate pid=7550)\u001b[0m   warnings.warn(\n",
      "\u001b[36m(launch_and_evaluate pid=7552)\u001b[0m /opt/conda/lib/python3.10/site-packages/sklearn/metrics/_ranking.py:1029: UndefinedMetricWarning: No positive samples in y_true, true positive value should be meaningless\n",
      "\u001b[36m(launch_and_evaluate pid=7552)\u001b[0m   warnings.warn(\n"
     ]
    },
    {
     "name": "stdout",
     "output_type": "stream",
     "text": [
      "\u001b[36m(launch_and_evaluate pid=7628)\u001b[0m Run with homomorphic encryption\u001b[32m [repeated 2x across cluster]\u001b[0m\n",
      "\u001b[36m(launch_and_evaluate pid=7552)\u001b[0m [Client 9] evaluate, config: {}\n",
      "\u001b[36m(launch_and_evaluate pid=7552)\u001b[0m Updated model\n",
      "\u001b[36m(launch_and_evaluate pid=7628)\u001b[0m [Client 3] evaluate, config: {}\n",
      "\u001b[36m(launch_and_evaluate pid=7628)\u001b[0m Updated model\n",
      "\u001b[36m(launch_and_evaluate pid=7706)\u001b[0m Run with homomorphic encryption\u001b[32m [repeated 2x across cluster]\u001b[0m\n",
      "\u001b[36m(launch_and_evaluate pid=7630)\u001b[0m [Client 0] evaluate, config: {}\n",
      "\u001b[36m(launch_and_evaluate pid=7630)\u001b[0m Updated model\n",
      "\u001b[36m(launch_and_evaluate pid=7706)\u001b[0m [Client 2] evaluate, config: {}\n",
      "\u001b[36m(launch_and_evaluate pid=7706)\u001b[0m Updated model\n"
     ]
    },
    {
     "name": "stderr",
     "output_type": "stream",
     "text": [
      "DEBUG flwr 2024-07-22 10:04:22,712 | server.py:187 | evaluate_round 9 received 10 results and 0 failures\n",
      "DEBUG flwr 2024-07-22 10:04:22,714 | server.py:222 | fit_round 10: strategy sampled 10 clients (out of 10)\n"
     ]
    },
    {
     "name": "stdout",
     "output_type": "stream",
     "text": [
      "\u001b[36m(launch_and_fit pid=7793)\u001b[0m Run with homomorphic encryption\u001b[32m [repeated 2x across cluster]\u001b[0m\n",
      "\u001b[36m(launch_and_evaluate pid=7708)\u001b[0m [Client 1] evaluate, config: {}\n",
      "\u001b[36m(launch_and_evaluate pid=7708)\u001b[0m Updated model\n",
      "\u001b[36m(launch_and_fit pid=7793)\u001b[0m [Client 3, round 10] fit, config: {'learning_rate': 0.003, 'batch_size': '16', 'server_round': 10, 'local_epochs': 10}\n"
     ]
    },
    {
     "name": "stderr",
     "output_type": "stream",
     "text": [
      "  0%|\u001b[34m          \u001b[0m| 0/10 [00:00<?, ?it/s]\n"
     ]
    },
    {
     "name": "stdout",
     "output_type": "stream",
     "text": [
      "\u001b[36m(launch_and_fit pid=7794)\u001b[0m Updated model\n"
     ]
    },
    {
     "name": "stderr",
     "output_type": "stream",
     "text": [
      " 10%|\u001b[34m█         \u001b[0m| 1/10 [00:02<00:25,  2.80s/it]\n"
     ]
    },
    {
     "name": "stdout",
     "output_type": "stream",
     "text": [
      "\u001b[36m(launch_and_fit pid=7793)\u001b[0m \tTrain Epoch: 1 \tTrain_loss: 1.7662 | Train_acc: 32.9261 % | Validation_loss: 1.7808 | Validation_acc: 36.1111 %\n"
     ]
    },
    {
     "name": "stderr",
     "output_type": "stream",
     "text": [
      "  0%|\u001b[34m          \u001b[0m| 0/10 [00:00<?, ?it/s]\n"
     ]
    },
    {
     "name": "stdout",
     "output_type": "stream",
     "text": [
      "\u001b[36m(launch_and_fit pid=7794)\u001b[0m Run with homomorphic encryption\n",
      "\u001b[36m(launch_and_fit pid=7794)\u001b[0m [Client 9, round 10] fit, config: {'learning_rate': 0.003, 'batch_size': '16', 'server_round': 10, 'local_epochs': 10}\n",
      "\u001b[36m(launch_and_fit pid=7793)\u001b[0m Updated model\n"
     ]
    },
    {
     "name": "stderr",
     "output_type": "stream",
     "text": [
      " 40%|\u001b[34m████      \u001b[0m| 4/10 [00:10<00:15,  2.57s/it]\u001b[32m [repeated 6x across cluster]\u001b[0m\n"
     ]
    },
    {
     "name": "stdout",
     "output_type": "stream",
     "text": [
      "\u001b[36m(launch_and_fit pid=7793)\u001b[0m \tTrain Epoch: 4 \tTrain_loss: 1.7535 | Train_acc: 33.2102 % | Validation_loss: 1.8249 | Validation_acc: 31.9444 %\u001b[32m [repeated 6x across cluster]\u001b[0m\n"
     ]
    },
    {
     "name": "stderr",
     "output_type": "stream",
     "text": [
      " 60%|\u001b[34m██████    \u001b[0m| 6/10 [00:15<00:10,  2.67s/it]\u001b[32m [repeated 4x across cluster]\u001b[0m\n"
     ]
    },
    {
     "name": "stdout",
     "output_type": "stream",
     "text": [
      "\u001b[36m(launch_and_fit pid=7793)\u001b[0m \tTrain Epoch: 6 \tTrain_loss: 1.7156 | Train_acc: 39.1477 % | Validation_loss: 1.7975 | Validation_acc: 38.1944 %\u001b[32m [repeated 4x across cluster]\u001b[0m\n",
      "\u001b[36m(launch_and_fit pid=7793)\u001b[0m \tTrain Epoch: 8 \tTrain_loss: 1.7196 | Train_acc: 35.2841 % | Validation_loss: 1.8491 | Validation_acc: 31.9444 %\u001b[32m [repeated 4x across cluster]\u001b[0m\n"
     ]
    },
    {
     "name": "stderr",
     "output_type": "stream",
     "text": [
      " 80%|\u001b[34m████████  \u001b[0m| 8/10 [00:21<00:05,  2.61s/it]\u001b[32m [repeated 4x across cluster]\u001b[0m\n",
      "100%|\u001b[34m██████████\u001b[0m| 10/10 [00:26<00:00,  2.61s/it]\u001b[32m [repeated 4x across cluster]\u001b[0m\n"
     ]
    },
    {
     "name": "stdout",
     "output_type": "stream",
     "text": [
      "\u001b[36m(launch_and_fit pid=7793)\u001b[0m save graph in  results/FL/\n",
      "\u001b[36m(launch_and_fit pid=7793)\u001b[0m \tTrain Epoch: 10 \tTrain_loss: 1.6885 | Train_acc: 40.3693 % | Validation_loss: 1.8475 | Validation_acc: 27.7778 %\u001b[32m [repeated 4x across cluster]\u001b[0m\n",
      "\u001b[36m(launch_and_fit pid=7793)\u001b[0m fc1.weight 5.0067901611328125e-06\n",
      "\u001b[36m(launch_and_fit pid=7793)\u001b[0m fc1.bias 1.1920928955078125e-06\n",
      "\u001b[36m(launch_and_fit pid=7793)\u001b[0m fc2.weight 9.5367431640625e-07\n",
      "\u001b[36m(launch_and_fit pid=7793)\u001b[0m fc2.bias 9.5367431640625e-07\n",
      "\u001b[36m(launch_and_fit pid=7793)\u001b[0m qnn.weights 9.5367431640625e-07\n",
      "\u001b[36m(launch_and_fit pid=7878)\u001b[0m Run with homomorphic encryption\n",
      "\u001b[36m(launch_and_fit pid=7794)\u001b[0m save graph in  results/FL/\n",
      "\u001b[36m(launch_and_fit pid=7794)\u001b[0m \tTrain Epoch: 10 \tTrain_loss: 1.6445 | Train_acc: 46.3958 % | Validation_loss: 1.6680 | Validation_acc: 40.2778 %\n",
      "\u001b[36m(launch_and_fit pid=7794)\u001b[0m fc3.bias 4.5299530029296875e-06\u001b[32m [repeated 8x across cluster]\u001b[0m\n",
      "\u001b[36m(launch_and_fit pid=7794)\u001b[0m qnn.weights 1.1920928955078125e-06\n",
      "\u001b[36m(launch_and_fit pid=7878)\u001b[0m [Client 5, round 10] fit, config: {'learning_rate': 0.003, 'batch_size': '16', 'server_round': 10, 'local_epochs': 10}\n"
     ]
    },
    {
     "name": "stderr",
     "output_type": "stream",
     "text": [
      "  0%|\u001b[34m          \u001b[0m| 0/10 [00:00<?, ?it/s]\n",
      "100%|\u001b[34m██████████\u001b[0m| 10/10 [00:26<00:00,  2.61s/it]\n"
     ]
    },
    {
     "name": "stdout",
     "output_type": "stream",
     "text": [
      "\u001b[36m(launch_and_fit pid=7878)\u001b[0m Updated model\n"
     ]
    },
    {
     "name": "stderr",
     "output_type": "stream",
     "text": [
      " 10%|\u001b[34m█         \u001b[0m| 1/10 [00:02<00:24,  2.76s/it]\n"
     ]
    },
    {
     "name": "stdout",
     "output_type": "stream",
     "text": [
      "\u001b[36m(launch_and_fit pid=7878)\u001b[0m \tTrain Epoch: 1 \tTrain_loss: 1.7786 | Train_acc: 31.8466 % | Validation_loss: 1.7610 | Validation_acc: 31.9444 %\n"
     ]
    },
    {
     "name": "stderr",
     "output_type": "stream",
     "text": [
      "  0%|\u001b[34m          \u001b[0m| 0/10 [00:00<?, ?it/s]\n"
     ]
    },
    {
     "name": "stdout",
     "output_type": "stream",
     "text": [
      "\u001b[36m(launch_and_fit pid=7876)\u001b[0m Run with homomorphic encryption\n",
      "\u001b[36m(launch_and_fit pid=7876)\u001b[0m [Client 6, round 10] fit, config: {'learning_rate': 0.003, 'batch_size': '16', 'server_round': 10, 'local_epochs': 10}\n",
      "\u001b[36m(launch_and_fit pid=7876)\u001b[0m Updated model\n"
     ]
    },
    {
     "name": "stderr",
     "output_type": "stream",
     "text": [
      " 30%|\u001b[34m███       \u001b[0m| 3/10 [00:08<00:18,  2.69s/it]\u001b[32m [repeated 4x across cluster]\u001b[0m\n"
     ]
    },
    {
     "name": "stdout",
     "output_type": "stream",
     "text": [
      "\u001b[36m(launch_and_fit pid=7878)\u001b[0m \tTrain Epoch: 3 \tTrain_loss: 1.7565 | Train_acc: 31.9886 % | Validation_loss: 1.7440 | Validation_acc: 47.2222 %\u001b[32m [repeated 4x across cluster]\u001b[0m\n"
     ]
    },
    {
     "name": "stderr",
     "output_type": "stream",
     "text": [
      " 50%|\u001b[34m█████     \u001b[0m| 5/10 [00:13<00:12,  2.58s/it]\u001b[32m [repeated 4x across cluster]\u001b[0m\n"
     ]
    },
    {
     "name": "stdout",
     "output_type": "stream",
     "text": [
      "\u001b[36m(launch_and_fit pid=7878)\u001b[0m \tTrain Epoch: 5 \tTrain_loss: 1.7347 | Train_acc: 37.2727 % | Validation_loss: 1.7099 | Validation_acc: 58.3333 %\u001b[32m [repeated 4x across cluster]\u001b[0m\n",
      "\u001b[36m(launch_and_fit pid=7876)\u001b[0m \tTrain Epoch: 7 \tTrain_loss: 1.6663 | Train_acc: 44.2045 % | Validation_loss: 1.8845 | Validation_acc: 18.7500 %\u001b[32m [repeated 5x across cluster]\u001b[0m\n"
     ]
    },
    {
     "name": "stderr",
     "output_type": "stream",
     "text": [
      " 70%|\u001b[34m███████   \u001b[0m| 7/10 [00:18<00:07,  2.58s/it]\u001b[32m [repeated 5x across cluster]\u001b[0m\n"
     ]
    },
    {
     "name": "stdout",
     "output_type": "stream",
     "text": [
      "\u001b[36m(launch_and_fit pid=7876)\u001b[0m \tTrain Epoch: 9 \tTrain_loss: 1.6516 | Train_acc: 43.4943 % | Validation_loss: 1.8648 | Validation_acc: 18.7500 %\u001b[32m [repeated 4x across cluster]\u001b[0m\n"
     ]
    },
    {
     "name": "stderr",
     "output_type": "stream",
     "text": [
      " 90%|\u001b[34m█████████ \u001b[0m| 9/10 [00:23<00:02,  2.54s/it]\u001b[32m [repeated 4x across cluster]\u001b[0m\n"
     ]
    },
    {
     "name": "stdout",
     "output_type": "stream",
     "text": [
      "\u001b[36m(launch_and_fit pid=7878)\u001b[0m save graph in  results/FL/\n",
      "\u001b[36m(launch_and_fit pid=7878)\u001b[0m fc1.weight 4.76837158203125e-06\n",
      "\u001b[36m(launch_and_fit pid=7878)\u001b[0m fc1.bias 1.430511474609375e-06\n",
      "\u001b[36m(launch_and_fit pid=7878)\u001b[0m fc2.weight 1.430511474609375e-06\n",
      "\u001b[36m(launch_and_fit pid=7878)\u001b[0m fc2.bias 9.5367431640625e-07\n",
      "\u001b[36m(launch_and_fit pid=7878)\u001b[0m qnn.weights 2.1457672119140625e-06\n",
      "\u001b[36m(launch_and_fit pid=7876)\u001b[0m \tTrain Epoch: 10 \tTrain_loss: 1.6598 | Train_acc: 45.3693 % | Validation_loss: 1.8573 | Validation_acc: 27.7778 %\u001b[32m [repeated 2x across cluster]\u001b[0m\n",
      "\u001b[36m(launch_and_fit pid=7876)\u001b[0m save graph in  results/FL/\n",
      "\u001b[36m(launch_and_fit pid=7959)\u001b[0m Run with homomorphic encryption\n",
      "\u001b[36m(launch_and_fit pid=7876)\u001b[0m fc3.bias 6.198883056640625e-06\u001b[32m [repeated 8x across cluster]\u001b[0m\n",
      "\u001b[36m(launch_and_fit pid=7876)\u001b[0m qnn.weights 2.384185791015625e-06\n",
      "\u001b[36m(launch_and_fit pid=7959)\u001b[0m [Client 8, round 10] fit, config: {'learning_rate': 0.003, 'batch_size': '16', 'server_round': 10, 'local_epochs': 10}\n",
      "\u001b[36m(launch_and_fit pid=7959)\u001b[0m Updated model\n"
     ]
    },
    {
     "name": "stderr",
     "output_type": "stream",
     "text": [
      "  0%|\u001b[34m          \u001b[0m| 0/10 [00:00<?, ?it/s]\n",
      "100%|\u001b[34m██████████\u001b[0m| 10/10 [00:26<00:00,  2.62s/it]\u001b[32m [repeated 2x across cluster]\u001b[0m\n"
     ]
    },
    {
     "name": "stdout",
     "output_type": "stream",
     "text": [
      "\u001b[36m(launch_and_fit pid=7959)\u001b[0m \tTrain Epoch: 1 \tTrain_loss: 1.7818 | Train_acc: 32.2443 % | Validation_loss: 1.8542 | Validation_acc: 25.0000 %\n",
      "\u001b[36m(launch_and_fit pid=7984)\u001b[0m Run with homomorphic encryption\n",
      "\u001b[36m(launch_and_fit pid=7984)\u001b[0m [Client 4, round 10] fit, config: {'learning_rate': 0.003, 'batch_size': '16', 'server_round': 10, 'local_epochs': 10}\n",
      "\u001b[36m(launch_and_fit pid=7984)\u001b[0m Updated model\n"
     ]
    },
    {
     "name": "stderr",
     "output_type": "stream",
     "text": [
      "  0%|\u001b[34m          \u001b[0m| 0/10 [00:00<?, ?it/s]\n",
      " 20%|\u001b[34m██        \u001b[0m| 2/10 [00:05<00:22,  2.84s/it]\u001b[32m [repeated 3x across cluster]\u001b[0m\n"
     ]
    },
    {
     "name": "stdout",
     "output_type": "stream",
     "text": [
      "\u001b[36m(launch_and_fit pid=7959)\u001b[0m \tTrain Epoch: 3 \tTrain_loss: 1.7312 | Train_acc: 36.6477 % | Validation_loss: 1.8385 | Validation_acc: 22.9167 %\u001b[32m [repeated 4x across cluster]\u001b[0m\n"
     ]
    },
    {
     "name": "stderr",
     "output_type": "stream",
     "text": [
      " 40%|\u001b[34m████      \u001b[0m| 4/10 [00:10<00:16,  2.71s/it]\u001b[32m [repeated 4x across cluster]\u001b[0m\n"
     ]
    },
    {
     "name": "stdout",
     "output_type": "stream",
     "text": [
      "\u001b[36m(launch_and_fit pid=7959)\u001b[0m \tTrain Epoch: 5 \tTrain_loss: 1.7063 | Train_acc: 38.3807 % | Validation_loss: 1.8127 | Validation_acc: 34.0278 %\u001b[32m [repeated 4x across cluster]\u001b[0m\n"
     ]
    },
    {
     "name": "stderr",
     "output_type": "stream",
     "text": [
      " 60%|\u001b[34m██████    \u001b[0m| 6/10 [00:16<00:10,  2.67s/it]\u001b[32m [repeated 4x across cluster]\u001b[0m\n"
     ]
    },
    {
     "name": "stdout",
     "output_type": "stream",
     "text": [
      "\u001b[36m(launch_and_fit pid=7959)\u001b[0m \tTrain Epoch: 7 \tTrain_loss: 1.6847 | Train_acc: 37.7273 % | Validation_loss: 1.8268 | Validation_acc: 20.8333 %\u001b[32m [repeated 5x across cluster]\u001b[0m\n"
     ]
    },
    {
     "name": "stderr",
     "output_type": "stream",
     "text": [
      " 80%|\u001b[34m████████  \u001b[0m| 8/10 [00:21<00:05,  2.58s/it]\u001b[32m [repeated 5x across cluster]\u001b[0m\n"
     ]
    },
    {
     "name": "stdout",
     "output_type": "stream",
     "text": [
      "\u001b[36m(launch_and_fit pid=7959)\u001b[0m \tTrain Epoch: 9 \tTrain_loss: 1.6752 | Train_acc: 39.1193 % | Validation_loss: 1.8020 | Validation_acc: 31.9444 %\u001b[32m [repeated 4x across cluster]\u001b[0m\n",
      "\u001b[36m(launch_and_fit pid=7984)\u001b[0m save graph in  results/FL/\n"
     ]
    },
    {
     "name": "stderr",
     "output_type": "stream",
     "text": [
      "100%|\u001b[34m██████████\u001b[0m| 10/10 [00:26<00:00,  2.64s/it]\u001b[32m [repeated 3x across cluster]\u001b[0m\n"
     ]
    },
    {
     "name": "stdout",
     "output_type": "stream",
     "text": [
      "\u001b[36m(launch_and_fit pid=7984)\u001b[0m fc1.weight 6.4373016357421875e-06\n",
      "\u001b[36m(launch_and_fit pid=7984)\u001b[0m fc1.bias 1.1920928955078125e-06\n",
      "\u001b[36m(launch_and_fit pid=7984)\u001b[0m fc2.weight 1.1920928955078125e-06\n",
      "\u001b[36m(launch_and_fit pid=7984)\u001b[0m fc2.bias 9.5367431640625e-07\n",
      "\u001b[36m(launch_and_fit pid=7984)\u001b[0m qnn.weights 1.1920928955078125e-06\n",
      "\u001b[36m(launch_and_fit pid=7959)\u001b[0m \tTrain Epoch: 10 \tTrain_loss: 1.6792 | Train_acc: 38.5227 % | Validation_loss: 1.8062 | Validation_acc: 31.9444 %\u001b[32m [repeated 2x across cluster]\u001b[0m\n",
      "\u001b[36m(launch_and_fit pid=8042)\u001b[0m Run with homomorphic encryption\n",
      "\u001b[36m(launch_and_fit pid=7959)\u001b[0m save graph in  results/FL/\n",
      "\u001b[36m(launch_and_fit pid=7959)\u001b[0m fc3.bias 6.4373016357421875e-06\u001b[32m [repeated 8x across cluster]\u001b[0m\n",
      "\u001b[36m(launch_and_fit pid=7959)\u001b[0m qnn.weights 1.9073486328125e-06\n",
      "\u001b[36m(launch_and_fit pid=8042)\u001b[0m [Client 2, round 10] fit, config: {'learning_rate': 0.003, 'batch_size': '16', 'server_round': 10, 'local_epochs': 10}\n"
     ]
    },
    {
     "name": "stderr",
     "output_type": "stream",
     "text": [
      "  0%|\u001b[34m          \u001b[0m| 0/10 [00:00<?, ?it/s]\n",
      "100%|\u001b[34m██████████\u001b[0m| 10/10 [00:26<00:00,  2.67s/it]\n"
     ]
    },
    {
     "name": "stdout",
     "output_type": "stream",
     "text": [
      "\u001b[36m(launch_and_fit pid=8042)\u001b[0m Updated model\n"
     ]
    },
    {
     "name": "stderr",
     "output_type": "stream",
     "text": [
      " 10%|\u001b[34m█         \u001b[0m| 1/10 [00:02<00:25,  2.81s/it]\n"
     ]
    },
    {
     "name": "stdout",
     "output_type": "stream",
     "text": [
      "\u001b[36m(launch_and_fit pid=8042)\u001b[0m \tTrain Epoch: 1 \tTrain_loss: 1.7170 | Train_acc: 38.5227 % | Validation_loss: 1.7308 | Validation_acc: 29.8611 %\n"
     ]
    },
    {
     "name": "stderr",
     "output_type": "stream",
     "text": [
      "  0%|\u001b[34m          \u001b[0m| 0/10 [00:00<?, ?it/s]\n"
     ]
    },
    {
     "name": "stdout",
     "output_type": "stream",
     "text": [
      "\u001b[36m(launch_and_fit pid=8043)\u001b[0m Run with homomorphic encryption\n",
      "\u001b[36m(launch_and_fit pid=8043)\u001b[0m [Client 7, round 10] fit, config: {'learning_rate': 0.003, 'batch_size': '16', 'server_round': 10, 'local_epochs': 10}\n",
      "\u001b[36m(launch_and_fit pid=8043)\u001b[0m Updated model\n"
     ]
    },
    {
     "name": "stderr",
     "output_type": "stream",
     "text": [
      " 30%|\u001b[34m███       \u001b[0m| 3/10 [00:08<00:18,  2.69s/it]\u001b[32m [repeated 4x across cluster]\u001b[0m\n"
     ]
    },
    {
     "name": "stdout",
     "output_type": "stream",
     "text": [
      "\u001b[36m(launch_and_fit pid=8042)\u001b[0m \tTrain Epoch: 3 \tTrain_loss: 1.6953 | Train_acc: 38.0682 % | Validation_loss: 1.7683 | Validation_acc: 34.0278 %\u001b[32m [repeated 4x across cluster]\u001b[0m\n"
     ]
    },
    {
     "name": "stderr",
     "output_type": "stream",
     "text": [
      " 50%|\u001b[34m█████     \u001b[0m| 5/10 [00:13<00:12,  2.60s/it]\u001b[32m [repeated 4x across cluster]\u001b[0m\n"
     ]
    },
    {
     "name": "stdout",
     "output_type": "stream",
     "text": [
      "\u001b[36m(launch_and_fit pid=8042)\u001b[0m \tTrain Epoch: 5 \tTrain_loss: 1.6961 | Train_acc: 37.5852 % | Validation_loss: 1.7347 | Validation_acc: 31.9444 %\u001b[32m [repeated 4x across cluster]\u001b[0m\n"
     ]
    },
    {
     "name": "stderr",
     "output_type": "stream",
     "text": [
      " 70%|\u001b[34m███████   \u001b[0m| 7/10 [00:18<00:07,  2.58s/it]\u001b[32m [repeated 4x across cluster]\u001b[0m\n"
     ]
    },
    {
     "name": "stdout",
     "output_type": "stream",
     "text": [
      "\u001b[36m(launch_and_fit pid=8042)\u001b[0m \tTrain Epoch: 7 \tTrain_loss: 1.6686 | Train_acc: 38.6932 % | Validation_loss: 1.7727 | Validation_acc: 31.9444 %\u001b[32m [repeated 4x across cluster]\u001b[0m\n"
     ]
    },
    {
     "name": "stderr",
     "output_type": "stream",
     "text": [
      " 90%|\u001b[34m█████████ \u001b[0m| 9/10 [00:23<00:02,  2.62s/it]\u001b[32m [repeated 4x across cluster]\u001b[0m\n"
     ]
    },
    {
     "name": "stdout",
     "output_type": "stream",
     "text": [
      "\u001b[36m(launch_and_fit pid=8042)\u001b[0m \tTrain Epoch: 9 \tTrain_loss: 1.7058 | Train_acc: 35.1136 % | Validation_loss: 1.7764 | Validation_acc: 27.7778 %\u001b[32m [repeated 4x across cluster]\u001b[0m\n",
      "\u001b[36m(launch_and_fit pid=8042)\u001b[0m save graph in  results/FL/\n",
      "\u001b[36m(launch_and_fit pid=8042)\u001b[0m fc1.weight 4.5299530029296875e-06\n",
      "\u001b[36m(launch_and_fit pid=8042)\u001b[0m fc1.bias 1.1920928955078125e-06\n",
      "\u001b[36m(launch_and_fit pid=8042)\u001b[0m fc2.weight 1.1920928955078125e-06\n",
      "\u001b[36m(launch_and_fit pid=8042)\u001b[0m fc2.bias 9.5367431640625e-07\n",
      "\u001b[36m(launch_and_fit pid=8042)\u001b[0m qnn.weights 1.430511474609375e-06\n",
      "\u001b[36m(launch_and_fit pid=8043)\u001b[0m \tTrain Epoch: 10 \tTrain_loss: 1.6930 | Train_acc: 42.3011 % | Validation_loss: 1.6109 | Validation_acc: 51.3889 %\u001b[32m [repeated 3x across cluster]\u001b[0m\n",
      "\u001b[36m(launch_and_fit pid=8043)\u001b[0m save graph in  results/FL/\n",
      "\u001b[36m(launch_and_fit pid=8123)\u001b[0m Run with homomorphic encryption\n",
      "\u001b[36m(launch_and_fit pid=8043)\u001b[0m fc3.bias 4.0531158447265625e-06\u001b[32m [repeated 8x across cluster]\u001b[0m\n",
      "\u001b[36m(launch_and_fit pid=8043)\u001b[0m qnn.weights 9.5367431640625e-07\n",
      "\u001b[36m(launch_and_fit pid=8123)\u001b[0m [Client 0, round 10] fit, config: {'learning_rate': 0.003, 'batch_size': '16', 'server_round': 10, 'local_epochs': 10}\n",
      "\u001b[36m(launch_and_fit pid=8123)\u001b[0m Updated model\n"
     ]
    },
    {
     "name": "stderr",
     "output_type": "stream",
     "text": [
      "  0%|\u001b[34m          \u001b[0m| 0/10 [00:00<?, ?it/s]\n",
      "100%|\u001b[34m██████████\u001b[0m| 10/10 [00:26<00:00,  2.61s/it]\u001b[32m [repeated 3x across cluster]\u001b[0m\n"
     ]
    },
    {
     "name": "stdout",
     "output_type": "stream",
     "text": [
      "\u001b[36m(launch_and_fit pid=8123)\u001b[0m \tTrain Epoch: 1 \tTrain_loss: 1.7202 | Train_acc: 39.4886 % | Validation_loss: 1.8460 | Validation_acc: 25.0000 %\n",
      "\u001b[36m(launch_and_fit pid=8125)\u001b[0m Run with homomorphic encryption\n",
      "\u001b[36m(launch_and_fit pid=8125)\u001b[0m [Client 1, round 10] fit, config: {'learning_rate': 0.003, 'batch_size': '16', 'server_round': 10, 'local_epochs': 10}\n",
      "\u001b[36m(launch_and_fit pid=8125)\u001b[0m Updated model\n"
     ]
    },
    {
     "name": "stderr",
     "output_type": "stream",
     "text": [
      "  0%|\u001b[34m          \u001b[0m| 0/10 [00:00<?, ?it/s]\n",
      " 20%|\u001b[34m██        \u001b[0m| 2/10 [00:05<00:21,  2.70s/it]\u001b[32m [repeated 3x across cluster]\u001b[0m\n"
     ]
    },
    {
     "name": "stdout",
     "output_type": "stream",
     "text": [
      "\u001b[36m(launch_and_fit pid=8123)\u001b[0m \tTrain Epoch: 3 \tTrain_loss: 1.7015 | Train_acc: 41.7045 % | Validation_loss: 1.9246 | Validation_acc: 25.0000 %\u001b[32m [repeated 4x across cluster]\u001b[0m\n"
     ]
    },
    {
     "name": "stderr",
     "output_type": "stream",
     "text": [
      " 40%|\u001b[34m████      \u001b[0m| 4/10 [00:10<00:15,  2.56s/it]\u001b[32m [repeated 5x across cluster]\u001b[0m\n"
     ]
    },
    {
     "name": "stdout",
     "output_type": "stream",
     "text": [
      "\u001b[36m(launch_and_fit pid=8123)\u001b[0m \tTrain Epoch: 5 \tTrain_loss: 1.6967 | Train_acc: 38.8636 % | Validation_loss: 1.8564 | Validation_acc: 29.1667 %\u001b[32m [repeated 4x across cluster]\u001b[0m\n"
     ]
    },
    {
     "name": "stderr",
     "output_type": "stream",
     "text": [
      " 60%|\u001b[34m██████    \u001b[0m| 6/10 [00:15<00:10,  2.58s/it]\u001b[32m [repeated 3x across cluster]\u001b[0m\n"
     ]
    },
    {
     "name": "stdout",
     "output_type": "stream",
     "text": [
      "\u001b[36m(launch_and_fit pid=8123)\u001b[0m \tTrain Epoch: 7 \tTrain_loss: 1.6765 | Train_acc: 40.5682 % | Validation_loss: 1.8321 | Validation_acc: 29.1667 %\u001b[32m [repeated 4x across cluster]\u001b[0m\n"
     ]
    },
    {
     "name": "stderr",
     "output_type": "stream",
     "text": [
      " 80%|\u001b[34m████████  \u001b[0m| 8/10 [00:21<00:05,  2.64s/it]\u001b[32m [repeated 4x across cluster]\u001b[0m\n"
     ]
    },
    {
     "name": "stdout",
     "output_type": "stream",
     "text": [
      "\u001b[36m(launch_and_fit pid=8123)\u001b[0m \tTrain Epoch: 9 \tTrain_loss: 1.6746 | Train_acc: 39.9432 % | Validation_loss: 1.8512 | Validation_acc: 29.1667 %\u001b[32m [repeated 4x across cluster]\u001b[0m\n",
      "\u001b[36m(launch_and_fit pid=8123)\u001b[0m save graph in  results/FL/\n"
     ]
    },
    {
     "name": "stderr",
     "output_type": "stream",
     "text": [
      "100%|\u001b[34m██████████\u001b[0m| 10/10 [00:26<00:00,  2.62s/it]\u001b[32m [repeated 4x across cluster]\u001b[0m\n"
     ]
    },
    {
     "name": "stdout",
     "output_type": "stream",
     "text": [
      "\u001b[36m(launch_and_fit pid=8123)\u001b[0m fc1.weight 5.7220458984375e-06\n",
      "\u001b[36m(launch_and_fit pid=8123)\u001b[0m fc1.bias 1.9073486328125e-06\n",
      "\u001b[36m(launch_and_fit pid=8123)\u001b[0m fc2.weight 9.5367431640625e-07\n",
      "\u001b[36m(launch_and_fit pid=8123)\u001b[0m fc2.bias 9.5367431640625e-07\n",
      "\u001b[36m(launch_and_fit pid=8123)\u001b[0m qnn.weights 1.6689300537109375e-06\n",
      "\u001b[36m(launch_and_fit pid=8125)\u001b[0m \tTrain Epoch: 10 \tTrain_loss: 1.7170 | Train_acc: 36.6477 % | Validation_loss: 1.9013 | Validation_acc: 18.7500 %\u001b[32m [repeated 3x across cluster]\u001b[0m\n"
     ]
    },
    {
     "name": "stderr",
     "output_type": "stream",
     "text": [
      "ERROR flwr 2024-07-22 10:08:20,658 | ray_client_proxy.py:87 | Task was killed due to the node running low on memory.\n",
      "Memory on the node (IP: 172.19.2.2, ID: dcb7465c1e18f5f0fd3f2a9b1d80ab4a1bc14b88238171cc5f710a6a) where the task (task ID: 6866606839d5ee54855bfd76e562da9a2c85cff001000000, name=launch_and_fit, pid=8125, memory used=2.63GB) was running was 27.68GB / 29.00GB (0.954466), which exceeds the memory usage threshold of 0.95. Ray killed this worker (ID: dd61fb8c4fb9fbca62a9d16850e96c030f6c6a957ede179d535a67d5) because it was the most recently scheduled task; to see more information about memory usage on this node, use `ray logs raylet.out -ip 172.19.2.2`. To see the logs of the worker, use `ray logs worker-dd61fb8c4fb9fbca62a9d16850e96c030f6c6a957ede179d535a67d5*out -ip 172.19.2.2. Top 10 memory users:\n",
      "PID\tMEM(GB)\tCOMMAND\n",
      "24\t15.80\t/opt/conda/bin/python -m ipykernel_launcher -f /tmp/tmposf3yqre.json --HistoryManager.hist_file=:mem...\n",
      "8123\t2.68\tray::launch_and_fit\n",
      "8125\t2.63\tray::launch_and_fit\n",
      "8043\t2.30\tray::IDLE\n",
      "8042\t2.30\tray::IDLE\n",
      "9\t0.10\tpython -c import sys;import papermill as pm;pm.execute_notebook(\"__notebook__.ipynb\",\"__notebook__.i...\n",
      "185\t0.07\t/opt/conda/bin/python /opt/conda/lib/python3.10/site-packages/ray/dashboard/dashboard.py --host=127....\n",
      "250\t0.06\t/opt/conda/bin/python -u /opt/conda/lib/python3.10/site-packages/ray/dashboard/agent.py --node-ip-ad...\n",
      "210\t0.04\t/opt/conda/bin/python -u /opt/conda/lib/python3.10/site-packages/ray/_private/log_monitor.py --sessi...\n",
      "184\t0.04\t/opt/conda/bin/python -u /opt/conda/lib/python3.10/site-packages/ray/autoscaler/_private/monitor.py ...\n",
      "Refer to the documentation on how to address the out of memory issue: https://docs.ray.io/en/latest/ray-core/scheduling/ray-oom-prevention.html. Consider provisioning more memory on this node or reducing task parallelism by requesting more CPUs per task. To adjust the kill threshold, set the environment variable `RAY_memory_usage_threshold` when starting Ray. To disable worker killing, set the environment variable `RAY_memory_monitor_refresh_ms` to zero.\n",
      "DEBUG flwr 2024-07-22 10:08:20,662 | server.py:236 | fit_round 10 received 9 results and 1 failures\n"
     ]
    },
    {
     "name": "stdout",
     "output_type": "stream",
     "text": [
      "Saving round 10 aggregated_parameters...\n"
     ]
    },
    {
     "name": "stderr",
     "output_type": "stream",
     "text": [
      "DEBUG flwr 2024-07-22 10:08:38,827 | server.py:173 | evaluate_round 10: strategy sampled 10 clients (out of 10)\n"
     ]
    },
    {
     "name": "stdout",
     "output_type": "stream",
     "text": [
      "\u001b[36m(launch_and_evaluate pid=8215)\u001b[0m Run with homomorphic encryption\n",
      "\u001b[36m(launch_and_fit pid=8125)\u001b[0m save graph in  results/FL/\n",
      "\u001b[36m(launch_and_fit pid=8125)\u001b[0m fc3.bias 4.76837158203125e-06\u001b[32m [repeated 8x across cluster]\u001b[0m\n",
      "\u001b[36m(launch_and_fit pid=8125)\u001b[0m qnn.weights 1.430511474609375e-06\n",
      "\u001b[36m(launch_and_evaluate pid=8215)\u001b[0m [Client 4] evaluate, config: {}\n",
      "\u001b[36m(launch_and_evaluate pid=8215)\u001b[0m Updated model\n"
     ]
    },
    {
     "name": "stderr",
     "output_type": "stream",
     "text": [
      "\u001b[36m(launch_and_evaluate pid=8215)\u001b[0m /opt/conda/lib/python3.10/site-packages/sklearn/metrics/_ranking.py:1029: UndefinedMetricWarning: No positive samples in y_true, true positive value should be meaningless\n",
      "\u001b[36m(launch_and_evaluate pid=8215)\u001b[0m   warnings.warn(\n",
      "100%|\u001b[34m██████████\u001b[0m| 10/10 [00:26<00:00,  2.66s/it]\n"
     ]
    },
    {
     "name": "stdout",
     "output_type": "stream",
     "text": [
      "\u001b[36m(launch_and_evaluate pid=8293)\u001b[0m Run with homomorphic encryption\u001b[32m [repeated 2x across cluster]\u001b[0m\n",
      "\u001b[36m(launch_and_evaluate pid=8214)\u001b[0m [Client 0] evaluate, config: {}\n",
      "\u001b[36m(launch_and_evaluate pid=8214)\u001b[0m Updated model\n",
      "\u001b[36m(launch_and_evaluate pid=8293)\u001b[0m [Client 3] evaluate, config: {}\n",
      "\u001b[36m(launch_and_evaluate pid=8293)\u001b[0m Updated model\n"
     ]
    },
    {
     "name": "stderr",
     "output_type": "stream",
     "text": [
      "\u001b[33m(raylet)\u001b[0m [2024-07-22 10:09:09,970 E 209 209] (raylet) node_manager.cc:3022: 1 Workers (tasks / actors) killed due to memory pressure (OOM), 0 Workers crashed due to other reasons at node (ID: dcb7465c1e18f5f0fd3f2a9b1d80ab4a1bc14b88238171cc5f710a6a, IP: 172.19.2.2) over the last time period. To see more information about the Workers killed on this node, use `ray logs raylet.out -ip 172.19.2.2`\n",
      "\u001b[33m(raylet)\u001b[0m \n",
      "\u001b[33m(raylet)\u001b[0m Refer to the documentation on how to address the out of memory issue: https://docs.ray.io/en/latest/ray-core/scheduling/ray-oom-prevention.html. Consider provisioning more memory on this node or reducing task parallelism by requesting more CPUs per task. To adjust the kill threshold, set the environment variable `RAY_memory_usage_threshold` when starting Ray. To disable worker killing, set the environment variable `RAY_memory_monitor_refresh_ms` to zero.\n"
     ]
    },
    {
     "name": "stdout",
     "output_type": "stream",
     "text": [
      "\u001b[36m(launch_and_evaluate pid=8369)\u001b[0m Run with homomorphic encryption\u001b[32m [repeated 2x across cluster]\u001b[0m\n",
      "\u001b[36m(launch_and_evaluate pid=8291)\u001b[0m [Client 1] evaluate, config: {}\n",
      "\u001b[36m(launch_and_evaluate pid=8291)\u001b[0m Updated model\n",
      "\u001b[36m(launch_and_evaluate pid=8369)\u001b[0m [Client 6] evaluate, config: {}\n",
      "\u001b[36m(launch_and_evaluate pid=8369)\u001b[0m Updated model\n",
      "\u001b[36m(launch_and_evaluate pid=8447)\u001b[0m Run with homomorphic encryption\u001b[32m [repeated 2x across cluster]\u001b[0m\n",
      "\u001b[36m(launch_and_evaluate pid=8371)\u001b[0m [Client 7] evaluate, config: {}\n",
      "\u001b[36m(launch_and_evaluate pid=8371)\u001b[0m Updated model\n",
      "\u001b[36m(launch_and_evaluate pid=8447)\u001b[0m [Client 2] evaluate, config: {}\n",
      "\u001b[36m(launch_and_evaluate pid=8447)\u001b[0m Updated model\n"
     ]
    },
    {
     "name": "stderr",
     "output_type": "stream",
     "text": [
      "\u001b[36m(launch_and_evaluate pid=8449)\u001b[0m /opt/conda/lib/python3.10/site-packages/sklearn/metrics/_ranking.py:1029: UndefinedMetricWarning: No positive samples in y_true, true positive value should be meaningless\n",
      "\u001b[36m(launch_and_evaluate pid=8449)\u001b[0m   warnings.warn(\n"
     ]
    },
    {
     "name": "stdout",
     "output_type": "stream",
     "text": [
      "\u001b[36m(launch_and_evaluate pid=8525)\u001b[0m Run with homomorphic encryption\u001b[32m [repeated 2x across cluster]\u001b[0m\n",
      "\u001b[36m(launch_and_evaluate pid=8449)\u001b[0m [Client 9] evaluate, config: {}\n",
      "\u001b[36m(launch_and_evaluate pid=8449)\u001b[0m Updated model\n",
      "\u001b[36m(launch_and_evaluate pid=8525)\u001b[0m [Client 5] evaluate, config: {}\n",
      "\u001b[36m(launch_and_evaluate pid=8525)\u001b[0m Updated model\n"
     ]
    },
    {
     "name": "stderr",
     "output_type": "stream",
     "text": [
      "\u001b[36m(launch_and_evaluate pid=8527)\u001b[0m /opt/conda/lib/python3.10/site-packages/sklearn/metrics/_ranking.py:1029: UndefinedMetricWarning: No positive samples in y_true, true positive value should be meaningless\n",
      "\u001b[36m(launch_and_evaluate pid=8527)\u001b[0m   warnings.warn(\n",
      "DEBUG flwr 2024-07-22 10:09:45,459 | server.py:187 | evaluate_round 10 received 10 results and 0 failures\n",
      "DEBUG flwr 2024-07-22 10:09:45,460 | server.py:222 | fit_round 11: strategy sampled 10 clients (out of 10)\n"
     ]
    },
    {
     "name": "stdout",
     "output_type": "stream",
     "text": [
      "\u001b[36m(launch_and_fit pid=8612)\u001b[0m Run with homomorphic encryption\u001b[32m [repeated 2x across cluster]\u001b[0m\n",
      "\u001b[36m(launch_and_evaluate pid=8527)\u001b[0m [Client 8] evaluate, config: {}\n",
      "\u001b[36m(launch_and_evaluate pid=8527)\u001b[0m Updated model\n",
      "\u001b[36m(launch_and_fit pid=8612)\u001b[0m [Client 9, round 11] fit, config: {'learning_rate': 0.003, 'batch_size': '16', 'server_round': 11, 'local_epochs': 10}\n",
      "\u001b[36m(launch_and_fit pid=8612)\u001b[0m Updated model\n"
     ]
    },
    {
     "name": "stderr",
     "output_type": "stream",
     "text": [
      "  0%|\u001b[34m          \u001b[0m| 0/10 [00:00<?, ?it/s]\n"
     ]
    },
    {
     "name": "stdout",
     "output_type": "stream",
     "text": [
      "\u001b[36m(launch_and_fit pid=8612)\u001b[0m \tTrain Epoch: 1 \tTrain_loss: 1.7174 | Train_acc: 39.4583 % | Validation_loss: 1.7229 | Validation_acc: 42.3611 %\n"
     ]
    },
    {
     "name": "stderr",
     "output_type": "stream",
     "text": [
      " 10%|\u001b[34m█         \u001b[0m| 1/10 [00:02<00:25,  2.79s/it]\n"
     ]
    },
    {
     "name": "stdout",
     "output_type": "stream",
     "text": [
      "\u001b[36m(launch_and_fit pid=8613)\u001b[0m Run with homomorphic encryption\n",
      "\u001b[36m(launch_and_fit pid=8613)\u001b[0m [Client 7, round 11] fit, config: {'learning_rate': 0.003, 'batch_size': '16', 'server_round': 11, 'local_epochs': 10}\n",
      "\u001b[36m(launch_and_fit pid=8613)\u001b[0m Updated model\n"
     ]
    },
    {
     "name": "stderr",
     "output_type": "stream",
     "text": [
      "  0%|\u001b[34m          \u001b[0m| 0/10 [00:00<?, ?it/s]\n"
     ]
    },
    {
     "name": "stdout",
     "output_type": "stream",
     "text": [
      "\u001b[36m(launch_and_fit pid=8612)\u001b[0m \tTrain Epoch: 3 \tTrain_loss: 1.6789 | Train_acc: 42.2917 % | Validation_loss: 1.6783 | Validation_acc: 40.2778 %\u001b[32m [repeated 4x across cluster]\u001b[0m\n"
     ]
    },
    {
     "name": "stderr",
     "output_type": "stream",
     "text": [
      " 30%|\u001b[34m███       \u001b[0m| 3/10 [00:08<00:19,  2.75s/it]\u001b[32m [repeated 4x across cluster]\u001b[0m\n"
     ]
    },
    {
     "name": "stdout",
     "output_type": "stream",
     "text": [
      "\u001b[36m(launch_and_fit pid=8612)\u001b[0m \tTrain Epoch: 5 \tTrain_loss: 1.6754 | Train_acc: 41.6250 % | Validation_loss: 1.7061 | Validation_acc: 34.0278 %\u001b[32m [repeated 4x across cluster]\u001b[0m\n"
     ]
    },
    {
     "name": "stderr",
     "output_type": "stream",
     "text": [
      " 50%|\u001b[34m█████     \u001b[0m| 5/10 [00:13<00:13,  2.68s/it]\u001b[32m [repeated 4x across cluster]\u001b[0m\n"
     ]
    },
    {
     "name": "stdout",
     "output_type": "stream",
     "text": [
      "\u001b[36m(launch_and_fit pid=8612)\u001b[0m \tTrain Epoch: 7 \tTrain_loss: 1.6477 | Train_acc: 44.5208 % | Validation_loss: 1.6446 | Validation_acc: 42.3611 %\u001b[32m [repeated 4x across cluster]\u001b[0m\n"
     ]
    },
    {
     "name": "stderr",
     "output_type": "stream",
     "text": [
      " 70%|\u001b[34m███████   \u001b[0m| 7/10 [00:18<00:07,  2.65s/it]\u001b[32m [repeated 4x across cluster]\u001b[0m\n"
     ]
    },
    {
     "name": "stdout",
     "output_type": "stream",
     "text": [
      "\u001b[36m(launch_and_fit pid=8612)\u001b[0m \tTrain Epoch: 9 \tTrain_loss: 1.6522 | Train_acc: 43.3125 % | Validation_loss: 1.6413 | Validation_acc: 42.3611 %\u001b[32m [repeated 4x across cluster]\u001b[0m\n"
     ]
    },
    {
     "name": "stderr",
     "output_type": "stream",
     "text": [
      " 90%|\u001b[34m█████████ \u001b[0m| 9/10 [00:24<00:02,  2.66s/it]\u001b[32m [repeated 4x across cluster]\u001b[0m\n"
     ]
    },
    {
     "name": "stdout",
     "output_type": "stream",
     "text": [
      "\u001b[36m(launch_and_fit pid=8612)\u001b[0m save graph in  results/FL/\n",
      "\u001b[36m(launch_and_fit pid=8612)\u001b[0m fc1.weight 5.245208740234375e-06\n",
      "\u001b[36m(launch_and_fit pid=8612)\u001b[0m fc1.bias 1.1920928955078125e-06\n",
      "\u001b[36m(launch_and_fit pid=8612)\u001b[0m fc2.weight 1.1920928955078125e-06\n",
      "\u001b[36m(launch_and_fit pid=8612)\u001b[0m fc2.bias 9.5367431640625e-07\n",
      "\u001b[36m(launch_and_fit pid=8612)\u001b[0m qnn.weights 9.5367431640625e-07\n",
      "\u001b[36m(launch_and_fit pid=8613)\u001b[0m \tTrain Epoch: 10 \tTrain_loss: 1.6637 | Train_acc: 45.0852 % | Validation_loss: 1.6120 | Validation_acc: 49.3056 %\u001b[32m [repeated 3x across cluster]\u001b[0m\n",
      "\u001b[36m(launch_and_fit pid=8695)\u001b[0m Run with homomorphic encryption\n",
      "\u001b[36m(launch_and_fit pid=8613)\u001b[0m save graph in  results/FL/\n",
      "\u001b[36m(launch_and_fit pid=8613)\u001b[0m fc3.bias 3.5762786865234375e-06\u001b[32m [repeated 8x across cluster]\u001b[0m\n",
      "\u001b[36m(launch_and_fit pid=8613)\u001b[0m qnn.weights 1.1920928955078125e-06\n",
      "\u001b[36m(launch_and_fit pid=8695)\u001b[0m [Client 5, round 11] fit, config: {'learning_rate': 0.003, 'batch_size': '16', 'server_round': 11, 'local_epochs': 10}\n",
      "\u001b[36m(launch_and_fit pid=8695)\u001b[0m Updated model\n"
     ]
    },
    {
     "name": "stderr",
     "output_type": "stream",
     "text": [
      "  0%|\u001b[34m          \u001b[0m| 0/10 [00:00<?, ?it/s]\n",
      "100%|\u001b[34m██████████\u001b[0m| 10/10 [00:26<00:00,  2.63s/it]\u001b[32m [repeated 3x across cluster]\u001b[0m\n"
     ]
    },
    {
     "name": "stdout",
     "output_type": "stream",
     "text": [
      "\u001b[36m(launch_and_fit pid=8695)\u001b[0m \tTrain Epoch: 1 \tTrain_loss: 1.7781 | Train_acc: 32.8977 % | Validation_loss: 1.7226 | Validation_acc: 54.1667 %\n",
      "\u001b[36m(launch_and_fit pid=8697)\u001b[0m Run with homomorphic encryption\n",
      "\u001b[36m(launch_and_fit pid=8697)\u001b[0m [Client 2, round 11] fit, config: {'learning_rate': 0.003, 'batch_size': '16', 'server_round': 11, 'local_epochs': 10}\n",
      "\u001b[36m(launch_and_fit pid=8697)\u001b[0m Updated model\n"
     ]
    },
    {
     "name": "stderr",
     "output_type": "stream",
     "text": [
      "  0%|\u001b[34m          \u001b[0m| 0/10 [00:00<?, ?it/s]\n",
      " 20%|\u001b[34m██        \u001b[0m| 2/10 [00:05<00:21,  2.66s/it]\u001b[32m [repeated 3x across cluster]\u001b[0m\n"
     ]
    },
    {
     "name": "stdout",
     "output_type": "stream",
     "text": [
      "\u001b[36m(launch_and_fit pid=8695)\u001b[0m \tTrain Epoch: 3 \tTrain_loss: 1.7399 | Train_acc: 36.8182 % | Validation_loss: 1.7525 | Validation_acc: 20.8333 %\u001b[32m [repeated 4x across cluster]\u001b[0m\n"
     ]
    },
    {
     "name": "stderr",
     "output_type": "stream",
     "text": [
      " 40%|\u001b[34m████      \u001b[0m| 4/10 [00:10<00:15,  2.63s/it]\u001b[32m [repeated 4x across cluster]\u001b[0m\n"
     ]
    },
    {
     "name": "stdout",
     "output_type": "stream",
     "text": [
      "\u001b[36m(launch_and_fit pid=8695)\u001b[0m \tTrain Epoch: 5 \tTrain_loss: 1.7464 | Train_acc: 33.2386 % | Validation_loss: 1.7403 | Validation_acc: 20.8333 %\u001b[32m [repeated 4x across cluster]\u001b[0m\n"
     ]
    },
    {
     "name": "stderr",
     "output_type": "stream",
     "text": [
      " 60%|\u001b[34m██████    \u001b[0m| 6/10 [00:15<00:10,  2.56s/it]\u001b[32m [repeated 4x across cluster]\u001b[0m\n"
     ]
    },
    {
     "name": "stdout",
     "output_type": "stream",
     "text": [
      "\u001b[36m(launch_and_fit pid=8695)\u001b[0m \tTrain Epoch: 7 \tTrain_loss: 1.7388 | Train_acc: 33.4091 % | Validation_loss: 1.7947 | Validation_acc: 22.9167 %\u001b[32m [repeated 4x across cluster]\u001b[0m\n"
     ]
    },
    {
     "name": "stderr",
     "output_type": "stream",
     "text": [
      " 80%|\u001b[34m████████  \u001b[0m| 8/10 [00:20<00:05,  2.54s/it]\u001b[32m [repeated 4x across cluster]\u001b[0m\n"
     ]
    },
    {
     "name": "stdout",
     "output_type": "stream",
     "text": [
      "\u001b[36m(launch_and_fit pid=8697)\u001b[0m \tTrain Epoch: 9 \tTrain_loss: 1.6460 | Train_acc: 44.0341 % | Validation_loss: 1.7591 | Validation_acc: 34.0278 %\u001b[32m [repeated 4x across cluster]\u001b[0m\n"
     ]
    },
    {
     "name": "stderr",
     "output_type": "stream",
     "text": [
      "100%|\u001b[34m██████████\u001b[0m| 10/10 [00:25<00:00,  2.55s/it]\u001b[32m [repeated 4x across cluster]\u001b[0m\n"
     ]
    },
    {
     "name": "stdout",
     "output_type": "stream",
     "text": [
      "\u001b[36m(launch_and_fit pid=8697)\u001b[0m save graph in  results/FL/\n",
      "\u001b[36m(launch_and_fit pid=8697)\u001b[0m fc1.weight 5.245208740234375e-06\n",
      "\u001b[36m(launch_and_fit pid=8697)\u001b[0m fc1.bias 1.1920928955078125e-06\n",
      "\u001b[36m(launch_and_fit pid=8697)\u001b[0m fc2.weight 9.5367431640625e-07\n",
      "\u001b[36m(launch_and_fit pid=8697)\u001b[0m fc2.bias 9.5367431640625e-07\n",
      "\u001b[36m(launch_and_fit pid=8697)\u001b[0m qnn.weights 2.1457672119140625e-06\n",
      "\u001b[36m(launch_and_fit pid=8695)\u001b[0m \tTrain Epoch: 10 \tTrain_loss: 1.7107 | Train_acc: 37.7557 % | Validation_loss: 1.7587 | Validation_acc: 53.4722 %\u001b[32m [repeated 3x across cluster]\u001b[0m\n",
      "\u001b[36m(launch_and_fit pid=8777)\u001b[0m Run with homomorphic encryption\n",
      "\u001b[36m(launch_and_fit pid=8695)\u001b[0m save graph in  results/FL/\n",
      "\u001b[36m(launch_and_fit pid=8695)\u001b[0m fc3.bias 4.0531158447265625e-06\u001b[32m [repeated 8x across cluster]\u001b[0m\n",
      "\u001b[36m(launch_and_fit pid=8695)\u001b[0m qnn.weights 1.430511474609375e-06\n",
      "\u001b[36m(launch_and_fit pid=8777)\u001b[0m [Client 1, round 11] fit, config: {'learning_rate': 0.003, 'batch_size': '16', 'server_round': 11, 'local_epochs': 10}\n"
     ]
    },
    {
     "name": "stderr",
     "output_type": "stream",
     "text": [
      "  0%|\u001b[34m          \u001b[0m| 0/10 [00:00<?, ?it/s]\n",
      "100%|\u001b[34m██████████\u001b[0m| 10/10 [00:26<00:00,  2.61s/it]\n"
     ]
    },
    {
     "name": "stdout",
     "output_type": "stream",
     "text": [
      "\u001b[36m(launch_and_fit pid=8777)\u001b[0m Updated model\n"
     ]
    },
    {
     "name": "stderr",
     "output_type": "stream",
     "text": [
      " 10%|\u001b[34m█         \u001b[0m| 1/10 [00:03<00:27,  3.02s/it]\n"
     ]
    },
    {
     "name": "stdout",
     "output_type": "stream",
     "text": [
      "\u001b[36m(launch_and_fit pid=8777)\u001b[0m \tTrain Epoch: 1 \tTrain_loss: 1.7795 | Train_acc: 32.4432 % | Validation_loss: 1.8458 | Validation_acc: 29.8611 %\n",
      "\u001b[36m(launch_and_fit pid=8779)\u001b[0m Run with homomorphic encryption\n"
     ]
    },
    {
     "name": "stderr",
     "output_type": "stream",
     "text": [
      "  0%|\u001b[34m          \u001b[0m| 0/10 [00:00<?, ?it/s]\n"
     ]
    },
    {
     "name": "stdout",
     "output_type": "stream",
     "text": [
      "\u001b[36m(launch_and_fit pid=8779)\u001b[0m [Client 4, round 11] fit, config: {'learning_rate': 0.003, 'batch_size': '16', 'server_round': 11, 'local_epochs': 10}\n",
      "\u001b[36m(launch_and_fit pid=8779)\u001b[0m Updated model\n"
     ]
    },
    {
     "name": "stderr",
     "output_type": "stream",
     "text": [
      " 30%|\u001b[34m███       \u001b[0m| 3/10 [00:08<00:19,  2.76s/it]\u001b[32m [repeated 4x across cluster]\u001b[0m\n"
     ]
    },
    {
     "name": "stdout",
     "output_type": "stream",
     "text": [
      "\u001b[36m(launch_and_fit pid=8777)\u001b[0m \tTrain Epoch: 3 \tTrain_loss: 1.7417 | Train_acc: 34.5170 % | Validation_loss: 1.8593 | Validation_acc: 27.7778 %\u001b[32m [repeated 4x across cluster]\u001b[0m\n"
     ]
    },
    {
     "name": "stderr",
     "output_type": "stream",
     "text": [
      " 50%|\u001b[34m█████     \u001b[0m| 5/10 [00:13<00:13,  2.67s/it]\u001b[32m [repeated 4x across cluster]\u001b[0m\n"
     ]
    },
    {
     "name": "stdout",
     "output_type": "stream",
     "text": [
      "\u001b[36m(launch_and_fit pid=8777)\u001b[0m \tTrain Epoch: 5 \tTrain_loss: 1.7267 | Train_acc: 34.4886 % | Validation_loss: 1.8684 | Validation_acc: 36.1111 %\u001b[32m [repeated 4x across cluster]\u001b[0m\n"
     ]
    },
    {
     "name": "stderr",
     "output_type": "stream",
     "text": [
      " 70%|\u001b[34m███████   \u001b[0m| 7/10 [00:19<00:08,  2.71s/it]\u001b[32m [repeated 4x across cluster]\u001b[0m\n"
     ]
    },
    {
     "name": "stdout",
     "output_type": "stream",
     "text": [
      "\u001b[36m(launch_and_fit pid=8777)\u001b[0m \tTrain Epoch: 7 \tTrain_loss: 1.7040 | Train_acc: 38.2102 % | Validation_loss: 1.8596 | Validation_acc: 29.8611 %\u001b[32m [repeated 4x across cluster]\u001b[0m\n"
     ]
    },
    {
     "name": "stderr",
     "output_type": "stream",
     "text": [
      " 90%|\u001b[34m█████████ \u001b[0m| 9/10 [00:24<00:02,  2.64s/it]\u001b[32m [repeated 4x across cluster]\u001b[0m\n"
     ]
    },
    {
     "name": "stdout",
     "output_type": "stream",
     "text": [
      "\u001b[36m(launch_and_fit pid=8777)\u001b[0m \tTrain Epoch: 9 \tTrain_loss: 1.6888 | Train_acc: 38.3523 % | Validation_loss: 1.9165 | Validation_acc: 29.8611 %\u001b[32m [repeated 4x across cluster]\u001b[0m\n",
      "\u001b[36m(launch_and_fit pid=8777)\u001b[0m save graph in  results/FL/\n",
      "\u001b[36m(launch_and_fit pid=8777)\u001b[0m fc1.weight 4.5299530029296875e-06\n",
      "\u001b[36m(launch_and_fit pid=8777)\u001b[0m fc1.bias 1.1920928955078125e-06\n",
      "\u001b[36m(launch_and_fit pid=8777)\u001b[0m fc2.weight 1.430511474609375e-06\n",
      "\u001b[36m(launch_and_fit pid=8777)\u001b[0m fc2.bias 9.5367431640625e-07\n",
      "\u001b[36m(launch_and_fit pid=8777)\u001b[0m qnn.weights 1.1920928955078125e-06\n",
      "\u001b[36m(launch_and_fit pid=8779)\u001b[0m \tTrain Epoch: 10 \tTrain_loss: 1.6758 | Train_acc: 41.6477 % | Validation_loss: 1.7245 | Validation_acc: 42.3611 %\u001b[32m [repeated 3x across cluster]\u001b[0m\n",
      "\u001b[36m(launch_and_fit pid=8859)\u001b[0m Run with homomorphic encryption\n",
      "\u001b[36m(launch_and_fit pid=8779)\u001b[0m save graph in  results/FL/\n",
      "\u001b[36m(launch_and_fit pid=8779)\u001b[0m fc3.bias 5.7220458984375e-06\u001b[32m [repeated 8x across cluster]\u001b[0m\n",
      "\u001b[36m(launch_and_fit pid=8779)\u001b[0m qnn.weights 1.6689300537109375e-06\n",
      "\u001b[36m(launch_and_fit pid=8859)\u001b[0m [Client 0, round 11] fit, config: {'learning_rate': 0.003, 'batch_size': '16', 'server_round': 11, 'local_epochs': 10}\n"
     ]
    },
    {
     "name": "stderr",
     "output_type": "stream",
     "text": [
      "  0%|\u001b[34m          \u001b[0m| 0/10 [00:00<?, ?it/s]\n",
      "100%|\u001b[34m██████████\u001b[0m| 10/10 [00:26<00:00,  2.67s/it]\u001b[32m [repeated 3x across cluster]\u001b[0m\n"
     ]
    },
    {
     "name": "stdout",
     "output_type": "stream",
     "text": [
      "\u001b[36m(launch_and_fit pid=8859)\u001b[0m Updated model\n",
      "\u001b[36m(launch_and_fit pid=8859)\u001b[0m \tTrain Epoch: 1 \tTrain_loss: 1.7087 | Train_acc: 39.6023 % | Validation_loss: 1.9447 | Validation_acc: 18.7500 %\n"
     ]
    },
    {
     "name": "stderr",
     "output_type": "stream",
     "text": [
      "  0%|\u001b[34m          \u001b[0m| 0/10 [00:00<?, ?it/s]\n",
      " 20%|\u001b[34m██        \u001b[0m| 2/10 [00:05<00:20,  2.60s/it]\u001b[32m [repeated 3x across cluster]\u001b[0m\n"
     ]
    },
    {
     "name": "stdout",
     "output_type": "stream",
     "text": [
      "\u001b[36m(launch_and_fit pid=8861)\u001b[0m Run with homomorphic encryption\n",
      "\u001b[36m(launch_and_fit pid=8861)\u001b[0m [Client 6, round 11] fit, config: {'learning_rate': 0.003, 'batch_size': '16', 'server_round': 11, 'local_epochs': 10}\n",
      "\u001b[36m(launch_and_fit pid=8861)\u001b[0m Updated model\n",
      "\u001b[36m(launch_and_fit pid=8859)\u001b[0m \tTrain Epoch: 3 \tTrain_loss: 1.6876 | Train_acc: 38.1818 % | Validation_loss: 1.8608 | Validation_acc: 20.8333 %\u001b[32m [repeated 4x across cluster]\u001b[0m\n"
     ]
    },
    {
     "name": "stderr",
     "output_type": "stream",
     "text": [
      " 40%|\u001b[34m████      \u001b[0m| 4/10 [00:10<00:15,  2.57s/it]\u001b[32m [repeated 4x across cluster]\u001b[0m\n"
     ]
    },
    {
     "name": "stdout",
     "output_type": "stream",
     "text": [
      "\u001b[36m(launch_and_fit pid=8861)\u001b[0m \tTrain Epoch: 5 \tTrain_loss: 1.6626 | Train_acc: 43.8352 % | Validation_loss: 1.8563 | Validation_acc: 43.0556 %\u001b[32m [repeated 5x across cluster]\u001b[0m\n"
     ]
    },
    {
     "name": "stderr",
     "output_type": "stream",
     "text": [
      " 60%|\u001b[34m██████    \u001b[0m| 6/10 [00:15<00:09,  2.46s/it]\u001b[32m [repeated 5x across cluster]\u001b[0m\n"
     ]
    },
    {
     "name": "stdout",
     "output_type": "stream",
     "text": [
      "\u001b[36m(launch_and_fit pid=8859)\u001b[0m \tTrain Epoch: 8 \tTrain_loss: 1.6396 | Train_acc: 43.8068 % | Validation_loss: 1.8776 | Validation_acc: 27.0833 %\u001b[32m [repeated 5x across cluster]\u001b[0m\n"
     ]
    },
    {
     "name": "stderr",
     "output_type": "stream",
     "text": [
      " 80%|\u001b[34m████████  \u001b[0m| 8/10 [00:20<00:04,  2.50s/it]\u001b[32m [repeated 4x across cluster]\u001b[0m\n",
      "100%|\u001b[34m██████████\u001b[0m| 10/10 [00:25<00:00,  2.58s/it]\u001b[32m [repeated 3x across cluster]\u001b[0m\n"
     ]
    },
    {
     "name": "stdout",
     "output_type": "stream",
     "text": [
      "\u001b[36m(launch_and_fit pid=8859)\u001b[0m save graph in  results/FL/\n",
      "\u001b[36m(launch_and_fit pid=8859)\u001b[0m \tTrain Epoch: 10 \tTrain_loss: 1.6337 | Train_acc: 46.3068 % | Validation_loss: 1.8808 | Validation_acc: 25.0000 %\u001b[32m [repeated 4x across cluster]\u001b[0m\n",
      "\u001b[36m(launch_and_fit pid=8859)\u001b[0m fc1.weight 5.245208740234375e-06\n",
      "\u001b[36m(launch_and_fit pid=8859)\u001b[0m fc1.bias 1.430511474609375e-06\n",
      "\u001b[36m(launch_and_fit pid=8859)\u001b[0m fc2.weight 1.430511474609375e-06\n",
      "\u001b[36m(launch_and_fit pid=8859)\u001b[0m fc2.bias 1.1920928955078125e-06\n",
      "\u001b[36m(launch_and_fit pid=8859)\u001b[0m qnn.weights 1.1920928955078125e-06\n",
      "\u001b[36m(launch_and_fit pid=8941)\u001b[0m Run with homomorphic encryption\n",
      "\u001b[36m(launch_and_fit pid=8861)\u001b[0m save graph in  results/FL/\n",
      "\u001b[36m(launch_and_fit pid=8861)\u001b[0m \tTrain Epoch: 10 \tTrain_loss: 1.6351 | Train_acc: 46.9602 % | Validation_loss: 1.8691 | Validation_acc: 16.6667 %\n",
      "\u001b[36m(launch_and_fit pid=8861)\u001b[0m fc3.bias 4.5299530029296875e-06\u001b[32m [repeated 8x across cluster]\u001b[0m\n",
      "\u001b[36m(launch_and_fit pid=8861)\u001b[0m qnn.weights 9.5367431640625e-07\n",
      "\u001b[36m(launch_and_fit pid=8941)\u001b[0m [Client 8, round 11] fit, config: {'learning_rate': 0.003, 'batch_size': '16', 'server_round': 11, 'local_epochs': 10}\n"
     ]
    },
    {
     "name": "stderr",
     "output_type": "stream",
     "text": [
      "  0%|\u001b[34m          \u001b[0m| 0/10 [00:00<?, ?it/s]\n",
      "100%|\u001b[34m██████████\u001b[0m| 10/10 [00:25<00:00,  2.54s/it]\n"
     ]
    },
    {
     "name": "stdout",
     "output_type": "stream",
     "text": [
      "\u001b[36m(launch_and_fit pid=8941)\u001b[0m Updated model\n"
     ]
    },
    {
     "name": "stderr",
     "output_type": "stream",
     "text": [
      " 10%|\u001b[34m█         \u001b[0m| 1/10 [00:02<00:24,  2.75s/it]\n"
     ]
    },
    {
     "name": "stdout",
     "output_type": "stream",
     "text": [
      "\u001b[36m(launch_and_fit pid=8941)\u001b[0m \tTrain Epoch: 1 \tTrain_loss: 1.8058 | Train_acc: 29.1761 % | Validation_loss: 1.8107 | Validation_acc: 20.8333 %\n",
      "\u001b[36m(launch_and_fit pid=8966)\u001b[0m Run with homomorphic encryption\n"
     ]
    },
    {
     "name": "stderr",
     "output_type": "stream",
     "text": [
      "  0%|\u001b[34m          \u001b[0m| 0/10 [00:00<?, ?it/s]\n"
     ]
    },
    {
     "name": "stdout",
     "output_type": "stream",
     "text": [
      "\u001b[36m(launch_and_fit pid=8966)\u001b[0m [Client 3, round 11] fit, config: {'learning_rate': 0.003, 'batch_size': '16', 'server_round': 11, 'local_epochs': 10}\n",
      "\u001b[36m(launch_and_fit pid=8966)\u001b[0m Updated model\n"
     ]
    },
    {
     "name": "stderr",
     "output_type": "stream",
     "text": [
      " 30%|\u001b[34m███       \u001b[0m| 3/10 [00:07<00:18,  2.60s/it]\u001b[32m [repeated 4x across cluster]\u001b[0m\n"
     ]
    },
    {
     "name": "stdout",
     "output_type": "stream",
     "text": [
      "\u001b[36m(launch_and_fit pid=8941)\u001b[0m \tTrain Epoch: 3 \tTrain_loss: 1.7161 | Train_acc: 36.7898 % | Validation_loss: 1.8173 | Validation_acc: 31.9444 %\u001b[32m [repeated 4x across cluster]\u001b[0m\n"
     ]
    },
    {
     "name": "stderr",
     "output_type": "stream",
     "text": [
      " 50%|\u001b[34m█████     \u001b[0m| 5/10 [00:13<00:13,  2.64s/it]\u001b[32m [repeated 4x across cluster]\u001b[0m\n"
     ]
    },
    {
     "name": "stdout",
     "output_type": "stream",
     "text": [
      "\u001b[36m(launch_and_fit pid=8941)\u001b[0m \tTrain Epoch: 5 \tTrain_loss: 1.6949 | Train_acc: 39.3182 % | Validation_loss: 1.8131 | Validation_acc: 22.9167 %\u001b[32m [repeated 4x across cluster]\u001b[0m\n"
     ]
    },
    {
     "name": "stderr",
     "output_type": "stream",
     "text": [
      " 70%|\u001b[34m███████   \u001b[0m| 7/10 [00:18<00:07,  2.58s/it]\u001b[32m [repeated 4x across cluster]\u001b[0m\n"
     ]
    },
    {
     "name": "stdout",
     "output_type": "stream",
     "text": [
      "\u001b[36m(launch_and_fit pid=8941)\u001b[0m \tTrain Epoch: 7 \tTrain_loss: 1.6838 | Train_acc: 39.6023 % | Validation_loss: 1.8301 | Validation_acc: 20.8333 %\u001b[32m [repeated 4x across cluster]\u001b[0m\n"
     ]
    },
    {
     "name": "stderr",
     "output_type": "stream",
     "text": [
      " 90%|\u001b[34m█████████ \u001b[0m| 9/10 [00:23<00:02,  2.60s/it]\u001b[32m [repeated 4x across cluster]\u001b[0m\n"
     ]
    },
    {
     "name": "stdout",
     "output_type": "stream",
     "text": [
      "\u001b[36m(launch_and_fit pid=8941)\u001b[0m \tTrain Epoch: 9 \tTrain_loss: 1.6793 | Train_acc: 39.8011 % | Validation_loss: 1.8337 | Validation_acc: 22.9167 %\u001b[32m [repeated 4x across cluster]\u001b[0m\n",
      "\u001b[36m(launch_and_fit pid=8941)\u001b[0m save graph in  results/FL/\n",
      "\u001b[36m(launch_and_fit pid=8941)\u001b[0m fc1.weight 5.245208740234375e-06\n",
      "\u001b[36m(launch_and_fit pid=8941)\u001b[0m fc1.bias 1.1920928955078125e-06\n",
      "\u001b[36m(launch_and_fit pid=8941)\u001b[0m fc2.weight 1.1920928955078125e-06\n",
      "\u001b[36m(launch_and_fit pid=8941)\u001b[0m fc2.bias 9.5367431640625e-07\n",
      "\u001b[36m(launch_and_fit pid=8941)\u001b[0m qnn.weights 1.1920928955078125e-06\n",
      "\u001b[36m(launch_and_fit pid=8966)\u001b[0m \tTrain Epoch: 10 \tTrain_loss: 1.6812 | Train_acc: 40.5114 % | Validation_loss: 1.8815 | Validation_acc: 29.8611 %\u001b[32m [repeated 3x across cluster]\u001b[0m\n"
     ]
    },
    {
     "name": "stderr",
     "output_type": "stream",
     "text": [
      "ERROR flwr 2024-07-22 10:13:40,034 | ray_client_proxy.py:87 | Task was killed due to the node running low on memory.\n",
      "Memory on the node (IP: 172.19.2.2, ID: dcb7465c1e18f5f0fd3f2a9b1d80ab4a1bc14b88238171cc5f710a6a) where the task (task ID: a1baaf7a7a4da7705a5f6fd5f6ecb3c32813ac8c01000000, name=launch_and_fit, pid=8966, memory used=2.48GB) was running was 27.60GB / 29.00GB (0.951887), which exceeds the memory usage threshold of 0.95. Ray killed this worker (ID: f54429196904753aa6af0d17d6ed4956f82ff81ff4fec5872a8817c8) because it was the most recently scheduled task; to see more information about memory usage on this node, use `ray logs raylet.out -ip 172.19.2.2`. To see the logs of the worker, use `ray logs worker-f54429196904753aa6af0d17d6ed4956f82ff81ff4fec5872a8817c8*out -ip 172.19.2.2. Top 10 memory users:\n",
      "PID\tMEM(GB)\tCOMMAND\n",
      "24\t16.19\t/opt/conda/bin/python -m ipykernel_launcher -f /tmp/tmposf3yqre.json --HistoryManager.hist_file=:mem...\n",
      "8966\t2.48\tray::launch_and_fit\n",
      "8941\t2.31\tray::IDLE\n",
      "8859\t2.30\tray::IDLE\n",
      "8861\t1.97\tray::IDLE\n",
      "9\t0.10\tpython -c import sys;import papermill as pm;pm.execute_notebook(\"__notebook__.ipynb\",\"__notebook__.i...\n",
      "185\t0.06\t/opt/conda/bin/python /opt/conda/lib/python3.10/site-packages/ray/dashboard/dashboard.py --host=127....\n",
      "250\t0.06\t/opt/conda/bin/python -u /opt/conda/lib/python3.10/site-packages/ray/dashboard/agent.py --node-ip-ad...\n",
      "184\t0.04\t/opt/conda/bin/python -u /opt/conda/lib/python3.10/site-packages/ray/autoscaler/_private/monitor.py ...\n",
      "210\t0.04\t/opt/conda/bin/python -u /opt/conda/lib/python3.10/site-packages/ray/_private/log_monitor.py --sessi...\n",
      "Refer to the documentation on how to address the out of memory issue: https://docs.ray.io/en/latest/ray-core/scheduling/ray-oom-prevention.html. Consider provisioning more memory on this node or reducing task parallelism by requesting more CPUs per task. To adjust the kill threshold, set the environment variable `RAY_memory_usage_threshold` when starting Ray. To disable worker killing, set the environment variable `RAY_memory_monitor_refresh_ms` to zero.\n",
      "DEBUG flwr 2024-07-22 10:13:40,042 | server.py:236 | fit_round 11 received 9 results and 1 failures\n"
     ]
    },
    {
     "name": "stdout",
     "output_type": "stream",
     "text": [
      "Saving round 11 aggregated_parameters...\n"
     ]
    },
    {
     "name": "stderr",
     "output_type": "stream",
     "text": [
      "DEBUG flwr 2024-07-22 10:13:58,065 | server.py:173 | evaluate_round 11: strategy sampled 10 clients (out of 10)\n"
     ]
    },
    {
     "name": "stdout",
     "output_type": "stream",
     "text": [
      "\u001b[36m(launch_and_evaluate pid=9031)\u001b[0m Run with homomorphic encryption\n",
      "\u001b[36m(launch_and_fit pid=8966)\u001b[0m save graph in  results/FL/\n",
      "\u001b[36m(launch_and_fit pid=8966)\u001b[0m fc3.bias 4.5299530029296875e-06\u001b[32m [repeated 8x across cluster]\u001b[0m\n",
      "\u001b[36m(launch_and_fit pid=8966)\u001b[0m qnn.weights 1.430511474609375e-06\n"
     ]
    },
    {
     "name": "stderr",
     "output_type": "stream",
     "text": [
      "\u001b[33m(raylet)\u001b[0m [2024-07-22 10:14:09,984 E 209 209] (raylet) node_manager.cc:3022: 1 Workers (tasks / actors) killed due to memory pressure (OOM), 0 Workers crashed due to other reasons at node (ID: dcb7465c1e18f5f0fd3f2a9b1d80ab4a1bc14b88238171cc5f710a6a, IP: 172.19.2.2) over the last time period. To see more information about the Workers killed on this node, use `ray logs raylet.out -ip 172.19.2.2`\n",
      "\u001b[33m(raylet)\u001b[0m Refer to the documentation on how to address the out of memory issue: https://docs.ray.io/en/latest/ray-core/scheduling/ray-oom-prevention.html. Consider provisioning more memory on this node or reducing task parallelism by requesting more CPUs per task. To adjust the kill threshold, set the environment variable `RAY_memory_usage_threshold` when starting Ray. To disable worker killing, set the environment variable `RAY_memory_monitor_refresh_ms` to zero.\n",
      "\u001b[33m(raylet)\u001b[0m \u001b[32m [repeated 4x across cluster]\u001b[0m\n"
     ]
    },
    {
     "name": "stdout",
     "output_type": "stream",
     "text": [
      "\u001b[36m(launch_and_evaluate pid=9031)\u001b[0m [Client 5] evaluate, config: {}\n",
      "\u001b[36m(launch_and_evaluate pid=9031)\u001b[0m Updated model\n",
      "\u001b[36m(launch_and_evaluate pid=9108)\u001b[0m Run with homomorphic encryption\u001b[32m [repeated 2x across cluster]\u001b[0m\n",
      "\u001b[36m(launch_and_evaluate pid=9032)\u001b[0m [Client 0] evaluate, config: {}\n",
      "\u001b[36m(launch_and_evaluate pid=9032)\u001b[0m Updated model\n",
      "\u001b[36m(launch_and_evaluate pid=9108)\u001b[0m [Client 4] evaluate, config: {}\n",
      "\u001b[36m(launch_and_evaluate pid=9108)\u001b[0m Updated model\n"
     ]
    },
    {
     "name": "stderr",
     "output_type": "stream",
     "text": [
      "\u001b[36m(launch_and_evaluate pid=9108)\u001b[0m /opt/conda/lib/python3.10/site-packages/sklearn/metrics/_ranking.py:1029: UndefinedMetricWarning: No positive samples in y_true, true positive value should be meaningless\n",
      "\u001b[36m(launch_and_evaluate pid=9108)\u001b[0m   warnings.warn(\n"
     ]
    },
    {
     "name": "stdout",
     "output_type": "stream",
     "text": [
      "\u001b[36m(launch_and_evaluate pid=9186)\u001b[0m Run with homomorphic encryption\u001b[32m [repeated 2x across cluster]\u001b[0m\n",
      "\u001b[36m(launch_and_evaluate pid=9133)\u001b[0m [Client 1] evaluate, config: {}\n",
      "\u001b[36m(launch_and_evaluate pid=9133)\u001b[0m Updated model\n",
      "\u001b[36m(launch_and_evaluate pid=9186)\u001b[0m [Client 3] evaluate, config: {}\n",
      "\u001b[36m(launch_and_evaluate pid=9186)\u001b[0m Updated model\n"
     ]
    },
    {
     "name": "stderr",
     "output_type": "stream",
     "text": [
      "\u001b[36m(launch_and_evaluate pid=9211)\u001b[0m /opt/conda/lib/python3.10/site-packages/sklearn/metrics/_ranking.py:1029: UndefinedMetricWarning: No positive samples in y_true, true positive value should be meaningless\n",
      "\u001b[36m(launch_and_evaluate pid=9211)\u001b[0m   warnings.warn(\n"
     ]
    },
    {
     "name": "stdout",
     "output_type": "stream",
     "text": [
      "\u001b[36m(launch_and_evaluate pid=9265)\u001b[0m Run with homomorphic encryption\u001b[32m [repeated 2x across cluster]\u001b[0m\n",
      "\u001b[36m(launch_and_evaluate pid=9211)\u001b[0m [Client 8] evaluate, config: {}\n",
      "\u001b[36m(launch_and_evaluate pid=9211)\u001b[0m Updated model\n",
      "\u001b[36m(launch_and_evaluate pid=9265)\u001b[0m [Client 7] evaluate, config: {}\n",
      "\u001b[36m(launch_and_evaluate pid=9265)\u001b[0m Updated model\n",
      "\u001b[36m(launch_and_evaluate pid=9343)\u001b[0m Run with homomorphic encryption\u001b[32m [repeated 2x across cluster]\u001b[0m\n",
      "\u001b[36m(launch_and_evaluate pid=9290)\u001b[0m [Client 2] evaluate, config: {}\n",
      "\u001b[36m(launch_and_evaluate pid=9290)\u001b[0m Updated model\n",
      "\u001b[36m(launch_and_evaluate pid=9343)\u001b[0m [Client 6] evaluate, config: {}\n",
      "\u001b[36m(launch_and_evaluate pid=9343)\u001b[0m Updated model\n"
     ]
    },
    {
     "name": "stderr",
     "output_type": "stream",
     "text": [
      "\u001b[36m(launch_and_evaluate pid=9345)\u001b[0m /opt/conda/lib/python3.10/site-packages/sklearn/metrics/_ranking.py:1029: UndefinedMetricWarning: No positive samples in y_true, true positive value should be meaningless\n",
      "\u001b[36m(launch_and_evaluate pid=9345)\u001b[0m   warnings.warn(\n",
      "DEBUG flwr 2024-07-22 10:15:04,530 | server.py:187 | evaluate_round 11 received 10 results and 0 failures\n",
      "DEBUG flwr 2024-07-22 10:15:04,531 | server.py:222 | fit_round 12: strategy sampled 10 clients (out of 10)\n"
     ]
    },
    {
     "name": "stdout",
     "output_type": "stream",
     "text": [
      "\u001b[36m(launch_and_fit pid=9430)\u001b[0m Run with homomorphic encryption\u001b[32m [repeated 2x across cluster]\u001b[0m\n",
      "\u001b[36m(launch_and_evaluate pid=9345)\u001b[0m [Client 9] evaluate, config: {}\n",
      "\u001b[36m(launch_and_evaluate pid=9345)\u001b[0m Updated model\n",
      "\u001b[36m(launch_and_fit pid=9430)\u001b[0m [Client 1, round 12] fit, config: {'learning_rate': 0.003, 'batch_size': '16', 'server_round': 12, 'local_epochs': 10}\n",
      "\u001b[36m(launch_and_fit pid=9430)\u001b[0m Updated model\n"
     ]
    },
    {
     "name": "stderr",
     "output_type": "stream",
     "text": [
      "  0%|\u001b[34m          \u001b[0m| 0/10 [00:00<?, ?it/s]\n"
     ]
    },
    {
     "name": "stdout",
     "output_type": "stream",
     "text": [
      "\u001b[36m(launch_and_fit pid=9431)\u001b[0m \tTrain Epoch: 1 \tTrain_loss: 1.7034 | Train_acc: 41.0625 % | Validation_loss: 1.6747 | Validation_acc: 38.1944 %\n"
     ]
    },
    {
     "name": "stderr",
     "output_type": "stream",
     "text": [
      " 10%|\u001b[34m█         \u001b[0m| 1/10 [00:02<00:23,  2.67s/it]\n"
     ]
    },
    {
     "name": "stdout",
     "output_type": "stream",
     "text": [
      "\u001b[36m(launch_and_fit pid=9431)\u001b[0m Run with homomorphic encryption\n",
      "\u001b[36m(launch_and_fit pid=9431)\u001b[0m [Client 9, round 12] fit, config: {'learning_rate': 0.003, 'batch_size': '16', 'server_round': 12, 'local_epochs': 10}\n",
      "\u001b[36m(launch_and_fit pid=9431)\u001b[0m Updated model\n"
     ]
    },
    {
     "name": "stderr",
     "output_type": "stream",
     "text": [
      "  0%|\u001b[34m          \u001b[0m| 0/10 [00:00<?, ?it/s]\n"
     ]
    },
    {
     "name": "stdout",
     "output_type": "stream",
     "text": [
      "\u001b[36m(launch_and_fit pid=9431)\u001b[0m \tTrain Epoch: 3 \tTrain_loss: 1.6704 | Train_acc: 44.8333 % | Validation_loss: 1.7246 | Validation_acc: 40.2778 %\u001b[32m [repeated 4x across cluster]\u001b[0m\n"
     ]
    },
    {
     "name": "stderr",
     "output_type": "stream",
     "text": [
      " 30%|\u001b[34m███       \u001b[0m| 3/10 [00:08<00:19,  2.74s/it]\u001b[32m [repeated 4x across cluster]\u001b[0m\n"
     ]
    },
    {
     "name": "stdout",
     "output_type": "stream",
     "text": [
      "\u001b[36m(launch_and_fit pid=9430)\u001b[0m \tTrain Epoch: 5 \tTrain_loss: 1.7275 | Train_acc: 34.6591 % | Validation_loss: 1.9163 | Validation_acc: 18.7500 %\u001b[32m [repeated 5x across cluster]\u001b[0m\n"
     ]
    },
    {
     "name": "stderr",
     "output_type": "stream",
     "text": [
      " 50%|\u001b[34m█████     \u001b[0m| 5/10 [00:13<00:12,  2.60s/it]\u001b[32m [repeated 5x across cluster]\u001b[0m\n"
     ]
    },
    {
     "name": "stdout",
     "output_type": "stream",
     "text": [
      "\u001b[36m(launch_and_fit pid=9430)\u001b[0m \tTrain Epoch: 7 \tTrain_loss: 1.7064 | Train_acc: 35.5682 % | Validation_loss: 1.8825 | Validation_acc: 34.0278 %\u001b[32m [repeated 4x across cluster]\u001b[0m\n"
     ]
    },
    {
     "name": "stderr",
     "output_type": "stream",
     "text": [
      " 70%|\u001b[34m███████   \u001b[0m| 7/10 [00:18<00:07,  2.55s/it]\u001b[32m [repeated 4x across cluster]\u001b[0m\n"
     ]
    },
    {
     "name": "stdout",
     "output_type": "stream",
     "text": [
      "\u001b[36m(launch_and_fit pid=9430)\u001b[0m \tTrain Epoch: 9 \tTrain_loss: 1.6882 | Train_acc: 40.7102 % | Validation_loss: 1.9204 | Validation_acc: 20.8333 %\u001b[32m [repeated 4x across cluster]\u001b[0m\n"
     ]
    },
    {
     "name": "stderr",
     "output_type": "stream",
     "text": [
      " 90%|\u001b[34m█████████ \u001b[0m| 9/10 [00:23<00:02,  2.54s/it]\u001b[32m [repeated 4x across cluster]\u001b[0m\n"
     ]
    },
    {
     "name": "stdout",
     "output_type": "stream",
     "text": [
      "\u001b[36m(launch_and_fit pid=9431)\u001b[0m save graph in  results/FL/\n",
      "\u001b[36m(launch_and_fit pid=9431)\u001b[0m fc1.weight 5.4836273193359375e-06\n",
      "\u001b[36m(launch_and_fit pid=9431)\u001b[0m fc1.bias 1.1920928955078125e-06\n",
      "\u001b[36m(launch_and_fit pid=9431)\u001b[0m fc2.weight 1.1920928955078125e-06\n",
      "\u001b[36m(launch_and_fit pid=9431)\u001b[0m fc2.bias 9.5367431640625e-07\n",
      "\u001b[36m(launch_and_fit pid=9431)\u001b[0m qnn.weights 1.430511474609375e-06\n",
      "\u001b[36m(launch_and_fit pid=9430)\u001b[0m \tTrain Epoch: 10 \tTrain_loss: 1.6818 | Train_acc: 39.8011 % | Validation_loss: 1.9404 | Validation_acc: 18.7500 %\u001b[32m [repeated 2x across cluster]\u001b[0m\n",
      "\u001b[36m(launch_and_fit pid=9513)\u001b[0m Run with homomorphic encryption\n",
      "\u001b[36m(launch_and_fit pid=9430)\u001b[0m save graph in  results/FL/\n",
      "\u001b[36m(launch_and_fit pid=9430)\u001b[0m fc3.bias 3.814697265625e-06\u001b[32m [repeated 8x across cluster]\u001b[0m\n",
      "\u001b[36m(launch_and_fit pid=9430)\u001b[0m qnn.weights 9.5367431640625e-07\n",
      "\u001b[36m(launch_and_fit pid=9513)\u001b[0m [Client 3, round 12] fit, config: {'learning_rate': 0.003, 'batch_size': '16', 'server_round': 12, 'local_epochs': 10}\n",
      "\u001b[36m(launch_and_fit pid=9513)\u001b[0m Updated model\n"
     ]
    },
    {
     "name": "stderr",
     "output_type": "stream",
     "text": [
      "  0%|\u001b[34m          \u001b[0m| 0/10 [00:00<?, ?it/s]\n",
      "100%|\u001b[34m██████████\u001b[0m| 10/10 [00:26<00:00,  2.61s/it]\u001b[32m [repeated 2x across cluster]\u001b[0m\n"
     ]
    },
    {
     "name": "stdout",
     "output_type": "stream",
     "text": [
      "\u001b[36m(launch_and_fit pid=9513)\u001b[0m \tTrain Epoch: 1 \tTrain_loss: 1.7487 | Train_acc: 37.4148 % | Validation_loss: 1.8335 | Validation_acc: 36.1111 %\n",
      "\u001b[36m(launch_and_fit pid=9538)\u001b[0m Run with homomorphic encryption\n",
      "\u001b[36m(launch_and_fit pid=9538)\u001b[0m [Client 6, round 12] fit, config: {'learning_rate': 0.003, 'batch_size': '16', 'server_round': 12, 'local_epochs': 10}\n",
      "\u001b[36m(launch_and_fit pid=9538)\u001b[0m Updated model\n"
     ]
    },
    {
     "name": "stderr",
     "output_type": "stream",
     "text": [
      "  0%|\u001b[34m          \u001b[0m| 0/10 [00:00<?, ?it/s]\n",
      " 20%|\u001b[34m██        \u001b[0m| 2/10 [00:05<00:21,  2.66s/it]\u001b[32m [repeated 3x across cluster]\u001b[0m\n"
     ]
    },
    {
     "name": "stdout",
     "output_type": "stream",
     "text": [
      "\u001b[36m(launch_and_fit pid=9513)\u001b[0m \tTrain Epoch: 3 \tTrain_loss: 1.7266 | Train_acc: 38.5227 % | Validation_loss: 1.7960 | Validation_acc: 36.1111 %\u001b[32m [repeated 4x across cluster]\u001b[0m\n"
     ]
    },
    {
     "name": "stderr",
     "output_type": "stream",
     "text": [
      " 40%|\u001b[34m████      \u001b[0m| 4/10 [00:11<00:16,  2.79s/it]\u001b[32m [repeated 4x across cluster]\u001b[0m\n"
     ]
    },
    {
     "name": "stdout",
     "output_type": "stream",
     "text": [
      "\u001b[36m(launch_and_fit pid=9513)\u001b[0m \tTrain Epoch: 5 \tTrain_loss: 1.7068 | Train_acc: 40.0852 % | Validation_loss: 1.8190 | Validation_acc: 38.1944 %\u001b[32m [repeated 4x across cluster]\u001b[0m\n"
     ]
    },
    {
     "name": "stderr",
     "output_type": "stream",
     "text": [
      " 60%|\u001b[34m██████    \u001b[0m| 6/10 [00:16<00:10,  2.69s/it]\u001b[32m [repeated 4x across cluster]\u001b[0m\n"
     ]
    },
    {
     "name": "stdout",
     "output_type": "stream",
     "text": [
      "\u001b[36m(launch_and_fit pid=9513)\u001b[0m \tTrain Epoch: 7 \tTrain_loss: 1.6913 | Train_acc: 39.9148 % | Validation_loss: 1.8867 | Validation_acc: 36.1111 %\u001b[32m [repeated 4x across cluster]\u001b[0m\n"
     ]
    },
    {
     "name": "stderr",
     "output_type": "stream",
     "text": [
      " 80%|\u001b[34m████████  \u001b[0m| 8/10 [00:22<00:05,  2.79s/it]\u001b[32m [repeated 4x across cluster]\u001b[0m\n"
     ]
    },
    {
     "name": "stdout",
     "output_type": "stream",
     "text": [
      "\u001b[36m(launch_and_fit pid=9513)\u001b[0m \tTrain Epoch: 9 \tTrain_loss: 1.7091 | Train_acc: 38.6932 % | Validation_loss: 1.8514 | Validation_acc: 31.9444 %\u001b[32m [repeated 4x across cluster]\u001b[0m\n",
      "\u001b[36m(launch_and_fit pid=9538)\u001b[0m save graph in  results/FL/\n"
     ]
    },
    {
     "name": "stderr",
     "output_type": "stream",
     "text": [
      "100%|\u001b[34m██████████\u001b[0m| 10/10 [00:26<00:00,  2.63s/it]\u001b[32m [repeated 4x across cluster]\u001b[0m\n"
     ]
    },
    {
     "name": "stdout",
     "output_type": "stream",
     "text": [
      "\u001b[36m(launch_and_fit pid=9538)\u001b[0m fc1.weight 5.245208740234375e-06\n",
      "\u001b[36m(launch_and_fit pid=9538)\u001b[0m fc1.bias 1.6689300537109375e-06\n",
      "\u001b[36m(launch_and_fit pid=9538)\u001b[0m fc2.weight 1.1920928955078125e-06\n",
      "\u001b[36m(launch_and_fit pid=9538)\u001b[0m fc2.bias 9.5367431640625e-07\n",
      "\u001b[36m(launch_and_fit pid=9538)\u001b[0m qnn.weights 9.5367431640625e-07\n",
      "\u001b[36m(launch_and_fit pid=9513)\u001b[0m \tTrain Epoch: 10 \tTrain_loss: 1.6877 | Train_acc: 39.8011 % | Validation_loss: 1.8279 | Validation_acc: 36.1111 %\u001b[32m [repeated 3x across cluster]\u001b[0m\n",
      "\u001b[36m(launch_and_fit pid=9598)\u001b[0m Run with homomorphic encryption\n",
      "\u001b[36m(launch_and_fit pid=9513)\u001b[0m save graph in  results/FL/\n",
      "\u001b[36m(launch_and_fit pid=9513)\u001b[0m fc3.bias 3.337860107421875e-06\u001b[32m [repeated 8x across cluster]\u001b[0m\n",
      "\u001b[36m(launch_and_fit pid=9513)\u001b[0m qnn.weights 1.1920928955078125e-06\n",
      "\u001b[36m(launch_and_fit pid=9598)\u001b[0m [Client 4, round 12] fit, config: {'learning_rate': 0.003, 'batch_size': '16', 'server_round': 12, 'local_epochs': 10}\n",
      "\u001b[36m(launch_and_fit pid=9598)\u001b[0m Updated model\n"
     ]
    },
    {
     "name": "stderr",
     "output_type": "stream",
     "text": [
      "  0%|\u001b[34m          \u001b[0m| 0/10 [00:00<?, ?it/s]\n",
      "100%|\u001b[34m██████████\u001b[0m| 10/10 [00:27<00:00,  2.71s/it]\n"
     ]
    },
    {
     "name": "stdout",
     "output_type": "stream",
     "text": [
      "\u001b[36m(launch_and_fit pid=9598)\u001b[0m \tTrain Epoch: 1 \tTrain_loss: 1.7768 | Train_acc: 34.3466 % | Validation_loss: 1.7336 | Validation_acc: 40.2778 %\n"
     ]
    },
    {
     "name": "stderr",
     "output_type": "stream",
     "text": [
      " 10%|\u001b[34m█         \u001b[0m| 1/10 [00:02<00:24,  2.73s/it]\n"
     ]
    },
    {
     "name": "stdout",
     "output_type": "stream",
     "text": [
      "\u001b[36m(launch_and_fit pid=9597)\u001b[0m Run with homomorphic encryption\n",
      "\u001b[36m(launch_and_fit pid=9597)\u001b[0m [Client 7, round 12] fit, config: {'learning_rate': 0.003, 'batch_size': '16', 'server_round': 12, 'local_epochs': 10}\n",
      "\u001b[36m(launch_and_fit pid=9597)\u001b[0m Updated model\n"
     ]
    },
    {
     "name": "stderr",
     "output_type": "stream",
     "text": [
      "  0%|\u001b[34m          \u001b[0m| 0/10 [00:00<?, ?it/s]\n"
     ]
    },
    {
     "name": "stdout",
     "output_type": "stream",
     "text": [
      "\u001b[36m(launch_and_fit pid=9597)\u001b[0m \tTrain Epoch: 3 \tTrain_loss: 1.7092 | Train_acc: 39.9148 % | Validation_loss: 1.6079 | Validation_acc: 53.4722 %\u001b[32m [repeated 4x across cluster]\u001b[0m\n"
     ]
    },
    {
     "name": "stderr",
     "output_type": "stream",
     "text": [
      " 30%|\u001b[34m███       \u001b[0m| 3/10 [00:07<00:18,  2.66s/it]\u001b[32m [repeated 4x across cluster]\u001b[0m\n"
     ]
    },
    {
     "name": "stdout",
     "output_type": "stream",
     "text": [
      "\u001b[36m(launch_and_fit pid=9597)\u001b[0m \tTrain Epoch: 5 \tTrain_loss: 1.6931 | Train_acc: 39.6023 % | Validation_loss: 1.5949 | Validation_acc: 47.2222 %\u001b[32m [repeated 4x across cluster]\u001b[0m\n"
     ]
    },
    {
     "name": "stderr",
     "output_type": "stream",
     "text": [
      " 50%|\u001b[34m█████     \u001b[0m| 5/10 [00:13<00:12,  2.59s/it]\u001b[32m [repeated 4x across cluster]\u001b[0m\n"
     ]
    },
    {
     "name": "stdout",
     "output_type": "stream",
     "text": [
      "\u001b[36m(launch_and_fit pid=9597)\u001b[0m \tTrain Epoch: 7 \tTrain_loss: 1.6764 | Train_acc: 42.7557 % | Validation_loss: 1.5903 | Validation_acc: 55.5556 %\u001b[32m [repeated 4x across cluster]\u001b[0m\n"
     ]
    },
    {
     "name": "stderr",
     "output_type": "stream",
     "text": [
      " 70%|\u001b[34m███████   \u001b[0m| 7/10 [00:18<00:07,  2.56s/it]\u001b[32m [repeated 4x across cluster]\u001b[0m\n"
     ]
    },
    {
     "name": "stdout",
     "output_type": "stream",
     "text": [
      "\u001b[36m(launch_and_fit pid=9598)\u001b[0m \tTrain Epoch: 9 \tTrain_loss: 1.6721 | Train_acc: 42.8693 % | Validation_loss: 1.6806 | Validation_acc: 44.4444 %\u001b[32m [repeated 5x across cluster]\u001b[0m\n"
     ]
    },
    {
     "name": "stderr",
     "output_type": "stream",
     "text": [
      " 90%|\u001b[34m█████████ \u001b[0m| 9/10 [00:23<00:02,  2.56s/it]\u001b[32m [repeated 5x across cluster]\u001b[0m\n"
     ]
    },
    {
     "name": "stdout",
     "output_type": "stream",
     "text": [
      "\u001b[36m(launch_and_fit pid=9597)\u001b[0m save graph in  results/FL/\n",
      "\u001b[36m(launch_and_fit pid=9597)\u001b[0m fc1.weight 6.9141387939453125e-06\n",
      "\u001b[36m(launch_and_fit pid=9597)\u001b[0m fc1.bias 1.9073486328125e-06\n",
      "\u001b[36m(launch_and_fit pid=9597)\u001b[0m fc2.weight 1.6689300537109375e-06\n",
      "\u001b[36m(launch_and_fit pid=9597)\u001b[0m fc2.bias 1.6689300537109375e-06\n",
      "\u001b[36m(launch_and_fit pid=9597)\u001b[0m qnn.weights 1.1920928955078125e-06\n",
      "\u001b[36m(launch_and_fit pid=9598)\u001b[0m \tTrain Epoch: 10 \tTrain_loss: 1.6805 | Train_acc: 40.0852 % | Validation_loss: 1.6642 | Validation_acc: 40.2778 %\u001b[32m [repeated 2x across cluster]\u001b[0m\n",
      "\u001b[36m(launch_and_fit pid=9678)\u001b[0m Run with homomorphic encryption\n",
      "\u001b[36m(launch_and_fit pid=9598)\u001b[0m save graph in  results/FL/\n",
      "\u001b[36m(launch_and_fit pid=9598)\u001b[0m fc3.bias 3.814697265625e-06\u001b[32m [repeated 8x across cluster]\u001b[0m\n",
      "\u001b[36m(launch_and_fit pid=9598)\u001b[0m qnn.weights 1.1920928955078125e-06\n",
      "\u001b[36m(launch_and_fit pid=9678)\u001b[0m [Client 0, round 12] fit, config: {'learning_rate': 0.003, 'batch_size': '16', 'server_round': 12, 'local_epochs': 10}\n"
     ]
    },
    {
     "name": "stderr",
     "output_type": "stream",
     "text": [
      "  0%|\u001b[34m          \u001b[0m| 0/10 [00:00<?, ?it/s]\n",
      "100%|\u001b[34m██████████\u001b[0m| 10/10 [00:26<00:00,  2.64s/it]\u001b[32m [repeated 2x across cluster]\u001b[0m\n"
     ]
    },
    {
     "name": "stdout",
     "output_type": "stream",
     "text": [
      "\u001b[36m(launch_and_fit pid=9678)\u001b[0m Updated model\n",
      "\u001b[36m(launch_and_fit pid=9678)\u001b[0m \tTrain Epoch: 1 \tTrain_loss: 1.7106 | Train_acc: 39.0057 % | Validation_loss: 1.8766 | Validation_acc: 27.0833 %\n",
      "\u001b[36m(launch_and_fit pid=9703)\u001b[0m Run with homomorphic encryption\n"
     ]
    },
    {
     "name": "stderr",
     "output_type": "stream",
     "text": [
      "  0%|\u001b[34m          \u001b[0m| 0/10 [00:00<?, ?it/s]\n",
      " 20%|\u001b[34m██        \u001b[0m| 2/10 [00:05<00:22,  2.81s/it]\u001b[32m [repeated 3x across cluster]\u001b[0m\n"
     ]
    },
    {
     "name": "stdout",
     "output_type": "stream",
     "text": [
      "\u001b[36m(launch_and_fit pid=9703)\u001b[0m [Client 5, round 12] fit, config: {'learning_rate': 0.003, 'batch_size': '16', 'server_round': 12, 'local_epochs': 10}\n",
      "\u001b[36m(launch_and_fit pid=9703)\u001b[0m Updated model\n",
      "\u001b[36m(launch_and_fit pid=9678)\u001b[0m \tTrain Epoch: 3 \tTrain_loss: 1.6685 | Train_acc: 40.7102 % | Validation_loss: 1.8644 | Validation_acc: 27.0833 %\u001b[32m [repeated 4x across cluster]\u001b[0m\n"
     ]
    },
    {
     "name": "stderr",
     "output_type": "stream",
     "text": [
      " 40%|\u001b[34m████      \u001b[0m| 4/10 [00:10<00:15,  2.64s/it]\u001b[32m [repeated 4x across cluster]\u001b[0m\n"
     ]
    },
    {
     "name": "stdout",
     "output_type": "stream",
     "text": [
      "\u001b[36m(launch_and_fit pid=9678)\u001b[0m \tTrain Epoch: 5 \tTrain_loss: 1.6662 | Train_acc: 42.5852 % | Validation_loss: 1.9231 | Validation_acc: 20.8333 %\u001b[32m [repeated 4x across cluster]\u001b[0m\n"
     ]
    },
    {
     "name": "stderr",
     "output_type": "stream",
     "text": [
      " 60%|\u001b[34m██████    \u001b[0m| 6/10 [00:15<00:10,  2.57s/it]\u001b[32m [repeated 4x across cluster]\u001b[0m\n"
     ]
    },
    {
     "name": "stdout",
     "output_type": "stream",
     "text": [
      "\u001b[36m(launch_and_fit pid=9678)\u001b[0m \tTrain Epoch: 7 \tTrain_loss: 1.6427 | Train_acc: 43.5227 % | Validation_loss: 1.8829 | Validation_acc: 29.1667 %\u001b[32m [repeated 4x across cluster]\u001b[0m\n"
     ]
    },
    {
     "name": "stderr",
     "output_type": "stream",
     "text": [
      " 80%|\u001b[34m████████  \u001b[0m| 8/10 [00:20<00:05,  2.58s/it]\u001b[32m [repeated 4x across cluster]\u001b[0m\n"
     ]
    },
    {
     "name": "stdout",
     "output_type": "stream",
     "text": [
      "\u001b[36m(launch_and_fit pid=9678)\u001b[0m \tTrain Epoch: 9 \tTrain_loss: 1.6418 | Train_acc: 44.7727 % | Validation_loss: 1.8444 | Validation_acc: 29.1667 %\u001b[32m [repeated 4x across cluster]\u001b[0m\n"
     ]
    },
    {
     "name": "stderr",
     "output_type": "stream",
     "text": [
      "100%|\u001b[34m██████████\u001b[0m| 10/10 [00:26<00:00,  2.67s/it]\u001b[32m [repeated 4x across cluster]\u001b[0m\n"
     ]
    },
    {
     "name": "stdout",
     "output_type": "stream",
     "text": [
      "\u001b[36m(launch_and_fit pid=9678)\u001b[0m save graph in  results/FL/\n",
      "\u001b[36m(launch_and_fit pid=9678)\u001b[0m fc1.weight 5.7220458984375e-06\n",
      "\u001b[36m(launch_and_fit pid=9678)\u001b[0m fc1.bias 1.430511474609375e-06\n",
      "\u001b[36m(launch_and_fit pid=9678)\u001b[0m fc2.weight 1.430511474609375e-06\n",
      "\u001b[36m(launch_and_fit pid=9678)\u001b[0m fc2.bias 9.5367431640625e-07\n",
      "\u001b[36m(launch_and_fit pid=9678)\u001b[0m qnn.weights 1.1920928955078125e-06\n",
      "\u001b[36m(launch_and_fit pid=9703)\u001b[0m \tTrain Epoch: 10 \tTrain_loss: 1.7080 | Train_acc: 38.8636 % | Validation_loss: 1.7146 | Validation_acc: 49.3056 %\u001b[32m [repeated 3x across cluster]\u001b[0m\n",
      "\u001b[36m(launch_and_fit pid=9703)\u001b[0m save graph in  results/FL/\n",
      "\u001b[36m(launch_and_fit pid=9760)\u001b[0m Run with homomorphic encryption\n",
      "\u001b[36m(launch_and_fit pid=9703)\u001b[0m fc3.bias 4.291534423828125e-06\u001b[32m [repeated 8x across cluster]\u001b[0m\n",
      "\u001b[36m(launch_and_fit pid=9703)\u001b[0m qnn.weights 9.5367431640625e-07\n",
      "\u001b[36m(launch_and_fit pid=9760)\u001b[0m [Client 2, round 12] fit, config: {'learning_rate': 0.003, 'batch_size': '16', 'server_round': 12, 'local_epochs': 10}\n"
     ]
    },
    {
     "name": "stderr",
     "output_type": "stream",
     "text": [
      "  0%|\u001b[34m          \u001b[0m| 0/10 [00:00<?, ?it/s]\n",
      "100%|\u001b[34m██████████\u001b[0m| 10/10 [00:27<00:00,  2.71s/it]\n"
     ]
    },
    {
     "name": "stdout",
     "output_type": "stream",
     "text": [
      "\u001b[36m(launch_and_fit pid=9760)\u001b[0m Updated model\n"
     ]
    },
    {
     "name": "stderr",
     "output_type": "stream",
     "text": [
      " 10%|\u001b[34m█         \u001b[0m| 1/10 [00:02<00:24,  2.72s/it]\n"
     ]
    },
    {
     "name": "stdout",
     "output_type": "stream",
     "text": [
      "\u001b[36m(launch_and_fit pid=9760)\u001b[0m \tTrain Epoch: 1 \tTrain_loss: 1.7128 | Train_acc: 34.8011 % | Validation_loss: 1.7142 | Validation_acc: 36.1111 %\n",
      "\u001b[36m(launch_and_fit pid=9785)\u001b[0m Run with homomorphic encryption\n"
     ]
    },
    {
     "name": "stderr",
     "output_type": "stream",
     "text": [
      "  0%|\u001b[34m          \u001b[0m| 0/10 [00:00<?, ?it/s]\n"
     ]
    },
    {
     "name": "stdout",
     "output_type": "stream",
     "text": [
      "\u001b[36m(launch_and_fit pid=9785)\u001b[0m [Client 8, round 12] fit, config: {'learning_rate': 0.003, 'batch_size': '16', 'server_round': 12, 'local_epochs': 10}\n",
      "\u001b[36m(launch_and_fit pid=9785)\u001b[0m Updated model\n"
     ]
    },
    {
     "name": "stderr",
     "output_type": "stream",
     "text": [
      " 30%|\u001b[34m███       \u001b[0m| 3/10 [00:07<00:18,  2.62s/it]\u001b[32m [repeated 4x across cluster]\u001b[0m\n"
     ]
    },
    {
     "name": "stdout",
     "output_type": "stream",
     "text": [
      "\u001b[36m(launch_and_fit pid=9760)\u001b[0m \tTrain Epoch: 3 \tTrain_loss: 1.6804 | Train_acc: 39.7727 % | Validation_loss: 1.7451 | Validation_acc: 31.9444 %\u001b[32m [repeated 4x across cluster]\u001b[0m\n",
      "\u001b[36m(launch_and_fit pid=9785)\u001b[0m \tTrain Epoch: 5 \tTrain_loss: 1.6961 | Train_acc: 38.6932 % | Validation_loss: 1.8285 | Validation_acc: 31.9444 %\u001b[32m [repeated 5x across cluster]\u001b[0m\n"
     ]
    },
    {
     "name": "stderr",
     "output_type": "stream",
     "text": [
      " 50%|\u001b[34m█████     \u001b[0m| 5/10 [00:13<00:12,  2.56s/it]\u001b[32m [repeated 5x across cluster]\u001b[0m\n"
     ]
    },
    {
     "name": "stdout",
     "output_type": "stream",
     "text": [
      "\u001b[36m(launch_and_fit pid=9785)\u001b[0m \tTrain Epoch: 7 \tTrain_loss: 1.6886 | Train_acc: 39.3466 % | Validation_loss: 1.8057 | Validation_acc: 34.0278 %\u001b[32m [repeated 4x across cluster]\u001b[0m\n"
     ]
    },
    {
     "name": "stderr",
     "output_type": "stream",
     "text": [
      " 70%|\u001b[34m███████   \u001b[0m| 7/10 [00:18<00:07,  2.59s/it]\u001b[32m [repeated 4x across cluster]\u001b[0m\n",
      "100%|\u001b[34m██████████\u001b[0m| 10/10 [00:25<00:00,  2.54s/it]\u001b[32m [repeated 5x across cluster]\u001b[0m\n"
     ]
    },
    {
     "name": "stdout",
     "output_type": "stream",
     "text": [
      "\u001b[36m(launch_and_fit pid=9760)\u001b[0m save graph in  results/FL/\n",
      "\u001b[36m(launch_and_fit pid=9760)\u001b[0m \tTrain Epoch: 10 \tTrain_loss: 1.6496 | Train_acc: 43.6648 % | Validation_loss: 1.7316 | Validation_acc: 34.0278 %\u001b[32m [repeated 5x across cluster]\u001b[0m\n",
      "\u001b[36m(launch_and_fit pid=9760)\u001b[0m fc1.weight 5.0067901611328125e-06\n",
      "\u001b[36m(launch_and_fit pid=9760)\u001b[0m fc1.bias 1.1920928955078125e-06\n",
      "\u001b[36m(launch_and_fit pid=9760)\u001b[0m fc2.weight 9.5367431640625e-07\n",
      "\u001b[36m(launch_and_fit pid=9760)\u001b[0m fc2.bias 1.1920928955078125e-06\n",
      "\u001b[36m(launch_and_fit pid=9760)\u001b[0m qnn.weights 1.6689300537109375e-06\n",
      "\u001b[36m(launch_and_fit pid=9785)\u001b[0m save graph in  results/FL/\n",
      "\u001b[36m(launch_and_fit pid=9785)\u001b[0m \tTrain Epoch: 10 \tTrain_loss: 1.6729 | Train_acc: 39.6307 % | Validation_loss: 1.8024 | Validation_acc: 34.0278 %\n",
      "\u001b[36m(launch_and_fit pid=9785)\u001b[0m fc3.bias 4.0531158447265625e-06\u001b[32m [repeated 8x across cluster]\u001b[0m\n"
     ]
    },
    {
     "name": "stderr",
     "output_type": "stream",
     "text": [
      "DEBUG flwr 2024-07-22 10:19:00,807 | server.py:236 | fit_round 12 received 10 results and 0 failures\n"
     ]
    },
    {
     "name": "stdout",
     "output_type": "stream",
     "text": [
      "Saving round 12 aggregated_parameters...\n"
     ]
    },
    {
     "name": "stderr",
     "output_type": "stream",
     "text": [
      "DEBUG flwr 2024-07-22 10:19:20,738 | server.py:173 | evaluate_round 12: strategy sampled 10 clients (out of 10)\n"
     ]
    },
    {
     "name": "stdout",
     "output_type": "stream",
     "text": [
      "\u001b[36m(launch_and_evaluate pid=9851)\u001b[0m Run with homomorphic encryption\n",
      "\u001b[36m(launch_and_fit pid=9785)\u001b[0m qnn.weights 1.1920928955078125e-06\n",
      "\u001b[36m(launch_and_evaluate pid=9851)\u001b[0m [Client 8] evaluate, config: {}\n",
      "\u001b[36m(launch_and_evaluate pid=9851)\u001b[0m Updated model\n"
     ]
    },
    {
     "name": "stderr",
     "output_type": "stream",
     "text": [
      "\u001b[36m(launch_and_evaluate pid=9851)\u001b[0m /opt/conda/lib/python3.10/site-packages/sklearn/metrics/_ranking.py:1029: UndefinedMetricWarning: No positive samples in y_true, true positive value should be meaningless\n",
      "\u001b[36m(launch_and_evaluate pid=9851)\u001b[0m   warnings.warn(\n",
      "100%|\u001b[34m██████████\u001b[0m| 10/10 [00:26<00:00,  2.66s/it]\n"
     ]
    },
    {
     "name": "stdout",
     "output_type": "stream",
     "text": [
      "\u001b[36m(launch_and_evaluate pid=9930)\u001b[0m Run with homomorphic encryption\u001b[32m [repeated 2x across cluster]\u001b[0m\n",
      "\u001b[36m(launch_and_evaluate pid=9852)\u001b[0m [Client 5] evaluate, config: {}\n",
      "\u001b[36m(launch_and_evaluate pid=9852)\u001b[0m Updated model\n",
      "\u001b[36m(launch_and_evaluate pid=9930)\u001b[0m [Client 0] evaluate, config: {}\n",
      "\u001b[36m(launch_and_evaluate pid=9930)\u001b[0m Updated model\n",
      "\u001b[36m(launch_and_evaluate pid=10009)\u001b[0m Run with homomorphic encryption\u001b[32m [repeated 2x across cluster]\u001b[0m\n",
      "\u001b[36m(launch_and_evaluate pid=9956)\u001b[0m [Client 1] evaluate, config: {}\n",
      "\u001b[36m(launch_and_evaluate pid=9956)\u001b[0m Updated model\n",
      "\u001b[36m(launch_and_evaluate pid=10009)\u001b[0m [Client 6] evaluate, config: {}\n",
      "\u001b[36m(launch_and_evaluate pid=10009)\u001b[0m Updated model\n",
      "\u001b[36m(launch_and_evaluate pid=10087)\u001b[0m Run with homomorphic encryption\u001b[32m [repeated 2x across cluster]\u001b[0m\n",
      "\u001b[36m(launch_and_evaluate pid=10011)\u001b[0m [Client 3] evaluate, config: {}\n",
      "\u001b[36m(launch_and_evaluate pid=10011)\u001b[0m Updated model\n",
      "\u001b[36m(launch_and_evaluate pid=10087)\u001b[0m [Client 2] evaluate, config: {}\n",
      "\u001b[36m(launch_and_evaluate pid=10087)\u001b[0m Updated model\n",
      "\u001b[36m(launch_and_evaluate pid=10165)\u001b[0m Run with homomorphic encryption\u001b[32m [repeated 2x across cluster]\u001b[0m\n",
      "\u001b[36m(launch_and_evaluate pid=10089)\u001b[0m [Client 7] evaluate, config: {}\n",
      "\u001b[36m(launch_and_evaluate pid=10089)\u001b[0m Updated model\n",
      "\u001b[36m(launch_and_evaluate pid=10165)\u001b[0m [Client 9] evaluate, config: {}\n",
      "\u001b[36m(launch_and_evaluate pid=10165)\u001b[0m Updated model\n"
     ]
    },
    {
     "name": "stderr",
     "output_type": "stream",
     "text": [
      "\u001b[36m(launch_and_evaluate pid=10165)\u001b[0m /opt/conda/lib/python3.10/site-packages/sklearn/metrics/_ranking.py:1029: UndefinedMetricWarning: No positive samples in y_true, true positive value should be meaningless\n",
      "\u001b[36m(launch_and_evaluate pid=10165)\u001b[0m   warnings.warn(\n",
      "\u001b[36m(launch_and_evaluate pid=10167)\u001b[0m /opt/conda/lib/python3.10/site-packages/sklearn/metrics/_ranking.py:1029: UndefinedMetricWarning: No positive samples in y_true, true positive value should be meaningless\n",
      "\u001b[36m(launch_and_evaluate pid=10167)\u001b[0m   warnings.warn(\n",
      "DEBUG flwr 2024-07-22 10:20:27,865 | server.py:187 | evaluate_round 12 received 10 results and 0 failures\n",
      "DEBUG flwr 2024-07-22 10:20:27,866 | server.py:222 | fit_round 13: strategy sampled 10 clients (out of 10)\n"
     ]
    },
    {
     "name": "stdout",
     "output_type": "stream",
     "text": [
      "\u001b[36m(launch_and_fit pid=10252)\u001b[0m Run with homomorphic encryption\u001b[32m [repeated 2x across cluster]\u001b[0m\n",
      "\u001b[36m(launch_and_evaluate pid=10167)\u001b[0m [Client 4] evaluate, config: {}\n",
      "\u001b[36m(launch_and_evaluate pid=10167)\u001b[0m Updated model\n",
      "\u001b[36m(launch_and_fit pid=10252)\u001b[0m [Client 7, round 13] fit, config: {'learning_rate': 0.003, 'batch_size': '16', 'server_round': 13, 'local_epochs': 10}\n"
     ]
    },
    {
     "name": "stderr",
     "output_type": "stream",
     "text": [
      "  0%|\u001b[34m          \u001b[0m| 0/10 [00:00<?, ?it/s]\n"
     ]
    },
    {
     "name": "stdout",
     "output_type": "stream",
     "text": [
      "\u001b[36m(launch_and_fit pid=10252)\u001b[0m Updated model\n"
     ]
    },
    {
     "name": "stderr",
     "output_type": "stream",
     "text": [
      " 10%|\u001b[34m█         \u001b[0m| 1/10 [00:02<00:24,  2.70s/it]\n"
     ]
    },
    {
     "name": "stdout",
     "output_type": "stream",
     "text": [
      "\u001b[36m(launch_and_fit pid=10252)\u001b[0m \tTrain Epoch: 1 \tTrain_loss: 1.7372 | Train_acc: 35.4261 % | Validation_loss: 1.6093 | Validation_acc: 51.3889 %\n"
     ]
    },
    {
     "name": "stderr",
     "output_type": "stream",
     "text": [
      "  0%|\u001b[34m          \u001b[0m| 0/10 [00:00<?, ?it/s]\n"
     ]
    },
    {
     "name": "stdout",
     "output_type": "stream",
     "text": [
      "\u001b[36m(launch_and_fit pid=10253)\u001b[0m Run with homomorphic encryption\n",
      "\u001b[36m(launch_and_fit pid=10253)\u001b[0m [Client 1, round 13] fit, config: {'learning_rate': 0.003, 'batch_size': '16', 'server_round': 13, 'local_epochs': 10}\n",
      "\u001b[36m(launch_and_fit pid=10253)\u001b[0m Updated model\n"
     ]
    },
    {
     "name": "stderr",
     "output_type": "stream",
     "text": [
      " 30%|\u001b[34m███       \u001b[0m| 3/10 [00:07<00:18,  2.63s/it]\u001b[32m [repeated 4x across cluster]\u001b[0m\n"
     ]
    },
    {
     "name": "stdout",
     "output_type": "stream",
     "text": [
      "\u001b[36m(launch_and_fit pid=10252)\u001b[0m \tTrain Epoch: 3 \tTrain_loss: 1.6942 | Train_acc: 40.7102 % | Validation_loss: 1.6003 | Validation_acc: 47.2222 %\u001b[32m [repeated 4x across cluster]\u001b[0m\n"
     ]
    },
    {
     "name": "stderr",
     "output_type": "stream",
     "text": [
      " 50%|\u001b[34m█████     \u001b[0m| 5/10 [00:13<00:13,  2.61s/it]\u001b[32m [repeated 4x across cluster]\u001b[0m\n"
     ]
    },
    {
     "name": "stdout",
     "output_type": "stream",
     "text": [
      "\u001b[36m(launch_and_fit pid=10252)\u001b[0m \tTrain Epoch: 5 \tTrain_loss: 1.6848 | Train_acc: 41.9602 % | Validation_loss: 1.6090 | Validation_acc: 47.2222 %\u001b[32m [repeated 4x across cluster]\u001b[0m\n"
     ]
    },
    {
     "name": "stderr",
     "output_type": "stream",
     "text": [
      " 70%|\u001b[34m███████   \u001b[0m| 7/10 [00:18<00:07,  2.56s/it]\u001b[32m [repeated 4x across cluster]\u001b[0m\n"
     ]
    },
    {
     "name": "stdout",
     "output_type": "stream",
     "text": [
      "\u001b[36m(launch_and_fit pid=10252)\u001b[0m \tTrain Epoch: 7 \tTrain_loss: 1.6765 | Train_acc: 43.6932 % | Validation_loss: 1.5787 | Validation_acc: 55.5556 %\u001b[32m [repeated 4x across cluster]\u001b[0m\n"
     ]
    },
    {
     "name": "stderr",
     "output_type": "stream",
     "text": [
      " 90%|\u001b[34m█████████ \u001b[0m| 9/10 [00:23<00:02,  2.58s/it]\u001b[32m [repeated 4x across cluster]\u001b[0m\n"
     ]
    },
    {
     "name": "stdout",
     "output_type": "stream",
     "text": [
      "\u001b[36m(launch_and_fit pid=10252)\u001b[0m \tTrain Epoch: 9 \tTrain_loss: 1.6560 | Train_acc: 47.8693 % | Validation_loss: 1.5862 | Validation_acc: 51.3889 %\u001b[32m [repeated 4x across cluster]\u001b[0m\n",
      "\u001b[36m(launch_and_fit pid=10252)\u001b[0m save graph in  results/FL/\n",
      "\u001b[36m(launch_and_fit pid=10253)\u001b[0m fc1.weight 4.5299530029296875e-06\n",
      "\u001b[36m(launch_and_fit pid=10253)\u001b[0m fc1.bias 1.1920928955078125e-06\n",
      "\u001b[36m(launch_and_fit pid=10253)\u001b[0m fc2.weight 1.1920928955078125e-06\n",
      "\u001b[36m(launch_and_fit pid=10253)\u001b[0m fc2.bias 9.5367431640625e-07\n",
      "\u001b[36m(launch_and_fit pid=10252)\u001b[0m qnn.weights 9.5367431640625e-07\n",
      "\u001b[36m(launch_and_fit pid=10253)\u001b[0m \tTrain Epoch: 10 \tTrain_loss: 1.7499 | Train_acc: 33.8920 % | Validation_loss: 1.8342 | Validation_acc: 29.8611 %\u001b[32m [repeated 3x across cluster]\u001b[0m\n",
      "\u001b[36m(launch_and_fit pid=10334)\u001b[0m Run with homomorphic encryption\n",
      "\u001b[36m(launch_and_fit pid=10253)\u001b[0m save graph in  results/FL/\n",
      "\u001b[36m(launch_and_fit pid=10253)\u001b[0m fc3.bias 4.76837158203125e-06\u001b[32m [repeated 8x across cluster]\u001b[0m\n",
      "\u001b[36m(launch_and_fit pid=10253)\u001b[0m qnn.weights 1.9073486328125e-06\n",
      "\u001b[36m(launch_and_fit pid=10334)\u001b[0m [Client 9, round 13] fit, config: {'learning_rate': 0.003, 'batch_size': '16', 'server_round': 13, 'local_epochs': 10}\n"
     ]
    },
    {
     "name": "stderr",
     "output_type": "stream",
     "text": [
      "  0%|\u001b[34m          \u001b[0m| 0/10 [00:00<?, ?it/s]\n",
      "100%|\u001b[34m██████████\u001b[0m| 10/10 [00:25<00:00,  2.57s/it]\u001b[32m [repeated 3x across cluster]\u001b[0m\n"
     ]
    },
    {
     "name": "stdout",
     "output_type": "stream",
     "text": [
      "\u001b[36m(launch_and_fit pid=10334)\u001b[0m Updated model\n",
      "\u001b[36m(launch_and_fit pid=10334)\u001b[0m \tTrain Epoch: 1 \tTrain_loss: 1.7088 | Train_acc: 41.0417 % | Validation_loss: 1.6742 | Validation_acc: 40.2778 %\n"
     ]
    },
    {
     "name": "stderr",
     "output_type": "stream",
     "text": [
      "  0%|\u001b[34m          \u001b[0m| 0/10 [00:00<?, ?it/s]\n",
      " 20%|\u001b[34m██        \u001b[0m| 2/10 [00:05<00:21,  2.71s/it]\u001b[32m [repeated 3x across cluster]\u001b[0m\n"
     ]
    },
    {
     "name": "stdout",
     "output_type": "stream",
     "text": [
      "\u001b[36m(launch_and_fit pid=10336)\u001b[0m Run with homomorphic encryption\n",
      "\u001b[36m(launch_and_fit pid=10336)\u001b[0m [Client 0, round 13] fit, config: {'learning_rate': 0.003, 'batch_size': '16', 'server_round': 13, 'local_epochs': 10}\n",
      "\u001b[36m(launch_and_fit pid=10336)\u001b[0m Updated model\n",
      "\u001b[36m(launch_and_fit pid=10334)\u001b[0m \tTrain Epoch: 3 \tTrain_loss: 1.6640 | Train_acc: 44.2292 % | Validation_loss: 1.6825 | Validation_acc: 38.1944 %\u001b[32m [repeated 4x across cluster]\u001b[0m\n"
     ]
    },
    {
     "name": "stderr",
     "output_type": "stream",
     "text": [
      " 40%|\u001b[34m████      \u001b[0m| 4/10 [00:10<00:15,  2.58s/it]\u001b[32m [repeated 4x across cluster]\u001b[0m\n"
     ]
    },
    {
     "name": "stdout",
     "output_type": "stream",
     "text": [
      "\u001b[36m(launch_and_fit pid=10334)\u001b[0m \tTrain Epoch: 5 \tTrain_loss: 1.6580 | Train_acc: 44.7917 % | Validation_loss: 1.6419 | Validation_acc: 40.2778 %\u001b[32m [repeated 4x across cluster]\u001b[0m\n"
     ]
    },
    {
     "name": "stderr",
     "output_type": "stream",
     "text": [
      " 60%|\u001b[34m██████    \u001b[0m| 6/10 [00:15<00:10,  2.64s/it]\u001b[32m [repeated 4x across cluster]\u001b[0m\n"
     ]
    },
    {
     "name": "stdout",
     "output_type": "stream",
     "text": [
      "\u001b[36m(launch_and_fit pid=10334)\u001b[0m \tTrain Epoch: 7 \tTrain_loss: 1.6438 | Train_acc: 44.2292 % | Validation_loss: 1.7109 | Validation_acc: 34.0278 %\u001b[32m [repeated 4x across cluster]\u001b[0m\n"
     ]
    },
    {
     "name": "stderr",
     "output_type": "stream",
     "text": [
      " 80%|\u001b[34m████████  \u001b[0m| 8/10 [00:21<00:05,  2.61s/it]\u001b[32m [repeated 4x across cluster]\u001b[0m\n"
     ]
    },
    {
     "name": "stdout",
     "output_type": "stream",
     "text": [
      "\u001b[36m(launch_and_fit pid=10336)\u001b[0m save graph in  results/FL/\n",
      "\u001b[36m(launch_and_fit pid=10336)\u001b[0m \tTrain Epoch: 10 \tTrain_loss: 1.6360 | Train_acc: 46.3636 % | Validation_loss: 1.8999 | Validation_acc: 25.0000 %\u001b[32m [repeated 6x across cluster]\u001b[0m\n"
     ]
    },
    {
     "name": "stderr",
     "output_type": "stream",
     "text": [
      "100%|\u001b[34m██████████\u001b[0m| 10/10 [00:26<00:00,  2.61s/it]\u001b[32m [repeated 5x across cluster]\u001b[0m\n"
     ]
    },
    {
     "name": "stdout",
     "output_type": "stream",
     "text": [
      "\u001b[36m(launch_and_fit pid=10336)\u001b[0m fc1.weight 5.4836273193359375e-06\n",
      "\u001b[36m(launch_and_fit pid=10336)\u001b[0m fc1.bias 1.430511474609375e-06\n",
      "\u001b[36m(launch_and_fit pid=10336)\u001b[0m fc2.weight 1.430511474609375e-06\n",
      "\u001b[36m(launch_and_fit pid=10336)\u001b[0m fc2.bias 9.5367431640625e-07\n",
      "\u001b[36m(launch_and_fit pid=10334)\u001b[0m qnn.weights 9.5367431640625e-07\n",
      "\u001b[36m(launch_and_fit pid=10418)\u001b[0m Run with homomorphic encryption\n",
      "\u001b[36m(launch_and_fit pid=10334)\u001b[0m save graph in  results/FL/\n",
      "\u001b[36m(launch_and_fit pid=10334)\u001b[0m \tTrain Epoch: 10 \tTrain_loss: 1.6183 | Train_acc: 47.3333 % | Validation_loss: 1.6287 | Validation_acc: 42.3611 %\n",
      "\u001b[36m(launch_and_fit pid=10336)\u001b[0m fc3.bias 5.245208740234375e-06\u001b[32m [repeated 8x across cluster]\u001b[0m\n",
      "\u001b[36m(launch_and_fit pid=10336)\u001b[0m qnn.weights 9.5367431640625e-07\n",
      "\u001b[36m(launch_and_fit pid=10418)\u001b[0m [Client 3, round 13] fit, config: {'learning_rate': 0.003, 'batch_size': '16', 'server_round': 13, 'local_epochs': 10}\n"
     ]
    },
    {
     "name": "stderr",
     "output_type": "stream",
     "text": [
      "  0%|\u001b[34m          \u001b[0m| 0/10 [00:00<?, ?it/s]\n"
     ]
    },
    {
     "name": "stdout",
     "output_type": "stream",
     "text": [
      "\u001b[36m(launch_and_fit pid=10418)\u001b[0m Updated model\n"
     ]
    },
    {
     "name": "stderr",
     "output_type": "stream",
     "text": [
      " 10%|\u001b[34m█         \u001b[0m| 1/10 [00:02<00:25,  2.86s/it]\n"
     ]
    },
    {
     "name": "stdout",
     "output_type": "stream",
     "text": [
      "\u001b[36m(launch_and_fit pid=10418)\u001b[0m \tTrain Epoch: 1 \tTrain_loss: 1.7602 | Train_acc: 34.4886 % | Validation_loss: 1.8475 | Validation_acc: 40.2778 %\n"
     ]
    },
    {
     "name": "stderr",
     "output_type": "stream",
     "text": [
      "  0%|\u001b[34m          \u001b[0m| 0/10 [00:00<?, ?it/s]\n"
     ]
    },
    {
     "name": "stdout",
     "output_type": "stream",
     "text": [
      "\u001b[36m(launch_and_fit pid=10416)\u001b[0m Run with homomorphic encryption\n",
      "\u001b[36m(launch_and_fit pid=10416)\u001b[0m [Client 4, round 13] fit, config: {'learning_rate': 0.003, 'batch_size': '16', 'server_round': 13, 'local_epochs': 10}\n",
      "\u001b[36m(launch_and_fit pid=10416)\u001b[0m Updated model\n"
     ]
    },
    {
     "name": "stderr",
     "output_type": "stream",
     "text": [
      " 30%|\u001b[34m███       \u001b[0m| 3/10 [00:08<00:18,  2.65s/it]\u001b[32m [repeated 4x across cluster]\u001b[0m\n"
     ]
    },
    {
     "name": "stdout",
     "output_type": "stream",
     "text": [
      "\u001b[36m(launch_and_fit pid=10418)\u001b[0m \tTrain Epoch: 3 \tTrain_loss: 1.7447 | Train_acc: 40.1989 % | Validation_loss: 1.8137 | Validation_acc: 27.7778 %\u001b[32m [repeated 4x across cluster]\u001b[0m\n"
     ]
    },
    {
     "name": "stderr",
     "output_type": "stream",
     "text": [
      " 50%|\u001b[34m█████     \u001b[0m| 5/10 [00:13<00:13,  2.61s/it]\u001b[32m [repeated 4x across cluster]\u001b[0m\n"
     ]
    },
    {
     "name": "stdout",
     "output_type": "stream",
     "text": [
      "\u001b[36m(launch_and_fit pid=10418)\u001b[0m \tTrain Epoch: 5 \tTrain_loss: 1.7086 | Train_acc: 38.5511 % | Validation_loss: 1.8391 | Validation_acc: 27.7778 %\u001b[32m [repeated 4x across cluster]\u001b[0m\n"
     ]
    },
    {
     "name": "stderr",
     "output_type": "stream",
     "text": [
      " 70%|\u001b[34m███████   \u001b[0m| 7/10 [00:18<00:07,  2.52s/it]\u001b[32m [repeated 5x across cluster]\u001b[0m\n"
     ]
    },
    {
     "name": "stdout",
     "output_type": "stream",
     "text": [
      "\u001b[36m(launch_and_fit pid=10416)\u001b[0m \tTrain Epoch: 7 \tTrain_loss: 1.6811 | Train_acc: 39.2045 % | Validation_loss: 1.6918 | Validation_acc: 44.4444 %\u001b[32m [repeated 5x across cluster]\u001b[0m\n"
     ]
    },
    {
     "name": "stderr",
     "output_type": "stream",
     "text": [
      " 90%|\u001b[34m█████████ \u001b[0m| 9/10 [00:23<00:02,  2.52s/it]\u001b[32m [repeated 4x across cluster]\u001b[0m\n"
     ]
    },
    {
     "name": "stdout",
     "output_type": "stream",
     "text": [
      "\u001b[36m(launch_and_fit pid=10416)\u001b[0m \tTrain Epoch: 9 \tTrain_loss: 1.6825 | Train_acc: 41.6193 % | Validation_loss: 1.7495 | Validation_acc: 38.1944 %\u001b[32m [repeated 4x across cluster]\u001b[0m\n",
      "\u001b[36m(launch_and_fit pid=10418)\u001b[0m save graph in  results/FL/\n",
      "\u001b[36m(launch_and_fit pid=10418)\u001b[0m fc1.weight 5.245208740234375e-06\n",
      "\u001b[36m(launch_and_fit pid=10418)\u001b[0m fc1.bias 1.1920928955078125e-06\n",
      "\u001b[36m(launch_and_fit pid=10418)\u001b[0m fc2.weight 1.1920928955078125e-06\n",
      "\u001b[36m(launch_and_fit pid=10418)\u001b[0m fc2.bias 1.430511474609375e-06\n",
      "\u001b[36m(launch_and_fit pid=10418)\u001b[0m qnn.weights 9.5367431640625e-07\n",
      "\u001b[36m(launch_and_fit pid=10416)\u001b[0m \tTrain Epoch: 10 \tTrain_loss: 1.6749 | Train_acc: 40.8523 % | Validation_loss: 1.6613 | Validation_acc: 44.4444 %\u001b[32m [repeated 2x across cluster]\u001b[0m\n",
      "\u001b[36m(launch_and_fit pid=10500)\u001b[0m Run with homomorphic encryption\n",
      "\u001b[36m(launch_and_fit pid=10416)\u001b[0m save graph in  results/FL/\n",
      "\u001b[36m(launch_and_fit pid=10416)\u001b[0m fc3.bias 4.291534423828125e-06\u001b[32m [repeated 8x across cluster]\u001b[0m\n",
      "\u001b[36m(launch_and_fit pid=10416)\u001b[0m qnn.weights 1.6689300537109375e-06\n",
      "\u001b[36m(launch_and_fit pid=10498)\u001b[0m [Client 2, round 13] fit, config: {'learning_rate': 0.003, 'batch_size': '16', 'server_round': 13, 'local_epochs': 10}\n"
     ]
    },
    {
     "name": "stderr",
     "output_type": "stream",
     "text": [
      "  0%|\u001b[34m          \u001b[0m| 0/10 [00:00<?, ?it/s]\n",
      "100%|\u001b[34m██████████\u001b[0m| 10/10 [00:25<00:00,  2.56s/it]\u001b[32m [repeated 2x across cluster]\u001b[0m\n"
     ]
    },
    {
     "name": "stdout",
     "output_type": "stream",
     "text": [
      "\u001b[36m(launch_and_fit pid=10500)\u001b[0m Updated model\n",
      "\u001b[36m(launch_and_fit pid=10500)\u001b[0m \tTrain Epoch: 1 \tTrain_loss: 1.7323 | Train_acc: 36.6477 % | Validation_loss: 1.7972 | Validation_acc: 34.0278 %\n"
     ]
    },
    {
     "name": "stderr",
     "output_type": "stream",
     "text": [
      "  0%|\u001b[34m          \u001b[0m| 0/10 [00:00<?, ?it/s]\n",
      " 20%|\u001b[34m██        \u001b[0m| 2/10 [00:05<00:21,  2.71s/it]\u001b[32m [repeated 3x across cluster]\u001b[0m\n"
     ]
    },
    {
     "name": "stdout",
     "output_type": "stream",
     "text": [
      "\u001b[36m(launch_and_fit pid=10498)\u001b[0m Run with homomorphic encryption\n",
      "\u001b[36m(launch_and_fit pid=10500)\u001b[0m [Client 8, round 13] fit, config: {'learning_rate': 0.003, 'batch_size': '16', 'server_round': 13, 'local_epochs': 10}\n",
      "\u001b[36m(launch_and_fit pid=10498)\u001b[0m Updated model\n",
      "\u001b[36m(launch_and_fit pid=10500)\u001b[0m \tTrain Epoch: 3 \tTrain_loss: 1.6940 | Train_acc: 40.4261 % | Validation_loss: 1.7915 | Validation_acc: 25.0000 %\u001b[32m [repeated 4x across cluster]\u001b[0m\n"
     ]
    },
    {
     "name": "stderr",
     "output_type": "stream",
     "text": [
      " 40%|\u001b[34m████      \u001b[0m| 4/10 [00:10<00:15,  2.65s/it]\u001b[32m [repeated 4x across cluster]\u001b[0m\n"
     ]
    },
    {
     "name": "stdout",
     "output_type": "stream",
     "text": [
      "\u001b[36m(launch_and_fit pid=10500)\u001b[0m \tTrain Epoch: 5 \tTrain_loss: 1.6829 | Train_acc: 41.1648 % | Validation_loss: 1.7699 | Validation_acc: 36.1111 %\u001b[32m [repeated 4x across cluster]\u001b[0m\n"
     ]
    },
    {
     "name": "stderr",
     "output_type": "stream",
     "text": [
      " 60%|\u001b[34m██████    \u001b[0m| 6/10 [00:16<00:10,  2.67s/it]\u001b[32m [repeated 4x across cluster]\u001b[0m\n"
     ]
    },
    {
     "name": "stdout",
     "output_type": "stream",
     "text": [
      "\u001b[36m(launch_and_fit pid=10500)\u001b[0m \tTrain Epoch: 7 \tTrain_loss: 1.6849 | Train_acc: 40.4545 % | Validation_loss: 1.7976 | Validation_acc: 36.1111 %\u001b[32m [repeated 4x across cluster]\u001b[0m\n"
     ]
    },
    {
     "name": "stderr",
     "output_type": "stream",
     "text": [
      " 80%|\u001b[34m████████  \u001b[0m| 8/10 [00:21<00:05,  2.67s/it]\u001b[32m [repeated 4x across cluster]\u001b[0m\n"
     ]
    },
    {
     "name": "stdout",
     "output_type": "stream",
     "text": [
      "\u001b[36m(launch_and_fit pid=10500)\u001b[0m \tTrain Epoch: 9 \tTrain_loss: 1.6524 | Train_acc: 42.2443 % | Validation_loss: 1.8116 | Validation_acc: 20.8333 %\u001b[32m [repeated 4x across cluster]\u001b[0m\n"
     ]
    },
    {
     "name": "stderr",
     "output_type": "stream",
     "text": [
      "100%|\u001b[34m██████████\u001b[0m| 10/10 [00:26<00:00,  2.64s/it]\u001b[32m [repeated 4x across cluster]\u001b[0m\n"
     ]
    },
    {
     "name": "stdout",
     "output_type": "stream",
     "text": [
      "\u001b[36m(launch_and_fit pid=10500)\u001b[0m save graph in  results/FL/\n",
      "\u001b[36m(launch_and_fit pid=10500)\u001b[0m fc1.weight 5.245208740234375e-06\n",
      "\u001b[36m(launch_and_fit pid=10500)\u001b[0m fc1.bias 1.430511474609375e-06\n",
      "\u001b[36m(launch_and_fit pid=10500)\u001b[0m fc2.weight 1.430511474609375e-06\n",
      "\u001b[36m(launch_and_fit pid=10500)\u001b[0m fc2.bias 1.1920928955078125e-06\n",
      "\u001b[36m(launch_and_fit pid=10500)\u001b[0m qnn.weights 9.5367431640625e-07\n",
      "\u001b[36m(launch_and_fit pid=10498)\u001b[0m \tTrain Epoch: 10 \tTrain_loss: 1.6240 | Train_acc: 46.3352 % | Validation_loss: 1.7449 | Validation_acc: 36.1111 %\u001b[32m [repeated 3x across cluster]\u001b[0m\n",
      "\u001b[36m(launch_and_fit pid=10580)\u001b[0m Run with homomorphic encryption\n",
      "\u001b[36m(launch_and_fit pid=10498)\u001b[0m save graph in  results/FL/\n",
      "\u001b[36m(launch_and_fit pid=10498)\u001b[0m fc3.bias 4.5299530029296875e-06\u001b[32m [repeated 8x across cluster]\u001b[0m\n",
      "\u001b[36m(launch_and_fit pid=10498)\u001b[0m qnn.weights 1.9073486328125e-06\n",
      "\u001b[36m(launch_and_fit pid=10580)\u001b[0m [Client 6, round 13] fit, config: {'learning_rate': 0.003, 'batch_size': '16', 'server_round': 13, 'local_epochs': 10}\n"
     ]
    },
    {
     "name": "stderr",
     "output_type": "stream",
     "text": [
      "  0%|\u001b[34m          \u001b[0m| 0/10 [00:00<?, ?it/s]\n",
      "100%|\u001b[34m██████████\u001b[0m| 10/10 [00:27<00:00,  2.71s/it]\n"
     ]
    },
    {
     "name": "stdout",
     "output_type": "stream",
     "text": [
      "\u001b[36m(launch_and_fit pid=10580)\u001b[0m Updated model\n"
     ]
    },
    {
     "name": "stderr",
     "output_type": "stream",
     "text": [
      " 10%|\u001b[34m█         \u001b[0m| 1/10 [00:02<00:25,  2.89s/it]\n"
     ]
    },
    {
     "name": "stdout",
     "output_type": "stream",
     "text": [
      "\u001b[36m(launch_and_fit pid=10580)\u001b[0m \tTrain Epoch: 1 \tTrain_loss: 1.6874 | Train_acc: 40.5682 % | Validation_loss: 1.8380 | Validation_acc: 27.7778 %\n",
      "\u001b[36m(launch_and_fit pid=10582)\u001b[0m Run with homomorphic encryption\n"
     ]
    },
    {
     "name": "stderr",
     "output_type": "stream",
     "text": [
      "  0%|\u001b[34m          \u001b[0m| 0/10 [00:00<?, ?it/s]\n"
     ]
    },
    {
     "name": "stdout",
     "output_type": "stream",
     "text": [
      "\u001b[36m(launch_and_fit pid=10582)\u001b[0m [Client 5, round 13] fit, config: {'learning_rate': 0.003, 'batch_size': '16', 'server_round': 13, 'local_epochs': 10}\n",
      "\u001b[36m(launch_and_fit pid=10582)\u001b[0m Updated model\n"
     ]
    },
    {
     "name": "stderr",
     "output_type": "stream",
     "text": [
      " 30%|\u001b[34m███       \u001b[0m| 3/10 [00:07<00:18,  2.59s/it]\u001b[32m [repeated 4x across cluster]\u001b[0m\n"
     ]
    },
    {
     "name": "stdout",
     "output_type": "stream",
     "text": [
      "\u001b[36m(launch_and_fit pid=10580)\u001b[0m \tTrain Epoch: 3 \tTrain_loss: 1.6609 | Train_acc: 41.6761 % | Validation_loss: 1.8224 | Validation_acc: 31.9444 %\u001b[32m [repeated 4x across cluster]\u001b[0m\n"
     ]
    },
    {
     "name": "stderr",
     "output_type": "stream",
     "text": [
      " 50%|\u001b[34m█████     \u001b[0m| 5/10 [00:12<00:12,  2.53s/it]\u001b[32m [repeated 4x across cluster]\u001b[0m\n"
     ]
    },
    {
     "name": "stdout",
     "output_type": "stream",
     "text": [
      "\u001b[36m(launch_and_fit pid=10580)\u001b[0m \tTrain Epoch: 5 \tTrain_loss: 1.6406 | Train_acc: 44.2898 % | Validation_loss: 1.8398 | Validation_acc: 40.9722 %\u001b[32m [repeated 4x across cluster]\u001b[0m\n"
     ]
    },
    {
     "name": "stderr",
     "output_type": "stream",
     "text": [
      " 70%|\u001b[34m███████   \u001b[0m| 7/10 [00:17<00:07,  2.51s/it]\u001b[32m [repeated 5x across cluster]\u001b[0m\n"
     ]
    },
    {
     "name": "stdout",
     "output_type": "stream",
     "text": [
      "\u001b[36m(launch_and_fit pid=10582)\u001b[0m \tTrain Epoch: 7 \tTrain_loss: 1.7401 | Train_acc: 36.3352 % | Validation_loss: 1.7026 | Validation_acc: 49.3056 %\u001b[32m [repeated 5x across cluster]\u001b[0m\n"
     ]
    },
    {
     "name": "stderr",
     "output_type": "stream",
     "text": [
      " 90%|\u001b[34m█████████ \u001b[0m| 9/10 [00:22<00:02,  2.52s/it]\u001b[32m [repeated 4x across cluster]\u001b[0m\n"
     ]
    },
    {
     "name": "stdout",
     "output_type": "stream",
     "text": [
      "\u001b[36m(launch_and_fit pid=10582)\u001b[0m \tTrain Epoch: 9 \tTrain_loss: 1.7224 | Train_acc: 36.8466 % | Validation_loss: 1.7288 | Validation_acc: 20.8333 %\u001b[32m [repeated 4x across cluster]\u001b[0m\n",
      "\u001b[36m(launch_and_fit pid=10580)\u001b[0m save graph in  results/FL/\n",
      "\u001b[36m(launch_and_fit pid=10580)\u001b[0m fc1.weight 5.0067901611328125e-06\n",
      "\u001b[36m(launch_and_fit pid=10580)\u001b[0m fc1.bias 1.430511474609375e-06\n",
      "\u001b[36m(launch_and_fit pid=10580)\u001b[0m fc2.weight 1.430511474609375e-06\n",
      "\u001b[36m(launch_and_fit pid=10580)\u001b[0m fc2.bias 9.5367431640625e-07\n",
      "\u001b[36m(launch_and_fit pid=10580)\u001b[0m qnn.weights 1.6689300537109375e-06\n",
      "\u001b[36m(launch_and_fit pid=10582)\u001b[0m \tTrain Epoch: 10 \tTrain_loss: 1.7378 | Train_acc: 36.9602 % | Validation_loss: 1.6845 | Validation_acc: 53.4722 %\u001b[32m [repeated 2x across cluster]\u001b[0m\n"
     ]
    },
    {
     "name": "stderr",
     "output_type": "stream",
     "text": [
      "ERROR flwr 2024-07-22 10:24:22,951 | ray_client_proxy.py:87 | Task was killed due to the node running low on memory.\n",
      "Memory on the node (IP: 172.19.2.2, ID: dcb7465c1e18f5f0fd3f2a9b1d80ab4a1bc14b88238171cc5f710a6a) where the task (task ID: faed0e6588b431e5dee8e3f55a1f1df8f54b0ae101000000, name=launch_and_fit, pid=10582, memory used=2.40GB) was running was 27.61GB / 29.00GB (0.95207), which exceeds the memory usage threshold of 0.95. Ray killed this worker (ID: ad2731d1b8cdbae80f8349b90a4bc831f30281c1441cee83ac4afd87) because it was the most recently scheduled task; to see more information about memory usage on this node, use `ray logs raylet.out -ip 172.19.2.2`. To see the logs of the worker, use `ray logs worker-ad2731d1b8cdbae80f8349b90a4bc831f30281c1441cee83ac4afd87*out -ip 172.19.2.2. Top 10 memory users:\n",
      "PID\tMEM(GB)\tCOMMAND\n",
      "24\t16.08\t/opt/conda/bin/python -m ipykernel_launcher -f /tmp/tmposf3yqre.json --HistoryManager.hist_file=:mem...\n",
      "10582\t2.40\tray::launch_and_fit\n",
      "10580\t2.38\tray::launch_and_fit\n",
      "10498\t2.30\tray::IDLE\n",
      "10500\t1.97\tray::IDLE\n",
      "9\t0.10\tpython -c import sys;import papermill as pm;pm.execute_notebook(\"__notebook__.ipynb\",\"__notebook__.i...\n",
      "185\t0.06\t/opt/conda/bin/python /opt/conda/lib/python3.10/site-packages/ray/dashboard/dashboard.py --host=127....\n",
      "250\t0.06\t/opt/conda/bin/python -u /opt/conda/lib/python3.10/site-packages/ray/dashboard/agent.py --node-ip-ad...\n",
      "184\t0.04\t/opt/conda/bin/python -u /opt/conda/lib/python3.10/site-packages/ray/autoscaler/_private/monitor.py ...\n",
      "210\t0.04\t/opt/conda/bin/python -u /opt/conda/lib/python3.10/site-packages/ray/_private/log_monitor.py --sessi...\n",
      "Refer to the documentation on how to address the out of memory issue: https://docs.ray.io/en/latest/ray-core/scheduling/ray-oom-prevention.html. Consider provisioning more memory on this node or reducing task parallelism by requesting more CPUs per task. To adjust the kill threshold, set the environment variable `RAY_memory_usage_threshold` when starting Ray. To disable worker killing, set the environment variable `RAY_memory_monitor_refresh_ms` to zero.\n",
      "DEBUG flwr 2024-07-22 10:24:23,449 | server.py:236 | fit_round 13 received 9 results and 1 failures\n"
     ]
    },
    {
     "name": "stdout",
     "output_type": "stream",
     "text": [
      "Saving round 13 aggregated_parameters...\n"
     ]
    },
    {
     "name": "stderr",
     "output_type": "stream",
     "text": [
      "DEBUG flwr 2024-07-22 10:24:41,659 | server.py:173 | evaluate_round 13: strategy sampled 10 clients (out of 10)\n"
     ]
    },
    {
     "name": "stdout",
     "output_type": "stream",
     "text": [
      "\u001b[36m(launch_and_evaluate pid=10670)\u001b[0m Run with homomorphic encryption\n",
      "\u001b[36m(launch_and_fit pid=10582)\u001b[0m save graph in  results/FL/\n",
      "\u001b[36m(launch_and_fit pid=10582)\u001b[0m fc3.bias 5.245208740234375e-06\u001b[32m [repeated 8x across cluster]\u001b[0m\n",
      "\u001b[36m(launch_and_fit pid=10582)\u001b[0m qnn.weights 1.430511474609375e-06\n",
      "\u001b[36m(launch_and_evaluate pid=10670)\u001b[0m [Client 7] evaluate, config: {}\n",
      "\u001b[36m(launch_and_evaluate pid=10670)\u001b[0m Updated model\n",
      "\u001b[36m(launch_and_evaluate pid=10749)\u001b[0m Run with homomorphic encryption\u001b[32m [repeated 2x across cluster]\u001b[0m\n",
      "\u001b[36m(launch_and_evaluate pid=10671)\u001b[0m [Client 3] evaluate, config: {}\n",
      "\u001b[36m(launch_and_evaluate pid=10671)\u001b[0m Updated model\n",
      "\u001b[36m(launch_and_evaluate pid=10749)\u001b[0m [Client 6] evaluate, config: {}\n",
      "\u001b[36m(launch_and_evaluate pid=10749)\u001b[0m Updated model\n"
     ]
    },
    {
     "name": "stderr",
     "output_type": "stream",
     "text": [
      "\u001b[36m(launch_and_evaluate pid=10774)\u001b[0m /opt/conda/lib/python3.10/site-packages/sklearn/metrics/_ranking.py:1029: UndefinedMetricWarning: No positive samples in y_true, true positive value should be meaningless\n",
      "\u001b[36m(launch_and_evaluate pid=10774)\u001b[0m   warnings.warn(\n",
      "100%|\u001b[34m██████████\u001b[0m| 10/10 [00:25<00:00,  2.54s/it]\u001b[32m [repeated 2x across cluster]\u001b[0m\n",
      "\u001b[33m(raylet)\u001b[0m [2024-07-22 10:25:10,014 E 209 209] (raylet) node_manager.cc:3022: 1 Workers (tasks / actors) killed due to memory pressure (OOM), 0 Workers crashed due to other reasons at node (ID: dcb7465c1e18f5f0fd3f2a9b1d80ab4a1bc14b88238171cc5f710a6a, IP: 172.19.2.2) over the last time period. To see more information about the Workers killed on this node, use `ray logs raylet.out -ip 172.19.2.2`\n",
      "\u001b[33m(raylet)\u001b[0m Refer to the documentation on how to address the out of memory issue: https://docs.ray.io/en/latest/ray-core/scheduling/ray-oom-prevention.html. Consider provisioning more memory on this node or reducing task parallelism by requesting more CPUs per task. To adjust the kill threshold, set the environment variable `RAY_memory_usage_threshold` when starting Ray. To disable worker killing, set the environment variable `RAY_memory_monitor_refresh_ms` to zero.\n"
     ]
    },
    {
     "name": "stdout",
     "output_type": "stream",
     "text": [
      "\u001b[36m(launch_and_evaluate pid=10827)\u001b[0m Run with homomorphic encryption\u001b[32m [repeated 2x across cluster]\u001b[0m\n",
      "\u001b[36m(launch_and_evaluate pid=10774)\u001b[0m [Client 8] evaluate, config: {}\n",
      "\u001b[36m(launch_and_evaluate pid=10774)\u001b[0m Updated model\n",
      "\u001b[36m(launch_and_evaluate pid=10827)\u001b[0m [Client 9] evaluate, config: {}\n",
      "\u001b[36m(launch_and_evaluate pid=10827)\u001b[0m Updated model\n"
     ]
    },
    {
     "name": "stderr",
     "output_type": "stream",
     "text": [
      "\u001b[36m(launch_and_evaluate pid=10827)\u001b[0m /opt/conda/lib/python3.10/site-packages/sklearn/metrics/_ranking.py:1029: UndefinedMetricWarning: No positive samples in y_true, true positive value should be meaningless\n",
      "\u001b[36m(launch_and_evaluate pid=10827)\u001b[0m   warnings.warn(\n",
      "\u001b[33m(raylet)\u001b[0m \n"
     ]
    },
    {
     "name": "stdout",
     "output_type": "stream",
     "text": [
      "\u001b[36m(launch_and_evaluate pid=10905)\u001b[0m Run with homomorphic encryption\u001b[32m [repeated 2x across cluster]\u001b[0m\n",
      "\u001b[36m(launch_and_evaluate pid=10829)\u001b[0m [Client 0] evaluate, config: {}\n",
      "\u001b[36m(launch_and_evaluate pid=10829)\u001b[0m Updated model\n",
      "\u001b[36m(launch_and_evaluate pid=10905)\u001b[0m [Client 1] evaluate, config: {}\n",
      "\u001b[36m(launch_and_evaluate pid=10905)\u001b[0m Updated model\n"
     ]
    },
    {
     "name": "stderr",
     "output_type": "stream",
     "text": [
      "\u001b[36m(launch_and_evaluate pid=10930)\u001b[0m /opt/conda/lib/python3.10/site-packages/sklearn/metrics/_ranking.py:1029: UndefinedMetricWarning: No positive samples in y_true, true positive value should be meaningless\n",
      "\u001b[36m(launch_and_evaluate pid=10930)\u001b[0m   warnings.warn(\n"
     ]
    },
    {
     "name": "stdout",
     "output_type": "stream",
     "text": [
      "\u001b[36m(launch_and_evaluate pid=10983)\u001b[0m Run with homomorphic encryption\u001b[32m [repeated 2x across cluster]\u001b[0m\n",
      "\u001b[36m(launch_and_evaluate pid=10930)\u001b[0m [Client 4] evaluate, config: {}\n",
      "\u001b[36m(launch_and_evaluate pid=10930)\u001b[0m Updated model\n",
      "\u001b[36m(launch_and_evaluate pid=10983)\u001b[0m [Client 5] evaluate, config: {}\n",
      "\u001b[36m(launch_and_evaluate pid=10983)\u001b[0m Updated model\n"
     ]
    },
    {
     "name": "stderr",
     "output_type": "stream",
     "text": [
      "DEBUG flwr 2024-07-22 10:25:48,746 | server.py:187 | evaluate_round 13 received 10 results and 0 failures\n",
      "DEBUG flwr 2024-07-22 10:25:48,747 | server.py:222 | fit_round 14: strategy sampled 10 clients (out of 10)\n"
     ]
    },
    {
     "name": "stdout",
     "output_type": "stream",
     "text": [
      "\u001b[36m(launch_and_fit pid=11070)\u001b[0m Run with homomorphic encryption\u001b[32m [repeated 2x across cluster]\u001b[0m\n",
      "\u001b[36m(launch_and_evaluate pid=10985)\u001b[0m [Client 2] evaluate, config: {}\n",
      "\u001b[36m(launch_and_evaluate pid=10985)\u001b[0m Updated model\n",
      "\u001b[36m(launch_and_fit pid=11070)\u001b[0m [Client 2, round 14] fit, config: {'learning_rate': 0.003, 'batch_size': '16', 'server_round': 14, 'local_epochs': 10}\n"
     ]
    },
    {
     "name": "stderr",
     "output_type": "stream",
     "text": [
      "  0%|\u001b[34m          \u001b[0m| 0/10 [00:00<?, ?it/s]\n"
     ]
    },
    {
     "name": "stdout",
     "output_type": "stream",
     "text": [
      "\u001b[36m(launch_and_fit pid=11070)\u001b[0m Updated model\n"
     ]
    },
    {
     "name": "stderr",
     "output_type": "stream",
     "text": [
      " 10%|\u001b[34m█         \u001b[0m| 1/10 [00:02<00:25,  2.86s/it]\n"
     ]
    },
    {
     "name": "stdout",
     "output_type": "stream",
     "text": [
      "\u001b[36m(launch_and_fit pid=11070)\u001b[0m \tTrain Epoch: 1 \tTrain_loss: 1.7001 | Train_acc: 39.3466 % | Validation_loss: 1.6618 | Validation_acc: 43.0556 %\n"
     ]
    },
    {
     "name": "stderr",
     "output_type": "stream",
     "text": [
      "  0%|\u001b[34m          \u001b[0m| 0/10 [00:00<?, ?it/s]\n"
     ]
    },
    {
     "name": "stdout",
     "output_type": "stream",
     "text": [
      "\u001b[36m(launch_and_fit pid=11071)\u001b[0m Run with homomorphic encryption\n",
      "\u001b[36m(launch_and_fit pid=11071)\u001b[0m [Client 0, round 14] fit, config: {'learning_rate': 0.003, 'batch_size': '16', 'server_round': 14, 'local_epochs': 10}\n",
      "\u001b[36m(launch_and_fit pid=11071)\u001b[0m Updated model\n"
     ]
    },
    {
     "name": "stderr",
     "output_type": "stream",
     "text": [
      " 30%|\u001b[34m███       \u001b[0m| 3/10 [00:08<00:20,  2.93s/it]\u001b[32m [repeated 4x across cluster]\u001b[0m\n"
     ]
    },
    {
     "name": "stdout",
     "output_type": "stream",
     "text": [
      "\u001b[36m(launch_and_fit pid=11070)\u001b[0m \tTrain Epoch: 3 \tTrain_loss: 1.6570 | Train_acc: 40.5682 % | Validation_loss: 1.7298 | Validation_acc: 34.0278 %\u001b[32m [repeated 4x across cluster]\u001b[0m\n"
     ]
    },
    {
     "name": "stderr",
     "output_type": "stream",
     "text": [
      " 50%|\u001b[34m█████     \u001b[0m| 5/10 [00:13<00:13,  2.73s/it]\u001b[32m [repeated 4x across cluster]\u001b[0m\n"
     ]
    },
    {
     "name": "stdout",
     "output_type": "stream",
     "text": [
      "\u001b[36m(launch_and_fit pid=11070)\u001b[0m \tTrain Epoch: 5 \tTrain_loss: 1.6481 | Train_acc: 43.0682 % | Validation_loss: 1.7418 | Validation_acc: 29.8611 %\u001b[32m [repeated 4x across cluster]\u001b[0m\n"
     ]
    },
    {
     "name": "stderr",
     "output_type": "stream",
     "text": [
      " 70%|\u001b[34m███████   \u001b[0m| 7/10 [00:19<00:08,  2.71s/it]\u001b[32m [repeated 4x across cluster]\u001b[0m\n"
     ]
    },
    {
     "name": "stdout",
     "output_type": "stream",
     "text": [
      "\u001b[36m(launch_and_fit pid=11070)\u001b[0m \tTrain Epoch: 7 \tTrain_loss: 1.6324 | Train_acc: 45.7386 % | Validation_loss: 1.7518 | Validation_acc: 34.0278 %\u001b[32m [repeated 4x across cluster]\u001b[0m\n"
     ]
    },
    {
     "name": "stderr",
     "output_type": "stream",
     "text": [
      " 90%|\u001b[34m█████████ \u001b[0m| 9/10 [00:24<00:02,  2.62s/it]\u001b[32m [repeated 4x across cluster]\u001b[0m\n"
     ]
    },
    {
     "name": "stdout",
     "output_type": "stream",
     "text": [
      "\u001b[36m(launch_and_fit pid=11070)\u001b[0m \tTrain Epoch: 9 \tTrain_loss: 1.6204 | Train_acc: 46.0227 % | Validation_loss: 1.7414 | Validation_acc: 29.8611 %\u001b[32m [repeated 4x across cluster]\u001b[0m\n",
      "\u001b[36m(launch_and_fit pid=11070)\u001b[0m save graph in  results/FL/\n",
      "\u001b[36m(launch_and_fit pid=11070)\u001b[0m fc1.weight 9.059906005859375e-06\n",
      "\u001b[36m(launch_and_fit pid=11070)\u001b[0m fc1.bias 2.1457672119140625e-06\n",
      "\u001b[36m(launch_and_fit pid=11070)\u001b[0m fc2.weight 9.5367431640625e-07\n",
      "\u001b[36m(launch_and_fit pid=11070)\u001b[0m fc2.bias 9.5367431640625e-07\n",
      "\u001b[36m(launch_and_fit pid=11070)\u001b[0m qnn.weights 9.5367431640625e-07\n",
      "\u001b[36m(launch_and_fit pid=11071)\u001b[0m \tTrain Epoch: 10 \tTrain_loss: 1.6261 | Train_acc: 46.9602 % | Validation_loss: 1.8494 | Validation_acc: 29.1667 %\u001b[32m [repeated 3x across cluster]\u001b[0m\n",
      "\u001b[36m(launch_and_fit pid=11154)\u001b[0m Run with homomorphic encryption\n",
      "\u001b[36m(launch_and_fit pid=11071)\u001b[0m save graph in  results/FL/\n",
      "\u001b[36m(launch_and_fit pid=11071)\u001b[0m fc3.bias 5.7220458984375e-06\u001b[32m [repeated 8x across cluster]\u001b[0m\n",
      "\u001b[36m(launch_and_fit pid=11071)\u001b[0m qnn.weights 1.9073486328125e-06\n",
      "\u001b[36m(launch_and_fit pid=11154)\u001b[0m [Client 5, round 14] fit, config: {'learning_rate': 0.003, 'batch_size': '16', 'server_round': 14, 'local_epochs': 10}\n"
     ]
    },
    {
     "name": "stderr",
     "output_type": "stream",
     "text": [
      "  0%|\u001b[34m          \u001b[0m| 0/10 [00:00<?, ?it/s]\n",
      "100%|\u001b[34m██████████\u001b[0m| 10/10 [00:27<00:00,  2.78s/it]\u001b[32m [repeated 3x across cluster]\u001b[0m\n"
     ]
    },
    {
     "name": "stdout",
     "output_type": "stream",
     "text": [
      "\u001b[36m(launch_and_fit pid=11154)\u001b[0m Updated model\n",
      "\u001b[36m(launch_and_fit pid=11154)\u001b[0m \tTrain Epoch: 1 \tTrain_loss: 1.8100 | Train_acc: 29.7727 % | Validation_loss: 1.7868 | Validation_acc: 20.8333 %\n",
      "\u001b[36m(launch_and_fit pid=11155)\u001b[0m Run with homomorphic encryption\n",
      "\u001b[36m(launch_and_fit pid=11155)\u001b[0m [Client 8, round 14] fit, config: {'learning_rate': 0.003, 'batch_size': '16', 'server_round': 14, 'local_epochs': 10}\n",
      "\u001b[36m(launch_and_fit pid=11155)\u001b[0m Updated model\n"
     ]
    },
    {
     "name": "stderr",
     "output_type": "stream",
     "text": [
      "  0%|\u001b[34m          \u001b[0m| 0/10 [00:00<?, ?it/s]\n",
      " 20%|\u001b[34m██        \u001b[0m| 2/10 [00:05<00:20,  2.58s/it]\u001b[32m [repeated 3x across cluster]\u001b[0m\n"
     ]
    },
    {
     "name": "stdout",
     "output_type": "stream",
     "text": [
      "\u001b[36m(launch_and_fit pid=11155)\u001b[0m \tTrain Epoch: 3 \tTrain_loss: 1.6804 | Train_acc: 42.7557 % | Validation_loss: 1.7996 | Validation_acc: 34.0278 %\u001b[32m [repeated 4x across cluster]\u001b[0m\n"
     ]
    },
    {
     "name": "stderr",
     "output_type": "stream",
     "text": [
      " 40%|\u001b[34m████      \u001b[0m| 4/10 [00:10<00:15,  2.62s/it]\u001b[32m [repeated 4x across cluster]\u001b[0m\n"
     ]
    },
    {
     "name": "stdout",
     "output_type": "stream",
     "text": [
      "\u001b[36m(launch_and_fit pid=11155)\u001b[0m \tTrain Epoch: 5 \tTrain_loss: 1.6757 | Train_acc: 41.5057 % | Validation_loss: 1.7964 | Validation_acc: 22.9167 %\u001b[32m [repeated 4x across cluster]\u001b[0m\n"
     ]
    },
    {
     "name": "stderr",
     "output_type": "stream",
     "text": [
      " 60%|\u001b[34m██████    \u001b[0m| 6/10 [00:15<00:10,  2.61s/it]\u001b[32m [repeated 4x across cluster]\u001b[0m\n"
     ]
    },
    {
     "name": "stdout",
     "output_type": "stream",
     "text": [
      "\u001b[36m(launch_and_fit pid=11155)\u001b[0m \tTrain Epoch: 7 \tTrain_loss: 1.6569 | Train_acc: 42.4432 % | Validation_loss: 1.7930 | Validation_acc: 22.9167 %\u001b[32m [repeated 4x across cluster]\u001b[0m\n"
     ]
    },
    {
     "name": "stderr",
     "output_type": "stream",
     "text": [
      " 80%|\u001b[34m████████  \u001b[0m| 8/10 [00:20<00:05,  2.60s/it]\u001b[32m [repeated 4x across cluster]\u001b[0m\n"
     ]
    },
    {
     "name": "stdout",
     "output_type": "stream",
     "text": [
      "\u001b[36m(launch_and_fit pid=11154)\u001b[0m \tTrain Epoch: 9 \tTrain_loss: 1.7583 | Train_acc: 34.1761 % | Validation_loss: 1.7484 | Validation_acc: 44.4444 %\u001b[32m [repeated 5x across cluster]\u001b[0m\n",
      "\u001b[36m(launch_and_fit pid=11155)\u001b[0m save graph in  results/FL/\n"
     ]
    },
    {
     "name": "stderr",
     "output_type": "stream",
     "text": [
      "100%|\u001b[34m██████████\u001b[0m| 10/10 [00:26<00:00,  2.62s/it]\u001b[32m [repeated 4x across cluster]\u001b[0m\n"
     ]
    },
    {
     "name": "stdout",
     "output_type": "stream",
     "text": [
      "\u001b[36m(launch_and_fit pid=11155)\u001b[0m fc1.weight 6.198883056640625e-06\n",
      "\u001b[36m(launch_and_fit pid=11155)\u001b[0m fc1.bias 1.9073486328125e-06\n",
      "\u001b[36m(launch_and_fit pid=11155)\u001b[0m fc2.weight 1.6689300537109375e-06\n",
      "\u001b[36m(launch_and_fit pid=11155)\u001b[0m fc2.bias 1.430511474609375e-06\n",
      "\u001b[36m(launch_and_fit pid=11155)\u001b[0m qnn.weights 2.86102294921875e-06\n",
      "\u001b[36m(launch_and_fit pid=11154)\u001b[0m \tTrain Epoch: 10 \tTrain_loss: 1.7110 | Train_acc: 37.3011 % | Validation_loss: 1.7204 | Validation_acc: 60.4167 %\u001b[32m [repeated 2x across cluster]\u001b[0m\n",
      "\u001b[36m(launch_and_fit pid=11154)\u001b[0m save graph in  results/FL/\n",
      "\u001b[36m(launch_and_fit pid=11235)\u001b[0m Run with homomorphic encryption\n",
      "\u001b[36m(launch_and_fit pid=11154)\u001b[0m fc3.bias 5.245208740234375e-06\u001b[32m [repeated 8x across cluster]\u001b[0m\n",
      "\u001b[36m(launch_and_fit pid=11154)\u001b[0m qnn.weights 1.430511474609375e-06\n",
      "\u001b[36m(launch_and_fit pid=11235)\u001b[0m [Client 3, round 14] fit, config: {'learning_rate': 0.003, 'batch_size': '16', 'server_round': 14, 'local_epochs': 10}\n",
      "\u001b[36m(launch_and_fit pid=11235)\u001b[0m Updated model\n"
     ]
    },
    {
     "name": "stderr",
     "output_type": "stream",
     "text": [
      "  0%|\u001b[34m          \u001b[0m| 0/10 [00:00<?, ?it/s]\n",
      "100%|\u001b[34m██████████\u001b[0m| 10/10 [00:27<00:00,  2.73s/it]\n"
     ]
    },
    {
     "name": "stdout",
     "output_type": "stream",
     "text": [
      "\u001b[36m(launch_and_fit pid=11235)\u001b[0m \tTrain Epoch: 1 \tTrain_loss: 1.7429 | Train_acc: 35.7386 % | Validation_loss: 1.7598 | Validation_acc: 38.1944 %\n"
     ]
    },
    {
     "name": "stderr",
     "output_type": "stream",
     "text": [
      " 10%|\u001b[34m█         \u001b[0m| 1/10 [00:02<00:24,  2.73s/it]\n"
     ]
    },
    {
     "name": "stdout",
     "output_type": "stream",
     "text": [
      "\u001b[36m(launch_and_fit pid=11260)\u001b[0m Run with homomorphic encryption\n",
      "\u001b[36m(launch_and_fit pid=11260)\u001b[0m [Client 7, round 14] fit, config: {'learning_rate': 0.003, 'batch_size': '16', 'server_round': 14, 'local_epochs': 10}\n",
      "\u001b[36m(launch_and_fit pid=11260)\u001b[0m Updated model\n"
     ]
    },
    {
     "name": "stderr",
     "output_type": "stream",
     "text": [
      "  0%|\u001b[34m          \u001b[0m| 0/10 [00:00<?, ?it/s]\n"
     ]
    },
    {
     "name": "stdout",
     "output_type": "stream",
     "text": [
      "\u001b[36m(launch_and_fit pid=11235)\u001b[0m \tTrain Epoch: 3 \tTrain_loss: 1.7015 | Train_acc: 41.1648 % | Validation_loss: 1.7598 | Validation_acc: 34.0278 %\u001b[32m [repeated 4x across cluster]\u001b[0m\n"
     ]
    },
    {
     "name": "stderr",
     "output_type": "stream",
     "text": [
      " 30%|\u001b[34m███       \u001b[0m| 3/10 [00:08<00:19,  2.80s/it]\u001b[32m [repeated 4x across cluster]\u001b[0m\n"
     ]
    },
    {
     "name": "stdout",
     "output_type": "stream",
     "text": [
      "\u001b[36m(launch_and_fit pid=11235)\u001b[0m \tTrain Epoch: 5 \tTrain_loss: 1.6896 | Train_acc: 40.2273 % | Validation_loss: 1.7978 | Validation_acc: 31.9444 %\u001b[32m [repeated 4x across cluster]\u001b[0m\n"
     ]
    },
    {
     "name": "stderr",
     "output_type": "stream",
     "text": [
      " 50%|\u001b[34m█████     \u001b[0m| 5/10 [00:13<00:13,  2.67s/it]\u001b[32m [repeated 4x across cluster]\u001b[0m\n"
     ]
    },
    {
     "name": "stdout",
     "output_type": "stream",
     "text": [
      "\u001b[36m(launch_and_fit pid=11235)\u001b[0m \tTrain Epoch: 7 \tTrain_loss: 1.6839 | Train_acc: 41.2216 % | Validation_loss: 1.7950 | Validation_acc: 36.1111 %\u001b[32m [repeated 4x across cluster]\u001b[0m\n"
     ]
    },
    {
     "name": "stderr",
     "output_type": "stream",
     "text": [
      " 70%|\u001b[34m███████   \u001b[0m| 7/10 [00:18<00:07,  2.64s/it]\u001b[32m [repeated 4x across cluster]\u001b[0m\n"
     ]
    },
    {
     "name": "stdout",
     "output_type": "stream",
     "text": [
      "\u001b[36m(launch_and_fit pid=11235)\u001b[0m \tTrain Epoch: 9 \tTrain_loss: 1.6670 | Train_acc: 41.6477 % | Validation_loss: 1.7883 | Validation_acc: 31.9444 %\u001b[32m [repeated 4x across cluster]\u001b[0m\n"
     ]
    },
    {
     "name": "stderr",
     "output_type": "stream",
     "text": [
      " 90%|\u001b[34m█████████ \u001b[0m| 9/10 [00:24<00:02,  2.63s/it]\u001b[32m [repeated 4x across cluster]\u001b[0m\n"
     ]
    },
    {
     "name": "stdout",
     "output_type": "stream",
     "text": [
      "\u001b[36m(launch_and_fit pid=11235)\u001b[0m save graph in  results/FL/\n",
      "\u001b[36m(launch_and_fit pid=11235)\u001b[0m fc1.weight 5.0067901611328125e-06\n",
      "\u001b[36m(launch_and_fit pid=11235)\u001b[0m fc1.bias 1.1920928955078125e-06\n",
      "\u001b[36m(launch_and_fit pid=11235)\u001b[0m fc2.weight 9.5367431640625e-07\n",
      "\u001b[36m(launch_and_fit pid=11235)\u001b[0m fc2.bias 1.430511474609375e-06\n",
      "\u001b[36m(launch_and_fit pid=11235)\u001b[0m qnn.weights 1.430511474609375e-06\n",
      "\u001b[36m(launch_and_fit pid=11260)\u001b[0m \tTrain Epoch: 10 \tTrain_loss: 1.6407 | Train_acc: 47.8977 % | Validation_loss: 1.5816 | Validation_acc: 53.4722 %\u001b[32m [repeated 3x across cluster]\u001b[0m\n",
      "\u001b[36m(launch_and_fit pid=11318)\u001b[0m Run with homomorphic encryption\n",
      "\u001b[36m(launch_and_fit pid=11260)\u001b[0m save graph in  results/FL/\n",
      "\u001b[36m(launch_and_fit pid=11260)\u001b[0m fc3.bias 4.0531158447265625e-06\u001b[32m [repeated 8x across cluster]\u001b[0m\n",
      "\u001b[36m(launch_and_fit pid=11260)\u001b[0m qnn.weights 1.1920928955078125e-06\n",
      "\u001b[36m(launch_and_fit pid=11318)\u001b[0m [Client 9, round 14] fit, config: {'learning_rate': 0.003, 'batch_size': '16', 'server_round': 14, 'local_epochs': 10}\n",
      "\u001b[36m(launch_and_fit pid=11318)\u001b[0m Updated model\n"
     ]
    },
    {
     "name": "stderr",
     "output_type": "stream",
     "text": [
      "  0%|\u001b[34m          \u001b[0m| 0/10 [00:00<?, ?it/s]\n",
      "100%|\u001b[34m██████████\u001b[0m| 10/10 [00:26<00:00,  2.67s/it]\u001b[32m [repeated 3x across cluster]\u001b[0m\n"
     ]
    },
    {
     "name": "stdout",
     "output_type": "stream",
     "text": [
      "\u001b[36m(launch_and_fit pid=11318)\u001b[0m \tTrain Epoch: 1 \tTrain_loss: 1.7026 | Train_acc: 42.0208 % | Validation_loss: 1.6799 | Validation_acc: 38.1944 %\n",
      "\u001b[36m(launch_and_fit pid=11343)\u001b[0m Run with homomorphic encryption\n",
      "\u001b[36m(launch_and_fit pid=11343)\u001b[0m [Client 6, round 14] fit, config: {'learning_rate': 0.003, 'batch_size': '16', 'server_round': 14, 'local_epochs': 10}\n",
      "\u001b[36m(launch_and_fit pid=11343)\u001b[0m Updated model\n"
     ]
    },
    {
     "name": "stderr",
     "output_type": "stream",
     "text": [
      "  0%|\u001b[34m          \u001b[0m| 0/10 [00:00<?, ?it/s]\n",
      " 20%|\u001b[34m██        \u001b[0m| 2/10 [00:05<00:22,  2.78s/it]\u001b[32m [repeated 3x across cluster]\u001b[0m\n"
     ]
    },
    {
     "name": "stdout",
     "output_type": "stream",
     "text": [
      "\u001b[36m(launch_and_fit pid=11318)\u001b[0m \tTrain Epoch: 3 \tTrain_loss: 1.6568 | Train_acc: 45.7917 % | Validation_loss: 1.6584 | Validation_acc: 51.3889 %\u001b[32m [repeated 4x across cluster]\u001b[0m\n"
     ]
    },
    {
     "name": "stderr",
     "output_type": "stream",
     "text": [
      " 40%|\u001b[34m████      \u001b[0m| 4/10 [00:11<00:16,  2.81s/it]\u001b[32m [repeated 4x across cluster]\u001b[0m\n"
     ]
    },
    {
     "name": "stdout",
     "output_type": "stream",
     "text": [
      "\u001b[36m(launch_and_fit pid=11318)\u001b[0m \tTrain Epoch: 5 \tTrain_loss: 1.6403 | Train_acc: 44.4583 % | Validation_loss: 1.6198 | Validation_acc: 38.1944 %\u001b[32m [repeated 4x across cluster]\u001b[0m\n"
     ]
    },
    {
     "name": "stderr",
     "output_type": "stream",
     "text": [
      " 60%|\u001b[34m██████    \u001b[0m| 6/10 [00:16<00:10,  2.70s/it]\u001b[32m [repeated 4x across cluster]\u001b[0m\n"
     ]
    },
    {
     "name": "stdout",
     "output_type": "stream",
     "text": [
      "\u001b[36m(launch_and_fit pid=11318)\u001b[0m \tTrain Epoch: 7 \tTrain_loss: 1.6378 | Train_acc: 45.4583 % | Validation_loss: 1.6043 | Validation_acc: 53.4722 %\u001b[32m [repeated 4x across cluster]\u001b[0m\n"
     ]
    },
    {
     "name": "stderr",
     "output_type": "stream",
     "text": [
      " 80%|\u001b[34m████████  \u001b[0m| 8/10 [00:21<00:05,  2.66s/it]\u001b[32m [repeated 4x across cluster]\u001b[0m\n"
     ]
    },
    {
     "name": "stdout",
     "output_type": "stream",
     "text": [
      "\u001b[36m(launch_and_fit pid=11318)\u001b[0m \tTrain Epoch: 9 \tTrain_loss: 1.6279 | Train_acc: 43.9583 % | Validation_loss: 1.6151 | Validation_acc: 53.4722 %\u001b[32m [repeated 4x across cluster]\u001b[0m\n",
      "\u001b[36m(launch_and_fit pid=11318)\u001b[0m save graph in  results/FL/\n"
     ]
    },
    {
     "name": "stderr",
     "output_type": "stream",
     "text": [
      "100%|\u001b[34m██████████\u001b[0m| 10/10 [00:26<00:00,  2.68s/it]\u001b[32m [repeated 4x across cluster]\u001b[0m\n"
     ]
    },
    {
     "name": "stdout",
     "output_type": "stream",
     "text": [
      "\u001b[36m(launch_and_fit pid=11318)\u001b[0m fc1.weight 6.67572021484375e-06\n",
      "\u001b[36m(launch_and_fit pid=11318)\u001b[0m fc1.bias 1.6689300537109375e-06\n",
      "\u001b[36m(launch_and_fit pid=11318)\u001b[0m fc2.weight 1.430511474609375e-06\n",
      "\u001b[36m(launch_and_fit pid=11318)\u001b[0m fc2.bias 1.430511474609375e-06\n",
      "\u001b[36m(launch_and_fit pid=11318)\u001b[0m qnn.weights 9.5367431640625e-07\n",
      "\u001b[36m(launch_and_fit pid=11343)\u001b[0m \tTrain Epoch: 10 \tTrain_loss: 1.6235 | Train_acc: 46.1932 % | Validation_loss: 1.7806 | Validation_acc: 34.0278 %\u001b[32m [repeated 3x across cluster]\u001b[0m\n",
      "\u001b[36m(launch_and_fit pid=11400)\u001b[0m Run with homomorphic encryption\n",
      "\u001b[36m(launch_and_fit pid=11343)\u001b[0m save graph in  results/FL/\n",
      "\u001b[36m(launch_and_fit pid=11343)\u001b[0m fc3.bias 4.76837158203125e-06\u001b[32m [repeated 8x across cluster]\u001b[0m\n",
      "\u001b[36m(launch_and_fit pid=11343)\u001b[0m qnn.weights 9.5367431640625e-07\n",
      "\u001b[36m(launch_and_fit pid=11400)\u001b[0m [Client 4, round 14] fit, config: {'learning_rate': 0.003, 'batch_size': '16', 'server_round': 14, 'local_epochs': 10}\n",
      "\u001b[36m(launch_and_fit pid=11400)\u001b[0m Updated model\n"
     ]
    },
    {
     "name": "stderr",
     "output_type": "stream",
     "text": [
      "  0%|\u001b[34m          \u001b[0m| 0/10 [00:00<?, ?it/s]\n",
      "100%|\u001b[34m██████████\u001b[0m| 10/10 [00:26<00:00,  2.61s/it]\n"
     ]
    },
    {
     "name": "stdout",
     "output_type": "stream",
     "text": [
      "\u001b[36m(launch_and_fit pid=11400)\u001b[0m \tTrain Epoch: 1 \tTrain_loss: 1.7591 | Train_acc: 36.3636 % | Validation_loss: 1.7218 | Validation_acc: 40.2778 %\n"
     ]
    },
    {
     "name": "stderr",
     "output_type": "stream",
     "text": [
      " 10%|\u001b[34m█         \u001b[0m| 1/10 [00:02<00:25,  2.79s/it]\n"
     ]
    },
    {
     "name": "stdout",
     "output_type": "stream",
     "text": [
      "\u001b[36m(launch_and_fit pid=11402)\u001b[0m Run with homomorphic encryption\n",
      "\u001b[36m(launch_and_fit pid=11402)\u001b[0m [Client 1, round 14] fit, config: {'learning_rate': 0.003, 'batch_size': '16', 'server_round': 14, 'local_epochs': 10}\n",
      "\u001b[36m(launch_and_fit pid=11402)\u001b[0m Updated model\n"
     ]
    },
    {
     "name": "stderr",
     "output_type": "stream",
     "text": [
      "  0%|\u001b[34m          \u001b[0m| 0/10 [00:00<?, ?it/s]\n"
     ]
    },
    {
     "name": "stdout",
     "output_type": "stream",
     "text": [
      "\u001b[36m(launch_and_fit pid=11400)\u001b[0m \tTrain Epoch: 3 \tTrain_loss: 1.7062 | Train_acc: 37.7557 % | Validation_loss: 1.6724 | Validation_acc: 40.2778 %\u001b[32m [repeated 4x across cluster]\u001b[0m\n"
     ]
    },
    {
     "name": "stderr",
     "output_type": "stream",
     "text": [
      " 30%|\u001b[34m███       \u001b[0m| 3/10 [00:08<00:19,  2.72s/it]\u001b[32m [repeated 4x across cluster]\u001b[0m\n"
     ]
    },
    {
     "name": "stdout",
     "output_type": "stream",
     "text": [
      "\u001b[36m(launch_and_fit pid=11400)\u001b[0m \tTrain Epoch: 5 \tTrain_loss: 1.6851 | Train_acc: 41.4773 % | Validation_loss: 1.7233 | Validation_acc: 42.3611 %\u001b[32m [repeated 4x across cluster]\u001b[0m\n"
     ]
    },
    {
     "name": "stderr",
     "output_type": "stream",
     "text": [
      " 50%|\u001b[34m█████     \u001b[0m| 5/10 [00:13<00:13,  2.66s/it]\u001b[32m [repeated 4x across cluster]\u001b[0m\n",
      " 70%|\u001b[34m███████   \u001b[0m| 7/10 [00:18<00:07,  2.58s/it]\u001b[32m [repeated 5x across cluster]\u001b[0m\n"
     ]
    },
    {
     "name": "stdout",
     "output_type": "stream",
     "text": [
      "\u001b[36m(launch_and_fit pid=11402)\u001b[0m \tTrain Epoch: 7 \tTrain_loss: 1.6695 | Train_acc: 40.2273 % | Validation_loss: 1.8494 | Validation_acc: 20.8333 %\u001b[32m [repeated 5x across cluster]\u001b[0m\n"
     ]
    },
    {
     "name": "stderr",
     "output_type": "stream",
     "text": [
      " 90%|\u001b[34m█████████ \u001b[0m| 9/10 [00:23<00:02,  2.64s/it]\u001b[32m [repeated 4x across cluster]\u001b[0m\n"
     ]
    },
    {
     "name": "stdout",
     "output_type": "stream",
     "text": [
      "\u001b[36m(launch_and_fit pid=11402)\u001b[0m \tTrain Epoch: 9 \tTrain_loss: 1.6648 | Train_acc: 40.1136 % | Validation_loss: 1.8304 | Validation_acc: 34.0278 %\u001b[32m [repeated 4x across cluster]\u001b[0m\n",
      "\u001b[36m(launch_and_fit pid=11400)\u001b[0m save graph in  results/FL/\n",
      "\u001b[36m(launch_and_fit pid=11400)\u001b[0m fc1.weight 6.198883056640625e-06\n",
      "\u001b[36m(launch_and_fit pid=11400)\u001b[0m fc1.bias 1.6689300537109375e-06\n",
      "\u001b[36m(launch_and_fit pid=11400)\u001b[0m fc2.weight 1.1920928955078125e-06\n",
      "\u001b[36m(launch_and_fit pid=11400)\u001b[0m fc2.bias 1.1920928955078125e-06\n",
      "\u001b[36m(launch_and_fit pid=11400)\u001b[0m qnn.weights 1.430511474609375e-06\n",
      "\u001b[36m(launch_and_fit pid=11402)\u001b[0m \tTrain Epoch: 10 \tTrain_loss: 1.6516 | Train_acc: 42.7841 % | Validation_loss: 1.8432 | Validation_acc: 31.9444 %\u001b[32m [repeated 2x across cluster]\u001b[0m\n"
     ]
    },
    {
     "name": "stderr",
     "output_type": "stream",
     "text": [
      "ERROR flwr 2024-07-22 10:29:48,408 | ray_client_proxy.py:87 | Task was killed due to the node running low on memory.\n",
      "Memory on the node (IP: 172.19.2.2, ID: dcb7465c1e18f5f0fd3f2a9b1d80ab4a1bc14b88238171cc5f710a6a) where the task (task ID: 9ee795acb9379191e4ece6cae03364d40ea7883101000000, name=launch_and_fit, pid=11402, memory used=2.36GB) was running was 27.57GB / 29.00GB (0.950741), which exceeds the memory usage threshold of 0.95. Ray killed this worker (ID: 859fe2379a056457662805ada4918c407d2e9ef891b4d318e11e9e4b) because it was the most recently scheduled task; to see more information about memory usage on this node, use `ray logs raylet.out -ip 172.19.2.2`. To see the logs of the worker, use `ray logs worker-859fe2379a056457662805ada4918c407d2e9ef891b4d318e11e9e4b*out -ip 172.19.2.2. Top 10 memory users:\n",
      "PID\tMEM(GB)\tCOMMAND\n",
      "24\t15.80\t/opt/conda/bin/python -m ipykernel_launcher -f /tmp/tmposf3yqre.json --HistoryManager.hist_file=:mem...\n",
      "11402\t2.36\tray::launch_and_fit\n",
      "11318\t2.31\tray::IDLE\n",
      "11343\t1.97\tray::IDLE\n",
      "11400\t1.97\tray::IDLE\n",
      "9\t0.10\tpython -c import sys;import papermill as pm;pm.execute_notebook(\"__notebook__.ipynb\",\"__notebook__.i...\n",
      "185\t0.06\t/opt/conda/bin/python /opt/conda/lib/python3.10/site-packages/ray/dashboard/dashboard.py --host=127....\n",
      "250\t0.06\t/opt/conda/bin/python -u /opt/conda/lib/python3.10/site-packages/ray/dashboard/agent.py --node-ip-ad...\n",
      "184\t0.04\t/opt/conda/bin/python -u /opt/conda/lib/python3.10/site-packages/ray/autoscaler/_private/monitor.py ...\n",
      "210\t0.04\t/opt/conda/bin/python -u /opt/conda/lib/python3.10/site-packages/ray/_private/log_monitor.py --sessi...\n",
      "Refer to the documentation on how to address the out of memory issue: https://docs.ray.io/en/latest/ray-core/scheduling/ray-oom-prevention.html. Consider provisioning more memory on this node or reducing task parallelism by requesting more CPUs per task. To adjust the kill threshold, set the environment variable `RAY_memory_usage_threshold` when starting Ray. To disable worker killing, set the environment variable `RAY_memory_monitor_refresh_ms` to zero.\n",
      "DEBUG flwr 2024-07-22 10:29:48,414 | server.py:236 | fit_round 14 received 9 results and 1 failures\n"
     ]
    },
    {
     "name": "stdout",
     "output_type": "stream",
     "text": [
      "Saving round 14 aggregated_parameters...\n"
     ]
    },
    {
     "name": "stderr",
     "output_type": "stream",
     "text": [
      "DEBUG flwr 2024-07-22 10:30:06,625 | server.py:173 | evaluate_round 14: strategy sampled 10 clients (out of 10)\n",
      "\u001b[33m(raylet)\u001b[0m [2024-07-22 10:30:10,027 E 209 209] (raylet) node_manager.cc:3022: 1 Workers (tasks / actors) killed due to memory pressure (OOM), 0 Workers crashed due to other reasons at node (ID: dcb7465c1e18f5f0fd3f2a9b1d80ab4a1bc14b88238171cc5f710a6a, IP: 172.19.2.2) over the last time period. To see more information about the Workers killed on this node, use `ray logs raylet.out -ip 172.19.2.2`\n",
      "\u001b[33m(raylet)\u001b[0m Refer to the documentation on how to address the out of memory issue: https://docs.ray.io/en/latest/ray-core/scheduling/ray-oom-prevention.html. Consider provisioning more memory on this node or reducing task parallelism by requesting more CPUs per task. To adjust the kill threshold, set the environment variable `RAY_memory_usage_threshold` when starting Ray. To disable worker killing, set the environment variable `RAY_memory_monitor_refresh_ms` to zero.\n",
      "\u001b[33m(raylet)\u001b[0m \u001b[32m [repeated 3x across cluster]\u001b[0m\n"
     ]
    },
    {
     "name": "stdout",
     "output_type": "stream",
     "text": [
      "\u001b[36m(launch_and_evaluate pid=11490)\u001b[0m Run with homomorphic encryption\n",
      "\u001b[36m(launch_and_fit pid=11402)\u001b[0m save graph in  results/FL/\n",
      "\u001b[36m(launch_and_fit pid=11402)\u001b[0m fc3.bias 4.0531158447265625e-06\u001b[32m [repeated 8x across cluster]\u001b[0m\n",
      "\u001b[36m(launch_and_fit pid=11402)\u001b[0m qnn.weights 1.430511474609375e-06\n",
      "\u001b[36m(launch_and_evaluate pid=11490)\u001b[0m [Client 1] evaluate, config: {}\n",
      "\u001b[36m(launch_and_evaluate pid=11490)\u001b[0m Updated model\n"
     ]
    },
    {
     "name": "stderr",
     "output_type": "stream",
     "text": [
      "\u001b[36m(launch_and_evaluate pid=11491)\u001b[0m /opt/conda/lib/python3.10/site-packages/sklearn/metrics/_ranking.py:1029: UndefinedMetricWarning: No positive samples in y_true, true positive value should be meaningless\n",
      "\u001b[36m(launch_and_evaluate pid=11491)\u001b[0m   warnings.warn(\n"
     ]
    },
    {
     "name": "stdout",
     "output_type": "stream",
     "text": [
      "\u001b[36m(launch_and_evaluate pid=11567)\u001b[0m Run with homomorphic encryption\u001b[32m [repeated 2x across cluster]\u001b[0m\n",
      "\u001b[36m(launch_and_evaluate pid=11491)\u001b[0m [Client 9] evaluate, config: {}\n",
      "\u001b[36m(launch_and_evaluate pid=11491)\u001b[0m Updated model\n",
      "\u001b[36m(launch_and_evaluate pid=11567)\u001b[0m [Client 6] evaluate, config: {}\n",
      "\u001b[36m(launch_and_evaluate pid=11567)\u001b[0m Updated model\n",
      "\u001b[36m(launch_and_evaluate pid=11645)\u001b[0m Run with homomorphic encryption\u001b[32m [repeated 2x across cluster]\u001b[0m\n",
      "\u001b[36m(launch_and_evaluate pid=11569)\u001b[0m [Client 0] evaluate, config: {}\n",
      "\u001b[36m(launch_and_evaluate pid=11569)\u001b[0m Updated model\n",
      "\u001b[36m(launch_and_evaluate pid=11645)\u001b[0m [Client 8] evaluate, config: {}\n",
      "\u001b[36m(launch_and_evaluate pid=11645)\u001b[0m Updated model\n"
     ]
    },
    {
     "name": "stderr",
     "output_type": "stream",
     "text": [
      "\u001b[36m(launch_and_evaluate pid=11645)\u001b[0m /opt/conda/lib/python3.10/site-packages/sklearn/metrics/_ranking.py:1029: UndefinedMetricWarning: No positive samples in y_true, true positive value should be meaningless\n",
      "\u001b[36m(launch_and_evaluate pid=11645)\u001b[0m   warnings.warn(\n",
      "\u001b[36m(launch_and_evaluate pid=11647)\u001b[0m /opt/conda/lib/python3.10/site-packages/sklearn/metrics/_ranking.py:1029: UndefinedMetricWarning: No positive samples in y_true, true positive value should be meaningless\n",
      "\u001b[36m(launch_and_evaluate pid=11647)\u001b[0m   warnings.warn(\n"
     ]
    },
    {
     "name": "stdout",
     "output_type": "stream",
     "text": [
      "\u001b[36m(launch_and_evaluate pid=11723)\u001b[0m Run with homomorphic encryption\u001b[32m [repeated 2x across cluster]\u001b[0m\n",
      "\u001b[36m(launch_and_evaluate pid=11647)\u001b[0m [Client 4] evaluate, config: {}\n",
      "\u001b[36m(launch_and_evaluate pid=11647)\u001b[0m Updated model\n",
      "\u001b[36m(launch_and_evaluate pid=11723)\u001b[0m [Client 2] evaluate, config: {}\n",
      "\u001b[36m(launch_and_evaluate pid=11723)\u001b[0m Updated model\n",
      "\u001b[36m(launch_and_evaluate pid=11801)\u001b[0m Run with homomorphic encryption\u001b[32m [repeated 2x across cluster]\u001b[0m\n",
      "\u001b[36m(launch_and_evaluate pid=11725)\u001b[0m [Client 7] evaluate, config: {}\n",
      "\u001b[36m(launch_and_evaluate pid=11725)\u001b[0m Updated model\n",
      "\u001b[36m(launch_and_evaluate pid=11801)\u001b[0m [Client 5] evaluate, config: {}\n",
      "\u001b[36m(launch_and_evaluate pid=11801)\u001b[0m Updated model\n"
     ]
    },
    {
     "name": "stderr",
     "output_type": "stream",
     "text": [
      "DEBUG flwr 2024-07-22 10:31:13,889 | server.py:187 | evaluate_round 14 received 10 results and 0 failures\n",
      "DEBUG flwr 2024-07-22 10:31:13,890 | server.py:222 | fit_round 15: strategy sampled 10 clients (out of 10)\n"
     ]
    },
    {
     "name": "stdout",
     "output_type": "stream",
     "text": [
      "\u001b[36m(launch_and_fit pid=11887)\u001b[0m Run with homomorphic encryption\u001b[32m [repeated 2x across cluster]\u001b[0m\n",
      "\u001b[36m(launch_and_evaluate pid=11803)\u001b[0m [Client 3] evaluate, config: {}\n",
      "\u001b[36m(launch_and_evaluate pid=11803)\u001b[0m Updated model\n",
      "\u001b[36m(launch_and_fit pid=11887)\u001b[0m [Client 1, round 15] fit, config: {'learning_rate': 0.003, 'batch_size': '16', 'server_round': 15, 'local_epochs': 10}\n",
      "\u001b[36m(launch_and_fit pid=11887)\u001b[0m Updated model\n"
     ]
    },
    {
     "name": "stderr",
     "output_type": "stream",
     "text": [
      "  0%|\u001b[34m          \u001b[0m| 0/10 [00:00<?, ?it/s]\n",
      " 10%|\u001b[34m█         \u001b[0m| 1/10 [00:02<00:23,  2.65s/it]\n"
     ]
    },
    {
     "name": "stdout",
     "output_type": "stream",
     "text": [
      "\u001b[36m(launch_and_fit pid=11889)\u001b[0m \tTrain Epoch: 1 \tTrain_loss: 1.7232 | Train_acc: 38.5795 % | Validation_loss: 1.5630 | Validation_acc: 53.4722 %\n"
     ]
    },
    {
     "name": "stderr",
     "output_type": "stream",
     "text": [
      "  0%|\u001b[34m          \u001b[0m| 0/10 [00:00<?, ?it/s]\n"
     ]
    },
    {
     "name": "stdout",
     "output_type": "stream",
     "text": [
      "\u001b[36m(launch_and_fit pid=11889)\u001b[0m Run with homomorphic encryption\n",
      "\u001b[36m(launch_and_fit pid=11889)\u001b[0m [Client 7, round 15] fit, config: {'learning_rate': 0.003, 'batch_size': '16', 'server_round': 15, 'local_epochs': 10}\n",
      "\u001b[36m(launch_and_fit pid=11889)\u001b[0m Updated model\n"
     ]
    },
    {
     "name": "stderr",
     "output_type": "stream",
     "text": [
      " 30%|\u001b[34m███       \u001b[0m| 3/10 [00:07<00:18,  2.59s/it]\u001b[32m [repeated 4x across cluster]\u001b[0m\n"
     ]
    },
    {
     "name": "stdout",
     "output_type": "stream",
     "text": [
      "\u001b[36m(launch_and_fit pid=11889)\u001b[0m \tTrain Epoch: 3 \tTrain_loss: 1.6842 | Train_acc: 42.5852 % | Validation_loss: 1.5598 | Validation_acc: 53.4722 %\u001b[32m [repeated 4x across cluster]\u001b[0m\n"
     ]
    },
    {
     "name": "stderr",
     "output_type": "stream",
     "text": [
      " 50%|\u001b[34m█████     \u001b[0m| 5/10 [00:13<00:13,  2.62s/it]\u001b[32m [repeated 4x across cluster]\u001b[0m\n"
     ]
    },
    {
     "name": "stdout",
     "output_type": "stream",
     "text": [
      "\u001b[36m(launch_and_fit pid=11889)\u001b[0m \tTrain Epoch: 5 \tTrain_loss: 1.6458 | Train_acc: 45.2273 % | Validation_loss: 1.5989 | Validation_acc: 49.3056 %\u001b[32m [repeated 4x across cluster]\u001b[0m\n"
     ]
    },
    {
     "name": "stderr",
     "output_type": "stream",
     "text": [
      " 70%|\u001b[34m███████   \u001b[0m| 7/10 [00:18<00:08,  2.73s/it]\u001b[32m [repeated 4x across cluster]\u001b[0m\n"
     ]
    },
    {
     "name": "stdout",
     "output_type": "stream",
     "text": [
      "\u001b[36m(launch_and_fit pid=11889)\u001b[0m \tTrain Epoch: 7 \tTrain_loss: 1.6572 | Train_acc: 47.1023 % | Validation_loss: 1.5697 | Validation_acc: 51.3889 %\u001b[32m [repeated 4x across cluster]\u001b[0m\n"
     ]
    },
    {
     "name": "stderr",
     "output_type": "stream",
     "text": [
      " 90%|\u001b[34m█████████ \u001b[0m| 9/10 [00:23<00:02,  2.66s/it]\u001b[32m [repeated 4x across cluster]\u001b[0m\n"
     ]
    },
    {
     "name": "stdout",
     "output_type": "stream",
     "text": [
      "\u001b[36m(launch_and_fit pid=11889)\u001b[0m \tTrain Epoch: 9 \tTrain_loss: 1.6393 | Train_acc: 47.5852 % | Validation_loss: 1.5805 | Validation_acc: 51.3889 %\u001b[32m [repeated 4x across cluster]\u001b[0m\n",
      "\u001b[36m(launch_and_fit pid=11889)\u001b[0m save graph in  results/FL/\n",
      "\u001b[36m(launch_and_fit pid=11889)\u001b[0m fc1.weight 5.0067901611328125e-06\n",
      "\u001b[36m(launch_and_fit pid=11889)\u001b[0m fc1.bias 1.1920928955078125e-06\n",
      "\u001b[36m(launch_and_fit pid=11889)\u001b[0m fc2.weight 1.1920928955078125e-06\n",
      "\u001b[36m(launch_and_fit pid=11889)\u001b[0m fc2.bias 9.5367431640625e-07\n",
      "\u001b[36m(launch_and_fit pid=11889)\u001b[0m qnn.weights 1.9073486328125e-06\n",
      "\u001b[36m(launch_and_fit pid=11887)\u001b[0m \tTrain Epoch: 10 \tTrain_loss: 1.6677 | Train_acc: 40.7102 % | Validation_loss: 1.8270 | Validation_acc: 34.0278 %\u001b[32m [repeated 3x across cluster]\u001b[0m\n",
      "\u001b[36m(launch_and_fit pid=11887)\u001b[0m save graph in  results/FL/\n",
      "\u001b[36m(launch_and_fit pid=11973)\u001b[0m Run with homomorphic encryption\n",
      "\u001b[36m(launch_and_fit pid=11887)\u001b[0m fc3.bias 3.814697265625e-06\u001b[32m [repeated 8x across cluster]\u001b[0m\n",
      "\u001b[36m(launch_and_fit pid=11887)\u001b[0m qnn.weights 1.430511474609375e-06\n",
      "\u001b[36m(launch_and_fit pid=11973)\u001b[0m [Client 2, round 15] fit, config: {'learning_rate': 0.003, 'batch_size': '16', 'server_round': 15, 'local_epochs': 10}\n",
      "\u001b[36m(launch_and_fit pid=11973)\u001b[0m Updated model\n"
     ]
    },
    {
     "name": "stderr",
     "output_type": "stream",
     "text": [
      "  0%|\u001b[34m          \u001b[0m| 0/10 [00:00<?, ?it/s]\n",
      "100%|\u001b[34m██████████\u001b[0m| 10/10 [00:26<00:00,  2.68s/it]\u001b[32m [repeated 3x across cluster]\u001b[0m\n"
     ]
    },
    {
     "name": "stdout",
     "output_type": "stream",
     "text": [
      "\u001b[36m(launch_and_fit pid=11973)\u001b[0m \tTrain Epoch: 1 \tTrain_loss: 1.6924 | Train_acc: 38.0682 % | Validation_loss: 1.7374 | Validation_acc: 31.9444 %\n",
      "\u001b[36m(launch_and_fit pid=11971)\u001b[0m Run with homomorphic encryption\n",
      "\u001b[36m(launch_and_fit pid=11971)\u001b[0m [Client 0, round 15] fit, config: {'learning_rate': 0.003, 'batch_size': '16', 'server_round': 15, 'local_epochs': 10}\n",
      "\u001b[36m(launch_and_fit pid=11971)\u001b[0m Updated model\n"
     ]
    },
    {
     "name": "stderr",
     "output_type": "stream",
     "text": [
      "  0%|\u001b[34m          \u001b[0m| 0/10 [00:00<?, ?it/s]\n",
      " 20%|\u001b[34m██        \u001b[0m| 2/10 [00:05<00:21,  2.74s/it]\u001b[32m [repeated 3x across cluster]\u001b[0m\n"
     ]
    },
    {
     "name": "stdout",
     "output_type": "stream",
     "text": [
      "\u001b[36m(launch_and_fit pid=11973)\u001b[0m \tTrain Epoch: 3 \tTrain_loss: 1.6434 | Train_acc: 43.4659 % | Validation_loss: 1.7545 | Validation_acc: 29.8611 %\u001b[32m [repeated 4x across cluster]\u001b[0m\n"
     ]
    },
    {
     "name": "stderr",
     "output_type": "stream",
     "text": [
      " 40%|\u001b[34m████      \u001b[0m| 4/10 [00:10<00:15,  2.61s/it]\u001b[32m [repeated 4x across cluster]\u001b[0m\n"
     ]
    },
    {
     "name": "stdout",
     "output_type": "stream",
     "text": [
      "\u001b[36m(launch_and_fit pid=11973)\u001b[0m \tTrain Epoch: 5 \tTrain_loss: 1.6449 | Train_acc: 42.1307 % | Validation_loss: 1.7531 | Validation_acc: 31.9444 %\u001b[32m [repeated 4x across cluster]\u001b[0m\n"
     ]
    },
    {
     "name": "stderr",
     "output_type": "stream",
     "text": [
      " 60%|\u001b[34m██████    \u001b[0m| 6/10 [00:15<00:10,  2.58s/it]\u001b[32m [repeated 4x across cluster]\u001b[0m\n"
     ]
    },
    {
     "name": "stdout",
     "output_type": "stream",
     "text": [
      "\u001b[36m(launch_and_fit pid=11973)\u001b[0m \tTrain Epoch: 7 \tTrain_loss: 1.6340 | Train_acc: 43.3807 % | Validation_loss: 1.7522 | Validation_acc: 31.9444 %\u001b[32m [repeated 4x across cluster]\u001b[0m\n"
     ]
    },
    {
     "name": "stderr",
     "output_type": "stream",
     "text": [
      " 80%|\u001b[34m████████  \u001b[0m| 8/10 [00:20<00:05,  2.56s/it]\u001b[32m [repeated 4x across cluster]\u001b[0m\n"
     ]
    },
    {
     "name": "stdout",
     "output_type": "stream",
     "text": [
      "\u001b[36m(launch_and_fit pid=11971)\u001b[0m \tTrain Epoch: 9 \tTrain_loss: 1.6265 | Train_acc: 46.5341 % | Validation_loss: 1.8558 | Validation_acc: 27.0833 %\u001b[32m [repeated 5x across cluster]\u001b[0m\n",
      "\u001b[36m(launch_and_fit pid=11973)\u001b[0m save graph in  results/FL/\n"
     ]
    },
    {
     "name": "stderr",
     "output_type": "stream",
     "text": [
      "100%|\u001b[34m██████████\u001b[0m| 10/10 [00:26<00:00,  2.61s/it]\u001b[32m [repeated 4x across cluster]\u001b[0m\n"
     ]
    },
    {
     "name": "stdout",
     "output_type": "stream",
     "text": [
      "\u001b[36m(launch_and_fit pid=11973)\u001b[0m fc1.weight 6.67572021484375e-06\n",
      "\u001b[36m(launch_and_fit pid=11973)\u001b[0m fc1.bias 2.1457672119140625e-06\n",
      "\u001b[36m(launch_and_fit pid=11973)\u001b[0m fc2.weight 1.6689300537109375e-06\n",
      "\u001b[36m(launch_and_fit pid=11973)\u001b[0m fc2.bias 1.6689300537109375e-06\n",
      "\u001b[36m(launch_and_fit pid=11973)\u001b[0m qnn.weights 1.1920928955078125e-06\n",
      "\u001b[36m(launch_and_fit pid=11971)\u001b[0m \tTrain Epoch: 10 \tTrain_loss: 1.6175 | Train_acc: 44.9148 % | Validation_loss: 1.8645 | Validation_acc: 29.1667 %\u001b[32m [repeated 2x across cluster]\u001b[0m\n",
      "\u001b[36m(launch_and_fit pid=11971)\u001b[0m save graph in  results/FL/\n",
      "\u001b[36m(launch_and_fit pid=11971)\u001b[0m fc3.bias 6.198883056640625e-06\u001b[32m [repeated 8x across cluster]\u001b[0m\n",
      "\u001b[36m(launch_and_fit pid=12053)\u001b[0m Run with homomorphic encryption\n",
      "\u001b[36m(launch_and_fit pid=11971)\u001b[0m qnn.weights 2.384185791015625e-06\n",
      "\u001b[36m(launch_and_fit pid=12053)\u001b[0m [Client 8, round 15] fit, config: {'learning_rate': 0.003, 'batch_size': '16', 'server_round': 15, 'local_epochs': 10}\n"
     ]
    },
    {
     "name": "stderr",
     "output_type": "stream",
     "text": [
      "  0%|\u001b[34m          \u001b[0m| 0/10 [00:00<?, ?it/s]\n",
      "100%|\u001b[34m██████████\u001b[0m| 10/10 [00:27<00:00,  2.74s/it]\n"
     ]
    },
    {
     "name": "stdout",
     "output_type": "stream",
     "text": [
      "\u001b[36m(launch_and_fit pid=12053)\u001b[0m Updated model\n"
     ]
    },
    {
     "name": "stderr",
     "output_type": "stream",
     "text": [
      " 10%|\u001b[34m█         \u001b[0m| 1/10 [00:02<00:24,  2.73s/it]\n"
     ]
    },
    {
     "name": "stdout",
     "output_type": "stream",
     "text": [
      "\u001b[36m(launch_and_fit pid=12053)\u001b[0m \tTrain Epoch: 1 \tTrain_loss: 1.7298 | Train_acc: 37.4716 % | Validation_loss: 1.8289 | Validation_acc: 22.9167 %\n",
      "\u001b[36m(launch_and_fit pid=12078)\u001b[0m Run with homomorphic encryption\n",
      "\u001b[36m(launch_and_fit pid=12078)\u001b[0m [Client 6, round 15] fit, config: {'learning_rate': 0.003, 'batch_size': '16', 'server_round': 15, 'local_epochs': 10}\n"
     ]
    },
    {
     "name": "stderr",
     "output_type": "stream",
     "text": [
      "  0%|\u001b[34m          \u001b[0m| 0/10 [00:00<?, ?it/s]\n"
     ]
    },
    {
     "name": "stdout",
     "output_type": "stream",
     "text": [
      "\u001b[36m(launch_and_fit pid=12078)\u001b[0m Updated model\n"
     ]
    },
    {
     "name": "stderr",
     "output_type": "stream",
     "text": [
      " 30%|\u001b[34m███       \u001b[0m| 3/10 [00:07<00:18,  2.59s/it]\u001b[32m [repeated 4x across cluster]\u001b[0m\n"
     ]
    },
    {
     "name": "stdout",
     "output_type": "stream",
     "text": [
      "\u001b[36m(launch_and_fit pid=12053)\u001b[0m \tTrain Epoch: 3 \tTrain_loss: 1.6956 | Train_acc: 39.4886 % | Validation_loss: 1.7885 | Validation_acc: 20.8333 %\u001b[32m [repeated 4x across cluster]\u001b[0m\n"
     ]
    },
    {
     "name": "stderr",
     "output_type": "stream",
     "text": [
      " 50%|\u001b[34m█████     \u001b[0m| 5/10 [00:13<00:12,  2.60s/it]\u001b[32m [repeated 4x across cluster]\u001b[0m\n"
     ]
    },
    {
     "name": "stdout",
     "output_type": "stream",
     "text": [
      "\u001b[36m(launch_and_fit pid=12053)\u001b[0m \tTrain Epoch: 5 \tTrain_loss: 1.6811 | Train_acc: 41.9886 % | Validation_loss: 1.8016 | Validation_acc: 22.9167 %\u001b[32m [repeated 4x across cluster]\u001b[0m\n"
     ]
    },
    {
     "name": "stderr",
     "output_type": "stream",
     "text": [
      " 70%|\u001b[34m███████   \u001b[0m| 7/10 [00:18<00:07,  2.63s/it]\u001b[32m [repeated 4x across cluster]\u001b[0m\n"
     ]
    },
    {
     "name": "stdout",
     "output_type": "stream",
     "text": [
      "\u001b[36m(launch_and_fit pid=12053)\u001b[0m \tTrain Epoch: 7 \tTrain_loss: 1.6722 | Train_acc: 40.7102 % | Validation_loss: 1.8433 | Validation_acc: 29.1667 %\u001b[32m [repeated 4x across cluster]\u001b[0m\n"
     ]
    },
    {
     "name": "stderr",
     "output_type": "stream",
     "text": [
      " 90%|\u001b[34m█████████ \u001b[0m| 9/10 [00:23<00:02,  2.63s/it]\u001b[32m [repeated 4x across cluster]\u001b[0m\n"
     ]
    },
    {
     "name": "stdout",
     "output_type": "stream",
     "text": [
      "\u001b[36m(launch_and_fit pid=12053)\u001b[0m \tTrain Epoch: 9 \tTrain_loss: 1.6492 | Train_acc: 45.0568 % | Validation_loss: 1.7838 | Validation_acc: 34.0278 %\u001b[32m [repeated 4x across cluster]\u001b[0m\n",
      "\u001b[36m(launch_and_fit pid=12053)\u001b[0m save graph in  results/FL/\n",
      "\u001b[36m(launch_and_fit pid=12053)\u001b[0m fc1.weight 5.7220458984375e-06\n",
      "\u001b[36m(launch_and_fit pid=12053)\u001b[0m fc1.bias 2.86102294921875e-06\n",
      "\u001b[36m(launch_and_fit pid=12053)\u001b[0m fc2.weight 1.6689300537109375e-06\n",
      "\u001b[36m(launch_and_fit pid=12053)\u001b[0m fc2.bias 1.6689300537109375e-06\n",
      "\u001b[36m(launch_and_fit pid=12078)\u001b[0m \tTrain Epoch: 10 \tTrain_loss: 1.5933 | Train_acc: 48.2102 % | Validation_loss: 1.9525 | Validation_acc: 29.8611 %\u001b[32m [repeated 3x across cluster]\u001b[0m\n",
      "\u001b[36m(launch_and_fit pid=12053)\u001b[0m fc3.weight 2.640848398208618\n",
      "\u001b[36m(launch_and_fit pid=12053)\u001b[0m fc3.bias 4.76837158203125e-06\n",
      "\u001b[36m(launch_and_fit pid=12053)\u001b[0m qnn.weights 1.1920928955078125e-06\n"
     ]
    },
    {
     "name": "stderr",
     "output_type": "stream",
     "text": [
      "100%|\u001b[34m██████████\u001b[0m| 10/10 [00:27<00:00,  2.75s/it]\u001b[32m [repeated 3x across cluster]\u001b[0m\n"
     ]
    },
    {
     "name": "stdout",
     "output_type": "stream",
     "text": [
      "\u001b[36m(launch_and_fit pid=12078)\u001b[0m save graph in  results/FL/\n",
      "\u001b[36m(launch_and_fit pid=12078)\u001b[0m fc3.bias 3.814697265625e-06\u001b[32m [repeated 6x across cluster]\u001b[0m\n",
      "\u001b[36m(launch_and_fit pid=12135)\u001b[0m Run with homomorphic encryption\n",
      "\u001b[36m(launch_and_fit pid=12078)\u001b[0m qnn.weights 1.1920928955078125e-06\n",
      "\u001b[36m(launch_and_fit pid=12135)\u001b[0m [Client 5, round 15] fit, config: {'learning_rate': 0.003, 'batch_size': '16', 'server_round': 15, 'local_epochs': 10}\n"
     ]
    },
    {
     "name": "stderr",
     "output_type": "stream",
     "text": [
      "  0%|\u001b[34m          \u001b[0m| 0/10 [00:00<?, ?it/s]\n"
     ]
    },
    {
     "name": "stdout",
     "output_type": "stream",
     "text": [
      "\u001b[36m(launch_and_fit pid=12135)\u001b[0m Updated model\n"
     ]
    },
    {
     "name": "stderr",
     "output_type": "stream",
     "text": [
      " 10%|\u001b[34m█         \u001b[0m| 1/10 [00:02<00:24,  2.67s/it]\n"
     ]
    },
    {
     "name": "stdout",
     "output_type": "stream",
     "text": [
      "\u001b[36m(launch_and_fit pid=12135)\u001b[0m \tTrain Epoch: 1 \tTrain_loss: 1.7580 | Train_acc: 34.6307 % | Validation_loss: 1.7304 | Validation_acc: 20.8333 %\n",
      "\u001b[36m(launch_and_fit pid=12160)\u001b[0m Run with homomorphic encryption\n"
     ]
    },
    {
     "name": "stderr",
     "output_type": "stream",
     "text": [
      "  0%|\u001b[34m          \u001b[0m| 0/10 [00:00<?, ?it/s]\n"
     ]
    },
    {
     "name": "stdout",
     "output_type": "stream",
     "text": [
      "\u001b[36m(launch_and_fit pid=12160)\u001b[0m [Client 4, round 15] fit, config: {'learning_rate': 0.003, 'batch_size': '16', 'server_round': 15, 'local_epochs': 10}\n",
      "\u001b[36m(launch_and_fit pid=12160)\u001b[0m Updated model\n"
     ]
    },
    {
     "name": "stderr",
     "output_type": "stream",
     "text": [
      " 30%|\u001b[34m███       \u001b[0m| 3/10 [00:08<00:18,  2.70s/it]\u001b[32m [repeated 4x across cluster]\u001b[0m\n"
     ]
    },
    {
     "name": "stdout",
     "output_type": "stream",
     "text": [
      "\u001b[36m(launch_and_fit pid=12135)\u001b[0m \tTrain Epoch: 3 \tTrain_loss: 1.7382 | Train_acc: 35.7102 % | Validation_loss: 1.7365 | Validation_acc: 49.3056 %\u001b[32m [repeated 4x across cluster]\u001b[0m\n"
     ]
    },
    {
     "name": "stderr",
     "output_type": "stream",
     "text": [
      " 50%|\u001b[34m█████     \u001b[0m| 5/10 [00:13<00:12,  2.57s/it]\u001b[32m [repeated 4x across cluster]\u001b[0m\n"
     ]
    },
    {
     "name": "stdout",
     "output_type": "stream",
     "text": [
      "\u001b[36m(launch_and_fit pid=12135)\u001b[0m \tTrain Epoch: 5 \tTrain_loss: 1.7280 | Train_acc: 38.2102 % | Validation_loss: 1.6730 | Validation_acc: 45.1389 %\u001b[32m [repeated 4x across cluster]\u001b[0m\n"
     ]
    },
    {
     "name": "stderr",
     "output_type": "stream",
     "text": [
      " 70%|\u001b[34m███████   \u001b[0m| 7/10 [00:18<00:07,  2.63s/it]\u001b[32m [repeated 4x across cluster]\u001b[0m\n"
     ]
    },
    {
     "name": "stdout",
     "output_type": "stream",
     "text": [
      "\u001b[36m(launch_and_fit pid=12135)\u001b[0m \tTrain Epoch: 7 \tTrain_loss: 1.6977 | Train_acc: 39.9432 % | Validation_loss: 1.6875 | Validation_acc: 49.3056 %\u001b[32m [repeated 4x across cluster]\u001b[0m\n"
     ]
    },
    {
     "name": "stderr",
     "output_type": "stream",
     "text": [
      " 90%|\u001b[34m█████████ \u001b[0m| 9/10 [00:23<00:02,  2.61s/it]\u001b[32m [repeated 4x across cluster]\u001b[0m\n"
     ]
    },
    {
     "name": "stdout",
     "output_type": "stream",
     "text": [
      "\u001b[36m(launch_and_fit pid=12135)\u001b[0m \tTrain Epoch: 9 \tTrain_loss: 1.7048 | Train_acc: 37.9261 % | Validation_loss: 1.6465 | Validation_acc: 47.2222 %\u001b[32m [repeated 4x across cluster]\u001b[0m\n",
      "\u001b[36m(launch_and_fit pid=12135)\u001b[0m save graph in  results/FL/\n",
      "\u001b[36m(launch_and_fit pid=12135)\u001b[0m fc1.weight 5.4836273193359375e-06\n",
      "\u001b[36m(launch_and_fit pid=12135)\u001b[0m fc1.bias 1.1920928955078125e-06\n",
      "\u001b[36m(launch_and_fit pid=12135)\u001b[0m fc2.weight 1.1920928955078125e-06\n",
      "\u001b[36m(launch_and_fit pid=12135)\u001b[0m fc2.bias 9.5367431640625e-07\n",
      "\u001b[36m(launch_and_fit pid=12135)\u001b[0m qnn.weights 1.1920928955078125e-06\n",
      "\u001b[36m(launch_and_fit pid=12160)\u001b[0m \tTrain Epoch: 10 \tTrain_loss: 1.6596 | Train_acc: 41.9886 % | Validation_loss: 1.6905 | Validation_acc: 40.2778 %\u001b[32m [repeated 3x across cluster]\u001b[0m\n",
      "\u001b[36m(launch_and_fit pid=12160)\u001b[0m save graph in  results/FL/\n",
      "\u001b[36m(launch_and_fit pid=12217)\u001b[0m Run with homomorphic encryption\n",
      "\u001b[36m(launch_and_fit pid=12160)\u001b[0m fc3.bias 4.76837158203125e-06\u001b[32m [repeated 8x across cluster]\u001b[0m\n",
      "\u001b[36m(launch_and_fit pid=12160)\u001b[0m qnn.weights 9.5367431640625e-07\n",
      "\u001b[36m(launch_and_fit pid=12217)\u001b[0m [Client 9, round 15] fit, config: {'learning_rate': 0.003, 'batch_size': '16', 'server_round': 15, 'local_epochs': 10}\n"
     ]
    },
    {
     "name": "stderr",
     "output_type": "stream",
     "text": [
      "  0%|\u001b[34m          \u001b[0m| 0/10 [00:00<?, ?it/s]\n",
      "100%|\u001b[34m██████████\u001b[0m| 10/10 [00:26<00:00,  2.68s/it]\u001b[32m [repeated 3x across cluster]\u001b[0m\n"
     ]
    },
    {
     "name": "stdout",
     "output_type": "stream",
     "text": [
      "\u001b[36m(launch_and_fit pid=12217)\u001b[0m Updated model\n",
      "\u001b[36m(launch_and_fit pid=12217)\u001b[0m \tTrain Epoch: 1 \tTrain_loss: 1.6833 | Train_acc: 42.3125 % | Validation_loss: 1.6619 | Validation_acc: 34.0278 %\n",
      "\u001b[36m(launch_and_fit pid=12242)\u001b[0m Run with homomorphic encryption\n"
     ]
    },
    {
     "name": "stderr",
     "output_type": "stream",
     "text": [
      "  0%|\u001b[34m          \u001b[0m| 0/10 [00:00<?, ?it/s]\n",
      " 20%|\u001b[34m██        \u001b[0m| 2/10 [00:05<00:21,  2.72s/it]\u001b[32m [repeated 3x across cluster]\u001b[0m\n"
     ]
    },
    {
     "name": "stdout",
     "output_type": "stream",
     "text": [
      "\u001b[36m(launch_and_fit pid=12242)\u001b[0m [Client 3, round 15] fit, config: {'learning_rate': 0.003, 'batch_size': '16', 'server_round': 15, 'local_epochs': 10}\n",
      "\u001b[36m(launch_and_fit pid=12242)\u001b[0m Updated model\n",
      "\u001b[36m(launch_and_fit pid=12217)\u001b[0m \tTrain Epoch: 3 \tTrain_loss: 1.6550 | Train_acc: 44.8333 % | Validation_loss: 1.6131 | Validation_acc: 51.3889 %\u001b[32m [repeated 4x across cluster]\u001b[0m\n"
     ]
    },
    {
     "name": "stderr",
     "output_type": "stream",
     "text": [
      " 40%|\u001b[34m████      \u001b[0m| 4/10 [00:10<00:15,  2.57s/it]\u001b[32m [repeated 4x across cluster]\u001b[0m\n"
     ]
    },
    {
     "name": "stdout",
     "output_type": "stream",
     "text": [
      "\u001b[36m(launch_and_fit pid=12242)\u001b[0m \tTrain Epoch: 5 \tTrain_loss: 1.6892 | Train_acc: 37.7557 % | Validation_loss: 1.8423 | Validation_acc: 31.9444 %\u001b[32m [repeated 5x across cluster]\u001b[0m\n"
     ]
    },
    {
     "name": "stderr",
     "output_type": "stream",
     "text": [
      " 60%|\u001b[34m██████    \u001b[0m| 6/10 [00:15<00:10,  2.55s/it]\u001b[32m [repeated 4x across cluster]\u001b[0m\n"
     ]
    },
    {
     "name": "stdout",
     "output_type": "stream",
     "text": [
      "\u001b[36m(launch_and_fit pid=12242)\u001b[0m \tTrain Epoch: 7 \tTrain_loss: 1.6884 | Train_acc: 41.3352 % | Validation_loss: 1.8304 | Validation_acc: 31.9444 %\u001b[32m [repeated 4x across cluster]\u001b[0m\n"
     ]
    },
    {
     "name": "stderr",
     "output_type": "stream",
     "text": [
      " 80%|\u001b[34m████████  \u001b[0m| 8/10 [00:21<00:05,  2.69s/it]\u001b[32m [repeated 4x across cluster]\u001b[0m\n"
     ]
    },
    {
     "name": "stdout",
     "output_type": "stream",
     "text": [
      "\u001b[36m(launch_and_fit pid=12242)\u001b[0m \tTrain Epoch: 9 \tTrain_loss: 1.6579 | Train_acc: 44.9432 % | Validation_loss: 1.8403 | Validation_acc: 29.8611 %\u001b[32m [repeated 4x across cluster]\u001b[0m\n"
     ]
    },
    {
     "name": "stderr",
     "output_type": "stream",
     "text": [
      "100%|\u001b[34m██████████\u001b[0m| 10/10 [00:26<00:00,  2.62s/it]\u001b[32m [repeated 4x across cluster]\u001b[0m\n"
     ]
    },
    {
     "name": "stdout",
     "output_type": "stream",
     "text": [
      "\u001b[36m(launch_and_fit pid=12217)\u001b[0m save graph in  results/FL/\n",
      "\u001b[36m(launch_and_fit pid=12217)\u001b[0m fc1.weight 6.198883056640625e-06\n",
      "\u001b[36m(launch_and_fit pid=12217)\u001b[0m fc1.bias 1.0251998901367188e-05\n",
      "\u001b[36m(launch_and_fit pid=12217)\u001b[0m fc2.weight 1.6689300537109375e-06\n",
      "\u001b[36m(launch_and_fit pid=12217)\u001b[0m fc2.bias 1.1920928955078125e-06\n",
      "\u001b[36m(launch_and_fit pid=12217)\u001b[0m qnn.weights 1.9073486328125e-06\n",
      "\u001b[36m(launch_and_fit pid=12242)\u001b[0m \tTrain Epoch: 10 \tTrain_loss: 1.6548 | Train_acc: 42.8977 % | Validation_loss: 1.8607 | Validation_acc: 38.1944 %\u001b[32m [repeated 2x across cluster]\u001b[0m\n",
      "\u001b[36m(launch_and_fit pid=12242)\u001b[0m save graph in  results/FL/\n",
      "\u001b[36m(launch_and_fit pid=12242)\u001b[0m fc3.bias 3.814697265625e-06\u001b[32m [repeated 8x across cluster]\u001b[0m\n"
     ]
    },
    {
     "name": "stderr",
     "output_type": "stream",
     "text": [
      "DEBUG flwr 2024-07-22 10:35:11,119 | server.py:236 | fit_round 15 received 10 results and 0 failures\n"
     ]
    },
    {
     "name": "stdout",
     "output_type": "stream",
     "text": [
      "Saving round 15 aggregated_parameters...\n"
     ]
    },
    {
     "name": "stderr",
     "output_type": "stream",
     "text": [
      "DEBUG flwr 2024-07-22 10:35:31,395 | server.py:173 | evaluate_round 15: strategy sampled 10 clients (out of 10)\n"
     ]
    },
    {
     "name": "stdout",
     "output_type": "stream",
     "text": [
      "\u001b[36m(launch_and_evaluate pid=12308)\u001b[0m Run with homomorphic encryption\n",
      "\u001b[36m(launch_and_fit pid=12242)\u001b[0m qnn.weights 9.5367431640625e-07\n",
      "\u001b[36m(launch_and_evaluate pid=12308)\u001b[0m [Client 3] evaluate, config: {}\n",
      "\u001b[36m(launch_and_evaluate pid=12308)\u001b[0m Updated model\n",
      "\u001b[36m(launch_and_evaluate pid=12386)\u001b[0m Run with homomorphic encryption\u001b[32m [repeated 2x across cluster]\u001b[0m\n",
      "\u001b[36m(launch_and_evaluate pid=12309)\u001b[0m [Client 5] evaluate, config: {}\n",
      "\u001b[36m(launch_and_evaluate pid=12309)\u001b[0m Updated model\n",
      "\u001b[36m(launch_and_evaluate pid=12386)\u001b[0m [Client 2] evaluate, config: {}\n",
      "\u001b[36m(launch_and_evaluate pid=12388)\u001b[0m Updated model\n",
      "\u001b[36m(launch_and_evaluate pid=12464)\u001b[0m Run with homomorphic encryption\u001b[32m [repeated 2x across cluster]\u001b[0m\n",
      "\u001b[36m(launch_and_evaluate pid=12388)\u001b[0m [Client 0] evaluate, config: {}\n",
      "\u001b[36m(launch_and_evaluate pid=12386)\u001b[0m Updated model\n",
      "\u001b[36m(launch_and_evaluate pid=12464)\u001b[0m [Client 7] evaluate, config: {}\n",
      "\u001b[36m(launch_and_evaluate pid=12464)\u001b[0m Updated model\n",
      "\u001b[36m(launch_and_evaluate pid=12543)\u001b[0m Run with homomorphic encryption\u001b[32m [repeated 2x across cluster]\u001b[0m\n",
      "\u001b[36m(launch_and_evaluate pid=12466)\u001b[0m [Client 1] evaluate, config: {}\n",
      "\u001b[36m(launch_and_evaluate pid=12466)\u001b[0m Updated model\n",
      "\u001b[36m(launch_and_evaluate pid=12543)\u001b[0m [Client 8] evaluate, config: {}\n",
      "\u001b[36m(launch_and_evaluate pid=12543)\u001b[0m Updated model\n"
     ]
    },
    {
     "name": "stderr",
     "output_type": "stream",
     "text": [
      "\u001b[36m(launch_and_evaluate pid=12543)\u001b[0m /opt/conda/lib/python3.10/site-packages/sklearn/metrics/_ranking.py:1029: UndefinedMetricWarning: No positive samples in y_true, true positive value should be meaningless\n",
      "\u001b[36m(launch_and_evaluate pid=12543)\u001b[0m   warnings.warn(\n",
      "100%|\u001b[34m██████████\u001b[0m| 10/10 [00:27<00:00,  2.71s/it]\n"
     ]
    },
    {
     "name": "stdout",
     "output_type": "stream",
     "text": [
      "\u001b[36m(launch_and_evaluate pid=12620)\u001b[0m Run with homomorphic encryption\u001b[32m [repeated 2x across cluster]\u001b[0m\n",
      "\u001b[36m(launch_and_evaluate pid=12567)\u001b[0m [Client 9] evaluate, config: {}\n",
      "\u001b[36m(launch_and_evaluate pid=12567)\u001b[0m Updated model\n",
      "\u001b[36m(launch_and_evaluate pid=12620)\u001b[0m [Client 4] evaluate, config: {}\n",
      "\u001b[36m(launch_and_evaluate pid=12620)\u001b[0m Updated model\n"
     ]
    },
    {
     "name": "stderr",
     "output_type": "stream",
     "text": [
      "\u001b[36m(launch_and_evaluate pid=12620)\u001b[0m /opt/conda/lib/python3.10/site-packages/sklearn/metrics/_ranking.py:1029: UndefinedMetricWarning: No positive samples in y_true, true positive value should be meaningless\u001b[32m [repeated 2x across cluster]\u001b[0m\n",
      "\u001b[36m(launch_and_evaluate pid=12620)\u001b[0m   warnings.warn(\u001b[32m [repeated 2x across cluster]\u001b[0m\n",
      "DEBUG flwr 2024-07-22 10:36:39,000 | server.py:187 | evaluate_round 15 received 10 results and 0 failures\n",
      "DEBUG flwr 2024-07-22 10:36:39,001 | server.py:222 | fit_round 16: strategy sampled 10 clients (out of 10)\n"
     ]
    },
    {
     "name": "stdout",
     "output_type": "stream",
     "text": [
      "\u001b[36m(launch_and_fit pid=12707)\u001b[0m Run with homomorphic encryption\u001b[32m [repeated 2x across cluster]\u001b[0m\n",
      "\u001b[36m(launch_and_evaluate pid=12645)\u001b[0m [Client 6] evaluate, config: {}\n",
      "\u001b[36m(launch_and_evaluate pid=12645)\u001b[0m Updated model\n",
      "\u001b[36m(launch_and_fit pid=12707)\u001b[0m [Client 2, round 16] fit, config: {'learning_rate': 0.003, 'batch_size': '16', 'server_round': 16, 'local_epochs': 10}\n",
      "\u001b[36m(launch_and_fit pid=12707)\u001b[0m Updated model\n"
     ]
    },
    {
     "name": "stderr",
     "output_type": "stream",
     "text": [
      "  0%|\u001b[34m          \u001b[0m| 0/10 [00:00<?, ?it/s]\n"
     ]
    },
    {
     "name": "stdout",
     "output_type": "stream",
     "text": [
      "\u001b[36m(launch_and_fit pid=12707)\u001b[0m \tTrain Epoch: 1 \tTrain_loss: 1.6776 | Train_acc: 39.1761 % | Validation_loss: 1.7396 | Validation_acc: 27.7778 %\n"
     ]
    },
    {
     "name": "stderr",
     "output_type": "stream",
     "text": [
      " 10%|\u001b[34m█         \u001b[0m| 1/10 [00:02<00:24,  2.73s/it]\n"
     ]
    },
    {
     "name": "stdout",
     "output_type": "stream",
     "text": [
      "\u001b[36m(launch_and_fit pid=12708)\u001b[0m Run with homomorphic encryption\n",
      "\u001b[36m(launch_and_fit pid=12708)\u001b[0m [Client 4, round 16] fit, config: {'learning_rate': 0.003, 'batch_size': '16', 'server_round': 16, 'local_epochs': 10}\n",
      "\u001b[36m(launch_and_fit pid=12708)\u001b[0m Updated model\n"
     ]
    },
    {
     "name": "stderr",
     "output_type": "stream",
     "text": [
      "  0%|\u001b[34m          \u001b[0m| 0/10 [00:00<?, ?it/s]\n"
     ]
    },
    {
     "name": "stdout",
     "output_type": "stream",
     "text": [
      "\u001b[36m(launch_and_fit pid=12707)\u001b[0m \tTrain Epoch: 3 \tTrain_loss: 1.6445 | Train_acc: 42.5568 % | Validation_loss: 1.7219 | Validation_acc: 31.9444 %\u001b[32m [repeated 4x across cluster]\u001b[0m\n"
     ]
    },
    {
     "name": "stderr",
     "output_type": "stream",
     "text": [
      " 30%|\u001b[34m███       \u001b[0m| 3/10 [00:07<00:17,  2.52s/it]\u001b[32m [repeated 4x across cluster]\u001b[0m\n"
     ]
    },
    {
     "name": "stdout",
     "output_type": "stream",
     "text": [
      "\u001b[36m(launch_and_fit pid=12707)\u001b[0m \tTrain Epoch: 5 \tTrain_loss: 1.6558 | Train_acc: 42.8977 % | Validation_loss: 1.7423 | Validation_acc: 25.6944 %\u001b[32m [repeated 4x across cluster]\u001b[0m\n"
     ]
    },
    {
     "name": "stderr",
     "output_type": "stream",
     "text": [
      " 50%|\u001b[34m█████     \u001b[0m| 5/10 [00:13<00:13,  2.63s/it]\u001b[32m [repeated 4x across cluster]\u001b[0m\n"
     ]
    },
    {
     "name": "stdout",
     "output_type": "stream",
     "text": [
      "\u001b[36m(launch_and_fit pid=12707)\u001b[0m \tTrain Epoch: 7 \tTrain_loss: 1.6237 | Train_acc: 44.1761 % | Validation_loss: 1.7198 | Validation_acc: 36.1111 %\u001b[32m [repeated 4x across cluster]\u001b[0m\n"
     ]
    },
    {
     "name": "stderr",
     "output_type": "stream",
     "text": [
      " 70%|\u001b[34m███████   \u001b[0m| 7/10 [00:18<00:07,  2.59s/it]\u001b[32m [repeated 4x across cluster]\u001b[0m\n"
     ]
    },
    {
     "name": "stdout",
     "output_type": "stream",
     "text": [
      "\u001b[36m(launch_and_fit pid=12707)\u001b[0m \tTrain Epoch: 9 \tTrain_loss: 1.6289 | Train_acc: 47.0739 % | Validation_loss: 1.7423 | Validation_acc: 29.8611 %\u001b[32m [repeated 4x across cluster]\u001b[0m\n"
     ]
    },
    {
     "name": "stderr",
     "output_type": "stream",
     "text": [
      " 90%|\u001b[34m█████████ \u001b[0m| 9/10 [00:23<00:02,  2.54s/it]\u001b[32m [repeated 4x across cluster]\u001b[0m\n"
     ]
    },
    {
     "name": "stdout",
     "output_type": "stream",
     "text": [
      "\u001b[36m(launch_and_fit pid=12707)\u001b[0m save graph in  results/FL/\n",
      "\u001b[36m(launch_and_fit pid=12707)\u001b[0m fc1.weight 5.4836273193359375e-06\n",
      "\u001b[36m(launch_and_fit pid=12707)\u001b[0m fc1.bias 1.1920928955078125e-06\n",
      "\u001b[36m(launch_and_fit pid=12707)\u001b[0m fc2.weight 1.1920928955078125e-06\n",
      "\u001b[36m(launch_and_fit pid=12707)\u001b[0m fc2.bias 1.1920928955078125e-06\n",
      "\u001b[36m(launch_and_fit pid=12707)\u001b[0m qnn.weights 1.1920928955078125e-06\n",
      "\u001b[36m(launch_and_fit pid=12708)\u001b[0m \tTrain Epoch: 10 \tTrain_loss: 1.6404 | Train_acc: 45.3977 % | Validation_loss: 1.6682 | Validation_acc: 46.5278 %\u001b[32m [repeated 3x across cluster]\u001b[0m\n",
      "\u001b[36m(launch_and_fit pid=12789)\u001b[0m Run with homomorphic encryption\n",
      "\u001b[36m(launch_and_fit pid=12708)\u001b[0m save graph in  results/FL/\n",
      "\u001b[36m(launch_and_fit pid=12708)\u001b[0m fc3.bias 4.76837158203125e-06\u001b[32m [repeated 8x across cluster]\u001b[0m\n",
      "\u001b[36m(launch_and_fit pid=12708)\u001b[0m qnn.weights 9.5367431640625e-07\n",
      "\u001b[36m(launch_and_fit pid=12789)\u001b[0m [Client 0, round 16] fit, config: {'learning_rate': 0.003, 'batch_size': '16', 'server_round': 16, 'local_epochs': 10}\n"
     ]
    },
    {
     "name": "stderr",
     "output_type": "stream",
     "text": [
      "  0%|\u001b[34m          \u001b[0m| 0/10 [00:00<?, ?it/s]\n",
      "100%|\u001b[34m██████████\u001b[0m| 10/10 [00:25<00:00,  2.59s/it]\u001b[32m [repeated 3x across cluster]\u001b[0m\n"
     ]
    },
    {
     "name": "stdout",
     "output_type": "stream",
     "text": [
      "\u001b[36m(launch_and_fit pid=12789)\u001b[0m Updated model\n",
      "\u001b[36m(launch_and_fit pid=12789)\u001b[0m \tTrain Epoch: 1 \tTrain_loss: 1.7145 | Train_acc: 39.0057 % | Validation_loss: 1.8385 | Validation_acc: 25.0000 %\n"
     ]
    },
    {
     "name": "stderr",
     "output_type": "stream",
     "text": [
      "  0%|\u001b[34m          \u001b[0m| 0/10 [00:00<?, ?it/s]\n",
      " 20%|\u001b[34m██        \u001b[0m| 2/10 [00:05<00:21,  2.68s/it]\u001b[32m [repeated 3x across cluster]\u001b[0m\n"
     ]
    },
    {
     "name": "stdout",
     "output_type": "stream",
     "text": [
      "\u001b[36m(launch_and_fit pid=12791)\u001b[0m Run with homomorphic encryption\n",
      "\u001b[36m(launch_and_fit pid=12791)\u001b[0m [Client 9, round 16] fit, config: {'learning_rate': 0.003, 'batch_size': '16', 'server_round': 16, 'local_epochs': 10}\n",
      "\u001b[36m(launch_and_fit pid=12791)\u001b[0m Updated model\n",
      "\u001b[36m(launch_and_fit pid=12789)\u001b[0m \tTrain Epoch: 3 \tTrain_loss: 1.6545 | Train_acc: 42.1307 % | Validation_loss: 1.8877 | Validation_acc: 27.0833 %\u001b[32m [repeated 4x across cluster]\u001b[0m\n"
     ]
    },
    {
     "name": "stderr",
     "output_type": "stream",
     "text": [
      " 40%|\u001b[34m████      \u001b[0m| 4/10 [00:10<00:15,  2.62s/it]\u001b[32m [repeated 4x across cluster]\u001b[0m\n"
     ]
    },
    {
     "name": "stdout",
     "output_type": "stream",
     "text": [
      "\u001b[36m(launch_and_fit pid=12789)\u001b[0m \tTrain Epoch: 5 \tTrain_loss: 1.6373 | Train_acc: 43.8636 % | Validation_loss: 1.8773 | Validation_acc: 27.0833 %\u001b[32m [repeated 4x across cluster]\u001b[0m\n"
     ]
    },
    {
     "name": "stderr",
     "output_type": "stream",
     "text": [
      " 60%|\u001b[34m██████    \u001b[0m| 6/10 [00:15<00:10,  2.60s/it]\u001b[32m [repeated 4x across cluster]\u001b[0m\n"
     ]
    },
    {
     "name": "stdout",
     "output_type": "stream",
     "text": [
      "\u001b[36m(launch_and_fit pid=12789)\u001b[0m \tTrain Epoch: 7 \tTrain_loss: 1.6405 | Train_acc: 42.7557 % | Validation_loss: 1.8930 | Validation_acc: 27.0833 %\u001b[32m [repeated 4x across cluster]\u001b[0m\n"
     ]
    },
    {
     "name": "stderr",
     "output_type": "stream",
     "text": [
      " 80%|\u001b[34m████████  \u001b[0m| 8/10 [00:20<00:05,  2.59s/it]\u001b[32m [repeated 4x across cluster]\u001b[0m\n"
     ]
    },
    {
     "name": "stdout",
     "output_type": "stream",
     "text": [
      "\u001b[36m(launch_and_fit pid=12791)\u001b[0m \tTrain Epoch: 9 \tTrain_loss: 1.6218 | Train_acc: 46.7292 % | Validation_loss: 1.6285 | Validation_acc: 36.1111 %\u001b[32m [repeated 5x across cluster]\u001b[0m\n"
     ]
    },
    {
     "name": "stderr",
     "output_type": "stream",
     "text": [
      "100%|\u001b[34m██████████\u001b[0m| 10/10 [00:26<00:00,  2.61s/it]\u001b[32m [repeated 4x across cluster]\u001b[0m\n"
     ]
    },
    {
     "name": "stdout",
     "output_type": "stream",
     "text": [
      "\u001b[36m(launch_and_fit pid=12789)\u001b[0m save graph in  results/FL/\n",
      "\u001b[36m(launch_and_fit pid=12789)\u001b[0m fc1.weight 4.291534423828125e-06\n",
      "\u001b[36m(launch_and_fit pid=12789)\u001b[0m fc1.bias 1.430511474609375e-06\n",
      "\u001b[36m(launch_and_fit pid=12789)\u001b[0m fc2.weight 1.1920928955078125e-06\n",
      "\u001b[36m(launch_and_fit pid=12789)\u001b[0m fc2.bias 9.5367431640625e-07\n",
      "\u001b[36m(launch_and_fit pid=12789)\u001b[0m qnn.weights 1.6689300537109375e-06\n",
      "\u001b[36m(launch_and_fit pid=12791)\u001b[0m \tTrain Epoch: 10 \tTrain_loss: 1.6120 | Train_acc: 47.2708 % | Validation_loss: 1.6213 | Validation_acc: 55.5556 %\u001b[32m [repeated 2x across cluster]\u001b[0m\n",
      "\u001b[36m(launch_and_fit pid=12791)\u001b[0m save graph in  results/FL/\n",
      "\u001b[36m(launch_and_fit pid=12871)\u001b[0m Run with homomorphic encryption\n",
      "\u001b[36m(launch_and_fit pid=12791)\u001b[0m fc3.bias 5.0067901611328125e-06\u001b[32m [repeated 8x across cluster]\u001b[0m\n",
      "\u001b[36m(launch_and_fit pid=12791)\u001b[0m qnn.weights 1.9073486328125e-06\n",
      "\u001b[36m(launch_and_fit pid=12871)\u001b[0m [Client 1, round 16] fit, config: {'learning_rate': 0.003, 'batch_size': '16', 'server_round': 16, 'local_epochs': 10}\n",
      "\u001b[36m(launch_and_fit pid=12871)\u001b[0m Updated model\n"
     ]
    },
    {
     "name": "stderr",
     "output_type": "stream",
     "text": [
      "  0%|\u001b[34m          \u001b[0m| 0/10 [00:00<?, ?it/s]\n",
      "100%|\u001b[34m██████████\u001b[0m| 10/10 [00:25<00:00,  2.58s/it]\n"
     ]
    },
    {
     "name": "stdout",
     "output_type": "stream",
     "text": [
      "\u001b[36m(launch_and_fit pid=12871)\u001b[0m \tTrain Epoch: 1 \tTrain_loss: 1.7340 | Train_acc: 30.8807 % | Validation_loss: 1.8469 | Validation_acc: 36.1111 %\n"
     ]
    },
    {
     "name": "stderr",
     "output_type": "stream",
     "text": [
      " 10%|\u001b[34m█         \u001b[0m| 1/10 [00:02<00:24,  2.68s/it]\n"
     ]
    },
    {
     "name": "stdout",
     "output_type": "stream",
     "text": [
      "\u001b[36m(launch_and_fit pid=12896)\u001b[0m Run with homomorphic encryption\n",
      "\u001b[36m(launch_and_fit pid=12896)\u001b[0m [Client 6, round 16] fit, config: {'learning_rate': 0.003, 'batch_size': '16', 'server_round': 16, 'local_epochs': 10}\n",
      "\u001b[36m(launch_and_fit pid=12896)\u001b[0m Updated model\n"
     ]
    },
    {
     "name": "stderr",
     "output_type": "stream",
     "text": [
      "  0%|\u001b[34m          \u001b[0m| 0/10 [00:00<?, ?it/s]\n"
     ]
    },
    {
     "name": "stdout",
     "output_type": "stream",
     "text": [
      "\u001b[36m(launch_and_fit pid=12871)\u001b[0m \tTrain Epoch: 3 \tTrain_loss: 1.7178 | Train_acc: 34.8011 % | Validation_loss: 1.8728 | Validation_acc: 34.0278 %\u001b[32m [repeated 4x across cluster]\u001b[0m\n"
     ]
    },
    {
     "name": "stderr",
     "output_type": "stream",
     "text": [
      " 30%|\u001b[34m███       \u001b[0m| 3/10 [00:08<00:18,  2.71s/it]\u001b[32m [repeated 4x across cluster]\u001b[0m\n"
     ]
    },
    {
     "name": "stdout",
     "output_type": "stream",
     "text": [
      "\u001b[36m(launch_and_fit pid=12871)\u001b[0m \tTrain Epoch: 5 \tTrain_loss: 1.6837 | Train_acc: 41.9602 % | Validation_loss: 1.8553 | Validation_acc: 36.1111 %\u001b[32m [repeated 4x across cluster]\u001b[0m\n"
     ]
    },
    {
     "name": "stderr",
     "output_type": "stream",
     "text": [
      " 50%|\u001b[34m█████     \u001b[0m| 5/10 [00:13<00:13,  2.65s/it]\u001b[32m [repeated 4x across cluster]\u001b[0m\n"
     ]
    },
    {
     "name": "stdout",
     "output_type": "stream",
     "text": [
      "\u001b[36m(launch_and_fit pid=12871)\u001b[0m \tTrain Epoch: 7 \tTrain_loss: 1.6762 | Train_acc: 40.0568 % | Validation_loss: 1.8376 | Validation_acc: 34.0278 %\u001b[32m [repeated 4x across cluster]\u001b[0m\n"
     ]
    },
    {
     "name": "stderr",
     "output_type": "stream",
     "text": [
      " 70%|\u001b[34m███████   \u001b[0m| 7/10 [00:18<00:07,  2.66s/it]\u001b[32m [repeated 4x across cluster]\u001b[0m\n"
     ]
    },
    {
     "name": "stdout",
     "output_type": "stream",
     "text": [
      "\u001b[36m(launch_and_fit pid=12871)\u001b[0m \tTrain Epoch: 9 \tTrain_loss: 1.6709 | Train_acc: 41.3352 % | Validation_loss: 1.8194 | Validation_acc: 25.0000 %\u001b[32m [repeated 4x across cluster]\u001b[0m\n"
     ]
    },
    {
     "name": "stderr",
     "output_type": "stream",
     "text": [
      " 90%|\u001b[34m█████████ \u001b[0m| 9/10 [00:23<00:02,  2.58s/it]\u001b[32m [repeated 4x across cluster]\u001b[0m\n"
     ]
    },
    {
     "name": "stdout",
     "output_type": "stream",
     "text": [
      "\u001b[36m(launch_and_fit pid=12871)\u001b[0m save graph in  results/FL/\n",
      "\u001b[36m(launch_and_fit pid=12871)\u001b[0m fc1.weight 5.245208740234375e-06\n",
      "\u001b[36m(launch_and_fit pid=12871)\u001b[0m fc1.bias 1.1920928955078125e-06\n",
      "\u001b[36m(launch_and_fit pid=12871)\u001b[0m fc2.weight 1.1920928955078125e-06\n",
      "\u001b[36m(launch_and_fit pid=12871)\u001b[0m fc2.bias 1.430511474609375e-06\n",
      "\u001b[36m(launch_and_fit pid=12871)\u001b[0m qnn.weights 1.1920928955078125e-06\n",
      "\u001b[36m(launch_and_fit pid=12896)\u001b[0m \tTrain Epoch: 10 \tTrain_loss: 1.5905 | Train_acc: 50.2273 % | Validation_loss: 1.7958 | Validation_acc: 31.9444 %\u001b[32m [repeated 3x across cluster]\u001b[0m\n",
      "\u001b[36m(launch_and_fit pid=12953)\u001b[0m Run with homomorphic encryption\n",
      "\u001b[36m(launch_and_fit pid=12896)\u001b[0m save graph in  results/FL/\n",
      "\u001b[36m(launch_and_fit pid=12896)\u001b[0m fc3.bias 4.0531158447265625e-06\u001b[32m [repeated 8x across cluster]\u001b[0m\n",
      "\u001b[36m(launch_and_fit pid=12896)\u001b[0m qnn.weights 9.5367431640625e-07\n",
      "\u001b[36m(launch_and_fit pid=12953)\u001b[0m [Client 8, round 16] fit, config: {'learning_rate': 0.003, 'batch_size': '16', 'server_round': 16, 'local_epochs': 10}\n",
      "\u001b[36m(launch_and_fit pid=12953)\u001b[0m Updated model\n"
     ]
    },
    {
     "name": "stderr",
     "output_type": "stream",
     "text": [
      "  0%|\u001b[34m          \u001b[0m| 0/10 [00:00<?, ?it/s]\n",
      "100%|\u001b[34m██████████\u001b[0m| 10/10 [00:25<00:00,  2.60s/it]\u001b[32m [repeated 3x across cluster]\u001b[0m\n"
     ]
    },
    {
     "name": "stdout",
     "output_type": "stream",
     "text": [
      "\u001b[36m(launch_and_fit pid=12953)\u001b[0m \tTrain Epoch: 1 \tTrain_loss: 1.7146 | Train_acc: 37.9261 % | Validation_loss: 1.7797 | Validation_acc: 20.8333 %\n",
      "\u001b[36m(launch_and_fit pid=12978)\u001b[0m Run with homomorphic encryption\n",
      "\u001b[36m(launch_and_fit pid=12978)\u001b[0m [Client 7, round 16] fit, config: {'learning_rate': 0.003, 'batch_size': '16', 'server_round': 16, 'local_epochs': 10}\n",
      "\u001b[36m(launch_and_fit pid=12978)\u001b[0m Updated model\n"
     ]
    },
    {
     "name": "stderr",
     "output_type": "stream",
     "text": [
      "  0%|\u001b[34m          \u001b[0m| 0/10 [00:00<?, ?it/s]\n",
      " 20%|\u001b[34m██        \u001b[0m| 2/10 [00:05<00:21,  2.70s/it]\u001b[32m [repeated 3x across cluster]\u001b[0m\n"
     ]
    },
    {
     "name": "stdout",
     "output_type": "stream",
     "text": [
      "\u001b[36m(launch_and_fit pid=12953)\u001b[0m \tTrain Epoch: 3 \tTrain_loss: 1.6809 | Train_acc: 41.7898 % | Validation_loss: 1.8045 | Validation_acc: 29.1667 %\u001b[32m [repeated 4x across cluster]\u001b[0m\n"
     ]
    },
    {
     "name": "stderr",
     "output_type": "stream",
     "text": [
      " 40%|\u001b[34m████      \u001b[0m| 4/10 [00:10<00:15,  2.58s/it]\u001b[32m [repeated 4x across cluster]\u001b[0m\n"
     ]
    },
    {
     "name": "stdout",
     "output_type": "stream",
     "text": [
      "\u001b[36m(launch_and_fit pid=12953)\u001b[0m \tTrain Epoch: 5 \tTrain_loss: 1.6701 | Train_acc: 40.8807 % | Validation_loss: 1.7948 | Validation_acc: 22.9167 %\u001b[32m [repeated 4x across cluster]\u001b[0m\n"
     ]
    },
    {
     "name": "stderr",
     "output_type": "stream",
     "text": [
      " 60%|\u001b[34m██████    \u001b[0m| 6/10 [00:15<00:10,  2.61s/it]\u001b[32m [repeated 4x across cluster]\u001b[0m\n"
     ]
    },
    {
     "name": "stdout",
     "output_type": "stream",
     "text": [
      "\u001b[36m(launch_and_fit pid=12953)\u001b[0m \tTrain Epoch: 7 \tTrain_loss: 1.6606 | Train_acc: 40.7102 % | Validation_loss: 1.7870 | Validation_acc: 25.0000 %\u001b[32m [repeated 4x across cluster]\u001b[0m\n"
     ]
    },
    {
     "name": "stderr",
     "output_type": "stream",
     "text": [
      " 80%|\u001b[34m████████  \u001b[0m| 8/10 [00:20<00:05,  2.52s/it]\u001b[32m [repeated 5x across cluster]\u001b[0m\n"
     ]
    },
    {
     "name": "stdout",
     "output_type": "stream",
     "text": [
      "\u001b[36m(launch_and_fit pid=12953)\u001b[0m \tTrain Epoch: 9 \tTrain_loss: 1.6413 | Train_acc: 43.8352 % | Validation_loss: 1.7509 | Validation_acc: 42.3611 %\u001b[32m [repeated 4x across cluster]\u001b[0m\n",
      "\u001b[36m(launch_and_fit pid=12953)\u001b[0m save graph in  results/FL/\n",
      "\u001b[36m(launch_and_fit pid=12953)\u001b[0m fc1.weight 4.76837158203125e-06\n",
      "\u001b[36m(launch_and_fit pid=12953)\u001b[0m fc1.bias 1.1920928955078125e-06\n",
      "\u001b[36m(launch_and_fit pid=12953)\u001b[0m fc2.weight 1.1920928955078125e-06\n",
      "\u001b[36m(launch_and_fit pid=12953)\u001b[0m fc2.bias 7.152557373046875e-07\n"
     ]
    },
    {
     "name": "stderr",
     "output_type": "stream",
     "text": [
      "100%|\u001b[34m██████████\u001b[0m| 10/10 [00:25<00:00,  2.58s/it]\u001b[32m [repeated 4x across cluster]\u001b[0m\n"
     ]
    },
    {
     "name": "stdout",
     "output_type": "stream",
     "text": [
      "\u001b[36m(launch_and_fit pid=12953)\u001b[0m qnn.weights 9.5367431640625e-07\n",
      "\u001b[36m(launch_and_fit pid=12978)\u001b[0m \tTrain Epoch: 10 \tTrain_loss: 1.6322 | Train_acc: 49.7159 % | Validation_loss: 1.6188 | Validation_acc: 51.3889 %\u001b[32m [repeated 3x across cluster]\u001b[0m\n",
      "\u001b[36m(launch_and_fit pid=12978)\u001b[0m save graph in  results/FL/\n",
      "\u001b[36m(launch_and_fit pid=13035)\u001b[0m Run with homomorphic encryption\n",
      "\u001b[36m(launch_and_fit pid=12978)\u001b[0m fc3.bias 5.0067901611328125e-06\u001b[32m [repeated 8x across cluster]\u001b[0m\n",
      "\u001b[36m(launch_and_fit pid=12978)\u001b[0m qnn.weights 9.5367431640625e-07\n",
      "\u001b[36m(launch_and_fit pid=13035)\u001b[0m [Client 3, round 16] fit, config: {'learning_rate': 0.003, 'batch_size': '16', 'server_round': 16, 'local_epochs': 10}\n",
      "\u001b[36m(launch_and_fit pid=13035)\u001b[0m Updated model\n"
     ]
    },
    {
     "name": "stderr",
     "output_type": "stream",
     "text": [
      "  0%|\u001b[34m          \u001b[0m| 0/10 [00:00<?, ?it/s]\n"
     ]
    },
    {
     "name": "stdout",
     "output_type": "stream",
     "text": [
      "\u001b[36m(launch_and_fit pid=13035)\u001b[0m \tTrain Epoch: 1 \tTrain_loss: 1.7527 | Train_acc: 36.3068 % | Validation_loss: 1.7948 | Validation_acc: 36.1111 %\n"
     ]
    },
    {
     "name": "stderr",
     "output_type": "stream",
     "text": [
      " 10%|\u001b[34m█         \u001b[0m| 1/10 [00:02<00:25,  2.82s/it]\n"
     ]
    },
    {
     "name": "stdout",
     "output_type": "stream",
     "text": [
      "\u001b[36m(launch_and_fit pid=13037)\u001b[0m Run with homomorphic encryption\n",
      "\u001b[36m(launch_and_fit pid=13037)\u001b[0m [Client 5, round 16] fit, config: {'learning_rate': 0.003, 'batch_size': '16', 'server_round': 16, 'local_epochs': 10}\n",
      "\u001b[36m(launch_and_fit pid=13037)\u001b[0m Updated model\n"
     ]
    },
    {
     "name": "stderr",
     "output_type": "stream",
     "text": [
      "  0%|\u001b[34m          \u001b[0m| 0/10 [00:00<?, ?it/s]\n"
     ]
    },
    {
     "name": "stdout",
     "output_type": "stream",
     "text": [
      "\u001b[36m(launch_and_fit pid=13035)\u001b[0m \tTrain Epoch: 3 \tTrain_loss: 1.7136 | Train_acc: 37.5852 % | Validation_loss: 1.7928 | Validation_acc: 34.0278 %\u001b[32m [repeated 4x across cluster]\u001b[0m\n"
     ]
    },
    {
     "name": "stderr",
     "output_type": "stream",
     "text": [
      " 30%|\u001b[34m███       \u001b[0m| 3/10 [00:07<00:17,  2.57s/it]\u001b[32m [repeated 4x across cluster]\u001b[0m\n"
     ]
    },
    {
     "name": "stdout",
     "output_type": "stream",
     "text": [
      "\u001b[36m(launch_and_fit pid=13035)\u001b[0m \tTrain Epoch: 5 \tTrain_loss: 1.6893 | Train_acc: 41.1932 % | Validation_loss: 1.8187 | Validation_acc: 40.2778 %\u001b[32m [repeated 4x across cluster]\u001b[0m\n"
     ]
    },
    {
     "name": "stderr",
     "output_type": "stream",
     "text": [
      " 50%|\u001b[34m█████     \u001b[0m| 5/10 [00:13<00:12,  2.59s/it]\u001b[32m [repeated 4x across cluster]\u001b[0m\n"
     ]
    },
    {
     "name": "stdout",
     "output_type": "stream",
     "text": [
      "\u001b[36m(launch_and_fit pid=13035)\u001b[0m \tTrain Epoch: 7 \tTrain_loss: 1.6760 | Train_acc: 43.2670 % | Validation_loss: 1.7890 | Validation_acc: 34.0278 %\u001b[32m [repeated 4x across cluster]\u001b[0m\n"
     ]
    },
    {
     "name": "stderr",
     "output_type": "stream",
     "text": [
      " 70%|\u001b[34m███████   \u001b[0m| 7/10 [00:18<00:07,  2.58s/it]\u001b[32m [repeated 4x across cluster]\u001b[0m\n"
     ]
    },
    {
     "name": "stdout",
     "output_type": "stream",
     "text": [
      "\u001b[36m(launch_and_fit pid=13035)\u001b[0m \tTrain Epoch: 9 \tTrain_loss: 1.6708 | Train_acc: 42.5852 % | Validation_loss: 1.7833 | Validation_acc: 36.1111 %\u001b[32m [repeated 4x across cluster]\u001b[0m\n"
     ]
    },
    {
     "name": "stderr",
     "output_type": "stream",
     "text": [
      " 90%|\u001b[34m█████████ \u001b[0m| 9/10 [00:23<00:02,  2.54s/it]\u001b[32m [repeated 4x across cluster]\u001b[0m\n"
     ]
    },
    {
     "name": "stdout",
     "output_type": "stream",
     "text": [
      "\u001b[36m(launch_and_fit pid=13035)\u001b[0m save graph in  results/FL/\n",
      "\u001b[36m(launch_and_fit pid=13035)\u001b[0m fc1.weight 5.0067901611328125e-06\n",
      "\u001b[36m(launch_and_fit pid=13035)\u001b[0m fc1.bias 1.6689300537109375e-06\n",
      "\u001b[36m(launch_and_fit pid=13035)\u001b[0m fc2.weight 1.6689300537109375e-06\n",
      "\u001b[36m(launch_and_fit pid=13035)\u001b[0m fc2.bias 1.430511474609375e-06\n",
      "\u001b[36m(launch_and_fit pid=13035)\u001b[0m qnn.weights 1.430511474609375e-06\n",
      "\u001b[36m(launch_and_fit pid=13037)\u001b[0m \tTrain Epoch: 10 \tTrain_loss: 1.7267 | Train_acc: 36.7045 % | Validation_loss: 1.6848 | Validation_acc: 57.6389 %\u001b[32m [repeated 3x across cluster]\u001b[0m\n"
     ]
    },
    {
     "name": "stderr",
     "output_type": "stream",
     "text": [
      "DEBUG flwr 2024-07-22 10:40:34,753 | server.py:236 | fit_round 16 received 10 results and 0 failures\n"
     ]
    },
    {
     "name": "stdout",
     "output_type": "stream",
     "text": [
      "Saving round 16 aggregated_parameters...\n"
     ]
    },
    {
     "name": "stderr",
     "output_type": "stream",
     "text": [
      "DEBUG flwr 2024-07-22 10:40:54,767 | server.py:173 | evaluate_round 16: strategy sampled 10 clients (out of 10)\n"
     ]
    },
    {
     "name": "stdout",
     "output_type": "stream",
     "text": [
      "\u001b[36m(launch_and_evaluate pid=13126)\u001b[0m Run with homomorphic encryption\n",
      "\u001b[36m(launch_and_fit pid=13037)\u001b[0m save graph in  results/FL/\n",
      "\u001b[36m(launch_and_fit pid=13037)\u001b[0m fc3.bias 4.291534423828125e-06\u001b[32m [repeated 8x across cluster]\u001b[0m\n",
      "\u001b[36m(launch_and_fit pid=13037)\u001b[0m qnn.weights 1.1920928955078125e-06\n",
      "\u001b[36m(launch_and_evaluate pid=13126)\u001b[0m [Client 7] evaluate, config: {}\n",
      "\u001b[36m(launch_and_evaluate pid=13126)\u001b[0m Updated model\n",
      "\u001b[36m(launch_and_evaluate pid=13204)\u001b[0m Run with homomorphic encryption\u001b[32m [repeated 2x across cluster]\u001b[0m\n",
      "\u001b[36m(launch_and_evaluate pid=13127)\u001b[0m [Client 3] evaluate, config: {}\n",
      "\u001b[36m(launch_and_evaluate pid=13127)\u001b[0m Updated model\n",
      "\u001b[36m(launch_and_evaluate pid=13204)\u001b[0m [Client 4] evaluate, config: {}\n",
      "\u001b[36m(launch_and_evaluate pid=13204)\u001b[0m Updated model\n"
     ]
    },
    {
     "name": "stderr",
     "output_type": "stream",
     "text": [
      "\u001b[36m(launch_and_evaluate pid=13204)\u001b[0m /opt/conda/lib/python3.10/site-packages/sklearn/metrics/_ranking.py:1029: UndefinedMetricWarning: No positive samples in y_true, true positive value should be meaningless\n",
      "\u001b[36m(launch_and_evaluate pid=13204)\u001b[0m   warnings.warn(\n",
      "100%|\u001b[34m██████████\u001b[0m| 10/10 [00:26<00:00,  2.67s/it]\u001b[32m [repeated 3x across cluster]\u001b[0m\n"
     ]
    },
    {
     "name": "stdout",
     "output_type": "stream",
     "text": [
      "\u001b[36m(launch_and_evaluate pid=13284)\u001b[0m Run with homomorphic encryption\u001b[32m [repeated 2x across cluster]\u001b[0m\n",
      "\u001b[36m(launch_and_evaluate pid=13206)\u001b[0m [Client 8] evaluate, config: {}\n",
      "\u001b[36m(launch_and_evaluate pid=13206)\u001b[0m Updated model\n",
      "\u001b[36m(launch_and_evaluate pid=13284)\u001b[0m [Client 2] evaluate, config: {}\n",
      "\u001b[36m(launch_and_evaluate pid=13284)\u001b[0m Updated model\n"
     ]
    },
    {
     "name": "stderr",
     "output_type": "stream",
     "text": [
      "\u001b[36m(launch_and_evaluate pid=13282)\u001b[0m /opt/conda/lib/python3.10/site-packages/sklearn/metrics/_ranking.py:1029: UndefinedMetricWarning: No positive samples in y_true, true positive value should be meaningless\u001b[32m [repeated 2x across cluster]\u001b[0m\n",
      "\u001b[36m(launch_and_evaluate pid=13282)\u001b[0m   warnings.warn(\u001b[32m [repeated 2x across cluster]\u001b[0m\n"
     ]
    },
    {
     "name": "stdout",
     "output_type": "stream",
     "text": [
      "\u001b[36m(launch_and_evaluate pid=13360)\u001b[0m Run with homomorphic encryption\u001b[32m [repeated 2x across cluster]\u001b[0m\n",
      "\u001b[36m(launch_and_evaluate pid=13282)\u001b[0m [Client 9] evaluate, config: {}\n",
      "\u001b[36m(launch_and_evaluate pid=13282)\u001b[0m Updated model\n",
      "\u001b[36m(launch_and_evaluate pid=13360)\u001b[0m [Client 5] evaluate, config: {}\n",
      "\u001b[36m(launch_and_evaluate pid=13360)\u001b[0m Updated model\n",
      "\u001b[36m(launch_and_evaluate pid=13438)\u001b[0m Run with homomorphic encryption\u001b[32m [repeated 2x across cluster]\u001b[0m\n",
      "\u001b[36m(launch_and_evaluate pid=13362)\u001b[0m [Client 1] evaluate, config: {}\n",
      "\u001b[36m(launch_and_evaluate pid=13362)\u001b[0m Updated model\n",
      "\u001b[36m(launch_and_evaluate pid=13438)\u001b[0m [Client 0] evaluate, config: {}\n",
      "\u001b[36m(launch_and_evaluate pid=13438)\u001b[0m Updated model\n"
     ]
    },
    {
     "name": "stderr",
     "output_type": "stream",
     "text": [
      "DEBUG flwr 2024-07-22 10:42:01,594 | server.py:187 | evaluate_round 16 received 10 results and 0 failures\n",
      "DEBUG flwr 2024-07-22 10:42:01,595 | server.py:222 | fit_round 17: strategy sampled 10 clients (out of 10)\n"
     ]
    },
    {
     "name": "stdout",
     "output_type": "stream",
     "text": [
      "\u001b[36m(launch_and_fit pid=13525)\u001b[0m Run with homomorphic encryption\u001b[32m [repeated 2x across cluster]\u001b[0m\n",
      "\u001b[36m(launch_and_evaluate pid=13440)\u001b[0m [Client 6] evaluate, config: {}\n",
      "\u001b[36m(launch_and_evaluate pid=13440)\u001b[0m Updated model\n",
      "\u001b[36m(launch_and_fit pid=13525)\u001b[0m [Client 4, round 17] fit, config: {'learning_rate': 0.003, 'batch_size': '16', 'server_round': 17, 'local_epochs': 10}\n",
      "\u001b[36m(launch_and_fit pid=13525)\u001b[0m Updated model\n"
     ]
    },
    {
     "name": "stderr",
     "output_type": "stream",
     "text": [
      "  0%|\u001b[34m          \u001b[0m| 0/10 [00:00<?, ?it/s]\n"
     ]
    },
    {
     "name": "stdout",
     "output_type": "stream",
     "text": [
      "\u001b[36m(launch_and_fit pid=13525)\u001b[0m \tTrain Epoch: 1 \tTrain_loss: 1.7038 | Train_acc: 42.7841 % | Validation_loss: 1.6543 | Validation_acc: 46.5278 %\n"
     ]
    },
    {
     "name": "stderr",
     "output_type": "stream",
     "text": [
      " 10%|\u001b[34m█         \u001b[0m| 1/10 [00:02<00:24,  2.72s/it]\n"
     ]
    },
    {
     "name": "stdout",
     "output_type": "stream",
     "text": [
      "\u001b[36m(launch_and_fit pid=13526)\u001b[0m Run with homomorphic encryption\n",
      "\u001b[36m(launch_and_fit pid=13526)\u001b[0m [Client 1, round 17] fit, config: {'learning_rate': 0.003, 'batch_size': '16', 'server_round': 17, 'local_epochs': 10}\n",
      "\u001b[36m(launch_and_fit pid=13526)\u001b[0m Updated model\n"
     ]
    },
    {
     "name": "stderr",
     "output_type": "stream",
     "text": [
      "  0%|\u001b[34m          \u001b[0m| 0/10 [00:00<?, ?it/s]\n"
     ]
    },
    {
     "name": "stdout",
     "output_type": "stream",
     "text": [
      "\u001b[36m(launch_and_fit pid=13525)\u001b[0m \tTrain Epoch: 3 \tTrain_loss: 1.6702 | Train_acc: 41.5341 % | Validation_loss: 1.6295 | Validation_acc: 44.4444 %\u001b[32m [repeated 4x across cluster]\u001b[0m\n"
     ]
    },
    {
     "name": "stderr",
     "output_type": "stream",
     "text": [
      " 30%|\u001b[34m███       \u001b[0m| 3/10 [00:07<00:18,  2.63s/it]\u001b[32m [repeated 4x across cluster]\u001b[0m\n"
     ]
    },
    {
     "name": "stdout",
     "output_type": "stream",
     "text": [
      "\u001b[36m(launch_and_fit pid=13525)\u001b[0m \tTrain Epoch: 5 \tTrain_loss: 1.6650 | Train_acc: 43.3807 % | Validation_loss: 1.6313 | Validation_acc: 44.4444 %\u001b[32m [repeated 4x across cluster]\u001b[0m\n"
     ]
    },
    {
     "name": "stderr",
     "output_type": "stream",
     "text": [
      " 50%|\u001b[34m█████     \u001b[0m| 5/10 [00:13<00:13,  2.64s/it]\u001b[32m [repeated 4x across cluster]\u001b[0m\n"
     ]
    },
    {
     "name": "stdout",
     "output_type": "stream",
     "text": [
      "\u001b[36m(launch_and_fit pid=13525)\u001b[0m \tTrain Epoch: 7 \tTrain_loss: 1.6582 | Train_acc: 45.4261 % | Validation_loss: 1.6670 | Validation_acc: 42.3611 %\u001b[32m [repeated 4x across cluster]\u001b[0m\n"
     ]
    },
    {
     "name": "stderr",
     "output_type": "stream",
     "text": [
      " 70%|\u001b[34m███████   \u001b[0m| 7/10 [00:18<00:07,  2.61s/it]\u001b[32m [repeated 4x across cluster]\u001b[0m\n"
     ]
    },
    {
     "name": "stdout",
     "output_type": "stream",
     "text": [
      "\u001b[36m(launch_and_fit pid=13526)\u001b[0m \tTrain Epoch: 9 \tTrain_loss: 1.6543 | Train_acc: 42.8977 % | Validation_loss: 1.8260 | Validation_acc: 31.9444 %\u001b[32m [repeated 4x across cluster]\u001b[0m\n"
     ]
    },
    {
     "name": "stderr",
     "output_type": "stream",
     "text": [
      " 90%|\u001b[34m█████████ \u001b[0m| 9/10 [00:23<00:02,  2.57s/it]\u001b[32m [repeated 4x across cluster]\u001b[0m\n"
     ]
    },
    {
     "name": "stdout",
     "output_type": "stream",
     "text": [
      "\u001b[36m(launch_and_fit pid=13526)\u001b[0m save graph in  results/FL/\n",
      "\u001b[36m(launch_and_fit pid=13526)\u001b[0m fc1.weight 4.76837158203125e-06\n",
      "\u001b[36m(launch_and_fit pid=13526)\u001b[0m fc1.bias 1.430511474609375e-06\n",
      "\u001b[36m(launch_and_fit pid=13526)\u001b[0m fc2.weight 1.1920928955078125e-06\n",
      "\u001b[36m(launch_and_fit pid=13526)\u001b[0m fc2.bias 9.5367431640625e-07\n",
      "\u001b[36m(launch_and_fit pid=13526)\u001b[0m qnn.weights 1.6689300537109375e-06\n",
      "\u001b[36m(launch_and_fit pid=13525)\u001b[0m \tTrain Epoch: 10 \tTrain_loss: 1.6444 | Train_acc: 46.1364 % | Validation_loss: 1.6709 | Validation_acc: 42.3611 %\u001b[32m [repeated 3x across cluster]\u001b[0m\n",
      "\u001b[36m(launch_and_fit pid=13606)\u001b[0m Run with homomorphic encryption\n",
      "\u001b[36m(launch_and_fit pid=13525)\u001b[0m save graph in  results/FL/\n",
      "\u001b[36m(launch_and_fit pid=13525)\u001b[0m fc3.bias 3.5762786865234375e-06\u001b[32m [repeated 8x across cluster]\u001b[0m\n",
      "\u001b[36m(launch_and_fit pid=13525)\u001b[0m qnn.weights 9.5367431640625e-07\n",
      "\u001b[36m(launch_and_fit pid=13606)\u001b[0m [Client 5, round 17] fit, config: {'learning_rate': 0.003, 'batch_size': '16', 'server_round': 17, 'local_epochs': 10}\n",
      "\u001b[36m(launch_and_fit pid=13608)\u001b[0m Updated model\n"
     ]
    },
    {
     "name": "stderr",
     "output_type": "stream",
     "text": [
      "  0%|\u001b[34m          \u001b[0m| 0/10 [00:00<?, ?it/s]\n",
      "100%|\u001b[34m██████████\u001b[0m| 10/10 [00:26<00:00,  2.63s/it]\u001b[32m [repeated 3x across cluster]\u001b[0m\n"
     ]
    },
    {
     "name": "stdout",
     "output_type": "stream",
     "text": [
      "\u001b[36m(launch_and_fit pid=13606)\u001b[0m \tTrain Epoch: 1 \tTrain_loss: 1.7685 | Train_acc: 28.8636 % | Validation_loss: 1.6833 | Validation_acc: 53.4722 %\n"
     ]
    },
    {
     "name": "stderr",
     "output_type": "stream",
     "text": [
      "  0%|\u001b[34m          \u001b[0m| 0/10 [00:00<?, ?it/s]\n",
      " 20%|\u001b[34m██        \u001b[0m| 2/10 [00:05<00:21,  2.63s/it]\u001b[32m [repeated 3x across cluster]\u001b[0m\n"
     ]
    },
    {
     "name": "stdout",
     "output_type": "stream",
     "text": [
      "\u001b[36m(launch_and_fit pid=13608)\u001b[0m Run with homomorphic encryption\n",
      "\u001b[36m(launch_and_fit pid=13608)\u001b[0m [Client 2, round 17] fit, config: {'learning_rate': 0.003, 'batch_size': '16', 'server_round': 17, 'local_epochs': 10}\n",
      "\u001b[36m(launch_and_fit pid=13606)\u001b[0m Updated model\n",
      "\u001b[36m(launch_and_fit pid=13606)\u001b[0m \tTrain Epoch: 3 \tTrain_loss: 1.7048 | Train_acc: 38.5227 % | Validation_loss: 1.6992 | Validation_acc: 25.0000 %\u001b[32m [repeated 4x across cluster]\u001b[0m\n"
     ]
    },
    {
     "name": "stderr",
     "output_type": "stream",
     "text": [
      " 40%|\u001b[34m████      \u001b[0m| 4/10 [00:10<00:15,  2.60s/it]\u001b[32m [repeated 4x across cluster]\u001b[0m\n"
     ]
    },
    {
     "name": "stdout",
     "output_type": "stream",
     "text": [
      "\u001b[36m(launch_and_fit pid=13606)\u001b[0m \tTrain Epoch: 5 \tTrain_loss: 1.7021 | Train_acc: 38.5511 % | Validation_loss: 1.7222 | Validation_acc: 40.2778 %\u001b[32m [repeated 4x across cluster]\u001b[0m\n"
     ]
    },
    {
     "name": "stderr",
     "output_type": "stream",
     "text": [
      " 60%|\u001b[34m██████    \u001b[0m| 6/10 [00:15<00:10,  2.57s/it]\u001b[32m [repeated 4x across cluster]\u001b[0m\n"
     ]
    },
    {
     "name": "stdout",
     "output_type": "stream",
     "text": [
      "\u001b[36m(launch_and_fit pid=13608)\u001b[0m \tTrain Epoch: 7 \tTrain_loss: 1.6178 | Train_acc: 47.4432 % | Validation_loss: 1.7346 | Validation_acc: 38.8889 %\u001b[32m [repeated 5x across cluster]\u001b[0m\n"
     ]
    },
    {
     "name": "stderr",
     "output_type": "stream",
     "text": [
      " 80%|\u001b[34m████████  \u001b[0m| 8/10 [00:20<00:05,  2.56s/it]\u001b[32m [repeated 4x across cluster]\u001b[0m\n"
     ]
    },
    {
     "name": "stdout",
     "output_type": "stream",
     "text": [
      "\u001b[36m(launch_and_fit pid=13606)\u001b[0m \tTrain Epoch: 9 \tTrain_loss: 1.6943 | Train_acc: 37.7557 % | Validation_loss: 1.6642 | Validation_acc: 45.1389 %\u001b[32m [repeated 3x across cluster]\u001b[0m\n"
     ]
    },
    {
     "name": "stderr",
     "output_type": "stream",
     "text": [
      "100%|\u001b[34m██████████\u001b[0m| 10/10 [00:26<00:00,  2.63s/it]\u001b[32m [repeated 4x across cluster]\u001b[0m\n"
     ]
    },
    {
     "name": "stdout",
     "output_type": "stream",
     "text": [
      "\u001b[36m(launch_and_fit pid=13606)\u001b[0m save graph in  results/FL/\n",
      "\u001b[36m(launch_and_fit pid=13606)\u001b[0m fc1.weight 4.76837158203125e-06\n",
      "\u001b[36m(launch_and_fit pid=13606)\u001b[0m fc1.bias 1.6689300537109375e-06\n",
      "\u001b[36m(launch_and_fit pid=13606)\u001b[0m fc2.weight 1.6689300537109375e-06\n",
      "\u001b[36m(launch_and_fit pid=13606)\u001b[0m fc2.bias 1.1920928955078125e-06\n",
      "\u001b[36m(launch_and_fit pid=13606)\u001b[0m qnn.weights 1.1920928955078125e-06\n",
      "\u001b[36m(launch_and_fit pid=13608)\u001b[0m \tTrain Epoch: 10 \tTrain_loss: 1.6098 | Train_acc: 46.4773 % | Validation_loss: 1.7458 | Validation_acc: 31.9444 %\u001b[32m [repeated 3x across cluster]\u001b[0m\n",
      "\u001b[36m(launch_and_fit pid=13688)\u001b[0m Run with homomorphic encryption\n",
      "\u001b[36m(launch_and_fit pid=13608)\u001b[0m save graph in  results/FL/\n",
      "\u001b[36m(launch_and_fit pid=13608)\u001b[0m fc3.bias 3.814697265625e-06\u001b[32m [repeated 8x across cluster]\u001b[0m\n",
      "\u001b[36m(launch_and_fit pid=13608)\u001b[0m qnn.weights 9.5367431640625e-07\n",
      "\u001b[36m(launch_and_fit pid=13688)\u001b[0m [Client 0, round 17] fit, config: {'learning_rate': 0.003, 'batch_size': '16', 'server_round': 17, 'local_epochs': 10}\n",
      "\u001b[36m(launch_and_fit pid=13688)\u001b[0m Updated model\n"
     ]
    },
    {
     "name": "stderr",
     "output_type": "stream",
     "text": [
      "  0%|\u001b[34m          \u001b[0m| 0/10 [00:00<?, ?it/s]\n",
      "100%|\u001b[34m██████████\u001b[0m| 10/10 [00:26<00:00,  2.65s/it]\n"
     ]
    },
    {
     "name": "stdout",
     "output_type": "stream",
     "text": [
      "\u001b[36m(launch_and_fit pid=13688)\u001b[0m \tTrain Epoch: 1 \tTrain_loss: 1.6866 | Train_acc: 43.2386 % | Validation_loss: 1.8581 | Validation_acc: 25.0000 %\n"
     ]
    },
    {
     "name": "stderr",
     "output_type": "stream",
     "text": [
      " 10%|\u001b[34m█         \u001b[0m| 1/10 [00:02<00:25,  2.81s/it]\n"
     ]
    },
    {
     "name": "stdout",
     "output_type": "stream",
     "text": [
      "\u001b[36m(launch_and_fit pid=13690)\u001b[0m Run with homomorphic encryption\n",
      "\u001b[36m(launch_and_fit pid=13690)\u001b[0m [Client 7, round 17] fit, config: {'learning_rate': 0.003, 'batch_size': '16', 'server_round': 17, 'local_epochs': 10}\n",
      "\u001b[36m(launch_and_fit pid=13690)\u001b[0m Updated model\n"
     ]
    },
    {
     "name": "stderr",
     "output_type": "stream",
     "text": [
      "  0%|\u001b[34m          \u001b[0m| 0/10 [00:00<?, ?it/s]\n"
     ]
    },
    {
     "name": "stdout",
     "output_type": "stream",
     "text": [
      "\u001b[36m(launch_and_fit pid=13688)\u001b[0m \tTrain Epoch: 3 \tTrain_loss: 1.6548 | Train_acc: 43.3523 % | Validation_loss: 1.8436 | Validation_acc: 29.1667 %\u001b[32m [repeated 4x across cluster]\u001b[0m\n"
     ]
    },
    {
     "name": "stderr",
     "output_type": "stream",
     "text": [
      " 30%|\u001b[34m███       \u001b[0m| 3/10 [00:08<00:19,  2.82s/it]\u001b[32m [repeated 4x across cluster]\u001b[0m\n"
     ]
    },
    {
     "name": "stdout",
     "output_type": "stream",
     "text": [
      "\u001b[36m(launch_and_fit pid=13688)\u001b[0m \tTrain Epoch: 5 \tTrain_loss: 1.6382 | Train_acc: 44.0341 % | Validation_loss: 1.8168 | Validation_acc: 29.1667 %\u001b[32m [repeated 4x across cluster]\u001b[0m\n"
     ]
    },
    {
     "name": "stderr",
     "output_type": "stream",
     "text": [
      " 50%|\u001b[34m█████     \u001b[0m| 5/10 [00:13<00:13,  2.63s/it]\u001b[32m [repeated 4x across cluster]\u001b[0m\n"
     ]
    },
    {
     "name": "stdout",
     "output_type": "stream",
     "text": [
      "\u001b[36m(launch_and_fit pid=13688)\u001b[0m \tTrain Epoch: 7 \tTrain_loss: 1.6279 | Train_acc: 45.7386 % | Validation_loss: 1.8435 | Validation_acc: 27.0833 %\u001b[32m [repeated 4x across cluster]\u001b[0m\n"
     ]
    },
    {
     "name": "stderr",
     "output_type": "stream",
     "text": [
      " 70%|\u001b[34m███████   \u001b[0m| 7/10 [00:18<00:07,  2.61s/it]\u001b[32m [repeated 4x across cluster]\u001b[0m\n"
     ]
    },
    {
     "name": "stdout",
     "output_type": "stream",
     "text": [
      "\u001b[36m(launch_and_fit pid=13688)\u001b[0m save graph in  results/FL/\n",
      "\u001b[36m(launch_and_fit pid=13688)\u001b[0m \tTrain Epoch: 10 \tTrain_loss: 1.6144 | Train_acc: 46.0511 % | Validation_loss: 1.8759 | Validation_acc: 29.1667 %\u001b[32m [repeated 6x across cluster]\u001b[0m\n"
     ]
    },
    {
     "name": "stderr",
     "output_type": "stream",
     "text": [
      "100%|\u001b[34m██████████\u001b[0m| 10/10 [00:26<00:00,  2.62s/it]\u001b[32m [repeated 6x across cluster]\u001b[0m\n"
     ]
    },
    {
     "name": "stdout",
     "output_type": "stream",
     "text": [
      "\u001b[36m(launch_and_fit pid=13688)\u001b[0m fc1.weight 5.0067901611328125e-06\n",
      "\u001b[36m(launch_and_fit pid=13688)\u001b[0m fc1.bias 1.430511474609375e-06\n",
      "\u001b[36m(launch_and_fit pid=13688)\u001b[0m fc2.weight 1.1920928955078125e-06\n",
      "\u001b[36m(launch_and_fit pid=13688)\u001b[0m fc2.bias 1.1920928955078125e-06\n",
      "\u001b[36m(launch_and_fit pid=13688)\u001b[0m qnn.weights 1.1920928955078125e-06\n",
      "\u001b[36m(launch_and_fit pid=13770)\u001b[0m Run with homomorphic encryption\n",
      "\u001b[36m(launch_and_fit pid=13690)\u001b[0m save graph in  results/FL/\n",
      "\u001b[36m(launch_and_fit pid=13690)\u001b[0m \tTrain Epoch: 10 \tTrain_loss: 1.6429 | Train_acc: 46.9602 % | Validation_loss: 1.5749 | Validation_acc: 51.3889 %\n",
      "\u001b[36m(launch_and_fit pid=13690)\u001b[0m fc3.bias 4.0531158447265625e-06\u001b[32m [repeated 8x across cluster]\u001b[0m\n",
      "\u001b[36m(launch_and_fit pid=13690)\u001b[0m qnn.weights 9.5367431640625e-07\n",
      "\u001b[36m(launch_and_fit pid=13770)\u001b[0m [Client 8, round 17] fit, config: {'learning_rate': 0.003, 'batch_size': '16', 'server_round': 17, 'local_epochs': 10}\n",
      "\u001b[36m(launch_and_fit pid=13770)\u001b[0m Updated model\n"
     ]
    },
    {
     "name": "stderr",
     "output_type": "stream",
     "text": [
      "  0%|\u001b[34m          \u001b[0m| 0/10 [00:00<?, ?it/s]\n",
      "100%|\u001b[34m██████████\u001b[0m| 10/10 [00:26<00:00,  2.60s/it]\n"
     ]
    },
    {
     "name": "stdout",
     "output_type": "stream",
     "text": [
      "\u001b[36m(launch_and_fit pid=13770)\u001b[0m \tTrain Epoch: 1 \tTrain_loss: 1.7283 | Train_acc: 37.4716 % | Validation_loss: 1.8235 | Validation_acc: 22.9167 %\n"
     ]
    },
    {
     "name": "stderr",
     "output_type": "stream",
     "text": [
      " 10%|\u001b[34m█         \u001b[0m| 1/10 [00:02<00:25,  2.87s/it]\n"
     ]
    },
    {
     "name": "stdout",
     "output_type": "stream",
     "text": [
      "\u001b[36m(launch_and_fit pid=13772)\u001b[0m Run with homomorphic encryption\n",
      "\u001b[36m(launch_and_fit pid=13772)\u001b[0m [Client 9, round 17] fit, config: {'learning_rate': 0.003, 'batch_size': '16', 'server_round': 17, 'local_epochs': 10}\n",
      "\u001b[36m(launch_and_fit pid=13772)\u001b[0m Updated model\n"
     ]
    },
    {
     "name": "stderr",
     "output_type": "stream",
     "text": [
      "  0%|\u001b[34m          \u001b[0m| 0/10 [00:00<?, ?it/s]\n"
     ]
    },
    {
     "name": "stdout",
     "output_type": "stream",
     "text": [
      "\u001b[36m(launch_and_fit pid=13770)\u001b[0m \tTrain Epoch: 3 \tTrain_loss: 1.6831 | Train_acc: 38.4943 % | Validation_loss: 1.7764 | Validation_acc: 20.8333 %\u001b[32m [repeated 4x across cluster]\u001b[0m\n"
     ]
    },
    {
     "name": "stderr",
     "output_type": "stream",
     "text": [
      " 30%|\u001b[34m███       \u001b[0m| 3/10 [00:08<00:19,  2.73s/it]\u001b[32m [repeated 4x across cluster]\u001b[0m\n"
     ]
    },
    {
     "name": "stdout",
     "output_type": "stream",
     "text": [
      "\u001b[36m(launch_and_fit pid=13770)\u001b[0m \tTrain Epoch: 5 \tTrain_loss: 1.6570 | Train_acc: 44.1477 % | Validation_loss: 1.7744 | Validation_acc: 25.0000 %\u001b[32m [repeated 4x across cluster]\u001b[0m\n"
     ]
    },
    {
     "name": "stderr",
     "output_type": "stream",
     "text": [
      " 50%|\u001b[34m█████     \u001b[0m| 5/10 [00:13<00:13,  2.63s/it]\u001b[32m [repeated 4x across cluster]\u001b[0m\n"
     ]
    },
    {
     "name": "stdout",
     "output_type": "stream",
     "text": [
      "\u001b[36m(launch_and_fit pid=13770)\u001b[0m \tTrain Epoch: 7 \tTrain_loss: 1.6472 | Train_acc: 43.3523 % | Validation_loss: 1.7723 | Validation_acc: 27.0833 %\u001b[32m [repeated 4x across cluster]\u001b[0m\n"
     ]
    },
    {
     "name": "stderr",
     "output_type": "stream",
     "text": [
      " 70%|\u001b[34m███████   \u001b[0m| 7/10 [00:18<00:08,  2.67s/it]\u001b[32m [repeated 4x across cluster]\u001b[0m\n"
     ]
    },
    {
     "name": "stdout",
     "output_type": "stream",
     "text": [
      "\u001b[36m(launch_and_fit pid=13770)\u001b[0m \tTrain Epoch: 9 \tTrain_loss: 1.6282 | Train_acc: 47.2727 % | Validation_loss: 1.7650 | Validation_acc: 40.2778 %\u001b[32m [repeated 4x across cluster]\u001b[0m\n"
     ]
    },
    {
     "name": "stderr",
     "output_type": "stream",
     "text": [
      " 90%|\u001b[34m█████████ \u001b[0m| 9/10 [00:24<00:02,  2.73s/it]\u001b[32m [repeated 4x across cluster]\u001b[0m\n"
     ]
    },
    {
     "name": "stdout",
     "output_type": "stream",
     "text": [
      "\u001b[36m(launch_and_fit pid=13770)\u001b[0m save graph in  results/FL/\n",
      "\u001b[36m(launch_and_fit pid=13770)\u001b[0m fc1.weight 5.0067901611328125e-06\n",
      "\u001b[36m(launch_and_fit pid=13770)\u001b[0m fc1.bias 1.1920928955078125e-06\n",
      "\u001b[36m(launch_and_fit pid=13770)\u001b[0m fc2.weight 1.1920928955078125e-06\n",
      "\u001b[36m(launch_and_fit pid=13770)\u001b[0m fc2.bias 9.5367431640625e-07\n",
      "\u001b[36m(launch_and_fit pid=13770)\u001b[0m qnn.weights 9.5367431640625e-07\n",
      "\u001b[36m(launch_and_fit pid=13772)\u001b[0m \tTrain Epoch: 10 \tTrain_loss: 1.6282 | Train_acc: 47.9792 % | Validation_loss: 1.6298 | Validation_acc: 36.1111 %\u001b[32m [repeated 3x across cluster]\u001b[0m\n",
      "\u001b[36m(launch_and_fit pid=13852)\u001b[0m Run with homomorphic encryption\n",
      "\u001b[36m(launch_and_fit pid=13772)\u001b[0m save graph in  results/FL/\n",
      "\u001b[36m(launch_and_fit pid=13772)\u001b[0m fc3.bias 3.0994415283203125e-06\u001b[32m [repeated 8x across cluster]\u001b[0m\n",
      "\u001b[36m(launch_and_fit pid=13772)\u001b[0m qnn.weights 9.5367431640625e-07\n",
      "\u001b[36m(launch_and_fit pid=13852)\u001b[0m [Client 3, round 17] fit, config: {'learning_rate': 0.003, 'batch_size': '16', 'server_round': 17, 'local_epochs': 10}\n"
     ]
    },
    {
     "name": "stderr",
     "output_type": "stream",
     "text": [
      "  0%|\u001b[34m          \u001b[0m| 0/10 [00:00<?, ?it/s]\n",
      "100%|\u001b[34m██████████\u001b[0m| 10/10 [00:26<00:00,  2.67s/it]\u001b[32m [repeated 3x across cluster]\u001b[0m\n"
     ]
    },
    {
     "name": "stdout",
     "output_type": "stream",
     "text": [
      "\u001b[36m(launch_and_fit pid=13852)\u001b[0m Updated model\n",
      "\u001b[36m(launch_and_fit pid=13852)\u001b[0m \tTrain Epoch: 1 \tTrain_loss: 1.7622 | Train_acc: 34.6307 % | Validation_loss: 1.7276 | Validation_acc: 38.1944 %\n"
     ]
    },
    {
     "name": "stderr",
     "output_type": "stream",
     "text": [
      "  0%|\u001b[34m          \u001b[0m| 0/10 [00:00<?, ?it/s]\n",
      " 20%|\u001b[34m██        \u001b[0m| 2/10 [00:05<00:22,  2.85s/it]\u001b[32m [repeated 3x across cluster]\u001b[0m\n"
     ]
    },
    {
     "name": "stdout",
     "output_type": "stream",
     "text": [
      "\u001b[36m(launch_and_fit pid=13854)\u001b[0m Run with homomorphic encryption\n",
      "\u001b[36m(launch_and_fit pid=13854)\u001b[0m [Client 6, round 17] fit, config: {'learning_rate': 0.003, 'batch_size': '16', 'server_round': 17, 'local_epochs': 10}\n",
      "\u001b[36m(launch_and_fit pid=13854)\u001b[0m Updated model\n",
      "\u001b[36m(launch_and_fit pid=13852)\u001b[0m \tTrain Epoch: 3 \tTrain_loss: 1.6956 | Train_acc: 39.3182 % | Validation_loss: 1.7436 | Validation_acc: 36.1111 %\u001b[32m [repeated 4x across cluster]\u001b[0m\n"
     ]
    },
    {
     "name": "stderr",
     "output_type": "stream",
     "text": [
      " 40%|\u001b[34m████      \u001b[0m| 4/10 [00:10<00:15,  2.66s/it]\u001b[32m [repeated 4x across cluster]\u001b[0m\n"
     ]
    },
    {
     "name": "stdout",
     "output_type": "stream",
     "text": [
      "\u001b[36m(launch_and_fit pid=13852)\u001b[0m \tTrain Epoch: 5 \tTrain_loss: 1.6786 | Train_acc: 41.9886 % | Validation_loss: 1.7310 | Validation_acc: 38.1944 %\u001b[32m [repeated 4x across cluster]\u001b[0m\n"
     ]
    },
    {
     "name": "stderr",
     "output_type": "stream",
     "text": [
      " 60%|\u001b[34m██████    \u001b[0m| 6/10 [00:16<00:10,  2.66s/it]\u001b[32m [repeated 4x across cluster]\u001b[0m\n"
     ]
    },
    {
     "name": "stdout",
     "output_type": "stream",
     "text": [
      "\u001b[36m(launch_and_fit pid=13852)\u001b[0m \tTrain Epoch: 7 \tTrain_loss: 1.6620 | Train_acc: 46.3352 % | Validation_loss: 1.7839 | Validation_acc: 40.2778 %\u001b[32m [repeated 4x across cluster]\u001b[0m\n"
     ]
    },
    {
     "name": "stderr",
     "output_type": "stream",
     "text": [
      " 80%|\u001b[34m████████  \u001b[0m| 8/10 [00:21<00:05,  2.66s/it]\u001b[32m [repeated 4x across cluster]\u001b[0m\n"
     ]
    },
    {
     "name": "stdout",
     "output_type": "stream",
     "text": [
      "\u001b[36m(launch_and_fit pid=13854)\u001b[0m \tTrain Epoch: 9 \tTrain_loss: 1.6027 | Train_acc: 48.0398 % | Validation_loss: 1.8046 | Validation_acc: 29.8611 %\u001b[32m [repeated 4x across cluster]\u001b[0m\n",
      "\u001b[36m(launch_and_fit pid=13854)\u001b[0m save graph in  results/FL/\n"
     ]
    },
    {
     "name": "stderr",
     "output_type": "stream",
     "text": [
      "100%|\u001b[34m██████████\u001b[0m| 10/10 [00:26<00:00,  2.60s/it]\u001b[32m [repeated 4x across cluster]\u001b[0m\n"
     ]
    },
    {
     "name": "stdout",
     "output_type": "stream",
     "text": [
      "\u001b[36m(launch_and_fit pid=13854)\u001b[0m fc1.weight 5.245208740234375e-06\n",
      "\u001b[36m(launch_and_fit pid=13854)\u001b[0m fc1.bias 1.430511474609375e-06\n",
      "\u001b[36m(launch_and_fit pid=13854)\u001b[0m fc2.weight 1.1920928955078125e-06\n",
      "\u001b[36m(launch_and_fit pid=13854)\u001b[0m fc2.bias 9.5367431640625e-07\n",
      "\u001b[36m(launch_and_fit pid=13854)\u001b[0m qnn.weights 1.1920928955078125e-06\n",
      "\u001b[36m(launch_and_fit pid=13852)\u001b[0m \tTrain Epoch: 10 \tTrain_loss: 1.6528 | Train_acc: 45.7102 % | Validation_loss: 1.7840 | Validation_acc: 40.2778 %\u001b[32m [repeated 3x across cluster]\u001b[0m\n"
     ]
    },
    {
     "name": "stderr",
     "output_type": "stream",
     "text": [
      "DEBUG flwr 2024-07-22 10:45:59,813 | server.py:236 | fit_round 17 received 10 results and 0 failures\n",
      "\u001b[33m(raylet)\u001b[0m [2024-07-22 10:46:10,071 E 209 209] (raylet) node_manager.cc:3022: 1 Workers (tasks / actors) killed due to memory pressure (OOM), 0 Workers crashed due to other reasons at node (ID: dcb7465c1e18f5f0fd3f2a9b1d80ab4a1bc14b88238171cc5f710a6a, IP: 172.19.2.2) over the last time period. To see more information about the Workers killed on this node, use `ray logs raylet.out -ip 172.19.2.2`\n",
      "\u001b[33m(raylet)\u001b[0m Refer to the documentation on how to address the out of memory issue: https://docs.ray.io/en/latest/ray-core/scheduling/ray-oom-prevention.html. Consider provisioning more memory on this node or reducing task parallelism by requesting more CPUs per task. To adjust the kill threshold, set the environment variable `RAY_memory_usage_threshold` when starting Ray. To disable worker killing, set the environment variable `RAY_memory_monitor_refresh_ms` to zero.\n",
      "\u001b[33m(raylet)\u001b[0m \u001b[32m [repeated 2x across cluster]\u001b[0m\n"
     ]
    },
    {
     "name": "stdout",
     "output_type": "stream",
     "text": [
      "Saving round 17 aggregated_parameters...\n"
     ]
    },
    {
     "name": "stderr",
     "output_type": "stream",
     "text": [
      "DEBUG flwr 2024-07-22 10:46:20,349 | server.py:173 | evaluate_round 17: strategy sampled 10 clients (out of 10)\n"
     ]
    },
    {
     "name": "stdout",
     "output_type": "stream",
     "text": [
      "\u001b[36m(launch_and_evaluate pid=13943)\u001b[0m Run with homomorphic encryption\n",
      "\u001b[36m(launch_and_fit pid=13852)\u001b[0m save graph in  results/FL/\n",
      "\u001b[36m(launch_and_fit pid=13852)\u001b[0m fc3.bias 5.0067901611328125e-06\u001b[32m [repeated 8x across cluster]\u001b[0m\n",
      "\u001b[36m(launch_and_fit pid=13852)\u001b[0m qnn.weights 2.384185791015625e-06\n",
      "\u001b[36m(launch_and_evaluate pid=13943)\u001b[0m [Client 3] evaluate, config: {}\n",
      "\u001b[36m(launch_and_evaluate pid=13943)\u001b[0m Updated model\n"
     ]
    },
    {
     "name": "stderr",
     "output_type": "stream",
     "text": [
      "\u001b[36m(launch_and_evaluate pid=13944)\u001b[0m /opt/conda/lib/python3.10/site-packages/sklearn/metrics/_ranking.py:1029: UndefinedMetricWarning: No positive samples in y_true, true positive value should be meaningless\n",
      "\u001b[36m(launch_and_evaluate pid=13944)\u001b[0m   warnings.warn(\n"
     ]
    },
    {
     "name": "stdout",
     "output_type": "stream",
     "text": [
      "\u001b[36m(launch_and_evaluate pid=14020)\u001b[0m Run with homomorphic encryption\u001b[32m [repeated 2x across cluster]\u001b[0m\n",
      "\u001b[36m(launch_and_evaluate pid=13944)\u001b[0m [Client 4] evaluate, config: {}\n",
      "\u001b[36m(launch_and_evaluate pid=13944)\u001b[0m Updated model\n",
      "\u001b[36m(launch_and_evaluate pid=14020)\u001b[0m [Client 8] evaluate, config: {}\n",
      "\u001b[36m(launch_and_evaluate pid=14020)\u001b[0m Updated model\n"
     ]
    },
    {
     "name": "stderr",
     "output_type": "stream",
     "text": [
      "\u001b[36m(launch_and_evaluate pid=14020)\u001b[0m /opt/conda/lib/python3.10/site-packages/sklearn/metrics/_ranking.py:1029: UndefinedMetricWarning: No positive samples in y_true, true positive value should be meaningless\n",
      "\u001b[36m(launch_and_evaluate pid=14020)\u001b[0m   warnings.warn(\n"
     ]
    },
    {
     "name": "stdout",
     "output_type": "stream",
     "text": [
      "\u001b[36m(launch_and_evaluate pid=14100)\u001b[0m Run with homomorphic encryption\u001b[32m [repeated 2x across cluster]\u001b[0m\n",
      "\u001b[36m(launch_and_evaluate pid=14022)\u001b[0m [Client 1] evaluate, config: {}\n",
      "\u001b[36m(launch_and_evaluate pid=14022)\u001b[0m Updated model\n",
      "\u001b[36m(launch_and_evaluate pid=14100)\u001b[0m [Client 7] evaluate, config: {}\n",
      "\u001b[36m(launch_and_evaluate pid=14100)\u001b[0m Updated model\n",
      "\u001b[36m(launch_and_evaluate pid=14176)\u001b[0m Run with homomorphic encryption\u001b[32m [repeated 2x across cluster]\u001b[0m\n",
      "\u001b[36m(launch_and_evaluate pid=14098)\u001b[0m [Client 2] evaluate, config: {}\n",
      "\u001b[36m(launch_and_evaluate pid=14098)\u001b[0m Updated model\n",
      "\u001b[36m(launch_and_evaluate pid=14178)\u001b[0m [Client 5] evaluate, config: {}\n",
      "\u001b[36m(launch_and_evaluate pid=14178)\u001b[0m Updated model\n",
      "\u001b[36m(launch_and_evaluate pid=14254)\u001b[0m Run with homomorphic encryption\u001b[32m [repeated 2x across cluster]\u001b[0m\n",
      "\u001b[36m(launch_and_evaluate pid=14176)\u001b[0m [Client 0] evaluate, config: {}\n",
      "\u001b[36m(launch_and_evaluate pid=14176)\u001b[0m Updated model\n",
      "\u001b[36m(launch_and_evaluate pid=14256)\u001b[0m [Client 6] evaluate, config: {}\n",
      "\u001b[36m(launch_and_evaluate pid=14254)\u001b[0m Updated model\n"
     ]
    },
    {
     "name": "stderr",
     "output_type": "stream",
     "text": [
      "\u001b[36m(launch_and_evaluate pid=14254)\u001b[0m /opt/conda/lib/python3.10/site-packages/sklearn/metrics/_ranking.py:1029: UndefinedMetricWarning: No positive samples in y_true, true positive value should be meaningless\n",
      "\u001b[36m(launch_and_evaluate pid=14254)\u001b[0m   warnings.warn(\n",
      "DEBUG flwr 2024-07-22 10:47:27,114 | server.py:187 | evaluate_round 17 received 10 results and 0 failures\n",
      "DEBUG flwr 2024-07-22 10:47:27,115 | server.py:222 | fit_round 18: strategy sampled 10 clients (out of 10)\n"
     ]
    },
    {
     "name": "stdout",
     "output_type": "stream",
     "text": [
      "\u001b[36m(launch_and_fit pid=14342)\u001b[0m Run with homomorphic encryption\u001b[32m [repeated 2x across cluster]\u001b[0m\n",
      "\u001b[36m(launch_and_evaluate pid=14254)\u001b[0m [Client 9] evaluate, config: {}\n",
      "\u001b[36m(launch_and_evaluate pid=14256)\u001b[0m Updated model\n",
      "\u001b[36m(launch_and_fit pid=14342)\u001b[0m [Client 1, round 18] fit, config: {'learning_rate': 0.003, 'batch_size': '16', 'server_round': 18, 'local_epochs': 10}\n",
      "\u001b[36m(launch_and_fit pid=14342)\u001b[0m Updated model\n"
     ]
    },
    {
     "name": "stderr",
     "output_type": "stream",
     "text": [
      "  0%|\u001b[34m          \u001b[0m| 0/10 [00:00<?, ?it/s]\n"
     ]
    },
    {
     "name": "stdout",
     "output_type": "stream",
     "text": [
      "\u001b[36m(launch_and_fit pid=14342)\u001b[0m \tTrain Epoch: 1 \tTrain_loss: 1.7445 | Train_acc: 34.6307 % | Validation_loss: 1.8390 | Validation_acc: 36.1111 %\n"
     ]
    },
    {
     "name": "stderr",
     "output_type": "stream",
     "text": [
      " 10%|\u001b[34m█         \u001b[0m| 1/10 [00:03<00:27,  3.06s/it]\n"
     ]
    },
    {
     "name": "stdout",
     "output_type": "stream",
     "text": [
      "\u001b[36m(launch_and_fit pid=14341)\u001b[0m Run with homomorphic encryption\n",
      "\u001b[36m(launch_and_fit pid=14341)\u001b[0m [Client 2, round 18] fit, config: {'learning_rate': 0.003, 'batch_size': '16', 'server_round': 18, 'local_epochs': 10}\n",
      "\u001b[36m(launch_and_fit pid=14341)\u001b[0m Updated model\n"
     ]
    },
    {
     "name": "stderr",
     "output_type": "stream",
     "text": [
      "  0%|\u001b[34m          \u001b[0m| 0/10 [00:00<?, ?it/s]\n"
     ]
    },
    {
     "name": "stdout",
     "output_type": "stream",
     "text": [
      "\u001b[36m(launch_and_fit pid=14342)\u001b[0m \tTrain Epoch: 3 \tTrain_loss: 1.6950 | Train_acc: 39.0057 % | Validation_loss: 1.7938 | Validation_acc: 36.1111 %\u001b[32m [repeated 4x across cluster]\u001b[0m\n"
     ]
    },
    {
     "name": "stderr",
     "output_type": "stream",
     "text": [
      " 30%|\u001b[34m███       \u001b[0m| 3/10 [00:08<00:19,  2.86s/it]\u001b[32m [repeated 4x across cluster]\u001b[0m\n"
     ]
    },
    {
     "name": "stdout",
     "output_type": "stream",
     "text": [
      "\u001b[36m(launch_and_fit pid=14342)\u001b[0m \tTrain Epoch: 5 \tTrain_loss: 1.6628 | Train_acc: 41.5057 % | Validation_loss: 1.8418 | Validation_acc: 36.1111 %\u001b[32m [repeated 4x across cluster]\u001b[0m\n"
     ]
    },
    {
     "name": "stderr",
     "output_type": "stream",
     "text": [
      " 50%|\u001b[34m█████     \u001b[0m| 5/10 [00:13<00:13,  2.65s/it]\u001b[32m [repeated 4x across cluster]\u001b[0m\n"
     ]
    },
    {
     "name": "stdout",
     "output_type": "stream",
     "text": [
      "\u001b[36m(launch_and_fit pid=14342)\u001b[0m \tTrain Epoch: 7 \tTrain_loss: 1.6458 | Train_acc: 45.0852 % | Validation_loss: 1.8438 | Validation_acc: 36.1111 %\u001b[32m [repeated 4x across cluster]\u001b[0m\n"
     ]
    },
    {
     "name": "stderr",
     "output_type": "stream",
     "text": [
      " 70%|\u001b[34m███████   \u001b[0m| 7/10 [00:18<00:07,  2.61s/it]\u001b[32m [repeated 4x across cluster]\u001b[0m\n"
     ]
    },
    {
     "name": "stdout",
     "output_type": "stream",
     "text": [
      "\u001b[36m(launch_and_fit pid=14342)\u001b[0m \tTrain Epoch: 9 \tTrain_loss: 1.6277 | Train_acc: 46.3068 % | Validation_loss: 1.8337 | Validation_acc: 36.1111 %\u001b[32m [repeated 4x across cluster]\u001b[0m\n"
     ]
    },
    {
     "name": "stderr",
     "output_type": "stream",
     "text": [
      " 90%|\u001b[34m█████████ \u001b[0m| 9/10 [00:23<00:02,  2.59s/it]\u001b[32m [repeated 4x across cluster]\u001b[0m\n"
     ]
    },
    {
     "name": "stdout",
     "output_type": "stream",
     "text": [
      "\u001b[36m(launch_and_fit pid=14341)\u001b[0m save graph in  results/FL/\n",
      "\u001b[36m(launch_and_fit pid=14341)\u001b[0m fc1.weight 5.245208740234375e-06\n",
      "\u001b[36m(launch_and_fit pid=14341)\u001b[0m fc1.bias 1.6689300537109375e-06\n",
      "\u001b[36m(launch_and_fit pid=14341)\u001b[0m fc2.weight 1.6689300537109375e-06\n",
      "\u001b[36m(launch_and_fit pid=14341)\u001b[0m fc2.bias 1.6689300537109375e-06\n",
      "\u001b[36m(launch_and_fit pid=14341)\u001b[0m qnn.weights 1.1920928955078125e-06\n",
      "\u001b[36m(launch_and_fit pid=14342)\u001b[0m \tTrain Epoch: 10 \tTrain_loss: 1.6281 | Train_acc: 45.8807 % | Validation_loss: 1.8297 | Validation_acc: 34.0278 %\u001b[32m [repeated 3x across cluster]\u001b[0m\n",
      "\u001b[36m(launch_and_fit pid=14422)\u001b[0m Run with homomorphic encryption\n",
      "\u001b[36m(launch_and_fit pid=14342)\u001b[0m save graph in  results/FL/\n",
      "\u001b[36m(launch_and_fit pid=14342)\u001b[0m fc3.bias 4.291534423828125e-06\u001b[32m [repeated 8x across cluster]\u001b[0m\n",
      "\u001b[36m(launch_and_fit pid=14342)\u001b[0m qnn.weights 1.430511474609375e-06\n",
      "\u001b[36m(launch_and_fit pid=14422)\u001b[0m [Client 8, round 18] fit, config: {'learning_rate': 0.003, 'batch_size': '16', 'server_round': 18, 'local_epochs': 10}\n"
     ]
    },
    {
     "name": "stderr",
     "output_type": "stream",
     "text": [
      "  0%|\u001b[34m          \u001b[0m| 0/10 [00:00<?, ?it/s]\n",
      "100%|\u001b[34m██████████\u001b[0m| 10/10 [00:26<00:00,  2.65s/it]\u001b[32m [repeated 3x across cluster]\u001b[0m\n"
     ]
    },
    {
     "name": "stdout",
     "output_type": "stream",
     "text": [
      "\u001b[36m(launch_and_fit pid=14422)\u001b[0m Updated model\n",
      "\u001b[36m(launch_and_fit pid=14422)\u001b[0m \tTrain Epoch: 1 \tTrain_loss: 1.7040 | Train_acc: 38.0966 % | Validation_loss: 1.8273 | Validation_acc: 34.0278 %\n"
     ]
    },
    {
     "name": "stderr",
     "output_type": "stream",
     "text": [
      "  0%|\u001b[34m          \u001b[0m| 0/10 [00:00<?, ?it/s]\n",
      " 20%|\u001b[34m██        \u001b[0m| 2/10 [00:05<00:22,  2.75s/it]\u001b[32m [repeated 3x across cluster]\u001b[0m\n"
     ]
    },
    {
     "name": "stdout",
     "output_type": "stream",
     "text": [
      "\u001b[36m(launch_and_fit pid=14424)\u001b[0m Run with homomorphic encryption\n",
      "\u001b[36m(launch_and_fit pid=14424)\u001b[0m [Client 0, round 18] fit, config: {'learning_rate': 0.003, 'batch_size': '16', 'server_round': 18, 'local_epochs': 10}\n",
      "\u001b[36m(launch_and_fit pid=14424)\u001b[0m Updated model\n",
      "\u001b[36m(launch_and_fit pid=14422)\u001b[0m \tTrain Epoch: 3 \tTrain_loss: 1.6664 | Train_acc: 42.2443 % | Validation_loss: 1.7680 | Validation_acc: 22.9167 %\u001b[32m [repeated 4x across cluster]\u001b[0m\n"
     ]
    },
    {
     "name": "stderr",
     "output_type": "stream",
     "text": [
      " 40%|\u001b[34m████      \u001b[0m| 4/10 [00:10<00:15,  2.66s/it]\u001b[32m [repeated 4x across cluster]\u001b[0m\n"
     ]
    },
    {
     "name": "stdout",
     "output_type": "stream",
     "text": [
      "\u001b[36m(launch_and_fit pid=14422)\u001b[0m \tTrain Epoch: 5 \tTrain_loss: 1.6494 | Train_acc: 43.6648 % | Validation_loss: 1.7718 | Validation_acc: 22.9167 %\u001b[32m [repeated 4x across cluster]\u001b[0m\n"
     ]
    },
    {
     "name": "stderr",
     "output_type": "stream",
     "text": [
      " 60%|\u001b[34m██████    \u001b[0m| 6/10 [00:16<00:11,  2.83s/it]\u001b[32m [repeated 4x across cluster]\u001b[0m\n"
     ]
    },
    {
     "name": "stdout",
     "output_type": "stream",
     "text": [
      "\u001b[36m(launch_and_fit pid=14424)\u001b[0m \tTrain Epoch: 7 \tTrain_loss: 1.6247 | Train_acc: 47.7557 % | Validation_loss: 1.8561 | Validation_acc: 25.0000 %\u001b[32m [repeated 4x across cluster]\u001b[0m\n"
     ]
    },
    {
     "name": "stderr",
     "output_type": "stream",
     "text": [
      " 80%|\u001b[34m████████  \u001b[0m| 8/10 [00:21<00:05,  2.73s/it]\u001b[32m [repeated 4x across cluster]\u001b[0m\n"
     ]
    },
    {
     "name": "stdout",
     "output_type": "stream",
     "text": [
      "\u001b[36m(launch_and_fit pid=14424)\u001b[0m \tTrain Epoch: 9 \tTrain_loss: 1.6015 | Train_acc: 48.3523 % | Validation_loss: 1.8661 | Validation_acc: 27.0833 %\u001b[32m [repeated 4x across cluster]\u001b[0m\n"
     ]
    },
    {
     "name": "stderr",
     "output_type": "stream",
     "text": [
      "100%|\u001b[34m██████████\u001b[0m| 10/10 [00:27<00:00,  2.74s/it]\u001b[32m [repeated 4x across cluster]\u001b[0m\n"
     ]
    },
    {
     "name": "stdout",
     "output_type": "stream",
     "text": [
      "\u001b[36m(launch_and_fit pid=14424)\u001b[0m save graph in  results/FL/\n",
      "\u001b[36m(launch_and_fit pid=14424)\u001b[0m fc1.weight 5.0067901611328125e-06\n",
      "\u001b[36m(launch_and_fit pid=14424)\u001b[0m fc1.bias 1.430511474609375e-06\n",
      "\u001b[36m(launch_and_fit pid=14424)\u001b[0m fc2.weight 1.430511474609375e-06\n",
      "\u001b[36m(launch_and_fit pid=14424)\u001b[0m fc2.bias 1.1920928955078125e-06\n",
      "\u001b[36m(launch_and_fit pid=14424)\u001b[0m qnn.weights 1.1920928955078125e-06\n",
      "\u001b[36m(launch_and_fit pid=14422)\u001b[0m \tTrain Epoch: 10 \tTrain_loss: 1.6245 | Train_acc: 45.7386 % | Validation_loss: 1.7663 | Validation_acc: 40.2778 %\u001b[32m [repeated 3x across cluster]\u001b[0m\n",
      "\u001b[36m(launch_and_fit pid=14506)\u001b[0m Run with homomorphic encryption\n",
      "\u001b[36m(launch_and_fit pid=14422)\u001b[0m save graph in  results/FL/\n",
      "\u001b[36m(launch_and_fit pid=14422)\u001b[0m fc3.bias 3.814697265625e-06\u001b[32m [repeated 8x across cluster]\u001b[0m\n",
      "\u001b[36m(launch_and_fit pid=14422)\u001b[0m qnn.weights 9.5367431640625e-07\n",
      "\u001b[36m(launch_and_fit pid=14504)\u001b[0m [Client 3, round 18] fit, config: {'learning_rate': 0.003, 'batch_size': '16', 'server_round': 18, 'local_epochs': 10}\n"
     ]
    },
    {
     "name": "stderr",
     "output_type": "stream",
     "text": [
      "  0%|\u001b[34m          \u001b[0m| 0/10 [00:00<?, ?it/s]\n",
      "100%|\u001b[34m██████████\u001b[0m| 10/10 [00:27<00:00,  2.77s/it]\n"
     ]
    },
    {
     "name": "stdout",
     "output_type": "stream",
     "text": [
      "\u001b[36m(launch_and_fit pid=14504)\u001b[0m Updated model\n",
      "\u001b[36m(launch_and_fit pid=14504)\u001b[0m \tTrain Epoch: 1 \tTrain_loss: 1.7462 | Train_acc: 32.2727 % | Validation_loss: 1.7821 | Validation_acc: 47.2222 %\n"
     ]
    },
    {
     "name": "stderr",
     "output_type": "stream",
     "text": [
      " 10%|\u001b[34m█         \u001b[0m| 1/10 [00:02<00:26,  2.95s/it]\n"
     ]
    },
    {
     "name": "stdout",
     "output_type": "stream",
     "text": [
      "\u001b[36m(launch_and_fit pid=14504)\u001b[0m Run with homomorphic encryption\n",
      "\u001b[36m(launch_and_fit pid=14506)\u001b[0m [Client 5, round 18] fit, config: {'learning_rate': 0.003, 'batch_size': '16', 'server_round': 18, 'local_epochs': 10}\n",
      "\u001b[36m(launch_and_fit pid=14506)\u001b[0m Updated model\n"
     ]
    },
    {
     "name": "stderr",
     "output_type": "stream",
     "text": [
      "  0%|\u001b[34m          \u001b[0m| 0/10 [00:00<?, ?it/s]\n"
     ]
    },
    {
     "name": "stdout",
     "output_type": "stream",
     "text": [
      "\u001b[36m(launch_and_fit pid=14504)\u001b[0m \tTrain Epoch: 3 \tTrain_loss: 1.6769 | Train_acc: 41.9602 % | Validation_loss: 1.7675 | Validation_acc: 38.1944 %\u001b[32m [repeated 4x across cluster]\u001b[0m\n"
     ]
    },
    {
     "name": "stderr",
     "output_type": "stream",
     "text": [
      " 30%|\u001b[34m███       \u001b[0m| 3/10 [00:08<00:19,  2.75s/it]\u001b[32m [repeated 4x across cluster]\u001b[0m\n"
     ]
    },
    {
     "name": "stdout",
     "output_type": "stream",
     "text": [
      "\u001b[36m(launch_and_fit pid=14504)\u001b[0m \tTrain Epoch: 5 \tTrain_loss: 1.6592 | Train_acc: 44.4318 % | Validation_loss: 1.7618 | Validation_acc: 40.2778 %\u001b[32m [repeated 4x across cluster]\u001b[0m\n"
     ]
    },
    {
     "name": "stderr",
     "output_type": "stream",
     "text": [
      " 50%|\u001b[34m█████     \u001b[0m| 5/10 [00:13<00:13,  2.70s/it]\u001b[32m [repeated 4x across cluster]\u001b[0m\n"
     ]
    },
    {
     "name": "stdout",
     "output_type": "stream",
     "text": [
      "\u001b[36m(launch_and_fit pid=14504)\u001b[0m \tTrain Epoch: 7 \tTrain_loss: 1.6485 | Train_acc: 45.7102 % | Validation_loss: 1.7646 | Validation_acc: 47.2222 %\u001b[32m [repeated 4x across cluster]\u001b[0m\n"
     ]
    },
    {
     "name": "stderr",
     "output_type": "stream",
     "text": [
      " 70%|\u001b[34m███████   \u001b[0m| 7/10 [00:19<00:08,  2.70s/it]\u001b[32m [repeated 4x across cluster]\u001b[0m\n"
     ]
    },
    {
     "name": "stdout",
     "output_type": "stream",
     "text": [
      "\u001b[36m(launch_and_fit pid=14504)\u001b[0m \tTrain Epoch: 9 \tTrain_loss: 1.6458 | Train_acc: 45.5398 % | Validation_loss: 1.8405 | Validation_acc: 47.2222 %\u001b[32m [repeated 4x across cluster]\u001b[0m\n"
     ]
    },
    {
     "name": "stderr",
     "output_type": "stream",
     "text": [
      " 90%|\u001b[34m█████████ \u001b[0m| 9/10 [00:24<00:02,  2.71s/it]\u001b[32m [repeated 4x across cluster]\u001b[0m\n"
     ]
    },
    {
     "name": "stdout",
     "output_type": "stream",
     "text": [
      "\u001b[36m(launch_and_fit pid=14504)\u001b[0m save graph in  results/FL/\n",
      "\u001b[36m(launch_and_fit pid=14504)\u001b[0m fc1.weight 6.198883056640625e-06\n",
      "\u001b[36m(launch_and_fit pid=14504)\u001b[0m fc1.bias 1.430511474609375e-06\n",
      "\u001b[36m(launch_and_fit pid=14504)\u001b[0m fc2.weight 1.1920928955078125e-06\n",
      "\u001b[36m(launch_and_fit pid=14504)\u001b[0m fc2.bias 1.1920928955078125e-06\n",
      "\u001b[36m(launch_and_fit pid=14504)\u001b[0m qnn.weights 9.5367431640625e-07\n",
      "\u001b[36m(launch_and_fit pid=14506)\u001b[0m \tTrain Epoch: 10 \tTrain_loss: 1.6841 | Train_acc: 39.5739 % | Validation_loss: 1.7114 | Validation_acc: 55.5556 %\u001b[32m [repeated 3x across cluster]\u001b[0m\n",
      "\u001b[36m(launch_and_fit pid=14586)\u001b[0m Run with homomorphic encryption\n",
      "\u001b[36m(launch_and_fit pid=14506)\u001b[0m save graph in  results/FL/\n",
      "\u001b[36m(launch_and_fit pid=14506)\u001b[0m fc3.bias 5.7220458984375e-06\u001b[32m [repeated 8x across cluster]\u001b[0m\n",
      "\u001b[36m(launch_and_fit pid=14506)\u001b[0m qnn.weights 1.6689300537109375e-06\n",
      "\u001b[36m(launch_and_fit pid=14586)\u001b[0m [Client 6, round 18] fit, config: {'learning_rate': 0.003, 'batch_size': '16', 'server_round': 18, 'local_epochs': 10}\n"
     ]
    },
    {
     "name": "stderr",
     "output_type": "stream",
     "text": [
      "  0%|\u001b[34m          \u001b[0m| 0/10 [00:00<?, ?it/s]\n",
      "100%|\u001b[34m██████████\u001b[0m| 10/10 [00:27<00:00,  2.79s/it]\u001b[32m [repeated 3x across cluster]\u001b[0m\n"
     ]
    },
    {
     "name": "stdout",
     "output_type": "stream",
     "text": [
      "\u001b[36m(launch_and_fit pid=14586)\u001b[0m Updated model\n",
      "\u001b[36m(launch_and_fit pid=14586)\u001b[0m \tTrain Epoch: 1 \tTrain_loss: 1.6490 | Train_acc: 43.6932 % | Validation_loss: 1.8062 | Validation_acc: 47.9167 %\n"
     ]
    },
    {
     "name": "stderr",
     "output_type": "stream",
     "text": [
      "  0%|\u001b[34m          \u001b[0m| 0/10 [00:00<?, ?it/s]\n",
      " 20%|\u001b[34m██        \u001b[0m| 2/10 [00:05<00:21,  2.69s/it]\u001b[32m [repeated 3x across cluster]\u001b[0m\n"
     ]
    },
    {
     "name": "stdout",
     "output_type": "stream",
     "text": [
      "\u001b[36m(launch_and_fit pid=14588)\u001b[0m Run with homomorphic encryption\n",
      "\u001b[36m(launch_and_fit pid=14588)\u001b[0m [Client 7, round 18] fit, config: {'learning_rate': 0.003, 'batch_size': '16', 'server_round': 18, 'local_epochs': 10}\n",
      "\u001b[36m(launch_and_fit pid=14588)\u001b[0m Updated model\n",
      "\u001b[36m(launch_and_fit pid=14588)\u001b[0m \tTrain Epoch: 3 \tTrain_loss: 1.6843 | Train_acc: 43.0966 % | Validation_loss: 1.5624 | Validation_acc: 53.4722 %\u001b[32m [repeated 4x across cluster]\u001b[0m\n"
     ]
    },
    {
     "name": "stderr",
     "output_type": "stream",
     "text": [
      " 40%|\u001b[34m████      \u001b[0m| 4/10 [00:10<00:16,  2.79s/it]\u001b[32m [repeated 4x across cluster]\u001b[0m\n"
     ]
    },
    {
     "name": "stdout",
     "output_type": "stream",
     "text": [
      "\u001b[36m(launch_and_fit pid=14588)\u001b[0m \tTrain Epoch: 5 \tTrain_loss: 1.6606 | Train_acc: 44.7727 % | Validation_loss: 1.6419 | Validation_acc: 45.1389 %\u001b[32m [repeated 4x across cluster]\u001b[0m\n"
     ]
    },
    {
     "name": "stderr",
     "output_type": "stream",
     "text": [
      " 60%|\u001b[34m██████    \u001b[0m| 6/10 [00:16<00:11,  2.80s/it]\u001b[32m [repeated 4x across cluster]\u001b[0m\n"
     ]
    },
    {
     "name": "stdout",
     "output_type": "stream",
     "text": [
      "\u001b[36m(launch_and_fit pid=14588)\u001b[0m \tTrain Epoch: 7 \tTrain_loss: 1.6328 | Train_acc: 46.9602 % | Validation_loss: 1.5742 | Validation_acc: 49.3056 %\u001b[32m [repeated 4x across cluster]\u001b[0m\n"
     ]
    },
    {
     "name": "stderr",
     "output_type": "stream",
     "text": [
      " 80%|\u001b[34m████████  \u001b[0m| 8/10 [00:22<00:05,  2.76s/it]\u001b[32m [repeated 4x across cluster]\u001b[0m\n"
     ]
    },
    {
     "name": "stdout",
     "output_type": "stream",
     "text": [
      "\u001b[36m(launch_and_fit pid=14588)\u001b[0m \tTrain Epoch: 9 \tTrain_loss: 1.6325 | Train_acc: 47.8693 % | Validation_loss: 1.5822 | Validation_acc: 53.4722 %\u001b[32m [repeated 4x across cluster]\u001b[0m\n"
     ]
    },
    {
     "name": "stderr",
     "output_type": "stream",
     "text": [
      "100%|\u001b[34m██████████\u001b[0m| 10/10 [00:27<00:00,  2.73s/it]\u001b[32m [repeated 4x across cluster]\u001b[0m\n"
     ]
    },
    {
     "name": "stdout",
     "output_type": "stream",
     "text": [
      "\u001b[36m(launch_and_fit pid=14588)\u001b[0m save graph in  results/FL/\n",
      "\u001b[36m(launch_and_fit pid=14588)\u001b[0m fc1.weight 5.7220458984375e-06\n",
      "\u001b[36m(launch_and_fit pid=14588)\u001b[0m fc1.bias 1.1920928955078125e-06\n",
      "\u001b[36m(launch_and_fit pid=14588)\u001b[0m fc2.weight 1.430511474609375e-06\n",
      "\u001b[36m(launch_and_fit pid=14588)\u001b[0m fc2.bias 9.5367431640625e-07\n",
      "\u001b[36m(launch_and_fit pid=14586)\u001b[0m qnn.weights 2.384185791015625e-06\n",
      "\u001b[36m(launch_and_fit pid=14586)\u001b[0m \tTrain Epoch: 10 \tTrain_loss: 1.5961 | Train_acc: 49.0341 % | Validation_loss: 1.8701 | Validation_acc: 25.6944 %\u001b[32m [repeated 3x across cluster]\u001b[0m\n",
      "\u001b[36m(launch_and_fit pid=14669)\u001b[0m Run with homomorphic encryption\n",
      "\u001b[36m(launch_and_fit pid=14586)\u001b[0m save graph in  results/FL/\n",
      "\u001b[36m(launch_and_fit pid=14588)\u001b[0m fc3.bias 4.0531158447265625e-06\u001b[32m [repeated 8x across cluster]\u001b[0m\n",
      "\u001b[36m(launch_and_fit pid=14588)\u001b[0m qnn.weights 1.1920928955078125e-06\n",
      "\u001b[36m(launch_and_fit pid=14669)\u001b[0m [Client 9, round 18] fit, config: {'learning_rate': 0.003, 'batch_size': '16', 'server_round': 18, 'local_epochs': 10}\n"
     ]
    },
    {
     "name": "stderr",
     "output_type": "stream",
     "text": [
      "  0%|\u001b[34m          \u001b[0m| 0/10 [00:00<?, ?it/s]\n",
      "100%|\u001b[34m██████████\u001b[0m| 10/10 [00:27<00:00,  2.79s/it]\n"
     ]
    },
    {
     "name": "stdout",
     "output_type": "stream",
     "text": [
      "\u001b[36m(launch_and_fit pid=14669)\u001b[0m Updated model\n"
     ]
    },
    {
     "name": "stderr",
     "output_type": "stream",
     "text": [
      " 10%|\u001b[34m█         \u001b[0m| 1/10 [00:02<00:25,  2.88s/it]\n"
     ]
    },
    {
     "name": "stdout",
     "output_type": "stream",
     "text": [
      "\u001b[36m(launch_and_fit pid=14669)\u001b[0m \tTrain Epoch: 1 \tTrain_loss: 1.6835 | Train_acc: 43.5833 % | Validation_loss: 1.6606 | Validation_acc: 42.3611 %\n"
     ]
    },
    {
     "name": "stderr",
     "output_type": "stream",
     "text": [
      "  0%|\u001b[34m          \u001b[0m| 0/10 [00:00<?, ?it/s]\n"
     ]
    },
    {
     "name": "stdout",
     "output_type": "stream",
     "text": [
      "\u001b[36m(launch_and_fit pid=14670)\u001b[0m Run with homomorphic encryption\n",
      "\u001b[36m(launch_and_fit pid=14670)\u001b[0m [Client 4, round 18] fit, config: {'learning_rate': 0.003, 'batch_size': '16', 'server_round': 18, 'local_epochs': 10}\n",
      "\u001b[36m(launch_and_fit pid=14670)\u001b[0m Updated model\n"
     ]
    },
    {
     "name": "stderr",
     "output_type": "stream",
     "text": [
      " 30%|\u001b[34m███       \u001b[0m| 3/10 [00:08<00:18,  2.66s/it]\u001b[32m [repeated 4x across cluster]\u001b[0m\n"
     ]
    },
    {
     "name": "stdout",
     "output_type": "stream",
     "text": [
      "\u001b[36m(launch_and_fit pid=14669)\u001b[0m \tTrain Epoch: 3 \tTrain_loss: 1.6701 | Train_acc: 42.0417 % | Validation_loss: 1.6398 | Validation_acc: 42.3611 %\u001b[32m [repeated 4x across cluster]\u001b[0m\n"
     ]
    },
    {
     "name": "stderr",
     "output_type": "stream",
     "text": [
      " 50%|\u001b[34m█████     \u001b[0m| 5/10 [00:13<00:13,  2.64s/it]\u001b[32m [repeated 4x across cluster]\u001b[0m\n"
     ]
    },
    {
     "name": "stdout",
     "output_type": "stream",
     "text": [
      "\u001b[36m(launch_and_fit pid=14669)\u001b[0m \tTrain Epoch: 5 \tTrain_loss: 1.6348 | Train_acc: 43.2083 % | Validation_loss: 1.6251 | Validation_acc: 47.2222 %\u001b[32m [repeated 4x across cluster]\u001b[0m\n"
     ]
    },
    {
     "name": "stderr",
     "output_type": "stream",
     "text": [
      "\u001b[33m(raylet)\u001b[0m [2024-07-22 10:51:10,085 E 209 209] (raylet) node_manager.cc:3022: 1 Workers (tasks / actors) killed due to memory pressure (OOM), 0 Workers crashed due to other reasons at node (ID: dcb7465c1e18f5f0fd3f2a9b1d80ab4a1bc14b88238171cc5f710a6a, IP: 172.19.2.2) over the last time period. To see more information about the Workers killed on this node, use `ray logs raylet.out -ip 172.19.2.2`\n",
      "\u001b[33m(raylet)\u001b[0m Refer to the documentation on how to address the out of memory issue: https://docs.ray.io/en/latest/ray-core/scheduling/ray-oom-prevention.html. Consider provisioning more memory on this node or reducing task parallelism by requesting more CPUs per task. To adjust the kill threshold, set the environment variable `RAY_memory_usage_threshold` when starting Ray. To disable worker killing, set the environment variable `RAY_memory_monitor_refresh_ms` to zero.\n",
      " 70%|\u001b[34m███████   \u001b[0m| 7/10 [00:18<00:08,  2.69s/it]\u001b[32m [repeated 5x across cluster]\u001b[0m\n"
     ]
    },
    {
     "name": "stdout",
     "output_type": "stream",
     "text": [
      "\u001b[36m(launch_and_fit pid=14670)\u001b[0m \tTrain Epoch: 7 \tTrain_loss: 1.6495 | Train_acc: 45.9943 % | Validation_loss: 1.6362 | Validation_acc: 42.3611 %\u001b[32m [repeated 4x across cluster]\u001b[0m\n"
     ]
    },
    {
     "name": "stderr",
     "output_type": "stream",
     "text": [
      " 90%|\u001b[34m█████████ \u001b[0m| 9/10 [00:23<00:02,  2.65s/it]\u001b[32m [repeated 4x across cluster]\u001b[0m\n"
     ]
    },
    {
     "name": "stdout",
     "output_type": "stream",
     "text": [
      "\u001b[36m(launch_and_fit pid=14670)\u001b[0m \tTrain Epoch: 9 \tTrain_loss: 1.6245 | Train_acc: 49.4602 % | Validation_loss: 1.6341 | Validation_acc: 44.4444 %\u001b[32m [repeated 4x across cluster]\u001b[0m\n",
      "\u001b[36m(launch_and_fit pid=14670)\u001b[0m save graph in  results/FL/\n",
      "\u001b[36m(launch_and_fit pid=14670)\u001b[0m fc1.weight 5.7220458984375e-06\n",
      "\u001b[36m(launch_and_fit pid=14670)\u001b[0m fc1.bias 1.6689300537109375e-06\n",
      "\u001b[36m(launch_and_fit pid=14670)\u001b[0m fc2.weight 9.5367431640625e-07\n",
      "\u001b[36m(launch_and_fit pid=14670)\u001b[0m fc2.bias 9.5367431640625e-07\n",
      "\u001b[36m(launch_and_fit pid=14670)\u001b[0m qnn.weights 1.6689300537109375e-06\n",
      "\u001b[36m(launch_and_fit pid=14669)\u001b[0m \tTrain Epoch: 10 \tTrain_loss: 1.6015 | Train_acc: 48.8750 % | Validation_loss: 1.6200 | Validation_acc: 49.3056 %\u001b[32m [repeated 3x across cluster]\u001b[0m\n"
     ]
    },
    {
     "name": "stderr",
     "output_type": "stream",
     "text": [
      "ERROR flwr 2024-07-22 10:51:30,677 | ray_client_proxy.py:87 | Task was killed due to the node running low on memory.\n",
      "Memory on the node (IP: 172.19.2.2, ID: dcb7465c1e18f5f0fd3f2a9b1d80ab4a1bc14b88238171cc5f710a6a) where the task (task ID: 3ccc229450e5e26c833e4d48e4df594a00e15c5701000000, name=launch_and_fit, pid=14669, memory used=2.36GB) was running was 27.77GB / 29.00GB (0.957683), which exceeds the memory usage threshold of 0.95. Ray killed this worker (ID: df7ee553991f7ea1af24bd8ae0400b3a316ed7e617139e1a15a11312) because it was the most recently scheduled task; to see more information about memory usage on this node, use `ray logs raylet.out -ip 172.19.2.2`. To see the logs of the worker, use `ray logs worker-df7ee553991f7ea1af24bd8ae0400b3a316ed7e617139e1a15a11312*out -ip 172.19.2.2. Top 10 memory users:\n",
      "PID\tMEM(GB)\tCOMMAND\n",
      "24\t15.97\t/opt/conda/bin/python -m ipykernel_launcher -f /tmp/tmposf3yqre.json --HistoryManager.hist_file=:mem...\n",
      "14670\t2.64\tray::launch_and_fit\n",
      "14669\t2.36\tray::launch_and_fit\n",
      "14506\t2.31\tray::IDLE\n",
      "14586\t2.30\tray::IDLE\n",
      "9\t0.10\tpython -c import sys;import papermill as pm;pm.execute_notebook(\"__notebook__.ipynb\",\"__notebook__.i...\n",
      "185\t0.06\t/opt/conda/bin/python /opt/conda/lib/python3.10/site-packages/ray/dashboard/dashboard.py --host=127....\n",
      "250\t0.06\t/opt/conda/bin/python -u /opt/conda/lib/python3.10/site-packages/ray/dashboard/agent.py --node-ip-ad...\n",
      "153\t0.04\t/opt/conda/lib/python3.10/site-packages/ray/core/src/ray/gcs/gcs_server --log_dir=/tmp/ray/session_2...\n",
      "184\t0.04\t/opt/conda/bin/python -u /opt/conda/lib/python3.10/site-packages/ray/autoscaler/_private/monitor.py ...\n",
      "Refer to the documentation on how to address the out of memory issue: https://docs.ray.io/en/latest/ray-core/scheduling/ray-oom-prevention.html. Consider provisioning more memory on this node or reducing task parallelism by requesting more CPUs per task. To adjust the kill threshold, set the environment variable `RAY_memory_usage_threshold` when starting Ray. To disable worker killing, set the environment variable `RAY_memory_monitor_refresh_ms` to zero.\n",
      "DEBUG flwr 2024-07-22 10:51:31,232 | server.py:236 | fit_round 18 received 9 results and 1 failures\n"
     ]
    },
    {
     "name": "stdout",
     "output_type": "stream",
     "text": [
      "Saving round 18 aggregated_parameters...\n"
     ]
    },
    {
     "name": "stderr",
     "output_type": "stream",
     "text": [
      "DEBUG flwr 2024-07-22 10:51:49,564 | server.py:173 | evaluate_round 18: strategy sampled 10 clients (out of 10)\n"
     ]
    },
    {
     "name": "stdout",
     "output_type": "stream",
     "text": [
      "\u001b[36m(launch_and_evaluate pid=14759)\u001b[0m Run with homomorphic encryption\n",
      "\u001b[36m(launch_and_fit pid=14669)\u001b[0m save graph in  results/FL/\n",
      "\u001b[36m(launch_and_fit pid=14669)\u001b[0m fc3.bias 5.4836273193359375e-06\u001b[32m [repeated 8x across cluster]\u001b[0m\n",
      "\u001b[36m(launch_and_fit pid=14669)\u001b[0m qnn.weights 9.5367431640625e-07\n",
      "\u001b[36m(launch_and_evaluate pid=14759)\u001b[0m [Client 7] evaluate, config: {}\n",
      "\u001b[36m(launch_and_evaluate pid=14759)\u001b[0m Updated model\n"
     ]
    },
    {
     "name": "stderr",
     "output_type": "stream",
     "text": [
      "\u001b[33m(raylet)\u001b[0m [2024-07-22 10:52:10,088 E 209 209] (raylet) node_manager.cc:3022: 1 Workers (tasks / actors) killed due to memory pressure (OOM), 0 Workers crashed due to other reasons at node (ID: dcb7465c1e18f5f0fd3f2a9b1d80ab4a1bc14b88238171cc5f710a6a, IP: 172.19.2.2) over the last time period. To see more information about the Workers killed on this node, use `ray logs raylet.out -ip 172.19.2.2`\n",
      "\u001b[33m(raylet)\u001b[0m Refer to the documentation on how to address the out of memory issue: https://docs.ray.io/en/latest/ray-core/scheduling/ray-oom-prevention.html. Consider provisioning more memory on this node or reducing task parallelism by requesting more CPUs per task. To adjust the kill threshold, set the environment variable `RAY_memory_usage_threshold` when starting Ray. To disable worker killing, set the environment variable `RAY_memory_monitor_refresh_ms` to zero.\n",
      "\u001b[33m(raylet)\u001b[0m \u001b[32m [repeated 4x across cluster]\u001b[0m\n"
     ]
    },
    {
     "name": "stdout",
     "output_type": "stream",
     "text": [
      "\u001b[36m(launch_and_evaluate pid=14835)\u001b[0m Run with homomorphic encryption\u001b[32m [repeated 2x across cluster]\u001b[0m\n",
      "\u001b[36m(launch_and_evaluate pid=14758)\u001b[0m [Client 5] evaluate, config: {}\n",
      "\u001b[36m(launch_and_evaluate pid=14758)\u001b[0m Updated model\n",
      "\u001b[36m(launch_and_evaluate pid=14835)\u001b[0m [Client 8] evaluate, config: {}\n",
      "\u001b[36m(launch_and_evaluate pid=14835)\u001b[0m Updated model\n"
     ]
    },
    {
     "name": "stderr",
     "output_type": "stream",
     "text": [
      "\u001b[36m(launch_and_evaluate pid=14835)\u001b[0m /opt/conda/lib/python3.10/site-packages/sklearn/metrics/_ranking.py:1029: UndefinedMetricWarning: No positive samples in y_true, true positive value should be meaningless\n",
      "\u001b[36m(launch_and_evaluate pid=14835)\u001b[0m   warnings.warn(\n"
     ]
    },
    {
     "name": "stdout",
     "output_type": "stream",
     "text": [
      "\u001b[36m(launch_and_evaluate pid=14914)\u001b[0m Run with homomorphic encryption\u001b[32m [repeated 2x across cluster]\u001b[0m\n",
      "\u001b[36m(launch_and_evaluate pid=14837)\u001b[0m [Client 2] evaluate, config: {}\n",
      "\u001b[36m(launch_and_evaluate pid=14837)\u001b[0m Updated model\n",
      "\u001b[36m(launch_and_evaluate pid=14914)\u001b[0m [Client 3] evaluate, config: {}\n",
      "\u001b[36m(launch_and_evaluate pid=14914)\u001b[0m Updated model\n"
     ]
    },
    {
     "name": "stderr",
     "output_type": "stream",
     "text": [
      "\u001b[36m(launch_and_evaluate pid=14916)\u001b[0m /opt/conda/lib/python3.10/site-packages/sklearn/metrics/_ranking.py:1029: UndefinedMetricWarning: No positive samples in y_true, true positive value should be meaningless\n",
      "\u001b[36m(launch_and_evaluate pid=14916)\u001b[0m   warnings.warn(\n"
     ]
    },
    {
     "name": "stdout",
     "output_type": "stream",
     "text": [
      "\u001b[36m(launch_and_evaluate pid=14992)\u001b[0m Run with homomorphic encryption\u001b[32m [repeated 2x across cluster]\u001b[0m\n",
      "\u001b[36m(launch_and_evaluate pid=14916)\u001b[0m [Client 4] evaluate, config: {}\n",
      "\u001b[36m(launch_and_evaluate pid=14916)\u001b[0m Updated model\n",
      "\u001b[36m(launch_and_evaluate pid=14992)\u001b[0m [Client 0] evaluate, config: {}\n",
      "\u001b[36m(launch_and_evaluate pid=14992)\u001b[0m Updated model\n"
     ]
    },
    {
     "name": "stderr",
     "output_type": "stream",
     "text": [
      "\u001b[36m(launch_and_evaluate pid=14994)\u001b[0m /opt/conda/lib/python3.10/site-packages/sklearn/metrics/_ranking.py:1029: UndefinedMetricWarning: No positive samples in y_true, true positive value should be meaningless\n",
      "\u001b[36m(launch_and_evaluate pid=14994)\u001b[0m   warnings.warn(\n"
     ]
    },
    {
     "name": "stdout",
     "output_type": "stream",
     "text": [
      "\u001b[36m(launch_and_evaluate pid=15070)\u001b[0m Run with homomorphic encryption\u001b[32m [repeated 2x across cluster]\u001b[0m\n",
      "\u001b[36m(launch_and_evaluate pid=14994)\u001b[0m [Client 9] evaluate, config: {}\n",
      "\u001b[36m(launch_and_evaluate pid=14994)\u001b[0m Updated model\n",
      "\u001b[36m(launch_and_evaluate pid=15070)\u001b[0m [Client 1] evaluate, config: {}\n",
      "\u001b[36m(launch_and_evaluate pid=15070)\u001b[0m Updated model\n"
     ]
    },
    {
     "name": "stderr",
     "output_type": "stream",
     "text": [
      "DEBUG flwr 2024-07-22 10:52:56,922 | server.py:187 | evaluate_round 18 received 10 results and 0 failures\n",
      "DEBUG flwr 2024-07-22 10:52:56,923 | server.py:222 | fit_round 19: strategy sampled 10 clients (out of 10)\n"
     ]
    },
    {
     "name": "stdout",
     "output_type": "stream",
     "text": [
      "\u001b[36m(launch_and_fit pid=15157)\u001b[0m Run with homomorphic encryption\u001b[32m [repeated 2x across cluster]\u001b[0m\n",
      "\u001b[36m(launch_and_evaluate pid=15072)\u001b[0m [Client 6] evaluate, config: {}\n",
      "\u001b[36m(launch_and_evaluate pid=15072)\u001b[0m Updated model\n",
      "\u001b[36m(launch_and_fit pid=15157)\u001b[0m [Client 2, round 19] fit, config: {'learning_rate': 0.003, 'batch_size': '16', 'server_round': 19, 'local_epochs': 10}\n"
     ]
    },
    {
     "name": "stderr",
     "output_type": "stream",
     "text": [
      "  0%|\u001b[34m          \u001b[0m| 0/10 [00:00<?, ?it/s]\n"
     ]
    },
    {
     "name": "stdout",
     "output_type": "stream",
     "text": [
      "\u001b[36m(launch_and_fit pid=15157)\u001b[0m Updated model\n"
     ]
    },
    {
     "name": "stderr",
     "output_type": "stream",
     "text": [
      " 10%|\u001b[34m█         \u001b[0m| 1/10 [00:02<00:25,  2.83s/it]\n"
     ]
    },
    {
     "name": "stdout",
     "output_type": "stream",
     "text": [
      "\u001b[36m(launch_and_fit pid=15157)\u001b[0m \tTrain Epoch: 1 \tTrain_loss: 1.6579 | Train_acc: 40.8523 % | Validation_loss: 1.7276 | Validation_acc: 27.7778 %\n"
     ]
    },
    {
     "name": "stderr",
     "output_type": "stream",
     "text": [
      "  0%|\u001b[34m          \u001b[0m| 0/10 [00:00<?, ?it/s]\n"
     ]
    },
    {
     "name": "stdout",
     "output_type": "stream",
     "text": [
      "\u001b[36m(launch_and_fit pid=15158)\u001b[0m Run with homomorphic encryption\n",
      "\u001b[36m(launch_and_fit pid=15158)\u001b[0m [Client 4, round 19] fit, config: {'learning_rate': 0.003, 'batch_size': '16', 'server_round': 19, 'local_epochs': 10}\n",
      "\u001b[36m(launch_and_fit pid=15158)\u001b[0m Updated model\n"
     ]
    },
    {
     "name": "stderr",
     "output_type": "stream",
     "text": [
      " 30%|\u001b[34m███       \u001b[0m| 3/10 [00:08<00:18,  2.64s/it]\u001b[32m [repeated 4x across cluster]\u001b[0m\n"
     ]
    },
    {
     "name": "stdout",
     "output_type": "stream",
     "text": [
      "\u001b[36m(launch_and_fit pid=15157)\u001b[0m \tTrain Epoch: 3 \tTrain_loss: 1.6366 | Train_acc: 44.6023 % | Validation_loss: 1.7510 | Validation_acc: 31.9444 %\u001b[32m [repeated 4x across cluster]\u001b[0m\n"
     ]
    },
    {
     "name": "stderr",
     "output_type": "stream",
     "text": [
      " 50%|\u001b[34m█████     \u001b[0m| 5/10 [00:13<00:12,  2.59s/it]\u001b[32m [repeated 4x across cluster]\u001b[0m\n"
     ]
    },
    {
     "name": "stdout",
     "output_type": "stream",
     "text": [
      "\u001b[36m(launch_and_fit pid=15157)\u001b[0m \tTrain Epoch: 5 \tTrain_loss: 1.6283 | Train_acc: 43.0966 % | Validation_loss: 1.6697 | Validation_acc: 38.8889 %\u001b[32m [repeated 4x across cluster]\u001b[0m\n"
     ]
    },
    {
     "name": "stderr",
     "output_type": "stream",
     "text": [
      " 70%|\u001b[34m███████   \u001b[0m| 7/10 [00:18<00:08,  2.67s/it]\u001b[32m [repeated 4x across cluster]\u001b[0m\n"
     ]
    },
    {
     "name": "stdout",
     "output_type": "stream",
     "text": [
      "\u001b[36m(launch_and_fit pid=15157)\u001b[0m \tTrain Epoch: 7 \tTrain_loss: 1.6208 | Train_acc: 44.4602 % | Validation_loss: 1.7281 | Validation_acc: 38.8889 %\u001b[32m [repeated 4x across cluster]\u001b[0m\n"
     ]
    },
    {
     "name": "stderr",
     "output_type": "stream",
     "text": [
      " 90%|\u001b[34m█████████ \u001b[0m| 9/10 [00:23<00:02,  2.64s/it]\u001b[32m [repeated 4x across cluster]\u001b[0m\n"
     ]
    },
    {
     "name": "stdout",
     "output_type": "stream",
     "text": [
      "\u001b[36m(launch_and_fit pid=15157)\u001b[0m \tTrain Epoch: 9 \tTrain_loss: 1.6283 | Train_acc: 40.2841 % | Validation_loss: 1.7572 | Validation_acc: 25.6944 %\u001b[32m [repeated 4x across cluster]\u001b[0m\n",
      "\u001b[36m(launch_and_fit pid=15157)\u001b[0m save graph in  results/FL/\n",
      "\u001b[36m(launch_and_fit pid=15157)\u001b[0m fc1.weight 5.245208740234375e-06\n",
      "\u001b[36m(launch_and_fit pid=15157)\u001b[0m fc1.bias 1.1920928955078125e-06\n",
      "\u001b[36m(launch_and_fit pid=15157)\u001b[0m fc2.weight 1.430511474609375e-06\n",
      "\u001b[36m(launch_and_fit pid=15157)\u001b[0m fc2.bias 9.5367431640625e-07\n",
      "\u001b[36m(launch_and_fit pid=15157)\u001b[0m qnn.weights 1.1920928955078125e-06\n",
      "\u001b[36m(launch_and_fit pid=15158)\u001b[0m \tTrain Epoch: 10 \tTrain_loss: 1.6307 | Train_acc: 48.3523 % | Validation_loss: 1.6443 | Validation_acc: 42.3611 %\u001b[32m [repeated 3x across cluster]\u001b[0m\n",
      "\u001b[36m(launch_and_fit pid=15239)\u001b[0m Run with homomorphic encryption\n",
      "\u001b[36m(launch_and_fit pid=15158)\u001b[0m save graph in  results/FL/\n",
      "\u001b[36m(launch_and_fit pid=15158)\u001b[0m fc3.bias 4.291534423828125e-06\u001b[32m [repeated 8x across cluster]\u001b[0m\n",
      "\u001b[36m(launch_and_fit pid=15158)\u001b[0m qnn.weights 9.5367431640625e-07\n",
      "\u001b[36m(launch_and_fit pid=15239)\u001b[0m [Client 5, round 19] fit, config: {'learning_rate': 0.003, 'batch_size': '16', 'server_round': 19, 'local_epochs': 10}\n"
     ]
    },
    {
     "name": "stderr",
     "output_type": "stream",
     "text": [
      "  0%|\u001b[34m          \u001b[0m| 0/10 [00:00<?, ?it/s]\n",
      "100%|\u001b[34m██████████\u001b[0m| 10/10 [00:26<00:00,  2.66s/it]\u001b[32m [repeated 3x across cluster]\u001b[0m\n"
     ]
    },
    {
     "name": "stdout",
     "output_type": "stream",
     "text": [
      "\u001b[36m(launch_and_fit pid=15239)\u001b[0m Updated model\n",
      "\u001b[36m(launch_and_fit pid=15239)\u001b[0m \tTrain Epoch: 1 \tTrain_loss: 1.7613 | Train_acc: 32.4716 % | Validation_loss: 1.7199 | Validation_acc: 44.4444 %\n",
      "\u001b[36m(launch_and_fit pid=15241)\u001b[0m Run with homomorphic encryption\n"
     ]
    },
    {
     "name": "stderr",
     "output_type": "stream",
     "text": [
      "  0%|\u001b[34m          \u001b[0m| 0/10 [00:00<?, ?it/s]\n",
      " 20%|\u001b[34m██        \u001b[0m| 2/10 [00:05<00:21,  2.63s/it]\u001b[32m [repeated 3x across cluster]\u001b[0m\n"
     ]
    },
    {
     "name": "stdout",
     "output_type": "stream",
     "text": [
      "\u001b[36m(launch_and_fit pid=15241)\u001b[0m [Client 6, round 19] fit, config: {'learning_rate': 0.003, 'batch_size': '16', 'server_round': 19, 'local_epochs': 10}\n",
      "\u001b[36m(launch_and_fit pid=15241)\u001b[0m Updated model\n",
      "\u001b[36m(launch_and_fit pid=15239)\u001b[0m \tTrain Epoch: 3 \tTrain_loss: 1.7362 | Train_acc: 36.5057 % | Validation_loss: 1.7431 | Validation_acc: 38.1944 %\u001b[32m [repeated 4x across cluster]\u001b[0m\n"
     ]
    },
    {
     "name": "stderr",
     "output_type": "stream",
     "text": [
      " 40%|\u001b[34m████      \u001b[0m| 4/10 [00:10<00:15,  2.65s/it]\u001b[32m [repeated 4x across cluster]\u001b[0m\n"
     ]
    },
    {
     "name": "stdout",
     "output_type": "stream",
     "text": [
      "\u001b[36m(launch_and_fit pid=15239)\u001b[0m \tTrain Epoch: 5 \tTrain_loss: 1.6758 | Train_acc: 41.3068 % | Validation_loss: 1.7332 | Validation_acc: 44.4444 %\u001b[32m [repeated 4x across cluster]\u001b[0m\n"
     ]
    },
    {
     "name": "stderr",
     "output_type": "stream",
     "text": [
      " 60%|\u001b[34m██████    \u001b[0m| 6/10 [00:15<00:10,  2.56s/it]\u001b[32m [repeated 5x across cluster]\u001b[0m\n"
     ]
    },
    {
     "name": "stdout",
     "output_type": "stream",
     "text": [
      "\u001b[36m(launch_and_fit pid=15239)\u001b[0m \tTrain Epoch: 7 \tTrain_loss: 1.6676 | Train_acc: 40.7670 % | Validation_loss: 1.7007 | Validation_acc: 18.7500 %\u001b[32m [repeated 4x across cluster]\u001b[0m\n"
     ]
    },
    {
     "name": "stderr",
     "output_type": "stream",
     "text": [
      " 80%|\u001b[34m████████  \u001b[0m| 8/10 [00:20<00:05,  2.64s/it]\u001b[32m [repeated 4x across cluster]\u001b[0m\n"
     ]
    },
    {
     "name": "stdout",
     "output_type": "stream",
     "text": [
      "\u001b[36m(launch_and_fit pid=15239)\u001b[0m \tTrain Epoch: 9 \tTrain_loss: 1.6943 | Train_acc: 36.3352 % | Validation_loss: 1.6817 | Validation_acc: 44.4444 %\u001b[32m [repeated 4x across cluster]\u001b[0m\n",
      "\u001b[36m(launch_and_fit pid=15239)\u001b[0m save graph in  results/FL/\n",
      "\u001b[36m(launch_and_fit pid=15239)\u001b[0m fc1.weight 5.4836273193359375e-06\n",
      "\u001b[36m(launch_and_fit pid=15239)\u001b[0m fc1.bias 1.430511474609375e-06\n",
      "\u001b[36m(launch_and_fit pid=15239)\u001b[0m fc2.weight 9.5367431640625e-07\n",
      "\u001b[36m(launch_and_fit pid=15239)\u001b[0m fc2.bias 1.430511474609375e-06\n"
     ]
    },
    {
     "name": "stderr",
     "output_type": "stream",
     "text": [
      "100%|\u001b[34m██████████\u001b[0m| 10/10 [00:26<00:00,  2.62s/it]\u001b[32m [repeated 4x across cluster]\u001b[0m\n"
     ]
    },
    {
     "name": "stdout",
     "output_type": "stream",
     "text": [
      "\u001b[36m(launch_and_fit pid=15239)\u001b[0m qnn.weights 1.430511474609375e-06\n",
      "\u001b[36m(launch_and_fit pid=15241)\u001b[0m \tTrain Epoch: 10 \tTrain_loss: 1.5780 | Train_acc: 48.4091 % | Validation_loss: 1.7513 | Validation_acc: 29.8611 %\u001b[32m [repeated 3x across cluster]\u001b[0m\n",
      "\u001b[36m(launch_and_fit pid=15241)\u001b[0m save graph in  results/FL/\n",
      "\u001b[36m(launch_and_fit pid=15321)\u001b[0m Run with homomorphic encryption\n",
      "\u001b[36m(launch_and_fit pid=15241)\u001b[0m fc3.bias 3.5762786865234375e-06\u001b[32m [repeated 8x across cluster]\u001b[0m\n",
      "\u001b[36m(launch_and_fit pid=15241)\u001b[0m qnn.weights 9.5367431640625e-07\n",
      "\u001b[36m(launch_and_fit pid=15321)\u001b[0m [Client 0, round 19] fit, config: {'learning_rate': 0.003, 'batch_size': '16', 'server_round': 19, 'local_epochs': 10}\n"
     ]
    },
    {
     "name": "stderr",
     "output_type": "stream",
     "text": [
      "  0%|\u001b[34m          \u001b[0m| 0/10 [00:00<?, ?it/s]\n"
     ]
    },
    {
     "name": "stdout",
     "output_type": "stream",
     "text": [
      "\u001b[36m(launch_and_fit pid=15321)\u001b[0m Updated model\n"
     ]
    },
    {
     "name": "stderr",
     "output_type": "stream",
     "text": [
      " 10%|\u001b[34m█         \u001b[0m| 1/10 [00:02<00:25,  2.79s/it]\n"
     ]
    },
    {
     "name": "stdout",
     "output_type": "stream",
     "text": [
      "\u001b[36m(launch_and_fit pid=15321)\u001b[0m \tTrain Epoch: 1 \tTrain_loss: 1.6941 | Train_acc: 38.6648 % | Validation_loss: 1.8131 | Validation_acc: 29.1667 %\n"
     ]
    },
    {
     "name": "stderr",
     "output_type": "stream",
     "text": [
      "  0%|\u001b[34m          \u001b[0m| 0/10 [00:00<?, ?it/s]\n"
     ]
    },
    {
     "name": "stdout",
     "output_type": "stream",
     "text": [
      "\u001b[36m(launch_and_fit pid=15323)\u001b[0m Run with homomorphic encryption\n",
      "\u001b[36m(launch_and_fit pid=15323)\u001b[0m [Client 1, round 19] fit, config: {'learning_rate': 0.003, 'batch_size': '16', 'server_round': 19, 'local_epochs': 10}\n",
      "\u001b[36m(launch_and_fit pid=15323)\u001b[0m Updated model\n"
     ]
    },
    {
     "name": "stderr",
     "output_type": "stream",
     "text": [
      " 30%|\u001b[34m███       \u001b[0m| 3/10 [00:08<00:18,  2.67s/it]\u001b[32m [repeated 4x across cluster]\u001b[0m\n"
     ]
    },
    {
     "name": "stdout",
     "output_type": "stream",
     "text": [
      "\u001b[36m(launch_and_fit pid=15321)\u001b[0m \tTrain Epoch: 3 \tTrain_loss: 1.6307 | Train_acc: 43.0682 % | Validation_loss: 1.8324 | Validation_acc: 27.0833 %\u001b[32m [repeated 4x across cluster]\u001b[0m\n"
     ]
    },
    {
     "name": "stderr",
     "output_type": "stream",
     "text": [
      " 50%|\u001b[34m█████     \u001b[0m| 5/10 [00:13<00:13,  2.61s/it]\u001b[32m [repeated 4x across cluster]\u001b[0m\n"
     ]
    },
    {
     "name": "stdout",
     "output_type": "stream",
     "text": [
      "\u001b[36m(launch_and_fit pid=15321)\u001b[0m \tTrain Epoch: 5 \tTrain_loss: 1.6246 | Train_acc: 44.0057 % | Validation_loss: 1.8706 | Validation_acc: 25.0000 %\u001b[32m [repeated 4x across cluster]\u001b[0m\n"
     ]
    },
    {
     "name": "stderr",
     "output_type": "stream",
     "text": [
      " 70%|\u001b[34m███████   \u001b[0m| 7/10 [00:18<00:07,  2.63s/it]\u001b[32m [repeated 4x across cluster]\u001b[0m\n"
     ]
    },
    {
     "name": "stdout",
     "output_type": "stream",
     "text": [
      "\u001b[36m(launch_and_fit pid=15321)\u001b[0m \tTrain Epoch: 7 \tTrain_loss: 1.6115 | Train_acc: 47.7273 % | Validation_loss: 1.8231 | Validation_acc: 29.1667 %\u001b[32m [repeated 4x across cluster]\u001b[0m\n"
     ]
    },
    {
     "name": "stderr",
     "output_type": "stream",
     "text": [
      " 90%|\u001b[34m█████████ \u001b[0m| 9/10 [00:23<00:02,  2.66s/it]\u001b[32m [repeated 4x across cluster]\u001b[0m\n"
     ]
    },
    {
     "name": "stdout",
     "output_type": "stream",
     "text": [
      "\u001b[36m(launch_and_fit pid=15321)\u001b[0m \tTrain Epoch: 9 \tTrain_loss: 1.6077 | Train_acc: 46.9886 % | Validation_loss: 1.8626 | Validation_acc: 27.0833 %\u001b[32m [repeated 4x across cluster]\u001b[0m\n",
      "\u001b[36m(launch_and_fit pid=15321)\u001b[0m save graph in  results/FL/\n",
      "\u001b[36m(launch_and_fit pid=15321)\u001b[0m fc1.weight 5.4836273193359375e-06\n",
      "\u001b[36m(launch_and_fit pid=15321)\u001b[0m fc1.bias 1.430511474609375e-06\n",
      "\u001b[36m(launch_and_fit pid=15321)\u001b[0m fc2.weight 9.5367431640625e-07\n",
      "\u001b[36m(launch_and_fit pid=15321)\u001b[0m fc2.bias 1.430511474609375e-06\n",
      "\u001b[36m(launch_and_fit pid=15321)\u001b[0m qnn.weights 9.5367431640625e-07\n",
      "\u001b[36m(launch_and_fit pid=15323)\u001b[0m \tTrain Epoch: 10 \tTrain_loss: 1.6302 | Train_acc: 44.6307 % | Validation_loss: 1.8252 | Validation_acc: 31.9444 %\u001b[32m [repeated 3x across cluster]\u001b[0m\n",
      "\u001b[36m(launch_and_fit pid=15403)\u001b[0m Run with homomorphic encryption\n",
      "\u001b[36m(launch_and_fit pid=15323)\u001b[0m save graph in  results/FL/\n",
      "\u001b[36m(launch_and_fit pid=15323)\u001b[0m fc3.bias 5.245208740234375e-06\u001b[32m [repeated 8x across cluster]\u001b[0m\n",
      "\u001b[36m(launch_and_fit pid=15323)\u001b[0m qnn.weights 2.1457672119140625e-06\n",
      "\u001b[36m(launch_and_fit pid=15403)\u001b[0m [Client 7, round 19] fit, config: {'learning_rate': 0.003, 'batch_size': '16', 'server_round': 19, 'local_epochs': 10}\n",
      "\u001b[36m(launch_and_fit pid=15403)\u001b[0m Updated model\n"
     ]
    },
    {
     "name": "stderr",
     "output_type": "stream",
     "text": [
      "  0%|\u001b[34m          \u001b[0m| 0/10 [00:00<?, ?it/s]\n",
      "100%|\u001b[34m██████████\u001b[0m| 10/10 [00:26<00:00,  2.66s/it]\u001b[32m [repeated 3x across cluster]\u001b[0m\n"
     ]
    },
    {
     "name": "stdout",
     "output_type": "stream",
     "text": [
      "\u001b[36m(launch_and_fit pid=15405)\u001b[0m \tTrain Epoch: 1 \tTrain_loss: 1.7446 | Train_acc: 34.1193 % | Validation_loss: 1.7638 | Validation_acc: 36.1111 %\n"
     ]
    },
    {
     "name": "stderr",
     "output_type": "stream",
     "text": [
      "  0%|\u001b[34m          \u001b[0m| 0/10 [00:00<?, ?it/s]\n",
      " 20%|\u001b[34m██        \u001b[0m| 2/10 [00:05<00:21,  2.73s/it]\u001b[32m [repeated 3x across cluster]\u001b[0m\n"
     ]
    },
    {
     "name": "stdout",
     "output_type": "stream",
     "text": [
      "\u001b[36m(launch_and_fit pid=15405)\u001b[0m Run with homomorphic encryption\n",
      "\u001b[36m(launch_and_fit pid=15405)\u001b[0m [Client 3, round 19] fit, config: {'learning_rate': 0.003, 'batch_size': '16', 'server_round': 19, 'local_epochs': 10}\n",
      "\u001b[36m(launch_and_fit pid=15405)\u001b[0m Updated model\n",
      "\u001b[36m(launch_and_fit pid=15405)\u001b[0m \tTrain Epoch: 3 \tTrain_loss: 1.6846 | Train_acc: 40.3693 % | Validation_loss: 1.7762 | Validation_acc: 34.0278 %\u001b[32m [repeated 4x across cluster]\u001b[0m\n"
     ]
    },
    {
     "name": "stderr",
     "output_type": "stream",
     "text": [
      " 40%|\u001b[34m████      \u001b[0m| 4/10 [00:10<00:15,  2.62s/it]\u001b[32m [repeated 5x across cluster]\u001b[0m\n"
     ]
    },
    {
     "name": "stdout",
     "output_type": "stream",
     "text": [
      "\u001b[36m(launch_and_fit pid=15405)\u001b[0m \tTrain Epoch: 5 \tTrain_loss: 1.6664 | Train_acc: 41.3920 % | Validation_loss: 1.7706 | Validation_acc: 36.1111 %\u001b[32m [repeated 4x across cluster]\u001b[0m\n"
     ]
    },
    {
     "name": "stderr",
     "output_type": "stream",
     "text": [
      " 60%|\u001b[34m██████    \u001b[0m| 6/10 [00:15<00:10,  2.63s/it]\u001b[32m [repeated 3x across cluster]\u001b[0m\n"
     ]
    },
    {
     "name": "stdout",
     "output_type": "stream",
     "text": [
      "\u001b[36m(launch_and_fit pid=15405)\u001b[0m \tTrain Epoch: 7 \tTrain_loss: 1.6736 | Train_acc: 43.2386 % | Validation_loss: 1.8172 | Validation_acc: 47.2222 %\u001b[32m [repeated 4x across cluster]\u001b[0m\n"
     ]
    },
    {
     "name": "stderr",
     "output_type": "stream",
     "text": [
      " 80%|\u001b[34m████████  \u001b[0m| 8/10 [00:20<00:05,  2.60s/it]\u001b[32m [repeated 4x across cluster]\u001b[0m\n"
     ]
    },
    {
     "name": "stdout",
     "output_type": "stream",
     "text": [
      "\u001b[36m(launch_and_fit pid=15405)\u001b[0m \tTrain Epoch: 9 \tTrain_loss: 1.6527 | Train_acc: 45.8523 % | Validation_loss: 1.7394 | Validation_acc: 34.0278 %\u001b[32m [repeated 4x across cluster]\u001b[0m\n"
     ]
    },
    {
     "name": "stderr",
     "output_type": "stream",
     "text": [
      "100%|\u001b[34m██████████\u001b[0m| 10/10 [00:26<00:00,  2.63s/it]\u001b[32m [repeated 4x across cluster]\u001b[0m\n"
     ]
    },
    {
     "name": "stdout",
     "output_type": "stream",
     "text": [
      "\u001b[36m(launch_and_fit pid=15405)\u001b[0m save graph in  results/FL/\n",
      "\u001b[36m(launch_and_fit pid=15405)\u001b[0m fc1.weight 5.245208740234375e-06\n",
      "\u001b[36m(launch_and_fit pid=15405)\u001b[0m fc1.bias 1.1920928955078125e-06\n",
      "\u001b[36m(launch_and_fit pid=15405)\u001b[0m fc2.weight 1.1920928955078125e-06\n",
      "\u001b[36m(launch_and_fit pid=15405)\u001b[0m fc2.bias 1.430511474609375e-06\n",
      "\u001b[36m(launch_and_fit pid=15405)\u001b[0m qnn.weights 1.9073486328125e-06\n",
      "\u001b[36m(launch_and_fit pid=15403)\u001b[0m \tTrain Epoch: 10 \tTrain_loss: 1.6180 | Train_acc: 49.1193 % | Validation_loss: 1.5873 | Validation_acc: 55.5556 %\u001b[32m [repeated 3x across cluster]\u001b[0m\n",
      "\u001b[36m(launch_and_fit pid=15486)\u001b[0m Run with homomorphic encryption\n",
      "\u001b[36m(launch_and_fit pid=15403)\u001b[0m save graph in  results/FL/\n",
      "\u001b[36m(launch_and_fit pid=15403)\u001b[0m fc3.bias 5.245208740234375e-06\u001b[32m [repeated 8x across cluster]\u001b[0m\n",
      "\u001b[36m(launch_and_fit pid=15403)\u001b[0m qnn.weights 1.6689300537109375e-06\n",
      "\u001b[36m(launch_and_fit pid=15486)\u001b[0m [Client 9, round 19] fit, config: {'learning_rate': 0.003, 'batch_size': '16', 'server_round': 19, 'local_epochs': 10}\n"
     ]
    },
    {
     "name": "stderr",
     "output_type": "stream",
     "text": [
      "  0%|\u001b[34m          \u001b[0m| 0/10 [00:00<?, ?it/s]\n",
      "100%|\u001b[34m██████████\u001b[0m| 10/10 [00:26<00:00,  2.67s/it]\n"
     ]
    },
    {
     "name": "stdout",
     "output_type": "stream",
     "text": [
      "\u001b[36m(launch_and_fit pid=15486)\u001b[0m Updated model\n"
     ]
    },
    {
     "name": "stderr",
     "output_type": "stream",
     "text": [
      " 10%|\u001b[34m█         \u001b[0m| 1/10 [00:02<00:24,  2.67s/it]\n"
     ]
    },
    {
     "name": "stdout",
     "output_type": "stream",
     "text": [
      "\u001b[36m(launch_and_fit pid=15486)\u001b[0m \tTrain Epoch: 1 \tTrain_loss: 1.6819 | Train_acc: 42.6250 % | Validation_loss: 1.6703 | Validation_acc: 36.1111 %\n",
      "\u001b[36m(launch_and_fit pid=15488)\u001b[0m Run with homomorphic encryption\n"
     ]
    },
    {
     "name": "stderr",
     "output_type": "stream",
     "text": [
      "  0%|\u001b[34m          \u001b[0m| 0/10 [00:00<?, ?it/s]\n"
     ]
    },
    {
     "name": "stdout",
     "output_type": "stream",
     "text": [
      "\u001b[36m(launch_and_fit pid=15488)\u001b[0m [Client 8, round 19] fit, config: {'learning_rate': 0.003, 'batch_size': '16', 'server_round': 19, 'local_epochs': 10}\n",
      "\u001b[36m(launch_and_fit pid=15488)\u001b[0m Updated model\n"
     ]
    },
    {
     "name": "stderr",
     "output_type": "stream",
     "text": [
      " 30%|\u001b[34m███       \u001b[0m| 3/10 [00:07<00:18,  2.64s/it]\u001b[32m [repeated 4x across cluster]\u001b[0m\n"
     ]
    },
    {
     "name": "stdout",
     "output_type": "stream",
     "text": [
      "\u001b[36m(launch_and_fit pid=15486)\u001b[0m \tTrain Epoch: 3 \tTrain_loss: 1.6526 | Train_acc: 44.1667 % | Validation_loss: 1.6064 | Validation_acc: 51.3889 %\u001b[32m [repeated 4x across cluster]\u001b[0m\n"
     ]
    },
    {
     "name": "stderr",
     "output_type": "stream",
     "text": [
      " 50%|\u001b[34m█████     \u001b[0m| 5/10 [00:13<00:13,  2.64s/it]\u001b[32m [repeated 4x across cluster]\u001b[0m\n"
     ]
    },
    {
     "name": "stdout",
     "output_type": "stream",
     "text": [
      "\u001b[36m(launch_and_fit pid=15486)\u001b[0m \tTrain Epoch: 5 \tTrain_loss: 1.6214 | Train_acc: 47.6667 % | Validation_loss: 1.6745 | Validation_acc: 51.3889 %\u001b[32m [repeated 4x across cluster]\u001b[0m\n"
     ]
    },
    {
     "name": "stderr",
     "output_type": "stream",
     "text": [
      " 70%|\u001b[34m███████   \u001b[0m| 7/10 [00:18<00:08,  2.72s/it]\u001b[32m [repeated 4x across cluster]\u001b[0m\n"
     ]
    },
    {
     "name": "stdout",
     "output_type": "stream",
     "text": [
      "\u001b[36m(launch_and_fit pid=15486)\u001b[0m \tTrain Epoch: 7 \tTrain_loss: 1.6129 | Train_acc: 46.7500 % | Validation_loss: 1.6000 | Validation_acc: 51.3889 %\u001b[32m [repeated 4x across cluster]\u001b[0m\n"
     ]
    },
    {
     "name": "stderr",
     "output_type": "stream",
     "text": [
      " 90%|\u001b[34m█████████ \u001b[0m| 9/10 [00:24<00:02,  2.64s/it]\u001b[32m [repeated 5x across cluster]\u001b[0m\n"
     ]
    },
    {
     "name": "stdout",
     "output_type": "stream",
     "text": [
      "\u001b[36m(launch_and_fit pid=15488)\u001b[0m \tTrain Epoch: 9 \tTrain_loss: 1.6339 | Train_acc: 45.2557 % | Validation_loss: 1.7706 | Validation_acc: 22.9167 %\u001b[32m [repeated 5x across cluster]\u001b[0m\n",
      "\u001b[36m(launch_and_fit pid=15486)\u001b[0m save graph in  results/FL/\n",
      "\u001b[36m(launch_and_fit pid=15486)\u001b[0m fc1.weight 4.76837158203125e-06\n",
      "\u001b[36m(launch_and_fit pid=15486)\u001b[0m fc1.bias 1.1920928955078125e-06\n",
      "\u001b[36m(launch_and_fit pid=15486)\u001b[0m fc2.weight 1.1920928955078125e-06\n",
      "\u001b[36m(launch_and_fit pid=15486)\u001b[0m fc2.bias 9.5367431640625e-07\n",
      "\u001b[36m(launch_and_fit pid=15486)\u001b[0m qnn.weights 1.430511474609375e-06\n",
      "\u001b[36m(launch_and_fit pid=15488)\u001b[0m \tTrain Epoch: 10 \tTrain_loss: 1.6249 | Train_acc: 45.9091 % | Validation_loss: 1.7763 | Validation_acc: 27.0833 %\u001b[32m [repeated 2x across cluster]\u001b[0m\n",
      "\u001b[36m(launch_and_fit pid=15488)\u001b[0m save graph in  results/FL/\n"
     ]
    },
    {
     "name": "stderr",
     "output_type": "stream",
     "text": [
      "ERROR flwr 2024-07-22 10:56:56,678 | ray_client_proxy.py:87 | Task was killed due to the node running low on memory.\n",
      "Memory on the node (IP: 172.19.2.2, ID: dcb7465c1e18f5f0fd3f2a9b1d80ab4a1bc14b88238171cc5f710a6a) where the task (task ID: 0c7a3b9e224cebc7435dea0edb7262f92f1f7a9a01000000, name=launch_and_fit, pid=15488, memory used=2.62GB) was running was 27.60GB / 29.00GB (0.951678), which exceeds the memory usage threshold of 0.95. Ray killed this worker (ID: 40ea1f44c0b95c988e87224ce41592fe0918241544fdd0bc7f5bb431) because it was the most recently scheduled task; to see more information about memory usage on this node, use `ray logs raylet.out -ip 172.19.2.2`. To see the logs of the worker, use `ray logs worker-40ea1f44c0b95c988e87224ce41592fe0918241544fdd0bc7f5bb431*out -ip 172.19.2.2. Top 10 memory users:\n",
      "PID\tMEM(GB)\tCOMMAND\n",
      "24\t15.80\t/opt/conda/bin/python -m ipykernel_launcher -f /tmp/tmposf3yqre.json --HistoryManager.hist_file=:mem...\n",
      "15488\t2.62\tray::launch_and_fit\n",
      "15486\t2.30\tray::IDLE\n",
      "15403\t2.29\tray::IDLE\n",
      "15405\t1.96\tray::IDLE\n",
      "9\t0.10\tpython -c import sys;import papermill as pm;pm.execute_notebook(\"__notebook__.ipynb\",\"__notebook__.i...\n",
      "185\t0.06\t/opt/conda/bin/python /opt/conda/lib/python3.10/site-packages/ray/dashboard/dashboard.py --host=127....\n",
      "250\t0.06\t/opt/conda/bin/python -u /opt/conda/lib/python3.10/site-packages/ray/dashboard/agent.py --node-ip-ad...\n",
      "153\t0.04\t/opt/conda/lib/python3.10/site-packages/ray/core/src/ray/gcs/gcs_server --log_dir=/tmp/ray/session_2...\n",
      "210\t0.04\t/opt/conda/bin/python -u /opt/conda/lib/python3.10/site-packages/ray/_private/log_monitor.py --sessi...\n",
      "Refer to the documentation on how to address the out of memory issue: https://docs.ray.io/en/latest/ray-core/scheduling/ray-oom-prevention.html. Consider provisioning more memory on this node or reducing task parallelism by requesting more CPUs per task. To adjust the kill threshold, set the environment variable `RAY_memory_usage_threshold` when starting Ray. To disable worker killing, set the environment variable `RAY_memory_monitor_refresh_ms` to zero.\n",
      "DEBUG flwr 2024-07-22 10:56:56,682 | server.py:236 | fit_round 19 received 9 results and 1 failures\n",
      "\u001b[33m(raylet)\u001b[0m [2024-07-22 10:57:10,100 E 209 209] (raylet) node_manager.cc:3022: 1 Workers (tasks / actors) killed due to memory pressure (OOM), 0 Workers crashed due to other reasons at node (ID: dcb7465c1e18f5f0fd3f2a9b1d80ab4a1bc14b88238171cc5f710a6a, IP: 172.19.2.2) over the last time period. To see more information about the Workers killed on this node, use `ray logs raylet.out -ip 172.19.2.2`\n",
      "\u001b[33m(raylet)\u001b[0m Refer to the documentation on how to address the out of memory issue: https://docs.ray.io/en/latest/ray-core/scheduling/ray-oom-prevention.html. Consider provisioning more memory on this node or reducing task parallelism by requesting more CPUs per task. To adjust the kill threshold, set the environment variable `RAY_memory_usage_threshold` when starting Ray. To disable worker killing, set the environment variable `RAY_memory_monitor_refresh_ms` to zero.\n",
      "\u001b[33m(raylet)\u001b[0m \u001b[32m [repeated 3x across cluster]\u001b[0m\n"
     ]
    },
    {
     "name": "stdout",
     "output_type": "stream",
     "text": [
      "Saving round 19 aggregated_parameters...\n"
     ]
    },
    {
     "name": "stderr",
     "output_type": "stream",
     "text": [
      "DEBUG flwr 2024-07-22 10:57:15,304 | server.py:173 | evaluate_round 19: strategy sampled 10 clients (out of 10)\n"
     ]
    },
    {
     "name": "stdout",
     "output_type": "stream",
     "text": [
      "\u001b[36m(launch_and_evaluate pid=15578)\u001b[0m Run with homomorphic encryption\n",
      "\u001b[36m(launch_and_fit pid=15488)\u001b[0m fc3.bias 3.337860107421875e-06\u001b[32m [repeated 8x across cluster]\u001b[0m\n",
      "\u001b[36m(launch_and_fit pid=15488)\u001b[0m qnn.weights 1.430511474609375e-06\n",
      "\u001b[36m(launch_and_evaluate pid=15577)\u001b[0m [Client 6] evaluate, config: {}\n",
      "\u001b[36m(launch_and_evaluate pid=15577)\u001b[0m Updated model\n",
      "\u001b[36m(launch_and_evaluate pid=15655)\u001b[0m Run with homomorphic encryption\u001b[32m [repeated 2x across cluster]\u001b[0m\n",
      "\u001b[36m(launch_and_evaluate pid=15578)\u001b[0m [Client 1] evaluate, config: {}\n",
      "\u001b[36m(launch_and_evaluate pid=15578)\u001b[0m Updated model\n",
      "\u001b[36m(launch_and_evaluate pid=15655)\u001b[0m [Client 8] evaluate, config: {}\n",
      "\u001b[36m(launch_and_evaluate pid=15655)\u001b[0m Updated model\n"
     ]
    },
    {
     "name": "stderr",
     "output_type": "stream",
     "text": [
      "\u001b[36m(launch_and_evaluate pid=15655)\u001b[0m /opt/conda/lib/python3.10/site-packages/sklearn/metrics/_ranking.py:1029: UndefinedMetricWarning: No positive samples in y_true, true positive value should be meaningless\n",
      "\u001b[36m(launch_and_evaluate pid=15655)\u001b[0m   warnings.warn(\n"
     ]
    },
    {
     "name": "stdout",
     "output_type": "stream",
     "text": [
      "\u001b[36m(launch_and_evaluate pid=15733)\u001b[0m Run with homomorphic encryption\u001b[32m [repeated 2x across cluster]\u001b[0m\n",
      "\u001b[36m(launch_and_evaluate pid=15657)\u001b[0m [Client 5] evaluate, config: {}\n",
      "\u001b[36m(launch_and_evaluate pid=15657)\u001b[0m Updated model\n",
      "\u001b[36m(launch_and_evaluate pid=15733)\u001b[0m [Client 4] evaluate, config: {}\n",
      "\u001b[36m(launch_and_evaluate pid=15733)\u001b[0m Updated model\n"
     ]
    },
    {
     "name": "stderr",
     "output_type": "stream",
     "text": [
      "\u001b[36m(launch_and_evaluate pid=15733)\u001b[0m /opt/conda/lib/python3.10/site-packages/sklearn/metrics/_ranking.py:1029: UndefinedMetricWarning: No positive samples in y_true, true positive value should be meaningless\n",
      "\u001b[36m(launch_and_evaluate pid=15733)\u001b[0m   warnings.warn(\n"
     ]
    },
    {
     "name": "stdout",
     "output_type": "stream",
     "text": [
      "\u001b[36m(launch_and_evaluate pid=15811)\u001b[0m Run with homomorphic encryption\u001b[32m [repeated 2x across cluster]\u001b[0m\n",
      "\u001b[36m(launch_and_evaluate pid=15735)\u001b[0m [Client 7] evaluate, config: {}\n",
      "\u001b[36m(launch_and_evaluate pid=15735)\u001b[0m Updated model\n",
      "\u001b[36m(launch_and_evaluate pid=15811)\u001b[0m [Client 2] evaluate, config: {}\n",
      "\u001b[36m(launch_and_evaluate pid=15811)\u001b[0m Updated model\n",
      "\u001b[36m(launch_and_evaluate pid=15891)\u001b[0m Run with homomorphic encryption\u001b[32m [repeated 2x across cluster]\u001b[0m\n",
      "\u001b[36m(launch_and_evaluate pid=15813)\u001b[0m [Client 3] evaluate, config: {}\n",
      "\u001b[36m(launch_and_evaluate pid=15813)\u001b[0m Updated model\n",
      "\u001b[36m(launch_and_evaluate pid=15891)\u001b[0m [Client 0] evaluate, config: {}\n",
      "\u001b[36m(launch_and_evaluate pid=15891)\u001b[0m Updated model\n"
     ]
    },
    {
     "name": "stderr",
     "output_type": "stream",
     "text": [
      "\u001b[36m(launch_and_evaluate pid=15889)\u001b[0m /opt/conda/lib/python3.10/site-packages/sklearn/metrics/_ranking.py:1029: UndefinedMetricWarning: No positive samples in y_true, true positive value should be meaningless\n",
      "\u001b[36m(launch_and_evaluate pid=15889)\u001b[0m   warnings.warn(\n",
      "DEBUG flwr 2024-07-22 10:58:22,457 | server.py:187 | evaluate_round 19 received 10 results and 0 failures\n",
      "DEBUG flwr 2024-07-22 10:58:22,458 | server.py:222 | fit_round 20: strategy sampled 10 clients (out of 10)\n"
     ]
    },
    {
     "name": "stdout",
     "output_type": "stream",
     "text": [
      "\u001b[36m(launch_and_fit pid=15977)\u001b[0m Run with homomorphic encryption\u001b[32m [repeated 2x across cluster]\u001b[0m\n",
      "\u001b[36m(launch_and_evaluate pid=15889)\u001b[0m [Client 9] evaluate, config: {}\n",
      "\u001b[36m(launch_and_evaluate pid=15889)\u001b[0m Updated model\n",
      "\u001b[36m(launch_and_fit pid=15977)\u001b[0m [Client 5, round 20] fit, config: {'learning_rate': 0.003, 'batch_size': '16', 'server_round': 20, 'local_epochs': 10}\n"
     ]
    },
    {
     "name": "stderr",
     "output_type": "stream",
     "text": [
      "  0%|\u001b[34m          \u001b[0m| 0/10 [00:00<?, ?it/s]\n"
     ]
    },
    {
     "name": "stdout",
     "output_type": "stream",
     "text": [
      "\u001b[36m(launch_and_fit pid=15977)\u001b[0m Updated model\n"
     ]
    },
    {
     "name": "stderr",
     "output_type": "stream",
     "text": [
      " 10%|\u001b[34m█         \u001b[0m| 1/10 [00:02<00:23,  2.65s/it]\n"
     ]
    },
    {
     "name": "stdout",
     "output_type": "stream",
     "text": [
      "\u001b[36m(launch_and_fit pid=15977)\u001b[0m \tTrain Epoch: 1 \tTrain_loss: 1.7680 | Train_acc: 31.9886 % | Validation_loss: 1.7834 | Validation_acc: 47.2222 %\n"
     ]
    },
    {
     "name": "stderr",
     "output_type": "stream",
     "text": [
      "  0%|\u001b[34m          \u001b[0m| 0/10 [00:00<?, ?it/s]\n"
     ]
    },
    {
     "name": "stdout",
     "output_type": "stream",
     "text": [
      "\u001b[36m(launch_and_fit pid=15976)\u001b[0m Run with homomorphic encryption\n",
      "\u001b[36m(launch_and_fit pid=15976)\u001b[0m [Client 4, round 20] fit, config: {'learning_rate': 0.003, 'batch_size': '16', 'server_round': 20, 'local_epochs': 10}\n",
      "\u001b[36m(launch_and_fit pid=15976)\u001b[0m Updated model\n"
     ]
    },
    {
     "name": "stderr",
     "output_type": "stream",
     "text": [
      " 30%|\u001b[34m███       \u001b[0m| 3/10 [00:07<00:18,  2.62s/it]\u001b[32m [repeated 4x across cluster]\u001b[0m\n"
     ]
    },
    {
     "name": "stdout",
     "output_type": "stream",
     "text": [
      "\u001b[36m(launch_and_fit pid=15976)\u001b[0m \tTrain Epoch: 3 \tTrain_loss: 1.6606 | Train_acc: 41.6761 % | Validation_loss: 1.6520 | Validation_acc: 46.5278 %\u001b[32m [repeated 4x across cluster]\u001b[0m\n"
     ]
    },
    {
     "name": "stderr",
     "output_type": "stream",
     "text": [
      " 50%|\u001b[34m█████     \u001b[0m| 5/10 [00:12<00:12,  2.56s/it]\u001b[32m [repeated 4x across cluster]\u001b[0m\n"
     ]
    },
    {
     "name": "stdout",
     "output_type": "stream",
     "text": [
      "\u001b[36m(launch_and_fit pid=15976)\u001b[0m \tTrain Epoch: 5 \tTrain_loss: 1.6589 | Train_acc: 44.0341 % | Validation_loss: 1.6882 | Validation_acc: 40.2778 %\u001b[32m [repeated 4x across cluster]\u001b[0m\n"
     ]
    },
    {
     "name": "stderr",
     "output_type": "stream",
     "text": [
      " 70%|\u001b[34m███████   \u001b[0m| 7/10 [00:18<00:07,  2.60s/it]\u001b[32m [repeated 4x across cluster]\u001b[0m\n"
     ]
    },
    {
     "name": "stdout",
     "output_type": "stream",
     "text": [
      "\u001b[36m(launch_and_fit pid=15976)\u001b[0m \tTrain Epoch: 7 \tTrain_loss: 1.6625 | Train_acc: 40.2273 % | Validation_loss: 1.6490 | Validation_acc: 42.3611 %\u001b[32m [repeated 4x across cluster]\u001b[0m\n"
     ]
    },
    {
     "name": "stderr",
     "output_type": "stream",
     "text": [
      " 90%|\u001b[34m█████████ \u001b[0m| 9/10 [00:23<00:02,  2.55s/it]\u001b[32m [repeated 4x across cluster]\u001b[0m\n"
     ]
    },
    {
     "name": "stdout",
     "output_type": "stream",
     "text": [
      "\u001b[36m(launch_and_fit pid=15976)\u001b[0m \tTrain Epoch: 9 \tTrain_loss: 1.6377 | Train_acc: 49.0057 % | Validation_loss: 1.6468 | Validation_acc: 44.4444 %\u001b[32m [repeated 4x across cluster]\u001b[0m\n",
      "\u001b[36m(launch_and_fit pid=15976)\u001b[0m save graph in  results/FL/\n",
      "\u001b[36m(launch_and_fit pid=15976)\u001b[0m fc1.weight 5.245208740234375e-06\n",
      "\u001b[36m(launch_and_fit pid=15976)\u001b[0m fc1.bias 1.6689300537109375e-06\n",
      "\u001b[36m(launch_and_fit pid=15976)\u001b[0m fc2.weight 1.1920928955078125e-06\n",
      "\u001b[36m(launch_and_fit pid=15976)\u001b[0m fc2.bias 9.5367431640625e-07\n",
      "\u001b[36m(launch_and_fit pid=15976)\u001b[0m qnn.weights 1.1920928955078125e-06\n",
      "\u001b[36m(launch_and_fit pid=15977)\u001b[0m \tTrain Epoch: 10 \tTrain_loss: 1.6492 | Train_acc: 44.7443 % | Validation_loss: 1.6554 | Validation_acc: 45.1389 %\u001b[32m [repeated 3x across cluster]\u001b[0m\n",
      "\u001b[36m(launch_and_fit pid=16059)\u001b[0m Run with homomorphic encryption\n",
      "\u001b[36m(launch_and_fit pid=15977)\u001b[0m save graph in  results/FL/\n",
      "\u001b[36m(launch_and_fit pid=15977)\u001b[0m fc3.bias 4.5299530029296875e-06\u001b[32m [repeated 8x across cluster]\u001b[0m\n",
      "\u001b[36m(launch_and_fit pid=15977)\u001b[0m qnn.weights 9.5367431640625e-07\n",
      "\u001b[36m(launch_and_fit pid=16059)\u001b[0m [Client 0, round 20] fit, config: {'learning_rate': 0.003, 'batch_size': '16', 'server_round': 20, 'local_epochs': 10}\n",
      "\u001b[36m(launch_and_fit pid=16059)\u001b[0m Updated model\n"
     ]
    },
    {
     "name": "stderr",
     "output_type": "stream",
     "text": [
      "  0%|\u001b[34m          \u001b[0m| 0/10 [00:00<?, ?it/s]\n",
      "100%|\u001b[34m██████████\u001b[0m| 10/10 [00:25<00:00,  2.59s/it]\u001b[32m [repeated 3x across cluster]\u001b[0m\n"
     ]
    },
    {
     "name": "stdout",
     "output_type": "stream",
     "text": [
      "\u001b[36m(launch_and_fit pid=16059)\u001b[0m \tTrain Epoch: 1 \tTrain_loss: 1.6997 | Train_acc: 39.9432 % | Validation_loss: 1.8445 | Validation_acc: 22.9167 %\n",
      "\u001b[36m(launch_and_fit pid=16061)\u001b[0m Run with homomorphic encryption\n",
      "\u001b[36m(launch_and_fit pid=16061)\u001b[0m [Client 8, round 20] fit, config: {'learning_rate': 0.003, 'batch_size': '16', 'server_round': 20, 'local_epochs': 10}\n",
      "\u001b[36m(launch_and_fit pid=16061)\u001b[0m Updated model\n"
     ]
    },
    {
     "name": "stderr",
     "output_type": "stream",
     "text": [
      "  0%|\u001b[34m          \u001b[0m| 0/10 [00:00<?, ?it/s]\n",
      " 20%|\u001b[34m██        \u001b[0m| 2/10 [00:05<00:22,  2.76s/it]\u001b[32m [repeated 3x across cluster]\u001b[0m\n"
     ]
    },
    {
     "name": "stdout",
     "output_type": "stream",
     "text": [
      "\u001b[36m(launch_and_fit pid=16059)\u001b[0m \tTrain Epoch: 3 \tTrain_loss: 1.6426 | Train_acc: 42.7557 % | Validation_loss: 1.8619 | Validation_acc: 25.0000 %\u001b[32m [repeated 4x across cluster]\u001b[0m\n"
     ]
    },
    {
     "name": "stderr",
     "output_type": "stream",
     "text": [
      " 40%|\u001b[34m████      \u001b[0m| 4/10 [00:10<00:15,  2.66s/it]\u001b[32m [repeated 4x across cluster]\u001b[0m\n"
     ]
    },
    {
     "name": "stdout",
     "output_type": "stream",
     "text": [
      "\u001b[36m(launch_and_fit pid=16059)\u001b[0m \tTrain Epoch: 5 \tTrain_loss: 1.6243 | Train_acc: 45.4261 % | Validation_loss: 1.8351 | Validation_acc: 29.1667 %\u001b[32m [repeated 4x across cluster]\u001b[0m\n"
     ]
    },
    {
     "name": "stderr",
     "output_type": "stream",
     "text": [
      " 60%|\u001b[34m██████    \u001b[0m| 6/10 [00:15<00:10,  2.53s/it]\u001b[32m [repeated 4x across cluster]\u001b[0m\n"
     ]
    },
    {
     "name": "stdout",
     "output_type": "stream",
     "text": [
      "\u001b[36m(launch_and_fit pid=16059)\u001b[0m \tTrain Epoch: 7 \tTrain_loss: 1.6070 | Train_acc: 45.1136 % | Validation_loss: 1.8386 | Validation_acc: 27.0833 %\u001b[32m [repeated 5x across cluster]\u001b[0m\n"
     ]
    },
    {
     "name": "stderr",
     "output_type": "stream",
     "text": [
      " 80%|\u001b[34m████████  \u001b[0m| 8/10 [00:21<00:05,  2.56s/it]\u001b[32m [repeated 5x across cluster]\u001b[0m\n"
     ]
    },
    {
     "name": "stdout",
     "output_type": "stream",
     "text": [
      "\u001b[36m(launch_and_fit pid=16061)\u001b[0m \tTrain Epoch: 9 \tTrain_loss: 1.6225 | Train_acc: 45.7102 % | Validation_loss: 1.7674 | Validation_acc: 36.1111 %\u001b[32m [repeated 3x across cluster]\u001b[0m\n"
     ]
    },
    {
     "name": "stderr",
     "output_type": "stream",
     "text": [
      "100%|\u001b[34m██████████\u001b[0m| 10/10 [00:26<00:00,  2.60s/it]\u001b[32m [repeated 3x across cluster]\u001b[0m\n"
     ]
    },
    {
     "name": "stdout",
     "output_type": "stream",
     "text": [
      "\u001b[36m(launch_and_fit pid=16061)\u001b[0m save graph in  results/FL/\n",
      "\u001b[36m(launch_and_fit pid=16061)\u001b[0m fc1.weight 5.9604644775390625e-06\n",
      "\u001b[36m(launch_and_fit pid=16061)\u001b[0m fc1.bias 1.6689300537109375e-06\n",
      "\u001b[36m(launch_and_fit pid=16061)\u001b[0m fc2.weight 1.1920928955078125e-06\n",
      "\u001b[36m(launch_and_fit pid=16061)\u001b[0m fc2.bias 1.1920928955078125e-06\n",
      "\u001b[36m(launch_and_fit pid=16061)\u001b[0m qnn.weights 1.1920928955078125e-06\n",
      "\u001b[36m(launch_and_fit pid=16059)\u001b[0m \tTrain Epoch: 10 \tTrain_loss: 1.5935 | Train_acc: 51.6761 % | Validation_loss: 1.8622 | Validation_acc: 22.9167 %\u001b[32m [repeated 3x across cluster]\u001b[0m\n",
      "\u001b[36m(launch_and_fit pid=16142)\u001b[0m Run with homomorphic encryption\n",
      "\u001b[36m(launch_and_fit pid=16059)\u001b[0m save graph in  results/FL/\n",
      "\u001b[36m(launch_and_fit pid=16059)\u001b[0m fc3.bias 5.245208740234375e-06\u001b[32m [repeated 8x across cluster]\u001b[0m\n",
      "\u001b[36m(launch_and_fit pid=16059)\u001b[0m qnn.weights 1.6689300537109375e-06\n",
      "\u001b[36m(launch_and_fit pid=16142)\u001b[0m [Client 1, round 20] fit, config: {'learning_rate': 0.003, 'batch_size': '16', 'server_round': 20, 'local_epochs': 10}\n",
      "\u001b[36m(launch_and_fit pid=16142)\u001b[0m Updated model\n"
     ]
    },
    {
     "name": "stderr",
     "output_type": "stream",
     "text": [
      "  0%|\u001b[34m          \u001b[0m| 0/10 [00:00<?, ?it/s]\n",
      "100%|\u001b[34m██████████\u001b[0m| 10/10 [00:26<00:00,  2.68s/it]\n"
     ]
    },
    {
     "name": "stdout",
     "output_type": "stream",
     "text": [
      "\u001b[36m(launch_and_fit pid=16142)\u001b[0m \tTrain Epoch: 1 \tTrain_loss: 1.7318 | Train_acc: 36.1648 % | Validation_loss: 1.8000 | Validation_acc: 36.1111 %\n"
     ]
    },
    {
     "name": "stderr",
     "output_type": "stream",
     "text": [
      " 10%|\u001b[34m█         \u001b[0m| 1/10 [00:02<00:24,  2.70s/it]\n"
     ]
    },
    {
     "name": "stdout",
     "output_type": "stream",
     "text": [
      "\u001b[36m(launch_and_fit pid=16144)\u001b[0m Run with homomorphic encryption\n",
      "\u001b[36m(launch_and_fit pid=16144)\u001b[0m [Client 2, round 20] fit, config: {'learning_rate': 0.003, 'batch_size': '16', 'server_round': 20, 'local_epochs': 10}\n",
      "\u001b[36m(launch_and_fit pid=16144)\u001b[0m Updated model\n"
     ]
    },
    {
     "name": "stderr",
     "output_type": "stream",
     "text": [
      "  0%|\u001b[34m          \u001b[0m| 0/10 [00:00<?, ?it/s]\n"
     ]
    },
    {
     "name": "stdout",
     "output_type": "stream",
     "text": [
      "\u001b[36m(launch_and_fit pid=16142)\u001b[0m \tTrain Epoch: 3 \tTrain_loss: 1.6810 | Train_acc: 42.1023 % | Validation_loss: 1.8207 | Validation_acc: 34.0278 %\u001b[32m [repeated 4x across cluster]\u001b[0m\n"
     ]
    },
    {
     "name": "stderr",
     "output_type": "stream",
     "text": [
      " 30%|\u001b[34m███       \u001b[0m| 3/10 [00:08<00:19,  2.74s/it]\u001b[32m [repeated 4x across cluster]\u001b[0m\n"
     ]
    },
    {
     "name": "stdout",
     "output_type": "stream",
     "text": [
      "\u001b[36m(launch_and_fit pid=16142)\u001b[0m \tTrain Epoch: 5 \tTrain_loss: 1.6695 | Train_acc: 41.3636 % | Validation_loss: 1.8304 | Validation_acc: 31.9444 %\u001b[32m [repeated 4x across cluster]\u001b[0m\n"
     ]
    },
    {
     "name": "stderr",
     "output_type": "stream",
     "text": [
      " 50%|\u001b[34m█████     \u001b[0m| 5/10 [00:13<00:13,  2.72s/it]\u001b[32m [repeated 4x across cluster]\u001b[0m\n"
     ]
    },
    {
     "name": "stdout",
     "output_type": "stream",
     "text": [
      "\u001b[36m(launch_and_fit pid=16142)\u001b[0m \tTrain Epoch: 7 \tTrain_loss: 1.6559 | Train_acc: 43.2386 % | Validation_loss: 1.8110 | Validation_acc: 34.0278 %\u001b[32m [repeated 4x across cluster]\u001b[0m\n"
     ]
    },
    {
     "name": "stderr",
     "output_type": "stream",
     "text": [
      " 70%|\u001b[34m███████   \u001b[0m| 7/10 [00:18<00:08,  2.70s/it]\u001b[32m [repeated 4x across cluster]\u001b[0m\n"
     ]
    },
    {
     "name": "stdout",
     "output_type": "stream",
     "text": [
      "\u001b[36m(launch_and_fit pid=16142)\u001b[0m \tTrain Epoch: 9 \tTrain_loss: 1.6326 | Train_acc: 45.7102 % | Validation_loss: 1.8123 | Validation_acc: 31.9444 %\u001b[32m [repeated 4x across cluster]\u001b[0m\n"
     ]
    },
    {
     "name": "stderr",
     "output_type": "stream",
     "text": [
      " 90%|\u001b[34m█████████ \u001b[0m| 9/10 [00:24<00:02,  2.76s/it]\u001b[32m [repeated 4x across cluster]\u001b[0m\n"
     ]
    },
    {
     "name": "stdout",
     "output_type": "stream",
     "text": [
      "\u001b[36m(launch_and_fit pid=16142)\u001b[0m save graph in  results/FL/\n",
      "\u001b[36m(launch_and_fit pid=16142)\u001b[0m fc1.weight 5.4836273193359375e-06\n",
      "\u001b[36m(launch_and_fit pid=16142)\u001b[0m fc1.bias 1.430511474609375e-06\n",
      "\u001b[36m(launch_and_fit pid=16142)\u001b[0m fc2.weight 9.5367431640625e-07\n",
      "\u001b[36m(launch_and_fit pid=16142)\u001b[0m fc2.bias 1.1920928955078125e-06\n",
      "\u001b[36m(launch_and_fit pid=16142)\u001b[0m qnn.weights 1.430511474609375e-06\n",
      "\u001b[36m(launch_and_fit pid=16144)\u001b[0m \tTrain Epoch: 10 \tTrain_loss: 1.6056 | Train_acc: 46.5057 % | Validation_loss: 1.7572 | Validation_acc: 29.8611 %\u001b[32m [repeated 3x across cluster]\u001b[0m\n",
      "\u001b[36m(launch_and_fit pid=16224)\u001b[0m Run with homomorphic encryption\n",
      "\u001b[36m(launch_and_fit pid=16144)\u001b[0m save graph in  results/FL/\n",
      "\u001b[36m(launch_and_fit pid=16144)\u001b[0m fc3.bias 4.291534423828125e-06\u001b[32m [repeated 8x across cluster]\u001b[0m\n",
      "\u001b[36m(launch_and_fit pid=16144)\u001b[0m qnn.weights 9.5367431640625e-07\n",
      "\u001b[36m(launch_and_fit pid=16224)\u001b[0m [Client 3, round 20] fit, config: {'learning_rate': 0.003, 'batch_size': '16', 'server_round': 20, 'local_epochs': 10}\n"
     ]
    },
    {
     "name": "stderr",
     "output_type": "stream",
     "text": [
      "  0%|\u001b[34m          \u001b[0m| 0/10 [00:00<?, ?it/s]\n",
      "100%|\u001b[34m██████████\u001b[0m| 10/10 [00:27<00:00,  2.73s/it]\u001b[32m [repeated 3x across cluster]\u001b[0m\n"
     ]
    },
    {
     "name": "stdout",
     "output_type": "stream",
     "text": [
      "\u001b[36m(launch_and_fit pid=16224)\u001b[0m Updated model\n",
      "\u001b[36m(launch_and_fit pid=16224)\u001b[0m \tTrain Epoch: 1 \tTrain_loss: 1.7506 | Train_acc: 35.7386 % | Validation_loss: 1.7899 | Validation_acc: 29.8611 %\n"
     ]
    },
    {
     "name": "stderr",
     "output_type": "stream",
     "text": [
      "  0%|\u001b[34m          \u001b[0m| 0/10 [00:00<?, ?it/s]\n",
      " 20%|\u001b[34m██        \u001b[0m| 2/10 [00:05<00:21,  2.67s/it]\u001b[32m [repeated 3x across cluster]\u001b[0m\n"
     ]
    },
    {
     "name": "stdout",
     "output_type": "stream",
     "text": [
      "\u001b[36m(launch_and_fit pid=16226)\u001b[0m Run with homomorphic encryption\n",
      "\u001b[36m(launch_and_fit pid=16226)\u001b[0m [Client 7, round 20] fit, config: {'learning_rate': 0.003, 'batch_size': '16', 'server_round': 20, 'local_epochs': 10}\n",
      "\u001b[36m(launch_and_fit pid=16226)\u001b[0m Updated model\n",
      "\u001b[36m(launch_and_fit pid=16224)\u001b[0m \tTrain Epoch: 3 \tTrain_loss: 1.6889 | Train_acc: 40.9091 % | Validation_loss: 1.8665 | Validation_acc: 40.9722 %\u001b[32m [repeated 4x across cluster]\u001b[0m\n"
     ]
    },
    {
     "name": "stderr",
     "output_type": "stream",
     "text": [
      " 40%|\u001b[34m████      \u001b[0m| 4/10 [00:10<00:15,  2.64s/it]\u001b[32m [repeated 4x across cluster]\u001b[0m\n"
     ]
    },
    {
     "name": "stdout",
     "output_type": "stream",
     "text": [
      "\u001b[36m(launch_and_fit pid=16226)\u001b[0m \tTrain Epoch: 5 \tTrain_loss: 1.6321 | Train_acc: 47.5284 % | Validation_loss: 1.5425 | Validation_acc: 53.4722 %\u001b[32m [repeated 4x across cluster]\u001b[0m\n"
     ]
    },
    {
     "name": "stderr",
     "output_type": "stream",
     "text": [
      " 60%|\u001b[34m██████    \u001b[0m| 6/10 [00:16<00:10,  2.73s/it]\u001b[32m [repeated 4x across cluster]\u001b[0m\n"
     ]
    },
    {
     "name": "stdout",
     "output_type": "stream",
     "text": [
      "\u001b[36m(launch_and_fit pid=16226)\u001b[0m \tTrain Epoch: 7 \tTrain_loss: 1.6322 | Train_acc: 49.2898 % | Validation_loss: 1.5745 | Validation_acc: 51.3889 %\u001b[32m [repeated 4x across cluster]\u001b[0m\n"
     ]
    },
    {
     "name": "stderr",
     "output_type": "stream",
     "text": [
      " 80%|\u001b[34m████████  \u001b[0m| 8/10 [00:21<00:05,  2.68s/it]\u001b[32m [repeated 4x across cluster]\u001b[0m\n"
     ]
    },
    {
     "name": "stdout",
     "output_type": "stream",
     "text": [
      "\u001b[36m(launch_and_fit pid=16224)\u001b[0m \tTrain Epoch: 9 \tTrain_loss: 1.6403 | Train_acc: 47.7273 % | Validation_loss: 1.8369 | Validation_acc: 36.1111 %\u001b[32m [repeated 4x across cluster]\u001b[0m\n"
     ]
    },
    {
     "name": "stderr",
     "output_type": "stream",
     "text": [
      "100%|\u001b[34m██████████\u001b[0m| 10/10 [00:27<00:00,  2.73s/it]\u001b[32m [repeated 4x across cluster]\u001b[0m\n"
     ]
    },
    {
     "name": "stdout",
     "output_type": "stream",
     "text": [
      "\u001b[36m(launch_and_fit pid=16224)\u001b[0m save graph in  results/FL/\n",
      "\u001b[36m(launch_and_fit pid=16224)\u001b[0m fc1.weight 5.245208740234375e-06\n",
      "\u001b[36m(launch_and_fit pid=16224)\u001b[0m fc1.bias 1.1920928955078125e-06\n",
      "\u001b[36m(launch_and_fit pid=16224)\u001b[0m fc2.weight 1.1920928955078125e-06\n",
      "\u001b[36m(launch_and_fit pid=16224)\u001b[0m fc2.bias 1.1920928955078125e-06\n",
      "\u001b[36m(launch_and_fit pid=16224)\u001b[0m qnn.weights 1.1920928955078125e-06\n",
      "\u001b[36m(launch_and_fit pid=16226)\u001b[0m \tTrain Epoch: 10 \tTrain_loss: 1.6009 | Train_acc: 52.8977 % | Validation_loss: 1.5504 | Validation_acc: 55.5556 %\u001b[32m [repeated 3x across cluster]\u001b[0m\n",
      "\u001b[36m(launch_and_fit pid=16306)\u001b[0m Run with homomorphic encryption\n",
      "\u001b[36m(launch_and_fit pid=16226)\u001b[0m save graph in  results/FL/\n",
      "\u001b[36m(launch_and_fit pid=16226)\u001b[0m fc3.bias 4.0531158447265625e-06\u001b[32m [repeated 8x across cluster]\u001b[0m\n",
      "\u001b[36m(launch_and_fit pid=16226)\u001b[0m qnn.weights 1.1920928955078125e-06\n",
      "\u001b[36m(launch_and_fit pid=16306)\u001b[0m [Client 6, round 20] fit, config: {'learning_rate': 0.003, 'batch_size': '16', 'server_round': 20, 'local_epochs': 10}\n",
      "\u001b[36m(launch_and_fit pid=16306)\u001b[0m Updated model\n"
     ]
    },
    {
     "name": "stderr",
     "output_type": "stream",
     "text": [
      "  0%|\u001b[34m          \u001b[0m| 0/10 [00:00<?, ?it/s]\n",
      "100%|\u001b[34m██████████\u001b[0m| 10/10 [00:27<00:00,  2.73s/it]\n"
     ]
    },
    {
     "name": "stdout",
     "output_type": "stream",
     "text": [
      "\u001b[36m(launch_and_fit pid=16306)\u001b[0m \tTrain Epoch: 1 \tTrain_loss: 1.6617 | Train_acc: 44.6023 % | Validation_loss: 1.6961 | Validation_acc: 52.0833 %\n"
     ]
    },
    {
     "name": "stderr",
     "output_type": "stream",
     "text": [
      " 10%|\u001b[34m█         \u001b[0m| 1/10 [00:02<00:25,  2.79s/it]\n"
     ]
    },
    {
     "name": "stdout",
     "output_type": "stream",
     "text": [
      "\u001b[36m(launch_and_fit pid=16308)\u001b[0m Run with homomorphic encryption\n",
      "\u001b[36m(launch_and_fit pid=16308)\u001b[0m [Client 9, round 20] fit, config: {'learning_rate': 0.003, 'batch_size': '16', 'server_round': 20, 'local_epochs': 10}\n",
      "\u001b[36m(launch_and_fit pid=16308)\u001b[0m Updated model\n"
     ]
    },
    {
     "name": "stderr",
     "output_type": "stream",
     "text": [
      "  0%|\u001b[34m          \u001b[0m| 0/10 [00:00<?, ?it/s]\n"
     ]
    },
    {
     "name": "stdout",
     "output_type": "stream",
     "text": [
      "\u001b[36m(launch_and_fit pid=16306)\u001b[0m \tTrain Epoch: 3 \tTrain_loss: 1.6178 | Train_acc: 46.9886 % | Validation_loss: 1.7322 | Validation_acc: 29.8611 %\u001b[32m [repeated 4x across cluster]\u001b[0m\n"
     ]
    },
    {
     "name": "stderr",
     "output_type": "stream",
     "text": [
      " 30%|\u001b[34m███       \u001b[0m| 3/10 [00:08<00:19,  2.82s/it]\u001b[32m [repeated 4x across cluster]\u001b[0m\n"
     ]
    },
    {
     "name": "stdout",
     "output_type": "stream",
     "text": [
      "\u001b[36m(launch_and_fit pid=16306)\u001b[0m \tTrain Epoch: 5 \tTrain_loss: 1.5924 | Train_acc: 47.7273 % | Validation_loss: 1.7221 | Validation_acc: 31.9444 %\u001b[32m [repeated 4x across cluster]\u001b[0m\n"
     ]
    },
    {
     "name": "stderr",
     "output_type": "stream",
     "text": [
      " 50%|\u001b[34m█████     \u001b[0m| 5/10 [00:13<00:13,  2.63s/it]\u001b[32m [repeated 4x across cluster]\u001b[0m\n"
     ]
    },
    {
     "name": "stdout",
     "output_type": "stream",
     "text": [
      "\u001b[36m(launch_and_fit pid=16308)\u001b[0m \tTrain Epoch: 7 \tTrain_loss: 1.6185 | Train_acc: 46.6458 % | Validation_loss: 1.6120 | Validation_acc: 36.1111 %\u001b[32m [repeated 4x across cluster]\u001b[0m\n"
     ]
    },
    {
     "name": "stderr",
     "output_type": "stream",
     "text": [
      " 70%|\u001b[34m███████   \u001b[0m| 7/10 [00:18<00:07,  2.57s/it]\u001b[32m [repeated 4x across cluster]\u001b[0m\n"
     ]
    },
    {
     "name": "stdout",
     "output_type": "stream",
     "text": [
      "\u001b[36m(launch_and_fit pid=16308)\u001b[0m \tTrain Epoch: 9 \tTrain_loss: 1.6043 | Train_acc: 48.5625 % | Validation_loss: 1.6296 | Validation_acc: 49.3056 %\u001b[32m [repeated 4x across cluster]\u001b[0m\n"
     ]
    },
    {
     "name": "stderr",
     "output_type": "stream",
     "text": [
      " 90%|\u001b[34m█████████ \u001b[0m| 9/10 [00:23<00:02,  2.65s/it]\u001b[32m [repeated 4x across cluster]\u001b[0m\n"
     ]
    },
    {
     "name": "stdout",
     "output_type": "stream",
     "text": [
      "\u001b[36m(launch_and_fit pid=16308)\u001b[0m save graph in  results/FL/\n",
      "\u001b[36m(launch_and_fit pid=16308)\u001b[0m fc1.weight 5.245208740234375e-06\n",
      "\u001b[36m(launch_and_fit pid=16308)\u001b[0m fc1.bias 1.430511474609375e-06\n",
      "\u001b[36m(launch_and_fit pid=16308)\u001b[0m fc2.weight 9.5367431640625e-07\n",
      "\u001b[36m(launch_and_fit pid=16308)\u001b[0m fc2.bias 9.5367431640625e-07\n",
      "\u001b[36m(launch_and_fit pid=16308)\u001b[0m qnn.weights 9.5367431640625e-07\n",
      "\u001b[36m(launch_and_fit pid=16306)\u001b[0m \tTrain Epoch: 10 \tTrain_loss: 1.5849 | Train_acc: 49.9148 % | Validation_loss: 1.8923 | Validation_acc: 27.7778 %\u001b[32m [repeated 3x across cluster]\u001b[0m\n"
     ]
    },
    {
     "name": "stderr",
     "output_type": "stream",
     "text": [
      "ERROR flwr 2024-07-22 11:02:21,986 | ray_client_proxy.py:87 | Task was killed due to the node running low on memory.\n",
      "Memory on the node (IP: 172.19.2.2, ID: dcb7465c1e18f5f0fd3f2a9b1d80ab4a1bc14b88238171cc5f710a6a) where the task (task ID: a01bfb5a98af1e649ba9c4e00c66b202f5b4cf4c01000000, name=launch_and_fit, pid=16308, memory used=2.64GB) was running was 27.76GB / 29.00GB (0.957371), which exceeds the memory usage threshold of 0.95. Ray killed this worker (ID: dd65280f8890ec020ae756b0f487c9035b623827a848d3e2a7540b96) because it was the most recently scheduled task; to see more information about memory usage on this node, use `ray logs raylet.out -ip 172.19.2.2`. To see the logs of the worker, use `ray logs worker-dd65280f8890ec020ae756b0f487c9035b623827a848d3e2a7540b96*out -ip 172.19.2.2. Top 10 memory users:\n",
      "PID\tMEM(GB)\tCOMMAND\n",
      "24\t15.91\t/opt/conda/bin/python -m ipykernel_launcher -f /tmp/tmposf3yqre.json --HistoryManager.hist_file=:mem...\n",
      "16306\t2.65\tray::launch_and_fit\n",
      "16308\t2.64\tray::launch_and_fit\n",
      "16224\t2.31\tray::IDLE\n",
      "16226\t1.98\tray::IDLE\n",
      "9\t0.10\tpython -c import sys;import papermill as pm;pm.execute_notebook(\"__notebook__.ipynb\",\"__notebook__.i...\n",
      "185\t0.06\t/opt/conda/bin/python /opt/conda/lib/python3.10/site-packages/ray/dashboard/dashboard.py --host=127....\n",
      "250\t0.06\t/opt/conda/bin/python -u /opt/conda/lib/python3.10/site-packages/ray/dashboard/agent.py --node-ip-ad...\n",
      "153\t0.04\t/opt/conda/lib/python3.10/site-packages/ray/core/src/ray/gcs/gcs_server --log_dir=/tmp/ray/session_2...\n",
      "184\t0.04\t/opt/conda/bin/python -u /opt/conda/lib/python3.10/site-packages/ray/autoscaler/_private/monitor.py ...\n",
      "Refer to the documentation on how to address the out of memory issue: https://docs.ray.io/en/latest/ray-core/scheduling/ray-oom-prevention.html. Consider provisioning more memory on this node or reducing task parallelism by requesting more CPUs per task. To adjust the kill threshold, set the environment variable `RAY_memory_usage_threshold` when starting Ray. To disable worker killing, set the environment variable `RAY_memory_monitor_refresh_ms` to zero.\n",
      "DEBUG flwr 2024-07-22 11:02:22,390 | server.py:236 | fit_round 20 received 9 results and 1 failures\n"
     ]
    },
    {
     "name": "stdout",
     "output_type": "stream",
     "text": [
      "Saving round 20 aggregated_parameters...\n"
     ]
    },
    {
     "name": "stderr",
     "output_type": "stream",
     "text": [
      "DEBUG flwr 2024-07-22 11:02:40,754 | server.py:173 | evaluate_round 20: strategy sampled 10 clients (out of 10)\n"
     ]
    },
    {
     "name": "stdout",
     "output_type": "stream",
     "text": [
      "\u001b[36m(launch_and_evaluate pid=16396)\u001b[0m Run with homomorphic encryption\n",
      "\u001b[36m(launch_and_fit pid=16306)\u001b[0m save graph in  results/FL/\n",
      "\u001b[36m(launch_and_fit pid=16306)\u001b[0m fc3.bias 3.814697265625e-06\u001b[32m [repeated 8x across cluster]\u001b[0m\n",
      "\u001b[36m(launch_and_fit pid=16306)\u001b[0m qnn.weights 1.1920928955078125e-06\n",
      "\u001b[36m(launch_and_evaluate pid=16396)\u001b[0m [Client 3] evaluate, config: {}\n",
      "\u001b[36m(launch_and_evaluate pid=16396)\u001b[0m Updated model\n"
     ]
    },
    {
     "name": "stderr",
     "output_type": "stream",
     "text": [
      "\u001b[36m(launch_and_evaluate pid=16397)\u001b[0m /opt/conda/lib/python3.10/site-packages/sklearn/metrics/_ranking.py:1029: UndefinedMetricWarning: No positive samples in y_true, true positive value should be meaningless\n",
      "\u001b[36m(launch_and_evaluate pid=16397)\u001b[0m   warnings.warn(\n",
      "100%|\u001b[34m██████████\u001b[0m| 10/10 [00:26<00:00,  2.66s/it]\u001b[32m [repeated 3x across cluster]\u001b[0m\n"
     ]
    },
    {
     "name": "stdout",
     "output_type": "stream",
     "text": [
      "\u001b[36m(launch_and_evaluate pid=16473)\u001b[0m Run with homomorphic encryption\u001b[32m [repeated 2x across cluster]\u001b[0m\n",
      "\u001b[36m(launch_and_evaluate pid=16397)\u001b[0m [Client 4] evaluate, config: {}\n",
      "\u001b[36m(launch_and_evaluate pid=16397)\u001b[0m Updated model\n",
      "\u001b[36m(launch_and_evaluate pid=16473)\u001b[0m [Client 2] evaluate, config: {}\n",
      "\u001b[36m(launch_and_evaluate pid=16473)\u001b[0m Updated model\n"
     ]
    },
    {
     "name": "stderr",
     "output_type": "stream",
     "text": [
      "\u001b[33m(raylet)\u001b[0m [2024-07-22 11:03:10,117 E 209 209] (raylet) node_manager.cc:3022: 1 Workers (tasks / actors) killed due to memory pressure (OOM), 0 Workers crashed due to other reasons at node (ID: dcb7465c1e18f5f0fd3f2a9b1d80ab4a1bc14b88238171cc5f710a6a, IP: 172.19.2.2) over the last time period. To see more information about the Workers killed on this node, use `ray logs raylet.out -ip 172.19.2.2`\n",
      "\u001b[33m(raylet)\u001b[0m Refer to the documentation on how to address the out of memory issue: https://docs.ray.io/en/latest/ray-core/scheduling/ray-oom-prevention.html. Consider provisioning more memory on this node or reducing task parallelism by requesting more CPUs per task. To adjust the kill threshold, set the environment variable `RAY_memory_usage_threshold` when starting Ray. To disable worker killing, set the environment variable `RAY_memory_monitor_refresh_ms` to zero.\n",
      "\u001b[33m(raylet)\u001b[0m \n"
     ]
    },
    {
     "name": "stdout",
     "output_type": "stream",
     "text": [
      "\u001b[36m(launch_and_evaluate pid=16551)\u001b[0m Run with homomorphic encryption\u001b[32m [repeated 2x across cluster]\u001b[0m\n",
      "\u001b[36m(launch_and_evaluate pid=16498)\u001b[0m [Client 5] evaluate, config: {}\n",
      "\u001b[36m(launch_and_evaluate pid=16498)\u001b[0m Updated model\n",
      "\u001b[36m(launch_and_evaluate pid=16551)\u001b[0m [Client 9] evaluate, config: {}\n",
      "\u001b[36m(launch_and_evaluate pid=16551)\u001b[0m Updated model\n"
     ]
    },
    {
     "name": "stderr",
     "output_type": "stream",
     "text": [
      "\u001b[36m(launch_and_evaluate pid=16551)\u001b[0m /opt/conda/lib/python3.10/site-packages/sklearn/metrics/_ranking.py:1029: UndefinedMetricWarning: No positive samples in y_true, true positive value should be meaningless\n",
      "\u001b[36m(launch_and_evaluate pid=16551)\u001b[0m   warnings.warn(\n"
     ]
    },
    {
     "name": "stdout",
     "output_type": "stream",
     "text": [
      "\u001b[36m(launch_and_evaluate pid=16631)\u001b[0m Run with homomorphic encryption\u001b[32m [repeated 2x across cluster]\u001b[0m\n",
      "\u001b[36m(launch_and_evaluate pid=16553)\u001b[0m [Client 7] evaluate, config: {}\n",
      "\u001b[36m(launch_and_evaluate pid=16553)\u001b[0m Updated model\n",
      "\u001b[36m(launch_and_evaluate pid=16631)\u001b[0m [Client 8] evaluate, config: {}\n",
      "\u001b[36m(launch_and_evaluate pid=16631)\u001b[0m Updated model\n"
     ]
    },
    {
     "name": "stderr",
     "output_type": "stream",
     "text": [
      "\u001b[36m(launch_and_evaluate pid=16631)\u001b[0m /opt/conda/lib/python3.10/site-packages/sklearn/metrics/_ranking.py:1029: UndefinedMetricWarning: No positive samples in y_true, true positive value should be meaningless\n",
      "\u001b[36m(launch_and_evaluate pid=16631)\u001b[0m   warnings.warn(\n"
     ]
    },
    {
     "name": "stdout",
     "output_type": "stream",
     "text": [
      "\u001b[36m(launch_and_evaluate pid=16707)\u001b[0m Run with homomorphic encryption\u001b[32m [repeated 2x across cluster]\u001b[0m\n",
      "\u001b[36m(launch_and_evaluate pid=16629)\u001b[0m [Client 6] evaluate, config: {}\n",
      "\u001b[36m(launch_and_evaluate pid=16629)\u001b[0m Updated model\n",
      "\u001b[36m(launch_and_evaluate pid=16707)\u001b[0m [Client 0] evaluate, config: {}\n",
      "\u001b[36m(launch_and_evaluate pid=16707)\u001b[0m Updated model\n"
     ]
    },
    {
     "name": "stderr",
     "output_type": "stream",
     "text": [
      "DEBUG flwr 2024-07-22 11:03:47,759 | server.py:187 | evaluate_round 20 received 10 results and 0 failures\n",
      "INFO flwr 2024-07-22 11:03:47,760 | server.py:153 | FL finished in 6456.557831148\n",
      "INFO flwr 2024-07-22 11:03:47,956 | app.py:225 | app_fit: losses_distributed [(1, 1.8772496700286865), (2, 1.8323648929595948), (3, 1.8087212165196738), (4, 1.7991851409276327), (5, 1.7846904555956522), (6, 1.7785662333170573), (7, 1.785467231273651), (8, 1.7837801218032836), (9, 1.7782945434252422), (10, 1.772448190053304), (11, 1.7682931343714396), (12, 1.7594100634257), (13, 1.7698185920715332), (14, 1.750889492034912), (15, 1.7333250164985656), (16, 1.743086612224579), (17, 1.7302909334500631), (18, 1.7185285409291586), (19, 1.7193865060806275), (20, 1.7150089542071025)]\n",
      "INFO flwr 2024-07-22 11:03:47,958 | app.py:226 | app_fit: metrics_distributed_fit {}\n",
      "INFO flwr 2024-07-22 11:03:47,958 | app.py:227 | app_fit: metrics_distributed {'accuracy': [(1, 30.347222222222218), (2, 30.347222222222225), (3, 33.40277777777778), (4, 33.40277777777778), (5, 33.611111111111114), (6, 34.93055555555555), (7, 33.61111111111111), (8, 34.513888888888886), (9, 36.388888888888886), (10, 33.19444444444444), (11, 31.45833333333333), (12, 35.55555555555555), (13, 31.66666666666666), (14, 37.15277777777778), (15, 38.263888888888886), (16, 34.16666666666666), (17, 36.38888888888889), (18, 43.26388888888889), (19, 38.88888888888888), (20, 38.541666666666664)]}\n",
      "INFO flwr 2024-07-22 11:03:47,959 | app.py:228 | app_fit: losses_centralized []\n",
      "INFO flwr 2024-07-22 11:03:47,960 | app.py:229 | app_fit: metrics_centralized {}\n"
     ]
    },
    {
     "name": "stdout",
     "output_type": "stream",
     "text": [
      "Simulation Time = 6462.2934601306915 seconds\n"
     ]
    }
   ],
   "source": [
    "import warnings\n",
    "warnings.simplefilter(\"ignore\")\n",
    "\n",
    "print(\"flwr\", fl.__version__)\n",
    "print(\"numpy\", np.__version__)\n",
    "print(\"torch\", torch.__version__)\n",
    "print(\"torchvision\", torchvision.__version__)\n",
    "print(f\"Training on {DEVICE}\")\n",
    "\n",
    "client_resources = None\n",
    "\n",
    "if DEVICE.type == \"cuda\":\n",
    "    client_resources = {\"num_gpus\": 1}\n",
    "\n",
    "model_save = model_save\n",
    "path_yaml = yaml_path\n",
    "path_roc = roc_path\n",
    "results_save = save_results\n",
    "path_matrix = matrix_path\n",
    "batch_size = batch_size\n",
    "he = he\n",
    "secret_path = 'secret.pkl'\n",
    "server_path = 'secret.pkl'\n",
    "path_crypted = 'server.pkl'\n",
    "\n",
    "print(\"Start simulation\")\n",
    "start_simulation = time.time()\n",
    "fl.simulation.start_simulation(\n",
    "    client_fn=client_fn,\n",
    "    num_clients=number_clients,\n",
    "    config=fl.server.ServerConfig(num_rounds=rounds),\n",
    "    strategy=strategy,\n",
    "    client_resources=client_resources\n",
    ")\n",
    "print(f\"Simulation Time = {time.time() - start_simulation} seconds\")"
   ]
  }
 ],
 "metadata": {
  "kernelspec": {
   "display_name": "fl_env",
   "language": "python",
   "name": "python3"
  },
  "language_info": {
   "codemirror_mode": {
    "name": "ipython",
    "version": 3
   },
   "file_extension": ".py",
   "mimetype": "text/x-python",
   "name": "python",
   "nbconvert_exporter": "python",
   "pygments_lexer": "ipython3",
   "version": "3.10.12"
  }
 },
 "nbformat": 4,
 "nbformat_minor": 2
}
