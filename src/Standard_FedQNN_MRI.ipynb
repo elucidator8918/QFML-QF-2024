{
 "cells": [
  {
   "cell_type": "markdown",
   "metadata": {},
   "source": [
    "### Import necessary libraries and modules"
   ]
  },
  {
   "cell_type": "code",
   "execution_count": 1,
   "metadata": {},
   "outputs": [
    {
     "name": "stderr",
     "output_type": "stream",
     "text": [
      "2024-07-12 23:40:29,819\tINFO util.py:154 -- Outdated packages:\n",
      "  ipywidgets==7.8.1 found, needs ipywidgets>=8\n",
      "Run `pip install -U ipywidgets`, then restart the notebook server for rich notebook output.\n"
     ]
    }
   ],
   "source": [
    "import os\n",
    "import pickle\n",
    "import time\n",
    "from collections import OrderedDict\n",
    "from typing import (\n",
    "    List, Tuple, Dict, Optional, Callable, Union\n",
    ")\n",
    "import tenseal as ts\n",
    "\n",
    "import numpy as np\n",
    "import torchvision\n",
    "import torch.nn.functional as F\n",
    "import flwr as fl\n",
    "from flwr.common import (\n",
    "    Metrics, EvaluateIns, EvaluateRes, FitIns, FitRes, MetricsAggregationFn, \n",
    "    Scalar, logger, ndarrays_to_parameters_custom, parameters_to_ndarrays_custom,\n",
    "    Parameters, NDArrays\n",
    ")\n",
    "from flwr.server.client_proxy import ClientProxy\n",
    "from flwr.server.client_manager import ClientManager\n",
    "from flwr.server.strategy.aggregate import weighted_loss_avg\n",
    "from logging import WARNING\n",
    "\n",
    "from utils import *"
   ]
  },
  {
   "cell_type": "code",
   "execution_count": 1,
   "metadata": {},
   "outputs": [
    {
     "name": "stdout",
     "output_type": "stream",
     "text": [
      "/bin/bash: kaggle: command not found\n"
     ]
    }
   ],
   "source": [
    "!kaggle datasets download -d masoudnickparvar/brain-tumor-mri-dataset"
   ]
  },
  {
   "cell_type": "markdown",
   "metadata": {},
   "source": [
    "### Creation of FHE Keys"
   ]
  },
  {
   "cell_type": "code",
   "execution_count": 2,
   "metadata": {},
   "outputs": [
    {
     "name": "stdout",
     "output_type": "stream",
     "text": [
      "it exists\n"
     ]
    }
   ],
   "source": [
    "def combo_keys(client_path=\"secret.pkl\", server_path=\"server_key.pkl\"):\n",
    "    \"\"\"\n",
    "    To create the public/private keys combination\n",
    "    args:\n",
    "        client_path: path to save the secret key (str)\n",
    "        server_path: path to save the server public key (str)\n",
    "    \"\"\"\n",
    "    context_client = security.context()\n",
    "    security.write_query(client_path, {\"contexte\": context_client.serialize(save_secret_key=True)})\n",
    "    security.write_query(server_path, {\"contexte\": context_client.serialize()})\n",
    "\n",
    "    _, context_client = security.read_query(client_path)\n",
    "    _, context_server = security.read_query(server_path)\n",
    "\n",
    "    context_client = ts.context_from(context_client)\n",
    "    context_server = ts.context_from(context_server)\n",
    "    print(\"Is the client context private?\", (\"Yes\" if context_client.is_private() else \"No\"))\n",
    "    print(\"Is the server context private?\", (\"Yes\" if context_server.is_private() else \"No\"))\n",
    "\n",
    "\n",
    "secret_path = \"secret.pkl\"\n",
    "public_path = \"server_key.pkl\"\n",
    "if os.path.exists(secret_path):\n",
    "    print(\"it exists\")\n",
    "    _, context_client = security.read_query(secret_path)\n",
    "\n",
    "else:\n",
    "    combo_keys(client_path=secret_path, server_path=public_path)"
   ]
  },
  {
   "cell_type": "markdown",
   "metadata": {},
   "source": [
    "### Define the FlowerClient class for federated learning"
   ]
  },
  {
   "cell_type": "code",
   "execution_count": 3,
   "metadata": {},
   "outputs": [],
   "source": [
    "class FlowerClient(fl.client.NumPyClient):\n",
    "    def __init__(self, cid, net, trainloader, valloader, device, batch_size, save_results, matrix_path, roc_path,\n",
    "                 yaml_path, he, classes, context_client):\n",
    "        self.net = net\n",
    "        self.trainloader = trainloader\n",
    "        self.valloader = valloader\n",
    "        self.cid = cid\n",
    "        self.device = device\n",
    "        self.batch_size = batch_size\n",
    "        self.save_results = save_results\n",
    "        self.matrix_path = matrix_path\n",
    "        self.roc_path = roc_path\n",
    "        self.yaml_path = yaml_path\n",
    "        self.he = he\n",
    "        self.classes = classes\n",
    "        self.context_client = context_client\n",
    "\n",
    "    def get_parameters(self, config):\n",
    "        print(f\"[Client {self.cid}] get_parameters\")\n",
    "        return get_parameters2(self.net, self.context_client)\n",
    "\n",
    "    def fit(self, parameters, config):\n",
    "        server_round = config['server_round']\n",
    "        local_epochs = config['local_epochs']\n",
    "        lr = float(config[\"learning_rate\"])\n",
    "\n",
    "        print(f'[Client {self.cid}, round {server_round}] fit, config: {config}')\n",
    "\n",
    "        set_parameters(self.net, parameters, self.context_client)\n",
    "\n",
    "        criterion = torch.nn.CrossEntropyLoss()\n",
    "        optimizer = torch.optim.SGD(self.net.parameters(), lr=lr, momentum=0.9)\n",
    "\n",
    "        results = engine.train(self.net, self.trainloader, self.valloader, optimizer=optimizer, loss_fn=criterion,\n",
    "                               epochs=local_epochs, device=self.device)\n",
    "\n",
    "        if self.save_results:\n",
    "            save_graphs(self.save_results, local_epochs, results, f\"_Client {self.cid}\")\n",
    "\n",
    "        return get_parameters2(self.net, self.context_client), len(self.trainloader), {}\n",
    "\n",
    "    def evaluate(self, parameters, config):\n",
    "        print(f\"[Client {self.cid}] evaluate, config: {config}\")\n",
    "        set_parameters(self.net, parameters, self.context_client)\n",
    "\n",
    "        loss, accuracy, y_pred, y_true, y_proba = engine.test(self.net, self.valloader,\n",
    "                                                              loss_fn=torch.nn.CrossEntropyLoss(), device=self.device)\n",
    "\n",
    "        if self.save_results:\n",
    "            os.makedirs(self.save_results, exist_ok=True)\n",
    "            if self.matrix_path:\n",
    "                save_matrix(y_true, y_pred, self.save_results + self.matrix_path, self.classes)\n",
    "            if self.roc_path:\n",
    "                save_roc(y_true, y_proba, self.save_results + self.roc_path, len(self.classes))\n",
    "\n",
    "        return float(loss), len(self.valloader), {\"accuracy\": float(accuracy)}"
   ]
  },
  {
   "cell_type": "markdown",
   "metadata": {},
   "source": [
    "### Define the client_common function to set up the Flower client"
   ]
  },
  {
   "cell_type": "code",
   "execution_count": 4,
   "metadata": {},
   "outputs": [],
   "source": [
    "def client_common(cid, model_save, path_yaml, path_roc, results_save, path_matrix,\n",
    "                  batch_size, trainloaders, valloaders, DEVICE, CLASSES,\n",
    "                  he=False, secret_path=\"\", server_path=\"\"):\n",
    "    trainloader = trainloaders[int(cid)]\n",
    "    valloader = valloaders[int(cid)]\n",
    "\n",
    "    context_client = None\n",
    "    net = Net(num_classes=len(CLASSES)).to(DEVICE)\n",
    "\n",
    "    if he:\n",
    "        print(\"Run with homomorphic encryption\")\n",
    "        if os.path.exists(secret_path):\n",
    "            with open(secret_path, 'rb') as f:\n",
    "                query = pickle.load(f)\n",
    "            context_client = ts.context_from(query[\"contexte\"])\n",
    "        else:\n",
    "            context_client = security.context()\n",
    "            with open(secret_path, 'wb') as f:\n",
    "                encode = pickle.dumps({\"contexte\": context_client.serialize(save_secret_key=True)})\n",
    "                f.write(encode)\n",
    "        secret_key = context_client.secret_key()\n",
    "    else:\n",
    "        print(\"Run WITHOUT homomorphic encryption\")\n",
    "\n",
    "    if os.path.exists(model_save):\n",
    "        print(\" To get the checkpoint\")\n",
    "        checkpoint = torch.load(model_save, map_location=DEVICE)['model_state_dict']\n",
    "        if he:\n",
    "            print(\"to decrypt model\")\n",
    "            server_query, server_context = security.read_query(server_path)\n",
    "            server_context = ts.context_from(server_context)\n",
    "            for name in checkpoint:\n",
    "                print(name)\n",
    "                checkpoint[name] = torch.tensor(\n",
    "                    security.deserialized_layer(name, server_query[name], server_context).decrypt(secret_key)\n",
    "                )\n",
    "        net.load_state_dict(checkpoint)\n",
    "\n",
    "    return FlowerClient(cid, net, trainloader, valloader, device=DEVICE, batch_size=batch_size,\n",
    "                        matrix_path=path_matrix, roc_path=path_roc, save_results=results_save, yaml_path=path_yaml,\n",
    "                        he=he, context_client=context_client, classes=CLASSES)"
   ]
  },
  {
   "cell_type": "markdown",
   "metadata": {},
   "source": [
    "### Define utility functions for federated learning"
   ]
  },
  {
   "cell_type": "code",
   "execution_count": 5,
   "metadata": {},
   "outputs": [],
   "source": [
    "def weighted_average(metrics: List[Tuple[int, Metrics]]) -> Metrics:\n",
    "    accuracies = [num_examples * m[\"accuracy\"] for num_examples, m in metrics]\n",
    "    examples = [num_examples for num_examples, _ in metrics]\n",
    "    return {\"accuracy\": sum(accuracies) / sum(examples)}\n",
    "\n",
    "def evaluate2(server_round: int, parameters: NDArrays,\n",
    "              config: Dict[str, Scalar]) -> Optional[Tuple[float, Dict[str, Scalar]]]:\n",
    "    set_parameters(central, parameters)\n",
    "    loss, accuracy, y_pred, y_true, y_proba = engine.test(central, testloader, loss_fn=torch.nn.CrossEntropyLoss(),\n",
    "                                                          device=DEVICE)\n",
    "    print(f\"Server-side evaluation loss {loss} / accuracy {accuracy}\")\n",
    "    return loss, {\"accuracy\": accuracy}\n",
    "\n",
    "def get_on_fit_config_fn(epoch=2, lr=0.001, batch_size=32) -> Callable[[int], Dict[str, str]]:\n",
    "    def fit_config(server_round: int) -> Dict[str, str]:\n",
    "        config = {\n",
    "            \"learning_rate\": str(lr),\n",
    "            \"batch_size\": str(batch_size),\n",
    "            \"server_round\": server_round,\n",
    "            \"local_epochs\": epoch\n",
    "        }\n",
    "        return config\n",
    "    return fit_config\n",
    "\n",
    "def aggreg_fit_checkpoint(server_round, aggregated_parameters, central_model, path_checkpoint,\n",
    "                          context_client=None, server_path=\"\"):\n",
    "    if aggregated_parameters is not None:\n",
    "        print(f\"Saving round {server_round} aggregated_parameters...\")\n",
    "        aggregated_ndarrays: List[np.ndarray] = parameters_to_ndarrays_custom(aggregated_parameters, context_client)\n",
    "        if context_client:\n",
    "            def serialized(key, matrix):\n",
    "                if key == 'fc3.weight':\n",
    "                    return matrix.serialize()\n",
    "                else:\n",
    "                    return matrix\n",
    "            server_response = {\n",
    "                **{key: serialized(key, aggregated_ndarrays[i]) for i, key in enumerate(central_model.state_dict().keys())},\n",
    "                \"contexte\": server_context.serialize()\n",
    "            }\n",
    "            security.write_query(server_path, server_response)\n",
    "        else:\n",
    "            params_dict = zip(central_model.state_dict().keys(), aggregated_ndarrays)\n",
    "            state_dict = OrderedDict({k: torch.tensor(v) for k, v in params_dict})\n",
    "            central_model.load_state_dict(state_dict, strict=True)\n",
    "            if path_checkpoint:\n",
    "                torch.save({\n",
    "                    'model_state_dict': central_model.state_dict(),\n",
    "                }, path_checkpoint)"
   ]
  },
  {
   "cell_type": "markdown",
   "metadata": {},
   "source": [
    "### Define the FedCustom strategy class"
   ]
  },
  {
   "cell_type": "code",
   "execution_count": 6,
   "metadata": {},
   "outputs": [],
   "source": [
    "# A Strategy from scratch with the same sampling of the clients as it is in FedAvg\n",
    "# and then change the configuration dictionary\n",
    "class FedCustom(fl.server.strategy.Strategy):\n",
    "    def __init__(\n",
    "            self,\n",
    "            fraction_fit: float = 1.0,\n",
    "            fraction_evaluate: float = 1.0,\n",
    "            min_fit_clients: int = 2,\n",
    "            min_evaluate_clients: int = 2,\n",
    "            min_available_clients: int = 2,\n",
    "            evaluate_fn: Optional[\n",
    "                    Callable[[int, NDArrays, Dict[str, Scalar]], Optional[Tuple[float, Dict[str, Scalar]]]]\n",
    "                ] = None,\n",
    "            on_fit_config_fn: Optional[Callable[[int], Dict[str, Scalar]]] = None,\n",
    "            on_evaluate_config_fn: Optional[Callable[[int], Dict[str, Scalar]]] = None,\n",
    "            accept_failures: bool = True,\n",
    "            initial_parameters: Optional[Parameters] = None,\n",
    "            fit_metrics_aggregation_fn: Optional[MetricsAggregationFn] = None,\n",
    "            evaluate_metrics_aggregation_fn: Optional[MetricsAggregationFn] = None,\n",
    "            context_client=None\n",
    "    ) -> None:\n",
    "        super().__init__()\n",
    "        self.fraction_fit = fraction_fit\n",
    "        self.fraction_evaluate = fraction_evaluate\n",
    "        self.min_fit_clients = min_fit_clients\n",
    "        self.min_evaluate_clients = min_evaluate_clients\n",
    "        self.min_available_clients = min_available_clients\n",
    "        self.evaluate_fn = evaluate_fn\n",
    "        self.on_fit_config_fn = on_fit_config_fn\n",
    "        self.on_evaluate_config_fn = on_evaluate_config_fn,\n",
    "        self.accept_failures = accept_failures\n",
    "        self.initial_parameters = initial_parameters\n",
    "        self.fit_metrics_aggregation_fn = fit_metrics_aggregation_fn\n",
    "        self.evaluate_metrics_aggregation_fn = evaluate_metrics_aggregation_fn\n",
    "        self.context_client = context_client\n",
    "\n",
    "    def __repr__(self) -> str:\n",
    "        # Same function as FedAvg(Strategy)\n",
    "        return f\"FedCustom (accept_failures={self.accept_failures})\"\n",
    "\n",
    "    def initialize_parameters(\n",
    "        self, client_manager: ClientManager\n",
    "    ) -> Optional[Parameters]:\n",
    "        \"\"\"Initialize global model parameters.\"\"\"\n",
    "        # Same function as FedAvg(Strategy)\n",
    "        initial_parameters = self.initial_parameters\n",
    "        self.initial_parameters = None  # Don't keep initial parameters in memory\n",
    "        return initial_parameters\n",
    "\n",
    "    def num_fit_clients(self, num_available_clients: int) -> Tuple[int, int]:\n",
    "        \"\"\"Return sample size and required number of clients.\"\"\"\n",
    "        # Same function as FedAvg(Strategy)\n",
    "        num_clients = int(num_available_clients * self.fraction_fit)\n",
    "        return max(num_clients, self.min_fit_clients), self.min_available_clients\n",
    "\n",
    "    def configure_fit(\n",
    "        self, server_round: int, parameters: Parameters, client_manager: ClientManager\n",
    "    ) -> List[Tuple[ClientProxy, FitIns]]:\n",
    "        \"\"\"Configure the next round of training.\"\"\"\n",
    "        # Sample clients\n",
    "        sample_size, min_num_clients = self.num_fit_clients(\n",
    "            client_manager.num_available()\n",
    "        )\n",
    "\n",
    "        clients = client_manager.sample(\n",
    "            num_clients=sample_size, min_num_clients=min_num_clients\n",
    "        )\n",
    "        # Create custom configs\n",
    "        n_clients = len(clients)\n",
    "        half_clients = n_clients // 2\n",
    "        # Custom fit config function provided\n",
    "        standard_lr = lr\n",
    "        higher_lr = 0.003\n",
    "        config = {\"server_round\": server_round, \"local_epochs\": 1}\n",
    "        if self.on_fit_config_fn is not None:\n",
    "            # Custom fit config function provided\n",
    "            config = self.on_fit_config_fn(server_round)\n",
    "\n",
    "        # fit_ins = FitIns(parameters, config)\n",
    "        # Return client/config pairs\n",
    "        fit_configurations = []\n",
    "        for idx, client in enumerate(clients):\n",
    "            config[\"learning_rate\"] = standard_lr if idx < half_clients else higher_lr\n",
    "            \"\"\"\n",
    "            Each pair of (ClientProxy, FitRes) constitutes \n",
    "            a successful update from one of the previously selected clients.\n",
    "            \"\"\"\n",
    "            fit_configurations.append(\n",
    "                (\n",
    "                    client,\n",
    "                    FitIns(\n",
    "                        parameters,\n",
    "                        config\n",
    "                    )\n",
    "                )\n",
    "            )\n",
    "        # Successful updates from the previously selected and configured clients\n",
    "        return fit_configurations\n",
    "\n",
    "    def aggregate_fit(\n",
    "        self,\n",
    "        server_round: int,\n",
    "        results: List[Tuple[ClientProxy, FitRes]],\n",
    "        failures: List[Union[Tuple[ClientProxy, FitRes], BaseException]],\n",
    "    ) -> Tuple[Optional[Parameters], Dict[str, Scalar]]:\n",
    "        \"\"\"Aggregate fit results using weighted average. (each round)\"\"\"\n",
    "        # Same function as FedAvg(Strategy)\n",
    "        if not results:\n",
    "            return None, {}\n",
    "\n",
    "        # Do not aggregate if there are failures and failures are not accepted\n",
    "        if not self.accept_failures and failures:\n",
    "            return None, {}\n",
    "\n",
    "        # Convert results parameters --> array matrix\n",
    "        weights_results = [\n",
    "            (parameters_to_ndarrays_custom(fit_res.parameters, self.context_client), fit_res.num_examples)\n",
    "            for _, fit_res in results\n",
    "        ]\n",
    "\n",
    "        # Aggregate parameters using weighted average between the clients and convert back to parameters object (bytes)\n",
    "        parameters_aggregated = ndarrays_to_parameters_custom(aggregate_custom(weights_results))\n",
    "\n",
    "        metrics_aggregated = {}\n",
    "        # Aggregate custom metrics if aggregation fn was provided\n",
    "        if self.fit_metrics_aggregation_fn:\n",
    "            fit_metrics = [(res.num_examples, res.metrics) for _, res in results]\n",
    "            metrics_aggregated = self.fit_metrics_aggregation_fn(fit_metrics)\n",
    "\n",
    "        elif server_round == 1:  # Only log this warning once\n",
    "            logger.log(WARNING, \"No fit_metrics_aggregation_fn provided\")\n",
    "\n",
    "        # Same function as SaveModelStrategy(fl.server.strategy.FedAvg)\n",
    "        \"\"\"Aggregate model weights using weighted average and store checkpoint\"\"\"\n",
    "        aggreg_fit_checkpoint(server_round, parameters_aggregated, central, model_save,\n",
    "                              self.context_client, path_crypted)\n",
    "        return parameters_aggregated, metrics_aggregated\n",
    "\n",
    "    def num_evaluation_clients(self, num_available_clients: int) -> Tuple[int, int]:\n",
    "        \"\"\"Use a fraction of available clients for evaluation.\"\"\"\n",
    "        # Same function as FedAvg(Strategy)\n",
    "        num_clients = int(num_available_clients * self.fraction_evaluate)\n",
    "        return max(num_clients, self.min_evaluate_clients), self.min_available_clients\n",
    "\n",
    "    def configure_evaluate(\n",
    "        self, server_round: int, parameters: Parameters, client_manager: ClientManager\n",
    "    ) -> List[Tuple[ClientProxy, EvaluateIns]]:\n",
    "        \"\"\"Configure the next round of evaluation.\"\"\"\n",
    "        # Same function as FedAvg(Strategy)\n",
    "        # Do not configure federated evaluation if fraction eval is 0.\n",
    "        if self.fraction_evaluate == 0.0:\n",
    "            return []\n",
    "\n",
    "        # Parameters and config\n",
    "        config = {}  # {\"server_round\": server_round, \"local_epochs\": 1}\n",
    "\n",
    "        evaluate_ins = EvaluateIns(parameters, config)\n",
    "\n",
    "        # Sample clients\n",
    "        sample_size, min_num_clients = self.num_evaluation_clients(\n",
    "            client_manager.num_available()\n",
    "        )\n",
    "\n",
    "        clients = client_manager.sample(\n",
    "            num_clients=sample_size, min_num_clients=min_num_clients\n",
    "        )\n",
    "\n",
    "        # Return client/config pairs\n",
    "        # Each pair of (ClientProxy, FitRes) constitutes a successful update from one of the previously selected clients\n",
    "        return [(client, evaluate_ins) for client in clients]\n",
    "\n",
    "    def aggregate_evaluate(\n",
    "        self,\n",
    "        server_round: int,\n",
    "        results: List[Tuple[ClientProxy, EvaluateRes]],\n",
    "        failures: List[Union[Tuple[ClientProxy, EvaluateRes], BaseException]],\n",
    "    ) -> Tuple[Optional[float], Dict[str, Scalar]]:\n",
    "        \"\"\"Aggregate evaluation losses using weighted average.\"\"\"\n",
    "        # Same function as FedAvg(Strategy)\n",
    "        if not results:\n",
    "            return None, {}\n",
    "\n",
    "        # Do not aggregate if there are failures and failures are not accepted\n",
    "        if not self.accept_failures and failures:\n",
    "            return None, {}\n",
    "\n",
    "        # Aggregate loss\n",
    "        loss_aggregated = weighted_loss_avg(\n",
    "            [\n",
    "                (evaluate_res.num_examples, evaluate_res.loss)\n",
    "                for _, evaluate_res in results\n",
    "            ]\n",
    "        )\n",
    "\n",
    "        metrics_aggregated = {}\n",
    "        # Aggregate custom metrics if aggregation fn was provided\n",
    "        if self.evaluate_metrics_aggregation_fn:\n",
    "            eval_metrics = [(res.num_examples, res.metrics) for _, res in results]\n",
    "            metrics_aggregated = self.evaluate_metrics_aggregation_fn(eval_metrics)\n",
    "\n",
    "        # Only log this warning once\n",
    "        elif server_round == 1:\n",
    "            logger.log(WARNING, \"No evaluate_metrics_aggregation_fn provided\")\n",
    "\n",
    "        return loss_aggregated, metrics_aggregated\n",
    "\n",
    "    def evaluate(\n",
    "        self, server_round: int, parameters: Parameters\n",
    "    ) -> Optional[Tuple[float, Dict[str, Scalar]]]:\n",
    "        \"\"\"Evaluate global model parameters using an evaluation function.\"\"\"\n",
    "        # Same function as FedAvg(Strategy)\n",
    "        if self.evaluate_fn is None:\n",
    "            # Let's assume we won't perform the global model evaluation on the server side.\n",
    "            return None\n",
    "\n",
    "        # if we have a global model evaluation on the server side :\n",
    "        parameters_ndarrays = parameters_to_ndarrays_custom(parameters, self.context_client)\n",
    "        eval_res = self.evaluate_fn(server_round, parameters_ndarrays, {})\n",
    "\n",
    "        # if you haven't results\n",
    "        if eval_res is None:\n",
    "            return None\n",
    "\n",
    "        loss, metrics = eval_res\n",
    "        return loss, metrics"
   ]
  },
  {
   "cell_type": "markdown",
   "metadata": {},
   "source": [
    "### Set up the federated learning strategy"
   ]
  },
  {
   "cell_type": "code",
   "execution_count": 7,
   "metadata": {},
   "outputs": [],
   "source": [
    "# Set up your variables directly\n",
    "he = False\n",
    "data_path = 'data/'\n",
    "dataset = 'cifar'\n",
    "yaml_path = './results/FL/results.yml'\n",
    "seed = 42\n",
    "num_workers = 0\n",
    "max_epochs = 5\n",
    "batch_size = 256\n",
    "length = 32\n",
    "split = 10\n",
    "device = 'cpu'\n",
    "number_clients = 10\n",
    "save_results = 'results/FL/'\n",
    "matrix_path = 'confusion_matrix.png'\n",
    "roc_path = 'roc.png'\n",
    "model_save = 'cifar_fl.pt'\n",
    "min_fit_clients = 10\n",
    "min_avail_clients = 10\n",
    "min_eval_clients = 10\n",
    "rounds = 2\n",
    "frac_fit = 1.0\n",
    "frac_eval = 0.5\n",
    "lr = 1e-4"
   ]
  },
  {
   "cell_type": "code",
   "execution_count": 8,
   "metadata": {},
   "outputs": [],
   "source": [
    "server_context = None\n",
    "DEVICE = torch.device(choice_device(device))\n",
    "CLASSES = classes_string(dataset)\n",
    "central = Net(num_classes=len(CLASSES)).to(DEVICE)"
   ]
  },
  {
   "cell_type": "code",
   "execution_count": 9,
   "metadata": {},
   "outputs": [],
   "source": [
    "strategy = FedCustom(\n",
    "    fraction_fit=frac_fit,\n",
    "    fraction_evaluate=frac_eval,\n",
    "    min_fit_clients=min_fit_clients,\n",
    "    min_evaluate_clients=min_eval_clients if min_eval_clients else number_clients // 2,\n",
    "    min_available_clients=min_avail_clients,\n",
    "    evaluate_metrics_aggregation_fn=weighted_average,\n",
    "    initial_parameters=ndarrays_to_parameters_custom(get_parameters2(central)),\n",
    "    evaluate_fn=None if he else evaluate2,\n",
    "    on_fit_config_fn=get_on_fit_config_fn(epoch=max_epochs, batch_size=batch_size),\n",
    "    context_client=server_context\n",
    ")"
   ]
  },
  {
   "cell_type": "code",
   "execution_count": 10,
   "metadata": {},
   "outputs": [
    {
     "name": "stdout",
     "output_type": "stream",
     "text": [
      "Files already downloaded and verified\n",
      "Files already downloaded and verified\n",
      "The training set is created for the classes : ['airplane', 'automobile', 'bird', 'cat', 'deer', 'dog', 'frog', 'horse', 'ship', 'truck']\n"
     ]
    }
   ],
   "source": [
    "trainloaders, valloaders, testloader = data_setup.load_datasets(num_clients=number_clients,\n",
    "                                                                batch_size=batch_size,\n",
    "                                                                resize=True,\n",
    "                                                                seed=seed,\n",
    "                                                                num_workers=num_workers,\n",
    "                                                                splitter=10,\n",
    "                                                                dataset=dataset,  # Use the specified dataset\n",
    "                                                                data_path=data_path,\n",
    "                                                                data_path_val=None)  # Use the same path for validation data\n",
    "\n",
    "def client_fn(cid: str) -> FlowerClient:\n",
    "    return client_common(cid,\n",
    "                         model_save, path_yaml, path_roc, results_save, path_matrix,\n",
    "                         batch_size, trainloaders, valloaders, DEVICE, CLASSES, he, secret_path, server_path)"
   ]
  },
  {
   "cell_type": "markdown",
   "metadata": {},
   "source": [
    "### Define the client_fn function and set up the simulation"
   ]
  },
  {
   "cell_type": "code",
   "execution_count": 11,
   "metadata": {},
   "outputs": [
    {
     "name": "stderr",
     "output_type": "stream",
     "text": [
      "INFO flwr 2024-07-12 23:41:15,781 | app.py:145 | Starting Flower simulation, config: ServerConfig(num_rounds=2, round_timeout=None)\n"
     ]
    },
    {
     "name": "stdout",
     "output_type": "stream",
     "text": [
      "flwr 1.5.0\n",
      "numpy 1.26.4\n",
      "torch 2.3.1+cu121\n",
      "torchvision 0.18.1+cpu\n",
      "Training on cpu\n",
      "Start simulation\n"
     ]
    },
    {
     "name": "stderr",
     "output_type": "stream",
     "text": [
      "2024-07-12 23:41:18,715\tWARNING services.py:2010 -- WARNING: The object store is using /tmp instead of /dev/shm because /dev/shm has only 66940928 bytes available. This will harm performance! You may be able to free up space by deleting files in /dev/shm. If you are inside a Docker container, you can increase /dev/shm size by passing '--shm-size=1.54gb' to 'docker run' (or add it to the run_options list in a Ray cluster config). Make sure to set this to more than 30% of available RAM.\n",
      "2024-07-12 23:41:19,934\tINFO worker.py:1788 -- Started a local Ray instance.\n",
      "INFO flwr 2024-07-12 23:41:21,381 | app.py:179 | Flower VCE: Ray initialized with resources: {'node:__internal_head__': 1.0, 'memory': 3014295552.0, 'node:172.16.5.4': 1.0, 'object_store_memory': 1507147776.0, 'CPU': 2.0}\n",
      "INFO flwr 2024-07-12 23:41:21,382 | server.py:89 | Initializing global parameters\n",
      "INFO flwr 2024-07-12 23:41:21,383 | server.py:272 | Using initial parameters provided by strategy\n",
      "INFO flwr 2024-07-12 23:41:21,384 | server.py:91 | Evaluating initial parameters\n"
     ]
    },
    {
     "name": "stdout",
     "output_type": "stream",
     "text": [
      "Updated model\n"
     ]
    },
    {
     "name": "stderr",
     "output_type": "stream",
     "text": [
      "INFO flwr 2024-07-12 23:41:23,973 | server.py:94 | initial parameters (loss, other metrics): 2.304443818330765, {'accuracy': 10.21484375}\n",
      "INFO flwr 2024-07-12 23:41:23,973 | server.py:104 | FL starting\n",
      "DEBUG flwr 2024-07-12 23:41:23,974 | server.py:222 | fit_round 1: strategy sampled 10 clients (out of 10)\n"
     ]
    },
    {
     "name": "stdout",
     "output_type": "stream",
     "text": [
      "Server-side evaluation loss 2.304443818330765 / accuracy 10.21484375\n",
      "\u001b[36m(launch_and_fit pid=47085)\u001b[0m Run WITHOUT homomorphic encryption\n"
     ]
    },
    {
     "name": "stderr",
     "output_type": "stream",
     "text": [
      "  0%|\u001b[34m          \u001b[0m| 0/5 [00:00<?, ?it/s]\n"
     ]
    },
    {
     "name": "stdout",
     "output_type": "stream",
     "text": [
      "\u001b[36m(launch_and_fit pid=47085)\u001b[0m [Client 8, round 1] fit, config: {'learning_rate': 0.003, 'batch_size': '256', 'server_round': 1, 'local_epochs': 5}\n",
      "\u001b[36m(launch_and_fit pid=47085)\u001b[0m Updated model\n",
      "\u001b[36m(launch_and_fit pid=47085)\u001b[0m \tTrain Epoch: 1 \tTrain_loss: 2.3049 | Train_acc: 9.9246 % | Validation_loss: 2.3000 | Validation_acc: 10.9919 %\n"
     ]
    },
    {
     "name": "stderr",
     "output_type": "stream",
     "text": [
      " 20%|\u001b[34m██        \u001b[0m| 1/5 [00:03<00:12,  3.09s/it]\n",
      " 20%|\u001b[34m██        \u001b[0m| 1/5 [00:03<00:13,  3.25s/it]\n"
     ]
    },
    {
     "name": "stdout",
     "output_type": "stream",
     "text": [
      "\u001b[36m(launch_and_fit pid=47084)\u001b[0m Run WITHOUT homomorphic encryption\n",
      "\u001b[36m(launch_and_fit pid=47084)\u001b[0m [Client 7, round 1] fit, config: {'learning_rate': 0.003, 'batch_size': '256', 'server_round': 1, 'local_epochs': 5}\n",
      "\u001b[36m(launch_and_fit pid=47084)\u001b[0m Updated model\n"
     ]
    },
    {
     "name": "stderr",
     "output_type": "stream",
     "text": [
      " 40%|\u001b[34m████      \u001b[0m| 2/5 [00:05<00:07,  2.63s/it]\n",
      "  0%|\u001b[34m          \u001b[0m| 0/5 [00:00<?, ?it/s]\n",
      " 40%|\u001b[34m████      \u001b[0m| 2/5 [00:05<00:08,  2.80s/it]\n",
      " 60%|\u001b[34m██████    \u001b[0m| 3/5 [00:07<00:04,  2.41s/it]\n",
      " 60%|\u001b[34m██████    \u001b[0m| 3/5 [00:07<00:04,  2.47s/it]\n"
     ]
    },
    {
     "name": "stdout",
     "output_type": "stream",
     "text": [
      "\u001b[36m(launch_and_fit pid=47085)\u001b[0m \tTrain Epoch: 4 \tTrain_loss: 2.3035 | Train_acc: 9.8196 % | Validation_loss: 2.2994 | Validation_acc: 10.7966 %\u001b[32m [repeated 6x across cluster] (Ray deduplicates logs by default. Set RAY_DEDUP_LOGS=0 to disable log deduplication, or see https://docs.ray.io/en/master/ray-observability/user-guides/configure-logging.html#log-deduplication for more options.)\u001b[0m\n"
     ]
    },
    {
     "name": "stderr",
     "output_type": "stream",
     "text": [
      " 80%|\u001b[34m████████  \u001b[0m| 4/5 [00:10<00:02,  2.45s/it]\n",
      " 80%|\u001b[34m████████  \u001b[0m| 4/5 [00:10<00:02,  2.42s/it]\n"
     ]
    },
    {
     "name": "stdout",
     "output_type": "stream",
     "text": [
      "\u001b[36m(launch_and_fit pid=47085)\u001b[0m save graph in  results/FL/\n"
     ]
    },
    {
     "name": "stderr",
     "output_type": "stream",
     "text": [
      "100%|\u001b[34m██████████\u001b[0m| 5/5 [00:12<00:00,  2.46s/it]\n",
      "100%|\u001b[34m██████████\u001b[0m| 5/5 [00:12<00:00,  2.47s/it]\n"
     ]
    },
    {
     "name": "stdout",
     "output_type": "stream",
     "text": [
      "\u001b[36m(launch_and_fit pid=47085)\u001b[0m Run WITHOUT homomorphic encryption\n",
      "\u001b[36m(launch_and_fit pid=47084)\u001b[0m \tTrain Epoch: 5 \tTrain_loss: 2.3018 | Train_acc: 10.2026 % | Validation_loss: 2.3040 | Validation_acc: 10.5629 %\u001b[32m [repeated 3x across cluster]\u001b[0m\n",
      "\u001b[36m(launch_and_fit pid=47085)\u001b[0m [Client 3, round 1] fit, config: {'learning_rate': 0.003, 'batch_size': '256', 'server_round': 1, 'local_epochs': 5}\n",
      "\u001b[36m(launch_and_fit pid=47085)\u001b[0m Updated model\n"
     ]
    },
    {
     "name": "stderr",
     "output_type": "stream",
     "text": [
      "  0%|\u001b[34m          \u001b[0m| 0/5 [00:00<?, ?it/s]\n"
     ]
    },
    {
     "name": "stdout",
     "output_type": "stream",
     "text": [
      "\u001b[36m(launch_and_fit pid=47084)\u001b[0m save graph in  results/FL/\n"
     ]
    },
    {
     "name": "stderr",
     "output_type": "stream",
     "text": [
      " 20%|\u001b[34m██        \u001b[0m| 1/5 [00:04<00:18,  4.52s/it]\n",
      " 20%|\u001b[34m██        \u001b[0m| 1/5 [00:04<00:18,  4.51s/it]\n",
      " 40%|\u001b[34m████      \u001b[0m| 2/5 [00:07<00:10,  3.44s/it]\n",
      " 40%|\u001b[34m████      \u001b[0m| 2/5 [00:07<00:10,  3.46s/it]\n"
     ]
    },
    {
     "name": "stdout",
     "output_type": "stream",
     "text": [
      "\u001b[36m(launch_and_fit pid=47084)\u001b[0m Run WITHOUT homomorphic encryption\n"
     ]
    },
    {
     "name": "stderr",
     "output_type": "stream",
     "text": [
      " 60%|\u001b[34m██████    \u001b[0m| 3/5 [00:09<00:05,  2.84s/it]\n",
      "  0%|\u001b[34m          \u001b[0m| 0/5 [00:00<?, ?it/s]\n",
      " 60%|\u001b[34m██████    \u001b[0m| 3/5 [00:09<00:05,  2.84s/it]\n"
     ]
    },
    {
     "name": "stdout",
     "output_type": "stream",
     "text": [
      "\u001b[36m(launch_and_fit pid=47085)\u001b[0m \tTrain Epoch: 3 \tTrain_loss: 2.3041 | Train_acc: 9.9498 % | Validation_loss: 2.3000 | Validation_acc: 10.6301 %\u001b[32m [repeated 5x across cluster]\u001b[0m\n",
      "\u001b[36m(launch_and_fit pid=47084)\u001b[0m [Client 2, round 1] fit, config: {'learning_rate': 0.003, 'batch_size': '256', 'server_round': 1, 'local_epochs': 5}\n",
      "\u001b[36m(launch_and_fit pid=47084)\u001b[0m Updated model\n"
     ]
    },
    {
     "name": "stderr",
     "output_type": "stream",
     "text": [
      " 80%|\u001b[34m████████  \u001b[0m| 4/5 [00:11<00:02,  2.53s/it]\n",
      " 80%|\u001b[34m████████  \u001b[0m| 4/5 [00:11<00:02,  2.57s/it]\n",
      "100%|\u001b[34m██████████\u001b[0m| 5/5 [00:14<00:00,  2.80s/it]\n",
      "100%|\u001b[34m██████████\u001b[0m| 5/5 [00:14<00:00,  2.80s/it]\n"
     ]
    },
    {
     "name": "stdout",
     "output_type": "stream",
     "text": [
      "\u001b[36m(launch_and_fit pid=47085)\u001b[0m save graph in  results/FL/\n",
      "\u001b[36m(launch_and_fit pid=47085)\u001b[0m Run WITHOUT homomorphic encryption\n",
      "\u001b[36m(launch_and_fit pid=47084)\u001b[0m \tTrain Epoch: 5 \tTrain_loss: 2.3030 | Train_acc: 10.1568 % | Validation_loss: 2.3008 | Validation_acc: 11.6259 %\u001b[32m [repeated 5x across cluster]\u001b[0m\n",
      "\u001b[36m(launch_and_fit pid=47085)\u001b[0m [Client 1, round 1] fit, config: {'learning_rate': 0.003, 'batch_size': '256', 'server_round': 1, 'local_epochs': 5}\n",
      "\u001b[36m(launch_and_fit pid=47085)\u001b[0m Updated model\n"
     ]
    },
    {
     "name": "stderr",
     "output_type": "stream",
     "text": [
      "  0%|\u001b[34m          \u001b[0m| 0/5 [00:00<?, ?it/s]\n"
     ]
    },
    {
     "name": "stdout",
     "output_type": "stream",
     "text": [
      "\u001b[36m(launch_and_fit pid=47084)\u001b[0m save graph in  results/FL/\n"
     ]
    },
    {
     "name": "stderr",
     "output_type": "stream",
     "text": [
      " 20%|\u001b[34m██        \u001b[0m| 1/5 [00:03<00:15,  3.78s/it]\n",
      " 20%|\u001b[34m██        \u001b[0m| 1/5 [00:03<00:15,  3.80s/it]\n",
      " 40%|\u001b[34m████      \u001b[0m| 2/5 [00:06<00:09,  3.17s/it]\n"
     ]
    },
    {
     "name": "stdout",
     "output_type": "stream",
     "text": [
      "\u001b[36m(launch_and_fit pid=47084)\u001b[0m Run WITHOUT homomorphic encryption\n",
      "\u001b[36m(launch_and_fit pid=47084)\u001b[0m \tTrain Epoch: 2 \tTrain_loss: 2.3036 | Train_acc: 9.3005 % | Validation_loss: 2.3031 | Validation_acc: 9.5671 %\u001b[32m [repeated 3x across cluster]\u001b[0m\n",
      "\u001b[36m(launch_and_fit pid=47084)\u001b[0m [Client 9, round 1] fit, config: {'learning_rate': 0.003, 'batch_size': '256', 'server_round': 1, 'local_epochs': 5}\n",
      "\u001b[36m(launch_and_fit pid=47084)\u001b[0m Updated model\n"
     ]
    },
    {
     "name": "stderr",
     "output_type": "stream",
     "text": [
      " 40%|\u001b[34m████      \u001b[0m| 2/5 [00:07<00:10,  3.60s/it]\n",
      "  0%|\u001b[34m          \u001b[0m| 0/5 [00:00<?, ?it/s]\n",
      " 60%|\u001b[34m██████    \u001b[0m| 3/5 [00:09<00:06,  3.02s/it]\n",
      " 60%|\u001b[34m██████    \u001b[0m| 3/5 [00:09<00:05,  2.98s/it]\n",
      " 80%|\u001b[34m████████  \u001b[0m| 4/5 [00:11<00:02,  2.66s/it]\n"
     ]
    },
    {
     "name": "stdout",
     "output_type": "stream",
     "text": [
      "\u001b[36m(launch_and_fit pid=47085)\u001b[0m \tTrain Epoch: 4 \tTrain_loss: 2.3028 | Train_acc: 10.0249 % | Validation_loss: 2.3017 | Validation_acc: 12.2310 %\u001b[32m [repeated 5x across cluster]\u001b[0m\n"
     ]
    },
    {
     "name": "stderr",
     "output_type": "stream",
     "text": [
      " 80%|\u001b[34m████████  \u001b[0m| 4/5 [00:11<00:02,  2.69s/it]\n",
      "100%|\u001b[34m██████████\u001b[0m| 5/5 [00:13<00:00,  2.77s/it]\n"
     ]
    },
    {
     "name": "stdout",
     "output_type": "stream",
     "text": [
      "\u001b[36m(launch_and_fit pid=47084)\u001b[0m save graph in  results/FL/\n"
     ]
    },
    {
     "name": "stderr",
     "output_type": "stream",
     "text": [
      "100%|\u001b[34m██████████\u001b[0m| 5/5 [00:14<00:00,  2.81s/it]\n"
     ]
    },
    {
     "name": "stdout",
     "output_type": "stream",
     "text": [
      "\u001b[36m(launch_and_fit pid=47085)\u001b[0m Run WITHOUT homomorphic encryption\n"
     ]
    },
    {
     "name": "stderr",
     "output_type": "stream",
     "text": [
      "  0%|\u001b[34m          \u001b[0m| 0/5 [00:00<?, ?it/s]\n"
     ]
    },
    {
     "name": "stdout",
     "output_type": "stream",
     "text": [
      "\u001b[36m(launch_and_fit pid=47085)\u001b[0m [Client 0, round 1] fit, config: {'learning_rate': 0.003, 'batch_size': '256', 'server_round': 1, 'local_epochs': 5}\n",
      "\u001b[36m(launch_and_fit pid=47085)\u001b[0m Updated model\n"
     ]
    },
    {
     "name": "stderr",
     "output_type": "stream",
     "text": [
      " 20%|\u001b[34m██        \u001b[0m| 1/5 [00:02<00:11,  2.90s/it]\n",
      " 20%|\u001b[34m██        \u001b[0m| 1/5 [00:02<00:11,  2.89s/it]\n"
     ]
    },
    {
     "name": "stdout",
     "output_type": "stream",
     "text": [
      "\u001b[36m(launch_and_fit pid=47085)\u001b[0m \tTrain Epoch: 1 \tTrain_loss: 2.3062 | Train_acc: 9.1410 % | Validation_loss: 2.3021 | Validation_acc: 13.4798 %\u001b[32m [repeated 3x across cluster]\u001b[0m\n",
      "\u001b[36m(launch_and_fit pid=47085)\u001b[0m save graph in  results/FL/\n",
      "\u001b[36m(launch_and_fit pid=47084)\u001b[0m Run WITHOUT homomorphic encryption\n",
      "\u001b[36m(launch_and_fit pid=47084)\u001b[0m [Client 6, round 1] fit, config: {'learning_rate': 0.003, 'batch_size': '256', 'server_round': 1, 'local_epochs': 5}\n",
      "\u001b[36m(launch_and_fit pid=47084)\u001b[0m Updated model\n"
     ]
    },
    {
     "name": "stderr",
     "output_type": "stream",
     "text": [
      " 40%|\u001b[34m████      \u001b[0m| 2/5 [00:05<00:08,  2.71s/it]\n",
      "  0%|\u001b[34m          \u001b[0m| 0/5 [00:00<?, ?it/s]\n",
      " 40%|\u001b[34m████      \u001b[0m| 2/5 [00:05<00:08,  2.80s/it]\n",
      " 60%|\u001b[34m██████    \u001b[0m| 3/5 [00:07<00:04,  2.46s/it]\n",
      " 60%|\u001b[34m██████    \u001b[0m| 3/5 [00:07<00:05,  2.52s/it]\n"
     ]
    },
    {
     "name": "stdout",
     "output_type": "stream",
     "text": [
      "\u001b[36m(launch_and_fit pid=47085)\u001b[0m \tTrain Epoch: 4 \tTrain_loss: 2.3040 | Train_acc: 9.3363 % | Validation_loss: 2.3016 | Validation_acc: 12.8650 %\u001b[32m [repeated 6x across cluster]\u001b[0m\n"
     ]
    },
    {
     "name": "stderr",
     "output_type": "stream",
     "text": [
      " 80%|\u001b[34m████████  \u001b[0m| 4/5 [00:09<00:02,  2.36s/it]\n",
      " 80%|\u001b[34m████████  \u001b[0m| 4/5 [00:09<00:02,  2.36s/it]\n",
      "100%|\u001b[34m██████████\u001b[0m| 5/5 [00:12<00:00,  2.46s/it]\n",
      "100%|\u001b[34m██████████\u001b[0m| 5/5 [00:12<00:00,  2.45s/it]\n"
     ]
    },
    {
     "name": "stdout",
     "output_type": "stream",
     "text": [
      "\u001b[36m(launch_and_fit pid=47085)\u001b[0m save graph in  results/FL/\n",
      "\u001b[36m(launch_and_fit pid=47085)\u001b[0m Run WITHOUT homomorphic encryption\n",
      "\u001b[36m(launch_and_fit pid=47084)\u001b[0m \tTrain Epoch: 5 \tTrain_loss: 2.3026 | Train_acc: 10.0524 % | Validation_loss: 2.3038 | Validation_acc: 7.3610 %\u001b[32m [repeated 3x across cluster]\u001b[0m\n",
      "\u001b[36m(launch_and_fit pid=47085)\u001b[0m [Client 4, round 1] fit, config: {'learning_rate': 0.003, 'batch_size': '256', 'server_round': 1, 'local_epochs': 5}\n",
      "\u001b[36m(launch_and_fit pid=47085)\u001b[0m Updated model\n"
     ]
    },
    {
     "name": "stderr",
     "output_type": "stream",
     "text": [
      "  0%|\u001b[34m          \u001b[0m| 0/5 [00:00<?, ?it/s]\n",
      " 20%|\u001b[34m██        \u001b[0m| 1/5 [00:02<00:10,  2.52s/it]\n",
      " 20%|\u001b[34m██        \u001b[0m| 1/5 [00:02<00:10,  2.52s/it]\n"
     ]
    },
    {
     "name": "stdout",
     "output_type": "stream",
     "text": [
      "\u001b[36m(launch_and_fit pid=47084)\u001b[0m save graph in  results/FL/\n"
     ]
    },
    {
     "name": "stderr",
     "output_type": "stream",
     "text": [
      " 40%|\u001b[34m████      \u001b[0m| 2/5 [00:04<00:06,  2.29s/it]\n",
      " 40%|\u001b[34m████      \u001b[0m| 2/5 [00:04<00:06,  2.27s/it]\n"
     ]
    },
    {
     "name": "stdout",
     "output_type": "stream",
     "text": [
      "\u001b[36m(launch_and_fit pid=47084)\u001b[0m Run WITHOUT homomorphic encryption\n",
      "\u001b[36m(launch_and_fit pid=47085)\u001b[0m \tTrain Epoch: 2 \tTrain_loss: 2.3036 | Train_acc: 9.9222 % | Validation_loss: 2.3063 | Validation_acc: 11.2065 %\u001b[32m [repeated 3x across cluster]\u001b[0m\n"
     ]
    },
    {
     "name": "stderr",
     "output_type": "stream",
     "text": [
      " 60%|\u001b[34m██████    \u001b[0m| 3/5 [00:07<00:04,  2.38s/it]\n",
      "  0%|\u001b[34m          \u001b[0m| 0/5 [00:00<?, ?it/s]\n",
      " 60%|\u001b[34m██████    \u001b[0m| 3/5 [00:07<00:04,  2.39s/it]\n"
     ]
    },
    {
     "name": "stdout",
     "output_type": "stream",
     "text": [
      "\u001b[36m(launch_and_fit pid=47084)\u001b[0m [Client 5, round 1] fit, config: {'learning_rate': 0.003, 'batch_size': '256', 'server_round': 1, 'local_epochs': 5}\n",
      "\u001b[36m(launch_and_fit pid=47084)\u001b[0m Updated model\n"
     ]
    },
    {
     "name": "stderr",
     "output_type": "stream",
     "text": [
      " 80%|\u001b[34m████████  \u001b[0m| 4/5 [00:09<00:02,  2.39s/it]\n",
      " 80%|\u001b[34m████████  \u001b[0m| 4/5 [00:09<00:02,  2.41s/it]\n",
      "100%|\u001b[34m██████████\u001b[0m| 5/5 [00:12<00:00,  2.43s/it]\n",
      "100%|\u001b[34m██████████\u001b[0m| 5/5 [00:12<00:00,  2.42s/it]\n"
     ]
    },
    {
     "name": "stdout",
     "output_type": "stream",
     "text": [
      "\u001b[36m(launch_and_fit pid=47085)\u001b[0m save graph in  results/FL/\n",
      "\u001b[36m(launch_and_fit pid=47085)\u001b[0m \tTrain Epoch: 5 \tTrain_loss: 2.3023 | Train_acc: 9.9697 % | Validation_loss: 2.3051 | Validation_acc: 11.0111 %\u001b[32m [repeated 6x across cluster]\u001b[0m\n"
     ]
    },
    {
     "name": "stderr",
     "output_type": "stream",
     "text": [
      "DEBUG flwr 2024-07-12 23:43:02,073 | server.py:236 | fit_round 1 received 10 results and 0 failures\n",
      "WARNING flwr 2024-07-12 23:43:02,116 | 3890383987.py:131 | No fit_metrics_aggregation_fn provided\n"
     ]
    },
    {
     "name": "stdout",
     "output_type": "stream",
     "text": [
      "Saving round 1 aggregated_parameters...\n",
      "Updated model\n"
     ]
    },
    {
     "name": "stderr",
     "output_type": "stream",
     "text": [
      "INFO flwr 2024-07-12 23:43:04,539 | server.py:125 | fit progress: (1, 2.302514135837555, {'accuracy': 10.1953125}, 100.5647972529996)\n",
      "DEBUG flwr 2024-07-12 23:43:04,544 | server.py:173 | evaluate_round 1: strategy sampled 10 clients (out of 10)\n"
     ]
    },
    {
     "name": "stdout",
     "output_type": "stream",
     "text": [
      "Server-side evaluation loss 2.302514135837555 / accuracy 10.1953125\n",
      "\u001b[36m(launch_and_evaluate pid=47084)\u001b[0m Run WITHOUT homomorphic encryption\n",
      "\u001b[36m(launch_and_evaluate pid=47084)\u001b[0m  To get the checkpoint\n",
      "\u001b[36m(launch_and_fit pid=47084)\u001b[0m save graph in  results/FL/\n",
      "\u001b[36m(launch_and_fit pid=47084)\u001b[0m \tTrain Epoch: 5 \tTrain_loss: 2.3014 | Train_acc: 10.6225 % | Validation_loss: 2.3007 | Validation_acc: 10.3484 %\n",
      "\u001b[36m(launch_and_evaluate pid=47084)\u001b[0m [Client 8] evaluate, config: {}\n",
      "\u001b[36m(launch_and_evaluate pid=47084)\u001b[0m Updated model\n",
      "\u001b[36m(launch_and_evaluate pid=47084)\u001b[0m Run WITHOUT homomorphic encryption\n",
      "\u001b[36m(launch_and_evaluate pid=47084)\u001b[0m  To get the checkpoint\n",
      "\u001b[36m(launch_and_evaluate pid=47084)\u001b[0m [Client 3] evaluate, config: {}\n",
      "\u001b[36m(launch_and_evaluate pid=47084)\u001b[0m Updated model\n",
      "\u001b[36m(launch_and_evaluate pid=47084)\u001b[0m Run WITHOUT homomorphic encryption\n",
      "\u001b[36m(launch_and_evaluate pid=47084)\u001b[0m  To get the checkpoint\n",
      "\u001b[36m(launch_and_evaluate pid=47084)\u001b[0m [Client 6] evaluate, config: {}\n",
      "\u001b[36m(launch_and_evaluate pid=47084)\u001b[0m Updated model\n",
      "\u001b[36m(launch_and_evaluate pid=47084)\u001b[0m Run WITHOUT homomorphic encryption\n",
      "\u001b[36m(launch_and_evaluate pid=47084)\u001b[0m  To get the checkpoint\n",
      "\u001b[36m(launch_and_evaluate pid=47084)\u001b[0m [Client 7] evaluate, config: {}\n",
      "\u001b[36m(launch_and_evaluate pid=47084)\u001b[0m Updated model\n",
      "\u001b[36m(launch_and_evaluate pid=47084)\u001b[0m Run WITHOUT homomorphic encryption\n",
      "\u001b[36m(launch_and_evaluate pid=47084)\u001b[0m  To get the checkpoint\n",
      "\u001b[36m(launch_and_evaluate pid=47084)\u001b[0m [Client 0] evaluate, config: {}\n",
      "\u001b[36m(launch_and_evaluate pid=47084)\u001b[0m Updated model\n",
      "\u001b[36m(launch_and_evaluate pid=47084)\u001b[0m Run WITHOUT homomorphic encryption\n",
      "\u001b[36m(launch_and_evaluate pid=47084)\u001b[0m  To get the checkpoint\n",
      "\u001b[36m(launch_and_evaluate pid=47084)\u001b[0m [Client 5] evaluate, config: {}\n",
      "\u001b[36m(launch_and_evaluate pid=47084)\u001b[0m Updated model\n",
      "\u001b[36m(launch_and_evaluate pid=47084)\u001b[0m Run WITHOUT homomorphic encryption\n",
      "\u001b[36m(launch_and_evaluate pid=47084)\u001b[0m  To get the checkpoint\n",
      "\u001b[36m(launch_and_evaluate pid=47084)\u001b[0m [Client 9] evaluate, config: {}\n",
      "\u001b[36m(launch_and_evaluate pid=47084)\u001b[0m Updated model\n",
      "\u001b[36m(launch_and_evaluate pid=47084)\u001b[0m Run WITHOUT homomorphic encryption\n",
      "\u001b[36m(launch_and_evaluate pid=47084)\u001b[0m  To get the checkpoint\n",
      "\u001b[36m(launch_and_evaluate pid=47084)\u001b[0m [Client 4] evaluate, config: {}\n",
      "\u001b[36m(launch_and_evaluate pid=47084)\u001b[0m Updated model\n",
      "\u001b[36m(launch_and_evaluate pid=47084)\u001b[0m Run WITHOUT homomorphic encryption\n",
      "\u001b[36m(launch_and_evaluate pid=47084)\u001b[0m  To get the checkpoint\n",
      "\u001b[36m(launch_and_evaluate pid=47084)\u001b[0m [Client 2] evaluate, config: {}\n",
      "\u001b[36m(launch_and_evaluate pid=47084)\u001b[0m Updated model\n",
      "\u001b[36m(launch_and_evaluate pid=47848)\u001b[0m Run WITHOUT homomorphic encryption\n",
      "\u001b[36m(launch_and_evaluate pid=47848)\u001b[0m  To get the checkpoint\n",
      "\u001b[36m(launch_and_evaluate pid=47848)\u001b[0m [Client 1] evaluate, config: {}\n",
      "\u001b[36m(launch_and_evaluate pid=47848)\u001b[0m Updated model\n"
     ]
    },
    {
     "name": "stderr",
     "output_type": "stream",
     "text": [
      "DEBUG flwr 2024-07-12 23:44:50,077 | server.py:187 | evaluate_round 1 received 10 results and 0 failures\n",
      "DEBUG flwr 2024-07-12 23:44:50,077 | server.py:222 | fit_round 2: strategy sampled 10 clients (out of 10)\n"
     ]
    },
    {
     "name": "stdout",
     "output_type": "stream",
     "text": [
      "\u001b[36m(launch_and_fit pid=47848)\u001b[0m Run WITHOUT homomorphic encryption\n",
      "\u001b[36m(launch_and_fit pid=47848)\u001b[0m  To get the checkpoint\n",
      "\u001b[36m(launch_and_fit pid=47848)\u001b[0m [Client 0, round 2] fit, config: {'learning_rate': 0.003, 'batch_size': '256', 'server_round': 2, 'local_epochs': 5}\n",
      "\u001b[36m(launch_and_fit pid=47848)\u001b[0m Updated model\n"
     ]
    },
    {
     "name": "stderr",
     "output_type": "stream",
     "text": [
      "  0%|\u001b[34m          \u001b[0m| 0/5 [00:00<?, ?it/s]\n",
      " 20%|\u001b[34m██        \u001b[0m| 1/5 [00:05<00:23,  5.82s/it]\n"
     ]
    },
    {
     "name": "stdout",
     "output_type": "stream",
     "text": [
      "\u001b[36m(launch_and_fit pid=47848)\u001b[0m \tTrain Epoch: 1 \tTrain_loss: 2.3039 | Train_acc: 9.2102 % | Validation_loss: 2.3010 | Validation_acc: 13.8704 %\n"
     ]
    },
    {
     "name": "stderr",
     "output_type": "stream",
     "text": [
      " 40%|\u001b[34m████      \u001b[0m| 2/5 [00:07<00:10,  3.37s/it]\n"
     ]
    },
    {
     "name": "stdout",
     "output_type": "stream",
     "text": [
      "\u001b[36m(launch_and_fit pid=47848)\u001b[0m \tTrain Epoch: 2 \tTrain_loss: 2.3032 | Train_acc: 9.3779 % | Validation_loss: 2.3009 | Validation_acc: 13.2748 %\n"
     ]
    },
    {
     "name": "stderr",
     "output_type": "stream",
     "text": [
      " 60%|\u001b[34m██████    \u001b[0m| 3/5 [00:09<00:05,  2.63s/it]\n"
     ]
    },
    {
     "name": "stdout",
     "output_type": "stream",
     "text": [
      "\u001b[36m(launch_and_fit pid=47848)\u001b[0m \tTrain Epoch: 3 \tTrain_loss: 2.3028 | Train_acc: 9.3046 % | Validation_loss: 2.3008 | Validation_acc: 12.4648 %\n"
     ]
    },
    {
     "name": "stderr",
     "output_type": "stream",
     "text": [
      " 80%|\u001b[34m████████  \u001b[0m| 4/5 [00:10<00:02,  2.25s/it]\n"
     ]
    },
    {
     "name": "stdout",
     "output_type": "stream",
     "text": [
      "\u001b[36m(launch_and_fit pid=47848)\u001b[0m \tTrain Epoch: 4 \tTrain_loss: 2.3021 | Train_acc: 9.5926 % | Validation_loss: 2.3007 | Validation_acc: 9.0100 %\n"
     ]
    },
    {
     "name": "stderr",
     "output_type": "stream",
     "text": [
      "100%|\u001b[34m██████████\u001b[0m| 5/5 [00:12<00:00,  2.54s/it]\n"
     ]
    },
    {
     "name": "stdout",
     "output_type": "stream",
     "text": [
      "\u001b[36m(launch_and_fit pid=47848)\u001b[0m \tTrain Epoch: 5 \tTrain_loss: 2.3016 | Train_acc: 10.0307 % | Validation_loss: 2.3006 | Validation_acc: 9.9866 %\n",
      "\u001b[36m(launch_and_fit pid=47848)\u001b[0m save graph in  results/FL/\n",
      "\u001b[36m(launch_and_fit pid=47848)\u001b[0m Run WITHOUT homomorphic encryption\n",
      "\u001b[36m(launch_and_fit pid=47848)\u001b[0m  To get the checkpoint\n",
      "\u001b[36m(launch_and_fit pid=47848)\u001b[0m [Client 3, round 2] fit, config: {'learning_rate': 0.003, 'batch_size': '256', 'server_round': 2, 'local_epochs': 5}\n",
      "\u001b[36m(launch_and_fit pid=47848)\u001b[0m Updated model\n"
     ]
    },
    {
     "name": "stderr",
     "output_type": "stream",
     "text": [
      "  0%|\u001b[34m          \u001b[0m| 0/5 [00:00<?, ?it/s]\n",
      " 20%|\u001b[34m██        \u001b[0m| 1/5 [00:02<00:11,  2.85s/it]\n"
     ]
    },
    {
     "name": "stdout",
     "output_type": "stream",
     "text": [
      "\u001b[36m(launch_and_fit pid=47848)\u001b[0m \tTrain Epoch: 1 \tTrain_loss: 2.3034 | Train_acc: 9.8864 % | Validation_loss: 2.2995 | Validation_acc: 10.6301 %\n"
     ]
    },
    {
     "name": "stderr",
     "output_type": "stream",
     "text": [
      " 40%|\u001b[34m████      \u001b[0m| 2/5 [00:04<00:06,  2.10s/it]\n"
     ]
    },
    {
     "name": "stdout",
     "output_type": "stream",
     "text": [
      "\u001b[36m(launch_and_fit pid=47848)\u001b[0m \tTrain Epoch: 2 \tTrain_loss: 2.3028 | Train_acc: 9.9914 % | Validation_loss: 2.2994 | Validation_acc: 10.6301 %\n"
     ]
    },
    {
     "name": "stderr",
     "output_type": "stream",
     "text": [
      " 60%|\u001b[34m██████    \u001b[0m| 3/5 [00:05<00:03,  1.83s/it]\n"
     ]
    },
    {
     "name": "stdout",
     "output_type": "stream",
     "text": [
      "\u001b[36m(launch_and_fit pid=47848)\u001b[0m \tTrain Epoch: 3 \tTrain_loss: 2.3023 | Train_acc: 10.0407 % | Validation_loss: 2.2993 | Validation_acc: 10.6301 %\n"
     ]
    },
    {
     "name": "stderr",
     "output_type": "stream",
     "text": [
      " 80%|\u001b[34m████████  \u001b[0m| 4/5 [00:07<00:01,  1.75s/it]\n"
     ]
    },
    {
     "name": "stdout",
     "output_type": "stream",
     "text": [
      "\u001b[36m(launch_and_fit pid=47848)\u001b[0m \tTrain Epoch: 4 \tTrain_loss: 2.3016 | Train_acc: 10.0172 % | Validation_loss: 2.2993 | Validation_acc: 9.8489 %\n"
     ]
    },
    {
     "name": "stderr",
     "output_type": "stream",
     "text": [
      "100%|\u001b[34m██████████\u001b[0m| 5/5 [00:09<00:00,  1.80s/it]\n"
     ]
    },
    {
     "name": "stdout",
     "output_type": "stream",
     "text": [
      "\u001b[36m(launch_and_fit pid=47848)\u001b[0m \tTrain Epoch: 5 \tTrain_loss: 2.3012 | Train_acc: 10.0290 % | Validation_loss: 2.2991 | Validation_acc: 10.2299 %\n",
      "\u001b[36m(launch_and_fit pid=47848)\u001b[0m save graph in  results/FL/\n",
      "\u001b[36m(launch_and_fit pid=47848)\u001b[0m Run WITHOUT homomorphic encryption\n",
      "\u001b[36m(launch_and_fit pid=47848)\u001b[0m  To get the checkpoint\n",
      "\u001b[36m(launch_and_fit pid=47848)\u001b[0m [Client 6, round 2] fit, config: {'learning_rate': 0.003, 'batch_size': '256', 'server_round': 2, 'local_epochs': 5}\n",
      "\u001b[36m(launch_and_fit pid=47848)\u001b[0m Updated model\n"
     ]
    },
    {
     "name": "stderr",
     "output_type": "stream",
     "text": [
      "  0%|\u001b[34m          \u001b[0m| 0/5 [00:00<?, ?it/s]\n",
      " 20%|\u001b[34m██        \u001b[0m| 1/5 [00:02<00:08,  2.09s/it]\n"
     ]
    },
    {
     "name": "stdout",
     "output_type": "stream",
     "text": [
      "\u001b[36m(launch_and_fit pid=47848)\u001b[0m \tTrain Epoch: 1 \tTrain_loss: 2.3026 | Train_acc: 10.0366 % | Validation_loss: 2.3032 | Validation_acc: 7.3610 %\n"
     ]
    },
    {
     "name": "stderr",
     "output_type": "stream",
     "text": [
      " 40%|\u001b[34m████      \u001b[0m| 2/5 [00:03<00:05,  1.92s/it]\n"
     ]
    },
    {
     "name": "stdout",
     "output_type": "stream",
     "text": [
      "\u001b[36m(launch_and_fit pid=47848)\u001b[0m \tTrain Epoch: 2 \tTrain_loss: 2.3023 | Train_acc: 10.0565 % | Validation_loss: 2.3028 | Validation_acc: 7.3610 %\n"
     ]
    },
    {
     "name": "stderr",
     "output_type": "stream",
     "text": [
      " 60%|\u001b[34m██████    \u001b[0m| 3/5 [00:05<00:03,  1.76s/it]\n"
     ]
    },
    {
     "name": "stdout",
     "output_type": "stream",
     "text": [
      "\u001b[36m(launch_and_fit pid=47848)\u001b[0m \tTrain Epoch: 3 \tTrain_loss: 2.3020 | Train_acc: 10.0624 % | Validation_loss: 2.3025 | Validation_acc: 7.3514 %\n"
     ]
    },
    {
     "name": "stderr",
     "output_type": "stream",
     "text": [
      " 80%|\u001b[34m████████  \u001b[0m| 4/5 [00:07<00:01,  1.72s/it]\n"
     ]
    },
    {
     "name": "stdout",
     "output_type": "stream",
     "text": [
      "\u001b[36m(launch_and_fit pid=47848)\u001b[0m \tTrain Epoch: 4 \tTrain_loss: 2.3016 | Train_acc: 9.9123 % | Validation_loss: 2.3021 | Validation_acc: 7.3514 %\n"
     ]
    },
    {
     "name": "stderr",
     "output_type": "stream",
     "text": [
      "100%|\u001b[34m██████████\u001b[0m| 5/5 [00:09<00:00,  1.81s/it]\n"
     ]
    },
    {
     "name": "stdout",
     "output_type": "stream",
     "text": [
      "\u001b[36m(launch_and_fit pid=47848)\u001b[0m \tTrain Epoch: 5 \tTrain_loss: 2.3011 | Train_acc: 9.8554 % | Validation_loss: 2.3017 | Validation_acc: 7.9662 %\n",
      "\u001b[36m(launch_and_fit pid=47848)\u001b[0m save graph in  results/FL/\n",
      "\u001b[36m(launch_and_fit pid=47848)\u001b[0m Run WITHOUT homomorphic encryption\n",
      "\u001b[36m(launch_and_fit pid=47848)\u001b[0m  To get the checkpoint\n",
      "\u001b[36m(launch_and_fit pid=47848)\u001b[0m [Client 4, round 2] fit, config: {'learning_rate': 0.003, 'batch_size': '256', 'server_round': 2, 'local_epochs': 5}\n",
      "\u001b[36m(launch_and_fit pid=47848)\u001b[0m Updated model\n"
     ]
    },
    {
     "name": "stderr",
     "output_type": "stream",
     "text": [
      "  0%|\u001b[34m          \u001b[0m| 0/5 [00:00<?, ?it/s]\n",
      " 20%|\u001b[34m██        \u001b[0m| 1/5 [00:02<00:08,  2.23s/it]\n"
     ]
    },
    {
     "name": "stdout",
     "output_type": "stream",
     "text": [
      "\u001b[36m(launch_and_fit pid=47848)\u001b[0m \tTrain Epoch: 1 \tTrain_loss: 2.3022 | Train_acc: 9.9181 % | Validation_loss: 2.3044 | Validation_acc: 11.0111 %\n"
     ]
    },
    {
     "name": "stderr",
     "output_type": "stream",
     "text": [
      " 40%|\u001b[34m████      \u001b[0m| 2/5 [00:03<00:05,  1.81s/it]\n"
     ]
    },
    {
     "name": "stdout",
     "output_type": "stream",
     "text": [
      "\u001b[36m(launch_and_fit pid=47848)\u001b[0m \tTrain Epoch: 2 \tTrain_loss: 2.3017 | Train_acc: 10.0272 % | Validation_loss: 2.3041 | Validation_acc: 11.0111 %\n"
     ]
    },
    {
     "name": "stderr",
     "output_type": "stream",
     "text": [
      " 60%|\u001b[34m██████    \u001b[0m| 3/5 [00:05<00:03,  1.77s/it]\n"
     ]
    },
    {
     "name": "stdout",
     "output_type": "stream",
     "text": [
      "\u001b[36m(launch_and_fit pid=47848)\u001b[0m \tTrain Epoch: 3 \tTrain_loss: 2.3015 | Train_acc: 9.9598 % | Validation_loss: 2.3038 | Validation_acc: 11.0111 %\n"
     ]
    },
    {
     "name": "stderr",
     "output_type": "stream",
     "text": [
      " 80%|\u001b[34m████████  \u001b[0m| 4/5 [00:06<00:01,  1.63s/it]\n"
     ]
    },
    {
     "name": "stdout",
     "output_type": "stream",
     "text": [
      "\u001b[36m(launch_and_fit pid=47848)\u001b[0m \tTrain Epoch: 4 \tTrain_loss: 2.3010 | Train_acc: 10.0782 % | Validation_loss: 2.3035 | Validation_acc: 11.0111 %\n"
     ]
    },
    {
     "name": "stderr",
     "output_type": "stream",
     "text": [
      "100%|\u001b[34m██████████\u001b[0m| 5/5 [00:08<00:00,  1.69s/it]\n"
     ]
    },
    {
     "name": "stdout",
     "output_type": "stream",
     "text": [
      "\u001b[36m(launch_and_fit pid=47848)\u001b[0m \tTrain Epoch: 5 \tTrain_loss: 2.3007 | Train_acc: 10.9246 % | Validation_loss: 2.3032 | Validation_acc: 11.8020 %\n",
      "\u001b[36m(launch_and_fit pid=47848)\u001b[0m save graph in  results/FL/\n",
      "\u001b[36m(launch_and_fit pid=47848)\u001b[0m Run WITHOUT homomorphic encryption\n",
      "\u001b[36m(launch_and_fit pid=47848)\u001b[0m  To get the checkpoint\n",
      "\u001b[36m(launch_and_fit pid=47848)\u001b[0m [Client 5, round 2] fit, config: {'learning_rate': 0.003, 'batch_size': '256', 'server_round': 2, 'local_epochs': 5}\n",
      "\u001b[36m(launch_and_fit pid=47848)\u001b[0m Updated model\n"
     ]
    },
    {
     "name": "stderr",
     "output_type": "stream",
     "text": [
      "  0%|\u001b[34m          \u001b[0m| 0/5 [00:00<?, ?it/s]\n",
      " 20%|\u001b[34m██        \u001b[0m| 1/5 [00:02<00:08,  2.23s/it]\n"
     ]
    },
    {
     "name": "stdout",
     "output_type": "stream",
     "text": [
      "\u001b[36m(launch_and_fit pid=47848)\u001b[0m \tTrain Epoch: 1 \tTrain_loss: 2.3013 | Train_acc: 10.3897 % | Validation_loss: 2.3009 | Validation_acc: 10.3580 %\n"
     ]
    },
    {
     "name": "stderr",
     "output_type": "stream",
     "text": [
      " 40%|\u001b[34m████      \u001b[0m| 2/5 [00:04<00:06,  2.06s/it]\n"
     ]
    },
    {
     "name": "stdout",
     "output_type": "stream",
     "text": [
      "\u001b[36m(launch_and_fit pid=47848)\u001b[0m \tTrain Epoch: 2 \tTrain_loss: 2.3010 | Train_acc: 10.4906 % | Validation_loss: 2.3006 | Validation_acc: 10.5533 %\n"
     ]
    },
    {
     "name": "stderr",
     "output_type": "stream",
     "text": [
      " 60%|\u001b[34m██████    \u001b[0m| 3/5 [00:05<00:03,  1.88s/it]\n"
     ]
    },
    {
     "name": "stdout",
     "output_type": "stream",
     "text": [
      "\u001b[36m(launch_and_fit pid=47848)\u001b[0m \tTrain Epoch: 3 \tTrain_loss: 2.3007 | Train_acc: 10.6126 % | Validation_loss: 2.3002 | Validation_acc: 11.3345 %\n"
     ]
    },
    {
     "name": "stderr",
     "output_type": "stream",
     "text": [
      " 80%|\u001b[34m████████  \u001b[0m| 4/5 [00:07<00:01,  1.80s/it]\n"
     ]
    },
    {
     "name": "stdout",
     "output_type": "stream",
     "text": [
      "\u001b[36m(launch_and_fit pid=47848)\u001b[0m \tTrain Epoch: 4 \tTrain_loss: 2.3003 | Train_acc: 10.9563 % | Validation_loss: 2.2997 | Validation_acc: 11.9397 %\n"
     ]
    },
    {
     "name": "stderr",
     "output_type": "stream",
     "text": [
      "100%|\u001b[34m██████████\u001b[0m| 5/5 [00:09<00:00,  1.90s/it]\n"
     ]
    },
    {
     "name": "stdout",
     "output_type": "stream",
     "text": [
      "\u001b[36m(launch_and_fit pid=47848)\u001b[0m \tTrain Epoch: 5 \tTrain_loss: 2.2999 | Train_acc: 10.9070 % | Validation_loss: 2.2994 | Validation_acc: 11.7444 %\n",
      "\u001b[36m(launch_and_fit pid=47848)\u001b[0m save graph in  results/FL/\n",
      "\u001b[36m(launch_and_fit pid=48291)\u001b[0m Run WITHOUT homomorphic encryption\n",
      "\u001b[36m(launch_and_fit pid=48291)\u001b[0m  To get the checkpoint\n",
      "\u001b[36m(launch_and_fit pid=47848)\u001b[0m [Client 2, round 2] fit, config: {'learning_rate': 0.003, 'batch_size': '256', 'server_round': 2, 'local_epochs': 5}\n",
      "\u001b[36m(launch_and_fit pid=47848)\u001b[0m Updated model\n"
     ]
    },
    {
     "name": "stderr",
     "output_type": "stream",
     "text": [
      "  0%|\u001b[34m          \u001b[0m| 0/5 [00:00<?, ?it/s]\n"
     ]
    },
    {
     "name": "stdout",
     "output_type": "stream",
     "text": [
      "\u001b[36m(launch_and_fit pid=47848)\u001b[0m \tTrain Epoch: 1 \tTrain_loss: 2.3032 | Train_acc: 10.2519 % | Validation_loss: 2.3011 | Validation_acc: 11.6259 %\n"
     ]
    },
    {
     "name": "stderr",
     "output_type": "stream",
     "text": [
      " 20%|\u001b[34m██        \u001b[0m| 1/5 [00:01<00:06,  1.68s/it]\n",
      " 40%|\u001b[34m████      \u001b[0m| 2/5 [00:03<00:05,  1.77s/it]\n"
     ]
    },
    {
     "name": "stdout",
     "output_type": "stream",
     "text": [
      "\u001b[36m(launch_and_fit pid=47848)\u001b[0m \tTrain Epoch: 2 \tTrain_loss: 2.3029 | Train_acc: 10.2677 % | Validation_loss: 2.3007 | Validation_acc: 11.6259 %\n",
      "\u001b[36m(launch_and_fit pid=47848)\u001b[0m Run WITHOUT homomorphic encryption\n",
      "\u001b[36m(launch_and_fit pid=47848)\u001b[0m  To get the checkpoint\n",
      "\u001b[36m(launch_and_fit pid=48291)\u001b[0m [Client 9, round 2] fit, config: {'learning_rate': 0.003, 'batch_size': '256', 'server_round': 2, 'local_epochs': 5}\n",
      "\u001b[36m(launch_and_fit pid=48291)\u001b[0m Updated model\n"
     ]
    },
    {
     "name": "stderr",
     "output_type": "stream",
     "text": [
      " 20%|\u001b[34m██        \u001b[0m| 1/5 [00:05<00:21,  5.34s/it]\n",
      "  0%|\u001b[34m          \u001b[0m| 0/5 [00:00<?, ?it/s]\n",
      " 60%|\u001b[34m██████    \u001b[0m| 3/5 [00:06<00:04,  2.18s/it]\n",
      " 40%|\u001b[34m████      \u001b[0m| 2/5 [00:07<00:11,  3.73s/it]\n",
      " 80%|\u001b[34m████████  \u001b[0m| 4/5 [00:08<00:02,  2.29s/it]\n"
     ]
    },
    {
     "name": "stdout",
     "output_type": "stream",
     "text": [
      "\u001b[36m(launch_and_fit pid=47848)\u001b[0m \tTrain Epoch: 4 \tTrain_loss: 2.3017 | Train_acc: 10.2360 % | Validation_loss: 2.3001 | Validation_acc: 11.6259 %\u001b[32m [repeated 4x across cluster]\u001b[0m\n"
     ]
    },
    {
     "name": "stderr",
     "output_type": "stream",
     "text": [
      " 60%|\u001b[34m██████    \u001b[0m| 3/5 [00:10<00:05,  2.97s/it]\n",
      "100%|\u001b[34m██████████\u001b[0m| 5/5 [00:10<00:00,  2.17s/it]\n"
     ]
    },
    {
     "name": "stdout",
     "output_type": "stream",
     "text": [
      "\u001b[36m(launch_and_fit pid=47848)\u001b[0m save graph in  results/FL/\n",
      "\u001b[36m(launch_and_fit pid=47848)\u001b[0m Run WITHOUT homomorphic encryption\n",
      "\u001b[36m(launch_and_fit pid=47848)\u001b[0m  To get the checkpoint\n"
     ]
    },
    {
     "name": "stderr",
     "output_type": "stream",
     "text": [
      "  0%|\u001b[34m          \u001b[0m| 0/5 [00:00<?, ?it/s]\n"
     ]
    },
    {
     "name": "stdout",
     "output_type": "stream",
     "text": [
      "\u001b[36m(launch_and_fit pid=47848)\u001b[0m [Client 8, round 2] fit, config: {'learning_rate': 0.003, 'batch_size': '256', 'server_round': 2, 'local_epochs': 5}\n",
      "\u001b[36m(launch_and_fit pid=47848)\u001b[0m Updated model\n"
     ]
    },
    {
     "name": "stderr",
     "output_type": "stream",
     "text": [
      " 80%|\u001b[34m████████  \u001b[0m| 4/5 [00:12<00:02,  2.62s/it]\n"
     ]
    },
    {
     "name": "stdout",
     "output_type": "stream",
     "text": [
      "\u001b[36m(launch_and_fit pid=48291)\u001b[0m \tTrain Epoch: 5 \tTrain_loss: 2.3009 | Train_acc: 10.6976 % | Validation_loss: 2.3011 | Validation_acc: 10.6397 %\u001b[32m [repeated 4x across cluster]\u001b[0m\n"
     ]
    },
    {
     "name": "stderr",
     "output_type": "stream",
     "text": [
      "100%|\u001b[34m██████████\u001b[0m| 5/5 [00:14<00:00,  2.91s/it]\n",
      " 20%|\u001b[34m██        \u001b[0m| 1/5 [00:02<00:11,  2.91s/it]\n",
      " 40%|\u001b[34m████      \u001b[0m| 2/5 [00:04<00:06,  2.14s/it]\n"
     ]
    },
    {
     "name": "stdout",
     "output_type": "stream",
     "text": [
      "\u001b[36m(launch_and_fit pid=48291)\u001b[0m save graph in  results/FL/\n",
      "\u001b[36m(launch_and_fit pid=48291)\u001b[0m Run WITHOUT homomorphic encryption\n",
      "\u001b[36m(launch_and_fit pid=48291)\u001b[0m  To get the checkpoint\n"
     ]
    },
    {
     "name": "stderr",
     "output_type": "stream",
     "text": [
      " 60%|\u001b[34m██████    \u001b[0m| 3/5 [00:06<00:04,  2.13s/it]\n"
     ]
    },
    {
     "name": "stdout",
     "output_type": "stream",
     "text": [
      "\u001b[36m(launch_and_fit pid=48291)\u001b[0m [Client 1, round 2] fit, config: {'learning_rate': 0.003, 'batch_size': '256', 'server_round': 2, 'local_epochs': 5}\n",
      "\u001b[36m(launch_and_fit pid=48291)\u001b[0m Updated model\n"
     ]
    },
    {
     "name": "stderr",
     "output_type": "stream",
     "text": [
      "  0%|\u001b[34m          \u001b[0m| 0/5 [00:00<?, ?it/s]\n",
      " 80%|\u001b[34m████████  \u001b[0m| 4/5 [00:08<00:02,  2.08s/it]\n"
     ]
    },
    {
     "name": "stdout",
     "output_type": "stream",
     "text": [
      "\u001b[36m(launch_and_fit pid=47848)\u001b[0m \tTrain Epoch: 4 \tTrain_loss: 2.3018 | Train_acc: 9.9181 % | Validation_loss: 2.2987 | Validation_acc: 10.5821 %\u001b[32m [repeated 4x across cluster]\u001b[0m\n"
     ]
    },
    {
     "name": "stderr",
     "output_type": "stream",
     "text": [
      " 20%|\u001b[34m██        \u001b[0m| 1/5 [00:02<00:08,  2.20s/it]\n",
      "100%|\u001b[34m██████████\u001b[0m| 5/5 [00:11<00:00,  2.29s/it]\n"
     ]
    },
    {
     "name": "stdout",
     "output_type": "stream",
     "text": [
      "\u001b[36m(launch_and_fit pid=47848)\u001b[0m save graph in  results/FL/\n"
     ]
    },
    {
     "name": "stderr",
     "output_type": "stream",
     "text": [
      " 40%|\u001b[34m████      \u001b[0m| 2/5 [00:04<00:07,  2.39s/it]\n",
      " 60%|\u001b[34m██████    \u001b[0m| 3/5 [00:06<00:04,  2.07s/it]\n"
     ]
    },
    {
     "name": "stdout",
     "output_type": "stream",
     "text": [
      "\u001b[33m(raylet)\u001b[0m A worker died or was killed while executing a task by an unexpected system error. To troubleshoot the problem, check the logs for the dead worker. RayTask ID: 88c149d7c60179522405311108b30d718095d88c01000000 Worker ID: 0d11d2ddfbacd1afae0fe59c3c68504500c5bb7376e20176d09b84ca Node ID: 4768aec171d6f33b0d2b5be06529ae8d892f31f8482d98ba22a50fce Worker IP address: 172.16.5.4 Worker port: 46231 Worker PID: 47848 Worker exit type: SYSTEM_ERROR Worker exit detail: The leased worker has unrecoverable failure. Worker is requested to be destroyed when it is returned. Worker exits with an exit code 1. The process receives a SIGTERM.\n",
      "\u001b[36m(launch_and_fit pid=48291)\u001b[0m \tTrain Epoch: 3 \tTrain_loss: 2.3014 | Train_acc: 10.1175 % | Validation_loss: 2.3009 | Validation_acc: 12.2310 %\u001b[32m [repeated 4x across cluster]\u001b[0m\n"
     ]
    },
    {
     "name": "stderr",
     "output_type": "stream",
     "text": [
      " 80%|\u001b[34m████████  \u001b[0m| 4/5 [00:07<00:01,  1.88s/it]\n"
     ]
    },
    {
     "name": "stdout",
     "output_type": "stream",
     "text": [
      "\u001b[36m(launch_and_fit pid=48291)\u001b[0m save graph in  results/FL/\n"
     ]
    },
    {
     "name": "stderr",
     "output_type": "stream",
     "text": [
      "100%|\u001b[34m██████████\u001b[0m| 5/5 [00:09<00:00,  1.89s/it]\n"
     ]
    },
    {
     "name": "stdout",
     "output_type": "stream",
     "text": [
      "\u001b[36m(launch_and_fit pid=48865)\u001b[0m Run WITHOUT homomorphic encryption\n",
      "\u001b[36m(launch_and_fit pid=48865)\u001b[0m  To get the checkpoint\n",
      "\u001b[36m(launch_and_fit pid=48291)\u001b[0m \tTrain Epoch: 5 \tTrain_loss: 2.3009 | Train_acc: 12.5047 % | Validation_loss: 2.3011 | Validation_acc: 13.2268 %\u001b[32m [repeated 2x across cluster]\u001b[0m\n"
     ]
    },
    {
     "name": "stderr",
     "output_type": "stream",
     "text": [
      "  0%|\u001b[34m          \u001b[0m| 0/5 [00:00<?, ?it/s]\n"
     ]
    },
    {
     "name": "stdout",
     "output_type": "stream",
     "text": [
      "\u001b[36m(launch_and_fit pid=48865)\u001b[0m [Client 7, round 2] fit, config: {'learning_rate': 0.003, 'batch_size': '256', 'server_round': 2, 'local_epochs': 5}\n",
      "\u001b[36m(launch_and_fit pid=48865)\u001b[0m Updated model\n"
     ]
    },
    {
     "name": "stderr",
     "output_type": "stream",
     "text": [
      " 20%|\u001b[34m██        \u001b[0m| 1/5 [00:01<00:06,  1.69s/it]\n",
      " 40%|\u001b[34m████      \u001b[0m| 2/5 [00:03<00:04,  1.60s/it]\n",
      " 60%|\u001b[34m██████    \u001b[0m| 3/5 [00:04<00:03,  1.58s/it]\n"
     ]
    },
    {
     "name": "stdout",
     "output_type": "stream",
     "text": [
      "\u001b[36m(launch_and_fit pid=48865)\u001b[0m \tTrain Epoch: 3 \tTrain_loss: 2.3011 | Train_acc: 10.1926 % | Validation_loss: 2.3026 | Validation_acc: 10.5629 %\u001b[32m [repeated 3x across cluster]\u001b[0m\n"
     ]
    },
    {
     "name": "stderr",
     "output_type": "stream",
     "text": [
      " 80%|\u001b[34m████████  \u001b[0m| 4/5 [00:06<00:01,  1.53s/it]\n",
      "100%|\u001b[34m██████████\u001b[0m| 5/5 [00:07<00:00,  1.56s/it]\n"
     ]
    },
    {
     "name": "stdout",
     "output_type": "stream",
     "text": [
      "\u001b[36m(launch_and_fit pid=48865)\u001b[0m save graph in  results/FL/\n"
     ]
    },
    {
     "name": "stderr",
     "output_type": "stream",
     "text": [
      "DEBUG flwr 2024-07-12 23:47:24,244 | server.py:236 | fit_round 2 received 10 results and 0 failures\n"
     ]
    },
    {
     "name": "stdout",
     "output_type": "stream",
     "text": [
      "Saving round 2 aggregated_parameters...\n",
      "Updated model\n"
     ]
    },
    {
     "name": "stderr",
     "output_type": "stream",
     "text": [
      "INFO flwr 2024-07-12 23:47:26,674 | server.py:125 | fit progress: (2, 2.3010645508766174, {'accuracy': 10.263671875}, 362.70029256199996)\n",
      "DEBUG flwr 2024-07-12 23:47:26,675 | server.py:173 | evaluate_round 2: strategy sampled 10 clients (out of 10)\n"
     ]
    },
    {
     "name": "stdout",
     "output_type": "stream",
     "text": [
      "Server-side evaluation loss 2.3010645508766174 / accuracy 10.263671875\n",
      "\u001b[36m(launch_and_evaluate pid=48865)\u001b[0m Run WITHOUT homomorphic encryption\n",
      "\u001b[36m(launch_and_evaluate pid=48865)\u001b[0m  To get the checkpoint\n",
      "\u001b[36m(launch_and_fit pid=48865)\u001b[0m \tTrain Epoch: 5 \tTrain_loss: 2.3003 | Train_acc: 10.3903 % | Validation_loss: 2.3023 | Validation_acc: 10.5629 %\u001b[32m [repeated 2x across cluster]\u001b[0m\n",
      "\u001b[36m(launch_and_evaluate pid=48865)\u001b[0m [Client 3] evaluate, config: {}\n",
      "\u001b[36m(launch_and_evaluate pid=48865)\u001b[0m Updated model\n",
      "\u001b[36m(launch_and_evaluate pid=48865)\u001b[0m Run WITHOUT homomorphic encryption\n",
      "\u001b[36m(launch_and_evaluate pid=48865)\u001b[0m  To get the checkpoint\n",
      "\u001b[36m(launch_and_evaluate pid=48865)\u001b[0m [Client 9] evaluate, config: {}\n",
      "\u001b[36m(launch_and_evaluate pid=48865)\u001b[0m Updated model\n",
      "\u001b[36m(launch_and_evaluate pid=48865)\u001b[0m Run WITHOUT homomorphic encryption\n",
      "\u001b[36m(launch_and_evaluate pid=48865)\u001b[0m  To get the checkpoint\n",
      "\u001b[36m(launch_and_evaluate pid=48865)\u001b[0m [Client 0] evaluate, config: {}\n",
      "\u001b[36m(launch_and_evaluate pid=48865)\u001b[0m Updated model\n",
      "\u001b[36m(launch_and_evaluate pid=48865)\u001b[0m Run WITHOUT homomorphic encryption\n",
      "\u001b[36m(launch_and_evaluate pid=48865)\u001b[0m  To get the checkpoint\n",
      "\u001b[36m(launch_and_evaluate pid=48865)\u001b[0m [Client 4] evaluate, config: {}\n",
      "\u001b[36m(launch_and_evaluate pid=48865)\u001b[0m Updated model\n",
      "\u001b[36m(launch_and_evaluate pid=48865)\u001b[0m Run WITHOUT homomorphic encryption\n",
      "\u001b[36m(launch_and_evaluate pid=48865)\u001b[0m  To get the checkpoint\n",
      "\u001b[36m(launch_and_evaluate pid=48865)\u001b[0m [Client 5] evaluate, config: {}\n",
      "\u001b[36m(launch_and_evaluate pid=48865)\u001b[0m Updated model\n",
      "\u001b[36m(launch_and_evaluate pid=48865)\u001b[0m Run WITHOUT homomorphic encryption\n",
      "\u001b[36m(launch_and_evaluate pid=48865)\u001b[0m  To get the checkpoint\n",
      "\u001b[36m(launch_and_evaluate pid=48865)\u001b[0m [Client 7] evaluate, config: {}\n",
      "\u001b[36m(launch_and_evaluate pid=48865)\u001b[0m Updated model\n",
      "\u001b[36m(launch_and_evaluate pid=48865)\u001b[0m Run WITHOUT homomorphic encryption\n",
      "\u001b[36m(launch_and_evaluate pid=48865)\u001b[0m  To get the checkpoint\n",
      "\u001b[36m(launch_and_evaluate pid=48865)\u001b[0m [Client 8] evaluate, config: {}\n",
      "\u001b[36m(launch_and_evaluate pid=48865)\u001b[0m Updated model\n",
      "\u001b[36m(launch_and_evaluate pid=48865)\u001b[0m Run WITHOUT homomorphic encryption\n",
      "\u001b[36m(launch_and_evaluate pid=48865)\u001b[0m  To get the checkpoint\n",
      "\u001b[36m(launch_and_evaluate pid=48865)\u001b[0m [Client 2] evaluate, config: {}\n",
      "\u001b[36m(launch_and_evaluate pid=48865)\u001b[0m Updated model\n",
      "\u001b[36m(launch_and_evaluate pid=48865)\u001b[0m Run WITHOUT homomorphic encryption\n",
      "\u001b[36m(launch_and_evaluate pid=48865)\u001b[0m  To get the checkpoint\n",
      "\u001b[36m(launch_and_evaluate pid=48865)\u001b[0m [Client 6] evaluate, config: {}\n",
      "\u001b[36m(launch_and_evaluate pid=48865)\u001b[0m Updated model\n",
      "\u001b[36m(launch_and_evaluate pid=48864)\u001b[0m Run WITHOUT homomorphic encryption\n",
      "\u001b[36m(launch_and_evaluate pid=48864)\u001b[0m  To get the checkpoint\n",
      "\u001b[36m(launch_and_evaluate pid=48864)\u001b[0m [Client 1] evaluate, config: {}\n",
      "\u001b[36m(launch_and_evaluate pid=48864)\u001b[0m Updated model\n"
     ]
    },
    {
     "name": "stderr",
     "output_type": "stream",
     "text": [
      "DEBUG flwr 2024-07-12 23:48:23,871 | server.py:187 | evaluate_round 2 received 10 results and 0 failures\n",
      "INFO flwr 2024-07-12 23:48:23,872 | server.py:153 | FL finished in 419.89789580399975\n",
      "INFO flwr 2024-07-12 23:48:23,873 | app.py:225 | app_fit: losses_distributed [(1, 2.301622200012207), (2, 2.3003899574279787)]\n",
      "INFO flwr 2024-07-12 23:48:23,873 | app.py:226 | app_fit: metrics_distributed_fit {}\n",
      "INFO flwr 2024-07-12 23:48:23,874 | app.py:227 | app_fit: metrics_distributed {'accuracy': [(1, 10.802382172131148), (2, 10.921490778688524)]}\n",
      "INFO flwr 2024-07-12 23:48:23,874 | app.py:228 | app_fit: losses_centralized [(0, 2.304443818330765), (1, 2.302514135837555), (2, 2.3010645508766174)]\n",
      "INFO flwr 2024-07-12 23:48:23,881 | app.py:229 | app_fit: metrics_centralized {'accuracy': [(0, 10.21484375), (1, 10.1953125), (2, 10.263671875)]}\n"
     ]
    },
    {
     "name": "stdout",
     "output_type": "stream",
     "text": [
      "Simulation Time = 428.1065032482147 seconds\n"
     ]
    }
   ],
   "source": [
    "import warnings\n",
    "warnings.simplefilter(\"ignore\")\n",
    "\n",
    "print(\"flwr\", fl.__version__)\n",
    "print(\"numpy\", np.__version__)\n",
    "print(\"torch\", torch.__version__)\n",
    "print(\"torchvision\", torchvision.__version__)\n",
    "print(f\"Training on {DEVICE}\")\n",
    "\n",
    "client_resources = None\n",
    "\n",
    "if DEVICE.type == \"cuda\":\n",
    "    client_resources = {\"num_gpus\": 1}\n",
    "\n",
    "model_save = model_save\n",
    "path_yaml = yaml_path\n",
    "path_roc = roc_path\n",
    "results_save = save_results\n",
    "path_matrix = matrix_path\n",
    "batch_size = batch_size\n",
    "he = he\n",
    "secret_path = 'secret.pkl'\n",
    "server_path = 'secret.pkl'\n",
    "path_crypted = 'server.pkl'\n",
    "\n",
    "print(\"Start simulation\")\n",
    "start_simulation = time.time()\n",
    "fl.simulation.start_simulation(\n",
    "    client_fn=client_fn,\n",
    "    num_clients=number_clients,\n",
    "    config=fl.server.ServerConfig(num_rounds=rounds),\n",
    "    strategy=strategy,\n",
    "    client_resources=client_resources\n",
    ")\n",
    "print(f\"Simulation Time = {time.time() - start_simulation} seconds\")"
   ]
  },
  {
   "cell_type": "code",
   "execution_count": null,
   "metadata": {},
   "outputs": [],
   "source": []
  }
 ],
 "metadata": {
  "kernelspec": {
   "display_name": "fl_env",
   "language": "python",
   "name": "python3"
  },
  "language_info": {
   "codemirror_mode": {
    "name": "ipython",
    "version": 3
   },
   "file_extension": ".py",
   "mimetype": "text/x-python",
   "name": "python",
   "nbconvert_exporter": "python",
   "pygments_lexer": "ipython3",
   "version": "3.10.14"
  }
 },
 "nbformat": 4,
 "nbformat_minor": 2
}
