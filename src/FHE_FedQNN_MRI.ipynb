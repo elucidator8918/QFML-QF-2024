{
 "cells": [
  {
   "cell_type": "markdown",
   "metadata": {},
   "source": [
    "### Import necessary libraries and modules"
   ]
  },
  {
   "cell_type": "code",
   "execution_count": 1,
   "metadata": {},
   "outputs": [],
   "source": [
    "# %%bash\n",
    "\n",
    "# kaggle datasets download -d masoudnickparvar/brain-tumor-mri-dataset\n",
    "# mkdir data data/MRI\n",
    "# unzip brain-tumor-mri-dataset.zip -d data/MRI\n",
    "# rm brain-tumor-mri-dataset.zip"
   ]
  },
  {
   "cell_type": "code",
   "execution_count": 2,
   "metadata": {},
   "outputs": [],
   "source": [
    "import os\n",
    "import pickle\n",
    "import time\n",
    "from collections import OrderedDict\n",
    "from typing import (\n",
    "    List, Tuple, Dict, Optional, Callable, Union\n",
    ")\n",
    "import tenseal as ts\n",
    "\n",
    "import numpy as np\n",
    "import torchvision\n",
    "import torch\n",
    "from torch import nn\n",
    "import torch.nn.functional as F\n",
    "import flwr as fl\n",
    "from flwr.common import (\n",
    "    Metrics, EvaluateIns, EvaluateRes, FitIns, FitRes, MetricsAggregationFn, \n",
    "    Scalar, logger, ndarrays_to_parameters_custom, parameters_to_ndarrays_custom,\n",
    "    Parameters, NDArrays\n",
    ")\n",
    "from flwr.server.client_proxy import ClientProxy\n",
    "from flwr.server.client_manager import ClientManager\n",
    "from flwr.server.strategy.aggregate import weighted_loss_avg\n",
    "from logging import WARNING\n",
    "import pennylane as qml\n",
    "\n",
    "from utils import *"
   ]
  },
  {
   "cell_type": "markdown",
   "metadata": {},
   "source": [
    "### Creation of FHE Keys"
   ]
  },
  {
   "cell_type": "code",
   "execution_count": 3,
   "metadata": {},
   "outputs": [
    {
     "name": "stdout",
     "output_type": "stream",
     "text": [
      "it exists\n"
     ]
    }
   ],
   "source": [
    "def combo_keys(client_path=\"secret.pkl\", server_path=\"server_key.pkl\"):\n",
    "    \"\"\"\n",
    "    To create the public/private keys combination\n",
    "    args:\n",
    "        client_path: path to save the secret key (str)\n",
    "        server_path: path to save the server public key (str)\n",
    "    \"\"\"\n",
    "    context_client = security.context()\n",
    "    security.write_query(client_path, {\"contexte\": context_client.serialize(save_secret_key=True)})\n",
    "    security.write_query(server_path, {\"contexte\": context_client.serialize()})\n",
    "\n",
    "    _, context_client = security.read_query(client_path)\n",
    "    _, context_server = security.read_query(server_path)\n",
    "\n",
    "    context_client = ts.context_from(context_client)\n",
    "    context_server = ts.context_from(context_server)\n",
    "    print(\"Is the client context private?\", (\"Yes\" if context_client.is_private() else \"No\"))\n",
    "    print(\"Is the server context private?\", (\"Yes\" if context_server.is_private() else \"No\"))\n",
    "\n",
    "\n",
    "secret_path = \"secret.pkl\"\n",
    "public_path = \"server_key.pkl\"\n",
    "if os.path.exists(secret_path):\n",
    "    print(\"it exists\")\n",
    "    _, context_client = security.read_query(secret_path)\n",
    "\n",
    "else:\n",
    "    combo_keys(client_path=secret_path, server_path=public_path)\n",
    "\n",
    "n_qubits = 4\n",
    "n_layers = 6\n",
    "weight_shapes = {\"weights\": (n_layers, n_qubits)}       "
   ]
  },
  {
   "cell_type": "markdown",
   "metadata": {},
   "source": [
    "### Model Architecture Creation"
   ]
  },
  {
   "cell_type": "code",
   "execution_count": 4,
   "metadata": {},
   "outputs": [],
   "source": [
    "dev = qml.device(\"default.qubit.torch\", wires=n_qubits)\n",
    "    \n",
    "@qml.qnode(dev, interface='torch')\n",
    "def quantum_net(inputs, weights):\n",
    "    qml.AngleEmbedding(inputs, wires=range(n_qubits)) \n",
    "    qml.BasicEntanglerLayers(weights,wires=range(n_qubits))\n",
    "    return [qml.expval(qml.PauliZ(i)) for i in range(n_qubits)]\n",
    "\n",
    "class Net(nn.Module):\n",
    "    \"\"\"\n",
    "    A simple CNN model\n",
    "\n",
    "    Args:\n",
    "        num_classes: An integer indicating the number of classes in the dataset.\n",
    "    \"\"\"\n",
    "    def __init__(self, num_classes=10) -> None:\n",
    "        super(Net, self).__init__()\n",
    "        self.features = nn.Sequential(\n",
    "            nn.Conv2d(3, 16, kernel_size=3, padding=1),\n",
    "            nn.ReLU(inplace=True),\n",
    "            nn.MaxPool2d(kernel_size=2, stride=2),\n",
    "            nn.Conv2d(16, 32, kernel_size=3, padding=1),\n",
    "            nn.ReLU(inplace=True),\n",
    "            nn.MaxPool2d(kernel_size=2, stride=2)\n",
    "        )\n",
    "        self.classifier = nn.Sequential(\n",
    "            nn.Linear(32 * 56 * 56, 128),\n",
    "            nn.ReLU(inplace=True),\n",
    "            nn.Linear(128, n_qubits),\n",
    "            qml.qnn.TorchLayer(quantum_net, weight_shapes=weight_shapes),\n",
    "            nn.Linear(n_qubits, num_classes)\n",
    "        )\n",
    "\n",
    "    def forward(self, x: torch.Tensor) -> torch.Tensor:\n",
    "        \"\"\"\n",
    "        Forward pass of the neural network\n",
    "        \"\"\"\n",
    "        x = self.features(x)\n",
    "        x = x.view(x.size(0), -1)\n",
    "        x = self.classifier(x)\n",
    "        return x "
   ]
  },
  {
   "cell_type": "markdown",
   "metadata": {},
   "source": [
    "### Define the FlowerClient class for federated learning"
   ]
  },
  {
   "cell_type": "code",
   "execution_count": 5,
   "metadata": {},
   "outputs": [],
   "source": [
    "class FlowerClient(fl.client.NumPyClient):\n",
    "    def __init__(self, cid, net, trainloader, valloader, device, batch_size, save_results, matrix_path, roc_path,\n",
    "                 yaml_path, he, classes, context_client):\n",
    "        self.net = net\n",
    "        self.trainloader = trainloader\n",
    "        self.valloader = valloader\n",
    "        self.cid = cid\n",
    "        self.device = device\n",
    "        self.batch_size = batch_size\n",
    "        self.save_results = save_results\n",
    "        self.matrix_path = matrix_path\n",
    "        self.roc_path = roc_path\n",
    "        self.yaml_path = yaml_path\n",
    "        self.he = he\n",
    "        self.classes = classes\n",
    "        self.context_client = context_client\n",
    "\n",
    "    def get_parameters(self, config):\n",
    "        print(f\"[Client {self.cid}] get_parameters\")\n",
    "        return get_parameters2(self.net, self.context_client)\n",
    "\n",
    "    def fit(self, parameters, config):\n",
    "        server_round = config['server_round']\n",
    "        local_epochs = config['local_epochs']\n",
    "        lr = float(config[\"learning_rate\"])\n",
    "\n",
    "        print(f'[Client {self.cid}, round {server_round}] fit, config: {config}')\n",
    "\n",
    "        set_parameters(self.net, parameters, self.context_client)\n",
    "\n",
    "        criterion = torch.nn.CrossEntropyLoss()\n",
    "        optimizer = torch.optim.Adam(self.net.parameters(), lr=lr)\n",
    "\n",
    "        results = engine.train(self.net, self.trainloader, self.valloader, optimizer=optimizer, loss_fn=criterion,\n",
    "                               epochs=local_epochs, device=self.device)\n",
    "\n",
    "        if self.save_results:\n",
    "            save_graphs(self.save_results, local_epochs, results, f\"_Client {self.cid}\")\n",
    "\n",
    "        return get_parameters2(self.net, self.context_client), len(self.trainloader), {}\n",
    "\n",
    "    def evaluate(self, parameters, config):\n",
    "        print(f\"[Client {self.cid}] evaluate, config: {config}\")\n",
    "        set_parameters(self.net, parameters, self.context_client)\n",
    "\n",
    "        loss, accuracy, y_pred, y_true, y_proba = engine.test(self.net, self.valloader,\n",
    "                                                              loss_fn=torch.nn.CrossEntropyLoss(), device=self.device)\n",
    "\n",
    "        if self.save_results:\n",
    "            os.makedirs(self.save_results, exist_ok=True)\n",
    "            if self.matrix_path:\n",
    "                save_matrix(y_true, y_pred, self.save_results + self.matrix_path, self.classes)\n",
    "            if self.roc_path:\n",
    "                save_roc(y_true, y_proba, self.save_results + self.roc_path, len(self.classes))\n",
    "\n",
    "        return float(loss), len(self.valloader), {\"accuracy\": float(accuracy)}"
   ]
  },
  {
   "cell_type": "markdown",
   "metadata": {},
   "source": [
    "### Define the client_common function to set up the Flower client"
   ]
  },
  {
   "cell_type": "code",
   "execution_count": 6,
   "metadata": {},
   "outputs": [],
   "source": [
    "def client_common(cid, model_save, path_yaml, path_roc, results_save, path_matrix,\n",
    "                  batch_size, trainloaders, valloaders, DEVICE, CLASSES,\n",
    "                  he=False, secret_path=\"\", server_path=\"\"):\n",
    "    trainloader = trainloaders[int(cid)]\n",
    "    valloader = valloaders[int(cid)]\n",
    "\n",
    "    context_client = None\n",
    "    net = Net(num_classes=len(CLASSES)).to(DEVICE)\n",
    "\n",
    "    if he:\n",
    "        print(\"Run with homomorphic encryption\")\n",
    "        if os.path.exists(secret_path):\n",
    "            with open(secret_path, 'rb') as f:\n",
    "                query = pickle.load(f)\n",
    "            context_client = ts.context_from(query[\"contexte\"])\n",
    "        else:\n",
    "            context_client = security.context()\n",
    "            with open(secret_path, 'wb') as f:\n",
    "                encode = pickle.dumps({\"contexte\": context_client.serialize(save_secret_key=True)})\n",
    "                f.write(encode)\n",
    "        secret_key = context_client.secret_key()\n",
    "    else:\n",
    "        print(\"Run WITHOUT homomorphic encryption\")\n",
    "\n",
    "    if os.path.exists(model_save):\n",
    "        print(\" To get the checkpoint\")\n",
    "        checkpoint = torch.load(model_save, map_location=DEVICE)['model_state_dict']\n",
    "        if he:\n",
    "            print(\"to decrypt model\")\n",
    "            server_query, server_context = security.read_query(server_path)\n",
    "            server_context = ts.context_from(server_context)\n",
    "            for name in checkpoint:\n",
    "                print(name)\n",
    "                checkpoint[name] = torch.tensor(\n",
    "                    security.deserialized_layer(name, server_query[name], server_context).decrypt(secret_key)\n",
    "                )\n",
    "        net.load_state_dict(checkpoint)\n",
    "\n",
    "    return FlowerClient(cid, net, trainloader, valloader, device=DEVICE, batch_size=batch_size,\n",
    "                        matrix_path=path_matrix, roc_path=path_roc, save_results=results_save, yaml_path=path_yaml,\n",
    "                        he=he, context_client=context_client, classes=CLASSES)"
   ]
  },
  {
   "cell_type": "markdown",
   "metadata": {},
   "source": [
    "### Define utility functions for federated learning"
   ]
  },
  {
   "cell_type": "code",
   "execution_count": 7,
   "metadata": {},
   "outputs": [],
   "source": [
    "def weighted_average(metrics: List[Tuple[int, Metrics]]) -> Metrics:\n",
    "    accuracies = [num_examples * m[\"accuracy\"] for num_examples, m in metrics]\n",
    "    examples = [num_examples for num_examples, _ in metrics]\n",
    "    return {\"accuracy\": sum(accuracies) / sum(examples)}\n",
    "\n",
    "def evaluate2(server_round: int, parameters: NDArrays,\n",
    "              config: Dict[str, Scalar]) -> Optional[Tuple[float, Dict[str, Scalar]]]:\n",
    "    set_parameters(central, parameters)\n",
    "    loss, accuracy, y_pred, y_true, y_proba = engine.test(central, testloader, loss_fn=torch.nn.CrossEntropyLoss(),\n",
    "                                                          device=DEVICE)\n",
    "    print(f\"Server-side evaluation loss {loss} / accuracy {accuracy}\")\n",
    "    return loss, {\"accuracy\": accuracy}\n",
    "\n",
    "def get_on_fit_config_fn(epoch=2, lr=0.001, batch_size=32) -> Callable[[int], Dict[str, str]]:\n",
    "    def fit_config(server_round: int) -> Dict[str, str]:\n",
    "        config = {\n",
    "            \"learning_rate\": str(lr),\n",
    "            \"batch_size\": str(batch_size),\n",
    "            \"server_round\": server_round,\n",
    "            \"local_epochs\": epoch\n",
    "        }\n",
    "        return config\n",
    "    return fit_config\n",
    "\n",
    "def aggreg_fit_checkpoint(server_round, aggregated_parameters, central_model, path_checkpoint,\n",
    "                          context_client=None, server_path=\"\"):\n",
    "    if aggregated_parameters is not None:\n",
    "        print(f\"Saving round {server_round} aggregated_parameters...\")\n",
    "        aggregated_ndarrays: List[np.ndarray] = parameters_to_ndarrays_custom(aggregated_parameters, context_client)\n",
    "        if context_client:   \n",
    "            server_response = {\"contexte\": server_context.serialize()}\n",
    "            for i, key in enumerate(central_model.state_dict().keys()):\n",
    "                try:\n",
    "                    server_response[key] = aggregated_ndarrays[i].serialize()\n",
    "                except:\n",
    "                    server_response[key] = aggregated_ndarrays[i]\n",
    "            security.write_query(server_path, server_response)\n",
    "        else:\n",
    "            params_dict = zip(central_model.state_dict().keys(), aggregated_ndarrays)\n",
    "            state_dict = OrderedDict({k: torch.tensor(v) for k, v in params_dict})\n",
    "            central_model.load_state_dict(state_dict, strict=True)\n",
    "            if path_checkpoint:\n",
    "                torch.save({\n",
    "                    'model_state_dict': central_model.state_dict(),\n",
    "                }, path_checkpoint)"
   ]
  },
  {
   "cell_type": "markdown",
   "metadata": {},
   "source": [
    "### Define the FedCustom strategy class"
   ]
  },
  {
   "cell_type": "code",
   "execution_count": 8,
   "metadata": {},
   "outputs": [],
   "source": [
    "# A Strategy from scratch with the same sampling of the clients as it is in FedAvg\n",
    "# and then change the configuration dictionary\n",
    "class FedCustom(fl.server.strategy.Strategy):\n",
    "    def __init__(\n",
    "            self,\n",
    "            fraction_fit: float = 1.0,\n",
    "            fraction_evaluate: float = 1.0,\n",
    "            min_fit_clients: int = 2,\n",
    "            min_evaluate_clients: int = 2,\n",
    "            min_available_clients: int = 2,\n",
    "            evaluate_fn: Optional[\n",
    "                    Callable[[int, NDArrays, Dict[str, Scalar]], Optional[Tuple[float, Dict[str, Scalar]]]]\n",
    "                ] = None,\n",
    "            on_fit_config_fn: Optional[Callable[[int], Dict[str, Scalar]]] = None,\n",
    "            on_evaluate_config_fn: Optional[Callable[[int], Dict[str, Scalar]]] = None,\n",
    "            accept_failures: bool = True,\n",
    "            initial_parameters: Optional[Parameters] = None,\n",
    "            fit_metrics_aggregation_fn: Optional[MetricsAggregationFn] = None,\n",
    "            evaluate_metrics_aggregation_fn: Optional[MetricsAggregationFn] = None,\n",
    "            context_client=None\n",
    "    ) -> None:\n",
    "        super().__init__()\n",
    "        self.fraction_fit = fraction_fit\n",
    "        self.fraction_evaluate = fraction_evaluate\n",
    "        self.min_fit_clients = min_fit_clients\n",
    "        self.min_evaluate_clients = min_evaluate_clients\n",
    "        self.min_available_clients = min_available_clients\n",
    "        self.evaluate_fn = evaluate_fn\n",
    "        self.on_fit_config_fn = on_fit_config_fn\n",
    "        self.on_evaluate_config_fn = on_evaluate_config_fn,\n",
    "        self.accept_failures = accept_failures\n",
    "        self.initial_parameters = initial_parameters\n",
    "        self.fit_metrics_aggregation_fn = fit_metrics_aggregation_fn\n",
    "        self.evaluate_metrics_aggregation_fn = evaluate_metrics_aggregation_fn\n",
    "        self.context_client = context_client\n",
    "\n",
    "    def __repr__(self) -> str:\n",
    "        # Same function as FedAvg(Strategy)\n",
    "        return f\"FedCustom (accept_failures={self.accept_failures})\"\n",
    "\n",
    "    def initialize_parameters(\n",
    "        self, client_manager: ClientManager\n",
    "    ) -> Optional[Parameters]:\n",
    "        \"\"\"Initialize global model parameters.\"\"\"\n",
    "        # Same function as FedAvg(Strategy)\n",
    "        initial_parameters = self.initial_parameters\n",
    "        self.initial_parameters = None  # Don't keep initial parameters in memory\n",
    "        return initial_parameters\n",
    "\n",
    "    def num_fit_clients(self, num_available_clients: int) -> Tuple[int, int]:\n",
    "        \"\"\"Return sample size and required number of clients.\"\"\"\n",
    "        # Same function as FedAvg(Strategy)\n",
    "        num_clients = int(num_available_clients * self.fraction_fit)\n",
    "        return max(num_clients, self.min_fit_clients), self.min_available_clients\n",
    "\n",
    "    def configure_fit(\n",
    "        self, server_round: int, parameters: Parameters, client_manager: ClientManager\n",
    "    ) -> List[Tuple[ClientProxy, FitIns]]:\n",
    "        \"\"\"Configure the next round of training.\"\"\"\n",
    "        # Sample clients\n",
    "        sample_size, min_num_clients = self.num_fit_clients(\n",
    "            client_manager.num_available()\n",
    "        )\n",
    "\n",
    "        clients = client_manager.sample(\n",
    "            num_clients=sample_size, min_num_clients=min_num_clients\n",
    "        )\n",
    "        # Create custom configs\n",
    "        n_clients = len(clients)\n",
    "        half_clients = n_clients // 2\n",
    "        # Custom fit config function provided\n",
    "        standard_lr = lr\n",
    "        higher_lr = 0.003\n",
    "        config = {\"server_round\": server_round, \"local_epochs\": 1}\n",
    "        if self.on_fit_config_fn is not None:\n",
    "            # Custom fit config function provided\n",
    "            config = self.on_fit_config_fn(server_round)\n",
    "\n",
    "        # fit_ins = FitIns(parameters, config)\n",
    "        # Return client/config pairs\n",
    "        fit_configurations = []\n",
    "        for idx, client in enumerate(clients):\n",
    "            config[\"learning_rate\"] = standard_lr if idx < half_clients else higher_lr\n",
    "            \"\"\"\n",
    "            Each pair of (ClientProxy, FitRes) constitutes \n",
    "            a successful update from one of the previously selected clients.\n",
    "            \"\"\"\n",
    "            fit_configurations.append(\n",
    "                (\n",
    "                    client,\n",
    "                    FitIns(\n",
    "                        parameters,\n",
    "                        config\n",
    "                    )\n",
    "                )\n",
    "            )\n",
    "        # Successful updates from the previously selected and configured clients\n",
    "        return fit_configurations\n",
    "\n",
    "    def aggregate_fit(\n",
    "        self,\n",
    "        server_round: int,\n",
    "        results: List[Tuple[ClientProxy, FitRes]],\n",
    "        failures: List[Union[Tuple[ClientProxy, FitRes], BaseException]],\n",
    "    ) -> Tuple[Optional[Parameters], Dict[str, Scalar]]:\n",
    "        \"\"\"Aggregate fit results using weighted average. (each round)\"\"\"\n",
    "        # Same function as FedAvg(Strategy)\n",
    "        if not results:\n",
    "            return None, {}\n",
    "\n",
    "        # Do not aggregate if there are failures and failures are not accepted\n",
    "        if not self.accept_failures and failures:\n",
    "            return None, {}\n",
    "\n",
    "        # Convert results parameters --> array matrix\n",
    "        weights_results = [\n",
    "            (parameters_to_ndarrays_custom(fit_res.parameters, self.context_client), fit_res.num_examples)\n",
    "            for _, fit_res in results\n",
    "        ]\n",
    "\n",
    "        # Aggregate parameters using weighted average between the clients and convert back to parameters object (bytes)\n",
    "        parameters_aggregated = ndarrays_to_parameters_custom(aggregate_custom(weights_results))\n",
    "\n",
    "        metrics_aggregated = {}\n",
    "        # Aggregate custom metrics if aggregation fn was provided\n",
    "        if self.fit_metrics_aggregation_fn:\n",
    "            fit_metrics = [(res.num_examples, res.metrics) for _, res in results]\n",
    "            metrics_aggregated = self.fit_metrics_aggregation_fn(fit_metrics)\n",
    "\n",
    "        elif server_round == 1:  # Only log this warning once\n",
    "            logger.log(WARNING, \"No fit_metrics_aggregation_fn provided\")\n",
    "\n",
    "        # Same function as SaveModelStrategy(fl.server.strategy.FedAvg)\n",
    "        \"\"\"Aggregate model weights using weighted average and store checkpoint\"\"\"\n",
    "        aggreg_fit_checkpoint(server_round, parameters_aggregated, central, model_save,\n",
    "                              self.context_client, path_crypted)\n",
    "        return parameters_aggregated, metrics_aggregated\n",
    "\n",
    "    def num_evaluation_clients(self, num_available_clients: int) -> Tuple[int, int]:\n",
    "        \"\"\"Use a fraction of available clients for evaluation.\"\"\"\n",
    "        # Same function as FedAvg(Strategy)\n",
    "        num_clients = int(num_available_clients * self.fraction_evaluate)\n",
    "        return max(num_clients, self.min_evaluate_clients), self.min_available_clients\n",
    "\n",
    "    def configure_evaluate(\n",
    "        self, server_round: int, parameters: Parameters, client_manager: ClientManager\n",
    "    ) -> List[Tuple[ClientProxy, EvaluateIns]]:\n",
    "        \"\"\"Configure the next round of evaluation.\"\"\"\n",
    "        # Same function as FedAvg(Strategy)\n",
    "        # Do not configure federated evaluation if fraction eval is 0.\n",
    "        if self.fraction_evaluate == 0.0:\n",
    "            return []\n",
    "\n",
    "        # Parameters and config\n",
    "        config = {}  # {\"server_round\": server_round, \"local_epochs\": 1}\n",
    "\n",
    "        evaluate_ins = EvaluateIns(parameters, config)\n",
    "\n",
    "        # Sample clients\n",
    "        sample_size, min_num_clients = self.num_evaluation_clients(\n",
    "            client_manager.num_available()\n",
    "        )\n",
    "\n",
    "        clients = client_manager.sample(\n",
    "            num_clients=sample_size, min_num_clients=min_num_clients\n",
    "        )\n",
    "\n",
    "        # Return client/config pairs\n",
    "        # Each pair of (ClientProxy, FitRes) constitutes a successful update from one of the previously selected clients\n",
    "        return [(client, evaluate_ins) for client in clients]\n",
    "\n",
    "    def aggregate_evaluate(\n",
    "        self,\n",
    "        server_round: int,\n",
    "        results: List[Tuple[ClientProxy, EvaluateRes]],\n",
    "        failures: List[Union[Tuple[ClientProxy, EvaluateRes], BaseException]],\n",
    "    ) -> Tuple[Optional[float], Dict[str, Scalar]]:\n",
    "        \"\"\"Aggregate evaluation losses using weighted average.\"\"\"\n",
    "        # Same function as FedAvg(Strategy)\n",
    "        if not results:\n",
    "            return None, {}\n",
    "\n",
    "        # Do not aggregate if there are failures and failures are not accepted\n",
    "        if not self.accept_failures and failures:\n",
    "            return None, {}\n",
    "\n",
    "        # Aggregate loss\n",
    "        loss_aggregated = weighted_loss_avg(\n",
    "            [\n",
    "                (evaluate_res.num_examples, evaluate_res.loss)\n",
    "                for _, evaluate_res in results\n",
    "            ]\n",
    "        )\n",
    "\n",
    "        metrics_aggregated = {}\n",
    "        # Aggregate custom metrics if aggregation fn was provided\n",
    "        if self.evaluate_metrics_aggregation_fn:\n",
    "            eval_metrics = [(res.num_examples, res.metrics) for _, res in results]\n",
    "            metrics_aggregated = self.evaluate_metrics_aggregation_fn(eval_metrics)\n",
    "\n",
    "        # Only log this warning once\n",
    "        elif server_round == 1:\n",
    "            logger.log(WARNING, \"No evaluate_metrics_aggregation_fn provided\")\n",
    "\n",
    "        return loss_aggregated, metrics_aggregated\n",
    "\n",
    "    def evaluate(\n",
    "        self, server_round: int, parameters: Parameters\n",
    "    ) -> Optional[Tuple[float, Dict[str, Scalar]]]:\n",
    "        \"\"\"Evaluate global model parameters using an evaluation function.\"\"\"\n",
    "        # Same function as FedAvg(Strategy)\n",
    "        if self.evaluate_fn is None:\n",
    "            # Let's assume we won't perform the global model evaluation on the server side.\n",
    "            return None\n",
    "\n",
    "        # if we have a global model evaluation on the server side :\n",
    "        parameters_ndarrays = parameters_to_ndarrays_custom(parameters, self.context_client)\n",
    "        eval_res = self.evaluate_fn(server_round, parameters_ndarrays, {})\n",
    "\n",
    "        # if you haven't results\n",
    "        if eval_res is None:\n",
    "            return None\n",
    "\n",
    "        loss, metrics = eval_res\n",
    "        return loss, metrics"
   ]
  },
  {
   "cell_type": "markdown",
   "metadata": {},
   "source": [
    "### Set up the federated learning strategy"
   ]
  },
  {
   "cell_type": "code",
   "execution_count": 9,
   "metadata": {},
   "outputs": [],
   "source": [
    "# Set up your variables directly\n",
    "he = True\n",
    "data_path = 'data/'\n",
    "dataset = 'MRI'\n",
    "yaml_path = './results/FL/results.yml'\n",
    "seed = 0\n",
    "num_workers = 0\n",
    "max_epochs = 10\n",
    "batch_size = 32\n",
    "splitter = 10\n",
    "device = 'gpu'\n",
    "number_clients = 10\n",
    "save_results = 'results/FL/'\n",
    "matrix_path = 'confusion_matrix.png'\n",
    "roc_path = 'roc.png'\n",
    "model_save = 'MRI_FHE.pt'\n",
    "min_fit_clients = 10\n",
    "min_avail_clients = 10\n",
    "min_eval_clients = 10\n",
    "rounds = 20\n",
    "frac_fit = 1.0\n",
    "frac_eval = 0.5\n",
    "lr = 1e-3\n",
    "path_public_key = 'server_key.pkl'"
   ]
  },
  {
   "cell_type": "code",
   "execution_count": 10,
   "metadata": {},
   "outputs": [
    {
     "name": "stdout",
     "output_type": "stream",
     "text": [
      "get public key :  server_key.pkl\n"
     ]
    }
   ],
   "source": [
    "print(\"get public key : \", path_public_key)\n",
    "_, server_context = security.read_query(path_public_key)\n",
    "server_context = ts.context_from(server_context)\n",
    "DEVICE = torch.device(choice_device(device))\n",
    "CLASSES = classes_string(dataset)\n",
    "central = Net(num_classes=len(CLASSES)).to(DEVICE)"
   ]
  },
  {
   "cell_type": "code",
   "execution_count": 11,
   "metadata": {},
   "outputs": [],
   "source": [
    "strategy = FedCustom(\n",
    "    fraction_fit=frac_fit,\n",
    "    fraction_evaluate=frac_eval,\n",
    "    min_fit_clients=min_fit_clients,\n",
    "    min_evaluate_clients=min_eval_clients if min_eval_clients else number_clients // 2,\n",
    "    min_available_clients=min_avail_clients,\n",
    "    evaluate_metrics_aggregation_fn=weighted_average,\n",
    "    initial_parameters=ndarrays_to_parameters_custom(get_parameters2(central)),\n",
    "    evaluate_fn=None if he else evaluate2,\n",
    "    on_fit_config_fn=get_on_fit_config_fn(epoch=max_epochs, batch_size=batch_size),\n",
    "    context_client=server_context\n",
    ")"
   ]
  },
  {
   "cell_type": "code",
   "execution_count": 12,
   "metadata": {},
   "outputs": [
    {
     "name": "stdout",
     "output_type": "stream",
     "text": [
      "MRI\n",
      "The training set is created for the classes : ['glioma', 'meningioma', 'notumor', 'pituitary']\n"
     ]
    }
   ],
   "source": [
    "trainloaders, valloaders, testloader = data_setup.load_datasets(num_clients=number_clients,\n",
    "                                                                batch_size=batch_size,\n",
    "                                                                resize=224,\n",
    "                                                                seed=seed,\n",
    "                                                                num_workers=num_workers,\n",
    "                                                                splitter=splitter,\n",
    "                                                                dataset=dataset,  # Use the specified dataset\n",
    "                                                                data_path=data_path,\n",
    "                                                                data_path_val=None)  # Use the same path for validation data\n",
    "\n",
    "def client_fn(cid: str) -> FlowerClient:\n",
    "    return client_common(cid,\n",
    "                         model_save, path_yaml, path_roc, results_save, path_matrix,\n",
    "                         batch_size, trainloaders, valloaders, DEVICE, CLASSES, he, secret_path, server_path)"
   ]
  },
  {
   "cell_type": "markdown",
   "metadata": {},
   "source": [
    "### Define the client_fn function and set up the simulation"
   ]
  },
  {
   "cell_type": "code",
   "execution_count": null,
   "metadata": {},
   "outputs": [
    {
     "name": "stderr",
     "output_type": "stream",
     "text": [
      "INFO flwr 2024-07-21 02:29:02,240 | app.py:145 | Starting Flower simulation, config: ServerConfig(num_rounds=20, round_timeout=None)\n"
     ]
    },
    {
     "name": "stdout",
     "output_type": "stream",
     "text": [
      "flwr 1.5.0\n",
      "numpy 1.26.4\n",
      "torch 2.1.2\n",
      "torchvision 0.16.2\n",
      "Training on cuda:0\n",
      "Start simulation\n"
     ]
    },
    {
     "name": "stderr",
     "output_type": "stream",
     "text": [
      "2024-07-21 02:29:06,623\tINFO worker.py:1724 -- Started a local Ray instance.\n",
      "INFO flwr 2024-07-21 02:29:07,852 | app.py:179 | Flower VCE: Ray initialized with resources: {'accelerator_type:T4': 1.0, 'CPU': 4.0, 'object_store_memory': 8906808115.0, 'node:172.19.2.2': 1.0, 'node:__internal_head__': 1.0, 'memory': 17813616231.0, 'GPU': 2.0}\n",
      "INFO flwr 2024-07-21 02:29:07,856 | server.py:89 | Initializing global parameters\n",
      "INFO flwr 2024-07-21 02:29:07,859 | server.py:272 | Using initial parameters provided by strategy\n",
      "INFO flwr 2024-07-21 02:29:07,859 | server.py:91 | Evaluating initial parameters\n",
      "INFO flwr 2024-07-21 02:29:07,861 | server.py:104 | FL starting\n",
      "DEBUG flwr 2024-07-21 02:29:07,862 | server.py:222 | fit_round 1: strategy sampled 10 clients (out of 10)\n"
     ]
    },
    {
     "name": "stdout",
     "output_type": "stream",
     "text": [
      "\u001b[36m(launch_and_fit pid=402)\u001b[0m Run with homomorphic encryption\n",
      "\u001b[36m(launch_and_fit pid=402)\u001b[0m [Client 1, round 1] fit, config: {'learning_rate': 0.003, 'batch_size': '32', 'server_round': 1, 'local_epochs': 10}\n",
      "\u001b[36m(launch_and_fit pid=402)\u001b[0m Updated model\n"
     ]
    },
    {
     "name": "stderr",
     "output_type": "stream",
     "text": [
      "  0%|\u001b[34m          \u001b[0m| 0/10 [00:00<?, ?it/s]\n"
     ]
    },
    {
     "name": "stdout",
     "output_type": "stream",
     "text": [
      "\u001b[36m(launch_and_fit pid=402)\u001b[0m \tTrain Epoch: 1 \tTrain_loss: 1.4313 | Train_acc: 26.8382 % | Validation_loss: 1.3713 | Validation_acc: 28.5000 %\n",
      "\u001b[36m(launch_and_fit pid=403)\u001b[0m Run with homomorphic encryption\n",
      "\u001b[36m(launch_and_fit pid=403)\u001b[0m [Client 7, round 1] fit, config: {'learning_rate': 0.003, 'batch_size': '32', 'server_round': 1, 'local_epochs': 10}\n",
      "\u001b[36m(launch_and_fit pid=403)\u001b[0m Updated model\n"
     ]
    },
    {
     "name": "stderr",
     "output_type": "stream",
     "text": [
      " 10%|\u001b[34m█         \u001b[0m| 1/10 [00:05<00:51,  5.77s/it]\n",
      "  0%|\u001b[34m          \u001b[0m| 0/10 [00:00<?, ?it/s]\n"
     ]
    },
    {
     "name": "stdout",
     "output_type": "stream",
     "text": [
      "\u001b[36m(launch_and_fit pid=402)\u001b[0m \tTrain Epoch: 3 \tTrain_loss: 1.4110 | Train_acc: 27.9412 % | Validation_loss: 1.3875 | Validation_acc: 30.0625 %\u001b[32m [repeated 4x across cluster] (Ray deduplicates logs by default. Set RAY_DEDUP_LOGS=0 to disable log deduplication, or see https://docs.ray.io/en/master/ray-observability/ray-logging.html#log-deduplication for more options.)\u001b[0m\n"
     ]
    },
    {
     "name": "stderr",
     "output_type": "stream",
     "text": [
      " 30%|\u001b[34m███       \u001b[0m| 3/10 [00:13<00:31,  4.48s/it]\u001b[32m [repeated 4x across cluster]\u001b[0m\n"
     ]
    },
    {
     "name": "stdout",
     "output_type": "stream",
     "text": [
      "\u001b[36m(launch_and_fit pid=402)\u001b[0m \tTrain Epoch: 5 \tTrain_loss: 1.3986 | Train_acc: 25.7353 % | Validation_loss: 1.3688 | Validation_acc: 28.5000 %\u001b[32m [repeated 4x across cluster]\u001b[0m\n"
     ]
    },
    {
     "name": "stderr",
     "output_type": "stream",
     "text": [
      " 50%|\u001b[34m█████     \u001b[0m| 5/10 [00:22<00:21,  4.28s/it]\u001b[32m [repeated 4x across cluster]\u001b[0m\n"
     ]
    },
    {
     "name": "stdout",
     "output_type": "stream",
     "text": [
      "\u001b[36m(launch_and_fit pid=402)\u001b[0m \tTrain Epoch: 7 \tTrain_loss: 1.4163 | Train_acc: 25.1838 % | Validation_loss: 1.3720 | Validation_acc: 25.3750 %\u001b[32m [repeated 4x across cluster]\u001b[0m\n"
     ]
    },
    {
     "name": "stderr",
     "output_type": "stream",
     "text": [
      " 70%|\u001b[34m███████   \u001b[0m| 7/10 [00:30<00:12,  4.21s/it]\u001b[32m [repeated 4x across cluster]\u001b[0m\n"
     ]
    },
    {
     "name": "stdout",
     "output_type": "stream",
     "text": [
      "\u001b[36m(launch_and_fit pid=402)\u001b[0m \tTrain Epoch: 9 \tTrain_loss: 1.3948 | Train_acc: 25.3676 % | Validation_loss: 1.3569 | Validation_acc: 38.7500 %\u001b[32m [repeated 4x across cluster]\u001b[0m\n"
     ]
    },
    {
     "name": "stderr",
     "output_type": "stream",
     "text": [
      " 90%|\u001b[34m█████████ \u001b[0m| 9/10 [00:38<00:04,  4.13s/it]\u001b[32m [repeated 4x across cluster]\u001b[0m\n"
     ]
    },
    {
     "name": "stdout",
     "output_type": "stream",
     "text": [
      "\u001b[36m(launch_and_fit pid=402)\u001b[0m save graph in  results/FL/\n",
      "\u001b[36m(launch_and_fit pid=402)\u001b[0m features.0.weight 4.291534423828125e-06\n",
      "\u001b[36m(launch_and_fit pid=402)\u001b[0m features.0.bias 1.430511474609375e-06\n",
      "\u001b[36m(launch_and_fit pid=402)\u001b[0m features.3.weight 9.5367431640625e-07\n",
      "\u001b[36m(launch_and_fit pid=402)\u001b[0m features.3.bias 1.430511474609375e-06\n",
      "\u001b[36m(launch_and_fit pid=402)\u001b[0m classifier.0.weight 1.1920928955078125e-06\n",
      "\u001b[36m(launch_and_fit pid=402)\u001b[0m classifier.0.bias 1.1920928955078125e-06\n",
      "\u001b[36m(launch_and_fit pid=402)\u001b[0m classifier.2.weight 1.430511474609375e-06\n",
      "\u001b[36m(launch_and_fit pid=402)\u001b[0m classifier.2.bias 1.1920928955078125e-06\n",
      "\u001b[36m(launch_and_fit pid=402)\u001b[0m classifier.3.weights 1.430511474609375e-06\n",
      "\u001b[36m(launch_and_fit pid=402)\u001b[0m classifier.4.weight 1.6689300537109375e-06\n",
      "\u001b[36m(launch_and_fit pid=402)\u001b[0m classifier.4.bias 1.1920928955078125e-06\n",
      "\u001b[36m(launch_and_fit pid=495)\u001b[0m Run with homomorphic encryption\n",
      "\u001b[36m(launch_and_fit pid=403)\u001b[0m \tTrain Epoch: 10 \tTrain_loss: 1.1073 | Train_acc: 66.7279 % | Validation_loss: 1.1461 | Validation_acc: 66.1250 %\u001b[32m [repeated 3x across cluster]\u001b[0m\n",
      "\u001b[36m(launch_and_fit pid=403)\u001b[0m save graph in  results/FL/\n",
      "\u001b[36m(launch_and_fit pid=403)\u001b[0m classifier.4.bias 9.5367431640625e-07\u001b[32m [repeated 11x across cluster]\u001b[0m\n",
      "\u001b[36m(launch_and_fit pid=493)\u001b[0m [Client 3, round 1] fit, config: {'learning_rate': 0.003, 'batch_size': '32', 'server_round': 1, 'local_epochs': 10}\n",
      "\u001b[36m(launch_and_fit pid=495)\u001b[0m Updated model\n"
     ]
    },
    {
     "name": "stderr",
     "output_type": "stream",
     "text": [
      "  0%|\u001b[34m          \u001b[0m| 0/10 [00:00<?, ?it/s]\n",
      "100%|\u001b[34m██████████\u001b[0m| 10/10 [00:42<00:00,  4.22s/it]\u001b[32m [repeated 3x across cluster]\u001b[0m\n"
     ]
    },
    {
     "name": "stdout",
     "output_type": "stream",
     "text": [
      "\u001b[36m(launch_and_fit pid=493)\u001b[0m Run with homomorphic encryption\n",
      "\u001b[36m(launch_and_fit pid=495)\u001b[0m \tTrain Epoch: 1 \tTrain_loss: 1.4316 | Train_acc: 26.4706 % | Validation_loss: 1.4242 | Validation_acc: 31.6250 %\n",
      "\u001b[36m(launch_and_fit pid=495)\u001b[0m [Client 0, round 1] fit, config: {'learning_rate': 0.003, 'batch_size': '32', 'server_round': 1, 'local_epochs': 10}\n",
      "\u001b[36m(launch_and_fit pid=493)\u001b[0m \tTrain Epoch: 1 \tTrain_loss: 1.4674 | Train_acc: 24.4485 % | Validation_loss: 1.4584 | Validation_acc: 23.8125 %\n",
      "\u001b[36m(launch_and_fit pid=493)\u001b[0m Updated model\n"
     ]
    },
    {
     "name": "stderr",
     "output_type": "stream",
     "text": [
      "  0%|\u001b[34m          \u001b[0m| 0/10 [00:00<?, ?it/s]\n",
      " 20%|\u001b[34m██        \u001b[0m| 2/10 [00:08<00:34,  4.29s/it]\u001b[32m [repeated 3x across cluster]\u001b[0m\n"
     ]
    },
    {
     "name": "stdout",
     "output_type": "stream",
     "text": [
      "\u001b[36m(launch_and_fit pid=495)\u001b[0m \tTrain Epoch: 3 \tTrain_loss: 1.4433 | Train_acc: 25.0000 % | Validation_loss: 1.4269 | Validation_acc: 24.5000 %\u001b[32m [repeated 3x across cluster]\u001b[0m\n"
     ]
    },
    {
     "name": "stderr",
     "output_type": "stream",
     "text": [
      " 40%|\u001b[34m████      \u001b[0m| 4/10 [00:16<00:24,  4.13s/it]\u001b[32m [repeated 4x across cluster]\u001b[0m\n"
     ]
    },
    {
     "name": "stdout",
     "output_type": "stream",
     "text": [
      "\u001b[36m(launch_and_fit pid=495)\u001b[0m \tTrain Epoch: 5 \tTrain_loss: 1.3986 | Train_acc: 24.6324 % | Validation_loss: 1.4003 | Validation_acc: 31.1875 %\u001b[32m [repeated 4x across cluster]\u001b[0m\n"
     ]
    },
    {
     "name": "stderr",
     "output_type": "stream",
     "text": [
      " 60%|\u001b[34m██████    \u001b[0m| 6/10 [00:24<00:16,  4.03s/it]\u001b[32m [repeated 4x across cluster]\u001b[0m\n"
     ]
    },
    {
     "name": "stdout",
     "output_type": "stream",
     "text": [
      "\u001b[36m(launch_and_fit pid=495)\u001b[0m \tTrain Epoch: 7 \tTrain_loss: 1.3899 | Train_acc: 27.3897 % | Validation_loss: 1.4193 | Validation_acc: 22.9375 %\u001b[32m [repeated 4x across cluster]\u001b[0m\n"
     ]
    },
    {
     "name": "stderr",
     "output_type": "stream",
     "text": [
      " 80%|\u001b[34m████████  \u001b[0m| 8/10 [00:32<00:07,  4.00s/it]\u001b[32m [repeated 4x across cluster]\u001b[0m\n"
     ]
    },
    {
     "name": "stdout",
     "output_type": "stream",
     "text": [
      "\u001b[36m(launch_and_fit pid=495)\u001b[0m \tTrain Epoch: 9 \tTrain_loss: 1.3844 | Train_acc: 31.9853 % | Validation_loss: 1.4101 | Validation_acc: 19.3750 %\u001b[32m [repeated 4x across cluster]\u001b[0m\n",
      "\u001b[36m(launch_and_fit pid=495)\u001b[0m save graph in  results/FL/\n"
     ]
    },
    {
     "name": "stderr",
     "output_type": "stream",
     "text": [
      "100%|\u001b[34m██████████\u001b[0m| 10/10 [00:40<00:00,  4.10s/it]\u001b[32m [repeated 4x across cluster]\u001b[0m\n"
     ]
    },
    {
     "name": "stdout",
     "output_type": "stream",
     "text": [
      "\u001b[36m(launch_and_fit pid=495)\u001b[0m features.0.weight 4.291534423828125e-06\n",
      "\u001b[36m(launch_and_fit pid=495)\u001b[0m features.0.bias 9.5367431640625e-07\n",
      "\u001b[36m(launch_and_fit pid=495)\u001b[0m features.3.weight 9.5367431640625e-07\n",
      "\u001b[36m(launch_and_fit pid=495)\u001b[0m features.3.bias 9.5367431640625e-07\n",
      "\u001b[36m(launch_and_fit pid=495)\u001b[0m classifier.0.weight 9.5367431640625e-07\n",
      "\u001b[36m(launch_and_fit pid=495)\u001b[0m classifier.0.bias 9.5367431640625e-07\n",
      "\u001b[36m(launch_and_fit pid=495)\u001b[0m classifier.2.weight 1.1920928955078125e-06\n",
      "\u001b[36m(launch_and_fit pid=495)\u001b[0m classifier.2.bias 9.5367431640625e-07\n",
      "\u001b[36m(launch_and_fit pid=495)\u001b[0m classifier.3.weights 9.5367431640625e-07\n",
      "\u001b[36m(launch_and_fit pid=495)\u001b[0m classifier.4.weight 9.5367431640625e-07\n",
      "\u001b[36m(launch_and_fit pid=495)\u001b[0m classifier.4.bias 9.5367431640625e-07\n",
      "\u001b[36m(launch_and_fit pid=493)\u001b[0m \tTrain Epoch: 10 \tTrain_loss: 1.1796 | Train_acc: 54.9632 % | Validation_loss: 1.1795 | Validation_acc: 52.5625 %\u001b[32m [repeated 3x across cluster]\u001b[0m\n",
      "\u001b[36m(launch_and_fit pid=577)\u001b[0m Run with homomorphic encryption\n",
      "\u001b[36m(launch_and_fit pid=493)\u001b[0m save graph in  results/FL/\n",
      "\u001b[36m(launch_and_fit pid=493)\u001b[0m classifier.4.bias 1.1920928955078125e-06\u001b[32m [repeated 11x across cluster]\u001b[0m\n",
      "\u001b[36m(launch_and_fit pid=577)\u001b[0m [Client 9, round 1] fit, config: {'learning_rate': 0.003, 'batch_size': '32', 'server_round': 1, 'local_epochs': 10}\n"
     ]
    },
    {
     "name": "stderr",
     "output_type": "stream",
     "text": [
      "  0%|\u001b[34m          \u001b[0m| 0/10 [00:00<?, ?it/s]\n",
      "100%|\u001b[34m██████████\u001b[0m| 10/10 [00:41<00:00,  4.17s/it]\n"
     ]
    },
    {
     "name": "stdout",
     "output_type": "stream",
     "text": [
      "\u001b[36m(launch_and_fit pid=577)\u001b[0m Updated model\n"
     ]
    },
    {
     "name": "stderr",
     "output_type": "stream",
     "text": [
      " 10%|\u001b[34m█         \u001b[0m| 1/10 [00:04<00:41,  4.58s/it]\n"
     ]
    },
    {
     "name": "stdout",
     "output_type": "stream",
     "text": [
      "\u001b[36m(launch_and_fit pid=577)\u001b[0m \tTrain Epoch: 1 \tTrain_loss: 1.4406 | Train_acc: 23.5294 % | Validation_loss: 1.4644 | Validation_acc: 22.9375 %\n",
      "\u001b[36m(launch_and_fit pid=602)\u001b[0m Run with homomorphic encryption\n",
      "\u001b[36m(launch_and_fit pid=602)\u001b[0m [Client 5, round 1] fit, config: {'learning_rate': 0.003, 'batch_size': '32', 'server_round': 1, 'local_epochs': 10}\n"
     ]
    },
    {
     "name": "stderr",
     "output_type": "stream",
     "text": [
      "  0%|\u001b[34m          \u001b[0m| 0/10 [00:00<?, ?it/s]\n"
     ]
    },
    {
     "name": "stdout",
     "output_type": "stream",
     "text": [
      "\u001b[36m(launch_and_fit pid=602)\u001b[0m Updated model\n"
     ]
    },
    {
     "name": "stderr",
     "output_type": "stream",
     "text": [
      " 30%|\u001b[34m███       \u001b[0m| 3/10 [00:12<00:30,  4.29s/it]\u001b[32m [repeated 4x across cluster]\u001b[0m\n"
     ]
    },
    {
     "name": "stdout",
     "output_type": "stream",
     "text": [
      "\u001b[36m(launch_and_fit pid=577)\u001b[0m \tTrain Epoch: 3 \tTrain_loss: 1.4177 | Train_acc: 25.9191 % | Validation_loss: 1.4458 | Validation_acc: 33.1875 %\u001b[32m [repeated 4x across cluster]\u001b[0m\n"
     ]
    },
    {
     "name": "stderr",
     "output_type": "stream",
     "text": [
      " 50%|\u001b[34m█████     \u001b[0m| 5/10 [00:20<00:20,  4.13s/it]\u001b[32m [repeated 4x across cluster]\u001b[0m\n"
     ]
    },
    {
     "name": "stdout",
     "output_type": "stream",
     "text": [
      "\u001b[36m(launch_and_fit pid=577)\u001b[0m \tTrain Epoch: 5 \tTrain_loss: 1.3658 | Train_acc: 28.4926 % | Validation_loss: 1.4353 | Validation_acc: 28.0625 %\u001b[32m [repeated 4x across cluster]\u001b[0m\n"
     ]
    },
    {
     "name": "stderr",
     "output_type": "stream",
     "text": [
      " 70%|\u001b[34m███████   \u001b[0m| 7/10 [00:29<00:12,  4.08s/it]\u001b[32m [repeated 4x across cluster]\u001b[0m\n"
     ]
    },
    {
     "name": "stdout",
     "output_type": "stream",
     "text": [
      "\u001b[36m(launch_and_fit pid=577)\u001b[0m \tTrain Epoch: 7 \tTrain_loss: 1.3944 | Train_acc: 28.3088 % | Validation_loss: 1.3947 | Validation_acc: 28.5000 %\u001b[32m [repeated 4x across cluster]\u001b[0m\n"
     ]
    },
    {
     "name": "stderr",
     "output_type": "stream",
     "text": [
      " 90%|\u001b[34m█████████ \u001b[0m| 9/10 [00:37<00:04,  4.03s/it]\u001b[32m [repeated 4x across cluster]\u001b[0m\n"
     ]
    },
    {
     "name": "stdout",
     "output_type": "stream",
     "text": [
      "\u001b[36m(launch_and_fit pid=577)\u001b[0m \tTrain Epoch: 9 \tTrain_loss: 1.3977 | Train_acc: 24.2647 % | Validation_loss: 1.3868 | Validation_acc: 24.0625 %\u001b[32m [repeated 4x across cluster]\u001b[0m\n",
      "\u001b[36m(launch_and_fit pid=577)\u001b[0m save graph in  results/FL/\n",
      "\u001b[36m(launch_and_fit pid=577)\u001b[0m features.0.weight 6.4373016357421875e-06\n",
      "\u001b[36m(launch_and_fit pid=577)\u001b[0m features.0.bias 2.1457672119140625e-06\n",
      "\u001b[36m(launch_and_fit pid=577)\u001b[0m features.3.weight 1.6689300537109375e-06\n",
      "\u001b[36m(launch_and_fit pid=577)\u001b[0m features.3.bias 1.430511474609375e-06\n",
      "\u001b[36m(launch_and_fit pid=577)\u001b[0m classifier.0.weight 1.6689300537109375e-06\n",
      "\u001b[36m(launch_and_fit pid=577)\u001b[0m classifier.0.bias 1.430511474609375e-06\n",
      "\u001b[36m(launch_and_fit pid=577)\u001b[0m classifier.2.weight 1.6689300537109375e-06\n",
      "\u001b[36m(launch_and_fit pid=577)\u001b[0m classifier.2.bias 1.1920928955078125e-06\n",
      "\u001b[36m(launch_and_fit pid=577)\u001b[0m classifier.3.weights 2.86102294921875e-06\n",
      "\u001b[36m(launch_and_fit pid=577)\u001b[0m classifier.4.weight 2.384185791015625e-06\n",
      "\u001b[36m(launch_and_fit pid=577)\u001b[0m classifier.4.bias 2.384185791015625e-06\n"
     ]
    },
    {
     "name": "stderr",
     "output_type": "stream",
     "text": [
      "100%|\u001b[34m██████████\u001b[0m| 10/10 [00:41<00:00,  4.15s/it]\u001b[32m [repeated 3x across cluster]\u001b[0m\n"
     ]
    },
    {
     "name": "stdout",
     "output_type": "stream",
     "text": [
      "\u001b[36m(launch_and_fit pid=602)\u001b[0m \tTrain Epoch: 10 \tTrain_loss: 1.3934 | Train_acc: 29.5956 % | Validation_loss: 1.3800 | Validation_acc: 23.6250 %\u001b[32m [repeated 3x across cluster]\u001b[0m\n",
      "\u001b[36m(launch_and_fit pid=659)\u001b[0m Run with homomorphic encryption\n",
      "\u001b[36m(launch_and_fit pid=602)\u001b[0m save graph in  results/FL/\n",
      "\u001b[36m(launch_and_fit pid=602)\u001b[0m classifier.4.bias 1.1920928955078125e-06\u001b[32m [repeated 11x across cluster]\u001b[0m\n",
      "\u001b[36m(launch_and_fit pid=659)\u001b[0m [Client 8, round 1] fit, config: {'learning_rate': 0.003, 'batch_size': '32', 'server_round': 1, 'local_epochs': 10}\n",
      "\u001b[36m(launch_and_fit pid=659)\u001b[0m Updated model\n"
     ]
    },
    {
     "name": "stderr",
     "output_type": "stream",
     "text": [
      "  0%|\u001b[34m          \u001b[0m| 0/10 [00:00<?, ?it/s]\n"
     ]
    },
    {
     "name": "stdout",
     "output_type": "stream",
     "text": [
      "\u001b[36m(launch_and_fit pid=659)\u001b[0m \tTrain Epoch: 1 \tTrain_loss: 1.4131 | Train_acc: 29.5956 % | Validation_loss: 1.4572 | Validation_acc: 23.8125 %\n",
      "\u001b[36m(launch_and_fit pid=684)\u001b[0m Run with homomorphic encryption\n",
      "\u001b[36m(launch_and_fit pid=684)\u001b[0m [Client 6, round 1] fit, config: {'learning_rate': 0.003, 'batch_size': '32', 'server_round': 1, 'local_epochs': 10}\n"
     ]
    },
    {
     "name": "stderr",
     "output_type": "stream",
     "text": [
      " 10%|\u001b[34m█         \u001b[0m| 1/10 [00:04<00:41,  4.63s/it]\n",
      "  0%|\u001b[34m          \u001b[0m| 0/10 [00:00<?, ?it/s]\n"
     ]
    },
    {
     "name": "stdout",
     "output_type": "stream",
     "text": [
      "\u001b[36m(launch_and_fit pid=684)\u001b[0m Updated model\n"
     ]
    },
    {
     "name": "stderr",
     "output_type": "stream",
     "text": [
      " 20%|\u001b[34m██        \u001b[0m| 2/10 [00:08<00:34,  4.30s/it]\u001b[32m [repeated 3x across cluster]\u001b[0m\n"
     ]
    },
    {
     "name": "stdout",
     "output_type": "stream",
     "text": [
      "\u001b[36m(launch_and_fit pid=684)\u001b[0m \tTrain Epoch: 2 \tTrain_loss: 1.4045 | Train_acc: 26.6544 % | Validation_loss: 1.3560 | Validation_acc: 32.5000 %\u001b[32m [repeated 3x across cluster]\u001b[0m\n",
      "\u001b[36m(launch_and_fit pid=659)\u001b[0m \tTrain Epoch: 4 \tTrain_loss: 1.3897 | Train_acc: 28.4926 % | Validation_loss: 1.3871 | Validation_acc: 25.3750 %\u001b[32m [repeated 3x across cluster]\u001b[0m\n"
     ]
    },
    {
     "name": "stderr",
     "output_type": "stream",
     "text": [
      " 40%|\u001b[34m████      \u001b[0m| 4/10 [00:16<00:25,  4.17s/it]\u001b[32m [repeated 3x across cluster]\u001b[0m\n",
      " 50%|\u001b[34m█████     \u001b[0m| 5/10 [00:21<00:20,  4.16s/it]\u001b[32m [repeated 3x across cluster]\u001b[0m\n"
     ]
    },
    {
     "name": "stdout",
     "output_type": "stream",
     "text": [
      "\u001b[36m(launch_and_fit pid=684)\u001b[0m \tTrain Epoch: 5 \tTrain_loss: 1.4069 | Train_acc: 28.4926 % | Validation_loss: 1.3423 | Validation_acc: 38.9375 %\u001b[32m [repeated 3x across cluster]\u001b[0m\n",
      "\u001b[36m(launch_and_fit pid=659)\u001b[0m \tTrain Epoch: 7 \tTrain_loss: 1.2183 | Train_acc: 58.6397 % | Validation_loss: 1.2041 | Validation_acc: 64.5625 %\u001b[32m [repeated 3x across cluster]\u001b[0m\n"
     ]
    },
    {
     "name": "stderr",
     "output_type": "stream",
     "text": [
      " 70%|\u001b[34m███████   \u001b[0m| 7/10 [00:29<00:12,  4.12s/it]\u001b[32m [repeated 3x across cluster]\u001b[0m\n",
      " 80%|\u001b[34m████████  \u001b[0m| 8/10 [00:33<00:08,  4.13s/it]\u001b[32m [repeated 3x across cluster]\u001b[0m\n"
     ]
    },
    {
     "name": "stdout",
     "output_type": "stream",
     "text": [
      "\u001b[36m(launch_and_fit pid=684)\u001b[0m \tTrain Epoch: 8 \tTrain_loss: 1.4036 | Train_acc: 28.8603 % | Validation_loss: 1.3768 | Validation_acc: 24.0625 %\u001b[32m [repeated 3x across cluster]\u001b[0m\n",
      "\u001b[36m(launch_and_fit pid=659)\u001b[0m save graph in  results/FL/\n",
      "\u001b[36m(launch_and_fit pid=659)\u001b[0m \tTrain Epoch: 10 \tTrain_loss: 0.9789 | Train_acc: 73.5294 % | Validation_loss: 1.0620 | Validation_acc: 59.2500 %\u001b[32m [repeated 3x across cluster]\u001b[0m\n"
     ]
    },
    {
     "name": "stderr",
     "output_type": "stream",
     "text": [
      "100%|\u001b[34m██████████\u001b[0m| 10/10 [00:41<00:00,  4.15s/it]\u001b[32m [repeated 3x across cluster]\u001b[0m\n"
     ]
    },
    {
     "name": "stdout",
     "output_type": "stream",
     "text": [
      "\u001b[36m(launch_and_fit pid=659)\u001b[0m features.0.weight 4.5299530029296875e-06\n",
      "\u001b[36m(launch_and_fit pid=659)\u001b[0m features.0.bias 1.430511474609375e-06\n",
      "\u001b[36m(launch_and_fit pid=659)\u001b[0m features.3.weight 1.1920928955078125e-06\n",
      "\u001b[36m(launch_and_fit pid=659)\u001b[0m features.3.bias 9.5367431640625e-07\n",
      "\u001b[36m(launch_and_fit pid=659)\u001b[0m classifier.0.weight 9.5367431640625e-07\n",
      "\u001b[36m(launch_and_fit pid=659)\u001b[0m classifier.0.bias 9.5367431640625e-07\n",
      "\u001b[36m(launch_and_fit pid=659)\u001b[0m classifier.2.weight 9.5367431640625e-07\n",
      "\u001b[36m(launch_and_fit pid=659)\u001b[0m classifier.2.bias 9.5367431640625e-07\n",
      "\u001b[36m(launch_and_fit pid=659)\u001b[0m classifier.3.weights 1.1920928955078125e-06\n",
      "\u001b[36m(launch_and_fit pid=659)\u001b[0m classifier.4.weight 9.5367431640625e-07\n",
      "\u001b[36m(launch_and_fit pid=659)\u001b[0m classifier.4.bias 9.5367431640625e-07\n",
      "\u001b[36m(launch_and_fit pid=741)\u001b[0m Run with homomorphic encryption\n",
      "\u001b[36m(launch_and_fit pid=684)\u001b[0m save graph in  results/FL/\n",
      "\u001b[36m(launch_and_fit pid=684)\u001b[0m \tTrain Epoch: 10 \tTrain_loss: 1.3844 | Train_acc: 32.9044 % | Validation_loss: 1.3529 | Validation_acc: 37.1875 %\n",
      "\u001b[36m(launch_and_fit pid=684)\u001b[0m classifier.4.bias 9.5367431640625e-07\u001b[32m [repeated 11x across cluster]\u001b[0m\n",
      "\u001b[36m(launch_and_fit pid=741)\u001b[0m [Client 2, round 1] fit, config: {'learning_rate': 0.003, 'batch_size': '32', 'server_round': 1, 'local_epochs': 10}\n"
     ]
    },
    {
     "name": "stderr",
     "output_type": "stream",
     "text": [
      "  0%|\u001b[34m          \u001b[0m| 0/10 [00:00<?, ?it/s]\n",
      "100%|\u001b[34m██████████\u001b[0m| 10/10 [00:41<00:00,  4.15s/it]\n"
     ]
    },
    {
     "name": "stdout",
     "output_type": "stream",
     "text": [
      "\u001b[36m(launch_and_fit pid=741)\u001b[0m Updated model\n"
     ]
    },
    {
     "name": "stderr",
     "output_type": "stream",
     "text": [
      " 10%|\u001b[34m█         \u001b[0m| 1/10 [00:04<00:41,  4.61s/it]\n"
     ]
    },
    {
     "name": "stdout",
     "output_type": "stream",
     "text": [
      "\u001b[36m(launch_and_fit pid=741)\u001b[0m \tTrain Epoch: 1 \tTrain_loss: 1.4190 | Train_acc: 28.1250 % | Validation_loss: 1.4257 | Validation_acc: 20.0625 %\n",
      "\u001b[36m(launch_and_fit pid=766)\u001b[0m Run with homomorphic encryption\n",
      "\u001b[36m(launch_and_fit pid=766)\u001b[0m [Client 4, round 1] fit, config: {'learning_rate': 0.003, 'batch_size': '32', 'server_round': 1, 'local_epochs': 10}\n"
     ]
    },
    {
     "name": "stderr",
     "output_type": "stream",
     "text": [
      "  0%|\u001b[34m          \u001b[0m| 0/10 [00:00<?, ?it/s]\n"
     ]
    },
    {
     "name": "stdout",
     "output_type": "stream",
     "text": [
      "\u001b[36m(launch_and_fit pid=766)\u001b[0m Updated model\n"
     ]
    },
    {
     "name": "stderr",
     "output_type": "stream",
     "text": [
      " 20%|\u001b[34m██        \u001b[0m| 2/10 [00:08<00:34,  4.35s/it]\u001b[32m [repeated 3x across cluster]\u001b[0m\n"
     ]
    },
    {
     "name": "stdout",
     "output_type": "stream",
     "text": [
      "\u001b[36m(launch_and_fit pid=766)\u001b[0m \tTrain Epoch: 2 \tTrain_loss: 1.4267 | Train_acc: 26.4706 % | Validation_loss: 1.4176 | Validation_acc: 26.5000 %\u001b[32m [repeated 3x across cluster]\u001b[0m\n"
     ]
    },
    {
     "name": "stderr",
     "output_type": "stream",
     "text": [
      " 40%|\u001b[34m████      \u001b[0m| 4/10 [00:16<00:24,  4.15s/it]\u001b[32m [repeated 3x across cluster]\u001b[0m\n"
     ]
    },
    {
     "name": "stdout",
     "output_type": "stream",
     "text": [
      "\u001b[36m(launch_and_fit pid=741)\u001b[0m \tTrain Epoch: 4 \tTrain_loss: 1.3912 | Train_acc: 26.8382 % | Validation_loss: 1.4441 | Validation_acc: 17.6250 %\u001b[32m [repeated 3x across cluster]\u001b[0m\n"
     ]
    },
    {
     "name": "stderr",
     "output_type": "stream",
     "text": [
      " 60%|\u001b[34m██████    \u001b[0m| 6/10 [00:25<00:16,  4.19s/it]\u001b[32m [repeated 4x across cluster]\u001b[0m\n"
     ]
    },
    {
     "name": "stdout",
     "output_type": "stream",
     "text": [
      "\u001b[36m(launch_and_fit pid=741)\u001b[0m \tTrain Epoch: 6 \tTrain_loss: 1.3997 | Train_acc: 29.2279 % | Validation_loss: 1.4247 | Validation_acc: 25.6250 %\u001b[32m [repeated 4x across cluster]\u001b[0m\n"
     ]
    },
    {
     "name": "stderr",
     "output_type": "stream",
     "text": [
      " 80%|\u001b[34m████████  \u001b[0m| 8/10 [00:33<00:08,  4.13s/it]\u001b[32m [repeated 4x across cluster]\u001b[0m\n"
     ]
    },
    {
     "name": "stdout",
     "output_type": "stream",
     "text": [
      "\u001b[36m(launch_and_fit pid=741)\u001b[0m \tTrain Epoch: 8 \tTrain_loss: 1.3909 | Train_acc: 27.9412 % | Validation_loss: 1.4148 | Validation_acc: 32.0625 %\u001b[32m [repeated 4x across cluster]\u001b[0m\n"
     ]
    },
    {
     "name": "stderr",
     "output_type": "stream",
     "text": [
      "100%|\u001b[34m██████████\u001b[0m| 10/10 [00:41<00:00,  4.17s/it]\u001b[32m [repeated 4x across cluster]\u001b[0m\n"
     ]
    },
    {
     "name": "stdout",
     "output_type": "stream",
     "text": [
      "\u001b[36m(launch_and_fit pid=741)\u001b[0m save graph in  results/FL/\n",
      "\u001b[36m(launch_and_fit pid=741)\u001b[0m \tTrain Epoch: 10 \tTrain_loss: 1.3467 | Train_acc: 34.0074 % | Validation_loss: 1.3705 | Validation_acc: 34.7500 %\u001b[32m [repeated 4x across cluster]\u001b[0m\n",
      "\u001b[36m(launch_and_fit pid=741)\u001b[0m features.0.weight 5.245208740234375e-06\n",
      "\u001b[36m(launch_and_fit pid=741)\u001b[0m features.0.bias 1.430511474609375e-06\n",
      "\u001b[36m(launch_and_fit pid=741)\u001b[0m features.3.weight 1.6689300537109375e-06\n",
      "\u001b[36m(launch_and_fit pid=741)\u001b[0m features.3.bias 1.430511474609375e-06\n",
      "\u001b[36m(launch_and_fit pid=741)\u001b[0m classifier.0.weight 1.1920928955078125e-06\n",
      "\u001b[36m(launch_and_fit pid=741)\u001b[0m classifier.0.bias 1.1920928955078125e-06\n",
      "\u001b[36m(launch_and_fit pid=741)\u001b[0m classifier.2.weight 1.430511474609375e-06\n",
      "\u001b[36m(launch_and_fit pid=741)\u001b[0m classifier.2.bias 1.430511474609375e-06\n",
      "\u001b[36m(launch_and_fit pid=741)\u001b[0m classifier.3.weights 1.1920928955078125e-06\n",
      "\u001b[36m(launch_and_fit pid=741)\u001b[0m classifier.4.weight 1.1920928955078125e-06\n",
      "\u001b[36m(launch_and_fit pid=741)\u001b[0m classifier.4.bias 1.430511474609375e-06\n"
     ]
    },
    {
     "name": "stderr",
     "output_type": "stream",
     "text": [
      "DEBUG flwr 2024-07-21 02:33:51,973 | server.py:236 | fit_round 1 received 10 results and 0 failures\n",
      "WARNING flwr 2024-07-21 02:33:53,040 | 3890383987.py:131 | No fit_metrics_aggregation_fn provided\n"
     ]
    },
    {
     "name": "stdout",
     "output_type": "stream",
     "text": [
      "Saving round 1 aggregated_parameters...\n"
     ]
    },
    {
     "name": "stderr",
     "output_type": "stream",
     "text": [
      "DEBUG flwr 2024-07-21 02:33:53,816 | server.py:173 | evaluate_round 1: strategy sampled 10 clients (out of 10)\n"
     ]
    },
    {
     "name": "stdout",
     "output_type": "stream",
     "text": [
      "\u001b[36m(launch_and_evaluate pid=832)\u001b[0m Run with homomorphic encryption\n",
      "\u001b[36m(launch_and_fit pid=766)\u001b[0m save graph in  results/FL/\n",
      "\u001b[36m(launch_and_fit pid=766)\u001b[0m \tTrain Epoch: 10 \tTrain_loss: 1.3951 | Train_acc: 26.8382 % | Validation_loss: 1.3801 | Validation_acc: 26.5000 %\n",
      "\u001b[36m(launch_and_fit pid=766)\u001b[0m classifier.4.bias 1.1920928955078125e-06\u001b[32m [repeated 11x across cluster]\u001b[0m\n",
      "\u001b[36m(launch_and_evaluate pid=832)\u001b[0m [Client 5] evaluate, config: {}\n",
      "\u001b[36m(launch_and_evaluate pid=832)\u001b[0m Updated model\n",
      "\u001b[36m(launch_and_evaluate pid=911)\u001b[0m Run with homomorphic encryption\u001b[32m [repeated 2x across cluster]\u001b[0m\n",
      "\u001b[36m(launch_and_evaluate pid=833)\u001b[0m [Client 6] evaluate, config: {}\n",
      "\u001b[36m(launch_and_evaluate pid=833)\u001b[0m Updated model\n",
      "\u001b[36m(launch_and_evaluate pid=911)\u001b[0m [Client 0] evaluate, config: {}\n",
      "\u001b[36m(launch_and_evaluate pid=913)\u001b[0m Updated model\n",
      "\u001b[36m(launch_and_evaluate pid=990)\u001b[0m Run with homomorphic encryption\u001b[32m [repeated 2x across cluster]\u001b[0m\n",
      "\u001b[36m(launch_and_evaluate pid=913)\u001b[0m [Client 1] evaluate, config: {}\n",
      "\u001b[36m(launch_and_evaluate pid=911)\u001b[0m Updated model\n",
      "\u001b[36m(launch_and_evaluate pid=990)\u001b[0m [Client 8] evaluate, config: {}\n",
      "\u001b[36m(launch_and_evaluate pid=990)\u001b[0m Updated model\n",
      "\u001b[36m(launch_and_evaluate pid=1068)\u001b[0m Run with homomorphic encryption\u001b[32m [repeated 2x across cluster]\u001b[0m\n",
      "\u001b[36m(launch_and_evaluate pid=992)\u001b[0m [Client 3] evaluate, config: {}\n",
      "\u001b[36m(launch_and_evaluate pid=992)\u001b[0m Updated model\n",
      "\u001b[36m(launch_and_evaluate pid=1068)\u001b[0m [Client 2] evaluate, config: {}\n",
      "\u001b[36m(launch_and_evaluate pid=1068)\u001b[0m Updated model\n",
      "\u001b[36m(launch_and_evaluate pid=1146)\u001b[0m Run with homomorphic encryption\u001b[32m [repeated 2x across cluster]\u001b[0m\n",
      "\u001b[36m(launch_and_evaluate pid=1070)\u001b[0m [Client 4] evaluate, config: {}\n",
      "\u001b[36m(launch_and_evaluate pid=1070)\u001b[0m Updated model\n",
      "\u001b[36m(launch_and_evaluate pid=1146)\u001b[0m [Client 9] evaluate, config: {}\n",
      "\u001b[36m(launch_and_evaluate pid=1146)\u001b[0m Updated model\n"
     ]
    },
    {
     "name": "stderr",
     "output_type": "stream",
     "text": [
      "DEBUG flwr 2024-07-21 02:35:11,573 | server.py:187 | evaluate_round 1 received 10 results and 0 failures\n",
      "DEBUG flwr 2024-07-21 02:35:11,574 | server.py:222 | fit_round 2: strategy sampled 10 clients (out of 10)\n"
     ]
    },
    {
     "name": "stdout",
     "output_type": "stream",
     "text": [
      "\u001b[36m(launch_and_fit pid=1233)\u001b[0m Run with homomorphic encryption\u001b[32m [repeated 2x across cluster]\u001b[0m\n",
      "\u001b[36m(launch_and_evaluate pid=1148)\u001b[0m [Client 7] evaluate, config: {}\n",
      "\u001b[36m(launch_and_evaluate pid=1148)\u001b[0m Updated model\n",
      "\u001b[36m(launch_and_fit pid=1233)\u001b[0m [Client 3, round 2] fit, config: {'learning_rate': 0.003, 'batch_size': '32', 'server_round': 2, 'local_epochs': 10}\n",
      "\u001b[36m(launch_and_fit pid=1233)\u001b[0m Updated model\n"
     ]
    },
    {
     "name": "stderr",
     "output_type": "stream",
     "text": [
      "  0%|\u001b[34m          \u001b[0m| 0/10 [00:00<?, ?it/s]\n",
      "100%|\u001b[34m██████████\u001b[0m| 10/10 [00:41<00:00,  4.12s/it]\n"
     ]
    },
    {
     "name": "stdout",
     "output_type": "stream",
     "text": [
      "\u001b[36m(launch_and_fit pid=1233)\u001b[0m \tTrain Epoch: 1 \tTrain_loss: 1.4023 | Train_acc: 27.5735 % | Validation_loss: 1.3835 | Validation_acc: 29.6250 %\n",
      "\u001b[36m(launch_and_fit pid=1234)\u001b[0m Run with homomorphic encryption\n",
      "\u001b[36m(launch_and_fit pid=1234)\u001b[0m [Client 5, round 2] fit, config: {'learning_rate': 0.003, 'batch_size': '32', 'server_round': 2, 'local_epochs': 10}\n"
     ]
    },
    {
     "name": "stderr",
     "output_type": "stream",
     "text": [
      " 10%|\u001b[34m█         \u001b[0m| 1/10 [00:04<00:41,  4.57s/it]\n"
     ]
    },
    {
     "name": "stdout",
     "output_type": "stream",
     "text": [
      "\u001b[36m(launch_and_fit pid=1234)\u001b[0m Updated model\n"
     ]
    },
    {
     "name": "stderr",
     "output_type": "stream",
     "text": [
      "  0%|\u001b[34m          \u001b[0m| 0/10 [00:00<?, ?it/s]\n"
     ]
    },
    {
     "name": "stdout",
     "output_type": "stream",
     "text": [
      "\u001b[36m(launch_and_fit pid=1233)\u001b[0m \tTrain Epoch: 3 \tTrain_loss: 1.2743 | Train_acc: 51.4706 % | Validation_loss: 1.2440 | Validation_acc: 49.4375 %\u001b[32m [repeated 4x across cluster]\u001b[0m\n"
     ]
    },
    {
     "name": "stderr",
     "output_type": "stream",
     "text": [
      " 30%|\u001b[34m███       \u001b[0m| 3/10 [00:12<00:29,  4.22s/it]\u001b[32m [repeated 4x across cluster]\u001b[0m\n"
     ]
    },
    {
     "name": "stdout",
     "output_type": "stream",
     "text": [
      "\u001b[36m(launch_and_fit pid=1233)\u001b[0m \tTrain Epoch: 5 \tTrain_loss: 1.0085 | Train_acc: 71.1397 % | Validation_loss: 0.9969 | Validation_acc: 60.8125 %\u001b[32m [repeated 4x across cluster]\u001b[0m\n"
     ]
    },
    {
     "name": "stderr",
     "output_type": "stream",
     "text": [
      " 50%|\u001b[34m█████     \u001b[0m| 5/10 [00:21<00:21,  4.26s/it]\u001b[32m [repeated 4x across cluster]\u001b[0m\n"
     ]
    },
    {
     "name": "stdout",
     "output_type": "stream",
     "text": [
      "\u001b[36m(launch_and_fit pid=1233)\u001b[0m \tTrain Epoch: 7 \tTrain_loss: 0.7700 | Train_acc: 72.2426 % | Validation_loss: 0.9887 | Validation_acc: 59.6875 %\u001b[32m [repeated 4x across cluster]\u001b[0m\n"
     ]
    },
    {
     "name": "stderr",
     "output_type": "stream",
     "text": [
      " 70%|\u001b[34m███████   \u001b[0m| 7/10 [00:29<00:12,  4.19s/it]\u001b[32m [repeated 4x across cluster]\u001b[0m\n",
      " 90%|\u001b[34m█████████ \u001b[0m| 9/10 [00:37<00:04,  4.07s/it]\u001b[32m [repeated 4x across cluster]\u001b[0m\n"
     ]
    },
    {
     "name": "stdout",
     "output_type": "stream",
     "text": [
      "\u001b[36m(launch_and_fit pid=1234)\u001b[0m \tTrain Epoch: 9 \tTrain_loss: 1.3852 | Train_acc: 27.9412 % | Validation_loss: 1.3734 | Validation_acc: 33.8750 %\u001b[32m [repeated 4x across cluster]\u001b[0m\n",
      "\u001b[36m(launch_and_fit pid=1234)\u001b[0m save graph in  results/FL/\n",
      "\u001b[36m(launch_and_fit pid=1234)\u001b[0m features.0.weight 4.5299530029296875e-06\n",
      "\u001b[36m(launch_and_fit pid=1234)\u001b[0m features.0.bias 1.6689300537109375e-06\n",
      "\u001b[36m(launch_and_fit pid=1234)\u001b[0m features.3.weight 1.430511474609375e-06\n",
      "\u001b[36m(launch_and_fit pid=1234)\u001b[0m features.3.bias 9.5367431640625e-07\n",
      "\u001b[36m(launch_and_fit pid=1234)\u001b[0m classifier.0.weight 1.430511474609375e-06\n",
      "\u001b[36m(launch_and_fit pid=1234)\u001b[0m classifier.0.bias 1.1920928955078125e-06\n",
      "\u001b[36m(launch_and_fit pid=1234)\u001b[0m classifier.2.weight 9.5367431640625e-07\n",
      "\u001b[36m(launch_and_fit pid=1234)\u001b[0m classifier.2.bias 1.430511474609375e-06\n",
      "\u001b[36m(launch_and_fit pid=1234)\u001b[0m classifier.3.weights 1.1920928955078125e-06\n",
      "\u001b[36m(launch_and_fit pid=1234)\u001b[0m classifier.4.weight 9.5367431640625e-07\n",
      "\u001b[36m(launch_and_fit pid=1234)\u001b[0m classifier.4.bias 1.1920928955078125e-06\n",
      "\u001b[36m(launch_and_fit pid=1314)\u001b[0m Run with homomorphic encryption\n",
      "\u001b[36m(launch_and_fit pid=1233)\u001b[0m \tTrain Epoch: 10 \tTrain_loss: 0.5408 | Train_acc: 74.8162 % | Validation_loss: 0.7904 | Validation_acc: 59.2500 %\u001b[32m [repeated 3x across cluster]\u001b[0m\n",
      "\u001b[36m(launch_and_fit pid=1233)\u001b[0m save graph in  results/FL/\n",
      "\u001b[36m(launch_and_fit pid=1233)\u001b[0m classifier.4.bias 9.5367431640625e-07\u001b[32m [repeated 11x across cluster]\u001b[0m\n",
      "\u001b[36m(launch_and_fit pid=1314)\u001b[0m [Client 4, round 2] fit, config: {'learning_rate': 0.003, 'batch_size': '32', 'server_round': 2, 'local_epochs': 10}\n"
     ]
    },
    {
     "name": "stderr",
     "output_type": "stream",
     "text": [
      "  0%|\u001b[34m          \u001b[0m| 0/10 [00:00<?, ?it/s]\n",
      "100%|\u001b[34m██████████\u001b[0m| 10/10 [00:41<00:00,  4.20s/it]\u001b[32m [repeated 3x across cluster]\u001b[0m\n"
     ]
    },
    {
     "name": "stdout",
     "output_type": "stream",
     "text": [
      "\u001b[36m(launch_and_fit pid=1314)\u001b[0m Updated model\n",
      "\u001b[36m(launch_and_fit pid=1316)\u001b[0m Run with homomorphic encryption\n",
      "\u001b[36m(launch_and_fit pid=1314)\u001b[0m \tTrain Epoch: 1 \tTrain_loss: 1.3837 | Train_acc: 28.8603 % | Validation_loss: 1.3883 | Validation_acc: 37.1875 %\n",
      "\u001b[36m(launch_and_fit pid=1316)\u001b[0m [Client 7, round 2] fit, config: {'learning_rate': 0.003, 'batch_size': '32', 'server_round': 2, 'local_epochs': 10}\n",
      "\u001b[36m(launch_and_fit pid=1316)\u001b[0m \tTrain Epoch: 1 \tTrain_loss: 1.4153 | Train_acc: 23.1618 % | Validation_loss: 1.3448 | Validation_acc: 38.7500 %\n"
     ]
    },
    {
     "name": "stderr",
     "output_type": "stream",
     "text": [
      "  0%|\u001b[34m          \u001b[0m| 0/10 [00:00<?, ?it/s]\n",
      " 20%|\u001b[34m██        \u001b[0m| 2/10 [00:08<00:33,  4.21s/it]\u001b[32m [repeated 3x across cluster]\u001b[0m\n"
     ]
    },
    {
     "name": "stdout",
     "output_type": "stream",
     "text": [
      "\u001b[36m(launch_and_fit pid=1316)\u001b[0m Updated model\n",
      "\u001b[36m(launch_and_fit pid=1314)\u001b[0m \tTrain Epoch: 3 \tTrain_loss: 1.3832 | Train_acc: 27.7574 % | Validation_loss: 1.3707 | Validation_acc: 38.5000 %\u001b[32m [repeated 3x across cluster]\u001b[0m\n"
     ]
    },
    {
     "name": "stderr",
     "output_type": "stream",
     "text": [
      " 40%|\u001b[34m████      \u001b[0m| 4/10 [00:16<00:24,  4.03s/it]\u001b[32m [repeated 4x across cluster]\u001b[0m\n"
     ]
    },
    {
     "name": "stdout",
     "output_type": "stream",
     "text": [
      "\u001b[36m(launch_and_fit pid=1314)\u001b[0m \tTrain Epoch: 5 \tTrain_loss: 1.3853 | Train_acc: 26.6544 % | Validation_loss: 1.3467 | Validation_acc: 32.5000 %\u001b[32m [repeated 4x across cluster]\u001b[0m\n"
     ]
    },
    {
     "name": "stderr",
     "output_type": "stream",
     "text": [
      " 60%|\u001b[34m██████    \u001b[0m| 6/10 [00:24<00:16,  4.13s/it]\u001b[32m [repeated 4x across cluster]\u001b[0m\n"
     ]
    },
    {
     "name": "stdout",
     "output_type": "stream",
     "text": [
      "\u001b[36m(launch_and_fit pid=1314)\u001b[0m \tTrain Epoch: 7 \tTrain_loss: 1.3786 | Train_acc: 28.6765 % | Validation_loss: 1.3651 | Validation_acc: 31.3750 %\u001b[32m [repeated 4x across cluster]\u001b[0m\n"
     ]
    },
    {
     "name": "stderr",
     "output_type": "stream",
     "text": [
      " 80%|\u001b[34m████████  \u001b[0m| 8/10 [00:33<00:08,  4.10s/it]\u001b[32m [repeated 4x across cluster]\u001b[0m\n"
     ]
    },
    {
     "name": "stdout",
     "output_type": "stream",
     "text": [
      "\u001b[36m(launch_and_fit pid=1314)\u001b[0m \tTrain Epoch: 9 \tTrain_loss: 1.3858 | Train_acc: 27.7574 % | Validation_loss: 1.3712 | Validation_acc: 33.1875 %\u001b[32m [repeated 4x across cluster]\u001b[0m\n"
     ]
    },
    {
     "name": "stderr",
     "output_type": "stream",
     "text": [
      "100%|\u001b[34m██████████\u001b[0m| 10/10 [00:40<00:00,  4.09s/it]\u001b[32m [repeated 4x across cluster]\u001b[0m\n"
     ]
    },
    {
     "name": "stdout",
     "output_type": "stream",
     "text": [
      "\u001b[36m(launch_and_fit pid=1314)\u001b[0m save graph in  results/FL/\n",
      "\u001b[36m(launch_and_fit pid=1314)\u001b[0m features.0.weight 4.76837158203125e-06\n",
      "\u001b[36m(launch_and_fit pid=1314)\u001b[0m features.0.bias 1.6689300537109375e-06\n",
      "\u001b[36m(launch_and_fit pid=1314)\u001b[0m features.3.weight 1.1920928955078125e-06\n",
      "\u001b[36m(launch_and_fit pid=1314)\u001b[0m features.3.bias 1.1920928955078125e-06\n",
      "\u001b[36m(launch_and_fit pid=1314)\u001b[0m classifier.0.weight 1.1920928955078125e-06\n",
      "\u001b[36m(launch_and_fit pid=1314)\u001b[0m classifier.0.bias 9.5367431640625e-07\n",
      "\u001b[36m(launch_and_fit pid=1314)\u001b[0m classifier.2.weight 1.430511474609375e-06\n",
      "\u001b[36m(launch_and_fit pid=1314)\u001b[0m classifier.2.bias 1.1920928955078125e-06\n",
      "\u001b[36m(launch_and_fit pid=1314)\u001b[0m classifier.3.weights 1.1920928955078125e-06\n",
      "\u001b[36m(launch_and_fit pid=1314)\u001b[0m classifier.4.weight 1.1920928955078125e-06\n",
      "\u001b[36m(launch_and_fit pid=1314)\u001b[0m classifier.4.bias 1.1920928955078125e-06\n",
      "\u001b[36m(launch_and_fit pid=1396)\u001b[0m Run with homomorphic encryption\n",
      "\u001b[36m(launch_and_fit pid=1316)\u001b[0m \tTrain Epoch: 10 \tTrain_loss: 1.0093 | Train_acc: 60.2941 % | Validation_loss: 1.1047 | Validation_acc: 53.0000 %\u001b[32m [repeated 3x across cluster]\u001b[0m\n",
      "\u001b[36m(launch_and_fit pid=1316)\u001b[0m save graph in  results/FL/\n",
      "\u001b[36m(launch_and_fit pid=1316)\u001b[0m classifier.4.bias 1.1920928955078125e-06\u001b[32m [repeated 11x across cluster]\u001b[0m\n",
      "\u001b[36m(launch_and_fit pid=1396)\u001b[0m [Client 2, round 2] fit, config: {'learning_rate': 0.003, 'batch_size': '32', 'server_round': 2, 'local_epochs': 10}\n"
     ]
    },
    {
     "name": "stderr",
     "output_type": "stream",
     "text": [
      "  0%|\u001b[34m          \u001b[0m| 0/10 [00:00<?, ?it/s]\n",
      "100%|\u001b[34m██████████\u001b[0m| 10/10 [00:41<00:00,  4.13s/it]\n"
     ]
    },
    {
     "name": "stdout",
     "output_type": "stream",
     "text": [
      "\u001b[36m(launch_and_fit pid=1396)\u001b[0m Updated model\n"
     ]
    },
    {
     "name": "stderr",
     "output_type": "stream",
     "text": [
      " 10%|\u001b[34m█         \u001b[0m| 1/10 [00:04<00:42,  4.72s/it]\n"
     ]
    },
    {
     "name": "stdout",
     "output_type": "stream",
     "text": [
      "\u001b[36m(launch_and_fit pid=1398)\u001b[0m Run with homomorphic encryption\n",
      "\u001b[36m(launch_and_fit pid=1396)\u001b[0m \tTrain Epoch: 1 \tTrain_loss: 1.3921 | Train_acc: 24.4485 % | Validation_loss: 1.3895 | Validation_acc: 22.5000 %\n",
      "\u001b[36m(launch_and_fit pid=1398)\u001b[0m [Client 0, round 2] fit, config: {'learning_rate': 0.003, 'batch_size': '32', 'server_round': 2, 'local_epochs': 10}\n",
      "\u001b[36m(launch_and_fit pid=1398)\u001b[0m \tTrain Epoch: 1 \tTrain_loss: 1.3720 | Train_acc: 32.5368 % | Validation_loss: 1.4204 | Validation_acc: 25.6250 %\n"
     ]
    },
    {
     "name": "stderr",
     "output_type": "stream",
     "text": [
      "  0%|\u001b[34m          \u001b[0m| 0/10 [00:00<?, ?it/s]\n"
     ]
    },
    {
     "name": "stdout",
     "output_type": "stream",
     "text": [
      "\u001b[36m(launch_and_fit pid=1398)\u001b[0m Updated model\n"
     ]
    },
    {
     "name": "stderr",
     "output_type": "stream",
     "text": [
      " 30%|\u001b[34m███       \u001b[0m| 3/10 [00:13<00:30,  4.32s/it]\u001b[32m [repeated 4x across cluster]\u001b[0m\n"
     ]
    },
    {
     "name": "stdout",
     "output_type": "stream",
     "text": [
      "\u001b[36m(launch_and_fit pid=1396)\u001b[0m \tTrain Epoch: 3 \tTrain_loss: 1.3860 | Train_acc: 27.7574 % | Validation_loss: 1.3877 | Validation_acc: 29.6250 %\u001b[32m [repeated 3x across cluster]\u001b[0m\n"
     ]
    },
    {
     "name": "stderr",
     "output_type": "stream",
     "text": [
      " 50%|\u001b[34m█████     \u001b[0m| 5/10 [00:21<00:20,  4.20s/it]\u001b[32m [repeated 4x across cluster]\u001b[0m\n"
     ]
    },
    {
     "name": "stdout",
     "output_type": "stream",
     "text": [
      "\u001b[36m(launch_and_fit pid=1396)\u001b[0m \tTrain Epoch: 5 \tTrain_loss: 1.3843 | Train_acc: 31.0662 % | Validation_loss: 1.4022 | Validation_acc: 22.0625 %\u001b[32m [repeated 4x across cluster]\u001b[0m\n"
     ]
    },
    {
     "name": "stderr",
     "output_type": "stream",
     "text": [
      " 70%|\u001b[34m███████   \u001b[0m| 7/10 [00:29<00:12,  4.20s/it]\u001b[32m [repeated 4x across cluster]\u001b[0m\n"
     ]
    },
    {
     "name": "stdout",
     "output_type": "stream",
     "text": [
      "\u001b[36m(launch_and_fit pid=1396)\u001b[0m \tTrain Epoch: 7 \tTrain_loss: 1.3932 | Train_acc: 27.2059 % | Validation_loss: 1.3812 | Validation_acc: 27.6250 %\u001b[32m [repeated 4x across cluster]\u001b[0m\n"
     ]
    },
    {
     "name": "stderr",
     "output_type": "stream",
     "text": [
      " 90%|\u001b[34m█████████ \u001b[0m| 9/10 [00:37<00:04,  4.15s/it]\u001b[32m [repeated 4x across cluster]\u001b[0m\n"
     ]
    },
    {
     "name": "stdout",
     "output_type": "stream",
     "text": [
      "\u001b[36m(launch_and_fit pid=1396)\u001b[0m \tTrain Epoch: 9 \tTrain_loss: 1.3639 | Train_acc: 27.7574 % | Validation_loss: 1.3400 | Validation_acc: 38.3125 %\u001b[32m [repeated 4x across cluster]\u001b[0m\n",
      "\u001b[36m(launch_and_fit pid=1396)\u001b[0m save graph in  results/FL/\n",
      "\u001b[36m(launch_and_fit pid=1396)\u001b[0m features.0.weight 5.245208740234375e-06\n",
      "\u001b[36m(launch_and_fit pid=1396)\u001b[0m features.0.bias 1.6689300537109375e-06\n",
      "\u001b[36m(launch_and_fit pid=1396)\u001b[0m features.3.weight 1.1920928955078125e-06\n",
      "\u001b[36m(launch_and_fit pid=1396)\u001b[0m features.3.bias 1.1920928955078125e-06\n",
      "\u001b[36m(launch_and_fit pid=1396)\u001b[0m classifier.0.weight 1.1920928955078125e-06\n",
      "\u001b[36m(launch_and_fit pid=1396)\u001b[0m classifier.0.bias 1.1920928955078125e-06\n",
      "\u001b[36m(launch_and_fit pid=1396)\u001b[0m classifier.2.weight 1.430511474609375e-06\n",
      "\u001b[36m(launch_and_fit pid=1396)\u001b[0m classifier.2.bias 1.1920928955078125e-06\n",
      "\u001b[36m(launch_and_fit pid=1396)\u001b[0m classifier.3.weights 1.6689300537109375e-06\n",
      "\u001b[36m(launch_and_fit pid=1396)\u001b[0m classifier.4.weight 1.1920928955078125e-06\n",
      "\u001b[36m(launch_and_fit pid=1396)\u001b[0m classifier.4.bias 1.1920928955078125e-06\n",
      "\u001b[36m(launch_and_fit pid=1480)\u001b[0m Run with homomorphic encryption\n",
      "\u001b[36m(launch_and_fit pid=1398)\u001b[0m \tTrain Epoch: 10 \tTrain_loss: 1.1142 | Train_acc: 71.6912 % | Validation_loss: 1.0952 | Validation_acc: 65.0625 %\u001b[32m [repeated 3x across cluster]\u001b[0m\n",
      "\u001b[36m(launch_and_fit pid=1398)\u001b[0m save graph in  results/FL/\n",
      "\u001b[36m(launch_and_fit pid=1398)\u001b[0m classifier.4.bias 1.1920928955078125e-06\u001b[32m [repeated 11x across cluster]\u001b[0m\n",
      "\u001b[36m(launch_and_fit pid=1480)\u001b[0m [Client 6, round 2] fit, config: {'learning_rate': 0.003, 'batch_size': '32', 'server_round': 2, 'local_epochs': 10}\n"
     ]
    },
    {
     "name": "stderr",
     "output_type": "stream",
     "text": [
      "  0%|\u001b[34m          \u001b[0m| 0/10 [00:00<?, ?it/s]\n",
      "100%|\u001b[34m██████████\u001b[0m| 10/10 [00:42<00:00,  4.20s/it]\u001b[32m [repeated 3x across cluster]\u001b[0m\n"
     ]
    },
    {
     "name": "stdout",
     "output_type": "stream",
     "text": [
      "\u001b[36m(launch_and_fit pid=1480)\u001b[0m Updated model\n"
     ]
    },
    {
     "name": "stderr",
     "output_type": "stream",
     "text": [
      "  0%|\u001b[34m          \u001b[0m| 0/10 [00:00<?, ?it/s]\n",
      " 10%|\u001b[34m█         \u001b[0m| 1/10 [00:04<00:44,  4.92s/it]\n"
     ]
    },
    {
     "name": "stdout",
     "output_type": "stream",
     "text": [
      "\u001b[36m(launch_and_fit pid=1478)\u001b[0m Run with homomorphic encryption\n",
      "\u001b[36m(launch_and_fit pid=1480)\u001b[0m \tTrain Epoch: 1 \tTrain_loss: 1.4035 | Train_acc: 25.5515 % | Validation_loss: 1.4008 | Validation_acc: 26.5000 %\n",
      "\u001b[36m(launch_and_fit pid=1478)\u001b[0m [Client 8, round 2] fit, config: {'learning_rate': 0.003, 'batch_size': '32', 'server_round': 2, 'local_epochs': 10}\n",
      "\u001b[36m(launch_and_fit pid=1478)\u001b[0m Updated model\n",
      "\u001b[36m(launch_and_fit pid=1478)\u001b[0m \tTrain Epoch: 1 \tTrain_loss: 1.3965 | Train_acc: 25.7353 % | Validation_loss: 1.4045 | Validation_acc: 24.0625 %\n"
     ]
    },
    {
     "name": "stderr",
     "output_type": "stream",
     "text": [
      " 10%|\u001b[34m█         \u001b[0m| 1/10 [00:04<00:44,  4.98s/it]\n",
      " 30%|\u001b[34m███       \u001b[0m| 3/10 [00:13<00:30,  4.30s/it]\u001b[32m [repeated 3x across cluster]\u001b[0m\n"
     ]
    },
    {
     "name": "stdout",
     "output_type": "stream",
     "text": [
      "\u001b[36m(launch_and_fit pid=1480)\u001b[0m \tTrain Epoch: 3 \tTrain_loss: 1.3835 | Train_acc: 29.5956 % | Validation_loss: 1.3786 | Validation_acc: 36.5000 %\u001b[32m [repeated 3x across cluster]\u001b[0m\n"
     ]
    },
    {
     "name": "stderr",
     "output_type": "stream",
     "text": [
      " 50%|\u001b[34m█████     \u001b[0m| 5/10 [00:21<00:20,  4.17s/it]\u001b[32m [repeated 4x across cluster]\u001b[0m\n"
     ]
    },
    {
     "name": "stdout",
     "output_type": "stream",
     "text": [
      "\u001b[36m(launch_and_fit pid=1480)\u001b[0m \tTrain Epoch: 5 \tTrain_loss: 1.3840 | Train_acc: 31.6176 % | Validation_loss: 1.3854 | Validation_acc: 24.5000 %\u001b[32m [repeated 4x across cluster]\u001b[0m\n",
      "\u001b[36m(launch_and_fit pid=1478)\u001b[0m \tTrain Epoch: 7 \tTrain_loss: 0.7608 | Train_acc: 76.2868 % | Validation_loss: 0.8920 | Validation_acc: 63.2500 %\u001b[32m [repeated 4x across cluster]\u001b[0m\n"
     ]
    },
    {
     "name": "stderr",
     "output_type": "stream",
     "text": [
      " 70%|\u001b[34m███████   \u001b[0m| 7/10 [00:29<00:12,  4.09s/it]\u001b[32m [repeated 4x across cluster]\u001b[0m\n"
     ]
    },
    {
     "name": "stdout",
     "output_type": "stream",
     "text": [
      "\u001b[36m(launch_and_fit pid=1478)\u001b[0m \tTrain Epoch: 9 \tTrain_loss: 0.5805 | Train_acc: 78.6765 % | Validation_loss: 0.8442 | Validation_acc: 63.6875 %\u001b[32m [repeated 4x across cluster]\u001b[0m\n"
     ]
    },
    {
     "name": "stderr",
     "output_type": "stream",
     "text": [
      " 90%|\u001b[34m█████████ \u001b[0m| 9/10 [00:37<00:04,  4.11s/it]\u001b[32m [repeated 4x across cluster]\u001b[0m\n"
     ]
    },
    {
     "name": "stdout",
     "output_type": "stream",
     "text": [
      "\u001b[36m(launch_and_fit pid=1478)\u001b[0m save graph in  results/FL/\n",
      "\u001b[36m(launch_and_fit pid=1478)\u001b[0m features.0.weight 2.384185791015625e-05\n",
      "\u001b[36m(launch_and_fit pid=1478)\u001b[0m features.0.bias 2.6226043701171875e-06\n",
      "\u001b[36m(launch_and_fit pid=1478)\u001b[0m features.3.weight 2.6226043701171875e-06\n",
      "\u001b[36m(launch_and_fit pid=1478)\u001b[0m features.3.bias 1.9073486328125e-06\n",
      "\u001b[36m(launch_and_fit pid=1478)\u001b[0m classifier.0.weight 2.1457672119140625e-06\n",
      "\u001b[36m(launch_and_fit pid=1478)\u001b[0m classifier.0.bias 1.6689300537109375e-06\n",
      "\u001b[36m(launch_and_fit pid=1478)\u001b[0m classifier.2.weight 1.430511474609375e-06\n",
      "\u001b[36m(launch_and_fit pid=1478)\u001b[0m classifier.2.bias 2.1457672119140625e-06\n",
      "\u001b[36m(launch_and_fit pid=1478)\u001b[0m classifier.3.weights 1.9073486328125e-06\n",
      "\u001b[36m(launch_and_fit pid=1478)\u001b[0m classifier.4.weight 1.6689300537109375e-06\n",
      "\u001b[36m(launch_and_fit pid=1478)\u001b[0m classifier.4.bias 1.6689300537109375e-06\n",
      "\u001b[36m(launch_and_fit pid=1480)\u001b[0m \tTrain Epoch: 10 \tTrain_loss: 1.3184 | Train_acc: 41.1765 % | Validation_loss: 1.2582 | Validation_acc: 37.8750 %\u001b[32m [repeated 3x across cluster]\u001b[0m\n",
      "\u001b[36m(launch_and_fit pid=1560)\u001b[0m Run with homomorphic encryption\n",
      "\u001b[36m(launch_and_fit pid=1480)\u001b[0m save graph in  results/FL/\n",
      "\u001b[36m(launch_and_fit pid=1480)\u001b[0m classifier.4.bias 9.5367431640625e-07\u001b[32m [repeated 11x across cluster]\u001b[0m\n",
      "\u001b[36m(launch_and_fit pid=1560)\u001b[0m [Client 9, round 2] fit, config: {'learning_rate': 0.003, 'batch_size': '32', 'server_round': 2, 'local_epochs': 10}\n"
     ]
    },
    {
     "name": "stderr",
     "output_type": "stream",
     "text": [
      "  0%|\u001b[34m          \u001b[0m| 0/10 [00:00<?, ?it/s]\n",
      "100%|\u001b[34m██████████\u001b[0m| 10/10 [00:42<00:00,  4.24s/it]\u001b[32m [repeated 3x across cluster]\u001b[0m\n"
     ]
    },
    {
     "name": "stdout",
     "output_type": "stream",
     "text": [
      "\u001b[36m(launch_and_fit pid=1560)\u001b[0m Updated model\n",
      "\u001b[36m(launch_and_fit pid=1560)\u001b[0m \tTrain Epoch: 1 \tTrain_loss: 1.3991 | Train_acc: 27.0221 % | Validation_loss: 1.4072 | Validation_acc: 19.3750 %\n",
      "\u001b[36m(launch_and_fit pid=1585)\u001b[0m Run with homomorphic encryption\n",
      "\u001b[36m(launch_and_fit pid=1585)\u001b[0m [Client 1, round 2] fit, config: {'learning_rate': 0.003, 'batch_size': '32', 'server_round': 2, 'local_epochs': 10}\n",
      "\u001b[36m(launch_and_fit pid=1585)\u001b[0m Updated model\n"
     ]
    },
    {
     "name": "stderr",
     "output_type": "stream",
     "text": [
      "  0%|\u001b[34m          \u001b[0m| 0/10 [00:00<?, ?it/s]\n",
      " 10%|\u001b[34m█         \u001b[0m| 1/10 [00:04<00:42,  4.70s/it]\u001b[32m [repeated 2x across cluster]\u001b[0m\n"
     ]
    },
    {
     "name": "stdout",
     "output_type": "stream",
     "text": [
      "\u001b[36m(launch_and_fit pid=1585)\u001b[0m \tTrain Epoch: 2 \tTrain_loss: 1.3934 | Train_acc: 27.2059 % | Validation_loss: 1.3880 | Validation_acc: 30.7500 %\u001b[32m [repeated 3x across cluster]\u001b[0m\n"
     ]
    },
    {
     "name": "stderr",
     "output_type": "stream",
     "text": [
      " 30%|\u001b[34m███       \u001b[0m| 3/10 [00:13<00:30,  4.35s/it]\u001b[32m [repeated 3x across cluster]\u001b[0m\n"
     ]
    },
    {
     "name": "stdout",
     "output_type": "stream",
     "text": [
      "\u001b[36m(launch_and_fit pid=1560)\u001b[0m \tTrain Epoch: 4 \tTrain_loss: 1.3988 | Train_acc: 21.5074 % | Validation_loss: 1.3951 | Validation_acc: 20.0625 %\u001b[32m [repeated 3x across cluster]\u001b[0m\n"
     ]
    },
    {
     "name": "stderr",
     "output_type": "stream",
     "text": [
      " 50%|\u001b[34m█████     \u001b[0m| 5/10 [00:21<00:20,  4.17s/it]\u001b[32m [repeated 4x across cluster]\u001b[0m\n"
     ]
    },
    {
     "name": "stdout",
     "output_type": "stream",
     "text": [
      "\u001b[36m(launch_and_fit pid=1560)\u001b[0m \tTrain Epoch: 6 \tTrain_loss: 1.3528 | Train_acc: 36.3971 % | Validation_loss: 1.4089 | Validation_acc: 14.9375 %\u001b[32m [repeated 4x across cluster]\u001b[0m\n"
     ]
    },
    {
     "name": "stderr",
     "output_type": "stream",
     "text": [
      " 70%|\u001b[34m███████   \u001b[0m| 7/10 [00:29<00:12,  4.11s/it]\u001b[32m [repeated 4x across cluster]\u001b[0m\n"
     ]
    },
    {
     "name": "stdout",
     "output_type": "stream",
     "text": [
      "\u001b[36m(launch_and_fit pid=1560)\u001b[0m \tTrain Epoch: 8 \tTrain_loss: 1.3418 | Train_acc: 39.7059 % | Validation_loss: 1.3830 | Validation_acc: 24.0625 %\u001b[32m [repeated 4x across cluster]\u001b[0m\n"
     ]
    },
    {
     "name": "stderr",
     "output_type": "stream",
     "text": [
      " 90%|\u001b[34m█████████ \u001b[0m| 9/10 [00:37<00:04,  4.08s/it]\u001b[32m [repeated 4x across cluster]\u001b[0m\n"
     ]
    },
    {
     "name": "stdout",
     "output_type": "stream",
     "text": [
      "\u001b[36m(launch_and_fit pid=1560)\u001b[0m save graph in  results/FL/\n",
      "\u001b[36m(launch_and_fit pid=1560)\u001b[0m \tTrain Epoch: 10 \tTrain_loss: 1.3142 | Train_acc: 40.0735 % | Validation_loss: 1.3205 | Validation_acc: 37.8750 %\u001b[32m [repeated 4x across cluster]\u001b[0m\n",
      "\u001b[36m(launch_and_fit pid=1560)\u001b[0m features.0.weight 5.7220458984375e-06\n",
      "\u001b[36m(launch_and_fit pid=1560)\u001b[0m features.0.bias 1.430511474609375e-06\n",
      "\u001b[36m(launch_and_fit pid=1560)\u001b[0m features.3.weight 9.5367431640625e-07\n",
      "\u001b[36m(launch_and_fit pid=1560)\u001b[0m features.3.bias 9.5367431640625e-07\n",
      "\u001b[36m(launch_and_fit pid=1560)\u001b[0m classifier.0.weight 1.430511474609375e-06\n",
      "\u001b[36m(launch_and_fit pid=1560)\u001b[0m classifier.0.bias 1.1920928955078125e-06\n",
      "\u001b[36m(launch_and_fit pid=1560)\u001b[0m classifier.2.weight 9.5367431640625e-07\n",
      "\u001b[36m(launch_and_fit pid=1560)\u001b[0m classifier.2.bias 1.1920928955078125e-06\n",
      "\u001b[36m(launch_and_fit pid=1560)\u001b[0m classifier.3.weights 1.1920928955078125e-06\n",
      "\u001b[36m(launch_and_fit pid=1560)\u001b[0m classifier.4.weight 9.5367431640625e-07\n",
      "\u001b[36m(launch_and_fit pid=1560)\u001b[0m classifier.4.bias 9.5367431640625e-07\n"
     ]
    },
    {
     "name": "stderr",
     "output_type": "stream",
     "text": [
      "100%|\u001b[34m██████████\u001b[0m| 10/10 [00:42<00:00,  4.21s/it]\u001b[32m [repeated 3x across cluster]\u001b[0m\n",
      "DEBUG flwr 2024-07-21 02:39:57,831 | server.py:236 | fit_round 2 received 10 results and 0 failures\n"
     ]
    },
    {
     "name": "stdout",
     "output_type": "stream",
     "text": [
      "Saving round 2 aggregated_parameters...\n"
     ]
    },
    {
     "name": "stderr",
     "output_type": "stream",
     "text": [
      "DEBUG flwr 2024-07-21 02:39:59,780 | server.py:173 | evaluate_round 2: strategy sampled 10 clients (out of 10)\n"
     ]
    },
    {
     "name": "stdout",
     "output_type": "stream",
     "text": [
      "\u001b[36m(launch_and_evaluate pid=1652)\u001b[0m Run with homomorphic encryption\n",
      "\u001b[36m(launch_and_fit pid=1585)\u001b[0m save graph in  results/FL/\n",
      "\u001b[36m(launch_and_fit pid=1585)\u001b[0m \tTrain Epoch: 10 \tTrain_loss: 1.3908 | Train_acc: 23.8971 % | Validation_loss: 1.3634 | Validation_acc: 33.6250 %\n",
      "\u001b[36m(launch_and_fit pid=1585)\u001b[0m classifier.4.bias 1.6689300537109375e-06\u001b[32m [repeated 11x across cluster]\u001b[0m\n",
      "\u001b[36m(launch_and_evaluate pid=1652)\u001b[0m [Client 6] evaluate, config: {}\n",
      "\u001b[36m(launch_and_evaluate pid=1652)\u001b[0m Updated model\n",
      "\u001b[36m(launch_and_evaluate pid=1731)\u001b[0m Run with homomorphic encryption\u001b[32m [repeated 2x across cluster]\u001b[0m\n",
      "\u001b[36m(launch_and_evaluate pid=1653)\u001b[0m [Client 4] evaluate, config: {}\n",
      "\u001b[36m(launch_and_evaluate pid=1653)\u001b[0m Updated model\n",
      "\u001b[36m(launch_and_evaluate pid=1731)\u001b[0m [Client 8] evaluate, config: {}\n",
      "\u001b[36m(launch_and_evaluate pid=1731)\u001b[0m Updated model\n",
      "\u001b[36m(launch_and_evaluate pid=1809)\u001b[0m Run with homomorphic encryption\u001b[32m [repeated 2x across cluster]\u001b[0m\n",
      "\u001b[36m(launch_and_evaluate pid=1733)\u001b[0m [Client 1] evaluate, config: {}\n",
      "\u001b[36m(launch_and_evaluate pid=1733)\u001b[0m Updated model\n",
      "\u001b[36m(launch_and_evaluate pid=1809)\u001b[0m [Client 0] evaluate, config: {}\n",
      "\u001b[36m(launch_and_evaluate pid=1809)\u001b[0m Updated model\n",
      "\u001b[36m(launch_and_evaluate pid=1889)\u001b[0m Run with homomorphic encryption\u001b[32m [repeated 2x across cluster]\u001b[0m\n",
      "\u001b[36m(launch_and_evaluate pid=1811)\u001b[0m [Client 3] evaluate, config: {}\n",
      "\u001b[36m(launch_and_evaluate pid=1811)\u001b[0m Updated model\n",
      "\u001b[36m(launch_and_evaluate pid=1889)\u001b[0m [Client 7] evaluate, config: {}\n",
      "\u001b[36m(launch_and_evaluate pid=1889)\u001b[0m Updated model\n",
      "\u001b[36m(launch_and_evaluate pid=1965)\u001b[0m Run with homomorphic encryption\u001b[32m [repeated 2x across cluster]\u001b[0m\n",
      "\u001b[36m(launch_and_evaluate pid=1887)\u001b[0m [Client 5] evaluate, config: {}\n",
      "\u001b[36m(launch_and_evaluate pid=1887)\u001b[0m Updated model\n",
      "\u001b[36m(launch_and_evaluate pid=1965)\u001b[0m [Client 2] evaluate, config: {}\n",
      "\u001b[36m(launch_and_evaluate pid=1965)\u001b[0m Updated model\n"
     ]
    },
    {
     "name": "stderr",
     "output_type": "stream",
     "text": [
      "DEBUG flwr 2024-07-21 02:41:18,001 | server.py:187 | evaluate_round 2 received 10 results and 0 failures\n",
      "DEBUG flwr 2024-07-21 02:41:18,002 | server.py:222 | fit_round 3: strategy sampled 10 clients (out of 10)\n"
     ]
    },
    {
     "name": "stdout",
     "output_type": "stream",
     "text": [
      "\u001b[36m(launch_and_fit pid=2053)\u001b[0m Run with homomorphic encryption\u001b[32m [repeated 2x across cluster]\u001b[0m\n",
      "\u001b[36m(launch_and_evaluate pid=1967)\u001b[0m [Client 9] evaluate, config: {}\n",
      "\u001b[36m(launch_and_evaluate pid=1967)\u001b[0m Updated model\n",
      "\u001b[36m(launch_and_fit pid=2053)\u001b[0m [Client 2, round 3] fit, config: {'learning_rate': 0.003, 'batch_size': '32', 'server_round': 3, 'local_epochs': 10}\n"
     ]
    },
    {
     "name": "stderr",
     "output_type": "stream",
     "text": [
      "  0%|\u001b[34m          \u001b[0m| 0/10 [00:00<?, ?it/s]\n"
     ]
    },
    {
     "name": "stdout",
     "output_type": "stream",
     "text": [
      "\u001b[36m(launch_and_fit pid=2053)\u001b[0m Updated model\n"
     ]
    },
    {
     "name": "stderr",
     "output_type": "stream",
     "text": [
      " 10%|\u001b[34m█         \u001b[0m| 1/10 [00:04<00:41,  4.59s/it]\n"
     ]
    },
    {
     "name": "stdout",
     "output_type": "stream",
     "text": [
      "\u001b[36m(launch_and_fit pid=2053)\u001b[0m \tTrain Epoch: 1 \tTrain_loss: 1.4044 | Train_acc: 26.4706 % | Validation_loss: 1.4007 | Validation_acc: 32.3125 %\n",
      "\u001b[36m(launch_and_fit pid=2054)\u001b[0m Run with homomorphic encryption\n",
      "\u001b[36m(launch_and_fit pid=2054)\u001b[0m [Client 8, round 3] fit, config: {'learning_rate': 0.003, 'batch_size': '32', 'server_round': 3, 'local_epochs': 10}\n"
     ]
    },
    {
     "name": "stderr",
     "output_type": "stream",
     "text": [
      "  0%|\u001b[34m          \u001b[0m| 0/10 [00:00<?, ?it/s]\n"
     ]
    },
    {
     "name": "stdout",
     "output_type": "stream",
     "text": [
      "\u001b[36m(launch_and_fit pid=2054)\u001b[0m Updated model\n"
     ]
    },
    {
     "name": "stderr",
     "output_type": "stream",
     "text": [
      " 30%|\u001b[34m███       \u001b[0m| 3/10 [00:12<00:29,  4.20s/it]\u001b[32m [repeated 4x across cluster]\u001b[0m\n"
     ]
    },
    {
     "name": "stdout",
     "output_type": "stream",
     "text": [
      "\u001b[36m(launch_and_fit pid=2053)\u001b[0m \tTrain Epoch: 3 \tTrain_loss: 1.3848 | Train_acc: 29.9632 % | Validation_loss: 1.4152 | Validation_acc: 20.5000 %\u001b[32m [repeated 4x across cluster]\u001b[0m\n"
     ]
    },
    {
     "name": "stderr",
     "output_type": "stream",
     "text": [
      " 50%|\u001b[34m█████     \u001b[0m| 5/10 [00:20<00:20,  4.12s/it]\u001b[32m [repeated 4x across cluster]\u001b[0m\n"
     ]
    },
    {
     "name": "stdout",
     "output_type": "stream",
     "text": [
      "\u001b[36m(launch_and_fit pid=2053)\u001b[0m \tTrain Epoch: 5 \tTrain_loss: 1.4086 | Train_acc: 25.9191 % | Validation_loss: 1.4202 | Validation_acc: 26.0625 %\u001b[32m [repeated 4x across cluster]\u001b[0m\n"
     ]
    },
    {
     "name": "stderr",
     "output_type": "stream",
     "text": [
      " 70%|\u001b[34m███████   \u001b[0m| 7/10 [00:29<00:12,  4.21s/it]\u001b[32m [repeated 4x across cluster]\u001b[0m\n"
     ]
    },
    {
     "name": "stdout",
     "output_type": "stream",
     "text": [
      "\u001b[36m(launch_and_fit pid=2053)\u001b[0m \tTrain Epoch: 7 \tTrain_loss: 1.3870 | Train_acc: 29.4118 % | Validation_loss: 1.4099 | Validation_acc: 29.6250 %\u001b[32m [repeated 4x across cluster]\u001b[0m\n"
     ]
    },
    {
     "name": "stderr",
     "output_type": "stream",
     "text": [
      " 90%|\u001b[34m█████████ \u001b[0m| 9/10 [00:37<00:04,  4.13s/it]\u001b[32m [repeated 4x across cluster]\u001b[0m\n"
     ]
    },
    {
     "name": "stdout",
     "output_type": "stream",
     "text": [
      "\u001b[36m(launch_and_fit pid=2053)\u001b[0m \tTrain Epoch: 9 \tTrain_loss: 1.3964 | Train_acc: 26.1029 % | Validation_loss: 1.3799 | Validation_acc: 22.0625 %\u001b[32m [repeated 4x across cluster]\u001b[0m\n",
      "\u001b[36m(launch_and_fit pid=2053)\u001b[0m save graph in  results/FL/\n",
      "\u001b[36m(launch_and_fit pid=2053)\u001b[0m features.0.weight 5.0067901611328125e-06\n",
      "\u001b[36m(launch_and_fit pid=2053)\u001b[0m features.0.bias 1.1920928955078125e-06\n",
      "\u001b[36m(launch_and_fit pid=2053)\u001b[0m features.3.weight 9.5367431640625e-07\n",
      "\u001b[36m(launch_and_fit pid=2053)\u001b[0m features.3.bias 9.5367431640625e-07\n",
      "\u001b[36m(launch_and_fit pid=2053)\u001b[0m classifier.0.weight 9.5367431640625e-07\n",
      "\u001b[36m(launch_and_fit pid=2053)\u001b[0m classifier.0.bias 9.5367431640625e-07\n",
      "\u001b[36m(launch_and_fit pid=2053)\u001b[0m classifier.2.weight 7.152557373046875e-07\n",
      "\u001b[36m(launch_and_fit pid=2053)\u001b[0m classifier.2.bias 1.1920928955078125e-06\n",
      "\u001b[36m(launch_and_fit pid=2053)\u001b[0m classifier.3.weights 1.1920928955078125e-06\n",
      "\u001b[36m(launch_and_fit pid=2053)\u001b[0m classifier.4.weight 9.5367431640625e-07\n",
      "\u001b[36m(launch_and_fit pid=2053)\u001b[0m classifier.4.bias 9.5367431640625e-07\n",
      "\u001b[36m(launch_and_fit pid=2054)\u001b[0m \tTrain Epoch: 10 \tTrain_loss: 1.3939 | Train_acc: 25.9191 % | Validation_loss: 1.3949 | Validation_acc: 26.9375 %\u001b[32m [repeated 3x across cluster]\u001b[0m\n",
      "\u001b[36m(launch_and_fit pid=2135)\u001b[0m Run with homomorphic encryption\n",
      "\u001b[36m(launch_and_fit pid=2054)\u001b[0m save graph in  results/FL/\n",
      "\u001b[36m(launch_and_fit pid=2054)\u001b[0m classifier.4.bias 1.1920928955078125e-06\u001b[32m [repeated 11x across cluster]\u001b[0m\n",
      "\u001b[36m(launch_and_fit pid=2135)\u001b[0m [Client 9, round 3] fit, config: {'learning_rate': 0.003, 'batch_size': '32', 'server_round': 3, 'local_epochs': 10}\n"
     ]
    },
    {
     "name": "stderr",
     "output_type": "stream",
     "text": [
      "  0%|\u001b[34m          \u001b[0m| 0/10 [00:00<?, ?it/s]\n",
      "100%|\u001b[34m██████████\u001b[0m| 10/10 [00:41<00:00,  4.17s/it]\u001b[32m [repeated 3x across cluster]\u001b[0m\n"
     ]
    },
    {
     "name": "stdout",
     "output_type": "stream",
     "text": [
      "\u001b[36m(launch_and_fit pid=2135)\u001b[0m Updated model\n",
      "\u001b[36m(launch_and_fit pid=2135)\u001b[0m \tTrain Epoch: 1 \tTrain_loss: 1.3847 | Train_acc: 25.5515 % | Validation_loss: 1.3251 | Validation_acc: 37.4375 %\n",
      "\u001b[36m(launch_and_fit pid=2137)\u001b[0m Run with homomorphic encryption\n",
      "\u001b[36m(launch_and_fit pid=2137)\u001b[0m [Client 3, round 3] fit, config: {'learning_rate': 0.003, 'batch_size': '32', 'server_round': 3, 'local_epochs': 10}\n"
     ]
    },
    {
     "name": "stderr",
     "output_type": "stream",
     "text": [
      "  0%|\u001b[34m          \u001b[0m| 0/10 [00:00<?, ?it/s]\n",
      " 20%|\u001b[34m██        \u001b[0m| 2/10 [00:08<00:34,  4.34s/it]\u001b[32m [repeated 3x across cluster]\u001b[0m\n"
     ]
    },
    {
     "name": "stdout",
     "output_type": "stream",
     "text": [
      "\u001b[36m(launch_and_fit pid=2137)\u001b[0m Updated model\n",
      "\u001b[36m(launch_and_fit pid=2135)\u001b[0m \tTrain Epoch: 3 \tTrain_loss: 1.3305 | Train_acc: 39.8897 % | Validation_loss: 1.3160 | Validation_acc: 43.4375 %\u001b[32m [repeated 4x across cluster]\u001b[0m\n"
     ]
    },
    {
     "name": "stderr",
     "output_type": "stream",
     "text": [
      " 40%|\u001b[34m████      \u001b[0m| 4/10 [00:16<00:24,  4.16s/it]\u001b[32m [repeated 4x across cluster]\u001b[0m\n"
     ]
    },
    {
     "name": "stdout",
     "output_type": "stream",
     "text": [
      "\u001b[36m(launch_and_fit pid=2135)\u001b[0m \tTrain Epoch: 5 \tTrain_loss: 1.3455 | Train_acc: 31.6176 % | Validation_loss: 1.3380 | Validation_acc: 32.7500 %\u001b[32m [repeated 4x across cluster]\u001b[0m\n"
     ]
    },
    {
     "name": "stderr",
     "output_type": "stream",
     "text": [
      " 60%|\u001b[34m██████    \u001b[0m| 6/10 [00:25<00:16,  4.13s/it]\u001b[32m [repeated 4x across cluster]\u001b[0m\n"
     ]
    },
    {
     "name": "stdout",
     "output_type": "stream",
     "text": [
      "\u001b[36m(launch_and_fit pid=2135)\u001b[0m \tTrain Epoch: 7 \tTrain_loss: 1.3665 | Train_acc: 29.0441 % | Validation_loss: 1.3635 | Validation_acc: 26.0625 %\u001b[32m [repeated 4x across cluster]\u001b[0m\n"
     ]
    },
    {
     "name": "stderr",
     "output_type": "stream",
     "text": [
      " 80%|\u001b[34m████████  \u001b[0m| 8/10 [00:33<00:08,  4.12s/it]\u001b[32m [repeated 4x across cluster]\u001b[0m\n"
     ]
    },
    {
     "name": "stdout",
     "output_type": "stream",
     "text": [
      "\u001b[36m(launch_and_fit pid=2135)\u001b[0m \tTrain Epoch: 9 \tTrain_loss: 1.3088 | Train_acc: 38.6029 % | Validation_loss: 1.2728 | Validation_acc: 43.0000 %\u001b[32m [repeated 4x across cluster]\u001b[0m\n"
     ]
    },
    {
     "name": "stderr",
     "output_type": "stream",
     "text": [
      "100%|\u001b[34m██████████\u001b[0m| 10/10 [00:42<00:00,  4.20s/it]\u001b[32m [repeated 4x across cluster]\u001b[0m\n"
     ]
    },
    {
     "name": "stdout",
     "output_type": "stream",
     "text": [
      "\u001b[36m(launch_and_fit pid=2135)\u001b[0m save graph in  results/FL/\n",
      "\u001b[36m(launch_and_fit pid=2135)\u001b[0m features.0.weight 5.245208740234375e-06\n",
      "\u001b[36m(launch_and_fit pid=2135)\u001b[0m features.0.bias 1.6689300537109375e-06\n",
      "\u001b[36m(launch_and_fit pid=2135)\u001b[0m features.3.weight 9.5367431640625e-07\n",
      "\u001b[36m(launch_and_fit pid=2135)\u001b[0m features.3.bias 1.6689300537109375e-06\n",
      "\u001b[36m(launch_and_fit pid=2135)\u001b[0m classifier.0.weight 1.1920928955078125e-06\n",
      "\u001b[36m(launch_and_fit pid=2135)\u001b[0m classifier.0.bias 1.430511474609375e-06\n",
      "\u001b[36m(launch_and_fit pid=2135)\u001b[0m classifier.2.weight 1.1920928955078125e-06\n",
      "\u001b[36m(launch_and_fit pid=2135)\u001b[0m classifier.2.bias 1.1920928955078125e-06\n",
      "\u001b[36m(launch_and_fit pid=2135)\u001b[0m classifier.3.weights 1.6689300537109375e-06\n",
      "\u001b[36m(launch_and_fit pid=2135)\u001b[0m classifier.4.weight 1.430511474609375e-06\n",
      "\u001b[36m(launch_and_fit pid=2135)\u001b[0m classifier.4.bias 1.1920928955078125e-06\n",
      "\u001b[36m(launch_and_fit pid=2137)\u001b[0m \tTrain Epoch: 10 \tTrain_loss: 1.4442 | Train_acc: 22.9779 % | Validation_loss: 1.3810 | Validation_acc: 38.3125 %\u001b[32m [repeated 3x across cluster]\u001b[0m\n",
      "\u001b[36m(launch_and_fit pid=2219)\u001b[0m Run with homomorphic encryption\n",
      "\u001b[36m(launch_and_fit pid=2137)\u001b[0m save graph in  results/FL/\n",
      "\u001b[36m(launch_and_fit pid=2137)\u001b[0m classifier.4.bias 1.1920928955078125e-06\u001b[32m [repeated 11x across cluster]\u001b[0m\n",
      "\u001b[36m(launch_and_fit pid=2219)\u001b[0m [Client 5, round 3] fit, config: {'learning_rate': 0.003, 'batch_size': '32', 'server_round': 3, 'local_epochs': 10}\n"
     ]
    },
    {
     "name": "stderr",
     "output_type": "stream",
     "text": [
      "  0%|\u001b[34m          \u001b[0m| 0/10 [00:00<?, ?it/s]\n",
      "100%|\u001b[34m██████████\u001b[0m| 10/10 [00:42<00:00,  4.22s/it]\n"
     ]
    },
    {
     "name": "stdout",
     "output_type": "stream",
     "text": [
      "\u001b[36m(launch_and_fit pid=2219)\u001b[0m Updated model\n",
      "\u001b[36m(launch_and_fit pid=2217)\u001b[0m \tTrain Epoch: 1 \tTrain_loss: 1.3736 | Train_acc: 33.4559 % | Validation_loss: 1.3568 | Validation_acc: 19.6250 %\n",
      "\u001b[36m(launch_and_fit pid=2217)\u001b[0m Run with homomorphic encryption\n",
      "\u001b[36m(launch_and_fit pid=2217)\u001b[0m [Client 0, round 3] fit, config: {'learning_rate': 0.003, 'batch_size': '32', 'server_round': 3, 'local_epochs': 10}\n"
     ]
    },
    {
     "name": "stderr",
     "output_type": "stream",
     "text": [
      " 10%|\u001b[34m█         \u001b[0m| 1/10 [00:04<00:40,  4.52s/it]\n",
      "  0%|\u001b[34m          \u001b[0m| 0/10 [00:00<?, ?it/s]\n"
     ]
    },
    {
     "name": "stdout",
     "output_type": "stream",
     "text": [
      "\u001b[36m(launch_and_fit pid=2217)\u001b[0m Updated model\n"
     ]
    },
    {
     "name": "stderr",
     "output_type": "stream",
     "text": [
      " 30%|\u001b[34m███       \u001b[0m| 3/10 [00:13<00:30,  4.29s/it]\u001b[32m [repeated 4x across cluster]\u001b[0m\n"
     ]
    },
    {
     "name": "stdout",
     "output_type": "stream",
     "text": [
      "\u001b[36m(launch_and_fit pid=2219)\u001b[0m \tTrain Epoch: 3 \tTrain_loss: 1.3133 | Train_acc: 36.3971 % | Validation_loss: 1.3262 | Validation_acc: 33.1875 %\u001b[32m [repeated 4x across cluster]\u001b[0m\n"
     ]
    },
    {
     "name": "stderr",
     "output_type": "stream",
     "text": [
      " 50%|\u001b[34m█████     \u001b[0m| 5/10 [00:21<00:21,  4.20s/it]\u001b[32m [repeated 4x across cluster]\u001b[0m\n"
     ]
    },
    {
     "name": "stdout",
     "output_type": "stream",
     "text": [
      "\u001b[36m(launch_and_fit pid=2219)\u001b[0m \tTrain Epoch: 5 \tTrain_loss: 1.1349 | Train_acc: 63.7868 % | Validation_loss: 1.1315 | Validation_acc: 59.2500 %\u001b[32m [repeated 4x across cluster]\u001b[0m\n"
     ]
    },
    {
     "name": "stderr",
     "output_type": "stream",
     "text": [
      " 70%|\u001b[34m███████   \u001b[0m| 7/10 [00:29<00:12,  4.17s/it]\u001b[32m [repeated 4x across cluster]\u001b[0m\n"
     ]
    },
    {
     "name": "stdout",
     "output_type": "stream",
     "text": [
      "\u001b[36m(launch_and_fit pid=2219)\u001b[0m \tTrain Epoch: 7 \tTrain_loss: 0.9359 | Train_acc: 71.8750 % | Validation_loss: 0.9879 | Validation_acc: 62.8125 %\u001b[32m [repeated 4x across cluster]\u001b[0m\n"
     ]
    },
    {
     "name": "stderr",
     "output_type": "stream",
     "text": [
      " 90%|\u001b[34m█████████ \u001b[0m| 9/10 [00:37<00:04,  4.11s/it]\u001b[32m [repeated 4x across cluster]\u001b[0m\n"
     ]
    },
    {
     "name": "stdout",
     "output_type": "stream",
     "text": [
      "\u001b[36m(launch_and_fit pid=2219)\u001b[0m \tTrain Epoch: 9 \tTrain_loss: 0.8244 | Train_acc: 69.3015 % | Validation_loss: 1.1586 | Validation_acc: 47.4375 %\u001b[32m [repeated 4x across cluster]\u001b[0m\n",
      "\u001b[36m(launch_and_fit pid=2219)\u001b[0m save graph in  results/FL/\n",
      "\u001b[36m(launch_and_fit pid=2219)\u001b[0m features.0.weight 5.0067901611328125e-06\n",
      "\u001b[36m(launch_and_fit pid=2219)\u001b[0m features.0.bias 1.1920928955078125e-06\n",
      "\u001b[36m(launch_and_fit pid=2219)\u001b[0m features.3.weight 1.1920928955078125e-06\n",
      "\u001b[36m(launch_and_fit pid=2219)\u001b[0m features.3.bias 1.1920928955078125e-06\n",
      "\u001b[36m(launch_and_fit pid=2219)\u001b[0m classifier.0.weight 1.430511474609375e-06\n",
      "\u001b[36m(launch_and_fit pid=2219)\u001b[0m classifier.0.bias 9.5367431640625e-07\n",
      "\u001b[36m(launch_and_fit pid=2219)\u001b[0m classifier.2.weight 1.430511474609375e-06\n",
      "\u001b[36m(launch_and_fit pid=2219)\u001b[0m classifier.2.bias 9.5367431640625e-07\n",
      "\u001b[36m(launch_and_fit pid=2219)\u001b[0m classifier.3.weights 1.1920928955078125e-06\n",
      "\u001b[36m(launch_and_fit pid=2219)\u001b[0m classifier.4.weight 1.1920928955078125e-06\n",
      "\u001b[36m(launch_and_fit pid=2219)\u001b[0m classifier.4.bias 1.1920928955078125e-06\n",
      "\u001b[36m(launch_and_fit pid=2217)\u001b[0m \tTrain Epoch: 10 \tTrain_loss: 0.5021 | Train_acc: 76.6544 % | Validation_loss: 0.6396 | Validation_acc: 74.1875 %\u001b[32m [repeated 3x across cluster]\u001b[0m\n",
      "\u001b[36m(launch_and_fit pid=2299)\u001b[0m Run with homomorphic encryption\n",
      "\u001b[36m(launch_and_fit pid=2217)\u001b[0m save graph in  results/FL/\n",
      "\u001b[36m(launch_and_fit pid=2217)\u001b[0m classifier.4.bias 1.430511474609375e-06\u001b[32m [repeated 11x across cluster]\u001b[0m\n",
      "\u001b[36m(launch_and_fit pid=2299)\u001b[0m [Client 6, round 3] fit, config: {'learning_rate': 0.003, 'batch_size': '32', 'server_round': 3, 'local_epochs': 10}\n"
     ]
    },
    {
     "name": "stderr",
     "output_type": "stream",
     "text": [
      "  0%|\u001b[34m          \u001b[0m| 0/10 [00:00<?, ?it/s]\n",
      "100%|\u001b[34m██████████\u001b[0m| 10/10 [00:42<00:00,  4.23s/it]\u001b[32m [repeated 3x across cluster]\u001b[0m\n"
     ]
    },
    {
     "name": "stdout",
     "output_type": "stream",
     "text": [
      "\u001b[36m(launch_and_fit pid=2299)\u001b[0m Updated model\n",
      "\u001b[36m(launch_and_fit pid=2299)\u001b[0m \tTrain Epoch: 1 \tTrain_loss: 1.3660 | Train_acc: 33.4559 % | Validation_loss: 1.2725 | Validation_acc: 59.6875 %\n",
      "\u001b[36m(launch_and_fit pid=2301)\u001b[0m Run with homomorphic encryption\n",
      "\u001b[36m(launch_and_fit pid=2301)\u001b[0m [Client 7, round 3] fit, config: {'learning_rate': 0.003, 'batch_size': '32', 'server_round': 3, 'local_epochs': 10}\n"
     ]
    },
    {
     "name": "stderr",
     "output_type": "stream",
     "text": [
      "  0%|\u001b[34m          \u001b[0m| 0/10 [00:00<?, ?it/s]\n",
      " 20%|\u001b[34m██        \u001b[0m| 2/10 [00:08<00:34,  4.28s/it]\u001b[32m [repeated 3x across cluster]\u001b[0m\n"
     ]
    },
    {
     "name": "stdout",
     "output_type": "stream",
     "text": [
      "\u001b[36m(launch_and_fit pid=2301)\u001b[0m Updated model\n",
      "\u001b[36m(launch_and_fit pid=2299)\u001b[0m \tTrain Epoch: 3 \tTrain_loss: 1.2153 | Train_acc: 58.6397 % | Validation_loss: 1.2544 | Validation_acc: 51.0000 %\u001b[32m [repeated 4x across cluster]\u001b[0m\n"
     ]
    },
    {
     "name": "stderr",
     "output_type": "stream",
     "text": [
      " 40%|\u001b[34m████      \u001b[0m| 4/10 [00:17<00:25,  4.31s/it]\u001b[32m [repeated 4x across cluster]\u001b[0m\n"
     ]
    },
    {
     "name": "stdout",
     "output_type": "stream",
     "text": [
      "\u001b[36m(launch_and_fit pid=2299)\u001b[0m \tTrain Epoch: 5 \tTrain_loss: 0.9941 | Train_acc: 66.7279 % | Validation_loss: 0.9921 | Validation_acc: 70.3750 %\u001b[32m [repeated 4x across cluster]\u001b[0m\n"
     ]
    },
    {
     "name": "stderr",
     "output_type": "stream",
     "text": [
      " 60%|\u001b[34m██████    \u001b[0m| 6/10 [00:25<00:16,  4.16s/it]\u001b[32m [repeated 4x across cluster]\u001b[0m\n"
     ]
    },
    {
     "name": "stdout",
     "output_type": "stream",
     "text": [
      "\u001b[36m(launch_and_fit pid=2301)\u001b[0m \tTrain Epoch: 7 \tTrain_loss: 1.4022 | Train_acc: 24.8162 % | Validation_loss: 1.4010 | Validation_acc: 19.3750 %\u001b[32m [repeated 4x across cluster]\u001b[0m\n"
     ]
    },
    {
     "name": "stderr",
     "output_type": "stream",
     "text": [
      " 80%|\u001b[34m████████  \u001b[0m| 8/10 [00:33<00:08,  4.12s/it]\u001b[32m [repeated 4x across cluster]\u001b[0m\n"
     ]
    },
    {
     "name": "stdout",
     "output_type": "stream",
     "text": [
      "\u001b[36m(launch_and_fit pid=2301)\u001b[0m \tTrain Epoch: 9 \tTrain_loss: 1.3733 | Train_acc: 33.0882 % | Validation_loss: 1.3926 | Validation_acc: 24.9375 %\u001b[32m [repeated 4x across cluster]\u001b[0m\n",
      "\u001b[36m(launch_and_fit pid=2301)\u001b[0m save graph in  results/FL/\n"
     ]
    },
    {
     "name": "stderr",
     "output_type": "stream",
     "text": [
      "100%|\u001b[34m██████████\u001b[0m| 10/10 [00:41<00:00,  4.17s/it]\u001b[32m [repeated 4x across cluster]\u001b[0m\n"
     ]
    },
    {
     "name": "stdout",
     "output_type": "stream",
     "text": [
      "\u001b[36m(launch_and_fit pid=2301)\u001b[0m features.0.weight 5.7220458984375e-06\n",
      "\u001b[36m(launch_and_fit pid=2301)\u001b[0m features.0.bias 1.6689300537109375e-06\n",
      "\u001b[36m(launch_and_fit pid=2301)\u001b[0m features.3.weight 9.5367431640625e-07\n",
      "\u001b[36m(launch_and_fit pid=2301)\u001b[0m features.3.bias 1.1920928955078125e-06\n",
      "\u001b[36m(launch_and_fit pid=2301)\u001b[0m classifier.0.weight 1.1920928955078125e-06\n",
      "\u001b[36m(launch_and_fit pid=2301)\u001b[0m classifier.0.bias 1.1920928955078125e-06\n",
      "\u001b[36m(launch_and_fit pid=2301)\u001b[0m classifier.2.weight 1.1920928955078125e-06\n",
      "\u001b[36m(launch_and_fit pid=2301)\u001b[0m classifier.2.bias 9.5367431640625e-07\n",
      "\u001b[36m(launch_and_fit pid=2301)\u001b[0m classifier.3.weights 1.1920928955078125e-06\n",
      "\u001b[36m(launch_and_fit pid=2301)\u001b[0m classifier.4.weight 1.430511474609375e-06\n",
      "\u001b[36m(launch_and_fit pid=2301)\u001b[0m classifier.4.bias 1.1920928955078125e-06\n",
      "\u001b[36m(launch_and_fit pid=2299)\u001b[0m \tTrain Epoch: 10 \tTrain_loss: 0.4763 | Train_acc: 78.8603 % | Validation_loss: 0.5837 | Validation_acc: 76.3750 %\u001b[32m [repeated 3x across cluster]\u001b[0m\n",
      "\u001b[36m(launch_and_fit pid=2381)\u001b[0m Run with homomorphic encryption\n",
      "\u001b[36m(launch_and_fit pid=2299)\u001b[0m save graph in  results/FL/\n",
      "\u001b[36m(launch_and_fit pid=2299)\u001b[0m classifier.4.bias 9.5367431640625e-07\u001b[32m [repeated 11x across cluster]\u001b[0m\n",
      "\u001b[36m(launch_and_fit pid=2381)\u001b[0m [Client 1, round 3] fit, config: {'learning_rate': 0.003, 'batch_size': '32', 'server_round': 3, 'local_epochs': 10}\n"
     ]
    },
    {
     "name": "stderr",
     "output_type": "stream",
     "text": [
      "  0%|\u001b[34m          \u001b[0m| 0/10 [00:00<?, ?it/s]\n",
      "100%|\u001b[34m██████████\u001b[0m| 10/10 [00:41<00:00,  4.20s/it]\n"
     ]
    },
    {
     "name": "stdout",
     "output_type": "stream",
     "text": [
      "\u001b[36m(launch_and_fit pid=2381)\u001b[0m Updated model\n"
     ]
    },
    {
     "name": "stderr",
     "output_type": "stream",
     "text": [
      " 10%|\u001b[34m█         \u001b[0m| 1/10 [00:04<00:41,  4.61s/it]\n"
     ]
    },
    {
     "name": "stdout",
     "output_type": "stream",
     "text": [
      "\u001b[36m(launch_and_fit pid=2381)\u001b[0m \tTrain Epoch: 1 \tTrain_loss: 1.4055 | Train_acc: 26.8382 % | Validation_loss: 1.4410 | Validation_acc: 23.6250 %\n",
      "\u001b[36m(launch_and_fit pid=2383)\u001b[0m Run with homomorphic encryption\n",
      "\u001b[36m(launch_and_fit pid=2383)\u001b[0m [Client 4, round 3] fit, config: {'learning_rate': 0.003, 'batch_size': '32', 'server_round': 3, 'local_epochs': 10}\n"
     ]
    },
    {
     "name": "stderr",
     "output_type": "stream",
     "text": [
      "  0%|\u001b[34m          \u001b[0m| 0/10 [00:00<?, ?it/s]\n"
     ]
    },
    {
     "name": "stdout",
     "output_type": "stream",
     "text": [
      "\u001b[36m(launch_and_fit pid=2383)\u001b[0m Updated model\n"
     ]
    },
    {
     "name": "stderr",
     "output_type": "stream",
     "text": [
      " 30%|\u001b[34m███       \u001b[0m| 3/10 [00:12<00:29,  4.20s/it]\u001b[32m [repeated 4x across cluster]\u001b[0m\n"
     ]
    },
    {
     "name": "stdout",
     "output_type": "stream",
     "text": [
      "\u001b[36m(launch_and_fit pid=2381)\u001b[0m \tTrain Epoch: 3 \tTrain_loss: 1.3636 | Train_acc: 30.8824 % | Validation_loss: 1.3196 | Validation_acc: 47.8750 %\u001b[32m [repeated 4x across cluster]\u001b[0m\n"
     ]
    },
    {
     "name": "stderr",
     "output_type": "stream",
     "text": [
      " 50%|\u001b[34m█████     \u001b[0m| 5/10 [00:21<00:20,  4.17s/it]\u001b[32m [repeated 4x across cluster]\u001b[0m\n"
     ]
    },
    {
     "name": "stdout",
     "output_type": "stream",
     "text": [
      "\u001b[36m(launch_and_fit pid=2383)\u001b[0m \tTrain Epoch: 5 \tTrain_loss: 0.9171 | Train_acc: 70.0368 % | Validation_loss: 0.7891 | Validation_acc: 74.8125 %\u001b[32m [repeated 4x across cluster]\u001b[0m\n"
     ]
    },
    {
     "name": "stderr",
     "output_type": "stream",
     "text": [
      " 70%|\u001b[34m███████   \u001b[0m| 7/10 [00:29<00:12,  4.09s/it]\u001b[32m [repeated 4x across cluster]\u001b[0m\n"
     ]
    },
    {
     "name": "stdout",
     "output_type": "stream",
     "text": [
      "\u001b[36m(launch_and_fit pid=2383)\u001b[0m \tTrain Epoch: 7 \tTrain_loss: 0.7568 | Train_acc: 72.9779 % | Validation_loss: 0.7585 | Validation_acc: 75.9375 %\u001b[32m [repeated 4x across cluster]\u001b[0m\n"
     ]
    },
    {
     "name": "stderr",
     "output_type": "stream",
     "text": [
      " 90%|\u001b[34m█████████ \u001b[0m| 9/10 [00:37<00:04,  4.06s/it]\u001b[32m [repeated 4x across cluster]\u001b[0m\n"
     ]
    },
    {
     "name": "stdout",
     "output_type": "stream",
     "text": [
      "\u001b[36m(launch_and_fit pid=2383)\u001b[0m \tTrain Epoch: 9 \tTrain_loss: 0.5531 | Train_acc: 79.2279 % | Validation_loss: 0.6112 | Validation_acc: 76.3750 %\u001b[32m [repeated 4x across cluster]\u001b[0m\n",
      "\u001b[36m(launch_and_fit pid=2383)\u001b[0m save graph in  results/FL/\n",
      "\u001b[36m(launch_and_fit pid=2383)\u001b[0m features.0.weight 5.245208740234375e-06\n",
      "\u001b[36m(launch_and_fit pid=2383)\u001b[0m features.0.bias 1.430511474609375e-06\n",
      "\u001b[36m(launch_and_fit pid=2383)\u001b[0m features.3.weight 1.1920928955078125e-06\n",
      "\u001b[36m(launch_and_fit pid=2383)\u001b[0m features.3.bias 9.5367431640625e-07\n",
      "\u001b[36m(launch_and_fit pid=2383)\u001b[0m classifier.0.weight 1.1920928955078125e-06\n",
      "\u001b[36m(launch_and_fit pid=2383)\u001b[0m classifier.0.bias 1.1920928955078125e-06\n",
      "\u001b[36m(launch_and_fit pid=2383)\u001b[0m classifier.2.weight 1.1920928955078125e-06\n",
      "\u001b[36m(launch_and_fit pid=2383)\u001b[0m classifier.2.bias 1.430511474609375e-06\n",
      "\u001b[36m(launch_and_fit pid=2383)\u001b[0m classifier.3.weights 1.430511474609375e-06\n",
      "\u001b[36m(launch_and_fit pid=2383)\u001b[0m classifier.4.weight 1.1920928955078125e-06\n",
      "\u001b[36m(launch_and_fit pid=2383)\u001b[0m classifier.4.bias 1.1920928955078125e-06\n",
      "\u001b[36m(launch_and_fit pid=2381)\u001b[0m \tTrain Epoch: 10 \tTrain_loss: 0.9022 | Train_acc: 70.0368 % | Validation_loss: 1.0691 | Validation_acc: 56.5625 %\u001b[32m [repeated 3x across cluster]\u001b[0m\n"
     ]
    },
    {
     "name": "stderr",
     "output_type": "stream",
     "text": [
      "DEBUG flwr 2024-07-21 02:46:04,755 | server.py:236 | fit_round 3 received 10 results and 0 failures\n"
     ]
    },
    {
     "name": "stdout",
     "output_type": "stream",
     "text": [
      "Saving round 3 aggregated_parameters...\n"
     ]
    },
    {
     "name": "stderr",
     "output_type": "stream",
     "text": [
      "DEBUG flwr 2024-07-21 02:46:06,725 | server.py:173 | evaluate_round 3: strategy sampled 10 clients (out of 10)\n"
     ]
    },
    {
     "name": "stdout",
     "output_type": "stream",
     "text": [
      "\u001b[36m(launch_and_evaluate pid=2472)\u001b[0m Run with homomorphic encryption\n",
      "\u001b[36m(launch_and_fit pid=2381)\u001b[0m save graph in  results/FL/\n",
      "\u001b[36m(launch_and_fit pid=2381)\u001b[0m classifier.4.bias 1.1920928955078125e-06\u001b[32m [repeated 11x across cluster]\u001b[0m\n",
      "\u001b[36m(launch_and_evaluate pid=2472)\u001b[0m [Client 3] evaluate, config: {}\n",
      "\u001b[36m(launch_and_evaluate pid=2472)\u001b[0m Updated model\n",
      "\u001b[36m(launch_and_evaluate pid=2551)\u001b[0m Run with homomorphic encryption\u001b[32m [repeated 2x across cluster]\u001b[0m\n",
      "\u001b[36m(launch_and_evaluate pid=2473)\u001b[0m [Client 8] evaluate, config: {}\n",
      "\u001b[36m(launch_and_evaluate pid=2473)\u001b[0m Updated model\n",
      "\u001b[36m(launch_and_evaluate pid=2551)\u001b[0m [Client 7] evaluate, config: {}\n",
      "\u001b[36m(launch_and_evaluate pid=2551)\u001b[0m Updated model\n",
      "\u001b[36m(launch_and_evaluate pid=2631)\u001b[0m Run with homomorphic encryption\u001b[32m [repeated 2x across cluster]\u001b[0m\n",
      "\u001b[36m(launch_and_evaluate pid=2553)\u001b[0m [Client 9] evaluate, config: {}\n",
      "\u001b[36m(launch_and_evaluate pid=2553)\u001b[0m Updated model\n",
      "\u001b[36m(launch_and_evaluate pid=2629)\u001b[0m [Client 2] evaluate, config: {}\n",
      "\u001b[36m(launch_and_evaluate pid=2631)\u001b[0m Updated model\n",
      "\u001b[36m(launch_and_evaluate pid=2707)\u001b[0m Run with homomorphic encryption\u001b[32m [repeated 2x across cluster]\u001b[0m\n",
      "\u001b[36m(launch_and_evaluate pid=2631)\u001b[0m [Client 4] evaluate, config: {}\n",
      "\u001b[36m(launch_and_evaluate pid=2629)\u001b[0m Updated model\n",
      "\u001b[36m(launch_and_evaluate pid=2707)\u001b[0m [Client 0] evaluate, config: {}\n",
      "\u001b[36m(launch_and_evaluate pid=2707)\u001b[0m Updated model\n",
      "\u001b[36m(launch_and_evaluate pid=2787)\u001b[0m Run with homomorphic encryption\u001b[32m [repeated 2x across cluster]\u001b[0m\n",
      "\u001b[36m(launch_and_evaluate pid=2709)\u001b[0m [Client 5] evaluate, config: {}\n",
      "\u001b[36m(launch_and_evaluate pid=2709)\u001b[0m Updated model\n",
      "\u001b[36m(launch_and_evaluate pid=2787)\u001b[0m [Client 6] evaluate, config: {}\n",
      "\u001b[36m(launch_and_evaluate pid=2787)\u001b[0m Updated model\n"
     ]
    },
    {
     "name": "stderr",
     "output_type": "stream",
     "text": [
      "DEBUG flwr 2024-07-21 02:47:25,637 | server.py:187 | evaluate_round 3 received 10 results and 0 failures\n",
      "DEBUG flwr 2024-07-21 02:47:25,638 | server.py:222 | fit_round 4: strategy sampled 10 clients (out of 10)\n"
     ]
    },
    {
     "name": "stdout",
     "output_type": "stream",
     "text": [
      "\u001b[36m(launch_and_fit pid=2872)\u001b[0m Run with homomorphic encryption\u001b[32m [repeated 2x across cluster]\u001b[0m\n",
      "\u001b[36m(launch_and_evaluate pid=2785)\u001b[0m [Client 1] evaluate, config: {}\n",
      "\u001b[36m(launch_and_evaluate pid=2785)\u001b[0m Updated model\n",
      "\u001b[36m(launch_and_fit pid=2872)\u001b[0m [Client 9, round 4] fit, config: {'learning_rate': 0.003, 'batch_size': '32', 'server_round': 4, 'local_epochs': 10}\n"
     ]
    },
    {
     "name": "stderr",
     "output_type": "stream",
     "text": [
      "  0%|\u001b[34m          \u001b[0m| 0/10 [00:00<?, ?it/s]\n",
      "100%|\u001b[34m██████████\u001b[0m| 10/10 [00:42<00:00,  4.22s/it]\u001b[32m [repeated 3x across cluster]\u001b[0m\n"
     ]
    },
    {
     "name": "stdout",
     "output_type": "stream",
     "text": [
      "\u001b[36m(launch_and_fit pid=2872)\u001b[0m Updated model\n",
      "\u001b[36m(launch_and_fit pid=2872)\u001b[0m \tTrain Epoch: 1 \tTrain_loss: 1.4190 | Train_acc: 26.6544 % | Validation_loss: 1.3957 | Validation_acc: 22.5000 %\n",
      "\u001b[36m(launch_and_fit pid=2873)\u001b[0m Run with homomorphic encryption\n",
      "\u001b[36m(launch_and_fit pid=2873)\u001b[0m [Client 6, round 4] fit, config: {'learning_rate': 0.003, 'batch_size': '32', 'server_round': 4, 'local_epochs': 10}\n"
     ]
    },
    {
     "name": "stderr",
     "output_type": "stream",
     "text": [
      "  0%|\u001b[34m          \u001b[0m| 0/10 [00:00<?, ?it/s]\n",
      " 20%|\u001b[34m██        \u001b[0m| 2/10 [00:09<00:35,  4.49s/it]\u001b[32m [repeated 3x across cluster]\u001b[0m\n"
     ]
    },
    {
     "name": "stdout",
     "output_type": "stream",
     "text": [
      "\u001b[36m(launch_and_fit pid=2873)\u001b[0m Updated model\n",
      "\u001b[36m(launch_and_fit pid=2872)\u001b[0m \tTrain Epoch: 3 \tTrain_loss: 1.4353 | Train_acc: 25.0000 % | Validation_loss: 1.4511 | Validation_acc: 26.0625 %\u001b[32m [repeated 4x across cluster]\u001b[0m\n"
     ]
    },
    {
     "name": "stderr",
     "output_type": "stream",
     "text": [
      " 40%|\u001b[34m████      \u001b[0m| 4/10 [00:17<00:25,  4.32s/it]\u001b[32m [repeated 4x across cluster]\u001b[0m\n"
     ]
    },
    {
     "name": "stdout",
     "output_type": "stream",
     "text": [
      "\u001b[36m(launch_and_fit pid=2873)\u001b[0m \tTrain Epoch: 5 \tTrain_loss: 1.3903 | Train_acc: 29.7794 % | Validation_loss: 1.4224 | Validation_acc: 22.9375 %\u001b[32m [repeated 4x across cluster]\u001b[0m\n"
     ]
    },
    {
     "name": "stderr",
     "output_type": "stream",
     "text": [
      " 60%|\u001b[34m██████    \u001b[0m| 6/10 [00:25<00:16,  4.22s/it]\u001b[32m [repeated 4x across cluster]\u001b[0m\n"
     ]
    },
    {
     "name": "stdout",
     "output_type": "stream",
     "text": [
      "\u001b[36m(launch_and_fit pid=2872)\u001b[0m \tTrain Epoch: 7 \tTrain_loss: 1.2618 | Train_acc: 41.7279 % | Validation_loss: 1.2856 | Validation_acc: 42.3125 %\u001b[32m [repeated 4x across cluster]\u001b[0m\n"
     ]
    },
    {
     "name": "stderr",
     "output_type": "stream",
     "text": [
      " 80%|\u001b[34m████████  \u001b[0m| 8/10 [00:33<00:08,  4.15s/it]\u001b[32m [repeated 4x across cluster]\u001b[0m\n"
     ]
    },
    {
     "name": "stdout",
     "output_type": "stream",
     "text": [
      "\u001b[36m(launch_and_fit pid=2872)\u001b[0m \tTrain Epoch: 9 \tTrain_loss: 1.1851 | Train_acc: 54.2279 % | Validation_loss: 1.2602 | Validation_acc: 36.3125 %\u001b[32m [repeated 4x across cluster]\u001b[0m\n"
     ]
    },
    {
     "name": "stderr",
     "output_type": "stream",
     "text": [
      "100%|\u001b[34m██████████\u001b[0m| 10/10 [00:42<00:00,  4.26s/it]\u001b[32m [repeated 4x across cluster]\u001b[0m\n"
     ]
    },
    {
     "name": "stdout",
     "output_type": "stream",
     "text": [
      "\u001b[36m(launch_and_fit pid=2872)\u001b[0m save graph in  results/FL/\n",
      "\u001b[36m(launch_and_fit pid=2872)\u001b[0m features.0.weight 4.5299530029296875e-06\n",
      "\u001b[36m(launch_and_fit pid=2872)\u001b[0m features.0.bias 1.430511474609375e-06\n",
      "\u001b[36m(launch_and_fit pid=2872)\u001b[0m features.3.weight 9.5367431640625e-07\n",
      "\u001b[36m(launch_and_fit pid=2872)\u001b[0m features.3.bias 9.5367431640625e-07\n",
      "\u001b[36m(launch_and_fit pid=2872)\u001b[0m classifier.0.weight 9.5367431640625e-07\n",
      "\u001b[36m(launch_and_fit pid=2872)\u001b[0m classifier.0.bias 9.5367431640625e-07\n",
      "\u001b[36m(launch_and_fit pid=2872)\u001b[0m classifier.2.weight 1.1920928955078125e-06\n",
      "\u001b[36m(launch_and_fit pid=2872)\u001b[0m classifier.2.bias 9.5367431640625e-07\n",
      "\u001b[36m(launch_and_fit pid=2872)\u001b[0m classifier.3.weights 1.1920928955078125e-06\n",
      "\u001b[36m(launch_and_fit pid=2872)\u001b[0m classifier.4.weight 1.1920928955078125e-06\n",
      "\u001b[36m(launch_and_fit pid=2872)\u001b[0m classifier.4.bias 9.5367431640625e-07\n",
      "\u001b[36m(launch_and_fit pid=2873)\u001b[0m \tTrain Epoch: 10 \tTrain_loss: 1.2404 | Train_acc: 51.6544 % | Validation_loss: 1.1341 | Validation_acc: 59.0000 %\u001b[32m [repeated 3x across cluster]\u001b[0m\n",
      "\u001b[36m(launch_and_fit pid=2955)\u001b[0m Run with homomorphic encryption\n",
      "\u001b[36m(launch_and_fit pid=2873)\u001b[0m save graph in  results/FL/\n",
      "\u001b[36m(launch_and_fit pid=2873)\u001b[0m classifier.4.bias 9.5367431640625e-07\u001b[32m [repeated 11x across cluster]\u001b[0m\n",
      "\u001b[36m(launch_and_fit pid=2953)\u001b[0m [Client 4, round 4] fit, config: {'learning_rate': 0.003, 'batch_size': '32', 'server_round': 4, 'local_epochs': 10}\n"
     ]
    },
    {
     "name": "stderr",
     "output_type": "stream",
     "text": [
      "  0%|\u001b[34m          \u001b[0m| 0/10 [00:00<?, ?it/s]\n",
      "100%|\u001b[34m██████████\u001b[0m| 10/10 [00:42<00:00,  4.24s/it]\n"
     ]
    },
    {
     "name": "stdout",
     "output_type": "stream",
     "text": [
      "\u001b[36m(launch_and_fit pid=2955)\u001b[0m Updated model\n"
     ]
    },
    {
     "name": "stderr",
     "output_type": "stream",
     "text": [
      " 10%|\u001b[34m█         \u001b[0m| 1/10 [00:04<00:40,  4.55s/it]\n"
     ]
    },
    {
     "name": "stdout",
     "output_type": "stream",
     "text": [
      "\u001b[36m(launch_and_fit pid=2953)\u001b[0m \tTrain Epoch: 1 \tTrain_loss: 1.3683 | Train_acc: 28.6765 % | Validation_loss: 1.4276 | Validation_acc: 24.5000 %\n",
      "\u001b[36m(launch_and_fit pid=2953)\u001b[0m Run with homomorphic encryption\n",
      "\u001b[36m(launch_and_fit pid=2955)\u001b[0m [Client 1, round 4] fit, config: {'learning_rate': 0.003, 'batch_size': '32', 'server_round': 4, 'local_epochs': 10}\n"
     ]
    },
    {
     "name": "stderr",
     "output_type": "stream",
     "text": [
      "  0%|\u001b[34m          \u001b[0m| 0/10 [00:00<?, ?it/s]\n"
     ]
    },
    {
     "name": "stdout",
     "output_type": "stream",
     "text": [
      "\u001b[36m(launch_and_fit pid=2953)\u001b[0m Updated model\n"
     ]
    },
    {
     "name": "stderr",
     "output_type": "stream",
     "text": [
      " 30%|\u001b[34m███       \u001b[0m| 3/10 [00:12<00:29,  4.17s/it]\u001b[32m [repeated 4x across cluster]\u001b[0m\n"
     ]
    },
    {
     "name": "stdout",
     "output_type": "stream",
     "text": [
      "\u001b[36m(launch_and_fit pid=2953)\u001b[0m \tTrain Epoch: 3 \tTrain_loss: 1.4089 | Train_acc: 27.7574 % | Validation_loss: 1.4450 | Validation_acc: 24.0625 %\u001b[32m [repeated 4x across cluster]\u001b[0m\n"
     ]
    },
    {
     "name": "stderr",
     "output_type": "stream",
     "text": [
      " 50%|\u001b[34m█████     \u001b[0m| 5/10 [00:21<00:21,  4.21s/it]\u001b[32m [repeated 4x across cluster]\u001b[0m\n"
     ]
    },
    {
     "name": "stdout",
     "output_type": "stream",
     "text": [
      "\u001b[36m(launch_and_fit pid=2955)\u001b[0m \tTrain Epoch: 5 \tTrain_loss: 1.3972 | Train_acc: 28.6765 % | Validation_loss: 1.4007 | Validation_acc: 32.0625 %\u001b[32m [repeated 4x across cluster]\u001b[0m\n"
     ]
    },
    {
     "name": "stderr",
     "output_type": "stream",
     "text": [
      " 70%|\u001b[34m███████   \u001b[0m| 7/10 [00:30<00:13,  4.34s/it]\u001b[32m [repeated 4x across cluster]\u001b[0m\n"
     ]
    },
    {
     "name": "stdout",
     "output_type": "stream",
     "text": [
      "\u001b[36m(launch_and_fit pid=2953)\u001b[0m \tTrain Epoch: 7 \tTrain_loss: 1.3846 | Train_acc: 26.4706 % | Validation_loss: 1.3546 | Validation_acc: 29.6250 %\u001b[32m [repeated 4x across cluster]\u001b[0m\n"
     ]
    },
    {
     "name": "stderr",
     "output_type": "stream",
     "text": [
      " 90%|\u001b[34m█████████ \u001b[0m| 9/10 [00:38<00:04,  4.24s/it]\u001b[32m [repeated 4x across cluster]\u001b[0m\n"
     ]
    },
    {
     "name": "stdout",
     "output_type": "stream",
     "text": [
      "\u001b[36m(launch_and_fit pid=2953)\u001b[0m \tTrain Epoch: 9 \tTrain_loss: 1.2967 | Train_acc: 39.7059 % | Validation_loss: 1.3033 | Validation_acc: 37.6250 %\u001b[32m [repeated 4x across cluster]\u001b[0m\n",
      "\u001b[36m(launch_and_fit pid=2953)\u001b[0m save graph in  results/FL/\n",
      "\u001b[36m(launch_and_fit pid=2953)\u001b[0m features.0.weight 5.7220458984375e-06\n",
      "\u001b[36m(launch_and_fit pid=2953)\u001b[0m features.0.bias 1.1920928955078125e-06\n",
      "\u001b[36m(launch_and_fit pid=2953)\u001b[0m features.3.weight 9.5367431640625e-07\n",
      "\u001b[36m(launch_and_fit pid=2953)\u001b[0m features.3.bias 1.1920928955078125e-06\n",
      "\u001b[36m(launch_and_fit pid=2953)\u001b[0m classifier.0.weight 9.5367431640625e-07\n",
      "\u001b[36m(launch_and_fit pid=2953)\u001b[0m classifier.0.bias 1.1920928955078125e-06\n",
      "\u001b[36m(launch_and_fit pid=2953)\u001b[0m classifier.2.weight 9.5367431640625e-07\n",
      "\u001b[36m(launch_and_fit pid=2953)\u001b[0m classifier.2.bias 9.5367431640625e-07\n",
      "\u001b[36m(launch_and_fit pid=2953)\u001b[0m classifier.3.weights 1.1920928955078125e-06\n",
      "\u001b[36m(launch_and_fit pid=2953)\u001b[0m classifier.4.weight 9.5367431640625e-07\n",
      "\u001b[36m(launch_and_fit pid=2953)\u001b[0m classifier.4.bias 9.5367431640625e-07\n",
      "\u001b[36m(launch_and_fit pid=3036)\u001b[0m Run with homomorphic encryption\n",
      "\u001b[36m(launch_and_fit pid=2955)\u001b[0m \tTrain Epoch: 10 \tTrain_loss: 1.3793 | Train_acc: 32.1691 % | Validation_loss: 1.3525 | Validation_acc: 36.7500 %\u001b[32m [repeated 3x across cluster]\u001b[0m\n",
      "\u001b[36m(launch_and_fit pid=2955)\u001b[0m save graph in  results/FL/\n",
      "\u001b[36m(launch_and_fit pid=2955)\u001b[0m classifier.4.bias 1.1920928955078125e-06\u001b[32m [repeated 11x across cluster]\u001b[0m\n",
      "\u001b[36m(launch_and_fit pid=3036)\u001b[0m [Client 2, round 4] fit, config: {'learning_rate': 0.003, 'batch_size': '32', 'server_round': 4, 'local_epochs': 10}\n",
      "\u001b[36m(launch_and_fit pid=3036)\u001b[0m Updated model\n"
     ]
    },
    {
     "name": "stderr",
     "output_type": "stream",
     "text": [
      "  0%|\u001b[34m          \u001b[0m| 0/10 [00:00<?, ?it/s]\n",
      "100%|\u001b[34m██████████\u001b[0m| 10/10 [00:42<00:00,  4.28s/it]\u001b[32m [repeated 3x across cluster]\u001b[0m\n"
     ]
    },
    {
     "name": "stdout",
     "output_type": "stream",
     "text": [
      "\u001b[36m(launch_and_fit pid=3037)\u001b[0m Run with homomorphic encryption\n",
      "\u001b[36m(launch_and_fit pid=3036)\u001b[0m \tTrain Epoch: 1 \tTrain_loss: 1.3927 | Train_acc: 24.4485 % | Validation_loss: 1.4015 | Validation_acc: 27.6250 %\n",
      "\u001b[36m(launch_and_fit pid=3037)\u001b[0m [Client 5, round 4] fit, config: {'learning_rate': 0.003, 'batch_size': '32', 'server_round': 4, 'local_epochs': 10}\n",
      "\u001b[36m(launch_and_fit pid=3037)\u001b[0m \tTrain Epoch: 1 \tTrain_loss: 1.4139 | Train_acc: 23.8971 % | Validation_loss: 1.3989 | Validation_acc: 32.7500 %\n",
      "\u001b[36m(launch_and_fit pid=3037)\u001b[0m Updated model\n"
     ]
    },
    {
     "name": "stderr",
     "output_type": "stream",
     "text": [
      "  0%|\u001b[34m          \u001b[0m| 0/10 [00:00<?, ?it/s]\n",
      " 20%|\u001b[34m██        \u001b[0m| 2/10 [00:08<00:35,  4.38s/it]\u001b[32m [repeated 3x across cluster]\u001b[0m\n"
     ]
    },
    {
     "name": "stdout",
     "output_type": "stream",
     "text": [
      "\u001b[36m(launch_and_fit pid=3036)\u001b[0m \tTrain Epoch: 3 \tTrain_loss: 1.2647 | Train_acc: 47.2426 % | Validation_loss: 1.2153 | Validation_acc: 53.0000 %\u001b[32m [repeated 3x across cluster]\u001b[0m\n"
     ]
    },
    {
     "name": "stderr",
     "output_type": "stream",
     "text": [
      " 40%|\u001b[34m████      \u001b[0m| 4/10 [00:17<00:25,  4.24s/it]\u001b[32m [repeated 4x across cluster]\u001b[0m\n"
     ]
    },
    {
     "name": "stdout",
     "output_type": "stream",
     "text": [
      "\u001b[36m(launch_and_fit pid=3036)\u001b[0m \tTrain Epoch: 5 \tTrain_loss: 0.9534 | Train_acc: 69.4853 % | Validation_loss: 0.9814 | Validation_acc: 69.2500 %\u001b[32m [repeated 4x across cluster]\u001b[0m\n"
     ]
    },
    {
     "name": "stderr",
     "output_type": "stream",
     "text": [
      " 60%|\u001b[34m██████    \u001b[0m| 6/10 [00:25<00:17,  4.26s/it]\u001b[32m [repeated 4x across cluster]\u001b[0m\n"
     ]
    },
    {
     "name": "stdout",
     "output_type": "stream",
     "text": [
      "\u001b[36m(launch_and_fit pid=3036)\u001b[0m \tTrain Epoch: 7 \tTrain_loss: 0.7410 | Train_acc: 77.9412 % | Validation_loss: 0.9017 | Validation_acc: 74.3750 %\u001b[32m [repeated 4x across cluster]\u001b[0m\n"
     ]
    },
    {
     "name": "stderr",
     "output_type": "stream",
     "text": [
      " 80%|\u001b[34m████████  \u001b[0m| 8/10 [00:34<00:08,  4.25s/it]\u001b[32m [repeated 4x across cluster]\u001b[0m\n"
     ]
    },
    {
     "name": "stdout",
     "output_type": "stream",
     "text": [
      "\u001b[36m(launch_and_fit pid=3036)\u001b[0m \tTrain Epoch: 9 \tTrain_loss: 0.5842 | Train_acc: 87.5000 % | Validation_loss: 0.8490 | Validation_acc: 76.8125 %\u001b[32m [repeated 4x across cluster]\u001b[0m\n"
     ]
    },
    {
     "name": "stderr",
     "output_type": "stream",
     "text": [
      "100%|\u001b[34m██████████\u001b[0m| 10/10 [00:42<00:00,  4.22s/it]\u001b[32m [repeated 4x across cluster]\u001b[0m\n"
     ]
    },
    {
     "name": "stdout",
     "output_type": "stream",
     "text": [
      "\u001b[36m(launch_and_fit pid=3037)\u001b[0m save graph in  results/FL/\n",
      "\u001b[36m(launch_and_fit pid=3037)\u001b[0m features.0.weight 5.245208740234375e-06\n",
      "\u001b[36m(launch_and_fit pid=3037)\u001b[0m features.0.bias 1.6689300537109375e-06\n",
      "\u001b[36m(launch_and_fit pid=3037)\u001b[0m features.3.weight 1.430511474609375e-06\n",
      "\u001b[36m(launch_and_fit pid=3037)\u001b[0m features.3.bias 1.1920928955078125e-06\n",
      "\u001b[36m(launch_and_fit pid=3037)\u001b[0m classifier.0.weight 1.1920928955078125e-06\n",
      "\u001b[36m(launch_and_fit pid=3037)\u001b[0m classifier.0.bias 1.430511474609375e-06\n",
      "\u001b[36m(launch_and_fit pid=3037)\u001b[0m classifier.2.weight 1.430511474609375e-06\n",
      "\u001b[36m(launch_and_fit pid=3037)\u001b[0m classifier.2.bias 9.5367431640625e-07\n",
      "\u001b[36m(launch_and_fit pid=3037)\u001b[0m classifier.3.weights 1.430511474609375e-06\n",
      "\u001b[36m(launch_and_fit pid=3037)\u001b[0m classifier.4.weight 1.430511474609375e-06\n",
      "\u001b[36m(launch_and_fit pid=3037)\u001b[0m classifier.4.bias 9.5367431640625e-07\n",
      "\u001b[36m(launch_and_fit pid=3117)\u001b[0m Run with homomorphic encryption\n",
      "\u001b[36m(launch_and_fit pid=3036)\u001b[0m \tTrain Epoch: 10 \tTrain_loss: 0.4696 | Train_acc: 94.3015 % | Validation_loss: 0.9202 | Validation_acc: 69.5000 %\u001b[32m [repeated 3x across cluster]\u001b[0m\n",
      "\u001b[36m(launch_and_fit pid=3036)\u001b[0m save graph in  results/FL/\n",
      "\u001b[36m(launch_and_fit pid=3036)\u001b[0m classifier.4.bias 1.1920928955078125e-06\u001b[32m [repeated 11x across cluster]\u001b[0m\n",
      "\u001b[36m(launch_and_fit pid=3117)\u001b[0m [Client 8, round 4] fit, config: {'learning_rate': 0.003, 'batch_size': '32', 'server_round': 4, 'local_epochs': 10}\n"
     ]
    },
    {
     "name": "stderr",
     "output_type": "stream",
     "text": [
      "  0%|\u001b[34m          \u001b[0m| 0/10 [00:00<?, ?it/s]\n",
      "100%|\u001b[34m██████████\u001b[0m| 10/10 [00:42<00:00,  4.27s/it]\n"
     ]
    },
    {
     "name": "stdout",
     "output_type": "stream",
     "text": [
      "\u001b[36m(launch_and_fit pid=3117)\u001b[0m Updated model\n"
     ]
    },
    {
     "name": "stderr",
     "output_type": "stream",
     "text": [
      " 10%|\u001b[34m█         \u001b[0m| 1/10 [00:04<00:41,  4.63s/it]\n"
     ]
    },
    {
     "name": "stdout",
     "output_type": "stream",
     "text": [
      "\u001b[36m(launch_and_fit pid=3119)\u001b[0m Run with homomorphic encryption\n",
      "\u001b[36m(launch_and_fit pid=3117)\u001b[0m \tTrain Epoch: 1 \tTrain_loss: 1.3547 | Train_acc: 30.1471 % | Validation_loss: 1.2481 | Validation_acc: 40.3125 %\n",
      "\u001b[36m(launch_and_fit pid=3119)\u001b[0m [Client 3, round 4] fit, config: {'learning_rate': 0.003, 'batch_size': '32', 'server_round': 4, 'local_epochs': 10}\n",
      "\u001b[36m(launch_and_fit pid=3119)\u001b[0m \tTrain Epoch: 1 \tTrain_loss: 1.4157 | Train_acc: 29.4118 % | Validation_loss: 1.2878 | Validation_acc: 41.1875 %\n"
     ]
    },
    {
     "name": "stderr",
     "output_type": "stream",
     "text": [
      "  0%|\u001b[34m          \u001b[0m| 0/10 [00:00<?, ?it/s]\n"
     ]
    },
    {
     "name": "stdout",
     "output_type": "stream",
     "text": [
      "\u001b[36m(launch_and_fit pid=3119)\u001b[0m Updated model\n"
     ]
    },
    {
     "name": "stderr",
     "output_type": "stream",
     "text": [
      " 30%|\u001b[34m███       \u001b[0m| 3/10 [00:12<00:29,  4.20s/it]\u001b[32m [repeated 4x across cluster]\u001b[0m\n"
     ]
    },
    {
     "name": "stdout",
     "output_type": "stream",
     "text": [
      "\u001b[36m(launch_and_fit pid=3117)\u001b[0m \tTrain Epoch: 3 \tTrain_loss: 0.8062 | Train_acc: 74.6324 % | Validation_loss: 0.8640 | Validation_acc: 65.6875 %\u001b[32m [repeated 3x across cluster]\u001b[0m\n"
     ]
    },
    {
     "name": "stderr",
     "output_type": "stream",
     "text": [
      " 50%|\u001b[34m█████     \u001b[0m| 5/10 [00:20<00:20,  4.13s/it]\u001b[32m [repeated 4x across cluster]\u001b[0m\n"
     ]
    },
    {
     "name": "stdout",
     "output_type": "stream",
     "text": [
      "\u001b[36m(launch_and_fit pid=3117)\u001b[0m \tTrain Epoch: 5 \tTrain_loss: 0.5699 | Train_acc: 78.4926 % | Validation_loss: 0.8004 | Validation_acc: 65.6875 %\u001b[32m [repeated 4x across cluster]\u001b[0m\n",
      "\u001b[36m(launch_and_fit pid=3119)\u001b[0m \tTrain Epoch: 7 \tTrain_loss: 0.9961 | Train_acc: 59.7426 % | Validation_loss: 1.1960 | Validation_acc: 34.7500 %\u001b[32m [repeated 4x across cluster]\u001b[0m\n"
     ]
    },
    {
     "name": "stderr",
     "output_type": "stream",
     "text": [
      " 70%|\u001b[34m███████   \u001b[0m| 7/10 [00:29<00:12,  4.17s/it]\u001b[32m [repeated 4x across cluster]\u001b[0m\n"
     ]
    },
    {
     "name": "stdout",
     "output_type": "stream",
     "text": [
      "\u001b[36m(launch_and_fit pid=3119)\u001b[0m \tTrain Epoch: 9 \tTrain_loss: 1.0250 | Train_acc: 54.2279 % | Validation_loss: 0.9829 | Validation_acc: 57.6875 %\u001b[32m [repeated 4x across cluster]\u001b[0m\n"
     ]
    },
    {
     "name": "stderr",
     "output_type": "stream",
     "text": [
      " 90%|\u001b[34m█████████ \u001b[0m| 9/10 [00:37<00:04,  4.12s/it]\u001b[32m [repeated 4x across cluster]\u001b[0m\n"
     ]
    },
    {
     "name": "stdout",
     "output_type": "stream",
     "text": [
      "\u001b[36m(launch_and_fit pid=3117)\u001b[0m save graph in  results/FL/\n",
      "\u001b[36m(launch_and_fit pid=3117)\u001b[0m features.0.weight 5.0067901611328125e-06\n",
      "\u001b[36m(launch_and_fit pid=3117)\u001b[0m features.0.bias 1.6689300537109375e-06\n",
      "\u001b[36m(launch_and_fit pid=3117)\u001b[0m features.3.weight 9.5367431640625e-07\n",
      "\u001b[36m(launch_and_fit pid=3117)\u001b[0m features.3.bias 1.1920928955078125e-06\n",
      "\u001b[36m(launch_and_fit pid=3117)\u001b[0m classifier.0.weight 1.1920928955078125e-06\n",
      "\u001b[36m(launch_and_fit pid=3117)\u001b[0m classifier.0.bias 1.1920928955078125e-06\n",
      "\u001b[36m(launch_and_fit pid=3117)\u001b[0m classifier.2.weight 9.5367431640625e-07\n",
      "\u001b[36m(launch_and_fit pid=3117)\u001b[0m classifier.2.bias 1.1920928955078125e-06\n",
      "\u001b[36m(launch_and_fit pid=3117)\u001b[0m classifier.3.weights 1.430511474609375e-06\n",
      "\u001b[36m(launch_and_fit pid=3117)\u001b[0m classifier.4.weight 9.5367431640625e-07\n",
      "\u001b[36m(launch_and_fit pid=3117)\u001b[0m classifier.4.bias 9.5367431640625e-07\n",
      "\u001b[36m(launch_and_fit pid=3201)\u001b[0m Run with homomorphic encryption\n",
      "\u001b[36m(launch_and_fit pid=3119)\u001b[0m \tTrain Epoch: 10 \tTrain_loss: 0.8569 | Train_acc: 63.2353 % | Validation_loss: 0.8582 | Validation_acc: 61.0000 %\u001b[32m [repeated 3x across cluster]\u001b[0m\n",
      "\u001b[36m(launch_and_fit pid=3119)\u001b[0m save graph in  results/FL/\n",
      "\u001b[36m(launch_and_fit pid=3119)\u001b[0m classifier.4.bias 9.5367431640625e-07\u001b[32m [repeated 11x across cluster]\u001b[0m\n",
      "\u001b[36m(launch_and_fit pid=3201)\u001b[0m [Client 0, round 4] fit, config: {'learning_rate': 0.003, 'batch_size': '32', 'server_round': 4, 'local_epochs': 10}\n",
      "\u001b[36m(launch_and_fit pid=3201)\u001b[0m Updated model\n"
     ]
    },
    {
     "name": "stderr",
     "output_type": "stream",
     "text": [
      "  0%|\u001b[34m          \u001b[0m| 0/10 [00:00<?, ?it/s]\n",
      "100%|\u001b[34m██████████\u001b[0m| 10/10 [00:41<00:00,  4.18s/it]\u001b[32m [repeated 3x across cluster]\u001b[0m\n"
     ]
    },
    {
     "name": "stdout",
     "output_type": "stream",
     "text": [
      "\u001b[36m(launch_and_fit pid=3199)\u001b[0m Run with homomorphic encryption\n",
      "\u001b[36m(launch_and_fit pid=3199)\u001b[0m \tTrain Epoch: 1 \tTrain_loss: 1.3124 | Train_acc: 31.8015 % | Validation_loss: 1.2676 | Validation_acc: 45.8750 %\n",
      "\u001b[36m(launch_and_fit pid=3199)\u001b[0m [Client 7, round 4] fit, config: {'learning_rate': 0.003, 'batch_size': '32', 'server_round': 4, 'local_epochs': 10}\n",
      "\u001b[36m(launch_and_fit pid=3201)\u001b[0m \tTrain Epoch: 1 \tTrain_loss: 1.3346 | Train_acc: 37.8676 % | Validation_loss: 1.3294 | Validation_acc: 34.7500 %\n",
      "\u001b[36m(launch_and_fit pid=3199)\u001b[0m Updated model\n"
     ]
    },
    {
     "name": "stderr",
     "output_type": "stream",
     "text": [
      "  0%|\u001b[34m          \u001b[0m| 0/10 [00:00<?, ?it/s]\n",
      " 10%|\u001b[34m█         \u001b[0m| 1/10 [00:05<00:45,  5.01s/it]\u001b[32m [repeated 2x across cluster]\u001b[0m\n"
     ]
    },
    {
     "name": "stdout",
     "output_type": "stream",
     "text": [
      "\u001b[36m(launch_and_fit pid=3199)\u001b[0m \tTrain Epoch: 3 \tTrain_loss: 0.9365 | Train_acc: 68.1985 % | Validation_loss: 0.9982 | Validation_acc: 58.1250 %\u001b[32m [repeated 3x across cluster]\u001b[0m\n"
     ]
    },
    {
     "name": "stderr",
     "output_type": "stream",
     "text": [
      " 30%|\u001b[34m███       \u001b[0m| 3/10 [00:12<00:29,  4.25s/it]\u001b[32m [repeated 3x across cluster]\u001b[0m\n"
     ]
    },
    {
     "name": "stdout",
     "output_type": "stream",
     "text": [
      "\u001b[36m(launch_and_fit pid=3201)\u001b[0m \tTrain Epoch: 5 \tTrain_loss: 1.4020 | Train_acc: 29.5956 % | Validation_loss: 1.4560 | Validation_acc: 22.9375 %\u001b[32m [repeated 4x across cluster]\u001b[0m\n"
     ]
    },
    {
     "name": "stderr",
     "output_type": "stream",
     "text": [
      " 50%|\u001b[34m█████     \u001b[0m| 5/10 [00:21<00:20,  4.12s/it]\u001b[32m [repeated 4x across cluster]\u001b[0m\n"
     ]
    },
    {
     "name": "stdout",
     "output_type": "stream",
     "text": [
      "\u001b[36m(launch_and_fit pid=3201)\u001b[0m \tTrain Epoch: 7 \tTrain_loss: 1.4080 | Train_acc: 27.0221 % | Validation_loss: 1.4336 | Validation_acc: 25.1875 %\u001b[32m [repeated 4x across cluster]\u001b[0m\n"
     ]
    },
    {
     "name": "stderr",
     "output_type": "stream",
     "text": [
      " 70%|\u001b[34m███████   \u001b[0m| 7/10 [00:29<00:12,  4.03s/it]\u001b[32m [repeated 4x across cluster]\u001b[0m\n"
     ]
    },
    {
     "name": "stdout",
     "output_type": "stream",
     "text": [
      "\u001b[36m(launch_and_fit pid=3201)\u001b[0m \tTrain Epoch: 9 \tTrain_loss: 1.3986 | Train_acc: 27.3897 % | Validation_loss: 1.4074 | Validation_acc: 24.0625 %\u001b[32m [repeated 4x across cluster]\u001b[0m\n"
     ]
    },
    {
     "name": "stderr",
     "output_type": "stream",
     "text": [
      " 90%|\u001b[34m█████████ \u001b[0m| 9/10 [00:37<00:04,  4.13s/it]\u001b[32m [repeated 4x across cluster]\u001b[0m\n"
     ]
    },
    {
     "name": "stdout",
     "output_type": "stream",
     "text": [
      "\u001b[36m(launch_and_fit pid=3201)\u001b[0m save graph in  results/FL/\n",
      "\u001b[36m(launch_and_fit pid=3201)\u001b[0m features.0.weight 5.245208740234375e-06\n",
      "\u001b[36m(launch_and_fit pid=3201)\u001b[0m features.0.bias 1.430511474609375e-06\n",
      "\u001b[36m(launch_and_fit pid=3201)\u001b[0m features.3.weight 1.1920928955078125e-06\n",
      "\u001b[36m(launch_and_fit pid=3201)\u001b[0m features.3.bias 1.1920928955078125e-06\n",
      "\u001b[36m(launch_and_fit pid=3201)\u001b[0m classifier.0.weight 9.5367431640625e-07\n",
      "\u001b[36m(launch_and_fit pid=3201)\u001b[0m classifier.0.bias 9.5367431640625e-07\n",
      "\u001b[36m(launch_and_fit pid=3201)\u001b[0m classifier.2.weight 9.5367431640625e-07\n",
      "\u001b[36m(launch_and_fit pid=3201)\u001b[0m classifier.2.bias 9.5367431640625e-07\n",
      "\u001b[36m(launch_and_fit pid=3201)\u001b[0m classifier.3.weights 9.5367431640625e-07\n",
      "\u001b[36m(launch_and_fit pid=3201)\u001b[0m classifier.4.weight 1.1920928955078125e-06\n",
      "\u001b[36m(launch_and_fit pid=3201)\u001b[0m classifier.4.bias 1.6689300537109375e-06\n",
      "\u001b[36m(launch_and_fit pid=3199)\u001b[0m \tTrain Epoch: 10 \tTrain_loss: 0.4640 | Train_acc: 78.3088 % | Validation_loss: 0.7614 | Validation_acc: 70.1250 %\u001b[32m [repeated 3x across cluster]\u001b[0m\n"
     ]
    },
    {
     "name": "stderr",
     "output_type": "stream",
     "text": [
      "DEBUG flwr 2024-07-21 02:52:14,028 | server.py:236 | fit_round 4 received 10 results and 0 failures\n"
     ]
    },
    {
     "name": "stdout",
     "output_type": "stream",
     "text": [
      "Saving round 4 aggregated_parameters...\n"
     ]
    },
    {
     "name": "stderr",
     "output_type": "stream",
     "text": [
      "DEBUG flwr 2024-07-21 02:52:16,011 | server.py:173 | evaluate_round 4: strategy sampled 10 clients (out of 10)\n"
     ]
    },
    {
     "name": "stdout",
     "output_type": "stream",
     "text": [
      "\u001b[36m(launch_and_evaluate pid=3291)\u001b[0m Run with homomorphic encryption\n",
      "\u001b[36m(launch_and_fit pid=3199)\u001b[0m save graph in  results/FL/\n",
      "\u001b[36m(launch_and_fit pid=3199)\u001b[0m classifier.4.bias 1.1920928955078125e-06\u001b[32m [repeated 11x across cluster]\u001b[0m\n",
      "\u001b[36m(launch_and_evaluate pid=3291)\u001b[0m [Client 6] evaluate, config: {}\n",
      "\u001b[36m(launch_and_evaluate pid=3290)\u001b[0m Updated model\n",
      "\u001b[36m(launch_and_evaluate pid=3369)\u001b[0m Run with homomorphic encryption\u001b[32m [repeated 2x across cluster]\u001b[0m\n",
      "\u001b[36m(launch_and_evaluate pid=3290)\u001b[0m [Client 3] evaluate, config: {}\n",
      "\u001b[36m(launch_and_evaluate pid=3291)\u001b[0m Updated model\n",
      "\u001b[36m(launch_and_evaluate pid=3369)\u001b[0m [Client 9] evaluate, config: {}\n",
      "\u001b[36m(launch_and_evaluate pid=3369)\u001b[0m Updated model\n",
      "\u001b[36m(launch_and_evaluate pid=3447)\u001b[0m Run with homomorphic encryption\u001b[32m [repeated 2x across cluster]\u001b[0m\n",
      "\u001b[36m(launch_and_evaluate pid=3371)\u001b[0m [Client 8] evaluate, config: {}\n",
      "\u001b[36m(launch_and_evaluate pid=3371)\u001b[0m Updated model\n",
      "\u001b[36m(launch_and_evaluate pid=3447)\u001b[0m [Client 5] evaluate, config: {}\n",
      "\u001b[36m(launch_and_evaluate pid=3447)\u001b[0m Updated model\n",
      "\u001b[36m(launch_and_evaluate pid=3525)\u001b[0m Run with homomorphic encryption\u001b[32m [repeated 2x across cluster]\u001b[0m\n",
      "\u001b[36m(launch_and_evaluate pid=3449)\u001b[0m [Client 7] evaluate, config: {}\n",
      "\u001b[36m(launch_and_evaluate pid=3449)\u001b[0m Updated model\n",
      "\u001b[36m(launch_and_evaluate pid=3527)\u001b[0m [Client 1] evaluate, config: {}\n",
      "\u001b[36m(launch_and_evaluate pid=3527)\u001b[0m Updated model\n",
      "\u001b[36m(launch_and_evaluate pid=3605)\u001b[0m Run with homomorphic encryption\u001b[32m [repeated 2x across cluster]\u001b[0m\n",
      "\u001b[36m(launch_and_evaluate pid=3525)\u001b[0m [Client 0] evaluate, config: {}\n",
      "\u001b[36m(launch_and_evaluate pid=3525)\u001b[0m Updated model\n",
      "\u001b[36m(launch_and_evaluate pid=3605)\u001b[0m [Client 2] evaluate, config: {}\n",
      "\u001b[36m(launch_and_evaluate pid=3605)\u001b[0m Updated model\n"
     ]
    },
    {
     "name": "stderr",
     "output_type": "stream",
     "text": [
      "DEBUG flwr 2024-07-21 02:53:33,528 | server.py:187 | evaluate_round 4 received 10 results and 0 failures\n",
      "DEBUG flwr 2024-07-21 02:53:33,530 | server.py:222 | fit_round 5: strategy sampled 10 clients (out of 10)\n"
     ]
    },
    {
     "name": "stdout",
     "output_type": "stream",
     "text": [
      "\u001b[36m(launch_and_fit pid=3690)\u001b[0m Run with homomorphic encryption\u001b[32m [repeated 2x across cluster]\u001b[0m\n",
      "\u001b[36m(launch_and_evaluate pid=3603)\u001b[0m [Client 4] evaluate, config: {}\n",
      "\u001b[36m(launch_and_evaluate pid=3603)\u001b[0m Updated model\n",
      "\u001b[36m(launch_and_fit pid=3690)\u001b[0m [Client 3, round 5] fit, config: {'learning_rate': 0.003, 'batch_size': '32', 'server_round': 5, 'local_epochs': 10}\n"
     ]
    },
    {
     "name": "stderr",
     "output_type": "stream",
     "text": [
      "  0%|\u001b[34m          \u001b[0m| 0/10 [00:00<?, ?it/s]\n",
      "100%|\u001b[34m██████████\u001b[0m| 10/10 [00:42<00:00,  4.21s/it]\u001b[32m [repeated 3x across cluster]\u001b[0m\n"
     ]
    },
    {
     "name": "stdout",
     "output_type": "stream",
     "text": [
      "\u001b[36m(launch_and_fit pid=3690)\u001b[0m Updated model\n",
      "\u001b[36m(launch_and_fit pid=3690)\u001b[0m \tTrain Epoch: 1 \tTrain_loss: 1.3108 | Train_acc: 40.9926 % | Validation_loss: 0.9729 | Validation_acc: 53.4375 %\n",
      "\u001b[36m(launch_and_fit pid=3691)\u001b[0m Run with homomorphic encryption\n",
      "\u001b[36m(launch_and_fit pid=3691)\u001b[0m [Client 6, round 5] fit, config: {'learning_rate': 0.003, 'batch_size': '32', 'server_round': 5, 'local_epochs': 10}\n"
     ]
    },
    {
     "name": "stderr",
     "output_type": "stream",
     "text": [
      "  0%|\u001b[34m          \u001b[0m| 0/10 [00:00<?, ?it/s]\n",
      " 20%|\u001b[34m██        \u001b[0m| 2/10 [00:08<00:34,  4.27s/it]\u001b[32m [repeated 3x across cluster]\u001b[0m\n"
     ]
    },
    {
     "name": "stdout",
     "output_type": "stream",
     "text": [
      "\u001b[36m(launch_and_fit pid=3691)\u001b[0m Updated model\n",
      "\u001b[36m(launch_and_fit pid=3690)\u001b[0m \tTrain Epoch: 3 \tTrain_loss: 0.7583 | Train_acc: 66.3603 % | Validation_loss: 0.7421 | Validation_acc: 76.6250 %\u001b[32m [repeated 4x across cluster]\u001b[0m\n"
     ]
    },
    {
     "name": "stderr",
     "output_type": "stream",
     "text": [
      " 40%|\u001b[34m████      \u001b[0m| 4/10 [00:16<00:25,  4.19s/it]\u001b[32m [repeated 4x across cluster]\u001b[0m\n"
     ]
    },
    {
     "name": "stdout",
     "output_type": "stream",
     "text": [
      "\u001b[36m(launch_and_fit pid=3690)\u001b[0m \tTrain Epoch: 5 \tTrain_loss: 0.5401 | Train_acc: 79.2279 % | Validation_loss: 0.7896 | Validation_acc: 68.3750 %\u001b[32m [repeated 4x across cluster]\u001b[0m\n"
     ]
    },
    {
     "name": "stderr",
     "output_type": "stream",
     "text": [
      " 60%|\u001b[34m██████    \u001b[0m| 6/10 [00:25<00:16,  4.18s/it]\u001b[32m [repeated 4x across cluster]\u001b[0m\n"
     ]
    },
    {
     "name": "stdout",
     "output_type": "stream",
     "text": [
      "\u001b[36m(launch_and_fit pid=3690)\u001b[0m \tTrain Epoch: 7 \tTrain_loss: 0.4448 | Train_acc: 82.9044 % | Validation_loss: 0.6988 | Validation_acc: 63.2500 %\u001b[32m [repeated 4x across cluster]\u001b[0m\n"
     ]
    },
    {
     "name": "stderr",
     "output_type": "stream",
     "text": [
      " 80%|\u001b[34m████████  \u001b[0m| 8/10 [00:33<00:08,  4.18s/it]\u001b[32m [repeated 4x across cluster]\u001b[0m\n"
     ]
    },
    {
     "name": "stdout",
     "output_type": "stream",
     "text": [
      "\u001b[36m(launch_and_fit pid=3690)\u001b[0m \tTrain Epoch: 9 \tTrain_loss: 0.4238 | Train_acc: 75.1838 % | Validation_loss: 0.6751 | Validation_acc: 65.2500 %\u001b[32m [repeated 4x across cluster]\u001b[0m\n"
     ]
    },
    {
     "name": "stderr",
     "output_type": "stream",
     "text": [
      "100%|\u001b[34m██████████\u001b[0m| 10/10 [00:41<00:00,  4.18s/it]\u001b[32m [repeated 4x across cluster]\u001b[0m\n"
     ]
    },
    {
     "name": "stdout",
     "output_type": "stream",
     "text": [
      "\u001b[36m(launch_and_fit pid=3690)\u001b[0m save graph in  results/FL/\n",
      "\u001b[36m(launch_and_fit pid=3690)\u001b[0m features.0.weight 5.7220458984375e-06\n",
      "\u001b[36m(launch_and_fit pid=3690)\u001b[0m features.0.bias 1.2636184692382812e-05\n",
      "\u001b[36m(launch_and_fit pid=3690)\u001b[0m features.3.weight 1.1920928955078125e-06\n",
      "\u001b[36m(launch_and_fit pid=3690)\u001b[0m features.3.bias 1.430511474609375e-06\n",
      "\u001b[36m(launch_and_fit pid=3690)\u001b[0m classifier.0.weight 1.1920928955078125e-06\n",
      "\u001b[36m(launch_and_fit pid=3690)\u001b[0m classifier.0.bias 9.5367431640625e-07\n",
      "\u001b[36m(launch_and_fit pid=3690)\u001b[0m classifier.2.weight 9.5367431640625e-07\n",
      "\u001b[36m(launch_and_fit pid=3690)\u001b[0m classifier.2.bias 9.5367431640625e-07\n",
      "\u001b[36m(launch_and_fit pid=3690)\u001b[0m classifier.3.weights 1.1920928955078125e-06\n",
      "\u001b[36m(launch_and_fit pid=3690)\u001b[0m classifier.4.weight 1.1920928955078125e-06\n",
      "\u001b[36m(launch_and_fit pid=3690)\u001b[0m classifier.4.bias 9.5367431640625e-07\n",
      "\u001b[36m(launch_and_fit pid=3771)\u001b[0m Run with homomorphic encryption\n",
      "\u001b[36m(launch_and_fit pid=3691)\u001b[0m \tTrain Epoch: 10 \tTrain_loss: 0.4315 | Train_acc: 84.3750 % | Validation_loss: 0.6450 | Validation_acc: 76.3750 %\u001b[32m [repeated 3x across cluster]\u001b[0m\n",
      "\u001b[36m(launch_and_fit pid=3691)\u001b[0m save graph in  results/FL/\n",
      "\u001b[36m(launch_and_fit pid=3691)\u001b[0m classifier.4.bias 9.5367431640625e-07\u001b[32m [repeated 11x across cluster]\u001b[0m\n",
      "\u001b[36m(launch_and_fit pid=3771)\u001b[0m [Client 7, round 5] fit, config: {'learning_rate': 0.003, 'batch_size': '32', 'server_round': 5, 'local_epochs': 10}\n",
      "\u001b[36m(launch_and_fit pid=3771)\u001b[0m Updated model\n"
     ]
    },
    {
     "name": "stderr",
     "output_type": "stream",
     "text": [
      "  0%|\u001b[34m          \u001b[0m| 0/10 [00:00<?, ?it/s]\n",
      "100%|\u001b[34m██████████\u001b[0m| 10/10 [00:42<00:00,  4.21s/it]\n"
     ]
    },
    {
     "name": "stdout",
     "output_type": "stream",
     "text": [
      "\u001b[36m(launch_and_fit pid=3773)\u001b[0m Run with homomorphic encryption\n",
      "\u001b[36m(launch_and_fit pid=3771)\u001b[0m \tTrain Epoch: 1 \tTrain_loss: 1.3082 | Train_acc: 38.7868 % | Validation_loss: 1.4978 | Validation_acc: 21.8125 %\n",
      "\u001b[36m(launch_and_fit pid=3773)\u001b[0m [Client 5, round 5] fit, config: {'learning_rate': 0.003, 'batch_size': '32', 'server_round': 5, 'local_epochs': 10}\n"
     ]
    },
    {
     "name": "stderr",
     "output_type": "stream",
     "text": [
      " 10%|\u001b[34m█         \u001b[0m| 1/10 [00:04<00:41,  4.59s/it]\n"
     ]
    },
    {
     "name": "stdout",
     "output_type": "stream",
     "text": [
      "\u001b[36m(launch_and_fit pid=3773)\u001b[0m \tTrain Epoch: 1 \tTrain_loss: 1.3402 | Train_acc: 32.5368 % | Validation_loss: 1.4703 | Validation_acc: 21.6250 %\n",
      "\u001b[36m(launch_and_fit pid=3773)\u001b[0m Updated model\n"
     ]
    },
    {
     "name": "stderr",
     "output_type": "stream",
     "text": [
      "  0%|\u001b[34m          \u001b[0m| 0/10 [00:00<?, ?it/s]\n"
     ]
    },
    {
     "name": "stdout",
     "output_type": "stream",
     "text": [
      "\u001b[36m(launch_and_fit pid=3771)\u001b[0m \tTrain Epoch: 3 \tTrain_loss: 1.0124 | Train_acc: 60.4779 % | Validation_loss: 0.9507 | Validation_acc: 64.1250 %\u001b[32m [repeated 3x across cluster]\u001b[0m\n"
     ]
    },
    {
     "name": "stderr",
     "output_type": "stream",
     "text": [
      " 30%|\u001b[34m███       \u001b[0m| 3/10 [00:12<00:29,  4.15s/it]\u001b[32m [repeated 4x across cluster]\u001b[0m\n"
     ]
    },
    {
     "name": "stdout",
     "output_type": "stream",
     "text": [
      "\u001b[36m(launch_and_fit pid=3771)\u001b[0m \tTrain Epoch: 5 \tTrain_loss: 0.6920 | Train_acc: 78.4926 % | Validation_loss: 0.8352 | Validation_acc: 71.9375 %\u001b[32m [repeated 4x across cluster]\u001b[0m\n"
     ]
    },
    {
     "name": "stderr",
     "output_type": "stream",
     "text": [
      " 50%|\u001b[34m█████     \u001b[0m| 5/10 [00:20<00:20,  4.07s/it]\u001b[32m [repeated 4x across cluster]\u001b[0m\n"
     ]
    },
    {
     "name": "stdout",
     "output_type": "stream",
     "text": [
      "\u001b[36m(launch_and_fit pid=3771)\u001b[0m \tTrain Epoch: 7 \tTrain_loss: 0.5230 | Train_acc: 91.7279 % | Validation_loss: 0.7748 | Validation_acc: 70.1875 %\u001b[32m [repeated 4x across cluster]\u001b[0m\n"
     ]
    },
    {
     "name": "stderr",
     "output_type": "stream",
     "text": [
      " 70%|\u001b[34m███████   \u001b[0m| 7/10 [00:28<00:12,  4.06s/it]\u001b[32m [repeated 4x across cluster]\u001b[0m\n"
     ]
    },
    {
     "name": "stdout",
     "output_type": "stream",
     "text": [
      "\u001b[36m(launch_and_fit pid=3771)\u001b[0m \tTrain Epoch: 9 \tTrain_loss: 0.4159 | Train_acc: 95.9559 % | Validation_loss: 0.7490 | Validation_acc: 78.6250 %\u001b[32m [repeated 4x across cluster]\u001b[0m\n"
     ]
    },
    {
     "name": "stderr",
     "output_type": "stream",
     "text": [
      " 90%|\u001b[34m█████████ \u001b[0m| 9/10 [00:37<00:04,  4.08s/it]\u001b[32m [repeated 4x across cluster]\u001b[0m\n"
     ]
    },
    {
     "name": "stdout",
     "output_type": "stream",
     "text": [
      "\u001b[36m(launch_and_fit pid=3771)\u001b[0m save graph in  results/FL/\n",
      "\u001b[36m(launch_and_fit pid=3771)\u001b[0m features.0.weight 5.0067901611328125e-06\n",
      "\u001b[36m(launch_and_fit pid=3771)\u001b[0m features.0.bias 1.6689300537109375e-06\n",
      "\u001b[36m(launch_and_fit pid=3771)\u001b[0m features.3.weight 9.5367431640625e-07\n",
      "\u001b[36m(launch_and_fit pid=3771)\u001b[0m features.3.bias 1.1920928955078125e-06\n",
      "\u001b[36m(launch_and_fit pid=3771)\u001b[0m classifier.0.weight 1.1920928955078125e-06\n",
      "\u001b[36m(launch_and_fit pid=3771)\u001b[0m classifier.0.bias 1.430511474609375e-06\n",
      "\u001b[36m(launch_and_fit pid=3771)\u001b[0m classifier.2.weight 9.5367431640625e-07\n",
      "\u001b[36m(launch_and_fit pid=3771)\u001b[0m classifier.2.bias 9.5367431640625e-07\n",
      "\u001b[36m(launch_and_fit pid=3771)\u001b[0m classifier.3.weights 1.430511474609375e-06\n",
      "\u001b[36m(launch_and_fit pid=3771)\u001b[0m classifier.4.weight 9.5367431640625e-07\n",
      "\u001b[36m(launch_and_fit pid=3771)\u001b[0m classifier.4.bias 9.5367431640625e-07\n",
      "\u001b[36m(launch_and_fit pid=3855)\u001b[0m Run with homomorphic encryption\n",
      "\u001b[36m(launch_and_fit pid=3773)\u001b[0m \tTrain Epoch: 10 \tTrain_loss: 0.5320 | Train_acc: 76.2868 % | Validation_loss: 0.7923 | Validation_acc: 61.2500 %\u001b[32m [repeated 3x across cluster]\u001b[0m\n",
      "\u001b[36m(launch_and_fit pid=3773)\u001b[0m save graph in  results/FL/\n",
      "\u001b[36m(launch_and_fit pid=3773)\u001b[0m classifier.4.bias 9.5367431640625e-07\u001b[32m [repeated 11x across cluster]\u001b[0m\n",
      "\u001b[36m(launch_and_fit pid=3855)\u001b[0m [Client 8, round 5] fit, config: {'learning_rate': 0.003, 'batch_size': '32', 'server_round': 5, 'local_epochs': 10}\n",
      "\u001b[36m(launch_and_fit pid=3855)\u001b[0m Updated model\n"
     ]
    },
    {
     "name": "stderr",
     "output_type": "stream",
     "text": [
      "  0%|\u001b[34m          \u001b[0m| 0/10 [00:00<?, ?it/s]\n",
      "100%|\u001b[34m██████████\u001b[0m| 10/10 [00:40<00:00,  4.08s/it]\u001b[32m [repeated 3x across cluster]\u001b[0m\n"
     ]
    },
    {
     "name": "stdout",
     "output_type": "stream",
     "text": [
      "\u001b[36m(launch_and_fit pid=3853)\u001b[0m Run with homomorphic encryption\n",
      "\u001b[36m(launch_and_fit pid=3855)\u001b[0m \tTrain Epoch: 1 \tTrain_loss: 1.3074 | Train_acc: 36.3971 % | Validation_loss: 1.3335 | Validation_acc: 35.1875 %\n",
      "\u001b[36m(launch_and_fit pid=3853)\u001b[0m [Client 2, round 5] fit, config: {'learning_rate': 0.003, 'batch_size': '32', 'server_round': 5, 'local_epochs': 10}\n",
      "\u001b[36m(launch_and_fit pid=3853)\u001b[0m \tTrain Epoch: 1 \tTrain_loss: 1.3960 | Train_acc: 25.0000 % | Validation_loss: 1.3706 | Validation_acc: 26.7500 %\n",
      "\u001b[36m(launch_and_fit pid=3853)\u001b[0m Updated model\n"
     ]
    },
    {
     "name": "stderr",
     "output_type": "stream",
     "text": [
      "  0%|\u001b[34m          \u001b[0m| 0/10 [00:00<?, ?it/s]\n",
      " 20%|\u001b[34m██        \u001b[0m| 2/10 [00:08<00:34,  4.37s/it]\u001b[32m [repeated 3x across cluster]\u001b[0m\n"
     ]
    },
    {
     "name": "stdout",
     "output_type": "stream",
     "text": [
      "\u001b[36m(launch_and_fit pid=3855)\u001b[0m \tTrain Epoch: 3 \tTrain_loss: 1.0124 | Train_acc: 61.5809 % | Validation_loss: 0.9870 | Validation_acc: 60.1250 %\u001b[32m [repeated 3x across cluster]\u001b[0m\n"
     ]
    },
    {
     "name": "stderr",
     "output_type": "stream",
     "text": [
      " 40%|\u001b[34m████      \u001b[0m| 4/10 [00:17<00:25,  4.22s/it]\u001b[32m [repeated 4x across cluster]\u001b[0m\n"
     ]
    },
    {
     "name": "stdout",
     "output_type": "stream",
     "text": [
      "\u001b[36m(launch_and_fit pid=3855)\u001b[0m \tTrain Epoch: 5 \tTrain_loss: 0.6207 | Train_acc: 77.2059 % | Validation_loss: 0.8272 | Validation_acc: 67.6875 %\u001b[32m [repeated 4x across cluster]\u001b[0m\n"
     ]
    },
    {
     "name": "stderr",
     "output_type": "stream",
     "text": [
      " 60%|\u001b[34m██████    \u001b[0m| 6/10 [00:25<00:16,  4.11s/it]\u001b[32m [repeated 4x across cluster]\u001b[0m\n"
     ]
    },
    {
     "name": "stdout",
     "output_type": "stream",
     "text": [
      "\u001b[36m(launch_and_fit pid=3855)\u001b[0m \tTrain Epoch: 7 \tTrain_loss: 0.7473 | Train_acc: 70.9559 % | Validation_loss: 0.7826 | Validation_acc: 66.8125 %\u001b[32m [repeated 4x across cluster]\u001b[0m\n"
     ]
    },
    {
     "name": "stderr",
     "output_type": "stream",
     "text": [
      " 80%|\u001b[34m████████  \u001b[0m| 8/10 [00:33<00:08,  4.07s/it]\u001b[32m [repeated 4x across cluster]\u001b[0m\n"
     ]
    },
    {
     "name": "stdout",
     "output_type": "stream",
     "text": [
      "\u001b[36m(launch_and_fit pid=3855)\u001b[0m \tTrain Epoch: 9 \tTrain_loss: 0.5288 | Train_acc: 76.6544 % | Validation_loss: 0.7589 | Validation_acc: 69.2500 %\u001b[32m [repeated 4x across cluster]\u001b[0m\n",
      "\u001b[36m(launch_and_fit pid=3855)\u001b[0m save graph in  results/FL/\n"
     ]
    },
    {
     "name": "stderr",
     "output_type": "stream",
     "text": [
      "100%|\u001b[34m██████████\u001b[0m| 10/10 [00:41<00:00,  4.18s/it]\u001b[32m [repeated 4x across cluster]\u001b[0m\n"
     ]
    },
    {
     "name": "stdout",
     "output_type": "stream",
     "text": [
      "\u001b[36m(launch_and_fit pid=3855)\u001b[0m features.0.weight 4.76837158203125e-06\n",
      "\u001b[36m(launch_and_fit pid=3855)\u001b[0m features.0.bias 1.430511474609375e-06\n",
      "\u001b[36m(launch_and_fit pid=3855)\u001b[0m features.3.weight 9.5367431640625e-07\n",
      "\u001b[36m(launch_and_fit pid=3855)\u001b[0m features.3.bias 1.1920928955078125e-06\n",
      "\u001b[36m(launch_and_fit pid=3855)\u001b[0m classifier.0.weight 9.5367431640625e-07\n",
      "\u001b[36m(launch_and_fit pid=3855)\u001b[0m classifier.0.bias 9.5367431640625e-07\n",
      "\u001b[36m(launch_and_fit pid=3855)\u001b[0m classifier.2.weight 1.1920928955078125e-06\n",
      "\u001b[36m(launch_and_fit pid=3855)\u001b[0m classifier.2.bias 9.5367431640625e-07\n",
      "\u001b[36m(launch_and_fit pid=3855)\u001b[0m classifier.3.weights 9.5367431640625e-07\n",
      "\u001b[36m(launch_and_fit pid=3855)\u001b[0m classifier.4.weight 9.5367431640625e-07\n",
      "\u001b[36m(launch_and_fit pid=3855)\u001b[0m classifier.4.bias 9.5367431640625e-07\n",
      "\u001b[36m(launch_and_fit pid=3935)\u001b[0m Run with homomorphic encryption\n",
      "\u001b[36m(launch_and_fit pid=3853)\u001b[0m \tTrain Epoch: 10 \tTrain_loss: 0.4704 | Train_acc: 78.3088 % | Validation_loss: 0.7720 | Validation_acc: 67.9375 %\u001b[32m [repeated 3x across cluster]\u001b[0m\n",
      "\u001b[36m(launch_and_fit pid=3853)\u001b[0m save graph in  results/FL/\n",
      "\u001b[36m(launch_and_fit pid=3853)\u001b[0m classifier.4.bias 2.1457672119140625e-06\u001b[32m [repeated 11x across cluster]\u001b[0m\n",
      "\u001b[36m(launch_and_fit pid=3935)\u001b[0m [Client 0, round 5] fit, config: {'learning_rate': 0.003, 'batch_size': '32', 'server_round': 5, 'local_epochs': 10}\n"
     ]
    },
    {
     "name": "stderr",
     "output_type": "stream",
     "text": [
      "  0%|\u001b[34m          \u001b[0m| 0/10 [00:00<?, ?it/s]\n",
      "100%|\u001b[34m██████████\u001b[0m| 10/10 [00:41<00:00,  4.19s/it]\n"
     ]
    },
    {
     "name": "stdout",
     "output_type": "stream",
     "text": [
      "\u001b[36m(launch_and_fit pid=3935)\u001b[0m Updated model\n"
     ]
    },
    {
     "name": "stderr",
     "output_type": "stream",
     "text": [
      " 10%|\u001b[34m█         \u001b[0m| 1/10 [00:04<00:40,  4.53s/it]\n"
     ]
    },
    {
     "name": "stdout",
     "output_type": "stream",
     "text": [
      "\u001b[36m(launch_and_fit pid=3937)\u001b[0m Run with homomorphic encryption\n",
      "\u001b[36m(launch_and_fit pid=3935)\u001b[0m \tTrain Epoch: 1 \tTrain_loss: 1.2621 | Train_acc: 38.0515 % | Validation_loss: 1.2585 | Validation_acc: 37.1875 %\n",
      "\u001b[36m(launch_and_fit pid=3937)\u001b[0m [Client 9, round 5] fit, config: {'learning_rate': 0.003, 'batch_size': '32', 'server_round': 5, 'local_epochs': 10}\n",
      "\u001b[36m(launch_and_fit pid=3937)\u001b[0m \tTrain Epoch: 1 \tTrain_loss: 1.3186 | Train_acc: 35.1103 % | Validation_loss: 1.2564 | Validation_acc: 39.4375 %\n"
     ]
    },
    {
     "name": "stderr",
     "output_type": "stream",
     "text": [
      "  0%|\u001b[34m          \u001b[0m| 0/10 [00:00<?, ?it/s]\n"
     ]
    },
    {
     "name": "stdout",
     "output_type": "stream",
     "text": [
      "\u001b[36m(launch_and_fit pid=3937)\u001b[0m Updated model\n"
     ]
    },
    {
     "name": "stderr",
     "output_type": "stream",
     "text": [
      " 30%|\u001b[34m███       \u001b[0m| 3/10 [00:13<00:30,  4.35s/it]\u001b[32m [repeated 4x across cluster]\u001b[0m\n"
     ]
    },
    {
     "name": "stdout",
     "output_type": "stream",
     "text": [
      "\u001b[36m(launch_and_fit pid=3935)\u001b[0m \tTrain Epoch: 3 \tTrain_loss: 0.9549 | Train_acc: 67.4632 % | Validation_loss: 0.8451 | Validation_acc: 69.9375 %\u001b[32m [repeated 3x across cluster]\u001b[0m\n"
     ]
    },
    {
     "name": "stderr",
     "output_type": "stream",
     "text": [
      " 50%|\u001b[34m█████     \u001b[0m| 5/10 [00:21<00:20,  4.18s/it]\u001b[32m [repeated 4x across cluster]\u001b[0m\n"
     ]
    },
    {
     "name": "stdout",
     "output_type": "stream",
     "text": [
      "\u001b[36m(launch_and_fit pid=3935)\u001b[0m \tTrain Epoch: 5 \tTrain_loss: 0.6946 | Train_acc: 71.6912 % | Validation_loss: 0.7860 | Validation_acc: 71.9375 %\u001b[32m [repeated 4x across cluster]\u001b[0m\n"
     ]
    },
    {
     "name": "stderr",
     "output_type": "stream",
     "text": [
      " 70%|\u001b[34m███████   \u001b[0m| 7/10 [00:29<00:12,  4.13s/it]\u001b[32m [repeated 4x across cluster]\u001b[0m\n"
     ]
    },
    {
     "name": "stdout",
     "output_type": "stream",
     "text": [
      "\u001b[36m(launch_and_fit pid=3935)\u001b[0m \tTrain Epoch: 7 \tTrain_loss: 0.5736 | Train_acc: 77.3897 % | Validation_loss: 0.9335 | Validation_acc: 57.2500 %\u001b[32m [repeated 4x across cluster]\u001b[0m\n"
     ]
    },
    {
     "name": "stderr",
     "output_type": "stream",
     "text": [
      " 90%|\u001b[34m█████████ \u001b[0m| 9/10 [00:37<00:04,  4.07s/it]\u001b[32m [repeated 4x across cluster]\u001b[0m\n"
     ]
    },
    {
     "name": "stdout",
     "output_type": "stream",
     "text": [
      "\u001b[36m(launch_and_fit pid=3935)\u001b[0m \tTrain Epoch: 9 \tTrain_loss: 0.4967 | Train_acc: 78.4926 % | Validation_loss: 0.5923 | Validation_acc: 73.0625 %\u001b[32m [repeated 4x across cluster]\u001b[0m\n",
      "\u001b[36m(launch_and_fit pid=3935)\u001b[0m save graph in  results/FL/\n",
      "\u001b[36m(launch_and_fit pid=3935)\u001b[0m features.0.weight 5.0067901611328125e-06\n",
      "\u001b[36m(launch_and_fit pid=3935)\u001b[0m features.0.bias 1.1920928955078125e-06\n",
      "\u001b[36m(launch_and_fit pid=3935)\u001b[0m features.3.weight 1.430511474609375e-06\n",
      "\u001b[36m(launch_and_fit pid=3935)\u001b[0m features.3.bias 9.5367431640625e-07\n",
      "\u001b[36m(launch_and_fit pid=3935)\u001b[0m classifier.0.weight 9.5367431640625e-07\n",
      "\u001b[36m(launch_and_fit pid=3935)\u001b[0m classifier.0.bias 9.5367431640625e-07\n",
      "\u001b[36m(launch_and_fit pid=3935)\u001b[0m classifier.2.weight 9.5367431640625e-07\n",
      "\u001b[36m(launch_and_fit pid=3935)\u001b[0m classifier.2.bias 1.1920928955078125e-06\n",
      "\u001b[36m(launch_and_fit pid=3935)\u001b[0m classifier.3.weights 1.1920928955078125e-06\n",
      "\u001b[36m(launch_and_fit pid=3935)\u001b[0m classifier.4.weight 9.5367431640625e-07\n",
      "\u001b[36m(launch_and_fit pid=3935)\u001b[0m classifier.4.bias 9.5367431640625e-07\n",
      "\u001b[36m(launch_and_fit pid=3937)\u001b[0m \tTrain Epoch: 10 \tTrain_loss: 0.3751 | Train_acc: 97.4265 % | Validation_loss: 0.8664 | Validation_acc: 65.0000 %\u001b[32m [repeated 3x across cluster]\u001b[0m\n",
      "\u001b[36m(launch_and_fit pid=4017)\u001b[0m Run with homomorphic encryption\n",
      "\u001b[36m(launch_and_fit pid=3937)\u001b[0m save graph in  results/FL/\n",
      "\u001b[36m(launch_and_fit pid=3937)\u001b[0m classifier.4.bias 1.430511474609375e-06\u001b[32m [repeated 11x across cluster]\u001b[0m\n",
      "\u001b[36m(launch_and_fit pid=4017)\u001b[0m [Client 1, round 5] fit, config: {'learning_rate': 0.003, 'batch_size': '32', 'server_round': 5, 'local_epochs': 10}\n"
     ]
    },
    {
     "name": "stderr",
     "output_type": "stream",
     "text": [
      "  0%|\u001b[34m          \u001b[0m| 0/10 [00:00<?, ?it/s]\n",
      "100%|\u001b[34m██████████\u001b[0m| 10/10 [00:41<00:00,  4.16s/it]\u001b[32m [repeated 3x across cluster]\u001b[0m\n"
     ]
    },
    {
     "name": "stdout",
     "output_type": "stream",
     "text": [
      "\u001b[36m(launch_and_fit pid=4017)\u001b[0m Updated model\n",
      "\u001b[36m(launch_and_fit pid=4017)\u001b[0m \tTrain Epoch: 1 \tTrain_loss: 1.3419 | Train_acc: 34.5588 % | Validation_loss: 1.3336 | Validation_acc: 24.5000 %\n",
      "\u001b[36m(launch_and_fit pid=4019)\u001b[0m Run with homomorphic encryption\n",
      "\u001b[36m(launch_and_fit pid=4019)\u001b[0m [Client 4, round 5] fit, config: {'learning_rate': 0.003, 'batch_size': '32', 'server_round': 5, 'local_epochs': 10}\n"
     ]
    },
    {
     "name": "stderr",
     "output_type": "stream",
     "text": [
      "  0%|\u001b[34m          \u001b[0m| 0/10 [00:00<?, ?it/s]\n",
      " 10%|\u001b[34m█         \u001b[0m| 1/10 [00:04<00:41,  4.61s/it]\u001b[32m [repeated 2x across cluster]\u001b[0m\n"
     ]
    },
    {
     "name": "stdout",
     "output_type": "stream",
     "text": [
      "\u001b[36m(launch_and_fit pid=4019)\u001b[0m Updated model\n"
     ]
    },
    {
     "name": "stderr",
     "output_type": "stream",
     "text": [
      " 30%|\u001b[34m███       \u001b[0m| 3/10 [00:12<00:29,  4.21s/it]\u001b[32m [repeated 3x across cluster]\u001b[0m\n"
     ]
    },
    {
     "name": "stdout",
     "output_type": "stream",
     "text": [
      "\u001b[36m(launch_and_fit pid=4017)\u001b[0m \tTrain Epoch: 3 \tTrain_loss: 0.9522 | Train_acc: 66.7279 % | Validation_loss: 0.8764 | Validation_acc: 68.3750 %\u001b[32m [repeated 4x across cluster]\u001b[0m\n"
     ]
    },
    {
     "name": "stderr",
     "output_type": "stream",
     "text": [
      " 50%|\u001b[34m█████     \u001b[0m| 5/10 [00:21<00:20,  4.18s/it]\u001b[32m [repeated 4x across cluster]\u001b[0m\n"
     ]
    },
    {
     "name": "stdout",
     "output_type": "stream",
     "text": [
      "\u001b[36m(launch_and_fit pid=4017)\u001b[0m \tTrain Epoch: 5 \tTrain_loss: 0.7513 | Train_acc: 72.6103 % | Validation_loss: 0.8053 | Validation_acc: 70.8125 %\u001b[32m [repeated 4x across cluster]\u001b[0m\n"
     ]
    },
    {
     "name": "stderr",
     "output_type": "stream",
     "text": [
      " 70%|\u001b[34m███████   \u001b[0m| 7/10 [00:29<00:12,  4.13s/it]\u001b[32m [repeated 4x across cluster]\u001b[0m\n"
     ]
    },
    {
     "name": "stdout",
     "output_type": "stream",
     "text": [
      "\u001b[36m(launch_and_fit pid=4017)\u001b[0m \tTrain Epoch: 7 \tTrain_loss: 0.6020 | Train_acc: 78.3088 % | Validation_loss: 0.7299 | Validation_acc: 68.8125 %\u001b[32m [repeated 4x across cluster]\u001b[0m\n"
     ]
    },
    {
     "name": "stderr",
     "output_type": "stream",
     "text": [
      " 90%|\u001b[34m█████████ \u001b[0m| 9/10 [00:37<00:04,  4.13s/it]\u001b[32m [repeated 4x across cluster]\u001b[0m\n"
     ]
    },
    {
     "name": "stdout",
     "output_type": "stream",
     "text": [
      "\u001b[36m(launch_and_fit pid=4017)\u001b[0m \tTrain Epoch: 9 \tTrain_loss: 0.4552 | Train_acc: 79.4118 % | Validation_loss: 0.6956 | Validation_acc: 67.2500 %\u001b[32m [repeated 4x across cluster]\u001b[0m\n",
      "\u001b[36m(launch_and_fit pid=4017)\u001b[0m save graph in  results/FL/\n",
      "\u001b[36m(launch_and_fit pid=4017)\u001b[0m features.0.weight 5.7220458984375e-06\n",
      "\u001b[36m(launch_and_fit pid=4017)\u001b[0m features.0.bias 1.430511474609375e-06\n",
      "\u001b[36m(launch_and_fit pid=4017)\u001b[0m features.3.weight 1.1920928955078125e-06\n",
      "\u001b[36m(launch_and_fit pid=4017)\u001b[0m features.3.bias 1.1920928955078125e-06\n",
      "\u001b[36m(launch_and_fit pid=4017)\u001b[0m classifier.0.weight 9.5367431640625e-07\n",
      "\u001b[36m(launch_and_fit pid=4017)\u001b[0m classifier.0.bias 9.5367431640625e-07\n",
      "\u001b[36m(launch_and_fit pid=4017)\u001b[0m classifier.2.weight 1.430511474609375e-06\n",
      "\u001b[36m(launch_and_fit pid=4017)\u001b[0m classifier.2.bias 3.0994415283203125e-06\n",
      "\u001b[36m(launch_and_fit pid=4017)\u001b[0m classifier.3.weights 1.6689300537109375e-06\n",
      "\u001b[36m(launch_and_fit pid=4017)\u001b[0m classifier.4.weight 1.6689300537109375e-06\n",
      "\u001b[36m(launch_and_fit pid=4017)\u001b[0m classifier.4.bias 1.9073486328125e-06\n",
      "\u001b[36m(launch_and_fit pid=4019)\u001b[0m \tTrain Epoch: 10 \tTrain_loss: 0.4350 | Train_acc: 93.9338 % | Validation_loss: 0.5703 | Validation_acc: 83.0625 %\u001b[32m [repeated 3x across cluster]\u001b[0m\n"
     ]
    },
    {
     "name": "stderr",
     "output_type": "stream",
     "text": [
      "DEBUG flwr 2024-07-21 02:58:17,356 | server.py:236 | fit_round 5 received 10 results and 0 failures\n"
     ]
    },
    {
     "name": "stdout",
     "output_type": "stream",
     "text": [
      "Saving round 5 aggregated_parameters...\n"
     ]
    },
    {
     "name": "stderr",
     "output_type": "stream",
     "text": [
      "DEBUG flwr 2024-07-21 02:58:19,312 | server.py:173 | evaluate_round 5: strategy sampled 10 clients (out of 10)\n"
     ]
    },
    {
     "name": "stdout",
     "output_type": "stream",
     "text": [
      "\u001b[36m(launch_and_evaluate pid=4110)\u001b[0m Run with homomorphic encryption\n",
      "\u001b[36m(launch_and_fit pid=4019)\u001b[0m save graph in  results/FL/\n",
      "\u001b[36m(launch_and_fit pid=4019)\u001b[0m classifier.4.bias 1.1920928955078125e-06\u001b[32m [repeated 11x across cluster]\u001b[0m\n",
      "\u001b[36m(launch_and_evaluate pid=4110)\u001b[0m [Client 0] evaluate, config: {}\n",
      "\u001b[36m(launch_and_evaluate pid=4110)\u001b[0m Updated model\n",
      "\u001b[36m(launch_and_evaluate pid=4190)\u001b[0m Run with homomorphic encryption\u001b[32m [repeated 2x across cluster]\u001b[0m\n",
      "\u001b[36m(launch_and_evaluate pid=4111)\u001b[0m [Client 8] evaluate, config: {}\n",
      "\u001b[36m(launch_and_evaluate pid=4111)\u001b[0m Updated model\n",
      "\u001b[36m(launch_and_evaluate pid=4190)\u001b[0m [Client 9] evaluate, config: {}\n",
      "\u001b[36m(launch_and_evaluate pid=4190)\u001b[0m Updated model\n",
      "\u001b[36m(launch_and_evaluate pid=4268)\u001b[0m Run with homomorphic encryption\u001b[32m [repeated 2x across cluster]\u001b[0m\n",
      "\u001b[36m(launch_and_evaluate pid=4192)\u001b[0m [Client 6] evaluate, config: {}\n",
      "\u001b[36m(launch_and_evaluate pid=4192)\u001b[0m Updated model\n",
      "\u001b[36m(launch_and_evaluate pid=4268)\u001b[0m [Client 1] evaluate, config: {}\n",
      "\u001b[36m(launch_and_evaluate pid=4268)\u001b[0m Updated model\n",
      "\u001b[36m(launch_and_evaluate pid=4348)\u001b[0m Run with homomorphic encryption\u001b[32m [repeated 2x across cluster]\u001b[0m\n",
      "\u001b[36m(launch_and_evaluate pid=4270)\u001b[0m [Client 5] evaluate, config: {}\n",
      "\u001b[36m(launch_and_evaluate pid=4270)\u001b[0m Updated model\n",
      "\u001b[36m(launch_and_evaluate pid=4348)\u001b[0m [Client 2] evaluate, config: {}\n",
      "\u001b[36m(launch_and_evaluate pid=4348)\u001b[0m Updated model\n",
      "\u001b[36m(launch_and_evaluate pid=4426)\u001b[0m Run with homomorphic encryption\u001b[32m [repeated 2x across cluster]\u001b[0m\n",
      "\u001b[36m(launch_and_evaluate pid=4346)\u001b[0m [Client 4] evaluate, config: {}\n",
      "\u001b[36m(launch_and_evaluate pid=4346)\u001b[0m Updated model\n",
      "\u001b[36m(launch_and_evaluate pid=4426)\u001b[0m [Client 7] evaluate, config: {}\n",
      "\u001b[36m(launch_and_evaluate pid=4426)\u001b[0m Updated model\n"
     ]
    },
    {
     "name": "stderr",
     "output_type": "stream",
     "text": [
      "DEBUG flwr 2024-07-21 02:59:37,264 | server.py:187 | evaluate_round 5 received 10 results and 0 failures\n",
      "DEBUG flwr 2024-07-21 02:59:37,265 | server.py:222 | fit_round 6: strategy sampled 10 clients (out of 10)\n"
     ]
    },
    {
     "name": "stdout",
     "output_type": "stream",
     "text": [
      "\u001b[36m(launch_and_fit pid=4511)\u001b[0m Run with homomorphic encryption\u001b[32m [repeated 2x across cluster]\u001b[0m\n",
      "\u001b[36m(launch_and_evaluate pid=4425)\u001b[0m [Client 3] evaluate, config: {}\n",
      "\u001b[36m(launch_and_evaluate pid=4425)\u001b[0m Updated model\n",
      "\u001b[36m(launch_and_fit pid=4511)\u001b[0m [Client 7, round 6] fit, config: {'learning_rate': 0.003, 'batch_size': '32', 'server_round': 6, 'local_epochs': 10}\n",
      "\u001b[36m(launch_and_fit pid=4511)\u001b[0m Updated model\n"
     ]
    },
    {
     "name": "stderr",
     "output_type": "stream",
     "text": [
      "  0%|\u001b[34m          \u001b[0m| 0/10 [00:00<?, ?it/s]\n",
      "100%|\u001b[34m██████████\u001b[0m| 10/10 [00:41<00:00,  4.15s/it]\u001b[32m [repeated 3x across cluster]\u001b[0m\n"
     ]
    },
    {
     "name": "stdout",
     "output_type": "stream",
     "text": [
      "\u001b[36m(launch_and_fit pid=4511)\u001b[0m \tTrain Epoch: 1 \tTrain_loss: 1.3489 | Train_acc: 36.9485 % | Validation_loss: 1.1266 | Validation_acc: 47.8750 %\n",
      "\u001b[36m(launch_and_fit pid=4512)\u001b[0m Run with homomorphic encryption\n",
      "\u001b[36m(launch_and_fit pid=4512)\u001b[0m [Client 4, round 6] fit, config: {'learning_rate': 0.003, 'batch_size': '32', 'server_round': 6, 'local_epochs': 10}\n",
      "\u001b[36m(launch_and_fit pid=4512)\u001b[0m Updated model\n"
     ]
    },
    {
     "name": "stderr",
     "output_type": "stream",
     "text": [
      "  0%|\u001b[34m          \u001b[0m| 0/10 [00:00<?, ?it/s]\n",
      " 20%|\u001b[34m██        \u001b[0m| 2/10 [00:08<00:33,  4.15s/it]\u001b[32m [repeated 3x across cluster]\u001b[0m\n"
     ]
    },
    {
     "name": "stdout",
     "output_type": "stream",
     "text": [
      "\u001b[36m(launch_and_fit pid=4511)\u001b[0m \tTrain Epoch: 3 \tTrain_loss: 0.5905 | Train_acc: 75.1838 % | Validation_loss: 0.8077 | Validation_acc: 70.8125 %\u001b[32m [repeated 4x across cluster]\u001b[0m\n"
     ]
    },
    {
     "name": "stderr",
     "output_type": "stream",
     "text": [
      " 40%|\u001b[34m████      \u001b[0m| 4/10 [00:16<00:24,  4.05s/it]\u001b[32m [repeated 4x across cluster]\u001b[0m\n"
     ]
    },
    {
     "name": "stdout",
     "output_type": "stream",
     "text": [
      "\u001b[36m(launch_and_fit pid=4511)\u001b[0m \tTrain Epoch: 5 \tTrain_loss: 0.4285 | Train_acc: 75.9191 % | Validation_loss: 0.7257 | Validation_acc: 72.3750 %\u001b[32m [repeated 4x across cluster]\u001b[0m\n"
     ]
    },
    {
     "name": "stderr",
     "output_type": "stream",
     "text": [
      " 60%|\u001b[34m██████    \u001b[0m| 6/10 [00:24<00:16,  4.03s/it]\u001b[32m [repeated 4x across cluster]\u001b[0m\n"
     ]
    },
    {
     "name": "stdout",
     "output_type": "stream",
     "text": [
      "\u001b[36m(launch_and_fit pid=4511)\u001b[0m \tTrain Epoch: 7 \tTrain_loss: 0.3969 | Train_acc: 76.4706 % | Validation_loss: 0.6868 | Validation_acc: 76.3750 %\u001b[32m [repeated 4x across cluster]\u001b[0m\n"
     ]
    },
    {
     "name": "stderr",
     "output_type": "stream",
     "text": [
      " 80%|\u001b[34m████████  \u001b[0m| 8/10 [00:32<00:08,  4.03s/it]\u001b[32m [repeated 4x across cluster]\u001b[0m\n"
     ]
    },
    {
     "name": "stdout",
     "output_type": "stream",
     "text": [
      "\u001b[36m(launch_and_fit pid=4511)\u001b[0m \tTrain Epoch: 9 \tTrain_loss: 0.3696 | Train_acc: 79.4118 % | Validation_loss: 0.6977 | Validation_acc: 76.3750 %\u001b[32m [repeated 4x across cluster]\u001b[0m\n",
      "\u001b[36m(launch_and_fit pid=4511)\u001b[0m save graph in  results/FL/\n"
     ]
    },
    {
     "name": "stderr",
     "output_type": "stream",
     "text": [
      "100%|\u001b[34m██████████\u001b[0m| 10/10 [00:40<00:00,  4.04s/it]\u001b[32m [repeated 4x across cluster]\u001b[0m\n"
     ]
    },
    {
     "name": "stdout",
     "output_type": "stream",
     "text": [
      "\u001b[36m(launch_and_fit pid=4511)\u001b[0m features.0.weight 6.67572021484375e-06\n",
      "\u001b[36m(launch_and_fit pid=4511)\u001b[0m features.0.bias 1.9073486328125e-06\n",
      "\u001b[36m(launch_and_fit pid=4511)\u001b[0m features.3.weight 1.430511474609375e-06\n",
      "\u001b[36m(launch_and_fit pid=4511)\u001b[0m features.3.bias 1.1920928955078125e-06\n",
      "\u001b[36m(launch_and_fit pid=4511)\u001b[0m classifier.0.weight 1.430511474609375e-06\n",
      "\u001b[36m(launch_and_fit pid=4511)\u001b[0m classifier.0.bias 1.430511474609375e-06\n",
      "\u001b[36m(launch_and_fit pid=4511)\u001b[0m classifier.2.weight 1.6689300537109375e-06\n",
      "\u001b[36m(launch_and_fit pid=4511)\u001b[0m classifier.2.bias 1.1920928955078125e-06\n",
      "\u001b[36m(launch_and_fit pid=4511)\u001b[0m classifier.3.weights 1.6689300537109375e-06\n",
      "\u001b[36m(launch_and_fit pid=4511)\u001b[0m classifier.4.weight 1.430511474609375e-06\n",
      "\u001b[36m(launch_and_fit pid=4511)\u001b[0m classifier.4.bias 1.430511474609375e-06\n",
      "\u001b[36m(launch_and_fit pid=4512)\u001b[0m \tTrain Epoch: 10 \tTrain_loss: 0.3315 | Train_acc: 86.0294 % | Validation_loss: 0.4472 | Validation_acc: 87.7500 %\u001b[32m [repeated 3x across cluster]\u001b[0m\n",
      "\u001b[36m(launch_and_fit pid=4592)\u001b[0m Run with homomorphic encryption\n",
      "\u001b[36m(launch_and_fit pid=4512)\u001b[0m save graph in  results/FL/\n",
      "\u001b[36m(launch_and_fit pid=4512)\u001b[0m classifier.4.bias 9.5367431640625e-07\u001b[32m [repeated 11x across cluster]\u001b[0m\n",
      "\u001b[36m(launch_and_fit pid=4592)\u001b[0m [Client 9, round 6] fit, config: {'learning_rate': 0.003, 'batch_size': '32', 'server_round': 6, 'local_epochs': 10}\n"
     ]
    },
    {
     "name": "stderr",
     "output_type": "stream",
     "text": [
      "  0%|\u001b[34m          \u001b[0m| 0/10 [00:00<?, ?it/s]\n",
      "100%|\u001b[34m██████████\u001b[0m| 10/10 [00:40<00:00,  4.10s/it]\n"
     ]
    },
    {
     "name": "stdout",
     "output_type": "stream",
     "text": [
      "\u001b[36m(launch_and_fit pid=4592)\u001b[0m Updated model\n"
     ]
    },
    {
     "name": "stderr",
     "output_type": "stream",
     "text": [
      " 10%|\u001b[34m█         \u001b[0m| 1/10 [00:04<00:42,  4.68s/it]\n"
     ]
    },
    {
     "name": "stdout",
     "output_type": "stream",
     "text": [
      "\u001b[36m(launch_and_fit pid=4592)\u001b[0m \tTrain Epoch: 1 \tTrain_loss: 1.3188 | Train_acc: 40.2574 % | Validation_loss: 1.2207 | Validation_acc: 41.8750 %\n",
      "\u001b[36m(launch_and_fit pid=4617)\u001b[0m Run with homomorphic encryption\n",
      "\u001b[36m(launch_and_fit pid=4617)\u001b[0m [Client 5, round 6] fit, config: {'learning_rate': 0.003, 'batch_size': '32', 'server_round': 6, 'local_epochs': 10}\n"
     ]
    },
    {
     "name": "stderr",
     "output_type": "stream",
     "text": [
      "  0%|\u001b[34m          \u001b[0m| 0/10 [00:00<?, ?it/s]\n"
     ]
    },
    {
     "name": "stdout",
     "output_type": "stream",
     "text": [
      "\u001b[36m(launch_and_fit pid=4617)\u001b[0m Updated model\n"
     ]
    },
    {
     "name": "stderr",
     "output_type": "stream",
     "text": [
      " 30%|\u001b[34m███       \u001b[0m| 3/10 [00:12<00:29,  4.20s/it]\u001b[32m [repeated 4x across cluster]\u001b[0m\n"
     ]
    },
    {
     "name": "stdout",
     "output_type": "stream",
     "text": [
      "\u001b[36m(launch_and_fit pid=4592)\u001b[0m \tTrain Epoch: 3 \tTrain_loss: 0.6654 | Train_acc: 70.2206 % | Validation_loss: 0.8113 | Validation_acc: 62.8125 %\u001b[32m [repeated 4x across cluster]\u001b[0m\n"
     ]
    },
    {
     "name": "stderr",
     "output_type": "stream",
     "text": [
      " 50%|\u001b[34m█████     \u001b[0m| 5/10 [00:21<00:20,  4.18s/it]\u001b[32m [repeated 4x across cluster]\u001b[0m\n"
     ]
    },
    {
     "name": "stdout",
     "output_type": "stream",
     "text": [
      "\u001b[36m(launch_and_fit pid=4592)\u001b[0m \tTrain Epoch: 5 \tTrain_loss: 0.4385 | Train_acc: 80.5147 % | Validation_loss: 0.7755 | Validation_acc: 58.1250 %\u001b[32m [repeated 4x across cluster]\u001b[0m\n"
     ]
    },
    {
     "name": "stderr",
     "output_type": "stream",
     "text": [
      " 70%|\u001b[34m███████   \u001b[0m| 7/10 [00:29<00:12,  4.14s/it]\u001b[32m [repeated 4x across cluster]\u001b[0m\n"
     ]
    },
    {
     "name": "stdout",
     "output_type": "stream",
     "text": [
      "\u001b[36m(launch_and_fit pid=4592)\u001b[0m \tTrain Epoch: 7 \tTrain_loss: 0.4001 | Train_acc: 88.9706 % | Validation_loss: 0.8103 | Validation_acc: 58.5625 %\u001b[32m [repeated 4x across cluster]\u001b[0m\n",
      "\u001b[36m(launch_and_fit pid=4617)\u001b[0m \tTrain Epoch: 9 \tTrain_loss: 0.3617 | Train_acc: 89.8897 % | Validation_loss: 0.8292 | Validation_acc: 58.5625 %\u001b[32m [repeated 4x across cluster]\u001b[0m\n"
     ]
    },
    {
     "name": "stderr",
     "output_type": "stream",
     "text": [
      " 90%|\u001b[34m█████████ \u001b[0m| 9/10 [00:37<00:04,  4.08s/it]\u001b[32m [repeated 4x across cluster]\u001b[0m\n"
     ]
    },
    {
     "name": "stdout",
     "output_type": "stream",
     "text": [
      "\u001b[36m(launch_and_fit pid=4617)\u001b[0m save graph in  results/FL/\n",
      "\u001b[36m(launch_and_fit pid=4617)\u001b[0m features.0.weight 5.9604644775390625e-06\n",
      "\u001b[36m(launch_and_fit pid=4617)\u001b[0m features.0.bias 1.6689300537109375e-06\n",
      "\u001b[36m(launch_and_fit pid=4617)\u001b[0m features.3.weight 9.5367431640625e-07\n",
      "\u001b[36m(launch_and_fit pid=4617)\u001b[0m features.3.bias 9.5367431640625e-07\n",
      "\u001b[36m(launch_and_fit pid=4617)\u001b[0m classifier.0.weight 1.430511474609375e-06\n",
      "\u001b[36m(launch_and_fit pid=4617)\u001b[0m classifier.0.bias 9.5367431640625e-07\n",
      "\u001b[36m(launch_and_fit pid=4617)\u001b[0m classifier.2.weight 1.1920928955078125e-06\n",
      "\u001b[36m(launch_and_fit pid=4617)\u001b[0m classifier.2.bias 9.5367431640625e-07\n",
      "\u001b[36m(launch_and_fit pid=4617)\u001b[0m classifier.3.weights 1.1920928955078125e-06\n",
      "\u001b[36m(launch_and_fit pid=4617)\u001b[0m classifier.4.weight 1.430511474609375e-06\n",
      "\u001b[36m(launch_and_fit pid=4617)\u001b[0m classifier.4.bias 1.1920928955078125e-06\n",
      "\u001b[36m(launch_and_fit pid=4676)\u001b[0m Run with homomorphic encryption\n",
      "\u001b[36m(launch_and_fit pid=4592)\u001b[0m \tTrain Epoch: 10 \tTrain_loss: 0.3536 | Train_acc: 86.7647 % | Validation_loss: 0.7833 | Validation_acc: 61.6875 %\u001b[32m [repeated 3x across cluster]\u001b[0m\n",
      "\u001b[36m(launch_and_fit pid=4592)\u001b[0m save graph in  results/FL/\n",
      "\u001b[36m(launch_and_fit pid=4592)\u001b[0m classifier.4.bias 1.1920928955078125e-06\u001b[32m [repeated 11x across cluster]\u001b[0m\n",
      "\u001b[36m(launch_and_fit pid=4678)\u001b[0m [Client 2, round 6] fit, config: {'learning_rate': 0.003, 'batch_size': '32', 'server_round': 6, 'local_epochs': 10}\n",
      "\u001b[36m(launch_and_fit pid=4676)\u001b[0m Updated model\n"
     ]
    },
    {
     "name": "stderr",
     "output_type": "stream",
     "text": [
      "  0%|\u001b[34m          \u001b[0m| 0/10 [00:00<?, ?it/s]\n",
      "100%|\u001b[34m██████████\u001b[0m| 10/10 [00:41<00:00,  4.16s/it]\u001b[32m [repeated 3x across cluster]\u001b[0m\n"
     ]
    },
    {
     "name": "stdout",
     "output_type": "stream",
     "text": [
      "\u001b[36m(launch_and_fit pid=4678)\u001b[0m Run with homomorphic encryption\n",
      "\u001b[36m(launch_and_fit pid=4678)\u001b[0m \tTrain Epoch: 1 \tTrain_loss: 1.2209 | Train_acc: 48.5294 % | Validation_loss: 1.4055 | Validation_acc: 31.8750 %\n",
      "\u001b[36m(launch_and_fit pid=4676)\u001b[0m [Client 6, round 6] fit, config: {'learning_rate': 0.003, 'batch_size': '32', 'server_round': 6, 'local_epochs': 10}\n",
      "\u001b[36m(launch_and_fit pid=4676)\u001b[0m \tTrain Epoch: 1 \tTrain_loss: 1.2762 | Train_acc: 39.5221 % | Validation_loss: 0.8811 | Validation_acc: 60.1250 %\n"
     ]
    },
    {
     "name": "stderr",
     "output_type": "stream",
     "text": [
      "  0%|\u001b[34m          \u001b[0m| 0/10 [00:00<?, ?it/s]\n",
      " 20%|\u001b[34m██        \u001b[0m| 2/10 [00:08<00:34,  4.27s/it]\u001b[32m [repeated 3x across cluster]\u001b[0m\n"
     ]
    },
    {
     "name": "stdout",
     "output_type": "stream",
     "text": [
      "\u001b[36m(launch_and_fit pid=4678)\u001b[0m Updated model\n",
      "\u001b[36m(launch_and_fit pid=4678)\u001b[0m \tTrain Epoch: 3 \tTrain_loss: 0.8478 | Train_acc: 59.3750 % | Validation_loss: 1.0101 | Validation_acc: 46.1250 %\u001b[32m [repeated 3x across cluster]\u001b[0m\n"
     ]
    },
    {
     "name": "stderr",
     "output_type": "stream",
     "text": [
      " 40%|\u001b[34m████      \u001b[0m| 4/10 [00:16<00:24,  4.12s/it]\u001b[32m [repeated 4x across cluster]\u001b[0m\n"
     ]
    },
    {
     "name": "stdout",
     "output_type": "stream",
     "text": [
      "\u001b[36m(launch_and_fit pid=4678)\u001b[0m \tTrain Epoch: 5 \tTrain_loss: 0.5102 | Train_acc: 77.2059 % | Validation_loss: 0.7837 | Validation_acc: 69.9375 %\u001b[32m [repeated 4x across cluster]\u001b[0m\n"
     ]
    },
    {
     "name": "stderr",
     "output_type": "stream",
     "text": [
      " 60%|\u001b[34m██████    \u001b[0m| 6/10 [00:25<00:16,  4.17s/it]\u001b[32m [repeated 4x across cluster]\u001b[0m\n"
     ]
    },
    {
     "name": "stdout",
     "output_type": "stream",
     "text": [
      "\u001b[36m(launch_and_fit pid=4678)\u001b[0m \tTrain Epoch: 7 \tTrain_loss: 0.3993 | Train_acc: 79.7794 % | Validation_loss: 0.6815 | Validation_acc: 69.9375 %\u001b[32m [repeated 4x across cluster]\u001b[0m\n"
     ]
    },
    {
     "name": "stderr",
     "output_type": "stream",
     "text": [
      " 80%|\u001b[34m████████  \u001b[0m| 8/10 [00:33<00:08,  4.11s/it]\u001b[32m [repeated 4x across cluster]\u001b[0m\n"
     ]
    },
    {
     "name": "stdout",
     "output_type": "stream",
     "text": [
      "\u001b[36m(launch_and_fit pid=4678)\u001b[0m \tTrain Epoch: 9 \tTrain_loss: 0.3360 | Train_acc: 80.5147 % | Validation_loss: 0.6926 | Validation_acc: 69.9375 %\u001b[32m [repeated 4x across cluster]\u001b[0m\n"
     ]
    },
    {
     "name": "stderr",
     "output_type": "stream",
     "text": [
      "100%|\u001b[34m██████████\u001b[0m| 10/10 [00:41<00:00,  4.13s/it]\u001b[32m [repeated 4x across cluster]\u001b[0m\n"
     ]
    },
    {
     "name": "stdout",
     "output_type": "stream",
     "text": [
      "\u001b[36m(launch_and_fit pid=4678)\u001b[0m save graph in  results/FL/\n",
      "\u001b[36m(launch_and_fit pid=4678)\u001b[0m features.0.weight 5.245208740234375e-06\n",
      "\u001b[36m(launch_and_fit pid=4678)\u001b[0m features.0.bias 1.6689300537109375e-06\n",
      "\u001b[36m(launch_and_fit pid=4678)\u001b[0m features.3.weight 9.5367431640625e-07\n",
      "\u001b[36m(launch_and_fit pid=4678)\u001b[0m features.3.bias 9.5367431640625e-07\n",
      "\u001b[36m(launch_and_fit pid=4678)\u001b[0m classifier.0.weight 9.5367431640625e-07\n",
      "\u001b[36m(launch_and_fit pid=4678)\u001b[0m classifier.0.bias 1.1920928955078125e-06\n",
      "\u001b[36m(launch_and_fit pid=4678)\u001b[0m classifier.2.weight 1.1920928955078125e-06\n",
      "\u001b[36m(launch_and_fit pid=4678)\u001b[0m classifier.2.bias 9.5367431640625e-07\n",
      "\u001b[36m(launch_and_fit pid=4678)\u001b[0m classifier.3.weights 1.1920928955078125e-06\n",
      "\u001b[36m(launch_and_fit pid=4678)\u001b[0m classifier.4.weight 1.1920928955078125e-06\n",
      "\u001b[36m(launch_and_fit pid=4678)\u001b[0m classifier.4.bias 1.1920928955078125e-06\n",
      "\u001b[36m(launch_and_fit pid=4676)\u001b[0m \tTrain Epoch: 10 \tTrain_loss: 0.3232 | Train_acc: 91.9118 % | Validation_loss: 0.5341 | Validation_acc: 81.7500 %\u001b[32m [repeated 3x across cluster]\u001b[0m\n",
      "\u001b[36m(launch_and_fit pid=4758)\u001b[0m Run with homomorphic encryption\n",
      "\u001b[36m(launch_and_fit pid=4676)\u001b[0m save graph in  results/FL/\n",
      "\u001b[36m(launch_and_fit pid=4676)\u001b[0m classifier.4.bias 9.5367431640625e-07\u001b[32m [repeated 11x across cluster]\u001b[0m\n",
      "\u001b[36m(launch_and_fit pid=4758)\u001b[0m [Client 1, round 6] fit, config: {'learning_rate': 0.003, 'batch_size': '32', 'server_round': 6, 'local_epochs': 10}\n"
     ]
    },
    {
     "name": "stderr",
     "output_type": "stream",
     "text": [
      "  0%|\u001b[34m          \u001b[0m| 0/10 [00:00<?, ?it/s]\n",
      "100%|\u001b[34m██████████\u001b[0m| 10/10 [00:41<00:00,  4.18s/it]\n"
     ]
    },
    {
     "name": "stdout",
     "output_type": "stream",
     "text": [
      "\u001b[36m(launch_and_fit pid=4760)\u001b[0m Updated model\n"
     ]
    },
    {
     "name": "stderr",
     "output_type": "stream",
     "text": [
      " 10%|\u001b[34m█         \u001b[0m| 1/10 [00:04<00:40,  4.48s/it]\n"
     ]
    },
    {
     "name": "stdout",
     "output_type": "stream",
     "text": [
      "\u001b[36m(launch_and_fit pid=4760)\u001b[0m \tTrain Epoch: 1 \tTrain_loss: 1.3485 | Train_acc: 36.0294 % | Validation_loss: 1.2532 | Validation_acc: 26.0625 %\n",
      "\u001b[36m(launch_and_fit pid=4760)\u001b[0m Run with homomorphic encryption\n",
      "\u001b[36m(launch_and_fit pid=4760)\u001b[0m [Client 0, round 6] fit, config: {'learning_rate': 0.003, 'batch_size': '32', 'server_round': 6, 'local_epochs': 10}\n"
     ]
    },
    {
     "name": "stderr",
     "output_type": "stream",
     "text": [
      "  0%|\u001b[34m          \u001b[0m| 0/10 [00:00<?, ?it/s]\n"
     ]
    },
    {
     "name": "stdout",
     "output_type": "stream",
     "text": [
      "\u001b[36m(launch_and_fit pid=4758)\u001b[0m Updated model\n"
     ]
    },
    {
     "name": "stderr",
     "output_type": "stream",
     "text": [
      " 30%|\u001b[34m███       \u001b[0m| 3/10 [00:12<00:28,  4.12s/it]\u001b[32m [repeated 4x across cluster]\u001b[0m\n"
     ]
    },
    {
     "name": "stdout",
     "output_type": "stream",
     "text": [
      "\u001b[36m(launch_and_fit pid=4760)\u001b[0m \tTrain Epoch: 3 \tTrain_loss: 0.6504 | Train_acc: 73.1618 % | Validation_loss: 0.6369 | Validation_acc: 72.6250 %\u001b[32m [repeated 4x across cluster]\u001b[0m\n"
     ]
    },
    {
     "name": "stderr",
     "output_type": "stream",
     "text": [
      " 50%|\u001b[34m█████     \u001b[0m| 5/10 [00:20<00:20,  4.07s/it]\u001b[32m [repeated 4x across cluster]\u001b[0m\n"
     ]
    },
    {
     "name": "stdout",
     "output_type": "stream",
     "text": [
      "\u001b[36m(launch_and_fit pid=4760)\u001b[0m \tTrain Epoch: 5 \tTrain_loss: 0.4448 | Train_acc: 78.3088 % | Validation_loss: 0.5322 | Validation_acc: 76.1875 %\u001b[32m [repeated 4x across cluster]\u001b[0m\n"
     ]
    },
    {
     "name": "stderr",
     "output_type": "stream",
     "text": [
      " 70%|\u001b[34m███████   \u001b[0m| 7/10 [00:28<00:12,  4.05s/it]\u001b[32m [repeated 4x across cluster]\u001b[0m\n"
     ]
    },
    {
     "name": "stdout",
     "output_type": "stream",
     "text": [
      "\u001b[36m(launch_and_fit pid=4760)\u001b[0m \tTrain Epoch: 7 \tTrain_loss: 0.3867 | Train_acc: 80.1471 % | Validation_loss: 0.5318 | Validation_acc: 75.7500 %\u001b[32m [repeated 4x across cluster]\u001b[0m\n",
      "\u001b[36m(launch_and_fit pid=4758)\u001b[0m \tTrain Epoch: 8 \tTrain_loss: 0.2908 | Train_acc: 98.1618 % | Validation_loss: 0.6987 | Validation_acc: 67.2500 %\u001b[32m [repeated 3x across cluster]\u001b[0m\n"
     ]
    },
    {
     "name": "stderr",
     "output_type": "stream",
     "text": [
      " 80%|\u001b[34m████████  \u001b[0m| 8/10 [00:33<00:08,  4.22s/it]\u001b[32m [repeated 3x across cluster]\u001b[0m\n",
      "100%|\u001b[34m██████████\u001b[0m| 10/10 [00:40<00:00,  4.09s/it]\u001b[32m [repeated 3x across cluster]\u001b[0m\n"
     ]
    },
    {
     "name": "stdout",
     "output_type": "stream",
     "text": [
      "\u001b[36m(launch_and_fit pid=4760)\u001b[0m save graph in  results/FL/\n",
      "\u001b[36m(launch_and_fit pid=4760)\u001b[0m \tTrain Epoch: 10 \tTrain_loss: 0.3728 | Train_acc: 85.2941 % | Validation_loss: 0.4991 | Validation_acc: 73.7500 %\u001b[32m [repeated 3x across cluster]\u001b[0m\n",
      "\u001b[36m(launch_and_fit pid=4760)\u001b[0m features.0.weight 6.67572021484375e-06\n",
      "\u001b[36m(launch_and_fit pid=4760)\u001b[0m features.0.bias 1.430511474609375e-06\n",
      "\u001b[36m(launch_and_fit pid=4760)\u001b[0m features.3.weight 1.430511474609375e-06\n",
      "\u001b[36m(launch_and_fit pid=4760)\u001b[0m features.3.bias 1.1920928955078125e-06\n",
      "\u001b[36m(launch_and_fit pid=4760)\u001b[0m classifier.0.weight 1.430511474609375e-06\n",
      "\u001b[36m(launch_and_fit pid=4760)\u001b[0m classifier.0.bias 1.430511474609375e-06\n",
      "\u001b[36m(launch_and_fit pid=4760)\u001b[0m classifier.2.weight 1.1920928955078125e-06\n",
      "\u001b[36m(launch_and_fit pid=4760)\u001b[0m classifier.2.bias 1.430511474609375e-06\n",
      "\u001b[36m(launch_and_fit pid=4760)\u001b[0m classifier.3.weights 1.1920928955078125e-06\n",
      "\u001b[36m(launch_and_fit pid=4760)\u001b[0m classifier.4.weight 9.5367431640625e-07\n",
      "\u001b[36m(launch_and_fit pid=4760)\u001b[0m classifier.4.bias 1.1920928955078125e-06\n",
      "\u001b[36m(launch_and_fit pid=4840)\u001b[0m Run with homomorphic encryption\n",
      "\u001b[36m(launch_and_fit pid=4758)\u001b[0m save graph in  results/FL/\n",
      "\u001b[36m(launch_and_fit pid=4758)\u001b[0m \tTrain Epoch: 10 \tTrain_loss: 0.2114 | Train_acc: 99.8162 % | Validation_loss: 0.7374 | Validation_acc: 65.6875 %\n",
      "\u001b[36m(launch_and_fit pid=4758)\u001b[0m classifier.4.bias 1.9073486328125e-06\u001b[32m [repeated 11x across cluster]\u001b[0m\n",
      "\u001b[36m(launch_and_fit pid=4840)\u001b[0m [Client 8, round 6] fit, config: {'learning_rate': 0.003, 'batch_size': '32', 'server_round': 6, 'local_epochs': 10}\n",
      "\u001b[36m(launch_and_fit pid=4840)\u001b[0m Updated model\n"
     ]
    },
    {
     "name": "stderr",
     "output_type": "stream",
     "text": [
      "  0%|\u001b[34m          \u001b[0m| 0/10 [00:00<?, ?it/s]\n",
      "100%|\u001b[34m██████████\u001b[0m| 10/10 [00:41<00:00,  4.19s/it]\n"
     ]
    },
    {
     "name": "stdout",
     "output_type": "stream",
     "text": [
      "\u001b[36m(launch_and_fit pid=4840)\u001b[0m \tTrain Epoch: 1 \tTrain_loss: 1.3330 | Train_acc: 43.9338 % | Validation_loss: 1.0881 | Validation_acc: 44.7500 %\n",
      "\u001b[36m(launch_and_fit pid=4865)\u001b[0m Run with homomorphic encryption\n",
      "\u001b[36m(launch_and_fit pid=4865)\u001b[0m [Client 3, round 6] fit, config: {'learning_rate': 0.003, 'batch_size': '32', 'server_round': 6, 'local_epochs': 10}\n"
     ]
    },
    {
     "name": "stderr",
     "output_type": "stream",
     "text": [
      " 10%|\u001b[34m█         \u001b[0m| 1/10 [00:04<00:40,  4.49s/it]\n",
      "  0%|\u001b[34m          \u001b[0m| 0/10 [00:00<?, ?it/s]\n"
     ]
    },
    {
     "name": "stdout",
     "output_type": "stream",
     "text": [
      "\u001b[36m(launch_and_fit pid=4865)\u001b[0m Updated model\n",
      "\u001b[36m(launch_and_fit pid=4840)\u001b[0m \tTrain Epoch: 3 \tTrain_loss: 0.5463 | Train_acc: 75.9191 % | Validation_loss: 0.7183 | Validation_acc: 70.3750 %\u001b[32m [repeated 4x across cluster]\u001b[0m\n"
     ]
    },
    {
     "name": "stderr",
     "output_type": "stream",
     "text": [
      " 30%|\u001b[34m███       \u001b[0m| 3/10 [00:12<00:29,  4.26s/it]\u001b[32m [repeated 4x across cluster]\u001b[0m\n"
     ]
    },
    {
     "name": "stdout",
     "output_type": "stream",
     "text": [
      "\u001b[36m(launch_and_fit pid=4840)\u001b[0m \tTrain Epoch: 5 \tTrain_loss: 0.4350 | Train_acc: 77.0221 % | Validation_loss: 0.7632 | Validation_acc: 66.3750 %\u001b[32m [repeated 4x across cluster]\u001b[0m\n"
     ]
    },
    {
     "name": "stderr",
     "output_type": "stream",
     "text": [
      " 50%|\u001b[34m█████     \u001b[0m| 5/10 [00:21<00:20,  4.15s/it]\u001b[32m [repeated 4x across cluster]\u001b[0m\n"
     ]
    },
    {
     "name": "stdout",
     "output_type": "stream",
     "text": [
      "\u001b[36m(launch_and_fit pid=4840)\u001b[0m \tTrain Epoch: 7 \tTrain_loss: 0.3733 | Train_acc: 82.7206 % | Validation_loss: 0.7330 | Validation_acc: 64.8125 %\u001b[32m [repeated 4x across cluster]\u001b[0m\n"
     ]
    },
    {
     "name": "stderr",
     "output_type": "stream",
     "text": [
      " 70%|\u001b[34m███████   \u001b[0m| 7/10 [00:29<00:12,  4.10s/it]\u001b[32m [repeated 4x across cluster]\u001b[0m\n"
     ]
    },
    {
     "name": "stdout",
     "output_type": "stream",
     "text": [
      "\u001b[36m(launch_and_fit pid=4840)\u001b[0m \tTrain Epoch: 9 \tTrain_loss: 0.3293 | Train_acc: 83.2721 % | Validation_loss: 0.7187 | Validation_acc: 64.8125 %\u001b[32m [repeated 4x across cluster]\u001b[0m\n"
     ]
    },
    {
     "name": "stderr",
     "output_type": "stream",
     "text": [
      " 90%|\u001b[34m█████████ \u001b[0m| 9/10 [00:37<00:04,  4.08s/it]\u001b[32m [repeated 4x across cluster]\u001b[0m\n"
     ]
    },
    {
     "name": "stdout",
     "output_type": "stream",
     "text": [
      "\u001b[36m(launch_and_fit pid=4840)\u001b[0m save graph in  results/FL/\n",
      "\u001b[36m(launch_and_fit pid=4840)\u001b[0m features.0.weight 5.0067901611328125e-06\n",
      "\u001b[36m(launch_and_fit pid=4840)\u001b[0m features.0.bias 1.6689300537109375e-06\n",
      "\u001b[36m(launch_and_fit pid=4840)\u001b[0m features.3.weight 1.430511474609375e-06\n",
      "\u001b[36m(launch_and_fit pid=4840)\u001b[0m features.3.bias 1.1920928955078125e-06\n",
      "\u001b[36m(launch_and_fit pid=4840)\u001b[0m classifier.0.weight 1.1920928955078125e-06\n",
      "\u001b[36m(launch_and_fit pid=4840)\u001b[0m classifier.0.bias 1.1920928955078125e-06\n",
      "\u001b[36m(launch_and_fit pid=4840)\u001b[0m classifier.2.weight 9.5367431640625e-07\n",
      "\u001b[36m(launch_and_fit pid=4840)\u001b[0m classifier.2.bias 1.430511474609375e-06\n",
      "\u001b[36m(launch_and_fit pid=4840)\u001b[0m classifier.3.weights 1.1920928955078125e-06\n",
      "\u001b[36m(launch_and_fit pid=4840)\u001b[0m classifier.4.weight 1.1920928955078125e-06\n",
      "\u001b[36m(launch_and_fit pid=4840)\u001b[0m classifier.4.bias 1.1920928955078125e-06\n",
      "\u001b[36m(launch_and_fit pid=4865)\u001b[0m \tTrain Epoch: 10 \tTrain_loss: 0.3469 | Train_acc: 92.2794 % | Validation_loss: 0.5720 | Validation_acc: 79.0625 %\u001b[32m [repeated 3x across cluster]\u001b[0m\n"
     ]
    },
    {
     "name": "stderr",
     "output_type": "stream",
     "text": [
      "DEBUG flwr 2024-07-21 03:04:19,441 | server.py:236 | fit_round 6 received 10 results and 0 failures\n"
     ]
    },
    {
     "name": "stdout",
     "output_type": "stream",
     "text": [
      "Saving round 6 aggregated_parameters...\n"
     ]
    },
    {
     "name": "stderr",
     "output_type": "stream",
     "text": [
      "DEBUG flwr 2024-07-21 03:04:21,412 | server.py:173 | evaluate_round 6: strategy sampled 10 clients (out of 10)\n"
     ]
    },
    {
     "name": "stdout",
     "output_type": "stream",
     "text": [
      "\u001b[36m(launch_and_evaluate pid=4931)\u001b[0m Run with homomorphic encryption\n",
      "\u001b[36m(launch_and_fit pid=4865)\u001b[0m save graph in  results/FL/\n",
      "\u001b[36m(launch_and_fit pid=4865)\u001b[0m classifier.4.bias 1.1920928955078125e-06\u001b[32m [repeated 11x across cluster]\u001b[0m\n",
      "\u001b[36m(launch_and_evaluate pid=4931)\u001b[0m [Client 0] evaluate, config: {}\n",
      "\u001b[36m(launch_and_evaluate pid=4931)\u001b[0m Updated model\n",
      "\u001b[36m(launch_and_evaluate pid=5010)\u001b[0m Run with homomorphic encryption\u001b[32m [repeated 2x across cluster]\u001b[0m\n",
      "\u001b[36m(launch_and_evaluate pid=4932)\u001b[0m [Client 6] evaluate, config: {}\n",
      "\u001b[36m(launch_and_evaluate pid=4932)\u001b[0m Updated model\n",
      "\u001b[36m(launch_and_evaluate pid=5010)\u001b[0m [Client 2] evaluate, config: {}\n",
      "\u001b[36m(launch_and_evaluate pid=5010)\u001b[0m Updated model\n",
      "\u001b[36m(launch_and_evaluate pid=5088)\u001b[0m Run with homomorphic encryption\u001b[32m [repeated 2x across cluster]\u001b[0m\n",
      "\u001b[36m(launch_and_evaluate pid=5012)\u001b[0m [Client 4] evaluate, config: {}\n",
      "\u001b[36m(launch_and_evaluate pid=5012)\u001b[0m Updated model\n",
      "\u001b[36m(launch_and_evaluate pid=5088)\u001b[0m [Client 8] evaluate, config: {}\n",
      "\u001b[36m(launch_and_evaluate pid=5088)\u001b[0m Updated model\n",
      "\u001b[36m(launch_and_evaluate pid=5166)\u001b[0m Run with homomorphic encryption\u001b[32m [repeated 2x across cluster]\u001b[0m\n",
      "\u001b[36m(launch_and_evaluate pid=5090)\u001b[0m [Client 9] evaluate, config: {}\n",
      "\u001b[36m(launch_and_evaluate pid=5090)\u001b[0m Updated model\n",
      "\u001b[36m(launch_and_evaluate pid=5166)\u001b[0m [Client 5] evaluate, config: {}\n",
      "\u001b[36m(launch_and_evaluate pid=5166)\u001b[0m Updated model\n",
      "\u001b[36m(launch_and_evaluate pid=5244)\u001b[0m Run with homomorphic encryption\u001b[32m [repeated 2x across cluster]\u001b[0m\n",
      "\u001b[36m(launch_and_evaluate pid=5191)\u001b[0m [Client 3] evaluate, config: {}\n",
      "\u001b[36m(launch_and_evaluate pid=5191)\u001b[0m Updated model\n",
      "\u001b[36m(launch_and_evaluate pid=5244)\u001b[0m [Client 7] evaluate, config: {}\n",
      "\u001b[36m(launch_and_evaluate pid=5244)\u001b[0m Updated model\n"
     ]
    },
    {
     "name": "stderr",
     "output_type": "stream",
     "text": [
      "DEBUG flwr 2024-07-21 03:05:37,957 | server.py:187 | evaluate_round 6 received 10 results and 0 failures\n",
      "DEBUG flwr 2024-07-21 03:05:37,959 | server.py:222 | fit_round 7: strategy sampled 10 clients (out of 10)\n"
     ]
    },
    {
     "name": "stdout",
     "output_type": "stream",
     "text": [
      "\u001b[36m(launch_and_fit pid=5331)\u001b[0m Run with homomorphic encryption\u001b[32m [repeated 2x across cluster]\u001b[0m\n",
      "\u001b[36m(launch_and_evaluate pid=5246)\u001b[0m [Client 1] evaluate, config: {}\n",
      "\u001b[36m(launch_and_evaluate pid=5246)\u001b[0m Updated model\n",
      "\u001b[36m(launch_and_fit pid=5331)\u001b[0m [Client 2, round 7] fit, config: {'learning_rate': 0.003, 'batch_size': '32', 'server_round': 7, 'local_epochs': 10}\n"
     ]
    },
    {
     "name": "stderr",
     "output_type": "stream",
     "text": [
      "  0%|\u001b[34m          \u001b[0m| 0/10 [00:00<?, ?it/s]\n",
      "100%|\u001b[34m██████████\u001b[0m| 10/10 [00:41<00:00,  4.14s/it]\u001b[32m [repeated 3x across cluster]\u001b[0m\n"
     ]
    },
    {
     "name": "stdout",
     "output_type": "stream",
     "text": [
      "\u001b[36m(launch_and_fit pid=5331)\u001b[0m Updated model\n",
      "\u001b[36m(launch_and_fit pid=5331)\u001b[0m \tTrain Epoch: 1 \tTrain_loss: 0.6448 | Train_acc: 70.2206 % | Validation_loss: 0.6633 | Validation_acc: 64.8125 %\n",
      "\u001b[36m(launch_and_fit pid=5332)\u001b[0m Run with homomorphic encryption\n",
      "\u001b[36m(launch_and_fit pid=5332)\u001b[0m [Client 6, round 7] fit, config: {'learning_rate': 0.003, 'batch_size': '32', 'server_round': 7, 'local_epochs': 10}\n",
      "\u001b[36m(launch_and_fit pid=5332)\u001b[0m Updated model\n"
     ]
    },
    {
     "name": "stderr",
     "output_type": "stream",
     "text": [
      "  0%|\u001b[34m          \u001b[0m| 0/10 [00:00<?, ?it/s]\n",
      " 10%|\u001b[34m█         \u001b[0m| 1/10 [00:04<00:41,  4.57s/it]\u001b[32m [repeated 2x across cluster]\u001b[0m\n",
      " 30%|\u001b[34m███       \u001b[0m| 3/10 [00:12<00:29,  4.16s/it]\u001b[32m [repeated 3x across cluster]\u001b[0m\n"
     ]
    },
    {
     "name": "stdout",
     "output_type": "stream",
     "text": [
      "\u001b[36m(launch_and_fit pid=5331)\u001b[0m \tTrain Epoch: 3 \tTrain_loss: 0.3697 | Train_acc: 82.5368 % | Validation_loss: 0.5257 | Validation_acc: 81.0625 %\u001b[32m [repeated 4x across cluster]\u001b[0m\n"
     ]
    },
    {
     "name": "stderr",
     "output_type": "stream",
     "text": [
      " 50%|\u001b[34m█████     \u001b[0m| 5/10 [00:20<00:20,  4.11s/it]\u001b[32m [repeated 4x across cluster]\u001b[0m\n"
     ]
    },
    {
     "name": "stdout",
     "output_type": "stream",
     "text": [
      "\u001b[36m(launch_and_fit pid=5331)\u001b[0m \tTrain Epoch: 5 \tTrain_loss: 0.3070 | Train_acc: 84.9265 % | Validation_loss: 0.4794 | Validation_acc: 80.6250 %\u001b[32m [repeated 4x across cluster]\u001b[0m\n"
     ]
    },
    {
     "name": "stderr",
     "output_type": "stream",
     "text": [
      " 70%|\u001b[34m███████   \u001b[0m| 7/10 [00:28<00:12,  4.09s/it]\u001b[32m [repeated 4x across cluster]\u001b[0m\n"
     ]
    },
    {
     "name": "stdout",
     "output_type": "stream",
     "text": [
      "\u001b[36m(launch_and_fit pid=5331)\u001b[0m \tTrain Epoch: 7 \tTrain_loss: 0.2877 | Train_acc: 90.0735 % | Validation_loss: 0.4790 | Validation_acc: 73.9375 %\u001b[32m [repeated 4x across cluster]\u001b[0m\n"
     ]
    },
    {
     "name": "stderr",
     "output_type": "stream",
     "text": [
      " 90%|\u001b[34m█████████ \u001b[0m| 9/10 [00:37<00:04,  4.11s/it]\u001b[32m [repeated 4x across cluster]\u001b[0m\n"
     ]
    },
    {
     "name": "stdout",
     "output_type": "stream",
     "text": [
      "\u001b[36m(launch_and_fit pid=5331)\u001b[0m \tTrain Epoch: 9 \tTrain_loss: 0.2710 | Train_acc: 92.6471 % | Validation_loss: 0.4474 | Validation_acc: 84.1875 %\u001b[32m [repeated 4x across cluster]\u001b[0m\n",
      "\u001b[36m(launch_and_fit pid=5331)\u001b[0m save graph in  results/FL/\n",
      "\u001b[36m(launch_and_fit pid=5331)\u001b[0m features.0.weight 4.76837158203125e-06\n",
      "\u001b[36m(launch_and_fit pid=5331)\u001b[0m features.0.bias 1.9073486328125e-06\n",
      "\u001b[36m(launch_and_fit pid=5331)\u001b[0m features.3.weight 9.5367431640625e-07\n",
      "\u001b[36m(launch_and_fit pid=5331)\u001b[0m features.3.bias 9.5367431640625e-07\n",
      "\u001b[36m(launch_and_fit pid=5331)\u001b[0m classifier.0.weight 1.1920928955078125e-06\n",
      "\u001b[36m(launch_and_fit pid=5331)\u001b[0m classifier.0.bias 9.5367431640625e-07\n",
      "\u001b[36m(launch_and_fit pid=5331)\u001b[0m classifier.2.weight 9.5367431640625e-07\n",
      "\u001b[36m(launch_and_fit pid=5331)\u001b[0m classifier.2.bias 1.1920928955078125e-06\n",
      "\u001b[36m(launch_and_fit pid=5331)\u001b[0m classifier.3.weights 1.430511474609375e-06\n",
      "\u001b[36m(launch_and_fit pid=5331)\u001b[0m classifier.4.weight 1.1920928955078125e-06\n",
      "\u001b[36m(launch_and_fit pid=5331)\u001b[0m classifier.4.bias 1.430511474609375e-06\n",
      "\u001b[36m(launch_and_fit pid=5332)\u001b[0m \tTrain Epoch: 10 \tTrain_loss: 0.3168 | Train_acc: 95.4044 % | Validation_loss: 0.5364 | Validation_acc: 86.1875 %\u001b[32m [repeated 3x across cluster]\u001b[0m\n",
      "\u001b[36m(launch_and_fit pid=5412)\u001b[0m Run with homomorphic encryption\n",
      "\u001b[36m(launch_and_fit pid=5332)\u001b[0m save graph in  results/FL/\n",
      "\u001b[36m(launch_and_fit pid=5332)\u001b[0m classifier.4.bias 1.1920928955078125e-06\u001b[32m [repeated 11x across cluster]\u001b[0m\n",
      "\u001b[36m(launch_and_fit pid=5412)\u001b[0m [Client 5, round 7] fit, config: {'learning_rate': 0.003, 'batch_size': '32', 'server_round': 7, 'local_epochs': 10}\n"
     ]
    },
    {
     "name": "stderr",
     "output_type": "stream",
     "text": [
      "  0%|\u001b[34m          \u001b[0m| 0/10 [00:00<?, ?it/s]\n",
      "100%|\u001b[34m██████████\u001b[0m| 10/10 [00:41<00:00,  4.13s/it]\u001b[32m [repeated 3x across cluster]\u001b[0m\n"
     ]
    },
    {
     "name": "stdout",
     "output_type": "stream",
     "text": [
      "\u001b[36m(launch_and_fit pid=5412)\u001b[0m Updated model\n",
      "\u001b[36m(launch_and_fit pid=5412)\u001b[0m \tTrain Epoch: 1 \tTrain_loss: 0.6920 | Train_acc: 68.3824 % | Validation_loss: 0.7182 | Validation_acc: 68.3750 %\n",
      "\u001b[36m(launch_and_fit pid=5414)\u001b[0m Run with homomorphic encryption\n",
      "\u001b[36m(launch_and_fit pid=5414)\u001b[0m [Client 8, round 7] fit, config: {'learning_rate': 0.003, 'batch_size': '32', 'server_round': 7, 'local_epochs': 10}\n"
     ]
    },
    {
     "name": "stderr",
     "output_type": "stream",
     "text": [
      "  0%|\u001b[34m          \u001b[0m| 0/10 [00:00<?, ?it/s]\n",
      " 20%|\u001b[34m██        \u001b[0m| 2/10 [00:08<00:35,  4.41s/it]\u001b[32m [repeated 3x across cluster]\u001b[0m\n"
     ]
    },
    {
     "name": "stdout",
     "output_type": "stream",
     "text": [
      "\u001b[36m(launch_and_fit pid=5414)\u001b[0m Updated model\n",
      "\u001b[36m(launch_and_fit pid=5412)\u001b[0m \tTrain Epoch: 3 \tTrain_loss: 0.3830 | Train_acc: 84.9265 % | Validation_loss: 0.7040 | Validation_acc: 73.9375 %\u001b[32m [repeated 4x across cluster]\u001b[0m\n"
     ]
    },
    {
     "name": "stderr",
     "output_type": "stream",
     "text": [
      " 40%|\u001b[34m████      \u001b[0m| 4/10 [00:16<00:25,  4.18s/it]\u001b[32m [repeated 4x across cluster]\u001b[0m\n"
     ]
    },
    {
     "name": "stdout",
     "output_type": "stream",
     "text": [
      "\u001b[36m(launch_and_fit pid=5412)\u001b[0m \tTrain Epoch: 5 \tTrain_loss: 0.3213 | Train_acc: 92.4632 % | Validation_loss: 0.6748 | Validation_acc: 72.3750 %\u001b[32m [repeated 4x across cluster]\u001b[0m\n"
     ]
    },
    {
     "name": "stderr",
     "output_type": "stream",
     "text": [
      " 60%|\u001b[34m██████    \u001b[0m| 6/10 [00:24<00:16,  4.08s/it]\u001b[32m [repeated 4x across cluster]\u001b[0m\n"
     ]
    },
    {
     "name": "stdout",
     "output_type": "stream",
     "text": [
      "\u001b[36m(launch_and_fit pid=5412)\u001b[0m \tTrain Epoch: 7 \tTrain_loss: 0.2799 | Train_acc: 97.4265 % | Validation_loss: 0.6708 | Validation_acc: 72.3750 %\u001b[32m [repeated 4x across cluster]\u001b[0m\n"
     ]
    },
    {
     "name": "stderr",
     "output_type": "stream",
     "text": [
      " 80%|\u001b[34m████████  \u001b[0m| 8/10 [00:33<00:08,  4.11s/it]\u001b[32m [repeated 4x across cluster]\u001b[0m\n"
     ]
    },
    {
     "name": "stdout",
     "output_type": "stream",
     "text": [
      "\u001b[36m(launch_and_fit pid=5412)\u001b[0m \tTrain Epoch: 9 \tTrain_loss: 0.2465 | Train_acc: 98.8971 % | Validation_loss: 0.6814 | Validation_acc: 72.8125 %\u001b[32m [repeated 4x across cluster]\u001b[0m\n"
     ]
    },
    {
     "name": "stderr",
     "output_type": "stream",
     "text": [
      "100%|\u001b[34m██████████\u001b[0m| 10/10 [00:41<00:00,  4.14s/it]\u001b[32m [repeated 4x across cluster]\u001b[0m\n"
     ]
    },
    {
     "name": "stdout",
     "output_type": "stream",
     "text": [
      "\u001b[36m(launch_and_fit pid=5412)\u001b[0m save graph in  results/FL/\n",
      "\u001b[36m(launch_and_fit pid=5412)\u001b[0m features.0.weight 5.245208740234375e-06\n",
      "\u001b[36m(launch_and_fit pid=5412)\u001b[0m features.0.bias 1.430511474609375e-06\n",
      "\u001b[36m(launch_and_fit pid=5412)\u001b[0m features.3.weight 1.1920928955078125e-06\n",
      "\u001b[36m(launch_and_fit pid=5412)\u001b[0m features.3.bias 1.430511474609375e-06\n",
      "\u001b[36m(launch_and_fit pid=5412)\u001b[0m classifier.0.weight 1.1920928955078125e-06\n",
      "\u001b[36m(launch_and_fit pid=5412)\u001b[0m classifier.0.bias 1.1920928955078125e-06\n",
      "\u001b[36m(launch_and_fit pid=5412)\u001b[0m classifier.2.weight 1.1920928955078125e-06\n",
      "\u001b[36m(launch_and_fit pid=5412)\u001b[0m classifier.2.bias 9.5367431640625e-07\n",
      "\u001b[36m(launch_and_fit pid=5412)\u001b[0m classifier.3.weights 1.1920928955078125e-06\n",
      "\u001b[36m(launch_and_fit pid=5412)\u001b[0m classifier.4.weight 1.430511474609375e-06\n",
      "\u001b[36m(launch_and_fit pid=5412)\u001b[0m classifier.4.bias 1.1920928955078125e-06\n",
      "\u001b[36m(launch_and_fit pid=5414)\u001b[0m \tTrain Epoch: 10 \tTrain_loss: 0.1792 | Train_acc: 99.4485 % | Validation_loss: 0.5186 | Validation_acc: 83.3125 %\u001b[32m [repeated 3x across cluster]\u001b[0m\n",
      "\u001b[36m(launch_and_fit pid=5494)\u001b[0m Run with homomorphic encryption\n",
      "\u001b[36m(launch_and_fit pid=5414)\u001b[0m save graph in  results/FL/\n",
      "\u001b[36m(launch_and_fit pid=5414)\u001b[0m classifier.4.bias 9.5367431640625e-07\u001b[32m [repeated 11x across cluster]\u001b[0m\n",
      "\u001b[36m(launch_and_fit pid=5494)\u001b[0m [Client 9, round 7] fit, config: {'learning_rate': 0.003, 'batch_size': '32', 'server_round': 7, 'local_epochs': 10}\n",
      "\u001b[36m(launch_and_fit pid=5494)\u001b[0m Updated model\n"
     ]
    },
    {
     "name": "stderr",
     "output_type": "stream",
     "text": [
      "  0%|\u001b[34m          \u001b[0m| 0/10 [00:00<?, ?it/s]\n",
      "100%|\u001b[34m██████████\u001b[0m| 10/10 [00:41<00:00,  4.17s/it]\n"
     ]
    },
    {
     "name": "stdout",
     "output_type": "stream",
     "text": [
      "\u001b[36m(launch_and_fit pid=5494)\u001b[0m \tTrain Epoch: 1 \tTrain_loss: 0.6616 | Train_acc: 70.2206 % | Validation_loss: 0.7674 | Validation_acc: 67.2500 %\n",
      "\u001b[36m(launch_and_fit pid=5519)\u001b[0m Run with homomorphic encryption\n",
      "\u001b[36m(launch_and_fit pid=5519)\u001b[0m [Client 3, round 7] fit, config: {'learning_rate': 0.003, 'batch_size': '32', 'server_round': 7, 'local_epochs': 10}\n"
     ]
    },
    {
     "name": "stderr",
     "output_type": "stream",
     "text": [
      " 10%|\u001b[34m█         \u001b[0m| 1/10 [00:04<00:41,  4.56s/it]\n"
     ]
    },
    {
     "name": "stdout",
     "output_type": "stream",
     "text": [
      "\u001b[36m(launch_and_fit pid=5519)\u001b[0m Updated model\n"
     ]
    },
    {
     "name": "stderr",
     "output_type": "stream",
     "text": [
      "  0%|\u001b[34m          \u001b[0m| 0/10 [00:00<?, ?it/s]\n"
     ]
    },
    {
     "name": "stdout",
     "output_type": "stream",
     "text": [
      "\u001b[36m(launch_and_fit pid=5494)\u001b[0m \tTrain Epoch: 3 \tTrain_loss: 0.4163 | Train_acc: 79.4118 % | Validation_loss: 0.7408 | Validation_acc: 60.5625 %\u001b[32m [repeated 4x across cluster]\u001b[0m\n"
     ]
    },
    {
     "name": "stderr",
     "output_type": "stream",
     "text": [
      " 30%|\u001b[34m███       \u001b[0m| 3/10 [00:12<00:29,  4.29s/it]\u001b[32m [repeated 4x across cluster]\u001b[0m\n"
     ]
    },
    {
     "name": "stdout",
     "output_type": "stream",
     "text": [
      "\u001b[36m(launch_and_fit pid=5494)\u001b[0m \tTrain Epoch: 5 \tTrain_loss: 0.3494 | Train_acc: 91.1765 % | Validation_loss: 0.7409 | Validation_acc: 64.1250 %\u001b[32m [repeated 4x across cluster]\u001b[0m\n"
     ]
    },
    {
     "name": "stderr",
     "output_type": "stream",
     "text": [
      " 50%|\u001b[34m█████     \u001b[0m| 5/10 [00:21<00:20,  4.15s/it]\u001b[32m [repeated 4x across cluster]\u001b[0m\n"
     ]
    },
    {
     "name": "stdout",
     "output_type": "stream",
     "text": [
      "\u001b[36m(launch_and_fit pid=5494)\u001b[0m \tTrain Epoch: 7 \tTrain_loss: 0.3342 | Train_acc: 95.0368 % | Validation_loss: 0.7089 | Validation_acc: 70.3750 %\u001b[32m [repeated 4x across cluster]\u001b[0m\n"
     ]
    },
    {
     "name": "stderr",
     "output_type": "stream",
     "text": [
      " 70%|\u001b[34m███████   \u001b[0m| 7/10 [00:29<00:12,  4.07s/it]\u001b[32m [repeated 4x across cluster]\u001b[0m\n"
     ]
    },
    {
     "name": "stdout",
     "output_type": "stream",
     "text": [
      "\u001b[36m(launch_and_fit pid=5494)\u001b[0m \tTrain Epoch: 9 \tTrain_loss: 0.2789 | Train_acc: 96.5074 % | Validation_loss: 0.6979 | Validation_acc: 69.2500 %\u001b[32m [repeated 4x across cluster]\u001b[0m\n"
     ]
    },
    {
     "name": "stderr",
     "output_type": "stream",
     "text": [
      " 90%|\u001b[34m█████████ \u001b[0m| 9/10 [00:37<00:04,  4.06s/it]\u001b[32m [repeated 4x across cluster]\u001b[0m\n"
     ]
    },
    {
     "name": "stdout",
     "output_type": "stream",
     "text": [
      "\u001b[36m(launch_and_fit pid=5494)\u001b[0m save graph in  results/FL/\n",
      "\u001b[36m(launch_and_fit pid=5494)\u001b[0m features.0.weight 4.76837158203125e-06\n",
      "\u001b[36m(launch_and_fit pid=5494)\u001b[0m features.0.bias 1.6689300537109375e-06\n",
      "\u001b[36m(launch_and_fit pid=5494)\u001b[0m features.3.weight 9.5367431640625e-07\n",
      "\u001b[36m(launch_and_fit pid=5494)\u001b[0m features.3.bias 1.1920928955078125e-06\n",
      "\u001b[36m(launch_and_fit pid=5494)\u001b[0m classifier.0.weight 1.430511474609375e-06\n",
      "\u001b[36m(launch_and_fit pid=5494)\u001b[0m classifier.0.bias 1.1920928955078125e-06\n",
      "\u001b[36m(launch_and_fit pid=5494)\u001b[0m classifier.2.weight 1.1920928955078125e-06\n",
      "\u001b[36m(launch_and_fit pid=5494)\u001b[0m classifier.2.bias 9.5367431640625e-07\n",
      "\u001b[36m(launch_and_fit pid=5494)\u001b[0m classifier.3.weights 1.1920928955078125e-06\n",
      "\u001b[36m(launch_and_fit pid=5494)\u001b[0m classifier.4.weight 1.1920928955078125e-06\n",
      "\u001b[36m(launch_and_fit pid=5494)\u001b[0m classifier.4.bias 9.5367431640625e-07\n",
      "\u001b[36m(launch_and_fit pid=5519)\u001b[0m \tTrain Epoch: 10 \tTrain_loss: 0.2330 | Train_acc: 99.8162 % | Validation_loss: 0.5148 | Validation_acc: 80.6250 %\u001b[32m [repeated 3x across cluster]\u001b[0m\n",
      "\u001b[36m(launch_and_fit pid=5576)\u001b[0m Run with homomorphic encryption\n",
      "\u001b[36m(launch_and_fit pid=5519)\u001b[0m save graph in  results/FL/\n",
      "\u001b[36m(launch_and_fit pid=5519)\u001b[0m classifier.4.bias 1.1920928955078125e-06\u001b[32m [repeated 11x across cluster]\u001b[0m\n",
      "\u001b[36m(launch_and_fit pid=5576)\u001b[0m [Client 4, round 7] fit, config: {'learning_rate': 0.003, 'batch_size': '32', 'server_round': 7, 'local_epochs': 10}\n",
      "\u001b[36m(launch_and_fit pid=5576)\u001b[0m Updated model\n"
     ]
    },
    {
     "name": "stderr",
     "output_type": "stream",
     "text": [
      "  0%|\u001b[34m          \u001b[0m| 0/10 [00:00<?, ?it/s]\n",
      "100%|\u001b[34m██████████\u001b[0m| 10/10 [00:41<00:00,  4.12s/it]\u001b[32m [repeated 3x across cluster]\u001b[0m\n"
     ]
    },
    {
     "name": "stdout",
     "output_type": "stream",
     "text": [
      "\u001b[36m(launch_and_fit pid=5576)\u001b[0m \tTrain Epoch: 1 \tTrain_loss: 0.6116 | Train_acc: 73.7132 % | Validation_loss: 0.4547 | Validation_acc: 81.0625 %\n",
      "\u001b[36m(launch_and_fit pid=5601)\u001b[0m Run with homomorphic encryption\n",
      "\u001b[36m(launch_and_fit pid=5601)\u001b[0m [Client 0, round 7] fit, config: {'learning_rate': 0.003, 'batch_size': '32', 'server_round': 7, 'local_epochs': 10}\n",
      "\u001b[36m(launch_and_fit pid=5601)\u001b[0m Updated model\n"
     ]
    },
    {
     "name": "stderr",
     "output_type": "stream",
     "text": [
      "  0%|\u001b[34m          \u001b[0m| 0/10 [00:00<?, ?it/s]\n",
      " 10%|\u001b[34m█         \u001b[0m| 1/10 [00:04<00:40,  4.53s/it]\u001b[32m [repeated 2x across cluster]\u001b[0m\n"
     ]
    },
    {
     "name": "stdout",
     "output_type": "stream",
     "text": [
      "\u001b[36m(launch_and_fit pid=5601)\u001b[0m \tTrain Epoch: 2 \tTrain_loss: 0.4969 | Train_acc: 77.7574 % | Validation_loss: 0.5493 | Validation_acc: 75.3125 %\u001b[32m [repeated 3x across cluster]\u001b[0m\n"
     ]
    },
    {
     "name": "stderr",
     "output_type": "stream",
     "text": [
      " 30%|\u001b[34m███       \u001b[0m| 3/10 [00:12<00:28,  4.14s/it]\u001b[32m [repeated 3x across cluster]\u001b[0m\n"
     ]
    },
    {
     "name": "stdout",
     "output_type": "stream",
     "text": [
      "\u001b[36m(launch_and_fit pid=5576)\u001b[0m \tTrain Epoch: 4 \tTrain_loss: 0.3549 | Train_acc: 83.4559 % | Validation_loss: 0.4188 | Validation_acc: 78.3750 %\u001b[32m [repeated 3x across cluster]\u001b[0m\n"
     ]
    },
    {
     "name": "stderr",
     "output_type": "stream",
     "text": [
      " 40%|\u001b[34m████      \u001b[0m| 4/10 [00:16<00:24,  4.14s/it]\u001b[32m [repeated 3x across cluster]\u001b[0m\n"
     ]
    },
    {
     "name": "stdout",
     "output_type": "stream",
     "text": [
      "\u001b[36m(launch_and_fit pid=5601)\u001b[0m \tTrain Epoch: 5 \tTrain_loss: 0.3421 | Train_acc: 91.7279 % | Validation_loss: 0.5307 | Validation_acc: 76.1875 %\u001b[32m [repeated 3x across cluster]\u001b[0m\n"
     ]
    },
    {
     "name": "stderr",
     "output_type": "stream",
     "text": [
      " 60%|\u001b[34m██████    \u001b[0m| 6/10 [00:24<00:16,  4.13s/it]\u001b[32m [repeated 3x across cluster]\u001b[0m\n"
     ]
    },
    {
     "name": "stdout",
     "output_type": "stream",
     "text": [
      "\u001b[36m(launch_and_fit pid=5576)\u001b[0m \tTrain Epoch: 7 \tTrain_loss: 0.3229 | Train_acc: 94.3015 % | Validation_loss: 0.4204 | Validation_acc: 78.3750 %\u001b[32m [repeated 3x across cluster]\u001b[0m\n"
     ]
    },
    {
     "name": "stderr",
     "output_type": "stream",
     "text": [
      " 70%|\u001b[34m███████   \u001b[0m| 7/10 [00:29<00:12,  4.25s/it]\u001b[32m [repeated 3x across cluster]\u001b[0m\n"
     ]
    },
    {
     "name": "stdout",
     "output_type": "stream",
     "text": [
      "\u001b[36m(launch_and_fit pid=5601)\u001b[0m \tTrain Epoch: 8 \tTrain_loss: 0.2665 | Train_acc: 97.7941 % | Validation_loss: 0.5028 | Validation_acc: 81.7500 %\u001b[32m [repeated 3x across cluster]\u001b[0m\n"
     ]
    },
    {
     "name": "stderr",
     "output_type": "stream",
     "text": [
      " 90%|\u001b[34m█████████ \u001b[0m| 9/10 [00:37<00:04,  4.17s/it]\u001b[32m [repeated 3x across cluster]\u001b[0m\n"
     ]
    },
    {
     "name": "stdout",
     "output_type": "stream",
     "text": [
      "\u001b[36m(launch_and_fit pid=5576)\u001b[0m save graph in  results/FL/\n",
      "\u001b[36m(launch_and_fit pid=5576)\u001b[0m \tTrain Epoch: 10 \tTrain_loss: 0.2636 | Train_acc: 97.9779 % | Validation_loss: 0.3427 | Validation_acc: 85.7500 %\u001b[32m [repeated 3x across cluster]\u001b[0m\n",
      "\u001b[36m(launch_and_fit pid=5576)\u001b[0m features.0.weight 4.76837158203125e-06\n",
      "\u001b[36m(launch_and_fit pid=5576)\u001b[0m features.0.bias 1.430511474609375e-06\n",
      "\u001b[36m(launch_and_fit pid=5576)\u001b[0m features.3.weight 1.1920928955078125e-06\n",
      "\u001b[36m(launch_and_fit pid=5576)\u001b[0m features.3.bias 1.1920928955078125e-06\n",
      "\u001b[36m(launch_and_fit pid=5576)\u001b[0m classifier.0.weight 9.5367431640625e-07\n",
      "\u001b[36m(launch_and_fit pid=5576)\u001b[0m classifier.0.bias 9.5367431640625e-07\n",
      "\u001b[36m(launch_and_fit pid=5576)\u001b[0m classifier.2.weight 1.1920928955078125e-06\n",
      "\u001b[36m(launch_and_fit pid=5576)\u001b[0m classifier.2.bias 9.5367431640625e-07\n",
      "\u001b[36m(launch_and_fit pid=5576)\u001b[0m classifier.3.weights 9.5367431640625e-07\n",
      "\u001b[36m(launch_and_fit pid=5576)\u001b[0m classifier.4.weight 9.5367431640625e-07\n",
      "\u001b[36m(launch_and_fit pid=5576)\u001b[0m classifier.4.bias 9.5367431640625e-07\n"
     ]
    },
    {
     "name": "stderr",
     "output_type": "stream",
     "text": [
      "100%|\u001b[34m██████████\u001b[0m| 10/10 [00:42<00:00,  4.20s/it]\u001b[32m [repeated 3x across cluster]\u001b[0m\n"
     ]
    },
    {
     "name": "stdout",
     "output_type": "stream",
     "text": [
      "\u001b[36m(launch_and_fit pid=5660)\u001b[0m Run with homomorphic encryption\n",
      "\u001b[36m(launch_and_fit pid=5601)\u001b[0m save graph in  results/FL/\n",
      "\u001b[36m(launch_and_fit pid=5601)\u001b[0m \tTrain Epoch: 10 \tTrain_loss: 0.2298 | Train_acc: 98.8971 % | Validation_loss: 0.4862 | Validation_acc: 80.1875 %\n",
      "\u001b[36m(launch_and_fit pid=5601)\u001b[0m classifier.4.bias 1.1920928955078125e-06\u001b[32m [repeated 11x across cluster]\u001b[0m\n",
      "\u001b[36m(launch_and_fit pid=5660)\u001b[0m [Client 7, round 7] fit, config: {'learning_rate': 0.003, 'batch_size': '32', 'server_round': 7, 'local_epochs': 10}\n"
     ]
    },
    {
     "name": "stderr",
     "output_type": "stream",
     "text": [
      "  0%|\u001b[34m          \u001b[0m| 0/10 [00:00<?, ?it/s]\n"
     ]
    },
    {
     "name": "stdout",
     "output_type": "stream",
     "text": [
      "\u001b[36m(launch_and_fit pid=5660)\u001b[0m Updated model\n"
     ]
    },
    {
     "name": "stderr",
     "output_type": "stream",
     "text": [
      " 10%|\u001b[34m█         \u001b[0m| 1/10 [00:04<00:40,  4.48s/it]\n"
     ]
    },
    {
     "name": "stdout",
     "output_type": "stream",
     "text": [
      "\u001b[36m(launch_and_fit pid=5660)\u001b[0m \tTrain Epoch: 1 \tTrain_loss: 0.6607 | Train_acc: 71.8750 % | Validation_loss: 0.7471 | Validation_acc: 72.3750 %\n",
      "\u001b[36m(launch_and_fit pid=5684)\u001b[0m Run with homomorphic encryption\n",
      "\u001b[36m(launch_and_fit pid=5684)\u001b[0m [Client 1, round 7] fit, config: {'learning_rate': 0.003, 'batch_size': '32', 'server_round': 7, 'local_epochs': 10}\n",
      "\u001b[36m(launch_and_fit pid=5684)\u001b[0m Updated model\n"
     ]
    },
    {
     "name": "stderr",
     "output_type": "stream",
     "text": [
      "  0%|\u001b[34m          \u001b[0m| 0/10 [00:00<?, ?it/s]\n",
      " 30%|\u001b[34m███       \u001b[0m| 3/10 [00:12<00:28,  4.14s/it]\u001b[32m [repeated 4x across cluster]\u001b[0m\n"
     ]
    },
    {
     "name": "stdout",
     "output_type": "stream",
     "text": [
      "\u001b[36m(launch_and_fit pid=5660)\u001b[0m \tTrain Epoch: 3 \tTrain_loss: 0.3887 | Train_acc: 85.2941 % | Validation_loss: 0.7198 | Validation_acc: 76.8125 %\u001b[32m [repeated 4x across cluster]\u001b[0m\n"
     ]
    },
    {
     "name": "stderr",
     "output_type": "stream",
     "text": [
      " 50%|\u001b[34m█████     \u001b[0m| 5/10 [00:20<00:20,  4.10s/it]\u001b[32m [repeated 4x across cluster]\u001b[0m\n"
     ]
    },
    {
     "name": "stdout",
     "output_type": "stream",
     "text": [
      "\u001b[36m(launch_and_fit pid=5660)\u001b[0m \tTrain Epoch: 5 \tTrain_loss: 0.3570 | Train_acc: 89.7059 % | Validation_loss: 0.6507 | Validation_acc: 83.0625 %\u001b[32m [repeated 4x across cluster]\u001b[0m\n",
      "\u001b[36m(launch_and_fit pid=5684)\u001b[0m \tTrain Epoch: 6 \tTrain_loss: 0.3298 | Train_acc: 87.5000 % | Validation_loss: 0.5133 | Validation_acc: 88.6250 %\u001b[32m [repeated 3x across cluster]\u001b[0m\n"
     ]
    },
    {
     "name": "stderr",
     "output_type": "stream",
     "text": [
      " 60%|\u001b[34m██████    \u001b[0m| 6/10 [00:24<00:16,  4.11s/it]\u001b[32m [repeated 3x across cluster]\u001b[0m\n",
      " 80%|\u001b[34m████████  \u001b[0m| 8/10 [00:33<00:08,  4.13s/it]\u001b[32m [repeated 3x across cluster]\u001b[0m\n"
     ]
    },
    {
     "name": "stdout",
     "output_type": "stream",
     "text": [
      "\u001b[36m(launch_and_fit pid=5660)\u001b[0m \tTrain Epoch: 8 \tTrain_loss: 0.2671 | Train_acc: 98.8971 % | Validation_loss: 0.6197 | Validation_acc: 87.3125 %\u001b[32m [repeated 3x across cluster]\u001b[0m\n",
      "\u001b[36m(launch_and_fit pid=5684)\u001b[0m \tTrain Epoch: 9 \tTrain_loss: 0.2425 | Train_acc: 97.6103 % | Validation_loss: 0.5858 | Validation_acc: 73.9375 %\u001b[32m [repeated 3x across cluster]\u001b[0m\n"
     ]
    },
    {
     "name": "stderr",
     "output_type": "stream",
     "text": [
      " 90%|\u001b[34m█████████ \u001b[0m| 9/10 [00:37<00:04,  4.14s/it]\u001b[32m [repeated 3x across cluster]\u001b[0m\n"
     ]
    },
    {
     "name": "stdout",
     "output_type": "stream",
     "text": [
      "\u001b[36m(launch_and_fit pid=5660)\u001b[0m save graph in  results/FL/\n",
      "\u001b[36m(launch_and_fit pid=5660)\u001b[0m features.0.weight 4.291534423828125e-06\n",
      "\u001b[36m(launch_and_fit pid=5660)\u001b[0m features.0.bias 1.6689300537109375e-06\n",
      "\u001b[36m(launch_and_fit pid=5660)\u001b[0m features.3.weight 9.5367431640625e-07\n",
      "\u001b[36m(launch_and_fit pid=5660)\u001b[0m features.3.bias 9.5367431640625e-07\n",
      "\u001b[36m(launch_and_fit pid=5660)\u001b[0m classifier.0.weight 9.5367431640625e-07\n",
      "\u001b[36m(launch_and_fit pid=5660)\u001b[0m classifier.0.bias 9.5367431640625e-07\n",
      "\u001b[36m(launch_and_fit pid=5660)\u001b[0m classifier.2.weight 1.1920928955078125e-06\n",
      "\u001b[36m(launch_and_fit pid=5660)\u001b[0m classifier.2.bias 9.5367431640625e-07\n",
      "\u001b[36m(launch_and_fit pid=5660)\u001b[0m classifier.3.weights 1.71661376953125e-05\n",
      "\u001b[36m(launch_and_fit pid=5660)\u001b[0m classifier.4.weight 1.6689300537109375e-06\n",
      "\u001b[36m(launch_and_fit pid=5660)\u001b[0m classifier.4.bias 9.5367431640625e-07\n"
     ]
    },
    {
     "name": "stderr",
     "output_type": "stream",
     "text": [
      "DEBUG flwr 2024-07-21 03:10:20,967 | server.py:236 | fit_round 7 received 10 results and 0 failures\n"
     ]
    },
    {
     "name": "stdout",
     "output_type": "stream",
     "text": [
      "Saving round 7 aggregated_parameters...\n"
     ]
    },
    {
     "name": "stderr",
     "output_type": "stream",
     "text": [
      "DEBUG flwr 2024-07-21 03:10:22,916 | server.py:173 | evaluate_round 7: strategy sampled 10 clients (out of 10)\n"
     ]
    },
    {
     "name": "stdout",
     "output_type": "stream",
     "text": [
      "\u001b[36m(launch_and_evaluate pid=5750)\u001b[0m Run with homomorphic encryption\n",
      "\u001b[36m(launch_and_fit pid=5684)\u001b[0m \tTrain Epoch: 10 \tTrain_loss: 0.2285 | Train_acc: 98.7132 % | Validation_loss: 0.4737 | Validation_acc: 85.0625 %\u001b[32m [repeated 2x across cluster]\u001b[0m\n",
      "\u001b[36m(launch_and_fit pid=5684)\u001b[0m save graph in  results/FL/\n",
      "\u001b[36m(launch_and_fit pid=5684)\u001b[0m classifier.4.bias 1.430511474609375e-06\u001b[32m [repeated 11x across cluster]\u001b[0m\n",
      "\u001b[36m(launch_and_evaluate pid=5750)\u001b[0m [Client 4] evaluate, config: {}\n",
      "\u001b[36m(launch_and_evaluate pid=5750)\u001b[0m Updated model\n",
      "\u001b[36m(launch_and_evaluate pid=5829)\u001b[0m Run with homomorphic encryption\u001b[32m [repeated 2x across cluster]\u001b[0m\n",
      "\u001b[36m(launch_and_evaluate pid=5751)\u001b[0m [Client 7] evaluate, config: {}\n",
      "\u001b[36m(launch_and_evaluate pid=5751)\u001b[0m Updated model\n",
      "\u001b[36m(launch_and_evaluate pid=5829)\u001b[0m [Client 0] evaluate, config: {}\n",
      "\u001b[36m(launch_and_evaluate pid=5829)\u001b[0m Updated model\n",
      "\u001b[36m(launch_and_evaluate pid=5907)\u001b[0m Run with homomorphic encryption\u001b[32m [repeated 2x across cluster]\u001b[0m\n",
      "\u001b[36m(launch_and_evaluate pid=5831)\u001b[0m [Client 1] evaluate, config: {}\n",
      "\u001b[36m(launch_and_evaluate pid=5831)\u001b[0m Updated model\n",
      "\u001b[36m(launch_and_evaluate pid=5907)\u001b[0m [Client 2] evaluate, config: {}\n",
      "\u001b[36m(launch_and_evaluate pid=5909)\u001b[0m Updated model\n",
      "\u001b[36m(launch_and_evaluate pid=5985)\u001b[0m Run with homomorphic encryption\u001b[32m [repeated 2x across cluster]\u001b[0m\n",
      "\u001b[36m(launch_and_evaluate pid=5909)\u001b[0m [Client 5] evaluate, config: {}\n",
      "\u001b[36m(launch_and_evaluate pid=5907)\u001b[0m Updated model\n",
      "\u001b[36m(launch_and_evaluate pid=5985)\u001b[0m [Client 3] evaluate, config: {}\n",
      "\u001b[36m(launch_and_evaluate pid=5985)\u001b[0m Updated model\n",
      "\u001b[36m(launch_and_evaluate pid=6063)\u001b[0m Run with homomorphic encryption\u001b[32m [repeated 2x across cluster]\u001b[0m\n",
      "\u001b[36m(launch_and_evaluate pid=5987)\u001b[0m [Client 8] evaluate, config: {}\n",
      "\u001b[36m(launch_and_evaluate pid=5987)\u001b[0m Updated model\n",
      "\u001b[36m(launch_and_evaluate pid=6063)\u001b[0m [Client 9] evaluate, config: {}\n",
      "\u001b[36m(launch_and_evaluate pid=6063)\u001b[0m Updated model\n"
     ]
    },
    {
     "name": "stderr",
     "output_type": "stream",
     "text": [
      "DEBUG flwr 2024-07-21 03:11:40,223 | server.py:187 | evaluate_round 7 received 10 results and 0 failures\n",
      "DEBUG flwr 2024-07-21 03:11:40,225 | server.py:222 | fit_round 8: strategy sampled 10 clients (out of 10)\n"
     ]
    },
    {
     "name": "stdout",
     "output_type": "stream",
     "text": [
      "\u001b[36m(launch_and_fit pid=6150)\u001b[0m Run with homomorphic encryption\u001b[32m [repeated 2x across cluster]\u001b[0m\n",
      "\u001b[36m(launch_and_evaluate pid=6065)\u001b[0m [Client 6] evaluate, config: {}\n",
      "\u001b[36m(launch_and_evaluate pid=6065)\u001b[0m Updated model\n",
      "\u001b[36m(launch_and_fit pid=6150)\u001b[0m [Client 1, round 8] fit, config: {'learning_rate': 0.003, 'batch_size': '32', 'server_round': 8, 'local_epochs': 10}\n",
      "\u001b[36m(launch_and_fit pid=6150)\u001b[0m Updated model\n"
     ]
    },
    {
     "name": "stderr",
     "output_type": "stream",
     "text": [
      "  0%|\u001b[34m          \u001b[0m| 0/10 [00:00<?, ?it/s]\n",
      "100%|\u001b[34m██████████\u001b[0m| 10/10 [00:41<00:00,  4.14s/it]\u001b[32m [repeated 2x across cluster]\u001b[0m\n"
     ]
    },
    {
     "name": "stdout",
     "output_type": "stream",
     "text": [
      "\u001b[36m(launch_and_fit pid=6151)\u001b[0m \tTrain Epoch: 1 \tTrain_loss: 0.4799 | Train_acc: 82.3529 % | Validation_loss: 0.5385 | Validation_acc: 78.3750 %\n",
      "\u001b[36m(launch_and_fit pid=6151)\u001b[0m Run with homomorphic encryption\n",
      "\u001b[36m(launch_and_fit pid=6151)\u001b[0m [Client 5, round 8] fit, config: {'learning_rate': 0.003, 'batch_size': '32', 'server_round': 8, 'local_epochs': 10}\n"
     ]
    },
    {
     "name": "stderr",
     "output_type": "stream",
     "text": [
      "  0%|\u001b[34m          \u001b[0m| 0/10 [00:00<?, ?it/s]\n",
      " 20%|\u001b[34m██        \u001b[0m| 2/10 [00:08<00:33,  4.22s/it]\u001b[32m [repeated 3x across cluster]\u001b[0m\n"
     ]
    },
    {
     "name": "stdout",
     "output_type": "stream",
     "text": [
      "\u001b[36m(launch_and_fit pid=6151)\u001b[0m Updated model\n",
      "\u001b[36m(launch_and_fit pid=6151)\u001b[0m \tTrain Epoch: 3 \tTrain_loss: 0.2413 | Train_acc: 96.5074 % | Validation_loss: 0.5033 | Validation_acc: 85.0625 %\u001b[32m [repeated 4x across cluster]\u001b[0m\n"
     ]
    },
    {
     "name": "stderr",
     "output_type": "stream",
     "text": [
      " 40%|\u001b[34m████      \u001b[0m| 4/10 [00:16<00:25,  4.18s/it]\u001b[32m [repeated 4x across cluster]\u001b[0m\n"
     ]
    },
    {
     "name": "stdout",
     "output_type": "stream",
     "text": [
      "\u001b[36m(launch_and_fit pid=6151)\u001b[0m \tTrain Epoch: 5 \tTrain_loss: 0.1603 | Train_acc: 99.6324 % | Validation_loss: 0.4834 | Validation_acc: 81.5000 %\u001b[32m [repeated 4x across cluster]\u001b[0m\n"
     ]
    },
    {
     "name": "stderr",
     "output_type": "stream",
     "text": [
      " 60%|\u001b[34m██████    \u001b[0m| 6/10 [00:25<00:16,  4.14s/it]\u001b[32m [repeated 4x across cluster]\u001b[0m\n"
     ]
    },
    {
     "name": "stdout",
     "output_type": "stream",
     "text": [
      "\u001b[36m(launch_and_fit pid=6151)\u001b[0m \tTrain Epoch: 7 \tTrain_loss: 0.1061 | Train_acc: 99.8162 % | Validation_loss: 0.4882 | Validation_acc: 83.0625 %\u001b[32m [repeated 4x across cluster]\u001b[0m\n"
     ]
    },
    {
     "name": "stderr",
     "output_type": "stream",
     "text": [
      " 80%|\u001b[34m████████  \u001b[0m| 8/10 [00:33<00:08,  4.09s/it]\u001b[32m [repeated 4x across cluster]\u001b[0m\n"
     ]
    },
    {
     "name": "stdout",
     "output_type": "stream",
     "text": [
      "\u001b[36m(launch_and_fit pid=6151)\u001b[0m \tTrain Epoch: 9 \tTrain_loss: 0.0741 | Train_acc: 99.8162 % | Validation_loss: 0.4920 | Validation_acc: 83.0625 %\u001b[32m [repeated 4x across cluster]\u001b[0m\n"
     ]
    },
    {
     "name": "stderr",
     "output_type": "stream",
     "text": [
      "100%|\u001b[34m██████████\u001b[0m| 10/10 [00:41<00:00,  4.13s/it]\u001b[32m [repeated 4x across cluster]\u001b[0m\n"
     ]
    },
    {
     "name": "stdout",
     "output_type": "stream",
     "text": [
      "\u001b[36m(launch_and_fit pid=6151)\u001b[0m save graph in  results/FL/\n",
      "\u001b[36m(launch_and_fit pid=6151)\u001b[0m features.0.weight 4.76837158203125e-06\n",
      "\u001b[36m(launch_and_fit pid=6151)\u001b[0m features.0.bias 1.6689300537109375e-06\n",
      "\u001b[36m(launch_and_fit pid=6151)\u001b[0m features.3.weight 1.430511474609375e-06\n",
      "\u001b[36m(launch_and_fit pid=6151)\u001b[0m features.3.bias 1.430511474609375e-06\n",
      "\u001b[36m(launch_and_fit pid=6151)\u001b[0m classifier.0.weight 1.430511474609375e-06\n",
      "\u001b[36m(launch_and_fit pid=6151)\u001b[0m classifier.0.bias 1.1920928955078125e-06\n",
      "\u001b[36m(launch_and_fit pid=6151)\u001b[0m classifier.2.weight 9.5367431640625e-07\n",
      "\u001b[36m(launch_and_fit pid=6151)\u001b[0m classifier.2.bias 1.1920928955078125e-06\n",
      "\u001b[36m(launch_and_fit pid=6151)\u001b[0m classifier.3.weights 1.430511474609375e-06\n",
      "\u001b[36m(launch_and_fit pid=6151)\u001b[0m classifier.4.weight 1.430511474609375e-06\n",
      "\u001b[36m(launch_and_fit pid=6151)\u001b[0m classifier.4.bias 1.1920928955078125e-06\n",
      "\u001b[36m(launch_and_fit pid=6232)\u001b[0m Run with homomorphic encryption\n",
      "\u001b[36m(launch_and_fit pid=6150)\u001b[0m \tTrain Epoch: 10 \tTrain_loss: 0.0678 | Train_acc: 99.8162 % | Validation_loss: 0.3932 | Validation_acc: 84.6250 %\u001b[32m [repeated 3x across cluster]\u001b[0m\n",
      "\u001b[36m(launch_and_fit pid=6150)\u001b[0m save graph in  results/FL/\n",
      "\u001b[36m(launch_and_fit pid=6150)\u001b[0m classifier.4.bias 9.5367431640625e-07\u001b[32m [repeated 11x across cluster]\u001b[0m\n",
      "\u001b[36m(launch_and_fit pid=6232)\u001b[0m [Client 9, round 8] fit, config: {'learning_rate': 0.003, 'batch_size': '32', 'server_round': 8, 'local_epochs': 10}\n",
      "\u001b[36m(launch_and_fit pid=6232)\u001b[0m Updated model\n"
     ]
    },
    {
     "name": "stderr",
     "output_type": "stream",
     "text": [
      "  0%|\u001b[34m          \u001b[0m| 0/10 [00:00<?, ?it/s]\n",
      "100%|\u001b[34m██████████\u001b[0m| 10/10 [00:41<00:00,  4.14s/it]\n"
     ]
    },
    {
     "name": "stdout",
     "output_type": "stream",
     "text": [
      "\u001b[36m(launch_and_fit pid=6234)\u001b[0m Run with homomorphic encryption\n",
      "\u001b[36m(launch_and_fit pid=6232)\u001b[0m \tTrain Epoch: 1 \tTrain_loss: 0.4730 | Train_acc: 80.5147 % | Validation_loss: 0.6706 | Validation_acc: 71.9375 %\n",
      "\u001b[36m(launch_and_fit pid=6234)\u001b[0m [Client 6, round 8] fit, config: {'learning_rate': 0.003, 'batch_size': '32', 'server_round': 8, 'local_epochs': 10}\n"
     ]
    },
    {
     "name": "stderr",
     "output_type": "stream",
     "text": [
      " 10%|\u001b[34m█         \u001b[0m| 1/10 [00:04<00:42,  4.67s/it]\n"
     ]
    },
    {
     "name": "stdout",
     "output_type": "stream",
     "text": [
      "\u001b[36m(launch_and_fit pid=6234)\u001b[0m \tTrain Epoch: 1 \tTrain_loss: 0.4778 | Train_acc: 81.2500 % | Validation_loss: 0.5660 | Validation_acc: 74.6250 %\n",
      "\u001b[36m(launch_and_fit pid=6234)\u001b[0m Updated model\n"
     ]
    },
    {
     "name": "stderr",
     "output_type": "stream",
     "text": [
      "  0%|\u001b[34m          \u001b[0m| 0/10 [00:00<?, ?it/s]\n"
     ]
    },
    {
     "name": "stdout",
     "output_type": "stream",
     "text": [
      "\u001b[36m(launch_and_fit pid=6232)\u001b[0m \tTrain Epoch: 3 \tTrain_loss: 0.2549 | Train_acc: 97.4265 % | Validation_loss: 0.6141 | Validation_acc: 77.0625 %\u001b[32m [repeated 3x across cluster]\u001b[0m\n"
     ]
    },
    {
     "name": "stderr",
     "output_type": "stream",
     "text": [
      " 30%|\u001b[34m███       \u001b[0m| 3/10 [00:12<00:29,  4.17s/it]\u001b[32m [repeated 4x across cluster]\u001b[0m\n"
     ]
    },
    {
     "name": "stdout",
     "output_type": "stream",
     "text": [
      "\u001b[36m(launch_and_fit pid=6232)\u001b[0m \tTrain Epoch: 5 \tTrain_loss: 0.1778 | Train_acc: 99.8162 % | Validation_loss: 0.5623 | Validation_acc: 76.6250 %\u001b[32m [repeated 4x across cluster]\u001b[0m\n"
     ]
    },
    {
     "name": "stderr",
     "output_type": "stream",
     "text": [
      " 50%|\u001b[34m█████     \u001b[0m| 5/10 [00:20<00:20,  4.08s/it]\u001b[32m [repeated 4x across cluster]\u001b[0m\n"
     ]
    },
    {
     "name": "stdout",
     "output_type": "stream",
     "text": [
      "\u001b[36m(launch_and_fit pid=6234)\u001b[0m \tTrain Epoch: 6 \tTrain_loss: 0.1374 | Train_acc: 100.0000 % | Validation_loss: 0.4269 | Validation_acc: 91.3125 %\u001b[32m [repeated 3x across cluster]\u001b[0m\n"
     ]
    },
    {
     "name": "stderr",
     "output_type": "stream",
     "text": [
      " 60%|\u001b[34m██████    \u001b[0m| 6/10 [00:25<00:16,  4.22s/it]\u001b[32m [repeated 3x across cluster]\u001b[0m\n"
     ]
    },
    {
     "name": "stdout",
     "output_type": "stream",
     "text": [
      "\u001b[36m(launch_and_fit pid=6232)\u001b[0m \tTrain Epoch: 8 \tTrain_loss: 0.1053 | Train_acc: 99.4485 % | Validation_loss: 0.6035 | Validation_acc: 73.0625 %\u001b[32m [repeated 3x across cluster]\u001b[0m\n"
     ]
    },
    {
     "name": "stderr",
     "output_type": "stream",
     "text": [
      " 80%|\u001b[34m████████  \u001b[0m| 8/10 [00:33<00:08,  4.13s/it]\u001b[32m [repeated 3x across cluster]\u001b[0m\n"
     ]
    },
    {
     "name": "stdout",
     "output_type": "stream",
     "text": [
      "\u001b[36m(launch_and_fit pid=6232)\u001b[0m save graph in  results/FL/\n",
      "\u001b[36m(launch_and_fit pid=6232)\u001b[0m \tTrain Epoch: 10 \tTrain_loss: 0.0724 | Train_acc: 99.8162 % | Validation_loss: 0.6224 | Validation_acc: 78.1875 %\u001b[32m [repeated 4x across cluster]\u001b[0m\n"
     ]
    },
    {
     "name": "stderr",
     "output_type": "stream",
     "text": [
      "100%|\u001b[34m██████████\u001b[0m| 10/10 [00:41<00:00,  4.15s/it]\u001b[32m [repeated 4x across cluster]\u001b[0m\n"
     ]
    },
    {
     "name": "stdout",
     "output_type": "stream",
     "text": [
      "\u001b[36m(launch_and_fit pid=6232)\u001b[0m features.0.weight 5.4836273193359375e-06\n",
      "\u001b[36m(launch_and_fit pid=6232)\u001b[0m features.0.bias 1.6689300537109375e-06\n",
      "\u001b[36m(launch_and_fit pid=6232)\u001b[0m features.3.weight 1.1920928955078125e-06\n",
      "\u001b[36m(launch_and_fit pid=6232)\u001b[0m features.3.bias 9.5367431640625e-07\n",
      "\u001b[36m(launch_and_fit pid=6232)\u001b[0m classifier.0.weight 9.5367431640625e-07\n",
      "\u001b[36m(launch_and_fit pid=6232)\u001b[0m classifier.0.bias 9.5367431640625e-07\n",
      "\u001b[36m(launch_and_fit pid=6232)\u001b[0m classifier.2.weight 9.5367431640625e-07\n",
      "\u001b[36m(launch_and_fit pid=6232)\u001b[0m classifier.2.bias 1.1920928955078125e-06\n",
      "\u001b[36m(launch_and_fit pid=6232)\u001b[0m classifier.3.weights 1.430511474609375e-06\n",
      "\u001b[36m(launch_and_fit pid=6232)\u001b[0m classifier.4.weight 9.5367431640625e-07\n",
      "\u001b[36m(launch_and_fit pid=6232)\u001b[0m classifier.4.bias 9.5367431640625e-07\n",
      "\u001b[36m(launch_and_fit pid=6314)\u001b[0m Run with homomorphic encryption\n",
      "\u001b[36m(launch_and_fit pid=6234)\u001b[0m save graph in  results/FL/\n",
      "\u001b[36m(launch_and_fit pid=6234)\u001b[0m \tTrain Epoch: 10 \tTrain_loss: 0.0643 | Train_acc: 100.0000 % | Validation_loss: 0.4842 | Validation_acc: 85.3125 %\n",
      "\u001b[36m(launch_and_fit pid=6234)\u001b[0m classifier.4.bias 9.5367431640625e-07\u001b[32m [repeated 11x across cluster]\u001b[0m\n",
      "\u001b[36m(launch_and_fit pid=6314)\u001b[0m [Client 0, round 8] fit, config: {'learning_rate': 0.003, 'batch_size': '32', 'server_round': 8, 'local_epochs': 10}\n"
     ]
    },
    {
     "name": "stderr",
     "output_type": "stream",
     "text": [
      "  0%|\u001b[34m          \u001b[0m| 0/10 [00:00<?, ?it/s]\n",
      "100%|\u001b[34m██████████\u001b[0m| 10/10 [00:41<00:00,  4.17s/it]\n"
     ]
    },
    {
     "name": "stdout",
     "output_type": "stream",
     "text": [
      "\u001b[36m(launch_and_fit pid=6314)\u001b[0m Updated model\n"
     ]
    },
    {
     "name": "stderr",
     "output_type": "stream",
     "text": [
      " 10%|\u001b[34m█         \u001b[0m| 1/10 [00:04<00:40,  4.48s/it]\n"
     ]
    },
    {
     "name": "stdout",
     "output_type": "stream",
     "text": [
      "\u001b[36m(launch_and_fit pid=6314)\u001b[0m \tTrain Epoch: 1 \tTrain_loss: 0.4394 | Train_acc: 82.1691 % | Validation_loss: 0.5504 | Validation_acc: 79.7500 %\n",
      "\u001b[36m(launch_and_fit pid=6339)\u001b[0m Run with homomorphic encryption\n",
      "\u001b[36m(launch_and_fit pid=6339)\u001b[0m [Client 2, round 8] fit, config: {'learning_rate': 0.003, 'batch_size': '32', 'server_round': 8, 'local_epochs': 10}\n",
      "\u001b[36m(launch_and_fit pid=6339)\u001b[0m Updated model\n"
     ]
    },
    {
     "name": "stderr",
     "output_type": "stream",
     "text": [
      "  0%|\u001b[34m          \u001b[0m| 0/10 [00:00<?, ?it/s]\n",
      " 30%|\u001b[34m███       \u001b[0m| 3/10 [00:12<00:28,  4.08s/it]\u001b[32m [repeated 4x across cluster]\u001b[0m\n"
     ]
    },
    {
     "name": "stdout",
     "output_type": "stream",
     "text": [
      "\u001b[36m(launch_and_fit pid=6314)\u001b[0m \tTrain Epoch: 3 \tTrain_loss: 0.2400 | Train_acc: 97.2426 % | Validation_loss: 0.5070 | Validation_acc: 81.3125 %\u001b[32m [repeated 4x across cluster]\u001b[0m\n"
     ]
    },
    {
     "name": "stderr",
     "output_type": "stream",
     "text": [
      " 50%|\u001b[34m█████     \u001b[0m| 5/10 [00:20<00:20,  4.04s/it]\u001b[32m [repeated 4x across cluster]\u001b[0m\n"
     ]
    },
    {
     "name": "stdout",
     "output_type": "stream",
     "text": [
      "\u001b[36m(launch_and_fit pid=6314)\u001b[0m \tTrain Epoch: 5 \tTrain_loss: 0.1590 | Train_acc: 98.8971 % | Validation_loss: 0.4425 | Validation_acc: 77.7500 %\u001b[32m [repeated 4x across cluster]\u001b[0m\n",
      "\u001b[36m(launch_and_fit pid=6339)\u001b[0m \tTrain Epoch: 6 \tTrain_loss: 0.1454 | Train_acc: 99.0809 % | Validation_loss: 0.4001 | Validation_acc: 78.6250 %\u001b[32m [repeated 3x across cluster]\u001b[0m\n"
     ]
    },
    {
     "name": "stderr",
     "output_type": "stream",
     "text": [
      " 60%|\u001b[34m██████    \u001b[0m| 6/10 [00:24<00:16,  4.07s/it]\u001b[32m [repeated 3x across cluster]\u001b[0m\n",
      " 80%|\u001b[34m████████  \u001b[0m| 8/10 [00:32<00:08,  4.12s/it]\u001b[32m [repeated 3x across cluster]\u001b[0m\n"
     ]
    },
    {
     "name": "stdout",
     "output_type": "stream",
     "text": [
      "\u001b[36m(launch_and_fit pid=6314)\u001b[0m \tTrain Epoch: 8 \tTrain_loss: 0.0994 | Train_acc: 99.4485 % | Validation_loss: 0.4527 | Validation_acc: 81.3125 %\u001b[32m [repeated 3x across cluster]\u001b[0m\n",
      "\u001b[36m(launch_and_fit pid=6339)\u001b[0m \tTrain Epoch: 9 \tTrain_loss: 0.0948 | Train_acc: 99.4485 % | Validation_loss: 0.3770 | Validation_acc: 86.6250 %\u001b[32m [repeated 3x across cluster]\u001b[0m\n"
     ]
    },
    {
     "name": "stderr",
     "output_type": "stream",
     "text": [
      " 90%|\u001b[34m█████████ \u001b[0m| 9/10 [00:37<00:04,  4.14s/it]\u001b[32m [repeated 3x across cluster]\u001b[0m\n"
     ]
    },
    {
     "name": "stdout",
     "output_type": "stream",
     "text": [
      "\u001b[36m(launch_and_fit pid=6314)\u001b[0m save graph in  results/FL/\n",
      "\u001b[36m(launch_and_fit pid=6314)\u001b[0m features.0.weight 5.245208740234375e-06\n",
      "\u001b[36m(launch_and_fit pid=6314)\u001b[0m features.0.bias 9.5367431640625e-07\n",
      "\u001b[36m(launch_and_fit pid=6314)\u001b[0m features.3.weight 9.5367431640625e-07\n",
      "\u001b[36m(launch_and_fit pid=6314)\u001b[0m features.3.bias 1.1920928955078125e-06\n",
      "\u001b[36m(launch_and_fit pid=6314)\u001b[0m classifier.0.weight 9.5367431640625e-07\n",
      "\u001b[36m(launch_and_fit pid=6314)\u001b[0m classifier.0.bias 1.1920928955078125e-06\n",
      "\u001b[36m(launch_and_fit pid=6314)\u001b[0m classifier.2.weight 1.1920928955078125e-06\n",
      "\u001b[36m(launch_and_fit pid=6314)\u001b[0m classifier.2.bias 1.430511474609375e-06\n",
      "\u001b[36m(launch_and_fit pid=6314)\u001b[0m classifier.3.weights 1.9073486328125e-06\n",
      "\u001b[36m(launch_and_fit pid=6314)\u001b[0m classifier.4.weight 1.430511474609375e-06\n",
      "\u001b[36m(launch_and_fit pid=6314)\u001b[0m classifier.4.bias 1.430511474609375e-06\n",
      "\u001b[36m(launch_and_fit pid=6397)\u001b[0m Run with homomorphic encryption\n",
      "\u001b[36m(launch_and_fit pid=6339)\u001b[0m \tTrain Epoch: 10 \tTrain_loss: 0.0746 | Train_acc: 99.6324 % | Validation_loss: 0.3684 | Validation_acc: 87.7500 %\u001b[32m [repeated 2x across cluster]\u001b[0m\n",
      "\u001b[36m(launch_and_fit pid=6339)\u001b[0m save graph in  results/FL/\n",
      "\u001b[36m(launch_and_fit pid=6339)\u001b[0m classifier.4.bias 9.5367431640625e-07\u001b[32m [repeated 11x across cluster]\u001b[0m\n",
      "\u001b[36m(launch_and_fit pid=6397)\u001b[0m [Client 4, round 8] fit, config: {'learning_rate': 0.003, 'batch_size': '32', 'server_round': 8, 'local_epochs': 10}\n",
      "\u001b[36m(launch_and_fit pid=6397)\u001b[0m Updated model\n"
     ]
    },
    {
     "name": "stderr",
     "output_type": "stream",
     "text": [
      "  0%|\u001b[34m          \u001b[0m| 0/10 [00:00<?, ?it/s]\n",
      "100%|\u001b[34m██████████\u001b[0m| 10/10 [00:41<00:00,  4.16s/it]\u001b[32m [repeated 2x across cluster]\u001b[0m\n"
     ]
    },
    {
     "name": "stdout",
     "output_type": "stream",
     "text": [
      "\u001b[36m(launch_and_fit pid=6422)\u001b[0m Run with homomorphic encryption\n",
      "\u001b[36m(launch_and_fit pid=6397)\u001b[0m \tTrain Epoch: 1 \tTrain_loss: 0.4871 | Train_acc: 82.3529 % | Validation_loss: 0.3921 | Validation_acc: 87.0625 %\n",
      "\u001b[36m(launch_and_fit pid=6422)\u001b[0m [Client 3, round 8] fit, config: {'learning_rate': 0.003, 'batch_size': '32', 'server_round': 8, 'local_epochs': 10}\n"
     ]
    },
    {
     "name": "stderr",
     "output_type": "stream",
     "text": [
      "  0%|\u001b[34m          \u001b[0m| 0/10 [00:00<?, ?it/s]\n",
      " 10%|\u001b[34m█         \u001b[0m| 1/10 [00:05<00:45,  5.04s/it]\u001b[32m [repeated 2x across cluster]\u001b[0m\n"
     ]
    },
    {
     "name": "stdout",
     "output_type": "stream",
     "text": [
      "\u001b[36m(launch_and_fit pid=6422)\u001b[0m \tTrain Epoch: 1 \tTrain_loss: 0.4317 | Train_acc: 84.3750 % | Validation_loss: 0.6264 | Validation_acc: 77.0625 %\n",
      "\u001b[36m(launch_and_fit pid=6422)\u001b[0m Updated model\n",
      "\u001b[36m(launch_and_fit pid=6397)\u001b[0m \tTrain Epoch: 3 \tTrain_loss: 0.2594 | Train_acc: 95.9559 % | Validation_loss: 0.3935 | Validation_acc: 89.7500 %\u001b[32m [repeated 3x across cluster]\u001b[0m\n"
     ]
    },
    {
     "name": "stderr",
     "output_type": "stream",
     "text": [
      " 30%|\u001b[34m███       \u001b[0m| 3/10 [00:12<00:29,  4.26s/it]\u001b[32m [repeated 3x across cluster]\u001b[0m\n",
      " 40%|\u001b[34m████      \u001b[0m| 4/10 [00:17<00:24,  4.16s/it]\u001b[32m [repeated 3x across cluster]\u001b[0m\n"
     ]
    },
    {
     "name": "stdout",
     "output_type": "stream",
     "text": [
      "\u001b[36m(launch_and_fit pid=6422)\u001b[0m \tTrain Epoch: 4 \tTrain_loss: 0.1924 | Train_acc: 98.5294 % | Validation_loss: 0.5634 | Validation_acc: 79.0625 %\u001b[32m [repeated 3x across cluster]\u001b[0m\n",
      "\u001b[36m(launch_and_fit pid=6397)\u001b[0m \tTrain Epoch: 6 \tTrain_loss: 0.1606 | Train_acc: 99.2647 % | Validation_loss: 0.3672 | Validation_acc: 86.1875 %\u001b[32m [repeated 3x across cluster]\u001b[0m\n"
     ]
    },
    {
     "name": "stderr",
     "output_type": "stream",
     "text": [
      " 60%|\u001b[34m██████    \u001b[0m| 6/10 [00:24<00:16,  4.05s/it]\u001b[32m [repeated 3x across cluster]\u001b[0m\n",
      " 70%|\u001b[34m███████   \u001b[0m| 7/10 [00:29<00:12,  4.11s/it]\u001b[32m [repeated 3x across cluster]\u001b[0m\n"
     ]
    },
    {
     "name": "stdout",
     "output_type": "stream",
     "text": [
      "\u001b[36m(launch_and_fit pid=6422)\u001b[0m \tTrain Epoch: 7 \tTrain_loss: 0.1106 | Train_acc: 100.0000 % | Validation_loss: 0.5277 | Validation_acc: 80.6250 %\u001b[32m [repeated 3x across cluster]\u001b[0m\n",
      "\u001b[36m(launch_and_fit pid=6397)\u001b[0m \tTrain Epoch: 9 \tTrain_loss: 0.0965 | Train_acc: 100.0000 % | Validation_loss: 0.3682 | Validation_acc: 86.1875 %\u001b[32m [repeated 3x across cluster]\u001b[0m\n"
     ]
    },
    {
     "name": "stderr",
     "output_type": "stream",
     "text": [
      " 90%|\u001b[34m█████████ \u001b[0m| 9/10 [00:37<00:04,  4.07s/it]\u001b[32m [repeated 3x across cluster]\u001b[0m\n"
     ]
    },
    {
     "name": "stdout",
     "output_type": "stream",
     "text": [
      "\u001b[36m(launch_and_fit pid=6397)\u001b[0m save graph in  results/FL/\n",
      "\u001b[36m(launch_and_fit pid=6397)\u001b[0m features.0.weight 4.76837158203125e-06\n",
      "\u001b[36m(launch_and_fit pid=6397)\u001b[0m features.0.bias 1.1920928955078125e-06\n",
      "\u001b[36m(launch_and_fit pid=6397)\u001b[0m features.3.weight 9.5367431640625e-07\n",
      "\u001b[36m(launch_and_fit pid=6397)\u001b[0m features.3.bias 7.152557373046875e-07\n",
      "\u001b[36m(launch_and_fit pid=6397)\u001b[0m classifier.0.weight 1.1920928955078125e-06\n",
      "\u001b[36m(launch_and_fit pid=6397)\u001b[0m classifier.0.bias 1.1920928955078125e-06\n",
      "\u001b[36m(launch_and_fit pid=6397)\u001b[0m classifier.2.weight 9.5367431640625e-07\n",
      "\u001b[36m(launch_and_fit pid=6397)\u001b[0m classifier.2.bias 9.5367431640625e-07\n",
      "\u001b[36m(launch_and_fit pid=6397)\u001b[0m classifier.3.weights 9.5367431640625e-07\n",
      "\u001b[36m(launch_and_fit pid=6397)\u001b[0m classifier.4.weight 9.5367431640625e-07\n",
      "\u001b[36m(launch_and_fit pid=6397)\u001b[0m classifier.4.bias 9.5367431640625e-07\n"
     ]
    },
    {
     "name": "stderr",
     "output_type": "stream",
     "text": [
      "100%|\u001b[34m██████████\u001b[0m| 10/10 [00:42<00:00,  4.20s/it]\u001b[32m [repeated 3x across cluster]\u001b[0m\n"
     ]
    },
    {
     "name": "stdout",
     "output_type": "stream",
     "text": [
      "\u001b[36m(launch_and_fit pid=6422)\u001b[0m \tTrain Epoch: 10 \tTrain_loss: 0.0652 | Train_acc: 100.0000 % | Validation_loss: 0.5060 | Validation_acc: 80.6250 %\u001b[32m [repeated 3x across cluster]\u001b[0m\n",
      "\u001b[36m(launch_and_fit pid=6479)\u001b[0m Run with homomorphic encryption\n",
      "\u001b[36m(launch_and_fit pid=6422)\u001b[0m save graph in  results/FL/\n",
      "\u001b[36m(launch_and_fit pid=6422)\u001b[0m classifier.4.bias 1.9073486328125e-06\u001b[32m [repeated 11x across cluster]\u001b[0m\n",
      "\u001b[36m(launch_and_fit pid=6479)\u001b[0m [Client 7, round 8] fit, config: {'learning_rate': 0.003, 'batch_size': '32', 'server_round': 8, 'local_epochs': 10}\n",
      "\u001b[36m(launch_and_fit pid=6479)\u001b[0m Updated model\n"
     ]
    },
    {
     "name": "stderr",
     "output_type": "stream",
     "text": [
      "  0%|\u001b[34m          \u001b[0m| 0/10 [00:00<?, ?it/s]\n"
     ]
    },
    {
     "name": "stdout",
     "output_type": "stream",
     "text": [
      "\u001b[36m(launch_and_fit pid=6479)\u001b[0m \tTrain Epoch: 1 \tTrain_loss: 0.4330 | Train_acc: 83.0882 % | Validation_loss: 0.5523 | Validation_acc: 87.7500 %\n",
      "\u001b[36m(launch_and_fit pid=6504)\u001b[0m Run with homomorphic encryption\n",
      "\u001b[36m(launch_and_fit pid=6504)\u001b[0m [Client 8, round 8] fit, config: {'learning_rate': 0.003, 'batch_size': '32', 'server_round': 8, 'local_epochs': 10}\n"
     ]
    },
    {
     "name": "stderr",
     "output_type": "stream",
     "text": [
      " 10%|\u001b[34m█         \u001b[0m| 1/10 [00:04<00:39,  4.44s/it]\n"
     ]
    },
    {
     "name": "stdout",
     "output_type": "stream",
     "text": [
      "\u001b[36m(launch_and_fit pid=6504)\u001b[0m Updated model\n"
     ]
    },
    {
     "name": "stderr",
     "output_type": "stream",
     "text": [
      "  0%|\u001b[34m          \u001b[0m| 0/10 [00:00<?, ?it/s]\n"
     ]
    },
    {
     "name": "stdout",
     "output_type": "stream",
     "text": [
      "\u001b[36m(launch_and_fit pid=6504)\u001b[0m \tTrain Epoch: 2 \tTrain_loss: 0.3096 | Train_acc: 93.5662 % | Validation_loss: 0.4345 | Validation_acc: 83.7500 %\u001b[32m [repeated 3x across cluster]\u001b[0m\n"
     ]
    },
    {
     "name": "stderr",
     "output_type": "stream",
     "text": [
      " 20%|\u001b[34m██        \u001b[0m| 2/10 [00:08<00:34,  4.32s/it]\u001b[32m [repeated 3x across cluster]\u001b[0m\n"
     ]
    },
    {
     "name": "stdout",
     "output_type": "stream",
     "text": [
      "\u001b[36m(launch_and_fit pid=6479)\u001b[0m \tTrain Epoch: 4 \tTrain_loss: 0.1844 | Train_acc: 99.4485 % | Validation_loss: 0.5388 | Validation_acc: 89.3125 %\u001b[32m [repeated 3x across cluster]\u001b[0m\n"
     ]
    },
    {
     "name": "stderr",
     "output_type": "stream",
     "text": [
      " 40%|\u001b[34m████      \u001b[0m| 4/10 [00:16<00:25,  4.21s/it]\u001b[32m [repeated 3x across cluster]\u001b[0m\n"
     ]
    },
    {
     "name": "stdout",
     "output_type": "stream",
     "text": [
      "\u001b[36m(launch_and_fit pid=6504)\u001b[0m \tTrain Epoch: 5 \tTrain_loss: 0.1470 | Train_acc: 99.6324 % | Validation_loss: 0.4175 | Validation_acc: 86.4375 %\u001b[32m [repeated 3x across cluster]\u001b[0m\n"
     ]
    },
    {
     "name": "stderr",
     "output_type": "stream",
     "text": [
      " 50%|\u001b[34m█████     \u001b[0m| 5/10 [00:21<00:20,  4.12s/it]\u001b[32m [repeated 3x across cluster]\u001b[0m\n"
     ]
    },
    {
     "name": "stdout",
     "output_type": "stream",
     "text": [
      "\u001b[36m(launch_and_fit pid=6479)\u001b[0m \tTrain Epoch: 7 \tTrain_loss: 0.1092 | Train_acc: 99.6324 % | Validation_loss: 0.4928 | Validation_acc: 90.8750 %\u001b[32m [repeated 3x across cluster]\u001b[0m\n"
     ]
    },
    {
     "name": "stderr",
     "output_type": "stream",
     "text": [
      " 70%|\u001b[34m███████   \u001b[0m| 7/10 [00:29<00:12,  4.09s/it]\u001b[32m [repeated 3x across cluster]\u001b[0m\n"
     ]
    },
    {
     "name": "stdout",
     "output_type": "stream",
     "text": [
      "\u001b[36m(launch_and_fit pid=6504)\u001b[0m \tTrain Epoch: 8 \tTrain_loss: 0.0861 | Train_acc: 100.0000 % | Validation_loss: 0.4198 | Validation_acc: 79.7500 %\u001b[32m [repeated 3x across cluster]\u001b[0m\n"
     ]
    },
    {
     "name": "stderr",
     "output_type": "stream",
     "text": [
      " 80%|\u001b[34m████████  \u001b[0m| 8/10 [00:33<00:08,  4.07s/it]\u001b[32m [repeated 3x across cluster]\u001b[0m\n"
     ]
    },
    {
     "name": "stdout",
     "output_type": "stream",
     "text": [
      "\u001b[36m(launch_and_fit pid=6479)\u001b[0m save graph in  results/FL/\n",
      "\u001b[36m(launch_and_fit pid=6479)\u001b[0m \tTrain Epoch: 10 \tTrain_loss: 0.0616 | Train_acc: 100.0000 % | Validation_loss: 0.4802 | Validation_acc: 89.3125 %\u001b[32m [repeated 3x across cluster]\u001b[0m\n"
     ]
    },
    {
     "name": "stderr",
     "output_type": "stream",
     "text": [
      "100%|\u001b[34m██████████\u001b[0m| 10/10 [00:41<00:00,  4.10s/it]\u001b[32m [repeated 3x across cluster]\u001b[0m\n"
     ]
    },
    {
     "name": "stdout",
     "output_type": "stream",
     "text": [
      "\u001b[36m(launch_and_fit pid=6479)\u001b[0m features.0.weight 5.245208740234375e-06\n",
      "\u001b[36m(launch_and_fit pid=6479)\u001b[0m features.0.bias 1.1920928955078125e-06\n",
      "\u001b[36m(launch_and_fit pid=6479)\u001b[0m features.3.weight 9.5367431640625e-07\n",
      "\u001b[36m(launch_and_fit pid=6479)\u001b[0m features.3.bias 9.5367431640625e-07\n",
      "\u001b[36m(launch_and_fit pid=6479)\u001b[0m classifier.0.weight 1.1920928955078125e-06\n",
      "\u001b[36m(launch_and_fit pid=6479)\u001b[0m classifier.0.bias 1.430511474609375e-06\n",
      "\u001b[36m(launch_and_fit pid=6479)\u001b[0m classifier.2.weight 1.1920928955078125e-06\n",
      "\u001b[36m(launch_and_fit pid=6479)\u001b[0m classifier.2.bias 9.5367431640625e-07\n",
      "\u001b[36m(launch_and_fit pid=6479)\u001b[0m classifier.3.weights 1.430511474609375e-06\n",
      "\u001b[36m(launch_and_fit pid=6479)\u001b[0m classifier.4.weight 9.5367431640625e-07\n",
      "\u001b[36m(launch_and_fit pid=6479)\u001b[0m classifier.4.bias 1.1920928955078125e-06\n"
     ]
    },
    {
     "name": "stderr",
     "output_type": "stream",
     "text": [
      "DEBUG flwr 2024-07-21 03:16:23,824 | server.py:236 | fit_round 8 received 10 results and 0 failures\n"
     ]
    },
    {
     "name": "stdout",
     "output_type": "stream",
     "text": [
      "Saving round 8 aggregated_parameters...\n"
     ]
    },
    {
     "name": "stderr",
     "output_type": "stream",
     "text": [
      "DEBUG flwr 2024-07-21 03:16:25,804 | server.py:173 | evaluate_round 8: strategy sampled 10 clients (out of 10)\n"
     ]
    },
    {
     "name": "stdout",
     "output_type": "stream",
     "text": [
      "\u001b[36m(launch_and_evaluate pid=6571)\u001b[0m Run with homomorphic encryption\n",
      "\u001b[36m(launch_and_fit pid=6504)\u001b[0m save graph in  results/FL/\n",
      "\u001b[36m(launch_and_fit pid=6504)\u001b[0m \tTrain Epoch: 10 \tTrain_loss: 0.0623 | Train_acc: 100.0000 % | Validation_loss: 0.4027 | Validation_acc: 83.7500 %\n",
      "\u001b[36m(launch_and_fit pid=6504)\u001b[0m classifier.4.bias 1.9073486328125e-06\u001b[32m [repeated 11x across cluster]\u001b[0m\n",
      "\u001b[36m(launch_and_evaluate pid=6571)\u001b[0m [Client 4] evaluate, config: {}\n",
      "\u001b[36m(launch_and_evaluate pid=6571)\u001b[0m Updated model\n",
      "\u001b[36m(launch_and_evaluate pid=6649)\u001b[0m Run with homomorphic encryption\u001b[32m [repeated 2x across cluster]\u001b[0m\n",
      "\u001b[36m(launch_and_evaluate pid=6570)\u001b[0m [Client 3] evaluate, config: {}\n",
      "\u001b[36m(launch_and_evaluate pid=6570)\u001b[0m Updated model\n",
      "\u001b[36m(launch_and_evaluate pid=6649)\u001b[0m [Client 7] evaluate, config: {}\n",
      "\u001b[36m(launch_and_evaluate pid=6649)\u001b[0m Updated model\n",
      "\u001b[36m(launch_and_evaluate pid=6727)\u001b[0m Run with homomorphic encryption\u001b[32m [repeated 2x across cluster]\u001b[0m\n",
      "\u001b[36m(launch_and_evaluate pid=6651)\u001b[0m [Client 9] evaluate, config: {}\n",
      "\u001b[36m(launch_and_evaluate pid=6651)\u001b[0m Updated model\n",
      "\u001b[36m(launch_and_evaluate pid=6727)\u001b[0m [Client 5] evaluate, config: {}\n",
      "\u001b[36m(launch_and_evaluate pid=6727)\u001b[0m Updated model\n",
      "\u001b[36m(launch_and_evaluate pid=6807)\u001b[0m Run with homomorphic encryption\u001b[32m [repeated 2x across cluster]\u001b[0m\n",
      "\u001b[36m(launch_and_evaluate pid=6729)\u001b[0m [Client 1] evaluate, config: {}\n",
      "\u001b[36m(launch_and_evaluate pid=6729)\u001b[0m Updated model\n",
      "\u001b[36m(launch_and_evaluate pid=6807)\u001b[0m [Client 6] evaluate, config: {}\n",
      "\u001b[36m(launch_and_evaluate pid=6805)\u001b[0m Updated model\n",
      "\u001b[36m(launch_and_evaluate pid=6883)\u001b[0m Run with homomorphic encryption\u001b[32m [repeated 2x across cluster]\u001b[0m\n",
      "\u001b[36m(launch_and_evaluate pid=6805)\u001b[0m [Client 0] evaluate, config: {}\n",
      "\u001b[36m(launch_and_evaluate pid=6807)\u001b[0m Updated model\n",
      "\u001b[36m(launch_and_evaluate pid=6883)\u001b[0m [Client 2] evaluate, config: {}\n",
      "\u001b[36m(launch_and_evaluate pid=6883)\u001b[0m Updated model\n"
     ]
    },
    {
     "name": "stderr",
     "output_type": "stream",
     "text": [
      "DEBUG flwr 2024-07-21 03:17:43,172 | server.py:187 | evaluate_round 8 received 10 results and 0 failures\n",
      "DEBUG flwr 2024-07-21 03:17:43,173 | server.py:222 | fit_round 9: strategy sampled 10 clients (out of 10)\n"
     ]
    },
    {
     "name": "stdout",
     "output_type": "stream",
     "text": [
      "\u001b[36m(launch_and_fit pid=6971)\u001b[0m Run with homomorphic encryption\u001b[32m [repeated 2x across cluster]\u001b[0m\n",
      "\u001b[36m(launch_and_evaluate pid=6885)\u001b[0m [Client 8] evaluate, config: {}\n",
      "\u001b[36m(launch_and_evaluate pid=6885)\u001b[0m Updated model\n",
      "\u001b[36m(launch_and_fit pid=6970)\u001b[0m [Client 1, round 9] fit, config: {'learning_rate': 0.003, 'batch_size': '32', 'server_round': 9, 'local_epochs': 10}\n"
     ]
    },
    {
     "name": "stderr",
     "output_type": "stream",
     "text": [
      "  0%|\u001b[34m          \u001b[0m| 0/10 [00:00<?, ?it/s]\n",
      "100%|\u001b[34m██████████\u001b[0m| 10/10 [00:41<00:00,  4.13s/it]\n"
     ]
    },
    {
     "name": "stdout",
     "output_type": "stream",
     "text": [
      "\u001b[36m(launch_and_fit pid=6970)\u001b[0m Updated model\n",
      "\u001b[36m(launch_and_fit pid=6971)\u001b[0m \tTrain Epoch: 1 \tTrain_loss: 0.2332 | Train_acc: 93.7500 % | Validation_loss: 0.5073 | Validation_acc: 83.7500 %\n",
      "\u001b[36m(launch_and_fit pid=6970)\u001b[0m Run with homomorphic encryption\n",
      "\u001b[36m(launch_and_fit pid=6971)\u001b[0m [Client 3, round 9] fit, config: {'learning_rate': 0.003, 'batch_size': '32', 'server_round': 9, 'local_epochs': 10}\n"
     ]
    },
    {
     "name": "stderr",
     "output_type": "stream",
     "text": [
      " 10%|\u001b[34m█         \u001b[0m| 1/10 [00:04<00:44,  4.96s/it]\n"
     ]
    },
    {
     "name": "stdout",
     "output_type": "stream",
     "text": [
      "\u001b[36m(launch_and_fit pid=6971)\u001b[0m Updated model\n"
     ]
    },
    {
     "name": "stderr",
     "output_type": "stream",
     "text": [
      "  0%|\u001b[34m          \u001b[0m| 0/10 [00:00<?, ?it/s]\n"
     ]
    },
    {
     "name": "stdout",
     "output_type": "stream",
     "text": [
      "\u001b[36m(launch_and_fit pid=6971)\u001b[0m \tTrain Epoch: 3 \tTrain_loss: 0.0837 | Train_acc: 98.8971 % | Validation_loss: 0.3892 | Validation_acc: 87.3125 %\u001b[32m [repeated 4x across cluster]\u001b[0m\n"
     ]
    },
    {
     "name": "stderr",
     "output_type": "stream",
     "text": [
      " 30%|\u001b[34m███       \u001b[0m| 3/10 [00:13<00:30,  4.33s/it]\u001b[32m [repeated 4x across cluster]\u001b[0m\n"
     ]
    },
    {
     "name": "stdout",
     "output_type": "stream",
     "text": [
      "\u001b[36m(launch_and_fit pid=6971)\u001b[0m \tTrain Epoch: 5 \tTrain_loss: 0.0474 | Train_acc: 99.6324 % | Validation_loss: 0.3908 | Validation_acc: 86.1875 %\u001b[32m [repeated 4x across cluster]\u001b[0m\n"
     ]
    },
    {
     "name": "stderr",
     "output_type": "stream",
     "text": [
      " 50%|\u001b[34m█████     \u001b[0m| 5/10 [00:21<00:21,  4.23s/it]\u001b[32m [repeated 4x across cluster]\u001b[0m\n"
     ]
    },
    {
     "name": "stdout",
     "output_type": "stream",
     "text": [
      "\u001b[36m(launch_and_fit pid=6971)\u001b[0m \tTrain Epoch: 7 \tTrain_loss: 0.0315 | Train_acc: 100.0000 % | Validation_loss: 0.3958 | Validation_acc: 85.7500 %\u001b[32m [repeated 4x across cluster]\u001b[0m\n"
     ]
    },
    {
     "name": "stderr",
     "output_type": "stream",
     "text": [
      " 70%|\u001b[34m███████   \u001b[0m| 7/10 [00:29<00:12,  4.16s/it]\u001b[32m [repeated 4x across cluster]\u001b[0m\n"
     ]
    },
    {
     "name": "stdout",
     "output_type": "stream",
     "text": [
      "\u001b[36m(launch_and_fit pid=6971)\u001b[0m \tTrain Epoch: 9 \tTrain_loss: 0.0241 | Train_acc: 99.8162 % | Validation_loss: 0.3641 | Validation_acc: 85.7500 %\u001b[32m [repeated 4x across cluster]\u001b[0m\n"
     ]
    },
    {
     "name": "stderr",
     "output_type": "stream",
     "text": [
      " 90%|\u001b[34m█████████ \u001b[0m| 9/10 [00:38<00:04,  4.16s/it]\u001b[32m [repeated 4x across cluster]\u001b[0m\n"
     ]
    },
    {
     "name": "stdout",
     "output_type": "stream",
     "text": [
      "\u001b[36m(launch_and_fit pid=6971)\u001b[0m save graph in  results/FL/\n",
      "\u001b[36m(launch_and_fit pid=6971)\u001b[0m features.0.weight 5.245208740234375e-06\n",
      "\u001b[36m(launch_and_fit pid=6971)\u001b[0m features.0.bias 1.430511474609375e-06\n",
      "\u001b[36m(launch_and_fit pid=6971)\u001b[0m features.3.weight 1.1920928955078125e-06\n",
      "\u001b[36m(launch_and_fit pid=6971)\u001b[0m features.3.bias 9.5367431640625e-07\n",
      "\u001b[36m(launch_and_fit pid=6971)\u001b[0m classifier.0.weight 1.1920928955078125e-06\n",
      "\u001b[36m(launch_and_fit pid=6971)\u001b[0m classifier.0.bias 9.5367431640625e-07\n",
      "\u001b[36m(launch_and_fit pid=6971)\u001b[0m classifier.2.weight 1.1920928955078125e-06\n",
      "\u001b[36m(launch_and_fit pid=6971)\u001b[0m classifier.2.bias 9.5367431640625e-07\n",
      "\u001b[36m(launch_and_fit pid=6971)\u001b[0m classifier.3.weights 1.1920928955078125e-06\n",
      "\u001b[36m(launch_and_fit pid=6971)\u001b[0m classifier.4.weight 9.5367431640625e-07\n",
      "\u001b[36m(launch_and_fit pid=6971)\u001b[0m classifier.4.bias 1.1920928955078125e-06\n",
      "\u001b[36m(launch_and_fit pid=7051)\u001b[0m Run with homomorphic encryption\n",
      "\u001b[36m(launch_and_fit pid=6970)\u001b[0m \tTrain Epoch: 10 \tTrain_loss: 0.0304 | Train_acc: 99.6324 % | Validation_loss: 0.3661 | Validation_acc: 86.6250 %\u001b[32m [repeated 3x across cluster]\u001b[0m\n",
      "\u001b[36m(launch_and_fit pid=6970)\u001b[0m save graph in  results/FL/\n",
      "\u001b[36m(launch_and_fit pid=6970)\u001b[0m classifier.4.bias 1.1920928955078125e-06\u001b[32m [repeated 11x across cluster]\u001b[0m\n",
      "\u001b[36m(launch_and_fit pid=7051)\u001b[0m [Client 9, round 9] fit, config: {'learning_rate': 0.003, 'batch_size': '32', 'server_round': 9, 'local_epochs': 10}\n"
     ]
    },
    {
     "name": "stderr",
     "output_type": "stream",
     "text": [
      "  0%|\u001b[34m          \u001b[0m| 0/10 [00:00<?, ?it/s]\n",
      "100%|\u001b[34m██████████\u001b[0m| 10/10 [00:42<00:00,  4.25s/it]\u001b[32m [repeated 3x across cluster]\u001b[0m\n"
     ]
    },
    {
     "name": "stdout",
     "output_type": "stream",
     "text": [
      "\u001b[36m(launch_and_fit pid=7051)\u001b[0m Updated model\n",
      "\u001b[36m(launch_and_fit pid=7053)\u001b[0m Run with homomorphic encryption\n",
      "\u001b[36m(launch_and_fit pid=7051)\u001b[0m \tTrain Epoch: 1 \tTrain_loss: 0.2954 | Train_acc: 89.5221 % | Validation_loss: 0.5400 | Validation_acc: 79.3125 %\n",
      "\u001b[36m(launch_and_fit pid=7053)\u001b[0m [Client 7, round 9] fit, config: {'learning_rate': 0.003, 'batch_size': '32', 'server_round': 9, 'local_epochs': 10}\n",
      "\u001b[36m(launch_and_fit pid=7053)\u001b[0m \tTrain Epoch: 1 \tTrain_loss: 0.2594 | Train_acc: 92.4632 % | Validation_loss: 0.4633 | Validation_acc: 90.8750 %\n"
     ]
    },
    {
     "name": "stderr",
     "output_type": "stream",
     "text": [
      "  0%|\u001b[34m          \u001b[0m| 0/10 [00:00<?, ?it/s]\n",
      " 20%|\u001b[34m██        \u001b[0m| 2/10 [00:09<00:36,  4.55s/it]\u001b[32m [repeated 3x across cluster]\u001b[0m\n"
     ]
    },
    {
     "name": "stdout",
     "output_type": "stream",
     "text": [
      "\u001b[36m(launch_and_fit pid=7053)\u001b[0m Updated model\n",
      "\u001b[36m(launch_and_fit pid=7051)\u001b[0m \tTrain Epoch: 3 \tTrain_loss: 0.0763 | Train_acc: 99.8162 % | Validation_loss: 0.5462 | Validation_acc: 81.7500 %\u001b[32m [repeated 3x across cluster]\u001b[0m\n"
     ]
    },
    {
     "name": "stderr",
     "output_type": "stream",
     "text": [
      " 40%|\u001b[34m████      \u001b[0m| 4/10 [00:17<00:26,  4.37s/it]\u001b[32m [repeated 4x across cluster]\u001b[0m\n"
     ]
    },
    {
     "name": "stdout",
     "output_type": "stream",
     "text": [
      "\u001b[36m(launch_and_fit pid=7051)\u001b[0m \tTrain Epoch: 5 \tTrain_loss: 0.0501 | Train_acc: 100.0000 % | Validation_loss: 0.5718 | Validation_acc: 80.1875 %\u001b[32m [repeated 4x across cluster]\u001b[0m\n"
     ]
    },
    {
     "name": "stderr",
     "output_type": "stream",
     "text": [
      " 60%|\u001b[34m██████    \u001b[0m| 6/10 [00:26<00:16,  4.24s/it]\u001b[32m [repeated 4x across cluster]\u001b[0m\n"
     ]
    },
    {
     "name": "stdout",
     "output_type": "stream",
     "text": [
      "\u001b[36m(launch_and_fit pid=7051)\u001b[0m \tTrain Epoch: 7 \tTrain_loss: 0.0372 | Train_acc: 99.6324 % | Validation_loss: 0.5748 | Validation_acc: 82.1875 %\u001b[32m [repeated 4x across cluster]\u001b[0m\n"
     ]
    },
    {
     "name": "stderr",
     "output_type": "stream",
     "text": [
      " 80%|\u001b[34m████████  \u001b[0m| 8/10 [00:34<00:08,  4.17s/it]\u001b[32m [repeated 4x across cluster]\u001b[0m\n"
     ]
    },
    {
     "name": "stdout",
     "output_type": "stream",
     "text": [
      "\u001b[36m(launch_and_fit pid=7051)\u001b[0m \tTrain Epoch: 9 \tTrain_loss: 0.0329 | Train_acc: 99.6324 % | Validation_loss: 0.5838 | Validation_acc: 79.0625 %\u001b[32m [repeated 4x across cluster]\u001b[0m\n"
     ]
    },
    {
     "name": "stderr",
     "output_type": "stream",
     "text": [
      "100%|\u001b[34m██████████\u001b[0m| 10/10 [00:43<00:00,  4.31s/it]\u001b[32m [repeated 4x across cluster]\u001b[0m\n"
     ]
    },
    {
     "name": "stdout",
     "output_type": "stream",
     "text": [
      "\u001b[36m(launch_and_fit pid=7051)\u001b[0m save graph in  results/FL/\n",
      "\u001b[36m(launch_and_fit pid=7051)\u001b[0m features.0.weight 4.291534423828125e-06\n",
      "\u001b[36m(launch_and_fit pid=7051)\u001b[0m features.0.bias 1.430511474609375e-06\n",
      "\u001b[36m(launch_and_fit pid=7051)\u001b[0m features.3.weight 1.1920928955078125e-06\n",
      "\u001b[36m(launch_and_fit pid=7051)\u001b[0m features.3.bias 9.5367431640625e-07\n",
      "\u001b[36m(launch_and_fit pid=7051)\u001b[0m classifier.0.weight 9.5367431640625e-07\n",
      "\u001b[36m(launch_and_fit pid=7051)\u001b[0m classifier.0.bias 7.152557373046875e-07\n",
      "\u001b[36m(launch_and_fit pid=7051)\u001b[0m classifier.2.weight 7.152557373046875e-07\n",
      "\u001b[36m(launch_and_fit pid=7051)\u001b[0m classifier.2.bias 1.1920928955078125e-06\n",
      "\u001b[36m(launch_and_fit pid=7051)\u001b[0m classifier.3.weights 9.5367431640625e-07\n",
      "\u001b[36m(launch_and_fit pid=7051)\u001b[0m classifier.4.weight 9.5367431640625e-07\n",
      "\u001b[36m(launch_and_fit pid=7051)\u001b[0m classifier.4.bias 1.1920928955078125e-06\n",
      "\u001b[36m(launch_and_fit pid=7134)\u001b[0m Run with homomorphic encryption\n",
      "\u001b[36m(launch_and_fit pid=7053)\u001b[0m \tTrain Epoch: 10 \tTrain_loss: 0.0568 | Train_acc: 99.2647 % | Validation_loss: 0.5018 | Validation_acc: 91.3125 %\u001b[32m [repeated 3x across cluster]\u001b[0m\n",
      "\u001b[36m(launch_and_fit pid=7053)\u001b[0m save graph in  results/FL/\n",
      "\u001b[36m(launch_and_fit pid=7053)\u001b[0m classifier.4.bias 1.1920928955078125e-06\u001b[32m [repeated 11x across cluster]\u001b[0m\n",
      "\u001b[36m(launch_and_fit pid=7134)\u001b[0m [Client 4, round 9] fit, config: {'learning_rate': 0.003, 'batch_size': '32', 'server_round': 9, 'local_epochs': 10}\n",
      "\u001b[36m(launch_and_fit pid=7134)\u001b[0m Updated model\n"
     ]
    },
    {
     "name": "stderr",
     "output_type": "stream",
     "text": [
      "  0%|\u001b[34m          \u001b[0m| 0/10 [00:00<?, ?it/s]\n",
      "100%|\u001b[34m██████████\u001b[0m| 10/10 [00:42<00:00,  4.27s/it]\n"
     ]
    },
    {
     "name": "stdout",
     "output_type": "stream",
     "text": [
      "\u001b[36m(launch_and_fit pid=7135)\u001b[0m Run with homomorphic encryption\n",
      "\u001b[36m(launch_and_fit pid=7134)\u001b[0m \tTrain Epoch: 1 \tTrain_loss: 0.3542 | Train_acc: 87.3162 % | Validation_loss: 0.4069 | Validation_acc: 81.9375 %\n",
      "\u001b[36m(launch_and_fit pid=7135)\u001b[0m [Client 6, round 9] fit, config: {'learning_rate': 0.003, 'batch_size': '32', 'server_round': 9, 'local_epochs': 10}\n"
     ]
    },
    {
     "name": "stderr",
     "output_type": "stream",
     "text": [
      " 10%|\u001b[34m█         \u001b[0m| 1/10 [00:04<00:40,  4.49s/it]\n"
     ]
    },
    {
     "name": "stdout",
     "output_type": "stream",
     "text": [
      "\u001b[36m(launch_and_fit pid=7135)\u001b[0m \tTrain Epoch: 1 \tTrain_loss: 0.3025 | Train_acc: 90.4412 % | Validation_loss: 0.3078 | Validation_acc: 87.7500 %\n",
      "\u001b[36m(launch_and_fit pid=7135)\u001b[0m Updated model\n"
     ]
    },
    {
     "name": "stderr",
     "output_type": "stream",
     "text": [
      "  0%|\u001b[34m          \u001b[0m| 0/10 [00:00<?, ?it/s]\n"
     ]
    },
    {
     "name": "stdout",
     "output_type": "stream",
     "text": [
      "\u001b[36m(launch_and_fit pid=7134)\u001b[0m \tTrain Epoch: 3 \tTrain_loss: 0.0977 | Train_acc: 98.8971 % | Validation_loss: 0.3615 | Validation_acc: 84.6250 %\u001b[32m [repeated 3x across cluster]\u001b[0m\n"
     ]
    },
    {
     "name": "stderr",
     "output_type": "stream",
     "text": [
      " 30%|\u001b[34m███       \u001b[0m| 3/10 [00:12<00:30,  4.30s/it]\u001b[32m [repeated 4x across cluster]\u001b[0m\n"
     ]
    },
    {
     "name": "stdout",
     "output_type": "stream",
     "text": [
      "\u001b[36m(launch_and_fit pid=7134)\u001b[0m \tTrain Epoch: 5 \tTrain_loss: 0.0511 | Train_acc: 99.8162 % | Validation_loss: 0.3233 | Validation_acc: 89.7500 %\u001b[32m [repeated 4x across cluster]\u001b[0m\n"
     ]
    },
    {
     "name": "stderr",
     "output_type": "stream",
     "text": [
      " 50%|\u001b[34m█████     \u001b[0m| 5/10 [00:20<00:20,  4.13s/it]\u001b[32m [repeated 4x across cluster]\u001b[0m\n"
     ]
    },
    {
     "name": "stdout",
     "output_type": "stream",
     "text": [
      "\u001b[36m(launch_and_fit pid=7134)\u001b[0m \tTrain Epoch: 7 \tTrain_loss: 0.0373 | Train_acc: 99.8162 % | Validation_loss: 0.3811 | Validation_acc: 87.0625 %\u001b[32m [repeated 4x across cluster]\u001b[0m\n"
     ]
    },
    {
     "name": "stderr",
     "output_type": "stream",
     "text": [
      " 70%|\u001b[34m███████   \u001b[0m| 7/10 [00:29<00:12,  4.12s/it]\u001b[32m [repeated 4x across cluster]\u001b[0m\n"
     ]
    },
    {
     "name": "stdout",
     "output_type": "stream",
     "text": [
      "\u001b[36m(launch_and_fit pid=7134)\u001b[0m \tTrain Epoch: 9 \tTrain_loss: 0.0316 | Train_acc: 99.8162 % | Validation_loss: 0.3057 | Validation_acc: 88.1875 %\u001b[32m [repeated 4x across cluster]\u001b[0m\n"
     ]
    },
    {
     "name": "stderr",
     "output_type": "stream",
     "text": [
      " 90%|\u001b[34m█████████ \u001b[0m| 9/10 [00:37<00:04,  4.10s/it]\u001b[32m [repeated 4x across cluster]\u001b[0m\n"
     ]
    },
    {
     "name": "stdout",
     "output_type": "stream",
     "text": [
      "\u001b[36m(launch_and_fit pid=7134)\u001b[0m save graph in  results/FL/\n",
      "\u001b[36m(launch_and_fit pid=7134)\u001b[0m features.0.weight 5.245208740234375e-06\n",
      "\u001b[36m(launch_and_fit pid=7134)\u001b[0m features.0.bias 1.1920928955078125e-06\n",
      "\u001b[36m(launch_and_fit pid=7134)\u001b[0m features.3.weight 1.1920928955078125e-06\n",
      "\u001b[36m(launch_and_fit pid=7134)\u001b[0m features.3.bias 9.5367431640625e-07\n",
      "\u001b[36m(launch_and_fit pid=7134)\u001b[0m classifier.0.weight 1.1920928955078125e-06\n",
      "\u001b[36m(launch_and_fit pid=7134)\u001b[0m classifier.0.bias 9.5367431640625e-07\n",
      "\u001b[36m(launch_and_fit pid=7134)\u001b[0m classifier.2.weight 9.5367431640625e-07\n",
      "\u001b[36m(launch_and_fit pid=7134)\u001b[0m classifier.2.bias 1.1920928955078125e-06\n",
      "\u001b[36m(launch_and_fit pid=7134)\u001b[0m classifier.3.weights 1.1920928955078125e-06\n",
      "\u001b[36m(launch_and_fit pid=7134)\u001b[0m classifier.4.weight 1.1920928955078125e-06\n",
      "\u001b[36m(launch_and_fit pid=7134)\u001b[0m classifier.4.bias 9.5367431640625e-07\n",
      "\u001b[36m(launch_and_fit pid=7135)\u001b[0m \tTrain Epoch: 10 \tTrain_loss: 0.0201 | Train_acc: 100.0000 % | Validation_loss: 0.4190 | Validation_acc: 87.3125 %\u001b[32m [repeated 3x across cluster]\u001b[0m\n",
      "\u001b[36m(launch_and_fit pid=7215)\u001b[0m Run with homomorphic encryption\n",
      "\u001b[36m(launch_and_fit pid=7135)\u001b[0m save graph in  results/FL/\n",
      "\u001b[36m(launch_and_fit pid=7135)\u001b[0m classifier.4.bias 2.384185791015625e-06\u001b[32m [repeated 11x across cluster]\u001b[0m\n",
      "\u001b[36m(launch_and_fit pid=7215)\u001b[0m [Client 2, round 9] fit, config: {'learning_rate': 0.003, 'batch_size': '32', 'server_round': 9, 'local_epochs': 10}\n"
     ]
    },
    {
     "name": "stderr",
     "output_type": "stream",
     "text": [
      "  0%|\u001b[34m          \u001b[0m| 0/10 [00:00<?, ?it/s]\n",
      "100%|\u001b[34m██████████\u001b[0m| 10/10 [00:41<00:00,  4.17s/it]\u001b[32m [repeated 3x across cluster]\u001b[0m\n"
     ]
    },
    {
     "name": "stdout",
     "output_type": "stream",
     "text": [
      "\u001b[36m(launch_and_fit pid=7215)\u001b[0m Updated model\n",
      "\u001b[36m(launch_and_fit pid=7215)\u001b[0m \tTrain Epoch: 1 \tTrain_loss: 0.3031 | Train_acc: 90.8088 % | Validation_loss: 0.3930 | Validation_acc: 84.6250 %\n",
      "\u001b[36m(launch_and_fit pid=7217)\u001b[0m Run with homomorphic encryption\n",
      "\u001b[36m(launch_and_fit pid=7217)\u001b[0m [Client 8, round 9] fit, config: {'learning_rate': 0.003, 'batch_size': '32', 'server_round': 9, 'local_epochs': 10}\n"
     ]
    },
    {
     "name": "stderr",
     "output_type": "stream",
     "text": [
      "  0%|\u001b[34m          \u001b[0m| 0/10 [00:00<?, ?it/s]\n",
      " 20%|\u001b[34m██        \u001b[0m| 2/10 [00:08<00:34,  4.34s/it]\u001b[32m [repeated 3x across cluster]\u001b[0m\n"
     ]
    },
    {
     "name": "stdout",
     "output_type": "stream",
     "text": [
      "\u001b[36m(launch_and_fit pid=7217)\u001b[0m Updated model\n",
      "\u001b[36m(launch_and_fit pid=7215)\u001b[0m \tTrain Epoch: 3 \tTrain_loss: 0.1101 | Train_acc: 98.5294 % | Validation_loss: 0.3263 | Validation_acc: 86.1875 %\u001b[32m [repeated 4x across cluster]\u001b[0m\n"
     ]
    },
    {
     "name": "stderr",
     "output_type": "stream",
     "text": [
      " 40%|\u001b[34m████      \u001b[0m| 4/10 [00:16<00:24,  4.15s/it]\u001b[32m [repeated 4x across cluster]\u001b[0m\n"
     ]
    },
    {
     "name": "stdout",
     "output_type": "stream",
     "text": [
      "\u001b[36m(launch_and_fit pid=7217)\u001b[0m \tTrain Epoch: 5 \tTrain_loss: 0.0470 | Train_acc: 99.6324 % | Validation_loss: 0.3436 | Validation_acc: 88.8750 %\u001b[32m [repeated 4x across cluster]\u001b[0m\n"
     ]
    },
    {
     "name": "stderr",
     "output_type": "stream",
     "text": [
      " 60%|\u001b[34m██████    \u001b[0m| 6/10 [00:24<00:16,  4.10s/it]\u001b[32m [repeated 4x across cluster]\u001b[0m\n"
     ]
    },
    {
     "name": "stdout",
     "output_type": "stream",
     "text": [
      "\u001b[36m(launch_and_fit pid=7217)\u001b[0m \tTrain Epoch: 7 \tTrain_loss: 0.0316 | Train_acc: 99.8162 % | Validation_loss: 0.3496 | Validation_acc: 87.3125 %\u001b[32m [repeated 4x across cluster]\u001b[0m\n"
     ]
    },
    {
     "name": "stderr",
     "output_type": "stream",
     "text": [
      " 80%|\u001b[34m████████  \u001b[0m| 8/10 [00:33<00:08,  4.10s/it]\u001b[32m [repeated 4x across cluster]\u001b[0m\n"
     ]
    },
    {
     "name": "stdout",
     "output_type": "stream",
     "text": [
      "\u001b[36m(launch_and_fit pid=7217)\u001b[0m \tTrain Epoch: 9 \tTrain_loss: 0.0243 | Train_acc: 100.0000 % | Validation_loss: 0.3531 | Validation_acc: 88.8750 %\u001b[32m [repeated 4x across cluster]\u001b[0m\n",
      "\u001b[36m(launch_and_fit pid=7217)\u001b[0m save graph in  results/FL/\n"
     ]
    },
    {
     "name": "stderr",
     "output_type": "stream",
     "text": [
      "100%|\u001b[34m██████████\u001b[0m| 10/10 [00:41<00:00,  4.12s/it]\u001b[32m [repeated 4x across cluster]\u001b[0m\n"
     ]
    },
    {
     "name": "stdout",
     "output_type": "stream",
     "text": [
      "\u001b[36m(launch_and_fit pid=7217)\u001b[0m features.0.weight 5.7220458984375e-06\n",
      "\u001b[36m(launch_and_fit pid=7217)\u001b[0m features.0.bias 1.6689300537109375e-06\n",
      "\u001b[36m(launch_and_fit pid=7217)\u001b[0m features.3.weight 1.1920928955078125e-06\n",
      "\u001b[36m(launch_and_fit pid=7217)\u001b[0m features.3.bias 9.5367431640625e-07\n",
      "\u001b[36m(launch_and_fit pid=7217)\u001b[0m classifier.0.weight 1.1920928955078125e-06\n",
      "\u001b[36m(launch_and_fit pid=7217)\u001b[0m classifier.0.bias 1.1920928955078125e-06\n",
      "\u001b[36m(launch_and_fit pid=7217)\u001b[0m classifier.2.weight 1.430511474609375e-06\n",
      "\u001b[36m(launch_and_fit pid=7217)\u001b[0m classifier.2.bias 1.1920928955078125e-06\n",
      "\u001b[36m(launch_and_fit pid=7217)\u001b[0m classifier.3.weights 1.6689300537109375e-06\n",
      "\u001b[36m(launch_and_fit pid=7217)\u001b[0m classifier.4.weight 1.1920928955078125e-06\n",
      "\u001b[36m(launch_and_fit pid=7217)\u001b[0m classifier.4.bias 1.1920928955078125e-06\n",
      "\u001b[36m(launch_and_fit pid=7215)\u001b[0m \tTrain Epoch: 10 \tTrain_loss: 0.0220 | Train_acc: 100.0000 % | Validation_loss: 0.3245 | Validation_acc: 87.7500 %\u001b[32m [repeated 3x across cluster]\u001b[0m\n",
      "\u001b[36m(launch_and_fit pid=7298)\u001b[0m Run with homomorphic encryption\n",
      "\u001b[36m(launch_and_fit pid=7215)\u001b[0m save graph in  results/FL/\n",
      "\u001b[36m(launch_and_fit pid=7215)\u001b[0m classifier.4.bias 1.1920928955078125e-06\u001b[32m [repeated 11x across cluster]\u001b[0m\n",
      "\u001b[36m(launch_and_fit pid=7298)\u001b[0m [Client 0, round 9] fit, config: {'learning_rate': 0.003, 'batch_size': '32', 'server_round': 9, 'local_epochs': 10}\n",
      "\u001b[36m(launch_and_fit pid=7298)\u001b[0m Updated model\n"
     ]
    },
    {
     "name": "stderr",
     "output_type": "stream",
     "text": [
      "  0%|\u001b[34m          \u001b[0m| 0/10 [00:00<?, ?it/s]\n",
      "100%|\u001b[34m██████████\u001b[0m| 10/10 [00:42<00:00,  4.20s/it]\n"
     ]
    },
    {
     "name": "stdout",
     "output_type": "stream",
     "text": [
      "\u001b[36m(launch_and_fit pid=7298)\u001b[0m \tTrain Epoch: 1 \tTrain_loss: 0.3512 | Train_acc: 88.2353 % | Validation_loss: 0.4322 | Validation_acc: 81.7500 %\n",
      "\u001b[36m(launch_and_fit pid=7300)\u001b[0m Run with homomorphic encryption\n",
      "\u001b[36m(launch_and_fit pid=7300)\u001b[0m [Client 5, round 9] fit, config: {'learning_rate': 0.003, 'batch_size': '32', 'server_round': 9, 'local_epochs': 10}\n"
     ]
    },
    {
     "name": "stderr",
     "output_type": "stream",
     "text": [
      " 10%|\u001b[34m█         \u001b[0m| 1/10 [00:04<00:40,  4.47s/it]\n",
      "  0%|\u001b[34m          \u001b[0m| 0/10 [00:00<?, ?it/s]\n"
     ]
    },
    {
     "name": "stdout",
     "output_type": "stream",
     "text": [
      "\u001b[36m(launch_and_fit pid=7300)\u001b[0m Updated model\n",
      "\u001b[36m(launch_and_fit pid=7298)\u001b[0m \tTrain Epoch: 3 \tTrain_loss: 0.0713 | Train_acc: 99.8162 % | Validation_loss: 0.4235 | Validation_acc: 81.3125 %\u001b[32m [repeated 4x across cluster]\u001b[0m\n"
     ]
    },
    {
     "name": "stderr",
     "output_type": "stream",
     "text": [
      " 30%|\u001b[34m███       \u001b[0m| 3/10 [00:12<00:29,  4.15s/it]\u001b[32m [repeated 4x across cluster]\u001b[0m\n"
     ]
    },
    {
     "name": "stdout",
     "output_type": "stream",
     "text": [
      "\u001b[36m(launch_and_fit pid=7298)\u001b[0m \tTrain Epoch: 5 \tTrain_loss: 0.0420 | Train_acc: 100.0000 % | Validation_loss: 0.4466 | Validation_acc: 83.3125 %\u001b[32m [repeated 4x across cluster]\u001b[0m\n"
     ]
    },
    {
     "name": "stderr",
     "output_type": "stream",
     "text": [
      " 50%|\u001b[34m█████     \u001b[0m| 5/10 [00:20<00:20,  4.08s/it]\u001b[32m [repeated 4x across cluster]\u001b[0m\n",
      " 60%|\u001b[34m██████    \u001b[0m| 6/10 [00:25<00:16,  4.14s/it]\u001b[32m [repeated 3x across cluster]\u001b[0m\n"
     ]
    },
    {
     "name": "stdout",
     "output_type": "stream",
     "text": [
      "\u001b[36m(launch_and_fit pid=7300)\u001b[0m \tTrain Epoch: 6 \tTrain_loss: 0.0353 | Train_acc: 100.0000 % | Validation_loss: 0.3996 | Validation_acc: 84.6250 %\u001b[32m [repeated 3x across cluster]\u001b[0m\n",
      "\u001b[36m(launch_and_fit pid=7298)\u001b[0m \tTrain Epoch: 8 \tTrain_loss: 0.0283 | Train_acc: 100.0000 % | Validation_loss: 0.4401 | Validation_acc: 83.7500 %\u001b[32m [repeated 3x across cluster]\u001b[0m\n"
     ]
    },
    {
     "name": "stderr",
     "output_type": "stream",
     "text": [
      " 80%|\u001b[34m████████  \u001b[0m| 8/10 [00:33<00:08,  4.13s/it]\u001b[32m [repeated 3x across cluster]\u001b[0m\n",
      " 90%|\u001b[34m█████████ \u001b[0m| 9/10 [00:37<00:04,  4.13s/it]\u001b[32m [repeated 3x across cluster]\u001b[0m\n"
     ]
    },
    {
     "name": "stdout",
     "output_type": "stream",
     "text": [
      "\u001b[36m(launch_and_fit pid=7300)\u001b[0m \tTrain Epoch: 9 \tTrain_loss: 0.0236 | Train_acc: 100.0000 % | Validation_loss: 0.3965 | Validation_acc: 83.0625 %\u001b[32m [repeated 3x across cluster]\u001b[0m\n",
      "\u001b[36m(launch_and_fit pid=7298)\u001b[0m save graph in  results/FL/\n",
      "\u001b[36m(launch_and_fit pid=7298)\u001b[0m features.0.weight 4.0531158447265625e-06\n",
      "\u001b[36m(launch_and_fit pid=7298)\u001b[0m features.0.bias 1.1920928955078125e-06\n",
      "\u001b[36m(launch_and_fit pid=7298)\u001b[0m features.3.weight 9.5367431640625e-07\n",
      "\u001b[36m(launch_and_fit pid=7298)\u001b[0m features.3.bias 9.5367431640625e-07\n",
      "\u001b[36m(launch_and_fit pid=7298)\u001b[0m classifier.0.weight 1.430511474609375e-06\n",
      "\u001b[36m(launch_and_fit pid=7298)\u001b[0m classifier.0.bias 1.1920928955078125e-06\n",
      "\u001b[36m(launch_and_fit pid=7298)\u001b[0m classifier.2.weight 9.5367431640625e-07\n",
      "\u001b[36m(launch_and_fit pid=7298)\u001b[0m classifier.2.bias 9.5367431640625e-07\n",
      "\u001b[36m(launch_and_fit pid=7298)\u001b[0m classifier.3.weights 1.1920928955078125e-06\n",
      "\u001b[36m(launch_and_fit pid=7298)\u001b[0m classifier.4.weight 9.5367431640625e-07\n",
      "\u001b[36m(launch_and_fit pid=7298)\u001b[0m classifier.4.bias 1.1920928955078125e-06\n"
     ]
    },
    {
     "name": "stderr",
     "output_type": "stream",
     "text": [
      "DEBUG flwr 2024-07-21 03:22:29,681 | server.py:236 | fit_round 9 received 10 results and 0 failures\n"
     ]
    },
    {
     "name": "stdout",
     "output_type": "stream",
     "text": [
      "Saving round 9 aggregated_parameters...\n"
     ]
    },
    {
     "name": "stderr",
     "output_type": "stream",
     "text": [
      "DEBUG flwr 2024-07-21 03:22:31,633 | server.py:173 | evaluate_round 9: strategy sampled 10 clients (out of 10)\n"
     ]
    },
    {
     "name": "stdout",
     "output_type": "stream",
     "text": [
      "\u001b[36m(launch_and_evaluate pid=7390)\u001b[0m Run with homomorphic encryption\n",
      "\u001b[36m(launch_and_fit pid=7300)\u001b[0m \tTrain Epoch: 10 \tTrain_loss: 0.0215 | Train_acc: 100.0000 % | Validation_loss: 0.3978 | Validation_acc: 83.0625 %\u001b[32m [repeated 2x across cluster]\u001b[0m\n",
      "\u001b[36m(launch_and_fit pid=7300)\u001b[0m save graph in  results/FL/\n",
      "\u001b[36m(launch_and_fit pid=7300)\u001b[0m classifier.4.bias 1.1920928955078125e-06\u001b[32m [repeated 11x across cluster]\u001b[0m\n",
      "\u001b[36m(launch_and_evaluate pid=7389)\u001b[0m [Client 0] evaluate, config: {}\n",
      "\u001b[36m(launch_and_evaluate pid=7389)\u001b[0m Updated model\n",
      "\u001b[36m(launch_and_evaluate pid=7468)\u001b[0m Run with homomorphic encryption\u001b[32m [repeated 2x across cluster]\u001b[0m\n",
      "\u001b[36m(launch_and_evaluate pid=7390)\u001b[0m [Client 9] evaluate, config: {}\n",
      "\u001b[36m(launch_and_evaluate pid=7390)\u001b[0m Updated model\n",
      "\u001b[36m(launch_and_evaluate pid=7468)\u001b[0m [Client 7] evaluate, config: {}\n",
      "\u001b[36m(launch_and_evaluate pid=7468)\u001b[0m Updated model\n",
      "\u001b[36m(launch_and_evaluate pid=7546)\u001b[0m Run with homomorphic encryption\u001b[32m [repeated 2x across cluster]\u001b[0m\n",
      "\u001b[36m(launch_and_evaluate pid=7470)\u001b[0m [Client 4] evaluate, config: {}\n",
      "\u001b[36m(launch_and_evaluate pid=7470)\u001b[0m Updated model\n",
      "\u001b[36m(launch_and_evaluate pid=7546)\u001b[0m [Client 6] evaluate, config: {}\n",
      "\u001b[36m(launch_and_evaluate pid=7546)\u001b[0m Updated model\n",
      "\u001b[36m(launch_and_evaluate pid=7624)\u001b[0m Run with homomorphic encryption\u001b[32m [repeated 2x across cluster]\u001b[0m\n",
      "\u001b[36m(launch_and_evaluate pid=7548)\u001b[0m [Client 1] evaluate, config: {}\n",
      "\u001b[36m(launch_and_evaluate pid=7548)\u001b[0m Updated model\n",
      "\u001b[36m(launch_and_evaluate pid=7624)\u001b[0m [Client 8] evaluate, config: {}\n",
      "\u001b[36m(launch_and_evaluate pid=7624)\u001b[0m Updated model\n",
      "\u001b[36m(launch_and_evaluate pid=7702)\u001b[0m Run with homomorphic encryption\u001b[32m [repeated 2x across cluster]\u001b[0m\n",
      "\u001b[36m(launch_and_evaluate pid=7626)\u001b[0m [Client 3] evaluate, config: {}\n",
      "\u001b[36m(launch_and_evaluate pid=7626)\u001b[0m Updated model\n",
      "\u001b[36m(launch_and_evaluate pid=7702)\u001b[0m [Client 2] evaluate, config: {}\n",
      "\u001b[36m(launch_and_evaluate pid=7702)\u001b[0m Updated model\n"
     ]
    },
    {
     "name": "stderr",
     "output_type": "stream",
     "text": [
      "DEBUG flwr 2024-07-21 03:23:50,082 | server.py:187 | evaluate_round 9 received 10 results and 0 failures\n",
      "DEBUG flwr 2024-07-21 03:23:50,083 | server.py:222 | fit_round 10: strategy sampled 10 clients (out of 10)\n"
     ]
    },
    {
     "name": "stdout",
     "output_type": "stream",
     "text": [
      "\u001b[36m(launch_and_fit pid=7789)\u001b[0m Run with homomorphic encryption\u001b[32m [repeated 2x across cluster]\u001b[0m\n",
      "\u001b[36m(launch_and_evaluate pid=7704)\u001b[0m [Client 5] evaluate, config: {}\n",
      "\u001b[36m(launch_and_evaluate pid=7704)\u001b[0m Updated model\n",
      "\u001b[36m(launch_and_fit pid=7789)\u001b[0m [Client 0, round 10] fit, config: {'learning_rate': 0.003, 'batch_size': '32', 'server_round': 10, 'local_epochs': 10}\n"
     ]
    },
    {
     "name": "stderr",
     "output_type": "stream",
     "text": [
      "  0%|\u001b[34m          \u001b[0m| 0/10 [00:00<?, ?it/s]\n",
      "100%|\u001b[34m██████████\u001b[0m| 10/10 [00:41<00:00,  4.17s/it]\u001b[32m [repeated 2x across cluster]\u001b[0m\n"
     ]
    },
    {
     "name": "stdout",
     "output_type": "stream",
     "text": [
      "\u001b[36m(launch_and_fit pid=7789)\u001b[0m Updated model\n",
      "\u001b[36m(launch_and_fit pid=7789)\u001b[0m \tTrain Epoch: 1 \tTrain_loss: 0.1377 | Train_acc: 96.6912 % | Validation_loss: 0.3988 | Validation_acc: 84.1875 %\n",
      "\u001b[36m(launch_and_fit pid=7790)\u001b[0m Run with homomorphic encryption\n",
      "\u001b[36m(launch_and_fit pid=7790)\u001b[0m [Client 2, round 10] fit, config: {'learning_rate': 0.003, 'batch_size': '32', 'server_round': 10, 'local_epochs': 10}\n",
      "\u001b[36m(launch_and_fit pid=7790)\u001b[0m Updated model\n"
     ]
    },
    {
     "name": "stderr",
     "output_type": "stream",
     "text": [
      "  0%|\u001b[34m          \u001b[0m| 0/10 [00:00<?, ?it/s]\n",
      " 20%|\u001b[34m██        \u001b[0m| 2/10 [00:08<00:34,  4.34s/it]\u001b[32m [repeated 3x across cluster]\u001b[0m\n"
     ]
    },
    {
     "name": "stdout",
     "output_type": "stream",
     "text": [
      "\u001b[36m(launch_and_fit pid=7789)\u001b[0m \tTrain Epoch: 3 \tTrain_loss: 0.0428 | Train_acc: 99.2647 % | Validation_loss: 0.3665 | Validation_acc: 91.3125 %\u001b[32m [repeated 4x across cluster]\u001b[0m\n"
     ]
    },
    {
     "name": "stderr",
     "output_type": "stream",
     "text": [
      " 40%|\u001b[34m████      \u001b[0m| 4/10 [00:17<00:25,  4.25s/it]\u001b[32m [repeated 4x across cluster]\u001b[0m\n"
     ]
    },
    {
     "name": "stdout",
     "output_type": "stream",
     "text": [
      "\u001b[36m(launch_and_fit pid=7789)\u001b[0m \tTrain Epoch: 5 \tTrain_loss: 0.0198 | Train_acc: 99.6324 % | Validation_loss: 0.3757 | Validation_acc: 85.3125 %\u001b[32m [repeated 4x across cluster]\u001b[0m\n"
     ]
    },
    {
     "name": "stderr",
     "output_type": "stream",
     "text": [
      " 60%|\u001b[34m██████    \u001b[0m| 6/10 [00:25<00:16,  4.12s/it]\u001b[32m [repeated 4x across cluster]\u001b[0m\n"
     ]
    },
    {
     "name": "stdout",
     "output_type": "stream",
     "text": [
      "\u001b[36m(launch_and_fit pid=7789)\u001b[0m \tTrain Epoch: 7 \tTrain_loss: 0.0133 | Train_acc: 100.0000 % | Validation_loss: 0.3776 | Validation_acc: 85.3125 %\u001b[32m [repeated 4x across cluster]\u001b[0m\n"
     ]
    },
    {
     "name": "stderr",
     "output_type": "stream",
     "text": [
      " 80%|\u001b[34m████████  \u001b[0m| 8/10 [00:33<00:08,  4.11s/it]\u001b[32m [repeated 4x across cluster]\u001b[0m\n"
     ]
    },
    {
     "name": "stdout",
     "output_type": "stream",
     "text": [
      "\u001b[36m(launch_and_fit pid=7789)\u001b[0m \tTrain Epoch: 9 \tTrain_loss: 0.0105 | Train_acc: 100.0000 % | Validation_loss: 0.3834 | Validation_acc: 87.3125 %\u001b[32m [repeated 4x across cluster]\u001b[0m\n"
     ]
    },
    {
     "name": "stderr",
     "output_type": "stream",
     "text": [
      "100%|\u001b[34m██████████\u001b[0m| 10/10 [00:41<00:00,  4.17s/it]\u001b[32m [repeated 4x across cluster]\u001b[0m\n"
     ]
    },
    {
     "name": "stdout",
     "output_type": "stream",
     "text": [
      "\u001b[36m(launch_and_fit pid=7789)\u001b[0m save graph in  results/FL/\n",
      "\u001b[36m(launch_and_fit pid=7789)\u001b[0m features.0.weight 5.0067901611328125e-06\n",
      "\u001b[36m(launch_and_fit pid=7789)\u001b[0m features.0.bias 1.430511474609375e-06\n",
      "\u001b[36m(launch_and_fit pid=7789)\u001b[0m features.3.weight 1.1920928955078125e-06\n",
      "\u001b[36m(launch_and_fit pid=7789)\u001b[0m features.3.bias 9.5367431640625e-07\n",
      "\u001b[36m(launch_and_fit pid=7789)\u001b[0m classifier.0.weight 1.1920928955078125e-06\n",
      "\u001b[36m(launch_and_fit pid=7789)\u001b[0m classifier.0.bias 9.5367431640625e-07\n",
      "\u001b[36m(launch_and_fit pid=7789)\u001b[0m classifier.2.weight 1.430511474609375e-06\n",
      "\u001b[36m(launch_and_fit pid=7789)\u001b[0m classifier.2.bias 1.1920928955078125e-06\n",
      "\u001b[36m(launch_and_fit pid=7789)\u001b[0m classifier.3.weights 1.1920928955078125e-06\n",
      "\u001b[36m(launch_and_fit pid=7789)\u001b[0m classifier.4.weight 1.1920928955078125e-06\n",
      "\u001b[36m(launch_and_fit pid=7789)\u001b[0m classifier.4.bias 1.1920928955078125e-06\n",
      "\u001b[36m(launch_and_fit pid=7790)\u001b[0m \tTrain Epoch: 10 \tTrain_loss: 0.0194 | Train_acc: 99.6324 % | Validation_loss: 0.2961 | Validation_acc: 88.1875 %\u001b[32m [repeated 3x across cluster]\u001b[0m\n",
      "\u001b[36m(launch_and_fit pid=7871)\u001b[0m Run with homomorphic encryption\n",
      "\u001b[36m(launch_and_fit pid=7790)\u001b[0m save graph in  results/FL/\n",
      "\u001b[36m(launch_and_fit pid=7790)\u001b[0m classifier.4.bias 1.430511474609375e-06\u001b[32m [repeated 11x across cluster]\u001b[0m\n",
      "\u001b[36m(launch_and_fit pid=7871)\u001b[0m [Client 7, round 10] fit, config: {'learning_rate': 0.003, 'batch_size': '32', 'server_round': 10, 'local_epochs': 10}\n"
     ]
    },
    {
     "name": "stderr",
     "output_type": "stream",
     "text": [
      "  0%|\u001b[34m          \u001b[0m| 0/10 [00:00<?, ?it/s]\n",
      "100%|\u001b[34m██████████\u001b[0m| 10/10 [00:42<00:00,  4.24s/it]\n"
     ]
    },
    {
     "name": "stdout",
     "output_type": "stream",
     "text": [
      "\u001b[36m(launch_and_fit pid=7871)\u001b[0m Updated model\n"
     ]
    },
    {
     "name": "stderr",
     "output_type": "stream",
     "text": [
      " 10%|\u001b[34m█         \u001b[0m| 1/10 [00:04<00:41,  4.66s/it]\n"
     ]
    },
    {
     "name": "stdout",
     "output_type": "stream",
     "text": [
      "\u001b[36m(launch_and_fit pid=7871)\u001b[0m \tTrain Epoch: 1 \tTrain_loss: 0.1811 | Train_acc: 94.6691 % | Validation_loss: 0.3933 | Validation_acc: 87.3125 %\n",
      "\u001b[36m(launch_and_fit pid=7896)\u001b[0m Run with homomorphic encryption\n",
      "\u001b[36m(launch_and_fit pid=7896)\u001b[0m [Client 4, round 10] fit, config: {'learning_rate': 0.003, 'batch_size': '32', 'server_round': 10, 'local_epochs': 10}\n"
     ]
    },
    {
     "name": "stderr",
     "output_type": "stream",
     "text": [
      "  0%|\u001b[34m          \u001b[0m| 0/10 [00:00<?, ?it/s]\n"
     ]
    },
    {
     "name": "stdout",
     "output_type": "stream",
     "text": [
      "\u001b[36m(launch_and_fit pid=7896)\u001b[0m Updated model\n"
     ]
    },
    {
     "name": "stderr",
     "output_type": "stream",
     "text": [
      " 30%|\u001b[34m███       \u001b[0m| 3/10 [00:12<00:29,  4.21s/it]\u001b[32m [repeated 4x across cluster]\u001b[0m\n"
     ]
    },
    {
     "name": "stdout",
     "output_type": "stream",
     "text": [
      "\u001b[36m(launch_and_fit pid=7871)\u001b[0m \tTrain Epoch: 3 \tTrain_loss: 0.0406 | Train_acc: 99.8162 % | Validation_loss: 0.4944 | Validation_acc: 87.7500 %\u001b[32m [repeated 4x across cluster]\u001b[0m\n"
     ]
    },
    {
     "name": "stderr",
     "output_type": "stream",
     "text": [
      " 50%|\u001b[34m█████     \u001b[0m| 5/10 [00:21<00:21,  4.26s/it]\u001b[32m [repeated 4x across cluster]\u001b[0m\n"
     ]
    },
    {
     "name": "stdout",
     "output_type": "stream",
     "text": [
      "\u001b[36m(launch_and_fit pid=7871)\u001b[0m \tTrain Epoch: 5 \tTrain_loss: 0.0163 | Train_acc: 100.0000 % | Validation_loss: 0.4732 | Validation_acc: 85.7500 %\u001b[32m [repeated 4x across cluster]\u001b[0m\n"
     ]
    },
    {
     "name": "stderr",
     "output_type": "stream",
     "text": [
      " 70%|\u001b[34m███████   \u001b[0m| 7/10 [00:29<00:12,  4.16s/it]\u001b[32m [repeated 4x across cluster]\u001b[0m\n"
     ]
    },
    {
     "name": "stdout",
     "output_type": "stream",
     "text": [
      "\u001b[36m(launch_and_fit pid=7871)\u001b[0m \tTrain Epoch: 7 \tTrain_loss: 0.0119 | Train_acc: 100.0000 % | Validation_loss: 0.4563 | Validation_acc: 85.7500 %\u001b[32m [repeated 4x across cluster]\u001b[0m\n"
     ]
    },
    {
     "name": "stderr",
     "output_type": "stream",
     "text": [
      " 90%|\u001b[34m█████████ \u001b[0m| 9/10 [00:37<00:04,  4.14s/it]\u001b[32m [repeated 4x across cluster]\u001b[0m\n"
     ]
    },
    {
     "name": "stdout",
     "output_type": "stream",
     "text": [
      "\u001b[36m(launch_and_fit pid=7871)\u001b[0m \tTrain Epoch: 9 \tTrain_loss: 0.0096 | Train_acc: 100.0000 % | Validation_loss: 0.4505 | Validation_acc: 85.7500 %\u001b[32m [repeated 4x across cluster]\u001b[0m\n",
      "\u001b[36m(launch_and_fit pid=7896)\u001b[0m save graph in  results/FL/\n",
      "\u001b[36m(launch_and_fit pid=7871)\u001b[0m features.0.weight 4.0531158447265625e-06\n",
      "\u001b[36m(launch_and_fit pid=7871)\u001b[0m features.0.bias 1.6689300537109375e-06\n",
      "\u001b[36m(launch_and_fit pid=7871)\u001b[0m features.3.weight 9.5367431640625e-07\n",
      "\u001b[36m(launch_and_fit pid=7871)\u001b[0m features.3.bias 1.1920928955078125e-06\n",
      "\u001b[36m(launch_and_fit pid=7871)\u001b[0m classifier.0.weight 1.1920928955078125e-06\n",
      "\u001b[36m(launch_and_fit pid=7871)\u001b[0m classifier.0.bias 1.1920928955078125e-06\n",
      "\u001b[36m(launch_and_fit pid=7871)\u001b[0m classifier.2.weight 9.5367431640625e-07\n",
      "\u001b[36m(launch_and_fit pid=7871)\u001b[0m classifier.2.bias 9.5367431640625e-07\n",
      "\u001b[36m(launch_and_fit pid=7871)\u001b[0m classifier.3.weights 1.430511474609375e-06\n",
      "\u001b[36m(launch_and_fit pid=7871)\u001b[0m classifier.4.weight 9.5367431640625e-07\n",
      "\u001b[36m(launch_and_fit pid=7871)\u001b[0m classifier.4.bias 1.430511474609375e-06\n",
      "\u001b[36m(launch_and_fit pid=7953)\u001b[0m Run with homomorphic encryption\n",
      "\u001b[36m(launch_and_fit pid=7871)\u001b[0m \tTrain Epoch: 10 \tTrain_loss: 0.0087 | Train_acc: 100.0000 % | Validation_loss: 0.4631 | Validation_acc: 85.7500 %\u001b[32m [repeated 3x across cluster]\u001b[0m\n",
      "\u001b[36m(launch_and_fit pid=7871)\u001b[0m save graph in  results/FL/\n",
      "\u001b[36m(launch_and_fit pid=7896)\u001b[0m classifier.4.bias 1.1920928955078125e-06\u001b[32m [repeated 11x across cluster]\u001b[0m\n",
      "\u001b[36m(launch_and_fit pid=7953)\u001b[0m [Client 9, round 10] fit, config: {'learning_rate': 0.003, 'batch_size': '32', 'server_round': 10, 'local_epochs': 10}\n",
      "\u001b[36m(launch_and_fit pid=7953)\u001b[0m Updated model\n"
     ]
    },
    {
     "name": "stderr",
     "output_type": "stream",
     "text": [
      "  0%|\u001b[34m          \u001b[0m| 0/10 [00:00<?, ?it/s]\n",
      "100%|\u001b[34m██████████\u001b[0m| 10/10 [00:41<00:00,  4.19s/it]\u001b[32m [repeated 3x across cluster]\u001b[0m\n"
     ]
    },
    {
     "name": "stdout",
     "output_type": "stream",
     "text": [
      "\u001b[36m(launch_and_fit pid=7955)\u001b[0m Run with homomorphic encryption\n",
      "\u001b[36m(launch_and_fit pid=7953)\u001b[0m \tTrain Epoch: 1 \tTrain_loss: 0.2079 | Train_acc: 93.9338 % | Validation_loss: 0.4107 | Validation_acc: 84.1875 %\n",
      "\u001b[36m(launch_and_fit pid=7955)\u001b[0m [Client 6, round 10] fit, config: {'learning_rate': 0.003, 'batch_size': '32', 'server_round': 10, 'local_epochs': 10}\n",
      "\u001b[36m(launch_and_fit pid=7955)\u001b[0m \tTrain Epoch: 1 \tTrain_loss: 0.1516 | Train_acc: 94.3015 % | Validation_loss: 0.3258 | Validation_acc: 91.3125 %\n",
      "\u001b[36m(launch_and_fit pid=7955)\u001b[0m Updated model\n"
     ]
    },
    {
     "name": "stderr",
     "output_type": "stream",
     "text": [
      "  0%|\u001b[34m          \u001b[0m| 0/10 [00:00<?, ?it/s]\n",
      " 20%|\u001b[34m██        \u001b[0m| 2/10 [00:08<00:34,  4.33s/it]\u001b[32m [repeated 3x across cluster]\u001b[0m\n"
     ]
    },
    {
     "name": "stdout",
     "output_type": "stream",
     "text": [
      "\u001b[36m(launch_and_fit pid=7953)\u001b[0m \tTrain Epoch: 3 \tTrain_loss: 0.0408 | Train_acc: 99.6324 % | Validation_loss: 0.5190 | Validation_acc: 83.7500 %\u001b[32m [repeated 3x across cluster]\u001b[0m\n"
     ]
    },
    {
     "name": "stderr",
     "output_type": "stream",
     "text": [
      " 40%|\u001b[34m████      \u001b[0m| 4/10 [00:16<00:25,  4.17s/it]\u001b[32m [repeated 4x across cluster]\u001b[0m\n"
     ]
    },
    {
     "name": "stdout",
     "output_type": "stream",
     "text": [
      "\u001b[36m(launch_and_fit pid=7953)\u001b[0m \tTrain Epoch: 5 \tTrain_loss: 0.0194 | Train_acc: 100.0000 % | Validation_loss: 0.5223 | Validation_acc: 81.7500 %\u001b[32m [repeated 4x across cluster]\u001b[0m\n"
     ]
    },
    {
     "name": "stderr",
     "output_type": "stream",
     "text": [
      " 60%|\u001b[34m██████    \u001b[0m| 6/10 [00:25<00:16,  4.17s/it]\u001b[32m [repeated 4x across cluster]\u001b[0m\n"
     ]
    },
    {
     "name": "stdout",
     "output_type": "stream",
     "text": [
      "\u001b[36m(launch_and_fit pid=7953)\u001b[0m \tTrain Epoch: 7 \tTrain_loss: 0.0135 | Train_acc: 100.0000 % | Validation_loss: 0.5334 | Validation_acc: 81.7500 %\u001b[32m [repeated 4x across cluster]\u001b[0m\n"
     ]
    },
    {
     "name": "stderr",
     "output_type": "stream",
     "text": [
      " 80%|\u001b[34m████████  \u001b[0m| 8/10 [00:33<00:08,  4.21s/it]\u001b[32m [repeated 4x across cluster]\u001b[0m\n"
     ]
    },
    {
     "name": "stdout",
     "output_type": "stream",
     "text": [
      "\u001b[36m(launch_and_fit pid=7953)\u001b[0m \tTrain Epoch: 9 \tTrain_loss: 0.0108 | Train_acc: 100.0000 % | Validation_loss: 0.5517 | Validation_acc: 81.7500 %\u001b[32m [repeated 4x across cluster]\u001b[0m\n",
      "\u001b[36m(launch_and_fit pid=7953)\u001b[0m save graph in  results/FL/\n"
     ]
    },
    {
     "name": "stderr",
     "output_type": "stream",
     "text": [
      "100%|\u001b[34m██████████\u001b[0m| 10/10 [00:42<00:00,  4.21s/it]\u001b[32m [repeated 4x across cluster]\u001b[0m\n"
     ]
    },
    {
     "name": "stdout",
     "output_type": "stream",
     "text": [
      "\u001b[36m(launch_and_fit pid=7953)\u001b[0m features.0.weight 4.76837158203125e-06\n",
      "\u001b[36m(launch_and_fit pid=7953)\u001b[0m features.0.bias 1.430511474609375e-06\n",
      "\u001b[36m(launch_and_fit pid=7953)\u001b[0m features.3.weight 1.430511474609375e-06\n",
      "\u001b[36m(launch_and_fit pid=7953)\u001b[0m features.3.bias 1.1920928955078125e-06\n",
      "\u001b[36m(launch_and_fit pid=7953)\u001b[0m classifier.0.weight 1.430511474609375e-06\n",
      "\u001b[36m(launch_and_fit pid=7953)\u001b[0m classifier.0.bias 1.1920928955078125e-06\n",
      "\u001b[36m(launch_and_fit pid=7953)\u001b[0m classifier.2.weight 1.430511474609375e-06\n",
      "\u001b[36m(launch_and_fit pid=7953)\u001b[0m classifier.2.bias 1.6689300537109375e-06\n",
      "\u001b[36m(launch_and_fit pid=7953)\u001b[0m classifier.3.weights 2.6226043701171875e-06\n",
      "\u001b[36m(launch_and_fit pid=7953)\u001b[0m classifier.4.weight 1.1920928955078125e-06\n",
      "\u001b[36m(launch_and_fit pid=7953)\u001b[0m classifier.4.bias 1.1920928955078125e-06\n",
      "\u001b[36m(launch_and_fit pid=8035)\u001b[0m Run with homomorphic encryption\n",
      "\u001b[36m(launch_and_fit pid=7955)\u001b[0m \tTrain Epoch: 10 \tTrain_loss: 0.0082 | Train_acc: 100.0000 % | Validation_loss: 0.4690 | Validation_acc: 87.3125 %\u001b[32m [repeated 3x across cluster]\u001b[0m\n",
      "\u001b[36m(launch_and_fit pid=7955)\u001b[0m save graph in  results/FL/\n",
      "\u001b[36m(launch_and_fit pid=7955)\u001b[0m classifier.4.bias 1.1920928955078125e-06\u001b[32m [repeated 11x across cluster]\u001b[0m\n",
      "\u001b[36m(launch_and_fit pid=8037)\u001b[0m [Client 5, round 10] fit, config: {'learning_rate': 0.003, 'batch_size': '32', 'server_round': 10, 'local_epochs': 10}\n",
      "\u001b[36m(launch_and_fit pid=8037)\u001b[0m Updated model\n"
     ]
    },
    {
     "name": "stderr",
     "output_type": "stream",
     "text": [
      "  0%|\u001b[34m          \u001b[0m| 0/10 [00:00<?, ?it/s]\n",
      "100%|\u001b[34m██████████\u001b[0m| 10/10 [00:42<00:00,  4.21s/it]\n"
     ]
    },
    {
     "name": "stdout",
     "output_type": "stream",
     "text": [
      "\u001b[36m(launch_and_fit pid=8037)\u001b[0m Run with homomorphic encryption\n",
      "\u001b[36m(launch_and_fit pid=8037)\u001b[0m \tTrain Epoch: 1 \tTrain_loss: 0.1439 | Train_acc: 95.7721 % | Validation_loss: 0.2849 | Validation_acc: 85.0625 %\n",
      "\u001b[36m(launch_and_fit pid=8035)\u001b[0m [Client 3, round 10] fit, config: {'learning_rate': 0.003, 'batch_size': '32', 'server_round': 10, 'local_epochs': 10}\n"
     ]
    },
    {
     "name": "stderr",
     "output_type": "stream",
     "text": [
      " 10%|\u001b[34m█         \u001b[0m| 1/10 [00:04<00:44,  4.94s/it]\n"
     ]
    },
    {
     "name": "stdout",
     "output_type": "stream",
     "text": [
      "\u001b[36m(launch_and_fit pid=8035)\u001b[0m \tTrain Epoch: 1 \tTrain_loss: 0.1584 | Train_acc: 94.8529 % | Validation_loss: 0.3969 | Validation_acc: 80.6250 %\n",
      "\u001b[36m(launch_and_fit pid=8035)\u001b[0m Updated model\n"
     ]
    },
    {
     "name": "stderr",
     "output_type": "stream",
     "text": [
      "  0%|\u001b[34m          \u001b[0m| 0/10 [00:00<?, ?it/s]\n"
     ]
    },
    {
     "name": "stdout",
     "output_type": "stream",
     "text": [
      "\u001b[36m(launch_and_fit pid=8037)\u001b[0m \tTrain Epoch: 3 \tTrain_loss: 0.0579 | Train_acc: 99.0809 % | Validation_loss: 0.2872 | Validation_acc: 89.7500 %\u001b[32m [repeated 3x across cluster]\u001b[0m\n"
     ]
    },
    {
     "name": "stderr",
     "output_type": "stream",
     "text": [
      " 30%|\u001b[34m███       \u001b[0m| 3/10 [00:13<00:30,  4.34s/it]\u001b[32m [repeated 4x across cluster]\u001b[0m\n"
     ]
    },
    {
     "name": "stdout",
     "output_type": "stream",
     "text": [
      "\u001b[36m(launch_and_fit pid=8037)\u001b[0m \tTrain Epoch: 5 \tTrain_loss: 0.0287 | Train_acc: 99.6324 % | Validation_loss: 0.3405 | Validation_acc: 88.1875 %\u001b[32m [repeated 4x across cluster]\u001b[0m\n"
     ]
    },
    {
     "name": "stderr",
     "output_type": "stream",
     "text": [
      " 50%|\u001b[34m█████     \u001b[0m| 5/10 [00:21<00:20,  4.19s/it]\u001b[32m [repeated 4x across cluster]\u001b[0m\n"
     ]
    },
    {
     "name": "stdout",
     "output_type": "stream",
     "text": [
      "\u001b[36m(launch_and_fit pid=8037)\u001b[0m \tTrain Epoch: 7 \tTrain_loss: 0.0168 | Train_acc: 99.8162 % | Validation_loss: 0.3229 | Validation_acc: 89.7500 %\u001b[32m [repeated 4x across cluster]\u001b[0m\n"
     ]
    },
    {
     "name": "stderr",
     "output_type": "stream",
     "text": [
      " 70%|\u001b[34m███████   \u001b[0m| 7/10 [00:29<00:12,  4.15s/it]\u001b[32m [repeated 4x across cluster]\u001b[0m\n"
     ]
    },
    {
     "name": "stdout",
     "output_type": "stream",
     "text": [
      "\u001b[36m(launch_and_fit pid=8037)\u001b[0m \tTrain Epoch: 9 \tTrain_loss: 0.0103 | Train_acc: 100.0000 % | Validation_loss: 0.3155 | Validation_acc: 88.1875 %\u001b[32m [repeated 4x across cluster]\u001b[0m\n"
     ]
    },
    {
     "name": "stderr",
     "output_type": "stream",
     "text": [
      " 90%|\u001b[34m█████████ \u001b[0m| 9/10 [00:38<00:04,  4.15s/it]\u001b[32m [repeated 4x across cluster]\u001b[0m\n"
     ]
    },
    {
     "name": "stdout",
     "output_type": "stream",
     "text": [
      "\u001b[36m(launch_and_fit pid=8037)\u001b[0m save graph in  results/FL/\n",
      "\u001b[36m(launch_and_fit pid=8037)\u001b[0m features.0.weight 5.7220458984375e-06\n",
      "\u001b[36m(launch_and_fit pid=8037)\u001b[0m features.0.bias 1.6689300537109375e-06\n",
      "\u001b[36m(launch_and_fit pid=8037)\u001b[0m features.3.weight 1.1920928955078125e-06\n",
      "\u001b[36m(launch_and_fit pid=8037)\u001b[0m features.3.bias 1.1920928955078125e-06\n",
      "\u001b[36m(launch_and_fit pid=8037)\u001b[0m classifier.0.weight 1.1920928955078125e-06\n",
      "\u001b[36m(launch_and_fit pid=8037)\u001b[0m classifier.0.bias 1.430511474609375e-06\n",
      "\u001b[36m(launch_and_fit pid=8037)\u001b[0m classifier.2.weight 1.1920928955078125e-06\n",
      "\u001b[36m(launch_and_fit pid=8037)\u001b[0m classifier.2.bias 9.5367431640625e-07\n",
      "\u001b[36m(launch_and_fit pid=8037)\u001b[0m classifier.3.weights 1.1920928955078125e-06\n",
      "\u001b[36m(launch_and_fit pid=8037)\u001b[0m classifier.4.weight 9.5367431640625e-07\n",
      "\u001b[36m(launch_and_fit pid=8037)\u001b[0m classifier.4.bias 1.430511474609375e-06\n",
      "\u001b[36m(launch_and_fit pid=8035)\u001b[0m \tTrain Epoch: 10 \tTrain_loss: 0.0086 | Train_acc: 100.0000 % | Validation_loss: 0.2855 | Validation_acc: 87.7500 %\u001b[32m [repeated 3x across cluster]\u001b[0m\n",
      "\u001b[36m(launch_and_fit pid=8117)\u001b[0m Run with homomorphic encryption\n",
      "\u001b[36m(launch_and_fit pid=8035)\u001b[0m save graph in  results/FL/\n",
      "\u001b[36m(launch_and_fit pid=8035)\u001b[0m classifier.4.bias 1.1920928955078125e-06\u001b[32m [repeated 11x across cluster]\u001b[0m\n",
      "\u001b[36m(launch_and_fit pid=8117)\u001b[0m [Client 1, round 10] fit, config: {'learning_rate': 0.003, 'batch_size': '32', 'server_round': 10, 'local_epochs': 10}\n"
     ]
    },
    {
     "name": "stderr",
     "output_type": "stream",
     "text": [
      "  0%|\u001b[34m          \u001b[0m| 0/10 [00:00<?, ?it/s]\n",
      "100%|\u001b[34m██████████\u001b[0m| 10/10 [00:42<00:00,  4.28s/it]\u001b[32m [repeated 3x across cluster]\u001b[0m\n"
     ]
    },
    {
     "name": "stdout",
     "output_type": "stream",
     "text": [
      "\u001b[36m(launch_and_fit pid=8117)\u001b[0m Updated model\n",
      "\u001b[36m(launch_and_fit pid=8117)\u001b[0m \tTrain Epoch: 1 \tTrain_loss: 0.1922 | Train_acc: 93.7500 % | Validation_loss: 0.3424 | Validation_acc: 88.1875 %\n",
      "\u001b[36m(launch_and_fit pid=8142)\u001b[0m Run with homomorphic encryption\n",
      "\u001b[36m(launch_and_fit pid=8142)\u001b[0m [Client 8, round 10] fit, config: {'learning_rate': 0.003, 'batch_size': '32', 'server_round': 10, 'local_epochs': 10}\n"
     ]
    },
    {
     "name": "stderr",
     "output_type": "stream",
     "text": [
      "  0%|\u001b[34m          \u001b[0m| 0/10 [00:00<?, ?it/s]\n",
      " 10%|\u001b[34m█         \u001b[0m| 1/10 [00:04<00:41,  4.60s/it]\u001b[32m [repeated 2x across cluster]\u001b[0m\n"
     ]
    },
    {
     "name": "stdout",
     "output_type": "stream",
     "text": [
      "\u001b[36m(launch_and_fit pid=8142)\u001b[0m Updated model\n"
     ]
    },
    {
     "name": "stderr",
     "output_type": "stream",
     "text": [
      " 30%|\u001b[34m███       \u001b[0m| 3/10 [00:13<00:30,  4.35s/it]\u001b[32m [repeated 3x across cluster]\u001b[0m\n"
     ]
    },
    {
     "name": "stdout",
     "output_type": "stream",
     "text": [
      "\u001b[36m(launch_and_fit pid=8117)\u001b[0m \tTrain Epoch: 3 \tTrain_loss: 0.0374 | Train_acc: 99.6324 % | Validation_loss: 0.4461 | Validation_acc: 83.0625 %\u001b[32m [repeated 4x across cluster]\u001b[0m\n"
     ]
    },
    {
     "name": "stderr",
     "output_type": "stream",
     "text": [
      " 50%|\u001b[34m█████     \u001b[0m| 5/10 [00:21<00:21,  4.24s/it]\u001b[32m [repeated 4x across cluster]\u001b[0m\n"
     ]
    },
    {
     "name": "stdout",
     "output_type": "stream",
     "text": [
      "\u001b[36m(launch_and_fit pid=8117)\u001b[0m \tTrain Epoch: 5 \tTrain_loss: 0.0173 | Train_acc: 100.0000 % | Validation_loss: 0.4586 | Validation_acc: 81.0625 %\u001b[32m [repeated 4x across cluster]\u001b[0m\n"
     ]
    },
    {
     "name": "stderr",
     "output_type": "stream",
     "text": [
      " 70%|\u001b[34m███████   \u001b[0m| 7/10 [00:29<00:12,  4.15s/it]\u001b[32m [repeated 4x across cluster]\u001b[0m\n"
     ]
    },
    {
     "name": "stdout",
     "output_type": "stream",
     "text": [
      "\u001b[36m(launch_and_fit pid=8117)\u001b[0m \tTrain Epoch: 7 \tTrain_loss: 0.0114 | Train_acc: 100.0000 % | Validation_loss: 0.4194 | Validation_acc: 79.5000 %\u001b[32m [repeated 4x across cluster]\u001b[0m\n"
     ]
    },
    {
     "name": "stderr",
     "output_type": "stream",
     "text": [
      " 90%|\u001b[34m█████████ \u001b[0m| 9/10 [00:37<00:04,  4.15s/it]\u001b[32m [repeated 4x across cluster]\u001b[0m\n"
     ]
    },
    {
     "name": "stdout",
     "output_type": "stream",
     "text": [
      "\u001b[36m(launch_and_fit pid=8117)\u001b[0m \tTrain Epoch: 9 \tTrain_loss: 0.0091 | Train_acc: 100.0000 % | Validation_loss: 0.4121 | Validation_acc: 81.0625 %\u001b[32m [repeated 4x across cluster]\u001b[0m\n",
      "\u001b[36m(launch_and_fit pid=8117)\u001b[0m save graph in  results/FL/\n",
      "\u001b[36m(launch_and_fit pid=8117)\u001b[0m features.0.weight 5.4836273193359375e-06\n",
      "\u001b[36m(launch_and_fit pid=8117)\u001b[0m features.0.bias 1.430511474609375e-06\n",
      "\u001b[36m(launch_and_fit pid=8117)\u001b[0m features.3.weight 9.5367431640625e-07\n",
      "\u001b[36m(launch_and_fit pid=8117)\u001b[0m features.3.bias 9.5367431640625e-07\n",
      "\u001b[36m(launch_and_fit pid=8117)\u001b[0m classifier.0.weight 1.1920928955078125e-06\n",
      "\u001b[36m(launch_and_fit pid=8117)\u001b[0m classifier.0.bias 1.1920928955078125e-06\n",
      "\u001b[36m(launch_and_fit pid=8117)\u001b[0m classifier.2.weight 1.430511474609375e-06\n",
      "\u001b[36m(launch_and_fit pid=8117)\u001b[0m classifier.2.bias 1.1920928955078125e-06\n",
      "\u001b[36m(launch_and_fit pid=8117)\u001b[0m classifier.3.weights 1.1920928955078125e-06\n",
      "\u001b[36m(launch_and_fit pid=8117)\u001b[0m classifier.4.weight 1.1920928955078125e-06\n",
      "\u001b[36m(launch_and_fit pid=8117)\u001b[0m classifier.4.bias 1.1920928955078125e-06\n",
      "\u001b[36m(launch_and_fit pid=8142)\u001b[0m \tTrain Epoch: 10 \tTrain_loss: 0.0126 | Train_acc: 99.8162 % | Validation_loss: 0.3421 | Validation_acc: 92.4375 %\u001b[32m [repeated 3x across cluster]\u001b[0m\n"
     ]
    },
    {
     "name": "stderr",
     "output_type": "stream",
     "text": [
      "DEBUG flwr 2024-07-21 03:28:37,861 | server.py:236 | fit_round 10 received 10 results and 0 failures\n"
     ]
    },
    {
     "name": "stdout",
     "output_type": "stream",
     "text": [
      "Saving round 10 aggregated_parameters...\n"
     ]
    },
    {
     "name": "stderr",
     "output_type": "stream",
     "text": [
      "DEBUG flwr 2024-07-21 03:28:39,842 | server.py:173 | evaluate_round 10: strategy sampled 10 clients (out of 10)\n"
     ]
    },
    {
     "name": "stdout",
     "output_type": "stream",
     "text": [
      "\u001b[36m(launch_and_evaluate pid=8208)\u001b[0m Run with homomorphic encryption\n",
      "\u001b[36m(launch_and_fit pid=8142)\u001b[0m save graph in  results/FL/\n",
      "\u001b[36m(launch_and_fit pid=8142)\u001b[0m classifier.4.bias 9.5367431640625e-07\u001b[32m [repeated 11x across cluster]\u001b[0m\n",
      "\u001b[36m(launch_and_evaluate pid=8208)\u001b[0m [Client 5] evaluate, config: {}\n",
      "\u001b[36m(launch_and_evaluate pid=8209)\u001b[0m Updated model\n",
      "\u001b[36m(launch_and_evaluate pid=8287)\u001b[0m Run with homomorphic encryption\u001b[32m [repeated 2x across cluster]\u001b[0m\n",
      "\u001b[36m(launch_and_evaluate pid=8209)\u001b[0m [Client 0] evaluate, config: {}\n",
      "\u001b[36m(launch_and_evaluate pid=8208)\u001b[0m Updated model\n",
      "\u001b[36m(launch_and_evaluate pid=8287)\u001b[0m [Client 1] evaluate, config: {}\n",
      "\u001b[36m(launch_and_evaluate pid=8287)\u001b[0m Updated model\n",
      "\u001b[36m(launch_and_evaluate pid=8366)\u001b[0m Run with homomorphic encryption\u001b[32m [repeated 2x across cluster]\u001b[0m\n",
      "\u001b[36m(launch_and_evaluate pid=8289)\u001b[0m [Client 4] evaluate, config: {}\n",
      "\u001b[36m(launch_and_evaluate pid=8289)\u001b[0m Updated model\n",
      "\u001b[36m(launch_and_evaluate pid=8366)\u001b[0m [Client 3] evaluate, config: {}\n",
      "\u001b[36m(launch_and_evaluate pid=8366)\u001b[0m Updated model\n",
      "\u001b[36m(launch_and_evaluate pid=8443)\u001b[0m Run with homomorphic encryption\u001b[32m [repeated 2x across cluster]\u001b[0m\n",
      "\u001b[36m(launch_and_evaluate pid=8367)\u001b[0m [Client 8] evaluate, config: {}\n",
      "\u001b[36m(launch_and_evaluate pid=8367)\u001b[0m Updated model\n",
      "\u001b[36m(launch_and_evaluate pid=8443)\u001b[0m [Client 9] evaluate, config: {}\n",
      "\u001b[36m(launch_and_evaluate pid=8443)\u001b[0m Updated model\n",
      "\u001b[36m(launch_and_evaluate pid=8523)\u001b[0m Run with homomorphic encryption\u001b[32m [repeated 2x across cluster]\u001b[0m\n",
      "\u001b[36m(launch_and_evaluate pid=8445)\u001b[0m [Client 6] evaluate, config: {}\n",
      "\u001b[36m(launch_and_evaluate pid=8445)\u001b[0m Updated model\n",
      "\u001b[36m(launch_and_evaluate pid=8523)\u001b[0m [Client 2] evaluate, config: {}\n",
      "\u001b[36m(launch_and_evaluate pid=8521)\u001b[0m Updated model\n"
     ]
    },
    {
     "name": "stderr",
     "output_type": "stream",
     "text": [
      "DEBUG flwr 2024-07-21 03:29:57,702 | server.py:187 | evaluate_round 10 received 10 results and 0 failures\n",
      "DEBUG flwr 2024-07-21 03:29:57,703 | server.py:222 | fit_round 11: strategy sampled 10 clients (out of 10)\n"
     ]
    },
    {
     "name": "stdout",
     "output_type": "stream",
     "text": [
      "\u001b[36m(launch_and_fit pid=8608)\u001b[0m Run with homomorphic encryption\u001b[32m [repeated 2x across cluster]\u001b[0m\n",
      "\u001b[36m(launch_and_evaluate pid=8521)\u001b[0m [Client 7] evaluate, config: {}\n",
      "\u001b[36m(launch_and_evaluate pid=8523)\u001b[0m Updated model\n",
      "\u001b[36m(launch_and_fit pid=8608)\u001b[0m [Client 3, round 11] fit, config: {'learning_rate': 0.003, 'batch_size': '32', 'server_round': 11, 'local_epochs': 10}\n",
      "\u001b[36m(launch_and_fit pid=8608)\u001b[0m Updated model\n"
     ]
    },
    {
     "name": "stderr",
     "output_type": "stream",
     "text": [
      "  0%|\u001b[34m          \u001b[0m| 0/10 [00:00<?, ?it/s]\n",
      "100%|\u001b[34m██████████\u001b[0m| 10/10 [00:42<00:00,  4.20s/it]\u001b[32m [repeated 3x across cluster]\u001b[0m\n"
     ]
    },
    {
     "name": "stdout",
     "output_type": "stream",
     "text": [
      "\u001b[36m(launch_and_fit pid=8608)\u001b[0m \tTrain Epoch: 1 \tTrain_loss: 0.1380 | Train_acc: 95.2206 % | Validation_loss: 0.3502 | Validation_acc: 89.3125 %\n",
      "\u001b[36m(launch_and_fit pid=8609)\u001b[0m Run with homomorphic encryption\n",
      "\u001b[36m(launch_and_fit pid=8609)\u001b[0m [Client 4, round 11] fit, config: {'learning_rate': 0.003, 'batch_size': '32', 'server_round': 11, 'local_epochs': 10}\n",
      "\u001b[36m(launch_and_fit pid=8609)\u001b[0m Updated model\n"
     ]
    },
    {
     "name": "stderr",
     "output_type": "stream",
     "text": [
      "  0%|\u001b[34m          \u001b[0m| 0/10 [00:00<?, ?it/s]\n",
      " 20%|\u001b[34m██        \u001b[0m| 2/10 [00:08<00:34,  4.32s/it]\u001b[32m [repeated 3x across cluster]\u001b[0m\n"
     ]
    },
    {
     "name": "stdout",
     "output_type": "stream",
     "text": [
      "\u001b[36m(launch_and_fit pid=8608)\u001b[0m \tTrain Epoch: 3 \tTrain_loss: 0.0259 | Train_acc: 99.6324 % | Validation_loss: 0.3241 | Validation_acc: 87.7500 %\u001b[32m [repeated 4x across cluster]\u001b[0m\n"
     ]
    },
    {
     "name": "stderr",
     "output_type": "stream",
     "text": [
      " 40%|\u001b[34m████      \u001b[0m| 4/10 [00:16<00:24,  4.04s/it]\u001b[32m [repeated 4x across cluster]\u001b[0m\n"
     ]
    },
    {
     "name": "stdout",
     "output_type": "stream",
     "text": [
      "\u001b[36m(launch_and_fit pid=8609)\u001b[0m \tTrain Epoch: 5 \tTrain_loss: 0.0200 | Train_acc: 99.6324 % | Validation_loss: 0.2592 | Validation_acc: 95.3125 %\u001b[32m [repeated 4x across cluster]\u001b[0m\n"
     ]
    },
    {
     "name": "stderr",
     "output_type": "stream",
     "text": [
      " 60%|\u001b[34m██████    \u001b[0m| 6/10 [00:24<00:16,  4.01s/it]\u001b[32m [repeated 4x across cluster]\u001b[0m\n"
     ]
    },
    {
     "name": "stdout",
     "output_type": "stream",
     "text": [
      "\u001b[36m(launch_and_fit pid=8609)\u001b[0m \tTrain Epoch: 7 \tTrain_loss: 0.0110 | Train_acc: 99.8162 % | Validation_loss: 0.2913 | Validation_acc: 91.7500 %\u001b[32m [repeated 4x across cluster]\u001b[0m\n"
     ]
    },
    {
     "name": "stderr",
     "output_type": "stream",
     "text": [
      " 80%|\u001b[34m████████  \u001b[0m| 8/10 [00:32<00:08,  4.06s/it]\u001b[32m [repeated 4x across cluster]\u001b[0m\n"
     ]
    },
    {
     "name": "stdout",
     "output_type": "stream",
     "text": [
      "\u001b[36m(launch_and_fit pid=8609)\u001b[0m \tTrain Epoch: 9 \tTrain_loss: 0.0110 | Train_acc: 99.8162 % | Validation_loss: 0.2774 | Validation_acc: 93.7500 %\u001b[32m [repeated 4x across cluster]\u001b[0m\n"
     ]
    },
    {
     "name": "stderr",
     "output_type": "stream",
     "text": [
      "100%|\u001b[34m██████████\u001b[0m| 10/10 [00:40<00:00,  4.08s/it]\u001b[32m [repeated 4x across cluster]\u001b[0m\n"
     ]
    },
    {
     "name": "stdout",
     "output_type": "stream",
     "text": [
      "\u001b[36m(launch_and_fit pid=8609)\u001b[0m save graph in  results/FL/\n",
      "\u001b[36m(launch_and_fit pid=8609)\u001b[0m features.0.weight 8.58306884765625e-06\n",
      "\u001b[36m(launch_and_fit pid=8609)\u001b[0m features.0.bias 1.6689300537109375e-06\n",
      "\u001b[36m(launch_and_fit pid=8609)\u001b[0m features.3.weight 1.9073486328125e-06\n",
      "\u001b[36m(launch_and_fit pid=8609)\u001b[0m features.3.bias 1.430511474609375e-06\n",
      "\u001b[36m(launch_and_fit pid=8609)\u001b[0m classifier.0.weight 1.1920928955078125e-06\n",
      "\u001b[36m(launch_and_fit pid=8609)\u001b[0m classifier.0.bias 1.430511474609375e-06\n",
      "\u001b[36m(launch_and_fit pid=8609)\u001b[0m classifier.2.weight 9.5367431640625e-07\n",
      "\u001b[36m(launch_and_fit pid=8609)\u001b[0m classifier.2.bias 1.1920928955078125e-06\n",
      "\u001b[36m(launch_and_fit pid=8609)\u001b[0m classifier.3.weights 1.1920928955078125e-06\n",
      "\u001b[36m(launch_and_fit pid=8609)\u001b[0m classifier.4.weight 1.430511474609375e-06\n",
      "\u001b[36m(launch_and_fit pid=8609)\u001b[0m classifier.4.bias 1.1920928955078125e-06\n",
      "\u001b[36m(launch_and_fit pid=8608)\u001b[0m \tTrain Epoch: 10 \tTrain_loss: 0.0056 | Train_acc: 100.0000 % | Validation_loss: 0.3472 | Validation_acc: 84.1875 %\u001b[32m [repeated 3x across cluster]\u001b[0m\n",
      "\u001b[36m(launch_and_fit pid=8689)\u001b[0m Run with homomorphic encryption\n",
      "\u001b[36m(launch_and_fit pid=8608)\u001b[0m save graph in  results/FL/\n",
      "\u001b[36m(launch_and_fit pid=8608)\u001b[0m classifier.4.bias 1.1920928955078125e-06\u001b[32m [repeated 11x across cluster]\u001b[0m\n",
      "\u001b[36m(launch_and_fit pid=8689)\u001b[0m [Client 1, round 11] fit, config: {'learning_rate': 0.003, 'batch_size': '32', 'server_round': 11, 'local_epochs': 10}\n",
      "\u001b[36m(launch_and_fit pid=8689)\u001b[0m Updated model\n"
     ]
    },
    {
     "name": "stderr",
     "output_type": "stream",
     "text": [
      "  0%|\u001b[34m          \u001b[0m| 0/10 [00:00<?, ?it/s]\n",
      "100%|\u001b[34m██████████\u001b[0m| 10/10 [00:41<00:00,  4.16s/it]\n"
     ]
    },
    {
     "name": "stdout",
     "output_type": "stream",
     "text": [
      "\u001b[36m(launch_and_fit pid=8689)\u001b[0m \tTrain Epoch: 1 \tTrain_loss: 0.1346 | Train_acc: 95.7721 % | Validation_loss: 0.3562 | Validation_acc: 90.1875 %\n",
      "\u001b[36m(launch_and_fit pid=8691)\u001b[0m Run with homomorphic encryption\n",
      "\u001b[36m(launch_and_fit pid=8691)\u001b[0m [Client 5, round 11] fit, config: {'learning_rate': 0.003, 'batch_size': '32', 'server_round': 11, 'local_epochs': 10}\n"
     ]
    },
    {
     "name": "stderr",
     "output_type": "stream",
     "text": [
      " 10%|\u001b[34m█         \u001b[0m| 1/10 [00:04<00:44,  4.90s/it]\n"
     ]
    },
    {
     "name": "stdout",
     "output_type": "stream",
     "text": [
      "\u001b[36m(launch_and_fit pid=8691)\u001b[0m Updated model\n"
     ]
    },
    {
     "name": "stderr",
     "output_type": "stream",
     "text": [
      "  0%|\u001b[34m          \u001b[0m| 0/10 [00:00<?, ?it/s]\n"
     ]
    },
    {
     "name": "stdout",
     "output_type": "stream",
     "text": [
      "\u001b[36m(launch_and_fit pid=8689)\u001b[0m \tTrain Epoch: 3 \tTrain_loss: 0.0447 | Train_acc: 98.8971 % | Validation_loss: 0.3514 | Validation_acc: 87.7500 %\u001b[32m [repeated 4x across cluster]\u001b[0m\n"
     ]
    },
    {
     "name": "stderr",
     "output_type": "stream",
     "text": [
      " 30%|\u001b[34m███       \u001b[0m| 3/10 [00:13<00:29,  4.28s/it]\u001b[32m [repeated 4x across cluster]\u001b[0m\n"
     ]
    },
    {
     "name": "stdout",
     "output_type": "stream",
     "text": [
      "\u001b[36m(launch_and_fit pid=8689)\u001b[0m \tTrain Epoch: 5 \tTrain_loss: 0.0235 | Train_acc: 99.6324 % | Validation_loss: 0.4844 | Validation_acc: 86.1875 %\u001b[32m [repeated 4x across cluster]\u001b[0m\n"
     ]
    },
    {
     "name": "stderr",
     "output_type": "stream",
     "text": [
      " 50%|\u001b[34m█████     \u001b[0m| 5/10 [00:21<00:20,  4.19s/it]\u001b[32m [repeated 4x across cluster]\u001b[0m\n"
     ]
    },
    {
     "name": "stdout",
     "output_type": "stream",
     "text": [
      "\u001b[36m(launch_and_fit pid=8689)\u001b[0m \tTrain Epoch: 7 \tTrain_loss: 0.0107 | Train_acc: 99.8162 % | Validation_loss: 0.4225 | Validation_acc: 88.1875 %\u001b[32m [repeated 4x across cluster]\u001b[0m\n"
     ]
    },
    {
     "name": "stderr",
     "output_type": "stream",
     "text": [
      " 70%|\u001b[34m███████   \u001b[0m| 7/10 [00:29<00:12,  4.16s/it]\u001b[32m [repeated 4x across cluster]\u001b[0m\n"
     ]
    },
    {
     "name": "stdout",
     "output_type": "stream",
     "text": [
      "\u001b[36m(launch_and_fit pid=8691)\u001b[0m \tTrain Epoch: 9 \tTrain_loss: 0.0046 | Train_acc: 100.0000 % | Validation_loss: 0.3027 | Validation_acc: 90.1875 %\u001b[32m [repeated 4x across cluster]\u001b[0m\n"
     ]
    },
    {
     "name": "stderr",
     "output_type": "stream",
     "text": [
      " 90%|\u001b[34m█████████ \u001b[0m| 9/10 [00:37<00:04,  4.11s/it]\u001b[32m [repeated 4x across cluster]\u001b[0m\n"
     ]
    },
    {
     "name": "stdout",
     "output_type": "stream",
     "text": [
      "\u001b[36m(launch_and_fit pid=8691)\u001b[0m save graph in  results/FL/\n",
      "\u001b[36m(launch_and_fit pid=8691)\u001b[0m features.0.weight 5.0067901611328125e-06\n",
      "\u001b[36m(launch_and_fit pid=8691)\u001b[0m features.0.bias 1.6689300537109375e-06\n",
      "\u001b[36m(launch_and_fit pid=8691)\u001b[0m features.3.weight 1.1920928955078125e-06\n",
      "\u001b[36m(launch_and_fit pid=8691)\u001b[0m features.3.bias 1.430511474609375e-06\n",
      "\u001b[36m(launch_and_fit pid=8691)\u001b[0m classifier.0.weight 9.5367431640625e-07\n",
      "\u001b[36m(launch_and_fit pid=8691)\u001b[0m classifier.0.bias 1.1920928955078125e-06\n",
      "\u001b[36m(launch_and_fit pid=8691)\u001b[0m classifier.2.weight 9.5367431640625e-07\n",
      "\u001b[36m(launch_and_fit pid=8691)\u001b[0m classifier.2.bias 9.5367431640625e-07\n",
      "\u001b[36m(launch_and_fit pid=8691)\u001b[0m classifier.3.weights 1.1920928955078125e-06\n",
      "\u001b[36m(launch_and_fit pid=8691)\u001b[0m classifier.4.weight 1.430511474609375e-06\n",
      "\u001b[36m(launch_and_fit pid=8691)\u001b[0m classifier.4.bias 1.1920928955078125e-06\n",
      "\u001b[36m(launch_and_fit pid=8689)\u001b[0m \tTrain Epoch: 10 \tTrain_loss: 0.0184 | Train_acc: 99.8162 % | Validation_loss: 0.5739 | Validation_acc: 84.6250 %\u001b[32m [repeated 3x across cluster]\u001b[0m\n",
      "\u001b[36m(launch_and_fit pid=8771)\u001b[0m Run with homomorphic encryption\n",
      "\u001b[36m(launch_and_fit pid=8689)\u001b[0m save graph in  results/FL/\n",
      "\u001b[36m(launch_and_fit pid=8689)\u001b[0m classifier.4.bias 1.1920928955078125e-06\u001b[32m [repeated 11x across cluster]\u001b[0m\n",
      "\u001b[36m(launch_and_fit pid=8771)\u001b[0m [Client 8, round 11] fit, config: {'learning_rate': 0.003, 'batch_size': '32', 'server_round': 11, 'local_epochs': 10}\n",
      "\u001b[36m(launch_and_fit pid=8771)\u001b[0m Updated model\n"
     ]
    },
    {
     "name": "stderr",
     "output_type": "stream",
     "text": [
      "  0%|\u001b[34m          \u001b[0m| 0/10 [00:00<?, ?it/s]\n",
      "100%|\u001b[34m██████████\u001b[0m| 10/10 [00:42<00:00,  4.24s/it]\u001b[32m [repeated 3x across cluster]\u001b[0m\n"
     ]
    },
    {
     "name": "stdout",
     "output_type": "stream",
     "text": [
      "\u001b[36m(launch_and_fit pid=8771)\u001b[0m \tTrain Epoch: 1 \tTrain_loss: 0.1069 | Train_acc: 96.5074 % | Validation_loss: 0.5070 | Validation_acc: 80.1875 %\n",
      "\u001b[36m(launch_and_fit pid=8773)\u001b[0m Run with homomorphic encryption\n",
      "\u001b[36m(launch_and_fit pid=8773)\u001b[0m [Client 9, round 11] fit, config: {'learning_rate': 0.003, 'batch_size': '32', 'server_round': 11, 'local_epochs': 10}\n",
      "\u001b[36m(launch_and_fit pid=8773)\u001b[0m Updated model\n"
     ]
    },
    {
     "name": "stderr",
     "output_type": "stream",
     "text": [
      "  0%|\u001b[34m          \u001b[0m| 0/10 [00:00<?, ?it/s]\n",
      " 10%|\u001b[34m█         \u001b[0m| 1/10 [00:04<00:41,  4.57s/it]\u001b[32m [repeated 2x across cluster]\u001b[0m\n",
      " 30%|\u001b[34m███       \u001b[0m| 3/10 [00:13<00:30,  4.35s/it]\u001b[32m [repeated 3x across cluster]\u001b[0m\n"
     ]
    },
    {
     "name": "stdout",
     "output_type": "stream",
     "text": [
      "\u001b[36m(launch_and_fit pid=8771)\u001b[0m \tTrain Epoch: 3 \tTrain_loss: 0.0203 | Train_acc: 99.8162 % | Validation_loss: 0.3299 | Validation_acc: 90.8750 %\u001b[32m [repeated 4x across cluster]\u001b[0m\n"
     ]
    },
    {
     "name": "stderr",
     "output_type": "stream",
     "text": [
      " 50%|\u001b[34m█████     \u001b[0m| 5/10 [00:21<00:20,  4.17s/it]\u001b[32m [repeated 4x across cluster]\u001b[0m\n"
     ]
    },
    {
     "name": "stdout",
     "output_type": "stream",
     "text": [
      "\u001b[36m(launch_and_fit pid=8771)\u001b[0m \tTrain Epoch: 5 \tTrain_loss: 0.0143 | Train_acc: 99.6324 % | Validation_loss: 0.3568 | Validation_acc: 87.3125 %\u001b[32m [repeated 4x across cluster]\u001b[0m\n"
     ]
    },
    {
     "name": "stderr",
     "output_type": "stream",
     "text": [
      " 70%|\u001b[34m███████   \u001b[0m| 7/10 [00:29<00:12,  4.06s/it]\u001b[32m [repeated 4x across cluster]\u001b[0m\n"
     ]
    },
    {
     "name": "stdout",
     "output_type": "stream",
     "text": [
      "\u001b[36m(launch_and_fit pid=8771)\u001b[0m \tTrain Epoch: 7 \tTrain_loss: 0.0147 | Train_acc: 99.6324 % | Validation_loss: 0.3689 | Validation_acc: 87.3125 %\u001b[32m [repeated 4x across cluster]\u001b[0m\n"
     ]
    },
    {
     "name": "stderr",
     "output_type": "stream",
     "text": [
      " 90%|\u001b[34m█████████ \u001b[0m| 9/10 [00:37<00:04,  4.05s/it]\u001b[32m [repeated 4x across cluster]\u001b[0m\n"
     ]
    },
    {
     "name": "stdout",
     "output_type": "stream",
     "text": [
      "\u001b[36m(launch_and_fit pid=8771)\u001b[0m \tTrain Epoch: 9 \tTrain_loss: 0.0204 | Train_acc: 99.4485 % | Validation_loss: 0.3771 | Validation_acc: 88.8750 %\u001b[32m [repeated 4x across cluster]\u001b[0m\n",
      "\u001b[36m(launch_and_fit pid=8771)\u001b[0m save graph in  results/FL/\n",
      "\u001b[36m(launch_and_fit pid=8771)\u001b[0m features.0.weight 5.4836273193359375e-06\n",
      "\u001b[36m(launch_and_fit pid=8771)\u001b[0m features.0.bias 1.430511474609375e-06\n",
      "\u001b[36m(launch_and_fit pid=8771)\u001b[0m features.3.weight 1.1920928955078125e-06\n",
      "\u001b[36m(launch_and_fit pid=8771)\u001b[0m features.3.bias 1.430511474609375e-06\n",
      "\u001b[36m(launch_and_fit pid=8771)\u001b[0m classifier.0.weight 1.430511474609375e-06\n",
      "\u001b[36m(launch_and_fit pid=8771)\u001b[0m classifier.0.bias 9.5367431640625e-07\n",
      "\u001b[36m(launch_and_fit pid=8771)\u001b[0m classifier.2.weight 1.1920928955078125e-06\n",
      "\u001b[36m(launch_and_fit pid=8771)\u001b[0m classifier.2.bias 9.5367431640625e-07\n",
      "\u001b[36m(launch_and_fit pid=8771)\u001b[0m classifier.3.weights 1.1920928955078125e-06\n",
      "\u001b[36m(launch_and_fit pid=8771)\u001b[0m classifier.4.weight 1.430511474609375e-06\n",
      "\u001b[36m(launch_and_fit pid=8771)\u001b[0m classifier.4.bias 1.1920928955078125e-06\n",
      "\u001b[36m(launch_and_fit pid=8773)\u001b[0m \tTrain Epoch: 10 \tTrain_loss: 0.0100 | Train_acc: 99.8162 % | Validation_loss: 0.6493 | Validation_acc: 85.7500 %\u001b[32m [repeated 3x across cluster]\u001b[0m\n",
      "\u001b[36m(launch_and_fit pid=8853)\u001b[0m Run with homomorphic encryption\n",
      "\u001b[36m(launch_and_fit pid=8773)\u001b[0m save graph in  results/FL/\n",
      "\u001b[36m(launch_and_fit pid=8773)\u001b[0m classifier.4.bias 2.1457672119140625e-06\u001b[32m [repeated 11x across cluster]\u001b[0m\n",
      "\u001b[36m(launch_and_fit pid=8853)\u001b[0m [Client 6, round 11] fit, config: {'learning_rate': 0.003, 'batch_size': '32', 'server_round': 11, 'local_epochs': 10}\n"
     ]
    },
    {
     "name": "stderr",
     "output_type": "stream",
     "text": [
      "  0%|\u001b[34m          \u001b[0m| 0/10 [00:00<?, ?it/s]\n",
      "100%|\u001b[34m██████████\u001b[0m| 10/10 [00:41<00:00,  4.15s/it]\u001b[32m [repeated 3x across cluster]\u001b[0m\n"
     ]
    },
    {
     "name": "stdout",
     "output_type": "stream",
     "text": [
      "\u001b[36m(launch_and_fit pid=8853)\u001b[0m Updated model\n",
      "\u001b[36m(launch_and_fit pid=8853)\u001b[0m \tTrain Epoch: 1 \tTrain_loss: 0.1083 | Train_acc: 97.0588 % | Validation_loss: 0.3143 | Validation_acc: 87.7500 %\n",
      "\u001b[36m(launch_and_fit pid=8855)\u001b[0m Run with homomorphic encryption\n",
      "\u001b[36m(launch_and_fit pid=8855)\u001b[0m [Client 2, round 11] fit, config: {'learning_rate': 0.003, 'batch_size': '32', 'server_round': 11, 'local_epochs': 10}\n"
     ]
    },
    {
     "name": "stderr",
     "output_type": "stream",
     "text": [
      "  0%|\u001b[34m          \u001b[0m| 0/10 [00:00<?, ?it/s]\n",
      " 20%|\u001b[34m██        \u001b[0m| 2/10 [00:08<00:34,  4.29s/it]\u001b[32m [repeated 3x across cluster]\u001b[0m\n"
     ]
    },
    {
     "name": "stdout",
     "output_type": "stream",
     "text": [
      "\u001b[36m(launch_and_fit pid=8855)\u001b[0m Updated model\n",
      "\u001b[36m(launch_and_fit pid=8853)\u001b[0m \tTrain Epoch: 3 \tTrain_loss: 0.0269 | Train_acc: 99.6324 % | Validation_loss: 0.4120 | Validation_acc: 85.7500 %\u001b[32m [repeated 4x across cluster]\u001b[0m\n"
     ]
    },
    {
     "name": "stderr",
     "output_type": "stream",
     "text": [
      " 40%|\u001b[34m████      \u001b[0m| 4/10 [00:17<00:26,  4.34s/it]\u001b[32m [repeated 4x across cluster]\u001b[0m\n"
     ]
    },
    {
     "name": "stdout",
     "output_type": "stream",
     "text": [
      "\u001b[36m(launch_and_fit pid=8853)\u001b[0m \tTrain Epoch: 5 \tTrain_loss: 0.0165 | Train_acc: 99.8162 % | Validation_loss: 0.4490 | Validation_acc: 89.7500 %\u001b[32m [repeated 4x across cluster]\u001b[0m\n"
     ]
    },
    {
     "name": "stderr",
     "output_type": "stream",
     "text": [
      " 60%|\u001b[34m██████    \u001b[0m| 6/10 [00:25<00:16,  4.16s/it]\u001b[32m [repeated 4x across cluster]\u001b[0m\n"
     ]
    },
    {
     "name": "stdout",
     "output_type": "stream",
     "text": [
      "\u001b[36m(launch_and_fit pid=8853)\u001b[0m \tTrain Epoch: 7 \tTrain_loss: 0.0168 | Train_acc: 99.4485 % | Validation_loss: 0.5085 | Validation_acc: 86.1875 %\u001b[32m [repeated 4x across cluster]\u001b[0m\n"
     ]
    },
    {
     "name": "stderr",
     "output_type": "stream",
     "text": [
      " 80%|\u001b[34m████████  \u001b[0m| 8/10 [00:33<00:08,  4.11s/it]\u001b[32m [repeated 4x across cluster]\u001b[0m\n"
     ]
    },
    {
     "name": "stdout",
     "output_type": "stream",
     "text": [
      "\u001b[36m(launch_and_fit pid=8855)\u001b[0m \tTrain Epoch: 9 \tTrain_loss: 0.0297 | Train_acc: 99.4485 % | Validation_loss: 0.2864 | Validation_acc: 92.8750 %\u001b[32m [repeated 4x across cluster]\u001b[0m\n"
     ]
    },
    {
     "name": "stderr",
     "output_type": "stream",
     "text": [
      "100%|\u001b[34m██████████\u001b[0m| 10/10 [00:41<00:00,  4.16s/it]\u001b[32m [repeated 4x across cluster]\u001b[0m\n"
     ]
    },
    {
     "name": "stdout",
     "output_type": "stream",
     "text": [
      "\u001b[36m(launch_and_fit pid=8853)\u001b[0m save graph in  results/FL/\n",
      "\u001b[36m(launch_and_fit pid=8853)\u001b[0m features.0.weight 4.76837158203125e-06\n",
      "\u001b[36m(launch_and_fit pid=8853)\u001b[0m features.0.bias 1.9073486328125e-06\n",
      "\u001b[36m(launch_and_fit pid=8853)\u001b[0m features.3.weight 1.9073486328125e-06\n",
      "\u001b[36m(launch_and_fit pid=8853)\u001b[0m features.3.bias 1.9073486328125e-06\n",
      "\u001b[36m(launch_and_fit pid=8853)\u001b[0m classifier.0.weight 1.9073486328125e-06\n",
      "\u001b[36m(launch_and_fit pid=8853)\u001b[0m classifier.0.bias 2.86102294921875e-06\n",
      "\u001b[36m(launch_and_fit pid=8853)\u001b[0m classifier.2.weight 1.430511474609375e-06\n",
      "\u001b[36m(launch_and_fit pid=8853)\u001b[0m classifier.2.bias 1.430511474609375e-06\n",
      "\u001b[36m(launch_and_fit pid=8853)\u001b[0m classifier.3.weights 9.5367431640625e-07\n",
      "\u001b[36m(launch_and_fit pid=8853)\u001b[0m classifier.4.weight 9.5367431640625e-07\n",
      "\u001b[36m(launch_and_fit pid=8853)\u001b[0m classifier.4.bias 9.5367431640625e-07\n",
      "\u001b[36m(launch_and_fit pid=8935)\u001b[0m Run with homomorphic encryption\n",
      "\u001b[36m(launch_and_fit pid=8855)\u001b[0m \tTrain Epoch: 10 \tTrain_loss: 0.0203 | Train_acc: 99.6324 % | Validation_loss: 0.3863 | Validation_acc: 87.3125 %\u001b[32m [repeated 3x across cluster]\u001b[0m\n",
      "\u001b[36m(launch_and_fit pid=8855)\u001b[0m save graph in  results/FL/\n",
      "\u001b[36m(launch_and_fit pid=8855)\u001b[0m classifier.4.bias 9.5367431640625e-07\u001b[32m [repeated 11x across cluster]\u001b[0m\n",
      "\u001b[36m(launch_and_fit pid=8935)\u001b[0m [Client 7, round 11] fit, config: {'learning_rate': 0.003, 'batch_size': '32', 'server_round': 11, 'local_epochs': 10}\n",
      "\u001b[36m(launch_and_fit pid=8935)\u001b[0m Updated model\n"
     ]
    },
    {
     "name": "stderr",
     "output_type": "stream",
     "text": [
      "  0%|\u001b[34m          \u001b[0m| 0/10 [00:00<?, ?it/s]\n",
      "100%|\u001b[34m██████████\u001b[0m| 10/10 [00:41<00:00,  4.12s/it]\n"
     ]
    },
    {
     "name": "stdout",
     "output_type": "stream",
     "text": [
      "\u001b[36m(launch_and_fit pid=8937)\u001b[0m Run with homomorphic encryption\n",
      "\u001b[36m(launch_and_fit pid=8935)\u001b[0m \tTrain Epoch: 1 \tTrain_loss: 0.1313 | Train_acc: 94.1176 % | Validation_loss: 0.3355 | Validation_acc: 89.3125 %\n",
      "\u001b[36m(launch_and_fit pid=8937)\u001b[0m [Client 0, round 11] fit, config: {'learning_rate': 0.003, 'batch_size': '32', 'server_round': 11, 'local_epochs': 10}\n",
      "\u001b[36m(launch_and_fit pid=8937)\u001b[0m \tTrain Epoch: 1 \tTrain_loss: 0.1034 | Train_acc: 97.2426 % | Validation_loss: 0.3886 | Validation_acc: 86.1875 %\n"
     ]
    },
    {
     "name": "stderr",
     "output_type": "stream",
     "text": [
      " 10%|\u001b[34m█         \u001b[0m| 1/10 [00:04<00:40,  4.47s/it]\n"
     ]
    },
    {
     "name": "stdout",
     "output_type": "stream",
     "text": [
      "\u001b[36m(launch_and_fit pid=8937)\u001b[0m \tTrain Epoch: 2 \tTrain_loss: 0.0493 | Train_acc: 99.0809 % | Validation_loss: 0.3833 | Validation_acc: 87.7500 %\n",
      "\u001b[36m(launch_and_fit pid=8937)\u001b[0m Updated model\n"
     ]
    },
    {
     "name": "stderr",
     "output_type": "stream",
     "text": [
      "  0%|\u001b[34m          \u001b[0m| 0/10 [00:00<?, ?it/s]\n"
     ]
    },
    {
     "name": "stdout",
     "output_type": "stream",
     "text": [
      "\u001b[36m(launch_and_fit pid=8937)\u001b[0m \tTrain Epoch: 3 \tTrain_loss: 0.0226 | Train_acc: 99.6324 % | Validation_loss: 0.4603 | Validation_acc: 83.7500 %\u001b[32m [repeated 2x across cluster]\u001b[0m\n"
     ]
    },
    {
     "name": "stderr",
     "output_type": "stream",
     "text": [
      " 30%|\u001b[34m███       \u001b[0m| 3/10 [00:12<00:28,  4.08s/it]\u001b[32m [repeated 4x across cluster]\u001b[0m\n"
     ]
    },
    {
     "name": "stdout",
     "output_type": "stream",
     "text": [
      "\u001b[36m(launch_and_fit pid=8937)\u001b[0m \tTrain Epoch: 5 \tTrain_loss: 0.0094 | Train_acc: 100.0000 % | Validation_loss: 0.4076 | Validation_acc: 81.7500 %\u001b[32m [repeated 4x across cluster]\u001b[0m\n"
     ]
    },
    {
     "name": "stderr",
     "output_type": "stream",
     "text": [
      " 50%|\u001b[34m█████     \u001b[0m| 5/10 [00:20<00:20,  4.07s/it]\u001b[32m [repeated 4x across cluster]\u001b[0m\n"
     ]
    },
    {
     "name": "stdout",
     "output_type": "stream",
     "text": [
      "\u001b[36m(launch_and_fit pid=8937)\u001b[0m \tTrain Epoch: 7 \tTrain_loss: 0.0070 | Train_acc: 100.0000 % | Validation_loss: 0.4073 | Validation_acc: 85.3125 %\u001b[32m [repeated 4x across cluster]\u001b[0m\n"
     ]
    },
    {
     "name": "stderr",
     "output_type": "stream",
     "text": [
      " 70%|\u001b[34m███████   \u001b[0m| 7/10 [00:28<00:12,  4.09s/it]\u001b[32m [repeated 4x across cluster]\u001b[0m\n"
     ]
    },
    {
     "name": "stdout",
     "output_type": "stream",
     "text": [
      "\u001b[36m(launch_and_fit pid=8937)\u001b[0m \tTrain Epoch: 9 \tTrain_loss: 0.0054 | Train_acc: 100.0000 % | Validation_loss: 0.4062 | Validation_acc: 85.3125 %\u001b[32m [repeated 4x across cluster]\u001b[0m\n"
     ]
    },
    {
     "name": "stderr",
     "output_type": "stream",
     "text": [
      " 90%|\u001b[34m█████████ \u001b[0m| 9/10 [00:36<00:04,  4.07s/it]\u001b[32m [repeated 4x across cluster]\u001b[0m\n"
     ]
    },
    {
     "name": "stdout",
     "output_type": "stream",
     "text": [
      "\u001b[36m(launch_and_fit pid=8937)\u001b[0m save graph in  results/FL/\n",
      "\u001b[36m(launch_and_fit pid=8937)\u001b[0m features.0.weight 5.0067901611328125e-06\n",
      "\u001b[36m(launch_and_fit pid=8937)\u001b[0m features.0.bias 1.9073486328125e-06\n",
      "\u001b[36m(launch_and_fit pid=8937)\u001b[0m features.3.weight 9.5367431640625e-07\n",
      "\u001b[36m(launch_and_fit pid=8937)\u001b[0m features.3.bias 9.5367431640625e-07\n",
      "\u001b[36m(launch_and_fit pid=8937)\u001b[0m classifier.0.weight 1.430511474609375e-06\n",
      "\u001b[36m(launch_and_fit pid=8937)\u001b[0m classifier.0.bias 1.1920928955078125e-06\n",
      "\u001b[36m(launch_and_fit pid=8937)\u001b[0m classifier.2.weight 1.1920928955078125e-06\n",
      "\u001b[36m(launch_and_fit pid=8937)\u001b[0m classifier.2.bias 1.430511474609375e-06\n",
      "\u001b[36m(launch_and_fit pid=8937)\u001b[0m classifier.3.weights 9.5367431640625e-07\n",
      "\u001b[36m(launch_and_fit pid=8937)\u001b[0m classifier.4.weight 9.5367431640625e-07\n",
      "\u001b[36m(launch_and_fit pid=8937)\u001b[0m classifier.4.bias 9.5367431640625e-07\n"
     ]
    },
    {
     "name": "stderr",
     "output_type": "stream",
     "text": [
      "DEBUG flwr 2024-07-21 03:34:40,595 | server.py:236 | fit_round 11 received 10 results and 0 failures\n"
     ]
    },
    {
     "name": "stdout",
     "output_type": "stream",
     "text": [
      "\u001b[36m(launch_and_fit pid=8935)\u001b[0m \tTrain Epoch: 10 \tTrain_loss: 0.0096 | Train_acc: 99.8162 % | Validation_loss: 0.5294 | Validation_acc: 86.1875 %\u001b[32m [repeated 3x across cluster]\u001b[0m\n",
      "Saving round 11 aggregated_parameters...\n"
     ]
    },
    {
     "name": "stderr",
     "output_type": "stream",
     "text": [
      "DEBUG flwr 2024-07-21 03:34:42,547 | server.py:173 | evaluate_round 11: strategy sampled 10 clients (out of 10)\n"
     ]
    },
    {
     "name": "stdout",
     "output_type": "stream",
     "text": [
      "\u001b[36m(launch_and_evaluate pid=9026)\u001b[0m Run with homomorphic encryption\n",
      "\u001b[36m(launch_and_fit pid=8935)\u001b[0m save graph in  results/FL/\n",
      "\u001b[36m(launch_and_fit pid=8935)\u001b[0m classifier.4.bias 9.5367431640625e-07\u001b[32m [repeated 11x across cluster]\u001b[0m\n",
      "\u001b[36m(launch_and_evaluate pid=9026)\u001b[0m [Client 1] evaluate, config: {}\n",
      "\u001b[36m(launch_and_evaluate pid=9026)\u001b[0m Updated model\n",
      "\u001b[36m(launch_and_evaluate pid=9105)\u001b[0m Run with homomorphic encryption\u001b[32m [repeated 2x across cluster]\u001b[0m\n",
      "\u001b[36m(launch_and_evaluate pid=9027)\u001b[0m [Client 9] evaluate, config: {}\n",
      "\u001b[36m(launch_and_evaluate pid=9027)\u001b[0m Updated model\n",
      "\u001b[36m(launch_and_evaluate pid=9105)\u001b[0m [Client 4] evaluate, config: {}\n",
      "\u001b[36m(launch_and_evaluate pid=9105)\u001b[0m Updated model\n",
      "\u001b[36m(launch_and_evaluate pid=9183)\u001b[0m Run with homomorphic encryption\u001b[32m [repeated 2x across cluster]\u001b[0m\n",
      "\u001b[36m(launch_and_evaluate pid=9107)\u001b[0m [Client 0] evaluate, config: {}\n",
      "\u001b[36m(launch_and_evaluate pid=9107)\u001b[0m Updated model\n",
      "\u001b[36m(launch_and_evaluate pid=9183)\u001b[0m [Client 5] evaluate, config: {}\n",
      "\u001b[36m(launch_and_evaluate pid=9183)\u001b[0m Updated model\n",
      "\u001b[36m(launch_and_evaluate pid=9261)\u001b[0m Run with homomorphic encryption\u001b[32m [repeated 2x across cluster]\u001b[0m\n",
      "\u001b[36m(launch_and_evaluate pid=9185)\u001b[0m [Client 2] evaluate, config: {}\n",
      "\u001b[36m(launch_and_evaluate pid=9185)\u001b[0m Updated model\n",
      "\u001b[36m(launch_and_evaluate pid=9261)\u001b[0m [Client 7] evaluate, config: {}\n",
      "\u001b[36m(launch_and_evaluate pid=9261)\u001b[0m Updated model\n",
      "\u001b[36m(launch_and_evaluate pid=9339)\u001b[0m Run with homomorphic encryption\u001b[32m [repeated 2x across cluster]\u001b[0m\n",
      "\u001b[36m(launch_and_evaluate pid=9263)\u001b[0m [Client 3] evaluate, config: {}\n",
      "\u001b[36m(launch_and_evaluate pid=9263)\u001b[0m Updated model\n",
      "\u001b[36m(launch_and_evaluate pid=9339)\u001b[0m [Client 6] evaluate, config: {}\n",
      "\u001b[36m(launch_and_evaluate pid=9339)\u001b[0m Updated model\n"
     ]
    },
    {
     "name": "stderr",
     "output_type": "stream",
     "text": [
      "DEBUG flwr 2024-07-21 03:36:00,485 | server.py:187 | evaluate_round 11 received 10 results and 0 failures\n",
      "DEBUG flwr 2024-07-21 03:36:00,486 | server.py:222 | fit_round 12: strategy sampled 10 clients (out of 10)\n"
     ]
    },
    {
     "name": "stdout",
     "output_type": "stream",
     "text": [
      "\u001b[36m(launch_and_fit pid=9426)\u001b[0m Run with homomorphic encryption\u001b[32m [repeated 2x across cluster]\u001b[0m\n",
      "\u001b[36m(launch_and_evaluate pid=9341)\u001b[0m [Client 8] evaluate, config: {}\n",
      "\u001b[36m(launch_and_evaluate pid=9341)\u001b[0m Updated model\n",
      "\u001b[36m(launch_and_fit pid=9426)\u001b[0m [Client 2, round 12] fit, config: {'learning_rate': 0.003, 'batch_size': '32', 'server_round': 12, 'local_epochs': 10}\n",
      "\u001b[36m(launch_and_fit pid=9426)\u001b[0m Updated model\n"
     ]
    },
    {
     "name": "stderr",
     "output_type": "stream",
     "text": [
      "  0%|\u001b[34m          \u001b[0m| 0/10 [00:00<?, ?it/s]\n",
      "100%|\u001b[34m██████████\u001b[0m| 10/10 [00:41<00:00,  4.14s/it]\u001b[32m [repeated 3x across cluster]\u001b[0m\n"
     ]
    },
    {
     "name": "stdout",
     "output_type": "stream",
     "text": [
      "\u001b[36m(launch_and_fit pid=9426)\u001b[0m \tTrain Epoch: 1 \tTrain_loss: 0.0910 | Train_acc: 97.0588 % | Validation_loss: 0.3089 | Validation_acc: 90.4375 %\n",
      "\u001b[36m(launch_and_fit pid=9427)\u001b[0m Run with homomorphic encryption\n",
      "\u001b[36m(launch_and_fit pid=9427)\u001b[0m [Client 8, round 12] fit, config: {'learning_rate': 0.003, 'batch_size': '32', 'server_round': 12, 'local_epochs': 10}\n",
      "\u001b[36m(launch_and_fit pid=9427)\u001b[0m Updated model\n"
     ]
    },
    {
     "name": "stderr",
     "output_type": "stream",
     "text": [
      "  0%|\u001b[34m          \u001b[0m| 0/10 [00:00<?, ?it/s]\n",
      " 20%|\u001b[34m██        \u001b[0m| 2/10 [00:08<00:35,  4.40s/it]\u001b[32m [repeated 3x across cluster]\u001b[0m\n"
     ]
    },
    {
     "name": "stdout",
     "output_type": "stream",
     "text": [
      "\u001b[36m(launch_and_fit pid=9427)\u001b[0m \tTrain Epoch: 3 \tTrain_loss: 0.0288 | Train_acc: 99.4485 % | Validation_loss: 0.3259 | Validation_acc: 88.8750 %\u001b[32m [repeated 4x across cluster]\u001b[0m\n"
     ]
    },
    {
     "name": "stderr",
     "output_type": "stream",
     "text": [
      " 40%|\u001b[34m████      \u001b[0m| 4/10 [00:16<00:25,  4.17s/it]\u001b[32m [repeated 4x across cluster]\u001b[0m\n"
     ]
    },
    {
     "name": "stdout",
     "output_type": "stream",
     "text": [
      "\u001b[36m(launch_and_fit pid=9427)\u001b[0m \tTrain Epoch: 5 \tTrain_loss: 0.0069 | Train_acc: 100.0000 % | Validation_loss: 0.3671 | Validation_acc: 90.8750 %\u001b[32m [repeated 4x across cluster]\u001b[0m\n"
     ]
    },
    {
     "name": "stderr",
     "output_type": "stream",
     "text": [
      " 60%|\u001b[34m██████    \u001b[0m| 6/10 [00:25<00:16,  4.11s/it]\u001b[32m [repeated 4x across cluster]\u001b[0m\n"
     ]
    },
    {
     "name": "stdout",
     "output_type": "stream",
     "text": [
      "\u001b[36m(launch_and_fit pid=9427)\u001b[0m \tTrain Epoch: 7 \tTrain_loss: 0.0038 | Train_acc: 100.0000 % | Validation_loss: 0.3674 | Validation_acc: 90.8750 %\u001b[32m [repeated 4x across cluster]\u001b[0m\n"
     ]
    },
    {
     "name": "stderr",
     "output_type": "stream",
     "text": [
      " 80%|\u001b[34m████████  \u001b[0m| 8/10 [00:33<00:08,  4.08s/it]\u001b[32m [repeated 4x across cluster]\u001b[0m\n"
     ]
    },
    {
     "name": "stdout",
     "output_type": "stream",
     "text": [
      "\u001b[36m(launch_and_fit pid=9426)\u001b[0m \tTrain Epoch: 8 \tTrain_loss: 0.0167 | Train_acc: 99.8162 % | Validation_loss: 0.3028 | Validation_acc: 87.7500 %\u001b[32m [repeated 3x across cluster]\u001b[0m\n"
     ]
    },
    {
     "name": "stderr",
     "output_type": "stream",
     "text": [
      " 90%|\u001b[34m█████████ \u001b[0m| 9/10 [00:38<00:04,  4.19s/it]\u001b[32m [repeated 3x across cluster]\u001b[0m\n"
     ]
    },
    {
     "name": "stdout",
     "output_type": "stream",
     "text": [
      "\u001b[36m(launch_and_fit pid=9427)\u001b[0m save graph in  results/FL/\n",
      "\u001b[36m(launch_and_fit pid=9427)\u001b[0m \tTrain Epoch: 10 \tTrain_loss: 0.0030 | Train_acc: 100.0000 % | Validation_loss: 0.3677 | Validation_acc: 88.8750 %\u001b[32m [repeated 3x across cluster]\u001b[0m\n",
      "\u001b[36m(launch_and_fit pid=9427)\u001b[0m features.0.weight 4.76837158203125e-06\n",
      "\u001b[36m(launch_and_fit pid=9427)\u001b[0m features.0.bias 1.6689300537109375e-06\n",
      "\u001b[36m(launch_and_fit pid=9427)\u001b[0m features.3.weight 1.1920928955078125e-06\n",
      "\u001b[36m(launch_and_fit pid=9427)\u001b[0m features.3.bias 1.1920928955078125e-06\n",
      "\u001b[36m(launch_and_fit pid=9427)\u001b[0m classifier.0.weight 1.1920928955078125e-06\n",
      "\u001b[36m(launch_and_fit pid=9427)\u001b[0m classifier.0.bias 9.5367431640625e-07\n",
      "\u001b[36m(launch_and_fit pid=9427)\u001b[0m classifier.2.weight 1.1920928955078125e-06\n",
      "\u001b[36m(launch_and_fit pid=9427)\u001b[0m classifier.2.bias 1.1920928955078125e-06\n",
      "\u001b[36m(launch_and_fit pid=9427)\u001b[0m classifier.3.weights 1.6689300537109375e-06\n",
      "\u001b[36m(launch_and_fit pid=9427)\u001b[0m classifier.4.weight 1.430511474609375e-06\n",
      "\u001b[36m(launch_and_fit pid=9427)\u001b[0m classifier.4.bias 1.430511474609375e-06\n",
      "\u001b[36m(launch_and_fit pid=9508)\u001b[0m Run with homomorphic encryption\n",
      "\u001b[36m(launch_and_fit pid=9426)\u001b[0m save graph in  results/FL/\n",
      "\u001b[36m(launch_and_fit pid=9426)\u001b[0m \tTrain Epoch: 10 \tTrain_loss: 0.0160 | Train_acc: 99.8162 % | Validation_loss: 0.3057 | Validation_acc: 92.8750 %\n",
      "\u001b[36m(launch_and_fit pid=9426)\u001b[0m classifier.4.bias 9.5367431640625e-07\u001b[32m [repeated 11x across cluster]\u001b[0m\n",
      "\u001b[36m(launch_and_fit pid=9508)\u001b[0m [Client 7, round 12] fit, config: {'learning_rate': 0.003, 'batch_size': '32', 'server_round': 12, 'local_epochs': 10}\n"
     ]
    },
    {
     "name": "stderr",
     "output_type": "stream",
     "text": [
      "  0%|\u001b[34m          \u001b[0m| 0/10 [00:00<?, ?it/s]\n",
      "100%|\u001b[34m██████████\u001b[0m| 10/10 [00:42<00:00,  4.26s/it]\u001b[32m [repeated 2x across cluster]\u001b[0m\n"
     ]
    },
    {
     "name": "stdout",
     "output_type": "stream",
     "text": [
      "\u001b[36m(launch_and_fit pid=9508)\u001b[0m Updated model\n",
      "\u001b[36m(launch_and_fit pid=9508)\u001b[0m \tTrain Epoch: 1 \tTrain_loss: 0.0608 | Train_acc: 97.9779 % | Validation_loss: 0.3727 | Validation_acc: 86.8750 %\n",
      "\u001b[36m(launch_and_fit pid=9533)\u001b[0m Run with homomorphic encryption\n",
      "\u001b[36m(launch_and_fit pid=9533)\u001b[0m [Client 9, round 12] fit, config: {'learning_rate': 0.003, 'batch_size': '32', 'server_round': 12, 'local_epochs': 10}\n",
      "\u001b[36m(launch_and_fit pid=9533)\u001b[0m Updated model\n"
     ]
    },
    {
     "name": "stderr",
     "output_type": "stream",
     "text": [
      "  0%|\u001b[34m          \u001b[0m| 0/10 [00:00<?, ?it/s]\n",
      " 10%|\u001b[34m█         \u001b[0m| 1/10 [00:04<00:41,  4.62s/it]\u001b[32m [repeated 2x across cluster]\u001b[0m\n"
     ]
    },
    {
     "name": "stdout",
     "output_type": "stream",
     "text": [
      "\u001b[36m(launch_and_fit pid=9533)\u001b[0m \tTrain Epoch: 2 \tTrain_loss: 0.0346 | Train_acc: 99.0809 % | Validation_loss: 0.4712 | Validation_acc: 84.1875 %\u001b[32m [repeated 3x across cluster]\u001b[0m\n"
     ]
    },
    {
     "name": "stderr",
     "output_type": "stream",
     "text": [
      " 30%|\u001b[34m███       \u001b[0m| 3/10 [00:12<00:28,  4.14s/it]\u001b[32m [repeated 3x across cluster]\u001b[0m\n"
     ]
    },
    {
     "name": "stdout",
     "output_type": "stream",
     "text": [
      "\u001b[36m(launch_and_fit pid=9508)\u001b[0m \tTrain Epoch: 4 \tTrain_loss: 0.0114 | Train_acc: 99.8162 % | Validation_loss: 0.4244 | Validation_acc: 85.7500 %\u001b[32m [repeated 3x across cluster]\u001b[0m\n"
     ]
    },
    {
     "name": "stderr",
     "output_type": "stream",
     "text": [
      " 40%|\u001b[34m████      \u001b[0m| 4/10 [00:16<00:25,  4.18s/it]\u001b[32m [repeated 3x across cluster]\u001b[0m\n"
     ]
    },
    {
     "name": "stdout",
     "output_type": "stream",
     "text": [
      "\u001b[36m(launch_and_fit pid=9533)\u001b[0m \tTrain Epoch: 5 \tTrain_loss: 0.0102 | Train_acc: 99.8162 % | Validation_loss: 0.5893 | Validation_acc: 84.1875 %\u001b[32m [repeated 3x across cluster]\u001b[0m\n"
     ]
    },
    {
     "name": "stderr",
     "output_type": "stream",
     "text": [
      " 60%|\u001b[34m██████    \u001b[0m| 6/10 [00:25<00:16,  4.21s/it]\u001b[32m [repeated 3x across cluster]\u001b[0m\n"
     ]
    },
    {
     "name": "stdout",
     "output_type": "stream",
     "text": [
      "\u001b[36m(launch_and_fit pid=9508)\u001b[0m \tTrain Epoch: 7 \tTrain_loss: 0.0146 | Train_acc: 99.8162 % | Validation_loss: 0.5062 | Validation_acc: 87.3125 %\u001b[32m [repeated 3x across cluster]\u001b[0m\n"
     ]
    },
    {
     "name": "stderr",
     "output_type": "stream",
     "text": [
      " 70%|\u001b[34m███████   \u001b[0m| 7/10 [00:29<00:12,  4.17s/it]\u001b[32m [repeated 3x across cluster]\u001b[0m\n"
     ]
    },
    {
     "name": "stdout",
     "output_type": "stream",
     "text": [
      "\u001b[36m(launch_and_fit pid=9533)\u001b[0m \tTrain Epoch: 8 \tTrain_loss: 0.0064 | Train_acc: 99.8162 % | Validation_loss: 0.6123 | Validation_acc: 84.1875 %\u001b[32m [repeated 3x across cluster]\u001b[0m\n"
     ]
    },
    {
     "name": "stderr",
     "output_type": "stream",
     "text": [
      " 90%|\u001b[34m█████████ \u001b[0m| 9/10 [00:37<00:04,  4.10s/it]\u001b[32m [repeated 3x across cluster]\u001b[0m\n"
     ]
    },
    {
     "name": "stdout",
     "output_type": "stream",
     "text": [
      "\u001b[36m(launch_and_fit pid=9508)\u001b[0m save graph in  results/FL/\n",
      "\u001b[36m(launch_and_fit pid=9508)\u001b[0m \tTrain Epoch: 10 \tTrain_loss: 0.0032 | Train_acc: 100.0000 % | Validation_loss: 0.4770 | Validation_acc: 87.7500 %\u001b[32m [repeated 3x across cluster]\u001b[0m\n",
      "\u001b[36m(launch_and_fit pid=9508)\u001b[0m features.0.weight 4.5299530029296875e-06\n",
      "\u001b[36m(launch_and_fit pid=9508)\u001b[0m features.0.bias 1.1920928955078125e-06\n",
      "\u001b[36m(launch_and_fit pid=9508)\u001b[0m features.3.weight 1.1920928955078125e-06\n",
      "\u001b[36m(launch_and_fit pid=9508)\u001b[0m features.3.bias 9.5367431640625e-07\n",
      "\u001b[36m(launch_and_fit pid=9508)\u001b[0m classifier.0.weight 1.1920928955078125e-06\n",
      "\u001b[36m(launch_and_fit pid=9508)\u001b[0m classifier.0.bias 1.1920928955078125e-06\n",
      "\u001b[36m(launch_and_fit pid=9508)\u001b[0m classifier.2.weight 9.5367431640625e-07\n",
      "\u001b[36m(launch_and_fit pid=9508)\u001b[0m classifier.2.bias 1.430511474609375e-06\n",
      "\u001b[36m(launch_and_fit pid=9508)\u001b[0m classifier.3.weights 1.1920928955078125e-06\n",
      "\u001b[36m(launch_and_fit pid=9508)\u001b[0m classifier.4.weight 1.1920928955078125e-06\n",
      "\u001b[36m(launch_and_fit pid=9508)\u001b[0m classifier.4.bias 1.430511474609375e-06\n"
     ]
    },
    {
     "name": "stderr",
     "output_type": "stream",
     "text": [
      "100%|\u001b[34m██████████\u001b[0m| 10/10 [00:41<00:00,  4.16s/it]\u001b[32m [repeated 3x across cluster]\u001b[0m\n"
     ]
    },
    {
     "name": "stdout",
     "output_type": "stream",
     "text": [
      "\u001b[36m(launch_and_fit pid=9591)\u001b[0m Run with homomorphic encryption\n",
      "\u001b[36m(launch_and_fit pid=9533)\u001b[0m save graph in  results/FL/\n",
      "\u001b[36m(launch_and_fit pid=9533)\u001b[0m \tTrain Epoch: 10 \tTrain_loss: 0.0052 | Train_acc: 99.8162 % | Validation_loss: 0.6290 | Validation_acc: 85.7500 %\n",
      "\u001b[36m(launch_and_fit pid=9533)\u001b[0m classifier.4.bias 1.1920928955078125e-06\u001b[32m [repeated 11x across cluster]\u001b[0m\n",
      "\u001b[36m(launch_and_fit pid=9591)\u001b[0m [Client 3, round 12] fit, config: {'learning_rate': 0.003, 'batch_size': '32', 'server_round': 12, 'local_epochs': 10}\n",
      "\u001b[36m(launch_and_fit pid=9591)\u001b[0m Updated model\n"
     ]
    },
    {
     "name": "stderr",
     "output_type": "stream",
     "text": [
      "  0%|\u001b[34m          \u001b[0m| 0/10 [00:00<?, ?it/s]\n"
     ]
    },
    {
     "name": "stdout",
     "output_type": "stream",
     "text": [
      "\u001b[36m(launch_and_fit pid=9591)\u001b[0m \tTrain Epoch: 1 \tTrain_loss: 0.0692 | Train_acc: 98.1618 % | Validation_loss: 0.2594 | Validation_acc: 90.1875 %\n",
      "\u001b[36m(launch_and_fit pid=9616)\u001b[0m Run with homomorphic encryption\n",
      "\u001b[36m(launch_and_fit pid=9616)\u001b[0m [Client 1, round 12] fit, config: {'learning_rate': 0.003, 'batch_size': '32', 'server_round': 12, 'local_epochs': 10}\n"
     ]
    },
    {
     "name": "stderr",
     "output_type": "stream",
     "text": [
      " 10%|\u001b[34m█         \u001b[0m| 1/10 [00:04<00:41,  4.58s/it]\n",
      "  0%|\u001b[34m          \u001b[0m| 0/10 [00:00<?, ?it/s]\n"
     ]
    },
    {
     "name": "stdout",
     "output_type": "stream",
     "text": [
      "\u001b[36m(launch_and_fit pid=9616)\u001b[0m Updated model\n"
     ]
    },
    {
     "name": "stderr",
     "output_type": "stream",
     "text": [
      " 20%|\u001b[34m██        \u001b[0m| 2/10 [00:08<00:34,  4.34s/it]\u001b[32m [repeated 3x across cluster]\u001b[0m\n"
     ]
    },
    {
     "name": "stdout",
     "output_type": "stream",
     "text": [
      "\u001b[36m(launch_and_fit pid=9616)\u001b[0m \tTrain Epoch: 2 \tTrain_loss: 0.0593 | Train_acc: 98.5294 % | Validation_loss: 0.4556 | Validation_acc: 89.7500 %\u001b[32m [repeated 3x across cluster]\u001b[0m\n",
      "\u001b[36m(launch_and_fit pid=9591)\u001b[0m \tTrain Epoch: 4 \tTrain_loss: 0.0411 | Train_acc: 99.0809 % | Validation_loss: 0.3278 | Validation_acc: 86.1875 %\u001b[32m [repeated 3x across cluster]\u001b[0m\n"
     ]
    },
    {
     "name": "stderr",
     "output_type": "stream",
     "text": [
      " 40%|\u001b[34m████      \u001b[0m| 4/10 [00:16<00:25,  4.17s/it]\u001b[32m [repeated 3x across cluster]\u001b[0m\n",
      " 50%|\u001b[34m█████     \u001b[0m| 5/10 [00:21<00:21,  4.21s/it]\u001b[32m [repeated 3x across cluster]\u001b[0m\n"
     ]
    },
    {
     "name": "stdout",
     "output_type": "stream",
     "text": [
      "\u001b[36m(launch_and_fit pid=9616)\u001b[0m \tTrain Epoch: 5 \tTrain_loss: 0.0210 | Train_acc: 99.6324 % | Validation_loss: 0.3644 | Validation_acc: 91.3125 %\u001b[32m [repeated 3x across cluster]\u001b[0m\n",
      "\u001b[36m(launch_and_fit pid=9591)\u001b[0m \tTrain Epoch: 7 \tTrain_loss: 0.0047 | Train_acc: 100.0000 % | Validation_loss: 0.3556 | Validation_acc: 84.1875 %\u001b[32m [repeated 3x across cluster]\u001b[0m\n"
     ]
    },
    {
     "name": "stderr",
     "output_type": "stream",
     "text": [
      " 70%|\u001b[34m███████   \u001b[0m| 7/10 [00:29<00:12,  4.22s/it]\u001b[32m [repeated 3x across cluster]\u001b[0m\n",
      " 80%|\u001b[34m████████  \u001b[0m| 8/10 [00:33<00:08,  4.14s/it]\u001b[32m [repeated 3x across cluster]\u001b[0m\n"
     ]
    },
    {
     "name": "stdout",
     "output_type": "stream",
     "text": [
      "\u001b[36m(launch_and_fit pid=9616)\u001b[0m \tTrain Epoch: 8 \tTrain_loss: 0.0174 | Train_acc: 99.8162 % | Validation_loss: 0.3164 | Validation_acc: 88.1875 %\u001b[32m [repeated 3x across cluster]\u001b[0m\n",
      "\u001b[36m(launch_and_fit pid=9591)\u001b[0m save graph in  results/FL/\n",
      "\u001b[36m(launch_and_fit pid=9591)\u001b[0m \tTrain Epoch: 10 \tTrain_loss: 0.0030 | Train_acc: 100.0000 % | Validation_loss: 0.3388 | Validation_acc: 85.7500 %\u001b[32m [repeated 3x across cluster]\u001b[0m\n"
     ]
    },
    {
     "name": "stderr",
     "output_type": "stream",
     "text": [
      "100%|\u001b[34m██████████\u001b[0m| 10/10 [00:41<00:00,  4.19s/it]\u001b[32m [repeated 3x across cluster]\u001b[0m\n"
     ]
    },
    {
     "name": "stdout",
     "output_type": "stream",
     "text": [
      "\u001b[36m(launch_and_fit pid=9591)\u001b[0m features.0.weight 5.245208740234375e-06\n",
      "\u001b[36m(launch_and_fit pid=9591)\u001b[0m features.0.bias 1.430511474609375e-06\n",
      "\u001b[36m(launch_and_fit pid=9591)\u001b[0m features.3.weight 9.5367431640625e-07\n",
      "\u001b[36m(launch_and_fit pid=9591)\u001b[0m features.3.bias 9.5367431640625e-07\n",
      "\u001b[36m(launch_and_fit pid=9591)\u001b[0m classifier.0.weight 9.5367431640625e-07\n",
      "\u001b[36m(launch_and_fit pid=9591)\u001b[0m classifier.0.bias 1.1920928955078125e-06\n",
      "\u001b[36m(launch_and_fit pid=9591)\u001b[0m classifier.2.weight 9.5367431640625e-07\n",
      "\u001b[36m(launch_and_fit pid=9591)\u001b[0m classifier.2.bias 9.5367431640625e-07\n",
      "\u001b[36m(launch_and_fit pid=9591)\u001b[0m classifier.3.weights 1.430511474609375e-06\n",
      "\u001b[36m(launch_and_fit pid=9591)\u001b[0m classifier.4.weight 9.5367431640625e-07\n",
      "\u001b[36m(launch_and_fit pid=9591)\u001b[0m classifier.4.bias 9.5367431640625e-07\n",
      "\u001b[36m(launch_and_fit pid=9673)\u001b[0m Run with homomorphic encryption\n",
      "\u001b[36m(launch_and_fit pid=9616)\u001b[0m save graph in  results/FL/\n",
      "\u001b[36m(launch_and_fit pid=9616)\u001b[0m \tTrain Epoch: 10 \tTrain_loss: 0.0231 | Train_acc: 99.2647 % | Validation_loss: 0.5540 | Validation_acc: 81.0625 %\n",
      "\u001b[36m(launch_and_fit pid=9616)\u001b[0m classifier.4.bias 9.5367431640625e-07\u001b[32m [repeated 11x across cluster]\u001b[0m\n",
      "\u001b[36m(launch_and_fit pid=9673)\u001b[0m [Client 6, round 12] fit, config: {'learning_rate': 0.003, 'batch_size': '32', 'server_round': 12, 'local_epochs': 10}\n",
      "\u001b[36m(launch_and_fit pid=9673)\u001b[0m Updated model\n"
     ]
    },
    {
     "name": "stderr",
     "output_type": "stream",
     "text": [
      "  0%|\u001b[34m          \u001b[0m| 0/10 [00:00<?, ?it/s]\n",
      "100%|\u001b[34m██████████\u001b[0m| 10/10 [00:42<00:00,  4.20s/it]\n"
     ]
    },
    {
     "name": "stdout",
     "output_type": "stream",
     "text": [
      "\u001b[36m(launch_and_fit pid=9698)\u001b[0m Run with homomorphic encryption\n",
      "\u001b[36m(launch_and_fit pid=9673)\u001b[0m \tTrain Epoch: 1 \tTrain_loss: 0.0542 | Train_acc: 98.1618 % | Validation_loss: 0.3123 | Validation_acc: 91.3125 %\n",
      "\u001b[36m(launch_and_fit pid=9698)\u001b[0m [Client 5, round 12] fit, config: {'learning_rate': 0.003, 'batch_size': '32', 'server_round': 12, 'local_epochs': 10}\n",
      "\u001b[36m(launch_and_fit pid=9698)\u001b[0m Updated model\n"
     ]
    },
    {
     "name": "stderr",
     "output_type": "stream",
     "text": [
      " 10%|\u001b[34m█         \u001b[0m| 1/10 [00:05<00:48,  5.42s/it]\n",
      "  0%|\u001b[34m          \u001b[0m| 0/10 [00:00<?, ?it/s]\n",
      " 20%|\u001b[34m██        \u001b[0m| 2/10 [00:09<00:36,  4.52s/it]\u001b[32m [repeated 3x across cluster]\u001b[0m\n"
     ]
    },
    {
     "name": "stdout",
     "output_type": "stream",
     "text": [
      "\u001b[36m(launch_and_fit pid=9698)\u001b[0m \tTrain Epoch: 2 \tTrain_loss: 0.0466 | Train_acc: 99.0809 % | Validation_loss: 0.3043 | Validation_acc: 90.1875 %\u001b[32m [repeated 3x across cluster]\u001b[0m\n",
      "\u001b[36m(launch_and_fit pid=9673)\u001b[0m \tTrain Epoch: 4 \tTrain_loss: 0.0123 | Train_acc: 100.0000 % | Validation_loss: 0.3467 | Validation_acc: 91.3125 %\u001b[32m [repeated 3x across cluster]\u001b[0m\n"
     ]
    },
    {
     "name": "stderr",
     "output_type": "stream",
     "text": [
      " 40%|\u001b[34m████      \u001b[0m| 4/10 [00:17<00:25,  4.30s/it]\u001b[32m [repeated 3x across cluster]\u001b[0m\n",
      " 50%|\u001b[34m█████     \u001b[0m| 5/10 [00:21<00:20,  4.16s/it]\u001b[32m [repeated 3x across cluster]\u001b[0m\n"
     ]
    },
    {
     "name": "stdout",
     "output_type": "stream",
     "text": [
      "\u001b[36m(launch_and_fit pid=9698)\u001b[0m \tTrain Epoch: 5 \tTrain_loss: 0.0100 | Train_acc: 99.8162 % | Validation_loss: 0.3558 | Validation_acc: 89.0625 %\u001b[32m [repeated 3x across cluster]\u001b[0m\n",
      "\u001b[36m(launch_and_fit pid=9673)\u001b[0m \tTrain Epoch: 7 \tTrain_loss: 0.0212 | Train_acc: 99.6324 % | Validation_loss: 0.5940 | Validation_acc: 85.0625 %\u001b[32m [repeated 3x across cluster]\u001b[0m\n"
     ]
    },
    {
     "name": "stderr",
     "output_type": "stream",
     "text": [
      " 70%|\u001b[34m███████   \u001b[0m| 7/10 [00:30<00:12,  4.15s/it]\u001b[32m [repeated 3x across cluster]\u001b[0m\n",
      " 80%|\u001b[34m████████  \u001b[0m| 8/10 [00:33<00:08,  4.21s/it]\u001b[32m [repeated 3x across cluster]\u001b[0m\n"
     ]
    },
    {
     "name": "stdout",
     "output_type": "stream",
     "text": [
      "\u001b[36m(launch_and_fit pid=9698)\u001b[0m \tTrain Epoch: 8 \tTrain_loss: 0.0034 | Train_acc: 100.0000 % | Validation_loss: 0.3272 | Validation_acc: 89.0625 %\u001b[32m [repeated 3x across cluster]\u001b[0m\n",
      "\u001b[36m(launch_and_fit pid=9673)\u001b[0m save graph in  results/FL/\n",
      "\u001b[36m(launch_and_fit pid=9673)\u001b[0m \tTrain Epoch: 10 \tTrain_loss: 0.0030 | Train_acc: 100.0000 % | Validation_loss: 0.5099 | Validation_acc: 91.3125 %\u001b[32m [repeated 3x across cluster]\u001b[0m\n"
     ]
    },
    {
     "name": "stderr",
     "output_type": "stream",
     "text": [
      "100%|\u001b[34m██████████\u001b[0m| 10/10 [00:42<00:00,  4.24s/it]\u001b[32m [repeated 3x across cluster]\u001b[0m\n"
     ]
    },
    {
     "name": "stdout",
     "output_type": "stream",
     "text": [
      "\u001b[36m(launch_and_fit pid=9673)\u001b[0m features.0.weight 5.245208740234375e-06\n",
      "\u001b[36m(launch_and_fit pid=9673)\u001b[0m features.0.bias 1.430511474609375e-06\n",
      "\u001b[36m(launch_and_fit pid=9673)\u001b[0m features.3.weight 1.1920928955078125e-06\n",
      "\u001b[36m(launch_and_fit pid=9673)\u001b[0m features.3.bias 9.5367431640625e-07\n",
      "\u001b[36m(launch_and_fit pid=9673)\u001b[0m classifier.0.weight 1.1920928955078125e-06\n",
      "\u001b[36m(launch_and_fit pid=9673)\u001b[0m classifier.0.bias 1.1920928955078125e-06\n",
      "\u001b[36m(launch_and_fit pid=9673)\u001b[0m classifier.2.weight 9.5367431640625e-07\n",
      "\u001b[36m(launch_and_fit pid=9673)\u001b[0m classifier.2.bias 9.5367431640625e-07\n",
      "\u001b[36m(launch_and_fit pid=9673)\u001b[0m classifier.3.weights 1.1920928955078125e-06\n",
      "\u001b[36m(launch_and_fit pid=9673)\u001b[0m classifier.4.weight 2.1457672119140625e-06\n",
      "\u001b[36m(launch_and_fit pid=9673)\u001b[0m classifier.4.bias 9.5367431640625e-07\n",
      "\u001b[36m(launch_and_fit pid=9756)\u001b[0m Run with homomorphic encryption\n",
      "\u001b[36m(launch_and_fit pid=9698)\u001b[0m save graph in  results/FL/\n",
      "\u001b[36m(launch_and_fit pid=9698)\u001b[0m \tTrain Epoch: 10 \tTrain_loss: 0.0028 | Train_acc: 100.0000 % | Validation_loss: 0.3268 | Validation_acc: 88.6250 %\n",
      "\u001b[36m(launch_and_fit pid=9698)\u001b[0m classifier.4.bias 9.5367431640625e-07\u001b[32m [repeated 11x across cluster]\u001b[0m\n",
      "\u001b[36m(launch_and_fit pid=9756)\u001b[0m [Client 4, round 12] fit, config: {'learning_rate': 0.003, 'batch_size': '32', 'server_round': 12, 'local_epochs': 10}\n"
     ]
    },
    {
     "name": "stderr",
     "output_type": "stream",
     "text": [
      "  0%|\u001b[34m          \u001b[0m| 0/10 [00:00<?, ?it/s]\n",
      "100%|\u001b[34m██████████\u001b[0m| 10/10 [00:42<00:00,  4.20s/it]\n"
     ]
    },
    {
     "name": "stdout",
     "output_type": "stream",
     "text": [
      "\u001b[36m(launch_and_fit pid=9756)\u001b[0m Updated model\n"
     ]
    },
    {
     "name": "stderr",
     "output_type": "stream",
     "text": [
      " 10%|\u001b[34m█         \u001b[0m| 1/10 [00:04<00:40,  4.50s/it]\n"
     ]
    },
    {
     "name": "stdout",
     "output_type": "stream",
     "text": [
      "\u001b[36m(launch_and_fit pid=9756)\u001b[0m \tTrain Epoch: 1 \tTrain_loss: 0.0916 | Train_acc: 97.2426 % | Validation_loss: 0.2681 | Validation_acc: 91.7500 %\n",
      "\u001b[36m(launch_and_fit pid=9780)\u001b[0m Run with homomorphic encryption\n",
      "\u001b[36m(launch_and_fit pid=9780)\u001b[0m [Client 0, round 12] fit, config: {'learning_rate': 0.003, 'batch_size': '32', 'server_round': 12, 'local_epochs': 10}\n",
      "\u001b[36m(launch_and_fit pid=9780)\u001b[0m Updated model\n"
     ]
    },
    {
     "name": "stderr",
     "output_type": "stream",
     "text": [
      "  0%|\u001b[34m          \u001b[0m| 0/10 [00:00<?, ?it/s]\n",
      " 30%|\u001b[34m███       \u001b[0m| 3/10 [00:13<00:30,  4.30s/it]\u001b[32m [repeated 4x across cluster]\u001b[0m\n"
     ]
    },
    {
     "name": "stdout",
     "output_type": "stream",
     "text": [
      "\u001b[36m(launch_and_fit pid=9756)\u001b[0m \tTrain Epoch: 3 \tTrain_loss: 0.0198 | Train_acc: 99.8162 % | Validation_loss: 0.2460 | Validation_acc: 95.3125 %\u001b[32m [repeated 4x across cluster]\u001b[0m\n"
     ]
    },
    {
     "name": "stderr",
     "output_type": "stream",
     "text": [
      " 50%|\u001b[34m█████     \u001b[0m| 5/10 [00:21<00:20,  4.11s/it]\u001b[32m [repeated 4x across cluster]\u001b[0m\n"
     ]
    },
    {
     "name": "stdout",
     "output_type": "stream",
     "text": [
      "\u001b[36m(launch_and_fit pid=9756)\u001b[0m \tTrain Epoch: 5 \tTrain_loss: 0.0134 | Train_acc: 99.8162 % | Validation_loss: 0.2715 | Validation_acc: 91.7500 %\u001b[32m [repeated 4x across cluster]\u001b[0m\n"
     ]
    },
    {
     "name": "stderr",
     "output_type": "stream",
     "text": [
      " 70%|\u001b[34m███████   \u001b[0m| 7/10 [00:28<00:12,  4.04s/it]\u001b[32m [repeated 4x across cluster]\u001b[0m\n"
     ]
    },
    {
     "name": "stdout",
     "output_type": "stream",
     "text": [
      "\u001b[36m(launch_and_fit pid=9756)\u001b[0m \tTrain Epoch: 7 \tTrain_loss: 0.0323 | Train_acc: 99.0809 % | Validation_loss: 0.2870 | Validation_acc: 95.3125 %\u001b[32m [repeated 4x across cluster]\u001b[0m\n"
     ]
    },
    {
     "name": "stderr",
     "output_type": "stream",
     "text": [
      " 90%|\u001b[34m█████████ \u001b[0m| 9/10 [00:37<00:04,  4.06s/it]\u001b[32m [repeated 4x across cluster]\u001b[0m\n"
     ]
    },
    {
     "name": "stdout",
     "output_type": "stream",
     "text": [
      "\u001b[36m(launch_and_fit pid=9756)\u001b[0m \tTrain Epoch: 9 \tTrain_loss: 0.0413 | Train_acc: 98.7132 % | Validation_loss: 0.3626 | Validation_acc: 90.1875 %\u001b[32m [repeated 4x across cluster]\u001b[0m\n",
      "\u001b[36m(launch_and_fit pid=9756)\u001b[0m save graph in  results/FL/\n",
      "\u001b[36m(launch_and_fit pid=9756)\u001b[0m features.0.weight 5.245208740234375e-06\n",
      "\u001b[36m(launch_and_fit pid=9756)\u001b[0m features.0.bias 1.6689300537109375e-06\n",
      "\u001b[36m(launch_and_fit pid=9756)\u001b[0m features.3.weight 1.1920928955078125e-06\n",
      "\u001b[36m(launch_and_fit pid=9756)\u001b[0m features.3.bias 1.430511474609375e-06\n",
      "\u001b[36m(launch_and_fit pid=9756)\u001b[0m classifier.0.weight 1.1920928955078125e-06\n",
      "\u001b[36m(launch_and_fit pid=9756)\u001b[0m classifier.0.bias 1.9073486328125e-06\n",
      "\u001b[36m(launch_and_fit pid=9756)\u001b[0m classifier.2.weight 2.1457672119140625e-06\n",
      "\u001b[36m(launch_and_fit pid=9756)\u001b[0m classifier.2.bias 1.9073486328125e-06\n",
      "\u001b[36m(launch_and_fit pid=9756)\u001b[0m classifier.3.weights 1.1920928955078125e-06\n",
      "\u001b[36m(launch_and_fit pid=9756)\u001b[0m classifier.4.weight 1.430511474609375e-06\n",
      "\u001b[36m(launch_and_fit pid=9756)\u001b[0m classifier.4.bias 1.1920928955078125e-06\n",
      "\u001b[36m(launch_and_fit pid=9780)\u001b[0m \tTrain Epoch: 10 \tTrain_loss: 0.0057 | Train_acc: 99.8162 % | Validation_loss: 0.3968 | Validation_acc: 90.8750 %\u001b[32m [repeated 3x across cluster]\u001b[0m\n"
     ]
    },
    {
     "name": "stderr",
     "output_type": "stream",
     "text": [
      "DEBUG flwr 2024-07-21 03:40:45,632 | server.py:236 | fit_round 12 received 10 results and 0 failures\n"
     ]
    },
    {
     "name": "stdout",
     "output_type": "stream",
     "text": [
      "Saving round 12 aggregated_parameters...\n"
     ]
    },
    {
     "name": "stderr",
     "output_type": "stream",
     "text": [
      "DEBUG flwr 2024-07-21 03:40:47,596 | server.py:173 | evaluate_round 12: strategy sampled 10 clients (out of 10)\n"
     ]
    },
    {
     "name": "stdout",
     "output_type": "stream",
     "text": [
      "\u001b[36m(launch_and_evaluate pid=9846)\u001b[0m Run with homomorphic encryption\n",
      "\u001b[36m(launch_and_fit pid=9780)\u001b[0m save graph in  results/FL/\n",
      "\u001b[36m(launch_and_fit pid=9780)\u001b[0m classifier.4.bias 1.9073486328125e-06\u001b[32m [repeated 11x across cluster]\u001b[0m\n",
      "\u001b[36m(launch_and_evaluate pid=9846)\u001b[0m [Client 3] evaluate, config: {}\n",
      "\u001b[36m(launch_and_evaluate pid=9846)\u001b[0m Updated model\n",
      "\u001b[36m(launch_and_evaluate pid=9923)\u001b[0m Run with homomorphic encryption\u001b[32m [repeated 2x across cluster]\u001b[0m\n",
      "\u001b[36m(launch_and_evaluate pid=9847)\u001b[0m [Client 0] evaluate, config: {}\n",
      "\u001b[36m(launch_and_evaluate pid=9847)\u001b[0m Updated model\n",
      "\u001b[36m(launch_and_evaluate pid=9923)\u001b[0m [Client 2] evaluate, config: {}\n",
      "\u001b[36m(launch_and_evaluate pid=9923)\u001b[0m Updated model\n",
      "\u001b[36m(launch_and_evaluate pid=10001)\u001b[0m Run with homomorphic encryption\u001b[32m [repeated 2x across cluster]\u001b[0m\n",
      "\u001b[36m(launch_and_evaluate pid=9925)\u001b[0m [Client 4] evaluate, config: {}\n",
      "\u001b[36m(launch_and_evaluate pid=9925)\u001b[0m Updated model\n",
      "\u001b[36m(launch_and_evaluate pid=10001)\u001b[0m [Client 9] evaluate, config: {}\n",
      "\u001b[36m(launch_and_evaluate pid=10001)\u001b[0m Updated model\n",
      "\u001b[36m(launch_and_evaluate pid=10079)\u001b[0m Run with homomorphic encryption\u001b[32m [repeated 2x across cluster]\u001b[0m\n",
      "\u001b[36m(launch_and_evaluate pid=10003)\u001b[0m [Client 5] evaluate, config: {}\n",
      "\u001b[36m(launch_and_evaluate pid=10003)\u001b[0m Updated model\n",
      "\u001b[36m(launch_and_evaluate pid=10079)\u001b[0m [Client 7] evaluate, config: {}\n",
      "\u001b[36m(launch_and_evaluate pid=10079)\u001b[0m Updated model\n",
      "\u001b[36m(launch_and_evaluate pid=10158)\u001b[0m Run with homomorphic encryption\u001b[32m [repeated 2x across cluster]\u001b[0m\n",
      "\u001b[36m(launch_and_evaluate pid=10081)\u001b[0m [Client 1] evaluate, config: {}\n",
      "\u001b[36m(launch_and_evaluate pid=10081)\u001b[0m Updated model\n",
      "\u001b[36m(launch_and_evaluate pid=10158)\u001b[0m [Client 8] evaluate, config: {}\n",
      "\u001b[36m(launch_and_evaluate pid=10158)\u001b[0m Updated model\n"
     ]
    },
    {
     "name": "stderr",
     "output_type": "stream",
     "text": [
      "DEBUG flwr 2024-07-21 03:42:04,839 | server.py:187 | evaluate_round 12 received 10 results and 0 failures\n",
      "DEBUG flwr 2024-07-21 03:42:04,841 | server.py:222 | fit_round 13: strategy sampled 10 clients (out of 10)\n"
     ]
    },
    {
     "name": "stdout",
     "output_type": "stream",
     "text": [
      "\u001b[36m(launch_and_fit pid=10246)\u001b[0m Run with homomorphic encryption\u001b[32m [repeated 2x across cluster]\u001b[0m\n",
      "\u001b[36m(launch_and_evaluate pid=10160)\u001b[0m [Client 6] evaluate, config: {}\n",
      "\u001b[36m(launch_and_evaluate pid=10160)\u001b[0m Updated model\n",
      "\u001b[36m(launch_and_fit pid=10246)\u001b[0m [Client 2, round 13] fit, config: {'learning_rate': 0.003, 'batch_size': '32', 'server_round': 13, 'local_epochs': 10}\n",
      "\u001b[36m(launch_and_fit pid=10246)\u001b[0m Updated model\n"
     ]
    },
    {
     "name": "stderr",
     "output_type": "stream",
     "text": [
      "  0%|\u001b[34m          \u001b[0m| 0/10 [00:00<?, ?it/s]\n",
      "100%|\u001b[34m██████████\u001b[0m| 10/10 [00:41<00:00,  4.14s/it]\u001b[32m [repeated 3x across cluster]\u001b[0m\n"
     ]
    },
    {
     "name": "stdout",
     "output_type": "stream",
     "text": [
      "\u001b[36m(launch_and_fit pid=10246)\u001b[0m \tTrain Epoch: 1 \tTrain_loss: 0.0968 | Train_acc: 97.6103 % | Validation_loss: 0.6855 | Validation_acc: 80.1875 %\n",
      "\u001b[36m(launch_and_fit pid=10245)\u001b[0m Run with homomorphic encryption\n",
      "\u001b[36m(launch_and_fit pid=10245)\u001b[0m [Client 5, round 13] fit, config: {'learning_rate': 0.003, 'batch_size': '32', 'server_round': 13, 'local_epochs': 10}\n",
      "\u001b[36m(launch_and_fit pid=10245)\u001b[0m Updated model\n"
     ]
    },
    {
     "name": "stderr",
     "output_type": "stream",
     "text": [
      "  0%|\u001b[34m          \u001b[0m| 0/10 [00:00<?, ?it/s]\n",
      " 20%|\u001b[34m██        \u001b[0m| 2/10 [00:08<00:34,  4.26s/it]\u001b[32m [repeated 3x across cluster]\u001b[0m\n"
     ]
    },
    {
     "name": "stdout",
     "output_type": "stream",
     "text": [
      "\u001b[36m(launch_and_fit pid=10246)\u001b[0m \tTrain Epoch: 3 \tTrain_loss: 0.0155 | Train_acc: 99.6324 % | Validation_loss: 0.3829 | Validation_acc: 85.7500 %\u001b[32m [repeated 4x across cluster]\u001b[0m\n"
     ]
    },
    {
     "name": "stderr",
     "output_type": "stream",
     "text": [
      " 40%|\u001b[34m████      \u001b[0m| 4/10 [00:16<00:25,  4.17s/it]\u001b[32m [repeated 4x across cluster]\u001b[0m\n"
     ]
    },
    {
     "name": "stdout",
     "output_type": "stream",
     "text": [
      "\u001b[36m(launch_and_fit pid=10246)\u001b[0m \tTrain Epoch: 5 \tTrain_loss: 0.0253 | Train_acc: 99.4485 % | Validation_loss: 0.3832 | Validation_acc: 85.3125 %\u001b[32m [repeated 4x across cluster]\u001b[0m\n"
     ]
    },
    {
     "name": "stderr",
     "output_type": "stream",
     "text": [
      " 60%|\u001b[34m██████    \u001b[0m| 6/10 [00:24<00:16,  4.07s/it]\u001b[32m [repeated 4x across cluster]\u001b[0m\n"
     ]
    },
    {
     "name": "stdout",
     "output_type": "stream",
     "text": [
      "\u001b[36m(launch_and_fit pid=10245)\u001b[0m \tTrain Epoch: 7 \tTrain_loss: 0.0135 | Train_acc: 99.8162 % | Validation_loss: 0.3239 | Validation_acc: 88.6250 %\u001b[32m [repeated 4x across cluster]\u001b[0m\n"
     ]
    },
    {
     "name": "stderr",
     "output_type": "stream",
     "text": [
      " 80%|\u001b[34m████████  \u001b[0m| 8/10 [00:33<00:08,  4.20s/it]\u001b[32m [repeated 4x across cluster]\u001b[0m\n"
     ]
    },
    {
     "name": "stdout",
     "output_type": "stream",
     "text": [
      "\u001b[36m(launch_and_fit pid=10245)\u001b[0m \tTrain Epoch: 9 \tTrain_loss: 0.0189 | Train_acc: 99.4485 % | Validation_loss: 0.3809 | Validation_acc: 84.1875 %\u001b[32m [repeated 4x across cluster]\u001b[0m\n"
     ]
    },
    {
     "name": "stderr",
     "output_type": "stream",
     "text": [
      "100%|\u001b[34m██████████\u001b[0m| 10/10 [00:41<00:00,  4.15s/it]\u001b[32m [repeated 4x across cluster]\u001b[0m\n"
     ]
    },
    {
     "name": "stdout",
     "output_type": "stream",
     "text": [
      "\u001b[36m(launch_and_fit pid=10245)\u001b[0m save graph in  results/FL/\n",
      "\u001b[36m(launch_and_fit pid=10245)\u001b[0m features.0.weight 5.0067901611328125e-06\n",
      "\u001b[36m(launch_and_fit pid=10245)\u001b[0m features.0.bias 1.1920928955078125e-06\n",
      "\u001b[36m(launch_and_fit pid=10245)\u001b[0m features.3.weight 1.430511474609375e-06\n",
      "\u001b[36m(launch_and_fit pid=10245)\u001b[0m features.3.bias 9.5367431640625e-07\n",
      "\u001b[36m(launch_and_fit pid=10245)\u001b[0m classifier.0.weight 9.5367431640625e-07\n",
      "\u001b[36m(launch_and_fit pid=10245)\u001b[0m classifier.0.bias 9.5367431640625e-07\n",
      "\u001b[36m(launch_and_fit pid=10245)\u001b[0m classifier.2.weight 9.5367431640625e-07\n",
      "\u001b[36m(launch_and_fit pid=10245)\u001b[0m classifier.2.bias 1.1920928955078125e-06\n",
      "\u001b[36m(launch_and_fit pid=10245)\u001b[0m classifier.3.weights 1.430511474609375e-06\n",
      "\u001b[36m(launch_and_fit pid=10245)\u001b[0m classifier.4.weight 1.1920928955078125e-06\n",
      "\u001b[36m(launch_and_fit pid=10245)\u001b[0m classifier.4.bias 9.5367431640625e-07\n",
      "\u001b[36m(launch_and_fit pid=10246)\u001b[0m \tTrain Epoch: 10 \tTrain_loss: 0.0270 | Train_acc: 99.6324 % | Validation_loss: 0.3820 | Validation_acc: 89.3125 %\u001b[32m [repeated 3x across cluster]\u001b[0m\n",
      "\u001b[36m(launch_and_fit pid=10326)\u001b[0m Run with homomorphic encryption\n",
      "\u001b[36m(launch_and_fit pid=10246)\u001b[0m save graph in  results/FL/\n",
      "\u001b[36m(launch_and_fit pid=10246)\u001b[0m classifier.4.bias 1.9073486328125e-06\u001b[32m [repeated 11x across cluster]\u001b[0m\n",
      "\u001b[36m(launch_and_fit pid=10326)\u001b[0m [Client 6, round 13] fit, config: {'learning_rate': 0.003, 'batch_size': '32', 'server_round': 13, 'local_epochs': 10}\n"
     ]
    },
    {
     "name": "stderr",
     "output_type": "stream",
     "text": [
      "  0%|\u001b[34m          \u001b[0m| 0/10 [00:00<?, ?it/s]\n",
      "100%|\u001b[34m██████████\u001b[0m| 10/10 [00:42<00:00,  4.22s/it]\n"
     ]
    },
    {
     "name": "stdout",
     "output_type": "stream",
     "text": [
      "\u001b[36m(launch_and_fit pid=10326)\u001b[0m Updated model\n"
     ]
    },
    {
     "name": "stderr",
     "output_type": "stream",
     "text": [
      " 10%|\u001b[34m█         \u001b[0m| 1/10 [00:04<00:42,  4.67s/it]\n"
     ]
    },
    {
     "name": "stdout",
     "output_type": "stream",
     "text": [
      "\u001b[36m(launch_and_fit pid=10326)\u001b[0m \tTrain Epoch: 1 \tTrain_loss: 0.0520 | Train_acc: 98.1618 % | Validation_loss: 0.2929 | Validation_acc: 91.7500 %\n",
      "\u001b[36m(launch_and_fit pid=10328)\u001b[0m Run with homomorphic encryption\n",
      "\u001b[36m(launch_and_fit pid=10328)\u001b[0m [Client 1, round 13] fit, config: {'learning_rate': 0.003, 'batch_size': '32', 'server_round': 13, 'local_epochs': 10}\n"
     ]
    },
    {
     "name": "stderr",
     "output_type": "stream",
     "text": [
      "  0%|\u001b[34m          \u001b[0m| 0/10 [00:00<?, ?it/s]\n"
     ]
    },
    {
     "name": "stdout",
     "output_type": "stream",
     "text": [
      "\u001b[36m(launch_and_fit pid=10328)\u001b[0m Updated model\n"
     ]
    },
    {
     "name": "stderr",
     "output_type": "stream",
     "text": [
      " 20%|\u001b[34m██        \u001b[0m| 2/10 [00:09<00:36,  4.58s/it]\u001b[32m [repeated 3x across cluster]\u001b[0m\n"
     ]
    },
    {
     "name": "stdout",
     "output_type": "stream",
     "text": [
      "\u001b[36m(launch_and_fit pid=10328)\u001b[0m \tTrain Epoch: 2 \tTrain_loss: 0.0440 | Train_acc: 98.7132 % | Validation_loss: 0.3948 | Validation_acc: 87.3125 %\u001b[32m [repeated 3x across cluster]\u001b[0m\n"
     ]
    },
    {
     "name": "stderr",
     "output_type": "stream",
     "text": [
      " 40%|\u001b[34m████      \u001b[0m| 4/10 [00:16<00:24,  4.15s/it]\u001b[32m [repeated 3x across cluster]\u001b[0m\n"
     ]
    },
    {
     "name": "stdout",
     "output_type": "stream",
     "text": [
      "\u001b[36m(launch_and_fit pid=10326)\u001b[0m \tTrain Epoch: 4 \tTrain_loss: 0.0106 | Train_acc: 99.8162 % | Validation_loss: 0.3792 | Validation_acc: 90.8750 %\u001b[32m [repeated 3x across cluster]\u001b[0m\n"
     ]
    },
    {
     "name": "stderr",
     "output_type": "stream",
     "text": [
      " 50%|\u001b[34m█████     \u001b[0m| 5/10 [00:21<00:21,  4.26s/it]\u001b[32m [repeated 3x across cluster]\u001b[0m\n"
     ]
    },
    {
     "name": "stdout",
     "output_type": "stream",
     "text": [
      "\u001b[36m(launch_and_fit pid=10328)\u001b[0m \tTrain Epoch: 5 \tTrain_loss: 0.0032 | Train_acc: 100.0000 % | Validation_loss: 0.5415 | Validation_acc: 86.6250 %\u001b[32m [repeated 3x across cluster]\u001b[0m\n"
     ]
    },
    {
     "name": "stderr",
     "output_type": "stream",
     "text": [
      " 70%|\u001b[34m███████   \u001b[0m| 7/10 [00:29<00:12,  4.13s/it]\u001b[32m [repeated 3x across cluster]\u001b[0m\n"
     ]
    },
    {
     "name": "stdout",
     "output_type": "stream",
     "text": [
      "\u001b[36m(launch_and_fit pid=10326)\u001b[0m \tTrain Epoch: 7 \tTrain_loss: 0.0083 | Train_acc: 99.8162 % | Validation_loss: 0.4481 | Validation_acc: 91.3125 %\u001b[32m [repeated 3x across cluster]\u001b[0m\n"
     ]
    },
    {
     "name": "stderr",
     "output_type": "stream",
     "text": [
      " 80%|\u001b[34m████████  \u001b[0m| 8/10 [00:34<00:08,  4.17s/it]\u001b[32m [repeated 3x across cluster]\u001b[0m\n"
     ]
    },
    {
     "name": "stdout",
     "output_type": "stream",
     "text": [
      "\u001b[36m(launch_and_fit pid=10328)\u001b[0m \tTrain Epoch: 8 \tTrain_loss: 0.0019 | Train_acc: 100.0000 % | Validation_loss: 0.5228 | Validation_acc: 88.1875 %\u001b[32m [repeated 3x across cluster]\u001b[0m\n"
     ]
    },
    {
     "name": "stderr",
     "output_type": "stream",
     "text": [
      "100%|\u001b[34m██████████\u001b[0m| 10/10 [00:41<00:00,  4.19s/it]\u001b[32m [repeated 3x across cluster]\u001b[0m\n"
     ]
    },
    {
     "name": "stdout",
     "output_type": "stream",
     "text": [
      "\u001b[36m(launch_and_fit pid=10326)\u001b[0m save graph in  results/FL/\n",
      "\u001b[36m(launch_and_fit pid=10326)\u001b[0m \tTrain Epoch: 10 \tTrain_loss: 0.0018 | Train_acc: 100.0000 % | Validation_loss: 0.4562 | Validation_acc: 91.3125 %\u001b[32m [repeated 3x across cluster]\u001b[0m\n",
      "\u001b[36m(launch_and_fit pid=10326)\u001b[0m features.0.weight 6.9141387939453125e-06\n",
      "\u001b[36m(launch_and_fit pid=10326)\u001b[0m features.0.bias 2.1457672119140625e-06\n",
      "\u001b[36m(launch_and_fit pid=10326)\u001b[0m features.3.weight 1.9073486328125e-06\n",
      "\u001b[36m(launch_and_fit pid=10326)\u001b[0m features.3.bias 1.9073486328125e-06\n",
      "\u001b[36m(launch_and_fit pid=10326)\u001b[0m classifier.0.weight 2.1457672119140625e-06\n",
      "\u001b[36m(launch_and_fit pid=10326)\u001b[0m classifier.0.bias 1.6689300537109375e-06\n",
      "\u001b[36m(launch_and_fit pid=10326)\u001b[0m classifier.2.weight 1.430511474609375e-06\n",
      "\u001b[36m(launch_and_fit pid=10326)\u001b[0m classifier.2.bias 1.9073486328125e-06\n",
      "\u001b[36m(launch_and_fit pid=10326)\u001b[0m classifier.3.weights 2.1457672119140625e-06\n",
      "\u001b[36m(launch_and_fit pid=10326)\u001b[0m classifier.4.weight 1.9073486328125e-06\n",
      "\u001b[36m(launch_and_fit pid=10326)\u001b[0m classifier.4.bias 1.6689300537109375e-06\n",
      "\u001b[36m(launch_and_fit pid=10408)\u001b[0m Run with homomorphic encryption\n",
      "\u001b[36m(launch_and_fit pid=10328)\u001b[0m save graph in  results/FL/\n",
      "\u001b[36m(launch_and_fit pid=10328)\u001b[0m \tTrain Epoch: 10 \tTrain_loss: 0.0016 | Train_acc: 100.0000 % | Validation_loss: 0.5272 | Validation_acc: 88.1875 %\n",
      "\u001b[36m(launch_and_fit pid=10328)\u001b[0m classifier.4.bias 1.430511474609375e-06\u001b[32m [repeated 11x across cluster]\u001b[0m\n",
      "\u001b[36m(launch_and_fit pid=10408)\u001b[0m [Client 9, round 13] fit, config: {'learning_rate': 0.003, 'batch_size': '32', 'server_round': 13, 'local_epochs': 10}\n",
      "\u001b[36m(launch_and_fit pid=10408)\u001b[0m Updated model\n"
     ]
    },
    {
     "name": "stderr",
     "output_type": "stream",
     "text": [
      "  0%|\u001b[34m          \u001b[0m| 0/10 [00:00<?, ?it/s]\n",
      "100%|\u001b[34m██████████\u001b[0m| 10/10 [00:42<00:00,  4.25s/it]\n"
     ]
    },
    {
     "name": "stdout",
     "output_type": "stream",
     "text": [
      "\u001b[36m(launch_and_fit pid=10408)\u001b[0m \tTrain Epoch: 1 \tTrain_loss: 0.0816 | Train_acc: 96.8750 % | Validation_loss: 0.6926 | Validation_acc: 82.1875 %\n",
      "\u001b[36m(launch_and_fit pid=10433)\u001b[0m Run with homomorphic encryption\n",
      "\u001b[36m(launch_and_fit pid=10433)\u001b[0m [Client 8, round 13] fit, config: {'learning_rate': 0.003, 'batch_size': '32', 'server_round': 13, 'local_epochs': 10}\n"
     ]
    },
    {
     "name": "stderr",
     "output_type": "stream",
     "text": [
      " 10%|\u001b[34m█         \u001b[0m| 1/10 [00:04<00:42,  4.74s/it]\n",
      "  0%|\u001b[34m          \u001b[0m| 0/10 [00:00<?, ?it/s]\n"
     ]
    },
    {
     "name": "stdout",
     "output_type": "stream",
     "text": [
      "\u001b[36m(launch_and_fit pid=10433)\u001b[0m Updated model\n"
     ]
    },
    {
     "name": "stderr",
     "output_type": "stream",
     "text": [
      " 20%|\u001b[34m██        \u001b[0m| 2/10 [00:09<00:35,  4.50s/it]\u001b[32m [repeated 3x across cluster]\u001b[0m\n"
     ]
    },
    {
     "name": "stdout",
     "output_type": "stream",
     "text": [
      "\u001b[36m(launch_and_fit pid=10433)\u001b[0m \tTrain Epoch: 2 \tTrain_loss: 0.0430 | Train_acc: 99.2647 % | Validation_loss: 0.3784 | Validation_acc: 84.1875 %\u001b[32m [repeated 3x across cluster]\u001b[0m\n",
      "\u001b[36m(launch_and_fit pid=10408)\u001b[0m \tTrain Epoch: 4 \tTrain_loss: 0.0113 | Train_acc: 99.6324 % | Validation_loss: 0.6215 | Validation_acc: 82.1875 %\u001b[32m [repeated 3x across cluster]\u001b[0m\n"
     ]
    },
    {
     "name": "stderr",
     "output_type": "stream",
     "text": [
      " 40%|\u001b[34m████      \u001b[0m| 4/10 [00:17<00:25,  4.27s/it]\u001b[32m [repeated 3x across cluster]\u001b[0m\n",
      " 50%|\u001b[34m█████     \u001b[0m| 5/10 [00:21<00:21,  4.21s/it]\u001b[32m [repeated 3x across cluster]\u001b[0m\n"
     ]
    },
    {
     "name": "stdout",
     "output_type": "stream",
     "text": [
      "\u001b[36m(launch_and_fit pid=10433)\u001b[0m \tTrain Epoch: 5 \tTrain_loss: 0.0079 | Train_acc: 99.8162 % | Validation_loss: 0.2910 | Validation_acc: 90.8750 %\u001b[32m [repeated 3x across cluster]\u001b[0m\n",
      "\u001b[36m(launch_and_fit pid=10408)\u001b[0m \tTrain Epoch: 7 \tTrain_loss: 0.0055 | Train_acc: 99.8162 % | Validation_loss: 0.5813 | Validation_acc: 85.7500 %\u001b[32m [repeated 3x across cluster]\u001b[0m\n"
     ]
    },
    {
     "name": "stderr",
     "output_type": "stream",
     "text": [
      " 70%|\u001b[34m███████   \u001b[0m| 7/10 [00:29<00:12,  4.14s/it]\u001b[32m [repeated 3x across cluster]\u001b[0m\n",
      " 80%|\u001b[34m████████  \u001b[0m| 8/10 [00:33<00:08,  4.09s/it]\u001b[32m [repeated 3x across cluster]\u001b[0m\n"
     ]
    },
    {
     "name": "stdout",
     "output_type": "stream",
     "text": [
      "\u001b[36m(launch_and_fit pid=10433)\u001b[0m \tTrain Epoch: 8 \tTrain_loss: 0.0028 | Train_acc: 100.0000 % | Validation_loss: 0.3101 | Validation_acc: 89.3125 %\u001b[32m [repeated 3x across cluster]\u001b[0m\n",
      "\u001b[36m(launch_and_fit pid=10408)\u001b[0m save graph in  results/FL/\n",
      "\u001b[36m(launch_and_fit pid=10408)\u001b[0m \tTrain Epoch: 10 \tTrain_loss: 0.0087 | Train_acc: 99.8162 % | Validation_loss: 0.6275 | Validation_acc: 82.1875 %\u001b[32m [repeated 3x across cluster]\u001b[0m\n"
     ]
    },
    {
     "name": "stderr",
     "output_type": "stream",
     "text": [
      "100%|\u001b[34m██████████\u001b[0m| 10/10 [00:42<00:00,  4.23s/it]\u001b[32m [repeated 3x across cluster]\u001b[0m\n"
     ]
    },
    {
     "name": "stdout",
     "output_type": "stream",
     "text": [
      "\u001b[36m(launch_and_fit pid=10408)\u001b[0m features.0.weight 4.76837158203125e-06\n",
      "\u001b[36m(launch_and_fit pid=10408)\u001b[0m features.0.bias 1.1920928955078125e-06\n",
      "\u001b[36m(launch_and_fit pid=10408)\u001b[0m features.3.weight 9.5367431640625e-07\n",
      "\u001b[36m(launch_and_fit pid=10408)\u001b[0m features.3.bias 1.1920928955078125e-06\n",
      "\u001b[36m(launch_and_fit pid=10408)\u001b[0m classifier.0.weight 1.1920928955078125e-06\n",
      "\u001b[36m(launch_and_fit pid=10408)\u001b[0m classifier.0.bias 9.5367431640625e-07\n",
      "\u001b[36m(launch_and_fit pid=10408)\u001b[0m classifier.2.weight 1.1920928955078125e-06\n",
      "\u001b[36m(launch_and_fit pid=10408)\u001b[0m classifier.2.bias 9.5367431640625e-07\n",
      "\u001b[36m(launch_and_fit pid=10408)\u001b[0m classifier.3.weights 1.1920928955078125e-06\n",
      "\u001b[36m(launch_and_fit pid=10408)\u001b[0m classifier.4.weight 9.5367431640625e-07\n",
      "\u001b[36m(launch_and_fit pid=10408)\u001b[0m classifier.4.bias 9.5367431640625e-07\n",
      "\u001b[36m(launch_and_fit pid=10491)\u001b[0m Run with homomorphic encryption\n",
      "\u001b[36m(launch_and_fit pid=10433)\u001b[0m save graph in  results/FL/\n",
      "\u001b[36m(launch_and_fit pid=10433)\u001b[0m \tTrain Epoch: 10 \tTrain_loss: 0.0019 | Train_acc: 100.0000 % | Validation_loss: 0.3258 | Validation_acc: 92.4375 %\n",
      "\u001b[36m(launch_and_fit pid=10433)\u001b[0m classifier.4.bias 1.1920928955078125e-06\u001b[32m [repeated 11x across cluster]\u001b[0m\n",
      "\u001b[36m(launch_and_fit pid=10491)\u001b[0m [Client 4, round 13] fit, config: {'learning_rate': 0.003, 'batch_size': '32', 'server_round': 13, 'local_epochs': 10}\n"
     ]
    },
    {
     "name": "stderr",
     "output_type": "stream",
     "text": [
      "  0%|\u001b[34m          \u001b[0m| 0/10 [00:00<?, ?it/s]\n",
      "100%|\u001b[34m██████████\u001b[0m| 10/10 [00:42<00:00,  4.22s/it]\n"
     ]
    },
    {
     "name": "stdout",
     "output_type": "stream",
     "text": [
      "\u001b[36m(launch_and_fit pid=10491)\u001b[0m Updated model\n"
     ]
    },
    {
     "name": "stderr",
     "output_type": "stream",
     "text": [
      " 10%|\u001b[34m█         \u001b[0m| 1/10 [00:04<00:41,  4.62s/it]\n"
     ]
    },
    {
     "name": "stdout",
     "output_type": "stream",
     "text": [
      "\u001b[36m(launch_and_fit pid=10491)\u001b[0m \tTrain Epoch: 1 \tTrain_loss: 0.0693 | Train_acc: 97.7941 % | Validation_loss: 0.2811 | Validation_acc: 91.7500 %\n",
      "\u001b[36m(launch_and_fit pid=10516)\u001b[0m Run with homomorphic encryption\n",
      "\u001b[36m(launch_and_fit pid=10516)\u001b[0m [Client 0, round 13] fit, config: {'learning_rate': 0.003, 'batch_size': '32', 'server_round': 13, 'local_epochs': 10}\n"
     ]
    },
    {
     "name": "stderr",
     "output_type": "stream",
     "text": [
      "  0%|\u001b[34m          \u001b[0m| 0/10 [00:00<?, ?it/s]\n"
     ]
    },
    {
     "name": "stdout",
     "output_type": "stream",
     "text": [
      "\u001b[36m(launch_and_fit pid=10516)\u001b[0m Updated model\n"
     ]
    },
    {
     "name": "stderr",
     "output_type": "stream",
     "text": [
      " 20%|\u001b[34m██        \u001b[0m| 2/10 [00:08<00:34,  4.29s/it]\u001b[32m [repeated 3x across cluster]\u001b[0m\n"
     ]
    },
    {
     "name": "stdout",
     "output_type": "stream",
     "text": [
      "\u001b[36m(launch_and_fit pid=10516)\u001b[0m \tTrain Epoch: 2 \tTrain_loss: 0.0245 | Train_acc: 99.8162 % | Validation_loss: 0.4680 | Validation_acc: 85.7500 %\u001b[32m [repeated 3x across cluster]\u001b[0m\n"
     ]
    },
    {
     "name": "stderr",
     "output_type": "stream",
     "text": [
      " 40%|\u001b[34m████      \u001b[0m| 4/10 [00:17<00:26,  4.38s/it]\u001b[32m [repeated 3x across cluster]\u001b[0m\n"
     ]
    },
    {
     "name": "stdout",
     "output_type": "stream",
     "text": [
      "\u001b[36m(launch_and_fit pid=10491)\u001b[0m \tTrain Epoch: 4 \tTrain_loss: 0.0160 | Train_acc: 99.8162 % | Validation_loss: 0.2127 | Validation_acc: 95.3125 %\u001b[32m [repeated 3x across cluster]\u001b[0m\n"
     ]
    },
    {
     "name": "stderr",
     "output_type": "stream",
     "text": [
      " 60%|\u001b[34m██████    \u001b[0m| 6/10 [00:25<00:16,  4.17s/it]\u001b[32m [repeated 4x across cluster]\u001b[0m\n"
     ]
    },
    {
     "name": "stdout",
     "output_type": "stream",
     "text": [
      "\u001b[36m(launch_and_fit pid=10491)\u001b[0m \tTrain Epoch: 6 \tTrain_loss: 0.0216 | Train_acc: 99.6324 % | Validation_loss: 0.2369 | Validation_acc: 95.3125 %\u001b[32m [repeated 4x across cluster]\u001b[0m\n"
     ]
    },
    {
     "name": "stderr",
     "output_type": "stream",
     "text": [
      " 80%|\u001b[34m████████  \u001b[0m| 8/10 [00:33<00:08,  4.10s/it]\u001b[32m [repeated 4x across cluster]\u001b[0m\n"
     ]
    },
    {
     "name": "stdout",
     "output_type": "stream",
     "text": [
      "\u001b[36m(launch_and_fit pid=10491)\u001b[0m \tTrain Epoch: 8 \tTrain_loss: 0.0255 | Train_acc: 99.2647 % | Validation_loss: 0.2368 | Validation_acc: 95.3125 %\u001b[32m [repeated 4x across cluster]\u001b[0m\n"
     ]
    },
    {
     "name": "stderr",
     "output_type": "stream",
     "text": [
      "100%|\u001b[34m██████████\u001b[0m| 10/10 [00:41<00:00,  4.18s/it]\u001b[32m [repeated 4x across cluster]\u001b[0m\n"
     ]
    },
    {
     "name": "stdout",
     "output_type": "stream",
     "text": [
      "\u001b[36m(launch_and_fit pid=10491)\u001b[0m save graph in  results/FL/\n",
      "\u001b[36m(launch_and_fit pid=10491)\u001b[0m \tTrain Epoch: 10 \tTrain_loss: 0.0112 | Train_acc: 99.8162 % | Validation_loss: 0.3124 | Validation_acc: 88.1875 %\u001b[32m [repeated 4x across cluster]\u001b[0m\n",
      "\u001b[36m(launch_and_fit pid=10491)\u001b[0m features.0.weight 5.4836273193359375e-06\n",
      "\u001b[36m(launch_and_fit pid=10491)\u001b[0m features.0.bias 1.1920928955078125e-06\n",
      "\u001b[36m(launch_and_fit pid=10491)\u001b[0m features.3.weight 9.5367431640625e-07\n",
      "\u001b[36m(launch_and_fit pid=10491)\u001b[0m features.3.bias 1.1920928955078125e-06\n",
      "\u001b[36m(launch_and_fit pid=10491)\u001b[0m classifier.0.weight 1.430511474609375e-06\n",
      "\u001b[36m(launch_and_fit pid=10491)\u001b[0m classifier.0.bias 9.5367431640625e-07\n",
      "\u001b[36m(launch_and_fit pid=10491)\u001b[0m classifier.2.weight 9.5367431640625e-07\n",
      "\u001b[36m(launch_and_fit pid=10491)\u001b[0m classifier.2.bias 9.5367431640625e-07\n",
      "\u001b[36m(launch_and_fit pid=10491)\u001b[0m classifier.3.weights 1.1920928955078125e-06\n",
      "\u001b[36m(launch_and_fit pid=10491)\u001b[0m classifier.4.weight 9.5367431640625e-07\n",
      "\u001b[36m(launch_and_fit pid=10491)\u001b[0m classifier.4.bias 9.5367431640625e-07\n",
      "\u001b[36m(launch_and_fit pid=10573)\u001b[0m Run with homomorphic encryption\n",
      "\u001b[36m(launch_and_fit pid=10516)\u001b[0m save graph in  results/FL/\n",
      "\u001b[36m(launch_and_fit pid=10516)\u001b[0m \tTrain Epoch: 10 \tTrain_loss: 0.0025 | Train_acc: 100.0000 % | Validation_loss: 0.3447 | Validation_acc: 87.7500 %\n",
      "\u001b[36m(launch_and_fit pid=10516)\u001b[0m classifier.4.bias 1.430511474609375e-06\u001b[32m [repeated 11x across cluster]\u001b[0m\n",
      "\u001b[36m(launch_and_fit pid=10573)\u001b[0m [Client 7, round 13] fit, config: {'learning_rate': 0.003, 'batch_size': '32', 'server_round': 13, 'local_epochs': 10}\n"
     ]
    },
    {
     "name": "stderr",
     "output_type": "stream",
     "text": [
      "  0%|\u001b[34m          \u001b[0m| 0/10 [00:00<?, ?it/s]\n",
      "100%|\u001b[34m██████████\u001b[0m| 10/10 [00:41<00:00,  4.14s/it]\n"
     ]
    },
    {
     "name": "stdout",
     "output_type": "stream",
     "text": [
      "\u001b[36m(launch_and_fit pid=10573)\u001b[0m Updated model\n"
     ]
    },
    {
     "name": "stderr",
     "output_type": "stream",
     "text": [
      " 10%|\u001b[34m█         \u001b[0m| 1/10 [00:04<00:42,  4.69s/it]\n"
     ]
    },
    {
     "name": "stdout",
     "output_type": "stream",
     "text": [
      "\u001b[36m(launch_and_fit pid=10573)\u001b[0m \tTrain Epoch: 1 \tTrain_loss: 0.0595 | Train_acc: 98.5294 % | Validation_loss: 0.3449 | Validation_acc: 90.8750 %\n",
      "\u001b[36m(launch_and_fit pid=10598)\u001b[0m Run with homomorphic encryption\n",
      "\u001b[36m(launch_and_fit pid=10598)\u001b[0m [Client 3, round 13] fit, config: {'learning_rate': 0.003, 'batch_size': '32', 'server_round': 13, 'local_epochs': 10}\n"
     ]
    },
    {
     "name": "stderr",
     "output_type": "stream",
     "text": [
      "  0%|\u001b[34m          \u001b[0m| 0/10 [00:00<?, ?it/s]\n"
     ]
    },
    {
     "name": "stdout",
     "output_type": "stream",
     "text": [
      "\u001b[36m(launch_and_fit pid=10598)\u001b[0m Updated model\n"
     ]
    },
    {
     "name": "stderr",
     "output_type": "stream",
     "text": [
      " 30%|\u001b[34m███       \u001b[0m| 3/10 [00:12<00:29,  4.24s/it]\u001b[32m [repeated 4x across cluster]\u001b[0m\n"
     ]
    },
    {
     "name": "stdout",
     "output_type": "stream",
     "text": [
      "\u001b[36m(launch_and_fit pid=10573)\u001b[0m \tTrain Epoch: 3 \tTrain_loss: 0.0134 | Train_acc: 99.8162 % | Validation_loss: 0.4333 | Validation_acc: 87.3125 %\u001b[32m [repeated 4x across cluster]\u001b[0m\n"
     ]
    },
    {
     "name": "stderr",
     "output_type": "stream",
     "text": [
      " 50%|\u001b[34m█████     \u001b[0m| 5/10 [00:21<00:20,  4.19s/it]\u001b[32m [repeated 4x across cluster]\u001b[0m\n"
     ]
    },
    {
     "name": "stdout",
     "output_type": "stream",
     "text": [
      "\u001b[36m(launch_and_fit pid=10573)\u001b[0m \tTrain Epoch: 5 \tTrain_loss: 0.0270 | Train_acc: 99.4485 % | Validation_loss: 0.5174 | Validation_acc: 85.7500 %\u001b[32m [repeated 4x across cluster]\u001b[0m\n"
     ]
    },
    {
     "name": "stderr",
     "output_type": "stream",
     "text": [
      " 70%|\u001b[34m███████   \u001b[0m| 7/10 [00:29<00:12,  4.21s/it]\u001b[32m [repeated 4x across cluster]\u001b[0m\n"
     ]
    },
    {
     "name": "stdout",
     "output_type": "stream",
     "text": [
      "\u001b[36m(launch_and_fit pid=10573)\u001b[0m \tTrain Epoch: 7 \tTrain_loss: 0.0192 | Train_acc: 99.8162 % | Validation_loss: 0.5649 | Validation_acc: 82.6250 %\u001b[32m [repeated 4x across cluster]\u001b[0m\n"
     ]
    },
    {
     "name": "stderr",
     "output_type": "stream",
     "text": [
      " 90%|\u001b[34m█████████ \u001b[0m| 9/10 [00:37<00:04,  4.12s/it]\u001b[32m [repeated 4x across cluster]\u001b[0m\n"
     ]
    },
    {
     "name": "stdout",
     "output_type": "stream",
     "text": [
      "\u001b[36m(launch_and_fit pid=10573)\u001b[0m \tTrain Epoch: 9 \tTrain_loss: 0.0124 | Train_acc: 99.8162 % | Validation_loss: 0.6091 | Validation_acc: 83.7500 %\u001b[32m [repeated 4x across cluster]\u001b[0m\n",
      "\u001b[36m(launch_and_fit pid=10573)\u001b[0m save graph in  results/FL/\n",
      "\u001b[36m(launch_and_fit pid=10573)\u001b[0m features.0.weight 5.4836273193359375e-06\n",
      "\u001b[36m(launch_and_fit pid=10573)\u001b[0m features.0.bias 1.1920928955078125e-06\n",
      "\u001b[36m(launch_and_fit pid=10573)\u001b[0m features.3.weight 1.430511474609375e-06\n",
      "\u001b[36m(launch_and_fit pid=10573)\u001b[0m features.3.bias 1.1920928955078125e-06\n",
      "\u001b[36m(launch_and_fit pid=10573)\u001b[0m classifier.0.weight 1.9073486328125e-06\n",
      "\u001b[36m(launch_and_fit pid=10573)\u001b[0m classifier.0.bias 1.6689300537109375e-06\n",
      "\u001b[36m(launch_and_fit pid=10573)\u001b[0m classifier.2.weight 1.1920928955078125e-06\n",
      "\u001b[36m(launch_and_fit pid=10573)\u001b[0m classifier.2.bias 9.5367431640625e-07\n",
      "\u001b[36m(launch_and_fit pid=10573)\u001b[0m classifier.3.weights 1.430511474609375e-06\n",
      "\u001b[36m(launch_and_fit pid=10573)\u001b[0m classifier.4.weight 1.1920928955078125e-06\n",
      "\u001b[36m(launch_and_fit pid=10573)\u001b[0m classifier.4.bias 1.1920928955078125e-06\n",
      "\u001b[36m(launch_and_fit pid=10598)\u001b[0m \tTrain Epoch: 10 \tTrain_loss: 0.0019 | Train_acc: 100.0000 % | Validation_loss: 0.4068 | Validation_acc: 89.3125 %\u001b[32m [repeated 3x across cluster]\u001b[0m\n"
     ]
    },
    {
     "name": "stderr",
     "output_type": "stream",
     "text": [
      "DEBUG flwr 2024-07-21 03:46:51,673 | server.py:236 | fit_round 13 received 10 results and 0 failures\n"
     ]
    },
    {
     "name": "stdout",
     "output_type": "stream",
     "text": [
      "Saving round 13 aggregated_parameters...\n"
     ]
    },
    {
     "name": "stderr",
     "output_type": "stream",
     "text": [
      "DEBUG flwr 2024-07-21 03:46:53,658 | server.py:173 | evaluate_round 13: strategy sampled 10 clients (out of 10)\n"
     ]
    },
    {
     "name": "stdout",
     "output_type": "stream",
     "text": [
      "\u001b[36m(launch_and_evaluate pid=10666)\u001b[0m Run with homomorphic encryption\n",
      "\u001b[36m(launch_and_fit pid=10598)\u001b[0m save graph in  results/FL/\n",
      "\u001b[36m(launch_and_fit pid=10598)\u001b[0m classifier.4.bias 9.5367431640625e-07\u001b[32m [repeated 11x across cluster]\u001b[0m\n",
      "\u001b[36m(launch_and_evaluate pid=10666)\u001b[0m [Client 2] evaluate, config: {}\n",
      "\u001b[36m(launch_and_evaluate pid=10666)\u001b[0m Updated model\n",
      "\u001b[36m(launch_and_evaluate pid=10744)\u001b[0m Run with homomorphic encryption\u001b[32m [repeated 2x across cluster]\u001b[0m\n",
      "\u001b[36m(launch_and_evaluate pid=10665)\u001b[0m [Client 1] evaluate, config: {}\n",
      "\u001b[36m(launch_and_evaluate pid=10665)\u001b[0m Updated model\n",
      "\u001b[36m(launch_and_evaluate pid=10744)\u001b[0m [Client 0] evaluate, config: {}\n",
      "\u001b[36m(launch_and_evaluate pid=10746)\u001b[0m Updated model\n",
      "\u001b[36m(launch_and_evaluate pid=10824)\u001b[0m Run with homomorphic encryption\u001b[32m [repeated 2x across cluster]\u001b[0m\n",
      "\u001b[36m(launch_and_evaluate pid=10746)\u001b[0m [Client 5] evaluate, config: {}\n",
      "\u001b[36m(launch_and_evaluate pid=10744)\u001b[0m Updated model\n",
      "\u001b[36m(launch_and_evaluate pid=10822)\u001b[0m [Client 6] evaluate, config: {}\n",
      "\u001b[36m(launch_and_evaluate pid=10822)\u001b[0m Updated model\n",
      "\u001b[36m(launch_and_evaluate pid=10902)\u001b[0m Run with homomorphic encryption\u001b[32m [repeated 2x across cluster]\u001b[0m\n",
      "\u001b[36m(launch_and_evaluate pid=10824)\u001b[0m [Client 7] evaluate, config: {}\n",
      "\u001b[36m(launch_and_evaluate pid=10824)\u001b[0m Updated model\n",
      "\u001b[36m(launch_and_evaluate pid=10902)\u001b[0m [Client 8] evaluate, config: {}\n",
      "\u001b[36m(launch_and_evaluate pid=10902)\u001b[0m Updated model\n",
      "\u001b[36m(launch_and_evaluate pid=10981)\u001b[0m Run with homomorphic encryption\u001b[32m [repeated 2x across cluster]\u001b[0m\n",
      "\u001b[36m(launch_and_evaluate pid=10900)\u001b[0m [Client 3] evaluate, config: {}\n",
      "\u001b[36m(launch_and_evaluate pid=10900)\u001b[0m Updated model\n",
      "\u001b[36m(launch_and_evaluate pid=10981)\u001b[0m [Client 4] evaluate, config: {}\n",
      "\u001b[36m(launch_and_evaluate pid=10981)\u001b[0m Updated model\n"
     ]
    },
    {
     "name": "stderr",
     "output_type": "stream",
     "text": [
      "DEBUG flwr 2024-07-21 03:48:11,791 | server.py:187 | evaluate_round 13 received 10 results and 0 failures\n",
      "DEBUG flwr 2024-07-21 03:48:11,792 | server.py:222 | fit_round 14: strategy sampled 10 clients (out of 10)\n"
     ]
    },
    {
     "name": "stdout",
     "output_type": "stream",
     "text": [
      "\u001b[36m(launch_and_fit pid=11066)\u001b[0m Run with homomorphic encryption\u001b[32m [repeated 2x across cluster]\u001b[0m\n",
      "\u001b[36m(launch_and_evaluate pid=10979)\u001b[0m [Client 9] evaluate, config: {}\n",
      "\u001b[36m(launch_and_evaluate pid=10979)\u001b[0m Updated model\n",
      "\u001b[36m(launch_and_fit pid=11066)\u001b[0m [Client 4, round 14] fit, config: {'learning_rate': 0.003, 'batch_size': '32', 'server_round': 14, 'local_epochs': 10}\n",
      "\u001b[36m(launch_and_fit pid=11067)\u001b[0m Updated model\n"
     ]
    },
    {
     "name": "stderr",
     "output_type": "stream",
     "text": [
      "  0%|\u001b[34m          \u001b[0m| 0/10 [00:00<?, ?it/s]\n",
      "100%|\u001b[34m██████████\u001b[0m| 10/10 [00:41<00:00,  4.18s/it]\u001b[32m [repeated 3x across cluster]\u001b[0m\n"
     ]
    },
    {
     "name": "stdout",
     "output_type": "stream",
     "text": [
      "\u001b[36m(launch_and_fit pid=11066)\u001b[0m \tTrain Epoch: 1 \tTrain_loss: 0.0785 | Train_acc: 96.8750 % | Validation_loss: 0.2248 | Validation_acc: 91.7500 %\n",
      "\u001b[36m(launch_and_fit pid=11067)\u001b[0m Run with homomorphic encryption\n",
      "\u001b[36m(launch_and_fit pid=11067)\u001b[0m [Client 8, round 14] fit, config: {'learning_rate': 0.003, 'batch_size': '32', 'server_round': 14, 'local_epochs': 10}\n",
      "\u001b[36m(launch_and_fit pid=11066)\u001b[0m Updated model\n"
     ]
    },
    {
     "name": "stderr",
     "output_type": "stream",
     "text": [
      "  0%|\u001b[34m          \u001b[0m| 0/10 [00:00<?, ?it/s]\n",
      " 20%|\u001b[34m██        \u001b[0m| 2/10 [00:08<00:33,  4.24s/it]\u001b[32m [repeated 3x across cluster]\u001b[0m\n"
     ]
    },
    {
     "name": "stdout",
     "output_type": "stream",
     "text": [
      "\u001b[36m(launch_and_fit pid=11066)\u001b[0m \tTrain Epoch: 3 \tTrain_loss: 0.0114 | Train_acc: 99.8162 % | Validation_loss: 0.2746 | Validation_acc: 95.3125 %\u001b[32m [repeated 4x across cluster]\u001b[0m\n"
     ]
    },
    {
     "name": "stderr",
     "output_type": "stream",
     "text": [
      " 40%|\u001b[34m████      \u001b[0m| 4/10 [00:16<00:25,  4.19s/it]\u001b[32m [repeated 4x across cluster]\u001b[0m\n"
     ]
    },
    {
     "name": "stdout",
     "output_type": "stream",
     "text": [
      "\u001b[36m(launch_and_fit pid=11066)\u001b[0m \tTrain Epoch: 5 \tTrain_loss: 0.0081 | Train_acc: 99.8162 % | Validation_loss: 0.2990 | Validation_acc: 93.3125 %\u001b[32m [repeated 4x across cluster]\u001b[0m\n"
     ]
    },
    {
     "name": "stderr",
     "output_type": "stream",
     "text": [
      " 60%|\u001b[34m██████    \u001b[0m| 6/10 [00:25<00:16,  4.14s/it]\u001b[32m [repeated 4x across cluster]\u001b[0m\n"
     ]
    },
    {
     "name": "stdout",
     "output_type": "stream",
     "text": [
      "\u001b[36m(launch_and_fit pid=11066)\u001b[0m \tTrain Epoch: 7 \tTrain_loss: 0.0013 | Train_acc: 100.0000 % | Validation_loss: 0.2790 | Validation_acc: 90.1875 %\u001b[32m [repeated 4x across cluster]\u001b[0m\n"
     ]
    },
    {
     "name": "stderr",
     "output_type": "stream",
     "text": [
      " 80%|\u001b[34m████████  \u001b[0m| 8/10 [00:33<00:08,  4.05s/it]\u001b[32m [repeated 4x across cluster]\u001b[0m\n"
     ]
    },
    {
     "name": "stdout",
     "output_type": "stream",
     "text": [
      "\u001b[36m(launch_and_fit pid=11066)\u001b[0m \tTrain Epoch: 9 \tTrain_loss: 0.0011 | Train_acc: 100.0000 % | Validation_loss: 0.2600 | Validation_acc: 93.7500 %\u001b[32m [repeated 4x across cluster]\u001b[0m\n",
      "\u001b[36m(launch_and_fit pid=11066)\u001b[0m save graph in  results/FL/\n"
     ]
    },
    {
     "name": "stderr",
     "output_type": "stream",
     "text": [
      "100%|\u001b[34m██████████\u001b[0m| 10/10 [00:41<00:00,  4.18s/it]\u001b[32m [repeated 4x across cluster]\u001b[0m\n"
     ]
    },
    {
     "name": "stdout",
     "output_type": "stream",
     "text": [
      "\u001b[36m(launch_and_fit pid=11066)\u001b[0m features.0.weight 5.0067901611328125e-06\n",
      "\u001b[36m(launch_and_fit pid=11066)\u001b[0m features.0.bias 1.430511474609375e-06\n",
      "\u001b[36m(launch_and_fit pid=11066)\u001b[0m features.3.weight 1.1920928955078125e-06\n",
      "\u001b[36m(launch_and_fit pid=11066)\u001b[0m features.3.bias 9.5367431640625e-07\n",
      "\u001b[36m(launch_and_fit pid=11066)\u001b[0m classifier.0.weight 9.5367431640625e-07\n",
      "\u001b[36m(launch_and_fit pid=11066)\u001b[0m classifier.0.bias 9.5367431640625e-07\n",
      "\u001b[36m(launch_and_fit pid=11066)\u001b[0m classifier.2.weight 1.1920928955078125e-06\n",
      "\u001b[36m(launch_and_fit pid=11066)\u001b[0m classifier.2.bias 9.5367431640625e-07\n",
      "\u001b[36m(launch_and_fit pid=11066)\u001b[0m classifier.3.weights 9.5367431640625e-07\n",
      "\u001b[36m(launch_and_fit pid=11066)\u001b[0m classifier.4.weight 1.1920928955078125e-06\n",
      "\u001b[36m(launch_and_fit pid=11066)\u001b[0m classifier.4.bias 1.1920928955078125e-06\n",
      "\u001b[36m(launch_and_fit pid=11067)\u001b[0m \tTrain Epoch: 10 \tTrain_loss: 0.0100 | Train_acc: 99.8162 % | Validation_loss: 0.3291 | Validation_acc: 87.7500 %\u001b[32m [repeated 3x across cluster]\u001b[0m\n",
      "\u001b[36m(launch_and_fit pid=11148)\u001b[0m Run with homomorphic encryption\n",
      "\u001b[36m(launch_and_fit pid=11067)\u001b[0m save graph in  results/FL/\n",
      "\u001b[36m(launch_and_fit pid=11067)\u001b[0m classifier.4.bias 1.1920928955078125e-06\u001b[32m [repeated 11x across cluster]\u001b[0m\n",
      "\u001b[36m(launch_and_fit pid=11148)\u001b[0m [Client 3, round 14] fit, config: {'learning_rate': 0.003, 'batch_size': '32', 'server_round': 14, 'local_epochs': 10}\n",
      "\u001b[36m(launch_and_fit pid=11148)\u001b[0m Updated model\n"
     ]
    },
    {
     "name": "stderr",
     "output_type": "stream",
     "text": [
      "  0%|\u001b[34m          \u001b[0m| 0/10 [00:00<?, ?it/s]\n",
      "100%|\u001b[34m██████████\u001b[0m| 10/10 [00:42<00:00,  4.24s/it]\n"
     ]
    },
    {
     "name": "stdout",
     "output_type": "stream",
     "text": [
      "\u001b[36m(launch_and_fit pid=11148)\u001b[0m \tTrain Epoch: 1 \tTrain_loss: 0.0248 | Train_acc: 99.4485 % | Validation_loss: 0.2424 | Validation_acc: 92.8750 %\n",
      "\u001b[36m(launch_and_fit pid=11172)\u001b[0m Run with homomorphic encryption\n",
      "\u001b[36m(launch_and_fit pid=11172)\u001b[0m [Client 1, round 14] fit, config: {'learning_rate': 0.003, 'batch_size': '32', 'server_round': 14, 'local_epochs': 10}\n"
     ]
    },
    {
     "name": "stderr",
     "output_type": "stream",
     "text": [
      " 10%|\u001b[34m█         \u001b[0m| 1/10 [00:04<00:41,  4.60s/it]\n"
     ]
    },
    {
     "name": "stdout",
     "output_type": "stream",
     "text": [
      "\u001b[36m(launch_and_fit pid=11172)\u001b[0m Updated model\n"
     ]
    },
    {
     "name": "stderr",
     "output_type": "stream",
     "text": [
      "  0%|\u001b[34m          \u001b[0m| 0/10 [00:00<?, ?it/s]\n"
     ]
    },
    {
     "name": "stdout",
     "output_type": "stream",
     "text": [
      "\u001b[36m(launch_and_fit pid=11148)\u001b[0m \tTrain Epoch: 3 \tTrain_loss: 0.0264 | Train_acc: 99.0809 % | Validation_loss: 0.3020 | Validation_acc: 88.4375 %\u001b[32m [repeated 4x across cluster]\u001b[0m\n"
     ]
    },
    {
     "name": "stderr",
     "output_type": "stream",
     "text": [
      " 30%|\u001b[34m███       \u001b[0m| 3/10 [00:12<00:29,  4.19s/it]\u001b[32m [repeated 4x across cluster]\u001b[0m\n"
     ]
    },
    {
     "name": "stdout",
     "output_type": "stream",
     "text": [
      "\u001b[36m(launch_and_fit pid=11148)\u001b[0m \tTrain Epoch: 5 \tTrain_loss: 0.0057 | Train_acc: 100.0000 % | Validation_loss: 0.3160 | Validation_acc: 89.3125 %\u001b[32m [repeated 4x across cluster]\u001b[0m\n"
     ]
    },
    {
     "name": "stderr",
     "output_type": "stream",
     "text": [
      " 50%|\u001b[34m█████     \u001b[0m| 5/10 [00:21<00:21,  4.20s/it]\u001b[32m [repeated 4x across cluster]\u001b[0m\n"
     ]
    },
    {
     "name": "stdout",
     "output_type": "stream",
     "text": [
      "\u001b[36m(launch_and_fit pid=11148)\u001b[0m \tTrain Epoch: 7 \tTrain_loss: 0.0024 | Train_acc: 100.0000 % | Validation_loss: 0.4253 | Validation_acc: 87.3125 %\u001b[32m [repeated 4x across cluster]\u001b[0m\n"
     ]
    },
    {
     "name": "stderr",
     "output_type": "stream",
     "text": [
      " 70%|\u001b[34m███████   \u001b[0m| 7/10 [00:29<00:12,  4.13s/it]\u001b[32m [repeated 4x across cluster]\u001b[0m\n"
     ]
    },
    {
     "name": "stdout",
     "output_type": "stream",
     "text": [
      "\u001b[36m(launch_and_fit pid=11148)\u001b[0m \tTrain Epoch: 9 \tTrain_loss: 0.0015 | Train_acc: 100.0000 % | Validation_loss: 0.4069 | Validation_acc: 87.3125 %\u001b[32m [repeated 4x across cluster]\u001b[0m\n"
     ]
    },
    {
     "name": "stderr",
     "output_type": "stream",
     "text": [
      " 90%|\u001b[34m█████████ \u001b[0m| 9/10 [00:37<00:04,  4.13s/it]\u001b[32m [repeated 4x across cluster]\u001b[0m\n"
     ]
    },
    {
     "name": "stdout",
     "output_type": "stream",
     "text": [
      "\u001b[36m(launch_and_fit pid=11148)\u001b[0m save graph in  results/FL/\n",
      "\u001b[36m(launch_and_fit pid=11148)\u001b[0m features.0.weight 5.0067901611328125e-06\n",
      "\u001b[36m(launch_and_fit pid=11148)\u001b[0m features.0.bias 1.1920928955078125e-06\n",
      "\u001b[36m(launch_and_fit pid=11148)\u001b[0m features.3.weight 9.5367431640625e-07\n",
      "\u001b[36m(launch_and_fit pid=11148)\u001b[0m features.3.bias 9.5367431640625e-07\n",
      "\u001b[36m(launch_and_fit pid=11148)\u001b[0m classifier.0.weight 1.1920928955078125e-06\n",
      "\u001b[36m(launch_and_fit pid=11148)\u001b[0m classifier.0.bias 1.1920928955078125e-06\n",
      "\u001b[36m(launch_and_fit pid=11148)\u001b[0m classifier.2.weight 1.1920928955078125e-06\n",
      "\u001b[36m(launch_and_fit pid=11148)\u001b[0m classifier.2.bias 1.1920928955078125e-06\n",
      "\u001b[36m(launch_and_fit pid=11148)\u001b[0m classifier.3.weights 1.1920928955078125e-06\n",
      "\u001b[36m(launch_and_fit pid=11148)\u001b[0m classifier.4.weight 1.1920928955078125e-06\n",
      "\u001b[36m(launch_and_fit pid=11148)\u001b[0m classifier.4.bias 1.430511474609375e-06\n",
      "\u001b[36m(launch_and_fit pid=11172)\u001b[0m \tTrain Epoch: 10 \tTrain_loss: 0.0294 | Train_acc: 99.6324 % | Validation_loss: 0.6168 | Validation_acc: 82.6250 %\u001b[32m [repeated 3x across cluster]\u001b[0m\n",
      "\u001b[36m(launch_and_fit pid=11229)\u001b[0m Run with homomorphic encryption\n",
      "\u001b[36m(launch_and_fit pid=11172)\u001b[0m save graph in  results/FL/\n",
      "\u001b[36m(launch_and_fit pid=11172)\u001b[0m classifier.4.bias 1.6689300537109375e-06\u001b[32m [repeated 11x across cluster]\u001b[0m\n",
      "\u001b[36m(launch_and_fit pid=11229)\u001b[0m [Client 9, round 14] fit, config: {'learning_rate': 0.003, 'batch_size': '32', 'server_round': 14, 'local_epochs': 10}\n"
     ]
    },
    {
     "name": "stderr",
     "output_type": "stream",
     "text": [
      "  0%|\u001b[34m          \u001b[0m| 0/10 [00:00<?, ?it/s]\n",
      "100%|\u001b[34m██████████\u001b[0m| 10/10 [00:41<00:00,  4.17s/it]\u001b[32m [repeated 3x across cluster]\u001b[0m\n"
     ]
    },
    {
     "name": "stdout",
     "output_type": "stream",
     "text": [
      "\u001b[36m(launch_and_fit pid=11229)\u001b[0m Updated model\n",
      "\u001b[36m(launch_and_fit pid=11229)\u001b[0m \tTrain Epoch: 1 \tTrain_loss: 0.0618 | Train_acc: 98.1618 % | Validation_loss: 0.7183 | Validation_acc: 82.1875 %\n",
      "\u001b[36m(launch_and_fit pid=11231)\u001b[0m Run with homomorphic encryption\n",
      "\u001b[36m(launch_and_fit pid=11231)\u001b[0m [Client 2, round 14] fit, config: {'learning_rate': 0.003, 'batch_size': '32', 'server_round': 14, 'local_epochs': 10}\n",
      "\u001b[36m(launch_and_fit pid=11231)\u001b[0m Updated model\n"
     ]
    },
    {
     "name": "stderr",
     "output_type": "stream",
     "text": [
      "  0%|\u001b[34m          \u001b[0m| 0/10 [00:00<?, ?it/s]\n",
      " 10%|\u001b[34m█         \u001b[0m| 1/10 [00:04<00:43,  4.78s/it]\u001b[32m [repeated 2x across cluster]\u001b[0m\n",
      " 30%|\u001b[34m███       \u001b[0m| 3/10 [00:13<00:30,  4.30s/it]\u001b[32m [repeated 3x across cluster]\u001b[0m\n"
     ]
    },
    {
     "name": "stdout",
     "output_type": "stream",
     "text": [
      "\u001b[36m(launch_and_fit pid=11229)\u001b[0m \tTrain Epoch: 3 \tTrain_loss: 0.0164 | Train_acc: 99.8162 % | Validation_loss: 0.5758 | Validation_acc: 83.7500 %\u001b[32m [repeated 4x across cluster]\u001b[0m\n"
     ]
    },
    {
     "name": "stderr",
     "output_type": "stream",
     "text": [
      " 50%|\u001b[34m█████     \u001b[0m| 5/10 [00:21<00:20,  4.17s/it]\u001b[32m [repeated 4x across cluster]\u001b[0m\n"
     ]
    },
    {
     "name": "stdout",
     "output_type": "stream",
     "text": [
      "\u001b[36m(launch_and_fit pid=11229)\u001b[0m \tTrain Epoch: 5 \tTrain_loss: 0.0019 | Train_acc: 100.0000 % | Validation_loss: 0.6519 | Validation_acc: 81.7500 %\u001b[32m [repeated 4x across cluster]\u001b[0m\n",
      "\u001b[36m(launch_and_fit pid=11231)\u001b[0m \tTrain Epoch: 6 \tTrain_loss: 0.0053 | Train_acc: 100.0000 % | Validation_loss: 0.2884 | Validation_acc: 94.4375 %\u001b[32m [repeated 3x across cluster]\u001b[0m\n"
     ]
    },
    {
     "name": "stderr",
     "output_type": "stream",
     "text": [
      " 60%|\u001b[34m██████    \u001b[0m| 6/10 [00:25<00:17,  4.26s/it]\u001b[32m [repeated 3x across cluster]\u001b[0m\n",
      " 80%|\u001b[34m████████  \u001b[0m| 8/10 [00:33<00:08,  4.17s/it]\u001b[32m [repeated 3x across cluster]\u001b[0m\n"
     ]
    },
    {
     "name": "stdout",
     "output_type": "stream",
     "text": [
      "\u001b[36m(launch_and_fit pid=11229)\u001b[0m \tTrain Epoch: 8 \tTrain_loss: 0.0012 | Train_acc: 100.0000 % | Validation_loss: 0.7408 | Validation_acc: 83.3125 %\u001b[32m [repeated 3x across cluster]\u001b[0m\n"
     ]
    },
    {
     "name": "stderr",
     "output_type": "stream",
     "text": [
      "100%|\u001b[34m██████████\u001b[0m| 10/10 [00:42<00:00,  4.21s/it]\u001b[32m [repeated 4x across cluster]\u001b[0m\n"
     ]
    },
    {
     "name": "stdout",
     "output_type": "stream",
     "text": [
      "\u001b[36m(launch_and_fit pid=11229)\u001b[0m save graph in  results/FL/\n",
      "\u001b[36m(launch_and_fit pid=11229)\u001b[0m \tTrain Epoch: 10 \tTrain_loss: 0.0010 | Train_acc: 100.0000 % | Validation_loss: 0.7450 | Validation_acc: 83.3125 %\u001b[32m [repeated 4x across cluster]\u001b[0m\n",
      "\u001b[36m(launch_and_fit pid=11229)\u001b[0m features.0.weight 5.245208740234375e-06\n",
      "\u001b[36m(launch_and_fit pid=11229)\u001b[0m features.0.bias 1.6689300537109375e-06\n",
      "\u001b[36m(launch_and_fit pid=11229)\u001b[0m features.3.weight 1.1920928955078125e-06\n",
      "\u001b[36m(launch_and_fit pid=11229)\u001b[0m features.3.bias 1.430511474609375e-06\n",
      "\u001b[36m(launch_and_fit pid=11229)\u001b[0m classifier.0.weight 1.430511474609375e-06\n",
      "\u001b[36m(launch_and_fit pid=11229)\u001b[0m classifier.0.bias 9.5367431640625e-07\n",
      "\u001b[36m(launch_and_fit pid=11229)\u001b[0m classifier.2.weight 1.1920928955078125e-06\n",
      "\u001b[36m(launch_and_fit pid=11229)\u001b[0m classifier.2.bias 1.1920928955078125e-06\n",
      "\u001b[36m(launch_and_fit pid=11229)\u001b[0m classifier.3.weights 1.6689300537109375e-06\n",
      "\u001b[36m(launch_and_fit pid=11229)\u001b[0m classifier.4.weight 1.430511474609375e-06\n",
      "\u001b[36m(launch_and_fit pid=11229)\u001b[0m classifier.4.bias 9.5367431640625e-07\n",
      "\u001b[36m(launch_and_fit pid=11311)\u001b[0m Run with homomorphic encryption\n",
      "\u001b[36m(launch_and_fit pid=11231)\u001b[0m save graph in  results/FL/\n",
      "\u001b[36m(launch_and_fit pid=11231)\u001b[0m \tTrain Epoch: 10 \tTrain_loss: 0.0686 | Train_acc: 97.7941 % | Validation_loss: 0.4492 | Validation_acc: 82.1875 %\n",
      "\u001b[36m(launch_and_fit pid=11231)\u001b[0m classifier.4.bias 9.5367431640625e-07\u001b[32m [repeated 11x across cluster]\u001b[0m\n",
      "\u001b[36m(launch_and_fit pid=11311)\u001b[0m [Client 5, round 14] fit, config: {'learning_rate': 0.003, 'batch_size': '32', 'server_round': 14, 'local_epochs': 10}\n"
     ]
    },
    {
     "name": "stderr",
     "output_type": "stream",
     "text": [
      "  0%|\u001b[34m          \u001b[0m| 0/10 [00:00<?, ?it/s]\n",
      "100%|\u001b[34m██████████\u001b[0m| 10/10 [00:42<00:00,  4.20s/it]\n"
     ]
    },
    {
     "name": "stdout",
     "output_type": "stream",
     "text": [
      "\u001b[36m(launch_and_fit pid=11311)\u001b[0m Updated model\n"
     ]
    },
    {
     "name": "stderr",
     "output_type": "stream",
     "text": [
      " 10%|\u001b[34m█         \u001b[0m| 1/10 [00:04<00:40,  4.54s/it]\n"
     ]
    },
    {
     "name": "stdout",
     "output_type": "stream",
     "text": [
      "\u001b[36m(launch_and_fit pid=11311)\u001b[0m \tTrain Epoch: 1 \tTrain_loss: 0.0480 | Train_acc: 98.7132 % | Validation_loss: 0.3567 | Validation_acc: 89.7500 %\n",
      "\u001b[36m(launch_and_fit pid=11313)\u001b[0m Run with homomorphic encryption\n",
      "\u001b[36m(launch_and_fit pid=11313)\u001b[0m [Client 6, round 14] fit, config: {'learning_rate': 0.003, 'batch_size': '32', 'server_round': 14, 'local_epochs': 10}\n"
     ]
    },
    {
     "name": "stderr",
     "output_type": "stream",
     "text": [
      "  0%|\u001b[34m          \u001b[0m| 0/10 [00:00<?, ?it/s]\n"
     ]
    },
    {
     "name": "stdout",
     "output_type": "stream",
     "text": [
      "\u001b[36m(launch_and_fit pid=11313)\u001b[0m Updated model\n"
     ]
    },
    {
     "name": "stderr",
     "output_type": "stream",
     "text": [
      " 30%|\u001b[34m███       \u001b[0m| 3/10 [00:12<00:29,  4.15s/it]\u001b[32m [repeated 4x across cluster]\u001b[0m\n"
     ]
    },
    {
     "name": "stdout",
     "output_type": "stream",
     "text": [
      "\u001b[36m(launch_and_fit pid=11311)\u001b[0m \tTrain Epoch: 3 \tTrain_loss: 0.0192 | Train_acc: 99.6324 % | Validation_loss: 0.3753 | Validation_acc: 88.1875 %\u001b[32m [repeated 4x across cluster]\u001b[0m\n"
     ]
    },
    {
     "name": "stderr",
     "output_type": "stream",
     "text": [
      " 40%|\u001b[34m████      \u001b[0m| 4/10 [00:17<00:25,  4.18s/it]\u001b[32m [repeated 3x across cluster]\u001b[0m\n"
     ]
    },
    {
     "name": "stdout",
     "output_type": "stream",
     "text": [
      "\u001b[36m(launch_and_fit pid=11313)\u001b[0m \tTrain Epoch: 4 \tTrain_loss: 0.0065 | Train_acc: 99.8162 % | Validation_loss: 0.4251 | Validation_acc: 89.7500 %\u001b[32m [repeated 3x across cluster]\u001b[0m\n"
     ]
    },
    {
     "name": "stderr",
     "output_type": "stream",
     "text": [
      " 60%|\u001b[34m██████    \u001b[0m| 6/10 [00:24<00:16,  4.02s/it]\u001b[32m [repeated 3x across cluster]\u001b[0m\n"
     ]
    },
    {
     "name": "stdout",
     "output_type": "stream",
     "text": [
      "\u001b[36m(launch_and_fit pid=11311)\u001b[0m \tTrain Epoch: 6 \tTrain_loss: 0.0022 | Train_acc: 100.0000 % | Validation_loss: 0.4156 | Validation_acc: 84.6250 %\u001b[32m [repeated 3x across cluster]\u001b[0m\n"
     ]
    },
    {
     "name": "stderr",
     "output_type": "stream",
     "text": [
      " 70%|\u001b[34m███████   \u001b[0m| 7/10 [00:29<00:12,  4.18s/it]\u001b[32m [repeated 3x across cluster]\u001b[0m\n"
     ]
    },
    {
     "name": "stdout",
     "output_type": "stream",
     "text": [
      "\u001b[36m(launch_and_fit pid=11313)\u001b[0m \tTrain Epoch: 7 \tTrain_loss: 0.0013 | Train_acc: 100.0000 % | Validation_loss: 0.5000 | Validation_acc: 88.1875 %\u001b[32m [repeated 3x across cluster]\u001b[0m\n"
     ]
    },
    {
     "name": "stderr",
     "output_type": "stream",
     "text": [
      " 90%|\u001b[34m█████████ \u001b[0m| 9/10 [00:36<00:04,  4.08s/it]\u001b[32m [repeated 3x across cluster]\u001b[0m\n"
     ]
    },
    {
     "name": "stdout",
     "output_type": "stream",
     "text": [
      "\u001b[36m(launch_and_fit pid=11311)\u001b[0m \tTrain Epoch: 9 \tTrain_loss: 0.0011 | Train_acc: 100.0000 % | Validation_loss: 0.3983 | Validation_acc: 86.1875 %\u001b[32m [repeated 3x across cluster]\u001b[0m\n",
      "\u001b[36m(launch_and_fit pid=11311)\u001b[0m save graph in  results/FL/\n",
      "\u001b[36m(launch_and_fit pid=11311)\u001b[0m features.0.weight 5.245208740234375e-06\n",
      "\u001b[36m(launch_and_fit pid=11311)\u001b[0m features.0.bias 1.430511474609375e-06\n",
      "\u001b[36m(launch_and_fit pid=11311)\u001b[0m features.3.weight 1.430511474609375e-06\n",
      "\u001b[36m(launch_and_fit pid=11311)\u001b[0m features.3.bias 1.1920928955078125e-06\n",
      "\u001b[36m(launch_and_fit pid=11311)\u001b[0m classifier.0.weight 1.1920928955078125e-06\n",
      "\u001b[36m(launch_and_fit pid=11311)\u001b[0m classifier.0.bias 9.5367431640625e-07\n",
      "\u001b[36m(launch_and_fit pid=11311)\u001b[0m classifier.2.weight 9.5367431640625e-07\n",
      "\u001b[36m(launch_and_fit pid=11311)\u001b[0m classifier.2.bias 1.1920928955078125e-06\n",
      "\u001b[36m(launch_and_fit pid=11311)\u001b[0m classifier.3.weights 1.1920928955078125e-06\n",
      "\u001b[36m(launch_and_fit pid=11311)\u001b[0m classifier.4.weight 1.1920928955078125e-06\n",
      "\u001b[36m(launch_and_fit pid=11311)\u001b[0m classifier.4.bias 1.430511474609375e-06\n"
     ]
    },
    {
     "name": "stderr",
     "output_type": "stream",
     "text": [
      "100%|\u001b[34m██████████\u001b[0m| 10/10 [00:41<00:00,  4.18s/it]\u001b[32m [repeated 3x across cluster]\u001b[0m\n"
     ]
    },
    {
     "name": "stdout",
     "output_type": "stream",
     "text": [
      "\u001b[36m(launch_and_fit pid=11313)\u001b[0m \tTrain Epoch: 10 \tTrain_loss: 0.0010 | Train_acc: 100.0000 % | Validation_loss: 0.4985 | Validation_acc: 88.1875 %\u001b[32m [repeated 3x across cluster]\u001b[0m\n",
      "\u001b[36m(launch_and_fit pid=11393)\u001b[0m Run with homomorphic encryption\n",
      "\u001b[36m(launch_and_fit pid=11313)\u001b[0m save graph in  results/FL/\n",
      "\u001b[36m(launch_and_fit pid=11313)\u001b[0m classifier.4.bias 1.430511474609375e-06\u001b[32m [repeated 11x across cluster]\u001b[0m\n",
      "\u001b[36m(launch_and_fit pid=11393)\u001b[0m [Client 7, round 14] fit, config: {'learning_rate': 0.003, 'batch_size': '32', 'server_round': 14, 'local_epochs': 10}\n"
     ]
    },
    {
     "name": "stderr",
     "output_type": "stream",
     "text": [
      "  0%|\u001b[34m          \u001b[0m| 0/10 [00:00<?, ?it/s]\n"
     ]
    },
    {
     "name": "stdout",
     "output_type": "stream",
     "text": [
      "\u001b[36m(launch_and_fit pid=11393)\u001b[0m Updated model\n"
     ]
    },
    {
     "name": "stderr",
     "output_type": "stream",
     "text": [
      " 10%|\u001b[34m█         \u001b[0m| 1/10 [00:04<00:41,  4.56s/it]\n"
     ]
    },
    {
     "name": "stdout",
     "output_type": "stream",
     "text": [
      "\u001b[36m(launch_and_fit pid=11393)\u001b[0m \tTrain Epoch: 1 \tTrain_loss: 0.0479 | Train_acc: 98.3456 % | Validation_loss: 0.2926 | Validation_acc: 91.7500 %\n",
      "\u001b[36m(launch_and_fit pid=11418)\u001b[0m Run with homomorphic encryption\n",
      "\u001b[36m(launch_and_fit pid=11418)\u001b[0m [Client 0, round 14] fit, config: {'learning_rate': 0.003, 'batch_size': '32', 'server_round': 14, 'local_epochs': 10}\n"
     ]
    },
    {
     "name": "stderr",
     "output_type": "stream",
     "text": [
      "  0%|\u001b[34m          \u001b[0m| 0/10 [00:00<?, ?it/s]\n"
     ]
    },
    {
     "name": "stdout",
     "output_type": "stream",
     "text": [
      "\u001b[36m(launch_and_fit pid=11418)\u001b[0m Updated model\n"
     ]
    },
    {
     "name": "stderr",
     "output_type": "stream",
     "text": [
      " 20%|\u001b[34m██        \u001b[0m| 2/10 [00:09<00:35,  4.45s/it]\u001b[32m [repeated 3x across cluster]\u001b[0m\n"
     ]
    },
    {
     "name": "stdout",
     "output_type": "stream",
     "text": [
      "\u001b[36m(launch_and_fit pid=11418)\u001b[0m \tTrain Epoch: 2 \tTrain_loss: 0.0208 | Train_acc: 99.6324 % | Validation_loss: 0.3861 | Validation_acc: 89.7500 %\u001b[32m [repeated 3x across cluster]\u001b[0m\n"
     ]
    },
    {
     "name": "stderr",
     "output_type": "stream",
     "text": [
      " 40%|\u001b[34m████      \u001b[0m| 4/10 [00:16<00:25,  4.17s/it]\u001b[32m [repeated 3x across cluster]\u001b[0m\n"
     ]
    },
    {
     "name": "stdout",
     "output_type": "stream",
     "text": [
      "\u001b[36m(launch_and_fit pid=11393)\u001b[0m \tTrain Epoch: 4 \tTrain_loss: 0.0078 | Train_acc: 99.8162 % | Validation_loss: 0.3826 | Validation_acc: 87.3125 %\u001b[32m [repeated 3x across cluster]\u001b[0m\n"
     ]
    },
    {
     "name": "stderr",
     "output_type": "stream",
     "text": [
      " 50%|\u001b[34m█████     \u001b[0m| 5/10 [00:21<00:20,  4.14s/it]\u001b[32m [repeated 3x across cluster]\u001b[0m\n"
     ]
    },
    {
     "name": "stdout",
     "output_type": "stream",
     "text": [
      "\u001b[36m(launch_and_fit pid=11418)\u001b[0m \tTrain Epoch: 5 \tTrain_loss: 0.0122 | Train_acc: 99.8162 % | Validation_loss: 0.4242 | Validation_acc: 89.3125 %\u001b[32m [repeated 3x across cluster]\u001b[0m\n",
      "\u001b[36m(launch_and_fit pid=11393)\u001b[0m \tTrain Epoch: 7 \tTrain_loss: 0.0842 | Train_acc: 97.7941 % | Validation_loss: 0.4004 | Validation_acc: 85.7500 %\u001b[32m [repeated 3x across cluster]\u001b[0m\n"
     ]
    },
    {
     "name": "stderr",
     "output_type": "stream",
     "text": [
      " 70%|\u001b[34m███████   \u001b[0m| 7/10 [00:29<00:12,  4.09s/it]\u001b[32m [repeated 3x across cluster]\u001b[0m\n",
      " 80%|\u001b[34m████████  \u001b[0m| 8/10 [00:33<00:08,  4.08s/it]\u001b[32m [repeated 3x across cluster]\u001b[0m\n"
     ]
    },
    {
     "name": "stdout",
     "output_type": "stream",
     "text": [
      "\u001b[36m(launch_and_fit pid=11418)\u001b[0m \tTrain Epoch: 8 \tTrain_loss: 0.0065 | Train_acc: 99.8162 % | Validation_loss: 0.4096 | Validation_acc: 91.3125 %\u001b[32m [repeated 3x across cluster]\u001b[0m\n"
     ]
    },
    {
     "name": "stderr",
     "output_type": "stream",
     "text": [
      "100%|\u001b[34m██████████\u001b[0m| 10/10 [00:41<00:00,  4.18s/it]\u001b[32m [repeated 3x across cluster]\u001b[0m\n"
     ]
    },
    {
     "name": "stdout",
     "output_type": "stream",
     "text": [
      "\u001b[36m(launch_and_fit pid=11393)\u001b[0m save graph in  results/FL/\n",
      "\u001b[36m(launch_and_fit pid=11393)\u001b[0m \tTrain Epoch: 10 \tTrain_loss: 0.0262 | Train_acc: 99.2647 % | Validation_loss: 0.6142 | Validation_acc: 84.1875 %\u001b[32m [repeated 3x across cluster]\u001b[0m\n",
      "\u001b[36m(launch_and_fit pid=11393)\u001b[0m features.0.weight 5.9604644775390625e-06\n",
      "\u001b[36m(launch_and_fit pid=11393)\u001b[0m features.0.bias 3.337860107421875e-06\n",
      "\u001b[36m(launch_and_fit pid=11393)\u001b[0m features.3.weight 1.6689300537109375e-06\n",
      "\u001b[36m(launch_and_fit pid=11393)\u001b[0m features.3.bias 1.430511474609375e-06\n",
      "\u001b[36m(launch_and_fit pid=11393)\u001b[0m classifier.0.weight 1.430511474609375e-06\n",
      "\u001b[36m(launch_and_fit pid=11393)\u001b[0m classifier.0.bias 1.1920928955078125e-06\n",
      "\u001b[36m(launch_and_fit pid=11393)\u001b[0m classifier.2.weight 1.1920928955078125e-06\n",
      "\u001b[36m(launch_and_fit pid=11393)\u001b[0m classifier.2.bias 1.430511474609375e-06\n",
      "\u001b[36m(launch_and_fit pid=11393)\u001b[0m classifier.3.weights 1.6689300537109375e-06\n",
      "\u001b[36m(launch_and_fit pid=11393)\u001b[0m classifier.4.weight 1.430511474609375e-06\n",
      "\u001b[36m(launch_and_fit pid=11393)\u001b[0m classifier.4.bias 1.430511474609375e-06\n"
     ]
    },
    {
     "name": "stderr",
     "output_type": "stream",
     "text": [
      "DEBUG flwr 2024-07-21 03:52:57,636 | server.py:236 | fit_round 14 received 10 results and 0 failures\n"
     ]
    },
    {
     "name": "stdout",
     "output_type": "stream",
     "text": [
      "Saving round 14 aggregated_parameters...\n"
     ]
    },
    {
     "name": "stderr",
     "output_type": "stream",
     "text": [
      "DEBUG flwr 2024-07-21 03:52:59,568 | server.py:173 | evaluate_round 14: strategy sampled 10 clients (out of 10)\n"
     ]
    },
    {
     "name": "stdout",
     "output_type": "stream",
     "text": [
      "\u001b[36m(launch_and_evaluate pid=11485)\u001b[0m Run with homomorphic encryption\n",
      "\u001b[36m(launch_and_fit pid=11418)\u001b[0m save graph in  results/FL/\n",
      "\u001b[36m(launch_and_fit pid=11418)\u001b[0m \tTrain Epoch: 10 \tTrain_loss: 0.0080 | Train_acc: 99.8162 % | Validation_loss: 0.3888 | Validation_acc: 87.7500 %\n",
      "\u001b[36m(launch_and_fit pid=11418)\u001b[0m classifier.4.bias 1.1920928955078125e-06\u001b[32m [repeated 11x across cluster]\u001b[0m\n",
      "\u001b[36m(launch_and_evaluate pid=11485)\u001b[0m [Client 5] evaluate, config: {}\n",
      "\u001b[36m(launch_and_evaluate pid=11485)\u001b[0m Updated model\n",
      "\u001b[36m(launch_and_evaluate pid=11564)\u001b[0m Run with homomorphic encryption\u001b[32m [repeated 2x across cluster]\u001b[0m\n",
      "\u001b[36m(launch_and_evaluate pid=11486)\u001b[0m [Client 9] evaluate, config: {}\n",
      "\u001b[36m(launch_and_evaluate pid=11486)\u001b[0m Updated model\n",
      "\u001b[36m(launch_and_evaluate pid=11564)\u001b[0m [Client 8] evaluate, config: {}\n",
      "\u001b[36m(launch_and_evaluate pid=11564)\u001b[0m Updated model\n",
      "\u001b[36m(launch_and_evaluate pid=11642)\u001b[0m Run with homomorphic encryption\u001b[32m [repeated 2x across cluster]\u001b[0m\n",
      "\u001b[36m(launch_and_evaluate pid=11566)\u001b[0m [Client 6] evaluate, config: {}\n",
      "\u001b[36m(launch_and_evaluate pid=11566)\u001b[0m Updated model\n",
      "\u001b[36m(launch_and_evaluate pid=11642)\u001b[0m [Client 4] evaluate, config: {}\n",
      "\u001b[36m(launch_and_evaluate pid=11642)\u001b[0m Updated model\n",
      "\u001b[36m(launch_and_evaluate pid=11720)\u001b[0m Run with homomorphic encryption\u001b[32m [repeated 2x across cluster]\u001b[0m\n",
      "\u001b[36m(launch_and_evaluate pid=11644)\u001b[0m [Client 7] evaluate, config: {}\n",
      "\u001b[36m(launch_and_evaluate pid=11644)\u001b[0m Updated model\n",
      "\u001b[36m(launch_and_evaluate pid=11720)\u001b[0m [Client 0] evaluate, config: {}\n",
      "\u001b[36m(launch_and_evaluate pid=11720)\u001b[0m Updated model\n",
      "\u001b[36m(launch_and_evaluate pid=11798)\u001b[0m Run with homomorphic encryption\u001b[32m [repeated 2x across cluster]\u001b[0m\n",
      "\u001b[36m(launch_and_evaluate pid=11722)\u001b[0m [Client 3] evaluate, config: {}\n",
      "\u001b[36m(launch_and_evaluate pid=11722)\u001b[0m Updated model\n",
      "\u001b[36m(launch_and_evaluate pid=11798)\u001b[0m [Client 2] evaluate, config: {}\n",
      "\u001b[36m(launch_and_evaluate pid=11798)\u001b[0m Updated model\n"
     ]
    },
    {
     "name": "stderr",
     "output_type": "stream",
     "text": [
      "DEBUG flwr 2024-07-21 03:54:17,700 | server.py:187 | evaluate_round 14 received 10 results and 0 failures\n",
      "DEBUG flwr 2024-07-21 03:54:17,701 | server.py:222 | fit_round 15: strategy sampled 10 clients (out of 10)\n"
     ]
    },
    {
     "name": "stdout",
     "output_type": "stream",
     "text": [
      "\u001b[36m(launch_and_fit pid=11885)\u001b[0m Run with homomorphic encryption\u001b[32m [repeated 2x across cluster]\u001b[0m\n",
      "\u001b[36m(launch_and_evaluate pid=11800)\u001b[0m [Client 1] evaluate, config: {}\n",
      "\u001b[36m(launch_and_evaluate pid=11800)\u001b[0m Updated model\n",
      "\u001b[36m(launch_and_fit pid=11885)\u001b[0m [Client 9, round 15] fit, config: {'learning_rate': 0.003, 'batch_size': '32', 'server_round': 15, 'local_epochs': 10}\n",
      "\u001b[36m(launch_and_fit pid=11885)\u001b[0m Updated model\n"
     ]
    },
    {
     "name": "stderr",
     "output_type": "stream",
     "text": [
      "  0%|\u001b[34m          \u001b[0m| 0/10 [00:00<?, ?it/s]\n",
      "100%|\u001b[34m██████████\u001b[0m| 10/10 [00:41<00:00,  4.18s/it]\n"
     ]
    },
    {
     "name": "stdout",
     "output_type": "stream",
     "text": [
      "\u001b[36m(launch_and_fit pid=11885)\u001b[0m \tTrain Epoch: 1 \tTrain_loss: 0.0396 | Train_acc: 99.0809 % | Validation_loss: 0.6851 | Validation_acc: 85.3125 %\n",
      "\u001b[36m(launch_and_fit pid=11886)\u001b[0m Run with homomorphic encryption\n",
      "\u001b[36m(launch_and_fit pid=11886)\u001b[0m [Client 1, round 15] fit, config: {'learning_rate': 0.003, 'batch_size': '32', 'server_round': 15, 'local_epochs': 10}\n"
     ]
    },
    {
     "name": "stderr",
     "output_type": "stream",
     "text": [
      " 10%|\u001b[34m█         \u001b[0m| 1/10 [00:04<00:41,  4.59s/it]\n"
     ]
    },
    {
     "name": "stdout",
     "output_type": "stream",
     "text": [
      "\u001b[36m(launch_and_fit pid=11886)\u001b[0m Updated model\n"
     ]
    },
    {
     "name": "stderr",
     "output_type": "stream",
     "text": [
      "  0%|\u001b[34m          \u001b[0m| 0/10 [00:00<?, ?it/s]\n"
     ]
    },
    {
     "name": "stdout",
     "output_type": "stream",
     "text": [
      "\u001b[36m(launch_and_fit pid=11885)\u001b[0m \tTrain Epoch: 3 \tTrain_loss: 0.0169 | Train_acc: 99.6324 % | Validation_loss: 0.5820 | Validation_acc: 84.1875 %\u001b[32m [repeated 4x across cluster]\u001b[0m\n"
     ]
    },
    {
     "name": "stderr",
     "output_type": "stream",
     "text": [
      " 30%|\u001b[34m███       \u001b[0m| 3/10 [00:12<00:29,  4.24s/it]\u001b[32m [repeated 4x across cluster]\u001b[0m\n"
     ]
    },
    {
     "name": "stdout",
     "output_type": "stream",
     "text": [
      "\u001b[36m(launch_and_fit pid=11885)\u001b[0m \tTrain Epoch: 5 \tTrain_loss: 0.0060 | Train_acc: 100.0000 % | Validation_loss: 0.6559 | Validation_acc: 83.7500 %\u001b[32m [repeated 4x across cluster]\u001b[0m\n"
     ]
    },
    {
     "name": "stderr",
     "output_type": "stream",
     "text": [
      " 50%|\u001b[34m█████     \u001b[0m| 5/10 [00:21<00:20,  4.15s/it]\u001b[32m [repeated 4x across cluster]\u001b[0m\n"
     ]
    },
    {
     "name": "stdout",
     "output_type": "stream",
     "text": [
      "\u001b[36m(launch_and_fit pid=11886)\u001b[0m \tTrain Epoch: 7 \tTrain_loss: 0.0193 | Train_acc: 99.6324 % | Validation_loss: 0.4702 | Validation_acc: 83.5000 %\u001b[32m [repeated 4x across cluster]\u001b[0m\n"
     ]
    },
    {
     "name": "stderr",
     "output_type": "stream",
     "text": [
      " 70%|\u001b[34m███████   \u001b[0m| 7/10 [00:29<00:12,  4.15s/it]\u001b[32m [repeated 4x across cluster]\u001b[0m\n"
     ]
    },
    {
     "name": "stdout",
     "output_type": "stream",
     "text": [
      "\u001b[36m(launch_and_fit pid=11886)\u001b[0m \tTrain Epoch: 9 \tTrain_loss: 0.1386 | Train_acc: 96.8750 % | Validation_loss: 0.7022 | Validation_acc: 81.0625 %\u001b[32m [repeated 4x across cluster]\u001b[0m\n"
     ]
    },
    {
     "name": "stderr",
     "output_type": "stream",
     "text": [
      " 90%|\u001b[34m█████████ \u001b[0m| 9/10 [00:37<00:04,  4.12s/it]\u001b[32m [repeated 4x across cluster]\u001b[0m\n"
     ]
    },
    {
     "name": "stdout",
     "output_type": "stream",
     "text": [
      "\u001b[36m(launch_and_fit pid=11886)\u001b[0m save graph in  results/FL/\n",
      "\u001b[36m(launch_and_fit pid=11886)\u001b[0m features.0.weight 4.5299530029296875e-06\n",
      "\u001b[36m(launch_and_fit pid=11886)\u001b[0m features.0.bias 1.6689300537109375e-06\n",
      "\u001b[36m(launch_and_fit pid=11886)\u001b[0m features.3.weight 1.1920928955078125e-06\n",
      "\u001b[36m(launch_and_fit pid=11886)\u001b[0m features.3.bias 1.1920928955078125e-06\n",
      "\u001b[36m(launch_and_fit pid=11886)\u001b[0m classifier.0.weight 9.5367431640625e-07\n",
      "\u001b[36m(launch_and_fit pid=11886)\u001b[0m classifier.0.bias 1.1920928955078125e-06\n",
      "\u001b[36m(launch_and_fit pid=11886)\u001b[0m classifier.2.weight 9.5367431640625e-07\n",
      "\u001b[36m(launch_and_fit pid=11886)\u001b[0m classifier.2.bias 1.1920928955078125e-06\n",
      "\u001b[36m(launch_and_fit pid=11886)\u001b[0m classifier.3.weights 1.430511474609375e-06\n",
      "\u001b[36m(launch_and_fit pid=11886)\u001b[0m classifier.4.weight 1.1920928955078125e-06\n",
      "\u001b[36m(launch_and_fit pid=11886)\u001b[0m classifier.4.bias 9.5367431640625e-07\n",
      "\u001b[36m(launch_and_fit pid=11966)\u001b[0m Run with homomorphic encryption\n",
      "\u001b[36m(launch_and_fit pid=11885)\u001b[0m \tTrain Epoch: 10 \tTrain_loss: 0.0208 | Train_acc: 99.6324 % | Validation_loss: 0.6434 | Validation_acc: 76.3750 %\u001b[32m [repeated 3x across cluster]\u001b[0m\n",
      "\u001b[36m(launch_and_fit pid=11885)\u001b[0m save graph in  results/FL/\n",
      "\u001b[36m(launch_and_fit pid=11885)\u001b[0m classifier.4.bias 1.6689300537109375e-06\u001b[32m [repeated 11x across cluster]\u001b[0m\n",
      "\u001b[36m(launch_and_fit pid=11966)\u001b[0m [Client 8, round 15] fit, config: {'learning_rate': 0.003, 'batch_size': '32', 'server_round': 15, 'local_epochs': 10}\n",
      "\u001b[36m(launch_and_fit pid=11966)\u001b[0m Updated model\n"
     ]
    },
    {
     "name": "stderr",
     "output_type": "stream",
     "text": [
      "  0%|\u001b[34m          \u001b[0m| 0/10 [00:00<?, ?it/s]\n",
      "100%|\u001b[34m██████████\u001b[0m| 10/10 [00:41<00:00,  4.19s/it]\u001b[32m [repeated 3x across cluster]\u001b[0m\n"
     ]
    },
    {
     "name": "stdout",
     "output_type": "stream",
     "text": [
      "\u001b[36m(launch_and_fit pid=11968)\u001b[0m Run with homomorphic encryption\n",
      "\u001b[36m(launch_and_fit pid=11966)\u001b[0m \tTrain Epoch: 1 \tTrain_loss: 0.0273 | Train_acc: 99.4485 % | Validation_loss: 0.4915 | Validation_acc: 86.6250 %\n",
      "\u001b[36m(launch_and_fit pid=11968)\u001b[0m [Client 7, round 15] fit, config: {'learning_rate': 0.003, 'batch_size': '32', 'server_round': 15, 'local_epochs': 10}\n",
      "\u001b[36m(launch_and_fit pid=11968)\u001b[0m \tTrain Epoch: 1 \tTrain_loss: 0.0228 | Train_acc: 99.4485 % | Validation_loss: 0.3431 | Validation_acc: 87.7500 %\n",
      "\u001b[36m(launch_and_fit pid=11968)\u001b[0m Updated model\n"
     ]
    },
    {
     "name": "stderr",
     "output_type": "stream",
     "text": [
      "  0%|\u001b[34m          \u001b[0m| 0/10 [00:00<?, ?it/s]\n",
      " 20%|\u001b[34m██        \u001b[0m| 2/10 [00:08<00:34,  4.28s/it]\u001b[32m [repeated 3x across cluster]\u001b[0m\n"
     ]
    },
    {
     "name": "stdout",
     "output_type": "stream",
     "text": [
      "\u001b[36m(launch_and_fit pid=11966)\u001b[0m \tTrain Epoch: 3 \tTrain_loss: 0.0199 | Train_acc: 99.2647 % | Validation_loss: 0.4203 | Validation_acc: 85.7500 %\u001b[32m [repeated 3x across cluster]\u001b[0m\n"
     ]
    },
    {
     "name": "stderr",
     "output_type": "stream",
     "text": [
      " 40%|\u001b[34m████      \u001b[0m| 4/10 [00:16<00:24,  4.13s/it]\u001b[32m [repeated 4x across cluster]\u001b[0m\n"
     ]
    },
    {
     "name": "stdout",
     "output_type": "stream",
     "text": [
      "\u001b[36m(launch_and_fit pid=11966)\u001b[0m \tTrain Epoch: 5 \tTrain_loss: 0.0293 | Train_acc: 99.6324 % | Validation_loss: 0.6273 | Validation_acc: 83.0625 %\u001b[32m [repeated 4x across cluster]\u001b[0m\n"
     ]
    },
    {
     "name": "stderr",
     "output_type": "stream",
     "text": [
      " 60%|\u001b[34m██████    \u001b[0m| 6/10 [00:24<00:16,  4.09s/it]\u001b[32m [repeated 4x across cluster]\u001b[0m\n"
     ]
    },
    {
     "name": "stdout",
     "output_type": "stream",
     "text": [
      "\u001b[36m(launch_and_fit pid=11966)\u001b[0m \tTrain Epoch: 7 \tTrain_loss: 0.0466 | Train_acc: 98.5294 % | Validation_loss: 0.6943 | Validation_acc: 75.9375 %\u001b[32m [repeated 4x across cluster]\u001b[0m\n"
     ]
    },
    {
     "name": "stderr",
     "output_type": "stream",
     "text": [
      " 80%|\u001b[34m████████  \u001b[0m| 8/10 [00:33<00:08,  4.13s/it]\u001b[32m [repeated 4x across cluster]\u001b[0m\n"
     ]
    },
    {
     "name": "stdout",
     "output_type": "stream",
     "text": [
      "\u001b[36m(launch_and_fit pid=11966)\u001b[0m \tTrain Epoch: 9 \tTrain_loss: 0.0312 | Train_acc: 99.0809 % | Validation_loss: 0.5273 | Validation_acc: 79.0625 %\u001b[32m [repeated 4x across cluster]\u001b[0m\n",
      "\u001b[36m(launch_and_fit pid=11966)\u001b[0m save graph in  results/FL/\n"
     ]
    },
    {
     "name": "stderr",
     "output_type": "stream",
     "text": [
      "100%|\u001b[34m██████████\u001b[0m| 10/10 [00:41<00:00,  4.12s/it]\u001b[32m [repeated 4x across cluster]\u001b[0m\n"
     ]
    },
    {
     "name": "stdout",
     "output_type": "stream",
     "text": [
      "\u001b[36m(launch_and_fit pid=11966)\u001b[0m features.0.weight 4.76837158203125e-06\n",
      "\u001b[36m(launch_and_fit pid=11966)\u001b[0m features.0.bias 1.430511474609375e-06\n",
      "\u001b[36m(launch_and_fit pid=11966)\u001b[0m features.3.weight 1.1920928955078125e-06\n",
      "\u001b[36m(launch_and_fit pid=11966)\u001b[0m features.3.bias 1.1920928955078125e-06\n",
      "\u001b[36m(launch_and_fit pid=11966)\u001b[0m classifier.0.weight 1.1920928955078125e-06\n",
      "\u001b[36m(launch_and_fit pid=11966)\u001b[0m classifier.0.bias 1.1920928955078125e-06\n",
      "\u001b[36m(launch_and_fit pid=11966)\u001b[0m classifier.2.weight 9.5367431640625e-07\n",
      "\u001b[36m(launch_and_fit pid=11966)\u001b[0m classifier.2.bias 9.5367431640625e-07\n",
      "\u001b[36m(launch_and_fit pid=11966)\u001b[0m classifier.3.weights 1.1920928955078125e-06\n",
      "\u001b[36m(launch_and_fit pid=11966)\u001b[0m classifier.4.weight 1.1920928955078125e-06\n",
      "\u001b[36m(launch_and_fit pid=11966)\u001b[0m classifier.4.bias 1.1920928955078125e-06\n",
      "\u001b[36m(launch_and_fit pid=12048)\u001b[0m Run with homomorphic encryption\n",
      "\u001b[36m(launch_and_fit pid=11968)\u001b[0m \tTrain Epoch: 10 \tTrain_loss: 0.0073 | Train_acc: 99.6324 % | Validation_loss: 0.6582 | Validation_acc: 86.1875 %\u001b[32m [repeated 3x across cluster]\u001b[0m\n",
      "\u001b[36m(launch_and_fit pid=11968)\u001b[0m save graph in  results/FL/\n",
      "\u001b[36m(launch_and_fit pid=11968)\u001b[0m classifier.4.bias 9.5367431640625e-07\u001b[32m [repeated 11x across cluster]\u001b[0m\n",
      "\u001b[36m(launch_and_fit pid=12048)\u001b[0m [Client 6, round 15] fit, config: {'learning_rate': 0.003, 'batch_size': '32', 'server_round': 15, 'local_epochs': 10}\n"
     ]
    },
    {
     "name": "stderr",
     "output_type": "stream",
     "text": [
      "  0%|\u001b[34m          \u001b[0m| 0/10 [00:00<?, ?it/s]\n",
      "100%|\u001b[34m██████████\u001b[0m| 10/10 [00:41<00:00,  4.12s/it]\n"
     ]
    },
    {
     "name": "stdout",
     "output_type": "stream",
     "text": [
      "\u001b[36m(launch_and_fit pid=12048)\u001b[0m Updated model\n"
     ]
    },
    {
     "name": "stderr",
     "output_type": "stream",
     "text": [
      " 10%|\u001b[34m█         \u001b[0m| 1/10 [00:04<00:41,  4.57s/it]\n"
     ]
    },
    {
     "name": "stdout",
     "output_type": "stream",
     "text": [
      "\u001b[36m(launch_and_fit pid=12050)\u001b[0m Run with homomorphic encryption\n",
      "\u001b[36m(launch_and_fit pid=12048)\u001b[0m \tTrain Epoch: 1 \tTrain_loss: 0.0390 | Train_acc: 98.7132 % | Validation_loss: 0.3314 | Validation_acc: 89.3125 %\n",
      "\u001b[36m(launch_and_fit pid=12050)\u001b[0m [Client 4, round 15] fit, config: {'learning_rate': 0.003, 'batch_size': '32', 'server_round': 15, 'local_epochs': 10}\n",
      "\u001b[36m(launch_and_fit pid=12050)\u001b[0m \tTrain Epoch: 1 \tTrain_loss: 0.0348 | Train_acc: 99.4485 % | Validation_loss: 0.2904 | Validation_acc: 88.6250 %\n"
     ]
    },
    {
     "name": "stderr",
     "output_type": "stream",
     "text": [
      "  0%|\u001b[34m          \u001b[0m| 0/10 [00:00<?, ?it/s]\n"
     ]
    },
    {
     "name": "stdout",
     "output_type": "stream",
     "text": [
      "\u001b[36m(launch_and_fit pid=12050)\u001b[0m Updated model\n"
     ]
    },
    {
     "name": "stderr",
     "output_type": "stream",
     "text": [
      " 30%|\u001b[34m███       \u001b[0m| 3/10 [00:12<00:29,  4.19s/it]\u001b[32m [repeated 4x across cluster]\u001b[0m\n"
     ]
    },
    {
     "name": "stdout",
     "output_type": "stream",
     "text": [
      "\u001b[36m(launch_and_fit pid=12050)\u001b[0m \tTrain Epoch: 3 \tTrain_loss: 0.0057 | Train_acc: 100.0000 % | Validation_loss: 0.4220 | Validation_acc: 89.0625 %\u001b[32m [repeated 3x across cluster]\u001b[0m\n"
     ]
    },
    {
     "name": "stderr",
     "output_type": "stream",
     "text": [
      " 50%|\u001b[34m█████     \u001b[0m| 5/10 [00:20<00:20,  4.13s/it]\u001b[32m [repeated 4x across cluster]\u001b[0m\n"
     ]
    },
    {
     "name": "stdout",
     "output_type": "stream",
     "text": [
      "\u001b[36m(launch_and_fit pid=12050)\u001b[0m \tTrain Epoch: 5 \tTrain_loss: 0.0022 | Train_acc: 100.0000 % | Validation_loss: 0.3381 | Validation_acc: 91.7500 %\u001b[32m [repeated 4x across cluster]\u001b[0m\n"
     ]
    },
    {
     "name": "stderr",
     "output_type": "stream",
     "text": [
      " 70%|\u001b[34m███████   \u001b[0m| 7/10 [00:29<00:12,  4.09s/it]\u001b[32m [repeated 4x across cluster]\u001b[0m\n"
     ]
    },
    {
     "name": "stdout",
     "output_type": "stream",
     "text": [
      "\u001b[36m(launch_and_fit pid=12050)\u001b[0m \tTrain Epoch: 7 \tTrain_loss: 0.0010 | Train_acc: 100.0000 % | Validation_loss: 0.3576 | Validation_acc: 91.7500 %\u001b[32m [repeated 4x across cluster]\u001b[0m\n"
     ]
    },
    {
     "name": "stderr",
     "output_type": "stream",
     "text": [
      " 90%|\u001b[34m█████████ \u001b[0m| 9/10 [00:37<00:04,  4.04s/it]\u001b[32m [repeated 4x across cluster]\u001b[0m\n"
     ]
    },
    {
     "name": "stdout",
     "output_type": "stream",
     "text": [
      "\u001b[36m(launch_and_fit pid=12050)\u001b[0m \tTrain Epoch: 9 \tTrain_loss: 0.0007 | Train_acc: 100.0000 % | Validation_loss: 0.3702 | Validation_acc: 90.1875 %\u001b[32m [repeated 4x across cluster]\u001b[0m\n",
      "\u001b[36m(launch_and_fit pid=12050)\u001b[0m save graph in  results/FL/\n",
      "\u001b[36m(launch_and_fit pid=12050)\u001b[0m features.0.weight 4.76837158203125e-06\n",
      "\u001b[36m(launch_and_fit pid=12050)\u001b[0m features.0.bias 1.6689300537109375e-06\n",
      "\u001b[36m(launch_and_fit pid=12050)\u001b[0m features.3.weight 1.1920928955078125e-06\n",
      "\u001b[36m(launch_and_fit pid=12050)\u001b[0m features.3.bias 1.1920928955078125e-06\n",
      "\u001b[36m(launch_and_fit pid=12050)\u001b[0m classifier.0.weight 9.5367431640625e-07\n",
      "\u001b[36m(launch_and_fit pid=12050)\u001b[0m classifier.0.bias 9.5367431640625e-07\n",
      "\u001b[36m(launch_and_fit pid=12050)\u001b[0m classifier.2.weight 9.5367431640625e-07\n",
      "\u001b[36m(launch_and_fit pid=12050)\u001b[0m classifier.2.bias 1.1920928955078125e-06\n",
      "\u001b[36m(launch_and_fit pid=12050)\u001b[0m classifier.3.weights 9.5367431640625e-07\n",
      "\u001b[36m(launch_and_fit pid=12050)\u001b[0m classifier.4.weight 9.5367431640625e-07\n",
      "\u001b[36m(launch_and_fit pid=12050)\u001b[0m classifier.4.bias 9.5367431640625e-07\n",
      "\u001b[36m(launch_and_fit pid=12048)\u001b[0m \tTrain Epoch: 10 \tTrain_loss: 0.0098 | Train_acc: 99.8162 % | Validation_loss: 0.6353 | Validation_acc: 80.1875 %\u001b[32m [repeated 3x across cluster]\u001b[0m\n",
      "\u001b[36m(launch_and_fit pid=12130)\u001b[0m Run with homomorphic encryption\n",
      "\u001b[36m(launch_and_fit pid=12048)\u001b[0m save graph in  results/FL/\n",
      "\u001b[36m(launch_and_fit pid=12048)\u001b[0m classifier.4.bias 9.5367431640625e-07\u001b[32m [repeated 11x across cluster]\u001b[0m\n",
      "\u001b[36m(launch_and_fit pid=12130)\u001b[0m [Client 0, round 15] fit, config: {'learning_rate': 0.003, 'batch_size': '32', 'server_round': 15, 'local_epochs': 10}\n"
     ]
    },
    {
     "name": "stderr",
     "output_type": "stream",
     "text": [
      "  0%|\u001b[34m          \u001b[0m| 0/10 [00:00<?, ?it/s]\n",
      "100%|\u001b[34m██████████\u001b[0m| 10/10 [00:41<00:00,  4.18s/it]\u001b[32m [repeated 3x across cluster]\u001b[0m\n"
     ]
    },
    {
     "name": "stdout",
     "output_type": "stream",
     "text": [
      "\u001b[36m(launch_and_fit pid=12130)\u001b[0m Updated model\n",
      "\u001b[36m(launch_and_fit pid=12130)\u001b[0m \tTrain Epoch: 1 \tTrain_loss: 0.0385 | Train_acc: 99.2647 % | Validation_loss: 0.6527 | Validation_acc: 86.6250 %\n",
      "\u001b[36m(launch_and_fit pid=12132)\u001b[0m Run with homomorphic encryption\n",
      "\u001b[36m(launch_and_fit pid=12132)\u001b[0m [Client 3, round 15] fit, config: {'learning_rate': 0.003, 'batch_size': '32', 'server_round': 15, 'local_epochs': 10}\n"
     ]
    },
    {
     "name": "stderr",
     "output_type": "stream",
     "text": [
      "  0%|\u001b[34m          \u001b[0m| 0/10 [00:00<?, ?it/s]\n",
      " 20%|\u001b[34m██        \u001b[0m| 2/10 [00:08<00:33,  4.15s/it]\u001b[32m [repeated 3x across cluster]\u001b[0m\n"
     ]
    },
    {
     "name": "stdout",
     "output_type": "stream",
     "text": [
      "\u001b[36m(launch_and_fit pid=12132)\u001b[0m Updated model\n",
      "\u001b[36m(launch_and_fit pid=12130)\u001b[0m \tTrain Epoch: 3 \tTrain_loss: 0.0218 | Train_acc: 99.8162 % | Validation_loss: 0.5106 | Validation_acc: 85.7500 %\u001b[32m [repeated 4x across cluster]\u001b[0m\n"
     ]
    },
    {
     "name": "stderr",
     "output_type": "stream",
     "text": [
      " 40%|\u001b[34m████      \u001b[0m| 4/10 [00:16<00:24,  4.16s/it]\u001b[32m [repeated 4x across cluster]\u001b[0m\n"
     ]
    },
    {
     "name": "stdout",
     "output_type": "stream",
     "text": [
      "\u001b[36m(launch_and_fit pid=12130)\u001b[0m \tTrain Epoch: 5 \tTrain_loss: 0.0020 | Train_acc: 100.0000 % | Validation_loss: 0.4214 | Validation_acc: 89.7500 %\u001b[32m [repeated 4x across cluster]\u001b[0m\n"
     ]
    },
    {
     "name": "stderr",
     "output_type": "stream",
     "text": [
      " 60%|\u001b[34m██████    \u001b[0m| 6/10 [00:24<00:16,  4.03s/it]\u001b[32m [repeated 4x across cluster]\u001b[0m\n"
     ]
    },
    {
     "name": "stdout",
     "output_type": "stream",
     "text": [
      "\u001b[36m(launch_and_fit pid=12130)\u001b[0m \tTrain Epoch: 7 \tTrain_loss: 0.0012 | Train_acc: 100.0000 % | Validation_loss: 0.5310 | Validation_acc: 83.7500 %\u001b[32m [repeated 4x across cluster]\u001b[0m\n"
     ]
    },
    {
     "name": "stderr",
     "output_type": "stream",
     "text": [
      " 80%|\u001b[34m████████  \u001b[0m| 8/10 [00:32<00:07,  4.00s/it]\u001b[32m [repeated 4x across cluster]\u001b[0m\n"
     ]
    },
    {
     "name": "stdout",
     "output_type": "stream",
     "text": [
      "\u001b[36m(launch_and_fit pid=12130)\u001b[0m \tTrain Epoch: 9 \tTrain_loss: 0.0043 | Train_acc: 100.0000 % | Validation_loss: 0.5529 | Validation_acc: 85.7500 %\u001b[32m [repeated 4x across cluster]\u001b[0m\n"
     ]
    },
    {
     "name": "stderr",
     "output_type": "stream",
     "text": [
      "100%|\u001b[34m██████████\u001b[0m| 10/10 [00:40<00:00,  4.04s/it]\u001b[32m [repeated 4x across cluster]\u001b[0m\n"
     ]
    },
    {
     "name": "stdout",
     "output_type": "stream",
     "text": [
      "\u001b[36m(launch_and_fit pid=12130)\u001b[0m save graph in  results/FL/\n",
      "\u001b[36m(launch_and_fit pid=12130)\u001b[0m features.0.weight 5.245208740234375e-06\n",
      "\u001b[36m(launch_and_fit pid=12130)\u001b[0m features.0.bias 1.6689300537109375e-06\n",
      "\u001b[36m(launch_and_fit pid=12130)\u001b[0m features.3.weight 1.430511474609375e-06\n",
      "\u001b[36m(launch_and_fit pid=12130)\u001b[0m features.3.bias 1.1920928955078125e-06\n",
      "\u001b[36m(launch_and_fit pid=12130)\u001b[0m classifier.0.weight 9.5367431640625e-07\n",
      "\u001b[36m(launch_and_fit pid=12130)\u001b[0m classifier.0.bias 7.152557373046875e-07\n",
      "\u001b[36m(launch_and_fit pid=12130)\u001b[0m classifier.2.weight 7.152557373046875e-07\n",
      "\u001b[36m(launch_and_fit pid=12130)\u001b[0m classifier.2.bias 9.5367431640625e-07\n",
      "\u001b[36m(launch_and_fit pid=12130)\u001b[0m classifier.3.weights 1.1920928955078125e-06\n",
      "\u001b[36m(launch_and_fit pid=12130)\u001b[0m classifier.4.weight 1.1920928955078125e-06\n",
      "\u001b[36m(launch_and_fit pid=12130)\u001b[0m classifier.4.bias 9.5367431640625e-07\n",
      "\u001b[36m(launch_and_fit pid=12132)\u001b[0m \tTrain Epoch: 10 \tTrain_loss: 0.0022 | Train_acc: 100.0000 % | Validation_loss: 0.5673 | Validation_acc: 81.7500 %\u001b[32m [repeated 3x across cluster]\u001b[0m\n",
      "\u001b[36m(launch_and_fit pid=12212)\u001b[0m Run with homomorphic encryption\n",
      "\u001b[36m(launch_and_fit pid=12132)\u001b[0m save graph in  results/FL/\n",
      "\u001b[36m(launch_and_fit pid=12132)\u001b[0m classifier.4.bias 1.1920928955078125e-06\u001b[32m [repeated 11x across cluster]\u001b[0m\n",
      "\u001b[36m(launch_and_fit pid=12212)\u001b[0m [Client 5, round 15] fit, config: {'learning_rate': 0.003, 'batch_size': '32', 'server_round': 15, 'local_epochs': 10}\n"
     ]
    },
    {
     "name": "stderr",
     "output_type": "stream",
     "text": [
      "  0%|\u001b[34m          \u001b[0m| 0/10 [00:00<?, ?it/s]\n",
      "100%|\u001b[34m██████████\u001b[0m| 10/10 [00:40<00:00,  4.09s/it]\n"
     ]
    },
    {
     "name": "stdout",
     "output_type": "stream",
     "text": [
      "\u001b[36m(launch_and_fit pid=12212)\u001b[0m Updated model\n"
     ]
    },
    {
     "name": "stderr",
     "output_type": "stream",
     "text": [
      " 10%|\u001b[34m█         \u001b[0m| 1/10 [00:04<00:40,  4.51s/it]\n"
     ]
    },
    {
     "name": "stdout",
     "output_type": "stream",
     "text": [
      "\u001b[36m(launch_and_fit pid=12212)\u001b[0m \tTrain Epoch: 1 \tTrain_loss: 0.0574 | Train_acc: 98.5294 % | Validation_loss: 0.2361 | Validation_acc: 91.7500 %\n",
      "\u001b[36m(launch_and_fit pid=12237)\u001b[0m Run with homomorphic encryption\n",
      "\u001b[36m(launch_and_fit pid=12237)\u001b[0m [Client 2, round 15] fit, config: {'learning_rate': 0.003, 'batch_size': '32', 'server_round': 15, 'local_epochs': 10}\n"
     ]
    },
    {
     "name": "stderr",
     "output_type": "stream",
     "text": [
      "  0%|\u001b[34m          \u001b[0m| 0/10 [00:00<?, ?it/s]\n"
     ]
    },
    {
     "name": "stdout",
     "output_type": "stream",
     "text": [
      "\u001b[36m(launch_and_fit pid=12237)\u001b[0m Updated model\n"
     ]
    },
    {
     "name": "stderr",
     "output_type": "stream",
     "text": [
      " 30%|\u001b[34m███       \u001b[0m| 3/10 [00:12<00:28,  4.11s/it]\u001b[32m [repeated 4x across cluster]\u001b[0m\n"
     ]
    },
    {
     "name": "stdout",
     "output_type": "stream",
     "text": [
      "\u001b[36m(launch_and_fit pid=12212)\u001b[0m \tTrain Epoch: 3 \tTrain_loss: 0.0047 | Train_acc: 100.0000 % | Validation_loss: 0.2740 | Validation_acc: 88.1875 %\u001b[32m [repeated 4x across cluster]\u001b[0m\n"
     ]
    },
    {
     "name": "stderr",
     "output_type": "stream",
     "text": [
      " 50%|\u001b[34m█████     \u001b[0m| 5/10 [00:20<00:20,  4.05s/it]\u001b[32m [repeated 4x across cluster]\u001b[0m\n"
     ]
    },
    {
     "name": "stdout",
     "output_type": "stream",
     "text": [
      "\u001b[36m(launch_and_fit pid=12212)\u001b[0m \tTrain Epoch: 5 \tTrain_loss: 0.0012 | Train_acc: 100.0000 % | Validation_loss: 0.2951 | Validation_acc: 88.1875 %\u001b[32m [repeated 4x across cluster]\u001b[0m\n"
     ]
    },
    {
     "name": "stderr",
     "output_type": "stream",
     "text": [
      " 70%|\u001b[34m███████   \u001b[0m| 7/10 [00:28<00:12,  4.14s/it]\u001b[32m [repeated 4x across cluster]\u001b[0m\n"
     ]
    },
    {
     "name": "stdout",
     "output_type": "stream",
     "text": [
      "\u001b[36m(launch_and_fit pid=12212)\u001b[0m \tTrain Epoch: 7 \tTrain_loss: 0.0009 | Train_acc: 100.0000 % | Validation_loss: 0.2978 | Validation_acc: 88.1875 %\u001b[32m [repeated 4x across cluster]\u001b[0m\n"
     ]
    },
    {
     "name": "stderr",
     "output_type": "stream",
     "text": [
      " 90%|\u001b[34m█████████ \u001b[0m| 9/10 [00:36<00:04,  4.06s/it]\u001b[32m [repeated 4x across cluster]\u001b[0m\n"
     ]
    },
    {
     "name": "stdout",
     "output_type": "stream",
     "text": [
      "\u001b[36m(launch_and_fit pid=12212)\u001b[0m \tTrain Epoch: 9 \tTrain_loss: 0.0007 | Train_acc: 100.0000 % | Validation_loss: 0.2977 | Validation_acc: 88.1875 %\u001b[32m [repeated 4x across cluster]\u001b[0m\n",
      "\u001b[36m(launch_and_fit pid=12212)\u001b[0m save graph in  results/FL/\n",
      "\u001b[36m(launch_and_fit pid=12212)\u001b[0m features.0.weight 5.0067901611328125e-06\n",
      "\u001b[36m(launch_and_fit pid=12212)\u001b[0m features.0.bias 1.430511474609375e-06\n",
      "\u001b[36m(launch_and_fit pid=12212)\u001b[0m features.3.weight 1.430511474609375e-06\n",
      "\u001b[36m(launch_and_fit pid=12212)\u001b[0m features.3.bias 1.1920928955078125e-06\n",
      "\u001b[36m(launch_and_fit pid=12212)\u001b[0m classifier.0.weight 1.430511474609375e-06\n",
      "\u001b[36m(launch_and_fit pid=12212)\u001b[0m classifier.0.bias 1.1920928955078125e-06\n",
      "\u001b[36m(launch_and_fit pid=12212)\u001b[0m classifier.2.weight 1.430511474609375e-06\n",
      "\u001b[36m(launch_and_fit pid=12212)\u001b[0m classifier.2.bias 1.1920928955078125e-06\n",
      "\u001b[36m(launch_and_fit pid=12212)\u001b[0m classifier.3.weights 1.430511474609375e-06\n",
      "\u001b[36m(launch_and_fit pid=12212)\u001b[0m classifier.4.weight 9.5367431640625e-07\n",
      "\u001b[36m(launch_and_fit pid=12212)\u001b[0m classifier.4.bias 1.430511474609375e-06\n"
     ]
    },
    {
     "name": "stderr",
     "output_type": "stream",
     "text": [
      "DEBUG flwr 2024-07-21 03:59:00,108 | server.py:236 | fit_round 15 received 10 results and 0 failures\n"
     ]
    },
    {
     "name": "stdout",
     "output_type": "stream",
     "text": [
      "\u001b[36m(launch_and_fit pid=12237)\u001b[0m \tTrain Epoch: 10 \tTrain_loss: 0.0055 | Train_acc: 99.8162 % | Validation_loss: 0.3264 | Validation_acc: 88.8750 %\u001b[32m [repeated 3x across cluster]\u001b[0m\n",
      "Saving round 15 aggregated_parameters...\n"
     ]
    },
    {
     "name": "stderr",
     "output_type": "stream",
     "text": [
      "DEBUG flwr 2024-07-21 03:59:02,064 | server.py:173 | evaluate_round 15: strategy sampled 10 clients (out of 10)\n"
     ]
    },
    {
     "name": "stdout",
     "output_type": "stream",
     "text": [
      "\u001b[36m(launch_and_evaluate pid=12304)\u001b[0m Run with homomorphic encryption\n",
      "\u001b[36m(launch_and_fit pid=12237)\u001b[0m save graph in  results/FL/\n",
      "\u001b[36m(launch_and_fit pid=12237)\u001b[0m classifier.4.bias 9.5367431640625e-07\u001b[32m [repeated 11x across cluster]\u001b[0m\n",
      "\u001b[36m(launch_and_evaluate pid=12304)\u001b[0m [Client 0] evaluate, config: {}\n",
      "\u001b[36m(launch_and_evaluate pid=12304)\u001b[0m Updated model\n",
      "\u001b[36m(launch_and_evaluate pid=12384)\u001b[0m Run with homomorphic encryption\u001b[32m [repeated 2x across cluster]\u001b[0m\n",
      "\u001b[36m(launch_and_evaluate pid=12303)\u001b[0m [Client 4] evaluate, config: {}\n",
      "\u001b[36m(launch_and_evaluate pid=12303)\u001b[0m Updated model\n",
      "\u001b[36m(launch_and_evaluate pid=12384)\u001b[0m [Client 6] evaluate, config: {}\n",
      "\u001b[36m(launch_and_evaluate pid=12384)\u001b[0m Updated model\n",
      "\u001b[36m(launch_and_evaluate pid=12460)\u001b[0m Run with homomorphic encryption\u001b[32m [repeated 2x across cluster]\u001b[0m\n",
      "\u001b[36m(launch_and_evaluate pid=12383)\u001b[0m [Client 8] evaluate, config: {}\n",
      "\u001b[36m(launch_and_evaluate pid=12383)\u001b[0m Updated model\n",
      "\u001b[36m(launch_and_evaluate pid=12460)\u001b[0m [Client 9] evaluate, config: {}\n",
      "\u001b[36m(launch_and_evaluate pid=12460)\u001b[0m Updated model\n",
      "\u001b[36m(launch_and_evaluate pid=12540)\u001b[0m Run with homomorphic encryption\u001b[32m [repeated 2x across cluster]\u001b[0m\n",
      "\u001b[36m(launch_and_evaluate pid=12462)\u001b[0m [Client 7] evaluate, config: {}\n",
      "\u001b[36m(launch_and_evaluate pid=12462)\u001b[0m Updated model\n",
      "\u001b[36m(launch_and_evaluate pid=12538)\u001b[0m [Client 2] evaluate, config: {}\n",
      "\u001b[36m(launch_and_evaluate pid=12538)\u001b[0m Updated model\n",
      "\u001b[36m(launch_and_evaluate pid=12618)\u001b[0m Run with homomorphic encryption\u001b[32m [repeated 2x across cluster]\u001b[0m\n",
      "\u001b[36m(launch_and_evaluate pid=12540)\u001b[0m [Client 5] evaluate, config: {}\n",
      "\u001b[36m(launch_and_evaluate pid=12540)\u001b[0m Updated model\n",
      "\u001b[36m(launch_and_evaluate pid=12618)\u001b[0m [Client 3] evaluate, config: {}\n",
      "\u001b[36m(launch_and_evaluate pid=12618)\u001b[0m Updated model\n"
     ]
    },
    {
     "name": "stderr",
     "output_type": "stream",
     "text": [
      "DEBUG flwr 2024-07-21 04:00:19,308 | server.py:187 | evaluate_round 15 received 10 results and 0 failures\n",
      "DEBUG flwr 2024-07-21 04:00:19,309 | server.py:222 | fit_round 16: strategy sampled 10 clients (out of 10)\n"
     ]
    },
    {
     "name": "stdout",
     "output_type": "stream",
     "text": [
      "\u001b[36m(launch_and_fit pid=12703)\u001b[0m Run with homomorphic encryption\u001b[32m [repeated 2x across cluster]\u001b[0m\n",
      "\u001b[36m(launch_and_evaluate pid=12616)\u001b[0m [Client 1] evaluate, config: {}\n",
      "\u001b[36m(launch_and_evaluate pid=12616)\u001b[0m Updated model\n",
      "\u001b[36m(launch_and_fit pid=12703)\u001b[0m [Client 1, round 16] fit, config: {'learning_rate': 0.003, 'batch_size': '32', 'server_round': 16, 'local_epochs': 10}\n"
     ]
    },
    {
     "name": "stderr",
     "output_type": "stream",
     "text": [
      "  0%|\u001b[34m          \u001b[0m| 0/10 [00:00<?, ?it/s]\n",
      "100%|\u001b[34m██████████\u001b[0m| 10/10 [00:41<00:00,  4.11s/it]\u001b[32m [repeated 3x across cluster]\u001b[0m\n"
     ]
    },
    {
     "name": "stdout",
     "output_type": "stream",
     "text": [
      "\u001b[36m(launch_and_fit pid=12703)\u001b[0m Updated model\n",
      "\u001b[36m(launch_and_fit pid=12703)\u001b[0m \tTrain Epoch: 1 \tTrain_loss: 0.0771 | Train_acc: 97.7941 % | Validation_loss: 0.4060 | Validation_acc: 89.3125 %\n",
      "\u001b[36m(launch_and_fit pid=12704)\u001b[0m Run with homomorphic encryption\n",
      "\u001b[36m(launch_and_fit pid=12704)\u001b[0m [Client 0, round 16] fit, config: {'learning_rate': 0.003, 'batch_size': '32', 'server_round': 16, 'local_epochs': 10}\n",
      "\u001b[36m(launch_and_fit pid=12704)\u001b[0m Updated model\n"
     ]
    },
    {
     "name": "stderr",
     "output_type": "stream",
     "text": [
      "  0%|\u001b[34m          \u001b[0m| 0/10 [00:00<?, ?it/s]\n",
      " 20%|\u001b[34m██        \u001b[0m| 2/10 [00:08<00:33,  4.17s/it]\u001b[32m [repeated 3x across cluster]\u001b[0m\n"
     ]
    },
    {
     "name": "stdout",
     "output_type": "stream",
     "text": [
      "\u001b[36m(launch_and_fit pid=12704)\u001b[0m \tTrain Epoch: 3 \tTrain_loss: 0.0150 | Train_acc: 99.6324 % | Validation_loss: 0.3878 | Validation_acc: 87.7500 %\u001b[32m [repeated 4x across cluster]\u001b[0m\n"
     ]
    },
    {
     "name": "stderr",
     "output_type": "stream",
     "text": [
      " 40%|\u001b[34m████      \u001b[0m| 4/10 [00:16<00:24,  4.13s/it]\u001b[32m [repeated 4x across cluster]\u001b[0m\n"
     ]
    },
    {
     "name": "stdout",
     "output_type": "stream",
     "text": [
      "\u001b[36m(launch_and_fit pid=12704)\u001b[0m \tTrain Epoch: 5 \tTrain_loss: 0.0013 | Train_acc: 100.0000 % | Validation_loss: 0.4650 | Validation_acc: 88.1875 %\u001b[32m [repeated 4x across cluster]\u001b[0m\n"
     ]
    },
    {
     "name": "stderr",
     "output_type": "stream",
     "text": [
      " 60%|\u001b[34m██████    \u001b[0m| 6/10 [00:24<00:16,  4.09s/it]\u001b[32m [repeated 4x across cluster]\u001b[0m\n"
     ]
    },
    {
     "name": "stdout",
     "output_type": "stream",
     "text": [
      "\u001b[36m(launch_and_fit pid=12704)\u001b[0m \tTrain Epoch: 7 \tTrain_loss: 0.0007 | Train_acc: 100.0000 % | Validation_loss: 0.4369 | Validation_acc: 88.1875 %\u001b[32m [repeated 4x across cluster]\u001b[0m\n"
     ]
    },
    {
     "name": "stderr",
     "output_type": "stream",
     "text": [
      " 80%|\u001b[34m████████  \u001b[0m| 8/10 [00:33<00:08,  4.08s/it]\u001b[32m [repeated 4x across cluster]\u001b[0m\n"
     ]
    },
    {
     "name": "stdout",
     "output_type": "stream",
     "text": [
      "\u001b[36m(launch_and_fit pid=12704)\u001b[0m \tTrain Epoch: 9 \tTrain_loss: 0.0006 | Train_acc: 100.0000 % | Validation_loss: 0.4415 | Validation_acc: 88.1875 %\u001b[32m [repeated 4x across cluster]\u001b[0m\n",
      "\u001b[36m(launch_and_fit pid=12704)\u001b[0m save graph in  results/FL/\n"
     ]
    },
    {
     "name": "stderr",
     "output_type": "stream",
     "text": [
      "100%|\u001b[34m██████████\u001b[0m| 10/10 [00:41<00:00,  4.11s/it]\u001b[32m [repeated 4x across cluster]\u001b[0m\n"
     ]
    },
    {
     "name": "stdout",
     "output_type": "stream",
     "text": [
      "\u001b[36m(launch_and_fit pid=12704)\u001b[0m features.0.weight 6.4373016357421875e-06\n",
      "\u001b[36m(launch_and_fit pid=12704)\u001b[0m features.0.bias 1.6689300537109375e-06\n",
      "\u001b[36m(launch_and_fit pid=12704)\u001b[0m features.3.weight 1.430511474609375e-06\n",
      "\u001b[36m(launch_and_fit pid=12704)\u001b[0m features.3.bias 1.9073486328125e-06\n",
      "\u001b[36m(launch_and_fit pid=12704)\u001b[0m classifier.0.weight 1.6689300537109375e-06\n",
      "\u001b[36m(launch_and_fit pid=12704)\u001b[0m classifier.0.bias 1.6689300537109375e-06\n",
      "\u001b[36m(launch_and_fit pid=12704)\u001b[0m classifier.2.weight 1.6689300537109375e-06\n",
      "\u001b[36m(launch_and_fit pid=12704)\u001b[0m classifier.2.bias 1.430511474609375e-06\n",
      "\u001b[36m(launch_and_fit pid=12704)\u001b[0m classifier.3.weights 1.6689300537109375e-06\n",
      "\u001b[36m(launch_and_fit pid=12704)\u001b[0m classifier.4.weight 1.6689300537109375e-06\n",
      "\u001b[36m(launch_and_fit pid=12704)\u001b[0m classifier.4.bias 1.9073486328125e-06\n",
      "\u001b[36m(launch_and_fit pid=12703)\u001b[0m \tTrain Epoch: 10 \tTrain_loss: 0.1062 | Train_acc: 97.2426 % | Validation_loss: 0.7290 | Validation_acc: 83.7500 %\u001b[32m [repeated 3x across cluster]\u001b[0m\n",
      "\u001b[36m(launch_and_fit pid=12785)\u001b[0m Run with homomorphic encryption\n",
      "\u001b[36m(launch_and_fit pid=12703)\u001b[0m save graph in  results/FL/\n",
      "\u001b[36m(launch_and_fit pid=12703)\u001b[0m classifier.4.bias 9.5367431640625e-07\u001b[32m [repeated 11x across cluster]\u001b[0m\n",
      "\u001b[36m(launch_and_fit pid=12785)\u001b[0m [Client 2, round 16] fit, config: {'learning_rate': 0.003, 'batch_size': '32', 'server_round': 16, 'local_epochs': 10}\n",
      "\u001b[36m(launch_and_fit pid=12785)\u001b[0m Updated model\n"
     ]
    },
    {
     "name": "stderr",
     "output_type": "stream",
     "text": [
      "  0%|\u001b[34m          \u001b[0m| 0/10 [00:00<?, ?it/s]\n",
      "100%|\u001b[34m██████████\u001b[0m| 10/10 [00:41<00:00,  4.13s/it]\n"
     ]
    },
    {
     "name": "stdout",
     "output_type": "stream",
     "text": [
      "\u001b[36m(launch_and_fit pid=12785)\u001b[0m \tTrain Epoch: 1 \tTrain_loss: 0.0432 | Train_acc: 98.7132 % | Validation_loss: 0.6782 | Validation_acc: 87.3125 %\n",
      "\u001b[36m(launch_and_fit pid=12787)\u001b[0m Run with homomorphic encryption\n",
      "\u001b[36m(launch_and_fit pid=12787)\u001b[0m [Client 4, round 16] fit, config: {'learning_rate': 0.003, 'batch_size': '32', 'server_round': 16, 'local_epochs': 10}\n"
     ]
    },
    {
     "name": "stderr",
     "output_type": "stream",
     "text": [
      " 10%|\u001b[34m█         \u001b[0m| 1/10 [00:04<00:41,  4.56s/it]\n",
      "  0%|\u001b[34m          \u001b[0m| 0/10 [00:00<?, ?it/s]\n"
     ]
    },
    {
     "name": "stdout",
     "output_type": "stream",
     "text": [
      "\u001b[36m(launch_and_fit pid=12787)\u001b[0m Updated model\n",
      "\u001b[36m(launch_and_fit pid=12785)\u001b[0m \tTrain Epoch: 3 \tTrain_loss: 0.0171 | Train_acc: 99.6324 % | Validation_loss: 0.4469 | Validation_acc: 87.3125 %\u001b[32m [repeated 4x across cluster]\u001b[0m\n"
     ]
    },
    {
     "name": "stderr",
     "output_type": "stream",
     "text": [
      " 30%|\u001b[34m███       \u001b[0m| 3/10 [00:12<00:29,  4.23s/it]\u001b[32m [repeated 4x across cluster]\u001b[0m\n",
      " 50%|\u001b[34m█████     \u001b[0m| 5/10 [00:20<00:20,  4.18s/it]\u001b[32m [repeated 4x across cluster]\u001b[0m\n"
     ]
    },
    {
     "name": "stdout",
     "output_type": "stream",
     "text": [
      "\u001b[36m(launch_and_fit pid=12787)\u001b[0m \tTrain Epoch: 5 \tTrain_loss: 0.0008 | Train_acc: 100.0000 % | Validation_loss: 0.3741 | Validation_acc: 89.7500 %\u001b[32m [repeated 4x across cluster]\u001b[0m\n"
     ]
    },
    {
     "name": "stderr",
     "output_type": "stream",
     "text": [
      " 70%|\u001b[34m███████   \u001b[0m| 7/10 [00:29<00:12,  4.20s/it]\u001b[32m [repeated 4x across cluster]\u001b[0m\n"
     ]
    },
    {
     "name": "stdout",
     "output_type": "stream",
     "text": [
      "\u001b[36m(launch_and_fit pid=12787)\u001b[0m \tTrain Epoch: 7 \tTrain_loss: 0.0006 | Train_acc: 100.0000 % | Validation_loss: 0.3901 | Validation_acc: 91.7500 %\u001b[32m [repeated 4x across cluster]\u001b[0m\n"
     ]
    },
    {
     "name": "stderr",
     "output_type": "stream",
     "text": [
      " 90%|\u001b[34m█████████ \u001b[0m| 9/10 [00:37<00:04,  4.14s/it]\u001b[32m [repeated 4x across cluster]\u001b[0m\n"
     ]
    },
    {
     "name": "stdout",
     "output_type": "stream",
     "text": [
      "\u001b[36m(launch_and_fit pid=12787)\u001b[0m \tTrain Epoch: 9 \tTrain_loss: 0.0005 | Train_acc: 100.0000 % | Validation_loss: 0.3944 | Validation_acc: 91.7500 %\u001b[32m [repeated 4x across cluster]\u001b[0m\n",
      "\u001b[36m(launch_and_fit pid=12787)\u001b[0m save graph in  results/FL/\n",
      "\u001b[36m(launch_and_fit pid=12787)\u001b[0m features.0.weight 4.76837158203125e-06\n",
      "\u001b[36m(launch_and_fit pid=12787)\u001b[0m features.0.bias 1.6689300537109375e-06\n",
      "\u001b[36m(launch_and_fit pid=12787)\u001b[0m features.3.weight 1.1920928955078125e-06\n",
      "\u001b[36m(launch_and_fit pid=12787)\u001b[0m features.3.bias 1.1920928955078125e-06\n",
      "\u001b[36m(launch_and_fit pid=12787)\u001b[0m classifier.0.weight 1.1920928955078125e-06\n",
      "\u001b[36m(launch_and_fit pid=12787)\u001b[0m classifier.0.bias 1.1920928955078125e-06\n",
      "\u001b[36m(launch_and_fit pid=12787)\u001b[0m classifier.2.weight 1.1920928955078125e-06\n",
      "\u001b[36m(launch_and_fit pid=12787)\u001b[0m classifier.2.bias 1.1920928955078125e-06\n",
      "\u001b[36m(launch_and_fit pid=12787)\u001b[0m classifier.3.weights 1.430511474609375e-06\n",
      "\u001b[36m(launch_and_fit pid=12787)\u001b[0m classifier.4.weight 1.1920928955078125e-06\n",
      "\u001b[36m(launch_and_fit pid=12787)\u001b[0m classifier.4.bias 1.1920928955078125e-06\n",
      "\u001b[36m(launch_and_fit pid=12867)\u001b[0m Run with homomorphic encryption\n",
      "\u001b[36m(launch_and_fit pid=12785)\u001b[0m \tTrain Epoch: 10 \tTrain_loss: 0.0010 | Train_acc: 100.0000 % | Validation_loss: 0.4919 | Validation_acc: 85.7500 %\u001b[32m [repeated 3x across cluster]\u001b[0m\n",
      "\u001b[36m(launch_and_fit pid=12785)\u001b[0m save graph in  results/FL/\n",
      "\u001b[36m(launch_and_fit pid=12785)\u001b[0m classifier.4.bias 1.1920928955078125e-06\u001b[32m [repeated 11x across cluster]\u001b[0m\n",
      "\u001b[36m(launch_and_fit pid=12867)\u001b[0m [Client 3, round 16] fit, config: {'learning_rate': 0.003, 'batch_size': '32', 'server_round': 16, 'local_epochs': 10}\n",
      "\u001b[36m(launch_and_fit pid=12867)\u001b[0m Updated model\n"
     ]
    },
    {
     "name": "stderr",
     "output_type": "stream",
     "text": [
      "  0%|\u001b[34m          \u001b[0m| 0/10 [00:00<?, ?it/s]\n",
      "100%|\u001b[34m██████████\u001b[0m| 10/10 [00:42<00:00,  4.23s/it]\u001b[32m [repeated 3x across cluster]\u001b[0m\n"
     ]
    },
    {
     "name": "stdout",
     "output_type": "stream",
     "text": [
      "\u001b[36m(launch_and_fit pid=12869)\u001b[0m Run with homomorphic encryption\n",
      "\u001b[36m(launch_and_fit pid=12867)\u001b[0m \tTrain Epoch: 1 \tTrain_loss: 0.0316 | Train_acc: 98.8971 % | Validation_loss: 0.3495 | Validation_acc: 83.7500 %\n",
      "\u001b[36m(launch_and_fit pid=12869)\u001b[0m [Client 9, round 16] fit, config: {'learning_rate': 0.003, 'batch_size': '32', 'server_round': 16, 'local_epochs': 10}\n"
     ]
    },
    {
     "name": "stderr",
     "output_type": "stream",
     "text": [
      "  0%|\u001b[34m          \u001b[0m| 0/10 [00:00<?, ?it/s]\n",
      " 10%|\u001b[34m█         \u001b[0m| 1/10 [00:04<00:41,  4.56s/it]\u001b[32m [repeated 2x across cluster]\u001b[0m\n"
     ]
    },
    {
     "name": "stdout",
     "output_type": "stream",
     "text": [
      "\u001b[36m(launch_and_fit pid=12869)\u001b[0m \tTrain Epoch: 1 \tTrain_loss: 0.0403 | Train_acc: 98.8971 % | Validation_loss: 0.6678 | Validation_acc: 82.1875 %\n",
      "\u001b[36m(launch_and_fit pid=12869)\u001b[0m Updated model\n",
      "\u001b[36m(launch_and_fit pid=12867)\u001b[0m \tTrain Epoch: 3 \tTrain_loss: 0.0050 | Train_acc: 99.8162 % | Validation_loss: 0.3436 | Validation_acc: 89.7500 %\u001b[32m [repeated 3x across cluster]\u001b[0m\n"
     ]
    },
    {
     "name": "stderr",
     "output_type": "stream",
     "text": [
      " 30%|\u001b[34m███       \u001b[0m| 3/10 [00:13<00:30,  4.29s/it]\u001b[32m [repeated 3x across cluster]\u001b[0m\n"
     ]
    },
    {
     "name": "stdout",
     "output_type": "stream",
     "text": [
      "\u001b[36m(launch_and_fit pid=12867)\u001b[0m \tTrain Epoch: 5 \tTrain_loss: 0.0202 | Train_acc: 99.2647 % | Validation_loss: 0.2973 | Validation_acc: 90.4375 %\u001b[32m [repeated 4x across cluster]\u001b[0m\n"
     ]
    },
    {
     "name": "stderr",
     "output_type": "stream",
     "text": [
      " 50%|\u001b[34m█████     \u001b[0m| 5/10 [00:21<00:20,  4.19s/it]\u001b[32m [repeated 4x across cluster]\u001b[0m\n",
      " 70%|\u001b[34m███████   \u001b[0m| 7/10 [00:29<00:12,  4.11s/it]\u001b[32m [repeated 4x across cluster]\u001b[0m\n"
     ]
    },
    {
     "name": "stdout",
     "output_type": "stream",
     "text": [
      "\u001b[36m(launch_and_fit pid=12869)\u001b[0m \tTrain Epoch: 7 \tTrain_loss: 0.0047 | Train_acc: 99.8162 % | Validation_loss: 0.6147 | Validation_acc: 84.1875 %\u001b[32m [repeated 4x across cluster]\u001b[0m\n"
     ]
    },
    {
     "name": "stderr",
     "output_type": "stream",
     "text": [
      " 90%|\u001b[34m█████████ \u001b[0m| 9/10 [00:37<00:04,  4.04s/it]\u001b[32m [repeated 4x across cluster]\u001b[0m\n"
     ]
    },
    {
     "name": "stdout",
     "output_type": "stream",
     "text": [
      "\u001b[36m(launch_and_fit pid=12869)\u001b[0m \tTrain Epoch: 9 \tTrain_loss: 0.0089 | Train_acc: 99.6324 % | Validation_loss: 0.7498 | Validation_acc: 82.1875 %\u001b[32m [repeated 4x across cluster]\u001b[0m\n",
      "\u001b[36m(launch_and_fit pid=12869)\u001b[0m save graph in  results/FL/\n",
      "\u001b[36m(launch_and_fit pid=12869)\u001b[0m features.0.weight 6.198883056640625e-06\n",
      "\u001b[36m(launch_and_fit pid=12869)\u001b[0m features.0.bias 1.1920928955078125e-06\n",
      "\u001b[36m(launch_and_fit pid=12869)\u001b[0m features.3.weight 9.5367431640625e-07\n",
      "\u001b[36m(launch_and_fit pid=12869)\u001b[0m features.3.bias 1.430511474609375e-06\n",
      "\u001b[36m(launch_and_fit pid=12869)\u001b[0m classifier.0.weight 1.1920928955078125e-06\n",
      "\u001b[36m(launch_and_fit pid=12869)\u001b[0m classifier.0.bias 1.1920928955078125e-06\n",
      "\u001b[36m(launch_and_fit pid=12869)\u001b[0m classifier.2.weight 1.1920928955078125e-06\n",
      "\u001b[36m(launch_and_fit pid=12869)\u001b[0m classifier.2.bias 1.1920928955078125e-06\n",
      "\u001b[36m(launch_and_fit pid=12869)\u001b[0m classifier.3.weights 1.1920928955078125e-06\n",
      "\u001b[36m(launch_and_fit pid=12869)\u001b[0m classifier.4.weight 1.1920928955078125e-06\n",
      "\u001b[36m(launch_and_fit pid=12869)\u001b[0m classifier.4.bias 9.5367431640625e-07\n",
      "\u001b[36m(launch_and_fit pid=12867)\u001b[0m \tTrain Epoch: 10 \tTrain_loss: 0.0029 | Train_acc: 100.0000 % | Validation_loss: 0.6276 | Validation_acc: 80.1875 %\u001b[32m [repeated 3x across cluster]\u001b[0m\n",
      "\u001b[36m(launch_and_fit pid=12949)\u001b[0m Run with homomorphic encryption\n",
      "\u001b[36m(launch_and_fit pid=12867)\u001b[0m save graph in  results/FL/\n",
      "\u001b[36m(launch_and_fit pid=12867)\u001b[0m classifier.4.bias 1.6689300537109375e-06\u001b[32m [repeated 11x across cluster]\u001b[0m\n",
      "\u001b[36m(launch_and_fit pid=12949)\u001b[0m [Client 5, round 16] fit, config: {'learning_rate': 0.003, 'batch_size': '32', 'server_round': 16, 'local_epochs': 10}\n"
     ]
    },
    {
     "name": "stderr",
     "output_type": "stream",
     "text": [
      "  0%|\u001b[34m          \u001b[0m| 0/10 [00:00<?, ?it/s]\n",
      "100%|\u001b[34m██████████\u001b[0m| 10/10 [00:42<00:00,  4.22s/it]\u001b[32m [repeated 3x across cluster]\u001b[0m\n"
     ]
    },
    {
     "name": "stdout",
     "output_type": "stream",
     "text": [
      "\u001b[36m(launch_and_fit pid=12949)\u001b[0m Updated model\n",
      "\u001b[36m(launch_and_fit pid=12949)\u001b[0m \tTrain Epoch: 1 \tTrain_loss: 0.0414 | Train_acc: 98.8971 % | Validation_loss: 0.3517 | Validation_acc: 88.6250 %\n",
      "\u001b[36m(launch_and_fit pid=12951)\u001b[0m Run with homomorphic encryption\n",
      "\u001b[36m(launch_and_fit pid=12951)\u001b[0m [Client 8, round 16] fit, config: {'learning_rate': 0.003, 'batch_size': '32', 'server_round': 16, 'local_epochs': 10}\n",
      "\u001b[36m(launch_and_fit pid=12951)\u001b[0m Updated model\n"
     ]
    },
    {
     "name": "stderr",
     "output_type": "stream",
     "text": [
      "  0%|\u001b[34m          \u001b[0m| 0/10 [00:00<?, ?it/s]\n",
      " 10%|\u001b[34m█         \u001b[0m| 1/10 [00:04<00:42,  4.67s/it]\u001b[32m [repeated 2x across cluster]\u001b[0m\n",
      " 30%|\u001b[34m███       \u001b[0m| 3/10 [00:12<00:29,  4.19s/it]\u001b[32m [repeated 3x across cluster]\u001b[0m\n"
     ]
    },
    {
     "name": "stdout",
     "output_type": "stream",
     "text": [
      "\u001b[36m(launch_and_fit pid=12949)\u001b[0m \tTrain Epoch: 3 \tTrain_loss: 0.0065 | Train_acc: 99.8162 % | Validation_loss: 0.2734 | Validation_acc: 90.1875 %\u001b[32m [repeated 4x across cluster]\u001b[0m\n"
     ]
    },
    {
     "name": "stderr",
     "output_type": "stream",
     "text": [
      " 50%|\u001b[34m█████     \u001b[0m| 5/10 [00:20<00:20,  4.08s/it]\u001b[32m [repeated 4x across cluster]\u001b[0m\n"
     ]
    },
    {
     "name": "stdout",
     "output_type": "stream",
     "text": [
      "\u001b[36m(launch_and_fit pid=12949)\u001b[0m \tTrain Epoch: 5 \tTrain_loss: 0.0041 | Train_acc: 100.0000 % | Validation_loss: 0.2640 | Validation_acc: 90.1875 %\u001b[32m [repeated 4x across cluster]\u001b[0m\n"
     ]
    },
    {
     "name": "stderr",
     "output_type": "stream",
     "text": [
      " 70%|\u001b[34m███████   \u001b[0m| 7/10 [00:28<00:12,  4.03s/it]\u001b[32m [repeated 4x across cluster]\u001b[0m\n"
     ]
    },
    {
     "name": "stdout",
     "output_type": "stream",
     "text": [
      "\u001b[36m(launch_and_fit pid=12949)\u001b[0m \tTrain Epoch: 7 \tTrain_loss: 0.0018 | Train_acc: 100.0000 % | Validation_loss: 0.2885 | Validation_acc: 90.1875 %\u001b[32m [repeated 4x across cluster]\u001b[0m\n",
      "\u001b[36m(launch_and_fit pid=12951)\u001b[0m \tTrain Epoch: 8 \tTrain_loss: 0.0206 | Train_acc: 99.6324 % | Validation_loss: 0.4735 | Validation_acc: 85.3125 %\u001b[32m [repeated 3x across cluster]\u001b[0m\n"
     ]
    },
    {
     "name": "stderr",
     "output_type": "stream",
     "text": [
      " 80%|\u001b[34m████████  \u001b[0m| 8/10 [00:33<00:08,  4.17s/it]\u001b[32m [repeated 3x across cluster]\u001b[0m\n",
      "100%|\u001b[34m██████████\u001b[0m| 10/10 [00:41<00:00,  4.11s/it]\u001b[32m [repeated 3x across cluster]\u001b[0m\n"
     ]
    },
    {
     "name": "stdout",
     "output_type": "stream",
     "text": [
      "\u001b[36m(launch_and_fit pid=12949)\u001b[0m save graph in  results/FL/\n",
      "\u001b[36m(launch_and_fit pid=12949)\u001b[0m \tTrain Epoch: 10 \tTrain_loss: 0.0015 | Train_acc: 100.0000 % | Validation_loss: 0.2867 | Validation_acc: 85.0625 %\u001b[32m [repeated 3x across cluster]\u001b[0m\n",
      "\u001b[36m(launch_and_fit pid=12949)\u001b[0m features.0.weight 5.9604644775390625e-06\n",
      "\u001b[36m(launch_and_fit pid=12949)\u001b[0m features.0.bias 1.6689300537109375e-06\n",
      "\u001b[36m(launch_and_fit pid=12949)\u001b[0m features.3.weight 9.5367431640625e-07\n",
      "\u001b[36m(launch_and_fit pid=12949)\u001b[0m features.3.bias 1.1920928955078125e-06\n",
      "\u001b[36m(launch_and_fit pid=12949)\u001b[0m classifier.0.weight 1.1920928955078125e-06\n",
      "\u001b[36m(launch_and_fit pid=12949)\u001b[0m classifier.0.bias 9.5367431640625e-07\n",
      "\u001b[36m(launch_and_fit pid=12949)\u001b[0m classifier.2.weight 1.430511474609375e-06\n",
      "\u001b[36m(launch_and_fit pid=12949)\u001b[0m classifier.2.bias 9.5367431640625e-07\n",
      "\u001b[36m(launch_and_fit pid=12949)\u001b[0m classifier.3.weights 1.6689300537109375e-06\n",
      "\u001b[36m(launch_and_fit pid=12949)\u001b[0m classifier.4.weight 1.430511474609375e-06\n",
      "\u001b[36m(launch_and_fit pid=12949)\u001b[0m classifier.4.bias 9.5367431640625e-07\n",
      "\u001b[36m(launch_and_fit pid=13031)\u001b[0m Run with homomorphic encryption\n",
      "\u001b[36m(launch_and_fit pid=12951)\u001b[0m save graph in  results/FL/\n",
      "\u001b[36m(launch_and_fit pid=12951)\u001b[0m \tTrain Epoch: 10 \tTrain_loss: 0.0296 | Train_acc: 99.2647 % | Validation_loss: 0.6609 | Validation_acc: 80.1875 %\n",
      "\u001b[36m(launch_and_fit pid=12951)\u001b[0m classifier.4.bias 9.5367431640625e-07\u001b[32m [repeated 11x across cluster]\u001b[0m\n",
      "\u001b[36m(launch_and_fit pid=13031)\u001b[0m [Client 7, round 16] fit, config: {'learning_rate': 0.003, 'batch_size': '32', 'server_round': 16, 'local_epochs': 10}\n",
      "\u001b[36m(launch_and_fit pid=13031)\u001b[0m Updated model\n"
     ]
    },
    {
     "name": "stderr",
     "output_type": "stream",
     "text": [
      "  0%|\u001b[34m          \u001b[0m| 0/10 [00:00<?, ?it/s]\n",
      "100%|\u001b[34m██████████\u001b[0m| 10/10 [00:41<00:00,  4.14s/it]\n"
     ]
    },
    {
     "name": "stdout",
     "output_type": "stream",
     "text": [
      "\u001b[36m(launch_and_fit pid=13031)\u001b[0m \tTrain Epoch: 1 \tTrain_loss: 0.0210 | Train_acc: 99.4485 % | Validation_loss: 0.4404 | Validation_acc: 89.3125 %\n",
      "\u001b[36m(launch_and_fit pid=13056)\u001b[0m Run with homomorphic encryption\n",
      "\u001b[36m(launch_and_fit pid=13056)\u001b[0m [Client 6, round 16] fit, config: {'learning_rate': 0.003, 'batch_size': '32', 'server_round': 16, 'local_epochs': 10}\n"
     ]
    },
    {
     "name": "stderr",
     "output_type": "stream",
     "text": [
      " 10%|\u001b[34m█         \u001b[0m| 1/10 [00:04<00:40,  4.49s/it]\n"
     ]
    },
    {
     "name": "stdout",
     "output_type": "stream",
     "text": [
      "\u001b[36m(launch_and_fit pid=13056)\u001b[0m Updated model\n"
     ]
    },
    {
     "name": "stderr",
     "output_type": "stream",
     "text": [
      "  0%|\u001b[34m          \u001b[0m| 0/10 [00:00<?, ?it/s]\n"
     ]
    },
    {
     "name": "stdout",
     "output_type": "stream",
     "text": [
      "\u001b[36m(launch_and_fit pid=13031)\u001b[0m \tTrain Epoch: 3 \tTrain_loss: 0.0044 | Train_acc: 99.8162 % | Validation_loss: 0.5266 | Validation_acc: 85.3125 %\u001b[32m [repeated 4x across cluster]\u001b[0m\n"
     ]
    },
    {
     "name": "stderr",
     "output_type": "stream",
     "text": [
      " 30%|\u001b[34m███       \u001b[0m| 3/10 [00:12<00:29,  4.25s/it]\u001b[32m [repeated 4x across cluster]\u001b[0m\n"
     ]
    },
    {
     "name": "stdout",
     "output_type": "stream",
     "text": [
      "\u001b[36m(launch_and_fit pid=13031)\u001b[0m \tTrain Epoch: 5 \tTrain_loss: 0.0028 | Train_acc: 99.8162 % | Validation_loss: 0.5496 | Validation_acc: 85.3125 %\u001b[32m [repeated 4x across cluster]\u001b[0m\n"
     ]
    },
    {
     "name": "stderr",
     "output_type": "stream",
     "text": [
      " 50%|\u001b[34m█████     \u001b[0m| 5/10 [00:21<00:20,  4.14s/it]\u001b[32m [repeated 4x across cluster]\u001b[0m\n"
     ]
    },
    {
     "name": "stdout",
     "output_type": "stream",
     "text": [
      "\u001b[36m(launch_and_fit pid=13031)\u001b[0m \tTrain Epoch: 7 \tTrain_loss: 0.0211 | Train_acc: 99.4485 % | Validation_loss: 0.4838 | Validation_acc: 82.1875 %\u001b[32m [repeated 4x across cluster]\u001b[0m\n"
     ]
    },
    {
     "name": "stderr",
     "output_type": "stream",
     "text": [
      " 70%|\u001b[34m███████   \u001b[0m| 7/10 [00:29<00:12,  4.12s/it]\u001b[32m [repeated 4x across cluster]\u001b[0m\n"
     ]
    },
    {
     "name": "stdout",
     "output_type": "stream",
     "text": [
      "\u001b[36m(launch_and_fit pid=13031)\u001b[0m \tTrain Epoch: 9 \tTrain_loss: 0.0358 | Train_acc: 99.2647 % | Validation_loss: 0.5259 | Validation_acc: 87.3125 %\u001b[32m [repeated 4x across cluster]\u001b[0m\n"
     ]
    },
    {
     "name": "stderr",
     "output_type": "stream",
     "text": [
      " 90%|\u001b[34m█████████ \u001b[0m| 9/10 [00:37<00:04,  4.11s/it]\u001b[32m [repeated 4x across cluster]\u001b[0m\n"
     ]
    },
    {
     "name": "stdout",
     "output_type": "stream",
     "text": [
      "\u001b[36m(launch_and_fit pid=13031)\u001b[0m save graph in  results/FL/\n",
      "\u001b[36m(launch_and_fit pid=13031)\u001b[0m features.0.weight 5.4836273193359375e-06\n",
      "\u001b[36m(launch_and_fit pid=13031)\u001b[0m features.0.bias 1.6689300537109375e-06\n",
      "\u001b[36m(launch_and_fit pid=13031)\u001b[0m features.3.weight 1.1920928955078125e-06\n",
      "\u001b[36m(launch_and_fit pid=13031)\u001b[0m features.3.bias 1.430511474609375e-06\n",
      "\u001b[36m(launch_and_fit pid=13031)\u001b[0m classifier.0.weight 1.1920928955078125e-06\n",
      "\u001b[36m(launch_and_fit pid=13031)\u001b[0m classifier.0.bias 1.1920928955078125e-06\n",
      "\u001b[36m(launch_and_fit pid=13031)\u001b[0m classifier.2.weight 9.5367431640625e-07\n",
      "\u001b[36m(launch_and_fit pid=13031)\u001b[0m classifier.2.bias 1.1920928955078125e-06\n",
      "\u001b[36m(launch_and_fit pid=13031)\u001b[0m classifier.3.weights 1.430511474609375e-06\n",
      "\u001b[36m(launch_and_fit pid=13031)\u001b[0m classifier.4.weight 1.1920928955078125e-06\n",
      "\u001b[36m(launch_and_fit pid=13031)\u001b[0m classifier.4.bias 1.1920928955078125e-06\n",
      "\u001b[36m(launch_and_fit pid=13056)\u001b[0m \tTrain Epoch: 10 \tTrain_loss: 0.0006 | Train_acc: 100.0000 % | Validation_loss: 0.4997 | Validation_acc: 87.7500 %\u001b[32m [repeated 3x across cluster]\u001b[0m\n"
     ]
    },
    {
     "name": "stderr",
     "output_type": "stream",
     "text": [
      "DEBUG flwr 2024-07-21 04:05:03,193 | server.py:236 | fit_round 16 received 10 results and 0 failures\n"
     ]
    },
    {
     "name": "stdout",
     "output_type": "stream",
     "text": [
      "Saving round 16 aggregated_parameters...\n"
     ]
    },
    {
     "name": "stderr",
     "output_type": "stream",
     "text": [
      "DEBUG flwr 2024-07-21 04:05:05,126 | server.py:173 | evaluate_round 16: strategy sampled 10 clients (out of 10)\n"
     ]
    },
    {
     "name": "stdout",
     "output_type": "stream",
     "text": [
      "\u001b[36m(launch_and_evaluate pid=13122)\u001b[0m Run with homomorphic encryption\n",
      "\u001b[36m(launch_and_fit pid=13056)\u001b[0m save graph in  results/FL/\n",
      "\u001b[36m(launch_and_fit pid=13056)\u001b[0m classifier.4.bias 9.5367431640625e-07\u001b[32m [repeated 11x across cluster]\u001b[0m\n",
      "\u001b[36m(launch_and_evaluate pid=13122)\u001b[0m [Client 9] evaluate, config: {}\n",
      "\u001b[36m(launch_and_evaluate pid=13122)\u001b[0m Updated model\n",
      "\u001b[36m(launch_and_evaluate pid=13201)\u001b[0m Run with homomorphic encryption\u001b[32m [repeated 2x across cluster]\u001b[0m\n",
      "\u001b[36m(launch_and_evaluate pid=13123)\u001b[0m [Client 5] evaluate, config: {}\n",
      "\u001b[36m(launch_and_evaluate pid=13123)\u001b[0m Updated model\n",
      "\u001b[36m(launch_and_evaluate pid=13203)\u001b[0m [Client 2] evaluate, config: {}\n",
      "\u001b[36m(launch_and_evaluate pid=13201)\u001b[0m Updated model\n",
      "\u001b[36m(launch_and_evaluate pid=13279)\u001b[0m Run with homomorphic encryption\u001b[32m [repeated 2x across cluster]\u001b[0m\n",
      "\u001b[36m(launch_and_evaluate pid=13201)\u001b[0m [Client 6] evaluate, config: {}\n",
      "\u001b[36m(launch_and_evaluate pid=13203)\u001b[0m Updated model\n",
      "\u001b[36m(launch_and_evaluate pid=13281)\u001b[0m [Client 0] evaluate, config: {}\n",
      "\u001b[36m(launch_and_evaluate pid=13279)\u001b[0m Updated model\n",
      "\u001b[36m(launch_and_evaluate pid=13359)\u001b[0m Run with homomorphic encryption\u001b[32m [repeated 2x across cluster]\u001b[0m\n",
      "\u001b[36m(launch_and_evaluate pid=13279)\u001b[0m [Client 7] evaluate, config: {}\n",
      "\u001b[36m(launch_and_evaluate pid=13281)\u001b[0m Updated model\n",
      "\u001b[36m(launch_and_evaluate pid=13359)\u001b[0m [Client 3] evaluate, config: {}\n",
      "\u001b[36m(launch_and_evaluate pid=13359)\u001b[0m Updated model\n",
      "\u001b[36m(launch_and_evaluate pid=13435)\u001b[0m Run with homomorphic encryption\u001b[32m [repeated 2x across cluster]\u001b[0m\n",
      "\u001b[36m(launch_and_evaluate pid=13357)\u001b[0m [Client 4] evaluate, config: {}\n",
      "\u001b[36m(launch_and_evaluate pid=13357)\u001b[0m Updated model\n",
      "\u001b[36m(launch_and_evaluate pid=13435)\u001b[0m [Client 8] evaluate, config: {}\n",
      "\u001b[36m(launch_and_evaluate pid=13435)\u001b[0m Updated model\n"
     ]
    },
    {
     "name": "stderr",
     "output_type": "stream",
     "text": [
      "DEBUG flwr 2024-07-21 04:06:23,038 | server.py:187 | evaluate_round 16 received 10 results and 0 failures\n",
      "DEBUG flwr 2024-07-21 04:06:23,039 | server.py:222 | fit_round 17: strategy sampled 10 clients (out of 10)\n"
     ]
    },
    {
     "name": "stdout",
     "output_type": "stream",
     "text": [
      "\u001b[36m(launch_and_fit pid=13523)\u001b[0m Run with homomorphic encryption\u001b[32m [repeated 2x across cluster]\u001b[0m\n",
      "\u001b[36m(launch_and_evaluate pid=13437)\u001b[0m [Client 1] evaluate, config: {}\n",
      "\u001b[36m(launch_and_evaluate pid=13437)\u001b[0m Updated model\n",
      "\u001b[36m(launch_and_fit pid=13523)\u001b[0m [Client 7, round 17] fit, config: {'learning_rate': 0.003, 'batch_size': '32', 'server_round': 17, 'local_epochs': 10}\n"
     ]
    },
    {
     "name": "stderr",
     "output_type": "stream",
     "text": [
      "  0%|\u001b[34m          \u001b[0m| 0/10 [00:00<?, ?it/s]\n",
      "100%|\u001b[34m██████████\u001b[0m| 10/10 [00:41<00:00,  4.18s/it]\u001b[32m [repeated 3x across cluster]\u001b[0m\n"
     ]
    },
    {
     "name": "stdout",
     "output_type": "stream",
     "text": [
      "\u001b[36m(launch_and_fit pid=13522)\u001b[0m Updated model\n",
      "\u001b[36m(launch_and_fit pid=13522)\u001b[0m \tTrain Epoch: 1 \tTrain_loss: 0.0254 | Train_acc: 99.4485 % | Validation_loss: 0.4302 | Validation_acc: 89.7500 %\n",
      "\u001b[36m(launch_and_fit pid=13522)\u001b[0m Run with homomorphic encryption\n",
      "\u001b[36m(launch_and_fit pid=13522)\u001b[0m [Client 8, round 17] fit, config: {'learning_rate': 0.003, 'batch_size': '32', 'server_round': 17, 'local_epochs': 10}\n"
     ]
    },
    {
     "name": "stderr",
     "output_type": "stream",
     "text": [
      "  0%|\u001b[34m          \u001b[0m| 0/10 [00:00<?, ?it/s]\n",
      " 20%|\u001b[34m██        \u001b[0m| 2/10 [00:08<00:34,  4.37s/it]\u001b[32m [repeated 3x across cluster]\u001b[0m\n"
     ]
    },
    {
     "name": "stdout",
     "output_type": "stream",
     "text": [
      "\u001b[36m(launch_and_fit pid=13523)\u001b[0m Updated model\n",
      "\u001b[36m(launch_and_fit pid=13522)\u001b[0m \tTrain Epoch: 3 \tTrain_loss: 0.0038 | Train_acc: 100.0000 % | Validation_loss: 0.3212 | Validation_acc: 89.3125 %\u001b[32m [repeated 4x across cluster]\u001b[0m\n"
     ]
    },
    {
     "name": "stderr",
     "output_type": "stream",
     "text": [
      " 40%|\u001b[34m████      \u001b[0m| 4/10 [00:16<00:25,  4.18s/it]\u001b[32m [repeated 4x across cluster]\u001b[0m\n"
     ]
    },
    {
     "name": "stdout",
     "output_type": "stream",
     "text": [
      "\u001b[36m(launch_and_fit pid=13522)\u001b[0m \tTrain Epoch: 5 \tTrain_loss: 0.0006 | Train_acc: 100.0000 % | Validation_loss: 0.3746 | Validation_acc: 89.3125 %\u001b[32m [repeated 4x across cluster]\u001b[0m\n"
     ]
    },
    {
     "name": "stderr",
     "output_type": "stream",
     "text": [
      " 60%|\u001b[34m██████    \u001b[0m| 6/10 [00:25<00:16,  4.11s/it]\u001b[32m [repeated 4x across cluster]\u001b[0m\n"
     ]
    },
    {
     "name": "stdout",
     "output_type": "stream",
     "text": [
      "\u001b[36m(launch_and_fit pid=13522)\u001b[0m \tTrain Epoch: 7 \tTrain_loss: 0.0004 | Train_acc: 100.0000 % | Validation_loss: 0.3808 | Validation_acc: 89.3125 %\u001b[32m [repeated 4x across cluster]\u001b[0m\n"
     ]
    },
    {
     "name": "stderr",
     "output_type": "stream",
     "text": [
      " 80%|\u001b[34m████████  \u001b[0m| 8/10 [00:33<00:08,  4.15s/it]\u001b[32m [repeated 4x across cluster]\u001b[0m\n"
     ]
    },
    {
     "name": "stdout",
     "output_type": "stream",
     "text": [
      "\u001b[36m(launch_and_fit pid=13522)\u001b[0m \tTrain Epoch: 9 \tTrain_loss: 0.0004 | Train_acc: 100.0000 % | Validation_loss: 0.3762 | Validation_acc: 87.3125 %\u001b[32m [repeated 4x across cluster]\u001b[0m\n"
     ]
    },
    {
     "name": "stderr",
     "output_type": "stream",
     "text": [
      "100%|\u001b[34m██████████\u001b[0m| 10/10 [00:41<00:00,  4.16s/it]\u001b[32m [repeated 4x across cluster]\u001b[0m\n"
     ]
    },
    {
     "name": "stdout",
     "output_type": "stream",
     "text": [
      "\u001b[36m(launch_and_fit pid=13522)\u001b[0m save graph in  results/FL/\n",
      "\u001b[36m(launch_and_fit pid=13522)\u001b[0m features.0.weight 4.76837158203125e-06\n",
      "\u001b[36m(launch_and_fit pid=13522)\u001b[0m features.0.bias 1.6689300537109375e-06\n",
      "\u001b[36m(launch_and_fit pid=13522)\u001b[0m features.3.weight 9.5367431640625e-07\n",
      "\u001b[36m(launch_and_fit pid=13522)\u001b[0m features.3.bias 1.430511474609375e-06\n",
      "\u001b[36m(launch_and_fit pid=13522)\u001b[0m classifier.0.weight 1.1920928955078125e-06\n",
      "\u001b[36m(launch_and_fit pid=13522)\u001b[0m classifier.0.bias 9.5367431640625e-07\n",
      "\u001b[36m(launch_and_fit pid=13522)\u001b[0m classifier.2.weight 1.1920928955078125e-06\n",
      "\u001b[36m(launch_and_fit pid=13522)\u001b[0m classifier.2.bias 9.5367431640625e-07\n",
      "\u001b[36m(launch_and_fit pid=13522)\u001b[0m classifier.3.weights 1.1920928955078125e-06\n",
      "\u001b[36m(launch_and_fit pid=13522)\u001b[0m classifier.4.weight 9.5367431640625e-07\n",
      "\u001b[36m(launch_and_fit pid=13522)\u001b[0m classifier.4.bias 1.1920928955078125e-06\n",
      "\u001b[36m(launch_and_fit pid=13603)\u001b[0m Run with homomorphic encryption\n",
      "\u001b[36m(launch_and_fit pid=13523)\u001b[0m \tTrain Epoch: 10 \tTrain_loss: 0.0152 | Train_acc: 99.8162 % | Validation_loss: 0.5986 | Validation_acc: 87.7500 %\u001b[32m [repeated 3x across cluster]\u001b[0m\n",
      "\u001b[36m(launch_and_fit pid=13523)\u001b[0m save graph in  results/FL/\n",
      "\u001b[36m(launch_and_fit pid=13523)\u001b[0m classifier.4.bias 9.5367431640625e-07\u001b[32m [repeated 11x across cluster]\u001b[0m\n",
      "\u001b[36m(launch_and_fit pid=13603)\u001b[0m [Client 0, round 17] fit, config: {'learning_rate': 0.003, 'batch_size': '32', 'server_round': 17, 'local_epochs': 10}\n"
     ]
    },
    {
     "name": "stderr",
     "output_type": "stream",
     "text": [
      "  0%|\u001b[34m          \u001b[0m| 0/10 [00:00<?, ?it/s]\n",
      "100%|\u001b[34m██████████\u001b[0m| 10/10 [00:41<00:00,  4.16s/it]\n"
     ]
    },
    {
     "name": "stdout",
     "output_type": "stream",
     "text": [
      "\u001b[36m(launch_and_fit pid=13603)\u001b[0m Updated model\n"
     ]
    },
    {
     "name": "stderr",
     "output_type": "stream",
     "text": [
      " 10%|\u001b[34m█         \u001b[0m| 1/10 [00:04<00:43,  4.83s/it]\n"
     ]
    },
    {
     "name": "stdout",
     "output_type": "stream",
     "text": [
      "\u001b[36m(launch_and_fit pid=13605)\u001b[0m Run with homomorphic encryption\n",
      "\u001b[36m(launch_and_fit pid=13603)\u001b[0m \tTrain Epoch: 1 \tTrain_loss: 0.0596 | Train_acc: 98.1618 % | Validation_loss: 0.5732 | Validation_acc: 84.6250 %\n",
      "\u001b[36m(launch_and_fit pid=13605)\u001b[0m [Client 3, round 17] fit, config: {'learning_rate': 0.003, 'batch_size': '32', 'server_round': 17, 'local_epochs': 10}\n"
     ]
    },
    {
     "name": "stderr",
     "output_type": "stream",
     "text": [
      "  0%|\u001b[34m          \u001b[0m| 0/10 [00:00<?, ?it/s]\n"
     ]
    },
    {
     "name": "stdout",
     "output_type": "stream",
     "text": [
      "\u001b[36m(launch_and_fit pid=13605)\u001b[0m \tTrain Epoch: 1 \tTrain_loss: 0.0191 | Train_acc: 99.4485 % | Validation_loss: 0.3334 | Validation_acc: 87.7500 %\n",
      "\u001b[36m(launch_and_fit pid=13605)\u001b[0m Updated model\n"
     ]
    },
    {
     "name": "stderr",
     "output_type": "stream",
     "text": [
      " 30%|\u001b[34m███       \u001b[0m| 3/10 [00:12<00:29,  4.24s/it]\u001b[32m [repeated 4x across cluster]\u001b[0m\n"
     ]
    },
    {
     "name": "stdout",
     "output_type": "stream",
     "text": [
      "\u001b[36m(launch_and_fit pid=13603)\u001b[0m \tTrain Epoch: 3 \tTrain_loss: 0.0077 | Train_acc: 100.0000 % | Validation_loss: 0.4251 | Validation_acc: 88.1875 %\u001b[32m [repeated 3x across cluster]\u001b[0m\n"
     ]
    },
    {
     "name": "stderr",
     "output_type": "stream",
     "text": [
      " 50%|\u001b[34m█████     \u001b[0m| 5/10 [00:21<00:20,  4.16s/it]\u001b[32m [repeated 4x across cluster]\u001b[0m\n"
     ]
    },
    {
     "name": "stdout",
     "output_type": "stream",
     "text": [
      "\u001b[36m(launch_and_fit pid=13603)\u001b[0m \tTrain Epoch: 5 \tTrain_loss: 0.0027 | Train_acc: 100.0000 % | Validation_loss: 0.3969 | Validation_acc: 85.7500 %\u001b[32m [repeated 4x across cluster]\u001b[0m\n"
     ]
    },
    {
     "name": "stderr",
     "output_type": "stream",
     "text": [
      " 70%|\u001b[34m███████   \u001b[0m| 7/10 [00:29<00:12,  4.09s/it]\u001b[32m [repeated 4x across cluster]\u001b[0m\n"
     ]
    },
    {
     "name": "stdout",
     "output_type": "stream",
     "text": [
      "\u001b[36m(launch_and_fit pid=13603)\u001b[0m \tTrain Epoch: 7 \tTrain_loss: 0.0006 | Train_acc: 100.0000 % | Validation_loss: 0.3762 | Validation_acc: 89.7500 %\u001b[32m [repeated 4x across cluster]\u001b[0m\n"
     ]
    },
    {
     "name": "stderr",
     "output_type": "stream",
     "text": [
      " 80%|\u001b[34m████████  \u001b[0m| 8/10 [00:33<00:08,  4.15s/it]\u001b[32m [repeated 3x across cluster]\u001b[0m\n"
     ]
    },
    {
     "name": "stdout",
     "output_type": "stream",
     "text": [
      "\u001b[36m(launch_and_fit pid=13603)\u001b[0m \tTrain Epoch: 9 \tTrain_loss: 0.0005 | Train_acc: 100.0000 % | Validation_loss: 0.3692 | Validation_acc: 89.7500 %\u001b[32m [repeated 4x across cluster]\u001b[0m\n"
     ]
    },
    {
     "name": "stderr",
     "output_type": "stream",
     "text": [
      "100%|\u001b[34m██████████\u001b[0m| 10/10 [00:42<00:00,  4.20s/it]\u001b[32m [repeated 3x across cluster]\u001b[0m\n"
     ]
    },
    {
     "name": "stdout",
     "output_type": "stream",
     "text": [
      "\u001b[36m(launch_and_fit pid=13603)\u001b[0m save graph in  results/FL/\n",
      "\u001b[36m(launch_and_fit pid=13603)\u001b[0m features.0.weight 5.245208740234375e-06\n",
      "\u001b[36m(launch_and_fit pid=13603)\u001b[0m features.0.bias 1.6689300537109375e-06\n",
      "\u001b[36m(launch_and_fit pid=13603)\u001b[0m features.3.weight 1.1920928955078125e-06\n",
      "\u001b[36m(launch_and_fit pid=13603)\u001b[0m features.3.bias 1.430511474609375e-06\n",
      "\u001b[36m(launch_and_fit pid=13603)\u001b[0m classifier.0.weight 1.430511474609375e-06\n",
      "\u001b[36m(launch_and_fit pid=13603)\u001b[0m classifier.0.bias 9.5367431640625e-07\n",
      "\u001b[36m(launch_and_fit pid=13603)\u001b[0m classifier.2.weight 1.1920928955078125e-06\n",
      "\u001b[36m(launch_and_fit pid=13603)\u001b[0m classifier.2.bias 9.5367431640625e-07\n",
      "\u001b[36m(launch_and_fit pid=13603)\u001b[0m classifier.3.weights 1.1920928955078125e-06\n",
      "\u001b[36m(launch_and_fit pid=13603)\u001b[0m classifier.4.weight 1.430511474609375e-06\n",
      "\u001b[36m(launch_and_fit pid=13603)\u001b[0m classifier.4.bias 9.5367431640625e-07\n",
      "\u001b[36m(launch_and_fit pid=13605)\u001b[0m \tTrain Epoch: 10 \tTrain_loss: 0.0004 | Train_acc: 100.0000 % | Validation_loss: 0.4090 | Validation_acc: 82.1875 %\u001b[32m [repeated 3x across cluster]\u001b[0m\n",
      "\u001b[36m(launch_and_fit pid=13685)\u001b[0m Run with homomorphic encryption\n",
      "\u001b[36m(launch_and_fit pid=13605)\u001b[0m save graph in  results/FL/\n",
      "\u001b[36m(launch_and_fit pid=13605)\u001b[0m classifier.4.bias 1.1920928955078125e-06\u001b[32m [repeated 11x across cluster]\u001b[0m\n",
      "\u001b[36m(launch_and_fit pid=13685)\u001b[0m [Client 4, round 17] fit, config: {'learning_rate': 0.003, 'batch_size': '32', 'server_round': 17, 'local_epochs': 10}\n",
      "\u001b[36m(launch_and_fit pid=13685)\u001b[0m Updated model\n"
     ]
    },
    {
     "name": "stderr",
     "output_type": "stream",
     "text": [
      "  0%|\u001b[34m          \u001b[0m| 0/10 [00:00<?, ?it/s]\n",
      "100%|\u001b[34m██████████\u001b[0m| 10/10 [00:42<00:00,  4.24s/it]\n"
     ]
    },
    {
     "name": "stdout",
     "output_type": "stream",
     "text": [
      "\u001b[36m(launch_and_fit pid=13685)\u001b[0m \tTrain Epoch: 1 \tTrain_loss: 0.0180 | Train_acc: 99.6324 % | Validation_loss: 0.2253 | Validation_acc: 94.8750 %\n",
      "\u001b[36m(launch_and_fit pid=13710)\u001b[0m Run with homomorphic encryption\n",
      "\u001b[36m(launch_and_fit pid=13710)\u001b[0m [Client 1, round 17] fit, config: {'learning_rate': 0.003, 'batch_size': '32', 'server_round': 17, 'local_epochs': 10}\n"
     ]
    },
    {
     "name": "stderr",
     "output_type": "stream",
     "text": [
      " 10%|\u001b[34m█         \u001b[0m| 1/10 [00:04<00:41,  4.62s/it]\n",
      "  0%|\u001b[34m          \u001b[0m| 0/10 [00:00<?, ?it/s]\n"
     ]
    },
    {
     "name": "stdout",
     "output_type": "stream",
     "text": [
      "\u001b[36m(launch_and_fit pid=13710)\u001b[0m Updated model\n"
     ]
    },
    {
     "name": "stderr",
     "output_type": "stream",
     "text": [
      " 20%|\u001b[34m██        \u001b[0m| 2/10 [00:08<00:35,  4.45s/it]\u001b[32m [repeated 3x across cluster]\u001b[0m\n"
     ]
    },
    {
     "name": "stdout",
     "output_type": "stream",
     "text": [
      "\u001b[36m(launch_and_fit pid=13710)\u001b[0m \tTrain Epoch: 2 \tTrain_loss: 0.0101 | Train_acc: 99.6324 % | Validation_loss: 0.3708 | Validation_acc: 91.3125 %\u001b[32m [repeated 3x across cluster]\u001b[0m\n",
      "\u001b[36m(launch_and_fit pid=13685)\u001b[0m \tTrain Epoch: 4 \tTrain_loss: 0.0117 | Train_acc: 99.8162 % | Validation_loss: 0.3933 | Validation_acc: 88.1875 %\u001b[32m [repeated 3x across cluster]\u001b[0m\n"
     ]
    },
    {
     "name": "stderr",
     "output_type": "stream",
     "text": [
      " 40%|\u001b[34m████      \u001b[0m| 4/10 [00:17<00:25,  4.20s/it]\u001b[32m [repeated 3x across cluster]\u001b[0m\n",
      " 50%|\u001b[34m█████     \u001b[0m| 5/10 [00:21<00:21,  4.21s/it]\u001b[32m [repeated 3x across cluster]\u001b[0m\n"
     ]
    },
    {
     "name": "stdout",
     "output_type": "stream",
     "text": [
      "\u001b[36m(launch_and_fit pid=13710)\u001b[0m \tTrain Epoch: 5 \tTrain_loss: 0.0022 | Train_acc: 100.0000 % | Validation_loss: 0.3453 | Validation_acc: 91.7500 %\u001b[32m [repeated 3x across cluster]\u001b[0m\n",
      "\u001b[36m(launch_and_fit pid=13685)\u001b[0m \tTrain Epoch: 7 \tTrain_loss: 0.0208 | Train_acc: 99.8162 % | Validation_loss: 0.3564 | Validation_acc: 89.7500 %\u001b[32m [repeated 3x across cluster]\u001b[0m\n"
     ]
    },
    {
     "name": "stderr",
     "output_type": "stream",
     "text": [
      " 70%|\u001b[34m███████   \u001b[0m| 7/10 [00:29<00:12,  4.11s/it]\u001b[32m [repeated 3x across cluster]\u001b[0m\n",
      " 80%|\u001b[34m████████  \u001b[0m| 8/10 [00:33<00:08,  4.17s/it]\u001b[32m [repeated 3x across cluster]\u001b[0m\n"
     ]
    },
    {
     "name": "stdout",
     "output_type": "stream",
     "text": [
      "\u001b[36m(launch_and_fit pid=13710)\u001b[0m \tTrain Epoch: 8 \tTrain_loss: 0.0152 | Train_acc: 99.6324 % | Validation_loss: 0.5547 | Validation_acc: 91.3125 %\u001b[32m [repeated 3x across cluster]\u001b[0m\n",
      "\u001b[36m(launch_and_fit pid=13685)\u001b[0m save graph in  results/FL/\n",
      "\u001b[36m(launch_and_fit pid=13685)\u001b[0m \tTrain Epoch: 10 \tTrain_loss: 0.0522 | Train_acc: 98.3456 % | Validation_loss: 0.4817 | Validation_acc: 85.0625 %\u001b[32m [repeated 3x across cluster]\u001b[0m\n"
     ]
    },
    {
     "name": "stderr",
     "output_type": "stream",
     "text": [
      "100%|\u001b[34m██████████\u001b[0m| 10/10 [00:42<00:00,  4.25s/it]\u001b[32m [repeated 3x across cluster]\u001b[0m\n"
     ]
    },
    {
     "name": "stdout",
     "output_type": "stream",
     "text": [
      "\u001b[36m(launch_and_fit pid=13685)\u001b[0m features.0.weight 5.7220458984375e-06\n",
      "\u001b[36m(launch_and_fit pid=13685)\u001b[0m features.0.bias 1.4066696166992188e-05\n",
      "\u001b[36m(launch_and_fit pid=13685)\u001b[0m features.3.weight 1.9073486328125e-06\n",
      "\u001b[36m(launch_and_fit pid=13685)\u001b[0m features.3.bias 1.6689300537109375e-06\n",
      "\u001b[36m(launch_and_fit pid=13685)\u001b[0m classifier.0.weight 1.430511474609375e-06\n",
      "\u001b[36m(launch_and_fit pid=13685)\u001b[0m classifier.0.bias 1.1920928955078125e-06\n",
      "\u001b[36m(launch_and_fit pid=13685)\u001b[0m classifier.2.weight 9.5367431640625e-07\n",
      "\u001b[36m(launch_and_fit pid=13685)\u001b[0m classifier.2.bias 9.5367431640625e-07\n",
      "\u001b[36m(launch_and_fit pid=13685)\u001b[0m classifier.3.weights 1.1920928955078125e-06\n",
      "\u001b[36m(launch_and_fit pid=13685)\u001b[0m classifier.4.weight 1.1920928955078125e-06\n",
      "\u001b[36m(launch_and_fit pid=13685)\u001b[0m classifier.4.bias 1.1920928955078125e-06\n",
      "\u001b[36m(launch_and_fit pid=13768)\u001b[0m Run with homomorphic encryption\n",
      "\u001b[36m(launch_and_fit pid=13710)\u001b[0m save graph in  results/FL/\n",
      "\u001b[36m(launch_and_fit pid=13710)\u001b[0m \tTrain Epoch: 10 \tTrain_loss: 0.0290 | Train_acc: 99.4485 % | Validation_loss: 0.6478 | Validation_acc: 87.7500 %\n",
      "\u001b[36m(launch_and_fit pid=13710)\u001b[0m classifier.4.bias 1.1920928955078125e-06\u001b[32m [repeated 11x across cluster]\u001b[0m\n",
      "\u001b[36m(launch_and_fit pid=13768)\u001b[0m [Client 5, round 17] fit, config: {'learning_rate': 0.003, 'batch_size': '32', 'server_round': 17, 'local_epochs': 10}\n",
      "\u001b[36m(launch_and_fit pid=13768)\u001b[0m Updated model\n"
     ]
    },
    {
     "name": "stderr",
     "output_type": "stream",
     "text": [
      "  0%|\u001b[34m          \u001b[0m| 0/10 [00:00<?, ?it/s]\n",
      "100%|\u001b[34m██████████\u001b[0m| 10/10 [00:43<00:00,  4.31s/it]\n",
      " 10%|\u001b[34m█         \u001b[0m| 1/10 [00:04<00:41,  4.56s/it]\n"
     ]
    },
    {
     "name": "stdout",
     "output_type": "stream",
     "text": [
      "\u001b[36m(launch_and_fit pid=13768)\u001b[0m \tTrain Epoch: 1 \tTrain_loss: 0.0367 | Train_acc: 99.4485 % | Validation_loss: 0.2891 | Validation_acc: 85.0625 %\n",
      "\u001b[36m(launch_and_fit pid=13792)\u001b[0m Run with homomorphic encryption\n",
      "\u001b[36m(launch_and_fit pid=13792)\u001b[0m [Client 2, round 17] fit, config: {'learning_rate': 0.003, 'batch_size': '32', 'server_round': 17, 'local_epochs': 10}\n",
      "\u001b[36m(launch_and_fit pid=13792)\u001b[0m Updated model\n"
     ]
    },
    {
     "name": "stderr",
     "output_type": "stream",
     "text": [
      "  0%|\u001b[34m          \u001b[0m| 0/10 [00:00<?, ?it/s]\n"
     ]
    },
    {
     "name": "stdout",
     "output_type": "stream",
     "text": [
      "\u001b[36m(launch_and_fit pid=13792)\u001b[0m \tTrain Epoch: 2 \tTrain_loss: 0.0325 | Train_acc: 98.8971 % | Validation_loss: 0.7750 | Validation_acc: 83.7500 %\u001b[32m [repeated 3x across cluster]\u001b[0m\n"
     ]
    },
    {
     "name": "stderr",
     "output_type": "stream",
     "text": [
      " 20%|\u001b[34m██        \u001b[0m| 2/10 [00:08<00:35,  4.40s/it]\u001b[32m [repeated 3x across cluster]\u001b[0m\n",
      " 40%|\u001b[34m████      \u001b[0m| 4/10 [00:17<00:25,  4.32s/it]\u001b[32m [repeated 3x across cluster]\u001b[0m\n"
     ]
    },
    {
     "name": "stdout",
     "output_type": "stream",
     "text": [
      "\u001b[36m(launch_and_fit pid=13768)\u001b[0m \tTrain Epoch: 4 \tTrain_loss: 0.0103 | Train_acc: 99.6324 % | Validation_loss: 0.2973 | Validation_acc: 85.0625 %\u001b[32m [repeated 3x across cluster]\u001b[0m\n",
      "\u001b[36m(launch_and_fit pid=13792)\u001b[0m \tTrain Epoch: 5 \tTrain_loss: 0.0083 | Train_acc: 99.4485 % | Validation_loss: 0.5459 | Validation_acc: 82.6250 %\u001b[32m [repeated 3x across cluster]\u001b[0m\n"
     ]
    },
    {
     "name": "stderr",
     "output_type": "stream",
     "text": [
      " 50%|\u001b[34m█████     \u001b[0m| 5/10 [00:21<00:21,  4.24s/it]\u001b[32m [repeated 3x across cluster]\u001b[0m\n",
      " 70%|\u001b[34m███████   \u001b[0m| 7/10 [00:29<00:12,  4.25s/it]\u001b[32m [repeated 3x across cluster]\u001b[0m\n"
     ]
    },
    {
     "name": "stdout",
     "output_type": "stream",
     "text": [
      "\u001b[36m(launch_and_fit pid=13768)\u001b[0m \tTrain Epoch: 7 \tTrain_loss: 0.0007 | Train_acc: 100.0000 % | Validation_loss: 0.4497 | Validation_acc: 83.5000 %\u001b[32m [repeated 3x across cluster]\u001b[0m\n",
      "\u001b[36m(launch_and_fit pid=13792)\u001b[0m \tTrain Epoch: 8 \tTrain_loss: 0.0019 | Train_acc: 100.0000 % | Validation_loss: 0.5474 | Validation_acc: 84.1875 %\u001b[32m [repeated 3x across cluster]\u001b[0m\n"
     ]
    },
    {
     "name": "stderr",
     "output_type": "stream",
     "text": [
      " 80%|\u001b[34m████████  \u001b[0m| 8/10 [00:33<00:08,  4.16s/it]\u001b[32m [repeated 3x across cluster]\u001b[0m\n",
      "100%|\u001b[34m██████████\u001b[0m| 10/10 [00:42<00:00,  4.20s/it]\u001b[32m [repeated 3x across cluster]\u001b[0m\n"
     ]
    },
    {
     "name": "stdout",
     "output_type": "stream",
     "text": [
      "\u001b[36m(launch_and_fit pid=13768)\u001b[0m save graph in  results/FL/\n",
      "\u001b[36m(launch_and_fit pid=13768)\u001b[0m \tTrain Epoch: 10 \tTrain_loss: 0.0179 | Train_acc: 99.6324 % | Validation_loss: 0.6707 | Validation_acc: 79.9375 %\u001b[32m [repeated 3x across cluster]\u001b[0m\n",
      "\u001b[36m(launch_and_fit pid=13768)\u001b[0m features.0.weight 5.245208740234375e-06\n",
      "\u001b[36m(launch_and_fit pid=13768)\u001b[0m features.0.bias 1.430511474609375e-06\n",
      "\u001b[36m(launch_and_fit pid=13768)\u001b[0m features.3.weight 1.1920928955078125e-06\n",
      "\u001b[36m(launch_and_fit pid=13768)\u001b[0m features.3.bias 9.5367431640625e-07\n",
      "\u001b[36m(launch_and_fit pid=13768)\u001b[0m classifier.0.weight 9.5367431640625e-07\n",
      "\u001b[36m(launch_and_fit pid=13768)\u001b[0m classifier.0.bias 9.5367431640625e-07\n",
      "\u001b[36m(launch_and_fit pid=13768)\u001b[0m classifier.2.weight 9.5367431640625e-07\n",
      "\u001b[36m(launch_and_fit pid=13768)\u001b[0m classifier.2.bias 1.1920928955078125e-06\n",
      "\u001b[36m(launch_and_fit pid=13768)\u001b[0m classifier.3.weights 9.5367431640625e-07\n",
      "\u001b[36m(launch_and_fit pid=13768)\u001b[0m classifier.4.weight 9.5367431640625e-07\n",
      "\u001b[36m(launch_and_fit pid=13768)\u001b[0m classifier.4.bias 9.5367431640625e-07\n",
      "\u001b[36m(launch_and_fit pid=13850)\u001b[0m Run with homomorphic encryption\n",
      "\u001b[36m(launch_and_fit pid=13792)\u001b[0m save graph in  results/FL/\n",
      "\u001b[36m(launch_and_fit pid=13792)\u001b[0m \tTrain Epoch: 10 \tTrain_loss: 0.0151 | Train_acc: 99.4485 % | Validation_loss: 0.4241 | Validation_acc: 87.3125 %\n",
      "\u001b[36m(launch_and_fit pid=13792)\u001b[0m classifier.4.bias 9.5367431640625e-07\u001b[32m [repeated 11x across cluster]\u001b[0m\n",
      "\u001b[36m(launch_and_fit pid=13850)\u001b[0m [Client 6, round 17] fit, config: {'learning_rate': 0.003, 'batch_size': '32', 'server_round': 17, 'local_epochs': 10}\n",
      "\u001b[36m(launch_and_fit pid=13850)\u001b[0m Updated model\n"
     ]
    },
    {
     "name": "stderr",
     "output_type": "stream",
     "text": [
      "  0%|\u001b[34m          \u001b[0m| 0/10 [00:00<?, ?it/s]\n",
      "100%|\u001b[34m██████████\u001b[0m| 10/10 [00:42<00:00,  4.21s/it]\n"
     ]
    },
    {
     "name": "stdout",
     "output_type": "stream",
     "text": [
      "\u001b[36m(launch_and_fit pid=13850)\u001b[0m \tTrain Epoch: 1 \tTrain_loss: 0.0306 | Train_acc: 99.4485 % | Validation_loss: 0.3707 | Validation_acc: 89.7500 %\n",
      "\u001b[36m(launch_and_fit pid=13875)\u001b[0m Run with homomorphic encryption\n",
      "\u001b[36m(launch_and_fit pid=13875)\u001b[0m [Client 9, round 17] fit, config: {'learning_rate': 0.003, 'batch_size': '32', 'server_round': 17, 'local_epochs': 10}\n"
     ]
    },
    {
     "name": "stderr",
     "output_type": "stream",
     "text": [
      " 10%|\u001b[34m█         \u001b[0m| 1/10 [00:04<00:40,  4.54s/it]\n"
     ]
    },
    {
     "name": "stdout",
     "output_type": "stream",
     "text": [
      "\u001b[36m(launch_and_fit pid=13875)\u001b[0m Updated model\n"
     ]
    },
    {
     "name": "stderr",
     "output_type": "stream",
     "text": [
      "  0%|\u001b[34m          \u001b[0m| 0/10 [00:00<?, ?it/s]\n"
     ]
    },
    {
     "name": "stdout",
     "output_type": "stream",
     "text": [
      "\u001b[36m(launch_and_fit pid=13875)\u001b[0m \tTrain Epoch: 2 \tTrain_loss: 0.0243 | Train_acc: 99.6324 % | Validation_loss: 0.5854 | Validation_acc: 83.7500 %\u001b[32m [repeated 3x across cluster]\u001b[0m\n"
     ]
    },
    {
     "name": "stderr",
     "output_type": "stream",
     "text": [
      " 20%|\u001b[34m██        \u001b[0m| 2/10 [00:08<00:34,  4.31s/it]\u001b[32m [repeated 3x across cluster]\u001b[0m\n"
     ]
    },
    {
     "name": "stdout",
     "output_type": "stream",
     "text": [
      "\u001b[36m(launch_and_fit pid=13850)\u001b[0m \tTrain Epoch: 4 \tTrain_loss: 0.0081 | Train_acc: 99.6324 % | Validation_loss: 0.4842 | Validation_acc: 91.3125 %\u001b[32m [repeated 3x across cluster]\u001b[0m\n"
     ]
    },
    {
     "name": "stderr",
     "output_type": "stream",
     "text": [
      " 40%|\u001b[34m████      \u001b[0m| 4/10 [00:17<00:25,  4.23s/it]\u001b[32m [repeated 3x across cluster]\u001b[0m\n"
     ]
    },
    {
     "name": "stdout",
     "output_type": "stream",
     "text": [
      "\u001b[36m(launch_and_fit pid=13875)\u001b[0m \tTrain Epoch: 5 \tTrain_loss: 0.0043 | Train_acc: 99.8162 % | Validation_loss: 0.6007 | Validation_acc: 85.7500 %\u001b[32m [repeated 3x across cluster]\u001b[0m\n"
     ]
    },
    {
     "name": "stderr",
     "output_type": "stream",
     "text": [
      " 50%|\u001b[34m█████     \u001b[0m| 5/10 [00:21<00:21,  4.28s/it]\u001b[32m [repeated 3x across cluster]\u001b[0m\n"
     ]
    },
    {
     "name": "stdout",
     "output_type": "stream",
     "text": [
      "\u001b[36m(launch_and_fit pid=13850)\u001b[0m \tTrain Epoch: 7 \tTrain_loss: 0.0398 | Train_acc: 99.2647 % | Validation_loss: 0.6893 | Validation_acc: 80.6250 %\u001b[32m [repeated 3x across cluster]\u001b[0m\n"
     ]
    },
    {
     "name": "stderr",
     "output_type": "stream",
     "text": [
      " 70%|\u001b[34m███████   \u001b[0m| 7/10 [00:29<00:12,  4.21s/it]\u001b[32m [repeated 3x across cluster]\u001b[0m\n"
     ]
    },
    {
     "name": "stdout",
     "output_type": "stream",
     "text": [
      "\u001b[36m(launch_and_fit pid=13875)\u001b[0m \tTrain Epoch: 8 \tTrain_loss: 0.0087 | Train_acc: 99.8162 % | Validation_loss: 0.6347 | Validation_acc: 82.1875 %\u001b[32m [repeated 3x across cluster]\u001b[0m\n"
     ]
    },
    {
     "name": "stderr",
     "output_type": "stream",
     "text": [
      " 80%|\u001b[34m████████  \u001b[0m| 8/10 [00:33<00:08,  4.13s/it]\u001b[32m [repeated 3x across cluster]\u001b[0m\n"
     ]
    },
    {
     "name": "stdout",
     "output_type": "stream",
     "text": [
      "\u001b[36m(launch_and_fit pid=13850)\u001b[0m save graph in  results/FL/\n",
      "\u001b[36m(launch_and_fit pid=13850)\u001b[0m \tTrain Epoch: 10 \tTrain_loss: 0.0184 | Train_acc: 99.8162 % | Validation_loss: 0.6680 | Validation_acc: 84.6250 %\u001b[32m [repeated 3x across cluster]\u001b[0m\n"
     ]
    },
    {
     "name": "stderr",
     "output_type": "stream",
     "text": [
      "100%|\u001b[34m██████████\u001b[0m| 10/10 [00:42<00:00,  4.21s/it]\u001b[32m [repeated 3x across cluster]\u001b[0m\n"
     ]
    },
    {
     "name": "stdout",
     "output_type": "stream",
     "text": [
      "\u001b[36m(launch_and_fit pid=13850)\u001b[0m features.0.weight 6.9141387939453125e-06\n",
      "\u001b[36m(launch_and_fit pid=13850)\u001b[0m features.0.bias 1.9073486328125e-06\n",
      "\u001b[36m(launch_and_fit pid=13850)\u001b[0m features.3.weight 1.1920928955078125e-06\n",
      "\u001b[36m(launch_and_fit pid=13850)\u001b[0m features.3.bias 1.430511474609375e-06\n",
      "\u001b[36m(launch_and_fit pid=13850)\u001b[0m classifier.0.weight 1.430511474609375e-06\n",
      "\u001b[36m(launch_and_fit pid=13850)\u001b[0m classifier.0.bias 1.6689300537109375e-06\n",
      "\u001b[36m(launch_and_fit pid=13850)\u001b[0m classifier.2.weight 1.1920928955078125e-06\n",
      "\u001b[36m(launch_and_fit pid=13850)\u001b[0m classifier.2.bias 1.6689300537109375e-06\n",
      "\u001b[36m(launch_and_fit pid=13850)\u001b[0m classifier.3.weights 1.430511474609375e-06\n",
      "\u001b[36m(launch_and_fit pid=13850)\u001b[0m classifier.4.weight 1.430511474609375e-06\n",
      "\u001b[36m(launch_and_fit pid=13850)\u001b[0m classifier.4.bias 1.6689300537109375e-06\n"
     ]
    },
    {
     "name": "stderr",
     "output_type": "stream",
     "text": [
      "DEBUG flwr 2024-07-21 04:11:10,547 | server.py:236 | fit_round 17 received 10 results and 0 failures\n"
     ]
    },
    {
     "name": "stdout",
     "output_type": "stream",
     "text": [
      "Saving round 17 aggregated_parameters...\n"
     ]
    },
    {
     "name": "stderr",
     "output_type": "stream",
     "text": [
      "DEBUG flwr 2024-07-21 04:11:12,517 | server.py:173 | evaluate_round 17: strategy sampled 10 clients (out of 10)\n"
     ]
    },
    {
     "name": "stdout",
     "output_type": "stream",
     "text": [
      "\u001b[36m(launch_and_evaluate pid=13941)\u001b[0m Run with homomorphic encryption\n",
      "\u001b[36m(launch_and_fit pid=13875)\u001b[0m save graph in  results/FL/\n",
      "\u001b[36m(launch_and_fit pid=13875)\u001b[0m \tTrain Epoch: 10 \tTrain_loss: 0.0687 | Train_acc: 97.7941 % | Validation_loss: 0.7165 | Validation_acc: 76.6250 %\n",
      "\u001b[36m(launch_and_fit pid=13875)\u001b[0m classifier.4.bias 9.5367431640625e-07\u001b[32m [repeated 11x across cluster]\u001b[0m\n",
      "\u001b[36m(launch_and_evaluate pid=13941)\u001b[0m [Client 0] evaluate, config: {}\n",
      "\u001b[36m(launch_and_evaluate pid=13941)\u001b[0m Updated model\n",
      "\u001b[36m(launch_and_evaluate pid=14020)\u001b[0m Run with homomorphic encryption\u001b[32m [repeated 2x across cluster]\u001b[0m\n",
      "\u001b[36m(launch_and_evaluate pid=13942)\u001b[0m [Client 9] evaluate, config: {}\n",
      "\u001b[36m(launch_and_evaluate pid=13942)\u001b[0m Updated model\n",
      "\u001b[36m(launch_and_evaluate pid=14020)\u001b[0m [Client 5] evaluate, config: {}\n",
      "\u001b[36m(launch_and_evaluate pid=14020)\u001b[0m Updated model\n",
      "\u001b[36m(launch_and_evaluate pid=14098)\u001b[0m Run with homomorphic encryption\u001b[32m [repeated 2x across cluster]\u001b[0m\n",
      "\u001b[36m(launch_and_evaluate pid=14022)\u001b[0m [Client 4] evaluate, config: {}\n",
      "\u001b[36m(launch_and_evaluate pid=14022)\u001b[0m Updated model\n",
      "\u001b[36m(launch_and_evaluate pid=14098)\u001b[0m [Client 3] evaluate, config: {}\n",
      "\u001b[36m(launch_and_evaluate pid=14098)\u001b[0m Updated model\n",
      "\u001b[36m(launch_and_evaluate pid=14176)\u001b[0m Run with homomorphic encryption\u001b[32m [repeated 2x across cluster]\u001b[0m\n",
      "\u001b[36m(launch_and_evaluate pid=14103)\u001b[0m [Client 7] evaluate, config: {}\n",
      "\u001b[36m(launch_and_evaluate pid=14103)\u001b[0m Updated model\n",
      "\u001b[36m(launch_and_evaluate pid=14176)\u001b[0m [Client 1] evaluate, config: {}\n",
      "\u001b[36m(launch_and_evaluate pid=14176)\u001b[0m Updated model\n",
      "\u001b[36m(launch_and_evaluate pid=14254)\u001b[0m Run with homomorphic encryption\u001b[32m [repeated 2x across cluster]\u001b[0m\n",
      "\u001b[36m(launch_and_evaluate pid=14178)\u001b[0m [Client 6] evaluate, config: {}\n",
      "\u001b[36m(launch_and_evaluate pid=14178)\u001b[0m Updated model\n",
      "\u001b[36m(launch_and_evaluate pid=14254)\u001b[0m [Client 2] evaluate, config: {}\n",
      "\u001b[36m(launch_and_evaluate pid=14254)\u001b[0m Updated model\n"
     ]
    },
    {
     "name": "stderr",
     "output_type": "stream",
     "text": [
      "DEBUG flwr 2024-07-21 04:12:30,918 | server.py:187 | evaluate_round 17 received 10 results and 0 failures\n",
      "DEBUG flwr 2024-07-21 04:12:30,920 | server.py:222 | fit_round 18: strategy sampled 10 clients (out of 10)\n"
     ]
    },
    {
     "name": "stdout",
     "output_type": "stream",
     "text": [
      "\u001b[36m(launch_and_fit pid=14341)\u001b[0m Run with homomorphic encryption\u001b[32m [repeated 2x across cluster]\u001b[0m\n",
      "\u001b[36m(launch_and_evaluate pid=14256)\u001b[0m [Client 8] evaluate, config: {}\n",
      "\u001b[36m(launch_and_evaluate pid=14256)\u001b[0m Updated model\n",
      "\u001b[36m(launch_and_fit pid=14341)\u001b[0m [Client 6, round 18] fit, config: {'learning_rate': 0.003, 'batch_size': '32', 'server_round': 18, 'local_epochs': 10}\n",
      "\u001b[36m(launch_and_fit pid=14341)\u001b[0m Updated model\n"
     ]
    },
    {
     "name": "stderr",
     "output_type": "stream",
     "text": [
      "  0%|\u001b[34m          \u001b[0m| 0/10 [00:00<?, ?it/s]\n",
      "100%|\u001b[34m██████████\u001b[0m| 10/10 [00:41<00:00,  4.20s/it]\n"
     ]
    },
    {
     "name": "stdout",
     "output_type": "stream",
     "text": [
      "\u001b[36m(launch_and_fit pid=14341)\u001b[0m \tTrain Epoch: 1 \tTrain_loss: 0.0190 | Train_acc: 99.6324 % | Validation_loss: 0.3139 | Validation_acc: 88.1875 %\n",
      "\u001b[36m(launch_and_fit pid=14342)\u001b[0m Run with homomorphic encryption\n",
      "\u001b[36m(launch_and_fit pid=14342)\u001b[0m [Client 8, round 18] fit, config: {'learning_rate': 0.003, 'batch_size': '32', 'server_round': 18, 'local_epochs': 10}\n"
     ]
    },
    {
     "name": "stderr",
     "output_type": "stream",
     "text": [
      " 10%|\u001b[34m█         \u001b[0m| 1/10 [00:04<00:41,  4.61s/it]\n"
     ]
    },
    {
     "name": "stdout",
     "output_type": "stream",
     "text": [
      "\u001b[36m(launch_and_fit pid=14342)\u001b[0m Updated model\n"
     ]
    },
    {
     "name": "stderr",
     "output_type": "stream",
     "text": [
      "  0%|\u001b[34m          \u001b[0m| 0/10 [00:00<?, ?it/s]\n"
     ]
    },
    {
     "name": "stdout",
     "output_type": "stream",
     "text": [
      "\u001b[36m(launch_and_fit pid=14341)\u001b[0m \tTrain Epoch: 3 \tTrain_loss: 0.0292 | Train_acc: 99.0809 % | Validation_loss: 0.5333 | Validation_acc: 84.6250 %\u001b[32m [repeated 4x across cluster]\u001b[0m\n"
     ]
    },
    {
     "name": "stderr",
     "output_type": "stream",
     "text": [
      " 30%|\u001b[34m███       \u001b[0m| 3/10 [00:13<00:30,  4.31s/it]\u001b[32m [repeated 4x across cluster]\u001b[0m\n"
     ]
    },
    {
     "name": "stdout",
     "output_type": "stream",
     "text": [
      "\u001b[36m(launch_and_fit pid=14341)\u001b[0m \tTrain Epoch: 5 \tTrain_loss: 0.0251 | Train_acc: 99.4485 % | Validation_loss: 0.5257 | Validation_acc: 88.1875 %\u001b[32m [repeated 4x across cluster]\u001b[0m\n"
     ]
    },
    {
     "name": "stderr",
     "output_type": "stream",
     "text": [
      " 50%|\u001b[34m█████     \u001b[0m| 5/10 [00:21<00:20,  4.18s/it]\u001b[32m [repeated 4x across cluster]\u001b[0m\n"
     ]
    },
    {
     "name": "stdout",
     "output_type": "stream",
     "text": [
      "\u001b[36m(launch_and_fit pid=14342)\u001b[0m \tTrain Epoch: 7 \tTrain_loss: 0.0003 | Train_acc: 100.0000 % | Validation_loss: 0.4549 | Validation_acc: 86.1875 %\u001b[32m [repeated 4x across cluster]\u001b[0m\n"
     ]
    },
    {
     "name": "stderr",
     "output_type": "stream",
     "text": [
      " 70%|\u001b[34m███████   \u001b[0m| 7/10 [00:29<00:12,  4.08s/it]\u001b[32m [repeated 4x across cluster]\u001b[0m\n"
     ]
    },
    {
     "name": "stdout",
     "output_type": "stream",
     "text": [
      "\u001b[36m(launch_and_fit pid=14342)\u001b[0m \tTrain Epoch: 9 \tTrain_loss: 0.0003 | Train_acc: 100.0000 % | Validation_loss: 0.4520 | Validation_acc: 86.1875 %\u001b[32m [repeated 4x across cluster]\u001b[0m\n"
     ]
    },
    {
     "name": "stderr",
     "output_type": "stream",
     "text": [
      " 90%|\u001b[34m█████████ \u001b[0m| 9/10 [00:37<00:04,  4.08s/it]\u001b[32m [repeated 4x across cluster]\u001b[0m\n"
     ]
    },
    {
     "name": "stdout",
     "output_type": "stream",
     "text": [
      "\u001b[36m(launch_and_fit pid=14342)\u001b[0m save graph in  results/FL/\n",
      "\u001b[36m(launch_and_fit pid=14342)\u001b[0m features.0.weight 4.5299530029296875e-06\n",
      "\u001b[36m(launch_and_fit pid=14342)\u001b[0m features.0.bias 1.6689300537109375e-06\n",
      "\u001b[36m(launch_and_fit pid=14342)\u001b[0m features.3.weight 9.5367431640625e-07\n",
      "\u001b[36m(launch_and_fit pid=14342)\u001b[0m features.3.bias 1.1920928955078125e-06\n",
      "\u001b[36m(launch_and_fit pid=14342)\u001b[0m classifier.0.weight 1.1920928955078125e-06\n",
      "\u001b[36m(launch_and_fit pid=14342)\u001b[0m classifier.0.bias 1.1920928955078125e-06\n",
      "\u001b[36m(launch_and_fit pid=14342)\u001b[0m classifier.2.weight 9.5367431640625e-07\n",
      "\u001b[36m(launch_and_fit pid=14342)\u001b[0m classifier.2.bias 9.5367431640625e-07\n",
      "\u001b[36m(launch_and_fit pid=14342)\u001b[0m classifier.3.weights 1.430511474609375e-06\n",
      "\u001b[36m(launch_and_fit pid=14342)\u001b[0m classifier.4.weight 9.5367431640625e-07\n",
      "\u001b[36m(launch_and_fit pid=14342)\u001b[0m classifier.4.bias 9.5367431640625e-07\n",
      "\u001b[36m(launch_and_fit pid=14341)\u001b[0m \tTrain Epoch: 10 \tTrain_loss: 0.0232 | Train_acc: 99.6324 % | Validation_loss: 0.7632 | Validation_acc: 81.0625 %\u001b[32m [repeated 3x across cluster]\u001b[0m\n",
      "\u001b[36m(launch_and_fit pid=14422)\u001b[0m Run with homomorphic encryption\n",
      "\u001b[36m(launch_and_fit pid=14341)\u001b[0m save graph in  results/FL/\n",
      "\u001b[36m(launch_and_fit pid=14341)\u001b[0m classifier.4.bias 1.9073486328125e-06\u001b[32m [repeated 11x across cluster]\u001b[0m\n",
      "\u001b[36m(launch_and_fit pid=14422)\u001b[0m [Client 1, round 18] fit, config: {'learning_rate': 0.003, 'batch_size': '32', 'server_round': 18, 'local_epochs': 10}\n",
      "\u001b[36m(launch_and_fit pid=14422)\u001b[0m Updated model\n"
     ]
    },
    {
     "name": "stderr",
     "output_type": "stream",
     "text": [
      "  0%|\u001b[34m          \u001b[0m| 0/10 [00:00<?, ?it/s]\n",
      "100%|\u001b[34m██████████\u001b[0m| 10/10 [00:42<00:00,  4.24s/it]\u001b[32m [repeated 3x across cluster]\u001b[0m\n"
     ]
    },
    {
     "name": "stdout",
     "output_type": "stream",
     "text": [
      "\u001b[36m(launch_and_fit pid=14422)\u001b[0m \tTrain Epoch: 1 \tTrain_loss: 0.0383 | Train_acc: 98.8971 % | Validation_loss: 0.2900 | Validation_acc: 91.3125 %\n",
      "\u001b[36m(launch_and_fit pid=14424)\u001b[0m Run with homomorphic encryption\n",
      "\u001b[36m(launch_and_fit pid=14424)\u001b[0m [Client 9, round 18] fit, config: {'learning_rate': 0.003, 'batch_size': '32', 'server_round': 18, 'local_epochs': 10}\n",
      "\u001b[36m(launch_and_fit pid=14424)\u001b[0m Updated model\n"
     ]
    },
    {
     "name": "stderr",
     "output_type": "stream",
     "text": [
      "  0%|\u001b[34m          \u001b[0m| 0/10 [00:00<?, ?it/s]\n",
      " 10%|\u001b[34m█         \u001b[0m| 1/10 [00:04<00:41,  4.59s/it]\u001b[32m [repeated 2x across cluster]\u001b[0m\n"
     ]
    },
    {
     "name": "stdout",
     "output_type": "stream",
     "text": [
      "\u001b[36m(launch_and_fit pid=14422)\u001b[0m \tTrain Epoch: 3 \tTrain_loss: 0.0061 | Train_acc: 100.0000 % | Validation_loss: 0.5291 | Validation_acc: 86.6250 %\u001b[32m [repeated 4x across cluster]\u001b[0m\n"
     ]
    },
    {
     "name": "stderr",
     "output_type": "stream",
     "text": [
      " 30%|\u001b[34m███       \u001b[0m| 3/10 [00:13<00:30,  4.31s/it]\u001b[32m [repeated 3x across cluster]\u001b[0m\n"
     ]
    },
    {
     "name": "stdout",
     "output_type": "stream",
     "text": [
      "\u001b[36m(launch_and_fit pid=14422)\u001b[0m \tTrain Epoch: 5 \tTrain_loss: 0.0045 | Train_acc: 99.8162 % | Validation_loss: 0.5175 | Validation_acc: 88.1875 %\u001b[32m [repeated 4x across cluster]\u001b[0m\n"
     ]
    },
    {
     "name": "stderr",
     "output_type": "stream",
     "text": [
      " 50%|\u001b[34m█████     \u001b[0m| 5/10 [00:21<00:21,  4.27s/it]\u001b[32m [repeated 4x across cluster]\u001b[0m\n"
     ]
    },
    {
     "name": "stdout",
     "output_type": "stream",
     "text": [
      "\u001b[36m(launch_and_fit pid=14422)\u001b[0m \tTrain Epoch: 7 \tTrain_loss: 0.0010 | Train_acc: 100.0000 % | Validation_loss: 0.5738 | Validation_acc: 87.7500 %\u001b[32m [repeated 4x across cluster]\u001b[0m\n"
     ]
    },
    {
     "name": "stderr",
     "output_type": "stream",
     "text": [
      " 70%|\u001b[34m███████   \u001b[0m| 7/10 [00:29<00:12,  4.18s/it]\u001b[32m [repeated 4x across cluster]\u001b[0m\n"
     ]
    },
    {
     "name": "stdout",
     "output_type": "stream",
     "text": [
      "\u001b[36m(launch_and_fit pid=14424)\u001b[0m \tTrain Epoch: 9 \tTrain_loss: 0.0003 | Train_acc: 100.0000 % | Validation_loss: 0.6635 | Validation_acc: 82.1875 %\u001b[32m [repeated 4x across cluster]\u001b[0m\n"
     ]
    },
    {
     "name": "stderr",
     "output_type": "stream",
     "text": [
      " 90%|\u001b[34m█████████ \u001b[0m| 9/10 [00:37<00:04,  4.12s/it]\u001b[32m [repeated 4x across cluster]\u001b[0m\n"
     ]
    },
    {
     "name": "stdout",
     "output_type": "stream",
     "text": [
      "\u001b[36m(launch_and_fit pid=14424)\u001b[0m save graph in  results/FL/\n",
      "\u001b[36m(launch_and_fit pid=14422)\u001b[0m features.0.weight 5.7220458984375e-06\n",
      "\u001b[36m(launch_and_fit pid=14422)\u001b[0m features.0.bias 2.384185791015625e-06\n",
      "\u001b[36m(launch_and_fit pid=14422)\u001b[0m features.3.weight 1.9073486328125e-06\n",
      "\u001b[36m(launch_and_fit pid=14422)\u001b[0m features.3.bias 1.5735626220703125e-05\n",
      "\u001b[36m(launch_and_fit pid=14422)\u001b[0m classifier.0.weight 2.1457672119140625e-06\n",
      "\u001b[36m(launch_and_fit pid=14422)\u001b[0m classifier.0.bias 1.6689300537109375e-06\n",
      "\u001b[36m(launch_and_fit pid=14422)\u001b[0m classifier.2.weight 1.430511474609375e-06\n",
      "\u001b[36m(launch_and_fit pid=14422)\u001b[0m classifier.2.bias 1.6689300537109375e-06\n",
      "\u001b[36m(launch_and_fit pid=14422)\u001b[0m classifier.3.weights 2.1457672119140625e-06\n",
      "\u001b[36m(launch_and_fit pid=14422)\u001b[0m classifier.4.weight 1.6689300537109375e-06\n",
      "\u001b[36m(launch_and_fit pid=14422)\u001b[0m classifier.4.bias 1.6689300537109375e-06\n",
      "\u001b[36m(launch_and_fit pid=14504)\u001b[0m Run with homomorphic encryption\n",
      "\u001b[36m(launch_and_fit pid=14422)\u001b[0m \tTrain Epoch: 10 \tTrain_loss: 0.0004 | Train_acc: 100.0000 % | Validation_loss: 0.6085 | Validation_acc: 89.3125 %\u001b[32m [repeated 3x across cluster]\u001b[0m\n",
      "\u001b[36m(launch_and_fit pid=14422)\u001b[0m save graph in  results/FL/\n",
      "\u001b[36m(launch_and_fit pid=14424)\u001b[0m classifier.4.bias 1.1920928955078125e-06\u001b[32m [repeated 11x across cluster]\u001b[0m\n",
      "\u001b[36m(launch_and_fit pid=14504)\u001b[0m [Client 3, round 18] fit, config: {'learning_rate': 0.003, 'batch_size': '32', 'server_round': 18, 'local_epochs': 10}\n"
     ]
    },
    {
     "name": "stderr",
     "output_type": "stream",
     "text": [
      "  0%|\u001b[34m          \u001b[0m| 0/10 [00:00<?, ?it/s]\n",
      "100%|\u001b[34m██████████\u001b[0m| 10/10 [00:42<00:00,  4.24s/it]\u001b[32m [repeated 3x across cluster]\u001b[0m\n"
     ]
    },
    {
     "name": "stdout",
     "output_type": "stream",
     "text": [
      "\u001b[36m(launch_and_fit pid=14504)\u001b[0m Updated model\n",
      "\u001b[36m(launch_and_fit pid=14506)\u001b[0m Run with homomorphic encryption\n",
      "\u001b[36m(launch_and_fit pid=14506)\u001b[0m \tTrain Epoch: 1 \tTrain_loss: 0.0202 | Train_acc: 99.4485 % | Validation_loss: 0.2022 | Validation_acc: 91.7500 %\n",
      "\u001b[36m(launch_and_fit pid=14506)\u001b[0m [Client 4, round 18] fit, config: {'learning_rate': 0.003, 'batch_size': '32', 'server_round': 18, 'local_epochs': 10}\n",
      "\u001b[36m(launch_and_fit pid=14504)\u001b[0m \tTrain Epoch: 1 \tTrain_loss: 0.0135 | Train_acc: 99.6324 % | Validation_loss: 0.2698 | Validation_acc: 92.8750 %\n"
     ]
    },
    {
     "name": "stderr",
     "output_type": "stream",
     "text": [
      "  0%|\u001b[34m          \u001b[0m| 0/10 [00:00<?, ?it/s]\n",
      " 20%|\u001b[34m██        \u001b[0m| 2/10 [00:08<00:33,  4.24s/it]\u001b[32m [repeated 3x across cluster]\u001b[0m\n"
     ]
    },
    {
     "name": "stdout",
     "output_type": "stream",
     "text": [
      "\u001b[36m(launch_and_fit pid=14506)\u001b[0m Updated model\n",
      "\u001b[36m(launch_and_fit pid=14506)\u001b[0m \tTrain Epoch: 3 \tTrain_loss: 0.0063 | Train_acc: 100.0000 % | Validation_loss: 0.3722 | Validation_acc: 90.1875 %\u001b[32m [repeated 3x across cluster]\u001b[0m\n"
     ]
    },
    {
     "name": "stderr",
     "output_type": "stream",
     "text": [
      " 40%|\u001b[34m████      \u001b[0m| 4/10 [00:16<00:24,  4.17s/it]\u001b[32m [repeated 4x across cluster]\u001b[0m\n"
     ]
    },
    {
     "name": "stdout",
     "output_type": "stream",
     "text": [
      "\u001b[36m(launch_and_fit pid=14506)\u001b[0m \tTrain Epoch: 5 \tTrain_loss: 0.0179 | Train_acc: 99.6324 % | Validation_loss: 0.3534 | Validation_acc: 88.6250 %\u001b[32m [repeated 4x across cluster]\u001b[0m\n"
     ]
    },
    {
     "name": "stderr",
     "output_type": "stream",
     "text": [
      " 60%|\u001b[34m██████    \u001b[0m| 6/10 [00:25<00:16,  4.19s/it]\u001b[32m [repeated 4x across cluster]\u001b[0m\n"
     ]
    },
    {
     "name": "stdout",
     "output_type": "stream",
     "text": [
      "\u001b[36m(launch_and_fit pid=14506)\u001b[0m \tTrain Epoch: 7 \tTrain_loss: 0.0160 | Train_acc: 99.8162 % | Validation_loss: 0.3838 | Validation_acc: 91.7500 %\u001b[32m [repeated 4x across cluster]\u001b[0m\n"
     ]
    },
    {
     "name": "stderr",
     "output_type": "stream",
     "text": [
      " 80%|\u001b[34m████████  \u001b[0m| 8/10 [00:33<00:08,  4.09s/it]\u001b[32m [repeated 4x across cluster]\u001b[0m\n"
     ]
    },
    {
     "name": "stdout",
     "output_type": "stream",
     "text": [
      "\u001b[36m(launch_and_fit pid=14506)\u001b[0m \tTrain Epoch: 9 \tTrain_loss: 0.0396 | Train_acc: 98.8971 % | Validation_loss: 0.5204 | Validation_acc: 83.0625 %\u001b[32m [repeated 4x across cluster]\u001b[0m\n"
     ]
    },
    {
     "name": "stderr",
     "output_type": "stream",
     "text": [
      "100%|\u001b[34m██████████\u001b[0m| 10/10 [00:41<00:00,  4.16s/it]\u001b[32m [repeated 4x across cluster]\u001b[0m\n"
     ]
    },
    {
     "name": "stdout",
     "output_type": "stream",
     "text": [
      "\u001b[36m(launch_and_fit pid=14506)\u001b[0m save graph in  results/FL/\n",
      "\u001b[36m(launch_and_fit pid=14506)\u001b[0m features.0.weight 5.0067901611328125e-06\n",
      "\u001b[36m(launch_and_fit pid=14506)\u001b[0m features.0.bias 1.430511474609375e-06\n",
      "\u001b[36m(launch_and_fit pid=14506)\u001b[0m features.3.weight 9.5367431640625e-07\n",
      "\u001b[36m(launch_and_fit pid=14506)\u001b[0m features.3.bias 1.430511474609375e-06\n",
      "\u001b[36m(launch_and_fit pid=14506)\u001b[0m classifier.0.weight 9.5367431640625e-07\n",
      "\u001b[36m(launch_and_fit pid=14506)\u001b[0m classifier.0.bias 1.1920928955078125e-06\n",
      "\u001b[36m(launch_and_fit pid=14506)\u001b[0m classifier.2.weight 9.5367431640625e-07\n",
      "\u001b[36m(launch_and_fit pid=14506)\u001b[0m classifier.2.bias 1.1920928955078125e-06\n",
      "\u001b[36m(launch_and_fit pid=14506)\u001b[0m classifier.3.weights 1.430511474609375e-06\n",
      "\u001b[36m(launch_and_fit pid=14506)\u001b[0m classifier.4.weight 9.5367431640625e-07\n",
      "\u001b[36m(launch_and_fit pid=14506)\u001b[0m classifier.4.bias 1.430511474609375e-06\n",
      "\u001b[36m(launch_and_fit pid=14504)\u001b[0m \tTrain Epoch: 10 \tTrain_loss: 0.0217 | Train_acc: 99.6324 % | Validation_loss: 0.7938 | Validation_acc: 76.6250 %\u001b[32m [repeated 3x across cluster]\u001b[0m\n",
      "\u001b[36m(launch_and_fit pid=14586)\u001b[0m Run with homomorphic encryption\n",
      "\u001b[36m(launch_and_fit pid=14504)\u001b[0m save graph in  results/FL/\n",
      "\u001b[36m(launch_and_fit pid=14504)\u001b[0m classifier.4.bias 1.1920928955078125e-06\u001b[32m [repeated 11x across cluster]\u001b[0m\n",
      "\u001b[36m(launch_and_fit pid=14586)\u001b[0m [Client 7, round 18] fit, config: {'learning_rate': 0.003, 'batch_size': '32', 'server_round': 18, 'local_epochs': 10}\n",
      "\u001b[36m(launch_and_fit pid=14586)\u001b[0m Updated model\n"
     ]
    },
    {
     "name": "stderr",
     "output_type": "stream",
     "text": [
      "  0%|\u001b[34m          \u001b[0m| 0/10 [00:00<?, ?it/s]\n",
      "100%|\u001b[34m██████████\u001b[0m| 10/10 [00:42<00:00,  4.22s/it]\n"
     ]
    },
    {
     "name": "stdout",
     "output_type": "stream",
     "text": [
      "\u001b[36m(launch_and_fit pid=14586)\u001b[0m \tTrain Epoch: 1 \tTrain_loss: 0.0329 | Train_acc: 99.2647 % | Validation_loss: 0.5237 | Validation_acc: 90.8750 %\n",
      "\u001b[36m(launch_and_fit pid=14611)\u001b[0m Run with homomorphic encryption\n",
      "\u001b[36m(launch_and_fit pid=14611)\u001b[0m [Client 2, round 18] fit, config: {'learning_rate': 0.003, 'batch_size': '32', 'server_round': 18, 'local_epochs': 10}\n"
     ]
    },
    {
     "name": "stderr",
     "output_type": "stream",
     "text": [
      " 10%|\u001b[34m█         \u001b[0m| 1/10 [00:04<00:41,  4.60s/it]\n"
     ]
    },
    {
     "name": "stdout",
     "output_type": "stream",
     "text": [
      "\u001b[36m(launch_and_fit pid=14611)\u001b[0m Updated model\n"
     ]
    },
    {
     "name": "stderr",
     "output_type": "stream",
     "text": [
      "  0%|\u001b[34m          \u001b[0m| 0/10 [00:00<?, ?it/s]\n"
     ]
    },
    {
     "name": "stdout",
     "output_type": "stream",
     "text": [
      "\u001b[36m(launch_and_fit pid=14586)\u001b[0m \tTrain Epoch: 3 \tTrain_loss: 0.0148 | Train_acc: 99.6324 % | Validation_loss: 0.4750 | Validation_acc: 87.3125 %\u001b[32m [repeated 4x across cluster]\u001b[0m\n"
     ]
    },
    {
     "name": "stderr",
     "output_type": "stream",
     "text": [
      " 30%|\u001b[34m███       \u001b[0m| 3/10 [00:12<00:29,  4.24s/it]\u001b[32m [repeated 4x across cluster]\u001b[0m\n"
     ]
    },
    {
     "name": "stdout",
     "output_type": "stream",
     "text": [
      "\u001b[36m(launch_and_fit pid=14586)\u001b[0m \tTrain Epoch: 5 \tTrain_loss: 0.0036 | Train_acc: 99.8162 % | Validation_loss: 0.5127 | Validation_acc: 90.4375 %\u001b[32m [repeated 4x across cluster]\u001b[0m\n"
     ]
    },
    {
     "name": "stderr",
     "output_type": "stream",
     "text": [
      " 50%|\u001b[34m█████     \u001b[0m| 5/10 [00:21<00:20,  4.19s/it]\u001b[32m [repeated 4x across cluster]\u001b[0m\n"
     ]
    },
    {
     "name": "stdout",
     "output_type": "stream",
     "text": [
      "\u001b[36m(launch_and_fit pid=14586)\u001b[0m \tTrain Epoch: 7 \tTrain_loss: 0.0005 | Train_acc: 100.0000 % | Validation_loss: 0.5671 | Validation_acc: 87.3125 %\u001b[32m [repeated 4x across cluster]\u001b[0m\n"
     ]
    },
    {
     "name": "stderr",
     "output_type": "stream",
     "text": [
      " 70%|\u001b[34m███████   \u001b[0m| 7/10 [00:29<00:12,  4.25s/it]\u001b[32m [repeated 4x across cluster]\u001b[0m\n"
     ]
    },
    {
     "name": "stdout",
     "output_type": "stream",
     "text": [
      "\u001b[36m(launch_and_fit pid=14586)\u001b[0m \tTrain Epoch: 9 \tTrain_loss: 0.0003 | Train_acc: 100.0000 % | Validation_loss: 0.5811 | Validation_acc: 89.3125 %\u001b[32m [repeated 4x across cluster]\u001b[0m\n"
     ]
    },
    {
     "name": "stderr",
     "output_type": "stream",
     "text": [
      " 90%|\u001b[34m█████████ \u001b[0m| 9/10 [00:37<00:04,  4.17s/it]\u001b[32m [repeated 4x across cluster]\u001b[0m\n"
     ]
    },
    {
     "name": "stdout",
     "output_type": "stream",
     "text": [
      "\u001b[36m(launch_and_fit pid=14586)\u001b[0m save graph in  results/FL/\n",
      "\u001b[36m(launch_and_fit pid=14586)\u001b[0m features.0.weight 5.245208740234375e-06\n",
      "\u001b[36m(launch_and_fit pid=14586)\u001b[0m features.0.bias 1.430511474609375e-06\n",
      "\u001b[36m(launch_and_fit pid=14586)\u001b[0m features.3.weight 1.430511474609375e-06\n",
      "\u001b[36m(launch_and_fit pid=14586)\u001b[0m features.3.bias 1.1920928955078125e-06\n",
      "\u001b[36m(launch_and_fit pid=14586)\u001b[0m classifier.0.weight 1.1920928955078125e-06\n",
      "\u001b[36m(launch_and_fit pid=14586)\u001b[0m classifier.0.bias 9.5367431640625e-07\n",
      "\u001b[36m(launch_and_fit pid=14586)\u001b[0m classifier.2.weight 9.5367431640625e-07\n",
      "\u001b[36m(launch_and_fit pid=14586)\u001b[0m classifier.2.bias 9.5367431640625e-07\n",
      "\u001b[36m(launch_and_fit pid=14586)\u001b[0m classifier.3.weights 1.430511474609375e-06\n",
      "\u001b[36m(launch_and_fit pid=14586)\u001b[0m classifier.4.weight 1.1920928955078125e-06\n",
      "\u001b[36m(launch_and_fit pid=14586)\u001b[0m classifier.4.bias 1.1920928955078125e-06\n",
      "\u001b[36m(launch_and_fit pid=14611)\u001b[0m \tTrain Epoch: 10 \tTrain_loss: 0.0008 | Train_acc: 100.0000 % | Validation_loss: 0.4358 | Validation_acc: 88.8750 %\u001b[32m [repeated 3x across cluster]\u001b[0m\n",
      "\u001b[36m(launch_and_fit pid=14668)\u001b[0m Run with homomorphic encryption\n",
      "\u001b[36m(launch_and_fit pid=14611)\u001b[0m save graph in  results/FL/\n",
      "\u001b[36m(launch_and_fit pid=14611)\u001b[0m classifier.4.bias 1.430511474609375e-06\u001b[32m [repeated 11x across cluster]\u001b[0m\n",
      "\u001b[36m(launch_and_fit pid=14668)\u001b[0m [Client 5, round 18] fit, config: {'learning_rate': 0.003, 'batch_size': '32', 'server_round': 18, 'local_epochs': 10}\n",
      "\u001b[36m(launch_and_fit pid=14668)\u001b[0m Updated model\n"
     ]
    },
    {
     "name": "stderr",
     "output_type": "stream",
     "text": [
      "  0%|\u001b[34m          \u001b[0m| 0/10 [00:00<?, ?it/s]\n",
      "100%|\u001b[34m██████████\u001b[0m| 10/10 [00:42<00:00,  4.22s/it]\u001b[32m [repeated 3x across cluster]\u001b[0m\n"
     ]
    },
    {
     "name": "stdout",
     "output_type": "stream",
     "text": [
      "\u001b[36m(launch_and_fit pid=14668)\u001b[0m \tTrain Epoch: 1 \tTrain_loss: 0.0432 | Train_acc: 98.7132 % | Validation_loss: 0.3993 | Validation_acc: 85.0625 %\n",
      "\u001b[36m(launch_and_fit pid=14670)\u001b[0m Run with homomorphic encryption\n",
      "\u001b[36m(launch_and_fit pid=14670)\u001b[0m [Client 0, round 18] fit, config: {'learning_rate': 0.003, 'batch_size': '32', 'server_round': 18, 'local_epochs': 10}\n",
      "\u001b[36m(launch_and_fit pid=14670)\u001b[0m Updated model\n"
     ]
    },
    {
     "name": "stderr",
     "output_type": "stream",
     "text": [
      "  0%|\u001b[34m          \u001b[0m| 0/10 [00:00<?, ?it/s]\n",
      " 10%|\u001b[34m█         \u001b[0m| 1/10 [00:04<00:44,  4.94s/it]\n",
      " 10%|\u001b[34m█         \u001b[0m| 1/10 [00:04<00:42,  4.75s/it]\n"
     ]
    },
    {
     "name": "stdout",
     "output_type": "stream",
     "text": [
      "\u001b[36m(launch_and_fit pid=14668)\u001b[0m \tTrain Epoch: 3 \tTrain_loss: 0.0033 | Train_acc: 100.0000 % | Validation_loss: 0.4239 | Validation_acc: 84.6250 %\u001b[32m [repeated 4x across cluster]\u001b[0m\n"
     ]
    },
    {
     "name": "stderr",
     "output_type": "stream",
     "text": [
      " 30%|\u001b[34m███       \u001b[0m| 3/10 [00:13<00:30,  4.42s/it]\u001b[32m [repeated 3x across cluster]\u001b[0m\n"
     ]
    },
    {
     "name": "stdout",
     "output_type": "stream",
     "text": [
      "\u001b[36m(launch_and_fit pid=14668)\u001b[0m \tTrain Epoch: 5 \tTrain_loss: 0.0132 | Train_acc: 99.6324 % | Validation_loss: 0.3288 | Validation_acc: 86.6250 %\u001b[32m [repeated 4x across cluster]\u001b[0m\n"
     ]
    },
    {
     "name": "stderr",
     "output_type": "stream",
     "text": [
      " 50%|\u001b[34m█████     \u001b[0m| 5/10 [00:21<00:21,  4.31s/it]\u001b[32m [repeated 4x across cluster]\u001b[0m\n"
     ]
    },
    {
     "name": "stdout",
     "output_type": "stream",
     "text": [
      "\u001b[36m(launch_and_fit pid=14670)\u001b[0m \tTrain Epoch: 7 \tTrain_loss: 0.0030 | Train_acc: 100.0000 % | Validation_loss: 0.3902 | Validation_acc: 87.3125 %\u001b[32m [repeated 4x across cluster]\u001b[0m\n"
     ]
    },
    {
     "name": "stderr",
     "output_type": "stream",
     "text": [
      " 70%|\u001b[34m███████   \u001b[0m| 7/10 [00:29<00:12,  4.08s/it]\u001b[32m [repeated 4x across cluster]\u001b[0m\n"
     ]
    },
    {
     "name": "stdout",
     "output_type": "stream",
     "text": [
      "\u001b[36m(launch_and_fit pid=14670)\u001b[0m \tTrain Epoch: 9 \tTrain_loss: 0.0060 | Train_acc: 100.0000 % | Validation_loss: 0.3271 | Validation_acc: 89.3125 %\u001b[32m [repeated 4x across cluster]\u001b[0m\n"
     ]
    },
    {
     "name": "stderr",
     "output_type": "stream",
     "text": [
      " 90%|\u001b[34m█████████ \u001b[0m| 9/10 [00:37<00:04,  4.16s/it]\u001b[32m [repeated 4x across cluster]\u001b[0m\n"
     ]
    },
    {
     "name": "stdout",
     "output_type": "stream",
     "text": [
      "\u001b[36m(launch_and_fit pid=14670)\u001b[0m save graph in  results/FL/\n",
      "\u001b[36m(launch_and_fit pid=14670)\u001b[0m features.0.weight 5.7220458984375e-06\n",
      "\u001b[36m(launch_and_fit pid=14670)\u001b[0m features.0.bias 2.384185791015625e-06\n",
      "\u001b[36m(launch_and_fit pid=14670)\u001b[0m features.3.weight 1.430511474609375e-06\n",
      "\u001b[36m(launch_and_fit pid=14670)\u001b[0m features.3.bias 1.6689300537109375e-06\n",
      "\u001b[36m(launch_and_fit pid=14670)\u001b[0m classifier.0.weight 1.430511474609375e-06\n",
      "\u001b[36m(launch_and_fit pid=14670)\u001b[0m classifier.0.bias 1.430511474609375e-06\n",
      "\u001b[36m(launch_and_fit pid=14670)\u001b[0m classifier.2.weight 2.1457672119140625e-06\n",
      "\u001b[36m(launch_and_fit pid=14670)\u001b[0m classifier.2.bias 2.6226043701171875e-06\n",
      "\u001b[36m(launch_and_fit pid=14670)\u001b[0m classifier.3.weights 1.6689300537109375e-06\n",
      "\u001b[36m(launch_and_fit pid=14670)\u001b[0m classifier.4.weight 1.6689300537109375e-06\n",
      "\u001b[36m(launch_and_fit pid=14670)\u001b[0m classifier.4.bias 1.6689300537109375e-06\n"
     ]
    },
    {
     "name": "stderr",
     "output_type": "stream",
     "text": [
      "DEBUG flwr 2024-07-21 04:17:18,569 | server.py:236 | fit_round 18 received 10 results and 0 failures\n"
     ]
    },
    {
     "name": "stdout",
     "output_type": "stream",
     "text": [
      "\u001b[36m(launch_and_fit pid=14668)\u001b[0m \tTrain Epoch: 10 \tTrain_loss: 0.0615 | Train_acc: 98.3456 % | Validation_loss: 0.4094 | Validation_acc: 82.1875 %\u001b[32m [repeated 3x across cluster]\u001b[0m\n",
      "Saving round 18 aggregated_parameters...\n"
     ]
    },
    {
     "name": "stderr",
     "output_type": "stream",
     "text": [
      "DEBUG flwr 2024-07-21 04:17:20,531 | server.py:173 | evaluate_round 18: strategy sampled 10 clients (out of 10)\n"
     ]
    },
    {
     "name": "stdout",
     "output_type": "stream",
     "text": [
      "\u001b[36m(launch_and_evaluate pid=14760)\u001b[0m Run with homomorphic encryption\n",
      "\u001b[36m(launch_and_fit pid=14668)\u001b[0m save graph in  results/FL/\n",
      "\u001b[36m(launch_and_fit pid=14668)\u001b[0m classifier.4.bias 1.1920928955078125e-06\u001b[32m [repeated 11x across cluster]\u001b[0m\n",
      "\u001b[36m(launch_and_evaluate pid=14760)\u001b[0m [Client 3] evaluate, config: {}\n",
      "\u001b[36m(launch_and_evaluate pid=14760)\u001b[0m Updated model\n",
      "\u001b[36m(launch_and_evaluate pid=14838)\u001b[0m Run with homomorphic encryption\u001b[32m [repeated 2x across cluster]\u001b[0m\n",
      "\u001b[36m(launch_and_evaluate pid=14759)\u001b[0m [Client 4] evaluate, config: {}\n",
      "\u001b[36m(launch_and_evaluate pid=14759)\u001b[0m Updated model\n",
      "\u001b[36m(launch_and_evaluate pid=14838)\u001b[0m [Client 6] evaluate, config: {}\n",
      "\u001b[36m(launch_and_evaluate pid=14838)\u001b[0m Updated model\n",
      "\u001b[36m(launch_and_evaluate pid=14916)\u001b[0m Run with homomorphic encryption\u001b[32m [repeated 2x across cluster]\u001b[0m\n",
      "\u001b[36m(launch_and_evaluate pid=14840)\u001b[0m [Client 5] evaluate, config: {}\n",
      "\u001b[36m(launch_and_evaluate pid=14840)\u001b[0m Updated model\n",
      "\u001b[36m(launch_and_evaluate pid=14916)\u001b[0m [Client 2] evaluate, config: {}\n",
      "\u001b[36m(launch_and_evaluate pid=14916)\u001b[0m Updated model\n",
      "\u001b[36m(launch_and_evaluate pid=14995)\u001b[0m Run with homomorphic encryption\u001b[32m [repeated 2x across cluster]\u001b[0m\n",
      "\u001b[36m(launch_and_evaluate pid=14918)\u001b[0m [Client 9] evaluate, config: {}\n",
      "\u001b[36m(launch_and_evaluate pid=14918)\u001b[0m Updated model\n",
      "\u001b[36m(launch_and_evaluate pid=14995)\u001b[0m [Client 0] evaluate, config: {}\n",
      "\u001b[36m(launch_and_evaluate pid=14995)\u001b[0m Updated model\n",
      "\u001b[36m(launch_and_evaluate pid=15074)\u001b[0m Run with homomorphic encryption\u001b[32m [repeated 2x across cluster]\u001b[0m\n",
      "\u001b[36m(launch_and_evaluate pid=14997)\u001b[0m [Client 1] evaluate, config: {}\n",
      "\u001b[36m(launch_and_evaluate pid=14997)\u001b[0m Updated model\n",
      "\u001b[36m(launch_and_evaluate pid=15074)\u001b[0m [Client 7] evaluate, config: {}\n",
      "\u001b[36m(launch_and_evaluate pid=15074)\u001b[0m Updated model\n"
     ]
    },
    {
     "name": "stderr",
     "output_type": "stream",
     "text": [
      "DEBUG flwr 2024-07-21 04:18:39,502 | server.py:187 | evaluate_round 18 received 10 results and 0 failures\n",
      "DEBUG flwr 2024-07-21 04:18:39,504 | server.py:222 | fit_round 19: strategy sampled 10 clients (out of 10)\n"
     ]
    },
    {
     "name": "stdout",
     "output_type": "stream",
     "text": [
      "\u001b[36m(launch_and_fit pid=15161)\u001b[0m Run with homomorphic encryption\u001b[32m [repeated 2x across cluster]\u001b[0m\n",
      "\u001b[36m(launch_and_evaluate pid=15076)\u001b[0m [Client 8] evaluate, config: {}\n",
      "\u001b[36m(launch_and_evaluate pid=15076)\u001b[0m Updated model\n",
      "\u001b[36m(launch_and_fit pid=15162)\u001b[0m [Client 3, round 19] fit, config: {'learning_rate': 0.003, 'batch_size': '32', 'server_round': 19, 'local_epochs': 10}\n"
     ]
    },
    {
     "name": "stderr",
     "output_type": "stream",
     "text": [
      "  0%|\u001b[34m          \u001b[0m| 0/10 [00:00<?, ?it/s]\n",
      "100%|\u001b[34m██████████\u001b[0m| 10/10 [00:42<00:00,  4.29s/it]\u001b[32m [repeated 3x across cluster]\u001b[0m\n"
     ]
    },
    {
     "name": "stdout",
     "output_type": "stream",
     "text": [
      "\u001b[36m(launch_and_fit pid=15162)\u001b[0m Updated model\n",
      "\u001b[36m(launch_and_fit pid=15162)\u001b[0m \tTrain Epoch: 1 \tTrain_loss: 0.0127 | Train_acc: 99.6324 % | Validation_loss: 0.1956 | Validation_acc: 94.4375 %\n",
      "\u001b[36m(launch_and_fit pid=15162)\u001b[0m Run with homomorphic encryption\n",
      "\u001b[36m(launch_and_fit pid=15161)\u001b[0m [Client 1, round 19] fit, config: {'learning_rate': 0.003, 'batch_size': '32', 'server_round': 19, 'local_epochs': 10}\n"
     ]
    },
    {
     "name": "stderr",
     "output_type": "stream",
     "text": [
      "  0%|\u001b[34m          \u001b[0m| 0/10 [00:00<?, ?it/s]\n",
      " 20%|\u001b[34m██        \u001b[0m| 2/10 [00:08<00:34,  4.34s/it]\u001b[32m [repeated 3x across cluster]\u001b[0m\n"
     ]
    },
    {
     "name": "stdout",
     "output_type": "stream",
     "text": [
      "\u001b[36m(launch_and_fit pid=15161)\u001b[0m Updated model\n",
      "\u001b[36m(launch_and_fit pid=15162)\u001b[0m \tTrain Epoch: 3 \tTrain_loss: 0.0021 | Train_acc: 100.0000 % | Validation_loss: 0.2654 | Validation_acc: 89.3125 %\u001b[32m [repeated 4x across cluster]\u001b[0m\n"
     ]
    },
    {
     "name": "stderr",
     "output_type": "stream",
     "text": [
      " 40%|\u001b[34m████      \u001b[0m| 4/10 [00:17<00:25,  4.31s/it]\u001b[32m [repeated 4x across cluster]\u001b[0m\n"
     ]
    },
    {
     "name": "stdout",
     "output_type": "stream",
     "text": [
      "\u001b[36m(launch_and_fit pid=15161)\u001b[0m \tTrain Epoch: 5 \tTrain_loss: 0.0173 | Train_acc: 99.6324 % | Validation_loss: 0.2990 | Validation_acc: 88.1875 %\u001b[32m [repeated 4x across cluster]\u001b[0m\n"
     ]
    },
    {
     "name": "stderr",
     "output_type": "stream",
     "text": [
      " 60%|\u001b[34m██████    \u001b[0m| 6/10 [00:26<00:17,  4.31s/it]\u001b[32m [repeated 4x across cluster]\u001b[0m\n"
     ]
    },
    {
     "name": "stdout",
     "output_type": "stream",
     "text": [
      "\u001b[36m(launch_and_fit pid=15161)\u001b[0m \tTrain Epoch: 7 \tTrain_loss: 0.0087 | Train_acc: 99.8162 % | Validation_loss: 0.7035 | Validation_acc: 88.1875 %\u001b[32m [repeated 4x across cluster]\u001b[0m\n"
     ]
    },
    {
     "name": "stderr",
     "output_type": "stream",
     "text": [
      " 80%|\u001b[34m████████  \u001b[0m| 8/10 [00:34<00:08,  4.22s/it]\u001b[32m [repeated 4x across cluster]\u001b[0m\n"
     ]
    },
    {
     "name": "stdout",
     "output_type": "stream",
     "text": [
      "\u001b[36m(launch_and_fit pid=15161)\u001b[0m \tTrain Epoch: 9 \tTrain_loss: 0.0018 | Train_acc: 100.0000 % | Validation_loss: 0.5767 | Validation_acc: 89.3125 %\u001b[32m [repeated 4x across cluster]\u001b[0m\n",
      "\u001b[36m(launch_and_fit pid=15161)\u001b[0m save graph in  results/FL/\n"
     ]
    },
    {
     "name": "stderr",
     "output_type": "stream",
     "text": [
      "100%|\u001b[34m██████████\u001b[0m| 10/10 [00:42<00:00,  4.26s/it]\u001b[32m [repeated 4x across cluster]\u001b[0m\n"
     ]
    },
    {
     "name": "stdout",
     "output_type": "stream",
     "text": [
      "\u001b[36m(launch_and_fit pid=15161)\u001b[0m features.0.weight 4.76837158203125e-06\n",
      "\u001b[36m(launch_and_fit pid=15161)\u001b[0m features.0.bias 1.430511474609375e-06\n",
      "\u001b[36m(launch_and_fit pid=15161)\u001b[0m features.3.weight 1.430511474609375e-06\n",
      "\u001b[36m(launch_and_fit pid=15161)\u001b[0m features.3.bias 9.5367431640625e-07\n",
      "\u001b[36m(launch_and_fit pid=15161)\u001b[0m classifier.0.weight 1.1920928955078125e-06\n",
      "\u001b[36m(launch_and_fit pid=15161)\u001b[0m classifier.0.bias 1.1920928955078125e-06\n",
      "\u001b[36m(launch_and_fit pid=15161)\u001b[0m classifier.2.weight 1.6689300537109375e-06\n",
      "\u001b[36m(launch_and_fit pid=15161)\u001b[0m classifier.2.bias 9.5367431640625e-07\n",
      "\u001b[36m(launch_and_fit pid=15161)\u001b[0m classifier.3.weights 1.1920928955078125e-06\n",
      "\u001b[36m(launch_and_fit pid=15161)\u001b[0m classifier.4.weight 1.430511474609375e-06\n",
      "\u001b[36m(launch_and_fit pid=15161)\u001b[0m classifier.4.bias 9.5367431640625e-07\n",
      "\u001b[36m(launch_and_fit pid=15245)\u001b[0m Run with homomorphic encryption\n",
      "\u001b[36m(launch_and_fit pid=15162)\u001b[0m \tTrain Epoch: 10 \tTrain_loss: 0.0002 | Train_acc: 100.0000 % | Validation_loss: 0.2663 | Validation_acc: 88.8750 %\u001b[32m [repeated 3x across cluster]\u001b[0m\n",
      "\u001b[36m(launch_and_fit pid=15162)\u001b[0m save graph in  results/FL/\n",
      "\u001b[36m(launch_and_fit pid=15162)\u001b[0m classifier.4.bias 1.1920928955078125e-06\u001b[32m [repeated 11x across cluster]\u001b[0m\n",
      "\u001b[36m(launch_and_fit pid=15245)\u001b[0m [Client 2, round 19] fit, config: {'learning_rate': 0.003, 'batch_size': '32', 'server_round': 19, 'local_epochs': 10}\n",
      "\u001b[36m(launch_and_fit pid=15245)\u001b[0m Updated model\n"
     ]
    },
    {
     "name": "stderr",
     "output_type": "stream",
     "text": [
      "  0%|\u001b[34m          \u001b[0m| 0/10 [00:00<?, ?it/s]\n",
      "100%|\u001b[34m██████████\u001b[0m| 10/10 [00:42<00:00,  4.25s/it]\n"
     ]
    },
    {
     "name": "stdout",
     "output_type": "stream",
     "text": [
      "\u001b[36m(launch_and_fit pid=15244)\u001b[0m Run with homomorphic encryption\n",
      "\u001b[36m(launch_and_fit pid=15244)\u001b[0m \tTrain Epoch: 1 \tTrain_loss: 0.0307 | Train_acc: 99.2647 % | Validation_loss: 0.3549 | Validation_acc: 86.1875 %\n",
      "\u001b[36m(launch_and_fit pid=15244)\u001b[0m [Client 6, round 19] fit, config: {'learning_rate': 0.003, 'batch_size': '32', 'server_round': 19, 'local_epochs': 10}\n",
      "\u001b[36m(launch_and_fit pid=15245)\u001b[0m \tTrain Epoch: 1 \tTrain_loss: 0.0316 | Train_acc: 99.6324 % | Validation_loss: 0.5481 | Validation_acc: 89.3125 %\n"
     ]
    },
    {
     "name": "stderr",
     "output_type": "stream",
     "text": [
      " 10%|\u001b[34m█         \u001b[0m| 1/10 [00:04<00:41,  4.61s/it]\n"
     ]
    },
    {
     "name": "stdout",
     "output_type": "stream",
     "text": [
      "\u001b[36m(launch_and_fit pid=15244)\u001b[0m Updated model\n"
     ]
    },
    {
     "name": "stderr",
     "output_type": "stream",
     "text": [
      "  0%|\u001b[34m          \u001b[0m| 0/10 [00:00<?, ?it/s]\n"
     ]
    },
    {
     "name": "stdout",
     "output_type": "stream",
     "text": [
      "\u001b[36m(launch_and_fit pid=15244)\u001b[0m \tTrain Epoch: 3 \tTrain_loss: 0.0248 | Train_acc: 99.6324 % | Validation_loss: 0.6548 | Validation_acc: 85.0625 %\u001b[32m [repeated 3x across cluster]\u001b[0m\n"
     ]
    },
    {
     "name": "stderr",
     "output_type": "stream",
     "text": [
      " 30%|\u001b[34m███       \u001b[0m| 3/10 [00:12<00:29,  4.24s/it]\u001b[32m [repeated 4x across cluster]\u001b[0m\n"
     ]
    },
    {
     "name": "stdout",
     "output_type": "stream",
     "text": [
      "\u001b[36m(launch_and_fit pid=15244)\u001b[0m \tTrain Epoch: 5 \tTrain_loss: 0.0175 | Train_acc: 99.2647 % | Validation_loss: 0.5872 | Validation_acc: 86.1875 %\u001b[32m [repeated 4x across cluster]\u001b[0m\n"
     ]
    },
    {
     "name": "stderr",
     "output_type": "stream",
     "text": [
      " 50%|\u001b[34m█████     \u001b[0m| 5/10 [00:20<00:20,  4.12s/it]\u001b[32m [repeated 4x across cluster]\u001b[0m\n"
     ]
    },
    {
     "name": "stdout",
     "output_type": "stream",
     "text": [
      "\u001b[36m(launch_and_fit pid=15244)\u001b[0m \tTrain Epoch: 7 \tTrain_loss: 0.0201 | Train_acc: 99.4485 % | Validation_loss: 0.7887 | Validation_acc: 81.5000 %\u001b[32m [repeated 4x across cluster]\u001b[0m\n"
     ]
    },
    {
     "name": "stderr",
     "output_type": "stream",
     "text": [
      " 70%|\u001b[34m███████   \u001b[0m| 7/10 [00:29<00:12,  4.23s/it]\u001b[32m [repeated 4x across cluster]\u001b[0m\n"
     ]
    },
    {
     "name": "stdout",
     "output_type": "stream",
     "text": [
      "\u001b[36m(launch_and_fit pid=15244)\u001b[0m \tTrain Epoch: 9 \tTrain_loss: 0.0116 | Train_acc: 99.8162 % | Validation_loss: 1.0712 | Validation_acc: 75.0625 %\u001b[32m [repeated 4x across cluster]\u001b[0m\n"
     ]
    },
    {
     "name": "stderr",
     "output_type": "stream",
     "text": [
      " 90%|\u001b[34m█████████ \u001b[0m| 9/10 [00:37<00:04,  4.18s/it]\u001b[32m [repeated 4x across cluster]\u001b[0m\n"
     ]
    },
    {
     "name": "stdout",
     "output_type": "stream",
     "text": [
      "\u001b[36m(launch_and_fit pid=15244)\u001b[0m save graph in  results/FL/\n",
      "\u001b[36m(launch_and_fit pid=15244)\u001b[0m features.0.weight 6.198883056640625e-06\n",
      "\u001b[36m(launch_and_fit pid=15244)\u001b[0m features.0.bias 1.1920928955078125e-06\n",
      "\u001b[36m(launch_and_fit pid=15244)\u001b[0m features.3.weight 1.9073486328125e-06\n",
      "\u001b[36m(launch_and_fit pid=15244)\u001b[0m features.3.bias 1.1920928955078125e-06\n",
      "\u001b[36m(launch_and_fit pid=15244)\u001b[0m classifier.0.weight 1.1920928955078125e-06\n",
      "\u001b[36m(launch_and_fit pid=15244)\u001b[0m classifier.0.bias 1.1920928955078125e-06\n",
      "\u001b[36m(launch_and_fit pid=15244)\u001b[0m classifier.2.weight 9.5367431640625e-07\n",
      "\u001b[36m(launch_and_fit pid=15244)\u001b[0m classifier.2.bias 1.1920928955078125e-06\n",
      "\u001b[36m(launch_and_fit pid=15244)\u001b[0m classifier.3.weights 1.9073486328125e-06\n",
      "\u001b[36m(launch_and_fit pid=15244)\u001b[0m classifier.4.weight 2.384185791015625e-06\n",
      "\u001b[36m(launch_and_fit pid=15244)\u001b[0m classifier.4.bias 1.1920928955078125e-06\n",
      "\u001b[36m(launch_and_fit pid=15245)\u001b[0m \tTrain Epoch: 10 \tTrain_loss: 0.0002 | Train_acc: 100.0000 % | Validation_loss: 0.4837 | Validation_acc: 90.8750 %\u001b[32m [repeated 3x across cluster]\u001b[0m\n",
      "\u001b[36m(launch_and_fit pid=15325)\u001b[0m Run with homomorphic encryption\n",
      "\u001b[36m(launch_and_fit pid=15245)\u001b[0m save graph in  results/FL/\n",
      "\u001b[36m(launch_and_fit pid=15245)\u001b[0m classifier.4.bias 1.430511474609375e-06\u001b[32m [repeated 11x across cluster]\u001b[0m\n",
      "\u001b[36m(launch_and_fit pid=15325)\u001b[0m [Client 0, round 19] fit, config: {'learning_rate': 0.003, 'batch_size': '32', 'server_round': 19, 'local_epochs': 10}\n",
      "\u001b[36m(launch_and_fit pid=15325)\u001b[0m Updated model\n"
     ]
    },
    {
     "name": "stderr",
     "output_type": "stream",
     "text": [
      "  0%|\u001b[34m          \u001b[0m| 0/10 [00:00<?, ?it/s]\n",
      "100%|\u001b[34m██████████\u001b[0m| 10/10 [00:42<00:00,  4.25s/it]\u001b[32m [repeated 3x across cluster]\u001b[0m\n"
     ]
    },
    {
     "name": "stdout",
     "output_type": "stream",
     "text": [
      "\u001b[36m(launch_and_fit pid=15325)\u001b[0m \tTrain Epoch: 1 \tTrain_loss: 0.0374 | Train_acc: 99.0809 % | Validation_loss: 0.4699 | Validation_acc: 86.6250 %\n",
      "\u001b[36m(launch_and_fit pid=15327)\u001b[0m Run with homomorphic encryption\n",
      "\u001b[36m(launch_and_fit pid=15327)\u001b[0m [Client 8, round 19] fit, config: {'learning_rate': 0.003, 'batch_size': '32', 'server_round': 19, 'local_epochs': 10}\n"
     ]
    },
    {
     "name": "stderr",
     "output_type": "stream",
     "text": [
      "  0%|\u001b[34m          \u001b[0m| 0/10 [00:00<?, ?it/s]\n",
      " 10%|\u001b[34m█         \u001b[0m| 1/10 [00:04<00:42,  4.74s/it]\u001b[32m [repeated 2x across cluster]\u001b[0m\n"
     ]
    },
    {
     "name": "stdout",
     "output_type": "stream",
     "text": [
      "\u001b[36m(launch_and_fit pid=15327)\u001b[0m Updated model\n",
      "\u001b[36m(launch_and_fit pid=15325)\u001b[0m \tTrain Epoch: 3 \tTrain_loss: 0.0263 | Train_acc: 99.2647 % | Validation_loss: 0.4337 | Validation_acc: 89.7500 %\u001b[32m [repeated 4x across cluster]\u001b[0m\n"
     ]
    },
    {
     "name": "stderr",
     "output_type": "stream",
     "text": [
      " 30%|\u001b[34m███       \u001b[0m| 3/10 [00:13<00:29,  4.27s/it]\u001b[32m [repeated 3x across cluster]\u001b[0m\n"
     ]
    },
    {
     "name": "stdout",
     "output_type": "stream",
     "text": [
      "\u001b[36m(launch_and_fit pid=15325)\u001b[0m \tTrain Epoch: 5 \tTrain_loss: 0.0135 | Train_acc: 99.8162 % | Validation_loss: 0.3325 | Validation_acc: 87.3125 %\u001b[32m [repeated 4x across cluster]\u001b[0m\n"
     ]
    },
    {
     "name": "stderr",
     "output_type": "stream",
     "text": [
      " 50%|\u001b[34m█████     \u001b[0m| 5/10 [00:21<00:21,  4.25s/it]\u001b[32m [repeated 4x across cluster]\u001b[0m\n"
     ]
    },
    {
     "name": "stdout",
     "output_type": "stream",
     "text": [
      "\u001b[36m(launch_and_fit pid=15325)\u001b[0m \tTrain Epoch: 7 \tTrain_loss: 0.0011 | Train_acc: 100.0000 % | Validation_loss: 0.4487 | Validation_acc: 87.3125 %\u001b[32m [repeated 4x across cluster]\u001b[0m\n"
     ]
    },
    {
     "name": "stderr",
     "output_type": "stream",
     "text": [
      " 70%|\u001b[34m███████   \u001b[0m| 7/10 [00:29<00:12,  4.17s/it]\u001b[32m [repeated 4x across cluster]\u001b[0m\n",
      " 80%|\u001b[34m████████  \u001b[0m| 8/10 [00:34<00:08,  4.24s/it]\u001b[32m [repeated 3x across cluster]\u001b[0m\n"
     ]
    },
    {
     "name": "stdout",
     "output_type": "stream",
     "text": [
      "\u001b[36m(launch_and_fit pid=15327)\u001b[0m \tTrain Epoch: 8 \tTrain_loss: 0.0018 | Train_acc: 100.0000 % | Validation_loss: 0.4556 | Validation_acc: 91.3125 %\u001b[32m [repeated 3x across cluster]\u001b[0m\n",
      "\u001b[36m(launch_and_fit pid=15325)\u001b[0m save graph in  results/FL/\n",
      "\u001b[36m(launch_and_fit pid=15325)\u001b[0m \tTrain Epoch: 10 \tTrain_loss: 0.0011 | Train_acc: 100.0000 % | Validation_loss: 0.4241 | Validation_acc: 87.7500 %\u001b[32m [repeated 3x across cluster]\u001b[0m\n"
     ]
    },
    {
     "name": "stderr",
     "output_type": "stream",
     "text": [
      "100%|\u001b[34m██████████\u001b[0m| 10/10 [00:42<00:00,  4.23s/it]\u001b[32m [repeated 3x across cluster]\u001b[0m\n"
     ]
    },
    {
     "name": "stdout",
     "output_type": "stream",
     "text": [
      "\u001b[36m(launch_and_fit pid=15325)\u001b[0m features.0.weight 7.152557373046875e-06\n",
      "\u001b[36m(launch_and_fit pid=15325)\u001b[0m features.0.bias 1.9073486328125e-06\n",
      "\u001b[36m(launch_and_fit pid=15325)\u001b[0m features.3.weight 1.6689300537109375e-06\n",
      "\u001b[36m(launch_and_fit pid=15325)\u001b[0m features.3.bias 9.5367431640625e-07\n",
      "\u001b[36m(launch_and_fit pid=15325)\u001b[0m classifier.0.weight 1.1920928955078125e-06\n",
      "\u001b[36m(launch_and_fit pid=15325)\u001b[0m classifier.0.bias 9.5367431640625e-07\n",
      "\u001b[36m(launch_and_fit pid=15325)\u001b[0m classifier.2.weight 9.5367431640625e-07\n",
      "\u001b[36m(launch_and_fit pid=15325)\u001b[0m classifier.2.bias 9.5367431640625e-07\n",
      "\u001b[36m(launch_and_fit pid=15325)\u001b[0m classifier.3.weights 1.1920928955078125e-06\n",
      "\u001b[36m(launch_and_fit pid=15325)\u001b[0m classifier.4.weight 9.5367431640625e-07\n",
      "\u001b[36m(launch_and_fit pid=15325)\u001b[0m classifier.4.bias 9.5367431640625e-07\n",
      "\u001b[36m(launch_and_fit pid=15407)\u001b[0m Run with homomorphic encryption\n",
      "\u001b[36m(launch_and_fit pid=15327)\u001b[0m save graph in  results/FL/\n",
      "\u001b[36m(launch_and_fit pid=15327)\u001b[0m \tTrain Epoch: 10 \tTrain_loss: 0.0033 | Train_acc: 99.8162 % | Validation_loss: 0.4316 | Validation_acc: 91.7500 %\n",
      "\u001b[36m(launch_and_fit pid=15327)\u001b[0m classifier.4.bias 1.1920928955078125e-06\u001b[32m [repeated 11x across cluster]\u001b[0m\n",
      "\u001b[36m(launch_and_fit pid=15407)\u001b[0m [Client 7, round 19] fit, config: {'learning_rate': 0.003, 'batch_size': '32', 'server_round': 19, 'local_epochs': 10}\n",
      "\u001b[36m(launch_and_fit pid=15407)\u001b[0m Updated model\n"
     ]
    },
    {
     "name": "stderr",
     "output_type": "stream",
     "text": [
      "  0%|\u001b[34m          \u001b[0m| 0/10 [00:00<?, ?it/s]\n",
      "100%|\u001b[34m██████████\u001b[0m| 10/10 [00:42<00:00,  4.25s/it]\n"
     ]
    },
    {
     "name": "stdout",
     "output_type": "stream",
     "text": [
      "\u001b[36m(launch_and_fit pid=15407)\u001b[0m \tTrain Epoch: 1 \tTrain_loss: 0.0126 | Train_acc: 99.6324 % | Validation_loss: 0.4563 | Validation_acc: 88.1875 %\n",
      "\u001b[36m(launch_and_fit pid=15432)\u001b[0m Run with homomorphic encryption\n",
      "\u001b[36m(launch_and_fit pid=15432)\u001b[0m [Client 5, round 19] fit, config: {'learning_rate': 0.003, 'batch_size': '32', 'server_round': 19, 'local_epochs': 10}\n"
     ]
    },
    {
     "name": "stderr",
     "output_type": "stream",
     "text": [
      " 10%|\u001b[34m█         \u001b[0m| 1/10 [00:04<00:41,  4.57s/it]\n"
     ]
    },
    {
     "name": "stdout",
     "output_type": "stream",
     "text": [
      "\u001b[36m(launch_and_fit pid=15432)\u001b[0m Updated model\n"
     ]
    },
    {
     "name": "stderr",
     "output_type": "stream",
     "text": [
      "  0%|\u001b[34m          \u001b[0m| 0/10 [00:00<?, ?it/s]\n"
     ]
    },
    {
     "name": "stdout",
     "output_type": "stream",
     "text": [
      "\u001b[36m(launch_and_fit pid=15407)\u001b[0m \tTrain Epoch: 3 \tTrain_loss: 0.0134 | Train_acc: 99.8162 % | Validation_loss: 0.4676 | Validation_acc: 85.7500 %\u001b[32m [repeated 4x across cluster]\u001b[0m\n"
     ]
    },
    {
     "name": "stderr",
     "output_type": "stream",
     "text": [
      " 30%|\u001b[34m███       \u001b[0m| 3/10 [00:13<00:30,  4.31s/it]\u001b[32m [repeated 4x across cluster]\u001b[0m\n"
     ]
    },
    {
     "name": "stdout",
     "output_type": "stream",
     "text": [
      "\u001b[36m(launch_and_fit pid=15407)\u001b[0m \tTrain Epoch: 5 \tTrain_loss: 0.0066 | Train_acc: 99.8162 % | Validation_loss: 0.5023 | Validation_acc: 81.7500 %\u001b[32m [repeated 4x across cluster]\u001b[0m\n"
     ]
    },
    {
     "name": "stderr",
     "output_type": "stream",
     "text": [
      " 50%|\u001b[34m█████     \u001b[0m| 5/10 [00:21<00:20,  4.16s/it]\u001b[32m [repeated 4x across cluster]\u001b[0m\n"
     ]
    },
    {
     "name": "stdout",
     "output_type": "stream",
     "text": [
      "\u001b[36m(launch_and_fit pid=15407)\u001b[0m \tTrain Epoch: 7 \tTrain_loss: 0.0086 | Train_acc: 99.8162 % | Validation_loss: 0.9197 | Validation_acc: 83.7500 %\u001b[32m [repeated 4x across cluster]\u001b[0m\n"
     ]
    },
    {
     "name": "stderr",
     "output_type": "stream",
     "text": [
      " 70%|\u001b[34m███████   \u001b[0m| 7/10 [00:29<00:12,  4.10s/it]\u001b[32m [repeated 4x across cluster]\u001b[0m\n"
     ]
    },
    {
     "name": "stdout",
     "output_type": "stream",
     "text": [
      "\u001b[36m(launch_and_fit pid=15407)\u001b[0m \tTrain Epoch: 9 \tTrain_loss: 0.0182 | Train_acc: 99.6324 % | Validation_loss: 0.8811 | Validation_acc: 78.6250 %\u001b[32m [repeated 4x across cluster]\u001b[0m\n"
     ]
    },
    {
     "name": "stderr",
     "output_type": "stream",
     "text": [
      " 90%|\u001b[34m█████████ \u001b[0m| 9/10 [00:37<00:04,  4.17s/it]\u001b[32m [repeated 4x across cluster]\u001b[0m\n"
     ]
    },
    {
     "name": "stdout",
     "output_type": "stream",
     "text": [
      "\u001b[36m(launch_and_fit pid=15407)\u001b[0m save graph in  results/FL/\n",
      "\u001b[36m(launch_and_fit pid=15407)\u001b[0m features.0.weight 5.245208740234375e-06\n",
      "\u001b[36m(launch_and_fit pid=15407)\u001b[0m features.0.bias 1.430511474609375e-06\n",
      "\u001b[36m(launch_and_fit pid=15407)\u001b[0m features.3.weight 1.1920928955078125e-06\n",
      "\u001b[36m(launch_and_fit pid=15407)\u001b[0m features.3.bias 1.1920928955078125e-06\n",
      "\u001b[36m(launch_and_fit pid=15407)\u001b[0m classifier.0.weight 1.430511474609375e-06\n",
      "\u001b[36m(launch_and_fit pid=15407)\u001b[0m classifier.0.bias 9.5367431640625e-07\n",
      "\u001b[36m(launch_and_fit pid=15407)\u001b[0m classifier.2.weight 1.430511474609375e-06\n",
      "\u001b[36m(launch_and_fit pid=15407)\u001b[0m classifier.2.bias 1.1920928955078125e-06\n",
      "\u001b[36m(launch_and_fit pid=15407)\u001b[0m classifier.3.weights 1.1920928955078125e-06\n",
      "\u001b[36m(launch_and_fit pid=15407)\u001b[0m classifier.4.weight 9.5367431640625e-07\n",
      "\u001b[36m(launch_and_fit pid=15407)\u001b[0m classifier.4.bias 1.1920928955078125e-06\n",
      "\u001b[36m(launch_and_fit pid=15432)\u001b[0m \tTrain Epoch: 10 \tTrain_loss: 0.0002 | Train_acc: 100.0000 % | Validation_loss: 0.2299 | Validation_acc: 90.6250 %\u001b[32m [repeated 3x across cluster]\u001b[0m\n",
      "\u001b[36m(launch_and_fit pid=15490)\u001b[0m Run with homomorphic encryption\n",
      "\u001b[36m(launch_and_fit pid=15432)\u001b[0m save graph in  results/FL/\n",
      "\u001b[36m(launch_and_fit pid=15432)\u001b[0m classifier.4.bias 1.1920928955078125e-06\u001b[32m [repeated 11x across cluster]\u001b[0m\n",
      "\u001b[36m(launch_and_fit pid=15490)\u001b[0m [Client 9, round 19] fit, config: {'learning_rate': 0.003, 'batch_size': '32', 'server_round': 19, 'local_epochs': 10}\n"
     ]
    },
    {
     "name": "stderr",
     "output_type": "stream",
     "text": [
      "  0%|\u001b[34m          \u001b[0m| 0/10 [00:00<?, ?it/s]\n",
      "100%|\u001b[34m██████████\u001b[0m| 10/10 [00:41<00:00,  4.17s/it]\u001b[32m [repeated 3x across cluster]\u001b[0m\n"
     ]
    },
    {
     "name": "stdout",
     "output_type": "stream",
     "text": [
      "\u001b[36m(launch_and_fit pid=15490)\u001b[0m Updated model\n",
      "\u001b[36m(launch_and_fit pid=15490)\u001b[0m \tTrain Epoch: 1 \tTrain_loss: 0.0204 | Train_acc: 99.6324 % | Validation_loss: 0.6721 | Validation_acc: 82.1875 %\n",
      "\u001b[36m(launch_and_fit pid=15492)\u001b[0m Run with homomorphic encryption\n",
      "\u001b[36m(launch_and_fit pid=15492)\u001b[0m [Client 4, round 19] fit, config: {'learning_rate': 0.003, 'batch_size': '32', 'server_round': 19, 'local_epochs': 10}\n"
     ]
    },
    {
     "name": "stderr",
     "output_type": "stream",
     "text": [
      "  0%|\u001b[34m          \u001b[0m| 0/10 [00:00<?, ?it/s]\n",
      " 20%|\u001b[34m██        \u001b[0m| 2/10 [00:08<00:33,  4.24s/it]\u001b[32m [repeated 3x across cluster]\u001b[0m\n"
     ]
    },
    {
     "name": "stdout",
     "output_type": "stream",
     "text": [
      "\u001b[36m(launch_and_fit pid=15492)\u001b[0m Updated model\n",
      "\u001b[36m(launch_and_fit pid=15490)\u001b[0m \tTrain Epoch: 3 \tTrain_loss: 0.0016 | Train_acc: 100.0000 % | Validation_loss: 0.7172 | Validation_acc: 82.1875 %\u001b[32m [repeated 4x across cluster]\u001b[0m\n"
     ]
    },
    {
     "name": "stderr",
     "output_type": "stream",
     "text": [
      " 40%|\u001b[34m████      \u001b[0m| 4/10 [00:16<00:25,  4.20s/it]\u001b[32m [repeated 4x across cluster]\u001b[0m\n"
     ]
    },
    {
     "name": "stdout",
     "output_type": "stream",
     "text": [
      "\u001b[36m(launch_and_fit pid=15490)\u001b[0m \tTrain Epoch: 5 \tTrain_loss: 0.0004 | Train_acc: 100.0000 % | Validation_loss: 0.8300 | Validation_acc: 80.6250 %\u001b[32m [repeated 4x across cluster]\u001b[0m\n"
     ]
    },
    {
     "name": "stderr",
     "output_type": "stream",
     "text": [
      " 60%|\u001b[34m██████    \u001b[0m| 6/10 [00:25<00:16,  4.15s/it]\u001b[32m [repeated 4x across cluster]\u001b[0m\n"
     ]
    },
    {
     "name": "stdout",
     "output_type": "stream",
     "text": [
      "\u001b[36m(launch_and_fit pid=15490)\u001b[0m \tTrain Epoch: 7 \tTrain_loss: 0.0003 | Train_acc: 100.0000 % | Validation_loss: 0.8274 | Validation_acc: 80.6250 %\u001b[32m [repeated 4x across cluster]\u001b[0m\n"
     ]
    },
    {
     "name": "stderr",
     "output_type": "stream",
     "text": [
      " 80%|\u001b[34m████████  \u001b[0m| 8/10 [00:33<00:08,  4.21s/it]\u001b[32m [repeated 4x across cluster]\u001b[0m\n"
     ]
    },
    {
     "name": "stdout",
     "output_type": "stream",
     "text": [
      "\u001b[36m(launch_and_fit pid=15490)\u001b[0m \tTrain Epoch: 9 \tTrain_loss: 0.0002 | Train_acc: 100.0000 % | Validation_loss: 0.8324 | Validation_acc: 80.6250 %\u001b[32m [repeated 4x across cluster]\u001b[0m\n"
     ]
    },
    {
     "name": "stderr",
     "output_type": "stream",
     "text": [
      "100%|\u001b[34m██████████\u001b[0m| 10/10 [00:42<00:00,  4.21s/it]\u001b[32m [repeated 4x across cluster]\u001b[0m\n"
     ]
    },
    {
     "name": "stdout",
     "output_type": "stream",
     "text": [
      "\u001b[36m(launch_and_fit pid=15490)\u001b[0m save graph in  results/FL/\n",
      "\u001b[36m(launch_and_fit pid=15490)\u001b[0m features.0.weight 4.76837158203125e-06\n",
      "\u001b[36m(launch_and_fit pid=15490)\u001b[0m features.0.bias 1.6689300537109375e-06\n",
      "\u001b[36m(launch_and_fit pid=15490)\u001b[0m features.3.weight 1.1920928955078125e-06\n",
      "\u001b[36m(launch_and_fit pid=15490)\u001b[0m features.3.bias 1.430511474609375e-06\n",
      "\u001b[36m(launch_and_fit pid=15490)\u001b[0m classifier.0.weight 1.1920928955078125e-06\n",
      "\u001b[36m(launch_and_fit pid=15490)\u001b[0m classifier.0.bias 9.5367431640625e-07\n",
      "\u001b[36m(launch_and_fit pid=15490)\u001b[0m classifier.2.weight 9.5367431640625e-07\n",
      "\u001b[36m(launch_and_fit pid=15490)\u001b[0m classifier.2.bias 1.430511474609375e-06\n",
      "\u001b[36m(launch_and_fit pid=15490)\u001b[0m classifier.3.weights 1.430511474609375e-06\n",
      "\u001b[36m(launch_and_fit pid=15490)\u001b[0m classifier.4.weight 9.5367431640625e-07\n",
      "\u001b[36m(launch_and_fit pid=15490)\u001b[0m classifier.4.bias 1.1920928955078125e-06\n",
      "\u001b[36m(launch_and_fit pid=15492)\u001b[0m \tTrain Epoch: 10 \tTrain_loss: 0.0002 | Train_acc: 100.0000 % | Validation_loss: 0.2302 | Validation_acc: 89.7500 %\u001b[32m [repeated 3x across cluster]\u001b[0m\n"
     ]
    },
    {
     "name": "stderr",
     "output_type": "stream",
     "text": [
      "DEBUG flwr 2024-07-21 04:23:27,430 | server.py:236 | fit_round 19 received 10 results and 0 failures\n"
     ]
    },
    {
     "name": "stdout",
     "output_type": "stream",
     "text": [
      "Saving round 19 aggregated_parameters...\n"
     ]
    },
    {
     "name": "stderr",
     "output_type": "stream",
     "text": [
      "DEBUG flwr 2024-07-21 04:23:29,415 | server.py:173 | evaluate_round 19: strategy sampled 10 clients (out of 10)\n"
     ]
    },
    {
     "name": "stdout",
     "output_type": "stream",
     "text": [
      "\u001b[36m(launch_and_evaluate pid=15581)\u001b[0m Run with homomorphic encryption\n",
      "\u001b[36m(launch_and_fit pid=15492)\u001b[0m save graph in  results/FL/\n",
      "\u001b[36m(launch_and_fit pid=15492)\u001b[0m classifier.4.bias 9.5367431640625e-07\u001b[32m [repeated 11x across cluster]\u001b[0m\n",
      "\u001b[36m(launch_and_evaluate pid=15581)\u001b[0m [Client 1] evaluate, config: {}\n",
      "\u001b[36m(launch_and_evaluate pid=15581)\u001b[0m Updated model\n",
      "\u001b[36m(launch_and_evaluate pid=15660)\u001b[0m Run with homomorphic encryption\u001b[32m [repeated 2x across cluster]\u001b[0m\n",
      "\u001b[36m(launch_and_evaluate pid=15582)\u001b[0m [Client 6] evaluate, config: {}\n",
      "\u001b[36m(launch_and_evaluate pid=15582)\u001b[0m Updated model\n",
      "\u001b[36m(launch_and_evaluate pid=15660)\u001b[0m [Client 8] evaluate, config: {}\n",
      "\u001b[36m(launch_and_evaluate pid=15660)\u001b[0m Updated model\n",
      "\u001b[36m(launch_and_evaluate pid=15739)\u001b[0m Run with homomorphic encryption\u001b[32m [repeated 2x across cluster]\u001b[0m\n",
      "\u001b[36m(launch_and_evaluate pid=15662)\u001b[0m [Client 2] evaluate, config: {}\n",
      "\u001b[36m(launch_and_evaluate pid=15662)\u001b[0m Updated model\n",
      "\u001b[36m(launch_and_evaluate pid=15739)\u001b[0m [Client 9] evaluate, config: {}\n",
      "\u001b[36m(launch_and_evaluate pid=15739)\u001b[0m Updated model\n",
      "\u001b[36m(launch_and_evaluate pid=15820)\u001b[0m Run with homomorphic encryption\u001b[32m [repeated 2x across cluster]\u001b[0m\n",
      "\u001b[36m(launch_and_evaluate pid=15741)\u001b[0m [Client 5] evaluate, config: {}\n",
      "\u001b[36m(launch_and_evaluate pid=15741)\u001b[0m Updated model\n",
      "\u001b[36m(launch_and_evaluate pid=15818)\u001b[0m [Client 0] evaluate, config: {}\n",
      "\u001b[36m(launch_and_evaluate pid=15820)\u001b[0m Updated model\n",
      "\u001b[36m(launch_and_evaluate pid=15896)\u001b[0m Run with homomorphic encryption\u001b[32m [repeated 2x across cluster]\u001b[0m\n",
      "\u001b[36m(launch_and_evaluate pid=15820)\u001b[0m [Client 7] evaluate, config: {}\n",
      "\u001b[36m(launch_and_evaluate pid=15818)\u001b[0m Updated model\n",
      "\u001b[36m(launch_and_evaluate pid=15896)\u001b[0m [Client 4] evaluate, config: {}\n",
      "\u001b[36m(launch_and_evaluate pid=15896)\u001b[0m Updated model\n"
     ]
    },
    {
     "name": "stderr",
     "output_type": "stream",
     "text": [
      "DEBUG flwr 2024-07-21 04:24:47,753 | server.py:187 | evaluate_round 19 received 10 results and 0 failures\n",
      "DEBUG flwr 2024-07-21 04:24:47,754 | server.py:222 | fit_round 20: strategy sampled 10 clients (out of 10)\n"
     ]
    },
    {
     "name": "stdout",
     "output_type": "stream",
     "text": [
      "\u001b[36m(launch_and_fit pid=15983)\u001b[0m Run with homomorphic encryption\u001b[32m [repeated 2x across cluster]\u001b[0m\n",
      "\u001b[36m(launch_and_evaluate pid=15898)\u001b[0m [Client 3] evaluate, config: {}\n",
      "\u001b[36m(launch_and_evaluate pid=15898)\u001b[0m Updated model\n",
      "\u001b[36m(launch_and_fit pid=15983)\u001b[0m [Client 1, round 20] fit, config: {'learning_rate': 0.003, 'batch_size': '32', 'server_round': 20, 'local_epochs': 10}\n",
      "\u001b[36m(launch_and_fit pid=15983)\u001b[0m Updated model\n"
     ]
    },
    {
     "name": "stderr",
     "output_type": "stream",
     "text": [
      "  0%|\u001b[34m          \u001b[0m| 0/10 [00:00<?, ?it/s]\n",
      "100%|\u001b[34m██████████\u001b[0m| 10/10 [00:42<00:00,  4.21s/it]\n"
     ]
    },
    {
     "name": "stdout",
     "output_type": "stream",
     "text": [
      "\u001b[36m(launch_and_fit pid=15983)\u001b[0m \tTrain Epoch: 1 \tTrain_loss: 0.0237 | Train_acc: 99.6324 % | Validation_loss: 0.2475 | Validation_acc: 95.3125 %\n",
      "\u001b[36m(launch_and_fit pid=15984)\u001b[0m Run with homomorphic encryption\n",
      "\u001b[36m(launch_and_fit pid=15984)\u001b[0m [Client 3, round 20] fit, config: {'learning_rate': 0.003, 'batch_size': '32', 'server_round': 20, 'local_epochs': 10}\n",
      "\u001b[36m(launch_and_fit pid=15984)\u001b[0m Updated model\n"
     ]
    },
    {
     "name": "stderr",
     "output_type": "stream",
     "text": [
      " 10%|\u001b[34m█         \u001b[0m| 1/10 [00:04<00:44,  4.95s/it]\n",
      "  0%|\u001b[34m          \u001b[0m| 0/10 [00:00<?, ?it/s]\n",
      " 30%|\u001b[34m███       \u001b[0m| 3/10 [00:13<00:30,  4.32s/it]\u001b[32m [repeated 4x across cluster]\u001b[0m\n"
     ]
    },
    {
     "name": "stdout",
     "output_type": "stream",
     "text": [
      "\u001b[36m(launch_and_fit pid=15983)\u001b[0m \tTrain Epoch: 3 \tTrain_loss: 0.0098 | Train_acc: 99.6324 % | Validation_loss: 0.4103 | Validation_acc: 91.3125 %\u001b[32m [repeated 4x across cluster]\u001b[0m\n"
     ]
    },
    {
     "name": "stderr",
     "output_type": "stream",
     "text": [
      " 50%|\u001b[34m█████     \u001b[0m| 5/10 [00:21<00:20,  4.16s/it]\u001b[32m [repeated 4x across cluster]\u001b[0m\n"
     ]
    },
    {
     "name": "stdout",
     "output_type": "stream",
     "text": [
      "\u001b[36m(launch_and_fit pid=15984)\u001b[0m \tTrain Epoch: 5 \tTrain_loss: 0.0118 | Train_acc: 99.6324 % | Validation_loss: 0.4967 | Validation_acc: 87.7500 %\u001b[32m [repeated 4x across cluster]\u001b[0m\n"
     ]
    },
    {
     "name": "stderr",
     "output_type": "stream",
     "text": [
      " 70%|\u001b[34m███████   \u001b[0m| 7/10 [00:29<00:12,  4.10s/it]\u001b[32m [repeated 4x across cluster]\u001b[0m\n"
     ]
    },
    {
     "name": "stdout",
     "output_type": "stream",
     "text": [
      "\u001b[36m(launch_and_fit pid=15984)\u001b[0m \tTrain Epoch: 7 \tTrain_loss: 0.0045 | Train_acc: 99.8162 % | Validation_loss: 0.3738 | Validation_acc: 86.8750 %\u001b[32m [repeated 4x across cluster]\u001b[0m\n"
     ]
    },
    {
     "name": "stderr",
     "output_type": "stream",
     "text": [
      " 90%|\u001b[34m█████████ \u001b[0m| 9/10 [00:37<00:04,  4.13s/it]\u001b[32m [repeated 4x across cluster]\u001b[0m\n"
     ]
    },
    {
     "name": "stdout",
     "output_type": "stream",
     "text": [
      "\u001b[36m(launch_and_fit pid=15984)\u001b[0m \tTrain Epoch: 9 \tTrain_loss: 0.0003 | Train_acc: 100.0000 % | Validation_loss: 0.4126 | Validation_acc: 85.7500 %\u001b[32m [repeated 4x across cluster]\u001b[0m\n",
      "\u001b[36m(launch_and_fit pid=15984)\u001b[0m save graph in  results/FL/\n",
      "\u001b[36m(launch_and_fit pid=15984)\u001b[0m features.0.weight 8.344650268554688e-06\n",
      "\u001b[36m(launch_and_fit pid=15984)\u001b[0m features.0.bias 2.384185791015625e-06\n",
      "\u001b[36m(launch_and_fit pid=15984)\u001b[0m features.3.weight 1.430511474609375e-06\n",
      "\u001b[36m(launch_and_fit pid=15984)\u001b[0m features.3.bias 1.6689300537109375e-06\n",
      "\u001b[36m(launch_and_fit pid=15984)\u001b[0m classifier.0.weight 1.430511474609375e-06\n",
      "\u001b[36m(launch_and_fit pid=15984)\u001b[0m classifier.0.bias 1.9073486328125e-06\n",
      "\u001b[36m(launch_and_fit pid=15984)\u001b[0m classifier.2.weight 1.9073486328125e-06\n",
      "\u001b[36m(launch_and_fit pid=15984)\u001b[0m classifier.2.bias 1.1920928955078125e-06\n",
      "\u001b[36m(launch_and_fit pid=15984)\u001b[0m classifier.3.weights 1.6689300537109375e-06\n",
      "\u001b[36m(launch_and_fit pid=15984)\u001b[0m classifier.4.weight 1.1920928955078125e-06\n",
      "\u001b[36m(launch_and_fit pid=15984)\u001b[0m classifier.4.bias 1.9073486328125e-06\n",
      "\u001b[36m(launch_and_fit pid=16066)\u001b[0m Run with homomorphic encryption\n",
      "\u001b[36m(launch_and_fit pid=15983)\u001b[0m \tTrain Epoch: 10 \tTrain_loss: 0.1042 | Train_acc: 96.5074 % | Validation_loss: 0.6000 | Validation_acc: 77.5000 %\u001b[32m [repeated 3x across cluster]\u001b[0m\n",
      "\u001b[36m(launch_and_fit pid=15983)\u001b[0m save graph in  results/FL/\n",
      "\u001b[36m(launch_and_fit pid=15983)\u001b[0m classifier.4.bias 1.6689300537109375e-06\u001b[32m [repeated 11x across cluster]\u001b[0m\n",
      "\u001b[36m(launch_and_fit pid=16064)\u001b[0m [Client 8, round 20] fit, config: {'learning_rate': 0.003, 'batch_size': '32', 'server_round': 20, 'local_epochs': 10}\n"
     ]
    },
    {
     "name": "stderr",
     "output_type": "stream",
     "text": [
      "  0%|\u001b[34m          \u001b[0m| 0/10 [00:00<?, ?it/s]\n",
      "100%|\u001b[34m██████████\u001b[0m| 10/10 [00:42<00:00,  4.23s/it]\u001b[32m [repeated 3x across cluster]\u001b[0m\n"
     ]
    },
    {
     "name": "stdout",
     "output_type": "stream",
     "text": [
      "\u001b[36m(launch_and_fit pid=16066)\u001b[0m Updated model\n",
      "\u001b[36m(launch_and_fit pid=16064)\u001b[0m Run with homomorphic encryption\n",
      "\u001b[36m(launch_and_fit pid=16066)\u001b[0m \tTrain Epoch: 1 \tTrain_loss: 0.0097 | Train_acc: 99.8162 % | Validation_loss: 0.2556 | Validation_acc: 93.3125 %\n",
      "\u001b[36m(launch_and_fit pid=16066)\u001b[0m [Client 4, round 20] fit, config: {'learning_rate': 0.003, 'batch_size': '32', 'server_round': 20, 'local_epochs': 10}\n",
      "\u001b[36m(launch_and_fit pid=16064)\u001b[0m \tTrain Epoch: 1 \tTrain_loss: 0.0129 | Train_acc: 99.8162 % | Validation_loss: 0.3431 | Validation_acc: 89.7500 %\n",
      "\u001b[36m(launch_and_fit pid=16064)\u001b[0m \tTrain Epoch: 2 \tTrain_loss: 0.0206 | Train_acc: 99.4485 % | Validation_loss: 0.3249 | Validation_acc: 85.3125 %\n",
      "\u001b[36m(launch_and_fit pid=16064)\u001b[0m Updated model\n"
     ]
    },
    {
     "name": "stderr",
     "output_type": "stream",
     "text": [
      "  0%|\u001b[34m          \u001b[0m| 0/10 [00:00<?, ?it/s]\n",
      " 20%|\u001b[34m██        \u001b[0m| 2/10 [00:08<00:35,  4.43s/it]\u001b[32m [repeated 3x across cluster]\u001b[0m\n"
     ]
    },
    {
     "name": "stdout",
     "output_type": "stream",
     "text": [
      "\u001b[36m(launch_and_fit pid=16064)\u001b[0m \tTrain Epoch: 3 \tTrain_loss: 0.0038 | Train_acc: 100.0000 % | Validation_loss: 0.3481 | Validation_acc: 85.7500 %\u001b[32m [repeated 2x across cluster]\u001b[0m\n"
     ]
    },
    {
     "name": "stderr",
     "output_type": "stream",
     "text": [
      " 40%|\u001b[34m████      \u001b[0m| 4/10 [00:16<00:25,  4.17s/it]\u001b[32m [repeated 4x across cluster]\u001b[0m\n"
     ]
    },
    {
     "name": "stdout",
     "output_type": "stream",
     "text": [
      "\u001b[36m(launch_and_fit pid=16064)\u001b[0m \tTrain Epoch: 5 \tTrain_loss: 0.0010 | Train_acc: 100.0000 % | Validation_loss: 0.2789 | Validation_acc: 89.7500 %\u001b[32m [repeated 4x across cluster]\u001b[0m\n"
     ]
    },
    {
     "name": "stderr",
     "output_type": "stream",
     "text": [
      " 60%|\u001b[34m██████    \u001b[0m| 6/10 [00:25<00:16,  4.10s/it]\u001b[32m [repeated 4x across cluster]\u001b[0m\n"
     ]
    },
    {
     "name": "stdout",
     "output_type": "stream",
     "text": [
      "\u001b[36m(launch_and_fit pid=16064)\u001b[0m \tTrain Epoch: 7 \tTrain_loss: 0.0020 | Train_acc: 100.0000 % | Validation_loss: 0.3270 | Validation_acc: 87.7500 %\u001b[32m [repeated 4x across cluster]\u001b[0m\n"
     ]
    },
    {
     "name": "stderr",
     "output_type": "stream",
     "text": [
      " 80%|\u001b[34m████████  \u001b[0m| 8/10 [00:33<00:08,  4.10s/it]\u001b[32m [repeated 4x across cluster]\u001b[0m\n"
     ]
    },
    {
     "name": "stdout",
     "output_type": "stream",
     "text": [
      "\u001b[36m(launch_and_fit pid=16064)\u001b[0m \tTrain Epoch: 9 \tTrain_loss: 0.0005 | Train_acc: 100.0000 % | Validation_loss: 0.3814 | Validation_acc: 87.7500 %\u001b[32m [repeated 4x across cluster]\u001b[0m\n",
      "\u001b[36m(launch_and_fit pid=16064)\u001b[0m save graph in  results/FL/\n"
     ]
    },
    {
     "name": "stderr",
     "output_type": "stream",
     "text": [
      "100%|\u001b[34m██████████\u001b[0m| 10/10 [00:41<00:00,  4.18s/it]\u001b[32m [repeated 4x across cluster]\u001b[0m\n"
     ]
    },
    {
     "name": "stdout",
     "output_type": "stream",
     "text": [
      "\u001b[36m(launch_and_fit pid=16064)\u001b[0m features.0.weight 4.76837158203125e-06\n",
      "\u001b[36m(launch_and_fit pid=16064)\u001b[0m features.0.bias 1.430511474609375e-06\n",
      "\u001b[36m(launch_and_fit pid=16064)\u001b[0m features.3.weight 1.430511474609375e-06\n",
      "\u001b[36m(launch_and_fit pid=16064)\u001b[0m features.3.bias 9.5367431640625e-07\n",
      "\u001b[36m(launch_and_fit pid=16064)\u001b[0m classifier.0.weight 1.1920928955078125e-06\n",
      "\u001b[36m(launch_and_fit pid=16064)\u001b[0m classifier.0.bias 1.1920928955078125e-06\n",
      "\u001b[36m(launch_and_fit pid=16064)\u001b[0m classifier.2.weight 9.5367431640625e-07\n",
      "\u001b[36m(launch_and_fit pid=16064)\u001b[0m classifier.2.bias 9.5367431640625e-07\n",
      "\u001b[36m(launch_and_fit pid=16064)\u001b[0m classifier.3.weights 9.5367431640625e-07\n",
      "\u001b[36m(launch_and_fit pid=16064)\u001b[0m classifier.4.weight 9.5367431640625e-07\n",
      "\u001b[36m(launch_and_fit pid=16064)\u001b[0m classifier.4.bias 9.5367431640625e-07\n",
      "\u001b[36m(launch_and_fit pid=16066)\u001b[0m \tTrain Epoch: 10 \tTrain_loss: 0.0134 | Train_acc: 99.6324 % | Validation_loss: 0.5770 | Validation_acc: 85.0625 %\u001b[32m [repeated 3x across cluster]\u001b[0m\n",
      "\u001b[36m(launch_and_fit pid=16146)\u001b[0m Run with homomorphic encryption\n",
      "\u001b[36m(launch_and_fit pid=16066)\u001b[0m save graph in  results/FL/\n",
      "\u001b[36m(launch_and_fit pid=16066)\u001b[0m classifier.4.bias 1.1920928955078125e-06\u001b[32m [repeated 11x across cluster]\u001b[0m\n",
      "\u001b[36m(launch_and_fit pid=16146)\u001b[0m [Client 9, round 20] fit, config: {'learning_rate': 0.003, 'batch_size': '32', 'server_round': 20, 'local_epochs': 10}\n",
      "\u001b[36m(launch_and_fit pid=16146)\u001b[0m Updated model\n"
     ]
    },
    {
     "name": "stderr",
     "output_type": "stream",
     "text": [
      "  0%|\u001b[34m          \u001b[0m| 0/10 [00:00<?, ?it/s]\n",
      "100%|\u001b[34m██████████\u001b[0m| 10/10 [00:42<00:00,  4.20s/it]\n"
     ]
    },
    {
     "name": "stdout",
     "output_type": "stream",
     "text": [
      "\u001b[36m(launch_and_fit pid=16146)\u001b[0m \tTrain Epoch: 1 \tTrain_loss: 0.0253 | Train_acc: 99.0809 % | Validation_loss: 0.6999 | Validation_acc: 80.6250 %\n",
      "\u001b[36m(launch_and_fit pid=16148)\u001b[0m Run with homomorphic encryption\n",
      "\u001b[36m(launch_and_fit pid=16148)\u001b[0m [Client 7, round 20] fit, config: {'learning_rate': 0.003, 'batch_size': '32', 'server_round': 20, 'local_epochs': 10}\n"
     ]
    },
    {
     "name": "stderr",
     "output_type": "stream",
     "text": [
      " 10%|\u001b[34m█         \u001b[0m| 1/10 [00:04<00:41,  4.58s/it]\n"
     ]
    },
    {
     "name": "stdout",
     "output_type": "stream",
     "text": [
      "\u001b[36m(launch_and_fit pid=16148)\u001b[0m Updated model\n"
     ]
    },
    {
     "name": "stderr",
     "output_type": "stream",
     "text": [
      "  0%|\u001b[34m          \u001b[0m| 0/10 [00:00<?, ?it/s]\n"
     ]
    },
    {
     "name": "stdout",
     "output_type": "stream",
     "text": [
      "\u001b[36m(launch_and_fit pid=16146)\u001b[0m \tTrain Epoch: 3 \tTrain_loss: 0.0021 | Train_acc: 100.0000 % | Validation_loss: 0.7344 | Validation_acc: 82.1875 %\u001b[32m [repeated 4x across cluster]\u001b[0m\n"
     ]
    },
    {
     "name": "stderr",
     "output_type": "stream",
     "text": [
      " 30%|\u001b[34m███       \u001b[0m| 3/10 [00:12<00:29,  4.22s/it]\u001b[32m [repeated 4x across cluster]\u001b[0m\n"
     ]
    },
    {
     "name": "stdout",
     "output_type": "stream",
     "text": [
      "\u001b[36m(launch_and_fit pid=16146)\u001b[0m \tTrain Epoch: 5 \tTrain_loss: 0.0003 | Train_acc: 100.0000 % | Validation_loss: 0.7453 | Validation_acc: 80.6250 %\u001b[32m [repeated 4x across cluster]\u001b[0m\n"
     ]
    },
    {
     "name": "stderr",
     "output_type": "stream",
     "text": [
      " 50%|\u001b[34m█████     \u001b[0m| 5/10 [00:21<00:20,  4.19s/it]\u001b[32m [repeated 4x across cluster]\u001b[0m\n"
     ]
    },
    {
     "name": "stdout",
     "output_type": "stream",
     "text": [
      "\u001b[36m(launch_and_fit pid=16146)\u001b[0m \tTrain Epoch: 7 \tTrain_loss: 0.0002 | Train_acc: 100.0000 % | Validation_loss: 0.7583 | Validation_acc: 80.6250 %\u001b[32m [repeated 4x across cluster]\u001b[0m\n"
     ]
    },
    {
     "name": "stderr",
     "output_type": "stream",
     "text": [
      " 70%|\u001b[34m███████   \u001b[0m| 7/10 [00:29<00:12,  4.11s/it]\u001b[32m [repeated 4x across cluster]\u001b[0m\n"
     ]
    },
    {
     "name": "stdout",
     "output_type": "stream",
     "text": [
      "\u001b[36m(launch_and_fit pid=16148)\u001b[0m \tTrain Epoch: 9 \tTrain_loss: 0.0155 | Train_acc: 99.2647 % | Validation_loss: 0.6406 | Validation_acc: 87.3125 %\u001b[32m [repeated 4x across cluster]\u001b[0m\n"
     ]
    },
    {
     "name": "stderr",
     "output_type": "stream",
     "text": [
      " 90%|\u001b[34m█████████ \u001b[0m| 9/10 [00:36<00:04,  4.02s/it]\u001b[32m [repeated 4x across cluster]\u001b[0m\n"
     ]
    },
    {
     "name": "stdout",
     "output_type": "stream",
     "text": [
      "\u001b[36m(launch_and_fit pid=16148)\u001b[0m save graph in  results/FL/\n",
      "\u001b[36m(launch_and_fit pid=16148)\u001b[0m features.0.weight 4.76837158203125e-06\n",
      "\u001b[36m(launch_and_fit pid=16148)\u001b[0m features.0.bias 1.9073486328125e-06\n",
      "\u001b[36m(launch_and_fit pid=16148)\u001b[0m features.3.weight 2.384185791015625e-06\n",
      "\u001b[36m(launch_and_fit pid=16148)\u001b[0m features.3.bias 9.5367431640625e-07\n",
      "\u001b[36m(launch_and_fit pid=16148)\u001b[0m classifier.0.weight 1.1920928955078125e-06\n",
      "\u001b[36m(launch_and_fit pid=16148)\u001b[0m classifier.0.bias 7.152557373046875e-07\n",
      "\u001b[36m(launch_and_fit pid=16148)\u001b[0m classifier.2.weight 9.5367431640625e-07\n",
      "\u001b[36m(launch_and_fit pid=16148)\u001b[0m classifier.2.bias 1.1920928955078125e-06\n",
      "\u001b[36m(launch_and_fit pid=16148)\u001b[0m classifier.3.weights 1.1920928955078125e-06\n",
      "\u001b[36m(launch_and_fit pid=16148)\u001b[0m classifier.4.weight 9.5367431640625e-07\n",
      "\u001b[36m(launch_and_fit pid=16148)\u001b[0m classifier.4.bias 9.5367431640625e-07\n",
      "\u001b[36m(launch_and_fit pid=16228)\u001b[0m Run with homomorphic encryption\n",
      "\u001b[36m(launch_and_fit pid=16146)\u001b[0m \tTrain Epoch: 10 \tTrain_loss: 0.0002 | Train_acc: 100.0000 % | Validation_loss: 0.7810 | Validation_acc: 80.6250 %\u001b[32m [repeated 3x across cluster]\u001b[0m\n",
      "\u001b[36m(launch_and_fit pid=16146)\u001b[0m save graph in  results/FL/\n",
      "\u001b[36m(launch_and_fit pid=16146)\u001b[0m classifier.4.bias 1.6689300537109375e-06\u001b[32m [repeated 11x across cluster]\u001b[0m\n",
      "\u001b[36m(launch_and_fit pid=16228)\u001b[0m [Client 5, round 20] fit, config: {'learning_rate': 0.003, 'batch_size': '32', 'server_round': 20, 'local_epochs': 10}\n"
     ]
    },
    {
     "name": "stderr",
     "output_type": "stream",
     "text": [
      "  0%|\u001b[34m          \u001b[0m| 0/10 [00:00<?, ?it/s]\n",
      "100%|\u001b[34m██████████\u001b[0m| 10/10 [00:41<00:00,  4.14s/it]\u001b[32m [repeated 3x across cluster]\u001b[0m\n"
     ]
    },
    {
     "name": "stdout",
     "output_type": "stream",
     "text": [
      "\u001b[36m(launch_and_fit pid=16228)\u001b[0m Updated model\n",
      "\u001b[36m(launch_and_fit pid=16230)\u001b[0m Run with homomorphic encryption\n",
      "\u001b[36m(launch_and_fit pid=16228)\u001b[0m \tTrain Epoch: 1 \tTrain_loss: 0.0277 | Train_acc: 99.0809 % | Validation_loss: 0.4691 | Validation_acc: 86.1875 %\n",
      "\u001b[36m(launch_and_fit pid=16230)\u001b[0m [Client 2, round 20] fit, config: {'learning_rate': 0.003, 'batch_size': '32', 'server_round': 20, 'local_epochs': 10}\n",
      "\u001b[36m(launch_and_fit pid=16230)\u001b[0m \tTrain Epoch: 1 \tTrain_loss: 0.0380 | Train_acc: 98.8971 % | Validation_loss: 0.6000 | Validation_acc: 87.3125 %\n"
     ]
    },
    {
     "name": "stderr",
     "output_type": "stream",
     "text": [
      "  0%|\u001b[34m          \u001b[0m| 0/10 [00:00<?, ?it/s]\n",
      " 20%|\u001b[34m██        \u001b[0m| 2/10 [00:08<00:34,  4.31s/it]\u001b[32m [repeated 3x across cluster]\u001b[0m\n"
     ]
    },
    {
     "name": "stdout",
     "output_type": "stream",
     "text": [
      "\u001b[36m(launch_and_fit pid=16230)\u001b[0m Updated model\n",
      "\u001b[36m(launch_and_fit pid=16228)\u001b[0m \tTrain Epoch: 3 \tTrain_loss: 0.0007 | Train_acc: 100.0000 % | Validation_loss: 0.3548 | Validation_acc: 85.0625 %\u001b[32m [repeated 3x across cluster]\u001b[0m\n"
     ]
    },
    {
     "name": "stderr",
     "output_type": "stream",
     "text": [
      " 40%|\u001b[34m████      \u001b[0m| 4/10 [00:16<00:25,  4.19s/it]\u001b[32m [repeated 4x across cluster]\u001b[0m\n"
     ]
    },
    {
     "name": "stdout",
     "output_type": "stream",
     "text": [
      "\u001b[36m(launch_and_fit pid=16228)\u001b[0m \tTrain Epoch: 5 \tTrain_loss: 0.0016 | Train_acc: 100.0000 % | Validation_loss: 0.3128 | Validation_acc: 87.7500 %\u001b[32m [repeated 4x across cluster]\u001b[0m\n"
     ]
    },
    {
     "name": "stderr",
     "output_type": "stream",
     "text": [
      " 60%|\u001b[34m██████    \u001b[0m| 6/10 [00:25<00:16,  4.20s/it]\u001b[32m [repeated 4x across cluster]\u001b[0m\n"
     ]
    },
    {
     "name": "stdout",
     "output_type": "stream",
     "text": [
      "\u001b[36m(launch_and_fit pid=16228)\u001b[0m \tTrain Epoch: 7 \tTrain_loss: 0.0018 | Train_acc: 100.0000 % | Validation_loss: 0.2855 | Validation_acc: 90.1875 %\u001b[32m [repeated 4x across cluster]\u001b[0m\n"
     ]
    },
    {
     "name": "stderr",
     "output_type": "stream",
     "text": [
      " 80%|\u001b[34m████████  \u001b[0m| 8/10 [00:33<00:08,  4.08s/it]\u001b[32m [repeated 4x across cluster]\u001b[0m\n"
     ]
    },
    {
     "name": "stdout",
     "output_type": "stream",
     "text": [
      "\u001b[36m(launch_and_fit pid=16228)\u001b[0m \tTrain Epoch: 9 \tTrain_loss: 0.0075 | Train_acc: 99.8162 % | Validation_loss: 0.4031 | Validation_acc: 83.5000 %\u001b[32m [repeated 4x across cluster]\u001b[0m\n"
     ]
    },
    {
     "name": "stderr",
     "output_type": "stream",
     "text": [
      "100%|\u001b[34m██████████\u001b[0m| 10/10 [00:41<00:00,  4.14s/it]\u001b[32m [repeated 4x across cluster]\u001b[0m\n"
     ]
    },
    {
     "name": "stdout",
     "output_type": "stream",
     "text": [
      "\u001b[36m(launch_and_fit pid=16228)\u001b[0m save graph in  results/FL/\n",
      "\u001b[36m(launch_and_fit pid=16228)\u001b[0m features.0.weight 5.245208740234375e-06\n",
      "\u001b[36m(launch_and_fit pid=16228)\u001b[0m features.0.bias 1.430511474609375e-06\n",
      "\u001b[36m(launch_and_fit pid=16228)\u001b[0m features.3.weight 1.6689300537109375e-06\n",
      "\u001b[36m(launch_and_fit pid=16228)\u001b[0m features.3.bias 1.9073486328125e-06\n",
      "\u001b[36m(launch_and_fit pid=16228)\u001b[0m classifier.0.weight 2.1457672119140625e-06\n",
      "\u001b[36m(launch_and_fit pid=16228)\u001b[0m classifier.0.bias 1.9073486328125e-06\n",
      "\u001b[36m(launch_and_fit pid=16228)\u001b[0m classifier.2.weight 1.430511474609375e-06\n",
      "\u001b[36m(launch_and_fit pid=16228)\u001b[0m classifier.2.bias 1.430511474609375e-06\n",
      "\u001b[36m(launch_and_fit pid=16228)\u001b[0m classifier.3.weights 1.9073486328125e-06\n",
      "\u001b[36m(launch_and_fit pid=16228)\u001b[0m classifier.4.weight 1.9073486328125e-06\n",
      "\u001b[36m(launch_and_fit pid=16228)\u001b[0m classifier.4.bias 1.430511474609375e-06\n",
      "\u001b[36m(launch_and_fit pid=16230)\u001b[0m \tTrain Epoch: 10 \tTrain_loss: 0.0025 | Train_acc: 100.0000 % | Validation_loss: 0.4785 | Validation_acc: 87.3125 %\u001b[32m [repeated 3x across cluster]\u001b[0m\n",
      "\u001b[36m(launch_and_fit pid=16310)\u001b[0m Run with homomorphic encryption\n",
      "\u001b[36m(launch_and_fit pid=16230)\u001b[0m save graph in  results/FL/\n",
      "\u001b[36m(launch_and_fit pid=16230)\u001b[0m classifier.4.bias 1.9073486328125e-06\u001b[32m [repeated 11x across cluster]\u001b[0m\n",
      "\u001b[36m(launch_and_fit pid=16310)\u001b[0m [Client 6, round 20] fit, config: {'learning_rate': 0.003, 'batch_size': '32', 'server_round': 20, 'local_epochs': 10}\n",
      "\u001b[36m(launch_and_fit pid=16310)\u001b[0m Updated model\n"
     ]
    },
    {
     "name": "stderr",
     "output_type": "stream",
     "text": [
      "  0%|\u001b[34m          \u001b[0m| 0/10 [00:00<?, ?it/s]\n",
      "100%|\u001b[34m██████████\u001b[0m| 10/10 [00:41<00:00,  4.19s/it]\n"
     ]
    },
    {
     "name": "stdout",
     "output_type": "stream",
     "text": [
      "\u001b[36m(launch_and_fit pid=16310)\u001b[0m \tTrain Epoch: 1 \tTrain_loss: 0.0097 | Train_acc: 99.6324 % | Validation_loss: 0.3605 | Validation_acc: 91.3125 %\n",
      "\u001b[36m(launch_and_fit pid=16312)\u001b[0m Run with homomorphic encryption\n",
      "\u001b[36m(launch_and_fit pid=16312)\u001b[0m [Client 0, round 20] fit, config: {'learning_rate': 0.003, 'batch_size': '32', 'server_round': 20, 'local_epochs': 10}\n"
     ]
    },
    {
     "name": "stderr",
     "output_type": "stream",
     "text": [
      " 10%|\u001b[34m█         \u001b[0m| 1/10 [00:04<00:40,  4.53s/it]\n"
     ]
    },
    {
     "name": "stdout",
     "output_type": "stream",
     "text": [
      "\u001b[36m(launch_and_fit pid=16312)\u001b[0m Updated model\n"
     ]
    },
    {
     "name": "stderr",
     "output_type": "stream",
     "text": [
      "  0%|\u001b[34m          \u001b[0m| 0/10 [00:00<?, ?it/s]\n"
     ]
    },
    {
     "name": "stdout",
     "output_type": "stream",
     "text": [
      "\u001b[36m(launch_and_fit pid=16310)\u001b[0m \tTrain Epoch: 3 \tTrain_loss: 0.0158 | Train_acc: 99.6324 % | Validation_loss: 0.4557 | Validation_acc: 86.1875 %\u001b[32m [repeated 4x across cluster]\u001b[0m\n"
     ]
    },
    {
     "name": "stderr",
     "output_type": "stream",
     "text": [
      " 30%|\u001b[34m███       \u001b[0m| 3/10 [00:12<00:29,  4.16s/it]\u001b[32m [repeated 4x across cluster]\u001b[0m\n"
     ]
    },
    {
     "name": "stdout",
     "output_type": "stream",
     "text": [
      "\u001b[36m(launch_and_fit pid=16310)\u001b[0m \tTrain Epoch: 5 \tTrain_loss: 0.0028 | Train_acc: 99.8162 % | Validation_loss: 0.3428 | Validation_acc: 88.1875 %\u001b[32m [repeated 4x across cluster]\u001b[0m\n"
     ]
    },
    {
     "name": "stderr",
     "output_type": "stream",
     "text": [
      " 50%|\u001b[34m█████     \u001b[0m| 5/10 [00:21<00:21,  4.27s/it]\u001b[32m [repeated 4x across cluster]\u001b[0m\n"
     ]
    },
    {
     "name": "stdout",
     "output_type": "stream",
     "text": [
      "\u001b[36m(launch_and_fit pid=16310)\u001b[0m \tTrain Epoch: 7 \tTrain_loss: 0.0985 | Train_acc: 96.8750 % | Validation_loss: 0.3821 | Validation_acc: 84.6250 %\u001b[32m [repeated 4x across cluster]\u001b[0m\n"
     ]
    },
    {
     "name": "stderr",
     "output_type": "stream",
     "text": [
      " 70%|\u001b[34m███████   \u001b[0m| 7/10 [00:29<00:12,  4.30s/it]\u001b[32m [repeated 4x across cluster]\u001b[0m\n"
     ]
    },
    {
     "name": "stdout",
     "output_type": "stream",
     "text": [
      "\u001b[36m(launch_and_fit pid=16310)\u001b[0m \tTrain Epoch: 9 \tTrain_loss: 0.0267 | Train_acc: 99.4485 % | Validation_loss: 0.5642 | Validation_acc: 89.3125 %\u001b[32m [repeated 4x across cluster]\u001b[0m\n"
     ]
    },
    {
     "name": "stderr",
     "output_type": "stream",
     "text": [
      " 90%|\u001b[34m█████████ \u001b[0m| 9/10 [00:37<00:04,  4.18s/it]\u001b[32m [repeated 4x across cluster]\u001b[0m\n"
     ]
    },
    {
     "name": "stdout",
     "output_type": "stream",
     "text": [
      "\u001b[36m(launch_and_fit pid=16310)\u001b[0m save graph in  results/FL/\n",
      "\u001b[36m(launch_and_fit pid=16310)\u001b[0m features.0.weight 4.76837158203125e-06\n",
      "\u001b[36m(launch_and_fit pid=16310)\u001b[0m features.0.bias 1.6689300537109375e-06\n",
      "\u001b[36m(launch_and_fit pid=16310)\u001b[0m features.3.weight 1.1920928955078125e-06\n",
      "\u001b[36m(launch_and_fit pid=16310)\u001b[0m features.3.bias 1.430511474609375e-06\n",
      "\u001b[36m(launch_and_fit pid=16310)\u001b[0m classifier.0.weight 1.1920928955078125e-06\n",
      "\u001b[36m(launch_and_fit pid=16310)\u001b[0m classifier.0.bias 1.1920928955078125e-06\n",
      "\u001b[36m(launch_and_fit pid=16310)\u001b[0m classifier.2.weight 1.1920928955078125e-06\n",
      "\u001b[36m(launch_and_fit pid=16310)\u001b[0m classifier.2.bias 1.1920928955078125e-06\n",
      "\u001b[36m(launch_and_fit pid=16310)\u001b[0m classifier.3.weights 1.1920928955078125e-06\n",
      "\u001b[36m(launch_and_fit pid=16310)\u001b[0m classifier.4.weight 1.1920928955078125e-06\n",
      "\u001b[36m(launch_and_fit pid=16310)\u001b[0m classifier.4.bias 1.430511474609375e-06\n"
     ]
    },
    {
     "name": "stderr",
     "output_type": "stream",
     "text": [
      "DEBUG flwr 2024-07-21 04:29:31,564 | server.py:236 | fit_round 20 received 10 results and 0 failures\n"
     ]
    },
    {
     "name": "stdout",
     "output_type": "stream",
     "text": [
      "Saving round 20 aggregated_parameters...\n"
     ]
    },
    {
     "name": "stderr",
     "output_type": "stream",
     "text": [
      "DEBUG flwr 2024-07-21 04:29:33,521 | server.py:173 | evaluate_round 20: strategy sampled 10 clients (out of 10)\n"
     ]
    },
    {
     "name": "stdout",
     "output_type": "stream",
     "text": [
      "\u001b[36m(launch_and_evaluate pid=16402)\u001b[0m Run with homomorphic encryption\n",
      "\u001b[36m(launch_and_fit pid=16312)\u001b[0m \tTrain Epoch: 10 \tTrain_loss: 0.0084 | Train_acc: 99.6324 % | Validation_loss: 0.5680 | Validation_acc: 86.1875 %\u001b[32m [repeated 3x across cluster]\u001b[0m\n",
      "\u001b[36m(launch_and_fit pid=16312)\u001b[0m save graph in  results/FL/\n",
      "\u001b[36m(launch_and_fit pid=16312)\u001b[0m classifier.4.bias 1.1920928955078125e-06\u001b[32m [repeated 11x across cluster]\u001b[0m\n",
      "\u001b[36m(launch_and_evaluate pid=16401)\u001b[0m [Client 3] evaluate, config: {}\n",
      "\u001b[36m(launch_and_evaluate pid=16402)\u001b[0m Updated model\n",
      "\u001b[36m(launch_and_evaluate pid=16480)\u001b[0m Run with homomorphic encryption\u001b[32m [repeated 2x across cluster]\u001b[0m\n",
      "\u001b[36m(launch_and_evaluate pid=16402)\u001b[0m [Client 1] evaluate, config: {}\n",
      "\u001b[36m(launch_and_evaluate pid=16401)\u001b[0m Updated model\n",
      "\u001b[36m(launch_and_evaluate pid=16480)\u001b[0m [Client 0] evaluate, config: {}\n",
      "\u001b[36m(launch_and_evaluate pid=16480)\u001b[0m Updated model\n",
      "\u001b[36m(launch_and_evaluate pid=16558)\u001b[0m Run with homomorphic encryption\u001b[32m [repeated 2x across cluster]\u001b[0m\n",
      "\u001b[36m(launch_and_evaluate pid=16482)\u001b[0m [Client 5] evaluate, config: {}\n",
      "\u001b[36m(launch_and_evaluate pid=16482)\u001b[0m Updated model\n",
      "\u001b[36m(launch_and_evaluate pid=16558)\u001b[0m [Client 7] evaluate, config: {}\n",
      "\u001b[36m(launch_and_evaluate pid=16558)\u001b[0m Updated model\n",
      "\u001b[36m(launch_and_evaluate pid=16636)\u001b[0m Run with homomorphic encryption\u001b[32m [repeated 2x across cluster]\u001b[0m\n",
      "\u001b[36m(launch_and_evaluate pid=16560)\u001b[0m [Client 2] evaluate, config: {}\n",
      "\u001b[36m(launch_and_evaluate pid=16560)\u001b[0m Updated model\n",
      "\u001b[36m(launch_and_evaluate pid=16636)\u001b[0m [Client 9] evaluate, config: {}\n",
      "\u001b[36m(launch_and_evaluate pid=16636)\u001b[0m Updated model\n",
      "\u001b[36m(launch_and_evaluate pid=16714)\u001b[0m Run with homomorphic encryption\u001b[32m [repeated 2x across cluster]\u001b[0m\n",
      "\u001b[36m(launch_and_evaluate pid=16638)\u001b[0m [Client 4] evaluate, config: {}\n",
      "\u001b[36m(launch_and_evaluate pid=16638)\u001b[0m Updated model\n",
      "\u001b[36m(launch_and_evaluate pid=16714)\u001b[0m [Client 8] evaluate, config: {}\n",
      "\u001b[36m(launch_and_evaluate pid=16714)\u001b[0m Updated model\n"
     ]
    },
    {
     "name": "stderr",
     "output_type": "stream",
     "text": [
      "DEBUG flwr 2024-07-21 04:30:51,197 | server.py:187 | evaluate_round 20 received 10 results and 0 failures\n",
      "INFO flwr 2024-07-21 04:30:51,198 | server.py:153 | FL finished in 7303.335594259001\n",
      "INFO flwr 2024-07-21 04:30:51,241 | app.py:225 | app_fit: losses_distributed [(1, 1.3906375169754028), (2, 1.4004872798919679), (3, 1.459834671020508), (4, 1.4026117980480195), (5, 2.3317584931850432), (6, 0.980114683508873), (7, 0.5131272166967392), (8, 0.3862004064023495), (9, 0.3028685640543699), (10, 0.2716905130073428), (11, 0.28580630691722037), (12, 0.33027566261589525), (13, 0.36286546401679515), (14, 0.32617825232446196), (15, 0.38887391798198223), (16, 0.3359026176854968), (17, 0.3726636998355389), (18, 0.35294907093048095), (19, 0.36394957154989244), (20, 0.3646820098161697)]\n",
      "INFO flwr 2024-07-21 04:30:51,242 | app.py:226 | app_fit: metrics_distributed_fit {}\n",
      "INFO flwr 2024-07-21 04:30:51,243 | app.py:227 | app_fit: metrics_distributed {'accuracy': [(1, 27.9), (2, 21.7125), (3, 20.7625), (4, 19.46875), (5, 18.49375), (6, 53.00625), (7, 83.5), (8, 87.88125), (9, 89.53125), (10, 92.60625), (11, 91.3125), (12, 89.53125), (13, 86.85625), (14, 89.775), (15, 87.08125), (16, 88.975), (17, 88.0625), (18, 88.93125), (19, 88.55), (20, 88.775)]}\n",
      "INFO flwr 2024-07-21 04:30:51,243 | app.py:228 | app_fit: losses_centralized []\n",
      "INFO flwr 2024-07-21 04:30:51,245 | app.py:229 | app_fit: metrics_centralized {}\n"
     ]
    },
    {
     "name": "stdout",
     "output_type": "stream",
     "text": [
      "Simulation Time = 7309.0124571323395 seconds\n"
     ]
    }
   ],
   "source": [
    "import warnings\n",
    "warnings.simplefilter(\"ignore\")\n",
    "\n",
    "print(\"flwr\", fl.__version__)\n",
    "print(\"numpy\", np.__version__)\n",
    "print(\"torch\", torch.__version__)\n",
    "print(\"torchvision\", torchvision.__version__)\n",
    "print(f\"Training on {DEVICE}\")\n",
    "\n",
    "client_resources = {\"num_cpus\":2, \"num_gpus\":2}\n",
    "\n",
    "if DEVICE.type == \"cuda\":\n",
    "    client_resources = {\"num_gpus\": 1}\n",
    "\n",
    "model_save = model_save\n",
    "path_yaml = yaml_path\n",
    "path_roc = roc_path\n",
    "results_save = save_results\n",
    "path_matrix = matrix_path\n",
    "batch_size = batch_size\n",
    "he = he\n",
    "secret_path = 'secret.pkl'\n",
    "server_path = 'secret.pkl'\n",
    "path_crypted = 'server.pkl'\n",
    "\n",
    "print(\"Start simulation\")\n",
    "start_simulation = time.time()\n",
    "fl.simulation.start_simulation(\n",
    "    client_fn=client_fn,\n",
    "    num_clients=number_clients,\n",
    "    config=fl.server.ServerConfig(num_rounds=rounds),\n",
    "    strategy=strategy,\n",
    "    client_resources=client_resources\n",
    ")\n",
    "print(f\"Simulation Time = {time.time() - start_simulation} seconds\")"
   ]
  }
 ],
 "metadata": {
  "kernelspec": {
   "display_name": "fl_env",
   "language": "python",
   "name": "python3"
  },
  "language_info": {
   "codemirror_mode": {
    "name": "ipython",
    "version": 3
   },
   "file_extension": ".py",
   "mimetype": "text/x-python",
   "name": "python",
   "nbconvert_exporter": "python",
   "pygments_lexer": "ipython3",
   "version": "3.10.12"
  }
 },
 "nbformat": 4,
 "nbformat_minor": 2
}
