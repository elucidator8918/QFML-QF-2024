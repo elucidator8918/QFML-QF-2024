{
 "cells": [
  {
   "cell_type": "markdown",
   "metadata": {},
   "source": [
    "### Import necessary libraries and modules"
   ]
  },
  {
   "cell_type": "code",
   "execution_count": null,
   "metadata": {},
   "outputs": [
    {
     "name": "stdout",
     "output_type": "stream",
     "text": [
      "Images have been successfully moved to the respective label directories.\n",
      "Training set count for class 0: 2067\n",
      "Training set count for class 1: 812\n",
      "Testing set count for class 0: 230\n",
      "Testing set count for class 1: 91\n"
     ]
    }
   ],
   "source": [
    "from IPython.display import clear_output\n",
    "import pandas as pd\n",
    "import os, shutil\n",
    "from sklearn.model_selection import train_test_split\n",
    "\n",
    "!zenodo_get https://doi.org/10.5281/zenodo.10430727\n",
    "!unzip PCOSGen-train.zip\n",
    "!mv PCOSGen-train/images PCOSGen-train/Training\n",
    "!mkdir data data/PCOS\n",
    "!mv PCOSGen-train/Training data/PCOS\n",
    "!mv PCOSGen-train/class_label.xlsx class_label.xlsx\n",
    "\n",
    "labels_df = pd.read_excel('class_label.xlsx')\n",
    "os.makedirs('data/PCOS/Training/0', exist_ok=True)\n",
    "os.makedirs('data/PCOS/Training/1', exist_ok=True)\n",
    "os.makedirs('data/PCOS/Testing', exist_ok=True)\n",
    "os.makedirs('data/PCOS/Testing/0', exist_ok=True)\n",
    "os.makedirs('data/PCOS/Testing/1', exist_ok=True)\n",
    "\n",
    "for index, row in labels_df.iterrows():\n",
    "    image_path = os.path.join('data/PCOS/Training', row['imagePath'])\n",
    "    destination_dir = os.path.join('data/PCOS/Training', str(row['Healthy']))\n",
    "    destination_path = os.path.join(destination_dir, row['imagePath'])\n",
    "    shutil.move(image_path, destination_path)\n",
    "\n",
    "for label in [0, 1]:\n",
    "    images = os.listdir(f'data/PCOS/Training/{label}')\n",
    "    train_images, test_images = train_test_split(images, test_size=0.1, random_state=42)\n",
    "\n",
    "    for image in test_images:\n",
    "        src_path = f'data/PCOS/Training/{label}/{image}'\n",
    "        dst_path = f'data/PCOS/Testing/{label}/{image}'\n",
    "        shutil.move(src_path, dst_path)    \n",
    "    \n",
    "!rm -rf PCOSGen-train Meta_Data.pdf PCOSGen-train.zip md5sums.txt class_label.xlsx\n",
    "\n",
    "clear_output()\n",
    "print(\"Images have been successfully moved to the respective label directories.\")\n",
    "train_count_0 = len(os.listdir('data/PCOS/Training/0'))\n",
    "train_count_1 = len(os.listdir('data/PCOS/Training/1'))\n",
    "test_count_0 = len(os.listdir('data/PCOS/Testing/0'))\n",
    "test_count_1 = len(os.listdir('data/PCOS/Testing/1'))\n",
    "\n",
    "print(f\"Training set count for class 0: {train_count_0}\")\n",
    "print(f\"Training set count for class 1: {train_count_1}\")\n",
    "print(f\"Testing set count for class 0: {test_count_0}\")\n",
    "print(f\"Testing set count for class 1: {test_count_1}\")"
   ]
  },
  {
   "cell_type": "code",
   "execution_count": 2,
   "metadata": {},
   "outputs": [],
   "source": [
    "import os\n",
    "import pickle\n",
    "import time\n",
    "from collections import OrderedDict\n",
    "from typing import (\n",
    "    List, Tuple, Dict, Optional, Callable, Union\n",
    ")\n",
    "import tenseal as ts\n",
    "\n",
    "import numpy as np\n",
    "import torchvision\n",
    "import torch\n",
    "from torch import nn\n",
    "import torch.nn.functional as F\n",
    "import flwr as fl\n",
    "from flwr.common import (\n",
    "    Metrics, EvaluateIns, EvaluateRes, FitIns, FitRes, MetricsAggregationFn, \n",
    "    Scalar, logger, ndarrays_to_parameters_custom, parameters_to_ndarrays_custom,\n",
    "    Parameters, NDArrays\n",
    ")\n",
    "from flwr.server.client_proxy import ClientProxy\n",
    "from flwr.server.client_manager import ClientManager\n",
    "from flwr.server.strategy.aggregate import weighted_loss_avg\n",
    "from logging import WARNING\n",
    "import pennylane as qml\n",
    "\n",
    "from utils import *"
   ]
  },
  {
   "cell_type": "markdown",
   "metadata": {},
   "source": [
    "### Creation of FHE Keys"
   ]
  },
  {
   "cell_type": "code",
   "execution_count": 3,
   "metadata": {},
   "outputs": [
    {
     "name": "stdout",
     "output_type": "stream",
     "text": [
      "it exists\n"
     ]
    }
   ],
   "source": [
    "def combo_keys(client_path=\"secret.pkl\", server_path=\"server_key.pkl\"):\n",
    "    \"\"\"\n",
    "    To create the public/private keys combination\n",
    "    args:\n",
    "        client_path: path to save the secret key (str)\n",
    "        server_path: path to save the server public key (str)\n",
    "    \"\"\"\n",
    "    context_client = security.context()\n",
    "    security.write_query(client_path, {\"contexte\": context_client.serialize(save_secret_key=True)})\n",
    "    security.write_query(server_path, {\"contexte\": context_client.serialize()})\n",
    "\n",
    "    _, context_client = security.read_query(client_path)\n",
    "    _, context_server = security.read_query(server_path)\n",
    "\n",
    "    context_client = ts.context_from(context_client)\n",
    "    context_server = ts.context_from(context_server)\n",
    "    print(\"Is the client context private?\", (\"Yes\" if context_client.is_private() else \"No\"))\n",
    "    print(\"Is the server context private?\", (\"Yes\" if context_server.is_private() else \"No\"))\n",
    "\n",
    "\n",
    "secret_path = \"secret.pkl\"\n",
    "public_path = \"server_key.pkl\"\n",
    "if os.path.exists(secret_path):\n",
    "    print(\"it exists\")\n",
    "    _, context_client = security.read_query(secret_path)\n",
    "\n",
    "else:\n",
    "    combo_keys(client_path=secret_path, server_path=public_path)\n",
    "\n",
    "n_qubits = 4\n",
    "n_layers = 6\n",
    "weight_shapes = {\"weights\": (n_layers, n_qubits)}       "
   ]
  },
  {
   "cell_type": "markdown",
   "metadata": {},
   "source": [
    "### Model Architecture Creation"
   ]
  },
  {
   "cell_type": "code",
   "execution_count": 4,
   "metadata": {},
   "outputs": [],
   "source": [
    "dev = qml.device(\"default.qubit.torch\", wires=n_qubits)\n",
    "    \n",
    "@qml.qnode(dev, interface='torch')\n",
    "def quantum_net(inputs, weights):\n",
    "    qml.AngleEmbedding(inputs, wires=range(n_qubits)) \n",
    "    qml.BasicEntanglerLayers(weights,wires=range(n_qubits))\n",
    "    return [qml.expval(qml.PauliZ(i)) for i in range(n_qubits)]\n",
    "\n",
    "class Net(nn.Module):\n",
    "    \"\"\"\n",
    "    A simple CNN model\n",
    "\n",
    "    Args:\n",
    "        num_classes: An integer indicating the number of classes in the dataset.\n",
    "    \"\"\"\n",
    "    def __init__(self, num_classes=10) -> None:\n",
    "        super(Net, self).__init__()\n",
    "        self.features = nn.Sequential(\n",
    "            nn.Conv2d(3, 16, kernel_size=3, padding=1),\n",
    "            nn.ReLU(inplace=True),\n",
    "            nn.MaxPool2d(kernel_size=2, stride=2),\n",
    "            nn.Conv2d(16, 32, kernel_size=3, padding=1),\n",
    "            nn.ReLU(inplace=True),\n",
    "            nn.MaxPool2d(kernel_size=2, stride=2)\n",
    "        )\n",
    "        self.classifier = nn.Sequential(\n",
    "            nn.Linear(32 * 56 * 56, 128),\n",
    "            nn.ReLU(inplace=True),\n",
    "            nn.Linear(128, n_qubits),\n",
    "            qml.qnn.TorchLayer(quantum_net, weight_shapes=weight_shapes),\n",
    "            nn.Linear(n_qubits, num_classes)\n",
    "        )\n",
    "\n",
    "    def forward(self, x: torch.Tensor) -> torch.Tensor:\n",
    "        \"\"\"\n",
    "        Forward pass of the neural network\n",
    "        \"\"\"\n",
    "        x = self.features(x)\n",
    "        x = x.view(x.size(0), -1)\n",
    "        x = self.classifier(x)\n",
    "        return x"
   ]
  },
  {
   "cell_type": "markdown",
   "metadata": {},
   "source": [
    "### Define the FlowerClient class for federated learning"
   ]
  },
  {
   "cell_type": "code",
   "execution_count": 5,
   "metadata": {},
   "outputs": [],
   "source": [
    "class FlowerClient(fl.client.NumPyClient):\n",
    "    def __init__(self, cid, net, trainloader, valloader, device, batch_size, save_results, matrix_path, roc_path,\n",
    "                 yaml_path, he, classes, context_client):\n",
    "        self.net = net\n",
    "        self.trainloader = trainloader\n",
    "        self.valloader = valloader\n",
    "        self.cid = cid\n",
    "        self.device = device\n",
    "        self.batch_size = batch_size\n",
    "        self.save_results = save_results\n",
    "        self.matrix_path = matrix_path\n",
    "        self.roc_path = roc_path\n",
    "        self.yaml_path = yaml_path\n",
    "        self.he = he\n",
    "        self.classes = classes\n",
    "        self.context_client = context_client\n",
    "\n",
    "    def get_parameters(self, config):\n",
    "        print(f\"[Client {self.cid}] get_parameters\")\n",
    "        return get_parameters2(self.net, self.context_client)\n",
    "\n",
    "    def fit(self, parameters, config):\n",
    "        server_round = config['server_round']\n",
    "        local_epochs = config['local_epochs']\n",
    "        lr = float(config[\"learning_rate\"])\n",
    "\n",
    "        print(f'[Client {self.cid}, round {server_round}] fit, config: {config}')\n",
    "\n",
    "        set_parameters(self.net, parameters, self.context_client)\n",
    "\n",
    "        criterion = torch.nn.CrossEntropyLoss()\n",
    "        optimizer = torch.optim.Adam(self.net.parameters(), lr=lr)\n",
    "\n",
    "        results = engine.train(self.net, self.trainloader, self.valloader, optimizer=optimizer, loss_fn=criterion,\n",
    "                               epochs=local_epochs, device=self.device)\n",
    "\n",
    "        if self.save_results:\n",
    "            save_graphs(self.save_results, local_epochs, results, f\"_Client {self.cid}\")\n",
    "\n",
    "        return get_parameters2(self.net, self.context_client), len(self.trainloader), {}\n",
    "\n",
    "    def evaluate(self, parameters, config):\n",
    "        print(f\"[Client {self.cid}] evaluate, config: {config}\")\n",
    "        set_parameters(self.net, parameters, self.context_client)\n",
    "\n",
    "        loss, accuracy, y_pred, y_true, y_proba = engine.test(self.net, self.valloader,\n",
    "                                                              loss_fn=torch.nn.CrossEntropyLoss(), device=self.device)\n",
    "\n",
    "        if self.save_results:\n",
    "            os.makedirs(self.save_results, exist_ok=True)\n",
    "            if self.matrix_path:\n",
    "                save_matrix(y_true, y_pred, self.save_results + self.matrix_path, self.classes)\n",
    "            if self.roc_path:\n",
    "                save_roc(y_true, y_proba, self.save_results + self.roc_path, len(self.classes))\n",
    "\n",
    "        return float(loss), len(self.valloader), {\"accuracy\": float(accuracy)}"
   ]
  },
  {
   "cell_type": "markdown",
   "metadata": {},
   "source": [
    "### Define the client_common function to set up the Flower client"
   ]
  },
  {
   "cell_type": "code",
   "execution_count": 6,
   "metadata": {},
   "outputs": [],
   "source": [
    "def client_common(cid, model_save, path_yaml, path_roc, results_save, path_matrix,\n",
    "                  batch_size, trainloaders, valloaders, DEVICE, CLASSES,\n",
    "                  he=False, secret_path=\"\", server_path=\"\"):\n",
    "    trainloader = trainloaders[int(cid)]\n",
    "    valloader = valloaders[int(cid)]\n",
    "\n",
    "    context_client = None\n",
    "    net = Net(num_classes=len(CLASSES)).to(DEVICE)\n",
    "\n",
    "    if he:\n",
    "        print(\"Run with homomorphic encryption\")\n",
    "        if os.path.exists(secret_path):\n",
    "            with open(secret_path, 'rb') as f:\n",
    "                query = pickle.load(f)\n",
    "            context_client = ts.context_from(query[\"contexte\"])\n",
    "        else:\n",
    "            context_client = security.context()\n",
    "            with open(secret_path, 'wb') as f:\n",
    "                encode = pickle.dumps({\"contexte\": context_client.serialize(save_secret_key=True)})\n",
    "                f.write(encode)\n",
    "        secret_key = context_client.secret_key()\n",
    "    else:\n",
    "        print(\"Run WITHOUT homomorphic encryption\")\n",
    "\n",
    "    if os.path.exists(model_save):\n",
    "        print(\" To get the checkpoint\")\n",
    "        checkpoint = torch.load(model_save, map_location=DEVICE)['model_state_dict']\n",
    "        if he:\n",
    "            print(\"to decrypt model\")\n",
    "            server_query, server_context = security.read_query(server_path)\n",
    "            server_context = ts.context_from(server_context)\n",
    "            for name in checkpoint:\n",
    "                print(name)\n",
    "                checkpoint[name] = torch.tensor(\n",
    "                    security.deserialized_layer(name, server_query[name], server_context).decrypt(secret_key)\n",
    "                )\n",
    "        net.load_state_dict(checkpoint)\n",
    "\n",
    "    return FlowerClient(cid, net, trainloader, valloader, device=DEVICE, batch_size=batch_size,\n",
    "                        matrix_path=path_matrix, roc_path=path_roc, save_results=results_save, yaml_path=path_yaml,\n",
    "                        he=he, context_client=context_client, classes=CLASSES)"
   ]
  },
  {
   "cell_type": "markdown",
   "metadata": {},
   "source": [
    "### Define utility functions for federated learning"
   ]
  },
  {
   "cell_type": "code",
   "execution_count": 7,
   "metadata": {},
   "outputs": [],
   "source": [
    "def weighted_average(metrics: List[Tuple[int, Metrics]]) -> Metrics:\n",
    "    accuracies = [num_examples * m[\"accuracy\"] for num_examples, m in metrics]\n",
    "    examples = [num_examples for num_examples, _ in metrics]\n",
    "    return {\"accuracy\": sum(accuracies) / sum(examples)}\n",
    "\n",
    "def evaluate2(server_round: int, parameters: NDArrays,\n",
    "              config: Dict[str, Scalar]) -> Optional[Tuple[float, Dict[str, Scalar]]]:\n",
    "    set_parameters(central, parameters)\n",
    "    loss, accuracy, y_pred, y_true, y_proba = engine.test(central, testloader, loss_fn=torch.nn.CrossEntropyLoss(),\n",
    "                                                          device=DEVICE)\n",
    "    print(f\"Server-side evaluation loss {loss} / accuracy {accuracy}\")\n",
    "    return loss, {\"accuracy\": accuracy}\n",
    "\n",
    "def get_on_fit_config_fn(epoch=2, lr=0.001, batch_size=32) -> Callable[[int], Dict[str, str]]:\n",
    "    def fit_config(server_round: int) -> Dict[str, str]:\n",
    "        config = {\n",
    "            \"learning_rate\": str(lr),\n",
    "            \"batch_size\": str(batch_size),\n",
    "            \"server_round\": server_round,\n",
    "            \"local_epochs\": epoch\n",
    "        }\n",
    "        return config\n",
    "    return fit_config\n",
    "\n",
    "def aggreg_fit_checkpoint(server_round, aggregated_parameters, central_model, path_checkpoint,\n",
    "                          context_client=None, server_path=\"\"):\n",
    "    if aggregated_parameters is not None:\n",
    "        print(f\"Saving round {server_round} aggregated_parameters...\")\n",
    "        aggregated_ndarrays: List[np.ndarray] = parameters_to_ndarrays_custom(aggregated_parameters, context_client)\n",
    "        if context_client:   \n",
    "            server_response = {\"contexte\": server_context.serialize()}\n",
    "            for i, key in enumerate(central_model.state_dict().keys()):\n",
    "                try:\n",
    "                    server_response[key] = aggregated_ndarrays[i].serialize()\n",
    "                except:\n",
    "                    server_response[key] = aggregated_ndarrays[i]\n",
    "            security.write_query(server_path, server_response)\n",
    "        else:\n",
    "            params_dict = zip(central_model.state_dict().keys(), aggregated_ndarrays)\n",
    "            state_dict = OrderedDict({k: torch.tensor(v) for k, v in params_dict})\n",
    "            central_model.load_state_dict(state_dict, strict=True)\n",
    "            if path_checkpoint:\n",
    "                torch.save({\n",
    "                    'model_state_dict': central_model.state_dict(),\n",
    "                }, path_checkpoint)"
   ]
  },
  {
   "cell_type": "markdown",
   "metadata": {},
   "source": [
    "### Define the FedCustom strategy class"
   ]
  },
  {
   "cell_type": "code",
   "execution_count": 8,
   "metadata": {},
   "outputs": [],
   "source": [
    "# A Strategy from scratch with the same sampling of the clients as it is in FedAvg\n",
    "# and then change the configuration dictionary\n",
    "class FedCustom(fl.server.strategy.Strategy):\n",
    "    def __init__(\n",
    "            self,\n",
    "            fraction_fit: float = 1.0,\n",
    "            fraction_evaluate: float = 1.0,\n",
    "            min_fit_clients: int = 2,\n",
    "            min_evaluate_clients: int = 2,\n",
    "            min_available_clients: int = 2,\n",
    "            evaluate_fn: Optional[\n",
    "                    Callable[[int, NDArrays, Dict[str, Scalar]], Optional[Tuple[float, Dict[str, Scalar]]]]\n",
    "                ] = None,\n",
    "            on_fit_config_fn: Optional[Callable[[int], Dict[str, Scalar]]] = None,\n",
    "            on_evaluate_config_fn: Optional[Callable[[int], Dict[str, Scalar]]] = None,\n",
    "            accept_failures: bool = True,\n",
    "            initial_parameters: Optional[Parameters] = None,\n",
    "            fit_metrics_aggregation_fn: Optional[MetricsAggregationFn] = None,\n",
    "            evaluate_metrics_aggregation_fn: Optional[MetricsAggregationFn] = None,\n",
    "            context_client=None\n",
    "    ) -> None:\n",
    "        super().__init__()\n",
    "        self.fraction_fit = fraction_fit\n",
    "        self.fraction_evaluate = fraction_evaluate\n",
    "        self.min_fit_clients = min_fit_clients\n",
    "        self.min_evaluate_clients = min_evaluate_clients\n",
    "        self.min_available_clients = min_available_clients\n",
    "        self.evaluate_fn = evaluate_fn\n",
    "        self.on_fit_config_fn = on_fit_config_fn\n",
    "        self.on_evaluate_config_fn = on_evaluate_config_fn,\n",
    "        self.accept_failures = accept_failures\n",
    "        self.initial_parameters = initial_parameters\n",
    "        self.fit_metrics_aggregation_fn = fit_metrics_aggregation_fn\n",
    "        self.evaluate_metrics_aggregation_fn = evaluate_metrics_aggregation_fn\n",
    "        self.context_client = context_client\n",
    "\n",
    "    def __repr__(self) -> str:\n",
    "        # Same function as FedAvg(Strategy)\n",
    "        return f\"FedCustom (accept_failures={self.accept_failures})\"\n",
    "\n",
    "    def initialize_parameters(\n",
    "        self, client_manager: ClientManager\n",
    "    ) -> Optional[Parameters]:\n",
    "        \"\"\"Initialize global model parameters.\"\"\"\n",
    "        # Same function as FedAvg(Strategy)\n",
    "        initial_parameters = self.initial_parameters\n",
    "        self.initial_parameters = None  # Don't keep initial parameters in memory\n",
    "        return initial_parameters\n",
    "\n",
    "    def num_fit_clients(self, num_available_clients: int) -> Tuple[int, int]:\n",
    "        \"\"\"Return sample size and required number of clients.\"\"\"\n",
    "        # Same function as FedAvg(Strategy)\n",
    "        num_clients = int(num_available_clients * self.fraction_fit)\n",
    "        return max(num_clients, self.min_fit_clients), self.min_available_clients\n",
    "\n",
    "    def configure_fit(\n",
    "        self, server_round: int, parameters: Parameters, client_manager: ClientManager\n",
    "    ) -> List[Tuple[ClientProxy, FitIns]]:\n",
    "        \"\"\"Configure the next round of training.\"\"\"\n",
    "        # Sample clients\n",
    "        sample_size, min_num_clients = self.num_fit_clients(\n",
    "            client_manager.num_available()\n",
    "        )\n",
    "\n",
    "        clients = client_manager.sample(\n",
    "            num_clients=sample_size, min_num_clients=min_num_clients\n",
    "        )\n",
    "        # Create custom configs\n",
    "        n_clients = len(clients)\n",
    "        half_clients = n_clients // 2\n",
    "        # Custom fit config function provided\n",
    "        standard_lr = lr\n",
    "        higher_lr = 0.003\n",
    "        config = {\"server_round\": server_round, \"local_epochs\": 1}\n",
    "        if self.on_fit_config_fn is not None:\n",
    "            # Custom fit config function provided\n",
    "            config = self.on_fit_config_fn(server_round)\n",
    "\n",
    "        # fit_ins = FitIns(parameters, config)\n",
    "        # Return client/config pairs\n",
    "        fit_configurations = []\n",
    "        for idx, client in enumerate(clients):\n",
    "            config[\"learning_rate\"] = standard_lr if idx < half_clients else higher_lr\n",
    "            \"\"\"\n",
    "            Each pair of (ClientProxy, FitRes) constitutes \n",
    "            a successful update from one of the previously selected clients.\n",
    "            \"\"\"\n",
    "            fit_configurations.append(\n",
    "                (\n",
    "                    client,\n",
    "                    FitIns(\n",
    "                        parameters,\n",
    "                        config\n",
    "                    )\n",
    "                )\n",
    "            )\n",
    "        # Successful updates from the previously selected and configured clients\n",
    "        return fit_configurations\n",
    "\n",
    "    def aggregate_fit(\n",
    "        self,\n",
    "        server_round: int,\n",
    "        results: List[Tuple[ClientProxy, FitRes]],\n",
    "        failures: List[Union[Tuple[ClientProxy, FitRes], BaseException]],\n",
    "    ) -> Tuple[Optional[Parameters], Dict[str, Scalar]]:\n",
    "        \"\"\"Aggregate fit results using weighted average. (each round)\"\"\"\n",
    "        # Same function as FedAvg(Strategy)\n",
    "        if not results:\n",
    "            return None, {}\n",
    "\n",
    "        # Do not aggregate if there are failures and failures are not accepted\n",
    "        if not self.accept_failures and failures:\n",
    "            return None, {}\n",
    "\n",
    "        # Convert results parameters --> array matrix\n",
    "        weights_results = [\n",
    "            (parameters_to_ndarrays_custom(fit_res.parameters, self.context_client), fit_res.num_examples)\n",
    "            for _, fit_res in results\n",
    "        ]\n",
    "\n",
    "        # Aggregate parameters using weighted average between the clients and convert back to parameters object (bytes)\n",
    "        parameters_aggregated = ndarrays_to_parameters_custom(aggregate_custom(weights_results))\n",
    "\n",
    "        metrics_aggregated = {}\n",
    "        # Aggregate custom metrics if aggregation fn was provided\n",
    "        if self.fit_metrics_aggregation_fn:\n",
    "            fit_metrics = [(res.num_examples, res.metrics) for _, res in results]\n",
    "            metrics_aggregated = self.fit_metrics_aggregation_fn(fit_metrics)\n",
    "\n",
    "        elif server_round == 1:  # Only log this warning once\n",
    "            logger.log(WARNING, \"No fit_metrics_aggregation_fn provided\")\n",
    "\n",
    "        # Same function as SaveModelStrategy(fl.server.strategy.FedAvg)\n",
    "        \"\"\"Aggregate model weights using weighted average and store checkpoint\"\"\"\n",
    "        aggreg_fit_checkpoint(server_round, parameters_aggregated, central, model_save,\n",
    "                              self.context_client, path_crypted)\n",
    "        return parameters_aggregated, metrics_aggregated\n",
    "\n",
    "    def num_evaluation_clients(self, num_available_clients: int) -> Tuple[int, int]:\n",
    "        \"\"\"Use a fraction of available clients for evaluation.\"\"\"\n",
    "        # Same function as FedAvg(Strategy)\n",
    "        num_clients = int(num_available_clients * self.fraction_evaluate)\n",
    "        return max(num_clients, self.min_evaluate_clients), self.min_available_clients\n",
    "\n",
    "    def configure_evaluate(\n",
    "        self, server_round: int, parameters: Parameters, client_manager: ClientManager\n",
    "    ) -> List[Tuple[ClientProxy, EvaluateIns]]:\n",
    "        \"\"\"Configure the next round of evaluation.\"\"\"\n",
    "        # Same function as FedAvg(Strategy)\n",
    "        # Do not configure federated evaluation if fraction eval is 0.\n",
    "        if self.fraction_evaluate == 0.0:\n",
    "            return []\n",
    "\n",
    "        # Parameters and config\n",
    "        config = {}  # {\"server_round\": server_round, \"local_epochs\": 1}\n",
    "\n",
    "        evaluate_ins = EvaluateIns(parameters, config)\n",
    "\n",
    "        # Sample clients\n",
    "        sample_size, min_num_clients = self.num_evaluation_clients(\n",
    "            client_manager.num_available()\n",
    "        )\n",
    "\n",
    "        clients = client_manager.sample(\n",
    "            num_clients=sample_size, min_num_clients=min_num_clients\n",
    "        )\n",
    "\n",
    "        # Return client/config pairs\n",
    "        # Each pair of (ClientProxy, FitRes) constitutes a successful update from one of the previously selected clients\n",
    "        return [(client, evaluate_ins) for client in clients]\n",
    "\n",
    "    def aggregate_evaluate(\n",
    "        self,\n",
    "        server_round: int,\n",
    "        results: List[Tuple[ClientProxy, EvaluateRes]],\n",
    "        failures: List[Union[Tuple[ClientProxy, EvaluateRes], BaseException]],\n",
    "    ) -> Tuple[Optional[float], Dict[str, Scalar]]:\n",
    "        \"\"\"Aggregate evaluation losses using weighted average.\"\"\"\n",
    "        # Same function as FedAvg(Strategy)\n",
    "        if not results:\n",
    "            return None, {}\n",
    "\n",
    "        # Do not aggregate if there are failures and failures are not accepted\n",
    "        if not self.accept_failures and failures:\n",
    "            return None, {}\n",
    "\n",
    "        # Aggregate loss\n",
    "        loss_aggregated = weighted_loss_avg(\n",
    "            [\n",
    "                (evaluate_res.num_examples, evaluate_res.loss)\n",
    "                for _, evaluate_res in results\n",
    "            ]\n",
    "        )\n",
    "\n",
    "        metrics_aggregated = {}\n",
    "        # Aggregate custom metrics if aggregation fn was provided\n",
    "        if self.evaluate_metrics_aggregation_fn:\n",
    "            eval_metrics = [(res.num_examples, res.metrics) for _, res in results]\n",
    "            metrics_aggregated = self.evaluate_metrics_aggregation_fn(eval_metrics)\n",
    "\n",
    "        # Only log this warning once\n",
    "        elif server_round == 1:\n",
    "            logger.log(WARNING, \"No evaluate_metrics_aggregation_fn provided\")\n",
    "\n",
    "        return loss_aggregated, metrics_aggregated\n",
    "\n",
    "    def evaluate(\n",
    "        self, server_round: int, parameters: Parameters\n",
    "    ) -> Optional[Tuple[float, Dict[str, Scalar]]]:\n",
    "        \"\"\"Evaluate global model parameters using an evaluation function.\"\"\"\n",
    "        # Same function as FedAvg(Strategy)\n",
    "        if self.evaluate_fn is None:\n",
    "            # Let's assume we won't perform the global model evaluation on the server side.\n",
    "            return None\n",
    "\n",
    "        # if we have a global model evaluation on the server side :\n",
    "        parameters_ndarrays = parameters_to_ndarrays_custom(parameters, self.context_client)\n",
    "        eval_res = self.evaluate_fn(server_round, parameters_ndarrays, {})\n",
    "\n",
    "        # if you haven't results\n",
    "        if eval_res is None:\n",
    "            return None\n",
    "\n",
    "        loss, metrics = eval_res\n",
    "        return loss, metrics"
   ]
  },
  {
   "cell_type": "markdown",
   "metadata": {},
   "source": [
    "### Set up the federated learning strategy"
   ]
  },
  {
   "cell_type": "code",
   "execution_count": 9,
   "metadata": {},
   "outputs": [],
   "source": [
    "# Set up your variables directly\n",
    "he = True\n",
    "data_path = 'data/'\n",
    "dataset = 'PCOS'\n",
    "yaml_path = './results/FL/results.yml'\n",
    "seed = 0\n",
    "num_workers = 0\n",
    "max_epochs = 10\n",
    "batch_size = 32\n",
    "splitter = 10\n",
    "device = 'gpu'\n",
    "number_clients = 10\n",
    "save_results = 'results/FL/'\n",
    "matrix_path = 'confusion_matrix.png'\n",
    "roc_path = 'roc.png'\n",
    "model_save = 'PCOS_FHE.pt'\n",
    "min_fit_clients = 10\n",
    "min_avail_clients = 10\n",
    "min_eval_clients = 10\n",
    "rounds = 20\n",
    "frac_fit = 1.0\n",
    "frac_eval = 0.5\n",
    "lr = 1e-3\n",
    "path_public_key = 'server_key.pkl'"
   ]
  },
  {
   "cell_type": "code",
   "execution_count": 10,
   "metadata": {},
   "outputs": [
    {
     "name": "stdout",
     "output_type": "stream",
     "text": [
      "get public key :  server_key.pkl\n"
     ]
    }
   ],
   "source": [
    "print(\"get public key : \", path_public_key)\n",
    "_, server_context = security.read_query(path_public_key)\n",
    "server_context = ts.context_from(server_context)\n",
    "DEVICE = torch.device(choice_device(device))\n",
    "CLASSES = classes_string(dataset)\n",
    "central = Net(num_classes=len(CLASSES)).to(DEVICE)"
   ]
  },
  {
   "cell_type": "code",
   "execution_count": 11,
   "metadata": {},
   "outputs": [],
   "source": [
    "strategy = FedCustom(\n",
    "    fraction_fit=frac_fit,\n",
    "    fraction_evaluate=frac_eval,\n",
    "    min_fit_clients=min_fit_clients,\n",
    "    min_evaluate_clients=min_eval_clients if min_eval_clients else number_clients // 2,\n",
    "    min_available_clients=min_avail_clients,\n",
    "    evaluate_metrics_aggregation_fn=weighted_average,\n",
    "    initial_parameters=ndarrays_to_parameters_custom(get_parameters2(central)),\n",
    "    evaluate_fn=None if he else evaluate2,\n",
    "    on_fit_config_fn=get_on_fit_config_fn(epoch=max_epochs, batch_size=batch_size),\n",
    "    context_client=server_context\n",
    ")"
   ]
  },
  {
   "cell_type": "code",
   "execution_count": null,
   "metadata": {},
   "outputs": [
    {
     "name": "stdout",
     "output_type": "stream",
     "text": [
      "PCOS\n",
      "The training set is created for the classes : ['0', '1']\n"
     ]
    }
   ],
   "source": [
    "trainloaders, valloaders, testloader = data_setup.load_datasets(num_clients=number_clients,\n",
    "                                                                batch_size=batch_size,\n",
    "                                                                resize=224,\n",
    "                                                                seed=seed,\n",
    "                                                                num_workers=num_workers,\n",
    "                                                                splitter=splitter,\n",
    "                                                                dataset=dataset,  # Use the specified dataset\n",
    "                                                                data_path=data_path,\n",
    "                                                                data_path_val=None)  # Use the same path for validation data\n",
    "\n",
    "def client_fn(cid: str) -> FlowerClient:\n",
    "    return client_common(cid,\n",
    "                         model_save, path_yaml, path_roc, results_save, path_matrix,\n",
    "                         batch_size, trainloaders, valloaders, DEVICE, CLASSES, he, secret_path, server_path)"
   ]
  },
  {
   "cell_type": "markdown",
   "metadata": {},
   "source": [
    "### Define the client_fn function and set up the simulation"
   ]
  },
  {
   "cell_type": "code",
   "execution_count": null,
   "metadata": {},
   "outputs": [
    {
     "name": "stderr",
     "output_type": "stream",
     "text": [
      "INFO flwr 2024-07-24 04:16:06,552 | app.py:145 | Starting Flower simulation, config: ServerConfig(num_rounds=20, round_timeout=None)\n"
     ]
    },
    {
     "name": "stdout",
     "output_type": "stream",
     "text": [
      "flwr 1.5.0\n",
      "numpy 1.26.4\n",
      "torch 2.1.2\n",
      "torchvision 0.16.2\n",
      "Training on cuda:0\n",
      "Start simulation\n"
     ]
    },
    {
     "name": "stderr",
     "output_type": "stream",
     "text": [
      "2024-07-24 04:16:11,202\tINFO worker.py:1724 -- Started a local Ray instance.\n",
      "INFO flwr 2024-07-24 04:16:12,604 | app.py:179 | Flower VCE: Ray initialized with resources: {'object_store_memory': 8917659648.0, 'node:172.19.2.2': 1.0, 'node:__internal_head__': 1.0, 'memory': 17835319296.0, 'GPU': 2.0, 'accelerator_type:T4': 1.0, 'CPU': 4.0}\n",
      "INFO flwr 2024-07-24 04:16:12,607 | server.py:89 | Initializing global parameters\n",
      "INFO flwr 2024-07-24 04:16:12,608 | server.py:272 | Using initial parameters provided by strategy\n",
      "INFO flwr 2024-07-24 04:16:12,613 | server.py:91 | Evaluating initial parameters\n",
      "INFO flwr 2024-07-24 04:16:12,614 | server.py:104 | FL starting\n",
      "DEBUG flwr 2024-07-24 04:16:12,615 | server.py:222 | fit_round 1: strategy sampled 10 clients (out of 10)\n"
     ]
    },
    {
     "name": "stdout",
     "output_type": "stream",
     "text": [
      "\u001b[36m(launch_and_fit pid=407)\u001b[0m Run with homomorphic encryption\n",
      "\u001b[36m(launch_and_fit pid=407)\u001b[0m [Client 5, round 1] fit, config: {'learning_rate': 0.003, 'batch_size': '32', 'server_round': 1, 'local_epochs': 10}\n",
      "\u001b[36m(launch_and_fit pid=407)\u001b[0m Updated model\n"
     ]
    },
    {
     "name": "stderr",
     "output_type": "stream",
     "text": [
      "  0%|\u001b[34m          \u001b[0m| 0/10 [00:00<?, ?it/s]\n"
     ]
    },
    {
     "name": "stdout",
     "output_type": "stream",
     "text": [
      "\u001b[36m(launch_and_fit pid=407)\u001b[0m \tTrain Epoch: 1 \tTrain_loss: 0.9038 | Train_acc: 29.7454 % | Validation_loss: 0.7805 | Validation_acc: 46.4286 %\n",
      "\u001b[36m(launch_and_fit pid=409)\u001b[0m Run with homomorphic encryption\n",
      "\u001b[36m(launch_and_fit pid=409)\u001b[0m [Client 0, round 1] fit, config: {'learning_rate': 0.003, 'batch_size': '32', 'server_round': 1, 'local_epochs': 10}\n"
     ]
    },
    {
     "name": "stderr",
     "output_type": "stream",
     "text": [
      " 10%|\u001b[34m█         \u001b[0m| 1/10 [00:03<00:29,  3.24s/it]\n"
     ]
    },
    {
     "name": "stdout",
     "output_type": "stream",
     "text": [
      "\u001b[36m(launch_and_fit pid=409)\u001b[0m Updated model\n"
     ]
    },
    {
     "name": "stderr",
     "output_type": "stream",
     "text": [
      "  0%|\u001b[34m          \u001b[0m| 0/10 [00:00<?, ?it/s]\n"
     ]
    },
    {
     "name": "stdout",
     "output_type": "stream",
     "text": [
      "\u001b[36m(launch_and_fit pid=407)\u001b[0m \tTrain Epoch: 4 \tTrain_loss: 0.8214 | Train_acc: 33.1019 % | Validation_loss: 0.7491 | Validation_acc: 46.4286 %\u001b[32m [repeated 6x across cluster] (Ray deduplicates logs by default. Set RAY_DEDUP_LOGS=0 to disable log deduplication, or see https://docs.ray.io/en/master/ray-observability/ray-logging.html#log-deduplication for more options.)\u001b[0m\n"
     ]
    },
    {
     "name": "stderr",
     "output_type": "stream",
     "text": [
      " 40%|\u001b[34m████      \u001b[0m| 4/10 [00:08<00:12,  2.06s/it]\u001b[32m [repeated 6x across cluster]\u001b[0m\n",
      " 70%|\u001b[34m███████   \u001b[0m| 7/10 [00:13<00:05,  1.83s/it]\u001b[32m [repeated 6x across cluster]\u001b[0m\n"
     ]
    },
    {
     "name": "stdout",
     "output_type": "stream",
     "text": [
      "\u001b[36m(launch_and_fit pid=409)\u001b[0m \tTrain Epoch: 7 \tTrain_loss: 0.7960 | Train_acc: 32.8704 % | Validation_loss: 0.7404 | Validation_acc: 46.4286 %\u001b[32m [repeated 6x across cluster]\u001b[0m\n"
     ]
    },
    {
     "name": "stderr",
     "output_type": "stream",
     "text": [
      "100%|\u001b[34m██████████\u001b[0m| 10/10 [00:19<00:00,  1.93s/it]\u001b[32m [repeated 6x across cluster]\u001b[0m\n"
     ]
    },
    {
     "name": "stdout",
     "output_type": "stream",
     "text": [
      "\u001b[36m(launch_and_fit pid=409)\u001b[0m save graph in  results/FL/\n",
      "\u001b[36m(launch_and_fit pid=409)\u001b[0m \tTrain Epoch: 10 \tTrain_loss: 0.7575 | Train_acc: 34.2593 % | Validation_loss: 0.7374 | Validation_acc: 42.8571 %\u001b[32m [repeated 6x across cluster]\u001b[0m\n",
      "\u001b[36m(launch_and_fit pid=409)\u001b[0m features.0.weight 5.245208740234375e-06\n",
      "\u001b[36m(launch_and_fit pid=409)\u001b[0m features.0.bias 1.6689300537109375e-06\n",
      "\u001b[36m(launch_and_fit pid=409)\u001b[0m features.3.weight 1.430511474609375e-06\n",
      "\u001b[36m(launch_and_fit pid=409)\u001b[0m features.3.bias 1.430511474609375e-06\n",
      "\u001b[36m(launch_and_fit pid=409)\u001b[0m classifier.0.weight 1.1920928955078125e-06\n",
      "\u001b[36m(launch_and_fit pid=409)\u001b[0m classifier.0.bias 1.1920928955078125e-06\n",
      "\u001b[36m(launch_and_fit pid=409)\u001b[0m classifier.2.weight 9.5367431640625e-07\n",
      "\u001b[36m(launch_and_fit pid=409)\u001b[0m classifier.2.bias 1.1920928955078125e-06\n",
      "\u001b[36m(launch_and_fit pid=409)\u001b[0m classifier.3.weights 1.430511474609375e-06\n",
      "\u001b[36m(launch_and_fit pid=409)\u001b[0m classifier.4.weight 1.1920928955078125e-06\n",
      "\u001b[36m(launch_and_fit pid=409)\u001b[0m classifier.4.bias 9.5367431640625e-07\n",
      "\u001b[36m(launch_and_fit pid=498)\u001b[0m Run with homomorphic encryption\n",
      "\u001b[36m(launch_and_fit pid=407)\u001b[0m save graph in  results/FL/\n",
      "\u001b[36m(launch_and_fit pid=407)\u001b[0m \tTrain Epoch: 10 \tTrain_loss: 0.7287 | Train_acc: 40.9722 % | Validation_loss: 0.7288 | Validation_acc: 39.2857 %\n",
      "\u001b[36m(launch_and_fit pid=407)\u001b[0m classifier.4.bias 1.1920928955078125e-06\u001b[32m [repeated 11x across cluster]\u001b[0m\n",
      "\u001b[36m(launch_and_fit pid=496)\u001b[0m [Client 3, round 1] fit, config: {'learning_rate': 0.003, 'batch_size': '32', 'server_round': 1, 'local_epochs': 10}\n",
      "\u001b[36m(launch_and_fit pid=498)\u001b[0m Updated model\n"
     ]
    },
    {
     "name": "stderr",
     "output_type": "stream",
     "text": [
      "  0%|\u001b[34m          \u001b[0m| 0/10 [00:00<?, ?it/s]\n",
      "100%|\u001b[34m██████████\u001b[0m| 10/10 [00:19<00:00,  1.98s/it]\n"
     ]
    },
    {
     "name": "stdout",
     "output_type": "stream",
     "text": [
      "\u001b[36m(launch_and_fit pid=498)\u001b[0m \tTrain Epoch: 1 \tTrain_loss: 0.8592 | Train_acc: 35.1852 % | Validation_loss: 0.9779 | Validation_acc: 21.4286 %\n",
      "\u001b[36m(launch_and_fit pid=496)\u001b[0m Run with homomorphic encryption\n",
      "\u001b[36m(launch_and_fit pid=498)\u001b[0m [Client 2, round 1] fit, config: {'learning_rate': 0.003, 'batch_size': '32', 'server_round': 1, 'local_epochs': 10}\n"
     ]
    },
    {
     "name": "stderr",
     "output_type": "stream",
     "text": [
      " 10%|\u001b[34m█         \u001b[0m| 1/10 [00:02<00:22,  2.45s/it]\n"
     ]
    },
    {
     "name": "stdout",
     "output_type": "stream",
     "text": [
      "\u001b[36m(launch_and_fit pid=496)\u001b[0m Updated model\n"
     ]
    },
    {
     "name": "stderr",
     "output_type": "stream",
     "text": [
      "  0%|\u001b[34m          \u001b[0m| 0/10 [00:00<?, ?it/s]\n"
     ]
    },
    {
     "name": "stdout",
     "output_type": "stream",
     "text": [
      "\u001b[36m(launch_and_fit pid=498)\u001b[0m \tTrain Epoch: 4 \tTrain_loss: 0.8566 | Train_acc: 28.4722 % | Validation_loss: 0.8875 | Validation_acc: 21.4286 %\u001b[32m [repeated 6x across cluster]\u001b[0m\n"
     ]
    },
    {
     "name": "stderr",
     "output_type": "stream",
     "text": [
      " 40%|\u001b[34m████      \u001b[0m| 4/10 [00:07<00:11,  1.90s/it]\u001b[32m [repeated 6x across cluster]\u001b[0m\n"
     ]
    },
    {
     "name": "stdout",
     "output_type": "stream",
     "text": [
      "\u001b[36m(launch_and_fit pid=498)\u001b[0m \tTrain Epoch: 7 \tTrain_loss: 0.7724 | Train_acc: 35.8796 % | Validation_loss: 0.7995 | Validation_acc: 21.4286 %\u001b[32m [repeated 6x across cluster]\u001b[0m\n"
     ]
    },
    {
     "name": "stderr",
     "output_type": "stream",
     "text": [
      " 70%|\u001b[34m███████   \u001b[0m| 7/10 [00:13<00:05,  1.84s/it]\u001b[32m [repeated 6x across cluster]\u001b[0m\n"
     ]
    },
    {
     "name": "stdout",
     "output_type": "stream",
     "text": [
      "\u001b[36m(launch_and_fit pid=498)\u001b[0m save graph in  results/FL/\n",
      "\u001b[36m(launch_and_fit pid=498)\u001b[0m \tTrain Epoch: 10 \tTrain_loss: 0.7395 | Train_acc: 32.8704 % | Validation_loss: 0.7718 | Validation_acc: 35.7143 %\u001b[32m [repeated 6x across cluster]\u001b[0m\n"
     ]
    },
    {
     "name": "stderr",
     "output_type": "stream",
     "text": [
      "100%|\u001b[34m██████████\u001b[0m| 10/10 [00:18<00:00,  1.90s/it]\u001b[32m [repeated 6x across cluster]\u001b[0m\n"
     ]
    },
    {
     "name": "stdout",
     "output_type": "stream",
     "text": [
      "\u001b[36m(launch_and_fit pid=498)\u001b[0m features.0.weight 4.291534423828125e-06\n",
      "\u001b[36m(launch_and_fit pid=498)\u001b[0m features.0.bias 1.430511474609375e-06\n",
      "\u001b[36m(launch_and_fit pid=498)\u001b[0m features.3.weight 1.1920928955078125e-06\n",
      "\u001b[36m(launch_and_fit pid=498)\u001b[0m features.3.bias 1.1920928955078125e-06\n",
      "\u001b[36m(launch_and_fit pid=498)\u001b[0m classifier.0.weight 1.1920928955078125e-06\n",
      "\u001b[36m(launch_and_fit pid=498)\u001b[0m classifier.0.bias 1.1920928955078125e-06\n",
      "\u001b[36m(launch_and_fit pid=498)\u001b[0m classifier.2.weight 9.5367431640625e-07\n",
      "\u001b[36m(launch_and_fit pid=498)\u001b[0m classifier.2.bias 1.1920928955078125e-06\n",
      "\u001b[36m(launch_and_fit pid=498)\u001b[0m classifier.3.weights 1.1920928955078125e-06\n",
      "\u001b[36m(launch_and_fit pid=498)\u001b[0m classifier.4.weight 1.1920928955078125e-06\n",
      "\u001b[36m(launch_and_fit pid=498)\u001b[0m classifier.4.bias 1.430511474609375e-06\n",
      "\u001b[36m(launch_and_fit pid=580)\u001b[0m Run with homomorphic encryption\n",
      "\u001b[36m(launch_and_fit pid=496)\u001b[0m save graph in  results/FL/\n",
      "\u001b[36m(launch_and_fit pid=496)\u001b[0m \tTrain Epoch: 10 \tTrain_loss: 0.6377 | Train_acc: 71.9907 % | Validation_loss: 0.6621 | Validation_acc: 60.7143 %\n",
      "\u001b[36m(launch_and_fit pid=496)\u001b[0m classifier.4.bias 9.5367431640625e-07\u001b[32m [repeated 11x across cluster]\u001b[0m\n",
      "\u001b[36m(launch_and_fit pid=580)\u001b[0m [Client 4, round 1] fit, config: {'learning_rate': 0.003, 'batch_size': '32', 'server_round': 1, 'local_epochs': 10}\n"
     ]
    },
    {
     "name": "stderr",
     "output_type": "stream",
     "text": [
      "  0%|\u001b[34m          \u001b[0m| 0/10 [00:00<?, ?it/s]\n",
      "100%|\u001b[34m██████████\u001b[0m| 10/10 [00:19<00:00,  1.91s/it]\n"
     ]
    },
    {
     "name": "stdout",
     "output_type": "stream",
     "text": [
      "\u001b[36m(launch_and_fit pid=580)\u001b[0m Updated model\n"
     ]
    },
    {
     "name": "stderr",
     "output_type": "stream",
     "text": [
      " 10%|\u001b[34m█         \u001b[0m| 1/10 [00:02<00:21,  2.39s/it]\n"
     ]
    },
    {
     "name": "stdout",
     "output_type": "stream",
     "text": [
      "\u001b[36m(launch_and_fit pid=580)\u001b[0m \tTrain Epoch: 1 \tTrain_loss: 0.8903 | Train_acc: 27.3148 % | Validation_loss: 0.8560 | Validation_acc: 35.7143 %\n",
      "\u001b[36m(launch_and_fit pid=582)\u001b[0m Run with homomorphic encryption\n",
      "\u001b[36m(launch_and_fit pid=582)\u001b[0m [Client 7, round 1] fit, config: {'learning_rate': 0.003, 'batch_size': '32', 'server_round': 1, 'local_epochs': 10}\n"
     ]
    },
    {
     "name": "stderr",
     "output_type": "stream",
     "text": [
      "  0%|\u001b[34m          \u001b[0m| 0/10 [00:00<?, ?it/s]\n"
     ]
    },
    {
     "name": "stdout",
     "output_type": "stream",
     "text": [
      "\u001b[36m(launch_and_fit pid=582)\u001b[0m Updated model\n"
     ]
    },
    {
     "name": "stderr",
     "output_type": "stream",
     "text": [
      " 40%|\u001b[34m████      \u001b[0m| 4/10 [00:07<00:11,  1.92s/it]\u001b[32m [repeated 6x across cluster]\u001b[0m\n"
     ]
    },
    {
     "name": "stdout",
     "output_type": "stream",
     "text": [
      "\u001b[36m(launch_and_fit pid=580)\u001b[0m \tTrain Epoch: 4 \tTrain_loss: 0.7431 | Train_acc: 23.9583 % | Validation_loss: 0.6942 | Validation_acc: 46.4286 %\u001b[32m [repeated 6x across cluster]\u001b[0m\n"
     ]
    },
    {
     "name": "stderr",
     "output_type": "stream",
     "text": [
      " 70%|\u001b[34m███████   \u001b[0m| 7/10 [00:13<00:05,  1.81s/it]\u001b[32m [repeated 6x across cluster]\u001b[0m\n"
     ]
    },
    {
     "name": "stdout",
     "output_type": "stream",
     "text": [
      "\u001b[36m(launch_and_fit pid=580)\u001b[0m \tTrain Epoch: 7 \tTrain_loss: 0.6215 | Train_acc: 72.6852 % | Validation_loss: 0.6475 | Validation_acc: 64.2857 %\u001b[32m [repeated 6x across cluster]\u001b[0m\n"
     ]
    },
    {
     "name": "stderr",
     "output_type": "stream",
     "text": [
      "100%|\u001b[34m██████████\u001b[0m| 10/10 [00:18<00:00,  1.86s/it]\u001b[32m [repeated 6x across cluster]\u001b[0m\n"
     ]
    },
    {
     "name": "stdout",
     "output_type": "stream",
     "text": [
      "\u001b[36m(launch_and_fit pid=580)\u001b[0m save graph in  results/FL/\n",
      "\u001b[36m(launch_and_fit pid=580)\u001b[0m \tTrain Epoch: 10 \tTrain_loss: 0.5593 | Train_acc: 74.7685 % | Validation_loss: 0.6826 | Validation_acc: 53.5714 %\u001b[32m [repeated 6x across cluster]\u001b[0m\n",
      "\u001b[36m(launch_and_fit pid=580)\u001b[0m features.0.weight 5.7220458984375e-06\n",
      "\u001b[36m(launch_and_fit pid=580)\u001b[0m features.0.bias 1.9073486328125e-06\n",
      "\u001b[36m(launch_and_fit pid=580)\u001b[0m features.3.weight 1.430511474609375e-06\n",
      "\u001b[36m(launch_and_fit pid=580)\u001b[0m features.3.bias 1.1920928955078125e-06\n",
      "\u001b[36m(launch_and_fit pid=580)\u001b[0m classifier.0.weight 1.6689300537109375e-06\n",
      "\u001b[36m(launch_and_fit pid=580)\u001b[0m classifier.0.bias 1.6689300537109375e-06\n",
      "\u001b[36m(launch_and_fit pid=580)\u001b[0m classifier.2.weight 1.1920928955078125e-06\n",
      "\u001b[36m(launch_and_fit pid=580)\u001b[0m classifier.2.bias 1.430511474609375e-06\n",
      "\u001b[36m(launch_and_fit pid=580)\u001b[0m classifier.3.weights 1.6689300537109375e-06\n",
      "\u001b[36m(launch_and_fit pid=580)\u001b[0m classifier.4.weight 1.1920928955078125e-06\n",
      "\u001b[36m(launch_and_fit pid=580)\u001b[0m classifier.4.bias 1.430511474609375e-06\n",
      "\u001b[36m(launch_and_fit pid=662)\u001b[0m Run with homomorphic encryption\n",
      "\u001b[36m(launch_and_fit pid=582)\u001b[0m save graph in  results/FL/\n",
      "\u001b[36m(launch_and_fit pid=582)\u001b[0m \tTrain Epoch: 10 \tTrain_loss: 0.7622 | Train_acc: 30.4398 % | Validation_loss: 0.7520 | Validation_acc: 28.5714 %\n",
      "\u001b[36m(launch_and_fit pid=582)\u001b[0m classifier.4.bias 1.1920928955078125e-06\u001b[32m [repeated 11x across cluster]\u001b[0m\n",
      "\u001b[36m(launch_and_fit pid=662)\u001b[0m [Client 8, round 1] fit, config: {'learning_rate': 0.003, 'batch_size': '32', 'server_round': 1, 'local_epochs': 10}\n"
     ]
    },
    {
     "name": "stderr",
     "output_type": "stream",
     "text": [
      "  0%|\u001b[34m          \u001b[0m| 0/10 [00:00<?, ?it/s]\n",
      "100%|\u001b[34m██████████\u001b[0m| 10/10 [00:18<00:00,  1.89s/it]\n"
     ]
    },
    {
     "name": "stdout",
     "output_type": "stream",
     "text": [
      "\u001b[36m(launch_and_fit pid=662)\u001b[0m Updated model\n"
     ]
    },
    {
     "name": "stderr",
     "output_type": "stream",
     "text": [
      " 10%|\u001b[34m█         \u001b[0m| 1/10 [00:02<00:21,  2.40s/it]\n"
     ]
    },
    {
     "name": "stdout",
     "output_type": "stream",
     "text": [
      "\u001b[36m(launch_and_fit pid=662)\u001b[0m \tTrain Epoch: 1 \tTrain_loss: 0.9493 | Train_acc: 21.1806 % | Validation_loss: 0.8976 | Validation_acc: 25.0000 %\n",
      "\u001b[36m(launch_and_fit pid=687)\u001b[0m Run with homomorphic encryption\n",
      "\u001b[36m(launch_and_fit pid=687)\u001b[0m [Client 6, round 1] fit, config: {'learning_rate': 0.003, 'batch_size': '32', 'server_round': 1, 'local_epochs': 10}\n"
     ]
    },
    {
     "name": "stderr",
     "output_type": "stream",
     "text": [
      "  0%|\u001b[34m          \u001b[0m| 0/10 [00:00<?, ?it/s]\n"
     ]
    },
    {
     "name": "stdout",
     "output_type": "stream",
     "text": [
      "\u001b[36m(launch_and_fit pid=687)\u001b[0m Updated model\n"
     ]
    },
    {
     "name": "stderr",
     "output_type": "stream",
     "text": [
      " 40%|\u001b[34m████      \u001b[0m| 4/10 [00:08<00:11,  1.94s/it]\u001b[32m [repeated 6x across cluster]\u001b[0m\n"
     ]
    },
    {
     "name": "stdout",
     "output_type": "stream",
     "text": [
      "\u001b[36m(launch_and_fit pid=662)\u001b[0m \tTrain Epoch: 4 \tTrain_loss: 0.8653 | Train_acc: 24.5370 % | Validation_loss: 0.8540 | Validation_acc: 25.0000 %\u001b[32m [repeated 6x across cluster]\u001b[0m\n"
     ]
    },
    {
     "name": "stderr",
     "output_type": "stream",
     "text": [
      " 70%|\u001b[34m███████   \u001b[0m| 7/10 [00:13<00:05,  1.86s/it]\u001b[32m [repeated 6x across cluster]\u001b[0m\n"
     ]
    },
    {
     "name": "stdout",
     "output_type": "stream",
     "text": [
      "\u001b[36m(launch_and_fit pid=662)\u001b[0m \tTrain Epoch: 7 \tTrain_loss: 0.7987 | Train_acc: 31.3657 % | Validation_loss: 0.7924 | Validation_acc: 32.1429 %\u001b[32m [repeated 6x across cluster]\u001b[0m\n"
     ]
    },
    {
     "name": "stderr",
     "output_type": "stream",
     "text": [
      "100%|\u001b[34m██████████\u001b[0m| 10/10 [00:18<00:00,  1.89s/it]\u001b[32m [repeated 6x across cluster]\u001b[0m\n"
     ]
    },
    {
     "name": "stdout",
     "output_type": "stream",
     "text": [
      "\u001b[36m(launch_and_fit pid=662)\u001b[0m save graph in  results/FL/\n",
      "\u001b[36m(launch_and_fit pid=662)\u001b[0m \tTrain Epoch: 10 \tTrain_loss: 0.7218 | Train_acc: 46.6435 % | Validation_loss: 0.7111 | Validation_acc: 50.0000 %\u001b[32m [repeated 6x across cluster]\u001b[0m\n",
      "\u001b[36m(launch_and_fit pid=662)\u001b[0m features.0.weight 5.4836273193359375e-06\n",
      "\u001b[36m(launch_and_fit pid=662)\u001b[0m features.0.bias 1.9073486328125e-06\n",
      "\u001b[36m(launch_and_fit pid=662)\u001b[0m features.3.weight 1.6689300537109375e-06\n",
      "\u001b[36m(launch_and_fit pid=662)\u001b[0m features.3.bias 1.6689300537109375e-06\n",
      "\u001b[36m(launch_and_fit pid=662)\u001b[0m classifier.0.weight 1.430511474609375e-06\n",
      "\u001b[36m(launch_and_fit pid=662)\u001b[0m classifier.0.bias 2.1457672119140625e-06\n",
      "\u001b[36m(launch_and_fit pid=662)\u001b[0m classifier.2.weight 2.1457672119140625e-06\n",
      "\u001b[36m(launch_and_fit pid=662)\u001b[0m classifier.2.bias 1.430511474609375e-06\n",
      "\u001b[36m(launch_and_fit pid=662)\u001b[0m classifier.3.weights 1.6689300537109375e-06\n",
      "\u001b[36m(launch_and_fit pid=662)\u001b[0m classifier.4.weight 1.430511474609375e-06\n",
      "\u001b[36m(launch_and_fit pid=662)\u001b[0m classifier.4.bias 1.1920928955078125e-06\n",
      "\u001b[36m(launch_and_fit pid=746)\u001b[0m Run with homomorphic encryption\n",
      "\u001b[36m(launch_and_fit pid=687)\u001b[0m save graph in  results/FL/\n",
      "\u001b[36m(launch_and_fit pid=687)\u001b[0m \tTrain Epoch: 10 \tTrain_loss: 0.7692 | Train_acc: 27.4306 % | Validation_loss: 0.7766 | Validation_acc: 28.5714 %\n",
      "\u001b[36m(launch_and_fit pid=687)\u001b[0m classifier.4.bias 1.430511474609375e-06\u001b[32m [repeated 11x across cluster]\u001b[0m\n",
      "\u001b[36m(launch_and_fit pid=746)\u001b[0m [Client 1, round 1] fit, config: {'learning_rate': 0.003, 'batch_size': '32', 'server_round': 1, 'local_epochs': 10}\n",
      "\u001b[36m(launch_and_fit pid=746)\u001b[0m Updated model\n"
     ]
    },
    {
     "name": "stderr",
     "output_type": "stream",
     "text": [
      "  0%|\u001b[34m          \u001b[0m| 0/10 [00:00<?, ?it/s]\n",
      "100%|\u001b[34m██████████\u001b[0m| 10/10 [00:18<00:00,  1.89s/it]\n"
     ]
    },
    {
     "name": "stdout",
     "output_type": "stream",
     "text": [
      "\u001b[36m(launch_and_fit pid=746)\u001b[0m \tTrain Epoch: 1 \tTrain_loss: 0.9190 | Train_acc: 22.2222 % | Validation_loss: 0.7879 | Validation_acc: 32.1429 %\n",
      "\u001b[36m(launch_and_fit pid=744)\u001b[0m Run with homomorphic encryption\n"
     ]
    },
    {
     "name": "stderr",
     "output_type": "stream",
     "text": [
      " 10%|\u001b[34m█         \u001b[0m| 1/10 [00:02<00:20,  2.33s/it]\n"
     ]
    },
    {
     "name": "stdout",
     "output_type": "stream",
     "text": [
      "\u001b[36m(launch_and_fit pid=744)\u001b[0m [Client 9, round 1] fit, config: {'learning_rate': 0.003, 'batch_size': '32', 'server_round': 1, 'local_epochs': 10}\n",
      "\u001b[36m(launch_and_fit pid=744)\u001b[0m Updated model\n"
     ]
    },
    {
     "name": "stderr",
     "output_type": "stream",
     "text": [
      "  0%|\u001b[34m          \u001b[0m| 0/10 [00:00<?, ?it/s]\n"
     ]
    },
    {
     "name": "stdout",
     "output_type": "stream",
     "text": [
      "\u001b[36m(launch_and_fit pid=746)\u001b[0m \tTrain Epoch: 4 \tTrain_loss: 0.6756 | Train_acc: 65.3935 % | Validation_loss: 0.6871 | Validation_acc: 46.4286 %\u001b[32m [repeated 6x across cluster]\u001b[0m\n"
     ]
    },
    {
     "name": "stderr",
     "output_type": "stream",
     "text": [
      " 40%|\u001b[34m████      \u001b[0m| 4/10 [00:07<00:11,  1.91s/it]\u001b[32m [repeated 6x across cluster]\u001b[0m\n"
     ]
    },
    {
     "name": "stdout",
     "output_type": "stream",
     "text": [
      "\u001b[36m(launch_and_fit pid=746)\u001b[0m \tTrain Epoch: 7 \tTrain_loss: 0.5559 | Train_acc: 77.7778 % | Validation_loss: 0.6348 | Validation_acc: 67.8571 %\u001b[32m [repeated 6x across cluster]\u001b[0m\n"
     ]
    },
    {
     "name": "stderr",
     "output_type": "stream",
     "text": [
      " 70%|\u001b[34m███████   \u001b[0m| 7/10 [00:13<00:05,  1.84s/it]\u001b[32m [repeated 6x across cluster]\u001b[0m\n"
     ]
    },
    {
     "name": "stdout",
     "output_type": "stream",
     "text": [
      "\u001b[36m(launch_and_fit pid=746)\u001b[0m save graph in  results/FL/\n",
      "\u001b[36m(launch_and_fit pid=746)\u001b[0m \tTrain Epoch: 10 \tTrain_loss: 0.5271 | Train_acc: 77.7778 % | Validation_loss: 0.6480 | Validation_acc: 67.8571 %\u001b[32m [repeated 6x across cluster]\u001b[0m\n"
     ]
    },
    {
     "name": "stderr",
     "output_type": "stream",
     "text": [
      "100%|\u001b[34m██████████\u001b[0m| 10/10 [00:18<00:00,  1.89s/it]\u001b[32m [repeated 6x across cluster]\u001b[0m\n"
     ]
    },
    {
     "name": "stdout",
     "output_type": "stream",
     "text": [
      "\u001b[36m(launch_and_fit pid=746)\u001b[0m features.0.weight 6.4373016357421875e-06\n",
      "\u001b[36m(launch_and_fit pid=746)\u001b[0m features.0.bias 1.6689300537109375e-06\n",
      "\u001b[36m(launch_and_fit pid=746)\u001b[0m features.3.weight 1.1920928955078125e-06\n",
      "\u001b[36m(launch_and_fit pid=746)\u001b[0m features.3.bias 1.1920928955078125e-06\n",
      "\u001b[36m(launch_and_fit pid=746)\u001b[0m classifier.0.weight 1.1920928955078125e-06\n",
      "\u001b[36m(launch_and_fit pid=746)\u001b[0m classifier.0.bias 1.1920928955078125e-06\n",
      "\u001b[36m(launch_and_fit pid=746)\u001b[0m classifier.2.weight 1.1920928955078125e-06\n",
      "\u001b[36m(launch_and_fit pid=746)\u001b[0m classifier.2.bias 9.5367431640625e-07\n",
      "\u001b[36m(launch_and_fit pid=746)\u001b[0m classifier.3.weights 1.1920928955078125e-06\n",
      "\u001b[36m(launch_and_fit pid=746)\u001b[0m classifier.4.weight 1.430511474609375e-06\n",
      "\u001b[36m(launch_and_fit pid=746)\u001b[0m classifier.4.bias 1.1920928955078125e-06\n"
     ]
    },
    {
     "name": "stderr",
     "output_type": "stream",
     "text": [
      "DEBUG flwr 2024-07-24 04:19:07,032 | server.py:236 | fit_round 1 received 10 results and 0 failures\n",
      "WARNING flwr 2024-07-24 04:19:08,136 | 3890383987.py:131 | No fit_metrics_aggregation_fn provided\n"
     ]
    },
    {
     "name": "stdout",
     "output_type": "stream",
     "text": [
      "Saving round 1 aggregated_parameters...\n"
     ]
    },
    {
     "name": "stderr",
     "output_type": "stream",
     "text": [
      "DEBUG flwr 2024-07-24 04:19:09,036 | server.py:173 | evaluate_round 1: strategy sampled 10 clients (out of 10)\n"
     ]
    },
    {
     "name": "stdout",
     "output_type": "stream",
     "text": [
      "\u001b[36m(launch_and_evaluate pid=836)\u001b[0m Run with homomorphic encryption\n",
      "\u001b[36m(launch_and_fit pid=744)\u001b[0m save graph in  results/FL/\n",
      "\u001b[36m(launch_and_fit pid=744)\u001b[0m \tTrain Epoch: 10 \tTrain_loss: 0.7397 | Train_acc: 35.9533 % | Validation_loss: 0.7552 | Validation_acc: 27.5862 %\n",
      "\u001b[36m(launch_and_fit pid=744)\u001b[0m classifier.4.bias 1.9073486328125e-06\u001b[32m [repeated 11x across cluster]\u001b[0m\n",
      "\u001b[36m(launch_and_evaluate pid=836)\u001b[0m [Client 6] evaluate, config: {}\n",
      "\u001b[36m(launch_and_evaluate pid=836)\u001b[0m Updated model\n",
      "\u001b[36m(launch_and_evaluate pid=914)\u001b[0m Run with homomorphic encryption\u001b[32m [repeated 2x across cluster]\u001b[0m\n",
      "\u001b[36m(launch_and_evaluate pid=835)\u001b[0m [Client 8] evaluate, config: {}\n",
      "\u001b[36m(launch_and_evaluate pid=835)\u001b[0m Updated model\n",
      "\u001b[36m(launch_and_evaluate pid=914)\u001b[0m [Client 9] evaluate, config: {}\n",
      "\u001b[36m(launch_and_evaluate pid=914)\u001b[0m Updated model\n",
      "\u001b[36m(launch_and_evaluate pid=992)\u001b[0m Run with homomorphic encryption\u001b[32m [repeated 2x across cluster]\u001b[0m\n",
      "\u001b[36m(launch_and_evaluate pid=916)\u001b[0m [Client 2] evaluate, config: {}\n",
      "\u001b[36m(launch_and_evaluate pid=916)\u001b[0m Updated model\n",
      "\u001b[36m(launch_and_evaluate pid=992)\u001b[0m [Client 3] evaluate, config: {}\n",
      "\u001b[36m(launch_and_evaluate pid=992)\u001b[0m Updated model\n",
      "\u001b[36m(launch_and_evaluate pid=1070)\u001b[0m Run with homomorphic encryption\u001b[32m [repeated 2x across cluster]\u001b[0m\n",
      "\u001b[36m(launch_and_evaluate pid=994)\u001b[0m [Client 4] evaluate, config: {}\n",
      "\u001b[36m(launch_and_evaluate pid=994)\u001b[0m Updated model\n",
      "\u001b[36m(launch_and_evaluate pid=1070)\u001b[0m [Client 0] evaluate, config: {}\n",
      "\u001b[36m(launch_and_evaluate pid=1070)\u001b[0m Updated model\n",
      "\u001b[36m(launch_and_evaluate pid=1148)\u001b[0m Run with homomorphic encryption\u001b[32m [repeated 2x across cluster]\u001b[0m\n",
      "\u001b[36m(launch_and_evaluate pid=1072)\u001b[0m [Client 1] evaluate, config: {}\n",
      "\u001b[36m(launch_and_evaluate pid=1072)\u001b[0m Updated model\n",
      "\u001b[36m(launch_and_evaluate pid=1148)\u001b[0m [Client 5] evaluate, config: {}\n",
      "\u001b[36m(launch_and_evaluate pid=1148)\u001b[0m Updated model\n"
     ]
    },
    {
     "name": "stderr",
     "output_type": "stream",
     "text": [
      "DEBUG flwr 2024-07-24 04:20:29,494 | server.py:187 | evaluate_round 1 received 10 results and 0 failures\n",
      "DEBUG flwr 2024-07-24 04:20:29,495 | server.py:222 | fit_round 2: strategy sampled 10 clients (out of 10)\n"
     ]
    },
    {
     "name": "stdout",
     "output_type": "stream",
     "text": [
      "\u001b[36m(launch_and_fit pid=1236)\u001b[0m Run with homomorphic encryption\u001b[32m [repeated 2x across cluster]\u001b[0m\n",
      "\u001b[36m(launch_and_evaluate pid=1150)\u001b[0m [Client 7] evaluate, config: {}\n",
      "\u001b[36m(launch_and_evaluate pid=1150)\u001b[0m Updated model\n",
      "\u001b[36m(launch_and_fit pid=1236)\u001b[0m [Client 4, round 2] fit, config: {'learning_rate': 0.003, 'batch_size': '32', 'server_round': 2, 'local_epochs': 10}\n",
      "\u001b[36m(launch_and_fit pid=1236)\u001b[0m Updated model\n"
     ]
    },
    {
     "name": "stderr",
     "output_type": "stream",
     "text": [
      "  0%|\u001b[34m          \u001b[0m| 0/10 [00:00<?, ?it/s]\n",
      "100%|\u001b[34m██████████\u001b[0m| 10/10 [00:19<00:00,  1.92s/it]\n"
     ]
    },
    {
     "name": "stdout",
     "output_type": "stream",
     "text": [
      "\u001b[36m(launch_and_fit pid=1236)\u001b[0m \tTrain Epoch: 1 \tTrain_loss: 0.7600 | Train_acc: 35.5324 % | Validation_loss: 0.7367 | Validation_acc: 39.2857 %\n",
      "\u001b[36m(launch_and_fit pid=1237)\u001b[0m Run with homomorphic encryption\n",
      "\u001b[36m(launch_and_fit pid=1237)\u001b[0m [Client 2, round 2] fit, config: {'learning_rate': 0.003, 'batch_size': '32', 'server_round': 2, 'local_epochs': 10}\n"
     ]
    },
    {
     "name": "stderr",
     "output_type": "stream",
     "text": [
      " 10%|\u001b[34m█         \u001b[0m| 1/10 [00:02<00:22,  2.53s/it]\n"
     ]
    },
    {
     "name": "stdout",
     "output_type": "stream",
     "text": [
      "\u001b[36m(launch_and_fit pid=1237)\u001b[0m Updated model\n"
     ]
    },
    {
     "name": "stderr",
     "output_type": "stream",
     "text": [
      "  0%|\u001b[34m          \u001b[0m| 0/10 [00:00<?, ?it/s]\n"
     ]
    },
    {
     "name": "stdout",
     "output_type": "stream",
     "text": [
      "\u001b[36m(launch_and_fit pid=1236)\u001b[0m \tTrain Epoch: 4 \tTrain_loss: 0.7170 | Train_acc: 45.2546 % | Validation_loss: 0.6774 | Validation_acc: 53.5714 %\u001b[32m [repeated 6x across cluster]\u001b[0m\n"
     ]
    },
    {
     "name": "stderr",
     "output_type": "stream",
     "text": [
      " 40%|\u001b[34m████      \u001b[0m| 4/10 [00:08<00:11,  1.92s/it]\u001b[32m [repeated 6x across cluster]\u001b[0m\n"
     ]
    },
    {
     "name": "stdout",
     "output_type": "stream",
     "text": [
      "\u001b[36m(launch_and_fit pid=1236)\u001b[0m \tTrain Epoch: 7 \tTrain_loss: 0.6800 | Train_acc: 59.0278 % | Validation_loss: 0.6687 | Validation_acc: 50.0000 %\u001b[32m [repeated 6x across cluster]\u001b[0m\n"
     ]
    },
    {
     "name": "stderr",
     "output_type": "stream",
     "text": [
      " 70%|\u001b[34m███████   \u001b[0m| 7/10 [00:13<00:05,  1.85s/it]\u001b[32m [repeated 6x across cluster]\u001b[0m\n"
     ]
    },
    {
     "name": "stdout",
     "output_type": "stream",
     "text": [
      "\u001b[36m(launch_and_fit pid=1236)\u001b[0m save graph in  results/FL/\n",
      "\u001b[36m(launch_and_fit pid=1236)\u001b[0m \tTrain Epoch: 10 \tTrain_loss: 0.6692 | Train_acc: 57.8704 % | Validation_loss: 0.6719 | Validation_acc: 60.7143 %\u001b[32m [repeated 6x across cluster]\u001b[0m\n"
     ]
    },
    {
     "name": "stderr",
     "output_type": "stream",
     "text": [
      "100%|\u001b[34m██████████\u001b[0m| 10/10 [00:19<00:00,  1.90s/it]\u001b[32m [repeated 6x across cluster]\u001b[0m\n"
     ]
    },
    {
     "name": "stdout",
     "output_type": "stream",
     "text": [
      "\u001b[36m(launch_and_fit pid=1236)\u001b[0m features.0.weight 5.245208740234375e-06\n",
      "\u001b[36m(launch_and_fit pid=1236)\u001b[0m features.0.bias 1.430511474609375e-06\n",
      "\u001b[36m(launch_and_fit pid=1236)\u001b[0m features.3.weight 1.1920928955078125e-06\n",
      "\u001b[36m(launch_and_fit pid=1236)\u001b[0m features.3.bias 1.1920928955078125e-06\n",
      "\u001b[36m(launch_and_fit pid=1236)\u001b[0m classifier.0.weight 1.430511474609375e-06\n",
      "\u001b[36m(launch_and_fit pid=1236)\u001b[0m classifier.0.bias 1.1920928955078125e-06\n",
      "\u001b[36m(launch_and_fit pid=1236)\u001b[0m classifier.2.weight 9.5367431640625e-07\n",
      "\u001b[36m(launch_and_fit pid=1236)\u001b[0m classifier.2.bias 1.1920928955078125e-06\n",
      "\u001b[36m(launch_and_fit pid=1236)\u001b[0m classifier.3.weights 1.430511474609375e-06\n",
      "\u001b[36m(launch_and_fit pid=1236)\u001b[0m classifier.4.weight 9.5367431640625e-07\n",
      "\u001b[36m(launch_and_fit pid=1236)\u001b[0m classifier.4.bias 9.5367431640625e-07\n",
      "\u001b[36m(launch_and_fit pid=1318)\u001b[0m Run with homomorphic encryption\n",
      "\u001b[36m(launch_and_fit pid=1237)\u001b[0m save graph in  results/FL/\n",
      "\u001b[36m(launch_and_fit pid=1237)\u001b[0m \tTrain Epoch: 10 \tTrain_loss: 0.5229 | Train_acc: 71.5278 % | Validation_loss: 0.5029 | Validation_acc: 78.5714 %\n",
      "\u001b[36m(launch_and_fit pid=1237)\u001b[0m classifier.4.bias 1.430511474609375e-06\u001b[32m [repeated 11x across cluster]\u001b[0m\n",
      "\u001b[36m(launch_and_fit pid=1318)\u001b[0m [Client 1, round 2] fit, config: {'learning_rate': 0.003, 'batch_size': '32', 'server_round': 2, 'local_epochs': 10}\n"
     ]
    },
    {
     "name": "stderr",
     "output_type": "stream",
     "text": [
      "  0%|\u001b[34m          \u001b[0m| 0/10 [00:00<?, ?it/s]\n",
      "100%|\u001b[34m██████████\u001b[0m| 10/10 [00:18<00:00,  1.88s/it]\n"
     ]
    },
    {
     "name": "stdout",
     "output_type": "stream",
     "text": [
      "\u001b[36m(launch_and_fit pid=1318)\u001b[0m Updated model\n"
     ]
    },
    {
     "name": "stderr",
     "output_type": "stream",
     "text": [
      " 10%|\u001b[34m█         \u001b[0m| 1/10 [00:02<00:22,  2.48s/it]\n"
     ]
    },
    {
     "name": "stdout",
     "output_type": "stream",
     "text": [
      "\u001b[36m(launch_and_fit pid=1318)\u001b[0m \tTrain Epoch: 1 \tTrain_loss: 0.7609 | Train_acc: 34.2593 % | Validation_loss: 0.7391 | Validation_acc: 53.5714 %\n",
      "\u001b[36m(launch_and_fit pid=1320)\u001b[0m Run with homomorphic encryption\n",
      "\u001b[36m(launch_and_fit pid=1320)\u001b[0m [Client 0, round 2] fit, config: {'learning_rate': 0.003, 'batch_size': '32', 'server_round': 2, 'local_epochs': 10}\n"
     ]
    },
    {
     "name": "stderr",
     "output_type": "stream",
     "text": [
      "  0%|\u001b[34m          \u001b[0m| 0/10 [00:00<?, ?it/s]\n"
     ]
    },
    {
     "name": "stdout",
     "output_type": "stream",
     "text": [
      "\u001b[36m(launch_and_fit pid=1320)\u001b[0m Updated model\n"
     ]
    },
    {
     "name": "stderr",
     "output_type": "stream",
     "text": [
      " 40%|\u001b[34m████      \u001b[0m| 4/10 [00:08<00:11,  1.98s/it]\u001b[32m [repeated 6x across cluster]\u001b[0m\n"
     ]
    },
    {
     "name": "stdout",
     "output_type": "stream",
     "text": [
      "\u001b[36m(launch_and_fit pid=1318)\u001b[0m \tTrain Epoch: 4 \tTrain_loss: 0.7395 | Train_acc: 34.7222 % | Validation_loss: 0.7088 | Validation_acc: 53.5714 %\u001b[32m [repeated 6x across cluster]\u001b[0m\n"
     ]
    },
    {
     "name": "stderr",
     "output_type": "stream",
     "text": [
      " 70%|\u001b[34m███████   \u001b[0m| 7/10 [00:13<00:05,  1.85s/it]\u001b[32m [repeated 6x across cluster]\u001b[0m\n"
     ]
    },
    {
     "name": "stdout",
     "output_type": "stream",
     "text": [
      "\u001b[36m(launch_and_fit pid=1318)\u001b[0m \tTrain Epoch: 7 \tTrain_loss: 0.6789 | Train_acc: 56.1343 % | Validation_loss: 0.6717 | Validation_acc: 60.7143 %\u001b[32m [repeated 6x across cluster]\u001b[0m\n"
     ]
    },
    {
     "name": "stderr",
     "output_type": "stream",
     "text": [
      "100%|\u001b[34m██████████\u001b[0m| 10/10 [00:19<00:00,  1.94s/it]\u001b[32m [repeated 6x across cluster]\u001b[0m\n"
     ]
    },
    {
     "name": "stdout",
     "output_type": "stream",
     "text": [
      "\u001b[36m(launch_and_fit pid=1318)\u001b[0m save graph in  results/FL/\n",
      "\u001b[36m(launch_and_fit pid=1318)\u001b[0m \tTrain Epoch: 10 \tTrain_loss: 0.6548 | Train_acc: 67.1296 % | Validation_loss: 0.6767 | Validation_acc: 60.7143 %\u001b[32m [repeated 6x across cluster]\u001b[0m\n",
      "\u001b[36m(launch_and_fit pid=1318)\u001b[0m features.0.weight 5.4836273193359375e-06\n",
      "\u001b[36m(launch_and_fit pid=1318)\u001b[0m features.0.bias 1.430511474609375e-06\n",
      "\u001b[36m(launch_and_fit pid=1318)\u001b[0m features.3.weight 1.430511474609375e-06\n",
      "\u001b[36m(launch_and_fit pid=1318)\u001b[0m features.3.bias 1.8835067749023438e-05\n",
      "\u001b[36m(launch_and_fit pid=1318)\u001b[0m classifier.0.weight 1.6689300537109375e-06\n",
      "\u001b[36m(launch_and_fit pid=1318)\u001b[0m classifier.0.bias 1.1920928955078125e-06\n",
      "\u001b[36m(launch_and_fit pid=1318)\u001b[0m classifier.2.weight 1.1920928955078125e-06\n",
      "\u001b[36m(launch_and_fit pid=1318)\u001b[0m classifier.2.bias 1.1920928955078125e-06\n",
      "\u001b[36m(launch_and_fit pid=1318)\u001b[0m classifier.3.weights 1.430511474609375e-06\n",
      "\u001b[36m(launch_and_fit pid=1318)\u001b[0m classifier.4.weight 1.1920928955078125e-06\n",
      "\u001b[36m(launch_and_fit pid=1318)\u001b[0m classifier.4.bias 1.1920928955078125e-06\n",
      "\u001b[36m(launch_and_fit pid=1400)\u001b[0m Run with homomorphic encryption\n",
      "\u001b[36m(launch_and_fit pid=1320)\u001b[0m save graph in  results/FL/\n",
      "\u001b[36m(launch_and_fit pid=1320)\u001b[0m \tTrain Epoch: 10 \tTrain_loss: 0.6607 | Train_acc: 63.6574 % | Validation_loss: 0.6460 | Validation_acc: 75.0000 %\n",
      "\u001b[36m(launch_and_fit pid=1320)\u001b[0m classifier.4.bias 1.430511474609375e-06\u001b[32m [repeated 11x across cluster]\u001b[0m\n",
      "\u001b[36m(launch_and_fit pid=1400)\u001b[0m [Client 3, round 2] fit, config: {'learning_rate': 0.003, 'batch_size': '32', 'server_round': 2, 'local_epochs': 10}\n"
     ]
    },
    {
     "name": "stderr",
     "output_type": "stream",
     "text": [
      "  0%|\u001b[34m          \u001b[0m| 0/10 [00:00<?, ?it/s]\n",
      "100%|\u001b[34m██████████\u001b[0m| 10/10 [00:19<00:00,  1.93s/it]\n"
     ]
    },
    {
     "name": "stdout",
     "output_type": "stream",
     "text": [
      "\u001b[36m(launch_and_fit pid=1400)\u001b[0m Updated model\n"
     ]
    },
    {
     "name": "stderr",
     "output_type": "stream",
     "text": [
      " 10%|\u001b[34m█         \u001b[0m| 1/10 [00:02<00:21,  2.36s/it]\n"
     ]
    },
    {
     "name": "stdout",
     "output_type": "stream",
     "text": [
      "\u001b[36m(launch_and_fit pid=1400)\u001b[0m \tTrain Epoch: 1 \tTrain_loss: 0.7409 | Train_acc: 41.5509 % | Validation_loss: 0.7242 | Validation_acc: 46.4286 %\n",
      "\u001b[36m(launch_and_fit pid=1402)\u001b[0m Run with homomorphic encryption\n",
      "\u001b[36m(launch_and_fit pid=1402)\u001b[0m [Client 7, round 2] fit, config: {'learning_rate': 0.003, 'batch_size': '32', 'server_round': 2, 'local_epochs': 10}\n"
     ]
    },
    {
     "name": "stderr",
     "output_type": "stream",
     "text": [
      "  0%|\u001b[34m          \u001b[0m| 0/10 [00:00<?, ?it/s]\n"
     ]
    },
    {
     "name": "stdout",
     "output_type": "stream",
     "text": [
      "\u001b[36m(launch_and_fit pid=1402)\u001b[0m Updated model\n"
     ]
    },
    {
     "name": "stderr",
     "output_type": "stream",
     "text": [
      " 40%|\u001b[34m████      \u001b[0m| 4/10 [00:07<00:11,  1.92s/it]\u001b[32m [repeated 6x across cluster]\u001b[0m\n"
     ]
    },
    {
     "name": "stdout",
     "output_type": "stream",
     "text": [
      "\u001b[36m(launch_and_fit pid=1400)\u001b[0m \tTrain Epoch: 4 \tTrain_loss: 0.7118 | Train_acc: 45.9491 % | Validation_loss: 0.6951 | Validation_acc: 50.0000 %\u001b[32m [repeated 6x across cluster]\u001b[0m\n"
     ]
    },
    {
     "name": "stderr",
     "output_type": "stream",
     "text": [
      " 70%|\u001b[34m███████   \u001b[0m| 7/10 [00:13<00:05,  1.87s/it]\u001b[32m [repeated 6x across cluster]\u001b[0m\n"
     ]
    },
    {
     "name": "stdout",
     "output_type": "stream",
     "text": [
      "\u001b[36m(launch_and_fit pid=1400)\u001b[0m \tTrain Epoch: 7 \tTrain_loss: 0.6787 | Train_acc: 59.1435 % | Validation_loss: 0.7084 | Validation_acc: 50.0000 %\u001b[32m [repeated 6x across cluster]\u001b[0m\n"
     ]
    },
    {
     "name": "stderr",
     "output_type": "stream",
     "text": [
      "100%|\u001b[34m██████████\u001b[0m| 10/10 [00:18<00:00,  1.89s/it]\u001b[32m [repeated 6x across cluster]\u001b[0m\n"
     ]
    },
    {
     "name": "stdout",
     "output_type": "stream",
     "text": [
      "\u001b[36m(launch_and_fit pid=1400)\u001b[0m save graph in  results/FL/\n",
      "\u001b[36m(launch_and_fit pid=1400)\u001b[0m \tTrain Epoch: 10 \tTrain_loss: 0.6556 | Train_acc: 63.6574 % | Validation_loss: 0.6913 | Validation_acc: 50.0000 %\u001b[32m [repeated 6x across cluster]\u001b[0m\n",
      "\u001b[36m(launch_and_fit pid=1400)\u001b[0m features.0.weight 8.821487426757812e-06\n",
      "\u001b[36m(launch_and_fit pid=1400)\u001b[0m features.0.bias 1.6689300537109375e-06\n",
      "\u001b[36m(launch_and_fit pid=1400)\u001b[0m features.3.weight 9.5367431640625e-07\n",
      "\u001b[36m(launch_and_fit pid=1400)\u001b[0m features.3.bias 1.430511474609375e-06\n",
      "\u001b[36m(launch_and_fit pid=1400)\u001b[0m classifier.0.weight 9.5367431640625e-07\n",
      "\u001b[36m(launch_and_fit pid=1400)\u001b[0m classifier.0.bias 9.5367431640625e-07\n",
      "\u001b[36m(launch_and_fit pid=1400)\u001b[0m classifier.2.weight 1.430511474609375e-06\n",
      "\u001b[36m(launch_and_fit pid=1400)\u001b[0m classifier.2.bias 1.1920928955078125e-06\n",
      "\u001b[36m(launch_and_fit pid=1400)\u001b[0m classifier.3.weights 9.5367431640625e-07\n",
      "\u001b[36m(launch_and_fit pid=1400)\u001b[0m classifier.4.weight 9.5367431640625e-07\n",
      "\u001b[36m(launch_and_fit pid=1400)\u001b[0m classifier.4.bias 1.1920928955078125e-06\n",
      "\u001b[36m(launch_and_fit pid=1482)\u001b[0m Run with homomorphic encryption\n",
      "\u001b[36m(launch_and_fit pid=1402)\u001b[0m save graph in  results/FL/\n",
      "\u001b[36m(launch_and_fit pid=1402)\u001b[0m \tTrain Epoch: 10 \tTrain_loss: 0.5563 | Train_acc: 72.4537 % | Validation_loss: 0.5807 | Validation_acc: 71.4286 %\n",
      "\u001b[36m(launch_and_fit pid=1402)\u001b[0m classifier.4.bias 1.1920928955078125e-06\u001b[32m [repeated 11x across cluster]\u001b[0m\n",
      "\u001b[36m(launch_and_fit pid=1482)\u001b[0m [Client 5, round 2] fit, config: {'learning_rate': 0.003, 'batch_size': '32', 'server_round': 2, 'local_epochs': 10}\n"
     ]
    },
    {
     "name": "stderr",
     "output_type": "stream",
     "text": [
      "  0%|\u001b[34m          \u001b[0m| 0/10 [00:00<?, ?it/s]\n",
      "100%|\u001b[34m██████████\u001b[0m| 10/10 [00:19<00:00,  1.90s/it]\n"
     ]
    },
    {
     "name": "stdout",
     "output_type": "stream",
     "text": [
      "\u001b[36m(launch_and_fit pid=1482)\u001b[0m Updated model\n"
     ]
    },
    {
     "name": "stderr",
     "output_type": "stream",
     "text": [
      " 10%|\u001b[34m█         \u001b[0m| 1/10 [00:02<00:21,  2.36s/it]\n"
     ]
    },
    {
     "name": "stdout",
     "output_type": "stream",
     "text": [
      "\u001b[36m(launch_and_fit pid=1482)\u001b[0m \tTrain Epoch: 1 \tTrain_loss: 0.7546 | Train_acc: 37.3843 % | Validation_loss: 0.7399 | Validation_acc: 42.8571 %\n",
      "\u001b[36m(launch_and_fit pid=1507)\u001b[0m Run with homomorphic encryption\n",
      "\u001b[36m(launch_and_fit pid=1507)\u001b[0m [Client 6, round 2] fit, config: {'learning_rate': 0.003, 'batch_size': '32', 'server_round': 2, 'local_epochs': 10}\n"
     ]
    },
    {
     "name": "stderr",
     "output_type": "stream",
     "text": [
      "  0%|\u001b[34m          \u001b[0m| 0/10 [00:00<?, ?it/s]\n"
     ]
    },
    {
     "name": "stdout",
     "output_type": "stream",
     "text": [
      "\u001b[36m(launch_and_fit pid=1507)\u001b[0m Updated model\n"
     ]
    },
    {
     "name": "stderr",
     "output_type": "stream",
     "text": [
      " 40%|\u001b[34m████      \u001b[0m| 4/10 [00:07<00:11,  1.88s/it]\u001b[32m [repeated 6x across cluster]\u001b[0m\n"
     ]
    },
    {
     "name": "stdout",
     "output_type": "stream",
     "text": [
      "\u001b[36m(launch_and_fit pid=1482)\u001b[0m \tTrain Epoch: 4 \tTrain_loss: 0.7160 | Train_acc: 46.6435 % | Validation_loss: 0.6889 | Validation_acc: 60.7143 %\u001b[32m [repeated 6x across cluster]\u001b[0m\n"
     ]
    },
    {
     "name": "stderr",
     "output_type": "stream",
     "text": [
      " 70%|\u001b[34m███████   \u001b[0m| 7/10 [00:13<00:05,  1.81s/it]\u001b[32m [repeated 6x across cluster]\u001b[0m\n"
     ]
    },
    {
     "name": "stdout",
     "output_type": "stream",
     "text": [
      "\u001b[36m(launch_and_fit pid=1482)\u001b[0m \tTrain Epoch: 7 \tTrain_loss: 0.6832 | Train_acc: 55.0926 % | Validation_loss: 0.6961 | Validation_acc: 46.4286 %\u001b[32m [repeated 6x across cluster]\u001b[0m\n"
     ]
    },
    {
     "name": "stderr",
     "output_type": "stream",
     "text": [
      "100%|\u001b[34m██████████\u001b[0m| 10/10 [00:18<00:00,  1.85s/it]\u001b[32m [repeated 6x across cluster]\u001b[0m\n"
     ]
    },
    {
     "name": "stdout",
     "output_type": "stream",
     "text": [
      "\u001b[36m(launch_and_fit pid=1482)\u001b[0m save graph in  results/FL/\n",
      "\u001b[36m(launch_and_fit pid=1482)\u001b[0m \tTrain Epoch: 10 \tTrain_loss: 0.6637 | Train_acc: 66.4352 % | Validation_loss: 0.7042 | Validation_acc: 42.8571 %\u001b[32m [repeated 6x across cluster]\u001b[0m\n",
      "\u001b[36m(launch_and_fit pid=1482)\u001b[0m features.0.weight 5.4836273193359375e-06\n",
      "\u001b[36m(launch_and_fit pid=1482)\u001b[0m features.0.bias 1.430511474609375e-06\n",
      "\u001b[36m(launch_and_fit pid=1482)\u001b[0m features.3.weight 1.430511474609375e-06\n",
      "\u001b[36m(launch_and_fit pid=1482)\u001b[0m features.3.bias 1.430511474609375e-06\n",
      "\u001b[36m(launch_and_fit pid=1482)\u001b[0m classifier.0.weight 1.1920928955078125e-06\n",
      "\u001b[36m(launch_and_fit pid=1482)\u001b[0m classifier.0.bias 1.1920928955078125e-06\n",
      "\u001b[36m(launch_and_fit pid=1482)\u001b[0m classifier.2.weight 1.1920928955078125e-06\n",
      "\u001b[36m(launch_and_fit pid=1482)\u001b[0m classifier.2.bias 1.1920928955078125e-06\n",
      "\u001b[36m(launch_and_fit pid=1482)\u001b[0m classifier.3.weights 1.430511474609375e-06\n",
      "\u001b[36m(launch_and_fit pid=1482)\u001b[0m classifier.4.weight 1.6689300537109375e-06\n",
      "\u001b[36m(launch_and_fit pid=1482)\u001b[0m classifier.4.bias 1.9073486328125e-06\n",
      "\u001b[36m(launch_and_fit pid=1564)\u001b[0m Run with homomorphic encryption\n",
      "\u001b[36m(launch_and_fit pid=1507)\u001b[0m save graph in  results/FL/\n",
      "\u001b[36m(launch_and_fit pid=1507)\u001b[0m \tTrain Epoch: 10 \tTrain_loss: 0.6595 | Train_acc: 68.4028 % | Validation_loss: 0.6544 | Validation_acc: 64.2857 %\n",
      "\u001b[36m(launch_and_fit pid=1507)\u001b[0m classifier.4.bias 1.1920928955078125e-06\u001b[32m [repeated 11x across cluster]\u001b[0m\n",
      "\u001b[36m(launch_and_fit pid=1564)\u001b[0m [Client 8, round 2] fit, config: {'learning_rate': 0.003, 'batch_size': '32', 'server_round': 2, 'local_epochs': 10}\n",
      "\u001b[36m(launch_and_fit pid=1564)\u001b[0m Updated model\n"
     ]
    },
    {
     "name": "stderr",
     "output_type": "stream",
     "text": [
      "  0%|\u001b[34m          \u001b[0m| 0/10 [00:00<?, ?it/s]\n",
      "100%|\u001b[34m██████████\u001b[0m| 10/10 [00:18<00:00,  1.86s/it]\n"
     ]
    },
    {
     "name": "stdout",
     "output_type": "stream",
     "text": [
      "\u001b[36m(launch_and_fit pid=1564)\u001b[0m \tTrain Epoch: 1 \tTrain_loss: 0.7655 | Train_acc: 34.1435 % | Validation_loss: 0.7314 | Validation_acc: 42.8571 %\n",
      "\u001b[36m(launch_and_fit pid=1574)\u001b[0m Run with homomorphic encryption\n"
     ]
    },
    {
     "name": "stderr",
     "output_type": "stream",
     "text": [
      " 10%|\u001b[34m█         \u001b[0m| 1/10 [00:02<00:21,  2.39s/it]\n"
     ]
    },
    {
     "name": "stdout",
     "output_type": "stream",
     "text": [
      "\u001b[36m(launch_and_fit pid=1574)\u001b[0m [Client 9, round 2] fit, config: {'learning_rate': 0.003, 'batch_size': '32', 'server_round': 2, 'local_epochs': 10}\n",
      "\u001b[36m(launch_and_fit pid=1574)\u001b[0m Updated model\n"
     ]
    },
    {
     "name": "stderr",
     "output_type": "stream",
     "text": [
      "  0%|\u001b[34m          \u001b[0m| 0/10 [00:00<?, ?it/s]\n"
     ]
    },
    {
     "name": "stdout",
     "output_type": "stream",
     "text": [
      "\u001b[36m(launch_and_fit pid=1564)\u001b[0m \tTrain Epoch: 4 \tTrain_loss: 0.7222 | Train_acc: 42.5926 % | Validation_loss: 0.7071 | Validation_acc: 42.8571 %\u001b[32m [repeated 6x across cluster]\u001b[0m\n"
     ]
    },
    {
     "name": "stderr",
     "output_type": "stream",
     "text": [
      " 40%|\u001b[34m████      \u001b[0m| 4/10 [00:07<00:11,  1.88s/it]\u001b[32m [repeated 6x across cluster]\u001b[0m\n"
     ]
    },
    {
     "name": "stdout",
     "output_type": "stream",
     "text": [
      "\u001b[36m(launch_and_fit pid=1564)\u001b[0m \tTrain Epoch: 7 \tTrain_loss: 0.6737 | Train_acc: 60.7639 % | Validation_loss: 0.6911 | Validation_acc: 60.7143 %\u001b[32m [repeated 6x across cluster]\u001b[0m\n"
     ]
    },
    {
     "name": "stderr",
     "output_type": "stream",
     "text": [
      " 70%|\u001b[34m███████   \u001b[0m| 7/10 [00:13<00:05,  1.80s/it]\u001b[32m [repeated 6x across cluster]\u001b[0m\n",
      " 90%|\u001b[34m█████████ \u001b[0m| 9/10 [00:17<00:01,  1.90s/it]\u001b[32m [repeated 5x across cluster]\u001b[0m\n"
     ]
    },
    {
     "name": "stdout",
     "output_type": "stream",
     "text": [
      "\u001b[36m(launch_and_fit pid=1574)\u001b[0m \tTrain Epoch: 9 \tTrain_loss: 0.6445 | Train_acc: 66.7929 % | Validation_loss: 0.6191 | Validation_acc: 72.4138 %\u001b[32m [repeated 5x across cluster]\u001b[0m\n",
      "\u001b[36m(launch_and_fit pid=1564)\u001b[0m save graph in  results/FL/\n",
      "\u001b[36m(launch_and_fit pid=1564)\u001b[0m features.0.weight 5.245208740234375e-06\n",
      "\u001b[36m(launch_and_fit pid=1564)\u001b[0m features.0.bias 1.6689300537109375e-06\n",
      "\u001b[36m(launch_and_fit pid=1564)\u001b[0m features.3.weight 1.430511474609375e-06\n",
      "\u001b[36m(launch_and_fit pid=1564)\u001b[0m features.3.bias 1.430511474609375e-06\n",
      "\u001b[36m(launch_and_fit pid=1564)\u001b[0m classifier.0.weight 1.430511474609375e-06\n",
      "\u001b[36m(launch_and_fit pid=1564)\u001b[0m classifier.0.bias 9.5367431640625e-07\n",
      "\u001b[36m(launch_and_fit pid=1564)\u001b[0m classifier.2.weight 1.1920928955078125e-06\n",
      "\u001b[36m(launch_and_fit pid=1564)\u001b[0m classifier.2.bias 1.1920928955078125e-06\n",
      "\u001b[36m(launch_and_fit pid=1564)\u001b[0m classifier.3.weights 1.6689300537109375e-06\n",
      "\u001b[36m(launch_and_fit pid=1564)\u001b[0m classifier.4.weight 1.1920928955078125e-06\n",
      "\u001b[36m(launch_and_fit pid=1564)\u001b[0m classifier.4.bias 1.430511474609375e-06\n"
     ]
    },
    {
     "name": "stderr",
     "output_type": "stream",
     "text": [
      "DEBUG flwr 2024-07-24 04:23:24,235 | server.py:236 | fit_round 2 received 10 results and 0 failures\n"
     ]
    },
    {
     "name": "stdout",
     "output_type": "stream",
     "text": [
      "Saving round 2 aggregated_parameters...\n"
     ]
    },
    {
     "name": "stderr",
     "output_type": "stream",
     "text": [
      "DEBUG flwr 2024-07-24 04:23:26,348 | server.py:173 | evaluate_round 2: strategy sampled 10 clients (out of 10)\n"
     ]
    },
    {
     "name": "stdout",
     "output_type": "stream",
     "text": [
      "\u001b[36m(launch_and_evaluate pid=1655)\u001b[0m Run with homomorphic encryption\n",
      "\u001b[36m(launch_and_fit pid=1574)\u001b[0m \tTrain Epoch: 10 \tTrain_loss: 0.6327 | Train_acc: 67.4558 % | Validation_loss: 0.5988 | Validation_acc: 72.4138 %\u001b[32m [repeated 2x across cluster]\u001b[0m\n",
      "\u001b[36m(launch_and_fit pid=1574)\u001b[0m save graph in  results/FL/\n",
      "\u001b[36m(launch_and_fit pid=1574)\u001b[0m classifier.4.bias 9.5367431640625e-07\u001b[32m [repeated 11x across cluster]\u001b[0m\n",
      "\u001b[36m(launch_and_evaluate pid=1655)\u001b[0m [Client 8] evaluate, config: {}\n",
      "\u001b[36m(launch_and_evaluate pid=1655)\u001b[0m Updated model\n",
      "\u001b[36m(launch_and_evaluate pid=1734)\u001b[0m Run with homomorphic encryption\u001b[32m [repeated 2x across cluster]\u001b[0m\n",
      "\u001b[36m(launch_and_evaluate pid=1656)\u001b[0m [Client 5] evaluate, config: {}\n",
      "\u001b[36m(launch_and_evaluate pid=1656)\u001b[0m Updated model\n",
      "\u001b[36m(launch_and_evaluate pid=1734)\u001b[0m [Client 7] evaluate, config: {}\n",
      "\u001b[36m(launch_and_evaluate pid=1736)\u001b[0m Updated model\n",
      "\u001b[36m(launch_and_evaluate pid=1812)\u001b[0m Run with homomorphic encryption\u001b[32m [repeated 2x across cluster]\u001b[0m\n",
      "\u001b[36m(launch_and_evaluate pid=1736)\u001b[0m [Client 3] evaluate, config: {}\n",
      "\u001b[36m(launch_and_evaluate pid=1734)\u001b[0m Updated model\n",
      "\u001b[36m(launch_and_evaluate pid=1812)\u001b[0m [Client 2] evaluate, config: {}\n",
      "\u001b[36m(launch_and_evaluate pid=1812)\u001b[0m Updated model\n",
      "\u001b[36m(launch_and_evaluate pid=1890)\u001b[0m Run with homomorphic encryption\u001b[32m [repeated 2x across cluster]\u001b[0m\n",
      "\u001b[36m(launch_and_evaluate pid=1814)\u001b[0m [Client 0] evaluate, config: {}\n",
      "\u001b[36m(launch_and_evaluate pid=1814)\u001b[0m Updated model\n",
      "\u001b[36m(launch_and_evaluate pid=1890)\u001b[0m [Client 4] evaluate, config: {}\n",
      "\u001b[36m(launch_and_evaluate pid=1890)\u001b[0m Updated model\n",
      "\u001b[36m(launch_and_evaluate pid=1968)\u001b[0m Run with homomorphic encryption\u001b[32m [repeated 2x across cluster]\u001b[0m\n",
      "\u001b[36m(launch_and_evaluate pid=1892)\u001b[0m [Client 6] evaluate, config: {}\n",
      "\u001b[36m(launch_and_evaluate pid=1892)\u001b[0m Updated model\n",
      "\u001b[36m(launch_and_evaluate pid=1968)\u001b[0m [Client 9] evaluate, config: {}\n",
      "\u001b[36m(launch_and_evaluate pid=1970)\u001b[0m Updated model\n"
     ]
    },
    {
     "name": "stderr",
     "output_type": "stream",
     "text": [
      "DEBUG flwr 2024-07-24 04:24:46,131 | server.py:187 | evaluate_round 2 received 10 results and 0 failures\n",
      "DEBUG flwr 2024-07-24 04:24:46,133 | server.py:222 | fit_round 3: strategy sampled 10 clients (out of 10)\n"
     ]
    },
    {
     "name": "stdout",
     "output_type": "stream",
     "text": [
      "\u001b[36m(launch_and_fit pid=2056)\u001b[0m Run with homomorphic encryption\u001b[32m [repeated 2x across cluster]\u001b[0m\n",
      "\u001b[36m(launch_and_evaluate pid=1970)\u001b[0m [Client 1] evaluate, config: {}\n",
      "\u001b[36m(launch_and_evaluate pid=1968)\u001b[0m Updated model\n",
      "\u001b[36m(launch_and_fit pid=2056)\u001b[0m [Client 7, round 3] fit, config: {'learning_rate': 0.003, 'batch_size': '32', 'server_round': 3, 'local_epochs': 10}\n",
      "\u001b[36m(launch_and_fit pid=2056)\u001b[0m Updated model\n"
     ]
    },
    {
     "name": "stderr",
     "output_type": "stream",
     "text": [
      "  0%|\u001b[34m          \u001b[0m| 0/10 [00:00<?, ?it/s]\n",
      "100%|\u001b[34m██████████\u001b[0m| 10/10 [00:19<00:00,  1.91s/it]\u001b[32m [repeated 2x across cluster]\u001b[0m\n"
     ]
    },
    {
     "name": "stdout",
     "output_type": "stream",
     "text": [
      "\u001b[36m(launch_and_fit pid=2056)\u001b[0m \tTrain Epoch: 1 \tTrain_loss: 0.6601 | Train_acc: 63.6574 % | Validation_loss: 0.6664 | Validation_acc: 64.2857 %\n",
      "\u001b[36m(launch_and_fit pid=2057)\u001b[0m Run with homomorphic encryption\n",
      "\u001b[36m(launch_and_fit pid=2057)\u001b[0m [Client 6, round 3] fit, config: {'learning_rate': 0.003, 'batch_size': '32', 'server_round': 3, 'local_epochs': 10}\n",
      "\u001b[36m(launch_and_fit pid=2057)\u001b[0m Updated model\n"
     ]
    },
    {
     "name": "stderr",
     "output_type": "stream",
     "text": [
      "  0%|\u001b[34m          \u001b[0m| 0/10 [00:00<?, ?it/s]\n",
      " 30%|\u001b[34m███       \u001b[0m| 3/10 [00:06<00:13,  1.94s/it]\u001b[32m [repeated 5x across cluster]\u001b[0m\n"
     ]
    },
    {
     "name": "stdout",
     "output_type": "stream",
     "text": [
      "\u001b[36m(launch_and_fit pid=2056)\u001b[0m \tTrain Epoch: 4 \tTrain_loss: 0.6113 | Train_acc: 75.4630 % | Validation_loss: 0.6489 | Validation_acc: 67.8571 %\u001b[32m [repeated 6x across cluster]\u001b[0m\n"
     ]
    },
    {
     "name": "stderr",
     "output_type": "stream",
     "text": [
      " 60%|\u001b[34m██████    \u001b[0m| 6/10 [00:11<00:07,  1.86s/it]\u001b[32m [repeated 6x across cluster]\u001b[0m\n"
     ]
    },
    {
     "name": "stdout",
     "output_type": "stream",
     "text": [
      "\u001b[36m(launch_and_fit pid=2056)\u001b[0m \tTrain Epoch: 7 \tTrain_loss: 0.5941 | Train_acc: 79.1667 % | Validation_loss: 0.6027 | Validation_acc: 71.4286 %\u001b[32m [repeated 6x across cluster]\u001b[0m\n"
     ]
    },
    {
     "name": "stderr",
     "output_type": "stream",
     "text": [
      " 90%|\u001b[34m█████████ \u001b[0m| 9/10 [00:16<00:01,  1.84s/it]\u001b[32m [repeated 6x across cluster]\u001b[0m\n"
     ]
    },
    {
     "name": "stdout",
     "output_type": "stream",
     "text": [
      "\u001b[36m(launch_and_fit pid=2056)\u001b[0m save graph in  results/FL/\n",
      "\u001b[36m(launch_and_fit pid=2056)\u001b[0m \tTrain Epoch: 10 \tTrain_loss: 0.5864 | Train_acc: 75.8102 % | Validation_loss: 0.6160 | Validation_acc: 71.4286 %\u001b[32m [repeated 6x across cluster]\u001b[0m\n",
      "\u001b[36m(launch_and_fit pid=2056)\u001b[0m features.0.weight 5.245208740234375e-06\n",
      "\u001b[36m(launch_and_fit pid=2056)\u001b[0m features.0.bias 1.430511474609375e-06\n",
      "\u001b[36m(launch_and_fit pid=2056)\u001b[0m features.3.weight 1.6689300537109375e-06\n",
      "\u001b[36m(launch_and_fit pid=2056)\u001b[0m features.3.bias 1.1920928955078125e-06\n",
      "\u001b[36m(launch_and_fit pid=2056)\u001b[0m classifier.0.weight 1.430511474609375e-06\n",
      "\u001b[36m(launch_and_fit pid=2056)\u001b[0m classifier.0.bias 1.1920928955078125e-06\n",
      "\u001b[36m(launch_and_fit pid=2056)\u001b[0m classifier.2.weight 1.1920928955078125e-06\n",
      "\u001b[36m(launch_and_fit pid=2056)\u001b[0m classifier.2.bias 1.430511474609375e-06\n",
      "\u001b[36m(launch_and_fit pid=2056)\u001b[0m classifier.3.weights 1.430511474609375e-06\n",
      "\u001b[36m(launch_and_fit pid=2056)\u001b[0m classifier.4.weight 1.1920928955078125e-06\n",
      "\u001b[36m(launch_and_fit pid=2056)\u001b[0m classifier.4.bias 1.6689300537109375e-06\n",
      "\u001b[36m(launch_and_fit pid=2138)\u001b[0m Run with homomorphic encryption\n",
      "\u001b[36m(launch_and_fit pid=2057)\u001b[0m save graph in  results/FL/\n",
      "\u001b[36m(launch_and_fit pid=2057)\u001b[0m \tTrain Epoch: 10 \tTrain_loss: 0.6208 | Train_acc: 70.6019 % | Validation_loss: 0.5972 | Validation_acc: 75.0000 %\n",
      "\u001b[36m(launch_and_fit pid=2057)\u001b[0m classifier.4.bias 1.430511474609375e-06\u001b[32m [repeated 11x across cluster]\u001b[0m\n",
      "\u001b[36m(launch_and_fit pid=2138)\u001b[0m [Client 2, round 3] fit, config: {'learning_rate': 0.003, 'batch_size': '32', 'server_round': 3, 'local_epochs': 10}\n"
     ]
    },
    {
     "name": "stderr",
     "output_type": "stream",
     "text": [
      "  0%|\u001b[34m          \u001b[0m| 0/10 [00:00<?, ?it/s]\n",
      "100%|\u001b[34m██████████\u001b[0m| 10/10 [00:18<00:00,  1.89s/it]\u001b[32m [repeated 3x across cluster]\u001b[0m\n"
     ]
    },
    {
     "name": "stdout",
     "output_type": "stream",
     "text": [
      "\u001b[36m(launch_and_fit pid=2138)\u001b[0m Updated model\n",
      "\u001b[36m(launch_and_fit pid=2138)\u001b[0m \tTrain Epoch: 1 \tTrain_loss: 0.6414 | Train_acc: 67.0139 % | Validation_loss: 0.6548 | Validation_acc: 71.4286 %\n",
      "\u001b[36m(launch_and_fit pid=2140)\u001b[0m Run with homomorphic encryption\n",
      "\u001b[36m(launch_and_fit pid=2140)\u001b[0m [Client 9, round 3] fit, config: {'learning_rate': 0.003, 'batch_size': '32', 'server_round': 3, 'local_epochs': 10}\n"
     ]
    },
    {
     "name": "stderr",
     "output_type": "stream",
     "text": [
      "  0%|\u001b[34m          \u001b[0m| 0/10 [00:00<?, ?it/s]\n",
      " 30%|\u001b[34m███       \u001b[0m| 3/10 [00:06<00:13,  1.99s/it]\u001b[32m [repeated 5x across cluster]\u001b[0m\n"
     ]
    },
    {
     "name": "stdout",
     "output_type": "stream",
     "text": [
      "\u001b[36m(launch_and_fit pid=2140)\u001b[0m Updated model\n",
      "\u001b[36m(launch_and_fit pid=2138)\u001b[0m \tTrain Epoch: 4 \tTrain_loss: 0.6369 | Train_acc: 69.9074 % | Validation_loss: 0.6053 | Validation_acc: 78.5714 %\u001b[32m [repeated 6x across cluster]\u001b[0m\n"
     ]
    },
    {
     "name": "stderr",
     "output_type": "stream",
     "text": [
      " 60%|\u001b[34m██████    \u001b[0m| 6/10 [00:11<00:07,  1.87s/it]\u001b[32m [repeated 6x across cluster]\u001b[0m\n"
     ]
    },
    {
     "name": "stdout",
     "output_type": "stream",
     "text": [
      "\u001b[36m(launch_and_fit pid=2138)\u001b[0m \tTrain Epoch: 7 \tTrain_loss: 0.6440 | Train_acc: 68.5185 % | Validation_loss: 0.5818 | Validation_acc: 78.5714 %\u001b[32m [repeated 6x across cluster]\u001b[0m\n"
     ]
    },
    {
     "name": "stderr",
     "output_type": "stream",
     "text": [
      " 90%|\u001b[34m█████████ \u001b[0m| 9/10 [00:17<00:01,  1.86s/it]\u001b[32m [repeated 6x across cluster]\u001b[0m\n"
     ]
    },
    {
     "name": "stdout",
     "output_type": "stream",
     "text": [
      "\u001b[36m(launch_and_fit pid=2138)\u001b[0m save graph in  results/FL/\n",
      "\u001b[36m(launch_and_fit pid=2138)\u001b[0m \tTrain Epoch: 10 \tTrain_loss: 0.6051 | Train_acc: 71.5278 % | Validation_loss: 0.5845 | Validation_acc: 78.5714 %\u001b[32m [repeated 6x across cluster]\u001b[0m\n",
      "\u001b[36m(launch_and_fit pid=2138)\u001b[0m features.0.weight 5.4836273193359375e-06\n",
      "\u001b[36m(launch_and_fit pid=2138)\u001b[0m features.0.bias 1.6689300537109375e-06\n",
      "\u001b[36m(launch_and_fit pid=2138)\u001b[0m features.3.weight 1.430511474609375e-06\n",
      "\u001b[36m(launch_and_fit pid=2138)\u001b[0m features.3.bias 1.1920928955078125e-06\n",
      "\u001b[36m(launch_and_fit pid=2138)\u001b[0m classifier.0.weight 1.1920928955078125e-06\n",
      "\u001b[36m(launch_and_fit pid=2138)\u001b[0m classifier.0.bias 1.430511474609375e-06\n",
      "\u001b[36m(launch_and_fit pid=2138)\u001b[0m classifier.2.weight 1.1920928955078125e-06\n",
      "\u001b[36m(launch_and_fit pid=2138)\u001b[0m classifier.2.bias 1.1920928955078125e-06\n",
      "\u001b[36m(launch_and_fit pid=2138)\u001b[0m classifier.3.weights 1.430511474609375e-06\n",
      "\u001b[36m(launch_and_fit pid=2138)\u001b[0m classifier.4.weight 1.1920928955078125e-06\n",
      "\u001b[36m(launch_and_fit pid=2138)\u001b[0m classifier.4.bias 1.1920928955078125e-06\n",
      "\u001b[36m(launch_and_fit pid=2220)\u001b[0m Run with homomorphic encryption\n",
      "\u001b[36m(launch_and_fit pid=2140)\u001b[0m save graph in  results/FL/\n",
      "\u001b[36m(launch_and_fit pid=2140)\u001b[0m \tTrain Epoch: 10 \tTrain_loss: 0.6334 | Train_acc: 66.7929 % | Validation_loss: 0.6068 | Validation_acc: 72.4138 %\n",
      "\u001b[36m(launch_and_fit pid=2140)\u001b[0m classifier.4.bias 1.430511474609375e-06\u001b[32m [repeated 11x across cluster]\u001b[0m\n",
      "\u001b[36m(launch_and_fit pid=2220)\u001b[0m [Client 8, round 3] fit, config: {'learning_rate': 0.003, 'batch_size': '32', 'server_round': 3, 'local_epochs': 10}\n",
      "\u001b[36m(launch_and_fit pid=2220)\u001b[0m Updated model\n"
     ]
    },
    {
     "name": "stderr",
     "output_type": "stream",
     "text": [
      "  0%|\u001b[34m          \u001b[0m| 0/10 [00:00<?, ?it/s]\n",
      "100%|\u001b[34m██████████\u001b[0m| 10/10 [00:19<00:00,  1.95s/it]\u001b[32m [repeated 3x across cluster]\u001b[0m\n"
     ]
    },
    {
     "name": "stdout",
     "output_type": "stream",
     "text": [
      "\u001b[36m(launch_and_fit pid=2220)\u001b[0m \tTrain Epoch: 1 \tTrain_loss: 0.6412 | Train_acc: 68.7500 % | Validation_loss: 0.6569 | Validation_acc: 60.7143 %\n",
      "\u001b[36m(launch_and_fit pid=2245)\u001b[0m Run with homomorphic encryption\n",
      "\u001b[36m(launch_and_fit pid=2245)\u001b[0m [Client 5, round 3] fit, config: {'learning_rate': 0.003, 'batch_size': '32', 'server_round': 3, 'local_epochs': 10}\n",
      "\u001b[36m(launch_and_fit pid=2245)\u001b[0m Updated model\n"
     ]
    },
    {
     "name": "stderr",
     "output_type": "stream",
     "text": [
      "  0%|\u001b[34m          \u001b[0m| 0/10 [00:00<?, ?it/s]\n",
      " 20%|\u001b[34m██        \u001b[0m| 2/10 [00:04<00:16,  2.11s/it]\u001b[32m [repeated 4x across cluster]\u001b[0m\n"
     ]
    },
    {
     "name": "stdout",
     "output_type": "stream",
     "text": [
      "\u001b[36m(launch_and_fit pid=2220)\u001b[0m \tTrain Epoch: 4 \tTrain_loss: 0.6195 | Train_acc: 73.0324 % | Validation_loss: 0.6228 | Validation_acc: 75.0000 %\u001b[32m [repeated 6x across cluster]\u001b[0m\n"
     ]
    },
    {
     "name": "stderr",
     "output_type": "stream",
     "text": [
      " 50%|\u001b[34m█████     \u001b[0m| 5/10 [00:09<00:09,  1.91s/it]\u001b[32m [repeated 6x across cluster]\u001b[0m\n"
     ]
    },
    {
     "name": "stdout",
     "output_type": "stream",
     "text": [
      "\u001b[36m(launch_and_fit pid=2220)\u001b[0m \tTrain Epoch: 7 \tTrain_loss: 0.5954 | Train_acc: 78.8194 % | Validation_loss: 0.6291 | Validation_acc: 75.0000 %\u001b[32m [repeated 6x across cluster]\u001b[0m\n"
     ]
    },
    {
     "name": "stderr",
     "output_type": "stream",
     "text": [
      " 80%|\u001b[34m████████  \u001b[0m| 8/10 [00:15<00:03,  1.90s/it]\u001b[32m [repeated 6x across cluster]\u001b[0m\n"
     ]
    },
    {
     "name": "stdout",
     "output_type": "stream",
     "text": [
      "\u001b[36m(launch_and_fit pid=2220)\u001b[0m save graph in  results/FL/\n",
      "\u001b[36m(launch_and_fit pid=2220)\u001b[0m \tTrain Epoch: 10 \tTrain_loss: 0.5700 | Train_acc: 78.8194 % | Validation_loss: 0.5657 | Validation_acc: 75.0000 %\u001b[32m [repeated 6x across cluster]\u001b[0m\n",
      "\u001b[36m(launch_and_fit pid=2220)\u001b[0m features.0.weight 5.245208740234375e-06\n",
      "\u001b[36m(launch_and_fit pid=2220)\u001b[0m features.0.bias 2.1457672119140625e-06\n",
      "\u001b[36m(launch_and_fit pid=2220)\u001b[0m features.3.weight 1.6689300537109375e-06\n",
      "\u001b[36m(launch_and_fit pid=2220)\u001b[0m features.3.bias 1.6689300537109375e-06\n",
      "\u001b[36m(launch_and_fit pid=2220)\u001b[0m classifier.0.weight 1.1920928955078125e-06\n",
      "\u001b[36m(launch_and_fit pid=2220)\u001b[0m classifier.0.bias 1.430511474609375e-06\n",
      "\u001b[36m(launch_and_fit pid=2220)\u001b[0m classifier.2.weight 1.430511474609375e-06\n",
      "\u001b[36m(launch_and_fit pid=2220)\u001b[0m classifier.2.bias 1.1920928955078125e-06\n",
      "\u001b[36m(launch_and_fit pid=2220)\u001b[0m classifier.3.weights 1.430511474609375e-06\n",
      "\u001b[36m(launch_and_fit pid=2220)\u001b[0m classifier.4.weight 1.430511474609375e-06\n",
      "\u001b[36m(launch_and_fit pid=2220)\u001b[0m classifier.4.bias 1.6689300537109375e-06\n",
      "\u001b[36m(launch_and_fit pid=2305)\u001b[0m Run with homomorphic encryption\n",
      "\u001b[36m(launch_and_fit pid=2245)\u001b[0m save graph in  results/FL/\n",
      "\u001b[36m(launch_and_fit pid=2245)\u001b[0m \tTrain Epoch: 10 \tTrain_loss: 0.4755 | Train_acc: 73.6111 % | Validation_loss: 0.7407 | Validation_acc: 53.5714 %\n",
      "\u001b[36m(launch_and_fit pid=2245)\u001b[0m classifier.4.bias 1.430511474609375e-06\u001b[32m [repeated 11x across cluster]\u001b[0m\n",
      "\u001b[36m(launch_and_fit pid=2305)\u001b[0m [Client 4, round 3] fit, config: {'learning_rate': 0.003, 'batch_size': '32', 'server_round': 3, 'local_epochs': 10}\n",
      "\u001b[36m(launch_and_fit pid=2305)\u001b[0m Updated model\n"
     ]
    },
    {
     "name": "stderr",
     "output_type": "stream",
     "text": [
      "  0%|\u001b[34m          \u001b[0m| 0/10 [00:00<?, ?it/s]\n",
      "100%|\u001b[34m██████████\u001b[0m| 10/10 [00:19<00:00,  1.94s/it]\u001b[32m [repeated 4x across cluster]\u001b[0m\n"
     ]
    },
    {
     "name": "stdout",
     "output_type": "stream",
     "text": [
      "\u001b[36m(launch_and_fit pid=2305)\u001b[0m \tTrain Epoch: 1 \tTrain_loss: 0.6371 | Train_acc: 72.5694 % | Validation_loss: 0.6786 | Validation_acc: 60.7143 %\n",
      "\u001b[36m(launch_and_fit pid=2329)\u001b[0m Run with homomorphic encryption\n",
      "\u001b[36m(launch_and_fit pid=2329)\u001b[0m [Client 1, round 3] fit, config: {'learning_rate': 0.003, 'batch_size': '32', 'server_round': 3, 'local_epochs': 10}\n"
     ]
    },
    {
     "name": "stderr",
     "output_type": "stream",
     "text": [
      "  0%|\u001b[34m          \u001b[0m| 0/10 [00:00<?, ?it/s]\n",
      " 20%|\u001b[34m██        \u001b[0m| 2/10 [00:04<00:16,  2.05s/it]\u001b[32m [repeated 4x across cluster]\u001b[0m\n"
     ]
    },
    {
     "name": "stdout",
     "output_type": "stream",
     "text": [
      "\u001b[36m(launch_and_fit pid=2329)\u001b[0m Updated model\n",
      "\u001b[36m(launch_and_fit pid=2305)\u001b[0m \tTrain Epoch: 4 \tTrain_loss: 0.6443 | Train_acc: 70.6019 % | Validation_loss: 0.6569 | Validation_acc: 60.7143 %\u001b[32m [repeated 6x across cluster]\u001b[0m\n"
     ]
    },
    {
     "name": "stderr",
     "output_type": "stream",
     "text": [
      " 50%|\u001b[34m█████     \u001b[0m| 5/10 [00:09<00:09,  1.87s/it]\u001b[32m [repeated 6x across cluster]\u001b[0m\n"
     ]
    },
    {
     "name": "stdout",
     "output_type": "stream",
     "text": [
      "\u001b[36m(launch_and_fit pid=2305)\u001b[0m \tTrain Epoch: 7 \tTrain_loss: 0.5922 | Train_acc: 76.0417 % | Validation_loss: 0.6767 | Validation_acc: 64.2857 %\u001b[32m [repeated 6x across cluster]\u001b[0m\n"
     ]
    },
    {
     "name": "stderr",
     "output_type": "stream",
     "text": [
      " 80%|\u001b[34m████████  \u001b[0m| 8/10 [00:15<00:03,  1.84s/it]\u001b[32m [repeated 6x across cluster]\u001b[0m\n"
     ]
    },
    {
     "name": "stdout",
     "output_type": "stream",
     "text": [
      "\u001b[36m(launch_and_fit pid=2305)\u001b[0m save graph in  results/FL/\n",
      "\u001b[36m(launch_and_fit pid=2305)\u001b[0m \tTrain Epoch: 10 \tTrain_loss: 0.5944 | Train_acc: 76.0417 % | Validation_loss: 0.6742 | Validation_acc: 64.2857 %\u001b[32m [repeated 6x across cluster]\u001b[0m\n",
      "\u001b[36m(launch_and_fit pid=2305)\u001b[0m features.0.weight 5.9604644775390625e-06\n",
      "\u001b[36m(launch_and_fit pid=2305)\u001b[0m features.0.bias 1.430511474609375e-06\n",
      "\u001b[36m(launch_and_fit pid=2305)\u001b[0m features.3.weight 1.1920928955078125e-06\n",
      "\u001b[36m(launch_and_fit pid=2305)\u001b[0m features.3.bias 1.1920928955078125e-06\n",
      "\u001b[36m(launch_and_fit pid=2305)\u001b[0m classifier.0.weight 1.430511474609375e-06\n",
      "\u001b[36m(launch_and_fit pid=2305)\u001b[0m classifier.0.bias 1.1920928955078125e-06\n",
      "\u001b[36m(launch_and_fit pid=2305)\u001b[0m classifier.2.weight 1.1920928955078125e-06\n",
      "\u001b[36m(launch_and_fit pid=2305)\u001b[0m classifier.2.bias 1.430511474609375e-06\n",
      "\u001b[36m(launch_and_fit pid=2305)\u001b[0m classifier.3.weights 1.6689300537109375e-06\n",
      "\u001b[36m(launch_and_fit pid=2305)\u001b[0m classifier.4.weight 1.6689300537109375e-06\n",
      "\u001b[36m(launch_and_fit pid=2305)\u001b[0m classifier.4.bias 1.1920928955078125e-06\n",
      "\u001b[36m(launch_and_fit pid=2386)\u001b[0m Run with homomorphic encryption\n",
      "\u001b[36m(launch_and_fit pid=2329)\u001b[0m save graph in  results/FL/\n",
      "\u001b[36m(launch_and_fit pid=2329)\u001b[0m \tTrain Epoch: 10 \tTrain_loss: 0.5996 | Train_acc: 74.4213 % | Validation_loss: 0.6374 | Validation_acc: 67.8571 %\n",
      "\u001b[36m(launch_and_fit pid=2329)\u001b[0m classifier.4.bias 1.9073486328125e-06\u001b[32m [repeated 11x across cluster]\u001b[0m\n",
      "\u001b[36m(launch_and_fit pid=2386)\u001b[0m [Client 3, round 3] fit, config: {'learning_rate': 0.003, 'batch_size': '32', 'server_round': 3, 'local_epochs': 10}\n",
      "\u001b[36m(launch_and_fit pid=2386)\u001b[0m Updated model\n"
     ]
    },
    {
     "name": "stderr",
     "output_type": "stream",
     "text": [
      "  0%|\u001b[34m          \u001b[0m| 0/10 [00:00<?, ?it/s]\n",
      "100%|\u001b[34m██████████\u001b[0m| 10/10 [00:18<00:00,  1.90s/it]\u001b[32m [repeated 4x across cluster]\u001b[0m\n"
     ]
    },
    {
     "name": "stdout",
     "output_type": "stream",
     "text": [
      "\u001b[36m(launch_and_fit pid=2386)\u001b[0m \tTrain Epoch: 1 \tTrain_loss: 0.6617 | Train_acc: 67.0139 % | Validation_loss: 0.6773 | Validation_acc: 60.7143 %\n",
      "\u001b[36m(launch_and_fit pid=2411)\u001b[0m Run with homomorphic encryption\n",
      "\u001b[36m(launch_and_fit pid=2411)\u001b[0m [Client 0, round 3] fit, config: {'learning_rate': 0.003, 'batch_size': '32', 'server_round': 3, 'local_epochs': 10}\n"
     ]
    },
    {
     "name": "stderr",
     "output_type": "stream",
     "text": [
      "  0%|\u001b[34m          \u001b[0m| 0/10 [00:00<?, ?it/s]\n",
      " 30%|\u001b[34m███       \u001b[0m| 3/10 [00:06<00:13,  1.97s/it]\u001b[32m [repeated 5x across cluster]\u001b[0m\n"
     ]
    },
    {
     "name": "stdout",
     "output_type": "stream",
     "text": [
      "\u001b[36m(launch_and_fit pid=2411)\u001b[0m Updated model\n",
      "\u001b[36m(launch_and_fit pid=2386)\u001b[0m \tTrain Epoch: 4 \tTrain_loss: 0.6304 | Train_acc: 68.6343 % | Validation_loss: 0.6721 | Validation_acc: 60.7143 %\u001b[32m [repeated 6x across cluster]\u001b[0m\n"
     ]
    },
    {
     "name": "stderr",
     "output_type": "stream",
     "text": [
      " 60%|\u001b[34m██████    \u001b[0m| 6/10 [00:11<00:07,  1.87s/it]\u001b[32m [repeated 6x across cluster]\u001b[0m\n"
     ]
    },
    {
     "name": "stdout",
     "output_type": "stream",
     "text": [
      "\u001b[36m(launch_and_fit pid=2386)\u001b[0m \tTrain Epoch: 7 \tTrain_loss: 0.5911 | Train_acc: 71.2963 % | Validation_loss: 0.6488 | Validation_acc: 60.7143 %\u001b[32m [repeated 6x across cluster]\u001b[0m\n"
     ]
    },
    {
     "name": "stderr",
     "output_type": "stream",
     "text": [
      " 90%|\u001b[34m█████████ \u001b[0m| 9/10 [00:17<00:01,  1.85s/it]\u001b[32m [repeated 6x across cluster]\u001b[0m\n"
     ]
    },
    {
     "name": "stdout",
     "output_type": "stream",
     "text": [
      "\u001b[36m(launch_and_fit pid=2386)\u001b[0m save graph in  results/FL/\n",
      "\u001b[36m(launch_and_fit pid=2386)\u001b[0m \tTrain Epoch: 10 \tTrain_loss: 0.5054 | Train_acc: 78.4722 % | Validation_loss: 0.6406 | Validation_acc: 64.2857 %\u001b[32m [repeated 6x across cluster]\u001b[0m\n",
      "\u001b[36m(launch_and_fit pid=2386)\u001b[0m features.0.weight 5.9604644775390625e-06\n",
      "\u001b[36m(launch_and_fit pid=2386)\u001b[0m features.0.bias 2.1457672119140625e-06\n",
      "\u001b[36m(launch_and_fit pid=2386)\u001b[0m features.3.weight 1.430511474609375e-06\n",
      "\u001b[36m(launch_and_fit pid=2386)\u001b[0m features.3.bias 1.1920928955078125e-06\n",
      "\u001b[36m(launch_and_fit pid=2386)\u001b[0m classifier.0.weight 1.1920928955078125e-06\n",
      "\u001b[36m(launch_and_fit pid=2386)\u001b[0m classifier.0.bias 1.1920928955078125e-06\n",
      "\u001b[36m(launch_and_fit pid=2386)\u001b[0m classifier.2.weight 1.1920928955078125e-06\n",
      "\u001b[36m(launch_and_fit pid=2386)\u001b[0m classifier.2.bias 1.430511474609375e-06\n",
      "\u001b[36m(launch_and_fit pid=2386)\u001b[0m classifier.3.weights 1.1920928955078125e-06\n",
      "\u001b[36m(launch_and_fit pid=2386)\u001b[0m classifier.4.weight 9.5367431640625e-07\n",
      "\u001b[36m(launch_and_fit pid=2386)\u001b[0m classifier.4.bias 1.1920928955078125e-06\n"
     ]
    },
    {
     "name": "stderr",
     "output_type": "stream",
     "text": [
      "DEBUG flwr 2024-07-24 04:27:42,659 | server.py:236 | fit_round 3 received 10 results and 0 failures\n"
     ]
    },
    {
     "name": "stdout",
     "output_type": "stream",
     "text": [
      "Saving round 3 aggregated_parameters...\n"
     ]
    },
    {
     "name": "stderr",
     "output_type": "stream",
     "text": [
      "DEBUG flwr 2024-07-24 04:27:44,732 | server.py:173 | evaluate_round 3: strategy sampled 10 clients (out of 10)\n"
     ]
    },
    {
     "name": "stdout",
     "output_type": "stream",
     "text": [
      "\u001b[36m(launch_and_evaluate pid=2478)\u001b[0m Run with homomorphic encryption\n",
      "\u001b[36m(launch_and_fit pid=2411)\u001b[0m save graph in  results/FL/\n",
      "\u001b[36m(launch_and_fit pid=2411)\u001b[0m \tTrain Epoch: 10 \tTrain_loss: 0.6421 | Train_acc: 66.8981 % | Validation_loss: 0.6643 | Validation_acc: 60.7143 %\n",
      "\u001b[36m(launch_and_fit pid=2411)\u001b[0m classifier.4.bias 1.1920928955078125e-06\u001b[32m [repeated 11x across cluster]\u001b[0m\n",
      "\u001b[36m(launch_and_evaluate pid=2478)\u001b[0m [Client 0] evaluate, config: {}\n",
      "\u001b[36m(launch_and_evaluate pid=2478)\u001b[0m Updated model\n",
      "\u001b[36m(launch_and_evaluate pid=2559)\u001b[0m Run with homomorphic encryption\u001b[32m [repeated 2x across cluster]\u001b[0m\n",
      "\u001b[36m(launch_and_evaluate pid=2479)\u001b[0m [Client 3] evaluate, config: {}\n",
      "\u001b[36m(launch_and_evaluate pid=2479)\u001b[0m Updated model\n",
      "\u001b[36m(launch_and_evaluate pid=2559)\u001b[0m [Client 7] evaluate, config: {}\n",
      "\u001b[36m(launch_and_evaluate pid=2559)\u001b[0m Updated model\n",
      "\u001b[36m(launch_and_evaluate pid=2636)\u001b[0m Run with homomorphic encryption\u001b[32m [repeated 2x across cluster]\u001b[0m\n",
      "\u001b[36m(launch_and_evaluate pid=2557)\u001b[0m [Client 6] evaluate, config: {}\n",
      "\u001b[36m(launch_and_evaluate pid=2557)\u001b[0m Updated model\n",
      "\u001b[36m(launch_and_evaluate pid=2636)\u001b[0m [Client 8] evaluate, config: {}\n",
      "\u001b[36m(launch_and_evaluate pid=2636)\u001b[0m Updated model\n",
      "\u001b[36m(launch_and_evaluate pid=2714)\u001b[0m Run with homomorphic encryption\u001b[32m [repeated 2x across cluster]\u001b[0m\n",
      "\u001b[36m(launch_and_evaluate pid=2638)\u001b[0m [Client 1] evaluate, config: {}\n",
      "\u001b[36m(launch_and_evaluate pid=2638)\u001b[0m Updated model\n",
      "\u001b[36m(launch_and_evaluate pid=2714)\u001b[0m [Client 4] evaluate, config: {}\n",
      "\u001b[36m(launch_and_evaluate pid=2714)\u001b[0m Updated model\n",
      "\u001b[36m(launch_and_evaluate pid=2792)\u001b[0m Run with homomorphic encryption\u001b[32m [repeated 2x across cluster]\u001b[0m\n",
      "\u001b[36m(launch_and_evaluate pid=2716)\u001b[0m [Client 5] evaluate, config: {}\n",
      "\u001b[36m(launch_and_evaluate pid=2716)\u001b[0m Updated model\n",
      "\u001b[36m(launch_and_evaluate pid=2792)\u001b[0m [Client 9] evaluate, config: {}\n",
      "\u001b[36m(launch_and_evaluate pid=2792)\u001b[0m Updated model\n"
     ]
    },
    {
     "name": "stderr",
     "output_type": "stream",
     "text": [
      "DEBUG flwr 2024-07-24 04:29:05,151 | server.py:187 | evaluate_round 3 received 10 results and 0 failures\n",
      "DEBUG flwr 2024-07-24 04:29:05,152 | server.py:222 | fit_round 4: strategy sampled 10 clients (out of 10)\n"
     ]
    },
    {
     "name": "stdout",
     "output_type": "stream",
     "text": [
      "\u001b[36m(launch_and_fit pid=2880)\u001b[0m Run with homomorphic encryption\u001b[32m [repeated 2x across cluster]\u001b[0m\n",
      "\u001b[36m(launch_and_evaluate pid=2794)\u001b[0m [Client 2] evaluate, config: {}\n",
      "\u001b[36m(launch_and_evaluate pid=2794)\u001b[0m Updated model\n",
      "\u001b[36m(launch_and_fit pid=2880)\u001b[0m [Client 8, round 4] fit, config: {'learning_rate': 0.003, 'batch_size': '32', 'server_round': 4, 'local_epochs': 10}\n",
      "\u001b[36m(launch_and_fit pid=2880)\u001b[0m Updated model\n"
     ]
    },
    {
     "name": "stderr",
     "output_type": "stream",
     "text": [
      "  0%|\u001b[34m          \u001b[0m| 0/10 [00:00<?, ?it/s]\n",
      "100%|\u001b[34m██████████\u001b[0m| 10/10 [00:19<00:00,  1.94s/it]\u001b[32m [repeated 3x across cluster]\u001b[0m\n"
     ]
    },
    {
     "name": "stdout",
     "output_type": "stream",
     "text": [
      "\u001b[36m(launch_and_fit pid=2880)\u001b[0m \tTrain Epoch: 1 \tTrain_loss: 0.6032 | Train_acc: 75.4630 % | Validation_loss: 0.5905 | Validation_acc: 75.0000 %\n",
      "\u001b[36m(launch_and_fit pid=2879)\u001b[0m Run with homomorphic encryption\n",
      "\u001b[36m(launch_and_fit pid=2879)\u001b[0m [Client 2, round 4] fit, config: {'learning_rate': 0.003, 'batch_size': '32', 'server_round': 4, 'local_epochs': 10}\n",
      "\u001b[36m(launch_and_fit pid=2879)\u001b[0m Updated model\n"
     ]
    },
    {
     "name": "stderr",
     "output_type": "stream",
     "text": [
      "  0%|\u001b[34m          \u001b[0m| 0/10 [00:00<?, ?it/s]\n",
      " 30%|\u001b[34m███       \u001b[0m| 3/10 [00:06<00:13,  2.00s/it]\u001b[32m [repeated 5x across cluster]\u001b[0m\n"
     ]
    },
    {
     "name": "stdout",
     "output_type": "stream",
     "text": [
      "\u001b[36m(launch_and_fit pid=2880)\u001b[0m \tTrain Epoch: 4 \tTrain_loss: 0.5660 | Train_acc: 75.4630 % | Validation_loss: 0.5758 | Validation_acc: 75.0000 %\u001b[32m [repeated 6x across cluster]\u001b[0m\n"
     ]
    },
    {
     "name": "stderr",
     "output_type": "stream",
     "text": [
      " 60%|\u001b[34m██████    \u001b[0m| 6/10 [00:11<00:07,  1.95s/it]\u001b[32m [repeated 6x across cluster]\u001b[0m\n"
     ]
    },
    {
     "name": "stdout",
     "output_type": "stream",
     "text": [
      "\u001b[36m(launch_and_fit pid=2880)\u001b[0m \tTrain Epoch: 7 \tTrain_loss: 0.5669 | Train_acc: 75.4630 % | Validation_loss: 0.5650 | Validation_acc: 75.0000 %\u001b[32m [repeated 6x across cluster]\u001b[0m\n"
     ]
    },
    {
     "name": "stderr",
     "output_type": "stream",
     "text": [
      " 90%|\u001b[34m█████████ \u001b[0m| 9/10 [00:17<00:01,  1.92s/it]\u001b[32m [repeated 6x across cluster]\u001b[0m\n"
     ]
    },
    {
     "name": "stdout",
     "output_type": "stream",
     "text": [
      "\u001b[36m(launch_and_fit pid=2880)\u001b[0m save graph in  results/FL/\n",
      "\u001b[36m(launch_and_fit pid=2880)\u001b[0m \tTrain Epoch: 10 \tTrain_loss: 0.5562 | Train_acc: 72.1065 % | Validation_loss: 0.5236 | Validation_acc: 75.0000 %\u001b[32m [repeated 6x across cluster]\u001b[0m\n",
      "\u001b[36m(launch_and_fit pid=2880)\u001b[0m features.0.weight 6.198883056640625e-06\n",
      "\u001b[36m(launch_and_fit pid=2880)\u001b[0m features.0.bias 1.430511474609375e-06\n",
      "\u001b[36m(launch_and_fit pid=2880)\u001b[0m features.3.weight 1.1920928955078125e-06\n",
      "\u001b[36m(launch_and_fit pid=2880)\u001b[0m features.3.bias 9.5367431640625e-07\n",
      "\u001b[36m(launch_and_fit pid=2880)\u001b[0m classifier.0.weight 1.1920928955078125e-06\n",
      "\u001b[36m(launch_and_fit pid=2880)\u001b[0m classifier.0.bias 1.1920928955078125e-06\n",
      "\u001b[36m(launch_and_fit pid=2880)\u001b[0m classifier.2.weight 1.430511474609375e-06\n",
      "\u001b[36m(launch_and_fit pid=2880)\u001b[0m classifier.2.bias 1.1920928955078125e-06\n",
      "\u001b[36m(launch_and_fit pid=2880)\u001b[0m classifier.3.weights 1.6689300537109375e-06\n",
      "\u001b[36m(launch_and_fit pid=2880)\u001b[0m classifier.4.weight 1.1920928955078125e-06\n",
      "\u001b[36m(launch_and_fit pid=2880)\u001b[0m classifier.4.bias 1.1920928955078125e-06\n",
      "\u001b[36m(launch_and_fit pid=2963)\u001b[0m Run with homomorphic encryption\n",
      "\u001b[36m(launch_and_fit pid=2879)\u001b[0m save graph in  results/FL/\n",
      "\u001b[36m(launch_and_fit pid=2879)\u001b[0m \tTrain Epoch: 10 \tTrain_loss: 0.6012 | Train_acc: 71.5278 % | Validation_loss: 0.5592 | Validation_acc: 78.5714 %\n",
      "\u001b[36m(launch_and_fit pid=2879)\u001b[0m classifier.4.bias 1.430511474609375e-06\u001b[32m [repeated 11x across cluster]\u001b[0m\n",
      "\u001b[36m(launch_and_fit pid=2963)\u001b[0m [Client 4, round 4] fit, config: {'learning_rate': 0.003, 'batch_size': '32', 'server_round': 4, 'local_epochs': 10}\n"
     ]
    },
    {
     "name": "stderr",
     "output_type": "stream",
     "text": [
      "  0%|\u001b[34m          \u001b[0m| 0/10 [00:00<?, ?it/s]\n",
      "100%|\u001b[34m██████████\u001b[0m| 10/10 [00:19<00:00,  1.95s/it]\u001b[32m [repeated 3x across cluster]\u001b[0m\n"
     ]
    },
    {
     "name": "stdout",
     "output_type": "stream",
     "text": [
      "\u001b[36m(launch_and_fit pid=2963)\u001b[0m Updated model\n",
      "\u001b[36m(launch_and_fit pid=2963)\u001b[0m \tTrain Epoch: 1 \tTrain_loss: 0.6371 | Train_acc: 69.3287 % | Validation_loss: 0.6341 | Validation_acc: 64.2857 %\n",
      "\u001b[36m(launch_and_fit pid=2961)\u001b[0m Run with homomorphic encryption\n",
      "\u001b[36m(launch_and_fit pid=2961)\u001b[0m [Client 6, round 4] fit, config: {'learning_rate': 0.003, 'batch_size': '32', 'server_round': 4, 'local_epochs': 10}\n"
     ]
    },
    {
     "name": "stderr",
     "output_type": "stream",
     "text": [
      "  0%|\u001b[34m          \u001b[0m| 0/10 [00:00<?, ?it/s]\n",
      " 30%|\u001b[34m███       \u001b[0m| 3/10 [00:06<00:14,  2.00s/it]\u001b[32m [repeated 5x across cluster]\u001b[0m\n"
     ]
    },
    {
     "name": "stdout",
     "output_type": "stream",
     "text": [
      "\u001b[36m(launch_and_fit pid=2961)\u001b[0m Updated model\n",
      "\u001b[36m(launch_and_fit pid=2963)\u001b[0m \tTrain Epoch: 4 \tTrain_loss: 0.5647 | Train_acc: 76.0417 % | Validation_loss: 0.6629 | Validation_acc: 64.2857 %\u001b[32m [repeated 6x across cluster]\u001b[0m\n"
     ]
    },
    {
     "name": "stderr",
     "output_type": "stream",
     "text": [
      " 60%|\u001b[34m██████    \u001b[0m| 6/10 [00:11<00:07,  1.92s/it]\u001b[32m [repeated 6x across cluster]\u001b[0m\n"
     ]
    },
    {
     "name": "stdout",
     "output_type": "stream",
     "text": [
      "\u001b[36m(launch_and_fit pid=2961)\u001b[0m \tTrain Epoch: 7 \tTrain_loss: 0.6144 | Train_acc: 70.6019 % | Validation_loss: 0.5683 | Validation_acc: 75.0000 %\u001b[32m [repeated 6x across cluster]\u001b[0m\n"
     ]
    },
    {
     "name": "stderr",
     "output_type": "stream",
     "text": [
      " 90%|\u001b[34m█████████ \u001b[0m| 9/10 [00:17<00:01,  1.86s/it]\u001b[32m [repeated 6x across cluster]\u001b[0m\n"
     ]
    },
    {
     "name": "stdout",
     "output_type": "stream",
     "text": [
      "\u001b[36m(launch_and_fit pid=2961)\u001b[0m save graph in  results/FL/\n",
      "\u001b[36m(launch_and_fit pid=2961)\u001b[0m \tTrain Epoch: 10 \tTrain_loss: 0.5794 | Train_acc: 73.9583 % | Validation_loss: 0.5895 | Validation_acc: 75.0000 %\u001b[32m [repeated 6x across cluster]\u001b[0m\n",
      "\u001b[36m(launch_and_fit pid=2963)\u001b[0m features.0.weight 5.245208740234375e-06\n",
      "\u001b[36m(launch_and_fit pid=2963)\u001b[0m features.0.bias 2.1457672119140625e-06\n",
      "\u001b[36m(launch_and_fit pid=2963)\u001b[0m features.3.weight 1.1920928955078125e-06\n",
      "\u001b[36m(launch_and_fit pid=2963)\u001b[0m features.3.bias 1.430511474609375e-06\n",
      "\u001b[36m(launch_and_fit pid=2963)\u001b[0m classifier.0.weight 1.1920928955078125e-06\n",
      "\u001b[36m(launch_and_fit pid=2963)\u001b[0m classifier.0.bias 1.430511474609375e-06\n",
      "\u001b[36m(launch_and_fit pid=2963)\u001b[0m classifier.2.weight 1.1920928955078125e-06\n",
      "\u001b[36m(launch_and_fit pid=2963)\u001b[0m classifier.2.bias 1.430511474609375e-06\n",
      "\u001b[36m(launch_and_fit pid=2963)\u001b[0m classifier.3.weights 1.6689300537109375e-06\n",
      "\u001b[36m(launch_and_fit pid=2963)\u001b[0m classifier.4.weight 1.1920928955078125e-06\n",
      "\u001b[36m(launch_and_fit pid=2963)\u001b[0m classifier.4.bias 1.1920928955078125e-06\n",
      "\u001b[36m(launch_and_fit pid=3045)\u001b[0m Run with homomorphic encryption\n",
      "\u001b[36m(launch_and_fit pid=2963)\u001b[0m save graph in  results/FL/\n",
      "\u001b[36m(launch_and_fit pid=2963)\u001b[0m \tTrain Epoch: 10 \tTrain_loss: 0.5992 | Train_acc: 72.6852 % | Validation_loss: 0.6648 | Validation_acc: 64.2857 %\n",
      "\u001b[36m(launch_and_fit pid=2961)\u001b[0m classifier.4.bias 2.1457672119140625e-06\u001b[32m [repeated 11x across cluster]\u001b[0m\n",
      "\u001b[36m(launch_and_fit pid=3043)\u001b[0m [Client 7, round 4] fit, config: {'learning_rate': 0.003, 'batch_size': '32', 'server_round': 4, 'local_epochs': 10}\n"
     ]
    },
    {
     "name": "stderr",
     "output_type": "stream",
     "text": [
      "  0%|\u001b[34m          \u001b[0m| 0/10 [00:00<?, ?it/s]\n",
      "100%|\u001b[34m██████████\u001b[0m| 10/10 [00:19<00:00,  1.93s/it]\u001b[32m [repeated 3x across cluster]\u001b[0m\n"
     ]
    },
    {
     "name": "stdout",
     "output_type": "stream",
     "text": [
      "\u001b[36m(launch_and_fit pid=3043)\u001b[0m Updated model\n",
      "\u001b[36m(launch_and_fit pid=3045)\u001b[0m \tTrain Epoch: 1 \tTrain_loss: 0.6301 | Train_acc: 66.8981 % | Validation_loss: 0.6917 | Validation_acc: 60.7143 %\n",
      "\u001b[36m(launch_and_fit pid=3043)\u001b[0m Run with homomorphic encryption\n",
      "\u001b[36m(launch_and_fit pid=3045)\u001b[0m [Client 0, round 4] fit, config: {'learning_rate': 0.003, 'batch_size': '32', 'server_round': 4, 'local_epochs': 10}\n",
      "\u001b[36m(launch_and_fit pid=3045)\u001b[0m Updated model\n"
     ]
    },
    {
     "name": "stderr",
     "output_type": "stream",
     "text": [
      "  0%|\u001b[34m          \u001b[0m| 0/10 [00:00<?, ?it/s]\n",
      " 30%|\u001b[34m███       \u001b[0m| 3/10 [00:06<00:13,  1.96s/it]\u001b[32m [repeated 5x across cluster]\u001b[0m\n"
     ]
    },
    {
     "name": "stdout",
     "output_type": "stream",
     "text": [
      "\u001b[36m(launch_and_fit pid=3045)\u001b[0m \tTrain Epoch: 4 \tTrain_loss: 0.6167 | Train_acc: 70.2546 % | Validation_loss: 0.7145 | Validation_acc: 60.7143 %\u001b[32m [repeated 6x across cluster]\u001b[0m\n"
     ]
    },
    {
     "name": "stderr",
     "output_type": "stream",
     "text": [
      " 60%|\u001b[34m██████    \u001b[0m| 6/10 [00:11<00:07,  1.90s/it]\u001b[32m [repeated 6x across cluster]\u001b[0m\n"
     ]
    },
    {
     "name": "stdout",
     "output_type": "stream",
     "text": [
      "\u001b[36m(launch_and_fit pid=3043)\u001b[0m \tTrain Epoch: 7 \tTrain_loss: 0.5080 | Train_acc: 75.8102 % | Validation_loss: 0.6082 | Validation_acc: 71.4286 %\u001b[32m [repeated 6x across cluster]\u001b[0m\n"
     ]
    },
    {
     "name": "stderr",
     "output_type": "stream",
     "text": [
      " 90%|\u001b[34m█████████ \u001b[0m| 9/10 [00:17<00:01,  1.90s/it]\u001b[32m [repeated 6x across cluster]\u001b[0m\n"
     ]
    },
    {
     "name": "stdout",
     "output_type": "stream",
     "text": [
      "\u001b[36m(launch_and_fit pid=3043)\u001b[0m save graph in  results/FL/\n",
      "\u001b[36m(launch_and_fit pid=3043)\u001b[0m \tTrain Epoch: 10 \tTrain_loss: 0.2754 | Train_acc: 93.0556 % | Validation_loss: 0.6557 | Validation_acc: 67.8571 %\u001b[32m [repeated 6x across cluster]\u001b[0m\n",
      "\u001b[36m(launch_and_fit pid=3045)\u001b[0m features.0.weight 6.4373016357421875e-06\n",
      "\u001b[36m(launch_and_fit pid=3045)\u001b[0m features.0.bias 1.430511474609375e-06\n",
      "\u001b[36m(launch_and_fit pid=3045)\u001b[0m features.3.weight 1.1920928955078125e-06\n",
      "\u001b[36m(launch_and_fit pid=3045)\u001b[0m features.3.bias 1.1920928955078125e-06\n",
      "\u001b[36m(launch_and_fit pid=3045)\u001b[0m classifier.0.weight 1.6689300537109375e-06\n",
      "\u001b[36m(launch_and_fit pid=3045)\u001b[0m classifier.0.bias 1.1920928955078125e-06\n",
      "\u001b[36m(launch_and_fit pid=3045)\u001b[0m classifier.2.weight 1.1920928955078125e-06\n",
      "\u001b[36m(launch_and_fit pid=3045)\u001b[0m classifier.2.bias 1.6689300537109375e-06\n",
      "\u001b[36m(launch_and_fit pid=3045)\u001b[0m classifier.3.weights 1.430511474609375e-06\n",
      "\u001b[36m(launch_and_fit pid=3045)\u001b[0m classifier.4.weight 1.430511474609375e-06\n",
      "\u001b[36m(launch_and_fit pid=3045)\u001b[0m classifier.4.bias 1.1920928955078125e-06\n",
      "\u001b[36m(launch_and_fit pid=3125)\u001b[0m Run with homomorphic encryption\n",
      "\u001b[36m(launch_and_fit pid=3045)\u001b[0m save graph in  results/FL/\n",
      "\u001b[36m(launch_and_fit pid=3045)\u001b[0m \tTrain Epoch: 10 \tTrain_loss: 0.6197 | Train_acc: 70.2546 % | Validation_loss: 0.6764 | Validation_acc: 60.7143 %\n",
      "\u001b[36m(launch_and_fit pid=3043)\u001b[0m classifier.4.bias 1.6689300537109375e-06\u001b[32m [repeated 11x across cluster]\u001b[0m\n",
      "\u001b[36m(launch_and_fit pid=3125)\u001b[0m [Client 9, round 4] fit, config: {'learning_rate': 0.003, 'batch_size': '32', 'server_round': 4, 'local_epochs': 10}\n",
      "\u001b[36m(launch_and_fit pid=3125)\u001b[0m Updated model\n"
     ]
    },
    {
     "name": "stderr",
     "output_type": "stream",
     "text": [
      "  0%|\u001b[34m          \u001b[0m| 0/10 [00:00<?, ?it/s]\n",
      "100%|\u001b[34m██████████\u001b[0m| 10/10 [00:19<00:00,  1.96s/it]\u001b[32m [repeated 3x across cluster]\u001b[0m\n"
     ]
    },
    {
     "name": "stdout",
     "output_type": "stream",
     "text": [
      "\u001b[36m(launch_and_fit pid=3125)\u001b[0m \tTrain Epoch: 1 \tTrain_loss: 0.6601 | Train_acc: 64.8043 % | Validation_loss: 0.5949 | Validation_acc: 72.4138 %\n",
      "\u001b[36m(launch_and_fit pid=3127)\u001b[0m Run with homomorphic encryption\n",
      "\u001b[36m(launch_and_fit pid=3127)\u001b[0m [Client 3, round 4] fit, config: {'learning_rate': 0.003, 'batch_size': '32', 'server_round': 4, 'local_epochs': 10}\n",
      "\u001b[36m(launch_and_fit pid=3127)\u001b[0m Updated model\n"
     ]
    },
    {
     "name": "stderr",
     "output_type": "stream",
     "text": [
      "  0%|\u001b[34m          \u001b[0m| 0/10 [00:00<?, ?it/s]\n",
      " 30%|\u001b[34m███       \u001b[0m| 3/10 [00:06<00:14,  2.01s/it]\u001b[32m [repeated 5x across cluster]\u001b[0m\n"
     ]
    },
    {
     "name": "stdout",
     "output_type": "stream",
     "text": [
      "\u001b[36m(launch_and_fit pid=3127)\u001b[0m \tTrain Epoch: 4 \tTrain_loss: 0.6586 | Train_acc: 65.2778 % | Validation_loss: 0.6963 | Validation_acc: 60.7143 %\u001b[32m [repeated 6x across cluster]\u001b[0m\n"
     ]
    },
    {
     "name": "stderr",
     "output_type": "stream",
     "text": [
      " 60%|\u001b[34m██████    \u001b[0m| 6/10 [00:11<00:07,  1.93s/it]\u001b[32m [repeated 6x across cluster]\u001b[0m\n"
     ]
    },
    {
     "name": "stdout",
     "output_type": "stream",
     "text": [
      "\u001b[36m(launch_and_fit pid=3127)\u001b[0m \tTrain Epoch: 7 \tTrain_loss: 0.5517 | Train_acc: 75.3472 % | Validation_loss: 0.7177 | Validation_acc: 60.7143 %\u001b[32m [repeated 6x across cluster]\u001b[0m\n"
     ]
    },
    {
     "name": "stderr",
     "output_type": "stream",
     "text": [
      " 90%|\u001b[34m█████████ \u001b[0m| 9/10 [00:17<00:01,  1.98s/it]\u001b[32m [repeated 6x across cluster]\u001b[0m\n"
     ]
    },
    {
     "name": "stdout",
     "output_type": "stream",
     "text": [
      "\u001b[36m(launch_and_fit pid=3127)\u001b[0m save graph in  results/FL/\n",
      "\u001b[36m(launch_and_fit pid=3127)\u001b[0m \tTrain Epoch: 10 \tTrain_loss: 0.5572 | Train_acc: 75.3472 % | Validation_loss: 0.6984 | Validation_acc: 60.7143 %\u001b[32m [repeated 6x across cluster]\u001b[0m\n",
      "\u001b[36m(launch_and_fit pid=3127)\u001b[0m features.0.weight 2.1457672119140625e-05\n",
      "\u001b[36m(launch_and_fit pid=3127)\u001b[0m features.0.bias 1.9073486328125e-06\n",
      "\u001b[36m(launch_and_fit pid=3127)\u001b[0m features.3.weight 1.430511474609375e-06\n",
      "\u001b[36m(launch_and_fit pid=3127)\u001b[0m features.3.bias 9.5367431640625e-07\n",
      "\u001b[36m(launch_and_fit pid=3127)\u001b[0m classifier.0.weight 1.1920928955078125e-06\n",
      "\u001b[36m(launch_and_fit pid=3127)\u001b[0m classifier.0.bias 1.6689300537109375e-06\n",
      "\u001b[36m(launch_and_fit pid=3127)\u001b[0m classifier.2.weight 1.430511474609375e-06\n",
      "\u001b[36m(launch_and_fit pid=3127)\u001b[0m classifier.2.bias 1.1920928955078125e-06\n",
      "\u001b[36m(launch_and_fit pid=3127)\u001b[0m classifier.3.weights 1.1920928955078125e-06\n",
      "\u001b[36m(launch_and_fit pid=3127)\u001b[0m classifier.4.weight 1.1920928955078125e-06\n",
      "\u001b[36m(launch_and_fit pid=3127)\u001b[0m classifier.4.bias 1.430511474609375e-06\n",
      "\u001b[36m(launch_and_fit pid=3207)\u001b[0m Run with homomorphic encryption\n",
      "\u001b[36m(launch_and_fit pid=3125)\u001b[0m save graph in  results/FL/\n",
      "\u001b[36m(launch_and_fit pid=3125)\u001b[0m \tTrain Epoch: 10 \tTrain_loss: 0.2869 | Train_acc: 98.2639 % | Validation_loss: 0.6405 | Validation_acc: 68.9655 %\n",
      "\u001b[36m(launch_and_fit pid=3125)\u001b[0m classifier.4.bias 1.1920928955078125e-06\u001b[32m [repeated 11x across cluster]\u001b[0m\n",
      "\u001b[36m(launch_and_fit pid=3207)\u001b[0m [Client 1, round 4] fit, config: {'learning_rate': 0.003, 'batch_size': '32', 'server_round': 4, 'local_epochs': 10}\n"
     ]
    },
    {
     "name": "stderr",
     "output_type": "stream",
     "text": [
      "  0%|\u001b[34m          \u001b[0m| 0/10 [00:00<?, ?it/s]\n",
      "100%|\u001b[34m██████████\u001b[0m| 10/10 [00:20<00:00,  2.00s/it]\u001b[32m [repeated 3x across cluster]\u001b[0m\n"
     ]
    },
    {
     "name": "stdout",
     "output_type": "stream",
     "text": [
      "\u001b[36m(launch_and_fit pid=3207)\u001b[0m Updated model\n",
      "\u001b[36m(launch_and_fit pid=3207)\u001b[0m \tTrain Epoch: 1 \tTrain_loss: 0.5835 | Train_acc: 77.7778 % | Validation_loss: 0.6571 | Validation_acc: 67.8571 %\n",
      "\u001b[36m(launch_and_fit pid=3209)\u001b[0m Run with homomorphic encryption\n",
      "\u001b[36m(launch_and_fit pid=3209)\u001b[0m [Client 5, round 4] fit, config: {'learning_rate': 0.003, 'batch_size': '32', 'server_round': 4, 'local_epochs': 10}\n"
     ]
    },
    {
     "name": "stderr",
     "output_type": "stream",
     "text": [
      "  0%|\u001b[34m          \u001b[0m| 0/10 [00:00<?, ?it/s]\n",
      " 30%|\u001b[34m███       \u001b[0m| 3/10 [00:06<00:14,  2.02s/it]\u001b[32m [repeated 5x across cluster]\u001b[0m\n"
     ]
    },
    {
     "name": "stdout",
     "output_type": "stream",
     "text": [
      "\u001b[36m(launch_and_fit pid=3209)\u001b[0m Updated model\n",
      "\u001b[36m(launch_and_fit pid=3207)\u001b[0m \tTrain Epoch: 4 \tTrain_loss: 0.5559 | Train_acc: 77.7778 % | Validation_loss: 0.6323 | Validation_acc: 67.8571 %\u001b[32m [repeated 6x across cluster]\u001b[0m\n"
     ]
    },
    {
     "name": "stderr",
     "output_type": "stream",
     "text": [
      " 60%|\u001b[34m██████    \u001b[0m| 6/10 [00:12<00:08,  2.00s/it]\u001b[32m [repeated 6x across cluster]\u001b[0m\n"
     ]
    },
    {
     "name": "stdout",
     "output_type": "stream",
     "text": [
      "\u001b[36m(launch_and_fit pid=3207)\u001b[0m \tTrain Epoch: 7 \tTrain_loss: 0.5912 | Train_acc: 71.0648 % | Validation_loss: 0.6313 | Validation_acc: 67.8571 %\u001b[32m [repeated 6x across cluster]\u001b[0m\n"
     ]
    },
    {
     "name": "stderr",
     "output_type": "stream",
     "text": [
      " 90%|\u001b[34m█████████ \u001b[0m| 9/10 [00:18<00:01,  1.99s/it]\u001b[32m [repeated 6x across cluster]\u001b[0m\n"
     ]
    },
    {
     "name": "stdout",
     "output_type": "stream",
     "text": [
      "\u001b[36m(launch_and_fit pid=3207)\u001b[0m save graph in  results/FL/\n",
      "\u001b[36m(launch_and_fit pid=3207)\u001b[0m \tTrain Epoch: 10 \tTrain_loss: 0.4055 | Train_acc: 74.4213 % | Validation_loss: 0.6237 | Validation_acc: 71.4286 %\u001b[32m [repeated 6x across cluster]\u001b[0m\n",
      "\u001b[36m(launch_and_fit pid=3207)\u001b[0m features.0.weight 5.4836273193359375e-06\n",
      "\u001b[36m(launch_and_fit pid=3207)\u001b[0m features.0.bias 1.9073486328125e-06\n",
      "\u001b[36m(launch_and_fit pid=3207)\u001b[0m features.3.weight 1.6689300537109375e-06\n",
      "\u001b[36m(launch_and_fit pid=3207)\u001b[0m features.3.bias 1.1920928955078125e-06\n",
      "\u001b[36m(launch_and_fit pid=3207)\u001b[0m classifier.0.weight 1.6689300537109375e-06\n",
      "\u001b[36m(launch_and_fit pid=3207)\u001b[0m classifier.0.bias 1.1920928955078125e-06\n",
      "\u001b[36m(launch_and_fit pid=3207)\u001b[0m classifier.2.weight 1.1920928955078125e-06\n",
      "\u001b[36m(launch_and_fit pid=3207)\u001b[0m classifier.2.bias 1.430511474609375e-06\n",
      "\u001b[36m(launch_and_fit pid=3207)\u001b[0m classifier.3.weights 2.384185791015625e-06\n",
      "\u001b[36m(launch_and_fit pid=3207)\u001b[0m classifier.4.weight 1.6689300537109375e-06\n",
      "\u001b[36m(launch_and_fit pid=3207)\u001b[0m classifier.4.bias 1.1920928955078125e-06\n"
     ]
    },
    {
     "name": "stderr",
     "output_type": "stream",
     "text": [
      "DEBUG flwr 2024-07-24 04:32:04,168 | server.py:236 | fit_round 4 received 10 results and 0 failures\n"
     ]
    },
    {
     "name": "stdout",
     "output_type": "stream",
     "text": [
      "Saving round 4 aggregated_parameters...\n"
     ]
    },
    {
     "name": "stderr",
     "output_type": "stream",
     "text": [
      "DEBUG flwr 2024-07-24 04:32:06,337 | server.py:173 | evaluate_round 4: strategy sampled 10 clients (out of 10)\n"
     ]
    },
    {
     "name": "stdout",
     "output_type": "stream",
     "text": [
      "\u001b[36m(launch_and_evaluate pid=3298)\u001b[0m Run with homomorphic encryption\n",
      "\u001b[36m(launch_and_fit pid=3209)\u001b[0m save graph in  results/FL/\n",
      "\u001b[36m(launch_and_fit pid=3209)\u001b[0m \tTrain Epoch: 10 \tTrain_loss: 0.5556 | Train_acc: 66.8981 % | Validation_loss: 0.6998 | Validation_acc: 53.5714 %\n",
      "\u001b[36m(launch_and_fit pid=3209)\u001b[0m classifier.4.bias 1.1920928955078125e-06\u001b[32m [repeated 11x across cluster]\u001b[0m\n",
      "\u001b[36m(launch_and_evaluate pid=3298)\u001b[0m [Client 8] evaluate, config: {}\n",
      "\u001b[36m(launch_and_evaluate pid=3298)\u001b[0m Updated model\n",
      "\u001b[36m(launch_and_evaluate pid=3377)\u001b[0m Run with homomorphic encryption\u001b[32m [repeated 2x across cluster]\u001b[0m\n",
      "\u001b[36m(launch_and_evaluate pid=3299)\u001b[0m [Client 0] evaluate, config: {}\n",
      "\u001b[36m(launch_and_evaluate pid=3299)\u001b[0m Updated model\n",
      "\u001b[36m(launch_and_evaluate pid=3377)\u001b[0m [Client 9] evaluate, config: {}\n",
      "\u001b[36m(launch_and_evaluate pid=3377)\u001b[0m Updated model\n",
      "\u001b[36m(launch_and_evaluate pid=3455)\u001b[0m Run with homomorphic encryption\u001b[32m [repeated 2x across cluster]\u001b[0m\n",
      "\u001b[36m(launch_and_evaluate pid=3379)\u001b[0m [Client 1] evaluate, config: {}\n",
      "\u001b[36m(launch_and_evaluate pid=3379)\u001b[0m Updated model\n",
      "\u001b[36m(launch_and_evaluate pid=3455)\u001b[0m [Client 4] evaluate, config: {}\n",
      "\u001b[36m(launch_and_evaluate pid=3455)\u001b[0m Updated model\n",
      "\u001b[36m(launch_and_evaluate pid=3533)\u001b[0m Run with homomorphic encryption\u001b[32m [repeated 2x across cluster]\u001b[0m\n",
      "\u001b[36m(launch_and_evaluate pid=3457)\u001b[0m [Client 2] evaluate, config: {}\n",
      "\u001b[36m(launch_and_evaluate pid=3457)\u001b[0m Updated model\n",
      "\u001b[36m(launch_and_evaluate pid=3533)\u001b[0m [Client 7] evaluate, config: {}\n",
      "\u001b[36m(launch_and_evaluate pid=3533)\u001b[0m Updated model\n",
      "\u001b[36m(launch_and_evaluate pid=3611)\u001b[0m Run with homomorphic encryption\u001b[32m [repeated 2x across cluster]\u001b[0m\n",
      "\u001b[36m(launch_and_evaluate pid=3535)\u001b[0m [Client 6] evaluate, config: {}\n",
      "\u001b[36m(launch_and_evaluate pid=3535)\u001b[0m Updated model\n",
      "\u001b[36m(launch_and_evaluate pid=3611)\u001b[0m [Client 3] evaluate, config: {}\n",
      "\u001b[36m(launch_and_evaluate pid=3611)\u001b[0m Updated model\n"
     ]
    },
    {
     "name": "stderr",
     "output_type": "stream",
     "text": [
      "DEBUG flwr 2024-07-24 04:33:30,110 | server.py:187 | evaluate_round 4 received 10 results and 0 failures\n",
      "DEBUG flwr 2024-07-24 04:33:30,111 | server.py:222 | fit_round 5: strategy sampled 10 clients (out of 10)\n"
     ]
    },
    {
     "name": "stdout",
     "output_type": "stream",
     "text": [
      "\u001b[36m(launch_and_fit pid=3700)\u001b[0m Run with homomorphic encryption\u001b[32m [repeated 2x across cluster]\u001b[0m\n",
      "\u001b[36m(launch_and_evaluate pid=3613)\u001b[0m [Client 5] evaluate, config: {}\n",
      "\u001b[36m(launch_and_evaluate pid=3613)\u001b[0m Updated model\n",
      "\u001b[36m(launch_and_fit pid=3700)\u001b[0m [Client 3, round 5] fit, config: {'learning_rate': 0.003, 'batch_size': '32', 'server_round': 5, 'local_epochs': 10}\n"
     ]
    },
    {
     "name": "stderr",
     "output_type": "stream",
     "text": [
      "  0%|\u001b[34m          \u001b[0m| 0/10 [00:00<?, ?it/s]\n",
      "100%|\u001b[34m██████████\u001b[0m| 10/10 [00:20<00:00,  2.00s/it]\u001b[32m [repeated 3x across cluster]\u001b[0m\n"
     ]
    },
    {
     "name": "stdout",
     "output_type": "stream",
     "text": [
      "\u001b[36m(launch_and_fit pid=3700)\u001b[0m Updated model\n",
      "\u001b[36m(launch_and_fit pid=3700)\u001b[0m \tTrain Epoch: 1 \tTrain_loss: 0.5955 | Train_acc: 71.9907 % | Validation_loss: 0.6978 | Validation_acc: 60.7143 %\n",
      "\u001b[36m(launch_and_fit pid=3699)\u001b[0m Run with homomorphic encryption\n",
      "\u001b[36m(launch_and_fit pid=3699)\u001b[0m [Client 6, round 5] fit, config: {'learning_rate': 0.003, 'batch_size': '32', 'server_round': 5, 'local_epochs': 10}\n"
     ]
    },
    {
     "name": "stderr",
     "output_type": "stream",
     "text": [
      "  0%|\u001b[34m          \u001b[0m| 0/10 [00:00<?, ?it/s]\n",
      " 30%|\u001b[34m███       \u001b[0m| 3/10 [00:06<00:13,  1.99s/it]\u001b[32m [repeated 5x across cluster]\u001b[0m\n"
     ]
    },
    {
     "name": "stdout",
     "output_type": "stream",
     "text": [
      "\u001b[36m(launch_and_fit pid=3699)\u001b[0m Updated model\n",
      "\u001b[36m(launch_and_fit pid=3700)\u001b[0m \tTrain Epoch: 4 \tTrain_loss: 0.6151 | Train_acc: 68.6343 % | Validation_loss: 0.6829 | Validation_acc: 60.7143 %\u001b[32m [repeated 6x across cluster]\u001b[0m\n"
     ]
    },
    {
     "name": "stderr",
     "output_type": "stream",
     "text": [
      " 60%|\u001b[34m██████    \u001b[0m| 6/10 [00:11<00:07,  1.92s/it]\u001b[32m [repeated 6x across cluster]\u001b[0m\n"
     ]
    },
    {
     "name": "stdout",
     "output_type": "stream",
     "text": [
      "\u001b[36m(launch_and_fit pid=3700)\u001b[0m \tTrain Epoch: 7 \tTrain_loss: 0.4436 | Train_acc: 75.3472 % | Validation_loss: 0.6474 | Validation_acc: 60.7143 %\u001b[32m [repeated 6x across cluster]\u001b[0m\n"
     ]
    },
    {
     "name": "stderr",
     "output_type": "stream",
     "text": [
      " 90%|\u001b[34m█████████ \u001b[0m| 9/10 [00:17<00:01,  2.00s/it]\u001b[32m [repeated 6x across cluster]\u001b[0m\n"
     ]
    },
    {
     "name": "stdout",
     "output_type": "stream",
     "text": [
      "\u001b[36m(launch_and_fit pid=3700)\u001b[0m save graph in  results/FL/\n",
      "\u001b[36m(launch_and_fit pid=3700)\u001b[0m \tTrain Epoch: 10 \tTrain_loss: 0.2002 | Train_acc: 98.9583 % | Validation_loss: 0.6645 | Validation_acc: 60.7143 %\u001b[32m [repeated 6x across cluster]\u001b[0m\n",
      "\u001b[36m(launch_and_fit pid=3700)\u001b[0m features.0.weight 5.9604644775390625e-06\n",
      "\u001b[36m(launch_and_fit pid=3700)\u001b[0m features.0.bias 2.6226043701171875e-06\n",
      "\u001b[36m(launch_and_fit pid=3700)\u001b[0m features.3.weight 2.384185791015625e-06\n",
      "\u001b[36m(launch_and_fit pid=3700)\u001b[0m features.3.bias 2.6226043701171875e-06\n",
      "\u001b[36m(launch_and_fit pid=3700)\u001b[0m classifier.0.weight 2.1457672119140625e-06\n",
      "\u001b[36m(launch_and_fit pid=3700)\u001b[0m classifier.0.bias 1.9073486328125e-06\n",
      "\u001b[36m(launch_and_fit pid=3700)\u001b[0m classifier.2.weight 2.384185791015625e-06\n",
      "\u001b[36m(launch_and_fit pid=3700)\u001b[0m classifier.2.bias 2.6226043701171875e-06\n",
      "\u001b[36m(launch_and_fit pid=3700)\u001b[0m classifier.3.weights 2.1457672119140625e-06\n",
      "\u001b[36m(launch_and_fit pid=3700)\u001b[0m classifier.4.weight 1.9073486328125e-06\n",
      "\u001b[36m(launch_and_fit pid=3700)\u001b[0m classifier.4.bias 2.384185791015625e-06\n",
      "\u001b[36m(launch_and_fit pid=3782)\u001b[0m Run with homomorphic encryption\n",
      "\u001b[36m(launch_and_fit pid=3699)\u001b[0m save graph in  results/FL/\n",
      "\u001b[36m(launch_and_fit pid=3699)\u001b[0m \tTrain Epoch: 10 \tTrain_loss: 0.4316 | Train_acc: 70.6019 % | Validation_loss: 0.5257 | Validation_acc: 75.0000 %\n",
      "\u001b[36m(launch_and_fit pid=3699)\u001b[0m classifier.4.bias 1.1920928955078125e-06\u001b[32m [repeated 11x across cluster]\u001b[0m\n",
      "\u001b[36m(launch_and_fit pid=3782)\u001b[0m [Client 9, round 5] fit, config: {'learning_rate': 0.003, 'batch_size': '32', 'server_round': 5, 'local_epochs': 10}\n"
     ]
    },
    {
     "name": "stderr",
     "output_type": "stream",
     "text": [
      "  0%|\u001b[34m          \u001b[0m| 0/10 [00:00<?, ?it/s]\n",
      "100%|\u001b[34m██████████\u001b[0m| 10/10 [00:20<00:00,  2.02s/it]\u001b[32m [repeated 3x across cluster]\u001b[0m\n"
     ]
    },
    {
     "name": "stdout",
     "output_type": "stream",
     "text": [
      "\u001b[36m(launch_and_fit pid=3782)\u001b[0m Updated model\n",
      "\u001b[36m(launch_and_fit pid=3782)\u001b[0m \tTrain Epoch: 1 \tTrain_loss: 0.6407 | Train_acc: 66.7929 % | Validation_loss: 0.5792 | Validation_acc: 72.4138 %\n",
      "\u001b[36m(launch_and_fit pid=3807)\u001b[0m Run with homomorphic encryption\n",
      "\u001b[36m(launch_and_fit pid=3807)\u001b[0m [Client 0, round 5] fit, config: {'learning_rate': 0.003, 'batch_size': '32', 'server_round': 5, 'local_epochs': 10}\n",
      "\u001b[36m(launch_and_fit pid=3807)\u001b[0m Updated model\n"
     ]
    },
    {
     "name": "stderr",
     "output_type": "stream",
     "text": [
      "  0%|\u001b[34m          \u001b[0m| 0/10 [00:00<?, ?it/s]\n",
      " 20%|\u001b[34m██        \u001b[0m| 2/10 [00:04<00:16,  2.10s/it]\u001b[32m [repeated 4x across cluster]\u001b[0m\n"
     ]
    },
    {
     "name": "stdout",
     "output_type": "stream",
     "text": [
      "\u001b[36m(launch_and_fit pid=3782)\u001b[0m \tTrain Epoch: 4 \tTrain_loss: 0.6202 | Train_acc: 66.1301 % | Validation_loss: 0.5883 | Validation_acc: 72.4138 %\u001b[32m [repeated 6x across cluster]\u001b[0m\n"
     ]
    },
    {
     "name": "stderr",
     "output_type": "stream",
     "text": [
      " 50%|\u001b[34m█████     \u001b[0m| 5/10 [00:09<00:09,  1.91s/it]\u001b[32m [repeated 6x across cluster]\u001b[0m\n"
     ]
    },
    {
     "name": "stdout",
     "output_type": "stream",
     "text": [
      "\u001b[36m(launch_and_fit pid=3782)\u001b[0m \tTrain Epoch: 7 \tTrain_loss: 0.5054 | Train_acc: 76.4205 % | Validation_loss: 0.6132 | Validation_acc: 72.4138 %\u001b[32m [repeated 6x across cluster]\u001b[0m\n"
     ]
    },
    {
     "name": "stderr",
     "output_type": "stream",
     "text": [
      " 80%|\u001b[34m████████  \u001b[0m| 8/10 [00:16<00:04,  2.01s/it]\u001b[32m [repeated 5x across cluster]\u001b[0m\n"
     ]
    },
    {
     "name": "stdout",
     "output_type": "stream",
     "text": [
      "\u001b[36m(launch_and_fit pid=3782)\u001b[0m save graph in  results/FL/\n",
      "\u001b[36m(launch_and_fit pid=3782)\u001b[0m \tTrain Epoch: 10 \tTrain_loss: 0.2462 | Train_acc: 94.4444 % | Validation_loss: 0.6235 | Validation_acc: 75.8621 %\u001b[32m [repeated 6x across cluster]\u001b[0m\n",
      "\u001b[36m(launch_and_fit pid=3782)\u001b[0m features.0.weight 5.9604644775390625e-06\n",
      "\u001b[36m(launch_and_fit pid=3782)\u001b[0m features.0.bias 1.6689300537109375e-06\n",
      "\u001b[36m(launch_and_fit pid=3782)\u001b[0m features.3.weight 1.430511474609375e-06\n",
      "\u001b[36m(launch_and_fit pid=3782)\u001b[0m features.3.bias 2.1457672119140625e-06\n",
      "\u001b[36m(launch_and_fit pid=3782)\u001b[0m classifier.0.weight 1.9073486328125e-06\n",
      "\u001b[36m(launch_and_fit pid=3782)\u001b[0m classifier.0.bias 1.430511474609375e-06\n",
      "\u001b[36m(launch_and_fit pid=3782)\u001b[0m classifier.2.weight 1.9073486328125e-06\n",
      "\u001b[36m(launch_and_fit pid=3782)\u001b[0m classifier.2.bias 1.430511474609375e-06\n",
      "\u001b[36m(launch_and_fit pid=3782)\u001b[0m classifier.3.weights 1.9073486328125e-06\n",
      "\u001b[36m(launch_and_fit pid=3782)\u001b[0m classifier.4.weight 3.814697265625e-06\n",
      "\u001b[36m(launch_and_fit pid=3782)\u001b[0m classifier.4.bias 1.6689300537109375e-06\n",
      "\u001b[36m(launch_and_fit pid=3864)\u001b[0m Run with homomorphic encryption\n",
      "\u001b[36m(launch_and_fit pid=3807)\u001b[0m save graph in  results/FL/\n",
      "\u001b[36m(launch_and_fit pid=3807)\u001b[0m \tTrain Epoch: 10 \tTrain_loss: 0.2919 | Train_acc: 94.7917 % | Validation_loss: 0.8699 | Validation_acc: 64.2857 %\n",
      "\u001b[36m(launch_and_fit pid=3807)\u001b[0m classifier.4.bias 1.6689300537109375e-06\u001b[32m [repeated 11x across cluster]\u001b[0m\n",
      "\u001b[36m(launch_and_fit pid=3864)\u001b[0m [Client 2, round 5] fit, config: {'learning_rate': 0.003, 'batch_size': '32', 'server_round': 5, 'local_epochs': 10}\n"
     ]
    },
    {
     "name": "stderr",
     "output_type": "stream",
     "text": [
      "  0%|\u001b[34m          \u001b[0m| 0/10 [00:00<?, ?it/s]\n",
      "100%|\u001b[34m██████████\u001b[0m| 10/10 [00:19<00:00,  1.98s/it]\u001b[32m [repeated 5x across cluster]\u001b[0m\n"
     ]
    },
    {
     "name": "stdout",
     "output_type": "stream",
     "text": [
      "\u001b[36m(launch_and_fit pid=3864)\u001b[0m Updated model\n",
      "\u001b[36m(launch_and_fit pid=3864)\u001b[0m \tTrain Epoch: 1 \tTrain_loss: 0.6205 | Train_acc: 68.1713 % | Validation_loss: 0.5627 | Validation_acc: 78.5714 %\n",
      "\u001b[36m(launch_and_fit pid=3889)\u001b[0m Run with homomorphic encryption\n",
      "\u001b[36m(launch_and_fit pid=3889)\u001b[0m [Client 4, round 5] fit, config: {'learning_rate': 0.003, 'batch_size': '32', 'server_round': 5, 'local_epochs': 10}\n"
     ]
    },
    {
     "name": "stderr",
     "output_type": "stream",
     "text": [
      "  0%|\u001b[34m          \u001b[0m| 0/10 [00:00<?, ?it/s]\n",
      " 20%|\u001b[34m██        \u001b[0m| 2/10 [00:04<00:16,  2.05s/it]\u001b[32m [repeated 4x across cluster]\u001b[0m\n"
     ]
    },
    {
     "name": "stdout",
     "output_type": "stream",
     "text": [
      "\u001b[36m(launch_and_fit pid=3889)\u001b[0m Updated model\n",
      "\u001b[36m(launch_and_fit pid=3864)\u001b[0m \tTrain Epoch: 4 \tTrain_loss: 0.6113 | Train_acc: 71.5278 % | Validation_loss: 0.5481 | Validation_acc: 78.5714 %\u001b[32m [repeated 6x across cluster]\u001b[0m\n"
     ]
    },
    {
     "name": "stderr",
     "output_type": "stream",
     "text": [
      " 50%|\u001b[34m█████     \u001b[0m| 5/10 [00:10<00:10,  2.03s/it]\u001b[32m [repeated 6x across cluster]\u001b[0m\n"
     ]
    },
    {
     "name": "stdout",
     "output_type": "stream",
     "text": [
      "\u001b[36m(launch_and_fit pid=3889)\u001b[0m \tTrain Epoch: 6 \tTrain_loss: 0.5216 | Train_acc: 76.0417 % | Validation_loss: 0.6944 | Validation_acc: 64.2857 %\u001b[32m [repeated 5x across cluster]\u001b[0m\n"
     ]
    },
    {
     "name": "stderr",
     "output_type": "stream",
     "text": [
      " 80%|\u001b[34m████████  \u001b[0m| 8/10 [00:15<00:03,  1.94s/it]\u001b[32m [repeated 6x across cluster]\u001b[0m\n"
     ]
    },
    {
     "name": "stdout",
     "output_type": "stream",
     "text": [
      "\u001b[36m(launch_and_fit pid=3889)\u001b[0m \tTrain Epoch: 9 \tTrain_loss: 0.5509 | Train_acc: 65.9722 % | Validation_loss: 0.6153 | Validation_acc: 64.2857 %\u001b[32m [repeated 6x across cluster]\u001b[0m\n",
      "\u001b[36m(launch_and_fit pid=3864)\u001b[0m save graph in  results/FL/\n",
      "\u001b[36m(launch_and_fit pid=3864)\u001b[0m features.0.weight 6.4373016357421875e-06\n",
      "\u001b[36m(launch_and_fit pid=3864)\u001b[0m features.0.bias 2.6226043701171875e-06\n",
      "\u001b[36m(launch_and_fit pid=3864)\u001b[0m features.3.weight 1.1920928955078125e-06\n",
      "\u001b[36m(launch_and_fit pid=3864)\u001b[0m features.3.bias 1.1920928955078125e-06\n",
      "\u001b[36m(launch_and_fit pid=3864)\u001b[0m classifier.0.weight 1.6689300537109375e-06\n",
      "\u001b[36m(launch_and_fit pid=3864)\u001b[0m classifier.0.bias 1.1920928955078125e-06\n",
      "\u001b[36m(launch_and_fit pid=3864)\u001b[0m classifier.2.weight 1.1920928955078125e-06\n",
      "\u001b[36m(launch_and_fit pid=3864)\u001b[0m classifier.2.bias 1.6689300537109375e-06\n",
      "\u001b[36m(launch_and_fit pid=3864)\u001b[0m classifier.3.weights 1.6689300537109375e-06\n",
      "\u001b[36m(launch_and_fit pid=3864)\u001b[0m classifier.4.weight 1.1920928955078125e-06\n",
      "\u001b[36m(launch_and_fit pid=3864)\u001b[0m classifier.4.bias 1.1920928955078125e-06\n",
      "\u001b[36m(launch_and_fit pid=3946)\u001b[0m Run with homomorphic encryption\n",
      "\u001b[36m(launch_and_fit pid=3889)\u001b[0m \tTrain Epoch: 10 \tTrain_loss: 0.4674 | Train_acc: 69.3287 % | Validation_loss: 0.5794 | Validation_acc: 64.2857 %\u001b[32m [repeated 2x across cluster]\u001b[0m\n",
      "\u001b[36m(launch_and_fit pid=3889)\u001b[0m save graph in  results/FL/\n",
      "\u001b[36m(launch_and_fit pid=3889)\u001b[0m classifier.4.bias 1.1920928955078125e-06\u001b[32m [repeated 11x across cluster]\u001b[0m\n",
      "\u001b[36m(launch_and_fit pid=3946)\u001b[0m [Client 7, round 5] fit, config: {'learning_rate': 0.003, 'batch_size': '32', 'server_round': 5, 'local_epochs': 10}\n",
      "\u001b[36m(launch_and_fit pid=3946)\u001b[0m Updated model\n"
     ]
    },
    {
     "name": "stderr",
     "output_type": "stream",
     "text": [
      "  0%|\u001b[34m          \u001b[0m| 0/10 [00:00<?, ?it/s]\n",
      "100%|\u001b[34m██████████\u001b[0m| 10/10 [00:19<00:00,  1.97s/it]\u001b[32m [repeated 4x across cluster]\u001b[0m\n"
     ]
    },
    {
     "name": "stdout",
     "output_type": "stream",
     "text": [
      "\u001b[36m(launch_and_fit pid=3971)\u001b[0m Run with homomorphic encryption\n",
      "\u001b[36m(launch_and_fit pid=3946)\u001b[0m \tTrain Epoch: 1 \tTrain_loss: 0.5668 | Train_acc: 75.8102 % | Validation_loss: 0.5984 | Validation_acc: 71.4286 %\n",
      "\u001b[36m(launch_and_fit pid=3971)\u001b[0m [Client 1, round 5] fit, config: {'learning_rate': 0.003, 'batch_size': '32', 'server_round': 5, 'local_epochs': 10}\n",
      "\u001b[36m(launch_and_fit pid=3971)\u001b[0m \tTrain Epoch: 1 \tTrain_loss: 0.5434 | Train_acc: 77.7778 % | Validation_loss: 0.6118 | Validation_acc: 67.8571 %\n",
      "\u001b[36m(launch_and_fit pid=3971)\u001b[0m Updated model\n"
     ]
    },
    {
     "name": "stderr",
     "output_type": "stream",
     "text": [
      "  0%|\u001b[34m          \u001b[0m| 0/10 [00:00<?, ?it/s]\n",
      " 20%|\u001b[34m██        \u001b[0m| 2/10 [00:04<00:18,  2.30s/it]\u001b[32m [repeated 4x across cluster]\u001b[0m\n"
     ]
    },
    {
     "name": "stdout",
     "output_type": "stream",
     "text": [
      "\u001b[36m(launch_and_fit pid=3971)\u001b[0m \tTrain Epoch: 4 \tTrain_loss: 0.5127 | Train_acc: 77.7778 % | Validation_loss: 0.6447 | Validation_acc: 67.8571 %\u001b[32m [repeated 6x across cluster]\u001b[0m\n"
     ]
    },
    {
     "name": "stderr",
     "output_type": "stream",
     "text": [
      " 50%|\u001b[34m█████     \u001b[0m| 5/10 [00:10<00:10,  2.03s/it]\u001b[32m [repeated 6x across cluster]\u001b[0m\n"
     ]
    },
    {
     "name": "stdout",
     "output_type": "stream",
     "text": [
      "\u001b[36m(launch_and_fit pid=3971)\u001b[0m \tTrain Epoch: 7 \tTrain_loss: 0.4005 | Train_acc: 81.2500 % | Validation_loss: 0.5995 | Validation_acc: 67.8571 %\u001b[32m [repeated 6x across cluster]\u001b[0m\n"
     ]
    },
    {
     "name": "stderr",
     "output_type": "stream",
     "text": [
      " 80%|\u001b[34m████████  \u001b[0m| 8/10 [00:16<00:03,  1.94s/it]\u001b[32m [repeated 6x across cluster]\u001b[0m\n"
     ]
    },
    {
     "name": "stdout",
     "output_type": "stream",
     "text": [
      "\u001b[36m(launch_and_fit pid=3946)\u001b[0m save graph in  results/FL/\n",
      "\u001b[36m(launch_and_fit pid=3946)\u001b[0m features.0.weight 5.4836273193359375e-06\n",
      "\u001b[36m(launch_and_fit pid=3946)\u001b[0m features.0.bias 4.291534423828125e-06\n",
      "\u001b[36m(launch_and_fit pid=3946)\u001b[0m features.3.weight 1.430511474609375e-06\n",
      "\u001b[36m(launch_and_fit pid=3946)\u001b[0m features.3.bias 1.6689300537109375e-06\n",
      "\u001b[36m(launch_and_fit pid=3946)\u001b[0m classifier.0.weight 1.430511474609375e-06\n",
      "\u001b[36m(launch_and_fit pid=3946)\u001b[0m classifier.0.bias 1.1920928955078125e-06\n",
      "\u001b[36m(launch_and_fit pid=3946)\u001b[0m classifier.2.weight 1.430511474609375e-06\n",
      "\u001b[36m(launch_and_fit pid=3946)\u001b[0m classifier.2.bias 1.430511474609375e-06\n",
      "\u001b[36m(launch_and_fit pid=3946)\u001b[0m classifier.3.weights 1.1920928955078125e-06\n",
      "\u001b[36m(launch_and_fit pid=3946)\u001b[0m classifier.4.weight 1.1920928955078125e-06\n",
      "\u001b[36m(launch_and_fit pid=3946)\u001b[0m classifier.4.bias 1.430511474609375e-06\n",
      "\u001b[36m(launch_and_fit pid=3971)\u001b[0m \tTrain Epoch: 10 \tTrain_loss: 0.1700 | Train_acc: 98.2639 % | Validation_loss: 0.7038 | Validation_acc: 67.8571 %\u001b[32m [repeated 6x across cluster]\u001b[0m\n",
      "\u001b[36m(launch_and_fit pid=4028)\u001b[0m Run with homomorphic encryption\n",
      "\u001b[36m(launch_and_fit pid=3971)\u001b[0m save graph in  results/FL/\n",
      "\u001b[36m(launch_and_fit pid=3971)\u001b[0m classifier.4.bias 2.1457672119140625e-06\u001b[32m [repeated 11x across cluster]\u001b[0m\n",
      "\u001b[36m(launch_and_fit pid=4028)\u001b[0m [Client 5, round 5] fit, config: {'learning_rate': 0.003, 'batch_size': '32', 'server_round': 5, 'local_epochs': 10}\n",
      "\u001b[36m(launch_and_fit pid=4028)\u001b[0m Updated model\n"
     ]
    },
    {
     "name": "stderr",
     "output_type": "stream",
     "text": [
      "  0%|\u001b[34m          \u001b[0m| 0/10 [00:00<?, ?it/s]\n",
      "100%|\u001b[34m██████████\u001b[0m| 10/10 [00:20<00:00,  2.02s/it]\u001b[32m [repeated 4x across cluster]\u001b[0m\n"
     ]
    },
    {
     "name": "stdout",
     "output_type": "stream",
     "text": [
      "\u001b[36m(launch_and_fit pid=4053)\u001b[0m Run with homomorphic encryption\n",
      "\u001b[36m(launch_and_fit pid=4028)\u001b[0m \tTrain Epoch: 1 \tTrain_loss: 0.6321 | Train_acc: 66.8981 % | Validation_loss: 0.7496 | Validation_acc: 53.5714 %\n",
      "\u001b[36m(launch_and_fit pid=4053)\u001b[0m [Client 8, round 5] fit, config: {'learning_rate': 0.003, 'batch_size': '32', 'server_round': 5, 'local_epochs': 10}\n",
      "\u001b[36m(launch_and_fit pid=4053)\u001b[0m Updated model\n"
     ]
    },
    {
     "name": "stderr",
     "output_type": "stream",
     "text": [
      "  0%|\u001b[34m          \u001b[0m| 0/10 [00:00<?, ?it/s]\n",
      " 10%|\u001b[34m█         \u001b[0m| 1/10 [00:03<00:29,  3.30s/it]\u001b[32m [repeated 2x across cluster]\u001b[0m\n"
     ]
    },
    {
     "name": "stdout",
     "output_type": "stream",
     "text": [
      "\u001b[36m(launch_and_fit pid=4053)\u001b[0m \tTrain Epoch: 3 \tTrain_loss: 0.5454 | Train_acc: 75.4630 % | Validation_loss: 0.5518 | Validation_acc: 75.0000 %\u001b[32m [repeated 5x across cluster]\u001b[0m\n"
     ]
    },
    {
     "name": "stderr",
     "output_type": "stream",
     "text": [
      " 40%|\u001b[34m████      \u001b[0m| 4/10 [00:09<00:12,  2.09s/it]\u001b[32m [repeated 6x across cluster]\u001b[0m\n"
     ]
    },
    {
     "name": "stdout",
     "output_type": "stream",
     "text": [
      "\u001b[36m(launch_and_fit pid=4053)\u001b[0m \tTrain Epoch: 6 \tTrain_loss: 0.4163 | Train_acc: 75.4630 % | Validation_loss: 0.5042 | Validation_acc: 75.0000 %\u001b[32m [repeated 6x across cluster]\u001b[0m\n"
     ]
    },
    {
     "name": "stderr",
     "output_type": "stream",
     "text": [
      " 70%|\u001b[34m███████   \u001b[0m| 7/10 [00:14<00:05,  1.92s/it]\u001b[32m [repeated 6x across cluster]\u001b[0m\n"
     ]
    },
    {
     "name": "stdout",
     "output_type": "stream",
     "text": [
      "\u001b[36m(launch_and_fit pid=4053)\u001b[0m \tTrain Epoch: 9 \tTrain_loss: 0.2333 | Train_acc: 94.9074 % | Validation_loss: 0.5329 | Validation_acc: 82.1429 %\u001b[32m [repeated 6x across cluster]\u001b[0m\n",
      "\u001b[36m(launch_and_fit pid=4028)\u001b[0m save graph in  results/FL/\n",
      "\u001b[36m(launch_and_fit pid=4028)\u001b[0m features.0.weight 6.198883056640625e-06\n",
      "\u001b[36m(launch_and_fit pid=4028)\u001b[0m features.0.bias 3.0994415283203125e-06\n",
      "\u001b[36m(launch_and_fit pid=4028)\u001b[0m features.3.weight 2.384185791015625e-06\n",
      "\u001b[36m(launch_and_fit pid=4028)\u001b[0m features.3.bias 2.384185791015625e-06\n",
      "\u001b[36m(launch_and_fit pid=4028)\u001b[0m classifier.0.weight 2.86102294921875e-06\n",
      "\u001b[36m(launch_and_fit pid=4028)\u001b[0m classifier.0.bias 1.1920928955078125e-06\n",
      "\u001b[36m(launch_and_fit pid=4028)\u001b[0m classifier.2.weight 1.1920928955078125e-06\n",
      "\u001b[36m(launch_and_fit pid=4028)\u001b[0m classifier.2.bias 1.6689300537109375e-06\n",
      "\u001b[36m(launch_and_fit pid=4028)\u001b[0m classifier.3.weights 1.6689300537109375e-06\n",
      "\u001b[36m(launch_and_fit pid=4028)\u001b[0m classifier.4.weight 1.1920928955078125e-06\n",
      "\u001b[36m(launch_and_fit pid=4028)\u001b[0m classifier.4.bias 1.430511474609375e-06\n"
     ]
    },
    {
     "name": "stderr",
     "output_type": "stream",
     "text": [
      "100%|\u001b[34m██████████\u001b[0m| 10/10 [00:20<00:00,  2.03s/it]\u001b[32m [repeated 6x across cluster]\u001b[0m\n",
      "DEBUG flwr 2024-07-24 04:36:31,397 | server.py:236 | fit_round 5 received 10 results and 0 failures\n"
     ]
    },
    {
     "name": "stdout",
     "output_type": "stream",
     "text": [
      "Saving round 5 aggregated_parameters...\n"
     ]
    },
    {
     "name": "stderr",
     "output_type": "stream",
     "text": [
      "DEBUG flwr 2024-07-24 04:36:33,530 | server.py:173 | evaluate_round 5: strategy sampled 10 clients (out of 10)\n"
     ]
    },
    {
     "name": "stdout",
     "output_type": "stream",
     "text": [
      "\u001b[36m(launch_and_evaluate pid=4119)\u001b[0m Run with homomorphic encryption\n",
      "\u001b[36m(launch_and_fit pid=4053)\u001b[0m \tTrain Epoch: 10 \tTrain_loss: 0.1794 | Train_acc: 98.6111 % | Validation_loss: 0.5031 | Validation_acc: 78.5714 %\u001b[32m [repeated 2x across cluster]\u001b[0m\n",
      "\u001b[36m(launch_and_fit pid=4053)\u001b[0m save graph in  results/FL/\n",
      "\u001b[36m(launch_and_fit pid=4053)\u001b[0m classifier.4.bias 1.1920928955078125e-06\u001b[32m [repeated 11x across cluster]\u001b[0m\n",
      "\u001b[36m(launch_and_evaluate pid=4119)\u001b[0m [Client 1] evaluate, config: {}\n",
      "\u001b[36m(launch_and_evaluate pid=4119)\u001b[0m Updated model\n",
      "\u001b[36m(launch_and_evaluate pid=4198)\u001b[0m Run with homomorphic encryption\u001b[32m [repeated 2x across cluster]\u001b[0m\n",
      "\u001b[36m(launch_and_evaluate pid=4120)\u001b[0m [Client 9] evaluate, config: {}\n",
      "\u001b[36m(launch_and_evaluate pid=4120)\u001b[0m Updated model\n",
      "\u001b[36m(launch_and_evaluate pid=4198)\u001b[0m [Client 7] evaluate, config: {}\n",
      "\u001b[36m(launch_and_evaluate pid=4198)\u001b[0m Updated model\n",
      "\u001b[36m(launch_and_evaluate pid=4276)\u001b[0m Run with homomorphic encryption\u001b[32m [repeated 2x across cluster]\u001b[0m\n",
      "\u001b[36m(launch_and_evaluate pid=4200)\u001b[0m [Client 0] evaluate, config: {}\n",
      "\u001b[36m(launch_and_evaluate pid=4200)\u001b[0m Updated model\n",
      "\u001b[36m(launch_and_evaluate pid=4276)\u001b[0m [Client 3] evaluate, config: {}\n",
      "\u001b[36m(launch_and_evaluate pid=4276)\u001b[0m Updated model\n",
      "\u001b[36m(launch_and_evaluate pid=4354)\u001b[0m Run with homomorphic encryption\u001b[32m [repeated 2x across cluster]\u001b[0m\n",
      "\u001b[36m(launch_and_evaluate pid=4278)\u001b[0m [Client 4] evaluate, config: {}\n",
      "\u001b[36m(launch_and_evaluate pid=4278)\u001b[0m Updated model\n",
      "\u001b[36m(launch_and_evaluate pid=4354)\u001b[0m [Client 2] evaluate, config: {}\n",
      "\u001b[36m(launch_and_evaluate pid=4354)\u001b[0m Updated model\n",
      "\u001b[36m(launch_and_evaluate pid=4434)\u001b[0m Run with homomorphic encryption\u001b[32m [repeated 2x across cluster]\u001b[0m\n",
      "\u001b[36m(launch_and_evaluate pid=4356)\u001b[0m [Client 5] evaluate, config: {}\n",
      "\u001b[36m(launch_and_evaluate pid=4356)\u001b[0m Updated model\n",
      "\u001b[36m(launch_and_evaluate pid=4434)\u001b[0m [Client 8] evaluate, config: {}\n",
      "\u001b[36m(launch_and_evaluate pid=4434)\u001b[0m Updated model\n"
     ]
    },
    {
     "name": "stderr",
     "output_type": "stream",
     "text": [
      "DEBUG flwr 2024-07-24 04:37:56,681 | server.py:187 | evaluate_round 5 received 10 results and 0 failures\n",
      "DEBUG flwr 2024-07-24 04:37:56,682 | server.py:222 | fit_round 6: strategy sampled 10 clients (out of 10)\n"
     ]
    },
    {
     "name": "stdout",
     "output_type": "stream",
     "text": [
      "\u001b[36m(launch_and_fit pid=4519)\u001b[0m Run with homomorphic encryption\u001b[32m [repeated 2x across cluster]\u001b[0m\n",
      "\u001b[36m(launch_and_evaluate pid=4432)\u001b[0m [Client 6] evaluate, config: {}\n",
      "\u001b[36m(launch_and_evaluate pid=4432)\u001b[0m Updated model\n",
      "\u001b[36m(launch_and_fit pid=4519)\u001b[0m [Client 0, round 6] fit, config: {'learning_rate': 0.003, 'batch_size': '32', 'server_round': 6, 'local_epochs': 10}\n"
     ]
    },
    {
     "name": "stderr",
     "output_type": "stream",
     "text": [
      "  0%|\u001b[34m          \u001b[0m| 0/10 [00:00<?, ?it/s]\n"
     ]
    },
    {
     "name": "stdout",
     "output_type": "stream",
     "text": [
      "\u001b[36m(launch_and_fit pid=4519)\u001b[0m Updated model\n"
     ]
    },
    {
     "name": "stderr",
     "output_type": "stream",
     "text": [
      " 10%|\u001b[34m█         \u001b[0m| 1/10 [00:02<00:21,  2.36s/it]\n"
     ]
    },
    {
     "name": "stdout",
     "output_type": "stream",
     "text": [
      "\u001b[36m(launch_and_fit pid=4519)\u001b[0m \tTrain Epoch: 1 \tTrain_loss: 0.5696 | Train_acc: 73.6111 % | Validation_loss: 0.7505 | Validation_acc: 60.7143 %\n",
      "\u001b[36m(launch_and_fit pid=4520)\u001b[0m Run with homomorphic encryption\n",
      "\u001b[36m(launch_and_fit pid=4520)\u001b[0m [Client 6, round 6] fit, config: {'learning_rate': 0.003, 'batch_size': '32', 'server_round': 6, 'local_epochs': 10}\n"
     ]
    },
    {
     "name": "stderr",
     "output_type": "stream",
     "text": [
      "  0%|\u001b[34m          \u001b[0m| 0/10 [00:00<?, ?it/s]\n"
     ]
    },
    {
     "name": "stdout",
     "output_type": "stream",
     "text": [
      "\u001b[36m(launch_and_fit pid=4520)\u001b[0m Updated model\n"
     ]
    },
    {
     "name": "stderr",
     "output_type": "stream",
     "text": [
      " 40%|\u001b[34m████      \u001b[0m| 4/10 [00:08<00:12,  2.08s/it]\u001b[32m [repeated 6x across cluster]\u001b[0m\n"
     ]
    },
    {
     "name": "stdout",
     "output_type": "stream",
     "text": [
      "\u001b[36m(launch_and_fit pid=4519)\u001b[0m \tTrain Epoch: 4 \tTrain_loss: 0.3136 | Train_acc: 91.3194 % | Validation_loss: 0.8148 | Validation_acc: 57.1429 %\u001b[32m [repeated 6x across cluster]\u001b[0m\n"
     ]
    },
    {
     "name": "stderr",
     "output_type": "stream",
     "text": [
      " 70%|\u001b[34m███████   \u001b[0m| 7/10 [00:13<00:05,  1.91s/it]\u001b[32m [repeated 6x across cluster]\u001b[0m\n"
     ]
    },
    {
     "name": "stdout",
     "output_type": "stream",
     "text": [
      "\u001b[36m(launch_and_fit pid=4519)\u001b[0m \tTrain Epoch: 7 \tTrain_loss: 0.1343 | Train_acc: 98.2639 % | Validation_loss: 0.8874 | Validation_acc: 60.7143 %\u001b[32m [repeated 6x across cluster]\u001b[0m\n"
     ]
    },
    {
     "name": "stderr",
     "output_type": "stream",
     "text": [
      "100%|\u001b[34m██████████\u001b[0m| 10/10 [00:19<00:00,  1.93s/it]\u001b[32m [repeated 6x across cluster]\u001b[0m\n"
     ]
    },
    {
     "name": "stdout",
     "output_type": "stream",
     "text": [
      "\u001b[36m(launch_and_fit pid=4519)\u001b[0m save graph in  results/FL/\n",
      "\u001b[36m(launch_and_fit pid=4519)\u001b[0m \tTrain Epoch: 10 \tTrain_loss: 0.0682 | Train_acc: 99.6528 % | Validation_loss: 1.0149 | Validation_acc: 57.1429 %\u001b[32m [repeated 6x across cluster]\u001b[0m\n",
      "\u001b[36m(launch_and_fit pid=4519)\u001b[0m features.0.weight 5.9604644775390625e-06\n",
      "\u001b[36m(launch_and_fit pid=4519)\u001b[0m features.0.bias 1.6689300537109375e-06\n",
      "\u001b[36m(launch_and_fit pid=4519)\u001b[0m features.3.weight 1.430511474609375e-06\n",
      "\u001b[36m(launch_and_fit pid=4519)\u001b[0m features.3.bias 1.1920928955078125e-06\n",
      "\u001b[36m(launch_and_fit pid=4519)\u001b[0m classifier.0.weight 1.430511474609375e-06\n",
      "\u001b[36m(launch_and_fit pid=4519)\u001b[0m classifier.0.bias 1.6689300537109375e-06\n",
      "\u001b[36m(launch_and_fit pid=4519)\u001b[0m classifier.2.weight 1.430511474609375e-06\n",
      "\u001b[36m(launch_and_fit pid=4519)\u001b[0m classifier.2.bias 1.430511474609375e-06\n",
      "\u001b[36m(launch_and_fit pid=4519)\u001b[0m classifier.3.weights 1.430511474609375e-06\n",
      "\u001b[36m(launch_and_fit pid=4519)\u001b[0m classifier.4.weight 1.430511474609375e-06\n",
      "\u001b[36m(launch_and_fit pid=4519)\u001b[0m classifier.4.bias 1.6689300537109375e-06\n",
      "\u001b[36m(launch_and_fit pid=4601)\u001b[0m Run with homomorphic encryption\n",
      "\u001b[36m(launch_and_fit pid=4520)\u001b[0m save graph in  results/FL/\n",
      "\u001b[36m(launch_and_fit pid=4520)\u001b[0m \tTrain Epoch: 10 \tTrain_loss: 0.0791 | Train_acc: 98.9583 % | Validation_loss: 0.4767 | Validation_acc: 75.0000 %\n",
      "\u001b[36m(launch_and_fit pid=4520)\u001b[0m classifier.4.bias 1.430511474609375e-06\u001b[32m [repeated 11x across cluster]\u001b[0m\n",
      "\u001b[36m(launch_and_fit pid=4601)\u001b[0m [Client 9, round 6] fit, config: {'learning_rate': 0.003, 'batch_size': '32', 'server_round': 6, 'local_epochs': 10}\n",
      "\u001b[36m(launch_and_fit pid=4601)\u001b[0m Updated model\n"
     ]
    },
    {
     "name": "stderr",
     "output_type": "stream",
     "text": [
      "  0%|\u001b[34m          \u001b[0m| 0/10 [00:00<?, ?it/s]\n",
      "100%|\u001b[34m██████████\u001b[0m| 10/10 [00:19<00:00,  1.96s/it]\n"
     ]
    },
    {
     "name": "stdout",
     "output_type": "stream",
     "text": [
      "\u001b[36m(launch_and_fit pid=4601)\u001b[0m \tTrain Epoch: 1 \tTrain_loss: 0.6443 | Train_acc: 66.7929 % | Validation_loss: 0.5821 | Validation_acc: 72.4138 %\n",
      "\u001b[36m(launch_and_fit pid=4626)\u001b[0m Run with homomorphic encryption\n"
     ]
    },
    {
     "name": "stderr",
     "output_type": "stream",
     "text": [
      " 10%|\u001b[34m█         \u001b[0m| 1/10 [00:02<00:22,  2.50s/it]\n"
     ]
    },
    {
     "name": "stdout",
     "output_type": "stream",
     "text": [
      "\u001b[36m(launch_and_fit pid=4626)\u001b[0m [Client 1, round 6] fit, config: {'learning_rate': 0.003, 'batch_size': '32', 'server_round': 6, 'local_epochs': 10}\n",
      "\u001b[36m(launch_and_fit pid=4626)\u001b[0m Updated model\n"
     ]
    },
    {
     "name": "stderr",
     "output_type": "stream",
     "text": [
      "  0%|\u001b[34m          \u001b[0m| 0/10 [00:00<?, ?it/s]\n"
     ]
    },
    {
     "name": "stdout",
     "output_type": "stream",
     "text": [
      "\u001b[36m(launch_and_fit pid=4601)\u001b[0m \tTrain Epoch: 4 \tTrain_loss: 0.3216 | Train_acc: 93.7816 % | Validation_loss: 0.5488 | Validation_acc: 79.3103 %\u001b[32m [repeated 6x across cluster]\u001b[0m\n"
     ]
    },
    {
     "name": "stderr",
     "output_type": "stream",
     "text": [
      " 40%|\u001b[34m████      \u001b[0m| 4/10 [00:08<00:12,  2.07s/it]\u001b[32m [repeated 6x across cluster]\u001b[0m\n"
     ]
    },
    {
     "name": "stdout",
     "output_type": "stream",
     "text": [
      "\u001b[36m(launch_and_fit pid=4601)\u001b[0m \tTrain Epoch: 7 \tTrain_loss: 0.1210 | Train_acc: 98.9583 % | Validation_loss: 0.6542 | Validation_acc: 72.4138 %\u001b[32m [repeated 6x across cluster]\u001b[0m\n"
     ]
    },
    {
     "name": "stderr",
     "output_type": "stream",
     "text": [
      " 70%|\u001b[34m███████   \u001b[0m| 7/10 [00:14<00:05,  1.94s/it]\u001b[32m [repeated 6x across cluster]\u001b[0m\n"
     ]
    },
    {
     "name": "stdout",
     "output_type": "stream",
     "text": [
      "\u001b[36m(launch_and_fit pid=4601)\u001b[0m save graph in  results/FL/\n",
      "\u001b[36m(launch_and_fit pid=4601)\u001b[0m \tTrain Epoch: 10 \tTrain_loss: 0.0632 | Train_acc: 99.3056 % | Validation_loss: 0.6884 | Validation_acc: 75.8621 %\u001b[32m [repeated 6x across cluster]\u001b[0m\n"
     ]
    },
    {
     "name": "stderr",
     "output_type": "stream",
     "text": [
      "100%|\u001b[34m██████████\u001b[0m| 10/10 [00:20<00:00,  2.01s/it]\u001b[32m [repeated 6x across cluster]\u001b[0m\n"
     ]
    },
    {
     "name": "stdout",
     "output_type": "stream",
     "text": [
      "\u001b[36m(launch_and_fit pid=4601)\u001b[0m features.0.weight 5.4836273193359375e-06\n",
      "\u001b[36m(launch_and_fit pid=4601)\u001b[0m features.0.bias 2.86102294921875e-06\n",
      "\u001b[36m(launch_and_fit pid=4601)\u001b[0m features.3.weight 1.9073486328125e-06\n",
      "\u001b[36m(launch_and_fit pid=4601)\u001b[0m features.3.bias 1.1920928955078125e-06\n",
      "\u001b[36m(launch_and_fit pid=4601)\u001b[0m classifier.0.weight 1.9073486328125e-06\n",
      "\u001b[36m(launch_and_fit pid=4601)\u001b[0m classifier.0.bias 1.430511474609375e-06\n",
      "\u001b[36m(launch_and_fit pid=4601)\u001b[0m classifier.2.weight 9.5367431640625e-07\n",
      "\u001b[36m(launch_and_fit pid=4601)\u001b[0m classifier.2.bias 1.1920928955078125e-06\n",
      "\u001b[36m(launch_and_fit pid=4601)\u001b[0m classifier.3.weights 1.6689300537109375e-06\n",
      "\u001b[36m(launch_and_fit pid=4601)\u001b[0m classifier.4.weight 1.1920928955078125e-06\n",
      "\u001b[36m(launch_and_fit pid=4601)\u001b[0m classifier.4.bias 1.6689300537109375e-06\n",
      "\u001b[36m(launch_and_fit pid=4683)\u001b[0m Run with homomorphic encryption\n",
      "\u001b[36m(launch_and_fit pid=4626)\u001b[0m save graph in  results/FL/\n",
      "\u001b[36m(launch_and_fit pid=4626)\u001b[0m \tTrain Epoch: 10 \tTrain_loss: 0.0690 | Train_acc: 99.6528 % | Validation_loss: 0.6997 | Validation_acc: 67.8571 %\n",
      "\u001b[36m(launch_and_fit pid=4626)\u001b[0m classifier.4.bias 1.430511474609375e-06\u001b[32m [repeated 11x across cluster]\u001b[0m\n",
      "\u001b[36m(launch_and_fit pid=4683)\u001b[0m [Client 2, round 6] fit, config: {'learning_rate': 0.003, 'batch_size': '32', 'server_round': 6, 'local_epochs': 10}\n",
      "\u001b[36m(launch_and_fit pid=4683)\u001b[0m Updated model\n"
     ]
    },
    {
     "name": "stderr",
     "output_type": "stream",
     "text": [
      "  0%|\u001b[34m          \u001b[0m| 0/10 [00:00<?, ?it/s]\n",
      "100%|\u001b[34m██████████\u001b[0m| 10/10 [00:19<00:00,  1.96s/it]\n"
     ]
    },
    {
     "name": "stdout",
     "output_type": "stream",
     "text": [
      "\u001b[36m(launch_and_fit pid=4683)\u001b[0m \tTrain Epoch: 1 \tTrain_loss: 0.6310 | Train_acc: 68.1713 % | Validation_loss: 0.5189 | Validation_acc: 78.5714 %\n",
      "\u001b[36m(launch_and_fit pid=4685)\u001b[0m Run with homomorphic encryption\n",
      "\u001b[36m(launch_and_fit pid=4685)\u001b[0m [Client 5, round 6] fit, config: {'learning_rate': 0.003, 'batch_size': '32', 'server_round': 6, 'local_epochs': 10}\n"
     ]
    },
    {
     "name": "stderr",
     "output_type": "stream",
     "text": [
      " 10%|\u001b[34m█         \u001b[0m| 1/10 [00:02<00:23,  2.56s/it]\n"
     ]
    },
    {
     "name": "stdout",
     "output_type": "stream",
     "text": [
      "\u001b[36m(launch_and_fit pid=4685)\u001b[0m Updated model\n"
     ]
    },
    {
     "name": "stderr",
     "output_type": "stream",
     "text": [
      "  0%|\u001b[34m          \u001b[0m| 0/10 [00:00<?, ?it/s]\n"
     ]
    },
    {
     "name": "stdout",
     "output_type": "stream",
     "text": [
      "\u001b[36m(launch_and_fit pid=4683)\u001b[0m \tTrain Epoch: 4 \tTrain_loss: 0.4248 | Train_acc: 80.2083 % | Validation_loss: 0.4414 | Validation_acc: 75.0000 %\u001b[32m [repeated 6x across cluster]\u001b[0m\n"
     ]
    },
    {
     "name": "stderr",
     "output_type": "stream",
     "text": [
      " 40%|\u001b[34m████      \u001b[0m| 4/10 [00:07<00:11,  1.91s/it]\u001b[32m [repeated 6x across cluster]\u001b[0m\n"
     ]
    },
    {
     "name": "stdout",
     "output_type": "stream",
     "text": [
      "\u001b[36m(launch_and_fit pid=4683)\u001b[0m \tTrain Epoch: 7 \tTrain_loss: 0.1441 | Train_acc: 98.9583 % | Validation_loss: 0.5538 | Validation_acc: 75.0000 %\u001b[32m [repeated 6x across cluster]\u001b[0m\n"
     ]
    },
    {
     "name": "stderr",
     "output_type": "stream",
     "text": [
      " 70%|\u001b[34m███████   \u001b[0m| 7/10 [00:13<00:05,  1.87s/it]\u001b[32m [repeated 6x across cluster]\u001b[0m\n"
     ]
    },
    {
     "name": "stdout",
     "output_type": "stream",
     "text": [
      "\u001b[36m(launch_and_fit pid=4683)\u001b[0m save graph in  results/FL/\n",
      "\u001b[36m(launch_and_fit pid=4683)\u001b[0m \tTrain Epoch: 10 \tTrain_loss: 0.0823 | Train_acc: 99.3056 % | Validation_loss: 0.5693 | Validation_acc: 71.4286 %\u001b[32m [repeated 6x across cluster]\u001b[0m\n"
     ]
    },
    {
     "name": "stderr",
     "output_type": "stream",
     "text": [
      "100%|\u001b[34m██████████\u001b[0m| 10/10 [00:18<00:00,  1.89s/it]\u001b[32m [repeated 6x across cluster]\u001b[0m\n"
     ]
    },
    {
     "name": "stdout",
     "output_type": "stream",
     "text": [
      "\u001b[36m(launch_and_fit pid=4685)\u001b[0m features.0.weight 5.9604644775390625e-06\n",
      "\u001b[36m(launch_and_fit pid=4685)\u001b[0m features.0.bias 1.430511474609375e-06\n",
      "\u001b[36m(launch_and_fit pid=4685)\u001b[0m features.3.weight 1.1920928955078125e-06\n",
      "\u001b[36m(launch_and_fit pid=4685)\u001b[0m features.3.bias 1.430511474609375e-06\n",
      "\u001b[36m(launch_and_fit pid=4685)\u001b[0m classifier.0.weight 1.430511474609375e-06\n",
      "\u001b[36m(launch_and_fit pid=4685)\u001b[0m classifier.0.bias 1.430511474609375e-06\n",
      "\u001b[36m(launch_and_fit pid=4685)\u001b[0m classifier.2.weight 1.1920928955078125e-06\n",
      "\u001b[36m(launch_and_fit pid=4685)\u001b[0m classifier.2.bias 1.1920928955078125e-06\n",
      "\u001b[36m(launch_and_fit pid=4685)\u001b[0m classifier.3.weights 1.430511474609375e-06\n",
      "\u001b[36m(launch_and_fit pid=4685)\u001b[0m classifier.4.weight 1.430511474609375e-06\n",
      "\u001b[36m(launch_and_fit pid=4685)\u001b[0m classifier.4.bias 1.430511474609375e-06\n",
      "\u001b[36m(launch_and_fit pid=4765)\u001b[0m Run with homomorphic encryption\n",
      "\u001b[36m(launch_and_fit pid=4685)\u001b[0m save graph in  results/FL/\n",
      "\u001b[36m(launch_and_fit pid=4685)\u001b[0m \tTrain Epoch: 10 \tTrain_loss: 0.0929 | Train_acc: 99.3056 % | Validation_loss: 0.8983 | Validation_acc: 64.2857 %\n",
      "\u001b[36m(launch_and_fit pid=4683)\u001b[0m classifier.4.bias 1.430511474609375e-06\u001b[32m [repeated 11x across cluster]\u001b[0m\n",
      "\u001b[36m(launch_and_fit pid=4765)\u001b[0m [Client 7, round 6] fit, config: {'learning_rate': 0.003, 'batch_size': '32', 'server_round': 6, 'local_epochs': 10}\n",
      "\u001b[36m(launch_and_fit pid=4765)\u001b[0m Updated model\n"
     ]
    },
    {
     "name": "stderr",
     "output_type": "stream",
     "text": [
      "  0%|\u001b[34m          \u001b[0m| 0/10 [00:00<?, ?it/s]\n",
      "100%|\u001b[34m██████████\u001b[0m| 10/10 [00:18<00:00,  1.89s/it]\n"
     ]
    },
    {
     "name": "stdout",
     "output_type": "stream",
     "text": [
      "\u001b[36m(launch_and_fit pid=4765)\u001b[0m \tTrain Epoch: 1 \tTrain_loss: 0.5498 | Train_acc: 75.8102 % | Validation_loss: 0.5922 | Validation_acc: 71.4286 %\n",
      "\u001b[36m(launch_and_fit pid=4767)\u001b[0m Run with homomorphic encryption\n",
      "\u001b[36m(launch_and_fit pid=4767)\u001b[0m [Client 8, round 6] fit, config: {'learning_rate': 0.003, 'batch_size': '32', 'server_round': 6, 'local_epochs': 10}\n"
     ]
    },
    {
     "name": "stderr",
     "output_type": "stream",
     "text": [
      " 10%|\u001b[34m█         \u001b[0m| 1/10 [00:02<00:21,  2.38s/it]\n"
     ]
    },
    {
     "name": "stdout",
     "output_type": "stream",
     "text": [
      "\u001b[36m(launch_and_fit pid=4767)\u001b[0m Updated model\n"
     ]
    },
    {
     "name": "stderr",
     "output_type": "stream",
     "text": [
      "  0%|\u001b[34m          \u001b[0m| 0/10 [00:00<?, ?it/s]\n"
     ]
    },
    {
     "name": "stdout",
     "output_type": "stream",
     "text": [
      "\u001b[36m(launch_and_fit pid=4765)\u001b[0m \tTrain Epoch: 4 \tTrain_loss: 0.3107 | Train_acc: 88.5417 % | Validation_loss: 0.6809 | Validation_acc: 71.4286 %\u001b[32m [repeated 6x across cluster]\u001b[0m\n"
     ]
    },
    {
     "name": "stderr",
     "output_type": "stream",
     "text": [
      " 40%|\u001b[34m████      \u001b[0m| 4/10 [00:07<00:11,  1.90s/it]\u001b[32m [repeated 6x across cluster]\u001b[0m\n"
     ]
    },
    {
     "name": "stdout",
     "output_type": "stream",
     "text": [
      "\u001b[36m(launch_and_fit pid=4765)\u001b[0m \tTrain Epoch: 7 \tTrain_loss: 0.1165 | Train_acc: 99.3056 % | Validation_loss: 0.6607 | Validation_acc: 67.8571 %\u001b[32m [repeated 6x across cluster]\u001b[0m\n"
     ]
    },
    {
     "name": "stderr",
     "output_type": "stream",
     "text": [
      " 70%|\u001b[34m███████   \u001b[0m| 7/10 [00:13<00:05,  1.82s/it]\u001b[32m [repeated 6x across cluster]\u001b[0m\n"
     ]
    },
    {
     "name": "stdout",
     "output_type": "stream",
     "text": [
      "\u001b[36m(launch_and_fit pid=4765)\u001b[0m save graph in  results/FL/\n",
      "\u001b[36m(launch_and_fit pid=4765)\u001b[0m \tTrain Epoch: 10 \tTrain_loss: 0.0554 | Train_acc: 100.0000 % | Validation_loss: 0.7233 | Validation_acc: 71.4286 %\u001b[32m [repeated 6x across cluster]\u001b[0m\n"
     ]
    },
    {
     "name": "stderr",
     "output_type": "stream",
     "text": [
      "100%|\u001b[34m██████████\u001b[0m| 10/10 [00:18<00:00,  1.87s/it]\u001b[32m [repeated 6x across cluster]\u001b[0m\n"
     ]
    },
    {
     "name": "stdout",
     "output_type": "stream",
     "text": [
      "\u001b[36m(launch_and_fit pid=4765)\u001b[0m features.0.weight 5.245208740234375e-06\n",
      "\u001b[36m(launch_and_fit pid=4765)\u001b[0m features.0.bias 1.6689300537109375e-06\n",
      "\u001b[36m(launch_and_fit pid=4765)\u001b[0m features.3.weight 1.1920928955078125e-06\n",
      "\u001b[36m(launch_and_fit pid=4765)\u001b[0m features.3.bias 1.430511474609375e-06\n",
      "\u001b[36m(launch_and_fit pid=4765)\u001b[0m classifier.0.weight 1.1920928955078125e-06\n",
      "\u001b[36m(launch_and_fit pid=4765)\u001b[0m classifier.0.bias 9.5367431640625e-07\n",
      "\u001b[36m(launch_and_fit pid=4765)\u001b[0m classifier.2.weight 9.5367431640625e-07\n",
      "\u001b[36m(launch_and_fit pid=4765)\u001b[0m classifier.2.bias 1.1920928955078125e-06\n",
      "\u001b[36m(launch_and_fit pid=4765)\u001b[0m classifier.3.weights 1.430511474609375e-06\n",
      "\u001b[36m(launch_and_fit pid=4765)\u001b[0m classifier.4.weight 1.1920928955078125e-06\n",
      "\u001b[36m(launch_and_fit pid=4765)\u001b[0m classifier.4.bias 1.1920928955078125e-06\n",
      "\u001b[36m(launch_and_fit pid=4847)\u001b[0m Run with homomorphic encryption\n",
      "\u001b[36m(launch_and_fit pid=4767)\u001b[0m save graph in  results/FL/\n",
      "\u001b[36m(launch_and_fit pid=4767)\u001b[0m \tTrain Epoch: 10 \tTrain_loss: 0.0556 | Train_acc: 100.0000 % | Validation_loss: 0.5657 | Validation_acc: 75.0000 %\n",
      "\u001b[36m(launch_and_fit pid=4767)\u001b[0m classifier.4.bias 1.6689300537109375e-06\u001b[32m [repeated 11x across cluster]\u001b[0m\n",
      "\u001b[36m(launch_and_fit pid=4847)\u001b[0m [Client 3, round 6] fit, config: {'learning_rate': 0.003, 'batch_size': '32', 'server_round': 6, 'local_epochs': 10}\n",
      "\u001b[36m(launch_and_fit pid=4847)\u001b[0m Updated model\n"
     ]
    },
    {
     "name": "stderr",
     "output_type": "stream",
     "text": [
      "  0%|\u001b[34m          \u001b[0m| 0/10 [00:00<?, ?it/s]\n",
      "100%|\u001b[34m██████████\u001b[0m| 10/10 [00:19<00:00,  1.94s/it]\n"
     ]
    },
    {
     "name": "stdout",
     "output_type": "stream",
     "text": [
      "\u001b[36m(launch_and_fit pid=4847)\u001b[0m \tTrain Epoch: 1 \tTrain_loss: 0.5618 | Train_acc: 75.3472 % | Validation_loss: 0.7190 | Validation_acc: 60.7143 %\n",
      "\u001b[36m(launch_and_fit pid=4872)\u001b[0m Run with homomorphic encryption\n"
     ]
    },
    {
     "name": "stderr",
     "output_type": "stream",
     "text": [
      " 10%|\u001b[34m█         \u001b[0m| 1/10 [00:02<00:21,  2.44s/it]\n"
     ]
    },
    {
     "name": "stdout",
     "output_type": "stream",
     "text": [
      "\u001b[36m(launch_and_fit pid=4872)\u001b[0m [Client 4, round 6] fit, config: {'learning_rate': 0.003, 'batch_size': '32', 'server_round': 6, 'local_epochs': 10}\n",
      "\u001b[36m(launch_and_fit pid=4872)\u001b[0m Updated model\n"
     ]
    },
    {
     "name": "stderr",
     "output_type": "stream",
     "text": [
      "  0%|\u001b[34m          \u001b[0m| 0/10 [00:00<?, ?it/s]\n"
     ]
    },
    {
     "name": "stdout",
     "output_type": "stream",
     "text": [
      "\u001b[36m(launch_and_fit pid=4847)\u001b[0m \tTrain Epoch: 4 \tTrain_loss: 0.4122 | Train_acc: 78.8194 % | Validation_loss: 0.8046 | Validation_acc: 60.7143 %\u001b[32m [repeated 6x across cluster]\u001b[0m\n"
     ]
    },
    {
     "name": "stderr",
     "output_type": "stream",
     "text": [
      " 40%|\u001b[34m████      \u001b[0m| 4/10 [00:07<00:11,  1.88s/it]\u001b[32m [repeated 6x across cluster]\u001b[0m\n"
     ]
    },
    {
     "name": "stdout",
     "output_type": "stream",
     "text": [
      "\u001b[36m(launch_and_fit pid=4847)\u001b[0m \tTrain Epoch: 7 \tTrain_loss: 0.1879 | Train_acc: 98.2639 % | Validation_loss: 0.7197 | Validation_acc: 64.2857 %\u001b[32m [repeated 6x across cluster]\u001b[0m\n"
     ]
    },
    {
     "name": "stderr",
     "output_type": "stream",
     "text": [
      " 70%|\u001b[34m███████   \u001b[0m| 7/10 [00:13<00:05,  1.85s/it]\u001b[32m [repeated 6x across cluster]\u001b[0m\n"
     ]
    },
    {
     "name": "stdout",
     "output_type": "stream",
     "text": [
      "\u001b[36m(launch_and_fit pid=4847)\u001b[0m save graph in  results/FL/\n",
      "\u001b[36m(launch_and_fit pid=4847)\u001b[0m \tTrain Epoch: 10 \tTrain_loss: 0.0802 | Train_acc: 99.6528 % | Validation_loss: 0.7946 | Validation_acc: 67.8571 %\u001b[32m [repeated 6x across cluster]\u001b[0m\n"
     ]
    },
    {
     "name": "stderr",
     "output_type": "stream",
     "text": [
      "100%|\u001b[34m██████████\u001b[0m| 10/10 [00:18<00:00,  1.89s/it]\u001b[32m [repeated 6x across cluster]\u001b[0m\n"
     ]
    },
    {
     "name": "stdout",
     "output_type": "stream",
     "text": [
      "\u001b[36m(launch_and_fit pid=4847)\u001b[0m features.0.weight 5.245208740234375e-06\n",
      "\u001b[36m(launch_and_fit pid=4847)\u001b[0m features.0.bias 1.430511474609375e-06\n",
      "\u001b[36m(launch_and_fit pid=4847)\u001b[0m features.3.weight 1.1920928955078125e-06\n",
      "\u001b[36m(launch_and_fit pid=4847)\u001b[0m features.3.bias 1.1920928955078125e-06\n",
      "\u001b[36m(launch_and_fit pid=4847)\u001b[0m classifier.0.weight 1.430511474609375e-06\n",
      "\u001b[36m(launch_and_fit pid=4847)\u001b[0m classifier.0.bias 9.5367431640625e-07\n",
      "\u001b[36m(launch_and_fit pid=4847)\u001b[0m classifier.2.weight 1.1920928955078125e-06\n",
      "\u001b[36m(launch_and_fit pid=4847)\u001b[0m classifier.2.bias 9.5367431640625e-07\n",
      "\u001b[36m(launch_and_fit pid=4847)\u001b[0m classifier.3.weights 1.430511474609375e-06\n",
      "\u001b[36m(launch_and_fit pid=4847)\u001b[0m classifier.4.weight 1.430511474609375e-06\n",
      "\u001b[36m(launch_and_fit pid=4847)\u001b[0m classifier.4.bias 2.1457672119140625e-06\n"
     ]
    },
    {
     "name": "stderr",
     "output_type": "stream",
     "text": [
      "DEBUG flwr 2024-07-24 04:40:52,285 | server.py:236 | fit_round 6 received 10 results and 0 failures\n"
     ]
    },
    {
     "name": "stdout",
     "output_type": "stream",
     "text": [
      "Saving round 6 aggregated_parameters...\n"
     ]
    },
    {
     "name": "stderr",
     "output_type": "stream",
     "text": [
      "DEBUG flwr 2024-07-24 04:40:54,339 | server.py:173 | evaluate_round 6: strategy sampled 10 clients (out of 10)\n"
     ]
    },
    {
     "name": "stdout",
     "output_type": "stream",
     "text": [
      "\u001b[36m(launch_and_evaluate pid=4938)\u001b[0m Run with homomorphic encryption\n",
      "\u001b[36m(launch_and_fit pid=4872)\u001b[0m save graph in  results/FL/\n",
      "\u001b[36m(launch_and_fit pid=4872)\u001b[0m \tTrain Epoch: 10 \tTrain_loss: 0.0538 | Train_acc: 100.0000 % | Validation_loss: 0.8040 | Validation_acc: 60.7143 %\n",
      "\u001b[36m(launch_and_fit pid=4872)\u001b[0m classifier.4.bias 1.430511474609375e-06\u001b[32m [repeated 11x across cluster]\u001b[0m\n",
      "\u001b[36m(launch_and_evaluate pid=4938)\u001b[0m [Client 0] evaluate, config: {}\n",
      "\u001b[36m(launch_and_evaluate pid=4938)\u001b[0m Updated model\n",
      "\u001b[36m(launch_and_evaluate pid=5017)\u001b[0m Run with homomorphic encryption\u001b[32m [repeated 2x across cluster]\u001b[0m\n",
      "\u001b[36m(launch_and_evaluate pid=4939)\u001b[0m [Client 1] evaluate, config: {}\n",
      "\u001b[36m(launch_and_evaluate pid=4939)\u001b[0m Updated model\n",
      "\u001b[36m(launch_and_evaluate pid=5017)\u001b[0m [Client 2] evaluate, config: {}\n",
      "\u001b[36m(launch_and_evaluate pid=5017)\u001b[0m Updated model\n",
      "\u001b[36m(launch_and_evaluate pid=5097)\u001b[0m Run with homomorphic encryption\u001b[32m [repeated 2x across cluster]\u001b[0m\n",
      "\u001b[36m(launch_and_evaluate pid=5019)\u001b[0m [Client 4] evaluate, config: {}\n",
      "\u001b[36m(launch_and_evaluate pid=5019)\u001b[0m Updated model\n",
      "\u001b[36m(launch_and_evaluate pid=5097)\u001b[0m [Client 6] evaluate, config: {}\n",
      "\u001b[36m(launch_and_evaluate pid=5097)\u001b[0m Updated model\n",
      "\u001b[36m(launch_and_evaluate pid=5173)\u001b[0m Run with homomorphic encryption\u001b[32m [repeated 2x across cluster]\u001b[0m\n",
      "\u001b[36m(launch_and_evaluate pid=5095)\u001b[0m [Client 7] evaluate, config: {}\n",
      "\u001b[36m(launch_and_evaluate pid=5095)\u001b[0m Updated model\n",
      "\u001b[36m(launch_and_evaluate pid=5173)\u001b[0m [Client 3] evaluate, config: {}\n",
      "\u001b[36m(launch_and_evaluate pid=5173)\u001b[0m Updated model\n",
      "\u001b[36m(launch_and_evaluate pid=5251)\u001b[0m Run with homomorphic encryption\u001b[32m [repeated 2x across cluster]\u001b[0m\n",
      "\u001b[36m(launch_and_evaluate pid=5175)\u001b[0m [Client 9] evaluate, config: {}\n",
      "\u001b[36m(launch_and_evaluate pid=5175)\u001b[0m Updated model\n",
      "\u001b[36m(launch_and_evaluate pid=5251)\u001b[0m [Client 8] evaluate, config: {}\n",
      "\u001b[36m(launch_and_evaluate pid=5251)\u001b[0m Updated model\n"
     ]
    },
    {
     "name": "stderr",
     "output_type": "stream",
     "text": [
      "DEBUG flwr 2024-07-24 04:42:15,238 | server.py:187 | evaluate_round 6 received 10 results and 0 failures\n",
      "DEBUG flwr 2024-07-24 04:42:15,240 | server.py:222 | fit_round 7: strategy sampled 10 clients (out of 10)\n"
     ]
    },
    {
     "name": "stdout",
     "output_type": "stream",
     "text": [
      "\u001b[36m(launch_and_fit pid=5339)\u001b[0m Run with homomorphic encryption\u001b[32m [repeated 2x across cluster]\u001b[0m\n",
      "\u001b[36m(launch_and_evaluate pid=5253)\u001b[0m [Client 5] evaluate, config: {}\n",
      "\u001b[36m(launch_and_evaluate pid=5253)\u001b[0m Updated model\n",
      "\u001b[36m(launch_and_fit pid=5339)\u001b[0m [Client 2, round 7] fit, config: {'learning_rate': 0.003, 'batch_size': '32', 'server_round': 7, 'local_epochs': 10}\n",
      "\u001b[36m(launch_and_fit pid=5339)\u001b[0m Updated model\n"
     ]
    },
    {
     "name": "stderr",
     "output_type": "stream",
     "text": [
      "  0%|\u001b[34m          \u001b[0m| 0/10 [00:00<?, ?it/s]\n",
      "100%|\u001b[34m██████████\u001b[0m| 10/10 [00:19<00:00,  1.90s/it]\n"
     ]
    },
    {
     "name": "stdout",
     "output_type": "stream",
     "text": [
      "\u001b[36m(launch_and_fit pid=5339)\u001b[0m \tTrain Epoch: 1 \tTrain_loss: 0.5099 | Train_acc: 72.9167 % | Validation_loss: 0.5149 | Validation_acc: 82.1429 %\n",
      "\u001b[36m(launch_and_fit pid=5340)\u001b[0m Run with homomorphic encryption\n"
     ]
    },
    {
     "name": "stderr",
     "output_type": "stream",
     "text": [
      " 10%|\u001b[34m█         \u001b[0m| 1/10 [00:02<00:21,  2.41s/it]\n"
     ]
    },
    {
     "name": "stdout",
     "output_type": "stream",
     "text": [
      "\u001b[36m(launch_and_fit pid=5340)\u001b[0m [Client 0, round 7] fit, config: {'learning_rate': 0.003, 'batch_size': '32', 'server_round': 7, 'local_epochs': 10}\n",
      "\u001b[36m(launch_and_fit pid=5340)\u001b[0m Updated model\n"
     ]
    },
    {
     "name": "stderr",
     "output_type": "stream",
     "text": [
      "  0%|\u001b[34m          \u001b[0m| 0/10 [00:00<?, ?it/s]\n"
     ]
    },
    {
     "name": "stdout",
     "output_type": "stream",
     "text": [
      "\u001b[36m(launch_and_fit pid=5339)\u001b[0m \tTrain Epoch: 4 \tTrain_loss: 0.0742 | Train_acc: 99.6528 % | Validation_loss: 0.6444 | Validation_acc: 75.0000 %\u001b[32m [repeated 6x across cluster]\u001b[0m\n"
     ]
    },
    {
     "name": "stderr",
     "output_type": "stream",
     "text": [
      " 40%|\u001b[34m████      \u001b[0m| 4/10 [00:08<00:11,  1.96s/it]\u001b[32m [repeated 6x across cluster]\u001b[0m\n"
     ]
    },
    {
     "name": "stdout",
     "output_type": "stream",
     "text": [
      "\u001b[36m(launch_and_fit pid=5339)\u001b[0m \tTrain Epoch: 7 \tTrain_loss: 0.0353 | Train_acc: 99.3056 % | Validation_loss: 0.7523 | Validation_acc: 71.4286 %\u001b[32m [repeated 6x across cluster]\u001b[0m\n"
     ]
    },
    {
     "name": "stderr",
     "output_type": "stream",
     "text": [
      " 70%|\u001b[34m███████   \u001b[0m| 7/10 [00:13<00:05,  1.87s/it]\u001b[32m [repeated 6x across cluster]\u001b[0m\n"
     ]
    },
    {
     "name": "stdout",
     "output_type": "stream",
     "text": [
      "\u001b[36m(launch_and_fit pid=5339)\u001b[0m save graph in  results/FL/\n",
      "\u001b[36m(launch_and_fit pid=5339)\u001b[0m \tTrain Epoch: 10 \tTrain_loss: 0.0238 | Train_acc: 99.6528 % | Validation_loss: 0.7713 | Validation_acc: 71.4286 %\u001b[32m [repeated 6x across cluster]\u001b[0m\n"
     ]
    },
    {
     "name": "stderr",
     "output_type": "stream",
     "text": [
      "100%|\u001b[34m██████████\u001b[0m| 10/10 [00:19<00:00,  1.92s/it]\u001b[32m [repeated 6x across cluster]\u001b[0m\n"
     ]
    },
    {
     "name": "stdout",
     "output_type": "stream",
     "text": [
      "\u001b[36m(launch_and_fit pid=5339)\u001b[0m features.0.weight 5.7220458984375e-06\n",
      "\u001b[36m(launch_and_fit pid=5339)\u001b[0m features.0.bias 1.6689300537109375e-06\n",
      "\u001b[36m(launch_and_fit pid=5339)\u001b[0m features.3.weight 1.430511474609375e-06\n",
      "\u001b[36m(launch_and_fit pid=5339)\u001b[0m features.3.bias 1.1920928955078125e-06\n",
      "\u001b[36m(launch_and_fit pid=5339)\u001b[0m classifier.0.weight 1.6689300537109375e-06\n",
      "\u001b[36m(launch_and_fit pid=5339)\u001b[0m classifier.0.bias 1.1920928955078125e-06\n",
      "\u001b[36m(launch_and_fit pid=5339)\u001b[0m classifier.2.weight 1.1920928955078125e-06\n",
      "\u001b[36m(launch_and_fit pid=5339)\u001b[0m classifier.2.bias 1.430511474609375e-06\n",
      "\u001b[36m(launch_and_fit pid=5339)\u001b[0m classifier.3.weights 1.6689300537109375e-06\n",
      "\u001b[36m(launch_and_fit pid=5339)\u001b[0m classifier.4.weight 1.1920928955078125e-06\n",
      "\u001b[36m(launch_and_fit pid=5339)\u001b[0m classifier.4.bias 1.1920928955078125e-06\n",
      "\u001b[36m(launch_and_fit pid=5421)\u001b[0m Run with homomorphic encryption\n",
      "\u001b[36m(launch_and_fit pid=5340)\u001b[0m save graph in  results/FL/\n",
      "\u001b[36m(launch_and_fit pid=5340)\u001b[0m \tTrain Epoch: 10 \tTrain_loss: 0.0171 | Train_acc: 100.0000 % | Validation_loss: 1.2297 | Validation_acc: 60.7143 %\n",
      "\u001b[36m(launch_and_fit pid=5340)\u001b[0m classifier.4.bias 1.1920928955078125e-06\u001b[32m [repeated 11x across cluster]\u001b[0m\n",
      "\u001b[36m(launch_and_fit pid=5421)\u001b[0m [Client 8, round 7] fit, config: {'learning_rate': 0.003, 'batch_size': '32', 'server_round': 7, 'local_epochs': 10}\n",
      "\u001b[36m(launch_and_fit pid=5421)\u001b[0m Updated model\n"
     ]
    },
    {
     "name": "stderr",
     "output_type": "stream",
     "text": [
      "  0%|\u001b[34m          \u001b[0m| 0/10 [00:00<?, ?it/s]\n",
      "100%|\u001b[34m██████████\u001b[0m| 10/10 [00:19<00:00,  1.93s/it]\n"
     ]
    },
    {
     "name": "stdout",
     "output_type": "stream",
     "text": [
      "\u001b[36m(launch_and_fit pid=5421)\u001b[0m \tTrain Epoch: 1 \tTrain_loss: 0.3649 | Train_acc: 81.5972 % | Validation_loss: 0.4577 | Validation_acc: 82.1429 %\n",
      "\u001b[36m(launch_and_fit pid=5423)\u001b[0m Run with homomorphic encryption\n",
      "\u001b[36m(launch_and_fit pid=5423)\u001b[0m [Client 1, round 7] fit, config: {'learning_rate': 0.003, 'batch_size': '32', 'server_round': 7, 'local_epochs': 10}\n"
     ]
    },
    {
     "name": "stderr",
     "output_type": "stream",
     "text": [
      " 10%|\u001b[34m█         \u001b[0m| 1/10 [00:02<00:24,  2.71s/it]\n",
      "  0%|\u001b[34m          \u001b[0m| 0/10 [00:00<?, ?it/s]\n"
     ]
    },
    {
     "name": "stdout",
     "output_type": "stream",
     "text": [
      "\u001b[36m(launch_and_fit pid=5423)\u001b[0m Updated model\n",
      "\u001b[36m(launch_and_fit pid=5421)\u001b[0m \tTrain Epoch: 4 \tTrain_loss: 0.0862 | Train_acc: 95.9491 % | Validation_loss: 0.5391 | Validation_acc: 78.5714 %\u001b[32m [repeated 6x across cluster]\u001b[0m\n"
     ]
    },
    {
     "name": "stderr",
     "output_type": "stream",
     "text": [
      " 40%|\u001b[34m████      \u001b[0m| 4/10 [00:08<00:11,  1.93s/it]\u001b[32m [repeated 6x across cluster]\u001b[0m\n"
     ]
    },
    {
     "name": "stdout",
     "output_type": "stream",
     "text": [
      "\u001b[36m(launch_and_fit pid=5421)\u001b[0m \tTrain Epoch: 7 \tTrain_loss: 0.0387 | Train_acc: 99.3056 % | Validation_loss: 0.6282 | Validation_acc: 78.5714 %\u001b[32m [repeated 6x across cluster]\u001b[0m\n"
     ]
    },
    {
     "name": "stderr",
     "output_type": "stream",
     "text": [
      " 70%|\u001b[34m███████   \u001b[0m| 7/10 [00:13<00:05,  1.87s/it]\u001b[32m [repeated 6x across cluster]\u001b[0m\n"
     ]
    },
    {
     "name": "stdout",
     "output_type": "stream",
     "text": [
      "\u001b[36m(launch_and_fit pid=5421)\u001b[0m save graph in  results/FL/\n",
      "\u001b[36m(launch_and_fit pid=5421)\u001b[0m \tTrain Epoch: 10 \tTrain_loss: 0.0173 | Train_acc: 100.0000 % | Validation_loss: 0.7041 | Validation_acc: 78.5714 %\u001b[32m [repeated 6x across cluster]\u001b[0m\n"
     ]
    },
    {
     "name": "stderr",
     "output_type": "stream",
     "text": [
      "100%|\u001b[34m██████████\u001b[0m| 10/10 [00:19<00:00,  1.91s/it]\u001b[32m [repeated 6x across cluster]\u001b[0m\n"
     ]
    },
    {
     "name": "stdout",
     "output_type": "stream",
     "text": [
      "\u001b[36m(launch_and_fit pid=5421)\u001b[0m features.0.weight 6.198883056640625e-06\n",
      "\u001b[36m(launch_and_fit pid=5421)\u001b[0m features.0.bias 1.430511474609375e-06\n",
      "\u001b[36m(launch_and_fit pid=5421)\u001b[0m features.3.weight 1.430511474609375e-06\n",
      "\u001b[36m(launch_and_fit pid=5421)\u001b[0m features.3.bias 1.1920928955078125e-06\n",
      "\u001b[36m(launch_and_fit pid=5421)\u001b[0m classifier.0.weight 1.430511474609375e-06\n",
      "\u001b[36m(launch_and_fit pid=5421)\u001b[0m classifier.0.bias 1.430511474609375e-06\n",
      "\u001b[36m(launch_and_fit pid=5421)\u001b[0m classifier.2.weight 1.1920928955078125e-06\n",
      "\u001b[36m(launch_and_fit pid=5421)\u001b[0m classifier.2.bias 1.1920928955078125e-06\n",
      "\u001b[36m(launch_and_fit pid=5421)\u001b[0m classifier.3.weights 1.1920928955078125e-06\n",
      "\u001b[36m(launch_and_fit pid=5421)\u001b[0m classifier.4.weight 1.430511474609375e-06\n",
      "\u001b[36m(launch_and_fit pid=5421)\u001b[0m classifier.4.bias 1.6689300537109375e-06\n",
      "\u001b[36m(launch_and_fit pid=5503)\u001b[0m Run with homomorphic encryption\n",
      "\u001b[36m(launch_and_fit pid=5423)\u001b[0m save graph in  results/FL/\n",
      "\u001b[36m(launch_and_fit pid=5423)\u001b[0m \tTrain Epoch: 10 \tTrain_loss: 0.0219 | Train_acc: 100.0000 % | Validation_loss: 0.8540 | Validation_acc: 71.4286 %\n",
      "\u001b[36m(launch_and_fit pid=5423)\u001b[0m classifier.4.bias 1.430511474609375e-06\u001b[32m [repeated 11x across cluster]\u001b[0m\n",
      "\u001b[36m(launch_and_fit pid=5503)\u001b[0m [Client 5, round 7] fit, config: {'learning_rate': 0.003, 'batch_size': '32', 'server_round': 7, 'local_epochs': 10}\n"
     ]
    },
    {
     "name": "stderr",
     "output_type": "stream",
     "text": [
      "  0%|\u001b[34m          \u001b[0m| 0/10 [00:00<?, ?it/s]\n",
      "100%|\u001b[34m██████████\u001b[0m| 10/10 [00:19<00:00,  1.92s/it]\n"
     ]
    },
    {
     "name": "stdout",
     "output_type": "stream",
     "text": [
      "\u001b[36m(launch_and_fit pid=5503)\u001b[0m Updated model\n"
     ]
    },
    {
     "name": "stderr",
     "output_type": "stream",
     "text": [
      " 10%|\u001b[34m█         \u001b[0m| 1/10 [00:02<00:21,  2.40s/it]\n"
     ]
    },
    {
     "name": "stdout",
     "output_type": "stream",
     "text": [
      "\u001b[36m(launch_and_fit pid=5503)\u001b[0m \tTrain Epoch: 1 \tTrain_loss: 0.5322 | Train_acc: 73.3796 % | Validation_loss: 1.1038 | Validation_acc: 50.0000 %\n",
      "\u001b[36m(launch_and_fit pid=5505)\u001b[0m Run with homomorphic encryption\n",
      "\u001b[36m(launch_and_fit pid=5505)\u001b[0m [Client 6, round 7] fit, config: {'learning_rate': 0.003, 'batch_size': '32', 'server_round': 7, 'local_epochs': 10}\n"
     ]
    },
    {
     "name": "stderr",
     "output_type": "stream",
     "text": [
      "  0%|\u001b[34m          \u001b[0m| 0/10 [00:00<?, ?it/s]\n"
     ]
    },
    {
     "name": "stdout",
     "output_type": "stream",
     "text": [
      "\u001b[36m(launch_and_fit pid=5505)\u001b[0m Updated model\n"
     ]
    },
    {
     "name": "stderr",
     "output_type": "stream",
     "text": [
      " 40%|\u001b[34m████      \u001b[0m| 4/10 [00:07<00:11,  1.93s/it]\u001b[32m [repeated 6x across cluster]\u001b[0m\n"
     ]
    },
    {
     "name": "stdout",
     "output_type": "stream",
     "text": [
      "\u001b[36m(launch_and_fit pid=5503)\u001b[0m \tTrain Epoch: 4 \tTrain_loss: 0.1064 | Train_acc: 97.9167 % | Validation_loss: 1.0035 | Validation_acc: 53.5714 %\u001b[32m [repeated 6x across cluster]\u001b[0m\n"
     ]
    },
    {
     "name": "stderr",
     "output_type": "stream",
     "text": [
      " 70%|\u001b[34m███████   \u001b[0m| 7/10 [00:13<00:05,  1.83s/it]\u001b[32m [repeated 6x across cluster]\u001b[0m\n"
     ]
    },
    {
     "name": "stdout",
     "output_type": "stream",
     "text": [
      "\u001b[36m(launch_and_fit pid=5503)\u001b[0m \tTrain Epoch: 7 \tTrain_loss: 0.0327 | Train_acc: 99.6528 % | Validation_loss: 1.1715 | Validation_acc: 64.2857 %\u001b[32m [repeated 6x across cluster]\u001b[0m\n"
     ]
    },
    {
     "name": "stderr",
     "output_type": "stream",
     "text": [
      "100%|\u001b[34m██████████\u001b[0m| 10/10 [00:18<00:00,  1.87s/it]\u001b[32m [repeated 6x across cluster]\u001b[0m\n"
     ]
    },
    {
     "name": "stdout",
     "output_type": "stream",
     "text": [
      "\u001b[36m(launch_and_fit pid=5503)\u001b[0m save graph in  results/FL/\n",
      "\u001b[36m(launch_and_fit pid=5503)\u001b[0m \tTrain Epoch: 10 \tTrain_loss: 0.0180 | Train_acc: 100.0000 % | Validation_loss: 1.2429 | Validation_acc: 64.2857 %\u001b[32m [repeated 6x across cluster]\u001b[0m\n",
      "\u001b[36m(launch_and_fit pid=5503)\u001b[0m features.0.weight 5.9604644775390625e-06\n",
      "\u001b[36m(launch_and_fit pid=5503)\u001b[0m features.0.bias 1.6689300537109375e-06\n",
      "\u001b[36m(launch_and_fit pid=5503)\u001b[0m features.3.weight 1.1920928955078125e-06\n",
      "\u001b[36m(launch_and_fit pid=5503)\u001b[0m features.3.bias 1.430511474609375e-06\n",
      "\u001b[36m(launch_and_fit pid=5503)\u001b[0m classifier.0.weight 1.430511474609375e-06\n",
      "\u001b[36m(launch_and_fit pid=5503)\u001b[0m classifier.0.bias 1.430511474609375e-06\n",
      "\u001b[36m(launch_and_fit pid=5503)\u001b[0m classifier.2.weight 1.1920928955078125e-06\n",
      "\u001b[36m(launch_and_fit pid=5503)\u001b[0m classifier.2.bias 9.5367431640625e-07\n",
      "\u001b[36m(launch_and_fit pid=5503)\u001b[0m classifier.3.weights 1.6689300537109375e-06\n",
      "\u001b[36m(launch_and_fit pid=5503)\u001b[0m classifier.4.weight 2.384185791015625e-06\n",
      "\u001b[36m(launch_and_fit pid=5503)\u001b[0m classifier.4.bias 1.430511474609375e-06\n",
      "\u001b[36m(launch_and_fit pid=5585)\u001b[0m Run with homomorphic encryption\n",
      "\u001b[36m(launch_and_fit pid=5505)\u001b[0m save graph in  results/FL/\n",
      "\u001b[36m(launch_and_fit pid=5505)\u001b[0m \tTrain Epoch: 10 \tTrain_loss: 0.0284 | Train_acc: 99.3056 % | Validation_loss: 0.6199 | Validation_acc: 67.8571 %\n",
      "\u001b[36m(launch_and_fit pid=5505)\u001b[0m classifier.4.bias 1.1920928955078125e-06\u001b[32m [repeated 11x across cluster]\u001b[0m\n",
      "\u001b[36m(launch_and_fit pid=5585)\u001b[0m [Client 4, round 7] fit, config: {'learning_rate': 0.003, 'batch_size': '32', 'server_round': 7, 'local_epochs': 10}\n"
     ]
    },
    {
     "name": "stderr",
     "output_type": "stream",
     "text": [
      "  0%|\u001b[34m          \u001b[0m| 0/10 [00:00<?, ?it/s]\n",
      "100%|\u001b[34m██████████\u001b[0m| 10/10 [00:19<00:00,  1.90s/it]\n"
     ]
    },
    {
     "name": "stdout",
     "output_type": "stream",
     "text": [
      "\u001b[36m(launch_and_fit pid=5585)\u001b[0m Updated model\n"
     ]
    },
    {
     "name": "stderr",
     "output_type": "stream",
     "text": [
      " 10%|\u001b[34m█         \u001b[0m| 1/10 [00:02<00:21,  2.40s/it]\n"
     ]
    },
    {
     "name": "stdout",
     "output_type": "stream",
     "text": [
      "\u001b[36m(launch_and_fit pid=5585)\u001b[0m \tTrain Epoch: 1 \tTrain_loss: 0.5340 | Train_acc: 73.9583 % | Validation_loss: 0.6493 | Validation_acc: 64.2857 %\n",
      "\u001b[36m(launch_and_fit pid=5610)\u001b[0m Run with homomorphic encryption\n",
      "\u001b[36m(launch_and_fit pid=5610)\u001b[0m [Client 9, round 7] fit, config: {'learning_rate': 0.003, 'batch_size': '32', 'server_round': 7, 'local_epochs': 10}\n",
      "\u001b[36m(launch_and_fit pid=5610)\u001b[0m Updated model\n"
     ]
    },
    {
     "name": "stderr",
     "output_type": "stream",
     "text": [
      "  0%|\u001b[34m          \u001b[0m| 0/10 [00:00<?, ?it/s]\n",
      " 40%|\u001b[34m████      \u001b[0m| 4/10 [00:08<00:11,  1.94s/it]\u001b[32m [repeated 6x across cluster]\u001b[0m\n"
     ]
    },
    {
     "name": "stdout",
     "output_type": "stream",
     "text": [
      "\u001b[36m(launch_and_fit pid=5585)\u001b[0m \tTrain Epoch: 4 \tTrain_loss: 0.0791 | Train_acc: 99.6528 % | Validation_loss: 0.7619 | Validation_acc: 67.8571 %\u001b[32m [repeated 6x across cluster]\u001b[0m\n"
     ]
    },
    {
     "name": "stderr",
     "output_type": "stream",
     "text": [
      " 70%|\u001b[34m███████   \u001b[0m| 7/10 [00:13<00:05,  1.89s/it]\u001b[32m [repeated 6x across cluster]\u001b[0m\n"
     ]
    },
    {
     "name": "stdout",
     "output_type": "stream",
     "text": [
      "\u001b[36m(launch_and_fit pid=5585)\u001b[0m \tTrain Epoch: 7 \tTrain_loss: 0.0340 | Train_acc: 100.0000 % | Validation_loss: 0.8408 | Validation_acc: 67.8571 %\u001b[32m [repeated 6x across cluster]\u001b[0m\n"
     ]
    },
    {
     "name": "stderr",
     "output_type": "stream",
     "text": [
      "100%|\u001b[34m██████████\u001b[0m| 10/10 [00:19<00:00,  1.93s/it]\u001b[32m [repeated 6x across cluster]\u001b[0m\n"
     ]
    },
    {
     "name": "stdout",
     "output_type": "stream",
     "text": [
      "\u001b[36m(launch_and_fit pid=5585)\u001b[0m save graph in  results/FL/\n",
      "\u001b[36m(launch_and_fit pid=5585)\u001b[0m \tTrain Epoch: 10 \tTrain_loss: 0.0195 | Train_acc: 100.0000 % | Validation_loss: 0.8484 | Validation_acc: 67.8571 %\u001b[32m [repeated 6x across cluster]\u001b[0m\n",
      "\u001b[36m(launch_and_fit pid=5585)\u001b[0m features.0.weight 5.7220458984375e-06\n",
      "\u001b[36m(launch_and_fit pid=5585)\u001b[0m features.0.bias 2.384185791015625e-06\n",
      "\u001b[36m(launch_and_fit pid=5585)\u001b[0m features.3.weight 1.430511474609375e-06\n",
      "\u001b[36m(launch_and_fit pid=5585)\u001b[0m features.3.bias 1.430511474609375e-06\n",
      "\u001b[36m(launch_and_fit pid=5585)\u001b[0m classifier.0.weight 1.6689300537109375e-06\n",
      "\u001b[36m(launch_and_fit pid=5585)\u001b[0m classifier.0.bias 2.6226043701171875e-06\n",
      "\u001b[36m(launch_and_fit pid=5585)\u001b[0m classifier.2.weight 1.9073486328125e-06\n",
      "\u001b[36m(launch_and_fit pid=5585)\u001b[0m classifier.2.bias 1.1920928955078125e-06\n",
      "\u001b[36m(launch_and_fit pid=5585)\u001b[0m classifier.3.weights 1.430511474609375e-06\n",
      "\u001b[36m(launch_and_fit pid=5585)\u001b[0m classifier.4.weight 1.1920928955078125e-06\n",
      "\u001b[36m(launch_and_fit pid=5585)\u001b[0m classifier.4.bias 1.1920928955078125e-06\n",
      "\u001b[36m(launch_and_fit pid=5667)\u001b[0m Run with homomorphic encryption\n",
      "\u001b[36m(launch_and_fit pid=5610)\u001b[0m save graph in  results/FL/\n",
      "\u001b[36m(launch_and_fit pid=5610)\u001b[0m \tTrain Epoch: 10 \tTrain_loss: 0.0183 | Train_acc: 100.0000 % | Validation_loss: 0.8383 | Validation_acc: 79.3103 %\n",
      "\u001b[36m(launch_and_fit pid=5610)\u001b[0m classifier.4.bias 2.1457672119140625e-06\u001b[32m [repeated 11x across cluster]\u001b[0m\n",
      "\u001b[36m(launch_and_fit pid=5667)\u001b[0m [Client 3, round 7] fit, config: {'learning_rate': 0.003, 'batch_size': '32', 'server_round': 7, 'local_epochs': 10}\n"
     ]
    },
    {
     "name": "stderr",
     "output_type": "stream",
     "text": [
      "  0%|\u001b[34m          \u001b[0m| 0/10 [00:00<?, ?it/s]\n",
      "100%|\u001b[34m██████████\u001b[0m| 10/10 [00:19<00:00,  1.99s/it]\n"
     ]
    },
    {
     "name": "stdout",
     "output_type": "stream",
     "text": [
      "\u001b[36m(launch_and_fit pid=5667)\u001b[0m Updated model\n"
     ]
    },
    {
     "name": "stderr",
     "output_type": "stream",
     "text": [
      " 10%|\u001b[34m█         \u001b[0m| 1/10 [00:02<00:21,  2.43s/it]\n"
     ]
    },
    {
     "name": "stdout",
     "output_type": "stream",
     "text": [
      "\u001b[36m(launch_and_fit pid=5667)\u001b[0m \tTrain Epoch: 1 \tTrain_loss: 0.4576 | Train_acc: 74.7685 % | Validation_loss: 0.6342 | Validation_acc: 71.4286 %\n",
      "\u001b[36m(launch_and_fit pid=5692)\u001b[0m Run with homomorphic encryption\n",
      "\u001b[36m(launch_and_fit pid=5692)\u001b[0m [Client 7, round 7] fit, config: {'learning_rate': 0.003, 'batch_size': '32', 'server_round': 7, 'local_epochs': 10}\n"
     ]
    },
    {
     "name": "stderr",
     "output_type": "stream",
     "text": [
      "  0%|\u001b[34m          \u001b[0m| 0/10 [00:00<?, ?it/s]\n"
     ]
    },
    {
     "name": "stdout",
     "output_type": "stream",
     "text": [
      "\u001b[36m(launch_and_fit pid=5692)\u001b[0m Updated model\n"
     ]
    },
    {
     "name": "stderr",
     "output_type": "stream",
     "text": [
      " 40%|\u001b[34m████      \u001b[0m| 4/10 [00:08<00:11,  1.96s/it]\u001b[32m [repeated 6x across cluster]\u001b[0m\n"
     ]
    },
    {
     "name": "stdout",
     "output_type": "stream",
     "text": [
      "\u001b[36m(launch_and_fit pid=5667)\u001b[0m \tTrain Epoch: 4 \tTrain_loss: 0.0786 | Train_acc: 99.6528 % | Validation_loss: 0.8902 | Validation_acc: 67.8571 %\u001b[32m [repeated 6x across cluster]\u001b[0m\n"
     ]
    },
    {
     "name": "stderr",
     "output_type": "stream",
     "text": [
      " 70%|\u001b[34m███████   \u001b[0m| 7/10 [00:13<00:05,  1.91s/it]\u001b[32m [repeated 6x across cluster]\u001b[0m\n"
     ]
    },
    {
     "name": "stdout",
     "output_type": "stream",
     "text": [
      "\u001b[36m(launch_and_fit pid=5667)\u001b[0m \tTrain Epoch: 7 \tTrain_loss: 0.0313 | Train_acc: 100.0000 % | Validation_loss: 0.7360 | Validation_acc: 60.7143 %\u001b[32m [repeated 6x across cluster]\u001b[0m\n"
     ]
    },
    {
     "name": "stderr",
     "output_type": "stream",
     "text": [
      "100%|\u001b[34m██████████\u001b[0m| 10/10 [00:19<00:00,  1.94s/it]\u001b[32m [repeated 6x across cluster]\u001b[0m\n"
     ]
    },
    {
     "name": "stdout",
     "output_type": "stream",
     "text": [
      "\u001b[36m(launch_and_fit pid=5667)\u001b[0m save graph in  results/FL/\n",
      "\u001b[36m(launch_and_fit pid=5667)\u001b[0m \tTrain Epoch: 10 \tTrain_loss: 0.0150 | Train_acc: 100.0000 % | Validation_loss: 0.8297 | Validation_acc: 60.7143 %\u001b[32m [repeated 6x across cluster]\u001b[0m\n",
      "\u001b[36m(launch_and_fit pid=5667)\u001b[0m features.0.weight 7.867813110351562e-06\n",
      "\u001b[36m(launch_and_fit pid=5667)\u001b[0m features.0.bias 2.86102294921875e-06\n",
      "\u001b[36m(launch_and_fit pid=5667)\u001b[0m features.3.weight 1.9073486328125e-06\n",
      "\u001b[36m(launch_and_fit pid=5667)\u001b[0m features.3.bias 1.9073486328125e-06\n",
      "\u001b[36m(launch_and_fit pid=5667)\u001b[0m classifier.0.weight 2.384185791015625e-06\n",
      "\u001b[36m(launch_and_fit pid=5667)\u001b[0m classifier.0.bias 1.9073486328125e-06\n",
      "\u001b[36m(launch_and_fit pid=5667)\u001b[0m classifier.2.weight 2.384185791015625e-06\n",
      "\u001b[36m(launch_and_fit pid=5667)\u001b[0m classifier.2.bias 1.9073486328125e-06\n",
      "\u001b[36m(launch_and_fit pid=5667)\u001b[0m classifier.3.weights 2.1457672119140625e-06\n",
      "\u001b[36m(launch_and_fit pid=5667)\u001b[0m classifier.4.weight 1.6689300537109375e-06\n",
      "\u001b[36m(launch_and_fit pid=5667)\u001b[0m classifier.4.bias 2.384185791015625e-06\n"
     ]
    },
    {
     "name": "stderr",
     "output_type": "stream",
     "text": [
      "DEBUG flwr 2024-07-24 04:45:12,442 | server.py:236 | fit_round 7 received 10 results and 0 failures\n"
     ]
    },
    {
     "name": "stdout",
     "output_type": "stream",
     "text": [
      "Saving round 7 aggregated_parameters...\n"
     ]
    },
    {
     "name": "stderr",
     "output_type": "stream",
     "text": [
      "DEBUG flwr 2024-07-24 04:45:14,631 | server.py:173 | evaluate_round 7: strategy sampled 10 clients (out of 10)\n"
     ]
    },
    {
     "name": "stdout",
     "output_type": "stream",
     "text": [
      "\u001b[36m(launch_and_evaluate pid=5758)\u001b[0m Run with homomorphic encryption\n",
      "\u001b[36m(launch_and_fit pid=5692)\u001b[0m save graph in  results/FL/\n",
      "\u001b[36m(launch_and_fit pid=5692)\u001b[0m \tTrain Epoch: 10 \tTrain_loss: 0.0169 | Train_acc: 100.0000 % | Validation_loss: 0.7470 | Validation_acc: 71.4286 %\n",
      "\u001b[36m(launch_and_fit pid=5692)\u001b[0m classifier.4.bias 1.1920928955078125e-06\u001b[32m [repeated 11x across cluster]\u001b[0m\n",
      "\u001b[36m(launch_and_evaluate pid=5758)\u001b[0m [Client 4] evaluate, config: {}\n",
      "\u001b[36m(launch_and_evaluate pid=5758)\u001b[0m Updated model\n",
      "\u001b[36m(launch_and_evaluate pid=5837)\u001b[0m Run with homomorphic encryption\u001b[32m [repeated 2x across cluster]\u001b[0m\n",
      "\u001b[36m(launch_and_evaluate pid=5759)\u001b[0m [Client 5] evaluate, config: {}\n",
      "\u001b[36m(launch_and_evaluate pid=5759)\u001b[0m Updated model\n",
      "\u001b[36m(launch_and_evaluate pid=5837)\u001b[0m [Client 3] evaluate, config: {}\n",
      "\u001b[36m(launch_and_evaluate pid=5837)\u001b[0m Updated model\n",
      "\u001b[36m(launch_and_evaluate pid=5917)\u001b[0m Run with homomorphic encryption\u001b[32m [repeated 2x across cluster]\u001b[0m\n",
      "\u001b[36m(launch_and_evaluate pid=5839)\u001b[0m [Client 9] evaluate, config: {}\n",
      "\u001b[36m(launch_and_evaluate pid=5839)\u001b[0m Updated model\n",
      "\u001b[36m(launch_and_evaluate pid=5917)\u001b[0m [Client 0] evaluate, config: {}\n",
      "\u001b[36m(launch_and_evaluate pid=5917)\u001b[0m Updated model\n",
      "\u001b[36m(launch_and_evaluate pid=5993)\u001b[0m Run with homomorphic encryption\u001b[32m [repeated 2x across cluster]\u001b[0m\n",
      "\u001b[36m(launch_and_evaluate pid=5915)\u001b[0m [Client 7] evaluate, config: {}\n",
      "\u001b[36m(launch_and_evaluate pid=5915)\u001b[0m Updated model\n",
      "\u001b[36m(launch_and_evaluate pid=5995)\u001b[0m [Client 6] evaluate, config: {}\n",
      "\u001b[36m(launch_and_evaluate pid=5993)\u001b[0m Updated model\n",
      "\u001b[36m(launch_and_evaluate pid=6073)\u001b[0m Run with homomorphic encryption\u001b[32m [repeated 2x across cluster]\u001b[0m\n",
      "\u001b[36m(launch_and_evaluate pid=5993)\u001b[0m [Client 8] evaluate, config: {}\n",
      "\u001b[36m(launch_and_evaluate pid=5995)\u001b[0m Updated model\n",
      "\u001b[36m(launch_and_evaluate pid=6073)\u001b[0m [Client 2] evaluate, config: {}\n",
      "\u001b[36m(launch_and_evaluate pid=6073)\u001b[0m Updated model\n"
     ]
    },
    {
     "name": "stderr",
     "output_type": "stream",
     "text": [
      "DEBUG flwr 2024-07-24 04:46:36,629 | server.py:187 | evaluate_round 7 received 10 results and 0 failures\n",
      "DEBUG flwr 2024-07-24 04:46:36,630 | server.py:222 | fit_round 8: strategy sampled 10 clients (out of 10)\n"
     ]
    },
    {
     "name": "stdout",
     "output_type": "stream",
     "text": [
      "\u001b[36m(launch_and_fit pid=6159)\u001b[0m Run with homomorphic encryption\u001b[32m [repeated 2x across cluster]\u001b[0m\n",
      "\u001b[36m(launch_and_evaluate pid=6072)\u001b[0m [Client 1] evaluate, config: {}\n",
      "\u001b[36m(launch_and_evaluate pid=6072)\u001b[0m Updated model\n",
      "\u001b[36m(launch_and_fit pid=6159)\u001b[0m [Client 0, round 8] fit, config: {'learning_rate': 0.003, 'batch_size': '32', 'server_round': 8, 'local_epochs': 10}\n",
      "\u001b[36m(launch_and_fit pid=6158)\u001b[0m Updated model\n"
     ]
    },
    {
     "name": "stderr",
     "output_type": "stream",
     "text": [
      "  0%|\u001b[34m          \u001b[0m| 0/10 [00:00<?, ?it/s]\n",
      "100%|\u001b[34m██████████\u001b[0m| 10/10 [00:19<00:00,  1.91s/it]\n"
     ]
    },
    {
     "name": "stdout",
     "output_type": "stream",
     "text": [
      "\u001b[36m(launch_and_fit pid=6158)\u001b[0m \tTrain Epoch: 1 \tTrain_loss: 0.3157 | Train_acc: 84.1435 % | Validation_loss: 0.6497 | Validation_acc: 67.8571 %\n",
      "\u001b[36m(launch_and_fit pid=6158)\u001b[0m Run with homomorphic encryption\n"
     ]
    },
    {
     "name": "stderr",
     "output_type": "stream",
     "text": [
      " 10%|\u001b[34m█         \u001b[0m| 1/10 [00:02<00:21,  2.37s/it]\n"
     ]
    },
    {
     "name": "stdout",
     "output_type": "stream",
     "text": [
      "\u001b[36m(launch_and_fit pid=6158)\u001b[0m [Client 7, round 8] fit, config: {'learning_rate': 0.003, 'batch_size': '32', 'server_round': 8, 'local_epochs': 10}\n",
      "\u001b[36m(launch_and_fit pid=6159)\u001b[0m Updated model\n"
     ]
    },
    {
     "name": "stderr",
     "output_type": "stream",
     "text": [
      "  0%|\u001b[34m          \u001b[0m| 0/10 [00:00<?, ?it/s]\n"
     ]
    },
    {
     "name": "stdout",
     "output_type": "stream",
     "text": [
      "\u001b[36m(launch_and_fit pid=6158)\u001b[0m \tTrain Epoch: 4 \tTrain_loss: 0.0194 | Train_acc: 100.0000 % | Validation_loss: 0.8900 | Validation_acc: 67.8571 %\u001b[32m [repeated 6x across cluster]\u001b[0m\n"
     ]
    },
    {
     "name": "stderr",
     "output_type": "stream",
     "text": [
      " 40%|\u001b[34m████      \u001b[0m| 4/10 [00:07<00:11,  1.94s/it]\u001b[32m [repeated 6x across cluster]\u001b[0m\n"
     ]
    },
    {
     "name": "stdout",
     "output_type": "stream",
     "text": [
      "\u001b[36m(launch_and_fit pid=6159)\u001b[0m \tTrain Epoch: 7 \tTrain_loss: 0.0155 | Train_acc: 99.6528 % | Validation_loss: 1.2257 | Validation_acc: 64.2857 %\u001b[32m [repeated 6x across cluster]\u001b[0m\n"
     ]
    },
    {
     "name": "stderr",
     "output_type": "stream",
     "text": [
      " 70%|\u001b[34m███████   \u001b[0m| 7/10 [00:13<00:05,  1.88s/it]\u001b[32m [repeated 6x across cluster]\u001b[0m\n"
     ]
    },
    {
     "name": "stdout",
     "output_type": "stream",
     "text": [
      "\u001b[36m(launch_and_fit pid=6159)\u001b[0m save graph in  results/FL/\n",
      "\u001b[36m(launch_and_fit pid=6159)\u001b[0m \tTrain Epoch: 10 \tTrain_loss: 0.0074 | Train_acc: 100.0000 % | Validation_loss: 1.2311 | Validation_acc: 64.2857 %\u001b[32m [repeated 6x across cluster]\u001b[0m\n"
     ]
    },
    {
     "name": "stderr",
     "output_type": "stream",
     "text": [
      "100%|\u001b[34m██████████\u001b[0m| 10/10 [00:19<00:00,  1.91s/it]\u001b[32m [repeated 6x across cluster]\u001b[0m\n"
     ]
    },
    {
     "name": "stdout",
     "output_type": "stream",
     "text": [
      "\u001b[36m(launch_and_fit pid=6159)\u001b[0m features.0.weight 6.198883056640625e-06\n",
      "\u001b[36m(launch_and_fit pid=6159)\u001b[0m features.0.bias 1.9073486328125e-06\n",
      "\u001b[36m(launch_and_fit pid=6159)\u001b[0m features.3.weight 1.6689300537109375e-06\n",
      "\u001b[36m(launch_and_fit pid=6159)\u001b[0m features.3.bias 1.1920928955078125e-06\n",
      "\u001b[36m(launch_and_fit pid=6159)\u001b[0m classifier.0.weight 1.6689300537109375e-06\n",
      "\u001b[36m(launch_and_fit pid=6159)\u001b[0m classifier.0.bias 1.1920928955078125e-06\n",
      "\u001b[36m(launch_and_fit pid=6159)\u001b[0m classifier.2.weight 3.814697265625e-06\n",
      "\u001b[36m(launch_and_fit pid=6159)\u001b[0m classifier.2.bias 2.384185791015625e-06\n",
      "\u001b[36m(launch_and_fit pid=6159)\u001b[0m classifier.3.weights 2.384185791015625e-06\n",
      "\u001b[36m(launch_and_fit pid=6159)\u001b[0m classifier.4.weight 1.6689300537109375e-06\n",
      "\u001b[36m(launch_and_fit pid=6159)\u001b[0m classifier.4.bias 1.430511474609375e-06\n",
      "\u001b[36m(launch_and_fit pid=6241)\u001b[0m Run with homomorphic encryption\n",
      "\u001b[36m(launch_and_fit pid=6158)\u001b[0m save graph in  results/FL/\n",
      "\u001b[36m(launch_and_fit pid=6158)\u001b[0m \tTrain Epoch: 10 \tTrain_loss: 0.0055 | Train_acc: 100.0000 % | Validation_loss: 0.9324 | Validation_acc: 75.0000 %\n",
      "\u001b[36m(launch_and_fit pid=6158)\u001b[0m classifier.4.bias 1.1920928955078125e-06\u001b[32m [repeated 11x across cluster]\u001b[0m\n",
      "\u001b[36m(launch_and_fit pid=6241)\u001b[0m [Client 8, round 8] fit, config: {'learning_rate': 0.003, 'batch_size': '32', 'server_round': 8, 'local_epochs': 10}\n",
      "\u001b[36m(launch_and_fit pid=6241)\u001b[0m Updated model\n"
     ]
    },
    {
     "name": "stderr",
     "output_type": "stream",
     "text": [
      "  0%|\u001b[34m          \u001b[0m| 0/10 [00:00<?, ?it/s]\n",
      "100%|\u001b[34m██████████\u001b[0m| 10/10 [00:19<00:00,  1.92s/it]\n",
      " 10%|\u001b[34m█         \u001b[0m| 1/10 [00:02<00:21,  2.44s/it]\n"
     ]
    },
    {
     "name": "stdout",
     "output_type": "stream",
     "text": [
      "\u001b[36m(launch_and_fit pid=6241)\u001b[0m \tTrain Epoch: 1 \tTrain_loss: 0.2559 | Train_acc: 91.3194 % | Validation_loss: 0.4923 | Validation_acc: 78.5714 %\n",
      "\u001b[36m(launch_and_fit pid=6239)\u001b[0m Run with homomorphic encryption\n",
      "\u001b[36m(launch_and_fit pid=6239)\u001b[0m [Client 4, round 8] fit, config: {'learning_rate': 0.003, 'batch_size': '32', 'server_round': 8, 'local_epochs': 10}\n"
     ]
    },
    {
     "name": "stderr",
     "output_type": "stream",
     "text": [
      "  0%|\u001b[34m          \u001b[0m| 0/10 [00:00<?, ?it/s]\n"
     ]
    },
    {
     "name": "stdout",
     "output_type": "stream",
     "text": [
      "\u001b[36m(launch_and_fit pid=6239)\u001b[0m Updated model\n"
     ]
    },
    {
     "name": "stderr",
     "output_type": "stream",
     "text": [
      " 40%|\u001b[34m████      \u001b[0m| 4/10 [00:08<00:12,  2.01s/it]\u001b[32m [repeated 6x across cluster]\u001b[0m\n"
     ]
    },
    {
     "name": "stdout",
     "output_type": "stream",
     "text": [
      "\u001b[36m(launch_and_fit pid=6241)\u001b[0m \tTrain Epoch: 4 \tTrain_loss: 0.0126 | Train_acc: 100.0000 % | Validation_loss: 0.7403 | Validation_acc: 82.1429 %\u001b[32m [repeated 6x across cluster]\u001b[0m\n"
     ]
    },
    {
     "name": "stderr",
     "output_type": "stream",
     "text": [
      " 70%|\u001b[34m███████   \u001b[0m| 7/10 [00:13<00:05,  1.89s/it]\u001b[32m [repeated 6x across cluster]\u001b[0m\n"
     ]
    },
    {
     "name": "stdout",
     "output_type": "stream",
     "text": [
      "\u001b[36m(launch_and_fit pid=6241)\u001b[0m \tTrain Epoch: 7 \tTrain_loss: 0.0070 | Train_acc: 100.0000 % | Validation_loss: 0.7377 | Validation_acc: 82.1429 %\u001b[32m [repeated 6x across cluster]\u001b[0m\n"
     ]
    },
    {
     "name": "stderr",
     "output_type": "stream",
     "text": [
      "100%|\u001b[34m██████████\u001b[0m| 10/10 [00:19<00:00,  1.91s/it]\u001b[32m [repeated 6x across cluster]\u001b[0m\n"
     ]
    },
    {
     "name": "stdout",
     "output_type": "stream",
     "text": [
      "\u001b[36m(launch_and_fit pid=6239)\u001b[0m save graph in  results/FL/\n",
      "\u001b[36m(launch_and_fit pid=6239)\u001b[0m \tTrain Epoch: 10 \tTrain_loss: 0.0084 | Train_acc: 100.0000 % | Validation_loss: 0.9130 | Validation_acc: 78.5714 %\u001b[32m [repeated 6x across cluster]\u001b[0m\n",
      "\u001b[36m(launch_and_fit pid=6239)\u001b[0m features.0.weight 4.76837158203125e-06\n",
      "\u001b[36m(launch_and_fit pid=6239)\u001b[0m features.0.bias 1.6689300537109375e-06\n",
      "\u001b[36m(launch_and_fit pid=6239)\u001b[0m features.3.weight 1.430511474609375e-06\n",
      "\u001b[36m(launch_and_fit pid=6239)\u001b[0m features.3.bias 1.1920928955078125e-06\n",
      "\u001b[36m(launch_and_fit pid=6239)\u001b[0m classifier.0.weight 1.430511474609375e-06\n",
      "\u001b[36m(launch_and_fit pid=6239)\u001b[0m classifier.0.bias 1.1920928955078125e-06\n",
      "\u001b[36m(launch_and_fit pid=6239)\u001b[0m classifier.2.weight 1.1920928955078125e-06\n",
      "\u001b[36m(launch_and_fit pid=6239)\u001b[0m classifier.2.bias 1.1920928955078125e-06\n",
      "\u001b[36m(launch_and_fit pid=6239)\u001b[0m classifier.3.weights 1.6689300537109375e-06\n",
      "\u001b[36m(launch_and_fit pid=6239)\u001b[0m classifier.4.weight 1.1920928955078125e-06\n",
      "\u001b[36m(launch_and_fit pid=6239)\u001b[0m classifier.4.bias 9.5367431640625e-07\n",
      "\u001b[36m(launch_and_fit pid=6321)\u001b[0m Run with homomorphic encryption\n",
      "\u001b[36m(launch_and_fit pid=6241)\u001b[0m save graph in  results/FL/\n",
      "\u001b[36m(launch_and_fit pid=6241)\u001b[0m \tTrain Epoch: 10 \tTrain_loss: 0.0053 | Train_acc: 100.0000 % | Validation_loss: 0.7661 | Validation_acc: 82.1429 %\n",
      "\u001b[36m(launch_and_fit pid=6241)\u001b[0m classifier.4.bias 9.5367431640625e-07\u001b[32m [repeated 11x across cluster]\u001b[0m\n",
      "\u001b[36m(launch_and_fit pid=6321)\u001b[0m [Client 1, round 8] fit, config: {'learning_rate': 0.003, 'batch_size': '32', 'server_round': 8, 'local_epochs': 10}\n",
      "\u001b[36m(launch_and_fit pid=6321)\u001b[0m Updated model\n"
     ]
    },
    {
     "name": "stderr",
     "output_type": "stream",
     "text": [
      "  0%|\u001b[34m          \u001b[0m| 0/10 [00:00<?, ?it/s]\n",
      "100%|\u001b[34m██████████\u001b[0m| 10/10 [00:19<00:00,  1.95s/it]\n"
     ]
    },
    {
     "name": "stdout",
     "output_type": "stream",
     "text": [
      "\u001b[36m(launch_and_fit pid=6321)\u001b[0m \tTrain Epoch: 1 \tTrain_loss: 0.3519 | Train_acc: 86.4583 % | Validation_loss: 0.7832 | Validation_acc: 71.4286 %\n",
      "\u001b[36m(launch_and_fit pid=6323)\u001b[0m Run with homomorphic encryption\n",
      "\u001b[36m(launch_and_fit pid=6323)\u001b[0m [Client 5, round 8] fit, config: {'learning_rate': 0.003, 'batch_size': '32', 'server_round': 8, 'local_epochs': 10}\n"
     ]
    },
    {
     "name": "stderr",
     "output_type": "stream",
     "text": [
      " 10%|\u001b[34m█         \u001b[0m| 1/10 [00:02<00:22,  2.50s/it]\n"
     ]
    },
    {
     "name": "stdout",
     "output_type": "stream",
     "text": [
      "\u001b[36m(launch_and_fit pid=6323)\u001b[0m Updated model\n"
     ]
    },
    {
     "name": "stderr",
     "output_type": "stream",
     "text": [
      "  0%|\u001b[34m          \u001b[0m| 0/10 [00:00<?, ?it/s]\n"
     ]
    },
    {
     "name": "stdout",
     "output_type": "stream",
     "text": [
      "\u001b[36m(launch_and_fit pid=6321)\u001b[0m \tTrain Epoch: 4 \tTrain_loss: 0.0319 | Train_acc: 99.6528 % | Validation_loss: 0.9225 | Validation_acc: 64.2857 %\u001b[32m [repeated 6x across cluster]\u001b[0m\n"
     ]
    },
    {
     "name": "stderr",
     "output_type": "stream",
     "text": [
      " 40%|\u001b[34m████      \u001b[0m| 4/10 [00:08<00:11,  1.97s/it]\u001b[32m [repeated 6x across cluster]\u001b[0m\n"
     ]
    },
    {
     "name": "stdout",
     "output_type": "stream",
     "text": [
      "\u001b[36m(launch_and_fit pid=6321)\u001b[0m \tTrain Epoch: 7 \tTrain_loss: 0.0108 | Train_acc: 100.0000 % | Validation_loss: 0.9300 | Validation_acc: 67.8571 %\u001b[32m [repeated 6x across cluster]\u001b[0m\n"
     ]
    },
    {
     "name": "stderr",
     "output_type": "stream",
     "text": [
      " 70%|\u001b[34m███████   \u001b[0m| 7/10 [00:13<00:05,  1.92s/it]\u001b[32m [repeated 6x across cluster]\u001b[0m\n"
     ]
    },
    {
     "name": "stdout",
     "output_type": "stream",
     "text": [
      "\u001b[36m(launch_and_fit pid=6321)\u001b[0m save graph in  results/FL/\n",
      "\u001b[36m(launch_and_fit pid=6321)\u001b[0m \tTrain Epoch: 10 \tTrain_loss: 0.0062 | Train_acc: 100.0000 % | Validation_loss: 1.1045 | Validation_acc: 67.8571 %\u001b[32m [repeated 6x across cluster]\u001b[0m\n"
     ]
    },
    {
     "name": "stderr",
     "output_type": "stream",
     "text": [
      "100%|\u001b[34m██████████\u001b[0m| 10/10 [00:19<00:00,  1.94s/it]\u001b[32m [repeated 6x across cluster]\u001b[0m\n"
     ]
    },
    {
     "name": "stdout",
     "output_type": "stream",
     "text": [
      "\u001b[36m(launch_and_fit pid=6321)\u001b[0m features.0.weight 6.4373016357421875e-06\n",
      "\u001b[36m(launch_and_fit pid=6321)\u001b[0m features.0.bias 1.9073486328125e-06\n",
      "\u001b[36m(launch_and_fit pid=6321)\u001b[0m features.3.weight 1.6689300537109375e-06\n",
      "\u001b[36m(launch_and_fit pid=6321)\u001b[0m features.3.bias 1.1920928955078125e-06\n",
      "\u001b[36m(launch_and_fit pid=6321)\u001b[0m classifier.0.weight 1.430511474609375e-06\n",
      "\u001b[36m(launch_and_fit pid=6321)\u001b[0m classifier.0.bias 1.430511474609375e-06\n",
      "\u001b[36m(launch_and_fit pid=6321)\u001b[0m classifier.2.weight 1.1920928955078125e-06\n",
      "\u001b[36m(launch_and_fit pid=6321)\u001b[0m classifier.2.bias 1.6689300537109375e-06\n",
      "\u001b[36m(launch_and_fit pid=6321)\u001b[0m classifier.3.weights 1.430511474609375e-06\n",
      "\u001b[36m(launch_and_fit pid=6321)\u001b[0m classifier.4.weight 1.9073486328125e-06\n",
      "\u001b[36m(launch_and_fit pid=6321)\u001b[0m classifier.4.bias 1.1920928955078125e-06\n",
      "\u001b[36m(launch_and_fit pid=6403)\u001b[0m Run with homomorphic encryption\n",
      "\u001b[36m(launch_and_fit pid=6323)\u001b[0m save graph in  results/FL/\n",
      "\u001b[36m(launch_and_fit pid=6323)\u001b[0m \tTrain Epoch: 10 \tTrain_loss: 0.0075 | Train_acc: 100.0000 % | Validation_loss: 1.3582 | Validation_acc: 50.0000 %\n",
      "\u001b[36m(launch_and_fit pid=6323)\u001b[0m classifier.4.bias 1.9073486328125e-06\u001b[32m [repeated 11x across cluster]\u001b[0m\n",
      "\u001b[36m(launch_and_fit pid=6403)\u001b[0m [Client 9, round 8] fit, config: {'learning_rate': 0.003, 'batch_size': '32', 'server_round': 8, 'local_epochs': 10}\n"
     ]
    },
    {
     "name": "stderr",
     "output_type": "stream",
     "text": [
      "  0%|\u001b[34m          \u001b[0m| 0/10 [00:00<?, ?it/s]\n",
      "100%|\u001b[34m██████████\u001b[0m| 10/10 [00:19<00:00,  1.93s/it]\n"
     ]
    },
    {
     "name": "stdout",
     "output_type": "stream",
     "text": [
      "\u001b[36m(launch_and_fit pid=6403)\u001b[0m Updated model\n"
     ]
    },
    {
     "name": "stderr",
     "output_type": "stream",
     "text": [
      " 10%|\u001b[34m█         \u001b[0m| 1/10 [00:02<00:22,  2.49s/it]\n"
     ]
    },
    {
     "name": "stdout",
     "output_type": "stream",
     "text": [
      "\u001b[36m(launch_and_fit pid=6403)\u001b[0m \tTrain Epoch: 1 \tTrain_loss: 0.4023 | Train_acc: 82.6389 % | Validation_loss: 0.5568 | Validation_acc: 72.4138 %\n",
      "\u001b[36m(launch_and_fit pid=6405)\u001b[0m Run with homomorphic encryption\n",
      "\u001b[36m(launch_and_fit pid=6405)\u001b[0m [Client 3, round 8] fit, config: {'learning_rate': 0.003, 'batch_size': '32', 'server_round': 8, 'local_epochs': 10}\n"
     ]
    },
    {
     "name": "stderr",
     "output_type": "stream",
     "text": [
      "  0%|\u001b[34m          \u001b[0m| 0/10 [00:00<?, ?it/s]\n"
     ]
    },
    {
     "name": "stdout",
     "output_type": "stream",
     "text": [
      "\u001b[36m(launch_and_fit pid=6405)\u001b[0m Updated model\n"
     ]
    },
    {
     "name": "stderr",
     "output_type": "stream",
     "text": [
      " 40%|\u001b[34m████      \u001b[0m| 4/10 [00:08<00:12,  2.00s/it]\u001b[32m [repeated 6x across cluster]\u001b[0m\n"
     ]
    },
    {
     "name": "stdout",
     "output_type": "stream",
     "text": [
      "\u001b[36m(launch_and_fit pid=6403)\u001b[0m \tTrain Epoch: 4 \tTrain_loss: 0.0308 | Train_acc: 99.3056 % | Validation_loss: 0.8892 | Validation_acc: 75.8621 %\u001b[32m [repeated 6x across cluster]\u001b[0m\n"
     ]
    },
    {
     "name": "stderr",
     "output_type": "stream",
     "text": [
      " 70%|\u001b[34m███████   \u001b[0m| 7/10 [00:14<00:05,  1.95s/it]\u001b[32m [repeated 6x across cluster]\u001b[0m\n"
     ]
    },
    {
     "name": "stdout",
     "output_type": "stream",
     "text": [
      "\u001b[36m(launch_and_fit pid=6403)\u001b[0m \tTrain Epoch: 7 \tTrain_loss: 0.0152 | Train_acc: 99.6528 % | Validation_loss: 0.9084 | Validation_acc: 79.3103 %\u001b[32m [repeated 6x across cluster]\u001b[0m\n"
     ]
    },
    {
     "name": "stderr",
     "output_type": "stream",
     "text": [
      "100%|\u001b[34m██████████\u001b[0m| 10/10 [00:19<00:00,  1.99s/it]\u001b[32m [repeated 6x across cluster]\u001b[0m\n"
     ]
    },
    {
     "name": "stdout",
     "output_type": "stream",
     "text": [
      "\u001b[36m(launch_and_fit pid=6403)\u001b[0m save graph in  results/FL/\n",
      "\u001b[36m(launch_and_fit pid=6403)\u001b[0m \tTrain Epoch: 10 \tTrain_loss: 0.0138 | Train_acc: 99.6528 % | Validation_loss: 1.1083 | Validation_acc: 58.6207 %\u001b[32m [repeated 6x across cluster]\u001b[0m\n",
      "\u001b[36m(launch_and_fit pid=6403)\u001b[0m features.0.weight 5.4836273193359375e-06\n",
      "\u001b[36m(launch_and_fit pid=6403)\u001b[0m features.0.bias 1.6689300537109375e-06\n",
      "\u001b[36m(launch_and_fit pid=6403)\u001b[0m features.3.weight 1.1920928955078125e-06\n",
      "\u001b[36m(launch_and_fit pid=6403)\u001b[0m features.3.bias 1.430511474609375e-06\n",
      "\u001b[36m(launch_and_fit pid=6403)\u001b[0m classifier.0.weight 1.1920928955078125e-06\n",
      "\u001b[36m(launch_and_fit pid=6403)\u001b[0m classifier.0.bias 1.1920928955078125e-06\n",
      "\u001b[36m(launch_and_fit pid=6403)\u001b[0m classifier.2.weight 1.1920928955078125e-06\n",
      "\u001b[36m(launch_and_fit pid=6403)\u001b[0m classifier.2.bias 9.5367431640625e-07\n",
      "\u001b[36m(launch_and_fit pid=6403)\u001b[0m classifier.3.weights 1.430511474609375e-06\n",
      "\u001b[36m(launch_and_fit pid=6403)\u001b[0m classifier.4.weight 1.430511474609375e-06\n",
      "\u001b[36m(launch_and_fit pid=6403)\u001b[0m classifier.4.bias 9.5367431640625e-07\n",
      "\u001b[36m(launch_and_fit pid=6485)\u001b[0m Run with homomorphic encryption\n",
      "\u001b[36m(launch_and_fit pid=6405)\u001b[0m save graph in  results/FL/\n",
      "\u001b[36m(launch_and_fit pid=6405)\u001b[0m \tTrain Epoch: 10 \tTrain_loss: 0.0122 | Train_acc: 99.6528 % | Validation_loss: 0.9015 | Validation_acc: 75.0000 %\n",
      "\u001b[36m(launch_and_fit pid=6405)\u001b[0m classifier.4.bias 1.430511474609375e-06\u001b[32m [repeated 11x across cluster]\u001b[0m\n",
      "\u001b[36m(launch_and_fit pid=6485)\u001b[0m [Client 6, round 8] fit, config: {'learning_rate': 0.003, 'batch_size': '32', 'server_round': 8, 'local_epochs': 10}\n"
     ]
    },
    {
     "name": "stderr",
     "output_type": "stream",
     "text": [
      "  0%|\u001b[34m          \u001b[0m| 0/10 [00:00<?, ?it/s]\n",
      "100%|\u001b[34m██████████\u001b[0m| 10/10 [00:19<00:00,  1.98s/it]\n"
     ]
    },
    {
     "name": "stdout",
     "output_type": "stream",
     "text": [
      "\u001b[36m(launch_and_fit pid=6485)\u001b[0m Updated model\n"
     ]
    },
    {
     "name": "stderr",
     "output_type": "stream",
     "text": [
      " 10%|\u001b[34m█         \u001b[0m| 1/10 [00:02<00:21,  2.43s/it]\n"
     ]
    },
    {
     "name": "stdout",
     "output_type": "stream",
     "text": [
      "\u001b[36m(launch_and_fit pid=6485)\u001b[0m \tTrain Epoch: 1 \tTrain_loss: 0.3318 | Train_acc: 86.1111 % | Validation_loss: 0.6410 | Validation_acc: 75.0000 %\n",
      "\u001b[36m(launch_and_fit pid=6487)\u001b[0m Run with homomorphic encryption\n",
      "\u001b[36m(launch_and_fit pid=6487)\u001b[0m [Client 2, round 8] fit, config: {'learning_rate': 0.003, 'batch_size': '32', 'server_round': 8, 'local_epochs': 10}\n"
     ]
    },
    {
     "name": "stderr",
     "output_type": "stream",
     "text": [
      "  0%|\u001b[34m          \u001b[0m| 0/10 [00:00<?, ?it/s]\n"
     ]
    },
    {
     "name": "stdout",
     "output_type": "stream",
     "text": [
      "\u001b[36m(launch_and_fit pid=6487)\u001b[0m Updated model\n"
     ]
    },
    {
     "name": "stderr",
     "output_type": "stream",
     "text": [
      " 40%|\u001b[34m████      \u001b[0m| 4/10 [00:08<00:11,  1.94s/it]\u001b[32m [repeated 6x across cluster]\u001b[0m\n"
     ]
    },
    {
     "name": "stdout",
     "output_type": "stream",
     "text": [
      "\u001b[36m(launch_and_fit pid=6485)\u001b[0m \tTrain Epoch: 4 \tTrain_loss: 0.0493 | Train_acc: 98.9583 % | Validation_loss: 0.5691 | Validation_acc: 64.2857 %\u001b[32m [repeated 6x across cluster]\u001b[0m\n"
     ]
    },
    {
     "name": "stderr",
     "output_type": "stream",
     "text": [
      " 70%|\u001b[34m███████   \u001b[0m| 7/10 [00:13<00:05,  1.92s/it]\u001b[32m [repeated 6x across cluster]\u001b[0m\n"
     ]
    },
    {
     "name": "stdout",
     "output_type": "stream",
     "text": [
      "\u001b[36m(launch_and_fit pid=6485)\u001b[0m \tTrain Epoch: 7 \tTrain_loss: 0.0604 | Train_acc: 96.2963 % | Validation_loss: 0.5916 | Validation_acc: 71.4286 %\u001b[32m [repeated 6x across cluster]\u001b[0m\n"
     ]
    },
    {
     "name": "stderr",
     "output_type": "stream",
     "text": [
      "100%|\u001b[34m██████████\u001b[0m| 10/10 [00:19<00:00,  1.94s/it]\u001b[32m [repeated 6x across cluster]\u001b[0m\n"
     ]
    },
    {
     "name": "stdout",
     "output_type": "stream",
     "text": [
      "\u001b[36m(launch_and_fit pid=6485)\u001b[0m save graph in  results/FL/\n",
      "\u001b[36m(launch_and_fit pid=6485)\u001b[0m \tTrain Epoch: 10 \tTrain_loss: 0.0281 | Train_acc: 99.3056 % | Validation_loss: 0.6341 | Validation_acc: 78.5714 %\u001b[32m [repeated 6x across cluster]\u001b[0m\n",
      "\u001b[36m(launch_and_fit pid=6485)\u001b[0m features.0.weight 5.7220458984375e-06\n",
      "\u001b[36m(launch_and_fit pid=6485)\u001b[0m features.0.bias 1.9073486328125e-06\n",
      "\u001b[36m(launch_and_fit pid=6485)\u001b[0m features.3.weight 1.1920928955078125e-06\n",
      "\u001b[36m(launch_and_fit pid=6485)\u001b[0m features.3.bias 1.430511474609375e-06\n",
      "\u001b[36m(launch_and_fit pid=6485)\u001b[0m classifier.0.weight 1.430511474609375e-06\n",
      "\u001b[36m(launch_and_fit pid=6485)\u001b[0m classifier.0.bias 1.430511474609375e-06\n",
      "\u001b[36m(launch_and_fit pid=6485)\u001b[0m classifier.2.weight 1.1920928955078125e-06\n",
      "\u001b[36m(launch_and_fit pid=6485)\u001b[0m classifier.2.bias 1.430511474609375e-06\n",
      "\u001b[36m(launch_and_fit pid=6485)\u001b[0m classifier.3.weights 1.430511474609375e-06\n",
      "\u001b[36m(launch_and_fit pid=6485)\u001b[0m classifier.4.weight 1.430511474609375e-06\n",
      "\u001b[36m(launch_and_fit pid=6485)\u001b[0m classifier.4.bias 1.430511474609375e-06\n"
     ]
    },
    {
     "name": "stderr",
     "output_type": "stream",
     "text": [
      "DEBUG flwr 2024-07-24 04:49:34,534 | server.py:236 | fit_round 8 received 10 results and 0 failures\n"
     ]
    },
    {
     "name": "stdout",
     "output_type": "stream",
     "text": [
      "Saving round 8 aggregated_parameters...\n"
     ]
    },
    {
     "name": "stderr",
     "output_type": "stream",
     "text": [
      "DEBUG flwr 2024-07-24 04:49:36,634 | server.py:173 | evaluate_round 8: strategy sampled 10 clients (out of 10)\n"
     ]
    },
    {
     "name": "stdout",
     "output_type": "stream",
     "text": [
      "\u001b[36m(launch_and_evaluate pid=6576)\u001b[0m Run with homomorphic encryption\n",
      "\u001b[36m(launch_and_fit pid=6487)\u001b[0m save graph in  results/FL/\n",
      "\u001b[36m(launch_and_fit pid=6487)\u001b[0m \tTrain Epoch: 10 \tTrain_loss: 0.0155 | Train_acc: 99.3056 % | Validation_loss: 0.8117 | Validation_acc: 71.4286 %\n",
      "\u001b[36m(launch_and_fit pid=6487)\u001b[0m classifier.4.bias 9.5367431640625e-07\u001b[32m [repeated 11x across cluster]\u001b[0m\n",
      "\u001b[36m(launch_and_evaluate pid=6576)\u001b[0m [Client 9] evaluate, config: {}\n",
      "\u001b[36m(launch_and_evaluate pid=6576)\u001b[0m Updated model\n",
      "\u001b[36m(launch_and_evaluate pid=6656)\u001b[0m Run with homomorphic encryption\u001b[32m [repeated 2x across cluster]\u001b[0m\n",
      "\u001b[36m(launch_and_evaluate pid=6577)\u001b[0m [Client 6] evaluate, config: {}\n",
      "\u001b[36m(launch_and_evaluate pid=6577)\u001b[0m Updated model\n",
      "\u001b[36m(launch_and_evaluate pid=6656)\u001b[0m [Client 1] evaluate, config: {}\n",
      "\u001b[36m(launch_and_evaluate pid=6656)\u001b[0m Updated model\n",
      "\u001b[36m(launch_and_evaluate pid=6734)\u001b[0m Run with homomorphic encryption\u001b[32m [repeated 2x across cluster]\u001b[0m\n",
      "\u001b[36m(launch_and_evaluate pid=6658)\u001b[0m [Client 0] evaluate, config: {}\n",
      "\u001b[36m(launch_and_evaluate pid=6658)\u001b[0m Updated model\n",
      "\u001b[36m(launch_and_evaluate pid=6734)\u001b[0m [Client 7] evaluate, config: {}\n",
      "\u001b[36m(launch_and_evaluate pid=6734)\u001b[0m Updated model\n",
      "\u001b[36m(launch_and_evaluate pid=6814)\u001b[0m Run with homomorphic encryption\u001b[32m [repeated 2x across cluster]\u001b[0m\n",
      "\u001b[36m(launch_and_evaluate pid=6736)\u001b[0m [Client 4] evaluate, config: {}\n",
      "\u001b[36m(launch_and_evaluate pid=6736)\u001b[0m Updated model\n",
      "\u001b[36m(launch_and_evaluate pid=6814)\u001b[0m [Client 2] evaluate, config: {}\n",
      "\u001b[36m(launch_and_evaluate pid=6814)\u001b[0m Updated model\n",
      "\u001b[36m(launch_and_evaluate pid=6892)\u001b[0m Run with homomorphic encryption\u001b[32m [repeated 2x across cluster]\u001b[0m\n",
      "\u001b[36m(launch_and_evaluate pid=6812)\u001b[0m [Client 5] evaluate, config: {}\n",
      "\u001b[36m(launch_and_evaluate pid=6812)\u001b[0m Updated model\n",
      "\u001b[36m(launch_and_evaluate pid=6891)\u001b[0m [Client 8] evaluate, config: {}\n",
      "\u001b[36m(launch_and_evaluate pid=6892)\u001b[0m Updated model\n"
     ]
    },
    {
     "name": "stderr",
     "output_type": "stream",
     "text": [
      "DEBUG flwr 2024-07-24 04:50:59,513 | server.py:187 | evaluate_round 8 received 10 results and 0 failures\n",
      "DEBUG flwr 2024-07-24 04:50:59,514 | server.py:222 | fit_round 9: strategy sampled 10 clients (out of 10)\n"
     ]
    },
    {
     "name": "stdout",
     "output_type": "stream",
     "text": [
      "\u001b[36m(launch_and_fit pid=6977)\u001b[0m Run with homomorphic encryption\u001b[32m [repeated 2x across cluster]\u001b[0m\n",
      "\u001b[36m(launch_and_evaluate pid=6892)\u001b[0m [Client 3] evaluate, config: {}\n",
      "\u001b[36m(launch_and_evaluate pid=6891)\u001b[0m Updated model\n",
      "\u001b[36m(launch_and_fit pid=6977)\u001b[0m [Client 5, round 9] fit, config: {'learning_rate': 0.003, 'batch_size': '32', 'server_round': 9, 'local_epochs': 10}\n"
     ]
    },
    {
     "name": "stderr",
     "output_type": "stream",
     "text": [
      "  0%|\u001b[34m          \u001b[0m| 0/10 [00:00<?, ?it/s]\n",
      "100%|\u001b[34m██████████\u001b[0m| 10/10 [00:19<00:00,  1.96s/it]\n"
     ]
    },
    {
     "name": "stdout",
     "output_type": "stream",
     "text": [
      "\u001b[36m(launch_and_fit pid=6977)\u001b[0m Updated model\n"
     ]
    },
    {
     "name": "stderr",
     "output_type": "stream",
     "text": [
      " 10%|\u001b[34m█         \u001b[0m| 1/10 [00:02<00:22,  2.50s/it]\n"
     ]
    },
    {
     "name": "stdout",
     "output_type": "stream",
     "text": [
      "\u001b[36m(launch_and_fit pid=6977)\u001b[0m \tTrain Epoch: 1 \tTrain_loss: 0.3007 | Train_acc: 86.8056 % | Validation_loss: 1.1211 | Validation_acc: 60.7143 %\n",
      "\u001b[36m(launch_and_fit pid=6978)\u001b[0m Run with homomorphic encryption\n",
      "\u001b[36m(launch_and_fit pid=6978)\u001b[0m [Client 0, round 9] fit, config: {'learning_rate': 0.003, 'batch_size': '32', 'server_round': 9, 'local_epochs': 10}\n"
     ]
    },
    {
     "name": "stderr",
     "output_type": "stream",
     "text": [
      "  0%|\u001b[34m          \u001b[0m| 0/10 [00:00<?, ?it/s]\n"
     ]
    },
    {
     "name": "stdout",
     "output_type": "stream",
     "text": [
      "\u001b[36m(launch_and_fit pid=6978)\u001b[0m Updated model\n"
     ]
    },
    {
     "name": "stderr",
     "output_type": "stream",
     "text": [
      " 40%|\u001b[34m████      \u001b[0m| 4/10 [00:08<00:11,  1.99s/it]\u001b[32m [repeated 6x across cluster]\u001b[0m\n"
     ]
    },
    {
     "name": "stdout",
     "output_type": "stream",
     "text": [
      "\u001b[36m(launch_and_fit pid=6977)\u001b[0m \tTrain Epoch: 4 \tTrain_loss: 0.0195 | Train_acc: 99.6528 % | Validation_loss: 1.6272 | Validation_acc: 53.5714 %\u001b[32m [repeated 6x across cluster]\u001b[0m\n"
     ]
    },
    {
     "name": "stderr",
     "output_type": "stream",
     "text": [
      " 70%|\u001b[34m███████   \u001b[0m| 7/10 [00:13<00:05,  1.91s/it]\u001b[32m [repeated 6x across cluster]\u001b[0m\n"
     ]
    },
    {
     "name": "stdout",
     "output_type": "stream",
     "text": [
      "\u001b[36m(launch_and_fit pid=6977)\u001b[0m \tTrain Epoch: 7 \tTrain_loss: 0.0044 | Train_acc: 100.0000 % | Validation_loss: 1.7149 | Validation_acc: 50.0000 %\u001b[32m [repeated 6x across cluster]\u001b[0m\n"
     ]
    },
    {
     "name": "stderr",
     "output_type": "stream",
     "text": [
      "100%|\u001b[34m██████████\u001b[0m| 10/10 [00:19<00:00,  1.94s/it]\u001b[32m [repeated 6x across cluster]\u001b[0m\n"
     ]
    },
    {
     "name": "stdout",
     "output_type": "stream",
     "text": [
      "\u001b[36m(launch_and_fit pid=6977)\u001b[0m save graph in  results/FL/\n",
      "\u001b[36m(launch_and_fit pid=6977)\u001b[0m \tTrain Epoch: 10 \tTrain_loss: 0.0029 | Train_acc: 100.0000 % | Validation_loss: 1.5976 | Validation_acc: 57.1429 %\u001b[32m [repeated 6x across cluster]\u001b[0m\n",
      "\u001b[36m(launch_and_fit pid=6977)\u001b[0m features.0.weight 7.3909759521484375e-06\n",
      "\u001b[36m(launch_and_fit pid=6977)\u001b[0m features.0.bias 1.6689300537109375e-06\n",
      "\u001b[36m(launch_and_fit pid=6977)\u001b[0m features.3.weight 1.6689300537109375e-06\n",
      "\u001b[36m(launch_and_fit pid=6977)\u001b[0m features.3.bias 1.430511474609375e-06\n",
      "\u001b[36m(launch_and_fit pid=6977)\u001b[0m classifier.0.weight 1.6689300537109375e-06\n",
      "\u001b[36m(launch_and_fit pid=6977)\u001b[0m classifier.0.bias 1.6689300537109375e-06\n",
      "\u001b[36m(launch_and_fit pid=6977)\u001b[0m classifier.2.weight 1.6689300537109375e-06\n",
      "\u001b[36m(launch_and_fit pid=6977)\u001b[0m classifier.2.bias 1.1920928955078125e-06\n",
      "\u001b[36m(launch_and_fit pid=6977)\u001b[0m classifier.3.weights 1.9073486328125e-06\n",
      "\u001b[36m(launch_and_fit pid=6977)\u001b[0m classifier.4.weight 1.1920928955078125e-06\n",
      "\u001b[36m(launch_and_fit pid=6977)\u001b[0m classifier.4.bias 1.6689300537109375e-06\n",
      "\u001b[36m(launch_and_fit pid=7058)\u001b[0m Run with homomorphic encryption\n",
      "\u001b[36m(launch_and_fit pid=6978)\u001b[0m save graph in  results/FL/\n",
      "\u001b[36m(launch_and_fit pid=6978)\u001b[0m \tTrain Epoch: 10 \tTrain_loss: 0.0049 | Train_acc: 100.0000 % | Validation_loss: 1.3964 | Validation_acc: 60.7143 %\n",
      "\u001b[36m(launch_and_fit pid=6978)\u001b[0m classifier.4.bias 2.1457672119140625e-06\u001b[32m [repeated 11x across cluster]\u001b[0m\n",
      "\u001b[36m(launch_and_fit pid=7058)\u001b[0m [Client 6, round 9] fit, config: {'learning_rate': 0.003, 'batch_size': '32', 'server_round': 9, 'local_epochs': 10}\n"
     ]
    },
    {
     "name": "stderr",
     "output_type": "stream",
     "text": [
      "  0%|\u001b[34m          \u001b[0m| 0/10 [00:00<?, ?it/s]\n",
      "100%|\u001b[34m██████████\u001b[0m| 10/10 [00:19<00:00,  1.94s/it]\n"
     ]
    },
    {
     "name": "stdout",
     "output_type": "stream",
     "text": [
      "\u001b[36m(launch_and_fit pid=7058)\u001b[0m Updated model\n"
     ]
    },
    {
     "name": "stderr",
     "output_type": "stream",
     "text": [
      " 10%|\u001b[34m█         \u001b[0m| 1/10 [00:02<00:21,  2.41s/it]\n"
     ]
    },
    {
     "name": "stdout",
     "output_type": "stream",
     "text": [
      "\u001b[36m(launch_and_fit pid=7058)\u001b[0m \tTrain Epoch: 1 \tTrain_loss: 0.2565 | Train_acc: 87.8472 % | Validation_loss: 0.7548 | Validation_acc: 67.8571 %\n",
      "\u001b[36m(launch_and_fit pid=7060)\u001b[0m Run with homomorphic encryption\n",
      "\u001b[36m(launch_and_fit pid=7060)\u001b[0m [Client 7, round 9] fit, config: {'learning_rate': 0.003, 'batch_size': '32', 'server_round': 9, 'local_epochs': 10}\n"
     ]
    },
    {
     "name": "stderr",
     "output_type": "stream",
     "text": [
      "  0%|\u001b[34m          \u001b[0m| 0/10 [00:00<?, ?it/s]\n"
     ]
    },
    {
     "name": "stdout",
     "output_type": "stream",
     "text": [
      "\u001b[36m(launch_and_fit pid=7060)\u001b[0m Updated model\n"
     ]
    },
    {
     "name": "stderr",
     "output_type": "stream",
     "text": [
      " 40%|\u001b[34m████      \u001b[0m| 4/10 [00:08<00:12,  2.01s/it]\u001b[32m [repeated 6x across cluster]\u001b[0m\n"
     ]
    },
    {
     "name": "stdout",
     "output_type": "stream",
     "text": [
      "\u001b[36m(launch_and_fit pid=7058)\u001b[0m \tTrain Epoch: 4 \tTrain_loss: 0.0217 | Train_acc: 99.3056 % | Validation_loss: 0.7821 | Validation_acc: 67.8571 %\u001b[32m [repeated 6x across cluster]\u001b[0m\n"
     ]
    },
    {
     "name": "stderr",
     "output_type": "stream",
     "text": [
      " 70%|\u001b[34m███████   \u001b[0m| 7/10 [00:13<00:05,  1.95s/it]\u001b[32m [repeated 6x across cluster]\u001b[0m\n"
     ]
    },
    {
     "name": "stdout",
     "output_type": "stream",
     "text": [
      "\u001b[36m(launch_and_fit pid=7058)\u001b[0m \tTrain Epoch: 7 \tTrain_loss: 0.0125 | Train_acc: 99.6528 % | Validation_loss: 0.7830 | Validation_acc: 67.8571 %\u001b[32m [repeated 6x across cluster]\u001b[0m\n"
     ]
    },
    {
     "name": "stderr",
     "output_type": "stream",
     "text": [
      "100%|\u001b[34m██████████\u001b[0m| 10/10 [00:19<00:00,  1.99s/it]\u001b[32m [repeated 6x across cluster]\u001b[0m\n"
     ]
    },
    {
     "name": "stdout",
     "output_type": "stream",
     "text": [
      "\u001b[36m(launch_and_fit pid=7058)\u001b[0m save graph in  results/FL/\n",
      "\u001b[36m(launch_and_fit pid=7058)\u001b[0m \tTrain Epoch: 10 \tTrain_loss: 0.0115 | Train_acc: 99.3056 % | Validation_loss: 0.7653 | Validation_acc: 67.8571 %\u001b[32m [repeated 6x across cluster]\u001b[0m\n",
      "\u001b[36m(launch_and_fit pid=7058)\u001b[0m features.0.weight 5.0067901611328125e-06\n",
      "\u001b[36m(launch_and_fit pid=7058)\u001b[0m features.0.bias 1.6689300537109375e-06\n",
      "\u001b[36m(launch_and_fit pid=7058)\u001b[0m features.3.weight 1.6689300537109375e-06\n",
      "\u001b[36m(launch_and_fit pid=7058)\u001b[0m features.3.bias 1.430511474609375e-06\n",
      "\u001b[36m(launch_and_fit pid=7058)\u001b[0m classifier.0.weight 1.430511474609375e-06\n",
      "\u001b[36m(launch_and_fit pid=7058)\u001b[0m classifier.0.bias 1.1920928955078125e-06\n",
      "\u001b[36m(launch_and_fit pid=7058)\u001b[0m classifier.2.weight 1.1920928955078125e-06\n",
      "\u001b[36m(launch_and_fit pid=7058)\u001b[0m classifier.2.bias 1.430511474609375e-06\n",
      "\u001b[36m(launch_and_fit pid=7058)\u001b[0m classifier.3.weights 1.6689300537109375e-06\n",
      "\u001b[36m(launch_and_fit pid=7058)\u001b[0m classifier.4.weight 1.1920928955078125e-06\n",
      "\u001b[36m(launch_and_fit pid=7058)\u001b[0m classifier.4.bias 1.430511474609375e-06\n",
      "\u001b[36m(launch_and_fit pid=7140)\u001b[0m Run with homomorphic encryption\n",
      "\u001b[36m(launch_and_fit pid=7060)\u001b[0m save graph in  results/FL/\n",
      "\u001b[36m(launch_and_fit pid=7060)\u001b[0m \tTrain Epoch: 10 \tTrain_loss: 0.0024 | Train_acc: 100.0000 % | Validation_loss: 0.9737 | Validation_acc: 71.4286 %\n",
      "\u001b[36m(launch_and_fit pid=7060)\u001b[0m classifier.4.bias 2.1457672119140625e-06\u001b[32m [repeated 11x across cluster]\u001b[0m\n",
      "\u001b[36m(launch_and_fit pid=7140)\u001b[0m [Client 8, round 9] fit, config: {'learning_rate': 0.003, 'batch_size': '32', 'server_round': 9, 'local_epochs': 10}\n",
      "\u001b[36m(launch_and_fit pid=7140)\u001b[0m Updated model\n"
     ]
    },
    {
     "name": "stderr",
     "output_type": "stream",
     "text": [
      "  0%|\u001b[34m          \u001b[0m| 0/10 [00:00<?, ?it/s]\n",
      "100%|\u001b[34m██████████\u001b[0m| 10/10 [00:20<00:00,  2.05s/it]\n"
     ]
    },
    {
     "name": "stdout",
     "output_type": "stream",
     "text": [
      "\u001b[36m(launch_and_fit pid=7140)\u001b[0m \tTrain Epoch: 1 \tTrain_loss: 0.1849 | Train_acc: 92.3611 % | Validation_loss: 0.8142 | Validation_acc: 71.4286 %\n",
      "\u001b[36m(launch_and_fit pid=7165)\u001b[0m Run with homomorphic encryption\n",
      "\u001b[36m(launch_and_fit pid=7165)\u001b[0m [Client 4, round 9] fit, config: {'learning_rate': 0.003, 'batch_size': '32', 'server_round': 9, 'local_epochs': 10}\n"
     ]
    },
    {
     "name": "stderr",
     "output_type": "stream",
     "text": [
      " 10%|\u001b[34m█         \u001b[0m| 1/10 [00:02<00:22,  2.46s/it]\n"
     ]
    },
    {
     "name": "stdout",
     "output_type": "stream",
     "text": [
      "\u001b[36m(launch_and_fit pid=7165)\u001b[0m Updated model\n"
     ]
    },
    {
     "name": "stderr",
     "output_type": "stream",
     "text": [
      "  0%|\u001b[34m          \u001b[0m| 0/10 [00:00<?, ?it/s]\n"
     ]
    },
    {
     "name": "stdout",
     "output_type": "stream",
     "text": [
      "\u001b[36m(launch_and_fit pid=7140)\u001b[0m \tTrain Epoch: 4 \tTrain_loss: 0.0097 | Train_acc: 100.0000 % | Validation_loss: 0.8371 | Validation_acc: 75.0000 %\u001b[32m [repeated 6x across cluster]\u001b[0m\n"
     ]
    },
    {
     "name": "stderr",
     "output_type": "stream",
     "text": [
      " 40%|\u001b[34m████      \u001b[0m| 4/10 [00:08<00:11,  1.98s/it]\u001b[32m [repeated 6x across cluster]\u001b[0m\n"
     ]
    },
    {
     "name": "stdout",
     "output_type": "stream",
     "text": [
      "\u001b[36m(launch_and_fit pid=7165)\u001b[0m \tTrain Epoch: 6 \tTrain_loss: 0.0091 | Train_acc: 100.0000 % | Validation_loss: 0.9177 | Validation_acc: 71.4286 %\u001b[32m [repeated 5x across cluster]\u001b[0m\n"
     ]
    },
    {
     "name": "stderr",
     "output_type": "stream",
     "text": [
      " 60%|\u001b[34m██████    \u001b[0m| 6/10 [00:12<00:08,  2.02s/it]\u001b[32m [repeated 5x across cluster]\u001b[0m\n"
     ]
    },
    {
     "name": "stdout",
     "output_type": "stream",
     "text": [
      "\u001b[36m(launch_and_fit pid=7165)\u001b[0m \tTrain Epoch: 9 \tTrain_loss: 0.0061 | Train_acc: 100.0000 % | Validation_loss: 0.9319 | Validation_acc: 71.4286 %\u001b[32m [repeated 6x across cluster]\u001b[0m\n"
     ]
    },
    {
     "name": "stderr",
     "output_type": "stream",
     "text": [
      " 90%|\u001b[34m█████████ \u001b[0m| 9/10 [00:18<00:01,  1.96s/it]\u001b[32m [repeated 6x across cluster]\u001b[0m\n"
     ]
    },
    {
     "name": "stdout",
     "output_type": "stream",
     "text": [
      "\u001b[36m(launch_and_fit pid=7140)\u001b[0m save graph in  results/FL/\n",
      "\u001b[36m(launch_and_fit pid=7140)\u001b[0m features.0.weight 5.9604644775390625e-06\n",
      "\u001b[36m(launch_and_fit pid=7140)\u001b[0m features.0.bias 1.9073486328125e-06\n",
      "\u001b[36m(launch_and_fit pid=7140)\u001b[0m features.3.weight 1.1920928955078125e-06\n",
      "\u001b[36m(launch_and_fit pid=7140)\u001b[0m features.3.bias 1.430511474609375e-06\n",
      "\u001b[36m(launch_and_fit pid=7140)\u001b[0m classifier.0.weight 1.430511474609375e-06\n",
      "\u001b[36m(launch_and_fit pid=7140)\u001b[0m classifier.0.bias 1.1920928955078125e-06\n",
      "\u001b[36m(launch_and_fit pid=7140)\u001b[0m classifier.2.weight 1.430511474609375e-06\n",
      "\u001b[36m(launch_and_fit pid=7140)\u001b[0m classifier.2.bias 1.430511474609375e-06\n",
      "\u001b[36m(launch_and_fit pid=7140)\u001b[0m classifier.3.weights 1.430511474609375e-06\n",
      "\u001b[36m(launch_and_fit pid=7140)\u001b[0m classifier.4.weight 1.1920928955078125e-06\n",
      "\u001b[36m(launch_and_fit pid=7140)\u001b[0m classifier.4.bias 1.430511474609375e-06\n",
      "\u001b[36m(launch_and_fit pid=7222)\u001b[0m Run with homomorphic encryption\n",
      "\u001b[36m(launch_and_fit pid=7165)\u001b[0m \tTrain Epoch: 10 \tTrain_loss: 0.0050 | Train_acc: 100.0000 % | Validation_loss: 0.9562 | Validation_acc: 75.0000 %\u001b[32m [repeated 2x across cluster]\u001b[0m\n",
      "\u001b[36m(launch_and_fit pid=7165)\u001b[0m save graph in  results/FL/\n",
      "\u001b[36m(launch_and_fit pid=7165)\u001b[0m classifier.4.bias 1.1920928955078125e-06\u001b[32m [repeated 11x across cluster]\u001b[0m\n",
      "\u001b[36m(launch_and_fit pid=7222)\u001b[0m [Client 1, round 9] fit, config: {'learning_rate': 0.003, 'batch_size': '32', 'server_round': 9, 'local_epochs': 10}\n",
      "\u001b[36m(launch_and_fit pid=7222)\u001b[0m Updated model\n"
     ]
    },
    {
     "name": "stderr",
     "output_type": "stream",
     "text": [
      "  0%|\u001b[34m          \u001b[0m| 0/10 [00:00<?, ?it/s]\n",
      "100%|\u001b[34m██████████\u001b[0m| 10/10 [00:20<00:00,  2.01s/it]\u001b[32m [repeated 2x across cluster]\u001b[0m\n"
     ]
    },
    {
     "name": "stdout",
     "output_type": "stream",
     "text": [
      "\u001b[36m(launch_and_fit pid=7247)\u001b[0m Run with homomorphic encryption\n",
      "\u001b[36m(launch_and_fit pid=7222)\u001b[0m \tTrain Epoch: 1 \tTrain_loss: 0.2844 | Train_acc: 85.5324 % | Validation_loss: 0.9106 | Validation_acc: 71.4286 %\n",
      "\u001b[36m(launch_and_fit pid=7247)\u001b[0m [Client 3, round 9] fit, config: {'learning_rate': 0.003, 'batch_size': '32', 'server_round': 9, 'local_epochs': 10}\n",
      "\u001b[36m(launch_and_fit pid=7247)\u001b[0m \tTrain Epoch: 1 \tTrain_loss: 0.3684 | Train_acc: 86.2269 % | Validation_loss: 0.6482 | Validation_acc: 64.2857 %\n"
     ]
    },
    {
     "name": "stderr",
     "output_type": "stream",
     "text": [
      "  0%|\u001b[34m          \u001b[0m| 0/10 [00:00<?, ?it/s]\n",
      " 20%|\u001b[34m██        \u001b[0m| 2/10 [00:04<00:17,  2.19s/it]\u001b[32m [repeated 4x across cluster]\u001b[0m\n"
     ]
    },
    {
     "name": "stdout",
     "output_type": "stream",
     "text": [
      "\u001b[36m(launch_and_fit pid=7247)\u001b[0m Updated model\n",
      "\u001b[36m(launch_and_fit pid=7247)\u001b[0m \tTrain Epoch: 4 \tTrain_loss: 0.0116 | Train_acc: 100.0000 % | Validation_loss: 0.9964 | Validation_acc: 67.8571 %\u001b[32m [repeated 6x across cluster]\u001b[0m\n"
     ]
    },
    {
     "name": "stderr",
     "output_type": "stream",
     "text": [
      " 50%|\u001b[34m█████     \u001b[0m| 5/10 [00:10<00:10,  2.04s/it]\u001b[32m [repeated 6x across cluster]\u001b[0m\n"
     ]
    },
    {
     "name": "stdout",
     "output_type": "stream",
     "text": [
      "\u001b[36m(launch_and_fit pid=7247)\u001b[0m \tTrain Epoch: 7 \tTrain_loss: 0.0059 | Train_acc: 100.0000 % | Validation_loss: 1.1633 | Validation_acc: 71.4286 %\u001b[32m [repeated 6x across cluster]\u001b[0m\n"
     ]
    },
    {
     "name": "stderr",
     "output_type": "stream",
     "text": [
      " 80%|\u001b[34m████████  \u001b[0m| 8/10 [00:16<00:03,  1.94s/it]\u001b[32m [repeated 6x across cluster]\u001b[0m\n"
     ]
    },
    {
     "name": "stdout",
     "output_type": "stream",
     "text": [
      "\u001b[36m(launch_and_fit pid=7222)\u001b[0m save graph in  results/FL/\n",
      "\u001b[36m(launch_and_fit pid=7222)\u001b[0m features.0.weight 5.9604644775390625e-06\n",
      "\u001b[36m(launch_and_fit pid=7222)\u001b[0m features.0.bias 1.9073486328125e-06\n",
      "\u001b[36m(launch_and_fit pid=7222)\u001b[0m features.3.weight 1.430511474609375e-06\n",
      "\u001b[36m(launch_and_fit pid=7222)\u001b[0m features.3.bias 1.430511474609375e-06\n",
      "\u001b[36m(launch_and_fit pid=7222)\u001b[0m classifier.0.weight 1.1920928955078125e-06\n",
      "\u001b[36m(launch_and_fit pid=7222)\u001b[0m classifier.0.bias 1.1920928955078125e-06\n",
      "\u001b[36m(launch_and_fit pid=7222)\u001b[0m classifier.2.weight 9.5367431640625e-07\n",
      "\u001b[36m(launch_and_fit pid=7222)\u001b[0m classifier.2.bias 1.430511474609375e-06\n",
      "\u001b[36m(launch_and_fit pid=7222)\u001b[0m classifier.3.weights 1.430511474609375e-06\n",
      "\u001b[36m(launch_and_fit pid=7222)\u001b[0m classifier.4.weight 1.1920928955078125e-06\n",
      "\u001b[36m(launch_and_fit pid=7222)\u001b[0m classifier.4.bias 1.1920928955078125e-06\n",
      "\u001b[36m(launch_and_fit pid=7247)\u001b[0m \tTrain Epoch: 10 \tTrain_loss: 0.0049 | Train_acc: 100.0000 % | Validation_loss: 1.2276 | Validation_acc: 67.8571 %\u001b[32m [repeated 6x across cluster]\u001b[0m\n",
      "\u001b[36m(launch_and_fit pid=7304)\u001b[0m Run with homomorphic encryption\n",
      "\u001b[36m(launch_and_fit pid=7247)\u001b[0m save graph in  results/FL/\n",
      "\u001b[36m(launch_and_fit pid=7247)\u001b[0m classifier.4.bias 1.1920928955078125e-06\u001b[32m [repeated 11x across cluster]\u001b[0m\n",
      "\u001b[36m(launch_and_fit pid=7304)\u001b[0m [Client 2, round 9] fit, config: {'learning_rate': 0.003, 'batch_size': '32', 'server_round': 9, 'local_epochs': 10}\n",
      "\u001b[36m(launch_and_fit pid=7304)\u001b[0m Updated model\n"
     ]
    },
    {
     "name": "stderr",
     "output_type": "stream",
     "text": [
      "  0%|\u001b[34m          \u001b[0m| 0/10 [00:00<?, ?it/s]\n",
      "100%|\u001b[34m██████████\u001b[0m| 10/10 [00:19<00:00,  2.00s/it]\u001b[32m [repeated 4x across cluster]\u001b[0m\n"
     ]
    },
    {
     "name": "stdout",
     "output_type": "stream",
     "text": [
      "\u001b[36m(launch_and_fit pid=7304)\u001b[0m \tTrain Epoch: 1 \tTrain_loss: 0.3045 | Train_acc: 89.2361 % | Validation_loss: 0.7884 | Validation_acc: 67.8571 %\n",
      "\u001b[36m(launch_and_fit pid=7329)\u001b[0m Run with homomorphic encryption\n",
      "\u001b[36m(launch_and_fit pid=7329)\u001b[0m [Client 9, round 9] fit, config: {'learning_rate': 0.003, 'batch_size': '32', 'server_round': 9, 'local_epochs': 10}\n"
     ]
    },
    {
     "name": "stderr",
     "output_type": "stream",
     "text": [
      "  0%|\u001b[34m          \u001b[0m| 0/10 [00:00<?, ?it/s]\n",
      " 20%|\u001b[34m██        \u001b[0m| 2/10 [00:04<00:18,  2.32s/it]\u001b[32m [repeated 4x across cluster]\u001b[0m\n"
     ]
    },
    {
     "name": "stdout",
     "output_type": "stream",
     "text": [
      "\u001b[36m(launch_and_fit pid=7329)\u001b[0m Updated model\n",
      "\u001b[36m(launch_and_fit pid=7304)\u001b[0m \tTrain Epoch: 4 \tTrain_loss: 0.0192 | Train_acc: 99.6528 % | Validation_loss: 0.8571 | Validation_acc: 82.1429 %\u001b[32m [repeated 6x across cluster]\u001b[0m\n"
     ]
    },
    {
     "name": "stderr",
     "output_type": "stream",
     "text": [
      " 50%|\u001b[34m█████     \u001b[0m| 5/10 [00:10<00:10,  2.01s/it]\u001b[32m [repeated 6x across cluster]\u001b[0m\n"
     ]
    },
    {
     "name": "stdout",
     "output_type": "stream",
     "text": [
      "\u001b[36m(launch_and_fit pid=7304)\u001b[0m \tTrain Epoch: 7 \tTrain_loss: 0.0108 | Train_acc: 99.6528 % | Validation_loss: 0.9043 | Validation_acc: 78.5714 %\u001b[32m [repeated 6x across cluster]\u001b[0m\n"
     ]
    },
    {
     "name": "stderr",
     "output_type": "stream",
     "text": [
      " 80%|\u001b[34m████████  \u001b[0m| 8/10 [00:16<00:03,  1.97s/it]\u001b[32m [repeated 6x across cluster]\u001b[0m\n"
     ]
    },
    {
     "name": "stdout",
     "output_type": "stream",
     "text": [
      "\u001b[36m(launch_and_fit pid=7304)\u001b[0m save graph in  results/FL/\n",
      "\u001b[36m(launch_and_fit pid=7304)\u001b[0m \tTrain Epoch: 10 \tTrain_loss: 0.0103 | Train_acc: 99.3056 % | Validation_loss: 0.9101 | Validation_acc: 78.5714 %\u001b[32m [repeated 6x across cluster]\u001b[0m\n",
      "\u001b[36m(launch_and_fit pid=7304)\u001b[0m features.0.weight 5.9604644775390625e-06\n",
      "\u001b[36m(launch_and_fit pid=7304)\u001b[0m features.0.bias 1.0967254638671875e-05\n",
      "\u001b[36m(launch_and_fit pid=7304)\u001b[0m features.3.weight 1.6689300537109375e-06\n",
      "\u001b[36m(launch_and_fit pid=7304)\u001b[0m features.3.bias 1.430511474609375e-06\n",
      "\u001b[36m(launch_and_fit pid=7304)\u001b[0m classifier.0.weight 1.430511474609375e-06\n",
      "\u001b[36m(launch_and_fit pid=7304)\u001b[0m classifier.0.bias 1.1920928955078125e-06\n",
      "\u001b[36m(launch_and_fit pid=7304)\u001b[0m classifier.2.weight 1.430511474609375e-06\n",
      "\u001b[36m(launch_and_fit pid=7304)\u001b[0m classifier.2.bias 1.1920928955078125e-06\n",
      "\u001b[36m(launch_and_fit pid=7304)\u001b[0m classifier.3.weights 1.6689300537109375e-06\n",
      "\u001b[36m(launch_and_fit pid=7304)\u001b[0m classifier.4.weight 1.1920928955078125e-06\n",
      "\u001b[36m(launch_and_fit pid=7304)\u001b[0m classifier.4.bias 1.1920928955078125e-06\n"
     ]
    },
    {
     "name": "stderr",
     "output_type": "stream",
     "text": [
      "DEBUG flwr 2024-07-24 04:54:01,368 | server.py:236 | fit_round 9 received 10 results and 0 failures\n"
     ]
    },
    {
     "name": "stdout",
     "output_type": "stream",
     "text": [
      "Saving round 9 aggregated_parameters...\n"
     ]
    },
    {
     "name": "stderr",
     "output_type": "stream",
     "text": [
      "DEBUG flwr 2024-07-24 04:54:03,485 | server.py:173 | evaluate_round 9: strategy sampled 10 clients (out of 10)\n"
     ]
    },
    {
     "name": "stdout",
     "output_type": "stream",
     "text": [
      "\u001b[36m(launch_and_evaluate pid=7395)\u001b[0m Run with homomorphic encryption\n",
      "\u001b[36m(launch_and_fit pid=7329)\u001b[0m save graph in  results/FL/\n",
      "\u001b[36m(launch_and_fit pid=7329)\u001b[0m \tTrain Epoch: 10 \tTrain_loss: 0.0066 | Train_acc: 100.0000 % | Validation_loss: 1.0973 | Validation_acc: 79.3103 %\n",
      "\u001b[36m(launch_and_fit pid=7329)\u001b[0m classifier.4.bias 1.6689300537109375e-06\u001b[32m [repeated 11x across cluster]\u001b[0m\n",
      "\u001b[36m(launch_and_evaluate pid=7395)\u001b[0m [Client 9] evaluate, config: {}\n",
      "\u001b[36m(launch_and_evaluate pid=7395)\u001b[0m Updated model\n",
      "\u001b[36m(launch_and_evaluate pid=7474)\u001b[0m Run with homomorphic encryption\u001b[32m [repeated 2x across cluster]\u001b[0m\n",
      "\u001b[36m(launch_and_evaluate pid=7396)\u001b[0m [Client 8] evaluate, config: {}\n",
      "\u001b[36m(launch_and_evaluate pid=7396)\u001b[0m Updated model\n",
      "\u001b[36m(launch_and_evaluate pid=7474)\u001b[0m [Client 1] evaluate, config: {}\n",
      "\u001b[36m(launch_and_evaluate pid=7474)\u001b[0m Updated model\n",
      "\u001b[36m(launch_and_evaluate pid=7552)\u001b[0m Run with homomorphic encryption\u001b[32m [repeated 2x across cluster]\u001b[0m\n",
      "\u001b[36m(launch_and_evaluate pid=7476)\u001b[0m [Client 3] evaluate, config: {}\n",
      "\u001b[36m(launch_and_evaluate pid=7476)\u001b[0m Updated model\n",
      "\u001b[36m(launch_and_evaluate pid=7552)\u001b[0m [Client 7] evaluate, config: {}\n",
      "\u001b[36m(launch_and_evaluate pid=7552)\u001b[0m Updated model\n",
      "\u001b[36m(launch_and_evaluate pid=7630)\u001b[0m Run with homomorphic encryption\u001b[32m [repeated 2x across cluster]\u001b[0m\n",
      "\u001b[36m(launch_and_evaluate pid=7554)\u001b[0m [Client 6] evaluate, config: {}\n",
      "\u001b[36m(launch_and_evaluate pid=7554)\u001b[0m Updated model\n",
      "\u001b[36m(launch_and_evaluate pid=7630)\u001b[0m [Client 5] evaluate, config: {}\n",
      "\u001b[36m(launch_and_evaluate pid=7630)\u001b[0m Updated model\n",
      "\u001b[36m(launch_and_evaluate pid=7710)\u001b[0m Run with homomorphic encryption\u001b[32m [repeated 2x across cluster]\u001b[0m\n",
      "\u001b[36m(launch_and_evaluate pid=7632)\u001b[0m [Client 2] evaluate, config: {}\n",
      "\u001b[36m(launch_and_evaluate pid=7632)\u001b[0m Updated model\n",
      "\u001b[36m(launch_and_evaluate pid=7710)\u001b[0m [Client 4] evaluate, config: {}\n",
      "\u001b[36m(launch_and_evaluate pid=7710)\u001b[0m Updated model\n"
     ]
    },
    {
     "name": "stderr",
     "output_type": "stream",
     "text": [
      "DEBUG flwr 2024-07-24 04:55:26,809 | server.py:187 | evaluate_round 9 received 10 results and 0 failures\n",
      "DEBUG flwr 2024-07-24 04:55:26,811 | server.py:222 | fit_round 10: strategy sampled 10 clients (out of 10)\n"
     ]
    },
    {
     "name": "stdout",
     "output_type": "stream",
     "text": [
      "\u001b[36m(launch_and_fit pid=7795)\u001b[0m Run with homomorphic encryption\u001b[32m [repeated 2x across cluster]\u001b[0m\n",
      "\u001b[36m(launch_and_evaluate pid=7708)\u001b[0m [Client 0] evaluate, config: {}\n",
      "\u001b[36m(launch_and_evaluate pid=7708)\u001b[0m Updated model\n",
      "\u001b[36m(launch_and_fit pid=7795)\u001b[0m [Client 8, round 10] fit, config: {'learning_rate': 0.003, 'batch_size': '32', 'server_round': 10, 'local_epochs': 10}\n",
      "\u001b[36m(launch_and_fit pid=7795)\u001b[0m Updated model\n"
     ]
    },
    {
     "name": "stderr",
     "output_type": "stream",
     "text": [
      "  0%|\u001b[34m          \u001b[0m| 0/10 [00:00<?, ?it/s]\n",
      "100%|\u001b[34m██████████\u001b[0m| 10/10 [00:20<00:00,  2.02s/it]\u001b[32m [repeated 4x across cluster]\u001b[0m\n"
     ]
    },
    {
     "name": "stdout",
     "output_type": "stream",
     "text": [
      "\u001b[36m(launch_and_fit pid=7795)\u001b[0m \tTrain Epoch: 1 \tTrain_loss: 0.1389 | Train_acc: 95.4861 % | Validation_loss: 0.7629 | Validation_acc: 78.5714 %\n",
      "\u001b[36m(launch_and_fit pid=7796)\u001b[0m Run with homomorphic encryption\n",
      "\u001b[36m(launch_and_fit pid=7796)\u001b[0m [Client 0, round 10] fit, config: {'learning_rate': 0.003, 'batch_size': '32', 'server_round': 10, 'local_epochs': 10}\n",
      "\u001b[36m(launch_and_fit pid=7796)\u001b[0m Updated model\n"
     ]
    },
    {
     "name": "stderr",
     "output_type": "stream",
     "text": [
      "  0%|\u001b[34m          \u001b[0m| 0/10 [00:00<?, ?it/s]\n",
      " 30%|\u001b[34m███       \u001b[0m| 3/10 [00:06<00:14,  2.04s/it]\u001b[32m [repeated 5x across cluster]\u001b[0m\n"
     ]
    },
    {
     "name": "stdout",
     "output_type": "stream",
     "text": [
      "\u001b[36m(launch_and_fit pid=7795)\u001b[0m \tTrain Epoch: 4 \tTrain_loss: 0.0051 | Train_acc: 100.0000 % | Validation_loss: 0.9509 | Validation_acc: 75.0000 %\u001b[32m [repeated 6x across cluster]\u001b[0m\n"
     ]
    },
    {
     "name": "stderr",
     "output_type": "stream",
     "text": [
      " 60%|\u001b[34m██████    \u001b[0m| 6/10 [00:12<00:08,  2.02s/it]\u001b[32m [repeated 6x across cluster]\u001b[0m\n"
     ]
    },
    {
     "name": "stdout",
     "output_type": "stream",
     "text": [
      "\u001b[36m(launch_and_fit pid=7795)\u001b[0m \tTrain Epoch: 7 \tTrain_loss: 0.0023 | Train_acc: 100.0000 % | Validation_loss: 1.0833 | Validation_acc: 75.0000 %\u001b[32m [repeated 6x across cluster]\u001b[0m\n"
     ]
    },
    {
     "name": "stderr",
     "output_type": "stream",
     "text": [
      " 90%|\u001b[34m█████████ \u001b[0m| 9/10 [00:18<00:01,  1.94s/it]\u001b[32m [repeated 6x across cluster]\u001b[0m\n"
     ]
    },
    {
     "name": "stdout",
     "output_type": "stream",
     "text": [
      "\u001b[36m(launch_and_fit pid=7795)\u001b[0m save graph in  results/FL/\n",
      "\u001b[36m(launch_and_fit pid=7795)\u001b[0m \tTrain Epoch: 10 \tTrain_loss: 0.0016 | Train_acc: 100.0000 % | Validation_loss: 1.0879 | Validation_acc: 75.0000 %\u001b[32m [repeated 6x across cluster]\u001b[0m\n",
      "\u001b[36m(launch_and_fit pid=7795)\u001b[0m features.0.weight 6.67572021484375e-06\n",
      "\u001b[36m(launch_and_fit pid=7795)\u001b[0m features.0.bias 1.430511474609375e-06\n",
      "\u001b[36m(launch_and_fit pid=7795)\u001b[0m features.3.weight 1.1920928955078125e-06\n",
      "\u001b[36m(launch_and_fit pid=7795)\u001b[0m features.3.bias 1.430511474609375e-06\n",
      "\u001b[36m(launch_and_fit pid=7795)\u001b[0m classifier.0.weight 2.09808349609375e-05\n",
      "\u001b[36m(launch_and_fit pid=7795)\u001b[0m classifier.0.bias 1.6689300537109375e-06\n",
      "\u001b[36m(launch_and_fit pid=7795)\u001b[0m classifier.2.weight 1.1920928955078125e-06\n",
      "\u001b[36m(launch_and_fit pid=7795)\u001b[0m classifier.2.bias 1.430511474609375e-06\n",
      "\u001b[36m(launch_and_fit pid=7795)\u001b[0m classifier.3.weights 1.430511474609375e-06\n",
      "\u001b[36m(launch_and_fit pid=7795)\u001b[0m classifier.4.weight 1.430511474609375e-06\n",
      "\u001b[36m(launch_and_fit pid=7795)\u001b[0m classifier.4.bias 1.1920928955078125e-06\n",
      "\u001b[36m(launch_and_fit pid=7876)\u001b[0m Run with homomorphic encryption\n",
      "\u001b[36m(launch_and_fit pid=7796)\u001b[0m save graph in  results/FL/\n",
      "\u001b[36m(launch_and_fit pid=7796)\u001b[0m \tTrain Epoch: 10 \tTrain_loss: 0.0028 | Train_acc: 100.0000 % | Validation_loss: 1.5866 | Validation_acc: 64.2857 %\n",
      "\u001b[36m(launch_and_fit pid=7796)\u001b[0m classifier.4.bias 1.430511474609375e-06\u001b[32m [repeated 11x across cluster]\u001b[0m\n",
      "\u001b[36m(launch_and_fit pid=7876)\u001b[0m [Client 7, round 10] fit, config: {'learning_rate': 0.003, 'batch_size': '32', 'server_round': 10, 'local_epochs': 10}\n"
     ]
    },
    {
     "name": "stderr",
     "output_type": "stream",
     "text": [
      "  0%|\u001b[34m          \u001b[0m| 0/10 [00:00<?, ?it/s]\n",
      "100%|\u001b[34m██████████\u001b[0m| 10/10 [00:19<00:00,  1.98s/it]\u001b[32m [repeated 3x across cluster]\u001b[0m\n"
     ]
    },
    {
     "name": "stdout",
     "output_type": "stream",
     "text": [
      "\u001b[36m(launch_and_fit pid=7876)\u001b[0m Updated model\n",
      "\u001b[36m(launch_and_fit pid=7876)\u001b[0m \tTrain Epoch: 1 \tTrain_loss: 0.2766 | Train_acc: 87.2685 % | Validation_loss: 0.7134 | Validation_acc: 71.4286 %\n",
      "\u001b[36m(launch_and_fit pid=7878)\u001b[0m Run with homomorphic encryption\n",
      "\u001b[36m(launch_and_fit pid=7878)\u001b[0m [Client 4, round 10] fit, config: {'learning_rate': 0.003, 'batch_size': '32', 'server_round': 10, 'local_epochs': 10}\n"
     ]
    },
    {
     "name": "stderr",
     "output_type": "stream",
     "text": [
      "  0%|\u001b[34m          \u001b[0m| 0/10 [00:00<?, ?it/s]\n",
      " 30%|\u001b[34m███       \u001b[0m| 3/10 [00:06<00:14,  2.14s/it]\u001b[32m [repeated 5x across cluster]\u001b[0m\n"
     ]
    },
    {
     "name": "stdout",
     "output_type": "stream",
     "text": [
      "\u001b[36m(launch_and_fit pid=7878)\u001b[0m Updated model\n",
      "\u001b[36m(launch_and_fit pid=7876)\u001b[0m \tTrain Epoch: 4 \tTrain_loss: 0.0053 | Train_acc: 100.0000 % | Validation_loss: 1.2518 | Validation_acc: 71.4286 %\u001b[32m [repeated 6x across cluster]\u001b[0m\n"
     ]
    },
    {
     "name": "stderr",
     "output_type": "stream",
     "text": [
      " 60%|\u001b[34m██████    \u001b[0m| 6/10 [00:12<00:07,  1.99s/it]\u001b[32m [repeated 6x across cluster]\u001b[0m\n"
     ]
    },
    {
     "name": "stdout",
     "output_type": "stream",
     "text": [
      "\u001b[36m(launch_and_fit pid=7876)\u001b[0m \tTrain Epoch: 7 \tTrain_loss: 0.0025 | Train_acc: 100.0000 % | Validation_loss: 1.2815 | Validation_acc: 71.4286 %\u001b[32m [repeated 6x across cluster]\u001b[0m\n"
     ]
    },
    {
     "name": "stderr",
     "output_type": "stream",
     "text": [
      " 90%|\u001b[34m█████████ \u001b[0m| 9/10 [00:18<00:01,  1.95s/it]\u001b[32m [repeated 6x across cluster]\u001b[0m\n"
     ]
    },
    {
     "name": "stdout",
     "output_type": "stream",
     "text": [
      "\u001b[36m(launch_and_fit pid=7876)\u001b[0m save graph in  results/FL/\n",
      "\u001b[36m(launch_and_fit pid=7876)\u001b[0m \tTrain Epoch: 10 \tTrain_loss: 0.0020 | Train_acc: 100.0000 % | Validation_loss: 1.3055 | Validation_acc: 71.4286 %\u001b[32m [repeated 6x across cluster]\u001b[0m\n",
      "\u001b[36m(launch_and_fit pid=7876)\u001b[0m features.0.weight 5.7220458984375e-06\n",
      "\u001b[36m(launch_and_fit pid=7876)\u001b[0m features.0.bias 1.430511474609375e-06\n",
      "\u001b[36m(launch_and_fit pid=7876)\u001b[0m features.3.weight 1.6689300537109375e-06\n",
      "\u001b[36m(launch_and_fit pid=7876)\u001b[0m features.3.bias 1.1920928955078125e-06\n",
      "\u001b[36m(launch_and_fit pid=7876)\u001b[0m classifier.0.weight 1.1920928955078125e-06\n",
      "\u001b[36m(launch_and_fit pid=7876)\u001b[0m classifier.0.bias 1.430511474609375e-06\n",
      "\u001b[36m(launch_and_fit pid=7876)\u001b[0m classifier.2.weight 1.1920928955078125e-06\n",
      "\u001b[36m(launch_and_fit pid=7876)\u001b[0m classifier.2.bias 1.430511474609375e-06\n",
      "\u001b[36m(launch_and_fit pid=7876)\u001b[0m classifier.3.weights 1.6689300537109375e-06\n",
      "\u001b[36m(launch_and_fit pid=7876)\u001b[0m classifier.4.weight 1.430511474609375e-06\n",
      "\u001b[36m(launch_and_fit pid=7876)\u001b[0m classifier.4.bias 1.1920928955078125e-06\n",
      "\u001b[36m(launch_and_fit pid=7959)\u001b[0m Run with homomorphic encryption\n",
      "\u001b[36m(launch_and_fit pid=7878)\u001b[0m save graph in  results/FL/\n",
      "\u001b[36m(launch_and_fit pid=7878)\u001b[0m \tTrain Epoch: 10 \tTrain_loss: 0.0017 | Train_acc: 100.0000 % | Validation_loss: 1.2753 | Validation_acc: 60.7143 %\n",
      "\u001b[36m(launch_and_fit pid=7878)\u001b[0m classifier.4.bias 1.430511474609375e-06\u001b[32m [repeated 11x across cluster]\u001b[0m\n",
      "\u001b[36m(launch_and_fit pid=7959)\u001b[0m [Client 9, round 10] fit, config: {'learning_rate': 0.003, 'batch_size': '32', 'server_round': 10, 'local_epochs': 10}\n"
     ]
    },
    {
     "name": "stderr",
     "output_type": "stream",
     "text": [
      "  0%|\u001b[34m          \u001b[0m| 0/10 [00:00<?, ?it/s]\n",
      "100%|\u001b[34m██████████\u001b[0m| 10/10 [00:20<00:00,  2.00s/it]\u001b[32m [repeated 3x across cluster]\u001b[0m\n"
     ]
    },
    {
     "name": "stdout",
     "output_type": "stream",
     "text": [
      "\u001b[36m(launch_and_fit pid=7959)\u001b[0m Updated model\n",
      "\u001b[36m(launch_and_fit pid=7959)\u001b[0m \tTrain Epoch: 1 \tTrain_loss: 0.2731 | Train_acc: 88.9520 % | Validation_loss: 0.8216 | Validation_acc: 72.4138 %\n",
      "\u001b[36m(launch_and_fit pid=7960)\u001b[0m Run with homomorphic encryption\n",
      "\u001b[36m(launch_and_fit pid=7960)\u001b[0m [Client 2, round 10] fit, config: {'learning_rate': 0.003, 'batch_size': '32', 'server_round': 10, 'local_epochs': 10}\n"
     ]
    },
    {
     "name": "stderr",
     "output_type": "stream",
     "text": [
      "  0%|\u001b[34m          \u001b[0m| 0/10 [00:00<?, ?it/s]\n",
      " 30%|\u001b[34m███       \u001b[0m| 3/10 [00:06<00:14,  2.13s/it]\u001b[32m [repeated 5x across cluster]\u001b[0m\n"
     ]
    },
    {
     "name": "stdout",
     "output_type": "stream",
     "text": [
      "\u001b[36m(launch_and_fit pid=7960)\u001b[0m Updated model\n",
      "\u001b[36m(launch_and_fit pid=7959)\u001b[0m \tTrain Epoch: 4 \tTrain_loss: 0.0103 | Train_acc: 99.6528 % | Validation_loss: 1.1190 | Validation_acc: 79.3103 %\u001b[32m [repeated 6x across cluster]\u001b[0m\n"
     ]
    },
    {
     "name": "stderr",
     "output_type": "stream",
     "text": [
      " 60%|\u001b[34m██████    \u001b[0m| 6/10 [00:12<00:08,  2.01s/it]\u001b[32m [repeated 6x across cluster]\u001b[0m\n"
     ]
    },
    {
     "name": "stdout",
     "output_type": "stream",
     "text": [
      "\u001b[36m(launch_and_fit pid=7959)\u001b[0m \tTrain Epoch: 7 \tTrain_loss: 0.0099 | Train_acc: 99.6528 % | Validation_loss: 1.2224 | Validation_acc: 75.8621 %\u001b[32m [repeated 6x across cluster]\u001b[0m\n"
     ]
    },
    {
     "name": "stderr",
     "output_type": "stream",
     "text": [
      " 90%|\u001b[34m█████████ \u001b[0m| 9/10 [00:18<00:01,  1.95s/it]\u001b[32m [repeated 6x across cluster]\u001b[0m\n"
     ]
    },
    {
     "name": "stdout",
     "output_type": "stream",
     "text": [
      "\u001b[36m(launch_and_fit pid=7959)\u001b[0m save graph in  results/FL/\n",
      "\u001b[36m(launch_and_fit pid=7959)\u001b[0m \tTrain Epoch: 10 \tTrain_loss: 0.0040 | Train_acc: 100.0000 % | Validation_loss: 1.2017 | Validation_acc: 75.8621 %\u001b[32m [repeated 6x across cluster]\u001b[0m\n",
      "\u001b[36m(launch_and_fit pid=7959)\u001b[0m features.0.weight 5.9604644775390625e-06\n",
      "\u001b[36m(launch_and_fit pid=7959)\u001b[0m features.0.bias 1.6689300537109375e-06\n",
      "\u001b[36m(launch_and_fit pid=7959)\u001b[0m features.3.weight 1.1920928955078125e-06\n",
      "\u001b[36m(launch_and_fit pid=7959)\u001b[0m features.3.bias 1.430511474609375e-06\n",
      "\u001b[36m(launch_and_fit pid=7959)\u001b[0m classifier.0.weight 1.430511474609375e-06\n",
      "\u001b[36m(launch_and_fit pid=7959)\u001b[0m classifier.0.bias 1.430511474609375e-06\n",
      "\u001b[36m(launch_and_fit pid=7959)\u001b[0m classifier.2.weight 1.430511474609375e-06\n",
      "\u001b[36m(launch_and_fit pid=7959)\u001b[0m classifier.2.bias 1.1920928955078125e-06\n",
      "\u001b[36m(launch_and_fit pid=7959)\u001b[0m classifier.3.weights 1.6689300537109375e-06\n",
      "\u001b[36m(launch_and_fit pid=7959)\u001b[0m classifier.4.weight 1.430511474609375e-06\n",
      "\u001b[36m(launch_and_fit pid=7959)\u001b[0m classifier.4.bias 1.1920928955078125e-06\n",
      "\u001b[36m(launch_and_fit pid=8040)\u001b[0m Run with homomorphic encryption\n",
      "\u001b[36m(launch_and_fit pid=7960)\u001b[0m save graph in  results/FL/\n",
      "\u001b[36m(launch_and_fit pid=7960)\u001b[0m \tTrain Epoch: 10 \tTrain_loss: 0.0106 | Train_acc: 99.6528 % | Validation_loss: 0.9430 | Validation_acc: 78.5714 %\n",
      "\u001b[36m(launch_and_fit pid=7960)\u001b[0m classifier.4.bias 1.430511474609375e-06\u001b[32m [repeated 11x across cluster]\u001b[0m\n",
      "\u001b[36m(launch_and_fit pid=8040)\u001b[0m [Client 1, round 10] fit, config: {'learning_rate': 0.003, 'batch_size': '32', 'server_round': 10, 'local_epochs': 10}\n",
      "\u001b[36m(launch_and_fit pid=8040)\u001b[0m Updated model\n"
     ]
    },
    {
     "name": "stderr",
     "output_type": "stream",
     "text": [
      "  0%|\u001b[34m          \u001b[0m| 0/10 [00:00<?, ?it/s]\n",
      "100%|\u001b[34m██████████\u001b[0m| 10/10 [00:20<00:00,  2.02s/it]\u001b[32m [repeated 3x across cluster]\u001b[0m\n"
     ]
    },
    {
     "name": "stdout",
     "output_type": "stream",
     "text": [
      "\u001b[36m(launch_and_fit pid=8040)\u001b[0m \tTrain Epoch: 1 \tTrain_loss: 0.2994 | Train_acc: 87.2685 % | Validation_loss: 0.7584 | Validation_acc: 60.7143 %\n",
      "\u001b[36m(launch_and_fit pid=8042)\u001b[0m Run with homomorphic encryption\n",
      "\u001b[36m(launch_and_fit pid=8042)\u001b[0m [Client 6, round 10] fit, config: {'learning_rate': 0.003, 'batch_size': '32', 'server_round': 10, 'local_epochs': 10}\n",
      "\u001b[36m(launch_and_fit pid=8042)\u001b[0m Updated model\n"
     ]
    },
    {
     "name": "stderr",
     "output_type": "stream",
     "text": [
      "  0%|\u001b[34m          \u001b[0m| 0/10 [00:00<?, ?it/s]\n",
      " 30%|\u001b[34m███       \u001b[0m| 3/10 [00:06<00:14,  2.02s/it]\u001b[32m [repeated 5x across cluster]\u001b[0m\n"
     ]
    },
    {
     "name": "stdout",
     "output_type": "stream",
     "text": [
      "\u001b[36m(launch_and_fit pid=8040)\u001b[0m \tTrain Epoch: 4 \tTrain_loss: 0.0182 | Train_acc: 99.6528 % | Validation_loss: 1.2689 | Validation_acc: 60.7143 %\u001b[32m [repeated 6x across cluster]\u001b[0m\n"
     ]
    },
    {
     "name": "stderr",
     "output_type": "stream",
     "text": [
      " 60%|\u001b[34m██████    \u001b[0m| 6/10 [00:11<00:07,  1.92s/it]\u001b[32m [repeated 6x across cluster]\u001b[0m\n"
     ]
    },
    {
     "name": "stdout",
     "output_type": "stream",
     "text": [
      "\u001b[36m(launch_and_fit pid=8040)\u001b[0m \tTrain Epoch: 7 \tTrain_loss: 0.0040 | Train_acc: 100.0000 % | Validation_loss: 1.3446 | Validation_acc: 60.7143 %\u001b[32m [repeated 6x across cluster]\u001b[0m\n"
     ]
    },
    {
     "name": "stderr",
     "output_type": "stream",
     "text": [
      " 90%|\u001b[34m█████████ \u001b[0m| 9/10 [00:17<00:01,  1.88s/it]\u001b[32m [repeated 6x across cluster]\u001b[0m\n"
     ]
    },
    {
     "name": "stdout",
     "output_type": "stream",
     "text": [
      "\u001b[36m(launch_and_fit pid=8040)\u001b[0m save graph in  results/FL/\n",
      "\u001b[36m(launch_and_fit pid=8040)\u001b[0m \tTrain Epoch: 10 \tTrain_loss: 0.0025 | Train_acc: 100.0000 % | Validation_loss: 1.3607 | Validation_acc: 60.7143 %\u001b[32m [repeated 6x across cluster]\u001b[0m\n",
      "\u001b[36m(launch_and_fit pid=8040)\u001b[0m features.0.weight 5.4836273193359375e-06\n",
      "\u001b[36m(launch_and_fit pid=8040)\u001b[0m features.0.bias 1.9073486328125e-06\n",
      "\u001b[36m(launch_and_fit pid=8040)\u001b[0m features.3.weight 1.6689300537109375e-06\n",
      "\u001b[36m(launch_and_fit pid=8040)\u001b[0m features.3.bias 1.1920928955078125e-06\n",
      "\u001b[36m(launch_and_fit pid=8040)\u001b[0m classifier.0.weight 1.430511474609375e-06\n",
      "\u001b[36m(launch_and_fit pid=8040)\u001b[0m classifier.0.bias 1.430511474609375e-06\n",
      "\u001b[36m(launch_and_fit pid=8040)\u001b[0m classifier.2.weight 1.1920928955078125e-06\n",
      "\u001b[36m(launch_and_fit pid=8040)\u001b[0m classifier.2.bias 1.1920928955078125e-06\n",
      "\u001b[36m(launch_and_fit pid=8040)\u001b[0m classifier.3.weights 1.9073486328125e-06\n",
      "\u001b[36m(launch_and_fit pid=8040)\u001b[0m classifier.4.weight 1.9073486328125e-06\n",
      "\u001b[36m(launch_and_fit pid=8040)\u001b[0m classifier.4.bias 1.1920928955078125e-06\n",
      "\u001b[36m(launch_and_fit pid=8122)\u001b[0m Run with homomorphic encryption\n",
      "\u001b[36m(launch_and_fit pid=8042)\u001b[0m save graph in  results/FL/\n",
      "\u001b[36m(launch_and_fit pid=8042)\u001b[0m \tTrain Epoch: 10 \tTrain_loss: 0.0077 | Train_acc: 99.6528 % | Validation_loss: 0.7058 | Validation_acc: 75.0000 %\n",
      "\u001b[36m(launch_and_fit pid=8042)\u001b[0m classifier.4.bias 1.1920928955078125e-06\u001b[32m [repeated 11x across cluster]\u001b[0m\n",
      "\u001b[36m(launch_and_fit pid=8122)\u001b[0m [Client 5, round 10] fit, config: {'learning_rate': 0.003, 'batch_size': '32', 'server_round': 10, 'local_epochs': 10}\n"
     ]
    },
    {
     "name": "stderr",
     "output_type": "stream",
     "text": [
      "  0%|\u001b[34m          \u001b[0m| 0/10 [00:00<?, ?it/s]\n",
      "100%|\u001b[34m██████████\u001b[0m| 10/10 [00:19<00:00,  1.94s/it]\u001b[32m [repeated 3x across cluster]\u001b[0m\n"
     ]
    },
    {
     "name": "stdout",
     "output_type": "stream",
     "text": [
      "\u001b[36m(launch_and_fit pid=8122)\u001b[0m Updated model\n",
      "\u001b[36m(launch_and_fit pid=8122)\u001b[0m \tTrain Epoch: 1 \tTrain_loss: 0.3526 | Train_acc: 85.0694 % | Validation_loss: 1.4347 | Validation_acc: 50.0000 %\n",
      "\u001b[36m(launch_and_fit pid=8124)\u001b[0m Run with homomorphic encryption\n",
      "\u001b[36m(launch_and_fit pid=8124)\u001b[0m [Client 3, round 10] fit, config: {'learning_rate': 0.003, 'batch_size': '32', 'server_round': 10, 'local_epochs': 10}\n"
     ]
    },
    {
     "name": "stderr",
     "output_type": "stream",
     "text": [
      "  0%|\u001b[34m          \u001b[0m| 0/10 [00:00<?, ?it/s]\n",
      " 30%|\u001b[34m███       \u001b[0m| 3/10 [00:06<00:14,  2.01s/it]\u001b[32m [repeated 5x across cluster]\u001b[0m\n"
     ]
    },
    {
     "name": "stdout",
     "output_type": "stream",
     "text": [
      "\u001b[36m(launch_and_fit pid=8124)\u001b[0m Updated model\n",
      "\u001b[36m(launch_and_fit pid=8122)\u001b[0m \tTrain Epoch: 4 \tTrain_loss: 0.0212 | Train_acc: 99.3056 % | Validation_loss: 1.5065 | Validation_acc: 57.1429 %\u001b[32m [repeated 6x across cluster]\u001b[0m\n"
     ]
    },
    {
     "name": "stderr",
     "output_type": "stream",
     "text": [
      " 60%|\u001b[34m██████    \u001b[0m| 6/10 [00:11<00:07,  1.88s/it]\u001b[32m [repeated 6x across cluster]\u001b[0m\n"
     ]
    },
    {
     "name": "stdout",
     "output_type": "stream",
     "text": [
      "\u001b[36m(launch_and_fit pid=8122)\u001b[0m \tTrain Epoch: 7 \tTrain_loss: 0.0087 | Train_acc: 99.6528 % | Validation_loss: 1.7137 | Validation_acc: 60.7143 %\u001b[32m [repeated 6x across cluster]\u001b[0m\n"
     ]
    },
    {
     "name": "stderr",
     "output_type": "stream",
     "text": [
      " 90%|\u001b[34m█████████ \u001b[0m| 9/10 [00:17<00:01,  1.88s/it]\u001b[32m [repeated 6x across cluster]\u001b[0m\n"
     ]
    },
    {
     "name": "stdout",
     "output_type": "stream",
     "text": [
      "\u001b[36m(launch_and_fit pid=8122)\u001b[0m save graph in  results/FL/\n",
      "\u001b[36m(launch_and_fit pid=8122)\u001b[0m \tTrain Epoch: 10 \tTrain_loss: 0.0029 | Train_acc: 100.0000 % | Validation_loss: 1.6777 | Validation_acc: 57.1429 %\u001b[32m [repeated 6x across cluster]\u001b[0m\n",
      "\u001b[36m(launch_and_fit pid=8122)\u001b[0m features.0.weight 5.4836273193359375e-06\n",
      "\u001b[36m(launch_and_fit pid=8122)\u001b[0m features.0.bias 1.6689300537109375e-06\n",
      "\u001b[36m(launch_and_fit pid=8122)\u001b[0m features.3.weight 1.430511474609375e-06\n",
      "\u001b[36m(launch_and_fit pid=8122)\u001b[0m features.3.bias 1.1920928955078125e-06\n",
      "\u001b[36m(launch_and_fit pid=8122)\u001b[0m classifier.0.weight 1.430511474609375e-06\n",
      "\u001b[36m(launch_and_fit pid=8122)\u001b[0m classifier.0.bias 1.1920928955078125e-06\n",
      "\u001b[36m(launch_and_fit pid=8122)\u001b[0m classifier.2.weight 1.430511474609375e-06\n",
      "\u001b[36m(launch_and_fit pid=8122)\u001b[0m classifier.2.bias 1.1920928955078125e-06\n",
      "\u001b[36m(launch_and_fit pid=8122)\u001b[0m classifier.3.weights 1.1920928955078125e-06\n",
      "\u001b[36m(launch_and_fit pid=8122)\u001b[0m classifier.4.weight 1.430511474609375e-06\n",
      "\u001b[36m(launch_and_fit pid=8122)\u001b[0m classifier.4.bias 1.1920928955078125e-06\n"
     ]
    },
    {
     "name": "stderr",
     "output_type": "stream",
     "text": [
      "DEBUG flwr 2024-07-24 04:58:27,683 | server.py:236 | fit_round 10 received 10 results and 0 failures\n"
     ]
    },
    {
     "name": "stdout",
     "output_type": "stream",
     "text": [
      "Saving round 10 aggregated_parameters...\n"
     ]
    },
    {
     "name": "stderr",
     "output_type": "stream",
     "text": [
      "DEBUG flwr 2024-07-24 04:58:29,773 | server.py:173 | evaluate_round 10: strategy sampled 10 clients (out of 10)\n"
     ]
    },
    {
     "name": "stdout",
     "output_type": "stream",
     "text": [
      "\u001b[36m(launch_and_evaluate pid=8214)\u001b[0m Run with homomorphic encryption\n",
      "\u001b[36m(launch_and_fit pid=8124)\u001b[0m save graph in  results/FL/\n",
      "\u001b[36m(launch_and_fit pid=8124)\u001b[0m \tTrain Epoch: 10 \tTrain_loss: 0.0037 | Train_acc: 100.0000 % | Validation_loss: 0.9462 | Validation_acc: 67.8571 %\n",
      "\u001b[36m(launch_and_fit pid=8124)\u001b[0m classifier.4.bias 1.6689300537109375e-06\u001b[32m [repeated 11x across cluster]\u001b[0m\n",
      "\u001b[36m(launch_and_evaluate pid=8214)\u001b[0m [Client 1] evaluate, config: {}\n",
      "\u001b[36m(launch_and_evaluate pid=8214)\u001b[0m Updated model\n",
      "\u001b[36m(launch_and_evaluate pid=8292)\u001b[0m Run with homomorphic encryption\u001b[32m [repeated 2x across cluster]\u001b[0m\n",
      "\u001b[36m(launch_and_evaluate pid=8213)\u001b[0m [Client 7] evaluate, config: {}\n",
      "\u001b[36m(launch_and_evaluate pid=8213)\u001b[0m Updated model\n",
      "\u001b[36m(launch_and_evaluate pid=8292)\u001b[0m [Client 8] evaluate, config: {}\n",
      "\u001b[36m(launch_and_evaluate pid=8292)\u001b[0m Updated model\n",
      "\u001b[36m(launch_and_evaluate pid=8370)\u001b[0m Run with homomorphic encryption\u001b[32m [repeated 2x across cluster]\u001b[0m\n",
      "\u001b[36m(launch_and_evaluate pid=8294)\u001b[0m [Client 9] evaluate, config: {}\n",
      "\u001b[36m(launch_and_evaluate pid=8294)\u001b[0m Updated model\n",
      "\u001b[36m(launch_and_evaluate pid=8370)\u001b[0m [Client 4] evaluate, config: {}\n",
      "\u001b[36m(launch_and_evaluate pid=8370)\u001b[0m Updated model\n",
      "\u001b[36m(launch_and_evaluate pid=8448)\u001b[0m Run with homomorphic encryption\u001b[32m [repeated 2x across cluster]\u001b[0m\n",
      "\u001b[36m(launch_and_evaluate pid=8372)\u001b[0m [Client 3] evaluate, config: {}\n",
      "\u001b[36m(launch_and_evaluate pid=8372)\u001b[0m Updated model\n",
      "\u001b[36m(launch_and_evaluate pid=8448)\u001b[0m [Client 5] evaluate, config: {}\n",
      "\u001b[36m(launch_and_evaluate pid=8448)\u001b[0m Updated model\n",
      "\u001b[36m(launch_and_evaluate pid=8526)\u001b[0m Run with homomorphic encryption\u001b[32m [repeated 2x across cluster]\u001b[0m\n",
      "\u001b[36m(launch_and_evaluate pid=8450)\u001b[0m [Client 6] evaluate, config: {}\n",
      "\u001b[36m(launch_and_evaluate pid=8450)\u001b[0m Updated model\n",
      "\u001b[36m(launch_and_evaluate pid=8526)\u001b[0m [Client 0] evaluate, config: {}\n",
      "\u001b[36m(launch_and_evaluate pid=8526)\u001b[0m Updated model\n"
     ]
    },
    {
     "name": "stderr",
     "output_type": "stream",
     "text": [
      "DEBUG flwr 2024-07-24 04:59:52,458 | server.py:187 | evaluate_round 10 received 10 results and 0 failures\n",
      "DEBUG flwr 2024-07-24 04:59:52,459 | server.py:222 | fit_round 11: strategy sampled 10 clients (out of 10)\n"
     ]
    },
    {
     "name": "stdout",
     "output_type": "stream",
     "text": [
      "\u001b[36m(launch_and_fit pid=8613)\u001b[0m Run with homomorphic encryption\u001b[32m [repeated 2x across cluster]\u001b[0m\n",
      "\u001b[36m(launch_and_evaluate pid=8528)\u001b[0m [Client 2] evaluate, config: {}\n",
      "\u001b[36m(launch_and_evaluate pid=8528)\u001b[0m Updated model\n",
      "\u001b[36m(launch_and_fit pid=8613)\u001b[0m [Client 7, round 11] fit, config: {'learning_rate': 0.003, 'batch_size': '32', 'server_round': 11, 'local_epochs': 10}\n"
     ]
    },
    {
     "name": "stderr",
     "output_type": "stream",
     "text": [
      "  0%|\u001b[34m          \u001b[0m| 0/10 [00:00<?, ?it/s]\n",
      "100%|\u001b[34m██████████\u001b[0m| 10/10 [00:19<00:00,  1.94s/it]\u001b[32m [repeated 3x across cluster]\u001b[0m\n"
     ]
    },
    {
     "name": "stdout",
     "output_type": "stream",
     "text": [
      "\u001b[36m(launch_and_fit pid=8613)\u001b[0m Updated model\n",
      "\u001b[36m(launch_and_fit pid=8614)\u001b[0m \tTrain Epoch: 1 \tTrain_loss: 0.2922 | Train_acc: 87.6157 % | Validation_loss: 0.9429 | Validation_acc: 71.4286 %\n",
      "\u001b[36m(launch_and_fit pid=8614)\u001b[0m Run with homomorphic encryption\n",
      "\u001b[36m(launch_and_fit pid=8614)\u001b[0m [Client 2, round 11] fit, config: {'learning_rate': 0.003, 'batch_size': '32', 'server_round': 11, 'local_epochs': 10}\n"
     ]
    },
    {
     "name": "stderr",
     "output_type": "stream",
     "text": [
      "  0%|\u001b[34m          \u001b[0m| 0/10 [00:00<?, ?it/s]\n",
      " 30%|\u001b[34m███       \u001b[0m| 3/10 [00:06<00:14,  2.02s/it]\u001b[32m [repeated 5x across cluster]\u001b[0m\n"
     ]
    },
    {
     "name": "stdout",
     "output_type": "stream",
     "text": [
      "\u001b[36m(launch_and_fit pid=8614)\u001b[0m Updated model\n",
      "\u001b[36m(launch_and_fit pid=8613)\u001b[0m \tTrain Epoch: 4 \tTrain_loss: 0.0072 | Train_acc: 100.0000 % | Validation_loss: 1.2780 | Validation_acc: 78.5714 %\u001b[32m [repeated 6x across cluster]\u001b[0m\n"
     ]
    },
    {
     "name": "stderr",
     "output_type": "stream",
     "text": [
      " 60%|\u001b[34m██████    \u001b[0m| 6/10 [00:11<00:07,  1.89s/it]\u001b[32m [repeated 6x across cluster]\u001b[0m\n"
     ]
    },
    {
     "name": "stdout",
     "output_type": "stream",
     "text": [
      "\u001b[36m(launch_and_fit pid=8613)\u001b[0m \tTrain Epoch: 7 \tTrain_loss: 0.0014 | Train_acc: 100.0000 % | Validation_loss: 1.4647 | Validation_acc: 75.0000 %\u001b[32m [repeated 6x across cluster]\u001b[0m\n"
     ]
    },
    {
     "name": "stderr",
     "output_type": "stream",
     "text": [
      " 90%|\u001b[34m█████████ \u001b[0m| 9/10 [00:17<00:01,  1.89s/it]\u001b[32m [repeated 6x across cluster]\u001b[0m\n"
     ]
    },
    {
     "name": "stdout",
     "output_type": "stream",
     "text": [
      "\u001b[36m(launch_and_fit pid=8613)\u001b[0m save graph in  results/FL/\n",
      "\u001b[36m(launch_and_fit pid=8613)\u001b[0m \tTrain Epoch: 10 \tTrain_loss: 0.0010 | Train_acc: 100.0000 % | Validation_loss: 1.5272 | Validation_acc: 75.0000 %\u001b[32m [repeated 6x across cluster]\u001b[0m\n",
      "\u001b[36m(launch_and_fit pid=8613)\u001b[0m features.0.weight 5.7220458984375e-06\n",
      "\u001b[36m(launch_and_fit pid=8613)\u001b[0m features.0.bias 1.430511474609375e-06\n",
      "\u001b[36m(launch_and_fit pid=8613)\u001b[0m features.3.weight 1.430511474609375e-06\n",
      "\u001b[36m(launch_and_fit pid=8613)\u001b[0m features.3.bias 1.1920928955078125e-06\n",
      "\u001b[36m(launch_and_fit pid=8613)\u001b[0m classifier.0.weight 1.1920928955078125e-06\n",
      "\u001b[36m(launch_and_fit pid=8613)\u001b[0m classifier.0.bias 1.430511474609375e-06\n",
      "\u001b[36m(launch_and_fit pid=8613)\u001b[0m classifier.2.weight 1.430511474609375e-06\n",
      "\u001b[36m(launch_and_fit pid=8613)\u001b[0m classifier.2.bias 1.1920928955078125e-06\n",
      "\u001b[36m(launch_and_fit pid=8613)\u001b[0m classifier.3.weights 1.430511474609375e-06\n",
      "\u001b[36m(launch_and_fit pid=8613)\u001b[0m classifier.4.weight 1.1920928955078125e-06\n",
      "\u001b[36m(launch_and_fit pid=8613)\u001b[0m classifier.4.bias 1.430511474609375e-06\n",
      "\u001b[36m(launch_and_fit pid=8694)\u001b[0m Run with homomorphic encryption\n",
      "\u001b[36m(launch_and_fit pid=8614)\u001b[0m save graph in  results/FL/\n",
      "\u001b[36m(launch_and_fit pid=8614)\u001b[0m \tTrain Epoch: 10 \tTrain_loss: 0.0075 | Train_acc: 99.6528 % | Validation_loss: 0.9274 | Validation_acc: 82.1429 %\n",
      "\u001b[36m(launch_and_fit pid=8614)\u001b[0m classifier.4.bias 1.1920928955078125e-06\u001b[32m [repeated 11x across cluster]\u001b[0m\n",
      "\u001b[36m(launch_and_fit pid=8694)\u001b[0m [Client 9, round 11] fit, config: {'learning_rate': 0.003, 'batch_size': '32', 'server_round': 11, 'local_epochs': 10}\n",
      "\u001b[36m(launch_and_fit pid=8694)\u001b[0m Updated model\n"
     ]
    },
    {
     "name": "stderr",
     "output_type": "stream",
     "text": [
      "  0%|\u001b[34m          \u001b[0m| 0/10 [00:00<?, ?it/s]\n",
      "100%|\u001b[34m██████████\u001b[0m| 10/10 [00:19<00:00,  1.93s/it]\u001b[32m [repeated 3x across cluster]\u001b[0m\n"
     ]
    },
    {
     "name": "stdout",
     "output_type": "stream",
     "text": [
      "\u001b[36m(launch_and_fit pid=8694)\u001b[0m \tTrain Epoch: 1 \tTrain_loss: 0.1957 | Train_acc: 92.3611 % | Validation_loss: 1.0367 | Validation_acc: 75.8621 %\n",
      "\u001b[36m(launch_and_fit pid=8696)\u001b[0m Run with homomorphic encryption\n",
      "\u001b[36m(launch_and_fit pid=8696)\u001b[0m [Client 8, round 11] fit, config: {'learning_rate': 0.003, 'batch_size': '32', 'server_round': 11, 'local_epochs': 10}\n"
     ]
    },
    {
     "name": "stderr",
     "output_type": "stream",
     "text": [
      "  0%|\u001b[34m          \u001b[0m| 0/10 [00:00<?, ?it/s]\n",
      " 30%|\u001b[34m███       \u001b[0m| 3/10 [00:06<00:13,  1.97s/it]\u001b[32m [repeated 5x across cluster]\u001b[0m\n"
     ]
    },
    {
     "name": "stdout",
     "output_type": "stream",
     "text": [
      "\u001b[36m(launch_and_fit pid=8696)\u001b[0m Updated model\n",
      "\u001b[36m(launch_and_fit pid=8696)\u001b[0m \tTrain Epoch: 4 \tTrain_loss: 0.0032 | Train_acc: 100.0000 % | Validation_loss: 0.9815 | Validation_acc: 78.5714 %\u001b[32m [repeated 6x across cluster]\u001b[0m\n"
     ]
    },
    {
     "name": "stderr",
     "output_type": "stream",
     "text": [
      " 60%|\u001b[34m██████    \u001b[0m| 6/10 [00:11<00:07,  1.91s/it]\u001b[32m [repeated 6x across cluster]\u001b[0m\n"
     ]
    },
    {
     "name": "stdout",
     "output_type": "stream",
     "text": [
      "\u001b[36m(launch_and_fit pid=8696)\u001b[0m \tTrain Epoch: 7 \tTrain_loss: 0.0016 | Train_acc: 100.0000 % | Validation_loss: 1.0692 | Validation_acc: 78.5714 %\u001b[32m [repeated 6x across cluster]\u001b[0m\n"
     ]
    },
    {
     "name": "stderr",
     "output_type": "stream",
     "text": [
      " 90%|\u001b[34m█████████ \u001b[0m| 9/10 [00:17<00:01,  1.87s/it]\u001b[32m [repeated 6x across cluster]\u001b[0m\n"
     ]
    },
    {
     "name": "stdout",
     "output_type": "stream",
     "text": [
      "\u001b[36m(launch_and_fit pid=8696)\u001b[0m save graph in  results/FL/\n",
      "\u001b[36m(launch_and_fit pid=8696)\u001b[0m \tTrain Epoch: 10 \tTrain_loss: 0.0013 | Train_acc: 100.0000 % | Validation_loss: 1.1154 | Validation_acc: 75.0000 %\u001b[32m [repeated 6x across cluster]\u001b[0m\n",
      "\u001b[36m(launch_and_fit pid=8696)\u001b[0m features.0.weight 6.4373016357421875e-06\n",
      "\u001b[36m(launch_and_fit pid=8696)\u001b[0m features.0.bias 1.9073486328125e-06\n",
      "\u001b[36m(launch_and_fit pid=8696)\u001b[0m features.3.weight 1.430511474609375e-06\n",
      "\u001b[36m(launch_and_fit pid=8696)\u001b[0m features.3.bias 1.1920928955078125e-06\n",
      "\u001b[36m(launch_and_fit pid=8696)\u001b[0m classifier.0.weight 1.6689300537109375e-06\n",
      "\u001b[36m(launch_and_fit pid=8696)\u001b[0m classifier.0.bias 1.6689300537109375e-06\n",
      "\u001b[36m(launch_and_fit pid=8696)\u001b[0m classifier.2.weight 1.1920928955078125e-06\n",
      "\u001b[36m(launch_and_fit pid=8696)\u001b[0m classifier.2.bias 1.1920928955078125e-06\n",
      "\u001b[36m(launch_and_fit pid=8696)\u001b[0m classifier.3.weights 1.6689300537109375e-06\n",
      "\u001b[36m(launch_and_fit pid=8696)\u001b[0m classifier.4.weight 1.1920928955078125e-06\n",
      "\u001b[36m(launch_and_fit pid=8696)\u001b[0m classifier.4.bias 1.1920928955078125e-06\n",
      "\u001b[36m(launch_and_fit pid=8776)\u001b[0m Run with homomorphic encryption\n",
      "\u001b[36m(launch_and_fit pid=8694)\u001b[0m save graph in  results/FL/\n",
      "\u001b[36m(launch_and_fit pid=8694)\u001b[0m \tTrain Epoch: 10 \tTrain_loss: 0.0024 | Train_acc: 100.0000 % | Validation_loss: 1.2136 | Validation_acc: 75.8621 %\n",
      "\u001b[36m(launch_and_fit pid=8694)\u001b[0m classifier.4.bias 1.1920928955078125e-06\u001b[32m [repeated 11x across cluster]\u001b[0m\n",
      "\u001b[36m(launch_and_fit pid=8776)\u001b[0m [Client 4, round 11] fit, config: {'learning_rate': 0.003, 'batch_size': '32', 'server_round': 11, 'local_epochs': 10}\n"
     ]
    },
    {
     "name": "stderr",
     "output_type": "stream",
     "text": [
      "  0%|\u001b[34m          \u001b[0m| 0/10 [00:00<?, ?it/s]\n",
      "100%|\u001b[34m██████████\u001b[0m| 10/10 [00:19<00:00,  1.96s/it]\u001b[32m [repeated 3x across cluster]\u001b[0m\n"
     ]
    },
    {
     "name": "stdout",
     "output_type": "stream",
     "text": [
      "\u001b[36m(launch_and_fit pid=8776)\u001b[0m Updated model\n",
      "\u001b[36m(launch_and_fit pid=8776)\u001b[0m \tTrain Epoch: 1 \tTrain_loss: 0.1983 | Train_acc: 91.3194 % | Validation_loss: 1.3003 | Validation_acc: 57.1429 %\n",
      "\u001b[36m(launch_and_fit pid=8778)\u001b[0m Run with homomorphic encryption\n",
      "\u001b[36m(launch_and_fit pid=8778)\u001b[0m [Client 5, round 11] fit, config: {'learning_rate': 0.003, 'batch_size': '32', 'server_round': 11, 'local_epochs': 10}\n"
     ]
    },
    {
     "name": "stderr",
     "output_type": "stream",
     "text": [
      "  0%|\u001b[34m          \u001b[0m| 0/10 [00:00<?, ?it/s]\n",
      " 30%|\u001b[34m███       \u001b[0m| 3/10 [00:06<00:13,  1.97s/it]\u001b[32m [repeated 5x across cluster]\u001b[0m\n"
     ]
    },
    {
     "name": "stdout",
     "output_type": "stream",
     "text": [
      "\u001b[36m(launch_and_fit pid=8778)\u001b[0m Updated model\n",
      "\u001b[36m(launch_and_fit pid=8776)\u001b[0m \tTrain Epoch: 4 \tTrain_loss: 0.0135 | Train_acc: 99.6528 % | Validation_loss: 1.0618 | Validation_acc: 64.2857 %\u001b[32m [repeated 6x across cluster]\u001b[0m\n"
     ]
    },
    {
     "name": "stderr",
     "output_type": "stream",
     "text": [
      " 60%|\u001b[34m██████    \u001b[0m| 6/10 [00:11<00:07,  1.91s/it]\u001b[32m [repeated 6x across cluster]\u001b[0m\n"
     ]
    },
    {
     "name": "stdout",
     "output_type": "stream",
     "text": [
      "\u001b[36m(launch_and_fit pid=8776)\u001b[0m \tTrain Epoch: 7 \tTrain_loss: 0.0022 | Train_acc: 100.0000 % | Validation_loss: 1.3805 | Validation_acc: 60.7143 %\u001b[32m [repeated 6x across cluster]\u001b[0m\n"
     ]
    },
    {
     "name": "stderr",
     "output_type": "stream",
     "text": [
      " 90%|\u001b[34m█████████ \u001b[0m| 9/10 [00:17<00:01,  1.91s/it]\u001b[32m [repeated 6x across cluster]\u001b[0m\n"
     ]
    },
    {
     "name": "stdout",
     "output_type": "stream",
     "text": [
      "\u001b[36m(launch_and_fit pid=8776)\u001b[0m save graph in  results/FL/\n",
      "\u001b[36m(launch_and_fit pid=8776)\u001b[0m \tTrain Epoch: 10 \tTrain_loss: 0.0014 | Train_acc: 100.0000 % | Validation_loss: 1.4149 | Validation_acc: 60.7143 %\u001b[32m [repeated 6x across cluster]\u001b[0m\n",
      "\u001b[36m(launch_and_fit pid=8776)\u001b[0m features.0.weight 5.9604644775390625e-06\n",
      "\u001b[36m(launch_and_fit pid=8776)\u001b[0m features.0.bias 3.0994415283203125e-06\n",
      "\u001b[36m(launch_and_fit pid=8776)\u001b[0m features.3.weight 1.6689300537109375e-06\n",
      "\u001b[36m(launch_and_fit pid=8776)\u001b[0m features.3.bias 1.1920928955078125e-06\n",
      "\u001b[36m(launch_and_fit pid=8776)\u001b[0m classifier.0.weight 1.430511474609375e-06\n",
      "\u001b[36m(launch_and_fit pid=8776)\u001b[0m classifier.0.bias 1.6689300537109375e-06\n",
      "\u001b[36m(launch_and_fit pid=8776)\u001b[0m classifier.2.weight 1.1920928955078125e-06\n",
      "\u001b[36m(launch_and_fit pid=8776)\u001b[0m classifier.2.bias 1.430511474609375e-06\n",
      "\u001b[36m(launch_and_fit pid=8776)\u001b[0m classifier.3.weights 1.430511474609375e-06\n",
      "\u001b[36m(launch_and_fit pid=8776)\u001b[0m classifier.4.weight 1.1920928955078125e-06\n",
      "\u001b[36m(launch_and_fit pid=8776)\u001b[0m classifier.4.bias 1.430511474609375e-06\n",
      "\u001b[36m(launch_and_fit pid=8858)\u001b[0m Run with homomorphic encryption\n",
      "\u001b[36m(launch_and_fit pid=8778)\u001b[0m save graph in  results/FL/\n",
      "\u001b[36m(launch_and_fit pid=8778)\u001b[0m \tTrain Epoch: 10 \tTrain_loss: 0.0015 | Train_acc: 100.0000 % | Validation_loss: 2.0863 | Validation_acc: 50.0000 %\n",
      "\u001b[36m(launch_and_fit pid=8778)\u001b[0m classifier.4.bias 1.1920928955078125e-06\u001b[32m [repeated 11x across cluster]\u001b[0m\n",
      "\u001b[36m(launch_and_fit pid=8860)\u001b[0m [Client 6, round 11] fit, config: {'learning_rate': 0.003, 'batch_size': '32', 'server_round': 11, 'local_epochs': 10}\n",
      "\u001b[36m(launch_and_fit pid=8860)\u001b[0m Updated model\n"
     ]
    },
    {
     "name": "stderr",
     "output_type": "stream",
     "text": [
      "  0%|\u001b[34m          \u001b[0m| 0/10 [00:00<?, ?it/s]\n",
      "100%|\u001b[34m██████████\u001b[0m| 10/10 [00:18<00:00,  1.85s/it]\u001b[32m [repeated 3x across cluster]\u001b[0m\n"
     ]
    },
    {
     "name": "stdout",
     "output_type": "stream",
     "text": [
      "\u001b[36m(launch_and_fit pid=8858)\u001b[0m \tTrain Epoch: 1 \tTrain_loss: 0.1942 | Train_acc: 90.6250 % | Validation_loss: 1.0315 | Validation_acc: 60.7143 %\n",
      "\u001b[36m(launch_and_fit pid=8860)\u001b[0m Run with homomorphic encryption\n",
      "\u001b[36m(launch_and_fit pid=8858)\u001b[0m [Client 1, round 11] fit, config: {'learning_rate': 0.003, 'batch_size': '32', 'server_round': 11, 'local_epochs': 10}\n"
     ]
    },
    {
     "name": "stderr",
     "output_type": "stream",
     "text": [
      "  0%|\u001b[34m          \u001b[0m| 0/10 [00:00<?, ?it/s]\n",
      " 30%|\u001b[34m███       \u001b[0m| 3/10 [00:05<00:13,  1.94s/it]\u001b[32m [repeated 5x across cluster]\u001b[0m\n"
     ]
    },
    {
     "name": "stdout",
     "output_type": "stream",
     "text": [
      "\u001b[36m(launch_and_fit pid=8858)\u001b[0m Updated model\n",
      "\u001b[36m(launch_and_fit pid=8858)\u001b[0m \tTrain Epoch: 4 \tTrain_loss: 0.0045 | Train_acc: 100.0000 % | Validation_loss: 1.4008 | Validation_acc: 64.2857 %\u001b[32m [repeated 6x across cluster]\u001b[0m\n"
     ]
    },
    {
     "name": "stderr",
     "output_type": "stream",
     "text": [
      " 60%|\u001b[34m██████    \u001b[0m| 6/10 [00:11<00:07,  1.89s/it]\u001b[32m [repeated 6x across cluster]\u001b[0m\n"
     ]
    },
    {
     "name": "stdout",
     "output_type": "stream",
     "text": [
      "\u001b[36m(launch_and_fit pid=8858)\u001b[0m \tTrain Epoch: 7 \tTrain_loss: 0.0017 | Train_acc: 100.0000 % | Validation_loss: 1.3705 | Validation_acc: 60.7143 %\u001b[32m [repeated 6x across cluster]\u001b[0m\n"
     ]
    },
    {
     "name": "stderr",
     "output_type": "stream",
     "text": [
      " 90%|\u001b[34m█████████ \u001b[0m| 9/10 [00:16<00:01,  1.83s/it]\u001b[32m [repeated 6x across cluster]\u001b[0m\n"
     ]
    },
    {
     "name": "stdout",
     "output_type": "stream",
     "text": [
      "\u001b[36m(launch_and_fit pid=8858)\u001b[0m save graph in  results/FL/\n",
      "\u001b[36m(launch_and_fit pid=8858)\u001b[0m \tTrain Epoch: 10 \tTrain_loss: 0.0012 | Train_acc: 100.0000 % | Validation_loss: 1.4403 | Validation_acc: 60.7143 %\u001b[32m [repeated 6x across cluster]\u001b[0m\n",
      "\u001b[36m(launch_and_fit pid=8858)\u001b[0m features.0.weight 5.7220458984375e-06\n",
      "\u001b[36m(launch_and_fit pid=8858)\u001b[0m features.0.bias 1.430511474609375e-06\n",
      "\u001b[36m(launch_and_fit pid=8858)\u001b[0m features.3.weight 1.1920928955078125e-06\n",
      "\u001b[36m(launch_and_fit pid=8858)\u001b[0m features.3.bias 1.430511474609375e-06\n",
      "\u001b[36m(launch_and_fit pid=8858)\u001b[0m classifier.0.weight 1.430511474609375e-06\n",
      "\u001b[36m(launch_and_fit pid=8858)\u001b[0m classifier.0.bias 1.1920928955078125e-06\n",
      "\u001b[36m(launch_and_fit pid=8858)\u001b[0m classifier.2.weight 1.430511474609375e-06\n",
      "\u001b[36m(launch_and_fit pid=8858)\u001b[0m classifier.2.bias 1.1920928955078125e-06\n",
      "\u001b[36m(launch_and_fit pid=8858)\u001b[0m classifier.3.weights 1.1920928955078125e-06\n",
      "\u001b[36m(launch_and_fit pid=8858)\u001b[0m classifier.4.weight 1.430511474609375e-06\n",
      "\u001b[36m(launch_and_fit pid=8858)\u001b[0m classifier.4.bias 1.6689300537109375e-06\n",
      "\u001b[36m(launch_and_fit pid=8942)\u001b[0m Run with homomorphic encryption\n",
      "\u001b[36m(launch_and_fit pid=8860)\u001b[0m save graph in  results/FL/\n",
      "\u001b[36m(launch_and_fit pid=8860)\u001b[0m \tTrain Epoch: 10 \tTrain_loss: 0.0656 | Train_acc: 96.2963 % | Validation_loss: 0.6897 | Validation_acc: 78.5714 %\n",
      "\u001b[36m(launch_and_fit pid=8860)\u001b[0m classifier.4.bias 1.1920928955078125e-06\u001b[32m [repeated 11x across cluster]\u001b[0m\n",
      "\u001b[36m(launch_and_fit pid=8942)\u001b[0m [Client 0, round 11] fit, config: {'learning_rate': 0.003, 'batch_size': '32', 'server_round': 11, 'local_epochs': 10}\n"
     ]
    },
    {
     "name": "stderr",
     "output_type": "stream",
     "text": [
      "  0%|\u001b[34m          \u001b[0m| 0/10 [00:00<?, ?it/s]\n",
      "100%|\u001b[34m██████████\u001b[0m| 10/10 [00:18<00:00,  1.89s/it]\u001b[32m [repeated 3x across cluster]\u001b[0m\n"
     ]
    },
    {
     "name": "stdout",
     "output_type": "stream",
     "text": [
      "\u001b[36m(launch_and_fit pid=8942)\u001b[0m Updated model\n",
      "\u001b[36m(launch_and_fit pid=8942)\u001b[0m \tTrain Epoch: 1 \tTrain_loss: 0.2257 | Train_acc: 91.6667 % | Validation_loss: 1.0718 | Validation_acc: 67.8571 %\n",
      "\u001b[36m(launch_and_fit pid=8940)\u001b[0m Run with homomorphic encryption\n",
      "\u001b[36m(launch_and_fit pid=8940)\u001b[0m [Client 3, round 11] fit, config: {'learning_rate': 0.003, 'batch_size': '32', 'server_round': 11, 'local_epochs': 10}\n"
     ]
    },
    {
     "name": "stderr",
     "output_type": "stream",
     "text": [
      "  0%|\u001b[34m          \u001b[0m| 0/10 [00:00<?, ?it/s]\n",
      " 30%|\u001b[34m███       \u001b[0m| 3/10 [00:06<00:14,  2.04s/it]\u001b[32m [repeated 5x across cluster]\u001b[0m\n"
     ]
    },
    {
     "name": "stdout",
     "output_type": "stream",
     "text": [
      "\u001b[36m(launch_and_fit pid=8940)\u001b[0m Updated model\n",
      "\u001b[36m(launch_and_fit pid=8942)\u001b[0m \tTrain Epoch: 4 \tTrain_loss: 0.0233 | Train_acc: 99.6528 % | Validation_loss: 1.0548 | Validation_acc: 57.1429 %\u001b[32m [repeated 6x across cluster]\u001b[0m\n"
     ]
    },
    {
     "name": "stderr",
     "output_type": "stream",
     "text": [
      " 60%|\u001b[34m██████    \u001b[0m| 6/10 [00:11<00:07,  1.90s/it]\u001b[32m [repeated 6x across cluster]\u001b[0m\n"
     ]
    },
    {
     "name": "stdout",
     "output_type": "stream",
     "text": [
      "\u001b[36m(launch_and_fit pid=8942)\u001b[0m \tTrain Epoch: 7 \tTrain_loss: 0.0030 | Train_acc: 100.0000 % | Validation_loss: 1.3948 | Validation_acc: 60.7143 %\u001b[32m [repeated 6x across cluster]\u001b[0m\n"
     ]
    },
    {
     "name": "stderr",
     "output_type": "stream",
     "text": [
      " 90%|\u001b[34m█████████ \u001b[0m| 9/10 [00:17<00:01,  1.96s/it]\u001b[32m [repeated 6x across cluster]\u001b[0m\n"
     ]
    },
    {
     "name": "stdout",
     "output_type": "stream",
     "text": [
      "\u001b[36m(launch_and_fit pid=8942)\u001b[0m save graph in  results/FL/\n",
      "\u001b[36m(launch_and_fit pid=8942)\u001b[0m \tTrain Epoch: 10 \tTrain_loss: 0.0015 | Train_acc: 100.0000 % | Validation_loss: 1.5607 | Validation_acc: 57.1429 %\u001b[32m [repeated 6x across cluster]\u001b[0m\n",
      "\u001b[36m(launch_and_fit pid=8942)\u001b[0m features.0.weight 5.9604644775390625e-06\n",
      "\u001b[36m(launch_and_fit pid=8942)\u001b[0m features.0.bias 1.6689300537109375e-06\n",
      "\u001b[36m(launch_and_fit pid=8942)\u001b[0m features.3.weight 1.1920928955078125e-06\n",
      "\u001b[36m(launch_and_fit pid=8942)\u001b[0m features.3.bias 1.430511474609375e-06\n",
      "\u001b[36m(launch_and_fit pid=8942)\u001b[0m classifier.0.weight 1.1920928955078125e-06\n",
      "\u001b[36m(launch_and_fit pid=8942)\u001b[0m classifier.0.bias 1.1920928955078125e-06\n",
      "\u001b[36m(launch_and_fit pid=8942)\u001b[0m classifier.2.weight 1.430511474609375e-06\n",
      "\u001b[36m(launch_and_fit pid=8942)\u001b[0m classifier.2.bias 1.1920928955078125e-06\n",
      "\u001b[36m(launch_and_fit pid=8942)\u001b[0m classifier.3.weights 1.6689300537109375e-06\n",
      "\u001b[36m(launch_and_fit pid=8942)\u001b[0m classifier.4.weight 1.1920928955078125e-06\n",
      "\u001b[36m(launch_and_fit pid=8942)\u001b[0m classifier.4.bias 1.1920928955078125e-06\n"
     ]
    },
    {
     "name": "stderr",
     "output_type": "stream",
     "text": [
      "DEBUG flwr 2024-07-24 05:02:50,300 | server.py:236 | fit_round 11 received 10 results and 0 failures\n"
     ]
    },
    {
     "name": "stdout",
     "output_type": "stream",
     "text": [
      "Saving round 11 aggregated_parameters...\n"
     ]
    },
    {
     "name": "stderr",
     "output_type": "stream",
     "text": [
      "DEBUG flwr 2024-07-24 05:02:52,457 | server.py:173 | evaluate_round 11: strategy sampled 10 clients (out of 10)\n"
     ]
    },
    {
     "name": "stdout",
     "output_type": "stream",
     "text": [
      "\u001b[36m(launch_and_evaluate pid=9030)\u001b[0m Run with homomorphic encryption\n",
      "\u001b[36m(launch_and_fit pid=8940)\u001b[0m save graph in  results/FL/\n",
      "\u001b[36m(launch_and_fit pid=8940)\u001b[0m \tTrain Epoch: 10 \tTrain_loss: 0.0012 | Train_acc: 100.0000 % | Validation_loss: 1.2579 | Validation_acc: 64.2857 %\n",
      "\u001b[36m(launch_and_fit pid=8940)\u001b[0m classifier.4.bias 1.6689300537109375e-06\u001b[32m [repeated 11x across cluster]\u001b[0m\n",
      "\u001b[36m(launch_and_evaluate pid=9030)\u001b[0m [Client 4] evaluate, config: {}\n",
      "\u001b[36m(launch_and_evaluate pid=9030)\u001b[0m Updated model\n",
      "\u001b[36m(launch_and_evaluate pid=9110)\u001b[0m Run with homomorphic encryption\u001b[32m [repeated 2x across cluster]\u001b[0m\n",
      "\u001b[36m(launch_and_evaluate pid=9032)\u001b[0m [Client 3] evaluate, config: {}\n",
      "\u001b[36m(launch_and_evaluate pid=9032)\u001b[0m Updated model\n",
      "\u001b[36m(launch_and_evaluate pid=9110)\u001b[0m [Client 7] evaluate, config: {}\n",
      "\u001b[36m(launch_and_evaluate pid=9110)\u001b[0m Updated model\n",
      "\u001b[36m(launch_and_evaluate pid=9188)\u001b[0m Run with homomorphic encryption\u001b[32m [repeated 2x across cluster]\u001b[0m\n",
      "\u001b[36m(launch_and_evaluate pid=9112)\u001b[0m [Client 9] evaluate, config: {}\n",
      "\u001b[36m(launch_and_evaluate pid=9112)\u001b[0m Updated model\n",
      "\u001b[36m(launch_and_evaluate pid=9188)\u001b[0m [Client 6] evaluate, config: {}\n",
      "\u001b[36m(launch_and_evaluate pid=9188)\u001b[0m Updated model\n",
      "\u001b[36m(launch_and_evaluate pid=9266)\u001b[0m Run with homomorphic encryption\u001b[32m [repeated 2x across cluster]\u001b[0m\n",
      "\u001b[36m(launch_and_evaluate pid=9190)\u001b[0m [Client 5] evaluate, config: {}\n",
      "\u001b[36m(launch_and_evaluate pid=9190)\u001b[0m Updated model\n",
      "\u001b[36m(launch_and_evaluate pid=9266)\u001b[0m [Client 2] evaluate, config: {}\n",
      "\u001b[36m(launch_and_evaluate pid=9266)\u001b[0m Updated model\n",
      "\u001b[36m(launch_and_evaluate pid=9344)\u001b[0m Run with homomorphic encryption\u001b[32m [repeated 2x across cluster]\u001b[0m\n",
      "\u001b[36m(launch_and_evaluate pid=9268)\u001b[0m [Client 1] evaluate, config: {}\n",
      "\u001b[36m(launch_and_evaluate pid=9268)\u001b[0m Updated model\n",
      "\u001b[36m(launch_and_evaluate pid=9344)\u001b[0m [Client 8] evaluate, config: {}\n",
      "\u001b[36m(launch_and_evaluate pid=9344)\u001b[0m Updated model\n"
     ]
    },
    {
     "name": "stderr",
     "output_type": "stream",
     "text": [
      "DEBUG flwr 2024-07-24 05:04:15,359 | server.py:187 | evaluate_round 11 received 10 results and 0 failures\n",
      "DEBUG flwr 2024-07-24 05:04:15,361 | server.py:222 | fit_round 12: strategy sampled 10 clients (out of 10)\n"
     ]
    },
    {
     "name": "stdout",
     "output_type": "stream",
     "text": [
      "\u001b[36m(launch_and_fit pid=9431)\u001b[0m Run with homomorphic encryption\u001b[32m [repeated 2x across cluster]\u001b[0m\n",
      "\u001b[36m(launch_and_evaluate pid=9346)\u001b[0m [Client 0] evaluate, config: {}\n",
      "\u001b[36m(launch_and_evaluate pid=9346)\u001b[0m Updated model\n",
      "\u001b[36m(launch_and_fit pid=9431)\u001b[0m [Client 2, round 12] fit, config: {'learning_rate': 0.003, 'batch_size': '32', 'server_round': 12, 'local_epochs': 10}\n"
     ]
    },
    {
     "name": "stderr",
     "output_type": "stream",
     "text": [
      "  0%|\u001b[34m          \u001b[0m| 0/10 [00:00<?, ?it/s]\n",
      "100%|\u001b[34m██████████\u001b[0m| 10/10 [00:19<00:00,  1.98s/it]\u001b[32m [repeated 3x across cluster]\u001b[0m\n"
     ]
    },
    {
     "name": "stdout",
     "output_type": "stream",
     "text": [
      "\u001b[36m(launch_and_fit pid=9431)\u001b[0m Updated model\n",
      "\u001b[36m(launch_and_fit pid=9431)\u001b[0m \tTrain Epoch: 1 \tTrain_loss: 0.1989 | Train_acc: 93.0556 % | Validation_loss: 1.0781 | Validation_acc: 75.0000 %\n",
      "\u001b[36m(launch_and_fit pid=9432)\u001b[0m Run with homomorphic encryption\n",
      "\u001b[36m(launch_and_fit pid=9432)\u001b[0m [Client 9, round 12] fit, config: {'learning_rate': 0.003, 'batch_size': '32', 'server_round': 12, 'local_epochs': 10}\n"
     ]
    },
    {
     "name": "stderr",
     "output_type": "stream",
     "text": [
      "  0%|\u001b[34m          \u001b[0m| 0/10 [00:00<?, ?it/s]\n",
      " 30%|\u001b[34m███       \u001b[0m| 3/10 [00:06<00:13,  1.97s/it]\u001b[32m [repeated 5x across cluster]\u001b[0m\n"
     ]
    },
    {
     "name": "stdout",
     "output_type": "stream",
     "text": [
      "\u001b[36m(launch_and_fit pid=9432)\u001b[0m Updated model\n",
      "\u001b[36m(launch_and_fit pid=9431)\u001b[0m \tTrain Epoch: 4 \tTrain_loss: 0.0457 | Train_acc: 96.2963 % | Validation_loss: 1.1293 | Validation_acc: 75.0000 %\u001b[32m [repeated 6x across cluster]\u001b[0m\n"
     ]
    },
    {
     "name": "stderr",
     "output_type": "stream",
     "text": [
      " 60%|\u001b[34m██████    \u001b[0m| 6/10 [00:11<00:07,  1.88s/it]\u001b[32m [repeated 6x across cluster]\u001b[0m\n"
     ]
    },
    {
     "name": "stdout",
     "output_type": "stream",
     "text": [
      "\u001b[36m(launch_and_fit pid=9431)\u001b[0m \tTrain Epoch: 7 \tTrain_loss: 0.0073 | Train_acc: 99.6528 % | Validation_loss: 1.0490 | Validation_acc: 82.1429 %\u001b[32m [repeated 6x across cluster]\u001b[0m\n"
     ]
    },
    {
     "name": "stderr",
     "output_type": "stream",
     "text": [
      " 90%|\u001b[34m█████████ \u001b[0m| 9/10 [00:17<00:01,  1.85s/it]\u001b[32m [repeated 6x across cluster]\u001b[0m\n"
     ]
    },
    {
     "name": "stdout",
     "output_type": "stream",
     "text": [
      "\u001b[36m(launch_and_fit pid=9431)\u001b[0m save graph in  results/FL/\n",
      "\u001b[36m(launch_and_fit pid=9431)\u001b[0m \tTrain Epoch: 10 \tTrain_loss: 0.0075 | Train_acc: 99.3056 % | Validation_loss: 1.0836 | Validation_acc: 78.5714 %\u001b[32m [repeated 6x across cluster]\u001b[0m\n",
      "\u001b[36m(launch_and_fit pid=9431)\u001b[0m features.0.weight 6.67572021484375e-06\n",
      "\u001b[36m(launch_and_fit pid=9431)\u001b[0m features.0.bias 1.9073486328125e-06\n",
      "\u001b[36m(launch_and_fit pid=9431)\u001b[0m features.3.weight 1.6689300537109375e-06\n",
      "\u001b[36m(launch_and_fit pid=9431)\u001b[0m features.3.bias 1.6689300537109375e-06\n",
      "\u001b[36m(launch_and_fit pid=9431)\u001b[0m classifier.0.weight 1.430511474609375e-06\n",
      "\u001b[36m(launch_and_fit pid=9431)\u001b[0m classifier.0.bias 1.430511474609375e-06\n",
      "\u001b[36m(launch_and_fit pid=9431)\u001b[0m classifier.2.weight 1.1920928955078125e-06\n",
      "\u001b[36m(launch_and_fit pid=9431)\u001b[0m classifier.2.bias 1.1920928955078125e-06\n",
      "\u001b[36m(launch_and_fit pid=9431)\u001b[0m classifier.3.weights 1.6689300537109375e-06\n",
      "\u001b[36m(launch_and_fit pid=9431)\u001b[0m classifier.4.weight 1.1920928955078125e-06\n",
      "\u001b[36m(launch_and_fit pid=9431)\u001b[0m classifier.4.bias 1.430511474609375e-06\n",
      "\u001b[36m(launch_and_fit pid=9512)\u001b[0m Run with homomorphic encryption\n",
      "\u001b[36m(launch_and_fit pid=9432)\u001b[0m save graph in  results/FL/\n",
      "\u001b[36m(launch_and_fit pid=9432)\u001b[0m \tTrain Epoch: 10 \tTrain_loss: 0.0017 | Train_acc: 100.0000 % | Validation_loss: 1.1331 | Validation_acc: 79.3103 %\n",
      "\u001b[36m(launch_and_fit pid=9432)\u001b[0m classifier.4.bias 1.430511474609375e-06\u001b[32m [repeated 11x across cluster]\u001b[0m\n",
      "\u001b[36m(launch_and_fit pid=9512)\u001b[0m [Client 5, round 12] fit, config: {'learning_rate': 0.003, 'batch_size': '32', 'server_round': 12, 'local_epochs': 10}\n",
      "\u001b[36m(launch_and_fit pid=9512)\u001b[0m Updated model\n"
     ]
    },
    {
     "name": "stderr",
     "output_type": "stream",
     "text": [
      "  0%|\u001b[34m          \u001b[0m| 0/10 [00:00<?, ?it/s]\n",
      "100%|\u001b[34m██████████\u001b[0m| 10/10 [00:19<00:00,  1.95s/it]\u001b[32m [repeated 3x across cluster]\u001b[0m\n"
     ]
    },
    {
     "name": "stdout",
     "output_type": "stream",
     "text": [
      "\u001b[36m(launch_and_fit pid=9512)\u001b[0m \tTrain Epoch: 1 \tTrain_loss: 0.3301 | Train_acc: 89.3519 % | Validation_loss: 1.5206 | Validation_acc: 53.5714 %\n",
      "\u001b[36m(launch_and_fit pid=9537)\u001b[0m Run with homomorphic encryption\n",
      "\u001b[36m(launch_and_fit pid=9537)\u001b[0m [Client 4, round 12] fit, config: {'learning_rate': 0.003, 'batch_size': '32', 'server_round': 12, 'local_epochs': 10}\n",
      "\u001b[36m(launch_and_fit pid=9537)\u001b[0m Updated model\n"
     ]
    },
    {
     "name": "stderr",
     "output_type": "stream",
     "text": [
      "  0%|\u001b[34m          \u001b[0m| 0/10 [00:00<?, ?it/s]\n",
      " 20%|\u001b[34m██        \u001b[0m| 2/10 [00:04<00:16,  2.12s/it]\u001b[32m [repeated 4x across cluster]\u001b[0m\n"
     ]
    },
    {
     "name": "stdout",
     "output_type": "stream",
     "text": [
      "\u001b[36m(launch_and_fit pid=9512)\u001b[0m \tTrain Epoch: 4 \tTrain_loss: 0.0043 | Train_acc: 100.0000 % | Validation_loss: 1.9536 | Validation_acc: 57.1429 %\u001b[32m [repeated 6x across cluster]\u001b[0m\n"
     ]
    },
    {
     "name": "stderr",
     "output_type": "stream",
     "text": [
      " 50%|\u001b[34m█████     \u001b[0m| 5/10 [00:10<00:09,  1.96s/it]\u001b[32m [repeated 6x across cluster]\u001b[0m\n"
     ]
    },
    {
     "name": "stdout",
     "output_type": "stream",
     "text": [
      "\u001b[36m(launch_and_fit pid=9512)\u001b[0m \tTrain Epoch: 7 \tTrain_loss: 0.0017 | Train_acc: 100.0000 % | Validation_loss: 2.0102 | Validation_acc: 57.1429 %\u001b[32m [repeated 6x across cluster]\u001b[0m\n"
     ]
    },
    {
     "name": "stderr",
     "output_type": "stream",
     "text": [
      " 80%|\u001b[34m████████  \u001b[0m| 8/10 [00:15<00:03,  1.92s/it]\u001b[32m [repeated 6x across cluster]\u001b[0m\n"
     ]
    },
    {
     "name": "stdout",
     "output_type": "stream",
     "text": [
      "\u001b[36m(launch_and_fit pid=9512)\u001b[0m save graph in  results/FL/\n",
      "\u001b[36m(launch_and_fit pid=9512)\u001b[0m \tTrain Epoch: 10 \tTrain_loss: 0.0014 | Train_acc: 100.0000 % | Validation_loss: 2.0082 | Validation_acc: 60.7143 %\u001b[32m [repeated 6x across cluster]\u001b[0m\n",
      "\u001b[36m(launch_and_fit pid=9512)\u001b[0m features.0.weight 7.62939453125e-06\n",
      "\u001b[36m(launch_and_fit pid=9512)\u001b[0m features.0.bias 2.6226043701171875e-06\n",
      "\u001b[36m(launch_and_fit pid=9512)\u001b[0m features.3.weight 1.6689300537109375e-06\n",
      "\u001b[36m(launch_and_fit pid=9512)\u001b[0m features.3.bias 1.430511474609375e-06\n",
      "\u001b[36m(launch_and_fit pid=9512)\u001b[0m classifier.0.weight 1.9073486328125e-06\n",
      "\u001b[36m(launch_and_fit pid=9512)\u001b[0m classifier.0.bias 1.6689300537109375e-06\n",
      "\u001b[36m(launch_and_fit pid=9512)\u001b[0m classifier.2.weight 1.6689300537109375e-06\n",
      "\u001b[36m(launch_and_fit pid=9512)\u001b[0m classifier.2.bias 1.430511474609375e-06\n",
      "\u001b[36m(launch_and_fit pid=9512)\u001b[0m classifier.3.weights 1.9073486328125e-06\n",
      "\u001b[36m(launch_and_fit pid=9512)\u001b[0m classifier.4.weight 1.6689300537109375e-06\n",
      "\u001b[36m(launch_and_fit pid=9512)\u001b[0m classifier.4.bias 1.430511474609375e-06\n",
      "\u001b[36m(launch_and_fit pid=9594)\u001b[0m Run with homomorphic encryption\n",
      "\u001b[36m(launch_and_fit pid=9537)\u001b[0m save graph in  results/FL/\n",
      "\u001b[36m(launch_and_fit pid=9537)\u001b[0m \tTrain Epoch: 10 \tTrain_loss: 0.0011 | Train_acc: 100.0000 % | Validation_loss: 1.3497 | Validation_acc: 60.7143 %\n",
      "\u001b[36m(launch_and_fit pid=9537)\u001b[0m classifier.4.bias 1.430511474609375e-06\u001b[32m [repeated 11x across cluster]\u001b[0m\n",
      "\u001b[36m(launch_and_fit pid=9594)\u001b[0m [Client 0, round 12] fit, config: {'learning_rate': 0.003, 'batch_size': '32', 'server_round': 12, 'local_epochs': 10}\n"
     ]
    },
    {
     "name": "stderr",
     "output_type": "stream",
     "text": [
      "  0%|\u001b[34m          \u001b[0m| 0/10 [00:00<?, ?it/s]\n",
      "100%|\u001b[34m██████████\u001b[0m| 10/10 [00:19<00:00,  2.00s/it]\u001b[32m [repeated 4x across cluster]\u001b[0m\n"
     ]
    },
    {
     "name": "stdout",
     "output_type": "stream",
     "text": [
      "\u001b[36m(launch_and_fit pid=9594)\u001b[0m Updated model\n",
      "\u001b[36m(launch_and_fit pid=9594)\u001b[0m \tTrain Epoch: 1 \tTrain_loss: 0.2883 | Train_acc: 83.9120 % | Validation_loss: 1.1216 | Validation_acc: 75.0000 %\n",
      "\u001b[36m(launch_and_fit pid=9619)\u001b[0m Run with homomorphic encryption\n",
      "\u001b[36m(launch_and_fit pid=9619)\u001b[0m [Client 6, round 12] fit, config: {'learning_rate': 0.003, 'batch_size': '32', 'server_round': 12, 'local_epochs': 10}\n"
     ]
    },
    {
     "name": "stderr",
     "output_type": "stream",
     "text": [
      "  0%|\u001b[34m          \u001b[0m| 0/10 [00:00<?, ?it/s]\n",
      " 20%|\u001b[34m██        \u001b[0m| 2/10 [00:04<00:16,  2.09s/it]\u001b[32m [repeated 4x across cluster]\u001b[0m\n"
     ]
    },
    {
     "name": "stdout",
     "output_type": "stream",
     "text": [
      "\u001b[36m(launch_and_fit pid=9619)\u001b[0m Updated model\n",
      "\u001b[36m(launch_and_fit pid=9594)\u001b[0m \tTrain Epoch: 4 \tTrain_loss: 0.0200 | Train_acc: 99.6528 % | Validation_loss: 1.5220 | Validation_acc: 60.7143 %\u001b[32m [repeated 6x across cluster]\u001b[0m\n"
     ]
    },
    {
     "name": "stderr",
     "output_type": "stream",
     "text": [
      " 50%|\u001b[34m█████     \u001b[0m| 5/10 [00:09<00:09,  1.91s/it]\u001b[32m [repeated 6x across cluster]\u001b[0m\n"
     ]
    },
    {
     "name": "stdout",
     "output_type": "stream",
     "text": [
      "\u001b[36m(launch_and_fit pid=9594)\u001b[0m \tTrain Epoch: 7 \tTrain_loss: 0.0026 | Train_acc: 100.0000 % | Validation_loss: 1.6944 | Validation_acc: 57.1429 %\u001b[32m [repeated 6x across cluster]\u001b[0m\n"
     ]
    },
    {
     "name": "stderr",
     "output_type": "stream",
     "text": [
      " 80%|\u001b[34m████████  \u001b[0m| 8/10 [00:15<00:03,  1.92s/it]\u001b[32m [repeated 6x across cluster]\u001b[0m\n"
     ]
    },
    {
     "name": "stdout",
     "output_type": "stream",
     "text": [
      "\u001b[36m(launch_and_fit pid=9594)\u001b[0m save graph in  results/FL/\n",
      "\u001b[36m(launch_and_fit pid=9594)\u001b[0m \tTrain Epoch: 10 \tTrain_loss: 0.0018 | Train_acc: 100.0000 % | Validation_loss: 1.6829 | Validation_acc: 57.1429 %\u001b[32m [repeated 6x across cluster]\u001b[0m\n",
      "\u001b[36m(launch_and_fit pid=9594)\u001b[0m features.0.weight 7.867813110351562e-06\n",
      "\u001b[36m(launch_and_fit pid=9594)\u001b[0m features.0.bias 3.0994415283203125e-06\n",
      "\u001b[36m(launch_and_fit pid=9594)\u001b[0m features.3.weight 1.9073486328125e-06\n",
      "\u001b[36m(launch_and_fit pid=9594)\u001b[0m features.3.bias 2.384185791015625e-06\n",
      "\u001b[36m(launch_and_fit pid=9594)\u001b[0m classifier.0.weight 2.1457672119140625e-06\n",
      "\u001b[36m(launch_and_fit pid=9594)\u001b[0m classifier.0.bias 1.9073486328125e-06\n",
      "\u001b[36m(launch_and_fit pid=9594)\u001b[0m classifier.2.weight 2.1457672119140625e-06\n",
      "\u001b[36m(launch_and_fit pid=9594)\u001b[0m classifier.2.bias 1.6689300537109375e-06\n",
      "\u001b[36m(launch_and_fit pid=9594)\u001b[0m classifier.3.weights 1.9073486328125e-06\n",
      "\u001b[36m(launch_and_fit pid=9594)\u001b[0m classifier.4.weight 1.6689300537109375e-06\n",
      "\u001b[36m(launch_and_fit pid=9594)\u001b[0m classifier.4.bias 1.6689300537109375e-06\n",
      "\u001b[36m(launch_and_fit pid=9676)\u001b[0m Run with homomorphic encryption\n",
      "\u001b[36m(launch_and_fit pid=9619)\u001b[0m save graph in  results/FL/\n",
      "\u001b[36m(launch_and_fit pid=9619)\u001b[0m \tTrain Epoch: 10 \tTrain_loss: 0.0087 | Train_acc: 99.3056 % | Validation_loss: 0.6935 | Validation_acc: 75.0000 %\n",
      "\u001b[36m(launch_and_fit pid=9619)\u001b[0m classifier.4.bias 1.1920928955078125e-06\u001b[32m [repeated 11x across cluster]\u001b[0m\n",
      "\u001b[36m(launch_and_fit pid=9676)\u001b[0m [Client 8, round 12] fit, config: {'learning_rate': 0.003, 'batch_size': '32', 'server_round': 12, 'local_epochs': 10}\n",
      "\u001b[36m(launch_and_fit pid=9676)\u001b[0m Updated model\n"
     ]
    },
    {
     "name": "stderr",
     "output_type": "stream",
     "text": [
      "  0%|\u001b[34m          \u001b[0m| 0/10 [00:00<?, ?it/s]\n",
      "100%|\u001b[34m██████████\u001b[0m| 10/10 [00:19<00:00,  1.94s/it]\u001b[32m [repeated 4x across cluster]\u001b[0m\n"
     ]
    },
    {
     "name": "stdout",
     "output_type": "stream",
     "text": [
      "\u001b[36m(launch_and_fit pid=9676)\u001b[0m \tTrain Epoch: 1 \tTrain_loss: 0.1276 | Train_acc: 94.0972 % | Validation_loss: 0.9825 | Validation_acc: 75.0000 %\n",
      "\u001b[36m(launch_and_fit pid=9678)\u001b[0m Run with homomorphic encryption\n",
      "\u001b[36m(launch_and_fit pid=9678)\u001b[0m [Client 7, round 12] fit, config: {'learning_rate': 0.003, 'batch_size': '32', 'server_round': 12, 'local_epochs': 10}\n",
      "\u001b[36m(launch_and_fit pid=9678)\u001b[0m Updated model\n"
     ]
    },
    {
     "name": "stderr",
     "output_type": "stream",
     "text": [
      "  0%|\u001b[34m          \u001b[0m| 0/10 [00:00<?, ?it/s]\n",
      " 30%|\u001b[34m███       \u001b[0m| 3/10 [00:06<00:14,  2.05s/it]\u001b[32m [repeated 5x across cluster]\u001b[0m\n"
     ]
    },
    {
     "name": "stdout",
     "output_type": "stream",
     "text": [
      "\u001b[36m(launch_and_fit pid=9676)\u001b[0m \tTrain Epoch: 4 \tTrain_loss: 0.0033 | Train_acc: 100.0000 % | Validation_loss: 1.1188 | Validation_acc: 75.0000 %\u001b[32m [repeated 6x across cluster]\u001b[0m\n"
     ]
    },
    {
     "name": "stderr",
     "output_type": "stream",
     "text": [
      " 60%|\u001b[34m██████    \u001b[0m| 6/10 [00:12<00:07,  1.99s/it]\u001b[32m [repeated 6x across cluster]\u001b[0m\n"
     ]
    },
    {
     "name": "stdout",
     "output_type": "stream",
     "text": [
      "\u001b[36m(launch_and_fit pid=9676)\u001b[0m \tTrain Epoch: 7 \tTrain_loss: 0.0012 | Train_acc: 100.0000 % | Validation_loss: 1.1122 | Validation_acc: 75.0000 %\u001b[32m [repeated 6x across cluster]\u001b[0m\n"
     ]
    },
    {
     "name": "stderr",
     "output_type": "stream",
     "text": [
      " 90%|\u001b[34m█████████ \u001b[0m| 9/10 [00:18<00:01,  1.96s/it]\u001b[32m [repeated 6x across cluster]\u001b[0m\n"
     ]
    },
    {
     "name": "stdout",
     "output_type": "stream",
     "text": [
      "\u001b[36m(launch_and_fit pid=9676)\u001b[0m save graph in  results/FL/\n",
      "\u001b[36m(launch_and_fit pid=9676)\u001b[0m \tTrain Epoch: 10 \tTrain_loss: 0.0009 | Train_acc: 100.0000 % | Validation_loss: 1.1336 | Validation_acc: 75.0000 %\u001b[32m [repeated 6x across cluster]\u001b[0m\n",
      "\u001b[36m(launch_and_fit pid=9676)\u001b[0m features.0.weight 6.198883056640625e-06\n",
      "\u001b[36m(launch_and_fit pid=9676)\u001b[0m features.0.bias 1.6689300537109375e-06\n",
      "\u001b[36m(launch_and_fit pid=9676)\u001b[0m features.3.weight 1.6689300537109375e-06\n",
      "\u001b[36m(launch_and_fit pid=9676)\u001b[0m features.3.bias 1.430511474609375e-06\n",
      "\u001b[36m(launch_and_fit pid=9676)\u001b[0m classifier.0.weight 1.6689300537109375e-06\n",
      "\u001b[36m(launch_and_fit pid=9676)\u001b[0m classifier.0.bias 1.1920928955078125e-06\n",
      "\u001b[36m(launch_and_fit pid=9676)\u001b[0m classifier.2.weight 1.1920928955078125e-06\n",
      "\u001b[36m(launch_and_fit pid=9676)\u001b[0m classifier.2.bias 1.430511474609375e-06\n",
      "\u001b[36m(launch_and_fit pid=9676)\u001b[0m classifier.3.weights 1.430511474609375e-06\n",
      "\u001b[36m(launch_and_fit pid=9676)\u001b[0m classifier.4.weight 1.430511474609375e-06\n",
      "\u001b[36m(launch_and_fit pid=9676)\u001b[0m classifier.4.bias 1.1920928955078125e-06\n",
      "\u001b[36m(launch_and_fit pid=9761)\u001b[0m Run with homomorphic encryption\n",
      "\u001b[36m(launch_and_fit pid=9678)\u001b[0m save graph in  results/FL/\n",
      "\u001b[36m(launch_and_fit pid=9678)\u001b[0m \tTrain Epoch: 10 \tTrain_loss: 0.0008 | Train_acc: 100.0000 % | Validation_loss: 1.5684 | Validation_acc: 71.4286 %\n",
      "\u001b[36m(launch_and_fit pid=9678)\u001b[0m classifier.4.bias 1.1920928955078125e-06\u001b[32m [repeated 11x across cluster]\u001b[0m\n",
      "\u001b[36m(launch_and_fit pid=9761)\u001b[0m [Client 3, round 12] fit, config: {'learning_rate': 0.003, 'batch_size': '32', 'server_round': 12, 'local_epochs': 10}\n",
      "\u001b[36m(launch_and_fit pid=9761)\u001b[0m Updated model\n"
     ]
    },
    {
     "name": "stderr",
     "output_type": "stream",
     "text": [
      "  0%|\u001b[34m          \u001b[0m| 0/10 [00:00<?, ?it/s]\n",
      "100%|\u001b[34m██████████\u001b[0m| 10/10 [00:20<00:00,  2.01s/it]\u001b[32m [repeated 3x across cluster]\u001b[0m\n"
     ]
    },
    {
     "name": "stdout",
     "output_type": "stream",
     "text": [
      "\u001b[36m(launch_and_fit pid=9761)\u001b[0m \tTrain Epoch: 1 \tTrain_loss: 0.2346 | Train_acc: 90.0463 % | Validation_loss: 1.2304 | Validation_acc: 67.8571 %\n",
      "\u001b[36m(launch_and_fit pid=9762)\u001b[0m Run with homomorphic encryption\n",
      "\u001b[36m(launch_and_fit pid=9762)\u001b[0m [Client 1, round 12] fit, config: {'learning_rate': 0.003, 'batch_size': '32', 'server_round': 12, 'local_epochs': 10}\n",
      "\u001b[36m(launch_and_fit pid=9762)\u001b[0m Updated model\n"
     ]
    },
    {
     "name": "stderr",
     "output_type": "stream",
     "text": [
      "  0%|\u001b[34m          \u001b[0m| 0/10 [00:00<?, ?it/s]\n",
      " 30%|\u001b[34m███       \u001b[0m| 3/10 [00:06<00:14,  2.07s/it]\u001b[32m [repeated 5x across cluster]\u001b[0m\n"
     ]
    },
    {
     "name": "stdout",
     "output_type": "stream",
     "text": [
      "\u001b[36m(launch_and_fit pid=9761)\u001b[0m \tTrain Epoch: 4 \tTrain_loss: 0.0067 | Train_acc: 100.0000 % | Validation_loss: 1.0741 | Validation_acc: 71.4286 %\u001b[32m [repeated 6x across cluster]\u001b[0m\n"
     ]
    },
    {
     "name": "stderr",
     "output_type": "stream",
     "text": [
      " 60%|\u001b[34m██████    \u001b[0m| 6/10 [00:12<00:08,  2.04s/it]\u001b[32m [repeated 6x across cluster]\u001b[0m\n"
     ]
    },
    {
     "name": "stdout",
     "output_type": "stream",
     "text": [
      "\u001b[36m(launch_and_fit pid=9761)\u001b[0m \tTrain Epoch: 7 \tTrain_loss: 0.0012 | Train_acc: 100.0000 % | Validation_loss: 1.3539 | Validation_acc: 71.4286 %\u001b[32m [repeated 6x across cluster]\u001b[0m\n"
     ]
    },
    {
     "name": "stderr",
     "output_type": "stream",
     "text": [
      " 90%|\u001b[34m█████████ \u001b[0m| 9/10 [00:18<00:01,  1.94s/it]\u001b[32m [repeated 6x across cluster]\u001b[0m\n"
     ]
    },
    {
     "name": "stdout",
     "output_type": "stream",
     "text": [
      "\u001b[36m(launch_and_fit pid=9761)\u001b[0m save graph in  results/FL/\n",
      "\u001b[36m(launch_and_fit pid=9761)\u001b[0m \tTrain Epoch: 10 \tTrain_loss: 0.0010 | Train_acc: 100.0000 % | Validation_loss: 1.4287 | Validation_acc: 71.4286 %\u001b[32m [repeated 6x across cluster]\u001b[0m\n",
      "\u001b[36m(launch_and_fit pid=9761)\u001b[0m features.0.weight 5.4836273193359375e-06\n",
      "\u001b[36m(launch_and_fit pid=9761)\u001b[0m features.0.bias 1.6689300537109375e-06\n",
      "\u001b[36m(launch_and_fit pid=9761)\u001b[0m features.3.weight 1.430511474609375e-06\n",
      "\u001b[36m(launch_and_fit pid=9761)\u001b[0m features.3.bias 1.6689300537109375e-06\n",
      "\u001b[36m(launch_and_fit pid=9761)\u001b[0m classifier.0.weight 1.1920928955078125e-06\n",
      "\u001b[36m(launch_and_fit pid=9761)\u001b[0m classifier.0.bias 1.430511474609375e-06\n",
      "\u001b[36m(launch_and_fit pid=9761)\u001b[0m classifier.2.weight 1.6689300537109375e-06\n",
      "\u001b[36m(launch_and_fit pid=9761)\u001b[0m classifier.2.bias 1.430511474609375e-06\n",
      "\u001b[36m(launch_and_fit pid=9761)\u001b[0m classifier.3.weights 1.430511474609375e-06\n",
      "\u001b[36m(launch_and_fit pid=9761)\u001b[0m classifier.4.weight 1.430511474609375e-06\n",
      "\u001b[36m(launch_and_fit pid=9761)\u001b[0m classifier.4.bias 1.1920928955078125e-06\n"
     ]
    },
    {
     "name": "stderr",
     "output_type": "stream",
     "text": [
      "DEBUG flwr 2024-07-24 05:07:16,089 | server.py:236 | fit_round 12 received 10 results and 0 failures\n"
     ]
    },
    {
     "name": "stdout",
     "output_type": "stream",
     "text": [
      "Saving round 12 aggregated_parameters...\n"
     ]
    },
    {
     "name": "stderr",
     "output_type": "stream",
     "text": [
      "DEBUG flwr 2024-07-24 05:07:18,230 | server.py:173 | evaluate_round 12: strategy sampled 10 clients (out of 10)\n"
     ]
    },
    {
     "name": "stdout",
     "output_type": "stream",
     "text": [
      "\u001b[36m(launch_and_evaluate pid=9851)\u001b[0m Run with homomorphic encryption\n",
      "\u001b[36m(launch_and_fit pid=9762)\u001b[0m save graph in  results/FL/\n",
      "\u001b[36m(launch_and_fit pid=9762)\u001b[0m \tTrain Epoch: 10 \tTrain_loss: 0.0020 | Train_acc: 100.0000 % | Validation_loss: 1.3545 | Validation_acc: 64.2857 %\n",
      "\u001b[36m(launch_and_fit pid=9762)\u001b[0m classifier.4.bias 1.6689300537109375e-06\u001b[32m [repeated 11x across cluster]\u001b[0m\n",
      "\u001b[36m(launch_and_evaluate pid=9851)\u001b[0m [Client 2] evaluate, config: {}\n",
      "\u001b[36m(launch_and_evaluate pid=9852)\u001b[0m Updated model\n",
      "\u001b[36m(launch_and_evaluate pid=9930)\u001b[0m Run with homomorphic encryption\u001b[32m [repeated 2x across cluster]\u001b[0m\n",
      "\u001b[36m(launch_and_evaluate pid=9852)\u001b[0m [Client 0] evaluate, config: {}\n",
      "\u001b[36m(launch_and_evaluate pid=9851)\u001b[0m Updated model\n",
      "\u001b[36m(launch_and_evaluate pid=9930)\u001b[0m [Client 1] evaluate, config: {}\n",
      "\u001b[36m(launch_and_evaluate pid=9930)\u001b[0m Updated model\n",
      "\u001b[36m(launch_and_evaluate pid=10008)\u001b[0m Run with homomorphic encryption\u001b[32m [repeated 2x across cluster]\u001b[0m\n",
      "\u001b[36m(launch_and_evaluate pid=9932)\u001b[0m [Client 7] evaluate, config: {}\n",
      "\u001b[36m(launch_and_evaluate pid=9932)\u001b[0m Updated model\n",
      "\u001b[36m(launch_and_evaluate pid=10008)\u001b[0m [Client 4] evaluate, config: {}\n",
      "\u001b[36m(launch_and_evaluate pid=10008)\u001b[0m Updated model\n",
      "\u001b[36m(launch_and_evaluate pid=10087)\u001b[0m Run with homomorphic encryption\u001b[32m [repeated 2x across cluster]\u001b[0m\n",
      "\u001b[36m(launch_and_evaluate pid=10010)\u001b[0m [Client 6] evaluate, config: {}\n",
      "\u001b[36m(launch_and_evaluate pid=10010)\u001b[0m Updated model\n",
      "\u001b[36m(launch_and_evaluate pid=10087)\u001b[0m [Client 5] evaluate, config: {}\n",
      "\u001b[36m(launch_and_evaluate pid=10087)\u001b[0m Updated model\n",
      "\u001b[36m(launch_and_evaluate pid=10165)\u001b[0m Run with homomorphic encryption\u001b[32m [repeated 2x across cluster]\u001b[0m\n",
      "\u001b[36m(launch_and_evaluate pid=10089)\u001b[0m [Client 3] evaluate, config: {}\n",
      "\u001b[36m(launch_and_evaluate pid=10089)\u001b[0m Updated model\n",
      "\u001b[36m(launch_and_evaluate pid=10165)\u001b[0m [Client 8] evaluate, config: {}\n",
      "\u001b[36m(launch_and_evaluate pid=10165)\u001b[0m Updated model\n"
     ]
    },
    {
     "name": "stderr",
     "output_type": "stream",
     "text": [
      "DEBUG flwr 2024-07-24 05:08:42,083 | server.py:187 | evaluate_round 12 received 10 results and 0 failures\n",
      "DEBUG flwr 2024-07-24 05:08:42,084 | server.py:222 | fit_round 13: strategy sampled 10 clients (out of 10)\n"
     ]
    },
    {
     "name": "stdout",
     "output_type": "stream",
     "text": [
      "\u001b[36m(launch_and_fit pid=10253)\u001b[0m Run with homomorphic encryption\u001b[32m [repeated 2x across cluster]\u001b[0m\n",
      "\u001b[36m(launch_and_evaluate pid=10167)\u001b[0m [Client 9] evaluate, config: {}\n",
      "\u001b[36m(launch_and_evaluate pid=10167)\u001b[0m Updated model\n",
      "\u001b[36m(launch_and_fit pid=10253)\u001b[0m [Client 1, round 13] fit, config: {'learning_rate': 0.003, 'batch_size': '32', 'server_round': 13, 'local_epochs': 10}\n"
     ]
    },
    {
     "name": "stderr",
     "output_type": "stream",
     "text": [
      "  0%|\u001b[34m          \u001b[0m| 0/10 [00:00<?, ?it/s]\n",
      "100%|\u001b[34m██████████\u001b[0m| 10/10 [00:20<00:00,  2.03s/it]\u001b[32m [repeated 3x across cluster]\u001b[0m\n"
     ]
    },
    {
     "name": "stdout",
     "output_type": "stream",
     "text": [
      "\u001b[36m(launch_and_fit pid=10253)\u001b[0m Updated model\n",
      "\u001b[36m(launch_and_fit pid=10253)\u001b[0m \tTrain Epoch: 1 \tTrain_loss: 0.1349 | Train_acc: 93.0556 % | Validation_loss: 1.2054 | Validation_acc: 64.2857 %\n",
      "\u001b[36m(launch_and_fit pid=10252)\u001b[0m Run with homomorphic encryption\n",
      "\u001b[36m(launch_and_fit pid=10252)\u001b[0m [Client 7, round 13] fit, config: {'learning_rate': 0.003, 'batch_size': '32', 'server_round': 13, 'local_epochs': 10}\n"
     ]
    },
    {
     "name": "stderr",
     "output_type": "stream",
     "text": [
      "  0%|\u001b[34m          \u001b[0m| 0/10 [00:00<?, ?it/s]\n",
      " 30%|\u001b[34m███       \u001b[0m| 3/10 [00:06<00:14,  2.01s/it]\u001b[32m [repeated 5x across cluster]\u001b[0m\n"
     ]
    },
    {
     "name": "stdout",
     "output_type": "stream",
     "text": [
      "\u001b[36m(launch_and_fit pid=10252)\u001b[0m Updated model\n",
      "\u001b[36m(launch_and_fit pid=10253)\u001b[0m \tTrain Epoch: 4 \tTrain_loss: 0.0436 | Train_acc: 98.2639 % | Validation_loss: 1.3009 | Validation_acc: 64.2857 %\u001b[32m [repeated 6x across cluster]\u001b[0m\n"
     ]
    },
    {
     "name": "stderr",
     "output_type": "stream",
     "text": [
      " 60%|\u001b[34m██████    \u001b[0m| 6/10 [00:12<00:07,  1.96s/it]\u001b[32m [repeated 6x across cluster]\u001b[0m\n"
     ]
    },
    {
     "name": "stdout",
     "output_type": "stream",
     "text": [
      "\u001b[36m(launch_and_fit pid=10253)\u001b[0m \tTrain Epoch: 7 \tTrain_loss: 0.0017 | Train_acc: 100.0000 % | Validation_loss: 1.6884 | Validation_acc: 67.8571 %\u001b[32m [repeated 6x across cluster]\u001b[0m\n"
     ]
    },
    {
     "name": "stderr",
     "output_type": "stream",
     "text": [
      " 90%|\u001b[34m█████████ \u001b[0m| 9/10 [00:18<00:02,  2.00s/it]\u001b[32m [repeated 6x across cluster]\u001b[0m\n"
     ]
    },
    {
     "name": "stdout",
     "output_type": "stream",
     "text": [
      "\u001b[36m(launch_and_fit pid=10253)\u001b[0m save graph in  results/FL/\n",
      "\u001b[36m(launch_and_fit pid=10253)\u001b[0m \tTrain Epoch: 10 \tTrain_loss: 0.0009 | Train_acc: 100.0000 % | Validation_loss: 1.4274 | Validation_acc: 67.8571 %\u001b[32m [repeated 6x across cluster]\u001b[0m\n",
      "\u001b[36m(launch_and_fit pid=10253)\u001b[0m features.0.weight 5.7220458984375e-06\n",
      "\u001b[36m(launch_and_fit pid=10253)\u001b[0m features.0.bias 1.430511474609375e-06\n",
      "\u001b[36m(launch_and_fit pid=10253)\u001b[0m features.3.weight 1.430511474609375e-06\n",
      "\u001b[36m(launch_and_fit pid=10253)\u001b[0m features.3.bias 1.430511474609375e-06\n",
      "\u001b[36m(launch_and_fit pid=10253)\u001b[0m classifier.0.weight 1.6689300537109375e-06\n",
      "\u001b[36m(launch_and_fit pid=10253)\u001b[0m classifier.0.bias 1.1920928955078125e-06\n",
      "\u001b[36m(launch_and_fit pid=10253)\u001b[0m classifier.2.weight 1.430511474609375e-06\n",
      "\u001b[36m(launch_and_fit pid=10253)\u001b[0m classifier.2.bias 1.430511474609375e-06\n",
      "\u001b[36m(launch_and_fit pid=10253)\u001b[0m classifier.3.weights 1.430511474609375e-06\n",
      "\u001b[36m(launch_and_fit pid=10253)\u001b[0m classifier.4.weight 1.1920928955078125e-06\n",
      "\u001b[36m(launch_and_fit pid=10253)\u001b[0m classifier.4.bias 1.6689300537109375e-06\n",
      "\u001b[36m(launch_and_fit pid=10334)\u001b[0m Run with homomorphic encryption\n",
      "\u001b[36m(launch_and_fit pid=10252)\u001b[0m save graph in  results/FL/\n",
      "\u001b[36m(launch_and_fit pid=10252)\u001b[0m \tTrain Epoch: 10 \tTrain_loss: 0.0007 | Train_acc: 100.0000 % | Validation_loss: 1.6243 | Validation_acc: 71.4286 %\n",
      "\u001b[36m(launch_and_fit pid=10252)\u001b[0m classifier.4.bias 1.430511474609375e-06\u001b[32m [repeated 11x across cluster]\u001b[0m\n",
      "\u001b[36m(launch_and_fit pid=10334)\u001b[0m [Client 6, round 13] fit, config: {'learning_rate': 0.003, 'batch_size': '32', 'server_round': 13, 'local_epochs': 10}\n"
     ]
    },
    {
     "name": "stderr",
     "output_type": "stream",
     "text": [
      "  0%|\u001b[34m          \u001b[0m| 0/10 [00:00<?, ?it/s]\n",
      "100%|\u001b[34m██████████\u001b[0m| 10/10 [00:20<00:00,  2.01s/it]\u001b[32m [repeated 3x across cluster]\u001b[0m\n"
     ]
    },
    {
     "name": "stdout",
     "output_type": "stream",
     "text": [
      "\u001b[36m(launch_and_fit pid=10334)\u001b[0m Updated model\n",
      "\u001b[36m(launch_and_fit pid=10334)\u001b[0m \tTrain Epoch: 1 \tTrain_loss: 0.1345 | Train_acc: 95.8333 % | Validation_loss: 0.7696 | Validation_acc: 75.0000 %\n",
      "\u001b[36m(launch_and_fit pid=10336)\u001b[0m Run with homomorphic encryption\n",
      "\u001b[36m(launch_and_fit pid=10336)\u001b[0m [Client 4, round 13] fit, config: {'learning_rate': 0.003, 'batch_size': '32', 'server_round': 13, 'local_epochs': 10}\n"
     ]
    },
    {
     "name": "stderr",
     "output_type": "stream",
     "text": [
      "  0%|\u001b[34m          \u001b[0m| 0/10 [00:00<?, ?it/s]\n",
      " 30%|\u001b[34m███       \u001b[0m| 3/10 [00:06<00:14,  2.02s/it]\u001b[32m [repeated 5x across cluster]\u001b[0m\n"
     ]
    },
    {
     "name": "stdout",
     "output_type": "stream",
     "text": [
      "\u001b[36m(launch_and_fit pid=10336)\u001b[0m Updated model\n",
      "\u001b[36m(launch_and_fit pid=10334)\u001b[0m \tTrain Epoch: 4 \tTrain_loss: 0.0122 | Train_acc: 99.6528 % | Validation_loss: 0.5470 | Validation_acc: 82.1429 %\u001b[32m [repeated 6x across cluster]\u001b[0m\n"
     ]
    },
    {
     "name": "stderr",
     "output_type": "stream",
     "text": [
      " 60%|\u001b[34m██████    \u001b[0m| 6/10 [00:12<00:08,  2.01s/it]\u001b[32m [repeated 6x across cluster]\u001b[0m\n"
     ]
    },
    {
     "name": "stdout",
     "output_type": "stream",
     "text": [
      "\u001b[36m(launch_and_fit pid=10334)\u001b[0m \tTrain Epoch: 7 \tTrain_loss: 0.0061 | Train_acc: 99.6528 % | Validation_loss: 0.6739 | Validation_acc: 78.5714 %\u001b[32m [repeated 6x across cluster]\u001b[0m\n"
     ]
    },
    {
     "name": "stderr",
     "output_type": "stream",
     "text": [
      " 90%|\u001b[34m█████████ \u001b[0m| 9/10 [00:17<00:01,  1.91s/it]\u001b[32m [repeated 6x across cluster]\u001b[0m\n"
     ]
    },
    {
     "name": "stdout",
     "output_type": "stream",
     "text": [
      "\u001b[36m(launch_and_fit pid=10334)\u001b[0m save graph in  results/FL/\n",
      "\u001b[36m(launch_and_fit pid=10334)\u001b[0m \tTrain Epoch: 10 \tTrain_loss: 0.0061 | Train_acc: 99.6528 % | Validation_loss: 0.6492 | Validation_acc: 78.5714 %\u001b[32m [repeated 6x across cluster]\u001b[0m\n",
      "\u001b[36m(launch_and_fit pid=10334)\u001b[0m features.0.weight 5.7220458984375e-06\n",
      "\u001b[36m(launch_and_fit pid=10334)\u001b[0m features.0.bias 1.9073486328125e-06\n",
      "\u001b[36m(launch_and_fit pid=10334)\u001b[0m features.3.weight 1.430511474609375e-06\n",
      "\u001b[36m(launch_and_fit pid=10334)\u001b[0m features.3.bias 1.430511474609375e-06\n",
      "\u001b[36m(launch_and_fit pid=10334)\u001b[0m classifier.0.weight 1.6689300537109375e-06\n",
      "\u001b[36m(launch_and_fit pid=10334)\u001b[0m classifier.0.bias 1.430511474609375e-06\n",
      "\u001b[36m(launch_and_fit pid=10334)\u001b[0m classifier.2.weight 1.6689300537109375e-06\n",
      "\u001b[36m(launch_and_fit pid=10334)\u001b[0m classifier.2.bias 1.1920928955078125e-06\n",
      "\u001b[36m(launch_and_fit pid=10334)\u001b[0m classifier.3.weights 1.430511474609375e-06\n",
      "\u001b[36m(launch_and_fit pid=10334)\u001b[0m classifier.4.weight 1.430511474609375e-06\n",
      "\u001b[36m(launch_and_fit pid=10334)\u001b[0m classifier.4.bias 1.430511474609375e-06\n",
      "\u001b[36m(launch_and_fit pid=10417)\u001b[0m Run with homomorphic encryption\n",
      "\u001b[36m(launch_and_fit pid=10336)\u001b[0m save graph in  results/FL/\n",
      "\u001b[36m(launch_and_fit pid=10336)\u001b[0m \tTrain Epoch: 10 \tTrain_loss: 0.0019 | Train_acc: 100.0000 % | Validation_loss: 1.4482 | Validation_acc: 64.2857 %\n",
      "\u001b[36m(launch_and_fit pid=10336)\u001b[0m classifier.4.bias 1.430511474609375e-06\u001b[32m [repeated 11x across cluster]\u001b[0m\n",
      "\u001b[36m(launch_and_fit pid=10417)\u001b[0m [Client 3, round 13] fit, config: {'learning_rate': 0.003, 'batch_size': '32', 'server_round': 13, 'local_epochs': 10}\n",
      "\u001b[36m(launch_and_fit pid=10417)\u001b[0m Updated model\n"
     ]
    },
    {
     "name": "stderr",
     "output_type": "stream",
     "text": [
      "  0%|\u001b[34m          \u001b[0m| 0/10 [00:00<?, ?it/s]\n",
      "100%|\u001b[34m██████████\u001b[0m| 10/10 [00:19<00:00,  1.98s/it]\u001b[32m [repeated 3x across cluster]\u001b[0m\n"
     ]
    },
    {
     "name": "stdout",
     "output_type": "stream",
     "text": [
      "\u001b[36m(launch_and_fit pid=10417)\u001b[0m \tTrain Epoch: 1 \tTrain_loss: 0.1368 | Train_acc: 95.4861 % | Validation_loss: 1.1759 | Validation_acc: 67.8571 %\n",
      "\u001b[36m(launch_and_fit pid=10419)\u001b[0m Run with homomorphic encryption\n",
      "\u001b[36m(launch_and_fit pid=10419)\u001b[0m [Client 5, round 13] fit, config: {'learning_rate': 0.003, 'batch_size': '32', 'server_round': 13, 'local_epochs': 10}\n",
      "\u001b[36m(launch_and_fit pid=10419)\u001b[0m Updated model\n"
     ]
    },
    {
     "name": "stderr",
     "output_type": "stream",
     "text": [
      "  0%|\u001b[34m          \u001b[0m| 0/10 [00:00<?, ?it/s]\n",
      " 30%|\u001b[34m███       \u001b[0m| 3/10 [00:06<00:14,  2.14s/it]\u001b[32m [repeated 5x across cluster]\u001b[0m\n"
     ]
    },
    {
     "name": "stdout",
     "output_type": "stream",
     "text": [
      "\u001b[36m(launch_and_fit pid=10417)\u001b[0m \tTrain Epoch: 4 \tTrain_loss: 0.0071 | Train_acc: 100.0000 % | Validation_loss: 1.3094 | Validation_acc: 64.2857 %\u001b[32m [repeated 6x across cluster]\u001b[0m\n"
     ]
    },
    {
     "name": "stderr",
     "output_type": "stream",
     "text": [
      " 60%|\u001b[34m██████    \u001b[0m| 6/10 [00:12<00:07,  1.93s/it]\u001b[32m [repeated 6x across cluster]\u001b[0m\n"
     ]
    },
    {
     "name": "stdout",
     "output_type": "stream",
     "text": [
      "\u001b[36m(launch_and_fit pid=10417)\u001b[0m \tTrain Epoch: 7 \tTrain_loss: 0.0009 | Train_acc: 100.0000 % | Validation_loss: 1.8125 | Validation_acc: 64.2857 %\u001b[32m [repeated 6x across cluster]\u001b[0m\n"
     ]
    },
    {
     "name": "stderr",
     "output_type": "stream",
     "text": [
      " 90%|\u001b[34m█████████ \u001b[0m| 9/10 [00:17<00:01,  1.91s/it]\u001b[32m [repeated 6x across cluster]\u001b[0m\n"
     ]
    },
    {
     "name": "stdout",
     "output_type": "stream",
     "text": [
      "\u001b[36m(launch_and_fit pid=10417)\u001b[0m save graph in  results/FL/\n",
      "\u001b[36m(launch_and_fit pid=10417)\u001b[0m \tTrain Epoch: 10 \tTrain_loss: 0.0007 | Train_acc: 100.0000 % | Validation_loss: 1.7678 | Validation_acc: 64.2857 %\u001b[32m [repeated 6x across cluster]\u001b[0m\n",
      "\u001b[36m(launch_and_fit pid=10417)\u001b[0m features.0.weight 5.9604644775390625e-06\n",
      "\u001b[36m(launch_and_fit pid=10417)\u001b[0m features.0.bias 1.430511474609375e-06\n",
      "\u001b[36m(launch_and_fit pid=10417)\u001b[0m features.3.weight 1.1920928955078125e-06\n",
      "\u001b[36m(launch_and_fit pid=10417)\u001b[0m features.3.bias 1.430511474609375e-06\n",
      "\u001b[36m(launch_and_fit pid=10417)\u001b[0m classifier.0.weight 1.430511474609375e-06\n",
      "\u001b[36m(launch_and_fit pid=10417)\u001b[0m classifier.0.bias 1.6689300537109375e-06\n",
      "\u001b[36m(launch_and_fit pid=10417)\u001b[0m classifier.2.weight 1.1920928955078125e-06\n",
      "\u001b[36m(launch_and_fit pid=10417)\u001b[0m classifier.2.bias 1.430511474609375e-06\n",
      "\u001b[36m(launch_and_fit pid=10417)\u001b[0m classifier.3.weights 1.430511474609375e-06\n",
      "\u001b[36m(launch_and_fit pid=10417)\u001b[0m classifier.4.weight 1.1920928955078125e-06\n",
      "\u001b[36m(launch_and_fit pid=10417)\u001b[0m classifier.4.bias 1.430511474609375e-06\n",
      "\u001b[36m(launch_and_fit pid=10499)\u001b[0m Run with homomorphic encryption\n",
      "\u001b[36m(launch_and_fit pid=10419)\u001b[0m save graph in  results/FL/\n",
      "\u001b[36m(launch_and_fit pid=10419)\u001b[0m \tTrain Epoch: 10 \tTrain_loss: 0.0009 | Train_acc: 100.0000 % | Validation_loss: 1.9457 | Validation_acc: 53.5714 %\n",
      "\u001b[36m(launch_and_fit pid=10419)\u001b[0m classifier.4.bias 1.1920928955078125e-06\u001b[32m [repeated 11x across cluster]\u001b[0m\n",
      "\u001b[36m(launch_and_fit pid=10499)\u001b[0m [Client 0, round 13] fit, config: {'learning_rate': 0.003, 'batch_size': '32', 'server_round': 13, 'local_epochs': 10}\n",
      "\u001b[36m(launch_and_fit pid=10499)\u001b[0m Updated model\n"
     ]
    },
    {
     "name": "stderr",
     "output_type": "stream",
     "text": [
      "  0%|\u001b[34m          \u001b[0m| 0/10 [00:00<?, ?it/s]\n",
      "100%|\u001b[34m██████████\u001b[0m| 10/10 [00:19<00:00,  1.99s/it]\u001b[32m [repeated 3x across cluster]\u001b[0m\n"
     ]
    },
    {
     "name": "stdout",
     "output_type": "stream",
     "text": [
      "\u001b[36m(launch_and_fit pid=10499)\u001b[0m \tTrain Epoch: 1 \tTrain_loss: 0.1950 | Train_acc: 92.0139 % | Validation_loss: 0.9645 | Validation_acc: 64.2857 %\n",
      "\u001b[36m(launch_and_fit pid=10501)\u001b[0m Run with homomorphic encryption\n",
      "\u001b[36m(launch_and_fit pid=10501)\u001b[0m [Client 9, round 13] fit, config: {'learning_rate': 0.003, 'batch_size': '32', 'server_round': 13, 'local_epochs': 10}\n"
     ]
    },
    {
     "name": "stderr",
     "output_type": "stream",
     "text": [
      "  0%|\u001b[34m          \u001b[0m| 0/10 [00:00<?, ?it/s]\n",
      " 20%|\u001b[34m██        \u001b[0m| 2/10 [00:04<00:17,  2.19s/it]\u001b[32m [repeated 4x across cluster]\u001b[0m\n"
     ]
    },
    {
     "name": "stdout",
     "output_type": "stream",
     "text": [
      "\u001b[36m(launch_and_fit pid=10501)\u001b[0m Updated model\n",
      "\u001b[36m(launch_and_fit pid=10499)\u001b[0m \tTrain Epoch: 4 \tTrain_loss: 0.0126 | Train_acc: 99.6528 % | Validation_loss: 1.2503 | Validation_acc: 60.7143 %\u001b[32m [repeated 6x across cluster]\u001b[0m\n"
     ]
    },
    {
     "name": "stderr",
     "output_type": "stream",
     "text": [
      " 50%|\u001b[34m█████     \u001b[0m| 5/10 [00:10<00:09,  1.93s/it]\u001b[32m [repeated 6x across cluster]\u001b[0m\n"
     ]
    },
    {
     "name": "stdout",
     "output_type": "stream",
     "text": [
      "\u001b[36m(launch_and_fit pid=10499)\u001b[0m \tTrain Epoch: 7 \tTrain_loss: 0.1025 | Train_acc: 99.6528 % | Validation_loss: 0.8940 | Validation_acc: 60.7143 %\u001b[32m [repeated 6x across cluster]\u001b[0m\n"
     ]
    },
    {
     "name": "stderr",
     "output_type": "stream",
     "text": [
      " 80%|\u001b[34m████████  \u001b[0m| 8/10 [00:15<00:03,  1.87s/it]\u001b[32m [repeated 6x across cluster]\u001b[0m\n"
     ]
    },
    {
     "name": "stdout",
     "output_type": "stream",
     "text": [
      "\u001b[36m(launch_and_fit pid=10499)\u001b[0m save graph in  results/FL/\n",
      "\u001b[36m(launch_and_fit pid=10499)\u001b[0m \tTrain Epoch: 10 \tTrain_loss: 0.0026 | Train_acc: 100.0000 % | Validation_loss: 1.6845 | Validation_acc: 64.2857 %\u001b[32m [repeated 6x across cluster]\u001b[0m\n",
      "\u001b[36m(launch_and_fit pid=10499)\u001b[0m features.0.weight 6.67572021484375e-06\n",
      "\u001b[36m(launch_and_fit pid=10499)\u001b[0m features.0.bias 2.1457672119140625e-06\n",
      "\u001b[36m(launch_and_fit pid=10499)\u001b[0m features.3.weight 1.6689300537109375e-06\n",
      "\u001b[36m(launch_and_fit pid=10499)\u001b[0m features.3.bias 1.9073486328125e-06\n",
      "\u001b[36m(launch_and_fit pid=10499)\u001b[0m classifier.0.weight 1.9073486328125e-06\n",
      "\u001b[36m(launch_and_fit pid=10499)\u001b[0m classifier.0.bias 1.9073486328125e-06\n",
      "\u001b[36m(launch_and_fit pid=10499)\u001b[0m classifier.2.weight 1.9073486328125e-06\n",
      "\u001b[36m(launch_and_fit pid=10499)\u001b[0m classifier.2.bias 1.9073486328125e-06\n",
      "\u001b[36m(launch_and_fit pid=10499)\u001b[0m classifier.3.weights 1.9073486328125e-06\n",
      "\u001b[36m(launch_and_fit pid=10499)\u001b[0m classifier.4.weight 1.9073486328125e-06\n",
      "\u001b[36m(launch_and_fit pid=10499)\u001b[0m classifier.4.bias 1.6689300537109375e-06\n",
      "\u001b[36m(launch_and_fit pid=10582)\u001b[0m Run with homomorphic encryption\n",
      "\u001b[36m(launch_and_fit pid=10501)\u001b[0m save graph in  results/FL/\n",
      "\u001b[36m(launch_and_fit pid=10501)\u001b[0m \tTrain Epoch: 10 \tTrain_loss: 0.0008 | Train_acc: 100.0000 % | Validation_loss: 1.3009 | Validation_acc: 75.8621 %\n",
      "\u001b[36m(launch_and_fit pid=10501)\u001b[0m classifier.4.bias 9.5367431640625e-07\u001b[32m [repeated 11x across cluster]\u001b[0m\n",
      "\u001b[36m(launch_and_fit pid=10582)\u001b[0m [Client 8, round 13] fit, config: {'learning_rate': 0.003, 'batch_size': '32', 'server_round': 13, 'local_epochs': 10}\n",
      "\u001b[36m(launch_and_fit pid=10582)\u001b[0m Updated model\n"
     ]
    },
    {
     "name": "stderr",
     "output_type": "stream",
     "text": [
      "  0%|\u001b[34m          \u001b[0m| 0/10 [00:00<?, ?it/s]\n",
      "100%|\u001b[34m██████████\u001b[0m| 10/10 [00:19<00:00,  1.93s/it]\u001b[32m [repeated 4x across cluster]\u001b[0m\n"
     ]
    },
    {
     "name": "stdout",
     "output_type": "stream",
     "text": [
      "\u001b[36m(launch_and_fit pid=10582)\u001b[0m \tTrain Epoch: 1 \tTrain_loss: 0.1758 | Train_acc: 92.8241 % | Validation_loss: 0.9466 | Validation_acc: 78.5714 %\n",
      "\u001b[36m(launch_and_fit pid=10607)\u001b[0m Run with homomorphic encryption\n",
      "\u001b[36m(launch_and_fit pid=10607)\u001b[0m [Client 2, round 13] fit, config: {'learning_rate': 0.003, 'batch_size': '32', 'server_round': 13, 'local_epochs': 10}\n",
      "\u001b[36m(launch_and_fit pid=10607)\u001b[0m Updated model\n"
     ]
    },
    {
     "name": "stderr",
     "output_type": "stream",
     "text": [
      "  0%|\u001b[34m          \u001b[0m| 0/10 [00:00<?, ?it/s]\n",
      " 30%|\u001b[34m███       \u001b[0m| 3/10 [00:06<00:14,  2.02s/it]\u001b[32m [repeated 5x across cluster]\u001b[0m\n"
     ]
    },
    {
     "name": "stdout",
     "output_type": "stream",
     "text": [
      "\u001b[36m(launch_and_fit pid=10582)\u001b[0m \tTrain Epoch: 4 \tTrain_loss: 0.0095 | Train_acc: 100.0000 % | Validation_loss: 1.0100 | Validation_acc: 75.0000 %\u001b[32m [repeated 6x across cluster]\u001b[0m\n"
     ]
    },
    {
     "name": "stderr",
     "output_type": "stream",
     "text": [
      " 60%|\u001b[34m██████    \u001b[0m| 6/10 [00:11<00:07,  1.93s/it]\u001b[32m [repeated 6x across cluster]\u001b[0m\n"
     ]
    },
    {
     "name": "stdout",
     "output_type": "stream",
     "text": [
      "\u001b[36m(launch_and_fit pid=10582)\u001b[0m \tTrain Epoch: 7 \tTrain_loss: 0.0012 | Train_acc: 100.0000 % | Validation_loss: 1.1546 | Validation_acc: 78.5714 %\u001b[32m [repeated 6x across cluster]\u001b[0m\n"
     ]
    },
    {
     "name": "stderr",
     "output_type": "stream",
     "text": [
      " 90%|\u001b[34m█████████ \u001b[0m| 9/10 [00:17<00:01,  1.91s/it]\u001b[32m [repeated 6x across cluster]\u001b[0m\n"
     ]
    },
    {
     "name": "stdout",
     "output_type": "stream",
     "text": [
      "\u001b[36m(launch_and_fit pid=10582)\u001b[0m save graph in  results/FL/\n",
      "\u001b[36m(launch_and_fit pid=10582)\u001b[0m \tTrain Epoch: 10 \tTrain_loss: 0.0009 | Train_acc: 100.0000 % | Validation_loss: 1.1614 | Validation_acc: 75.0000 %\u001b[32m [repeated 6x across cluster]\u001b[0m\n",
      "\u001b[36m(launch_and_fit pid=10582)\u001b[0m features.0.weight 5.9604644775390625e-06\n",
      "\u001b[36m(launch_and_fit pid=10582)\u001b[0m features.0.bias 1.9073486328125e-06\n",
      "\u001b[36m(launch_and_fit pid=10582)\u001b[0m features.3.weight 1.6689300537109375e-06\n",
      "\u001b[36m(launch_and_fit pid=10582)\u001b[0m features.3.bias 1.1920928955078125e-06\n",
      "\u001b[36m(launch_and_fit pid=10582)\u001b[0m classifier.0.weight 1.6689300537109375e-06\n",
      "\u001b[36m(launch_and_fit pid=10582)\u001b[0m classifier.0.bias 1.430511474609375e-06\n",
      "\u001b[36m(launch_and_fit pid=10582)\u001b[0m classifier.2.weight 1.1920928955078125e-06\n",
      "\u001b[36m(launch_and_fit pid=10582)\u001b[0m classifier.2.bias 1.1920928955078125e-06\n",
      "\u001b[36m(launch_and_fit pid=10582)\u001b[0m classifier.3.weights 1.430511474609375e-06\n",
      "\u001b[36m(launch_and_fit pid=10582)\u001b[0m classifier.4.weight 1.1920928955078125e-06\n",
      "\u001b[36m(launch_and_fit pid=10582)\u001b[0m classifier.4.bias 1.6689300537109375e-06\n"
     ]
    },
    {
     "name": "stderr",
     "output_type": "stream",
     "text": [
      "DEBUG flwr 2024-07-24 05:11:41,008 | server.py:236 | fit_round 13 received 10 results and 0 failures\n"
     ]
    },
    {
     "name": "stdout",
     "output_type": "stream",
     "text": [
      "Saving round 13 aggregated_parameters...\n"
     ]
    },
    {
     "name": "stderr",
     "output_type": "stream",
     "text": [
      "DEBUG flwr 2024-07-24 05:11:43,143 | server.py:173 | evaluate_round 13: strategy sampled 10 clients (out of 10)\n"
     ]
    },
    {
     "name": "stdout",
     "output_type": "stream",
     "text": [
      "\u001b[36m(launch_and_evaluate pid=10673)\u001b[0m Run with homomorphic encryption\n",
      "\u001b[36m(launch_and_fit pid=10607)\u001b[0m save graph in  results/FL/\n",
      "\u001b[36m(launch_and_fit pid=10607)\u001b[0m \tTrain Epoch: 10 \tTrain_loss: 0.0061 | Train_acc: 99.3056 % | Validation_loss: 1.1454 | Validation_acc: 75.0000 %\n",
      "\u001b[36m(launch_and_fit pid=10607)\u001b[0m classifier.4.bias 1.1920928955078125e-06\u001b[32m [repeated 11x across cluster]\u001b[0m\n",
      "\u001b[36m(launch_and_evaluate pid=10673)\u001b[0m [Client 2] evaluate, config: {}\n",
      "\u001b[36m(launch_and_evaluate pid=10673)\u001b[0m Updated model\n",
      "\u001b[36m(launch_and_evaluate pid=10751)\u001b[0m Run with homomorphic encryption\u001b[32m [repeated 2x across cluster]\u001b[0m\n",
      "\u001b[36m(launch_and_evaluate pid=10674)\u001b[0m [Client 6] evaluate, config: {}\n",
      "\u001b[36m(launch_and_evaluate pid=10674)\u001b[0m Updated model\n",
      "\u001b[36m(launch_and_evaluate pid=10751)\u001b[0m [Client 7] evaluate, config: {}\n",
      "\u001b[36m(launch_and_evaluate pid=10751)\u001b[0m Updated model\n",
      "\u001b[36m(launch_and_evaluate pid=10829)\u001b[0m Run with homomorphic encryption\u001b[32m [repeated 2x across cluster]\u001b[0m\n",
      "\u001b[36m(launch_and_evaluate pid=10753)\u001b[0m [Client 8] evaluate, config: {}\n",
      "\u001b[36m(launch_and_evaluate pid=10753)\u001b[0m Updated model\n",
      "\u001b[36m(launch_and_evaluate pid=10829)\u001b[0m [Client 1] evaluate, config: {}\n",
      "\u001b[36m(launch_and_evaluate pid=10829)\u001b[0m Updated model\n",
      "\u001b[36m(launch_and_evaluate pid=10910)\u001b[0m Run with homomorphic encryption\u001b[32m [repeated 2x across cluster]\u001b[0m\n",
      "\u001b[36m(launch_and_evaluate pid=10831)\u001b[0m [Client 3] evaluate, config: {}\n",
      "\u001b[36m(launch_and_evaluate pid=10831)\u001b[0m Updated model\n",
      "\u001b[36m(launch_and_evaluate pid=10910)\u001b[0m [Client 9] evaluate, config: {}\n",
      "\u001b[36m(launch_and_evaluate pid=10910)\u001b[0m Updated model\n",
      "\u001b[36m(launch_and_evaluate pid=10986)\u001b[0m Run with homomorphic encryption\u001b[32m [repeated 2x across cluster]\u001b[0m\n",
      "\u001b[36m(launch_and_evaluate pid=10908)\u001b[0m [Client 5] evaluate, config: {}\n",
      "\u001b[36m(launch_and_evaluate pid=10908)\u001b[0m Updated model\n",
      "\u001b[36m(launch_and_evaluate pid=10986)\u001b[0m [Client 0] evaluate, config: {}\n",
      "\u001b[36m(launch_and_evaluate pid=10986)\u001b[0m Updated model\n"
     ]
    },
    {
     "name": "stderr",
     "output_type": "stream",
     "text": [
      "DEBUG flwr 2024-07-24 05:13:07,287 | server.py:187 | evaluate_round 13 received 10 results and 0 failures\n",
      "DEBUG flwr 2024-07-24 05:13:07,288 | server.py:222 | fit_round 14: strategy sampled 10 clients (out of 10)\n"
     ]
    },
    {
     "name": "stdout",
     "output_type": "stream",
     "text": [
      "\u001b[36m(launch_and_fit pid=11072)\u001b[0m Run with homomorphic encryption\u001b[32m [repeated 2x across cluster]\u001b[0m\n",
      "\u001b[36m(launch_and_evaluate pid=10988)\u001b[0m [Client 4] evaluate, config: {}\n",
      "\u001b[36m(launch_and_evaluate pid=10988)\u001b[0m Updated model\n",
      "\u001b[36m(launch_and_fit pid=11072)\u001b[0m [Client 5, round 14] fit, config: {'learning_rate': 0.003, 'batch_size': '32', 'server_round': 14, 'local_epochs': 10}\n"
     ]
    },
    {
     "name": "stderr",
     "output_type": "stream",
     "text": [
      "  0%|\u001b[34m          \u001b[0m| 0/10 [00:00<?, ?it/s]\n",
      "100%|\u001b[34m██████████\u001b[0m| 10/10 [00:19<00:00,  1.96s/it]\u001b[32m [repeated 3x across cluster]\u001b[0m\n"
     ]
    },
    {
     "name": "stdout",
     "output_type": "stream",
     "text": [
      "\u001b[36m(launch_and_fit pid=11072)\u001b[0m Updated model\n",
      "\u001b[36m(launch_and_fit pid=11072)\u001b[0m \tTrain Epoch: 1 \tTrain_loss: 0.1455 | Train_acc: 94.0972 % | Validation_loss: 2.1865 | Validation_acc: 53.5714 %\n",
      "\u001b[36m(launch_and_fit pid=11074)\u001b[0m Run with homomorphic encryption\n",
      "\u001b[36m(launch_and_fit pid=11074)\u001b[0m [Client 9, round 14] fit, config: {'learning_rate': 0.003, 'batch_size': '32', 'server_round': 14, 'local_epochs': 10}\n"
     ]
    },
    {
     "name": "stderr",
     "output_type": "stream",
     "text": [
      "  0%|\u001b[34m          \u001b[0m| 0/10 [00:00<?, ?it/s]\n",
      " 20%|\u001b[34m██        \u001b[0m| 2/10 [00:04<00:19,  2.42s/it]\u001b[32m [repeated 4x across cluster]\u001b[0m\n"
     ]
    },
    {
     "name": "stdout",
     "output_type": "stream",
     "text": [
      "\u001b[36m(launch_and_fit pid=11074)\u001b[0m Updated model\n",
      "\u001b[36m(launch_and_fit pid=11072)\u001b[0m \tTrain Epoch: 4 \tTrain_loss: 0.0160 | Train_acc: 99.3056 % | Validation_loss: 2.0324 | Validation_acc: 53.5714 %\u001b[32m [repeated 6x across cluster]\u001b[0m\n"
     ]
    },
    {
     "name": "stderr",
     "output_type": "stream",
     "text": [
      " 50%|\u001b[34m█████     \u001b[0m| 5/10 [00:10<00:10,  2.05s/it]\u001b[32m [repeated 6x across cluster]\u001b[0m\n"
     ]
    },
    {
     "name": "stdout",
     "output_type": "stream",
     "text": [
      "\u001b[36m(launch_and_fit pid=11072)\u001b[0m \tTrain Epoch: 7 \tTrain_loss: 0.0010 | Train_acc: 100.0000 % | Validation_loss: 2.2835 | Validation_acc: 57.1429 %\u001b[32m [repeated 6x across cluster]\u001b[0m\n"
     ]
    },
    {
     "name": "stderr",
     "output_type": "stream",
     "text": [
      " 80%|\u001b[34m████████  \u001b[0m| 8/10 [00:16<00:03,  1.96s/it]\u001b[32m [repeated 6x across cluster]\u001b[0m\n"
     ]
    },
    {
     "name": "stdout",
     "output_type": "stream",
     "text": [
      "\u001b[36m(launch_and_fit pid=11072)\u001b[0m save graph in  results/FL/\n",
      "\u001b[36m(launch_and_fit pid=11072)\u001b[0m \tTrain Epoch: 10 \tTrain_loss: 0.0005 | Train_acc: 100.0000 % | Validation_loss: 2.2716 | Validation_acc: 53.5714 %\u001b[32m [repeated 6x across cluster]\u001b[0m\n",
      "\u001b[36m(launch_and_fit pid=11072)\u001b[0m features.0.weight 6.198883056640625e-06\n",
      "\u001b[36m(launch_and_fit pid=11072)\u001b[0m features.0.bias 1.6689300537109375e-06\n",
      "\u001b[36m(launch_and_fit pid=11072)\u001b[0m features.3.weight 1.1920928955078125e-06\n",
      "\u001b[36m(launch_and_fit pid=11072)\u001b[0m features.3.bias 1.430511474609375e-06\n",
      "\u001b[36m(launch_and_fit pid=11072)\u001b[0m classifier.0.weight 1.1920928955078125e-06\n",
      "\u001b[36m(launch_and_fit pid=11072)\u001b[0m classifier.0.bias 1.430511474609375e-06\n",
      "\u001b[36m(launch_and_fit pid=11072)\u001b[0m classifier.2.weight 1.1920928955078125e-06\n",
      "\u001b[36m(launch_and_fit pid=11072)\u001b[0m classifier.2.bias 1.1920928955078125e-06\n",
      "\u001b[36m(launch_and_fit pid=11072)\u001b[0m classifier.3.weights 1.6689300537109375e-06\n",
      "\u001b[36m(launch_and_fit pid=11072)\u001b[0m classifier.4.weight 1.430511474609375e-06\n",
      "\u001b[36m(launch_and_fit pid=11072)\u001b[0m classifier.4.bias 1.430511474609375e-06\n",
      "\u001b[36m(launch_and_fit pid=11156)\u001b[0m Run with homomorphic encryption\n",
      "\u001b[36m(launch_and_fit pid=11074)\u001b[0m save graph in  results/FL/\n",
      "\u001b[36m(launch_and_fit pid=11074)\u001b[0m \tTrain Epoch: 10 \tTrain_loss: 0.0033 | Train_acc: 100.0000 % | Validation_loss: 1.2407 | Validation_acc: 75.8621 %\n",
      "\u001b[36m(launch_and_fit pid=11074)\u001b[0m classifier.4.bias 1.6689300537109375e-06\u001b[32m [repeated 11x across cluster]\u001b[0m\n",
      "\u001b[36m(launch_and_fit pid=11156)\u001b[0m [Client 7, round 14] fit, config: {'learning_rate': 0.003, 'batch_size': '32', 'server_round': 14, 'local_epochs': 10}\n"
     ]
    },
    {
     "name": "stderr",
     "output_type": "stream",
     "text": [
      "  0%|\u001b[34m          \u001b[0m| 0/10 [00:00<?, ?it/s]\n",
      "100%|\u001b[34m██████████\u001b[0m| 10/10 [00:20<00:00,  2.06s/it]\u001b[32m [repeated 4x across cluster]\u001b[0m\n"
     ]
    },
    {
     "name": "stdout",
     "output_type": "stream",
     "text": [
      "\u001b[36m(launch_and_fit pid=11156)\u001b[0m Updated model\n",
      "\u001b[36m(launch_and_fit pid=11156)\u001b[0m \tTrain Epoch: 1 \tTrain_loss: 0.0887 | Train_acc: 97.2222 % | Validation_loss: 1.2152 | Validation_acc: 78.5714 %\n",
      "\u001b[36m(launch_and_fit pid=11181)\u001b[0m Run with homomorphic encryption\n",
      "\u001b[36m(launch_and_fit pid=11181)\u001b[0m [Client 3, round 14] fit, config: {'learning_rate': 0.003, 'batch_size': '32', 'server_round': 14, 'local_epochs': 10}\n"
     ]
    },
    {
     "name": "stderr",
     "output_type": "stream",
     "text": [
      "  0%|\u001b[34m          \u001b[0m| 0/10 [00:00<?, ?it/s]\n",
      " 20%|\u001b[34m██        \u001b[0m| 2/10 [00:04<00:16,  2.08s/it]\u001b[32m [repeated 4x across cluster]\u001b[0m\n"
     ]
    },
    {
     "name": "stdout",
     "output_type": "stream",
     "text": [
      "\u001b[36m(launch_and_fit pid=11181)\u001b[0m Updated model\n",
      "\u001b[36m(launch_and_fit pid=11181)\u001b[0m \tTrain Epoch: 3 \tTrain_loss: 0.0143 | Train_acc: 99.3056 % | Validation_loss: 1.2516 | Validation_acc: 64.2857 %\u001b[32m [repeated 5x across cluster]\u001b[0m\n"
     ]
    },
    {
     "name": "stderr",
     "output_type": "stream",
     "text": [
      " 50%|\u001b[34m█████     \u001b[0m| 5/10 [00:09<00:09,  1.90s/it]\u001b[32m [repeated 6x across cluster]\u001b[0m\n"
     ]
    },
    {
     "name": "stdout",
     "output_type": "stream",
     "text": [
      "\u001b[36m(launch_and_fit pid=11181)\u001b[0m \tTrain Epoch: 6 \tTrain_loss: 0.0007 | Train_acc: 100.0000 % | Validation_loss: 1.8013 | Validation_acc: 67.8571 %\u001b[32m [repeated 6x across cluster]\u001b[0m\n"
     ]
    },
    {
     "name": "stderr",
     "output_type": "stream",
     "text": [
      " 80%|\u001b[34m████████  \u001b[0m| 8/10 [00:15<00:03,  1.87s/it]\u001b[32m [repeated 6x across cluster]\u001b[0m\n"
     ]
    },
    {
     "name": "stdout",
     "output_type": "stream",
     "text": [
      "\u001b[36m(launch_and_fit pid=11181)\u001b[0m \tTrain Epoch: 9 \tTrain_loss: 0.0005 | Train_acc: 100.0000 % | Validation_loss: 1.7571 | Validation_acc: 67.8571 %\u001b[32m [repeated 6x across cluster]\u001b[0m\n",
      "\u001b[36m(launch_and_fit pid=11156)\u001b[0m save graph in  results/FL/\n",
      "\u001b[36m(launch_and_fit pid=11156)\u001b[0m features.0.weight 6.4373016357421875e-06\n",
      "\u001b[36m(launch_and_fit pid=11156)\u001b[0m features.0.bias 2.384185791015625e-06\n",
      "\u001b[36m(launch_and_fit pid=11156)\u001b[0m features.3.weight 1.430511474609375e-06\n",
      "\u001b[36m(launch_and_fit pid=11156)\u001b[0m features.3.bias 1.430511474609375e-06\n",
      "\u001b[36m(launch_and_fit pid=11156)\u001b[0m classifier.0.weight 1.33514404296875e-05\n",
      "\u001b[36m(launch_and_fit pid=11156)\u001b[0m classifier.0.bias 1.1920928955078125e-06\n",
      "\u001b[36m(launch_and_fit pid=11156)\u001b[0m classifier.2.weight 1.1920928955078125e-06\n",
      "\u001b[36m(launch_and_fit pid=11156)\u001b[0m classifier.2.bias 9.5367431640625e-07\n",
      "\u001b[36m(launch_and_fit pid=11156)\u001b[0m classifier.3.weights 1.1920928955078125e-06\n",
      "\u001b[36m(launch_and_fit pid=11156)\u001b[0m classifier.4.weight 9.5367431640625e-07\n",
      "\u001b[36m(launch_and_fit pid=11156)\u001b[0m classifier.4.bias 1.430511474609375e-06\n",
      "\u001b[36m(launch_and_fit pid=11238)\u001b[0m Run with homomorphic encryption\n",
      "\u001b[36m(launch_and_fit pid=11181)\u001b[0m \tTrain Epoch: 10 \tTrain_loss: 0.0005 | Train_acc: 100.0000 % | Validation_loss: 1.7666 | Validation_acc: 67.8571 %\u001b[32m [repeated 2x across cluster]\u001b[0m\n",
      "\u001b[36m(launch_and_fit pid=11181)\u001b[0m save graph in  results/FL/\n",
      "\u001b[36m(launch_and_fit pid=11181)\u001b[0m classifier.4.bias 1.9073486328125e-06\u001b[32m [repeated 11x across cluster]\u001b[0m\n",
      "\u001b[36m(launch_and_fit pid=11238)\u001b[0m [Client 8, round 14] fit, config: {'learning_rate': 0.003, 'batch_size': '32', 'server_round': 14, 'local_epochs': 10}\n"
     ]
    },
    {
     "name": "stderr",
     "output_type": "stream",
     "text": [
      "  0%|\u001b[34m          \u001b[0m| 0/10 [00:00<?, ?it/s]\n",
      "100%|\u001b[34m██████████\u001b[0m| 10/10 [00:19<00:00,  1.92s/it]\u001b[32m [repeated 4x across cluster]\u001b[0m\n"
     ]
    },
    {
     "name": "stdout",
     "output_type": "stream",
     "text": [
      "\u001b[36m(launch_and_fit pid=11238)\u001b[0m Updated model\n",
      "\u001b[36m(launch_and_fit pid=11263)\u001b[0m Run with homomorphic encryption\n",
      "\u001b[36m(launch_and_fit pid=11238)\u001b[0m \tTrain Epoch: 1 \tTrain_loss: 0.1290 | Train_acc: 95.8333 % | Validation_loss: 0.8863 | Validation_acc: 71.4286 %\n",
      "\u001b[36m(launch_and_fit pid=11263)\u001b[0m \tTrain Epoch: 1 \tTrain_loss: 0.1740 | Train_acc: 93.4028 % | Validation_loss: 1.1854 | Validation_acc: 60.7143 %\n",
      "\u001b[36m(launch_and_fit pid=11263)\u001b[0m [Client 4, round 14] fit, config: {'learning_rate': 0.003, 'batch_size': '32', 'server_round': 14, 'local_epochs': 10}\n",
      "\u001b[36m(launch_and_fit pid=11263)\u001b[0m Updated model\n"
     ]
    },
    {
     "name": "stderr",
     "output_type": "stream",
     "text": [
      "  0%|\u001b[34m          \u001b[0m| 0/10 [00:00<?, ?it/s]\n",
      " 20%|\u001b[34m██        \u001b[0m| 2/10 [00:04<00:16,  2.10s/it]\u001b[32m [repeated 4x across cluster]\u001b[0m\n"
     ]
    },
    {
     "name": "stdout",
     "output_type": "stream",
     "text": [
      "\u001b[36m(launch_and_fit pid=11263)\u001b[0m \tTrain Epoch: 4 \tTrain_loss: 0.0142 | Train_acc: 99.6528 % | Validation_loss: 1.0851 | Validation_acc: 60.7143 %\u001b[32m [repeated 6x across cluster]\u001b[0m\n"
     ]
    },
    {
     "name": "stderr",
     "output_type": "stream",
     "text": [
      " 50%|\u001b[34m█████     \u001b[0m| 5/10 [00:09<00:09,  1.93s/it]\u001b[32m [repeated 6x across cluster]\u001b[0m\n"
     ]
    },
    {
     "name": "stdout",
     "output_type": "stream",
     "text": [
      "\u001b[36m(launch_and_fit pid=11263)\u001b[0m \tTrain Epoch: 7 \tTrain_loss: 0.0008 | Train_acc: 100.0000 % | Validation_loss: 1.3869 | Validation_acc: 64.2857 %\u001b[32m [repeated 6x across cluster]\u001b[0m\n"
     ]
    },
    {
     "name": "stderr",
     "output_type": "stream",
     "text": [
      " 80%|\u001b[34m████████  \u001b[0m| 8/10 [00:15<00:03,  1.90s/it]\u001b[32m [repeated 6x across cluster]\u001b[0m\n"
     ]
    },
    {
     "name": "stdout",
     "output_type": "stream",
     "text": [
      "\u001b[36m(launch_and_fit pid=11238)\u001b[0m save graph in  results/FL/\n",
      "\u001b[36m(launch_and_fit pid=11238)\u001b[0m features.0.weight 5.0067901611328125e-06\n",
      "\u001b[36m(launch_and_fit pid=11238)\u001b[0m features.0.bias 1.9073486328125e-06\n",
      "\u001b[36m(launch_and_fit pid=11238)\u001b[0m features.3.weight 1.1920928955078125e-06\n",
      "\u001b[36m(launch_and_fit pid=11238)\u001b[0m features.3.bias 1.430511474609375e-06\n",
      "\u001b[36m(launch_and_fit pid=11238)\u001b[0m classifier.0.weight 1.430511474609375e-06\n",
      "\u001b[36m(launch_and_fit pid=11238)\u001b[0m classifier.0.bias 1.1920928955078125e-06\n",
      "\u001b[36m(launch_and_fit pid=11238)\u001b[0m classifier.2.weight 9.5367431640625e-07\n",
      "\u001b[36m(launch_and_fit pid=11238)\u001b[0m classifier.2.bias 1.1920928955078125e-06\n",
      "\u001b[36m(launch_and_fit pid=11238)\u001b[0m classifier.3.weights 1.430511474609375e-06\n",
      "\u001b[36m(launch_and_fit pid=11238)\u001b[0m classifier.4.weight 1.1920928955078125e-06\n",
      "\u001b[36m(launch_and_fit pid=11238)\u001b[0m classifier.4.bias 1.1920928955078125e-06\n",
      "\u001b[36m(launch_and_fit pid=11238)\u001b[0m \tTrain Epoch: 10 \tTrain_loss: 0.0005 | Train_acc: 100.0000 % | Validation_loss: 1.3302 | Validation_acc: 78.5714 %\u001b[32m [repeated 5x across cluster]\u001b[0m\n",
      "\u001b[36m(launch_and_fit pid=11320)\u001b[0m Run with homomorphic encryption\n",
      "\u001b[36m(launch_and_fit pid=11263)\u001b[0m save graph in  results/FL/\n",
      "\u001b[36m(launch_and_fit pid=11263)\u001b[0m classifier.4.bias 2.384185791015625e-06\u001b[32m [repeated 11x across cluster]\u001b[0m\n",
      "\u001b[36m(launch_and_fit pid=11263)\u001b[0m \tTrain Epoch: 10 \tTrain_loss: 0.0005 | Train_acc: 100.0000 % | Validation_loss: 1.5213 | Validation_acc: 71.4286 %\n",
      "\u001b[36m(launch_and_fit pid=11320)\u001b[0m [Client 2, round 14] fit, config: {'learning_rate': 0.003, 'batch_size': '32', 'server_round': 14, 'local_epochs': 10}\n"
     ]
    },
    {
     "name": "stderr",
     "output_type": "stream",
     "text": [
      "  0%|\u001b[34m          \u001b[0m| 0/10 [00:00<?, ?it/s]\n",
      "100%|\u001b[34m██████████\u001b[0m| 10/10 [00:19<00:00,  1.93s/it]\u001b[32m [repeated 4x across cluster]\u001b[0m\n"
     ]
    },
    {
     "name": "stdout",
     "output_type": "stream",
     "text": [
      "\u001b[36m(launch_and_fit pid=11320)\u001b[0m Updated model\n",
      "\u001b[36m(launch_and_fit pid=11320)\u001b[0m \tTrain Epoch: 1 \tTrain_loss: 0.1039 | Train_acc: 95.8333 % | Validation_loss: 1.3769 | Validation_acc: 71.4286 %\n",
      "\u001b[36m(launch_and_fit pid=11345)\u001b[0m Run with homomorphic encryption\n",
      "\u001b[36m(launch_and_fit pid=11345)\u001b[0m [Client 6, round 14] fit, config: {'learning_rate': 0.003, 'batch_size': '32', 'server_round': 14, 'local_epochs': 10}\n"
     ]
    },
    {
     "name": "stderr",
     "output_type": "stream",
     "text": [
      "  0%|\u001b[34m          \u001b[0m| 0/10 [00:00<?, ?it/s]\n",
      " 20%|\u001b[34m██        \u001b[0m| 2/10 [00:04<00:16,  2.08s/it]\u001b[32m [repeated 4x across cluster]\u001b[0m\n"
     ]
    },
    {
     "name": "stdout",
     "output_type": "stream",
     "text": [
      "\u001b[36m(launch_and_fit pid=11345)\u001b[0m Updated model\n",
      "\u001b[36m(launch_and_fit pid=11320)\u001b[0m \tTrain Epoch: 4 \tTrain_loss: 0.0151 | Train_acc: 99.3056 % | Validation_loss: 1.1646 | Validation_acc: 75.0000 %\u001b[32m [repeated 6x across cluster]\u001b[0m\n"
     ]
    },
    {
     "name": "stderr",
     "output_type": "stream",
     "text": [
      " 50%|\u001b[34m█████     \u001b[0m| 5/10 [00:09<00:09,  1.93s/it]\u001b[32m [repeated 6x across cluster]\u001b[0m\n"
     ]
    },
    {
     "name": "stdout",
     "output_type": "stream",
     "text": [
      "\u001b[36m(launch_and_fit pid=11320)\u001b[0m \tTrain Epoch: 7 \tTrain_loss: 0.0059 | Train_acc: 99.6528 % | Validation_loss: 1.1635 | Validation_acc: 75.0000 %\u001b[32m [repeated 6x across cluster]\u001b[0m\n"
     ]
    },
    {
     "name": "stderr",
     "output_type": "stream",
     "text": [
      " 80%|\u001b[34m████████  \u001b[0m| 8/10 [00:15<00:03,  1.88s/it]\u001b[32m [repeated 6x across cluster]\u001b[0m\n"
     ]
    },
    {
     "name": "stdout",
     "output_type": "stream",
     "text": [
      "\u001b[36m(launch_and_fit pid=11320)\u001b[0m save graph in  results/FL/\n",
      "\u001b[36m(launch_and_fit pid=11320)\u001b[0m \tTrain Epoch: 10 \tTrain_loss: 0.0058 | Train_acc: 99.6528 % | Validation_loss: 1.1812 | Validation_acc: 75.0000 %\u001b[32m [repeated 6x across cluster]\u001b[0m\n",
      "\u001b[36m(launch_and_fit pid=11320)\u001b[0m features.0.weight 5.245208740234375e-06\n",
      "\u001b[36m(launch_and_fit pid=11320)\u001b[0m features.0.bias 4.291534423828125e-06\n",
      "\u001b[36m(launch_and_fit pid=11320)\u001b[0m features.3.weight 1.9073486328125e-06\n",
      "\u001b[36m(launch_and_fit pid=11320)\u001b[0m features.3.bias 4.291534423828125e-06\n",
      "\u001b[36m(launch_and_fit pid=11320)\u001b[0m classifier.0.weight 1.430511474609375e-06\n",
      "\u001b[36m(launch_and_fit pid=11320)\u001b[0m classifier.0.bias 1.6689300537109375e-06\n",
      "\u001b[36m(launch_and_fit pid=11320)\u001b[0m classifier.2.weight 1.1920928955078125e-06\n",
      "\u001b[36m(launch_and_fit pid=11320)\u001b[0m classifier.2.bias 1.430511474609375e-06\n",
      "\u001b[36m(launch_and_fit pid=11320)\u001b[0m classifier.3.weights 1.430511474609375e-06\n",
      "\u001b[36m(launch_and_fit pid=11320)\u001b[0m classifier.4.weight 1.1920928955078125e-06\n",
      "\u001b[36m(launch_and_fit pid=11320)\u001b[0m classifier.4.bias 1.1920928955078125e-06\n",
      "\u001b[36m(launch_and_fit pid=11402)\u001b[0m Run with homomorphic encryption\n",
      "\u001b[36m(launch_and_fit pid=11345)\u001b[0m save graph in  results/FL/\n",
      "\u001b[36m(launch_and_fit pid=11345)\u001b[0m \tTrain Epoch: 10 \tTrain_loss: 0.0055 | Train_acc: 99.6528 % | Validation_loss: 0.6280 | Validation_acc: 75.0000 %\n",
      "\u001b[36m(launch_and_fit pid=11345)\u001b[0m classifier.4.bias 1.1920928955078125e-06\u001b[32m [repeated 11x across cluster]\u001b[0m\n",
      "\u001b[36m(launch_and_fit pid=11402)\u001b[0m [Client 1, round 14] fit, config: {'learning_rate': 0.003, 'batch_size': '32', 'server_round': 14, 'local_epochs': 10}\n",
      "\u001b[36m(launch_and_fit pid=11402)\u001b[0m Updated model\n"
     ]
    },
    {
     "name": "stderr",
     "output_type": "stream",
     "text": [
      "  0%|\u001b[34m          \u001b[0m| 0/10 [00:00<?, ?it/s]\n",
      "100%|\u001b[34m██████████\u001b[0m| 10/10 [00:19<00:00,  1.93s/it]\u001b[32m [repeated 4x across cluster]\u001b[0m\n"
     ]
    },
    {
     "name": "stdout",
     "output_type": "stream",
     "text": [
      "\u001b[36m(launch_and_fit pid=11402)\u001b[0m \tTrain Epoch: 1 \tTrain_loss: 0.2056 | Train_acc: 91.6667 % | Validation_loss: 0.9766 | Validation_acc: 60.7143 %\n",
      "\u001b[36m(launch_and_fit pid=11427)\u001b[0m Run with homomorphic encryption\n",
      "\u001b[36m(launch_and_fit pid=11427)\u001b[0m [Client 0, round 14] fit, config: {'learning_rate': 0.003, 'batch_size': '32', 'server_round': 14, 'local_epochs': 10}\n"
     ]
    },
    {
     "name": "stderr",
     "output_type": "stream",
     "text": [
      "  0%|\u001b[34m          \u001b[0m| 0/10 [00:00<?, ?it/s]\n",
      " 20%|\u001b[34m██        \u001b[0m| 2/10 [00:04<00:16,  2.05s/it]\u001b[32m [repeated 4x across cluster]\u001b[0m\n"
     ]
    },
    {
     "name": "stdout",
     "output_type": "stream",
     "text": [
      "\u001b[36m(launch_and_fit pid=11427)\u001b[0m Updated model\n",
      "\u001b[36m(launch_and_fit pid=11402)\u001b[0m \tTrain Epoch: 4 \tTrain_loss: 0.0231 | Train_acc: 99.3056 % | Validation_loss: 1.1515 | Validation_acc: 67.8571 %\u001b[32m [repeated 6x across cluster]\u001b[0m\n"
     ]
    },
    {
     "name": "stderr",
     "output_type": "stream",
     "text": [
      " 50%|\u001b[34m█████     \u001b[0m| 5/10 [00:09<00:09,  1.87s/it]\u001b[32m [repeated 6x across cluster]\u001b[0m\n"
     ]
    },
    {
     "name": "stdout",
     "output_type": "stream",
     "text": [
      "\u001b[36m(launch_and_fit pid=11402)\u001b[0m \tTrain Epoch: 7 \tTrain_loss: 0.0010 | Train_acc: 100.0000 % | Validation_loss: 1.3758 | Validation_acc: 67.8571 %\u001b[32m [repeated 6x across cluster]\u001b[0m\n"
     ]
    },
    {
     "name": "stderr",
     "output_type": "stream",
     "text": [
      " 80%|\u001b[34m████████  \u001b[0m| 8/10 [00:15<00:03,  1.83s/it]\u001b[32m [repeated 6x across cluster]\u001b[0m\n"
     ]
    },
    {
     "name": "stdout",
     "output_type": "stream",
     "text": [
      "\u001b[36m(launch_and_fit pid=11402)\u001b[0m save graph in  results/FL/\n",
      "\u001b[36m(launch_and_fit pid=11402)\u001b[0m \tTrain Epoch: 10 \tTrain_loss: 0.0007 | Train_acc: 100.0000 % | Validation_loss: 1.5013 | Validation_acc: 67.8571 %\u001b[32m [repeated 6x across cluster]\u001b[0m\n",
      "\u001b[36m(launch_and_fit pid=11402)\u001b[0m features.0.weight 7.867813110351562e-06\n",
      "\u001b[36m(launch_and_fit pid=11402)\u001b[0m features.0.bias 1.6689300537109375e-06\n",
      "\u001b[36m(launch_and_fit pid=11402)\u001b[0m features.3.weight 1.6689300537109375e-06\n",
      "\u001b[36m(launch_and_fit pid=11402)\u001b[0m features.3.bias 1.430511474609375e-06\n",
      "\u001b[36m(launch_and_fit pid=11402)\u001b[0m classifier.0.weight 1.6689300537109375e-06\n",
      "\u001b[36m(launch_and_fit pid=11402)\u001b[0m classifier.0.bias 1.430511474609375e-06\n",
      "\u001b[36m(launch_and_fit pid=11402)\u001b[0m classifier.2.weight 1.430511474609375e-06\n",
      "\u001b[36m(launch_and_fit pid=11402)\u001b[0m classifier.2.bias 1.6689300537109375e-06\n",
      "\u001b[36m(launch_and_fit pid=11402)\u001b[0m classifier.3.weights 1.430511474609375e-06\n",
      "\u001b[36m(launch_and_fit pid=11402)\u001b[0m classifier.4.weight 1.1920928955078125e-06\n",
      "\u001b[36m(launch_and_fit pid=11402)\u001b[0m classifier.4.bias 1.430511474609375e-06\n"
     ]
    },
    {
     "name": "stderr",
     "output_type": "stream",
     "text": [
      "DEBUG flwr 2024-07-24 05:16:04,525 | server.py:236 | fit_round 14 received 10 results and 0 failures\n"
     ]
    },
    {
     "name": "stdout",
     "output_type": "stream",
     "text": [
      "Saving round 14 aggregated_parameters...\n"
     ]
    },
    {
     "name": "stderr",
     "output_type": "stream",
     "text": [
      "DEBUG flwr 2024-07-24 05:16:06,727 | server.py:173 | evaluate_round 14: strategy sampled 10 clients (out of 10)\n"
     ]
    },
    {
     "name": "stdout",
     "output_type": "stream",
     "text": [
      "\u001b[36m(launch_and_evaluate pid=11493)\u001b[0m Run with homomorphic encryption\n",
      "\u001b[36m(launch_and_fit pid=11427)\u001b[0m save graph in  results/FL/\n",
      "\u001b[36m(launch_and_fit pid=11427)\u001b[0m \tTrain Epoch: 10 \tTrain_loss: 0.0006 | Train_acc: 100.0000 % | Validation_loss: 1.9811 | Validation_acc: 64.2857 %\n",
      "\u001b[36m(launch_and_fit pid=11427)\u001b[0m classifier.4.bias 1.6689300537109375e-06\u001b[32m [repeated 11x across cluster]\u001b[0m\n",
      "\u001b[36m(launch_and_evaluate pid=11493)\u001b[0m [Client 8] evaluate, config: {}\n",
      "\u001b[36m(launch_and_evaluate pid=11493)\u001b[0m Updated model\n",
      "\u001b[36m(launch_and_evaluate pid=11573)\u001b[0m Run with homomorphic encryption\u001b[32m [repeated 2x across cluster]\u001b[0m\n",
      "\u001b[36m(launch_and_evaluate pid=11494)\u001b[0m [Client 4] evaluate, config: {}\n",
      "\u001b[36m(launch_and_evaluate pid=11494)\u001b[0m Updated model\n",
      "\u001b[36m(launch_and_evaluate pid=11574)\u001b[0m [Client 6] evaluate, config: {}\n",
      "\u001b[36m(launch_and_evaluate pid=11573)\u001b[0m Updated model\n",
      "\u001b[36m(launch_and_evaluate pid=11650)\u001b[0m Run with homomorphic encryption\u001b[32m [repeated 2x across cluster]\u001b[0m\n",
      "\u001b[36m(launch_and_evaluate pid=11573)\u001b[0m [Client 2] evaluate, config: {}\n",
      "\u001b[36m(launch_and_evaluate pid=11574)\u001b[0m Updated model\n",
      "\u001b[36m(launch_and_evaluate pid=11650)\u001b[0m [Client 7] evaluate, config: {}\n",
      "\u001b[36m(launch_and_evaluate pid=11650)\u001b[0m Updated model\n",
      "\u001b[36m(launch_and_evaluate pid=11728)\u001b[0m Run with homomorphic encryption\u001b[32m [repeated 2x across cluster]\u001b[0m\n",
      "\u001b[36m(launch_and_evaluate pid=11652)\u001b[0m [Client 9] evaluate, config: {}\n",
      "\u001b[36m(launch_and_evaluate pid=11652)\u001b[0m Updated model\n",
      "\u001b[36m(launch_and_evaluate pid=11728)\u001b[0m [Client 3] evaluate, config: {}\n",
      "\u001b[36m(launch_and_evaluate pid=11728)\u001b[0m Updated model\n",
      "\u001b[36m(launch_and_evaluate pid=11806)\u001b[0m Run with homomorphic encryption\u001b[32m [repeated 2x across cluster]\u001b[0m\n",
      "\u001b[36m(launch_and_evaluate pid=11753)\u001b[0m [Client 5] evaluate, config: {}\n",
      "\u001b[36m(launch_and_evaluate pid=11753)\u001b[0m Updated model\n",
      "\u001b[36m(launch_and_evaluate pid=11806)\u001b[0m [Client 1] evaluate, config: {}\n",
      "\u001b[36m(launch_and_evaluate pid=11806)\u001b[0m Updated model\n"
     ]
    },
    {
     "name": "stderr",
     "output_type": "stream",
     "text": [
      "DEBUG flwr 2024-07-24 05:17:29,698 | server.py:187 | evaluate_round 14 received 10 results and 0 failures\n",
      "DEBUG flwr 2024-07-24 05:17:29,700 | server.py:222 | fit_round 15: strategy sampled 10 clients (out of 10)\n"
     ]
    },
    {
     "name": "stdout",
     "output_type": "stream",
     "text": [
      "\u001b[36m(launch_and_fit pid=11895)\u001b[0m Run with homomorphic encryption\u001b[32m [repeated 2x across cluster]\u001b[0m\n",
      "\u001b[36m(launch_and_evaluate pid=11808)\u001b[0m [Client 0] evaluate, config: {}\n",
      "\u001b[36m(launch_and_evaluate pid=11808)\u001b[0m Updated model\n",
      "\u001b[36m(launch_and_fit pid=11895)\u001b[0m [Client 3, round 15] fit, config: {'learning_rate': 0.003, 'batch_size': '32', 'server_round': 15, 'local_epochs': 10}\n",
      "\u001b[36m(launch_and_fit pid=11895)\u001b[0m Updated model\n"
     ]
    },
    {
     "name": "stderr",
     "output_type": "stream",
     "text": [
      "  0%|\u001b[34m          \u001b[0m| 0/10 [00:00<?, ?it/s]\n",
      "100%|\u001b[34m██████████\u001b[0m| 10/10 [00:18<00:00,  1.89s/it]\u001b[32m [repeated 4x across cluster]\u001b[0m\n"
     ]
    },
    {
     "name": "stdout",
     "output_type": "stream",
     "text": [
      "\u001b[36m(launch_and_fit pid=11895)\u001b[0m \tTrain Epoch: 1 \tTrain_loss: 0.1001 | Train_acc: 95.8333 % | Validation_loss: 1.7711 | Validation_acc: 60.7143 %\n",
      "\u001b[36m(launch_and_fit pid=11894)\u001b[0m Run with homomorphic encryption\n",
      "\u001b[36m(launch_and_fit pid=11894)\u001b[0m [Client 8, round 15] fit, config: {'learning_rate': 0.003, 'batch_size': '32', 'server_round': 15, 'local_epochs': 10}\n"
     ]
    },
    {
     "name": "stderr",
     "output_type": "stream",
     "text": [
      "  0%|\u001b[34m          \u001b[0m| 0/10 [00:00<?, ?it/s]\n",
      " 30%|\u001b[34m███       \u001b[0m| 3/10 [00:06<00:14,  2.03s/it]\u001b[32m [repeated 5x across cluster]\u001b[0m\n"
     ]
    },
    {
     "name": "stdout",
     "output_type": "stream",
     "text": [
      "\u001b[36m(launch_and_fit pid=11894)\u001b[0m Updated model\n",
      "\u001b[36m(launch_and_fit pid=11895)\u001b[0m \tTrain Epoch: 4 \tTrain_loss: 0.0034 | Train_acc: 100.0000 % | Validation_loss: 1.6601 | Validation_acc: 67.8571 %\u001b[32m [repeated 6x across cluster]\u001b[0m\n"
     ]
    },
    {
     "name": "stderr",
     "output_type": "stream",
     "text": [
      " 60%|\u001b[34m██████    \u001b[0m| 6/10 [00:12<00:07,  1.98s/it]\u001b[32m [repeated 6x across cluster]\u001b[0m\n"
     ]
    },
    {
     "name": "stdout",
     "output_type": "stream",
     "text": [
      "\u001b[36m(launch_and_fit pid=11895)\u001b[0m \tTrain Epoch: 7 \tTrain_loss: 0.0006 | Train_acc: 100.0000 % | Validation_loss: 1.7624 | Validation_acc: 64.2857 %\u001b[32m [repeated 6x across cluster]\u001b[0m\n"
     ]
    },
    {
     "name": "stderr",
     "output_type": "stream",
     "text": [
      " 90%|\u001b[34m█████████ \u001b[0m| 9/10 [00:17<00:01,  1.94s/it]\u001b[32m [repeated 6x across cluster]\u001b[0m\n"
     ]
    },
    {
     "name": "stdout",
     "output_type": "stream",
     "text": [
      "\u001b[36m(launch_and_fit pid=11895)\u001b[0m save graph in  results/FL/\n",
      "\u001b[36m(launch_and_fit pid=11895)\u001b[0m \tTrain Epoch: 10 \tTrain_loss: 0.0004 | Train_acc: 100.0000 % | Validation_loss: 1.8731 | Validation_acc: 64.2857 %\u001b[32m [repeated 6x across cluster]\u001b[0m\n",
      "\u001b[36m(launch_and_fit pid=11895)\u001b[0m features.0.weight 6.198883056640625e-06\n",
      "\u001b[36m(launch_and_fit pid=11895)\u001b[0m features.0.bias 1.6689300537109375e-06\n",
      "\u001b[36m(launch_and_fit pid=11895)\u001b[0m features.3.weight 1.430511474609375e-06\n",
      "\u001b[36m(launch_and_fit pid=11895)\u001b[0m features.3.bias 1.430511474609375e-06\n",
      "\u001b[36m(launch_and_fit pid=11895)\u001b[0m classifier.0.weight 1.6689300537109375e-06\n",
      "\u001b[36m(launch_and_fit pid=11895)\u001b[0m classifier.0.bias 1.1920928955078125e-06\n",
      "\u001b[36m(launch_and_fit pid=11895)\u001b[0m classifier.2.weight 1.1920928955078125e-06\n",
      "\u001b[36m(launch_and_fit pid=11895)\u001b[0m classifier.2.bias 1.430511474609375e-06\n",
      "\u001b[36m(launch_and_fit pid=11895)\u001b[0m classifier.3.weights 1.1920928955078125e-06\n",
      "\u001b[36m(launch_and_fit pid=11895)\u001b[0m classifier.4.weight 1.1920928955078125e-06\n",
      "\u001b[36m(launch_and_fit pid=11895)\u001b[0m classifier.4.bias 1.6689300537109375e-06\n",
      "\u001b[36m(launch_and_fit pid=11977)\u001b[0m Run with homomorphic encryption\n",
      "\u001b[36m(launch_and_fit pid=11894)\u001b[0m save graph in  results/FL/\n",
      "\u001b[36m(launch_and_fit pid=11894)\u001b[0m \tTrain Epoch: 10 \tTrain_loss: 0.0005 | Train_acc: 100.0000 % | Validation_loss: 1.0936 | Validation_acc: 78.5714 %\n",
      "\u001b[36m(launch_and_fit pid=11894)\u001b[0m classifier.4.bias 2.384185791015625e-06\u001b[32m [repeated 11x across cluster]\u001b[0m\n",
      "\u001b[36m(launch_and_fit pid=11977)\u001b[0m [Client 7, round 15] fit, config: {'learning_rate': 0.003, 'batch_size': '32', 'server_round': 15, 'local_epochs': 10}\n",
      "\u001b[36m(launch_and_fit pid=11977)\u001b[0m Updated model\n"
     ]
    },
    {
     "name": "stderr",
     "output_type": "stream",
     "text": [
      "  0%|\u001b[34m          \u001b[0m| 0/10 [00:00<?, ?it/s]\n",
      "100%|\u001b[34m██████████\u001b[0m| 10/10 [00:20<00:00,  2.01s/it]\u001b[32m [repeated 3x across cluster]\u001b[0m\n"
     ]
    },
    {
     "name": "stdout",
     "output_type": "stream",
     "text": [
      "\u001b[36m(launch_and_fit pid=11977)\u001b[0m \tTrain Epoch: 1 \tTrain_loss: 0.0987 | Train_acc: 97.2222 % | Validation_loss: 1.1498 | Validation_acc: 57.1429 %\n",
      "\u001b[36m(launch_and_fit pid=11979)\u001b[0m Run with homomorphic encryption\n",
      "\u001b[36m(launch_and_fit pid=11979)\u001b[0m [Client 9, round 15] fit, config: {'learning_rate': 0.003, 'batch_size': '32', 'server_round': 15, 'local_epochs': 10}\n",
      "\u001b[36m(launch_and_fit pid=11979)\u001b[0m Updated model\n"
     ]
    },
    {
     "name": "stderr",
     "output_type": "stream",
     "text": [
      "  0%|\u001b[34m          \u001b[0m| 0/10 [00:00<?, ?it/s]\n",
      " 30%|\u001b[34m███       \u001b[0m| 3/10 [00:06<00:14,  2.05s/it]\u001b[32m [repeated 5x across cluster]\u001b[0m\n"
     ]
    },
    {
     "name": "stdout",
     "output_type": "stream",
     "text": [
      "\u001b[36m(launch_and_fit pid=11977)\u001b[0m \tTrain Epoch: 4 \tTrain_loss: 0.0036 | Train_acc: 100.0000 % | Validation_loss: 1.6857 | Validation_acc: 71.4286 %\u001b[32m [repeated 6x across cluster]\u001b[0m\n"
     ]
    },
    {
     "name": "stderr",
     "output_type": "stream",
     "text": [
      " 60%|\u001b[34m██████    \u001b[0m| 6/10 [00:12<00:07,  1.96s/it]\u001b[32m [repeated 6x across cluster]\u001b[0m\n"
     ]
    },
    {
     "name": "stdout",
     "output_type": "stream",
     "text": [
      "\u001b[36m(launch_and_fit pid=11977)\u001b[0m \tTrain Epoch: 7 \tTrain_loss: 0.0004 | Train_acc: 100.0000 % | Validation_loss: 1.8630 | Validation_acc: 71.4286 %\u001b[32m [repeated 6x across cluster]\u001b[0m\n"
     ]
    },
    {
     "name": "stderr",
     "output_type": "stream",
     "text": [
      " 90%|\u001b[34m█████████ \u001b[0m| 9/10 [00:18<00:01,  1.98s/it]\u001b[32m [repeated 6x across cluster]\u001b[0m\n"
     ]
    },
    {
     "name": "stdout",
     "output_type": "stream",
     "text": [
      "\u001b[36m(launch_and_fit pid=11977)\u001b[0m save graph in  results/FL/\n",
      "\u001b[36m(launch_and_fit pid=11977)\u001b[0m \tTrain Epoch: 10 \tTrain_loss: 0.0003 | Train_acc: 100.0000 % | Validation_loss: 1.8929 | Validation_acc: 71.4286 %\u001b[32m [repeated 6x across cluster]\u001b[0m\n",
      "\u001b[36m(launch_and_fit pid=11977)\u001b[0m features.0.weight 5.9604644775390625e-06\n",
      "\u001b[36m(launch_and_fit pid=11977)\u001b[0m features.0.bias 2.1457672119140625e-06\n",
      "\u001b[36m(launch_and_fit pid=11977)\u001b[0m features.3.weight 1.430511474609375e-06\n",
      "\u001b[36m(launch_and_fit pid=11977)\u001b[0m features.3.bias 1.430511474609375e-06\n",
      "\u001b[36m(launch_and_fit pid=11977)\u001b[0m classifier.0.weight 2.1457672119140625e-06\n",
      "\u001b[36m(launch_and_fit pid=11977)\u001b[0m classifier.0.bias 1.1920928955078125e-06\n",
      "\u001b[36m(launch_and_fit pid=11977)\u001b[0m classifier.2.weight 1.1920928955078125e-06\n",
      "\u001b[36m(launch_and_fit pid=11977)\u001b[0m classifier.2.bias 1.1920928955078125e-06\n",
      "\u001b[36m(launch_and_fit pid=11977)\u001b[0m classifier.3.weights 1.430511474609375e-06\n",
      "\u001b[36m(launch_and_fit pid=11977)\u001b[0m classifier.4.weight 1.1920928955078125e-06\n",
      "\u001b[36m(launch_and_fit pid=11977)\u001b[0m classifier.4.bias 1.1920928955078125e-06\n",
      "\u001b[36m(launch_and_fit pid=12059)\u001b[0m Run with homomorphic encryption\n",
      "\u001b[36m(launch_and_fit pid=11979)\u001b[0m save graph in  results/FL/\n",
      "\u001b[36m(launch_and_fit pid=11979)\u001b[0m \tTrain Epoch: 10 \tTrain_loss: 0.0011 | Train_acc: 100.0000 % | Validation_loss: 1.2515 | Validation_acc: 82.7586 %\n",
      "\u001b[36m(launch_and_fit pid=11979)\u001b[0m classifier.4.bias 1.6689300537109375e-06\u001b[32m [repeated 11x across cluster]\u001b[0m\n",
      "\u001b[36m(launch_and_fit pid=12059)\u001b[0m [Client 4, round 15] fit, config: {'learning_rate': 0.003, 'batch_size': '32', 'server_round': 15, 'local_epochs': 10}\n"
     ]
    },
    {
     "name": "stderr",
     "output_type": "stream",
     "text": [
      "  0%|\u001b[34m          \u001b[0m| 0/10 [00:00<?, ?it/s]\n",
      "100%|\u001b[34m██████████\u001b[0m| 10/10 [00:20<00:00,  2.04s/it]\u001b[32m [repeated 3x across cluster]\u001b[0m\n"
     ]
    },
    {
     "name": "stdout",
     "output_type": "stream",
     "text": [
      "\u001b[36m(launch_and_fit pid=12059)\u001b[0m Updated model\n",
      "\u001b[36m(launch_and_fit pid=12059)\u001b[0m \tTrain Epoch: 1 \tTrain_loss: 0.1542 | Train_acc: 94.0972 % | Validation_loss: 1.1359 | Validation_acc: 64.2857 %\n",
      "\u001b[36m(launch_and_fit pid=12061)\u001b[0m Run with homomorphic encryption\n",
      "\u001b[36m(launch_and_fit pid=12061)\u001b[0m [Client 6, round 15] fit, config: {'learning_rate': 0.003, 'batch_size': '32', 'server_round': 15, 'local_epochs': 10}\n"
     ]
    },
    {
     "name": "stderr",
     "output_type": "stream",
     "text": [
      "  0%|\u001b[34m          \u001b[0m| 0/10 [00:00<?, ?it/s]\n",
      " 30%|\u001b[34m███       \u001b[0m| 3/10 [00:06<00:14,  2.07s/it]\u001b[32m [repeated 5x across cluster]\u001b[0m\n"
     ]
    },
    {
     "name": "stdout",
     "output_type": "stream",
     "text": [
      "\u001b[36m(launch_and_fit pid=12061)\u001b[0m Updated model\n",
      "\u001b[36m(launch_and_fit pid=12059)\u001b[0m \tTrain Epoch: 4 \tTrain_loss: 0.0031 | Train_acc: 100.0000 % | Validation_loss: 1.4758 | Validation_acc: 67.8571 %\u001b[32m [repeated 6x across cluster]\u001b[0m\n"
     ]
    },
    {
     "name": "stderr",
     "output_type": "stream",
     "text": [
      " 60%|\u001b[34m██████    \u001b[0m| 6/10 [00:12<00:07,  1.96s/it]\u001b[32m [repeated 6x across cluster]\u001b[0m\n"
     ]
    },
    {
     "name": "stdout",
     "output_type": "stream",
     "text": [
      "\u001b[36m(launch_and_fit pid=12059)\u001b[0m \tTrain Epoch: 7 \tTrain_loss: 0.0005 | Train_acc: 100.0000 % | Validation_loss: 1.6165 | Validation_acc: 67.8571 %\u001b[32m [repeated 6x across cluster]\u001b[0m\n"
     ]
    },
    {
     "name": "stderr",
     "output_type": "stream",
     "text": [
      " 90%|\u001b[34m█████████ \u001b[0m| 9/10 [00:17<00:01,  1.94s/it]\u001b[32m [repeated 6x across cluster]\u001b[0m\n"
     ]
    },
    {
     "name": "stdout",
     "output_type": "stream",
     "text": [
      "\u001b[36m(launch_and_fit pid=12059)\u001b[0m save graph in  results/FL/\n",
      "\u001b[36m(launch_and_fit pid=12059)\u001b[0m \tTrain Epoch: 10 \tTrain_loss: 0.0004 | Train_acc: 100.0000 % | Validation_loss: 1.6741 | Validation_acc: 67.8571 %\u001b[32m [repeated 6x across cluster]\u001b[0m\n",
      "\u001b[36m(launch_and_fit pid=12059)\u001b[0m features.0.weight 2.384185791015625e-05\n",
      "\u001b[36m(launch_and_fit pid=12059)\u001b[0m features.0.bias 1.6689300537109375e-06\n",
      "\u001b[36m(launch_and_fit pid=12059)\u001b[0m features.3.weight 1.6689300537109375e-06\n",
      "\u001b[36m(launch_and_fit pid=12059)\u001b[0m features.3.bias 1.430511474609375e-06\n",
      "\u001b[36m(launch_and_fit pid=12059)\u001b[0m classifier.0.weight 1.430511474609375e-06\n",
      "\u001b[36m(launch_and_fit pid=12059)\u001b[0m classifier.0.bias 1.1920928955078125e-06\n",
      "\u001b[36m(launch_and_fit pid=12059)\u001b[0m classifier.2.weight 1.430511474609375e-06\n",
      "\u001b[36m(launch_and_fit pid=12059)\u001b[0m classifier.2.bias 1.1920928955078125e-06\n",
      "\u001b[36m(launch_and_fit pid=12059)\u001b[0m classifier.3.weights 1.430511474609375e-06\n",
      "\u001b[36m(launch_and_fit pid=12059)\u001b[0m classifier.4.weight 1.430511474609375e-06\n",
      "\u001b[36m(launch_and_fit pid=12059)\u001b[0m classifier.4.bias 1.6689300537109375e-06\n",
      "\u001b[36m(launch_and_fit pid=12141)\u001b[0m Run with homomorphic encryption\n",
      "\u001b[36m(launch_and_fit pid=12061)\u001b[0m save graph in  results/FL/\n",
      "\u001b[36m(launch_and_fit pid=12061)\u001b[0m \tTrain Epoch: 10 \tTrain_loss: 0.0404 | Train_acc: 96.2963 % | Validation_loss: 0.6742 | Validation_acc: 78.5714 %\n",
      "\u001b[36m(launch_and_fit pid=12061)\u001b[0m classifier.4.bias 1.430511474609375e-06\u001b[32m [repeated 11x across cluster]\u001b[0m\n",
      "\u001b[36m(launch_and_fit pid=12141)\u001b[0m [Client 5, round 15] fit, config: {'learning_rate': 0.003, 'batch_size': '32', 'server_round': 15, 'local_epochs': 10}\n",
      "\u001b[36m(launch_and_fit pid=12141)\u001b[0m Updated model\n"
     ]
    },
    {
     "name": "stderr",
     "output_type": "stream",
     "text": [
      "  0%|\u001b[34m          \u001b[0m| 0/10 [00:00<?, ?it/s]\n",
      "100%|\u001b[34m██████████\u001b[0m| 10/10 [00:20<00:00,  2.02s/it]\u001b[32m [repeated 3x across cluster]\u001b[0m\n"
     ]
    },
    {
     "name": "stdout",
     "output_type": "stream",
     "text": [
      "\u001b[36m(launch_and_fit pid=12141)\u001b[0m \tTrain Epoch: 1 \tTrain_loss: 0.1369 | Train_acc: 95.8333 % | Validation_loss: 2.0039 | Validation_acc: 57.1429 %\n",
      "\u001b[36m(launch_and_fit pid=12143)\u001b[0m Run with homomorphic encryption\n",
      "\u001b[36m(launch_and_fit pid=12143)\u001b[0m [Client 1, round 15] fit, config: {'learning_rate': 0.003, 'batch_size': '32', 'server_round': 15, 'local_epochs': 10}\n"
     ]
    },
    {
     "name": "stderr",
     "output_type": "stream",
     "text": [
      "  0%|\u001b[34m          \u001b[0m| 0/10 [00:00<?, ?it/s]\n",
      " 30%|\u001b[34m███       \u001b[0m| 3/10 [00:06<00:14,  2.01s/it]\u001b[32m [repeated 5x across cluster]\u001b[0m\n"
     ]
    },
    {
     "name": "stdout",
     "output_type": "stream",
     "text": [
      "\u001b[36m(launch_and_fit pid=12143)\u001b[0m Updated model\n",
      "\u001b[36m(launch_and_fit pid=12141)\u001b[0m \tTrain Epoch: 4 \tTrain_loss: 0.0107 | Train_acc: 99.6528 % | Validation_loss: 1.8948 | Validation_acc: 53.5714 %\u001b[32m [repeated 6x across cluster]\u001b[0m\n"
     ]
    },
    {
     "name": "stderr",
     "output_type": "stream",
     "text": [
      " 60%|\u001b[34m██████    \u001b[0m| 6/10 [00:11<00:07,  1.93s/it]\u001b[32m [repeated 6x across cluster]\u001b[0m\n"
     ]
    },
    {
     "name": "stdout",
     "output_type": "stream",
     "text": [
      "\u001b[36m(launch_and_fit pid=12141)\u001b[0m \tTrain Epoch: 7 \tTrain_loss: 0.0012 | Train_acc: 100.0000 % | Validation_loss: 2.1457 | Validation_acc: 57.1429 %\u001b[32m [repeated 6x across cluster]\u001b[0m\n"
     ]
    },
    {
     "name": "stderr",
     "output_type": "stream",
     "text": [
      " 90%|\u001b[34m█████████ \u001b[0m| 9/10 [00:17<00:01,  1.99s/it]\u001b[32m [repeated 6x across cluster]\u001b[0m\n"
     ]
    },
    {
     "name": "stdout",
     "output_type": "stream",
     "text": [
      "\u001b[36m(launch_and_fit pid=12141)\u001b[0m save graph in  results/FL/\n",
      "\u001b[36m(launch_and_fit pid=12141)\u001b[0m \tTrain Epoch: 10 \tTrain_loss: 0.0006 | Train_acc: 100.0000 % | Validation_loss: 2.1771 | Validation_acc: 57.1429 %\u001b[32m [repeated 6x across cluster]\u001b[0m\n",
      "\u001b[36m(launch_and_fit pid=12141)\u001b[0m features.0.weight 5.7220458984375e-06\n",
      "\u001b[36m(launch_and_fit pid=12141)\u001b[0m features.0.bias 1.430511474609375e-06\n",
      "\u001b[36m(launch_and_fit pid=12141)\u001b[0m features.3.weight 1.6689300537109375e-06\n",
      "\u001b[36m(launch_and_fit pid=12141)\u001b[0m features.3.bias 1.1920928955078125e-06\n",
      "\u001b[36m(launch_and_fit pid=12141)\u001b[0m classifier.0.weight 1.6689300537109375e-06\n",
      "\u001b[36m(launch_and_fit pid=12141)\u001b[0m classifier.0.bias 1.430511474609375e-06\n",
      "\u001b[36m(launch_and_fit pid=12141)\u001b[0m classifier.2.weight 1.1920928955078125e-06\n",
      "\u001b[36m(launch_and_fit pid=12141)\u001b[0m classifier.2.bias 1.1920928955078125e-06\n",
      "\u001b[36m(launch_and_fit pid=12141)\u001b[0m classifier.3.weights 1.430511474609375e-06\n",
      "\u001b[36m(launch_and_fit pid=12141)\u001b[0m classifier.4.weight 1.1920928955078125e-06\n",
      "\u001b[36m(launch_and_fit pid=12141)\u001b[0m classifier.4.bias 1.1920928955078125e-06\n",
      "\u001b[36m(launch_and_fit pid=12223)\u001b[0m Run with homomorphic encryption\n",
      "\u001b[36m(launch_and_fit pid=12143)\u001b[0m save graph in  results/FL/\n",
      "\u001b[36m(launch_and_fit pid=12143)\u001b[0m \tTrain Epoch: 10 \tTrain_loss: 0.0048 | Train_acc: 100.0000 % | Validation_loss: 1.5981 | Validation_acc: 57.1429 %\n",
      "\u001b[36m(launch_and_fit pid=12143)\u001b[0m classifier.4.bias 1.430511474609375e-06\u001b[32m [repeated 11x across cluster]\u001b[0m\n",
      "\u001b[36m(launch_and_fit pid=12223)\u001b[0m [Client 0, round 15] fit, config: {'learning_rate': 0.003, 'batch_size': '32', 'server_round': 15, 'local_epochs': 10}\n",
      "\u001b[36m(launch_and_fit pid=12223)\u001b[0m Updated model\n"
     ]
    },
    {
     "name": "stderr",
     "output_type": "stream",
     "text": [
      "  0%|\u001b[34m          \u001b[0m| 0/10 [00:00<?, ?it/s]\n",
      "100%|\u001b[34m██████████\u001b[0m| 10/10 [00:19<00:00,  1.98s/it]\u001b[32m [repeated 3x across cluster]\u001b[0m\n"
     ]
    },
    {
     "name": "stdout",
     "output_type": "stream",
     "text": [
      "\u001b[36m(launch_and_fit pid=12223)\u001b[0m \tTrain Epoch: 1 \tTrain_loss: 0.1324 | Train_acc: 92.4769 % | Validation_loss: 1.1449 | Validation_acc: 64.2857 %\n",
      "\u001b[36m(launch_and_fit pid=12225)\u001b[0m Run with homomorphic encryption\n",
      "\u001b[36m(launch_and_fit pid=12225)\u001b[0m [Client 2, round 15] fit, config: {'learning_rate': 0.003, 'batch_size': '32', 'server_round': 15, 'local_epochs': 10}\n",
      "\u001b[36m(launch_and_fit pid=12225)\u001b[0m Updated model\n"
     ]
    },
    {
     "name": "stderr",
     "output_type": "stream",
     "text": [
      "  0%|\u001b[34m          \u001b[0m| 0/10 [00:00<?, ?it/s]\n",
      " 30%|\u001b[34m███       \u001b[0m| 3/10 [00:06<00:13,  1.99s/it]\u001b[32m [repeated 5x across cluster]\u001b[0m\n"
     ]
    },
    {
     "name": "stdout",
     "output_type": "stream",
     "text": [
      "\u001b[36m(launch_and_fit pid=12223)\u001b[0m \tTrain Epoch: 4 \tTrain_loss: 0.0258 | Train_acc: 99.6528 % | Validation_loss: 1.1665 | Validation_acc: 67.8571 %\u001b[32m [repeated 6x across cluster]\u001b[0m\n"
     ]
    },
    {
     "name": "stderr",
     "output_type": "stream",
     "text": [
      " 60%|\u001b[34m██████    \u001b[0m| 6/10 [00:11<00:07,  1.95s/it]\u001b[32m [repeated 6x across cluster]\u001b[0m\n"
     ]
    },
    {
     "name": "stdout",
     "output_type": "stream",
     "text": [
      "\u001b[36m(launch_and_fit pid=12223)\u001b[0m \tTrain Epoch: 7 \tTrain_loss: 0.0010 | Train_acc: 100.0000 % | Validation_loss: 1.6872 | Validation_acc: 64.2857 %\u001b[32m [repeated 6x across cluster]\u001b[0m\n"
     ]
    },
    {
     "name": "stderr",
     "output_type": "stream",
     "text": [
      " 90%|\u001b[34m█████████ \u001b[0m| 9/10 [00:17<00:01,  1.89s/it]\u001b[32m [repeated 6x across cluster]\u001b[0m\n"
     ]
    },
    {
     "name": "stdout",
     "output_type": "stream",
     "text": [
      "\u001b[36m(launch_and_fit pid=12223)\u001b[0m save graph in  results/FL/\n",
      "\u001b[36m(launch_and_fit pid=12223)\u001b[0m \tTrain Epoch: 10 \tTrain_loss: 0.0005 | Train_acc: 100.0000 % | Validation_loss: 1.6549 | Validation_acc: 64.2857 %\u001b[32m [repeated 6x across cluster]\u001b[0m\n",
      "\u001b[36m(launch_and_fit pid=12223)\u001b[0m features.0.weight 5.4836273193359375e-06\n",
      "\u001b[36m(launch_and_fit pid=12223)\u001b[0m features.0.bias 1.9073486328125e-06\n",
      "\u001b[36m(launch_and_fit pid=12223)\u001b[0m features.3.weight 9.5367431640625e-07\n",
      "\u001b[36m(launch_and_fit pid=12223)\u001b[0m features.3.bias 1.430511474609375e-06\n",
      "\u001b[36m(launch_and_fit pid=12223)\u001b[0m classifier.0.weight 1.1920928955078125e-06\n",
      "\u001b[36m(launch_and_fit pid=12223)\u001b[0m classifier.0.bias 1.9073486328125e-06\n",
      "\u001b[36m(launch_and_fit pid=12223)\u001b[0m classifier.2.weight 2.384185791015625e-06\n",
      "\u001b[36m(launch_and_fit pid=12223)\u001b[0m classifier.2.bias 1.6689300537109375e-06\n",
      "\u001b[36m(launch_and_fit pid=12223)\u001b[0m classifier.3.weights 1.6689300537109375e-06\n",
      "\u001b[36m(launch_and_fit pid=12223)\u001b[0m classifier.4.weight 1.430511474609375e-06\n",
      "\u001b[36m(launch_and_fit pid=12223)\u001b[0m classifier.4.bias 1.430511474609375e-06\n"
     ]
    },
    {
     "name": "stderr",
     "output_type": "stream",
     "text": [
      "DEBUG flwr 2024-07-24 05:20:30,870 | server.py:236 | fit_round 15 received 10 results and 0 failures\n"
     ]
    },
    {
     "name": "stdout",
     "output_type": "stream",
     "text": [
      "Saving round 15 aggregated_parameters...\n"
     ]
    },
    {
     "name": "stderr",
     "output_type": "stream",
     "text": [
      "DEBUG flwr 2024-07-24 05:20:32,961 | server.py:173 | evaluate_round 15: strategy sampled 10 clients (out of 10)\n"
     ]
    },
    {
     "name": "stdout",
     "output_type": "stream",
     "text": [
      "\u001b[36m(launch_and_evaluate pid=12314)\u001b[0m Run with homomorphic encryption\n",
      "\u001b[36m(launch_and_fit pid=12225)\u001b[0m save graph in  results/FL/\n",
      "\u001b[36m(launch_and_fit pid=12225)\u001b[0m \tTrain Epoch: 10 \tTrain_loss: 0.0057 | Train_acc: 99.6528 % | Validation_loss: 1.2008 | Validation_acc: 75.0000 %\n",
      "\u001b[36m(launch_and_fit pid=12225)\u001b[0m classifier.4.bias 1.9073486328125e-06\u001b[32m [repeated 11x across cluster]\u001b[0m\n",
      "\u001b[36m(launch_and_evaluate pid=12314)\u001b[0m [Client 7] evaluate, config: {}\n",
      "\u001b[36m(launch_and_evaluate pid=12314)\u001b[0m Updated model\n",
      "\u001b[36m(launch_and_evaluate pid=12393)\u001b[0m Run with homomorphic encryption\u001b[32m [repeated 2x across cluster]\u001b[0m\n",
      "\u001b[36m(launch_and_evaluate pid=12315)\u001b[0m [Client 4] evaluate, config: {}\n",
      "\u001b[36m(launch_and_evaluate pid=12315)\u001b[0m Updated model\n",
      "\u001b[36m(launch_and_evaluate pid=12393)\u001b[0m [Client 9] evaluate, config: {}\n",
      "\u001b[36m(launch_and_evaluate pid=12393)\u001b[0m Updated model\n",
      "\u001b[36m(launch_and_evaluate pid=12471)\u001b[0m Run with homomorphic encryption\u001b[32m [repeated 2x across cluster]\u001b[0m\n",
      "\u001b[36m(launch_and_evaluate pid=12395)\u001b[0m [Client 6] evaluate, config: {}\n",
      "\u001b[36m(launch_and_evaluate pid=12395)\u001b[0m Updated model\n",
      "\u001b[36m(launch_and_evaluate pid=12471)\u001b[0m [Client 5] evaluate, config: {}\n",
      "\u001b[36m(launch_and_evaluate pid=12471)\u001b[0m Updated model\n",
      "\u001b[36m(launch_and_evaluate pid=12550)\u001b[0m Run with homomorphic encryption\u001b[32m [repeated 2x across cluster]\u001b[0m\n",
      "\u001b[36m(launch_and_evaluate pid=12473)\u001b[0m [Client 2] evaluate, config: {}\n",
      "\u001b[36m(launch_and_evaluate pid=12473)\u001b[0m Updated model\n",
      "\u001b[36m(launch_and_evaluate pid=12550)\u001b[0m [Client 8] evaluate, config: {}\n",
      "\u001b[36m(launch_and_evaluate pid=12550)\u001b[0m Updated model\n",
      "\u001b[36m(launch_and_evaluate pid=12628)\u001b[0m Run with homomorphic encryption\u001b[32m [repeated 2x across cluster]\u001b[0m\n",
      "\u001b[36m(launch_and_evaluate pid=12552)\u001b[0m [Client 0] evaluate, config: {}\n",
      "\u001b[36m(launch_and_evaluate pid=12552)\u001b[0m Updated model\n",
      "\u001b[36m(launch_and_evaluate pid=12628)\u001b[0m [Client 3] evaluate, config: {}\n",
      "\u001b[36m(launch_and_evaluate pid=12628)\u001b[0m Updated model\n"
     ]
    },
    {
     "name": "stderr",
     "output_type": "stream",
     "text": [
      "DEBUG flwr 2024-07-24 05:21:53,586 | server.py:187 | evaluate_round 15 received 10 results and 0 failures\n",
      "DEBUG flwr 2024-07-24 05:21:53,587 | server.py:222 | fit_round 16: strategy sampled 10 clients (out of 10)\n"
     ]
    },
    {
     "name": "stdout",
     "output_type": "stream",
     "text": [
      "\u001b[36m(launch_and_fit pid=12715)\u001b[0m Run with homomorphic encryption\u001b[32m [repeated 2x across cluster]\u001b[0m\n",
      "\u001b[36m(launch_and_evaluate pid=12630)\u001b[0m [Client 1] evaluate, config: {}\n",
      "\u001b[36m(launch_and_evaluate pid=12630)\u001b[0m Updated model\n",
      "\u001b[36m(launch_and_fit pid=12715)\u001b[0m [Client 7, round 16] fit, config: {'learning_rate': 0.003, 'batch_size': '32', 'server_round': 16, 'local_epochs': 10}\n"
     ]
    },
    {
     "name": "stderr",
     "output_type": "stream",
     "text": [
      "  0%|\u001b[34m          \u001b[0m| 0/10 [00:00<?, ?it/s]\n",
      "100%|\u001b[34m██████████\u001b[0m| 10/10 [00:19<00:00,  1.95s/it]\u001b[32m [repeated 3x across cluster]\u001b[0m\n"
     ]
    },
    {
     "name": "stdout",
     "output_type": "stream",
     "text": [
      "\u001b[36m(launch_and_fit pid=12715)\u001b[0m Updated model\n",
      "\u001b[36m(launch_and_fit pid=12715)\u001b[0m \tTrain Epoch: 1 \tTrain_loss: 0.0879 | Train_acc: 95.1389 % | Validation_loss: 1.1071 | Validation_acc: 75.0000 %\n",
      "\u001b[36m(launch_and_fit pid=12716)\u001b[0m Run with homomorphic encryption\n",
      "\u001b[36m(launch_and_fit pid=12716)\u001b[0m [Client 8, round 16] fit, config: {'learning_rate': 0.003, 'batch_size': '32', 'server_round': 16, 'local_epochs': 10}\n"
     ]
    },
    {
     "name": "stderr",
     "output_type": "stream",
     "text": [
      "  0%|\u001b[34m          \u001b[0m| 0/10 [00:00<?, ?it/s]\n",
      " 30%|\u001b[34m███       \u001b[0m| 3/10 [00:06<00:13,  1.99s/it]\u001b[32m [repeated 5x across cluster]\u001b[0m\n"
     ]
    },
    {
     "name": "stdout",
     "output_type": "stream",
     "text": [
      "\u001b[36m(launch_and_fit pid=12716)\u001b[0m Updated model\n",
      "\u001b[36m(launch_and_fit pid=12715)\u001b[0m \tTrain Epoch: 4 \tTrain_loss: 0.0007 | Train_acc: 100.0000 % | Validation_loss: 1.5485 | Validation_acc: 71.4286 %\u001b[32m [repeated 6x across cluster]\u001b[0m\n"
     ]
    },
    {
     "name": "stderr",
     "output_type": "stream",
     "text": [
      " 60%|\u001b[34m██████    \u001b[0m| 6/10 [00:11<00:07,  1.86s/it]\u001b[32m [repeated 6x across cluster]\u001b[0m\n"
     ]
    },
    {
     "name": "stdout",
     "output_type": "stream",
     "text": [
      "\u001b[36m(launch_and_fit pid=12716)\u001b[0m \tTrain Epoch: 7 \tTrain_loss: 0.0005 | Train_acc: 100.0000 % | Validation_loss: 1.2209 | Validation_acc: 75.0000 %\u001b[32m [repeated 6x across cluster]\u001b[0m\n"
     ]
    },
    {
     "name": "stderr",
     "output_type": "stream",
     "text": [
      " 90%|\u001b[34m█████████ \u001b[0m| 9/10 [00:17<00:01,  1.88s/it]\u001b[32m [repeated 6x across cluster]\u001b[0m\n"
     ]
    },
    {
     "name": "stdout",
     "output_type": "stream",
     "text": [
      "\u001b[36m(launch_and_fit pid=12716)\u001b[0m save graph in  results/FL/\n",
      "\u001b[36m(launch_and_fit pid=12716)\u001b[0m \tTrain Epoch: 10 \tTrain_loss: 0.0259 | Train_acc: 99.3056 % | Validation_loss: 0.9819 | Validation_acc: 82.1429 %\u001b[32m [repeated 6x across cluster]\u001b[0m\n",
      "\u001b[36m(launch_and_fit pid=12716)\u001b[0m features.0.weight 5.9604644775390625e-06\n",
      "\u001b[36m(launch_and_fit pid=12716)\u001b[0m features.0.bias 2.1457672119140625e-06\n",
      "\u001b[36m(launch_and_fit pid=12716)\u001b[0m features.3.weight 1.6689300537109375e-06\n",
      "\u001b[36m(launch_and_fit pid=12716)\u001b[0m features.3.bias 1.430511474609375e-06\n",
      "\u001b[36m(launch_and_fit pid=12716)\u001b[0m classifier.0.weight 2.384185791015625e-06\n",
      "\u001b[36m(launch_and_fit pid=12716)\u001b[0m classifier.0.bias 1.6689300537109375e-06\n",
      "\u001b[36m(launch_and_fit pid=12716)\u001b[0m classifier.2.weight 1.1920928955078125e-06\n",
      "\u001b[36m(launch_and_fit pid=12716)\u001b[0m classifier.2.bias 1.1920928955078125e-06\n",
      "\u001b[36m(launch_and_fit pid=12716)\u001b[0m classifier.3.weights 1.1920928955078125e-06\n",
      "\u001b[36m(launch_and_fit pid=12716)\u001b[0m classifier.4.weight 1.430511474609375e-06\n",
      "\u001b[36m(launch_and_fit pid=12716)\u001b[0m classifier.4.bias 1.1920928955078125e-06\n",
      "\u001b[36m(launch_and_fit pid=12796)\u001b[0m Run with homomorphic encryption\n",
      "\u001b[36m(launch_and_fit pid=12715)\u001b[0m save graph in  results/FL/\n",
      "\u001b[36m(launch_and_fit pid=12715)\u001b[0m \tTrain Epoch: 10 \tTrain_loss: 0.0003 | Train_acc: 100.0000 % | Validation_loss: 1.7643 | Validation_acc: 71.4286 %\n",
      "\u001b[36m(launch_and_fit pid=12715)\u001b[0m classifier.4.bias 2.384185791015625e-06\u001b[32m [repeated 11x across cluster]\u001b[0m\n",
      "\u001b[36m(launch_and_fit pid=12796)\u001b[0m [Client 9, round 16] fit, config: {'learning_rate': 0.003, 'batch_size': '32', 'server_round': 16, 'local_epochs': 10}\n",
      "\u001b[36m(launch_and_fit pid=12796)\u001b[0m Updated model\n"
     ]
    },
    {
     "name": "stderr",
     "output_type": "stream",
     "text": [
      "  0%|\u001b[34m          \u001b[0m| 0/10 [00:00<?, ?it/s]\n",
      "100%|\u001b[34m██████████\u001b[0m| 10/10 [00:19<00:00,  1.95s/it]\u001b[32m [repeated 3x across cluster]\u001b[0m\n"
     ]
    },
    {
     "name": "stdout",
     "output_type": "stream",
     "text": [
      "\u001b[36m(launch_and_fit pid=12796)\u001b[0m \tTrain Epoch: 1 \tTrain_loss: 0.1214 | Train_acc: 95.8333 % | Validation_loss: 1.0273 | Validation_acc: 68.9655 %\n",
      "\u001b[36m(launch_and_fit pid=12798)\u001b[0m Run with homomorphic encryption\n",
      "\u001b[36m(launch_and_fit pid=12798)\u001b[0m [Client 4, round 16] fit, config: {'learning_rate': 0.003, 'batch_size': '32', 'server_round': 16, 'local_epochs': 10}\n",
      "\u001b[36m(launch_and_fit pid=12798)\u001b[0m Updated model\n"
     ]
    },
    {
     "name": "stderr",
     "output_type": "stream",
     "text": [
      "  0%|\u001b[34m          \u001b[0m| 0/10 [00:00<?, ?it/s]\n",
      " 30%|\u001b[34m███       \u001b[0m| 3/10 [00:06<00:14,  2.02s/it]\u001b[32m [repeated 5x across cluster]\u001b[0m\n"
     ]
    },
    {
     "name": "stdout",
     "output_type": "stream",
     "text": [
      "\u001b[36m(launch_and_fit pid=12796)\u001b[0m \tTrain Epoch: 4 \tTrain_loss: 0.0163 | Train_acc: 99.6528 % | Validation_loss: 0.8359 | Validation_acc: 82.7586 %\u001b[32m [repeated 6x across cluster]\u001b[0m\n"
     ]
    },
    {
     "name": "stderr",
     "output_type": "stream",
     "text": [
      " 60%|\u001b[34m██████    \u001b[0m| 6/10 [00:11<00:07,  1.90s/it]\u001b[32m [repeated 6x across cluster]\u001b[0m\n"
     ]
    },
    {
     "name": "stdout",
     "output_type": "stream",
     "text": [
      "\u001b[36m(launch_and_fit pid=12796)\u001b[0m \tTrain Epoch: 7 \tTrain_loss: 0.0019 | Train_acc: 100.0000 % | Validation_loss: 1.1026 | Validation_acc: 82.7586 %\u001b[32m [repeated 6x across cluster]\u001b[0m\n"
     ]
    },
    {
     "name": "stderr",
     "output_type": "stream",
     "text": [
      " 90%|\u001b[34m█████████ \u001b[0m| 9/10 [00:17<00:01,  1.97s/it]\u001b[32m [repeated 6x across cluster]\u001b[0m\n"
     ]
    },
    {
     "name": "stdout",
     "output_type": "stream",
     "text": [
      "\u001b[36m(launch_and_fit pid=12796)\u001b[0m save graph in  results/FL/\n",
      "\u001b[36m(launch_and_fit pid=12796)\u001b[0m \tTrain Epoch: 10 \tTrain_loss: 0.0131 | Train_acc: 99.6528 % | Validation_loss: 1.2045 | Validation_acc: 75.8621 %\u001b[32m [repeated 6x across cluster]\u001b[0m\n",
      "\u001b[36m(launch_and_fit pid=12796)\u001b[0m features.0.weight 5.7220458984375e-06\n",
      "\u001b[36m(launch_and_fit pid=12796)\u001b[0m features.0.bias 1.430511474609375e-06\n",
      "\u001b[36m(launch_and_fit pid=12796)\u001b[0m features.3.weight 1.430511474609375e-06\n",
      "\u001b[36m(launch_and_fit pid=12796)\u001b[0m features.3.bias 1.1920928955078125e-06\n",
      "\u001b[36m(launch_and_fit pid=12796)\u001b[0m classifier.0.weight 1.430511474609375e-06\n",
      "\u001b[36m(launch_and_fit pid=12796)\u001b[0m classifier.0.bias 1.430511474609375e-06\n",
      "\u001b[36m(launch_and_fit pid=12796)\u001b[0m classifier.2.weight 1.1920928955078125e-06\n",
      "\u001b[36m(launch_and_fit pid=12796)\u001b[0m classifier.2.bias 1.1920928955078125e-06\n",
      "\u001b[36m(launch_and_fit pid=12796)\u001b[0m classifier.3.weights 1.6689300537109375e-06\n",
      "\u001b[36m(launch_and_fit pid=12796)\u001b[0m classifier.4.weight 1.1920928955078125e-06\n",
      "\u001b[36m(launch_and_fit pid=12796)\u001b[0m classifier.4.bias 1.1920928955078125e-06\n",
      "\u001b[36m(launch_and_fit pid=12878)\u001b[0m Run with homomorphic encryption\n",
      "\u001b[36m(launch_and_fit pid=12798)\u001b[0m save graph in  results/FL/\n",
      "\u001b[36m(launch_and_fit pid=12798)\u001b[0m \tTrain Epoch: 10 \tTrain_loss: 0.0003 | Train_acc: 100.0000 % | Validation_loss: 1.5158 | Validation_acc: 71.4286 %\n",
      "\u001b[36m(launch_and_fit pid=12798)\u001b[0m classifier.4.bias 1.430511474609375e-06\u001b[32m [repeated 11x across cluster]\u001b[0m\n",
      "\u001b[36m(launch_and_fit pid=12878)\u001b[0m [Client 5, round 16] fit, config: {'learning_rate': 0.003, 'batch_size': '32', 'server_round': 16, 'local_epochs': 10}\n"
     ]
    },
    {
     "name": "stderr",
     "output_type": "stream",
     "text": [
      "  0%|\u001b[34m          \u001b[0m| 0/10 [00:00<?, ?it/s]\n",
      "100%|\u001b[34m██████████\u001b[0m| 10/10 [00:19<00:00,  1.96s/it]\u001b[32m [repeated 3x across cluster]\u001b[0m\n"
     ]
    },
    {
     "name": "stdout",
     "output_type": "stream",
     "text": [
      "\u001b[36m(launch_and_fit pid=12878)\u001b[0m Updated model\n",
      "\u001b[36m(launch_and_fit pid=12878)\u001b[0m \tTrain Epoch: 1 \tTrain_loss: 0.0910 | Train_acc: 97.2222 % | Validation_loss: 1.6880 | Validation_acc: 50.0000 %\n",
      "\u001b[36m(launch_and_fit pid=12880)\u001b[0m Run with homomorphic encryption\n",
      "\u001b[36m(launch_and_fit pid=12880)\u001b[0m [Client 6, round 16] fit, config: {'learning_rate': 0.003, 'batch_size': '32', 'server_round': 16, 'local_epochs': 10}\n"
     ]
    },
    {
     "name": "stderr",
     "output_type": "stream",
     "text": [
      "  0%|\u001b[34m          \u001b[0m| 0/10 [00:00<?, ?it/s]\n",
      " 30%|\u001b[34m███       \u001b[0m| 3/10 [00:06<00:14,  2.05s/it]\u001b[32m [repeated 5x across cluster]\u001b[0m\n"
     ]
    },
    {
     "name": "stdout",
     "output_type": "stream",
     "text": [
      "\u001b[36m(launch_and_fit pid=12880)\u001b[0m Updated model\n",
      "\u001b[36m(launch_and_fit pid=12880)\u001b[0m \tTrain Epoch: 4 \tTrain_loss: 0.0194 | Train_acc: 99.3056 % | Validation_loss: 0.6455 | Validation_acc: 78.5714 %\u001b[32m [repeated 6x across cluster]\u001b[0m\n"
     ]
    },
    {
     "name": "stderr",
     "output_type": "stream",
     "text": [
      " 60%|\u001b[34m██████    \u001b[0m| 6/10 [00:11<00:07,  1.91s/it]\u001b[32m [repeated 6x across cluster]\u001b[0m\n"
     ]
    },
    {
     "name": "stdout",
     "output_type": "stream",
     "text": [
      "\u001b[36m(launch_and_fit pid=12878)\u001b[0m \tTrain Epoch: 7 \tTrain_loss: 0.0006 | Train_acc: 100.0000 % | Validation_loss: 2.7571 | Validation_acc: 46.4286 %\u001b[32m [repeated 6x across cluster]\u001b[0m\n"
     ]
    },
    {
     "name": "stderr",
     "output_type": "stream",
     "text": [
      " 90%|\u001b[34m█████████ \u001b[0m| 9/10 [00:17<00:01,  1.93s/it]\u001b[32m [repeated 6x across cluster]\u001b[0m\n"
     ]
    },
    {
     "name": "stdout",
     "output_type": "stream",
     "text": [
      "\u001b[36m(launch_and_fit pid=12878)\u001b[0m save graph in  results/FL/\n",
      "\u001b[36m(launch_and_fit pid=12878)\u001b[0m \tTrain Epoch: 10 \tTrain_loss: 0.0003 | Train_acc: 100.0000 % | Validation_loss: 2.7736 | Validation_acc: 46.4286 %\u001b[32m [repeated 6x across cluster]\u001b[0m\n",
      "\u001b[36m(launch_and_fit pid=12878)\u001b[0m features.0.weight 6.4373016357421875e-06\n",
      "\u001b[36m(launch_and_fit pid=12878)\u001b[0m features.0.bias 1.430511474609375e-06\n",
      "\u001b[36m(launch_and_fit pid=12878)\u001b[0m features.3.weight 1.1920928955078125e-06\n",
      "\u001b[36m(launch_and_fit pid=12878)\u001b[0m features.3.bias 1.430511474609375e-06\n",
      "\u001b[36m(launch_and_fit pid=12878)\u001b[0m classifier.0.weight 1.430511474609375e-06\n",
      "\u001b[36m(launch_and_fit pid=12878)\u001b[0m classifier.0.bias 1.430511474609375e-06\n",
      "\u001b[36m(launch_and_fit pid=12878)\u001b[0m classifier.2.weight 1.1920928955078125e-06\n",
      "\u001b[36m(launch_and_fit pid=12878)\u001b[0m classifier.2.bias 9.5367431640625e-07\n",
      "\u001b[36m(launch_and_fit pid=12878)\u001b[0m classifier.3.weights 1.1920928955078125e-06\n",
      "\u001b[36m(launch_and_fit pid=12878)\u001b[0m classifier.4.weight 9.5367431640625e-07\n",
      "\u001b[36m(launch_and_fit pid=12878)\u001b[0m classifier.4.bias 9.5367431640625e-07\n",
      "\u001b[36m(launch_and_fit pid=12960)\u001b[0m Run with homomorphic encryption\n",
      "\u001b[36m(launch_and_fit pid=12880)\u001b[0m save graph in  results/FL/\n",
      "\u001b[36m(launch_and_fit pid=12880)\u001b[0m \tTrain Epoch: 10 \tTrain_loss: 0.0059 | Train_acc: 99.3056 % | Validation_loss: 0.6797 | Validation_acc: 78.5714 %\n",
      "\u001b[36m(launch_and_fit pid=12880)\u001b[0m classifier.4.bias 1.6689300537109375e-06\u001b[32m [repeated 11x across cluster]\u001b[0m\n",
      "\u001b[36m(launch_and_fit pid=12960)\u001b[0m [Client 0, round 16] fit, config: {'learning_rate': 0.003, 'batch_size': '32', 'server_round': 16, 'local_epochs': 10}\n"
     ]
    },
    {
     "name": "stderr",
     "output_type": "stream",
     "text": [
      "  0%|\u001b[34m          \u001b[0m| 0/10 [00:00<?, ?it/s]\n",
      "100%|\u001b[34m██████████\u001b[0m| 10/10 [00:19<00:00,  1.98s/it]\u001b[32m [repeated 3x across cluster]\u001b[0m\n"
     ]
    },
    {
     "name": "stdout",
     "output_type": "stream",
     "text": [
      "\u001b[36m(launch_and_fit pid=12960)\u001b[0m Updated model\n",
      "\u001b[36m(launch_and_fit pid=12960)\u001b[0m \tTrain Epoch: 1 \tTrain_loss: 0.1273 | Train_acc: 95.8333 % | Validation_loss: 1.1406 | Validation_acc: 57.1429 %\n",
      "\u001b[36m(launch_and_fit pid=12962)\u001b[0m Run with homomorphic encryption\n",
      "\u001b[36m(launch_and_fit pid=12962)\u001b[0m [Client 1, round 16] fit, config: {'learning_rate': 0.003, 'batch_size': '32', 'server_round': 16, 'local_epochs': 10}\n"
     ]
    },
    {
     "name": "stderr",
     "output_type": "stream",
     "text": [
      "  0%|\u001b[34m          \u001b[0m| 0/10 [00:00<?, ?it/s]\n",
      " 30%|\u001b[34m███       \u001b[0m| 3/10 [00:06<00:14,  2.05s/it]\u001b[32m [repeated 5x across cluster]\u001b[0m\n"
     ]
    },
    {
     "name": "stdout",
     "output_type": "stream",
     "text": [
      "\u001b[36m(launch_and_fit pid=12962)\u001b[0m Updated model\n",
      "\u001b[36m(launch_and_fit pid=12960)\u001b[0m \tTrain Epoch: 4 \tTrain_loss: 0.0042 | Train_acc: 100.0000 % | Validation_loss: 1.6201 | Validation_acc: 64.2857 %\u001b[32m [repeated 6x across cluster]\u001b[0m\n"
     ]
    },
    {
     "name": "stderr",
     "output_type": "stream",
     "text": [
      " 60%|\u001b[34m██████    \u001b[0m| 6/10 [00:12<00:07,  1.95s/it]\u001b[32m [repeated 6x across cluster]\u001b[0m\n"
     ]
    },
    {
     "name": "stdout",
     "output_type": "stream",
     "text": [
      "\u001b[36m(launch_and_fit pid=12962)\u001b[0m \tTrain Epoch: 7 \tTrain_loss: 0.0005 | Train_acc: 100.0000 % | Validation_loss: 1.2851 | Validation_acc: 67.8571 %\u001b[32m [repeated 6x across cluster]\u001b[0m\n"
     ]
    },
    {
     "name": "stderr",
     "output_type": "stream",
     "text": [
      " 90%|\u001b[34m█████████ \u001b[0m| 9/10 [00:17<00:01,  1.88s/it]\u001b[32m [repeated 6x across cluster]\u001b[0m\n"
     ]
    },
    {
     "name": "stdout",
     "output_type": "stream",
     "text": [
      "\u001b[36m(launch_and_fit pid=12962)\u001b[0m save graph in  results/FL/\n",
      "\u001b[36m(launch_and_fit pid=12962)\u001b[0m \tTrain Epoch: 10 \tTrain_loss: 0.0003 | Train_acc: 100.0000 % | Validation_loss: 1.4062 | Validation_acc: 67.8571 %\u001b[32m [repeated 6x across cluster]\u001b[0m\n",
      "\u001b[36m(launch_and_fit pid=12962)\u001b[0m features.0.weight 5.7220458984375e-06\n",
      "\u001b[36m(launch_and_fit pid=12962)\u001b[0m features.0.bias 1.430511474609375e-06\n",
      "\u001b[36m(launch_and_fit pid=12962)\u001b[0m features.3.weight 1.1920928955078125e-06\n",
      "\u001b[36m(launch_and_fit pid=12962)\u001b[0m features.3.bias 1.1920928955078125e-06\n",
      "\u001b[36m(launch_and_fit pid=12962)\u001b[0m classifier.0.weight 1.6689300537109375e-06\n",
      "\u001b[36m(launch_and_fit pid=12962)\u001b[0m classifier.0.bias 1.1920928955078125e-06\n",
      "\u001b[36m(launch_and_fit pid=12962)\u001b[0m classifier.2.weight 1.430511474609375e-06\n",
      "\u001b[36m(launch_and_fit pid=12962)\u001b[0m classifier.2.bias 1.1920928955078125e-06\n",
      "\u001b[36m(launch_and_fit pid=12962)\u001b[0m classifier.3.weights 1.430511474609375e-06\n",
      "\u001b[36m(launch_and_fit pid=12962)\u001b[0m classifier.4.weight 9.5367431640625e-07\n",
      "\u001b[36m(launch_and_fit pid=12962)\u001b[0m classifier.4.bias 1.1920928955078125e-06\n",
      "\u001b[36m(launch_and_fit pid=13042)\u001b[0m Run with homomorphic encryption\n",
      "\u001b[36m(launch_and_fit pid=12960)\u001b[0m save graph in  results/FL/\n",
      "\u001b[36m(launch_and_fit pid=12960)\u001b[0m \tTrain Epoch: 10 \tTrain_loss: 0.0006 | Train_acc: 100.0000 % | Validation_loss: 1.7846 | Validation_acc: 64.2857 %\n",
      "\u001b[36m(launch_and_fit pid=12960)\u001b[0m classifier.4.bias 1.6689300537109375e-06\u001b[32m [repeated 11x across cluster]\u001b[0m\n",
      "\u001b[36m(launch_and_fit pid=13042)\u001b[0m [Client 2, round 16] fit, config: {'learning_rate': 0.003, 'batch_size': '32', 'server_round': 16, 'local_epochs': 10}\n"
     ]
    },
    {
     "name": "stderr",
     "output_type": "stream",
     "text": [
      "  0%|\u001b[34m          \u001b[0m| 0/10 [00:00<?, ?it/s]\n",
      "100%|\u001b[34m██████████\u001b[0m| 10/10 [00:20<00:00,  2.04s/it]\u001b[32m [repeated 3x across cluster]\u001b[0m\n"
     ]
    },
    {
     "name": "stdout",
     "output_type": "stream",
     "text": [
      "\u001b[36m(launch_and_fit pid=13042)\u001b[0m Updated model\n",
      "\u001b[36m(launch_and_fit pid=13042)\u001b[0m \tTrain Epoch: 1 \tTrain_loss: 0.1334 | Train_acc: 91.7824 % | Validation_loss: 1.1303 | Validation_acc: 67.8571 %\n",
      "\u001b[36m(launch_and_fit pid=13044)\u001b[0m Run with homomorphic encryption\n",
      "\u001b[36m(launch_and_fit pid=13044)\u001b[0m [Client 3, round 16] fit, config: {'learning_rate': 0.003, 'batch_size': '32', 'server_round': 16, 'local_epochs': 10}\n"
     ]
    },
    {
     "name": "stderr",
     "output_type": "stream",
     "text": [
      "  0%|\u001b[34m          \u001b[0m| 0/10 [00:00<?, ?it/s]\n",
      " 30%|\u001b[34m███       \u001b[0m| 3/10 [00:06<00:14,  2.07s/it]\u001b[32m [repeated 5x across cluster]\u001b[0m\n"
     ]
    },
    {
     "name": "stdout",
     "output_type": "stream",
     "text": [
      "\u001b[36m(launch_and_fit pid=13044)\u001b[0m Updated model\n",
      "\u001b[36m(launch_and_fit pid=13042)\u001b[0m \tTrain Epoch: 4 \tTrain_loss: 0.0315 | Train_acc: 99.6528 % | Validation_loss: 1.1961 | Validation_acc: 75.0000 %\u001b[32m [repeated 6x across cluster]\u001b[0m\n"
     ]
    },
    {
     "name": "stderr",
     "output_type": "stream",
     "text": [
      " 60%|\u001b[34m██████    \u001b[0m| 6/10 [00:12<00:07,  1.94s/it]\u001b[32m [repeated 6x across cluster]\u001b[0m\n"
     ]
    },
    {
     "name": "stdout",
     "output_type": "stream",
     "text": [
      "\u001b[36m(launch_and_fit pid=13042)\u001b[0m \tTrain Epoch: 7 \tTrain_loss: 0.0079 | Train_acc: 99.6528 % | Validation_loss: 1.3784 | Validation_acc: 75.0000 %\u001b[32m [repeated 6x across cluster]\u001b[0m\n"
     ]
    },
    {
     "name": "stderr",
     "output_type": "stream",
     "text": [
      " 90%|\u001b[34m█████████ \u001b[0m| 9/10 [00:17<00:01,  1.89s/it]\u001b[32m [repeated 6x across cluster]\u001b[0m\n"
     ]
    },
    {
     "name": "stdout",
     "output_type": "stream",
     "text": [
      "\u001b[36m(launch_and_fit pid=13042)\u001b[0m save graph in  results/FL/\n",
      "\u001b[36m(launch_and_fit pid=13042)\u001b[0m \tTrain Epoch: 10 \tTrain_loss: 0.0060 | Train_acc: 99.6528 % | Validation_loss: 1.3258 | Validation_acc: 75.0000 %\u001b[32m [repeated 6x across cluster]\u001b[0m\n",
      "\u001b[36m(launch_and_fit pid=13042)\u001b[0m features.0.weight 6.4373016357421875e-06\n",
      "\u001b[36m(launch_and_fit pid=13042)\u001b[0m features.0.bias 2.1457672119140625e-06\n",
      "\u001b[36m(launch_and_fit pid=13042)\u001b[0m features.3.weight 1.1920928955078125e-06\n",
      "\u001b[36m(launch_and_fit pid=13042)\u001b[0m features.3.bias 1.1920928955078125e-06\n",
      "\u001b[36m(launch_and_fit pid=13042)\u001b[0m classifier.0.weight 1.6689300537109375e-06\n",
      "\u001b[36m(launch_and_fit pid=13042)\u001b[0m classifier.0.bias 1.430511474609375e-06\n",
      "\u001b[36m(launch_and_fit pid=13042)\u001b[0m classifier.2.weight 1.1920928955078125e-06\n",
      "\u001b[36m(launch_and_fit pid=13042)\u001b[0m classifier.2.bias 1.1920928955078125e-06\n",
      "\u001b[36m(launch_and_fit pid=13042)\u001b[0m classifier.3.weights 1.6689300537109375e-06\n",
      "\u001b[36m(launch_and_fit pid=13042)\u001b[0m classifier.4.weight 1.430511474609375e-06\n",
      "\u001b[36m(launch_and_fit pid=13042)\u001b[0m classifier.4.bias 1.1920928955078125e-06\n"
     ]
    },
    {
     "name": "stderr",
     "output_type": "stream",
     "text": [
      "DEBUG flwr 2024-07-24 05:24:52,811 | server.py:236 | fit_round 16 received 10 results and 0 failures\n"
     ]
    },
    {
     "name": "stdout",
     "output_type": "stream",
     "text": [
      "Saving round 16 aggregated_parameters...\n"
     ]
    },
    {
     "name": "stderr",
     "output_type": "stream",
     "text": [
      "DEBUG flwr 2024-07-24 05:24:54,928 | server.py:173 | evaluate_round 16: strategy sampled 10 clients (out of 10)\n"
     ]
    },
    {
     "name": "stdout",
     "output_type": "stream",
     "text": [
      "\u001b[36m(launch_and_evaluate pid=13133)\u001b[0m Run with homomorphic encryption\n",
      "\u001b[36m(launch_and_fit pid=13044)\u001b[0m save graph in  results/FL/\n",
      "\u001b[36m(launch_and_fit pid=13044)\u001b[0m \tTrain Epoch: 10 \tTrain_loss: 0.0003 | Train_acc: 100.0000 % | Validation_loss: 2.1827 | Validation_acc: 60.7143 %\n",
      "\u001b[36m(launch_and_fit pid=13044)\u001b[0m classifier.4.bias 1.430511474609375e-06\u001b[32m [repeated 11x across cluster]\u001b[0m\n",
      "\u001b[36m(launch_and_evaluate pid=13133)\u001b[0m [Client 6] evaluate, config: {}\n",
      "\u001b[36m(launch_and_evaluate pid=13133)\u001b[0m Updated model\n",
      "\u001b[36m(launch_and_evaluate pid=13212)\u001b[0m Run with homomorphic encryption\u001b[32m [repeated 2x across cluster]\u001b[0m\n",
      "\u001b[36m(launch_and_evaluate pid=13134)\u001b[0m [Client 5] evaluate, config: {}\n",
      "\u001b[36m(launch_and_evaluate pid=13134)\u001b[0m Updated model\n",
      "\u001b[36m(launch_and_evaluate pid=13212)\u001b[0m [Client 2] evaluate, config: {}\n",
      "\u001b[36m(launch_and_evaluate pid=13212)\u001b[0m Updated model\n",
      "\u001b[36m(launch_and_evaluate pid=13290)\u001b[0m Run with homomorphic encryption\u001b[32m [repeated 2x across cluster]\u001b[0m\n",
      "\u001b[36m(launch_and_evaluate pid=13214)\u001b[0m [Client 3] evaluate, config: {}\n",
      "\u001b[36m(launch_and_evaluate pid=13214)\u001b[0m Updated model\n",
      "\u001b[36m(launch_and_evaluate pid=13290)\u001b[0m [Client 4] evaluate, config: {}\n",
      "\u001b[36m(launch_and_evaluate pid=13290)\u001b[0m Updated model\n",
      "\u001b[36m(launch_and_evaluate pid=13368)\u001b[0m Run with homomorphic encryption\u001b[32m [repeated 2x across cluster]\u001b[0m\n",
      "\u001b[36m(launch_and_evaluate pid=13292)\u001b[0m [Client 0] evaluate, config: {}\n",
      "\u001b[36m(launch_and_evaluate pid=13292)\u001b[0m Updated model\n",
      "\u001b[36m(launch_and_evaluate pid=13368)\u001b[0m [Client 9] evaluate, config: {}\n",
      "\u001b[36m(launch_and_evaluate pid=13368)\u001b[0m Updated model\n",
      "\u001b[36m(launch_and_evaluate pid=13446)\u001b[0m Run with homomorphic encryption\u001b[32m [repeated 2x across cluster]\u001b[0m\n",
      "\u001b[36m(launch_and_evaluate pid=13370)\u001b[0m [Client 7] evaluate, config: {}\n",
      "\u001b[36m(launch_and_evaluate pid=13370)\u001b[0m Updated model\n",
      "\u001b[36m(launch_and_evaluate pid=13446)\u001b[0m [Client 8] evaluate, config: {}\n",
      "\u001b[36m(launch_and_evaluate pid=13446)\u001b[0m Updated model\n"
     ]
    },
    {
     "name": "stderr",
     "output_type": "stream",
     "text": [
      "DEBUG flwr 2024-07-24 05:26:18,285 | server.py:187 | evaluate_round 16 received 10 results and 0 failures\n",
      "DEBUG flwr 2024-07-24 05:26:18,286 | server.py:222 | fit_round 17: strategy sampled 10 clients (out of 10)\n"
     ]
    },
    {
     "name": "stdout",
     "output_type": "stream",
     "text": [
      "\u001b[36m(launch_and_fit pid=13534)\u001b[0m Run with homomorphic encryption\u001b[32m [repeated 2x across cluster]\u001b[0m\n",
      "\u001b[36m(launch_and_evaluate pid=13471)\u001b[0m [Client 1] evaluate, config: {}\n",
      "\u001b[36m(launch_and_evaluate pid=13471)\u001b[0m Updated model\n",
      "\u001b[36m(launch_and_fit pid=13534)\u001b[0m [Client 9, round 17] fit, config: {'learning_rate': 0.003, 'batch_size': '32', 'server_round': 17, 'local_epochs': 10}\n",
      "\u001b[36m(launch_and_fit pid=13534)\u001b[0m Updated model\n"
     ]
    },
    {
     "name": "stderr",
     "output_type": "stream",
     "text": [
      "  0%|\u001b[34m          \u001b[0m| 0/10 [00:00<?, ?it/s]\n",
      "100%|\u001b[34m██████████\u001b[0m| 10/10 [00:19<00:00,  1.95s/it]\u001b[32m [repeated 3x across cluster]\u001b[0m\n"
     ]
    },
    {
     "name": "stdout",
     "output_type": "stream",
     "text": [
      "\u001b[36m(launch_and_fit pid=13533)\u001b[0m \tTrain Epoch: 1 \tTrain_loss: 0.1070 | Train_acc: 95.1389 % | Validation_loss: 1.3830 | Validation_acc: 67.8571 %\n",
      "\u001b[36m(launch_and_fit pid=13533)\u001b[0m Run with homomorphic encryption\n",
      "\u001b[36m(launch_and_fit pid=13533)\u001b[0m [Client 4, round 17] fit, config: {'learning_rate': 0.003, 'batch_size': '32', 'server_round': 17, 'local_epochs': 10}\n",
      "\u001b[36m(launch_and_fit pid=13533)\u001b[0m Updated model\n"
     ]
    },
    {
     "name": "stderr",
     "output_type": "stream",
     "text": [
      "  0%|\u001b[34m          \u001b[0m| 0/10 [00:00<?, ?it/s]\n",
      " 30%|\u001b[34m███       \u001b[0m| 3/10 [00:06<00:13,  1.96s/it]\u001b[32m [repeated 5x across cluster]\u001b[0m\n"
     ]
    },
    {
     "name": "stdout",
     "output_type": "stream",
     "text": [
      "\u001b[36m(launch_and_fit pid=13533)\u001b[0m \tTrain Epoch: 4 \tTrain_loss: 0.0006 | Train_acc: 100.0000 % | Validation_loss: 1.9158 | Validation_acc: 64.2857 %\u001b[32m [repeated 6x across cluster]\u001b[0m\n"
     ]
    },
    {
     "name": "stderr",
     "output_type": "stream",
     "text": [
      " 60%|\u001b[34m██████    \u001b[0m| 6/10 [00:11<00:07,  1.92s/it]\u001b[32m [repeated 6x across cluster]\u001b[0m\n"
     ]
    },
    {
     "name": "stdout",
     "output_type": "stream",
     "text": [
      "\u001b[36m(launch_and_fit pid=13533)\u001b[0m \tTrain Epoch: 7 \tTrain_loss: 0.0003 | Train_acc: 100.0000 % | Validation_loss: 1.9474 | Validation_acc: 64.2857 %\u001b[32m [repeated 6x across cluster]\u001b[0m\n"
     ]
    },
    {
     "name": "stderr",
     "output_type": "stream",
     "text": [
      " 90%|\u001b[34m█████████ \u001b[0m| 9/10 [00:17<00:01,  1.90s/it]\u001b[32m [repeated 6x across cluster]\u001b[0m\n"
     ]
    },
    {
     "name": "stdout",
     "output_type": "stream",
     "text": [
      "\u001b[36m(launch_and_fit pid=13533)\u001b[0m save graph in  results/FL/\n",
      "\u001b[36m(launch_and_fit pid=13533)\u001b[0m \tTrain Epoch: 10 \tTrain_loss: 0.0002 | Train_acc: 100.0000 % | Validation_loss: 1.9970 | Validation_acc: 64.2857 %\u001b[32m [repeated 6x across cluster]\u001b[0m\n",
      "\u001b[36m(launch_and_fit pid=13533)\u001b[0m features.0.weight 5.7220458984375e-06\n",
      "\u001b[36m(launch_and_fit pid=13533)\u001b[0m features.0.bias 1.6689300537109375e-06\n",
      "\u001b[36m(launch_and_fit pid=13533)\u001b[0m features.3.weight 1.430511474609375e-06\n",
      "\u001b[36m(launch_and_fit pid=13533)\u001b[0m features.3.bias 1.6689300537109375e-06\n",
      "\u001b[36m(launch_and_fit pid=13533)\u001b[0m classifier.0.weight 2.384185791015625e-06\n",
      "\u001b[36m(launch_and_fit pid=13533)\u001b[0m classifier.0.bias 1.430511474609375e-06\n",
      "\u001b[36m(launch_and_fit pid=13533)\u001b[0m classifier.2.weight 1.430511474609375e-06\n",
      "\u001b[36m(launch_and_fit pid=13533)\u001b[0m classifier.2.bias 1.1920928955078125e-06\n",
      "\u001b[36m(launch_and_fit pid=13533)\u001b[0m classifier.3.weights 1.1920928955078125e-06\n",
      "\u001b[36m(launch_and_fit pid=13533)\u001b[0m classifier.4.weight 1.1920928955078125e-06\n",
      "\u001b[36m(launch_and_fit pid=13533)\u001b[0m classifier.4.bias 1.430511474609375e-06\n",
      "\u001b[36m(launch_and_fit pid=13614)\u001b[0m Run with homomorphic encryption\n",
      "\u001b[36m(launch_and_fit pid=13534)\u001b[0m save graph in  results/FL/\n",
      "\u001b[36m(launch_and_fit pid=13534)\u001b[0m \tTrain Epoch: 10 \tTrain_loss: 0.0002 | Train_acc: 100.0000 % | Validation_loss: 1.4868 | Validation_acc: 75.8621 %\n",
      "\u001b[36m(launch_and_fit pid=13534)\u001b[0m classifier.4.bias 9.5367431640625e-07\u001b[32m [repeated 11x across cluster]\u001b[0m\n",
      "\u001b[36m(launch_and_fit pid=13614)\u001b[0m [Client 2, round 17] fit, config: {'learning_rate': 0.003, 'batch_size': '32', 'server_round': 17, 'local_epochs': 10}\n"
     ]
    },
    {
     "name": "stderr",
     "output_type": "stream",
     "text": [
      "  0%|\u001b[34m          \u001b[0m| 0/10 [00:00<?, ?it/s]\n",
      "100%|\u001b[34m██████████\u001b[0m| 10/10 [00:19<00:00,  1.99s/it]\u001b[32m [repeated 3x across cluster]\u001b[0m\n"
     ]
    },
    {
     "name": "stdout",
     "output_type": "stream",
     "text": [
      "\u001b[36m(launch_and_fit pid=13614)\u001b[0m Updated model\n",
      "\u001b[36m(launch_and_fit pid=13614)\u001b[0m \tTrain Epoch: 1 \tTrain_loss: 0.0893 | Train_acc: 96.5278 % | Validation_loss: 1.3297 | Validation_acc: 75.0000 %\n",
      "\u001b[36m(launch_and_fit pid=13616)\u001b[0m Run with homomorphic encryption\n",
      "\u001b[36m(launch_and_fit pid=13616)\u001b[0m [Client 0, round 17] fit, config: {'learning_rate': 0.003, 'batch_size': '32', 'server_round': 17, 'local_epochs': 10}\n"
     ]
    },
    {
     "name": "stderr",
     "output_type": "stream",
     "text": [
      "  0%|\u001b[34m          \u001b[0m| 0/10 [00:00<?, ?it/s]\n",
      " 30%|\u001b[34m███       \u001b[0m| 3/10 [00:06<00:14,  2.02s/it]\u001b[32m [repeated 5x across cluster]\u001b[0m\n"
     ]
    },
    {
     "name": "stdout",
     "output_type": "stream",
     "text": [
      "\u001b[36m(launch_and_fit pid=13616)\u001b[0m Updated model\n",
      "\u001b[36m(launch_and_fit pid=13614)\u001b[0m \tTrain Epoch: 4 \tTrain_loss: 0.0214 | Train_acc: 99.3056 % | Validation_loss: 0.7646 | Validation_acc: 75.0000 %\u001b[32m [repeated 6x across cluster]\u001b[0m\n"
     ]
    },
    {
     "name": "stderr",
     "output_type": "stream",
     "text": [
      " 60%|\u001b[34m██████    \u001b[0m| 6/10 [00:12<00:08,  2.00s/it]\u001b[32m [repeated 6x across cluster]\u001b[0m\n"
     ]
    },
    {
     "name": "stdout",
     "output_type": "stream",
     "text": [
      "\u001b[36m(launch_and_fit pid=13614)\u001b[0m \tTrain Epoch: 7 \tTrain_loss: 0.0054 | Train_acc: 99.6528 % | Validation_loss: 1.1740 | Validation_acc: 75.0000 %\u001b[32m [repeated 6x across cluster]\u001b[0m\n"
     ]
    },
    {
     "name": "stderr",
     "output_type": "stream",
     "text": [
      " 90%|\u001b[34m█████████ \u001b[0m| 9/10 [00:17<00:01,  1.95s/it]\u001b[32m [repeated 6x across cluster]\u001b[0m\n"
     ]
    },
    {
     "name": "stdout",
     "output_type": "stream",
     "text": [
      "\u001b[36m(launch_and_fit pid=13614)\u001b[0m save graph in  results/FL/\n",
      "\u001b[36m(launch_and_fit pid=13614)\u001b[0m \tTrain Epoch: 10 \tTrain_loss: 0.0051 | Train_acc: 99.6528 % | Validation_loss: 1.2387 | Validation_acc: 75.0000 %\u001b[32m [repeated 6x across cluster]\u001b[0m\n",
      "\u001b[36m(launch_and_fit pid=13614)\u001b[0m features.0.weight 5.4836273193359375e-06\n",
      "\u001b[36m(launch_and_fit pid=13614)\u001b[0m features.0.bias 2.86102294921875e-06\n",
      "\u001b[36m(launch_and_fit pid=13614)\u001b[0m features.3.weight 1.6689300537109375e-06\n",
      "\u001b[36m(launch_and_fit pid=13614)\u001b[0m features.3.bias 1.6689300537109375e-06\n",
      "\u001b[36m(launch_and_fit pid=13614)\u001b[0m classifier.0.weight 1.9073486328125e-06\n",
      "\u001b[36m(launch_and_fit pid=13614)\u001b[0m classifier.0.bias 1.6689300537109375e-06\n",
      "\u001b[36m(launch_and_fit pid=13614)\u001b[0m classifier.2.weight 1.1920928955078125e-06\n",
      "\u001b[36m(launch_and_fit pid=13614)\u001b[0m classifier.2.bias 1.430511474609375e-06\n",
      "\u001b[36m(launch_and_fit pid=13614)\u001b[0m classifier.3.weights 1.430511474609375e-06\n",
      "\u001b[36m(launch_and_fit pid=13614)\u001b[0m classifier.4.weight 1.430511474609375e-06\n",
      "\u001b[36m(launch_and_fit pid=13614)\u001b[0m classifier.4.bias 1.430511474609375e-06\n",
      "\u001b[36m(launch_and_fit pid=13696)\u001b[0m Run with homomorphic encryption\n",
      "\u001b[36m(launch_and_fit pid=13616)\u001b[0m save graph in  results/FL/\n",
      "\u001b[36m(launch_and_fit pid=13616)\u001b[0m \tTrain Epoch: 10 \tTrain_loss: 0.0138 | Train_acc: 99.6528 % | Validation_loss: 1.1838 | Validation_acc: 67.8571 %\n",
      "\u001b[36m(launch_and_fit pid=13616)\u001b[0m classifier.4.bias 1.9073486328125e-06\u001b[32m [repeated 11x across cluster]\u001b[0m\n",
      "\u001b[36m(launch_and_fit pid=13696)\u001b[0m [Client 7, round 17] fit, config: {'learning_rate': 0.003, 'batch_size': '32', 'server_round': 17, 'local_epochs': 10}\n",
      "\u001b[36m(launch_and_fit pid=13696)\u001b[0m Updated model\n"
     ]
    },
    {
     "name": "stderr",
     "output_type": "stream",
     "text": [
      "  0%|\u001b[34m          \u001b[0m| 0/10 [00:00<?, ?it/s]\n",
      "100%|\u001b[34m██████████\u001b[0m| 10/10 [00:19<00:00,  1.97s/it]\u001b[32m [repeated 3x across cluster]\u001b[0m\n"
     ]
    },
    {
     "name": "stdout",
     "output_type": "stream",
     "text": [
      "\u001b[36m(launch_and_fit pid=13696)\u001b[0m \tTrain Epoch: 1 \tTrain_loss: 0.0890 | Train_acc: 96.5278 % | Validation_loss: 0.9519 | Validation_acc: 67.8571 %\n",
      "\u001b[36m(launch_and_fit pid=13698)\u001b[0m Run with homomorphic encryption\n",
      "\u001b[36m(launch_and_fit pid=13698)\u001b[0m [Client 1, round 17] fit, config: {'learning_rate': 0.003, 'batch_size': '32', 'server_round': 17, 'local_epochs': 10}\n"
     ]
    },
    {
     "name": "stderr",
     "output_type": "stream",
     "text": [
      "  0%|\u001b[34m          \u001b[0m| 0/10 [00:00<?, ?it/s]\n",
      " 30%|\u001b[34m███       \u001b[0m| 3/10 [00:06<00:13,  1.98s/it]\u001b[32m [repeated 5x across cluster]\u001b[0m\n"
     ]
    },
    {
     "name": "stdout",
     "output_type": "stream",
     "text": [
      "\u001b[36m(launch_and_fit pid=13698)\u001b[0m Updated model\n",
      "\u001b[36m(launch_and_fit pid=13696)\u001b[0m \tTrain Epoch: 4 \tTrain_loss: 0.0024 | Train_acc: 100.0000 % | Validation_loss: 1.2006 | Validation_acc: 71.4286 %\u001b[32m [repeated 6x across cluster]\u001b[0m\n"
     ]
    },
    {
     "name": "stderr",
     "output_type": "stream",
     "text": [
      " 60%|\u001b[34m██████    \u001b[0m| 6/10 [00:11<00:07,  1.87s/it]\u001b[32m [repeated 6x across cluster]\u001b[0m\n"
     ]
    },
    {
     "name": "stdout",
     "output_type": "stream",
     "text": [
      "\u001b[36m(launch_and_fit pid=13696)\u001b[0m \tTrain Epoch: 7 \tTrain_loss: 0.0005 | Train_acc: 100.0000 % | Validation_loss: 1.9603 | Validation_acc: 71.4286 %\u001b[32m [repeated 6x across cluster]\u001b[0m\n"
     ]
    },
    {
     "name": "stderr",
     "output_type": "stream",
     "text": [
      " 90%|\u001b[34m█████████ \u001b[0m| 9/10 [00:17<00:01,  1.87s/it]\u001b[32m [repeated 6x across cluster]\u001b[0m\n"
     ]
    },
    {
     "name": "stdout",
     "output_type": "stream",
     "text": [
      "\u001b[36m(launch_and_fit pid=13696)\u001b[0m save graph in  results/FL/\n",
      "\u001b[36m(launch_and_fit pid=13696)\u001b[0m \tTrain Epoch: 10 \tTrain_loss: 0.0002 | Train_acc: 100.0000 % | Validation_loss: 1.8769 | Validation_acc: 67.8571 %\u001b[32m [repeated 6x across cluster]\u001b[0m\n",
      "\u001b[36m(launch_and_fit pid=13696)\u001b[0m features.0.weight 6.198883056640625e-06\n",
      "\u001b[36m(launch_and_fit pid=13696)\u001b[0m features.0.bias 3.0994415283203125e-06\n",
      "\u001b[36m(launch_and_fit pid=13696)\u001b[0m features.3.weight 1.1920928955078125e-06\n",
      "\u001b[36m(launch_and_fit pid=13696)\u001b[0m features.3.bias 1.430511474609375e-06\n",
      "\u001b[36m(launch_and_fit pid=13696)\u001b[0m classifier.0.weight 1.430511474609375e-06\n",
      "\u001b[36m(launch_and_fit pid=13696)\u001b[0m classifier.0.bias 1.6689300537109375e-06\n",
      "\u001b[36m(launch_and_fit pid=13696)\u001b[0m classifier.2.weight 1.1920928955078125e-06\n",
      "\u001b[36m(launch_and_fit pid=13696)\u001b[0m classifier.2.bias 1.1920928955078125e-06\n",
      "\u001b[36m(launch_and_fit pid=13696)\u001b[0m classifier.3.weights 1.430511474609375e-06\n",
      "\u001b[36m(launch_and_fit pid=13696)\u001b[0m classifier.4.weight 1.430511474609375e-06\n",
      "\u001b[36m(launch_and_fit pid=13696)\u001b[0m classifier.4.bias 1.1920928955078125e-06\n",
      "\u001b[36m(launch_and_fit pid=13778)\u001b[0m Run with homomorphic encryption\n",
      "\u001b[36m(launch_and_fit pid=13698)\u001b[0m save graph in  results/FL/\n",
      "\u001b[36m(launch_and_fit pid=13698)\u001b[0m \tTrain Epoch: 10 \tTrain_loss: 0.0004 | Train_acc: 100.0000 % | Validation_loss: 1.5971 | Validation_acc: 67.8571 %\n",
      "\u001b[36m(launch_and_fit pid=13698)\u001b[0m classifier.4.bias 1.430511474609375e-06\u001b[32m [repeated 11x across cluster]\u001b[0m\n",
      "\u001b[36m(launch_and_fit pid=13778)\u001b[0m [Client 6, round 17] fit, config: {'learning_rate': 0.003, 'batch_size': '32', 'server_round': 17, 'local_epochs': 10}\n"
     ]
    },
    {
     "name": "stderr",
     "output_type": "stream",
     "text": [
      "  0%|\u001b[34m          \u001b[0m| 0/10 [00:00<?, ?it/s]\n",
      "100%|\u001b[34m██████████\u001b[0m| 10/10 [00:19<00:00,  1.93s/it]\u001b[32m [repeated 3x across cluster]\u001b[0m\n"
     ]
    },
    {
     "name": "stdout",
     "output_type": "stream",
     "text": [
      "\u001b[36m(launch_and_fit pid=13778)\u001b[0m Updated model\n",
      "\u001b[36m(launch_and_fit pid=13778)\u001b[0m \tTrain Epoch: 1 \tTrain_loss: 0.1007 | Train_acc: 96.5278 % | Validation_loss: 1.3890 | Validation_acc: 60.7143 %\n",
      "\u001b[36m(launch_and_fit pid=13780)\u001b[0m Run with homomorphic encryption\n",
      "\u001b[36m(launch_and_fit pid=13780)\u001b[0m [Client 3, round 17] fit, config: {'learning_rate': 0.003, 'batch_size': '32', 'server_round': 17, 'local_epochs': 10}\n"
     ]
    },
    {
     "name": "stderr",
     "output_type": "stream",
     "text": [
      "  0%|\u001b[34m          \u001b[0m| 0/10 [00:00<?, ?it/s]\n",
      " 30%|\u001b[34m███       \u001b[0m| 3/10 [00:06<00:14,  2.00s/it]\u001b[32m [repeated 5x across cluster]\u001b[0m\n"
     ]
    },
    {
     "name": "stdout",
     "output_type": "stream",
     "text": [
      "\u001b[36m(launch_and_fit pid=13780)\u001b[0m Updated model\n",
      "\u001b[36m(launch_and_fit pid=13778)\u001b[0m \tTrain Epoch: 4 \tTrain_loss: 0.0073 | Train_acc: 99.6528 % | Validation_loss: 0.7301 | Validation_acc: 82.1429 %\u001b[32m [repeated 6x across cluster]\u001b[0m\n"
     ]
    },
    {
     "name": "stderr",
     "output_type": "stream",
     "text": [
      " 60%|\u001b[34m██████    \u001b[0m| 6/10 [00:11<00:07,  1.86s/it]\u001b[32m [repeated 6x across cluster]\u001b[0m\n"
     ]
    },
    {
     "name": "stdout",
     "output_type": "stream",
     "text": [
      "\u001b[36m(launch_and_fit pid=13778)\u001b[0m \tTrain Epoch: 7 \tTrain_loss: 0.0102 | Train_acc: 99.6528 % | Validation_loss: 0.8398 | Validation_acc: 78.5714 %\u001b[32m [repeated 6x across cluster]\u001b[0m\n"
     ]
    },
    {
     "name": "stderr",
     "output_type": "stream",
     "text": [
      " 90%|\u001b[34m█████████ \u001b[0m| 9/10 [00:17<00:01,  1.85s/it]\u001b[32m [repeated 6x across cluster]\u001b[0m\n"
     ]
    },
    {
     "name": "stdout",
     "output_type": "stream",
     "text": [
      "\u001b[36m(launch_and_fit pid=13778)\u001b[0m save graph in  results/FL/\n",
      "\u001b[36m(launch_and_fit pid=13778)\u001b[0m \tTrain Epoch: 10 \tTrain_loss: 0.0055 | Train_acc: 99.6528 % | Validation_loss: 0.8461 | Validation_acc: 75.0000 %\u001b[32m [repeated 6x across cluster]\u001b[0m\n",
      "\u001b[36m(launch_and_fit pid=13778)\u001b[0m features.0.weight 6.198883056640625e-06\n",
      "\u001b[36m(launch_and_fit pid=13778)\u001b[0m features.0.bias 1.430511474609375e-06\n",
      "\u001b[36m(launch_and_fit pid=13778)\u001b[0m features.3.weight 9.5367431640625e-07\n",
      "\u001b[36m(launch_and_fit pid=13778)\u001b[0m features.3.bias 1.430511474609375e-06\n",
      "\u001b[36m(launch_and_fit pid=13778)\u001b[0m classifier.0.weight 1.1920928955078125e-06\n",
      "\u001b[36m(launch_and_fit pid=13778)\u001b[0m classifier.0.bias 1.1920928955078125e-06\n",
      "\u001b[36m(launch_and_fit pid=13778)\u001b[0m classifier.2.weight 1.1920928955078125e-06\n",
      "\u001b[36m(launch_and_fit pid=13778)\u001b[0m classifier.2.bias 1.6689300537109375e-06\n",
      "\u001b[36m(launch_and_fit pid=13778)\u001b[0m classifier.3.weights 1.430511474609375e-06\n",
      "\u001b[36m(launch_and_fit pid=13778)\u001b[0m classifier.4.weight 1.1920928955078125e-06\n",
      "\u001b[36m(launch_and_fit pid=13778)\u001b[0m classifier.4.bias 1.1920928955078125e-06\n",
      "\u001b[36m(launch_and_fit pid=13860)\u001b[0m Run with homomorphic encryption\n",
      "\u001b[36m(launch_and_fit pid=13780)\u001b[0m save graph in  results/FL/\n",
      "\u001b[36m(launch_and_fit pid=13780)\u001b[0m \tTrain Epoch: 10 \tTrain_loss: 0.0003 | Train_acc: 100.0000 % | Validation_loss: 1.9493 | Validation_acc: 60.7143 %\n",
      "\u001b[36m(launch_and_fit pid=13780)\u001b[0m classifier.4.bias 1.430511474609375e-06\u001b[32m [repeated 11x across cluster]\u001b[0m\n",
      "\u001b[36m(launch_and_fit pid=13860)\u001b[0m [Client 5, round 17] fit, config: {'learning_rate': 0.003, 'batch_size': '32', 'server_round': 17, 'local_epochs': 10}\n",
      "\u001b[36m(launch_and_fit pid=13860)\u001b[0m Updated model\n"
     ]
    },
    {
     "name": "stderr",
     "output_type": "stream",
     "text": [
      "  0%|\u001b[34m          \u001b[0m| 0/10 [00:00<?, ?it/s]\n",
      "100%|\u001b[34m██████████\u001b[0m| 10/10 [00:18<00:00,  1.89s/it]\u001b[32m [repeated 3x across cluster]\u001b[0m\n"
     ]
    },
    {
     "name": "stdout",
     "output_type": "stream",
     "text": [
      "\u001b[36m(launch_and_fit pid=13860)\u001b[0m \tTrain Epoch: 1 \tTrain_loss: 0.0887 | Train_acc: 96.5278 % | Validation_loss: 2.3383 | Validation_acc: 53.5714 %\n",
      "\u001b[36m(launch_and_fit pid=13885)\u001b[0m Run with homomorphic encryption\n",
      "\u001b[36m(launch_and_fit pid=13885)\u001b[0m [Client 8, round 17] fit, config: {'learning_rate': 0.003, 'batch_size': '32', 'server_round': 17, 'local_epochs': 10}\n",
      "\u001b[36m(launch_and_fit pid=13885)\u001b[0m Updated model\n"
     ]
    },
    {
     "name": "stderr",
     "output_type": "stream",
     "text": [
      "  0%|\u001b[34m          \u001b[0m| 0/10 [00:00<?, ?it/s]\n",
      " 20%|\u001b[34m██        \u001b[0m| 2/10 [00:04<00:16,  2.12s/it]\u001b[32m [repeated 4x across cluster]\u001b[0m\n"
     ]
    },
    {
     "name": "stdout",
     "output_type": "stream",
     "text": [
      "\u001b[36m(launch_and_fit pid=13860)\u001b[0m \tTrain Epoch: 4 \tTrain_loss: 0.0033 | Train_acc: 100.0000 % | Validation_loss: 1.9024 | Validation_acc: 53.5714 %\u001b[32m [repeated 6x across cluster]\u001b[0m\n"
     ]
    },
    {
     "name": "stderr",
     "output_type": "stream",
     "text": [
      " 50%|\u001b[34m█████     \u001b[0m| 5/10 [00:09<00:09,  1.88s/it]\u001b[32m [repeated 6x across cluster]\u001b[0m\n"
     ]
    },
    {
     "name": "stdout",
     "output_type": "stream",
     "text": [
      "\u001b[36m(launch_and_fit pid=13860)\u001b[0m \tTrain Epoch: 7 \tTrain_loss: 0.0117 | Train_acc: 99.6528 % | Validation_loss: 2.2707 | Validation_acc: 50.0000 %\u001b[32m [repeated 6x across cluster]\u001b[0m\n"
     ]
    },
    {
     "name": "stderr",
     "output_type": "stream",
     "text": [
      " 80%|\u001b[34m████████  \u001b[0m| 8/10 [00:15<00:03,  1.85s/it]\u001b[32m [repeated 6x across cluster]\u001b[0m\n"
     ]
    },
    {
     "name": "stdout",
     "output_type": "stream",
     "text": [
      "\u001b[36m(launch_and_fit pid=13860)\u001b[0m save graph in  results/FL/\n",
      "\u001b[36m(launch_and_fit pid=13860)\u001b[0m \tTrain Epoch: 10 \tTrain_loss: 0.0020 | Train_acc: 100.0000 % | Validation_loss: 1.6515 | Validation_acc: 50.0000 %\u001b[32m [repeated 6x across cluster]\u001b[0m\n",
      "\u001b[36m(launch_and_fit pid=13860)\u001b[0m features.0.weight 5.7220458984375e-06\n",
      "\u001b[36m(launch_and_fit pid=13860)\u001b[0m features.0.bias 1.1920928955078125e-06\n",
      "\u001b[36m(launch_and_fit pid=13860)\u001b[0m features.3.weight 1.430511474609375e-06\n",
      "\u001b[36m(launch_and_fit pid=13860)\u001b[0m features.3.bias 9.5367431640625e-07\n",
      "\u001b[36m(launch_and_fit pid=13860)\u001b[0m classifier.0.weight 2.1457672119140625e-06\n",
      "\u001b[36m(launch_and_fit pid=13860)\u001b[0m classifier.0.bias 1.6689300537109375e-06\n",
      "\u001b[36m(launch_and_fit pid=13860)\u001b[0m classifier.2.weight 9.5367431640625e-07\n",
      "\u001b[36m(launch_and_fit pid=13860)\u001b[0m classifier.2.bias 1.430511474609375e-06\n",
      "\u001b[36m(launch_and_fit pid=13860)\u001b[0m classifier.3.weights 1.6689300537109375e-06\n",
      "\u001b[36m(launch_and_fit pid=13860)\u001b[0m classifier.4.weight 1.1920928955078125e-06\n",
      "\u001b[36m(launch_and_fit pid=13860)\u001b[0m classifier.4.bias 1.1920928955078125e-06\n"
     ]
    },
    {
     "name": "stderr",
     "output_type": "stream",
     "text": [
      "DEBUG flwr 2024-07-24 05:29:13,886 | server.py:236 | fit_round 17 received 10 results and 0 failures\n"
     ]
    },
    {
     "name": "stdout",
     "output_type": "stream",
     "text": [
      "Saving round 17 aggregated_parameters...\n"
     ]
    },
    {
     "name": "stderr",
     "output_type": "stream",
     "text": [
      "DEBUG flwr 2024-07-24 05:29:15,981 | server.py:173 | evaluate_round 17: strategy sampled 10 clients (out of 10)\n"
     ]
    },
    {
     "name": "stdout",
     "output_type": "stream",
     "text": [
      "\u001b[36m(launch_and_evaluate pid=13951)\u001b[0m Run with homomorphic encryption\n",
      "\u001b[36m(launch_and_fit pid=13885)\u001b[0m save graph in  results/FL/\n",
      "\u001b[36m(launch_and_fit pid=13885)\u001b[0m \tTrain Epoch: 10 \tTrain_loss: 0.0003 | Train_acc: 100.0000 % | Validation_loss: 1.1902 | Validation_acc: 78.5714 %\n",
      "\u001b[36m(launch_and_fit pid=13885)\u001b[0m classifier.4.bias 1.430511474609375e-06\u001b[32m [repeated 11x across cluster]\u001b[0m\n",
      "\u001b[36m(launch_and_evaluate pid=13951)\u001b[0m [Client 1] evaluate, config: {}\n",
      "\u001b[36m(launch_and_evaluate pid=13951)\u001b[0m Updated model\n",
      "\u001b[36m(launch_and_evaluate pid=14029)\u001b[0m Run with homomorphic encryption\u001b[32m [repeated 2x across cluster]\u001b[0m\n",
      "\u001b[36m(launch_and_evaluate pid=13952)\u001b[0m [Client 3] evaluate, config: {}\n",
      "\u001b[36m(launch_and_evaluate pid=13952)\u001b[0m Updated model\n",
      "\u001b[36m(launch_and_evaluate pid=14029)\u001b[0m [Client 5] evaluate, config: {}\n",
      "\u001b[36m(launch_and_evaluate pid=14031)\u001b[0m Updated model\n",
      "\u001b[36m(launch_and_evaluate pid=14107)\u001b[0m Run with homomorphic encryption\u001b[32m [repeated 2x across cluster]\u001b[0m\n",
      "\u001b[36m(launch_and_evaluate pid=14031)\u001b[0m [Client 0] evaluate, config: {}\n",
      "\u001b[36m(launch_and_evaluate pid=14029)\u001b[0m Updated model\n",
      "\u001b[36m(launch_and_evaluate pid=14107)\u001b[0m [Client 8] evaluate, config: {}\n",
      "\u001b[36m(launch_and_evaluate pid=14107)\u001b[0m Updated model\n",
      "\u001b[36m(launch_and_evaluate pid=14185)\u001b[0m Run with homomorphic encryption\u001b[32m [repeated 2x across cluster]\u001b[0m\n",
      "\u001b[36m(launch_and_evaluate pid=14109)\u001b[0m [Client 9] evaluate, config: {}\n",
      "\u001b[36m(launch_and_evaluate pid=14109)\u001b[0m Updated model\n",
      "\u001b[36m(launch_and_evaluate pid=14185)\u001b[0m [Client 4] evaluate, config: {}\n",
      "\u001b[36m(launch_and_evaluate pid=14185)\u001b[0m Updated model\n",
      "\u001b[36m(launch_and_evaluate pid=14263)\u001b[0m Run with homomorphic encryption\u001b[32m [repeated 2x across cluster]\u001b[0m\n",
      "\u001b[36m(launch_and_evaluate pid=14187)\u001b[0m [Client 7] evaluate, config: {}\n",
      "\u001b[36m(launch_and_evaluate pid=14187)\u001b[0m Updated model\n",
      "\u001b[36m(launch_and_evaluate pid=14263)\u001b[0m [Client 2] evaluate, config: {}\n",
      "\u001b[36m(launch_and_evaluate pid=14263)\u001b[0m Updated model\n"
     ]
    },
    {
     "name": "stderr",
     "output_type": "stream",
     "text": [
      "DEBUG flwr 2024-07-24 05:30:35,882 | server.py:187 | evaluate_round 17 received 10 results and 0 failures\n",
      "DEBUG flwr 2024-07-24 05:30:35,883 | server.py:222 | fit_round 18: strategy sampled 10 clients (out of 10)\n"
     ]
    },
    {
     "name": "stdout",
     "output_type": "stream",
     "text": [
      "\u001b[36m(launch_and_fit pid=14352)\u001b[0m Run with homomorphic encryption\u001b[32m [repeated 2x across cluster]\u001b[0m\n",
      "\u001b[36m(launch_and_evaluate pid=14265)\u001b[0m [Client 6] evaluate, config: {}\n",
      "\u001b[36m(launch_and_evaluate pid=14265)\u001b[0m Updated model\n",
      "\u001b[36m(launch_and_fit pid=14352)\u001b[0m [Client 3, round 18] fit, config: {'learning_rate': 0.003, 'batch_size': '32', 'server_round': 18, 'local_epochs': 10}\n"
     ]
    },
    {
     "name": "stderr",
     "output_type": "stream",
     "text": [
      "  0%|\u001b[34m          \u001b[0m| 0/10 [00:00<?, ?it/s]\n",
      "100%|\u001b[34m██████████\u001b[0m| 10/10 [00:18<00:00,  1.89s/it]\u001b[32m [repeated 4x across cluster]\u001b[0m\n"
     ]
    },
    {
     "name": "stdout",
     "output_type": "stream",
     "text": [
      "\u001b[36m(launch_and_fit pid=14352)\u001b[0m Updated model\n",
      "\u001b[36m(launch_and_fit pid=14352)\u001b[0m \tTrain Epoch: 1 \tTrain_loss: 0.0543 | Train_acc: 97.9167 % | Validation_loss: 2.1118 | Validation_acc: 60.7143 %\n",
      "\u001b[36m(launch_and_fit pid=14351)\u001b[0m Run with homomorphic encryption\n",
      "\u001b[36m(launch_and_fit pid=14351)\u001b[0m [Client 6, round 18] fit, config: {'learning_rate': 0.003, 'batch_size': '32', 'server_round': 18, 'local_epochs': 10}\n"
     ]
    },
    {
     "name": "stderr",
     "output_type": "stream",
     "text": [
      "  0%|\u001b[34m          \u001b[0m| 0/10 [00:00<?, ?it/s]\n",
      " 30%|\u001b[34m███       \u001b[0m| 3/10 [00:06<00:13,  1.99s/it]\u001b[32m [repeated 5x across cluster]\u001b[0m\n"
     ]
    },
    {
     "name": "stdout",
     "output_type": "stream",
     "text": [
      "\u001b[36m(launch_and_fit pid=14351)\u001b[0m Updated model\n",
      "\u001b[36m(launch_and_fit pid=14352)\u001b[0m \tTrain Epoch: 4 \tTrain_loss: 0.0017 | Train_acc: 100.0000 % | Validation_loss: 1.9301 | Validation_acc: 60.7143 %\u001b[32m [repeated 6x across cluster]\u001b[0m\n"
     ]
    },
    {
     "name": "stderr",
     "output_type": "stream",
     "text": [
      " 60%|\u001b[34m██████    \u001b[0m| 6/10 [00:11<00:07,  1.87s/it]\u001b[32m [repeated 6x across cluster]\u001b[0m\n"
     ]
    },
    {
     "name": "stdout",
     "output_type": "stream",
     "text": [
      "\u001b[36m(launch_and_fit pid=14352)\u001b[0m \tTrain Epoch: 7 \tTrain_loss: 0.0002 | Train_acc: 100.0000 % | Validation_loss: 1.8305 | Validation_acc: 64.2857 %\u001b[32m [repeated 6x across cluster]\u001b[0m\n"
     ]
    },
    {
     "name": "stderr",
     "output_type": "stream",
     "text": [
      " 90%|\u001b[34m█████████ \u001b[0m| 9/10 [00:17<00:01,  1.90s/it]\u001b[32m [repeated 6x across cluster]\u001b[0m\n"
     ]
    },
    {
     "name": "stdout",
     "output_type": "stream",
     "text": [
      "\u001b[36m(launch_and_fit pid=14352)\u001b[0m save graph in  results/FL/\n",
      "\u001b[36m(launch_and_fit pid=14352)\u001b[0m \tTrain Epoch: 10 \tTrain_loss: 0.0002 | Train_acc: 100.0000 % | Validation_loss: 1.8117 | Validation_acc: 60.7143 %\u001b[32m [repeated 6x across cluster]\u001b[0m\n",
      "\u001b[36m(launch_and_fit pid=14352)\u001b[0m features.0.weight 6.67572021484375e-06\n",
      "\u001b[36m(launch_and_fit pid=14352)\u001b[0m features.0.bias 1.9073486328125e-06\n",
      "\u001b[36m(launch_and_fit pid=14352)\u001b[0m features.3.weight 1.1920928955078125e-06\n",
      "\u001b[36m(launch_and_fit pid=14352)\u001b[0m features.3.bias 1.430511474609375e-06\n",
      "\u001b[36m(launch_and_fit pid=14352)\u001b[0m classifier.0.weight 1.430511474609375e-06\n",
      "\u001b[36m(launch_and_fit pid=14352)\u001b[0m classifier.0.bias 1.430511474609375e-06\n",
      "\u001b[36m(launch_and_fit pid=14352)\u001b[0m classifier.2.weight 1.1920928955078125e-06\n",
      "\u001b[36m(launch_and_fit pid=14352)\u001b[0m classifier.2.bias 1.430511474609375e-06\n",
      "\u001b[36m(launch_and_fit pid=14352)\u001b[0m classifier.3.weights 1.6689300537109375e-06\n",
      "\u001b[36m(launch_and_fit pid=14352)\u001b[0m classifier.4.weight 1.1920928955078125e-06\n",
      "\u001b[36m(launch_and_fit pid=14352)\u001b[0m classifier.4.bias 1.6689300537109375e-06\n",
      "\u001b[36m(launch_and_fit pid=14434)\u001b[0m Run with homomorphic encryption\n",
      "\u001b[36m(launch_and_fit pid=14351)\u001b[0m save graph in  results/FL/\n",
      "\u001b[36m(launch_and_fit pid=14351)\u001b[0m \tTrain Epoch: 10 \tTrain_loss: 0.0054 | Train_acc: 99.6528 % | Validation_loss: 0.6918 | Validation_acc: 82.1429 %\n",
      "\u001b[36m(launch_and_fit pid=14351)\u001b[0m classifier.4.bias 1.430511474609375e-06\u001b[32m [repeated 11x across cluster]\u001b[0m\n",
      "\u001b[36m(launch_and_fit pid=14434)\u001b[0m [Client 1, round 18] fit, config: {'learning_rate': 0.003, 'batch_size': '32', 'server_round': 18, 'local_epochs': 10}\n",
      "\u001b[36m(launch_and_fit pid=14434)\u001b[0m Updated model\n"
     ]
    },
    {
     "name": "stderr",
     "output_type": "stream",
     "text": [
      "  0%|\u001b[34m          \u001b[0m| 0/10 [00:00<?, ?it/s]\n",
      "100%|\u001b[34m██████████\u001b[0m| 10/10 [00:19<00:00,  1.94s/it]\u001b[32m [repeated 3x across cluster]\u001b[0m\n"
     ]
    },
    {
     "name": "stdout",
     "output_type": "stream",
     "text": [
      "\u001b[36m(launch_and_fit pid=14434)\u001b[0m \tTrain Epoch: 1 \tTrain_loss: 0.0530 | Train_acc: 97.5694 % | Validation_loss: 1.4406 | Validation_acc: 64.2857 %\n",
      "\u001b[36m(launch_and_fit pid=14432)\u001b[0m Run with homomorphic encryption\n",
      "\u001b[36m(launch_and_fit pid=14432)\u001b[0m [Client 7, round 18] fit, config: {'learning_rate': 0.003, 'batch_size': '32', 'server_round': 18, 'local_epochs': 10}\n",
      "\u001b[36m(launch_and_fit pid=14432)\u001b[0m Updated model\n"
     ]
    },
    {
     "name": "stderr",
     "output_type": "stream",
     "text": [
      "  0%|\u001b[34m          \u001b[0m| 0/10 [00:00<?, ?it/s]\n",
      " 30%|\u001b[34m███       \u001b[0m| 3/10 [00:06<00:14,  2.01s/it]\u001b[32m [repeated 5x across cluster]\u001b[0m\n"
     ]
    },
    {
     "name": "stdout",
     "output_type": "stream",
     "text": [
      "\u001b[36m(launch_and_fit pid=14434)\u001b[0m \tTrain Epoch: 4 \tTrain_loss: 0.0033 | Train_acc: 100.0000 % | Validation_loss: 1.6724 | Validation_acc: 71.4286 %\u001b[32m [repeated 6x across cluster]\u001b[0m\n"
     ]
    },
    {
     "name": "stderr",
     "output_type": "stream",
     "text": [
      " 60%|\u001b[34m██████    \u001b[0m| 6/10 [00:11<00:07,  1.92s/it]\u001b[32m [repeated 6x across cluster]\u001b[0m\n"
     ]
    },
    {
     "name": "stdout",
     "output_type": "stream",
     "text": [
      "\u001b[36m(launch_and_fit pid=14434)\u001b[0m \tTrain Epoch: 7 \tTrain_loss: 0.0028 | Train_acc: 100.0000 % | Validation_loss: 1.4141 | Validation_acc: 64.2857 %\u001b[32m [repeated 6x across cluster]\u001b[0m\n"
     ]
    },
    {
     "name": "stderr",
     "output_type": "stream",
     "text": [
      " 90%|\u001b[34m█████████ \u001b[0m| 9/10 [00:17<00:01,  1.87s/it]\u001b[32m [repeated 6x across cluster]\u001b[0m\n"
     ]
    },
    {
     "name": "stdout",
     "output_type": "stream",
     "text": [
      "\u001b[36m(launch_and_fit pid=14434)\u001b[0m save graph in  results/FL/\n",
      "\u001b[36m(launch_and_fit pid=14434)\u001b[0m \tTrain Epoch: 10 \tTrain_loss: 0.0434 | Train_acc: 100.0000 % | Validation_loss: 2.2011 | Validation_acc: 67.8571 %\u001b[32m [repeated 6x across cluster]\u001b[0m\n",
      "\u001b[36m(launch_and_fit pid=14434)\u001b[0m features.0.weight 6.198883056640625e-06\n",
      "\u001b[36m(launch_and_fit pid=14434)\u001b[0m features.0.bias 1.9073486328125e-06\n",
      "\u001b[36m(launch_and_fit pid=14434)\u001b[0m features.3.weight 1.6689300537109375e-06\n",
      "\u001b[36m(launch_and_fit pid=14434)\u001b[0m features.3.bias 1.430511474609375e-06\n",
      "\u001b[36m(launch_and_fit pid=14434)\u001b[0m classifier.0.weight 1.6689300537109375e-06\n",
      "\u001b[36m(launch_and_fit pid=14434)\u001b[0m classifier.0.bias 1.1920928955078125e-06\n",
      "\u001b[36m(launch_and_fit pid=14434)\u001b[0m classifier.2.weight 1.430511474609375e-06\n",
      "\u001b[36m(launch_and_fit pid=14434)\u001b[0m classifier.2.bias 1.1920928955078125e-06\n",
      "\u001b[36m(launch_and_fit pid=14434)\u001b[0m classifier.3.weights 1.430511474609375e-06\n",
      "\u001b[36m(launch_and_fit pid=14434)\u001b[0m classifier.4.weight 1.430511474609375e-06\n",
      "\u001b[36m(launch_and_fit pid=14434)\u001b[0m classifier.4.bias 1.1920928955078125e-06\n",
      "\u001b[36m(launch_and_fit pid=14514)\u001b[0m Run with homomorphic encryption\n",
      "\u001b[36m(launch_and_fit pid=14432)\u001b[0m save graph in  results/FL/\n",
      "\u001b[36m(launch_and_fit pid=14432)\u001b[0m \tTrain Epoch: 10 \tTrain_loss: 0.0002 | Train_acc: 100.0000 % | Validation_loss: 1.7456 | Validation_acc: 78.5714 %\n",
      "\u001b[36m(launch_and_fit pid=14432)\u001b[0m classifier.4.bias 1.430511474609375e-06\u001b[32m [repeated 11x across cluster]\u001b[0m\n",
      "\u001b[36m(launch_and_fit pid=14514)\u001b[0m [Client 5, round 18] fit, config: {'learning_rate': 0.003, 'batch_size': '32', 'server_round': 18, 'local_epochs': 10}\n",
      "\u001b[36m(launch_and_fit pid=14514)\u001b[0m Updated model\n"
     ]
    },
    {
     "name": "stderr",
     "output_type": "stream",
     "text": [
      "  0%|\u001b[34m          \u001b[0m| 0/10 [00:00<?, ?it/s]\n",
      "100%|\u001b[34m██████████\u001b[0m| 10/10 [00:19<00:00,  1.93s/it]\u001b[32m [repeated 3x across cluster]\u001b[0m\n"
     ]
    },
    {
     "name": "stdout",
     "output_type": "stream",
     "text": [
      "\u001b[36m(launch_and_fit pid=14514)\u001b[0m \tTrain Epoch: 1 \tTrain_loss: 0.1088 | Train_acc: 96.1806 % | Validation_loss: 2.1837 | Validation_acc: 50.0000 %\n",
      "\u001b[36m(launch_and_fit pid=14516)\u001b[0m Run with homomorphic encryption\n",
      "\u001b[36m(launch_and_fit pid=14516)\u001b[0m [Client 9, round 18] fit, config: {'learning_rate': 0.003, 'batch_size': '32', 'server_round': 18, 'local_epochs': 10}\n",
      "\u001b[36m(launch_and_fit pid=14516)\u001b[0m Updated model\n"
     ]
    },
    {
     "name": "stderr",
     "output_type": "stream",
     "text": [
      "  0%|\u001b[34m          \u001b[0m| 0/10 [00:00<?, ?it/s]\n",
      " 30%|\u001b[34m███       \u001b[0m| 3/10 [00:06<00:14,  2.01s/it]\u001b[32m [repeated 5x across cluster]\u001b[0m\n"
     ]
    },
    {
     "name": "stdout",
     "output_type": "stream",
     "text": [
      "\u001b[36m(launch_and_fit pid=14514)\u001b[0m \tTrain Epoch: 4 \tTrain_loss: 0.0061 | Train_acc: 100.0000 % | Validation_loss: 1.7972 | Validation_acc: 50.0000 %\u001b[32m [repeated 6x across cluster]\u001b[0m\n"
     ]
    },
    {
     "name": "stderr",
     "output_type": "stream",
     "text": [
      " 60%|\u001b[34m██████    \u001b[0m| 6/10 [00:11<00:07,  1.91s/it]\u001b[32m [repeated 6x across cluster]\u001b[0m\n"
     ]
    },
    {
     "name": "stdout",
     "output_type": "stream",
     "text": [
      "\u001b[36m(launch_and_fit pid=14514)\u001b[0m \tTrain Epoch: 7 \tTrain_loss: 0.0497 | Train_acc: 99.3056 % | Validation_loss: 2.2515 | Validation_acc: 50.0000 %\u001b[32m [repeated 6x across cluster]\u001b[0m\n"
     ]
    },
    {
     "name": "stderr",
     "output_type": "stream",
     "text": [
      " 90%|\u001b[34m█████████ \u001b[0m| 9/10 [00:17<00:01,  1.97s/it]\u001b[32m [repeated 6x across cluster]\u001b[0m\n"
     ]
    },
    {
     "name": "stdout",
     "output_type": "stream",
     "text": [
      "\u001b[36m(launch_and_fit pid=14514)\u001b[0m save graph in  results/FL/\n",
      "\u001b[36m(launch_and_fit pid=14514)\u001b[0m \tTrain Epoch: 10 \tTrain_loss: 0.0009 | Train_acc: 100.0000 % | Validation_loss: 2.1398 | Validation_acc: 50.0000 %\u001b[32m [repeated 6x across cluster]\u001b[0m\n",
      "\u001b[36m(launch_and_fit pid=14514)\u001b[0m features.0.weight 9.5367431640625e-06\n",
      "\u001b[36m(launch_and_fit pid=14514)\u001b[0m features.0.bias 3.5762786865234375e-06\n",
      "\u001b[36m(launch_and_fit pid=14514)\u001b[0m features.3.weight 2.6226043701171875e-06\n",
      "\u001b[36m(launch_and_fit pid=14514)\u001b[0m features.3.bias 1.6689300537109375e-06\n",
      "\u001b[36m(launch_and_fit pid=14514)\u001b[0m classifier.0.weight 1.430511474609375e-06\n",
      "\u001b[36m(launch_and_fit pid=14514)\u001b[0m classifier.0.bias 1.430511474609375e-06\n",
      "\u001b[36m(launch_and_fit pid=14514)\u001b[0m classifier.2.weight 1.430511474609375e-06\n",
      "\u001b[36m(launch_and_fit pid=14514)\u001b[0m classifier.2.bias 1.1920928955078125e-06\n",
      "\u001b[36m(launch_and_fit pid=14514)\u001b[0m classifier.3.weights 1.1920928955078125e-06\n",
      "\u001b[36m(launch_and_fit pid=14514)\u001b[0m classifier.4.weight 1.430511474609375e-06\n",
      "\u001b[36m(launch_and_fit pid=14514)\u001b[0m classifier.4.bias 1.1920928955078125e-06\n",
      "\u001b[36m(launch_and_fit pid=14597)\u001b[0m Run with homomorphic encryption\n",
      "\u001b[36m(launch_and_fit pid=14516)\u001b[0m save graph in  results/FL/\n",
      "\u001b[36m(launch_and_fit pid=14516)\u001b[0m \tTrain Epoch: 10 \tTrain_loss: 0.0004 | Train_acc: 100.0000 % | Validation_loss: 1.3280 | Validation_acc: 79.3103 %\n",
      "\u001b[36m(launch_and_fit pid=14516)\u001b[0m classifier.4.bias 1.430511474609375e-06\u001b[32m [repeated 11x across cluster]\u001b[0m\n",
      "\u001b[36m(launch_and_fit pid=14597)\u001b[0m [Client 0, round 18] fit, config: {'learning_rate': 0.003, 'batch_size': '32', 'server_round': 18, 'local_epochs': 10}\n"
     ]
    },
    {
     "name": "stderr",
     "output_type": "stream",
     "text": [
      "  0%|\u001b[34m          \u001b[0m| 0/10 [00:00<?, ?it/s]\n",
      "100%|\u001b[34m██████████\u001b[0m| 10/10 [00:20<00:00,  2.02s/it]\u001b[32m [repeated 3x across cluster]\u001b[0m\n"
     ]
    },
    {
     "name": "stdout",
     "output_type": "stream",
     "text": [
      "\u001b[36m(launch_and_fit pid=14597)\u001b[0m Updated model\n",
      "\u001b[36m(launch_and_fit pid=14597)\u001b[0m \tTrain Epoch: 1 \tTrain_loss: 0.1218 | Train_acc: 96.1806 % | Validation_loss: 1.2569 | Validation_acc: 64.2857 %\n",
      "\u001b[36m(launch_and_fit pid=14622)\u001b[0m Run with homomorphic encryption\n",
      "\u001b[36m(launch_and_fit pid=14622)\u001b[0m [Client 4, round 18] fit, config: {'learning_rate': 0.003, 'batch_size': '32', 'server_round': 18, 'local_epochs': 10}\n"
     ]
    },
    {
     "name": "stderr",
     "output_type": "stream",
     "text": [
      "  0%|\u001b[34m          \u001b[0m| 0/10 [00:00<?, ?it/s]\n",
      " 20%|\u001b[34m██        \u001b[0m| 2/10 [00:04<00:17,  2.16s/it]\u001b[32m [repeated 4x across cluster]\u001b[0m\n"
     ]
    },
    {
     "name": "stdout",
     "output_type": "stream",
     "text": [
      "\u001b[36m(launch_and_fit pid=14622)\u001b[0m Updated model\n",
      "\u001b[36m(launch_and_fit pid=14597)\u001b[0m \tTrain Epoch: 4 \tTrain_loss: 0.0030 | Train_acc: 100.0000 % | Validation_loss: 2.0064 | Validation_acc: 64.2857 %\u001b[32m [repeated 6x across cluster]\u001b[0m\n"
     ]
    },
    {
     "name": "stderr",
     "output_type": "stream",
     "text": [
      " 50%|\u001b[34m█████     \u001b[0m| 5/10 [00:10<00:09,  1.93s/it]\u001b[32m [repeated 6x across cluster]\u001b[0m\n"
     ]
    },
    {
     "name": "stdout",
     "output_type": "stream",
     "text": [
      "\u001b[36m(launch_and_fit pid=14597)\u001b[0m \tTrain Epoch: 7 \tTrain_loss: 0.0019 | Train_acc: 100.0000 % | Validation_loss: 1.2608 | Validation_acc: 67.8571 %\u001b[32m [repeated 6x across cluster]\u001b[0m\n"
     ]
    },
    {
     "name": "stderr",
     "output_type": "stream",
     "text": [
      " 80%|\u001b[34m████████  \u001b[0m| 8/10 [00:15<00:03,  1.94s/it]\u001b[32m [repeated 6x across cluster]\u001b[0m\n"
     ]
    },
    {
     "name": "stdout",
     "output_type": "stream",
     "text": [
      "\u001b[36m(launch_and_fit pid=14597)\u001b[0m save graph in  results/FL/\n",
      "\u001b[36m(launch_and_fit pid=14597)\u001b[0m \tTrain Epoch: 10 \tTrain_loss: 0.0003 | Train_acc: 100.0000 % | Validation_loss: 1.6159 | Validation_acc: 67.8571 %\u001b[32m [repeated 6x across cluster]\u001b[0m\n",
      "\u001b[36m(launch_and_fit pid=14597)\u001b[0m features.0.weight 4.5299530029296875e-06\n",
      "\u001b[36m(launch_and_fit pid=14597)\u001b[0m features.0.bias 1.6689300537109375e-06\n",
      "\u001b[36m(launch_and_fit pid=14597)\u001b[0m features.3.weight 1.430511474609375e-06\n",
      "\u001b[36m(launch_and_fit pid=14597)\u001b[0m features.3.bias 1.430511474609375e-06\n",
      "\u001b[36m(launch_and_fit pid=14597)\u001b[0m classifier.0.weight 1.430511474609375e-06\n",
      "\u001b[36m(launch_and_fit pid=14597)\u001b[0m classifier.0.bias 1.1920928955078125e-06\n",
      "\u001b[36m(launch_and_fit pid=14597)\u001b[0m classifier.2.weight 1.1920928955078125e-06\n",
      "\u001b[36m(launch_and_fit pid=14597)\u001b[0m classifier.2.bias 1.1920928955078125e-06\n",
      "\u001b[36m(launch_and_fit pid=14597)\u001b[0m classifier.3.weights 1.6689300537109375e-06\n",
      "\u001b[36m(launch_and_fit pid=14597)\u001b[0m classifier.4.weight 1.430511474609375e-06\n",
      "\u001b[36m(launch_and_fit pid=14597)\u001b[0m classifier.4.bias 1.1920928955078125e-06\n",
      "\u001b[36m(launch_and_fit pid=14679)\u001b[0m Run with homomorphic encryption\n",
      "\u001b[36m(launch_and_fit pid=14622)\u001b[0m save graph in  results/FL/\n",
      "\u001b[36m(launch_and_fit pid=14622)\u001b[0m \tTrain Epoch: 10 \tTrain_loss: 0.0008 | Train_acc: 100.0000 % | Validation_loss: 1.6426 | Validation_acc: 75.0000 %\n",
      "\u001b[36m(launch_and_fit pid=14622)\u001b[0m classifier.4.bias 1.430511474609375e-06\u001b[32m [repeated 11x across cluster]\u001b[0m\n",
      "\u001b[36m(launch_and_fit pid=14679)\u001b[0m [Client 8, round 18] fit, config: {'learning_rate': 0.003, 'batch_size': '32', 'server_round': 18, 'local_epochs': 10}\n"
     ]
    },
    {
     "name": "stderr",
     "output_type": "stream",
     "text": [
      "  0%|\u001b[34m          \u001b[0m| 0/10 [00:00<?, ?it/s]\n",
      "100%|\u001b[34m██████████\u001b[0m| 10/10 [00:19<00:00,  1.96s/it]\u001b[32m [repeated 4x across cluster]\u001b[0m\n"
     ]
    },
    {
     "name": "stdout",
     "output_type": "stream",
     "text": [
      "\u001b[36m(launch_and_fit pid=14679)\u001b[0m Updated model\n",
      "\u001b[36m(launch_and_fit pid=14679)\u001b[0m \tTrain Epoch: 1 \tTrain_loss: 0.0636 | Train_acc: 97.5694 % | Validation_loss: 1.1969 | Validation_acc: 71.4286 %\n",
      "\u001b[36m(launch_and_fit pid=14704)\u001b[0m Run with homomorphic encryption\n",
      "\u001b[36m(launch_and_fit pid=14704)\u001b[0m [Client 2, round 18] fit, config: {'learning_rate': 0.003, 'batch_size': '32', 'server_round': 18, 'local_epochs': 10}\n"
     ]
    },
    {
     "name": "stderr",
     "output_type": "stream",
     "text": [
      "  0%|\u001b[34m          \u001b[0m| 0/10 [00:00<?, ?it/s]\n",
      " 20%|\u001b[34m██        \u001b[0m| 2/10 [00:04<00:15,  1.99s/it]\u001b[32m [repeated 4x across cluster]\u001b[0m\n"
     ]
    },
    {
     "name": "stdout",
     "output_type": "stream",
     "text": [
      "\u001b[36m(launch_and_fit pid=14704)\u001b[0m Updated model\n",
      "\u001b[36m(launch_and_fit pid=14679)\u001b[0m \tTrain Epoch: 4 \tTrain_loss: 0.0005 | Train_acc: 100.0000 % | Validation_loss: 1.3527 | Validation_acc: 67.8571 %\u001b[32m [repeated 6x across cluster]\u001b[0m\n"
     ]
    },
    {
     "name": "stderr",
     "output_type": "stream",
     "text": [
      " 50%|\u001b[34m█████     \u001b[0m| 5/10 [00:09<00:09,  1.90s/it]\u001b[32m [repeated 6x across cluster]\u001b[0m\n"
     ]
    },
    {
     "name": "stdout",
     "output_type": "stream",
     "text": [
      "\u001b[36m(launch_and_fit pid=14679)\u001b[0m \tTrain Epoch: 7 \tTrain_loss: 0.0003 | Train_acc: 100.0000 % | Validation_loss: 1.6189 | Validation_acc: 78.5714 %\u001b[32m [repeated 6x across cluster]\u001b[0m\n"
     ]
    },
    {
     "name": "stderr",
     "output_type": "stream",
     "text": [
      " 80%|\u001b[34m████████  \u001b[0m| 8/10 [00:15<00:03,  1.88s/it]\u001b[32m [repeated 6x across cluster]\u001b[0m\n"
     ]
    },
    {
     "name": "stdout",
     "output_type": "stream",
     "text": [
      "\u001b[36m(launch_and_fit pid=14679)\u001b[0m save graph in  results/FL/\n",
      "\u001b[36m(launch_and_fit pid=14679)\u001b[0m \tTrain Epoch: 10 \tTrain_loss: 0.0002 | Train_acc: 100.0000 % | Validation_loss: 1.5842 | Validation_acc: 78.5714 %\u001b[32m [repeated 6x across cluster]\u001b[0m\n",
      "\u001b[36m(launch_and_fit pid=14679)\u001b[0m features.0.weight 5.9604644775390625e-06\n",
      "\u001b[36m(launch_and_fit pid=14679)\u001b[0m features.0.bias 1.430511474609375e-06\n",
      "\u001b[36m(launch_and_fit pid=14679)\u001b[0m features.3.weight 1.1920928955078125e-06\n",
      "\u001b[36m(launch_and_fit pid=14679)\u001b[0m features.3.bias 1.1920928955078125e-06\n",
      "\u001b[36m(launch_and_fit pid=14679)\u001b[0m classifier.0.weight 1.430511474609375e-06\n",
      "\u001b[36m(launch_and_fit pid=14679)\u001b[0m classifier.0.bias 9.5367431640625e-07\n",
      "\u001b[36m(launch_and_fit pid=14679)\u001b[0m classifier.2.weight 1.8358230590820312e-05\n",
      "\u001b[36m(launch_and_fit pid=14679)\u001b[0m classifier.2.bias 1.6689300537109375e-06\n",
      "\u001b[36m(launch_and_fit pid=14679)\u001b[0m classifier.3.weights 1.430511474609375e-06\n",
      "\u001b[36m(launch_and_fit pid=14679)\u001b[0m classifier.4.weight 1.1920928955078125e-06\n",
      "\u001b[36m(launch_and_fit pid=14679)\u001b[0m classifier.4.bias 1.1920928955078125e-06\n"
     ]
    },
    {
     "name": "stderr",
     "output_type": "stream",
     "text": [
      "DEBUG flwr 2024-07-24 05:33:33,061 | server.py:236 | fit_round 18 received 10 results and 0 failures\n"
     ]
    },
    {
     "name": "stdout",
     "output_type": "stream",
     "text": [
      "Saving round 18 aggregated_parameters...\n"
     ]
    },
    {
     "name": "stderr",
     "output_type": "stream",
     "text": [
      "DEBUG flwr 2024-07-24 05:33:35,106 | server.py:173 | evaluate_round 18: strategy sampled 10 clients (out of 10)\n"
     ]
    },
    {
     "name": "stdout",
     "output_type": "stream",
     "text": [
      "\u001b[36m(launch_and_evaluate pid=14771)\u001b[0m Run with homomorphic encryption\n",
      "\u001b[36m(launch_and_fit pid=14704)\u001b[0m save graph in  results/FL/\n",
      "\u001b[36m(launch_and_fit pid=14704)\u001b[0m \tTrain Epoch: 10 \tTrain_loss: 0.0052 | Train_acc: 99.6528 % | Validation_loss: 1.1665 | Validation_acc: 75.0000 %\n",
      "\u001b[36m(launch_and_fit pid=14704)\u001b[0m classifier.4.bias 1.430511474609375e-06\u001b[32m [repeated 11x across cluster]\u001b[0m\n",
      "\u001b[36m(launch_and_evaluate pid=14771)\u001b[0m [Client 0] evaluate, config: {}\n",
      "\u001b[36m(launch_and_evaluate pid=14771)\u001b[0m Updated model\n",
      "\u001b[36m(launch_and_evaluate pid=14851)\u001b[0m Run with homomorphic encryption\u001b[32m [repeated 2x across cluster]\u001b[0m\n",
      "\u001b[36m(launch_and_evaluate pid=14770)\u001b[0m [Client 8] evaluate, config: {}\n",
      "\u001b[36m(launch_and_evaluate pid=14770)\u001b[0m Updated model\n",
      "\u001b[36m(launch_and_evaluate pid=14851)\u001b[0m [Client 7] evaluate, config: {}\n",
      "\u001b[36m(launch_and_evaluate pid=14851)\u001b[0m Updated model\n",
      "\u001b[36m(launch_and_evaluate pid=14927)\u001b[0m Run with homomorphic encryption\u001b[32m [repeated 2x across cluster]\u001b[0m\n",
      "\u001b[36m(launch_and_evaluate pid=14849)\u001b[0m [Client 9] evaluate, config: {}\n",
      "\u001b[36m(launch_and_evaluate pid=14849)\u001b[0m Updated model\n",
      "\u001b[36m(launch_and_evaluate pid=14927)\u001b[0m [Client 4] evaluate, config: {}\n",
      "\u001b[36m(launch_and_evaluate pid=14927)\u001b[0m Updated model\n",
      "\u001b[36m(launch_and_evaluate pid=15006)\u001b[0m Run with homomorphic encryption\u001b[32m [repeated 2x across cluster]\u001b[0m\n",
      "\u001b[36m(launch_and_evaluate pid=14929)\u001b[0m [Client 3] evaluate, config: {}\n",
      "\u001b[36m(launch_and_evaluate pid=14929)\u001b[0m Updated model\n",
      "\u001b[36m(launch_and_evaluate pid=15006)\u001b[0m [Client 5] evaluate, config: {}\n",
      "\u001b[36m(launch_and_evaluate pid=15006)\u001b[0m Updated model\n",
      "\u001b[36m(launch_and_evaluate pid=15084)\u001b[0m Run with homomorphic encryption\u001b[32m [repeated 2x across cluster]\u001b[0m\n",
      "\u001b[36m(launch_and_evaluate pid=15008)\u001b[0m [Client 2] evaluate, config: {}\n",
      "\u001b[36m(launch_and_evaluate pid=15008)\u001b[0m Updated model\n",
      "\u001b[36m(launch_and_evaluate pid=15084)\u001b[0m [Client 1] evaluate, config: {}\n",
      "\u001b[36m(launch_and_evaluate pid=15084)\u001b[0m Updated model\n"
     ]
    },
    {
     "name": "stderr",
     "output_type": "stream",
     "text": [
      "DEBUG flwr 2024-07-24 05:34:54,839 | server.py:187 | evaluate_round 18 received 10 results and 0 failures\n",
      "DEBUG flwr 2024-07-24 05:34:54,841 | server.py:222 | fit_round 19: strategy sampled 10 clients (out of 10)\n"
     ]
    },
    {
     "name": "stdout",
     "output_type": "stream",
     "text": [
      "\u001b[36m(launch_and_fit pid=15172)\u001b[0m Run with homomorphic encryption\u001b[32m [repeated 2x across cluster]\u001b[0m\n",
      "\u001b[36m(launch_and_evaluate pid=15086)\u001b[0m [Client 6] evaluate, config: {}\n",
      "\u001b[36m(launch_and_evaluate pid=15086)\u001b[0m Updated model\n",
      "\u001b[36m(launch_and_fit pid=15172)\u001b[0m [Client 5, round 19] fit, config: {'learning_rate': 0.003, 'batch_size': '32', 'server_round': 19, 'local_epochs': 10}\n"
     ]
    },
    {
     "name": "stderr",
     "output_type": "stream",
     "text": [
      "  0%|\u001b[34m          \u001b[0m| 0/10 [00:00<?, ?it/s]\n",
      "100%|\u001b[34m██████████\u001b[0m| 10/10 [00:18<00:00,  1.90s/it]\u001b[32m [repeated 4x across cluster]\u001b[0m\n"
     ]
    },
    {
     "name": "stdout",
     "output_type": "stream",
     "text": [
      "\u001b[36m(launch_and_fit pid=15172)\u001b[0m Updated model\n",
      "\u001b[36m(launch_and_fit pid=15172)\u001b[0m \tTrain Epoch: 1 \tTrain_loss: 0.0717 | Train_acc: 97.5694 % | Validation_loss: 2.2911 | Validation_acc: 53.5714 %\n",
      "\u001b[36m(launch_and_fit pid=15171)\u001b[0m Run with homomorphic encryption\n",
      "\u001b[36m(launch_and_fit pid=15171)\u001b[0m [Client 0, round 19] fit, config: {'learning_rate': 0.003, 'batch_size': '32', 'server_round': 19, 'local_epochs': 10}\n"
     ]
    },
    {
     "name": "stderr",
     "output_type": "stream",
     "text": [
      "  0%|\u001b[34m          \u001b[0m| 0/10 [00:00<?, ?it/s]\n",
      " 30%|\u001b[34m███       \u001b[0m| 3/10 [00:05<00:13,  1.94s/it]\u001b[32m [repeated 5x across cluster]\u001b[0m\n"
     ]
    },
    {
     "name": "stdout",
     "output_type": "stream",
     "text": [
      "\u001b[36m(launch_and_fit pid=15171)\u001b[0m Updated model\n",
      "\u001b[36m(launch_and_fit pid=15172)\u001b[0m \tTrain Epoch: 4 \tTrain_loss: 0.0033 | Train_acc: 100.0000 % | Validation_loss: 1.8410 | Validation_acc: 42.8571 %\u001b[32m [repeated 6x across cluster]\u001b[0m\n"
     ]
    },
    {
     "name": "stderr",
     "output_type": "stream",
     "text": [
      " 60%|\u001b[34m██████    \u001b[0m| 6/10 [00:11<00:07,  1.85s/it]\u001b[32m [repeated 6x across cluster]\u001b[0m\n"
     ]
    },
    {
     "name": "stdout",
     "output_type": "stream",
     "text": [
      "\u001b[36m(launch_and_fit pid=15172)\u001b[0m \tTrain Epoch: 7 \tTrain_loss: 0.0009 | Train_acc: 100.0000 % | Validation_loss: 1.6709 | Validation_acc: 57.1429 %\u001b[32m [repeated 6x across cluster]\u001b[0m\n"
     ]
    },
    {
     "name": "stderr",
     "output_type": "stream",
     "text": [
      " 90%|\u001b[34m█████████ \u001b[0m| 9/10 [00:16<00:01,  1.81s/it]\u001b[32m [repeated 6x across cluster]\u001b[0m\n"
     ]
    },
    {
     "name": "stdout",
     "output_type": "stream",
     "text": [
      "\u001b[36m(launch_and_fit pid=15172)\u001b[0m save graph in  results/FL/\n",
      "\u001b[36m(launch_and_fit pid=15172)\u001b[0m \tTrain Epoch: 10 \tTrain_loss: 0.0002 | Train_acc: 100.0000 % | Validation_loss: 2.5184 | Validation_acc: 50.0000 %\u001b[32m [repeated 6x across cluster]\u001b[0m\n",
      "\u001b[36m(launch_and_fit pid=15172)\u001b[0m features.0.weight 5.7220458984375e-06\n",
      "\u001b[36m(launch_and_fit pid=15172)\u001b[0m features.0.bias 1.430511474609375e-06\n",
      "\u001b[36m(launch_and_fit pid=15172)\u001b[0m features.3.weight 1.1920928955078125e-06\n",
      "\u001b[36m(launch_and_fit pid=15172)\u001b[0m features.3.bias 1.1920928955078125e-06\n",
      "\u001b[36m(launch_and_fit pid=15172)\u001b[0m classifier.0.weight 1.430511474609375e-06\n",
      "\u001b[36m(launch_and_fit pid=15172)\u001b[0m classifier.0.bias 1.1920928955078125e-06\n",
      "\u001b[36m(launch_and_fit pid=15172)\u001b[0m classifier.2.weight 9.5367431640625e-07\n",
      "\u001b[36m(launch_and_fit pid=15172)\u001b[0m classifier.2.bias 1.1920928955078125e-06\n",
      "\u001b[36m(launch_and_fit pid=15172)\u001b[0m classifier.3.weights 9.5367431640625e-07\n",
      "\u001b[36m(launch_and_fit pid=15172)\u001b[0m classifier.4.weight 9.5367431640625e-07\n",
      "\u001b[36m(launch_and_fit pid=15172)\u001b[0m classifier.4.bias 1.430511474609375e-06\n",
      "\u001b[36m(launch_and_fit pid=15252)\u001b[0m Run with homomorphic encryption\n",
      "\u001b[36m(launch_and_fit pid=15171)\u001b[0m save graph in  results/FL/\n",
      "\u001b[36m(launch_and_fit pid=15171)\u001b[0m \tTrain Epoch: 10 \tTrain_loss: 0.0002 | Train_acc: 100.0000 % | Validation_loss: 1.8942 | Validation_acc: 64.2857 %\n",
      "\u001b[36m(launch_and_fit pid=15171)\u001b[0m classifier.4.bias 1.1920928955078125e-06\u001b[32m [repeated 11x across cluster]\u001b[0m\n",
      "\u001b[36m(launch_and_fit pid=15254)\u001b[0m [Client 9, round 19] fit, config: {'learning_rate': 0.003, 'batch_size': '32', 'server_round': 19, 'local_epochs': 10}\n",
      "\u001b[36m(launch_and_fit pid=15252)\u001b[0m Updated model\n"
     ]
    },
    {
     "name": "stderr",
     "output_type": "stream",
     "text": [
      "  0%|\u001b[34m          \u001b[0m| 0/10 [00:00<?, ?it/s]\n",
      "100%|\u001b[34m██████████\u001b[0m| 10/10 [00:18<00:00,  1.89s/it]\u001b[32m [repeated 3x across cluster]\u001b[0m\n"
     ]
    },
    {
     "name": "stdout",
     "output_type": "stream",
     "text": [
      "\u001b[36m(launch_and_fit pid=15252)\u001b[0m \tTrain Epoch: 1 \tTrain_loss: 0.0613 | Train_acc: 98.2639 % | Validation_loss: 1.0631 | Validation_acc: 75.0000 %\n",
      "\u001b[36m(launch_and_fit pid=15254)\u001b[0m Run with homomorphic encryption\n",
      "\u001b[36m(launch_and_fit pid=15252)\u001b[0m [Client 8, round 19] fit, config: {'learning_rate': 0.003, 'batch_size': '32', 'server_round': 19, 'local_epochs': 10}\n",
      "\u001b[36m(launch_and_fit pid=15254)\u001b[0m Updated model\n"
     ]
    },
    {
     "name": "stderr",
     "output_type": "stream",
     "text": [
      "  0%|\u001b[34m          \u001b[0m| 0/10 [00:00<?, ?it/s]\n",
      " 30%|\u001b[34m███       \u001b[0m| 3/10 [00:05<00:13,  1.94s/it]\u001b[32m [repeated 5x across cluster]\u001b[0m\n"
     ]
    },
    {
     "name": "stdout",
     "output_type": "stream",
     "text": [
      "\u001b[36m(launch_and_fit pid=15252)\u001b[0m \tTrain Epoch: 4 \tTrain_loss: 0.0005 | Train_acc: 100.0000 % | Validation_loss: 1.4852 | Validation_acc: 78.5714 %\u001b[32m [repeated 6x across cluster]\u001b[0m\n"
     ]
    },
    {
     "name": "stderr",
     "output_type": "stream",
     "text": [
      " 60%|\u001b[34m██████    \u001b[0m| 6/10 [00:11<00:07,  1.88s/it]\u001b[32m [repeated 6x across cluster]\u001b[0m\n"
     ]
    },
    {
     "name": "stdout",
     "output_type": "stream",
     "text": [
      "\u001b[36m(launch_and_fit pid=15252)\u001b[0m \tTrain Epoch: 7 \tTrain_loss: 0.0007 | Train_acc: 100.0000 % | Validation_loss: 1.1390 | Validation_acc: 78.5714 %\u001b[32m [repeated 6x across cluster]\u001b[0m\n"
     ]
    },
    {
     "name": "stderr",
     "output_type": "stream",
     "text": [
      " 90%|\u001b[34m█████████ \u001b[0m| 9/10 [00:16<00:01,  1.80s/it]\u001b[32m [repeated 6x across cluster]\u001b[0m\n"
     ]
    },
    {
     "name": "stdout",
     "output_type": "stream",
     "text": [
      "\u001b[36m(launch_and_fit pid=15252)\u001b[0m save graph in  results/FL/\n",
      "\u001b[36m(launch_and_fit pid=15252)\u001b[0m \tTrain Epoch: 10 \tTrain_loss: 0.0002 | Train_acc: 100.0000 % | Validation_loss: 1.4373 | Validation_acc: 78.5714 %\u001b[32m [repeated 6x across cluster]\u001b[0m\n",
      "\u001b[36m(launch_and_fit pid=15252)\u001b[0m features.0.weight 5.245208740234375e-06\n",
      "\u001b[36m(launch_and_fit pid=15252)\u001b[0m features.0.bias 1.6689300537109375e-06\n",
      "\u001b[36m(launch_and_fit pid=15252)\u001b[0m features.3.weight 1.430511474609375e-06\n",
      "\u001b[36m(launch_and_fit pid=15252)\u001b[0m features.3.bias 1.430511474609375e-06\n",
      "\u001b[36m(launch_and_fit pid=15252)\u001b[0m classifier.0.weight 1.6689300537109375e-06\n",
      "\u001b[36m(launch_and_fit pid=15252)\u001b[0m classifier.0.bias 1.1920928955078125e-06\n",
      "\u001b[36m(launch_and_fit pid=15252)\u001b[0m classifier.2.weight 1.1920928955078125e-06\n",
      "\u001b[36m(launch_and_fit pid=15252)\u001b[0m classifier.2.bias 9.5367431640625e-07\n",
      "\u001b[36m(launch_and_fit pid=15252)\u001b[0m classifier.3.weights 1.1920928955078125e-06\n",
      "\u001b[36m(launch_and_fit pid=15252)\u001b[0m classifier.4.weight 1.430511474609375e-06\n",
      "\u001b[36m(launch_and_fit pid=15252)\u001b[0m classifier.4.bias 1.1920928955078125e-06\n",
      "\u001b[36m(launch_and_fit pid=15337)\u001b[0m Run with homomorphic encryption\n",
      "\u001b[36m(launch_and_fit pid=15254)\u001b[0m save graph in  results/FL/\n",
      "\u001b[36m(launch_and_fit pid=15254)\u001b[0m \tTrain Epoch: 10 \tTrain_loss: 0.0005 | Train_acc: 100.0000 % | Validation_loss: 1.5818 | Validation_acc: 75.8621 %\n",
      "\u001b[36m(launch_and_fit pid=15254)\u001b[0m classifier.4.bias 1.1920928955078125e-06\u001b[32m [repeated 11x across cluster]\u001b[0m\n",
      "\u001b[36m(launch_and_fit pid=15337)\u001b[0m [Client 3, round 19] fit, config: {'learning_rate': 0.003, 'batch_size': '32', 'server_round': 19, 'local_epochs': 10}\n"
     ]
    },
    {
     "name": "stderr",
     "output_type": "stream",
     "text": [
      "  0%|\u001b[34m          \u001b[0m| 0/10 [00:00<?, ?it/s]\n",
      "100%|\u001b[34m██████████\u001b[0m| 10/10 [00:19<00:00,  1.95s/it]\u001b[32m [repeated 3x across cluster]\u001b[0m\n"
     ]
    },
    {
     "name": "stdout",
     "output_type": "stream",
     "text": [
      "\u001b[36m(launch_and_fit pid=15337)\u001b[0m Updated model\n",
      "\u001b[36m(launch_and_fit pid=15337)\u001b[0m \tTrain Epoch: 1 \tTrain_loss: 0.0473 | Train_acc: 98.2639 % | Validation_loss: 1.9732 | Validation_acc: 60.7143 %\n",
      "\u001b[36m(launch_and_fit pid=15339)\u001b[0m Run with homomorphic encryption\n",
      "\u001b[36m(launch_and_fit pid=15339)\u001b[0m [Client 4, round 19] fit, config: {'learning_rate': 0.003, 'batch_size': '32', 'server_round': 19, 'local_epochs': 10}\n",
      "\u001b[36m(launch_and_fit pid=15339)\u001b[0m Updated model\n"
     ]
    },
    {
     "name": "stderr",
     "output_type": "stream",
     "text": [
      "  0%|\u001b[34m          \u001b[0m| 0/10 [00:00<?, ?it/s]\n",
      " 20%|\u001b[34m██        \u001b[0m| 2/10 [00:04<00:16,  2.09s/it]\u001b[32m [repeated 4x across cluster]\u001b[0m\n"
     ]
    },
    {
     "name": "stdout",
     "output_type": "stream",
     "text": [
      "\u001b[36m(launch_and_fit pid=15337)\u001b[0m \tTrain Epoch: 4 \tTrain_loss: 0.0053 | Train_acc: 99.6528 % | Validation_loss: 1.3181 | Validation_acc: 67.8571 %\u001b[32m [repeated 6x across cluster]\u001b[0m\n"
     ]
    },
    {
     "name": "stderr",
     "output_type": "stream",
     "text": [
      " 50%|\u001b[34m█████     \u001b[0m| 5/10 [00:09<00:09,  1.91s/it]\u001b[32m [repeated 6x across cluster]\u001b[0m\n"
     ]
    },
    {
     "name": "stdout",
     "output_type": "stream",
     "text": [
      "\u001b[36m(launch_and_fit pid=15337)\u001b[0m \tTrain Epoch: 7 \tTrain_loss: 0.0003 | Train_acc: 100.0000 % | Validation_loss: 1.8004 | Validation_acc: 64.2857 %\u001b[32m [repeated 6x across cluster]\u001b[0m\n"
     ]
    },
    {
     "name": "stderr",
     "output_type": "stream",
     "text": [
      " 80%|\u001b[34m████████  \u001b[0m| 8/10 [00:15<00:03,  1.92s/it]\u001b[32m [repeated 6x across cluster]\u001b[0m\n"
     ]
    },
    {
     "name": "stdout",
     "output_type": "stream",
     "text": [
      "\u001b[36m(launch_and_fit pid=15337)\u001b[0m save graph in  results/FL/\n",
      "\u001b[36m(launch_and_fit pid=15337)\u001b[0m \tTrain Epoch: 10 \tTrain_loss: 0.0001 | Train_acc: 100.0000 % | Validation_loss: 1.8035 | Validation_acc: 64.2857 %\u001b[32m [repeated 6x across cluster]\u001b[0m\n",
      "\u001b[36m(launch_and_fit pid=15337)\u001b[0m features.0.weight 6.67572021484375e-06\n",
      "\u001b[36m(launch_and_fit pid=15337)\u001b[0m features.0.bias 1.6689300537109375e-06\n",
      "\u001b[36m(launch_and_fit pid=15337)\u001b[0m features.3.weight 1.1920928955078125e-06\n",
      "\u001b[36m(launch_and_fit pid=15337)\u001b[0m features.3.bias 1.9073486328125e-06\n",
      "\u001b[36m(launch_and_fit pid=15337)\u001b[0m classifier.0.weight 1.6689300537109375e-06\n",
      "\u001b[36m(launch_and_fit pid=15337)\u001b[0m classifier.0.bias 1.6689300537109375e-06\n",
      "\u001b[36m(launch_and_fit pid=15337)\u001b[0m classifier.2.weight 1.430511474609375e-06\n",
      "\u001b[36m(launch_and_fit pid=15337)\u001b[0m classifier.2.bias 1.430511474609375e-06\n",
      "\u001b[36m(launch_and_fit pid=15337)\u001b[0m classifier.3.weights 1.430511474609375e-06\n",
      "\u001b[36m(launch_and_fit pid=15337)\u001b[0m classifier.4.weight 1.9073486328125e-06\n",
      "\u001b[36m(launch_and_fit pid=15337)\u001b[0m classifier.4.bias 1.6689300537109375e-06\n",
      "\u001b[36m(launch_and_fit pid=15420)\u001b[0m Run with homomorphic encryption\n",
      "\u001b[36m(launch_and_fit pid=15339)\u001b[0m save graph in  results/FL/\n",
      "\u001b[36m(launch_and_fit pid=15339)\u001b[0m \tTrain Epoch: 10 \tTrain_loss: 0.0005 | Train_acc: 100.0000 % | Validation_loss: 1.9090 | Validation_acc: 57.1429 %\n",
      "\u001b[36m(launch_and_fit pid=15339)\u001b[0m classifier.4.bias 1.1920928955078125e-06\u001b[32m [repeated 11x across cluster]\u001b[0m\n",
      "\u001b[36m(launch_and_fit pid=15420)\u001b[0m [Client 1, round 19] fit, config: {'learning_rate': 0.003, 'batch_size': '32', 'server_round': 19, 'local_epochs': 10}\n"
     ]
    },
    {
     "name": "stderr",
     "output_type": "stream",
     "text": [
      "  0%|\u001b[34m          \u001b[0m| 0/10 [00:00<?, ?it/s]\n",
      "100%|\u001b[34m██████████\u001b[0m| 10/10 [00:19<00:00,  1.92s/it]\u001b[32m [repeated 4x across cluster]\u001b[0m\n"
     ]
    },
    {
     "name": "stdout",
     "output_type": "stream",
     "text": [
      "\u001b[36m(launch_and_fit pid=15420)\u001b[0m Updated model\n",
      "\u001b[36m(launch_and_fit pid=15420)\u001b[0m \tTrain Epoch: 1 \tTrain_loss: 0.0384 | Train_acc: 98.2639 % | Validation_loss: 1.9734 | Validation_acc: 57.1429 %\n",
      "\u001b[36m(launch_and_fit pid=15444)\u001b[0m Run with homomorphic encryption\n",
      "\u001b[36m(launch_and_fit pid=15444)\u001b[0m [Client 2, round 19] fit, config: {'learning_rate': 0.003, 'batch_size': '32', 'server_round': 19, 'local_epochs': 10}\n",
      "\u001b[36m(launch_and_fit pid=15444)\u001b[0m Updated model\n"
     ]
    },
    {
     "name": "stderr",
     "output_type": "stream",
     "text": [
      "  0%|\u001b[34m          \u001b[0m| 0/10 [00:00<?, ?it/s]\n",
      " 20%|\u001b[34m██        \u001b[0m| 2/10 [00:04<00:16,  2.06s/it]\u001b[32m [repeated 4x across cluster]\u001b[0m\n"
     ]
    },
    {
     "name": "stdout",
     "output_type": "stream",
     "text": [
      "\u001b[36m(launch_and_fit pid=15420)\u001b[0m \tTrain Epoch: 4 \tTrain_loss: 0.0021 | Train_acc: 100.0000 % | Validation_loss: 1.9337 | Validation_acc: 60.7143 %\u001b[32m [repeated 6x across cluster]\u001b[0m\n"
     ]
    },
    {
     "name": "stderr",
     "output_type": "stream",
     "text": [
      " 50%|\u001b[34m█████     \u001b[0m| 5/10 [00:09<00:09,  1.88s/it]\u001b[32m [repeated 6x across cluster]\u001b[0m\n"
     ]
    },
    {
     "name": "stdout",
     "output_type": "stream",
     "text": [
      "\u001b[36m(launch_and_fit pid=15420)\u001b[0m \tTrain Epoch: 7 \tTrain_loss: 0.0002 | Train_acc: 100.0000 % | Validation_loss: 1.8413 | Validation_acc: 60.7143 %\u001b[32m [repeated 6x across cluster]\u001b[0m\n"
     ]
    },
    {
     "name": "stderr",
     "output_type": "stream",
     "text": [
      " 80%|\u001b[34m████████  \u001b[0m| 8/10 [00:15<00:03,  1.88s/it]\u001b[32m [repeated 6x across cluster]\u001b[0m\n"
     ]
    },
    {
     "name": "stdout",
     "output_type": "stream",
     "text": [
      "\u001b[36m(launch_and_fit pid=15420)\u001b[0m save graph in  results/FL/\n",
      "\u001b[36m(launch_and_fit pid=15420)\u001b[0m \tTrain Epoch: 10 \tTrain_loss: 0.0001 | Train_acc: 100.0000 % | Validation_loss: 1.9172 | Validation_acc: 60.7143 %\u001b[32m [repeated 6x across cluster]\u001b[0m\n",
      "\u001b[36m(launch_and_fit pid=15420)\u001b[0m features.0.weight 5.9604644775390625e-06\n",
      "\u001b[36m(launch_and_fit pid=15420)\u001b[0m features.0.bias 1.430511474609375e-06\n",
      "\u001b[36m(launch_and_fit pid=15420)\u001b[0m features.3.weight 1.430511474609375e-06\n",
      "\u001b[36m(launch_and_fit pid=15420)\u001b[0m features.3.bias 1.430511474609375e-06\n",
      "\u001b[36m(launch_and_fit pid=15420)\u001b[0m classifier.0.weight 1.430511474609375e-06\n",
      "\u001b[36m(launch_and_fit pid=15420)\u001b[0m classifier.0.bias 1.1920928955078125e-06\n",
      "\u001b[36m(launch_and_fit pid=15420)\u001b[0m classifier.2.weight 1.1920928955078125e-06\n",
      "\u001b[36m(launch_and_fit pid=15420)\u001b[0m classifier.2.bias 1.1920928955078125e-06\n",
      "\u001b[36m(launch_and_fit pid=15420)\u001b[0m classifier.3.weights 1.430511474609375e-06\n",
      "\u001b[36m(launch_and_fit pid=15420)\u001b[0m classifier.4.weight 1.1920928955078125e-06\n",
      "\u001b[36m(launch_and_fit pid=15420)\u001b[0m classifier.4.bias 1.1920928955078125e-06\n",
      "\u001b[36m(launch_and_fit pid=15502)\u001b[0m Run with homomorphic encryption\n",
      "\u001b[36m(launch_and_fit pid=15444)\u001b[0m save graph in  results/FL/\n",
      "\u001b[36m(launch_and_fit pid=15444)\u001b[0m \tTrain Epoch: 10 \tTrain_loss: 0.0073 | Train_acc: 99.6528 % | Validation_loss: 1.0408 | Validation_acc: 71.4286 %\n",
      "\u001b[36m(launch_and_fit pid=15444)\u001b[0m classifier.4.bias 1.1920928955078125e-06\u001b[32m [repeated 11x across cluster]\u001b[0m\n",
      "\u001b[36m(launch_and_fit pid=15502)\u001b[0m [Client 7, round 19] fit, config: {'learning_rate': 0.003, 'batch_size': '32', 'server_round': 19, 'local_epochs': 10}\n",
      "\u001b[36m(launch_and_fit pid=15502)\u001b[0m Updated model\n"
     ]
    },
    {
     "name": "stderr",
     "output_type": "stream",
     "text": [
      "  0%|\u001b[34m          \u001b[0m| 0/10 [00:00<?, ?it/s]\n",
      "100%|\u001b[34m██████████\u001b[0m| 10/10 [00:19<00:00,  1.90s/it]\u001b[32m [repeated 4x across cluster]\u001b[0m\n"
     ]
    },
    {
     "name": "stdout",
     "output_type": "stream",
     "text": [
      "\u001b[36m(launch_and_fit pid=15502)\u001b[0m \tTrain Epoch: 1 \tTrain_loss: 0.0830 | Train_acc: 96.8750 % | Validation_loss: 0.9983 | Validation_acc: 64.2857 %\n",
      "\u001b[36m(launch_and_fit pid=15527)\u001b[0m Run with homomorphic encryption\n",
      "\u001b[36m(launch_and_fit pid=15527)\u001b[0m [Client 6, round 19] fit, config: {'learning_rate': 0.003, 'batch_size': '32', 'server_round': 19, 'local_epochs': 10}\n",
      "\u001b[36m(launch_and_fit pid=15527)\u001b[0m Updated model\n"
     ]
    },
    {
     "name": "stderr",
     "output_type": "stream",
     "text": [
      "  0%|\u001b[34m          \u001b[0m| 0/10 [00:00<?, ?it/s]\n",
      " 30%|\u001b[34m███       \u001b[0m| 3/10 [00:05<00:13,  1.93s/it]\u001b[32m [repeated 5x across cluster]\u001b[0m\n"
     ]
    },
    {
     "name": "stdout",
     "output_type": "stream",
     "text": [
      "\u001b[36m(launch_and_fit pid=15502)\u001b[0m \tTrain Epoch: 4 \tTrain_loss: 0.0251 | Train_acc: 99.6528 % | Validation_loss: 1.7615 | Validation_acc: 71.4286 %\u001b[32m [repeated 6x across cluster]\u001b[0m\n"
     ]
    },
    {
     "name": "stderr",
     "output_type": "stream",
     "text": [
      " 60%|\u001b[34m██████    \u001b[0m| 6/10 [00:11<00:07,  1.94s/it]\u001b[32m [repeated 6x across cluster]\u001b[0m\n"
     ]
    },
    {
     "name": "stdout",
     "output_type": "stream",
     "text": [
      "\u001b[36m(launch_and_fit pid=15502)\u001b[0m \tTrain Epoch: 7 \tTrain_loss: 0.0011 | Train_acc: 100.0000 % | Validation_loss: 1.3828 | Validation_acc: 75.0000 %\u001b[32m [repeated 6x across cluster]\u001b[0m\n"
     ]
    },
    {
     "name": "stderr",
     "output_type": "stream",
     "text": [
      " 90%|\u001b[34m█████████ \u001b[0m| 9/10 [00:17<00:01,  1.86s/it]\u001b[32m [repeated 6x across cluster]\u001b[0m\n"
     ]
    },
    {
     "name": "stdout",
     "output_type": "stream",
     "text": [
      "\u001b[36m(launch_and_fit pid=15502)\u001b[0m save graph in  results/FL/\n",
      "\u001b[36m(launch_and_fit pid=15502)\u001b[0m \tTrain Epoch: 10 \tTrain_loss: 0.0003 | Train_acc: 100.0000 % | Validation_loss: 1.8758 | Validation_acc: 71.4286 %\u001b[32m [repeated 6x across cluster]\u001b[0m\n",
      "\u001b[36m(launch_and_fit pid=15502)\u001b[0m features.0.weight 5.7220458984375e-06\n",
      "\u001b[36m(launch_and_fit pid=15502)\u001b[0m features.0.bias 1.6689300537109375e-06\n",
      "\u001b[36m(launch_and_fit pid=15502)\u001b[0m features.3.weight 1.430511474609375e-06\n",
      "\u001b[36m(launch_and_fit pid=15502)\u001b[0m features.3.bias 1.430511474609375e-06\n",
      "\u001b[36m(launch_and_fit pid=15502)\u001b[0m classifier.0.weight 1.1920928955078125e-06\n",
      "\u001b[36m(launch_and_fit pid=15502)\u001b[0m classifier.0.bias 1.1920928955078125e-06\n",
      "\u001b[36m(launch_and_fit pid=15502)\u001b[0m classifier.2.weight 1.1920928955078125e-06\n",
      "\u001b[36m(launch_and_fit pid=15502)\u001b[0m classifier.2.bias 9.5367431640625e-07\n",
      "\u001b[36m(launch_and_fit pid=15502)\u001b[0m classifier.3.weights 1.430511474609375e-06\n",
      "\u001b[36m(launch_and_fit pid=15502)\u001b[0m classifier.4.weight 1.1920928955078125e-06\n",
      "\u001b[36m(launch_and_fit pid=15502)\u001b[0m classifier.4.bias 1.430511474609375e-06\n"
     ]
    },
    {
     "name": "stderr",
     "output_type": "stream",
     "text": [
      "DEBUG flwr 2024-07-24 05:37:47,909 | server.py:236 | fit_round 19 received 10 results and 0 failures\n"
     ]
    },
    {
     "name": "stdout",
     "output_type": "stream",
     "text": [
      "Saving round 19 aggregated_parameters...\n"
     ]
    },
    {
     "name": "stderr",
     "output_type": "stream",
     "text": [
      "DEBUG flwr 2024-07-24 05:37:49,934 | server.py:173 | evaluate_round 19: strategy sampled 10 clients (out of 10)\n"
     ]
    },
    {
     "name": "stdout",
     "output_type": "stream",
     "text": [
      "\u001b[36m(launch_and_evaluate pid=15593)\u001b[0m Run with homomorphic encryption\n",
      "\u001b[36m(launch_and_fit pid=15527)\u001b[0m save graph in  results/FL/\n",
      "\u001b[36m(launch_and_fit pid=15527)\u001b[0m \tTrain Epoch: 10 \tTrain_loss: 0.0052 | Train_acc: 99.6528 % | Validation_loss: 0.6029 | Validation_acc: 82.1429 %\n",
      "\u001b[36m(launch_and_fit pid=15527)\u001b[0m classifier.4.bias 1.430511474609375e-06\u001b[32m [repeated 11x across cluster]\u001b[0m\n",
      "\u001b[36m(launch_and_evaluate pid=15593)\u001b[0m [Client 5] evaluate, config: {}\n",
      "\u001b[36m(launch_and_evaluate pid=15593)\u001b[0m Updated model\n",
      "\u001b[36m(launch_and_evaluate pid=15671)\u001b[0m Run with homomorphic encryption\u001b[32m [repeated 2x across cluster]\u001b[0m\n",
      "\u001b[36m(launch_and_evaluate pid=15594)\u001b[0m [Client 9] evaluate, config: {}\n",
      "\u001b[36m(launch_and_evaluate pid=15594)\u001b[0m Updated model\n",
      "\u001b[36m(launch_and_evaluate pid=15671)\u001b[0m [Client 7] evaluate, config: {}\n",
      "\u001b[36m(launch_and_evaluate pid=15671)\u001b[0m Updated model\n",
      "\u001b[36m(launch_and_evaluate pid=15749)\u001b[0m Run with homomorphic encryption\u001b[32m [repeated 2x across cluster]\u001b[0m\n",
      "\u001b[36m(launch_and_evaluate pid=15673)\u001b[0m [Client 6] evaluate, config: {}\n",
      "\u001b[36m(launch_and_evaluate pid=15673)\u001b[0m Updated model\n",
      "\u001b[36m(launch_and_evaluate pid=15749)\u001b[0m [Client 8] evaluate, config: {}\n",
      "\u001b[36m(launch_and_evaluate pid=15749)\u001b[0m Updated model\n",
      "\u001b[36m(launch_and_evaluate pid=15828)\u001b[0m Run with homomorphic encryption\u001b[32m [repeated 2x across cluster]\u001b[0m\n",
      "\u001b[36m(launch_and_evaluate pid=15751)\u001b[0m [Client 3] evaluate, config: {}\n",
      "\u001b[36m(launch_and_evaluate pid=15751)\u001b[0m Updated model\n",
      "\u001b[36m(launch_and_evaluate pid=15828)\u001b[0m [Client 1] evaluate, config: {}\n",
      "\u001b[36m(launch_and_evaluate pid=15828)\u001b[0m Updated model\n",
      "\u001b[36m(launch_and_evaluate pid=15906)\u001b[0m Run with homomorphic encryption\u001b[32m [repeated 2x across cluster]\u001b[0m\n",
      "\u001b[36m(launch_and_evaluate pid=15830)\u001b[0m [Client 0] evaluate, config: {}\n",
      "\u001b[36m(launch_and_evaluate pid=15830)\u001b[0m Updated model\n",
      "\u001b[36m(launch_and_evaluate pid=15906)\u001b[0m [Client 2] evaluate, config: {}\n",
      "\u001b[36m(launch_and_evaluate pid=15906)\u001b[0m Updated model\n"
     ]
    },
    {
     "name": "stderr",
     "output_type": "stream",
     "text": [
      "DEBUG flwr 2024-07-24 05:39:09,623 | server.py:187 | evaluate_round 19 received 10 results and 0 failures\n",
      "DEBUG flwr 2024-07-24 05:39:09,625 | server.py:222 | fit_round 20: strategy sampled 10 clients (out of 10)\n"
     ]
    },
    {
     "name": "stdout",
     "output_type": "stream",
     "text": [
      "\u001b[36m(launch_and_fit pid=15993)\u001b[0m Run with homomorphic encryption\u001b[32m [repeated 2x across cluster]\u001b[0m\n",
      "\u001b[36m(launch_and_evaluate pid=15931)\u001b[0m [Client 4] evaluate, config: {}\n",
      "\u001b[36m(launch_and_evaluate pid=15931)\u001b[0m Updated model\n",
      "\u001b[36m(launch_and_fit pid=15993)\u001b[0m [Client 0, round 20] fit, config: {'learning_rate': 0.003, 'batch_size': '32', 'server_round': 20, 'local_epochs': 10}\n",
      "\u001b[36m(launch_and_fit pid=15993)\u001b[0m Updated model\n"
     ]
    },
    {
     "name": "stderr",
     "output_type": "stream",
     "text": [
      "  0%|\u001b[34m          \u001b[0m| 0/10 [00:00<?, ?it/s]\n",
      "100%|\u001b[34m██████████\u001b[0m| 10/10 [00:19<00:00,  1.90s/it]\u001b[32m [repeated 3x across cluster]\u001b[0m\n"
     ]
    },
    {
     "name": "stdout",
     "output_type": "stream",
     "text": [
      "\u001b[36m(launch_and_fit pid=15993)\u001b[0m \tTrain Epoch: 1 \tTrain_loss: 0.1156 | Train_acc: 95.8333 % | Validation_loss: 1.4555 | Validation_acc: 64.2857 %\n",
      "\u001b[36m(launch_and_fit pid=15994)\u001b[0m Run with homomorphic encryption\n",
      "\u001b[36m(launch_and_fit pid=15994)\u001b[0m [Client 1, round 20] fit, config: {'learning_rate': 0.003, 'batch_size': '32', 'server_round': 20, 'local_epochs': 10}\n",
      "\u001b[36m(launch_and_fit pid=15994)\u001b[0m Updated model\n"
     ]
    },
    {
     "name": "stderr",
     "output_type": "stream",
     "text": [
      "  0%|\u001b[34m          \u001b[0m| 0/10 [00:00<?, ?it/s]\n",
      " 30%|\u001b[34m███       \u001b[0m| 3/10 [00:05<00:13,  1.89s/it]\u001b[32m [repeated 5x across cluster]\u001b[0m\n"
     ]
    },
    {
     "name": "stdout",
     "output_type": "stream",
     "text": [
      "\u001b[36m(launch_and_fit pid=15993)\u001b[0m \tTrain Epoch: 4 \tTrain_loss: 0.0068 | Train_acc: 99.6528 % | Validation_loss: 1.4744 | Validation_acc: 64.2857 %\u001b[32m [repeated 6x across cluster]\u001b[0m\n"
     ]
    },
    {
     "name": "stderr",
     "output_type": "stream",
     "text": [
      " 60%|\u001b[34m██████    \u001b[0m| 6/10 [00:11<00:07,  1.80s/it]\u001b[32m [repeated 6x across cluster]\u001b[0m\n"
     ]
    },
    {
     "name": "stdout",
     "output_type": "stream",
     "text": [
      "\u001b[36m(launch_and_fit pid=15993)\u001b[0m \tTrain Epoch: 7 \tTrain_loss: 0.0002 | Train_acc: 100.0000 % | Validation_loss: 1.6820 | Validation_acc: 67.8571 %\u001b[32m [repeated 6x across cluster]\u001b[0m\n"
     ]
    },
    {
     "name": "stderr",
     "output_type": "stream",
     "text": [
      " 90%|\u001b[34m█████████ \u001b[0m| 9/10 [00:16<00:01,  1.78s/it]\u001b[32m [repeated 6x across cluster]\u001b[0m\n"
     ]
    },
    {
     "name": "stdout",
     "output_type": "stream",
     "text": [
      "\u001b[36m(launch_and_fit pid=15993)\u001b[0m save graph in  results/FL/\n",
      "\u001b[36m(launch_and_fit pid=15993)\u001b[0m \tTrain Epoch: 10 \tTrain_loss: 0.0002 | Train_acc: 100.0000 % | Validation_loss: 1.7844 | Validation_acc: 67.8571 %\u001b[32m [repeated 6x across cluster]\u001b[0m\n",
      "\u001b[36m(launch_and_fit pid=15993)\u001b[0m features.0.weight 4.76837158203125e-06\n",
      "\u001b[36m(launch_and_fit pid=15993)\u001b[0m features.0.bias 1.430511474609375e-06\n",
      "\u001b[36m(launch_and_fit pid=15993)\u001b[0m features.3.weight 1.1920928955078125e-06\n",
      "\u001b[36m(launch_and_fit pid=15993)\u001b[0m features.3.bias 1.1920928955078125e-06\n",
      "\u001b[36m(launch_and_fit pid=15993)\u001b[0m classifier.0.weight 1.430511474609375e-06\n",
      "\u001b[36m(launch_and_fit pid=15993)\u001b[0m classifier.0.bias 1.1920928955078125e-06\n",
      "\u001b[36m(launch_and_fit pid=15993)\u001b[0m classifier.2.weight 1.430511474609375e-06\n",
      "\u001b[36m(launch_and_fit pid=15993)\u001b[0m classifier.2.bias 1.1920928955078125e-06\n",
      "\u001b[36m(launch_and_fit pid=15993)\u001b[0m classifier.3.weights 1.430511474609375e-06\n",
      "\u001b[36m(launch_and_fit pid=15993)\u001b[0m classifier.4.weight 1.1920928955078125e-06\n",
      "\u001b[36m(launch_and_fit pid=15993)\u001b[0m classifier.4.bias 1.430511474609375e-06\n",
      "\u001b[36m(launch_and_fit pid=16075)\u001b[0m Run with homomorphic encryption\n",
      "\u001b[36m(launch_and_fit pid=15994)\u001b[0m save graph in  results/FL/\n",
      "\u001b[36m(launch_and_fit pid=15994)\u001b[0m \tTrain Epoch: 10 \tTrain_loss: 0.0009 | Train_acc: 100.0000 % | Validation_loss: 1.2400 | Validation_acc: 67.8571 %\n",
      "\u001b[36m(launch_and_fit pid=15994)\u001b[0m classifier.4.bias 1.6689300537109375e-06\u001b[32m [repeated 11x across cluster]\u001b[0m\n",
      "\u001b[36m(launch_and_fit pid=16075)\u001b[0m [Client 8, round 20] fit, config: {'learning_rate': 0.003, 'batch_size': '32', 'server_round': 20, 'local_epochs': 10}\n",
      "\u001b[36m(launch_and_fit pid=16075)\u001b[0m Updated model\n"
     ]
    },
    {
     "name": "stderr",
     "output_type": "stream",
     "text": [
      "  0%|\u001b[34m          \u001b[0m| 0/10 [00:00<?, ?it/s]\n",
      "100%|\u001b[34m██████████\u001b[0m| 10/10 [00:18<00:00,  1.84s/it]\u001b[32m [repeated 3x across cluster]\u001b[0m\n"
     ]
    },
    {
     "name": "stdout",
     "output_type": "stream",
     "text": [
      "\u001b[36m(launch_and_fit pid=16075)\u001b[0m \tTrain Epoch: 1 \tTrain_loss: 0.1790 | Train_acc: 94.5602 % | Validation_loss: 0.8462 | Validation_acc: 71.4286 %\n",
      "\u001b[36m(launch_and_fit pid=16077)\u001b[0m Run with homomorphic encryption\n",
      "\u001b[36m(launch_and_fit pid=16077)\u001b[0m [Client 9, round 20] fit, config: {'learning_rate': 0.003, 'batch_size': '32', 'server_round': 20, 'local_epochs': 10}\n",
      "\u001b[36m(launch_and_fit pid=16077)\u001b[0m Updated model\n"
     ]
    },
    {
     "name": "stderr",
     "output_type": "stream",
     "text": [
      "  0%|\u001b[34m          \u001b[0m| 0/10 [00:00<?, ?it/s]\n",
      " 30%|\u001b[34m███       \u001b[0m| 3/10 [00:05<00:12,  1.86s/it]\u001b[32m [repeated 5x across cluster]\u001b[0m\n"
     ]
    },
    {
     "name": "stdout",
     "output_type": "stream",
     "text": [
      "\u001b[36m(launch_and_fit pid=16075)\u001b[0m \tTrain Epoch: 4 \tTrain_loss: 0.0004 | Train_acc: 100.0000 % | Validation_loss: 1.5021 | Validation_acc: 78.5714 %\u001b[32m [repeated 6x across cluster]\u001b[0m\n"
     ]
    },
    {
     "name": "stderr",
     "output_type": "stream",
     "text": [
      " 60%|\u001b[34m██████    \u001b[0m| 6/10 [00:11<00:07,  1.81s/it]\u001b[32m [repeated 6x across cluster]\u001b[0m\n"
     ]
    },
    {
     "name": "stdout",
     "output_type": "stream",
     "text": [
      "\u001b[36m(launch_and_fit pid=16075)\u001b[0m \tTrain Epoch: 7 \tTrain_loss: 0.0002 | Train_acc: 100.0000 % | Validation_loss: 1.4987 | Validation_acc: 78.5714 %\u001b[32m [repeated 6x across cluster]\u001b[0m\n"
     ]
    },
    {
     "name": "stderr",
     "output_type": "stream",
     "text": [
      " 90%|\u001b[34m█████████ \u001b[0m| 9/10 [00:16<00:01,  1.82s/it]\u001b[32m [repeated 6x across cluster]\u001b[0m\n"
     ]
    },
    {
     "name": "stdout",
     "output_type": "stream",
     "text": [
      "\u001b[36m(launch_and_fit pid=16075)\u001b[0m save graph in  results/FL/\n",
      "\u001b[36m(launch_and_fit pid=16075)\u001b[0m \tTrain Epoch: 10 \tTrain_loss: 0.0002 | Train_acc: 100.0000 % | Validation_loss: 1.5300 | Validation_acc: 78.5714 %\u001b[32m [repeated 6x across cluster]\u001b[0m\n",
      "\u001b[36m(launch_and_fit pid=16075)\u001b[0m features.0.weight 6.4373016357421875e-06\n",
      "\u001b[36m(launch_and_fit pid=16075)\u001b[0m features.0.bias 1.1920928955078125e-06\n",
      "\u001b[36m(launch_and_fit pid=16075)\u001b[0m features.3.weight 1.1920928955078125e-06\n",
      "\u001b[36m(launch_and_fit pid=16075)\u001b[0m features.3.bias 1.430511474609375e-06\n",
      "\u001b[36m(launch_and_fit pid=16075)\u001b[0m classifier.0.weight 1.1920928955078125e-06\n",
      "\u001b[36m(launch_and_fit pid=16075)\u001b[0m classifier.0.bias 1.1920928955078125e-06\n",
      "\u001b[36m(launch_and_fit pid=16075)\u001b[0m classifier.2.weight 1.430511474609375e-06\n",
      "\u001b[36m(launch_and_fit pid=16075)\u001b[0m classifier.2.bias 1.1920928955078125e-06\n",
      "\u001b[36m(launch_and_fit pid=16075)\u001b[0m classifier.3.weights 1.1920928955078125e-06\n",
      "\u001b[36m(launch_and_fit pid=16075)\u001b[0m classifier.4.weight 1.430511474609375e-06\n",
      "\u001b[36m(launch_and_fit pid=16075)\u001b[0m classifier.4.bias 9.5367431640625e-07\n",
      "\u001b[36m(launch_and_fit pid=16157)\u001b[0m Run with homomorphic encryption\n",
      "\u001b[36m(launch_and_fit pid=16077)\u001b[0m save graph in  results/FL/\n",
      "\u001b[36m(launch_and_fit pid=16077)\u001b[0m \tTrain Epoch: 10 \tTrain_loss: 0.0012 | Train_acc: 100.0000 % | Validation_loss: 1.3119 | Validation_acc: 79.3103 %\n",
      "\u001b[36m(launch_and_fit pid=16077)\u001b[0m classifier.4.bias 2.1457672119140625e-06\u001b[32m [repeated 11x across cluster]\u001b[0m\n",
      "\u001b[36m(launch_and_fit pid=16157)\u001b[0m [Client 7, round 20] fit, config: {'learning_rate': 0.003, 'batch_size': '32', 'server_round': 20, 'local_epochs': 10}\n",
      "\u001b[36m(launch_and_fit pid=16157)\u001b[0m Updated model\n"
     ]
    },
    {
     "name": "stderr",
     "output_type": "stream",
     "text": [
      "  0%|\u001b[34m          \u001b[0m| 0/10 [00:00<?, ?it/s]\n",
      "100%|\u001b[34m██████████\u001b[0m| 10/10 [00:18<00:00,  1.89s/it]\u001b[32m [repeated 3x across cluster]\u001b[0m\n"
     ]
    },
    {
     "name": "stdout",
     "output_type": "stream",
     "text": [
      "\u001b[36m(launch_and_fit pid=16157)\u001b[0m \tTrain Epoch: 1 \tTrain_loss: 0.1100 | Train_acc: 96.1806 % | Validation_loss: 0.9876 | Validation_acc: 64.2857 %\n",
      "\u001b[36m(launch_and_fit pid=16182)\u001b[0m Run with homomorphic encryption\n",
      "\u001b[36m(launch_and_fit pid=16182)\u001b[0m [Client 5, round 20] fit, config: {'learning_rate': 0.003, 'batch_size': '32', 'server_round': 20, 'local_epochs': 10}\n",
      "\u001b[36m(launch_and_fit pid=16182)\u001b[0m Updated model\n"
     ]
    },
    {
     "name": "stderr",
     "output_type": "stream",
     "text": [
      "  0%|\u001b[34m          \u001b[0m| 0/10 [00:00<?, ?it/s]\n",
      " 30%|\u001b[34m███       \u001b[0m| 3/10 [00:05<00:13,  1.91s/it]\u001b[32m [repeated 5x across cluster]\u001b[0m\n"
     ]
    },
    {
     "name": "stdout",
     "output_type": "stream",
     "text": [
      "\u001b[36m(launch_and_fit pid=16157)\u001b[0m \tTrain Epoch: 4 \tTrain_loss: 0.0020 | Train_acc: 100.0000 % | Validation_loss: 1.5618 | Validation_acc: 71.4286 %\u001b[32m [repeated 6x across cluster]\u001b[0m\n"
     ]
    },
    {
     "name": "stderr",
     "output_type": "stream",
     "text": [
      " 60%|\u001b[34m██████    \u001b[0m| 6/10 [00:11<00:07,  1.80s/it]\u001b[32m [repeated 6x across cluster]\u001b[0m\n"
     ]
    },
    {
     "name": "stdout",
     "output_type": "stream",
     "text": [
      "\u001b[36m(launch_and_fit pid=16157)\u001b[0m \tTrain Epoch: 7 \tTrain_loss: 0.0003 | Train_acc: 100.0000 % | Validation_loss: 1.5119 | Validation_acc: 71.4286 %\u001b[32m [repeated 6x across cluster]\u001b[0m\n"
     ]
    },
    {
     "name": "stderr",
     "output_type": "stream",
     "text": [
      " 90%|\u001b[34m█████████ \u001b[0m| 9/10 [00:16<00:01,  1.77s/it]\u001b[32m [repeated 6x across cluster]\u001b[0m\n"
     ]
    },
    {
     "name": "stdout",
     "output_type": "stream",
     "text": [
      "\u001b[36m(launch_and_fit pid=16157)\u001b[0m save graph in  results/FL/\n",
      "\u001b[36m(launch_and_fit pid=16157)\u001b[0m \tTrain Epoch: 10 \tTrain_loss: 0.0001 | Train_acc: 100.0000 % | Validation_loss: 1.5921 | Validation_acc: 71.4286 %\u001b[32m [repeated 6x across cluster]\u001b[0m\n",
      "\u001b[36m(launch_and_fit pid=16157)\u001b[0m features.0.weight 5.0067901611328125e-06\n",
      "\u001b[36m(launch_and_fit pid=16157)\u001b[0m features.0.bias 1.1920928955078125e-06\n",
      "\u001b[36m(launch_and_fit pid=16157)\u001b[0m features.3.weight 1.430511474609375e-06\n",
      "\u001b[36m(launch_and_fit pid=16157)\u001b[0m features.3.bias 9.5367431640625e-07\n",
      "\u001b[36m(launch_and_fit pid=16157)\u001b[0m classifier.0.weight 1.1920928955078125e-06\n",
      "\u001b[36m(launch_and_fit pid=16157)\u001b[0m classifier.0.bias 1.1920928955078125e-06\n",
      "\u001b[36m(launch_and_fit pid=16157)\u001b[0m classifier.2.weight 1.1920928955078125e-06\n",
      "\u001b[36m(launch_and_fit pid=16157)\u001b[0m classifier.2.bias 1.1920928955078125e-06\n",
      "\u001b[36m(launch_and_fit pid=16157)\u001b[0m classifier.3.weights 9.5367431640625e-07\n",
      "\u001b[36m(launch_and_fit pid=16157)\u001b[0m classifier.4.weight 1.6689300537109375e-06\n",
      "\u001b[36m(launch_and_fit pid=16157)\u001b[0m classifier.4.bias 1.6689300537109375e-06\n",
      "\u001b[36m(launch_and_fit pid=16239)\u001b[0m Run with homomorphic encryption\n",
      "\u001b[36m(launch_and_fit pid=16182)\u001b[0m save graph in  results/FL/\n",
      "\u001b[36m(launch_and_fit pid=16182)\u001b[0m \tTrain Epoch: 10 \tTrain_loss: 0.0002 | Train_acc: 100.0000 % | Validation_loss: 2.3471 | Validation_acc: 57.1429 %\n",
      "\u001b[36m(launch_and_fit pid=16182)\u001b[0m classifier.4.bias 1.430511474609375e-06\u001b[32m [repeated 11x across cluster]\u001b[0m\n",
      "\u001b[36m(launch_and_fit pid=16239)\u001b[0m [Client 2, round 20] fit, config: {'learning_rate': 0.003, 'batch_size': '32', 'server_round': 20, 'local_epochs': 10}\n"
     ]
    },
    {
     "name": "stderr",
     "output_type": "stream",
     "text": [
      "  0%|\u001b[34m          \u001b[0m| 0/10 [00:00<?, ?it/s]\n",
      "100%|\u001b[34m██████████\u001b[0m| 10/10 [00:18<00:00,  1.81s/it]\u001b[32m [repeated 3x across cluster]\u001b[0m\n"
     ]
    },
    {
     "name": "stdout",
     "output_type": "stream",
     "text": [
      "\u001b[36m(launch_and_fit pid=16239)\u001b[0m Updated model\n",
      "\u001b[36m(launch_and_fit pid=16239)\u001b[0m \tTrain Epoch: 1 \tTrain_loss: 0.0667 | Train_acc: 97.5694 % | Validation_loss: 1.4900 | Validation_acc: 75.0000 %\n",
      "\u001b[36m(launch_and_fit pid=16241)\u001b[0m Run with homomorphic encryption\n",
      "\u001b[36m(launch_and_fit pid=16241)\u001b[0m [Client 3, round 20] fit, config: {'learning_rate': 0.003, 'batch_size': '32', 'server_round': 20, 'local_epochs': 10}\n"
     ]
    },
    {
     "name": "stderr",
     "output_type": "stream",
     "text": [
      "  0%|\u001b[34m          \u001b[0m| 0/10 [00:00<?, ?it/s]\n",
      " 30%|\u001b[34m███       \u001b[0m| 3/10 [00:05<00:12,  1.86s/it]\u001b[32m [repeated 5x across cluster]\u001b[0m\n"
     ]
    },
    {
     "name": "stdout",
     "output_type": "stream",
     "text": [
      "\u001b[36m(launch_and_fit pid=16241)\u001b[0m Updated model\n",
      "\u001b[36m(launch_and_fit pid=16239)\u001b[0m \tTrain Epoch: 4 \tTrain_loss: 0.0120 | Train_acc: 99.3056 % | Validation_loss: 1.1183 | Validation_acc: 71.4286 %\u001b[32m [repeated 6x across cluster]\u001b[0m\n"
     ]
    },
    {
     "name": "stderr",
     "output_type": "stream",
     "text": [
      " 60%|\u001b[34m██████    \u001b[0m| 6/10 [00:11<00:07,  1.78s/it]\u001b[32m [repeated 6x across cluster]\u001b[0m\n"
     ]
    },
    {
     "name": "stdout",
     "output_type": "stream",
     "text": [
      "\u001b[36m(launch_and_fit pid=16239)\u001b[0m \tTrain Epoch: 7 \tTrain_loss: 0.0067 | Train_acc: 99.3056 % | Validation_loss: 1.1812 | Validation_acc: 78.5714 %\u001b[32m [repeated 6x across cluster]\u001b[0m\n"
     ]
    },
    {
     "name": "stderr",
     "output_type": "stream",
     "text": [
      " 90%|\u001b[34m█████████ \u001b[0m| 9/10 [00:16<00:01,  1.82s/it]\u001b[32m [repeated 6x across cluster]\u001b[0m\n"
     ]
    },
    {
     "name": "stdout",
     "output_type": "stream",
     "text": [
      "\u001b[36m(launch_and_fit pid=16239)\u001b[0m save graph in  results/FL/\n",
      "\u001b[36m(launch_and_fit pid=16239)\u001b[0m \tTrain Epoch: 10 \tTrain_loss: 0.0055 | Train_acc: 99.3056 % | Validation_loss: 1.3138 | Validation_acc: 78.5714 %\u001b[32m [repeated 6x across cluster]\u001b[0m\n",
      "\u001b[36m(launch_and_fit pid=16239)\u001b[0m features.0.weight 4.76837158203125e-06\n",
      "\u001b[36m(launch_and_fit pid=16239)\u001b[0m features.0.bias 1.6689300537109375e-06\n",
      "\u001b[36m(launch_and_fit pid=16239)\u001b[0m features.3.weight 9.5367431640625e-07\n",
      "\u001b[36m(launch_and_fit pid=16239)\u001b[0m features.3.bias 9.5367431640625e-07\n",
      "\u001b[36m(launch_and_fit pid=16239)\u001b[0m classifier.0.weight 1.1920928955078125e-06\n",
      "\u001b[36m(launch_and_fit pid=16239)\u001b[0m classifier.0.bias 9.5367431640625e-07\n",
      "\u001b[36m(launch_and_fit pid=16239)\u001b[0m classifier.2.weight 1.430511474609375e-06\n",
      "\u001b[36m(launch_and_fit pid=16239)\u001b[0m classifier.2.bias 9.5367431640625e-07\n",
      "\u001b[36m(launch_and_fit pid=16239)\u001b[0m classifier.3.weights 1.1920928955078125e-06\n",
      "\u001b[36m(launch_and_fit pid=16239)\u001b[0m classifier.4.weight 1.430511474609375e-06\n",
      "\u001b[36m(launch_and_fit pid=16239)\u001b[0m classifier.4.bias 1.1920928955078125e-06\n",
      "\u001b[36m(launch_and_fit pid=16321)\u001b[0m Run with homomorphic encryption\n",
      "\u001b[36m(launch_and_fit pid=16241)\u001b[0m save graph in  results/FL/\n",
      "\u001b[36m(launch_and_fit pid=16241)\u001b[0m \tTrain Epoch: 10 \tTrain_loss: 0.0001 | Train_acc: 100.0000 % | Validation_loss: 1.7246 | Validation_acc: 60.7143 %\n",
      "\u001b[36m(launch_and_fit pid=16241)\u001b[0m classifier.4.bias 1.1920928955078125e-06\u001b[32m [repeated 11x across cluster]\u001b[0m\n",
      "\u001b[36m(launch_and_fit pid=16321)\u001b[0m [Client 4, round 20] fit, config: {'learning_rate': 0.003, 'batch_size': '32', 'server_round': 20, 'local_epochs': 10}\n"
     ]
    },
    {
     "name": "stderr",
     "output_type": "stream",
     "text": [
      "  0%|\u001b[34m          \u001b[0m| 0/10 [00:00<?, ?it/s]\n",
      "100%|\u001b[34m██████████\u001b[0m| 10/10 [00:18<00:00,  1.88s/it]\u001b[32m [repeated 3x across cluster]\u001b[0m\n"
     ]
    },
    {
     "name": "stdout",
     "output_type": "stream",
     "text": [
      "\u001b[36m(launch_and_fit pid=16321)\u001b[0m Updated model\n",
      "\u001b[36m(launch_and_fit pid=16321)\u001b[0m \tTrain Epoch: 1 \tTrain_loss: 0.0736 | Train_acc: 97.9167 % | Validation_loss: 1.5613 | Validation_acc: 60.7143 %\n",
      "\u001b[36m(launch_and_fit pid=16346)\u001b[0m Run with homomorphic encryption\n",
      "\u001b[36m(launch_and_fit pid=16346)\u001b[0m [Client 6, round 20] fit, config: {'learning_rate': 0.003, 'batch_size': '32', 'server_round': 20, 'local_epochs': 10}\n"
     ]
    },
    {
     "name": "stderr",
     "output_type": "stream",
     "text": [
      "  0%|\u001b[34m          \u001b[0m| 0/10 [00:00<?, ?it/s]\n",
      " 30%|\u001b[34m███       \u001b[0m| 3/10 [00:05<00:13,  1.88s/it]\u001b[32m [repeated 5x across cluster]\u001b[0m\n"
     ]
    },
    {
     "name": "stdout",
     "output_type": "stream",
     "text": [
      "\u001b[36m(launch_and_fit pid=16346)\u001b[0m Updated model\n",
      "\u001b[36m(launch_and_fit pid=16321)\u001b[0m \tTrain Epoch: 4 \tTrain_loss: 0.0109 | Train_acc: 99.6528 % | Validation_loss: 1.0688 | Validation_acc: 67.8571 %\u001b[32m [repeated 6x across cluster]\u001b[0m\n"
     ]
    },
    {
     "name": "stderr",
     "output_type": "stream",
     "text": [
      " 60%|\u001b[34m██████    \u001b[0m| 6/10 [00:11<00:07,  1.82s/it]\u001b[32m [repeated 6x across cluster]\u001b[0m\n"
     ]
    },
    {
     "name": "stdout",
     "output_type": "stream",
     "text": [
      "\u001b[36m(launch_and_fit pid=16321)\u001b[0m \tTrain Epoch: 7 \tTrain_loss: 0.0003 | Train_acc: 100.0000 % | Validation_loss: 1.6107 | Validation_acc: 67.8571 %\u001b[32m [repeated 6x across cluster]\u001b[0m\n"
     ]
    },
    {
     "name": "stderr",
     "output_type": "stream",
     "text": [
      " 90%|\u001b[34m█████████ \u001b[0m| 9/10 [00:16<00:01,  1.85s/it]\u001b[32m [repeated 6x across cluster]\u001b[0m\n"
     ]
    },
    {
     "name": "stdout",
     "output_type": "stream",
     "text": [
      "\u001b[36m(launch_and_fit pid=16321)\u001b[0m save graph in  results/FL/\n",
      "\u001b[36m(launch_and_fit pid=16321)\u001b[0m \tTrain Epoch: 10 \tTrain_loss: 0.0006 | Train_acc: 100.0000 % | Validation_loss: 1.6362 | Validation_acc: 67.8571 %\u001b[32m [repeated 6x across cluster]\u001b[0m\n",
      "\u001b[36m(launch_and_fit pid=16321)\u001b[0m features.0.weight 5.9604644775390625e-06\n",
      "\u001b[36m(launch_and_fit pid=16321)\u001b[0m features.0.bias 2.384185791015625e-06\n",
      "\u001b[36m(launch_and_fit pid=16321)\u001b[0m features.3.weight 1.430511474609375e-06\n",
      "\u001b[36m(launch_and_fit pid=16321)\u001b[0m features.3.bias 1.1920928955078125e-06\n",
      "\u001b[36m(launch_and_fit pid=16321)\u001b[0m classifier.0.weight 1.1920928955078125e-06\n",
      "\u001b[36m(launch_and_fit pid=16321)\u001b[0m classifier.0.bias 1.1920928955078125e-06\n",
      "\u001b[36m(launch_and_fit pid=16321)\u001b[0m classifier.2.weight 1.1920928955078125e-06\n",
      "\u001b[36m(launch_and_fit pid=16321)\u001b[0m classifier.2.bias 1.430511474609375e-06\n",
      "\u001b[36m(launch_and_fit pid=16321)\u001b[0m classifier.3.weights 1.1920928955078125e-06\n",
      "\u001b[36m(launch_and_fit pid=16321)\u001b[0m classifier.4.weight 1.1920928955078125e-06\n",
      "\u001b[36m(launch_and_fit pid=16321)\u001b[0m classifier.4.bias 1.1920928955078125e-06\n"
     ]
    },
    {
     "name": "stderr",
     "output_type": "stream",
     "text": [
      "DEBUG flwr 2024-07-24 05:41:57,556 | server.py:236 | fit_round 20 received 10 results and 0 failures\n"
     ]
    },
    {
     "name": "stdout",
     "output_type": "stream",
     "text": [
      "Saving round 20 aggregated_parameters...\n"
     ]
    },
    {
     "name": "stderr",
     "output_type": "stream",
     "text": [
      "DEBUG flwr 2024-07-24 05:41:59,583 | server.py:173 | evaluate_round 20: strategy sampled 10 clients (out of 10)\n"
     ]
    },
    {
     "name": "stdout",
     "output_type": "stream",
     "text": [
      "\u001b[36m(launch_and_evaluate pid=16412)\u001b[0m Run with homomorphic encryption\n",
      "\u001b[36m(launch_and_fit pid=16346)\u001b[0m save graph in  results/FL/\n",
      "\u001b[36m(launch_and_fit pid=16346)\u001b[0m \tTrain Epoch: 10 \tTrain_loss: 0.0052 | Train_acc: 99.6528 % | Validation_loss: 0.6825 | Validation_acc: 85.7143 %\n",
      "\u001b[36m(launch_and_fit pid=16346)\u001b[0m classifier.4.bias 9.5367431640625e-07\u001b[32m [repeated 11x across cluster]\u001b[0m\n",
      "\u001b[36m(launch_and_evaluate pid=16412)\u001b[0m [Client 3] evaluate, config: {}\n",
      "\u001b[36m(launch_and_evaluate pid=16413)\u001b[0m Updated model\n",
      "\u001b[36m(launch_and_evaluate pid=16490)\u001b[0m Run with homomorphic encryption\u001b[32m [repeated 2x across cluster]\u001b[0m\n",
      "\u001b[36m(launch_and_evaluate pid=16413)\u001b[0m [Client 7] evaluate, config: {}\n",
      "\u001b[36m(launch_and_evaluate pid=16412)\u001b[0m Updated model\n",
      "\u001b[36m(launch_and_evaluate pid=16490)\u001b[0m [Client 0] evaluate, config: {}\n",
      "\u001b[36m(launch_and_evaluate pid=16490)\u001b[0m Updated model\n",
      "\u001b[36m(launch_and_evaluate pid=16568)\u001b[0m Run with homomorphic encryption\u001b[32m [repeated 2x across cluster]\u001b[0m\n",
      "\u001b[36m(launch_and_evaluate pid=16492)\u001b[0m [Client 2] evaluate, config: {}\n",
      "\u001b[36m(launch_and_evaluate pid=16492)\u001b[0m Updated model\n",
      "\u001b[36m(launch_and_evaluate pid=16568)\u001b[0m [Client 9] evaluate, config: {}\n",
      "\u001b[36m(launch_and_evaluate pid=16568)\u001b[0m Updated model\n",
      "\u001b[36m(launch_and_evaluate pid=16646)\u001b[0m Run with homomorphic encryption\u001b[32m [repeated 2x across cluster]\u001b[0m\n",
      "\u001b[36m(launch_and_evaluate pid=16570)\u001b[0m [Client 4] evaluate, config: {}\n",
      "\u001b[36m(launch_and_evaluate pid=16570)\u001b[0m Updated model\n",
      "\u001b[36m(launch_and_evaluate pid=16646)\u001b[0m [Client 6] evaluate, config: {}\n",
      "\u001b[36m(launch_and_evaluate pid=16646)\u001b[0m Updated model\n",
      "\u001b[36m(launch_and_evaluate pid=16726)\u001b[0m Run with homomorphic encryption\u001b[32m [repeated 2x across cluster]\u001b[0m\n",
      "\u001b[36m(launch_and_evaluate pid=16648)\u001b[0m [Client 5] evaluate, config: {}\n",
      "\u001b[36m(launch_and_evaluate pid=16648)\u001b[0m Updated model\n",
      "\u001b[36m(launch_and_evaluate pid=16726)\u001b[0m [Client 8] evaluate, config: {}\n",
      "\u001b[36m(launch_and_evaluate pid=16724)\u001b[0m Updated model\n"
     ]
    },
    {
     "name": "stderr",
     "output_type": "stream",
     "text": [
      "DEBUG flwr 2024-07-24 05:43:20,898 | server.py:187 | evaluate_round 20 received 10 results and 0 failures\n",
      "INFO flwr 2024-07-24 05:43:20,900 | server.py:153 | FL finished in 5228.284503534001\n",
      "INFO flwr 2024-07-24 05:43:20,944 | app.py:225 | app_fit: losses_distributed [(1, 0.75010946393013), (2, 0.6826132714748383), (3, 0.6408450305461884), (4, 0.6391132771968842), (5, 0.6532269775867462), (6, 0.5813766837120056), (7, 0.6655099034309387), (8, 0.7934143871068955), (9, 0.8839525878429413), (10, 0.9120015412569046), (11, 0.9659294337034225), (12, 0.9250698208808898), (13, 0.9495759069919586), (14, 1.0799603044986725), (15, 1.0515673816204072), (16, 1.009228527545929), (17, 1.090744137763977), (18, 1.1891956746578216), (19, 1.0945355534553527), (20, 1.306697964668274)]\n",
      "INFO flwr 2024-07-24 05:43:20,945 | app.py:226 | app_fit: metrics_distributed_fit {}\n",
      "INFO flwr 2024-07-24 05:43:20,946 | app.py:227 | app_fit: metrics_distributed {'accuracy': [(1, 40.59113300492611), (2, 57.266009852216754), (3, 67.95566502463053), (4, 67.95566502463053), (5, 67.95566502463053), (6, 67.95566502463053), (7, 70.08620689655173), (8, 68.30049261083745), (9, 67.24137931034483), (10, 69.00246305418719), (11, 67.21674876847291), (12, 67.94334975369458), (13, 67.94334975369458), (14, 69.7167487684729), (15, 68.30049261083744), (16, 68.99014778325123), (17, 69.35960591133005), (18, 68.99014778325122), (19, 70.0615763546798), (20, 67.57389162561576)]}\n",
      "INFO flwr 2024-07-24 05:43:20,947 | app.py:228 | app_fit: losses_centralized []\n",
      "INFO flwr 2024-07-24 05:43:20,948 | app.py:229 | app_fit: metrics_centralized {}\n"
     ]
    },
    {
     "name": "stdout",
     "output_type": "stream",
     "text": [
      "Simulation Time = 5234.403892755508 seconds\n"
     ]
    }
   ],
   "source": [
    "import warnings\n",
    "warnings.simplefilter(\"ignore\")\n",
    "\n",
    "print(\"flwr\", fl.__version__)\n",
    "print(\"numpy\", np.__version__)\n",
    "print(\"torch\", torch.__version__)\n",
    "print(\"torchvision\", torchvision.__version__)\n",
    "print(f\"Training on {DEVICE}\")\n",
    "\n",
    "client_resources = None\n",
    "\n",
    "if DEVICE.type == \"cuda\":\n",
    "    client_resources = {\"num_gpus\": 1}\n",
    "\n",
    "model_save = model_save\n",
    "path_yaml = yaml_path\n",
    "path_roc = roc_path\n",
    "results_save = save_results\n",
    "path_matrix = matrix_path\n",
    "batch_size = batch_size\n",
    "he = he\n",
    "secret_path = 'secret.pkl'\n",
    "server_path = 'secret.pkl'\n",
    "path_crypted = 'server.pkl'\n",
    "\n",
    "print(\"Start simulation\")\n",
    "start_simulation = time.time()\n",
    "fl.simulation.start_simulation(\n",
    "    client_fn=client_fn,\n",
    "    num_clients=number_clients,\n",
    "    config=fl.server.ServerConfig(num_rounds=rounds),\n",
    "    strategy=strategy,\n",
    "    client_resources=client_resources\n",
    ")\n",
    "print(f\"Simulation Time = {time.time() - start_simulation} seconds\")"
   ]
  }
 ],
 "metadata": {
  "kernelspec": {
   "display_name": "fl_env",
   "language": "python",
   "name": "python3"
  },
  "language_info": {
   "codemirror_mode": {
    "name": "ipython",
    "version": 3
   },
   "file_extension": ".py",
   "mimetype": "text/x-python",
   "name": "python",
   "nbconvert_exporter": "python",
   "pygments_lexer": "ipython3",
   "version": "3.10.12"
  }
 },
 "nbformat": 4,
 "nbformat_minor": 2
}
