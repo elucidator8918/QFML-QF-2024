{
 "cells": [
  {
   "cell_type": "markdown",
   "metadata": {},
   "source": [
    "### Import necessary libraries and modules"
   ]
  },
  {
   "cell_type": "code",
   "execution_count": 1,
   "metadata": {},
   "outputs": [],
   "source": [
    "import os\n",
    "import pickle\n",
    "import time\n",
    "from collections import OrderedDict\n",
    "from typing import (\n",
    "    List, Tuple, Dict, Optional, Callable, Union\n",
    ")\n",
    "import tenseal as ts\n",
    "\n",
    "import numpy as np\n",
    "import torchvision\n",
    "import torch\n",
    "from torch import nn\n",
    "import torch.nn.functional as F\n",
    "import flwr as fl\n",
    "from flwr.common import (\n",
    "    Metrics, EvaluateIns, EvaluateRes, FitIns, FitRes, MetricsAggregationFn, \n",
    "    Scalar, logger, ndarrays_to_parameters_custom, parameters_to_ndarrays_custom,\n",
    "    Parameters, NDArrays\n",
    ")\n",
    "from flwr.server.client_proxy import ClientProxy\n",
    "from flwr.server.client_manager import ClientManager\n",
    "from flwr.server.strategy.aggregate import weighted_loss_avg\n",
    "from logging import WARNING\n",
    "import pennylane as qml\n",
    "\n",
    "from utils import *"
   ]
  },
  {
   "cell_type": "markdown",
   "metadata": {},
   "source": [
    "### Creation of FHE Keys"
   ]
  },
  {
   "cell_type": "code",
   "execution_count": 2,
   "metadata": {},
   "outputs": [
    {
     "name": "stdout",
     "output_type": "stream",
     "text": [
      "it exists\n"
     ]
    }
   ],
   "source": [
    "def combo_keys(client_path=\"secret.pkl\", server_path=\"server_key.pkl\"):\n",
    "    \"\"\"\n",
    "    To create the public/private keys combination\n",
    "    args:\n",
    "        client_path: path to save the secret key (str)\n",
    "        server_path: path to save the server public key (str)\n",
    "    \"\"\"\n",
    "    context_client = security.context()\n",
    "    security.write_query(client_path, {\"contexte\": context_client.serialize(save_secret_key=True)})\n",
    "    security.write_query(server_path, {\"contexte\": context_client.serialize()})\n",
    "\n",
    "    _, context_client = security.read_query(client_path)\n",
    "    _, context_server = security.read_query(server_path)\n",
    "\n",
    "    context_client = ts.context_from(context_client)\n",
    "    context_server = ts.context_from(context_server)\n",
    "    print(\"Is the client context private?\", (\"Yes\" if context_client.is_private() else \"No\"))\n",
    "    print(\"Is the server context private?\", (\"Yes\" if context_server.is_private() else \"No\"))\n",
    "\n",
    "\n",
    "secret_path = \"secret.pkl\"\n",
    "public_path = \"server_key.pkl\"\n",
    "if os.path.exists(secret_path):\n",
    "    print(\"it exists\")\n",
    "    _, context_client = security.read_query(secret_path)\n",
    "\n",
    "else:\n",
    "    combo_keys(client_path=secret_path, server_path=public_path)\n",
    "\n",
    "n_qubits = 6\n",
    "n_layers = 6\n",
    "weight_shapes = {\"weights\": (n_layers, n_qubits)}"
   ]
  },
  {
   "cell_type": "markdown",
   "metadata": {},
   "source": [
    "### Creation of Model Architecture"
   ]
  },
  {
   "cell_type": "code",
   "execution_count": 3,
   "metadata": {},
   "outputs": [],
   "source": [
    "dev = qml.device(\"default.qubit.torch\", wires=n_qubits)\n",
    "    \n",
    "@qml.qnode(dev, interface='torch')\n",
    "def quantum_net(inputs, weights):\n",
    "    qml.AngleEmbedding(inputs, wires=range(n_qubits)) \n",
    "    qml.BasicEntanglerLayers(weights,wires=range(n_qubits))\n",
    "    return [qml.expval(qml.PauliZ(i)) for i in range(n_qubits)]\n",
    "\n",
    "class Net(nn.Module):\n",
    "    \"\"\"\n",
    "    A simple CNN model\n",
    "\n",
    "    Args:\n",
    "        num_classes: An integer indicating the number of classes in the dataset.\n",
    "    \"\"\"\n",
    "    def __init__(self, num_classes=10) -> None:\n",
    "        super(Net, self).__init__()\n",
    "        self.network = nn.Sequential(\n",
    "            nn.Conv2d(3, 32, kernel_size=3, padding=1),\n",
    "            nn.ReLU(),\n",
    "            nn.Conv2d(32, 64, kernel_size=3, stride=1, padding=1),\n",
    "            nn.ReLU(),\n",
    "            nn.MaxPool2d(2, 2), # output: 64 x 16 x 16\n",
    "\n",
    "            nn.Conv2d(64, 128, kernel_size=3, stride=1, padding=1),\n",
    "            nn.ReLU(),\n",
    "            nn.Conv2d(128, 128, kernel_size=3, stride=1, padding=1),\n",
    "            nn.ReLU(),\n",
    "            nn.MaxPool2d(2, 2), # output: 128 x 8 x 8\n",
    "\n",
    "            nn.Conv2d(128, 256, kernel_size=3, stride=1, padding=1),\n",
    "            nn.ReLU(),\n",
    "            nn.Conv2d(256, 256, kernel_size=3, stride=1, padding=1),\n",
    "            nn.ReLU(),\n",
    "            nn.MaxPool2d(2, 2), # output: 256 x 4 x 4\n",
    "\n",
    "            nn.Flatten(), \n",
    "            nn.Linear(256*4*4, 1024),\n",
    "            nn.ReLU(),\n",
    "            nn.Linear(1024, 512),\n",
    "            nn.ReLU(),\n",
    "            nn.Linear(512, n_qubits))        \n",
    "        self.qnn = qml.qnn.TorchLayer(quantum_net, weight_shapes)\n",
    "        self.fc4 = nn.Linear(n_qubits, num_classes)        \n",
    "\n",
    "    def forward(self, x: torch.Tensor) -> torch.Tensor:\n",
    "        \"\"\"\n",
    "        Forward pass of the neural network\n",
    "        \"\"\"\n",
    "        x = self.network(x)\n",
    "        x = self.qnn(x)\n",
    "        x = self.fc4(x)\n",
    "        return x"
   ]
  },
  {
   "cell_type": "markdown",
   "metadata": {},
   "source": [
    "### Define the FlowerClient class for federated learning"
   ]
  },
  {
   "cell_type": "code",
   "execution_count": 4,
   "metadata": {},
   "outputs": [],
   "source": [
    "class FlowerClient(fl.client.NumPyClient):\n",
    "    def __init__(self, cid, net, trainloader, valloader, device, batch_size, save_results, matrix_path, roc_path,\n",
    "                 yaml_path, he, classes, context_client):\n",
    "        self.net = net\n",
    "        self.trainloader = trainloader\n",
    "        self.valloader = valloader\n",
    "        self.cid = cid\n",
    "        self.device = device\n",
    "        self.batch_size = batch_size\n",
    "        self.save_results = save_results\n",
    "        self.matrix_path = matrix_path\n",
    "        self.roc_path = roc_path\n",
    "        self.yaml_path = yaml_path\n",
    "        self.he = he\n",
    "        self.classes = classes\n",
    "        self.context_client = context_client\n",
    "\n",
    "    def get_parameters(self, config):\n",
    "        print(f\"[Client {self.cid}] get_parameters\")\n",
    "        return get_parameters2(self.net, self.context_client)\n",
    "\n",
    "    def fit(self, parameters, config):\n",
    "        server_round = config['server_round']\n",
    "        local_epochs = config['local_epochs']\n",
    "        lr = float(config[\"learning_rate\"])\n",
    "\n",
    "        print(f'[Client {self.cid}, round {server_round}] fit, config: {config}')\n",
    "\n",
    "        set_parameters(self.net, parameters, self.context_client)\n",
    "\n",
    "        criterion = torch.nn.CrossEntropyLoss()\n",
    "        optimizer = torch.optim.Adam(self.net.parameters(), lr=lr)\n",
    "\n",
    "        results = engine.train(self.net, self.trainloader, self.valloader, optimizer=optimizer, loss_fn=criterion,\n",
    "                               epochs=local_epochs, device=self.device)\n",
    "\n",
    "        if self.save_results:\n",
    "            save_graphs(self.save_results, local_epochs, results, f\"_Client {self.cid}\")\n",
    "\n",
    "        return get_parameters2(self.net, self.context_client), len(self.trainloader), {}\n",
    "\n",
    "    def evaluate(self, parameters, config):\n",
    "        print(f\"[Client {self.cid}] evaluate, config: {config}\")\n",
    "        set_parameters(self.net, parameters, self.context_client)\n",
    "\n",
    "        loss, accuracy, y_pred, y_true, y_proba = engine.test(self.net, self.valloader,\n",
    "                                                              loss_fn=torch.nn.CrossEntropyLoss(), device=self.device)\n",
    "\n",
    "        if self.save_results:\n",
    "            os.makedirs(self.save_results, exist_ok=True)\n",
    "            if self.matrix_path:\n",
    "                save_matrix(y_true, y_pred, self.save_results + self.matrix_path, self.classes)\n",
    "            if self.roc_path:\n",
    "                save_roc(y_true, y_proba, self.save_results + self.roc_path, len(self.classes))\n",
    "\n",
    "        return float(loss), len(self.valloader), {\"accuracy\": float(accuracy)}"
   ]
  },
  {
   "cell_type": "markdown",
   "metadata": {},
   "source": [
    "### Define the client_common function to set up the Flower client"
   ]
  },
  {
   "cell_type": "code",
   "execution_count": 5,
   "metadata": {},
   "outputs": [],
   "source": [
    "def client_common(cid, model_save, path_yaml, path_roc, results_save, path_matrix,\n",
    "                  batch_size, trainloaders, valloaders, DEVICE, CLASSES,\n",
    "                  he=False, secret_path=\"\", server_path=\"\"):\n",
    "    trainloader = trainloaders[int(cid)]\n",
    "    valloader = valloaders[int(cid)]\n",
    "\n",
    "    context_client = None\n",
    "    net = Net(num_classes=len(CLASSES)).to(DEVICE)\n",
    "\n",
    "    if he:\n",
    "        print(\"Run with homomorphic encryption\")\n",
    "        if os.path.exists(secret_path):\n",
    "            with open(secret_path, 'rb') as f:\n",
    "                query = pickle.load(f)\n",
    "            context_client = ts.context_from(query[\"contexte\"])\n",
    "        else:\n",
    "            context_client = security.context()\n",
    "            with open(secret_path, 'wb') as f:\n",
    "                encode = pickle.dumps({\"contexte\": context_client.serialize(save_secret_key=True)})\n",
    "                f.write(encode)\n",
    "        secret_key = context_client.secret_key()\n",
    "    else:\n",
    "        print(\"Run WITHOUT homomorphic encryption\")\n",
    "\n",
    "    if os.path.exists(model_save):\n",
    "        print(\" To get the checkpoint\")\n",
    "        checkpoint = torch.load(model_save, map_location=DEVICE)['model_state_dict']\n",
    "        if he:\n",
    "            print(\"to decrypt model\")\n",
    "            server_query, server_context = security.read_query(server_path)\n",
    "            server_context = ts.context_from(server_context)\n",
    "            for name in checkpoint:\n",
    "                print(name)\n",
    "                checkpoint[name] = torch.tensor(\n",
    "                    security.deserialized_layer(name, server_query[name], server_context).decrypt(secret_key)\n",
    "                )\n",
    "        net.load_state_dict(checkpoint)\n",
    "\n",
    "    return FlowerClient(cid, net, trainloader, valloader, device=DEVICE, batch_size=batch_size,\n",
    "                        matrix_path=path_matrix, roc_path=path_roc, save_results=results_save, yaml_path=path_yaml,\n",
    "                        he=he, context_client=context_client, classes=CLASSES)"
   ]
  },
  {
   "cell_type": "markdown",
   "metadata": {},
   "source": [
    "### Define utility functions for federated learning"
   ]
  },
  {
   "cell_type": "code",
   "execution_count": 6,
   "metadata": {},
   "outputs": [],
   "source": [
    "def weighted_average(metrics: List[Tuple[int, Metrics]]) -> Metrics:\n",
    "    accuracies = [num_examples * m[\"accuracy\"] for num_examples, m in metrics]\n",
    "    examples = [num_examples for num_examples, _ in metrics]\n",
    "    return {\"accuracy\": sum(accuracies) / sum(examples)}\n",
    "\n",
    "def evaluate2(server_round: int, parameters: NDArrays,\n",
    "              config: Dict[str, Scalar]) -> Optional[Tuple[float, Dict[str, Scalar]]]:\n",
    "    set_parameters(central, parameters)\n",
    "    loss, accuracy, y_pred, y_true, y_proba = engine.test(central, testloader, loss_fn=torch.nn.CrossEntropyLoss(),\n",
    "                                                          device=DEVICE)\n",
    "    print(f\"Server-side evaluation loss {loss} / accuracy {accuracy}\")\n",
    "    return loss, {\"accuracy\": accuracy}\n",
    "\n",
    "def get_on_fit_config_fn(epoch=2, lr=0.001, batch_size=32) -> Callable[[int], Dict[str, str]]:\n",
    "    def fit_config(server_round: int) -> Dict[str, str]:\n",
    "        config = {\n",
    "            \"learning_rate\": str(lr),\n",
    "            \"batch_size\": str(batch_size),\n",
    "            \"server_round\": server_round,\n",
    "            \"local_epochs\": epoch\n",
    "        }\n",
    "        return config\n",
    "    return fit_config\n",
    "\n",
    "def aggreg_fit_checkpoint(server_round, aggregated_parameters, central_model, path_checkpoint,\n",
    "                          context_client=None, server_path=\"\"):\n",
    "    if aggregated_parameters is not None:\n",
    "        print(f\"Saving round {server_round} aggregated_parameters...\")\n",
    "        aggregated_ndarrays: List[np.ndarray] = parameters_to_ndarrays_custom(aggregated_parameters, context_client)\n",
    "        if context_client:   \n",
    "            server_response = {\"contexte\": server_context.serialize()}\n",
    "            for i, key in enumerate(central_model.state_dict().keys()):\n",
    "                try:\n",
    "                    server_response[key] = aggregated_ndarrays[i].serialize()\n",
    "                except:\n",
    "                    server_response[key] = aggregated_ndarrays[i]\n",
    "            security.write_query(server_path, server_response)\n",
    "        else:\n",
    "            params_dict = zip(central_model.state_dict().keys(), aggregated_ndarrays)\n",
    "            state_dict = OrderedDict({k: torch.tensor(v) for k, v in params_dict})\n",
    "            central_model.load_state_dict(state_dict, strict=True)\n",
    "            if path_checkpoint:\n",
    "                torch.save({\n",
    "                    'model_state_dict': central_model.state_dict(),\n",
    "                }, path_checkpoint)"
   ]
  },
  {
   "cell_type": "markdown",
   "metadata": {},
   "source": [
    "### Define the FedCustom strategy class"
   ]
  },
  {
   "cell_type": "code",
   "execution_count": 7,
   "metadata": {},
   "outputs": [],
   "source": [
    "# A Strategy from scratch with the same sampling of the clients as it is in FedAvg\n",
    "# and then change the configuration dictionary\n",
    "class FedCustom(fl.server.strategy.Strategy):\n",
    "    def __init__(\n",
    "            self,\n",
    "            fraction_fit: float = 1.0,\n",
    "            fraction_evaluate: float = 1.0,\n",
    "            min_fit_clients: int = 2,\n",
    "            min_evaluate_clients: int = 2,\n",
    "            min_available_clients: int = 2,\n",
    "            evaluate_fn: Optional[\n",
    "                    Callable[[int, NDArrays, Dict[str, Scalar]], Optional[Tuple[float, Dict[str, Scalar]]]]\n",
    "                ] = None,\n",
    "            on_fit_config_fn: Optional[Callable[[int], Dict[str, Scalar]]] = None,\n",
    "            on_evaluate_config_fn: Optional[Callable[[int], Dict[str, Scalar]]] = None,\n",
    "            accept_failures: bool = True,\n",
    "            initial_parameters: Optional[Parameters] = None,\n",
    "            fit_metrics_aggregation_fn: Optional[MetricsAggregationFn] = None,\n",
    "            evaluate_metrics_aggregation_fn: Optional[MetricsAggregationFn] = None,\n",
    "            context_client=None\n",
    "    ) -> None:\n",
    "        super().__init__()\n",
    "        self.fraction_fit = fraction_fit\n",
    "        self.fraction_evaluate = fraction_evaluate\n",
    "        self.min_fit_clients = min_fit_clients\n",
    "        self.min_evaluate_clients = min_evaluate_clients\n",
    "        self.min_available_clients = min_available_clients\n",
    "        self.evaluate_fn = evaluate_fn\n",
    "        self.on_fit_config_fn = on_fit_config_fn\n",
    "        self.on_evaluate_config_fn = on_evaluate_config_fn,\n",
    "        self.accept_failures = accept_failures\n",
    "        self.initial_parameters = initial_parameters\n",
    "        self.fit_metrics_aggregation_fn = fit_metrics_aggregation_fn\n",
    "        self.evaluate_metrics_aggregation_fn = evaluate_metrics_aggregation_fn\n",
    "        self.context_client = context_client\n",
    "\n",
    "    def __repr__(self) -> str:\n",
    "        # Same function as FedAvg(Strategy)\n",
    "        return f\"FedCustom (accept_failures={self.accept_failures})\"\n",
    "\n",
    "    def initialize_parameters(\n",
    "        self, client_manager: ClientManager\n",
    "    ) -> Optional[Parameters]:\n",
    "        \"\"\"Initialize global model parameters.\"\"\"\n",
    "        # Same function as FedAvg(Strategy)\n",
    "        initial_parameters = self.initial_parameters\n",
    "        self.initial_parameters = None  # Don't keep initial parameters in memory\n",
    "        return initial_parameters\n",
    "\n",
    "    def num_fit_clients(self, num_available_clients: int) -> Tuple[int, int]:\n",
    "        \"\"\"Return sample size and required number of clients.\"\"\"\n",
    "        # Same function as FedAvg(Strategy)\n",
    "        num_clients = int(num_available_clients * self.fraction_fit)\n",
    "        return max(num_clients, self.min_fit_clients), self.min_available_clients\n",
    "\n",
    "    def configure_fit(\n",
    "        self, server_round: int, parameters: Parameters, client_manager: ClientManager\n",
    "    ) -> List[Tuple[ClientProxy, FitIns]]:\n",
    "        \"\"\"Configure the next round of training.\"\"\"\n",
    "        # Sample clients\n",
    "        sample_size, min_num_clients = self.num_fit_clients(\n",
    "            client_manager.num_available()\n",
    "        )\n",
    "\n",
    "        clients = client_manager.sample(\n",
    "            num_clients=sample_size, min_num_clients=min_num_clients\n",
    "        )\n",
    "        # Create custom configs\n",
    "        n_clients = len(clients)\n",
    "        half_clients = n_clients // 2\n",
    "        # Custom fit config function provided\n",
    "        standard_lr = lr\n",
    "        higher_lr = 0.003\n",
    "        config = {\"server_round\": server_round, \"local_epochs\": 1}\n",
    "        if self.on_fit_config_fn is not None:\n",
    "            # Custom fit config function provided\n",
    "            config = self.on_fit_config_fn(server_round)\n",
    "\n",
    "        # fit_ins = FitIns(parameters, config)\n",
    "        # Return client/config pairs\n",
    "        fit_configurations = []\n",
    "        for idx, client in enumerate(clients):\n",
    "            config[\"learning_rate\"] = standard_lr if idx < half_clients else higher_lr\n",
    "            \"\"\"\n",
    "            Each pair of (ClientProxy, FitRes) constitutes \n",
    "            a successful update from one of the previously selected clients.\n",
    "            \"\"\"\n",
    "            fit_configurations.append(\n",
    "                (\n",
    "                    client,\n",
    "                    FitIns(\n",
    "                        parameters,\n",
    "                        config\n",
    "                    )\n",
    "                )\n",
    "            )\n",
    "        # Successful updates from the previously selected and configured clients\n",
    "        return fit_configurations\n",
    "\n",
    "    def aggregate_fit(\n",
    "        self,\n",
    "        server_round: int,\n",
    "        results: List[Tuple[ClientProxy, FitRes]],\n",
    "        failures: List[Union[Tuple[ClientProxy, FitRes], BaseException]],\n",
    "    ) -> Tuple[Optional[Parameters], Dict[str, Scalar]]:\n",
    "        \"\"\"Aggregate fit results using weighted average. (each round)\"\"\"\n",
    "        # Same function as FedAvg(Strategy)\n",
    "        if not results:\n",
    "            return None, {}\n",
    "\n",
    "        # Do not aggregate if there are failures and failures are not accepted\n",
    "        if not self.accept_failures and failures:\n",
    "            return None, {}\n",
    "\n",
    "        # Convert results parameters --> array matrix\n",
    "        weights_results = [\n",
    "            (parameters_to_ndarrays_custom(fit_res.parameters, self.context_client), fit_res.num_examples)\n",
    "            for _, fit_res in results\n",
    "        ]\n",
    "\n",
    "        # Aggregate parameters using weighted average between the clients and convert back to parameters object (bytes)\n",
    "        parameters_aggregated = ndarrays_to_parameters_custom(aggregate_custom(weights_results))\n",
    "\n",
    "        metrics_aggregated = {}\n",
    "        # Aggregate custom metrics if aggregation fn was provided\n",
    "        if self.fit_metrics_aggregation_fn:\n",
    "            fit_metrics = [(res.num_examples, res.metrics) for _, res in results]\n",
    "            metrics_aggregated = self.fit_metrics_aggregation_fn(fit_metrics)\n",
    "\n",
    "        elif server_round == 1:  # Only log this warning once\n",
    "            logger.log(WARNING, \"No fit_metrics_aggregation_fn provided\")\n",
    "\n",
    "        # Same function as SaveModelStrategy(fl.server.strategy.FedAvg)\n",
    "        \"\"\"Aggregate model weights using weighted average and store checkpoint\"\"\"\n",
    "        aggreg_fit_checkpoint(server_round, parameters_aggregated, central, model_save,\n",
    "                              self.context_client, path_crypted)\n",
    "        return parameters_aggregated, metrics_aggregated\n",
    "\n",
    "    def num_evaluation_clients(self, num_available_clients: int) -> Tuple[int, int]:\n",
    "        \"\"\"Use a fraction of available clients for evaluation.\"\"\"\n",
    "        # Same function as FedAvg(Strategy)\n",
    "        num_clients = int(num_available_clients * self.fraction_evaluate)\n",
    "        return max(num_clients, self.min_evaluate_clients), self.min_available_clients\n",
    "\n",
    "    def configure_evaluate(\n",
    "        self, server_round: int, parameters: Parameters, client_manager: ClientManager\n",
    "    ) -> List[Tuple[ClientProxy, EvaluateIns]]:\n",
    "        \"\"\"Configure the next round of evaluation.\"\"\"\n",
    "        # Same function as FedAvg(Strategy)\n",
    "        # Do not configure federated evaluation if fraction eval is 0.\n",
    "        if self.fraction_evaluate == 0.0:\n",
    "            return []\n",
    "\n",
    "        # Parameters and config\n",
    "        config = {}  # {\"server_round\": server_round, \"local_epochs\": 1}\n",
    "\n",
    "        evaluate_ins = EvaluateIns(parameters, config)\n",
    "\n",
    "        # Sample clients\n",
    "        sample_size, min_num_clients = self.num_evaluation_clients(\n",
    "            client_manager.num_available()\n",
    "        )\n",
    "\n",
    "        clients = client_manager.sample(\n",
    "            num_clients=sample_size, min_num_clients=min_num_clients\n",
    "        )\n",
    "\n",
    "        # Return client/config pairs\n",
    "        # Each pair of (ClientProxy, FitRes) constitutes a successful update from one of the previously selected clients\n",
    "        return [(client, evaluate_ins) for client in clients]\n",
    "\n",
    "    def aggregate_evaluate(\n",
    "        self,\n",
    "        server_round: int,\n",
    "        results: List[Tuple[ClientProxy, EvaluateRes]],\n",
    "        failures: List[Union[Tuple[ClientProxy, EvaluateRes], BaseException]],\n",
    "    ) -> Tuple[Optional[float], Dict[str, Scalar]]:\n",
    "        \"\"\"Aggregate evaluation losses using weighted average.\"\"\"\n",
    "        # Same function as FedAvg(Strategy)\n",
    "        if not results:\n",
    "            return None, {}\n",
    "\n",
    "        # Do not aggregate if there are failures and failures are not accepted\n",
    "        if not self.accept_failures and failures:\n",
    "            return None, {}\n",
    "\n",
    "        # Aggregate loss\n",
    "        loss_aggregated = weighted_loss_avg(\n",
    "            [\n",
    "                (evaluate_res.num_examples, evaluate_res.loss)\n",
    "                for _, evaluate_res in results\n",
    "            ]\n",
    "        )\n",
    "\n",
    "        metrics_aggregated = {}\n",
    "        # Aggregate custom metrics if aggregation fn was provided\n",
    "        if self.evaluate_metrics_aggregation_fn:\n",
    "            eval_metrics = [(res.num_examples, res.metrics) for _, res in results]\n",
    "            metrics_aggregated = self.evaluate_metrics_aggregation_fn(eval_metrics)\n",
    "\n",
    "        # Only log this warning once\n",
    "        elif server_round == 1:\n",
    "            logger.log(WARNING, \"No evaluate_metrics_aggregation_fn provided\")\n",
    "\n",
    "        return loss_aggregated, metrics_aggregated\n",
    "\n",
    "    def evaluate(\n",
    "        self, server_round: int, parameters: Parameters\n",
    "    ) -> Optional[Tuple[float, Dict[str, Scalar]]]:\n",
    "        \"\"\"Evaluate global model parameters using an evaluation function.\"\"\"\n",
    "        # Same function as FedAvg(Strategy)\n",
    "        if self.evaluate_fn is None:\n",
    "            # Let's assume we won't perform the global model evaluation on the server side.\n",
    "            return None\n",
    "\n",
    "        # if we have a global model evaluation on the server side :\n",
    "        parameters_ndarrays = parameters_to_ndarrays_custom(parameters, self.context_client)\n",
    "        eval_res = self.evaluate_fn(server_round, parameters_ndarrays, {})\n",
    "\n",
    "        # if you haven't results\n",
    "        if eval_res is None:\n",
    "            return None\n",
    "\n",
    "        loss, metrics = eval_res\n",
    "        return loss, metrics"
   ]
  },
  {
   "cell_type": "markdown",
   "metadata": {},
   "source": [
    "### Set up the federated learning strategy"
   ]
  },
  {
   "cell_type": "code",
   "execution_count": 8,
   "metadata": {},
   "outputs": [],
   "source": [
    "# Set up your variables directly\n",
    "he = True\n",
    "data_path = 'data/'\n",
    "dataset = 'cifar'\n",
    "yaml_path = './results/FL/results.yml'\n",
    "seed = 0\n",
    "num_workers = 0\n",
    "max_epochs = 10\n",
    "batch_size = 128\n",
    "splitter = 10\n",
    "device = 'gpu'\n",
    "number_clients = 10\n",
    "save_results = 'results/FL/'\n",
    "matrix_path = 'confusion_matrix.png'\n",
    "roc_path = 'roc.png'\n",
    "model_save = 'cifar_FHE.pt'\n",
    "min_fit_clients = 10\n",
    "min_avail_clients = 10\n",
    "min_eval_clients = 10\n",
    "rounds = 20\n",
    "frac_fit = 1.0\n",
    "frac_eval = 0.5\n",
    "lr = 1e-3\n",
    "path_public_key = 'server_key.pkl'"
   ]
  },
  {
   "cell_type": "code",
   "execution_count": 9,
   "metadata": {},
   "outputs": [
    {
     "name": "stdout",
     "output_type": "stream",
     "text": [
      "get public key :  server_key.pkl\n"
     ]
    }
   ],
   "source": [
    "print(\"get public key : \", path_public_key)\n",
    "_, server_context = security.read_query(path_public_key)\n",
    "server_context = ts.context_from(server_context)\n",
    "DEVICE = torch.device(choice_device(device))\n",
    "CLASSES = classes_string(dataset)\n",
    "central = Net(num_classes=len(CLASSES)).to(DEVICE)"
   ]
  },
  {
   "cell_type": "code",
   "execution_count": 10,
   "metadata": {},
   "outputs": [],
   "source": [
    "strategy = FedCustom(\n",
    "    fraction_fit=frac_fit,\n",
    "    fraction_evaluate=frac_eval,\n",
    "    min_fit_clients=min_fit_clients,\n",
    "    min_evaluate_clients=min_eval_clients if min_eval_clients else number_clients // 2,\n",
    "    min_available_clients=min_avail_clients,\n",
    "    evaluate_metrics_aggregation_fn=weighted_average,\n",
    "    initial_parameters=ndarrays_to_parameters_custom(get_parameters2(central)),\n",
    "    evaluate_fn=None if he else evaluate2,\n",
    "    on_fit_config_fn=get_on_fit_config_fn(epoch=max_epochs, batch_size=batch_size),\n",
    "    context_client=server_context\n",
    ")"
   ]
  },
  {
   "cell_type": "code",
   "execution_count": 11,
   "metadata": {},
   "outputs": [
    {
     "name": "stdout",
     "output_type": "stream",
     "text": [
      "cifar\n",
      "Files already downloaded and verified\n",
      "Files already downloaded and verified\n",
      "The training set is created for the classes : ['airplane', 'automobile', 'bird', 'cat', 'deer', 'dog', 'frog', 'horse', 'ship', 'truck']\n"
     ]
    }
   ],
   "source": [
    "trainloaders, valloaders, testloader = data_setup.load_datasets(num_clients=number_clients,\n",
    "                                                                batch_size=batch_size,\n",
    "                                                                resize=True,\n",
    "                                                                seed=seed,\n",
    "                                                                num_workers=num_workers,\n",
    "                                                                splitter=splitter,\n",
    "                                                                dataset=dataset,  # Use the specified dataset\n",
    "                                                                data_path=data_path,\n",
    "                                                                data_path_val=None)  # Use the same path for validation data\n",
    "\n",
    "def client_fn(cid: str) -> FlowerClient:\n",
    "    return client_common(cid,\n",
    "                         model_save, path_yaml, path_roc, results_save, path_matrix,\n",
    "                         batch_size, trainloaders, valloaders, DEVICE, CLASSES, he, secret_path, server_path)"
   ]
  },
  {
   "cell_type": "markdown",
   "metadata": {},
   "source": [
    "### Define the client_fn function and set up the simulation"
   ]
  },
  {
   "cell_type": "code",
   "execution_count": null,
   "metadata": {},
   "outputs": [
    {
     "name": "stderr",
     "output_type": "stream",
     "text": [
      "INFO flwr 2024-07-20 18:23:26,398 | app.py:145 | Starting Flower simulation, config: ServerConfig(num_rounds=20, round_timeout=None)\n"
     ]
    },
    {
     "name": "stdout",
     "output_type": "stream",
     "text": [
      "flwr 1.5.0\n",
      "numpy 1.26.4\n",
      "torch 2.1.2\n",
      "torchvision 0.16.2\n",
      "Training on cuda:0\n",
      "Start simulation\n"
     ]
    },
    {
     "name": "stderr",
     "output_type": "stream",
     "text": [
      "2024-07-20 18:23:30,651\tINFO worker.py:1724 -- Started a local Ray instance.\n",
      "INFO flwr 2024-07-20 18:23:31,985 | app.py:179 | Flower VCE: Ray initialized with resources: {'memory': 17601048576.0, 'GPU': 2.0, 'object_store_memory': 8800524288.0, 'node:__internal_head__': 1.0, 'node:172.19.2.2': 1.0, 'accelerator_type:T4': 1.0, 'CPU': 4.0}\n",
      "INFO flwr 2024-07-20 18:23:31,987 | server.py:89 | Initializing global parameters\n",
      "INFO flwr 2024-07-20 18:23:31,988 | server.py:272 | Using initial parameters provided by strategy\n",
      "INFO flwr 2024-07-20 18:23:31,989 | server.py:91 | Evaluating initial parameters\n",
      "INFO flwr 2024-07-20 18:23:31,990 | server.py:104 | FL starting\n",
      "DEBUG flwr 2024-07-20 18:23:31,993 | server.py:222 | fit_round 1: strategy sampled 10 clients (out of 10)\n"
     ]
    },
    {
     "name": "stdout",
     "output_type": "stream",
     "text": [
      "\u001b[36m(launch_and_fit pid=401)\u001b[0m Run with homomorphic encryption\n",
      "\u001b[36m(launch_and_fit pid=401)\u001b[0m [Client 7, round 1] fit, config: {'learning_rate': 0.001, 'batch_size': '128', 'server_round': 1, 'local_epochs': 10}\n"
     ]
    },
    {
     "name": "stderr",
     "output_type": "stream",
     "text": [
      "  0%|\u001b[34m          \u001b[0m| 0/10 [00:00<?, ?it/s]\n"
     ]
    },
    {
     "name": "stdout",
     "output_type": "stream",
     "text": [
      "\u001b[36m(launch_and_fit pid=401)\u001b[0m Updated model\n"
     ]
    },
    {
     "name": "stderr",
     "output_type": "stream",
     "text": [
      " 10%|\u001b[34m█         \u001b[0m| 1/10 [00:06<01:02,  6.96s/it]\n",
      "  0%|\u001b[34m          \u001b[0m| 0/10 [00:00<?, ?it/s]\n"
     ]
    },
    {
     "name": "stdout",
     "output_type": "stream",
     "text": [
      "\u001b[36m(launch_and_fit pid=401)\u001b[0m \tTrain Epoch: 1 \tTrain_loss: 2.3394 | Train_acc: 9.1016 % | Validation_loss: 2.3236 | Validation_acc: 8.7554 %\n",
      "\u001b[36m(launch_and_fit pid=426)\u001b[0m Run with homomorphic encryption\n",
      "\u001b[36m(launch_and_fit pid=426)\u001b[0m [Client 0, round 1] fit, config: {'learning_rate': 0.001, 'batch_size': '128', 'server_round': 1, 'local_epochs': 10}\n",
      "\u001b[36m(launch_and_fit pid=426)\u001b[0m Updated model\n"
     ]
    },
    {
     "name": "stderr",
     "output_type": "stream",
     "text": [
      " 20%|\u001b[34m██        \u001b[0m| 2/10 [00:12<00:50,  6.27s/it]\u001b[32m [repeated 2x across cluster] (Ray deduplicates logs by default. Set RAY_DEDUP_LOGS=0 to disable log deduplication, or see https://docs.ray.io/en/master/ray-observability/ray-logging.html#log-deduplication for more options.)\u001b[0m\n"
     ]
    },
    {
     "name": "stdout",
     "output_type": "stream",
     "text": [
      "\u001b[36m(launch_and_fit pid=401)\u001b[0m \tTrain Epoch: 2 \tTrain_loss: 2.3288 | Train_acc: 9.1580 % | Validation_loss: 2.3159 | Validation_acc: 8.7554 %\u001b[32m [repeated 2x across cluster]\u001b[0m\n",
      "\u001b[36m(launch_and_fit pid=426)\u001b[0m \tTrain Epoch: 3 \tTrain_loss: 2.3012 | Train_acc: 13.3073 % | Validation_loss: 2.3051 | Validation_acc: 13.3688 %\u001b[32m [repeated 2x across cluster]\u001b[0m\n"
     ]
    },
    {
     "name": "stderr",
     "output_type": "stream",
     "text": [
      " 30%|\u001b[34m███       \u001b[0m| 3/10 [00:17<00:40,  5.74s/it]\u001b[32m [repeated 2x across cluster]\u001b[0m\n"
     ]
    },
    {
     "name": "stdout",
     "output_type": "stream",
     "text": [
      "\u001b[36m(launch_and_fit pid=426)\u001b[0m \tTrain Epoch: 4 \tTrain_loss: 2.2789 | Train_acc: 14.7309 % | Validation_loss: 2.2665 | Validation_acc: 16.7295 %\u001b[32m [repeated 2x across cluster]\u001b[0m\n"
     ]
    },
    {
     "name": "stderr",
     "output_type": "stream",
     "text": [
      " 40%|\u001b[34m████      \u001b[0m| 4/10 [00:23<00:34,  5.83s/it]\u001b[32m [repeated 2x across cluster]\u001b[0m\n"
     ]
    },
    {
     "name": "stdout",
     "output_type": "stream",
     "text": [
      "\u001b[36m(launch_and_fit pid=426)\u001b[0m \tTrain Epoch: 5 \tTrain_loss: 2.2420 | Train_acc: 15.9332 % | Validation_loss: 2.2059 | Validation_acc: 16.5342 %\u001b[32m [repeated 2x across cluster]\u001b[0m\n"
     ]
    },
    {
     "name": "stderr",
     "output_type": "stream",
     "text": [
      " 50%|\u001b[34m█████     \u001b[0m| 5/10 [00:28<00:28,  5.75s/it]\u001b[32m [repeated 2x across cluster]\u001b[0m\n"
     ]
    },
    {
     "name": "stdout",
     "output_type": "stream",
     "text": [
      "\u001b[36m(launch_and_fit pid=426)\u001b[0m \tTrain Epoch: 6 \tTrain_loss: 2.1869 | Train_acc: 16.3151 % | Validation_loss: 2.1489 | Validation_acc: 17.1202 %\u001b[32m [repeated 2x across cluster]\u001b[0m\n"
     ]
    },
    {
     "name": "stderr",
     "output_type": "stream",
     "text": [
      " 60%|\u001b[34m██████    \u001b[0m| 6/10 [00:34<00:22,  5.71s/it]\u001b[32m [repeated 2x across cluster]\u001b[0m\n"
     ]
    },
    {
     "name": "stdout",
     "output_type": "stream",
     "text": [
      "\u001b[36m(launch_and_fit pid=426)\u001b[0m \tTrain Epoch: 7 \tTrain_loss: 2.1280 | Train_acc: 16.4236 % | Validation_loss: 2.0939 | Validation_acc: 16.1234 %\u001b[32m [repeated 2x across cluster]\u001b[0m\n"
     ]
    },
    {
     "name": "stderr",
     "output_type": "stream",
     "text": [
      " 70%|\u001b[34m███████   \u001b[0m| 7/10 [00:40<00:17,  5.70s/it]\u001b[32m [repeated 2x across cluster]\u001b[0m\n"
     ]
    },
    {
     "name": "stdout",
     "output_type": "stream",
     "text": [
      "\u001b[36m(launch_and_fit pid=426)\u001b[0m \tTrain Epoch: 8 \tTrain_loss: 2.0626 | Train_acc: 17.3438 % | Validation_loss: 2.0208 | Validation_acc: 18.9992 %\u001b[32m [repeated 2x across cluster]\u001b[0m\n"
     ]
    },
    {
     "name": "stderr",
     "output_type": "stream",
     "text": [
      " 80%|\u001b[34m████████  \u001b[0m| 8/10 [00:46<00:11,  5.77s/it]\u001b[32m [repeated 2x across cluster]\u001b[0m\n"
     ]
    },
    {
     "name": "stdout",
     "output_type": "stream",
     "text": [
      "\u001b[36m(launch_and_fit pid=426)\u001b[0m \tTrain Epoch: 9 \tTrain_loss: 2.0231 | Train_acc: 19.7830 % | Validation_loss: 1.9987 | Validation_acc: 20.1105 %\u001b[32m [repeated 2x across cluster]\u001b[0m\n"
     ]
    },
    {
     "name": "stderr",
     "output_type": "stream",
     "text": [
      " 90%|\u001b[34m█████████ \u001b[0m| 9/10 [00:52<00:05,  5.83s/it]\u001b[32m [repeated 2x across cluster]\u001b[0m\n"
     ]
    },
    {
     "name": "stdout",
     "output_type": "stream",
     "text": [
      "\u001b[36m(launch_and_fit pid=426)\u001b[0m save graph in  results/FL/\n",
      "\u001b[36m(launch_and_fit pid=426)\u001b[0m \tTrain Epoch: 10 \tTrain_loss: 2.0156 | Train_acc: 19.0061 % | Validation_loss: 2.0046 | Validation_acc: 21.3631 %\u001b[32m [repeated 2x across cluster]\u001b[0m\n"
     ]
    },
    {
     "name": "stderr",
     "output_type": "stream",
     "text": [
      "100%|\u001b[34m██████████\u001b[0m| 10/10 [00:58<00:00,  5.82s/it]\u001b[32m [repeated 2x across cluster]\u001b[0m\n"
     ]
    },
    {
     "name": "stdout",
     "output_type": "stream",
     "text": [
      "\u001b[36m(launch_and_fit pid=426)\u001b[0m network.0.weight 5.245208740234375e-06\n",
      "\u001b[36m(launch_and_fit pid=426)\u001b[0m network.0.bias 1.6689300537109375e-06\n",
      "\u001b[36m(launch_and_fit pid=426)\u001b[0m network.2.weight 9.5367431640625e-07\n",
      "\u001b[36m(launch_and_fit pid=426)\u001b[0m network.2.bias 1.1920928955078125e-06\n",
      "\u001b[36m(launch_and_fit pid=426)\u001b[0m network.5.weight 9.5367431640625e-07\n",
      "\u001b[36m(launch_and_fit pid=426)\u001b[0m network.5.bias 1.430511474609375e-06\n",
      "\u001b[36m(launch_and_fit pid=426)\u001b[0m network.7.weight 9.5367431640625e-07\n",
      "\u001b[36m(launch_and_fit pid=426)\u001b[0m network.7.bias 9.5367431640625e-07\n",
      "\u001b[36m(launch_and_fit pid=426)\u001b[0m network.10.weight 1.1920928955078125e-06\n",
      "\u001b[36m(launch_and_fit pid=426)\u001b[0m network.10.bias 1.1920928955078125e-06\n",
      "\u001b[36m(launch_and_fit pid=426)\u001b[0m network.12.weight 1.1920928955078125e-06\n",
      "\u001b[36m(launch_and_fit pid=426)\u001b[0m network.12.bias 9.5367431640625e-07\n",
      "\u001b[36m(launch_and_fit pid=426)\u001b[0m network.16.weight 1.1920928955078125e-06\n",
      "\u001b[36m(launch_and_fit pid=426)\u001b[0m network.16.bias 9.5367431640625e-07\n",
      "\u001b[36m(launch_and_fit pid=426)\u001b[0m network.18.weight 1.1920928955078125e-06\n",
      "\u001b[36m(launch_and_fit pid=426)\u001b[0m network.18.bias 1.1920928955078125e-06\n",
      "\u001b[36m(launch_and_fit pid=426)\u001b[0m network.20.weight 9.5367431640625e-07\n",
      "\u001b[36m(launch_and_fit pid=426)\u001b[0m network.20.bias 1.1920928955078125e-06\n",
      "\u001b[36m(launch_and_fit pid=426)\u001b[0m qnn.weights 1.1920928955078125e-06\n",
      "\u001b[36m(launch_and_fit pid=426)\u001b[0m fc4.weight 1.1920928955078125e-06\n",
      "\u001b[36m(launch_and_fit pid=426)\u001b[0m fc4.bias 9.5367431640625e-07\n",
      "\u001b[36m(launch_and_fit pid=484)\u001b[0m Run with homomorphic encryption\n",
      "\u001b[36m(launch_and_fit pid=401)\u001b[0m save graph in  results/FL/\n",
      "\u001b[36m(launch_and_fit pid=401)\u001b[0m \tTrain Epoch: 10 \tTrain_loss: 2.1773 | Train_acc: 20.6120 % | Validation_loss: 2.1291 | Validation_acc: 19.8949 %\n",
      "\u001b[36m(launch_and_fit pid=401)\u001b[0m fc4.bias 1.1920928955078125e-06\u001b[32m [repeated 20x across cluster]\u001b[0m\n",
      "\u001b[36m(launch_and_fit pid=401)\u001b[0m qnn.weights 1.1920928955078125e-06\n",
      "\u001b[36m(launch_and_fit pid=484)\u001b[0m [Client 3, round 1] fit, config: {'learning_rate': 0.001, 'batch_size': '128', 'server_round': 1, 'local_epochs': 10}\n"
     ]
    },
    {
     "name": "stderr",
     "output_type": "stream",
     "text": [
      "  0%|\u001b[34m          \u001b[0m| 0/10 [00:00<?, ?it/s]\n",
      "100%|\u001b[34m██████████\u001b[0m| 10/10 [00:59<00:00,  5.98s/it]\n"
     ]
    },
    {
     "name": "stdout",
     "output_type": "stream",
     "text": [
      "\u001b[36m(launch_and_fit pid=484)\u001b[0m Updated model\n"
     ]
    },
    {
     "name": "stderr",
     "output_type": "stream",
     "text": [
      " 10%|\u001b[34m█         \u001b[0m| 1/10 [00:06<00:55,  6.16s/it]\n",
      "  0%|\u001b[34m          \u001b[0m| 0/10 [00:00<?, ?it/s]\n"
     ]
    },
    {
     "name": "stdout",
     "output_type": "stream",
     "text": [
      "\u001b[36m(launch_and_fit pid=484)\u001b[0m \tTrain Epoch: 1 \tTrain_loss: 2.3348 | Train_acc: 10.4210 % | Validation_loss: 2.3205 | Validation_acc: 10.2640 %\n",
      "\u001b[36m(launch_and_fit pid=510)\u001b[0m Run with homomorphic encryption\n",
      "\u001b[36m(launch_and_fit pid=510)\u001b[0m [Client 5, round 1] fit, config: {'learning_rate': 0.001, 'batch_size': '128', 'server_round': 1, 'local_epochs': 10}\n",
      "\u001b[36m(launch_and_fit pid=510)\u001b[0m Updated model\n"
     ]
    },
    {
     "name": "stderr",
     "output_type": "stream",
     "text": [
      " 20%|\u001b[34m██        \u001b[0m| 2/10 [00:12<00:47,  5.98s/it]\u001b[32m [repeated 2x across cluster]\u001b[0m\n"
     ]
    },
    {
     "name": "stdout",
     "output_type": "stream",
     "text": [
      "\u001b[36m(launch_and_fit pid=484)\u001b[0m \tTrain Epoch: 2 \tTrain_loss: 2.3308 | Train_acc: 9.2969 % | Validation_loss: 2.3373 | Validation_acc: 10.2640 %\u001b[32m [repeated 2x across cluster]\u001b[0m\n"
     ]
    },
    {
     "name": "stderr",
     "output_type": "stream",
     "text": [
      " 30%|\u001b[34m███       \u001b[0m| 3/10 [00:17<00:41,  5.93s/it]\u001b[32m [repeated 2x across cluster]\u001b[0m\n"
     ]
    },
    {
     "name": "stdout",
     "output_type": "stream",
     "text": [
      "\u001b[36m(launch_and_fit pid=484)\u001b[0m \tTrain Epoch: 3 \tTrain_loss: 2.3275 | Train_acc: 9.9783 % | Validation_loss: 2.3140 | Validation_acc: 10.2640 %\u001b[32m [repeated 2x across cluster]\u001b[0m\n"
     ]
    },
    {
     "name": "stderr",
     "output_type": "stream",
     "text": [
      " 40%|\u001b[34m████      \u001b[0m| 4/10 [00:23<00:34,  5.80s/it]\u001b[32m [repeated 2x across cluster]\u001b[0m\n"
     ]
    },
    {
     "name": "stdout",
     "output_type": "stream",
     "text": [
      "\u001b[36m(launch_and_fit pid=484)\u001b[0m \tTrain Epoch: 4 \tTrain_loss: 2.3179 | Train_acc: 9.6918 % | Validation_loss: 2.3139 | Validation_acc: 10.2640 %\u001b[32m [repeated 2x across cluster]\u001b[0m\n"
     ]
    },
    {
     "name": "stderr",
     "output_type": "stream",
     "text": [
      " 50%|\u001b[34m█████     \u001b[0m| 5/10 [00:29<00:28,  5.70s/it]\u001b[32m [repeated 2x across cluster]\u001b[0m\n"
     ]
    },
    {
     "name": "stdout",
     "output_type": "stream",
     "text": [
      "\u001b[36m(launch_and_fit pid=484)\u001b[0m \tTrain Epoch: 5 \tTrain_loss: 2.3116 | Train_acc: 9.5530 % | Validation_loss: 2.3091 | Validation_acc: 10.2640 %\u001b[32m [repeated 2x across cluster]\u001b[0m\n"
     ]
    },
    {
     "name": "stderr",
     "output_type": "stream",
     "text": [
      " 60%|\u001b[34m██████    \u001b[0m| 6/10 [00:34<00:22,  5.72s/it]\u001b[32m [repeated 2x across cluster]\u001b[0m\n"
     ]
    },
    {
     "name": "stdout",
     "output_type": "stream",
     "text": [
      "\u001b[36m(launch_and_fit pid=484)\u001b[0m \tTrain Epoch: 6 \tTrain_loss: 2.3086 | Train_acc: 9.2014 % | Validation_loss: 2.3051 | Validation_acc: 10.2640 %\u001b[32m [repeated 2x across cluster]\u001b[0m\n"
     ]
    },
    {
     "name": "stderr",
     "output_type": "stream",
     "text": [
      " 70%|\u001b[34m███████   \u001b[0m| 7/10 [00:40<00:17,  5.75s/it]\u001b[32m [repeated 2x across cluster]\u001b[0m\n"
     ]
    },
    {
     "name": "stdout",
     "output_type": "stream",
     "text": [
      "\u001b[36m(launch_and_fit pid=484)\u001b[0m \tTrain Epoch: 7 \tTrain_loss: 2.2915 | Train_acc: 9.7309 % | Validation_loss: 2.2665 | Validation_acc: 15.2478 %\u001b[32m [repeated 2x across cluster]\u001b[0m\n"
     ]
    },
    {
     "name": "stderr",
     "output_type": "stream",
     "text": [
      " 80%|\u001b[34m████████  \u001b[0m| 8/10 [00:46<00:11,  5.80s/it]\u001b[32m [repeated 2x across cluster]\u001b[0m\n"
     ]
    },
    {
     "name": "stdout",
     "output_type": "stream",
     "text": [
      "\u001b[36m(launch_and_fit pid=484)\u001b[0m \tTrain Epoch: 8 \tTrain_loss: 2.2559 | Train_acc: 15.2778 % | Validation_loss: 2.2228 | Validation_acc: 15.6183 %\u001b[32m [repeated 2x across cluster]\u001b[0m\n"
     ]
    },
    {
     "name": "stderr",
     "output_type": "stream",
     "text": [
      " 90%|\u001b[34m█████████ \u001b[0m| 9/10 [00:52<00:05,  5.74s/it]\u001b[32m [repeated 2x across cluster]\u001b[0m\n"
     ]
    },
    {
     "name": "stdout",
     "output_type": "stream",
     "text": [
      "\u001b[36m(launch_and_fit pid=484)\u001b[0m \tTrain Epoch: 9 \tTrain_loss: 2.2000 | Train_acc: 18.5460 % | Validation_loss: 2.1562 | Validation_acc: 20.4068 %\u001b[32m [repeated 2x across cluster]\u001b[0m\n"
     ]
    },
    {
     "name": "stderr",
     "output_type": "stream",
     "text": [
      "100%|\u001b[34m██████████\u001b[0m| 10/10 [00:57<00:00,  5.76s/it]\u001b[32m [repeated 2x across cluster]\u001b[0m\n"
     ]
    },
    {
     "name": "stdout",
     "output_type": "stream",
     "text": [
      "\u001b[36m(launch_and_fit pid=484)\u001b[0m save graph in  results/FL/\n",
      "\u001b[36m(launch_and_fit pid=484)\u001b[0m \tTrain Epoch: 10 \tTrain_loss: 2.1381 | Train_acc: 19.3273 % | Validation_loss: 2.1052 | Validation_acc: 19.9960 %\u001b[32m [repeated 2x across cluster]\u001b[0m\n",
      "\u001b[36m(launch_and_fit pid=484)\u001b[0m network.0.weight 4.76837158203125e-06\n",
      "\u001b[36m(launch_and_fit pid=484)\u001b[0m network.0.bias 1.430511474609375e-06\n",
      "\u001b[36m(launch_and_fit pid=484)\u001b[0m network.2.weight 1.1920928955078125e-06\n",
      "\u001b[36m(launch_and_fit pid=484)\u001b[0m network.2.bias 1.1920928955078125e-06\n",
      "\u001b[36m(launch_and_fit pid=484)\u001b[0m network.5.weight 1.1920928955078125e-06\n",
      "\u001b[36m(launch_and_fit pid=484)\u001b[0m network.5.bias 9.5367431640625e-07\n",
      "\u001b[36m(launch_and_fit pid=484)\u001b[0m network.7.weight 1.1920928955078125e-06\n",
      "\u001b[36m(launch_and_fit pid=484)\u001b[0m network.7.bias 1.1920928955078125e-06\n",
      "\u001b[36m(launch_and_fit pid=484)\u001b[0m network.10.weight 9.5367431640625e-07\n",
      "\u001b[36m(launch_and_fit pid=484)\u001b[0m network.10.bias 9.5367431640625e-07\n",
      "\u001b[36m(launch_and_fit pid=484)\u001b[0m network.12.weight 1.1920928955078125e-06\n",
      "\u001b[36m(launch_and_fit pid=484)\u001b[0m network.12.bias 1.1920928955078125e-06\n",
      "\u001b[36m(launch_and_fit pid=484)\u001b[0m network.16.weight 9.5367431640625e-07\n",
      "\u001b[36m(launch_and_fit pid=484)\u001b[0m network.16.bias 1.1920928955078125e-06\n",
      "\u001b[36m(launch_and_fit pid=484)\u001b[0m network.18.weight 1.1920928955078125e-06\n",
      "\u001b[36m(launch_and_fit pid=484)\u001b[0m network.18.bias 9.5367431640625e-07\n",
      "\u001b[36m(launch_and_fit pid=484)\u001b[0m network.20.weight 1.430511474609375e-06\n",
      "\u001b[36m(launch_and_fit pid=484)\u001b[0m network.20.bias 9.5367431640625e-07\n",
      "\u001b[36m(launch_and_fit pid=484)\u001b[0m qnn.weights 9.5367431640625e-07\n",
      "\u001b[36m(launch_and_fit pid=484)\u001b[0m fc4.weight 9.5367431640625e-07\n",
      "\u001b[36m(launch_and_fit pid=484)\u001b[0m fc4.bias 1.1920928955078125e-06\n",
      "\u001b[36m(launch_and_fit pid=569)\u001b[0m Run with homomorphic encryption\n",
      "\u001b[36m(launch_and_fit pid=510)\u001b[0m save graph in  results/FL/\n",
      "\u001b[36m(launch_and_fit pid=510)\u001b[0m \tTrain Epoch: 10 \tTrain_loss: 1.9928 | Train_acc: 28.3247 % | Validation_loss: 1.9819 | Validation_acc: 28.6166 %\n",
      "\u001b[36m(launch_and_fit pid=510)\u001b[0m fc4.bias 9.5367431640625e-07\u001b[32m [repeated 20x across cluster]\u001b[0m\n",
      "\u001b[36m(launch_and_fit pid=510)\u001b[0m qnn.weights 9.5367431640625e-07\n",
      "\u001b[36m(launch_and_fit pid=569)\u001b[0m [Client 1, round 1] fit, config: {'learning_rate': 0.001, 'batch_size': '128', 'server_round': 1, 'local_epochs': 10}\n",
      "\u001b[36m(launch_and_fit pid=569)\u001b[0m Updated model\n"
     ]
    },
    {
     "name": "stderr",
     "output_type": "stream",
     "text": [
      "  0%|\u001b[34m          \u001b[0m| 0/10 [00:00<?, ?it/s]\n",
      "100%|\u001b[34m██████████\u001b[0m| 10/10 [00:57<00:00,  5.75s/it]\n"
     ]
    },
    {
     "name": "stdout",
     "output_type": "stream",
     "text": [
      "\u001b[36m(launch_and_fit pid=569)\u001b[0m \tTrain Epoch: 1 \tTrain_loss: 2.3377 | Train_acc: 8.5156 % | Validation_loss: 2.3089 | Validation_acc: 11.4157 %\n",
      "\u001b[36m(launch_and_fit pid=594)\u001b[0m Run with homomorphic encryption\n",
      "\u001b[36m(launch_and_fit pid=594)\u001b[0m [Client 8, round 1] fit, config: {'learning_rate': 0.001, 'batch_size': '128', 'server_round': 1, 'local_epochs': 10}\n",
      "\u001b[36m(launch_and_fit pid=594)\u001b[0m Updated model\n"
     ]
    },
    {
     "name": "stderr",
     "output_type": "stream",
     "text": [
      " 10%|\u001b[34m█         \u001b[0m| 1/10 [00:06<00:58,  6.52s/it]\n",
      "  0%|\u001b[34m          \u001b[0m| 0/10 [00:00<?, ?it/s]\n"
     ]
    },
    {
     "name": "stdout",
     "output_type": "stream",
     "text": [
      "\u001b[36m(launch_and_fit pid=569)\u001b[0m \tTrain Epoch: 2 \tTrain_loss: 2.3244 | Train_acc: 9.7049 % | Validation_loss: 2.3046 | Validation_acc: 14.7966 %\u001b[32m [repeated 2x across cluster]\u001b[0m\n"
     ]
    },
    {
     "name": "stderr",
     "output_type": "stream",
     "text": [
      " 20%|\u001b[34m██        \u001b[0m| 2/10 [00:12<00:47,  5.99s/it]\u001b[32m [repeated 2x across cluster]\u001b[0m\n"
     ]
    },
    {
     "name": "stdout",
     "output_type": "stream",
     "text": [
      "\u001b[36m(launch_and_fit pid=569)\u001b[0m \tTrain Epoch: 3 \tTrain_loss: 2.3101 | Train_acc: 12.0660 % | Validation_loss: 2.2735 | Validation_acc: 16.9652 %\u001b[32m [repeated 2x across cluster]\u001b[0m\n"
     ]
    },
    {
     "name": "stderr",
     "output_type": "stream",
     "text": [
      " 30%|\u001b[34m███       \u001b[0m| 3/10 [00:17<00:40,  5.79s/it]\u001b[32m [repeated 2x across cluster]\u001b[0m\n"
     ]
    },
    {
     "name": "stdout",
     "output_type": "stream",
     "text": [
      "\u001b[36m(launch_and_fit pid=569)\u001b[0m \tTrain Epoch: 4 \tTrain_loss: 2.2700 | Train_acc: 14.9045 % | Validation_loss: 2.2264 | Validation_acc: 18.2179 %\u001b[32m [repeated 2x across cluster]\u001b[0m\n"
     ]
    },
    {
     "name": "stderr",
     "output_type": "stream",
     "text": [
      " 40%|\u001b[34m████      \u001b[0m| 4/10 [00:23<00:35,  5.88s/it]\u001b[32m [repeated 2x across cluster]\u001b[0m\n"
     ]
    },
    {
     "name": "stdout",
     "output_type": "stream",
     "text": [
      "\u001b[36m(launch_and_fit pid=569)\u001b[0m \tTrain Epoch: 5 \tTrain_loss: 2.2183 | Train_acc: 16.4714 % | Validation_loss: 2.2164 | Validation_acc: 16.8103 %\u001b[32m [repeated 2x across cluster]\u001b[0m\n"
     ]
    },
    {
     "name": "stderr",
     "output_type": "stream",
     "text": [
      " 50%|\u001b[34m█████     \u001b[0m| 5/10 [00:29<00:29,  5.82s/it]\u001b[32m [repeated 2x across cluster]\u001b[0m\n"
     ]
    },
    {
     "name": "stdout",
     "output_type": "stream",
     "text": [
      "\u001b[36m(launch_and_fit pid=569)\u001b[0m \tTrain Epoch: 6 \tTrain_loss: 2.1668 | Train_acc: 16.4670 % | Validation_loss: 2.1421 | Validation_acc: 18.0428 %\u001b[32m [repeated 2x across cluster]\u001b[0m\n"
     ]
    },
    {
     "name": "stderr",
     "output_type": "stream",
     "text": [
      " 60%|\u001b[34m██████    \u001b[0m| 6/10 [00:35<00:23,  5.77s/it]\u001b[32m [repeated 2x across cluster]\u001b[0m\n"
     ]
    },
    {
     "name": "stdout",
     "output_type": "stream",
     "text": [
      "\u001b[36m(launch_and_fit pid=569)\u001b[0m \tTrain Epoch: 7 \tTrain_loss: 2.1169 | Train_acc: 16.7665 % | Validation_loss: 2.0782 | Validation_acc: 18.8847 %\u001b[32m [repeated 2x across cluster]\u001b[0m\n"
     ]
    },
    {
     "name": "stderr",
     "output_type": "stream",
     "text": [
      " 70%|\u001b[34m███████   \u001b[0m| 7/10 [00:41<00:17,  5.83s/it]\u001b[32m [repeated 2x across cluster]\u001b[0m\n"
     ]
    },
    {
     "name": "stdout",
     "output_type": "stream",
     "text": [
      "\u001b[36m(launch_and_fit pid=569)\u001b[0m \tTrain Epoch: 8 \tTrain_loss: 2.0575 | Train_acc: 18.6024 % | Validation_loss: 2.0318 | Validation_acc: 18.8039 %\u001b[32m [repeated 2x across cluster]\u001b[0m\n"
     ]
    },
    {
     "name": "stderr",
     "output_type": "stream",
     "text": [
      " 80%|\u001b[34m████████  \u001b[0m| 8/10 [00:46<00:11,  5.72s/it]\u001b[32m [repeated 2x across cluster]\u001b[0m\n"
     ]
    },
    {
     "name": "stdout",
     "output_type": "stream",
     "text": [
      "\u001b[36m(launch_and_fit pid=569)\u001b[0m \tTrain Epoch: 9 \tTrain_loss: 2.0151 | Train_acc: 18.8932 % | Validation_loss: 2.0062 | Validation_acc: 19.6659 %\u001b[32m [repeated 2x across cluster]\u001b[0m\n"
     ]
    },
    {
     "name": "stderr",
     "output_type": "stream",
     "text": [
      " 90%|\u001b[34m█████████ \u001b[0m| 9/10 [00:52<00:05,  5.68s/it]\u001b[32m [repeated 2x across cluster]\u001b[0m\n"
     ]
    },
    {
     "name": "stdout",
     "output_type": "stream",
     "text": [
      "\u001b[36m(launch_and_fit pid=569)\u001b[0m save graph in  results/FL/\n",
      "\u001b[36m(launch_and_fit pid=569)\u001b[0m \tTrain Epoch: 10 \tTrain_loss: 1.9801 | Train_acc: 19.4488 % | Validation_loss: 1.9594 | Validation_acc: 19.6053 %\u001b[32m [repeated 2x across cluster]\u001b[0m\n"
     ]
    },
    {
     "name": "stderr",
     "output_type": "stream",
     "text": [
      "100%|\u001b[34m██████████\u001b[0m| 10/10 [00:57<00:00,  5.77s/it]\u001b[32m [repeated 2x across cluster]\u001b[0m\n"
     ]
    },
    {
     "name": "stdout",
     "output_type": "stream",
     "text": [
      "\u001b[36m(launch_and_fit pid=569)\u001b[0m network.0.weight 5.9604644775390625e-06\n",
      "\u001b[36m(launch_and_fit pid=569)\u001b[0m network.0.bias 1.6689300537109375e-06\n",
      "\u001b[36m(launch_and_fit pid=569)\u001b[0m network.2.weight 9.5367431640625e-07\n",
      "\u001b[36m(launch_and_fit pid=569)\u001b[0m network.2.bias 1.1920928955078125e-06\n",
      "\u001b[36m(launch_and_fit pid=569)\u001b[0m network.5.weight 1.6689300537109375e-06\n",
      "\u001b[36m(launch_and_fit pid=569)\u001b[0m network.5.bias 9.5367431640625e-07\n",
      "\u001b[36m(launch_and_fit pid=569)\u001b[0m network.7.weight 1.1920928955078125e-06\n",
      "\u001b[36m(launch_and_fit pid=569)\u001b[0m network.7.bias 1.1920928955078125e-06\n",
      "\u001b[36m(launch_and_fit pid=569)\u001b[0m network.10.weight 1.1920928955078125e-06\n",
      "\u001b[36m(launch_and_fit pid=569)\u001b[0m network.10.bias 1.1920928955078125e-06\n",
      "\u001b[36m(launch_and_fit pid=569)\u001b[0m network.12.weight 1.1920928955078125e-06\n",
      "\u001b[36m(launch_and_fit pid=569)\u001b[0m network.12.bias 1.1920928955078125e-06\n",
      "\u001b[36m(launch_and_fit pid=569)\u001b[0m network.16.weight 9.5367431640625e-07\n",
      "\u001b[36m(launch_and_fit pid=569)\u001b[0m network.16.bias 1.1920928955078125e-06\n",
      "\u001b[36m(launch_and_fit pid=569)\u001b[0m network.18.weight 9.5367431640625e-07\n",
      "\u001b[36m(launch_and_fit pid=569)\u001b[0m network.18.bias 9.5367431640625e-07\n",
      "\u001b[36m(launch_and_fit pid=569)\u001b[0m network.20.weight 1.1920928955078125e-06\n",
      "\u001b[36m(launch_and_fit pid=569)\u001b[0m network.20.bias 1.1920928955078125e-06\n",
      "\u001b[36m(launch_and_fit pid=569)\u001b[0m qnn.weights 1.1920928955078125e-06\n",
      "\u001b[36m(launch_and_fit pid=569)\u001b[0m fc4.weight 1.430511474609375e-06\n",
      "\u001b[36m(launch_and_fit pid=569)\u001b[0m fc4.bias 9.5367431640625e-07\n",
      "\u001b[36m(launch_and_fit pid=651)\u001b[0m Run with homomorphic encryption\n",
      "\u001b[36m(launch_and_fit pid=594)\u001b[0m save graph in  results/FL/\n",
      "\u001b[36m(launch_and_fit pid=594)\u001b[0m \tTrain Epoch: 10 \tTrain_loss: 1.9966 | Train_acc: 21.1372 % | Validation_loss: 1.9630 | Validation_acc: 20.0902 %\n",
      "\u001b[36m(launch_and_fit pid=594)\u001b[0m fc4.bias 9.5367431640625e-07\u001b[32m [repeated 20x across cluster]\u001b[0m\n",
      "\u001b[36m(launch_and_fit pid=594)\u001b[0m qnn.weights 1.1920928955078125e-06\n",
      "\u001b[36m(launch_and_fit pid=651)\u001b[0m [Client 9, round 1] fit, config: {'learning_rate': 0.001, 'batch_size': '128', 'server_round': 1, 'local_epochs': 10}\n"
     ]
    },
    {
     "name": "stderr",
     "output_type": "stream",
     "text": [
      "  0%|\u001b[34m          \u001b[0m| 0/10 [00:00<?, ?it/s]\n",
      "100%|\u001b[34m██████████\u001b[0m| 10/10 [00:57<00:00,  5.76s/it]\n"
     ]
    },
    {
     "name": "stdout",
     "output_type": "stream",
     "text": [
      "\u001b[36m(launch_and_fit pid=651)\u001b[0m Updated model\n"
     ]
    },
    {
     "name": "stderr",
     "output_type": "stream",
     "text": [
      " 10%|\u001b[34m█         \u001b[0m| 1/10 [00:05<00:53,  5.97s/it]\n",
      "  0%|\u001b[34m          \u001b[0m| 0/10 [00:00<?, ?it/s]\n"
     ]
    },
    {
     "name": "stdout",
     "output_type": "stream",
     "text": [
      "\u001b[36m(launch_and_fit pid=651)\u001b[0m \tTrain Epoch: 1 \tTrain_loss: 2.3379 | Train_acc: 9.6962 % | Validation_loss: 2.3275 | Validation_acc: 11.9208 %\n",
      "\u001b[36m(launch_and_fit pid=676)\u001b[0m Run with homomorphic encryption\n",
      "\u001b[36m(launch_and_fit pid=676)\u001b[0m [Client 4, round 1] fit, config: {'learning_rate': 0.001, 'batch_size': '128', 'server_round': 1, 'local_epochs': 10}\n",
      "\u001b[36m(launch_and_fit pid=676)\u001b[0m Updated model\n"
     ]
    },
    {
     "name": "stderr",
     "output_type": "stream",
     "text": [
      " 20%|\u001b[34m██        \u001b[0m| 2/10 [00:11<00:46,  5.76s/it]\u001b[32m [repeated 2x across cluster]\u001b[0m\n"
     ]
    },
    {
     "name": "stdout",
     "output_type": "stream",
     "text": [
      "\u001b[36m(launch_and_fit pid=651)\u001b[0m \tTrain Epoch: 2 \tTrain_loss: 2.3165 | Train_acc: 9.5009 % | Validation_loss: 2.3089 | Validation_acc: 12.3114 %\u001b[32m [repeated 2x across cluster]\u001b[0m\n"
     ]
    },
    {
     "name": "stderr",
     "output_type": "stream",
     "text": [
      " 30%|\u001b[34m███       \u001b[0m| 3/10 [00:17<00:39,  5.68s/it]\u001b[32m [repeated 2x across cluster]\u001b[0m\n"
     ]
    },
    {
     "name": "stdout",
     "output_type": "stream",
     "text": [
      "\u001b[36m(launch_and_fit pid=651)\u001b[0m \tTrain Epoch: 3 \tTrain_loss: 2.2885 | Train_acc: 13.7543 % | Validation_loss: 2.2655 | Validation_acc: 15.7732 %\u001b[32m [repeated 2x across cluster]\u001b[0m\n"
     ]
    },
    {
     "name": "stderr",
     "output_type": "stream",
     "text": [
      " 40%|\u001b[34m████      \u001b[0m| 4/10 [00:22<00:33,  5.66s/it]\u001b[32m [repeated 2x across cluster]\u001b[0m\n"
     ]
    },
    {
     "name": "stdout",
     "output_type": "stream",
     "text": [
      "\u001b[36m(launch_and_fit pid=651)\u001b[0m \tTrain Epoch: 4 \tTrain_loss: 2.2346 | Train_acc: 15.0781 % | Validation_loss: 2.1969 | Validation_acc: 16.9652 %\u001b[32m [repeated 2x across cluster]\u001b[0m\n"
     ]
    },
    {
     "name": "stderr",
     "output_type": "stream",
     "text": [
      " 50%|\u001b[34m█████     \u001b[0m| 5/10 [00:28<00:29,  5.81s/it]\u001b[32m [repeated 2x across cluster]\u001b[0m\n"
     ]
    },
    {
     "name": "stdout",
     "output_type": "stream",
     "text": [
      "\u001b[36m(launch_and_fit pid=651)\u001b[0m \tTrain Epoch: 5 \tTrain_loss: 2.1780 | Train_acc: 15.7682 % | Validation_loss: 2.1514 | Validation_acc: 15.0323 %\u001b[32m [repeated 2x across cluster]\u001b[0m\n"
     ]
    },
    {
     "name": "stderr",
     "output_type": "stream",
     "text": [
      " 60%|\u001b[34m██████    \u001b[0m| 6/10 [00:34<00:22,  5.72s/it]\u001b[32m [repeated 2x across cluster]\u001b[0m\n"
     ]
    },
    {
     "name": "stdout",
     "output_type": "stream",
     "text": [
      "\u001b[36m(launch_and_fit pid=651)\u001b[0m \tTrain Epoch: 6 \tTrain_loss: 2.1184 | Train_acc: 18.3464 % | Validation_loss: 2.1148 | Validation_acc: 21.4978 %\u001b[32m [repeated 2x across cluster]\u001b[0m\n"
     ]
    },
    {
     "name": "stderr",
     "output_type": "stream",
     "text": [
      " 70%|\u001b[34m███████   \u001b[0m| 7/10 [00:40<00:17,  5.72s/it]\u001b[32m [repeated 2x across cluster]\u001b[0m\n"
     ]
    },
    {
     "name": "stdout",
     "output_type": "stream",
     "text": [
      "\u001b[36m(launch_and_fit pid=651)\u001b[0m \tTrain Epoch: 7 \tTrain_loss: 2.0756 | Train_acc: 22.3785 % | Validation_loss: 2.0925 | Validation_acc: 20.6627 %\u001b[32m [repeated 2x across cluster]\u001b[0m\n"
     ]
    },
    {
     "name": "stderr",
     "output_type": "stream",
     "text": [
      " 80%|\u001b[34m████████  \u001b[0m| 8/10 [00:45<00:11,  5.71s/it]\u001b[32m [repeated 2x across cluster]\u001b[0m\n"
     ]
    },
    {
     "name": "stdout",
     "output_type": "stream",
     "text": [
      "\u001b[36m(launch_and_fit pid=651)\u001b[0m \tTrain Epoch: 8 \tTrain_loss: 2.0272 | Train_acc: 24.1580 % | Validation_loss: 1.9986 | Validation_acc: 20.2317 %\u001b[32m [repeated 2x across cluster]\u001b[0m\n"
     ]
    },
    {
     "name": "stderr",
     "output_type": "stream",
     "text": [
      " 90%|\u001b[34m█████████ \u001b[0m| 9/10 [00:51<00:05,  5.70s/it]\u001b[32m [repeated 2x across cluster]\u001b[0m\n"
     ]
    },
    {
     "name": "stdout",
     "output_type": "stream",
     "text": [
      "\u001b[36m(launch_and_fit pid=651)\u001b[0m \tTrain Epoch: 9 \tTrain_loss: 1.9757 | Train_acc: 24.5616 % | Validation_loss: 1.9573 | Validation_acc: 23.3971 %\u001b[32m [repeated 2x across cluster]\u001b[0m\n"
     ]
    },
    {
     "name": "stderr",
     "output_type": "stream",
     "text": [
      "100%|\u001b[34m██████████\u001b[0m| 10/10 [00:57<00:00,  5.71s/it]\u001b[32m [repeated 2x across cluster]\u001b[0m\n"
     ]
    },
    {
     "name": "stdout",
     "output_type": "stream",
     "text": [
      "\u001b[36m(launch_and_fit pid=651)\u001b[0m save graph in  results/FL/\n",
      "\u001b[36m(launch_and_fit pid=651)\u001b[0m \tTrain Epoch: 10 \tTrain_loss: 1.9319 | Train_acc: 25.8030 % | Validation_loss: 1.9488 | Validation_acc: 20.7974 %\u001b[32m [repeated 2x across cluster]\u001b[0m\n",
      "\u001b[36m(launch_and_fit pid=651)\u001b[0m network.0.weight 5.245208740234375e-06\n",
      "\u001b[36m(launch_and_fit pid=651)\u001b[0m network.0.bias 1.430511474609375e-06\n",
      "\u001b[36m(launch_and_fit pid=651)\u001b[0m network.2.weight 1.430511474609375e-06\n",
      "\u001b[36m(launch_and_fit pid=651)\u001b[0m network.2.bias 9.5367431640625e-07\n",
      "\u001b[36m(launch_and_fit pid=651)\u001b[0m network.5.weight 1.1920928955078125e-06\n",
      "\u001b[36m(launch_and_fit pid=651)\u001b[0m network.5.bias 1.1920928955078125e-06\n",
      "\u001b[36m(launch_and_fit pid=651)\u001b[0m network.7.weight 1.1920928955078125e-06\n",
      "\u001b[36m(launch_and_fit pid=651)\u001b[0m network.7.bias 9.5367431640625e-07\n",
      "\u001b[36m(launch_and_fit pid=651)\u001b[0m network.10.weight 1.430511474609375e-06\n",
      "\u001b[36m(launch_and_fit pid=651)\u001b[0m network.10.bias 1.1920928955078125e-06\n",
      "\u001b[36m(launch_and_fit pid=651)\u001b[0m network.12.weight 1.9073486328125e-06\n",
      "\u001b[36m(launch_and_fit pid=651)\u001b[0m network.12.bias 1.9073486328125e-06\n",
      "\u001b[36m(launch_and_fit pid=651)\u001b[0m network.16.weight 2.1457672119140625e-06\n",
      "\u001b[36m(launch_and_fit pid=651)\u001b[0m network.16.bias 1.430511474609375e-06\n",
      "\u001b[36m(launch_and_fit pid=651)\u001b[0m network.18.weight 1.1920928955078125e-06\n",
      "\u001b[36m(launch_and_fit pid=651)\u001b[0m network.18.bias 9.5367431640625e-07\n",
      "\u001b[36m(launch_and_fit pid=651)\u001b[0m network.20.weight 1.1920928955078125e-06\n",
      "\u001b[36m(launch_and_fit pid=651)\u001b[0m network.20.bias 9.5367431640625e-07\n",
      "\u001b[36m(launch_and_fit pid=651)\u001b[0m qnn.weights 1.430511474609375e-06\n",
      "\u001b[36m(launch_and_fit pid=651)\u001b[0m fc4.weight 1.430511474609375e-06\n",
      "\u001b[36m(launch_and_fit pid=651)\u001b[0m fc4.bias 1.1920928955078125e-06\n",
      "\u001b[36m(launch_and_fit pid=733)\u001b[0m Run with homomorphic encryption\n",
      "\u001b[36m(launch_and_fit pid=676)\u001b[0m save graph in  results/FL/\n",
      "\u001b[36m(launch_and_fit pid=676)\u001b[0m \tTrain Epoch: 10 \tTrain_loss: 1.9656 | Train_acc: 21.7839 % | Validation_loss: 1.9662 | Validation_acc: 24.3737 %\n",
      "\u001b[36m(launch_and_fit pid=676)\u001b[0m fc4.bias 1.6689300537109375e-06\u001b[32m [repeated 20x across cluster]\u001b[0m\n",
      "\u001b[36m(launch_and_fit pid=676)\u001b[0m qnn.weights 1.430511474609375e-06\n",
      "\u001b[36m(launch_and_fit pid=733)\u001b[0m [Client 2, round 1] fit, config: {'learning_rate': 0.001, 'batch_size': '128', 'server_round': 1, 'local_epochs': 10}\n",
      "\u001b[36m(launch_and_fit pid=733)\u001b[0m Updated model\n"
     ]
    },
    {
     "name": "stderr",
     "output_type": "stream",
     "text": [
      "  0%|\u001b[34m          \u001b[0m| 0/10 [00:00<?, ?it/s]\n",
      "100%|\u001b[34m██████████\u001b[0m| 10/10 [00:58<00:00,  5.81s/it]\n",
      " 10%|\u001b[34m█         \u001b[0m| 1/10 [00:06<00:56,  6.26s/it]\n",
      "  0%|\u001b[34m          \u001b[0m| 0/10 [00:00<?, ?it/s]\n"
     ]
    },
    {
     "name": "stdout",
     "output_type": "stream",
     "text": [
      "\u001b[36m(launch_and_fit pid=733)\u001b[0m \tTrain Epoch: 1 \tTrain_loss: 2.3314 | Train_acc: 9.5312 % | Validation_loss: 2.3145 | Validation_acc: 10.7085 %\n",
      "\u001b[36m(launch_and_fit pid=759)\u001b[0m Run with homomorphic encryption\n",
      "\u001b[36m(launch_and_fit pid=759)\u001b[0m [Client 6, round 1] fit, config: {'learning_rate': 0.001, 'batch_size': '128', 'server_round': 1, 'local_epochs': 10}\n",
      "\u001b[36m(launch_and_fit pid=759)\u001b[0m Updated model\n"
     ]
    },
    {
     "name": "stderr",
     "output_type": "stream",
     "text": [
      " 20%|\u001b[34m██        \u001b[0m| 2/10 [00:12<00:48,  6.01s/it]\u001b[32m [repeated 2x across cluster]\u001b[0m\n"
     ]
    },
    {
     "name": "stdout",
     "output_type": "stream",
     "text": [
      "\u001b[36m(launch_and_fit pid=733)\u001b[0m \tTrain Epoch: 2 \tTrain_loss: 2.3188 | Train_acc: 9.9392 % | Validation_loss: 2.2992 | Validation_acc: 10.7085 %\u001b[32m [repeated 2x across cluster]\u001b[0m\n"
     ]
    },
    {
     "name": "stderr",
     "output_type": "stream",
     "text": [
      " 30%|\u001b[34m███       \u001b[0m| 3/10 [00:17<00:41,  5.92s/it]\u001b[32m [repeated 2x across cluster]\u001b[0m\n"
     ]
    },
    {
     "name": "stdout",
     "output_type": "stream",
     "text": [
      "\u001b[36m(launch_and_fit pid=733)\u001b[0m \tTrain Epoch: 3 \tTrain_loss: 2.2890 | Train_acc: 11.3021 % | Validation_loss: 2.2653 | Validation_acc: 13.5035 %\u001b[32m [repeated 2x across cluster]\u001b[0m\n"
     ]
    },
    {
     "name": "stderr",
     "output_type": "stream",
     "text": [
      " 40%|\u001b[34m████      \u001b[0m| 4/10 [00:23<00:35,  5.92s/it]\u001b[32m [repeated 2x across cluster]\u001b[0m\n"
     ]
    },
    {
     "name": "stdout",
     "output_type": "stream",
     "text": [
      "\u001b[36m(launch_and_fit pid=733)\u001b[0m \tTrain Epoch: 4 \tTrain_loss: 2.2331 | Train_acc: 15.7335 % | Validation_loss: 2.1753 | Validation_acc: 18.9790 %\u001b[32m [repeated 2x across cluster]\u001b[0m\n"
     ]
    },
    {
     "name": "stderr",
     "output_type": "stream",
     "text": [
      " 50%|\u001b[34m█████     \u001b[0m| 5/10 [00:29<00:29,  5.88s/it]\u001b[32m [repeated 2x across cluster]\u001b[0m\n"
     ]
    },
    {
     "name": "stdout",
     "output_type": "stream",
     "text": [
      "\u001b[36m(launch_and_fit pid=733)\u001b[0m \tTrain Epoch: 5 \tTrain_loss: 2.1474 | Train_acc: 17.7691 % | Validation_loss: 2.1357 | Validation_acc: 17.2212 %\u001b[32m [repeated 2x across cluster]\u001b[0m\n"
     ]
    },
    {
     "name": "stderr",
     "output_type": "stream",
     "text": [
      " 60%|\u001b[34m██████    \u001b[0m| 6/10 [00:35<00:23,  5.81s/it]\u001b[32m [repeated 2x across cluster]\u001b[0m\n"
     ]
    },
    {
     "name": "stdout",
     "output_type": "stream",
     "text": [
      "\u001b[36m(launch_and_fit pid=733)\u001b[0m \tTrain Epoch: 6 \tTrain_loss: 2.0830 | Train_acc: 18.8628 % | Validation_loss: 2.0494 | Validation_acc: 19.5043 %\u001b[32m [repeated 2x across cluster]\u001b[0m\n"
     ]
    },
    {
     "name": "stderr",
     "output_type": "stream",
     "text": [
      " 70%|\u001b[34m███████   \u001b[0m| 7/10 [00:40<00:17,  5.76s/it]\u001b[32m [repeated 2x across cluster]\u001b[0m\n"
     ]
    },
    {
     "name": "stdout",
     "output_type": "stream",
     "text": [
      "\u001b[36m(launch_and_fit pid=733)\u001b[0m \tTrain Epoch: 7 \tTrain_loss: 2.0459 | Train_acc: 19.3273 % | Validation_loss: 2.0635 | Validation_acc: 18.9992 %\u001b[32m [repeated 2x across cluster]\u001b[0m\n"
     ]
    },
    {
     "name": "stderr",
     "output_type": "stream",
     "text": [
      " 80%|\u001b[34m████████  \u001b[0m| 8/10 [00:46<00:11,  5.73s/it]\u001b[32m [repeated 2x across cluster]\u001b[0m\n"
     ]
    },
    {
     "name": "stdout",
     "output_type": "stream",
     "text": [
      "\u001b[36m(launch_and_fit pid=733)\u001b[0m \tTrain Epoch: 8 \tTrain_loss: 1.9978 | Train_acc: 20.8030 % | Validation_loss: 1.9762 | Validation_acc: 21.1678 %\u001b[32m [repeated 2x across cluster]\u001b[0m\n"
     ]
    },
    {
     "name": "stderr",
     "output_type": "stream",
     "text": [
      " 90%|\u001b[34m█████████ \u001b[0m| 9/10 [00:52<00:05,  5.78s/it]\u001b[32m [repeated 2x across cluster]\u001b[0m\n"
     ]
    },
    {
     "name": "stdout",
     "output_type": "stream",
     "text": [
      "\u001b[36m(launch_and_fit pid=733)\u001b[0m \tTrain Epoch: 9 \tTrain_loss: 1.9613 | Train_acc: 20.3342 % | Validation_loss: 1.9637 | Validation_acc: 19.9758 %\u001b[32m [repeated 2x across cluster]\u001b[0m\n"
     ]
    },
    {
     "name": "stderr",
     "output_type": "stream",
     "text": [
      "100%|\u001b[34m██████████\u001b[0m| 10/10 [00:58<00:00,  5.84s/it]\u001b[32m [repeated 2x across cluster]\u001b[0m\n"
     ]
    },
    {
     "name": "stdout",
     "output_type": "stream",
     "text": [
      "\u001b[36m(launch_and_fit pid=733)\u001b[0m save graph in  results/FL/\n",
      "\u001b[36m(launch_and_fit pid=733)\u001b[0m \tTrain Epoch: 10 \tTrain_loss: 1.9332 | Train_acc: 20.9375 % | Validation_loss: 1.9443 | Validation_acc: 21.1274 %\u001b[32m [repeated 2x across cluster]\u001b[0m\n",
      "\u001b[36m(launch_and_fit pid=733)\u001b[0m network.0.weight 6.198883056640625e-06\n",
      "\u001b[36m(launch_and_fit pid=733)\u001b[0m network.0.bias 1.430511474609375e-06\n",
      "\u001b[36m(launch_and_fit pid=733)\u001b[0m network.2.weight 1.1920928955078125e-06\n",
      "\u001b[36m(launch_and_fit pid=733)\u001b[0m network.2.bias 1.1920928955078125e-06\n",
      "\u001b[36m(launch_and_fit pid=733)\u001b[0m network.5.weight 1.1920928955078125e-06\n",
      "\u001b[36m(launch_and_fit pid=733)\u001b[0m network.5.bias 9.5367431640625e-07\n",
      "\u001b[36m(launch_and_fit pid=733)\u001b[0m network.7.weight 1.1920928955078125e-06\n",
      "\u001b[36m(launch_and_fit pid=733)\u001b[0m network.7.bias 1.1920928955078125e-06\n",
      "\u001b[36m(launch_and_fit pid=733)\u001b[0m network.10.weight 1.1920928955078125e-06\n",
      "\u001b[36m(launch_and_fit pid=733)\u001b[0m network.10.bias 9.5367431640625e-07\n",
      "\u001b[36m(launch_and_fit pid=733)\u001b[0m network.12.weight 1.430511474609375e-06\n",
      "\u001b[36m(launch_and_fit pid=733)\u001b[0m network.12.bias 1.1920928955078125e-06\n",
      "\u001b[36m(launch_and_fit pid=733)\u001b[0m network.16.weight 1.1920928955078125e-06\n",
      "\u001b[36m(launch_and_fit pid=733)\u001b[0m network.16.bias 1.6689300537109375e-06\n",
      "\u001b[36m(launch_and_fit pid=733)\u001b[0m network.18.weight 1.1920928955078125e-06\n",
      "\u001b[36m(launch_and_fit pid=733)\u001b[0m network.18.bias 1.1920928955078125e-06\n",
      "\u001b[36m(launch_and_fit pid=733)\u001b[0m network.20.weight 1.1920928955078125e-06\n",
      "\u001b[36m(launch_and_fit pid=733)\u001b[0m network.20.bias 1.430511474609375e-06\n",
      "\u001b[36m(launch_and_fit pid=733)\u001b[0m qnn.weights 1.1920928955078125e-06\n",
      "\u001b[36m(launch_and_fit pid=733)\u001b[0m fc4.weight 1.1920928955078125e-06\n",
      "\u001b[36m(launch_and_fit pid=733)\u001b[0m fc4.bias 1.1920928955078125e-06\n"
     ]
    },
    {
     "name": "stderr",
     "output_type": "stream",
     "text": [
      "DEBUG flwr 2024-07-20 18:29:44,894 | server.py:236 | fit_round 1 received 10 results and 0 failures\n",
      "WARNING flwr 2024-07-20 18:29:45,326 | 2069247182.py:131 | No fit_metrics_aggregation_fn provided\n"
     ]
    },
    {
     "name": "stdout",
     "output_type": "stream",
     "text": [
      "Saving round 1 aggregated_parameters...\n"
     ]
    },
    {
     "name": "stderr",
     "output_type": "stream",
     "text": [
      "DEBUG flwr 2024-07-20 18:29:45,946 | server.py:173 | evaluate_round 1: strategy sampled 10 clients (out of 10)\n"
     ]
    },
    {
     "name": "stdout",
     "output_type": "stream",
     "text": [
      "\u001b[36m(launch_and_evaluate pid=825)\u001b[0m Run with homomorphic encryption\n",
      "\u001b[36m(launch_and_fit pid=759)\u001b[0m save graph in  results/FL/\n",
      "\u001b[36m(launch_and_fit pid=759)\u001b[0m \tTrain Epoch: 10 \tTrain_loss: 1.9449 | Train_acc: 25.5382 % | Validation_loss: 1.9627 | Validation_acc: 23.5722 %\n",
      "\u001b[36m(launch_and_fit pid=759)\u001b[0m fc4.bias 9.5367431640625e-07\u001b[32m [repeated 20x across cluster]\u001b[0m\n",
      "\u001b[36m(launch_and_fit pid=759)\u001b[0m qnn.weights 1.1920928955078125e-06\n",
      "\u001b[36m(launch_and_evaluate pid=825)\u001b[0m [Client 5] evaluate, config: {}\n",
      "\u001b[36m(launch_and_evaluate pid=825)\u001b[0m Updated model\n",
      "\u001b[36m(launch_and_evaluate pid=904)\u001b[0m Run with homomorphic encryption\u001b[32m [repeated 2x across cluster]\u001b[0m\n",
      "\u001b[36m(launch_and_evaluate pid=826)\u001b[0m [Client 1] evaluate, config: {}\n",
      "\u001b[36m(launch_and_evaluate pid=826)\u001b[0m Updated model\n",
      "\u001b[36m(launch_and_evaluate pid=904)\u001b[0m [Client 3] evaluate, config: {}\n",
      "\u001b[36m(launch_and_evaluate pid=904)\u001b[0m Updated model\n",
      "\u001b[36m(launch_and_evaluate pid=984)\u001b[0m Run with homomorphic encryption\u001b[32m [repeated 2x across cluster]\u001b[0m\n",
      "\u001b[36m(launch_and_evaluate pid=906)\u001b[0m [Client 4] evaluate, config: {}\n",
      "\u001b[36m(launch_and_evaluate pid=906)\u001b[0m Updated model\n",
      "\u001b[36m(launch_and_evaluate pid=984)\u001b[0m [Client 0] evaluate, config: {}\n",
      "\u001b[36m(launch_and_evaluate pid=984)\u001b[0m Updated model\n",
      "\u001b[36m(launch_and_evaluate pid=1060)\u001b[0m Run with homomorphic encryption\u001b[32m [repeated 2x across cluster]\u001b[0m\n",
      "\u001b[36m(launch_and_evaluate pid=982)\u001b[0m [Client 2] evaluate, config: {}\n",
      "\u001b[36m(launch_and_evaluate pid=982)\u001b[0m Updated model\n",
      "\u001b[36m(launch_and_evaluate pid=1060)\u001b[0m [Client 8] evaluate, config: {}\n",
      "\u001b[36m(launch_and_evaluate pid=1060)\u001b[0m Updated model\n",
      "\u001b[36m(launch_and_evaluate pid=1138)\u001b[0m Run with homomorphic encryption\u001b[32m [repeated 2x across cluster]\u001b[0m\n",
      "\u001b[36m(launch_and_evaluate pid=1062)\u001b[0m [Client 7] evaluate, config: {}\n",
      "\u001b[36m(launch_and_evaluate pid=1062)\u001b[0m Updated model\n",
      "\u001b[36m(launch_and_evaluate pid=1138)\u001b[0m [Client 9] evaluate, config: {}\n",
      "\u001b[36m(launch_and_evaluate pid=1138)\u001b[0m Updated model\n"
     ]
    },
    {
     "name": "stderr",
     "output_type": "stream",
     "text": [
      "DEBUG flwr 2024-07-20 18:31:13,710 | server.py:187 | evaluate_round 1 received 10 results and 0 failures\n",
      "DEBUG flwr 2024-07-20 18:31:13,711 | server.py:222 | fit_round 2: strategy sampled 10 clients (out of 10)\n"
     ]
    },
    {
     "name": "stdout",
     "output_type": "stream",
     "text": [
      "\u001b[36m(launch_and_fit pid=1225)\u001b[0m Run with homomorphic encryption\u001b[32m [repeated 2x across cluster]\u001b[0m\n",
      "\u001b[36m(launch_and_evaluate pid=1140)\u001b[0m [Client 6] evaluate, config: {}\n",
      "\u001b[36m(launch_and_evaluate pid=1140)\u001b[0m Updated model\n",
      "\u001b[36m(launch_and_fit pid=1225)\u001b[0m [Client 4, round 2] fit, config: {'learning_rate': 0.001, 'batch_size': '128', 'server_round': 2, 'local_epochs': 10}\n"
     ]
    },
    {
     "name": "stderr",
     "output_type": "stream",
     "text": [
      "  0%|\u001b[34m          \u001b[0m| 0/10 [00:00<?, ?it/s]\n",
      "100%|\u001b[34m██████████\u001b[0m| 10/10 [00:58<00:00,  5.85s/it]\n"
     ]
    },
    {
     "name": "stdout",
     "output_type": "stream",
     "text": [
      "\u001b[36m(launch_and_fit pid=1225)\u001b[0m Updated model\n"
     ]
    },
    {
     "name": "stderr",
     "output_type": "stream",
     "text": [
      " 10%|\u001b[34m█         \u001b[0m| 1/10 [00:06<00:54,  6.02s/it]\n",
      "  0%|\u001b[34m          \u001b[0m| 0/10 [00:00<?, ?it/s]\n"
     ]
    },
    {
     "name": "stdout",
     "output_type": "stream",
     "text": [
      "\u001b[36m(launch_and_fit pid=1225)\u001b[0m \tTrain Epoch: 1 \tTrain_loss: 2.2385 | Train_acc: 12.7648 % | Validation_loss: 2.1464 | Validation_acc: 13.2745 %\n",
      "\u001b[36m(launch_and_fit pid=1249)\u001b[0m Run with homomorphic encryption\n",
      "\u001b[36m(launch_and_fit pid=1249)\u001b[0m [Client 9, round 2] fit, config: {'learning_rate': 0.001, 'batch_size': '128', 'server_round': 2, 'local_epochs': 10}\n",
      "\u001b[36m(launch_and_fit pid=1249)\u001b[0m Updated model\n"
     ]
    },
    {
     "name": "stderr",
     "output_type": "stream",
     "text": [
      " 20%|\u001b[34m██        \u001b[0m| 2/10 [00:11<00:47,  5.97s/it]\u001b[32m [repeated 2x across cluster]\u001b[0m\n"
     ]
    },
    {
     "name": "stdout",
     "output_type": "stream",
     "text": [
      "\u001b[36m(launch_and_fit pid=1225)\u001b[0m \tTrain Epoch: 2 \tTrain_loss: 2.0932 | Train_acc: 17.5000 % | Validation_loss: 2.0719 | Validation_acc: 18.6490 %\u001b[32m [repeated 2x across cluster]\u001b[0m\n"
     ]
    },
    {
     "name": "stderr",
     "output_type": "stream",
     "text": [
      " 30%|\u001b[34m███       \u001b[0m| 3/10 [00:17<00:41,  5.92s/it]\u001b[32m [repeated 2x across cluster]\u001b[0m\n"
     ]
    },
    {
     "name": "stdout",
     "output_type": "stream",
     "text": [
      "\u001b[36m(launch_and_fit pid=1225)\u001b[0m \tTrain Epoch: 3 \tTrain_loss: 2.0353 | Train_acc: 18.5156 % | Validation_loss: 2.0207 | Validation_acc: 27.3842 %\u001b[32m [repeated 2x across cluster]\u001b[0m\n"
     ]
    },
    {
     "name": "stderr",
     "output_type": "stream",
     "text": [
      " 40%|\u001b[34m████      \u001b[0m| 4/10 [00:23<00:34,  5.79s/it]\u001b[32m [repeated 2x across cluster]\u001b[0m\n"
     ]
    },
    {
     "name": "stdout",
     "output_type": "stream",
     "text": [
      "\u001b[36m(launch_and_fit pid=1225)\u001b[0m \tTrain Epoch: 4 \tTrain_loss: 1.9975 | Train_acc: 19.8438 % | Validation_loss: 1.9929 | Validation_acc: 21.6730 %\u001b[32m [repeated 2x across cluster]\u001b[0m\n"
     ]
    },
    {
     "name": "stderr",
     "output_type": "stream",
     "text": [
      " 50%|\u001b[34m█████     \u001b[0m| 5/10 [00:29<00:28,  5.78s/it]\u001b[32m [repeated 2x across cluster]\u001b[0m\n"
     ]
    },
    {
     "name": "stdout",
     "output_type": "stream",
     "text": [
      "\u001b[36m(launch_and_fit pid=1225)\u001b[0m \tTrain Epoch: 5 \tTrain_loss: 1.9725 | Train_acc: 19.8655 % | Validation_loss: 1.9887 | Validation_acc: 22.7505 %\u001b[32m [repeated 2x across cluster]\u001b[0m\n"
     ]
    },
    {
     "name": "stderr",
     "output_type": "stream",
     "text": [
      " 60%|\u001b[34m██████    \u001b[0m| 6/10 [00:34<00:22,  5.69s/it]\u001b[32m [repeated 2x across cluster]\u001b[0m\n"
     ]
    },
    {
     "name": "stdout",
     "output_type": "stream",
     "text": [
      "\u001b[36m(launch_and_fit pid=1225)\u001b[0m \tTrain Epoch: 6 \tTrain_loss: 1.9381 | Train_acc: 19.3967 % | Validation_loss: 1.9643 | Validation_acc: 22.3599 %\u001b[32m [repeated 2x across cluster]\u001b[0m\n"
     ]
    },
    {
     "name": "stderr",
     "output_type": "stream",
     "text": [
      " 70%|\u001b[34m███████   \u001b[0m| 7/10 [00:40<00:17,  5.70s/it]\u001b[32m [repeated 2x across cluster]\u001b[0m\n"
     ]
    },
    {
     "name": "stdout",
     "output_type": "stream",
     "text": [
      "\u001b[36m(launch_and_fit pid=1225)\u001b[0m \tTrain Epoch: 7 \tTrain_loss: 1.9204 | Train_acc: 20.0391 % | Validation_loss: 1.9388 | Validation_acc: 23.3567 %\u001b[32m [repeated 2x across cluster]\u001b[0m\n"
     ]
    },
    {
     "name": "stderr",
     "output_type": "stream",
     "text": [
      " 80%|\u001b[34m████████  \u001b[0m| 8/10 [00:46<00:11,  5.75s/it]\u001b[32m [repeated 2x across cluster]\u001b[0m\n"
     ]
    },
    {
     "name": "stdout",
     "output_type": "stream",
     "text": [
      "\u001b[36m(launch_and_fit pid=1225)\u001b[0m \tTrain Epoch: 8 \tTrain_loss: 1.9075 | Train_acc: 21.4931 % | Validation_loss: 1.9173 | Validation_acc: 22.5552 %\u001b[32m [repeated 2x across cluster]\u001b[0m\n"
     ]
    },
    {
     "name": "stderr",
     "output_type": "stream",
     "text": [
      " 90%|\u001b[34m█████████ \u001b[0m| 9/10 [00:51<00:05,  5.74s/it]\u001b[32m [repeated 2x across cluster]\u001b[0m\n"
     ]
    },
    {
     "name": "stdout",
     "output_type": "stream",
     "text": [
      "\u001b[36m(launch_and_fit pid=1225)\u001b[0m \tTrain Epoch: 9 \tTrain_loss: 1.8858 | Train_acc: 20.9939 % | Validation_loss: 1.9234 | Validation_acc: 23.9022 %\u001b[32m [repeated 2x across cluster]\u001b[0m\n"
     ]
    },
    {
     "name": "stderr",
     "output_type": "stream",
     "text": [
      "100%|\u001b[34m██████████\u001b[0m| 10/10 [00:57<00:00,  5.76s/it]\u001b[32m [repeated 2x across cluster]\u001b[0m\n"
     ]
    },
    {
     "name": "stdout",
     "output_type": "stream",
     "text": [
      "\u001b[36m(launch_and_fit pid=1225)\u001b[0m save graph in  results/FL/\n",
      "\u001b[36m(launch_and_fit pid=1225)\u001b[0m \tTrain Epoch: 10 \tTrain_loss: 1.8696 | Train_acc: 22.3785 % | Validation_loss: 1.9286 | Validation_acc: 24.8788 %\u001b[32m [repeated 2x across cluster]\u001b[0m\n",
      "\u001b[36m(launch_and_fit pid=1225)\u001b[0m network.0.weight 5.0067901611328125e-06\n",
      "\u001b[36m(launch_and_fit pid=1225)\u001b[0m network.0.bias 1.430511474609375e-06\n",
      "\u001b[36m(launch_and_fit pid=1225)\u001b[0m network.2.weight 1.1920928955078125e-06\n",
      "\u001b[36m(launch_and_fit pid=1225)\u001b[0m network.2.bias 1.1920928955078125e-06\n",
      "\u001b[36m(launch_and_fit pid=1225)\u001b[0m network.5.weight 9.5367431640625e-07\n",
      "\u001b[36m(launch_and_fit pid=1225)\u001b[0m network.5.bias 9.5367431640625e-07\n",
      "\u001b[36m(launch_and_fit pid=1225)\u001b[0m network.7.weight 9.5367431640625e-07\n",
      "\u001b[36m(launch_and_fit pid=1225)\u001b[0m network.7.bias 1.1920928955078125e-06\n",
      "\u001b[36m(launch_and_fit pid=1225)\u001b[0m network.10.weight 9.5367431640625e-07\n",
      "\u001b[36m(launch_and_fit pid=1225)\u001b[0m network.10.bias 9.5367431640625e-07\n",
      "\u001b[36m(launch_and_fit pid=1225)\u001b[0m network.12.weight 1.1920928955078125e-06\n",
      "\u001b[36m(launch_and_fit pid=1225)\u001b[0m network.12.bias 9.5367431640625e-07\n",
      "\u001b[36m(launch_and_fit pid=1225)\u001b[0m network.16.weight 9.5367431640625e-07\n",
      "\u001b[36m(launch_and_fit pid=1225)\u001b[0m network.16.bias 7.152557373046875e-07\n",
      "\u001b[36m(launch_and_fit pid=1225)\u001b[0m network.18.weight 9.5367431640625e-07\n",
      "\u001b[36m(launch_and_fit pid=1225)\u001b[0m network.18.bias 9.5367431640625e-07\n",
      "\u001b[36m(launch_and_fit pid=1225)\u001b[0m network.20.weight 9.5367431640625e-07\n",
      "\u001b[36m(launch_and_fit pid=1225)\u001b[0m network.20.bias 1.1920928955078125e-06\n",
      "\u001b[36m(launch_and_fit pid=1225)\u001b[0m qnn.weights 9.5367431640625e-07\n",
      "\u001b[36m(launch_and_fit pid=1225)\u001b[0m fc4.weight 9.5367431640625e-07\n",
      "\u001b[36m(launch_and_fit pid=1225)\u001b[0m fc4.bias 1.1920928955078125e-06\n",
      "\u001b[36m(launch_and_fit pid=1308)\u001b[0m Run with homomorphic encryption\n",
      "\u001b[36m(launch_and_fit pid=1249)\u001b[0m save graph in  results/FL/\n",
      "\u001b[36m(launch_and_fit pid=1249)\u001b[0m \tTrain Epoch: 10 \tTrain_loss: 1.8615 | Train_acc: 24.2535 % | Validation_loss: 1.9007 | Validation_acc: 21.1342 %\n",
      "\u001b[36m(launch_and_fit pid=1249)\u001b[0m fc4.bias 1.6689300537109375e-06\u001b[32m [repeated 20x across cluster]\u001b[0m\n",
      "\u001b[36m(launch_and_fit pid=1249)\u001b[0m qnn.weights 1.430511474609375e-06\n",
      "\u001b[36m(launch_and_fit pid=1308)\u001b[0m [Client 6, round 2] fit, config: {'learning_rate': 0.001, 'batch_size': '128', 'server_round': 2, 'local_epochs': 10}\n"
     ]
    },
    {
     "name": "stderr",
     "output_type": "stream",
     "text": [
      "  0%|\u001b[34m          \u001b[0m| 0/10 [00:00<?, ?it/s]\n",
      "100%|\u001b[34m██████████\u001b[0m| 10/10 [00:59<00:00,  5.94s/it]\n"
     ]
    },
    {
     "name": "stdout",
     "output_type": "stream",
     "text": [
      "\u001b[36m(launch_and_fit pid=1308)\u001b[0m Updated model\n",
      "\u001b[36m(launch_and_fit pid=1333)\u001b[0m Run with homomorphic encryption\n"
     ]
    },
    {
     "name": "stderr",
     "output_type": "stream",
     "text": [
      " 10%|\u001b[34m█         \u001b[0m| 1/10 [00:06<00:56,  6.31s/it]\n",
      "  0%|\u001b[34m          \u001b[0m| 0/10 [00:00<?, ?it/s]\n"
     ]
    },
    {
     "name": "stdout",
     "output_type": "stream",
     "text": [
      "\u001b[36m(launch_and_fit pid=1308)\u001b[0m \tTrain Epoch: 1 \tTrain_loss: 2.2151 | Train_acc: 15.2300 % | Validation_loss: 2.1153 | Validation_acc: 20.5617 %\n",
      "\u001b[36m(launch_and_fit pid=1333)\u001b[0m [Client 2, round 2] fit, config: {'learning_rate': 0.001, 'batch_size': '128', 'server_round': 2, 'local_epochs': 10}\n",
      "\u001b[36m(launch_and_fit pid=1333)\u001b[0m Updated model\n"
     ]
    },
    {
     "name": "stderr",
     "output_type": "stream",
     "text": [
      " 20%|\u001b[34m██        \u001b[0m| 2/10 [00:11<00:47,  5.90s/it]\u001b[32m [repeated 2x across cluster]\u001b[0m\n"
     ]
    },
    {
     "name": "stdout",
     "output_type": "stream",
     "text": [
      "\u001b[36m(launch_and_fit pid=1308)\u001b[0m \tTrain Epoch: 2 \tTrain_loss: 2.0849 | Train_acc: 20.2865 % | Validation_loss: 2.0634 | Validation_acc: 21.1342 %\u001b[32m [repeated 2x across cluster]\u001b[0m\n"
     ]
    },
    {
     "name": "stderr",
     "output_type": "stream",
     "text": [
      " 30%|\u001b[34m███       \u001b[0m| 3/10 [00:17<00:40,  5.75s/it]\u001b[32m [repeated 2x across cluster]\u001b[0m\n"
     ]
    },
    {
     "name": "stdout",
     "output_type": "stream",
     "text": [
      "\u001b[36m(launch_and_fit pid=1308)\u001b[0m \tTrain Epoch: 3 \tTrain_loss: 2.0482 | Train_acc: 20.8464 % | Validation_loss: 2.0274 | Validation_acc: 22.0097 %\u001b[32m [repeated 2x across cluster]\u001b[0m\n"
     ]
    },
    {
     "name": "stderr",
     "output_type": "stream",
     "text": [
      " 40%|\u001b[34m████      \u001b[0m| 4/10 [00:23<00:33,  5.66s/it]\u001b[32m [repeated 2x across cluster]\u001b[0m\n"
     ]
    },
    {
     "name": "stdout",
     "output_type": "stream",
     "text": [
      "\u001b[36m(launch_and_fit pid=1308)\u001b[0m \tTrain Epoch: 4 \tTrain_loss: 1.9916 | Train_acc: 21.9748 % | Validation_loss: 1.9786 | Validation_acc: 20.8580 %\u001b[32m [repeated 2x across cluster]\u001b[0m\n"
     ]
    },
    {
     "name": "stderr",
     "output_type": "stream",
     "text": [
      " 50%|\u001b[34m█████     \u001b[0m| 5/10 [00:28<00:28,  5.70s/it]\u001b[32m [repeated 2x across cluster]\u001b[0m\n"
     ]
    },
    {
     "name": "stdout",
     "output_type": "stream",
     "text": [
      "\u001b[36m(launch_and_fit pid=1308)\u001b[0m \tTrain Epoch: 5 \tTrain_loss: 1.9601 | Train_acc: 22.4566 % | Validation_loss: 1.9516 | Validation_acc: 21.6797 %\u001b[32m [repeated 2x across cluster]\u001b[0m\n"
     ]
    },
    {
     "name": "stderr",
     "output_type": "stream",
     "text": [
      " 60%|\u001b[34m██████    \u001b[0m| 6/10 [00:34<00:23,  5.77s/it]\u001b[32m [repeated 2x across cluster]\u001b[0m\n"
     ]
    },
    {
     "name": "stdout",
     "output_type": "stream",
     "text": [
      "\u001b[36m(launch_and_fit pid=1308)\u001b[0m \tTrain Epoch: 6 \tTrain_loss: 1.9320 | Train_acc: 22.5000 % | Validation_loss: 1.9202 | Validation_acc: 22.6765 %\u001b[32m [repeated 2x across cluster]\u001b[0m\n"
     ]
    },
    {
     "name": "stderr",
     "output_type": "stream",
     "text": [
      " 70%|\u001b[34m███████   \u001b[0m| 7/10 [00:40<00:17,  5.76s/it]\u001b[32m [repeated 2x across cluster]\u001b[0m\n"
     ]
    },
    {
     "name": "stdout",
     "output_type": "stream",
     "text": [
      "\u001b[36m(launch_and_fit pid=1308)\u001b[0m \tTrain Epoch: 7 \tTrain_loss: 1.9073 | Train_acc: 24.3142 % | Validation_loss: 1.9210 | Validation_acc: 23.2624 %\u001b[32m [repeated 2x across cluster]\u001b[0m\n"
     ]
    },
    {
     "name": "stderr",
     "output_type": "stream",
     "text": [
      " 80%|\u001b[34m████████  \u001b[0m| 8/10 [00:46<00:11,  5.88s/it]\u001b[32m [repeated 2x across cluster]\u001b[0m\n"
     ]
    },
    {
     "name": "stdout",
     "output_type": "stream",
     "text": [
      "\u001b[36m(launch_and_fit pid=1308)\u001b[0m \tTrain Epoch: 8 \tTrain_loss: 1.8847 | Train_acc: 24.7222 % | Validation_loss: 1.9577 | Validation_acc: 22.5013 %\u001b[32m [repeated 2x across cluster]\u001b[0m\n"
     ]
    },
    {
     "name": "stderr",
     "output_type": "stream",
     "text": [
      " 90%|\u001b[34m█████████ \u001b[0m| 9/10 [00:52<00:05,  5.78s/it]\u001b[32m [repeated 2x across cluster]\u001b[0m\n"
     ]
    },
    {
     "name": "stdout",
     "output_type": "stream",
     "text": [
      "\u001b[36m(launch_and_fit pid=1308)\u001b[0m \tTrain Epoch: 9 \tTrain_loss: 1.8856 | Train_acc: 25.2257 % | Validation_loss: 1.8843 | Validation_acc: 24.3400 %\u001b[32m [repeated 2x across cluster]\u001b[0m\n"
     ]
    },
    {
     "name": "stderr",
     "output_type": "stream",
     "text": [
      "100%|\u001b[34m██████████\u001b[0m| 10/10 [00:57<00:00,  5.80s/it]\u001b[32m [repeated 2x across cluster]\u001b[0m\n"
     ]
    },
    {
     "name": "stdout",
     "output_type": "stream",
     "text": [
      "\u001b[36m(launch_and_fit pid=1308)\u001b[0m save graph in  results/FL/\n",
      "\u001b[36m(launch_and_fit pid=1308)\u001b[0m \tTrain Epoch: 10 \tTrain_loss: 1.8480 | Train_acc: 25.2083 % | Validation_loss: 1.8803 | Validation_acc: 23.7877 %\u001b[32m [repeated 2x across cluster]\u001b[0m\n",
      "\u001b[36m(launch_and_fit pid=1308)\u001b[0m network.0.weight 4.5299530029296875e-06\n",
      "\u001b[36m(launch_and_fit pid=1308)\u001b[0m network.0.bias 1.430511474609375e-06\n",
      "\u001b[36m(launch_and_fit pid=1308)\u001b[0m network.2.weight 1.430511474609375e-06\n",
      "\u001b[36m(launch_and_fit pid=1308)\u001b[0m network.2.bias 1.1920928955078125e-06\n",
      "\u001b[36m(launch_and_fit pid=1308)\u001b[0m network.5.weight 1.1920928955078125e-06\n",
      "\u001b[36m(launch_and_fit pid=1308)\u001b[0m network.5.bias 1.1920928955078125e-06\n",
      "\u001b[36m(launch_and_fit pid=1308)\u001b[0m network.7.weight 9.5367431640625e-07\n",
      "\u001b[36m(launch_and_fit pid=1308)\u001b[0m network.7.bias 1.6689300537109375e-06\n",
      "\u001b[36m(launch_and_fit pid=1308)\u001b[0m network.10.weight 1.9073486328125e-06\n",
      "\u001b[36m(launch_and_fit pid=1308)\u001b[0m network.10.bias 1.430511474609375e-06\n",
      "\u001b[36m(launch_and_fit pid=1308)\u001b[0m network.12.weight 1.1920928955078125e-06\n",
      "\u001b[36m(launch_and_fit pid=1308)\u001b[0m network.12.bias 1.1920928955078125e-06\n",
      "\u001b[36m(launch_and_fit pid=1308)\u001b[0m network.16.weight 1.1920928955078125e-06\n",
      "\u001b[36m(launch_and_fit pid=1308)\u001b[0m network.16.bias 1.1920928955078125e-06\n",
      "\u001b[36m(launch_and_fit pid=1308)\u001b[0m network.18.weight 1.1920928955078125e-06\n",
      "\u001b[36m(launch_and_fit pid=1308)\u001b[0m network.18.bias 1.1920928955078125e-06\n",
      "\u001b[36m(launch_and_fit pid=1308)\u001b[0m network.20.weight 1.1920928955078125e-06\n",
      "\u001b[36m(launch_and_fit pid=1308)\u001b[0m network.20.bias 9.5367431640625e-07\n",
      "\u001b[36m(launch_and_fit pid=1308)\u001b[0m qnn.weights 1.1920928955078125e-06\n",
      "\u001b[36m(launch_and_fit pid=1308)\u001b[0m fc4.weight 1.1920928955078125e-06\n",
      "\u001b[36m(launch_and_fit pid=1308)\u001b[0m fc4.bias 1.1920928955078125e-06\n",
      "\u001b[36m(launch_and_fit pid=1391)\u001b[0m Run with homomorphic encryption\n",
      "\u001b[36m(launch_and_fit pid=1333)\u001b[0m save graph in  results/FL/\n",
      "\u001b[36m(launch_and_fit pid=1333)\u001b[0m \tTrain Epoch: 10 \tTrain_loss: 1.8267 | Train_acc: 25.2691 % | Validation_loss: 1.8824 | Validation_acc: 20.9388 %\n",
      "\u001b[36m(launch_and_fit pid=1333)\u001b[0m fc4.bias 1.1920928955078125e-06\u001b[32m [repeated 20x across cluster]\u001b[0m\n",
      "\u001b[36m(launch_and_fit pid=1333)\u001b[0m qnn.weights 1.1920928955078125e-06\n",
      "\u001b[36m(launch_and_fit pid=1391)\u001b[0m [Client 5, round 2] fit, config: {'learning_rate': 0.001, 'batch_size': '128', 'server_round': 2, 'local_epochs': 10}\n",
      "\u001b[36m(launch_and_fit pid=1391)\u001b[0m Updated model\n"
     ]
    },
    {
     "name": "stderr",
     "output_type": "stream",
     "text": [
      "  0%|\u001b[34m          \u001b[0m| 0/10 [00:00<?, ?it/s]\n",
      "100%|\u001b[34m██████████\u001b[0m| 10/10 [00:58<00:00,  5.86s/it]\n"
     ]
    },
    {
     "name": "stdout",
     "output_type": "stream",
     "text": [
      "\u001b[36m(launch_and_fit pid=1415)\u001b[0m Run with homomorphic encryption\n",
      "\u001b[36m(launch_and_fit pid=1391)\u001b[0m \tTrain Epoch: 1 \tTrain_loss: 2.2167 | Train_acc: 15.9115 % | Validation_loss: 2.1120 | Validation_acc: 18.4335 %\n",
      "\u001b[36m(launch_and_fit pid=1415)\u001b[0m [Client 7, round 2] fit, config: {'learning_rate': 0.001, 'batch_size': '128', 'server_round': 2, 'local_epochs': 10}\n",
      "\u001b[36m(launch_and_fit pid=1415)\u001b[0m Updated model\n"
     ]
    },
    {
     "name": "stderr",
     "output_type": "stream",
     "text": [
      " 10%|\u001b[34m█         \u001b[0m| 1/10 [00:06<00:56,  6.31s/it]\n",
      "  0%|\u001b[34m          \u001b[0m| 0/10 [00:00<?, ?it/s]\n"
     ]
    },
    {
     "name": "stdout",
     "output_type": "stream",
     "text": [
      "\u001b[36m(launch_and_fit pid=1391)\u001b[0m \tTrain Epoch: 2 \tTrain_loss: 2.0925 | Train_acc: 18.7240 % | Validation_loss: 2.0518 | Validation_acc: 18.4537 %\u001b[32m [repeated 2x across cluster]\u001b[0m\n"
     ]
    },
    {
     "name": "stderr",
     "output_type": "stream",
     "text": [
      " 20%|\u001b[34m██        \u001b[0m| 2/10 [00:12<00:48,  6.03s/it]\u001b[32m [repeated 2x across cluster]\u001b[0m\n"
     ]
    },
    {
     "name": "stdout",
     "output_type": "stream",
     "text": [
      "\u001b[36m(launch_and_fit pid=1391)\u001b[0m \tTrain Epoch: 3 \tTrain_loss: 2.0287 | Train_acc: 19.8351 % | Validation_loss: 2.0138 | Validation_acc: 17.0663 %\u001b[32m [repeated 2x across cluster]\u001b[0m\n"
     ]
    },
    {
     "name": "stderr",
     "output_type": "stream",
     "text": [
      " 30%|\u001b[34m███       \u001b[0m| 3/10 [00:17<00:41,  5.91s/it]\u001b[32m [repeated 2x across cluster]\u001b[0m\n"
     ]
    },
    {
     "name": "stdout",
     "output_type": "stream",
     "text": [
      "\u001b[36m(launch_and_fit pid=1391)\u001b[0m \tTrain Epoch: 4 \tTrain_loss: 1.9901 | Train_acc: 19.0365 % | Validation_loss: 1.9937 | Validation_acc: 18.6288 %\u001b[32m [repeated 2x across cluster]\u001b[0m\n"
     ]
    },
    {
     "name": "stderr",
     "output_type": "stream",
     "text": [
      " 40%|\u001b[34m████      \u001b[0m| 4/10 [00:23<00:35,  5.94s/it]\u001b[32m [repeated 2x across cluster]\u001b[0m\n"
     ]
    },
    {
     "name": "stdout",
     "output_type": "stream",
     "text": [
      "\u001b[36m(launch_and_fit pid=1391)\u001b[0m \tTrain Epoch: 5 \tTrain_loss: 1.9797 | Train_acc: 18.4679 % | Validation_loss: 1.9713 | Validation_acc: 17.4771 %\u001b[32m [repeated 2x across cluster]\u001b[0m\n"
     ]
    },
    {
     "name": "stderr",
     "output_type": "stream",
     "text": [
      " 50%|\u001b[34m█████     \u001b[0m| 5/10 [00:29<00:29,  5.89s/it]\u001b[32m [repeated 2x across cluster]\u001b[0m\n"
     ]
    },
    {
     "name": "stdout",
     "output_type": "stream",
     "text": [
      "\u001b[36m(launch_and_fit pid=1391)\u001b[0m \tTrain Epoch: 6 \tTrain_loss: 1.9399 | Train_acc: 21.2457 % | Validation_loss: 1.9721 | Validation_acc: 19.3494 %\u001b[32m [repeated 2x across cluster]\u001b[0m\n"
     ]
    },
    {
     "name": "stderr",
     "output_type": "stream",
     "text": [
      " 60%|\u001b[34m██████    \u001b[0m| 6/10 [00:35<00:23,  5.88s/it]\u001b[32m [repeated 2x across cluster]\u001b[0m\n"
     ]
    },
    {
     "name": "stdout",
     "output_type": "stream",
     "text": [
      "\u001b[36m(launch_and_fit pid=1391)\u001b[0m \tTrain Epoch: 7 \tTrain_loss: 1.9331 | Train_acc: 21.1285 % | Validation_loss: 1.9744 | Validation_acc: 19.0194 %\u001b[32m [repeated 2x across cluster]\u001b[0m\n"
     ]
    },
    {
     "name": "stderr",
     "output_type": "stream",
     "text": [
      " 70%|\u001b[34m███████   \u001b[0m| 7/10 [00:41<00:17,  5.85s/it]\u001b[32m [repeated 2x across cluster]\u001b[0m\n"
     ]
    },
    {
     "name": "stdout",
     "output_type": "stream",
     "text": [
      "\u001b[36m(launch_and_fit pid=1391)\u001b[0m \tTrain Epoch: 8 \tTrain_loss: 1.9066 | Train_acc: 22.7300 % | Validation_loss: 1.9250 | Validation_acc: 20.9523 %\u001b[32m [repeated 2x across cluster]\u001b[0m\n"
     ]
    },
    {
     "name": "stderr",
     "output_type": "stream",
     "text": [
      " 80%|\u001b[34m████████  \u001b[0m| 8/10 [00:47<00:11,  5.91s/it]\u001b[32m [repeated 2x across cluster]\u001b[0m\n"
     ]
    },
    {
     "name": "stdout",
     "output_type": "stream",
     "text": [
      "\u001b[36m(launch_and_fit pid=1391)\u001b[0m \tTrain Epoch: 9 \tTrain_loss: 1.8929 | Train_acc: 21.9444 % | Validation_loss: 1.9523 | Validation_acc: 19.1541 %\u001b[32m [repeated 2x across cluster]\u001b[0m\n"
     ]
    },
    {
     "name": "stderr",
     "output_type": "stream",
     "text": [
      " 90%|\u001b[34m█████████ \u001b[0m| 9/10 [00:53<00:05,  5.97s/it]\u001b[32m [repeated 2x across cluster]\u001b[0m\n"
     ]
    },
    {
     "name": "stdout",
     "output_type": "stream",
     "text": [
      "\u001b[36m(launch_and_fit pid=1391)\u001b[0m save graph in  results/FL/\n",
      "\u001b[36m(launch_and_fit pid=1391)\u001b[0m \tTrain Epoch: 10 \tTrain_loss: 1.8854 | Train_acc: 22.8429 % | Validation_loss: 1.9096 | Validation_acc: 21.0331 %\u001b[32m [repeated 2x across cluster]\u001b[0m\n"
     ]
    },
    {
     "name": "stderr",
     "output_type": "stream",
     "text": [
      "100%|\u001b[34m██████████\u001b[0m| 10/10 [00:59<00:00,  5.95s/it]\u001b[32m [repeated 2x across cluster]\u001b[0m\n"
     ]
    },
    {
     "name": "stdout",
     "output_type": "stream",
     "text": [
      "\u001b[36m(launch_and_fit pid=1391)\u001b[0m network.0.weight 5.4836273193359375e-06\n",
      "\u001b[36m(launch_and_fit pid=1391)\u001b[0m network.0.bias 1.6689300537109375e-06\n",
      "\u001b[36m(launch_and_fit pid=1391)\u001b[0m network.2.weight 1.1920928955078125e-06\n",
      "\u001b[36m(launch_and_fit pid=1391)\u001b[0m network.2.bias 9.5367431640625e-07\n",
      "\u001b[36m(launch_and_fit pid=1391)\u001b[0m network.5.weight 1.430511474609375e-06\n",
      "\u001b[36m(launch_and_fit pid=1391)\u001b[0m network.5.bias 1.430511474609375e-06\n",
      "\u001b[36m(launch_and_fit pid=1391)\u001b[0m network.7.weight 9.5367431640625e-07\n",
      "\u001b[36m(launch_and_fit pid=1391)\u001b[0m network.7.bias 9.5367431640625e-07\n",
      "\u001b[36m(launch_and_fit pid=1391)\u001b[0m network.10.weight 1.1920928955078125e-06\n",
      "\u001b[36m(launch_and_fit pid=1391)\u001b[0m network.10.bias 1.430511474609375e-06\n",
      "\u001b[36m(launch_and_fit pid=1391)\u001b[0m network.12.weight 1.1920928955078125e-06\n",
      "\u001b[36m(launch_and_fit pid=1391)\u001b[0m network.12.bias 9.5367431640625e-07\n",
      "\u001b[36m(launch_and_fit pid=1391)\u001b[0m network.16.weight 9.5367431640625e-07\n",
      "\u001b[36m(launch_and_fit pid=1391)\u001b[0m network.16.bias 9.5367431640625e-07\n",
      "\u001b[36m(launch_and_fit pid=1391)\u001b[0m network.18.weight 1.1920928955078125e-06\n",
      "\u001b[36m(launch_and_fit pid=1391)\u001b[0m network.18.bias 1.1920928955078125e-06\n",
      "\u001b[36m(launch_and_fit pid=1391)\u001b[0m network.20.weight 1.1920928955078125e-06\n",
      "\u001b[36m(launch_and_fit pid=1391)\u001b[0m network.20.bias 9.5367431640625e-07\n",
      "\u001b[36m(launch_and_fit pid=1391)\u001b[0m qnn.weights 1.1920928955078125e-06\n",
      "\u001b[36m(launch_and_fit pid=1391)\u001b[0m fc4.weight 1.1920928955078125e-06\n",
      "\u001b[36m(launch_and_fit pid=1391)\u001b[0m fc4.bias 1.1920928955078125e-06\n",
      "\u001b[36m(launch_and_fit pid=1472)\u001b[0m Run with homomorphic encryption\n",
      "\u001b[36m(launch_and_fit pid=1415)\u001b[0m save graph in  results/FL/\n",
      "\u001b[36m(launch_and_fit pid=1415)\u001b[0m \tTrain Epoch: 10 \tTrain_loss: 1.8524 | Train_acc: 24.5052 % | Validation_loss: 2.0233 | Validation_acc: 21.2689 %\n",
      "\u001b[36m(launch_and_fit pid=1415)\u001b[0m fc4.bias 1.430511474609375e-06\u001b[32m [repeated 20x across cluster]\u001b[0m\n",
      "\u001b[36m(launch_and_fit pid=1415)\u001b[0m qnn.weights 1.6689300537109375e-06\n",
      "\u001b[36m(launch_and_fit pid=1472)\u001b[0m [Client 8, round 2] fit, config: {'learning_rate': 0.001, 'batch_size': '128', 'server_round': 2, 'local_epochs': 10}\n"
     ]
    },
    {
     "name": "stderr",
     "output_type": "stream",
     "text": [
      "  0%|\u001b[34m          \u001b[0m| 0/10 [00:00<?, ?it/s]\n",
      "100%|\u001b[34m██████████\u001b[0m| 10/10 [00:58<00:00,  5.86s/it]\n"
     ]
    },
    {
     "name": "stdout",
     "output_type": "stream",
     "text": [
      "\u001b[36m(launch_and_fit pid=1472)\u001b[0m Updated model\n"
     ]
    },
    {
     "name": "stderr",
     "output_type": "stream",
     "text": [
      " 10%|\u001b[34m█         \u001b[0m| 1/10 [00:06<00:55,  6.20s/it]\n",
      "  0%|\u001b[34m          \u001b[0m| 0/10 [00:00<?, ?it/s]\n"
     ]
    },
    {
     "name": "stdout",
     "output_type": "stream",
     "text": [
      "\u001b[36m(launch_and_fit pid=1472)\u001b[0m \tTrain Epoch: 1 \tTrain_loss: 2.2241 | Train_acc: 14.7526 % | Validation_loss: 2.1117 | Validation_acc: 16.4197 %\n",
      "\u001b[36m(launch_and_fit pid=1497)\u001b[0m Run with homomorphic encryption\n",
      "\u001b[36m(launch_and_fit pid=1497)\u001b[0m [Client 1, round 2] fit, config: {'learning_rate': 0.001, 'batch_size': '128', 'server_round': 2, 'local_epochs': 10}\n",
      "\u001b[36m(launch_and_fit pid=1497)\u001b[0m Updated model\n"
     ]
    },
    {
     "name": "stderr",
     "output_type": "stream",
     "text": [
      " 20%|\u001b[34m██        \u001b[0m| 2/10 [00:12<00:49,  6.19s/it]\u001b[32m [repeated 2x across cluster]\u001b[0m\n"
     ]
    },
    {
     "name": "stdout",
     "output_type": "stream",
     "text": [
      "\u001b[36m(launch_and_fit pid=1472)\u001b[0m \tTrain Epoch: 2 \tTrain_loss: 2.0857 | Train_acc: 17.4957 % | Validation_loss: 2.0491 | Validation_acc: 20.7974 %\u001b[32m [repeated 2x across cluster]\u001b[0m\n"
     ]
    },
    {
     "name": "stderr",
     "output_type": "stream",
     "text": [
      " 30%|\u001b[34m███       \u001b[0m| 3/10 [00:18<00:41,  5.97s/it]\u001b[32m [repeated 2x across cluster]\u001b[0m\n"
     ]
    },
    {
     "name": "stdout",
     "output_type": "stream",
     "text": [
      "\u001b[36m(launch_and_fit pid=1472)\u001b[0m \tTrain Epoch: 3 \tTrain_loss: 2.0271 | Train_acc: 19.2839 % | Validation_loss: 2.0170 | Validation_acc: 15.0121 %\u001b[32m [repeated 2x across cluster]\u001b[0m\n"
     ]
    },
    {
     "name": "stderr",
     "output_type": "stream",
     "text": [
      " 40%|\u001b[34m████      \u001b[0m| 4/10 [00:23<00:35,  5.88s/it]\u001b[32m [repeated 2x across cluster]\u001b[0m\n"
     ]
    },
    {
     "name": "stdout",
     "output_type": "stream",
     "text": [
      "\u001b[36m(launch_and_fit pid=1472)\u001b[0m \tTrain Epoch: 4 \tTrain_loss: 1.9950 | Train_acc: 19.7656 % | Validation_loss: 2.0086 | Validation_acc: 20.4472 %\u001b[32m [repeated 2x across cluster]\u001b[0m\n"
     ]
    },
    {
     "name": "stderr",
     "output_type": "stream",
     "text": [
      " 50%|\u001b[34m█████     \u001b[0m| 5/10 [00:29<00:28,  5.78s/it]\u001b[32m [repeated 2x across cluster]\u001b[0m\n"
     ]
    },
    {
     "name": "stdout",
     "output_type": "stream",
     "text": [
      "\u001b[36m(launch_and_fit pid=1472)\u001b[0m \tTrain Epoch: 5 \tTrain_loss: 1.9595 | Train_acc: 18.8845 % | Validation_loss: 1.9817 | Validation_acc: 18.7837 %\u001b[32m [repeated 2x across cluster]\u001b[0m\n"
     ]
    },
    {
     "name": "stderr",
     "output_type": "stream",
     "text": [
      " 60%|\u001b[34m██████    \u001b[0m| 6/10 [00:34<00:22,  5.70s/it]\u001b[32m [repeated 2x across cluster]\u001b[0m\n"
     ]
    },
    {
     "name": "stdout",
     "output_type": "stream",
     "text": [
      "\u001b[36m(launch_and_fit pid=1472)\u001b[0m \tTrain Epoch: 6 \tTrain_loss: 1.9342 | Train_acc: 19.9262 % | Validation_loss: 1.9290 | Validation_acc: 16.1032 %\u001b[32m [repeated 2x across cluster]\u001b[0m\n"
     ]
    },
    {
     "name": "stderr",
     "output_type": "stream",
     "text": [
      " 70%|\u001b[34m███████   \u001b[0m| 7/10 [00:40<00:17,  5.71s/it]\u001b[32m [repeated 2x across cluster]\u001b[0m\n"
     ]
    },
    {
     "name": "stdout",
     "output_type": "stream",
     "text": [
      "\u001b[36m(launch_and_fit pid=1472)\u001b[0m \tTrain Epoch: 7 \tTrain_loss: 1.9102 | Train_acc: 19.9349 % | Validation_loss: 1.9024 | Validation_acc: 22.5552 %\u001b[32m [repeated 2x across cluster]\u001b[0m\n"
     ]
    },
    {
     "name": "stderr",
     "output_type": "stream",
     "text": [
      " 80%|\u001b[34m████████  \u001b[0m| 8/10 [00:46<00:11,  5.78s/it]\u001b[32m [repeated 2x across cluster]\u001b[0m\n"
     ]
    },
    {
     "name": "stdout",
     "output_type": "stream",
     "text": [
      "\u001b[36m(launch_and_fit pid=1472)\u001b[0m \tTrain Epoch: 8 \tTrain_loss: 1.8910 | Train_acc: 21.5191 % | Validation_loss: 1.9767 | Validation_acc: 18.1775 %\u001b[32m [repeated 2x across cluster]\u001b[0m\n"
     ]
    },
    {
     "name": "stderr",
     "output_type": "stream",
     "text": [
      " 90%|\u001b[34m█████████ \u001b[0m| 9/10 [00:52<00:05,  5.70s/it]\u001b[32m [repeated 2x across cluster]\u001b[0m\n"
     ]
    },
    {
     "name": "stdout",
     "output_type": "stream",
     "text": [
      "\u001b[36m(launch_and_fit pid=1472)\u001b[0m \tTrain Epoch: 9 \tTrain_loss: 1.8761 | Train_acc: 21.7274 % | Validation_loss: 1.9864 | Validation_acc: 18.0024 %\u001b[32m [repeated 2x across cluster]\u001b[0m\n"
     ]
    },
    {
     "name": "stderr",
     "output_type": "stream",
     "text": [
      "100%|\u001b[34m██████████\u001b[0m| 10/10 [00:57<00:00,  5.78s/it]\u001b[32m [repeated 2x across cluster]\u001b[0m\n"
     ]
    },
    {
     "name": "stdout",
     "output_type": "stream",
     "text": [
      "\u001b[36m(launch_and_fit pid=1472)\u001b[0m save graph in  results/FL/\n",
      "\u001b[36m(launch_and_fit pid=1472)\u001b[0m \tTrain Epoch: 10 \tTrain_loss: 1.8603 | Train_acc: 22.4175 % | Validation_loss: 1.9128 | Validation_acc: 20.3462 %\u001b[32m [repeated 2x across cluster]\u001b[0m\n",
      "\u001b[36m(launch_and_fit pid=1472)\u001b[0m network.0.weight 4.76837158203125e-06\n",
      "\u001b[36m(launch_and_fit pid=1472)\u001b[0m network.0.bias 1.430511474609375e-06\n",
      "\u001b[36m(launch_and_fit pid=1472)\u001b[0m network.2.weight 1.430511474609375e-06\n",
      "\u001b[36m(launch_and_fit pid=1472)\u001b[0m network.2.bias 1.1920928955078125e-06\n",
      "\u001b[36m(launch_and_fit pid=1472)\u001b[0m network.5.weight 1.430511474609375e-06\n",
      "\u001b[36m(launch_and_fit pid=1472)\u001b[0m network.5.bias 1.1920928955078125e-06\n",
      "\u001b[36m(launch_and_fit pid=1472)\u001b[0m network.7.weight 1.1920928955078125e-06\n",
      "\u001b[36m(launch_and_fit pid=1472)\u001b[0m network.7.bias 1.430511474609375e-06\n",
      "\u001b[36m(launch_and_fit pid=1472)\u001b[0m network.10.weight 1.430511474609375e-06\n",
      "\u001b[36m(launch_and_fit pid=1472)\u001b[0m network.10.bias 9.5367431640625e-07\n",
      "\u001b[36m(launch_and_fit pid=1472)\u001b[0m network.12.weight 1.430511474609375e-06\n",
      "\u001b[36m(launch_and_fit pid=1472)\u001b[0m network.12.bias 9.5367431640625e-07\n",
      "\u001b[36m(launch_and_fit pid=1472)\u001b[0m network.16.weight 1.1920928955078125e-06\n",
      "\u001b[36m(launch_and_fit pid=1472)\u001b[0m network.16.bias 1.1920928955078125e-06\n",
      "\u001b[36m(launch_and_fit pid=1472)\u001b[0m network.18.weight 9.5367431640625e-07\n",
      "\u001b[36m(launch_and_fit pid=1472)\u001b[0m network.18.bias 9.5367431640625e-07\n",
      "\u001b[36m(launch_and_fit pid=1472)\u001b[0m network.20.weight 1.430511474609375e-06\n",
      "\u001b[36m(launch_and_fit pid=1472)\u001b[0m network.20.bias 1.1920928955078125e-06\n",
      "\u001b[36m(launch_and_fit pid=1472)\u001b[0m qnn.weights 1.1920928955078125e-06\n",
      "\u001b[36m(launch_and_fit pid=1472)\u001b[0m fc4.weight 9.5367431640625e-07\n",
      "\u001b[36m(launch_and_fit pid=1472)\u001b[0m fc4.bias 1.430511474609375e-06\n",
      "\u001b[36m(launch_and_fit pid=1554)\u001b[0m Run with homomorphic encryption\n",
      "\u001b[36m(launch_and_fit pid=1497)\u001b[0m save graph in  results/FL/\n",
      "\u001b[36m(launch_and_fit pid=1497)\u001b[0m \tTrain Epoch: 10 \tTrain_loss: 1.8440 | Train_acc: 27.5911 % | Validation_loss: 1.8734 | Validation_acc: 24.6296 %\n",
      "\u001b[36m(launch_and_fit pid=1497)\u001b[0m fc4.bias 1.6689300537109375e-06\u001b[32m [repeated 20x across cluster]\u001b[0m\n",
      "\u001b[36m(launch_and_fit pid=1497)\u001b[0m qnn.weights 1.6689300537109375e-06\n",
      "\u001b[36m(launch_and_fit pid=1554)\u001b[0m [Client 3, round 2] fit, config: {'learning_rate': 0.001, 'batch_size': '128', 'server_round': 2, 'local_epochs': 10}\n"
     ]
    },
    {
     "name": "stderr",
     "output_type": "stream",
     "text": [
      "  0%|\u001b[34m          \u001b[0m| 0/10 [00:00<?, ?it/s]\n",
      "100%|\u001b[34m██████████\u001b[0m| 10/10 [00:58<00:00,  5.85s/it]\n"
     ]
    },
    {
     "name": "stdout",
     "output_type": "stream",
     "text": [
      "\u001b[36m(launch_and_fit pid=1554)\u001b[0m Updated model\n"
     ]
    },
    {
     "name": "stderr",
     "output_type": "stream",
     "text": [
      " 10%|\u001b[34m█         \u001b[0m| 1/10 [00:06<00:59,  6.60s/it]\n",
      "  0%|\u001b[34m          \u001b[0m| 0/10 [00:00<?, ?it/s]\n"
     ]
    },
    {
     "name": "stdout",
     "output_type": "stream",
     "text": [
      "\u001b[36m(launch_and_fit pid=1554)\u001b[0m \tTrain Epoch: 1 \tTrain_loss: 2.2254 | Train_acc: 14.6398 % | Validation_loss: 2.1390 | Validation_acc: 16.9248 %\n",
      "\u001b[36m(launch_and_fit pid=1579)\u001b[0m Run with homomorphic encryption\n",
      "\u001b[36m(launch_and_fit pid=1579)\u001b[0m [Client 0, round 2] fit, config: {'learning_rate': 0.001, 'batch_size': '128', 'server_round': 2, 'local_epochs': 10}\n",
      "\u001b[36m(launch_and_fit pid=1579)\u001b[0m Updated model\n"
     ]
    },
    {
     "name": "stderr",
     "output_type": "stream",
     "text": [
      " 20%|\u001b[34m██        \u001b[0m| 2/10 [00:12<00:48,  6.05s/it]\u001b[32m [repeated 2x across cluster]\u001b[0m\n"
     ]
    },
    {
     "name": "stdout",
     "output_type": "stream",
     "text": [
      "\u001b[36m(launch_and_fit pid=1554)\u001b[0m \tTrain Epoch: 2 \tTrain_loss: 2.0937 | Train_acc: 18.1510 % | Validation_loss: 2.0714 | Validation_acc: 19.4706 %\u001b[32m [repeated 2x across cluster]\u001b[0m\n"
     ]
    },
    {
     "name": "stderr",
     "output_type": "stream",
     "text": [
      " 30%|\u001b[34m███       \u001b[0m| 3/10 [00:18<00:41,  5.94s/it]\u001b[32m [repeated 2x across cluster]\u001b[0m\n"
     ]
    },
    {
     "name": "stdout",
     "output_type": "stream",
     "text": [
      "\u001b[36m(launch_and_fit pid=1554)\u001b[0m \tTrain Epoch: 3 \tTrain_loss: 2.0318 | Train_acc: 21.2240 % | Validation_loss: 2.0254 | Validation_acc: 20.2317 %\u001b[32m [repeated 2x across cluster]\u001b[0m\n"
     ]
    },
    {
     "name": "stderr",
     "output_type": "stream",
     "text": [
      " 40%|\u001b[34m████      \u001b[0m| 4/10 [00:23<00:35,  5.84s/it]\u001b[32m [repeated 2x across cluster]\u001b[0m\n"
     ]
    },
    {
     "name": "stdout",
     "output_type": "stream",
     "text": [
      "\u001b[36m(launch_and_fit pid=1554)\u001b[0m \tTrain Epoch: 4 \tTrain_loss: 1.9803 | Train_acc: 22.4566 % | Validation_loss: 1.9827 | Validation_acc: 19.9758 %\u001b[32m [repeated 2x across cluster]\u001b[0m\n"
     ]
    },
    {
     "name": "stderr",
     "output_type": "stream",
     "text": [
      " 50%|\u001b[34m█████     \u001b[0m| 5/10 [00:29<00:28,  5.79s/it]\u001b[32m [repeated 2x across cluster]\u001b[0m\n"
     ]
    },
    {
     "name": "stdout",
     "output_type": "stream",
     "text": [
      "\u001b[36m(launch_and_fit pid=1554)\u001b[0m \tTrain Epoch: 5 \tTrain_loss: 1.9491 | Train_acc: 22.6345 % | Validation_loss: 2.0061 | Validation_acc: 19.8411 %\u001b[32m [repeated 2x across cluster]\u001b[0m\n"
     ]
    },
    {
     "name": "stderr",
     "output_type": "stream",
     "text": [
      " 60%|\u001b[34m██████    \u001b[0m| 6/10 [00:35<00:23,  5.87s/it]\u001b[32m [repeated 2x across cluster]\u001b[0m\n"
     ]
    },
    {
     "name": "stdout",
     "output_type": "stream",
     "text": [
      "\u001b[36m(launch_and_fit pid=1554)\u001b[0m \tTrain Epoch: 6 \tTrain_loss: 1.9527 | Train_acc: 21.8229 % | Validation_loss: 1.9708 | Validation_acc: 22.7707 %\u001b[32m [repeated 2x across cluster]\u001b[0m\n"
     ]
    },
    {
     "name": "stderr",
     "output_type": "stream",
     "text": [
      " 70%|\u001b[34m███████   \u001b[0m| 7/10 [00:41<00:17,  5.82s/it]\u001b[32m [repeated 2x across cluster]\u001b[0m\n"
     ]
    },
    {
     "name": "stdout",
     "output_type": "stream",
     "text": [
      "\u001b[36m(launch_and_fit pid=1554)\u001b[0m \tTrain Epoch: 7 \tTrain_loss: 1.9181 | Train_acc: 23.0252 % | Validation_loss: 1.9262 | Validation_acc: 21.9087 %\u001b[32m [repeated 2x across cluster]\u001b[0m\n"
     ]
    },
    {
     "name": "stderr",
     "output_type": "stream",
     "text": [
      " 80%|\u001b[34m████████  \u001b[0m| 8/10 [00:46<00:11,  5.79s/it]\u001b[32m [repeated 2x across cluster]\u001b[0m\n"
     ]
    },
    {
     "name": "stdout",
     "output_type": "stream",
     "text": [
      "\u001b[36m(launch_and_fit pid=1554)\u001b[0m \tTrain Epoch: 8 \tTrain_loss: 1.8849 | Train_acc: 23.6155 % | Validation_loss: 1.9194 | Validation_acc: 22.1848 %\u001b[32m [repeated 2x across cluster]\u001b[0m\n"
     ]
    },
    {
     "name": "stderr",
     "output_type": "stream",
     "text": [
      " 90%|\u001b[34m█████████ \u001b[0m| 9/10 [00:52<00:05,  5.83s/it]\u001b[32m [repeated 2x across cluster]\u001b[0m\n"
     ]
    },
    {
     "name": "stdout",
     "output_type": "stream",
     "text": [
      "\u001b[36m(launch_and_fit pid=1554)\u001b[0m \tTrain Epoch: 9 \tTrain_loss: 1.8690 | Train_acc: 23.5590 % | Validation_loss: 1.9190 | Validation_acc: 22.3060 %\u001b[32m [repeated 2x across cluster]\u001b[0m\n"
     ]
    },
    {
     "name": "stderr",
     "output_type": "stream",
     "text": [
      "100%|\u001b[34m██████████\u001b[0m| 10/10 [00:58<00:00,  5.86s/it]\u001b[32m [repeated 2x across cluster]\u001b[0m\n"
     ]
    },
    {
     "name": "stdout",
     "output_type": "stream",
     "text": [
      "\u001b[36m(launch_and_fit pid=1554)\u001b[0m save graph in  results/FL/\n",
      "\u001b[36m(launch_and_fit pid=1554)\u001b[0m \tTrain Epoch: 10 \tTrain_loss: 1.8590 | Train_acc: 24.3837 % | Validation_loss: 1.9021 | Validation_acc: 27.0878 %\u001b[32m [repeated 2x across cluster]\u001b[0m\n",
      "\u001b[36m(launch_and_fit pid=1554)\u001b[0m network.0.weight 5.9604644775390625e-06\n",
      "\u001b[36m(launch_and_fit pid=1554)\u001b[0m network.0.bias 1.6689300537109375e-06\n",
      "\u001b[36m(launch_and_fit pid=1554)\u001b[0m network.2.weight 1.1920928955078125e-06\n",
      "\u001b[36m(launch_and_fit pid=1554)\u001b[0m network.2.bias 1.430511474609375e-06\n",
      "\u001b[36m(launch_and_fit pid=1554)\u001b[0m network.5.weight 1.1920928955078125e-06\n",
      "\u001b[36m(launch_and_fit pid=1554)\u001b[0m network.5.bias 1.1920928955078125e-06\n",
      "\u001b[36m(launch_and_fit pid=1554)\u001b[0m network.7.weight 9.5367431640625e-07\n",
      "\u001b[36m(launch_and_fit pid=1554)\u001b[0m network.7.bias 1.1920928955078125e-06\n",
      "\u001b[36m(launch_and_fit pid=1554)\u001b[0m network.10.weight 1.1920928955078125e-06\n",
      "\u001b[36m(launch_and_fit pid=1554)\u001b[0m network.10.bias 1.1920928955078125e-06\n",
      "\u001b[36m(launch_and_fit pid=1554)\u001b[0m network.12.weight 1.1920928955078125e-06\n",
      "\u001b[36m(launch_and_fit pid=1554)\u001b[0m network.12.bias 1.1920928955078125e-06\n",
      "\u001b[36m(launch_and_fit pid=1554)\u001b[0m network.16.weight 9.5367431640625e-07\n",
      "\u001b[36m(launch_and_fit pid=1554)\u001b[0m network.16.bias 1.430511474609375e-06\n",
      "\u001b[36m(launch_and_fit pid=1554)\u001b[0m network.18.weight 9.5367431640625e-07\n",
      "\u001b[36m(launch_and_fit pid=1554)\u001b[0m network.18.bias 1.1920928955078125e-06\n",
      "\u001b[36m(launch_and_fit pid=1554)\u001b[0m network.20.weight 1.1920928955078125e-06\n",
      "\u001b[36m(launch_and_fit pid=1554)\u001b[0m network.20.bias 1.1920928955078125e-06\n",
      "\u001b[36m(launch_and_fit pid=1554)\u001b[0m qnn.weights 9.5367431640625e-07\n",
      "\u001b[36m(launch_and_fit pid=1554)\u001b[0m fc4.weight 1.1920928955078125e-06\n",
      "\u001b[36m(launch_and_fit pid=1554)\u001b[0m fc4.bias 1.1920928955078125e-06\n"
     ]
    },
    {
     "name": "stderr",
     "output_type": "stream",
     "text": [
      "DEBUG flwr 2024-07-20 18:37:25,909 | server.py:236 | fit_round 2 received 10 results and 0 failures\n"
     ]
    },
    {
     "name": "stdout",
     "output_type": "stream",
     "text": [
      "Saving round 2 aggregated_parameters...\n"
     ]
    },
    {
     "name": "stderr",
     "output_type": "stream",
     "text": [
      "DEBUG flwr 2024-07-20 18:37:26,859 | server.py:173 | evaluate_round 2: strategy sampled 10 clients (out of 10)\n"
     ]
    },
    {
     "name": "stdout",
     "output_type": "stream",
     "text": [
      "\u001b[36m(launch_and_evaluate pid=1645)\u001b[0m Run with homomorphic encryption\n",
      "\u001b[36m(launch_and_fit pid=1579)\u001b[0m save graph in  results/FL/\n",
      "\u001b[36m(launch_and_fit pid=1579)\u001b[0m \tTrain Epoch: 10 \tTrain_loss: 1.8605 | Train_acc: 27.8602 % | Validation_loss: 1.8527 | Validation_acc: 26.8723 %\n",
      "\u001b[36m(launch_and_fit pid=1579)\u001b[0m fc4.bias 1.430511474609375e-06\u001b[32m [repeated 20x across cluster]\u001b[0m\n",
      "\u001b[36m(launch_and_fit pid=1579)\u001b[0m qnn.weights 9.5367431640625e-07\n",
      "\u001b[36m(launch_and_evaluate pid=1645)\u001b[0m [Client 2] evaluate, config: {}\n",
      "\u001b[36m(launch_and_evaluate pid=1645)\u001b[0m Updated model\n",
      "\u001b[36m(launch_and_evaluate pid=1724)\u001b[0m Run with homomorphic encryption\u001b[32m [repeated 2x across cluster]\u001b[0m\n",
      "\u001b[36m(launch_and_evaluate pid=1646)\u001b[0m [Client 8] evaluate, config: {}\n",
      "\u001b[36m(launch_and_evaluate pid=1646)\u001b[0m Updated model\n",
      "\u001b[36m(launch_and_evaluate pid=1724)\u001b[0m [Client 1] evaluate, config: {}\n",
      "\u001b[36m(launch_and_evaluate pid=1724)\u001b[0m Updated model\n",
      "\u001b[36m(launch_and_evaluate pid=1804)\u001b[0m Run with homomorphic encryption\u001b[32m [repeated 2x across cluster]\u001b[0m\n",
      "\u001b[36m(launch_and_evaluate pid=1726)\u001b[0m [Client 4] evaluate, config: {}\n",
      "\u001b[36m(launch_and_evaluate pid=1726)\u001b[0m Updated model\n",
      "\u001b[36m(launch_and_evaluate pid=1802)\u001b[0m [Client 9] evaluate, config: {}\n",
      "\u001b[36m(launch_and_evaluate pid=1804)\u001b[0m Updated model\n",
      "\u001b[36m(launch_and_evaluate pid=1882)\u001b[0m Run with homomorphic encryption\u001b[32m [repeated 2x across cluster]\u001b[0m\n",
      "\u001b[36m(launch_and_evaluate pid=1804)\u001b[0m [Client 3] evaluate, config: {}\n",
      "\u001b[36m(launch_and_evaluate pid=1802)\u001b[0m Updated model\n",
      "\u001b[36m(launch_and_evaluate pid=1880)\u001b[0m [Client 0] evaluate, config: {}\n",
      "\u001b[36m(launch_and_evaluate pid=1882)\u001b[0m Updated model\n",
      "\u001b[36m(launch_and_evaluate pid=1958)\u001b[0m Run with homomorphic encryption\u001b[32m [repeated 2x across cluster]\u001b[0m\n",
      "\u001b[36m(launch_and_evaluate pid=1882)\u001b[0m [Client 6] evaluate, config: {}\n",
      "\u001b[36m(launch_and_evaluate pid=1880)\u001b[0m Updated model\n",
      "\u001b[36m(launch_and_evaluate pid=1958)\u001b[0m [Client 7] evaluate, config: {}\n",
      "\u001b[36m(launch_and_evaluate pid=1958)\u001b[0m Updated model\n"
     ]
    },
    {
     "name": "stderr",
     "output_type": "stream",
     "text": [
      "DEBUG flwr 2024-07-20 18:38:54,409 | server.py:187 | evaluate_round 2 received 10 results and 0 failures\n",
      "DEBUG flwr 2024-07-20 18:38:54,410 | server.py:222 | fit_round 3: strategy sampled 10 clients (out of 10)\n"
     ]
    },
    {
     "name": "stdout",
     "output_type": "stream",
     "text": [
      "\u001b[36m(launch_and_fit pid=2045)\u001b[0m Run with homomorphic encryption\u001b[32m [repeated 2x across cluster]\u001b[0m\n",
      "\u001b[36m(launch_and_evaluate pid=1960)\u001b[0m [Client 5] evaluate, config: {}\n",
      "\u001b[36m(launch_and_evaluate pid=1960)\u001b[0m Updated model\n",
      "\u001b[36m(launch_and_fit pid=2045)\u001b[0m [Client 7, round 3] fit, config: {'learning_rate': 0.001, 'batch_size': '128', 'server_round': 3, 'local_epochs': 10}\n"
     ]
    },
    {
     "name": "stderr",
     "output_type": "stream",
     "text": [
      "  0%|\u001b[34m          \u001b[0m| 0/10 [00:00<?, ?it/s]\n",
      "100%|\u001b[34m██████████\u001b[0m| 10/10 [00:58<00:00,  5.81s/it]\n"
     ]
    },
    {
     "name": "stdout",
     "output_type": "stream",
     "text": [
      "\u001b[36m(launch_and_fit pid=2045)\u001b[0m Updated model\n"
     ]
    },
    {
     "name": "stderr",
     "output_type": "stream",
     "text": [
      " 10%|\u001b[34m█         \u001b[0m| 1/10 [00:06<00:56,  6.25s/it]\n",
      "  0%|\u001b[34m          \u001b[0m| 0/10 [00:00<?, ?it/s]\n"
     ]
    },
    {
     "name": "stdout",
     "output_type": "stream",
     "text": [
      "\u001b[36m(launch_and_fit pid=2045)\u001b[0m \tTrain Epoch: 1 \tTrain_loss: 1.9359 | Train_acc: 20.9071 % | Validation_loss: 1.8636 | Validation_acc: 23.9224 %\n",
      "\u001b[36m(launch_and_fit pid=2069)\u001b[0m Run with homomorphic encryption\n",
      "\u001b[36m(launch_and_fit pid=2069)\u001b[0m [Client 0, round 3] fit, config: {'learning_rate': 0.001, 'batch_size': '128', 'server_round': 3, 'local_epochs': 10}\n",
      "\u001b[36m(launch_and_fit pid=2069)\u001b[0m Updated model\n"
     ]
    },
    {
     "name": "stderr",
     "output_type": "stream",
     "text": [
      " 20%|\u001b[34m██        \u001b[0m| 2/10 [00:12<00:47,  5.98s/it]\u001b[32m [repeated 2x across cluster]\u001b[0m\n"
     ]
    },
    {
     "name": "stdout",
     "output_type": "stream",
     "text": [
      "\u001b[36m(launch_and_fit pid=2045)\u001b[0m \tTrain Epoch: 2 \tTrain_loss: 1.8729 | Train_acc: 21.2413 % | Validation_loss: 1.8500 | Validation_acc: 22.7505 %\u001b[32m [repeated 2x across cluster]\u001b[0m\n"
     ]
    },
    {
     "name": "stderr",
     "output_type": "stream",
     "text": [
      " 30%|\u001b[34m███       \u001b[0m| 3/10 [00:17<00:41,  5.95s/it]\u001b[32m [repeated 2x across cluster]\u001b[0m\n"
     ]
    },
    {
     "name": "stdout",
     "output_type": "stream",
     "text": [
      "\u001b[36m(launch_and_fit pid=2045)\u001b[0m \tTrain Epoch: 3 \tTrain_loss: 1.8544 | Train_acc: 22.0833 % | Validation_loss: 1.8327 | Validation_acc: 23.5318 %\u001b[32m [repeated 2x across cluster]\u001b[0m\n"
     ]
    },
    {
     "name": "stderr",
     "output_type": "stream",
     "text": [
      " 40%|\u001b[34m████      \u001b[0m| 4/10 [00:24<00:36,  6.07s/it]\u001b[32m [repeated 2x across cluster]\u001b[0m\n"
     ]
    },
    {
     "name": "stdout",
     "output_type": "stream",
     "text": [
      "\u001b[36m(launch_and_fit pid=2045)\u001b[0m \tTrain Epoch: 4 \tTrain_loss: 1.8414 | Train_acc: 24.0668 % | Validation_loss: 1.8395 | Validation_acc: 25.9564 %\u001b[32m [repeated 2x across cluster]\u001b[0m\n"
     ]
    },
    {
     "name": "stderr",
     "output_type": "stream",
     "text": [
      " 50%|\u001b[34m█████     \u001b[0m| 5/10 [00:30<00:29,  5.97s/it]\u001b[32m [repeated 2x across cluster]\u001b[0m\n"
     ]
    },
    {
     "name": "stdout",
     "output_type": "stream",
     "text": [
      "\u001b[36m(launch_and_fit pid=2045)\u001b[0m \tTrain Epoch: 5 \tTrain_loss: 1.8322 | Train_acc: 24.4444 % | Validation_loss: 1.8217 | Validation_acc: 24.0032 %\u001b[32m [repeated 2x across cluster]\u001b[0m\n"
     ]
    },
    {
     "name": "stderr",
     "output_type": "stream",
     "text": [
      " 60%|\u001b[34m██████    \u001b[0m| 6/10 [00:35<00:23,  5.86s/it]\u001b[32m [repeated 2x across cluster]\u001b[0m\n"
     ]
    },
    {
     "name": "stdout",
     "output_type": "stream",
     "text": [
      "\u001b[36m(launch_and_fit pid=2045)\u001b[0m \tTrain Epoch: 6 \tTrain_loss: 1.8035 | Train_acc: 25.4774 % | Validation_loss: 1.8540 | Validation_acc: 24.3534 %\u001b[32m [repeated 2x across cluster]\u001b[0m\n"
     ]
    },
    {
     "name": "stderr",
     "output_type": "stream",
     "text": [
      " 70%|\u001b[34m███████   \u001b[0m| 7/10 [00:41<00:17,  5.84s/it]\u001b[32m [repeated 2x across cluster]\u001b[0m\n"
     ]
    },
    {
     "name": "stdout",
     "output_type": "stream",
     "text": [
      "\u001b[36m(launch_and_fit pid=2045)\u001b[0m \tTrain Epoch: 7 \tTrain_loss: 1.8052 | Train_acc: 25.6250 % | Validation_loss: 1.8072 | Validation_acc: 26.9531 %\u001b[32m [repeated 2x across cluster]\u001b[0m\n"
     ]
    },
    {
     "name": "stderr",
     "output_type": "stream",
     "text": [
      " 80%|\u001b[34m████████  \u001b[0m| 8/10 [00:47<00:11,  5.84s/it]\u001b[32m [repeated 2x across cluster]\u001b[0m\n"
     ]
    },
    {
     "name": "stdout",
     "output_type": "stream",
     "text": [
      "\u001b[36m(launch_and_fit pid=2045)\u001b[0m \tTrain Epoch: 8 \tTrain_loss: 1.7722 | Train_acc: 26.8142 % | Validation_loss: 1.8512 | Validation_acc: 27.4448 %\u001b[32m [repeated 2x across cluster]\u001b[0m\n"
     ]
    },
    {
     "name": "stderr",
     "output_type": "stream",
     "text": [
      " 90%|\u001b[34m█████████ \u001b[0m| 9/10 [00:53<00:05,  5.91s/it]\u001b[32m [repeated 2x across cluster]\u001b[0m\n"
     ]
    },
    {
     "name": "stdout",
     "output_type": "stream",
     "text": [
      "\u001b[36m(launch_and_fit pid=2045)\u001b[0m \tTrain Epoch: 9 \tTrain_loss: 1.7596 | Train_acc: 27.6042 % | Validation_loss: 1.7770 | Validation_acc: 27.9499 %\u001b[32m [repeated 2x across cluster]\u001b[0m\n"
     ]
    },
    {
     "name": "stderr",
     "output_type": "stream",
     "text": [
      "100%|\u001b[34m██████████\u001b[0m| 10/10 [00:59<00:00,  5.92s/it]\u001b[32m [repeated 2x across cluster]\u001b[0m\n"
     ]
    },
    {
     "name": "stdout",
     "output_type": "stream",
     "text": [
      "\u001b[36m(launch_and_fit pid=2045)\u001b[0m save graph in  results/FL/\n",
      "\u001b[36m(launch_and_fit pid=2045)\u001b[0m \tTrain Epoch: 10 \tTrain_loss: 1.7456 | Train_acc: 29.6832 % | Validation_loss: 1.8537 | Validation_acc: 28.9062 %\u001b[32m [repeated 2x across cluster]\u001b[0m\n",
      "\u001b[36m(launch_and_fit pid=2045)\u001b[0m network.0.weight 4.291534423828125e-06\n",
      "\u001b[36m(launch_and_fit pid=2045)\u001b[0m network.0.bias 1.1920928955078125e-06\n",
      "\u001b[36m(launch_and_fit pid=2045)\u001b[0m network.2.weight 1.1920928955078125e-06\n",
      "\u001b[36m(launch_and_fit pid=2045)\u001b[0m network.2.bias 9.5367431640625e-07\n",
      "\u001b[36m(launch_and_fit pid=2045)\u001b[0m network.5.weight 1.1920928955078125e-06\n",
      "\u001b[36m(launch_and_fit pid=2045)\u001b[0m network.5.bias 9.5367431640625e-07\n",
      "\u001b[36m(launch_and_fit pid=2045)\u001b[0m network.7.weight 1.1920928955078125e-06\n",
      "\u001b[36m(launch_and_fit pid=2045)\u001b[0m network.7.bias 9.5367431640625e-07\n",
      "\u001b[36m(launch_and_fit pid=2045)\u001b[0m network.10.weight 9.5367431640625e-07\n",
      "\u001b[36m(launch_and_fit pid=2045)\u001b[0m network.10.bias 9.5367431640625e-07\n",
      "\u001b[36m(launch_and_fit pid=2045)\u001b[0m network.12.weight 1.1920928955078125e-06\n",
      "\u001b[36m(launch_and_fit pid=2045)\u001b[0m network.12.bias 1.1920928955078125e-06\n",
      "\u001b[36m(launch_and_fit pid=2045)\u001b[0m network.16.weight 9.5367431640625e-07\n",
      "\u001b[36m(launch_and_fit pid=2045)\u001b[0m network.16.bias 9.5367431640625e-07\n",
      "\u001b[36m(launch_and_fit pid=2045)\u001b[0m network.18.weight 1.1920928955078125e-06\n",
      "\u001b[36m(launch_and_fit pid=2045)\u001b[0m network.18.bias 9.5367431640625e-07\n",
      "\u001b[36m(launch_and_fit pid=2045)\u001b[0m network.20.weight 9.5367431640625e-07\n",
      "\u001b[36m(launch_and_fit pid=2045)\u001b[0m network.20.bias 1.1920928955078125e-06\n",
      "\u001b[36m(launch_and_fit pid=2045)\u001b[0m qnn.weights 1.1920928955078125e-06\n",
      "\u001b[36m(launch_and_fit pid=2045)\u001b[0m fc4.weight 9.5367431640625e-07\n",
      "\u001b[36m(launch_and_fit pid=2045)\u001b[0m fc4.bias 9.5367431640625e-07\n",
      "\u001b[36m(launch_and_fit pid=2127)\u001b[0m Run with homomorphic encryption\n",
      "\u001b[36m(launch_and_fit pid=2069)\u001b[0m save graph in  results/FL/\n",
      "\u001b[36m(launch_and_fit pid=2069)\u001b[0m \tTrain Epoch: 10 \tTrain_loss: 1.7694 | Train_acc: 28.7413 % | Validation_loss: 1.7909 | Validation_acc: 27.0541 %\n",
      "\u001b[36m(launch_and_fit pid=2069)\u001b[0m fc4.bias 1.6689300537109375e-06\u001b[32m [repeated 20x across cluster]\u001b[0m\n",
      "\u001b[36m(launch_and_fit pid=2069)\u001b[0m qnn.weights 1.6689300537109375e-06\n",
      "\u001b[36m(launch_and_fit pid=2127)\u001b[0m [Client 6, round 3] fit, config: {'learning_rate': 0.001, 'batch_size': '128', 'server_round': 3, 'local_epochs': 10}\n"
     ]
    },
    {
     "name": "stderr",
     "output_type": "stream",
     "text": [
      "  0%|\u001b[34m          \u001b[0m| 0/10 [00:00<?, ?it/s]\n",
      "100%|\u001b[34m██████████\u001b[0m| 10/10 [00:58<00:00,  5.88s/it]\n"
     ]
    },
    {
     "name": "stdout",
     "output_type": "stream",
     "text": [
      "\u001b[36m(launch_and_fit pid=2127)\u001b[0m Updated model\n"
     ]
    },
    {
     "name": "stderr",
     "output_type": "stream",
     "text": [
      " 10%|\u001b[34m█         \u001b[0m| 1/10 [00:06<00:55,  6.21s/it]\n",
      "  0%|\u001b[34m          \u001b[0m| 0/10 [00:00<?, ?it/s]\n"
     ]
    },
    {
     "name": "stdout",
     "output_type": "stream",
     "text": [
      "\u001b[36m(launch_and_fit pid=2127)\u001b[0m \tTrain Epoch: 1 \tTrain_loss: 1.9355 | Train_acc: 21.5191 % | Validation_loss: 1.8972 | Validation_acc: 23.0065 %\n",
      "\u001b[36m(launch_and_fit pid=2152)\u001b[0m Run with homomorphic encryption\n",
      "\u001b[36m(launch_and_fit pid=2152)\u001b[0m [Client 5, round 3] fit, config: {'learning_rate': 0.001, 'batch_size': '128', 'server_round': 3, 'local_epochs': 10}\n",
      "\u001b[36m(launch_and_fit pid=2152)\u001b[0m Updated model\n"
     ]
    },
    {
     "name": "stderr",
     "output_type": "stream",
     "text": [
      " 20%|\u001b[34m██        \u001b[0m| 2/10 [00:12<00:49,  6.17s/it]\u001b[32m [repeated 2x across cluster]\u001b[0m\n"
     ]
    },
    {
     "name": "stdout",
     "output_type": "stream",
     "text": [
      "\u001b[36m(launch_and_fit pid=2127)\u001b[0m \tTrain Epoch: 2 \tTrain_loss: 1.8853 | Train_acc: 23.6632 % | Validation_loss: 1.9300 | Validation_acc: 21.0735 %\u001b[32m [repeated 2x across cluster]\u001b[0m\n"
     ]
    },
    {
     "name": "stderr",
     "output_type": "stream",
     "text": [
      " 30%|\u001b[34m███       \u001b[0m| 3/10 [00:18<00:41,  5.96s/it]\u001b[32m [repeated 2x across cluster]\u001b[0m\n"
     ]
    },
    {
     "name": "stdout",
     "output_type": "stream",
     "text": [
      "\u001b[36m(launch_and_fit pid=2127)\u001b[0m \tTrain Epoch: 3 \tTrain_loss: 1.8613 | Train_acc: 24.8655 % | Validation_loss: 1.8898 | Validation_acc: 21.8750 %\u001b[32m [repeated 2x across cluster]\u001b[0m\n"
     ]
    },
    {
     "name": "stderr",
     "output_type": "stream",
     "text": [
      " 40%|\u001b[34m████      \u001b[0m| 4/10 [00:23<00:35,  5.85s/it]\u001b[32m [repeated 2x across cluster]\u001b[0m\n"
     ]
    },
    {
     "name": "stdout",
     "output_type": "stream",
     "text": [
      "\u001b[36m(launch_and_fit pid=2127)\u001b[0m \tTrain Epoch: 4 \tTrain_loss: 1.8441 | Train_acc: 24.4835 % | Validation_loss: 1.8684 | Validation_acc: 23.7136 %\u001b[32m [repeated 2x across cluster]\u001b[0m\n"
     ]
    },
    {
     "name": "stderr",
     "output_type": "stream",
     "text": [
      " 50%|\u001b[34m█████     \u001b[0m| 5/10 [00:29<00:28,  5.79s/it]\u001b[32m [repeated 2x across cluster]\u001b[0m\n"
     ]
    },
    {
     "name": "stdout",
     "output_type": "stream",
     "text": [
      "\u001b[36m(launch_and_fit pid=2127)\u001b[0m \tTrain Epoch: 5 \tTrain_loss: 1.8233 | Train_acc: 25.4861 % | Validation_loss: 1.8706 | Validation_acc: 23.6328 %\u001b[32m [repeated 2x across cluster]\u001b[0m\n"
     ]
    },
    {
     "name": "stderr",
     "output_type": "stream",
     "text": [
      " 60%|\u001b[34m██████    \u001b[0m| 6/10 [00:35<00:22,  5.73s/it]\u001b[32m [repeated 2x across cluster]\u001b[0m\n"
     ]
    },
    {
     "name": "stdout",
     "output_type": "stream",
     "text": [
      "\u001b[36m(launch_and_fit pid=2127)\u001b[0m \tTrain Epoch: 6 \tTrain_loss: 1.8107 | Train_acc: 26.2847 % | Validation_loss: 1.8840 | Validation_acc: 22.7573 %\u001b[32m [repeated 2x across cluster]\u001b[0m\n"
     ]
    },
    {
     "name": "stderr",
     "output_type": "stream",
     "text": [
      " 70%|\u001b[34m███████   \u001b[0m| 7/10 [00:40<00:17,  5.74s/it]\u001b[32m [repeated 2x across cluster]\u001b[0m\n"
     ]
    },
    {
     "name": "stdout",
     "output_type": "stream",
     "text": [
      "\u001b[36m(launch_and_fit pid=2127)\u001b[0m \tTrain Epoch: 7 \tTrain_loss: 1.7895 | Train_acc: 27.0790 % | Validation_loss: 1.8491 | Validation_acc: 26.7645 %\u001b[32m [repeated 2x across cluster]\u001b[0m\n"
     ]
    },
    {
     "name": "stderr",
     "output_type": "stream",
     "text": [
      " 80%|\u001b[34m████████  \u001b[0m| 8/10 [00:46<00:11,  5.81s/it]\u001b[32m [repeated 2x across cluster]\u001b[0m\n"
     ]
    },
    {
     "name": "stdout",
     "output_type": "stream",
     "text": [
      "\u001b[36m(launch_and_fit pid=2127)\u001b[0m \tTrain Epoch: 8 \tTrain_loss: 1.7643 | Train_acc: 28.9193 % | Validation_loss: 1.8296 | Validation_acc: 25.7610 %\u001b[32m [repeated 2x across cluster]\u001b[0m\n"
     ]
    },
    {
     "name": "stderr",
     "output_type": "stream",
     "text": [
      " 90%|\u001b[34m█████████ \u001b[0m| 9/10 [00:52<00:05,  5.80s/it]\u001b[32m [repeated 2x across cluster]\u001b[0m\n"
     ]
    },
    {
     "name": "stdout",
     "output_type": "stream",
     "text": [
      "\u001b[36m(launch_and_fit pid=2127)\u001b[0m \tTrain Epoch: 9 \tTrain_loss: 1.7347 | Train_acc: 31.2196 % | Validation_loss: 1.8309 | Validation_acc: 26.5490 %\u001b[32m [repeated 2x across cluster]\u001b[0m\n"
     ]
    },
    {
     "name": "stderr",
     "output_type": "stream",
     "text": [
      "100%|\u001b[34m██████████\u001b[0m| 10/10 [00:58<00:00,  5.82s/it]\u001b[32m [repeated 2x across cluster]\u001b[0m\n"
     ]
    },
    {
     "name": "stdout",
     "output_type": "stream",
     "text": [
      "\u001b[36m(launch_and_fit pid=2127)\u001b[0m save graph in  results/FL/\n",
      "\u001b[36m(launch_and_fit pid=2127)\u001b[0m \tTrain Epoch: 10 \tTrain_loss: 1.7235 | Train_acc: 30.8030 % | Validation_loss: 1.8018 | Validation_acc: 28.0509 %\u001b[32m [repeated 2x across cluster]\u001b[0m\n",
      "\u001b[36m(launch_and_fit pid=2127)\u001b[0m network.0.weight 4.5299530029296875e-06\n",
      "\u001b[36m(launch_and_fit pid=2127)\u001b[0m network.0.bias 1.430511474609375e-06\n",
      "\u001b[36m(launch_and_fit pid=2127)\u001b[0m network.2.weight 1.1920928955078125e-06\n",
      "\u001b[36m(launch_and_fit pid=2127)\u001b[0m network.2.bias 9.5367431640625e-07\n",
      "\u001b[36m(launch_and_fit pid=2127)\u001b[0m network.5.weight 1.430511474609375e-06\n",
      "\u001b[36m(launch_and_fit pid=2127)\u001b[0m network.5.bias 9.5367431640625e-07\n",
      "\u001b[36m(launch_and_fit pid=2127)\u001b[0m network.7.weight 9.5367431640625e-07\n",
      "\u001b[36m(launch_and_fit pid=2127)\u001b[0m network.7.bias 1.1920928955078125e-06\n",
      "\u001b[36m(launch_and_fit pid=2127)\u001b[0m network.10.weight 1.430511474609375e-06\n",
      "\u001b[36m(launch_and_fit pid=2127)\u001b[0m network.10.bias 1.430511474609375e-06\n",
      "\u001b[36m(launch_and_fit pid=2127)\u001b[0m network.12.weight 1.1920928955078125e-06\n",
      "\u001b[36m(launch_and_fit pid=2127)\u001b[0m network.12.bias 1.1920928955078125e-06\n",
      "\u001b[36m(launch_and_fit pid=2127)\u001b[0m network.16.weight 1.1920928955078125e-06\n",
      "\u001b[36m(launch_and_fit pid=2127)\u001b[0m network.16.bias 1.1920928955078125e-06\n",
      "\u001b[36m(launch_and_fit pid=2127)\u001b[0m network.18.weight 1.1920928955078125e-06\n",
      "\u001b[36m(launch_and_fit pid=2127)\u001b[0m network.18.bias 1.430511474609375e-06\n",
      "\u001b[36m(launch_and_fit pid=2127)\u001b[0m network.20.weight 1.1920928955078125e-06\n",
      "\u001b[36m(launch_and_fit pid=2127)\u001b[0m network.20.bias 9.5367431640625e-07\n",
      "\u001b[36m(launch_and_fit pid=2127)\u001b[0m qnn.weights 1.1920928955078125e-06\n",
      "\u001b[36m(launch_and_fit pid=2127)\u001b[0m fc4.weight 1.1920928955078125e-06\n",
      "\u001b[36m(launch_and_fit pid=2127)\u001b[0m fc4.bias 9.5367431640625e-07\n",
      "\u001b[36m(launch_and_fit pid=2210)\u001b[0m Run with homomorphic encryption\n",
      "\u001b[36m(launch_and_fit pid=2152)\u001b[0m save graph in  results/FL/\n",
      "\u001b[36m(launch_and_fit pid=2152)\u001b[0m \tTrain Epoch: 10 \tTrain_loss: 1.7313 | Train_acc: 30.2474 % | Validation_loss: 1.8592 | Validation_acc: 25.0943 %\n",
      "\u001b[36m(launch_and_fit pid=2152)\u001b[0m fc4.bias 9.5367431640625e-07\u001b[32m [repeated 20x across cluster]\u001b[0m\n",
      "\u001b[36m(launch_and_fit pid=2152)\u001b[0m qnn.weights 9.5367431640625e-07\n",
      "\u001b[36m(launch_and_fit pid=2210)\u001b[0m [Client 8, round 3] fit, config: {'learning_rate': 0.001, 'batch_size': '128', 'server_round': 3, 'local_epochs': 10}\n"
     ]
    },
    {
     "name": "stderr",
     "output_type": "stream",
     "text": [
      "  0%|\u001b[34m          \u001b[0m| 0/10 [00:00<?, ?it/s]\n",
      "100%|\u001b[34m██████████\u001b[0m| 10/10 [00:57<00:00,  5.79s/it]\n"
     ]
    },
    {
     "name": "stdout",
     "output_type": "stream",
     "text": [
      "\u001b[36m(launch_and_fit pid=2210)\u001b[0m Updated model\n"
     ]
    },
    {
     "name": "stderr",
     "output_type": "stream",
     "text": [
      " 10%|\u001b[34m█         \u001b[0m| 1/10 [00:06<00:57,  6.42s/it]\n",
      "  0%|\u001b[34m          \u001b[0m| 0/10 [00:00<?, ?it/s]\n"
     ]
    },
    {
     "name": "stdout",
     "output_type": "stream",
     "text": [
      "\u001b[36m(launch_and_fit pid=2210)\u001b[0m \tTrain Epoch: 1 \tTrain_loss: 1.9465 | Train_acc: 20.6554 % | Validation_loss: 1.8928 | Validation_acc: 20.1711 %\n",
      "\u001b[36m(launch_and_fit pid=2212)\u001b[0m Run with homomorphic encryption\n",
      "\u001b[36m(launch_and_fit pid=2212)\u001b[0m [Client 4, round 3] fit, config: {'learning_rate': 0.001, 'batch_size': '128', 'server_round': 3, 'local_epochs': 10}\n",
      "\u001b[36m(launch_and_fit pid=2212)\u001b[0m Updated model\n"
     ]
    },
    {
     "name": "stderr",
     "output_type": "stream",
     "text": [
      " 20%|\u001b[34m██        \u001b[0m| 2/10 [00:12<00:47,  5.96s/it]\u001b[32m [repeated 2x across cluster]\u001b[0m\n"
     ]
    },
    {
     "name": "stdout",
     "output_type": "stream",
     "text": [
      "\u001b[36m(launch_and_fit pid=2210)\u001b[0m \tTrain Epoch: 2 \tTrain_loss: 1.8840 | Train_acc: 21.7578 % | Validation_loss: 1.8600 | Validation_acc: 19.4841 %\u001b[32m [repeated 2x across cluster]\u001b[0m\n"
     ]
    },
    {
     "name": "stderr",
     "output_type": "stream",
     "text": [
      " 30%|\u001b[34m███       \u001b[0m| 3/10 [00:17<00:40,  5.79s/it]\u001b[32m [repeated 2x across cluster]\u001b[0m\n"
     ]
    },
    {
     "name": "stdout",
     "output_type": "stream",
     "text": [
      "\u001b[36m(launch_and_fit pid=2210)\u001b[0m \tTrain Epoch: 3 \tTrain_loss: 1.8715 | Train_acc: 22.3524 % | Validation_loss: 1.8473 | Validation_acc: 26.1113 %\u001b[32m [repeated 2x across cluster]\u001b[0m\n"
     ]
    },
    {
     "name": "stderr",
     "output_type": "stream",
     "text": [
      " 40%|\u001b[34m████      \u001b[0m| 4/10 [00:23<00:34,  5.81s/it]\u001b[32m [repeated 2x across cluster]\u001b[0m\n"
     ]
    },
    {
     "name": "stdout",
     "output_type": "stream",
     "text": [
      "\u001b[36m(launch_and_fit pid=2210)\u001b[0m \tTrain Epoch: 4 \tTrain_loss: 1.8555 | Train_acc: 23.2812 % | Validation_loss: 1.8903 | Validation_acc: 24.2188 %\u001b[32m [repeated 2x across cluster]\u001b[0m\n"
     ]
    },
    {
     "name": "stderr",
     "output_type": "stream",
     "text": [
      " 50%|\u001b[34m█████     \u001b[0m| 5/10 [00:29<00:28,  5.78s/it]\u001b[32m [repeated 2x across cluster]\u001b[0m\n"
     ]
    },
    {
     "name": "stdout",
     "output_type": "stream",
     "text": [
      "\u001b[36m(launch_and_fit pid=2210)\u001b[0m \tTrain Epoch: 5 \tTrain_loss: 1.8393 | Train_acc: 24.6094 % | Validation_loss: 1.8377 | Validation_acc: 26.8184 %\u001b[32m [repeated 2x across cluster]\u001b[0m\n"
     ]
    },
    {
     "name": "stderr",
     "output_type": "stream",
     "text": [
      " 60%|\u001b[34m██████    \u001b[0m| 6/10 [00:35<00:23,  5.85s/it]\u001b[32m [repeated 2x across cluster]\u001b[0m\n"
     ]
    },
    {
     "name": "stdout",
     "output_type": "stream",
     "text": [
      "\u001b[36m(launch_and_fit pid=2210)\u001b[0m \tTrain Epoch: 6 \tTrain_loss: 1.8051 | Train_acc: 25.7812 % | Validation_loss: 1.8364 | Validation_acc: 27.5997 %\u001b[32m [repeated 2x across cluster]\u001b[0m\n"
     ]
    },
    {
     "name": "stderr",
     "output_type": "stream",
     "text": [
      " 70%|\u001b[34m███████   \u001b[0m| 7/10 [00:40<00:17,  5.83s/it]\u001b[32m [repeated 2x across cluster]\u001b[0m\n"
     ]
    },
    {
     "name": "stdout",
     "output_type": "stream",
     "text": [
      "\u001b[36m(launch_and_fit pid=2210)\u001b[0m \tTrain Epoch: 7 \tTrain_loss: 1.7961 | Train_acc: 27.1094 % | Validation_loss: 1.8681 | Validation_acc: 25.1145 %\u001b[32m [repeated 2x across cluster]\u001b[0m\n"
     ]
    },
    {
     "name": "stderr",
     "output_type": "stream",
     "text": [
      " 80%|\u001b[34m████████  \u001b[0m| 8/10 [00:46<00:11,  5.81s/it]\u001b[32m [repeated 2x across cluster]\u001b[0m\n"
     ]
    },
    {
     "name": "stdout",
     "output_type": "stream",
     "text": [
      "\u001b[36m(launch_and_fit pid=2210)\u001b[0m \tTrain Epoch: 8 \tTrain_loss: 1.7819 | Train_acc: 27.9253 % | Validation_loss: 1.8209 | Validation_acc: 27.8556 %\u001b[32m [repeated 2x across cluster]\u001b[0m\n"
     ]
    },
    {
     "name": "stderr",
     "output_type": "stream",
     "text": [
      " 90%|\u001b[34m█████████ \u001b[0m| 9/10 [00:52<00:05,  5.75s/it]\u001b[32m [repeated 2x across cluster]\u001b[0m\n"
     ]
    },
    {
     "name": "stdout",
     "output_type": "stream",
     "text": [
      "\u001b[36m(launch_and_fit pid=2210)\u001b[0m \tTrain Epoch: 9 \tTrain_loss: 1.7513 | Train_acc: 29.7526 % | Validation_loss: 1.8460 | Validation_acc: 26.4278 %\u001b[32m [repeated 2x across cluster]\u001b[0m\n"
     ]
    },
    {
     "name": "stderr",
     "output_type": "stream",
     "text": [
      "100%|\u001b[34m██████████\u001b[0m| 10/10 [00:58<00:00,  5.82s/it]\u001b[32m [repeated 2x across cluster]\u001b[0m\n"
     ]
    },
    {
     "name": "stdout",
     "output_type": "stream",
     "text": [
      "\u001b[36m(launch_and_fit pid=2210)\u001b[0m save graph in  results/FL/\n",
      "\u001b[36m(launch_and_fit pid=2210)\u001b[0m \tTrain Epoch: 10 \tTrain_loss: 1.7342 | Train_acc: 31.0634 % | Validation_loss: 1.8042 | Validation_acc: 30.8055 %\u001b[32m [repeated 2x across cluster]\u001b[0m\n",
      "\u001b[36m(launch_and_fit pid=2210)\u001b[0m network.0.weight 4.5299530029296875e-06\n",
      "\u001b[36m(launch_and_fit pid=2210)\u001b[0m network.0.bias 1.6689300537109375e-06\n",
      "\u001b[36m(launch_and_fit pid=2210)\u001b[0m network.2.weight 1.430511474609375e-06\n",
      "\u001b[36m(launch_and_fit pid=2210)\u001b[0m network.2.bias 1.1920928955078125e-06\n",
      "\u001b[36m(launch_and_fit pid=2210)\u001b[0m network.5.weight 1.1920928955078125e-06\n",
      "\u001b[36m(launch_and_fit pid=2210)\u001b[0m network.5.bias 9.5367431640625e-07\n",
      "\u001b[36m(launch_and_fit pid=2210)\u001b[0m network.7.weight 9.5367431640625e-07\n",
      "\u001b[36m(launch_and_fit pid=2210)\u001b[0m network.7.bias 1.1920928955078125e-06\n",
      "\u001b[36m(launch_and_fit pid=2210)\u001b[0m network.10.weight 1.1920928955078125e-06\n",
      "\u001b[36m(launch_and_fit pid=2210)\u001b[0m network.10.bias 9.5367431640625e-07\n",
      "\u001b[36m(launch_and_fit pid=2210)\u001b[0m network.12.weight 9.5367431640625e-07\n",
      "\u001b[36m(launch_and_fit pid=2210)\u001b[0m network.12.bias 1.1920928955078125e-06\n",
      "\u001b[36m(launch_and_fit pid=2210)\u001b[0m network.16.weight 9.5367431640625e-07\n",
      "\u001b[36m(launch_and_fit pid=2210)\u001b[0m network.16.bias 9.5367431640625e-07\n",
      "\u001b[36m(launch_and_fit pid=2210)\u001b[0m network.18.weight 1.1920928955078125e-06\n",
      "\u001b[36m(launch_and_fit pid=2210)\u001b[0m network.18.bias 1.1920928955078125e-06\n",
      "\u001b[36m(launch_and_fit pid=2210)\u001b[0m network.20.weight 9.5367431640625e-07\n",
      "\u001b[36m(launch_and_fit pid=2210)\u001b[0m network.20.bias 9.5367431640625e-07\n",
      "\u001b[36m(launch_and_fit pid=2210)\u001b[0m qnn.weights 1.1920928955078125e-06\n",
      "\u001b[36m(launch_and_fit pid=2210)\u001b[0m fc4.weight 9.5367431640625e-07\n",
      "\u001b[36m(launch_and_fit pid=2210)\u001b[0m fc4.bias 9.5367431640625e-07\n",
      "\u001b[36m(launch_and_fit pid=2292)\u001b[0m Run with homomorphic encryption\n",
      "\u001b[36m(launch_and_fit pid=2212)\u001b[0m save graph in  results/FL/\n",
      "\u001b[36m(launch_and_fit pid=2212)\u001b[0m \tTrain Epoch: 10 \tTrain_loss: 1.7296 | Train_acc: 30.1997 % | Validation_loss: 1.8732 | Validation_acc: 28.3607 %\n",
      "\u001b[36m(launch_and_fit pid=2212)\u001b[0m fc4.bias 1.1920928955078125e-06\u001b[32m [repeated 20x across cluster]\u001b[0m\n",
      "\u001b[36m(launch_and_fit pid=2212)\u001b[0m qnn.weights 1.1920928955078125e-06\n",
      "\u001b[36m(launch_and_fit pid=2292)\u001b[0m [Client 2, round 3] fit, config: {'learning_rate': 0.001, 'batch_size': '128', 'server_round': 3, 'local_epochs': 10}\n"
     ]
    },
    {
     "name": "stderr",
     "output_type": "stream",
     "text": [
      "  0%|\u001b[34m          \u001b[0m| 0/10 [00:00<?, ?it/s]\n",
      "100%|\u001b[34m██████████\u001b[0m| 10/10 [00:59<00:00,  5.94s/it]\n"
     ]
    },
    {
     "name": "stdout",
     "output_type": "stream",
     "text": [
      "\u001b[36m(launch_and_fit pid=2292)\u001b[0m Updated model\n"
     ]
    },
    {
     "name": "stderr",
     "output_type": "stream",
     "text": [
      " 10%|\u001b[34m█         \u001b[0m| 1/10 [00:06<00:54,  6.08s/it]\n",
      "  0%|\u001b[34m          \u001b[0m| 0/10 [00:00<?, ?it/s]\n"
     ]
    },
    {
     "name": "stdout",
     "output_type": "stream",
     "text": [
      "\u001b[36m(launch_and_fit pid=2292)\u001b[0m \tTrain Epoch: 1 \tTrain_loss: 1.9532 | Train_acc: 20.2561 % | Validation_loss: 1.9133 | Validation_acc: 20.3664 %\n",
      "\u001b[36m(launch_and_fit pid=2317)\u001b[0m Run with homomorphic encryption\n",
      "\u001b[36m(launch_and_fit pid=2317)\u001b[0m [Client 3, round 3] fit, config: {'learning_rate': 0.001, 'batch_size': '128', 'server_round': 3, 'local_epochs': 10}\n",
      "\u001b[36m(launch_and_fit pid=2317)\u001b[0m Updated model\n"
     ]
    },
    {
     "name": "stderr",
     "output_type": "stream",
     "text": [
      " 20%|\u001b[34m██        \u001b[0m| 2/10 [00:11<00:46,  5.82s/it]\u001b[32m [repeated 2x across cluster]\u001b[0m\n"
     ]
    },
    {
     "name": "stdout",
     "output_type": "stream",
     "text": [
      "\u001b[36m(launch_and_fit pid=2292)\u001b[0m \tTrain Epoch: 2 \tTrain_loss: 1.8741 | Train_acc: 23.7326 % | Validation_loss: 1.8714 | Validation_acc: 21.2284 %\u001b[32m [repeated 2x across cluster]\u001b[0m\n"
     ]
    },
    {
     "name": "stderr",
     "output_type": "stream",
     "text": [
      " 30%|\u001b[34m███       \u001b[0m| 3/10 [00:17<00:40,  5.78s/it]\u001b[32m [repeated 2x across cluster]\u001b[0m\n"
     ]
    },
    {
     "name": "stdout",
     "output_type": "stream",
     "text": [
      "\u001b[36m(launch_and_fit pid=2292)\u001b[0m \tTrain Epoch: 3 \tTrain_loss: 1.8466 | Train_acc: 24.5660 % | Validation_loss: 1.8568 | Validation_acc: 22.8718 %\u001b[32m [repeated 2x across cluster]\u001b[0m\n"
     ]
    },
    {
     "name": "stderr",
     "output_type": "stream",
     "text": [
      " 40%|\u001b[34m████      \u001b[0m| 4/10 [00:23<00:35,  5.84s/it]\u001b[32m [repeated 2x across cluster]\u001b[0m\n"
     ]
    },
    {
     "name": "stdout",
     "output_type": "stream",
     "text": [
      "\u001b[36m(launch_and_fit pid=2292)\u001b[0m \tTrain Epoch: 4 \tTrain_loss: 1.8661 | Train_acc: 23.9453 % | Validation_loss: 1.9196 | Validation_acc: 21.9895 %\u001b[32m [repeated 2x across cluster]\u001b[0m\n"
     ]
    },
    {
     "name": "stderr",
     "output_type": "stream",
     "text": [
      " 50%|\u001b[34m█████     \u001b[0m| 5/10 [00:29<00:29,  5.84s/it]\u001b[32m [repeated 2x across cluster]\u001b[0m\n"
     ]
    },
    {
     "name": "stdout",
     "output_type": "stream",
     "text": [
      "\u001b[36m(launch_and_fit pid=2292)\u001b[0m \tTrain Epoch: 5 \tTrain_loss: 1.8188 | Train_acc: 26.0894 % | Validation_loss: 1.8452 | Validation_acc: 20.9321 %\u001b[32m [repeated 2x across cluster]\u001b[0m\n"
     ]
    },
    {
     "name": "stderr",
     "output_type": "stream",
     "text": [
      " 60%|\u001b[34m██████    \u001b[0m| 6/10 [00:35<00:23,  5.96s/it]\u001b[32m [repeated 2x across cluster]\u001b[0m\n"
     ]
    },
    {
     "name": "stdout",
     "output_type": "stream",
     "text": [
      "\u001b[36m(launch_and_fit pid=2292)\u001b[0m \tTrain Epoch: 6 \tTrain_loss: 1.7979 | Train_acc: 25.4601 % | Validation_loss: 1.8411 | Validation_acc: 26.4480 %\u001b[32m [repeated 2x across cluster]\u001b[0m\n"
     ]
    },
    {
     "name": "stderr",
     "output_type": "stream",
     "text": [
      " 70%|\u001b[34m███████   \u001b[0m| 7/10 [00:41<00:17,  5.89s/it]\u001b[32m [repeated 2x across cluster]\u001b[0m\n"
     ]
    },
    {
     "name": "stdout",
     "output_type": "stream",
     "text": [
      "\u001b[36m(launch_and_fit pid=2292)\u001b[0m \tTrain Epoch: 7 \tTrain_loss: 1.7811 | Train_acc: 26.7708 % | Validation_loss: 1.8308 | Validation_acc: 25.4512 %\u001b[32m [repeated 2x across cluster]\u001b[0m\n"
     ]
    },
    {
     "name": "stderr",
     "output_type": "stream",
     "text": [
      " 80%|\u001b[34m████████  \u001b[0m| 8/10 [00:46<00:11,  5.84s/it]\u001b[32m [repeated 2x across cluster]\u001b[0m\n"
     ]
    },
    {
     "name": "stdout",
     "output_type": "stream",
     "text": [
      "\u001b[36m(launch_and_fit pid=2292)\u001b[0m \tTrain Epoch: 8 \tTrain_loss: 1.7630 | Train_acc: 28.1944 % | Validation_loss: 1.8465 | Validation_acc: 27.3438 %\u001b[32m [repeated 2x across cluster]\u001b[0m\n"
     ]
    },
    {
     "name": "stderr",
     "output_type": "stream",
     "text": [
      " 90%|\u001b[34m█████████ \u001b[0m| 9/10 [00:52<00:05,  5.76s/it]\u001b[32m [repeated 2x across cluster]\u001b[0m\n"
     ]
    },
    {
     "name": "stdout",
     "output_type": "stream",
     "text": [
      "\u001b[36m(launch_and_fit pid=2292)\u001b[0m \tTrain Epoch: 9 \tTrain_loss: 1.7525 | Train_acc: 29.3490 % | Validation_loss: 1.8183 | Validation_acc: 28.0105 %\u001b[32m [repeated 2x across cluster]\u001b[0m\n"
     ]
    },
    {
     "name": "stderr",
     "output_type": "stream",
     "text": [
      "100%|\u001b[34m██████████\u001b[0m| 10/10 [00:58<00:00,  5.85s/it]\u001b[32m [repeated 2x across cluster]\u001b[0m\n"
     ]
    },
    {
     "name": "stdout",
     "output_type": "stream",
     "text": [
      "\u001b[36m(launch_and_fit pid=2292)\u001b[0m save graph in  results/FL/\n",
      "\u001b[36m(launch_and_fit pid=2292)\u001b[0m \tTrain Epoch: 10 \tTrain_loss: 1.7238 | Train_acc: 31.6710 % | Validation_loss: 1.8326 | Validation_acc: 24.8249 %\u001b[32m [repeated 2x across cluster]\u001b[0m\n",
      "\u001b[36m(launch_and_fit pid=2292)\u001b[0m network.0.weight 5.4836273193359375e-06\n",
      "\u001b[36m(launch_and_fit pid=2292)\u001b[0m network.0.bias 1.430511474609375e-06\n",
      "\u001b[36m(launch_and_fit pid=2292)\u001b[0m network.2.weight 1.1920928955078125e-06\n",
      "\u001b[36m(launch_and_fit pid=2292)\u001b[0m network.2.bias 1.1920928955078125e-06\n",
      "\u001b[36m(launch_and_fit pid=2292)\u001b[0m network.5.weight 1.430511474609375e-06\n",
      "\u001b[36m(launch_and_fit pid=2292)\u001b[0m network.5.bias 1.1920928955078125e-06\n",
      "\u001b[36m(launch_and_fit pid=2292)\u001b[0m network.7.weight 9.5367431640625e-07\n",
      "\u001b[36m(launch_and_fit pid=2292)\u001b[0m network.7.bias 9.5367431640625e-07\n",
      "\u001b[36m(launch_and_fit pid=2292)\u001b[0m network.10.weight 1.1920928955078125e-06\n",
      "\u001b[36m(launch_and_fit pid=2292)\u001b[0m network.10.bias 1.1920928955078125e-06\n",
      "\u001b[36m(launch_and_fit pid=2292)\u001b[0m network.12.weight 1.1920928955078125e-06\n",
      "\u001b[36m(launch_and_fit pid=2292)\u001b[0m network.12.bias 1.1920928955078125e-06\n",
      "\u001b[36m(launch_and_fit pid=2292)\u001b[0m network.16.weight 1.1920928955078125e-06\n",
      "\u001b[36m(launch_and_fit pid=2292)\u001b[0m network.16.bias 1.1920928955078125e-06\n",
      "\u001b[36m(launch_and_fit pid=2292)\u001b[0m network.18.weight 1.1920928955078125e-06\n",
      "\u001b[36m(launch_and_fit pid=2292)\u001b[0m network.18.bias 1.430511474609375e-06\n",
      "\u001b[36m(launch_and_fit pid=2292)\u001b[0m network.20.weight 1.430511474609375e-06\n",
      "\u001b[36m(launch_and_fit pid=2292)\u001b[0m network.20.bias 1.1920928955078125e-06\n",
      "\u001b[36m(launch_and_fit pid=2292)\u001b[0m qnn.weights 1.1920928955078125e-06\n",
      "\u001b[36m(launch_and_fit pid=2292)\u001b[0m fc4.weight 1.1920928955078125e-06\n",
      "\u001b[36m(launch_and_fit pid=2292)\u001b[0m fc4.bias 1.1920928955078125e-06\n",
      "\u001b[36m(launch_and_fit pid=2375)\u001b[0m Run with homomorphic encryption\n",
      "\u001b[36m(launch_and_fit pid=2317)\u001b[0m save graph in  results/FL/\n",
      "\u001b[36m(launch_and_fit pid=2317)\u001b[0m \tTrain Epoch: 10 \tTrain_loss: 1.7320 | Train_acc: 31.0200 % | Validation_loss: 1.8430 | Validation_acc: 28.1250 %\n",
      "\u001b[36m(launch_and_fit pid=2317)\u001b[0m fc4.bias 1.9073486328125e-06\u001b[32m [repeated 20x across cluster]\u001b[0m\n",
      "\u001b[36m(launch_and_fit pid=2317)\u001b[0m qnn.weights 1.6689300537109375e-06\n",
      "\u001b[36m(launch_and_fit pid=2375)\u001b[0m [Client 1, round 3] fit, config: {'learning_rate': 0.001, 'batch_size': '128', 'server_round': 3, 'local_epochs': 10}\n",
      "\u001b[36m(launch_and_fit pid=2375)\u001b[0m Updated model\n"
     ]
    },
    {
     "name": "stderr",
     "output_type": "stream",
     "text": [
      "  0%|\u001b[34m          \u001b[0m| 0/10 [00:00<?, ?it/s]\n",
      "100%|\u001b[34m██████████\u001b[0m| 10/10 [00:59<00:00,  5.95s/it]\n"
     ]
    },
    {
     "name": "stdout",
     "output_type": "stream",
     "text": [
      "\u001b[36m(launch_and_fit pid=2375)\u001b[0m \tTrain Epoch: 1 \tTrain_loss: 1.9172 | Train_acc: 22.9080 % | Validation_loss: 1.8807 | Validation_acc: 22.1309 %\n",
      "\u001b[36m(launch_and_fit pid=2399)\u001b[0m Run with homomorphic encryption\n",
      "\u001b[36m(launch_and_fit pid=2399)\u001b[0m [Client 9, round 3] fit, config: {'learning_rate': 0.001, 'batch_size': '128', 'server_round': 3, 'local_epochs': 10}\n",
      "\u001b[36m(launch_and_fit pid=2399)\u001b[0m Updated model\n"
     ]
    },
    {
     "name": "stderr",
     "output_type": "stream",
     "text": [
      " 10%|\u001b[34m█         \u001b[0m| 1/10 [00:06<00:55,  6.21s/it]\n",
      "  0%|\u001b[34m          \u001b[0m| 0/10 [00:00<?, ?it/s]\n"
     ]
    },
    {
     "name": "stdout",
     "output_type": "stream",
     "text": [
      "\u001b[36m(launch_and_fit pid=2375)\u001b[0m \tTrain Epoch: 2 \tTrain_loss: 1.8776 | Train_acc: 22.1701 % | Validation_loss: 1.8619 | Validation_acc: 24.8653 %\u001b[32m [repeated 2x across cluster]\u001b[0m\n"
     ]
    },
    {
     "name": "stderr",
     "output_type": "stream",
     "text": [
      " 20%|\u001b[34m██        \u001b[0m| 2/10 [00:11<00:47,  5.92s/it]\u001b[32m [repeated 2x across cluster]\u001b[0m\n"
     ]
    },
    {
     "name": "stdout",
     "output_type": "stream",
     "text": [
      "\u001b[36m(launch_and_fit pid=2375)\u001b[0m \tTrain Epoch: 3 \tTrain_loss: 1.8530 | Train_acc: 23.6632 % | Validation_loss: 1.8429 | Validation_acc: 26.0776 %\u001b[32m [repeated 2x across cluster]\u001b[0m\n"
     ]
    },
    {
     "name": "stderr",
     "output_type": "stream",
     "text": [
      " 30%|\u001b[34m███       \u001b[0m| 3/10 [00:17<00:41,  5.91s/it]\u001b[32m [repeated 2x across cluster]\u001b[0m\n"
     ]
    },
    {
     "name": "stdout",
     "output_type": "stream",
     "text": [
      "\u001b[36m(launch_and_fit pid=2375)\u001b[0m \tTrain Epoch: 4 \tTrain_loss: 1.8316 | Train_acc: 24.5009 % | Validation_loss: 1.8582 | Validation_acc: 21.4642 %\u001b[32m [repeated 2x across cluster]\u001b[0m\n"
     ]
    },
    {
     "name": "stderr",
     "output_type": "stream",
     "text": [
      " 40%|\u001b[34m████      \u001b[0m| 4/10 [00:23<00:34,  5.81s/it]\u001b[32m [repeated 2x across cluster]\u001b[0m\n"
     ]
    },
    {
     "name": "stdout",
     "output_type": "stream",
     "text": [
      "\u001b[36m(launch_and_fit pid=2375)\u001b[0m \tTrain Epoch: 5 \tTrain_loss: 1.8437 | Train_acc: 23.5069 % | Validation_loss: 1.8369 | Validation_acc: 23.1816 %\u001b[32m [repeated 2x across cluster]\u001b[0m\n"
     ]
    },
    {
     "name": "stderr",
     "output_type": "stream",
     "text": [
      " 50%|\u001b[34m█████     \u001b[0m| 5/10 [00:29<00:28,  5.78s/it]\u001b[32m [repeated 2x across cluster]\u001b[0m\n"
     ]
    },
    {
     "name": "stdout",
     "output_type": "stream",
     "text": [
      "\u001b[36m(launch_and_fit pid=2375)\u001b[0m \tTrain Epoch: 6 \tTrain_loss: 1.8166 | Train_acc: 25.7595 % | Validation_loss: 1.8412 | Validation_acc: 25.9968 %\u001b[32m [repeated 2x across cluster]\u001b[0m\n"
     ]
    },
    {
     "name": "stderr",
     "output_type": "stream",
     "text": [
      " 60%|\u001b[34m██████    \u001b[0m| 6/10 [00:34<00:23,  5.78s/it]\u001b[32m [repeated 2x across cluster]\u001b[0m\n"
     ]
    },
    {
     "name": "stdout",
     "output_type": "stream",
     "text": [
      "\u001b[36m(launch_and_fit pid=2375)\u001b[0m \tTrain Epoch: 7 \tTrain_loss: 1.7851 | Train_acc: 27.1701 % | Validation_loss: 1.8182 | Validation_acc: 24.8451 %\u001b[32m [repeated 2x across cluster]\u001b[0m\n"
     ]
    },
    {
     "name": "stderr",
     "output_type": "stream",
     "text": [
      " 70%|\u001b[34m███████   \u001b[0m| 7/10 [00:40<00:17,  5.75s/it]\u001b[32m [repeated 2x across cluster]\u001b[0m\n"
     ]
    },
    {
     "name": "stdout",
     "output_type": "stream",
     "text": [
      "\u001b[36m(launch_and_fit pid=2375)\u001b[0m \tTrain Epoch: 8 \tTrain_loss: 1.7536 | Train_acc: 28.9583 % | Validation_loss: 1.8146 | Validation_acc: 28.0913 %\u001b[32m [repeated 2x across cluster]\u001b[0m\n"
     ]
    },
    {
     "name": "stderr",
     "output_type": "stream",
     "text": [
      " 80%|\u001b[34m████████  \u001b[0m| 8/10 [00:46<00:11,  5.82s/it]\u001b[32m [repeated 2x across cluster]\u001b[0m\n"
     ]
    },
    {
     "name": "stdout",
     "output_type": "stream",
     "text": [
      "\u001b[36m(launch_and_fit pid=2375)\u001b[0m \tTrain Epoch: 9 \tTrain_loss: 1.7538 | Train_acc: 28.4462 % | Validation_loss: 1.8271 | Validation_acc: 28.6166 %\u001b[32m [repeated 2x across cluster]\u001b[0m\n"
     ]
    },
    {
     "name": "stderr",
     "output_type": "stream",
     "text": [
      " 90%|\u001b[34m█████████ \u001b[0m| 9/10 [00:52<00:05,  5.83s/it]\u001b[32m [repeated 2x across cluster]\u001b[0m\n"
     ]
    },
    {
     "name": "stdout",
     "output_type": "stream",
     "text": [
      "\u001b[36m(launch_and_fit pid=2375)\u001b[0m save graph in  results/FL/\n",
      "\u001b[36m(launch_and_fit pid=2375)\u001b[0m \tTrain Epoch: 10 \tTrain_loss: 1.7259 | Train_acc: 30.8420 % | Validation_loss: 1.8137 | Validation_acc: 29.0477 %\u001b[32m [repeated 2x across cluster]\u001b[0m\n"
     ]
    },
    {
     "name": "stderr",
     "output_type": "stream",
     "text": [
      "100%|\u001b[34m██████████\u001b[0m| 10/10 [00:58<00:00,  5.82s/it]\u001b[32m [repeated 2x across cluster]\u001b[0m\n"
     ]
    },
    {
     "name": "stdout",
     "output_type": "stream",
     "text": [
      "\u001b[36m(launch_and_fit pid=2375)\u001b[0m network.0.weight 5.7220458984375e-06\n",
      "\u001b[36m(launch_and_fit pid=2375)\u001b[0m network.0.bias 1.6689300537109375e-06\n",
      "\u001b[36m(launch_and_fit pid=2375)\u001b[0m network.2.weight 9.5367431640625e-07\n",
      "\u001b[36m(launch_and_fit pid=2375)\u001b[0m network.2.bias 9.5367431640625e-07\n",
      "\u001b[36m(launch_and_fit pid=2375)\u001b[0m network.5.weight 1.1920928955078125e-06\n",
      "\u001b[36m(launch_and_fit pid=2375)\u001b[0m network.5.bias 1.430511474609375e-06\n",
      "\u001b[36m(launch_and_fit pid=2375)\u001b[0m network.7.weight 9.5367431640625e-07\n",
      "\u001b[36m(launch_and_fit pid=2375)\u001b[0m network.7.bias 1.1920928955078125e-06\n",
      "\u001b[36m(launch_and_fit pid=2375)\u001b[0m network.10.weight 1.1920928955078125e-06\n",
      "\u001b[36m(launch_and_fit pid=2375)\u001b[0m network.10.bias 9.5367431640625e-07\n",
      "\u001b[36m(launch_and_fit pid=2375)\u001b[0m network.12.weight 1.430511474609375e-06\n",
      "\u001b[36m(launch_and_fit pid=2375)\u001b[0m network.12.bias 9.5367431640625e-07\n",
      "\u001b[36m(launch_and_fit pid=2375)\u001b[0m network.16.weight 9.5367431640625e-07\n",
      "\u001b[36m(launch_and_fit pid=2375)\u001b[0m network.16.bias 1.1920928955078125e-06\n",
      "\u001b[36m(launch_and_fit pid=2375)\u001b[0m network.18.weight 9.5367431640625e-07\n",
      "\u001b[36m(launch_and_fit pid=2375)\u001b[0m network.18.bias 1.1920928955078125e-06\n",
      "\u001b[36m(launch_and_fit pid=2375)\u001b[0m network.20.weight 1.430511474609375e-06\n",
      "\u001b[36m(launch_and_fit pid=2375)\u001b[0m network.20.bias 9.5367431640625e-07\n",
      "\u001b[36m(launch_and_fit pid=2375)\u001b[0m qnn.weights 9.5367431640625e-07\n",
      "\u001b[36m(launch_and_fit pid=2375)\u001b[0m fc4.weight 1.430511474609375e-06\n",
      "\u001b[36m(launch_and_fit pid=2375)\u001b[0m fc4.bias 1.1920928955078125e-06\n"
     ]
    },
    {
     "name": "stderr",
     "output_type": "stream",
     "text": [
      "DEBUG flwr 2024-07-20 18:45:10,541 | server.py:236 | fit_round 3 received 10 results and 0 failures\n"
     ]
    },
    {
     "name": "stdout",
     "output_type": "stream",
     "text": [
      "Saving round 3 aggregated_parameters...\n"
     ]
    },
    {
     "name": "stderr",
     "output_type": "stream",
     "text": [
      "DEBUG flwr 2024-07-20 18:45:11,487 | server.py:173 | evaluate_round 3: strategy sampled 10 clients (out of 10)\n"
     ]
    },
    {
     "name": "stdout",
     "output_type": "stream",
     "text": [
      "\u001b[36m(launch_and_evaluate pid=2465)\u001b[0m Run with homomorphic encryption\n",
      "\u001b[36m(launch_and_fit pid=2399)\u001b[0m save graph in  results/FL/\n",
      "\u001b[36m(launch_and_fit pid=2399)\u001b[0m \tTrain Epoch: 10 \tTrain_loss: 1.7606 | Train_acc: 29.0582 % | Validation_loss: 1.8309 | Validation_acc: 28.7918 %\n",
      "\u001b[36m(launch_and_fit pid=2399)\u001b[0m fc4.bias 1.1920928955078125e-06\u001b[32m [repeated 20x across cluster]\u001b[0m\n",
      "\u001b[36m(launch_and_fit pid=2399)\u001b[0m qnn.weights 1.6689300537109375e-06\n",
      "\u001b[36m(launch_and_evaluate pid=2465)\u001b[0m [Client 0] evaluate, config: {}\n",
      "\u001b[36m(launch_and_evaluate pid=2465)\u001b[0m Updated model\n",
      "\u001b[36m(launch_and_evaluate pid=2546)\u001b[0m Run with homomorphic encryption\u001b[32m [repeated 2x across cluster]\u001b[0m\n",
      "\u001b[36m(launch_and_evaluate pid=2466)\u001b[0m [Client 9] evaluate, config: {}\n",
      "\u001b[36m(launch_and_evaluate pid=2466)\u001b[0m Updated model\n",
      "\u001b[36m(launch_and_evaluate pid=2546)\u001b[0m [Client 2] evaluate, config: {}\n",
      "\u001b[36m(launch_and_evaluate pid=2546)\u001b[0m Updated model\n",
      "\u001b[36m(launch_and_evaluate pid=2622)\u001b[0m Run with homomorphic encryption\u001b[32m [repeated 2x across cluster]\u001b[0m\n",
      "\u001b[36m(launch_and_evaluate pid=2544)\u001b[0m [Client 7] evaluate, config: {}\n",
      "\u001b[36m(launch_and_evaluate pid=2544)\u001b[0m Updated model\n",
      "\u001b[36m(launch_and_evaluate pid=2622)\u001b[0m [Client 6] evaluate, config: {}\n",
      "\u001b[36m(launch_and_evaluate pid=2622)\u001b[0m Updated model\n",
      "\u001b[36m(launch_and_evaluate pid=2700)\u001b[0m Run with homomorphic encryption\u001b[32m [repeated 2x across cluster]\u001b[0m\n",
      "\u001b[36m(launch_and_evaluate pid=2624)\u001b[0m [Client 3] evaluate, config: {}\n",
      "\u001b[36m(launch_and_evaluate pid=2624)\u001b[0m Updated model\n",
      "\u001b[36m(launch_and_evaluate pid=2700)\u001b[0m [Client 1] evaluate, config: {}\n",
      "\u001b[36m(launch_and_evaluate pid=2700)\u001b[0m Updated model\n",
      "\u001b[36m(launch_and_evaluate pid=2779)\u001b[0m Run with homomorphic encryption\u001b[32m [repeated 2x across cluster]\u001b[0m\n",
      "\u001b[36m(launch_and_evaluate pid=2702)\u001b[0m [Client 5] evaluate, config: {}\n",
      "\u001b[36m(launch_and_evaluate pid=2702)\u001b[0m Updated model\n",
      "\u001b[36m(launch_and_evaluate pid=2779)\u001b[0m [Client 8] evaluate, config: {}\n",
      "\u001b[36m(launch_and_evaluate pid=2779)\u001b[0m Updated model\n"
     ]
    },
    {
     "name": "stderr",
     "output_type": "stream",
     "text": [
      "DEBUG flwr 2024-07-20 18:46:39,591 | server.py:187 | evaluate_round 3 received 10 results and 0 failures\n",
      "DEBUG flwr 2024-07-20 18:46:39,592 | server.py:222 | fit_round 4: strategy sampled 10 clients (out of 10)\n"
     ]
    },
    {
     "name": "stdout",
     "output_type": "stream",
     "text": [
      "\u001b[36m(launch_and_fit pid=2867)\u001b[0m Run with homomorphic encryption\u001b[32m [repeated 2x across cluster]\u001b[0m\n",
      "\u001b[36m(launch_and_evaluate pid=2781)\u001b[0m [Client 4] evaluate, config: {}\n",
      "\u001b[36m(launch_and_evaluate pid=2781)\u001b[0m Updated model\n",
      "\u001b[36m(launch_and_fit pid=2866)\u001b[0m [Client 2, round 4] fit, config: {'learning_rate': 0.001, 'batch_size': '128', 'server_round': 4, 'local_epochs': 10}\n",
      "\u001b[36m(launch_and_fit pid=2867)\u001b[0m Updated model\n"
     ]
    },
    {
     "name": "stderr",
     "output_type": "stream",
     "text": [
      "  0%|\u001b[34m          \u001b[0m| 0/10 [00:00<?, ?it/s]\n",
      "100%|\u001b[34m██████████\u001b[0m| 10/10 [00:58<00:00,  5.89s/it]\n"
     ]
    },
    {
     "name": "stdout",
     "output_type": "stream",
     "text": [
      "\u001b[36m(launch_and_fit pid=2867)\u001b[0m \tTrain Epoch: 1 \tTrain_loss: 1.8465 | Train_acc: 26.0720 % | Validation_loss: 1.8862 | Validation_acc: 31.3106 %\n",
      "\u001b[36m(launch_and_fit pid=2866)\u001b[0m Run with homomorphic encryption\n",
      "\u001b[36m(launch_and_fit pid=2867)\u001b[0m [Client 4, round 4] fit, config: {'learning_rate': 0.001, 'batch_size': '128', 'server_round': 4, 'local_epochs': 10}\n",
      "\u001b[36m(launch_and_fit pid=2866)\u001b[0m Updated model\n"
     ]
    },
    {
     "name": "stderr",
     "output_type": "stream",
     "text": [
      " 10%|\u001b[34m█         \u001b[0m| 1/10 [00:06<00:55,  6.21s/it]\n",
      "  0%|\u001b[34m          \u001b[0m| 0/10 [00:00<?, ?it/s]\n"
     ]
    },
    {
     "name": "stdout",
     "output_type": "stream",
     "text": [
      "\u001b[36m(launch_and_fit pid=2867)\u001b[0m \tTrain Epoch: 2 \tTrain_loss: 1.8038 | Train_acc: 28.3420 % | Validation_loss: 1.8513 | Validation_acc: 31.4723 %\u001b[32m [repeated 2x across cluster]\u001b[0m\n"
     ]
    },
    {
     "name": "stderr",
     "output_type": "stream",
     "text": [
      " 20%|\u001b[34m██        \u001b[0m| 2/10 [00:12<00:48,  6.02s/it]\u001b[32m [repeated 2x across cluster]\u001b[0m\n"
     ]
    },
    {
     "name": "stdout",
     "output_type": "stream",
     "text": [
      "\u001b[36m(launch_and_fit pid=2866)\u001b[0m \tTrain Epoch: 3 \tTrain_loss: 1.7613 | Train_acc: 29.1319 % | Validation_loss: 1.7764 | Validation_acc: 28.2866 %\u001b[32m [repeated 2x across cluster]\u001b[0m\n"
     ]
    },
    {
     "name": "stderr",
     "output_type": "stream",
     "text": [
      " 30%|\u001b[34m███       \u001b[0m| 3/10 [00:17<00:41,  5.90s/it]\u001b[32m [repeated 2x across cluster]\u001b[0m\n"
     ]
    },
    {
     "name": "stdout",
     "output_type": "stream",
     "text": [
      "\u001b[36m(launch_and_fit pid=2866)\u001b[0m \tTrain Epoch: 4 \tTrain_loss: 1.7309 | Train_acc: 29.6528 % | Validation_loss: 1.7727 | Validation_acc: 27.6805 %\u001b[32m [repeated 2x across cluster]\u001b[0m\n"
     ]
    },
    {
     "name": "stderr",
     "output_type": "stream",
     "text": [
      " 40%|\u001b[34m████      \u001b[0m| 4/10 [00:23<00:34,  5.82s/it]\u001b[32m [repeated 2x across cluster]\u001b[0m\n"
     ]
    },
    {
     "name": "stdout",
     "output_type": "stream",
     "text": [
      "\u001b[36m(launch_and_fit pid=2866)\u001b[0m \tTrain Epoch: 5 \tTrain_loss: 1.6910 | Train_acc: 32.1788 % | Validation_loss: 1.7831 | Validation_acc: 28.7918 %\u001b[32m [repeated 2x across cluster]\u001b[0m\n"
     ]
    },
    {
     "name": "stderr",
     "output_type": "stream",
     "text": [
      " 50%|\u001b[34m█████     \u001b[0m| 5/10 [00:29<00:29,  5.85s/it]\u001b[32m [repeated 2x across cluster]\u001b[0m\n"
     ]
    },
    {
     "name": "stdout",
     "output_type": "stream",
     "text": [
      "\u001b[36m(launch_and_fit pid=2866)\u001b[0m \tTrain Epoch: 6 \tTrain_loss: 1.6629 | Train_acc: 33.5156 % | Validation_loss: 1.7357 | Validation_acc: 30.2196 %\u001b[32m [repeated 2x across cluster]\u001b[0m\n"
     ]
    },
    {
     "name": "stderr",
     "output_type": "stream",
     "text": [
      " 60%|\u001b[34m██████    \u001b[0m| 6/10 [00:35<00:23,  5.87s/it]\u001b[32m [repeated 2x across cluster]\u001b[0m\n"
     ]
    },
    {
     "name": "stdout",
     "output_type": "stream",
     "text": [
      "\u001b[36m(launch_and_fit pid=2866)\u001b[0m \tTrain Epoch: 7 \tTrain_loss: 1.6384 | Train_acc: 34.7830 % | Validation_loss: 1.7121 | Validation_acc: 27.9903 %\u001b[32m [repeated 2x across cluster]\u001b[0m\n"
     ]
    },
    {
     "name": "stderr",
     "output_type": "stream",
     "text": [
      " 70%|\u001b[34m███████   \u001b[0m| 7/10 [00:41<00:17,  5.84s/it]\u001b[32m [repeated 2x across cluster]\u001b[0m\n"
     ]
    },
    {
     "name": "stdout",
     "output_type": "stream",
     "text": [
      "\u001b[36m(launch_and_fit pid=2866)\u001b[0m \tTrain Epoch: 8 \tTrain_loss: 1.6165 | Train_acc: 34.6832 % | Validation_loss: 1.7920 | Validation_acc: 28.5156 %\u001b[32m [repeated 2x across cluster]\u001b[0m\n"
     ]
    },
    {
     "name": "stderr",
     "output_type": "stream",
     "text": [
      " 80%|\u001b[34m████████  \u001b[0m| 8/10 [00:47<00:11,  5.87s/it]\u001b[32m [repeated 2x across cluster]\u001b[0m\n"
     ]
    },
    {
     "name": "stdout",
     "output_type": "stream",
     "text": [
      "\u001b[36m(launch_and_fit pid=2866)\u001b[0m \tTrain Epoch: 9 \tTrain_loss: 1.5973 | Train_acc: 36.6840 % | Validation_loss: 1.7168 | Validation_acc: 30.3004 %\u001b[32m [repeated 2x across cluster]\u001b[0m\n"
     ]
    },
    {
     "name": "stderr",
     "output_type": "stream",
     "text": [
      " 90%|\u001b[34m█████████ \u001b[0m| 9/10 [00:53<00:05,  5.90s/it]\u001b[32m [repeated 2x across cluster]\u001b[0m\n"
     ]
    },
    {
     "name": "stdout",
     "output_type": "stream",
     "text": [
      "\u001b[36m(launch_and_fit pid=2866)\u001b[0m save graph in  results/FL/\n",
      "\u001b[36m(launch_and_fit pid=2866)\u001b[0m \tTrain Epoch: 10 \tTrain_loss: 1.5764 | Train_acc: 38.9583 % | Validation_loss: 1.7394 | Validation_acc: 31.1759 %\u001b[32m [repeated 2x across cluster]\u001b[0m\n"
     ]
    },
    {
     "name": "stderr",
     "output_type": "stream",
     "text": [
      "100%|\u001b[34m██████████\u001b[0m| 10/10 [00:59<00:00,  5.90s/it]\u001b[32m [repeated 2x across cluster]\u001b[0m\n"
     ]
    },
    {
     "name": "stdout",
     "output_type": "stream",
     "text": [
      "\u001b[36m(launch_and_fit pid=2866)\u001b[0m network.0.weight 5.9604644775390625e-06\n",
      "\u001b[36m(launch_and_fit pid=2866)\u001b[0m network.0.bias 1.1920928955078125e-06\n",
      "\u001b[36m(launch_and_fit pid=2866)\u001b[0m network.2.weight 9.5367431640625e-07\n",
      "\u001b[36m(launch_and_fit pid=2866)\u001b[0m network.2.bias 9.5367431640625e-07\n",
      "\u001b[36m(launch_and_fit pid=2866)\u001b[0m network.5.weight 1.1920928955078125e-06\n",
      "\u001b[36m(launch_and_fit pid=2866)\u001b[0m network.5.bias 1.1920928955078125e-06\n",
      "\u001b[36m(launch_and_fit pid=2866)\u001b[0m network.7.weight 1.1920928955078125e-06\n",
      "\u001b[36m(launch_and_fit pid=2866)\u001b[0m network.7.bias 9.5367431640625e-07\n",
      "\u001b[36m(launch_and_fit pid=2866)\u001b[0m network.10.weight 1.430511474609375e-06\n",
      "\u001b[36m(launch_and_fit pid=2866)\u001b[0m network.10.bias 1.1920928955078125e-06\n",
      "\u001b[36m(launch_and_fit pid=2866)\u001b[0m network.12.weight 1.1920928955078125e-06\n",
      "\u001b[36m(launch_and_fit pid=2866)\u001b[0m network.12.bias 1.1920928955078125e-06\n",
      "\u001b[36m(launch_and_fit pid=2866)\u001b[0m network.16.weight 9.5367431640625e-07\n",
      "\u001b[36m(launch_and_fit pid=2866)\u001b[0m network.16.bias 9.5367431640625e-07\n",
      "\u001b[36m(launch_and_fit pid=2866)\u001b[0m network.18.weight 1.1920928955078125e-06\n",
      "\u001b[36m(launch_and_fit pid=2866)\u001b[0m network.18.bias 1.1920928955078125e-06\n",
      "\u001b[36m(launch_and_fit pid=2866)\u001b[0m network.20.weight 9.5367431640625e-07\n",
      "\u001b[36m(launch_and_fit pid=2866)\u001b[0m network.20.bias 9.5367431640625e-07\n",
      "\u001b[36m(launch_and_fit pid=2866)\u001b[0m qnn.weights 1.430511474609375e-06\n",
      "\u001b[36m(launch_and_fit pid=2866)\u001b[0m fc4.weight 1.1920928955078125e-06\n",
      "\u001b[36m(launch_and_fit pid=2866)\u001b[0m fc4.bias 1.1920928955078125e-06\n",
      "\u001b[36m(launch_and_fit pid=2951)\u001b[0m Run with homomorphic encryption\n",
      "\u001b[36m(launch_and_fit pid=2867)\u001b[0m save graph in  results/FL/\n",
      "\u001b[36m(launch_and_fit pid=2867)\u001b[0m \tTrain Epoch: 10 \tTrain_loss: 1.5611 | Train_acc: 37.9687 % | Validation_loss: 1.7526 | Validation_acc: 35.9846 %\n",
      "\u001b[36m(launch_and_fit pid=2867)\u001b[0m fc4.bias 1.6689300537109375e-06\u001b[32m [repeated 20x across cluster]\u001b[0m\n",
      "\u001b[36m(launch_and_fit pid=2867)\u001b[0m qnn.weights 1.430511474609375e-06\n",
      "\u001b[36m(launch_and_fit pid=2949)\u001b[0m [Client 0, round 4] fit, config: {'learning_rate': 0.001, 'batch_size': '128', 'server_round': 4, 'local_epochs': 10}\n",
      "\u001b[36m(launch_and_fit pid=2951)\u001b[0m Updated model\n"
     ]
    },
    {
     "name": "stderr",
     "output_type": "stream",
     "text": [
      "  0%|\u001b[34m          \u001b[0m| 0/10 [00:00<?, ?it/s]\n",
      "100%|\u001b[34m██████████\u001b[0m| 10/10 [00:59<00:00,  5.93s/it]\n"
     ]
    },
    {
     "name": "stdout",
     "output_type": "stream",
     "text": [
      "\u001b[36m(launch_and_fit pid=2949)\u001b[0m \tTrain Epoch: 1 \tTrain_loss: 1.8306 | Train_acc: 27.0486 % | Validation_loss: 1.7803 | Validation_acc: 27.0339 %\n",
      "\u001b[36m(launch_and_fit pid=2949)\u001b[0m Run with homomorphic encryption\n",
      "\u001b[36m(launch_and_fit pid=2951)\u001b[0m [Client 8, round 4] fit, config: {'learning_rate': 0.001, 'batch_size': '128', 'server_round': 4, 'local_epochs': 10}\n",
      "\u001b[36m(launch_and_fit pid=2949)\u001b[0m Updated model\n"
     ]
    },
    {
     "name": "stderr",
     "output_type": "stream",
     "text": [
      " 10%|\u001b[34m█         \u001b[0m| 1/10 [00:06<00:55,  6.18s/it]\n",
      "  0%|\u001b[34m          \u001b[0m| 0/10 [00:00<?, ?it/s]\n"
     ]
    },
    {
     "name": "stdout",
     "output_type": "stream",
     "text": [
      "\u001b[36m(launch_and_fit pid=2949)\u001b[0m \tTrain Epoch: 2 \tTrain_loss: 1.7944 | Train_acc: 28.9410 % | Validation_loss: 1.7556 | Validation_acc: 29.1622 %\u001b[32m [repeated 2x across cluster]\u001b[0m\n"
     ]
    },
    {
     "name": "stderr",
     "output_type": "stream",
     "text": [
      " 20%|\u001b[34m██        \u001b[0m| 2/10 [00:11<00:46,  5.85s/it]\u001b[32m [repeated 2x across cluster]\u001b[0m\n"
     ]
    },
    {
     "name": "stdout",
     "output_type": "stream",
     "text": [
      "\u001b[36m(launch_and_fit pid=2949)\u001b[0m \tTrain Epoch: 3 \tTrain_loss: 1.7550 | Train_acc: 29.2361 % | Validation_loss: 1.7439 | Validation_acc: 27.2293 %\u001b[32m [repeated 2x across cluster]\u001b[0m\n"
     ]
    },
    {
     "name": "stderr",
     "output_type": "stream",
     "text": [
      " 30%|\u001b[34m███       \u001b[0m| 3/10 [00:17<00:40,  5.86s/it]\u001b[32m [repeated 2x across cluster]\u001b[0m\n"
     ]
    },
    {
     "name": "stdout",
     "output_type": "stream",
     "text": [
      "\u001b[36m(launch_and_fit pid=2949)\u001b[0m \tTrain Epoch: 4 \tTrain_loss: 1.7268 | Train_acc: 31.0286 % | Validation_loss: 1.7449 | Validation_acc: 32.1727 %\u001b[32m [repeated 2x across cluster]\u001b[0m\n"
     ]
    },
    {
     "name": "stderr",
     "output_type": "stream",
     "text": [
      " 40%|\u001b[34m████      \u001b[0m| 4/10 [00:23<00:35,  5.92s/it]\u001b[32m [repeated 2x across cluster]\u001b[0m\n"
     ]
    },
    {
     "name": "stdout",
     "output_type": "stream",
     "text": [
      "\u001b[36m(launch_and_fit pid=2949)\u001b[0m \tTrain Epoch: 5 \tTrain_loss: 1.7013 | Train_acc: 32.2135 % | Validation_loss: 1.7477 | Validation_acc: 34.4423 %\u001b[32m [repeated 2x across cluster]\u001b[0m\n"
     ]
    },
    {
     "name": "stderr",
     "output_type": "stream",
     "text": [
      " 50%|\u001b[34m█████     \u001b[0m| 5/10 [00:29<00:29,  5.86s/it]\u001b[32m [repeated 2x across cluster]\u001b[0m\n"
     ]
    },
    {
     "name": "stdout",
     "output_type": "stream",
     "text": [
      "\u001b[36m(launch_and_fit pid=2949)\u001b[0m \tTrain Epoch: 6 \tTrain_loss: 1.7102 | Train_acc: 31.7752 % | Validation_loss: 1.7498 | Validation_acc: 32.0380 %\u001b[32m [repeated 2x across cluster]\u001b[0m\n"
     ]
    },
    {
     "name": "stderr",
     "output_type": "stream",
     "text": [
      " 60%|\u001b[34m██████    \u001b[0m| 6/10 [00:35<00:23,  5.83s/it]\u001b[32m [repeated 2x across cluster]\u001b[0m\n"
     ]
    },
    {
     "name": "stdout",
     "output_type": "stream",
     "text": [
      "\u001b[36m(launch_and_fit pid=2949)\u001b[0m \tTrain Epoch: 7 \tTrain_loss: 1.6538 | Train_acc: 33.6675 % | Validation_loss: 1.7216 | Validation_acc: 33.8160 %\u001b[32m [repeated 2x across cluster]\u001b[0m\n"
     ]
    },
    {
     "name": "stderr",
     "output_type": "stream",
     "text": [
      " 70%|\u001b[34m███████   \u001b[0m| 7/10 [00:40<00:17,  5.77s/it]\u001b[32m [repeated 2x across cluster]\u001b[0m\n"
     ]
    },
    {
     "name": "stdout",
     "output_type": "stream",
     "text": [
      "\u001b[36m(launch_and_fit pid=2949)\u001b[0m \tTrain Epoch: 8 \tTrain_loss: 1.6182 | Train_acc: 35.5512 % | Validation_loss: 1.7024 | Validation_acc: 34.7320 %\u001b[32m [repeated 2x across cluster]\u001b[0m\n"
     ]
    },
    {
     "name": "stderr",
     "output_type": "stream",
     "text": [
      " 80%|\u001b[34m████████  \u001b[0m| 8/10 [00:46<00:11,  5.72s/it]\u001b[32m [repeated 2x across cluster]\u001b[0m\n"
     ]
    },
    {
     "name": "stdout",
     "output_type": "stream",
     "text": [
      "\u001b[36m(launch_and_fit pid=2949)\u001b[0m \tTrain Epoch: 9 \tTrain_loss: 1.5844 | Train_acc: 36.7925 % | Validation_loss: 1.7054 | Validation_acc: 28.0105 %\u001b[32m [repeated 2x across cluster]\u001b[0m\n"
     ]
    },
    {
     "name": "stderr",
     "output_type": "stream",
     "text": [
      " 90%|\u001b[34m█████████ \u001b[0m| 9/10 [00:52<00:05,  5.88s/it]\u001b[32m [repeated 2x across cluster]\u001b[0m\n"
     ]
    },
    {
     "name": "stdout",
     "output_type": "stream",
     "text": [
      "\u001b[36m(launch_and_fit pid=2949)\u001b[0m save graph in  results/FL/\n",
      "\u001b[36m(launch_and_fit pid=2949)\u001b[0m \tTrain Epoch: 10 \tTrain_loss: 1.5414 | Train_acc: 38.6762 % | Validation_loss: 1.6913 | Validation_acc: 32.2131 %\u001b[32m [repeated 2x across cluster]\u001b[0m\n"
     ]
    },
    {
     "name": "stderr",
     "output_type": "stream",
     "text": [
      "100%|\u001b[34m██████████\u001b[0m| 10/10 [00:58<00:00,  5.84s/it]\u001b[32m [repeated 2x across cluster]\u001b[0m\n"
     ]
    },
    {
     "name": "stdout",
     "output_type": "stream",
     "text": [
      "\u001b[36m(launch_and_fit pid=2949)\u001b[0m network.0.weight 4.5299530029296875e-06\n",
      "\u001b[36m(launch_and_fit pid=2949)\u001b[0m network.0.bias 1.6689300537109375e-06\n",
      "\u001b[36m(launch_and_fit pid=2949)\u001b[0m network.2.weight 1.430511474609375e-06\n",
      "\u001b[36m(launch_and_fit pid=2949)\u001b[0m network.2.bias 9.5367431640625e-07\n",
      "\u001b[36m(launch_and_fit pid=2949)\u001b[0m network.5.weight 1.430511474609375e-06\n",
      "\u001b[36m(launch_and_fit pid=2949)\u001b[0m network.5.bias 1.1920928955078125e-06\n",
      "\u001b[36m(launch_and_fit pid=2949)\u001b[0m network.7.weight 9.5367431640625e-07\n",
      "\u001b[36m(launch_and_fit pid=2949)\u001b[0m network.7.bias 1.430511474609375e-06\n",
      "\u001b[36m(launch_and_fit pid=2949)\u001b[0m network.10.weight 9.5367431640625e-07\n",
      "\u001b[36m(launch_and_fit pid=2949)\u001b[0m network.10.bias 9.5367431640625e-07\n",
      "\u001b[36m(launch_and_fit pid=2949)\u001b[0m network.12.weight 1.1920928955078125e-06\n",
      "\u001b[36m(launch_and_fit pid=2949)\u001b[0m network.12.bias 1.1920928955078125e-06\n",
      "\u001b[36m(launch_and_fit pid=2949)\u001b[0m network.16.weight 1.1920928955078125e-06\n",
      "\u001b[36m(launch_and_fit pid=2949)\u001b[0m network.16.bias 1.1920928955078125e-06\n",
      "\u001b[36m(launch_and_fit pid=2949)\u001b[0m network.18.weight 1.1920928955078125e-06\n",
      "\u001b[36m(launch_and_fit pid=2949)\u001b[0m network.18.bias 1.1920928955078125e-06\n",
      "\u001b[36m(launch_and_fit pid=2949)\u001b[0m network.20.weight 9.5367431640625e-07\n",
      "\u001b[36m(launch_and_fit pid=2949)\u001b[0m network.20.bias 9.5367431640625e-07\n",
      "\u001b[36m(launch_and_fit pid=2949)\u001b[0m qnn.weights 1.1920928955078125e-06\n",
      "\u001b[36m(launch_and_fit pid=2949)\u001b[0m fc4.weight 9.5367431640625e-07\n",
      "\u001b[36m(launch_and_fit pid=2949)\u001b[0m fc4.bias 1.430511474609375e-06\n",
      "\u001b[36m(launch_and_fit pid=3032)\u001b[0m Run with homomorphic encryption\n",
      "\u001b[36m(launch_and_fit pid=2951)\u001b[0m save graph in  results/FL/\n",
      "\u001b[36m(launch_and_fit pid=2951)\u001b[0m \tTrain Epoch: 10 \tTrain_loss: 1.5643 | Train_acc: 39.1059 % | Validation_loss: 1.6948 | Validation_acc: 35.9106 %\n",
      "\u001b[36m(launch_and_fit pid=2951)\u001b[0m fc4.bias 1.430511474609375e-06\u001b[32m [repeated 20x across cluster]\u001b[0m\n",
      "\u001b[36m(launch_and_fit pid=2951)\u001b[0m qnn.weights 9.5367431640625e-07\n",
      "\u001b[36m(launch_and_fit pid=3032)\u001b[0m [Client 5, round 4] fit, config: {'learning_rate': 0.001, 'batch_size': '128', 'server_round': 4, 'local_epochs': 10}\n",
      "\u001b[36m(launch_and_fit pid=3032)\u001b[0m Updated model\n"
     ]
    },
    {
     "name": "stderr",
     "output_type": "stream",
     "text": [
      "  0%|\u001b[34m          \u001b[0m| 0/10 [00:00<?, ?it/s]\n",
      "100%|\u001b[34m██████████\u001b[0m| 10/10 [00:58<00:00,  5.86s/it]\n"
     ]
    },
    {
     "name": "stdout",
     "output_type": "stream",
     "text": [
      "\u001b[36m(launch_and_fit pid=3032)\u001b[0m \tTrain Epoch: 1 \tTrain_loss: 1.8452 | Train_acc: 25.4991 % | Validation_loss: 1.8257 | Validation_acc: 27.7546 %\n",
      "\u001b[36m(launch_and_fit pid=3034)\u001b[0m Run with homomorphic encryption\n",
      "\u001b[36m(launch_and_fit pid=3034)\u001b[0m [Client 3, round 4] fit, config: {'learning_rate': 0.001, 'batch_size': '128', 'server_round': 4, 'local_epochs': 10}\n",
      "\u001b[36m(launch_and_fit pid=3034)\u001b[0m Updated model\n"
     ]
    },
    {
     "name": "stderr",
     "output_type": "stream",
     "text": [
      " 10%|\u001b[34m█         \u001b[0m| 1/10 [00:06<00:55,  6.21s/it]\n",
      "  0%|\u001b[34m          \u001b[0m| 0/10 [00:00<?, ?it/s]\n"
     ]
    },
    {
     "name": "stdout",
     "output_type": "stream",
     "text": [
      "\u001b[36m(launch_and_fit pid=3032)\u001b[0m \tTrain Epoch: 2 \tTrain_loss: 1.7793 | Train_acc: 29.1580 % | Validation_loss: 1.8276 | Validation_acc: 30.1185 %\u001b[32m [repeated 2x across cluster]\u001b[0m\n"
     ]
    },
    {
     "name": "stderr",
     "output_type": "stream",
     "text": [
      " 20%|\u001b[34m██        \u001b[0m| 2/10 [00:12<00:48,  6.07s/it]\u001b[32m [repeated 2x across cluster]\u001b[0m\n"
     ]
    },
    {
     "name": "stdout",
     "output_type": "stream",
     "text": [
      "\u001b[36m(launch_and_fit pid=3032)\u001b[0m \tTrain Epoch: 3 \tTrain_loss: 1.7384 | Train_acc: 31.7144 % | Validation_loss: 1.8246 | Validation_acc: 30.3341 %\u001b[32m [repeated 2x across cluster]\u001b[0m\n"
     ]
    },
    {
     "name": "stderr",
     "output_type": "stream",
     "text": [
      " 30%|\u001b[34m███       \u001b[0m| 3/10 [00:17<00:41,  5.91s/it]\u001b[32m [repeated 2x across cluster]\u001b[0m\n"
     ]
    },
    {
     "name": "stdout",
     "output_type": "stream",
     "text": [
      "\u001b[36m(launch_and_fit pid=3032)\u001b[0m \tTrain Epoch: 4 \tTrain_loss: 1.7142 | Train_acc: 31.7274 % | Validation_loss: 1.7986 | Validation_acc: 29.7885 %\u001b[32m [repeated 2x across cluster]\u001b[0m\n"
     ]
    },
    {
     "name": "stderr",
     "output_type": "stream",
     "text": [
      " 40%|\u001b[34m████      \u001b[0m| 4/10 [00:23<00:35,  5.85s/it]\u001b[32m [repeated 2x across cluster]\u001b[0m\n"
     ]
    },
    {
     "name": "stdout",
     "output_type": "stream",
     "text": [
      "\u001b[36m(launch_and_fit pid=3032)\u001b[0m \tTrain Epoch: 5 \tTrain_loss: 1.6852 | Train_acc: 32.9384 % | Validation_loss: 1.8137 | Validation_acc: 28.8860 %\u001b[32m [repeated 2x across cluster]\u001b[0m\n"
     ]
    },
    {
     "name": "stderr",
     "output_type": "stream",
     "text": [
      " 50%|\u001b[34m█████     \u001b[0m| 5/10 [00:29<00:29,  5.80s/it]\u001b[32m [repeated 2x across cluster]\u001b[0m\n"
     ]
    },
    {
     "name": "stdout",
     "output_type": "stream",
     "text": [
      "\u001b[36m(launch_and_fit pid=3032)\u001b[0m \tTrain Epoch: 6 \tTrain_loss: 1.6556 | Train_acc: 34.5356 % | Validation_loss: 1.7866 | Validation_acc: 32.0784 %\u001b[32m [repeated 2x across cluster]\u001b[0m\n"
     ]
    },
    {
     "name": "stderr",
     "output_type": "stream",
     "text": [
      " 60%|\u001b[34m██████    \u001b[0m| 6/10 [00:34<00:22,  5.73s/it]\u001b[32m [repeated 2x across cluster]\u001b[0m\n"
     ]
    },
    {
     "name": "stdout",
     "output_type": "stream",
     "text": [
      "\u001b[36m(launch_and_fit pid=3032)\u001b[0m \tTrain Epoch: 7 \tTrain_loss: 1.6290 | Train_acc: 35.4514 % | Validation_loss: 1.7843 | Validation_acc: 31.6474 %\u001b[32m [repeated 2x across cluster]\u001b[0m\n"
     ]
    },
    {
     "name": "stderr",
     "output_type": "stream",
     "text": [
      " 70%|\u001b[34m███████   \u001b[0m| 7/10 [00:40<00:17,  5.78s/it]\u001b[32m [repeated 2x across cluster]\u001b[0m\n"
     ]
    },
    {
     "name": "stdout",
     "output_type": "stream",
     "text": [
      "\u001b[36m(launch_and_fit pid=3032)\u001b[0m \tTrain Epoch: 8 \tTrain_loss: 1.5903 | Train_acc: 36.2630 % | Validation_loss: 1.7627 | Validation_acc: 34.1460 %\u001b[32m [repeated 2x across cluster]\u001b[0m\n"
     ]
    },
    {
     "name": "stderr",
     "output_type": "stream",
     "text": [
      " 80%|\u001b[34m████████  \u001b[0m| 8/10 [00:46<00:11,  5.75s/it]\u001b[32m [repeated 2x across cluster]\u001b[0m\n"
     ]
    },
    {
     "name": "stdout",
     "output_type": "stream",
     "text": [
      "\u001b[36m(launch_and_fit pid=3032)\u001b[0m \tTrain Epoch: 9 \tTrain_loss: 1.5677 | Train_acc: 38.3073 % | Validation_loss: 1.7896 | Validation_acc: 29.9636 %\u001b[32m [repeated 2x across cluster]\u001b[0m\n"
     ]
    },
    {
     "name": "stderr",
     "output_type": "stream",
     "text": [
      " 90%|\u001b[34m█████████ \u001b[0m| 9/10 [00:52<00:05,  5.78s/it]\u001b[32m [repeated 2x across cluster]\u001b[0m\n"
     ]
    },
    {
     "name": "stdout",
     "output_type": "stream",
     "text": [
      "\u001b[36m(launch_and_fit pid=3032)\u001b[0m save graph in  results/FL/\n",
      "\u001b[36m(launch_and_fit pid=3032)\u001b[0m \tTrain Epoch: 10 \tTrain_loss: 1.5440 | Train_acc: 39.4010 % | Validation_loss: 1.7377 | Validation_acc: 32.4825 %\u001b[32m [repeated 2x across cluster]\u001b[0m\n"
     ]
    },
    {
     "name": "stderr",
     "output_type": "stream",
     "text": [
      "100%|\u001b[34m██████████\u001b[0m| 10/10 [00:58<00:00,  5.81s/it]\u001b[32m [repeated 2x across cluster]\u001b[0m\n"
     ]
    },
    {
     "name": "stdout",
     "output_type": "stream",
     "text": [
      "\u001b[36m(launch_and_fit pid=3032)\u001b[0m network.0.weight 5.4836273193359375e-06\n",
      "\u001b[36m(launch_and_fit pid=3032)\u001b[0m network.0.bias 1.430511474609375e-06\n",
      "\u001b[36m(launch_and_fit pid=3032)\u001b[0m network.2.weight 9.5367431640625e-07\n",
      "\u001b[36m(launch_and_fit pid=3032)\u001b[0m network.2.bias 9.5367431640625e-07\n",
      "\u001b[36m(launch_and_fit pid=3032)\u001b[0m network.5.weight 1.1920928955078125e-06\n",
      "\u001b[36m(launch_and_fit pid=3032)\u001b[0m network.5.bias 1.430511474609375e-06\n",
      "\u001b[36m(launch_and_fit pid=3032)\u001b[0m network.7.weight 1.1920928955078125e-06\n",
      "\u001b[36m(launch_and_fit pid=3032)\u001b[0m network.7.bias 9.5367431640625e-07\n",
      "\u001b[36m(launch_and_fit pid=3032)\u001b[0m network.10.weight 1.430511474609375e-06\n",
      "\u001b[36m(launch_and_fit pid=3032)\u001b[0m network.10.bias 9.5367431640625e-07\n",
      "\u001b[36m(launch_and_fit pid=3032)\u001b[0m network.12.weight 1.1920928955078125e-06\n",
      "\u001b[36m(launch_and_fit pid=3032)\u001b[0m network.12.bias 1.1920928955078125e-06\n",
      "\u001b[36m(launch_and_fit pid=3032)\u001b[0m network.16.weight 9.5367431640625e-07\n",
      "\u001b[36m(launch_and_fit pid=3032)\u001b[0m network.16.bias 9.5367431640625e-07\n",
      "\u001b[36m(launch_and_fit pid=3032)\u001b[0m network.18.weight 9.5367431640625e-07\n",
      "\u001b[36m(launch_and_fit pid=3032)\u001b[0m network.18.bias 1.1920928955078125e-06\n",
      "\u001b[36m(launch_and_fit pid=3032)\u001b[0m network.20.weight 1.1920928955078125e-06\n",
      "\u001b[36m(launch_and_fit pid=3032)\u001b[0m network.20.bias 9.5367431640625e-07\n",
      "\u001b[36m(launch_and_fit pid=3032)\u001b[0m qnn.weights 1.430511474609375e-06\n",
      "\u001b[36m(launch_and_fit pid=3032)\u001b[0m fc4.weight 1.1920928955078125e-06\n",
      "\u001b[36m(launch_and_fit pid=3032)\u001b[0m fc4.bias 1.1920928955078125e-06\n",
      "\u001b[36m(launch_and_fit pid=3114)\u001b[0m Run with homomorphic encryption\n",
      "\u001b[36m(launch_and_fit pid=3034)\u001b[0m save graph in  results/FL/\n",
      "\u001b[36m(launch_and_fit pid=3034)\u001b[0m \tTrain Epoch: 10 \tTrain_loss: 1.5266 | Train_acc: 40.2561 % | Validation_loss: 1.7660 | Validation_acc: 32.5027 %\n",
      "\u001b[36m(launch_and_fit pid=3034)\u001b[0m fc4.bias 1.430511474609375e-06\u001b[32m [repeated 20x across cluster]\u001b[0m\n",
      "\u001b[36m(launch_and_fit pid=3034)\u001b[0m qnn.weights 9.5367431640625e-07\n",
      "\u001b[36m(launch_and_fit pid=3114)\u001b[0m [Client 7, round 4] fit, config: {'learning_rate': 0.001, 'batch_size': '128', 'server_round': 4, 'local_epochs': 10}\n",
      "\u001b[36m(launch_and_fit pid=3114)\u001b[0m Updated model\n"
     ]
    },
    {
     "name": "stderr",
     "output_type": "stream",
     "text": [
      "  0%|\u001b[34m          \u001b[0m| 0/10 [00:00<?, ?it/s]\n",
      "100%|\u001b[34m██████████\u001b[0m| 10/10 [00:58<00:00,  5.89s/it]\n"
     ]
    },
    {
     "name": "stdout",
     "output_type": "stream",
     "text": [
      "\u001b[36m(launch_and_fit pid=3114)\u001b[0m \tTrain Epoch: 1 \tTrain_loss: 1.8164 | Train_acc: 26.8056 % | Validation_loss: 1.7564 | Validation_acc: 30.6506 %\n",
      "\u001b[36m(launch_and_fit pid=3139)\u001b[0m Run with homomorphic encryption\n",
      "\u001b[36m(launch_and_fit pid=3139)\u001b[0m [Client 1, round 4] fit, config: {'learning_rate': 0.001, 'batch_size': '128', 'server_round': 4, 'local_epochs': 10}\n",
      "\u001b[36m(launch_and_fit pid=3139)\u001b[0m Updated model\n"
     ]
    },
    {
     "name": "stderr",
     "output_type": "stream",
     "text": [
      " 10%|\u001b[34m█         \u001b[0m| 1/10 [00:06<00:57,  6.41s/it]\n",
      "  0%|\u001b[34m          \u001b[0m| 0/10 [00:00<?, ?it/s]\n"
     ]
    },
    {
     "name": "stdout",
     "output_type": "stream",
     "text": [
      "\u001b[36m(launch_and_fit pid=3114)\u001b[0m \tTrain Epoch: 2 \tTrain_loss: 1.7709 | Train_acc: 29.0842 % | Validation_loss: 1.7696 | Validation_acc: 32.4286 %\u001b[32m [repeated 2x across cluster]\u001b[0m\n"
     ]
    },
    {
     "name": "stderr",
     "output_type": "stream",
     "text": [
      " 20%|\u001b[34m██        \u001b[0m| 2/10 [00:12<00:48,  6.02s/it]\u001b[32m [repeated 2x across cluster]\u001b[0m\n"
     ]
    },
    {
     "name": "stdout",
     "output_type": "stream",
     "text": [
      "\u001b[36m(launch_and_fit pid=3114)\u001b[0m \tTrain Epoch: 3 \tTrain_loss: 1.7399 | Train_acc: 31.1068 % | Validation_loss: 1.7430 | Validation_acc: 34.0113 %\u001b[32m [repeated 2x across cluster]\u001b[0m\n"
     ]
    },
    {
     "name": "stderr",
     "output_type": "stream",
     "text": [
      " 30%|\u001b[34m███       \u001b[0m| 3/10 [00:17<00:41,  5.92s/it]\u001b[32m [repeated 2x across cluster]\u001b[0m\n"
     ]
    },
    {
     "name": "stdout",
     "output_type": "stream",
     "text": [
      "\u001b[36m(launch_and_fit pid=3114)\u001b[0m \tTrain Epoch: 4 \tTrain_loss: 1.7201 | Train_acc: 32.4740 % | Validation_loss: 1.7393 | Validation_acc: 32.3680 %\u001b[32m [repeated 2x across cluster]\u001b[0m\n"
     ]
    },
    {
     "name": "stderr",
     "output_type": "stream",
     "text": [
      " 40%|\u001b[34m████      \u001b[0m| 4/10 [00:23<00:35,  5.91s/it]\u001b[32m [repeated 2x across cluster]\u001b[0m\n"
     ]
    },
    {
     "name": "stdout",
     "output_type": "stream",
     "text": [
      "\u001b[36m(launch_and_fit pid=3114)\u001b[0m \tTrain Epoch: 5 \tTrain_loss: 1.6887 | Train_acc: 34.1797 % | Validation_loss: 1.8490 | Validation_acc: 32.2737 %\u001b[32m [repeated 2x across cluster]\u001b[0m\n"
     ]
    },
    {
     "name": "stderr",
     "output_type": "stream",
     "text": [
      " 50%|\u001b[34m█████     \u001b[0m| 5/10 [00:29<00:29,  5.86s/it]\u001b[32m [repeated 2x across cluster]\u001b[0m\n"
     ]
    },
    {
     "name": "stdout",
     "output_type": "stream",
     "text": [
      "\u001b[36m(launch_and_fit pid=3114)\u001b[0m \tTrain Epoch: 6 \tTrain_loss: 1.6834 | Train_acc: 33.8976 % | Validation_loss: 1.7108 | Validation_acc: 34.0315 %\u001b[32m [repeated 2x across cluster]\u001b[0m\n"
     ]
    },
    {
     "name": "stderr",
     "output_type": "stream",
     "text": [
      " 60%|\u001b[34m██████    \u001b[0m| 6/10 [00:35<00:23,  5.89s/it]\u001b[32m [repeated 2x across cluster]\u001b[0m\n"
     ]
    },
    {
     "name": "stdout",
     "output_type": "stream",
     "text": [
      "\u001b[36m(launch_and_fit pid=3114)\u001b[0m \tTrain Epoch: 7 \tTrain_loss: 1.6518 | Train_acc: 35.2517 % | Validation_loss: 1.6961 | Validation_acc: 36.4157 %\u001b[32m [repeated 2x across cluster]\u001b[0m\n"
     ]
    },
    {
     "name": "stderr",
     "output_type": "stream",
     "text": [
      " 70%|\u001b[34m███████   \u001b[0m| 7/10 [00:41<00:17,  5.88s/it]\u001b[32m [repeated 2x across cluster]\u001b[0m\n"
     ]
    },
    {
     "name": "stdout",
     "output_type": "stream",
     "text": [
      "\u001b[36m(launch_and_fit pid=3114)\u001b[0m \tTrain Epoch: 8 \tTrain_loss: 1.5951 | Train_acc: 37.9167 % | Validation_loss: 1.6836 | Validation_acc: 32.8192 %\u001b[32m [repeated 2x across cluster]\u001b[0m\n"
     ]
    },
    {
     "name": "stderr",
     "output_type": "stream",
     "text": [
      " 80%|\u001b[34m████████  \u001b[0m| 8/10 [00:47<00:11,  5.91s/it]\u001b[32m [repeated 2x across cluster]\u001b[0m\n"
     ]
    },
    {
     "name": "stdout",
     "output_type": "stream",
     "text": [
      "\u001b[36m(launch_and_fit pid=3114)\u001b[0m \tTrain Epoch: 9 \tTrain_loss: 1.5869 | Train_acc: 37.8733 % | Validation_loss: 1.6573 | Validation_acc: 36.4763 %\u001b[32m [repeated 2x across cluster]\u001b[0m\n"
     ]
    },
    {
     "name": "stderr",
     "output_type": "stream",
     "text": [
      " 90%|\u001b[34m█████████ \u001b[0m| 9/10 [00:53<00:05,  5.87s/it]\u001b[32m [repeated 2x across cluster]\u001b[0m\n"
     ]
    },
    {
     "name": "stdout",
     "output_type": "stream",
     "text": [
      "\u001b[36m(launch_and_fit pid=3114)\u001b[0m save graph in  results/FL/\n",
      "\u001b[36m(launch_and_fit pid=3114)\u001b[0m \tTrain Epoch: 10 \tTrain_loss: 1.5448 | Train_acc: 40.3863 % | Validation_loss: 1.6666 | Validation_acc: 33.1695 %\u001b[32m [repeated 2x across cluster]\u001b[0m\n"
     ]
    },
    {
     "name": "stderr",
     "output_type": "stream",
     "text": [
      "100%|\u001b[34m██████████\u001b[0m| 10/10 [00:59<00:00,  5.91s/it]\u001b[32m [repeated 2x across cluster]\u001b[0m\n"
     ]
    },
    {
     "name": "stdout",
     "output_type": "stream",
     "text": [
      "\u001b[36m(launch_and_fit pid=3114)\u001b[0m network.0.weight 4.5299530029296875e-06\n",
      "\u001b[36m(launch_and_fit pid=3114)\u001b[0m network.0.bias 1.1920928955078125e-06\n",
      "\u001b[36m(launch_and_fit pid=3114)\u001b[0m network.2.weight 9.5367431640625e-07\n",
      "\u001b[36m(launch_and_fit pid=3114)\u001b[0m network.2.bias 9.5367431640625e-07\n",
      "\u001b[36m(launch_and_fit pid=3114)\u001b[0m network.5.weight 9.5367431640625e-07\n",
      "\u001b[36m(launch_and_fit pid=3114)\u001b[0m network.5.bias 9.5367431640625e-07\n",
      "\u001b[36m(launch_and_fit pid=3114)\u001b[0m network.7.weight 9.5367431640625e-07\n",
      "\u001b[36m(launch_and_fit pid=3114)\u001b[0m network.7.bias 1.1920928955078125e-06\n",
      "\u001b[36m(launch_and_fit pid=3114)\u001b[0m network.10.weight 1.1920928955078125e-06\n",
      "\u001b[36m(launch_and_fit pid=3114)\u001b[0m network.10.bias 9.5367431640625e-07\n",
      "\u001b[36m(launch_and_fit pid=3114)\u001b[0m network.12.weight 9.5367431640625e-07\n",
      "\u001b[36m(launch_and_fit pid=3114)\u001b[0m network.12.bias 9.5367431640625e-07\n",
      "\u001b[36m(launch_and_fit pid=3114)\u001b[0m network.16.weight 1.1920928955078125e-06\n",
      "\u001b[36m(launch_and_fit pid=3114)\u001b[0m network.16.bias 9.5367431640625e-07\n",
      "\u001b[36m(launch_and_fit pid=3114)\u001b[0m network.18.weight 9.5367431640625e-07\n",
      "\u001b[36m(launch_and_fit pid=3114)\u001b[0m network.18.bias 9.5367431640625e-07\n",
      "\u001b[36m(launch_and_fit pid=3114)\u001b[0m network.20.weight 1.1920928955078125e-06\n",
      "\u001b[36m(launch_and_fit pid=3114)\u001b[0m network.20.bias 7.152557373046875e-07\n",
      "\u001b[36m(launch_and_fit pid=3114)\u001b[0m qnn.weights 9.5367431640625e-07\n",
      "\u001b[36m(launch_and_fit pid=3114)\u001b[0m fc4.weight 9.5367431640625e-07\n",
      "\u001b[36m(launch_and_fit pid=3114)\u001b[0m fc4.bias 9.5367431640625e-07\n",
      "\u001b[36m(launch_and_fit pid=3196)\u001b[0m Run with homomorphic encryption\n",
      "\u001b[36m(launch_and_fit pid=3139)\u001b[0m save graph in  results/FL/\n",
      "\u001b[36m(launch_and_fit pid=3139)\u001b[0m \tTrain Epoch: 10 \tTrain_loss: 1.5367 | Train_acc: 38.9106 % | Validation_loss: 1.7560 | Validation_acc: 32.4084 %\n",
      "\u001b[36m(launch_and_fit pid=3139)\u001b[0m fc4.bias 1.430511474609375e-06\u001b[32m [repeated 20x across cluster]\u001b[0m\n",
      "\u001b[36m(launch_and_fit pid=3139)\u001b[0m qnn.weights 9.5367431640625e-07\n",
      "\u001b[36m(launch_and_fit pid=3196)\u001b[0m [Client 6, round 4] fit, config: {'learning_rate': 0.001, 'batch_size': '128', 'server_round': 4, 'local_epochs': 10}\n",
      "\u001b[36m(launch_and_fit pid=3196)\u001b[0m Updated model\n"
     ]
    },
    {
     "name": "stderr",
     "output_type": "stream",
     "text": [
      "  0%|\u001b[34m          \u001b[0m| 0/10 [00:00<?, ?it/s]\n",
      "100%|\u001b[34m██████████\u001b[0m| 10/10 [00:58<00:00,  5.89s/it]\n"
     ]
    },
    {
     "name": "stdout",
     "output_type": "stream",
     "text": [
      "\u001b[36m(launch_and_fit pid=3196)\u001b[0m \tTrain Epoch: 1 \tTrain_loss: 1.8220 | Train_acc: 27.3047 % | Validation_loss: 1.8203 | Validation_acc: 26.6837 %\n",
      "\u001b[36m(launch_and_fit pid=3206)\u001b[0m Run with homomorphic encryption\n",
      "\u001b[36m(launch_and_fit pid=3206)\u001b[0m [Client 9, round 4] fit, config: {'learning_rate': 0.001, 'batch_size': '128', 'server_round': 4, 'local_epochs': 10}\n",
      "\u001b[36m(launch_and_fit pid=3206)\u001b[0m Updated model\n"
     ]
    },
    {
     "name": "stderr",
     "output_type": "stream",
     "text": [
      " 10%|\u001b[34m█         \u001b[0m| 1/10 [00:06<00:55,  6.21s/it]\n",
      "  0%|\u001b[34m          \u001b[0m| 0/10 [00:00<?, ?it/s]\n"
     ]
    },
    {
     "name": "stdout",
     "output_type": "stream",
     "text": [
      "\u001b[36m(launch_and_fit pid=3196)\u001b[0m \tTrain Epoch: 2 \tTrain_loss: 1.7838 | Train_acc: 29.3750 % | Validation_loss: 1.8182 | Validation_acc: 27.9566 %\u001b[32m [repeated 2x across cluster]\u001b[0m\n"
     ]
    },
    {
     "name": "stderr",
     "output_type": "stream",
     "text": [
      " 20%|\u001b[34m██        \u001b[0m| 2/10 [00:12<00:49,  6.14s/it]\u001b[32m [repeated 2x across cluster]\u001b[0m\n"
     ]
    },
    {
     "name": "stdout",
     "output_type": "stream",
     "text": [
      "\u001b[36m(launch_and_fit pid=3196)\u001b[0m \tTrain Epoch: 3 \tTrain_loss: 1.7492 | Train_acc: 31.2066 % | Validation_loss: 1.8225 | Validation_acc: 30.1657 %\u001b[32m [repeated 2x across cluster]\u001b[0m\n"
     ]
    },
    {
     "name": "stderr",
     "output_type": "stream",
     "text": [
      " 30%|\u001b[34m███       \u001b[0m| 3/10 [00:18<00:41,  5.98s/it]\u001b[32m [repeated 2x across cluster]\u001b[0m\n"
     ]
    },
    {
     "name": "stdout",
     "output_type": "stream",
     "text": [
      "\u001b[36m(launch_and_fit pid=3206)\u001b[0m \tTrain Epoch: 4 \tTrain_loss: 1.7388 | Train_acc: 31.9054 % | Validation_loss: 1.8116 | Validation_acc: 25.7408 %\u001b[32m [repeated 2x across cluster]\u001b[0m\n"
     ]
    },
    {
     "name": "stderr",
     "output_type": "stream",
     "text": [
      " 40%|\u001b[34m████      \u001b[0m| 4/10 [00:24<00:36,  6.03s/it]\u001b[32m [repeated 2x across cluster]\u001b[0m\n"
     ]
    },
    {
     "name": "stdout",
     "output_type": "stream",
     "text": [
      "\u001b[36m(launch_and_fit pid=3206)\u001b[0m \tTrain Epoch: 5 \tTrain_loss: 1.7330 | Train_acc: 32.7561 % | Validation_loss: 1.7751 | Validation_acc: 30.9065 %\u001b[32m [repeated 2x across cluster]\u001b[0m\n"
     ]
    },
    {
     "name": "stderr",
     "output_type": "stream",
     "text": [
      " 50%|\u001b[34m█████     \u001b[0m| 5/10 [00:29<00:29,  5.89s/it]\u001b[32m [repeated 2x across cluster]\u001b[0m\n"
     ]
    },
    {
     "name": "stdout",
     "output_type": "stream",
     "text": [
      "\u001b[36m(launch_and_fit pid=3206)\u001b[0m \tTrain Epoch: 6 \tTrain_loss: 1.6754 | Train_acc: 34.0799 % | Validation_loss: 1.7421 | Validation_acc: 30.2802 %\u001b[32m [repeated 2x across cluster]\u001b[0m\n"
     ]
    },
    {
     "name": "stderr",
     "output_type": "stream",
     "text": [
      " 60%|\u001b[34m██████    \u001b[0m| 6/10 [00:35<00:23,  5.86s/it]\u001b[32m [repeated 2x across cluster]\u001b[0m\n"
     ]
    },
    {
     "name": "stdout",
     "output_type": "stream",
     "text": [
      "\u001b[36m(launch_and_fit pid=3206)\u001b[0m \tTrain Epoch: 7 \tTrain_loss: 1.6473 | Train_acc: 35.6467 % | Validation_loss: 1.7370 | Validation_acc: 32.8058 %\u001b[32m [repeated 2x across cluster]\u001b[0m\n"
     ]
    },
    {
     "name": "stderr",
     "output_type": "stream",
     "text": [
      " 70%|\u001b[34m███████   \u001b[0m| 7/10 [00:41<00:17,  5.78s/it]\u001b[32m [repeated 2x across cluster]\u001b[0m\n"
     ]
    },
    {
     "name": "stdout",
     "output_type": "stream",
     "text": [
      "\u001b[36m(launch_and_fit pid=3206)\u001b[0m \tTrain Epoch: 8 \tTrain_loss: 1.6028 | Train_acc: 36.8446 % | Validation_loss: 1.7074 | Validation_acc: 32.3141 %\u001b[32m [repeated 2x across cluster]\u001b[0m\n"
     ]
    },
    {
     "name": "stderr",
     "output_type": "stream",
     "text": [
      " 80%|\u001b[34m████████  \u001b[0m| 8/10 [00:47<00:11,  5.79s/it]\u001b[32m [repeated 2x across cluster]\u001b[0m\n"
     ]
    },
    {
     "name": "stdout",
     "output_type": "stream",
     "text": [
      "\u001b[36m(launch_and_fit pid=3206)\u001b[0m \tTrain Epoch: 9 \tTrain_loss: 1.5770 | Train_acc: 37.7127 % | Validation_loss: 1.7273 | Validation_acc: 32.4690 %\u001b[32m [repeated 2x across cluster]\u001b[0m\n"
     ]
    },
    {
     "name": "stderr",
     "output_type": "stream",
     "text": [
      " 90%|\u001b[34m█████████ \u001b[0m| 9/10 [00:52<00:05,  5.84s/it]\u001b[32m [repeated 2x across cluster]\u001b[0m\n"
     ]
    },
    {
     "name": "stdout",
     "output_type": "stream",
     "text": [
      "\u001b[36m(launch_and_fit pid=3206)\u001b[0m save graph in  results/FL/\n",
      "\u001b[36m(launch_and_fit pid=3206)\u001b[0m \tTrain Epoch: 10 \tTrain_loss: 1.5483 | Train_acc: 39.9392 % | Validation_loss: 1.7025 | Validation_acc: 31.0816 %\u001b[32m [repeated 2x across cluster]\u001b[0m\n"
     ]
    },
    {
     "name": "stderr",
     "output_type": "stream",
     "text": [
      "100%|\u001b[34m██████████\u001b[0m| 10/10 [00:58<00:00,  5.88s/it]\u001b[32m [repeated 2x across cluster]\u001b[0m\n"
     ]
    },
    {
     "name": "stdout",
     "output_type": "stream",
     "text": [
      "\u001b[36m(launch_and_fit pid=3206)\u001b[0m network.0.weight 4.76837158203125e-06\n",
      "\u001b[36m(launch_and_fit pid=3206)\u001b[0m network.0.bias 1.6689300537109375e-06\n",
      "\u001b[36m(launch_and_fit pid=3206)\u001b[0m network.2.weight 1.1920928955078125e-06\n",
      "\u001b[36m(launch_and_fit pid=3206)\u001b[0m network.2.bias 1.1920928955078125e-06\n",
      "\u001b[36m(launch_and_fit pid=3206)\u001b[0m network.5.weight 1.1920928955078125e-06\n",
      "\u001b[36m(launch_and_fit pid=3206)\u001b[0m network.5.bias 1.1920928955078125e-06\n",
      "\u001b[36m(launch_and_fit pid=3206)\u001b[0m network.7.weight 1.1920928955078125e-06\n",
      "\u001b[36m(launch_and_fit pid=3206)\u001b[0m network.7.bias 9.5367431640625e-07\n",
      "\u001b[36m(launch_and_fit pid=3206)\u001b[0m network.10.weight 1.430511474609375e-06\n",
      "\u001b[36m(launch_and_fit pid=3206)\u001b[0m network.10.bias 9.5367431640625e-07\n",
      "\u001b[36m(launch_and_fit pid=3206)\u001b[0m network.12.weight 9.5367431640625e-07\n",
      "\u001b[36m(launch_and_fit pid=3206)\u001b[0m network.12.bias 1.430511474609375e-06\n",
      "\u001b[36m(launch_and_fit pid=3206)\u001b[0m network.16.weight 9.5367431640625e-07\n",
      "\u001b[36m(launch_and_fit pid=3206)\u001b[0m network.16.bias 9.5367431640625e-07\n",
      "\u001b[36m(launch_and_fit pid=3206)\u001b[0m network.18.weight 1.430511474609375e-06\n",
      "\u001b[36m(launch_and_fit pid=3206)\u001b[0m network.18.bias 9.5367431640625e-07\n",
      "\u001b[36m(launch_and_fit pid=3206)\u001b[0m network.20.weight 9.5367431640625e-07\n",
      "\u001b[36m(launch_and_fit pid=3206)\u001b[0m network.20.bias 1.430511474609375e-06\n",
      "\u001b[36m(launch_and_fit pid=3206)\u001b[0m qnn.weights 1.430511474609375e-06\n",
      "\u001b[36m(launch_and_fit pid=3206)\u001b[0m fc4.weight 9.5367431640625e-07\n",
      "\u001b[36m(launch_and_fit pid=3206)\u001b[0m fc4.bias 9.5367431640625e-07\n"
     ]
    },
    {
     "name": "stderr",
     "output_type": "stream",
     "text": [
      "DEBUG flwr 2024-07-20 18:52:57,854 | server.py:236 | fit_round 4 received 10 results and 0 failures\n"
     ]
    },
    {
     "name": "stdout",
     "output_type": "stream",
     "text": [
      "Saving round 4 aggregated_parameters...\n"
     ]
    },
    {
     "name": "stderr",
     "output_type": "stream",
     "text": [
      "DEBUG flwr 2024-07-20 18:52:58,813 | server.py:173 | evaluate_round 4: strategy sampled 10 clients (out of 10)\n"
     ]
    },
    {
     "name": "stdout",
     "output_type": "stream",
     "text": [
      "\u001b[36m(launch_and_evaluate pid=3287)\u001b[0m Run with homomorphic encryption\n",
      "\u001b[36m(launch_and_fit pid=3196)\u001b[0m save graph in  results/FL/\n",
      "\u001b[36m(launch_and_fit pid=3196)\u001b[0m \tTrain Epoch: 10 \tTrain_loss: 1.5718 | Train_acc: 39.0538 % | Validation_loss: 1.7385 | Validation_acc: 32.3141 %\n",
      "\u001b[36m(launch_and_fit pid=3196)\u001b[0m fc4.bias 1.1920928955078125e-06\u001b[32m [repeated 20x across cluster]\u001b[0m\n",
      "\u001b[36m(launch_and_fit pid=3196)\u001b[0m qnn.weights 9.5367431640625e-07\n",
      "\u001b[36m(launch_and_evaluate pid=3287)\u001b[0m [Client 5] evaluate, config: {}\n",
      "\u001b[36m(launch_and_evaluate pid=3287)\u001b[0m Updated model\n",
      "\u001b[36m(launch_and_evaluate pid=3366)\u001b[0m Run with homomorphic encryption\u001b[32m [repeated 2x across cluster]\u001b[0m\n",
      "\u001b[36m(launch_and_evaluate pid=3288)\u001b[0m [Client 9] evaluate, config: {}\n",
      "\u001b[36m(launch_and_evaluate pid=3288)\u001b[0m Updated model\n",
      "\u001b[36m(launch_and_evaluate pid=3366)\u001b[0m [Client 4] evaluate, config: {}\n",
      "\u001b[36m(launch_and_evaluate pid=3366)\u001b[0m Updated model\n",
      "\u001b[36m(launch_and_evaluate pid=3446)\u001b[0m Run with homomorphic encryption\u001b[32m [repeated 2x across cluster]\u001b[0m\n",
      "\u001b[36m(launch_and_evaluate pid=3368)\u001b[0m [Client 3] evaluate, config: {}\n",
      "\u001b[36m(launch_and_evaluate pid=3368)\u001b[0m Updated model\n",
      "\u001b[36m(launch_and_evaluate pid=3446)\u001b[0m [Client 8] evaluate, config: {}\n",
      "\u001b[36m(launch_and_evaluate pid=3446)\u001b[0m Updated model\n",
      "\u001b[36m(launch_and_evaluate pid=3523)\u001b[0m Run with homomorphic encryption\u001b[32m [repeated 2x across cluster]\u001b[0m\n",
      "\u001b[36m(launch_and_evaluate pid=3447)\u001b[0m [Client 6] evaluate, config: {}\n",
      "\u001b[36m(launch_and_evaluate pid=3447)\u001b[0m Updated model\n",
      "\u001b[36m(launch_and_evaluate pid=3523)\u001b[0m [Client 1] evaluate, config: {}\n",
      "\u001b[36m(launch_and_evaluate pid=3523)\u001b[0m Updated model\n",
      "\u001b[36m(launch_and_evaluate pid=3601)\u001b[0m Run with homomorphic encryption\u001b[32m [repeated 2x across cluster]\u001b[0m\n",
      "\u001b[36m(launch_and_evaluate pid=3525)\u001b[0m [Client 2] evaluate, config: {}\n",
      "\u001b[36m(launch_and_evaluate pid=3525)\u001b[0m Updated model\n",
      "\u001b[36m(launch_and_evaluate pid=3601)\u001b[0m [Client 7] evaluate, config: {}\n",
      "\u001b[36m(launch_and_evaluate pid=3603)\u001b[0m Updated model\n"
     ]
    },
    {
     "name": "stderr",
     "output_type": "stream",
     "text": [
      "DEBUG flwr 2024-07-20 18:54:26,882 | server.py:187 | evaluate_round 4 received 10 results and 0 failures\n",
      "DEBUG flwr 2024-07-20 18:54:26,884 | server.py:222 | fit_round 5: strategy sampled 10 clients (out of 10)\n"
     ]
    },
    {
     "name": "stdout",
     "output_type": "stream",
     "text": [
      "\u001b[36m(launch_and_fit pid=3688)\u001b[0m Run with homomorphic encryption\u001b[32m [repeated 2x across cluster]\u001b[0m\n",
      "\u001b[36m(launch_and_evaluate pid=3603)\u001b[0m [Client 0] evaluate, config: {}\n",
      "\u001b[36m(launch_and_evaluate pid=3601)\u001b[0m Updated model\n",
      "\u001b[36m(launch_and_fit pid=3688)\u001b[0m [Client 2, round 5] fit, config: {'learning_rate': 0.001, 'batch_size': '128', 'server_round': 5, 'local_epochs': 10}\n",
      "\u001b[36m(launch_and_fit pid=3688)\u001b[0m Updated model\n"
     ]
    },
    {
     "name": "stderr",
     "output_type": "stream",
     "text": [
      "  0%|\u001b[34m          \u001b[0m| 0/10 [00:00<?, ?it/s]\n",
      "100%|\u001b[34m██████████\u001b[0m| 10/10 [00:59<00:00,  5.98s/it]\n"
     ]
    },
    {
     "name": "stdout",
     "output_type": "stream",
     "text": [
      "\u001b[36m(launch_and_fit pid=3688)\u001b[0m \tTrain Epoch: 1 \tTrain_loss: 1.7028 | Train_acc: 33.2769 % | Validation_loss: 1.6666 | Validation_acc: 34.6579 %\n",
      "\u001b[36m(launch_and_fit pid=3689)\u001b[0m Run with homomorphic encryption\n",
      "\u001b[36m(launch_and_fit pid=3689)\u001b[0m [Client 9, round 5] fit, config: {'learning_rate': 0.001, 'batch_size': '128', 'server_round': 5, 'local_epochs': 10}\n",
      "\u001b[36m(launch_and_fit pid=3689)\u001b[0m Updated model\n"
     ]
    },
    {
     "name": "stderr",
     "output_type": "stream",
     "text": [
      " 10%|\u001b[34m█         \u001b[0m| 1/10 [00:06<00:59,  6.62s/it]\n",
      "  0%|\u001b[34m          \u001b[0m| 0/10 [00:00<?, ?it/s]\n"
     ]
    },
    {
     "name": "stdout",
     "output_type": "stream",
     "text": [
      "\u001b[36m(launch_and_fit pid=3688)\u001b[0m \tTrain Epoch: 2 \tTrain_loss: 1.6237 | Train_acc: 36.2543 % | Validation_loss: 1.6422 | Validation_acc: 35.2236 %\u001b[32m [repeated 2x across cluster]\u001b[0m\n"
     ]
    },
    {
     "name": "stderr",
     "output_type": "stream",
     "text": [
      " 20%|\u001b[34m██        \u001b[0m| 2/10 [00:12<00:49,  6.13s/it]\u001b[32m [repeated 2x across cluster]\u001b[0m\n"
     ]
    },
    {
     "name": "stdout",
     "output_type": "stream",
     "text": [
      "\u001b[36m(launch_and_fit pid=3688)\u001b[0m \tTrain Epoch: 3 \tTrain_loss: 1.5789 | Train_acc: 38.6892 % | Validation_loss: 1.6254 | Validation_acc: 34.4962 %\u001b[32m [repeated 2x across cluster]\u001b[0m\n"
     ]
    },
    {
     "name": "stderr",
     "output_type": "stream",
     "text": [
      " 30%|\u001b[34m███       \u001b[0m| 3/10 [00:18<00:41,  5.97s/it]\u001b[32m [repeated 2x across cluster]\u001b[0m\n"
     ]
    },
    {
     "name": "stdout",
     "output_type": "stream",
     "text": [
      "\u001b[36m(launch_and_fit pid=3688)\u001b[0m \tTrain Epoch: 4 \tTrain_loss: 1.5407 | Train_acc: 39.8785 % | Validation_loss: 1.6271 | Validation_acc: 37.2373 %\u001b[32m [repeated 2x across cluster]\u001b[0m\n"
     ]
    },
    {
     "name": "stderr",
     "output_type": "stream",
     "text": [
      " 40%|\u001b[34m████      \u001b[0m| 4/10 [00:23<00:35,  5.90s/it]\u001b[32m [repeated 2x across cluster]\u001b[0m\n"
     ]
    },
    {
     "name": "stdout",
     "output_type": "stream",
     "text": [
      "\u001b[36m(launch_and_fit pid=3688)\u001b[0m \tTrain Epoch: 5 \tTrain_loss: 1.5012 | Train_acc: 42.9253 % | Validation_loss: 1.6227 | Validation_acc: 38.1533 %\u001b[32m [repeated 2x across cluster]\u001b[0m\n"
     ]
    },
    {
     "name": "stderr",
     "output_type": "stream",
     "text": [
      " 50%|\u001b[34m█████     \u001b[0m| 5/10 [00:29<00:29,  5.83s/it]\u001b[32m [repeated 2x across cluster]\u001b[0m\n"
     ]
    },
    {
     "name": "stdout",
     "output_type": "stream",
     "text": [
      "\u001b[36m(launch_and_fit pid=3688)\u001b[0m \tTrain Epoch: 6 \tTrain_loss: 1.4562 | Train_acc: 45.2778 % | Validation_loss: 1.5951 | Validation_acc: 39.3319 %\u001b[32m [repeated 2x across cluster]\u001b[0m\n"
     ]
    },
    {
     "name": "stderr",
     "output_type": "stream",
     "text": [
      " 60%|\u001b[34m██████    \u001b[0m| 6/10 [00:35<00:22,  5.75s/it]\u001b[32m [repeated 2x across cluster]\u001b[0m\n"
     ]
    },
    {
     "name": "stdout",
     "output_type": "stream",
     "text": [
      "\u001b[36m(launch_and_fit pid=3688)\u001b[0m \tTrain Epoch: 7 \tTrain_loss: 1.4031 | Train_acc: 47.6953 % | Validation_loss: 1.5848 | Validation_acc: 38.3688 %\u001b[32m [repeated 2x across cluster]\u001b[0m\n"
     ]
    },
    {
     "name": "stderr",
     "output_type": "stream",
     "text": [
      " 70%|\u001b[34m███████   \u001b[0m| 7/10 [00:41<00:17,  5.86s/it]\u001b[32m [repeated 2x across cluster]\u001b[0m\n"
     ]
    },
    {
     "name": "stdout",
     "output_type": "stream",
     "text": [
      "\u001b[36m(launch_and_fit pid=3688)\u001b[0m \tTrain Epoch: 8 \tTrain_loss: 1.3682 | Train_acc: 49.9002 % | Validation_loss: 1.5653 | Validation_acc: 40.2680 %\u001b[32m [repeated 2x across cluster]\u001b[0m\n"
     ]
    },
    {
     "name": "stderr",
     "output_type": "stream",
     "text": [
      " 80%|\u001b[34m████████  \u001b[0m| 8/10 [00:46<00:11,  5.76s/it]\u001b[32m [repeated 2x across cluster]\u001b[0m\n"
     ]
    },
    {
     "name": "stdout",
     "output_type": "stream",
     "text": [
      "\u001b[36m(launch_and_fit pid=3688)\u001b[0m \tTrain Epoch: 9 \tTrain_loss: 1.3240 | Train_acc: 52.8125 % | Validation_loss: 1.5794 | Validation_acc: 39.6215 %\u001b[32m [repeated 2x across cluster]\u001b[0m\n"
     ]
    },
    {
     "name": "stderr",
     "output_type": "stream",
     "text": [
      " 90%|\u001b[34m█████████ \u001b[0m| 9/10 [00:52<00:05,  5.74s/it]\u001b[32m [repeated 2x across cluster]\u001b[0m\n"
     ]
    },
    {
     "name": "stdout",
     "output_type": "stream",
     "text": [
      "\u001b[36m(launch_and_fit pid=3688)\u001b[0m save graph in  results/FL/\n",
      "\u001b[36m(launch_and_fit pid=3688)\u001b[0m \tTrain Epoch: 10 \tTrain_loss: 1.2861 | Train_acc: 55.7422 % | Validation_loss: 1.5871 | Validation_acc: 39.4868 %\u001b[32m [repeated 2x across cluster]\u001b[0m\n"
     ]
    },
    {
     "name": "stderr",
     "output_type": "stream",
     "text": [
      "100%|\u001b[34m██████████\u001b[0m| 10/10 [00:58<00:00,  5.83s/it]\u001b[32m [repeated 2x across cluster]\u001b[0m\n"
     ]
    },
    {
     "name": "stdout",
     "output_type": "stream",
     "text": [
      "\u001b[36m(launch_and_fit pid=3688)\u001b[0m network.0.weight 4.76837158203125e-06\n",
      "\u001b[36m(launch_and_fit pid=3688)\u001b[0m network.0.bias 1.430511474609375e-06\n",
      "\u001b[36m(launch_and_fit pid=3688)\u001b[0m network.2.weight 1.430511474609375e-06\n",
      "\u001b[36m(launch_and_fit pid=3688)\u001b[0m network.2.bias 1.1920928955078125e-06\n",
      "\u001b[36m(launch_and_fit pid=3688)\u001b[0m network.5.weight 1.1920928955078125e-06\n",
      "\u001b[36m(launch_and_fit pid=3688)\u001b[0m network.5.bias 9.5367431640625e-07\n",
      "\u001b[36m(launch_and_fit pid=3688)\u001b[0m network.7.weight 9.5367431640625e-07\n",
      "\u001b[36m(launch_and_fit pid=3688)\u001b[0m network.7.bias 9.5367431640625e-07\n",
      "\u001b[36m(launch_and_fit pid=3688)\u001b[0m network.10.weight 1.430511474609375e-06\n",
      "\u001b[36m(launch_and_fit pid=3688)\u001b[0m network.10.bias 1.1920928955078125e-06\n",
      "\u001b[36m(launch_and_fit pid=3688)\u001b[0m network.12.weight 9.5367431640625e-07\n",
      "\u001b[36m(launch_and_fit pid=3688)\u001b[0m network.12.bias 1.1920928955078125e-06\n",
      "\u001b[36m(launch_and_fit pid=3688)\u001b[0m network.16.weight 2.1457672119140625e-06\n",
      "\u001b[36m(launch_and_fit pid=3688)\u001b[0m network.16.bias 1.430511474609375e-06\n",
      "\u001b[36m(launch_and_fit pid=3688)\u001b[0m network.18.weight 9.5367431640625e-07\n",
      "\u001b[36m(launch_and_fit pid=3688)\u001b[0m network.18.bias 9.5367431640625e-07\n",
      "\u001b[36m(launch_and_fit pid=3688)\u001b[0m network.20.weight 1.1920928955078125e-06\n",
      "\u001b[36m(launch_and_fit pid=3688)\u001b[0m network.20.bias 1.1920928955078125e-06\n",
      "\u001b[36m(launch_and_fit pid=3688)\u001b[0m qnn.weights 1.430511474609375e-06\n",
      "\u001b[36m(launch_and_fit pid=3688)\u001b[0m fc4.weight 1.1920928955078125e-06\n",
      "\u001b[36m(launch_and_fit pid=3688)\u001b[0m fc4.bias 9.5367431640625e-07\n",
      "\u001b[36m(launch_and_fit pid=3771)\u001b[0m Run with homomorphic encryption\n",
      "\u001b[36m(launch_and_fit pid=3689)\u001b[0m save graph in  results/FL/\n",
      "\u001b[36m(launch_and_fit pid=3689)\u001b[0m \tTrain Epoch: 10 \tTrain_loss: 1.3361 | Train_acc: 49.7222 % | Validation_loss: 1.5674 | Validation_acc: 41.5005 %\n",
      "\u001b[36m(launch_and_fit pid=3689)\u001b[0m fc4.bias 1.430511474609375e-06\u001b[32m [repeated 20x across cluster]\u001b[0m\n",
      "\u001b[36m(launch_and_fit pid=3689)\u001b[0m qnn.weights 1.430511474609375e-06\n",
      "\u001b[36m(launch_and_fit pid=3771)\u001b[0m [Client 5, round 5] fit, config: {'learning_rate': 0.001, 'batch_size': '128', 'server_round': 5, 'local_epochs': 10}\n",
      "\u001b[36m(launch_and_fit pid=3773)\u001b[0m Updated model\n"
     ]
    },
    {
     "name": "stderr",
     "output_type": "stream",
     "text": [
      "  0%|\u001b[34m          \u001b[0m| 0/10 [00:00<?, ?it/s]\n",
      "100%|\u001b[34m██████████\u001b[0m| 10/10 [00:58<00:00,  5.85s/it]\n"
     ]
    },
    {
     "name": "stdout",
     "output_type": "stream",
     "text": [
      "\u001b[36m(launch_and_fit pid=3771)\u001b[0m \tTrain Epoch: 1 \tTrain_loss: 1.6814 | Train_acc: 33.5286 % | Validation_loss: 1.7229 | Validation_acc: 30.3138 %\n",
      "\u001b[36m(launch_and_fit pid=3773)\u001b[0m Run with homomorphic encryption\n",
      "\u001b[36m(launch_and_fit pid=3773)\u001b[0m [Client 4, round 5] fit, config: {'learning_rate': 0.001, 'batch_size': '128', 'server_round': 5, 'local_epochs': 10}\n",
      "\u001b[36m(launch_and_fit pid=3771)\u001b[0m Updated model\n"
     ]
    },
    {
     "name": "stderr",
     "output_type": "stream",
     "text": [
      " 10%|\u001b[34m█         \u001b[0m| 1/10 [00:06<00:58,  6.47s/it]\n",
      "  0%|\u001b[34m          \u001b[0m| 0/10 [00:00<?, ?it/s]\n"
     ]
    },
    {
     "name": "stdout",
     "output_type": "stream",
     "text": [
      "\u001b[36m(launch_and_fit pid=3771)\u001b[0m \tTrain Epoch: 2 \tTrain_loss: 1.6175 | Train_acc: 36.0156 % | Validation_loss: 1.6775 | Validation_acc: 35.6681 %\u001b[32m [repeated 2x across cluster]\u001b[0m\n"
     ]
    },
    {
     "name": "stderr",
     "output_type": "stream",
     "text": [
      " 20%|\u001b[34m██        \u001b[0m| 2/10 [00:12<00:47,  5.97s/it]\u001b[32m [repeated 2x across cluster]\u001b[0m\n"
     ]
    },
    {
     "name": "stdout",
     "output_type": "stream",
     "text": [
      "\u001b[36m(launch_and_fit pid=3773)\u001b[0m \tTrain Epoch: 3 \tTrain_loss: 1.6198 | Train_acc: 37.1615 % | Validation_loss: 1.7057 | Validation_acc: 39.1905 %\u001b[32m [repeated 2x across cluster]\u001b[0m\n"
     ]
    },
    {
     "name": "stderr",
     "output_type": "stream",
     "text": [
      " 30%|\u001b[34m███       \u001b[0m| 3/10 [00:17<00:41,  5.87s/it]\u001b[32m [repeated 2x across cluster]\u001b[0m\n"
     ]
    },
    {
     "name": "stdout",
     "output_type": "stream",
     "text": [
      "\u001b[36m(launch_and_fit pid=3771)\u001b[0m \tTrain Epoch: 4 \tTrain_loss: 1.5589 | Train_acc: 39.9392 % | Validation_loss: 1.6886 | Validation_acc: 36.1800 %\u001b[32m [repeated 2x across cluster]\u001b[0m\n"
     ]
    },
    {
     "name": "stderr",
     "output_type": "stream",
     "text": [
      " 40%|\u001b[34m████      \u001b[0m| 4/10 [00:23<00:34,  5.82s/it]\u001b[32m [repeated 2x across cluster]\u001b[0m\n"
     ]
    },
    {
     "name": "stdout",
     "output_type": "stream",
     "text": [
      "\u001b[36m(launch_and_fit pid=3773)\u001b[0m \tTrain Epoch: 5 \tTrain_loss: 1.5109 | Train_acc: 41.1936 % | Validation_loss: 1.6985 | Validation_acc: 38.8200 %\u001b[32m [repeated 2x across cluster]\u001b[0m\n"
     ]
    },
    {
     "name": "stderr",
     "output_type": "stream",
     "text": [
      " 50%|\u001b[34m█████     \u001b[0m| 5/10 [00:29<00:29,  5.88s/it]\u001b[32m [repeated 2x across cluster]\u001b[0m\n"
     ]
    },
    {
     "name": "stdout",
     "output_type": "stream",
     "text": [
      "\u001b[36m(launch_and_fit pid=3771)\u001b[0m \tTrain Epoch: 6 \tTrain_loss: 1.4737 | Train_acc: 43.4852 % | Validation_loss: 1.6308 | Validation_acc: 40.2883 %\u001b[32m [repeated 2x across cluster]\u001b[0m\n"
     ]
    },
    {
     "name": "stderr",
     "output_type": "stream",
     "text": [
      " 60%|\u001b[34m██████    \u001b[0m| 6/10 [00:35<00:23,  5.86s/it]\u001b[32m [repeated 2x across cluster]\u001b[0m\n"
     ]
    },
    {
     "name": "stdout",
     "output_type": "stream",
     "text": [
      "\u001b[36m(launch_and_fit pid=3771)\u001b[0m \tTrain Epoch: 7 \tTrain_loss: 1.4311 | Train_acc: 44.9306 % | Validation_loss: 1.6706 | Validation_acc: 38.5439 %\u001b[32m [repeated 2x across cluster]\u001b[0m\n"
     ]
    },
    {
     "name": "stderr",
     "output_type": "stream",
     "text": [
      " 70%|\u001b[34m███████   \u001b[0m| 7/10 [00:41<00:17,  5.81s/it]\u001b[32m [repeated 2x across cluster]\u001b[0m\n"
     ]
    },
    {
     "name": "stdout",
     "output_type": "stream",
     "text": [
      "\u001b[36m(launch_and_fit pid=3771)\u001b[0m \tTrain Epoch: 8 \tTrain_loss: 1.4044 | Train_acc: 46.6276 % | Validation_loss: 1.6407 | Validation_acc: 39.0962 %\u001b[32m [repeated 2x across cluster]\u001b[0m\n"
     ]
    },
    {
     "name": "stderr",
     "output_type": "stream",
     "text": [
      " 80%|\u001b[34m████████  \u001b[0m| 8/10 [00:46<00:11,  5.76s/it]\u001b[32m [repeated 2x across cluster]\u001b[0m\n"
     ]
    },
    {
     "name": "stdout",
     "output_type": "stream",
     "text": [
      "\u001b[36m(launch_and_fit pid=3771)\u001b[0m \tTrain Epoch: 9 \tTrain_loss: 1.3691 | Train_acc: 48.8628 % | Validation_loss: 1.6188 | Validation_acc: 38.3149 %\u001b[32m [repeated 2x across cluster]\u001b[0m\n"
     ]
    },
    {
     "name": "stderr",
     "output_type": "stream",
     "text": [
      " 90%|\u001b[34m█████████ \u001b[0m| 9/10 [00:52<00:05,  5.77s/it]\u001b[32m [repeated 2x across cluster]\u001b[0m\n"
     ]
    },
    {
     "name": "stdout",
     "output_type": "stream",
     "text": [
      "\u001b[36m(launch_and_fit pid=3771)\u001b[0m save graph in  results/FL/\n",
      "\u001b[36m(launch_and_fit pid=3771)\u001b[0m \tTrain Epoch: 10 \tTrain_loss: 1.3413 | Train_acc: 49.2925 % | Validation_loss: 1.6145 | Validation_acc: 38.3486 %\u001b[32m [repeated 2x across cluster]\u001b[0m\n"
     ]
    },
    {
     "name": "stderr",
     "output_type": "stream",
     "text": [
      "100%|\u001b[34m██████████\u001b[0m| 10/10 [00:58<00:00,  5.83s/it]\u001b[32m [repeated 2x across cluster]\u001b[0m\n"
     ]
    },
    {
     "name": "stdout",
     "output_type": "stream",
     "text": [
      "\u001b[36m(launch_and_fit pid=3771)\u001b[0m network.0.weight 5.9604644775390625e-06\n",
      "\u001b[36m(launch_and_fit pid=3771)\u001b[0m network.0.bias 1.430511474609375e-06\n",
      "\u001b[36m(launch_and_fit pid=3771)\u001b[0m network.2.weight 1.1920928955078125e-06\n",
      "\u001b[36m(launch_and_fit pid=3771)\u001b[0m network.2.bias 1.1920928955078125e-06\n",
      "\u001b[36m(launch_and_fit pid=3771)\u001b[0m network.5.weight 9.5367431640625e-07\n",
      "\u001b[36m(launch_and_fit pid=3771)\u001b[0m network.5.bias 1.1920928955078125e-06\n",
      "\u001b[36m(launch_and_fit pid=3771)\u001b[0m network.7.weight 1.1920928955078125e-06\n",
      "\u001b[36m(launch_and_fit pid=3771)\u001b[0m network.7.bias 1.430511474609375e-06\n",
      "\u001b[36m(launch_and_fit pid=3771)\u001b[0m network.10.weight 9.5367431640625e-07\n",
      "\u001b[36m(launch_and_fit pid=3771)\u001b[0m network.10.bias 9.5367431640625e-07\n",
      "\u001b[36m(launch_and_fit pid=3771)\u001b[0m network.12.weight 1.430511474609375e-06\n",
      "\u001b[36m(launch_and_fit pid=3771)\u001b[0m network.12.bias 1.1920928955078125e-06\n",
      "\u001b[36m(launch_and_fit pid=3771)\u001b[0m network.16.weight 9.5367431640625e-07\n",
      "\u001b[36m(launch_and_fit pid=3771)\u001b[0m network.16.bias 1.1920928955078125e-06\n",
      "\u001b[36m(launch_and_fit pid=3771)\u001b[0m network.18.weight 1.1920928955078125e-06\n",
      "\u001b[36m(launch_and_fit pid=3771)\u001b[0m network.18.bias 9.5367431640625e-07\n",
      "\u001b[36m(launch_and_fit pid=3771)\u001b[0m network.20.weight 1.1920928955078125e-06\n",
      "\u001b[36m(launch_and_fit pid=3771)\u001b[0m network.20.bias 9.5367431640625e-07\n",
      "\u001b[36m(launch_and_fit pid=3771)\u001b[0m qnn.weights 1.1920928955078125e-06\n",
      "\u001b[36m(launch_and_fit pid=3771)\u001b[0m fc4.weight 1.1920928955078125e-06\n",
      "\u001b[36m(launch_and_fit pid=3771)\u001b[0m fc4.bias 9.5367431640625e-07\n",
      "\u001b[36m(launch_and_fit pid=3854)\u001b[0m Run with homomorphic encryption\n",
      "\u001b[36m(launch_and_fit pid=3773)\u001b[0m save graph in  results/FL/\n",
      "\u001b[36m(launch_and_fit pid=3773)\u001b[0m \tTrain Epoch: 10 \tTrain_loss: 1.3401 | Train_acc: 49.7613 % | Validation_loss: 1.6792 | Validation_acc: 37.1026 %\n",
      "\u001b[36m(launch_and_fit pid=3773)\u001b[0m fc4.bias 1.9073486328125e-06\u001b[32m [repeated 20x across cluster]\u001b[0m\n",
      "\u001b[36m(launch_and_fit pid=3773)\u001b[0m qnn.weights 2.1457672119140625e-06\n",
      "\u001b[36m(launch_and_fit pid=3854)\u001b[0m [Client 8, round 5] fit, config: {'learning_rate': 0.001, 'batch_size': '128', 'server_round': 5, 'local_epochs': 10}\n"
     ]
    },
    {
     "name": "stderr",
     "output_type": "stream",
     "text": [
      "  0%|\u001b[34m          \u001b[0m| 0/10 [00:00<?, ?it/s]\n",
      "100%|\u001b[34m██████████\u001b[0m| 10/10 [00:58<00:00,  5.86s/it]\n"
     ]
    },
    {
     "name": "stdout",
     "output_type": "stream",
     "text": [
      "\u001b[36m(launch_and_fit pid=3854)\u001b[0m Updated model\n"
     ]
    },
    {
     "name": "stderr",
     "output_type": "stream",
     "text": [
      " 10%|\u001b[34m█         \u001b[0m| 1/10 [00:06<00:55,  6.20s/it]\n",
      "  0%|\u001b[34m          \u001b[0m| 0/10 [00:00<?, ?it/s]\n"
     ]
    },
    {
     "name": "stdout",
     "output_type": "stream",
     "text": [
      "\u001b[36m(launch_and_fit pid=3854)\u001b[0m \tTrain Epoch: 1 \tTrain_loss: 1.7470 | Train_acc: 31.5538 % | Validation_loss: 1.6823 | Validation_acc: 35.6412 %\n",
      "\u001b[36m(launch_and_fit pid=3856)\u001b[0m Run with homomorphic encryption\n",
      "\u001b[36m(launch_and_fit pid=3856)\u001b[0m [Client 0, round 5] fit, config: {'learning_rate': 0.001, 'batch_size': '128', 'server_round': 5, 'local_epochs': 10}\n",
      "\u001b[36m(launch_and_fit pid=3856)\u001b[0m Updated model\n"
     ]
    },
    {
     "name": "stderr",
     "output_type": "stream",
     "text": [
      " 20%|\u001b[34m██        \u001b[0m| 2/10 [00:11<00:46,  5.87s/it]\u001b[32m [repeated 2x across cluster]\u001b[0m\n"
     ]
    },
    {
     "name": "stdout",
     "output_type": "stream",
     "text": [
      "\u001b[36m(launch_and_fit pid=3854)\u001b[0m \tTrain Epoch: 2 \tTrain_loss: 1.6409 | Train_acc: 35.2431 % | Validation_loss: 1.7297 | Validation_acc: 31.1759 %\u001b[32m [repeated 2x across cluster]\u001b[0m\n"
     ]
    },
    {
     "name": "stderr",
     "output_type": "stream",
     "text": [
      " 30%|\u001b[34m███       \u001b[0m| 3/10 [00:17<00:41,  5.93s/it]\u001b[32m [repeated 2x across cluster]\u001b[0m\n"
     ]
    },
    {
     "name": "stdout",
     "output_type": "stream",
     "text": [
      "\u001b[36m(launch_and_fit pid=3854)\u001b[0m \tTrain Epoch: 3 \tTrain_loss: 1.6075 | Train_acc: 37.3481 % | Validation_loss: 1.6467 | Validation_acc: 40.2883 %\u001b[32m [repeated 2x across cluster]\u001b[0m\n"
     ]
    },
    {
     "name": "stderr",
     "output_type": "stream",
     "text": [
      " 40%|\u001b[34m████      \u001b[0m| 4/10 [00:23<00:35,  5.94s/it]\u001b[32m [repeated 2x across cluster]\u001b[0m\n"
     ]
    },
    {
     "name": "stdout",
     "output_type": "stream",
     "text": [
      "\u001b[36m(launch_and_fit pid=3854)\u001b[0m \tTrain Epoch: 4 \tTrain_loss: 1.5576 | Train_acc: 39.8611 % | Validation_loss: 1.6526 | Validation_acc: 36.4157 %\u001b[32m [repeated 2x across cluster]\u001b[0m\n"
     ]
    },
    {
     "name": "stderr",
     "output_type": "stream",
     "text": [
      " 50%|\u001b[34m█████     \u001b[0m| 5/10 [00:29<00:29,  5.96s/it]\u001b[32m [repeated 2x across cluster]\u001b[0m\n"
     ]
    },
    {
     "name": "stdout",
     "output_type": "stream",
     "text": [
      "\u001b[36m(launch_and_fit pid=3854)\u001b[0m \tTrain Epoch: 5 \tTrain_loss: 1.5102 | Train_acc: 42.2396 % | Validation_loss: 1.6120 | Validation_acc: 37.5943 %\u001b[32m [repeated 2x across cluster]\u001b[0m\n"
     ]
    },
    {
     "name": "stderr",
     "output_type": "stream",
     "text": [
      " 60%|\u001b[34m██████    \u001b[0m| 6/10 [00:35<00:23,  5.88s/it]\u001b[32m [repeated 2x across cluster]\u001b[0m\n"
     ]
    },
    {
     "name": "stdout",
     "output_type": "stream",
     "text": [
      "\u001b[36m(launch_and_fit pid=3854)\u001b[0m \tTrain Epoch: 6 \tTrain_loss: 1.4734 | Train_acc: 44.3793 % | Validation_loss: 1.7233 | Validation_acc: 38.1196 %\u001b[32m [repeated 2x across cluster]\u001b[0m\n"
     ]
    },
    {
     "name": "stderr",
     "output_type": "stream",
     "text": [
      " 70%|\u001b[34m███████   \u001b[0m| 7/10 [00:41<00:17,  5.82s/it]\u001b[32m [repeated 2x across cluster]\u001b[0m\n"
     ]
    },
    {
     "name": "stdout",
     "output_type": "stream",
     "text": [
      "\u001b[36m(launch_and_fit pid=3854)\u001b[0m \tTrain Epoch: 7 \tTrain_loss: 1.4472 | Train_acc: 45.2821 % | Validation_loss: 1.6158 | Validation_acc: 37.2373 %\u001b[32m [repeated 2x across cluster]\u001b[0m\n"
     ]
    },
    {
     "name": "stderr",
     "output_type": "stream",
     "text": [
      " 80%|\u001b[34m████████  \u001b[0m| 8/10 [00:47<00:11,  5.87s/it]\u001b[32m [repeated 2x across cluster]\u001b[0m\n"
     ]
    },
    {
     "name": "stdout",
     "output_type": "stream",
     "text": [
      "\u001b[36m(launch_and_fit pid=3854)\u001b[0m \tTrain Epoch: 8 \tTrain_loss: 1.4062 | Train_acc: 46.4106 % | Validation_loss: 1.6190 | Validation_acc: 39.1164 %\u001b[32m [repeated 2x across cluster]\u001b[0m\n"
     ]
    },
    {
     "name": "stderr",
     "output_type": "stream",
     "text": [
      " 90%|\u001b[34m█████████ \u001b[0m| 9/10 [00:53<00:05,  5.98s/it]\u001b[32m [repeated 2x across cluster]\u001b[0m\n"
     ]
    },
    {
     "name": "stdout",
     "output_type": "stream",
     "text": [
      "\u001b[36m(launch_and_fit pid=3854)\u001b[0m \tTrain Epoch: 9 \tTrain_loss: 1.3846 | Train_acc: 47.1050 % | Validation_loss: 1.5875 | Validation_acc: 38.0186 %\u001b[32m [repeated 2x across cluster]\u001b[0m\n"
     ]
    },
    {
     "name": "stderr",
     "output_type": "stream",
     "text": [
      "100%|\u001b[34m██████████\u001b[0m| 10/10 [00:58<00:00,  5.89s/it]\u001b[32m [repeated 2x across cluster]\u001b[0m\n"
     ]
    },
    {
     "name": "stdout",
     "output_type": "stream",
     "text": [
      "\u001b[36m(launch_and_fit pid=3854)\u001b[0m save graph in  results/FL/\n",
      "\u001b[36m(launch_and_fit pid=3854)\u001b[0m \tTrain Epoch: 10 \tTrain_loss: 1.3330 | Train_acc: 49.7786 % | Validation_loss: 1.6288 | Validation_acc: 40.0727 %\u001b[32m [repeated 2x across cluster]\u001b[0m\n",
      "\u001b[36m(launch_and_fit pid=3854)\u001b[0m network.0.weight 5.245208740234375e-06\n",
      "\u001b[36m(launch_and_fit pid=3854)\u001b[0m network.0.bias 1.1920928955078125e-06\n",
      "\u001b[36m(launch_and_fit pid=3854)\u001b[0m network.2.weight 1.1920928955078125e-06\n",
      "\u001b[36m(launch_and_fit pid=3854)\u001b[0m network.2.bias 1.1920928955078125e-06\n",
      "\u001b[36m(launch_and_fit pid=3854)\u001b[0m network.5.weight 1.1920928955078125e-06\n",
      "\u001b[36m(launch_and_fit pid=3854)\u001b[0m network.5.bias 1.1920928955078125e-06\n",
      "\u001b[36m(launch_and_fit pid=3854)\u001b[0m network.7.weight 7.152557373046875e-07\n",
      "\u001b[36m(launch_and_fit pid=3854)\u001b[0m network.7.bias 9.5367431640625e-07\n",
      "\u001b[36m(launch_and_fit pid=3854)\u001b[0m network.10.weight 9.5367431640625e-07\n",
      "\u001b[36m(launch_and_fit pid=3854)\u001b[0m network.10.bias 1.1920928955078125e-06\n",
      "\u001b[36m(launch_and_fit pid=3854)\u001b[0m network.12.weight 1.1920928955078125e-06\n",
      "\u001b[36m(launch_and_fit pid=3854)\u001b[0m network.12.bias 9.5367431640625e-07\n",
      "\u001b[36m(launch_and_fit pid=3854)\u001b[0m network.16.weight 1.430511474609375e-06\n",
      "\u001b[36m(launch_and_fit pid=3854)\u001b[0m network.16.bias 1.1920928955078125e-06\n",
      "\u001b[36m(launch_and_fit pid=3854)\u001b[0m network.18.weight 1.1920928955078125e-06\n",
      "\u001b[36m(launch_and_fit pid=3854)\u001b[0m network.18.bias 1.1920928955078125e-06\n",
      "\u001b[36m(launch_and_fit pid=3854)\u001b[0m network.20.weight 1.1920928955078125e-06\n",
      "\u001b[36m(launch_and_fit pid=3854)\u001b[0m network.20.bias 9.5367431640625e-07\n",
      "\u001b[36m(launch_and_fit pid=3854)\u001b[0m qnn.weights 9.5367431640625e-07\n",
      "\u001b[36m(launch_and_fit pid=3854)\u001b[0m fc4.weight 1.6689300537109375e-06\n",
      "\u001b[36m(launch_and_fit pid=3854)\u001b[0m fc4.bias 9.5367431640625e-07\n",
      "\u001b[36m(launch_and_fit pid=3936)\u001b[0m Run with homomorphic encryption\n",
      "\u001b[36m(launch_and_fit pid=3856)\u001b[0m save graph in  results/FL/\n",
      "\u001b[36m(launch_and_fit pid=3856)\u001b[0m \tTrain Epoch: 10 \tTrain_loss: 1.3188 | Train_acc: 50.0304 % | Validation_loss: 1.5265 | Validation_acc: 40.2680 %\n",
      "\u001b[36m(launch_and_fit pid=3856)\u001b[0m fc4.bias 1.1920928955078125e-06\u001b[32m [repeated 20x across cluster]\u001b[0m\n",
      "\u001b[36m(launch_and_fit pid=3856)\u001b[0m qnn.weights 1.9073486328125e-06\n",
      "\u001b[36m(launch_and_fit pid=3936)\u001b[0m [Client 7, round 5] fit, config: {'learning_rate': 0.001, 'batch_size': '128', 'server_round': 5, 'local_epochs': 10}\n",
      "\u001b[36m(launch_and_fit pid=3936)\u001b[0m Updated model\n"
     ]
    },
    {
     "name": "stderr",
     "output_type": "stream",
     "text": [
      "  0%|\u001b[34m          \u001b[0m| 0/10 [00:00<?, ?it/s]\n",
      "100%|\u001b[34m██████████\u001b[0m| 10/10 [00:59<00:00,  5.97s/it]\n"
     ]
    },
    {
     "name": "stdout",
     "output_type": "stream",
     "text": [
      "\u001b[36m(launch_and_fit pid=3936)\u001b[0m \tTrain Epoch: 1 \tTrain_loss: 1.6892 | Train_acc: 34.1363 % | Validation_loss: 1.6262 | Validation_acc: 35.3583 %\n",
      "\u001b[36m(launch_and_fit pid=3961)\u001b[0m Run with homomorphic encryption\n",
      "\u001b[36m(launch_and_fit pid=3961)\u001b[0m [Client 1, round 5] fit, config: {'learning_rate': 0.001, 'batch_size': '128', 'server_round': 5, 'local_epochs': 10}\n",
      "\u001b[36m(launch_and_fit pid=3961)\u001b[0m Updated model\n"
     ]
    },
    {
     "name": "stderr",
     "output_type": "stream",
     "text": [
      " 10%|\u001b[34m█         \u001b[0m| 1/10 [00:06<00:55,  6.17s/it]\n",
      "  0%|\u001b[34m          \u001b[0m| 0/10 [00:00<?, ?it/s]\n"
     ]
    },
    {
     "name": "stdout",
     "output_type": "stream",
     "text": [
      "\u001b[36m(launch_and_fit pid=3936)\u001b[0m \tTrain Epoch: 2 \tTrain_loss: 1.6324 | Train_acc: 36.3368 % | Validation_loss: 1.5932 | Validation_acc: 37.9984 %\u001b[32m [repeated 2x across cluster]\u001b[0m\n"
     ]
    },
    {
     "name": "stderr",
     "output_type": "stream",
     "text": [
      " 20%|\u001b[34m██        \u001b[0m| 2/10 [00:12<00:50,  6.26s/it]\u001b[32m [repeated 2x across cluster]\u001b[0m\n"
     ]
    },
    {
     "name": "stdout",
     "output_type": "stream",
     "text": [
      "\u001b[36m(launch_and_fit pid=3936)\u001b[0m \tTrain Epoch: 3 \tTrain_loss: 1.5752 | Train_acc: 39.1189 % | Validation_loss: 1.5973 | Validation_acc: 38.4092 %\u001b[32m [repeated 2x across cluster]\u001b[0m\n"
     ]
    },
    {
     "name": "stderr",
     "output_type": "stream",
     "text": [
      " 30%|\u001b[34m███       \u001b[0m| 3/10 [00:18<00:43,  6.19s/it]\u001b[32m [repeated 2x across cluster]\u001b[0m\n"
     ]
    },
    {
     "name": "stdout",
     "output_type": "stream",
     "text": [
      "\u001b[36m(launch_and_fit pid=3936)\u001b[0m \tTrain Epoch: 4 \tTrain_loss: 1.5446 | Train_acc: 41.5234 % | Validation_loss: 1.6390 | Validation_acc: 38.0590 %\u001b[32m [repeated 2x across cluster]\u001b[0m\n"
     ]
    },
    {
     "name": "stderr",
     "output_type": "stream",
     "text": [
      " 40%|\u001b[34m████      \u001b[0m| 4/10 [00:24<00:36,  6.09s/it]\u001b[32m [repeated 2x across cluster]\u001b[0m\n"
     ]
    },
    {
     "name": "stdout",
     "output_type": "stream",
     "text": [
      "\u001b[36m(launch_and_fit pid=3936)\u001b[0m \tTrain Epoch: 5 \tTrain_loss: 1.5042 | Train_acc: 43.6024 % | Validation_loss: 1.5951 | Validation_acc: 36.5908 %\u001b[32m [repeated 2x across cluster]\u001b[0m\n"
     ]
    },
    {
     "name": "stderr",
     "output_type": "stream",
     "text": [
      " 50%|\u001b[34m█████     \u001b[0m| 5/10 [00:30<00:30,  6.00s/it]\u001b[32m [repeated 2x across cluster]\u001b[0m\n"
     ]
    },
    {
     "name": "stdout",
     "output_type": "stream",
     "text": [
      "\u001b[36m(launch_and_fit pid=3936)\u001b[0m \tTrain Epoch: 6 \tTrain_loss: 1.4717 | Train_acc: 44.6788 % | Validation_loss: 1.5979 | Validation_acc: 41.1840 %\u001b[32m [repeated 2x across cluster]\u001b[0m\n"
     ]
    },
    {
     "name": "stderr",
     "output_type": "stream",
     "text": [
      " 60%|\u001b[34m██████    \u001b[0m| 6/10 [00:36<00:23,  5.96s/it]\u001b[32m [repeated 2x across cluster]\u001b[0m\n"
     ]
    },
    {
     "name": "stdout",
     "output_type": "stream",
     "text": [
      "\u001b[36m(launch_and_fit pid=3936)\u001b[0m \tTrain Epoch: 7 \tTrain_loss: 1.4159 | Train_acc: 47.5564 % | Validation_loss: 1.5402 | Validation_acc: 40.4432 %\u001b[32m [repeated 2x across cluster]\u001b[0m\n"
     ]
    },
    {
     "name": "stderr",
     "output_type": "stream",
     "text": [
      " 70%|\u001b[34m███████   \u001b[0m| 7/10 [00:42<00:18,  6.04s/it]\u001b[32m [repeated 2x across cluster]\u001b[0m\n"
     ]
    },
    {
     "name": "stdout",
     "output_type": "stream",
     "text": [
      "\u001b[36m(launch_and_fit pid=3936)\u001b[0m \tTrain Epoch: 8 \tTrain_loss: 1.3927 | Train_acc: 47.9384 % | Validation_loss: 1.5680 | Validation_acc: 39.1298 %\u001b[32m [repeated 2x across cluster]\u001b[0m\n"
     ]
    },
    {
     "name": "stderr",
     "output_type": "stream",
     "text": [
      " 80%|\u001b[34m████████  \u001b[0m| 8/10 [00:48<00:12,  6.04s/it]\u001b[32m [repeated 2x across cluster]\u001b[0m\n"
     ]
    },
    {
     "name": "stdout",
     "output_type": "stream",
     "text": [
      "\u001b[36m(launch_and_fit pid=3936)\u001b[0m \tTrain Epoch: 9 \tTrain_loss: 1.3740 | Train_acc: 49.4835 % | Validation_loss: 1.5173 | Validation_acc: 44.2147 %\u001b[32m [repeated 2x across cluster]\u001b[0m\n"
     ]
    },
    {
     "name": "stderr",
     "output_type": "stream",
     "text": [
      " 90%|\u001b[34m█████████ \u001b[0m| 9/10 [00:54<00:05,  5.96s/it]\u001b[32m [repeated 2x across cluster]\u001b[0m\n"
     ]
    },
    {
     "name": "stdout",
     "output_type": "stream",
     "text": [
      "\u001b[36m(launch_and_fit pid=3936)\u001b[0m save graph in  results/FL/\n",
      "\u001b[36m(launch_and_fit pid=3936)\u001b[0m \tTrain Epoch: 10 \tTrain_loss: 1.3416 | Train_acc: 51.2413 % | Validation_loss: 1.5229 | Validation_acc: 43.2381 %\u001b[32m [repeated 2x across cluster]\u001b[0m\n"
     ]
    },
    {
     "name": "stderr",
     "output_type": "stream",
     "text": [
      "100%|\u001b[34m██████████\u001b[0m| 10/10 [01:00<00:00,  6.02s/it]\u001b[32m [repeated 2x across cluster]\u001b[0m\n"
     ]
    },
    {
     "name": "stdout",
     "output_type": "stream",
     "text": [
      "\u001b[36m(launch_and_fit pid=3936)\u001b[0m network.0.weight 5.245208740234375e-06\n",
      "\u001b[36m(launch_and_fit pid=3936)\u001b[0m network.0.bias 1.6689300537109375e-06\n",
      "\u001b[36m(launch_and_fit pid=3936)\u001b[0m network.2.weight 1.1920928955078125e-06\n",
      "\u001b[36m(launch_and_fit pid=3936)\u001b[0m network.2.bias 9.5367431640625e-07\n",
      "\u001b[36m(launch_and_fit pid=3936)\u001b[0m network.5.weight 1.430511474609375e-06\n",
      "\u001b[36m(launch_and_fit pid=3936)\u001b[0m network.5.bias 9.5367431640625e-07\n",
      "\u001b[36m(launch_and_fit pid=3936)\u001b[0m network.7.weight 1.1920928955078125e-06\n",
      "\u001b[36m(launch_and_fit pid=3936)\u001b[0m network.7.bias 9.5367431640625e-07\n",
      "\u001b[36m(launch_and_fit pid=3936)\u001b[0m network.10.weight 1.1920928955078125e-06\n",
      "\u001b[36m(launch_and_fit pid=3936)\u001b[0m network.10.bias 1.430511474609375e-06\n",
      "\u001b[36m(launch_and_fit pid=3936)\u001b[0m network.12.weight 9.5367431640625e-07\n",
      "\u001b[36m(launch_and_fit pid=3936)\u001b[0m network.12.bias 1.430511474609375e-06\n",
      "\u001b[36m(launch_and_fit pid=3936)\u001b[0m network.16.weight 9.5367431640625e-07\n",
      "\u001b[36m(launch_and_fit pid=3936)\u001b[0m network.16.bias 9.5367431640625e-07\n",
      "\u001b[36m(launch_and_fit pid=3936)\u001b[0m network.18.weight 1.430511474609375e-06\n",
      "\u001b[36m(launch_and_fit pid=3936)\u001b[0m network.18.bias 9.5367431640625e-07\n",
      "\u001b[36m(launch_and_fit pid=3936)\u001b[0m network.20.weight 9.5367431640625e-07\n",
      "\u001b[36m(launch_and_fit pid=3936)\u001b[0m network.20.bias 1.1920928955078125e-06\n",
      "\u001b[36m(launch_and_fit pid=3936)\u001b[0m qnn.weights 1.1920928955078125e-06\n",
      "\u001b[36m(launch_and_fit pid=3936)\u001b[0m fc4.weight 1.1920928955078125e-06\n",
      "\u001b[36m(launch_and_fit pid=3936)\u001b[0m fc4.bias 9.5367431640625e-07\n",
      "\u001b[36m(launch_and_fit pid=4018)\u001b[0m Run with homomorphic encryption\n",
      "\u001b[36m(launch_and_fit pid=3961)\u001b[0m save graph in  results/FL/\n",
      "\u001b[36m(launch_and_fit pid=3961)\u001b[0m \tTrain Epoch: 10 \tTrain_loss: 1.2936 | Train_acc: 52.4479 % | Validation_loss: 1.5823 | Validation_acc: 38.9749 %\n",
      "\u001b[36m(launch_and_fit pid=3961)\u001b[0m fc4.bias 1.1920928955078125e-06\u001b[32m [repeated 20x across cluster]\u001b[0m\n",
      "\u001b[36m(launch_and_fit pid=3961)\u001b[0m qnn.weights 1.430511474609375e-06\n",
      "\u001b[36m(launch_and_fit pid=4018)\u001b[0m [Client 6, round 5] fit, config: {'learning_rate': 0.001, 'batch_size': '128', 'server_round': 5, 'local_epochs': 10}\n",
      "\u001b[36m(launch_and_fit pid=4018)\u001b[0m Updated model\n"
     ]
    },
    {
     "name": "stderr",
     "output_type": "stream",
     "text": [
      "  0%|\u001b[34m          \u001b[0m| 0/10 [00:00<?, ?it/s]\n",
      "100%|\u001b[34m██████████\u001b[0m| 10/10 [00:59<00:00,  5.99s/it]\n"
     ]
    },
    {
     "name": "stdout",
     "output_type": "stream",
     "text": [
      "\u001b[36m(launch_and_fit pid=4018)\u001b[0m \tTrain Epoch: 1 \tTrain_loss: 1.6849 | Train_acc: 34.2535 % | Validation_loss: 1.6734 | Validation_acc: 37.3720 %\n",
      "\u001b[36m(launch_and_fit pid=4041)\u001b[0m Run with homomorphic encryption\n",
      "\u001b[36m(launch_and_fit pid=4041)\u001b[0m [Client 3, round 5] fit, config: {'learning_rate': 0.001, 'batch_size': '128', 'server_round': 5, 'local_epochs': 10}\n",
      "\u001b[36m(launch_and_fit pid=4041)\u001b[0m Updated model\n"
     ]
    },
    {
     "name": "stderr",
     "output_type": "stream",
     "text": [
      " 10%|\u001b[34m█         \u001b[0m| 1/10 [00:06<00:58,  6.52s/it]\n",
      "  0%|\u001b[34m          \u001b[0m| 0/10 [00:00<?, ?it/s]\n"
     ]
    },
    {
     "name": "stdout",
     "output_type": "stream",
     "text": [
      "\u001b[36m(launch_and_fit pid=4018)\u001b[0m \tTrain Epoch: 2 \tTrain_loss: 1.6162 | Train_acc: 37.6519 % | Validation_loss: 1.6661 | Validation_acc: 36.3214 %\u001b[32m [repeated 2x across cluster]\u001b[0m\n"
     ]
    },
    {
     "name": "stderr",
     "output_type": "stream",
     "text": [
      " 20%|\u001b[34m██        \u001b[0m| 2/10 [00:12<00:49,  6.13s/it]\u001b[32m [repeated 2x across cluster]\u001b[0m\n"
     ]
    },
    {
     "name": "stdout",
     "output_type": "stream",
     "text": [
      "\u001b[36m(launch_and_fit pid=4018)\u001b[0m \tTrain Epoch: 3 \tTrain_loss: 1.5592 | Train_acc: 40.2691 % | Validation_loss: 1.6464 | Validation_acc: 34.6377 %\u001b[32m [repeated 2x across cluster]\u001b[0m\n"
     ]
    },
    {
     "name": "stderr",
     "output_type": "stream",
     "text": [
      " 30%|\u001b[34m███       \u001b[0m| 3/10 [00:18<00:42,  6.05s/it]\u001b[32m [repeated 2x across cluster]\u001b[0m\n"
     ]
    },
    {
     "name": "stdout",
     "output_type": "stream",
     "text": [
      "\u001b[36m(launch_and_fit pid=4018)\u001b[0m \tTrain Epoch: 4 \tTrain_loss: 1.5217 | Train_acc: 41.8446 % | Validation_loss: 1.6532 | Validation_acc: 35.6950 %\u001b[32m [repeated 2x across cluster]\u001b[0m\n"
     ]
    },
    {
     "name": "stderr",
     "output_type": "stream",
     "text": [
      " 40%|\u001b[34m████      \u001b[0m| 4/10 [00:24<00:35,  5.95s/it]\u001b[32m [repeated 2x across cluster]\u001b[0m\n"
     ]
    },
    {
     "name": "stdout",
     "output_type": "stream",
     "text": [
      "\u001b[36m(launch_and_fit pid=4018)\u001b[0m \tTrain Epoch: 5 \tTrain_loss: 1.4775 | Train_acc: 44.3490 % | Validation_loss: 1.5964 | Validation_acc: 37.8637 %\u001b[32m [repeated 2x across cluster]\u001b[0m\n"
     ]
    },
    {
     "name": "stderr",
     "output_type": "stream",
     "text": [
      " 50%|\u001b[34m█████     \u001b[0m| 5/10 [00:30<00:30,  6.01s/it]\u001b[32m [repeated 2x across cluster]\u001b[0m\n"
     ]
    },
    {
     "name": "stdout",
     "output_type": "stream",
     "text": [
      "\u001b[36m(launch_and_fit pid=4018)\u001b[0m \tTrain Epoch: 6 \tTrain_loss: 1.4616 | Train_acc: 45.1085 % | Validation_loss: 1.6374 | Validation_acc: 38.1937 %\u001b[32m [repeated 2x across cluster]\u001b[0m\n"
     ]
    },
    {
     "name": "stderr",
     "output_type": "stream",
     "text": [
      " 60%|\u001b[34m██████    \u001b[0m| 6/10 [00:36<00:23,  5.98s/it]\u001b[32m [repeated 2x across cluster]\u001b[0m\n"
     ]
    },
    {
     "name": "stdout",
     "output_type": "stream",
     "text": [
      "\u001b[36m(launch_and_fit pid=4018)\u001b[0m \tTrain Epoch: 7 \tTrain_loss: 1.4369 | Train_acc: 45.3125 % | Validation_loss: 1.5898 | Validation_acc: 36.7120 %\u001b[32m [repeated 2x across cluster]\u001b[0m\n"
     ]
    },
    {
     "name": "stderr",
     "output_type": "stream",
     "text": [
      " 70%|\u001b[34m███████   \u001b[0m| 7/10 [00:41<00:17,  5.92s/it]\u001b[32m [repeated 2x across cluster]\u001b[0m\n"
     ]
    },
    {
     "name": "stdout",
     "output_type": "stream",
     "text": [
      "\u001b[36m(launch_and_fit pid=4041)\u001b[0m \tTrain Epoch: 8 \tTrain_loss: 1.3668 | Train_acc: 49.0972 % | Validation_loss: 1.6281 | Validation_acc: 40.4566 %\u001b[32m [repeated 2x across cluster]\u001b[0m\n"
     ]
    },
    {
     "name": "stderr",
     "output_type": "stream",
     "text": [
      " 80%|\u001b[34m████████  \u001b[0m| 8/10 [00:46<00:11,  5.79s/it]\u001b[32m [repeated 2x across cluster]\u001b[0m\n"
     ]
    },
    {
     "name": "stdout",
     "output_type": "stream",
     "text": [
      "\u001b[36m(launch_and_fit pid=4041)\u001b[0m \tTrain Epoch: 9 \tTrain_loss: 1.3276 | Train_acc: 50.7726 % | Validation_loss: 1.6334 | Validation_acc: 39.6013 %\u001b[32m [repeated 2x across cluster]\u001b[0m\n"
     ]
    },
    {
     "name": "stderr",
     "output_type": "stream",
     "text": [
      " 90%|\u001b[34m█████████ \u001b[0m| 9/10 [00:52<00:05,  5.78s/it]\u001b[32m [repeated 2x across cluster]\u001b[0m\n"
     ]
    },
    {
     "name": "stdout",
     "output_type": "stream",
     "text": [
      "\u001b[36m(launch_and_fit pid=4041)\u001b[0m save graph in  results/FL/\n",
      "\u001b[36m(launch_and_fit pid=4041)\u001b[0m \tTrain Epoch: 10 \tTrain_loss: 1.2888 | Train_acc: 53.2118 % | Validation_loss: 1.6004 | Validation_acc: 36.2002 %\u001b[32m [repeated 2x across cluster]\u001b[0m\n"
     ]
    },
    {
     "name": "stderr",
     "output_type": "stream",
     "text": [
      "100%|\u001b[34m██████████\u001b[0m| 10/10 [00:58<00:00,  5.87s/it]\u001b[32m [repeated 2x across cluster]\u001b[0m\n"
     ]
    },
    {
     "name": "stdout",
     "output_type": "stream",
     "text": [
      "\u001b[36m(launch_and_fit pid=4041)\u001b[0m network.0.weight 5.9604644775390625e-06\n",
      "\u001b[36m(launch_and_fit pid=4041)\u001b[0m network.0.bias 1.430511474609375e-06\n",
      "\u001b[36m(launch_and_fit pid=4041)\u001b[0m network.2.weight 1.6689300537109375e-06\n",
      "\u001b[36m(launch_and_fit pid=4041)\u001b[0m network.2.bias 1.621246337890625e-05\n",
      "\u001b[36m(launch_and_fit pid=4041)\u001b[0m network.5.weight 1.6689300537109375e-06\n",
      "\u001b[36m(launch_and_fit pid=4041)\u001b[0m network.5.bias 1.6689300537109375e-06\n",
      "\u001b[36m(launch_and_fit pid=4041)\u001b[0m network.7.weight 1.6689300537109375e-06\n",
      "\u001b[36m(launch_and_fit pid=4041)\u001b[0m network.7.bias 1.9073486328125e-06\n",
      "\u001b[36m(launch_and_fit pid=4041)\u001b[0m network.10.weight 1.9073486328125e-06\n",
      "\u001b[36m(launch_and_fit pid=4041)\u001b[0m network.10.bias 1.6689300537109375e-06\n",
      "\u001b[36m(launch_and_fit pid=4041)\u001b[0m network.12.weight 1.6689300537109375e-06\n",
      "\u001b[36m(launch_and_fit pid=4041)\u001b[0m network.12.bias 1.430511474609375e-06\n",
      "\u001b[36m(launch_and_fit pid=4041)\u001b[0m network.16.weight 1.430511474609375e-06\n",
      "\u001b[36m(launch_and_fit pid=4041)\u001b[0m network.16.bias 1.6689300537109375e-06\n",
      "\u001b[36m(launch_and_fit pid=4041)\u001b[0m network.18.weight 1.6689300537109375e-06\n",
      "\u001b[36m(launch_and_fit pid=4041)\u001b[0m network.18.bias 2.384185791015625e-06\n",
      "\u001b[36m(launch_and_fit pid=4041)\u001b[0m network.20.weight 1.6689300537109375e-06\n",
      "\u001b[36m(launch_and_fit pid=4041)\u001b[0m network.20.bias 1.6689300537109375e-06\n",
      "\u001b[36m(launch_and_fit pid=4041)\u001b[0m qnn.weights 1.430511474609375e-06\n",
      "\u001b[36m(launch_and_fit pid=4041)\u001b[0m fc4.weight 1.6689300537109375e-06\n",
      "\u001b[36m(launch_and_fit pid=4041)\u001b[0m fc4.bias 1.6689300537109375e-06\n"
     ]
    },
    {
     "name": "stderr",
     "output_type": "stream",
     "text": [
      "DEBUG flwr 2024-07-20 19:00:46,556 | server.py:236 | fit_round 5 received 10 results and 0 failures\n"
     ]
    },
    {
     "name": "stdout",
     "output_type": "stream",
     "text": [
      "Saving round 5 aggregated_parameters...\n"
     ]
    },
    {
     "name": "stderr",
     "output_type": "stream",
     "text": [
      "DEBUG flwr 2024-07-20 19:00:47,494 | server.py:173 | evaluate_round 5: strategy sampled 10 clients (out of 10)\n"
     ]
    },
    {
     "name": "stdout",
     "output_type": "stream",
     "text": [
      "\u001b[36m(launch_and_evaluate pid=4109)\u001b[0m Run with homomorphic encryption\n",
      "\u001b[36m(launch_and_fit pid=4018)\u001b[0m save graph in  results/FL/\n",
      "\u001b[36m(launch_and_fit pid=4018)\u001b[0m \tTrain Epoch: 10 \tTrain_loss: 1.3033 | Train_acc: 51.6797 % | Validation_loss: 1.5816 | Validation_acc: 41.8305 %\n",
      "\u001b[36m(launch_and_fit pid=4018)\u001b[0m fc4.bias 1.430511474609375e-06\u001b[32m [repeated 20x across cluster]\u001b[0m\n",
      "\u001b[36m(launch_and_fit pid=4018)\u001b[0m qnn.weights 7.152557373046875e-07\n",
      "\u001b[36m(launch_and_evaluate pid=4109)\u001b[0m [Client 0] evaluate, config: {}\n",
      "\u001b[36m(launch_and_evaluate pid=4109)\u001b[0m Updated model\n",
      "\u001b[36m(launch_and_evaluate pid=4187)\u001b[0m Run with homomorphic encryption\u001b[32m [repeated 2x across cluster]\u001b[0m\n",
      "\u001b[36m(launch_and_evaluate pid=4133)\u001b[0m [Client 2] evaluate, config: {}\n",
      "\u001b[36m(launch_and_evaluate pid=4133)\u001b[0m Updated model\n",
      "\u001b[36m(launch_and_evaluate pid=4187)\u001b[0m [Client 3] evaluate, config: {}\n",
      "\u001b[36m(launch_and_evaluate pid=4187)\u001b[0m Updated model\n",
      "\u001b[36m(launch_and_evaluate pid=4266)\u001b[0m Run with homomorphic encryption\u001b[32m [repeated 2x across cluster]\u001b[0m\n",
      "\u001b[36m(launch_and_evaluate pid=4212)\u001b[0m [Client 6] evaluate, config: {}\n",
      "\u001b[36m(launch_and_evaluate pid=4212)\u001b[0m Updated model\n",
      "\u001b[36m(launch_and_evaluate pid=4266)\u001b[0m [Client 4] evaluate, config: {}\n",
      "\u001b[36m(launch_and_evaluate pid=4266)\u001b[0m Updated model\n",
      "\u001b[36m(launch_and_evaluate pid=4344)\u001b[0m Run with homomorphic encryption\u001b[32m [repeated 2x across cluster]\u001b[0m\n",
      "\u001b[36m(launch_and_evaluate pid=4291)\u001b[0m [Client 9] evaluate, config: {}\n",
      "\u001b[36m(launch_and_evaluate pid=4291)\u001b[0m Updated model\n",
      "\u001b[36m(launch_and_evaluate pid=4344)\u001b[0m [Client 1] evaluate, config: {}\n",
      "\u001b[36m(launch_and_evaluate pid=4344)\u001b[0m Updated model\n",
      "\u001b[36m(launch_and_evaluate pid=4422)\u001b[0m Run with homomorphic encryption\u001b[32m [repeated 2x across cluster]\u001b[0m\n",
      "\u001b[36m(launch_and_evaluate pid=4369)\u001b[0m [Client 5] evaluate, config: {}\n",
      "\u001b[36m(launch_and_evaluate pid=4369)\u001b[0m Updated model\n",
      "\u001b[36m(launch_and_evaluate pid=4422)\u001b[0m [Client 7] evaluate, config: {}\n",
      "\u001b[36m(launch_and_evaluate pid=4422)\u001b[0m Updated model\n"
     ]
    },
    {
     "name": "stderr",
     "output_type": "stream",
     "text": [
      "DEBUG flwr 2024-07-20 19:02:16,730 | server.py:187 | evaluate_round 5 received 10 results and 0 failures\n",
      "DEBUG flwr 2024-07-20 19:02:16,731 | server.py:222 | fit_round 6: strategy sampled 10 clients (out of 10)\n"
     ]
    },
    {
     "name": "stdout",
     "output_type": "stream",
     "text": [
      "\u001b[36m(launch_and_fit pid=4510)\u001b[0m Run with homomorphic encryption\u001b[32m [repeated 2x across cluster]\u001b[0m\n",
      "\u001b[36m(launch_and_evaluate pid=4447)\u001b[0m [Client 8] evaluate, config: {}\n",
      "\u001b[36m(launch_and_evaluate pid=4447)\u001b[0m Updated model\n",
      "\u001b[36m(launch_and_fit pid=4510)\u001b[0m [Client 9, round 6] fit, config: {'learning_rate': 0.001, 'batch_size': '128', 'server_round': 6, 'local_epochs': 10}\n",
      "\u001b[36m(launch_and_fit pid=4510)\u001b[0m Updated model\n"
     ]
    },
    {
     "name": "stderr",
     "output_type": "stream",
     "text": [
      "  0%|\u001b[34m          \u001b[0m| 0/10 [00:00<?, ?it/s]\n",
      "100%|\u001b[34m██████████\u001b[0m| 10/10 [00:59<00:00,  5.98s/it]\n"
     ]
    },
    {
     "name": "stdout",
     "output_type": "stream",
     "text": [
      "\u001b[36m(launch_and_fit pid=4510)\u001b[0m \tTrain Epoch: 1 \tTrain_loss: 1.5457 | Train_acc: 41.4627 % | Validation_loss: 1.6123 | Validation_acc: 38.4496 %\n",
      "\u001b[36m(launch_and_fit pid=4511)\u001b[0m Run with homomorphic encryption\n",
      "\u001b[36m(launch_and_fit pid=4511)\u001b[0m [Client 1, round 6] fit, config: {'learning_rate': 0.001, 'batch_size': '128', 'server_round': 6, 'local_epochs': 10}\n",
      "\u001b[36m(launch_and_fit pid=4511)\u001b[0m Updated model\n"
     ]
    },
    {
     "name": "stderr",
     "output_type": "stream",
     "text": [
      " 10%|\u001b[34m█         \u001b[0m| 1/10 [00:06<00:57,  6.41s/it]\n",
      "  0%|\u001b[34m          \u001b[0m| 0/10 [00:00<?, ?it/s]\n"
     ]
    },
    {
     "name": "stdout",
     "output_type": "stream",
     "text": [
      "\u001b[36m(launch_and_fit pid=4510)\u001b[0m \tTrain Epoch: 2 \tTrain_loss: 1.4883 | Train_acc: 42.9167 % | Validation_loss: 1.5247 | Validation_acc: 41.7969 %\u001b[32m [repeated 2x across cluster]\u001b[0m\n"
     ]
    },
    {
     "name": "stderr",
     "output_type": "stream",
     "text": [
      " 20%|\u001b[34m██        \u001b[0m| 2/10 [00:12<00:49,  6.17s/it]\u001b[32m [repeated 2x across cluster]\u001b[0m\n"
     ]
    },
    {
     "name": "stdout",
     "output_type": "stream",
     "text": [
      "\u001b[36m(launch_and_fit pid=4510)\u001b[0m \tTrain Epoch: 3 \tTrain_loss: 1.4165 | Train_acc: 46.4714 % | Validation_loss: 1.5046 | Validation_acc: 43.3796 %\u001b[32m [repeated 2x across cluster]\u001b[0m\n"
     ]
    },
    {
     "name": "stderr",
     "output_type": "stream",
     "text": [
      " 30%|\u001b[34m███       \u001b[0m| 3/10 [00:18<00:41,  5.99s/it]\u001b[32m [repeated 2x across cluster]\u001b[0m\n"
     ]
    },
    {
     "name": "stdout",
     "output_type": "stream",
     "text": [
      "\u001b[36m(launch_and_fit pid=4510)\u001b[0m \tTrain Epoch: 4 \tTrain_loss: 1.3545 | Train_acc: 48.7326 % | Validation_loss: 1.5091 | Validation_acc: 41.2850 %\u001b[32m [repeated 2x across cluster]\u001b[0m\n"
     ]
    },
    {
     "name": "stderr",
     "output_type": "stream",
     "text": [
      " 40%|\u001b[34m████      \u001b[0m| 4/10 [00:24<00:35,  5.98s/it]\u001b[32m [repeated 2x across cluster]\u001b[0m\n"
     ]
    },
    {
     "name": "stdout",
     "output_type": "stream",
     "text": [
      "\u001b[36m(launch_and_fit pid=4510)\u001b[0m \tTrain Epoch: 5 \tTrain_loss: 1.3200 | Train_acc: 50.2214 % | Validation_loss: 1.5025 | Validation_acc: 39.1905 %\u001b[32m [repeated 2x across cluster]\u001b[0m\n"
     ]
    },
    {
     "name": "stderr",
     "output_type": "stream",
     "text": [
      " 50%|\u001b[34m█████     \u001b[0m| 5/10 [00:29<00:29,  5.91s/it]\u001b[32m [repeated 2x across cluster]\u001b[0m\n"
     ]
    },
    {
     "name": "stdout",
     "output_type": "stream",
     "text": [
      "\u001b[36m(launch_and_fit pid=4510)\u001b[0m \tTrain Epoch: 6 \tTrain_loss: 1.2822 | Train_acc: 53.5026 % | Validation_loss: 1.5130 | Validation_acc: 44.6659 %\u001b[32m [repeated 2x across cluster]\u001b[0m\n"
     ]
    },
    {
     "name": "stderr",
     "output_type": "stream",
     "text": [
      " 60%|\u001b[34m██████    \u001b[0m| 6/10 [00:35<00:23,  5.80s/it]\u001b[32m [repeated 2x across cluster]\u001b[0m\n"
     ]
    },
    {
     "name": "stdout",
     "output_type": "stream",
     "text": [
      "\u001b[36m(launch_and_fit pid=4510)\u001b[0m \tTrain Epoch: 7 \tTrain_loss: 1.1935 | Train_acc: 57.7517 % | Validation_loss: 1.4940 | Validation_acc: 43.8039 %\u001b[32m [repeated 2x across cluster]\u001b[0m\n"
     ]
    },
    {
     "name": "stderr",
     "output_type": "stream",
     "text": [
      " 70%|\u001b[34m███████   \u001b[0m| 7/10 [00:41<00:17,  5.75s/it]\u001b[32m [repeated 2x across cluster]\u001b[0m\n"
     ]
    },
    {
     "name": "stdout",
     "output_type": "stream",
     "text": [
      "\u001b[36m(launch_and_fit pid=4510)\u001b[0m \tTrain Epoch: 8 \tTrain_loss: 1.1649 | Train_acc: 59.0408 % | Validation_loss: 1.4860 | Validation_acc: 45.4472 %\u001b[32m [repeated 2x across cluster]\u001b[0m\n"
     ]
    },
    {
     "name": "stderr",
     "output_type": "stream",
     "text": [
      " 80%|\u001b[34m████████  \u001b[0m| 8/10 [00:46<00:11,  5.72s/it]\u001b[32m [repeated 2x across cluster]\u001b[0m\n"
     ]
    },
    {
     "name": "stdout",
     "output_type": "stream",
     "text": [
      "\u001b[36m(launch_and_fit pid=4510)\u001b[0m \tTrain Epoch: 9 \tTrain_loss: 1.1295 | Train_acc: 60.8507 % | Validation_loss: 1.5642 | Validation_acc: 42.7330 %\u001b[32m [repeated 2x across cluster]\u001b[0m\n"
     ]
    },
    {
     "name": "stderr",
     "output_type": "stream",
     "text": [
      " 90%|\u001b[34m█████████ \u001b[0m| 9/10 [00:53<00:05,  5.88s/it]\u001b[32m [repeated 2x across cluster]\u001b[0m\n"
     ]
    },
    {
     "name": "stdout",
     "output_type": "stream",
     "text": [
      "\u001b[36m(launch_and_fit pid=4510)\u001b[0m save graph in  results/FL/\n",
      "\u001b[36m(launch_and_fit pid=4510)\u001b[0m \tTrain Epoch: 10 \tTrain_loss: 1.0981 | Train_acc: 62.5738 % | Validation_loss: 1.5069 | Validation_acc: 44.3494 %\u001b[32m [repeated 2x across cluster]\u001b[0m\n"
     ]
    },
    {
     "name": "stderr",
     "output_type": "stream",
     "text": [
      "100%|\u001b[34m██████████\u001b[0m| 10/10 [00:58<00:00,  5.86s/it]\u001b[32m [repeated 2x across cluster]\u001b[0m\n"
     ]
    },
    {
     "name": "stdout",
     "output_type": "stream",
     "text": [
      "\u001b[36m(launch_and_fit pid=4510)\u001b[0m network.0.weight 5.9604644775390625e-06\n",
      "\u001b[36m(launch_and_fit pid=4510)\u001b[0m network.0.bias 1.6689300537109375e-06\n",
      "\u001b[36m(launch_and_fit pid=4510)\u001b[0m network.2.weight 1.6689300537109375e-06\n",
      "\u001b[36m(launch_and_fit pid=4510)\u001b[0m network.2.bias 1.1920928955078125e-06\n",
      "\u001b[36m(launch_and_fit pid=4510)\u001b[0m network.5.weight 1.6689300537109375e-06\n",
      "\u001b[36m(launch_and_fit pid=4510)\u001b[0m network.5.bias 1.430511474609375e-06\n",
      "\u001b[36m(launch_and_fit pid=4510)\u001b[0m network.7.weight 1.430511474609375e-06\n",
      "\u001b[36m(launch_and_fit pid=4510)\u001b[0m network.7.bias 1.430511474609375e-06\n",
      "\u001b[36m(launch_and_fit pid=4510)\u001b[0m network.10.weight 1.430511474609375e-06\n",
      "\u001b[36m(launch_and_fit pid=4510)\u001b[0m network.10.bias 1.430511474609375e-06\n",
      "\u001b[36m(launch_and_fit pid=4510)\u001b[0m network.12.weight 1.1920928955078125e-06\n",
      "\u001b[36m(launch_and_fit pid=4510)\u001b[0m network.12.bias 1.1920928955078125e-06\n",
      "\u001b[36m(launch_and_fit pid=4510)\u001b[0m network.16.weight 1.430511474609375e-06\n",
      "\u001b[36m(launch_and_fit pid=4510)\u001b[0m network.16.bias 1.1920928955078125e-06\n",
      "\u001b[36m(launch_and_fit pid=4510)\u001b[0m network.18.weight 1.6689300537109375e-06\n",
      "\u001b[36m(launch_and_fit pid=4510)\u001b[0m network.18.bias 1.1920928955078125e-06\n",
      "\u001b[36m(launch_and_fit pid=4510)\u001b[0m network.20.weight 1.430511474609375e-06\n",
      "\u001b[36m(launch_and_fit pid=4510)\u001b[0m network.20.bias 1.430511474609375e-06\n",
      "\u001b[36m(launch_and_fit pid=4510)\u001b[0m qnn.weights 1.1920928955078125e-06\n",
      "\u001b[36m(launch_and_fit pid=4510)\u001b[0m fc4.weight 1.1920928955078125e-06\n",
      "\u001b[36m(launch_and_fit pid=4510)\u001b[0m fc4.bias 1.6689300537109375e-06\n",
      "\u001b[36m(launch_and_fit pid=4594)\u001b[0m Run with homomorphic encryption\n",
      "\u001b[36m(launch_and_fit pid=4511)\u001b[0m save graph in  results/FL/\n",
      "\u001b[36m(launch_and_fit pid=4511)\u001b[0m \tTrain Epoch: 10 \tTrain_loss: 1.0441 | Train_acc: 65.4297 % | Validation_loss: 1.5227 | Validation_acc: 48.3567 %\n",
      "\u001b[36m(launch_and_fit pid=4511)\u001b[0m fc4.bias 1.6689300537109375e-06\u001b[32m [repeated 22x across cluster]\u001b[0m\n",
      "\u001b[36m(launch_and_fit pid=4511)\u001b[0m qnn.weights 1.1920928955078125e-06\n",
      "\u001b[36m(launch_and_fit pid=4594)\u001b[0m [Client 5, round 6] fit, config: {'learning_rate': 0.001, 'batch_size': '128', 'server_round': 6, 'local_epochs': 10}\n"
     ]
    },
    {
     "name": "stderr",
     "output_type": "stream",
     "text": [
      "  0%|\u001b[34m          \u001b[0m| 0/10 [00:00<?, ?it/s]\n",
      "100%|\u001b[34m██████████\u001b[0m| 10/10 [00:59<00:00,  5.90s/it]\n"
     ]
    },
    {
     "name": "stdout",
     "output_type": "stream",
     "text": [
      "\u001b[36m(launch_and_fit pid=4594)\u001b[0m Updated model\n"
     ]
    },
    {
     "name": "stderr",
     "output_type": "stream",
     "text": [
      " 10%|\u001b[34m█         \u001b[0m| 1/10 [00:06<00:58,  6.55s/it]\n",
      "  0%|\u001b[34m          \u001b[0m| 0/10 [00:00<?, ?it/s]\n"
     ]
    },
    {
     "name": "stdout",
     "output_type": "stream",
     "text": [
      "\u001b[36m(launch_and_fit pid=4594)\u001b[0m \tTrain Epoch: 1 \tTrain_loss: 1.5669 | Train_acc: 40.0608 % | Validation_loss: 1.5895 | Validation_acc: 41.2446 %\n",
      "\u001b[36m(launch_and_fit pid=4595)\u001b[0m Run with homomorphic encryption\n",
      "\u001b[36m(launch_and_fit pid=4595)\u001b[0m [Client 8, round 6] fit, config: {'learning_rate': 0.001, 'batch_size': '128', 'server_round': 6, 'local_epochs': 10}\n",
      "\u001b[36m(launch_and_fit pid=4595)\u001b[0m Updated model\n"
     ]
    },
    {
     "name": "stderr",
     "output_type": "stream",
     "text": [
      " 20%|\u001b[34m██        \u001b[0m| 2/10 [00:12<00:47,  5.93s/it]\u001b[32m [repeated 2x across cluster]\u001b[0m\n"
     ]
    },
    {
     "name": "stdout",
     "output_type": "stream",
     "text": [
      "\u001b[36m(launch_and_fit pid=4594)\u001b[0m \tTrain Epoch: 2 \tTrain_loss: 1.4727 | Train_acc: 43.8281 % | Validation_loss: 1.5837 | Validation_acc: 40.5846 %\u001b[32m [repeated 2x across cluster]\u001b[0m\n"
     ]
    },
    {
     "name": "stderr",
     "output_type": "stream",
     "text": [
      " 30%|\u001b[34m███       \u001b[0m| 3/10 [00:17<00:40,  5.80s/it]\u001b[32m [repeated 2x across cluster]\u001b[0m\n"
     ]
    },
    {
     "name": "stdout",
     "output_type": "stream",
     "text": [
      "\u001b[36m(launch_and_fit pid=4594)\u001b[0m \tTrain Epoch: 3 \tTrain_loss: 1.4217 | Train_acc: 45.1780 % | Validation_loss: 1.5405 | Validation_acc: 44.1204 %\u001b[32m [repeated 2x across cluster]\u001b[0m\n"
     ]
    },
    {
     "name": "stderr",
     "output_type": "stream",
     "text": [
      " 40%|\u001b[34m████      \u001b[0m| 4/10 [00:23<00:34,  5.68s/it]\u001b[32m [repeated 2x across cluster]\u001b[0m\n"
     ]
    },
    {
     "name": "stdout",
     "output_type": "stream",
     "text": [
      "\u001b[36m(launch_and_fit pid=4594)\u001b[0m \tTrain Epoch: 4 \tTrain_loss: 1.3776 | Train_acc: 47.6997 % | Validation_loss: 1.5358 | Validation_acc: 45.4876 %\u001b[32m [repeated 2x across cluster]\u001b[0m\n"
     ]
    },
    {
     "name": "stderr",
     "output_type": "stream",
     "text": [
      " 50%|\u001b[34m█████     \u001b[0m| 5/10 [00:28<00:28,  5.63s/it]\u001b[32m [repeated 2x across cluster]\u001b[0m\n"
     ]
    },
    {
     "name": "stdout",
     "output_type": "stream",
     "text": [
      "\u001b[36m(launch_and_fit pid=4594)\u001b[0m \tTrain Epoch: 5 \tTrain_loss: 1.3223 | Train_acc: 50.6944 % | Validation_loss: 1.5634 | Validation_acc: 42.4973 %\u001b[32m [repeated 2x across cluster]\u001b[0m\n"
     ]
    },
    {
     "name": "stderr",
     "output_type": "stream",
     "text": [
      " 60%|\u001b[34m██████    \u001b[0m| 6/10 [00:34<00:22,  5.68s/it]\u001b[32m [repeated 2x across cluster]\u001b[0m\n"
     ]
    },
    {
     "name": "stdout",
     "output_type": "stream",
     "text": [
      "\u001b[36m(launch_and_fit pid=4594)\u001b[0m \tTrain Epoch: 6 \tTrain_loss: 1.2733 | Train_acc: 53.7413 % | Validation_loss: 1.5356 | Validation_acc: 41.8710 %\u001b[32m [repeated 2x across cluster]\u001b[0m\n"
     ]
    },
    {
     "name": "stderr",
     "output_type": "stream",
     "text": [
      " 70%|\u001b[34m███████   \u001b[0m| 7/10 [00:40<00:16,  5.65s/it]\u001b[32m [repeated 2x across cluster]\u001b[0m\n"
     ]
    },
    {
     "name": "stdout",
     "output_type": "stream",
     "text": [
      "\u001b[36m(launch_and_fit pid=4594)\u001b[0m \tTrain Epoch: 7 \tTrain_loss: 1.2175 | Train_acc: 55.6163 % | Validation_loss: 1.5262 | Validation_acc: 44.9421 %\u001b[32m [repeated 2x across cluster]\u001b[0m\n"
     ]
    },
    {
     "name": "stderr",
     "output_type": "stream",
     "text": [
      " 80%|\u001b[34m████████  \u001b[0m| 8/10 [00:45<00:11,  5.63s/it]\u001b[32m [repeated 2x across cluster]\u001b[0m\n"
     ]
    },
    {
     "name": "stdout",
     "output_type": "stream",
     "text": [
      "\u001b[36m(launch_and_fit pid=4594)\u001b[0m \tTrain Epoch: 8 \tTrain_loss: 1.1823 | Train_acc: 57.3264 % | Validation_loss: 1.5312 | Validation_acc: 43.2988 %\u001b[32m [repeated 2x across cluster]\u001b[0m\n"
     ]
    },
    {
     "name": "stderr",
     "output_type": "stream",
     "text": [
      " 90%|\u001b[34m█████████ \u001b[0m| 9/10 [00:51<00:05,  5.67s/it]\u001b[32m [repeated 2x across cluster]\u001b[0m\n"
     ]
    },
    {
     "name": "stdout",
     "output_type": "stream",
     "text": [
      "\u001b[36m(launch_and_fit pid=4594)\u001b[0m \tTrain Epoch: 9 \tTrain_loss: 1.1373 | Train_acc: 61.1589 % | Validation_loss: 1.4943 | Validation_acc: 45.2317 %\u001b[32m [repeated 2x across cluster]\u001b[0m\n"
     ]
    },
    {
     "name": "stderr",
     "output_type": "stream",
     "text": [
      "100%|\u001b[34m██████████\u001b[0m| 10/10 [00:57<00:00,  5.72s/it]\u001b[32m [repeated 2x across cluster]\u001b[0m\n"
     ]
    },
    {
     "name": "stdout",
     "output_type": "stream",
     "text": [
      "\u001b[36m(launch_and_fit pid=4594)\u001b[0m save graph in  results/FL/\n",
      "\u001b[36m(launch_and_fit pid=4594)\u001b[0m \tTrain Epoch: 10 \tTrain_loss: 1.1235 | Train_acc: 60.9722 % | Validation_loss: 1.4955 | Validation_acc: 47.1242 %\u001b[32m [repeated 2x across cluster]\u001b[0m\n",
      "\u001b[36m(launch_and_fit pid=4594)\u001b[0m network.0.weight 7.152557373046875e-06\n",
      "\u001b[36m(launch_and_fit pid=4594)\u001b[0m network.0.bias 3.5762786865234375e-06\n",
      "\u001b[36m(launch_and_fit pid=4594)\u001b[0m network.2.weight 1.430511474609375e-06\n",
      "\u001b[36m(launch_and_fit pid=4594)\u001b[0m network.2.bias 1.430511474609375e-06\n",
      "\u001b[36m(launch_and_fit pid=4594)\u001b[0m network.5.weight 1.9073486328125e-06\n",
      "\u001b[36m(launch_and_fit pid=4594)\u001b[0m network.5.bias 1.9073486328125e-06\n",
      "\u001b[36m(launch_and_fit pid=4594)\u001b[0m network.7.weight 1.6689300537109375e-06\n",
      "\u001b[36m(launch_and_fit pid=4594)\u001b[0m network.7.bias 1.430511474609375e-06\n",
      "\u001b[36m(launch_and_fit pid=4594)\u001b[0m network.10.weight 1.430511474609375e-06\n",
      "\u001b[36m(launch_and_fit pid=4594)\u001b[0m network.10.bias 1.1920928955078125e-06\n",
      "\u001b[36m(launch_and_fit pid=4594)\u001b[0m network.12.weight 1.9073486328125e-06\n",
      "\u001b[36m(launch_and_fit pid=4594)\u001b[0m network.12.bias 1.9073486328125e-06\n",
      "\u001b[36m(launch_and_fit pid=4594)\u001b[0m network.16.weight 1.9073486328125e-06\n",
      "\u001b[36m(launch_and_fit pid=4594)\u001b[0m network.16.bias 1.430511474609375e-06\n",
      "\u001b[36m(launch_and_fit pid=4594)\u001b[0m network.18.weight 1.1920928955078125e-06\n",
      "\u001b[36m(launch_and_fit pid=4594)\u001b[0m network.18.bias 1.9073486328125e-06\n",
      "\u001b[36m(launch_and_fit pid=4594)\u001b[0m network.20.weight 1.6689300537109375e-06\n",
      "\u001b[36m(launch_and_fit pid=4594)\u001b[0m network.20.bias 1.6689300537109375e-06\n",
      "\u001b[36m(launch_and_fit pid=4594)\u001b[0m qnn.weights 1.6689300537109375e-06\n",
      "\u001b[36m(launch_and_fit pid=4594)\u001b[0m fc4.weight 1.6689300537109375e-06\n",
      "\u001b[36m(launch_and_fit pid=4594)\u001b[0m fc4.bias 1.1920928955078125e-06\n",
      "\u001b[36m(launch_and_fit pid=4676)\u001b[0m Run with homomorphic encryption\n",
      "\u001b[36m(launch_and_fit pid=4595)\u001b[0m save graph in  results/FL/\n",
      "\u001b[36m(launch_and_fit pid=4595)\u001b[0m \tTrain Epoch: 10 \tTrain_loss: 1.0894 | Train_acc: 62.9644 % | Validation_loss: 1.4815 | Validation_acc: 44.4706 %\n",
      "\u001b[36m(launch_and_fit pid=4595)\u001b[0m fc4.bias 9.5367431640625e-07\u001b[32m [repeated 20x across cluster]\u001b[0m\n",
      "\u001b[36m(launch_and_fit pid=4595)\u001b[0m qnn.weights 9.5367431640625e-07\n",
      "\u001b[36m(launch_and_fit pid=4676)\u001b[0m [Client 3, round 6] fit, config: {'learning_rate': 0.001, 'batch_size': '128', 'server_round': 6, 'local_epochs': 10}\n"
     ]
    },
    {
     "name": "stderr",
     "output_type": "stream",
     "text": [
      "  0%|\u001b[34m          \u001b[0m| 0/10 [00:00<?, ?it/s]\n",
      "100%|\u001b[34m██████████\u001b[0m| 10/10 [00:58<00:00,  5.81s/it]\n"
     ]
    },
    {
     "name": "stdout",
     "output_type": "stream",
     "text": [
      "\u001b[36m(launch_and_fit pid=4676)\u001b[0m Updated model\n"
     ]
    },
    {
     "name": "stderr",
     "output_type": "stream",
     "text": [
      " 10%|\u001b[34m█         \u001b[0m| 1/10 [00:06<00:56,  6.27s/it]\n",
      "  0%|\u001b[34m          \u001b[0m| 0/10 [00:00<?, ?it/s]\n"
     ]
    },
    {
     "name": "stdout",
     "output_type": "stream",
     "text": [
      "\u001b[36m(launch_and_fit pid=4676)\u001b[0m \tTrain Epoch: 1 \tTrain_loss: 1.5444 | Train_acc: 41.7188 % | Validation_loss: 1.6867 | Validation_acc: 39.0356 %\n",
      "\u001b[36m(launch_and_fit pid=4701)\u001b[0m Run with homomorphic encryption\n",
      "\u001b[36m(launch_and_fit pid=4701)\u001b[0m [Client 7, round 6] fit, config: {'learning_rate': 0.001, 'batch_size': '128', 'server_round': 6, 'local_epochs': 10}\n",
      "\u001b[36m(launch_and_fit pid=4701)\u001b[0m Updated model\n"
     ]
    },
    {
     "name": "stderr",
     "output_type": "stream",
     "text": [
      " 20%|\u001b[34m██        \u001b[0m| 2/10 [00:11<00:47,  5.92s/it]\u001b[32m [repeated 2x across cluster]\u001b[0m\n"
     ]
    },
    {
     "name": "stdout",
     "output_type": "stream",
     "text": [
      "\u001b[36m(launch_and_fit pid=4676)\u001b[0m \tTrain Epoch: 2 \tTrain_loss: 1.4671 | Train_acc: 44.9653 % | Validation_loss: 1.5572 | Validation_acc: 43.1775 %\u001b[32m [repeated 2x across cluster]\u001b[0m\n"
     ]
    },
    {
     "name": "stderr",
     "output_type": "stream",
     "text": [
      " 30%|\u001b[34m███       \u001b[0m| 3/10 [00:17<00:41,  5.92s/it]\u001b[32m [repeated 2x across cluster]\u001b[0m\n"
     ]
    },
    {
     "name": "stdout",
     "output_type": "stream",
     "text": [
      "\u001b[36m(launch_and_fit pid=4676)\u001b[0m \tTrain Epoch: 3 \tTrain_loss: 1.3902 | Train_acc: 47.6780 % | Validation_loss: 1.5806 | Validation_acc: 40.6385 %\u001b[32m [repeated 2x across cluster]\u001b[0m\n"
     ]
    },
    {
     "name": "stderr",
     "output_type": "stream",
     "text": [
      " 40%|\u001b[34m████      \u001b[0m| 4/10 [00:23<00:35,  5.87s/it]\u001b[32m [repeated 2x across cluster]\u001b[0m\n"
     ]
    },
    {
     "name": "stdout",
     "output_type": "stream",
     "text": [
      "\u001b[36m(launch_and_fit pid=4676)\u001b[0m \tTrain Epoch: 4 \tTrain_loss: 1.3392 | Train_acc: 50.0130 % | Validation_loss: 1.5666 | Validation_acc: 43.0024 %\u001b[32m [repeated 2x across cluster]\u001b[0m\n"
     ]
    },
    {
     "name": "stderr",
     "output_type": "stream",
     "text": [
      " 50%|\u001b[34m█████     \u001b[0m| 5/10 [00:29<00:29,  5.95s/it]\u001b[32m [repeated 2x across cluster]\u001b[0m\n"
     ]
    },
    {
     "name": "stdout",
     "output_type": "stream",
     "text": [
      "\u001b[36m(launch_and_fit pid=4676)\u001b[0m \tTrain Epoch: 5 \tTrain_loss: 1.2653 | Train_acc: 54.7483 % | Validation_loss: 1.5722 | Validation_acc: 40.3219 %\u001b[32m [repeated 2x across cluster]\u001b[0m\n"
     ]
    },
    {
     "name": "stderr",
     "output_type": "stream",
     "text": [
      " 60%|\u001b[34m██████    \u001b[0m| 6/10 [00:35<00:23,  5.90s/it]\u001b[32m [repeated 2x across cluster]\u001b[0m\n"
     ]
    },
    {
     "name": "stdout",
     "output_type": "stream",
     "text": [
      "\u001b[36m(launch_and_fit pid=4676)\u001b[0m \tTrain Epoch: 6 \tTrain_loss: 1.2272 | Train_acc: 55.7682 % | Validation_loss: 1.5441 | Validation_acc: 45.8782 %\u001b[32m [repeated 2x across cluster]\u001b[0m\n"
     ]
    },
    {
     "name": "stderr",
     "output_type": "stream",
     "text": [
      " 70%|\u001b[34m███████   \u001b[0m| 7/10 [00:41<00:17,  5.92s/it]\u001b[32m [repeated 2x across cluster]\u001b[0m\n"
     ]
    },
    {
     "name": "stdout",
     "output_type": "stream",
     "text": [
      "\u001b[36m(launch_and_fit pid=4676)\u001b[0m \tTrain Epoch: 7 \tTrain_loss: 1.2183 | Train_acc: 56.1675 % | Validation_loss: 1.5244 | Validation_acc: 45.4270 %\u001b[32m [repeated 2x across cluster]\u001b[0m\n"
     ]
    },
    {
     "name": "stderr",
     "output_type": "stream",
     "text": [
      " 80%|\u001b[34m████████  \u001b[0m| 8/10 [00:47<00:11,  5.93s/it]\u001b[32m [repeated 2x across cluster]\u001b[0m\n"
     ]
    },
    {
     "name": "stdout",
     "output_type": "stream",
     "text": [
      "\u001b[36m(launch_and_fit pid=4676)\u001b[0m \tTrain Epoch: 8 \tTrain_loss: 1.1566 | Train_acc: 58.8672 % | Validation_loss: 1.5436 | Validation_acc: 44.8613 %\u001b[32m [repeated 2x across cluster]\u001b[0m\n"
     ]
    },
    {
     "name": "stderr",
     "output_type": "stream",
     "text": [
      " 90%|\u001b[34m█████████ \u001b[0m| 9/10 [00:53<00:05,  5.84s/it]\u001b[32m [repeated 2x across cluster]\u001b[0m\n"
     ]
    },
    {
     "name": "stdout",
     "output_type": "stream",
     "text": [
      "\u001b[36m(launch_and_fit pid=4676)\u001b[0m \tTrain Epoch: 9 \tTrain_loss: 1.0937 | Train_acc: 62.7431 % | Validation_loss: 1.5426 | Validation_acc: 43.8847 %\u001b[32m [repeated 2x across cluster]\u001b[0m\n"
     ]
    },
    {
     "name": "stderr",
     "output_type": "stream",
     "text": [
      "100%|\u001b[34m██████████\u001b[0m| 10/10 [00:58<00:00,  5.90s/it]\u001b[32m [repeated 2x across cluster]\u001b[0m\n"
     ]
    },
    {
     "name": "stdout",
     "output_type": "stream",
     "text": [
      "\u001b[36m(launch_and_fit pid=4676)\u001b[0m save graph in  results/FL/\n",
      "\u001b[36m(launch_and_fit pid=4676)\u001b[0m \tTrain Epoch: 10 \tTrain_loss: 1.0635 | Train_acc: 63.8542 % | Validation_loss: 1.5243 | Validation_acc: 45.2721 %\u001b[32m [repeated 2x across cluster]\u001b[0m\n",
      "\u001b[36m(launch_and_fit pid=4676)\u001b[0m network.0.weight 1.811981201171875e-05\n",
      "\u001b[36m(launch_and_fit pid=4676)\u001b[0m network.0.bias 1.430511474609375e-06\n",
      "\u001b[36m(launch_and_fit pid=4676)\u001b[0m network.2.weight 1.1920928955078125e-06\n",
      "\u001b[36m(launch_and_fit pid=4676)\u001b[0m network.2.bias 1.1920928955078125e-06\n",
      "\u001b[36m(launch_and_fit pid=4676)\u001b[0m network.5.weight 1.430511474609375e-06\n",
      "\u001b[36m(launch_and_fit pid=4676)\u001b[0m network.5.bias 1.1920928955078125e-06\n",
      "\u001b[36m(launch_and_fit pid=4676)\u001b[0m network.7.weight 9.5367431640625e-07\n",
      "\u001b[36m(launch_and_fit pid=4676)\u001b[0m network.7.bias 1.430511474609375e-06\n",
      "\u001b[36m(launch_and_fit pid=4676)\u001b[0m network.10.weight 1.1920928955078125e-06\n",
      "\u001b[36m(launch_and_fit pid=4676)\u001b[0m network.10.bias 1.1920928955078125e-06\n",
      "\u001b[36m(launch_and_fit pid=4676)\u001b[0m network.12.weight 1.6689300537109375e-06\n",
      "\u001b[36m(launch_and_fit pid=4676)\u001b[0m network.12.bias 1.9073486328125e-05\n",
      "\u001b[36m(launch_and_fit pid=4676)\u001b[0m network.16.weight 1.9073486328125e-06\n",
      "\u001b[36m(launch_and_fit pid=4676)\u001b[0m network.16.bias 1.430511474609375e-06\n",
      "\u001b[36m(launch_and_fit pid=4676)\u001b[0m network.18.weight 1.430511474609375e-06\n",
      "\u001b[36m(launch_and_fit pid=4676)\u001b[0m network.18.bias 1.6689300537109375e-06\n",
      "\u001b[36m(launch_and_fit pid=4676)\u001b[0m network.20.weight 1.6689300537109375e-06\n",
      "\u001b[36m(launch_and_fit pid=4676)\u001b[0m network.20.bias 5.4836273193359375e-06\n",
      "\u001b[36m(launch_and_fit pid=4676)\u001b[0m qnn.weights 1.430511474609375e-06\n",
      "\u001b[36m(launch_and_fit pid=4676)\u001b[0m fc4.weight 1.1920928955078125e-06\n",
      "\u001b[36m(launch_and_fit pid=4676)\u001b[0m fc4.bias 1.1920928955078125e-06\n",
      "\u001b[36m(launch_and_fit pid=4758)\u001b[0m Run with homomorphic encryption\n",
      "\u001b[36m(launch_and_fit pid=4701)\u001b[0m save graph in  results/FL/\n",
      "\u001b[36m(launch_and_fit pid=4701)\u001b[0m \tTrain Epoch: 10 \tTrain_loss: 1.0868 | Train_acc: 63.6285 % | Validation_loss: 1.4290 | Validation_acc: 50.0000 %\n",
      "\u001b[36m(launch_and_fit pid=4701)\u001b[0m fc4.bias 1.6689300537109375e-06\u001b[32m [repeated 20x across cluster]\u001b[0m\n",
      "\u001b[36m(launch_and_fit pid=4701)\u001b[0m qnn.weights 1.430511474609375e-06\n",
      "\u001b[36m(launch_and_fit pid=4758)\u001b[0m [Client 6, round 6] fit, config: {'learning_rate': 0.001, 'batch_size': '128', 'server_round': 6, 'local_epochs': 10}\n",
      "\u001b[36m(launch_and_fit pid=4758)\u001b[0m Updated model\n"
     ]
    },
    {
     "name": "stderr",
     "output_type": "stream",
     "text": [
      "  0%|\u001b[34m          \u001b[0m| 0/10 [00:00<?, ?it/s]\n",
      "100%|\u001b[34m██████████\u001b[0m| 10/10 [00:58<00:00,  5.89s/it]\n"
     ]
    },
    {
     "name": "stdout",
     "output_type": "stream",
     "text": [
      "\u001b[36m(launch_and_fit pid=4758)\u001b[0m \tTrain Epoch: 1 \tTrain_loss: 1.5634 | Train_acc: 40.1649 % | Validation_loss: 1.5837 | Validation_acc: 37.1767 %\n",
      "\u001b[36m(launch_and_fit pid=4783)\u001b[0m Run with homomorphic encryption\n",
      "\u001b[36m(launch_and_fit pid=4783)\u001b[0m [Client 0, round 6] fit, config: {'learning_rate': 0.001, 'batch_size': '128', 'server_round': 6, 'local_epochs': 10}\n",
      "\u001b[36m(launch_and_fit pid=4783)\u001b[0m Updated model\n"
     ]
    },
    {
     "name": "stderr",
     "output_type": "stream",
     "text": [
      " 10%|\u001b[34m█         \u001b[0m| 1/10 [00:06<00:57,  6.39s/it]\n",
      "  0%|\u001b[34m          \u001b[0m| 0/10 [00:00<?, ?it/s]\n"
     ]
    },
    {
     "name": "stdout",
     "output_type": "stream",
     "text": [
      "\u001b[36m(launch_and_fit pid=4758)\u001b[0m \tTrain Epoch: 2 \tTrain_loss: 1.4647 | Train_acc: 45.0998 % | Validation_loss: 1.4931 | Validation_acc: 42.6522 %\u001b[32m [repeated 2x across cluster]\u001b[0m\n"
     ]
    },
    {
     "name": "stderr",
     "output_type": "stream",
     "text": [
      " 20%|\u001b[34m██        \u001b[0m| 2/10 [00:12<00:48,  6.01s/it]\u001b[32m [repeated 2x across cluster]\u001b[0m\n"
     ]
    },
    {
     "name": "stdout",
     "output_type": "stream",
     "text": [
      "\u001b[36m(launch_and_fit pid=4758)\u001b[0m \tTrain Epoch: 3 \tTrain_loss: 1.4282 | Train_acc: 46.1241 % | Validation_loss: 1.5699 | Validation_acc: 43.6288 %\u001b[32m [repeated 2x across cluster]\u001b[0m\n"
     ]
    },
    {
     "name": "stderr",
     "output_type": "stream",
     "text": [
      " 30%|\u001b[34m███       \u001b[0m| 3/10 [00:18<00:42,  6.07s/it]\u001b[32m [repeated 2x across cluster]\u001b[0m\n"
     ]
    },
    {
     "name": "stdout",
     "output_type": "stream",
     "text": [
      "\u001b[36m(launch_and_fit pid=4758)\u001b[0m \tTrain Epoch: 4 \tTrain_loss: 1.3669 | Train_acc: 49.5616 % | Validation_loss: 1.4941 | Validation_acc: 43.9049 %\u001b[32m [repeated 2x across cluster]\u001b[0m\n"
     ]
    },
    {
     "name": "stderr",
     "output_type": "stream",
     "text": [
      " 40%|\u001b[34m████      \u001b[0m| 4/10 [00:24<00:35,  5.97s/it]\u001b[32m [repeated 2x across cluster]\u001b[0m\n"
     ]
    },
    {
     "name": "stdout",
     "output_type": "stream",
     "text": [
      "\u001b[36m(launch_and_fit pid=4758)\u001b[0m \tTrain Epoch: 5 \tTrain_loss: 1.3105 | Train_acc: 51.0634 % | Validation_loss: 1.4759 | Validation_acc: 46.8346 %\u001b[32m [repeated 2x across cluster]\u001b[0m\n"
     ]
    },
    {
     "name": "stderr",
     "output_type": "stream",
     "text": [
      " 50%|\u001b[34m█████     \u001b[0m| 5/10 [00:30<00:29,  5.97s/it]\u001b[32m [repeated 2x across cluster]\u001b[0m\n"
     ]
    },
    {
     "name": "stdout",
     "output_type": "stream",
     "text": [
      "\u001b[36m(launch_and_fit pid=4758)\u001b[0m \tTrain Epoch: 6 \tTrain_loss: 1.2609 | Train_acc: 53.9714 % | Validation_loss: 1.4883 | Validation_acc: 42.6724 %\u001b[32m [repeated 2x across cluster]\u001b[0m\n"
     ]
    },
    {
     "name": "stderr",
     "output_type": "stream",
     "text": [
      " 60%|\u001b[34m██████    \u001b[0m| 6/10 [00:35<00:23,  5.85s/it]\u001b[32m [repeated 2x across cluster]\u001b[0m\n"
     ]
    },
    {
     "name": "stdout",
     "output_type": "stream",
     "text": [
      "\u001b[36m(launch_and_fit pid=4758)\u001b[0m \tTrain Epoch: 7 \tTrain_loss: 1.1982 | Train_acc: 57.8906 % | Validation_loss: 1.5192 | Validation_acc: 38.9547 %\u001b[32m [repeated 2x across cluster]\u001b[0m\n"
     ]
    },
    {
     "name": "stderr",
     "output_type": "stream",
     "text": [
      " 70%|\u001b[34m███████   \u001b[0m| 7/10 [00:41<00:17,  5.81s/it]\u001b[32m [repeated 2x across cluster]\u001b[0m\n"
     ]
    },
    {
     "name": "stdout",
     "output_type": "stream",
     "text": [
      "\u001b[36m(launch_and_fit pid=4758)\u001b[0m \tTrain Epoch: 8 \tTrain_loss: 1.1552 | Train_acc: 58.2639 % | Validation_loss: 1.5229 | Validation_acc: 42.9822 %\u001b[32m [repeated 2x across cluster]\u001b[0m\n"
     ]
    },
    {
     "name": "stderr",
     "output_type": "stream",
     "text": [
      " 80%|\u001b[34m████████  \u001b[0m| 8/10 [00:47<00:11,  5.94s/it]\u001b[32m [repeated 2x across cluster]\u001b[0m\n"
     ]
    },
    {
     "name": "stdout",
     "output_type": "stream",
     "text": [
      "\u001b[36m(launch_and_fit pid=4758)\u001b[0m \tTrain Epoch: 9 \tTrain_loss: 1.1049 | Train_acc: 62.5825 % | Validation_loss: 1.5091 | Validation_acc: 43.3728 %\u001b[32m [repeated 2x across cluster]\u001b[0m\n"
     ]
    },
    {
     "name": "stderr",
     "output_type": "stream",
     "text": [
      " 90%|\u001b[34m█████████ \u001b[0m| 9/10 [00:53<00:05,  5.90s/it]\u001b[32m [repeated 2x across cluster]\u001b[0m\n"
     ]
    },
    {
     "name": "stdout",
     "output_type": "stream",
     "text": [
      "\u001b[36m(launch_and_fit pid=4758)\u001b[0m save graph in  results/FL/\n",
      "\u001b[36m(launch_and_fit pid=4758)\u001b[0m \tTrain Epoch: 10 \tTrain_loss: 1.0703 | Train_acc: 64.0061 % | Validation_loss: 1.4742 | Validation_acc: 45.9321 %\u001b[32m [repeated 2x across cluster]\u001b[0m\n"
     ]
    },
    {
     "name": "stderr",
     "output_type": "stream",
     "text": [
      "100%|\u001b[34m██████████\u001b[0m| 10/10 [00:58<00:00,  5.90s/it]\u001b[32m [repeated 2x across cluster]\u001b[0m\n"
     ]
    },
    {
     "name": "stdout",
     "output_type": "stream",
     "text": [
      "\u001b[36m(launch_and_fit pid=4758)\u001b[0m network.0.weight 5.9604644775390625e-06\n",
      "\u001b[36m(launch_and_fit pid=4758)\u001b[0m network.0.bias 1.430511474609375e-06\n",
      "\u001b[36m(launch_and_fit pid=4758)\u001b[0m network.2.weight 9.5367431640625e-07\n",
      "\u001b[36m(launch_and_fit pid=4758)\u001b[0m network.2.bias 1.1920928955078125e-06\n",
      "\u001b[36m(launch_and_fit pid=4758)\u001b[0m network.5.weight 9.5367431640625e-07\n",
      "\u001b[36m(launch_and_fit pid=4758)\u001b[0m network.5.bias 1.1920928955078125e-06\n",
      "\u001b[36m(launch_and_fit pid=4758)\u001b[0m network.7.weight 9.5367431640625e-07\n",
      "\u001b[36m(launch_and_fit pid=4758)\u001b[0m network.7.bias 9.5367431640625e-07\n",
      "\u001b[36m(launch_and_fit pid=4758)\u001b[0m network.10.weight 1.430511474609375e-06\n",
      "\u001b[36m(launch_and_fit pid=4758)\u001b[0m network.10.bias 1.1920928955078125e-06\n",
      "\u001b[36m(launch_and_fit pid=4758)\u001b[0m network.12.weight 1.1920928955078125e-06\n",
      "\u001b[36m(launch_and_fit pid=4758)\u001b[0m network.12.bias 1.1920928955078125e-06\n",
      "\u001b[36m(launch_and_fit pid=4758)\u001b[0m network.16.weight 9.5367431640625e-07\n",
      "\u001b[36m(launch_and_fit pid=4758)\u001b[0m network.16.bias 1.430511474609375e-06\n",
      "\u001b[36m(launch_and_fit pid=4758)\u001b[0m network.18.weight 9.5367431640625e-07\n",
      "\u001b[36m(launch_and_fit pid=4758)\u001b[0m network.18.bias 1.430511474609375e-06\n",
      "\u001b[36m(launch_and_fit pid=4758)\u001b[0m network.20.weight 1.1920928955078125e-06\n",
      "\u001b[36m(launch_and_fit pid=4758)\u001b[0m network.20.bias 1.1920928955078125e-06\n",
      "\u001b[36m(launch_and_fit pid=4758)\u001b[0m qnn.weights 1.430511474609375e-06\n",
      "\u001b[36m(launch_and_fit pid=4758)\u001b[0m fc4.weight 1.1920928955078125e-06\n",
      "\u001b[36m(launch_and_fit pid=4758)\u001b[0m fc4.bias 1.1920928955078125e-06\n",
      "\u001b[36m(launch_and_fit pid=4840)\u001b[0m Run with homomorphic encryption\n",
      "\u001b[36m(launch_and_fit pid=4783)\u001b[0m save graph in  results/FL/\n",
      "\u001b[36m(launch_and_fit pid=4783)\u001b[0m \tTrain Epoch: 10 \tTrain_loss: 1.0969 | Train_acc: 62.0182 % | Validation_loss: 1.3815 | Validation_acc: 50.1414 %\n",
      "\u001b[36m(launch_and_fit pid=4783)\u001b[0m fc4.bias 1.1920928955078125e-06\u001b[32m [repeated 20x across cluster]\u001b[0m\n",
      "\u001b[36m(launch_and_fit pid=4783)\u001b[0m qnn.weights 1.1920928955078125e-06\n",
      "\u001b[36m(launch_and_fit pid=4840)\u001b[0m [Client 4, round 6] fit, config: {'learning_rate': 0.001, 'batch_size': '128', 'server_round': 6, 'local_epochs': 10}\n"
     ]
    },
    {
     "name": "stderr",
     "output_type": "stream",
     "text": [
      "  0%|\u001b[34m          \u001b[0m| 0/10 [00:00<?, ?it/s]\n",
      "100%|\u001b[34m██████████\u001b[0m| 10/10 [00:58<00:00,  5.86s/it]\n"
     ]
    },
    {
     "name": "stdout",
     "output_type": "stream",
     "text": [
      "\u001b[36m(launch_and_fit pid=4840)\u001b[0m Updated model\n"
     ]
    },
    {
     "name": "stderr",
     "output_type": "stream",
     "text": [
      " 10%|\u001b[34m█         \u001b[0m| 1/10 [00:06<00:58,  6.54s/it]\n",
      "  0%|\u001b[34m          \u001b[0m| 0/10 [00:00<?, ?it/s]\n"
     ]
    },
    {
     "name": "stdout",
     "output_type": "stream",
     "text": [
      "\u001b[36m(launch_and_fit pid=4840)\u001b[0m \tTrain Epoch: 1 \tTrain_loss: 1.5904 | Train_acc: 39.2925 % | Validation_loss: 1.6065 | Validation_acc: 42.6320 %\n",
      "\u001b[36m(launch_and_fit pid=4842)\u001b[0m Run with homomorphic encryption\n",
      "\u001b[36m(launch_and_fit pid=4842)\u001b[0m [Client 2, round 6] fit, config: {'learning_rate': 0.001, 'batch_size': '128', 'server_round': 6, 'local_epochs': 10}\n",
      "\u001b[36m(launch_and_fit pid=4842)\u001b[0m Updated model\n"
     ]
    },
    {
     "name": "stderr",
     "output_type": "stream",
     "text": [
      " 20%|\u001b[34m██        \u001b[0m| 2/10 [00:12<00:48,  6.11s/it]\u001b[32m [repeated 2x across cluster]\u001b[0m\n"
     ]
    },
    {
     "name": "stdout",
     "output_type": "stream",
     "text": [
      "\u001b[36m(launch_and_fit pid=4840)\u001b[0m \tTrain Epoch: 2 \tTrain_loss: 1.4761 | Train_acc: 43.3854 % | Validation_loss: 1.6252 | Validation_acc: 41.8305 %\u001b[32m [repeated 2x across cluster]\u001b[0m\n"
     ]
    },
    {
     "name": "stderr",
     "output_type": "stream",
     "text": [
      " 30%|\u001b[34m███       \u001b[0m| 3/10 [00:18<00:41,  5.97s/it]\u001b[32m [repeated 2x across cluster]\u001b[0m\n"
     ]
    },
    {
     "name": "stdout",
     "output_type": "stream",
     "text": [
      "\u001b[36m(launch_and_fit pid=4840)\u001b[0m \tTrain Epoch: 3 \tTrain_loss: 1.4203 | Train_acc: 46.9531 % | Validation_loss: 1.5348 | Validation_acc: 45.3664 %\u001b[32m [repeated 2x across cluster]\u001b[0m\n"
     ]
    },
    {
     "name": "stderr",
     "output_type": "stream",
     "text": [
      " 40%|\u001b[34m████      \u001b[0m| 4/10 [00:24<00:35,  5.93s/it]\u001b[32m [repeated 2x across cluster]\u001b[0m\n"
     ]
    },
    {
     "name": "stdout",
     "output_type": "stream",
     "text": [
      "\u001b[36m(launch_and_fit pid=4840)\u001b[0m \tTrain Epoch: 4 \tTrain_loss: 1.3645 | Train_acc: 50.1780 % | Validation_loss: 1.5898 | Validation_acc: 41.6689 %\u001b[32m [repeated 2x across cluster]\u001b[0m\n"
     ]
    },
    {
     "name": "stderr",
     "output_type": "stream",
     "text": [
      " 50%|\u001b[34m█████     \u001b[0m| 5/10 [00:29<00:29,  5.83s/it]\u001b[32m [repeated 2x across cluster]\u001b[0m\n"
     ]
    },
    {
     "name": "stdout",
     "output_type": "stream",
     "text": [
      "\u001b[36m(launch_and_fit pid=4840)\u001b[0m \tTrain Epoch: 5 \tTrain_loss: 1.3304 | Train_acc: 49.9436 % | Validation_loss: 1.5270 | Validation_acc: 47.1848 %\u001b[32m [repeated 2x across cluster]\u001b[0m\n"
     ]
    },
    {
     "name": "stderr",
     "output_type": "stream",
     "text": [
      " 60%|\u001b[34m██████    \u001b[0m| 6/10 [00:35<00:23,  5.84s/it]\u001b[32m [repeated 2x across cluster]\u001b[0m\n"
     ]
    },
    {
     "name": "stdout",
     "output_type": "stream",
     "text": [
      "\u001b[36m(launch_and_fit pid=4840)\u001b[0m \tTrain Epoch: 6 \tTrain_loss: 1.2674 | Train_acc: 53.9540 % | Validation_loss: 1.5931 | Validation_acc: 46.3834 %\u001b[32m [repeated 2x across cluster]\u001b[0m\n"
     ]
    },
    {
     "name": "stderr",
     "output_type": "stream",
     "text": [
      " 70%|\u001b[34m███████   \u001b[0m| 7/10 [00:41<00:17,  5.85s/it]\u001b[32m [repeated 2x across cluster]\u001b[0m\n"
     ]
    },
    {
     "name": "stdout",
     "output_type": "stream",
     "text": [
      "\u001b[36m(launch_and_fit pid=4840)\u001b[0m \tTrain Epoch: 7 \tTrain_loss: 1.2288 | Train_acc: 55.7075 % | Validation_loss: 1.5612 | Validation_acc: 43.9588 %\u001b[32m [repeated 2x across cluster]\u001b[0m\n"
     ]
    },
    {
     "name": "stderr",
     "output_type": "stream",
     "text": [
      " 80%|\u001b[34m████████  \u001b[0m| 8/10 [00:47<00:11,  5.85s/it]\u001b[32m [repeated 2x across cluster]\u001b[0m\n"
     ]
    },
    {
     "name": "stdout",
     "output_type": "stream",
     "text": [
      "\u001b[36m(launch_and_fit pid=4840)\u001b[0m \tTrain Epoch: 8 \tTrain_loss: 1.1769 | Train_acc: 58.8194 % | Validation_loss: 1.6607 | Validation_acc: 41.6891 %\u001b[32m [repeated 2x across cluster]\u001b[0m\n"
     ]
    },
    {
     "name": "stderr",
     "output_type": "stream",
     "text": [
      " 90%|\u001b[34m█████████ \u001b[0m| 9/10 [00:53<00:05,  5.82s/it]\u001b[32m [repeated 2x across cluster]\u001b[0m\n"
     ]
    },
    {
     "name": "stdout",
     "output_type": "stream",
     "text": [
      "\u001b[36m(launch_and_fit pid=4840)\u001b[0m \tTrain Epoch: 9 \tTrain_loss: 1.1896 | Train_acc: 58.4115 % | Validation_loss: 1.5521 | Validation_acc: 44.9353 %\u001b[32m [repeated 2x across cluster]\u001b[0m\n"
     ]
    },
    {
     "name": "stderr",
     "output_type": "stream",
     "text": [
      "100%|\u001b[34m██████████\u001b[0m| 10/10 [00:58<00:00,  5.87s/it]\u001b[32m [repeated 2x across cluster]\u001b[0m\n"
     ]
    },
    {
     "name": "stdout",
     "output_type": "stream",
     "text": [
      "\u001b[36m(launch_and_fit pid=4840)\u001b[0m save graph in  results/FL/\n",
      "\u001b[36m(launch_and_fit pid=4840)\u001b[0m \tTrain Epoch: 10 \tTrain_loss: 1.0921 | Train_acc: 63.4592 % | Validation_loss: 1.5469 | Validation_acc: 46.0466 %\u001b[32m [repeated 2x across cluster]\u001b[0m\n",
      "\u001b[36m(launch_and_fit pid=4840)\u001b[0m network.0.weight 5.4836273193359375e-06\n",
      "\u001b[36m(launch_and_fit pid=4840)\u001b[0m network.0.bias 1.1920928955078125e-06\n",
      "\u001b[36m(launch_and_fit pid=4840)\u001b[0m network.2.weight 1.1920928955078125e-06\n",
      "\u001b[36m(launch_and_fit pid=4840)\u001b[0m network.2.bias 1.1920928955078125e-06\n",
      "\u001b[36m(launch_and_fit pid=4840)\u001b[0m network.5.weight 1.430511474609375e-06\n",
      "\u001b[36m(launch_and_fit pid=4840)\u001b[0m network.5.bias 1.1920928955078125e-06\n",
      "\u001b[36m(launch_and_fit pid=4840)\u001b[0m network.7.weight 1.1920928955078125e-06\n",
      "\u001b[36m(launch_and_fit pid=4840)\u001b[0m network.7.bias 1.430511474609375e-06\n",
      "\u001b[36m(launch_and_fit pid=4840)\u001b[0m network.10.weight 1.1920928955078125e-06\n",
      "\u001b[36m(launch_and_fit pid=4840)\u001b[0m network.10.bias 9.5367431640625e-07\n",
      "\u001b[36m(launch_and_fit pid=4840)\u001b[0m network.12.weight 9.5367431640625e-07\n",
      "\u001b[36m(launch_and_fit pid=4840)\u001b[0m network.12.bias 1.1920928955078125e-06\n",
      "\u001b[36m(launch_and_fit pid=4840)\u001b[0m network.16.weight 9.5367431640625e-07\n",
      "\u001b[36m(launch_and_fit pid=4840)\u001b[0m network.16.bias 9.5367431640625e-07\n",
      "\u001b[36m(launch_and_fit pid=4840)\u001b[0m network.18.weight 9.5367431640625e-07\n",
      "\u001b[36m(launch_and_fit pid=4840)\u001b[0m network.18.bias 1.1920928955078125e-06\n",
      "\u001b[36m(launch_and_fit pid=4840)\u001b[0m network.20.weight 1.1920928955078125e-06\n",
      "\u001b[36m(launch_and_fit pid=4840)\u001b[0m network.20.bias 9.5367431640625e-07\n",
      "\u001b[36m(launch_and_fit pid=4840)\u001b[0m qnn.weights 9.5367431640625e-07\n",
      "\u001b[36m(launch_and_fit pid=4840)\u001b[0m fc4.weight 1.430511474609375e-06\n",
      "\u001b[36m(launch_and_fit pid=4840)\u001b[0m fc4.bias 1.430511474609375e-06\n"
     ]
    },
    {
     "name": "stderr",
     "output_type": "stream",
     "text": [
      "DEBUG flwr 2024-07-20 19:08:32,127 | server.py:236 | fit_round 6 received 10 results and 0 failures\n"
     ]
    },
    {
     "name": "stdout",
     "output_type": "stream",
     "text": [
      "Saving round 6 aggregated_parameters...\n"
     ]
    },
    {
     "name": "stderr",
     "output_type": "stream",
     "text": [
      "DEBUG flwr 2024-07-20 19:08:33,131 | server.py:173 | evaluate_round 6: strategy sampled 10 clients (out of 10)\n"
     ]
    },
    {
     "name": "stdout",
     "output_type": "stream",
     "text": [
      "\u001b[36m(launch_and_evaluate pid=4931)\u001b[0m Run with homomorphic encryption\n",
      "\u001b[36m(launch_and_fit pid=4842)\u001b[0m save graph in  results/FL/\n",
      "\u001b[36m(launch_and_fit pid=4842)\u001b[0m \tTrain Epoch: 10 \tTrain_loss: 1.0533 | Train_acc: 65.2648 % | Validation_loss: 1.4824 | Validation_acc: 44.9353 %\n",
      "\u001b[36m(launch_and_fit pid=4842)\u001b[0m fc4.bias 1.430511474609375e-06\u001b[32m [repeated 20x across cluster]\u001b[0m\n",
      "\u001b[36m(launch_and_fit pid=4842)\u001b[0m qnn.weights 1.1920928955078125e-06\n",
      "\u001b[36m(launch_and_evaluate pid=4931)\u001b[0m [Client 1] evaluate, config: {}\n",
      "\u001b[36m(launch_and_evaluate pid=4931)\u001b[0m Updated model\n",
      "\u001b[36m(launch_and_evaluate pid=4956)\u001b[0m Run with homomorphic encryption\n",
      "\u001b[36m(launch_and_evaluate pid=4956)\u001b[0m [Client 9] evaluate, config: {}\n",
      "\u001b[36m(launch_and_evaluate pid=5009)\u001b[0m Run with homomorphic encryption\n",
      "\u001b[36m(launch_and_evaluate pid=4956)\u001b[0m Updated model\n",
      "\u001b[36m(launch_and_evaluate pid=5009)\u001b[0m [Client 4] evaluate, config: {}\n",
      "\u001b[36m(launch_and_evaluate pid=5009)\u001b[0m Updated model\n",
      "\u001b[36m(launch_and_evaluate pid=5035)\u001b[0m Run with homomorphic encryption\n",
      "\u001b[36m(launch_and_evaluate pid=5035)\u001b[0m [Client 5] evaluate, config: {}\n",
      "\u001b[36m(launch_and_evaluate pid=5035)\u001b[0m Updated model\n",
      "\u001b[36m(launch_and_evaluate pid=5080)\u001b[0m Run with homomorphic encryption\n",
      "\u001b[36m(launch_and_evaluate pid=5080)\u001b[0m [Client 0] evaluate, config: {}\n",
      "\u001b[36m(launch_and_evaluate pid=5080)\u001b[0m Updated model\n",
      "\u001b[36m(launch_and_evaluate pid=5114)\u001b[0m Run with homomorphic encryption\n",
      "\u001b[36m(launch_and_evaluate pid=5114)\u001b[0m [Client 7] evaluate, config: {}\n",
      "\u001b[36m(launch_and_evaluate pid=5114)\u001b[0m Updated model\n",
      "\u001b[36m(launch_and_evaluate pid=5156)\u001b[0m Run with homomorphic encryption\n",
      "\u001b[36m(launch_and_evaluate pid=5156)\u001b[0m [Client 3] evaluate, config: {}\n",
      "\u001b[36m(launch_and_evaluate pid=5156)\u001b[0m Updated model\n",
      "\u001b[36m(launch_and_evaluate pid=5193)\u001b[0m Run with homomorphic encryption\n",
      "\u001b[36m(launch_and_evaluate pid=5193)\u001b[0m [Client 2] evaluate, config: {}\n",
      "\u001b[36m(launch_and_evaluate pid=5193)\u001b[0m Updated model\n",
      "\u001b[36m(launch_and_evaluate pid=5234)\u001b[0m Run with homomorphic encryption\n",
      "\u001b[36m(launch_and_evaluate pid=5234)\u001b[0m [Client 8] evaluate, config: {}\n",
      "\u001b[36m(launch_and_evaluate pid=5234)\u001b[0m Updated model\n",
      "\u001b[36m(launch_and_evaluate pid=5271)\u001b[0m Run with homomorphic encryption\n",
      "\u001b[36m(launch_and_evaluate pid=5271)\u001b[0m [Client 6] evaluate, config: {}\n",
      "\u001b[36m(launch_and_evaluate pid=5271)\u001b[0m Updated model\n"
     ]
    },
    {
     "name": "stderr",
     "output_type": "stream",
     "text": [
      "DEBUG flwr 2024-07-20 19:10:02,577 | server.py:187 | evaluate_round 6 received 10 results and 0 failures\n",
      "DEBUG flwr 2024-07-20 19:10:02,578 | server.py:222 | fit_round 7: strategy sampled 10 clients (out of 10)\n"
     ]
    },
    {
     "name": "stdout",
     "output_type": "stream",
     "text": [
      "\u001b[36m(launch_and_fit pid=5331)\u001b[0m Run with homomorphic encryption\n",
      "\u001b[36m(launch_and_fit pid=5331)\u001b[0m [Client 3, round 7] fit, config: {'learning_rate': 0.001, 'batch_size': '128', 'server_round': 7, 'local_epochs': 10}\n",
      "\u001b[36m(launch_and_fit pid=5332)\u001b[0m Updated model\n"
     ]
    },
    {
     "name": "stderr",
     "output_type": "stream",
     "text": [
      "  0%|\u001b[34m          \u001b[0m| 0/10 [00:00<?, ?it/s]\n",
      "100%|\u001b[34m██████████\u001b[0m| 10/10 [00:58<00:00,  5.87s/it]\n"
     ]
    },
    {
     "name": "stdout",
     "output_type": "stream",
     "text": [
      "\u001b[36m(launch_and_fit pid=5332)\u001b[0m \tTrain Epoch: 1 \tTrain_loss: 1.4748 | Train_acc: 45.8767 % | Validation_loss: 1.4750 | Validation_acc: 43.5547 %\n",
      "\u001b[36m(launch_and_fit pid=5332)\u001b[0m Run with homomorphic encryption\n",
      "\u001b[36m(launch_and_fit pid=5332)\u001b[0m [Client 9, round 7] fit, config: {'learning_rate': 0.001, 'batch_size': '128', 'server_round': 7, 'local_epochs': 10}\n",
      "\u001b[36m(launch_and_fit pid=5331)\u001b[0m Updated model\n"
     ]
    },
    {
     "name": "stderr",
     "output_type": "stream",
     "text": [
      " 10%|\u001b[34m█         \u001b[0m| 1/10 [00:06<00:54,  6.10s/it]\n",
      "  0%|\u001b[34m          \u001b[0m| 0/10 [00:00<?, ?it/s]\n"
     ]
    },
    {
     "name": "stdout",
     "output_type": "stream",
     "text": [
      "\u001b[36m(launch_and_fit pid=5332)\u001b[0m \tTrain Epoch: 2 \tTrain_loss: 1.3240 | Train_acc: 51.2370 % | Validation_loss: 1.4450 | Validation_acc: 46.3295 %\u001b[32m [repeated 2x across cluster]\u001b[0m\n"
     ]
    },
    {
     "name": "stderr",
     "output_type": "stream",
     "text": [
      " 20%|\u001b[34m██        \u001b[0m| 2/10 [00:11<00:46,  5.84s/it]\u001b[32m [repeated 2x across cluster]\u001b[0m\n"
     ]
    },
    {
     "name": "stdout",
     "output_type": "stream",
     "text": [
      "\u001b[36m(launch_and_fit pid=5332)\u001b[0m \tTrain Epoch: 3 \tTrain_loss: 1.2317 | Train_acc: 54.7656 % | Validation_loss: 1.4401 | Validation_acc: 46.8750 %\u001b[32m [repeated 2x across cluster]\u001b[0m\n"
     ]
    },
    {
     "name": "stderr",
     "output_type": "stream",
     "text": [
      " 30%|\u001b[34m███       \u001b[0m| 3/10 [00:17<00:40,  5.82s/it]\u001b[32m [repeated 2x across cluster]\u001b[0m\n"
     ]
    },
    {
     "name": "stdout",
     "output_type": "stream",
     "text": [
      "\u001b[36m(launch_and_fit pid=5332)\u001b[0m \tTrain Epoch: 4 \tTrain_loss: 1.1705 | Train_acc: 57.9470 % | Validation_loss: 1.4297 | Validation_acc: 49.2188 %\u001b[32m [repeated 2x across cluster]\u001b[0m\n"
     ]
    },
    {
     "name": "stderr",
     "output_type": "stream",
     "text": [
      " 40%|\u001b[34m████      \u001b[0m| 4/10 [00:23<00:35,  5.89s/it]\u001b[32m [repeated 2x across cluster]\u001b[0m\n"
     ]
    },
    {
     "name": "stdout",
     "output_type": "stream",
     "text": [
      "\u001b[36m(launch_and_fit pid=5332)\u001b[0m \tTrain Epoch: 5 \tTrain_loss: 1.1244 | Train_acc: 60.9288 % | Validation_loss: 1.4525 | Validation_acc: 50.8621 %\u001b[32m [repeated 2x across cluster]\u001b[0m\n"
     ]
    },
    {
     "name": "stderr",
     "output_type": "stream",
     "text": [
      " 50%|\u001b[34m█████     \u001b[0m| 5/10 [00:29<00:29,  5.81s/it]\u001b[32m [repeated 2x across cluster]\u001b[0m\n"
     ]
    },
    {
     "name": "stdout",
     "output_type": "stream",
     "text": [
      "\u001b[36m(launch_and_fit pid=5332)\u001b[0m \tTrain Epoch: 6 \tTrain_loss: 1.0816 | Train_acc: 61.5799 % | Validation_loss: 1.4889 | Validation_acc: 48.3028 %\u001b[32m [repeated 2x across cluster]\u001b[0m\n"
     ]
    },
    {
     "name": "stderr",
     "output_type": "stream",
     "text": [
      " 60%|\u001b[34m██████    \u001b[0m| 6/10 [00:34<00:22,  5.75s/it]\u001b[32m [repeated 2x across cluster]\u001b[0m\n"
     ]
    },
    {
     "name": "stdout",
     "output_type": "stream",
     "text": [
      "\u001b[36m(launch_and_fit pid=5332)\u001b[0m \tTrain Epoch: 7 \tTrain_loss: 1.0450 | Train_acc: 63.7630 % | Validation_loss: 1.4375 | Validation_acc: 49.8653 %\u001b[32m [repeated 2x across cluster]\u001b[0m\n"
     ]
    },
    {
     "name": "stderr",
     "output_type": "stream",
     "text": [
      " 70%|\u001b[34m███████   \u001b[0m| 7/10 [00:40<00:17,  5.72s/it]\u001b[32m [repeated 2x across cluster]\u001b[0m\n"
     ]
    },
    {
     "name": "stdout",
     "output_type": "stream",
     "text": [
      "\u001b[36m(launch_and_fit pid=5332)\u001b[0m \tTrain Epoch: 8 \tTrain_loss: 0.9659 | Train_acc: 67.5087 % | Validation_loss: 1.4323 | Validation_acc: 49.6094 %\u001b[32m [repeated 2x across cluster]\u001b[0m\n"
     ]
    },
    {
     "name": "stderr",
     "output_type": "stream",
     "text": [
      " 80%|\u001b[34m████████  \u001b[0m| 8/10 [00:46<00:11,  5.74s/it]\u001b[32m [repeated 2x across cluster]\u001b[0m\n"
     ]
    },
    {
     "name": "stdout",
     "output_type": "stream",
     "text": [
      "\u001b[36m(launch_and_fit pid=5332)\u001b[0m \tTrain Epoch: 9 \tTrain_loss: 0.8963 | Train_acc: 70.7986 % | Validation_loss: 1.4192 | Validation_acc: 49.8249 %\u001b[32m [repeated 2x across cluster]\u001b[0m\n"
     ]
    },
    {
     "name": "stderr",
     "output_type": "stream",
     "text": [
      " 90%|\u001b[34m█████████ \u001b[0m| 9/10 [00:52<00:05,  5.81s/it]\u001b[32m [repeated 2x across cluster]\u001b[0m\n"
     ]
    },
    {
     "name": "stdout",
     "output_type": "stream",
     "text": [
      "\u001b[36m(launch_and_fit pid=5332)\u001b[0m save graph in  results/FL/\n",
      "\u001b[36m(launch_and_fit pid=5332)\u001b[0m \tTrain Epoch: 10 \tTrain_loss: 0.8457 | Train_acc: 72.2266 % | Validation_loss: 1.4165 | Validation_acc: 50.0000 %\u001b[32m [repeated 2x across cluster]\u001b[0m\n"
     ]
    },
    {
     "name": "stderr",
     "output_type": "stream",
     "text": [
      "100%|\u001b[34m██████████\u001b[0m| 10/10 [00:58<00:00,  5.82s/it]\u001b[32m [repeated 2x across cluster]\u001b[0m\n"
     ]
    },
    {
     "name": "stdout",
     "output_type": "stream",
     "text": [
      "\u001b[36m(launch_and_fit pid=5332)\u001b[0m network.0.weight 5.245208740234375e-06\n",
      "\u001b[36m(launch_and_fit pid=5332)\u001b[0m network.0.bias 1.430511474609375e-06\n",
      "\u001b[36m(launch_and_fit pid=5332)\u001b[0m network.2.weight 9.5367431640625e-07\n",
      "\u001b[36m(launch_and_fit pid=5332)\u001b[0m network.2.bias 1.1920928955078125e-06\n",
      "\u001b[36m(launch_and_fit pid=5332)\u001b[0m network.5.weight 1.1920928955078125e-06\n",
      "\u001b[36m(launch_and_fit pid=5332)\u001b[0m network.5.bias 9.5367431640625e-07\n",
      "\u001b[36m(launch_and_fit pid=5332)\u001b[0m network.7.weight 1.1920928955078125e-06\n",
      "\u001b[36m(launch_and_fit pid=5332)\u001b[0m network.7.bias 1.430511474609375e-06\n",
      "\u001b[36m(launch_and_fit pid=5332)\u001b[0m network.10.weight 1.1920928955078125e-06\n",
      "\u001b[36m(launch_and_fit pid=5332)\u001b[0m network.10.bias 9.5367431640625e-07\n",
      "\u001b[36m(launch_and_fit pid=5332)\u001b[0m network.12.weight 1.1920928955078125e-06\n",
      "\u001b[36m(launch_and_fit pid=5332)\u001b[0m network.12.bias 1.1920928955078125e-06\n",
      "\u001b[36m(launch_and_fit pid=5332)\u001b[0m network.16.weight 1.1920928955078125e-06\n",
      "\u001b[36m(launch_and_fit pid=5332)\u001b[0m network.16.bias 1.1920928955078125e-06\n",
      "\u001b[36m(launch_and_fit pid=5332)\u001b[0m network.18.weight 9.5367431640625e-07\n",
      "\u001b[36m(launch_and_fit pid=5332)\u001b[0m network.18.bias 1.1920928955078125e-06\n",
      "\u001b[36m(launch_and_fit pid=5332)\u001b[0m network.20.weight 1.1920928955078125e-06\n",
      "\u001b[36m(launch_and_fit pid=5332)\u001b[0m network.20.bias 1.1920928955078125e-06\n",
      "\u001b[36m(launch_and_fit pid=5332)\u001b[0m qnn.weights 1.1920928955078125e-06\n",
      "\u001b[36m(launch_and_fit pid=5332)\u001b[0m fc4.weight 1.1920928955078125e-06\n",
      "\u001b[36m(launch_and_fit pid=5332)\u001b[0m fc4.bias 9.5367431640625e-07\n",
      "\u001b[36m(launch_and_fit pid=5414)\u001b[0m Run with homomorphic encryption\n",
      "\u001b[36m(launch_and_fit pid=5331)\u001b[0m save graph in  results/FL/\n",
      "\u001b[36m(launch_and_fit pid=5331)\u001b[0m \tTrain Epoch: 10 \tTrain_loss: 0.8176 | Train_acc: 74.0582 % | Validation_loss: 1.4431 | Validation_acc: 49.3939 %\n",
      "\u001b[36m(launch_and_fit pid=5331)\u001b[0m fc4.bias 1.430511474609375e-06\u001b[32m [repeated 20x across cluster]\u001b[0m\n",
      "\u001b[36m(launch_and_fit pid=5331)\u001b[0m qnn.weights 1.9073486328125e-06\n",
      "\u001b[36m(launch_and_fit pid=5414)\u001b[0m [Client 5, round 7] fit, config: {'learning_rate': 0.001, 'batch_size': '128', 'server_round': 7, 'local_epochs': 10}\n"
     ]
    },
    {
     "name": "stderr",
     "output_type": "stream",
     "text": [
      "  0%|\u001b[34m          \u001b[0m| 0/10 [00:00<?, ?it/s]\n",
      "100%|\u001b[34m██████████\u001b[0m| 10/10 [00:59<00:00,  5.92s/it]\n"
     ]
    },
    {
     "name": "stdout",
     "output_type": "stream",
     "text": [
      "\u001b[36m(launch_and_fit pid=5414)\u001b[0m Updated model\n"
     ]
    },
    {
     "name": "stderr",
     "output_type": "stream",
     "text": [
      " 10%|\u001b[34m█         \u001b[0m| 1/10 [00:06<00:55,  6.21s/it]\n",
      "  0%|\u001b[34m          \u001b[0m| 0/10 [00:00<?, ?it/s]\n"
     ]
    },
    {
     "name": "stdout",
     "output_type": "stream",
     "text": [
      "\u001b[36m(launch_and_fit pid=5414)\u001b[0m \tTrain Epoch: 1 \tTrain_loss: 1.4289 | Train_acc: 47.4436 % | Validation_loss: 1.4355 | Validation_acc: 46.7403 %\n",
      "\u001b[36m(launch_and_fit pid=5439)\u001b[0m Run with homomorphic encryption\n",
      "\u001b[36m(launch_and_fit pid=5439)\u001b[0m [Client 1, round 7] fit, config: {'learning_rate': 0.001, 'batch_size': '128', 'server_round': 7, 'local_epochs': 10}\n",
      "\u001b[36m(launch_and_fit pid=5439)\u001b[0m Updated model\n"
     ]
    },
    {
     "name": "stderr",
     "output_type": "stream",
     "text": [
      " 20%|\u001b[34m██        \u001b[0m| 2/10 [00:12<00:49,  6.16s/it]\u001b[32m [repeated 2x across cluster]\u001b[0m\n"
     ]
    },
    {
     "name": "stdout",
     "output_type": "stream",
     "text": [
      "\u001b[36m(launch_and_fit pid=5414)\u001b[0m \tTrain Epoch: 2 \tTrain_loss: 1.3130 | Train_acc: 51.5104 % | Validation_loss: 1.4676 | Validation_acc: 48.3230 %\u001b[32m [repeated 2x across cluster]\u001b[0m\n"
     ]
    },
    {
     "name": "stderr",
     "output_type": "stream",
     "text": [
      " 30%|\u001b[34m███       \u001b[0m| 3/10 [00:18<00:41,  5.96s/it]\u001b[32m [repeated 2x across cluster]\u001b[0m\n"
     ]
    },
    {
     "name": "stdout",
     "output_type": "stream",
     "text": [
      "\u001b[36m(launch_and_fit pid=5414)\u001b[0m \tTrain Epoch: 3 \tTrain_loss: 1.2303 | Train_acc: 54.7005 % | Validation_loss: 1.3935 | Validation_acc: 48.9830 %\u001b[32m [repeated 2x across cluster]\u001b[0m\n"
     ]
    },
    {
     "name": "stderr",
     "output_type": "stream",
     "text": [
      " 40%|\u001b[34m████      \u001b[0m| 4/10 [00:23<00:35,  5.88s/it]\u001b[32m [repeated 2x across cluster]\u001b[0m\n"
     ]
    },
    {
     "name": "stdout",
     "output_type": "stream",
     "text": [
      "\u001b[36m(launch_and_fit pid=5414)\u001b[0m \tTrain Epoch: 4 \tTrain_loss: 1.1766 | Train_acc: 57.3438 % | Validation_loss: 1.3925 | Validation_acc: 49.2188 %\u001b[32m [repeated 2x across cluster]\u001b[0m\n"
     ]
    },
    {
     "name": "stderr",
     "output_type": "stream",
     "text": [
      " 50%|\u001b[34m█████     \u001b[0m| 5/10 [00:29<00:29,  5.81s/it]\u001b[32m [repeated 2x across cluster]\u001b[0m\n"
     ]
    },
    {
     "name": "stdout",
     "output_type": "stream",
     "text": [
      "\u001b[36m(launch_and_fit pid=5414)\u001b[0m \tTrain Epoch: 5 \tTrain_loss: 1.1256 | Train_acc: 59.7873 % | Validation_loss: 1.3930 | Validation_acc: 51.0978 %\u001b[32m [repeated 2x across cluster]\u001b[0m\n"
     ]
    },
    {
     "name": "stderr",
     "output_type": "stream",
     "text": [
      " 60%|\u001b[34m██████    \u001b[0m| 6/10 [00:35<00:23,  5.78s/it]\u001b[32m [repeated 2x across cluster]\u001b[0m\n"
     ]
    },
    {
     "name": "stdout",
     "output_type": "stream",
     "text": [
      "\u001b[36m(launch_and_fit pid=5414)\u001b[0m \tTrain Epoch: 6 \tTrain_loss: 1.0668 | Train_acc: 63.2509 % | Validation_loss: 1.4104 | Validation_acc: 48.2220 %\u001b[32m [repeated 2x across cluster]\u001b[0m\n"
     ]
    },
    {
     "name": "stderr",
     "output_type": "stream",
     "text": [
      " 70%|\u001b[34m███████   \u001b[0m| 7/10 [00:40<00:17,  5.74s/it]\u001b[32m [repeated 2x across cluster]\u001b[0m\n"
     ]
    },
    {
     "name": "stdout",
     "output_type": "stream",
     "text": [
      "\u001b[36m(launch_and_fit pid=5414)\u001b[0m \tTrain Epoch: 7 \tTrain_loss: 1.0057 | Train_acc: 66.7882 % | Validation_loss: 1.3742 | Validation_acc: 51.4884 %\u001b[32m [repeated 2x across cluster]\u001b[0m\n"
     ]
    },
    {
     "name": "stderr",
     "output_type": "stream",
     "text": [
      " 80%|\u001b[34m████████  \u001b[0m| 8/10 [00:46<00:11,  5.86s/it]\u001b[32m [repeated 2x across cluster]\u001b[0m\n"
     ]
    },
    {
     "name": "stdout",
     "output_type": "stream",
     "text": [
      "\u001b[36m(launch_and_fit pid=5414)\u001b[0m \tTrain Epoch: 8 \tTrain_loss: 0.9428 | Train_acc: 68.7066 % | Validation_loss: 1.3849 | Validation_acc: 51.1921 %\u001b[32m [repeated 2x across cluster]\u001b[0m\n"
     ]
    },
    {
     "name": "stderr",
     "output_type": "stream",
     "text": [
      " 90%|\u001b[34m█████████ \u001b[0m| 9/10 [00:52<00:05,  5.80s/it]\u001b[32m [repeated 2x across cluster]\u001b[0m\n"
     ]
    },
    {
     "name": "stdout",
     "output_type": "stream",
     "text": [
      "\u001b[36m(launch_and_fit pid=5414)\u001b[0m \tTrain Epoch: 9 \tTrain_loss: 0.9036 | Train_acc: 70.3255 % | Validation_loss: 1.3635 | Validation_acc: 50.4512 %\u001b[32m [repeated 2x across cluster]\u001b[0m\n"
     ]
    },
    {
     "name": "stderr",
     "output_type": "stream",
     "text": [
      "100%|\u001b[34m██████████\u001b[0m| 10/10 [00:58<00:00,  5.86s/it]\u001b[32m [repeated 2x across cluster]\u001b[0m\n"
     ]
    },
    {
     "name": "stdout",
     "output_type": "stream",
     "text": [
      "\u001b[36m(launch_and_fit pid=5414)\u001b[0m save graph in  results/FL/\n",
      "\u001b[36m(launch_and_fit pid=5414)\u001b[0m \tTrain Epoch: 10 \tTrain_loss: 0.8438 | Train_acc: 73.7934 % | Validation_loss: 1.4048 | Validation_acc: 50.9429 %\u001b[32m [repeated 2x across cluster]\u001b[0m\n",
      "\u001b[36m(launch_and_fit pid=5414)\u001b[0m network.0.weight 4.5299530029296875e-06\n",
      "\u001b[36m(launch_and_fit pid=5414)\u001b[0m network.0.bias 1.430511474609375e-06\n",
      "\u001b[36m(launch_and_fit pid=5414)\u001b[0m network.2.weight 1.1920928955078125e-06\n",
      "\u001b[36m(launch_and_fit pid=5414)\u001b[0m network.2.bias 1.1920928955078125e-06\n",
      "\u001b[36m(launch_and_fit pid=5414)\u001b[0m network.5.weight 1.1920928955078125e-06\n",
      "\u001b[36m(launch_and_fit pid=5414)\u001b[0m network.5.bias 9.5367431640625e-07\n",
      "\u001b[36m(launch_and_fit pid=5414)\u001b[0m network.7.weight 1.1920928955078125e-06\n",
      "\u001b[36m(launch_and_fit pid=5414)\u001b[0m network.7.bias 1.1920928955078125e-06\n",
      "\u001b[36m(launch_and_fit pid=5414)\u001b[0m network.10.weight 1.0251998901367188e-05\n",
      "\u001b[36m(launch_and_fit pid=5414)\u001b[0m network.10.bias 1.430511474609375e-06\n",
      "\u001b[36m(launch_and_fit pid=5414)\u001b[0m network.12.weight 1.1920928955078125e-06\n",
      "\u001b[36m(launch_and_fit pid=5414)\u001b[0m network.12.bias 9.5367431640625e-07\n",
      "\u001b[36m(launch_and_fit pid=5414)\u001b[0m network.16.weight 1.430511474609375e-06\n",
      "\u001b[36m(launch_and_fit pid=5414)\u001b[0m network.16.bias 1.1920928955078125e-06\n",
      "\u001b[36m(launch_and_fit pid=5414)\u001b[0m network.18.weight 9.5367431640625e-07\n",
      "\u001b[36m(launch_and_fit pid=5414)\u001b[0m network.18.bias 1.430511474609375e-06\n",
      "\u001b[36m(launch_and_fit pid=5414)\u001b[0m network.20.weight 1.1920928955078125e-06\n",
      "\u001b[36m(launch_and_fit pid=5414)\u001b[0m network.20.bias 9.5367431640625e-07\n",
      "\u001b[36m(launch_and_fit pid=5414)\u001b[0m qnn.weights 9.5367431640625e-07\n",
      "\u001b[36m(launch_and_fit pid=5414)\u001b[0m fc4.weight 1.9073486328125e-06\n",
      "\u001b[36m(launch_and_fit pid=5414)\u001b[0m fc4.bias 1.1920928955078125e-06\n",
      "\u001b[36m(launch_and_fit pid=5497)\u001b[0m Run with homomorphic encryption\n",
      "\u001b[36m(launch_and_fit pid=5439)\u001b[0m save graph in  results/FL/\n",
      "\u001b[36m(launch_and_fit pid=5439)\u001b[0m \tTrain Epoch: 10 \tTrain_loss: 0.8484 | Train_acc: 73.2161 % | Validation_loss: 1.4469 | Validation_acc: 51.2864 %\n",
      "\u001b[36m(launch_and_fit pid=5439)\u001b[0m fc4.bias 1.430511474609375e-06\u001b[32m [repeated 20x across cluster]\u001b[0m\n",
      "\u001b[36m(launch_and_fit pid=5439)\u001b[0m qnn.weights 1.1920928955078125e-06\n",
      "\u001b[36m(launch_and_fit pid=5497)\u001b[0m [Client 6, round 7] fit, config: {'learning_rate': 0.001, 'batch_size': '128', 'server_round': 7, 'local_epochs': 10}\n",
      "\u001b[36m(launch_and_fit pid=5497)\u001b[0m Updated model\n"
     ]
    },
    {
     "name": "stderr",
     "output_type": "stream",
     "text": [
      "  0%|\u001b[34m          \u001b[0m| 0/10 [00:00<?, ?it/s]\n",
      "100%|\u001b[34m██████████\u001b[0m| 10/10 [00:59<00:00,  5.95s/it]\n"
     ]
    },
    {
     "name": "stdout",
     "output_type": "stream",
     "text": [
      "\u001b[36m(launch_and_fit pid=5522)\u001b[0m Run with homomorphic encryption\n",
      "\u001b[36m(launch_and_fit pid=5522)\u001b[0m [Client 8, round 7] fit, config: {'learning_rate': 0.001, 'batch_size': '128', 'server_round': 7, 'local_epochs': 10}\n",
      "\u001b[36m(launch_and_fit pid=5497)\u001b[0m \tTrain Epoch: 1 \tTrain_loss: 1.4500 | Train_acc: 46.1545 % | Validation_loss: 1.4408 | Validation_acc: 43.3526 %\n",
      "\u001b[36m(launch_and_fit pid=5522)\u001b[0m Updated model\n"
     ]
    },
    {
     "name": "stderr",
     "output_type": "stream",
     "text": [
      " 10%|\u001b[34m█         \u001b[0m| 1/10 [00:06<00:57,  6.34s/it]\n",
      "  0%|\u001b[34m          \u001b[0m| 0/10 [00:00<?, ?it/s]\n"
     ]
    },
    {
     "name": "stdout",
     "output_type": "stream",
     "text": [
      "\u001b[36m(launch_and_fit pid=5497)\u001b[0m \tTrain Epoch: 2 \tTrain_loss: 1.2987 | Train_acc: 52.1398 % | Validation_loss: 1.4477 | Validation_acc: 46.0331 %\u001b[32m [repeated 2x across cluster]\u001b[0m\n"
     ]
    },
    {
     "name": "stderr",
     "output_type": "stream",
     "text": [
      " 20%|\u001b[34m██        \u001b[0m| 2/10 [00:12<00:48,  6.05s/it]\u001b[32m [repeated 2x across cluster]\u001b[0m\n"
     ]
    },
    {
     "name": "stdout",
     "output_type": "stream",
     "text": [
      "\u001b[36m(launch_and_fit pid=5497)\u001b[0m \tTrain Epoch: 3 \tTrain_loss: 1.2231 | Train_acc: 56.2674 % | Validation_loss: 1.3994 | Validation_acc: 50.9766 %\u001b[32m [repeated 2x across cluster]\u001b[0m\n"
     ]
    },
    {
     "name": "stderr",
     "output_type": "stream",
     "text": [
      " 30%|\u001b[34m███       \u001b[0m| 3/10 [00:17<00:41,  5.91s/it]\u001b[32m [repeated 2x across cluster]\u001b[0m\n"
     ]
    },
    {
     "name": "stdout",
     "output_type": "stream",
     "text": [
      "\u001b[36m(launch_and_fit pid=5497)\u001b[0m \tTrain Epoch: 4 \tTrain_loss: 1.1608 | Train_acc: 58.7977 % | Validation_loss: 1.4067 | Validation_acc: 51.1719 %\u001b[32m [repeated 2x across cluster]\u001b[0m\n"
     ]
    },
    {
     "name": "stderr",
     "output_type": "stream",
     "text": [
      " 40%|\u001b[34m████      \u001b[0m| 4/10 [00:23<00:35,  5.90s/it]\u001b[32m [repeated 2x across cluster]\u001b[0m\n"
     ]
    },
    {
     "name": "stdout",
     "output_type": "stream",
     "text": [
      "\u001b[36m(launch_and_fit pid=5497)\u001b[0m \tTrain Epoch: 5 \tTrain_loss: 1.1048 | Train_acc: 62.0399 % | Validation_loss: 1.3978 | Validation_acc: 48.9830 %\u001b[32m [repeated 2x across cluster]\u001b[0m\n"
     ]
    },
    {
     "name": "stderr",
     "output_type": "stream",
     "text": [
      " 50%|\u001b[34m█████     \u001b[0m| 5/10 [00:29<00:29,  5.83s/it]\u001b[32m [repeated 2x across cluster]\u001b[0m\n"
     ]
    },
    {
     "name": "stdout",
     "output_type": "stream",
     "text": [
      "\u001b[36m(launch_and_fit pid=5497)\u001b[0m \tTrain Epoch: 6 \tTrain_loss: 1.0486 | Train_acc: 64.8655 % | Validation_loss: 1.4646 | Validation_acc: 48.2422 %\u001b[32m [repeated 2x across cluster]\u001b[0m\n"
     ]
    },
    {
     "name": "stderr",
     "output_type": "stream",
     "text": [
      " 60%|\u001b[34m██████    \u001b[0m| 6/10 [00:35<00:23,  5.82s/it]\u001b[32m [repeated 2x across cluster]\u001b[0m\n"
     ]
    },
    {
     "name": "stdout",
     "output_type": "stream",
     "text": [
      "\u001b[36m(launch_and_fit pid=5497)\u001b[0m \tTrain Epoch: 7 \tTrain_loss: 1.0059 | Train_acc: 65.8030 % | Validation_loss: 1.4056 | Validation_acc: 50.9766 %\u001b[32m [repeated 2x across cluster]\u001b[0m\n"
     ]
    },
    {
     "name": "stderr",
     "output_type": "stream",
     "text": [
      " 70%|\u001b[34m███████   \u001b[0m| 7/10 [00:41<00:17,  5.95s/it]\u001b[32m [repeated 2x across cluster]\u001b[0m\n"
     ]
    },
    {
     "name": "stdout",
     "output_type": "stream",
     "text": [
      "\u001b[36m(launch_and_fit pid=5497)\u001b[0m \tTrain Epoch: 8 \tTrain_loss: 0.9320 | Train_acc: 69.2752 % | Validation_loss: 1.4069 | Validation_acc: 50.1347 %\u001b[32m [repeated 2x across cluster]\u001b[0m\n"
     ]
    },
    {
     "name": "stderr",
     "output_type": "stream",
     "text": [
      " 80%|\u001b[34m████████  \u001b[0m| 8/10 [00:47<00:11,  5.84s/it]\u001b[32m [repeated 2x across cluster]\u001b[0m\n"
     ]
    },
    {
     "name": "stdout",
     "output_type": "stream",
     "text": [
      "\u001b[36m(launch_and_fit pid=5497)\u001b[0m \tTrain Epoch: 9 \tTrain_loss: 0.8738 | Train_acc: 71.9488 % | Validation_loss: 1.4323 | Validation_acc: 49.9798 %\u001b[32m [repeated 2x across cluster]\u001b[0m\n"
     ]
    },
    {
     "name": "stderr",
     "output_type": "stream",
     "text": [
      " 90%|\u001b[34m█████████ \u001b[0m| 9/10 [00:52<00:05,  5.82s/it]\u001b[32m [repeated 2x across cluster]\u001b[0m\n"
     ]
    },
    {
     "name": "stdout",
     "output_type": "stream",
     "text": [
      "\u001b[36m(launch_and_fit pid=5497)\u001b[0m save graph in  results/FL/\n",
      "\u001b[36m(launch_and_fit pid=5497)\u001b[0m \tTrain Epoch: 10 \tTrain_loss: 0.8186 | Train_acc: 74.6788 % | Validation_loss: 1.4072 | Validation_acc: 50.4310 %\u001b[32m [repeated 2x across cluster]\u001b[0m\n"
     ]
    },
    {
     "name": "stderr",
     "output_type": "stream",
     "text": [
      "100%|\u001b[34m██████████\u001b[0m| 10/10 [00:58<00:00,  5.88s/it]\u001b[32m [repeated 2x across cluster]\u001b[0m\n"
     ]
    },
    {
     "name": "stdout",
     "output_type": "stream",
     "text": [
      "\u001b[36m(launch_and_fit pid=5497)\u001b[0m network.0.weight 5.0067901611328125e-06\n",
      "\u001b[36m(launch_and_fit pid=5497)\u001b[0m network.0.bias 1.430511474609375e-06\n",
      "\u001b[36m(launch_and_fit pid=5497)\u001b[0m network.2.weight 9.5367431640625e-07\n",
      "\u001b[36m(launch_and_fit pid=5497)\u001b[0m network.2.bias 9.5367431640625e-07\n",
      "\u001b[36m(launch_and_fit pid=5497)\u001b[0m network.5.weight 9.5367431640625e-07\n",
      "\u001b[36m(launch_and_fit pid=5497)\u001b[0m network.5.bias 1.430511474609375e-06\n",
      "\u001b[36m(launch_and_fit pid=5497)\u001b[0m network.7.weight 1.1920928955078125e-06\n",
      "\u001b[36m(launch_and_fit pid=5497)\u001b[0m network.7.bias 1.1920928955078125e-06\n",
      "\u001b[36m(launch_and_fit pid=5497)\u001b[0m network.10.weight 1.1920928955078125e-06\n",
      "\u001b[36m(launch_and_fit pid=5497)\u001b[0m network.10.bias 9.5367431640625e-07\n",
      "\u001b[36m(launch_and_fit pid=5497)\u001b[0m network.12.weight 1.430511474609375e-06\n",
      "\u001b[36m(launch_and_fit pid=5497)\u001b[0m network.12.bias 9.5367431640625e-07\n",
      "\u001b[36m(launch_and_fit pid=5497)\u001b[0m network.16.weight 9.5367431640625e-07\n",
      "\u001b[36m(launch_and_fit pid=5497)\u001b[0m network.16.bias 1.1920928955078125e-06\n",
      "\u001b[36m(launch_and_fit pid=5497)\u001b[0m network.18.weight 9.5367431640625e-07\n",
      "\u001b[36m(launch_and_fit pid=5497)\u001b[0m network.18.bias 9.5367431640625e-07\n",
      "\u001b[36m(launch_and_fit pid=5497)\u001b[0m network.20.weight 1.430511474609375e-06\n",
      "\u001b[36m(launch_and_fit pid=5497)\u001b[0m network.20.bias 9.5367431640625e-07\n",
      "\u001b[36m(launch_and_fit pid=5497)\u001b[0m qnn.weights 1.1920928955078125e-06\n",
      "\u001b[36m(launch_and_fit pid=5497)\u001b[0m fc4.weight 1.430511474609375e-06\n",
      "\u001b[36m(launch_and_fit pid=5497)\u001b[0m fc4.bias 9.5367431640625e-07\n",
      "\u001b[36m(launch_and_fit pid=5580)\u001b[0m Run with homomorphic encryption\n",
      "\u001b[36m(launch_and_fit pid=5522)\u001b[0m save graph in  results/FL/\n",
      "\u001b[36m(launch_and_fit pid=5522)\u001b[0m \tTrain Epoch: 10 \tTrain_loss: 0.8572 | Train_acc: 73.4115 % | Validation_loss: 1.4300 | Validation_acc: 46.2689 %\n",
      "\u001b[36m(launch_and_fit pid=5522)\u001b[0m fc4.bias 1.9073486328125e-06\u001b[32m [repeated 20x across cluster]\u001b[0m\n",
      "\u001b[36m(launch_and_fit pid=5522)\u001b[0m qnn.weights 1.6689300537109375e-06\n",
      "\u001b[36m(launch_and_fit pid=5580)\u001b[0m [Client 2, round 7] fit, config: {'learning_rate': 0.001, 'batch_size': '128', 'server_round': 7, 'local_epochs': 10}\n",
      "\u001b[36m(launch_and_fit pid=5580)\u001b[0m Updated model\n"
     ]
    },
    {
     "name": "stderr",
     "output_type": "stream",
     "text": [
      "  0%|\u001b[34m          \u001b[0m| 0/10 [00:00<?, ?it/s]\n",
      "100%|\u001b[34m██████████\u001b[0m| 10/10 [00:59<00:00,  5.94s/it]\n"
     ]
    },
    {
     "name": "stdout",
     "output_type": "stream",
     "text": [
      "\u001b[36m(launch_and_fit pid=5604)\u001b[0m Run with homomorphic encryption\n",
      "\u001b[36m(launch_and_fit pid=5604)\u001b[0m [Client 0, round 7] fit, config: {'learning_rate': 0.001, 'batch_size': '128', 'server_round': 7, 'local_epochs': 10}\n",
      "\u001b[36m(launch_and_fit pid=5580)\u001b[0m \tTrain Epoch: 1 \tTrain_loss: 1.4408 | Train_acc: 47.6259 % | Validation_loss: 1.4719 | Validation_acc: 45.9523 %\n",
      "\u001b[36m(launch_and_fit pid=5604)\u001b[0m Updated model\n"
     ]
    },
    {
     "name": "stderr",
     "output_type": "stream",
     "text": [
      " 10%|\u001b[34m█         \u001b[0m| 1/10 [00:06<00:55,  6.21s/it]\n",
      "  0%|\u001b[34m          \u001b[0m| 0/10 [00:00<?, ?it/s]\n"
     ]
    },
    {
     "name": "stdout",
     "output_type": "stream",
     "text": [
      "\u001b[36m(launch_and_fit pid=5580)\u001b[0m \tTrain Epoch: 2 \tTrain_loss: 1.2757 | Train_acc: 56.1198 % | Validation_loss: 1.4132 | Validation_acc: 48.1816 %\u001b[32m [repeated 2x across cluster]\u001b[0m\n"
     ]
    },
    {
     "name": "stderr",
     "output_type": "stream",
     "text": [
      " 20%|\u001b[34m██        \u001b[0m| 2/10 [00:12<00:48,  6.00s/it]\u001b[32m [repeated 2x across cluster]\u001b[0m\n"
     ]
    },
    {
     "name": "stdout",
     "output_type": "stream",
     "text": [
      "\u001b[36m(launch_and_fit pid=5580)\u001b[0m \tTrain Epoch: 3 \tTrain_loss: 1.1912 | Train_acc: 59.0321 % | Validation_loss: 1.4616 | Validation_acc: 45.6223 %\u001b[32m [repeated 2x across cluster]\u001b[0m\n"
     ]
    },
    {
     "name": "stderr",
     "output_type": "stream",
     "text": [
      " 30%|\u001b[34m███       \u001b[0m| 3/10 [00:17<00:41,  5.94s/it]\u001b[32m [repeated 2x across cluster]\u001b[0m\n"
     ]
    },
    {
     "name": "stdout",
     "output_type": "stream",
     "text": [
      "\u001b[36m(launch_and_fit pid=5580)\u001b[0m \tTrain Epoch: 4 \tTrain_loss: 1.1358 | Train_acc: 60.7639 % | Validation_loss: 1.4598 | Validation_acc: 47.2050 %\u001b[32m [repeated 2x across cluster]\u001b[0m\n"
     ]
    },
    {
     "name": "stderr",
     "output_type": "stream",
     "text": [
      " 40%|\u001b[34m████      \u001b[0m| 4/10 [00:24<00:36,  6.05s/it]\u001b[32m [repeated 2x across cluster]\u001b[0m\n"
     ]
    },
    {
     "name": "stdout",
     "output_type": "stream",
     "text": [
      "\u001b[36m(launch_and_fit pid=5580)\u001b[0m \tTrain Epoch: 5 \tTrain_loss: 1.0614 | Train_acc: 64.2144 % | Validation_loss: 1.4805 | Validation_acc: 45.5819 %\u001b[32m [repeated 2x across cluster]\u001b[0m\n"
     ]
    },
    {
     "name": "stderr",
     "output_type": "stream",
     "text": [
      " 50%|\u001b[34m█████     \u001b[0m| 5/10 [00:29<00:29,  5.96s/it]\u001b[32m [repeated 2x across cluster]\u001b[0m\n"
     ]
    },
    {
     "name": "stdout",
     "output_type": "stream",
     "text": [
      "\u001b[36m(launch_and_fit pid=5580)\u001b[0m \tTrain Epoch: 6 \tTrain_loss: 0.9975 | Train_acc: 67.2917 % | Validation_loss: 1.4671 | Validation_acc: 45.1711 %\u001b[32m [repeated 2x across cluster]\u001b[0m\n"
     ]
    },
    {
     "name": "stderr",
     "output_type": "stream",
     "text": [
      " 60%|\u001b[34m██████    \u001b[0m| 6/10 [00:35<00:23,  5.94s/it]\u001b[32m [repeated 2x across cluster]\u001b[0m\n"
     ]
    },
    {
     "name": "stdout",
     "output_type": "stream",
     "text": [
      "\u001b[36m(launch_and_fit pid=5580)\u001b[0m \tTrain Epoch: 7 \tTrain_loss: 0.9399 | Train_acc: 70.0738 % | Validation_loss: 1.4322 | Validation_acc: 49.7239 %\u001b[32m [repeated 2x across cluster]\u001b[0m\n"
     ]
    },
    {
     "name": "stderr",
     "output_type": "stream",
     "text": [
      " 70%|\u001b[34m███████   \u001b[0m| 7/10 [00:41<00:17,  5.90s/it]\u001b[32m [repeated 2x across cluster]\u001b[0m\n"
     ]
    },
    {
     "name": "stdout",
     "output_type": "stream",
     "text": [
      "\u001b[36m(launch_and_fit pid=5580)\u001b[0m \tTrain Epoch: 8 \tTrain_loss: 0.9172 | Train_acc: 71.0069 % | Validation_loss: 1.5298 | Validation_acc: 46.3631 %\u001b[32m [repeated 2x across cluster]\u001b[0m\n"
     ]
    },
    {
     "name": "stderr",
     "output_type": "stream",
     "text": [
      " 80%|\u001b[34m████████  \u001b[0m| 8/10 [00:47<00:11,  5.88s/it]\u001b[32m [repeated 2x across cluster]\u001b[0m\n"
     ]
    },
    {
     "name": "stdout",
     "output_type": "stream",
     "text": [
      "\u001b[36m(launch_and_fit pid=5580)\u001b[0m \tTrain Epoch: 9 \tTrain_loss: 0.8678 | Train_acc: 72.4740 % | Validation_loss: 1.4796 | Validation_acc: 47.1107 %\u001b[32m [repeated 2x across cluster]\u001b[0m\n"
     ]
    },
    {
     "name": "stderr",
     "output_type": "stream",
     "text": [
      " 90%|\u001b[34m█████████ \u001b[0m| 9/10 [00:53<00:05,  5.81s/it]\u001b[32m [repeated 2x across cluster]\u001b[0m\n"
     ]
    },
    {
     "name": "stdout",
     "output_type": "stream",
     "text": [
      "\u001b[36m(launch_and_fit pid=5580)\u001b[0m save graph in  results/FL/\n",
      "\u001b[36m(launch_and_fit pid=5580)\u001b[0m \tTrain Epoch: 10 \tTrain_loss: 0.8424 | Train_acc: 73.2422 % | Validation_loss: 1.4857 | Validation_acc: 48.8887 %\u001b[32m [repeated 2x across cluster]\u001b[0m\n"
     ]
    },
    {
     "name": "stderr",
     "output_type": "stream",
     "text": [
      "100%|\u001b[34m██████████\u001b[0m| 10/10 [00:59<00:00,  5.92s/it]\u001b[32m [repeated 2x across cluster]\u001b[0m\n"
     ]
    },
    {
     "name": "stdout",
     "output_type": "stream",
     "text": [
      "\u001b[36m(launch_and_fit pid=5580)\u001b[0m network.0.weight 6.198883056640625e-06\n",
      "\u001b[36m(launch_and_fit pid=5580)\u001b[0m network.0.bias 4.76837158203125e-06\n",
      "\u001b[36m(launch_and_fit pid=5580)\u001b[0m network.2.weight 9.5367431640625e-07\n",
      "\u001b[36m(launch_and_fit pid=5580)\u001b[0m network.2.bias 1.1920928955078125e-06\n",
      "\u001b[36m(launch_and_fit pid=5580)\u001b[0m network.5.weight 1.6689300537109375e-06\n",
      "\u001b[36m(launch_and_fit pid=5580)\u001b[0m network.5.bias 1.1920928955078125e-06\n",
      "\u001b[36m(launch_and_fit pid=5580)\u001b[0m network.7.weight 9.5367431640625e-07\n",
      "\u001b[36m(launch_and_fit pid=5580)\u001b[0m network.7.bias 1.6689300537109375e-06\n",
      "\u001b[36m(launch_and_fit pid=5580)\u001b[0m network.10.weight 1.430511474609375e-06\n",
      "\u001b[36m(launch_and_fit pid=5580)\u001b[0m network.10.bias 1.6689300537109375e-06\n",
      "\u001b[36m(launch_and_fit pid=5580)\u001b[0m network.12.weight 2.384185791015625e-06\n",
      "\u001b[36m(launch_and_fit pid=5580)\u001b[0m network.12.bias 1.430511474609375e-06\n",
      "\u001b[36m(launch_and_fit pid=5580)\u001b[0m network.16.weight 1.430511474609375e-06\n",
      "\u001b[36m(launch_and_fit pid=5580)\u001b[0m network.16.bias 9.5367431640625e-07\n",
      "\u001b[36m(launch_and_fit pid=5580)\u001b[0m network.18.weight 1.1920928955078125e-06\n",
      "\u001b[36m(launch_and_fit pid=5580)\u001b[0m network.18.bias 1.1920928955078125e-06\n",
      "\u001b[36m(launch_and_fit pid=5580)\u001b[0m network.20.weight 9.5367431640625e-07\n",
      "\u001b[36m(launch_and_fit pid=5580)\u001b[0m network.20.bias 1.1920928955078125e-06\n",
      "\u001b[36m(launch_and_fit pid=5580)\u001b[0m qnn.weights 9.5367431640625e-07\n",
      "\u001b[36m(launch_and_fit pid=5580)\u001b[0m fc4.weight 1.1920928955078125e-06\n",
      "\u001b[36m(launch_and_fit pid=5580)\u001b[0m fc4.bias 1.430511474609375e-06\n",
      "\u001b[36m(launch_and_fit pid=5661)\u001b[0m Run with homomorphic encryption\n",
      "\u001b[36m(launch_and_fit pid=5604)\u001b[0m save graph in  results/FL/\n",
      "\u001b[36m(launch_and_fit pid=5604)\u001b[0m \tTrain Epoch: 10 \tTrain_loss: 0.8954 | Train_acc: 71.5451 % | Validation_loss: 1.3579 | Validation_acc: 51.3335 %\n",
      "\u001b[36m(launch_and_fit pid=5604)\u001b[0m fc4.bias 1.1920928955078125e-06\u001b[32m [repeated 20x across cluster]\u001b[0m\n",
      "\u001b[36m(launch_and_fit pid=5604)\u001b[0m qnn.weights 1.1920928955078125e-06\n",
      "\u001b[36m(launch_and_fit pid=5661)\u001b[0m [Client 4, round 7] fit, config: {'learning_rate': 0.001, 'batch_size': '128', 'server_round': 7, 'local_epochs': 10}\n",
      "\u001b[36m(launch_and_fit pid=5661)\u001b[0m Updated model\n"
     ]
    },
    {
     "name": "stderr",
     "output_type": "stream",
     "text": [
      "  0%|\u001b[34m          \u001b[0m| 0/10 [00:00<?, ?it/s]\n",
      "100%|\u001b[34m██████████\u001b[0m| 10/10 [01:00<00:00,  6.01s/it]\n"
     ]
    },
    {
     "name": "stdout",
     "output_type": "stream",
     "text": [
      "\u001b[36m(launch_and_fit pid=5686)\u001b[0m Run with homomorphic encryption\n",
      "\u001b[36m(launch_and_fit pid=5686)\u001b[0m [Client 7, round 7] fit, config: {'learning_rate': 0.001, 'batch_size': '128', 'server_round': 7, 'local_epochs': 10}\n"
     ]
    },
    {
     "name": "stderr",
     "output_type": "stream",
     "text": [
      " 10%|\u001b[34m█         \u001b[0m| 1/10 [00:06<00:55,  6.15s/it]\n",
      "  0%|\u001b[34m          \u001b[0m| 0/10 [00:00<?, ?it/s]\n"
     ]
    },
    {
     "name": "stdout",
     "output_type": "stream",
     "text": [
      "\u001b[36m(launch_and_fit pid=5661)\u001b[0m \tTrain Epoch: 1 \tTrain_loss: 1.4416 | Train_acc: 46.6667 % | Validation_loss: 1.4602 | Validation_acc: 49.9596 %\n",
      "\u001b[36m(launch_and_fit pid=5686)\u001b[0m Updated model\n"
     ]
    },
    {
     "name": "stderr",
     "output_type": "stream",
     "text": [
      " 20%|\u001b[34m██        \u001b[0m| 2/10 [00:11<00:47,  5.96s/it]\u001b[32m [repeated 2x across cluster]\u001b[0m\n"
     ]
    },
    {
     "name": "stdout",
     "output_type": "stream",
     "text": [
      "\u001b[36m(launch_and_fit pid=5661)\u001b[0m \tTrain Epoch: 2 \tTrain_loss: 1.3163 | Train_acc: 51.8359 % | Validation_loss: 1.4864 | Validation_acc: 48.5318 %\u001b[32m [repeated 2x across cluster]\u001b[0m\n"
     ]
    },
    {
     "name": "stderr",
     "output_type": "stream",
     "text": [
      " 30%|\u001b[34m███       \u001b[0m| 3/10 [00:17<00:41,  5.87s/it]\u001b[32m [repeated 2x across cluster]\u001b[0m\n"
     ]
    },
    {
     "name": "stdout",
     "output_type": "stream",
     "text": [
      "\u001b[36m(launch_and_fit pid=5661)\u001b[0m \tTrain Epoch: 3 \tTrain_loss: 1.2202 | Train_acc: 55.6988 % | Validation_loss: 1.4864 | Validation_acc: 49.3737 %\u001b[32m [repeated 2x across cluster]\u001b[0m\n"
     ]
    },
    {
     "name": "stderr",
     "output_type": "stream",
     "text": [
      " 40%|\u001b[34m████      \u001b[0m| 4/10 [00:23<00:34,  5.79s/it]\u001b[32m [repeated 2x across cluster]\u001b[0m\n"
     ]
    },
    {
     "name": "stdout",
     "output_type": "stream",
     "text": [
      "\u001b[36m(launch_and_fit pid=5661)\u001b[0m \tTrain Epoch: 4 \tTrain_loss: 1.1756 | Train_acc: 57.9514 % | Validation_loss: 1.5014 | Validation_acc: 45.9523 %\u001b[32m [repeated 2x across cluster]\u001b[0m\n"
     ]
    },
    {
     "name": "stderr",
     "output_type": "stream",
     "text": [
      " 50%|\u001b[34m█████     \u001b[0m| 5/10 [00:29<00:29,  5.81s/it]\u001b[32m [repeated 2x across cluster]\u001b[0m\n"
     ]
    },
    {
     "name": "stdout",
     "output_type": "stream",
     "text": [
      "\u001b[36m(launch_and_fit pid=5661)\u001b[0m \tTrain Epoch: 5 \tTrain_loss: 1.1132 | Train_acc: 61.0851 % | Validation_loss: 1.4536 | Validation_acc: 49.9596 %\u001b[32m [repeated 2x across cluster]\u001b[0m\n"
     ]
    },
    {
     "name": "stderr",
     "output_type": "stream",
     "text": [
      " 60%|\u001b[34m██████    \u001b[0m| 6/10 [00:35<00:23,  5.81s/it]\u001b[32m [repeated 2x across cluster]\u001b[0m\n"
     ]
    },
    {
     "name": "stdout",
     "output_type": "stream",
     "text": [
      "\u001b[36m(launch_and_fit pid=5661)\u001b[0m \tTrain Epoch: 6 \tTrain_loss: 1.0415 | Train_acc: 64.1276 % | Validation_loss: 1.4826 | Validation_acc: 51.7780 %\u001b[32m [repeated 2x across cluster]\u001b[0m\n"
     ]
    },
    {
     "name": "stderr",
     "output_type": "stream",
     "text": [
      " 70%|\u001b[34m███████   \u001b[0m| 7/10 [00:40<00:17,  5.79s/it]\u001b[32m [repeated 2x across cluster]\u001b[0m\n"
     ]
    },
    {
     "name": "stdout",
     "output_type": "stream",
     "text": [
      "\u001b[36m(launch_and_fit pid=5661)\u001b[0m \tTrain Epoch: 7 \tTrain_loss: 1.0168 | Train_acc: 65.8811 % | Validation_loss: 1.4345 | Validation_acc: 51.5827 %\u001b[32m [repeated 2x across cluster]\u001b[0m\n"
     ]
    },
    {
     "name": "stderr",
     "output_type": "stream",
     "text": [
      " 80%|\u001b[34m████████  \u001b[0m| 8/10 [00:46<00:11,  5.85s/it]\u001b[32m [repeated 2x across cluster]\u001b[0m\n"
     ]
    },
    {
     "name": "stdout",
     "output_type": "stream",
     "text": [
      "\u001b[36m(launch_and_fit pid=5661)\u001b[0m \tTrain Epoch: 8 \tTrain_loss: 0.9444 | Train_acc: 68.8194 % | Validation_loss: 1.4924 | Validation_acc: 50.8351 %\u001b[32m [repeated 2x across cluster]\u001b[0m\n"
     ]
    },
    {
     "name": "stderr",
     "output_type": "stream",
     "text": [
      " 90%|\u001b[34m█████████ \u001b[0m| 9/10 [00:52<00:05,  5.87s/it]\u001b[32m [repeated 2x across cluster]\u001b[0m\n"
     ]
    },
    {
     "name": "stdout",
     "output_type": "stream",
     "text": [
      "\u001b[36m(launch_and_fit pid=5661)\u001b[0m \tTrain Epoch: 9 \tTrain_loss: 0.8898 | Train_acc: 70.1563 % | Validation_loss: 1.4167 | Validation_acc: 53.3809 %\u001b[32m [repeated 2x across cluster]\u001b[0m\n"
     ]
    },
    {
     "name": "stderr",
     "output_type": "stream",
     "text": [
      "100%|\u001b[34m██████████\u001b[0m| 10/10 [00:58<00:00,  5.85s/it]\u001b[32m [repeated 2x across cluster]\u001b[0m\n"
     ]
    },
    {
     "name": "stdout",
     "output_type": "stream",
     "text": [
      "\u001b[36m(launch_and_fit pid=5661)\u001b[0m save graph in  results/FL/\n",
      "\u001b[36m(launch_and_fit pid=5661)\u001b[0m \tTrain Epoch: 10 \tTrain_loss: 0.8493 | Train_acc: 72.8819 % | Validation_loss: 1.4369 | Validation_acc: 52.7748 %\u001b[32m [repeated 2x across cluster]\u001b[0m\n",
      "\u001b[36m(launch_and_fit pid=5661)\u001b[0m network.0.weight 5.4836273193359375e-06\n",
      "\u001b[36m(launch_and_fit pid=5661)\u001b[0m network.0.bias 1.1920928955078125e-06\n",
      "\u001b[36m(launch_and_fit pid=5661)\u001b[0m network.2.weight 9.5367431640625e-07\n",
      "\u001b[36m(launch_and_fit pid=5661)\u001b[0m network.2.bias 9.5367431640625e-07\n",
      "\u001b[36m(launch_and_fit pid=5661)\u001b[0m network.5.weight 9.5367431640625e-07\n",
      "\u001b[36m(launch_and_fit pid=5661)\u001b[0m network.5.bias 1.1920928955078125e-06\n",
      "\u001b[36m(launch_and_fit pid=5661)\u001b[0m network.7.weight 9.5367431640625e-07\n",
      "\u001b[36m(launch_and_fit pid=5661)\u001b[0m network.7.bias 9.5367431640625e-07\n",
      "\u001b[36m(launch_and_fit pid=5661)\u001b[0m network.10.weight 1.1920928955078125e-06\n",
      "\u001b[36m(launch_and_fit pid=5661)\u001b[0m network.10.bias 9.5367431640625e-07\n",
      "\u001b[36m(launch_and_fit pid=5661)\u001b[0m network.12.weight 7.152557373046875e-07\n",
      "\u001b[36m(launch_and_fit pid=5661)\u001b[0m network.12.bias 9.5367431640625e-07\n",
      "\u001b[36m(launch_and_fit pid=5661)\u001b[0m network.16.weight 9.5367431640625e-07\n",
      "\u001b[36m(launch_and_fit pid=5661)\u001b[0m network.16.bias 9.5367431640625e-07\n",
      "\u001b[36m(launch_and_fit pid=5661)\u001b[0m network.18.weight 9.5367431640625e-07\n",
      "\u001b[36m(launch_and_fit pid=5661)\u001b[0m network.18.bias 1.430511474609375e-06\n",
      "\u001b[36m(launch_and_fit pid=5661)\u001b[0m network.20.weight 1.1920928955078125e-06\n",
      "\u001b[36m(launch_and_fit pid=5661)\u001b[0m network.20.bias 9.5367431640625e-07\n",
      "\u001b[36m(launch_and_fit pid=5661)\u001b[0m qnn.weights 1.430511474609375e-06\n",
      "\u001b[36m(launch_and_fit pid=5661)\u001b[0m fc4.weight 1.1920928955078125e-06\n",
      "\u001b[36m(launch_and_fit pid=5661)\u001b[0m fc4.bias 9.5367431640625e-07\n"
     ]
    },
    {
     "name": "stderr",
     "output_type": "stream",
     "text": [
      "DEBUG flwr 2024-07-20 19:16:22,065 | server.py:236 | fit_round 7 received 10 results and 0 failures\n"
     ]
    },
    {
     "name": "stdout",
     "output_type": "stream",
     "text": [
      "Saving round 7 aggregated_parameters...\n"
     ]
    },
    {
     "name": "stderr",
     "output_type": "stream",
     "text": [
      "DEBUG flwr 2024-07-20 19:16:23,035 | server.py:173 | evaluate_round 7: strategy sampled 10 clients (out of 10)\n"
     ]
    },
    {
     "name": "stdout",
     "output_type": "stream",
     "text": [
      "\u001b[36m(launch_and_evaluate pid=5752)\u001b[0m Run with homomorphic encryption\n",
      "\u001b[36m(launch_and_fit pid=5686)\u001b[0m save graph in  results/FL/\n",
      "\u001b[36m(launch_and_fit pid=5686)\u001b[0m \tTrain Epoch: 10 \tTrain_loss: 0.8233 | Train_acc: 73.3811 % | Validation_loss: 1.3036 | Validation_acc: 53.6907 %\n",
      "\u001b[36m(launch_and_fit pid=5686)\u001b[0m fc4.bias 9.5367431640625e-07\u001b[32m [repeated 20x across cluster]\u001b[0m\n",
      "\u001b[36m(launch_and_fit pid=5686)\u001b[0m qnn.weights 9.5367431640625e-07\n",
      "\u001b[36m(launch_and_evaluate pid=5752)\u001b[0m [Client 9] evaluate, config: {}\n",
      "\u001b[36m(launch_and_evaluate pid=5752)\u001b[0m Updated model\n",
      "\u001b[36m(launch_and_evaluate pid=5776)\u001b[0m Run with homomorphic encryption\n",
      "\u001b[36m(launch_and_evaluate pid=5776)\u001b[0m [Client 1] evaluate, config: {}\n",
      "\u001b[36m(launch_and_evaluate pid=5829)\u001b[0m Run with homomorphic encryption\n",
      "\u001b[36m(launch_and_evaluate pid=5776)\u001b[0m Updated model\n",
      "\u001b[36m(launch_and_evaluate pid=5829)\u001b[0m [Client 8] evaluate, config: {}\n",
      "\u001b[36m(launch_and_evaluate pid=5829)\u001b[0m Updated model\n",
      "\u001b[36m(launch_and_evaluate pid=5854)\u001b[0m Run with homomorphic encryption\n",
      "\u001b[36m(launch_and_evaluate pid=5854)\u001b[0m [Client 6] evaluate, config: {}\n",
      "\u001b[36m(launch_and_evaluate pid=5854)\u001b[0m Updated model\n",
      "\u001b[36m(launch_and_evaluate pid=5898)\u001b[0m Run with homomorphic encryption\n",
      "\u001b[36m(launch_and_evaluate pid=5898)\u001b[0m [Client 5] evaluate, config: {}\n",
      "\u001b[36m(launch_and_evaluate pid=5898)\u001b[0m Updated model\n",
      "\u001b[36m(launch_and_evaluate pid=5934)\u001b[0m Run with homomorphic encryption\n",
      "\u001b[36m(launch_and_evaluate pid=5934)\u001b[0m [Client 4] evaluate, config: {}\n",
      "\u001b[36m(launch_and_evaluate pid=5976)\u001b[0m Run with homomorphic encryption\n",
      "\u001b[36m(launch_and_evaluate pid=5934)\u001b[0m Updated model\n",
      "\u001b[36m(launch_and_evaluate pid=5976)\u001b[0m [Client 2] evaluate, config: {}\n",
      "\u001b[36m(launch_and_evaluate pid=5976)\u001b[0m Updated model\n",
      "\u001b[36m(launch_and_evaluate pid=6011)\u001b[0m Run with homomorphic encryption\n",
      "\u001b[36m(launch_and_evaluate pid=6011)\u001b[0m [Client 7] evaluate, config: {}\n",
      "\u001b[36m(launch_and_evaluate pid=6060)\u001b[0m Run with homomorphic encryption\n",
      "\u001b[36m(launch_and_evaluate pid=6011)\u001b[0m Updated model\n",
      "\u001b[36m(launch_and_evaluate pid=6060)\u001b[0m [Client 0] evaluate, config: {}\n",
      "\u001b[36m(launch_and_evaluate pid=6060)\u001b[0m Updated model\n",
      "\u001b[36m(launch_and_evaluate pid=6089)\u001b[0m Run with homomorphic encryption\n",
      "\u001b[36m(launch_and_evaluate pid=6089)\u001b[0m [Client 3] evaluate, config: {}\n"
     ]
    },
    {
     "name": "stderr",
     "output_type": "stream",
     "text": [
      "DEBUG flwr 2024-07-20 19:17:51,593 | server.py:187 | evaluate_round 7 received 10 results and 0 failures\n",
      "DEBUG flwr 2024-07-20 19:17:51,594 | server.py:222 | fit_round 8: strategy sampled 10 clients (out of 10)\n"
     ]
    },
    {
     "name": "stdout",
     "output_type": "stream",
     "text": [
      "\u001b[36m(launch_and_fit pid=6151)\u001b[0m Run with homomorphic encryption\n",
      "\u001b[36m(launch_and_evaluate pid=6089)\u001b[0m Updated model\n",
      "\u001b[36m(launch_and_fit pid=6151)\u001b[0m [Client 6, round 8] fit, config: {'learning_rate': 0.001, 'batch_size': '128', 'server_round': 8, 'local_epochs': 10}\n"
     ]
    },
    {
     "name": "stderr",
     "output_type": "stream",
     "text": [
      "  0%|\u001b[34m          \u001b[0m| 0/10 [00:00<?, ?it/s]\n",
      "100%|\u001b[34m██████████\u001b[0m| 10/10 [00:59<00:00,  5.94s/it]\n"
     ]
    },
    {
     "name": "stdout",
     "output_type": "stream",
     "text": [
      "\u001b[36m(launch_and_fit pid=6151)\u001b[0m Updated model\n"
     ]
    },
    {
     "name": "stderr",
     "output_type": "stream",
     "text": [
      " 10%|\u001b[34m█         \u001b[0m| 1/10 [00:06<00:58,  6.45s/it]\n",
      "  0%|\u001b[34m          \u001b[0m| 0/10 [00:00<?, ?it/s]\n"
     ]
    },
    {
     "name": "stdout",
     "output_type": "stream",
     "text": [
      "\u001b[36m(launch_and_fit pid=6151)\u001b[0m \tTrain Epoch: 1 \tTrain_loss: 1.3049 | Train_acc: 54.4097 % | Validation_loss: 1.3681 | Validation_acc: 52.2831 %\n",
      "\u001b[36m(launch_and_fit pid=6152)\u001b[0m Run with homomorphic encryption\n",
      "\u001b[36m(launch_and_fit pid=6152)\u001b[0m [Client 0, round 8] fit, config: {'learning_rate': 0.001, 'batch_size': '128', 'server_round': 8, 'local_epochs': 10}\n",
      "\u001b[36m(launch_and_fit pid=6152)\u001b[0m Updated model\n"
     ]
    },
    {
     "name": "stderr",
     "output_type": "stream",
     "text": [
      " 20%|\u001b[34m██        \u001b[0m| 2/10 [00:12<00:48,  6.12s/it]\u001b[32m [repeated 2x across cluster]\u001b[0m\n"
     ]
    },
    {
     "name": "stdout",
     "output_type": "stream",
     "text": [
      "\u001b[36m(launch_and_fit pid=6151)\u001b[0m \tTrain Epoch: 2 \tTrain_loss: 1.1393 | Train_acc: 59.6875 % | Validation_loss: 1.3399 | Validation_acc: 52.9499 %\u001b[32m [repeated 2x across cluster]\u001b[0m\n"
     ]
    },
    {
     "name": "stderr",
     "output_type": "stream",
     "text": [
      " 30%|\u001b[34m███       \u001b[0m| 3/10 [00:18<00:41,  5.97s/it]\u001b[32m [repeated 2x across cluster]\u001b[0m\n"
     ]
    },
    {
     "name": "stdout",
     "output_type": "stream",
     "text": [
      "\u001b[36m(launch_and_fit pid=6151)\u001b[0m \tTrain Epoch: 3 \tTrain_loss: 1.0377 | Train_acc: 63.7804 % | Validation_loss: 1.3348 | Validation_acc: 53.6166 %\u001b[32m [repeated 2x across cluster]\u001b[0m\n"
     ]
    },
    {
     "name": "stderr",
     "output_type": "stream",
     "text": [
      " 40%|\u001b[34m████      \u001b[0m| 4/10 [00:24<00:35,  5.94s/it]\u001b[32m [repeated 2x across cluster]\u001b[0m\n"
     ]
    },
    {
     "name": "stdout",
     "output_type": "stream",
     "text": [
      "\u001b[36m(launch_and_fit pid=6151)\u001b[0m \tTrain Epoch: 4 \tTrain_loss: 0.9537 | Train_acc: 68.1901 % | Validation_loss: 1.3130 | Validation_acc: 55.7651 %\u001b[32m [repeated 2x across cluster]\u001b[0m\n",
      "\u001b[36m(launch_and_fit pid=6152)\u001b[0m \tTrain Epoch: 5 \tTrain_loss: 0.9511 | Train_acc: 68.2248 % | Validation_loss: 1.3173 | Validation_acc: 53.5628 %\u001b[32m [repeated 2x across cluster]\u001b[0m\n"
     ]
    },
    {
     "name": "stderr",
     "output_type": "stream",
     "text": [
      " 50%|\u001b[34m█████     \u001b[0m| 5/10 [00:30<00:29,  5.97s/it]\u001b[32m [repeated 2x across cluster]\u001b[0m\n"
     ]
    },
    {
     "name": "stdout",
     "output_type": "stream",
     "text": [
      "\u001b[36m(launch_and_fit pid=6152)\u001b[0m \tTrain Epoch: 6 \tTrain_loss: 0.8818 | Train_acc: 71.3368 % | Validation_loss: 1.2640 | Validation_acc: 54.3036 %\u001b[32m [repeated 2x across cluster]\u001b[0m\n"
     ]
    },
    {
     "name": "stderr",
     "output_type": "stream",
     "text": [
      " 60%|\u001b[34m██████    \u001b[0m| 6/10 [00:35<00:23,  5.93s/it]\u001b[32m [repeated 2x across cluster]\u001b[0m\n",
      " 70%|\u001b[34m███████   \u001b[0m| 7/10 [00:41<00:17,  5.84s/it]\u001b[32m [repeated 2x across cluster]\u001b[0m\n"
     ]
    },
    {
     "name": "stdout",
     "output_type": "stream",
     "text": [
      "\u001b[36m(launch_and_fit pid=6151)\u001b[0m \tTrain Epoch: 7 \tTrain_loss: 0.9001 | Train_acc: 68.8976 % | Validation_loss: 1.3738 | Validation_acc: 55.0242 %\u001b[32m [repeated 2x across cluster]\u001b[0m\n"
     ]
    },
    {
     "name": "stderr",
     "output_type": "stream",
     "text": [
      " 80%|\u001b[34m████████  \u001b[0m| 8/10 [00:47<00:11,  5.79s/it]\u001b[32m [repeated 2x across cluster]\u001b[0m\n"
     ]
    },
    {
     "name": "stdout",
     "output_type": "stream",
     "text": [
      "\u001b[36m(launch_and_fit pid=6151)\u001b[0m \tTrain Epoch: 8 \tTrain_loss: 0.7681 | Train_acc: 74.5182 % | Validation_loss: 1.3471 | Validation_acc: 52.2293 %\u001b[32m [repeated 2x across cluster]\u001b[0m\n"
     ]
    },
    {
     "name": "stderr",
     "output_type": "stream",
     "text": [
      " 90%|\u001b[34m█████████ \u001b[0m| 9/10 [00:52<00:05,  5.76s/it]\u001b[32m [repeated 2x across cluster]\u001b[0m\n"
     ]
    },
    {
     "name": "stdout",
     "output_type": "stream",
     "text": [
      "\u001b[36m(launch_and_fit pid=6151)\u001b[0m \tTrain Epoch: 9 \tTrain_loss: 0.7134 | Train_acc: 76.4366 % | Validation_loss: 1.3976 | Validation_acc: 52.6199 %\u001b[32m [repeated 2x across cluster]\u001b[0m\n"
     ]
    },
    {
     "name": "stderr",
     "output_type": "stream",
     "text": [
      "100%|\u001b[34m██████████\u001b[0m| 10/10 [00:58<00:00,  5.87s/it]\u001b[32m [repeated 2x across cluster]\u001b[0m\n"
     ]
    },
    {
     "name": "stdout",
     "output_type": "stream",
     "text": [
      "\u001b[36m(launch_and_fit pid=6151)\u001b[0m save graph in  results/FL/\n",
      "\u001b[36m(launch_and_fit pid=6151)\u001b[0m \tTrain Epoch: 10 \tTrain_loss: 0.6742 | Train_acc: 78.3464 % | Validation_loss: 1.3589 | Validation_acc: 54.7683 %\u001b[32m [repeated 2x across cluster]\u001b[0m\n",
      "\u001b[36m(launch_and_fit pid=6151)\u001b[0m network.0.weight 5.9604644775390625e-06\n",
      "\u001b[36m(launch_and_fit pid=6151)\u001b[0m network.0.bias 1.9073486328125e-06\n",
      "\u001b[36m(launch_and_fit pid=6151)\u001b[0m network.2.weight 1.430511474609375e-06\n",
      "\u001b[36m(launch_and_fit pid=6151)\u001b[0m network.2.bias 1.1920928955078125e-06\n",
      "\u001b[36m(launch_and_fit pid=6151)\u001b[0m network.5.weight 1.1920928955078125e-06\n",
      "\u001b[36m(launch_and_fit pid=6151)\u001b[0m network.5.bias 1.1920928955078125e-06\n",
      "\u001b[36m(launch_and_fit pid=6151)\u001b[0m network.7.weight 1.1920928955078125e-06\n",
      "\u001b[36m(launch_and_fit pid=6151)\u001b[0m network.7.bias 1.1920928955078125e-06\n",
      "\u001b[36m(launch_and_fit pid=6151)\u001b[0m network.10.weight 9.5367431640625e-07\n",
      "\u001b[36m(launch_and_fit pid=6151)\u001b[0m network.10.bias 1.1920928955078125e-06\n",
      "\u001b[36m(launch_and_fit pid=6151)\u001b[0m network.12.weight 9.5367431640625e-07\n",
      "\u001b[36m(launch_and_fit pid=6151)\u001b[0m network.12.bias 1.430511474609375e-06\n",
      "\u001b[36m(launch_and_fit pid=6151)\u001b[0m network.16.weight 1.1920928955078125e-06\n",
      "\u001b[36m(launch_and_fit pid=6151)\u001b[0m network.16.bias 9.5367431640625e-07\n",
      "\u001b[36m(launch_and_fit pid=6151)\u001b[0m network.18.weight 9.5367431640625e-07\n",
      "\u001b[36m(launch_and_fit pid=6151)\u001b[0m network.18.bias 1.1920928955078125e-06\n",
      "\u001b[36m(launch_and_fit pid=6151)\u001b[0m network.20.weight 9.5367431640625e-07\n",
      "\u001b[36m(launch_and_fit pid=6151)\u001b[0m network.20.bias 9.5367431640625e-07\n",
      "\u001b[36m(launch_and_fit pid=6151)\u001b[0m qnn.weights 9.5367431640625e-07\n",
      "\u001b[36m(launch_and_fit pid=6151)\u001b[0m fc4.weight 1.1920928955078125e-06\n",
      "\u001b[36m(launch_and_fit pid=6151)\u001b[0m fc4.bias 9.5367431640625e-07\n",
      "\u001b[36m(launch_and_fit pid=6233)\u001b[0m Run with homomorphic encryption\n",
      "\u001b[36m(launch_and_fit pid=6152)\u001b[0m save graph in  results/FL/\n",
      "\u001b[36m(launch_and_fit pid=6152)\u001b[0m \tTrain Epoch: 10 \tTrain_loss: 0.6904 | Train_acc: 78.9800 % | Validation_loss: 1.3199 | Validation_acc: 54.6740 %\n",
      "\u001b[36m(launch_and_fit pid=6152)\u001b[0m fc4.bias 1.6689300537109375e-06\u001b[32m [repeated 20x across cluster]\u001b[0m\n",
      "\u001b[36m(launch_and_fit pid=6152)\u001b[0m qnn.weights 1.6689300537109375e-06\n",
      "\u001b[36m(launch_and_fit pid=6233)\u001b[0m [Client 7, round 8] fit, config: {'learning_rate': 0.001, 'batch_size': '128', 'server_round': 8, 'local_epochs': 10}\n"
     ]
    },
    {
     "name": "stderr",
     "output_type": "stream",
     "text": [
      "  0%|\u001b[34m          \u001b[0m| 0/10 [00:00<?, ?it/s]\n",
      "100%|\u001b[34m██████████\u001b[0m| 10/10 [00:58<00:00,  5.90s/it]\n"
     ]
    },
    {
     "name": "stdout",
     "output_type": "stream",
     "text": [
      "\u001b[36m(launch_and_fit pid=6233)\u001b[0m Updated model\n"
     ]
    },
    {
     "name": "stderr",
     "output_type": "stream",
     "text": [
      " 10%|\u001b[34m█         \u001b[0m| 1/10 [00:06<00:57,  6.42s/it]\n",
      "  0%|\u001b[34m          \u001b[0m| 0/10 [00:00<?, ?it/s]\n"
     ]
    },
    {
     "name": "stdout",
     "output_type": "stream",
     "text": [
      "\u001b[36m(launch_and_fit pid=6233)\u001b[0m \tTrain Epoch: 1 \tTrain_loss: 1.3227 | Train_acc: 52.4653 % | Validation_loss: 1.2718 | Validation_acc: 54.4181 %\n",
      "\u001b[36m(launch_and_fit pid=6235)\u001b[0m Run with homomorphic encryption\n",
      "\u001b[36m(launch_and_fit pid=6235)\u001b[0m [Client 1, round 8] fit, config: {'learning_rate': 0.001, 'batch_size': '128', 'server_round': 8, 'local_epochs': 10}\n",
      "\u001b[36m(launch_and_fit pid=6235)\u001b[0m Updated model\n"
     ]
    },
    {
     "name": "stderr",
     "output_type": "stream",
     "text": [
      " 20%|\u001b[34m██        \u001b[0m| 2/10 [00:12<00:48,  6.05s/it]\u001b[32m [repeated 2x across cluster]\u001b[0m\n"
     ]
    },
    {
     "name": "stdout",
     "output_type": "stream",
     "text": [
      "\u001b[36m(launch_and_fit pid=6233)\u001b[0m \tTrain Epoch: 2 \tTrain_loss: 1.1512 | Train_acc: 58.7891 % | Validation_loss: 1.2563 | Validation_acc: 53.7513 %\u001b[32m [repeated 2x across cluster]\u001b[0m\n"
     ]
    },
    {
     "name": "stderr",
     "output_type": "stream",
     "text": [
      " 30%|\u001b[34m███       \u001b[0m| 3/10 [00:18<00:42,  6.01s/it]\u001b[32m [repeated 2x across cluster]\u001b[0m\n"
     ]
    },
    {
     "name": "stdout",
     "output_type": "stream",
     "text": [
      "\u001b[36m(launch_and_fit pid=6233)\u001b[0m \tTrain Epoch: 3 \tTrain_loss: 1.0360 | Train_acc: 64.6267 % | Validation_loss: 1.2407 | Validation_acc: 55.9402 %\u001b[32m [repeated 2x across cluster]\u001b[0m\n"
     ]
    },
    {
     "name": "stderr",
     "output_type": "stream",
     "text": [
      " 40%|\u001b[34m████      \u001b[0m| 4/10 [00:24<00:35,  5.96s/it]\u001b[32m [repeated 2x across cluster]\u001b[0m\n"
     ]
    },
    {
     "name": "stdout",
     "output_type": "stream",
     "text": [
      "\u001b[36m(launch_and_fit pid=6233)\u001b[0m \tTrain Epoch: 4 \tTrain_loss: 0.9539 | Train_acc: 67.6606 % | Validation_loss: 1.2195 | Validation_acc: 55.7651 %\u001b[32m [repeated 2x across cluster]\u001b[0m\n"
     ]
    },
    {
     "name": "stderr",
     "output_type": "stream",
     "text": [
      " 50%|\u001b[34m█████     \u001b[0m| 5/10 [00:29<00:29,  5.86s/it]\u001b[32m [repeated 2x across cluster]\u001b[0m\n"
     ]
    },
    {
     "name": "stdout",
     "output_type": "stream",
     "text": [
      "\u001b[36m(launch_and_fit pid=6233)\u001b[0m \tTrain Epoch: 5 \tTrain_loss: 0.9077 | Train_acc: 69.6658 % | Validation_loss: 1.2425 | Validation_acc: 57.4084 %\u001b[32m [repeated 2x across cluster]\u001b[0m\n"
     ]
    },
    {
     "name": "stderr",
     "output_type": "stream",
     "text": [
      " 60%|\u001b[34m██████    \u001b[0m| 6/10 [00:35<00:23,  5.84s/it]\u001b[32m [repeated 2x across cluster]\u001b[0m\n"
     ]
    },
    {
     "name": "stdout",
     "output_type": "stream",
     "text": [
      "\u001b[36m(launch_and_fit pid=6233)\u001b[0m \tTrain Epoch: 6 \tTrain_loss: 0.8292 | Train_acc: 73.0295 % | Validation_loss: 1.2695 | Validation_acc: 56.3914 %\u001b[32m [repeated 2x across cluster]\u001b[0m\n"
     ]
    },
    {
     "name": "stderr",
     "output_type": "stream",
     "text": [
      " 70%|\u001b[34m███████   \u001b[0m| 7/10 [00:41<00:17,  5.75s/it]\u001b[32m [repeated 2x across cluster]\u001b[0m\n"
     ]
    },
    {
     "name": "stdout",
     "output_type": "stream",
     "text": [
      "\u001b[36m(launch_and_fit pid=6233)\u001b[0m \tTrain Epoch: 7 \tTrain_loss: 0.8014 | Train_acc: 74.2188 % | Validation_loss: 1.2330 | Validation_acc: 56.9370 %\u001b[32m [repeated 2x across cluster]\u001b[0m\n"
     ]
    },
    {
     "name": "stderr",
     "output_type": "stream",
     "text": [
      " 80%|\u001b[34m████████  \u001b[0m| 8/10 [00:46<00:11,  5.79s/it]\u001b[32m [repeated 2x across cluster]\u001b[0m\n"
     ]
    },
    {
     "name": "stdout",
     "output_type": "stream",
     "text": [
      "\u001b[36m(launch_and_fit pid=6233)\u001b[0m \tTrain Epoch: 8 \tTrain_loss: 0.7522 | Train_acc: 75.9505 % | Validation_loss: 1.2483 | Validation_acc: 58.0348 %\u001b[32m [repeated 2x across cluster]\u001b[0m\n"
     ]
    },
    {
     "name": "stderr",
     "output_type": "stream",
     "text": [
      " 90%|\u001b[34m█████████ \u001b[0m| 9/10 [00:52<00:05,  5.82s/it]\u001b[32m [repeated 2x across cluster]\u001b[0m\n"
     ]
    },
    {
     "name": "stdout",
     "output_type": "stream",
     "text": [
      "\u001b[36m(launch_and_fit pid=6233)\u001b[0m \tTrain Epoch: 9 \tTrain_loss: 0.7096 | Train_acc: 77.5911 % | Validation_loss: 1.2427 | Validation_acc: 55.7651 %\u001b[32m [repeated 2x across cluster]\u001b[0m\n"
     ]
    },
    {
     "name": "stderr",
     "output_type": "stream",
     "text": [
      "100%|\u001b[34m██████████\u001b[0m| 10/10 [00:58<00:00,  5.85s/it]\u001b[32m [repeated 2x across cluster]\u001b[0m\n"
     ]
    },
    {
     "name": "stdout",
     "output_type": "stream",
     "text": [
      "\u001b[36m(launch_and_fit pid=6233)\u001b[0m save graph in  results/FL/\n",
      "\u001b[36m(launch_and_fit pid=6233)\u001b[0m \tTrain Epoch: 10 \tTrain_loss: 0.6803 | Train_acc: 78.9193 % | Validation_loss: 1.3646 | Validation_acc: 55.9873 %\u001b[32m [repeated 2x across cluster]\u001b[0m\n",
      "\u001b[36m(launch_and_fit pid=6233)\u001b[0m network.0.weight 5.245208740234375e-06\n",
      "\u001b[36m(launch_and_fit pid=6233)\u001b[0m network.0.bias 1.6689300537109375e-06\n",
      "\u001b[36m(launch_and_fit pid=6233)\u001b[0m network.2.weight 1.430511474609375e-06\n",
      "\u001b[36m(launch_and_fit pid=6233)\u001b[0m network.2.bias 1.1920928955078125e-06\n",
      "\u001b[36m(launch_and_fit pid=6233)\u001b[0m network.5.weight 1.430511474609375e-06\n",
      "\u001b[36m(launch_and_fit pid=6233)\u001b[0m network.5.bias 9.5367431640625e-07\n",
      "\u001b[36m(launch_and_fit pid=6233)\u001b[0m network.7.weight 1.1920928955078125e-06\n",
      "\u001b[36m(launch_and_fit pid=6233)\u001b[0m network.7.bias 1.1920928955078125e-06\n",
      "\u001b[36m(launch_and_fit pid=6233)\u001b[0m network.10.weight 1.430511474609375e-06\n",
      "\u001b[36m(launch_and_fit pid=6233)\u001b[0m network.10.bias 1.1920928955078125e-06\n",
      "\u001b[36m(launch_and_fit pid=6233)\u001b[0m network.12.weight 1.430511474609375e-06\n",
      "\u001b[36m(launch_and_fit pid=6233)\u001b[0m network.12.bias 1.1920928955078125e-06\n",
      "\u001b[36m(launch_and_fit pid=6233)\u001b[0m network.16.weight 1.1920928955078125e-06\n",
      "\u001b[36m(launch_and_fit pid=6233)\u001b[0m network.16.bias 9.5367431640625e-07\n",
      "\u001b[36m(launch_and_fit pid=6233)\u001b[0m network.18.weight 1.430511474609375e-06\n",
      "\u001b[36m(launch_and_fit pid=6233)\u001b[0m network.18.bias 1.1920928955078125e-06\n",
      "\u001b[36m(launch_and_fit pid=6233)\u001b[0m network.20.weight 1.1920928955078125e-06\n",
      "\u001b[36m(launch_and_fit pid=6233)\u001b[0m network.20.bias 1.1920928955078125e-06\n",
      "\u001b[36m(launch_and_fit pid=6233)\u001b[0m qnn.weights 9.5367431640625e-07\n",
      "\u001b[36m(launch_and_fit pid=6233)\u001b[0m fc4.weight 1.6689300537109375e-06\n",
      "\u001b[36m(launch_and_fit pid=6233)\u001b[0m fc4.bias 1.430511474609375e-06\n",
      "\u001b[36m(launch_and_fit pid=6315)\u001b[0m Run with homomorphic encryption\n",
      "\u001b[36m(launch_and_fit pid=6235)\u001b[0m save graph in  results/FL/\n",
      "\u001b[36m(launch_and_fit pid=6235)\u001b[0m \tTrain Epoch: 10 \tTrain_loss: 0.6732 | Train_acc: 78.5026 % | Validation_loss: 1.3817 | Validation_acc: 50.9564 %\n",
      "\u001b[36m(launch_and_fit pid=6235)\u001b[0m fc4.bias 7.152557373046875e-07\u001b[32m [repeated 20x across cluster]\u001b[0m\n",
      "\u001b[36m(launch_and_fit pid=6235)\u001b[0m qnn.weights 9.5367431640625e-07\n",
      "\u001b[36m(launch_and_fit pid=6315)\u001b[0m [Client 4, round 8] fit, config: {'learning_rate': 0.001, 'batch_size': '128', 'server_round': 8, 'local_epochs': 10}\n"
     ]
    },
    {
     "name": "stderr",
     "output_type": "stream",
     "text": [
      "  0%|\u001b[34m          \u001b[0m| 0/10 [00:00<?, ?it/s]\n",
      "100%|\u001b[34m██████████\u001b[0m| 10/10 [00:58<00:00,  5.85s/it]\n"
     ]
    },
    {
     "name": "stdout",
     "output_type": "stream",
     "text": [
      "\u001b[36m(launch_and_fit pid=6315)\u001b[0m Updated model\n"
     ]
    },
    {
     "name": "stderr",
     "output_type": "stream",
     "text": [
      " 10%|\u001b[34m█         \u001b[0m| 1/10 [00:06<00:58,  6.53s/it]\n",
      "  0%|\u001b[34m          \u001b[0m| 0/10 [00:00<?, ?it/s]\n"
     ]
    },
    {
     "name": "stdout",
     "output_type": "stream",
     "text": [
      "\u001b[36m(launch_and_fit pid=6315)\u001b[0m \tTrain Epoch: 1 \tTrain_loss: 1.3367 | Train_acc: 50.7118 % | Validation_loss: 1.4602 | Validation_acc: 51.9935 %\n",
      "\u001b[36m(launch_and_fit pid=6317)\u001b[0m Run with homomorphic encryption\n",
      "\u001b[36m(launch_and_fit pid=6317)\u001b[0m [Client 3, round 8] fit, config: {'learning_rate': 0.001, 'batch_size': '128', 'server_round': 8, 'local_epochs': 10}\n",
      "\u001b[36m(launch_and_fit pid=6317)\u001b[0m Updated model\n"
     ]
    },
    {
     "name": "stderr",
     "output_type": "stream",
     "text": [
      " 20%|\u001b[34m██        \u001b[0m| 2/10 [00:12<00:50,  6.28s/it]\u001b[32m [repeated 2x across cluster]\u001b[0m\n"
     ]
    },
    {
     "name": "stdout",
     "output_type": "stream",
     "text": [
      "\u001b[36m(launch_and_fit pid=6317)\u001b[0m \tTrain Epoch: 2 \tTrain_loss: 1.1387 | Train_acc: 59.8047 % | Validation_loss: 1.4040 | Validation_acc: 53.3809 %\u001b[32m [repeated 2x across cluster]\u001b[0m\n"
     ]
    },
    {
     "name": "stderr",
     "output_type": "stream",
     "text": [
      " 30%|\u001b[34m███       \u001b[0m| 3/10 [00:18<00:42,  6.09s/it]\u001b[32m [repeated 2x across cluster]\u001b[0m\n"
     ]
    },
    {
     "name": "stdout",
     "output_type": "stream",
     "text": [
      "\u001b[36m(launch_and_fit pid=6317)\u001b[0m \tTrain Epoch: 3 \tTrain_loss: 1.0345 | Train_acc: 63.6415 % | Validation_loss: 1.4065 | Validation_acc: 52.5391 %\u001b[32m [repeated 2x across cluster]\u001b[0m\n"
     ]
    },
    {
     "name": "stderr",
     "output_type": "stream",
     "text": [
      " 40%|\u001b[34m████      \u001b[0m| 4/10 [00:24<00:35,  5.94s/it]\u001b[32m [repeated 2x across cluster]\u001b[0m\n"
     ]
    },
    {
     "name": "stdout",
     "output_type": "stream",
     "text": [
      "\u001b[36m(launch_and_fit pid=6317)\u001b[0m \tTrain Epoch: 4 \tTrain_loss: 0.9556 | Train_acc: 67.2830 % | Validation_loss: 1.3609 | Validation_acc: 55.0445 %\u001b[32m [repeated 2x across cluster]\u001b[0m\n"
     ]
    },
    {
     "name": "stderr",
     "output_type": "stream",
     "text": [
      " 50%|\u001b[34m█████     \u001b[0m| 5/10 [00:29<00:29,  5.88s/it]\u001b[32m [repeated 2x across cluster]\u001b[0m\n"
     ]
    },
    {
     "name": "stdout",
     "output_type": "stream",
     "text": [
      "\u001b[36m(launch_and_fit pid=6317)\u001b[0m \tTrain Epoch: 5 \tTrain_loss: 0.8858 | Train_acc: 69.8177 % | Validation_loss: 1.4041 | Validation_acc: 53.5964 %\u001b[32m [repeated 2x across cluster]\u001b[0m\n"
     ]
    },
    {
     "name": "stderr",
     "output_type": "stream",
     "text": [
      " 60%|\u001b[34m██████    \u001b[0m| 6/10 [00:35<00:23,  5.88s/it]\u001b[32m [repeated 2x across cluster]\u001b[0m\n"
     ]
    },
    {
     "name": "stdout",
     "output_type": "stream",
     "text": [
      "\u001b[36m(launch_and_fit pid=6317)\u001b[0m \tTrain Epoch: 6 \tTrain_loss: 0.8357 | Train_acc: 72.0833 % | Validation_loss: 1.4178 | Validation_acc: 52.6199 %\u001b[32m [repeated 2x across cluster]\u001b[0m\n"
     ]
    },
    {
     "name": "stderr",
     "output_type": "stream",
     "text": [
      " 70%|\u001b[34m███████   \u001b[0m| 7/10 [00:41<00:17,  5.91s/it]\u001b[32m [repeated 2x across cluster]\u001b[0m\n"
     ]
    },
    {
     "name": "stdout",
     "output_type": "stream",
     "text": [
      "\u001b[36m(launch_and_fit pid=6317)\u001b[0m \tTrain Epoch: 7 \tTrain_loss: 0.7769 | Train_acc: 73.9844 % | Validation_loss: 1.4202 | Validation_acc: 53.1452 %\u001b[32m [repeated 2x across cluster]\u001b[0m\n"
     ]
    },
    {
     "name": "stderr",
     "output_type": "stream",
     "text": [
      " 80%|\u001b[34m████████  \u001b[0m| 8/10 [00:47<00:11,  5.88s/it]\u001b[32m [repeated 2x across cluster]\u001b[0m\n"
     ]
    },
    {
     "name": "stdout",
     "output_type": "stream",
     "text": [
      "\u001b[36m(launch_and_fit pid=6317)\u001b[0m \tTrain Epoch: 8 \tTrain_loss: 0.7431 | Train_acc: 76.0590 % | Validation_loss: 1.4150 | Validation_acc: 52.0339 %\u001b[32m [repeated 2x across cluster]\u001b[0m\n"
     ]
    },
    {
     "name": "stderr",
     "output_type": "stream",
     "text": [
      " 90%|\u001b[34m█████████ \u001b[0m| 9/10 [00:53<00:05,  5.80s/it]\u001b[32m [repeated 2x across cluster]\u001b[0m\n"
     ]
    },
    {
     "name": "stdout",
     "output_type": "stream",
     "text": [
      "\u001b[36m(launch_and_fit pid=6317)\u001b[0m \tTrain Epoch: 9 \tTrain_loss: 0.6992 | Train_acc: 77.8776 % | Validation_loss: 1.4181 | Validation_acc: 54.3979 %\u001b[32m [repeated 2x across cluster]\u001b[0m\n"
     ]
    },
    {
     "name": "stderr",
     "output_type": "stream",
     "text": [
      "100%|\u001b[34m██████████\u001b[0m| 10/10 [00:58<00:00,  5.90s/it]\u001b[32m [repeated 2x across cluster]\u001b[0m\n"
     ]
    },
    {
     "name": "stdout",
     "output_type": "stream",
     "text": [
      "\u001b[36m(launch_and_fit pid=6317)\u001b[0m save graph in  results/FL/\n",
      "\u001b[36m(launch_and_fit pid=6317)\u001b[0m \tTrain Epoch: 10 \tTrain_loss: 0.6540 | Train_acc: 80.3863 % | Validation_loss: 1.4274 | Validation_acc: 53.5964 %\u001b[32m [repeated 2x across cluster]\u001b[0m\n",
      "\u001b[36m(launch_and_fit pid=6317)\u001b[0m network.0.weight 6.4373016357421875e-06\n",
      "\u001b[36m(launch_and_fit pid=6317)\u001b[0m network.0.bias 1.6689300537109375e-06\n",
      "\u001b[36m(launch_and_fit pid=6317)\u001b[0m network.2.weight 1.9073486328125e-06\n",
      "\u001b[36m(launch_and_fit pid=6317)\u001b[0m network.2.bias 1.430511474609375e-06\n",
      "\u001b[36m(launch_and_fit pid=6317)\u001b[0m network.5.weight 1.6689300537109375e-06\n",
      "\u001b[36m(launch_and_fit pid=6317)\u001b[0m network.5.bias 1.430511474609375e-06\n",
      "\u001b[36m(launch_and_fit pid=6317)\u001b[0m network.7.weight 1.9073486328125e-06\n",
      "\u001b[36m(launch_and_fit pid=6317)\u001b[0m network.7.bias 1.6689300537109375e-06\n",
      "\u001b[36m(launch_and_fit pid=6317)\u001b[0m network.10.weight 1.9073486328125e-06\n",
      "\u001b[36m(launch_and_fit pid=6317)\u001b[0m network.10.bias 1.9073486328125e-06\n",
      "\u001b[36m(launch_and_fit pid=6317)\u001b[0m network.12.weight 1.6689300537109375e-06\n",
      "\u001b[36m(launch_and_fit pid=6317)\u001b[0m network.12.bias 1.9073486328125e-06\n",
      "\u001b[36m(launch_and_fit pid=6317)\u001b[0m network.16.weight 1.9073486328125e-06\n",
      "\u001b[36m(launch_and_fit pid=6317)\u001b[0m network.16.bias 1.6689300537109375e-06\n",
      "\u001b[36m(launch_and_fit pid=6317)\u001b[0m network.18.weight 1.430511474609375e-06\n",
      "\u001b[36m(launch_and_fit pid=6317)\u001b[0m network.18.bias 1.430511474609375e-06\n",
      "\u001b[36m(launch_and_fit pid=6317)\u001b[0m network.20.weight 1.430511474609375e-06\n",
      "\u001b[36m(launch_and_fit pid=6317)\u001b[0m network.20.bias 1.430511474609375e-06\n",
      "\u001b[36m(launch_and_fit pid=6317)\u001b[0m qnn.weights 1.430511474609375e-06\n",
      "\u001b[36m(launch_and_fit pid=6317)\u001b[0m fc4.weight 1.9073486328125e-06\n",
      "\u001b[36m(launch_and_fit pid=6317)\u001b[0m fc4.bias 1.430511474609375e-06\n",
      "\u001b[36m(launch_and_fit pid=6397)\u001b[0m Run with homomorphic encryption\n",
      "\u001b[36m(launch_and_fit pid=6315)\u001b[0m save graph in  results/FL/\n",
      "\u001b[36m(launch_and_fit pid=6315)\u001b[0m \tTrain Epoch: 10 \tTrain_loss: 0.6801 | Train_acc: 79.9653 % | Validation_loss: 1.4249 | Validation_acc: 51.7578 %\n",
      "\u001b[36m(launch_and_fit pid=6315)\u001b[0m fc4.bias 1.6689300537109375e-06\u001b[32m [repeated 20x across cluster]\u001b[0m\n",
      "\u001b[36m(launch_and_fit pid=6315)\u001b[0m qnn.weights 1.6689300537109375e-06\n",
      "\u001b[36m(launch_and_fit pid=6397)\u001b[0m [Client 8, round 8] fit, config: {'learning_rate': 0.001, 'batch_size': '128', 'server_round': 8, 'local_epochs': 10}\n"
     ]
    },
    {
     "name": "stderr",
     "output_type": "stream",
     "text": [
      "  0%|\u001b[34m          \u001b[0m| 0/10 [00:00<?, ?it/s]\n",
      "100%|\u001b[34m██████████\u001b[0m| 10/10 [00:59<00:00,  5.98s/it]\n"
     ]
    },
    {
     "name": "stdout",
     "output_type": "stream",
     "text": [
      "\u001b[36m(launch_and_fit pid=6397)\u001b[0m Updated model\n"
     ]
    },
    {
     "name": "stderr",
     "output_type": "stream",
     "text": [
      " 10%|\u001b[34m█         \u001b[0m| 1/10 [00:06<00:55,  6.21s/it]\n",
      "  0%|\u001b[34m          \u001b[0m| 0/10 [00:00<?, ?it/s]\n"
     ]
    },
    {
     "name": "stdout",
     "output_type": "stream",
     "text": [
      "\u001b[36m(launch_and_fit pid=6397)\u001b[0m \tTrain Epoch: 1 \tTrain_loss: 1.3515 | Train_acc: 51.7318 % | Validation_loss: 1.4025 | Validation_acc: 48.2624 %\n",
      "\u001b[36m(launch_and_fit pid=6422)\u001b[0m Run with homomorphic encryption\n",
      "\u001b[36m(launch_and_fit pid=6422)\u001b[0m [Client 9, round 8] fit, config: {'learning_rate': 0.001, 'batch_size': '128', 'server_round': 8, 'local_epochs': 10}\n",
      "\u001b[36m(launch_and_fit pid=6422)\u001b[0m Updated model\n"
     ]
    },
    {
     "name": "stderr",
     "output_type": "stream",
     "text": [
      " 20%|\u001b[34m██        \u001b[0m| 2/10 [00:11<00:46,  5.81s/it]\u001b[32m [repeated 2x across cluster]\u001b[0m\n"
     ]
    },
    {
     "name": "stdout",
     "output_type": "stream",
     "text": [
      "\u001b[36m(launch_and_fit pid=6397)\u001b[0m \tTrain Epoch: 2 \tTrain_loss: 1.1894 | Train_acc: 58.6849 % | Validation_loss: 1.4244 | Validation_acc: 45.9927 %\u001b[32m [repeated 2x across cluster]\u001b[0m\n"
     ]
    },
    {
     "name": "stderr",
     "output_type": "stream",
     "text": [
      " 30%|\u001b[34m███       \u001b[0m| 3/10 [00:17<00:40,  5.77s/it]\u001b[32m [repeated 2x across cluster]\u001b[0m\n"
     ]
    },
    {
     "name": "stdout",
     "output_type": "stream",
     "text": [
      "\u001b[36m(launch_and_fit pid=6397)\u001b[0m \tTrain Epoch: 3 \tTrain_loss: 1.0750 | Train_acc: 61.9792 % | Validation_loss: 1.3631 | Validation_acc: 50.3906 %\u001b[32m [repeated 2x across cluster]\u001b[0m\n"
     ]
    },
    {
     "name": "stderr",
     "output_type": "stream",
     "text": [
      " 40%|\u001b[34m████      \u001b[0m| 4/10 [00:23<00:35,  5.91s/it]\u001b[32m [repeated 2x across cluster]\u001b[0m\n"
     ]
    },
    {
     "name": "stdout",
     "output_type": "stream",
     "text": [
      "\u001b[36m(launch_and_fit pid=6397)\u001b[0m \tTrain Epoch: 4 \tTrain_loss: 0.9886 | Train_acc: 66.6840 % | Validation_loss: 1.3979 | Validation_acc: 48.5924 %\u001b[32m [repeated 2x across cluster]\u001b[0m\n"
     ]
    },
    {
     "name": "stderr",
     "output_type": "stream",
     "text": [
      " 50%|\u001b[34m█████     \u001b[0m| 5/10 [00:29<00:29,  5.98s/it]\u001b[32m [repeated 2x across cluster]\u001b[0m\n"
     ]
    },
    {
     "name": "stdout",
     "output_type": "stream",
     "text": [
      "\u001b[36m(launch_and_fit pid=6397)\u001b[0m \tTrain Epoch: 5 \tTrain_loss: 0.9181 | Train_acc: 69.9219 % | Validation_loss: 1.4308 | Validation_acc: 50.9766 %\u001b[32m [repeated 2x across cluster]\u001b[0m\n"
     ]
    },
    {
     "name": "stderr",
     "output_type": "stream",
     "text": [
      " 60%|\u001b[34m██████    \u001b[0m| 6/10 [00:35<00:23,  5.87s/it]\u001b[32m [repeated 2x across cluster]\u001b[0m\n"
     ]
    },
    {
     "name": "stdout",
     "output_type": "stream",
     "text": [
      "\u001b[36m(launch_and_fit pid=6397)\u001b[0m \tTrain Epoch: 6 \tTrain_loss: 0.8714 | Train_acc: 71.7318 % | Validation_loss: 1.4126 | Validation_acc: 47.4407 %\u001b[32m [repeated 2x across cluster]\u001b[0m\n"
     ]
    },
    {
     "name": "stderr",
     "output_type": "stream",
     "text": [
      " 70%|\u001b[34m███████   \u001b[0m| 7/10 [00:41<00:17,  5.81s/it]\u001b[32m [repeated 2x across cluster]\u001b[0m\n"
     ]
    },
    {
     "name": "stdout",
     "output_type": "stream",
     "text": [
      "\u001b[36m(launch_and_fit pid=6397)\u001b[0m \tTrain Epoch: 7 \tTrain_loss: 0.8483 | Train_acc: 72.0747 % | Validation_loss: 1.3927 | Validation_acc: 48.8281 %\u001b[32m [repeated 2x across cluster]\u001b[0m\n"
     ]
    },
    {
     "name": "stderr",
     "output_type": "stream",
     "text": [
      " 80%|\u001b[34m████████  \u001b[0m| 8/10 [00:46<00:11,  5.80s/it]\u001b[32m [repeated 2x across cluster]\u001b[0m\n"
     ]
    },
    {
     "name": "stdout",
     "output_type": "stream",
     "text": [
      "\u001b[36m(launch_and_fit pid=6397)\u001b[0m \tTrain Epoch: 8 \tTrain_loss: 0.7739 | Train_acc: 75.1476 % | Validation_loss: 1.3943 | Validation_acc: 52.4448 %\u001b[32m [repeated 2x across cluster]\u001b[0m\n"
     ]
    },
    {
     "name": "stderr",
     "output_type": "stream",
     "text": [
      " 90%|\u001b[34m█████████ \u001b[0m| 9/10 [00:52<00:05,  5.79s/it]\u001b[32m [repeated 2x across cluster]\u001b[0m\n"
     ]
    },
    {
     "name": "stdout",
     "output_type": "stream",
     "text": [
      "\u001b[36m(launch_and_fit pid=6397)\u001b[0m \tTrain Epoch: 9 \tTrain_loss: 0.7502 | Train_acc: 76.1675 % | Validation_loss: 1.4037 | Validation_acc: 49.9461 %\u001b[32m [repeated 2x across cluster]\u001b[0m\n"
     ]
    },
    {
     "name": "stderr",
     "output_type": "stream",
     "text": [
      "100%|\u001b[34m██████████\u001b[0m| 10/10 [00:58<00:00,  5.85s/it]\u001b[32m [repeated 2x across cluster]\u001b[0m\n"
     ]
    },
    {
     "name": "stdout",
     "output_type": "stream",
     "text": [
      "\u001b[36m(launch_and_fit pid=6397)\u001b[0m save graph in  results/FL/\n",
      "\u001b[36m(launch_and_fit pid=6397)\u001b[0m \tTrain Epoch: 10 \tTrain_loss: 0.6959 | Train_acc: 78.7326 % | Validation_loss: 1.4222 | Validation_acc: 51.0170 %\u001b[32m [repeated 2x across cluster]\u001b[0m\n",
      "\u001b[36m(launch_and_fit pid=6397)\u001b[0m network.0.weight 5.7220458984375e-06\n",
      "\u001b[36m(launch_and_fit pid=6397)\u001b[0m network.0.bias 1.9073486328125e-06\n",
      "\u001b[36m(launch_and_fit pid=6397)\u001b[0m network.2.weight 1.1920928955078125e-06\n",
      "\u001b[36m(launch_and_fit pid=6397)\u001b[0m network.2.bias 1.1920928955078125e-06\n",
      "\u001b[36m(launch_and_fit pid=6397)\u001b[0m network.5.weight 2.1457672119140625e-06\n",
      "\u001b[36m(launch_and_fit pid=6397)\u001b[0m network.5.bias 2.1457672119140625e-06\n",
      "\u001b[36m(launch_and_fit pid=6397)\u001b[0m network.7.weight 1.1920928955078125e-06\n",
      "\u001b[36m(launch_and_fit pid=6397)\u001b[0m network.7.bias 9.5367431640625e-07\n",
      "\u001b[36m(launch_and_fit pid=6397)\u001b[0m network.10.weight 1.430511474609375e-06\n",
      "\u001b[36m(launch_and_fit pid=6397)\u001b[0m network.10.bias 1.1920928955078125e-06\n",
      "\u001b[36m(launch_and_fit pid=6397)\u001b[0m network.12.weight 1.430511474609375e-06\n",
      "\u001b[36m(launch_and_fit pid=6397)\u001b[0m network.12.bias 1.430511474609375e-06\n",
      "\u001b[36m(launch_and_fit pid=6397)\u001b[0m network.16.weight 9.5367431640625e-07\n",
      "\u001b[36m(launch_and_fit pid=6397)\u001b[0m network.16.bias 1.1920928955078125e-06\n",
      "\u001b[36m(launch_and_fit pid=6397)\u001b[0m network.18.weight 1.430511474609375e-06\n",
      "\u001b[36m(launch_and_fit pid=6397)\u001b[0m network.18.bias 1.430511474609375e-06\n",
      "\u001b[36m(launch_and_fit pid=6397)\u001b[0m network.20.weight 1.430511474609375e-06\n",
      "\u001b[36m(launch_and_fit pid=6397)\u001b[0m network.20.bias 1.1920928955078125e-06\n",
      "\u001b[36m(launch_and_fit pid=6397)\u001b[0m qnn.weights 1.1920928955078125e-06\n",
      "\u001b[36m(launch_and_fit pid=6397)\u001b[0m fc4.weight 1.430511474609375e-06\n",
      "\u001b[36m(launch_and_fit pid=6397)\u001b[0m fc4.bias 1.430511474609375e-06\n",
      "\u001b[36m(launch_and_fit pid=6479)\u001b[0m Run with homomorphic encryption\n",
      "\u001b[36m(launch_and_fit pid=6422)\u001b[0m save graph in  results/FL/\n",
      "\u001b[36m(launch_and_fit pid=6422)\u001b[0m \tTrain Epoch: 10 \tTrain_loss: 0.6951 | Train_acc: 78.1641 % | Validation_loss: 1.4079 | Validation_acc: 50.7408 %\n",
      "\u001b[36m(launch_and_fit pid=6422)\u001b[0m fc4.bias 1.430511474609375e-06\u001b[32m [repeated 20x across cluster]\u001b[0m\n",
      "\u001b[36m(launch_and_fit pid=6422)\u001b[0m qnn.weights 9.5367431640625e-07\n",
      "\u001b[36m(launch_and_fit pid=6479)\u001b[0m [Client 2, round 8] fit, config: {'learning_rate': 0.001, 'batch_size': '128', 'server_round': 8, 'local_epochs': 10}\n"
     ]
    },
    {
     "name": "stderr",
     "output_type": "stream",
     "text": [
      "  0%|\u001b[34m          \u001b[0m| 0/10 [00:00<?, ?it/s]\n",
      "100%|\u001b[34m██████████\u001b[0m| 10/10 [00:58<00:00,  5.86s/it]\n"
     ]
    },
    {
     "name": "stdout",
     "output_type": "stream",
     "text": [
      "\u001b[36m(launch_and_fit pid=6479)\u001b[0m Updated model\n"
     ]
    },
    {
     "name": "stderr",
     "output_type": "stream",
     "text": [
      " 10%|\u001b[34m█         \u001b[0m| 1/10 [00:06<00:57,  6.37s/it]\n",
      "  0%|\u001b[34m          \u001b[0m| 0/10 [00:00<?, ?it/s]\n"
     ]
    },
    {
     "name": "stdout",
     "output_type": "stream",
     "text": [
      "\u001b[36m(launch_and_fit pid=6479)\u001b[0m \tTrain Epoch: 1 \tTrain_loss: 1.3093 | Train_acc: 53.3030 % | Validation_loss: 1.3891 | Validation_acc: 48.9022 %\n",
      "\u001b[36m(launch_and_fit pid=6489)\u001b[0m Run with homomorphic encryption\n",
      "\u001b[36m(launch_and_fit pid=6489)\u001b[0m [Client 5, round 8] fit, config: {'learning_rate': 0.001, 'batch_size': '128', 'server_round': 8, 'local_epochs': 10}\n",
      "\u001b[36m(launch_and_fit pid=6489)\u001b[0m Updated model\n"
     ]
    },
    {
     "name": "stderr",
     "output_type": "stream",
     "text": [
      " 20%|\u001b[34m██        \u001b[0m| 2/10 [00:12<00:48,  6.00s/it]\u001b[32m [repeated 2x across cluster]\u001b[0m\n"
     ]
    },
    {
     "name": "stdout",
     "output_type": "stream",
     "text": [
      "\u001b[36m(launch_and_fit pid=6479)\u001b[0m \tTrain Epoch: 2 \tTrain_loss: 1.1336 | Train_acc: 59.6875 % | Validation_loss: 1.4192 | Validation_acc: 48.9830 %\u001b[32m [repeated 2x across cluster]\u001b[0m\n"
     ]
    },
    {
     "name": "stderr",
     "output_type": "stream",
     "text": [
      " 30%|\u001b[34m███       \u001b[0m| 3/10 [00:17<00:41,  5.90s/it]\u001b[32m [repeated 2x across cluster]\u001b[0m\n"
     ]
    },
    {
     "name": "stdout",
     "output_type": "stream",
     "text": [
      "\u001b[36m(launch_and_fit pid=6479)\u001b[0m \tTrain Epoch: 3 \tTrain_loss: 1.0344 | Train_acc: 64.3446 % | Validation_loss: 1.4506 | Validation_acc: 47.1646 %\u001b[32m [repeated 2x across cluster]\u001b[0m\n"
     ]
    },
    {
     "name": "stderr",
     "output_type": "stream",
     "text": [
      " 40%|\u001b[34m████      \u001b[0m| 4/10 [00:24<00:37,  6.17s/it]\u001b[32m [repeated 2x across cluster]\u001b[0m\n"
     ]
    },
    {
     "name": "stdout",
     "output_type": "stream",
     "text": [
      "\u001b[36m(launch_and_fit pid=6479)\u001b[0m \tTrain Epoch: 4 \tTrain_loss: 0.9453 | Train_acc: 67.8733 % | Validation_loss: 1.4343 | Validation_acc: 48.0065 %\u001b[32m [repeated 2x across cluster]\u001b[0m\n"
     ]
    },
    {
     "name": "stderr",
     "output_type": "stream",
     "text": [
      " 50%|\u001b[34m█████     \u001b[0m| 5/10 [00:30<00:30,  6.06s/it]\u001b[32m [repeated 2x across cluster]\u001b[0m\n"
     ]
    },
    {
     "name": "stdout",
     "output_type": "stream",
     "text": [
      "\u001b[36m(launch_and_fit pid=6479)\u001b[0m \tTrain Epoch: 5 \tTrain_loss: 0.8894 | Train_acc: 69.6832 % | Validation_loss: 1.4673 | Validation_acc: 47.3801 %\u001b[32m [repeated 2x across cluster]\u001b[0m\n"
     ]
    },
    {
     "name": "stderr",
     "output_type": "stream",
     "text": [
      " 60%|\u001b[34m██████    \u001b[0m| 6/10 [00:36<00:24,  6.03s/it]\u001b[32m [repeated 2x across cluster]\u001b[0m\n"
     ]
    },
    {
     "name": "stdout",
     "output_type": "stream",
     "text": [
      "\u001b[36m(launch_and_fit pid=6479)\u001b[0m \tTrain Epoch: 6 \tTrain_loss: 0.8659 | Train_acc: 72.0052 % | Validation_loss: 1.4928 | Validation_acc: 48.8079 %\u001b[32m [repeated 2x across cluster]\u001b[0m\n"
     ]
    },
    {
     "name": "stderr",
     "output_type": "stream",
     "text": [
      " 70%|\u001b[34m███████   \u001b[0m| 7/10 [00:42<00:17,  5.99s/it]\u001b[32m [repeated 2x across cluster]\u001b[0m\n"
     ]
    },
    {
     "name": "stdout",
     "output_type": "stream",
     "text": [
      "\u001b[36m(launch_and_fit pid=6479)\u001b[0m \tTrain Epoch: 7 \tTrain_loss: 0.7959 | Train_acc: 74.4922 % | Validation_loss: 1.4251 | Validation_acc: 49.9394 %\u001b[32m [repeated 2x across cluster]\u001b[0m\n"
     ]
    },
    {
     "name": "stderr",
     "output_type": "stream",
     "text": [
      " 80%|\u001b[34m████████  \u001b[0m| 8/10 [00:48<00:11,  5.95s/it]\u001b[32m [repeated 2x across cluster]\u001b[0m\n"
     ]
    },
    {
     "name": "stdout",
     "output_type": "stream",
     "text": [
      "\u001b[36m(launch_and_fit pid=6479)\u001b[0m \tTrain Epoch: 8 \tTrain_loss: 0.7350 | Train_acc: 76.9358 % | Validation_loss: 1.4308 | Validation_acc: 50.1953 %\u001b[32m [repeated 2x across cluster]\u001b[0m\n"
     ]
    },
    {
     "name": "stderr",
     "output_type": "stream",
     "text": [
      " 90%|\u001b[34m█████████ \u001b[0m| 9/10 [00:54<00:06,  6.01s/it]\u001b[32m [repeated 2x across cluster]\u001b[0m\n"
     ]
    },
    {
     "name": "stdout",
     "output_type": "stream",
     "text": [
      "\u001b[36m(launch_and_fit pid=6479)\u001b[0m \tTrain Epoch: 9 \tTrain_loss: 0.6987 | Train_acc: 78.4115 % | Validation_loss: 1.4344 | Validation_acc: 50.6263 %\u001b[32m [repeated 2x across cluster]\u001b[0m\n"
     ]
    },
    {
     "name": "stderr",
     "output_type": "stream",
     "text": [
      "100%|\u001b[34m██████████\u001b[0m| 10/10 [01:00<00:00,  6.01s/it]\u001b[32m [repeated 2x across cluster]\u001b[0m\n"
     ]
    },
    {
     "name": "stdout",
     "output_type": "stream",
     "text": [
      "\u001b[36m(launch_and_fit pid=6479)\u001b[0m save graph in  results/FL/\n",
      "\u001b[36m(launch_and_fit pid=6479)\u001b[0m \tTrain Epoch: 10 \tTrain_loss: 0.6799 | Train_acc: 79.6875 % | Validation_loss: 1.4593 | Validation_acc: 49.4343 %\u001b[32m [repeated 2x across cluster]\u001b[0m\n",
      "\u001b[36m(launch_and_fit pid=6479)\u001b[0m network.0.weight 4.76837158203125e-06\n",
      "\u001b[36m(launch_and_fit pid=6479)\u001b[0m network.0.bias 1.1920928955078125e-06\n",
      "\u001b[36m(launch_and_fit pid=6479)\u001b[0m network.2.weight 1.430511474609375e-06\n",
      "\u001b[36m(launch_and_fit pid=6479)\u001b[0m network.2.bias 1.1920928955078125e-06\n",
      "\u001b[36m(launch_and_fit pid=6479)\u001b[0m network.5.weight 1.1920928955078125e-06\n",
      "\u001b[36m(launch_and_fit pid=6479)\u001b[0m network.5.bias 1.430511474609375e-06\n",
      "\u001b[36m(launch_and_fit pid=6479)\u001b[0m network.7.weight 9.5367431640625e-07\n",
      "\u001b[36m(launch_and_fit pid=6479)\u001b[0m network.7.bias 9.5367431640625e-07\n",
      "\u001b[36m(launch_and_fit pid=6479)\u001b[0m network.10.weight 1.430511474609375e-06\n",
      "\u001b[36m(launch_and_fit pid=6479)\u001b[0m network.10.bias 9.5367431640625e-07\n",
      "\u001b[36m(launch_and_fit pid=6479)\u001b[0m network.12.weight 9.5367431640625e-07\n",
      "\u001b[36m(launch_and_fit pid=6479)\u001b[0m network.12.bias 1.430511474609375e-06\n",
      "\u001b[36m(launch_and_fit pid=6479)\u001b[0m network.16.weight 9.5367431640625e-07\n",
      "\u001b[36m(launch_and_fit pid=6479)\u001b[0m network.16.bias 9.5367431640625e-07\n",
      "\u001b[36m(launch_and_fit pid=6479)\u001b[0m network.18.weight 9.5367431640625e-07\n",
      "\u001b[36m(launch_and_fit pid=6479)\u001b[0m network.18.bias 9.5367431640625e-07\n",
      "\u001b[36m(launch_and_fit pid=6479)\u001b[0m network.20.weight 1.1920928955078125e-06\n",
      "\u001b[36m(launch_and_fit pid=6479)\u001b[0m network.20.bias 1.1920928955078125e-06\n",
      "\u001b[36m(launch_and_fit pid=6479)\u001b[0m qnn.weights 9.5367431640625e-07\n",
      "\u001b[36m(launch_and_fit pid=6479)\u001b[0m fc4.weight 9.5367431640625e-07\n",
      "\u001b[36m(launch_and_fit pid=6479)\u001b[0m fc4.bias 1.430511474609375e-06\n"
     ]
    },
    {
     "name": "stderr",
     "output_type": "stream",
     "text": [
      "DEBUG flwr 2024-07-20 19:24:10,465 | server.py:236 | fit_round 8 received 10 results and 0 failures\n"
     ]
    },
    {
     "name": "stdout",
     "output_type": "stream",
     "text": [
      "Saving round 8 aggregated_parameters...\n"
     ]
    },
    {
     "name": "stderr",
     "output_type": "stream",
     "text": [
      "DEBUG flwr 2024-07-20 19:24:11,445 | server.py:173 | evaluate_round 8: strategy sampled 10 clients (out of 10)\n"
     ]
    },
    {
     "name": "stdout",
     "output_type": "stream",
     "text": [
      "\u001b[36m(launch_and_evaluate pid=6571)\u001b[0m Run with homomorphic encryption\n",
      "\u001b[36m(launch_and_fit pid=6489)\u001b[0m save graph in  results/FL/\n",
      "\u001b[36m(launch_and_fit pid=6489)\u001b[0m \tTrain Epoch: 10 \tTrain_loss: 0.7381 | Train_acc: 76.7057 % | Validation_loss: 1.3012 | Validation_acc: 55.8863 %\n",
      "\u001b[36m(launch_and_fit pid=6489)\u001b[0m fc4.bias 9.5367431640625e-07\u001b[32m [repeated 20x across cluster]\u001b[0m\n",
      "\u001b[36m(launch_and_fit pid=6489)\u001b[0m qnn.weights 9.5367431640625e-07\n",
      "\u001b[36m(launch_and_evaluate pid=6571)\u001b[0m [Client 8] evaluate, config: {}\n",
      "\u001b[36m(launch_and_evaluate pid=6571)\u001b[0m Updated model\n",
      "\u001b[36m(launch_and_evaluate pid=6596)\u001b[0m Run with homomorphic encryption\n",
      "\u001b[36m(launch_and_evaluate pid=6596)\u001b[0m [Client 4] evaluate, config: {}\n",
      "\u001b[36m(launch_and_evaluate pid=6649)\u001b[0m Run with homomorphic encryption\n",
      "\u001b[36m(launch_and_evaluate pid=6596)\u001b[0m Updated model\n",
      "\u001b[36m(launch_and_evaluate pid=6649)\u001b[0m [Client 7] evaluate, config: {}\n",
      "\u001b[36m(launch_and_evaluate pid=6649)\u001b[0m Updated model\n",
      "\u001b[36m(launch_and_evaluate pid=6674)\u001b[0m Run with homomorphic encryption\n",
      "\u001b[36m(launch_and_evaluate pid=6674)\u001b[0m [Client 5] evaluate, config: {}\n",
      "\u001b[36m(launch_and_evaluate pid=6727)\u001b[0m Run with homomorphic encryption\n",
      "\u001b[36m(launch_and_evaluate pid=6674)\u001b[0m Updated model\n",
      "\u001b[36m(launch_and_evaluate pid=6727)\u001b[0m [Client 6] evaluate, config: {}\n",
      "\u001b[36m(launch_and_evaluate pid=6727)\u001b[0m Updated model\n",
      "\u001b[36m(launch_and_evaluate pid=6752)\u001b[0m Run with homomorphic encryption\n",
      "\u001b[36m(launch_and_evaluate pid=6752)\u001b[0m [Client 9] evaluate, config: {}\n",
      "\u001b[36m(launch_and_evaluate pid=6806)\u001b[0m Run with homomorphic encryption\n",
      "\u001b[36m(launch_and_evaluate pid=6752)\u001b[0m Updated model\n",
      "\u001b[36m(launch_and_evaluate pid=6806)\u001b[0m [Client 0] evaluate, config: {}\n",
      "\u001b[36m(launch_and_evaluate pid=6806)\u001b[0m Updated model\n",
      "\u001b[36m(launch_and_evaluate pid=6831)\u001b[0m Run with homomorphic encryption\n",
      "\u001b[36m(launch_and_evaluate pid=6884)\u001b[0m Run with homomorphic encryption\n",
      "\u001b[36m(launch_and_evaluate pid=6831)\u001b[0m [Client 1] evaluate, config: {}\n",
      "\u001b[36m(launch_and_evaluate pid=6831)\u001b[0m Updated model\n",
      "\u001b[36m(launch_and_evaluate pid=6884)\u001b[0m [Client 2] evaluate, config: {}\n",
      "\u001b[36m(launch_and_evaluate pid=6884)\u001b[0m Updated model\n",
      "\u001b[36m(launch_and_evaluate pid=6909)\u001b[0m Run with homomorphic encryption\n",
      "\u001b[36m(launch_and_evaluate pid=6909)\u001b[0m [Client 3] evaluate, config: {}\n"
     ]
    },
    {
     "name": "stderr",
     "output_type": "stream",
     "text": [
      "DEBUG flwr 2024-07-20 19:25:40,918 | server.py:187 | evaluate_round 8 received 10 results and 0 failures\n",
      "DEBUG flwr 2024-07-20 19:25:40,922 | server.py:222 | fit_round 9: strategy sampled 10 clients (out of 10)\n"
     ]
    },
    {
     "name": "stdout",
     "output_type": "stream",
     "text": [
      "\u001b[36m(launch_and_fit pid=6971)\u001b[0m Run with homomorphic encryption\n",
      "\u001b[36m(launch_and_evaluate pid=6909)\u001b[0m Updated model\n",
      "\u001b[36m(launch_and_fit pid=6971)\u001b[0m [Client 9, round 9] fit, config: {'learning_rate': 0.001, 'batch_size': '128', 'server_round': 9, 'local_epochs': 10}\n",
      "\u001b[36m(launch_and_fit pid=6971)\u001b[0m Updated model\n"
     ]
    },
    {
     "name": "stderr",
     "output_type": "stream",
     "text": [
      "  0%|\u001b[34m          \u001b[0m| 0/10 [00:00<?, ?it/s]\n",
      "100%|\u001b[34m██████████\u001b[0m| 10/10 [01:00<00:00,  6.03s/it]\n"
     ]
    },
    {
     "name": "stdout",
     "output_type": "stream",
     "text": [
      "\u001b[36m(launch_and_fit pid=6971)\u001b[0m \tTrain Epoch: 1 \tTrain_loss: 1.2308 | Train_acc: 56.6363 % | Validation_loss: 1.3640 | Validation_acc: 55.1994 %\n",
      "\u001b[36m(launch_and_fit pid=6995)\u001b[0m Run with homomorphic encryption\n",
      "\u001b[36m(launch_and_fit pid=6995)\u001b[0m [Client 1, round 9] fit, config: {'learning_rate': 0.001, 'batch_size': '128', 'server_round': 9, 'local_epochs': 10}\n",
      "\u001b[36m(launch_and_fit pid=6995)\u001b[0m Updated model\n"
     ]
    },
    {
     "name": "stderr",
     "output_type": "stream",
     "text": [
      " 10%|\u001b[34m█         \u001b[0m| 1/10 [00:06<00:59,  6.60s/it]\n",
      "  0%|\u001b[34m          \u001b[0m| 0/10 [00:00<?, ?it/s]\n"
     ]
    },
    {
     "name": "stdout",
     "output_type": "stream",
     "text": [
      "\u001b[36m(launch_and_fit pid=6971)\u001b[0m \tTrain Epoch: 2 \tTrain_loss: 1.0210 | Train_acc: 63.8889 % | Validation_loss: 1.2981 | Validation_acc: 56.0412 %\u001b[32m [repeated 2x across cluster]\u001b[0m\n"
     ]
    },
    {
     "name": "stderr",
     "output_type": "stream",
     "text": [
      " 20%|\u001b[34m██        \u001b[0m| 2/10 [00:12<00:50,  6.34s/it]\u001b[32m [repeated 2x across cluster]\u001b[0m\n"
     ]
    },
    {
     "name": "stdout",
     "output_type": "stream",
     "text": [
      "\u001b[36m(launch_and_fit pid=6971)\u001b[0m \tTrain Epoch: 3 \tTrain_loss: 0.9002 | Train_acc: 68.9280 % | Validation_loss: 1.3281 | Validation_acc: 56.1961 %\u001b[32m [repeated 2x across cluster]\u001b[0m\n"
     ]
    },
    {
     "name": "stderr",
     "output_type": "stream",
     "text": [
      " 30%|\u001b[34m███       \u001b[0m| 3/10 [00:18<00:43,  6.15s/it]\u001b[32m [repeated 2x across cluster]\u001b[0m\n"
     ]
    },
    {
     "name": "stdout",
     "output_type": "stream",
     "text": [
      "\u001b[36m(launch_and_fit pid=6971)\u001b[0m \tTrain Epoch: 4 \tTrain_loss: 0.8317 | Train_acc: 72.1441 % | Validation_loss: 1.3160 | Validation_acc: 57.4825 %\u001b[32m [repeated 2x across cluster]\u001b[0m\n"
     ]
    },
    {
     "name": "stderr",
     "output_type": "stream",
     "text": [
      " 40%|\u001b[34m████      \u001b[0m| 4/10 [00:24<00:36,  6.06s/it]\u001b[32m [repeated 2x across cluster]\u001b[0m\n"
     ]
    },
    {
     "name": "stdout",
     "output_type": "stream",
     "text": [
      "\u001b[36m(launch_and_fit pid=6971)\u001b[0m \tTrain Epoch: 5 \tTrain_loss: 0.7604 | Train_acc: 74.7700 % | Validation_loss: 1.3296 | Validation_acc: 55.7247 %\u001b[32m [repeated 2x across cluster]\u001b[0m\n"
     ]
    },
    {
     "name": "stderr",
     "output_type": "stream",
     "text": [
      " 50%|\u001b[34m█████     \u001b[0m| 5/10 [00:30<00:30,  6.00s/it]\u001b[32m [repeated 2x across cluster]\u001b[0m\n"
     ]
    },
    {
     "name": "stdout",
     "output_type": "stream",
     "text": [
      "\u001b[36m(launch_and_fit pid=6971)\u001b[0m \tTrain Epoch: 6 \tTrain_loss: 0.7279 | Train_acc: 76.6580 % | Validation_loss: 1.3609 | Validation_acc: 54.5326 %\u001b[32m [repeated 2x across cluster]\u001b[0m\n"
     ]
    },
    {
     "name": "stderr",
     "output_type": "stream",
     "text": [
      " 60%|\u001b[34m██████    \u001b[0m| 6/10 [00:36<00:24,  6.06s/it]\u001b[32m [repeated 2x across cluster]\u001b[0m\n"
     ]
    },
    {
     "name": "stdout",
     "output_type": "stream",
     "text": [
      "\u001b[36m(launch_and_fit pid=6971)\u001b[0m \tTrain Epoch: 7 \tTrain_loss: 0.7061 | Train_acc: 78.3290 % | Validation_loss: 1.3378 | Validation_acc: 56.7821 %\u001b[32m [repeated 2x across cluster]\u001b[0m\n"
     ]
    },
    {
     "name": "stderr",
     "output_type": "stream",
     "text": [
      " 70%|\u001b[34m███████   \u001b[0m| 7/10 [00:42<00:18,  6.02s/it]\u001b[32m [repeated 2x across cluster]\u001b[0m\n"
     ]
    },
    {
     "name": "stdout",
     "output_type": "stream",
     "text": [
      "\u001b[36m(launch_and_fit pid=6971)\u001b[0m \tTrain Epoch: 8 \tTrain_loss: 0.6695 | Train_acc: 78.8064 % | Validation_loss: 1.3430 | Validation_acc: 55.1791 %\u001b[32m [repeated 2x across cluster]\u001b[0m\n"
     ]
    },
    {
     "name": "stderr",
     "output_type": "stream",
     "text": [
      " 80%|\u001b[34m████████  \u001b[0m| 8/10 [00:48<00:12,  6.01s/it]\u001b[32m [repeated 2x across cluster]\u001b[0m\n"
     ]
    },
    {
     "name": "stdout",
     "output_type": "stream",
     "text": [
      "\u001b[36m(launch_and_fit pid=6971)\u001b[0m \tTrain Epoch: 9 \tTrain_loss: 0.6101 | Train_acc: 82.4479 % | Validation_loss: 1.2992 | Validation_acc: 56.2500 %\u001b[32m [repeated 2x across cluster]\u001b[0m\n"
     ]
    },
    {
     "name": "stderr",
     "output_type": "stream",
     "text": [
      " 90%|\u001b[34m█████████ \u001b[0m| 9/10 [00:54<00:05,  5.95s/it]\u001b[32m [repeated 2x across cluster]\u001b[0m\n"
     ]
    },
    {
     "name": "stdout",
     "output_type": "stream",
     "text": [
      "\u001b[36m(launch_and_fit pid=6971)\u001b[0m save graph in  results/FL/\n",
      "\u001b[36m(launch_and_fit pid=6971)\u001b[0m \tTrain Epoch: 10 \tTrain_loss: 0.5732 | Train_acc: 83.5200 % | Validation_loss: 1.3422 | Validation_acc: 54.4720 %\u001b[32m [repeated 2x across cluster]\u001b[0m\n"
     ]
    },
    {
     "name": "stderr",
     "output_type": "stream",
     "text": [
      "100%|\u001b[34m██████████\u001b[0m| 10/10 [01:00<00:00,  6.02s/it]\u001b[32m [repeated 2x across cluster]\u001b[0m\n"
     ]
    },
    {
     "name": "stdout",
     "output_type": "stream",
     "text": [
      "\u001b[36m(launch_and_fit pid=6971)\u001b[0m network.0.weight 4.5299530029296875e-06\n",
      "\u001b[36m(launch_and_fit pid=6971)\u001b[0m network.0.bias 1.1920928955078125e-06\n",
      "\u001b[36m(launch_and_fit pid=6971)\u001b[0m network.2.weight 1.1920928955078125e-06\n",
      "\u001b[36m(launch_and_fit pid=6971)\u001b[0m network.2.bias 9.5367431640625e-07\n",
      "\u001b[36m(launch_and_fit pid=6971)\u001b[0m network.5.weight 1.430511474609375e-06\n",
      "\u001b[36m(launch_and_fit pid=6971)\u001b[0m network.5.bias 9.5367431640625e-07\n",
      "\u001b[36m(launch_and_fit pid=6971)\u001b[0m network.7.weight 9.5367431640625e-07\n",
      "\u001b[36m(launch_and_fit pid=6971)\u001b[0m network.7.bias 1.430511474609375e-06\n",
      "\u001b[36m(launch_and_fit pid=6971)\u001b[0m network.10.weight 1.1920928955078125e-06\n",
      "\u001b[36m(launch_and_fit pid=6971)\u001b[0m network.10.bias 9.5367431640625e-07\n",
      "\u001b[36m(launch_and_fit pid=6971)\u001b[0m network.12.weight 9.5367431640625e-07\n",
      "\u001b[36m(launch_and_fit pid=6971)\u001b[0m network.12.bias 9.5367431640625e-07\n",
      "\u001b[36m(launch_and_fit pid=6971)\u001b[0m network.16.weight 1.1920928955078125e-06\n",
      "\u001b[36m(launch_and_fit pid=6971)\u001b[0m network.16.bias 1.430511474609375e-06\n",
      "\u001b[36m(launch_and_fit pid=6971)\u001b[0m network.18.weight 1.6689300537109375e-06\n",
      "\u001b[36m(launch_and_fit pid=6971)\u001b[0m network.18.bias 1.6689300537109375e-06\n",
      "\u001b[36m(launch_and_fit pid=6971)\u001b[0m network.20.weight 1.1920928955078125e-06\n",
      "\u001b[36m(launch_and_fit pid=6971)\u001b[0m network.20.bias 1.430511474609375e-06\n",
      "\u001b[36m(launch_and_fit pid=6971)\u001b[0m qnn.weights 1.1920928955078125e-06\n",
      "\u001b[36m(launch_and_fit pid=6971)\u001b[0m fc4.weight 1.430511474609375e-06\n",
      "\u001b[36m(launch_and_fit pid=6971)\u001b[0m fc4.bias 1.1920928955078125e-06\n",
      "\u001b[36m(launch_and_fit pid=7053)\u001b[0m Run with homomorphic encryption\n",
      "\u001b[36m(launch_and_fit pid=6995)\u001b[0m save graph in  results/FL/\n",
      "\u001b[36m(launch_and_fit pid=6995)\u001b[0m \tTrain Epoch: 10 \tTrain_loss: 0.5433 | Train_acc: 84.4227 % | Validation_loss: 1.3832 | Validation_acc: 54.5932 %\n",
      "\u001b[36m(launch_and_fit pid=6995)\u001b[0m fc4.bias 3.814697265625e-06\u001b[32m [repeated 20x across cluster]\u001b[0m\n",
      "\u001b[36m(launch_and_fit pid=6995)\u001b[0m qnn.weights 1.1920928955078125e-06\n",
      "\u001b[36m(launch_and_fit pid=7053)\u001b[0m [Client 4, round 9] fit, config: {'learning_rate': 0.001, 'batch_size': '128', 'server_round': 9, 'local_epochs': 10}\n",
      "\u001b[36m(launch_and_fit pid=7053)\u001b[0m Updated model\n"
     ]
    },
    {
     "name": "stderr",
     "output_type": "stream",
     "text": [
      "  0%|\u001b[34m          \u001b[0m| 0/10 [00:00<?, ?it/s]\n",
      "100%|\u001b[34m██████████\u001b[0m| 10/10 [01:00<00:00,  6.00s/it]\n",
      " 10%|\u001b[34m█         \u001b[0m| 1/10 [00:06<00:56,  6.27s/it]\n",
      "  0%|\u001b[34m          \u001b[0m| 0/10 [00:00<?, ?it/s]\n"
     ]
    },
    {
     "name": "stdout",
     "output_type": "stream",
     "text": [
      "\u001b[36m(launch_and_fit pid=7053)\u001b[0m \tTrain Epoch: 1 \tTrain_loss: 1.2136 | Train_acc: 56.4714 % | Validation_loss: 1.3601 | Validation_acc: 51.3874 %\n",
      "\u001b[36m(launch_and_fit pid=7078)\u001b[0m Run with homomorphic encryption\n",
      "\u001b[36m(launch_and_fit pid=7078)\u001b[0m [Client 7, round 9] fit, config: {'learning_rate': 0.001, 'batch_size': '128', 'server_round': 9, 'local_epochs': 10}\n",
      "\u001b[36m(launch_and_fit pid=7078)\u001b[0m Updated model\n"
     ]
    },
    {
     "name": "stderr",
     "output_type": "stream",
     "text": [
      " 20%|\u001b[34m██        \u001b[0m| 2/10 [00:12<00:47,  5.97s/it]\u001b[32m [repeated 2x across cluster]\u001b[0m\n"
     ]
    },
    {
     "name": "stdout",
     "output_type": "stream",
     "text": [
      "\u001b[36m(launch_and_fit pid=7053)\u001b[0m \tTrain Epoch: 2 \tTrain_loss: 1.0200 | Train_acc: 64.8481 % | Validation_loss: 1.3715 | Validation_acc: 52.5593 %\u001b[32m [repeated 2x across cluster]\u001b[0m\n",
      "\u001b[36m(launch_and_fit pid=7053)\u001b[0m \tTrain Epoch: 3 \tTrain_loss: 0.9054 | Train_acc: 69.4010 % | Validation_loss: 1.4029 | Validation_acc: 52.8960 %\u001b[32m [repeated 2x across cluster]\u001b[0m\n"
     ]
    },
    {
     "name": "stderr",
     "output_type": "stream",
     "text": [
      " 30%|\u001b[34m███       \u001b[0m| 3/10 [00:17<00:41,  5.95s/it]\u001b[32m [repeated 2x across cluster]\u001b[0m\n",
      " 40%|\u001b[34m████      \u001b[0m| 4/10 [00:24<00:36,  6.05s/it]\u001b[32m [repeated 2x across cluster]\u001b[0m\n"
     ]
    },
    {
     "name": "stdout",
     "output_type": "stream",
     "text": [
      "\u001b[36m(launch_and_fit pid=7053)\u001b[0m \tTrain Epoch: 4 \tTrain_loss: 0.8215 | Train_acc: 72.7734 % | Validation_loss: 1.3978 | Validation_acc: 52.0339 %\u001b[32m [repeated 2x across cluster]\u001b[0m\n"
     ]
    },
    {
     "name": "stderr",
     "output_type": "stream",
     "text": [
      " 50%|\u001b[34m█████     \u001b[0m| 5/10 [00:29<00:29,  5.95s/it]\u001b[32m [repeated 2x across cluster]\u001b[0m\n"
     ]
    },
    {
     "name": "stdout",
     "output_type": "stream",
     "text": [
      "\u001b[36m(launch_and_fit pid=7053)\u001b[0m \tTrain Epoch: 5 \tTrain_loss: 0.7568 | Train_acc: 75.9158 % | Validation_loss: 1.4091 | Validation_acc: 53.2866 %\u001b[32m [repeated 2x across cluster]\u001b[0m\n"
     ]
    },
    {
     "name": "stderr",
     "output_type": "stream",
     "text": [
      " 60%|\u001b[34m██████    \u001b[0m| 6/10 [00:35<00:23,  5.91s/it]\u001b[32m [repeated 2x across cluster]\u001b[0m\n"
     ]
    },
    {
     "name": "stdout",
     "output_type": "stream",
     "text": [
      "\u001b[36m(launch_and_fit pid=7053)\u001b[0m \tTrain Epoch: 6 \tTrain_loss: 0.7268 | Train_acc: 76.4497 % | Validation_loss: 1.3930 | Validation_acc: 55.5698 %\u001b[32m [repeated 2x across cluster]\u001b[0m\n"
     ]
    },
    {
     "name": "stderr",
     "output_type": "stream",
     "text": [
      " 70%|\u001b[34m███████   \u001b[0m| 7/10 [00:41<00:17,  5.92s/it]\u001b[32m [repeated 2x across cluster]\u001b[0m\n"
     ]
    },
    {
     "name": "stdout",
     "output_type": "stream",
     "text": [
      "\u001b[36m(launch_and_fit pid=7053)\u001b[0m \tTrain Epoch: 7 \tTrain_loss: 0.6730 | Train_acc: 78.4505 % | Validation_loss: 1.4383 | Validation_acc: 51.8386 %\u001b[32m [repeated 2x across cluster]\u001b[0m\n"
     ]
    },
    {
     "name": "stderr",
     "output_type": "stream",
     "text": [
      " 80%|\u001b[34m████████  \u001b[0m| 8/10 [00:47<00:11,  5.95s/it]\u001b[32m [repeated 2x across cluster]\u001b[0m\n"
     ]
    },
    {
     "name": "stdout",
     "output_type": "stream",
     "text": [
      "\u001b[36m(launch_and_fit pid=7053)\u001b[0m \tTrain Epoch: 8 \tTrain_loss: 0.6284 | Train_acc: 81.3238 % | Validation_loss: 1.4169 | Validation_acc: 55.5900 %\u001b[32m [repeated 2x across cluster]\u001b[0m\n"
     ]
    },
    {
     "name": "stderr",
     "output_type": "stream",
     "text": [
      " 90%|\u001b[34m█████████ \u001b[0m| 9/10 [00:53<00:05,  5.95s/it]\u001b[32m [repeated 2x across cluster]\u001b[0m\n"
     ]
    },
    {
     "name": "stdout",
     "output_type": "stream",
     "text": [
      "\u001b[36m(launch_and_fit pid=7053)\u001b[0m \tTrain Epoch: 9 \tTrain_loss: 0.6002 | Train_acc: 82.9297 % | Validation_loss: 1.3795 | Validation_acc: 56.4116 %\u001b[32m [repeated 2x across cluster]\u001b[0m\n"
     ]
    },
    {
     "name": "stderr",
     "output_type": "stream",
     "text": [
      "100%|\u001b[34m██████████\u001b[0m| 10/10 [00:59<00:00,  5.99s/it]\u001b[32m [repeated 2x across cluster]\u001b[0m\n"
     ]
    },
    {
     "name": "stdout",
     "output_type": "stream",
     "text": [
      "\u001b[36m(launch_and_fit pid=7053)\u001b[0m save graph in  results/FL/\n",
      "\u001b[36m(launch_and_fit pid=7053)\u001b[0m \tTrain Epoch: 10 \tTrain_loss: 0.5878 | Train_acc: 84.0017 % | Validation_loss: 1.4570 | Validation_acc: 55.1994 %\u001b[32m [repeated 2x across cluster]\u001b[0m\n",
      "\u001b[36m(launch_and_fit pid=7053)\u001b[0m network.0.weight 4.0531158447265625e-06\n",
      "\u001b[36m(launch_and_fit pid=7053)\u001b[0m network.0.bias 1.6689300537109375e-06\n",
      "\u001b[36m(launch_and_fit pid=7053)\u001b[0m network.2.weight 1.1920928955078125e-06\n",
      "\u001b[36m(launch_and_fit pid=7053)\u001b[0m network.2.bias 1.1920928955078125e-06\n",
      "\u001b[36m(launch_and_fit pid=7053)\u001b[0m network.5.weight 1.6689300537109375e-06\n",
      "\u001b[36m(launch_and_fit pid=7053)\u001b[0m network.5.bias 9.5367431640625e-07\n",
      "\u001b[36m(launch_and_fit pid=7053)\u001b[0m network.7.weight 1.1920928955078125e-06\n",
      "\u001b[36m(launch_and_fit pid=7053)\u001b[0m network.7.bias 1.1920928955078125e-06\n",
      "\u001b[36m(launch_and_fit pid=7053)\u001b[0m network.10.weight 1.1920928955078125e-06\n",
      "\u001b[36m(launch_and_fit pid=7053)\u001b[0m network.10.bias 1.1920928955078125e-06\n",
      "\u001b[36m(launch_and_fit pid=7053)\u001b[0m network.12.weight 1.430511474609375e-06\n",
      "\u001b[36m(launch_and_fit pid=7053)\u001b[0m network.12.bias 1.1920928955078125e-06\n",
      "\u001b[36m(launch_and_fit pid=7053)\u001b[0m network.16.weight 1.1920928955078125e-06\n",
      "\u001b[36m(launch_and_fit pid=7053)\u001b[0m network.16.bias 1.1920928955078125e-06\n",
      "\u001b[36m(launch_and_fit pid=7053)\u001b[0m network.18.weight 1.1920928955078125e-06\n",
      "\u001b[36m(launch_and_fit pid=7053)\u001b[0m network.18.bias 9.5367431640625e-07\n",
      "\u001b[36m(launch_and_fit pid=7053)\u001b[0m network.20.weight 1.1920928955078125e-06\n",
      "\u001b[36m(launch_and_fit pid=7053)\u001b[0m network.20.bias 9.5367431640625e-07\n",
      "\u001b[36m(launch_and_fit pid=7053)\u001b[0m qnn.weights 1.1920928955078125e-06\n",
      "\u001b[36m(launch_and_fit pid=7053)\u001b[0m fc4.weight 1.1920928955078125e-06\n",
      "\u001b[36m(launch_and_fit pid=7053)\u001b[0m fc4.bias 1.1920928955078125e-06\n",
      "\u001b[36m(launch_and_fit pid=7135)\u001b[0m Run with homomorphic encryption\n",
      "\u001b[36m(launch_and_fit pid=7078)\u001b[0m save graph in  results/FL/\n",
      "\u001b[36m(launch_and_fit pid=7078)\u001b[0m \tTrain Epoch: 10 \tTrain_loss: 0.6076 | Train_acc: 80.7031 % | Validation_loss: 1.1872 | Validation_acc: 57.2131 %\n",
      "\u001b[36m(launch_and_fit pid=7078)\u001b[0m fc4.bias 9.5367431640625e-07\u001b[32m [repeated 20x across cluster]\u001b[0m\n",
      "\u001b[36m(launch_and_fit pid=7078)\u001b[0m qnn.weights 1.1920928955078125e-06\n",
      "\u001b[36m(launch_and_fit pid=7135)\u001b[0m [Client 2, round 9] fit, config: {'learning_rate': 0.001, 'batch_size': '128', 'server_round': 9, 'local_epochs': 10}\n",
      "\u001b[36m(launch_and_fit pid=7135)\u001b[0m Updated model\n"
     ]
    },
    {
     "name": "stderr",
     "output_type": "stream",
     "text": [
      "  0%|\u001b[34m          \u001b[0m| 0/10 [00:00<?, ?it/s]\n",
      "100%|\u001b[34m██████████\u001b[0m| 10/10 [00:59<00:00,  5.96s/it]\n"
     ]
    },
    {
     "name": "stdout",
     "output_type": "stream",
     "text": [
      "\u001b[36m(launch_and_fit pid=7135)\u001b[0m \tTrain Epoch: 1 \tTrain_loss: 1.2007 | Train_acc: 58.7196 % | Validation_loss: 1.3271 | Validation_acc: 55.3543 %\n",
      "\u001b[36m(launch_and_fit pid=7160)\u001b[0m Run with homomorphic encryption\n",
      "\u001b[36m(launch_and_fit pid=7160)\u001b[0m [Client 0, round 9] fit, config: {'learning_rate': 0.001, 'batch_size': '128', 'server_round': 9, 'local_epochs': 10}\n",
      "\u001b[36m(launch_and_fit pid=7160)\u001b[0m Updated model\n"
     ]
    },
    {
     "name": "stderr",
     "output_type": "stream",
     "text": [
      " 10%|\u001b[34m█         \u001b[0m| 1/10 [00:06<00:56,  6.25s/it]\n",
      "  0%|\u001b[34m          \u001b[0m| 0/10 [00:00<?, ?it/s]\n"
     ]
    },
    {
     "name": "stdout",
     "output_type": "stream",
     "text": [
      "\u001b[36m(launch_and_fit pid=7135)\u001b[0m \tTrain Epoch: 2 \tTrain_loss: 1.0197 | Train_acc: 64.6311 % | Validation_loss: 1.3527 | Validation_acc: 52.1888 %\u001b[32m [repeated 2x across cluster]\u001b[0m\n"
     ]
    },
    {
     "name": "stderr",
     "output_type": "stream",
     "text": [
      " 20%|\u001b[34m██        \u001b[0m| 2/10 [00:12<00:49,  6.19s/it]\u001b[32m [repeated 2x across cluster]\u001b[0m\n"
     ]
    },
    {
     "name": "stdout",
     "output_type": "stream",
     "text": [
      "\u001b[36m(launch_and_fit pid=7135)\u001b[0m \tTrain Epoch: 3 \tTrain_loss: 0.8746 | Train_acc: 70.0087 % | Validation_loss: 1.3760 | Validation_acc: 52.8556 %\u001b[32m [repeated 2x across cluster]\u001b[0m\n"
     ]
    },
    {
     "name": "stderr",
     "output_type": "stream",
     "text": [
      " 30%|\u001b[34m███       \u001b[0m| 3/10 [00:18<00:43,  6.15s/it]\u001b[32m [repeated 2x across cluster]\u001b[0m\n"
     ]
    },
    {
     "name": "stdout",
     "output_type": "stream",
     "text": [
      "\u001b[36m(launch_and_fit pid=7135)\u001b[0m \tTrain Epoch: 4 \tTrain_loss: 0.7954 | Train_acc: 73.6979 % | Validation_loss: 1.3750 | Validation_acc: 52.4044 %\u001b[32m [repeated 2x across cluster]\u001b[0m\n"
     ]
    },
    {
     "name": "stderr",
     "output_type": "stream",
     "text": [
      " 40%|\u001b[34m████      \u001b[0m| 4/10 [00:24<00:36,  6.03s/it]\u001b[32m [repeated 2x across cluster]\u001b[0m\n"
     ]
    },
    {
     "name": "stdout",
     "output_type": "stream",
     "text": [
      "\u001b[36m(launch_and_fit pid=7135)\u001b[0m \tTrain Epoch: 5 \tTrain_loss: 0.7414 | Train_acc: 76.0807 % | Validation_loss: 1.3526 | Validation_acc: 52.9701 %\u001b[32m [repeated 2x across cluster]\u001b[0m\n"
     ]
    },
    {
     "name": "stderr",
     "output_type": "stream",
     "text": [
      " 50%|\u001b[34m█████     \u001b[0m| 5/10 [00:30<00:29,  5.94s/it]\u001b[32m [repeated 2x across cluster]\u001b[0m\n"
     ]
    },
    {
     "name": "stdout",
     "output_type": "stream",
     "text": [
      "\u001b[36m(launch_and_fit pid=7135)\u001b[0m \tTrain Epoch: 6 \tTrain_loss: 0.6815 | Train_acc: 78.7153 % | Validation_loss: 1.3985 | Validation_acc: 53.8524 %\u001b[32m [repeated 2x across cluster]\u001b[0m\n"
     ]
    },
    {
     "name": "stderr",
     "output_type": "stream",
     "text": [
      " 60%|\u001b[34m██████    \u001b[0m| 6/10 [00:35<00:23,  5.82s/it]\u001b[32m [repeated 2x across cluster]\u001b[0m\n"
     ]
    },
    {
     "name": "stdout",
     "output_type": "stream",
     "text": [
      "\u001b[36m(launch_and_fit pid=7135)\u001b[0m \tTrain Epoch: 7 \tTrain_loss: 0.6307 | Train_acc: 81.1936 % | Validation_loss: 1.3920 | Validation_acc: 52.7950 %\u001b[32m [repeated 2x across cluster]\u001b[0m\n"
     ]
    },
    {
     "name": "stderr",
     "output_type": "stream",
     "text": [
      " 70%|\u001b[34m███████   \u001b[0m| 7/10 [00:41<00:17,  5.83s/it]\u001b[32m [repeated 2x across cluster]\u001b[0m\n"
     ]
    },
    {
     "name": "stdout",
     "output_type": "stream",
     "text": [
      "\u001b[36m(launch_and_fit pid=7135)\u001b[0m \tTrain Epoch: 8 \tTrain_loss: 0.6137 | Train_acc: 82.5391 % | Validation_loss: 1.4215 | Validation_acc: 52.7748 %\u001b[32m [repeated 2x across cluster]\u001b[0m\n"
     ]
    },
    {
     "name": "stderr",
     "output_type": "stream",
     "text": [
      " 80%|\u001b[34m████████  \u001b[0m| 8/10 [00:47<00:11,  5.96s/it]\u001b[32m [repeated 2x across cluster]\u001b[0m\n"
     ]
    },
    {
     "name": "stdout",
     "output_type": "stream",
     "text": [
      "\u001b[36m(launch_and_fit pid=7135)\u001b[0m \tTrain Epoch: 9 \tTrain_loss: 0.5799 | Train_acc: 83.2986 % | Validation_loss: 1.4144 | Validation_acc: 54.2969 %\u001b[32m [repeated 2x across cluster]\u001b[0m\n"
     ]
    },
    {
     "name": "stderr",
     "output_type": "stream",
     "text": [
      " 90%|\u001b[34m█████████ \u001b[0m| 9/10 [00:53<00:05,  5.92s/it]\u001b[32m [repeated 2x across cluster]\u001b[0m\n"
     ]
    },
    {
     "name": "stdout",
     "output_type": "stream",
     "text": [
      "\u001b[36m(launch_and_fit pid=7135)\u001b[0m save graph in  results/FL/\n",
      "\u001b[36m(launch_and_fit pid=7135)\u001b[0m \tTrain Epoch: 10 \tTrain_loss: 0.5525 | Train_acc: 85.4644 % | Validation_loss: 1.4109 | Validation_acc: 53.3405 %\u001b[32m [repeated 2x across cluster]\u001b[0m\n"
     ]
    },
    {
     "name": "stderr",
     "output_type": "stream",
     "text": [
      "100%|\u001b[34m██████████\u001b[0m| 10/10 [00:59<00:00,  5.94s/it]\u001b[32m [repeated 2x across cluster]\u001b[0m\n"
     ]
    },
    {
     "name": "stdout",
     "output_type": "stream",
     "text": [
      "\u001b[36m(launch_and_fit pid=7135)\u001b[0m network.0.weight 5.245208740234375e-06\n",
      "\u001b[36m(launch_and_fit pid=7135)\u001b[0m network.0.bias 1.430511474609375e-06\n",
      "\u001b[36m(launch_and_fit pid=7135)\u001b[0m network.2.weight 1.430511474609375e-06\n",
      "\u001b[36m(launch_and_fit pid=7135)\u001b[0m network.2.bias 1.1920928955078125e-06\n",
      "\u001b[36m(launch_and_fit pid=7135)\u001b[0m network.5.weight 1.430511474609375e-06\n",
      "\u001b[36m(launch_and_fit pid=7135)\u001b[0m network.5.bias 9.5367431640625e-07\n",
      "\u001b[36m(launch_and_fit pid=7135)\u001b[0m network.7.weight 1.6689300537109375e-06\n",
      "\u001b[36m(launch_and_fit pid=7135)\u001b[0m network.7.bias 1.1920928955078125e-06\n",
      "\u001b[36m(launch_and_fit pid=7135)\u001b[0m network.10.weight 1.1920928955078125e-06\n",
      "\u001b[36m(launch_and_fit pid=7135)\u001b[0m network.10.bias 1.1920928955078125e-06\n",
      "\u001b[36m(launch_and_fit pid=7135)\u001b[0m network.12.weight 1.1920928955078125e-06\n",
      "\u001b[36m(launch_and_fit pid=7135)\u001b[0m network.12.bias 1.1920928955078125e-06\n",
      "\u001b[36m(launch_and_fit pid=7135)\u001b[0m network.16.weight 1.1920928955078125e-06\n",
      "\u001b[36m(launch_and_fit pid=7135)\u001b[0m network.16.bias 9.5367431640625e-07\n",
      "\u001b[36m(launch_and_fit pid=7135)\u001b[0m network.18.weight 1.1920928955078125e-06\n",
      "\u001b[36m(launch_and_fit pid=7135)\u001b[0m network.18.bias 9.5367431640625e-07\n",
      "\u001b[36m(launch_and_fit pid=7135)\u001b[0m network.20.weight 1.1920928955078125e-06\n",
      "\u001b[36m(launch_and_fit pid=7135)\u001b[0m network.20.bias 1.1920928955078125e-06\n",
      "\u001b[36m(launch_and_fit pid=7135)\u001b[0m qnn.weights 1.1920928955078125e-06\n",
      "\u001b[36m(launch_and_fit pid=7135)\u001b[0m fc4.weight 1.1920928955078125e-06\n",
      "\u001b[36m(launch_and_fit pid=7135)\u001b[0m fc4.bias 1.1920928955078125e-06\n",
      "\u001b[36m(launch_and_fit pid=7217)\u001b[0m Run with homomorphic encryption\n",
      "\u001b[36m(launch_and_fit pid=7160)\u001b[0m save graph in  results/FL/\n",
      "\u001b[36m(launch_and_fit pid=7160)\u001b[0m \tTrain Epoch: 10 \tTrain_loss: 0.5588 | Train_acc: 84.3403 % | Validation_loss: 1.1604 | Validation_acc: 58.4119 %\n",
      "\u001b[36m(launch_and_fit pid=7160)\u001b[0m fc4.bias 1.1920928955078125e-06\u001b[32m [repeated 20x across cluster]\u001b[0m\n",
      "\u001b[36m(launch_and_fit pid=7160)\u001b[0m qnn.weights 9.5367431640625e-07\n",
      "\u001b[36m(launch_and_fit pid=7217)\u001b[0m [Client 8, round 9] fit, config: {'learning_rate': 0.001, 'batch_size': '128', 'server_round': 9, 'local_epochs': 10}\n"
     ]
    },
    {
     "name": "stderr",
     "output_type": "stream",
     "text": [
      "  0%|\u001b[34m          \u001b[0m| 0/10 [00:00<?, ?it/s]\n",
      "100%|\u001b[34m██████████\u001b[0m| 10/10 [00:59<00:00,  5.93s/it]\n"
     ]
    },
    {
     "name": "stdout",
     "output_type": "stream",
     "text": [
      "\u001b[36m(launch_and_fit pid=7217)\u001b[0m Updated model\n"
     ]
    },
    {
     "name": "stderr",
     "output_type": "stream",
     "text": [
      " 10%|\u001b[34m█         \u001b[0m| 1/10 [00:06<00:59,  6.62s/it]\n",
      "  0%|\u001b[34m          \u001b[0m| 0/10 [00:00<?, ?it/s]\n"
     ]
    },
    {
     "name": "stdout",
     "output_type": "stream",
     "text": [
      "\u001b[36m(launch_and_fit pid=7217)\u001b[0m \tTrain Epoch: 1 \tTrain_loss: 1.2256 | Train_acc: 58.0078 % | Validation_loss: 1.3477 | Validation_acc: 52.0744 %\n",
      "\u001b[36m(launch_and_fit pid=7242)\u001b[0m Run with homomorphic encryption\n",
      "\u001b[36m(launch_and_fit pid=7242)\u001b[0m [Client 5, round 9] fit, config: {'learning_rate': 0.001, 'batch_size': '128', 'server_round': 9, 'local_epochs': 10}\n",
      "\u001b[36m(launch_and_fit pid=7242)\u001b[0m Updated model\n"
     ]
    },
    {
     "name": "stderr",
     "output_type": "stream",
     "text": [
      " 20%|\u001b[34m██        \u001b[0m| 2/10 [00:12<00:49,  6.19s/it]\u001b[32m [repeated 2x across cluster]\u001b[0m\n"
     ]
    },
    {
     "name": "stdout",
     "output_type": "stream",
     "text": [
      "\u001b[36m(launch_and_fit pid=7217)\u001b[0m \tTrain Epoch: 2 \tTrain_loss: 1.0242 | Train_acc: 65.2300 % | Validation_loss: 1.3318 | Validation_acc: 52.5795 %\u001b[32m [repeated 2x across cluster]\u001b[0m\n"
     ]
    },
    {
     "name": "stderr",
     "output_type": "stream",
     "text": [
      " 30%|\u001b[34m███       \u001b[0m| 3/10 [00:18<00:42,  6.02s/it]\u001b[32m [repeated 2x across cluster]\u001b[0m\n"
     ]
    },
    {
     "name": "stdout",
     "output_type": "stream",
     "text": [
      "\u001b[36m(launch_and_fit pid=7217)\u001b[0m \tTrain Epoch: 3 \tTrain_loss: 0.9284 | Train_acc: 68.5156 % | Validation_loss: 1.2930 | Validation_acc: 54.8693 %\u001b[32m [repeated 2x across cluster]\u001b[0m\n"
     ]
    },
    {
     "name": "stderr",
     "output_type": "stream",
     "text": [
      " 40%|\u001b[34m████      \u001b[0m| 4/10 [00:24<00:36,  6.01s/it]\u001b[32m [repeated 2x across cluster]\u001b[0m\n"
     ]
    },
    {
     "name": "stdout",
     "output_type": "stream",
     "text": [
      "\u001b[36m(launch_and_fit pid=7217)\u001b[0m \tTrain Epoch: 4 \tTrain_loss: 0.8191 | Train_acc: 73.0859 % | Validation_loss: 1.3134 | Validation_acc: 54.0477 %\u001b[32m [repeated 2x across cluster]\u001b[0m\n"
     ]
    },
    {
     "name": "stderr",
     "output_type": "stream",
     "text": [
      " 50%|\u001b[34m█████     \u001b[0m| 5/10 [00:30<00:29,  5.96s/it]\u001b[32m [repeated 2x across cluster]\u001b[0m\n"
     ]
    },
    {
     "name": "stdout",
     "output_type": "stream",
     "text": [
      "\u001b[36m(launch_and_fit pid=7217)\u001b[0m \tTrain Epoch: 5 \tTrain_loss: 0.7535 | Train_acc: 76.1458 % | Validation_loss: 1.3715 | Validation_acc: 52.2697 %\u001b[32m [repeated 2x across cluster]\u001b[0m\n"
     ]
    },
    {
     "name": "stderr",
     "output_type": "stream",
     "text": [
      " 60%|\u001b[34m██████    \u001b[0m| 6/10 [00:36<00:24,  6.08s/it]\u001b[32m [repeated 2x across cluster]\u001b[0m\n"
     ]
    },
    {
     "name": "stdout",
     "output_type": "stream",
     "text": [
      "\u001b[36m(launch_and_fit pid=7217)\u001b[0m \tTrain Epoch: 6 \tTrain_loss: 0.7219 | Train_acc: 76.8142 % | Validation_loss: 1.3568 | Validation_acc: 51.7578 %\u001b[32m [repeated 2x across cluster]\u001b[0m\n"
     ]
    },
    {
     "name": "stderr",
     "output_type": "stream",
     "text": [
      " 70%|\u001b[34m███████   \u001b[0m| 7/10 [00:42<00:17,  5.99s/it]\u001b[32m [repeated 2x across cluster]\u001b[0m\n"
     ]
    },
    {
     "name": "stdout",
     "output_type": "stream",
     "text": [
      "\u001b[36m(launch_and_fit pid=7217)\u001b[0m \tTrain Epoch: 7 \tTrain_loss: 0.6586 | Train_acc: 79.7483 % | Validation_loss: 1.3783 | Validation_acc: 52.4044 %\u001b[32m [repeated 2x across cluster]\u001b[0m\n"
     ]
    },
    {
     "name": "stderr",
     "output_type": "stream",
     "text": [
      " 80%|\u001b[34m████████  \u001b[0m| 8/10 [00:48<00:11,  5.95s/it]\u001b[32m [repeated 2x across cluster]\u001b[0m\n"
     ]
    },
    {
     "name": "stdout",
     "output_type": "stream",
     "text": [
      "\u001b[36m(launch_and_fit pid=7217)\u001b[0m \tTrain Epoch: 8 \tTrain_loss: 0.6181 | Train_acc: 81.0807 % | Validation_loss: 1.3871 | Validation_acc: 53.6166 %\u001b[32m [repeated 2x across cluster]\u001b[0m\n"
     ]
    },
    {
     "name": "stderr",
     "output_type": "stream",
     "text": [
      " 90%|\u001b[34m█████████ \u001b[0m| 9/10 [00:53<00:05,  5.87s/it]\u001b[32m [repeated 2x across cluster]\u001b[0m\n"
     ]
    },
    {
     "name": "stdout",
     "output_type": "stream",
     "text": [
      "\u001b[36m(launch_and_fit pid=7217)\u001b[0m \tTrain Epoch: 9 \tTrain_loss: 0.6028 | Train_acc: 81.4670 % | Validation_loss: 1.3831 | Validation_acc: 52.7748 %\u001b[32m [repeated 2x across cluster]\u001b[0m\n"
     ]
    },
    {
     "name": "stderr",
     "output_type": "stream",
     "text": [
      "100%|\u001b[34m██████████\u001b[0m| 10/10 [00:59<00:00,  5.96s/it]\u001b[32m [repeated 2x across cluster]\u001b[0m\n"
     ]
    },
    {
     "name": "stdout",
     "output_type": "stream",
     "text": [
      "\u001b[36m(launch_and_fit pid=7217)\u001b[0m save graph in  results/FL/\n",
      "\u001b[36m(launch_and_fit pid=7217)\u001b[0m \tTrain Epoch: 10 \tTrain_loss: 0.5498 | Train_acc: 84.7266 % | Validation_loss: 1.3565 | Validation_acc: 53.2260 %\u001b[32m [repeated 2x across cluster]\u001b[0m\n",
      "\u001b[36m(launch_and_fit pid=7217)\u001b[0m network.0.weight 4.5299530029296875e-06\n",
      "\u001b[36m(launch_and_fit pid=7217)\u001b[0m \n",
      "\u001b[36m(launch_and_fit pid=7217)\u001b[0m network.0.bias 1.6689300537109375e-06\n",
      "\u001b[36m(launch_and_fit pid=7217)\u001b[0m \n",
      "\u001b[36m(launch_and_fit pid=7217)\u001b[0m network.2.weight \n",
      "\u001b[36m(launch_and_fit pid=7217)\u001b[0m 1.1920928955078125e-06\n",
      "\u001b[36m(launch_and_fit pid=7217)\u001b[0m network.2.bias\n",
      "\u001b[36m(launch_and_fit pid=7217)\u001b[0m  1.1920928955078125e-06\n",
      "\u001b[36m(launch_and_fit pid=7217)\u001b[0m \n",
      "\u001b[36m(launch_and_fit pid=7217)\u001b[0m network.5.weight \n",
      "\u001b[36m(launch_and_fit pid=7217)\u001b[0m 1.1920928955078125e-06\n",
      "\u001b[36m(launch_and_fit pid=7217)\u001b[0m network.5.bias\n",
      "\u001b[36m(launch_and_fit pid=7217)\u001b[0m  1.430511474609375e-06\n",
      "\u001b[36m(launch_and_fit pid=7217)\u001b[0m \n",
      "\u001b[36m(launch_and_fit pid=7217)\u001b[0m network.7.weight \n",
      "\u001b[36m(launch_and_fit pid=7217)\u001b[0m 9.5367431640625e-07\n",
      "\u001b[36m(launch_and_fit pid=7217)\u001b[0m \n",
      "\u001b[36m(launch_and_fit pid=7217)\u001b[0m network.7.bias \n",
      "\u001b[36m(launch_and_fit pid=7217)\u001b[0m 9.5367431640625e-07\n",
      "\u001b[36m(launch_and_fit pid=7217)\u001b[0m network.10.weight\n",
      "\u001b[36m(launch_and_fit pid=7217)\u001b[0m  1.430511474609375e-06\n",
      "\u001b[36m(launch_and_fit pid=7217)\u001b[0m network.10.bias 9.5367431640625e-07\n",
      "\u001b[36m(launch_and_fit pid=7217)\u001b[0m network.12.weight 1.1920928955078125e-06\n",
      "\u001b[36m(launch_and_fit pid=7217)\u001b[0m network.12.bias 1.430511474609375e-06\n",
      "\u001b[36m(launch_and_fit pid=7217)\u001b[0m network.16.weight 3.5762786865234375e-06\n",
      "\u001b[36m(launch_and_fit pid=7217)\u001b[0m network.16.bias 9.5367431640625e-07\n",
      "\u001b[36m(launch_and_fit pid=7217)\u001b[0m network.18.weight 1.1920928955078125e-06\n",
      "\u001b[36m(launch_and_fit pid=7217)\u001b[0m network.18.bias 1.9073486328125e-06\n",
      "\u001b[36m(launch_and_fit pid=7217)\u001b[0m network.20.weight 1.6689300537109375e-06\n",
      "\u001b[36m(launch_and_fit pid=7217)\u001b[0m network.20.bias 1.9073486328125e-06\n",
      "\u001b[36m(launch_and_fit pid=7217)\u001b[0m qnn.weights 1.6689300537109375e-06\n",
      "\u001b[36m(launch_and_fit pid=7217)\u001b[0m fc4.weight 1.430511474609375e-06\n",
      "\u001b[36m(launch_and_fit pid=7217)\u001b[0m fc4.bias 3.337860107421875e-06\n",
      "\u001b[36m(launch_and_fit pid=7299)\u001b[0m Run with homomorphic encryption\n",
      "\u001b[36m(launch_and_fit pid=7242)\u001b[0m save graph in  results/FL/\n",
      "\u001b[36m(launch_and_fit pid=7242)\u001b[0m \tTrain Epoch: 10 \tTrain_loss: 0.5671 | Train_acc: 85.1172 % | Validation_loss: 1.3126 | Validation_acc: 55.1994 %\n",
      "\u001b[36m(launch_and_fit pid=7242)\u001b[0m fc4.bias 9.5367431640625e-07\u001b[32m [repeated 20x across cluster]\u001b[0m\n",
      "\u001b[36m(launch_and_fit pid=7242)\u001b[0m qnn.weights 1.1920928955078125e-06\n",
      "\u001b[36m(launch_and_fit pid=7299)\u001b[0m [Client 3, round 9] fit, config: {'learning_rate': 0.001, 'batch_size': '128', 'server_round': 9, 'local_epochs': 10}\n"
     ]
    },
    {
     "name": "stderr",
     "output_type": "stream",
     "text": [
      "  0%|\u001b[34m          \u001b[0m| 0/10 [00:00<?, ?it/s]\n",
      "100%|\u001b[34m██████████\u001b[0m| 10/10 [00:59<00:00,  5.96s/it]\n"
     ]
    },
    {
     "name": "stdout",
     "output_type": "stream",
     "text": [
      "\u001b[36m(launch_and_fit pid=7299)\u001b[0m Updated model\n"
     ]
    },
    {
     "name": "stderr",
     "output_type": "stream",
     "text": [
      " 10%|\u001b[34m█         \u001b[0m| 1/10 [00:06<00:56,  6.29s/it]\n",
      "  0%|\u001b[34m          \u001b[0m| 0/10 [00:00<?, ?it/s]\n"
     ]
    },
    {
     "name": "stdout",
     "output_type": "stream",
     "text": [
      "\u001b[36m(launch_and_fit pid=7299)\u001b[0m \tTrain Epoch: 1 \tTrain_loss: 1.2335 | Train_acc: 56.2066 % | Validation_loss: 1.3713 | Validation_acc: 51.3470 %\n",
      "\u001b[36m(launch_and_fit pid=7324)\u001b[0m Run with homomorphic encryption\n",
      "\u001b[36m(launch_and_fit pid=7324)\u001b[0m [Client 6, round 9] fit, config: {'learning_rate': 0.001, 'batch_size': '128', 'server_round': 9, 'local_epochs': 10}\n",
      "\u001b[36m(launch_and_fit pid=7324)\u001b[0m Updated model\n"
     ]
    },
    {
     "name": "stderr",
     "output_type": "stream",
     "text": [
      " 20%|\u001b[34m██        \u001b[0m| 2/10 [00:12<00:48,  6.06s/it]\u001b[32m [repeated 2x across cluster]\u001b[0m\n"
     ]
    },
    {
     "name": "stdout",
     "output_type": "stream",
     "text": [
      "\u001b[36m(launch_and_fit pid=7299)\u001b[0m \tTrain Epoch: 2 \tTrain_loss: 1.0518 | Train_acc: 62.9080 % | Validation_loss: 1.4029 | Validation_acc: 53.7716 %\u001b[32m [repeated 2x across cluster]\u001b[0m\n"
     ]
    },
    {
     "name": "stderr",
     "output_type": "stream",
     "text": [
      " 30%|\u001b[34m███       \u001b[0m| 3/10 [00:18<00:41,  5.98s/it]\u001b[32m [repeated 2x across cluster]\u001b[0m\n"
     ]
    },
    {
     "name": "stdout",
     "output_type": "stream",
     "text": [
      "\u001b[36m(launch_and_fit pid=7299)\u001b[0m \tTrain Epoch: 3 \tTrain_loss: 0.9233 | Train_acc: 68.0295 % | Validation_loss: 1.3820 | Validation_acc: 53.5964 %\u001b[32m [repeated 2x across cluster]\u001b[0m\n"
     ]
    },
    {
     "name": "stderr",
     "output_type": "stream",
     "text": [
      " 40%|\u001b[34m████      \u001b[0m| 4/10 [00:24<00:36,  6.02s/it]\u001b[32m [repeated 2x across cluster]\u001b[0m\n"
     ]
    },
    {
     "name": "stdout",
     "output_type": "stream",
     "text": [
      "\u001b[36m(launch_and_fit pid=7299)\u001b[0m \tTrain Epoch: 4 \tTrain_loss: 0.8894 | Train_acc: 69.9002 % | Validation_loss: 1.3735 | Validation_acc: 56.8427 %\u001b[32m [repeated 2x across cluster]\u001b[0m\n"
     ]
    },
    {
     "name": "stderr",
     "output_type": "stream",
     "text": [
      " 50%|\u001b[34m█████     \u001b[0m| 5/10 [00:30<00:29,  5.98s/it]\u001b[32m [repeated 2x across cluster]\u001b[0m\n"
     ]
    },
    {
     "name": "stdout",
     "output_type": "stream",
     "text": [
      "\u001b[36m(launch_and_fit pid=7299)\u001b[0m \tTrain Epoch: 5 \tTrain_loss: 0.7714 | Train_acc: 74.4444 % | Validation_loss: 1.3454 | Validation_acc: 56.0749 %\u001b[32m [repeated 2x across cluster]\u001b[0m\n"
     ]
    },
    {
     "name": "stderr",
     "output_type": "stream",
     "text": [
      " 60%|\u001b[34m██████    \u001b[0m| 6/10 [00:35<00:23,  5.92s/it]\u001b[32m [repeated 2x across cluster]\u001b[0m\n"
     ]
    },
    {
     "name": "stdout",
     "output_type": "stream",
     "text": [
      "\u001b[36m(launch_and_fit pid=7299)\u001b[0m \tTrain Epoch: 6 \tTrain_loss: 0.6945 | Train_acc: 77.1701 % | Validation_loss: 1.3748 | Validation_acc: 57.1525 %\u001b[32m [repeated 2x across cluster]\u001b[0m\n"
     ]
    },
    {
     "name": "stderr",
     "output_type": "stream",
     "text": [
      " 70%|\u001b[34m███████   \u001b[0m| 7/10 [00:41<00:17,  5.92s/it]\u001b[32m [repeated 2x across cluster]\u001b[0m\n"
     ]
    },
    {
     "name": "stdout",
     "output_type": "stream",
     "text": [
      "\u001b[36m(launch_and_fit pid=7299)\u001b[0m \tTrain Epoch: 7 \tTrain_loss: 0.6348 | Train_acc: 80.9592 % | Validation_loss: 1.3159 | Validation_acc: 57.9539 %\u001b[32m [repeated 2x across cluster]\u001b[0m\n"
     ]
    },
    {
     "name": "stderr",
     "output_type": "stream",
     "text": [
      " 80%|\u001b[34m████████  \u001b[0m| 8/10 [00:47<00:11,  5.97s/it]\u001b[32m [repeated 2x across cluster]\u001b[0m\n"
     ]
    },
    {
     "name": "stdout",
     "output_type": "stream",
     "text": [
      "\u001b[36m(launch_and_fit pid=7299)\u001b[0m \tTrain Epoch: 8 \tTrain_loss: 0.5996 | Train_acc: 81.4149 % | Validation_loss: 1.3818 | Validation_acc: 56.3106 %\u001b[32m [repeated 2x across cluster]\u001b[0m\n"
     ]
    },
    {
     "name": "stderr",
     "output_type": "stream",
     "text": [
      " 90%|\u001b[34m█████████ \u001b[0m| 9/10 [00:53<00:06,  6.01s/it]\u001b[32m [repeated 2x across cluster]\u001b[0m\n"
     ]
    },
    {
     "name": "stdout",
     "output_type": "stream",
     "text": [
      "\u001b[36m(launch_and_fit pid=7299)\u001b[0m \tTrain Epoch: 9 \tTrain_loss: 0.5705 | Train_acc: 84.1102 % | Validation_loss: 1.3904 | Validation_acc: 55.0849 %\u001b[32m [repeated 2x across cluster]\u001b[0m\n"
     ]
    },
    {
     "name": "stderr",
     "output_type": "stream",
     "text": [
      "100%|\u001b[34m██████████\u001b[0m| 10/10 [01:00<00:00,  6.01s/it]\u001b[32m [repeated 2x across cluster]\u001b[0m\n"
     ]
    },
    {
     "name": "stdout",
     "output_type": "stream",
     "text": [
      "\u001b[36m(launch_and_fit pid=7299)\u001b[0m save graph in  results/FL/\n",
      "\u001b[36m(launch_and_fit pid=7299)\u001b[0m \tTrain Epoch: 10 \tTrain_loss: 0.5537 | Train_acc: 84.0365 % | Validation_loss: 1.3563 | Validation_acc: 56.7214 %\u001b[32m [repeated 2x across cluster]\u001b[0m\n",
      "\u001b[36m(launch_and_fit pid=7299)\u001b[0m network.0.weight 5.4836273193359375e-06\n",
      "\u001b[36m(launch_and_fit pid=7299)\u001b[0m network.0.bias 1.9073486328125e-06\n",
      "\u001b[36m(launch_and_fit pid=7299)\u001b[0m network.2.weight 1.430511474609375e-06\n",
      "\u001b[36m(launch_and_fit pid=7299)\u001b[0m network.2.bias 1.430511474609375e-06\n",
      "\u001b[36m(launch_and_fit pid=7299)\u001b[0m network.5.weight 1.1920928955078125e-06\n",
      "\u001b[36m(launch_and_fit pid=7299)\u001b[0m network.5.bias 1.1920928955078125e-06\n",
      "\u001b[36m(launch_and_fit pid=7299)\u001b[0m network.7.weight 1.1920928955078125e-06\n",
      "\u001b[36m(launch_and_fit pid=7299)\u001b[0m network.7.bias 1.430511474609375e-06\n",
      "\u001b[36m(launch_and_fit pid=7299)\u001b[0m network.10.weight 1.4781951904296875e-05\n",
      "\u001b[36m(launch_and_fit pid=7299)\u001b[0m network.10.bias 1.9073486328125e-06\n",
      "\u001b[36m(launch_and_fit pid=7299)\u001b[0m network.12.weight 1.430511474609375e-06\n",
      "\u001b[36m(launch_and_fit pid=7299)\u001b[0m network.12.bias 9.5367431640625e-07\n",
      "\u001b[36m(launch_and_fit pid=7299)\u001b[0m network.16.weight 1.1920928955078125e-06\n",
      "\u001b[36m(launch_and_fit pid=7299)\u001b[0m network.16.bias 1.430511474609375e-06\n",
      "\u001b[36m(launch_and_fit pid=7299)\u001b[0m network.18.weight 1.1920928955078125e-06\n",
      "\u001b[36m(launch_and_fit pid=7299)\u001b[0m network.18.bias 9.5367431640625e-07\n",
      "\u001b[36m(launch_and_fit pid=7299)\u001b[0m network.20.weight 1.1920928955078125e-06\n",
      "\u001b[36m(launch_and_fit pid=7299)\u001b[0m network.20.bias 1.1920928955078125e-06\n",
      "\u001b[36m(launch_and_fit pid=7299)\u001b[0m qnn.weights 9.5367431640625e-07\n",
      "\u001b[36m(launch_and_fit pid=7299)\u001b[0m fc4.weight 1.1920928955078125e-06\n",
      "\u001b[36m(launch_and_fit pid=7299)\u001b[0m fc4.bias 1.1920928955078125e-06\n"
     ]
    },
    {
     "name": "stderr",
     "output_type": "stream",
     "text": [
      "DEBUG flwr 2024-07-20 19:32:03,323 | server.py:236 | fit_round 9 received 10 results and 0 failures\n"
     ]
    },
    {
     "name": "stdout",
     "output_type": "stream",
     "text": [
      "Saving round 9 aggregated_parameters...\n"
     ]
    },
    {
     "name": "stderr",
     "output_type": "stream",
     "text": [
      "DEBUG flwr 2024-07-20 19:32:04,278 | server.py:173 | evaluate_round 9: strategy sampled 10 clients (out of 10)\n"
     ]
    },
    {
     "name": "stdout",
     "output_type": "stream",
     "text": [
      "\u001b[36m(launch_and_evaluate pid=7391)\u001b[0m Run with homomorphic encryption\n",
      "\u001b[36m(launch_and_fit pid=7324)\u001b[0m save graph in  results/FL/\n",
      "\u001b[36m(launch_and_fit pid=7324)\u001b[0m \tTrain Epoch: 10 \tTrain_loss: 0.5645 | Train_acc: 84.0712 % | Validation_loss: 1.3811 | Validation_acc: 55.8055 %\n",
      "\u001b[36m(launch_and_fit pid=7324)\u001b[0m fc4.bias 1.430511474609375e-06\u001b[32m [repeated 20x across cluster]\u001b[0m\n",
      "\u001b[36m(launch_and_fit pid=7324)\u001b[0m qnn.weights 2.1457672119140625e-06\n",
      "\u001b[36m(launch_and_evaluate pid=7391)\u001b[0m [Client 0] evaluate, config: {}\n",
      "\u001b[36m(launch_and_evaluate pid=7392)\u001b[0m Updated model\n",
      "\u001b[36m(launch_and_evaluate pid=7469)\u001b[0m Run with homomorphic encryption\u001b[32m [repeated 2x across cluster]\u001b[0m\n",
      "\u001b[36m(launch_and_evaluate pid=7392)\u001b[0m [Client 8] evaluate, config: {}\n",
      "\u001b[36m(launch_and_evaluate pid=7391)\u001b[0m Updated model\n",
      "\u001b[36m(launch_and_evaluate pid=7469)\u001b[0m [Client 9] evaluate, config: {}\n",
      "\u001b[36m(launch_and_evaluate pid=7469)\u001b[0m Updated model\n",
      "\u001b[36m(launch_and_evaluate pid=7547)\u001b[0m Run with homomorphic encryption\u001b[32m [repeated 2x across cluster]\u001b[0m\n",
      "\u001b[36m(launch_and_evaluate pid=7471)\u001b[0m [Client 2] evaluate, config: {}\n",
      "\u001b[36m(launch_and_evaluate pid=7471)\u001b[0m Updated model\n",
      "\u001b[36m(launch_and_evaluate pid=7547)\u001b[0m [Client 6] evaluate, config: {}\n",
      "\u001b[36m(launch_and_evaluate pid=7547)\u001b[0m Updated model\n",
      "\u001b[36m(launch_and_evaluate pid=7627)\u001b[0m Run with homomorphic encryption\u001b[32m [repeated 2x across cluster]\u001b[0m\n",
      "\u001b[36m(launch_and_evaluate pid=7549)\u001b[0m [Client 1] evaluate, config: {}\n",
      "\u001b[36m(launch_and_evaluate pid=7549)\u001b[0m Updated model\n",
      "\u001b[36m(launch_and_evaluate pid=7627)\u001b[0m [Client 5] evaluate, config: {}\n",
      "\u001b[36m(launch_and_evaluate pid=7627)\u001b[0m Updated model\n",
      "\u001b[36m(launch_and_evaluate pid=7705)\u001b[0m Run with homomorphic encryption\u001b[32m [repeated 2x across cluster]\u001b[0m\n",
      "\u001b[36m(launch_and_evaluate pid=7625)\u001b[0m [Client 3] evaluate, config: {}\n",
      "\u001b[36m(launch_and_evaluate pid=7625)\u001b[0m Updated model\n",
      "\u001b[36m(launch_and_evaluate pid=7705)\u001b[0m [Client 4] evaluate, config: {}\n",
      "\u001b[36m(launch_and_evaluate pid=7703)\u001b[0m Updated model\n"
     ]
    },
    {
     "name": "stderr",
     "output_type": "stream",
     "text": [
      "DEBUG flwr 2024-07-20 19:33:33,758 | server.py:187 | evaluate_round 9 received 10 results and 0 failures\n",
      "DEBUG flwr 2024-07-20 19:33:33,759 | server.py:222 | fit_round 10: strategy sampled 10 clients (out of 10)\n"
     ]
    },
    {
     "name": "stdout",
     "output_type": "stream",
     "text": [
      "\u001b[36m(launch_and_fit pid=7791)\u001b[0m Run with homomorphic encryption\u001b[32m [repeated 2x across cluster]\u001b[0m\n",
      "\u001b[36m(launch_and_evaluate pid=7703)\u001b[0m [Client 7] evaluate, config: {}\n",
      "\u001b[36m(launch_and_evaluate pid=7705)\u001b[0m Updated model\n",
      "\u001b[36m(launch_and_fit pid=7791)\u001b[0m [Client 3, round 10] fit, config: {'learning_rate': 0.001, 'batch_size': '128', 'server_round': 10, 'local_epochs': 10}\n",
      "\u001b[36m(launch_and_fit pid=7791)\u001b[0m Updated model\n"
     ]
    },
    {
     "name": "stderr",
     "output_type": "stream",
     "text": [
      "  0%|\u001b[34m          \u001b[0m| 0/10 [00:00<?, ?it/s]\n",
      "100%|\u001b[34m██████████\u001b[0m| 10/10 [01:00<00:00,  6.01s/it]\n"
     ]
    },
    {
     "name": "stdout",
     "output_type": "stream",
     "text": [
      "\u001b[36m(launch_and_fit pid=7791)\u001b[0m \tTrain Epoch: 1 \tTrain_loss: 1.1343 | Train_acc: 60.9983 % | Validation_loss: 1.3111 | Validation_acc: 59.5770 %\n",
      "\u001b[36m(launch_and_fit pid=7790)\u001b[0m Run with homomorphic encryption\n",
      "\u001b[36m(launch_and_fit pid=7790)\u001b[0m [Client 6, round 10] fit, config: {'learning_rate': 0.001, 'batch_size': '128', 'server_round': 10, 'local_epochs': 10}\n",
      "\u001b[36m(launch_and_fit pid=7790)\u001b[0m Updated model\n"
     ]
    },
    {
     "name": "stderr",
     "output_type": "stream",
     "text": [
      " 10%|\u001b[34m█         \u001b[0m| 1/10 [00:06<01:00,  6.74s/it]\n",
      "  0%|\u001b[34m          \u001b[0m| 0/10 [00:00<?, ?it/s]\n"
     ]
    },
    {
     "name": "stdout",
     "output_type": "stream",
     "text": [
      "\u001b[36m(launch_and_fit pid=7791)\u001b[0m \tTrain Epoch: 2 \tTrain_loss: 0.9453 | Train_acc: 68.5200 % | Validation_loss: 1.2963 | Validation_acc: 56.8966 %\u001b[32m [repeated 2x across cluster]\u001b[0m\n"
     ]
    },
    {
     "name": "stderr",
     "output_type": "stream",
     "text": [
      " 20%|\u001b[34m██        \u001b[0m| 2/10 [00:12<00:50,  6.29s/it]\u001b[32m [repeated 2x across cluster]\u001b[0m\n"
     ]
    },
    {
     "name": "stdout",
     "output_type": "stream",
     "text": [
      "\u001b[36m(launch_and_fit pid=7791)\u001b[0m \tTrain Epoch: 3 \tTrain_loss: 0.7883 | Train_acc: 74.4141 % | Validation_loss: 1.2392 | Validation_acc: 60.1630 %\u001b[32m [repeated 2x across cluster]\u001b[0m\n"
     ]
    },
    {
     "name": "stderr",
     "output_type": "stream",
     "text": [
      " 30%|\u001b[34m███       \u001b[0m| 3/10 [00:18<00:42,  6.08s/it]\u001b[32m [repeated 2x across cluster]\u001b[0m\n"
     ]
    },
    {
     "name": "stdout",
     "output_type": "stream",
     "text": [
      "\u001b[36m(launch_and_fit pid=7791)\u001b[0m \tTrain Epoch: 4 \tTrain_loss: 0.7155 | Train_acc: 76.7318 % | Validation_loss: 1.3141 | Validation_acc: 58.5399 %\u001b[32m [repeated 2x across cluster]\u001b[0m\n"
     ]
    },
    {
     "name": "stderr",
     "output_type": "stream",
     "text": [
      " 40%|\u001b[34m████      \u001b[0m| 4/10 [00:24<00:36,  6.05s/it]\u001b[32m [repeated 2x across cluster]\u001b[0m\n"
     ]
    },
    {
     "name": "stdout",
     "output_type": "stream",
     "text": [
      "\u001b[36m(launch_and_fit pid=7791)\u001b[0m \tTrain Epoch: 5 \tTrain_loss: 0.6594 | Train_acc: 78.9844 % | Validation_loss: 1.2605 | Validation_acc: 59.1662 %\u001b[32m [repeated 2x across cluster]\u001b[0m\n"
     ]
    },
    {
     "name": "stderr",
     "output_type": "stream",
     "text": [
      " 50%|\u001b[34m█████     \u001b[0m| 5/10 [00:30<00:29,  5.94s/it]\u001b[32m [repeated 2x across cluster]\u001b[0m\n"
     ]
    },
    {
     "name": "stdout",
     "output_type": "stream",
     "text": [
      "\u001b[36m(launch_and_fit pid=7791)\u001b[0m \tTrain Epoch: 6 \tTrain_loss: 0.6134 | Train_acc: 80.5208 % | Validation_loss: 1.3303 | Validation_acc: 57.2131 %\u001b[32m [repeated 2x across cluster]\u001b[0m\n"
     ]
    },
    {
     "name": "stderr",
     "output_type": "stream",
     "text": [
      " 60%|\u001b[34m██████    \u001b[0m| 6/10 [00:36<00:24,  6.01s/it]\u001b[32m [repeated 2x across cluster]\u001b[0m\n"
     ]
    },
    {
     "name": "stdout",
     "output_type": "stream",
     "text": [
      "\u001b[36m(launch_and_fit pid=7791)\u001b[0m \tTrain Epoch: 7 \tTrain_loss: 0.5437 | Train_acc: 83.9800 % | Validation_loss: 1.3209 | Validation_acc: 57.9539 %\u001b[32m [repeated 2x across cluster]\u001b[0m\n"
     ]
    },
    {
     "name": "stderr",
     "output_type": "stream",
     "text": [
      " 70%|\u001b[34m███████   \u001b[0m| 7/10 [00:42<00:18,  6.01s/it]\u001b[32m [repeated 2x across cluster]\u001b[0m\n"
     ]
    },
    {
     "name": "stdout",
     "output_type": "stream",
     "text": [
      "\u001b[36m(launch_and_fit pid=7791)\u001b[0m \tTrain Epoch: 8 \tTrain_loss: 0.5086 | Train_acc: 85.9635 % | Validation_loss: 1.3228 | Validation_acc: 58.3244 %\u001b[32m [repeated 2x across cluster]\u001b[0m\n"
     ]
    },
    {
     "name": "stderr",
     "output_type": "stream",
     "text": [
      " 80%|\u001b[34m████████  \u001b[0m| 8/10 [00:48<00:11,  5.95s/it]\u001b[32m [repeated 2x across cluster]\u001b[0m\n"
     ]
    },
    {
     "name": "stdout",
     "output_type": "stream",
     "text": [
      "\u001b[36m(launch_and_fit pid=7791)\u001b[0m \tTrain Epoch: 9 \tTrain_loss: 0.5191 | Train_acc: 85.3819 % | Validation_loss: 1.3066 | Validation_acc: 57.9337 %\u001b[32m [repeated 2x across cluster]\u001b[0m\n"
     ]
    },
    {
     "name": "stderr",
     "output_type": "stream",
     "text": [
      " 90%|\u001b[34m█████████ \u001b[0m| 9/10 [00:54<00:05,  5.89s/it]\u001b[32m [repeated 2x across cluster]\u001b[0m\n"
     ]
    },
    {
     "name": "stdout",
     "output_type": "stream",
     "text": [
      "\u001b[36m(launch_and_fit pid=7791)\u001b[0m save graph in  results/FL/\n",
      "\u001b[36m(launch_and_fit pid=7791)\u001b[0m \tTrain Epoch: 10 \tTrain_loss: 0.4806 | Train_acc: 87.2439 % | Validation_loss: 1.2681 | Validation_acc: 59.9879 %\u001b[32m [repeated 2x across cluster]\u001b[0m\n"
     ]
    },
    {
     "name": "stderr",
     "output_type": "stream",
     "text": [
      "100%|\u001b[34m██████████\u001b[0m| 10/10 [00:59<00:00,  5.99s/it]\u001b[32m [repeated 2x across cluster]\u001b[0m\n"
     ]
    },
    {
     "name": "stdout",
     "output_type": "stream",
     "text": [
      "\u001b[36m(launch_and_fit pid=7791)\u001b[0m network.0.weight 5.245208740234375e-06\n",
      "\u001b[36m(launch_and_fit pid=7791)\u001b[0m network.0.bias 1.1920928955078125e-06\n",
      "\u001b[36m(launch_and_fit pid=7791)\u001b[0m network.2.weight 1.430511474609375e-06\n",
      "\u001b[36m(launch_and_fit pid=7791)\u001b[0m network.2.bias 1.1920928955078125e-06\n",
      "\u001b[36m(launch_and_fit pid=7791)\u001b[0m network.5.weight 9.5367431640625e-07\n",
      "\u001b[36m(launch_and_fit pid=7791)\u001b[0m network.5.bias 9.5367431640625e-07\n",
      "\u001b[36m(launch_and_fit pid=7791)\u001b[0m network.7.weight 9.5367431640625e-07\n",
      "\u001b[36m(launch_and_fit pid=7791)\u001b[0m network.7.bias 9.5367431640625e-07\n",
      "\u001b[36m(launch_and_fit pid=7791)\u001b[0m network.10.weight 1.1920928955078125e-06\n",
      "\u001b[36m(launch_and_fit pid=7791)\u001b[0m network.10.bias 9.5367431640625e-07\n",
      "\u001b[36m(launch_and_fit pid=7791)\u001b[0m network.12.weight 1.1920928955078125e-06\n",
      "\u001b[36m(launch_and_fit pid=7791)\u001b[0m network.12.bias 9.5367431640625e-07\n",
      "\u001b[36m(launch_and_fit pid=7791)\u001b[0m network.16.weight 9.5367431640625e-07\n",
      "\u001b[36m(launch_and_fit pid=7791)\u001b[0m network.16.bias 9.5367431640625e-07\n",
      "\u001b[36m(launch_and_fit pid=7791)\u001b[0m network.18.weight 1.1920928955078125e-06\n",
      "\u001b[36m(launch_and_fit pid=7791)\u001b[0m network.18.bias 1.430511474609375e-06\n",
      "\u001b[36m(launch_and_fit pid=7791)\u001b[0m network.20.weight 1.1920928955078125e-06\n",
      "\u001b[36m(launch_and_fit pid=7791)\u001b[0m network.20.bias 1.1920928955078125e-06\n",
      "\u001b[36m(launch_and_fit pid=7791)\u001b[0m qnn.weights 1.430511474609375e-06\n",
      "\u001b[36m(launch_and_fit pid=7791)\u001b[0m fc4.weight 1.6689300537109375e-06\n",
      "\u001b[36m(launch_and_fit pid=7791)\u001b[0m fc4.bias 1.1920928955078125e-06\n",
      "\u001b[36m(launch_and_fit pid=7873)\u001b[0m Run with homomorphic encryption\n",
      "\u001b[36m(launch_and_fit pid=7790)\u001b[0m save graph in  results/FL/\n",
      "\u001b[36m(launch_and_fit pid=7790)\u001b[0m \tTrain Epoch: 10 \tTrain_loss: 0.4698 | Train_acc: 87.3438 % | Validation_loss: 1.2983 | Validation_acc: 57.8798 %\n",
      "\u001b[36m(launch_and_fit pid=7790)\u001b[0m fc4.bias 2.384185791015625e-06\u001b[32m [repeated 20x across cluster]\u001b[0m\n",
      "\u001b[36m(launch_and_fit pid=7790)\u001b[0m qnn.weights 1.1920928955078125e-06\n",
      "\u001b[36m(launch_and_fit pid=7873)\u001b[0m [Client 7, round 10] fit, config: {'learning_rate': 0.001, 'batch_size': '128', 'server_round': 10, 'local_epochs': 10}\n",
      "\u001b[36m(launch_and_fit pid=7873)\u001b[0m Updated model\n"
     ]
    },
    {
     "name": "stderr",
     "output_type": "stream",
     "text": [
      "  0%|\u001b[34m          \u001b[0m| 0/10 [00:00<?, ?it/s]\n",
      "100%|\u001b[34m██████████\u001b[0m| 10/10 [01:00<00:00,  6.06s/it]\n"
     ]
    },
    {
     "name": "stdout",
     "output_type": "stream",
     "text": [
      "\u001b[36m(launch_and_fit pid=7873)\u001b[0m \tTrain Epoch: 1 \tTrain_loss: 1.1030 | Train_acc: 62.9080 % | Validation_loss: 1.2217 | Validation_acc: 56.2567 %\n",
      "\u001b[36m(launch_and_fit pid=7898)\u001b[0m Run with homomorphic encryption\n",
      "\u001b[36m(launch_and_fit pid=7898)\u001b[0m [Client 9, round 10] fit, config: {'learning_rate': 0.001, 'batch_size': '128', 'server_round': 10, 'local_epochs': 10}\n",
      "\u001b[36m(launch_and_fit pid=7898)\u001b[0m Updated model\n"
     ]
    },
    {
     "name": "stderr",
     "output_type": "stream",
     "text": [
      " 10%|\u001b[34m█         \u001b[0m| 1/10 [00:06<00:56,  6.26s/it]\n",
      "  0%|\u001b[34m          \u001b[0m| 0/10 [00:00<?, ?it/s]\n"
     ]
    },
    {
     "name": "stdout",
     "output_type": "stream",
     "text": [
      "\u001b[36m(launch_and_fit pid=7873)\u001b[0m \tTrain Epoch: 2 \tTrain_loss: 0.9140 | Train_acc: 69.5920 % | Validation_loss: 1.1580 | Validation_acc: 58.5399 %\u001b[32m [repeated 2x across cluster]\u001b[0m\n"
     ]
    },
    {
     "name": "stderr",
     "output_type": "stream",
     "text": [
      " 20%|\u001b[34m██        \u001b[0m| 2/10 [00:11<00:47,  5.94s/it]\u001b[32m [repeated 2x across cluster]\u001b[0m\n"
     ]
    },
    {
     "name": "stdout",
     "output_type": "stream",
     "text": [
      "\u001b[36m(launch_and_fit pid=7873)\u001b[0m \tTrain Epoch: 3 \tTrain_loss: 0.7688 | Train_acc: 74.4575 % | Validation_loss: 1.1847 | Validation_acc: 60.4391 %\u001b[32m [repeated 2x across cluster]\u001b[0m\n"
     ]
    },
    {
     "name": "stderr",
     "output_type": "stream",
     "text": [
      " 30%|\u001b[34m███       \u001b[0m| 3/10 [00:17<00:41,  5.89s/it]\u001b[32m [repeated 2x across cluster]\u001b[0m\n"
     ]
    },
    {
     "name": "stdout",
     "output_type": "stream",
     "text": [
      "\u001b[36m(launch_and_fit pid=7873)\u001b[0m \tTrain Epoch: 4 \tTrain_loss: 0.7075 | Train_acc: 76.6363 % | Validation_loss: 1.1657 | Validation_acc: 59.9879 %\u001b[32m [repeated 2x across cluster]\u001b[0m\n"
     ]
    },
    {
     "name": "stderr",
     "output_type": "stream",
     "text": [
      " 40%|\u001b[34m████      \u001b[0m| 4/10 [00:23<00:35,  5.87s/it]\u001b[32m [repeated 2x across cluster]\u001b[0m\n"
     ]
    },
    {
     "name": "stdout",
     "output_type": "stream",
     "text": [
      "\u001b[36m(launch_and_fit pid=7873)\u001b[0m \tTrain Epoch: 5 \tTrain_loss: 0.6140 | Train_acc: 80.8030 % | Validation_loss: 1.1989 | Validation_acc: 59.8532 %\u001b[32m [repeated 2x across cluster]\u001b[0m\n"
     ]
    },
    {
     "name": "stderr",
     "output_type": "stream",
     "text": [
      " 50%|\u001b[34m█████     \u001b[0m| 5/10 [00:29<00:29,  5.94s/it]\u001b[32m [repeated 2x across cluster]\u001b[0m\n"
     ]
    },
    {
     "name": "stdout",
     "output_type": "stream",
     "text": [
      "\u001b[36m(launch_and_fit pid=7873)\u001b[0m \tTrain Epoch: 6 \tTrain_loss: 0.5898 | Train_acc: 81.8620 % | Validation_loss: 1.1901 | Validation_acc: 60.6142 %\u001b[32m [repeated 2x across cluster]\u001b[0m\n"
     ]
    },
    {
     "name": "stderr",
     "output_type": "stream",
     "text": [
      " 60%|\u001b[34m██████    \u001b[0m| 6/10 [00:35<00:23,  5.92s/it]\u001b[32m [repeated 2x across cluster]\u001b[0m\n"
     ]
    },
    {
     "name": "stdout",
     "output_type": "stream",
     "text": [
      "\u001b[36m(launch_and_fit pid=7873)\u001b[0m \tTrain Epoch: 7 \tTrain_loss: 0.5300 | Train_acc: 84.8003 % | Validation_loss: 1.1510 | Validation_acc: 61.4157 %\u001b[32m [repeated 2x across cluster]\u001b[0m\n"
     ]
    },
    {
     "name": "stderr",
     "output_type": "stream",
     "text": [
      " 70%|\u001b[34m███████   \u001b[0m| 7/10 [00:41<00:17,  5.90s/it]\u001b[32m [repeated 2x across cluster]\u001b[0m\n"
     ]
    },
    {
     "name": "stdout",
     "output_type": "stream",
     "text": [
      "\u001b[36m(launch_and_fit pid=7873)\u001b[0m \tTrain Epoch: 8 \tTrain_loss: 0.5020 | Train_acc: 86.6146 % | Validation_loss: 1.2109 | Validation_acc: 60.6546 %\u001b[32m [repeated 2x across cluster]\u001b[0m\n"
     ]
    },
    {
     "name": "stderr",
     "output_type": "stream",
     "text": [
      " 80%|\u001b[34m████████  \u001b[0m| 8/10 [00:47<00:11,  5.87s/it]\u001b[32m [repeated 2x across cluster]\u001b[0m\n"
     ]
    },
    {
     "name": "stdout",
     "output_type": "stream",
     "text": [
      "\u001b[36m(launch_and_fit pid=7873)\u001b[0m \tTrain Epoch: 9 \tTrain_loss: 0.5560 | Train_acc: 83.4158 % | Validation_loss: 1.2177 | Validation_acc: 60.4930 %\u001b[32m [repeated 2x across cluster]\u001b[0m\n"
     ]
    },
    {
     "name": "stderr",
     "output_type": "stream",
     "text": [
      " 90%|\u001b[34m█████████ \u001b[0m| 9/10 [00:52<00:05,  5.81s/it]\u001b[32m [repeated 2x across cluster]\u001b[0m\n"
     ]
    },
    {
     "name": "stdout",
     "output_type": "stream",
     "text": [
      "\u001b[36m(launch_and_fit pid=7873)\u001b[0m save graph in  results/FL/\n",
      "\u001b[36m(launch_and_fit pid=7873)\u001b[0m \tTrain Epoch: 10 \tTrain_loss: 0.4916 | Train_acc: 87.3438 % | Validation_loss: 1.2107 | Validation_acc: 61.3955 %\u001b[32m [repeated 2x across cluster]\u001b[0m\n"
     ]
    },
    {
     "name": "stderr",
     "output_type": "stream",
     "text": [
      "100%|\u001b[34m██████████\u001b[0m| 10/10 [00:59<00:00,  5.92s/it]\u001b[32m [repeated 2x across cluster]\u001b[0m\n"
     ]
    },
    {
     "name": "stdout",
     "output_type": "stream",
     "text": [
      "\u001b[36m(launch_and_fit pid=7873)\u001b[0m network.0.weight 4.76837158203125e-06\n",
      "\u001b[36m(launch_and_fit pid=7873)\u001b[0m network.0.bias 1.6689300537109375e-06\n",
      "\u001b[36m(launch_and_fit pid=7873)\u001b[0m network.2.weight 1.1920928955078125e-06\n",
      "\u001b[36m(launch_and_fit pid=7873)\u001b[0m network.2.bias 1.430511474609375e-06\n",
      "\u001b[36m(launch_and_fit pid=7873)\u001b[0m network.5.weight 1.430511474609375e-06\n",
      "\u001b[36m(launch_and_fit pid=7873)\u001b[0m network.5.bias 9.5367431640625e-07\n",
      "\u001b[36m(launch_and_fit pid=7873)\u001b[0m network.7.weight 1.1920928955078125e-06\n",
      "\u001b[36m(launch_and_fit pid=7873)\u001b[0m network.7.bias 9.5367431640625e-07\n",
      "\u001b[36m(launch_and_fit pid=7873)\u001b[0m network.10.weight 1.1920928955078125e-06\n",
      "\u001b[36m(launch_and_fit pid=7873)\u001b[0m network.10.bias 1.1920928955078125e-06\n",
      "\u001b[36m(launch_and_fit pid=7873)\u001b[0m network.12.weight 1.1920928955078125e-06\n",
      "\u001b[36m(launch_and_fit pid=7873)\u001b[0m network.12.bias 9.5367431640625e-07\n",
      "\u001b[36m(launch_and_fit pid=7873)\u001b[0m network.16.weight 1.1920928955078125e-06\n",
      "\u001b[36m(launch_and_fit pid=7873)\u001b[0m network.16.bias 1.1920928955078125e-06\n",
      "\u001b[36m(launch_and_fit pid=7873)\u001b[0m network.18.weight 9.5367431640625e-07\n",
      "\u001b[36m(launch_and_fit pid=7873)\u001b[0m network.18.bias 9.5367431640625e-07\n",
      "\u001b[36m(launch_and_fit pid=7873)\u001b[0m network.20.weight 1.1920928955078125e-06\n",
      "\u001b[36m(launch_and_fit pid=7873)\u001b[0m network.20.bias 1.1920928955078125e-06\n",
      "\u001b[36m(launch_and_fit pid=7873)\u001b[0m qnn.weights 9.5367431640625e-07\n",
      "\u001b[36m(launch_and_fit pid=7873)\u001b[0m fc4.weight 2.1457672119140625e-06\n",
      "\u001b[36m(launch_and_fit pid=7873)\u001b[0m fc4.bias 1.430511474609375e-06\n",
      "\u001b[36m(launch_and_fit pid=7956)\u001b[0m Run with homomorphic encryption\n",
      "\u001b[36m(launch_and_fit pid=7898)\u001b[0m save graph in  results/FL/\n",
      "\u001b[36m(launch_and_fit pid=7898)\u001b[0m \tTrain Epoch: 10 \tTrain_loss: 0.4364 | Train_acc: 90.0434 % | Validation_loss: 1.3807 | Validation_acc: 57.1121 %\n",
      "\u001b[36m(launch_and_fit pid=7898)\u001b[0m fc4.bias 1.1920928955078125e-06\u001b[32m [repeated 20x across cluster]\u001b[0m\n",
      "\u001b[36m(launch_and_fit pid=7898)\u001b[0m qnn.weights 9.5367431640625e-07\n",
      "\u001b[36m(launch_and_fit pid=7956)\u001b[0m [Client 5, round 10] fit, config: {'learning_rate': 0.001, 'batch_size': '128', 'server_round': 10, 'local_epochs': 10}\n",
      "\u001b[36m(launch_and_fit pid=7956)\u001b[0m Updated model\n"
     ]
    },
    {
     "name": "stderr",
     "output_type": "stream",
     "text": [
      "  0%|\u001b[34m          \u001b[0m| 0/10 [00:00<?, ?it/s]\n",
      "100%|\u001b[34m██████████\u001b[0m| 10/10 [00:59<00:00,  5.94s/it]\n"
     ]
    },
    {
     "name": "stdout",
     "output_type": "stream",
     "text": [
      "\u001b[36m(launch_and_fit pid=7956)\u001b[0m \tTrain Epoch: 1 \tTrain_loss: 1.1340 | Train_acc: 60.2127 % | Validation_loss: 1.2622 | Validation_acc: 53.9265 %\n",
      "\u001b[36m(launch_and_fit pid=7981)\u001b[0m Run with homomorphic encryption\n",
      "\u001b[36m(launch_and_fit pid=7981)\u001b[0m [Client 8, round 10] fit, config: {'learning_rate': 0.001, 'batch_size': '128', 'server_round': 10, 'local_epochs': 10}\n",
      "\u001b[36m(launch_and_fit pid=7981)\u001b[0m Updated model\n"
     ]
    },
    {
     "name": "stderr",
     "output_type": "stream",
     "text": [
      " 10%|\u001b[34m█         \u001b[0m| 1/10 [00:06<00:56,  6.30s/it]\n",
      "  0%|\u001b[34m          \u001b[0m| 0/10 [00:00<?, ?it/s]\n"
     ]
    },
    {
     "name": "stdout",
     "output_type": "stream",
     "text": [
      "\u001b[36m(launch_and_fit pid=7956)\u001b[0m \tTrain Epoch: 2 \tTrain_loss: 0.9588 | Train_acc: 67.0920 % | Validation_loss: 1.3047 | Validation_acc: 57.9203 %\u001b[32m [repeated 2x across cluster]\u001b[0m\n"
     ]
    },
    {
     "name": "stderr",
     "output_type": "stream",
     "text": [
      " 20%|\u001b[34m██        \u001b[0m| 2/10 [00:12<00:48,  6.03s/it]\u001b[32m [repeated 2x across cluster]\u001b[0m\n"
     ]
    },
    {
     "name": "stdout",
     "output_type": "stream",
     "text": [
      "\u001b[36m(launch_and_fit pid=7956)\u001b[0m \tTrain Epoch: 3 \tTrain_loss: 0.8089 | Train_acc: 73.2639 % | Validation_loss: 1.2380 | Validation_acc: 57.6643 %\u001b[32m [repeated 2x across cluster]\u001b[0m\n"
     ]
    },
    {
     "name": "stderr",
     "output_type": "stream",
     "text": [
      " 30%|\u001b[34m███       \u001b[0m| 3/10 [00:18<00:42,  6.13s/it]\u001b[32m [repeated 2x across cluster]\u001b[0m\n"
     ]
    },
    {
     "name": "stdout",
     "output_type": "stream",
     "text": [
      "\u001b[36m(launch_and_fit pid=7956)\u001b[0m \tTrain Epoch: 4 \tTrain_loss: 0.7066 | Train_acc: 78.0859 % | Validation_loss: 1.2407 | Validation_acc: 58.6005 %\u001b[32m [repeated 2x across cluster]\u001b[0m\n"
     ]
    },
    {
     "name": "stderr",
     "output_type": "stream",
     "text": [
      " 40%|\u001b[34m████      \u001b[0m| 4/10 [00:24<00:36,  6.04s/it]\u001b[32m [repeated 2x across cluster]\u001b[0m\n"
     ]
    },
    {
     "name": "stdout",
     "output_type": "stream",
     "text": [
      "\u001b[36m(launch_and_fit pid=7956)\u001b[0m \tTrain Epoch: 5 \tTrain_loss: 0.6445 | Train_acc: 79.7700 % | Validation_loss: 1.2551 | Validation_acc: 58.7756 %\u001b[32m [repeated 2x across cluster]\u001b[0m\n"
     ]
    },
    {
     "name": "stderr",
     "output_type": "stream",
     "text": [
      " 50%|\u001b[34m█████     \u001b[0m| 5/10 [00:30<00:29,  5.97s/it]\u001b[32m [repeated 2x across cluster]\u001b[0m\n"
     ]
    },
    {
     "name": "stdout",
     "output_type": "stream",
     "text": [
      "\u001b[36m(launch_and_fit pid=7956)\u001b[0m \tTrain Epoch: 6 \tTrain_loss: 0.6067 | Train_acc: 81.2283 % | Validation_loss: 1.2711 | Validation_acc: 58.7958 %\u001b[32m [repeated 2x across cluster]\u001b[0m\n"
     ]
    },
    {
     "name": "stderr",
     "output_type": "stream",
     "text": [
      " 60%|\u001b[34m██████    \u001b[0m| 6/10 [00:35<00:23,  5.91s/it]\u001b[32m [repeated 2x across cluster]\u001b[0m\n"
     ]
    },
    {
     "name": "stdout",
     "output_type": "stream",
     "text": [
      "\u001b[36m(launch_and_fit pid=7956)\u001b[0m \tTrain Epoch: 7 \tTrain_loss: 0.5577 | Train_acc: 85.0781 % | Validation_loss: 1.2645 | Validation_acc: 56.9976 %\u001b[32m [repeated 2x across cluster]\u001b[0m\n"
     ]
    },
    {
     "name": "stderr",
     "output_type": "stream",
     "text": [
      " 70%|\u001b[34m███████   \u001b[0m| 7/10 [00:41<00:17,  5.87s/it]\u001b[32m [repeated 2x across cluster]\u001b[0m\n"
     ]
    },
    {
     "name": "stdout",
     "output_type": "stream",
     "text": [
      "\u001b[36m(launch_and_fit pid=7956)\u001b[0m \tTrain Epoch: 8 \tTrain_loss: 0.5090 | Train_acc: 87.0052 % | Validation_loss: 1.2925 | Validation_acc: 59.4019 %\u001b[32m [repeated 2x across cluster]\u001b[0m\n"
     ]
    },
    {
     "name": "stderr",
     "output_type": "stream",
     "text": [
      " 80%|\u001b[34m████████  \u001b[0m| 8/10 [00:47<00:11,  5.96s/it]\u001b[32m [repeated 2x across cluster]\u001b[0m\n"
     ]
    },
    {
     "name": "stdout",
     "output_type": "stream",
     "text": [
      "\u001b[36m(launch_and_fit pid=7956)\u001b[0m \tTrain Epoch: 9 \tTrain_loss: 0.4903 | Train_acc: 88.4505 % | Validation_loss: 1.2508 | Validation_acc: 58.7756 %\u001b[32m [repeated 2x across cluster]\u001b[0m\n"
     ]
    },
    {
     "name": "stderr",
     "output_type": "stream",
     "text": [
      " 90%|\u001b[34m█████████ \u001b[0m| 9/10 [00:53<00:05,  5.93s/it]\u001b[32m [repeated 2x across cluster]\u001b[0m\n"
     ]
    },
    {
     "name": "stdout",
     "output_type": "stream",
     "text": [
      "\u001b[36m(launch_and_fit pid=7956)\u001b[0m save graph in  results/FL/\n",
      "\u001b[36m(launch_and_fit pid=7956)\u001b[0m \tTrain Epoch: 10 \tTrain_loss: 0.4506 | Train_acc: 90.4210 % | Validation_loss: 1.2258 | Validation_acc: 61.3012 %\u001b[32m [repeated 2x across cluster]\u001b[0m\n"
     ]
    },
    {
     "name": "stderr",
     "output_type": "stream",
     "text": [
      "100%|\u001b[34m██████████\u001b[0m| 10/10 [00:59<00:00,  5.97s/it]\u001b[32m [repeated 2x across cluster]\u001b[0m\n"
     ]
    },
    {
     "name": "stdout",
     "output_type": "stream",
     "text": [
      "\u001b[36m(launch_and_fit pid=7956)\u001b[0m network.0.weight 5.245208740234375e-06\n",
      "\u001b[36m(launch_and_fit pid=7956)\u001b[0m network.0.bias 1.6689300537109375e-06\n",
      "\u001b[36m(launch_and_fit pid=7956)\u001b[0m network.2.weight 1.1920928955078125e-06\n",
      "\u001b[36m(launch_and_fit pid=7956)\u001b[0m network.2.bias 1.1920928955078125e-06\n",
      "\u001b[36m(launch_and_fit pid=7956)\u001b[0m network.5.weight 1.1920928955078125e-06\n",
      "\u001b[36m(launch_and_fit pid=7956)\u001b[0m network.5.bias 1.1920928955078125e-06\n",
      "\u001b[36m(launch_and_fit pid=7956)\u001b[0m network.7.weight 1.1920928955078125e-06\n",
      "\u001b[36m(launch_and_fit pid=7956)\u001b[0m network.7.bias 1.430511474609375e-06\n",
      "\u001b[36m(launch_and_fit pid=7956)\u001b[0m network.10.weight 1.430511474609375e-06\n",
      "\u001b[36m(launch_and_fit pid=7956)\u001b[0m network.10.bias 1.1920928955078125e-06\n",
      "\u001b[36m(launch_and_fit pid=7956)\u001b[0m network.12.weight 1.430511474609375e-06\n",
      "\u001b[36m(launch_and_fit pid=7956)\u001b[0m network.12.bias 1.430511474609375e-06\n",
      "\u001b[36m(launch_and_fit pid=7956)\u001b[0m network.16.weight 1.430511474609375e-06\n",
      "\u001b[36m(launch_and_fit pid=7956)\u001b[0m network.16.bias 1.1920928955078125e-06\n",
      "\u001b[36m(launch_and_fit pid=7956)\u001b[0m network.18.weight 1.1920928955078125e-06\n",
      "\u001b[36m(launch_and_fit pid=7956)\u001b[0m network.18.bias 9.5367431640625e-07\n",
      "\u001b[36m(launch_and_fit pid=7956)\u001b[0m network.20.weight 1.1920928955078125e-06\n",
      "\u001b[36m(launch_and_fit pid=7956)\u001b[0m network.20.bias 1.430511474609375e-06\n",
      "\u001b[36m(launch_and_fit pid=7956)\u001b[0m qnn.weights 1.1920928955078125e-06\n",
      "\u001b[36m(launch_and_fit pid=7956)\u001b[0m fc4.weight 1.430511474609375e-06\n",
      "\u001b[36m(launch_and_fit pid=7956)\u001b[0m fc4.bias 1.430511474609375e-06\n",
      "\u001b[36m(launch_and_fit pid=8038)\u001b[0m Run with homomorphic encryption\n",
      "\u001b[36m(launch_and_fit pid=7981)\u001b[0m save graph in  results/FL/\n",
      "\u001b[36m(launch_and_fit pid=7981)\u001b[0m \tTrain Epoch: 10 \tTrain_loss: 0.4684 | Train_acc: 89.4618 % | Validation_loss: 1.3310 | Validation_acc: 56.1961 %\n",
      "\u001b[36m(launch_and_fit pid=7981)\u001b[0m fc4.bias 9.5367431640625e-07\u001b[32m [repeated 20x across cluster]\u001b[0m\n",
      "\u001b[36m(launch_and_fit pid=7981)\u001b[0m qnn.weights 1.1920928955078125e-06\n",
      "\u001b[36m(launch_and_fit pid=8038)\u001b[0m [Client 2, round 10] fit, config: {'learning_rate': 0.001, 'batch_size': '128', 'server_round': 10, 'local_epochs': 10}\n",
      "\u001b[36m(launch_and_fit pid=8038)\u001b[0m Updated model\n"
     ]
    },
    {
     "name": "stderr",
     "output_type": "stream",
     "text": [
      "  0%|\u001b[34m          \u001b[0m| 0/10 [00:00<?, ?it/s]\n",
      "100%|\u001b[34m██████████\u001b[0m| 10/10 [00:59<00:00,  5.90s/it]\n"
     ]
    },
    {
     "name": "stdout",
     "output_type": "stream",
     "text": [
      "\u001b[36m(launch_and_fit pid=8038)\u001b[0m \tTrain Epoch: 1 \tTrain_loss: 1.1162 | Train_acc: 62.3394 % | Validation_loss: 1.4305 | Validation_acc: 52.2831 %\n",
      "\u001b[36m(launch_and_fit pid=8040)\u001b[0m Run with homomorphic encryption\n",
      "\u001b[36m(launch_and_fit pid=8040)\u001b[0m [Client 0, round 10] fit, config: {'learning_rate': 0.001, 'batch_size': '128', 'server_round': 10, 'local_epochs': 10}\n",
      "\u001b[36m(launch_and_fit pid=8040)\u001b[0m Updated model\n"
     ]
    },
    {
     "name": "stderr",
     "output_type": "stream",
     "text": [
      " 10%|\u001b[34m█         \u001b[0m| 1/10 [00:06<00:59,  6.62s/it]\n",
      "  0%|\u001b[34m          \u001b[0m| 0/10 [00:00<?, ?it/s]\n"
     ]
    },
    {
     "name": "stdout",
     "output_type": "stream",
     "text": [
      "\u001b[36m(launch_and_fit pid=8038)\u001b[0m \tTrain Epoch: 2 \tTrain_loss: 0.9159 | Train_acc: 68.8672 % | Validation_loss: 1.3605 | Validation_acc: 52.8691 %\u001b[32m [repeated 2x across cluster]\u001b[0m\n"
     ]
    },
    {
     "name": "stderr",
     "output_type": "stream",
     "text": [
      " 20%|\u001b[34m██        \u001b[0m| 2/10 [00:12<00:49,  6.21s/it]\u001b[32m [repeated 2x across cluster]\u001b[0m\n"
     ]
    },
    {
     "name": "stdout",
     "output_type": "stream",
     "text": [
      "\u001b[36m(launch_and_fit pid=8038)\u001b[0m \tTrain Epoch: 3 \tTrain_loss: 0.7795 | Train_acc: 73.9019 % | Validation_loss: 1.3926 | Validation_acc: 53.1856 %\u001b[32m [repeated 2x across cluster]\u001b[0m\n"
     ]
    },
    {
     "name": "stderr",
     "output_type": "stream",
     "text": [
      " 30%|\u001b[34m███       \u001b[0m| 3/10 [00:18<00:42,  6.03s/it]\u001b[32m [repeated 2x across cluster]\u001b[0m\n"
     ]
    },
    {
     "name": "stdout",
     "output_type": "stream",
     "text": [
      "\u001b[36m(launch_and_fit pid=8038)\u001b[0m \tTrain Epoch: 4 \tTrain_loss: 0.6765 | Train_acc: 78.1510 % | Validation_loss: 1.3972 | Validation_acc: 53.1452 %\u001b[32m [repeated 2x across cluster]\u001b[0m\n"
     ]
    },
    {
     "name": "stderr",
     "output_type": "stream",
     "text": [
      " 40%|\u001b[34m████      \u001b[0m| 4/10 [00:24<00:35,  5.90s/it]\u001b[32m [repeated 2x across cluster]\u001b[0m\n"
     ]
    },
    {
     "name": "stdout",
     "output_type": "stream",
     "text": [
      "\u001b[36m(launch_and_fit pid=8038)\u001b[0m \tTrain Epoch: 5 \tTrain_loss: 0.6211 | Train_acc: 80.6944 % | Validation_loss: 1.3802 | Validation_acc: 55.5900 %\u001b[32m [repeated 2x across cluster]\u001b[0m\n"
     ]
    },
    {
     "name": "stderr",
     "output_type": "stream",
     "text": [
      " 50%|\u001b[34m█████     \u001b[0m| 5/10 [00:29<00:29,  5.84s/it]\u001b[32m [repeated 2x across cluster]\u001b[0m\n"
     ]
    },
    {
     "name": "stdout",
     "output_type": "stream",
     "text": [
      "\u001b[36m(launch_and_fit pid=8038)\u001b[0m \tTrain Epoch: 6 \tTrain_loss: 0.5934 | Train_acc: 81.7708 % | Validation_loss: 1.4779 | Validation_acc: 53.9467 %\u001b[32m [repeated 2x across cluster]\u001b[0m\n"
     ]
    },
    {
     "name": "stderr",
     "output_type": "stream",
     "text": [
      " 60%|\u001b[34m██████    \u001b[0m| 6/10 [00:35<00:23,  5.94s/it]\u001b[32m [repeated 2x across cluster]\u001b[0m\n"
     ]
    },
    {
     "name": "stdout",
     "output_type": "stream",
     "text": [
      "\u001b[36m(launch_and_fit pid=8038)\u001b[0m \tTrain Epoch: 7 \tTrain_loss: 0.5650 | Train_acc: 83.1858 % | Validation_loss: 1.3928 | Validation_acc: 55.8257 %\u001b[32m [repeated 2x across cluster]\u001b[0m\n"
     ]
    },
    {
     "name": "stderr",
     "output_type": "stream",
     "text": [
      " 70%|\u001b[34m███████   \u001b[0m| 7/10 [00:41<00:17,  5.95s/it]\u001b[32m [repeated 2x across cluster]\u001b[0m\n"
     ]
    },
    {
     "name": "stdout",
     "output_type": "stream",
     "text": [
      "\u001b[36m(launch_and_fit pid=8038)\u001b[0m \tTrain Epoch: 8 \tTrain_loss: 0.5160 | Train_acc: 85.8464 % | Validation_loss: 1.3766 | Validation_acc: 56.7821 %\u001b[32m [repeated 2x across cluster]\u001b[0m\n"
     ]
    },
    {
     "name": "stderr",
     "output_type": "stream",
     "text": [
      " 80%|\u001b[34m████████  \u001b[0m| 8/10 [00:47<00:11,  5.90s/it]\u001b[32m [repeated 2x across cluster]\u001b[0m\n"
     ]
    },
    {
     "name": "stdout",
     "output_type": "stream",
     "text": [
      "\u001b[36m(launch_and_fit pid=8038)\u001b[0m \tTrain Epoch: 9 \tTrain_loss: 0.4867 | Train_acc: 87.0182 % | Validation_loss: 1.4236 | Validation_acc: 54.5730 %\u001b[32m [repeated 2x across cluster]\u001b[0m\n"
     ]
    },
    {
     "name": "stderr",
     "output_type": "stream",
     "text": [
      " 90%|\u001b[34m█████████ \u001b[0m| 9/10 [00:53<00:05,  5.90s/it]\u001b[32m [repeated 2x across cluster]\u001b[0m\n"
     ]
    },
    {
     "name": "stdout",
     "output_type": "stream",
     "text": [
      "\u001b[36m(launch_and_fit pid=8038)\u001b[0m save graph in  results/FL/\n",
      "\u001b[36m(launch_and_fit pid=8038)\u001b[0m \tTrain Epoch: 10 \tTrain_loss: 0.4696 | Train_acc: 88.4201 % | Validation_loss: 1.4503 | Validation_acc: 53.0105 %\u001b[32m [repeated 2x across cluster]\u001b[0m\n"
     ]
    },
    {
     "name": "stderr",
     "output_type": "stream",
     "text": [
      "100%|\u001b[34m██████████\u001b[0m| 10/10 [00:59<00:00,  5.95s/it]\u001b[32m [repeated 2x across cluster]\u001b[0m\n"
     ]
    },
    {
     "name": "stdout",
     "output_type": "stream",
     "text": [
      "\u001b[36m(launch_and_fit pid=8038)\u001b[0m network.0.weight 5.9604644775390625e-06\n",
      "\u001b[36m(launch_and_fit pid=8038)\u001b[0m network.0.bias 1.6689300537109375e-06\n",
      "\u001b[36m(launch_and_fit pid=8038)\u001b[0m network.2.weight 1.430511474609375e-06\n",
      "\u001b[36m(launch_and_fit pid=8038)\u001b[0m network.2.bias 1.1920928955078125e-06\n",
      "\u001b[36m(launch_and_fit pid=8038)\u001b[0m network.5.weight 1.430511474609375e-06\n",
      "\u001b[36m(launch_and_fit pid=8038)\u001b[0m network.5.bias 1.1920928955078125e-06\n",
      "\u001b[36m(launch_and_fit pid=8038)\u001b[0m network.7.weight 9.5367431640625e-07\n",
      "\u001b[36m(launch_and_fit pid=8038)\u001b[0m network.7.bias 1.1920928955078125e-06\n",
      "\u001b[36m(launch_and_fit pid=8038)\u001b[0m network.10.weight 1.430511474609375e-06\n",
      "\u001b[36m(launch_and_fit pid=8038)\u001b[0m network.10.bias 1.1920928955078125e-06\n",
      "\u001b[36m(launch_and_fit pid=8038)\u001b[0m network.12.weight 1.1920928955078125e-06\n",
      "\u001b[36m(launch_and_fit pid=8038)\u001b[0m network.12.bias 9.5367431640625e-07\n",
      "\u001b[36m(launch_and_fit pid=8038)\u001b[0m network.16.weight 1.1920928955078125e-06\n",
      "\u001b[36m(launch_and_fit pid=8038)\u001b[0m network.16.bias 1.1920928955078125e-06\n",
      "\u001b[36m(launch_and_fit pid=8038)\u001b[0m network.18.weight 9.5367431640625e-07\n",
      "\u001b[36m(launch_and_fit pid=8038)\u001b[0m network.18.bias 1.1920928955078125e-06\n",
      "\u001b[36m(launch_and_fit pid=8038)\u001b[0m network.20.weight 1.1920928955078125e-06\n",
      "\u001b[36m(launch_and_fit pid=8038)\u001b[0m network.20.bias 9.5367431640625e-07\n",
      "\u001b[36m(launch_and_fit pid=8038)\u001b[0m qnn.weights 1.1920928955078125e-06\n",
      "\u001b[36m(launch_and_fit pid=8038)\u001b[0m fc4.weight 1.1920928955078125e-06\n",
      "\u001b[36m(launch_and_fit pid=8038)\u001b[0m fc4.bias 1.1920928955078125e-06\n",
      "\u001b[36m(launch_and_fit pid=8120)\u001b[0m Run with homomorphic encryption\n",
      "\u001b[36m(launch_and_fit pid=8040)\u001b[0m save graph in  results/FL/\n",
      "\u001b[36m(launch_and_fit pid=8040)\u001b[0m \tTrain Epoch: 10 \tTrain_loss: 0.5093 | Train_acc: 86.4844 % | Validation_loss: 1.1844 | Validation_acc: 63.5102 %\n",
      "\u001b[36m(launch_and_fit pid=8040)\u001b[0m fc4.bias 1.1920928955078125e-06\u001b[32m [repeated 20x across cluster]\u001b[0m\n",
      "\u001b[36m(launch_and_fit pid=8040)\u001b[0m qnn.weights 9.5367431640625e-07\n",
      "\u001b[36m(launch_and_fit pid=8120)\u001b[0m [Client 4, round 10] fit, config: {'learning_rate': 0.001, 'batch_size': '128', 'server_round': 10, 'local_epochs': 10}\n",
      "\u001b[36m(launch_and_fit pid=8120)\u001b[0m Updated model\n"
     ]
    },
    {
     "name": "stderr",
     "output_type": "stream",
     "text": [
      "  0%|\u001b[34m          \u001b[0m| 0/10 [00:00<?, ?it/s]\n",
      "100%|\u001b[34m██████████\u001b[0m| 10/10 [00:59<00:00,  5.93s/it]\n",
      " 10%|\u001b[34m█         \u001b[0m| 1/10 [00:06<00:56,  6.32s/it]\n",
      "  0%|\u001b[34m          \u001b[0m| 0/10 [00:00<?, ?it/s]\n"
     ]
    },
    {
     "name": "stdout",
     "output_type": "stream",
     "text": [
      "\u001b[36m(launch_and_fit pid=8122)\u001b[0m \tTrain Epoch: 1 \tTrain_loss: 1.0910 | Train_acc: 62.7778 % | Validation_loss: 1.3144 | Validation_acc: 57.7788 %\n",
      "\u001b[36m(launch_and_fit pid=8122)\u001b[0m Run with homomorphic encryption\n",
      "\u001b[36m(launch_and_fit pid=8122)\u001b[0m [Client 1, round 10] fit, config: {'learning_rate': 0.001, 'batch_size': '128', 'server_round': 10, 'local_epochs': 10}\n",
      "\u001b[36m(launch_and_fit pid=8122)\u001b[0m Updated model\n",
      "\u001b[36m(launch_and_fit pid=8120)\u001b[0m \tTrain Epoch: 2 \tTrain_loss: 0.9141 | Train_acc: 69.2188 % | Validation_loss: 1.3716 | Validation_acc: 56.0412 %\u001b[32m [repeated 2x across cluster]\u001b[0m\n"
     ]
    },
    {
     "name": "stderr",
     "output_type": "stream",
     "text": [
      " 20%|\u001b[34m██        \u001b[0m| 2/10 [00:12<00:48,  6.05s/it]\u001b[32m [repeated 2x across cluster]\u001b[0m\n"
     ]
    },
    {
     "name": "stdout",
     "output_type": "stream",
     "text": [
      "\u001b[36m(launch_and_fit pid=8120)\u001b[0m \tTrain Epoch: 3 \tTrain_loss: 0.7761 | Train_acc: 75.6424 % | Validation_loss: 1.3533 | Validation_acc: 57.4084 %\u001b[32m [repeated 2x across cluster]\u001b[0m\n"
     ]
    },
    {
     "name": "stderr",
     "output_type": "stream",
     "text": [
      " 30%|\u001b[34m███       \u001b[0m| 3/10 [00:18<00:41,  5.94s/it]\u001b[32m [repeated 2x across cluster]\u001b[0m\n",
      " 40%|\u001b[34m████      \u001b[0m| 4/10 [00:24<00:36,  6.05s/it]\u001b[32m [repeated 2x across cluster]\u001b[0m\n"
     ]
    },
    {
     "name": "stdout",
     "output_type": "stream",
     "text": [
      "\u001b[36m(launch_and_fit pid=8122)\u001b[0m \tTrain Epoch: 4 \tTrain_loss: 0.7077 | Train_acc: 76.9227 % | Validation_loss: 1.2773 | Validation_acc: 58.0145 %\u001b[32m [repeated 2x across cluster]\u001b[0m\n"
     ]
    },
    {
     "name": "stderr",
     "output_type": "stream",
     "text": [
      " 50%|\u001b[34m█████     \u001b[0m| 5/10 [00:29<00:29,  5.94s/it]\u001b[32m [repeated 2x across cluster]\u001b[0m\n"
     ]
    },
    {
     "name": "stdout",
     "output_type": "stream",
     "text": [
      "\u001b[36m(launch_and_fit pid=8122)\u001b[0m \tTrain Epoch: 5 \tTrain_loss: 0.6262 | Train_acc: 80.7682 % | Validation_loss: 1.2985 | Validation_acc: 56.9976 %\u001b[32m [repeated 2x across cluster]\u001b[0m\n"
     ]
    },
    {
     "name": "stderr",
     "output_type": "stream",
     "text": [
      " 60%|\u001b[34m██████    \u001b[0m| 6/10 [00:35<00:23,  5.97s/it]\u001b[32m [repeated 2x across cluster]\u001b[0m\n"
     ]
    },
    {
     "name": "stdout",
     "output_type": "stream",
     "text": [
      "\u001b[36m(launch_and_fit pid=8122)\u001b[0m \tTrain Epoch: 6 \tTrain_loss: 0.5988 | Train_acc: 82.1267 % | Validation_loss: 1.3454 | Validation_acc: 58.5399 %\u001b[32m [repeated 2x across cluster]\u001b[0m\n"
     ]
    },
    {
     "name": "stderr",
     "output_type": "stream",
     "text": [
      " 70%|\u001b[34m███████   \u001b[0m| 7/10 [00:41<00:17,  5.93s/it]\u001b[32m [repeated 2x across cluster]\u001b[0m\n"
     ]
    },
    {
     "name": "stdout",
     "output_type": "stream",
     "text": [
      "\u001b[36m(launch_and_fit pid=8122)\u001b[0m \tTrain Epoch: 7 \tTrain_loss: 0.5336 | Train_acc: 84.8785 % | Validation_loss: 1.3137 | Validation_acc: 58.5601 %\u001b[32m [repeated 2x across cluster]\u001b[0m\n",
      "\u001b[36m(launch_and_fit pid=8120)\u001b[0m \tTrain Epoch: 8 \tTrain_loss: 0.5288 | Train_acc: 85.8594 % | Validation_loss: 1.4740 | Validation_acc: 55.6304 %\u001b[32m [repeated 2x across cluster]\u001b[0m\n"
     ]
    },
    {
     "name": "stderr",
     "output_type": "stream",
     "text": [
      " 80%|\u001b[34m████████  \u001b[0m| 8/10 [00:47<00:11,  5.93s/it]\u001b[32m [repeated 2x across cluster]\u001b[0m\n",
      " 90%|\u001b[34m█████████ \u001b[0m| 9/10 [00:53<00:05,  5.97s/it]\u001b[32m [repeated 2x across cluster]\u001b[0m\n"
     ]
    },
    {
     "name": "stdout",
     "output_type": "stream",
     "text": [
      "\u001b[36m(launch_and_fit pid=8122)\u001b[0m \tTrain Epoch: 9 \tTrain_loss: 0.4770 | Train_acc: 87.4089 % | Validation_loss: 1.3353 | Validation_acc: 59.9475 %\u001b[32m [repeated 2x across cluster]\u001b[0m\n"
     ]
    },
    {
     "name": "stderr",
     "output_type": "stream",
     "text": [
      "100%|\u001b[34m██████████\u001b[0m| 10/10 [00:59<00:00,  5.98s/it]\u001b[32m [repeated 2x across cluster]\u001b[0m\n"
     ]
    },
    {
     "name": "stdout",
     "output_type": "stream",
     "text": [
      "\u001b[36m(launch_and_fit pid=8122)\u001b[0m save graph in  results/FL/\n",
      "\u001b[36m(launch_and_fit pid=8122)\u001b[0m \tTrain Epoch: 10 \tTrain_loss: 0.4367 | Train_acc: 88.9887 % | Validation_loss: 1.3509 | Validation_acc: 57.2872 %\u001b[32m [repeated 2x across cluster]\u001b[0m\n",
      "\u001b[36m(launch_and_fit pid=8122)\u001b[0m network.0.weight 5.245208740234375e-06\n",
      "\u001b[36m(launch_and_fit pid=8122)\u001b[0m network.0.bias 1.430511474609375e-06\n",
      "\u001b[36m(launch_and_fit pid=8122)\u001b[0m network.2.weight 1.1920928955078125e-06\n",
      "\u001b[36m(launch_and_fit pid=8122)\u001b[0m network.2.bias 1.1920928955078125e-06\n",
      "\u001b[36m(launch_and_fit pid=8122)\u001b[0m network.5.weight 1.430511474609375e-06\n",
      "\u001b[36m(launch_and_fit pid=8122)\u001b[0m network.5.bias 1.1920928955078125e-06\n",
      "\u001b[36m(launch_and_fit pid=8122)\u001b[0m network.7.weight 1.1920928955078125e-06\n",
      "\u001b[36m(launch_and_fit pid=8122)\u001b[0m network.7.bias 1.430511474609375e-06\n",
      "\u001b[36m(launch_and_fit pid=8122)\u001b[0m network.10.weight 1.1920928955078125e-06\n",
      "\u001b[36m(launch_and_fit pid=8122)\u001b[0m network.10.bias 9.5367431640625e-07\n",
      "\u001b[36m(launch_and_fit pid=8122)\u001b[0m network.12.weight 1.1920928955078125e-06\n",
      "\u001b[36m(launch_and_fit pid=8122)\u001b[0m network.12.bias 9.5367431640625e-07\n",
      "\u001b[36m(launch_and_fit pid=8122)\u001b[0m network.16.weight 9.5367431640625e-07\n",
      "\u001b[36m(launch_and_fit pid=8122)\u001b[0m network.16.bias 9.5367431640625e-07\n",
      "\u001b[36m(launch_and_fit pid=8122)\u001b[0m network.18.weight 1.1920928955078125e-06\n",
      "\u001b[36m(launch_and_fit pid=8122)\u001b[0m network.18.bias 1.1920928955078125e-06\n",
      "\u001b[36m(launch_and_fit pid=8122)\u001b[0m network.20.weight 1.1920928955078125e-06\n",
      "\u001b[36m(launch_and_fit pid=8122)\u001b[0m network.20.bias 9.5367431640625e-07\n",
      "\u001b[36m(launch_and_fit pid=8122)\u001b[0m qnn.weights 1.430511474609375e-06\n",
      "\u001b[36m(launch_and_fit pid=8122)\u001b[0m fc4.weight 1.1920928955078125e-06\n",
      "\u001b[36m(launch_and_fit pid=8122)\u001b[0m fc4.bias 9.5367431640625e-07\n"
     ]
    },
    {
     "name": "stderr",
     "output_type": "stream",
     "text": [
      "DEBUG flwr 2024-07-20 19:39:56,388 | server.py:236 | fit_round 10 received 10 results and 0 failures\n"
     ]
    },
    {
     "name": "stdout",
     "output_type": "stream",
     "text": [
      "Saving round 10 aggregated_parameters...\n"
     ]
    },
    {
     "name": "stderr",
     "output_type": "stream",
     "text": [
      "DEBUG flwr 2024-07-20 19:39:57,340 | server.py:173 | evaluate_round 10: strategy sampled 10 clients (out of 10)\n"
     ]
    },
    {
     "name": "stdout",
     "output_type": "stream",
     "text": [
      "\u001b[36m(launch_and_evaluate pid=8212)\u001b[0m Run with homomorphic encryption\n",
      "\u001b[36m(launch_and_fit pid=8120)\u001b[0m save graph in  results/FL/\n",
      "\u001b[36m(launch_and_fit pid=8120)\u001b[0m \tTrain Epoch: 10 \tTrain_loss: 0.4697 | Train_acc: 89.2839 % | Validation_loss: 1.4550 | Validation_acc: 57.0380 %\n",
      "\u001b[36m(launch_and_fit pid=8120)\u001b[0m fc4.bias 1.430511474609375e-06\u001b[32m [repeated 20x across cluster]\u001b[0m\n",
      "\u001b[36m(launch_and_fit pid=8120)\u001b[0m qnn.weights 1.1920928955078125e-06\n",
      "\u001b[36m(launch_and_evaluate pid=8212)\u001b[0m [Client 3] evaluate, config: {}\n",
      "\u001b[36m(launch_and_evaluate pid=8212)\u001b[0m Updated model\n",
      "\u001b[36m(launch_and_evaluate pid=8290)\u001b[0m Run with homomorphic encryption\u001b[32m [repeated 2x across cluster]\u001b[0m\n",
      "\u001b[36m(launch_and_evaluate pid=8211)\u001b[0m [Client 1] evaluate, config: {}\n",
      "\u001b[36m(launch_and_evaluate pid=8211)\u001b[0m Updated model\n",
      "\u001b[36m(launch_and_evaluate pid=8290)\u001b[0m [Client 2] evaluate, config: {}\n",
      "\u001b[36m(launch_and_evaluate pid=8290)\u001b[0m Updated model\n",
      "\u001b[36m(launch_and_evaluate pid=8369)\u001b[0m Run with homomorphic encryption\u001b[32m [repeated 2x across cluster]\u001b[0m\n",
      "\u001b[36m(launch_and_evaluate pid=8292)\u001b[0m [Client 6] evaluate, config: {}\n",
      "\u001b[36m(launch_and_evaluate pid=8292)\u001b[0m Updated model\n",
      "\u001b[36m(launch_and_evaluate pid=8369)\u001b[0m [Client 8] evaluate, config: {}\n",
      "\u001b[36m(launch_and_evaluate pid=8369)\u001b[0m Updated model\n",
      "\u001b[36m(launch_and_evaluate pid=8447)\u001b[0m Run with homomorphic encryption\u001b[32m [repeated 2x across cluster]\u001b[0m\n",
      "\u001b[36m(launch_and_evaluate pid=8371)\u001b[0m [Client 4] evaluate, config: {}\n",
      "\u001b[36m(launch_and_evaluate pid=8371)\u001b[0m Updated model\n",
      "\u001b[36m(launch_and_evaluate pid=8447)\u001b[0m [Client 0] evaluate, config: {}\n",
      "\u001b[36m(launch_and_evaluate pid=8447)\u001b[0m Updated model\n",
      "\u001b[36m(launch_and_evaluate pid=8526)\u001b[0m Run with homomorphic encryption\u001b[32m [repeated 2x across cluster]\u001b[0m\n",
      "\u001b[36m(launch_and_evaluate pid=8472)\u001b[0m [Client 9] evaluate, config: {}\n",
      "\u001b[36m(launch_and_evaluate pid=8472)\u001b[0m Updated model\n",
      "\u001b[36m(launch_and_evaluate pid=8526)\u001b[0m [Client 5] evaluate, config: {}\n",
      "\u001b[36m(launch_and_evaluate pid=8526)\u001b[0m Updated model\n"
     ]
    },
    {
     "name": "stderr",
     "output_type": "stream",
     "text": [
      "DEBUG flwr 2024-07-20 19:41:24,924 | server.py:187 | evaluate_round 10 received 10 results and 0 failures\n",
      "DEBUG flwr 2024-07-20 19:41:24,925 | server.py:222 | fit_round 11: strategy sampled 10 clients (out of 10)\n"
     ]
    },
    {
     "name": "stdout",
     "output_type": "stream",
     "text": [
      "\u001b[36m(launch_and_fit pid=8613)\u001b[0m Run with homomorphic encryption\u001b[32m [repeated 2x across cluster]\u001b[0m\n",
      "\u001b[36m(launch_and_evaluate pid=8528)\u001b[0m [Client 7] evaluate, config: {}\n",
      "\u001b[36m(launch_and_evaluate pid=8528)\u001b[0m Updated model\n",
      "\u001b[36m(launch_and_fit pid=8613)\u001b[0m [Client 0, round 11] fit, config: {'learning_rate': 0.001, 'batch_size': '128', 'server_round': 11, 'local_epochs': 10}\n",
      "\u001b[36m(launch_and_fit pid=8613)\u001b[0m Updated model\n"
     ]
    },
    {
     "name": "stderr",
     "output_type": "stream",
     "text": [
      "  0%|\u001b[34m          \u001b[0m| 0/10 [00:00<?, ?it/s]\n",
      "100%|\u001b[34m██████████\u001b[0m| 10/10 [01:00<00:00,  6.01s/it]\n"
     ]
    },
    {
     "name": "stdout",
     "output_type": "stream",
     "text": [
      "\u001b[36m(launch_and_fit pid=8613)\u001b[0m \tTrain Epoch: 1 \tTrain_loss: 1.0631 | Train_acc: 64.9306 % | Validation_loss: 1.1857 | Validation_acc: 58.1964 %\n",
      "\u001b[36m(launch_and_fit pid=8614)\u001b[0m Run with homomorphic encryption\n",
      "\u001b[36m(launch_and_fit pid=8614)\u001b[0m [Client 3, round 11] fit, config: {'learning_rate': 0.001, 'batch_size': '128', 'server_round': 11, 'local_epochs': 10}\n",
      "\u001b[36m(launch_and_fit pid=8614)\u001b[0m Updated model\n"
     ]
    },
    {
     "name": "stderr",
     "output_type": "stream",
     "text": [
      " 10%|\u001b[34m█         \u001b[0m| 1/10 [00:06<00:58,  6.45s/it]\n",
      "  0%|\u001b[34m          \u001b[0m| 0/10 [00:00<?, ?it/s]\n"
     ]
    },
    {
     "name": "stdout",
     "output_type": "stream",
     "text": [
      "\u001b[36m(launch_and_fit pid=8613)\u001b[0m \tTrain Epoch: 2 \tTrain_loss: 0.8436 | Train_acc: 72.7170 % | Validation_loss: 1.1101 | Validation_acc: 64.0962 %\u001b[32m [repeated 2x across cluster]\u001b[0m\n"
     ]
    },
    {
     "name": "stderr",
     "output_type": "stream",
     "text": [
      " 20%|\u001b[34m██        \u001b[0m| 2/10 [00:12<00:50,  6.25s/it]\u001b[32m [repeated 2x across cluster]\u001b[0m\n"
     ]
    },
    {
     "name": "stdout",
     "output_type": "stream",
     "text": [
      "\u001b[36m(launch_and_fit pid=8613)\u001b[0m \tTrain Epoch: 3 \tTrain_loss: 0.6805 | Train_acc: 78.7500 % | Validation_loss: 1.1412 | Validation_acc: 63.7662 %\u001b[32m [repeated 2x across cluster]\u001b[0m\n"
     ]
    },
    {
     "name": "stderr",
     "output_type": "stream",
     "text": [
      " 30%|\u001b[34m███       \u001b[0m| 3/10 [00:18<00:42,  6.05s/it]\u001b[32m [repeated 2x across cluster]\u001b[0m\n"
     ]
    },
    {
     "name": "stdout",
     "output_type": "stream",
     "text": [
      "\u001b[36m(launch_and_fit pid=8613)\u001b[0m \tTrain Epoch: 4 \tTrain_loss: 0.5848 | Train_acc: 82.6128 % | Validation_loss: 1.0964 | Validation_acc: 66.9316 %\u001b[32m [repeated 2x across cluster]\u001b[0m\n"
     ]
    },
    {
     "name": "stderr",
     "output_type": "stream",
     "text": [
      " 40%|\u001b[34m████      \u001b[0m| 4/10 [00:24<00:35,  5.98s/it]\u001b[32m [repeated 2x across cluster]\u001b[0m\n"
     ]
    },
    {
     "name": "stdout",
     "output_type": "stream",
     "text": [
      "\u001b[36m(launch_and_fit pid=8613)\u001b[0m \tTrain Epoch: 5 \tTrain_loss: 0.5116 | Train_acc: 86.3281 % | Validation_loss: 1.1002 | Validation_acc: 65.8338 %\u001b[32m [repeated 2x across cluster]\u001b[0m\n"
     ]
    },
    {
     "name": "stderr",
     "output_type": "stream",
     "text": [
      " 50%|\u001b[34m█████     \u001b[0m| 5/10 [00:29<00:29,  5.84s/it]\u001b[32m [repeated 2x across cluster]\u001b[0m\n"
     ]
    },
    {
     "name": "stdout",
     "output_type": "stream",
     "text": [
      "\u001b[36m(launch_and_fit pid=8613)\u001b[0m \tTrain Epoch: 6 \tTrain_loss: 0.5300 | Train_acc: 85.6337 % | Validation_loss: 1.1272 | Validation_acc: 65.7193 %\u001b[32m [repeated 2x across cluster]\u001b[0m\n"
     ]
    },
    {
     "name": "stderr",
     "output_type": "stream",
     "text": [
      " 60%|\u001b[34m██████    \u001b[0m| 6/10 [00:35<00:23,  5.78s/it]\u001b[32m [repeated 2x across cluster]\u001b[0m\n"
     ]
    },
    {
     "name": "stdout",
     "output_type": "stream",
     "text": [
      "\u001b[36m(launch_and_fit pid=8613)\u001b[0m \tTrain Epoch: 7 \tTrain_loss: 0.4678 | Train_acc: 87.5477 % | Validation_loss: 1.1683 | Validation_acc: 61.5167 %\u001b[32m [repeated 2x across cluster]\u001b[0m\n"
     ]
    },
    {
     "name": "stderr",
     "output_type": "stream",
     "text": [
      " 70%|\u001b[34m███████   \u001b[0m| 7/10 [00:41<00:17,  5.85s/it]\u001b[32m [repeated 2x across cluster]\u001b[0m\n"
     ]
    },
    {
     "name": "stdout",
     "output_type": "stream",
     "text": [
      "\u001b[36m(launch_and_fit pid=8613)\u001b[0m \tTrain Epoch: 8 \tTrain_loss: 0.4275 | Train_acc: 90.0694 % | Validation_loss: 1.2248 | Validation_acc: 63.3149 %\u001b[32m [repeated 2x across cluster]\u001b[0m\n"
     ]
    },
    {
     "name": "stderr",
     "output_type": "stream",
     "text": [
      " 80%|\u001b[34m████████  \u001b[0m| 8/10 [00:47<00:11,  5.83s/it]\u001b[32m [repeated 2x across cluster]\u001b[0m\n"
     ]
    },
    {
     "name": "stdout",
     "output_type": "stream",
     "text": [
      "\u001b[36m(launch_and_fit pid=8613)\u001b[0m \tTrain Epoch: 9 \tTrain_loss: 0.4824 | Train_acc: 87.2352 % | Validation_loss: 1.2505 | Validation_acc: 64.0962 %\u001b[32m [repeated 2x across cluster]\u001b[0m\n"
     ]
    },
    {
     "name": "stderr",
     "output_type": "stream",
     "text": [
      " 90%|\u001b[34m█████████ \u001b[0m| 9/10 [00:52<00:05,  5.78s/it]\u001b[32m [repeated 2x across cluster]\u001b[0m\n"
     ]
    },
    {
     "name": "stdout",
     "output_type": "stream",
     "text": [
      "\u001b[36m(launch_and_fit pid=8613)\u001b[0m save graph in  results/FL/\n",
      "\u001b[36m(launch_and_fit pid=8613)\u001b[0m \tTrain Epoch: 10 \tTrain_loss: 0.4231 | Train_acc: 89.6832 % | Validation_loss: 1.2106 | Validation_acc: 63.1196 %\u001b[32m [repeated 2x across cluster]\u001b[0m\n"
     ]
    },
    {
     "name": "stderr",
     "output_type": "stream",
     "text": [
      "100%|\u001b[34m██████████\u001b[0m| 10/10 [00:58<00:00,  5.86s/it]\u001b[32m [repeated 2x across cluster]\u001b[0m\n"
     ]
    },
    {
     "name": "stdout",
     "output_type": "stream",
     "text": [
      "\u001b[36m(launch_and_fit pid=8613)\u001b[0m network.0.weight 5.0067901611328125e-06\n",
      "\u001b[36m(launch_and_fit pid=8613)\u001b[0m network.0.bias 1.6689300537109375e-06\n",
      "\u001b[36m(launch_and_fit pid=8613)\u001b[0m network.2.weight 1.1920928955078125e-06\n",
      "\u001b[36m(launch_and_fit pid=8613)\u001b[0m network.2.bias 1.430511474609375e-06\n",
      "\u001b[36m(launch_and_fit pid=8613)\u001b[0m network.5.weight 1.1920928955078125e-06\n",
      "\u001b[36m(launch_and_fit pid=8613)\u001b[0m network.5.bias 1.1920928955078125e-06\n",
      "\u001b[36m(launch_and_fit pid=8613)\u001b[0m network.7.weight 9.5367431640625e-07\n",
      "\u001b[36m(launch_and_fit pid=8613)\u001b[0m network.7.bias 1.1920928955078125e-06\n",
      "\u001b[36m(launch_and_fit pid=8613)\u001b[0m network.10.weight 1.1920928955078125e-06\n",
      "\u001b[36m(launch_and_fit pid=8613)\u001b[0m network.10.bias 9.5367431640625e-07\n",
      "\u001b[36m(launch_and_fit pid=8613)\u001b[0m network.12.weight 1.1920928955078125e-06\n",
      "\u001b[36m(launch_and_fit pid=8613)\u001b[0m network.12.bias 1.1920928955078125e-06\n",
      "\u001b[36m(launch_and_fit pid=8613)\u001b[0m network.16.weight 1.1920928955078125e-06\n",
      "\u001b[36m(launch_and_fit pid=8613)\u001b[0m network.16.bias 1.430511474609375e-06\n",
      "\u001b[36m(launch_and_fit pid=8613)\u001b[0m network.18.weight 1.1920928955078125e-06\n",
      "\u001b[36m(launch_and_fit pid=8613)\u001b[0m network.18.bias 9.5367431640625e-07\n",
      "\u001b[36m(launch_and_fit pid=8613)\u001b[0m network.20.weight 1.1920928955078125e-06\n",
      "\u001b[36m(launch_and_fit pid=8613)\u001b[0m network.20.bias 1.1920928955078125e-06\n",
      "\u001b[36m(launch_and_fit pid=8613)\u001b[0m qnn.weights 1.1920928955078125e-06\n",
      "\u001b[36m(launch_and_fit pid=8613)\u001b[0m fc4.weight 1.6689300537109375e-06\n",
      "\u001b[36m(launch_and_fit pid=8613)\u001b[0m fc4.bias 1.430511474609375e-06\n",
      "\u001b[36m(launch_and_fit pid=8696)\u001b[0m Run with homomorphic encryption\n",
      "\u001b[36m(launch_and_fit pid=8614)\u001b[0m save graph in  results/FL/\n",
      "\u001b[36m(launch_and_fit pid=8614)\u001b[0m \tTrain Epoch: 10 \tTrain_loss: 0.3502 | Train_acc: 94.1884 % | Validation_loss: 1.2654 | Validation_acc: 60.0081 %\n",
      "\u001b[36m(launch_and_fit pid=8614)\u001b[0m fc4.bias 1.6689300537109375e-06\u001b[32m [repeated 20x across cluster]\u001b[0m\n",
      "\u001b[36m(launch_and_fit pid=8614)\u001b[0m qnn.weights 1.6689300537109375e-06\n",
      "\u001b[36m(launch_and_fit pid=8696)\u001b[0m [Client 8, round 11] fit, config: {'learning_rate': 0.001, 'batch_size': '128', 'server_round': 11, 'local_epochs': 10}\n",
      "\u001b[36m(launch_and_fit pid=8696)\u001b[0m Updated model\n"
     ]
    },
    {
     "name": "stderr",
     "output_type": "stream",
     "text": [
      "  0%|\u001b[34m          \u001b[0m| 0/10 [00:00<?, ?it/s]\n",
      "100%|\u001b[34m██████████\u001b[0m| 10/10 [01:00<00:00,  6.02s/it]\n"
     ]
    },
    {
     "name": "stdout",
     "output_type": "stream",
     "text": [
      "\u001b[36m(launch_and_fit pid=8696)\u001b[0m \tTrain Epoch: 1 \tTrain_loss: 1.1194 | Train_acc: 62.1962 % | Validation_loss: 1.2846 | Validation_acc: 55.0647 %\n",
      "\u001b[36m(launch_and_fit pid=8721)\u001b[0m Run with homomorphic encryption\n",
      "\u001b[36m(launch_and_fit pid=8721)\u001b[0m [Client 6, round 11] fit, config: {'learning_rate': 0.001, 'batch_size': '128', 'server_round': 11, 'local_epochs': 10}\n",
      "\u001b[36m(launch_and_fit pid=8721)\u001b[0m Updated model\n"
     ]
    },
    {
     "name": "stderr",
     "output_type": "stream",
     "text": [
      " 10%|\u001b[34m█         \u001b[0m| 1/10 [00:06<00:56,  6.31s/it]\n",
      "  0%|\u001b[34m          \u001b[0m| 0/10 [00:00<?, ?it/s]\n"
     ]
    },
    {
     "name": "stdout",
     "output_type": "stream",
     "text": [
      "\u001b[36m(launch_and_fit pid=8696)\u001b[0m \tTrain Epoch: 2 \tTrain_loss: 0.8558 | Train_acc: 72.9948 % | Validation_loss: 1.2755 | Validation_acc: 55.2600 %\u001b[32m [repeated 2x across cluster]\u001b[0m\n"
     ]
    },
    {
     "name": "stderr",
     "output_type": "stream",
     "text": [
      " 20%|\u001b[34m██        \u001b[0m| 2/10 [00:12<00:48,  6.12s/it]\u001b[32m [repeated 2x across cluster]\u001b[0m\n"
     ]
    },
    {
     "name": "stdout",
     "output_type": "stream",
     "text": [
      "\u001b[36m(launch_and_fit pid=8696)\u001b[0m \tTrain Epoch: 3 \tTrain_loss: 0.7262 | Train_acc: 76.9097 % | Validation_loss: 1.3186 | Validation_acc: 58.0954 %\u001b[32m [repeated 2x across cluster]\u001b[0m\n"
     ]
    },
    {
     "name": "stderr",
     "output_type": "stream",
     "text": [
      " 30%|\u001b[34m███       \u001b[0m| 3/10 [00:18<00:41,  5.94s/it]\u001b[32m [repeated 2x across cluster]\u001b[0m\n"
     ]
    },
    {
     "name": "stdout",
     "output_type": "stream",
     "text": [
      "\u001b[36m(launch_and_fit pid=8696)\u001b[0m \tTrain Epoch: 4 \tTrain_loss: 0.6262 | Train_acc: 80.4253 % | Validation_loss: 1.3031 | Validation_acc: 55.6708 %\u001b[32m [repeated 2x across cluster]\u001b[0m\n"
     ]
    },
    {
     "name": "stderr",
     "output_type": "stream",
     "text": [
      " 40%|\u001b[34m████      \u001b[0m| 4/10 [00:23<00:35,  5.90s/it]\u001b[32m [repeated 2x across cluster]\u001b[0m\n"
     ]
    },
    {
     "name": "stdout",
     "output_type": "stream",
     "text": [
      "\u001b[36m(launch_and_fit pid=8696)\u001b[0m \tTrain Epoch: 5 \tTrain_loss: 0.5431 | Train_acc: 84.2318 % | Validation_loss: 1.3199 | Validation_acc: 58.7217 %\u001b[32m [repeated 2x across cluster]\u001b[0m\n"
     ]
    },
    {
     "name": "stderr",
     "output_type": "stream",
     "text": [
      " 50%|\u001b[34m█████     \u001b[0m| 5/10 [00:30<00:30,  6.17s/it]\u001b[32m [repeated 2x across cluster]\u001b[0m\n"
     ]
    },
    {
     "name": "stdout",
     "output_type": "stream",
     "text": [
      "\u001b[36m(launch_and_fit pid=8696)\u001b[0m \tTrain Epoch: 6 \tTrain_loss: 0.5250 | Train_acc: 85.9592 % | Validation_loss: 1.3534 | Validation_acc: 55.4553 %\u001b[32m [repeated 2x across cluster]\u001b[0m\n"
     ]
    },
    {
     "name": "stderr",
     "output_type": "stream",
     "text": [
      " 60%|\u001b[34m██████    \u001b[0m| 6/10 [00:36<00:24,  6.07s/it]\u001b[32m [repeated 2x across cluster]\u001b[0m\n"
     ]
    },
    {
     "name": "stdout",
     "output_type": "stream",
     "text": [
      "\u001b[36m(launch_and_fit pid=8696)\u001b[0m \tTrain Epoch: 7 \tTrain_loss: 0.4790 | Train_acc: 87.5738 % | Validation_loss: 1.2864 | Validation_acc: 56.9437 %\u001b[32m [repeated 2x across cluster]\u001b[0m\n"
     ]
    },
    {
     "name": "stderr",
     "output_type": "stream",
     "text": [
      " 70%|\u001b[34m███████   \u001b[0m| 7/10 [00:42<00:17,  5.99s/it]\u001b[32m [repeated 2x across cluster]\u001b[0m\n"
     ]
    },
    {
     "name": "stdout",
     "output_type": "stream",
     "text": [
      "\u001b[36m(launch_and_fit pid=8696)\u001b[0m \tTrain Epoch: 8 \tTrain_loss: 0.4256 | Train_acc: 90.4861 % | Validation_loss: 1.3258 | Validation_acc: 57.1188 %\u001b[32m [repeated 2x across cluster]\u001b[0m\n"
     ]
    },
    {
     "name": "stderr",
     "output_type": "stream",
     "text": [
      " 80%|\u001b[34m████████  \u001b[0m| 8/10 [00:47<00:11,  5.90s/it]\u001b[32m [repeated 2x across cluster]\u001b[0m\n"
     ]
    },
    {
     "name": "stdout",
     "output_type": "stream",
     "text": [
      "\u001b[36m(launch_and_fit pid=8696)\u001b[0m \tTrain Epoch: 9 \tTrain_loss: 0.3867 | Train_acc: 93.2509 % | Validation_loss: 1.3065 | Validation_acc: 56.7282 %\u001b[32m [repeated 2x across cluster]\u001b[0m\n"
     ]
    },
    {
     "name": "stderr",
     "output_type": "stream",
     "text": [
      " 90%|\u001b[34m█████████ \u001b[0m| 9/10 [00:53<00:05,  5.81s/it]\u001b[32m [repeated 2x across cluster]\u001b[0m\n"
     ]
    },
    {
     "name": "stdout",
     "output_type": "stream",
     "text": [
      "\u001b[36m(launch_and_fit pid=8696)\u001b[0m save graph in  results/FL/\n",
      "\u001b[36m(launch_and_fit pid=8696)\u001b[0m \tTrain Epoch: 10 \tTrain_loss: 0.3529 | Train_acc: 94.3273 % | Validation_loss: 1.3130 | Validation_acc: 58.1964 %\u001b[32m [repeated 2x across cluster]\u001b[0m\n"
     ]
    },
    {
     "name": "stderr",
     "output_type": "stream",
     "text": [
      "100%|\u001b[34m██████████\u001b[0m| 10/10 [00:59<00:00,  5.93s/it]\u001b[32m [repeated 2x across cluster]\u001b[0m\n"
     ]
    },
    {
     "name": "stdout",
     "output_type": "stream",
     "text": [
      "\u001b[36m(launch_and_fit pid=8696)\u001b[0m network.0.weight 5.4836273193359375e-06\n",
      "\u001b[36m(launch_and_fit pid=8696)\u001b[0m network.0.bias 1.430511474609375e-06\n",
      "\u001b[36m(launch_and_fit pid=8696)\u001b[0m network.2.weight 1.1920928955078125e-06\n",
      "\u001b[36m(launch_and_fit pid=8696)\u001b[0m network.2.bias 1.1920928955078125e-06\n",
      "\u001b[36m(launch_and_fit pid=8696)\u001b[0m network.5.weight 1.430511474609375e-06\n",
      "\u001b[36m(launch_and_fit pid=8696)\u001b[0m network.5.bias 1.430511474609375e-06\n",
      "\u001b[36m(launch_and_fit pid=8696)\u001b[0m network.7.weight 1.430511474609375e-06\n",
      "\u001b[36m(launch_and_fit pid=8696)\u001b[0m network.7.bias 1.1920928955078125e-06\n",
      "\u001b[36m(launch_and_fit pid=8696)\u001b[0m network.10.weight 1.1920928955078125e-06\n",
      "\u001b[36m(launch_and_fit pid=8696)\u001b[0m network.10.bias 1.430511474609375e-06\n",
      "\u001b[36m(launch_and_fit pid=8696)\u001b[0m network.12.weight 2.1457672119140625e-06\n",
      "\u001b[36m(launch_and_fit pid=8696)\u001b[0m network.12.bias 1.9073486328125e-06\n",
      "\u001b[36m(launch_and_fit pid=8696)\u001b[0m network.16.weight 9.5367431640625e-07\n",
      "\u001b[36m(launch_and_fit pid=8696)\u001b[0m network.16.bias 1.1920928955078125e-06\n",
      "\u001b[36m(launch_and_fit pid=8696)\u001b[0m network.18.weight 1.1920928955078125e-06\n",
      "\u001b[36m(launch_and_fit pid=8696)\u001b[0m network.18.bias 1.430511474609375e-06\n",
      "\u001b[36m(launch_and_fit pid=8696)\u001b[0m network.20.weight 1.430511474609375e-06\n",
      "\u001b[36m(launch_and_fit pid=8696)\u001b[0m network.20.bias 1.1920928955078125e-06\n",
      "\u001b[36m(launch_and_fit pid=8696)\u001b[0m qnn.weights 9.5367431640625e-07\n",
      "\u001b[36m(launch_and_fit pid=8696)\u001b[0m fc4.weight 1.430511474609375e-06\n",
      "\u001b[36m(launch_and_fit pid=8696)\u001b[0m fc4.bias 1.1920928955078125e-06\n",
      "\u001b[36m(launch_and_fit pid=8780)\u001b[0m Run with homomorphic encryption\n",
      "\u001b[36m(launch_and_fit pid=8721)\u001b[0m save graph in  results/FL/\n",
      "\u001b[36m(launch_and_fit pid=8721)\u001b[0m \tTrain Epoch: 10 \tTrain_loss: 0.3754 | Train_acc: 92.3264 % | Validation_loss: 1.2562 | Validation_acc: 59.2066 %\n",
      "\u001b[36m(launch_and_fit pid=8721)\u001b[0m fc4.bias 2.6226043701171875e-06\u001b[32m [repeated 20x across cluster]\u001b[0m\n",
      "\u001b[36m(launch_and_fit pid=8721)\u001b[0m qnn.weights 1.6689300537109375e-06\n",
      "\u001b[36m(launch_and_fit pid=8780)\u001b[0m [Client 7, round 11] fit, config: {'learning_rate': 0.001, 'batch_size': '128', 'server_round': 11, 'local_epochs': 10}\n",
      "\u001b[36m(launch_and_fit pid=8780)\u001b[0m Updated model\n"
     ]
    },
    {
     "name": "stderr",
     "output_type": "stream",
     "text": [
      "  0%|\u001b[34m          \u001b[0m| 0/10 [00:00<?, ?it/s]\n",
      "100%|\u001b[34m██████████\u001b[0m| 10/10 [01:00<00:00,  6.04s/it]\n"
     ]
    },
    {
     "name": "stdout",
     "output_type": "stream",
     "text": [
      "\u001b[36m(launch_and_fit pid=8804)\u001b[0m Run with homomorphic encryption\n",
      "\u001b[36m(launch_and_fit pid=8780)\u001b[0m \tTrain Epoch: 1 \tTrain_loss: 1.0391 | Train_acc: 65.4080 % | Validation_loss: 1.2380 | Validation_acc: 57.9943 %\n",
      "\u001b[36m(launch_and_fit pid=8804)\u001b[0m [Client 9, round 11] fit, config: {'learning_rate': 0.001, 'batch_size': '128', 'server_round': 11, 'local_epochs': 10}\n",
      "\u001b[36m(launch_and_fit pid=8804)\u001b[0m Updated model\n"
     ]
    },
    {
     "name": "stderr",
     "output_type": "stream",
     "text": [
      " 10%|\u001b[34m█         \u001b[0m| 1/10 [00:06<00:58,  6.47s/it]\n",
      "  0%|\u001b[34m          \u001b[0m| 0/10 [00:00<?, ?it/s]\n"
     ]
    },
    {
     "name": "stdout",
     "output_type": "stream",
     "text": [
      "\u001b[36m(launch_and_fit pid=8780)\u001b[0m \tTrain Epoch: 2 \tTrain_loss: 0.8062 | Train_acc: 73.9800 % | Validation_loss: 1.0870 | Validation_acc: 62.8031 %\u001b[32m [repeated 2x across cluster]\u001b[0m\n"
     ]
    },
    {
     "name": "stderr",
     "output_type": "stream",
     "text": [
      " 20%|\u001b[34m██        \u001b[0m| 2/10 [00:12<00:48,  6.07s/it]\u001b[32m [repeated 2x across cluster]\u001b[0m\n"
     ]
    },
    {
     "name": "stdout",
     "output_type": "stream",
     "text": [
      "\u001b[36m(launch_and_fit pid=8780)\u001b[0m \tTrain Epoch: 3 \tTrain_loss: 0.6552 | Train_acc: 79.5920 % | Validation_loss: 1.1410 | Validation_acc: 61.5706 %\u001b[32m [repeated 2x across cluster]\u001b[0m\n"
     ]
    },
    {
     "name": "stderr",
     "output_type": "stream",
     "text": [
      " 30%|\u001b[34m███       \u001b[0m| 3/10 [00:18<00:41,  5.94s/it]\u001b[32m [repeated 2x across cluster]\u001b[0m\n"
     ]
    },
    {
     "name": "stdout",
     "output_type": "stream",
     "text": [
      "\u001b[36m(launch_and_fit pid=8780)\u001b[0m \tTrain Epoch: 4 \tTrain_loss: 0.5921 | Train_acc: 82.9036 % | Validation_loss: 1.1195 | Validation_acc: 63.0186 %\u001b[32m [repeated 2x across cluster]\u001b[0m\n"
     ]
    },
    {
     "name": "stderr",
     "output_type": "stream",
     "text": [
      " 40%|\u001b[34m████      \u001b[0m| 4/10 [00:24<00:36,  6.05s/it]\u001b[32m [repeated 2x across cluster]\u001b[0m\n"
     ]
    },
    {
     "name": "stdout",
     "output_type": "stream",
     "text": [
      "\u001b[36m(launch_and_fit pid=8780)\u001b[0m \tTrain Epoch: 5 \tTrain_loss: 0.5585 | Train_acc: 83.6068 % | Validation_loss: 1.1320 | Validation_acc: 61.0655 %\u001b[32m [repeated 2x across cluster]\u001b[0m\n"
     ]
    },
    {
     "name": "stderr",
     "output_type": "stream",
     "text": [
      " 50%|\u001b[34m█████     \u001b[0m| 5/10 [00:29<00:29,  5.93s/it]\u001b[32m [repeated 2x across cluster]\u001b[0m\n"
     ]
    },
    {
     "name": "stdout",
     "output_type": "stream",
     "text": [
      "\u001b[36m(launch_and_fit pid=8780)\u001b[0m \tTrain Epoch: 6 \tTrain_loss: 0.4844 | Train_acc: 86.9878 % | Validation_loss: 1.1272 | Validation_acc: 62.0959 %\u001b[32m [repeated 2x across cluster]\u001b[0m\n"
     ]
    },
    {
     "name": "stderr",
     "output_type": "stream",
     "text": [
      " 60%|\u001b[34m██████    \u001b[0m| 6/10 [00:35<00:23,  5.91s/it]\u001b[32m [repeated 2x across cluster]\u001b[0m\n"
     ]
    },
    {
     "name": "stdout",
     "output_type": "stream",
     "text": [
      "\u001b[36m(launch_and_fit pid=8780)\u001b[0m \tTrain Epoch: 7 \tTrain_loss: 0.4323 | Train_acc: 89.5226 % | Validation_loss: 1.1124 | Validation_acc: 62.6482 %\u001b[32m [repeated 2x across cluster]\u001b[0m\n"
     ]
    },
    {
     "name": "stderr",
     "output_type": "stream",
     "text": [
      " 70%|\u001b[34m███████   \u001b[0m| 7/10 [00:41<00:17,  5.88s/it]\u001b[32m [repeated 2x across cluster]\u001b[0m\n"
     ]
    },
    {
     "name": "stdout",
     "output_type": "stream",
     "text": [
      "\u001b[36m(launch_and_fit pid=8780)\u001b[0m \tTrain Epoch: 8 \tTrain_loss: 0.3955 | Train_acc: 91.7014 % | Validation_loss: 1.1201 | Validation_acc: 64.2511 %\u001b[32m [repeated 2x across cluster]\u001b[0m\n"
     ]
    },
    {
     "name": "stderr",
     "output_type": "stream",
     "text": [
      " 80%|\u001b[34m████████  \u001b[0m| 8/10 [00:47<00:11,  5.85s/it]\u001b[32m [repeated 2x across cluster]\u001b[0m\n"
     ]
    },
    {
     "name": "stdout",
     "output_type": "stream",
     "text": [
      "\u001b[36m(launch_and_fit pid=8780)\u001b[0m \tTrain Epoch: 9 \tTrain_loss: 0.3812 | Train_acc: 93.1901 % | Validation_loss: 1.1846 | Validation_acc: 61.5100 %\u001b[32m [repeated 2x across cluster]\u001b[0m\n"
     ]
    },
    {
     "name": "stderr",
     "output_type": "stream",
     "text": [
      " 90%|\u001b[34m█████████ \u001b[0m| 9/10 [00:53<00:05,  5.95s/it]\u001b[32m [repeated 2x across cluster]\u001b[0m\n"
     ]
    },
    {
     "name": "stdout",
     "output_type": "stream",
     "text": [
      "\u001b[36m(launch_and_fit pid=8780)\u001b[0m save graph in  results/FL/\n",
      "\u001b[36m(launch_and_fit pid=8780)\u001b[0m \tTrain Epoch: 10 \tTrain_loss: 0.3526 | Train_acc: 94.4227 % | Validation_loss: 1.1849 | Validation_acc: 60.8836 %\u001b[32m [repeated 2x across cluster]\u001b[0m\n"
     ]
    },
    {
     "name": "stderr",
     "output_type": "stream",
     "text": [
      "100%|\u001b[34m██████████\u001b[0m| 10/10 [00:59<00:00,  5.92s/it]\u001b[32m [repeated 2x across cluster]\u001b[0m\n"
     ]
    },
    {
     "name": "stdout",
     "output_type": "stream",
     "text": [
      "\u001b[36m(launch_and_fit pid=8780)\u001b[0m network.0.weight 5.245208740234375e-06\n",
      "\u001b[36m(launch_and_fit pid=8780)\u001b[0m network.0.bias 1.6689300537109375e-06\n",
      "\u001b[36m(launch_and_fit pid=8780)\u001b[0m network.2.weight 1.6689300537109375e-06\n",
      "\u001b[36m(launch_and_fit pid=8780)\u001b[0m network.2.bias 1.1920928955078125e-06\n",
      "\u001b[36m(launch_and_fit pid=8780)\u001b[0m network.5.weight 1.6689300537109375e-06\n",
      "\u001b[36m(launch_and_fit pid=8780)\u001b[0m network.5.bias 1.1920928955078125e-06\n",
      "\u001b[36m(launch_and_fit pid=8780)\u001b[0m network.7.weight 1.1920928955078125e-06\n",
      "\u001b[36m(launch_and_fit pid=8780)\u001b[0m network.7.bias 1.1920928955078125e-06\n",
      "\u001b[36m(launch_and_fit pid=8780)\u001b[0m network.10.weight 1.6689300537109375e-06\n",
      "\u001b[36m(launch_and_fit pid=8780)\u001b[0m network.10.bias 1.430511474609375e-06\n",
      "\u001b[36m(launch_and_fit pid=8780)\u001b[0m network.12.weight 1.1920928955078125e-06\n",
      "\u001b[36m(launch_and_fit pid=8780)\u001b[0m network.12.bias 1.1920928955078125e-06\n",
      "\u001b[36m(launch_and_fit pid=8780)\u001b[0m network.16.weight 1.1920928955078125e-06\n",
      "\u001b[36m(launch_and_fit pid=8780)\u001b[0m network.16.bias 1.430511474609375e-06\n",
      "\u001b[36m(launch_and_fit pid=8780)\u001b[0m network.18.weight 1.430511474609375e-06\n",
      "\u001b[36m(launch_and_fit pid=8780)\u001b[0m network.18.bias 1.1920928955078125e-06\n",
      "\u001b[36m(launch_and_fit pid=8780)\u001b[0m network.20.weight 1.1920928955078125e-06\n",
      "\u001b[36m(launch_and_fit pid=8780)\u001b[0m network.20.bias 1.1920928955078125e-06\n",
      "\u001b[36m(launch_and_fit pid=8780)\u001b[0m qnn.weights 1.430511474609375e-06\n",
      "\u001b[36m(launch_and_fit pid=8780)\u001b[0m fc4.weight 1.430511474609375e-06\n",
      "\u001b[36m(launch_and_fit pid=8780)\u001b[0m fc4.bias 1.1920928955078125e-06\n",
      "\u001b[36m(launch_and_fit pid=8861)\u001b[0m Run with homomorphic encryption\n",
      "\u001b[36m(launch_and_fit pid=8804)\u001b[0m save graph in  results/FL/\n",
      "\u001b[36m(launch_and_fit pid=8804)\u001b[0m \tTrain Epoch: 10 \tTrain_loss: 0.3732 | Train_acc: 92.9340 % | Validation_loss: 1.3204 | Validation_acc: 62.5067 %\n",
      "\u001b[36m(launch_and_fit pid=8804)\u001b[0m fc4.bias 1.6689300537109375e-06\u001b[32m [repeated 20x across cluster]\u001b[0m\n",
      "\u001b[36m(launch_and_fit pid=8804)\u001b[0m qnn.weights 1.1920928955078125e-06\n",
      "\u001b[36m(launch_and_fit pid=8861)\u001b[0m [Client 4, round 11] fit, config: {'learning_rate': 0.001, 'batch_size': '128', 'server_round': 11, 'local_epochs': 10}\n",
      "\u001b[36m(launch_and_fit pid=8861)\u001b[0m Updated model\n"
     ]
    },
    {
     "name": "stderr",
     "output_type": "stream",
     "text": [
      "  0%|\u001b[34m          \u001b[0m| 0/10 [00:00<?, ?it/s]\n",
      "100%|\u001b[34m██████████\u001b[0m| 10/10 [00:59<00:00,  5.99s/it]\n"
     ]
    },
    {
     "name": "stdout",
     "output_type": "stream",
     "text": [
      "\u001b[36m(launch_and_fit pid=8886)\u001b[0m Run with homomorphic encryption\n",
      "\u001b[36m(launch_and_fit pid=8861)\u001b[0m \tTrain Epoch: 1 \tTrain_loss: 1.0377 | Train_acc: 65.1693 % | Validation_loss: 1.3162 | Validation_acc: 57.9539 %\n",
      "\u001b[36m(launch_and_fit pid=8886)\u001b[0m [Client 1, round 11] fit, config: {'learning_rate': 0.001, 'batch_size': '128', 'server_round': 11, 'local_epochs': 10}\n",
      "\u001b[36m(launch_and_fit pid=8886)\u001b[0m Updated model\n"
     ]
    },
    {
     "name": "stderr",
     "output_type": "stream",
     "text": [
      " 10%|\u001b[34m█         \u001b[0m| 1/10 [00:06<00:55,  6.15s/it]\n",
      "  0%|\u001b[34m          \u001b[0m| 0/10 [00:00<?, ?it/s]\n"
     ]
    },
    {
     "name": "stdout",
     "output_type": "stream",
     "text": [
      "\u001b[36m(launch_and_fit pid=8861)\u001b[0m \tTrain Epoch: 2 \tTrain_loss: 0.8016 | Train_acc: 73.8715 % | Validation_loss: 1.3730 | Validation_acc: 56.4116 %\u001b[32m [repeated 2x across cluster]\u001b[0m\n"
     ]
    },
    {
     "name": "stderr",
     "output_type": "stream",
     "text": [
      " 20%|\u001b[34m██        \u001b[0m| 2/10 [00:12<00:48,  6.07s/it]\u001b[32m [repeated 2x across cluster]\u001b[0m\n"
     ]
    },
    {
     "name": "stdout",
     "output_type": "stream",
     "text": [
      "\u001b[36m(launch_and_fit pid=8861)\u001b[0m \tTrain Epoch: 3 \tTrain_loss: 0.6431 | Train_acc: 79.9002 % | Validation_loss: 1.4237 | Validation_acc: 55.5496 %\u001b[32m [repeated 2x across cluster]\u001b[0m\n"
     ]
    },
    {
     "name": "stderr",
     "output_type": "stream",
     "text": [
      " 30%|\u001b[34m███       \u001b[0m| 3/10 [00:17<00:41,  5.93s/it]\u001b[32m [repeated 2x across cluster]\u001b[0m\n"
     ]
    },
    {
     "name": "stdout",
     "output_type": "stream",
     "text": [
      "\u001b[36m(launch_and_fit pid=8861)\u001b[0m \tTrain Epoch: 4 \tTrain_loss: 0.5853 | Train_acc: 82.9123 % | Validation_loss: 1.3373 | Validation_acc: 57.5094 %\u001b[32m [repeated 2x across cluster]\u001b[0m\n"
     ]
    },
    {
     "name": "stderr",
     "output_type": "stream",
     "text": [
      " 40%|\u001b[34m████      \u001b[0m| 4/10 [00:23<00:35,  5.88s/it]\u001b[32m [repeated 2x across cluster]\u001b[0m\n"
     ]
    },
    {
     "name": "stdout",
     "output_type": "stream",
     "text": [
      "\u001b[36m(launch_and_fit pid=8861)\u001b[0m \tTrain Epoch: 5 \tTrain_loss: 0.5238 | Train_acc: 85.7509 % | Validation_loss: 1.3694 | Validation_acc: 59.6781 %\u001b[32m [repeated 2x across cluster]\u001b[0m\n"
     ]
    },
    {
     "name": "stderr",
     "output_type": "stream",
     "text": [
      " 50%|\u001b[34m█████     \u001b[0m| 5/10 [00:29<00:28,  5.79s/it]\u001b[32m [repeated 2x across cluster]\u001b[0m\n"
     ]
    },
    {
     "name": "stdout",
     "output_type": "stream",
     "text": [
      "\u001b[36m(launch_and_fit pid=8861)\u001b[0m \tTrain Epoch: 6 \tTrain_loss: 0.4967 | Train_acc: 87.5911 % | Validation_loss: 1.3701 | Validation_acc: 59.1123 %\u001b[32m [repeated 2x across cluster]\u001b[0m\n"
     ]
    },
    {
     "name": "stderr",
     "output_type": "stream",
     "text": [
      " 60%|\u001b[34m██████    \u001b[0m| 6/10 [00:35<00:22,  5.75s/it]\u001b[32m [repeated 2x across cluster]\u001b[0m\n"
     ]
    },
    {
     "name": "stdout",
     "output_type": "stream",
     "text": [
      "\u001b[36m(launch_and_fit pid=8861)\u001b[0m \tTrain Epoch: 7 \tTrain_loss: 0.4630 | Train_acc: 88.8759 % | Validation_loss: 1.3831 | Validation_acc: 59.6175 %\u001b[32m [repeated 2x across cluster]\u001b[0m\n"
     ]
    },
    {
     "name": "stderr",
     "output_type": "stream",
     "text": [
      " 70%|\u001b[34m███████   \u001b[0m| 7/10 [00:41<00:17,  5.87s/it]\u001b[32m [repeated 2x across cluster]\u001b[0m\n"
     ]
    },
    {
     "name": "stdout",
     "output_type": "stream",
     "text": [
      "\u001b[36m(launch_and_fit pid=8861)\u001b[0m \tTrain Epoch: 8 \tTrain_loss: 0.4435 | Train_acc: 90.3906 % | Validation_loss: 1.3666 | Validation_acc: 59.0113 %\u001b[32m [repeated 2x across cluster]\u001b[0m\n"
     ]
    },
    {
     "name": "stderr",
     "output_type": "stream",
     "text": [
      " 80%|\u001b[34m████████  \u001b[0m| 8/10 [00:46<00:11,  5.83s/it]\u001b[32m [repeated 2x across cluster]\u001b[0m\n"
     ]
    },
    {
     "name": "stdout",
     "output_type": "stream",
     "text": [
      "\u001b[36m(launch_and_fit pid=8861)\u001b[0m \tTrain Epoch: 9 \tTrain_loss: 0.4072 | Train_acc: 92.2005 % | Validation_loss: 1.4419 | Validation_acc: 58.1897 %\u001b[32m [repeated 2x across cluster]\u001b[0m\n"
     ]
    },
    {
     "name": "stderr",
     "output_type": "stream",
     "text": [
      " 90%|\u001b[34m█████████ \u001b[0m| 9/10 [00:52<00:05,  5.83s/it]\u001b[32m [repeated 2x across cluster]\u001b[0m\n"
     ]
    },
    {
     "name": "stdout",
     "output_type": "stream",
     "text": [
      "\u001b[36m(launch_and_fit pid=8861)\u001b[0m save graph in  results/FL/\n",
      "\u001b[36m(launch_and_fit pid=8861)\u001b[0m \tTrain Epoch: 10 \tTrain_loss: 0.3672 | Train_acc: 94.2188 % | Validation_loss: 1.3714 | Validation_acc: 58.6611 %\u001b[32m [repeated 2x across cluster]\u001b[0m\n"
     ]
    },
    {
     "name": "stderr",
     "output_type": "stream",
     "text": [
      "100%|\u001b[34m██████████\u001b[0m| 10/10 [00:58<00:00,  5.88s/it]\u001b[32m [repeated 2x across cluster]\u001b[0m\n"
     ]
    },
    {
     "name": "stdout",
     "output_type": "stream",
     "text": [
      "\u001b[36m(launch_and_fit pid=8861)\u001b[0m network.0.weight 5.245208740234375e-06\n",
      "\u001b[36m(launch_and_fit pid=8861)\u001b[0m network.0.bias 1.430511474609375e-06\n",
      "\u001b[36m(launch_and_fit pid=8861)\u001b[0m network.2.weight 1.430511474609375e-06\n",
      "\u001b[36m(launch_and_fit pid=8861)\u001b[0m network.2.bias 9.5367431640625e-07\n",
      "\u001b[36m(launch_and_fit pid=8861)\u001b[0m network.5.weight 1.1920928955078125e-06\n",
      "\u001b[36m(launch_and_fit pid=8861)\u001b[0m network.5.bias 1.1920928955078125e-06\n",
      "\u001b[36m(launch_and_fit pid=8861)\u001b[0m network.7.weight 1.430511474609375e-06\n",
      "\u001b[36m(launch_and_fit pid=8861)\u001b[0m network.7.bias 1.1920928955078125e-06\n",
      "\u001b[36m(launch_and_fit pid=8861)\u001b[0m network.10.weight 1.1920928955078125e-06\n",
      "\u001b[36m(launch_and_fit pid=8861)\u001b[0m network.10.bias 9.5367431640625e-07\n",
      "\u001b[36m(launch_and_fit pid=8861)\u001b[0m network.12.weight 9.5367431640625e-07\n",
      "\u001b[36m(launch_and_fit pid=8861)\u001b[0m network.12.bias 1.430511474609375e-06\n",
      "\u001b[36m(launch_and_fit pid=8861)\u001b[0m network.16.weight 1.430511474609375e-06\n",
      "\u001b[36m(launch_and_fit pid=8861)\u001b[0m network.16.bias 1.1920928955078125e-06\n",
      "\u001b[36m(launch_and_fit pid=8861)\u001b[0m network.18.weight 1.1920928955078125e-06\n",
      "\u001b[36m(launch_and_fit pid=8861)\u001b[0m network.18.bias 1.1920928955078125e-06\n",
      "\u001b[36m(launch_and_fit pid=8861)\u001b[0m network.20.weight 1.430511474609375e-06\n",
      "\u001b[36m(launch_and_fit pid=8861)\u001b[0m network.20.bias 1.1920928955078125e-06\n",
      "\u001b[36m(launch_and_fit pid=8861)\u001b[0m qnn.weights 1.1920928955078125e-06\n",
      "\u001b[36m(launch_and_fit pid=8861)\u001b[0m fc4.weight 1.430511474609375e-06\n",
      "\u001b[36m(launch_and_fit pid=8861)\u001b[0m fc4.bias 1.1920928955078125e-06\n",
      "\u001b[36m(launch_and_fit pid=8943)\u001b[0m Run with homomorphic encryption\n",
      "\u001b[36m(launch_and_fit pid=8886)\u001b[0m save graph in  results/FL/\n",
      "\u001b[36m(launch_and_fit pid=8886)\u001b[0m \tTrain Epoch: 10 \tTrain_loss: 0.3614 | Train_acc: 93.5590 % | Validation_loss: 1.2905 | Validation_acc: 58.6611 %\n",
      "\u001b[36m(launch_and_fit pid=8886)\u001b[0m fc4.bias 1.1920928955078125e-06\u001b[32m [repeated 20x across cluster]\u001b[0m\n",
      "\u001b[36m(launch_and_fit pid=8886)\u001b[0m qnn.weights 9.5367431640625e-07\n",
      "\u001b[36m(launch_and_fit pid=8943)\u001b[0m [Client 5, round 11] fit, config: {'learning_rate': 0.001, 'batch_size': '128', 'server_round': 11, 'local_epochs': 10}\n"
     ]
    },
    {
     "name": "stderr",
     "output_type": "stream",
     "text": [
      "  0%|\u001b[34m          \u001b[0m| 0/10 [00:00<?, ?it/s]\n",
      "100%|\u001b[34m██████████\u001b[0m| 10/10 [00:59<00:00,  5.92s/it]\n"
     ]
    },
    {
     "name": "stdout",
     "output_type": "stream",
     "text": [
      "\u001b[36m(launch_and_fit pid=8943)\u001b[0m Updated model\n",
      "\u001b[36m(launch_and_fit pid=8968)\u001b[0m Run with homomorphic encryption\n",
      "\u001b[36m(launch_and_fit pid=8968)\u001b[0m [Client 2, round 11] fit, config: {'learning_rate': 0.001, 'batch_size': '128', 'server_round': 11, 'local_epochs': 10}\n"
     ]
    },
    {
     "name": "stderr",
     "output_type": "stream",
     "text": [
      " 10%|\u001b[34m█         \u001b[0m| 1/10 [00:06<00:56,  6.25s/it]\n",
      "  0%|\u001b[34m          \u001b[0m| 0/10 [00:00<?, ?it/s]\n"
     ]
    },
    {
     "name": "stdout",
     "output_type": "stream",
     "text": [
      "\u001b[36m(launch_and_fit pid=8943)\u001b[0m \tTrain Epoch: 1 \tTrain_loss: 1.0632 | Train_acc: 64.9523 % | Validation_loss: 1.2503 | Validation_acc: 59.9879 %\n",
      "\u001b[36m(launch_and_fit pid=8968)\u001b[0m Updated model\n"
     ]
    },
    {
     "name": "stderr",
     "output_type": "stream",
     "text": [
      " 20%|\u001b[34m██        \u001b[0m| 2/10 [00:11<00:47,  5.95s/it]\u001b[32m [repeated 2x across cluster]\u001b[0m\n"
     ]
    },
    {
     "name": "stdout",
     "output_type": "stream",
     "text": [
      "\u001b[36m(launch_and_fit pid=8943)\u001b[0m \tTrain Epoch: 2 \tTrain_loss: 0.8392 | Train_acc: 71.9792 % | Validation_loss: 1.2331 | Validation_acc: 59.7117 %\u001b[32m [repeated 2x across cluster]\u001b[0m\n"
     ]
    },
    {
     "name": "stderr",
     "output_type": "stream",
     "text": [
      " 30%|\u001b[34m███       \u001b[0m| 3/10 [00:17<00:40,  5.85s/it]\u001b[32m [repeated 2x across cluster]\u001b[0m\n"
     ]
    },
    {
     "name": "stdout",
     "output_type": "stream",
     "text": [
      "\u001b[36m(launch_and_fit pid=8943)\u001b[0m \tTrain Epoch: 3 \tTrain_loss: 0.7378 | Train_acc: 76.2543 % | Validation_loss: 1.2528 | Validation_acc: 59.3817 %\u001b[32m [repeated 2x across cluster]\u001b[0m\n"
     ]
    },
    {
     "name": "stderr",
     "output_type": "stream",
     "text": [
      " 40%|\u001b[34m████      \u001b[0m| 4/10 [00:23<00:34,  5.78s/it]\u001b[32m [repeated 2x across cluster]\u001b[0m\n"
     ]
    },
    {
     "name": "stdout",
     "output_type": "stream",
     "text": [
      "\u001b[36m(launch_and_fit pid=8943)\u001b[0m \tTrain Epoch: 4 \tTrain_loss: 0.6518 | Train_acc: 79.2101 % | Validation_loss: 1.2469 | Validation_acc: 60.3583 %\u001b[32m [repeated 2x across cluster]\u001b[0m\n"
     ]
    },
    {
     "name": "stderr",
     "output_type": "stream",
     "text": [
      " 50%|\u001b[34m█████     \u001b[0m| 5/10 [00:29<00:28,  5.76s/it]\u001b[32m [repeated 2x across cluster]\u001b[0m\n"
     ]
    },
    {
     "name": "stdout",
     "output_type": "stream",
     "text": [
      "\u001b[36m(launch_and_fit pid=8943)\u001b[0m \tTrain Epoch: 5 \tTrain_loss: 0.5416 | Train_acc: 84.1797 % | Validation_loss: 1.2317 | Validation_acc: 60.9846 %\u001b[32m [repeated 2x across cluster]\u001b[0m\n"
     ]
    },
    {
     "name": "stderr",
     "output_type": "stream",
     "text": [
      " 60%|\u001b[34m██████    \u001b[0m| 6/10 [00:35<00:23,  5.87s/it]\u001b[32m [repeated 2x across cluster]\u001b[0m\n"
     ]
    },
    {
     "name": "stdout",
     "output_type": "stream",
     "text": [
      "\u001b[36m(launch_and_fit pid=8943)\u001b[0m \tTrain Epoch: 6 \tTrain_loss: 0.4902 | Train_acc: 87.4392 % | Validation_loss: 1.2146 | Validation_acc: 63.9009 %\u001b[32m [repeated 2x across cluster]\u001b[0m\n"
     ]
    },
    {
     "name": "stderr",
     "output_type": "stream",
     "text": [
      " 70%|\u001b[34m███████   \u001b[0m| 7/10 [00:41<00:17,  5.86s/it]\u001b[32m [repeated 2x across cluster]\u001b[0m\n"
     ]
    },
    {
     "name": "stdout",
     "output_type": "stream",
     "text": [
      "\u001b[36m(launch_and_fit pid=8943)\u001b[0m \tTrain Epoch: 7 \tTrain_loss: 0.4380 | Train_acc: 90.3950 % | Validation_loss: 1.2691 | Validation_acc: 63.0186 %\u001b[32m [repeated 2x across cluster]\u001b[0m\n"
     ]
    },
    {
     "name": "stderr",
     "output_type": "stream",
     "text": [
      " 80%|\u001b[34m████████  \u001b[0m| 8/10 [00:46<00:11,  5.85s/it]\u001b[32m [repeated 2x across cluster]\u001b[0m\n"
     ]
    },
    {
     "name": "stdout",
     "output_type": "stream",
     "text": [
      "\u001b[36m(launch_and_fit pid=8943)\u001b[0m \tTrain Epoch: 8 \tTrain_loss: 0.4042 | Train_acc: 92.4609 % | Validation_loss: 1.2269 | Validation_acc: 65.5240 %\u001b[32m [repeated 2x across cluster]\u001b[0m\n"
     ]
    },
    {
     "name": "stderr",
     "output_type": "stream",
     "text": [
      " 90%|\u001b[34m█████████ \u001b[0m| 9/10 [00:52<00:05,  5.79s/it]\u001b[32m [repeated 2x across cluster]\u001b[0m\n"
     ]
    },
    {
     "name": "stdout",
     "output_type": "stream",
     "text": [
      "\u001b[36m(launch_and_fit pid=8943)\u001b[0m \tTrain Epoch: 9 \tTrain_loss: 0.3736 | Train_acc: 93.7326 % | Validation_loss: 1.2524 | Validation_acc: 62.3720 %\u001b[32m [repeated 2x across cluster]\u001b[0m\n"
     ]
    },
    {
     "name": "stderr",
     "output_type": "stream",
     "text": [
      "100%|\u001b[34m██████████\u001b[0m| 10/10 [00:58<00:00,  5.84s/it]\u001b[32m [repeated 2x across cluster]\u001b[0m\n"
     ]
    },
    {
     "name": "stdout",
     "output_type": "stream",
     "text": [
      "\u001b[36m(launch_and_fit pid=8943)\u001b[0m save graph in  results/FL/\n",
      "\u001b[36m(launch_and_fit pid=8943)\u001b[0m \tTrain Epoch: 10 \tTrain_loss: 0.3540 | Train_acc: 95.0998 % | Validation_loss: 1.2542 | Validation_acc: 64.8168 %\u001b[32m [repeated 2x across cluster]\u001b[0m\n",
      "\u001b[36m(launch_and_fit pid=8943)\u001b[0m network.0.weight 4.5299530029296875e-06\n",
      "\u001b[36m(launch_and_fit pid=8943)\u001b[0m network.0.bias 2.384185791015625e-06\n",
      "\u001b[36m(launch_and_fit pid=8943)\u001b[0m network.2.weight 1.1920928955078125e-06\n",
      "\u001b[36m(launch_and_fit pid=8943)\u001b[0m network.2.bias 1.1920928955078125e-06\n",
      "\u001b[36m(launch_and_fit pid=8943)\u001b[0m network.5.weight 1.1920928955078125e-06\n",
      "\u001b[36m(launch_and_fit pid=8943)\u001b[0m network.5.bias 1.430511474609375e-06\n",
      "\u001b[36m(launch_and_fit pid=8943)\u001b[0m network.7.weight 1.430511474609375e-06\n",
      "\u001b[36m(launch_and_fit pid=8943)\u001b[0m network.7.bias 1.430511474609375e-06\n",
      "\u001b[36m(launch_and_fit pid=8943)\u001b[0m network.10.weight 1.1920928955078125e-06\n",
      "\u001b[36m(launch_and_fit pid=8943)\u001b[0m network.10.bias 9.5367431640625e-07\n",
      "\u001b[36m(launch_and_fit pid=8943)\u001b[0m network.12.weight 9.5367431640625e-07\n",
      "\u001b[36m(launch_and_fit pid=8943)\u001b[0m network.12.bias 1.1920928955078125e-06\n",
      "\u001b[36m(launch_and_fit pid=8943)\u001b[0m network.16.weight 1.1920928955078125e-06\n",
      "\u001b[36m(launch_and_fit pid=8943)\u001b[0m network.16.bias 1.1920928955078125e-06\n",
      "\u001b[36m(launch_and_fit pid=8943)\u001b[0m network.18.weight 1.430511474609375e-06\n",
      "\u001b[36m(launch_and_fit pid=8943)\u001b[0m network.18.bias 1.430511474609375e-06\n",
      "\u001b[36m(launch_and_fit pid=8943)\u001b[0m network.20.weight 1.1920928955078125e-06\n",
      "\u001b[36m(launch_and_fit pid=8943)\u001b[0m network.20.bias 1.430511474609375e-06\n",
      "\u001b[36m(launch_and_fit pid=8943)\u001b[0m qnn.weights 1.430511474609375e-06\n",
      "\u001b[36m(launch_and_fit pid=8943)\u001b[0m fc4.weight 1.430511474609375e-06\n",
      "\u001b[36m(launch_and_fit pid=8943)\u001b[0m fc4.bias 1.1920928955078125e-06\n"
     ]
    },
    {
     "name": "stderr",
     "output_type": "stream",
     "text": [
      "DEBUG flwr 2024-07-20 19:47:45,887 | server.py:236 | fit_round 11 received 10 results and 0 failures\n"
     ]
    },
    {
     "name": "stdout",
     "output_type": "stream",
     "text": [
      "Saving round 11 aggregated_parameters...\n"
     ]
    },
    {
     "name": "stderr",
     "output_type": "stream",
     "text": [
      "DEBUG flwr 2024-07-20 19:47:46,816 | server.py:173 | evaluate_round 11: strategy sampled 10 clients (out of 10)\n"
     ]
    },
    {
     "name": "stdout",
     "output_type": "stream",
     "text": [
      "\u001b[36m(launch_and_evaluate pid=9034)\u001b[0m Run with homomorphic encryption\n",
      "\u001b[36m(launch_and_fit pid=8968)\u001b[0m save graph in  results/FL/\n",
      "\u001b[36m(launch_and_fit pid=8968)\u001b[0m \tTrain Epoch: 10 \tTrain_loss: 0.3582 | Train_acc: 94.1319 % | Validation_loss: 1.4282 | Validation_acc: 57.9337 %\n",
      "\u001b[36m(launch_and_fit pid=8968)\u001b[0m fc4.bias 9.5367431640625e-07\u001b[32m [repeated 20x across cluster]\u001b[0m\n",
      "\u001b[36m(launch_and_fit pid=8968)\u001b[0m qnn.weights 1.430511474609375e-06\n",
      "\u001b[36m(launch_and_evaluate pid=9034)\u001b[0m [Client 2] evaluate, config: {}\n",
      "\u001b[36m(launch_and_evaluate pid=9034)\u001b[0m Updated model\n",
      "\u001b[36m(launch_and_evaluate pid=9113)\u001b[0m Run with homomorphic encryption\u001b[32m [repeated 2x across cluster]\u001b[0m\n",
      "\u001b[36m(launch_and_evaluate pid=9035)\u001b[0m [Client 1] evaluate, config: {}\n",
      "\u001b[36m(launch_and_evaluate pid=9035)\u001b[0m Updated model\n",
      "\u001b[36m(launch_and_evaluate pid=9113)\u001b[0m [Client 6] evaluate, config: {}\n",
      "\u001b[36m(launch_and_evaluate pid=9113)\u001b[0m Updated model\n",
      "\u001b[36m(launch_and_evaluate pid=9191)\u001b[0m Run with homomorphic encryption\u001b[32m [repeated 2x across cluster]\u001b[0m\n",
      "\u001b[36m(launch_and_evaluate pid=9115)\u001b[0m [Client 5] evaluate, config: {}\n",
      "\u001b[36m(launch_and_evaluate pid=9115)\u001b[0m Updated model\n",
      "\u001b[36m(launch_and_evaluate pid=9191)\u001b[0m [Client 7] evaluate, config: {}\n",
      "\u001b[36m(launch_and_evaluate pid=9191)\u001b[0m Updated model\n",
      "\u001b[36m(launch_and_evaluate pid=9269)\u001b[0m Run with homomorphic encryption\u001b[32m [repeated 2x across cluster]\u001b[0m\n",
      "\u001b[36m(launch_and_evaluate pid=9193)\u001b[0m [Client 3] evaluate, config: {}\n",
      "\u001b[36m(launch_and_evaluate pid=9193)\u001b[0m Updated model\n",
      "\u001b[36m(launch_and_evaluate pid=9269)\u001b[0m [Client 0] evaluate, config: {}\n",
      "\u001b[36m(launch_and_evaluate pid=9269)\u001b[0m Updated model\n",
      "\u001b[36m(launch_and_evaluate pid=9347)\u001b[0m Run with homomorphic encryption\u001b[32m [repeated 2x across cluster]\u001b[0m\n",
      "\u001b[36m(launch_and_evaluate pid=9271)\u001b[0m [Client 4] evaluate, config: {}\n",
      "\u001b[36m(launch_and_evaluate pid=9271)\u001b[0m Updated model\n",
      "\u001b[36m(launch_and_evaluate pid=9347)\u001b[0m [Client 9] evaluate, config: {}\n",
      "\u001b[36m(launch_and_evaluate pid=9347)\u001b[0m Updated model\n"
     ]
    },
    {
     "name": "stderr",
     "output_type": "stream",
     "text": [
      "DEBUG flwr 2024-07-20 19:49:13,941 | server.py:187 | evaluate_round 11 received 10 results and 0 failures\n",
      "DEBUG flwr 2024-07-20 19:49:13,942 | server.py:222 | fit_round 12: strategy sampled 10 clients (out of 10)\n"
     ]
    },
    {
     "name": "stdout",
     "output_type": "stream",
     "text": [
      "\u001b[36m(launch_and_fit pid=9435)\u001b[0m Run with homomorphic encryption\u001b[32m [repeated 2x across cluster]\u001b[0m\n",
      "\u001b[36m(launch_and_evaluate pid=9349)\u001b[0m [Client 8] evaluate, config: {}\n",
      "\u001b[36m(launch_and_evaluate pid=9349)\u001b[0m Updated model\n",
      "\u001b[36m(launch_and_fit pid=9435)\u001b[0m [Client 5, round 12] fit, config: {'learning_rate': 0.001, 'batch_size': '128', 'server_round': 12, 'local_epochs': 10}\n",
      "\u001b[36m(launch_and_fit pid=9435)\u001b[0m Updated model\n"
     ]
    },
    {
     "name": "stderr",
     "output_type": "stream",
     "text": [
      "  0%|\u001b[34m          \u001b[0m| 0/10 [00:00<?, ?it/s]\n",
      "100%|\u001b[34m██████████\u001b[0m| 10/10 [00:58<00:00,  5.82s/it]\n"
     ]
    },
    {
     "name": "stdout",
     "output_type": "stream",
     "text": [
      "\u001b[36m(launch_and_fit pid=9435)\u001b[0m \tTrain Epoch: 1 \tTrain_loss: 0.9733 | Train_acc: 68.2118 % | Validation_loss: 1.1661 | Validation_acc: 63.8739 %\n",
      "\u001b[36m(launch_and_fit pid=9436)\u001b[0m Run with homomorphic encryption\n",
      "\u001b[36m(launch_and_fit pid=9436)\u001b[0m [Client 3, round 12] fit, config: {'learning_rate': 0.001, 'batch_size': '128', 'server_round': 12, 'local_epochs': 10}\n",
      "\u001b[36m(launch_and_fit pid=9436)\u001b[0m Updated model\n"
     ]
    },
    {
     "name": "stderr",
     "output_type": "stream",
     "text": [
      " 10%|\u001b[34m█         \u001b[0m| 1/10 [00:06<00:57,  6.41s/it]\n",
      "  0%|\u001b[34m          \u001b[0m| 0/10 [00:00<?, ?it/s]\n"
     ]
    },
    {
     "name": "stdout",
     "output_type": "stream",
     "text": [
      "\u001b[36m(launch_and_fit pid=9435)\u001b[0m \tTrain Epoch: 2 \tTrain_loss: 0.7545 | Train_acc: 76.3238 % | Validation_loss: 1.2260 | Validation_acc: 59.7724 %\u001b[32m [repeated 2x across cluster]\u001b[0m\n"
     ]
    },
    {
     "name": "stderr",
     "output_type": "stream",
     "text": [
      " 20%|\u001b[34m██        \u001b[0m| 2/10 [00:12<00:48,  6.01s/it]\u001b[32m [repeated 2x across cluster]\u001b[0m\n"
     ]
    },
    {
     "name": "stdout",
     "output_type": "stream",
     "text": [
      "\u001b[36m(launch_and_fit pid=9435)\u001b[0m \tTrain Epoch: 3 \tTrain_loss: 0.5940 | Train_acc: 83.2943 % | Validation_loss: 1.1482 | Validation_acc: 65.3219 %\u001b[32m [repeated 2x across cluster]\u001b[0m\n"
     ]
    },
    {
     "name": "stderr",
     "output_type": "stream",
     "text": [
      " 30%|\u001b[34m███       \u001b[0m| 3/10 [00:18<00:41,  5.95s/it]\u001b[32m [repeated 2x across cluster]\u001b[0m\n"
     ]
    },
    {
     "name": "stdout",
     "output_type": "stream",
     "text": [
      "\u001b[36m(launch_and_fit pid=9435)\u001b[0m \tTrain Epoch: 4 \tTrain_loss: 0.5130 | Train_acc: 86.9835 % | Validation_loss: 1.2637 | Validation_acc: 60.9846 %\u001b[32m [repeated 2x across cluster]\u001b[0m\n"
     ]
    },
    {
     "name": "stderr",
     "output_type": "stream",
     "text": [
      " 40%|\u001b[34m████      \u001b[0m| 4/10 [00:23<00:35,  5.85s/it]\u001b[32m [repeated 2x across cluster]\u001b[0m\n"
     ]
    },
    {
     "name": "stdout",
     "output_type": "stream",
     "text": [
      "\u001b[36m(launch_and_fit pid=9435)\u001b[0m \tTrain Epoch: 5 \tTrain_loss: 0.4624 | Train_acc: 88.7370 % | Validation_loss: 1.2449 | Validation_acc: 62.4529 %\u001b[32m [repeated 2x across cluster]\u001b[0m\n"
     ]
    },
    {
     "name": "stderr",
     "output_type": "stream",
     "text": [
      " 50%|\u001b[34m█████     \u001b[0m| 5/10 [00:29<00:28,  5.76s/it]\u001b[32m [repeated 2x across cluster]\u001b[0m\n"
     ]
    },
    {
     "name": "stdout",
     "output_type": "stream",
     "text": [
      "\u001b[36m(launch_and_fit pid=9435)\u001b[0m \tTrain Epoch: 6 \tTrain_loss: 0.3804 | Train_acc: 93.1641 % | Validation_loss: 1.2229 | Validation_acc: 64.0154 %\u001b[32m [repeated 2x across cluster]\u001b[0m\n"
     ]
    },
    {
     "name": "stderr",
     "output_type": "stream",
     "text": [
      " 60%|\u001b[34m██████    \u001b[0m| 6/10 [00:35<00:23,  5.80s/it]\u001b[32m [repeated 2x across cluster]\u001b[0m\n"
     ]
    },
    {
     "name": "stdout",
     "output_type": "stream",
     "text": [
      "\u001b[36m(launch_and_fit pid=9435)\u001b[0m \tTrain Epoch: 7 \tTrain_loss: 0.3447 | Train_acc: 94.1319 % | Validation_loss: 1.2468 | Validation_acc: 64.8370 %\u001b[32m [repeated 2x across cluster]\u001b[0m\n"
     ]
    },
    {
     "name": "stderr",
     "output_type": "stream",
     "text": [
      " 70%|\u001b[34m███████   \u001b[0m| 7/10 [00:41<00:17,  5.80s/it]\u001b[32m [repeated 2x across cluster]\u001b[0m\n"
     ]
    },
    {
     "name": "stdout",
     "output_type": "stream",
     "text": [
      "\u001b[36m(launch_and_fit pid=9435)\u001b[0m \tTrain Epoch: 8 \tTrain_loss: 0.3048 | Train_acc: 96.0503 % | Validation_loss: 1.2357 | Validation_acc: 64.6417 %\u001b[32m [repeated 2x across cluster]\u001b[0m\n"
     ]
    },
    {
     "name": "stderr",
     "output_type": "stream",
     "text": [
      " 80%|\u001b[34m████████  \u001b[0m| 8/10 [00:47<00:11,  5.92s/it]\u001b[32m [repeated 2x across cluster]\u001b[0m\n"
     ]
    },
    {
     "name": "stdout",
     "output_type": "stream",
     "text": [
      "\u001b[36m(launch_and_fit pid=9435)\u001b[0m \tTrain Epoch: 9 \tTrain_loss: 0.2759 | Train_acc: 97.3307 % | Validation_loss: 1.2405 | Validation_acc: 63.0590 %\u001b[32m [repeated 2x across cluster]\u001b[0m\n"
     ]
    },
    {
     "name": "stderr",
     "output_type": "stream",
     "text": [
      " 90%|\u001b[34m█████████ \u001b[0m| 9/10 [00:53<00:05,  5.94s/it]\u001b[32m [repeated 2x across cluster]\u001b[0m\n"
     ]
    },
    {
     "name": "stdout",
     "output_type": "stream",
     "text": [
      "\u001b[36m(launch_and_fit pid=9435)\u001b[0m save graph in  results/FL/\n",
      "\u001b[36m(launch_and_fit pid=9435)\u001b[0m \tTrain Epoch: 10 \tTrain_loss: 0.2471 | Train_acc: 97.9167 % | Validation_loss: 1.2311 | Validation_acc: 63.9211 %\u001b[32m [repeated 2x across cluster]\u001b[0m\n"
     ]
    },
    {
     "name": "stderr",
     "output_type": "stream",
     "text": [
      "100%|\u001b[34m██████████\u001b[0m| 10/10 [00:58<00:00,  5.89s/it]\u001b[32m [repeated 2x across cluster]\u001b[0m\n"
     ]
    },
    {
     "name": "stdout",
     "output_type": "stream",
     "text": [
      "\u001b[36m(launch_and_fit pid=9435)\u001b[0m network.0.weight 6.198883056640625e-06\n",
      "\u001b[36m(launch_and_fit pid=9435)\u001b[0m network.0.bias 1.1682510375976562e-05\n",
      "\u001b[36m(launch_and_fit pid=9435)\u001b[0m network.2.weight 2.1457672119140625e-06\n",
      "\u001b[36m(launch_and_fit pid=9435)\u001b[0m network.2.bias 1.9073486328125e-06\n",
      "\u001b[36m(launch_and_fit pid=9435)\u001b[0m network.5.weight 1.6689300537109375e-06\n",
      "\u001b[36m(launch_and_fit pid=9435)\u001b[0m network.5.bias 2.1457672119140625e-06\n",
      "\u001b[36m(launch_and_fit pid=9435)\u001b[0m network.7.weight 1.9073486328125e-06\n",
      "\u001b[36m(launch_and_fit pid=9435)\u001b[0m network.7.bias 1.6689300537109375e-06\n",
      "\u001b[36m(launch_and_fit pid=9435)\u001b[0m network.10.weight 1.6689300537109375e-06\n",
      "\u001b[36m(launch_and_fit pid=9435)\u001b[0m network.10.bias 1.430511474609375e-06\n",
      "\u001b[36m(launch_and_fit pid=9435)\u001b[0m network.12.weight 1.9073486328125e-06\n",
      "\u001b[36m(launch_and_fit pid=9435)\u001b[0m network.12.bias 1.9073486328125e-06\n",
      "\u001b[36m(launch_and_fit pid=9435)\u001b[0m network.16.weight 1.9073486328125e-06\n",
      "\u001b[36m(launch_and_fit pid=9435)\u001b[0m network.16.bias 1.430511474609375e-06\n",
      "\u001b[36m(launch_and_fit pid=9435)\u001b[0m network.18.weight 1.6689300537109375e-06\n",
      "\u001b[36m(launch_and_fit pid=9435)\u001b[0m network.18.bias 1.9073486328125e-06\n",
      "\u001b[36m(launch_and_fit pid=9435)\u001b[0m network.20.weight 2.1457672119140625e-06\n",
      "\u001b[36m(launch_and_fit pid=9435)\u001b[0m network.20.bias 1.6689300537109375e-06\n",
      "\u001b[36m(launch_and_fit pid=9435)\u001b[0m qnn.weights 1.9073486328125e-06\n",
      "\u001b[36m(launch_and_fit pid=9435)\u001b[0m fc4.weight 2.1457672119140625e-06\n",
      "\u001b[36m(launch_and_fit pid=9435)\u001b[0m fc4.bias 2.1457672119140625e-06\n",
      "\u001b[36m(launch_and_fit pid=9518)\u001b[0m Run with homomorphic encryption\n",
      "\u001b[36m(launch_and_fit pid=9436)\u001b[0m save graph in  results/FL/\n",
      "\u001b[36m(launch_and_fit pid=9436)\u001b[0m \tTrain Epoch: 10 \tTrain_loss: 0.2456 | Train_acc: 97.7344 % | Validation_loss: 1.2258 | Validation_acc: 61.6514 %\n",
      "\u001b[36m(launch_and_fit pid=9436)\u001b[0m fc4.bias 9.5367431640625e-07\u001b[32m [repeated 20x across cluster]\u001b[0m\n",
      "\u001b[36m(launch_and_fit pid=9436)\u001b[0m qnn.weights 9.5367431640625e-07\n",
      "\u001b[36m(launch_and_fit pid=9518)\u001b[0m [Client 6, round 12] fit, config: {'learning_rate': 0.001, 'batch_size': '128', 'server_round': 12, 'local_epochs': 10}\n",
      "\u001b[36m(launch_and_fit pid=9518)\u001b[0m Updated model\n"
     ]
    },
    {
     "name": "stderr",
     "output_type": "stream",
     "text": [
      "  0%|\u001b[34m          \u001b[0m| 0/10 [00:00<?, ?it/s]\n",
      "100%|\u001b[34m██████████\u001b[0m| 10/10 [00:59<00:00,  5.99s/it]\n"
     ]
    },
    {
     "name": "stdout",
     "output_type": "stream",
     "text": [
      "\u001b[36m(launch_and_fit pid=9518)\u001b[0m \tTrain Epoch: 1 \tTrain_loss: 0.9682 | Train_acc: 68.8455 % | Validation_loss: 1.1760 | Validation_acc: 63.8941 %\n",
      "\u001b[36m(launch_and_fit pid=9543)\u001b[0m Run with homomorphic encryption\n",
      "\u001b[36m(launch_and_fit pid=9543)\u001b[0m [Client 9, round 12] fit, config: {'learning_rate': 0.001, 'batch_size': '128', 'server_round': 12, 'local_epochs': 10}\n",
      "\u001b[36m(launch_and_fit pid=9543)\u001b[0m Updated model\n"
     ]
    },
    {
     "name": "stderr",
     "output_type": "stream",
     "text": [
      " 10%|\u001b[34m█         \u001b[0m| 1/10 [00:06<00:59,  6.63s/it]\n",
      "  0%|\u001b[34m          \u001b[0m| 0/10 [00:00<?, ?it/s]\n"
     ]
    },
    {
     "name": "stdout",
     "output_type": "stream",
     "text": [
      "\u001b[36m(launch_and_fit pid=9518)\u001b[0m \tTrain Epoch: 2 \tTrain_loss: 0.7260 | Train_acc: 75.7205 % | Validation_loss: 1.1921 | Validation_acc: 60.8836 %\u001b[32m [repeated 2x across cluster]\u001b[0m\n"
     ]
    },
    {
     "name": "stderr",
     "output_type": "stream",
     "text": [
      " 20%|\u001b[34m██        \u001b[0m| 2/10 [00:12<00:49,  6.17s/it]\u001b[32m [repeated 2x across cluster]\u001b[0m\n"
     ]
    },
    {
     "name": "stdout",
     "output_type": "stream",
     "text": [
      "\u001b[36m(launch_and_fit pid=9518)\u001b[0m \tTrain Epoch: 3 \tTrain_loss: 0.6342 | Train_acc: 80.3255 % | Validation_loss: 1.2645 | Validation_acc: 61.6110 %\u001b[32m [repeated 2x across cluster]\u001b[0m\n"
     ]
    },
    {
     "name": "stderr",
     "output_type": "stream",
     "text": [
      " 30%|\u001b[34m███       \u001b[0m| 3/10 [00:18<00:41,  5.98s/it]\u001b[32m [repeated 2x across cluster]\u001b[0m\n"
     ]
    },
    {
     "name": "stdout",
     "output_type": "stream",
     "text": [
      "\u001b[36m(launch_and_fit pid=9518)\u001b[0m \tTrain Epoch: 4 \tTrain_loss: 0.5194 | Train_acc: 84.9436 % | Validation_loss: 1.2303 | Validation_acc: 61.5302 %\u001b[32m [repeated 2x across cluster]\u001b[0m\n"
     ]
    },
    {
     "name": "stderr",
     "output_type": "stream",
     "text": [
      " 40%|\u001b[34m████      \u001b[0m| 4/10 [00:23<00:35,  5.89s/it]\u001b[32m [repeated 2x across cluster]\u001b[0m\n"
     ]
    },
    {
     "name": "stdout",
     "output_type": "stream",
     "text": [
      "\u001b[36m(launch_and_fit pid=9518)\u001b[0m \tTrain Epoch: 5 \tTrain_loss: 0.4497 | Train_acc: 88.0165 % | Validation_loss: 1.2827 | Validation_acc: 59.8734 %\u001b[32m [repeated 2x across cluster]\u001b[0m\n"
     ]
    },
    {
     "name": "stderr",
     "output_type": "stream",
     "text": [
      " 50%|\u001b[34m█████     \u001b[0m| 5/10 [00:29<00:29,  5.89s/it]\u001b[32m [repeated 2x across cluster]\u001b[0m\n"
     ]
    },
    {
     "name": "stdout",
     "output_type": "stream",
     "text": [
      "\u001b[36m(launch_and_fit pid=9518)\u001b[0m \tTrain Epoch: 6 \tTrain_loss: 0.3737 | Train_acc: 91.8533 % | Validation_loss: 1.2661 | Validation_acc: 61.8804 %\u001b[32m [repeated 2x across cluster]\u001b[0m\n"
     ]
    },
    {
     "name": "stderr",
     "output_type": "stream",
     "text": [
      " 60%|\u001b[34m██████    \u001b[0m| 6/10 [00:35<00:23,  5.94s/it]\u001b[32m [repeated 2x across cluster]\u001b[0m\n"
     ]
    },
    {
     "name": "stdout",
     "output_type": "stream",
     "text": [
      "\u001b[36m(launch_and_fit pid=9518)\u001b[0m \tTrain Epoch: 7 \tTrain_loss: 0.3623 | Train_acc: 93.1424 % | Validation_loss: 1.2558 | Validation_acc: 61.4763 %\u001b[32m [repeated 2x across cluster]\u001b[0m\n"
     ]
    },
    {
     "name": "stderr",
     "output_type": "stream",
     "text": [
      " 70%|\u001b[34m███████   \u001b[0m| 7/10 [00:41<00:17,  5.91s/it]\u001b[32m [repeated 2x across cluster]\u001b[0m\n"
     ]
    },
    {
     "name": "stdout",
     "output_type": "stream",
     "text": [
      "\u001b[36m(launch_and_fit pid=9518)\u001b[0m \tTrain Epoch: 8 \tTrain_loss: 0.3107 | Train_acc: 94.6875 % | Validation_loss: 1.2416 | Validation_acc: 63.7796 %\u001b[32m [repeated 2x across cluster]\u001b[0m\n"
     ]
    },
    {
     "name": "stderr",
     "output_type": "stream",
     "text": [
      " 80%|\u001b[34m████████  \u001b[0m| 8/10 [00:47<00:11,  5.89s/it]\u001b[32m [repeated 2x across cluster]\u001b[0m\n"
     ]
    },
    {
     "name": "stdout",
     "output_type": "stream",
     "text": [
      "\u001b[36m(launch_and_fit pid=9518)\u001b[0m \tTrain Epoch: 9 \tTrain_loss: 0.2847 | Train_acc: 96.1198 % | Validation_loss: 1.2429 | Validation_acc: 61.6716 %\u001b[32m [repeated 2x across cluster]\u001b[0m\n"
     ]
    },
    {
     "name": "stderr",
     "output_type": "stream",
     "text": [
      " 90%|\u001b[34m█████████ \u001b[0m| 9/10 [00:53<00:05,  5.88s/it]\u001b[32m [repeated 2x across cluster]\u001b[0m\n"
     ]
    },
    {
     "name": "stdout",
     "output_type": "stream",
     "text": [
      "\u001b[36m(launch_and_fit pid=9518)\u001b[0m save graph in  results/FL/\n",
      "\u001b[36m(launch_and_fit pid=9518)\u001b[0m \tTrain Epoch: 10 \tTrain_loss: 0.2510 | Train_acc: 97.7648 % | Validation_loss: 1.2371 | Validation_acc: 62.5876 %\u001b[32m [repeated 2x across cluster]\u001b[0m\n"
     ]
    },
    {
     "name": "stderr",
     "output_type": "stream",
     "text": [
      "100%|\u001b[34m██████████\u001b[0m| 10/10 [00:59<00:00,  5.94s/it]\u001b[32m [repeated 2x across cluster]\u001b[0m\n"
     ]
    },
    {
     "name": "stdout",
     "output_type": "stream",
     "text": [
      "\u001b[36m(launch_and_fit pid=9518)\u001b[0m network.0.weight 5.9604644775390625e-06\n",
      "\u001b[36m(launch_and_fit pid=9518)\u001b[0m network.0.bias 2.1457672119140625e-06\n",
      "\u001b[36m(launch_and_fit pid=9518)\u001b[0m network.2.weight 1.1920928955078125e-06\n",
      "\u001b[36m(launch_and_fit pid=9518)\u001b[0m network.2.bias 1.430511474609375e-06\n",
      "\u001b[36m(launch_and_fit pid=9518)\u001b[0m network.5.weight 1.6689300537109375e-06\n",
      "\u001b[36m(launch_and_fit pid=9518)\u001b[0m network.5.bias 1.430511474609375e-06\n",
      "\u001b[36m(launch_and_fit pid=9518)\u001b[0m network.7.weight 1.1920928955078125e-06\n",
      "\u001b[36m(launch_and_fit pid=9518)\u001b[0m network.7.bias 1.430511474609375e-06\n",
      "\u001b[36m(launch_and_fit pid=9518)\u001b[0m network.10.weight 1.430511474609375e-06\n",
      "\u001b[36m(launch_and_fit pid=9518)\u001b[0m network.10.bias 1.1920928955078125e-06\n",
      "\u001b[36m(launch_and_fit pid=9518)\u001b[0m network.12.weight 9.5367431640625e-07\n",
      "\u001b[36m(launch_and_fit pid=9518)\u001b[0m network.12.bias 1.1920928955078125e-06\n",
      "\u001b[36m(launch_and_fit pid=9518)\u001b[0m network.16.weight 1.430511474609375e-06\n",
      "\u001b[36m(launch_and_fit pid=9518)\u001b[0m network.16.bias 1.430511474609375e-06\n",
      "\u001b[36m(launch_and_fit pid=9518)\u001b[0m network.18.weight 1.1920928955078125e-06\n",
      "\u001b[36m(launch_and_fit pid=9518)\u001b[0m network.18.bias 1.1920928955078125e-06\n",
      "\u001b[36m(launch_and_fit pid=9518)\u001b[0m network.20.weight 7.3909759521484375e-06\n",
      "\u001b[36m(launch_and_fit pid=9518)\u001b[0m network.20.bias 1.430511474609375e-06\n",
      "\u001b[36m(launch_and_fit pid=9518)\u001b[0m qnn.weights 1.1920928955078125e-06\n",
      "\u001b[36m(launch_and_fit pid=9518)\u001b[0m fc4.weight 1.6689300537109375e-06\n",
      "\u001b[36m(launch_and_fit pid=9518)\u001b[0m fc4.bias 1.430511474609375e-06\n",
      "\u001b[36m(launch_and_fit pid=9601)\u001b[0m Run with homomorphic encryption\n",
      "\u001b[36m(launch_and_fit pid=9543)\u001b[0m save graph in  results/FL/\n",
      "\u001b[36m(launch_and_fit pid=9543)\u001b[0m \tTrain Epoch: 10 \tTrain_loss: 0.2851 | Train_acc: 96.9184 % | Validation_loss: 1.3396 | Validation_acc: 61.4965 %\n",
      "\u001b[36m(launch_and_fit pid=9543)\u001b[0m fc4.bias 1.9073486328125e-06\u001b[32m [repeated 20x across cluster]\u001b[0m\n",
      "\u001b[36m(launch_and_fit pid=9543)\u001b[0m qnn.weights 1.9073486328125e-06\n",
      "\u001b[36m(launch_and_fit pid=9601)\u001b[0m [Client 4, round 12] fit, config: {'learning_rate': 0.001, 'batch_size': '128', 'server_round': 12, 'local_epochs': 10}\n"
     ]
    },
    {
     "name": "stderr",
     "output_type": "stream",
     "text": [
      "  0%|\u001b[34m          \u001b[0m| 0/10 [00:00<?, ?it/s]\n",
      "100%|\u001b[34m██████████\u001b[0m| 10/10 [01:00<00:00,  6.01s/it]\n"
     ]
    },
    {
     "name": "stdout",
     "output_type": "stream",
     "text": [
      "\u001b[36m(launch_and_fit pid=9601)\u001b[0m Updated model\n"
     ]
    },
    {
     "name": "stderr",
     "output_type": "stream",
     "text": [
      " 10%|\u001b[34m█         \u001b[0m| 1/10 [00:06<00:57,  6.42s/it]\n",
      "  0%|\u001b[34m          \u001b[0m| 0/10 [00:00<?, ?it/s]\n"
     ]
    },
    {
     "name": "stdout",
     "output_type": "stream",
     "text": [
      "\u001b[36m(launch_and_fit pid=9601)\u001b[0m \tTrain Epoch: 1 \tTrain_loss: 0.9973 | Train_acc: 67.3090 % | Validation_loss: 1.3648 | Validation_acc: 56.2163 %\n",
      "\u001b[36m(launch_and_fit pid=9626)\u001b[0m Run with homomorphic encryption\n",
      "\u001b[36m(launch_and_fit pid=9626)\u001b[0m [Client 2, round 12] fit, config: {'learning_rate': 0.001, 'batch_size': '128', 'server_round': 12, 'local_epochs': 10}\n",
      "\u001b[36m(launch_and_fit pid=9626)\u001b[0m Updated model\n"
     ]
    },
    {
     "name": "stderr",
     "output_type": "stream",
     "text": [
      " 20%|\u001b[34m██        \u001b[0m| 2/10 [00:12<00:47,  5.99s/it]\u001b[32m [repeated 2x across cluster]\u001b[0m\n"
     ]
    },
    {
     "name": "stdout",
     "output_type": "stream",
     "text": [
      "\u001b[36m(launch_and_fit pid=9601)\u001b[0m \tTrain Epoch: 2 \tTrain_loss: 0.7291 | Train_acc: 77.1137 % | Validation_loss: 1.2966 | Validation_acc: 59.9677 %\u001b[32m [repeated 2x across cluster]\u001b[0m\n"
     ]
    },
    {
     "name": "stderr",
     "output_type": "stream",
     "text": [
      " 30%|\u001b[34m███       \u001b[0m| 3/10 [00:17<00:41,  5.92s/it]\u001b[32m [repeated 2x across cluster]\u001b[0m\n"
     ]
    },
    {
     "name": "stdout",
     "output_type": "stream",
     "text": [
      "\u001b[36m(launch_and_fit pid=9601)\u001b[0m \tTrain Epoch: 3 \tTrain_loss: 0.5647 | Train_acc: 83.6285 % | Validation_loss: 1.3380 | Validation_acc: 60.2034 %\u001b[32m [repeated 2x across cluster]\u001b[0m\n"
     ]
    },
    {
     "name": "stderr",
     "output_type": "stream",
     "text": [
      " 40%|\u001b[34m████      \u001b[0m| 4/10 [00:23<00:35,  5.96s/it]\u001b[32m [repeated 2x across cluster]\u001b[0m\n"
     ]
    },
    {
     "name": "stdout",
     "output_type": "stream",
     "text": [
      "\u001b[36m(launch_and_fit pid=9601)\u001b[0m \tTrain Epoch: 4 \tTrain_loss: 0.4614 | Train_acc: 88.7804 % | Validation_loss: 1.3096 | Validation_acc: 62.2373 %\u001b[32m [repeated 2x across cluster]\u001b[0m\n"
     ]
    },
    {
     "name": "stderr",
     "output_type": "stream",
     "text": [
      " 50%|\u001b[34m█████     \u001b[0m| 5/10 [00:29<00:29,  5.90s/it]\u001b[32m [repeated 2x across cluster]\u001b[0m\n"
     ]
    },
    {
     "name": "stdout",
     "output_type": "stream",
     "text": [
      "\u001b[36m(launch_and_fit pid=9601)\u001b[0m \tTrain Epoch: 5 \tTrain_loss: 0.4019 | Train_acc: 91.5061 % | Validation_loss: 1.3592 | Validation_acc: 62.2777 %\u001b[32m [repeated 2x across cluster]\u001b[0m\n"
     ]
    },
    {
     "name": "stderr",
     "output_type": "stream",
     "text": [
      " 60%|\u001b[34m██████    \u001b[0m| 6/10 [00:35<00:23,  5.87s/it]\u001b[32m [repeated 2x across cluster]\u001b[0m\n"
     ]
    },
    {
     "name": "stdout",
     "output_type": "stream",
     "text": [
      "\u001b[36m(launch_and_fit pid=9601)\u001b[0m \tTrain Epoch: 6 \tTrain_loss: 0.3612 | Train_acc: 93.7847 % | Validation_loss: 1.3483 | Validation_acc: 61.9208 %\u001b[32m [repeated 2x across cluster]\u001b[0m\n"
     ]
    },
    {
     "name": "stderr",
     "output_type": "stream",
     "text": [
      " 70%|\u001b[34m███████   \u001b[0m| 7/10 [00:41<00:17,  5.83s/it]\u001b[32m [repeated 2x across cluster]\u001b[0m\n"
     ]
    },
    {
     "name": "stdout",
     "output_type": "stream",
     "text": [
      "\u001b[36m(launch_and_fit pid=9601)\u001b[0m \tTrain Epoch: 7 \tTrain_loss: 0.3484 | Train_acc: 94.4618 % | Validation_loss: 1.3488 | Validation_acc: 61.1800 %\u001b[32m [repeated 2x across cluster]\u001b[0m\n"
     ]
    },
    {
     "name": "stderr",
     "output_type": "stream",
     "text": [
      " 80%|\u001b[34m████████  \u001b[0m| 8/10 [00:47<00:11,  5.81s/it]\u001b[32m [repeated 2x across cluster]\u001b[0m\n"
     ]
    },
    {
     "name": "stdout",
     "output_type": "stream",
     "text": [
      "\u001b[36m(launch_and_fit pid=9601)\u001b[0m \tTrain Epoch: 8 \tTrain_loss: 0.3147 | Train_acc: 95.9852 % | Validation_loss: 1.3654 | Validation_acc: 60.1832 %\u001b[32m [repeated 2x across cluster]\u001b[0m\n"
     ]
    },
    {
     "name": "stderr",
     "output_type": "stream",
     "text": [
      " 90%|\u001b[34m█████████ \u001b[0m| 9/10 [00:52<00:05,  5.78s/it]\u001b[32m [repeated 2x across cluster]\u001b[0m\n"
     ]
    },
    {
     "name": "stdout",
     "output_type": "stream",
     "text": [
      "\u001b[36m(launch_and_fit pid=9601)\u001b[0m \tTrain Epoch: 9 \tTrain_loss: 0.2956 | Train_acc: 96.5278 % | Validation_loss: 1.3552 | Validation_acc: 60.1630 %\u001b[32m [repeated 2x across cluster]\u001b[0m\n"
     ]
    },
    {
     "name": "stderr",
     "output_type": "stream",
     "text": [
      "100%|\u001b[34m██████████\u001b[0m| 10/10 [00:58<00:00,  5.88s/it]\u001b[32m [repeated 2x across cluster]\u001b[0m\n"
     ]
    },
    {
     "name": "stdout",
     "output_type": "stream",
     "text": [
      "\u001b[36m(launch_and_fit pid=9601)\u001b[0m save graph in  results/FL/\n",
      "\u001b[36m(launch_and_fit pid=9601)\u001b[0m \tTrain Epoch: 10 \tTrain_loss: 0.2616 | Train_acc: 97.6780 % | Validation_loss: 1.3591 | Validation_acc: 62.6280 %\u001b[32m [repeated 2x across cluster]\u001b[0m\n",
      "\u001b[36m(launch_and_fit pid=9601)\u001b[0m network.0.weight 5.0067901611328125e-06\n",
      "\u001b[36m(launch_and_fit pid=9601)\u001b[0m network.0.bias 1.430511474609375e-06\n",
      "\u001b[36m(launch_and_fit pid=9601)\u001b[0m network.2.weight 9.5367431640625e-07\n",
      "\u001b[36m(launch_and_fit pid=9601)\u001b[0m network.2.bias 9.5367431640625e-07\n",
      "\u001b[36m(launch_and_fit pid=9601)\u001b[0m network.5.weight 1.1920928955078125e-06\n",
      "\u001b[36m(launch_and_fit pid=9601)\u001b[0m network.5.bias 1.1920928955078125e-06\n",
      "\u001b[36m(launch_and_fit pid=9601)\u001b[0m network.7.weight 9.5367431640625e-07\n",
      "\u001b[36m(launch_and_fit pid=9601)\u001b[0m network.7.bias 9.5367431640625e-07\n",
      "\u001b[36m(launch_and_fit pid=9601)\u001b[0m network.10.weight 1.1920928955078125e-06\n",
      "\u001b[36m(launch_and_fit pid=9601)\u001b[0m network.10.bias 1.1920928955078125e-06\n",
      "\u001b[36m(launch_and_fit pid=9601)\u001b[0m network.12.weight 9.5367431640625e-07\n",
      "\u001b[36m(launch_and_fit pid=9601)\u001b[0m network.12.bias 1.1920928955078125e-06\n",
      "\u001b[36m(launch_and_fit pid=9601)\u001b[0m network.16.weight 9.5367431640625e-07\n",
      "\u001b[36m(launch_and_fit pid=9601)\u001b[0m network.16.bias 9.5367431640625e-07\n",
      "\u001b[36m(launch_and_fit pid=9601)\u001b[0m network.18.weight 1.430511474609375e-06\n",
      "\u001b[36m(launch_and_fit pid=9601)\u001b[0m network.18.bias 9.5367431640625e-07\n",
      "\u001b[36m(launch_and_fit pid=9601)\u001b[0m network.20.weight 1.1920928955078125e-06\n",
      "\u001b[36m(launch_and_fit pid=9601)\u001b[0m network.20.bias 9.5367431640625e-07\n",
      "\u001b[36m(launch_and_fit pid=9601)\u001b[0m qnn.weights 1.1920928955078125e-06\n",
      "\u001b[36m(launch_and_fit pid=9601)\u001b[0m fc4.weight 1.1920928955078125e-06\n",
      "\u001b[36m(launch_and_fit pid=9601)\u001b[0m fc4.bias 9.5367431640625e-07\n",
      "\u001b[36m(launch_and_fit pid=9683)\u001b[0m Run with homomorphic encryption\n",
      "\u001b[36m(launch_and_fit pid=9626)\u001b[0m save graph in  results/FL/\n",
      "\u001b[36m(launch_and_fit pid=9626)\u001b[0m \tTrain Epoch: 10 \tTrain_loss: 0.2582 | Train_acc: 97.4175 % | Validation_loss: 1.3859 | Validation_acc: 59.5366 %\n",
      "\u001b[36m(launch_and_fit pid=9626)\u001b[0m fc4.bias 1.430511474609375e-06\u001b[32m [repeated 20x across cluster]\u001b[0m\n",
      "\u001b[36m(launch_and_fit pid=9626)\u001b[0m qnn.weights 1.430511474609375e-06\n",
      "\u001b[36m(launch_and_fit pid=9683)\u001b[0m [Client 0, round 12] fit, config: {'learning_rate': 0.001, 'batch_size': '128', 'server_round': 12, 'local_epochs': 10}\n",
      "\u001b[36m(launch_and_fit pid=9683)\u001b[0m Updated model\n"
     ]
    },
    {
     "name": "stderr",
     "output_type": "stream",
     "text": [
      "  0%|\u001b[34m          \u001b[0m| 0/10 [00:00<?, ?it/s]\n",
      "100%|\u001b[34m██████████\u001b[0m| 10/10 [00:59<00:00,  5.93s/it]\n"
     ]
    },
    {
     "name": "stdout",
     "output_type": "stream",
     "text": [
      "\u001b[36m(launch_and_fit pid=9708)\u001b[0m Run with homomorphic encryption\n",
      "\u001b[36m(launch_and_fit pid=9683)\u001b[0m \tTrain Epoch: 1 \tTrain_loss: 0.9619 | Train_acc: 67.6389 % | Validation_loss: 1.2232 | Validation_acc: 59.9138 %\n",
      "\u001b[36m(launch_and_fit pid=9708)\u001b[0m [Client 8, round 12] fit, config: {'learning_rate': 0.001, 'batch_size': '128', 'server_round': 12, 'local_epochs': 10}\n",
      "\u001b[36m(launch_and_fit pid=9708)\u001b[0m Updated model\n"
     ]
    },
    {
     "name": "stderr",
     "output_type": "stream",
     "text": [
      " 10%|\u001b[34m█         \u001b[0m| 1/10 [00:06<00:54,  6.11s/it]\n",
      "  0%|\u001b[34m          \u001b[0m| 0/10 [00:00<?, ?it/s]\n"
     ]
    },
    {
     "name": "stdout",
     "output_type": "stream",
     "text": [
      "\u001b[36m(launch_and_fit pid=9683)\u001b[0m \tTrain Epoch: 2 \tTrain_loss: 0.7482 | Train_acc: 75.9462 % | Validation_loss: 1.0871 | Validation_acc: 64.6282 %\u001b[32m [repeated 2x across cluster]\u001b[0m\n"
     ]
    },
    {
     "name": "stderr",
     "output_type": "stream",
     "text": [
      " 20%|\u001b[34m██        \u001b[0m| 2/10 [00:12<00:49,  6.21s/it]\u001b[32m [repeated 2x across cluster]\u001b[0m\n"
     ]
    },
    {
     "name": "stdout",
     "output_type": "stream",
     "text": [
      "\u001b[36m(launch_and_fit pid=9683)\u001b[0m \tTrain Epoch: 3 \tTrain_loss: 0.5905 | Train_acc: 82.1528 % | Validation_loss: 1.1314 | Validation_acc: 65.6048 %\u001b[32m [repeated 2x across cluster]\u001b[0m\n"
     ]
    },
    {
     "name": "stderr",
     "output_type": "stream",
     "text": [
      " 30%|\u001b[34m███       \u001b[0m| 3/10 [00:18<00:43,  6.16s/it]\u001b[32m [repeated 2x across cluster]\u001b[0m\n"
     ]
    },
    {
     "name": "stdout",
     "output_type": "stream",
     "text": [
      "\u001b[36m(launch_and_fit pid=9683)\u001b[0m \tTrain Epoch: 4 \tTrain_loss: 0.5190 | Train_acc: 85.3689 % | Validation_loss: 1.0773 | Validation_acc: 66.4265 %\u001b[32m [repeated 2x across cluster]\u001b[0m\n"
     ]
    },
    {
     "name": "stderr",
     "output_type": "stream",
     "text": [
      " 40%|\u001b[34m████      \u001b[0m| 4/10 [00:24<00:35,  5.99s/it]\u001b[32m [repeated 2x across cluster]\u001b[0m\n"
     ]
    },
    {
     "name": "stdout",
     "output_type": "stream",
     "text": [
      "\u001b[36m(launch_and_fit pid=9683)\u001b[0m \tTrain Epoch: 5 \tTrain_loss: 0.4494 | Train_acc: 88.4332 % | Validation_loss: 1.1185 | Validation_acc: 63.5506 %\u001b[32m [repeated 2x across cluster]\u001b[0m\n"
     ]
    },
    {
     "name": "stderr",
     "output_type": "stream",
     "text": [
      " 50%|\u001b[34m█████     \u001b[0m| 5/10 [00:29<00:29,  5.90s/it]\u001b[32m [repeated 2x across cluster]\u001b[0m\n"
     ]
    },
    {
     "name": "stdout",
     "output_type": "stream",
     "text": [
      "\u001b[36m(launch_and_fit pid=9683)\u001b[0m \tTrain Epoch: 6 \tTrain_loss: 0.3982 | Train_acc: 90.9679 % | Validation_loss: 1.1145 | Validation_acc: 67.3828 %\u001b[32m [repeated 2x across cluster]\u001b[0m\n"
     ]
    },
    {
     "name": "stderr",
     "output_type": "stream",
     "text": [
      " 60%|\u001b[34m██████    \u001b[0m| 6/10 [00:35<00:23,  5.81s/it]\u001b[32m [repeated 2x across cluster]\u001b[0m\n"
     ]
    },
    {
     "name": "stdout",
     "output_type": "stream",
     "text": [
      "\u001b[36m(launch_and_fit pid=9683)\u001b[0m \tTrain Epoch: 7 \tTrain_loss: 0.3608 | Train_acc: 92.5608 % | Validation_loss: 1.1391 | Validation_acc: 65.9550 %\u001b[32m [repeated 2x across cluster]\u001b[0m\n"
     ]
    },
    {
     "name": "stderr",
     "output_type": "stream",
     "text": [
      " 70%|\u001b[34m███████   \u001b[0m| 7/10 [00:41<00:17,  5.80s/it]\u001b[32m [repeated 2x across cluster]\u001b[0m\n"
     ]
    },
    {
     "name": "stdout",
     "output_type": "stream",
     "text": [
      "\u001b[36m(launch_and_fit pid=9683)\u001b[0m \tTrain Epoch: 8 \tTrain_loss: 0.3158 | Train_acc: 95.0347 % | Validation_loss: 1.1408 | Validation_acc: 65.7799 %\u001b[32m [repeated 2x across cluster]\u001b[0m\n"
     ]
    },
    {
     "name": "stderr",
     "output_type": "stream",
     "text": [
      " 80%|\u001b[34m████████  \u001b[0m| 8/10 [00:47<00:11,  5.87s/it]\u001b[32m [repeated 2x across cluster]\u001b[0m\n"
     ]
    },
    {
     "name": "stdout",
     "output_type": "stream",
     "text": [
      "\u001b[36m(launch_and_fit pid=9683)\u001b[0m \tTrain Epoch: 9 \tTrain_loss: 0.2838 | Train_acc: 96.7361 % | Validation_loss: 1.1171 | Validation_acc: 66.2513 %\u001b[32m [repeated 2x across cluster]\u001b[0m\n"
     ]
    },
    {
     "name": "stderr",
     "output_type": "stream",
     "text": [
      " 90%|\u001b[34m█████████ \u001b[0m| 9/10 [00:53<00:05,  5.88s/it]\u001b[32m [repeated 2x across cluster]\u001b[0m\n"
     ]
    },
    {
     "name": "stdout",
     "output_type": "stream",
     "text": [
      "\u001b[36m(launch_and_fit pid=9683)\u001b[0m save graph in  results/FL/\n",
      "\u001b[36m(launch_and_fit pid=9683)\u001b[0m \tTrain Epoch: 10 \tTrain_loss: 0.2510 | Train_acc: 97.9818 % | Validation_loss: 1.1378 | Validation_acc: 66.6420 %\u001b[32m [repeated 2x across cluster]\u001b[0m\n"
     ]
    },
    {
     "name": "stderr",
     "output_type": "stream",
     "text": [
      "100%|\u001b[34m██████████\u001b[0m| 10/10 [00:58<00:00,  5.90s/it]\u001b[32m [repeated 2x across cluster]\u001b[0m\n"
     ]
    },
    {
     "name": "stdout",
     "output_type": "stream",
     "text": [
      "\u001b[36m(launch_and_fit pid=9683)\u001b[0m network.0.weight 5.0067901611328125e-06\n",
      "\u001b[36m(launch_and_fit pid=9683)\u001b[0m network.0.bias 1.6689300537109375e-06\n",
      "\u001b[36m(launch_and_fit pid=9683)\u001b[0m network.2.weight 1.1920928955078125e-06\n",
      "\u001b[36m(launch_and_fit pid=9683)\u001b[0m network.2.bias 1.1920928955078125e-06\n",
      "\u001b[36m(launch_and_fit pid=9683)\u001b[0m network.5.weight 1.1920928955078125e-06\n",
      "\u001b[36m(launch_and_fit pid=9683)\u001b[0m network.5.bias 1.1920928955078125e-06\n",
      "\u001b[36m(launch_and_fit pid=9683)\u001b[0m network.7.weight 9.5367431640625e-07\n",
      "\u001b[36m(launch_and_fit pid=9683)\u001b[0m network.7.bias 1.430511474609375e-06\n",
      "\u001b[36m(launch_and_fit pid=9683)\u001b[0m network.10.weight 1.1920928955078125e-06\n",
      "\u001b[36m(launch_and_fit pid=9683)\u001b[0m network.10.bias 9.5367431640625e-07\n",
      "\u001b[36m(launch_and_fit pid=9683)\u001b[0m network.12.weight 1.1920928955078125e-06\n",
      "\u001b[36m(launch_and_fit pid=9683)\u001b[0m network.12.bias 9.5367431640625e-07\n",
      "\u001b[36m(launch_and_fit pid=9683)\u001b[0m network.16.weight 9.5367431640625e-07\n",
      "\u001b[36m(launch_and_fit pid=9683)\u001b[0m network.16.bias 1.430511474609375e-06\n",
      "\u001b[36m(launch_and_fit pid=9683)\u001b[0m network.18.weight 9.5367431640625e-07\n",
      "\u001b[36m(launch_and_fit pid=9683)\u001b[0m network.18.bias 9.5367431640625e-07\n",
      "\u001b[36m(launch_and_fit pid=9683)\u001b[0m network.20.weight 1.430511474609375e-06\n",
      "\u001b[36m(launch_and_fit pid=9683)\u001b[0m network.20.bias 9.5367431640625e-07\n",
      "\u001b[36m(launch_and_fit pid=9683)\u001b[0m qnn.weights 1.1920928955078125e-06\n",
      "\u001b[36m(launch_and_fit pid=9683)\u001b[0m fc4.weight 1.430511474609375e-06\n",
      "\u001b[36m(launch_and_fit pid=9683)\u001b[0m fc4.bias 9.5367431640625e-07\n",
      "\u001b[36m(launch_and_fit pid=9766)\u001b[0m Run with homomorphic encryption\n",
      "\u001b[36m(launch_and_fit pid=9708)\u001b[0m save graph in  results/FL/\n",
      "\u001b[36m(launch_and_fit pid=9708)\u001b[0m \tTrain Epoch: 10 \tTrain_loss: 0.2652 | Train_acc: 97.2266 % | Validation_loss: 1.2857 | Validation_acc: 61.1059 %\n",
      "\u001b[36m(launch_and_fit pid=9708)\u001b[0m fc4.bias 1.1920928955078125e-06\u001b[32m [repeated 20x across cluster]\u001b[0m\n",
      "\u001b[36m(launch_and_fit pid=9708)\u001b[0m qnn.weights 9.5367431640625e-07\n",
      "\u001b[36m(launch_and_fit pid=9766)\u001b[0m [Client 1, round 12] fit, config: {'learning_rate': 0.001, 'batch_size': '128', 'server_round': 12, 'local_epochs': 10}\n"
     ]
    },
    {
     "name": "stderr",
     "output_type": "stream",
     "text": [
      "  0%|\u001b[34m          \u001b[0m| 0/10 [00:00<?, ?it/s]\n",
      "100%|\u001b[34m██████████\u001b[0m| 10/10 [01:00<00:00,  6.03s/it]\n"
     ]
    },
    {
     "name": "stdout",
     "output_type": "stream",
     "text": [
      "\u001b[36m(launch_and_fit pid=9766)\u001b[0m Updated model\n",
      "\u001b[36m(launch_and_fit pid=9790)\u001b[0m Run with homomorphic encryption\n",
      "\u001b[36m(launch_and_fit pid=9790)\u001b[0m [Client 7, round 12] fit, config: {'learning_rate': 0.001, 'batch_size': '128', 'server_round': 12, 'local_epochs': 10}\n"
     ]
    },
    {
     "name": "stderr",
     "output_type": "stream",
     "text": [
      " 10%|\u001b[34m█         \u001b[0m| 1/10 [00:06<01:00,  6.77s/it]\n",
      "  0%|\u001b[34m          \u001b[0m| 0/10 [00:00<?, ?it/s]\n"
     ]
    },
    {
     "name": "stdout",
     "output_type": "stream",
     "text": [
      "\u001b[36m(launch_and_fit pid=9766)\u001b[0m \tTrain Epoch: 1 \tTrain_loss: 0.9816 | Train_acc: 68.2465 % | Validation_loss: 1.3171 | Validation_acc: 60.2842 %\n",
      "\u001b[36m(launch_and_fit pid=9790)\u001b[0m Updated model\n"
     ]
    },
    {
     "name": "stderr",
     "output_type": "stream",
     "text": [
      " 20%|\u001b[34m██        \u001b[0m| 2/10 [00:12<00:50,  6.36s/it]\u001b[32m [repeated 2x across cluster]\u001b[0m\n"
     ]
    },
    {
     "name": "stdout",
     "output_type": "stream",
     "text": [
      "\u001b[36m(launch_and_fit pid=9766)\u001b[0m \tTrain Epoch: 2 \tTrain_loss: 0.7389 | Train_acc: 76.5625 % | Validation_loss: 1.2610 | Validation_acc: 61.4763 %\u001b[32m [repeated 2x across cluster]\u001b[0m\n"
     ]
    },
    {
     "name": "stderr",
     "output_type": "stream",
     "text": [
      " 30%|\u001b[34m███       \u001b[0m| 3/10 [00:18<00:43,  6.20s/it]\u001b[32m [repeated 2x across cluster]\u001b[0m\n"
     ]
    },
    {
     "name": "stdout",
     "output_type": "stream",
     "text": [
      "\u001b[36m(launch_and_fit pid=9766)\u001b[0m \tTrain Epoch: 3 \tTrain_loss: 0.5997 | Train_acc: 81.2587 % | Validation_loss: 1.2882 | Validation_acc: 59.9677 %\u001b[32m [repeated 2x across cluster]\u001b[0m\n"
     ]
    },
    {
     "name": "stderr",
     "output_type": "stream",
     "text": [
      " 40%|\u001b[34m████      \u001b[0m| 4/10 [00:24<00:36,  6.03s/it]\u001b[32m [repeated 2x across cluster]\u001b[0m\n"
     ]
    },
    {
     "name": "stdout",
     "output_type": "stream",
     "text": [
      "\u001b[36m(launch_and_fit pid=9766)\u001b[0m \tTrain Epoch: 4 \tTrain_loss: 0.4957 | Train_acc: 86.2326 % | Validation_loss: 1.3226 | Validation_acc: 60.7152 %\u001b[32m [repeated 2x across cluster]\u001b[0m\n"
     ]
    },
    {
     "name": "stderr",
     "output_type": "stream",
     "text": [
      " 50%|\u001b[34m█████     \u001b[0m| 5/10 [00:30<00:29,  6.00s/it]\u001b[32m [repeated 2x across cluster]\u001b[0m\n"
     ]
    },
    {
     "name": "stdout",
     "output_type": "stream",
     "text": [
      "\u001b[36m(launch_and_fit pid=9766)\u001b[0m \tTrain Epoch: 5 \tTrain_loss: 0.4381 | Train_acc: 88.4549 % | Validation_loss: 1.2977 | Validation_acc: 59.8330 %\u001b[32m [repeated 2x across cluster]\u001b[0m\n"
     ]
    },
    {
     "name": "stderr",
     "output_type": "stream",
     "text": [
      " 60%|\u001b[34m██████    \u001b[0m| 6/10 [00:36<00:24,  6.07s/it]\u001b[32m [repeated 2x across cluster]\u001b[0m\n"
     ]
    },
    {
     "name": "stdout",
     "output_type": "stream",
     "text": [
      "\u001b[36m(launch_and_fit pid=9766)\u001b[0m \tTrain Epoch: 6 \tTrain_loss: 0.4050 | Train_acc: 90.4991 % | Validation_loss: 1.2806 | Validation_acc: 59.2066 %\u001b[32m [repeated 2x across cluster]\u001b[0m\n"
     ]
    },
    {
     "name": "stderr",
     "output_type": "stream",
     "text": [
      " 70%|\u001b[34m███████   \u001b[0m| 7/10 [00:42<00:18,  6.04s/it]\u001b[32m [repeated 2x across cluster]\u001b[0m\n"
     ]
    },
    {
     "name": "stdout",
     "output_type": "stream",
     "text": [
      "\u001b[36m(launch_and_fit pid=9766)\u001b[0m \tTrain Epoch: 7 \tTrain_loss: 0.3660 | Train_acc: 93.0903 % | Validation_loss: 1.3817 | Validation_acc: 59.5030 %\u001b[32m [repeated 2x across cluster]\u001b[0m\n"
     ]
    },
    {
     "name": "stderr",
     "output_type": "stream",
     "text": [
      " 80%|\u001b[34m████████  \u001b[0m| 8/10 [00:48<00:11,  5.98s/it]\u001b[32m [repeated 2x across cluster]\u001b[0m\n"
     ]
    },
    {
     "name": "stdout",
     "output_type": "stream",
     "text": [
      "\u001b[36m(launch_and_fit pid=9766)\u001b[0m \tTrain Epoch: 8 \tTrain_loss: 0.4463 | Train_acc: 89.3186 % | Validation_loss: 1.3498 | Validation_acc: 58.6409 %\u001b[32m [repeated 2x across cluster]\u001b[0m\n"
     ]
    },
    {
     "name": "stderr",
     "output_type": "stream",
     "text": [
      " 90%|\u001b[34m█████████ \u001b[0m| 9/10 [00:54<00:05,  5.94s/it]\u001b[32m [repeated 2x across cluster]\u001b[0m\n"
     ]
    },
    {
     "name": "stdout",
     "output_type": "stream",
     "text": [
      "\u001b[36m(launch_and_fit pid=9766)\u001b[0m \tTrain Epoch: 9 \tTrain_loss: 0.3471 | Train_acc: 93.8064 % | Validation_loss: 1.3174 | Validation_acc: 60.2034 %\u001b[32m [repeated 2x across cluster]\u001b[0m\n"
     ]
    },
    {
     "name": "stderr",
     "output_type": "stream",
     "text": [
      "100%|\u001b[34m██████████\u001b[0m| 10/10 [01:00<00:00,  6.03s/it]\u001b[32m [repeated 2x across cluster]\u001b[0m\n"
     ]
    },
    {
     "name": "stdout",
     "output_type": "stream",
     "text": [
      "\u001b[36m(launch_and_fit pid=9766)\u001b[0m save graph in  results/FL/\n",
      "\u001b[36m(launch_and_fit pid=9766)\u001b[0m \tTrain Epoch: 10 \tTrain_loss: 0.2891 | Train_acc: 95.9201 % | Validation_loss: 1.2893 | Validation_acc: 61.0655 %\u001b[32m [repeated 2x across cluster]\u001b[0m\n",
      "\u001b[36m(launch_and_fit pid=9766)\u001b[0m network.0.weight 5.0067901611328125e-06\n",
      "\u001b[36m(launch_and_fit pid=9766)\u001b[0m network.0.bias 1.430511474609375e-06\n",
      "\u001b[36m(launch_and_fit pid=9766)\u001b[0m network.2.weight 1.430511474609375e-06\n",
      "\u001b[36m(launch_and_fit pid=9766)\u001b[0m network.2.bias 1.1920928955078125e-06\n",
      "\u001b[36m(launch_and_fit pid=9766)\u001b[0m network.5.weight 1.1920928955078125e-06\n",
      "\u001b[36m(launch_and_fit pid=9766)\u001b[0m network.5.bias 1.430511474609375e-06\n",
      "\u001b[36m(launch_and_fit pid=9766)\u001b[0m network.7.weight 9.5367431640625e-07\n",
      "\u001b[36m(launch_and_fit pid=9766)\u001b[0m network.7.bias 1.430511474609375e-06\n",
      "\u001b[36m(launch_and_fit pid=9766)\u001b[0m network.10.weight 1.1920928955078125e-06\n",
      "\u001b[36m(launch_and_fit pid=9766)\u001b[0m network.10.bias 9.5367431640625e-07\n",
      "\u001b[36m(launch_and_fit pid=9766)\u001b[0m network.12.weight 1.430511474609375e-06\n",
      "\u001b[36m(launch_and_fit pid=9766)\u001b[0m network.12.bias 1.1920928955078125e-06\n",
      "\u001b[36m(launch_and_fit pid=9766)\u001b[0m network.16.weight 1.430511474609375e-06\n",
      "\u001b[36m(launch_and_fit pid=9766)\u001b[0m network.16.bias 9.5367431640625e-07\n",
      "\u001b[36m(launch_and_fit pid=9766)\u001b[0m network.18.weight 9.5367431640625e-07\n",
      "\u001b[36m(launch_and_fit pid=9766)\u001b[0m network.18.bias 1.430511474609375e-06\n",
      "\u001b[36m(launch_and_fit pid=9766)\u001b[0m network.20.weight 1.1920928955078125e-06\n",
      "\u001b[36m(launch_and_fit pid=9766)\u001b[0m network.20.bias 9.5367431640625e-07\n",
      "\u001b[36m(launch_and_fit pid=9766)\u001b[0m qnn.weights 9.5367431640625e-07\n",
      "\u001b[36m(launch_and_fit pid=9766)\u001b[0m fc4.weight 1.430511474609375e-06\n",
      "\u001b[36m(launch_and_fit pid=9766)\u001b[0m fc4.bias 9.5367431640625e-07\n"
     ]
    },
    {
     "name": "stderr",
     "output_type": "stream",
     "text": [
      "DEBUG flwr 2024-07-20 19:55:36,196 | server.py:236 | fit_round 12 received 10 results and 0 failures\n"
     ]
    },
    {
     "name": "stdout",
     "output_type": "stream",
     "text": [
      "Saving round 12 aggregated_parameters...\n"
     ]
    },
    {
     "name": "stderr",
     "output_type": "stream",
     "text": [
      "DEBUG flwr 2024-07-20 19:55:37,116 | server.py:173 | evaluate_round 12: strategy sampled 10 clients (out of 10)\n"
     ]
    },
    {
     "name": "stdout",
     "output_type": "stream",
     "text": [
      "\u001b[36m(launch_and_evaluate pid=9856)\u001b[0m Run with homomorphic encryption\n",
      "\u001b[36m(launch_and_fit pid=9790)\u001b[0m save graph in  results/FL/\n",
      "\u001b[36m(launch_and_fit pid=9790)\u001b[0m \tTrain Epoch: 10 \tTrain_loss: 0.2451 | Train_acc: 97.9384 % | Validation_loss: 1.1281 | Validation_acc: 64.8168 %\n",
      "\u001b[36m(launch_and_fit pid=9790)\u001b[0m fc4.bias 9.5367431640625e-07\u001b[32m [repeated 20x across cluster]\u001b[0m\n",
      "\u001b[36m(launch_and_fit pid=9790)\u001b[0m qnn.weights 1.1920928955078125e-06\n",
      "\u001b[36m(launch_and_evaluate pid=9856)\u001b[0m [Client 8] evaluate, config: {}\n",
      "\u001b[36m(launch_and_evaluate pid=9856)\u001b[0m Updated model\n",
      "\u001b[36m(launch_and_evaluate pid=9935)\u001b[0m Run with homomorphic encryption\u001b[32m [repeated 2x across cluster]\u001b[0m\n",
      "\u001b[36m(launch_and_evaluate pid=9857)\u001b[0m [Client 5] evaluate, config: {}\n",
      "\u001b[36m(launch_and_evaluate pid=9857)\u001b[0m Updated model\n",
      "\u001b[36m(launch_and_evaluate pid=9935)\u001b[0m [Client 2] evaluate, config: {}\n",
      "\u001b[36m(launch_and_evaluate pid=9935)\u001b[0m Updated model\n",
      "\u001b[36m(launch_and_evaluate pid=10013)\u001b[0m Run with homomorphic encryption\u001b[32m [repeated 2x across cluster]\u001b[0m\n",
      "\u001b[36m(launch_and_evaluate pid=9937)\u001b[0m [Client 4] evaluate, config: {}\n",
      "\u001b[36m(launch_and_evaluate pid=9937)\u001b[0m Updated model\n",
      "\u001b[36m(launch_and_evaluate pid=10013)\u001b[0m [Client 6] evaluate, config: {}\n",
      "\u001b[36m(launch_and_evaluate pid=10013)\u001b[0m Updated model\n",
      "\u001b[36m(launch_and_evaluate pid=10091)\u001b[0m Run with homomorphic encryption\u001b[32m [repeated 2x across cluster]\u001b[0m\n",
      "\u001b[36m(launch_and_evaluate pid=10038)\u001b[0m [Client 9] evaluate, config: {}\n",
      "\u001b[36m(launch_and_evaluate pid=10038)\u001b[0m Updated model\n",
      "\u001b[36m(launch_and_evaluate pid=10091)\u001b[0m [Client 0] evaluate, config: {}\n",
      "\u001b[36m(launch_and_evaluate pid=10091)\u001b[0m Updated model\n",
      "\u001b[36m(launch_and_evaluate pid=10171)\u001b[0m Run with homomorphic encryption\u001b[32m [repeated 2x across cluster]\u001b[0m\n",
      "\u001b[36m(launch_and_evaluate pid=10116)\u001b[0m [Client 1] evaluate, config: {}\n",
      "\u001b[36m(launch_and_evaluate pid=10116)\u001b[0m Updated model\n",
      "\u001b[36m(launch_and_evaluate pid=10171)\u001b[0m [Client 7] evaluate, config: {}\n",
      "\u001b[36m(launch_and_evaluate pid=10171)\u001b[0m Updated model\n"
     ]
    },
    {
     "name": "stderr",
     "output_type": "stream",
     "text": [
      "DEBUG flwr 2024-07-20 19:57:05,870 | server.py:187 | evaluate_round 12 received 10 results and 0 failures\n",
      "DEBUG flwr 2024-07-20 19:57:05,872 | server.py:222 | fit_round 13: strategy sampled 10 clients (out of 10)\n"
     ]
    },
    {
     "name": "stdout",
     "output_type": "stream",
     "text": [
      "\u001b[36m(launch_and_fit pid=10256)\u001b[0m Run with homomorphic encryption\u001b[32m [repeated 2x across cluster]\u001b[0m\n",
      "\u001b[36m(launch_and_evaluate pid=10169)\u001b[0m [Client 3] evaluate, config: {}\n",
      "\u001b[36m(launch_and_evaluate pid=10169)\u001b[0m Updated model\n",
      "\u001b[36m(launch_and_fit pid=10256)\u001b[0m [Client 5, round 13] fit, config: {'learning_rate': 0.001, 'batch_size': '128', 'server_round': 13, 'local_epochs': 10}\n",
      "\u001b[36m(launch_and_fit pid=10257)\u001b[0m Updated model\n"
     ]
    },
    {
     "name": "stderr",
     "output_type": "stream",
     "text": [
      "  0%|\u001b[34m          \u001b[0m| 0/10 [00:00<?, ?it/s]\n",
      "100%|\u001b[34m██████████\u001b[0m| 10/10 [00:58<00:00,  5.87s/it]\n"
     ]
    },
    {
     "name": "stdout",
     "output_type": "stream",
     "text": [
      "\u001b[36m(launch_and_fit pid=10257)\u001b[0m \tTrain Epoch: 1 \tTrain_loss: 0.9451 | Train_acc: 69.8611 % | Validation_loss: 1.0728 | Validation_acc: 65.7395 %\n",
      "\u001b[36m(launch_and_fit pid=10257)\u001b[0m Run with homomorphic encryption\n",
      "\u001b[36m(launch_and_fit pid=10257)\u001b[0m [Client 0, round 13] fit, config: {'learning_rate': 0.001, 'batch_size': '128', 'server_round': 13, 'local_epochs': 10}\n",
      "\u001b[36m(launch_and_fit pid=10256)\u001b[0m Updated model\n"
     ]
    },
    {
     "name": "stderr",
     "output_type": "stream",
     "text": [
      " 10%|\u001b[34m█         \u001b[0m| 1/10 [00:06<00:56,  6.31s/it]\n",
      "  0%|\u001b[34m          \u001b[0m| 0/10 [00:00<?, ?it/s]\n"
     ]
    },
    {
     "name": "stdout",
     "output_type": "stream",
     "text": [
      "\u001b[36m(launch_and_fit pid=10257)\u001b[0m \tTrain Epoch: 2 \tTrain_loss: 0.6302 | Train_acc: 81.5191 % | Validation_loss: 1.1363 | Validation_acc: 64.1164 %\u001b[32m [repeated 2x across cluster]\u001b[0m\n"
     ]
    },
    {
     "name": "stderr",
     "output_type": "stream",
     "text": [
      " 20%|\u001b[34m██        \u001b[0m| 2/10 [00:12<00:48,  6.10s/it]\u001b[32m [repeated 2x across cluster]\u001b[0m\n",
      " 30%|\u001b[34m███       \u001b[0m| 3/10 [00:18<00:42,  6.11s/it]\u001b[32m [repeated 2x across cluster]\u001b[0m\n"
     ]
    },
    {
     "name": "stdout",
     "output_type": "stream",
     "text": [
      "\u001b[36m(launch_and_fit pid=10256)\u001b[0m \tTrain Epoch: 3 \tTrain_loss: 0.5200 | Train_acc: 85.7335 % | Validation_loss: 1.1769 | Validation_acc: 65.1468 %\u001b[32m [repeated 2x across cluster]\u001b[0m\n"
     ]
    },
    {
     "name": "stderr",
     "output_type": "stream",
     "text": [
      " 40%|\u001b[34m████      \u001b[0m| 4/10 [00:24<00:35,  5.97s/it]\u001b[32m [repeated 2x across cluster]\u001b[0m\n"
     ]
    },
    {
     "name": "stdout",
     "output_type": "stream",
     "text": [
      "\u001b[36m(launch_and_fit pid=10256)\u001b[0m \tTrain Epoch: 4 \tTrain_loss: 0.4087 | Train_acc: 90.2691 % | Validation_loss: 1.1766 | Validation_acc: 65.6385 %\u001b[32m [repeated 2x across cluster]\u001b[0m\n",
      "\u001b[36m(launch_and_fit pid=10257)\u001b[0m \tTrain Epoch: 5 \tTrain_loss: 0.3367 | Train_acc: 93.3160 % | Validation_loss: 1.1760 | Validation_acc: 64.7023 %\u001b[32m [repeated 2x across cluster]\u001b[0m\n"
     ]
    },
    {
     "name": "stderr",
     "output_type": "stream",
     "text": [
      " 50%|\u001b[34m█████     \u001b[0m| 5/10 [00:29<00:29,  5.87s/it]\u001b[32m [repeated 2x across cluster]\u001b[0m\n"
     ]
    },
    {
     "name": "stdout",
     "output_type": "stream",
     "text": [
      "\u001b[36m(launch_and_fit pid=10257)\u001b[0m \tTrain Epoch: 6 \tTrain_loss: 0.2763 | Train_acc: 95.6163 % | Validation_loss: 1.1372 | Validation_acc: 65.8742 %\u001b[32m [repeated 2x across cluster]\u001b[0m\n"
     ]
    },
    {
     "name": "stderr",
     "output_type": "stream",
     "text": [
      " 60%|\u001b[34m██████    \u001b[0m| 6/10 [00:35<00:23,  5.83s/it]\u001b[32m [repeated 2x across cluster]\u001b[0m\n"
     ]
    },
    {
     "name": "stdout",
     "output_type": "stream",
     "text": [
      "\u001b[36m(launch_and_fit pid=10257)\u001b[0m \tTrain Epoch: 7 \tTrain_loss: 0.2336 | Train_acc: 97.3351 % | Validation_loss: 1.1351 | Validation_acc: 65.9752 %\u001b[32m [repeated 2x across cluster]\u001b[0m\n"
     ]
    },
    {
     "name": "stderr",
     "output_type": "stream",
     "text": [
      " 70%|\u001b[34m███████   \u001b[0m| 7/10 [00:41<00:17,  5.79s/it]\u001b[32m [repeated 2x across cluster]\u001b[0m\n"
     ]
    },
    {
     "name": "stdout",
     "output_type": "stream",
     "text": [
      "\u001b[36m(launch_and_fit pid=10257)\u001b[0m \tTrain Epoch: 8 \tTrain_loss: 0.2134 | Train_acc: 98.0903 % | Validation_loss: 1.1539 | Validation_acc: 65.5038 %\u001b[32m [repeated 2x across cluster]\u001b[0m\n"
     ]
    },
    {
     "name": "stderr",
     "output_type": "stream",
     "text": [
      " 80%|\u001b[34m████████  \u001b[0m| 8/10 [00:46<00:11,  5.73s/it]\u001b[32m [repeated 2x across cluster]\u001b[0m\n"
     ]
    },
    {
     "name": "stdout",
     "output_type": "stream",
     "text": [
      "\u001b[36m(launch_and_fit pid=10257)\u001b[0m \tTrain Epoch: 9 \tTrain_loss: 0.1832 | Train_acc: 98.5677 % | Validation_loss: 1.1412 | Validation_acc: 65.3287 %\u001b[32m [repeated 2x across cluster]\u001b[0m\n"
     ]
    },
    {
     "name": "stderr",
     "output_type": "stream",
     "text": [
      " 90%|\u001b[34m█████████ \u001b[0m| 9/10 [00:52<00:05,  5.77s/it]\u001b[32m [repeated 2x across cluster]\u001b[0m\n"
     ]
    },
    {
     "name": "stdout",
     "output_type": "stream",
     "text": [
      "\u001b[36m(launch_and_fit pid=10257)\u001b[0m save graph in  results/FL/\n",
      "\u001b[36m(launch_and_fit pid=10257)\u001b[0m \tTrain Epoch: 10 \tTrain_loss: 0.1602 | Train_acc: 98.9583 % | Validation_loss: 1.1271 | Validation_acc: 65.7597 %\u001b[32m [repeated 2x across cluster]\u001b[0m\n"
     ]
    },
    {
     "name": "stderr",
     "output_type": "stream",
     "text": [
      "100%|\u001b[34m██████████\u001b[0m| 10/10 [00:58<00:00,  5.86s/it]\u001b[32m [repeated 2x across cluster]\u001b[0m\n"
     ]
    },
    {
     "name": "stdout",
     "output_type": "stream",
     "text": [
      "\u001b[36m(launch_and_fit pid=10257)\u001b[0m network.0.weight 5.245208740234375e-06\n",
      "\u001b[36m(launch_and_fit pid=10257)\u001b[0m network.0.bias 1.1920928955078125e-06\n",
      "\u001b[36m(launch_and_fit pid=10257)\u001b[0m network.2.weight 9.5367431640625e-07\n",
      "\u001b[36m(launch_and_fit pid=10257)\u001b[0m network.2.bias 9.5367431640625e-07\n",
      "\u001b[36m(launch_and_fit pid=10257)\u001b[0m network.5.weight 9.5367431640625e-07\n",
      "\u001b[36m(launch_and_fit pid=10257)\u001b[0m network.5.bias 1.1920928955078125e-06\n",
      "\u001b[36m(launch_and_fit pid=10257)\u001b[0m network.7.weight 9.5367431640625e-07\n",
      "\u001b[36m(launch_and_fit pid=10257)\u001b[0m network.7.bias 9.5367431640625e-07\n",
      "\u001b[36m(launch_and_fit pid=10257)\u001b[0m network.10.weight 1.430511474609375e-06\n",
      "\u001b[36m(launch_and_fit pid=10257)\u001b[0m network.10.bias 1.1920928955078125e-06\n",
      "\u001b[36m(launch_and_fit pid=10257)\u001b[0m network.12.weight 1.1920928955078125e-06\n",
      "\u001b[36m(launch_and_fit pid=10257)\u001b[0m network.12.bias 9.5367431640625e-07\n",
      "\u001b[36m(launch_and_fit pid=10257)\u001b[0m network.16.weight 1.1920928955078125e-06\n",
      "\u001b[36m(launch_and_fit pid=10257)\u001b[0m network.16.bias 9.5367431640625e-07\n",
      "\u001b[36m(launch_and_fit pid=10257)\u001b[0m network.18.weight 9.5367431640625e-07\n",
      "\u001b[36m(launch_and_fit pid=10257)\u001b[0m network.18.bias 1.1920928955078125e-06\n",
      "\u001b[36m(launch_and_fit pid=10257)\u001b[0m network.20.weight 1.1920928955078125e-06\n",
      "\u001b[36m(launch_and_fit pid=10257)\u001b[0m network.20.bias 1.430511474609375e-06\n",
      "\u001b[36m(launch_and_fit pid=10257)\u001b[0m qnn.weights 1.430511474609375e-06\n",
      "\u001b[36m(launch_and_fit pid=10257)\u001b[0m fc4.weight 1.1920928955078125e-06\n",
      "\u001b[36m(launch_and_fit pid=10257)\u001b[0m fc4.bias 1.1920928955078125e-06\n",
      "\u001b[36m(launch_and_fit pid=10338)\u001b[0m Run with homomorphic encryption\n",
      "\u001b[36m(launch_and_fit pid=10256)\u001b[0m save graph in  results/FL/\n",
      "\u001b[36m(launch_and_fit pid=10256)\u001b[0m \tTrain Epoch: 10 \tTrain_loss: 0.1738 | Train_acc: 98.6111 % | Validation_loss: 1.1925 | Validation_acc: 67.2414 %\n",
      "\u001b[36m(launch_and_fit pid=10256)\u001b[0m fc4.bias 1.430511474609375e-06\u001b[32m [repeated 20x across cluster]\u001b[0m\n",
      "\u001b[36m(launch_and_fit pid=10256)\u001b[0m qnn.weights 1.9073486328125e-06\n",
      "\u001b[36m(launch_and_fit pid=10338)\u001b[0m [Client 9, round 13] fit, config: {'learning_rate': 0.001, 'batch_size': '128', 'server_round': 13, 'local_epochs': 10}\n",
      "\u001b[36m(launch_and_fit pid=10338)\u001b[0m Updated model\n"
     ]
    },
    {
     "name": "stderr",
     "output_type": "stream",
     "text": [
      "  0%|\u001b[34m          \u001b[0m| 0/10 [00:00<?, ?it/s]\n",
      "100%|\u001b[34m██████████\u001b[0m| 10/10 [00:59<00:00,  5.94s/it]\n"
     ]
    },
    {
     "name": "stdout",
     "output_type": "stream",
     "text": [
      "\u001b[36m(launch_and_fit pid=10338)\u001b[0m \tTrain Epoch: 1 \tTrain_loss: 0.9027 | Train_acc: 71.1632 % | Validation_loss: 1.2700 | Validation_acc: 60.9846 %\n",
      "\u001b[36m(launch_and_fit pid=10363)\u001b[0m Run with homomorphic encryption\n",
      "\u001b[36m(launch_and_fit pid=10363)\u001b[0m [Client 4, round 13] fit, config: {'learning_rate': 0.001, 'batch_size': '128', 'server_round': 13, 'local_epochs': 10}\n",
      "\u001b[36m(launch_and_fit pid=10363)\u001b[0m Updated model\n"
     ]
    },
    {
     "name": "stderr",
     "output_type": "stream",
     "text": [
      " 10%|\u001b[34m█         \u001b[0m| 1/10 [00:06<00:59,  6.60s/it]\n",
      "  0%|\u001b[34m          \u001b[0m| 0/10 [00:00<?, ?it/s]\n"
     ]
    },
    {
     "name": "stdout",
     "output_type": "stream",
     "text": [
      "\u001b[36m(launch_and_fit pid=10338)\u001b[0m \tTrain Epoch: 2 \tTrain_loss: 0.6279 | Train_acc: 81.1892 % | Validation_loss: 1.3121 | Validation_acc: 62.4124 %\u001b[32m [repeated 2x across cluster]\u001b[0m\n"
     ]
    },
    {
     "name": "stderr",
     "output_type": "stream",
     "text": [
      " 20%|\u001b[34m██        \u001b[0m| 2/10 [00:12<00:49,  6.16s/it]\u001b[32m [repeated 2x across cluster]\u001b[0m\n"
     ]
    },
    {
     "name": "stdout",
     "output_type": "stream",
     "text": [
      "\u001b[36m(launch_and_fit pid=10338)\u001b[0m \tTrain Epoch: 3 \tTrain_loss: 0.4681 | Train_acc: 87.7517 % | Validation_loss: 1.3422 | Validation_acc: 60.1630 %\u001b[32m [repeated 2x across cluster]\u001b[0m\n"
     ]
    },
    {
     "name": "stderr",
     "output_type": "stream",
     "text": [
      " 30%|\u001b[34m███       \u001b[0m| 3/10 [00:18<00:42,  6.06s/it]\u001b[32m [repeated 2x across cluster]\u001b[0m\n"
     ]
    },
    {
     "name": "stdout",
     "output_type": "stream",
     "text": [
      "\u001b[36m(launch_and_fit pid=10338)\u001b[0m \tTrain Epoch: 4 \tTrain_loss: 0.3807 | Train_acc: 91.7969 % | Validation_loss: 1.3836 | Validation_acc: 60.5334 %\u001b[32m [repeated 2x across cluster]\u001b[0m\n"
     ]
    },
    {
     "name": "stderr",
     "output_type": "stream",
     "text": [
      " 40%|\u001b[34m████      \u001b[0m| 4/10 [00:24<00:35,  5.93s/it]\u001b[32m [repeated 2x across cluster]\u001b[0m\n"
     ]
    },
    {
     "name": "stdout",
     "output_type": "stream",
     "text": [
      "\u001b[36m(launch_and_fit pid=10338)\u001b[0m \tTrain Epoch: 5 \tTrain_loss: 0.3168 | Train_acc: 94.1970 % | Validation_loss: 1.3963 | Validation_acc: 62.2912 %\u001b[32m [repeated 2x across cluster]\u001b[0m\n"
     ]
    },
    {
     "name": "stderr",
     "output_type": "stream",
     "text": [
      " 50%|\u001b[34m█████     \u001b[0m| 5/10 [00:29<00:29,  5.90s/it]\u001b[32m [repeated 2x across cluster]\u001b[0m\n"
     ]
    },
    {
     "name": "stdout",
     "output_type": "stream",
     "text": [
      "\u001b[36m(launch_and_fit pid=10338)\u001b[0m \tTrain Epoch: 6 \tTrain_loss: 0.2690 | Train_acc: 96.1285 % | Validation_loss: 1.2896 | Validation_acc: 63.1533 %\u001b[32m [repeated 2x across cluster]\u001b[0m\n"
     ]
    },
    {
     "name": "stderr",
     "output_type": "stream",
     "text": [
      " 60%|\u001b[34m██████    \u001b[0m| 6/10 [00:35<00:23,  5.91s/it]\u001b[32m [repeated 2x across cluster]\u001b[0m\n"
     ]
    },
    {
     "name": "stdout",
     "output_type": "stream",
     "text": [
      "\u001b[36m(launch_and_fit pid=10338)\u001b[0m \tTrain Epoch: 7 \tTrain_loss: 0.2236 | Train_acc: 97.7648 % | Validation_loss: 1.3236 | Validation_acc: 63.4294 %\u001b[32m [repeated 2x across cluster]\u001b[0m\n"
     ]
    },
    {
     "name": "stderr",
     "output_type": "stream",
     "text": [
      " 70%|\u001b[34m███████   \u001b[0m| 7/10 [00:42<00:17,  5.98s/it]\u001b[32m [repeated 2x across cluster]\u001b[0m\n"
     ]
    },
    {
     "name": "stdout",
     "output_type": "stream",
     "text": [
      "\u001b[36m(launch_and_fit pid=10338)\u001b[0m \tTrain Epoch: 8 \tTrain_loss: 0.2020 | Train_acc: 97.9731 % | Validation_loss: 1.3650 | Validation_acc: 61.8265 %\u001b[32m [repeated 2x across cluster]\u001b[0m\n"
     ]
    },
    {
     "name": "stderr",
     "output_type": "stream",
     "text": [
      " 80%|\u001b[34m████████  \u001b[0m| 8/10 [00:47<00:11,  5.95s/it]\u001b[32m [repeated 2x across cluster]\u001b[0m\n"
     ]
    },
    {
     "name": "stdout",
     "output_type": "stream",
     "text": [
      "\u001b[36m(launch_and_fit pid=10338)\u001b[0m \tTrain Epoch: 9 \tTrain_loss: 0.1742 | Train_acc: 98.6111 % | Validation_loss: 1.3707 | Validation_acc: 61.6312 %\u001b[32m [repeated 2x across cluster]\u001b[0m\n"
     ]
    },
    {
     "name": "stderr",
     "output_type": "stream",
     "text": [
      " 90%|\u001b[34m█████████ \u001b[0m| 9/10 [00:53<00:05,  5.89s/it]\u001b[32m [repeated 2x across cluster]\u001b[0m\n"
     ]
    },
    {
     "name": "stdout",
     "output_type": "stream",
     "text": [
      "\u001b[36m(launch_and_fit pid=10338)\u001b[0m save graph in  results/FL/\n",
      "\u001b[36m(launch_and_fit pid=10338)\u001b[0m \tTrain Epoch: 10 \tTrain_loss: 0.1550 | Train_acc: 99.1753 % | Validation_loss: 1.3562 | Validation_acc: 62.4124 %\u001b[32m [repeated 2x across cluster]\u001b[0m\n"
     ]
    },
    {
     "name": "stderr",
     "output_type": "stream",
     "text": [
      "100%|\u001b[34m██████████\u001b[0m| 10/10 [00:59<00:00,  5.97s/it]\u001b[32m [repeated 2x across cluster]\u001b[0m\n"
     ]
    },
    {
     "name": "stdout",
     "output_type": "stream",
     "text": [
      "\u001b[36m(launch_and_fit pid=10338)\u001b[0m network.0.weight 5.245208740234375e-06\n",
      "\u001b[36m(launch_and_fit pid=10338)\u001b[0m network.0.bias 2.86102294921875e-06\n",
      "\u001b[36m(launch_and_fit pid=10338)\u001b[0m network.2.weight 9.5367431640625e-07\n",
      "\u001b[36m(launch_and_fit pid=10338)\u001b[0m network.2.bias 1.1920928955078125e-06\n",
      "\u001b[36m(launch_and_fit pid=10338)\u001b[0m network.5.weight 1.1920928955078125e-06\n",
      "\u001b[36m(launch_and_fit pid=10338)\u001b[0m network.5.bias 9.5367431640625e-07\n",
      "\u001b[36m(launch_and_fit pid=10338)\u001b[0m network.7.weight 1.1920928955078125e-06\n",
      "\u001b[36m(launch_and_fit pid=10338)\u001b[0m network.7.bias 9.5367431640625e-07\n",
      "\u001b[36m(launch_and_fit pid=10338)\u001b[0m network.10.weight 1.1920928955078125e-06\n",
      "\u001b[36m(launch_and_fit pid=10338)\u001b[0m network.10.bias 1.1920928955078125e-06\n",
      "\u001b[36m(launch_and_fit pid=10338)\u001b[0m network.12.weight 1.430511474609375e-06\n",
      "\u001b[36m(launch_and_fit pid=10338)\u001b[0m network.12.bias 9.5367431640625e-07\n",
      "\u001b[36m(launch_and_fit pid=10338)\u001b[0m network.16.weight 9.5367431640625e-07\n",
      "\u001b[36m(launch_and_fit pid=10338)\u001b[0m network.16.bias 1.1920928955078125e-06\n",
      "\u001b[36m(launch_and_fit pid=10338)\u001b[0m network.18.weight 9.5367431640625e-07\n",
      "\u001b[36m(launch_and_fit pid=10338)\u001b[0m network.18.bias 9.5367431640625e-07\n",
      "\u001b[36m(launch_and_fit pid=10338)\u001b[0m network.20.weight 3.337860107421875e-06\n",
      "\u001b[36m(launch_and_fit pid=10338)\u001b[0m network.20.bias 1.9073486328125e-06\n",
      "\u001b[36m(launch_and_fit pid=10338)\u001b[0m qnn.weights 1.1920928955078125e-06\n",
      "\u001b[36m(launch_and_fit pid=10338)\u001b[0m fc4.weight 1.430511474609375e-06\n",
      "\u001b[36m(launch_and_fit pid=10338)\u001b[0m fc4.bias 1.1920928955078125e-06\n",
      "\u001b[36m(launch_and_fit pid=10421)\u001b[0m Run with homomorphic encryption\n",
      "\u001b[36m(launch_and_fit pid=10363)\u001b[0m save graph in  results/FL/\n",
      "\u001b[36m(launch_and_fit pid=10363)\u001b[0m \tTrain Epoch: 10 \tTrain_loss: 0.1946 | Train_acc: 98.2639 % | Validation_loss: 1.4053 | Validation_acc: 61.3753 %\n",
      "\u001b[36m(launch_and_fit pid=10363)\u001b[0m fc4.bias 1.1920928955078125e-06\u001b[32m [repeated 20x across cluster]\u001b[0m\n",
      "\u001b[36m(launch_and_fit pid=10363)\u001b[0m qnn.weights 1.430511474609375e-06\n",
      "\u001b[36m(launch_and_fit pid=10421)\u001b[0m [Client 6, round 13] fit, config: {'learning_rate': 0.001, 'batch_size': '128', 'server_round': 13, 'local_epochs': 10}\n",
      "\u001b[36m(launch_and_fit pid=10421)\u001b[0m Updated model\n"
     ]
    },
    {
     "name": "stderr",
     "output_type": "stream",
     "text": [
      "  0%|\u001b[34m          \u001b[0m| 0/10 [00:00<?, ?it/s]\n",
      "100%|\u001b[34m██████████\u001b[0m| 10/10 [00:59<00:00,  5.94s/it]\n"
     ]
    },
    {
     "name": "stdout",
     "output_type": "stream",
     "text": [
      "\u001b[36m(launch_and_fit pid=10421)\u001b[0m \tTrain Epoch: 1 \tTrain_loss: 0.9146 | Train_acc: 70.3602 % | Validation_loss: 1.3326 | Validation_acc: 59.3211 %\n",
      "\u001b[36m(launch_and_fit pid=10423)\u001b[0m Run with homomorphic encryption\n",
      "\u001b[36m(launch_and_fit pid=10423)\u001b[0m [Client 3, round 13] fit, config: {'learning_rate': 0.001, 'batch_size': '128', 'server_round': 13, 'local_epochs': 10}\n",
      "\u001b[36m(launch_and_fit pid=10423)\u001b[0m Updated model\n"
     ]
    },
    {
     "name": "stderr",
     "output_type": "stream",
     "text": [
      " 10%|\u001b[34m█         \u001b[0m| 1/10 [00:06<00:55,  6.21s/it]\n",
      "  0%|\u001b[34m          \u001b[0m| 0/10 [00:00<?, ?it/s]\n"
     ]
    },
    {
     "name": "stdout",
     "output_type": "stream",
     "text": [
      "\u001b[36m(launch_and_fit pid=10421)\u001b[0m \tTrain Epoch: 2 \tTrain_loss: 0.6669 | Train_acc: 79.4314 % | Validation_loss: 1.1483 | Validation_acc: 62.7627 %\u001b[32m [repeated 2x across cluster]\u001b[0m\n"
     ]
    },
    {
     "name": "stderr",
     "output_type": "stream",
     "text": [
      " 20%|\u001b[34m██        \u001b[0m| 2/10 [00:12<00:48,  6.01s/it]\u001b[32m [repeated 2x across cluster]\u001b[0m\n"
     ]
    },
    {
     "name": "stdout",
     "output_type": "stream",
     "text": [
      "\u001b[36m(launch_and_fit pid=10421)\u001b[0m \tTrain Epoch: 3 \tTrain_loss: 0.5059 | Train_acc: 85.1432 % | Validation_loss: 1.2016 | Validation_acc: 62.2373 %\u001b[32m [repeated 2x across cluster]\u001b[0m\n"
     ]
    },
    {
     "name": "stderr",
     "output_type": "stream",
     "text": [
      " 30%|\u001b[34m███       \u001b[0m| 3/10 [00:17<00:41,  5.87s/it]\u001b[32m [repeated 2x across cluster]\u001b[0m\n"
     ]
    },
    {
     "name": "stdout",
     "output_type": "stream",
     "text": [
      "\u001b[36m(launch_and_fit pid=10421)\u001b[0m \tTrain Epoch: 4 \tTrain_loss: 0.4019 | Train_acc: 90.4731 % | Validation_loss: 1.2326 | Validation_acc: 61.2406 %\u001b[32m [repeated 2x across cluster]\u001b[0m\n"
     ]
    },
    {
     "name": "stderr",
     "output_type": "stream",
     "text": [
      " 40%|\u001b[34m████      \u001b[0m| 4/10 [00:23<00:34,  5.78s/it]\u001b[32m [repeated 2x across cluster]\u001b[0m\n"
     ]
    },
    {
     "name": "stdout",
     "output_type": "stream",
     "text": [
      "\u001b[36m(launch_and_fit pid=10421)\u001b[0m \tTrain Epoch: 5 \tTrain_loss: 0.3314 | Train_acc: 93.5330 % | Validation_loss: 1.2523 | Validation_acc: 61.7255 %\u001b[32m [repeated 2x across cluster]\u001b[0m\n"
     ]
    },
    {
     "name": "stderr",
     "output_type": "stream",
     "text": [
      " 50%|\u001b[34m█████     \u001b[0m| 5/10 [00:29<00:29,  5.84s/it]\u001b[32m [repeated 2x across cluster]\u001b[0m\n"
     ]
    },
    {
     "name": "stdout",
     "output_type": "stream",
     "text": [
      "\u001b[36m(launch_and_fit pid=10421)\u001b[0m \tTrain Epoch: 6 \tTrain_loss: 0.3094 | Train_acc: 94.0148 % | Validation_loss: 1.2758 | Validation_acc: 63.5439 %\u001b[32m [repeated 2x across cluster]\u001b[0m\n"
     ]
    },
    {
     "name": "stderr",
     "output_type": "stream",
     "text": [
      " 60%|\u001b[34m██████    \u001b[0m| 6/10 [00:35<00:23,  5.85s/it]\u001b[32m [repeated 2x across cluster]\u001b[0m\n"
     ]
    },
    {
     "name": "stdout",
     "output_type": "stream",
     "text": [
      "\u001b[36m(launch_and_fit pid=10421)\u001b[0m \tTrain Epoch: 7 \tTrain_loss: 0.2561 | Train_acc: 96.6710 % | Validation_loss: 1.2852 | Validation_acc: 60.9442 %\u001b[32m [repeated 2x across cluster]\u001b[0m\n"
     ]
    },
    {
     "name": "stderr",
     "output_type": "stream",
     "text": [
      " 70%|\u001b[34m███████   \u001b[0m| 7/10 [00:40<00:17,  5.76s/it]\u001b[32m [repeated 2x across cluster]\u001b[0m\n"
     ]
    },
    {
     "name": "stdout",
     "output_type": "stream",
     "text": [
      "\u001b[36m(launch_and_fit pid=10421)\u001b[0m \tTrain Epoch: 8 \tTrain_loss: 0.2166 | Train_acc: 97.5608 % | Validation_loss: 1.2991 | Validation_acc: 61.2002 %\u001b[32m [repeated 2x across cluster]\u001b[0m\n"
     ]
    },
    {
     "name": "stderr",
     "output_type": "stream",
     "text": [
      " 80%|\u001b[34m████████  \u001b[0m| 8/10 [00:46<00:11,  5.76s/it]\u001b[32m [repeated 2x across cluster]\u001b[0m\n"
     ]
    },
    {
     "name": "stdout",
     "output_type": "stream",
     "text": [
      "\u001b[36m(launch_and_fit pid=10421)\u001b[0m \tTrain Epoch: 9 \tTrain_loss: 0.1846 | Train_acc: 98.5243 % | Validation_loss: 1.2598 | Validation_acc: 61.4359 %\u001b[32m [repeated 2x across cluster]\u001b[0m\n"
     ]
    },
    {
     "name": "stderr",
     "output_type": "stream",
     "text": [
      " 90%|\u001b[34m█████████ \u001b[0m| 9/10 [00:52<00:05,  5.77s/it]\u001b[32m [repeated 2x across cluster]\u001b[0m\n"
     ]
    },
    {
     "name": "stdout",
     "output_type": "stream",
     "text": [
      "\u001b[36m(launch_and_fit pid=10421)\u001b[0m save graph in  results/FL/\n",
      "\u001b[36m(launch_and_fit pid=10421)\u001b[0m \tTrain Epoch: 10 \tTrain_loss: 0.1633 | Train_acc: 98.7977 % | Validation_loss: 1.3062 | Validation_acc: 61.8467 %\u001b[32m [repeated 2x across cluster]\u001b[0m\n"
     ]
    },
    {
     "name": "stderr",
     "output_type": "stream",
     "text": [
      "100%|\u001b[34m██████████\u001b[0m| 10/10 [00:58<00:00,  5.86s/it]\u001b[32m [repeated 2x across cluster]\u001b[0m\n"
     ]
    },
    {
     "name": "stdout",
     "output_type": "stream",
     "text": [
      "\u001b[36m(launch_and_fit pid=10421)\u001b[0m network.0.weight 4.291534423828125e-06\n",
      "\u001b[36m(launch_and_fit pid=10421)\u001b[0m network.0.bias 1.1920928955078125e-06\n",
      "\u001b[36m(launch_and_fit pid=10421)\u001b[0m network.2.weight 9.5367431640625e-07\n",
      "\u001b[36m(launch_and_fit pid=10421)\u001b[0m network.2.bias 9.5367431640625e-07\n",
      "\u001b[36m(launch_and_fit pid=10421)\u001b[0m network.5.weight 9.5367431640625e-07\n",
      "\u001b[36m(launch_and_fit pid=10421)\u001b[0m network.5.bias 1.1920928955078125e-06\n",
      "\u001b[36m(launch_and_fit pid=10421)\u001b[0m network.7.weight 9.5367431640625e-07\n",
      "\u001b[36m(launch_and_fit pid=10421)\u001b[0m network.7.bias 9.5367431640625e-07\n",
      "\u001b[36m(launch_and_fit pid=10421)\u001b[0m network.10.weight 1.1920928955078125e-06\n",
      "\u001b[36m(launch_and_fit pid=10421)\u001b[0m network.10.bias 9.5367431640625e-07\n",
      "\u001b[36m(launch_and_fit pid=10421)\u001b[0m network.12.weight 9.5367431640625e-07\n",
      "\u001b[36m(launch_and_fit pid=10421)\u001b[0m network.12.bias 1.1920928955078125e-06\n",
      "\u001b[36m(launch_and_fit pid=10421)\u001b[0m network.16.weight 9.5367431640625e-07\n",
      "\u001b[36m(launch_and_fit pid=10421)\u001b[0m network.16.bias 1.1920928955078125e-06\n",
      "\u001b[36m(launch_and_fit pid=10421)\u001b[0m network.18.weight 1.1920928955078125e-06\n",
      "\u001b[36m(launch_and_fit pid=10421)\u001b[0m network.18.bias 7.152557373046875e-07\n",
      "\u001b[36m(launch_and_fit pid=10421)\u001b[0m network.20.weight 9.5367431640625e-07\n",
      "\u001b[36m(launch_and_fit pid=10421)\u001b[0m network.20.bias 9.5367431640625e-07\n",
      "\u001b[36m(launch_and_fit pid=10421)\u001b[0m qnn.weights 9.5367431640625e-07\n",
      "\u001b[36m(launch_and_fit pid=10421)\u001b[0m fc4.weight 1.1920928955078125e-06\n",
      "\u001b[36m(launch_and_fit pid=10421)\u001b[0m fc4.bias 9.5367431640625e-07\n",
      "\u001b[36m(launch_and_fit pid=10503)\u001b[0m Run with homomorphic encryption\n",
      "\u001b[36m(launch_and_fit pid=10423)\u001b[0m save graph in  results/FL/\n",
      "\u001b[36m(launch_and_fit pid=10423)\u001b[0m \tTrain Epoch: 10 \tTrain_loss: 0.1531 | Train_acc: 99.1319 % | Validation_loss: 1.2893 | Validation_acc: 61.3753 %\n",
      "\u001b[36m(launch_and_fit pid=10423)\u001b[0m fc4.bias 9.5367431640625e-07\u001b[32m [repeated 20x across cluster]\u001b[0m\n",
      "\u001b[36m(launch_and_fit pid=10423)\u001b[0m qnn.weights 9.5367431640625e-07\n",
      "\u001b[36m(launch_and_fit pid=10503)\u001b[0m [Client 8, round 13] fit, config: {'learning_rate': 0.001, 'batch_size': '128', 'server_round': 13, 'local_epochs': 10}\n"
     ]
    },
    {
     "name": "stderr",
     "output_type": "stream",
     "text": [
      "  0%|\u001b[34m          \u001b[0m| 0/10 [00:00<?, ?it/s]\n",
      "100%|\u001b[34m██████████\u001b[0m| 10/10 [00:59<00:00,  5.91s/it]\n"
     ]
    },
    {
     "name": "stdout",
     "output_type": "stream",
     "text": [
      "\u001b[36m(launch_and_fit pid=10503)\u001b[0m Updated model\n"
     ]
    },
    {
     "name": "stderr",
     "output_type": "stream",
     "text": [
      " 10%|\u001b[34m█         \u001b[0m| 1/10 [00:06<00:56,  6.27s/it]\n",
      "  0%|\u001b[34m          \u001b[0m| 0/10 [00:00<?, ?it/s]\n"
     ]
    },
    {
     "name": "stdout",
     "output_type": "stream",
     "text": [
      "\u001b[36m(launch_and_fit pid=10503)\u001b[0m \tTrain Epoch: 1 \tTrain_loss: 0.9360 | Train_acc: 70.3602 % | Validation_loss: 1.2706 | Validation_acc: 60.7355 %\n",
      "\u001b[36m(launch_and_fit pid=10528)\u001b[0m Run with homomorphic encryption\n",
      "\u001b[36m(launch_and_fit pid=10528)\u001b[0m [Client 7, round 13] fit, config: {'learning_rate': 0.001, 'batch_size': '128', 'server_round': 13, 'local_epochs': 10}\n",
      "\u001b[36m(launch_and_fit pid=10528)\u001b[0m Updated model\n"
     ]
    },
    {
     "name": "stderr",
     "output_type": "stream",
     "text": [
      " 20%|\u001b[34m██        \u001b[0m| 2/10 [00:12<00:48,  6.04s/it]\u001b[32m [repeated 2x across cluster]\u001b[0m\n"
     ]
    },
    {
     "name": "stdout",
     "output_type": "stream",
     "text": [
      "\u001b[36m(launch_and_fit pid=10503)\u001b[0m \tTrain Epoch: 2 \tTrain_loss: 0.6548 | Train_acc: 80.2474 % | Validation_loss: 1.3366 | Validation_acc: 56.1827 %\u001b[32m [repeated 2x across cluster]\u001b[0m\n"
     ]
    },
    {
     "name": "stderr",
     "output_type": "stream",
     "text": [
      " 30%|\u001b[34m███       \u001b[0m| 3/10 [00:18<00:42,  6.06s/it]\u001b[32m [repeated 2x across cluster]\u001b[0m\n"
     ]
    },
    {
     "name": "stdout",
     "output_type": "stream",
     "text": [
      "\u001b[36m(launch_and_fit pid=10503)\u001b[0m \tTrain Epoch: 3 \tTrain_loss: 0.5142 | Train_acc: 85.9375 % | Validation_loss: 1.2404 | Validation_acc: 59.3077 %\u001b[32m [repeated 2x across cluster]\u001b[0m\n"
     ]
    },
    {
     "name": "stderr",
     "output_type": "stream",
     "text": [
      " 40%|\u001b[34m████      \u001b[0m| 4/10 [00:23<00:35,  5.94s/it]\u001b[32m [repeated 2x across cluster]\u001b[0m\n"
     ]
    },
    {
     "name": "stdout",
     "output_type": "stream",
     "text": [
      "\u001b[36m(launch_and_fit pid=10503)\u001b[0m \tTrain Epoch: 4 \tTrain_loss: 0.4062 | Train_acc: 90.1302 % | Validation_loss: 1.2488 | Validation_acc: 60.7893 %\u001b[32m [repeated 2x across cluster]\u001b[0m\n"
     ]
    },
    {
     "name": "stderr",
     "output_type": "stream",
     "text": [
      " 50%|\u001b[34m█████     \u001b[0m| 5/10 [00:29<00:29,  5.89s/it]\u001b[32m [repeated 2x across cluster]\u001b[0m\n"
     ]
    },
    {
     "name": "stdout",
     "output_type": "stream",
     "text": [
      "\u001b[36m(launch_and_fit pid=10503)\u001b[0m \tTrain Epoch: 5 \tTrain_loss: 0.3337 | Train_acc: 93.4592 % | Validation_loss: 1.2490 | Validation_acc: 60.3246 %\u001b[32m [repeated 2x across cluster]\u001b[0m\n"
     ]
    },
    {
     "name": "stderr",
     "output_type": "stream",
     "text": [
      " 60%|\u001b[34m██████    \u001b[0m| 6/10 [00:35<00:23,  5.87s/it]\u001b[32m [repeated 2x across cluster]\u001b[0m\n"
     ]
    },
    {
     "name": "stdout",
     "output_type": "stream",
     "text": [
      "\u001b[36m(launch_and_fit pid=10503)\u001b[0m \tTrain Epoch: 6 \tTrain_loss: 0.2931 | Train_acc: 95.2083 % | Validation_loss: 1.2977 | Validation_acc: 61.0453 %\u001b[32m [repeated 2x across cluster]\u001b[0m\n"
     ]
    },
    {
     "name": "stderr",
     "output_type": "stream",
     "text": [
      " 70%|\u001b[34m███████   \u001b[0m| 7/10 [00:41<00:17,  5.89s/it]\u001b[32m [repeated 2x across cluster]\u001b[0m\n"
     ]
    },
    {
     "name": "stdout",
     "output_type": "stream",
     "text": [
      "\u001b[36m(launch_and_fit pid=10503)\u001b[0m \tTrain Epoch: 7 \tTrain_loss: 0.2620 | Train_acc: 96.5712 % | Validation_loss: 1.2662 | Validation_acc: 62.1430 %\u001b[32m [repeated 2x across cluster]\u001b[0m\n"
     ]
    },
    {
     "name": "stderr",
     "output_type": "stream",
     "text": [
      " 80%|\u001b[34m████████  \u001b[0m| 8/10 [00:47<00:11,  5.97s/it]\u001b[32m [repeated 2x across cluster]\u001b[0m\n"
     ]
    },
    {
     "name": "stdout",
     "output_type": "stream",
     "text": [
      "\u001b[36m(launch_and_fit pid=10503)\u001b[0m \tTrain Epoch: 8 \tTrain_loss: 0.2235 | Train_acc: 97.4175 % | Validation_loss: 1.3217 | Validation_acc: 59.8734 %\u001b[32m [repeated 2x across cluster]\u001b[0m\n"
     ]
    },
    {
     "name": "stderr",
     "output_type": "stream",
     "text": [
      " 90%|\u001b[34m█████████ \u001b[0m| 9/10 [00:53<00:05,  5.94s/it]\u001b[32m [repeated 2x across cluster]\u001b[0m\n"
     ]
    },
    {
     "name": "stdout",
     "output_type": "stream",
     "text": [
      "\u001b[36m(launch_and_fit pid=10503)\u001b[0m \tTrain Epoch: 9 \tTrain_loss: 0.2002 | Train_acc: 98.0165 % | Validation_loss: 1.2568 | Validation_acc: 62.5741 %\u001b[32m [repeated 2x across cluster]\u001b[0m\n"
     ]
    },
    {
     "name": "stderr",
     "output_type": "stream",
     "text": [
      "100%|\u001b[34m██████████\u001b[0m| 10/10 [00:59<00:00,  5.93s/it]\u001b[32m [repeated 2x across cluster]\u001b[0m\n"
     ]
    },
    {
     "name": "stdout",
     "output_type": "stream",
     "text": [
      "\u001b[36m(launch_and_fit pid=10503)\u001b[0m save graph in  results/FL/\n",
      "\u001b[36m(launch_and_fit pid=10503)\u001b[0m \tTrain Epoch: 10 \tTrain_loss: 0.1731 | Train_acc: 98.5460 % | Validation_loss: 1.3045 | Validation_acc: 61.0857 %\u001b[32m [repeated 2x across cluster]\u001b[0m\n",
      "\u001b[36m(launch_and_fit pid=10503)\u001b[0m network.0.weight 5.7220458984375e-06\n",
      "\u001b[36m(launch_and_fit pid=10503)\u001b[0m network.0.bias 1.430511474609375e-06\n",
      "\u001b[36m(launch_and_fit pid=10503)\u001b[0m network.2.weight 1.1920928955078125e-06\n",
      "\u001b[36m(launch_and_fit pid=10503)\u001b[0m network.2.bias 9.5367431640625e-07\n",
      "\u001b[36m(launch_and_fit pid=10503)\u001b[0m network.5.weight 1.1920928955078125e-06\n",
      "\u001b[36m(launch_and_fit pid=10503)\u001b[0m network.5.bias 9.5367431640625e-07\n",
      "\u001b[36m(launch_and_fit pid=10503)\u001b[0m network.7.weight 9.5367431640625e-07\n",
      "\u001b[36m(launch_and_fit pid=10503)\u001b[0m network.7.bias 1.1920928955078125e-06\n",
      "\u001b[36m(launch_and_fit pid=10503)\u001b[0m network.10.weight 9.5367431640625e-07\n",
      "\u001b[36m(launch_and_fit pid=10503)\u001b[0m network.10.bias 9.5367431640625e-07\n",
      "\u001b[36m(launch_and_fit pid=10503)\u001b[0m network.12.weight 9.5367431640625e-07\n",
      "\u001b[36m(launch_and_fit pid=10503)\u001b[0m network.12.bias 9.5367431640625e-07\n",
      "\u001b[36m(launch_and_fit pid=10503)\u001b[0m network.16.weight 1.1920928955078125e-06\n",
      "\u001b[36m(launch_and_fit pid=10503)\u001b[0m network.16.bias 1.1920928955078125e-06\n",
      "\u001b[36m(launch_and_fit pid=10503)\u001b[0m network.18.weight 1.1920928955078125e-06\n",
      "\u001b[36m(launch_and_fit pid=10503)\u001b[0m network.18.bias 1.1920928955078125e-06\n",
      "\u001b[36m(launch_and_fit pid=10503)\u001b[0m network.20.weight 1.430511474609375e-06\n",
      "\u001b[36m(launch_and_fit pid=10503)\u001b[0m network.20.bias 9.5367431640625e-07\n",
      "\u001b[36m(launch_and_fit pid=10503)\u001b[0m qnn.weights 9.5367431640625e-07\n",
      "\u001b[36m(launch_and_fit pid=10503)\u001b[0m fc4.weight 1.430511474609375e-06\n",
      "\u001b[36m(launch_and_fit pid=10503)\u001b[0m fc4.bias 1.1920928955078125e-06\n",
      "\u001b[36m(launch_and_fit pid=10585)\u001b[0m Run with homomorphic encryption\n",
      "\u001b[36m(launch_and_fit pid=10528)\u001b[0m save graph in  results/FL/\n",
      "\u001b[36m(launch_and_fit pid=10528)\u001b[0m \tTrain Epoch: 10 \tTrain_loss: 0.1609 | Train_acc: 98.7109 % | Validation_loss: 1.2072 | Validation_acc: 63.2947 %\n",
      "\u001b[36m(launch_and_fit pid=10528)\u001b[0m fc4.bias 1.430511474609375e-06\u001b[32m [repeated 20x across cluster]\u001b[0m\n",
      "\u001b[36m(launch_and_fit pid=10528)\u001b[0m qnn.weights 1.430511474609375e-06\n",
      "\u001b[36m(launch_and_fit pid=10585)\u001b[0m [Client 2, round 13] fit, config: {'learning_rate': 0.001, 'batch_size': '128', 'server_round': 13, 'local_epochs': 10}\n"
     ]
    },
    {
     "name": "stderr",
     "output_type": "stream",
     "text": [
      "  0%|\u001b[34m          \u001b[0m| 0/10 [00:00<?, ?it/s]\n",
      "100%|\u001b[34m██████████\u001b[0m| 10/10 [00:58<00:00,  5.90s/it]\n"
     ]
    },
    {
     "name": "stdout",
     "output_type": "stream",
     "text": [
      "\u001b[36m(launch_and_fit pid=10585)\u001b[0m Updated model\n"
     ]
    },
    {
     "name": "stderr",
     "output_type": "stream",
     "text": [
      " 10%|\u001b[34m█         \u001b[0m| 1/10 [00:06<01:00,  6.73s/it]\n",
      "  0%|\u001b[34m          \u001b[0m| 0/10 [00:00<?, ?it/s]\n"
     ]
    },
    {
     "name": "stdout",
     "output_type": "stream",
     "text": [
      "\u001b[36m(launch_and_fit pid=10585)\u001b[0m \tTrain Epoch: 1 \tTrain_loss: 0.8823 | Train_acc: 71.6450 % | Validation_loss: 1.3543 | Validation_acc: 58.8362 %\n",
      "\u001b[36m(launch_and_fit pid=10610)\u001b[0m Run with homomorphic encryption\n",
      "\u001b[36m(launch_and_fit pid=10610)\u001b[0m [Client 1, round 13] fit, config: {'learning_rate': 0.001, 'batch_size': '128', 'server_round': 13, 'local_epochs': 10}\n",
      "\u001b[36m(launch_and_fit pid=10610)\u001b[0m Updated model\n"
     ]
    },
    {
     "name": "stderr",
     "output_type": "stream",
     "text": [
      " 20%|\u001b[34m██        \u001b[0m| 2/10 [00:12<00:48,  6.12s/it]\u001b[32m [repeated 2x across cluster]\u001b[0m\n"
     ]
    },
    {
     "name": "stdout",
     "output_type": "stream",
     "text": [
      "\u001b[36m(launch_and_fit pid=10585)\u001b[0m \tTrain Epoch: 2 \tTrain_loss: 0.6190 | Train_acc: 81.5278 % | Validation_loss: 1.4041 | Validation_acc: 58.4591 %\u001b[32m [repeated 2x across cluster]\u001b[0m\n"
     ]
    },
    {
     "name": "stderr",
     "output_type": "stream",
     "text": [
      " 30%|\u001b[34m███       \u001b[0m| 3/10 [00:18<00:42,  6.01s/it]\u001b[32m [repeated 2x across cluster]\u001b[0m\n"
     ]
    },
    {
     "name": "stdout",
     "output_type": "stream",
     "text": [
      "\u001b[36m(launch_and_fit pid=10585)\u001b[0m \tTrain Epoch: 3 \tTrain_loss: 0.4590 | Train_acc: 87.8733 % | Validation_loss: 1.3598 | Validation_acc: 58.3041 %\u001b[32m [repeated 2x across cluster]\u001b[0m\n"
     ]
    },
    {
     "name": "stderr",
     "output_type": "stream",
     "text": [
      " 40%|\u001b[34m████      \u001b[0m| 4/10 [00:23<00:35,  5.86s/it]\u001b[32m [repeated 2x across cluster]\u001b[0m\n"
     ]
    },
    {
     "name": "stdout",
     "output_type": "stream",
     "text": [
      "\u001b[36m(launch_and_fit pid=10585)\u001b[0m \tTrain Epoch: 4 \tTrain_loss: 0.3902 | Train_acc: 91.0851 % | Validation_loss: 1.2981 | Validation_acc: 62.1363 %\u001b[32m [repeated 2x across cluster]\u001b[0m\n"
     ]
    },
    {
     "name": "stderr",
     "output_type": "stream",
     "text": [
      " 50%|\u001b[34m█████     \u001b[0m| 5/10 [00:29<00:29,  5.84s/it]\u001b[32m [repeated 2x across cluster]\u001b[0m\n"
     ]
    },
    {
     "name": "stdout",
     "output_type": "stream",
     "text": [
      "\u001b[36m(launch_and_fit pid=10585)\u001b[0m \tTrain Epoch: 5 \tTrain_loss: 0.3316 | Train_acc: 93.4679 % | Validation_loss: 1.3919 | Validation_acc: 57.9943 %\u001b[32m [repeated 2x across cluster]\u001b[0m\n"
     ]
    },
    {
     "name": "stderr",
     "output_type": "stream",
     "text": [
      " 60%|\u001b[34m██████    \u001b[0m| 6/10 [00:35<00:23,  5.86s/it]\u001b[32m [repeated 2x across cluster]\u001b[0m\n"
     ]
    },
    {
     "name": "stdout",
     "output_type": "stream",
     "text": [
      "\u001b[36m(launch_and_fit pid=10585)\u001b[0m \tTrain Epoch: 6 \tTrain_loss: 0.2806 | Train_acc: 95.6076 % | Validation_loss: 1.3885 | Validation_acc: 59.3413 %\u001b[32m [repeated 2x across cluster]\u001b[0m\n"
     ]
    },
    {
     "name": "stderr",
     "output_type": "stream",
     "text": [
      " 70%|\u001b[34m███████   \u001b[0m| 7/10 [00:41<00:17,  5.98s/it]\u001b[32m [repeated 2x across cluster]\u001b[0m\n"
     ]
    },
    {
     "name": "stdout",
     "output_type": "stream",
     "text": [
      "\u001b[36m(launch_and_fit pid=10585)\u001b[0m \tTrain Epoch: 7 \tTrain_loss: 0.2412 | Train_acc: 97.0399 % | Validation_loss: 1.3962 | Validation_acc: 59.3615 %\u001b[32m [repeated 2x across cluster]\u001b[0m\n"
     ]
    },
    {
     "name": "stderr",
     "output_type": "stream",
     "text": [
      " 80%|\u001b[34m████████  \u001b[0m| 8/10 [00:47<00:12,  6.00s/it]\u001b[32m [repeated 2x across cluster]\u001b[0m\n"
     ]
    },
    {
     "name": "stdout",
     "output_type": "stream",
     "text": [
      "\u001b[36m(launch_and_fit pid=10585)\u001b[0m \tTrain Epoch: 8 \tTrain_loss: 0.2111 | Train_acc: 97.7995 % | Validation_loss: 1.4238 | Validation_acc: 59.7522 %\u001b[32m [repeated 2x across cluster]\u001b[0m\n"
     ]
    },
    {
     "name": "stderr",
     "output_type": "stream",
     "text": [
      " 90%|\u001b[34m█████████ \u001b[0m| 9/10 [00:53<00:05,  5.92s/it]\u001b[32m [repeated 2x across cluster]\u001b[0m\n"
     ]
    },
    {
     "name": "stdout",
     "output_type": "stream",
     "text": [
      "\u001b[36m(launch_and_fit pid=10585)\u001b[0m \tTrain Epoch: 9 \tTrain_loss: 0.1980 | Train_acc: 98.3290 % | Validation_loss: 1.4390 | Validation_acc: 59.5973 %\u001b[32m [repeated 2x across cluster]\u001b[0m\n"
     ]
    },
    {
     "name": "stderr",
     "output_type": "stream",
     "text": [
      "100%|\u001b[34m██████████\u001b[0m| 10/10 [00:59<00:00,  5.94s/it]\u001b[32m [repeated 2x across cluster]\u001b[0m\n"
     ]
    },
    {
     "name": "stdout",
     "output_type": "stream",
     "text": [
      "\u001b[36m(launch_and_fit pid=10585)\u001b[0m save graph in  results/FL/\n",
      "\u001b[36m(launch_and_fit pid=10585)\u001b[0m \tTrain Epoch: 10 \tTrain_loss: 0.1711 | Train_acc: 99.0234 % | Validation_loss: 1.4426 | Validation_acc: 60.6681 %\u001b[32m [repeated 2x across cluster]\u001b[0m\n",
      "\u001b[36m(launch_and_fit pid=10585)\u001b[0m network.0.weight 5.4836273193359375e-06\n",
      "\u001b[36m(launch_and_fit pid=10585)\u001b[0m network.0.bias 1.6689300537109375e-06\n",
      "\u001b[36m(launch_and_fit pid=10585)\u001b[0m network.2.weight 1.1920928955078125e-06\n",
      "\u001b[36m(launch_and_fit pid=10585)\u001b[0m network.2.bias 1.430511474609375e-06\n",
      "\u001b[36m(launch_and_fit pid=10585)\u001b[0m network.5.weight 1.1920928955078125e-06\n",
      "\u001b[36m(launch_and_fit pid=10585)\u001b[0m network.5.bias 9.5367431640625e-07\n",
      "\u001b[36m(launch_and_fit pid=10585)\u001b[0m network.7.weight 1.1920928955078125e-06\n",
      "\u001b[36m(launch_and_fit pid=10585)\u001b[0m network.7.bias 9.5367431640625e-07\n",
      "\u001b[36m(launch_and_fit pid=10585)\u001b[0m network.10.weight 1.430511474609375e-06\n",
      "\u001b[36m(launch_and_fit pid=10585)\u001b[0m network.10.bias 1.1920928955078125e-06\n",
      "\u001b[36m(launch_and_fit pid=10585)\u001b[0m network.12.weight 1.1920928955078125e-06\n",
      "\u001b[36m(launch_and_fit pid=10585)\u001b[0m network.12.bias 1.430511474609375e-06\n",
      "\u001b[36m(launch_and_fit pid=10585)\u001b[0m network.16.weight 9.5367431640625e-07\n",
      "\u001b[36m(launch_and_fit pid=10585)\u001b[0m network.16.bias 9.5367431640625e-07\n",
      "\u001b[36m(launch_and_fit pid=10585)\u001b[0m network.18.weight 9.5367431640625e-07\n",
      "\u001b[36m(launch_and_fit pid=10585)\u001b[0m network.18.bias 1.430511474609375e-06\n",
      "\u001b[36m(launch_and_fit pid=10585)\u001b[0m network.20.weight 1.1920928955078125e-06\n",
      "\u001b[36m(launch_and_fit pid=10585)\u001b[0m network.20.bias 9.5367431640625e-07\n",
      "\u001b[36m(launch_and_fit pid=10585)\u001b[0m qnn.weights 1.1920928955078125e-06\n",
      "\u001b[36m(launch_and_fit pid=10585)\u001b[0m fc4.weight 1.1920928955078125e-06\n",
      "\u001b[36m(launch_and_fit pid=10585)\u001b[0m fc4.bias 9.5367431640625e-07\n"
     ]
    },
    {
     "name": "stderr",
     "output_type": "stream",
     "text": [
      "DEBUG flwr 2024-07-20 20:03:25,240 | server.py:236 | fit_round 13 received 10 results and 0 failures\n"
     ]
    },
    {
     "name": "stdout",
     "output_type": "stream",
     "text": [
      "Saving round 13 aggregated_parameters...\n"
     ]
    },
    {
     "name": "stderr",
     "output_type": "stream",
     "text": [
      "DEBUG flwr 2024-07-20 20:03:26,165 | server.py:173 | evaluate_round 13: strategy sampled 10 clients (out of 10)\n"
     ]
    },
    {
     "name": "stdout",
     "output_type": "stream",
     "text": [
      "\u001b[36m(launch_and_evaluate pid=10676)\u001b[0m Run with homomorphic encryption\n",
      "\u001b[36m(launch_and_fit pid=10610)\u001b[0m save graph in  results/FL/\n",
      "\u001b[36m(launch_and_fit pid=10610)\u001b[0m \tTrain Epoch: 10 \tTrain_loss: 0.1800 | Train_acc: 98.6545 % | Validation_loss: 1.3468 | Validation_acc: 60.5334 %\n",
      "\u001b[36m(launch_and_fit pid=10610)\u001b[0m fc4.bias 9.5367431640625e-07\u001b[32m [repeated 20x across cluster]\u001b[0m\n",
      "\u001b[36m(launch_and_fit pid=10610)\u001b[0m qnn.weights 9.5367431640625e-07\n",
      "\u001b[36m(launch_and_evaluate pid=10676)\u001b[0m [Client 6] evaluate, config: {}\n",
      "\u001b[36m(launch_and_evaluate pid=10676)\u001b[0m Updated model\n",
      "\u001b[36m(launch_and_evaluate pid=10754)\u001b[0m Run with homomorphic encryption\u001b[32m [repeated 2x across cluster]\u001b[0m\n",
      "\u001b[36m(launch_and_evaluate pid=10677)\u001b[0m [Client 1] evaluate, config: {}\n",
      "\u001b[36m(launch_and_evaluate pid=10677)\u001b[0m Updated model\n",
      "\u001b[36m(launch_and_evaluate pid=10754)\u001b[0m [Client 2] evaluate, config: {}\n",
      "\u001b[36m(launch_and_evaluate pid=10754)\u001b[0m Updated model\n",
      "\u001b[36m(launch_and_evaluate pid=10832)\u001b[0m Run with homomorphic encryption\u001b[32m [repeated 2x across cluster]\u001b[0m\n",
      "\u001b[36m(launch_and_evaluate pid=10756)\u001b[0m [Client 4] evaluate, config: {}\n",
      "\u001b[36m(launch_and_evaluate pid=10756)\u001b[0m Updated model\n",
      "\u001b[36m(launch_and_evaluate pid=10832)\u001b[0m [Client 7] evaluate, config: {}\n",
      "\u001b[36m(launch_and_evaluate pid=10832)\u001b[0m Updated model\n",
      "\u001b[36m(launch_and_evaluate pid=10910)\u001b[0m Run with homomorphic encryption\u001b[32m [repeated 2x across cluster]\u001b[0m\n",
      "\u001b[36m(launch_and_evaluate pid=10857)\u001b[0m [Client 3] evaluate, config: {}\n",
      "\u001b[36m(launch_and_evaluate pid=10857)\u001b[0m Updated model\n",
      "\u001b[36m(launch_and_evaluate pid=10910)\u001b[0m [Client 0] evaluate, config: {}\n",
      "\u001b[36m(launch_and_evaluate pid=10910)\u001b[0m Updated model\n",
      "\u001b[36m(launch_and_evaluate pid=10988)\u001b[0m Run with homomorphic encryption\u001b[32m [repeated 2x across cluster]\u001b[0m\n",
      "\u001b[36m(launch_and_evaluate pid=10935)\u001b[0m [Client 5] evaluate, config: {}\n",
      "\u001b[36m(launch_and_evaluate pid=10935)\u001b[0m Updated model\n",
      "\u001b[36m(launch_and_evaluate pid=10988)\u001b[0m [Client 8] evaluate, config: {}\n",
      "\u001b[36m(launch_and_evaluate pid=10988)\u001b[0m Updated model\n"
     ]
    },
    {
     "name": "stderr",
     "output_type": "stream",
     "text": [
      "DEBUG flwr 2024-07-20 20:04:55,518 | server.py:187 | evaluate_round 13 received 10 results and 0 failures\n",
      "DEBUG flwr 2024-07-20 20:04:55,519 | server.py:222 | fit_round 14: strategy sampled 10 clients (out of 10)\n"
     ]
    },
    {
     "name": "stdout",
     "output_type": "stream",
     "text": [
      "\u001b[36m(launch_and_fit pid=11075)\u001b[0m Run with homomorphic encryption\u001b[32m [repeated 2x across cluster]\u001b[0m\n",
      "\u001b[36m(launch_and_evaluate pid=10990)\u001b[0m [Client 9] evaluate, config: {}\n",
      "\u001b[36m(launch_and_evaluate pid=10990)\u001b[0m Updated model\n",
      "\u001b[36m(launch_and_fit pid=11075)\u001b[0m [Client 9, round 14] fit, config: {'learning_rate': 0.001, 'batch_size': '128', 'server_round': 14, 'local_epochs': 10}\n",
      "\u001b[36m(launch_and_fit pid=11075)\u001b[0m Updated model\n"
     ]
    },
    {
     "name": "stderr",
     "output_type": "stream",
     "text": [
      "  0%|\u001b[34m          \u001b[0m| 0/10 [00:00<?, ?it/s]\n",
      "100%|\u001b[34m██████████\u001b[0m| 10/10 [00:58<00:00,  5.88s/it]\n"
     ]
    },
    {
     "name": "stdout",
     "output_type": "stream",
     "text": [
      "\u001b[36m(launch_and_fit pid=11075)\u001b[0m \tTrain Epoch: 1 \tTrain_loss: 0.7962 | Train_acc: 75.0000 % | Validation_loss: 1.2983 | Validation_acc: 62.4124 %\n",
      "\u001b[36m(launch_and_fit pid=11076)\u001b[0m Run with homomorphic encryption\n",
      "\u001b[36m(launch_and_fit pid=11076)\u001b[0m [Client 7, round 14] fit, config: {'learning_rate': 0.001, 'batch_size': '128', 'server_round': 14, 'local_epochs': 10}\n",
      "\u001b[36m(launch_and_fit pid=11076)\u001b[0m Updated model\n"
     ]
    },
    {
     "name": "stderr",
     "output_type": "stream",
     "text": [
      " 10%|\u001b[34m█         \u001b[0m| 1/10 [00:06<00:55,  6.18s/it]\n",
      "  0%|\u001b[34m          \u001b[0m| 0/10 [00:00<?, ?it/s]\n"
     ]
    },
    {
     "name": "stdout",
     "output_type": "stream",
     "text": [
      "\u001b[36m(launch_and_fit pid=11075)\u001b[0m \tTrain Epoch: 2 \tTrain_loss: 0.5607 | Train_acc: 83.9323 % | Validation_loss: 1.2320 | Validation_acc: 63.9547 %\u001b[32m [repeated 2x across cluster]\u001b[0m\n"
     ]
    },
    {
     "name": "stderr",
     "output_type": "stream",
     "text": [
      " 20%|\u001b[34m██        \u001b[0m| 2/10 [00:11<00:47,  5.97s/it]\u001b[32m [repeated 2x across cluster]\u001b[0m\n"
     ]
    },
    {
     "name": "stdout",
     "output_type": "stream",
     "text": [
      "\u001b[36m(launch_and_fit pid=11075)\u001b[0m \tTrain Epoch: 3 \tTrain_loss: 0.4219 | Train_acc: 89.3924 % | Validation_loss: 1.2772 | Validation_acc: 62.5471 %\u001b[32m [repeated 2x across cluster]\u001b[0m\n"
     ]
    },
    {
     "name": "stderr",
     "output_type": "stream",
     "text": [
      " 30%|\u001b[34m███       \u001b[0m| 3/10 [00:17<00:41,  5.91s/it]\u001b[32m [repeated 2x across cluster]\u001b[0m\n"
     ]
    },
    {
     "name": "stdout",
     "output_type": "stream",
     "text": [
      "\u001b[36m(launch_and_fit pid=11075)\u001b[0m \tTrain Epoch: 4 \tTrain_loss: 0.3216 | Train_acc: 93.0599 % | Validation_loss: 1.2900 | Validation_acc: 62.5673 %\u001b[32m [repeated 2x across cluster]\u001b[0m\n"
     ]
    },
    {
     "name": "stderr",
     "output_type": "stream",
     "text": [
      " 40%|\u001b[34m████      \u001b[0m| 4/10 [00:23<00:35,  5.93s/it]\u001b[32m [repeated 2x across cluster]\u001b[0m\n"
     ]
    },
    {
     "name": "stdout",
     "output_type": "stream",
     "text": [
      "\u001b[36m(launch_and_fit pid=11075)\u001b[0m \tTrain Epoch: 5 \tTrain_loss: 0.2663 | Train_acc: 95.0000 % | Validation_loss: 1.2996 | Validation_acc: 64.1905 %\u001b[32m [repeated 2x across cluster]\u001b[0m\n"
     ]
    },
    {
     "name": "stderr",
     "output_type": "stream",
     "text": [
      " 50%|\u001b[34m█████     \u001b[0m| 5/10 [00:29<00:29,  5.91s/it]\u001b[32m [repeated 2x across cluster]\u001b[0m\n"
     ]
    },
    {
     "name": "stdout",
     "output_type": "stream",
     "text": [
      "\u001b[36m(launch_and_fit pid=11075)\u001b[0m \tTrain Epoch: 6 \tTrain_loss: 0.1934 | Train_acc: 97.7648 % | Validation_loss: 1.3194 | Validation_acc: 65.0862 %\u001b[32m [repeated 2x across cluster]\u001b[0m\n"
     ]
    },
    {
     "name": "stderr",
     "output_type": "stream",
     "text": [
      " 60%|\u001b[34m██████    \u001b[0m| 6/10 [00:35<00:23,  5.81s/it]\u001b[32m [repeated 2x across cluster]\u001b[0m\n"
     ]
    },
    {
     "name": "stdout",
     "output_type": "stream",
     "text": [
      "\u001b[36m(launch_and_fit pid=11075)\u001b[0m \tTrain Epoch: 7 \tTrain_loss: 0.1582 | Train_acc: 98.4375 % | Validation_loss: 1.3060 | Validation_acc: 64.2107 %\u001b[32m [repeated 2x across cluster]\u001b[0m\n"
     ]
    },
    {
     "name": "stderr",
     "output_type": "stream",
     "text": [
      " 70%|\u001b[34m███████   \u001b[0m| 7/10 [00:41<00:17,  5.85s/it]\u001b[32m [repeated 2x across cluster]\u001b[0m\n"
     ]
    },
    {
     "name": "stdout",
     "output_type": "stream",
     "text": [
      "\u001b[36m(launch_and_fit pid=11075)\u001b[0m \tTrain Epoch: 8 \tTrain_loss: 0.1409 | Train_acc: 98.7847 % | Validation_loss: 1.3640 | Validation_acc: 63.5641 %\u001b[32m [repeated 2x across cluster]\u001b[0m\n"
     ]
    },
    {
     "name": "stderr",
     "output_type": "stream",
     "text": [
      " 80%|\u001b[34m████████  \u001b[0m| 8/10 [00:46<00:11,  5.80s/it]\u001b[32m [repeated 2x across cluster]\u001b[0m\n"
     ]
    },
    {
     "name": "stdout",
     "output_type": "stream",
     "text": [
      "\u001b[36m(launch_and_fit pid=11075)\u001b[0m \tTrain Epoch: 9 \tTrain_loss: 0.1230 | Train_acc: 99.0668 % | Validation_loss: 1.3335 | Validation_acc: 64.9515 %\u001b[32m [repeated 2x across cluster]\u001b[0m\n"
     ]
    },
    {
     "name": "stderr",
     "output_type": "stream",
     "text": [
      " 90%|\u001b[34m█████████ \u001b[0m| 9/10 [00:52<00:05,  5.79s/it]\u001b[32m [repeated 2x across cluster]\u001b[0m\n"
     ]
    },
    {
     "name": "stdout",
     "output_type": "stream",
     "text": [
      "\u001b[36m(launch_and_fit pid=11075)\u001b[0m save graph in  results/FL/\n",
      "\u001b[36m(launch_and_fit pid=11075)\u001b[0m \tTrain Epoch: 10 \tTrain_loss: 0.1123 | Train_acc: 99.3273 % | Validation_loss: 1.3392 | Validation_acc: 64.9919 %\u001b[32m [repeated 2x across cluster]\u001b[0m\n"
     ]
    },
    {
     "name": "stderr",
     "output_type": "stream",
     "text": [
      "100%|\u001b[34m██████████\u001b[0m| 10/10 [00:58<00:00,  5.84s/it]\u001b[32m [repeated 2x across cluster]\u001b[0m\n"
     ]
    },
    {
     "name": "stdout",
     "output_type": "stream",
     "text": [
      "\u001b[36m(launch_and_fit pid=11075)\u001b[0m network.0.weight 5.0067901611328125e-06\n",
      "\u001b[36m(launch_and_fit pid=11075)\u001b[0m network.0.bias 1.430511474609375e-06\n",
      "\u001b[36m(launch_and_fit pid=11075)\u001b[0m network.2.weight 1.1920928955078125e-06\n",
      "\u001b[36m(launch_and_fit pid=11075)\u001b[0m network.2.bias 9.5367431640625e-07\n",
      "\u001b[36m(launch_and_fit pid=11075)\u001b[0m network.5.weight 9.5367431640625e-07\n",
      "\u001b[36m(launch_and_fit pid=11075)\u001b[0m network.5.bias 9.5367431640625e-07\n",
      "\u001b[36m(launch_and_fit pid=11075)\u001b[0m network.7.weight 1.1920928955078125e-06\n",
      "\u001b[36m(launch_and_fit pid=11075)\u001b[0m network.7.bias 9.5367431640625e-07\n",
      "\u001b[36m(launch_and_fit pid=11075)\u001b[0m network.10.weight 1.1920928955078125e-06\n",
      "\u001b[36m(launch_and_fit pid=11075)\u001b[0m network.10.bias 9.5367431640625e-07\n",
      "\u001b[36m(launch_and_fit pid=11075)\u001b[0m network.12.weight 1.1920928955078125e-06\n",
      "\u001b[36m(launch_and_fit pid=11075)\u001b[0m network.12.bias 1.430511474609375e-06\n",
      "\u001b[36m(launch_and_fit pid=11075)\u001b[0m network.16.weight 1.1920928955078125e-06\n",
      "\u001b[36m(launch_and_fit pid=11075)\u001b[0m network.16.bias 9.5367431640625e-07\n",
      "\u001b[36m(launch_and_fit pid=11075)\u001b[0m network.18.weight 1.1920928955078125e-06\n",
      "\u001b[36m(launch_and_fit pid=11075)\u001b[0m network.18.bias 9.5367431640625e-07\n",
      "\u001b[36m(launch_and_fit pid=11075)\u001b[0m network.20.weight 1.1920928955078125e-06\n",
      "\u001b[36m(launch_and_fit pid=11075)\u001b[0m network.20.bias 1.1920928955078125e-06\n",
      "\u001b[36m(launch_and_fit pid=11075)\u001b[0m qnn.weights 9.5367431640625e-07\n",
      "\u001b[36m(launch_and_fit pid=11075)\u001b[0m fc4.weight 9.5367431640625e-07\n",
      "\u001b[36m(launch_and_fit pid=11075)\u001b[0m fc4.bias 9.5367431640625e-07\n",
      "\u001b[36m(launch_and_fit pid=11158)\u001b[0m Run with homomorphic encryption\n",
      "\u001b[36m(launch_and_fit pid=11076)\u001b[0m save graph in  results/FL/\n",
      "\u001b[36m(launch_and_fit pid=11076)\u001b[0m \tTrain Epoch: 10 \tTrain_loss: 0.1111 | Train_acc: 99.2622 % | Validation_loss: 1.1579 | Validation_acc: 66.0493 %\n",
      "\u001b[36m(launch_and_fit pid=11076)\u001b[0m fc4.bias 9.5367431640625e-07\u001b[32m [repeated 20x across cluster]\u001b[0m\n",
      "\u001b[36m(launch_and_fit pid=11076)\u001b[0m qnn.weights 1.1920928955078125e-06\n",
      "\u001b[36m(launch_and_fit pid=11158)\u001b[0m [Client 8, round 14] fit, config: {'learning_rate': 0.001, 'batch_size': '128', 'server_round': 14, 'local_epochs': 10}\n",
      "\u001b[36m(launch_and_fit pid=11158)\u001b[0m Updated model\n"
     ]
    },
    {
     "name": "stderr",
     "output_type": "stream",
     "text": [
      "  0%|\u001b[34m          \u001b[0m| 0/10 [00:00<?, ?it/s]\n",
      "100%|\u001b[34m██████████\u001b[0m| 10/10 [00:59<00:00,  5.97s/it]\n"
     ]
    },
    {
     "name": "stdout",
     "output_type": "stream",
     "text": [
      "\u001b[36m(launch_and_fit pid=11158)\u001b[0m \tTrain Epoch: 1 \tTrain_loss: 0.8679 | Train_acc: 72.9080 % | Validation_loss: 1.2708 | Validation_acc: 59.7387 %\n",
      "\u001b[36m(launch_and_fit pid=11184)\u001b[0m Run with homomorphic encryption\n",
      "\u001b[36m(launch_and_fit pid=11184)\u001b[0m [Client 3, round 14] fit, config: {'learning_rate': 0.001, 'batch_size': '128', 'server_round': 14, 'local_epochs': 10}\n",
      "\u001b[36m(launch_and_fit pid=11184)\u001b[0m Updated model\n"
     ]
    },
    {
     "name": "stderr",
     "output_type": "stream",
     "text": [
      " 10%|\u001b[34m█         \u001b[0m| 1/10 [00:06<00:57,  6.35s/it]\n",
      "  0%|\u001b[34m          \u001b[0m| 0/10 [00:00<?, ?it/s]\n"
     ]
    },
    {
     "name": "stdout",
     "output_type": "stream",
     "text": [
      "\u001b[36m(launch_and_fit pid=11158)\u001b[0m \tTrain Epoch: 2 \tTrain_loss: 0.5909 | Train_acc: 82.8342 % | Validation_loss: 1.1857 | Validation_acc: 62.5135 %\u001b[32m [repeated 2x across cluster]\u001b[0m\n"
     ]
    },
    {
     "name": "stderr",
     "output_type": "stream",
     "text": [
      " 20%|\u001b[34m██        \u001b[0m| 2/10 [00:12<00:49,  6.14s/it]\u001b[32m [repeated 2x across cluster]\u001b[0m\n"
     ]
    },
    {
     "name": "stdout",
     "output_type": "stream",
     "text": [
      "\u001b[36m(launch_and_fit pid=11158)\u001b[0m \tTrain Epoch: 3 \tTrain_loss: 0.4143 | Train_acc: 89.2925 % | Validation_loss: 1.2354 | Validation_acc: 64.1366 %\u001b[32m [repeated 2x across cluster]\u001b[0m\n"
     ]
    },
    {
     "name": "stderr",
     "output_type": "stream",
     "text": [
      " 30%|\u001b[34m███       \u001b[0m| 3/10 [00:18<00:41,  6.00s/it]\u001b[32m [repeated 2x across cluster]\u001b[0m\n"
     ]
    },
    {
     "name": "stdout",
     "output_type": "stream",
     "text": [
      "\u001b[36m(launch_and_fit pid=11158)\u001b[0m \tTrain Epoch: 4 \tTrain_loss: 0.3316 | Train_acc: 92.4175 % | Validation_loss: 1.2636 | Validation_acc: 61.1059 %\u001b[32m [repeated 2x across cluster]\u001b[0m\n"
     ]
    },
    {
     "name": "stderr",
     "output_type": "stream",
     "text": [
      " 40%|\u001b[34m████      \u001b[0m| 4/10 [00:23<00:35,  5.84s/it]\u001b[32m [repeated 2x across cluster]\u001b[0m\n"
     ]
    },
    {
     "name": "stdout",
     "output_type": "stream",
     "text": [
      "\u001b[36m(launch_and_fit pid=11158)\u001b[0m \tTrain Epoch: 5 \tTrain_loss: 0.2505 | Train_acc: 95.7465 % | Validation_loss: 1.2936 | Validation_acc: 59.9138 %\u001b[32m [repeated 2x across cluster]\u001b[0m\n"
     ]
    },
    {
     "name": "stderr",
     "output_type": "stream",
     "text": [
      " 50%|\u001b[34m█████     \u001b[0m| 5/10 [00:29<00:28,  5.80s/it]\u001b[32m [repeated 2x across cluster]\u001b[0m\n"
     ]
    },
    {
     "name": "stdout",
     "output_type": "stream",
     "text": [
      "\u001b[36m(launch_and_fit pid=11158)\u001b[0m \tTrain Epoch: 6 \tTrain_loss: 0.1958 | Train_acc: 97.4306 % | Validation_loss: 1.2744 | Validation_acc: 62.0824 %\u001b[32m [repeated 2x across cluster]\u001b[0m\n"
     ]
    },
    {
     "name": "stderr",
     "output_type": "stream",
     "text": [
      " 60%|\u001b[34m██████    \u001b[0m| 6/10 [00:35<00:23,  5.88s/it]\u001b[32m [repeated 2x across cluster]\u001b[0m\n"
     ]
    },
    {
     "name": "stdout",
     "output_type": "stream",
     "text": [
      "\u001b[36m(launch_and_fit pid=11158)\u001b[0m \tTrain Epoch: 7 \tTrain_loss: 0.1997 | Train_acc: 97.2917 % | Validation_loss: 1.3307 | Validation_acc: 61.2608 %\u001b[32m [repeated 2x across cluster]\u001b[0m\n"
     ]
    },
    {
     "name": "stderr",
     "output_type": "stream",
     "text": [
      " 70%|\u001b[34m███████   \u001b[0m| 7/10 [00:41<00:17,  5.90s/it]\u001b[32m [repeated 2x across cluster]\u001b[0m\n"
     ]
    },
    {
     "name": "stdout",
     "output_type": "stream",
     "text": [
      "\u001b[36m(launch_and_fit pid=11158)\u001b[0m \tTrain Epoch: 8 \tTrain_loss: 0.2044 | Train_acc: 96.8880 % | Validation_loss: 1.3350 | Validation_acc: 61.0655 %\u001b[32m [repeated 2x across cluster]\u001b[0m\n"
     ]
    },
    {
     "name": "stderr",
     "output_type": "stream",
     "text": [
      " 80%|\u001b[34m████████  \u001b[0m| 8/10 [00:47<00:11,  5.96s/it]\u001b[32m [repeated 2x across cluster]\u001b[0m\n"
     ]
    },
    {
     "name": "stdout",
     "output_type": "stream",
     "text": [
      "\u001b[36m(launch_and_fit pid=11158)\u001b[0m \tTrain Epoch: 9 \tTrain_loss: 0.1582 | Train_acc: 98.2205 % | Validation_loss: 1.3461 | Validation_acc: 59.6579 %\u001b[32m [repeated 2x across cluster]\u001b[0m\n"
     ]
    },
    {
     "name": "stderr",
     "output_type": "stream",
     "text": [
      " 90%|\u001b[34m█████████ \u001b[0m| 9/10 [00:53<00:05,  5.90s/it]\u001b[32m [repeated 2x across cluster]\u001b[0m\n"
     ]
    },
    {
     "name": "stdout",
     "output_type": "stream",
     "text": [
      "\u001b[36m(launch_and_fit pid=11158)\u001b[0m save graph in  results/FL/\n",
      "\u001b[36m(launch_and_fit pid=11158)\u001b[0m \tTrain Epoch: 10 \tTrain_loss: 0.1354 | Train_acc: 98.5807 % | Validation_loss: 1.2855 | Validation_acc: 62.0016 %\u001b[32m [repeated 2x across cluster]\u001b[0m\n"
     ]
    },
    {
     "name": "stderr",
     "output_type": "stream",
     "text": [
      "100%|\u001b[34m██████████\u001b[0m| 10/10 [00:59<00:00,  5.91s/it]\u001b[32m [repeated 2x across cluster]\u001b[0m\n"
     ]
    },
    {
     "name": "stdout",
     "output_type": "stream",
     "text": [
      "\u001b[36m(launch_and_fit pid=11158)\u001b[0m network.0.weight 4.76837158203125e-06\n",
      "\u001b[36m(launch_and_fit pid=11158)\u001b[0m network.0.bias 3.0994415283203125e-06\n",
      "\u001b[36m(launch_and_fit pid=11158)\u001b[0m network.2.weight 3.814697265625e-06\n",
      "\u001b[36m(launch_and_fit pid=11158)\u001b[0m network.2.bias 1.1920928955078125e-06\n",
      "\u001b[36m(launch_and_fit pid=11158)\u001b[0m network.5.weight 1.430511474609375e-06\n",
      "\u001b[36m(launch_and_fit pid=11158)\u001b[0m network.5.bias 9.5367431640625e-07\n",
      "\u001b[36m(launch_and_fit pid=11158)\u001b[0m network.7.weight 1.1920928955078125e-06\n",
      "\u001b[36m(launch_and_fit pid=11158)\u001b[0m network.7.bias 1.1920928955078125e-06\n",
      "\u001b[36m(launch_and_fit pid=11158)\u001b[0m network.10.weight 1.430511474609375e-06\n",
      "\u001b[36m(launch_and_fit pid=11158)\u001b[0m network.10.bias 9.5367431640625e-07\n",
      "\u001b[36m(launch_and_fit pid=11158)\u001b[0m network.12.weight 1.1920928955078125e-06\n",
      "\u001b[36m(launch_and_fit pid=11158)\u001b[0m network.12.bias 9.5367431640625e-07\n",
      "\u001b[36m(launch_and_fit pid=11158)\u001b[0m network.16.weight 9.5367431640625e-07\n",
      "\u001b[36m(launch_and_fit pid=11158)\u001b[0m network.16.bias 1.1920928955078125e-06\n",
      "\u001b[36m(launch_and_fit pid=11158)\u001b[0m network.18.weight 1.1920928955078125e-06\n",
      "\u001b[36m(launch_and_fit pid=11158)\u001b[0m network.18.bias 1.1920928955078125e-06\n",
      "\u001b[36m(launch_and_fit pid=11158)\u001b[0m network.20.weight 1.1920928955078125e-06\n",
      "\u001b[36m(launch_and_fit pid=11158)\u001b[0m network.20.bias 9.5367431640625e-07\n",
      "\u001b[36m(launch_and_fit pid=11158)\u001b[0m qnn.weights 9.5367431640625e-07\n",
      "\u001b[36m(launch_and_fit pid=11158)\u001b[0m fc4.weight 1.1920928955078125e-06\n",
      "\u001b[36m(launch_and_fit pid=11158)\u001b[0m fc4.bias 9.5367431640625e-07\n",
      "\u001b[36m(launch_and_fit pid=11242)\u001b[0m Run with homomorphic encryption\n",
      "\u001b[36m(launch_and_fit pid=11184)\u001b[0m save graph in  results/FL/\n",
      "\u001b[36m(launch_and_fit pid=11184)\u001b[0m \tTrain Epoch: 10 \tTrain_loss: 0.1304 | Train_acc: 98.8628 % | Validation_loss: 1.2889 | Validation_acc: 63.9952 %\n",
      "\u001b[36m(launch_and_fit pid=11184)\u001b[0m fc4.bias 1.1920928955078125e-06\u001b[32m [repeated 20x across cluster]\u001b[0m\n",
      "\u001b[36m(launch_and_fit pid=11184)\u001b[0m qnn.weights 9.5367431640625e-07\n",
      "\u001b[36m(launch_and_fit pid=11242)\u001b[0m [Client 5, round 14] fit, config: {'learning_rate': 0.001, 'batch_size': '128', 'server_round': 14, 'local_epochs': 10}\n",
      "\u001b[36m(launch_and_fit pid=11242)\u001b[0m Updated model\n"
     ]
    },
    {
     "name": "stderr",
     "output_type": "stream",
     "text": [
      "  0%|\u001b[34m          \u001b[0m| 0/10 [00:00<?, ?it/s]\n",
      "100%|\u001b[34m██████████\u001b[0m| 10/10 [00:59<00:00,  5.92s/it]\n"
     ]
    },
    {
     "name": "stdout",
     "output_type": "stream",
     "text": [
      "\u001b[36m(launch_and_fit pid=11242)\u001b[0m \tTrain Epoch: 1 \tTrain_loss: 0.8153 | Train_acc: 74.1059 % | Validation_loss: 1.1265 | Validation_acc: 65.9483 %\n",
      "\u001b[36m(launch_and_fit pid=11267)\u001b[0m Run with homomorphic encryption\n",
      "\u001b[36m(launch_and_fit pid=11267)\u001b[0m [Client 1, round 14] fit, config: {'learning_rate': 0.001, 'batch_size': '128', 'server_round': 14, 'local_epochs': 10}\n",
      "\u001b[36m(launch_and_fit pid=11267)\u001b[0m Updated model\n"
     ]
    },
    {
     "name": "stderr",
     "output_type": "stream",
     "text": [
      " 10%|\u001b[34m█         \u001b[0m| 1/10 [00:06<00:58,  6.51s/it]\n",
      "  0%|\u001b[34m          \u001b[0m| 0/10 [00:00<?, ?it/s]\n"
     ]
    },
    {
     "name": "stdout",
     "output_type": "stream",
     "text": [
      "\u001b[36m(launch_and_fit pid=11242)\u001b[0m \tTrain Epoch: 2 \tTrain_loss: 0.5633 | Train_acc: 83.5113 % | Validation_loss: 1.1644 | Validation_acc: 68.2920 %\u001b[32m [repeated 2x across cluster]\u001b[0m\n"
     ]
    },
    {
     "name": "stderr",
     "output_type": "stream",
     "text": [
      " 20%|\u001b[34m██        \u001b[0m| 2/10 [00:12<00:48,  6.03s/it]\u001b[32m [repeated 2x across cluster]\u001b[0m\n"
     ]
    },
    {
     "name": "stdout",
     "output_type": "stream",
     "text": [
      "\u001b[36m(launch_and_fit pid=11242)\u001b[0m \tTrain Epoch: 3 \tTrain_loss: 0.3787 | Train_acc: 90.4861 % | Validation_loss: 1.1671 | Validation_acc: 64.8976 %\u001b[32m [repeated 2x across cluster]\u001b[0m\n"
     ]
    },
    {
     "name": "stderr",
     "output_type": "stream",
     "text": [
      " 30%|\u001b[34m███       \u001b[0m| 3/10 [00:18<00:41,  5.94s/it]\u001b[32m [repeated 2x across cluster]\u001b[0m\n"
     ]
    },
    {
     "name": "stdout",
     "output_type": "stream",
     "text": [
      "\u001b[36m(launch_and_fit pid=11242)\u001b[0m \tTrain Epoch: 4 \tTrain_loss: 0.2962 | Train_acc: 94.1753 % | Validation_loss: 1.1956 | Validation_acc: 66.0493 %\u001b[32m [repeated 2x across cluster]\u001b[0m\n"
     ]
    },
    {
     "name": "stderr",
     "output_type": "stream",
     "text": [
      " 40%|\u001b[34m████      \u001b[0m| 4/10 [00:23<00:35,  5.86s/it]\u001b[32m [repeated 2x across cluster]\u001b[0m\n"
     ]
    },
    {
     "name": "stdout",
     "output_type": "stream",
     "text": [
      "\u001b[36m(launch_and_fit pid=11242)\u001b[0m \tTrain Epoch: 5 \tTrain_loss: 0.2502 | Train_acc: 95.8073 % | Validation_loss: 1.1566 | Validation_acc: 67.6118 %\u001b[32m [repeated 2x across cluster]\u001b[0m\n"
     ]
    },
    {
     "name": "stderr",
     "output_type": "stream",
     "text": [
      " 50%|\u001b[34m█████     \u001b[0m| 5/10 [00:29<00:28,  5.80s/it]\u001b[32m [repeated 2x across cluster]\u001b[0m\n"
     ]
    },
    {
     "name": "stdout",
     "output_type": "stream",
     "text": [
      "\u001b[36m(launch_and_fit pid=11242)\u001b[0m \tTrain Epoch: 6 \tTrain_loss: 0.2286 | Train_acc: 96.5538 % | Validation_loss: 1.1896 | Validation_acc: 66.2042 %\u001b[32m [repeated 2x across cluster]\u001b[0m\n"
     ]
    },
    {
     "name": "stderr",
     "output_type": "stream",
     "text": [
      " 60%|\u001b[34m██████    \u001b[0m| 6/10 [00:35<00:23,  5.94s/it]\u001b[32m [repeated 2x across cluster]\u001b[0m\n"
     ]
    },
    {
     "name": "stdout",
     "output_type": "stream",
     "text": [
      "\u001b[36m(launch_and_fit pid=11242)\u001b[0m \tTrain Epoch: 7 \tTrain_loss: 0.2798 | Train_acc: 94.9436 % | Validation_loss: 1.2822 | Validation_acc: 64.3656 %\u001b[32m [repeated 2x across cluster]\u001b[0m\n"
     ]
    },
    {
     "name": "stderr",
     "output_type": "stream",
     "text": [
      " 70%|\u001b[34m███████   \u001b[0m| 7/10 [00:41<00:17,  5.98s/it]\u001b[32m [repeated 2x across cluster]\u001b[0m\n"
     ]
    },
    {
     "name": "stdout",
     "output_type": "stream",
     "text": [
      "\u001b[36m(launch_and_fit pid=11242)\u001b[0m \tTrain Epoch: 8 \tTrain_loss: 0.2261 | Train_acc: 96.2674 % | Validation_loss: 1.1782 | Validation_acc: 68.1573 %\u001b[32m [repeated 2x across cluster]\u001b[0m\n"
     ]
    },
    {
     "name": "stderr",
     "output_type": "stream",
     "text": [
      " 80%|\u001b[34m████████  \u001b[0m| 8/10 [00:47<00:11,  5.93s/it]\u001b[32m [repeated 2x across cluster]\u001b[0m\n"
     ]
    },
    {
     "name": "stdout",
     "output_type": "stream",
     "text": [
      "\u001b[36m(launch_and_fit pid=11242)\u001b[0m \tTrain Epoch: 9 \tTrain_loss: 0.1691 | Train_acc: 97.9297 % | Validation_loss: 1.1651 | Validation_acc: 69.1541 %\u001b[32m [repeated 2x across cluster]\u001b[0m\n"
     ]
    },
    {
     "name": "stderr",
     "output_type": "stream",
     "text": [
      " 90%|\u001b[34m█████████ \u001b[0m| 9/10 [00:53<00:05,  5.91s/it]\u001b[32m [repeated 2x across cluster]\u001b[0m\n"
     ]
    },
    {
     "name": "stdout",
     "output_type": "stream",
     "text": [
      "\u001b[36m(launch_and_fit pid=11242)\u001b[0m save graph in  results/FL/\n",
      "\u001b[36m(launch_and_fit pid=11242)\u001b[0m \tTrain Epoch: 10 \tTrain_loss: 0.1530 | Train_acc: 98.1988 % | Validation_loss: 1.1688 | Validation_acc: 69.2147 %\u001b[32m [repeated 2x across cluster]\u001b[0m\n"
     ]
    },
    {
     "name": "stderr",
     "output_type": "stream",
     "text": [
      "100%|\u001b[34m██████████\u001b[0m| 10/10 [00:59<00:00,  5.93s/it]\u001b[32m [repeated 2x across cluster]\u001b[0m\n"
     ]
    },
    {
     "name": "stdout",
     "output_type": "stream",
     "text": [
      "\u001b[36m(launch_and_fit pid=11242)\u001b[0m network.0.weight 7.152557373046875e-06\n",
      "\u001b[36m(launch_and_fit pid=11242)\u001b[0m network.0.bias 2.6226043701171875e-06\n",
      "\u001b[36m(launch_and_fit pid=11242)\u001b[0m network.2.weight 1.9073486328125e-06\n",
      "\u001b[36m(launch_and_fit pid=11242)\u001b[0m network.2.bias 1.430511474609375e-06\n",
      "\u001b[36m(launch_and_fit pid=11242)\u001b[0m network.5.weight 1.9073486328125e-06\n",
      "\u001b[36m(launch_and_fit pid=11242)\u001b[0m network.5.bias 1.6689300537109375e-06\n",
      "\u001b[36m(launch_and_fit pid=11242)\u001b[0m network.7.weight 1.430511474609375e-06\n",
      "\u001b[36m(launch_and_fit pid=11242)\u001b[0m network.7.bias 1.430511474609375e-06\n",
      "\u001b[36m(launch_and_fit pid=11242)\u001b[0m network.10.weight 1.430511474609375e-06\n",
      "\u001b[36m(launch_and_fit pid=11242)\u001b[0m network.10.bias 1.6689300537109375e-06\n",
      "\u001b[36m(launch_and_fit pid=11242)\u001b[0m network.12.weight 1.1920928955078125e-06\n",
      "\u001b[36m(launch_and_fit pid=11242)\u001b[0m network.12.bias 1.430511474609375e-06\n",
      "\u001b[36m(launch_and_fit pid=11242)\u001b[0m network.16.weight 1.430511474609375e-06\n",
      "\u001b[36m(launch_and_fit pid=11242)\u001b[0m network.16.bias 1.6689300537109375e-06\n",
      "\u001b[36m(launch_and_fit pid=11242)\u001b[0m network.18.weight 1.6689300537109375e-06\n",
      "\u001b[36m(launch_and_fit pid=11242)\u001b[0m network.18.bias 2.1457672119140625e-06\n",
      "\u001b[36m(launch_and_fit pid=11242)\u001b[0m network.20.weight 1.6689300537109375e-06\n",
      "\u001b[36m(launch_and_fit pid=11242)\u001b[0m network.20.bias 1.1920928955078125e-06\n",
      "\u001b[36m(launch_and_fit pid=11242)\u001b[0m qnn.weights 1.9073486328125e-06\n",
      "\u001b[36m(launch_and_fit pid=11242)\u001b[0m fc4.weight 2.1457672119140625e-06\n",
      "\u001b[36m(launch_and_fit pid=11242)\u001b[0m fc4.bias 1.9073486328125e-06\n",
      "\u001b[36m(launch_and_fit pid=11324)\u001b[0m Run with homomorphic encryption\n",
      "\u001b[36m(launch_and_fit pid=11267)\u001b[0m save graph in  results/FL/\n",
      "\u001b[36m(launch_and_fit pid=11267)\u001b[0m \tTrain Epoch: 10 \tTrain_loss: 0.1049 | Train_acc: 99.3490 % | Validation_loss: 1.3483 | Validation_acc: 61.0453 %\n",
      "\u001b[36m(launch_and_fit pid=11267)\u001b[0m fc4.bias 1.1920928955078125e-06\u001b[32m [repeated 20x across cluster]\u001b[0m\n",
      "\u001b[36m(launch_and_fit pid=11267)\u001b[0m qnn.weights 9.5367431640625e-07\n",
      "\u001b[36m(launch_and_fit pid=11324)\u001b[0m [Client 0, round 14] fit, config: {'learning_rate': 0.001, 'batch_size': '128', 'server_round': 14, 'local_epochs': 10}\n"
     ]
    },
    {
     "name": "stderr",
     "output_type": "stream",
     "text": [
      "  0%|\u001b[34m          \u001b[0m| 0/10 [00:00<?, ?it/s]\n",
      "100%|\u001b[34m██████████\u001b[0m| 10/10 [00:59<00:00,  5.96s/it]\n"
     ]
    },
    {
     "name": "stdout",
     "output_type": "stream",
     "text": [
      "\u001b[36m(launch_and_fit pid=11324)\u001b[0m Updated model\n"
     ]
    },
    {
     "name": "stderr",
     "output_type": "stream",
     "text": [
      " 10%|\u001b[34m█         \u001b[0m| 1/10 [00:06<00:56,  6.33s/it]\n",
      "  0%|\u001b[34m          \u001b[0m| 0/10 [00:00<?, ?it/s]\n"
     ]
    },
    {
     "name": "stdout",
     "output_type": "stream",
     "text": [
      "\u001b[36m(launch_and_fit pid=11324)\u001b[0m \tTrain Epoch: 1 \tTrain_loss: 0.8260 | Train_acc: 73.6806 % | Validation_loss: 1.1958 | Validation_acc: 63.6651 %\n",
      "\u001b[36m(launch_and_fit pid=11349)\u001b[0m Run with homomorphic encryption\n",
      "\u001b[36m(launch_and_fit pid=11349)\u001b[0m [Client 4, round 14] fit, config: {'learning_rate': 0.001, 'batch_size': '128', 'server_round': 14, 'local_epochs': 10}\n",
      "\u001b[36m(launch_and_fit pid=11349)\u001b[0m Updated model\n"
     ]
    },
    {
     "name": "stderr",
     "output_type": "stream",
     "text": [
      " 20%|\u001b[34m██        \u001b[0m| 2/10 [00:12<00:47,  5.98s/it]\u001b[32m [repeated 2x across cluster]\u001b[0m\n"
     ]
    },
    {
     "name": "stdout",
     "output_type": "stream",
     "text": [
      "\u001b[36m(launch_and_fit pid=11324)\u001b[0m \tTrain Epoch: 2 \tTrain_loss: 0.5635 | Train_acc: 83.3290 % | Validation_loss: 1.1667 | Validation_acc: 63.8605 %\u001b[32m [repeated 2x across cluster]\u001b[0m\n"
     ]
    },
    {
     "name": "stderr",
     "output_type": "stream",
     "text": [
      " 30%|\u001b[34m███       \u001b[0m| 3/10 [00:17<00:41,  5.94s/it]\u001b[32m [repeated 2x across cluster]\u001b[0m\n"
     ]
    },
    {
     "name": "stdout",
     "output_type": "stream",
     "text": [
      "\u001b[36m(launch_and_fit pid=11324)\u001b[0m \tTrain Epoch: 3 \tTrain_loss: 0.4211 | Train_acc: 88.7283 % | Validation_loss: 1.1185 | Validation_acc: 67.9890 %\u001b[32m [repeated 2x across cluster]\u001b[0m\n"
     ]
    },
    {
     "name": "stderr",
     "output_type": "stream",
     "text": [
      " 40%|\u001b[34m████      \u001b[0m| 4/10 [00:23<00:35,  5.96s/it]\u001b[32m [repeated 2x across cluster]\u001b[0m\n"
     ]
    },
    {
     "name": "stdout",
     "output_type": "stream",
     "text": [
      "\u001b[36m(launch_and_fit pid=11324)\u001b[0m \tTrain Epoch: 4 \tTrain_loss: 0.3199 | Train_acc: 93.2292 % | Validation_loss: 1.1624 | Validation_acc: 65.5442 %\u001b[32m [repeated 2x across cluster]\u001b[0m\n"
     ]
    },
    {
     "name": "stderr",
     "output_type": "stream",
     "text": [
      " 50%|\u001b[34m█████     \u001b[0m| 5/10 [00:29<00:29,  5.97s/it]\u001b[32m [repeated 2x across cluster]\u001b[0m\n"
     ]
    },
    {
     "name": "stdout",
     "output_type": "stream",
     "text": [
      "\u001b[36m(launch_and_fit pid=11324)\u001b[0m \tTrain Epoch: 5 \tTrain_loss: 0.2442 | Train_acc: 95.8247 % | Validation_loss: 1.1236 | Validation_acc: 66.0897 %\u001b[32m [repeated 2x across cluster]\u001b[0m\n"
     ]
    },
    {
     "name": "stderr",
     "output_type": "stream",
     "text": [
      " 60%|\u001b[34m██████    \u001b[0m| 6/10 [00:35<00:23,  5.95s/it]\u001b[32m [repeated 2x across cluster]\u001b[0m\n"
     ]
    },
    {
     "name": "stdout",
     "output_type": "stream",
     "text": [
      "\u001b[36m(launch_and_fit pid=11324)\u001b[0m \tTrain Epoch: 6 \tTrain_loss: 0.1971 | Train_acc: 97.3438 % | Validation_loss: 1.1226 | Validation_acc: 66.3254 %\u001b[32m [repeated 2x across cluster]\u001b[0m\n"
     ]
    },
    {
     "name": "stderr",
     "output_type": "stream",
     "text": [
      " 70%|\u001b[34m███████   \u001b[0m| 7/10 [00:41<00:17,  5.97s/it]\u001b[32m [repeated 2x across cluster]\u001b[0m\n"
     ]
    },
    {
     "name": "stdout",
     "output_type": "stream",
     "text": [
      "\u001b[36m(launch_and_fit pid=11324)\u001b[0m \tTrain Epoch: 7 \tTrain_loss: 0.1597 | Train_acc: 98.3941 % | Validation_loss: 1.1349 | Validation_acc: 65.5846 %\u001b[32m [repeated 2x across cluster]\u001b[0m\n"
     ]
    },
    {
     "name": "stderr",
     "output_type": "stream",
     "text": [
      " 80%|\u001b[34m████████  \u001b[0m| 8/10 [00:47<00:11,  5.93s/it]\u001b[32m [repeated 2x across cluster]\u001b[0m\n"
     ]
    },
    {
     "name": "stdout",
     "output_type": "stream",
     "text": [
      "\u001b[36m(launch_and_fit pid=11324)\u001b[0m \tTrain Epoch: 8 \tTrain_loss: 0.1351 | Train_acc: 98.8281 % | Validation_loss: 1.1312 | Validation_acc: 67.3626 %\u001b[32m [repeated 2x across cluster]\u001b[0m\n"
     ]
    },
    {
     "name": "stderr",
     "output_type": "stream",
     "text": [
      " 90%|\u001b[34m█████████ \u001b[0m| 9/10 [00:53<00:06,  6.03s/it]\u001b[32m [repeated 2x across cluster]\u001b[0m\n"
     ]
    },
    {
     "name": "stdout",
     "output_type": "stream",
     "text": [
      "\u001b[36m(launch_and_fit pid=11324)\u001b[0m \tTrain Epoch: 9 \tTrain_loss: 0.1253 | Train_acc: 98.9062 % | Validation_loss: 1.1468 | Validation_acc: 66.6959 %\u001b[32m [repeated 2x across cluster]\u001b[0m\n"
     ]
    },
    {
     "name": "stderr",
     "output_type": "stream",
     "text": [
      "100%|\u001b[34m██████████\u001b[0m| 10/10 [00:59<00:00,  5.97s/it]\u001b[32m [repeated 2x across cluster]\u001b[0m\n"
     ]
    },
    {
     "name": "stdout",
     "output_type": "stream",
     "text": [
      "\u001b[36m(launch_and_fit pid=11324)\u001b[0m save graph in  results/FL/\n",
      "\u001b[36m(launch_and_fit pid=11324)\u001b[0m \tTrain Epoch: 10 \tTrain_loss: 0.1109 | Train_acc: 99.2839 % | Validation_loss: 1.1487 | Validation_acc: 65.8742 %\u001b[32m [repeated 2x across cluster]\u001b[0m\n",
      "\u001b[36m(launch_and_fit pid=11324)\u001b[0m network.0.weight 4.5299530029296875e-06\n",
      "\u001b[36m(launch_and_fit pid=11324)\u001b[0m network.0.bias 1.1920928955078125e-06\n",
      "\u001b[36m(launch_and_fit pid=11324)\u001b[0m network.2.weight 9.5367431640625e-07\n",
      "\u001b[36m(launch_and_fit pid=11324)\u001b[0m network.2.bias 1.1920928955078125e-06\n",
      "\u001b[36m(launch_and_fit pid=11324)\u001b[0m network.5.weight 9.5367431640625e-07\n",
      "\u001b[36m(launch_and_fit pid=11324)\u001b[0m network.5.bias 1.1920928955078125e-06\n",
      "\u001b[36m(launch_and_fit pid=11324)\u001b[0m network.7.weight 9.5367431640625e-07\n",
      "\u001b[36m(launch_and_fit pid=11324)\u001b[0m network.7.bias 1.1920928955078125e-06\n",
      "\u001b[36m(launch_and_fit pid=11324)\u001b[0m network.10.weight 1.430511474609375e-06\n",
      "\u001b[36m(launch_and_fit pid=11324)\u001b[0m network.10.bias 9.5367431640625e-07\n",
      "\u001b[36m(launch_and_fit pid=11324)\u001b[0m network.12.weight 1.1920928955078125e-06\n",
      "\u001b[36m(launch_and_fit pid=11324)\u001b[0m network.12.bias 1.430511474609375e-06\n",
      "\u001b[36m(launch_and_fit pid=11324)\u001b[0m network.16.weight 9.5367431640625e-07\n",
      "\u001b[36m(launch_and_fit pid=11324)\u001b[0m network.16.bias 1.1920928955078125e-06\n",
      "\u001b[36m(launch_and_fit pid=11324)\u001b[0m network.18.weight 1.1920928955078125e-06\n",
      "\u001b[36m(launch_and_fit pid=11324)\u001b[0m network.18.bias 9.5367431640625e-07\n",
      "\u001b[36m(launch_and_fit pid=11324)\u001b[0m network.20.weight 9.5367431640625e-07\n",
      "\u001b[36m(launch_and_fit pid=11324)\u001b[0m network.20.bias 9.5367431640625e-07\n",
      "\u001b[36m(launch_and_fit pid=11324)\u001b[0m qnn.weights 1.1920928955078125e-06\n",
      "\u001b[36m(launch_and_fit pid=11324)\u001b[0m fc4.weight 1.430511474609375e-06\n",
      "\u001b[36m(launch_and_fit pid=11324)\u001b[0m fc4.bias 1.430511474609375e-06\n",
      "\u001b[36m(launch_and_fit pid=11406)\u001b[0m Run with homomorphic encryption\n",
      "\u001b[36m(launch_and_fit pid=11349)\u001b[0m save graph in  results/FL/\n",
      "\u001b[36m(launch_and_fit pid=11349)\u001b[0m \tTrain Epoch: 10 \tTrain_loss: 0.1188 | Train_acc: 98.8845 % | Validation_loss: 1.4092 | Validation_acc: 61.9410 %\n",
      "\u001b[36m(launch_and_fit pid=11349)\u001b[0m fc4.bias 9.5367431640625e-07\u001b[32m [repeated 20x across cluster]\u001b[0m\n",
      "\u001b[36m(launch_and_fit pid=11349)\u001b[0m qnn.weights 9.5367431640625e-07\n",
      "\u001b[36m(launch_and_fit pid=11406)\u001b[0m [Client 2, round 14] fit, config: {'learning_rate': 0.001, 'batch_size': '128', 'server_round': 14, 'local_epochs': 10}\n",
      "\u001b[36m(launch_and_fit pid=11406)\u001b[0m Updated model\n"
     ]
    },
    {
     "name": "stderr",
     "output_type": "stream",
     "text": [
      "  0%|\u001b[34m          \u001b[0m| 0/10 [00:00<?, ?it/s]\n",
      "100%|\u001b[34m██████████\u001b[0m| 10/10 [00:59<00:00,  5.98s/it]\n"
     ]
    },
    {
     "name": "stdout",
     "output_type": "stream",
     "text": [
      "\u001b[36m(launch_and_fit pid=11406)\u001b[0m \tTrain Epoch: 1 \tTrain_loss: 0.8466 | Train_acc: 73.3333 % | Validation_loss: 1.3457 | Validation_acc: 59.9475 %\n",
      "\u001b[36m(launch_and_fit pid=11431)\u001b[0m Run with homomorphic encryption\n",
      "\u001b[36m(launch_and_fit pid=11431)\u001b[0m [Client 6, round 14] fit, config: {'learning_rate': 0.001, 'batch_size': '128', 'server_round': 14, 'local_epochs': 10}\n",
      "\u001b[36m(launch_and_fit pid=11431)\u001b[0m Updated model\n"
     ]
    },
    {
     "name": "stderr",
     "output_type": "stream",
     "text": [
      " 10%|\u001b[34m█         \u001b[0m| 1/10 [00:06<00:57,  6.41s/it]\n",
      "  0%|\u001b[34m          \u001b[0m| 0/10 [00:00<?, ?it/s]\n"
     ]
    },
    {
     "name": "stdout",
     "output_type": "stream",
     "text": [
      "\u001b[36m(launch_and_fit pid=11406)\u001b[0m \tTrain Epoch: 2 \tTrain_loss: 0.5393 | Train_acc: 84.0972 % | Validation_loss: 1.3770 | Validation_acc: 60.5334 %\u001b[32m [repeated 2x across cluster]\u001b[0m\n"
     ]
    },
    {
     "name": "stderr",
     "output_type": "stream",
     "text": [
      " 20%|\u001b[34m██        \u001b[0m| 2/10 [00:12<00:50,  6.37s/it]\u001b[32m [repeated 2x across cluster]\u001b[0m\n"
     ]
    },
    {
     "name": "stdout",
     "output_type": "stream",
     "text": [
      "\u001b[36m(launch_and_fit pid=11406)\u001b[0m \tTrain Epoch: 3 \tTrain_loss: 0.3924 | Train_acc: 89.9783 % | Validation_loss: 1.3495 | Validation_acc: 60.7287 %\u001b[32m [repeated 2x across cluster]\u001b[0m\n"
     ]
    },
    {
     "name": "stderr",
     "output_type": "stream",
     "text": [
      " 30%|\u001b[34m███       \u001b[0m| 3/10 [00:18<00:42,  6.08s/it]\u001b[32m [repeated 2x across cluster]\u001b[0m\n"
     ]
    },
    {
     "name": "stdout",
     "output_type": "stream",
     "text": [
      "\u001b[36m(launch_and_fit pid=11406)\u001b[0m \tTrain Epoch: 4 \tTrain_loss: 0.2892 | Train_acc: 94.0234 % | Validation_loss: 1.3487 | Validation_acc: 61.1598 %\u001b[32m [repeated 2x across cluster]\u001b[0m\n"
     ]
    },
    {
     "name": "stderr",
     "output_type": "stream",
     "text": [
      " 40%|\u001b[34m████      \u001b[0m| 4/10 [00:24<00:36,  6.01s/it]\u001b[32m [repeated 2x across cluster]\u001b[0m\n"
     ]
    },
    {
     "name": "stdout",
     "output_type": "stream",
     "text": [
      "\u001b[36m(launch_and_fit pid=11406)\u001b[0m \tTrain Epoch: 5 \tTrain_loss: 0.2318 | Train_acc: 96.3021 % | Validation_loss: 1.4106 | Validation_acc: 60.9846 %\u001b[32m [repeated 2x across cluster]\u001b[0m\n"
     ]
    },
    {
     "name": "stderr",
     "output_type": "stream",
     "text": [
      " 50%|\u001b[34m█████     \u001b[0m| 5/10 [00:30<00:30,  6.01s/it]\u001b[32m [repeated 2x across cluster]\u001b[0m\n"
     ]
    },
    {
     "name": "stdout",
     "output_type": "stream",
     "text": [
      "\u001b[36m(launch_and_fit pid=11406)\u001b[0m \tTrain Epoch: 6 \tTrain_loss: 0.1874 | Train_acc: 97.6345 % | Validation_loss: 1.4920 | Validation_acc: 59.5568 %\u001b[32m [repeated 2x across cluster]\u001b[0m\n"
     ]
    },
    {
     "name": "stderr",
     "output_type": "stream",
     "text": [
      " 60%|\u001b[34m██████    \u001b[0m| 6/10 [00:36<00:23,  5.98s/it]\u001b[32m [repeated 2x across cluster]\u001b[0m\n"
     ]
    },
    {
     "name": "stdout",
     "output_type": "stream",
     "text": [
      "\u001b[36m(launch_and_fit pid=11406)\u001b[0m \tTrain Epoch: 7 \tTrain_loss: 0.1630 | Train_acc: 98.2986 % | Validation_loss: 1.3579 | Validation_acc: 61.2540 %\u001b[32m [repeated 2x across cluster]\u001b[0m\n"
     ]
    },
    {
     "name": "stderr",
     "output_type": "stream",
     "text": [
      " 70%|\u001b[34m███████   \u001b[0m| 7/10 [00:42<00:17,  5.97s/it]\u001b[32m [repeated 2x across cluster]\u001b[0m\n"
     ]
    },
    {
     "name": "stdout",
     "output_type": "stream",
     "text": [
      "\u001b[36m(launch_and_fit pid=11406)\u001b[0m \tTrain Epoch: 8 \tTrain_loss: 0.1459 | Train_acc: 98.7543 % | Validation_loss: 1.3766 | Validation_acc: 61.5706 %\u001b[32m [repeated 2x across cluster]\u001b[0m\n"
     ]
    },
    {
     "name": "stderr",
     "output_type": "stream",
     "text": [
      " 80%|\u001b[34m████████  \u001b[0m| 8/10 [00:48<00:11,  5.89s/it]\u001b[32m [repeated 2x across cluster]\u001b[0m\n"
     ]
    },
    {
     "name": "stdout",
     "output_type": "stream",
     "text": [
      "\u001b[36m(launch_and_fit pid=11406)\u001b[0m \tTrain Epoch: 9 \tTrain_loss: 0.1267 | Train_acc: 98.9800 % | Validation_loss: 1.4121 | Validation_acc: 60.9442 %\u001b[32m [repeated 2x across cluster]\u001b[0m\n"
     ]
    },
    {
     "name": "stderr",
     "output_type": "stream",
     "text": [
      " 90%|\u001b[34m█████████ \u001b[0m| 9/10 [00:53<00:05,  5.85s/it]\u001b[32m [repeated 2x across cluster]\u001b[0m\n"
     ]
    },
    {
     "name": "stdout",
     "output_type": "stream",
     "text": [
      "\u001b[36m(launch_and_fit pid=11406)\u001b[0m save graph in  results/FL/\n",
      "\u001b[36m(launch_and_fit pid=11406)\u001b[0m \tTrain Epoch: 10 \tTrain_loss: 0.1109 | Train_acc: 99.2188 % | Validation_loss: 1.4029 | Validation_acc: 62.5067 %\u001b[32m [repeated 2x across cluster]\u001b[0m\n"
     ]
    },
    {
     "name": "stderr",
     "output_type": "stream",
     "text": [
      "100%|\u001b[34m██████████\u001b[0m| 10/10 [00:59<00:00,  5.94s/it]\u001b[32m [repeated 2x across cluster]\u001b[0m\n"
     ]
    },
    {
     "name": "stdout",
     "output_type": "stream",
     "text": [
      "\u001b[36m(launch_and_fit pid=11406)\u001b[0m network.0.weight 5.245208740234375e-06\n",
      "\u001b[36m(launch_and_fit pid=11406)\u001b[0m network.0.bias 1.6689300537109375e-06\n",
      "\u001b[36m(launch_and_fit pid=11406)\u001b[0m network.2.weight 1.430511474609375e-06\n",
      "\u001b[36m(launch_and_fit pid=11406)\u001b[0m network.2.bias 9.5367431640625e-07\n",
      "\u001b[36m(launch_and_fit pid=11406)\u001b[0m network.5.weight 1.1920928955078125e-06\n",
      "\u001b[36m(launch_and_fit pid=11406)\u001b[0m network.5.bias 1.1920928955078125e-06\n",
      "\u001b[36m(launch_and_fit pid=11406)\u001b[0m network.7.weight 9.5367431640625e-07\n",
      "\u001b[36m(launch_and_fit pid=11406)\u001b[0m network.7.bias 9.5367431640625e-07\n",
      "\u001b[36m(launch_and_fit pid=11406)\u001b[0m network.10.weight 1.1920928955078125e-06\n",
      "\u001b[36m(launch_and_fit pid=11406)\u001b[0m network.10.bias 9.5367431640625e-07\n",
      "\u001b[36m(launch_and_fit pid=11406)\u001b[0m network.12.weight 1.430511474609375e-06\n",
      "\u001b[36m(launch_and_fit pid=11406)\u001b[0m network.12.bias 1.1920928955078125e-06\n",
      "\u001b[36m(launch_and_fit pid=11406)\u001b[0m network.16.weight 9.5367431640625e-07\n",
      "\u001b[36m(launch_and_fit pid=11406)\u001b[0m network.16.bias 1.1920928955078125e-06\n",
      "\u001b[36m(launch_and_fit pid=11406)\u001b[0m network.18.weight 1.1920928955078125e-06\n",
      "\u001b[36m(launch_and_fit pid=11406)\u001b[0m network.18.bias 1.430511474609375e-06\n",
      "\u001b[36m(launch_and_fit pid=11406)\u001b[0m network.20.weight 1.1920928955078125e-06\n",
      "\u001b[36m(launch_and_fit pid=11406)\u001b[0m network.20.bias 9.5367431640625e-07\n",
      "\u001b[36m(launch_and_fit pid=11406)\u001b[0m qnn.weights 1.1920928955078125e-06\n",
      "\u001b[36m(launch_and_fit pid=11406)\u001b[0m fc4.weight 1.430511474609375e-06\n",
      "\u001b[36m(launch_and_fit pid=11406)\u001b[0m fc4.bias 9.5367431640625e-07\n"
     ]
    },
    {
     "name": "stderr",
     "output_type": "stream",
     "text": [
      "DEBUG flwr 2024-07-20 20:11:17,484 | server.py:236 | fit_round 14 received 10 results and 0 failures\n"
     ]
    },
    {
     "name": "stdout",
     "output_type": "stream",
     "text": [
      "Saving round 14 aggregated_parameters...\n"
     ]
    },
    {
     "name": "stderr",
     "output_type": "stream",
     "text": [
      "DEBUG flwr 2024-07-20 20:11:18,407 | server.py:173 | evaluate_round 14: strategy sampled 10 clients (out of 10)\n"
     ]
    },
    {
     "name": "stdout",
     "output_type": "stream",
     "text": [
      "\u001b[36m(launch_and_evaluate pid=11497)\u001b[0m Run with homomorphic encryption\n",
      "\u001b[36m(launch_and_fit pid=11431)\u001b[0m save graph in  results/FL/\n",
      "\u001b[36m(launch_and_fit pid=11431)\u001b[0m \tTrain Epoch: 10 \tTrain_loss: 0.1180 | Train_acc: 99.1753 % | Validation_loss: 1.2764 | Validation_acc: 62.2912 %\n",
      "\u001b[36m(launch_and_fit pid=11431)\u001b[0m fc4.bias 1.1920928955078125e-06\u001b[32m [repeated 20x across cluster]\u001b[0m\n",
      "\u001b[36m(launch_and_fit pid=11431)\u001b[0m qnn.weights 9.5367431640625e-07\n",
      "\u001b[36m(launch_and_evaluate pid=11497)\u001b[0m [Client 2] evaluate, config: {}\n",
      "\u001b[36m(launch_and_evaluate pid=11497)\u001b[0m Updated model\n",
      "\u001b[36m(launch_and_evaluate pid=11576)\u001b[0m Run with homomorphic encryption\u001b[32m [repeated 2x across cluster]\u001b[0m\n",
      "\u001b[36m(launch_and_evaluate pid=11498)\u001b[0m [Client 3] evaluate, config: {}\n",
      "\u001b[36m(launch_and_evaluate pid=11498)\u001b[0m Updated model\n",
      "\u001b[36m(launch_and_evaluate pid=11576)\u001b[0m [Client 7] evaluate, config: {}\n",
      "\u001b[36m(launch_and_evaluate pid=11576)\u001b[0m Updated model\n",
      "\u001b[36m(launch_and_evaluate pid=11656)\u001b[0m Run with homomorphic encryption\u001b[32m [repeated 2x across cluster]\u001b[0m\n",
      "\u001b[36m(launch_and_evaluate pid=11578)\u001b[0m [Client 4] evaluate, config: {}\n",
      "\u001b[36m(launch_and_evaluate pid=11578)\u001b[0m Updated model\n",
      "\u001b[36m(launch_and_evaluate pid=11654)\u001b[0m [Client 6] evaluate, config: {}\n",
      "\u001b[36m(launch_and_evaluate pid=11654)\u001b[0m Updated model\n",
      "\u001b[36m(launch_and_evaluate pid=11734)\u001b[0m Run with homomorphic encryption\u001b[32m [repeated 2x across cluster]\u001b[0m\n",
      "\u001b[36m(launch_and_evaluate pid=11656)\u001b[0m [Client 0] evaluate, config: {}\n",
      "\u001b[36m(launch_and_evaluate pid=11656)\u001b[0m Updated model\n",
      "\u001b[36m(launch_and_evaluate pid=11734)\u001b[0m [Client 1] evaluate, config: {}\n",
      "\u001b[36m(launch_and_evaluate pid=11734)\u001b[0m Updated model\n",
      "\u001b[36m(launch_and_evaluate pid=11812)\u001b[0m Run with homomorphic encryption\u001b[32m [repeated 2x across cluster]\u001b[0m\n",
      "\u001b[36m(launch_and_evaluate pid=11736)\u001b[0m [Client 5] evaluate, config: {}\n",
      "\u001b[36m(launch_and_evaluate pid=11736)\u001b[0m Updated model\n",
      "\u001b[36m(launch_and_evaluate pid=11812)\u001b[0m [Client 9] evaluate, config: {}\n",
      "\u001b[36m(launch_and_evaluate pid=11812)\u001b[0m Updated model\n"
     ]
    },
    {
     "name": "stderr",
     "output_type": "stream",
     "text": [
      "DEBUG flwr 2024-07-20 20:12:47,702 | server.py:187 | evaluate_round 14 received 10 results and 0 failures\n",
      "DEBUG flwr 2024-07-20 20:12:47,704 | server.py:222 | fit_round 15: strategy sampled 10 clients (out of 10)\n"
     ]
    },
    {
     "name": "stdout",
     "output_type": "stream",
     "text": [
      "\u001b[36m(launch_and_fit pid=11899)\u001b[0m Run with homomorphic encryption\u001b[32m [repeated 2x across cluster]\u001b[0m\n",
      "\u001b[36m(launch_and_evaluate pid=11814)\u001b[0m [Client 8] evaluate, config: {}\n",
      "\u001b[36m(launch_and_evaluate pid=11814)\u001b[0m Updated model\n",
      "\u001b[36m(launch_and_fit pid=11899)\u001b[0m [Client 3, round 15] fit, config: {'learning_rate': 0.001, 'batch_size': '128', 'server_round': 15, 'local_epochs': 10}\n"
     ]
    },
    {
     "name": "stderr",
     "output_type": "stream",
     "text": [
      "  0%|\u001b[34m          \u001b[0m| 0/10 [00:00<?, ?it/s]\n",
      "100%|\u001b[34m██████████\u001b[0m| 10/10 [00:59<00:00,  5.96s/it]\n"
     ]
    },
    {
     "name": "stdout",
     "output_type": "stream",
     "text": [
      "\u001b[36m(launch_and_fit pid=11899)\u001b[0m Updated model\n"
     ]
    },
    {
     "name": "stderr",
     "output_type": "stream",
     "text": [
      " 10%|\u001b[34m█         \u001b[0m| 1/10 [00:06<00:58,  6.45s/it]\n",
      "  0%|\u001b[34m          \u001b[0m| 0/10 [00:00<?, ?it/s]\n"
     ]
    },
    {
     "name": "stdout",
     "output_type": "stream",
     "text": [
      "\u001b[36m(launch_and_fit pid=11899)\u001b[0m \tTrain Epoch: 1 \tTrain_loss: 0.7800 | Train_acc: 75.8594 % | Validation_loss: 1.1381 | Validation_acc: 65.2276 %\n",
      "\u001b[36m(launch_and_fit pid=11923)\u001b[0m Run with homomorphic encryption\n",
      "\u001b[36m(launch_and_fit pid=11923)\u001b[0m [Client 6, round 15] fit, config: {'learning_rate': 0.001, 'batch_size': '128', 'server_round': 15, 'local_epochs': 10}\n",
      "\u001b[36m(launch_and_fit pid=11923)\u001b[0m Updated model\n"
     ]
    },
    {
     "name": "stderr",
     "output_type": "stream",
     "text": [
      " 20%|\u001b[34m██        \u001b[0m| 2/10 [00:12<00:49,  6.19s/it]\u001b[32m [repeated 2x across cluster]\u001b[0m\n"
     ]
    },
    {
     "name": "stdout",
     "output_type": "stream",
     "text": [
      "\u001b[36m(launch_and_fit pid=11899)\u001b[0m \tTrain Epoch: 2 \tTrain_loss: 0.5277 | Train_acc: 84.1927 % | Validation_loss: 1.1975 | Validation_acc: 64.1501 %\u001b[32m [repeated 2x across cluster]\u001b[0m\n"
     ]
    },
    {
     "name": "stderr",
     "output_type": "stream",
     "text": [
      " 30%|\u001b[34m███       \u001b[0m| 3/10 [00:18<00:42,  6.13s/it]\u001b[32m [repeated 2x across cluster]\u001b[0m\n"
     ]
    },
    {
     "name": "stdout",
     "output_type": "stream",
     "text": [
      "\u001b[36m(launch_and_fit pid=11899)\u001b[0m \tTrain Epoch: 3 \tTrain_loss: 0.3678 | Train_acc: 90.9071 % | Validation_loss: 1.1703 | Validation_acc: 65.8136 %\u001b[32m [repeated 2x across cluster]\u001b[0m\n"
     ]
    },
    {
     "name": "stderr",
     "output_type": "stream",
     "text": [
      " 40%|\u001b[34m████      \u001b[0m| 4/10 [00:24<00:37,  6.22s/it]\u001b[32m [repeated 2x across cluster]\u001b[0m\n"
     ]
    },
    {
     "name": "stdout",
     "output_type": "stream",
     "text": [
      "\u001b[36m(launch_and_fit pid=11899)\u001b[0m \tTrain Epoch: 4 \tTrain_loss: 0.2872 | Train_acc: 93.4375 % | Validation_loss: 1.2469 | Validation_acc: 65.1670 %\u001b[32m [repeated 2x across cluster]\u001b[0m\n"
     ]
    },
    {
     "name": "stderr",
     "output_type": "stream",
     "text": [
      " 50%|\u001b[34m█████     \u001b[0m| 5/10 [00:30<00:30,  6.10s/it]\u001b[32m [repeated 2x across cluster]\u001b[0m\n"
     ]
    },
    {
     "name": "stdout",
     "output_type": "stream",
     "text": [
      "\u001b[36m(launch_and_fit pid=11899)\u001b[0m \tTrain Epoch: 5 \tTrain_loss: 0.2047 | Train_acc: 96.1806 % | Validation_loss: 1.2070 | Validation_acc: 64.3656 %\u001b[32m [repeated 2x across cluster]\u001b[0m\n"
     ]
    },
    {
     "name": "stderr",
     "output_type": "stream",
     "text": [
      " 60%|\u001b[34m██████    \u001b[0m| 6/10 [00:36<00:24,  6.06s/it]\u001b[32m [repeated 2x across cluster]\u001b[0m\n"
     ]
    },
    {
     "name": "stdout",
     "output_type": "stream",
     "text": [
      "\u001b[36m(launch_and_fit pid=11899)\u001b[0m \tTrain Epoch: 6 \tTrain_loss: 0.1462 | Train_acc: 98.1033 % | Validation_loss: 1.2679 | Validation_acc: 63.3890 %\u001b[32m [repeated 2x across cluster]\u001b[0m\n"
     ]
    },
    {
     "name": "stderr",
     "output_type": "stream",
     "text": [
      " 70%|\u001b[34m███████   \u001b[0m| 7/10 [00:42<00:18,  6.04s/it]\u001b[32m [repeated 2x across cluster]\u001b[0m\n"
     ]
    },
    {
     "name": "stdout",
     "output_type": "stream",
     "text": [
      "\u001b[36m(launch_and_fit pid=11899)\u001b[0m \tTrain Epoch: 7 \tTrain_loss: 0.1229 | Train_acc: 98.7847 % | Validation_loss: 1.2119 | Validation_acc: 65.1670 %\u001b[32m [repeated 2x across cluster]\u001b[0m\n"
     ]
    },
    {
     "name": "stderr",
     "output_type": "stream",
     "text": [
      " 80%|\u001b[34m████████  \u001b[0m| 8/10 [00:48<00:12,  6.00s/it]\u001b[32m [repeated 2x across cluster]\u001b[0m\n"
     ]
    },
    {
     "name": "stdout",
     "output_type": "stream",
     "text": [
      "\u001b[36m(launch_and_fit pid=11899)\u001b[0m \tTrain Epoch: 8 \tTrain_loss: 0.1032 | Train_acc: 99.0668 % | Validation_loss: 1.2129 | Validation_acc: 65.3421 %\u001b[32m [repeated 2x across cluster]\u001b[0m\n"
     ]
    },
    {
     "name": "stderr",
     "output_type": "stream",
     "text": [
      " 90%|\u001b[34m█████████ \u001b[0m| 9/10 [00:54<00:05,  5.94s/it]\u001b[32m [repeated 2x across cluster]\u001b[0m\n"
     ]
    },
    {
     "name": "stdout",
     "output_type": "stream",
     "text": [
      "\u001b[36m(launch_and_fit pid=11899)\u001b[0m \tTrain Epoch: 9 \tTrain_loss: 0.0879 | Train_acc: 99.3707 % | Validation_loss: 1.2662 | Validation_acc: 64.1298 %\u001b[32m [repeated 2x across cluster]\u001b[0m\n"
     ]
    },
    {
     "name": "stderr",
     "output_type": "stream",
     "text": [
      "100%|\u001b[34m██████████\u001b[0m| 10/10 [01:00<00:00,  6.06s/it]\u001b[32m [repeated 2x across cluster]\u001b[0m\n"
     ]
    },
    {
     "name": "stdout",
     "output_type": "stream",
     "text": [
      "\u001b[36m(launch_and_fit pid=11899)\u001b[0m save graph in  results/FL/\n",
      "\u001b[36m(launch_and_fit pid=11899)\u001b[0m \tTrain Epoch: 10 \tTrain_loss: 0.0797 | Train_acc: 99.4575 % | Validation_loss: 1.2716 | Validation_acc: 63.4833 %\u001b[32m [repeated 2x across cluster]\u001b[0m\n",
      "\u001b[36m(launch_and_fit pid=11899)\u001b[0m network.0.weight 6.9141387939453125e-06\n",
      "\u001b[36m(launch_and_fit pid=11899)\u001b[0m network.0.bias 1.6689300537109375e-06\n",
      "\u001b[36m(launch_and_fit pid=11899)\u001b[0m network.2.weight 1.430511474609375e-06\n",
      "\u001b[36m(launch_and_fit pid=11899)\u001b[0m network.2.bias 1.430511474609375e-06\n",
      "\u001b[36m(launch_and_fit pid=11899)\u001b[0m network.5.weight 1.1920928955078125e-06\n",
      "\u001b[36m(launch_and_fit pid=11899)\u001b[0m network.5.bias 1.1920928955078125e-06\n",
      "\u001b[36m(launch_and_fit pid=11899)\u001b[0m network.7.weight 1.1920928955078125e-06\n",
      "\u001b[36m(launch_and_fit pid=11899)\u001b[0m network.7.bias 9.5367431640625e-07\n",
      "\u001b[36m(launch_and_fit pid=11899)\u001b[0m network.10.weight 1.1920928955078125e-06\n",
      "\u001b[36m(launch_and_fit pid=11899)\u001b[0m network.10.bias 9.5367431640625e-07\n",
      "\u001b[36m(launch_and_fit pid=11899)\u001b[0m network.12.weight 1.430511474609375e-06\n",
      "\u001b[36m(launch_and_fit pid=11899)\u001b[0m network.12.bias 1.430511474609375e-06\n",
      "\u001b[36m(launch_and_fit pid=11899)\u001b[0m network.16.weight 9.5367431640625e-07\n",
      "\u001b[36m(launch_and_fit pid=11899)\u001b[0m network.16.bias 9.5367431640625e-07\n",
      "\u001b[36m(launch_and_fit pid=11899)\u001b[0m network.18.weight 1.1920928955078125e-06\n",
      "\u001b[36m(launch_and_fit pid=11899)\u001b[0m network.18.bias 1.430511474609375e-06\n",
      "\u001b[36m(launch_and_fit pid=11899)\u001b[0m network.20.weight 1.1920928955078125e-06\n",
      "\u001b[36m(launch_and_fit pid=11899)\u001b[0m network.20.bias 1.1920928955078125e-06\n",
      "\u001b[36m(launch_and_fit pid=11899)\u001b[0m qnn.weights 1.430511474609375e-06\n",
      "\u001b[36m(launch_and_fit pid=11899)\u001b[0m fc4.weight 1.6689300537109375e-06\n",
      "\u001b[36m(launch_and_fit pid=11899)\u001b[0m fc4.bias 9.5367431640625e-07\n",
      "\u001b[36m(launch_and_fit pid=11982)\u001b[0m Run with homomorphic encryption\n",
      "\u001b[36m(launch_and_fit pid=11923)\u001b[0m save graph in  results/FL/\n",
      "\u001b[36m(launch_and_fit pid=11923)\u001b[0m \tTrain Epoch: 10 \tTrain_loss: 0.0839 | Train_acc: 99.3273 % | Validation_loss: 1.1875 | Validation_acc: 65.9685 %\n",
      "\u001b[36m(launch_and_fit pid=11923)\u001b[0m fc4.bias 1.6689300537109375e-06\u001b[32m [repeated 20x across cluster]\u001b[0m\n",
      "\u001b[36m(launch_and_fit pid=11923)\u001b[0m qnn.weights 1.6689300537109375e-06\n",
      "\u001b[36m(launch_and_fit pid=11982)\u001b[0m [Client 9, round 15] fit, config: {'learning_rate': 0.001, 'batch_size': '128', 'server_round': 15, 'local_epochs': 10}\n"
     ]
    },
    {
     "name": "stderr",
     "output_type": "stream",
     "text": [
      "  0%|\u001b[34m          \u001b[0m| 0/10 [00:00<?, ?it/s]\n",
      "100%|\u001b[34m██████████\u001b[0m| 10/10 [01:01<00:00,  6.18s/it]\n"
     ]
    },
    {
     "name": "stdout",
     "output_type": "stream",
     "text": [
      "\u001b[36m(launch_and_fit pid=11982)\u001b[0m Updated model\n",
      "\u001b[36m(launch_and_fit pid=12006)\u001b[0m Run with homomorphic encryption\n"
     ]
    },
    {
     "name": "stderr",
     "output_type": "stream",
     "text": [
      " 10%|\u001b[34m█         \u001b[0m| 1/10 [00:06<00:57,  6.39s/it]\n",
      "  0%|\u001b[34m          \u001b[0m| 0/10 [00:00<?, ?it/s]\n"
     ]
    },
    {
     "name": "stdout",
     "output_type": "stream",
     "text": [
      "\u001b[36m(launch_and_fit pid=11982)\u001b[0m \tTrain Epoch: 1 \tTrain_loss: 0.7508 | Train_acc: 76.6319 % | Validation_loss: 1.3287 | Validation_acc: 64.0558 %\n",
      "\u001b[36m(launch_and_fit pid=12006)\u001b[0m [Client 1, round 15] fit, config: {'learning_rate': 0.001, 'batch_size': '128', 'server_round': 15, 'local_epochs': 10}\n",
      "\u001b[36m(launch_and_fit pid=12006)\u001b[0m Updated model\n"
     ]
    },
    {
     "name": "stderr",
     "output_type": "stream",
     "text": [
      " 20%|\u001b[34m██        \u001b[0m| 2/10 [00:12<00:48,  6.05s/it]\u001b[32m [repeated 2x across cluster]\u001b[0m\n"
     ]
    },
    {
     "name": "stdout",
     "output_type": "stream",
     "text": [
      "\u001b[36m(launch_and_fit pid=11982)\u001b[0m \tTrain Epoch: 2 \tTrain_loss: 0.4891 | Train_acc: 85.4470 % | Validation_loss: 1.2986 | Validation_acc: 65.1872 %\u001b[32m [repeated 2x across cluster]\u001b[0m\n"
     ]
    },
    {
     "name": "stderr",
     "output_type": "stream",
     "text": [
      " 30%|\u001b[34m███       \u001b[0m| 3/10 [00:18<00:42,  6.11s/it]\u001b[32m [repeated 2x across cluster]\u001b[0m\n"
     ]
    },
    {
     "name": "stdout",
     "output_type": "stream",
     "text": [
      "\u001b[36m(launch_and_fit pid=11982)\u001b[0m \tTrain Epoch: 3 \tTrain_loss: 0.3005 | Train_acc: 92.7951 % | Validation_loss: 1.2920 | Validation_acc: 66.2042 %\u001b[32m [repeated 2x across cluster]\u001b[0m\n"
     ]
    },
    {
     "name": "stderr",
     "output_type": "stream",
     "text": [
      " 40%|\u001b[34m████      \u001b[0m| 4/10 [00:24<00:36,  6.07s/it]\u001b[32m [repeated 2x across cluster]\u001b[0m\n"
     ]
    },
    {
     "name": "stdout",
     "output_type": "stream",
     "text": [
      "\u001b[36m(launch_and_fit pid=11982)\u001b[0m \tTrain Epoch: 4 \tTrain_loss: 0.2253 | Train_acc: 95.9332 % | Validation_loss: 1.3296 | Validation_acc: 65.0121 %\u001b[32m [repeated 2x across cluster]\u001b[0m\n"
     ]
    },
    {
     "name": "stderr",
     "output_type": "stream",
     "text": [
      " 50%|\u001b[34m█████     \u001b[0m| 5/10 [00:30<00:29,  6.00s/it]\u001b[32m [repeated 2x across cluster]\u001b[0m\n"
     ]
    },
    {
     "name": "stdout",
     "output_type": "stream",
     "text": [
      "\u001b[36m(launch_and_fit pid=11982)\u001b[0m \tTrain Epoch: 5 \tTrain_loss: 0.1897 | Train_acc: 96.8229 % | Validation_loss: 1.3368 | Validation_acc: 65.1468 %\u001b[32m [repeated 2x across cluster]\u001b[0m\n"
     ]
    },
    {
     "name": "stderr",
     "output_type": "stream",
     "text": [
      " 60%|\u001b[34m██████    \u001b[0m| 6/10 [00:36<00:23,  5.96s/it]\u001b[32m [repeated 2x across cluster]\u001b[0m\n"
     ]
    },
    {
     "name": "stdout",
     "output_type": "stream",
     "text": [
      "\u001b[36m(launch_and_fit pid=11982)\u001b[0m \tTrain Epoch: 6 \tTrain_loss: 0.1524 | Train_acc: 97.9818 % | Validation_loss: 1.2442 | Validation_acc: 66.5948 %\u001b[32m [repeated 2x across cluster]\u001b[0m\n"
     ]
    },
    {
     "name": "stderr",
     "output_type": "stream",
     "text": [
      " 70%|\u001b[34m███████   \u001b[0m| 7/10 [00:41<00:17,  5.89s/it]\u001b[32m [repeated 2x across cluster]\u001b[0m\n"
     ]
    },
    {
     "name": "stdout",
     "output_type": "stream",
     "text": [
      "\u001b[36m(launch_and_fit pid=11982)\u001b[0m \tTrain Epoch: 7 \tTrain_loss: 0.1318 | Train_acc: 98.4158 % | Validation_loss: 1.3149 | Validation_acc: 64.8168 %\u001b[32m [repeated 2x across cluster]\u001b[0m\n"
     ]
    },
    {
     "name": "stderr",
     "output_type": "stream",
     "text": [
      " 80%|\u001b[34m████████  \u001b[0m| 8/10 [00:48<00:11,  5.98s/it]\u001b[32m [repeated 2x across cluster]\u001b[0m\n"
     ]
    },
    {
     "name": "stdout",
     "output_type": "stream",
     "text": [
      "\u001b[36m(launch_and_fit pid=11982)\u001b[0m \tTrain Epoch: 8 \tTrain_loss: 0.1088 | Train_acc: 98.8932 % | Validation_loss: 1.3310 | Validation_acc: 64.8168 %\u001b[32m [repeated 2x across cluster]\u001b[0m\n"
     ]
    },
    {
     "name": "stderr",
     "output_type": "stream",
     "text": [
      " 90%|\u001b[34m█████████ \u001b[0m| 9/10 [00:53<00:05,  5.94s/it]\u001b[32m [repeated 2x across cluster]\u001b[0m\n"
     ]
    },
    {
     "name": "stdout",
     "output_type": "stream",
     "text": [
      "\u001b[36m(launch_and_fit pid=11982)\u001b[0m \tTrain Epoch: 9 \tTrain_loss: 0.0998 | Train_acc: 99.0017 % | Validation_loss: 1.3205 | Validation_acc: 64.5407 %\u001b[32m [repeated 2x across cluster]\u001b[0m\n"
     ]
    },
    {
     "name": "stderr",
     "output_type": "stream",
     "text": [
      "100%|\u001b[34m██████████\u001b[0m| 10/10 [00:59<00:00,  5.99s/it]\u001b[32m [repeated 2x across cluster]\u001b[0m\n"
     ]
    },
    {
     "name": "stdout",
     "output_type": "stream",
     "text": [
      "\u001b[36m(launch_and_fit pid=11982)\u001b[0m save graph in  results/FL/\n",
      "\u001b[36m(launch_and_fit pid=11982)\u001b[0m \tTrain Epoch: 10 \tTrain_loss: 0.0914 | Train_acc: 99.2101 % | Validation_loss: 1.3469 | Validation_acc: 64.5407 %\u001b[32m [repeated 2x across cluster]\u001b[0m\n",
      "\u001b[36m(launch_and_fit pid=11982)\u001b[0m network.0.weight 6.9141387939453125e-06\n",
      "\u001b[36m(launch_and_fit pid=11982)\u001b[0m network.0.bias 2.384185791015625e-06\n",
      "\u001b[36m(launch_and_fit pid=11982)\u001b[0m network.2.weight 1.6689300537109375e-06\n",
      "\u001b[36m(launch_and_fit pid=11982)\u001b[0m network.2.bias 1.6689300537109375e-06\n",
      "\u001b[36m(launch_and_fit pid=11982)\u001b[0m network.5.weight 1.6689300537109375e-06\n",
      "\u001b[36m(launch_and_fit pid=11982)\u001b[0m network.5.bias 1.6689300537109375e-06\n",
      "\u001b[36m(launch_and_fit pid=11982)\u001b[0m network.7.weight 1.430511474609375e-06\n",
      "\u001b[36m(launch_and_fit pid=11982)\u001b[0m network.7.bias 1.6689300537109375e-06\n",
      "\u001b[36m(launch_and_fit pid=11982)\u001b[0m network.10.weight 1.6689300537109375e-06\n",
      "\u001b[36m(launch_and_fit pid=11982)\u001b[0m network.10.bias 1.6689300537109375e-06\n",
      "\u001b[36m(launch_and_fit pid=11982)\u001b[0m network.12.weight 1.6689300537109375e-06\n",
      "\u001b[36m(launch_and_fit pid=11982)\u001b[0m network.12.bias 1.6689300537109375e-06\n",
      "\u001b[36m(launch_and_fit pid=11982)\u001b[0m network.16.weight 1.6689300537109375e-06\n",
      "\u001b[36m(launch_and_fit pid=11982)\u001b[0m network.16.bias 1.9073486328125e-06\n",
      "\u001b[36m(launch_and_fit pid=11982)\u001b[0m network.18.weight 1.6689300537109375e-06\n",
      "\u001b[36m(launch_and_fit pid=11982)\u001b[0m network.18.bias 1.6689300537109375e-06\n",
      "\u001b[36m(launch_and_fit pid=11982)\u001b[0m network.20.weight 1.9073486328125e-06\n",
      "\u001b[36m(launch_and_fit pid=11982)\u001b[0m network.20.bias 1.6689300537109375e-06\n",
      "\u001b[36m(launch_and_fit pid=11982)\u001b[0m qnn.weights 1.6689300537109375e-06\n",
      "\u001b[36m(launch_and_fit pid=11982)\u001b[0m fc4.weight 2.1457672119140625e-06\n",
      "\u001b[36m(launch_and_fit pid=11982)\u001b[0m fc4.bias 1.430511474609375e-06\n",
      "\u001b[36m(launch_and_fit pid=12064)\u001b[0m Run with homomorphic encryption\n",
      "\u001b[36m(launch_and_fit pid=12006)\u001b[0m save graph in  results/FL/\n",
      "\u001b[36m(launch_and_fit pid=12006)\u001b[0m \tTrain Epoch: 10 \tTrain_loss: 0.0957 | Train_acc: 99.2622 % | Validation_loss: 1.3877 | Validation_acc: 62.4124 %\n",
      "\u001b[36m(launch_and_fit pid=12006)\u001b[0m fc4.bias 1.1920928955078125e-06\u001b[32m [repeated 20x across cluster]\u001b[0m\n",
      "\u001b[36m(launch_and_fit pid=12006)\u001b[0m qnn.weights 9.5367431640625e-07\n",
      "\u001b[36m(launch_and_fit pid=12064)\u001b[0m [Client 0, round 15] fit, config: {'learning_rate': 0.001, 'batch_size': '128', 'server_round': 15, 'local_epochs': 10}\n",
      "\u001b[36m(launch_and_fit pid=12064)\u001b[0m Updated model\n"
     ]
    },
    {
     "name": "stderr",
     "output_type": "stream",
     "text": [
      "  0%|\u001b[34m          \u001b[0m| 0/10 [00:00<?, ?it/s]\n",
      "100%|\u001b[34m██████████\u001b[0m| 10/10 [00:59<00:00,  5.93s/it]\n"
     ]
    },
    {
     "name": "stdout",
     "output_type": "stream",
     "text": [
      "\u001b[36m(launch_and_fit pid=12089)\u001b[0m Run with homomorphic encryption\n",
      "\u001b[36m(launch_and_fit pid=12064)\u001b[0m \tTrain Epoch: 1 \tTrain_loss: 0.7583 | Train_acc: 76.1068 % | Validation_loss: 1.0761 | Validation_acc: 66.2042 %\n",
      "\u001b[36m(launch_and_fit pid=12089)\u001b[0m [Client 8, round 15] fit, config: {'learning_rate': 0.001, 'batch_size': '128', 'server_round': 15, 'local_epochs': 10}\n",
      "\u001b[36m(launch_and_fit pid=12089)\u001b[0m Updated model\n"
     ]
    },
    {
     "name": "stderr",
     "output_type": "stream",
     "text": [
      " 10%|\u001b[34m█         \u001b[0m| 1/10 [00:06<01:00,  6.76s/it]\n",
      "  0%|\u001b[34m          \u001b[0m| 0/10 [00:00<?, ?it/s]\n"
     ]
    },
    {
     "name": "stdout",
     "output_type": "stream",
     "text": [
      "\u001b[36m(launch_and_fit pid=12064)\u001b[0m \tTrain Epoch: 2 \tTrain_loss: 0.4962 | Train_acc: 85.2951 % | Validation_loss: 1.1840 | Validation_acc: 66.0493 %\u001b[32m [repeated 2x across cluster]\u001b[0m\n"
     ]
    },
    {
     "name": "stderr",
     "output_type": "stream",
     "text": [
      " 20%|\u001b[34m██        \u001b[0m| 2/10 [00:12<00:50,  6.31s/it]\u001b[32m [repeated 2x across cluster]\u001b[0m\n"
     ]
    },
    {
     "name": "stdout",
     "output_type": "stream",
     "text": [
      "\u001b[36m(launch_and_fit pid=12064)\u001b[0m \tTrain Epoch: 3 \tTrain_loss: 0.3349 | Train_acc: 91.1806 % | Validation_loss: 1.1680 | Validation_acc: 67.3424 %\u001b[32m [repeated 2x across cluster]\u001b[0m\n"
     ]
    },
    {
     "name": "stderr",
     "output_type": "stream",
     "text": [
      " 30%|\u001b[34m███       \u001b[0m| 3/10 [00:18<00:43,  6.18s/it]\u001b[32m [repeated 2x across cluster]\u001b[0m\n"
     ]
    },
    {
     "name": "stdout",
     "output_type": "stream",
     "text": [
      "\u001b[36m(launch_and_fit pid=12064)\u001b[0m \tTrain Epoch: 4 \tTrain_loss: 0.2258 | Train_acc: 95.6944 % | Validation_loss: 1.1653 | Validation_acc: 65.3489 %\u001b[32m [repeated 2x across cluster]\u001b[0m\n"
     ]
    },
    {
     "name": "stderr",
     "output_type": "stream",
     "text": [
      " 40%|\u001b[34m████      \u001b[0m| 4/10 [00:24<00:36,  6.07s/it]\u001b[32m [repeated 2x across cluster]\u001b[0m\n"
     ]
    },
    {
     "name": "stdout",
     "output_type": "stream",
     "text": [
      "\u001b[36m(launch_and_fit pid=12064)\u001b[0m \tTrain Epoch: 5 \tTrain_loss: 0.1758 | Train_acc: 97.4826 % | Validation_loss: 1.1648 | Validation_acc: 64.6619 %\u001b[32m [repeated 2x across cluster]\u001b[0m\n"
     ]
    },
    {
     "name": "stderr",
     "output_type": "stream",
     "text": [
      " 50%|\u001b[34m█████     \u001b[0m| 5/10 [00:30<00:30,  6.05s/it]\u001b[32m [repeated 2x across cluster]\u001b[0m\n"
     ]
    },
    {
     "name": "stdout",
     "output_type": "stream",
     "text": [
      "\u001b[36m(launch_and_fit pid=12064)\u001b[0m \tTrain Epoch: 6 \tTrain_loss: 0.1401 | Train_acc: 98.4158 % | Validation_loss: 1.1427 | Validation_acc: 66.9652 %\u001b[32m [repeated 2x across cluster]\u001b[0m\n"
     ]
    },
    {
     "name": "stderr",
     "output_type": "stream",
     "text": [
      " 60%|\u001b[34m██████    \u001b[0m| 6/10 [00:36<00:24,  6.10s/it]\u001b[32m [repeated 2x across cluster]\u001b[0m\n"
     ]
    },
    {
     "name": "stdout",
     "output_type": "stream",
     "text": [
      "\u001b[36m(launch_and_fit pid=12064)\u001b[0m \tTrain Epoch: 7 \tTrain_loss: 0.1192 | Train_acc: 98.7457 % | Validation_loss: 1.1230 | Validation_acc: 66.2850 %\u001b[32m [repeated 2x across cluster]\u001b[0m\n"
     ]
    },
    {
     "name": "stderr",
     "output_type": "stream",
     "text": [
      " 70%|\u001b[34m███████   \u001b[0m| 7/10 [00:42<00:17,  6.00s/it]\u001b[32m [repeated 2x across cluster]\u001b[0m\n"
     ]
    },
    {
     "name": "stdout",
     "output_type": "stream",
     "text": [
      "\u001b[36m(launch_and_fit pid=12064)\u001b[0m \tTrain Epoch: 8 \tTrain_loss: 0.1128 | Train_acc: 98.8715 % | Validation_loss: 1.1860 | Validation_acc: 64.0760 %\u001b[32m [repeated 2x across cluster]\u001b[0m\n"
     ]
    },
    {
     "name": "stderr",
     "output_type": "stream",
     "text": [
      " 80%|\u001b[34m████████  \u001b[0m| 8/10 [00:48<00:11,  5.91s/it]\u001b[32m [repeated 2x across cluster]\u001b[0m\n"
     ]
    },
    {
     "name": "stdout",
     "output_type": "stream",
     "text": [
      "\u001b[36m(launch_and_fit pid=12064)\u001b[0m \tTrain Epoch: 9 \tTrain_loss: 0.0974 | Train_acc: 99.1102 % | Validation_loss: 1.1331 | Validation_acc: 66.6959 %\u001b[32m [repeated 2x across cluster]\u001b[0m\n"
     ]
    },
    {
     "name": "stderr",
     "output_type": "stream",
     "text": [
      " 90%|\u001b[34m█████████ \u001b[0m| 9/10 [00:54<00:05,  5.85s/it]\u001b[32m [repeated 2x across cluster]\u001b[0m\n"
     ]
    },
    {
     "name": "stdout",
     "output_type": "stream",
     "text": [
      "\u001b[36m(launch_and_fit pid=12064)\u001b[0m save graph in  results/FL/\n",
      "\u001b[36m(launch_and_fit pid=12064)\u001b[0m \tTrain Epoch: 10 \tTrain_loss: 0.0835 | Train_acc: 99.4141 % | Validation_loss: 1.1758 | Validation_acc: 64.8370 %\u001b[32m [repeated 2x across cluster]\u001b[0m\n"
     ]
    },
    {
     "name": "stderr",
     "output_type": "stream",
     "text": [
      "100%|\u001b[34m██████████\u001b[0m| 10/10 [01:00<00:00,  6.01s/it]\u001b[32m [repeated 2x across cluster]\u001b[0m\n"
     ]
    },
    {
     "name": "stdout",
     "output_type": "stream",
     "text": [
      "\u001b[36m(launch_and_fit pid=12064)\u001b[0m network.0.weight 4.76837158203125e-06\n",
      "\u001b[36m(launch_and_fit pid=12064)\u001b[0m network.0.bias 1.6689300537109375e-06\n",
      "\u001b[36m(launch_and_fit pid=12064)\u001b[0m network.2.weight 1.430511474609375e-06\n",
      "\u001b[36m(launch_and_fit pid=12064)\u001b[0m network.2.bias 1.430511474609375e-06\n",
      "\u001b[36m(launch_and_fit pid=12064)\u001b[0m network.5.weight 1.6689300537109375e-06\n",
      "\u001b[36m(launch_and_fit pid=12064)\u001b[0m network.5.bias 1.430511474609375e-06\n",
      "\u001b[36m(launch_and_fit pid=12064)\u001b[0m network.7.weight 1.1920928955078125e-06\n",
      "\u001b[36m(launch_and_fit pid=12064)\u001b[0m network.7.bias 1.430511474609375e-06\n",
      "\u001b[36m(launch_and_fit pid=12064)\u001b[0m network.10.weight 1.430511474609375e-06\n",
      "\u001b[36m(launch_and_fit pid=12064)\u001b[0m network.10.bias 1.430511474609375e-06\n",
      "\u001b[36m(launch_and_fit pid=12064)\u001b[0m network.12.weight 1.1920928955078125e-06\n",
      "\u001b[36m(launch_and_fit pid=12064)\u001b[0m network.12.bias 1.430511474609375e-06\n",
      "\u001b[36m(launch_and_fit pid=12064)\u001b[0m network.16.weight 1.1920928955078125e-06\n",
      "\u001b[36m(launch_and_fit pid=12064)\u001b[0m network.16.bias 1.6689300537109375e-06\n",
      "\u001b[36m(launch_and_fit pid=12064)\u001b[0m network.18.weight 1.430511474609375e-06\n",
      "\u001b[36m(launch_and_fit pid=12064)\u001b[0m network.18.bias 1.430511474609375e-06\n",
      "\u001b[36m(launch_and_fit pid=12064)\u001b[0m network.20.weight 1.1920928955078125e-06\n",
      "\u001b[36m(launch_and_fit pid=12064)\u001b[0m network.20.bias 1.430511474609375e-06\n",
      "\u001b[36m(launch_and_fit pid=12064)\u001b[0m qnn.weights 1.430511474609375e-06\n",
      "\u001b[36m(launch_and_fit pid=12064)\u001b[0m fc4.weight 1.430511474609375e-06\n",
      "\u001b[36m(launch_and_fit pid=12064)\u001b[0m fc4.bias 1.430511474609375e-06\n",
      "\u001b[36m(launch_and_fit pid=12147)\u001b[0m Run with homomorphic encryption\n",
      "\u001b[36m(launch_and_fit pid=12089)\u001b[0m save graph in  results/FL/\n",
      "\u001b[36m(launch_and_fit pid=12089)\u001b[0m \tTrain Epoch: 10 \tTrain_loss: 0.1009 | Train_acc: 98.8932 % | Validation_loss: 1.4015 | Validation_acc: 62.0420 %\n",
      "\u001b[36m(launch_and_fit pid=12089)\u001b[0m fc4.bias 1.6689300537109375e-06\u001b[32m [repeated 20x across cluster]\u001b[0m\n",
      "\u001b[36m(launch_and_fit pid=12089)\u001b[0m qnn.weights 1.9073486328125e-06\n",
      "\u001b[36m(launch_and_fit pid=12147)\u001b[0m [Client 5, round 15] fit, config: {'learning_rate': 0.001, 'batch_size': '128', 'server_round': 15, 'local_epochs': 10}\n",
      "\u001b[36m(launch_and_fit pid=12147)\u001b[0m Updated model\n"
     ]
    },
    {
     "name": "stderr",
     "output_type": "stream",
     "text": [
      "  0%|\u001b[34m          \u001b[0m| 0/10 [00:00<?, ?it/s]\n",
      "100%|\u001b[34m██████████\u001b[0m| 10/10 [01:00<00:00,  6.04s/it]\n"
     ]
    },
    {
     "name": "stdout",
     "output_type": "stream",
     "text": [
      "\u001b[36m(launch_and_fit pid=12147)\u001b[0m \tTrain Epoch: 1 \tTrain_loss: 0.7495 | Train_acc: 76.9878 % | Validation_loss: 1.1746 | Validation_acc: 68.5682 %\n",
      "\u001b[36m(launch_and_fit pid=12172)\u001b[0m Run with homomorphic encryption\n",
      "\u001b[36m(launch_and_fit pid=12172)\u001b[0m [Client 2, round 15] fit, config: {'learning_rate': 0.001, 'batch_size': '128', 'server_round': 15, 'local_epochs': 10}\n",
      "\u001b[36m(launch_and_fit pid=12172)\u001b[0m Updated model\n"
     ]
    },
    {
     "name": "stderr",
     "output_type": "stream",
     "text": [
      " 10%|\u001b[34m█         \u001b[0m| 1/10 [00:06<00:56,  6.31s/it]\n",
      "  0%|\u001b[34m          \u001b[0m| 0/10 [00:00<?, ?it/s]\n"
     ]
    },
    {
     "name": "stdout",
     "output_type": "stream",
     "text": [
      "\u001b[36m(launch_and_fit pid=12147)\u001b[0m \tTrain Epoch: 2 \tTrain_loss: 0.4459 | Train_acc: 87.7778 % | Validation_loss: 1.1693 | Validation_acc: 66.1840 %\u001b[32m [repeated 2x across cluster]\u001b[0m\n"
     ]
    },
    {
     "name": "stderr",
     "output_type": "stream",
     "text": [
      " 20%|\u001b[34m██        \u001b[0m| 2/10 [00:12<00:48,  6.05s/it]\u001b[32m [repeated 2x across cluster]\u001b[0m\n"
     ]
    },
    {
     "name": "stdout",
     "output_type": "stream",
     "text": [
      "\u001b[36m(launch_and_fit pid=12147)\u001b[0m \tTrain Epoch: 3 \tTrain_loss: 0.2769 | Train_acc: 93.7326 % | Validation_loss: 1.1736 | Validation_acc: 68.1034 %\u001b[32m [repeated 2x across cluster]\u001b[0m\n"
     ]
    },
    {
     "name": "stderr",
     "output_type": "stream",
     "text": [
      " 30%|\u001b[34m███       \u001b[0m| 3/10 [00:17<00:41,  5.92s/it]\u001b[32m [repeated 2x across cluster]\u001b[0m\n"
     ]
    },
    {
     "name": "stdout",
     "output_type": "stream",
     "text": [
      "\u001b[36m(launch_and_fit pid=12147)\u001b[0m \tTrain Epoch: 4 \tTrain_loss: 0.2489 | Train_acc: 94.7266 % | Validation_loss: 1.1842 | Validation_acc: 68.4335 %\u001b[32m [repeated 2x across cluster]\u001b[0m\n"
     ]
    },
    {
     "name": "stderr",
     "output_type": "stream",
     "text": [
      " 40%|\u001b[34m████      \u001b[0m| 4/10 [00:24<00:35,  5.97s/it]\u001b[32m [repeated 2x across cluster]\u001b[0m\n"
     ]
    },
    {
     "name": "stdout",
     "output_type": "stream",
     "text": [
      "\u001b[36m(launch_and_fit pid=12147)\u001b[0m \tTrain Epoch: 5 \tTrain_loss: 0.2175 | Train_acc: 95.7161 % | Validation_loss: 1.1665 | Validation_acc: 68.5682 %\u001b[32m [repeated 2x across cluster]\u001b[0m\n"
     ]
    },
    {
     "name": "stderr",
     "output_type": "stream",
     "text": [
      " 50%|\u001b[34m█████     \u001b[0m| 5/10 [00:29<00:29,  5.89s/it]\u001b[32m [repeated 2x across cluster]\u001b[0m\n"
     ]
    },
    {
     "name": "stdout",
     "output_type": "stream",
     "text": [
      "\u001b[36m(launch_and_fit pid=12147)\u001b[0m \tTrain Epoch: 6 \tTrain_loss: 0.1780 | Train_acc: 96.9748 % | Validation_loss: 1.1984 | Validation_acc: 67.2010 %\u001b[32m [repeated 2x across cluster]\u001b[0m\n"
     ]
    },
    {
     "name": "stderr",
     "output_type": "stream",
     "text": [
      " 60%|\u001b[34m██████    \u001b[0m| 6/10 [00:35<00:23,  5.84s/it]\u001b[32m [repeated 2x across cluster]\u001b[0m\n"
     ]
    },
    {
     "name": "stdout",
     "output_type": "stream",
     "text": [
      "\u001b[36m(launch_and_fit pid=12147)\u001b[0m \tTrain Epoch: 7 \tTrain_loss: 0.1338 | Train_acc: 98.3507 % | Validation_loss: 1.1627 | Validation_acc: 68.5884 %\u001b[32m [repeated 2x across cluster]\u001b[0m\n"
     ]
    },
    {
     "name": "stderr",
     "output_type": "stream",
     "text": [
      " 70%|\u001b[34m███████   \u001b[0m| 7/10 [00:41<00:17,  5.78s/it]\u001b[32m [repeated 2x across cluster]\u001b[0m\n"
     ]
    },
    {
     "name": "stdout",
     "output_type": "stream",
     "text": [
      "\u001b[36m(launch_and_fit pid=12147)\u001b[0m \tTrain Epoch: 8 \tTrain_loss: 0.1146 | Train_acc: 98.8194 % | Validation_loss: 1.1855 | Validation_acc: 67.8677 %\u001b[32m [repeated 2x across cluster]\u001b[0m\n"
     ]
    },
    {
     "name": "stderr",
     "output_type": "stream",
     "text": [
      " 80%|\u001b[34m████████  \u001b[0m| 8/10 [00:47<00:11,  5.83s/it]\u001b[32m [repeated 2x across cluster]\u001b[0m\n"
     ]
    },
    {
     "name": "stdout",
     "output_type": "stream",
     "text": [
      "\u001b[36m(launch_and_fit pid=12147)\u001b[0m \tTrain Epoch: 9 \tTrain_loss: 0.1034 | Train_acc: 99.0017 % | Validation_loss: 1.2046 | Validation_acc: 68.1573 %\u001b[32m [repeated 2x across cluster]\u001b[0m\n"
     ]
    },
    {
     "name": "stderr",
     "output_type": "stream",
     "text": [
      " 90%|\u001b[34m█████████ \u001b[0m| 9/10 [00:52<00:05,  5.77s/it]\u001b[32m [repeated 2x across cluster]\u001b[0m\n"
     ]
    },
    {
     "name": "stdout",
     "output_type": "stream",
     "text": [
      "\u001b[36m(launch_and_fit pid=12147)\u001b[0m save graph in  results/FL/\n",
      "\u001b[36m(launch_and_fit pid=12147)\u001b[0m \tTrain Epoch: 10 \tTrain_loss: 0.0960 | Train_acc: 99.2839 % | Validation_loss: 1.2256 | Validation_acc: 66.2648 %\u001b[32m [repeated 2x across cluster]\u001b[0m\n"
     ]
    },
    {
     "name": "stderr",
     "output_type": "stream",
     "text": [
      "100%|\u001b[34m██████████\u001b[0m| 10/10 [00:58<00:00,  5.88s/it]\u001b[32m [repeated 2x across cluster]\u001b[0m\n"
     ]
    },
    {
     "name": "stdout",
     "output_type": "stream",
     "text": [
      "\u001b[36m(launch_and_fit pid=12147)\u001b[0m network.0.weight 4.76837158203125e-06\n",
      "\u001b[36m(launch_and_fit pid=12147)\u001b[0m network.0.bias 1.1920928955078125e-06\n",
      "\u001b[36m(launch_and_fit pid=12147)\u001b[0m network.2.weight 1.1920928955078125e-06\n",
      "\u001b[36m(launch_and_fit pid=12147)\u001b[0m network.2.bias 1.430511474609375e-06\n",
      "\u001b[36m(launch_and_fit pid=12147)\u001b[0m network.5.weight 1.1920928955078125e-06\n",
      "\u001b[36m(launch_and_fit pid=12147)\u001b[0m network.5.bias 9.5367431640625e-07\n",
      "\u001b[36m(launch_and_fit pid=12147)\u001b[0m network.7.weight 9.5367431640625e-07\n",
      "\u001b[36m(launch_and_fit pid=12147)\u001b[0m network.7.bias 9.5367431640625e-07\n",
      "\u001b[36m(launch_and_fit pid=12147)\u001b[0m network.10.weight 1.430511474609375e-06\n",
      "\u001b[36m(launch_and_fit pid=12147)\u001b[0m network.10.bias 1.1920928955078125e-06\n",
      "\u001b[36m(launch_and_fit pid=12147)\u001b[0m network.12.weight 9.5367431640625e-07\n",
      "\u001b[36m(launch_and_fit pid=12147)\u001b[0m network.12.bias 1.1920928955078125e-06\n",
      "\u001b[36m(launch_and_fit pid=12147)\u001b[0m network.16.weight 9.5367431640625e-07\n",
      "\u001b[36m(launch_and_fit pid=12147)\u001b[0m network.16.bias 9.5367431640625e-07\n",
      "\u001b[36m(launch_and_fit pid=12147)\u001b[0m network.18.weight 9.5367431640625e-07\n",
      "\u001b[36m(launch_and_fit pid=12147)\u001b[0m network.18.bias 1.1920928955078125e-06\n",
      "\u001b[36m(launch_and_fit pid=12147)\u001b[0m network.20.weight 1.1920928955078125e-06\n",
      "\u001b[36m(launch_and_fit pid=12147)\u001b[0m network.20.bias 1.430511474609375e-06\n",
      "\u001b[36m(launch_and_fit pid=12147)\u001b[0m qnn.weights 9.5367431640625e-07\n",
      "\u001b[36m(launch_and_fit pid=12147)\u001b[0m fc4.weight 1.1920928955078125e-06\n",
      "\u001b[36m(launch_and_fit pid=12147)\u001b[0m fc4.bias 4.76837158203125e-06\n",
      "\u001b[36m(launch_and_fit pid=12229)\u001b[0m Run with homomorphic encryption\n",
      "\u001b[36m(launch_and_fit pid=12172)\u001b[0m save graph in  results/FL/\n",
      "\u001b[36m(launch_and_fit pid=12172)\u001b[0m \tTrain Epoch: 10 \tTrain_loss: 0.0764 | Train_acc: 99.5009 % | Validation_loss: 1.4862 | Validation_acc: 59.1460 %\n",
      "\u001b[36m(launch_and_fit pid=12172)\u001b[0m fc4.bias 1.1920928955078125e-06\u001b[32m [repeated 20x across cluster]\u001b[0m\n",
      "\u001b[36m(launch_and_fit pid=12172)\u001b[0m qnn.weights 1.430511474609375e-06\n",
      "\u001b[36m(launch_and_fit pid=12229)\u001b[0m [Client 7, round 15] fit, config: {'learning_rate': 0.001, 'batch_size': '128', 'server_round': 15, 'local_epochs': 10}\n",
      "\u001b[36m(launch_and_fit pid=12229)\u001b[0m Updated model\n"
     ]
    },
    {
     "name": "stderr",
     "output_type": "stream",
     "text": [
      "  0%|\u001b[34m          \u001b[0m| 0/10 [00:00<?, ?it/s]\n",
      "100%|\u001b[34m██████████\u001b[0m| 10/10 [00:58<00:00,  5.84s/it]\n"
     ]
    },
    {
     "name": "stdout",
     "output_type": "stream",
     "text": [
      "\u001b[36m(launch_and_fit pid=12229)\u001b[0m \tTrain Epoch: 1 \tTrain_loss: 0.7242 | Train_acc: 78.0382 % | Validation_loss: 1.1554 | Validation_acc: 65.6991 %\n",
      "\u001b[36m(launch_and_fit pid=12254)\u001b[0m Run with homomorphic encryption\n",
      "\u001b[36m(launch_and_fit pid=12254)\u001b[0m [Client 4, round 15] fit, config: {'learning_rate': 0.001, 'batch_size': '128', 'server_round': 15, 'local_epochs': 10}\n",
      "\u001b[36m(launch_and_fit pid=12254)\u001b[0m Updated model\n"
     ]
    },
    {
     "name": "stderr",
     "output_type": "stream",
     "text": [
      " 10%|\u001b[34m█         \u001b[0m| 1/10 [00:06<00:56,  6.24s/it]\n",
      "  0%|\u001b[34m          \u001b[0m| 0/10 [00:00<?, ?it/s]\n"
     ]
    },
    {
     "name": "stdout",
     "output_type": "stream",
     "text": [
      "\u001b[36m(launch_and_fit pid=12229)\u001b[0m \tTrain Epoch: 2 \tTrain_loss: 0.4293 | Train_acc: 87.9731 % | Validation_loss: 1.1452 | Validation_acc: 65.4027 %\u001b[32m [repeated 2x across cluster]\u001b[0m\n"
     ]
    },
    {
     "name": "stderr",
     "output_type": "stream",
     "text": [
      " 20%|\u001b[34m██        \u001b[0m| 2/10 [00:12<00:48,  6.07s/it]\u001b[32m [repeated 2x across cluster]\u001b[0m\n"
     ]
    },
    {
     "name": "stdout",
     "output_type": "stream",
     "text": [
      "\u001b[36m(launch_and_fit pid=12229)\u001b[0m \tTrain Epoch: 3 \tTrain_loss: 0.2944 | Train_acc: 93.0035 % | Validation_loss: 1.1715 | Validation_acc: 67.1404 %\u001b[32m [repeated 2x across cluster]\u001b[0m\n"
     ]
    },
    {
     "name": "stderr",
     "output_type": "stream",
     "text": [
      " 30%|\u001b[34m███       \u001b[0m| 3/10 [00:18<00:41,  5.96s/it]\u001b[32m [repeated 2x across cluster]\u001b[0m\n"
     ]
    },
    {
     "name": "stdout",
     "output_type": "stream",
     "text": [
      "\u001b[36m(launch_and_fit pid=12229)\u001b[0m \tTrain Epoch: 4 \tTrain_loss: 0.2179 | Train_acc: 95.9201 % | Validation_loss: 1.1456 | Validation_acc: 67.3357 %\u001b[32m [repeated 2x across cluster]\u001b[0m\n"
     ]
    },
    {
     "name": "stderr",
     "output_type": "stream",
     "text": [
      " 40%|\u001b[34m████      \u001b[0m| 4/10 [00:23<00:35,  5.87s/it]\u001b[32m [repeated 2x across cluster]\u001b[0m\n"
     ]
    },
    {
     "name": "stdout",
     "output_type": "stream",
     "text": [
      "\u001b[36m(launch_and_fit pid=12229)\u001b[0m \tTrain Epoch: 5 \tTrain_loss: 0.1809 | Train_acc: 96.9184 % | Validation_loss: 1.1277 | Validation_acc: 65.4027 %\u001b[32m [repeated 2x across cluster]\u001b[0m\n"
     ]
    },
    {
     "name": "stderr",
     "output_type": "stream",
     "text": [
      " 50%|\u001b[34m█████     \u001b[0m| 5/10 [00:29<00:28,  5.76s/it]\u001b[32m [repeated 2x across cluster]\u001b[0m\n"
     ]
    },
    {
     "name": "stdout",
     "output_type": "stream",
     "text": [
      "\u001b[36m(launch_and_fit pid=12229)\u001b[0m \tTrain Epoch: 6 \tTrain_loss: 0.1384 | Train_acc: 98.3290 % | Validation_loss: 1.1675 | Validation_acc: 68.2584 %\u001b[32m [repeated 2x across cluster]\u001b[0m\n"
     ]
    },
    {
     "name": "stderr",
     "output_type": "stream",
     "text": [
      " 60%|\u001b[34m██████    \u001b[0m| 6/10 [00:34<00:22,  5.73s/it]\u001b[32m [repeated 2x across cluster]\u001b[0m\n"
     ]
    },
    {
     "name": "stdout",
     "output_type": "stream",
     "text": [
      "\u001b[36m(launch_and_fit pid=12229)\u001b[0m \tTrain Epoch: 7 \tTrain_loss: 0.1150 | Train_acc: 98.8498 % | Validation_loss: 1.1089 | Validation_acc: 69.5649 %\u001b[32m [repeated 2x across cluster]\u001b[0m\n"
     ]
    },
    {
     "name": "stderr",
     "output_type": "stream",
     "text": [
      " 70%|\u001b[34m███████   \u001b[0m| 7/10 [00:40<00:17,  5.74s/it]\u001b[32m [repeated 2x across cluster]\u001b[0m\n"
     ]
    },
    {
     "name": "stdout",
     "output_type": "stream",
     "text": [
      "\u001b[36m(launch_and_fit pid=12229)\u001b[0m \tTrain Epoch: 8 \tTrain_loss: 0.1064 | Train_acc: 98.9583 % | Validation_loss: 1.1940 | Validation_acc: 68.4537 %\u001b[32m [repeated 2x across cluster]\u001b[0m\n"
     ]
    },
    {
     "name": "stderr",
     "output_type": "stream",
     "text": [
      " 80%|\u001b[34m████████  \u001b[0m| 8/10 [00:46<00:11,  5.86s/it]\u001b[32m [repeated 2x across cluster]\u001b[0m\n"
     ]
    },
    {
     "name": "stdout",
     "output_type": "stream",
     "text": [
      "\u001b[36m(launch_and_fit pid=12229)\u001b[0m \tTrain Epoch: 9 \tTrain_loss: 0.0994 | Train_acc: 99.1753 % | Validation_loss: 1.1551 | Validation_acc: 67.2616 %\u001b[32m [repeated 2x across cluster]\u001b[0m\n"
     ]
    },
    {
     "name": "stderr",
     "output_type": "stream",
     "text": [
      " 90%|\u001b[34m█████████ \u001b[0m| 9/10 [00:52<00:05,  5.80s/it]\u001b[32m [repeated 2x across cluster]\u001b[0m\n"
     ]
    },
    {
     "name": "stdout",
     "output_type": "stream",
     "text": [
      "\u001b[36m(launch_and_fit pid=12229)\u001b[0m save graph in  results/FL/\n",
      "\u001b[36m(launch_and_fit pid=12229)\u001b[0m \tTrain Epoch: 10 \tTrain_loss: 0.0872 | Train_acc: 99.3490 % | Validation_loss: 1.1949 | Validation_acc: 67.0259 %\u001b[32m [repeated 2x across cluster]\u001b[0m\n"
     ]
    },
    {
     "name": "stderr",
     "output_type": "stream",
     "text": [
      "100%|\u001b[34m██████████\u001b[0m| 10/10 [00:58<00:00,  5.82s/it]\u001b[32m [repeated 2x across cluster]\u001b[0m\n"
     ]
    },
    {
     "name": "stdout",
     "output_type": "stream",
     "text": [
      "\u001b[36m(launch_and_fit pid=12229)\u001b[0m network.0.weight 5.4836273193359375e-06\n",
      "\u001b[36m(launch_and_fit pid=12229)\u001b[0m network.0.bias 1.6689300537109375e-06\n",
      "\u001b[36m(launch_and_fit pid=12229)\u001b[0m network.2.weight 1.6689300537109375e-06\n",
      "\u001b[36m(launch_and_fit pid=12229)\u001b[0m network.2.bias 1.1920928955078125e-06\n",
      "\u001b[36m(launch_and_fit pid=12229)\u001b[0m network.5.weight 1.430511474609375e-06\n",
      "\u001b[36m(launch_and_fit pid=12229)\u001b[0m network.5.bias 1.1920928955078125e-06\n",
      "\u001b[36m(launch_and_fit pid=12229)\u001b[0m network.7.weight 1.1920928955078125e-06\n",
      "\u001b[36m(launch_and_fit pid=12229)\u001b[0m network.7.bias 9.5367431640625e-07\n",
      "\u001b[36m(launch_and_fit pid=12229)\u001b[0m network.10.weight 1.1920928955078125e-06\n",
      "\u001b[36m(launch_and_fit pid=12229)\u001b[0m network.10.bias 1.1920928955078125e-06\n",
      "\u001b[36m(launch_and_fit pid=12229)\u001b[0m network.12.weight 1.1920928955078125e-06\n",
      "\u001b[36m(launch_and_fit pid=12229)\u001b[0m network.12.bias 9.5367431640625e-07\n",
      "\u001b[36m(launch_and_fit pid=12229)\u001b[0m network.16.weight 1.430511474609375e-06\n",
      "\u001b[36m(launch_and_fit pid=12229)\u001b[0m network.16.bias 1.1920928955078125e-06\n",
      "\u001b[36m(launch_and_fit pid=12229)\u001b[0m network.18.weight 9.5367431640625e-07\n",
      "\u001b[36m(launch_and_fit pid=12229)\u001b[0m network.18.bias 1.1920928955078125e-06\n",
      "\u001b[36m(launch_and_fit pid=12229)\u001b[0m network.20.weight 1.1920928955078125e-06\n",
      "\u001b[36m(launch_and_fit pid=12229)\u001b[0m network.20.bias 9.5367431640625e-07\n",
      "\u001b[36m(launch_and_fit pid=12229)\u001b[0m qnn.weights 9.5367431640625e-07\n",
      "\u001b[36m(launch_and_fit pid=12229)\u001b[0m fc4.weight 1.1920928955078125e-06\n",
      "\u001b[36m(launch_and_fit pid=12229)\u001b[0m fc4.bias 1.1920928955078125e-06\n"
     ]
    },
    {
     "name": "stderr",
     "output_type": "stream",
     "text": [
      "DEBUG flwr 2024-07-20 20:19:09,609 | server.py:236 | fit_round 15 received 10 results and 0 failures\n"
     ]
    },
    {
     "name": "stdout",
     "output_type": "stream",
     "text": [
      "Saving round 15 aggregated_parameters...\n"
     ]
    },
    {
     "name": "stderr",
     "output_type": "stream",
     "text": [
      "DEBUG flwr 2024-07-20 20:19:10,569 | server.py:173 | evaluate_round 15: strategy sampled 10 clients (out of 10)\n"
     ]
    },
    {
     "name": "stdout",
     "output_type": "stream",
     "text": [
      "\u001b[36m(launch_and_evaluate pid=12321)\u001b[0m Run with homomorphic encryption\n",
      "\u001b[36m(launch_and_fit pid=12254)\u001b[0m save graph in  results/FL/\n",
      "\u001b[36m(launch_and_fit pid=12254)\u001b[0m \tTrain Epoch: 10 \tTrain_loss: 0.0849 | Train_acc: 99.2839 % | Validation_loss: 1.4329 | Validation_acc: 64.7562 %\n",
      "\u001b[36m(launch_and_fit pid=12254)\u001b[0m fc4.bias 1.1920928955078125e-06\u001b[32m [repeated 20x across cluster]\u001b[0m\n",
      "\u001b[36m(launch_and_fit pid=12254)\u001b[0m qnn.weights 1.1920928955078125e-06\n",
      "\u001b[36m(launch_and_evaluate pid=12321)\u001b[0m [Client 2] evaluate, config: {}\n",
      "\u001b[36m(launch_and_evaluate pid=12321)\u001b[0m Updated model\n",
      "\u001b[36m(launch_and_evaluate pid=12399)\u001b[0m Run with homomorphic encryption\u001b[32m [repeated 2x across cluster]\u001b[0m\n",
      "\u001b[36m(launch_and_evaluate pid=12320)\u001b[0m [Client 6] evaluate, config: {}\n",
      "\u001b[36m(launch_and_evaluate pid=12320)\u001b[0m Updated model\n",
      "\u001b[36m(launch_and_evaluate pid=12399)\u001b[0m [Client 4] evaluate, config: {}\n",
      "\u001b[36m(launch_and_evaluate pid=12399)\u001b[0m Updated model\n",
      "\u001b[36m(launch_and_evaluate pid=12477)\u001b[0m Run with homomorphic encryption\u001b[32m [repeated 2x across cluster]\u001b[0m\n",
      "\u001b[36m(launch_and_evaluate pid=12401)\u001b[0m [Client 9] evaluate, config: {}\n",
      "\u001b[36m(launch_and_evaluate pid=12401)\u001b[0m Updated model\n",
      "\u001b[36m(launch_and_evaluate pid=12477)\u001b[0m [Client 8] evaluate, config: {}\n",
      "\u001b[36m(launch_and_evaluate pid=12477)\u001b[0m Updated model\n",
      "\u001b[36m(launch_and_evaluate pid=12555)\u001b[0m Run with homomorphic encryption\u001b[32m [repeated 2x across cluster]\u001b[0m\n",
      "\u001b[36m(launch_and_evaluate pid=12479)\u001b[0m [Client 0] evaluate, config: {}\n",
      "\u001b[36m(launch_and_evaluate pid=12479)\u001b[0m Updated model\n",
      "\u001b[36m(launch_and_evaluate pid=12555)\u001b[0m [Client 1] evaluate, config: {}\n",
      "\u001b[36m(launch_and_evaluate pid=12555)\u001b[0m Updated model\n",
      "\u001b[36m(launch_and_evaluate pid=12633)\u001b[0m Run with homomorphic encryption\u001b[32m [repeated 2x across cluster]\u001b[0m\n",
      "\u001b[36m(launch_and_evaluate pid=12557)\u001b[0m [Client 7] evaluate, config: {}\n",
      "\u001b[36m(launch_and_evaluate pid=12557)\u001b[0m Updated model\n",
      "\u001b[36m(launch_and_evaluate pid=12633)\u001b[0m [Client 3] evaluate, config: {}\n",
      "\u001b[36m(launch_and_evaluate pid=12633)\u001b[0m Updated model\n"
     ]
    },
    {
     "name": "stderr",
     "output_type": "stream",
     "text": [
      "DEBUG flwr 2024-07-20 20:20:39,323 | server.py:187 | evaluate_round 15 received 10 results and 0 failures\n",
      "DEBUG flwr 2024-07-20 20:20:39,324 | server.py:222 | fit_round 16: strategy sampled 10 clients (out of 10)\n"
     ]
    },
    {
     "name": "stdout",
     "output_type": "stream",
     "text": [
      "\u001b[36m(launch_and_fit pid=12720)\u001b[0m Run with homomorphic encryption\u001b[32m [repeated 2x across cluster]\u001b[0m\n",
      "\u001b[36m(launch_and_evaluate pid=12658)\u001b[0m [Client 5] evaluate, config: {}\n",
      "\u001b[36m(launch_and_evaluate pid=12658)\u001b[0m Updated model\n",
      "\u001b[36m(launch_and_fit pid=12720)\u001b[0m [Client 7, round 16] fit, config: {'learning_rate': 0.001, 'batch_size': '128', 'server_round': 16, 'local_epochs': 10}\n"
     ]
    },
    {
     "name": "stderr",
     "output_type": "stream",
     "text": [
      "  0%|\u001b[34m          \u001b[0m| 0/10 [00:00<?, ?it/s]\n",
      "100%|\u001b[34m██████████\u001b[0m| 10/10 [00:58<00:00,  5.83s/it]\n"
     ]
    },
    {
     "name": "stdout",
     "output_type": "stream",
     "text": [
      "\u001b[36m(launch_and_fit pid=12720)\u001b[0m Updated model\n"
     ]
    },
    {
     "name": "stderr",
     "output_type": "stream",
     "text": [
      " 10%|\u001b[34m█         \u001b[0m| 1/10 [00:06<00:55,  6.21s/it]\n",
      "  0%|\u001b[34m          \u001b[0m| 0/10 [00:00<?, ?it/s]\n"
     ]
    },
    {
     "name": "stdout",
     "output_type": "stream",
     "text": [
      "\u001b[36m(launch_and_fit pid=12720)\u001b[0m \tTrain Epoch: 1 \tTrain_loss: 0.6594 | Train_acc: 80.1172 % | Validation_loss: 1.1271 | Validation_acc: 65.5577 %\n",
      "\u001b[36m(launch_and_fit pid=12745)\u001b[0m Run with homomorphic encryption\n",
      "\u001b[36m(launch_and_fit pid=12745)\u001b[0m [Client 2, round 16] fit, config: {'learning_rate': 0.001, 'batch_size': '128', 'server_round': 16, 'local_epochs': 10}\n",
      "\u001b[36m(launch_and_fit pid=12745)\u001b[0m Updated model\n"
     ]
    },
    {
     "name": "stderr",
     "output_type": "stream",
     "text": [
      " 20%|\u001b[34m██        \u001b[0m| 2/10 [00:12<00:48,  6.02s/it]\u001b[32m [repeated 2x across cluster]\u001b[0m\n"
     ]
    },
    {
     "name": "stdout",
     "output_type": "stream",
     "text": [
      "\u001b[36m(launch_and_fit pid=12720)\u001b[0m \tTrain Epoch: 2 \tTrain_loss: 0.3748 | Train_acc: 89.3056 % | Validation_loss: 1.1314 | Validation_acc: 66.2446 %\u001b[32m [repeated 2x across cluster]\u001b[0m\n"
     ]
    },
    {
     "name": "stderr",
     "output_type": "stream",
     "text": [
      " 30%|\u001b[34m███       \u001b[0m| 3/10 [00:17<00:41,  5.87s/it]\u001b[32m [repeated 2x across cluster]\u001b[0m\n"
     ]
    },
    {
     "name": "stdout",
     "output_type": "stream",
     "text": [
      "\u001b[36m(launch_and_fit pid=12720)\u001b[0m \tTrain Epoch: 3 \tTrain_loss: 0.2396 | Train_acc: 94.2405 % | Validation_loss: 1.1133 | Validation_acc: 68.2584 %\u001b[32m [repeated 2x across cluster]\u001b[0m\n"
     ]
    },
    {
     "name": "stderr",
     "output_type": "stream",
     "text": [
      " 40%|\u001b[34m████      \u001b[0m| 4/10 [00:23<00:34,  5.77s/it]\u001b[32m [repeated 2x across cluster]\u001b[0m\n"
     ]
    },
    {
     "name": "stdout",
     "output_type": "stream",
     "text": [
      "\u001b[36m(launch_and_fit pid=12720)\u001b[0m \tTrain Epoch: 4 \tTrain_loss: 0.1692 | Train_acc: 97.0052 % | Validation_loss: 1.1762 | Validation_acc: 68.8443 %\u001b[32m [repeated 2x across cluster]\u001b[0m\n"
     ]
    },
    {
     "name": "stderr",
     "output_type": "stream",
     "text": [
      " 50%|\u001b[34m█████     \u001b[0m| 5/10 [00:29<00:29,  5.82s/it]\u001b[32m [repeated 2x across cluster]\u001b[0m\n"
     ]
    },
    {
     "name": "stdout",
     "output_type": "stream",
     "text": [
      "\u001b[36m(launch_and_fit pid=12720)\u001b[0m \tTrain Epoch: 5 \tTrain_loss: 0.1285 | Train_acc: 97.9514 % | Validation_loss: 1.1059 | Validation_acc: 69.0598 %\u001b[32m [repeated 2x across cluster]\u001b[0m\n"
     ]
    },
    {
     "name": "stderr",
     "output_type": "stream",
     "text": [
      " 60%|\u001b[34m██████    \u001b[0m| 6/10 [00:35<00:23,  5.86s/it]\u001b[32m [repeated 2x across cluster]\u001b[0m\n"
     ]
    },
    {
     "name": "stdout",
     "output_type": "stream",
     "text": [
      "\u001b[36m(launch_and_fit pid=12720)\u001b[0m \tTrain Epoch: 6 \tTrain_loss: 0.0991 | Train_acc: 98.9583 % | Validation_loss: 1.1374 | Validation_acc: 66.1638 %\u001b[32m [repeated 2x across cluster]\u001b[0m\n"
     ]
    },
    {
     "name": "stderr",
     "output_type": "stream",
     "text": [
      " 70%|\u001b[34m███████   \u001b[0m| 7/10 [00:40<00:17,  5.81s/it]\u001b[32m [repeated 2x across cluster]\u001b[0m\n"
     ]
    },
    {
     "name": "stdout",
     "output_type": "stream",
     "text": [
      "\u001b[36m(launch_and_fit pid=12720)\u001b[0m \tTrain Epoch: 7 \tTrain_loss: 0.0869 | Train_acc: 99.1319 % | Validation_loss: 1.1389 | Validation_acc: 67.9081 %\u001b[32m [repeated 2x across cluster]\u001b[0m\n"
     ]
    },
    {
     "name": "stderr",
     "output_type": "stream",
     "text": [
      " 80%|\u001b[34m████████  \u001b[0m| 8/10 [00:46<00:11,  5.82s/it]\u001b[32m [repeated 2x across cluster]\u001b[0m\n"
     ]
    },
    {
     "name": "stdout",
     "output_type": "stream",
     "text": [
      "\u001b[36m(launch_and_fit pid=12720)\u001b[0m \tTrain Epoch: 8 \tTrain_loss: 0.0882 | Train_acc: 99.1753 % | Validation_loss: 1.2341 | Validation_acc: 67.3963 %\u001b[32m [repeated 2x across cluster]\u001b[0m\n"
     ]
    },
    {
     "name": "stderr",
     "output_type": "stream",
     "text": [
      " 90%|\u001b[34m█████████ \u001b[0m| 9/10 [00:52<00:05,  5.82s/it]\u001b[32m [repeated 2x across cluster]\u001b[0m\n"
     ]
    },
    {
     "name": "stdout",
     "output_type": "stream",
     "text": [
      "\u001b[36m(launch_and_fit pid=12720)\u001b[0m \tTrain Epoch: 9 \tTrain_loss: 0.0773 | Train_acc: 99.4358 % | Validation_loss: 1.2000 | Validation_acc: 65.2276 %\u001b[32m [repeated 2x across cluster]\u001b[0m\n"
     ]
    },
    {
     "name": "stderr",
     "output_type": "stream",
     "text": [
      "100%|\u001b[34m██████████\u001b[0m| 10/10 [00:58<00:00,  5.84s/it]\u001b[32m [repeated 2x across cluster]\u001b[0m\n"
     ]
    },
    {
     "name": "stdout",
     "output_type": "stream",
     "text": [
      "\u001b[36m(launch_and_fit pid=12720)\u001b[0m save graph in  results/FL/\n",
      "\u001b[36m(launch_and_fit pid=12720)\u001b[0m \tTrain Epoch: 10 \tTrain_loss: 0.1141 | Train_acc: 98.2769 % | Validation_loss: 1.2955 | Validation_acc: 66.5005 %\u001b[32m [repeated 2x across cluster]\u001b[0m\n",
      "\u001b[36m(launch_and_fit pid=12720)\u001b[0m network.0.weight 4.5299530029296875e-06\n",
      "\u001b[36m(launch_and_fit pid=12720)\u001b[0m network.0.bias 1.1920928955078125e-06\n",
      "\u001b[36m(launch_and_fit pid=12720)\u001b[0m network.2.weight 1.1920928955078125e-06\n",
      "\u001b[36m(launch_and_fit pid=12720)\u001b[0m network.2.bias 9.5367431640625e-07\n",
      "\u001b[36m(launch_and_fit pid=12720)\u001b[0m network.5.weight 1.1920928955078125e-06\n",
      "\u001b[36m(launch_and_fit pid=12720)\u001b[0m network.5.bias 1.1920928955078125e-06\n",
      "\u001b[36m(launch_and_fit pid=12720)\u001b[0m network.7.weight 1.1920928955078125e-06\n",
      "\u001b[36m(launch_and_fit pid=12720)\u001b[0m network.7.bias 9.5367431640625e-07\n",
      "\u001b[36m(launch_and_fit pid=12720)\u001b[0m network.10.weight 1.1920928955078125e-06\n",
      "\u001b[36m(launch_and_fit pid=12720)\u001b[0m network.10.bias 9.5367431640625e-07\n",
      "\u001b[36m(launch_and_fit pid=12720)\u001b[0m network.12.weight 9.5367431640625e-07\n",
      "\u001b[36m(launch_and_fit pid=12720)\u001b[0m network.12.bias 1.430511474609375e-06\n",
      "\u001b[36m(launch_and_fit pid=12720)\u001b[0m network.16.weight 1.6689300537109375e-06\n",
      "\u001b[36m(launch_and_fit pid=12720)\u001b[0m network.16.bias 1.6689300537109375e-06\n",
      "\u001b[36m(launch_and_fit pid=12720)\u001b[0m network.18.weight 1.430511474609375e-06\n",
      "\u001b[36m(launch_and_fit pid=12720)\u001b[0m network.18.bias 9.5367431640625e-07\n",
      "\u001b[36m(launch_and_fit pid=12720)\u001b[0m network.20.weight 1.1920928955078125e-06\n",
      "\u001b[36m(launch_and_fit pid=12720)\u001b[0m network.20.bias 1.430511474609375e-06\n",
      "\u001b[36m(launch_and_fit pid=12720)\u001b[0m qnn.weights 9.5367431640625e-07\n",
      "\u001b[36m(launch_and_fit pid=12720)\u001b[0m fc4.weight 1.1920928955078125e-06\n",
      "\u001b[36m(launch_and_fit pid=12720)\u001b[0m fc4.bias 1.1920928955078125e-06\n",
      "\u001b[36m(launch_and_fit pid=12803)\u001b[0m Run with homomorphic encryption\n",
      "\u001b[36m(launch_and_fit pid=12745)\u001b[0m save graph in  results/FL/\n",
      "\u001b[36m(launch_and_fit pid=12745)\u001b[0m \tTrain Epoch: 10 \tTrain_loss: 0.0632 | Train_acc: 99.5009 % | Validation_loss: 1.5140 | Validation_acc: 62.1565 %\n",
      "\u001b[36m(launch_and_fit pid=12745)\u001b[0m fc4.bias 1.9073486328125e-06\u001b[32m [repeated 20x across cluster]\u001b[0m\n",
      "\u001b[36m(launch_and_fit pid=12745)\u001b[0m qnn.weights 1.6689300537109375e-06\n",
      "\u001b[36m(launch_and_fit pid=12803)\u001b[0m [Client 9, round 16] fit, config: {'learning_rate': 0.001, 'batch_size': '128', 'server_round': 16, 'local_epochs': 10}\n",
      "\u001b[36m(launch_and_fit pid=12803)\u001b[0m Updated model\n"
     ]
    },
    {
     "name": "stderr",
     "output_type": "stream",
     "text": [
      "  0%|\u001b[34m          \u001b[0m| 0/10 [00:00<?, ?it/s]\n",
      "100%|\u001b[34m██████████\u001b[0m| 10/10 [00:57<00:00,  5.77s/it]\n"
     ]
    },
    {
     "name": "stdout",
     "output_type": "stream",
     "text": [
      "\u001b[36m(launch_and_fit pid=12803)\u001b[0m \tTrain Epoch: 1 \tTrain_loss: 0.6960 | Train_acc: 78.7023 % | Validation_loss: 1.3036 | Validation_acc: 62.5673 %\n",
      "\u001b[36m(launch_and_fit pid=12805)\u001b[0m Run with homomorphic encryption\n",
      "\u001b[36m(launch_and_fit pid=12805)\u001b[0m [Client 3, round 16] fit, config: {'learning_rate': 0.001, 'batch_size': '128', 'server_round': 16, 'local_epochs': 10}\n",
      "\u001b[36m(launch_and_fit pid=12805)\u001b[0m Updated model\n"
     ]
    },
    {
     "name": "stderr",
     "output_type": "stream",
     "text": [
      " 10%|\u001b[34m█         \u001b[0m| 1/10 [00:06<00:55,  6.21s/it]\n",
      "  0%|\u001b[34m          \u001b[0m| 0/10 [00:00<?, ?it/s]\n"
     ]
    },
    {
     "name": "stdout",
     "output_type": "stream",
     "text": [
      "\u001b[36m(launch_and_fit pid=12803)\u001b[0m \tTrain Epoch: 2 \tTrain_loss: 0.3826 | Train_acc: 88.6849 % | Validation_loss: 1.3522 | Validation_acc: 62.1363 %\u001b[32m [repeated 2x across cluster]\u001b[0m\n"
     ]
    },
    {
     "name": "stderr",
     "output_type": "stream",
     "text": [
      " 20%|\u001b[34m██        \u001b[0m| 2/10 [00:11<00:47,  5.88s/it]\u001b[32m [repeated 2x across cluster]\u001b[0m\n"
     ]
    },
    {
     "name": "stdout",
     "output_type": "stream",
     "text": [
      "\u001b[36m(launch_and_fit pid=12803)\u001b[0m \tTrain Epoch: 3 \tTrain_loss: 0.2271 | Train_acc: 95.0217 % | Validation_loss: 1.3063 | Validation_acc: 64.0154 %\u001b[32m [repeated 2x across cluster]\u001b[0m\n"
     ]
    },
    {
     "name": "stderr",
     "output_type": "stream",
     "text": [
      " 30%|\u001b[34m███       \u001b[0m| 3/10 [00:17<00:40,  5.84s/it]\u001b[32m [repeated 2x across cluster]\u001b[0m\n"
     ]
    },
    {
     "name": "stdout",
     "output_type": "stream",
     "text": [
      "\u001b[36m(launch_and_fit pid=12803)\u001b[0m \tTrain Epoch: 4 \tTrain_loss: 0.1629 | Train_acc: 97.2656 % | Validation_loss: 1.2508 | Validation_acc: 66.1840 %\u001b[32m [repeated 2x across cluster]\u001b[0m\n"
     ]
    },
    {
     "name": "stderr",
     "output_type": "stream",
     "text": [
      " 40%|\u001b[34m████      \u001b[0m| 4/10 [00:23<00:35,  5.95s/it]\u001b[32m [repeated 2x across cluster]\u001b[0m\n"
     ]
    },
    {
     "name": "stdout",
     "output_type": "stream",
     "text": [
      "\u001b[36m(launch_and_fit pid=12803)\u001b[0m \tTrain Epoch: 5 \tTrain_loss: 0.1295 | Train_acc: 98.0903 % | Validation_loss: 1.3626 | Validation_acc: 65.0121 %\u001b[32m [repeated 2x across cluster]\u001b[0m\n"
     ]
    },
    {
     "name": "stderr",
     "output_type": "stream",
     "text": [
      " 50%|\u001b[34m█████     \u001b[0m| 5/10 [00:29<00:29,  5.96s/it]\u001b[32m [repeated 2x across cluster]\u001b[0m\n"
     ]
    },
    {
     "name": "stdout",
     "output_type": "stream",
     "text": [
      "\u001b[36m(launch_and_fit pid=12803)\u001b[0m \tTrain Epoch: 6 \tTrain_loss: 0.1047 | Train_acc: 98.6979 % | Validation_loss: 1.2961 | Validation_acc: 66.8305 %\u001b[32m [repeated 2x across cluster]\u001b[0m\n"
     ]
    },
    {
     "name": "stderr",
     "output_type": "stream",
     "text": [
      " 60%|\u001b[34m██████    \u001b[0m| 6/10 [00:35<00:23,  5.87s/it]\u001b[32m [repeated 2x across cluster]\u001b[0m\n"
     ]
    },
    {
     "name": "stdout",
     "output_type": "stream",
     "text": [
      "\u001b[36m(launch_and_fit pid=12803)\u001b[0m \tTrain Epoch: 7 \tTrain_loss: 0.0857 | Train_acc: 99.0885 % | Validation_loss: 1.3162 | Validation_acc: 66.4197 %\u001b[32m [repeated 2x across cluster]\u001b[0m\n"
     ]
    },
    {
     "name": "stderr",
     "output_type": "stream",
     "text": [
      " 70%|\u001b[34m███████   \u001b[0m| 7/10 [00:41<00:17,  5.86s/it]\u001b[32m [repeated 2x across cluster]\u001b[0m\n"
     ]
    },
    {
     "name": "stdout",
     "output_type": "stream",
     "text": [
      "\u001b[36m(launch_and_fit pid=12803)\u001b[0m \tTrain Epoch: 8 \tTrain_loss: 0.0717 | Train_acc: 99.4358 % | Validation_loss: 1.2979 | Validation_acc: 65.1872 %\u001b[32m [repeated 2x across cluster]\u001b[0m\n"
     ]
    },
    {
     "name": "stderr",
     "output_type": "stream",
     "text": [
      " 80%|\u001b[34m████████  \u001b[0m| 8/10 [00:47<00:11,  5.84s/it]\u001b[32m [repeated 2x across cluster]\u001b[0m\n"
     ]
    },
    {
     "name": "stdout",
     "output_type": "stream",
     "text": [
      "\u001b[36m(launch_and_fit pid=12803)\u001b[0m \tTrain Epoch: 9 \tTrain_loss: 0.0685 | Train_acc: 99.4141 % | Validation_loss: 1.2938 | Validation_acc: 65.8136 %\u001b[32m [repeated 2x across cluster]\u001b[0m\n"
     ]
    },
    {
     "name": "stderr",
     "output_type": "stream",
     "text": [
      " 90%|\u001b[34m█████████ \u001b[0m| 9/10 [00:53<00:05,  5.90s/it]\u001b[32m [repeated 2x across cluster]\u001b[0m\n"
     ]
    },
    {
     "name": "stdout",
     "output_type": "stream",
     "text": [
      "\u001b[36m(launch_and_fit pid=12803)\u001b[0m save graph in  results/FL/\n",
      "\u001b[36m(launch_and_fit pid=12803)\u001b[0m \tTrain Epoch: 10 \tTrain_loss: 0.0651 | Train_acc: 99.4358 % | Validation_loss: 1.3556 | Validation_acc: 66.0291 %\u001b[32m [repeated 2x across cluster]\u001b[0m\n"
     ]
    },
    {
     "name": "stderr",
     "output_type": "stream",
     "text": [
      "100%|\u001b[34m██████████\u001b[0m| 10/10 [00:58<00:00,  5.89s/it]\u001b[32m [repeated 2x across cluster]\u001b[0m\n"
     ]
    },
    {
     "name": "stdout",
     "output_type": "stream",
     "text": [
      "\u001b[36m(launch_and_fit pid=12803)\u001b[0m network.0.weight 5.9604644775390625e-06\n",
      "\u001b[36m(launch_and_fit pid=12803)\u001b[0m network.0.bias 1.1920928955078125e-06\n",
      "\u001b[36m(launch_and_fit pid=12803)\u001b[0m network.2.weight 1.6689300537109375e-06\n",
      "\u001b[36m(launch_and_fit pid=12803)\u001b[0m network.2.bias 2.1457672119140625e-06\n",
      "\u001b[36m(launch_and_fit pid=12803)\u001b[0m network.5.weight 2.1457672119140625e-06\n",
      "\u001b[36m(launch_and_fit pid=12803)\u001b[0m network.5.bias 1.1920928955078125e-06\n",
      "\u001b[36m(launch_and_fit pid=12803)\u001b[0m network.7.weight 1.430511474609375e-06\n",
      "\u001b[36m(launch_and_fit pid=12803)\u001b[0m network.7.bias 9.5367431640625e-07\n",
      "\u001b[36m(launch_and_fit pid=12803)\u001b[0m network.10.weight 1.430511474609375e-06\n",
      "\u001b[36m(launch_and_fit pid=12803)\u001b[0m network.10.bias 1.1920928955078125e-06\n",
      "\u001b[36m(launch_and_fit pid=12803)\u001b[0m network.12.weight 9.5367431640625e-07\n",
      "\u001b[36m(launch_and_fit pid=12803)\u001b[0m network.12.bias 1.430511474609375e-06\n",
      "\u001b[36m(launch_and_fit pid=12803)\u001b[0m network.16.weight 1.1920928955078125e-06\n",
      "\u001b[36m(launch_and_fit pid=12803)\u001b[0m network.16.bias 9.5367431640625e-07\n",
      "\u001b[36m(launch_and_fit pid=12803)\u001b[0m network.18.weight 1.1920928955078125e-06\n",
      "\u001b[36m(launch_and_fit pid=12803)\u001b[0m network.18.bias 1.1920928955078125e-06\n",
      "\u001b[36m(launch_and_fit pid=12803)\u001b[0m network.20.weight 9.5367431640625e-07\n",
      "\u001b[36m(launch_and_fit pid=12803)\u001b[0m network.20.bias 9.5367431640625e-07\n",
      "\u001b[36m(launch_and_fit pid=12803)\u001b[0m qnn.weights 1.1920928955078125e-06\n",
      "\u001b[36m(launch_and_fit pid=12803)\u001b[0m fc4.weight 1.1920928955078125e-06\n",
      "\u001b[36m(launch_and_fit pid=12803)\u001b[0m fc4.bias 9.5367431640625e-07\n",
      "\u001b[36m(launch_and_fit pid=12885)\u001b[0m Run with homomorphic encryption\n",
      "\u001b[36m(launch_and_fit pid=12805)\u001b[0m save graph in  results/FL/\n",
      "\u001b[36m(launch_and_fit pid=12805)\u001b[0m \tTrain Epoch: 10 \tTrain_loss: 0.0646 | Train_acc: 99.5443 % | Validation_loss: 1.2715 | Validation_acc: 65.7732 %\n",
      "\u001b[36m(launch_and_fit pid=12805)\u001b[0m fc4.bias 9.5367431640625e-07\u001b[32m [repeated 20x across cluster]\u001b[0m\n",
      "\u001b[36m(launch_and_fit pid=12805)\u001b[0m qnn.weights 9.5367431640625e-07\n",
      "\u001b[36m(launch_and_fit pid=12885)\u001b[0m [Client 5, round 16] fit, config: {'learning_rate': 0.001, 'batch_size': '128', 'server_round': 16, 'local_epochs': 10}\n"
     ]
    },
    {
     "name": "stderr",
     "output_type": "stream",
     "text": [
      "  0%|\u001b[34m          \u001b[0m| 0/10 [00:00<?, ?it/s]\n",
      "100%|\u001b[34m██████████\u001b[0m| 10/10 [00:58<00:00,  5.86s/it]\n"
     ]
    },
    {
     "name": "stdout",
     "output_type": "stream",
     "text": [
      "\u001b[36m(launch_and_fit pid=12885)\u001b[0m Updated model\n"
     ]
    },
    {
     "name": "stderr",
     "output_type": "stream",
     "text": [
      " 10%|\u001b[34m█         \u001b[0m| 1/10 [00:06<01:02,  6.91s/it]\n",
      "  0%|\u001b[34m          \u001b[0m| 0/10 [00:00<?, ?it/s]\n"
     ]
    },
    {
     "name": "stdout",
     "output_type": "stream",
     "text": [
      "\u001b[36m(launch_and_fit pid=12885)\u001b[0m \tTrain Epoch: 1 \tTrain_loss: 0.6732 | Train_acc: 78.6024 % | Validation_loss: 1.2188 | Validation_acc: 67.7465 %\n",
      "\u001b[36m(launch_and_fit pid=12887)\u001b[0m Run with homomorphic encryption\n",
      "\u001b[36m(launch_and_fit pid=12887)\u001b[0m [Client 8, round 16] fit, config: {'learning_rate': 0.001, 'batch_size': '128', 'server_round': 16, 'local_epochs': 10}\n",
      "\u001b[36m(launch_and_fit pid=12887)\u001b[0m Updated model\n"
     ]
    },
    {
     "name": "stderr",
     "output_type": "stream",
     "text": [
      " 20%|\u001b[34m██        \u001b[0m| 2/10 [00:12<00:51,  6.41s/it]\u001b[32m [repeated 2x across cluster]\u001b[0m\n"
     ]
    },
    {
     "name": "stdout",
     "output_type": "stream",
     "text": [
      "\u001b[36m(launch_and_fit pid=12885)\u001b[0m \tTrain Epoch: 2 \tTrain_loss: 0.3630 | Train_acc: 89.5790 % | Validation_loss: 1.1848 | Validation_acc: 67.2212 %\u001b[32m [repeated 2x across cluster]\u001b[0m\n"
     ]
    },
    {
     "name": "stderr",
     "output_type": "stream",
     "text": [
      " 30%|\u001b[34m███       \u001b[0m| 3/10 [00:18<00:42,  6.12s/it]\u001b[32m [repeated 2x across cluster]\u001b[0m\n"
     ]
    },
    {
     "name": "stdout",
     "output_type": "stream",
     "text": [
      "\u001b[36m(launch_and_fit pid=12885)\u001b[0m \tTrain Epoch: 3 \tTrain_loss: 0.2486 | Train_acc: 93.8281 % | Validation_loss: 1.1637 | Validation_acc: 70.1509 %\u001b[32m [repeated 2x across cluster]\u001b[0m\n"
     ]
    },
    {
     "name": "stderr",
     "output_type": "stream",
     "text": [
      " 40%|\u001b[34m████      \u001b[0m| 4/10 [00:24<00:35,  5.97s/it]\u001b[32m [repeated 2x across cluster]\u001b[0m\n"
     ]
    },
    {
     "name": "stdout",
     "output_type": "stream",
     "text": [
      "\u001b[36m(launch_and_fit pid=12885)\u001b[0m \tTrain Epoch: 4 \tTrain_loss: 0.1835 | Train_acc: 96.3021 % | Validation_loss: 1.2109 | Validation_acc: 67.4165 %\u001b[32m [repeated 2x across cluster]\u001b[0m\n"
     ]
    },
    {
     "name": "stderr",
     "output_type": "stream",
     "text": [
      " 50%|\u001b[34m█████     \u001b[0m| 5/10 [00:30<00:29,  5.88s/it]\u001b[32m [repeated 2x across cluster]\u001b[0m\n"
     ]
    },
    {
     "name": "stdout",
     "output_type": "stream",
     "text": [
      "\u001b[36m(launch_and_fit pid=12885)\u001b[0m \tTrain Epoch: 5 \tTrain_loss: 0.1518 | Train_acc: 97.6780 % | Validation_loss: 1.1962 | Validation_acc: 70.1711 %\u001b[32m [repeated 2x across cluster]\u001b[0m\n"
     ]
    },
    {
     "name": "stderr",
     "output_type": "stream",
     "text": [
      " 60%|\u001b[34m██████    \u001b[0m| 6/10 [00:36<00:23,  5.85s/it]\u001b[32m [repeated 2x across cluster]\u001b[0m\n"
     ]
    },
    {
     "name": "stdout",
     "output_type": "stream",
     "text": [
      "\u001b[36m(launch_and_fit pid=12885)\u001b[0m \tTrain Epoch: 6 \tTrain_loss: 0.1104 | Train_acc: 98.5677 % | Validation_loss: 1.1812 | Validation_acc: 70.0566 %\u001b[32m [repeated 2x across cluster]\u001b[0m\n"
     ]
    },
    {
     "name": "stderr",
     "output_type": "stream",
     "text": [
      " 70%|\u001b[34m███████   \u001b[0m| 7/10 [00:41<00:17,  5.86s/it]\u001b[32m [repeated 2x across cluster]\u001b[0m\n"
     ]
    },
    {
     "name": "stdout",
     "output_type": "stream",
     "text": [
      "\u001b[36m(launch_and_fit pid=12885)\u001b[0m \tTrain Epoch: 7 \tTrain_loss: 0.0920 | Train_acc: 98.8845 % | Validation_loss: 1.2226 | Validation_acc: 69.8209 %\u001b[32m [repeated 2x across cluster]\u001b[0m\n"
     ]
    },
    {
     "name": "stderr",
     "output_type": "stream",
     "text": [
      " 80%|\u001b[34m████████  \u001b[0m| 8/10 [00:47<00:11,  5.84s/it]\u001b[32m [repeated 2x across cluster]\u001b[0m\n"
     ]
    },
    {
     "name": "stdout",
     "output_type": "stream",
     "text": [
      "\u001b[36m(launch_and_fit pid=12885)\u001b[0m \tTrain Epoch: 8 \tTrain_loss: 0.0865 | Train_acc: 99.0885 % | Validation_loss: 1.2050 | Validation_acc: 68.8241 %\u001b[32m [repeated 2x across cluster]\u001b[0m\n"
     ]
    },
    {
     "name": "stderr",
     "output_type": "stream",
     "text": [
      " 90%|\u001b[34m█████████ \u001b[0m| 9/10 [00:53<00:05,  5.79s/it]\u001b[32m [repeated 2x across cluster]\u001b[0m\n"
     ]
    },
    {
     "name": "stdout",
     "output_type": "stream",
     "text": [
      "\u001b[36m(launch_and_fit pid=12885)\u001b[0m \tTrain Epoch: 9 \tTrain_loss: 0.0718 | Train_acc: 99.4141 % | Validation_loss: 1.2121 | Validation_acc: 69.4100 %\u001b[32m [repeated 2x across cluster]\u001b[0m\n"
     ]
    },
    {
     "name": "stderr",
     "output_type": "stream",
     "text": [
      "100%|\u001b[34m██████████\u001b[0m| 10/10 [00:59<00:00,  5.90s/it]\u001b[32m [repeated 2x across cluster]\u001b[0m\n"
     ]
    },
    {
     "name": "stdout",
     "output_type": "stream",
     "text": [
      "\u001b[36m(launch_and_fit pid=12885)\u001b[0m save graph in  results/FL/\n",
      "\u001b[36m(launch_and_fit pid=12885)\u001b[0m \tTrain Epoch: 10 \tTrain_loss: 0.0656 | Train_acc: 99.5009 % | Validation_loss: 1.2230 | Validation_acc: 69.8613 %\u001b[32m [repeated 2x across cluster]\u001b[0m\n",
      "\u001b[36m(launch_and_fit pid=12885)\u001b[0m network.0.weight 5.245208740234375e-06\n",
      "\u001b[36m(launch_and_fit pid=12885)\u001b[0m network.0.bias 1.9073486328125e-06\n",
      "\u001b[36m(launch_and_fit pid=12885)\u001b[0m network.2.weight 9.5367431640625e-07\n",
      "\u001b[36m(launch_and_fit pid=12885)\u001b[0m network.2.bias 9.5367431640625e-07\n",
      "\u001b[36m(launch_and_fit pid=12885)\u001b[0m network.5.weight 9.5367431640625e-07\n",
      "\u001b[36m(launch_and_fit pid=12885)\u001b[0m network.5.bias 9.5367431640625e-07\n",
      "\u001b[36m(launch_and_fit pid=12885)\u001b[0m network.7.weight 9.5367431640625e-07\n",
      "\u001b[36m(launch_and_fit pid=12885)\u001b[0m network.7.bias 1.1920928955078125e-06\n",
      "\u001b[36m(launch_and_fit pid=12885)\u001b[0m network.10.weight 9.5367431640625e-07\n",
      "\u001b[36m(launch_and_fit pid=12885)\u001b[0m network.10.bias 9.5367431640625e-07\n",
      "\u001b[36m(launch_and_fit pid=12885)\u001b[0m network.12.weight 1.1920928955078125e-06\n",
      "\u001b[36m(launch_and_fit pid=12885)\u001b[0m network.12.bias 9.5367431640625e-07\n",
      "\u001b[36m(launch_and_fit pid=12885)\u001b[0m network.16.weight 1.1920928955078125e-06\n",
      "\u001b[36m(launch_and_fit pid=12885)\u001b[0m network.16.bias 1.9073486328125e-06\n",
      "\u001b[36m(launch_and_fit pid=12885)\u001b[0m network.18.weight 1.430511474609375e-06\n",
      "\u001b[36m(launch_and_fit pid=12885)\u001b[0m network.18.bias 9.5367431640625e-07\n",
      "\u001b[36m(launch_and_fit pid=12885)\u001b[0m network.20.weight 1.1920928955078125e-06\n",
      "\u001b[36m(launch_and_fit pid=12885)\u001b[0m network.20.bias 9.5367431640625e-07\n",
      "\u001b[36m(launch_and_fit pid=12885)\u001b[0m qnn.weights 9.5367431640625e-07\n",
      "\u001b[36m(launch_and_fit pid=12885)\u001b[0m fc4.weight 1.430511474609375e-06\n",
      "\u001b[36m(launch_and_fit pid=12885)\u001b[0m fc4.bias 1.1920928955078125e-06\n",
      "\u001b[36m(launch_and_fit pid=12969)\u001b[0m Run with homomorphic encryption\n",
      "\u001b[36m(launch_and_fit pid=12887)\u001b[0m save graph in  results/FL/\n",
      "\u001b[36m(launch_and_fit pid=12887)\u001b[0m \tTrain Epoch: 10 \tTrain_loss: 0.0736 | Train_acc: 99.1536 % | Validation_loss: 1.3195 | Validation_acc: 64.5070 %\n",
      "\u001b[36m(launch_and_fit pid=12887)\u001b[0m fc4.bias 1.430511474609375e-06\u001b[32m [repeated 20x across cluster]\u001b[0m\n",
      "\u001b[36m(launch_and_fit pid=12887)\u001b[0m qnn.weights 1.9073486328125e-06\n",
      "\u001b[36m(launch_and_fit pid=12969)\u001b[0m [Client 6, round 16] fit, config: {'learning_rate': 0.001, 'batch_size': '128', 'server_round': 16, 'local_epochs': 10}\n"
     ]
    },
    {
     "name": "stderr",
     "output_type": "stream",
     "text": [
      "  0%|\u001b[34m          \u001b[0m| 0/10 [00:00<?, ?it/s]\n",
      "100%|\u001b[34m██████████\u001b[0m| 10/10 [00:59<00:00,  5.90s/it]\n"
     ]
    },
    {
     "name": "stdout",
     "output_type": "stream",
     "text": [
      "\u001b[36m(launch_and_fit pid=12969)\u001b[0m Updated model\n"
     ]
    },
    {
     "name": "stderr",
     "output_type": "stream",
     "text": [
      " 10%|\u001b[34m█         \u001b[0m| 1/10 [00:06<00:56,  6.23s/it]\n",
      "  0%|\u001b[34m          \u001b[0m| 0/10 [00:00<?, ?it/s]\n"
     ]
    },
    {
     "name": "stdout",
     "output_type": "stream",
     "text": [
      "\u001b[36m(launch_and_fit pid=12969)\u001b[0m \tTrain Epoch: 1 \tTrain_loss: 0.6859 | Train_acc: 78.3767 % | Validation_loss: 1.1765 | Validation_acc: 65.2680 %\n",
      "\u001b[36m(launch_and_fit pid=12970)\u001b[0m Run with homomorphic encryption\n",
      "\u001b[36m(launch_and_fit pid=12970)\u001b[0m [Client 0, round 16] fit, config: {'learning_rate': 0.001, 'batch_size': '128', 'server_round': 16, 'local_epochs': 10}\n",
      "\u001b[36m(launch_and_fit pid=12970)\u001b[0m Updated model\n"
     ]
    },
    {
     "name": "stderr",
     "output_type": "stream",
     "text": [
      " 20%|\u001b[34m██        \u001b[0m| 2/10 [00:11<00:46,  5.83s/it]\u001b[32m [repeated 2x across cluster]\u001b[0m\n"
     ]
    },
    {
     "name": "stdout",
     "output_type": "stream",
     "text": [
      "\u001b[36m(launch_and_fit pid=12969)\u001b[0m \tTrain Epoch: 2 \tTrain_loss: 0.4133 | Train_acc: 88.1076 % | Validation_loss: 1.2592 | Validation_acc: 63.6853 %\u001b[32m [repeated 2x across cluster]\u001b[0m\n"
     ]
    },
    {
     "name": "stderr",
     "output_type": "stream",
     "text": [
      " 30%|\u001b[34m███       \u001b[0m| 3/10 [00:17<00:40,  5.77s/it]\u001b[32m [repeated 2x across cluster]\u001b[0m\n"
     ]
    },
    {
     "name": "stdout",
     "output_type": "stream",
     "text": [
      "\u001b[36m(launch_and_fit pid=12969)\u001b[0m \tTrain Epoch: 3 \tTrain_loss: 0.2858 | Train_acc: 92.7474 % | Validation_loss: 1.2632 | Validation_acc: 61.6447 %\u001b[32m [repeated 2x across cluster]\u001b[0m\n"
     ]
    },
    {
     "name": "stderr",
     "output_type": "stream",
     "text": [
      " 40%|\u001b[34m████      \u001b[0m| 4/10 [00:23<00:34,  5.69s/it]\u001b[32m [repeated 2x across cluster]\u001b[0m\n"
     ]
    },
    {
     "name": "stdout",
     "output_type": "stream",
     "text": [
      "\u001b[36m(launch_and_fit pid=12969)\u001b[0m \tTrain Epoch: 4 \tTrain_loss: 0.2270 | Train_acc: 94.6311 % | Validation_loss: 1.2487 | Validation_acc: 65.5172 %\u001b[32m [repeated 2x across cluster]\u001b[0m\n"
     ]
    },
    {
     "name": "stderr",
     "output_type": "stream",
     "text": [
      " 50%|\u001b[34m█████     \u001b[0m| 5/10 [00:28<00:28,  5.75s/it]\u001b[32m [repeated 2x across cluster]\u001b[0m\n"
     ]
    },
    {
     "name": "stdout",
     "output_type": "stream",
     "text": [
      "\u001b[36m(launch_and_fit pid=12969)\u001b[0m \tTrain Epoch: 5 \tTrain_loss: 0.1651 | Train_acc: 96.8229 % | Validation_loss: 1.2055 | Validation_acc: 65.5981 %\u001b[32m [repeated 2x across cluster]\u001b[0m\n"
     ]
    },
    {
     "name": "stderr",
     "output_type": "stream",
     "text": [
      " 60%|\u001b[34m██████    \u001b[0m| 6/10 [00:34<00:23,  5.84s/it]\u001b[32m [repeated 2x across cluster]\u001b[0m\n"
     ]
    },
    {
     "name": "stdout",
     "output_type": "stream",
     "text": [
      "\u001b[36m(launch_and_fit pid=12969)\u001b[0m \tTrain Epoch: 6 \tTrain_loss: 0.1400 | Train_acc: 97.8516 % | Validation_loss: 1.2800 | Validation_acc: 64.6417 %\u001b[32m [repeated 2x across cluster]\u001b[0m\n"
     ]
    },
    {
     "name": "stderr",
     "output_type": "stream",
     "text": [
      " 70%|\u001b[34m███████   \u001b[0m| 7/10 [00:40<00:17,  5.84s/it]\u001b[32m [repeated 2x across cluster]\u001b[0m\n"
     ]
    },
    {
     "name": "stdout",
     "output_type": "stream",
     "text": [
      "\u001b[36m(launch_and_fit pid=12969)\u001b[0m \tTrain Epoch: 7 \tTrain_loss: 0.1126 | Train_acc: 98.4375 % | Validation_loss: 1.2643 | Validation_acc: 65.5981 %\u001b[32m [repeated 2x across cluster]\u001b[0m\n"
     ]
    },
    {
     "name": "stderr",
     "output_type": "stream",
     "text": [
      " 80%|\u001b[34m████████  \u001b[0m| 8/10 [00:46<00:11,  5.78s/it]\u001b[32m [repeated 2x across cluster]\u001b[0m\n"
     ]
    },
    {
     "name": "stdout",
     "output_type": "stream",
     "text": [
      "\u001b[36m(launch_and_fit pid=12969)\u001b[0m \tTrain Epoch: 8 \tTrain_loss: 0.0983 | Train_acc: 98.8194 % | Validation_loss: 1.2802 | Validation_acc: 63.9952 %\u001b[32m [repeated 2x across cluster]\u001b[0m\n"
     ]
    },
    {
     "name": "stderr",
     "output_type": "stream",
     "text": [
      " 90%|\u001b[34m█████████ \u001b[0m| 9/10 [00:52<00:05,  5.78s/it]\u001b[32m [repeated 2x across cluster]\u001b[0m\n"
     ]
    },
    {
     "name": "stdout",
     "output_type": "stream",
     "text": [
      "\u001b[36m(launch_and_fit pid=12969)\u001b[0m \tTrain Epoch: 9 \tTrain_loss: 0.1015 | Train_acc: 98.6111 % | Validation_loss: 1.2228 | Validation_acc: 67.3963 %\u001b[32m [repeated 2x across cluster]\u001b[0m\n"
     ]
    },
    {
     "name": "stderr",
     "output_type": "stream",
     "text": [
      "100%|\u001b[34m██████████\u001b[0m| 10/10 [00:58<00:00,  5.81s/it]\u001b[32m [repeated 2x across cluster]\u001b[0m\n"
     ]
    },
    {
     "name": "stdout",
     "output_type": "stream",
     "text": [
      "\u001b[36m(launch_and_fit pid=12969)\u001b[0m save graph in  results/FL/\n",
      "\u001b[36m(launch_and_fit pid=12969)\u001b[0m \tTrain Epoch: 10 \tTrain_loss: 0.0782 | Train_acc: 99.1102 % | Validation_loss: 1.2770 | Validation_acc: 66.0830 %\u001b[32m [repeated 2x across cluster]\u001b[0m\n",
      "\u001b[36m(launch_and_fit pid=12969)\u001b[0m network.0.weight 4.5299530029296875e-06\n",
      "\u001b[36m(launch_and_fit pid=12969)\u001b[0m network.0.bias 1.1920928955078125e-06\n",
      "\u001b[36m(launch_and_fit pid=12969)\u001b[0m network.2.weight 9.5367431640625e-07\n",
      "\u001b[36m(launch_and_fit pid=12969)\u001b[0m network.2.bias 1.1920928955078125e-06\n",
      "\u001b[36m(launch_and_fit pid=12969)\u001b[0m network.5.weight 9.5367431640625e-07\n",
      "\u001b[36m(launch_and_fit pid=12969)\u001b[0m network.5.bias 1.6689300537109375e-06\n",
      "\u001b[36m(launch_and_fit pid=12969)\u001b[0m network.7.weight 1.1920928955078125e-06\n",
      "\u001b[36m(launch_and_fit pid=12969)\u001b[0m network.7.bias 9.5367431640625e-07\n",
      "\u001b[36m(launch_and_fit pid=12969)\u001b[0m network.10.weight 1.430511474609375e-06\n",
      "\u001b[36m(launch_and_fit pid=12969)\u001b[0m network.10.bias 1.1920928955078125e-06\n",
      "\u001b[36m(launch_and_fit pid=12969)\u001b[0m network.12.weight 9.5367431640625e-07\n",
      "\u001b[36m(launch_and_fit pid=12969)\u001b[0m network.12.bias 9.5367431640625e-07\n",
      "\u001b[36m(launch_and_fit pid=12969)\u001b[0m network.16.weight 9.5367431640625e-07\n",
      "\u001b[36m(launch_and_fit pid=12969)\u001b[0m network.16.bias 9.5367431640625e-07\n",
      "\u001b[36m(launch_and_fit pid=12969)\u001b[0m network.18.weight 9.5367431640625e-07\n",
      "\u001b[36m(launch_and_fit pid=12969)\u001b[0m network.18.bias 1.1920928955078125e-06\n",
      "\u001b[36m(launch_and_fit pid=12969)\u001b[0m network.20.weight 1.1920928955078125e-06\n",
      "\u001b[36m(launch_and_fit pid=12969)\u001b[0m network.20.bias 9.5367431640625e-07\n",
      "\u001b[36m(launch_and_fit pid=12969)\u001b[0m qnn.weights 9.5367431640625e-07\n",
      "\u001b[36m(launch_and_fit pid=12969)\u001b[0m fc4.weight 1.430511474609375e-06\n",
      "\u001b[36m(launch_and_fit pid=12969)\u001b[0m fc4.bias 1.1920928955078125e-06\n",
      "\u001b[36m(launch_and_fit pid=13050)\u001b[0m Run with homomorphic encryption\n",
      "\u001b[36m(launch_and_fit pid=12970)\u001b[0m save graph in  results/FL/\n",
      "\u001b[36m(launch_and_fit pid=12970)\u001b[0m \tTrain Epoch: 10 \tTrain_loss: 0.0584 | Train_acc: 99.5877 % | Validation_loss: 1.1148 | Validation_acc: 69.0800 %\n",
      "\u001b[36m(launch_and_fit pid=12970)\u001b[0m fc4.bias 1.1920928955078125e-06\u001b[32m [repeated 20x across cluster]\u001b[0m\n",
      "\u001b[36m(launch_and_fit pid=12970)\u001b[0m qnn.weights 1.1920928955078125e-06\n",
      "\u001b[36m(launch_and_fit pid=13050)\u001b[0m [Client 1, round 16] fit, config: {'learning_rate': 0.001, 'batch_size': '128', 'server_round': 16, 'local_epochs': 10}\n",
      "\u001b[36m(launch_and_fit pid=13050)\u001b[0m Updated model\n"
     ]
    },
    {
     "name": "stderr",
     "output_type": "stream",
     "text": [
      "  0%|\u001b[34m          \u001b[0m| 0/10 [00:00<?, ?it/s]\n",
      "100%|\u001b[34m██████████\u001b[0m| 10/10 [00:58<00:00,  5.88s/it]\n"
     ]
    },
    {
     "name": "stdout",
     "output_type": "stream",
     "text": [
      "\u001b[36m(launch_and_fit pid=13050)\u001b[0m \tTrain Epoch: 1 \tTrain_loss: 0.7077 | Train_acc: 78.3073 % | Validation_loss: 1.1869 | Validation_acc: 65.0323 %\n",
      "\u001b[36m(launch_and_fit pid=13075)\u001b[0m Run with homomorphic encryption\n",
      "\u001b[36m(launch_and_fit pid=13075)\u001b[0m [Client 4, round 16] fit, config: {'learning_rate': 0.001, 'batch_size': '128', 'server_round': 16, 'local_epochs': 10}\n",
      "\u001b[36m(launch_and_fit pid=13075)\u001b[0m Updated model\n"
     ]
    },
    {
     "name": "stderr",
     "output_type": "stream",
     "text": [
      " 10%|\u001b[34m█         \u001b[0m| 1/10 [00:06<00:55,  6.19s/it]\n",
      "  0%|\u001b[34m          \u001b[0m| 0/10 [00:00<?, ?it/s]\n"
     ]
    },
    {
     "name": "stdout",
     "output_type": "stream",
     "text": [
      "\u001b[36m(launch_and_fit pid=13050)\u001b[0m \tTrain Epoch: 2 \tTrain_loss: 0.4087 | Train_acc: 87.8472 % | Validation_loss: 1.3228 | Validation_acc: 65.1872 %\u001b[32m [repeated 2x across cluster]\u001b[0m\n"
     ]
    },
    {
     "name": "stderr",
     "output_type": "stream",
     "text": [
      " 20%|\u001b[34m██        \u001b[0m| 2/10 [00:12<00:47,  5.98s/it]\u001b[32m [repeated 2x across cluster]\u001b[0m\n"
     ]
    },
    {
     "name": "stdout",
     "output_type": "stream",
     "text": [
      "\u001b[36m(launch_and_fit pid=13050)\u001b[0m \tTrain Epoch: 3 \tTrain_loss: 0.2421 | Train_acc: 94.1233 % | Validation_loss: 1.2985 | Validation_acc: 64.2309 %\u001b[32m [repeated 2x across cluster]\u001b[0m\n"
     ]
    },
    {
     "name": "stderr",
     "output_type": "stream",
     "text": [
      " 30%|\u001b[34m███       \u001b[0m| 3/10 [00:17<00:41,  5.89s/it]\u001b[32m [repeated 2x across cluster]\u001b[0m\n"
     ]
    },
    {
     "name": "stdout",
     "output_type": "stream",
     "text": [
      "\u001b[36m(launch_and_fit pid=13050)\u001b[0m \tTrain Epoch: 4 \tTrain_loss: 0.1933 | Train_acc: 95.8247 % | Validation_loss: 1.3143 | Validation_acc: 65.2276 %\u001b[32m [repeated 2x across cluster]\u001b[0m\n"
     ]
    },
    {
     "name": "stderr",
     "output_type": "stream",
     "text": [
      " 40%|\u001b[34m████      \u001b[0m| 4/10 [00:23<00:35,  5.95s/it]\u001b[32m [repeated 2x across cluster]\u001b[0m\n"
     ]
    },
    {
     "name": "stdout",
     "output_type": "stream",
     "text": [
      "\u001b[36m(launch_and_fit pid=13050)\u001b[0m \tTrain Epoch: 5 \tTrain_loss: 0.1484 | Train_acc: 97.5608 % | Validation_loss: 1.3983 | Validation_acc: 63.0388 %\u001b[32m [repeated 2x across cluster]\u001b[0m\n"
     ]
    },
    {
     "name": "stderr",
     "output_type": "stream",
     "text": [
      " 50%|\u001b[34m█████     \u001b[0m| 5/10 [00:29<00:29,  5.82s/it]\u001b[32m [repeated 2x across cluster]\u001b[0m\n"
     ]
    },
    {
     "name": "stdout",
     "output_type": "stream",
     "text": [
      "\u001b[36m(launch_and_fit pid=13050)\u001b[0m \tTrain Epoch: 6 \tTrain_loss: 0.1076 | Train_acc: 98.7847 % | Validation_loss: 1.3310 | Validation_acc: 64.8370 %\u001b[32m [repeated 2x across cluster]\u001b[0m\n"
     ]
    },
    {
     "name": "stderr",
     "output_type": "stream",
     "text": [
      " 60%|\u001b[34m██████    \u001b[0m| 6/10 [00:35<00:23,  5.81s/it]\u001b[32m [repeated 2x across cluster]\u001b[0m\n"
     ]
    },
    {
     "name": "stdout",
     "output_type": "stream",
     "text": [
      "\u001b[36m(launch_and_fit pid=13050)\u001b[0m \tTrain Epoch: 7 \tTrain_loss: 0.0867 | Train_acc: 99.1753 % | Validation_loss: 1.3422 | Validation_acc: 64.7023 %\u001b[32m [repeated 2x across cluster]\u001b[0m\n"
     ]
    },
    {
     "name": "stderr",
     "output_type": "stream",
     "text": [
      " 70%|\u001b[34m███████   \u001b[0m| 7/10 [00:40<00:17,  5.76s/it]\u001b[32m [repeated 2x across cluster]\u001b[0m\n"
     ]
    },
    {
     "name": "stdout",
     "output_type": "stream",
     "text": [
      "\u001b[36m(launch_and_fit pid=13050)\u001b[0m \tTrain Epoch: 8 \tTrain_loss: 0.0810 | Train_acc: 99.3403 % | Validation_loss: 1.3702 | Validation_acc: 62.8637 %\u001b[32m [repeated 2x across cluster]\u001b[0m\n"
     ]
    },
    {
     "name": "stderr",
     "output_type": "stream",
     "text": [
      " 80%|\u001b[34m████████  \u001b[0m| 8/10 [00:46<00:11,  5.75s/it]\u001b[32m [repeated 2x across cluster]\u001b[0m\n"
     ]
    },
    {
     "name": "stdout",
     "output_type": "stream",
     "text": [
      "\u001b[36m(launch_and_fit pid=13050)\u001b[0m \tTrain Epoch: 9 \tTrain_loss: 0.0768 | Train_acc: 99.3273 % | Validation_loss: 1.3844 | Validation_acc: 63.2139 %\u001b[32m [repeated 2x across cluster]\u001b[0m\n"
     ]
    },
    {
     "name": "stderr",
     "output_type": "stream",
     "text": [
      " 90%|\u001b[34m█████████ \u001b[0m| 9/10 [00:52<00:05,  5.75s/it]\u001b[32m [repeated 2x across cluster]\u001b[0m\n"
     ]
    },
    {
     "name": "stdout",
     "output_type": "stream",
     "text": [
      "\u001b[36m(launch_and_fit pid=13050)\u001b[0m save graph in  results/FL/\n",
      "\u001b[36m(launch_and_fit pid=13050)\u001b[0m \tTrain Epoch: 10 \tTrain_loss: 0.0662 | Train_acc: 99.4792 % | Validation_loss: 1.4046 | Validation_acc: 63.8402 %\u001b[32m [repeated 2x across cluster]\u001b[0m\n"
     ]
    },
    {
     "name": "stderr",
     "output_type": "stream",
     "text": [
      "100%|\u001b[34m██████████\u001b[0m| 10/10 [00:58<00:00,  5.81s/it]\u001b[32m [repeated 2x across cluster]\u001b[0m\n"
     ]
    },
    {
     "name": "stdout",
     "output_type": "stream",
     "text": [
      "\u001b[36m(launch_and_fit pid=13050)\u001b[0m network.0.weight 5.0067901611328125e-06\n",
      "\u001b[36m(launch_and_fit pid=13050)\u001b[0m network.0.bias 1.430511474609375e-06\n",
      "\u001b[36m(launch_and_fit pid=13050)\u001b[0m network.2.weight 1.1920928955078125e-06\n",
      "\u001b[36m(launch_and_fit pid=13050)\u001b[0m network.2.bias 2.1457672119140625e-06\n",
      "\u001b[36m(launch_and_fit pid=13050)\u001b[0m network.5.weight 2.1457672119140625e-06\n",
      "\u001b[36m(launch_and_fit pid=13050)\u001b[0m network.5.bias 1.1920928955078125e-06\n",
      "\u001b[36m(launch_and_fit pid=13050)\u001b[0m network.7.weight 9.5367431640625e-07\n",
      "\u001b[36m(launch_and_fit pid=13050)\u001b[0m network.7.bias 1.1920928955078125e-06\n",
      "\u001b[36m(launch_and_fit pid=13050)\u001b[0m network.10.weight 1.1920928955078125e-06\n",
      "\u001b[36m(launch_and_fit pid=13050)\u001b[0m network.10.bias 1.1920928955078125e-06\n",
      "\u001b[36m(launch_and_fit pid=13050)\u001b[0m network.12.weight 9.5367431640625e-07\n",
      "\u001b[36m(launch_and_fit pid=13050)\u001b[0m network.12.bias 1.430511474609375e-06\n",
      "\u001b[36m(launch_and_fit pid=13050)\u001b[0m network.16.weight 1.1920928955078125e-06\n",
      "\u001b[36m(launch_and_fit pid=13050)\u001b[0m network.16.bias 1.1920928955078125e-06\n",
      "\u001b[36m(launch_and_fit pid=13050)\u001b[0m network.18.weight 9.5367431640625e-07\n",
      "\u001b[36m(launch_and_fit pid=13050)\u001b[0m network.18.bias 1.1920928955078125e-06\n",
      "\u001b[36m(launch_and_fit pid=13050)\u001b[0m network.20.weight 1.1920928955078125e-06\n",
      "\u001b[36m(launch_and_fit pid=13050)\u001b[0m network.20.bias 1.430511474609375e-06\n",
      "\u001b[36m(launch_and_fit pid=13050)\u001b[0m qnn.weights 1.9073486328125e-06\n",
      "\u001b[36m(launch_and_fit pid=13050)\u001b[0m fc4.weight 1.430511474609375e-06\n",
      "\u001b[36m(launch_and_fit pid=13050)\u001b[0m fc4.bias 1.430511474609375e-06\n"
     ]
    },
    {
     "name": "stderr",
     "output_type": "stream",
     "text": [
      "DEBUG flwr 2024-07-20 20:26:55,334 | server.py:236 | fit_round 16 received 10 results and 0 failures\n"
     ]
    },
    {
     "name": "stdout",
     "output_type": "stream",
     "text": [
      "Saving round 16 aggregated_parameters...\n"
     ]
    },
    {
     "name": "stderr",
     "output_type": "stream",
     "text": [
      "DEBUG flwr 2024-07-20 20:26:56,320 | server.py:173 | evaluate_round 16: strategy sampled 10 clients (out of 10)\n"
     ]
    },
    {
     "name": "stdout",
     "output_type": "stream",
     "text": [
      "\u001b[36m(launch_and_evaluate pid=13141)\u001b[0m Run with homomorphic encryption\n",
      "\u001b[36m(launch_and_fit pid=13075)\u001b[0m save graph in  results/FL/\n",
      "\u001b[36m(launch_and_fit pid=13075)\u001b[0m \tTrain Epoch: 10 \tTrain_loss: 0.0648 | Train_acc: 99.4141 % | Validation_loss: 1.3960 | Validation_acc: 64.4060 %\n",
      "\u001b[36m(launch_and_fit pid=13075)\u001b[0m fc4.bias 1.1920928955078125e-06\u001b[32m [repeated 20x across cluster]\u001b[0m\n",
      "\u001b[36m(launch_and_fit pid=13075)\u001b[0m qnn.weights 1.1920928955078125e-06\n",
      "\u001b[36m(launch_and_evaluate pid=13141)\u001b[0m [Client 5] evaluate, config: {}\n",
      "\u001b[36m(launch_and_evaluate pid=13141)\u001b[0m Updated model\n",
      "\u001b[36m(launch_and_evaluate pid=13220)\u001b[0m Run with homomorphic encryption\u001b[32m [repeated 2x across cluster]\u001b[0m\n",
      "\u001b[36m(launch_and_evaluate pid=13142)\u001b[0m [Client 2] evaluate, config: {}\n",
      "\u001b[36m(launch_and_evaluate pid=13142)\u001b[0m Updated model\n",
      "\u001b[36m(launch_and_evaluate pid=13220)\u001b[0m [Client 6] evaluate, config: {}\n",
      "\u001b[36m(launch_and_evaluate pid=13220)\u001b[0m Updated model\n",
      "\u001b[36m(launch_and_evaluate pid=13299)\u001b[0m Run with homomorphic encryption\u001b[32m [repeated 2x across cluster]\u001b[0m\n",
      "\u001b[36m(launch_and_evaluate pid=13222)\u001b[0m [Client 3] evaluate, config: {}\n",
      "\u001b[36m(launch_and_evaluate pid=13222)\u001b[0m Updated model\n",
      "\u001b[36m(launch_and_evaluate pid=13301)\u001b[0m [Client 0] evaluate, config: {}\n",
      "\u001b[36m(launch_and_evaluate pid=13299)\u001b[0m Updated model\n",
      "\u001b[36m(launch_and_evaluate pid=13377)\u001b[0m Run with homomorphic encryption\u001b[32m [repeated 2x across cluster]\u001b[0m\n",
      "\u001b[36m(launch_and_evaluate pid=13299)\u001b[0m [Client 7] evaluate, config: {}\n",
      "\u001b[36m(launch_and_evaluate pid=13301)\u001b[0m Updated model\n",
      "\u001b[36m(launch_and_evaluate pid=13377)\u001b[0m [Client 9] evaluate, config: {}\n",
      "\u001b[36m(launch_and_evaluate pid=13377)\u001b[0m Updated model\n",
      "\u001b[36m(launch_and_evaluate pid=13455)\u001b[0m Run with homomorphic encryption\u001b[32m [repeated 2x across cluster]\u001b[0m\n",
      "\u001b[36m(launch_and_evaluate pid=13379)\u001b[0m [Client 1] evaluate, config: {}\n",
      "\u001b[36m(launch_and_evaluate pid=13379)\u001b[0m Updated model\n",
      "\u001b[36m(launch_and_evaluate pid=13457)\u001b[0m [Client 8] evaluate, config: {}\n",
      "\u001b[36m(launch_and_evaluate pid=13455)\u001b[0m Updated model\n"
     ]
    },
    {
     "name": "stderr",
     "output_type": "stream",
     "text": [
      "DEBUG flwr 2024-07-20 20:28:25,085 | server.py:187 | evaluate_round 16 received 10 results and 0 failures\n",
      "DEBUG flwr 2024-07-20 20:28:25,086 | server.py:222 | fit_round 17: strategy sampled 10 clients (out of 10)\n"
     ]
    },
    {
     "name": "stdout",
     "output_type": "stream",
     "text": [
      "\u001b[36m(launch_and_fit pid=13542)\u001b[0m Run with homomorphic encryption\u001b[32m [repeated 2x across cluster]\u001b[0m\n",
      "\u001b[36m(launch_and_evaluate pid=13455)\u001b[0m [Client 4] evaluate, config: {}\n",
      "\u001b[36m(launch_and_evaluate pid=13457)\u001b[0m Updated model\n",
      "\u001b[36m(launch_and_fit pid=13543)\u001b[0m [Client 0, round 17] fit, config: {'learning_rate': 0.001, 'batch_size': '128', 'server_round': 17, 'local_epochs': 10}\n",
      "\u001b[36m(launch_and_fit pid=13543)\u001b[0m Updated model\n"
     ]
    },
    {
     "name": "stderr",
     "output_type": "stream",
     "text": [
      "  0%|\u001b[34m          \u001b[0m| 0/10 [00:00<?, ?it/s]\n",
      "100%|\u001b[34m██████████\u001b[0m| 10/10 [00:57<00:00,  5.77s/it]\n"
     ]
    },
    {
     "name": "stdout",
     "output_type": "stream",
     "text": [
      "\u001b[36m(launch_and_fit pid=13543)\u001b[0m \tTrain Epoch: 1 \tTrain_loss: 0.6293 | Train_acc: 80.1259 % | Validation_loss: 1.2305 | Validation_acc: 65.4836 %\n",
      "\u001b[36m(launch_and_fit pid=13543)\u001b[0m Run with homomorphic encryption\n",
      "\u001b[36m(launch_and_fit pid=13542)\u001b[0m [Client 6, round 17] fit, config: {'learning_rate': 0.001, 'batch_size': '128', 'server_round': 17, 'local_epochs': 10}\n",
      "\u001b[36m(launch_and_fit pid=13542)\u001b[0m Updated model\n"
     ]
    },
    {
     "name": "stderr",
     "output_type": "stream",
     "text": [
      " 10%|\u001b[34m█         \u001b[0m| 1/10 [00:06<00:57,  6.42s/it]\n",
      "  0%|\u001b[34m          \u001b[0m| 0/10 [00:00<?, ?it/s]\n"
     ]
    },
    {
     "name": "stdout",
     "output_type": "stream",
     "text": [
      "\u001b[36m(launch_and_fit pid=13543)\u001b[0m \tTrain Epoch: 2 \tTrain_loss: 0.3457 | Train_acc: 90.3472 % | Validation_loss: 1.1858 | Validation_acc: 66.0897 %\u001b[32m [repeated 2x across cluster]\u001b[0m\n"
     ]
    },
    {
     "name": "stderr",
     "output_type": "stream",
     "text": [
      " 20%|\u001b[34m██        \u001b[0m| 2/10 [00:12<00:49,  6.19s/it]\u001b[32m [repeated 2x across cluster]\u001b[0m\n"
     ]
    },
    {
     "name": "stdout",
     "output_type": "stream",
     "text": [
      "\u001b[36m(launch_and_fit pid=13543)\u001b[0m \tTrain Epoch: 3 \tTrain_loss: 0.2252 | Train_acc: 94.4141 % | Validation_loss: 1.2295 | Validation_acc: 65.7395 %\u001b[32m [repeated 2x across cluster]\u001b[0m\n"
     ]
    },
    {
     "name": "stderr",
     "output_type": "stream",
     "text": [
      " 30%|\u001b[34m███       \u001b[0m| 3/10 [00:18<00:41,  5.93s/it]\u001b[32m [repeated 2x across cluster]\u001b[0m\n"
     ]
    },
    {
     "name": "stdout",
     "output_type": "stream",
     "text": [
      "\u001b[36m(launch_and_fit pid=13543)\u001b[0m \tTrain Epoch: 4 \tTrain_loss: 0.1606 | Train_acc: 96.8880 % | Validation_loss: 1.2424 | Validation_acc: 65.1334 %\u001b[32m [repeated 2x across cluster]\u001b[0m\n"
     ]
    },
    {
     "name": "stderr",
     "output_type": "stream",
     "text": [
      " 40%|\u001b[34m████      \u001b[0m| 4/10 [00:23<00:35,  5.87s/it]\u001b[32m [repeated 2x across cluster]\u001b[0m\n"
     ]
    },
    {
     "name": "stdout",
     "output_type": "stream",
     "text": [
      "\u001b[36m(launch_and_fit pid=13543)\u001b[0m \tTrain Epoch: 5 \tTrain_loss: 0.1273 | Train_acc: 97.5825 % | Validation_loss: 1.1776 | Validation_acc: 67.7532 %\u001b[32m [repeated 2x across cluster]\u001b[0m\n"
     ]
    },
    {
     "name": "stderr",
     "output_type": "stream",
     "text": [
      " 50%|\u001b[34m█████     \u001b[0m| 5/10 [00:29<00:29,  5.83s/it]\u001b[32m [repeated 2x across cluster]\u001b[0m\n"
     ]
    },
    {
     "name": "stdout",
     "output_type": "stream",
     "text": [
      "\u001b[36m(launch_and_fit pid=13543)\u001b[0m \tTrain Epoch: 6 \tTrain_loss: 0.0994 | Train_acc: 98.6024 % | Validation_loss: 1.1604 | Validation_acc: 69.4706 %\u001b[32m [repeated 2x across cluster]\u001b[0m\n"
     ]
    },
    {
     "name": "stderr",
     "output_type": "stream",
     "text": [
      " 60%|\u001b[34m██████    \u001b[0m| 6/10 [00:35<00:23,  5.84s/it]\u001b[32m [repeated 2x across cluster]\u001b[0m\n"
     ]
    },
    {
     "name": "stdout",
     "output_type": "stream",
     "text": [
      "\u001b[36m(launch_and_fit pid=13543)\u001b[0m \tTrain Epoch: 7 \tTrain_loss: 0.0800 | Train_acc: 99.1536 % | Validation_loss: 1.2180 | Validation_acc: 68.1439 %\u001b[32m [repeated 2x across cluster]\u001b[0m\n"
     ]
    },
    {
     "name": "stderr",
     "output_type": "stream",
     "text": [
      " 70%|\u001b[34m███████   \u001b[0m| 7/10 [00:41<00:17,  5.86s/it]\u001b[32m [repeated 2x across cluster]\u001b[0m\n"
     ]
    },
    {
     "name": "stdout",
     "output_type": "stream",
     "text": [
      "\u001b[36m(launch_and_fit pid=13543)\u001b[0m \tTrain Epoch: 8 \tTrain_loss: 0.0657 | Train_acc: 99.3056 % | Validation_loss: 1.1908 | Validation_acc: 66.2311 %\u001b[32m [repeated 2x across cluster]\u001b[0m\n"
     ]
    },
    {
     "name": "stderr",
     "output_type": "stream",
     "text": [
      " 80%|\u001b[34m████████  \u001b[0m| 8/10 [00:46<00:11,  5.78s/it]\u001b[32m [repeated 2x across cluster]\u001b[0m\n"
     ]
    },
    {
     "name": "stdout",
     "output_type": "stream",
     "text": [
      "\u001b[36m(launch_and_fit pid=13543)\u001b[0m \tTrain Epoch: 9 \tTrain_loss: 0.0584 | Train_acc: 99.4358 % | Validation_loss: 1.2126 | Validation_acc: 68.1439 %\u001b[32m [repeated 2x across cluster]\u001b[0m\n"
     ]
    },
    {
     "name": "stderr",
     "output_type": "stream",
     "text": [
      " 90%|\u001b[34m█████████ \u001b[0m| 9/10 [00:52<00:05,  5.82s/it]\u001b[32m [repeated 2x across cluster]\u001b[0m\n"
     ]
    },
    {
     "name": "stdout",
     "output_type": "stream",
     "text": [
      "\u001b[36m(launch_and_fit pid=13543)\u001b[0m save graph in  results/FL/\n",
      "\u001b[36m(launch_and_fit pid=13543)\u001b[0m \tTrain Epoch: 10 \tTrain_loss: 0.0539 | Train_acc: 99.4575 % | Validation_loss: 1.1962 | Validation_acc: 67.3626 %\u001b[32m [repeated 2x across cluster]\u001b[0m\n"
     ]
    },
    {
     "name": "stderr",
     "output_type": "stream",
     "text": [
      "100%|\u001b[34m██████████\u001b[0m| 10/10 [00:58<00:00,  5.86s/it]\u001b[32m [repeated 2x across cluster]\u001b[0m\n"
     ]
    },
    {
     "name": "stdout",
     "output_type": "stream",
     "text": [
      "\u001b[36m(launch_and_fit pid=13543)\u001b[0m network.0.weight 5.0067901611328125e-06\n",
      "\u001b[36m(launch_and_fit pid=13543)\u001b[0m network.0.bias 1.6689300537109375e-06\n",
      "\u001b[36m(launch_and_fit pid=13543)\u001b[0m network.2.weight 9.5367431640625e-07\n",
      "\u001b[36m(launch_and_fit pid=13543)\u001b[0m network.2.bias 9.5367431640625e-07\n",
      "\u001b[36m(launch_and_fit pid=13543)\u001b[0m network.5.weight 1.1920928955078125e-06\n",
      "\u001b[36m(launch_and_fit pid=13543)\u001b[0m network.5.bias 1.1920928955078125e-06\n",
      "\u001b[36m(launch_and_fit pid=13543)\u001b[0m network.7.weight 9.5367431640625e-07\n",
      "\u001b[36m(launch_and_fit pid=13543)\u001b[0m network.7.bias 1.1920928955078125e-06\n",
      "\u001b[36m(launch_and_fit pid=13543)\u001b[0m network.10.weight 1.430511474609375e-06\n",
      "\u001b[36m(launch_and_fit pid=13543)\u001b[0m network.10.bias 1.1920928955078125e-06\n",
      "\u001b[36m(launch_and_fit pid=13543)\u001b[0m network.12.weight 1.1920928955078125e-06\n",
      "\u001b[36m(launch_and_fit pid=13543)\u001b[0m network.12.bias 1.430511474609375e-06\n",
      "\u001b[36m(launch_and_fit pid=13543)\u001b[0m network.16.weight 1.1920928955078125e-06\n",
      "\u001b[36m(launch_and_fit pid=13543)\u001b[0m network.16.bias 9.5367431640625e-07\n",
      "\u001b[36m(launch_and_fit pid=13543)\u001b[0m network.18.weight 1.1920928955078125e-06\n",
      "\u001b[36m(launch_and_fit pid=13543)\u001b[0m network.18.bias 1.1920928955078125e-06\n",
      "\u001b[36m(launch_and_fit pid=13543)\u001b[0m network.20.weight 1.430511474609375e-06\n",
      "\u001b[36m(launch_and_fit pid=13543)\u001b[0m network.20.bias 9.5367431640625e-07\n",
      "\u001b[36m(launch_and_fit pid=13543)\u001b[0m qnn.weights 9.5367431640625e-07\n",
      "\u001b[36m(launch_and_fit pid=13543)\u001b[0m fc4.weight 1.1920928955078125e-06\n",
      "\u001b[36m(launch_and_fit pid=13543)\u001b[0m fc4.bias 1.430511474609375e-06\n",
      "\u001b[36m(launch_and_fit pid=13625)\u001b[0m Run with homomorphic encryption\n",
      "\u001b[36m(launch_and_fit pid=13542)\u001b[0m save graph in  results/FL/\n",
      "\u001b[36m(launch_and_fit pid=13542)\u001b[0m \tTrain Epoch: 10 \tTrain_loss: 0.0468 | Train_acc: 99.7179 % | Validation_loss: 1.2857 | Validation_acc: 66.6554 %\n",
      "\u001b[36m(launch_and_fit pid=13542)\u001b[0m fc4.bias 1.9073486328125e-06\u001b[32m [repeated 20x across cluster]\u001b[0m\n",
      "\u001b[36m(launch_and_fit pid=13542)\u001b[0m qnn.weights 1.6689300537109375e-06\n",
      "\u001b[36m(launch_and_fit pid=13625)\u001b[0m [Client 4, round 17] fit, config: {'learning_rate': 0.001, 'batch_size': '128', 'server_round': 17, 'local_epochs': 10}\n"
     ]
    },
    {
     "name": "stderr",
     "output_type": "stream",
     "text": [
      "  0%|\u001b[34m          \u001b[0m| 0/10 [00:00<?, ?it/s]\n",
      "100%|\u001b[34m██████████\u001b[0m| 10/10 [00:59<00:00,  5.95s/it]\n"
     ]
    },
    {
     "name": "stdout",
     "output_type": "stream",
     "text": [
      "\u001b[36m(launch_and_fit pid=13625)\u001b[0m Updated model\n"
     ]
    },
    {
     "name": "stderr",
     "output_type": "stream",
     "text": [
      " 10%|\u001b[34m█         \u001b[0m| 1/10 [00:06<00:57,  6.36s/it]\n",
      "  0%|\u001b[34m          \u001b[0m| 0/10 [00:00<?, ?it/s]\n"
     ]
    },
    {
     "name": "stdout",
     "output_type": "stream",
     "text": [
      "\u001b[36m(launch_and_fit pid=13625)\u001b[0m \tTrain Epoch: 1 \tTrain_loss: 0.6426 | Train_acc: 80.2170 % | Validation_loss: 1.3863 | Validation_acc: 62.1969 %\n",
      "\u001b[36m(launch_and_fit pid=13650)\u001b[0m Run with homomorphic encryption\n",
      "\u001b[36m(launch_and_fit pid=13650)\u001b[0m [Client 8, round 17] fit, config: {'learning_rate': 0.001, 'batch_size': '128', 'server_round': 17, 'local_epochs': 10}\n",
      "\u001b[36m(launch_and_fit pid=13650)\u001b[0m Updated model\n"
     ]
    },
    {
     "name": "stderr",
     "output_type": "stream",
     "text": [
      " 20%|\u001b[34m██        \u001b[0m| 2/10 [00:12<00:48,  6.05s/it]\u001b[32m [repeated 2x across cluster]\u001b[0m\n"
     ]
    },
    {
     "name": "stdout",
     "output_type": "stream",
     "text": [
      "\u001b[36m(launch_and_fit pid=13625)\u001b[0m \tTrain Epoch: 2 \tTrain_loss: 0.3153 | Train_acc: 91.4844 % | Validation_loss: 1.4241 | Validation_acc: 62.7425 %\u001b[32m [repeated 2x across cluster]\u001b[0m\n"
     ]
    },
    {
     "name": "stderr",
     "output_type": "stream",
     "text": [
      " 30%|\u001b[34m███       \u001b[0m| 3/10 [00:18<00:42,  6.04s/it]\u001b[32m [repeated 2x across cluster]\u001b[0m\n"
     ]
    },
    {
     "name": "stdout",
     "output_type": "stream",
     "text": [
      "\u001b[36m(launch_and_fit pid=13625)\u001b[0m \tTrain Epoch: 3 \tTrain_loss: 0.2035 | Train_acc: 95.1432 % | Validation_loss: 1.4498 | Validation_acc: 64.5811 %\u001b[32m [repeated 2x across cluster]\u001b[0m\n"
     ]
    },
    {
     "name": "stderr",
     "output_type": "stream",
     "text": [
      " 40%|\u001b[34m████      \u001b[0m| 4/10 [00:24<00:35,  5.97s/it]\u001b[32m [repeated 2x across cluster]\u001b[0m\n"
     ]
    },
    {
     "name": "stdout",
     "output_type": "stream",
     "text": [
      "\u001b[36m(launch_and_fit pid=13625)\u001b[0m \tTrain Epoch: 4 \tTrain_loss: 0.1716 | Train_acc: 96.2370 % | Validation_loss: 1.4366 | Validation_acc: 62.0016 %\u001b[32m [repeated 2x across cluster]\u001b[0m\n"
     ]
    },
    {
     "name": "stderr",
     "output_type": "stream",
     "text": [
      " 50%|\u001b[34m█████     \u001b[0m| 5/10 [00:30<00:30,  6.07s/it]\u001b[32m [repeated 2x across cluster]\u001b[0m\n"
     ]
    },
    {
     "name": "stdout",
     "output_type": "stream",
     "text": [
      "\u001b[36m(launch_and_fit pid=13625)\u001b[0m \tTrain Epoch: 5 \tTrain_loss: 0.1308 | Train_acc: 97.6997 % | Validation_loss: 1.4545 | Validation_acc: 64.0558 %\u001b[32m [repeated 2x across cluster]\u001b[0m\n"
     ]
    },
    {
     "name": "stderr",
     "output_type": "stream",
     "text": [
      " 60%|\u001b[34m██████    \u001b[0m| 6/10 [00:36<00:23,  5.98s/it]\u001b[32m [repeated 2x across cluster]\u001b[0m\n"
     ]
    },
    {
     "name": "stdout",
     "output_type": "stream",
     "text": [
      "\u001b[36m(launch_and_fit pid=13625)\u001b[0m \tTrain Epoch: 6 \tTrain_loss: 0.1016 | Train_acc: 98.4592 % | Validation_loss: 1.4729 | Validation_acc: 63.6247 %\u001b[32m [repeated 2x across cluster]\u001b[0m\n"
     ]
    },
    {
     "name": "stderr",
     "output_type": "stream",
     "text": [
      " 70%|\u001b[34m███████   \u001b[0m| 7/10 [00:42<00:17,  5.95s/it]\u001b[32m [repeated 2x across cluster]\u001b[0m\n"
     ]
    },
    {
     "name": "stdout",
     "output_type": "stream",
     "text": [
      "\u001b[36m(launch_and_fit pid=13625)\u001b[0m \tTrain Epoch: 7 \tTrain_loss: 0.0768 | Train_acc: 99.0234 % | Validation_loss: 1.4050 | Validation_acc: 65.5577 %\u001b[32m [repeated 2x across cluster]\u001b[0m\n"
     ]
    },
    {
     "name": "stderr",
     "output_type": "stream",
     "text": [
      " 80%|\u001b[34m████████  \u001b[0m| 8/10 [00:48<00:11,  5.97s/it]\u001b[32m [repeated 2x across cluster]\u001b[0m\n"
     ]
    },
    {
     "name": "stdout",
     "output_type": "stream",
     "text": [
      "\u001b[36m(launch_and_fit pid=13625)\u001b[0m \tTrain Epoch: 8 \tTrain_loss: 0.0684 | Train_acc: 99.1667 % | Validation_loss: 1.3911 | Validation_acc: 65.3825 %\u001b[32m [repeated 2x across cluster]\u001b[0m\n"
     ]
    },
    {
     "name": "stderr",
     "output_type": "stream",
     "text": [
      " 90%|\u001b[34m█████████ \u001b[0m| 9/10 [00:53<00:05,  5.93s/it]\u001b[32m [repeated 2x across cluster]\u001b[0m\n"
     ]
    },
    {
     "name": "stdout",
     "output_type": "stream",
     "text": [
      "\u001b[36m(launch_and_fit pid=13625)\u001b[0m \tTrain Epoch: 9 \tTrain_loss: 0.0571 | Train_acc: 99.4792 % | Validation_loss: 1.3632 | Validation_acc: 66.5746 %\u001b[32m [repeated 2x across cluster]\u001b[0m\n"
     ]
    },
    {
     "name": "stderr",
     "output_type": "stream",
     "text": [
      "100%|\u001b[34m██████████\u001b[0m| 10/10 [01:00<00:00,  6.01s/it]\u001b[32m [repeated 2x across cluster]\u001b[0m\n"
     ]
    },
    {
     "name": "stdout",
     "output_type": "stream",
     "text": [
      "\u001b[36m(launch_and_fit pid=13625)\u001b[0m save graph in  results/FL/\n",
      "\u001b[36m(launch_and_fit pid=13625)\u001b[0m \tTrain Epoch: 10 \tTrain_loss: 0.0489 | Train_acc: 99.5226 % | Validation_loss: 1.3955 | Validation_acc: 65.5577 %\u001b[32m [repeated 2x across cluster]\u001b[0m\n",
      "\u001b[36m(launch_and_fit pid=13625)\u001b[0m network.0.weight 5.4836273193359375e-06\n",
      "\u001b[36m(launch_and_fit pid=13625)\u001b[0m network.0.bias 1.430511474609375e-06\n",
      "\u001b[36m(launch_and_fit pid=13625)\u001b[0m network.2.weight 9.5367431640625e-07\n",
      "\u001b[36m(launch_and_fit pid=13625)\u001b[0m network.2.bias 1.1920928955078125e-06\n",
      "\u001b[36m(launch_and_fit pid=13625)\u001b[0m network.5.weight 1.1920928955078125e-06\n",
      "\u001b[36m(launch_and_fit pid=13625)\u001b[0m network.5.bias 1.1920928955078125e-06\n",
      "\u001b[36m(launch_and_fit pid=13625)\u001b[0m network.7.weight 1.1920928955078125e-06\n",
      "\u001b[36m(launch_and_fit pid=13625)\u001b[0m network.7.bias 9.5367431640625e-07\n",
      "\u001b[36m(launch_and_fit pid=13625)\u001b[0m network.10.weight 1.1920928955078125e-06\n",
      "\u001b[36m(launch_and_fit pid=13625)\u001b[0m network.10.bias 1.1920928955078125e-06\n",
      "\u001b[36m(launch_and_fit pid=13625)\u001b[0m network.12.weight 9.5367431640625e-07\n",
      "\u001b[36m(launch_and_fit pid=13625)\u001b[0m network.12.bias 9.5367431640625e-07\n",
      "\u001b[36m(launch_and_fit pid=13625)\u001b[0m network.16.weight 9.5367431640625e-07\n",
      "\u001b[36m(launch_and_fit pid=13625)\u001b[0m network.16.bias 9.5367431640625e-07\n",
      "\u001b[36m(launch_and_fit pid=13625)\u001b[0m network.18.weight 9.5367431640625e-07\n",
      "\u001b[36m(launch_and_fit pid=13625)\u001b[0m network.18.bias 9.5367431640625e-07\n",
      "\u001b[36m(launch_and_fit pid=13625)\u001b[0m network.20.weight 1.430511474609375e-06\n",
      "\u001b[36m(launch_and_fit pid=13625)\u001b[0m network.20.bias 9.5367431640625e-07\n",
      "\u001b[36m(launch_and_fit pid=13625)\u001b[0m qnn.weights 1.1920928955078125e-06\n",
      "\u001b[36m(launch_and_fit pid=13625)\u001b[0m fc4.weight 1.430511474609375e-06\n",
      "\u001b[36m(launch_and_fit pid=13625)\u001b[0m fc4.bias 9.5367431640625e-07\n",
      "\u001b[36m(launch_and_fit pid=13708)\u001b[0m Run with homomorphic encryption\n",
      "\u001b[36m(launch_and_fit pid=13650)\u001b[0m save graph in  results/FL/\n",
      "\u001b[36m(launch_and_fit pid=13650)\u001b[0m \tTrain Epoch: 10 \tTrain_loss: 0.0495 | Train_acc: 99.5443 % | Validation_loss: 1.3660 | Validation_acc: 65.0525 %\n",
      "\u001b[36m(launch_and_fit pid=13650)\u001b[0m fc4.bias 1.430511474609375e-06\u001b[32m [repeated 20x across cluster]\u001b[0m\n",
      "\u001b[36m(launch_and_fit pid=13650)\u001b[0m qnn.weights 1.1920928955078125e-06\n",
      "\u001b[36m(launch_and_fit pid=13708)\u001b[0m [Client 9, round 17] fit, config: {'learning_rate': 0.001, 'batch_size': '128', 'server_round': 17, 'local_epochs': 10}\n"
     ]
    },
    {
     "name": "stderr",
     "output_type": "stream",
     "text": [
      "  0%|\u001b[34m          \u001b[0m| 0/10 [00:00<?, ?it/s]\n",
      "100%|\u001b[34m██████████\u001b[0m| 10/10 [00:59<00:00,  5.98s/it]\n"
     ]
    },
    {
     "name": "stdout",
     "output_type": "stream",
     "text": [
      "\u001b[36m(launch_and_fit pid=13708)\u001b[0m Updated model\n"
     ]
    },
    {
     "name": "stderr",
     "output_type": "stream",
     "text": [
      " 10%|\u001b[34m█         \u001b[0m| 1/10 [00:06<00:58,  6.47s/it]\n",
      "  0%|\u001b[34m          \u001b[0m| 0/10 [00:00<?, ?it/s]\n"
     ]
    },
    {
     "name": "stdout",
     "output_type": "stream",
     "text": [
      "\u001b[36m(launch_and_fit pid=13708)\u001b[0m \tTrain Epoch: 1 \tTrain_loss: 0.5860 | Train_acc: 82.1267 % | Validation_loss: 1.2858 | Validation_acc: 64.7764 %\n",
      "\u001b[36m(launch_and_fit pid=13733)\u001b[0m Run with homomorphic encryption\n",
      "\u001b[36m(launch_and_fit pid=13733)\u001b[0m [Client 3, round 17] fit, config: {'learning_rate': 0.001, 'batch_size': '128', 'server_round': 17, 'local_epochs': 10}\n",
      "\u001b[36m(launch_and_fit pid=13733)\u001b[0m Updated model\n"
     ]
    },
    {
     "name": "stderr",
     "output_type": "stream",
     "text": [
      " 20%|\u001b[34m██        \u001b[0m| 2/10 [00:12<00:49,  6.17s/it]\u001b[32m [repeated 2x across cluster]\u001b[0m\n"
     ]
    },
    {
     "name": "stdout",
     "output_type": "stream",
     "text": [
      "\u001b[36m(launch_and_fit pid=13708)\u001b[0m \tTrain Epoch: 2 \tTrain_loss: 0.3646 | Train_acc: 89.6615 % | Validation_loss: 1.2343 | Validation_acc: 65.7934 %\u001b[32m [repeated 2x across cluster]\u001b[0m\n"
     ]
    },
    {
     "name": "stderr",
     "output_type": "stream",
     "text": [
      " 30%|\u001b[34m███       \u001b[0m| 3/10 [00:18<00:43,  6.28s/it]\u001b[32m [repeated 2x across cluster]\u001b[0m\n"
     ]
    },
    {
     "name": "stdout",
     "output_type": "stream",
     "text": [
      "\u001b[36m(launch_and_fit pid=13708)\u001b[0m \tTrain Epoch: 3 \tTrain_loss: 0.2276 | Train_acc: 94.5964 % | Validation_loss: 1.3834 | Validation_acc: 63.6247 %\u001b[32m [repeated 2x across cluster]\u001b[0m\n"
     ]
    },
    {
     "name": "stderr",
     "output_type": "stream",
     "text": [
      " 40%|\u001b[34m████      \u001b[0m| 4/10 [00:24<00:36,  6.10s/it]\u001b[32m [repeated 2x across cluster]\u001b[0m\n"
     ]
    },
    {
     "name": "stdout",
     "output_type": "stream",
     "text": [
      "\u001b[36m(launch_and_fit pid=13708)\u001b[0m \tTrain Epoch: 4 \tTrain_loss: 0.1496 | Train_acc: 97.1354 % | Validation_loss: 1.2784 | Validation_acc: 67.8273 %\u001b[32m [repeated 2x across cluster]\u001b[0m\n"
     ]
    },
    {
     "name": "stderr",
     "output_type": "stream",
     "text": [
      " 50%|\u001b[34m█████     \u001b[0m| 5/10 [00:30<00:29,  5.99s/it]\u001b[32m [repeated 2x across cluster]\u001b[0m\n"
     ]
    },
    {
     "name": "stdout",
     "output_type": "stream",
     "text": [
      "\u001b[36m(launch_and_fit pid=13708)\u001b[0m \tTrain Epoch: 5 \tTrain_loss: 0.1048 | Train_acc: 98.4592 % | Validation_loss: 1.2777 | Validation_acc: 65.2478 %\u001b[32m [repeated 2x across cluster]\u001b[0m\n"
     ]
    },
    {
     "name": "stderr",
     "output_type": "stream",
     "text": [
      " 60%|\u001b[34m██████    \u001b[0m| 6/10 [00:36<00:23,  5.95s/it]\u001b[32m [repeated 2x across cluster]\u001b[0m\n"
     ]
    },
    {
     "name": "stdout",
     "output_type": "stream",
     "text": [
      "\u001b[36m(launch_and_fit pid=13708)\u001b[0m \tTrain Epoch: 6 \tTrain_loss: 0.0789 | Train_acc: 99.0885 % | Validation_loss: 1.3230 | Validation_acc: 66.2244 %\u001b[32m [repeated 2x across cluster]\u001b[0m\n"
     ]
    },
    {
     "name": "stderr",
     "output_type": "stream",
     "text": [
      " 70%|\u001b[34m███████   \u001b[0m| 7/10 [00:42<00:17,  5.88s/it]\u001b[32m [repeated 2x across cluster]\u001b[0m\n"
     ]
    },
    {
     "name": "stdout",
     "output_type": "stream",
     "text": [
      "\u001b[36m(launch_and_fit pid=13708)\u001b[0m \tTrain Epoch: 7 \tTrain_loss: 0.0609 | Train_acc: 99.4575 % | Validation_loss: 1.3198 | Validation_acc: 64.6619 %\u001b[32m [repeated 2x across cluster]\u001b[0m\n"
     ]
    },
    {
     "name": "stderr",
     "output_type": "stream",
     "text": [
      " 80%|\u001b[34m████████  \u001b[0m| 8/10 [00:47<00:11,  5.89s/it]\u001b[32m [repeated 2x across cluster]\u001b[0m\n"
     ]
    },
    {
     "name": "stdout",
     "output_type": "stream",
     "text": [
      "\u001b[36m(launch_and_fit pid=13708)\u001b[0m \tTrain Epoch: 8 \tTrain_loss: 0.0554 | Train_acc: 99.4792 % | Validation_loss: 1.2976 | Validation_acc: 66.2446 %\u001b[32m [repeated 2x across cluster]\u001b[0m\n"
     ]
    },
    {
     "name": "stderr",
     "output_type": "stream",
     "text": [
      " 90%|\u001b[34m█████████ \u001b[0m| 9/10 [00:53<00:05,  5.89s/it]\u001b[32m [repeated 2x across cluster]\u001b[0m\n"
     ]
    },
    {
     "name": "stdout",
     "output_type": "stream",
     "text": [
      "\u001b[36m(launch_and_fit pid=13708)\u001b[0m \tTrain Epoch: 9 \tTrain_loss: 0.0495 | Train_acc: 99.6094 % | Validation_loss: 1.3729 | Validation_acc: 63.8605 %\u001b[32m [repeated 2x across cluster]\u001b[0m\n"
     ]
    },
    {
     "name": "stderr",
     "output_type": "stream",
     "text": [
      "100%|\u001b[34m██████████\u001b[0m| 10/10 [00:59<00:00,  5.97s/it]\u001b[32m [repeated 2x across cluster]\u001b[0m\n"
     ]
    },
    {
     "name": "stdout",
     "output_type": "stream",
     "text": [
      "\u001b[36m(launch_and_fit pid=13708)\u001b[0m save graph in  results/FL/\n",
      "\u001b[36m(launch_and_fit pid=13708)\u001b[0m \tTrain Epoch: 10 \tTrain_loss: 0.0469 | Train_acc: 99.5356 % | Validation_loss: 1.3342 | Validation_acc: 65.0323 %\u001b[32m [repeated 2x across cluster]\u001b[0m\n",
      "\u001b[36m(launch_and_fit pid=13708)\u001b[0m network.0.weight 5.9604644775390625e-06\n",
      "\u001b[36m(launch_and_fit pid=13708)\u001b[0m network.0.bias 2.1457672119140625e-06\n",
      "\u001b[36m(launch_and_fit pid=13708)\u001b[0m network.2.weight 2.1457672119140625e-06\n",
      "\u001b[36m(launch_and_fit pid=13708)\u001b[0m network.2.bias 1.430511474609375e-06\n",
      "\u001b[36m(launch_and_fit pid=13708)\u001b[0m network.5.weight 1.9073486328125e-06\n",
      "\u001b[36m(launch_and_fit pid=13708)\u001b[0m network.5.bias 1.6689300537109375e-06\n",
      "\u001b[36m(launch_and_fit pid=13708)\u001b[0m network.7.weight 1.9073486328125e-06\n",
      "\u001b[36m(launch_and_fit pid=13708)\u001b[0m network.7.bias 1.6689300537109375e-06\n",
      "\u001b[36m(launch_and_fit pid=13708)\u001b[0m network.10.weight 1.6689300537109375e-06\n",
      "\u001b[36m(launch_and_fit pid=13708)\u001b[0m network.10.bias 1.430511474609375e-06\n",
      "\u001b[36m(launch_and_fit pid=13708)\u001b[0m network.12.weight 2.384185791015625e-06\n",
      "\u001b[36m(launch_and_fit pid=13708)\u001b[0m network.12.bias 1.6689300537109375e-06\n",
      "\u001b[36m(launch_and_fit pid=13708)\u001b[0m \n",
      "\u001b[36m(launch_and_fit pid=13708)\u001b[0m network.16.weight\n",
      "\u001b[36m(launch_and_fit pid=13708)\u001b[0m  \n",
      "\u001b[36m(launch_and_fit pid=13708)\u001b[0m 1.9073486328125e-06\n",
      "\u001b[36m(launch_and_fit pid=13708)\u001b[0m network.16.bias \n",
      "\u001b[36m(launch_and_fit pid=13708)\u001b[0m 1.9073486328125e-06\n",
      "\u001b[36m(launch_and_fit pid=13708)\u001b[0m \n",
      "\u001b[36m(launch_and_fit pid=13708)\u001b[0m network.18.weight 2.1457672119140625e-06\n",
      "\u001b[36m(launch_and_fit pid=13708)\u001b[0m network.18.bias 1.9073486328125e-06\n",
      "\u001b[36m(launch_and_fit pid=13708)\u001b[0m network.20.weight 1.430511474609375e-06\n",
      "\u001b[36m(launch_and_fit pid=13708)\u001b[0m network.20.bias 1.430511474609375e-06\n",
      "\u001b[36m(launch_and_fit pid=13708)\u001b[0m qnn.weights 1.1920928955078125e-06\n",
      "\u001b[36m(launch_and_fit pid=13708)\u001b[0m fc4.weight 1.6689300537109375e-06\n",
      "\u001b[36m(launch_and_fit pid=13708)\u001b[0m fc4.bias 1.9073486328125e-06\n",
      "\u001b[36m(launch_and_fit pid=13790)\u001b[0m Run with homomorphic encryption\n",
      "\u001b[36m(launch_and_fit pid=13733)\u001b[0m save graph in  results/FL/\n",
      "\u001b[36m(launch_and_fit pid=13733)\u001b[0m \tTrain Epoch: 10 \tTrain_loss: 0.0561 | Train_acc: 99.3316 % | Validation_loss: 1.2553 | Validation_acc: 64.6013 %\n",
      "\u001b[36m(launch_and_fit pid=13733)\u001b[0m fc4.bias 1.1920928955078125e-06\u001b[32m [repeated 20x across cluster]\u001b[0m\n",
      "\u001b[36m(launch_and_fit pid=13733)\u001b[0m qnn.weights 1.1920928955078125e-06\n",
      "\u001b[36m(launch_and_fit pid=13790)\u001b[0m [Client 2, round 17] fit, config: {'learning_rate': 0.001, 'batch_size': '128', 'server_round': 17, 'local_epochs': 10}\n",
      "\u001b[36m(launch_and_fit pid=13790)\u001b[0m Updated model\n"
     ]
    },
    {
     "name": "stderr",
     "output_type": "stream",
     "text": [
      "  0%|\u001b[34m          \u001b[0m| 0/10 [00:00<?, ?it/s]\n",
      "100%|\u001b[34m██████████\u001b[0m| 10/10 [01:00<00:00,  6.04s/it]\n"
     ]
    },
    {
     "name": "stdout",
     "output_type": "stream",
     "text": [
      "\u001b[36m(launch_and_fit pid=13790)\u001b[0m \tTrain Epoch: 1 \tTrain_loss: 0.6230 | Train_acc: 80.9852 % | Validation_loss: 1.3835 | Validation_acc: 63.5641 %\n",
      "\u001b[36m(launch_and_fit pid=13815)\u001b[0m Run with homomorphic encryption\n",
      "\u001b[36m(launch_and_fit pid=13815)\u001b[0m [Client 1, round 17] fit, config: {'learning_rate': 0.001, 'batch_size': '128', 'server_round': 17, 'local_epochs': 10}\n",
      "\u001b[36m(launch_and_fit pid=13815)\u001b[0m Updated model\n"
     ]
    },
    {
     "name": "stderr",
     "output_type": "stream",
     "text": [
      " 10%|\u001b[34m█         \u001b[0m| 1/10 [00:06<01:01,  6.86s/it]\n",
      "  0%|\u001b[34m          \u001b[0m| 0/10 [00:00<?, ?it/s]\n"
     ]
    },
    {
     "name": "stdout",
     "output_type": "stream",
     "text": [
      "\u001b[36m(launch_and_fit pid=13790)\u001b[0m \tTrain Epoch: 2 \tTrain_loss: 0.3457 | Train_acc: 89.6007 % | Validation_loss: 1.4504 | Validation_acc: 61.9814 %\u001b[32m [repeated 2x across cluster]\u001b[0m\n"
     ]
    },
    {
     "name": "stderr",
     "output_type": "stream",
     "text": [
      " 20%|\u001b[34m██        \u001b[0m| 2/10 [00:12<00:50,  6.32s/it]\u001b[32m [repeated 2x across cluster]\u001b[0m\n"
     ]
    },
    {
     "name": "stdout",
     "output_type": "stream",
     "text": [
      "\u001b[36m(launch_and_fit pid=13790)\u001b[0m \tTrain Epoch: 3 \tTrain_loss: 0.2160 | Train_acc: 94.5226 % | Validation_loss: 1.4327 | Validation_acc: 63.2341 %\u001b[32m [repeated 2x across cluster]\u001b[0m\n"
     ]
    },
    {
     "name": "stderr",
     "output_type": "stream",
     "text": [
      " 30%|\u001b[34m███       \u001b[0m| 3/10 [00:18<00:43,  6.23s/it]\u001b[32m [repeated 2x across cluster]\u001b[0m\n"
     ]
    },
    {
     "name": "stdout",
     "output_type": "stream",
     "text": [
      "\u001b[36m(launch_and_fit pid=13790)\u001b[0m \tTrain Epoch: 4 \tTrain_loss: 0.1640 | Train_acc: 96.8880 % | Validation_loss: 1.4596 | Validation_acc: 63.7392 %\u001b[32m [repeated 2x across cluster]\u001b[0m\n"
     ]
    },
    {
     "name": "stderr",
     "output_type": "stream",
     "text": [
      " 40%|\u001b[34m████      \u001b[0m| 4/10 [00:24<00:36,  6.10s/it]\u001b[32m [repeated 2x across cluster]\u001b[0m\n"
     ]
    },
    {
     "name": "stdout",
     "output_type": "stream",
     "text": [
      "\u001b[36m(launch_and_fit pid=13790)\u001b[0m \tTrain Epoch: 5 \tTrain_loss: 0.1033 | Train_acc: 98.6111 % | Validation_loss: 1.4891 | Validation_acc: 63.2139 %\u001b[32m [repeated 2x across cluster]\u001b[0m\n"
     ]
    },
    {
     "name": "stderr",
     "output_type": "stream",
     "text": [
      " 50%|\u001b[34m█████     \u001b[0m| 5/10 [00:30<00:30,  6.01s/it]\u001b[32m [repeated 2x across cluster]\u001b[0m\n"
     ]
    },
    {
     "name": "stdout",
     "output_type": "stream",
     "text": [
      "\u001b[36m(launch_and_fit pid=13790)\u001b[0m \tTrain Epoch: 6 \tTrain_loss: 0.0896 | Train_acc: 98.8281 % | Validation_loss: 1.5181 | Validation_acc: 62.9782 %\u001b[32m [repeated 2x across cluster]\u001b[0m\n"
     ]
    },
    {
     "name": "stderr",
     "output_type": "stream",
     "text": [
      " 60%|\u001b[34m██████    \u001b[0m| 6/10 [00:36<00:24,  6.01s/it]\u001b[32m [repeated 2x across cluster]\u001b[0m\n"
     ]
    },
    {
     "name": "stdout",
     "output_type": "stream",
     "text": [
      "\u001b[36m(launch_and_fit pid=13790)\u001b[0m \tTrain Epoch: 7 \tTrain_loss: 0.0690 | Train_acc: 99.3273 % | Validation_loss: 1.4205 | Validation_acc: 64.9919 %\u001b[32m [repeated 2x across cluster]\u001b[0m\n"
     ]
    },
    {
     "name": "stderr",
     "output_type": "stream",
     "text": [
      " 70%|\u001b[34m███████   \u001b[0m| 7/10 [00:42<00:18,  6.08s/it]\u001b[32m [repeated 2x across cluster]\u001b[0m\n"
     ]
    },
    {
     "name": "stdout",
     "output_type": "stream",
     "text": [
      "\u001b[36m(launch_and_fit pid=13790)\u001b[0m \tTrain Epoch: 8 \tTrain_loss: 0.0646 | Train_acc: 99.4575 % | Validation_loss: 1.4976 | Validation_acc: 63.5843 %\u001b[32m [repeated 2x across cluster]\u001b[0m\n"
     ]
    },
    {
     "name": "stderr",
     "output_type": "stream",
     "text": [
      " 80%|\u001b[34m████████  \u001b[0m| 8/10 [00:48<00:12,  6.04s/it]\u001b[32m [repeated 2x across cluster]\u001b[0m\n"
     ]
    },
    {
     "name": "stdout",
     "output_type": "stream",
     "text": [
      "\u001b[36m(launch_and_fit pid=13790)\u001b[0m \tTrain Epoch: 9 \tTrain_loss: 0.0584 | Train_acc: 99.4358 % | Validation_loss: 1.4902 | Validation_acc: 64.1298 %\u001b[32m [repeated 2x across cluster]\u001b[0m\n"
     ]
    },
    {
     "name": "stderr",
     "output_type": "stream",
     "text": [
      " 90%|\u001b[34m█████████ \u001b[0m| 9/10 [00:54<00:06,  6.05s/it]\u001b[32m [repeated 2x across cluster]\u001b[0m\n"
     ]
    },
    {
     "name": "stdout",
     "output_type": "stream",
     "text": [
      "\u001b[36m(launch_and_fit pid=13790)\u001b[0m save graph in  results/FL/\n",
      "\u001b[36m(launch_and_fit pid=13790)\u001b[0m \tTrain Epoch: 10 \tTrain_loss: 0.0487 | Train_acc: 99.6528 % | Validation_loss: 1.4599 | Validation_acc: 64.5811 %\u001b[32m [repeated 2x across cluster]\u001b[0m\n"
     ]
    },
    {
     "name": "stderr",
     "output_type": "stream",
     "text": [
      "100%|\u001b[34m██████████\u001b[0m| 10/10 [01:01<00:00,  6.13s/it]\u001b[32m [repeated 2x across cluster]\u001b[0m\n"
     ]
    },
    {
     "name": "stdout",
     "output_type": "stream",
     "text": [
      "\u001b[36m(launch_and_fit pid=13790)\u001b[0m network.0.weight 6.4373016357421875e-06\n",
      "\u001b[36m(launch_and_fit pid=13790)\u001b[0m network.0.bias 1.1920928955078125e-06\n",
      "\u001b[36m(launch_and_fit pid=13790)\u001b[0m network.2.weight 9.5367431640625e-07\n",
      "\u001b[36m(launch_and_fit pid=13790)\u001b[0m network.2.bias 1.1920928955078125e-06\n",
      "\u001b[36m(launch_and_fit pid=13790)\u001b[0m network.5.weight 1.430511474609375e-06\n",
      "\u001b[36m(launch_and_fit pid=13790)\u001b[0m network.5.bias 1.1920928955078125e-06\n",
      "\u001b[36m(launch_and_fit pid=13790)\u001b[0m network.7.weight 1.1920928955078125e-06\n",
      "\u001b[36m(launch_and_fit pid=13790)\u001b[0m network.7.bias 1.1920928955078125e-06\n",
      "\u001b[36m(launch_and_fit pid=13790)\u001b[0m network.10.weight 2.384185791015625e-06\n",
      "\u001b[36m(launch_and_fit pid=13790)\u001b[0m network.10.bias 2.1457672119140625e-06\n",
      "\u001b[36m(launch_and_fit pid=13790)\u001b[0m network.12.weight 1.6689300537109375e-06\n",
      "\u001b[36m(launch_and_fit pid=13790)\u001b[0m network.12.bias 1.1920928955078125e-06\n",
      "\u001b[36m(launch_and_fit pid=13790)\u001b[0m network.16.weight 1.1920928955078125e-06\n",
      "\u001b[36m(launch_and_fit pid=13790)\u001b[0m network.16.bias 9.5367431640625e-07\n",
      "\u001b[36m(launch_and_fit pid=13790)\u001b[0m network.18.weight 9.5367431640625e-07\n",
      "\u001b[36m(launch_and_fit pid=13790)\u001b[0m network.18.bias 1.1920928955078125e-06\n",
      "\u001b[36m(launch_and_fit pid=13790)\u001b[0m network.20.weight 1.430511474609375e-06\n",
      "\u001b[36m(launch_and_fit pid=13790)\u001b[0m network.20.bias 1.1920928955078125e-06\n",
      "\u001b[36m(launch_and_fit pid=13790)\u001b[0m qnn.weights 1.1920928955078125e-06\n",
      "\u001b[36m(launch_and_fit pid=13790)\u001b[0m fc4.weight 1.430511474609375e-06\n",
      "\u001b[36m(launch_and_fit pid=13790)\u001b[0m fc4.bias 1.430511474609375e-06\n",
      "\u001b[36m(launch_and_fit pid=13873)\u001b[0m Run with homomorphic encryption\n",
      "\u001b[36m(launch_and_fit pid=13815)\u001b[0m save graph in  results/FL/\n",
      "\u001b[36m(launch_and_fit pid=13815)\u001b[0m \tTrain Epoch: 10 \tTrain_loss: 0.0444 | Train_acc: 99.7613 % | Validation_loss: 1.3584 | Validation_acc: 64.0558 %\n",
      "\u001b[36m(launch_and_fit pid=13815)\u001b[0m fc4.bias 2.1457672119140625e-06\u001b[32m [repeated 20x across cluster]\u001b[0m\n",
      "\u001b[36m(launch_and_fit pid=13815)\u001b[0m qnn.weights 1.6689300537109375e-06\n",
      "\u001b[36m(launch_and_fit pid=13873)\u001b[0m [Client 7, round 17] fit, config: {'learning_rate': 0.001, 'batch_size': '128', 'server_round': 17, 'local_epochs': 10}\n"
     ]
    },
    {
     "name": "stderr",
     "output_type": "stream",
     "text": [
      "  0%|\u001b[34m          \u001b[0m| 0/10 [00:00<?, ?it/s]\n",
      "100%|\u001b[34m██████████\u001b[0m| 10/10 [01:00<00:00,  6.06s/it]\n"
     ]
    },
    {
     "name": "stdout",
     "output_type": "stream",
     "text": [
      "\u001b[36m(launch_and_fit pid=13873)\u001b[0m Updated model\n"
     ]
    },
    {
     "name": "stderr",
     "output_type": "stream",
     "text": [
      " 10%|\u001b[34m█         \u001b[0m| 1/10 [00:06<00:58,  6.49s/it]\n",
      "  0%|\u001b[34m          \u001b[0m| 0/10 [00:00<?, ?it/s]\n"
     ]
    },
    {
     "name": "stdout",
     "output_type": "stream",
     "text": [
      "\u001b[36m(launch_and_fit pid=13873)\u001b[0m \tTrain Epoch: 1 \tTrain_loss: 0.6160 | Train_acc: 81.3715 % | Validation_loss: 1.1560 | Validation_acc: 67.0057 %\n",
      "\u001b[36m(launch_and_fit pid=13897)\u001b[0m Run with homomorphic encryption\n",
      "\u001b[36m(launch_and_fit pid=13897)\u001b[0m [Client 5, round 17] fit, config: {'learning_rate': 0.001, 'batch_size': '128', 'server_round': 17, 'local_epochs': 10}\n",
      "\u001b[36m(launch_and_fit pid=13897)\u001b[0m Updated model\n"
     ]
    },
    {
     "name": "stderr",
     "output_type": "stream",
     "text": [
      " 20%|\u001b[34m██        \u001b[0m| 2/10 [00:12<00:48,  6.06s/it]\u001b[32m [repeated 2x across cluster]\u001b[0m\n"
     ]
    },
    {
     "name": "stdout",
     "output_type": "stream",
     "text": [
      "\u001b[36m(launch_and_fit pid=13873)\u001b[0m \tTrain Epoch: 2 \tTrain_loss: 0.3595 | Train_acc: 89.2187 % | Validation_loss: 1.2109 | Validation_acc: 66.7699 %\u001b[32m [repeated 2x across cluster]\u001b[0m\n"
     ]
    },
    {
     "name": "stderr",
     "output_type": "stream",
     "text": [
      " 30%|\u001b[34m███       \u001b[0m| 3/10 [00:18<00:42,  6.02s/it]\u001b[32m [repeated 2x across cluster]\u001b[0m\n"
     ]
    },
    {
     "name": "stdout",
     "output_type": "stream",
     "text": [
      "\u001b[36m(launch_and_fit pid=13873)\u001b[0m \tTrain Epoch: 3 \tTrain_loss: 0.2252 | Train_acc: 94.5443 % | Validation_loss: 1.2166 | Validation_acc: 66.5746 %\u001b[32m [repeated 2x across cluster]\u001b[0m\n"
     ]
    },
    {
     "name": "stderr",
     "output_type": "stream",
     "text": [
      " 40%|\u001b[34m████      \u001b[0m| 4/10 [00:24<00:36,  6.08s/it]\u001b[32m [repeated 2x across cluster]\u001b[0m\n"
     ]
    },
    {
     "name": "stdout",
     "output_type": "stream",
     "text": [
      "\u001b[36m(launch_and_fit pid=13873)\u001b[0m \tTrain Epoch: 4 \tTrain_loss: 0.1527 | Train_acc: 96.9835 % | Validation_loss: 1.1989 | Validation_acc: 67.2010 %\u001b[32m [repeated 2x across cluster]\u001b[0m\n"
     ]
    },
    {
     "name": "stderr",
     "output_type": "stream",
     "text": [
      " 50%|\u001b[34m█████     \u001b[0m| 5/10 [00:30<00:30,  6.03s/it]\u001b[32m [repeated 2x across cluster]\u001b[0m\n"
     ]
    },
    {
     "name": "stdout",
     "output_type": "stream",
     "text": [
      "\u001b[36m(launch_and_fit pid=13873)\u001b[0m \tTrain Epoch: 5 \tTrain_loss: 0.0994 | Train_acc: 98.4288 % | Validation_loss: 1.1614 | Validation_acc: 68.3526 %\u001b[32m [repeated 2x across cluster]\u001b[0m\n"
     ]
    },
    {
     "name": "stderr",
     "output_type": "stream",
     "text": [
      " 60%|\u001b[34m██████    \u001b[0m| 6/10 [00:36<00:23,  5.93s/it]\u001b[32m [repeated 2x across cluster]\u001b[0m\n"
     ]
    },
    {
     "name": "stdout",
     "output_type": "stream",
     "text": [
      "\u001b[36m(launch_and_fit pid=13873)\u001b[0m \tTrain Epoch: 6 \tTrain_loss: 0.0747 | Train_acc: 99.3056 % | Validation_loss: 1.1641 | Validation_acc: 69.3494 %\u001b[32m [repeated 2x across cluster]\u001b[0m\n"
     ]
    },
    {
     "name": "stderr",
     "output_type": "stream",
     "text": [
      " 70%|\u001b[34m███████   \u001b[0m| 7/10 [00:41<00:17,  5.85s/it]\u001b[32m [repeated 2x across cluster]\u001b[0m\n"
     ]
    },
    {
     "name": "stdout",
     "output_type": "stream",
     "text": [
      "\u001b[36m(launch_and_fit pid=13873)\u001b[0m \tTrain Epoch: 7 \tTrain_loss: 0.0647 | Train_acc: 99.2969 % | Validation_loss: 1.1645 | Validation_acc: 68.1371 %\u001b[32m [repeated 2x across cluster]\u001b[0m\n"
     ]
    },
    {
     "name": "stderr",
     "output_type": "stream",
     "text": [
      " 80%|\u001b[34m████████  \u001b[0m| 8/10 [00:47<00:11,  5.82s/it]\u001b[32m [repeated 2x across cluster]\u001b[0m\n"
     ]
    },
    {
     "name": "stdout",
     "output_type": "stream",
     "text": [
      "\u001b[36m(launch_and_fit pid=13873)\u001b[0m \tTrain Epoch: 8 \tTrain_loss: 0.0562 | Train_acc: 99.6528 % | Validation_loss: 1.1565 | Validation_acc: 68.3728 %\u001b[32m [repeated 2x across cluster]\u001b[0m\n"
     ]
    },
    {
     "name": "stderr",
     "output_type": "stream",
     "text": [
      " 90%|\u001b[34m█████████ \u001b[0m| 9/10 [00:53<00:05,  5.80s/it]\u001b[32m [repeated 2x across cluster]\u001b[0m\n"
     ]
    },
    {
     "name": "stdout",
     "output_type": "stream",
     "text": [
      "\u001b[36m(launch_and_fit pid=13873)\u001b[0m \tTrain Epoch: 9 \tTrain_loss: 0.0541 | Train_acc: 99.6311 % | Validation_loss: 1.1825 | Validation_acc: 68.3122 %\u001b[32m [repeated 2x across cluster]\u001b[0m\n"
     ]
    },
    {
     "name": "stderr",
     "output_type": "stream",
     "text": [
      "100%|\u001b[34m██████████\u001b[0m| 10/10 [00:59<00:00,  5.96s/it]\u001b[32m [repeated 2x across cluster]\u001b[0m\n"
     ]
    },
    {
     "name": "stdout",
     "output_type": "stream",
     "text": [
      "\u001b[36m(launch_and_fit pid=13873)\u001b[0m save graph in  results/FL/\n",
      "\u001b[36m(launch_and_fit pid=13873)\u001b[0m \tTrain Epoch: 10 \tTrain_loss: 0.0456 | Train_acc: 99.7179 % | Validation_loss: 1.1903 | Validation_acc: 67.7667 %\u001b[32m [repeated 2x across cluster]\u001b[0m\n"
     ]
    },
    {
     "name": "stderr",
     "output_type": "stream",
     "text": [
      "DEBUG flwr 2024-07-20 20:34:48,250 | server.py:236 | fit_round 17 received 10 results and 0 failures\n"
     ]
    },
    {
     "name": "stdout",
     "output_type": "stream",
     "text": [
      "\u001b[36m(launch_and_fit pid=13873)\u001b[0m network.0.weight 6.67572021484375e-06\n",
      "\u001b[36m(launch_and_fit pid=13873)\u001b[0m network.0.bias 2.384185791015625e-06\n",
      "\u001b[36m(launch_and_fit pid=13873)\u001b[0m network.2.weight 1.430511474609375e-06\n",
      "\u001b[36m(launch_and_fit pid=13873)\u001b[0m network.2.bias 1.1920928955078125e-06\n",
      "\u001b[36m(launch_and_fit pid=13873)\u001b[0m network.5.weight 1.430511474609375e-06\n",
      "\u001b[36m(launch_and_fit pid=13873)\u001b[0m network.5.bias 1.1920928955078125e-06\n",
      "\u001b[36m(launch_and_fit pid=13873)\u001b[0m network.7.weight 2.1457672119140625e-06\n",
      "\u001b[36m(launch_and_fit pid=13873)\u001b[0m network.7.bias 1.1920928955078125e-06\n",
      "\u001b[36m(launch_and_fit pid=13873)\u001b[0m network.10.weight 1.6689300537109375e-06\n",
      "\u001b[36m(launch_and_fit pid=13873)\u001b[0m network.10.bias 1.6689300537109375e-06\n",
      "\u001b[36m(launch_and_fit pid=13873)\u001b[0m network.12.weight 1.9073486328125e-06\n",
      "\u001b[36m(launch_and_fit pid=13873)\u001b[0m network.12.bias 1.430511474609375e-06\n",
      "\u001b[36m(launch_and_fit pid=13873)\u001b[0m network.16.weight 2.1457672119140625e-06\n",
      "\u001b[36m(launch_and_fit pid=13873)\u001b[0m network.16.bias 1.9073486328125e-06\n",
      "\u001b[36m(launch_and_fit pid=13873)\u001b[0m network.18.weight 1.6689300537109375e-06\n",
      "\u001b[36m(launch_and_fit pid=13873)\u001b[0m network.18.bias 1.430511474609375e-06\n",
      "\u001b[36m(launch_and_fit pid=13873)\u001b[0m network.20.weight 1.430511474609375e-06\n",
      "\u001b[36m(launch_and_fit pid=13873)\u001b[0m network.20.bias 1.6689300537109375e-06\n",
      "\u001b[36m(launch_and_fit pid=13873)\u001b[0m qnn.weights 1.430511474609375e-06\n",
      "\u001b[36m(launch_and_fit pid=13873)\u001b[0m fc4.weight 1.1920928955078125e-06\n",
      "\u001b[36m(launch_and_fit pid=13873)\u001b[0m fc4.bias 1.430511474609375e-06\n",
      "Saving round 17 aggregated_parameters...\n"
     ]
    },
    {
     "name": "stderr",
     "output_type": "stream",
     "text": [
      "DEBUG flwr 2024-07-20 20:34:49,259 | server.py:173 | evaluate_round 17: strategy sampled 10 clients (out of 10)\n"
     ]
    },
    {
     "name": "stdout",
     "output_type": "stream",
     "text": [
      "\u001b[36m(launch_and_evaluate pid=13963)\u001b[0m Run with homomorphic encryption\n",
      "\u001b[36m(launch_and_fit pid=13897)\u001b[0m save graph in  results/FL/\n",
      "\u001b[36m(launch_and_fit pid=13897)\u001b[0m \tTrain Epoch: 10 \tTrain_loss: 0.0521 | Train_acc: 99.4922 % | Validation_loss: 1.2146 | Validation_acc: 68.1775 %\n",
      "\u001b[36m(launch_and_fit pid=13897)\u001b[0m fc4.bias 1.430511474609375e-06\u001b[32m [repeated 20x across cluster]\u001b[0m\n",
      "\u001b[36m(launch_and_fit pid=13897)\u001b[0m qnn.weights 9.5367431640625e-07\n",
      "\u001b[36m(launch_and_evaluate pid=13963)\u001b[0m [Client 8] evaluate, config: {}\n",
      "\u001b[36m(launch_and_evaluate pid=13963)\u001b[0m Updated model\n",
      "\u001b[36m(launch_and_evaluate pid=13987)\u001b[0m Run with homomorphic encryption\n",
      "\u001b[36m(launch_and_evaluate pid=13987)\u001b[0m [Client 5] evaluate, config: {}\n",
      "\u001b[36m(launch_and_evaluate pid=14040)\u001b[0m Run with homomorphic encryption\n",
      "\u001b[36m(launch_and_evaluate pid=13987)\u001b[0m Updated model\n",
      "\u001b[36m(launch_and_evaluate pid=14040)\u001b[0m [Client 9] evaluate, config: {}\n",
      "\u001b[36m(launch_and_evaluate pid=14040)\u001b[0m Updated model\n",
      "\u001b[36m(launch_and_evaluate pid=14119)\u001b[0m Run with homomorphic encryption\u001b[32m [repeated 2x across cluster]\u001b[0m\n",
      "\u001b[36m(launch_and_evaluate pid=14065)\u001b[0m [Client 0] evaluate, config: {}\n",
      "\u001b[36m(launch_and_evaluate pid=14065)\u001b[0m Updated model\n",
      "\u001b[36m(launch_and_evaluate pid=14119)\u001b[0m [Client 3] evaluate, config: {}\n",
      "\u001b[36m(launch_and_evaluate pid=14119)\u001b[0m Updated model\n",
      "\u001b[36m(launch_and_evaluate pid=14197)\u001b[0m Run with homomorphic encryption\u001b[32m [repeated 2x across cluster]\u001b[0m\n",
      "\u001b[36m(launch_and_evaluate pid=14144)\u001b[0m [Client 6] evaluate, config: {}\n",
      "\u001b[36m(launch_and_evaluate pid=14144)\u001b[0m Updated model\n",
      "\u001b[36m(launch_and_evaluate pid=14197)\u001b[0m [Client 4] evaluate, config: {}\n",
      "\u001b[36m(launch_and_evaluate pid=14197)\u001b[0m Updated model\n",
      "\u001b[36m(launch_and_evaluate pid=14276)\u001b[0m Run with homomorphic encryption\u001b[32m [repeated 2x across cluster]\u001b[0m\n",
      "\u001b[36m(launch_and_evaluate pid=14222)\u001b[0m [Client 7] evaluate, config: {}\n",
      "\u001b[36m(launch_and_evaluate pid=14222)\u001b[0m Updated model\n",
      "\u001b[36m(launch_and_evaluate pid=14276)\u001b[0m [Client 2] evaluate, config: {}\n",
      "\u001b[36m(launch_and_evaluate pid=14276)\u001b[0m Updated model\n",
      "\u001b[36m(launch_and_evaluate pid=14301)\u001b[0m Run with homomorphic encryption\n"
     ]
    },
    {
     "name": "stderr",
     "output_type": "stream",
     "text": [
      "DEBUG flwr 2024-07-20 20:36:19,147 | server.py:187 | evaluate_round 17 received 10 results and 0 failures\n",
      "DEBUG flwr 2024-07-20 20:36:19,148 | server.py:222 | fit_round 18: strategy sampled 10 clients (out of 10)\n"
     ]
    },
    {
     "name": "stdout",
     "output_type": "stream",
     "text": [
      "\u001b[36m(launch_and_fit pid=14363)\u001b[0m Run with homomorphic encryption\n",
      "\u001b[36m(launch_and_evaluate pid=14301)\u001b[0m [Client 1] evaluate, config: {}\n",
      "\u001b[36m(launch_and_evaluate pid=14301)\u001b[0m Updated model\n",
      "\u001b[36m(launch_and_fit pid=14363)\u001b[0m [Client 7, round 18] fit, config: {'learning_rate': 0.001, 'batch_size': '128', 'server_round': 18, 'local_epochs': 10}\n"
     ]
    },
    {
     "name": "stderr",
     "output_type": "stream",
     "text": [
      "  0%|\u001b[34m          \u001b[0m| 0/10 [00:00<?, ?it/s]\n",
      "100%|\u001b[34m██████████\u001b[0m| 10/10 [00:58<00:00,  5.85s/it]\n"
     ]
    },
    {
     "name": "stdout",
     "output_type": "stream",
     "text": [
      "\u001b[36m(launch_and_fit pid=14363)\u001b[0m Updated model\n"
     ]
    },
    {
     "name": "stderr",
     "output_type": "stream",
     "text": [
      " 10%|\u001b[34m█         \u001b[0m| 1/10 [00:06<00:57,  6.42s/it]\n",
      "  0%|\u001b[34m          \u001b[0m| 0/10 [00:00<?, ?it/s]\n"
     ]
    },
    {
     "name": "stdout",
     "output_type": "stream",
     "text": [
      "\u001b[36m(launch_and_fit pid=14364)\u001b[0m \tTrain Epoch: 1 \tTrain_loss: 0.6020 | Train_acc: 81.4974 % | Validation_loss: 1.4357 | Validation_acc: 60.9106 %\n",
      "\u001b[36m(launch_and_fit pid=14364)\u001b[0m Run with homomorphic encryption\n",
      "\u001b[36m(launch_and_fit pid=14364)\u001b[0m [Client 1, round 18] fit, config: {'learning_rate': 0.001, 'batch_size': '128', 'server_round': 18, 'local_epochs': 10}\n",
      "\u001b[36m(launch_and_fit pid=14364)\u001b[0m Updated model\n"
     ]
    },
    {
     "name": "stderr",
     "output_type": "stream",
     "text": [
      " 20%|\u001b[34m██        \u001b[0m| 2/10 [00:12<00:50,  6.35s/it]\u001b[32m [repeated 2x across cluster]\u001b[0m\n"
     ]
    },
    {
     "name": "stdout",
     "output_type": "stream",
     "text": [
      "\u001b[36m(launch_and_fit pid=14364)\u001b[0m \tTrain Epoch: 2 \tTrain_loss: 0.3394 | Train_acc: 90.1172 % | Validation_loss: 1.3798 | Validation_acc: 63.6247 %\u001b[32m [repeated 2x across cluster]\u001b[0m\n"
     ]
    },
    {
     "name": "stderr",
     "output_type": "stream",
     "text": [
      " 30%|\u001b[34m███       \u001b[0m| 3/10 [00:18<00:43,  6.15s/it]\u001b[32m [repeated 2x across cluster]\u001b[0m\n"
     ]
    },
    {
     "name": "stdout",
     "output_type": "stream",
     "text": [
      "\u001b[36m(launch_and_fit pid=14364)\u001b[0m \tTrain Epoch: 3 \tTrain_loss: 0.1884 | Train_acc: 95.2604 % | Validation_loss: 1.3890 | Validation_acc: 63.5641 %\u001b[32m [repeated 2x across cluster]\u001b[0m\n"
     ]
    },
    {
     "name": "stderr",
     "output_type": "stream",
     "text": [
      " 40%|\u001b[34m████      \u001b[0m| 4/10 [00:24<00:36,  6.13s/it]\u001b[32m [repeated 2x across cluster]\u001b[0m\n"
     ]
    },
    {
     "name": "stdout",
     "output_type": "stream",
     "text": [
      "\u001b[36m(launch_and_fit pid=14364)\u001b[0m \tTrain Epoch: 4 \tTrain_loss: 0.1237 | Train_acc: 97.7214 % | Validation_loss: 1.3549 | Validation_acc: 64.8370 %\u001b[32m [repeated 2x across cluster]\u001b[0m\n"
     ]
    },
    {
     "name": "stderr",
     "output_type": "stream",
     "text": [
      " 50%|\u001b[34m█████     \u001b[0m| 5/10 [00:30<00:30,  6.08s/it]\u001b[32m [repeated 2x across cluster]\u001b[0m\n"
     ]
    },
    {
     "name": "stdout",
     "output_type": "stream",
     "text": [
      "\u001b[36m(launch_and_fit pid=14364)\u001b[0m \tTrain Epoch: 5 \tTrain_loss: 0.0859 | Train_acc: 98.8715 % | Validation_loss: 1.3979 | Validation_acc: 64.3858 %\u001b[32m [repeated 2x across cluster]\u001b[0m\n"
     ]
    },
    {
     "name": "stderr",
     "output_type": "stream",
     "text": [
      " 60%|\u001b[34m██████    \u001b[0m| 6/10 [00:36<00:24,  6.06s/it]\u001b[32m [repeated 2x across cluster]\u001b[0m\n"
     ]
    },
    {
     "name": "stdout",
     "output_type": "stream",
     "text": [
      "\u001b[36m(launch_and_fit pid=14364)\u001b[0m \tTrain Epoch: 6 \tTrain_loss: 0.0640 | Train_acc: 99.2839 % | Validation_loss: 1.4027 | Validation_acc: 64.9515 %\u001b[32m [repeated 2x across cluster]\u001b[0m\n"
     ]
    },
    {
     "name": "stderr",
     "output_type": "stream",
     "text": [
      " 70%|\u001b[34m███████   \u001b[0m| 7/10 [00:43<00:18,  6.15s/it]\u001b[32m [repeated 2x across cluster]\u001b[0m\n"
     ]
    },
    {
     "name": "stdout",
     "output_type": "stream",
     "text": [
      "\u001b[36m(launch_and_fit pid=14364)\u001b[0m \tTrain Epoch: 7 \tTrain_loss: 0.0535 | Train_acc: 99.5443 % | Validation_loss: 1.3515 | Validation_acc: 66.8508 %\u001b[32m [repeated 2x across cluster]\u001b[0m\n"
     ]
    },
    {
     "name": "stderr",
     "output_type": "stream",
     "text": [
      " 80%|\u001b[34m████████  \u001b[0m| 8/10 [00:48<00:12,  6.06s/it]\u001b[32m [repeated 2x across cluster]\u001b[0m\n"
     ]
    },
    {
     "name": "stdout",
     "output_type": "stream",
     "text": [
      "\u001b[36m(launch_and_fit pid=14364)\u001b[0m \tTrain Epoch: 8 \tTrain_loss: 0.0489 | Train_acc: 99.6528 % | Validation_loss: 1.3531 | Validation_acc: 66.0897 %\u001b[32m [repeated 2x across cluster]\u001b[0m\n"
     ]
    },
    {
     "name": "stderr",
     "output_type": "stream",
     "text": [
      " 90%|\u001b[34m█████████ \u001b[0m| 9/10 [00:54<00:06,  6.02s/it]\u001b[32m [repeated 2x across cluster]\u001b[0m\n"
     ]
    },
    {
     "name": "stdout",
     "output_type": "stream",
     "text": [
      "\u001b[36m(launch_and_fit pid=14364)\u001b[0m \tTrain Epoch: 9 \tTrain_loss: 0.0388 | Train_acc: 99.7179 % | Validation_loss: 1.3695 | Validation_acc: 64.8774 %\u001b[32m [repeated 2x across cluster]\u001b[0m\n"
     ]
    },
    {
     "name": "stderr",
     "output_type": "stream",
     "text": [
      "100%|\u001b[34m██████████\u001b[0m| 10/10 [01:01<00:00,  6.11s/it]\u001b[32m [repeated 2x across cluster]\u001b[0m\n"
     ]
    },
    {
     "name": "stdout",
     "output_type": "stream",
     "text": [
      "\u001b[36m(launch_and_fit pid=14364)\u001b[0m save graph in  results/FL/\n",
      "\u001b[36m(launch_and_fit pid=14364)\u001b[0m \tTrain Epoch: 10 \tTrain_loss: 0.0354 | Train_acc: 99.7396 % | Validation_loss: 1.3786 | Validation_acc: 65.8540 %\u001b[32m [repeated 2x across cluster]\u001b[0m\n",
      "\u001b[36m(launch_and_fit pid=14364)\u001b[0m network.0.weight 5.245208740234375e-06\n",
      "\u001b[36m(launch_and_fit pid=14364)\u001b[0m network.0.bias 1.430511474609375e-06\n",
      "\u001b[36m(launch_and_fit pid=14364)\u001b[0m network.2.weight 1.1920928955078125e-06\n",
      "\u001b[36m(launch_and_fit pid=14364)\u001b[0m network.2.bias 1.430511474609375e-06\n",
      "\u001b[36m(launch_and_fit pid=14364)\u001b[0m network.5.weight 1.1920928955078125e-06\n",
      "\u001b[36m(launch_and_fit pid=14364)\u001b[0m network.5.bias 9.5367431640625e-07\n",
      "\u001b[36m(launch_and_fit pid=14364)\u001b[0m network.7.weight 1.430511474609375e-06\n",
      "\u001b[36m(launch_and_fit pid=14364)\u001b[0m network.7.bias 1.1920928955078125e-06\n",
      "\u001b[36m(launch_and_fit pid=14364)\u001b[0m network.10.weight 1.1920928955078125e-06\n",
      "\u001b[36m(launch_and_fit pid=14364)\u001b[0m network.10.bias 1.430511474609375e-06\n",
      "\u001b[36m(launch_and_fit pid=14364)\u001b[0m network.12.weight 1.1920928955078125e-06\n",
      "\u001b[36m(launch_and_fit pid=14364)\u001b[0m network.12.bias 9.5367431640625e-07\n",
      "\u001b[36m(launch_and_fit pid=14364)\u001b[0m network.16.weight 1.430511474609375e-06\n",
      "\u001b[36m(launch_and_fit pid=14364)\u001b[0m network.16.bias 9.5367431640625e-07\n",
      "\u001b[36m(launch_and_fit pid=14364)\u001b[0m network.18.weight 1.1920928955078125e-06\n",
      "\u001b[36m(launch_and_fit pid=14364)\u001b[0m network.18.bias 1.1920928955078125e-06\n",
      "\u001b[36m(launch_and_fit pid=14364)\u001b[0m network.20.weight 1.1920928955078125e-06\n",
      "\u001b[36m(launch_and_fit pid=14364)\u001b[0m network.20.bias 9.5367431640625e-07\n",
      "\u001b[36m(launch_and_fit pid=14364)\u001b[0m qnn.weights 1.1920928955078125e-06\n",
      "\u001b[36m(launch_and_fit pid=14364)\u001b[0m fc4.weight 1.430511474609375e-06\n",
      "\u001b[36m(launch_and_fit pid=14364)\u001b[0m fc4.bias 9.5367431640625e-07\n",
      "\u001b[36m(launch_and_fit pid=14446)\u001b[0m Run with homomorphic encryption\n",
      "\u001b[36m(launch_and_fit pid=14363)\u001b[0m save graph in  results/FL/\n",
      "\u001b[36m(launch_and_fit pid=14363)\u001b[0m \tTrain Epoch: 10 \tTrain_loss: 0.0416 | Train_acc: 99.6094 % | Validation_loss: 1.1364 | Validation_acc: 68.2381 %\n",
      "\u001b[36m(launch_and_fit pid=14363)\u001b[0m fc4.bias 1.430511474609375e-06\u001b[32m [repeated 20x across cluster]\u001b[0m\n",
      "\u001b[36m(launch_and_fit pid=14363)\u001b[0m qnn.weights 1.1920928955078125e-06\n",
      "\u001b[36m(launch_and_fit pid=14446)\u001b[0m [Client 9, round 18] fit, config: {'learning_rate': 0.001, 'batch_size': '128', 'server_round': 18, 'local_epochs': 10}\n"
     ]
    },
    {
     "name": "stderr",
     "output_type": "stream",
     "text": [
      "  0%|\u001b[34m          \u001b[0m| 0/10 [00:00<?, ?it/s]\n",
      "100%|\u001b[34m██████████\u001b[0m| 10/10 [01:02<00:00,  6.21s/it]\n"
     ]
    },
    {
     "name": "stdout",
     "output_type": "stream",
     "text": [
      "\u001b[36m(launch_and_fit pid=14446)\u001b[0m Updated model\n"
     ]
    },
    {
     "name": "stderr",
     "output_type": "stream",
     "text": [
      " 10%|\u001b[34m█         \u001b[0m| 1/10 [00:06<00:56,  6.28s/it]\n",
      "  0%|\u001b[34m          \u001b[0m| 0/10 [00:00<?, ?it/s]\n"
     ]
    },
    {
     "name": "stdout",
     "output_type": "stream",
     "text": [
      "\u001b[36m(launch_and_fit pid=14446)\u001b[0m \tTrain Epoch: 1 \tTrain_loss: 0.5421 | Train_acc: 83.5547 % | Validation_loss: 1.4341 | Validation_acc: 63.2745 %\n",
      "\u001b[36m(launch_and_fit pid=14472)\u001b[0m Run with homomorphic encryption\n",
      "\u001b[36m(launch_and_fit pid=14472)\u001b[0m [Client 6, round 18] fit, config: {'learning_rate': 0.001, 'batch_size': '128', 'server_round': 18, 'local_epochs': 10}\n",
      "\u001b[36m(launch_and_fit pid=14472)\u001b[0m Updated model\n"
     ]
    },
    {
     "name": "stderr",
     "output_type": "stream",
     "text": [
      " 20%|\u001b[34m██        \u001b[0m| 2/10 [00:12<00:48,  6.03s/it]\u001b[32m [repeated 2x across cluster]\u001b[0m\n"
     ]
    },
    {
     "name": "stdout",
     "output_type": "stream",
     "text": [
      "\u001b[36m(launch_and_fit pid=14446)\u001b[0m \tTrain Epoch: 2 \tTrain_loss: 0.2983 | Train_acc: 91.6016 % | Validation_loss: 1.4171 | Validation_acc: 64.6821 %\u001b[32m [repeated 2x across cluster]\u001b[0m\n"
     ]
    },
    {
     "name": "stderr",
     "output_type": "stream",
     "text": [
      " 30%|\u001b[34m███       \u001b[0m| 3/10 [00:17<00:41,  5.86s/it]\u001b[32m [repeated 2x across cluster]\u001b[0m\n"
     ]
    },
    {
     "name": "stdout",
     "output_type": "stream",
     "text": [
      "\u001b[36m(launch_and_fit pid=14446)\u001b[0m \tTrain Epoch: 3 \tTrain_loss: 0.2021 | Train_acc: 95.1606 % | Validation_loss: 1.3932 | Validation_acc: 66.5746 %\u001b[32m [repeated 2x across cluster]\u001b[0m\n"
     ]
    },
    {
     "name": "stderr",
     "output_type": "stream",
     "text": [
      " 40%|\u001b[34m████      \u001b[0m| 4/10 [00:23<00:35,  5.95s/it]\u001b[32m [repeated 2x across cluster]\u001b[0m\n"
     ]
    },
    {
     "name": "stdout",
     "output_type": "stream",
     "text": [
      "\u001b[36m(launch_and_fit pid=14446)\u001b[0m \tTrain Epoch: 4 \tTrain_loss: 0.1511 | Train_acc: 96.5885 % | Validation_loss: 1.3565 | Validation_acc: 66.0089 %\u001b[32m [repeated 2x across cluster]\u001b[0m\n"
     ]
    },
    {
     "name": "stderr",
     "output_type": "stream",
     "text": [
      " 50%|\u001b[34m█████     \u001b[0m| 5/10 [00:30<00:30,  6.08s/it]\u001b[32m [repeated 2x across cluster]\u001b[0m\n"
     ]
    },
    {
     "name": "stdout",
     "output_type": "stream",
     "text": [
      "\u001b[36m(launch_and_fit pid=14446)\u001b[0m \tTrain Epoch: 5 \tTrain_loss: 0.1319 | Train_acc: 97.0095 % | Validation_loss: 1.4065 | Validation_acc: 63.9952 %\u001b[32m [repeated 2x across cluster]\u001b[0m\n"
     ]
    },
    {
     "name": "stderr",
     "output_type": "stream",
     "text": [
      " 60%|\u001b[34m██████    \u001b[0m| 6/10 [00:35<00:23,  5.98s/it]\u001b[32m [repeated 2x across cluster]\u001b[0m\n"
     ]
    },
    {
     "name": "stdout",
     "output_type": "stream",
     "text": [
      "\u001b[36m(launch_and_fit pid=14446)\u001b[0m \tTrain Epoch: 6 \tTrain_loss: 0.0982 | Train_acc: 98.3073 % | Validation_loss: 1.4264 | Validation_acc: 65.8540 %\u001b[32m [repeated 2x across cluster]\u001b[0m\n"
     ]
    },
    {
     "name": "stderr",
     "output_type": "stream",
     "text": [
      " 70%|\u001b[34m███████   \u001b[0m| 7/10 [00:42<00:18,  6.04s/it]\u001b[32m [repeated 2x across cluster]\u001b[0m\n"
     ]
    },
    {
     "name": "stdout",
     "output_type": "stream",
     "text": [
      "\u001b[36m(launch_and_fit pid=14446)\u001b[0m \tTrain Epoch: 7 \tTrain_loss: 0.0783 | Train_acc: 98.7023 % | Validation_loss: 1.3962 | Validation_acc: 64.8168 %\u001b[32m [repeated 2x across cluster]\u001b[0m\n"
     ]
    },
    {
     "name": "stderr",
     "output_type": "stream",
     "text": [
      " 80%|\u001b[34m████████  \u001b[0m| 8/10 [00:48<00:11,  5.99s/it]\u001b[32m [repeated 2x across cluster]\u001b[0m\n"
     ]
    },
    {
     "name": "stdout",
     "output_type": "stream",
     "text": [
      "\u001b[36m(launch_and_fit pid=14446)\u001b[0m \tTrain Epoch: 8 \tTrain_loss: 0.0664 | Train_acc: 99.1970 % | Validation_loss: 1.3902 | Validation_acc: 64.4060 %\u001b[32m [repeated 2x across cluster]\u001b[0m\n"
     ]
    },
    {
     "name": "stderr",
     "output_type": "stream",
     "text": [
      " 90%|\u001b[34m█████████ \u001b[0m| 9/10 [00:53<00:05,  5.96s/it]\u001b[32m [repeated 2x across cluster]\u001b[0m\n"
     ]
    },
    {
     "name": "stdout",
     "output_type": "stream",
     "text": [
      "\u001b[36m(launch_and_fit pid=14446)\u001b[0m \tTrain Epoch: 9 \tTrain_loss: 0.0653 | Train_acc: 99.1536 % | Validation_loss: 1.5513 | Validation_acc: 62.5269 %\u001b[32m [repeated 2x across cluster]\u001b[0m\n"
     ]
    },
    {
     "name": "stderr",
     "output_type": "stream",
     "text": [
      "100%|\u001b[34m██████████\u001b[0m| 10/10 [01:00<00:00,  6.04s/it]\u001b[32m [repeated 2x across cluster]\u001b[0m\n"
     ]
    },
    {
     "name": "stdout",
     "output_type": "stream",
     "text": [
      "\u001b[36m(launch_and_fit pid=14446)\u001b[0m save graph in  results/FL/\n",
      "\u001b[36m(launch_and_fit pid=14446)\u001b[0m \tTrain Epoch: 10 \tTrain_loss: 0.0916 | Train_acc: 98.4071 % | Validation_loss: 1.4639 | Validation_acc: 64.2107 %\u001b[32m [repeated 2x across cluster]\u001b[0m\n",
      "\u001b[36m(launch_and_fit pid=14446)\u001b[0m network.0.weight 6.4373016357421875e-06\n",
      "\u001b[36m(launch_and_fit pid=14446)\u001b[0m network.0.bias 3.0994415283203125e-06\n",
      "\u001b[36m(launch_and_fit pid=14446)\u001b[0m network.2.weight 1.6689300537109375e-06\n",
      "\u001b[36m(launch_and_fit pid=14446)\u001b[0m network.2.bias 1.430511474609375e-06\n",
      "\u001b[36m(launch_and_fit pid=14446)\u001b[0m network.5.weight 1.1920928955078125e-06\n",
      "\u001b[36m(launch_and_fit pid=14446)\u001b[0m network.5.bias 1.1920928955078125e-06\n",
      "\u001b[36m(launch_and_fit pid=14446)\u001b[0m network.7.weight 1.1920928955078125e-06\n",
      "\u001b[36m(launch_and_fit pid=14446)\u001b[0m network.7.bias 1.430511474609375e-06\n",
      "\u001b[36m(launch_and_fit pid=14446)\u001b[0m network.10.weight 1.430511474609375e-06\n",
      "\u001b[36m(launch_and_fit pid=14446)\u001b[0m network.10.bias 9.5367431640625e-07\n",
      "\u001b[36m(launch_and_fit pid=14446)\u001b[0m network.12.weight 1.1920928955078125e-06\n",
      "\u001b[36m(launch_and_fit pid=14446)\u001b[0m network.12.bias 9.5367431640625e-07\n",
      "\u001b[36m(launch_and_fit pid=14446)\u001b[0m network.16.weight 1.1920928955078125e-06\n",
      "\u001b[36m(launch_and_fit pid=14446)\u001b[0m network.16.bias 1.1920928955078125e-06\n",
      "\u001b[36m(launch_and_fit pid=14446)\u001b[0m network.18.weight 1.1920928955078125e-06\n",
      "\u001b[36m(launch_and_fit pid=14446)\u001b[0m network.18.bias 2.384185791015625e-06\n",
      "\u001b[36m(launch_and_fit pid=14446)\u001b[0m network.20.weight 1.9073486328125e-06\n",
      "\u001b[36m(launch_and_fit pid=14446)\u001b[0m network.20.bias 1.6689300537109375e-06\n",
      "\u001b[36m(launch_and_fit pid=14446)\u001b[0m qnn.weights 1.6689300537109375e-06\n",
      "\u001b[36m(launch_and_fit pid=14446)\u001b[0m fc4.weight 2.384185791015625e-06\n",
      "\u001b[36m(launch_and_fit pid=14446)\u001b[0m fc4.bias 1.6689300537109375e-06\n",
      "\u001b[36m(launch_and_fit pid=14530)\u001b[0m Run with homomorphic encryption\n",
      "\u001b[36m(launch_and_fit pid=14472)\u001b[0m save graph in  results/FL/\n",
      "\u001b[36m(launch_and_fit pid=14472)\u001b[0m \tTrain Epoch: 10 \tTrain_loss: 0.0340 | Train_acc: 99.7613 % | Validation_loss: 1.2484 | Validation_acc: 66.5948 %\n",
      "\u001b[36m(launch_and_fit pid=14472)\u001b[0m fc4.bias 1.6689300537109375e-06\u001b[32m [repeated 20x across cluster]\u001b[0m\n",
      "\u001b[36m(launch_and_fit pid=14472)\u001b[0m qnn.weights 1.430511474609375e-06\n",
      "\u001b[36m(launch_and_fit pid=14530)\u001b[0m [Client 5, round 18] fit, config: {'learning_rate': 0.001, 'batch_size': '128', 'server_round': 18, 'local_epochs': 10}\n",
      "\u001b[36m(launch_and_fit pid=14530)\u001b[0m Updated model\n"
     ]
    },
    {
     "name": "stderr",
     "output_type": "stream",
     "text": [
      "  0%|\u001b[34m          \u001b[0m| 0/10 [00:00<?, ?it/s]\n",
      "100%|\u001b[34m██████████\u001b[0m| 10/10 [01:00<00:00,  6.10s/it]\n"
     ]
    },
    {
     "name": "stdout",
     "output_type": "stream",
     "text": [
      "\u001b[36m(launch_and_fit pid=14530)\u001b[0m \tTrain Epoch: 1 \tTrain_loss: 0.5710 | Train_acc: 82.9514 % | Validation_loss: 1.2293 | Validation_acc: 68.1573 %\n",
      "\u001b[36m(launch_and_fit pid=14555)\u001b[0m Run with homomorphic encryption\n",
      "\u001b[36m(launch_and_fit pid=14555)\u001b[0m [Client 3, round 18] fit, config: {'learning_rate': 0.001, 'batch_size': '128', 'server_round': 18, 'local_epochs': 10}\n",
      "\u001b[36m(launch_and_fit pid=14555)\u001b[0m Updated model\n"
     ]
    },
    {
     "name": "stderr",
     "output_type": "stream",
     "text": [
      " 10%|\u001b[34m█         \u001b[0m| 1/10 [00:06<00:57,  6.40s/it]\n",
      "  0%|\u001b[34m          \u001b[0m| 0/10 [00:00<?, ?it/s]\n"
     ]
    },
    {
     "name": "stdout",
     "output_type": "stream",
     "text": [
      "\u001b[36m(launch_and_fit pid=14530)\u001b[0m \tTrain Epoch: 2 \tTrain_loss: 0.3141 | Train_acc: 90.8420 % | Validation_loss: 1.2285 | Validation_acc: 68.7635 %\u001b[32m [repeated 2x across cluster]\u001b[0m\n"
     ]
    },
    {
     "name": "stderr",
     "output_type": "stream",
     "text": [
      " 20%|\u001b[34m██        \u001b[0m| 2/10 [00:12<00:48,  6.10s/it]\u001b[32m [repeated 2x across cluster]\u001b[0m\n"
     ]
    },
    {
     "name": "stdout",
     "output_type": "stream",
     "text": [
      "\u001b[36m(launch_and_fit pid=14530)\u001b[0m \tTrain Epoch: 3 \tTrain_loss: 0.1753 | Train_acc: 96.0503 % | Validation_loss: 1.2323 | Validation_acc: 68.5884 %\u001b[32m [repeated 2x across cluster]\u001b[0m\n"
     ]
    },
    {
     "name": "stderr",
     "output_type": "stream",
     "text": [
      " 30%|\u001b[34m███       \u001b[0m| 3/10 [00:18<00:43,  6.22s/it]\u001b[32m [repeated 2x across cluster]\u001b[0m\n"
     ]
    },
    {
     "name": "stdout",
     "output_type": "stream",
     "text": [
      "\u001b[36m(launch_and_fit pid=14530)\u001b[0m \tTrain Epoch: 4 \tTrain_loss: 0.1306 | Train_acc: 97.3741 % | Validation_loss: 1.2366 | Validation_acc: 69.5851 %\u001b[32m [repeated 2x across cluster]\u001b[0m\n"
     ]
    },
    {
     "name": "stderr",
     "output_type": "stream",
     "text": [
      " 40%|\u001b[34m████      \u001b[0m| 4/10 [00:24<00:36,  6.12s/it]\u001b[32m [repeated 2x across cluster]\u001b[0m\n"
     ]
    },
    {
     "name": "stdout",
     "output_type": "stream",
     "text": [
      "\u001b[36m(launch_and_fit pid=14530)\u001b[0m \tTrain Epoch: 5 \tTrain_loss: 0.0951 | Train_acc: 98.4809 % | Validation_loss: 1.2388 | Validation_acc: 68.9588 %\u001b[32m [repeated 2x across cluster]\u001b[0m\n"
     ]
    },
    {
     "name": "stderr",
     "output_type": "stream",
     "text": [
      " 50%|\u001b[34m█████     \u001b[0m| 5/10 [00:30<00:30,  6.03s/it]\u001b[32m [repeated 2x across cluster]\u001b[0m\n"
     ]
    },
    {
     "name": "stdout",
     "output_type": "stream",
     "text": [
      "\u001b[36m(launch_and_fit pid=14530)\u001b[0m \tTrain Epoch: 6 \tTrain_loss: 0.0698 | Train_acc: 99.1102 % | Validation_loss: 1.1734 | Validation_acc: 71.3834 %\u001b[32m [repeated 2x across cluster]\u001b[0m\n"
     ]
    },
    {
     "name": "stderr",
     "output_type": "stream",
     "text": [
      " 60%|\u001b[34m██████    \u001b[0m| 6/10 [00:36<00:23,  5.99s/it]\u001b[32m [repeated 2x across cluster]\u001b[0m\n"
     ]
    },
    {
     "name": "stdout",
     "output_type": "stream",
     "text": [
      "\u001b[36m(launch_and_fit pid=14530)\u001b[0m \tTrain Epoch: 7 \tTrain_loss: 0.0584 | Train_acc: 99.2839 % | Validation_loss: 1.2129 | Validation_acc: 69.1541 %\u001b[32m [repeated 2x across cluster]\u001b[0m\n"
     ]
    },
    {
     "name": "stderr",
     "output_type": "stream",
     "text": [
      " 70%|\u001b[34m███████   \u001b[0m| 7/10 [00:42<00:17,  5.95s/it]\u001b[32m [repeated 2x across cluster]\u001b[0m\n"
     ]
    },
    {
     "name": "stdout",
     "output_type": "stream",
     "text": [
      "\u001b[36m(launch_and_fit pid=14530)\u001b[0m \tTrain Epoch: 8 \tTrain_loss: 0.0506 | Train_acc: 99.4141 % | Validation_loss: 1.2064 | Validation_acc: 69.7602 %\u001b[32m [repeated 2x across cluster]\u001b[0m\n"
     ]
    },
    {
     "name": "stderr",
     "output_type": "stream",
     "text": [
      " 80%|\u001b[34m████████  \u001b[0m| 8/10 [00:48<00:12,  6.06s/it]\u001b[32m [repeated 2x across cluster]\u001b[0m\n"
     ]
    },
    {
     "name": "stdout",
     "output_type": "stream",
     "text": [
      "\u001b[36m(launch_and_fit pid=14530)\u001b[0m \tTrain Epoch: 9 \tTrain_loss: 0.0446 | Train_acc: 99.6094 % | Validation_loss: 1.1965 | Validation_acc: 70.3866 %\u001b[32m [repeated 2x across cluster]\u001b[0m\n"
     ]
    },
    {
     "name": "stderr",
     "output_type": "stream",
     "text": [
      " 90%|\u001b[34m█████████ \u001b[0m| 9/10 [00:54<00:06,  6.02s/it]\u001b[32m [repeated 2x across cluster]\u001b[0m\n"
     ]
    },
    {
     "name": "stdout",
     "output_type": "stream",
     "text": [
      "\u001b[36m(launch_and_fit pid=14530)\u001b[0m save graph in  results/FL/\n",
      "\u001b[36m(launch_and_fit pid=14530)\u001b[0m \tTrain Epoch: 10 \tTrain_loss: 0.0402 | Train_acc: 99.6745 % | Validation_loss: 1.2131 | Validation_acc: 69.7804 %\u001b[32m [repeated 2x across cluster]\u001b[0m\n"
     ]
    },
    {
     "name": "stderr",
     "output_type": "stream",
     "text": [
      "100%|\u001b[34m██████████\u001b[0m| 10/10 [01:00<00:00,  6.06s/it]\u001b[32m [repeated 2x across cluster]\u001b[0m\n"
     ]
    },
    {
     "name": "stdout",
     "output_type": "stream",
     "text": [
      "\u001b[36m(launch_and_fit pid=14530)\u001b[0m network.0.weight 5.245208740234375e-06\n",
      "\u001b[36m(launch_and_fit pid=14530)\u001b[0m network.0.bias 1.6689300537109375e-06\n",
      "\u001b[36m(launch_and_fit pid=14530)\u001b[0m network.2.weight 1.1920928955078125e-06\n",
      "\u001b[36m(launch_and_fit pid=14530)\u001b[0m network.2.bias 1.430511474609375e-06\n",
      "\u001b[36m(launch_and_fit pid=14530)\u001b[0m network.5.weight 1.430511474609375e-06\n",
      "\u001b[36m(launch_and_fit pid=14530)\u001b[0m network.5.bias 1.1920928955078125e-06\n",
      "\u001b[36m(launch_and_fit pid=14530)\u001b[0m network.7.weight 1.430511474609375e-06\n",
      "\u001b[36m(launch_and_fit pid=14530)\u001b[0m network.7.bias 1.1920928955078125e-06\n",
      "\u001b[36m(launch_and_fit pid=14530)\u001b[0m network.10.weight 1.6689300537109375e-06\n",
      "\u001b[36m(launch_and_fit pid=14530)\u001b[0m network.10.bias 1.1920928955078125e-06\n",
      "\u001b[36m(launch_and_fit pid=14530)\u001b[0m network.12.weight 1.1920928955078125e-06\n",
      "\u001b[36m(launch_and_fit pid=14530)\u001b[0m network.12.bias 1.430511474609375e-06\n",
      "\u001b[36m(launch_and_fit pid=14530)\u001b[0m network.16.weight 1.430511474609375e-06\n",
      "\u001b[36m(launch_and_fit pid=14530)\u001b[0m network.16.bias 1.1920928955078125e-06\n",
      "\u001b[36m(launch_and_fit pid=14530)\u001b[0m network.18.weight 1.430511474609375e-06\n",
      "\u001b[36m(launch_and_fit pid=14530)\u001b[0m network.18.bias 1.430511474609375e-06\n",
      "\u001b[36m(launch_and_fit pid=14530)\u001b[0m network.20.weight 1.430511474609375e-06\n",
      "\u001b[36m(launch_and_fit pid=14530)\u001b[0m network.20.bias 1.1920928955078125e-06\n",
      "\u001b[36m(launch_and_fit pid=14530)\u001b[0m qnn.weights 1.430511474609375e-06\n",
      "\u001b[36m(launch_and_fit pid=14530)\u001b[0m fc4.weight 1.1920928955078125e-06\n",
      "\u001b[36m(launch_and_fit pid=14530)\u001b[0m fc4.bias 1.1920928955078125e-06\n",
      "\u001b[36m(launch_and_fit pid=14612)\u001b[0m Run with homomorphic encryption\n",
      "\u001b[36m(launch_and_fit pid=14555)\u001b[0m save graph in  results/FL/\n",
      "\u001b[36m(launch_and_fit pid=14555)\u001b[0m \tTrain Epoch: 10 \tTrain_loss: 0.0388 | Train_acc: 99.7179 % | Validation_loss: 1.2786 | Validation_acc: 66.0628 %\n",
      "\u001b[36m(launch_and_fit pid=14555)\u001b[0m fc4.bias 1.1920928955078125e-06\u001b[32m [repeated 20x across cluster]\u001b[0m\n",
      "\u001b[36m(launch_and_fit pid=14555)\u001b[0m qnn.weights 1.1920928955078125e-06\n",
      "\u001b[36m(launch_and_fit pid=14612)\u001b[0m [Client 8, round 18] fit, config: {'learning_rate': 0.001, 'batch_size': '128', 'server_round': 18, 'local_epochs': 10}\n",
      "\u001b[36m(launch_and_fit pid=14612)\u001b[0m Updated model\n"
     ]
    },
    {
     "name": "stderr",
     "output_type": "stream",
     "text": [
      "  0%|\u001b[34m          \u001b[0m| 0/10 [00:00<?, ?it/s]\n",
      "100%|\u001b[34m██████████\u001b[0m| 10/10 [01:00<00:00,  6.08s/it]\n"
     ]
    },
    {
     "name": "stdout",
     "output_type": "stream",
     "text": [
      "\u001b[36m(launch_and_fit pid=14612)\u001b[0m \tTrain Epoch: 1 \tTrain_loss: 0.5769 | Train_acc: 82.0964 % | Validation_loss: 1.3399 | Validation_acc: 62.9849 %\n",
      "\u001b[36m(launch_and_fit pid=14637)\u001b[0m Run with homomorphic encryption\n",
      "\u001b[36m(launch_and_fit pid=14637)\u001b[0m [Client 2, round 18] fit, config: {'learning_rate': 0.001, 'batch_size': '128', 'server_round': 18, 'local_epochs': 10}\n",
      "\u001b[36m(launch_and_fit pid=14637)\u001b[0m Updated model\n"
     ]
    },
    {
     "name": "stderr",
     "output_type": "stream",
     "text": [
      " 10%|\u001b[34m█         \u001b[0m| 1/10 [00:06<00:58,  6.48s/it]\n",
      "  0%|\u001b[34m          \u001b[0m| 0/10 [00:00<?, ?it/s]\n"
     ]
    },
    {
     "name": "stdout",
     "output_type": "stream",
     "text": [
      "\u001b[36m(launch_and_fit pid=14612)\u001b[0m \tTrain Epoch: 2 \tTrain_loss: 0.2915 | Train_acc: 91.5321 % | Validation_loss: 1.4028 | Validation_acc: 62.5539 %\u001b[32m [repeated 2x across cluster]\u001b[0m\n"
     ]
    },
    {
     "name": "stderr",
     "output_type": "stream",
     "text": [
      " 20%|\u001b[34m██        \u001b[0m| 2/10 [00:12<00:50,  6.30s/it]\u001b[32m [repeated 2x across cluster]\u001b[0m\n"
     ]
    },
    {
     "name": "stdout",
     "output_type": "stream",
     "text": [
      "\u001b[36m(launch_and_fit pid=14612)\u001b[0m \tTrain Epoch: 3 \tTrain_loss: 0.2240 | Train_acc: 94.1536 % | Validation_loss: 1.4160 | Validation_acc: 63.0186 %\u001b[32m [repeated 2x across cluster]\u001b[0m\n"
     ]
    },
    {
     "name": "stderr",
     "output_type": "stream",
     "text": [
      " 30%|\u001b[34m███       \u001b[0m| 3/10 [00:18<00:42,  6.13s/it]\u001b[32m [repeated 2x across cluster]\u001b[0m\n"
     ]
    },
    {
     "name": "stdout",
     "output_type": "stream",
     "text": [
      "\u001b[36m(launch_and_fit pid=14612)\u001b[0m \tTrain Epoch: 4 \tTrain_loss: 0.1517 | Train_acc: 96.6146 % | Validation_loss: 1.3819 | Validation_acc: 62.7290 %\u001b[32m [repeated 2x across cluster]\u001b[0m\n"
     ]
    },
    {
     "name": "stderr",
     "output_type": "stream",
     "text": [
      " 40%|\u001b[34m████      \u001b[0m| 4/10 [00:24<00:36,  6.03s/it]\u001b[32m [repeated 2x across cluster]\u001b[0m\n"
     ]
    },
    {
     "name": "stdout",
     "output_type": "stream",
     "text": [
      "\u001b[36m(launch_and_fit pid=14612)\u001b[0m \tTrain Epoch: 5 \tTrain_loss: 0.1058 | Train_acc: 98.0816 % | Validation_loss: 1.3908 | Validation_acc: 64.3319 %\u001b[32m [repeated 2x across cluster]\u001b[0m\n"
     ]
    },
    {
     "name": "stderr",
     "output_type": "stream",
     "text": [
      " 50%|\u001b[34m█████     \u001b[0m| 5/10 [00:30<00:29,  5.98s/it]\u001b[32m [repeated 2x across cluster]\u001b[0m\n"
     ]
    },
    {
     "name": "stdout",
     "output_type": "stream",
     "text": [
      "\u001b[36m(launch_and_fit pid=14612)\u001b[0m \tTrain Epoch: 6 \tTrain_loss: 0.0820 | Train_acc: 98.7413 % | Validation_loss: 1.3877 | Validation_acc: 64.4464 %\u001b[32m [repeated 2x across cluster]\u001b[0m\n"
     ]
    },
    {
     "name": "stderr",
     "output_type": "stream",
     "text": [
      " 60%|\u001b[34m██████    \u001b[0m| 6/10 [00:36<00:24,  6.02s/it]\u001b[32m [repeated 2x across cluster]\u001b[0m\n"
     ]
    },
    {
     "name": "stdout",
     "output_type": "stream",
     "text": [
      "\u001b[36m(launch_and_fit pid=14612)\u001b[0m \tTrain Epoch: 7 \tTrain_loss: 0.0896 | Train_acc: 98.4809 % | Validation_loss: 1.4451 | Validation_acc: 62.7896 %\u001b[32m [repeated 2x across cluster]\u001b[0m\n"
     ]
    },
    {
     "name": "stderr",
     "output_type": "stream",
     "text": [
      " 70%|\u001b[34m███████   \u001b[0m| 7/10 [00:42<00:17,  5.96s/it]\u001b[32m [repeated 2x across cluster]\u001b[0m\n"
     ]
    },
    {
     "name": "stdout",
     "output_type": "stream",
     "text": [
      "\u001b[36m(launch_and_fit pid=14612)\u001b[0m \tTrain Epoch: 8 \tTrain_loss: 0.0975 | Train_acc: 98.1771 % | Validation_loss: 1.5478 | Validation_acc: 60.9914 %\u001b[32m [repeated 2x across cluster]\u001b[0m\n"
     ]
    },
    {
     "name": "stderr",
     "output_type": "stream",
     "text": [
      " 80%|\u001b[34m████████  \u001b[0m| 8/10 [00:48<00:11,  5.89s/it]\u001b[32m [repeated 2x across cluster]\u001b[0m\n"
     ]
    },
    {
     "name": "stdout",
     "output_type": "stream",
     "text": [
      "\u001b[36m(launch_and_fit pid=14612)\u001b[0m \tTrain Epoch: 9 \tTrain_loss: 0.1021 | Train_acc: 98.1771 % | Validation_loss: 1.5135 | Validation_acc: 62.1228 %\u001b[32m [repeated 2x across cluster]\u001b[0m\n"
     ]
    },
    {
     "name": "stderr",
     "output_type": "stream",
     "text": [
      " 90%|\u001b[34m█████████ \u001b[0m| 9/10 [00:54<00:05,  5.92s/it]\u001b[32m [repeated 2x across cluster]\u001b[0m\n"
     ]
    },
    {
     "name": "stdout",
     "output_type": "stream",
     "text": [
      "\u001b[36m(launch_and_fit pid=14612)\u001b[0m save graph in  results/FL/\n",
      "\u001b[36m(launch_and_fit pid=14612)\u001b[0m \tTrain Epoch: 10 \tTrain_loss: 0.1048 | Train_acc: 98.1120 % | Validation_loss: 1.4406 | Validation_acc: 62.1835 %\u001b[32m [repeated 2x across cluster]\u001b[0m\n"
     ]
    },
    {
     "name": "stderr",
     "output_type": "stream",
     "text": [
      "100%|\u001b[34m██████████\u001b[0m| 10/10 [00:59<00:00,  5.98s/it]\u001b[32m [repeated 2x across cluster]\u001b[0m\n"
     ]
    },
    {
     "name": "stdout",
     "output_type": "stream",
     "text": [
      "\u001b[36m(launch_and_fit pid=14612)\u001b[0m network.0.weight 5.245208740234375e-06\n",
      "\u001b[36m(launch_and_fit pid=14612)\u001b[0m network.0.bias 1.6689300537109375e-06\n",
      "\u001b[36m(launch_and_fit pid=14612)\u001b[0m network.2.weight 1.1920928955078125e-06\n",
      "\u001b[36m(launch_and_fit pid=14612)\u001b[0m network.2.bias 1.1920928955078125e-06\n",
      "\u001b[36m(launch_and_fit pid=14612)\u001b[0m network.5.weight 1.430511474609375e-06\n",
      "\u001b[36m(launch_and_fit pid=14612)\u001b[0m network.5.bias 1.1920928955078125e-06\n",
      "\u001b[36m(launch_and_fit pid=14612)\u001b[0m network.7.weight 1.1920928955078125e-06\n",
      "\u001b[36m(launch_and_fit pid=14612)\u001b[0m network.7.bias 1.1920928955078125e-06\n",
      "\u001b[36m(launch_and_fit pid=14612)\u001b[0m network.10.weight 1.1920928955078125e-06\n",
      "\u001b[36m(launch_and_fit pid=14612)\u001b[0m network.10.bias 9.5367431640625e-07\n",
      "\u001b[36m(launch_and_fit pid=14612)\u001b[0m network.12.weight 9.5367431640625e-07\n",
      "\u001b[36m(launch_and_fit pid=14612)\u001b[0m network.12.bias 1.1920928955078125e-06\n",
      "\u001b[36m(launch_and_fit pid=14612)\u001b[0m network.16.weight 1.1920928955078125e-06\n",
      "\u001b[36m(launch_and_fit pid=14612)\u001b[0m network.16.bias 1.430511474609375e-06\n",
      "\u001b[36m(launch_and_fit pid=14612)\u001b[0m network.18.weight 1.430511474609375e-06\n",
      "\u001b[36m(launch_and_fit pid=14612)\u001b[0m network.18.bias 1.430511474609375e-06\n",
      "\u001b[36m(launch_and_fit pid=14612)\u001b[0m network.20.weight 1.1920928955078125e-06\n",
      "\u001b[36m(launch_and_fit pid=14612)\u001b[0m network.20.bias 9.5367431640625e-07\n",
      "\u001b[36m(launch_and_fit pid=14612)\u001b[0m qnn.weights 1.1920928955078125e-06\n",
      "\u001b[36m(launch_and_fit pid=14612)\u001b[0m fc4.weight 1.1920928955078125e-06\n",
      "\u001b[36m(launch_and_fit pid=14612)\u001b[0m fc4.bias 1.1920928955078125e-06\n",
      "\u001b[36m(launch_and_fit pid=14694)\u001b[0m Run with homomorphic encryption\n",
      "\u001b[36m(launch_and_fit pid=14637)\u001b[0m save graph in  results/FL/\n",
      "\u001b[36m(launch_and_fit pid=14637)\u001b[0m \tTrain Epoch: 10 \tTrain_loss: 0.0482 | Train_acc: 99.5009 % | Validation_loss: 1.4917 | Validation_acc: 62.5471 %\n",
      "\u001b[36m(launch_and_fit pid=14637)\u001b[0m fc4.bias 1.430511474609375e-06\u001b[32m [repeated 20x across cluster]\u001b[0m\n",
      "\u001b[36m(launch_and_fit pid=14637)\u001b[0m qnn.weights 1.430511474609375e-06\n",
      "\u001b[36m(launch_and_fit pid=14694)\u001b[0m [Client 0, round 18] fit, config: {'learning_rate': 0.001, 'batch_size': '128', 'server_round': 18, 'local_epochs': 10}\n",
      "\u001b[36m(launch_and_fit pid=14694)\u001b[0m Updated model\n"
     ]
    },
    {
     "name": "stderr",
     "output_type": "stream",
     "text": [
      "  0%|\u001b[34m          \u001b[0m| 0/10 [00:00<?, ?it/s]\n",
      "100%|\u001b[34m██████████\u001b[0m| 10/10 [01:01<00:00,  6.13s/it]\n"
     ]
    },
    {
     "name": "stdout",
     "output_type": "stream",
     "text": [
      "\u001b[36m(launch_and_fit pid=14719)\u001b[0m Run with homomorphic encryption\n",
      "\u001b[36m(launch_and_fit pid=14694)\u001b[0m \tTrain Epoch: 1 \tTrain_loss: 0.5914 | Train_acc: 81.3194 % | Validation_loss: 1.2089 | Validation_acc: 67.0057 %\n",
      "\u001b[36m(launch_and_fit pid=14719)\u001b[0m [Client 4, round 18] fit, config: {'learning_rate': 0.001, 'batch_size': '128', 'server_round': 18, 'local_epochs': 10}\n",
      "\u001b[36m(launch_and_fit pid=14719)\u001b[0m Updated model\n"
     ]
    },
    {
     "name": "stderr",
     "output_type": "stream",
     "text": [
      " 10%|\u001b[34m█         \u001b[0m| 1/10 [00:06<00:57,  6.43s/it]\n",
      "  0%|\u001b[34m          \u001b[0m| 0/10 [00:00<?, ?it/s]\n"
     ]
    },
    {
     "name": "stdout",
     "output_type": "stream",
     "text": [
      "\u001b[36m(launch_and_fit pid=14694)\u001b[0m \tTrain Epoch: 2 \tTrain_loss: 0.2873 | Train_acc: 91.9705 % | Validation_loss: 1.2385 | Validation_acc: 66.4803 %\u001b[32m [repeated 2x across cluster]\u001b[0m\n"
     ]
    },
    {
     "name": "stderr",
     "output_type": "stream",
     "text": [
      " 20%|\u001b[34m██        \u001b[0m| 2/10 [00:12<00:49,  6.21s/it]\u001b[32m [repeated 2x across cluster]\u001b[0m\n"
     ]
    },
    {
     "name": "stdout",
     "output_type": "stream",
     "text": [
      "\u001b[36m(launch_and_fit pid=14694)\u001b[0m \tTrain Epoch: 3 \tTrain_loss: 0.1777 | Train_acc: 95.5729 % | Validation_loss: 1.1787 | Validation_acc: 69.0194 %\u001b[32m [repeated 2x across cluster]\u001b[0m\n"
     ]
    },
    {
     "name": "stderr",
     "output_type": "stream",
     "text": [
      " 30%|\u001b[34m███       \u001b[0m| 3/10 [00:18<00:42,  6.09s/it]\u001b[32m [repeated 2x across cluster]\u001b[0m\n"
     ]
    },
    {
     "name": "stdout",
     "output_type": "stream",
     "text": [
      "\u001b[36m(launch_and_fit pid=14694)\u001b[0m \tTrain Epoch: 4 \tTrain_loss: 0.1146 | Train_acc: 97.8082 % | Validation_loss: 1.1882 | Validation_acc: 69.0194 %\u001b[32m [repeated 2x across cluster]\u001b[0m\n"
     ]
    },
    {
     "name": "stderr",
     "output_type": "stream",
     "text": [
      " 40%|\u001b[34m████      \u001b[0m| 4/10 [00:24<00:36,  6.05s/it]\u001b[32m [repeated 2x across cluster]\u001b[0m\n"
     ]
    },
    {
     "name": "stdout",
     "output_type": "stream",
     "text": [
      "\u001b[36m(launch_and_fit pid=14694)\u001b[0m \tTrain Epoch: 5 \tTrain_loss: 0.0923 | Train_acc: 98.5460 % | Validation_loss: 1.2363 | Validation_acc: 66.5746 %\u001b[32m [repeated 2x across cluster]\u001b[0m\n"
     ]
    },
    {
     "name": "stderr",
     "output_type": "stream",
     "text": [
      " 50%|\u001b[34m█████     \u001b[0m| 5/10 [00:30<00:29,  5.99s/it]\u001b[32m [repeated 2x across cluster]\u001b[0m\n"
     ]
    },
    {
     "name": "stdout",
     "output_type": "stream",
     "text": [
      "\u001b[36m(launch_and_fit pid=14694)\u001b[0m \tTrain Epoch: 6 \tTrain_loss: 0.0758 | Train_acc: 98.9800 % | Validation_loss: 1.2280 | Validation_acc: 66.6150 %\u001b[32m [repeated 2x across cluster]\u001b[0m\n"
     ]
    },
    {
     "name": "stderr",
     "output_type": "stream",
     "text": [
      " 60%|\u001b[34m██████    \u001b[0m| 6/10 [00:36<00:23,  5.98s/it]\u001b[32m [repeated 2x across cluster]\u001b[0m\n"
     ]
    },
    {
     "name": "stdout",
     "output_type": "stream",
     "text": [
      "\u001b[36m(launch_and_fit pid=14694)\u001b[0m \tTrain Epoch: 7 \tTrain_loss: 0.0580 | Train_acc: 99.3056 % | Validation_loss: 1.2162 | Validation_acc: 67.5916 %\u001b[32m [repeated 2x across cluster]\u001b[0m\n"
     ]
    },
    {
     "name": "stderr",
     "output_type": "stream",
     "text": [
      " 70%|\u001b[34m███████   \u001b[0m| 7/10 [00:42<00:17,  5.92s/it]\u001b[32m [repeated 2x across cluster]\u001b[0m\n"
     ]
    },
    {
     "name": "stdout",
     "output_type": "stream",
     "text": [
      "\u001b[36m(launch_and_fit pid=14694)\u001b[0m \tTrain Epoch: 8 \tTrain_loss: 0.0510 | Train_acc: 99.4575 % | Validation_loss: 1.2094 | Validation_acc: 67.0865 %\u001b[32m [repeated 2x across cluster]\u001b[0m\n"
     ]
    },
    {
     "name": "stderr",
     "output_type": "stream",
     "text": [
      " 80%|\u001b[34m████████  \u001b[0m| 8/10 [00:48<00:11,  5.93s/it]\u001b[32m [repeated 2x across cluster]\u001b[0m\n"
     ]
    },
    {
     "name": "stdout",
     "output_type": "stream",
     "text": [
      "\u001b[36m(launch_and_fit pid=14694)\u001b[0m \tTrain Epoch: 9 \tTrain_loss: 0.0433 | Train_acc: 99.6094 % | Validation_loss: 1.2116 | Validation_acc: 66.6756 %\u001b[32m [repeated 2x across cluster]\u001b[0m\n"
     ]
    },
    {
     "name": "stderr",
     "output_type": "stream",
     "text": [
      " 90%|\u001b[34m█████████ \u001b[0m| 9/10 [00:53<00:05,  5.94s/it]\u001b[32m [repeated 2x across cluster]\u001b[0m\n"
     ]
    },
    {
     "name": "stdout",
     "output_type": "stream",
     "text": [
      "\u001b[36m(launch_and_fit pid=14694)\u001b[0m save graph in  results/FL/\n",
      "\u001b[36m(launch_and_fit pid=14694)\u001b[0m \tTrain Epoch: 10 \tTrain_loss: 0.0405 | Train_acc: 99.6311 % | Validation_loss: 1.2351 | Validation_acc: 66.2850 %\u001b[32m [repeated 2x across cluster]\u001b[0m\n"
     ]
    },
    {
     "name": "stderr",
     "output_type": "stream",
     "text": [
      "100%|\u001b[34m██████████\u001b[0m| 10/10 [01:00<00:00,  6.03s/it]\u001b[32m [repeated 2x across cluster]\u001b[0m\n"
     ]
    },
    {
     "name": "stdout",
     "output_type": "stream",
     "text": [
      "\u001b[36m(launch_and_fit pid=14694)\u001b[0m network.0.weight 4.5299530029296875e-06\n",
      "\u001b[36m(launch_and_fit pid=14694)\u001b[0m network.0.bias 1.6689300537109375e-06\n",
      "\u001b[36m(launch_and_fit pid=14694)\u001b[0m network.2.weight 9.5367431640625e-07\n",
      "\u001b[36m(launch_and_fit pid=14694)\u001b[0m network.2.bias 1.1920928955078125e-06\n",
      "\u001b[36m(launch_and_fit pid=14694)\u001b[0m network.5.weight 1.1920928955078125e-06\n",
      "\u001b[36m(launch_and_fit pid=14694)\u001b[0m network.5.bias 1.1920928955078125e-06\n",
      "\u001b[36m(launch_and_fit pid=14694)\u001b[0m network.7.weight 1.1920928955078125e-06\n",
      "\u001b[36m(launch_and_fit pid=14694)\u001b[0m network.7.bias 1.1920928955078125e-06\n",
      "\u001b[36m(launch_and_fit pid=14694)\u001b[0m network.10.weight 1.1920928955078125e-06\n",
      "\u001b[36m(launch_and_fit pid=14694)\u001b[0m network.10.bias 1.1920928955078125e-06\n",
      "\u001b[36m(launch_and_fit pid=14694)\u001b[0m network.12.weight 9.5367431640625e-07\n",
      "\u001b[36m(launch_and_fit pid=14694)\u001b[0m network.12.bias 9.5367431640625e-07\n",
      "\u001b[36m(launch_and_fit pid=14694)\u001b[0m network.16.weight 1.1920928955078125e-06\n",
      "\u001b[36m(launch_and_fit pid=14694)\u001b[0m network.16.bias 1.1920928955078125e-06\n",
      "\u001b[36m(launch_and_fit pid=14694)\u001b[0m network.18.weight 1.1920928955078125e-06\n",
      "\u001b[36m(launch_and_fit pid=14694)\u001b[0m network.18.bias 1.1920928955078125e-06\n",
      "\u001b[36m(launch_and_fit pid=14694)\u001b[0m network.20.weight 1.430511474609375e-06\n",
      "\u001b[36m(launch_and_fit pid=14694)\u001b[0m network.20.bias 1.1920928955078125e-06\n",
      "\u001b[36m(launch_and_fit pid=14694)\u001b[0m qnn.weights 9.5367431640625e-07\n",
      "\u001b[36m(launch_and_fit pid=14694)\u001b[0m fc4.weight 1.1920928955078125e-06\n",
      "\u001b[36m(launch_and_fit pid=14694)\u001b[0m fc4.bias 1.1920928955078125e-06\n"
     ]
    },
    {
     "name": "stderr",
     "output_type": "stream",
     "text": [
      "DEBUG flwr 2024-07-20 20:42:47,763 | server.py:236 | fit_round 18 received 10 results and 0 failures\n"
     ]
    },
    {
     "name": "stdout",
     "output_type": "stream",
     "text": [
      "Saving round 18 aggregated_parameters...\n"
     ]
    },
    {
     "name": "stderr",
     "output_type": "stream",
     "text": [
      "DEBUG flwr 2024-07-20 20:42:48,720 | server.py:173 | evaluate_round 18: strategy sampled 10 clients (out of 10)\n"
     ]
    },
    {
     "name": "stdout",
     "output_type": "stream",
     "text": [
      "\u001b[36m(launch_and_evaluate pid=14786)\u001b[0m Run with homomorphic encryption\n",
      "\u001b[36m(launch_and_fit pid=14719)\u001b[0m save graph in  results/FL/\n",
      "\u001b[36m(launch_and_fit pid=14719)\u001b[0m \tTrain Epoch: 10 \tTrain_loss: 0.0379 | Train_acc: 99.6311 % | Validation_loss: 1.4843 | Validation_acc: 63.3890 %\n",
      "\u001b[36m(launch_and_fit pid=14719)\u001b[0m fc4.bias 1.1920928955078125e-06\u001b[32m [repeated 20x across cluster]\u001b[0m\n",
      "\u001b[36m(launch_and_fit pid=14719)\u001b[0m qnn.weights 9.5367431640625e-07\n",
      "\u001b[36m(launch_and_evaluate pid=14786)\u001b[0m [Client 0] evaluate, config: {}\n",
      "\u001b[36m(launch_and_evaluate pid=14786)\u001b[0m Updated model\n",
      "\u001b[36m(launch_and_evaluate pid=14864)\u001b[0m Run with homomorphic encryption\u001b[32m [repeated 2x across cluster]\u001b[0m\n",
      "\u001b[36m(launch_and_evaluate pid=14785)\u001b[0m [Client 1] evaluate, config: {}\n",
      "\u001b[36m(launch_and_evaluate pid=14785)\u001b[0m Updated model\n",
      "\u001b[36m(launch_and_evaluate pid=14864)\u001b[0m [Client 8] evaluate, config: {}\n",
      "\u001b[36m(launch_and_evaluate pid=14864)\u001b[0m Updated model\n",
      "\u001b[36m(launch_and_evaluate pid=14942)\u001b[0m Run with homomorphic encryption\u001b[32m [repeated 2x across cluster]\u001b[0m\n",
      "\u001b[36m(launch_and_evaluate pid=14866)\u001b[0m [Client 3] evaluate, config: {}\n",
      "\u001b[36m(launch_and_evaluate pid=14866)\u001b[0m Updated model\n",
      "\u001b[36m(launch_and_evaluate pid=14942)\u001b[0m [Client 7] evaluate, config: {}\n",
      "\u001b[36m(launch_and_evaluate pid=14942)\u001b[0m Updated model\n",
      "\u001b[36m(launch_and_evaluate pid=15021)\u001b[0m Run with homomorphic encryption\u001b[32m [repeated 2x across cluster]\u001b[0m\n",
      "\u001b[36m(launch_and_evaluate pid=14944)\u001b[0m [Client 2] evaluate, config: {}\n",
      "\u001b[36m(launch_and_evaluate pid=14944)\u001b[0m Updated model\n",
      "\u001b[36m(launch_and_evaluate pid=15021)\u001b[0m [Client 5] evaluate, config: {}\n",
      "\u001b[36m(launch_and_evaluate pid=15021)\u001b[0m Updated model\n",
      "\u001b[36m(launch_and_evaluate pid=15098)\u001b[0m Run with homomorphic encryption\u001b[32m [repeated 2x across cluster]\u001b[0m\n",
      "\u001b[36m(launch_and_evaluate pid=15022)\u001b[0m [Client 4] evaluate, config: {}\n",
      "\u001b[36m(launch_and_evaluate pid=15022)\u001b[0m Updated model\n",
      "\u001b[36m(launch_and_evaluate pid=15098)\u001b[0m [Client 9] evaluate, config: {}\n",
      "\u001b[36m(launch_and_evaluate pid=15098)\u001b[0m Updated model\n"
     ]
    },
    {
     "name": "stderr",
     "output_type": "stream",
     "text": [
      "DEBUG flwr 2024-07-20 20:44:17,918 | server.py:187 | evaluate_round 18 received 10 results and 0 failures\n",
      "DEBUG flwr 2024-07-20 20:44:17,919 | server.py:222 | fit_round 19: strategy sampled 10 clients (out of 10)\n"
     ]
    },
    {
     "name": "stdout",
     "output_type": "stream",
     "text": [
      "\u001b[36m(launch_and_fit pid=15185)\u001b[0m Run with homomorphic encryption\u001b[32m [repeated 2x across cluster]\u001b[0m\n",
      "\u001b[36m(launch_and_evaluate pid=15100)\u001b[0m [Client 6] evaluate, config: {}\n",
      "\u001b[36m(launch_and_evaluate pid=15100)\u001b[0m Updated model\n",
      "\u001b[36m(launch_and_fit pid=15185)\u001b[0m [Client 5, round 19] fit, config: {'learning_rate': 0.001, 'batch_size': '128', 'server_round': 19, 'local_epochs': 10}\n"
     ]
    },
    {
     "name": "stderr",
     "output_type": "stream",
     "text": [
      "  0%|\u001b[34m          \u001b[0m| 0/10 [00:00<?, ?it/s]\n",
      "100%|\u001b[34m██████████\u001b[0m| 10/10 [00:59<00:00,  5.99s/it]\n"
     ]
    },
    {
     "name": "stdout",
     "output_type": "stream",
     "text": [
      "\u001b[36m(launch_and_fit pid=15185)\u001b[0m Updated model\n"
     ]
    },
    {
     "name": "stderr",
     "output_type": "stream",
     "text": [
      " 10%|\u001b[34m█         \u001b[0m| 1/10 [00:06<00:59,  6.61s/it]\n",
      "  0%|\u001b[34m          \u001b[0m| 0/10 [00:00<?, ?it/s]\n"
     ]
    },
    {
     "name": "stdout",
     "output_type": "stream",
     "text": [
      "\u001b[36m(launch_and_fit pid=15185)\u001b[0m \tTrain Epoch: 1 \tTrain_loss: 0.5419 | Train_acc: 82.8168 % | Validation_loss: 1.1708 | Validation_acc: 68.5682 %\n",
      "\u001b[36m(launch_and_fit pid=15209)\u001b[0m Run with homomorphic encryption\n",
      "\u001b[36m(launch_and_fit pid=15209)\u001b[0m [Client 0, round 19] fit, config: {'learning_rate': 0.001, 'batch_size': '128', 'server_round': 19, 'local_epochs': 10}\n",
      "\u001b[36m(launch_and_fit pid=15209)\u001b[0m Updated model\n"
     ]
    },
    {
     "name": "stderr",
     "output_type": "stream",
     "text": [
      " 20%|\u001b[34m██        \u001b[0m| 2/10 [00:12<00:49,  6.19s/it]\u001b[32m [repeated 2x across cluster]\u001b[0m\n"
     ]
    },
    {
     "name": "stdout",
     "output_type": "stream",
     "text": [
      "\u001b[36m(launch_and_fit pid=15185)\u001b[0m \tTrain Epoch: 2 \tTrain_loss: 0.2692 | Train_acc: 92.5130 % | Validation_loss: 1.2660 | Validation_acc: 67.7263 %\u001b[32m [repeated 2x across cluster]\u001b[0m\n"
     ]
    },
    {
     "name": "stderr",
     "output_type": "stream",
     "text": [
      " 30%|\u001b[34m███       \u001b[0m| 3/10 [00:18<00:41,  6.00s/it]\u001b[32m [repeated 2x across cluster]\u001b[0m\n"
     ]
    },
    {
     "name": "stdout",
     "output_type": "stream",
     "text": [
      "\u001b[36m(launch_and_fit pid=15185)\u001b[0m \tTrain Epoch: 3 \tTrain_loss: 0.1367 | Train_acc: 96.9618 % | Validation_loss: 1.2638 | Validation_acc: 68.3526 %\u001b[32m [repeated 2x across cluster]\u001b[0m\n"
     ]
    },
    {
     "name": "stderr",
     "output_type": "stream",
     "text": [
      " 40%|\u001b[34m████      \u001b[0m| 4/10 [00:24<00:35,  5.92s/it]\u001b[32m [repeated 2x across cluster]\u001b[0m\n"
     ]
    },
    {
     "name": "stdout",
     "output_type": "stream",
     "text": [
      "\u001b[36m(launch_and_fit pid=15185)\u001b[0m \tTrain Epoch: 4 \tTrain_loss: 0.0880 | Train_acc: 98.4939 % | Validation_loss: 1.2978 | Validation_acc: 67.5714 %\u001b[32m [repeated 2x across cluster]\u001b[0m\n"
     ]
    },
    {
     "name": "stderr",
     "output_type": "stream",
     "text": [
      " 50%|\u001b[34m█████     \u001b[0m| 5/10 [00:29<00:29,  5.92s/it]\u001b[32m [repeated 2x across cluster]\u001b[0m\n"
     ]
    },
    {
     "name": "stdout",
     "output_type": "stream",
     "text": [
      "\u001b[36m(launch_and_fit pid=15185)\u001b[0m \tTrain Epoch: 5 \tTrain_loss: 0.0691 | Train_acc: 99.0668 % | Validation_loss: 1.2509 | Validation_acc: 70.1711 %\u001b[32m [repeated 2x across cluster]\u001b[0m\n"
     ]
    },
    {
     "name": "stderr",
     "output_type": "stream",
     "text": [
      " 60%|\u001b[34m██████    \u001b[0m| 6/10 [00:35<00:23,  5.89s/it]\u001b[32m [repeated 2x across cluster]\u001b[0m\n"
     ]
    },
    {
     "name": "stdout",
     "output_type": "stream",
     "text": [
      "\u001b[36m(launch_and_fit pid=15185)\u001b[0m \tTrain Epoch: 6 \tTrain_loss: 0.0502 | Train_acc: 99.4141 % | Validation_loss: 1.2207 | Validation_acc: 69.7602 %\u001b[32m [repeated 2x across cluster]\u001b[0m\n"
     ]
    },
    {
     "name": "stderr",
     "output_type": "stream",
     "text": [
      " 70%|\u001b[34m███████   \u001b[0m| 7/10 [00:41<00:17,  5.98s/it]\u001b[32m [repeated 2x across cluster]\u001b[0m\n"
     ]
    },
    {
     "name": "stdout",
     "output_type": "stream",
     "text": [
      "\u001b[36m(launch_and_fit pid=15185)\u001b[0m \tTrain Epoch: 7 \tTrain_loss: 0.0442 | Train_acc: 99.5877 % | Validation_loss: 1.2438 | Validation_acc: 69.6255 %\u001b[32m [repeated 2x across cluster]\u001b[0m\n"
     ]
    },
    {
     "name": "stderr",
     "output_type": "stream",
     "text": [
      " 80%|\u001b[34m████████  \u001b[0m| 8/10 [00:47<00:11,  5.90s/it]\u001b[32m [repeated 2x across cluster]\u001b[0m\n"
     ]
    },
    {
     "name": "stdout",
     "output_type": "stream",
     "text": [
      "\u001b[36m(launch_and_fit pid=15185)\u001b[0m \tTrain Epoch: 8 \tTrain_loss: 0.0382 | Train_acc: 99.6094 % | Validation_loss: 1.2581 | Validation_acc: 69.8006 %\u001b[32m [repeated 2x across cluster]\u001b[0m\n"
     ]
    },
    {
     "name": "stderr",
     "output_type": "stream",
     "text": [
      " 90%|\u001b[34m█████████ \u001b[0m| 9/10 [00:53<00:05,  5.84s/it]\u001b[32m [repeated 2x across cluster]\u001b[0m\n"
     ]
    },
    {
     "name": "stdout",
     "output_type": "stream",
     "text": [
      "\u001b[36m(launch_and_fit pid=15185)\u001b[0m \tTrain Epoch: 9 \tTrain_loss: 0.0356 | Train_acc: 99.6311 % | Validation_loss: 1.2656 | Validation_acc: 70.1307 %\u001b[32m [repeated 2x across cluster]\u001b[0m\n"
     ]
    },
    {
     "name": "stderr",
     "output_type": "stream",
     "text": [
      "100%|\u001b[34m██████████\u001b[0m| 10/10 [00:59<00:00,  5.94s/it]\u001b[32m [repeated 2x across cluster]\u001b[0m\n"
     ]
    },
    {
     "name": "stdout",
     "output_type": "stream",
     "text": [
      "\u001b[36m(launch_and_fit pid=15185)\u001b[0m save graph in  results/FL/\n",
      "\u001b[36m(launch_and_fit pid=15185)\u001b[0m \tTrain Epoch: 10 \tTrain_loss: 0.0319 | Train_acc: 99.6528 % | Validation_loss: 1.2543 | Validation_acc: 69.9758 %\u001b[32m [repeated 2x across cluster]\u001b[0m\n",
      "\u001b[36m(launch_and_fit pid=15185)\u001b[0m network.0.weight 5.7220458984375e-06\n",
      "\u001b[36m(launch_and_fit pid=15185)\u001b[0m network.0.bias 1.430511474609375e-06\n",
      "\u001b[36m(launch_and_fit pid=15185)\u001b[0m network.2.weight 1.1920928955078125e-06\n",
      "\u001b[36m(launch_and_fit pid=15185)\u001b[0m network.2.bias 1.1920928955078125e-06\n",
      "\u001b[36m(launch_and_fit pid=15185)\u001b[0m network.5.weight 1.1920928955078125e-06\n",
      "\u001b[36m(launch_and_fit pid=15185)\u001b[0m network.5.bias 1.430511474609375e-06\n",
      "\u001b[36m(launch_and_fit pid=15185)\u001b[0m network.7.weight 9.5367431640625e-07\n",
      "\u001b[36m(launch_and_fit pid=15185)\u001b[0m network.7.bias 9.5367431640625e-07\n",
      "\u001b[36m(launch_and_fit pid=15185)\u001b[0m network.10.weight 1.1920928955078125e-06\n",
      "\u001b[36m(launch_and_fit pid=15185)\u001b[0m network.10.bias 9.5367431640625e-07\n",
      "\u001b[36m(launch_and_fit pid=15185)\u001b[0m network.12.weight 1.1920928955078125e-06\n",
      "\u001b[36m(launch_and_fit pid=15185)\u001b[0m network.12.bias 9.5367431640625e-07\n",
      "\u001b[36m(launch_and_fit pid=15185)\u001b[0m network.16.weight 9.5367431640625e-07\n",
      "\u001b[36m(launch_and_fit pid=15185)\u001b[0m network.16.bias 9.5367431640625e-07\n",
      "\u001b[36m(launch_and_fit pid=15185)\u001b[0m network.18.weight 1.9073486328125e-06\n",
      "\u001b[36m(launch_and_fit pid=15185)\u001b[0m network.18.bias 1.1920928955078125e-06\n",
      "\u001b[36m(launch_and_fit pid=15185)\u001b[0m network.20.weight 9.5367431640625e-07\n",
      "\u001b[36m(launch_and_fit pid=15185)\u001b[0m network.20.bias 9.5367431640625e-07\n",
      "\u001b[36m(launch_and_fit pid=15185)\u001b[0m qnn.weights 1.1920928955078125e-06\n",
      "\u001b[36m(launch_and_fit pid=15185)\u001b[0m fc4.weight 9.5367431640625e-07\n",
      "\u001b[36m(launch_and_fit pid=15185)\u001b[0m fc4.bias 9.5367431640625e-07\n",
      "\u001b[36m(launch_and_fit pid=15267)\u001b[0m Run with homomorphic encryption\n",
      "\u001b[36m(launch_and_fit pid=15209)\u001b[0m save graph in  results/FL/\n",
      "\u001b[36m(launch_and_fit pid=15209)\u001b[0m \tTrain Epoch: 10 \tTrain_loss: 0.0406 | Train_acc: 99.4792 % | Validation_loss: 1.2366 | Validation_acc: 68.2584 %\n",
      "\u001b[36m(launch_and_fit pid=15209)\u001b[0m fc4.bias 2.765655517578125e-05\u001b[32m [repeated 20x across cluster]\u001b[0m\n",
      "\u001b[36m(launch_and_fit pid=15209)\u001b[0m qnn.weights 1.6689300537109375e-06\n",
      "\u001b[36m(launch_and_fit pid=15267)\u001b[0m [Client 7, round 19] fit, config: {'learning_rate': 0.001, 'batch_size': '128', 'server_round': 19, 'local_epochs': 10}\n"
     ]
    },
    {
     "name": "stderr",
     "output_type": "stream",
     "text": [
      "  0%|\u001b[34m          \u001b[0m| 0/10 [00:00<?, ?it/s]\n",
      "100%|\u001b[34m██████████\u001b[0m| 10/10 [00:58<00:00,  5.87s/it]\n"
     ]
    },
    {
     "name": "stdout",
     "output_type": "stream",
     "text": [
      "\u001b[36m(launch_and_fit pid=15267)\u001b[0m Updated model\n"
     ]
    },
    {
     "name": "stderr",
     "output_type": "stream",
     "text": [
      " 10%|\u001b[34m█         \u001b[0m| 1/10 [00:06<00:57,  6.41s/it]\n",
      "  0%|\u001b[34m          \u001b[0m| 0/10 [00:00<?, ?it/s]\n"
     ]
    },
    {
     "name": "stdout",
     "output_type": "stream",
     "text": [
      "\u001b[36m(launch_and_fit pid=15267)\u001b[0m \tTrain Epoch: 1 \tTrain_loss: 0.5173 | Train_acc: 84.4141 % | Validation_loss: 1.1178 | Validation_acc: 69.6053 %\n",
      "\u001b[36m(launch_and_fit pid=15292)\u001b[0m Run with homomorphic encryption\n",
      "\u001b[36m(launch_and_fit pid=15292)\u001b[0m [Client 1, round 19] fit, config: {'learning_rate': 0.001, 'batch_size': '128', 'server_round': 19, 'local_epochs': 10}\n",
      "\u001b[36m(launch_and_fit pid=15292)\u001b[0m Updated model\n"
     ]
    },
    {
     "name": "stderr",
     "output_type": "stream",
     "text": [
      " 20%|\u001b[34m██        \u001b[0m| 2/10 [00:12<00:48,  6.08s/it]\u001b[32m [repeated 2x across cluster]\u001b[0m\n"
     ]
    },
    {
     "name": "stdout",
     "output_type": "stream",
     "text": [
      "\u001b[36m(launch_and_fit pid=15267)\u001b[0m \tTrain Epoch: 2 \tTrain_loss: 0.2456 | Train_acc: 93.1120 % | Validation_loss: 1.2001 | Validation_acc: 68.6894 %\u001b[32m [repeated 2x across cluster]\u001b[0m\n"
     ]
    },
    {
     "name": "stderr",
     "output_type": "stream",
     "text": [
      " 30%|\u001b[34m███       \u001b[0m| 3/10 [00:18<00:41,  5.93s/it]\u001b[32m [repeated 2x across cluster]\u001b[0m\n"
     ]
    },
    {
     "name": "stdout",
     "output_type": "stream",
     "text": [
      "\u001b[36m(launch_and_fit pid=15267)\u001b[0m \tTrain Epoch: 3 \tTrain_loss: 0.1575 | Train_acc: 96.1198 % | Validation_loss: 1.2584 | Validation_acc: 66.0291 %\u001b[32m [repeated 2x across cluster]\u001b[0m\n"
     ]
    },
    {
     "name": "stderr",
     "output_type": "stream",
     "text": [
      " 40%|\u001b[34m████      \u001b[0m| 4/10 [00:23<00:35,  5.87s/it]\u001b[32m [repeated 2x across cluster]\u001b[0m\n"
     ]
    },
    {
     "name": "stdout",
     "output_type": "stream",
     "text": [
      "\u001b[36m(launch_and_fit pid=15267)\u001b[0m \tTrain Epoch: 4 \tTrain_loss: 0.1354 | Train_acc: 97.0833 % | Validation_loss: 1.1662 | Validation_acc: 68.8443 %\u001b[32m [repeated 2x across cluster]\u001b[0m\n"
     ]
    },
    {
     "name": "stderr",
     "output_type": "stream",
     "text": [
      " 50%|\u001b[34m█████     \u001b[0m| 5/10 [00:30<00:30,  6.02s/it]\u001b[32m [repeated 2x across cluster]\u001b[0m\n"
     ]
    },
    {
     "name": "stdout",
     "output_type": "stream",
     "text": [
      "\u001b[36m(launch_and_fit pid=15267)\u001b[0m \tTrain Epoch: 5 \tTrain_loss: 0.0866 | Train_acc: 98.5894 % | Validation_loss: 1.1627 | Validation_acc: 69.6457 %\u001b[32m [repeated 2x across cluster]\u001b[0m\n"
     ]
    },
    {
     "name": "stderr",
     "output_type": "stream",
     "text": [
      " 60%|\u001b[34m██████    \u001b[0m| 6/10 [00:35<00:23,  5.97s/it]\u001b[32m [repeated 2x across cluster]\u001b[0m\n"
     ]
    },
    {
     "name": "stdout",
     "output_type": "stream",
     "text": [
      "\u001b[36m(launch_and_fit pid=15267)\u001b[0m \tTrain Epoch: 6 \tTrain_loss: 0.0600 | Train_acc: 99.1536 % | Validation_loss: 1.1956 | Validation_acc: 69.5851 %\u001b[32m [repeated 2x across cluster]\u001b[0m\n"
     ]
    },
    {
     "name": "stderr",
     "output_type": "stream",
     "text": [
      " 70%|\u001b[34m███████   \u001b[0m| 7/10 [00:41<00:17,  5.91s/it]\u001b[32m [repeated 2x across cluster]\u001b[0m\n"
     ]
    },
    {
     "name": "stdout",
     "output_type": "stream",
     "text": [
      "\u001b[36m(launch_and_fit pid=15267)\u001b[0m \tTrain Epoch: 7 \tTrain_loss: 0.0473 | Train_acc: 99.4792 % | Validation_loss: 1.2229 | Validation_acc: 69.0194 %\u001b[32m [repeated 2x across cluster]\u001b[0m\n"
     ]
    },
    {
     "name": "stderr",
     "output_type": "stream",
     "text": [
      " 80%|\u001b[34m████████  \u001b[0m| 8/10 [00:47<00:11,  5.91s/it]\u001b[32m [repeated 2x across cluster]\u001b[0m\n"
     ]
    },
    {
     "name": "stdout",
     "output_type": "stream",
     "text": [
      "\u001b[36m(launch_and_fit pid=15267)\u001b[0m \tTrain Epoch: 8 \tTrain_loss: 0.0448 | Train_acc: 99.4792 % | Validation_loss: 1.1314 | Validation_acc: 71.8144 %\u001b[32m [repeated 2x across cluster]\u001b[0m\n"
     ]
    },
    {
     "name": "stderr",
     "output_type": "stream",
     "text": [
      " 90%|\u001b[34m█████████ \u001b[0m| 9/10 [00:53<00:05,  5.96s/it]\u001b[32m [repeated 2x across cluster]\u001b[0m\n"
     ]
    },
    {
     "name": "stdout",
     "output_type": "stream",
     "text": [
      "\u001b[36m(launch_and_fit pid=15267)\u001b[0m \tTrain Epoch: 9 \tTrain_loss: 0.0452 | Train_acc: 99.4922 % | Validation_loss: 1.1448 | Validation_acc: 70.7974 %\u001b[32m [repeated 2x across cluster]\u001b[0m\n"
     ]
    },
    {
     "name": "stderr",
     "output_type": "stream",
     "text": [
      "100%|\u001b[34m██████████\u001b[0m| 10/10 [01:00<00:00,  6.01s/it]\u001b[32m [repeated 2x across cluster]\u001b[0m\n"
     ]
    },
    {
     "name": "stdout",
     "output_type": "stream",
     "text": [
      "\u001b[36m(launch_and_fit pid=15267)\u001b[0m save graph in  results/FL/\n",
      "\u001b[36m(launch_and_fit pid=15267)\u001b[0m \tTrain Epoch: 10 \tTrain_loss: 0.0814 | Train_acc: 98.3290 % | Validation_loss: 1.2278 | Validation_acc: 69.0598 %\u001b[32m [repeated 2x across cluster]\u001b[0m\n",
      "\u001b[36m(launch_and_fit pid=15267)\u001b[0m network.0.weight 5.245208740234375e-06\n",
      "\u001b[36m(launch_and_fit pid=15267)\u001b[0m network.0.bias 1.430511474609375e-06\n",
      "\u001b[36m(launch_and_fit pid=15267)\u001b[0m network.2.weight 1.1920928955078125e-06\n",
      "\u001b[36m(launch_and_fit pid=15267)\u001b[0m network.2.bias 1.430511474609375e-06\n",
      "\u001b[36m(launch_and_fit pid=15267)\u001b[0m network.5.weight 1.1920928955078125e-06\n",
      "\u001b[36m(launch_and_fit pid=15267)\u001b[0m network.5.bias 9.5367431640625e-07\n",
      "\u001b[36m(launch_and_fit pid=15267)\u001b[0m network.7.weight 9.5367431640625e-07\n",
      "\u001b[36m(launch_and_fit pid=15267)\u001b[0m network.7.bias 9.5367431640625e-07\n",
      "\u001b[36m(launch_and_fit pid=15267)\u001b[0m network.10.weight 1.430511474609375e-06\n",
      "\u001b[36m(launch_and_fit pid=15267)\u001b[0m network.10.bias 9.5367431640625e-07\n",
      "\u001b[36m(launch_and_fit pid=15267)\u001b[0m network.12.weight 9.5367431640625e-07\n",
      "\u001b[36m(launch_and_fit pid=15267)\u001b[0m network.12.bias 1.1920928955078125e-06\n",
      "\u001b[36m(launch_and_fit pid=15267)\u001b[0m network.16.weight 1.1920928955078125e-06\n",
      "\u001b[36m(launch_and_fit pid=15267)\u001b[0m network.16.bias 1.1920928955078125e-06\n",
      "\u001b[36m(launch_and_fit pid=15267)\u001b[0m network.18.weight 1.430511474609375e-06\n",
      "\u001b[36m(launch_and_fit pid=15267)\u001b[0m network.18.bias 1.1920928955078125e-06\n",
      "\u001b[36m(launch_and_fit pid=15267)\u001b[0m network.20.weight 9.5367431640625e-07\n",
      "\u001b[36m(launch_and_fit pid=15267)\u001b[0m network.20.bias 1.1920928955078125e-06\n",
      "\u001b[36m(launch_and_fit pid=15267)\u001b[0m qnn.weights 1.7404556274414062e-05\n",
      "\u001b[36m(launch_and_fit pid=15267)\u001b[0m fc4.weight 1.6689300537109375e-06\n",
      "\u001b[36m(launch_and_fit pid=15267)\u001b[0m fc4.bias 9.5367431640625e-07\n",
      "\u001b[36m(launch_and_fit pid=15350)\u001b[0m Run with homomorphic encryption\n",
      "\u001b[36m(launch_and_fit pid=15292)\u001b[0m save graph in  results/FL/\n",
      "\u001b[36m(launch_and_fit pid=15292)\u001b[0m \tTrain Epoch: 10 \tTrain_loss: 0.0310 | Train_acc: 99.7830 % | Validation_loss: 1.4620 | Validation_acc: 65.4836 %\n",
      "\u001b[36m(launch_and_fit pid=15292)\u001b[0m fc4.bias 1.1920928955078125e-06\u001b[32m [repeated 20x across cluster]\u001b[0m\n",
      "\u001b[36m(launch_and_fit pid=15292)\u001b[0m qnn.weights 9.5367431640625e-07\n",
      "\u001b[36m(launch_and_fit pid=15350)\u001b[0m [Client 3, round 19] fit, config: {'learning_rate': 0.001, 'batch_size': '128', 'server_round': 19, 'local_epochs': 10}\n",
      "\u001b[36m(launch_and_fit pid=15350)\u001b[0m Updated model\n"
     ]
    },
    {
     "name": "stderr",
     "output_type": "stream",
     "text": [
      "  0%|\u001b[34m          \u001b[0m| 0/10 [00:00<?, ?it/s]\n",
      "100%|\u001b[34m██████████\u001b[0m| 10/10 [01:00<00:00,  6.02s/it]\n"
     ]
    },
    {
     "name": "stdout",
     "output_type": "stream",
     "text": [
      "\u001b[36m(launch_and_fit pid=15350)\u001b[0m \tTrain Epoch: 1 \tTrain_loss: 0.5095 | Train_acc: 84.2882 % | Validation_loss: 1.2098 | Validation_acc: 65.4432 %\n",
      "\u001b[36m(launch_and_fit pid=15375)\u001b[0m Run with homomorphic encryption\n",
      "\u001b[36m(launch_and_fit pid=15375)\u001b[0m [Client 2, round 19] fit, config: {'learning_rate': 0.001, 'batch_size': '128', 'server_round': 19, 'local_epochs': 10}\n",
      "\u001b[36m(launch_and_fit pid=15375)\u001b[0m Updated model\n"
     ]
    },
    {
     "name": "stderr",
     "output_type": "stream",
     "text": [
      " 10%|\u001b[34m█         \u001b[0m| 1/10 [00:06<00:58,  6.46s/it]\n",
      "  0%|\u001b[34m          \u001b[0m| 0/10 [00:00<?, ?it/s]\n"
     ]
    },
    {
     "name": "stdout",
     "output_type": "stream",
     "text": [
      "\u001b[36m(launch_and_fit pid=15350)\u001b[0m \tTrain Epoch: 2 \tTrain_loss: 0.2929 | Train_acc: 91.6276 % | Validation_loss: 1.2425 | Validation_acc: 66.7699 %\u001b[32m [repeated 2x across cluster]\u001b[0m\n"
     ]
    },
    {
     "name": "stderr",
     "output_type": "stream",
     "text": [
      " 20%|\u001b[34m██        \u001b[0m| 2/10 [00:12<00:48,  6.09s/it]\u001b[32m [repeated 2x across cluster]\u001b[0m\n"
     ]
    },
    {
     "name": "stdout",
     "output_type": "stream",
     "text": [
      "\u001b[36m(launch_and_fit pid=15350)\u001b[0m \tTrain Epoch: 3 \tTrain_loss: 0.1583 | Train_acc: 96.4193 % | Validation_loss: 1.2612 | Validation_acc: 65.3017 %\u001b[32m [repeated 2x across cluster]\u001b[0m\n"
     ]
    },
    {
     "name": "stderr",
     "output_type": "stream",
     "text": [
      " 30%|\u001b[34m███       \u001b[0m| 3/10 [00:18<00:42,  6.08s/it]\u001b[32m [repeated 2x across cluster]\u001b[0m\n"
     ]
    },
    {
     "name": "stdout",
     "output_type": "stream",
     "text": [
      "\u001b[36m(launch_and_fit pid=15350)\u001b[0m \tTrain Epoch: 4 \tTrain_loss: 0.0919 | Train_acc: 98.5243 % | Validation_loss: 1.3147 | Validation_acc: 65.0862 %\u001b[32m [repeated 2x across cluster]\u001b[0m\n"
     ]
    },
    {
     "name": "stderr",
     "output_type": "stream",
     "text": [
      " 40%|\u001b[34m████      \u001b[0m| 4/10 [00:24<00:35,  5.95s/it]\u001b[32m [repeated 2x across cluster]\u001b[0m\n"
     ]
    },
    {
     "name": "stdout",
     "output_type": "stream",
     "text": [
      "\u001b[36m(launch_and_fit pid=15350)\u001b[0m \tTrain Epoch: 5 \tTrain_loss: 0.0618 | Train_acc: 99.1536 % | Validation_loss: 1.2328 | Validation_acc: 67.3761 %\u001b[32m [repeated 2x across cluster]\u001b[0m\n"
     ]
    },
    {
     "name": "stderr",
     "output_type": "stream",
     "text": [
      " 50%|\u001b[34m█████     \u001b[0m| 5/10 [00:29<00:29,  5.88s/it]\u001b[32m [repeated 2x across cluster]\u001b[0m\n"
     ]
    },
    {
     "name": "stdout",
     "output_type": "stream",
     "text": [
      "\u001b[36m(launch_and_fit pid=15350)\u001b[0m \tTrain Epoch: 6 \tTrain_loss: 0.0538 | Train_acc: 99.3056 % | Validation_loss: 1.3211 | Validation_acc: 66.5140 %\u001b[32m [repeated 2x across cluster]\u001b[0m\n"
     ]
    },
    {
     "name": "stderr",
     "output_type": "stream",
     "text": [
      " 60%|\u001b[34m██████    \u001b[0m| 6/10 [00:35<00:23,  5.89s/it]\u001b[32m [repeated 2x across cluster]\u001b[0m\n"
     ]
    },
    {
     "name": "stdout",
     "output_type": "stream",
     "text": [
      "\u001b[36m(launch_and_fit pid=15350)\u001b[0m \tTrain Epoch: 7 \tTrain_loss: 0.0568 | Train_acc: 99.1667 % | Validation_loss: 1.2971 | Validation_acc: 67.0057 %\u001b[32m [repeated 2x across cluster]\u001b[0m\n"
     ]
    },
    {
     "name": "stderr",
     "output_type": "stream",
     "text": [
      " 70%|\u001b[34m███████   \u001b[0m| 7/10 [00:41<00:17,  5.91s/it]\u001b[32m [repeated 2x across cluster]\u001b[0m\n"
     ]
    },
    {
     "name": "stdout",
     "output_type": "stream",
     "text": [
      "\u001b[36m(launch_and_fit pid=15350)\u001b[0m \tTrain Epoch: 8 \tTrain_loss: 0.0920 | Train_acc: 98.2422 % | Validation_loss: 1.3571 | Validation_acc: 64.2645 %\u001b[32m [repeated 2x across cluster]\u001b[0m\n"
     ]
    },
    {
     "name": "stderr",
     "output_type": "stream",
     "text": [
      " 80%|\u001b[34m████████  \u001b[0m| 8/10 [00:47<00:11,  5.97s/it]\u001b[32m [repeated 2x across cluster]\u001b[0m\n"
     ]
    },
    {
     "name": "stdout",
     "output_type": "stream",
     "text": [
      "\u001b[36m(launch_and_fit pid=15350)\u001b[0m \tTrain Epoch: 9 \tTrain_loss: 0.0907 | Train_acc: 98.1380 % | Validation_loss: 1.3960 | Validation_acc: 65.9887 %\u001b[32m [repeated 2x across cluster]\u001b[0m\n"
     ]
    },
    {
     "name": "stderr",
     "output_type": "stream",
     "text": [
      " 90%|\u001b[34m█████████ \u001b[0m| 9/10 [00:53<00:05,  5.93s/it]\u001b[32m [repeated 2x across cluster]\u001b[0m\n"
     ]
    },
    {
     "name": "stdout",
     "output_type": "stream",
     "text": [
      "\u001b[36m(launch_and_fit pid=15350)\u001b[0m save graph in  results/FL/\n",
      "\u001b[36m(launch_and_fit pid=15350)\u001b[0m \tTrain Epoch: 10 \tTrain_loss: 0.1031 | Train_acc: 97.6997 % | Validation_loss: 1.4053 | Validation_acc: 63.8807 %\u001b[32m [repeated 2x across cluster]\u001b[0m\n"
     ]
    },
    {
     "name": "stderr",
     "output_type": "stream",
     "text": [
      "100%|\u001b[34m██████████\u001b[0m| 10/10 [00:59<00:00,  5.96s/it]\u001b[32m [repeated 2x across cluster]\u001b[0m\n"
     ]
    },
    {
     "name": "stdout",
     "output_type": "stream",
     "text": [
      "\u001b[36m(launch_and_fit pid=15350)\u001b[0m network.0.weight 3.814697265625e-06\n",
      "\u001b[36m(launch_and_fit pid=15350)\u001b[0m network.0.bias 1.430511474609375e-06\n",
      "\u001b[36m(launch_and_fit pid=15350)\u001b[0m network.2.weight 1.1920928955078125e-06\n",
      "\u001b[36m(launch_and_fit pid=15350)\u001b[0m network.2.bias 1.1920928955078125e-06\n",
      "\u001b[36m(launch_and_fit pid=15350)\u001b[0m network.5.weight 9.5367431640625e-07\n",
      "\u001b[36m(launch_and_fit pid=15350)\u001b[0m network.5.bias 9.5367431640625e-07\n",
      "\u001b[36m(launch_and_fit pid=15350)\u001b[0m network.7.weight 9.5367431640625e-07\n",
      "\u001b[36m(launch_and_fit pid=15350)\u001b[0m network.7.bias 9.5367431640625e-07\n",
      "\u001b[36m(launch_and_fit pid=15350)\u001b[0m network.10.weight 1.430511474609375e-06\n",
      "\u001b[36m(launch_and_fit pid=15350)\u001b[0m network.10.bias 2.1457672119140625e-06\n",
      "\u001b[36m(launch_and_fit pid=15350)\u001b[0m network.12.weight 1.1920928955078125e-06\n",
      "\u001b[36m(launch_and_fit pid=15350)\u001b[0m network.12.bias 9.5367431640625e-07\n",
      "\u001b[36m(launch_and_fit pid=15350)\u001b[0m network.16.weight 1.1920928955078125e-06\n",
      "\u001b[36m(launch_and_fit pid=15350)\u001b[0m network.16.bias 9.5367431640625e-07\n",
      "\u001b[36m(launch_and_fit pid=15350)\u001b[0m network.18.weight 9.5367431640625e-07\n",
      "\u001b[36m(launch_and_fit pid=15350)\u001b[0m network.18.bias 1.1920928955078125e-06\n",
      "\u001b[36m(launch_and_fit pid=15350)\u001b[0m network.20.weight 9.5367431640625e-07\n",
      "\u001b[36m(launch_and_fit pid=15350)\u001b[0m network.20.bias 9.5367431640625e-07\n",
      "\u001b[36m(launch_and_fit pid=15350)\u001b[0m qnn.weights 1.1920928955078125e-06\n",
      "\u001b[36m(launch_and_fit pid=15350)\u001b[0m fc4.weight 9.5367431640625e-07\n",
      "\u001b[36m(launch_and_fit pid=15350)\u001b[0m fc4.bias 9.5367431640625e-07\n",
      "\u001b[36m(launch_and_fit pid=15434)\u001b[0m Run with homomorphic encryption\n",
      "\u001b[36m(launch_and_fit pid=15375)\u001b[0m save graph in  results/FL/\n",
      "\u001b[36m(launch_and_fit pid=15375)\u001b[0m \tTrain Epoch: 10 \tTrain_loss: 0.0301 | Train_acc: 99.6745 % | Validation_loss: 1.4972 | Validation_acc: 62.7425 %\n",
      "\u001b[36m(launch_and_fit pid=15375)\u001b[0m fc4.bias 1.1920928955078125e-06\u001b[32m [repeated 20x across cluster]\u001b[0m\n",
      "\u001b[36m(launch_and_fit pid=15375)\u001b[0m qnn.weights 1.1920928955078125e-06\n",
      "\u001b[36m(launch_and_fit pid=15434)\u001b[0m [Client 9, round 19] fit, config: {'learning_rate': 0.001, 'batch_size': '128', 'server_round': 19, 'local_epochs': 10}\n"
     ]
    },
    {
     "name": "stderr",
     "output_type": "stream",
     "text": [
      "  0%|\u001b[34m          \u001b[0m| 0/10 [00:00<?, ?it/s]\n",
      "100%|\u001b[34m██████████\u001b[0m| 10/10 [00:58<00:00,  5.86s/it]\n"
     ]
    },
    {
     "name": "stdout",
     "output_type": "stream",
     "text": [
      "\u001b[36m(launch_and_fit pid=15434)\u001b[0m Updated model\n",
      "\u001b[36m(launch_and_fit pid=15434)\u001b[0m \tTrain Epoch: 1 \tTrain_loss: 0.4949 | Train_acc: 84.7700 % | Validation_loss: 1.3520 | Validation_acc: 65.6385 %\n",
      "\u001b[36m(launch_and_fit pid=15432)\u001b[0m Run with homomorphic encryption\n",
      "\u001b[36m(launch_and_fit pid=15432)\u001b[0m [Client 6, round 19] fit, config: {'learning_rate': 0.001, 'batch_size': '128', 'server_round': 19, 'local_epochs': 10}\n",
      "\u001b[36m(launch_and_fit pid=15432)\u001b[0m Updated model\n"
     ]
    },
    {
     "name": "stderr",
     "output_type": "stream",
     "text": [
      " 10%|\u001b[34m█         \u001b[0m| 1/10 [00:06<00:58,  6.50s/it]\n",
      "  0%|\u001b[34m          \u001b[0m| 0/10 [00:00<?, ?it/s]\n"
     ]
    },
    {
     "name": "stdout",
     "output_type": "stream",
     "text": [
      "\u001b[36m(launch_and_fit pid=15434)\u001b[0m \tTrain Epoch: 2 \tTrain_loss: 0.2756 | Train_acc: 91.9835 % | Validation_loss: 1.4408 | Validation_acc: 64.5407 %\u001b[32m [repeated 2x across cluster]\u001b[0m\n"
     ]
    },
    {
     "name": "stderr",
     "output_type": "stream",
     "text": [
      " 20%|\u001b[34m██        \u001b[0m| 2/10 [00:12<00:50,  6.25s/it]\u001b[32m [repeated 2x across cluster]\u001b[0m\n"
     ]
    },
    {
     "name": "stdout",
     "output_type": "stream",
     "text": [
      "\u001b[36m(launch_and_fit pid=15434)\u001b[0m \tTrain Epoch: 3 \tTrain_loss: 0.1467 | Train_acc: 96.7231 % | Validation_loss: 1.4735 | Validation_acc: 65.1670 %\u001b[32m [repeated 2x across cluster]\u001b[0m\n"
     ]
    },
    {
     "name": "stderr",
     "output_type": "stream",
     "text": [
      " 30%|\u001b[34m███       \u001b[0m| 3/10 [00:18<00:42,  6.03s/it]\u001b[32m [repeated 2x across cluster]\u001b[0m\n"
     ]
    },
    {
     "name": "stdout",
     "output_type": "stream",
     "text": [
      "\u001b[36m(launch_and_fit pid=15434)\u001b[0m \tTrain Epoch: 4 \tTrain_loss: 0.1001 | Train_acc: 98.1033 % | Validation_loss: 1.4082 | Validation_acc: 66.5948 %\u001b[32m [repeated 2x across cluster]\u001b[0m\n"
     ]
    },
    {
     "name": "stderr",
     "output_type": "stream",
     "text": [
      " 40%|\u001b[34m████      \u001b[0m| 4/10 [00:24<00:35,  5.91s/it]\u001b[32m [repeated 2x across cluster]\u001b[0m\n"
     ]
    },
    {
     "name": "stdout",
     "output_type": "stream",
     "text": [
      "\u001b[36m(launch_and_fit pid=15434)\u001b[0m \tTrain Epoch: 5 \tTrain_loss: 0.0888 | Train_acc: 98.3854 % | Validation_loss: 1.3974 | Validation_acc: 66.5746 %\u001b[32m [repeated 2x across cluster]\u001b[0m\n"
     ]
    },
    {
     "name": "stderr",
     "output_type": "stream",
     "text": [
      " 50%|\u001b[34m█████     \u001b[0m| 5/10 [00:29<00:29,  5.85s/it]\u001b[32m [repeated 2x across cluster]\u001b[0m\n"
     ]
    },
    {
     "name": "stdout",
     "output_type": "stream",
     "text": [
      "\u001b[36m(launch_and_fit pid=15434)\u001b[0m \tTrain Epoch: 6 \tTrain_loss: 0.0637 | Train_acc: 99.1970 % | Validation_loss: 1.4130 | Validation_acc: 66.8508 %\u001b[32m [repeated 2x across cluster]\u001b[0m\n"
     ]
    },
    {
     "name": "stderr",
     "output_type": "stream",
     "text": [
      " 60%|\u001b[34m██████    \u001b[0m| 6/10 [00:35<00:23,  5.95s/it]\u001b[32m [repeated 2x across cluster]\u001b[0m\n"
     ]
    },
    {
     "name": "stdout",
     "output_type": "stream",
     "text": [
      "\u001b[36m(launch_and_fit pid=15434)\u001b[0m \tTrain Epoch: 7 \tTrain_loss: 0.0470 | Train_acc: 99.4575 % | Validation_loss: 1.4123 | Validation_acc: 67.8677 %\u001b[32m [repeated 2x across cluster]\u001b[0m\n"
     ]
    },
    {
     "name": "stderr",
     "output_type": "stream",
     "text": [
      " 70%|\u001b[34m███████   \u001b[0m| 7/10 [00:41<00:17,  5.88s/it]\u001b[32m [repeated 2x across cluster]\u001b[0m\n"
     ]
    },
    {
     "name": "stdout",
     "output_type": "stream",
     "text": [
      "\u001b[36m(launch_and_fit pid=15434)\u001b[0m \tTrain Epoch: 8 \tTrain_loss: 0.0416 | Train_acc: 99.5226 % | Validation_loss: 1.3984 | Validation_acc: 67.2616 %\u001b[32m [repeated 2x across cluster]\u001b[0m\n"
     ]
    },
    {
     "name": "stderr",
     "output_type": "stream",
     "text": [
      " 80%|\u001b[34m████████  \u001b[0m| 8/10 [00:47<00:11,  5.85s/it]\u001b[32m [repeated 2x across cluster]\u001b[0m\n"
     ]
    },
    {
     "name": "stdout",
     "output_type": "stream",
     "text": [
      "\u001b[36m(launch_and_fit pid=15434)\u001b[0m \tTrain Epoch: 9 \tTrain_loss: 0.0359 | Train_acc: 99.5660 % | Validation_loss: 1.4218 | Validation_acc: 66.0695 %\u001b[32m [repeated 2x across cluster]\u001b[0m\n"
     ]
    },
    {
     "name": "stderr",
     "output_type": "stream",
     "text": [
      " 90%|\u001b[34m█████████ \u001b[0m| 9/10 [00:53<00:05,  5.78s/it]\u001b[32m [repeated 2x across cluster]\u001b[0m\n"
     ]
    },
    {
     "name": "stdout",
     "output_type": "stream",
     "text": [
      "\u001b[36m(launch_and_fit pid=15434)\u001b[0m save graph in  results/FL/\n",
      "\u001b[36m(launch_and_fit pid=15434)\u001b[0m \tTrain Epoch: 10 \tTrain_loss: 0.0327 | Train_acc: 99.6528 % | Validation_loss: 1.4170 | Validation_acc: 67.6320 %\u001b[32m [repeated 2x across cluster]\u001b[0m\n"
     ]
    },
    {
     "name": "stderr",
     "output_type": "stream",
     "text": [
      "100%|\u001b[34m██████████\u001b[0m| 10/10 [00:58<00:00,  5.89s/it]\u001b[32m [repeated 2x across cluster]\u001b[0m\n"
     ]
    },
    {
     "name": "stdout",
     "output_type": "stream",
     "text": [
      "\u001b[36m(launch_and_fit pid=15434)\u001b[0m network.0.weight 4.5299530029296875e-06\n",
      "\u001b[36m(launch_and_fit pid=15434)\u001b[0m network.0.bias 1.430511474609375e-06\n",
      "\u001b[36m(launch_and_fit pid=15434)\u001b[0m network.2.weight 9.5367431640625e-07\n",
      "\u001b[36m(launch_and_fit pid=15434)\u001b[0m network.2.bias 1.1920928955078125e-06\n",
      "\u001b[36m(launch_and_fit pid=15434)\u001b[0m network.5.weight 9.5367431640625e-07\n",
      "\u001b[36m(launch_and_fit pid=15434)\u001b[0m network.5.bias 1.430511474609375e-06\n",
      "\u001b[36m(launch_and_fit pid=15434)\u001b[0m network.7.weight 9.5367431640625e-07\n",
      "\u001b[36m(launch_and_fit pid=15434)\u001b[0m network.7.bias 9.5367431640625e-07\n",
      "\u001b[36m(launch_and_fit pid=15434)\u001b[0m network.10.weight 1.1920928955078125e-06\n",
      "\u001b[36m(launch_and_fit pid=15434)\u001b[0m network.10.bias 9.5367431640625e-07\n",
      "\u001b[36m(launch_and_fit pid=15434)\u001b[0m network.12.weight 1.1920928955078125e-06\n",
      "\u001b[36m(launch_and_fit pid=15434)\u001b[0m network.12.bias 9.5367431640625e-07\n",
      "\u001b[36m(launch_and_fit pid=15434)\u001b[0m network.16.weight 1.1920928955078125e-06\n",
      "\u001b[36m(launch_and_fit pid=15434)\u001b[0m network.16.bias 9.5367431640625e-07\n",
      "\u001b[36m(launch_and_fit pid=15434)\u001b[0m network.18.weight 1.430511474609375e-06\n",
      "\u001b[36m(launch_and_fit pid=15434)\u001b[0m network.18.bias 1.6689300537109375e-06\n",
      "\u001b[36m(launch_and_fit pid=15434)\u001b[0m network.20.weight 1.9073486328125e-06\n",
      "\u001b[36m(launch_and_fit pid=15434)\u001b[0m network.20.bias 9.5367431640625e-07\n",
      "\u001b[36m(launch_and_fit pid=15434)\u001b[0m qnn.weights 9.5367431640625e-07\n",
      "\u001b[36m(launch_and_fit pid=15434)\u001b[0m fc4.weight 1.1920928955078125e-06\n",
      "\u001b[36m(launch_and_fit pid=15434)\u001b[0m fc4.bias 9.5367431640625e-07\n",
      "\u001b[36m(launch_and_fit pid=15514)\u001b[0m Run with homomorphic encryption\n",
      "\u001b[36m(launch_and_fit pid=15432)\u001b[0m save graph in  results/FL/\n",
      "\u001b[36m(launch_and_fit pid=15432)\u001b[0m \tTrain Epoch: 10 \tTrain_loss: 0.0483 | Train_acc: 99.3403 % | Validation_loss: 1.2289 | Validation_acc: 68.3728 %\n",
      "\u001b[36m(launch_and_fit pid=15432)\u001b[0m fc4.bias 1.430511474609375e-06\u001b[32m [repeated 20x across cluster]\u001b[0m\n",
      "\u001b[36m(launch_and_fit pid=15432)\u001b[0m qnn.weights 1.1920928955078125e-06\n",
      "\u001b[36m(launch_and_fit pid=15514)\u001b[0m [Client 4, round 19] fit, config: {'learning_rate': 0.001, 'batch_size': '128', 'server_round': 19, 'local_epochs': 10}\n",
      "\u001b[36m(launch_and_fit pid=15514)\u001b[0m Updated model\n"
     ]
    },
    {
     "name": "stderr",
     "output_type": "stream",
     "text": [
      "  0%|\u001b[34m          \u001b[0m| 0/10 [00:00<?, ?it/s]\n",
      "100%|\u001b[34m██████████\u001b[0m| 10/10 [00:59<00:00,  5.94s/it]\n"
     ]
    },
    {
     "name": "stdout",
     "output_type": "stream",
     "text": [
      "\u001b[36m(launch_and_fit pid=15514)\u001b[0m \tTrain Epoch: 1 \tTrain_loss: 0.5258 | Train_acc: 83.0122 % | Validation_loss: 1.4212 | Validation_acc: 63.1196 %\n",
      "\u001b[36m(launch_and_fit pid=15539)\u001b[0m Run with homomorphic encryption\n",
      "\u001b[36m(launch_and_fit pid=15539)\u001b[0m [Client 8, round 19] fit, config: {'learning_rate': 0.001, 'batch_size': '128', 'server_round': 19, 'local_epochs': 10}\n",
      "\u001b[36m(launch_and_fit pid=15539)\u001b[0m Updated model\n"
     ]
    },
    {
     "name": "stderr",
     "output_type": "stream",
     "text": [
      " 10%|\u001b[34m█         \u001b[0m| 1/10 [00:06<00:57,  6.41s/it]\n",
      "  0%|\u001b[34m          \u001b[0m| 0/10 [00:00<?, ?it/s]\n"
     ]
    },
    {
     "name": "stdout",
     "output_type": "stream",
     "text": [
      "\u001b[36m(launch_and_fit pid=15514)\u001b[0m \tTrain Epoch: 2 \tTrain_loss: 0.2955 | Train_acc: 91.8099 % | Validation_loss: 1.4923 | Validation_acc: 61.4965 %\u001b[32m [repeated 2x across cluster]\u001b[0m\n"
     ]
    },
    {
     "name": "stderr",
     "output_type": "stream",
     "text": [
      " 20%|\u001b[34m██        \u001b[0m| 2/10 [00:12<00:47,  6.00s/it]\u001b[32m [repeated 2x across cluster]\u001b[0m\n"
     ]
    },
    {
     "name": "stdout",
     "output_type": "stream",
     "text": [
      "\u001b[36m(launch_and_fit pid=15514)\u001b[0m \tTrain Epoch: 3 \tTrain_loss: 0.1599 | Train_acc: 96.4193 % | Validation_loss: 1.4994 | Validation_acc: 62.5673 %\u001b[32m [repeated 2x across cluster]\u001b[0m\n"
     ]
    },
    {
     "name": "stderr",
     "output_type": "stream",
     "text": [
      " 30%|\u001b[34m███       \u001b[0m| 3/10 [00:17<00:41,  5.90s/it]\u001b[32m [repeated 2x across cluster]\u001b[0m\n"
     ]
    },
    {
     "name": "stdout",
     "output_type": "stream",
     "text": [
      "\u001b[36m(launch_and_fit pid=15514)\u001b[0m \tTrain Epoch: 4 \tTrain_loss: 0.1008 | Train_acc: 98.1771 % | Validation_loss: 1.3841 | Validation_acc: 64.2107 %\u001b[32m [repeated 2x across cluster]\u001b[0m\n"
     ]
    },
    {
     "name": "stderr",
     "output_type": "stream",
     "text": [
      " 40%|\u001b[34m████      \u001b[0m| 4/10 [00:23<00:35,  5.94s/it]\u001b[32m [repeated 2x across cluster]\u001b[0m\n"
     ]
    },
    {
     "name": "stdout",
     "output_type": "stream",
     "text": [
      "\u001b[36m(launch_and_fit pid=15514)\u001b[0m \tTrain Epoch: 5 \tTrain_loss: 0.0707 | Train_acc: 98.8498 % | Validation_loss: 1.5093 | Validation_acc: 62.4327 %\u001b[32m [repeated 2x across cluster]\u001b[0m\n"
     ]
    },
    {
     "name": "stderr",
     "output_type": "stream",
     "text": [
      " 50%|\u001b[34m█████     \u001b[0m| 5/10 [00:30<00:30,  6.01s/it]\u001b[32m [repeated 2x across cluster]\u001b[0m\n"
     ]
    },
    {
     "name": "stdout",
     "output_type": "stream",
     "text": [
      "\u001b[36m(launch_and_fit pid=15514)\u001b[0m \tTrain Epoch: 6 \tTrain_loss: 0.0557 | Train_acc: 99.1233 % | Validation_loss: 1.4662 | Validation_acc: 62.8233 %\u001b[32m [repeated 2x across cluster]\u001b[0m\n"
     ]
    },
    {
     "name": "stderr",
     "output_type": "stream",
     "text": [
      " 60%|\u001b[34m██████    \u001b[0m| 6/10 [00:35<00:23,  5.93s/it]\u001b[32m [repeated 2x across cluster]\u001b[0m\n"
     ]
    },
    {
     "name": "stdout",
     "output_type": "stream",
     "text": [
      "\u001b[36m(launch_and_fit pid=15514)\u001b[0m \tTrain Epoch: 7 \tTrain_loss: 0.0447 | Train_acc: 99.4358 % | Validation_loss: 1.4947 | Validation_acc: 64.0558 %\u001b[32m [repeated 2x across cluster]\u001b[0m\n"
     ]
    },
    {
     "name": "stderr",
     "output_type": "stream",
     "text": [
      " 70%|\u001b[34m███████   \u001b[0m| 7/10 [00:41<00:17,  5.95s/it]\u001b[32m [repeated 2x across cluster]\u001b[0m\n"
     ]
    },
    {
     "name": "stdout",
     "output_type": "stream",
     "text": [
      "\u001b[36m(launch_and_fit pid=15514)\u001b[0m \tTrain Epoch: 8 \tTrain_loss: 0.0409 | Train_acc: 99.5009 % | Validation_loss: 1.4639 | Validation_acc: 63.4900 %\u001b[32m [repeated 2x across cluster]\u001b[0m\n"
     ]
    },
    {
     "name": "stderr",
     "output_type": "stream",
     "text": [
      " 80%|\u001b[34m████████  \u001b[0m| 8/10 [00:47<00:11,  5.86s/it]\u001b[32m [repeated 2x across cluster]\u001b[0m\n"
     ]
    },
    {
     "name": "stdout",
     "output_type": "stream",
     "text": [
      "\u001b[36m(launch_and_fit pid=15514)\u001b[0m \tTrain Epoch: 9 \tTrain_loss: 0.0374 | Train_acc: 99.5660 % | Validation_loss: 1.4633 | Validation_acc: 63.6449 %\u001b[32m [repeated 2x across cluster]\u001b[0m\n"
     ]
    },
    {
     "name": "stderr",
     "output_type": "stream",
     "text": [
      " 90%|\u001b[34m█████████ \u001b[0m| 9/10 [00:53<00:05,  5.84s/it]\u001b[32m [repeated 2x across cluster]\u001b[0m\n"
     ]
    },
    {
     "name": "stdout",
     "output_type": "stream",
     "text": [
      "\u001b[36m(launch_and_fit pid=15514)\u001b[0m save graph in  results/FL/\n",
      "\u001b[36m(launch_and_fit pid=15514)\u001b[0m \tTrain Epoch: 10 \tTrain_loss: 0.0333 | Train_acc: 99.6311 % | Validation_loss: 1.5096 | Validation_acc: 64.2309 %\u001b[32m [repeated 2x across cluster]\u001b[0m\n"
     ]
    },
    {
     "name": "stderr",
     "output_type": "stream",
     "text": [
      "100%|\u001b[34m██████████\u001b[0m| 10/10 [00:59<00:00,  5.95s/it]\u001b[32m [repeated 2x across cluster]\u001b[0m\n"
     ]
    },
    {
     "name": "stdout",
     "output_type": "stream",
     "text": [
      "\u001b[36m(launch_and_fit pid=15514)\u001b[0m network.0.weight 5.4836273193359375e-06\n",
      "\u001b[36m(launch_and_fit pid=15514)\u001b[0m network.0.bias 1.9073486328125e-06\n",
      "\u001b[36m(launch_and_fit pid=15514)\u001b[0m network.2.weight 1.1920928955078125e-06\n",
      "\u001b[36m(launch_and_fit pid=15514)\u001b[0m network.2.bias 1.1920928955078125e-06\n",
      "\u001b[36m(launch_and_fit pid=15514)\u001b[0m network.5.weight 1.9073486328125e-06\n",
      "\u001b[36m(launch_and_fit pid=15514)\u001b[0m network.5.bias 2.384185791015625e-06\n",
      "\u001b[36m(launch_and_fit pid=15514)\u001b[0m network.7.weight 9.5367431640625e-07\n",
      "\u001b[36m(launch_and_fit pid=15514)\u001b[0m network.7.bias 1.430511474609375e-06\n",
      "\u001b[36m(launch_and_fit pid=15514)\u001b[0m network.10.weight 1.1920928955078125e-06\n",
      "\u001b[36m(launch_and_fit pid=15514)\u001b[0m network.10.bias 9.5367431640625e-07\n",
      "\u001b[36m(launch_and_fit pid=15514)\u001b[0m network.12.weight 9.5367431640625e-07\n",
      "\u001b[36m(launch_and_fit pid=15514)\u001b[0m network.12.bias 1.1920928955078125e-06\n",
      "\u001b[36m(launch_and_fit pid=15514)\u001b[0m network.16.weight 1.1920928955078125e-06\n",
      "\u001b[36m(launch_and_fit pid=15514)\u001b[0m network.16.bias 1.1920928955078125e-06\n",
      "\u001b[36m(launch_and_fit pid=15514)\u001b[0m network.18.weight 1.1920928955078125e-06\n",
      "\u001b[36m(launch_and_fit pid=15514)\u001b[0m network.18.bias 9.5367431640625e-07\n",
      "\u001b[36m(launch_and_fit pid=15514)\u001b[0m network.20.weight 1.1920928955078125e-06\n",
      "\u001b[36m(launch_and_fit pid=15514)\u001b[0m network.20.bias 1.1920928955078125e-06\n",
      "\u001b[36m(launch_and_fit pid=15514)\u001b[0m qnn.weights 9.5367431640625e-07\n",
      "\u001b[36m(launch_and_fit pid=15514)\u001b[0m fc4.weight 1.430511474609375e-06\n",
      "\u001b[36m(launch_and_fit pid=15514)\u001b[0m fc4.bias 1.1920928955078125e-06\n"
     ]
    },
    {
     "name": "stderr",
     "output_type": "stream",
     "text": [
      "DEBUG flwr 2024-07-20 20:50:39,930 | server.py:236 | fit_round 19 received 10 results and 0 failures\n"
     ]
    },
    {
     "name": "stdout",
     "output_type": "stream",
     "text": [
      "Saving round 19 aggregated_parameters...\n"
     ]
    },
    {
     "name": "stderr",
     "output_type": "stream",
     "text": [
      "DEBUG flwr 2024-07-20 20:50:40,879 | server.py:173 | evaluate_round 19: strategy sampled 10 clients (out of 10)\n"
     ]
    },
    {
     "name": "stdout",
     "output_type": "stream",
     "text": [
      "\u001b[36m(launch_and_evaluate pid=15605)\u001b[0m Run with homomorphic encryption\n",
      "\u001b[36m(launch_and_fit pid=15539)\u001b[0m save graph in  results/FL/\n",
      "\u001b[36m(launch_and_fit pid=15539)\u001b[0m \tTrain Epoch: 10 \tTrain_loss: 0.0437 | Train_acc: 99.4575 % | Validation_loss: 1.5330 | Validation_acc: 62.3922 %\n",
      "\u001b[36m(launch_and_fit pid=15539)\u001b[0m fc4.bias 9.5367431640625e-07\u001b[32m [repeated 20x across cluster]\u001b[0m\n",
      "\u001b[36m(launch_and_fit pid=15539)\u001b[0m qnn.weights 1.1920928955078125e-06\n",
      "\u001b[36m(launch_and_evaluate pid=15605)\u001b[0m [Client 8] evaluate, config: {}\n",
      "\u001b[36m(launch_and_evaluate pid=15605)\u001b[0m Updated model\n",
      "\u001b[36m(launch_and_evaluate pid=15629)\u001b[0m Run with homomorphic encryption\n",
      "\u001b[36m(launch_and_evaluate pid=15629)\u001b[0m [Client 5] evaluate, config: {}\n",
      "\u001b[36m(launch_and_evaluate pid=15682)\u001b[0m Run with homomorphic encryption\n",
      "\u001b[36m(launch_and_evaluate pid=15629)\u001b[0m Updated model\n",
      "\u001b[36m(launch_and_evaluate pid=15682)\u001b[0m [Client 4] evaluate, config: {}\n",
      "\u001b[36m(launch_and_evaluate pid=15682)\u001b[0m Updated model\n",
      "\u001b[36m(launch_and_evaluate pid=15761)\u001b[0m Run with homomorphic encryption\u001b[32m [repeated 2x across cluster]\u001b[0m\n",
      "\u001b[36m(launch_and_evaluate pid=15707)\u001b[0m [Client 9] evaluate, config: {}\n",
      "\u001b[36m(launch_and_evaluate pid=15707)\u001b[0m Updated model\n",
      "\u001b[36m(launch_and_evaluate pid=15761)\u001b[0m [Client 7] evaluate, config: {}\n",
      "\u001b[36m(launch_and_evaluate pid=15761)\u001b[0m Updated model\n",
      "\u001b[36m(launch_and_evaluate pid=15839)\u001b[0m Run with homomorphic encryption\u001b[32m [repeated 2x across cluster]\u001b[0m\n",
      "\u001b[36m(launch_and_evaluate pid=15786)\u001b[0m [Client 1] evaluate, config: {}\n",
      "\u001b[36m(launch_and_evaluate pid=15786)\u001b[0m Updated model\n",
      "\u001b[36m(launch_and_evaluate pid=15839)\u001b[0m [Client 6] evaluate, config: {}\n",
      "\u001b[36m(launch_and_evaluate pid=15839)\u001b[0m Updated model\n",
      "\u001b[36m(launch_and_evaluate pid=15918)\u001b[0m Run with homomorphic encryption\u001b[32m [repeated 2x across cluster]\u001b[0m\n",
      "\u001b[36m(launch_and_evaluate pid=15864)\u001b[0m [Client 0] evaluate, config: {}\n",
      "\u001b[36m(launch_and_evaluate pid=15864)\u001b[0m Updated model\n",
      "\u001b[36m(launch_and_evaluate pid=15918)\u001b[0m [Client 3] evaluate, config: {}\n",
      "\u001b[36m(launch_and_evaluate pid=15918)\u001b[0m Updated model\n",
      "\u001b[36m(launch_and_evaluate pid=15943)\u001b[0m Run with homomorphic encryption\n"
     ]
    },
    {
     "name": "stderr",
     "output_type": "stream",
     "text": [
      "DEBUG flwr 2024-07-20 20:52:10,652 | server.py:187 | evaluate_round 19 received 10 results and 0 failures\n",
      "DEBUG flwr 2024-07-20 20:52:10,654 | server.py:222 | fit_round 20: strategy sampled 10 clients (out of 10)\n"
     ]
    },
    {
     "name": "stdout",
     "output_type": "stream",
     "text": [
      "\u001b[36m(launch_and_fit pid=16005)\u001b[0m Run with homomorphic encryption\n",
      "\u001b[36m(launch_and_evaluate pid=15943)\u001b[0m [Client 2] evaluate, config: {}\n",
      "\u001b[36m(launch_and_evaluate pid=15943)\u001b[0m Updated model\n",
      "\u001b[36m(launch_and_fit pid=16005)\u001b[0m [Client 9, round 20] fit, config: {'learning_rate': 0.001, 'batch_size': '128', 'server_round': 20, 'local_epochs': 10}\n"
     ]
    },
    {
     "name": "stderr",
     "output_type": "stream",
     "text": [
      "  0%|\u001b[34m          \u001b[0m| 0/10 [00:00<?, ?it/s]\n",
      "100%|\u001b[34m██████████\u001b[0m| 10/10 [01:00<00:00,  6.03s/it]\n"
     ]
    },
    {
     "name": "stdout",
     "output_type": "stream",
     "text": [
      "\u001b[36m(launch_and_fit pid=16005)\u001b[0m Updated model\n"
     ]
    },
    {
     "name": "stderr",
     "output_type": "stream",
     "text": [
      " 10%|\u001b[34m█         \u001b[0m| 1/10 [00:06<00:58,  6.47s/it]\n",
      "  0%|\u001b[34m          \u001b[0m| 0/10 [00:00<?, ?it/s]\n"
     ]
    },
    {
     "name": "stdout",
     "output_type": "stream",
     "text": [
      "\u001b[36m(launch_and_fit pid=16005)\u001b[0m \tTrain Epoch: 1 \tTrain_loss: 0.4663 | Train_acc: 85.3993 % | Validation_loss: 1.4441 | Validation_acc: 65.0121 %\n",
      "\u001b[36m(launch_and_fit pid=16030)\u001b[0m Run with homomorphic encryption\n",
      "\u001b[36m(launch_and_fit pid=16030)\u001b[0m [Client 0, round 20] fit, config: {'learning_rate': 0.001, 'batch_size': '128', 'server_round': 20, 'local_epochs': 10}\n",
      "\u001b[36m(launch_and_fit pid=16030)\u001b[0m Updated model\n"
     ]
    },
    {
     "name": "stderr",
     "output_type": "stream",
     "text": [
      " 20%|\u001b[34m██        \u001b[0m| 2/10 [00:12<00:51,  6.44s/it]\u001b[32m [repeated 2x across cluster]\u001b[0m\n"
     ]
    },
    {
     "name": "stdout",
     "output_type": "stream",
     "text": [
      "\u001b[36m(launch_and_fit pid=16005)\u001b[0m \tTrain Epoch: 2 \tTrain_loss: 0.2677 | Train_acc: 92.2656 % | Validation_loss: 1.3756 | Validation_acc: 65.5981 %\u001b[32m [repeated 2x across cluster]\u001b[0m\n"
     ]
    },
    {
     "name": "stderr",
     "output_type": "stream",
     "text": [
      " 30%|\u001b[34m███       \u001b[0m| 3/10 [00:18<00:43,  6.18s/it]\u001b[32m [repeated 2x across cluster]\u001b[0m\n"
     ]
    },
    {
     "name": "stdout",
     "output_type": "stream",
     "text": [
      "\u001b[36m(launch_and_fit pid=16005)\u001b[0m \tTrain Epoch: 3 \tTrain_loss: 0.1340 | Train_acc: 96.6146 % | Validation_loss: 1.4423 | Validation_acc: 64.6013 %\u001b[32m [repeated 2x across cluster]\u001b[0m\n"
     ]
    },
    {
     "name": "stderr",
     "output_type": "stream",
     "text": [
      " 40%|\u001b[34m████      \u001b[0m| 4/10 [00:24<00:36,  6.03s/it]\u001b[32m [repeated 2x across cluster]\u001b[0m\n"
     ]
    },
    {
     "name": "stdout",
     "output_type": "stream",
     "text": [
      "\u001b[36m(launch_and_fit pid=16005)\u001b[0m \tTrain Epoch: 4 \tTrain_loss: 0.0899 | Train_acc: 98.2856 % | Validation_loss: 1.3579 | Validation_acc: 66.8305 %\u001b[32m [repeated 2x across cluster]\u001b[0m\n"
     ]
    },
    {
     "name": "stderr",
     "output_type": "stream",
     "text": [
      " 50%|\u001b[34m█████     \u001b[0m| 5/10 [00:30<00:29,  5.97s/it]\u001b[32m [repeated 2x across cluster]\u001b[0m\n"
     ]
    },
    {
     "name": "stdout",
     "output_type": "stream",
     "text": [
      "\u001b[36m(launch_and_fit pid=16005)\u001b[0m \tTrain Epoch: 5 \tTrain_loss: 0.0551 | Train_acc: 99.1102 % | Validation_loss: 1.3838 | Validation_acc: 68.2381 %\u001b[32m [repeated 2x across cluster]\u001b[0m\n"
     ]
    },
    {
     "name": "stderr",
     "output_type": "stream",
     "text": [
      " 60%|\u001b[34m██████    \u001b[0m| 6/10 [00:36<00:23,  5.94s/it]\u001b[32m [repeated 2x across cluster]\u001b[0m\n"
     ]
    },
    {
     "name": "stdout",
     "output_type": "stream",
     "text": [
      "\u001b[36m(launch_and_fit pid=16005)\u001b[0m \tTrain Epoch: 6 \tTrain_loss: 0.0510 | Train_acc: 99.3837 % | Validation_loss: 1.4293 | Validation_acc: 65.4634 %\u001b[32m [repeated 2x across cluster]\u001b[0m\n"
     ]
    },
    {
     "name": "stderr",
     "output_type": "stream",
     "text": [
      " 70%|\u001b[34m███████   \u001b[0m| 7/10 [00:42<00:18,  6.01s/it]\u001b[32m [repeated 2x across cluster]\u001b[0m\n"
     ]
    },
    {
     "name": "stdout",
     "output_type": "stream",
     "text": [
      "\u001b[36m(launch_and_fit pid=16005)\u001b[0m \tTrain Epoch: 7 \tTrain_loss: 0.0612 | Train_acc: 98.9931 % | Validation_loss: 1.3960 | Validation_acc: 66.8103 %\u001b[32m [repeated 2x across cluster]\u001b[0m\n"
     ]
    },
    {
     "name": "stderr",
     "output_type": "stream",
     "text": [
      " 80%|\u001b[34m████████  \u001b[0m| 8/10 [00:48<00:11,  5.96s/it]\u001b[32m [repeated 2x across cluster]\u001b[0m\n"
     ]
    },
    {
     "name": "stdout",
     "output_type": "stream",
     "text": [
      "\u001b[36m(launch_and_fit pid=16005)\u001b[0m \tTrain Epoch: 8 \tTrain_loss: 0.0551 | Train_acc: 99.2405 % | Validation_loss: 1.3802 | Validation_acc: 67.1606 %\u001b[32m [repeated 2x across cluster]\u001b[0m\n"
     ]
    },
    {
     "name": "stderr",
     "output_type": "stream",
     "text": [
      " 90%|\u001b[34m█████████ \u001b[0m| 9/10 [00:54<00:05,  5.91s/it]\u001b[32m [repeated 2x across cluster]\u001b[0m\n"
     ]
    },
    {
     "name": "stdout",
     "output_type": "stream",
     "text": [
      "\u001b[36m(launch_and_fit pid=16005)\u001b[0m \tTrain Epoch: 9 \tTrain_loss: 0.0553 | Train_acc: 99.1319 % | Validation_loss: 1.3994 | Validation_acc: 67.1606 %\u001b[32m [repeated 2x across cluster]\u001b[0m\n"
     ]
    },
    {
     "name": "stderr",
     "output_type": "stream",
     "text": [
      "100%|\u001b[34m██████████\u001b[0m| 10/10 [01:00<00:00,  6.04s/it]\u001b[32m [repeated 2x across cluster]\u001b[0m\n"
     ]
    },
    {
     "name": "stdout",
     "output_type": "stream",
     "text": [
      "\u001b[36m(launch_and_fit pid=16005)\u001b[0m save graph in  results/FL/\n",
      "\u001b[36m(launch_and_fit pid=16005)\u001b[0m \tTrain Epoch: 10 \tTrain_loss: 0.0896 | Train_acc: 98.1033 % | Validation_loss: 1.4718 | Validation_acc: 65.1872 %\u001b[32m [repeated 2x across cluster]\u001b[0m\n",
      "\u001b[36m(launch_and_fit pid=16005)\u001b[0m network.0.weight 5.0067901611328125e-06\n",
      "\u001b[36m(launch_and_fit pid=16005)\u001b[0m network.0.bias 1.1920928955078125e-06\n",
      "\u001b[36m(launch_and_fit pid=16005)\u001b[0m network.2.weight 9.5367431640625e-07\n",
      "\u001b[36m(launch_and_fit pid=16005)\u001b[0m network.2.bias 9.5367431640625e-07\n",
      "\u001b[36m(launch_and_fit pid=16005)\u001b[0m network.5.weight 9.5367431640625e-07\n",
      "\u001b[36m(launch_and_fit pid=16005)\u001b[0m network.5.bias 9.5367431640625e-07\n",
      "\u001b[36m(launch_and_fit pid=16005)\u001b[0m network.7.weight 9.5367431640625e-07\n",
      "\u001b[36m(launch_and_fit pid=16005)\u001b[0m network.7.bias 9.5367431640625e-07\n",
      "\u001b[36m(launch_and_fit pid=16005)\u001b[0m network.10.weight 1.1920928955078125e-06\n",
      "\u001b[36m(launch_and_fit pid=16005)\u001b[0m network.10.bias 9.5367431640625e-07\n",
      "\u001b[36m(launch_and_fit pid=16005)\u001b[0m network.12.weight 9.5367431640625e-07\n",
      "\u001b[36m(launch_and_fit pid=16005)\u001b[0m network.12.bias 1.1920928955078125e-06\n",
      "\u001b[36m(launch_and_fit pid=16005)\u001b[0m network.16.weight 9.5367431640625e-07\n",
      "\u001b[36m(launch_and_fit pid=16005)\u001b[0m network.16.bias 9.5367431640625e-07\n",
      "\u001b[36m(launch_and_fit pid=16005)\u001b[0m network.18.weight 1.1920928955078125e-06\n",
      "\u001b[36m(launch_and_fit pid=16005)\u001b[0m network.18.bias 9.5367431640625e-07\n",
      "\u001b[36m(launch_and_fit pid=16005)\u001b[0m network.20.weight 9.5367431640625e-07\n",
      "\u001b[36m(launch_and_fit pid=16005)\u001b[0m network.20.bias 1.1920928955078125e-06\n",
      "\u001b[36m(launch_and_fit pid=16005)\u001b[0m qnn.weights 9.5367431640625e-07\n",
      "\u001b[36m(launch_and_fit pid=16005)\u001b[0m fc4.weight 1.1920928955078125e-06\n",
      "\u001b[36m(launch_and_fit pid=16005)\u001b[0m fc4.bias 9.5367431640625e-07\n",
      "\u001b[36m(launch_and_fit pid=16089)\u001b[0m Run with homomorphic encryption\n",
      "\u001b[36m(launch_and_fit pid=16030)\u001b[0m save graph in  results/FL/\n",
      "\u001b[36m(launch_and_fit pid=16030)\u001b[0m \tTrain Epoch: 10 \tTrain_loss: 0.0298 | Train_acc: 99.6745 % | Validation_loss: 1.2284 | Validation_acc: 69.2753 %\n",
      "\u001b[36m(launch_and_fit pid=16030)\u001b[0m fc4.bias 1.6689300537109375e-06\u001b[32m [repeated 20x across cluster]\u001b[0m\n",
      "\u001b[36m(launch_and_fit pid=16030)\u001b[0m qnn.weights 1.9073486328125e-06\n",
      "\u001b[36m(launch_and_fit pid=16089)\u001b[0m [Client 5, round 20] fit, config: {'learning_rate': 0.001, 'batch_size': '128', 'server_round': 20, 'local_epochs': 10}\n"
     ]
    },
    {
     "name": "stderr",
     "output_type": "stream",
     "text": [
      "  0%|\u001b[34m          \u001b[0m| 0/10 [00:00<?, ?it/s]\n",
      "100%|\u001b[34m██████████\u001b[0m| 10/10 [01:00<00:00,  6.03s/it]\n"
     ]
    },
    {
     "name": "stdout",
     "output_type": "stream",
     "text": [
      "\u001b[36m(launch_and_fit pid=16089)\u001b[0m Updated model\n"
     ]
    },
    {
     "name": "stderr",
     "output_type": "stream",
     "text": [
      " 10%|\u001b[34m█         \u001b[0m| 1/10 [00:06<00:55,  6.18s/it]\n",
      "  0%|\u001b[34m          \u001b[0m| 0/10 [00:00<?, ?it/s]\n"
     ]
    },
    {
     "name": "stdout",
     "output_type": "stream",
     "text": [
      "\u001b[36m(launch_and_fit pid=16089)\u001b[0m \tTrain Epoch: 1 \tTrain_loss: 0.4600 | Train_acc: 86.0460 % | Validation_loss: 1.1857 | Validation_acc: 68.9790 %\n",
      "\u001b[36m(launch_and_fit pid=16113)\u001b[0m Run with homomorphic encryption\n",
      "\u001b[36m(launch_and_fit pid=16113)\u001b[0m [Client 3, round 20] fit, config: {'learning_rate': 0.001, 'batch_size': '128', 'server_round': 20, 'local_epochs': 10}\n",
      "\u001b[36m(launch_and_fit pid=16113)\u001b[0m Updated model\n"
     ]
    },
    {
     "name": "stderr",
     "output_type": "stream",
     "text": [
      " 20%|\u001b[34m██        \u001b[0m| 2/10 [00:11<00:47,  5.89s/it]\u001b[32m [repeated 2x across cluster]\u001b[0m\n"
     ]
    },
    {
     "name": "stdout",
     "output_type": "stream",
     "text": [
      "\u001b[36m(launch_and_fit pid=16089)\u001b[0m \tTrain Epoch: 2 \tTrain_loss: 0.2275 | Train_acc: 93.8455 % | Validation_loss: 1.2226 | Validation_acc: 68.2584 %\u001b[32m [repeated 2x across cluster]\u001b[0m\n"
     ]
    },
    {
     "name": "stderr",
     "output_type": "stream",
     "text": [
      " 30%|\u001b[34m███       \u001b[0m| 3/10 [00:17<00:40,  5.85s/it]\u001b[32m [repeated 2x across cluster]\u001b[0m\n"
     ]
    },
    {
     "name": "stdout",
     "output_type": "stream",
     "text": [
      "\u001b[36m(launch_and_fit pid=16089)\u001b[0m \tTrain Epoch: 3 \tTrain_loss: 0.1722 | Train_acc: 95.7031 % | Validation_loss: 1.3786 | Validation_acc: 67.4569 %\u001b[32m [repeated 2x across cluster]\u001b[0m\n"
     ]
    },
    {
     "name": "stderr",
     "output_type": "stream",
     "text": [
      " 40%|\u001b[34m████      \u001b[0m| 4/10 [00:23<00:34,  5.82s/it]\u001b[32m [repeated 2x across cluster]\u001b[0m\n"
     ]
    },
    {
     "name": "stdout",
     "output_type": "stream",
     "text": [
      "\u001b[36m(launch_and_fit pid=16089)\u001b[0m \tTrain Epoch: 4 \tTrain_loss: 0.1250 | Train_acc: 97.0616 % | Validation_loss: 1.3885 | Validation_acc: 68.6894 %\u001b[32m [repeated 2x across cluster]\u001b[0m\n"
     ]
    },
    {
     "name": "stderr",
     "output_type": "stream",
     "text": [
      " 50%|\u001b[34m█████     \u001b[0m| 5/10 [00:29<00:29,  5.86s/it]\u001b[32m [repeated 2x across cluster]\u001b[0m\n"
     ]
    },
    {
     "name": "stdout",
     "output_type": "stream",
     "text": [
      "\u001b[36m(launch_and_fit pid=16089)\u001b[0m \tTrain Epoch: 5 \tTrain_loss: 0.0882 | Train_acc: 98.3507 % | Validation_loss: 1.2691 | Validation_acc: 68.3526 %\u001b[32m [repeated 2x across cluster]\u001b[0m\n"
     ]
    },
    {
     "name": "stderr",
     "output_type": "stream",
     "text": [
      " 60%|\u001b[34m██████    \u001b[0m| 6/10 [00:35<00:23,  5.85s/it]\u001b[32m [repeated 2x across cluster]\u001b[0m\n"
     ]
    },
    {
     "name": "stdout",
     "output_type": "stream",
     "text": [
      "\u001b[36m(launch_and_fit pid=16089)\u001b[0m \tTrain Epoch: 6 \tTrain_loss: 0.0587 | Train_acc: 99.0668 % | Validation_loss: 1.2778 | Validation_acc: 69.2147 %\u001b[32m [repeated 2x across cluster]\u001b[0m\n"
     ]
    },
    {
     "name": "stderr",
     "output_type": "stream",
     "text": [
      " 70%|\u001b[34m███████   \u001b[0m| 7/10 [00:40<00:17,  5.78s/it]\u001b[32m [repeated 2x across cluster]\u001b[0m\n"
     ]
    },
    {
     "name": "stdout",
     "output_type": "stream",
     "text": [
      "\u001b[36m(launch_and_fit pid=16089)\u001b[0m \tTrain Epoch: 7 \tTrain_loss: 0.0470 | Train_acc: 99.3707 % | Validation_loss: 1.2668 | Validation_acc: 69.4504 %\u001b[32m [repeated 2x across cluster]\u001b[0m\n"
     ]
    },
    {
     "name": "stderr",
     "output_type": "stream",
     "text": [
      " 80%|\u001b[34m████████  \u001b[0m| 8/10 [00:46<00:11,  5.72s/it]\u001b[32m [repeated 2x across cluster]\u001b[0m\n"
     ]
    },
    {
     "name": "stdout",
     "output_type": "stream",
     "text": [
      "\u001b[36m(launch_and_fit pid=16089)\u001b[0m \tTrain Epoch: 8 \tTrain_loss: 0.0384 | Train_acc: 99.5660 % | Validation_loss: 1.2919 | Validation_acc: 70.0364 %\u001b[32m [repeated 2x across cluster]\u001b[0m\n"
     ]
    },
    {
     "name": "stderr",
     "output_type": "stream",
     "text": [
      " 90%|\u001b[34m█████████ \u001b[0m| 9/10 [00:52<00:05,  5.71s/it]\u001b[32m [repeated 2x across cluster]\u001b[0m\n"
     ]
    },
    {
     "name": "stdout",
     "output_type": "stream",
     "text": [
      "\u001b[36m(launch_and_fit pid=16089)\u001b[0m \tTrain Epoch: 9 \tTrain_loss: 0.0319 | Train_acc: 99.6962 % | Validation_loss: 1.3313 | Validation_acc: 69.8209 %\u001b[32m [repeated 2x across cluster]\u001b[0m\n"
     ]
    },
    {
     "name": "stderr",
     "output_type": "stream",
     "text": [
      "100%|\u001b[34m██████████\u001b[0m| 10/10 [00:57<00:00,  5.77s/it]\u001b[32m [repeated 2x across cluster]\u001b[0m\n"
     ]
    },
    {
     "name": "stdout",
     "output_type": "stream",
     "text": [
      "\u001b[36m(launch_and_fit pid=16089)\u001b[0m save graph in  results/FL/\n",
      "\u001b[36m(launch_and_fit pid=16089)\u001b[0m \tTrain Epoch: 10 \tTrain_loss: 0.0278 | Train_acc: 99.6962 % | Validation_loss: 1.2985 | Validation_acc: 70.9927 %\u001b[32m [repeated 2x across cluster]\u001b[0m\n",
      "\u001b[36m(launch_and_fit pid=16089)\u001b[0m network.0.weight 5.7220458984375e-06\n",
      "\u001b[36m(launch_and_fit pid=16089)\u001b[0m network.0.bias 2.384185791015625e-06\n",
      "\u001b[36m(launch_and_fit pid=16089)\u001b[0m network.2.weight 1.1920928955078125e-06\n",
      "\u001b[36m(launch_and_fit pid=16089)\u001b[0m network.2.bias 9.5367431640625e-07\n",
      "\u001b[36m(launch_and_fit pid=16089)\u001b[0m network.5.weight 1.1920928955078125e-06\n",
      "\u001b[36m(launch_and_fit pid=16089)\u001b[0m network.5.bias 9.5367431640625e-07\n",
      "\u001b[36m(launch_and_fit pid=16089)\u001b[0m network.7.weight 1.1920928955078125e-06\n",
      "\u001b[36m(launch_and_fit pid=16089)\u001b[0m network.7.bias 1.430511474609375e-06\n",
      "\u001b[36m(launch_and_fit pid=16089)\u001b[0m network.10.weight 1.1920928955078125e-06\n",
      "\u001b[36m(launch_and_fit pid=16089)\u001b[0m network.10.bias 9.5367431640625e-07\n",
      "\u001b[36m(launch_and_fit pid=16089)\u001b[0m network.12.weight 1.430511474609375e-06\n",
      "\u001b[36m(launch_and_fit pid=16089)\u001b[0m network.12.bias 9.5367431640625e-07\n",
      "\u001b[36m(launch_and_fit pid=16089)\u001b[0m network.16.weight 9.5367431640625e-07\n",
      "\u001b[36m(launch_and_fit pid=16089)\u001b[0m network.16.bias 1.1920928955078125e-06\n",
      "\u001b[36m(launch_and_fit pid=16089)\u001b[0m network.18.weight 1.1920928955078125e-06\n",
      "\u001b[36m(launch_and_fit pid=16089)\u001b[0m network.18.bias 9.5367431640625e-07\n",
      "\u001b[36m(launch_and_fit pid=16089)\u001b[0m network.20.weight 9.5367431640625e-07\n",
      "\u001b[36m(launch_and_fit pid=16089)\u001b[0m network.20.bias 9.5367431640625e-07\n",
      "\u001b[36m(launch_and_fit pid=16089)\u001b[0m qnn.weights 9.5367431640625e-07\n",
      "\u001b[36m(launch_and_fit pid=16089)\u001b[0m fc4.weight 1.1920928955078125e-06\n",
      "\u001b[36m(launch_and_fit pid=16089)\u001b[0m fc4.bias 9.5367431640625e-07\n",
      "\u001b[36m(launch_and_fit pid=16171)\u001b[0m Run with homomorphic encryption\n",
      "\u001b[36m(launch_and_fit pid=16113)\u001b[0m save graph in  results/FL/\n",
      "\u001b[36m(launch_and_fit pid=16113)\u001b[0m \tTrain Epoch: 10 \tTrain_loss: 0.0853 | Train_acc: 98.1988 % | Validation_loss: 1.4245 | Validation_acc: 65.4836 %\n",
      "\u001b[36m(launch_and_fit pid=16113)\u001b[0m fc4.bias 1.430511474609375e-06\u001b[32m [repeated 20x across cluster]\u001b[0m\n",
      "\u001b[36m(launch_and_fit pid=16113)\u001b[0m qnn.weights 9.5367431640625e-07\n",
      "\u001b[36m(launch_and_fit pid=16171)\u001b[0m [Client 2, round 20] fit, config: {'learning_rate': 0.001, 'batch_size': '128', 'server_round': 20, 'local_epochs': 10}\n",
      "\u001b[36m(launch_and_fit pid=16171)\u001b[0m Updated model\n"
     ]
    },
    {
     "name": "stderr",
     "output_type": "stream",
     "text": [
      "  0%|\u001b[34m          \u001b[0m| 0/10 [00:00<?, ?it/s]\n",
      "100%|\u001b[34m██████████\u001b[0m| 10/10 [00:57<00:00,  5.71s/it]\n"
     ]
    },
    {
     "name": "stdout",
     "output_type": "stream",
     "text": [
      "\u001b[36m(launch_and_fit pid=16171)\u001b[0m \tTrain Epoch: 1 \tTrain_loss: 0.4622 | Train_acc: 85.5078 % | Validation_loss: 1.4889 | Validation_acc: 62.1565 %\n",
      "\u001b[36m(launch_and_fit pid=16196)\u001b[0m Run with homomorphic encryption\n",
      "\u001b[36m(launch_and_fit pid=16196)\u001b[0m [Client 1, round 20] fit, config: {'learning_rate': 0.001, 'batch_size': '128', 'server_round': 20, 'local_epochs': 10}\n",
      "\u001b[36m(launch_and_fit pid=16196)\u001b[0m Updated model\n"
     ]
    },
    {
     "name": "stderr",
     "output_type": "stream",
     "text": [
      " 10%|\u001b[34m█         \u001b[0m| 1/10 [00:06<00:56,  6.23s/it]\n",
      "  0%|\u001b[34m          \u001b[0m| 0/10 [00:00<?, ?it/s]\n"
     ]
    },
    {
     "name": "stdout",
     "output_type": "stream",
     "text": [
      "\u001b[36m(launch_and_fit pid=16171)\u001b[0m \tTrain Epoch: 2 \tTrain_loss: 0.2196 | Train_acc: 94.0929 % | Validation_loss: 1.6226 | Validation_acc: 62.1767 %\u001b[32m [repeated 2x across cluster]\u001b[0m\n"
     ]
    },
    {
     "name": "stderr",
     "output_type": "stream",
     "text": [
      " 20%|\u001b[34m██        \u001b[0m| 2/10 [00:11<00:47,  5.94s/it]\u001b[32m [repeated 2x across cluster]\u001b[0m\n"
     ]
    },
    {
     "name": "stdout",
     "output_type": "stream",
     "text": [
      "\u001b[36m(launch_and_fit pid=16171)\u001b[0m \tTrain Epoch: 3 \tTrain_loss: 0.1944 | Train_acc: 95.0087 % | Validation_loss: 1.4798 | Validation_acc: 63.3688 %\u001b[32m [repeated 2x across cluster]\u001b[0m\n"
     ]
    },
    {
     "name": "stderr",
     "output_type": "stream",
     "text": [
      " 30%|\u001b[34m███       \u001b[0m| 3/10 [00:17<00:40,  5.78s/it]\u001b[32m [repeated 2x across cluster]\u001b[0m\n"
     ]
    },
    {
     "name": "stdout",
     "output_type": "stream",
     "text": [
      "\u001b[36m(launch_and_fit pid=16171)\u001b[0m \tTrain Epoch: 4 \tTrain_loss: 0.1182 | Train_acc: 97.3958 % | Validation_loss: 1.5614 | Validation_acc: 64.5205 %\u001b[32m [repeated 2x across cluster]\u001b[0m\n"
     ]
    },
    {
     "name": "stderr",
     "output_type": "stream",
     "text": [
      " 40%|\u001b[34m████      \u001b[0m| 4/10 [00:23<00:35,  5.85s/it]\u001b[32m [repeated 2x across cluster]\u001b[0m\n"
     ]
    },
    {
     "name": "stdout",
     "output_type": "stream",
     "text": [
      "\u001b[36m(launch_and_fit pid=16171)\u001b[0m \tTrain Epoch: 5 \tTrain_loss: 0.0817 | Train_acc: 98.4505 % | Validation_loss: 1.5054 | Validation_acc: 64.1905 %\u001b[32m [repeated 2x across cluster]\u001b[0m\n"
     ]
    },
    {
     "name": "stderr",
     "output_type": "stream",
     "text": [
      " 50%|\u001b[34m█████     \u001b[0m| 5/10 [00:29<00:28,  5.73s/it]\u001b[32m [repeated 2x across cluster]\u001b[0m\n"
     ]
    },
    {
     "name": "stdout",
     "output_type": "stream",
     "text": [
      "\u001b[36m(launch_and_fit pid=16171)\u001b[0m \tTrain Epoch: 6 \tTrain_loss: 0.0656 | Train_acc: 98.7847 % | Validation_loss: 1.6757 | Validation_acc: 62.3114 %\u001b[32m [repeated 2x across cluster]\u001b[0m\n"
     ]
    },
    {
     "name": "stderr",
     "output_type": "stream",
     "text": [
      " 60%|\u001b[34m██████    \u001b[0m| 6/10 [00:34<00:22,  5.71s/it]\u001b[32m [repeated 2x across cluster]\u001b[0m\n"
     ]
    },
    {
     "name": "stdout",
     "output_type": "stream",
     "text": [
      "\u001b[36m(launch_and_fit pid=16171)\u001b[0m \tTrain Epoch: 7 \tTrain_loss: 0.0573 | Train_acc: 99.1753 % | Validation_loss: 1.5786 | Validation_acc: 64.7158 %\u001b[32m [repeated 2x across cluster]\u001b[0m\n"
     ]
    },
    {
     "name": "stderr",
     "output_type": "stream",
     "text": [
      " 70%|\u001b[34m███████   \u001b[0m| 7/10 [00:40<00:17,  5.73s/it]\u001b[32m [repeated 2x across cluster]\u001b[0m\n"
     ]
    },
    {
     "name": "stdout",
     "output_type": "stream",
     "text": [
      "\u001b[36m(launch_and_fit pid=16171)\u001b[0m \tTrain Epoch: 8 \tTrain_loss: 0.0474 | Train_acc: 99.2318 % | Validation_loss: 1.4826 | Validation_acc: 65.5374 %\u001b[32m [repeated 2x across cluster]\u001b[0m\n"
     ]
    },
    {
     "name": "stderr",
     "output_type": "stream",
     "text": [
      " 80%|\u001b[34m████████  \u001b[0m| 8/10 [00:46<00:11,  5.71s/it]\u001b[32m [repeated 2x across cluster]\u001b[0m\n"
     ]
    },
    {
     "name": "stdout",
     "output_type": "stream",
     "text": [
      "\u001b[36m(launch_and_fit pid=16171)\u001b[0m \tTrain Epoch: 9 \tTrain_loss: 0.0471 | Train_acc: 99.4575 % | Validation_loss: 1.6311 | Validation_acc: 62.5876 %\u001b[32m [repeated 2x across cluster]\u001b[0m\n"
     ]
    },
    {
     "name": "stderr",
     "output_type": "stream",
     "text": [
      " 90%|\u001b[34m█████████ \u001b[0m| 9/10 [00:52<00:05,  5.77s/it]\u001b[32m [repeated 2x across cluster]\u001b[0m\n"
     ]
    },
    {
     "name": "stdout",
     "output_type": "stream",
     "text": [
      "\u001b[36m(launch_and_fit pid=16171)\u001b[0m save graph in  results/FL/\n",
      "\u001b[36m(launch_and_fit pid=16171)\u001b[0m \tTrain Epoch: 10 \tTrain_loss: 0.0470 | Train_acc: 99.1884 % | Validation_loss: 1.7024 | Validation_acc: 61.3955 %\u001b[32m [repeated 2x across cluster]\u001b[0m\n"
     ]
    },
    {
     "name": "stderr",
     "output_type": "stream",
     "text": [
      "100%|\u001b[34m██████████\u001b[0m| 10/10 [00:57<00:00,  5.78s/it]\u001b[32m [repeated 2x across cluster]\u001b[0m\n"
     ]
    },
    {
     "name": "stdout",
     "output_type": "stream",
     "text": [
      "\u001b[36m(launch_and_fit pid=16171)\u001b[0m network.0.weight 5.245208740234375e-06\n",
      "\u001b[36m(launch_and_fit pid=16171)\u001b[0m network.0.bias 1.430511474609375e-06\n",
      "\u001b[36m(launch_and_fit pid=16171)\u001b[0m network.2.weight 1.1920928955078125e-06\n",
      "\u001b[36m(launch_and_fit pid=16171)\u001b[0m network.2.bias 9.5367431640625e-07\n",
      "\u001b[36m(launch_and_fit pid=16171)\u001b[0m network.5.weight 1.430511474609375e-06\n",
      "\u001b[36m(launch_and_fit pid=16171)\u001b[0m network.5.bias 9.5367431640625e-07\n",
      "\u001b[36m(launch_and_fit pid=16171)\u001b[0m network.7.weight 1.1920928955078125e-06\n",
      "\u001b[36m(launch_and_fit pid=16171)\u001b[0m network.7.bias 9.5367431640625e-07\n",
      "\u001b[36m(launch_and_fit pid=16171)\u001b[0m network.10.weight 1.430511474609375e-06\n",
      "\u001b[36m(launch_and_fit pid=16171)\u001b[0m network.10.bias 1.1920928955078125e-06\n",
      "\u001b[36m(launch_and_fit pid=16171)\u001b[0m network.12.weight 1.1920928955078125e-06\n",
      "\u001b[36m(launch_and_fit pid=16171)\u001b[0m network.12.bias 9.5367431640625e-07\n",
      "\u001b[36m(launch_and_fit pid=16171)\u001b[0m network.16.weight 1.9073486328125e-06\n",
      "\u001b[36m(launch_and_fit pid=16171)\u001b[0m network.16.bias 1.1920928955078125e-06\n",
      "\u001b[36m(launch_and_fit pid=16171)\u001b[0m network.18.weight 9.5367431640625e-07\n",
      "\u001b[36m(launch_and_fit pid=16171)\u001b[0m network.18.bias 9.5367431640625e-07\n",
      "\u001b[36m(launch_and_fit pid=16171)\u001b[0m network.20.weight 1.9073486328125e-06\n",
      "\u001b[36m(launch_and_fit pid=16171)\u001b[0m network.20.bias 1.1920928955078125e-06\n",
      "\u001b[36m(launch_and_fit pid=16171)\u001b[0m qnn.weights 1.1920928955078125e-06\n",
      "\u001b[36m(launch_and_fit pid=16171)\u001b[0m fc4.weight 1.430511474609375e-06\n",
      "\u001b[36m(launch_and_fit pid=16171)\u001b[0m fc4.bias 1.430511474609375e-06\n",
      "\u001b[36m(launch_and_fit pid=16253)\u001b[0m Run with homomorphic encryption\n",
      "\u001b[36m(launch_and_fit pid=16196)\u001b[0m save graph in  results/FL/\n",
      "\u001b[36m(launch_and_fit pid=16196)\u001b[0m \tTrain Epoch: 10 \tTrain_loss: 0.0255 | Train_acc: 99.7396 % | Validation_loss: 1.4457 | Validation_acc: 65.1872 %\n",
      "\u001b[36m(launch_and_fit pid=16196)\u001b[0m fc4.bias 9.5367431640625e-07\u001b[32m [repeated 20x across cluster]\u001b[0m\n",
      "\u001b[36m(launch_and_fit pid=16196)\u001b[0m qnn.weights 1.1920928955078125e-06\n",
      "\u001b[36m(launch_and_fit pid=16253)\u001b[0m [Client 4, round 20] fit, config: {'learning_rate': 0.001, 'batch_size': '128', 'server_round': 20, 'local_epochs': 10}\n",
      "\u001b[36m(launch_and_fit pid=16253)\u001b[0m Updated model\n"
     ]
    },
    {
     "name": "stderr",
     "output_type": "stream",
     "text": [
      "  0%|\u001b[34m          \u001b[0m| 0/10 [00:00<?, ?it/s]\n",
      "100%|\u001b[34m██████████\u001b[0m| 10/10 [00:58<00:00,  5.83s/it]\n",
      " 10%|\u001b[34m█         \u001b[0m| 1/10 [00:06<00:55,  6.21s/it]\n",
      "  0%|\u001b[34m          \u001b[0m| 0/10 [00:00<?, ?it/s]\n"
     ]
    },
    {
     "name": "stdout",
     "output_type": "stream",
     "text": [
      "\u001b[36m(launch_and_fit pid=16253)\u001b[0m \tTrain Epoch: 1 \tTrain_loss: 0.4659 | Train_acc: 85.4688 % | Validation_loss: 1.5004 | Validation_acc: 63.6045 %\n",
      "\u001b[36m(launch_and_fit pid=16278)\u001b[0m Run with homomorphic encryption\n",
      "\u001b[36m(launch_and_fit pid=16278)\u001b[0m [Client 6, round 20] fit, config: {'learning_rate': 0.001, 'batch_size': '128', 'server_round': 20, 'local_epochs': 10}\n",
      "\u001b[36m(launch_and_fit pid=16278)\u001b[0m Updated model\n"
     ]
    },
    {
     "name": "stderr",
     "output_type": "stream",
     "text": [
      " 20%|\u001b[34m██        \u001b[0m| 2/10 [00:12<00:48,  6.10s/it]\u001b[32m [repeated 2x across cluster]\u001b[0m\n"
     ]
    },
    {
     "name": "stdout",
     "output_type": "stream",
     "text": [
      "\u001b[36m(launch_and_fit pid=16253)\u001b[0m \tTrain Epoch: 2 \tTrain_loss: 0.2805 | Train_acc: 92.2135 % | Validation_loss: 1.4395 | Validation_acc: 64.6619 %\u001b[32m [repeated 2x across cluster]\u001b[0m\n"
     ]
    },
    {
     "name": "stderr",
     "output_type": "stream",
     "text": [
      " 30%|\u001b[34m███       \u001b[0m| 3/10 [00:17<00:41,  5.92s/it]\u001b[32m [repeated 2x across cluster]\u001b[0m\n"
     ]
    },
    {
     "name": "stdout",
     "output_type": "stream",
     "text": [
      "\u001b[36m(launch_and_fit pid=16253)\u001b[0m \tTrain Epoch: 3 \tTrain_loss: 0.1521 | Train_acc: 96.4627 % | Validation_loss: 1.4202 | Validation_acc: 65.4230 %\u001b[32m [repeated 2x across cluster]\u001b[0m\n"
     ]
    },
    {
     "name": "stderr",
     "output_type": "stream",
     "text": [
      " 40%|\u001b[34m████      \u001b[0m| 4/10 [00:23<00:34,  5.80s/it]\u001b[32m [repeated 2x across cluster]\u001b[0m\n"
     ]
    },
    {
     "name": "stdout",
     "output_type": "stream",
     "text": [
      "\u001b[36m(launch_and_fit pid=16253)\u001b[0m \tTrain Epoch: 4 \tTrain_loss: 0.0903 | Train_acc: 98.4158 % | Validation_loss: 1.5123 | Validation_acc: 64.8370 %\u001b[32m [repeated 2x across cluster]\u001b[0m\n"
     ]
    },
    {
     "name": "stderr",
     "output_type": "stream",
     "text": [
      " 50%|\u001b[34m█████     \u001b[0m| 5/10 [00:29<00:28,  5.80s/it]\u001b[32m [repeated 2x across cluster]\u001b[0m\n"
     ]
    },
    {
     "name": "stdout",
     "output_type": "stream",
     "text": [
      "\u001b[36m(launch_and_fit pid=16253)\u001b[0m \tTrain Epoch: 5 \tTrain_loss: 0.0568 | Train_acc: 99.1536 % | Validation_loss: 1.5149 | Validation_acc: 64.6013 %\u001b[32m [repeated 2x across cluster]\u001b[0m\n"
     ]
    },
    {
     "name": "stderr",
     "output_type": "stream",
     "text": [
      " 60%|\u001b[34m██████    \u001b[0m| 6/10 [00:35<00:23,  5.79s/it]\u001b[32m [repeated 2x across cluster]\u001b[0m\n"
     ]
    },
    {
     "name": "stdout",
     "output_type": "stream",
     "text": [
      "\u001b[36m(launch_and_fit pid=16253)\u001b[0m \tTrain Epoch: 6 \tTrain_loss: 0.0421 | Train_acc: 99.5009 % | Validation_loss: 1.4949 | Validation_acc: 64.3858 %\u001b[32m [repeated 2x across cluster]\u001b[0m\n"
     ]
    },
    {
     "name": "stderr",
     "output_type": "stream",
     "text": [
      " 70%|\u001b[34m███████   \u001b[0m| 7/10 [00:40<00:17,  5.76s/it]\u001b[32m [repeated 2x across cluster]\u001b[0m\n"
     ]
    },
    {
     "name": "stdout",
     "output_type": "stream",
     "text": [
      "\u001b[36m(launch_and_fit pid=16253)\u001b[0m \tTrain Epoch: 7 \tTrain_loss: 0.0374 | Train_acc: 99.4792 % | Validation_loss: 1.5289 | Validation_acc: 65.2478 %\u001b[32m [repeated 2x across cluster]\u001b[0m\n"
     ]
    },
    {
     "name": "stderr",
     "output_type": "stream",
     "text": [
      " 80%|\u001b[34m████████  \u001b[0m| 8/10 [00:46<00:11,  5.81s/it]\u001b[32m [repeated 2x across cluster]\u001b[0m\n"
     ]
    },
    {
     "name": "stdout",
     "output_type": "stream",
     "text": [
      "\u001b[36m(launch_and_fit pid=16253)\u001b[0m \tTrain Epoch: 8 \tTrain_loss: 0.0323 | Train_acc: 99.6528 % | Validation_loss: 1.5145 | Validation_acc: 64.8168 %\u001b[32m [repeated 2x across cluster]\u001b[0m\n"
     ]
    },
    {
     "name": "stderr",
     "output_type": "stream",
     "text": [
      " 90%|\u001b[34m█████████ \u001b[0m| 9/10 [00:52<00:05,  5.83s/it]\u001b[32m [repeated 2x across cluster]\u001b[0m\n"
     ]
    },
    {
     "name": "stdout",
     "output_type": "stream",
     "text": [
      "\u001b[36m(launch_and_fit pid=16253)\u001b[0m \tTrain Epoch: 9 \tTrain_loss: 0.0278 | Train_acc: 99.7396 % | Validation_loss: 1.5671 | Validation_acc: 64.2309 %\u001b[32m [repeated 2x across cluster]\u001b[0m\n"
     ]
    },
    {
     "name": "stderr",
     "output_type": "stream",
     "text": [
      "100%|\u001b[34m██████████\u001b[0m| 10/10 [00:58<00:00,  5.84s/it]\u001b[32m [repeated 2x across cluster]\u001b[0m\n"
     ]
    },
    {
     "name": "stdout",
     "output_type": "stream",
     "text": [
      "\u001b[36m(launch_and_fit pid=16253)\u001b[0m save graph in  results/FL/\n",
      "\u001b[36m(launch_and_fit pid=16253)\u001b[0m \tTrain Epoch: 10 \tTrain_loss: 0.0255 | Train_acc: 99.7613 % | Validation_loss: 1.5308 | Validation_acc: 65.2276 %\u001b[32m [repeated 2x across cluster]\u001b[0m\n",
      "\u001b[36m(launch_and_fit pid=16253)\u001b[0m network.0.weight 5.7220458984375e-06\n",
      "\u001b[36m(launch_and_fit pid=16253)\u001b[0m network.0.bias 1.6689300537109375e-06\n",
      "\u001b[36m(launch_and_fit pid=16253)\u001b[0m network.2.weight 1.1920928955078125e-06\n",
      "\u001b[36m(launch_and_fit pid=16253)\u001b[0m network.2.bias 1.1920928955078125e-06\n",
      "\u001b[36m(launch_and_fit pid=16253)\u001b[0m network.5.weight 9.5367431640625e-07\n",
      "\u001b[36m(launch_and_fit pid=16253)\u001b[0m network.5.bias 1.1920928955078125e-06\n",
      "\u001b[36m(launch_and_fit pid=16253)\u001b[0m network.7.weight 9.5367431640625e-07\n",
      "\u001b[36m(launch_and_fit pid=16253)\u001b[0m network.7.bias 9.5367431640625e-07\n",
      "\u001b[36m(launch_and_fit pid=16253)\u001b[0m network.10.weight 1.430511474609375e-06\n",
      "\u001b[36m(launch_and_fit pid=16253)\u001b[0m network.10.bias 1.1920928955078125e-06\n",
      "\u001b[36m(launch_and_fit pid=16253)\u001b[0m network.12.weight 1.1920928955078125e-06\n",
      "\u001b[36m(launch_and_fit pid=16253)\u001b[0m network.12.bias 1.1920928955078125e-06\n",
      "\u001b[36m(launch_and_fit pid=16253)\u001b[0m network.16.weight 9.5367431640625e-07\n",
      "\u001b[36m(launch_and_fit pid=16253)\u001b[0m network.16.bias 1.1920928955078125e-06\n",
      "\u001b[36m(launch_and_fit pid=16253)\u001b[0m network.18.weight 9.5367431640625e-07\n",
      "\u001b[36m(launch_and_fit pid=16253)\u001b[0m network.18.bias 9.5367431640625e-07\n",
      "\u001b[36m(launch_and_fit pid=16253)\u001b[0m network.20.weight 1.1920928955078125e-06\n",
      "\u001b[36m(launch_and_fit pid=16253)\u001b[0m network.20.bias 9.5367431640625e-07\n",
      "\u001b[36m(launch_and_fit pid=16253)\u001b[0m qnn.weights 1.430511474609375e-06\n",
      "\u001b[36m(launch_and_fit pid=16253)\u001b[0m fc4.weight 1.1920928955078125e-06\n",
      "\u001b[36m(launch_and_fit pid=16253)\u001b[0m fc4.bias 9.5367431640625e-07\n",
      "\u001b[36m(launch_and_fit pid=16335)\u001b[0m Run with homomorphic encryption\n",
      "\u001b[36m(launch_and_fit pid=16278)\u001b[0m save graph in  results/FL/\n",
      "\u001b[36m(launch_and_fit pid=16278)\u001b[0m \tTrain Epoch: 10 \tTrain_loss: 0.0245 | Train_acc: 99.7613 % | Validation_loss: 1.2794 | Validation_acc: 68.3526 %\n",
      "\u001b[36m(launch_and_fit pid=16278)\u001b[0m fc4.bias 1.1920928955078125e-06\u001b[32m [repeated 20x across cluster]\u001b[0m\n",
      "\u001b[36m(launch_and_fit pid=16278)\u001b[0m qnn.weights 9.5367431640625e-07\n",
      "\u001b[36m(launch_and_fit pid=16335)\u001b[0m [Client 7, round 20] fit, config: {'learning_rate': 0.001, 'batch_size': '128', 'server_round': 20, 'local_epochs': 10}\n",
      "\u001b[36m(launch_and_fit pid=16335)\u001b[0m Updated model\n"
     ]
    },
    {
     "name": "stderr",
     "output_type": "stream",
     "text": [
      "  0%|\u001b[34m          \u001b[0m| 0/10 [00:00<?, ?it/s]\n",
      "100%|\u001b[34m██████████\u001b[0m| 10/10 [00:58<00:00,  5.87s/it]\n"
     ]
    },
    {
     "name": "stdout",
     "output_type": "stream",
     "text": [
      "\u001b[36m(launch_and_fit pid=16335)\u001b[0m \tTrain Epoch: 1 \tTrain_loss: 0.4323 | Train_acc: 86.8446 % | Validation_loss: 1.1328 | Validation_acc: 69.2147 %\n",
      "\u001b[36m(launch_and_fit pid=16360)\u001b[0m Run with homomorphic encryption\n",
      "\u001b[36m(launch_and_fit pid=16360)\u001b[0m [Client 8, round 20] fit, config: {'learning_rate': 0.001, 'batch_size': '128', 'server_round': 20, 'local_epochs': 10}\n",
      "\u001b[36m(launch_and_fit pid=16360)\u001b[0m Updated model\n"
     ]
    },
    {
     "name": "stderr",
     "output_type": "stream",
     "text": [
      " 10%|\u001b[34m█         \u001b[0m| 1/10 [00:06<00:58,  6.50s/it]\n",
      "  0%|\u001b[34m          \u001b[0m| 0/10 [00:00<?, ?it/s]\n"
     ]
    },
    {
     "name": "stdout",
     "output_type": "stream",
     "text": [
      "\u001b[36m(launch_and_fit pid=16335)\u001b[0m \tTrain Epoch: 2 \tTrain_loss: 0.2009 | Train_acc: 94.3056 % | Validation_loss: 1.2159 | Validation_acc: 67.4367 %\u001b[32m [repeated 2x across cluster]\u001b[0m\n"
     ]
    },
    {
     "name": "stderr",
     "output_type": "stream",
     "text": [
      " 20%|\u001b[34m██        \u001b[0m| 2/10 [00:12<00:48,  6.03s/it]\u001b[32m [repeated 2x across cluster]\u001b[0m\n"
     ]
    },
    {
     "name": "stdout",
     "output_type": "stream",
     "text": [
      "\u001b[36m(launch_and_fit pid=16335)\u001b[0m \tTrain Epoch: 3 \tTrain_loss: 0.1297 | Train_acc: 97.0269 % | Validation_loss: 1.2681 | Validation_acc: 68.8039 %\u001b[32m [repeated 2x across cluster]\u001b[0m\n"
     ]
    },
    {
     "name": "stderr",
     "output_type": "stream",
     "text": [
      " 30%|\u001b[34m███       \u001b[0m| 3/10 [00:17<00:41,  5.88s/it]\u001b[32m [repeated 2x across cluster]\u001b[0m\n"
     ]
    },
    {
     "name": "stdout",
     "output_type": "stream",
     "text": [
      "\u001b[36m(launch_and_fit pid=16335)\u001b[0m \tTrain Epoch: 4 \tTrain_loss: 0.0885 | Train_acc: 98.3507 % | Validation_loss: 1.2465 | Validation_acc: 68.5143 %\u001b[32m [repeated 2x across cluster]\u001b[0m\n"
     ]
    },
    {
     "name": "stderr",
     "output_type": "stream",
     "text": [
      " 40%|\u001b[34m████      \u001b[0m| 4/10 [00:23<00:35,  5.83s/it]\u001b[32m [repeated 2x across cluster]\u001b[0m\n"
     ]
    },
    {
     "name": "stdout",
     "output_type": "stream",
     "text": [
      "\u001b[36m(launch_and_fit pid=16335)\u001b[0m \tTrain Epoch: 5 \tTrain_loss: 0.0713 | Train_acc: 98.7630 % | Validation_loss: 1.2930 | Validation_acc: 68.7298 %\u001b[32m [repeated 2x across cluster]\u001b[0m\n"
     ]
    },
    {
     "name": "stderr",
     "output_type": "stream",
     "text": [
      " 50%|\u001b[34m█████     \u001b[0m| 5/10 [00:29<00:28,  5.75s/it]\u001b[32m [repeated 2x across cluster]\u001b[0m\n"
     ]
    },
    {
     "name": "stdout",
     "output_type": "stream",
     "text": [
      "\u001b[36m(launch_and_fit pid=16335)\u001b[0m \tTrain Epoch: 6 \tTrain_loss: 0.0687 | Train_acc: 98.8064 % | Validation_loss: 1.3445 | Validation_acc: 66.9114 %\u001b[32m [repeated 2x across cluster]\u001b[0m\n"
     ]
    },
    {
     "name": "stderr",
     "output_type": "stream",
     "text": [
      " 60%|\u001b[34m██████    \u001b[0m| 6/10 [00:35<00:23,  5.88s/it]\u001b[32m [repeated 2x across cluster]\u001b[0m\n"
     ]
    },
    {
     "name": "stdout",
     "output_type": "stream",
     "text": [
      "\u001b[36m(launch_and_fit pid=16335)\u001b[0m \tTrain Epoch: 7 \tTrain_loss: 0.0527 | Train_acc: 99.1536 % | Validation_loss: 1.3318 | Validation_acc: 66.9316 %\u001b[32m [repeated 2x across cluster]\u001b[0m\n"
     ]
    },
    {
     "name": "stderr",
     "output_type": "stream",
     "text": [
      " 70%|\u001b[34m███████   \u001b[0m| 7/10 [00:41<00:17,  5.88s/it]\u001b[32m [repeated 2x across cluster]\u001b[0m\n"
     ]
    },
    {
     "name": "stdout",
     "output_type": "stream",
     "text": [
      "\u001b[36m(launch_and_fit pid=16335)\u001b[0m \tTrain Epoch: 8 \tTrain_loss: 0.0476 | Train_acc: 99.3056 % | Validation_loss: 1.2961 | Validation_acc: 66.8508 %\u001b[32m [repeated 2x across cluster]\u001b[0m\n"
     ]
    },
    {
     "name": "stderr",
     "output_type": "stream",
     "text": [
      " 80%|\u001b[34m████████  \u001b[0m| 8/10 [00:46<00:11,  5.82s/it]\u001b[32m [repeated 2x across cluster]\u001b[0m\n"
     ]
    },
    {
     "name": "stdout",
     "output_type": "stream",
     "text": [
      "\u001b[36m(launch_and_fit pid=16335)\u001b[0m \tTrain Epoch: 9 \tTrain_loss: 0.0518 | Train_acc: 99.0061 % | Validation_loss: 1.2934 | Validation_acc: 67.0057 %\u001b[32m [repeated 2x across cluster]\u001b[0m\n"
     ]
    },
    {
     "name": "stderr",
     "output_type": "stream",
     "text": [
      " 90%|\u001b[34m█████████ \u001b[0m| 9/10 [00:52<00:05,  5.84s/it]\u001b[32m [repeated 2x across cluster]\u001b[0m\n"
     ]
    },
    {
     "name": "stdout",
     "output_type": "stream",
     "text": [
      "\u001b[36m(launch_and_fit pid=16335)\u001b[0m save graph in  results/FL/\n",
      "\u001b[36m(launch_and_fit pid=16335)\u001b[0m \tTrain Epoch: 10 \tTrain_loss: 0.1048 | Train_acc: 97.5825 % | Validation_loss: 1.3760 | Validation_acc: 65.7732 %\u001b[32m [repeated 2x across cluster]\u001b[0m\n"
     ]
    },
    {
     "name": "stderr",
     "output_type": "stream",
     "text": [
      "100%|\u001b[34m██████████\u001b[0m| 10/10 [00:58<00:00,  5.86s/it]\u001b[32m [repeated 2x across cluster]\u001b[0m\n",
      "DEBUG flwr 2024-07-20 20:58:26,674 | server.py:236 | fit_round 20 received 10 results and 0 failures\n"
     ]
    },
    {
     "name": "stdout",
     "output_type": "stream",
     "text": [
      "\u001b[36m(launch_and_fit pid=16335)\u001b[0m network.0.weight 4.5299530029296875e-06\n",
      "\u001b[36m(launch_and_fit pid=16335)\u001b[0m network.0.bias 1.6689300537109375e-06\n",
      "\u001b[36m(launch_and_fit pid=16335)\u001b[0m network.2.weight 9.5367431640625e-07\n",
      "\u001b[36m(launch_and_fit pid=16335)\u001b[0m network.2.bias 1.430511474609375e-06\n",
      "\u001b[36m(launch_and_fit pid=16335)\u001b[0m network.5.weight 1.1920928955078125e-06\n",
      "\u001b[36m(launch_and_fit pid=16335)\u001b[0m network.5.bias 9.5367431640625e-07\n",
      "\u001b[36m(launch_and_fit pid=16335)\u001b[0m network.7.weight 9.5367431640625e-07\n",
      "\u001b[36m(launch_and_fit pid=16335)\u001b[0m network.7.bias 1.1920928955078125e-06\n",
      "\u001b[36m(launch_and_fit pid=16335)\u001b[0m network.10.weight 1.1920928955078125e-06\n",
      "\u001b[36m(launch_and_fit pid=16335)\u001b[0m network.10.bias 1.1920928955078125e-06\n",
      "\u001b[36m(launch_and_fit pid=16335)\u001b[0m network.12.weight 1.1920928955078125e-06\n",
      "\u001b[36m(launch_and_fit pid=16335)\u001b[0m network.12.bias 1.1920928955078125e-06\n",
      "\u001b[36m(launch_and_fit pid=16335)\u001b[0m network.16.weight 9.5367431640625e-07\n",
      "\u001b[36m(launch_and_fit pid=16335)\u001b[0m network.16.bias 9.5367431640625e-07\n",
      "\u001b[36m(launch_and_fit pid=16335)\u001b[0m network.18.weight 9.5367431640625e-07\n",
      "\u001b[36m(launch_and_fit pid=16335)\u001b[0m network.18.bias 1.1920928955078125e-06\n",
      "\u001b[36m(launch_and_fit pid=16335)\u001b[0m network.20.weight 9.5367431640625e-07\n",
      "\u001b[36m(launch_and_fit pid=16335)\u001b[0m network.20.bias 9.5367431640625e-07\n",
      "\u001b[36m(launch_and_fit pid=16335)\u001b[0m qnn.weights 9.5367431640625e-07\n",
      "\u001b[36m(launch_and_fit pid=16335)\u001b[0m fc4.weight 1.430511474609375e-06\n",
      "\u001b[36m(launch_and_fit pid=16335)\u001b[0m fc4.bias 1.1920928955078125e-06\n",
      "Saving round 20 aggregated_parameters...\n"
     ]
    },
    {
     "name": "stderr",
     "output_type": "stream",
     "text": [
      "DEBUG flwr 2024-07-20 20:58:27,647 | server.py:173 | evaluate_round 20: strategy sampled 10 clients (out of 10)\n"
     ]
    },
    {
     "name": "stdout",
     "output_type": "stream",
     "text": [
      "\u001b[36m(launch_and_evaluate pid=16426)\u001b[0m Run with homomorphic encryption\n",
      "\u001b[36m(launch_and_fit pid=16360)\u001b[0m save graph in  results/FL/\n",
      "\u001b[36m(launch_and_fit pid=16360)\u001b[0m \tTrain Epoch: 10 \tTrain_loss: 0.0349 | Train_acc: 99.5443 % | Validation_loss: 1.5543 | Validation_acc: 62.8839 %\n",
      "\u001b[36m(launch_and_fit pid=16360)\u001b[0m fc4.bias 9.5367431640625e-07\u001b[32m [repeated 20x across cluster]\u001b[0m\n",
      "\u001b[36m(launch_and_fit pid=16360)\u001b[0m qnn.weights 1.1920928955078125e-06\n",
      "\u001b[36m(launch_and_evaluate pid=16426)\u001b[0m [Client 4] evaluate, config: {}\n",
      "\u001b[36m(launch_and_evaluate pid=16426)\u001b[0m Updated model\n",
      "\u001b[36m(launch_and_evaluate pid=16504)\u001b[0m Run with homomorphic encryption\u001b[32m [repeated 2x across cluster]\u001b[0m\n",
      "\u001b[36m(launch_and_evaluate pid=16450)\u001b[0m [Client 9] evaluate, config: {}\n",
      "\u001b[36m(launch_and_evaluate pid=16450)\u001b[0m Updated model\n",
      "\u001b[36m(launch_and_evaluate pid=16504)\u001b[0m [Client 7] evaluate, config: {}\n",
      "\u001b[36m(launch_and_evaluate pid=16504)\u001b[0m Updated model\n",
      "\u001b[36m(launch_and_evaluate pid=16583)\u001b[0m Run with homomorphic encryption\u001b[32m [repeated 2x across cluster]\u001b[0m\n",
      "\u001b[36m(launch_and_evaluate pid=16529)\u001b[0m [Client 2] evaluate, config: {}\n",
      "\u001b[36m(launch_and_evaluate pid=16529)\u001b[0m Updated model\n",
      "\u001b[36m(launch_and_evaluate pid=16583)\u001b[0m [Client 1] evaluate, config: {}\n",
      "\u001b[36m(launch_and_evaluate pid=16583)\u001b[0m Updated model\n",
      "\u001b[36m(launch_and_evaluate pid=16661)\u001b[0m Run with homomorphic encryption\u001b[32m [repeated 2x across cluster]\u001b[0m\n",
      "\u001b[36m(launch_and_evaluate pid=16608)\u001b[0m [Client 6] evaluate, config: {}\n",
      "\u001b[36m(launch_and_evaluate pid=16608)\u001b[0m Updated model\n",
      "\u001b[36m(launch_and_evaluate pid=16661)\u001b[0m [Client 5] evaluate, config: {}\n",
      "\u001b[36m(launch_and_evaluate pid=16661)\u001b[0m Updated model\n",
      "\u001b[36m(launch_and_evaluate pid=16739)\u001b[0m Run with homomorphic encryption\u001b[32m [repeated 2x across cluster]\u001b[0m\n",
      "\u001b[36m(launch_and_evaluate pid=16686)\u001b[0m [Client 0] evaluate, config: {}\n",
      "\u001b[36m(launch_and_evaluate pid=16686)\u001b[0m Updated model\n",
      "\u001b[36m(launch_and_evaluate pid=16739)\u001b[0m [Client 8] evaluate, config: {}\n",
      "\u001b[36m(launch_and_evaluate pid=16739)\u001b[0m Updated model\n"
     ]
    },
    {
     "name": "stderr",
     "output_type": "stream",
     "text": [
      "DEBUG flwr 2024-07-20 20:59:55,607 | server.py:187 | evaluate_round 20 received 10 results and 0 failures\n",
      "INFO flwr 2024-07-20 20:59:55,608 | server.py:153 | FL finished in 9383.614635152\n",
      "INFO flwr 2024-07-20 20:59:55,610 | app.py:225 | app_fit: losses_distributed [(1, 2.307106244564056), (2, 2.0629005551338198), (3, 1.8193733513355255), (4, 1.6992797046899795), (5, 1.5555591493844987), (6, 1.426588699221611), (7, 1.3294930011034012), (8, 1.2714183151721954), (9, 1.2361434906721116), (10, 1.2020004659891128), (11, 1.1654235884547233), (12, 1.1527339175343514), (13, 1.152300263941288), (14, 1.1629431203007699), (15, 1.177843576669693), (16, 1.1877837210893631), (17, 1.1992099046707154), (18, 1.200714160501957), (19, 1.2303918093442916), (20, 1.2434457585215568)]\n",
      "INFO flwr 2024-07-20 20:59:55,611 | app.py:226 | app_fit: metrics_distributed_fit {}\n",
      "INFO flwr 2024-07-20 20:59:55,611 | app.py:227 | app_fit: metrics_distributed {'accuracy': [(1, 10.191271551724137), (2, 18.584994612068964), (3, 27.421875), (4, 33.18224676724138), (5, 41.44665948275862), (6, 48.752020474137936), (7, 53.46780711206897), (8, 56.71605603448275), (9, 60.28286637931035), (10, 62.318157327586206), (11, 65.10775862068964), (12, 65.99946120689654), (13, 66.88914331896552), (14, 67.63806573275863), (15, 68.44154094827586), (16, 68.87324892241381), (17, 69.09819504310346), (18, 69.94073275862067), (19, 70.05455280172414), (20, 70.12661637931033)]}\n",
      "INFO flwr 2024-07-20 20:59:55,612 | app.py:228 | app_fit: losses_centralized []\n",
      "INFO flwr 2024-07-20 20:59:55,613 | app.py:229 | app_fit: metrics_centralized {}\n"
     ]
    },
    {
     "name": "stdout",
     "output_type": "stream",
     "text": [
      "Simulation Time = 9389.21954035759 seconds\n"
     ]
    }
   ],
   "source": [
    "import warnings\n",
    "warnings.simplefilter(\"ignore\")\n",
    "\n",
    "print(\"flwr\", fl.__version__)\n",
    "print(\"numpy\", np.__version__)\n",
    "print(\"torch\", torch.__version__)\n",
    "print(\"torchvision\", torchvision.__version__)\n",
    "print(f\"Training on {DEVICE}\")\n",
    "\n",
    "client_resources = None\n",
    "\n",
    "if DEVICE.type == \"cuda\":\n",
    "    client_resources = {\"num_gpus\": 1}\n",
    "\n",
    "model_save = model_save\n",
    "path_yaml = yaml_path\n",
    "path_roc = roc_path\n",
    "results_save = save_results\n",
    "path_matrix = matrix_path\n",
    "batch_size = batch_size\n",
    "he = he\n",
    "secret_path = 'secret.pkl'\n",
    "server_path = 'secret.pkl'\n",
    "path_crypted = 'server.pkl'\n",
    "\n",
    "print(\"Start simulation\")\n",
    "start_simulation = time.time()\n",
    "fl.simulation.start_simulation(\n",
    "    client_fn=client_fn,\n",
    "    num_clients=number_clients,\n",
    "    config=fl.server.ServerConfig(num_rounds=rounds),\n",
    "    strategy=strategy,\n",
    "    client_resources=client_resources\n",
    ")\n",
    "print(f\"Simulation Time = {time.time() - start_simulation} seconds\")"
   ]
  }
 ],
 "metadata": {
  "kernelspec": {
   "display_name": "fl_env",
   "language": "python",
   "name": "python3"
  },
  "language_info": {
   "codemirror_mode": {
    "name": "ipython",
    "version": 3
   },
   "file_extension": ".py",
   "mimetype": "text/x-python",
   "name": "python",
   "nbconvert_exporter": "python",
   "pygments_lexer": "ipython3",
   "version": "3.10.12"
  }
 },
 "nbformat": 4,
 "nbformat_minor": 2
}
